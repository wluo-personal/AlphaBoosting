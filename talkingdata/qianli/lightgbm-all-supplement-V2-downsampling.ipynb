{
 "cells": [
  {
   "cell_type": "code",
   "execution_count": 5,
   "metadata": {
    "collapsed": true
   },
   "outputs": [],
   "source": [
    "import pandas as pd\n",
    "import lightgbm as lgb\n",
    "import numpy as np\n",
    "import gc"
   ]
  },
  {
   "cell_type": "code",
   "execution_count": 6,
   "metadata": {
    "collapsed": true
   },
   "outputs": [],
   "source": [
    "dtypes = {\n",
    "        'app'           : 'uint16',\n",
    "        'device'        : 'uint16',\n",
    "        'os'            : 'uint16',\n",
    "        'channel'       : 'uint16',\n",
    "        'hour'          : 'uint8',\n",
    "        'is_attributed' : 'uint8', \n",
    "        'ip_day_hour_count': 'uint32', \n",
    "        'ip_os_day_hour_count': 'uint32', \n",
    "        'ip_app_day_hour_count': 'uint32', \n",
    "        'ip_app_os_day_hour_count': 'uint32', \n",
    "        'app_day_hour_count': 'uint32', \n",
    "        'ip_device_os_count': 'uint32', \n",
    "        'ip_app_device_os_count': 'uint32', \n",
    "        'ip_device_os_mean': 'float32',\n",
    "        'ip_app_device_os_mean': 'float32',\n",
    "        'ip_app_device_mean': 'float32',\n",
    "        'app_device_os_mean': 'float32',\n",
    "        'ip_device_os_time2nextclick': 'int32',\n",
    "        'ip_app_device_os_time2nextclick': 'int32',\n",
    "        'ip_app_device_time2nextclick': 'int32',\n",
    "        'ip_device_os_time2previousclick': 'int32',\n",
    "        'ip_app_device_os_time2previousclick': 'int32',\n",
    "        'ip_app_device_time2previousclick': 'int32',\n",
    "        'ip_device_os_countfromfuture': 'uint32', \n",
    "        'ip_app_device_os_countfromfuture': 'uint32', \n",
    "        'ip_app_device_countfromfuture': 'uint32', \n",
    "        'ip_device_os_countfrompast': 'uint32', \n",
    "        'ip_app_device_os_countfrompast': 'uint32', \n",
    "        'ip_app_device_countfrompast': 'uint32', \n",
    "        'ip_device_os_lasttimediff': 'int32',\n",
    "        'ip_app_device_os_lasttimediff': 'int32',\n",
    "        'ip_app_device_lasttimediff': 'int32',\n",
    "        'ip_device_os_firsttimediff': 'int32',\n",
    "        'ip_app_device_os_firsttimediff': 'int32',\n",
    "        'ip_app_device_firsttimediff': 'int32',\n",
    "        'matrixFact_user_iposdeviceapp_item_app': 'float32',\n",
    "        'matrixFact_user_ip_item_appdeviceos': 'float32',\n",
    "        'matrixFact_user_ipchannel_item_appdeviceos': 'float32',\n",
    "        'ip_device_os_regression': 'float32',\n",
    "        'ip_app_device_os_regression': 'float32',\n",
    "        'ip_app_device_regression': 'float32',\n",
    "        'ip_app_device_os_channel_regression': 'float32', \n",
    "        'attributed_timediffmax':'int32',\n",
    "        'attributed_timediffmin':'int32',\n",
    "        'attributed_timediff':'float32',\n",
    "        'matrixFact_user_ipappdeviceos_item_channel': 'float32'\n",
    "    \n",
    "        } "
   ]
  },
  {
   "cell_type": "code",
   "execution_count": 3,
   "metadata": {},
   "outputs": [
    {
     "ename": "ArrowIOError",
     "evalue": "Failed to open local file: /home/kai/talkingdata/data/jchen/day7compressed_features_supplementV1.ftr , error: No such file or directory",
     "output_type": "error",
     "traceback": [
      "\u001b[0;31m---------------------------------------------------------------------------\u001b[0m",
      "\u001b[0;31mArrowIOError\u001b[0m                              Traceback (most recent call last)",
      "\u001b[0;32m<ipython-input-3-7f0b8db56940>\u001b[0m in \u001b[0;36m<module>\u001b[0;34m()\u001b[0m\n\u001b[1;32m      6\u001b[0m \u001b[0mdf_dict\u001b[0m \u001b[0;34m=\u001b[0m \u001b[0;34m{\u001b[0m\u001b[0;34m}\u001b[0m\u001b[0;34m\u001b[0m\u001b[0m\n\u001b[1;32m      7\u001b[0m \u001b[0;32mfor\u001b[0m \u001b[0mfile\u001b[0m \u001b[0;32min\u001b[0m \u001b[0;34m[\u001b[0m\u001b[0;34m'day7'\u001b[0m\u001b[0;34m,\u001b[0m \u001b[0;34m'day8'\u001b[0m\u001b[0;34m,\u001b[0m \u001b[0;34m'day9'\u001b[0m\u001b[0;34m,\u001b[0m\u001b[0;34m'test'\u001b[0m\u001b[0;34m]\u001b[0m\u001b[0;34m:\u001b[0m\u001b[0;34m\u001b[0m\u001b[0m\n\u001b[0;32m----> 8\u001b[0;31m     \u001b[0mdf_dict\u001b[0m\u001b[0;34m[\u001b[0m\u001b[0mfile\u001b[0m\u001b[0;34m]\u001b[0m \u001b[0;34m=\u001b[0m \u001b[0mpd\u001b[0m\u001b[0;34m.\u001b[0m\u001b[0mread_feather\u001b[0m\u001b[0;34m(\u001b[0m\u001b[0mload_path\u001b[0m\u001b[0;34m+\u001b[0m\u001b[0mfile_format\u001b[0m\u001b[0;34m.\u001b[0m\u001b[0mformat\u001b[0m\u001b[0;34m(\u001b[0m\u001b[0mfile\u001b[0m\u001b[0;34m)\u001b[0m\u001b[0;34m)\u001b[0m\u001b[0;34m\u001b[0m\u001b[0m\n\u001b[0m\u001b[1;32m      9\u001b[0m \u001b[0;31m#     df_extra[file] = pd.read_csv(load_path+'{}_features_supplementV2_extra_timediff.csv'.format(file),dtype=dtypes)\u001b[0m\u001b[0;34m\u001b[0m\u001b[0;34m\u001b[0m\u001b[0m\n\u001b[1;32m     10\u001b[0m     \u001b[0mprint\u001b[0m\u001b[0;34m(\u001b[0m\u001b[0mfile_format\u001b[0m\u001b[0;34m.\u001b[0m\u001b[0mformat\u001b[0m\u001b[0;34m(\u001b[0m\u001b[0mfile\u001b[0m\u001b[0;34m)\u001b[0m\u001b[0;34m)\u001b[0m\u001b[0;34m\u001b[0m\u001b[0m\n",
      "\u001b[0;32m~/anaconda3/lib/python3.6/site-packages/pandas/io/feather_format.py\u001b[0m in \u001b[0;36mread_feather\u001b[0;34m(path)\u001b[0m\n\u001b[1;32m    100\u001b[0m \u001b[0;34m\u001b[0m\u001b[0m\n\u001b[1;32m    101\u001b[0m     \u001b[0mfeather\u001b[0m \u001b[0;34m=\u001b[0m \u001b[0m_try_import\u001b[0m\u001b[0;34m(\u001b[0m\u001b[0;34m)\u001b[0m\u001b[0;34m\u001b[0m\u001b[0m\n\u001b[0;32m--> 102\u001b[0;31m     \u001b[0;32mreturn\u001b[0m \u001b[0mfeather\u001b[0m\u001b[0;34m.\u001b[0m\u001b[0mread_dataframe\u001b[0m\u001b[0;34m(\u001b[0m\u001b[0mpath\u001b[0m\u001b[0;34m)\u001b[0m\u001b[0;34m\u001b[0m\u001b[0m\n\u001b[0m",
      "\u001b[0;32m~/anaconda3/lib/python3.6/site-packages/pyarrow/feather.py\u001b[0m in \u001b[0;36mread_feather\u001b[0;34m(source, columns, nthreads)\u001b[0m\n\u001b[1;32m    129\u001b[0m     \u001b[0mdf\u001b[0m \u001b[0;34m:\u001b[0m \u001b[0mpandas\u001b[0m\u001b[0;34m.\u001b[0m\u001b[0mDataFrame\u001b[0m\u001b[0;34m\u001b[0m\u001b[0m\n\u001b[1;32m    130\u001b[0m     \"\"\"\n\u001b[0;32m--> 131\u001b[0;31m     \u001b[0mreader\u001b[0m \u001b[0;34m=\u001b[0m \u001b[0mFeatherReader\u001b[0m\u001b[0;34m(\u001b[0m\u001b[0msource\u001b[0m\u001b[0;34m)\u001b[0m\u001b[0;34m\u001b[0m\u001b[0m\n\u001b[0m\u001b[1;32m    132\u001b[0m     \u001b[0;32mreturn\u001b[0m \u001b[0mreader\u001b[0m\u001b[0;34m.\u001b[0m\u001b[0mread\u001b[0m\u001b[0;34m(\u001b[0m\u001b[0mcolumns\u001b[0m\u001b[0;34m=\u001b[0m\u001b[0mcolumns\u001b[0m\u001b[0;34m,\u001b[0m \u001b[0mnthreads\u001b[0m\u001b[0;34m=\u001b[0m\u001b[0mnthreads\u001b[0m\u001b[0;34m)\u001b[0m\u001b[0;34m\u001b[0m\u001b[0m\n",
      "\u001b[0;32m~/anaconda3/lib/python3.6/site-packages/pyarrow/feather.py\u001b[0m in \u001b[0;36m__init__\u001b[0;34m(self, source)\u001b[0m\n\u001b[1;32m     41\u001b[0m     \u001b[0;32mdef\u001b[0m \u001b[0m__init__\u001b[0m\u001b[0;34m(\u001b[0m\u001b[0mself\u001b[0m\u001b[0;34m,\u001b[0m \u001b[0msource\u001b[0m\u001b[0;34m)\u001b[0m\u001b[0;34m:\u001b[0m\u001b[0;34m\u001b[0m\u001b[0m\n\u001b[1;32m     42\u001b[0m         \u001b[0mself\u001b[0m\u001b[0;34m.\u001b[0m\u001b[0msource\u001b[0m \u001b[0;34m=\u001b[0m \u001b[0msource\u001b[0m\u001b[0;34m\u001b[0m\u001b[0m\n\u001b[0;32m---> 43\u001b[0;31m         \u001b[0mself\u001b[0m\u001b[0;34m.\u001b[0m\u001b[0mopen\u001b[0m\u001b[0;34m(\u001b[0m\u001b[0msource\u001b[0m\u001b[0;34m)\u001b[0m\u001b[0;34m\u001b[0m\u001b[0m\n\u001b[0m\u001b[1;32m     44\u001b[0m \u001b[0;34m\u001b[0m\u001b[0m\n\u001b[1;32m     45\u001b[0m     \u001b[0;32mdef\u001b[0m \u001b[0mread\u001b[0m\u001b[0;34m(\u001b[0m\u001b[0mself\u001b[0m\u001b[0;34m,\u001b[0m \u001b[0mcolumns\u001b[0m\u001b[0;34m=\u001b[0m\u001b[0;32mNone\u001b[0m\u001b[0;34m,\u001b[0m \u001b[0mnthreads\u001b[0m\u001b[0;34m=\u001b[0m\u001b[0;36m1\u001b[0m\u001b[0;34m)\u001b[0m\u001b[0;34m:\u001b[0m\u001b[0;34m\u001b[0m\u001b[0m\n",
      "\u001b[0;32mfeather.pxi\u001b[0m in \u001b[0;36mpyarrow.lib.FeatherReader.open\u001b[0;34m()\u001b[0m\n",
      "\u001b[0;32mio.pxi\u001b[0m in \u001b[0;36mpyarrow.lib.get_reader\u001b[0;34m()\u001b[0m\n",
      "\u001b[0;32mio.pxi\u001b[0m in \u001b[0;36mpyarrow.lib.memory_map\u001b[0;34m()\u001b[0m\n",
      "\u001b[0;32mio.pxi\u001b[0m in \u001b[0;36mpyarrow.lib.MemoryMappedFile._open\u001b[0;34m()\u001b[0m\n",
      "\u001b[0;32merror.pxi\u001b[0m in \u001b[0;36mpyarrow.lib.check_status\u001b[0;34m()\u001b[0m\n",
      "\u001b[0;31mArrowIOError\u001b[0m: Failed to open local file: /home/kai/talkingdata/data/jchen/day7compressed_features_supplementV1.ftr , error: No such file or directory"
     ]
    }
   ],
   "source": [
    "load_path = '/home/kai/talkingdata/data/jchen/'\n",
    "# file_format = '{}_features_supplementV1.ftr'\n",
    "file_format = '{}compressed_features_supplementV1.ftr'\n",
    "\n",
    "day_list = ['day7', 'day8', 'day9']\n",
    "df_dict = {}\n",
    "for file in ['day7', 'day8', 'day9','test']: \n",
    "    df_dict[file] = pd.read_feather(load_path+file_format.format(file))\n",
    "#     df_extra[file] = pd.read_csv(load_path+'{}_features_supplementV2_extra_timediff.csv'.format(file),dtype=dtypes)\n",
    "    print(file_format.format(file))\n",
    "\n",
    "# df_dict['test'] = pd.read_feather(load_path + 'testcompressed_features_supplementV1.ftr')\n",
    "# print('test done')\n",
    "# df_extra['test'] =  pd.read_csv(load_path+'test_equalhoursV2_features_supplementV2_extra_timediff.csv',dtype=dtypes)\n",
    "val_day = 'day9'\n",
    "    "
   ]
  },
  {
   "cell_type": "markdown",
   "metadata": {},
   "source": [
    "# Negative downsampling"
   ]
  },
  {
   "cell_type": "code",
   "execution_count": 19,
   "metadata": {},
   "outputs": [
    {
     "name": "stdout",
     "output_type": "stream",
     "text": [
      "day7\n",
      "(59558018, 39)\n",
      "(147530, 39)\n",
      "(152082, 39)\n",
      "day8\n",
      "(62209634, 39)\n",
      "(154099, 39)\n",
      "(151366, 39)\n",
      "day9\n",
      "(62679392, 39)\n",
      "(155262, 39)\n",
      "(153398, 39)\n"
     ]
    },
    {
     "data": {
      "text/plain": [
       "150"
      ]
     },
     "execution_count": 19,
     "metadata": {},
     "output_type": "execute_result"
    }
   ],
   "source": [
    "for day in day_list:\n",
    "    \n",
    "# for day in ['day7']:\n",
    "    print(day)\n",
    "# day = 'day7'\n",
    "    day_data = df_dict[day]\n",
    "    neg = day_data.loc[day_data['is_attributed']==0]\n",
    "    print(neg.shape)\n",
    "    pos = day_data.loc[day_data['is_attributed']==1]\n",
    "    neg = neg.sample(frac=1/403.7, replace=True)\n",
    "    print(neg.shape)\n",
    "    print(pos.shape)\n",
    "    df_dict[day] = pd.concat([neg,pos])\n",
    "\n",
    "del day_data\n",
    "del neg\n",
    "del pos\n",
    "gc.collect()"
   ]
  },
  {
   "cell_type": "code",
   "execution_count": 21,
   "metadata": {},
   "outputs": [
    {
     "name": "stdout",
     "output_type": "stream",
     "text": [
      "(299612, 39)\n",
      "(305465, 39)\n"
     ]
    }
   ],
   "source": [
    "print(df_dict['day7'].shape)\n",
    "print(df_dict['day8'].shape)"
   ]
  },
  {
   "cell_type": "code",
   "execution_count": 22,
   "metadata": {
    "collapsed": true
   },
   "outputs": [],
   "source": [
    "# for day in  ['day7', 'day8', 'day9', ]:\n",
    "#     print(day)\n",
    "#     for col in df_dict['day7'].columns:\n",
    "#         if col in dtypes.keys():\n",
    "#             df_dict[day][col] = df_dict[day][col].astype(dtypes[col])\n",
    "\n",
    "# for col in df_dict['test'].columns:\n",
    "#     if col in dtypes.keys():\n",
    "#         df_dict['test'][col] = df_dict['test'][col].astype(dtypes[col])\n",
    "            \n",
    "# #### saving\n",
    "\n",
    "# for day in  ['day7', 'day8', 'day9', 'test']:\n",
    "#     file_name = load_path + file_format.format(day+'compressed')\n",
    "#     print(file_name)\n",
    "#     df_dict[day].to_feather(file_name)"
   ]
  },
  {
   "cell_type": "markdown",
   "metadata": {},
   "source": [
    "# define parameter"
   ]
  },
  {
   "cell_type": "code",
   "execution_count": 23,
   "metadata": {
    "collapsed": true
   },
   "outputs": [],
   "source": [
    "target = 'is_attributed'\n",
    "\n",
    "day_list = ['day7', 'day8', 'day9']\n",
    "\n",
    "combine = 0\n",
    "params = {\n",
    "        'objective': 'binary',\n",
    "        'boosting': 'gbdt',\n",
    "        'num_rounds': 4000,\n",
    "        'learning_rate': 0.1,\n",
    "        'num_leaves': 61,\n",
    "        'num_threads': 16, # best speed: set to number of real cpu cores, which is vCPU/2\n",
    "        'device': 'cpu',\n",
    "        'max_depth': -1, # no limit. This is used to deal with over-fitting when #data is small.\n",
    "        'min_data_in_leaf': 390,  #minimal number of data in one leaf. Can be used to deal with over-fitting\n",
    "        'feature_fraction': 0.7, #For example, if set to 0.8, will select 80% features before training each tree.  speed up training / deal with over-fitting\n",
    "        'feature_fraction_seed': 1,\n",
    "        'early_stopping_round':60,\n",
    "        'bagging_fraction': 0.7, #Randomly select part of data without resampling\n",
    "        'bagging_freq': 1, #frequency for bagging, 0 means disable bagging. k means will perform bagging at every k iteration. to enable bagging, bagging_fraction should be set as well\n",
    "        'bagging_seed': 1,\n",
    "        'verbose': 0,\n",
    "        'scale_pos_weight': 1,\n",
    "        'metric' : [ 'auc']\n",
    "    }\n",
    "\n",
    "categorical_col = [ 'app', 'device', 'os', 'channel', 'hour']\n",
    "feature_cols = list(df_dict['test'].columns.values)"
   ]
  },
  {
   "cell_type": "code",
   "execution_count": 24,
   "metadata": {
    "collapsed": true
   },
   "outputs": [],
   "source": [
    "def train_lightgbm(x_train, x_val, feature_cols, categorical_feature, params, best_round = None, target='is_attributed'):\n",
    "    param = params.copy()\n",
    "    y_train = x_train[target].values\n",
    "    y_val = x_val[target].values\n",
    "    \n",
    "    lgb_train = lgb.Dataset(x_train[feature_cols], y_train, categorical_feature = categorical_feature)\n",
    "    lgb_val = lgb.Dataset(x_val[feature_cols], y_val, categorical_feature = categorical_feature)\n",
    "    if best_round is not None:\n",
    "        param['num_rounds'] = best_round\n",
    "        del param['early_stopping_round']\n",
    "    print('start training')\n",
    "    model = lgb.train(param, train_set=lgb_train, valid_sets=lgb_val, verbose_eval=10)\n",
    "    return model"
   ]
  },
  {
   "cell_type": "code",
   "execution_count": 25,
   "metadata": {},
   "outputs": [
    {
     "name": "stdout",
     "output_type": "stream",
     "text": [
      "concat_day7day8_val_day9_allday_supplement_V2_attributediff_noreg.npy\n",
      "building train val done!\n",
      "start training\n"
     ]
    },
    {
     "name": "stderr",
     "output_type": "stream",
     "text": [
      "/home/kai/anaconda3/lib/python3.6/site-packages/lightgbm/engine.py:99: UserWarning: Found `num_rounds` in params. Will use it instead of argument\n",
      "  warnings.warn(\"Found `{}` in params. Will use it instead of argument\".format(alias))\n",
      "/home/kai/anaconda3/lib/python3.6/site-packages/lightgbm/engine.py:104: UserWarning: Found `early_stopping_round` in params. Will use it instead of argument\n",
      "  warnings.warn(\"Found `{}` in params. Will use it instead of argument\".format(alias))\n",
      "/home/kai/anaconda3/lib/python3.6/site-packages/lightgbm/basic.py:1027: UserWarning: Using categorical_feature in Dataset.\n",
      "  warnings.warn('Using categorical_feature in Dataset.')\n",
      "/home/kai/anaconda3/lib/python3.6/site-packages/lightgbm/basic.py:668: UserWarning: categorical_feature in param dict is overrided.\n",
      "  warnings.warn('categorical_feature in param dict is overrided.')\n"
     ]
    },
    {
     "name": "stdout",
     "output_type": "stream",
     "text": [
      "Training until validation scores don't improve for 60 rounds.\n",
      "[10]\tvalid_0's auc: 0.9773\n",
      "[20]\tvalid_0's auc: 0.978931\n",
      "[30]\tvalid_0's auc: 0.980189\n",
      "[40]\tvalid_0's auc: 0.981165\n",
      "[50]\tvalid_0's auc: 0.981846\n",
      "[60]\tvalid_0's auc: 0.982163\n",
      "[70]\tvalid_0's auc: 0.982397\n",
      "[80]\tvalid_0's auc: 0.982562\n",
      "[90]\tvalid_0's auc: 0.982649\n",
      "[100]\tvalid_0's auc: 0.982702\n",
      "[110]\tvalid_0's auc: 0.98275\n",
      "[120]\tvalid_0's auc: 0.982789\n",
      "[130]\tvalid_0's auc: 0.982791\n",
      "[140]\tvalid_0's auc: 0.982825\n",
      "[150]\tvalid_0's auc: 0.982815\n",
      "[160]\tvalid_0's auc: 0.982819\n",
      "[170]\tvalid_0's auc: 0.982838\n",
      "[180]\tvalid_0's auc: 0.982853\n",
      "[190]\tvalid_0's auc: 0.982846\n",
      "[200]\tvalid_0's auc: 0.982844\n",
      "[210]\tvalid_0's auc: 0.982833\n",
      "[220]\tvalid_0's auc: 0.982823\n",
      "[230]\tvalid_0's auc: 0.982824\n",
      "[240]\tvalid_0's auc: 0.982821\n",
      "Early stopping, best iteration is:\n",
      "[180]\tvalid_0's auc: 0.982853\n",
      "start training\n",
      "[10]\tvalid_0's auc: 0.978105\n",
      "[20]\tvalid_0's auc: 0.98018\n",
      "[30]\tvalid_0's auc: 0.981559\n",
      "[40]\tvalid_0's auc: 0.982767\n",
      "[50]\tvalid_0's auc: 0.983526\n",
      "[60]\tvalid_0's auc: 0.984079\n",
      "[70]\tvalid_0's auc: 0.984506\n",
      "[80]\tvalid_0's auc: 0.984841\n",
      "[90]\tvalid_0's auc: 0.985147\n",
      "[100]\tvalid_0's auc: 0.985393\n",
      "[110]\tvalid_0's auc: 0.985607\n",
      "[120]\tvalid_0's auc: 0.985808\n",
      "[130]\tvalid_0's auc: 0.985981\n",
      "[140]\tvalid_0's auc: 0.986156\n",
      "[150]\tvalid_0's auc: 0.986324\n",
      "[160]\tvalid_0's auc: 0.986478\n",
      "[170]\tvalid_0's auc: 0.986621\n",
      "[180]\tvalid_0's auc: 0.986746\n",
      "loading file done!\n",
      "predicting file done!\n"
     ]
    }
   ],
   "source": [
    "# for day in day_list:\n",
    "for day in ['day9']:\n",
    "# for day in ['day7', 'day8']:\n",
    "    train_day = list(set(day_list)-set([day]))\n",
    "    file_name = 'concat_{}{}_val_{}_allday_supplement_V2_attributediff_noreg.npy'.format(train_day[0],train_day[1],day)\n",
    "    print(file_name)\n",
    "    trainset = pd.concat([df_dict[train_day[0]],df_dict[train_day[1]]])\n",
    "    valset = df_dict[val_day]\n",
    "    print('building train val done!')\n",
    "    \n",
    "    model = train_lightgbm(trainset, valset, feature_cols, categorical_col, params)\n",
    "    best_round = model.best_iteration\n",
    "#     best_round=163\n",
    "    \n",
    "    df_all = pd.concat([trainset, valset])\n",
    "    del trainset\n",
    "    gc.collect()\n",
    "    model = train_lightgbm(df_all, valset, feature_cols, categorical_col, params, best_round)\n",
    "    del df_all\n",
    "    gc.collect()\n",
    "    \n",
    "    pred = model.predict(df_dict['test'][feature_cols])\n",
    "    np.save(load_path+file_name, pred)\n",
    "    \n",
    "    # prediction\n",
    "    df_test_raw = pd.read_csv('/home/kai/talkingdata/data/test.csv')\n",
    "    print('loading file done!')\n",
    "    df_sub = pd.DataFrame()\n",
    "    df_sub['click_id'] = df_test_raw['click_id']\n",
    "    df_sub['is_attributed'] = pred\n",
    "    print('predicting file done!')\n",
    "    df_sub.to_csv('/home/kai/talkingdata/data/jchen/submission/concat_{}{}_val_{}_allday_supplement_V2_downsampling_bestround_{}_attributediff_noreg.csv.gz'.format(train_day[0],\\\n",
    "    train_day[1],day,best_round), compression='gzip', index=False)\n",
    "\n",
    "    "
   ]
  },
  {
   "cell_type": "code",
   "execution_count": null,
   "metadata": {
    "collapsed": true
   },
   "outputs": [],
   "source": [
    "# appe = pd.read_csv('/home/kai/talkingdata/data/jchen/submission/concat_day8day7_val_day9_allday_supplement_V2_bestround_163_attributediff_noreg.csv.gz')\n",
    "# zindex = np.load('/home/kai/talkingdata/data/idx_to_0.npy')\n",
    "# appe.loc[zindex, 'is_attributed'] = 0\n",
    "# print('start saving')\n",
    "# appe.to_csv('/home/kai/talkingdata/data/jchen/submission/zeroconcat_day8day7_val_day9_allday_supplement_V2_bestround_163_attributediff_noreg.csv.gz',compression='gzip', index=False)"
   ]
  }
 ],
 "metadata": {
  "kernelspec": {
   "display_name": "Python 3",
   "language": "python",
   "name": "python3"
  },
  "language_info": {
   "codemirror_mode": {
    "name": "ipython",
    "version": 3
   },
   "file_extension": ".py",
   "mimetype": "text/x-python",
   "name": "python",
   "nbconvert_exporter": "python",
   "pygments_lexer": "ipython3",
   "version": "3.6.3"
  },
  "varInspector": {
   "cols": {
    "lenName": 16,
    "lenType": 16,
    "lenVar": 40
   },
   "kernels_config": {
    "python": {
     "delete_cmd_postfix": "",
     "delete_cmd_prefix": "del ",
     "library": "var_list.py",
     "varRefreshCmd": "print(var_dic_list())"
    },
    "r": {
     "delete_cmd_postfix": ") ",
     "delete_cmd_prefix": "rm(",
     "library": "var_list.r",
     "varRefreshCmd": "cat(var_dic_list()) "
    }
   },
   "types_to_exclude": [
    "module",
    "function",
    "builtin_function_or_method",
    "instance",
    "_Feature"
   ],
   "window_display": false
  }
 },
 "nbformat": 4,
 "nbformat_minor": 2
}
