{
 "cells": [
  {
   "cell_type": "code",
   "execution_count": 1,
   "metadata": {
    "ExecuteTime": {
     "end_time": "2018-06-07T19:02:48.765449Z",
     "start_time": "2018-06-07T19:02:48.334110Z"
    },
    "collapsed": true
   },
   "outputs": [],
   "source": [
    "import pandas as pd\n",
    "import lightgbm as lgb\n",
    "import numpy as np\n",
    "import gc\n",
    "import os"
   ]
  },
  {
   "cell_type": "code",
   "execution_count": 2,
   "metadata": {
    "ExecuteTime": {
     "end_time": "2018-06-07T19:02:48.772191Z",
     "start_time": "2018-06-07T19:02:48.767621Z"
    }
   },
   "outputs": [
    {
     "name": "stdout",
     "output_type": "stream",
     "text": [
      "sup read done\n"
     ]
    }
   ],
   "source": [
    "# Load test_sup and find index\n",
    "load_path = '/home/kai/data/kaggle/talkingdata/4thplace/'                     \n",
    "print('sup read done')\n",
    "with open('./log.txt', 'w') as f: f.write('start\\n')"
   ]
  },
  {
   "cell_type": "code",
   "execution_count": 3,
   "metadata": {
    "ExecuteTime": {
     "end_time": "2018-06-07T19:02:58.012690Z",
     "start_time": "2018-06-07T19:02:48.773721Z"
    },
    "scrolled": true
   },
   "outputs": [
    {
     "name": "stdout",
     "output_type": "stream",
     "text": [
      "train(downsampled) done\n",
      "val done\n"
     ]
    }
   ],
   "source": [
    "load_path = '/home/kai/data/kaggle/talkingdata/4thplace/'\n",
    "file_format = '{}.ftr'\n",
    "train = pd.read_feather(load_path + '0.ftr')\n",
    "    \n",
    "print('train(downsampled) done')\n",
    "val = pd.read_feather(load_path + 'val_cleaned.ftr')\n",
    "print('val done')"
   ]
  },
  {
   "cell_type": "code",
   "execution_count": 4,
   "metadata": {
    "ExecuteTime": {
     "end_time": "2018-06-07T19:02:58.042318Z",
     "start_time": "2018-06-07T19:02:58.014458Z"
    }
   },
   "outputs": [
    {
     "name": "stdout",
     "output_type": "stream",
     "text": [
      "83\n"
     ]
    }
   ],
   "source": [
    "import random as rn\n",
    "import os\n",
    "\n",
    "target = 'is_attributed'\n",
    "os.environ['PYTHONHASHSEED'] = '0'\n",
    "seed = 2018\n",
    "np.random.seed(seed)\n",
    "rn.seed(seed)\n",
    "params = {\n",
    "        'objective': 'binary',\n",
    "        'boosting': 'gbdt',\n",
    "        'num_boost_round': 2000,\n",
    "        'learning_rate': 0.04,\n",
    "        'num_leaves': 76,\n",
    "        'num_threads': 20, # best speed: set to number of real cpu cores, which is vCPU/2\n",
    "        'device': 'cpu',\n",
    "        'max_depth': 7, # no limit. This is used to deal with over-fitting when #data is small.\n",
    "        'min_child_samples': 20,\n",
    "        'min_child_weight': 5,\n",
    "        'min_split_gain': 0,\n",
    "        'reg_alpha': 0,\n",
    "        'reg_lambda': 0,\n",
    "        'subsample': 1.0,\n",
    "        'subsample_for_bin': 200000,\n",
    "        'subsample_freq': 1,\n",
    "        'bagging_seed': seed,\n",
    "        'early_stopping_round':100,\n",
    "        'verbose': 0,\n",
    "        'scale_pos_weight': 32,#*0.00246100785192494,\n",
    "        'metric' : [ 'auc'],\n",
    "        'feature_fraction_seed': seed,\n",
    "        'drop_seed': seed,\n",
    "        'data_random_seed': seed,\n",
    "        'max_bin': 188,\n",
    "        'colsample_bytree': 0.45\n",
    "    }\n",
    "\n",
    "categorical_col = [ 'app', 'device', 'os', 'channel', 'hour', 'range_count_ip_day_hour']\n",
    "feature_cols = list(train.columns.values)\n",
    "remove_list = [\n",
    "    'click_count_in_next_n_hour_ip_app_os_channel_1',\n",
    "    'count_app_channel',\n",
    "    'count_ip_day',\n",
    "    'count_app_day_hourminute',\n",
    "    'unique_ratio_day_ip_machine',\n",
    "    'unique_ratio_day_ip_device',\n",
    "    'unique_ratio_day_ip_app',\n",
    "    'unique_ratio_machine_channel',\n",
    "    'unique_ratio_day_ip_os',\n",
    "    'unique_ratio_machine_app',\n",
    "    'unique_ratio_machine_ip',\n",
    "    'cumcount_ip_app_device_os_day_hour',\n",
    "    'range_count_ip_channel_dayhourminute',\n",
    "    'range_count_ip_day',\n",
    "    'range_count_ip_device_os_dayhourminute',\n",
    "    'range_count_ip_dayhourminute',\n",
    "    'range_count_ip_dayhourminute10',\n",
    "    'range_count_app_os_channel_dayhourminute',\n",
    "    'com_ip','index', 'click_id', 'ip','click_time', 'is_test', 'is_attributed', 'day',\n",
    "    'minute', 'minute10', 'hourminute', 'hourminute10', 'dayhourminute', 'dayhourminute10', 'machine', 'click_timestamp',\n",
    "    'filter_time_to_n_next_click_2_day_ip_app_device_os',\n",
    "    'filter_time_to_n_next_click_1_day_ip_app_device_os'\n",
    "]\n",
    "# remove_list.extend(['com1_ip', 'minute10', 'minute', 'hour', 'hourminute10', 'hourminute', 'dayhourminute', 'click_timestamp', 'index', 'dayhourminute10', 'day', 'count_ratio_ip_channel', 'machine', 'cumcount_ratio_ip_day', 'os', 'count_ratio_ip_machine', 'device', 'woe_ip_nextClickLeakDayFlt', 'nunique_machine_ip', 'unique_ratio_machine_channel', 'channel', 'woe_ip_device_nextClickLeakDayFlt', 'count_device_os_day_hourminute10', 'unique_ratio_machine_app', 'woe_device', 'count_ratio_channel_app', 'count_ratio_app_channel', 'count_ratio_machine_ip', 'nunique_machine_app', 'unique_ratio_machine_ip', 'nunique_machine_channel', 'woe_ip_channel_nextClickLeakDayFlt', 'com_ip', 'woe_ip_os_nextClickLeakDayFlt', 'woe_ip_channel', 'woe_ip', 'woe_ip_app', 'woe_ip_app_nextClickLeakDayFlt', 'range_count_app_os_channel_dayhourminute10', 'cumcount_ip_app_device_os_day_hour', 'woe_ip_device', 'woe_ip_os_channel', 'woe_ip_os', 'ip', 'woe_ip_device_os_channel', 'woe_ip_app_os_channel', 'woe_ip_app_device', 'woe_ip_device_channel', 'woe_ip_app_channel', 'woe_ip_device_os', 'range_count_app_os_channel_dayhourminute', 'nunique_day_ip_device', 'woe_ip_app_device_channel', 'woe_os', 'range_count_ip_day', 'woe_ip_app_os', 'nunique_day_ip_app', 'unique_ratio_day_ip_machine', 'variance_ip_device_hour', 'range_count_ip_dayhourminute10', 'filter_time_to_n_next_click_2_day_ip_app_device_os', 'count_app_os_channel_day_hour', 'range_count_ip_dayhourminute', 'unique_ratio_day_ip_channel', 'nunique_day_ip_channel', 'unique_ratio_day_ip_os', 'cumcount_ip_day', 'count_ip', 'count_ip_app_os_channel_day', 'unique_ratio_day_ip_device', 'unique_ratio_day_ip_app', 'nunique_day_ip_os', 'count_ip_day', 'nunique_day_ip_machine', 'woe_ip_app_device_os', 'range_count_ip_day_hour', 'range_count_ip_device_os_dayhourminute10', 'range_count_ip_device_os_dayhourminute', 'count_ip_app_device_os_day_hour', 'count_ip_os', 'count_ip_app_os_channel', 'app', 'filter_time_to_n_next_click_1_day_ip_app_device_os', 'cumcount_app_device_os_day', 'count_ip_device_os_day_hourminute10', 'woe_device_nextClickLeakDayFlt', 'time_to_n_next_click_2_day_ip_app_device_os'])\n",
    "feature_cols = [x for x in feature_cols if x not in remove_list]\n",
    "categorical_col = [x for x in categorical_col if x not in remove_list]\n",
    "print(len(feature_cols))\n",
    "# print(feature_cols)"
   ]
  },
  {
   "cell_type": "code",
   "execution_count": 5,
   "metadata": {
    "ExecuteTime": {
     "end_time": "2018-06-07T19:02:58.068478Z",
     "start_time": "2018-06-07T19:02:58.043852Z"
    }
   },
   "outputs": [
    {
     "name": "stdout",
     "output_type": "stream",
     "text": [
      "['app', 'device', 'os', 'channel', 'hour', 'woe_ip_app_channel', 'woe_ip_device_nextClickLeakDayFlt', 'nunique_machine_app', 'woe_os_channel_nextClickLeakDayFlt', 'variance_ip_device_hour', 'range_count_ip_device_os_dayhourminute10', 'woe_app_device_os_channel', 'woe_channel', 'count_ip_app_os_channel', 'nunique_day_ip_os', 'woe_app_nextClickLeakDayFlt', 'woe_ip_channel', 'nunique_machine_channel', 'time_to_n_next_click_1_day_ip_app_device_os', 'woe_os', 'woe_ip_device_os_channel', 'count_ip_app_device_day', 'com1_ip', 'count_ratio_ip_machine', 'count_ip_app_device_os_day_hour', 'count_app_device_day_hour', 'woe_app_device_os', 'woe_ip_app_os_channel', 'range_count_app_os_channel_dayhourminute10', 'woe_app_os_channel', 'unique_ratio_day_ip_channel', 'woe_ip', 'cumcount_ip_day', 'nunique_day_ip_channel', 'woe_ip_channel_nextClickLeakDayFlt', 'woe_ip_device', 'range_count_ip_channel_dayhourminute10', 'cumcount_app_device_os_day', 'count_ratio_app_channel', 'woe_ip_app_nextClickLeakDayFlt', 'count_ratio_channel_app', 'nunique_day_ip_device', 'woe_device_channel_nextClickLeakDayFlt', 'woe_ip_device_channel', 'woe_ip_app_device_os', 'count_ratio_ip_channel', 'woe_app_device', 'count_ip', 'woe_device_os_nextClickLeakDayFlt', 'nunique_machine_ip', 'count_app_os_channel_day_hour', 'woe_channel_nextClickLeakDayFlt', 'count_ip_os', 'time_to_n_next_click_2_day_ip_app_device_os', 'woe_ip_app_os', 'nunique_day_ip_app', 'woe_app_os', 'woe_ip_app_device', 'woe_ip_app_device_channel', 'woe_ip_nextClickLeakDayFlt', 'woe_device', 'woe_app_device_nextClickLeakDayFlt', 'count_ip_app_os_channel_day', 'count_ip_device_os_day_hourminute10', 'woe_app_channel_nextClickLeakDayFlt', 'woe_ip_os', 'nunique_day_ip_machine', 'woe_app_os_nextClickLeakDayFlt', 'woe_ip_os_channel', 'woe_ip_app', 'count_device_os_day_hourminute10', 'woe_app', 'count_app_device_channel_day_hour', 'woe_ip_os_nextClickLeakDayFlt', 'woe_os_nextClickLeakDayFlt', 'count_ratio_machine_ip', 'range_count_ip_day_hour', 'woe_app_device_channel', 'woe_ip_device_os', 'woe_device_nextClickLeakDayFlt', 'count_ip_app_device_channel_day', 'woe_app_channel', 'cumcount_ratio_ip_day']\n"
     ]
    }
   ],
   "source": [
    "print(feature_cols)"
   ]
  },
  {
   "cell_type": "code",
   "execution_count": 6,
   "metadata": {
    "ExecuteTime": {
     "end_time": "2018-06-07T19:05:56.277760Z",
     "start_time": "2018-06-07T19:02:58.071221Z"
    },
    "collapsed": true
   },
   "outputs": [],
   "source": [
    "test_supplement = pd.read_feather(load_path + 'test_cleaned.ftr')\n",
    "train_len = train.shape[0]\n",
    "val_len = val.shape[0]\n",
    "df = pd.concat([train, val, test_supplement])\n",
    "for x in train.columns.values:\n",
    "    if x.split('_')[0] == 'woe':\n",
    "        df[x] = (df[x] - df[x].mean()) / df[x].std()\n",
    "\n",
    "train = df[:train_len]\n",
    "val = df[train_len : train_len+val_len]\n",
    "test_supplement = df[train_len+val_len:]"
   ]
  },
  {
   "cell_type": "code",
   "execution_count": 7,
   "metadata": {
    "ExecuteTime": {
     "end_time": "2018-06-07T19:05:56.286625Z",
     "start_time": "2018-06-07T19:05:56.279545Z"
    },
    "collapsed": true
   },
   "outputs": [],
   "source": [
    "def train_lightgbm(x_train, x_val, feature_cols, categorical_feature, params, best_round = None, target='is_attributed'):\n",
    "    param = params.copy()\n",
    "    y_train = x_train[target].values\n",
    "    y_val = x_val[target].values\n",
    "    \n",
    "    lgb_train = lgb.Dataset(x_train[feature_cols], y_train, categorical_feature = categorical_feature)\n",
    "    lgb_val = lgb.Dataset(x_val[feature_cols], y_val, categorical_feature = categorical_feature)\n",
    "    print('start training')\n",
    "    model = lgb.train(param, train_set=lgb_train, valid_sets=lgb_val, verbose_eval=10)\n",
    "    return model\n"
   ]
  },
  {
   "cell_type": "markdown",
   "metadata": {},
   "source": [
    "# Train model and get prediction"
   ]
  },
  {
   "cell_type": "code",
   "execution_count": 8,
   "metadata": {
    "ExecuteTime": {
     "end_time": "2018-06-07T19:20:23.101498Z",
     "start_time": "2018-06-07T19:05:56.288047Z"
    }
   },
   "outputs": [
    {
     "name": "stdout",
     "output_type": "stream",
     "text": [
      "start training\n"
     ]
    },
    {
     "name": "stderr",
     "output_type": "stream",
     "text": [
      "/home/kai/anaconda3/lib/python3.6/site-packages/lightgbm/engine.py:99: UserWarning: Found `num_boost_round` in params. Will use it instead of argument\n",
      "  warnings.warn(\"Found `{}` in params. Will use it instead of argument\".format(alias))\n",
      "/home/kai/anaconda3/lib/python3.6/site-packages/lightgbm/engine.py:104: UserWarning: Found `early_stopping_round` in params. Will use it instead of argument\n",
      "  warnings.warn(\"Found `{}` in params. Will use it instead of argument\".format(alias))\n",
      "/home/kai/anaconda3/lib/python3.6/site-packages/lightgbm/basic.py:1027: UserWarning: Using categorical_feature in Dataset.\n",
      "  warnings.warn('Using categorical_feature in Dataset.')\n",
      "/home/kai/anaconda3/lib/python3.6/site-packages/lightgbm/basic.py:668: UserWarning: categorical_feature in param dict is overrided.\n",
      "  warnings.warn('categorical_feature in param dict is overrided.')\n"
     ]
    },
    {
     "name": "stdout",
     "output_type": "stream",
     "text": [
      "Training until validation scores don't improve for 100 rounds.\n",
      "[10]\tvalid_0's auc: 0.979134\n",
      "[20]\tvalid_0's auc: 0.979841\n",
      "[30]\tvalid_0's auc: 0.980249\n",
      "[40]\tvalid_0's auc: 0.980675\n",
      "[50]\tvalid_0's auc: 0.981585\n",
      "[60]\tvalid_0's auc: 0.981827\n",
      "[70]\tvalid_0's auc: 0.98238\n",
      "[80]\tvalid_0's auc: 0.982773\n",
      "[90]\tvalid_0's auc: 0.983696\n",
      "[100]\tvalid_0's auc: 0.984448\n",
      "[110]\tvalid_0's auc: 0.984621\n",
      "[120]\tvalid_0's auc: 0.984833\n",
      "[130]\tvalid_0's auc: 0.98499\n",
      "[140]\tvalid_0's auc: 0.985031\n",
      "[150]\tvalid_0's auc: 0.98514\n",
      "[160]\tvalid_0's auc: 0.985218\n",
      "[170]\tvalid_0's auc: 0.985295\n",
      "[180]\tvalid_0's auc: 0.985333\n",
      "[190]\tvalid_0's auc: 0.985308\n",
      "[200]\tvalid_0's auc: 0.985329\n",
      "[210]\tvalid_0's auc: 0.985369\n",
      "[220]\tvalid_0's auc: 0.985396\n",
      "[230]\tvalid_0's auc: 0.985377\n",
      "[240]\tvalid_0's auc: 0.98538\n",
      "[250]\tvalid_0's auc: 0.985391\n",
      "[260]\tvalid_0's auc: 0.98543\n",
      "[270]\tvalid_0's auc: 0.985433\n",
      "[280]\tvalid_0's auc: 0.985448\n",
      "[290]\tvalid_0's auc: 0.985418\n",
      "[300]\tvalid_0's auc: 0.985427\n",
      "[310]\tvalid_0's auc: 0.985434\n",
      "[320]\tvalid_0's auc: 0.985416\n",
      "[330]\tvalid_0's auc: 0.985387\n",
      "[340]\tvalid_0's auc: 0.985385\n",
      "[350]\tvalid_0's auc: 0.98538\n",
      "[360]\tvalid_0's auc: 0.985384\n",
      "[370]\tvalid_0's auc: 0.985335\n",
      "[380]\tvalid_0's auc: 0.985331\n",
      "Early stopping, best iteration is:\n",
      "[280]\tvalid_0's auc: 0.985448\n",
      "prediction done\n"
     ]
    }
   ],
   "source": [
    "model = train_lightgbm(train, val, feature_cols, categorical_col, params)\n",
    "with open('./log.txt', 'a') as f: f.write('train done\\n')\n",
    "print('prediction done')"
   ]
  },
  {
   "cell_type": "code",
   "execution_count": 9,
   "metadata": {
    "ExecuteTime": {
     "end_time": "2018-06-07T19:21:35.102635Z",
     "start_time": "2018-06-07T19:20:23.103465Z"
    }
   },
   "outputs": [
    {
     "name": "stdout",
     "output_type": "stream",
     "text": [
      "(18790469, 118)\n",
      "done\n"
     ]
    }
   ],
   "source": [
    "with open('./log.txt', 'a') as f: f.write('test rading done\\n')\n",
    "test_index = np.load('/home/kai/data/kaggle/talkingdata/data/supplement2testInexFinal.npy')\n",
    "test = test_supplement.iloc[test_index]\n",
    "print(test.shape)\n",
    "pred = model.predict(test[feature_cols])\n",
    "with open('./log.txt', 'a') as f: f.write('test done\\n')\n",
    "print('done')"
   ]
  },
  {
   "cell_type": "markdown",
   "metadata": {},
   "source": [
    "# Submit result"
   ]
  },
  {
   "cell_type": "code",
   "execution_count": 10,
   "metadata": {
    "ExecuteTime": {
     "end_time": "2018-06-07T19:24:10.917794Z",
     "start_time": "2018-06-07T19:21:35.104236Z"
    }
   },
   "outputs": [
    {
     "name": "stdout",
     "output_type": "stream",
     "text": [
      "done\n",
      "predicting file done!\n",
      "done\n"
     ]
    }
   ],
   "source": [
    "sub_dict = {}\n",
    "df_sub = pd.DataFrame()\n",
    "test_clickid = pd.read_csv('/home/kai/data/kaggle/talkingdata/data/test.csv', usecols=['click_id'])\n",
    "with open('./log.txt', 'a') as f: f.write('test old done\\n')\n",
    "print('done')\n",
    "df_sub['click_id'] = test_clickid['click_id']\n",
    "df_sub['is_attributed'] = pred\n",
    "print('predicting file done!')\n",
    "with open('./log.txt', 'a') as f: f.write('saving\\n')\n",
    "df_sub.to_csv('/home/kai/data/kaggle/talkingdata/4thplace/b2.csv.gz', compression='gzip', index=False)\n",
    "with open('./log.txt', 'a') as f: f.write('done\\n')\n",
    "print('done')"
   ]
  },
  {
   "cell_type": "code",
   "execution_count": null,
   "metadata": {
    "collapsed": true
   },
   "outputs": [],
   "source": []
  },
  {
   "cell_type": "code",
   "execution_count": null,
   "metadata": {
    "collapsed": true
   },
   "outputs": [],
   "source": []
  }
 ],
 "metadata": {
  "kernelspec": {
   "display_name": "Python 3",
   "language": "python",
   "name": "python3"
  },
  "language_info": {
   "codemirror_mode": {
    "name": "ipython",
    "version": 3
   },
   "file_extension": ".py",
   "mimetype": "text/x-python",
   "name": "python",
   "nbconvert_exporter": "python",
   "pygments_lexer": "ipython3",
   "version": "3.6.3"
  },
  "varInspector": {
   "cols": {
    "lenName": 16,
    "lenType": 16,
    "lenVar": 40
   },
   "kernels_config": {
    "python": {
     "delete_cmd_postfix": "",
     "delete_cmd_prefix": "del ",
     "library": "var_list.py",
     "varRefreshCmd": "print(var_dic_list())"
    },
    "r": {
     "delete_cmd_postfix": ") ",
     "delete_cmd_prefix": "rm(",
     "library": "var_list.r",
     "varRefreshCmd": "cat(var_dic_list()) "
    }
   },
   "types_to_exclude": [
    "module",
    "function",
    "builtin_function_or_method",
    "instance",
    "_Feature"
   ],
   "window_display": false
  }
 },
 "nbformat": 4,
 "nbformat_minor": 2
}
