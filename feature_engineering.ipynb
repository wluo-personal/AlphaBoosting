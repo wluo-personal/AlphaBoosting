{
 "cells": [
  {
   "cell_type": "code",
   "execution_count": null,
   "metadata": {
    "collapsed": true
   },
   "outputs": [],
   "source": [
    "PATH = \"/home/kai/data/kaggle/talkingdata/data/\""
   ]
  },
  {
   "cell_type": "code",
   "execution_count": 21,
   "metadata": {
    "collapsed": true
   },
   "outputs": [],
   "source": [
    "import pandas as pd\n",
    "from sklearn.feature_extraction.text import CountVectorizer\n",
    "from sklearn.decomposition import LatentDirichletAllocation, TruncatedSVD, NMF\n",
    "\n",
    "def _click_count_in_next_n_hour(id_series, feature_series, timestamp_series, n_hour):\n",
    "    \n",
    "    def _apply_in_each_group(x):\n",
    "        result = []\n",
    "        for i in range(x.shape[0]):\n",
    "            row = x.iloc[i]\n",
    "            filter_s = sum((x['time'] - row['time']).between(0, n_hour))\n",
    "            result.append([row['id'], filter_s])\n",
    "        return pd.DataFrame(result, columns=['id', 'feature'])\n",
    "    \n",
    "    df = pd.concat([id_series, feature_series, timestamp_series], axis=1, keys=['id', 'feature', 'time'])\n",
    "    output_series = df.groupby('feature').apply(_apply_in_each_group)\n",
    "    return pd.Series(data=output_series['feature'].values, index=output_series['id'])\n",
    "\n",
    "\n",
    "def _foward_click_time_delta(id_series, feature_series, timestamp_series):\n",
    "    \n",
    "    def _apply_in_each_group(x):\n",
    "        result = []\n",
    "        for i in range(x.shape[0]-1):\n",
    "            row = x.iloc[i]\n",
    "            next_row = x.iloc[i+1]\n",
    "            result.append([row['id'], next_row['time'] - row['time']])\n",
    "        result.append([x.iloc[-1]['id'], -1])\n",
    "        return pd.DataFrame(result, columns=['id', 'feature'])\n",
    "    \n",
    "    df = pd.concat([id_series, feature_series, timestamp_series], axis=1, keys=['id','feature', 'time'])\n",
    "    output_series = df.groupby('feature').apply(_apply_in_each_group)\n",
    "    return pd.Series(data=output_series['feature'].values, index=output_series['id'])\n",
    "\n",
    "\n",
    "def _backward_click_time_delta(id_series, feature_series, timestamp_series):\n",
    "    \n",
    "    def _apply_in_each_group(x):\n",
    "        result = []\n",
    "        for i in range(x.shape[0]-1, 0, -1):\n",
    "            row = x.iloc[i]\n",
    "            next_row = x.iloc[i-1]\n",
    "            result.append([row['id'], row['time'] - next_row['time']])\n",
    "        result.append([x.iloc[0]['id'], -1])\n",
    "        return pd.DataFrame(result, columns=['id', 'feature'])\n",
    "    \n",
    "    df = pd.concat([id_series, feature_series, timestamp_series], axis=1, keys=['id', 'feature', 'time'])\n",
    "    output_series = df.groupby('feature').apply(_apply_in_each_group)\n",
    "    return pd.Series(data=output_series['feature'].values, index=output_series['id'])\n",
    "\n",
    "\n",
    "def _past_click_mean(id_series, feature_series, timestamp_series, label_series):\n",
    "    \n",
    "    def _apply_in_each_group(x):\n",
    "        result = []\n",
    "        for i in range(1, x.shape[0]+1):\n",
    "            result.append([x.iloc[i-1]['id'], x.iloc[ : i]['y'].mean()])\n",
    "        return pd.DataFrame(result, columns=['id', 'feature'])\n",
    "    \n",
    "    df = pd.concat([id_series, feature_series, timestamp_series, label_series], axis=1, keys=['id', 'feature', 'time', 'y'])\n",
    "    output_series = df.groupby('feature').apply(_apply_in_each_group)\n",
    "    return pd.Series(data=output_series['feature'].values, index=output_series['id'])\n",
    "\n",
    "\n",
    "def _lda_nmf_lsa_from_sklearn(key_col_series, value_col_series, n_components):\n",
    "    dictionary = {}\n",
    "    key_list = []\n",
    "    for i in range(key_col_series.shape[0]):\n",
    "        dictionary.setdefault(key_col_series.iloc[i], []).append(str(value_col_series.iloc[i]))\n",
    "    key_list = list(dictionary.keys())\n",
    "    sentences = [' '.join(dictionary[key]) for key in key_list]\n",
    "    matrix = CountVectorizer().fit_transform(sentences)\n",
    "    \n",
    "    lda_dict = dict(zip(key_list, LatentDirichletAllocation(n_components=n_components).fit_transform(matrix)))\n",
    "    nmf_dict = dict(zip(key_list, NMF(n_components=n_components).fit_transform(matrix)))\n",
    "    lsa_dict = dict(zip(key_list, TruncatedSVD(n_components=n_components).fit_transform(matrix)))\n",
    "    \n",
    "    return key_col_series.map(lda_dict), key_col_series.map(nmf_dict), key_col_series.map(lsa_dict)"
   ]
  },
  {
   "cell_type": "code",
   "execution_count": 24,
   "metadata": {
    "scrolled": false
   },
   "outputs": [
    {
     "name": "stdout",
     "output_type": "stream",
     "text": [
      "\n"
     ]
    },
    {
     "name": "stderr",
     "output_type": "stream",
     "text": [
      "/home/kai/anaconda3/lib/python3.6/site-packages/sklearn/decomposition/online_lda.py:536: DeprecationWarning: The default value for 'learning_method' will be changed from 'online' to 'batch' in the release 0.20. This warning was introduced in 0.18.\n",
      "  DeprecationWarning)\n"
     ]
    }
   ],
   "source": [
    "x = pd.read_csv('test.txt')\n",
    "print()\n",
    "group = _lda_nmf_lsa_from_sklearn(x['a'], x['b'], 2)\n",
    "# print(group)\n"
   ]
  },
  {
   "cell_type": "code",
   "execution_count": null,
   "metadata": {
    "collapsed": true
   },
   "outputs": [],
   "source": [
    "import pandas as pd\n",
    "import numpy as np\n",
    "from itertools import combinations\n",
    "\n",
    "class FeatureEngineering:\n",
    "    def __init__(self, train=None, test=None, feature_cols=None, label_cols=None, time_related=True, ngram=[1,2,3,4,5]):\n",
    "        self.train = train\n",
    "        self.test = test\n",
    "        self.feature_cols = feature_cols\n",
    "        self.label_cols = label_cols\n",
    "        self.time_related = time_related\n",
    "        self.ngram = ngram\n",
    "        self.columns = self._get_ngram_col_combination(ngram)\n",
    "        \n",
    "    def _get_ngram_col_combination(self, ngram):\n",
    "        column = []\n",
    "        for e in ngram:\n",
    "            tmp = combinations(self.feature_cols, e)\n",
    "            column.extend([list(x) for x in tmp])\n",
    "        return column\n",
    "    \n",
    "    def _col_combination_encoding(self, col):\n",
    "        encoding = self.train[col].copy()\n",
    "        if len(col) > 1:\n",
    "            for c in col[1 : ]:\n",
    "                encoding = encoding * (10 ** (int(np.log(self.train[col].max() + 1) / np.log(10)) + 1)) + self.train[c]\n",
    "        return encoding\n",
    "    \n",
    "    def _add_one_feature(self, func, nargin, *args):\n",
    "        if nargin != len(args):\n",
    "            print('ERROR!!!!!!!!!!!')\n",
    "            return\n",
    "        new_col = func(*args)\n",
    "        new_col_name = None\n",
    "        self.df[new_col_name] = new_col"
   ]
  }
 ],
 "metadata": {
  "kernelspec": {
   "display_name": "Python 3",
   "language": "python",
   "name": "python3"
  },
  "language_info": {
   "codemirror_mode": {
    "name": "ipython",
    "version": 3
   },
   "file_extension": ".py",
   "mimetype": "text/x-python",
   "name": "python",
   "nbconvert_exporter": "python",
   "pygments_lexer": "ipython3",
   "version": "3.6.3"
  }
 },
 "nbformat": 4,
 "nbformat_minor": 2
}
