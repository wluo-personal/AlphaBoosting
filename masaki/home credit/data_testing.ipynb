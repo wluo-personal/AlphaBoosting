{
 "cells": [
  {
   "cell_type": "code",
   "execution_count": 1,
   "metadata": {
    "ExecuteTime": {
     "end_time": "2018-06-21T20:48:58.083665Z",
     "start_time": "2018-06-21T20:48:01.423580Z"
    }
   },
   "outputs": [
    {
     "name": "stdout",
     "output_type": "stream",
     "text": [
      "train\n",
      "test\n",
      "POS_CASH_balance\n",
      "credit_card_balance\n"
     ]
    }
   ],
   "source": [
    "import pandas as pd\n",
    "import numpy as np\n",
    "\n",
    "PATH = '/home/kai/data/kaggle/homecredit/'\n",
    "train = pd.read_csv(PATH + 'application_train.csv')\n",
    "print('train')\n",
    "test = pd.read_csv(PATH + 'application_test.csv')\n",
    "print('test')\n",
    "# bureau = pd.read_csv(PATH + 'bureau.csv')\n",
    "# print('bureau')\n",
    "# previous_application = pd.read_csv(PATH + 'previous_application.csv')\n",
    "# print('previous')\n",
    "# bureau_balance = pd.read_csv(PATH + 'bureau_balance.csv')\n",
    "# print('bureau_balance')\n",
    "# installments_payments = pd.read_csv(PATH + 'installments_payments.csv')\n",
    "# print('installments_payments done')\n",
    "# credit_card_balance = pd.read_csv(PATH + 'credit_card_balance.csv')\n",
    "# print('credit_card_balance')\n",
    "POS_CASH_balance = pd.read_csv(PATH + 'POS_CASH_balance.csv')\n",
    "print('POS_CASH_balance')\n",
    "credit_card_balance = pd.read_csv(PATH + 'credit_card_balance.csv')\n",
    "print('credit_card_balance')\n",
    "# previous_application = pd.read_csv(PATH + 'previous_application.csv')\n",
    "# print('previous_application')"
   ]
  },
  {
   "cell_type": "code",
   "execution_count": 2,
   "metadata": {
    "ExecuteTime": {
     "end_time": "2018-06-21T20:49:33.052244Z",
     "start_time": "2018-06-21T20:49:31.674389Z"
    }
   },
   "outputs": [],
   "source": [
    "df = train.copy()"
   ]
  },
  {
   "cell_type": "code",
   "execution_count": 13,
   "metadata": {
    "ExecuteTime": {
     "end_time": "2018-06-21T19:56:28.663302Z",
     "start_time": "2018-06-21T19:55:08.957860Z"
    },
    "collapsed": true
   },
   "outputs": [],
   "source": [
    "temp = pd.merge(df, previous_application, on='SK_ID_CURR')"
   ]
  },
  {
   "cell_type": "code",
   "execution_count": 17,
   "metadata": {
    "ExecuteTime": {
     "end_time": "2018-06-21T20:03:46.913625Z",
     "start_time": "2018-06-21T20:03:44.735992Z"
    }
   },
   "outputs": [
    {
     "name": "stdout",
     "output_type": "stream",
     "text": [
      "0 in approved:0.9241134455630804\n",
      "1 in approved:0.07588655443691958\n",
      "0 in not approved:0.8800358612820408\n",
      "1 in not approved:0.11996413871795916\n"
     ]
    }
   ],
   "source": [
    "approved = temp[temp['NAME_CONTRACT_STATUS'].values == 'Approved']\n",
    "approved_0 = approved[approved['TARGET']==0]\n",
    "approved_1 = approved[approved['TARGET']==1]\n",
    "\n",
    "not_approved = temp[temp['NAME_CONTRACT_STATUS'].values == 'Refused']\n",
    "not_approved_0 = not_approved[not_approved['TARGET']==0]\n",
    "not_approved_1 = not_approved[not_approved['TARGET']==1]\n",
    "\n",
    "print('0 in approved:{}'.format(approved_0.shape[0]/approved.shape[0]))\n",
    "print('1 in approved:{}'.format(approved_1.shape[0]/approved.shape[0]))\n",
    "print('0 in not approved:{}'.format(not_approved_0.shape[0]/not_approved.shape[0]))\n",
    "print('1 in not approved:{}'.format(not_approved_1.shape[0]/not_approved.shape[0]))"
   ]
  },
  {
   "cell_type": "code",
   "execution_count": null,
   "metadata": {
    "collapsed": true
   },
   "outputs": [],
   "source": []
  },
  {
   "cell_type": "code",
   "execution_count": 13,
   "metadata": {
    "ExecuteTime": {
     "end_time": "2018-06-21T20:36:34.935936Z",
     "start_time": "2018-06-21T20:36:22.150033Z"
    }
   },
   "outputs": [],
   "source": [
    "curr_id_installment = set(installments_payments['SK_ID_CURR'].values)\n",
    "curr_id_0 = set(df[df['TARGET'] == 0]['SK_ID_CURR'].values)\n",
    "curr_id_1 = set(df[df['TARGET'] == 1]['SK_ID_CURR'].values)\n",
    "\n",
    "curr_id_installment_0 = curr_id_installment & curr_id_0\n",
    "curr_id_installment_1 = curr_id_installment & curr_id_1"
   ]
  },
  {
   "cell_type": "code",
   "execution_count": 16,
   "metadata": {
    "ExecuteTime": {
     "end_time": "2018-06-21T20:39:37.060994Z",
     "start_time": "2018-06-21T20:39:37.045958Z"
    }
   },
   "outputs": [
    {
     "data": {
      "text/plain": [
       "(267767, 23876, 339587)"
      ]
     },
     "execution_count": 16,
     "metadata": {},
     "output_type": "execute_result"
    }
   ],
   "source": [
    "curr_id_installment_0.__len__(), curr_id_installment_1.__len__(), curr_id_installment.__len__()"
   ]
  },
  {
   "cell_type": "code",
   "execution_count": 18,
   "metadata": {
    "ExecuteTime": {
     "end_time": "2018-06-21T20:44:28.758416Z",
     "start_time": "2018-06-21T20:44:28.755027Z"
    }
   },
   "outputs": [
    {
     "name": "stdout",
     "output_type": "stream",
     "text": [
      "0 in inst: 0.9181327856317484\n",
      "1 in inst: 0.08186721436825159\n"
     ]
    }
   ],
   "source": [
    "count = curr_id_installment_0.__len__() + curr_id_installment_1.__len__()\n",
    "print('0 in inst: {}'.format(curr_id_installment_0.__len__()/count))\n",
    "print('1 in inst: {}'.format(curr_id_installment_1.__len__()/count))"
   ]
  },
  {
   "cell_type": "code",
   "execution_count": null,
   "metadata": {
    "collapsed": true
   },
   "outputs": [],
   "source": []
  },
  {
   "cell_type": "code",
   "execution_count": 3,
   "metadata": {
    "ExecuteTime": {
     "end_time": "2018-06-21T20:50:38.213325Z",
     "start_time": "2018-06-21T20:50:25.455831Z"
    },
    "collapsed": true
   },
   "outputs": [],
   "source": [
    "curr_id_pos_cash = set(POS_CASH_balance['SK_ID_CURR'].values)\n",
    "curr_id_credit_card_balance = set(credit_card_balance['SK_ID_CURR'].values)\n",
    "\n",
    "curr_id_0 = set(df[df['TARGET'] == 0]['SK_ID_CURR'].values)\n",
    "curr_id_1 = set(df[df['TARGET'] == 1]['SK_ID_CURR'].values)\n",
    "\n",
    "curr_id_pos_cash_0 = curr_id_pos_cash & curr_id_0\n",
    "curr_id_pos_cash_1 = curr_id_pos_cash & curr_id_1\n",
    "\n",
    "curr_id_credit_card_balance_0 = curr_id_credit_card_balance & curr_id_0\n",
    "curr_id_credit_card_balance_1 = curr_id_credit_card_balance & curr_id_1"
   ]
  },
  {
   "cell_type": "code",
   "execution_count": 4,
   "metadata": {
    "ExecuteTime": {
     "end_time": "2018-06-21T20:51:33.961617Z",
     "start_time": "2018-06-21T20:51:33.949412Z"
    },
    "collapsed": true
   },
   "outputs": [],
   "source": [
    "count_pos = curr_id_pos_cash_0.__len__() + curr_id_pos_cash_1.__len__()\n",
    "count_credit = curr_id_credit_card_balance_0.__len__() + curr_id_credit_card_balance_1.__len__()"
   ]
  },
  {
   "cell_type": "code",
   "execution_count": 5,
   "metadata": {
    "ExecuteTime": {
     "end_time": "2018-06-21T20:52:33.535636Z",
     "start_time": "2018-06-21T20:52:33.526848Z"
    }
   },
   "outputs": [
    {
     "name": "stdout",
     "output_type": "stream",
     "text": [
      "0 in pos: 0.918391813269579\n",
      "1 in pos: 0.08160818673042108\n"
     ]
    }
   ],
   "source": [
    "print('0 in pos: {}'.format(curr_id_pos_cash_0.__len__()/count_pos))\n",
    "print('1 in pos: {}'.format(curr_id_pos_cash_1.__len__()/count_pos))"
   ]
  },
  {
   "cell_type": "code",
   "execution_count": 7,
   "metadata": {
    "ExecuteTime": {
     "end_time": "2018-06-21T20:53:45.352071Z",
     "start_time": "2018-06-21T20:53:45.346594Z"
    }
   },
   "outputs": [
    {
     "name": "stdout",
     "output_type": "stream",
     "text": [
      "0 in credit: 0.9133076347736033\n",
      "1 in credit: 0.08669236522639664\n"
     ]
    }
   ],
   "source": [
    "print('0 in credit: {}'.format(curr_id_credit_card_balance_0.__len__()/count_credit))\n",
    "print('1 in credit: {}'.format(curr_id_credit_card_balance_1.__len__()/count_credit))"
   ]
  },
  {
   "cell_type": "code",
   "execution_count": null,
   "metadata": {
    "collapsed": true
   },
   "outputs": [],
   "source": []
  },
  {
   "cell_type": "code",
   "execution_count": null,
   "metadata": {
    "collapsed": true
   },
   "outputs": [],
   "source": []
  },
  {
   "cell_type": "code",
   "execution_count": null,
   "metadata": {
    "collapsed": true
   },
   "outputs": [],
   "source": []
  },
  {
   "cell_type": "code",
   "execution_count": 2,
   "metadata": {
    "ExecuteTime": {
     "end_time": "2018-06-21T19:17:53.296602Z",
     "start_time": "2018-06-21T19:17:50.989552Z"
    },
    "collapsed": true
   },
   "outputs": [],
   "source": [
    "import matplotlib.pyplot as plt\n",
    "import seaborn as sns\n",
    "plt.style.use('fivethirtyeight')"
   ]
  },
  {
   "cell_type": "code",
   "execution_count": 59,
   "metadata": {
    "ExecuteTime": {
     "end_time": "2018-06-20T20:17:30.275932Z",
     "start_time": "2018-06-20T20:17:29.809359Z"
    }
   },
   "outputs": [
    {
     "data": {
      "image/png": "[encoded data removed]",
      "text/plain": [
       "<matplotlib.figure.Figure at 0x7f9aecfd2080>"
      ]
     },
     "metadata": {},
     "output_type": "display_data"
    },
    {
     "data": {
      "text/plain": [
       "0.0"
      ]
     },
     "execution_count": 59,
     "metadata": {},
     "output_type": "execute_result"
    }
   ],
   "source": [
    "\n",
    "\n",
    "# Set the style of plots\n",
    "plt.style.use('fivethirtyeight')\n",
    "\n",
    "temp = credit_card_balance[credit_card_balance['AMT_BALANCE'].values > 0]\n",
    "temp = temp[temp['AMT_BALANCE'].values < 500000]\n",
    "\n",
    "# Plot the distribution of ages in years\n",
    "plt.hist(temp['AMT_BALANCE'], edgecolor = 'k', bins = 30)\n",
    "plt.title('AMT_BALANCE'); plt.xlabel('AMT'); plt.ylabel('Count');\n",
    "\n",
    "plt.show()"
   ]
  },
  {
   "cell_type": "code",
   "execution_count": 97,
   "metadata": {
    "ExecuteTime": {
     "end_time": "2018-06-20T20:51:54.092898Z",
     "start_time": "2018-06-20T20:51:53.114583Z"
    }
   },
   "outputs": [
    {
     "data": {
      "image/png": "[encoded data removed]",
      "text/plain": [
       "<matplotlib.figure.Figure at 0x7f9aed329358>"
      ]
     },
     "metadata": {},
     "output_type": "display_data"
    },
    {
     "data": {
      "text/plain": [
       "0"
      ]
     },
     "execution_count": 97,
     "metadata": {},
     "output_type": "execute_result"
    }
   ],
   "source": [
    "temp = credit_card_balance[credit_card_balance['AMT_CREDIT_LIMIT_ACTUAL'].values > 0]\n",
    "temp = temp[temp['AMT_CREDIT_LIMIT_ACTUAL'].values < 1000000]\n",
    "\n",
    "plt.hist(temp['AMT_CREDIT_LIMIT_ACTUAL'], edgecolor = 'k', bins = 30)\n",
    "plt.title('AMT_CREDIT_LIMIT_ACTUAL'); plt.xlabel('AMT'); plt.ylabel('Count');\n",
    "plt.show()"
   ]
  },
  {
   "cell_type": "code",
   "execution_count": 70,
   "metadata": {
    "ExecuteTime": {
     "end_time": "2018-06-20T20:20:53.172067Z",
     "start_time": "2018-06-20T20:20:52.814899Z"
    }
   },
   "outputs": [
    {
     "data": {
      "image/png": "[encoded data removed]",
      "text/plain": [
       "<matplotlib.figure.Figure at 0x7f9ae73d1c50>"
      ]
     },
     "metadata": {},
     "output_type": "display_data"
    }
   ],
   "source": [
    "temp = credit_card_balance.copy()\n",
    "temp['AMT_DRAWINGS_ATM_CURRENT'] = temp['AMT_DRAWINGS_ATM_CURRENT'].fillna(-999)\n",
    "temp = temp[temp['AMT_DRAWINGS_ATM_CURRENT'].values > 0]\n",
    "temp = temp[temp['AMT_DRAWINGS_ATM_CURRENT'].values < 300000]\n",
    "\n",
    "\n",
    "plt.hist(temp['AMT_DRAWINGS_ATM_CURRENT'], edgecolor = 'k', bins = 30)\n",
    "plt.title('AMT_DRAWINGS_ATM_CURRENT'); plt.xlabel('AMT'); plt.ylabel('Count');\n",
    "plt.show()"
   ]
  },
  {
   "cell_type": "code",
   "execution_count": 88,
   "metadata": {
    "ExecuteTime": {
     "end_time": "2018-06-20T20:38:20.003894Z",
     "start_time": "2018-06-20T20:38:19.616593Z"
    }
   },
   "outputs": [
    {
     "data": {
      "image/png": "[encoded data removed]",
      "text/plain": [
       "<matplotlib.figure.Figure at 0x7f9aecc57e80>"
      ]
     },
     "metadata": {},
     "output_type": "display_data"
    }
   ],
   "source": [
    "temp = credit_card_balance.copy()\n",
    "temp['AMT_DRAWINGS_CURRENT'] = temp['AMT_DRAWINGS_CURRENT'].fillna(-999)\n",
    "temp = temp[temp['AMT_DRAWINGS_CURRENT'].values > 0]\n",
    "temp = temp[temp['AMT_DRAWINGS_CURRENT'].values < 200000]\n",
    "\n",
    "\n",
    "plt.hist(temp['AMT_DRAWINGS_CURRENT'], edgecolor = 'k', bins = 30)\n",
    "plt.title('AMT_DRAWINGS_CURRENT'); plt.xlabel('AMT'); plt.ylabel('Count');\n",
    "plt.show()"
   ]
  },
  {
   "cell_type": "code",
   "execution_count": 78,
   "metadata": {
    "ExecuteTime": {
     "end_time": "2018-06-20T20:25:01.004420Z",
     "start_time": "2018-06-20T20:25:00.646950Z"
    }
   },
   "outputs": [
    {
     "data": {
      "image/png": "[encoded data removed]",
      "text/plain": [
       "<matplotlib.figure.Figure at 0x7f9aece70b70>"
      ]
     },
     "metadata": {},
     "output_type": "display_data"
    }
   ],
   "source": [
    "temp = credit_card_balance.copy()\n",
    "temp['AMT_DRAWINGS_OTHER_CURRENT'] = temp['AMT_DRAWINGS_OTHER_CURRENT'].fillna(-999)\n",
    "temp = temp[temp['AMT_DRAWINGS_OTHER_CURRENT'].values > 0]\n",
    "temp = temp[temp['AMT_DRAWINGS_OTHER_CURRENT'].values < 200000]\n",
    "\n",
    "\n",
    "plt.hist(temp['AMT_DRAWINGS_OTHER_CURRENT'], edgecolor = 'k', bins = 30)\n",
    "plt.title('AMT_DRAWINGS_OTHER_CURRENT'); plt.xlabel('AMT'); plt.ylabel('Count');\n",
    "plt.show()"
   ]
  },
  {
   "cell_type": "code",
   "execution_count": 37,
   "metadata": {
    "ExecuteTime": {
     "end_time": "2018-06-21T15:34:40.076136Z",
     "start_time": "2018-06-21T15:34:39.407799Z"
    }
   },
   "outputs": [
    {
     "data": {
      "image/png": "[encoded data removed]",
      "text/plain": [
       "<matplotlib.figure.Figure at 0x7fec3a53ad68>"
      ]
     },
     "metadata": {},
     "output_type": "display_data"
    }
   ],
   "source": [
    "temp = credit_card_balance.copy()\n",
    "temp['AMT_DRAWINGS_POS_CURRENT'] = temp['AMT_DRAWINGS_POS_CURRENT'].fillna(-999)\n",
    "temp = temp[temp['AMT_DRAWINGS_POS_CURRENT'].values > 0]\n",
    "temp = temp[temp['AMT_DRAWINGS_POS_CURRENT'].values < 150000]\n",
    "\n",
    "\n",
    "plt.hist(temp['AMT_DRAWINGS_POS_CURRENT'], edgecolor = 'k', bins = 30)\n",
    "plt.title('AMT_DRAWINGS_POS_CURRENT'); plt.xlabel('AMT'); plt.ylabel('Count');\n",
    "plt.show()"
   ]
  },
  {
   "cell_type": "code",
   "execution_count": 66,
   "metadata": {
    "ExecuteTime": {
     "end_time": "2018-06-21T15:10:44.820960Z",
     "start_time": "2018-06-21T15:10:43.316770Z"
    }
   },
   "outputs": [
    {
     "data": {
      "image/png": "[encoded data removed]",
      "text/plain": [
       "<matplotlib.figure.Figure at 0x7f620996aa90>"
      ]
     },
     "metadata": {},
     "output_type": "display_data"
    }
   ],
   "source": [
    "temp = credit_card_balance.copy()\n",
    "temp['AMT_DRAWINGS_POS_CURRENT'] = temp['AMT_DRAWINGS_POS_CURRENT'].fillna(-999)\n",
    "temp = temp[temp['AMT_DRAWINGS_POS_CURRENT'].values >= 0]\n",
    "temp['AMT_DRAWINGS_OTHER_CURRENT'] = temp['AMT_DRAWINGS_OTHER_CURRENT'].fillna(-999)\n",
    "temp = temp[temp['AMT_DRAWINGS_OTHER_CURRENT'].values >= 0]\n",
    "temp['AMT_DRAWINGS_ATM_CURRENT'] = temp['AMT_DRAWINGS_ATM_CURRENT'].fillna(-999)\n",
    "temp = temp[temp['AMT_DRAWINGS_ATM_CURRENT'].values >= 0]\n",
    "temp['AMT_DRAWINGS_CURRENT'] = temp['AMT_DRAWINGS_CURRENT'].fillna(-999)\n",
    "temp = temp[temp['AMT_DRAWINGS_CURRENT'].values >= 0]\n",
    "temp = temp[temp['AMT_BALANCE'].values >= 0]\n",
    "\n",
    "temp2 = (temp['AMT_DRAWINGS_CURRENT']-(temp['AMT_DRAWINGS_ATM_CURRENT']+temp['AMT_DRAWINGS_OTHER_CURRENT']+temp['AMT_DRAWINGS_POS_CURRENT']))\n",
    "\n",
    "plt.hist(temp2, edgecolor = 'k', bins = 30)\n",
    "plt.title('AMT_DRAW_SUM'); plt.xlabel('AMT'); plt.ylabel('Count');\n",
    "plt.show()"
   ]
  },
  {
   "cell_type": "code",
   "execution_count": 7,
   "metadata": {
    "ExecuteTime": {
     "end_time": "2018-06-21T15:15:17.506240Z",
     "start_time": "2018-06-21T15:15:17.062631Z"
    }
   },
   "outputs": [
    {
     "data": {
      "text/plain": [
       "(39632, 673065)"
      ]
     },
     "execution_count": 7,
     "metadata": {},
     "output_type": "execute_result"
    }
   ],
   "source": [
    "temp = previous_application.copy()\n",
    "\n",
    "temp2 = temp[temp['NAME_CONTRACT_STATUS'].values == 'Approved']\n",
    "\n",
    "temp2['DAYS_TERMINATION'].isnull().sum(), previous_application['DAYS_TERMINATION'].isnull().sum()"
   ]
  },
  {
   "cell_type": "code",
   "execution_count": 6,
   "metadata": {
    "ExecuteTime": {
     "end_time": "2018-06-21T15:14:54.123129Z",
     "start_time": "2018-06-21T15:14:53.735337Z"
    }
   },
   "outputs": [
    {
     "data": {
      "text/plain": [
       "673065"
      ]
     },
     "execution_count": 6,
     "metadata": {},
     "output_type": "execute_result"
    }
   ],
   "source": [
    "temp = previous_application.copy()\n",
    "\n",
    "temp2 = temp[temp['NAME_CONTRACT_STATUS'].values == 'Approved']\n",
    "\n",
    "previous_application['NFLAG_INSURED_ON_APPROVAL'].isnull().sum()"
   ]
  },
  {
   "cell_type": "code",
   "execution_count": 70,
   "metadata": {
    "ExecuteTime": {
     "end_time": "2018-06-21T16:07:42.824811Z",
     "start_time": "2018-06-21T16:07:41.469014Z"
    }
   },
   "outputs": [
    {
     "data": {
      "image/png": "[encoded data removed]",
      "text/plain": [
       "<matplotlib.figure.Figure at 0x7fec1fcb9358>"
      ]
     },
     "metadata": {},
     "output_type": "display_data"
    }
   ],
   "source": [
    "temp = installments_payments.copy()\n",
    "\n",
    "'''temp = temp[temp['AMT_INSTALMENT'].values < 80000]'''\n",
    "\n",
    "\n",
    "plt.hist(temp['AMT_INSTALMENT'], edgecolor = 'k', bins = 30)\n",
    "plt.title('AMT_INSTALMENT'); plt.xlabel('AMT'); plt.ylabel('Count');\n",
    "plt.show()"
   ]
  },
  {
   "cell_type": "code",
   "execution_count": 27,
   "metadata": {
    "ExecuteTime": {
     "end_time": "2018-06-21T15:29:04.423286Z",
     "start_time": "2018-06-21T15:29:02.449099Z"
    }
   },
   "outputs": [
    {
     "data": {
      "image/png": "[encoded data removed]",
      "text/plain": [
       "<matplotlib.figure.Figure at 0x7fec1d516f60>"
      ]
     },
     "metadata": {},
     "output_type": "display_data"
    }
   ],
   "source": [
    "temp = installments_payments.copy()\n",
    "\n",
    "temp = temp[temp['NUM_INSTALMENT_VERSION'].values < 25]\n",
    "\n",
    "plt.hist(temp['NUM_INSTALMENT_VERSION'], edgecolor = 'k', bins = 20)\n",
    "plt.title('NUM_INSTALMENT_VERSION'); plt.xlabel('VER'); plt.ylabel('Count');\n",
    "plt.show()"
   ]
  },
  {
   "cell_type": "code",
   "execution_count": 28,
   "metadata": {
    "ExecuteTime": {
     "end_time": "2018-06-21T15:30:12.765665Z",
     "start_time": "2018-06-21T15:30:11.404040Z"
    }
   },
   "outputs": [
    {
     "data": {
      "image/png": "[encoded data removed]",
      "text/plain": [
       "<matplotlib.figure.Figure at 0x7fec1c17e400>"
      ]
     },
     "metadata": {},
     "output_type": "display_data"
    }
   ],
   "source": [
    "temp = installments_payments.copy()\n",
    "\n",
    "\n",
    "\n",
    "plt.hist(temp['DAYS_INSTALMENT'], edgecolor = 'k', bins = 20)\n",
    "plt.title('DAYS_INSTALMENT'); plt.xlabel('DAYS'); plt.ylabel('Count');\n",
    "plt.show()"
   ]
  },
  {
   "cell_type": "code",
   "execution_count": 71,
   "metadata": {
    "ExecuteTime": {
     "end_time": "2018-06-21T16:13:37.618988Z",
     "start_time": "2018-06-21T16:13:36.698776Z"
    }
   },
   "outputs": [
    {
     "data": {
      "image/png": "[encoded data removed]",
      "text/plain": [
       "<matplotlib.figure.Figure at 0x7fec3a6e5860>"
      ]
     },
     "metadata": {},
     "output_type": "display_data"
    }
   ],
   "source": [
    "temp = installments_payments.copy()\n",
    "\n",
    "'''temp = temp[temp['NUM_INSTALMENT_NUMBER'].values < 200]'''\n",
    "\n",
    "\n",
    "plt.hist(temp['NUM_INSTALMENT_NUMBER'], edgecolor = 'k', bins = 20)\n",
    "plt.title('NUM_INSTALMENT_NUMBER'); plt.xlabel('NUM'); plt.ylabel('Count');\n",
    "plt.show()"
   ]
  },
  {
   "cell_type": "code",
   "execution_count": 73,
   "metadata": {
    "ExecuteTime": {
     "end_time": "2018-06-21T16:15:04.267945Z",
     "start_time": "2018-06-21T16:15:02.691173Z"
    }
   },
   "outputs": [
    {
     "data": {
      "image/png": "[encoded data removed]",
      "text/plain": [
       "<matplotlib.figure.Figure at 0x7fec3a6eca58>"
      ]
     },
     "metadata": {},
     "output_type": "display_data"
    },
    {
     "data": {
      "text/plain": [
       "array([-4921.])"
      ]
     },
     "execution_count": 73,
     "metadata": {},
     "output_type": "execute_result"
    }
   ],
   "source": [
    "temp = installments_payments.copy()\n",
    "\n",
    "temp = temp['DAYS_ENTRY_PAYMENT'].fillna(999)\n",
    "'''temp = temp[temp.values > -4000]'''\n",
    "temp = temp[temp.values <= 0]\n",
    "\n",
    "\n",
    "plt.hist(temp, edgecolor = 'k', bins = 20)\n",
    "plt.title('DAYS_ENTRY_PAYMENT'); plt.xlabel('NUM'); plt.ylabel('Count');\n",
    "plt.show()\n",
    "\n",
    "temp[temp.values < -4000].values"
   ]
  },
  {
   "cell_type": "code",
   "execution_count": 74,
   "metadata": {
    "ExecuteTime": {
     "end_time": "2018-06-21T16:16:37.350819Z",
     "start_time": "2018-06-21T16:16:35.776196Z"
    }
   },
   "outputs": [
    {
     "data": {
      "image/png": "[encoded data removed]",
      "text/plain": [
       "<matplotlib.figure.Figure at 0x7fec3a61a7b8>"
      ]
     },
     "metadata": {},
     "output_type": "display_data"
    }
   ],
   "source": [
    "temp = installments_payments.copy()\n",
    "\n",
    "temp = temp['AMT_PAYMENT'].fillna(-999)\n",
    "\n",
    "temp = temp[temp.values >= 0]\n",
    "temp = temp[temp.values < 80000]\n",
    "\n",
    "plt.hist(temp, edgecolor = 'k', bins = 20)\n",
    "plt.title('AMT_PAYMENT'); plt.xlabel('AMT'); plt.ylabel('Count');\n",
    "plt.show()"
   ]
  },
  {
   "cell_type": "code",
   "execution_count": 64,
   "metadata": {
    "ExecuteTime": {
     "end_time": "2018-06-21T15:56:14.441550Z",
     "start_time": "2018-06-21T15:55:06.875468Z"
    }
   },
   "outputs": [
    {
     "data": {
      "image/png": "[encoded data removed]",
      "text/plain": [
       "<matplotlib.figure.Figure at 0x7fec1fd8d198>"
      ]
     },
     "metadata": {},
     "output_type": "display_data"
    }
   ],
   "source": [
    "temp = installments_payments.copy()\n",
    "\n",
    "plt.scatter(temp['AMT_PAYMENT'].fillna(-999).values, temp['AMT_INSTALMENT'].values)\n",
    "plt.xlabel('AMT_PAYMENT', fontsize=12)\n",
    "plt.ylabel('AMT_INSTALMENT', fontsize=12)\n",
    "plt.show()"
   ]
  },
  {
   "cell_type": "code",
   "execution_count": 67,
   "metadata": {
    "ExecuteTime": {
     "end_time": "2018-06-21T16:04:06.626662Z",
     "start_time": "2018-06-21T16:02:59.039774Z"
    }
   },
   "outputs": [
    {
     "data": {
      "image/png": "[encoded data removed]",
      "text/plain": [
       "<matplotlib.figure.Figure at 0x7fec3a31dfd0>"
      ]
     },
     "metadata": {},
     "output_type": "display_data"
    }
   ],
   "source": [
    "temp = installments_payments.copy()\n",
    "\n",
    "plt.scatter(temp['DAYS_ENTRY_PAYMENT'].fillna(-999).values, temp['DAYS_INSTALMENT'].values)\n",
    "\n",
    "plt.xlabel('DAYS_ENTRY_PAYMENT', fontsize=12)\n",
    "plt.ylabel('DAYS_INSTALMENT', fontsize=12)\n",
    "\n",
    "plt.show()"
   ]
  },
  {
   "cell_type": "code",
   "execution_count": 68,
   "metadata": {
    "ExecuteTime": {
     "end_time": "2018-06-21T16:05:16.950170Z",
     "start_time": "2018-06-21T16:04:09.335323Z"
    }
   },
   "outputs": [
    {
     "data": {
      "image/png": "[encoded data removed]",
      "text/plain": [
       "<matplotlib.figure.Figure at 0x7fec1c598240>"
      ]
     },
     "metadata": {},
     "output_type": "display_data"
    }
   ],
   "source": [
    "temp = installments_payments.copy()\n",
    "\n",
    "plt.scatter(temp['DAYS_ENTRY_PAYMENT'].fillna(-999).values, temp['AMT_PAYMENT'].fillna(-999).values)\n",
    "plt.xlabel('DAYS_ENTRY_PAYMENT', fontsize=12)\n",
    "plt.ylabel('AMT_PAYMENT', fontsize=12)\n",
    "plt.show()"
   ]
  },
  {
   "cell_type": "code",
   "execution_count": 69,
   "metadata": {
    "ExecuteTime": {
     "end_time": "2018-06-21T16:06:27.120886Z",
     "start_time": "2018-06-21T16:05:19.789979Z"
    }
   },
   "outputs": [
    {
     "data": {
      "image/png": "[encoded data removed]",
      "text/plain": [
       "<matplotlib.figure.Figure at 0x7fec22baf390>"
      ]
     },
     "metadata": {},
     "output_type": "display_data"
    }
   ],
   "source": [
    "temp = installments_payments.copy()\n",
    "\n",
    "plt.scatter(temp['DAYS_INSTALMENT'].values, temp['AMT_INSTALMENT'].values)\n",
    "plt.xlabel('DAYS_INSTALMENT', fontsize=12)\n",
    "plt.ylabel('AMT_INSTALMENT', fontsize=12)\n",
    "plt.show()"
   ]
  },
  {
   "cell_type": "code",
   "execution_count": 42,
   "metadata": {
    "ExecuteTime": {
     "end_time": "2018-06-21T18:02:59.045620Z",
     "start_time": "2018-06-21T18:01:51.970752Z"
    }
   },
   "outputs": [
    {
     "data": {
      "image/png": "[encoded data removed]",
      "text/plain": [
       "<matplotlib.figure.Figure at 0x7efb503200f0>"
      ]
     },
     "metadata": {},
     "output_type": "display_data"
    },
    {
     "data": {
      "text/plain": [
       "(               0\n",
       " 11943247  3189.0,                     0\n",
       " 396593    1804496.850\n",
       " 3542381   2424726.405\n",
       " 3794755   1010375.190\n",
       " 3794805   1006469.235\n",
       " 5992605   1081089.900\n",
       " 11489447  1115650.845)"
      ]
     },
     "execution_count": 42,
     "metadata": {},
     "output_type": "execute_result"
    }
   ],
   "source": [
    "temp = installments_payments.copy()\n",
    "\n",
    "X = pd.DataFrame(temp['DAYS_INSTALMENT'].values - temp['DAYS_ENTRY_PAYMENT'].fillna(-999).values)\n",
    "Y = pd.DataFrame(temp['AMT_INSTALMENT'].values - temp['AMT_PAYMENT'].fillna(-999).values)\n",
    "\n",
    "plt.scatter(X, Y)\n",
    "plt.xlabel('DAYS_DIFF', fontsize=12)\n",
    "plt.ylabel('AMT_DIFF', fontsize=12)\n",
    "plt.show()\n",
    "\n",
    "X[X.values >2000], Y[Y.values >1000000]"
   ]
  },
  {
   "cell_type": "code",
   "execution_count": 5,
   "metadata": {
    "ExecuteTime": {
     "end_time": "2018-06-21T17:46:21.176947Z",
     "start_time": "2018-06-21T17:46:20.909784Z"
    }
   },
   "outputs": [
    {
     "data": {
      "image/png": "[encoded data removed]",
      "text/plain": [
       "<matplotlib.figure.Figure at 0x7efb6e11dfd0>"
      ]
     },
     "metadata": {},
     "output_type": "display_data"
    }
   ],
   "source": [
    "temp = bureau.copy()\n",
    "\n",
    "plt.hist(temp['DAYS_CREDIT'], edgecolor = 'k', bins = 20)\n",
    "plt.title('DAYS_CREDIT'); plt.xlabel('DAYS'); plt.ylabel('Count');\n",
    "plt.show()"
   ]
  },
  {
   "cell_type": "code",
   "execution_count": 23,
   "metadata": {
    "ExecuteTime": {
     "end_time": "2018-06-21T17:51:57.655223Z",
     "start_time": "2018-06-21T17:51:57.308759Z"
    }
   },
   "outputs": [
    {
     "data": {
      "image/png": "[encoded data removed]",
      "text/plain": [
       "<matplotlib.figure.Figure at 0x7efb6be10ac8>"
      ]
     },
     "metadata": {},
     "output_type": "display_data"
    },
    {
     "data": {
      "text/plain": [
       "(1716428, 1712211)"
      ]
     },
     "execution_count": 23,
     "metadata": {},
     "output_type": "execute_result"
    }
   ],
   "source": [
    "temp = bureau.copy() \n",
    "\n",
    "temp = temp[temp['CREDIT_DAY_OVERDUE'].values > 0]\n",
    "\n",
    "plt.hist(temp['CREDIT_DAY_OVERDUE'], edgecolor = 'k', bins = 20)\n",
    "plt.title('CREDIT_DAY_OVERDUE'); plt.xlabel('DAYS'); plt.ylabel('Count');\n",
    "plt.show()\n",
    "\n",
    "bureau.shape[0], bureau[bureau['CREDIT_DAY_OVERDUE'].values == 0]['CREDIT_DAY_OVERDUE'].count()"
   ]
  },
  {
   "cell_type": "code",
   "execution_count": 25,
   "metadata": {
    "ExecuteTime": {
     "end_time": "2018-06-21T17:54:26.539203Z",
     "start_time": "2018-06-21T17:54:26.343644Z"
    }
   },
   "outputs": [
    {
     "data": {
      "image/png": "[encoded data removed]",
      "text/plain": [
       "<matplotlib.figure.Figure at 0x7efb6bdbb940>"
      ]
     },
     "metadata": {},
     "output_type": "display_data"
    }
   ],
   "source": [
    "temp = bureau.copy() \n",
    "\n",
    "temp = pd.DataFrame(temp['DAYS_CREDIT_ENDDATE'].fillna(-999))\n",
    "temp = temp[temp['DAYS_CREDIT_ENDDATE'].values > 0]\n",
    "\n",
    "plt.hist(temp['DAYS_CREDIT_ENDDATE'], edgecolor = 'k', bins = 20)\n",
    "plt.title('DAYS_CREDIT_ENDDATE'); plt.xlabel('DAYS'); plt.ylabel('Count');\n",
    "plt.show()"
   ]
  },
  {
   "cell_type": "code",
   "execution_count": 36,
   "metadata": {
    "ExecuteTime": {
     "end_time": "2018-06-21T17:58:02.490416Z",
     "start_time": "2018-06-21T17:58:02.143522Z"
    }
   },
   "outputs": [
    {
     "data": {
      "image/png": "[encoded data removed]",
      "text/plain": [
       "<matplotlib.figure.Figure at 0x7efb4f5b49b0>"
      ]
     },
     "metadata": {},
     "output_type": "display_data"
    },
    {
     "data": {
      "text/html": [
       "<div>\n",
       "<style scoped>\n",
       "    .dataframe tbody tr th:only-of-type {\n",
       "        vertical-align: middle;\n",
       "    }\n",
       "\n",
       "    .dataframe tbody tr th {\n",
       "        vertical-align: top;\n",
       "    }\n",
       "\n",
       "    .dataframe thead th {\n",
       "        text-align: right;\n",
       "    }\n",
       "</style>\n",
       "<table border=\"1\" class=\"dataframe\">\n",
       "  <thead>\n",
       "    <tr style=\"text-align: right;\">\n",
       "      <th></th>\n",
       "      <th>DAYS_ENDDATE_FACT</th>\n",
       "    </tr>\n",
       "  </thead>\n",
       "  <tbody>\n",
       "    <tr>\n",
       "      <th>198346</th>\n",
       "      <td>-42023.0</td>\n",
       "    </tr>\n",
       "    <tr>\n",
       "      <th>1550542</th>\n",
       "      <td>-3042.0</td>\n",
       "    </tr>\n",
       "  </tbody>\n",
       "</table>\n",
       "</div>"
      ],
      "text/plain": [
       "         DAYS_ENDDATE_FACT\n",
       "198346            -42023.0\n",
       "1550542            -3042.0"
      ]
     },
     "execution_count": 36,
     "metadata": {},
     "output_type": "execute_result"
    }
   ],
   "source": [
    "temp = bureau.copy() \n",
    "\n",
    "temp = pd.DataFrame(temp['DAYS_ENDDATE_FACT'].fillna(999))\n",
    "temp = temp[temp['DAYS_ENDDATE_FACT'].values <= 0]\n",
    "\n",
    "plt.hist(temp['DAYS_ENDDATE_FACT'], edgecolor = 'k', bins = 20)\n",
    "plt.title('DAYS_ENDDATE_FACT'); plt.xlabel('DAYS'); plt.ylabel('Count');\n",
    "plt.show()\n",
    "temp[temp['DAYS_ENDDATE_FACT'].values < -3000]"
   ]
  },
  {
   "cell_type": "code",
   "execution_count": 97,
   "metadata": {
    "ExecuteTime": {
     "end_time": "2018-06-21T18:17:53.581334Z",
     "start_time": "2018-06-21T18:17:53.389867Z"
    }
   },
   "outputs": [
    {
     "data": {
      "image/png": "[encoded data removed]",
      "text/plain": [
       "<matplotlib.figure.Figure at 0x7efb4f779e80>"
      ]
     },
     "metadata": {},
     "output_type": "display_data"
    },
    {
     "name": "stderr",
     "output_type": "stream",
     "text": [
      "/home/kai/anaconda3/envs/tf_newer/lib/python3.6/site-packages/ipykernel_launcher.py:10: RuntimeWarning: invalid value encountered in greater\n",
      "  # Remove the CWD from sys.path while we load stuff.\n"
     ]
    },
    {
     "data": {
      "text/html": [
       "<div>\n",
       "<style scoped>\n",
       "    .dataframe tbody tr th:only-of-type {\n",
       "        vertical-align: middle;\n",
       "    }\n",
       "\n",
       "    .dataframe tbody tr th {\n",
       "        vertical-align: top;\n",
       "    }\n",
       "\n",
       "    .dataframe thead th {\n",
       "        text-align: right;\n",
       "    }\n",
       "</style>\n",
       "<table border=\"1\" class=\"dataframe\">\n",
       "  <thead>\n",
       "    <tr style=\"text-align: right;\">\n",
       "      <th></th>\n",
       "      <th>AMT_CREDIT_MAX_OVERDUE</th>\n",
       "    </tr>\n",
       "  </thead>\n",
       "  <tbody>\n",
       "    <tr>\n",
       "      <th>491708</th>\n",
       "      <td>13975258.5</td>\n",
       "    </tr>\n",
       "    <tr>\n",
       "      <th>538546</th>\n",
       "      <td>13144527.0</td>\n",
       "    </tr>\n",
       "    <tr>\n",
       "      <th>731333</th>\n",
       "      <td>115987185.0</td>\n",
       "    </tr>\n",
       "    <tr>\n",
       "      <th>747916</th>\n",
       "      <td>14111390.7</td>\n",
       "    </tr>\n",
       "    <tr>\n",
       "      <th>819016</th>\n",
       "      <td>94812246.0</td>\n",
       "    </tr>\n",
       "    <tr>\n",
       "      <th>944266</th>\n",
       "      <td>13766418.0</td>\n",
       "    </tr>\n",
       "    <tr>\n",
       "      <th>1258128</th>\n",
       "      <td>16950010.5</td>\n",
       "    </tr>\n",
       "  </tbody>\n",
       "</table>\n",
       "</div>"
      ],
      "text/plain": [
       "         AMT_CREDIT_MAX_OVERDUE\n",
       "491708               13975258.5\n",
       "538546               13144527.0\n",
       "731333              115987185.0\n",
       "747916               14111390.7\n",
       "819016               94812246.0\n",
       "944266               13766418.0\n",
       "1258128              16950010.5"
      ]
     },
     "execution_count": 97,
     "metadata": {},
     "output_type": "execute_result"
    }
   ],
   "source": [
    "temp = bureau.copy() \n",
    "\n",
    "temp = pd.DataFrame(temp['AMT_CREDIT_MAX_OVERDUE'].fillna(-999))\n",
    "temp = temp[temp['AMT_CREDIT_MAX_OVERDUE'].values > 0]\n",
    "\n",
    "\n",
    "plt.hist(temp['AMT_CREDIT_MAX_OVERDUE'], edgecolor = 'k', bins = 20)\n",
    "plt.title('AMT_CREDIT_MAX_OVERDUE'); plt.xlabel('AMT'); plt.ylabel('Count');\n",
    "plt.show()\n",
    "pd.DataFrame(bureau[bureau['AMT_CREDIT_MAX_OVERDUE'].values > 13000000]['AMT_CREDIT_MAX_OVERDUE'])"
   ]
  },
  {
   "cell_type": "code",
   "execution_count": 83,
   "metadata": {
    "ExecuteTime": {
     "end_time": "2018-06-21T18:13:25.155584Z",
     "start_time": "2018-06-21T18:13:24.894140Z"
    }
   },
   "outputs": [
    {
     "data": {
      "image/png": "[encoded data removed]",
      "text/plain": [
       "<matplotlib.figure.Figure at 0x7efb6ba77208>"
      ]
     },
     "metadata": {},
     "output_type": "display_data"
    },
    {
     "data": {
      "text/plain": [
       "array([0, 2, 1, 4, 3, 5, 9, 8, 6, 7])"
      ]
     },
     "execution_count": 83,
     "metadata": {},
     "output_type": "execute_result"
    }
   ],
   "source": [
    "temp = bureau.copy() \n",
    "\n",
    "\n",
    "\n",
    "plt.hist(temp['CNT_CREDIT_PROLONG'], edgecolor = 'k', bins = 20)\n",
    "plt.title('CNT_CREDIT_PROLONG'); plt.xlabel('CNT'); plt.ylabel('Count');\n",
    "plt.show()\n",
    "\n",
    "temp['CNT_CREDIT_PROLONG'].unique()"
   ]
  },
  {
   "cell_type": "code",
   "execution_count": 98,
   "metadata": {
    "ExecuteTime": {
     "end_time": "2018-06-21T18:18:26.806076Z",
     "start_time": "2018-06-21T18:18:26.482499Z"
    }
   },
   "outputs": [
    {
     "data": {
      "image/png": "[encoded data removed]",
      "text/plain": [
       "<matplotlib.figure.Figure at 0x7efb6bdbdf28>"
      ]
     },
     "metadata": {},
     "output_type": "display_data"
    },
    {
     "name": "stderr",
     "output_type": "stream",
     "text": [
      "/home/kai/anaconda3/envs/tf_newer/lib/python3.6/site-packages/ipykernel_launcher.py:11: RuntimeWarning: invalid value encountered in greater\n",
      "  # This is added back by InteractiveShellApp.init_path()\n"
     ]
    },
    {
     "data": {
      "text/html": [
       "<div>\n",
       "<style scoped>\n",
       "    .dataframe tbody tr th:only-of-type {\n",
       "        vertical-align: middle;\n",
       "    }\n",
       "\n",
       "    .dataframe tbody tr th {\n",
       "        vertical-align: top;\n",
       "    }\n",
       "\n",
       "    .dataframe thead th {\n",
       "        text-align: right;\n",
       "    }\n",
       "</style>\n",
       "<table border=\"1\" class=\"dataframe\">\n",
       "  <thead>\n",
       "    <tr style=\"text-align: right;\">\n",
       "      <th></th>\n",
       "      <th>AMT_CREDIT_SUM</th>\n",
       "    </tr>\n",
       "  </thead>\n",
       "  <tbody>\n",
       "    <tr>\n",
       "      <th>488411</th>\n",
       "      <td>164032200.0</td>\n",
       "    </tr>\n",
       "    <tr>\n",
       "      <th>489961</th>\n",
       "      <td>170100000.0</td>\n",
       "    </tr>\n",
       "    <tr>\n",
       "      <th>907821</th>\n",
       "      <td>396000000.0</td>\n",
       "    </tr>\n",
       "    <tr>\n",
       "      <th>1515147</th>\n",
       "      <td>585000000.0</td>\n",
       "    </tr>\n",
       "  </tbody>\n",
       "</table>\n",
       "</div>"
      ],
      "text/plain": [
       "         AMT_CREDIT_SUM\n",
       "488411      164032200.0\n",
       "489961      170100000.0\n",
       "907821      396000000.0\n",
       "1515147     585000000.0"
      ]
     },
     "execution_count": 98,
     "metadata": {},
     "output_type": "execute_result"
    }
   ],
   "source": [
    "temp = bureau.copy() \n",
    "\n",
    "temp = pd.DataFrame(temp['AMT_CREDIT_SUM'].fillna(-999))\n",
    "temp = temp[temp['AMT_CREDIT_SUM'].values >= 0]\n",
    "\n",
    "\n",
    "plt.hist(temp['AMT_CREDIT_SUM'], edgecolor = 'k', bins = 20)\n",
    "plt.title('AMT_CREDIT_SUM'); plt.xlabel('AMT'); plt.ylabel('Count');\n",
    "plt.show()\n",
    "\n",
    "pd.DataFrame(bureau[bureau['AMT_CREDIT_SUM'].values > 150000000]['AMT_CREDIT_SUM'])"
   ]
  },
  {
   "cell_type": "code",
   "execution_count": 102,
   "metadata": {
    "ExecuteTime": {
     "end_time": "2018-06-21T18:19:11.820596Z",
     "start_time": "2018-06-21T18:19:11.540775Z"
    }
   },
   "outputs": [
    {
     "data": {
      "image/png": "[encoded data removed]",
      "text/plain": [
       "<matplotlib.figure.Figure at 0x7efb6b9b6dd8>"
      ]
     },
     "metadata": {},
     "output_type": "display_data"
    },
    {
     "name": "stderr",
     "output_type": "stream",
     "text": [
      "/home/kai/anaconda3/envs/tf_newer/lib/python3.6/site-packages/ipykernel_launcher.py:11: RuntimeWarning: invalid value encountered in greater\n",
      "  # This is added back by InteractiveShellApp.init_path()\n"
     ]
    },
    {
     "data": {
      "text/html": [
       "<div>\n",
       "<style scoped>\n",
       "    .dataframe tbody tr th:only-of-type {\n",
       "        vertical-align: middle;\n",
       "    }\n",
       "\n",
       "    .dataframe tbody tr th {\n",
       "        vertical-align: top;\n",
       "    }\n",
       "\n",
       "    .dataframe thead th {\n",
       "        text-align: right;\n",
       "    }\n",
       "</style>\n",
       "<table border=\"1\" class=\"dataframe\">\n",
       "  <thead>\n",
       "    <tr style=\"text-align: right;\">\n",
       "      <th></th>\n",
       "      <th>AMT_CREDIT_SUM_DEBT</th>\n",
       "    </tr>\n",
       "  </thead>\n",
       "  <tbody>\n",
       "    <tr>\n",
       "      <th>488411</th>\n",
       "      <td>164032200.0</td>\n",
       "    </tr>\n",
       "    <tr>\n",
       "      <th>489961</th>\n",
       "      <td>170100000.0</td>\n",
       "    </tr>\n",
       "    <tr>\n",
       "      <th>628833</th>\n",
       "      <td>59637690.0</td>\n",
       "    </tr>\n",
       "    <tr>\n",
       "      <th>824842</th>\n",
       "      <td>51365155.5</td>\n",
       "    </tr>\n",
       "    <tr>\n",
       "      <th>1609469</th>\n",
       "      <td>64570243.5</td>\n",
       "    </tr>\n",
       "    <tr>\n",
       "      <th>1653624</th>\n",
       "      <td>51750000.0</td>\n",
       "    </tr>\n",
       "    <tr>\n",
       "      <th>1653626</th>\n",
       "      <td>65441403.0</td>\n",
       "    </tr>\n",
       "    <tr>\n",
       "      <th>1701166</th>\n",
       "      <td>62218953.0</td>\n",
       "    </tr>\n",
       "  </tbody>\n",
       "</table>\n",
       "</div>"
      ],
      "text/plain": [
       "         AMT_CREDIT_SUM_DEBT\n",
       "488411           164032200.0\n",
       "489961           170100000.0\n",
       "628833            59637690.0\n",
       "824842            51365155.5\n",
       "1609469           64570243.5\n",
       "1653624           51750000.0\n",
       "1653626           65441403.0\n",
       "1701166           62218953.0"
      ]
     },
     "execution_count": 102,
     "metadata": {},
     "output_type": "execute_result"
    }
   ],
   "source": [
    "temp = bureau.copy() \n",
    "\n",
    "temp = pd.DataFrame(temp['AMT_CREDIT_SUM_DEBT'].fillna(-999))\n",
    "temp = temp[temp['AMT_CREDIT_SUM_DEBT'].values >= 0]\n",
    "\n",
    "\n",
    "plt.hist(temp['AMT_CREDIT_SUM_DEBT'], edgecolor = 'k', bins = 20)\n",
    "plt.title('AMT_CREDIT_SUM_DEBT'); plt.xlabel('AMT'); plt.ylabel('Count');\n",
    "plt.show()\n",
    "\n",
    "pd.DataFrame(bureau[bureau['AMT_CREDIT_SUM_DEBT'].values > 50000000]['AMT_CREDIT_SUM_DEBT'])"
   ]
  },
  {
   "cell_type": "code",
   "execution_count": 109,
   "metadata": {
    "ExecuteTime": {
     "end_time": "2018-06-21T18:20:41.914404Z",
     "start_time": "2018-06-21T18:20:41.375381Z"
    }
   },
   "outputs": [
    {
     "data": {
      "image/png": "[encoded data removed]",
      "text/plain": [
       "<matplotlib.figure.Figure at 0x7efb6ba68908>"
      ]
     },
     "metadata": {},
     "output_type": "display_data"
    },
    {
     "name": "stderr",
     "output_type": "stream",
     "text": [
      "/home/kai/anaconda3/envs/tf_newer/lib/python3.6/site-packages/ipykernel_launcher.py:11: RuntimeWarning: invalid value encountered in greater\n",
      "  # This is added back by InteractiveShellApp.init_path()\n"
     ]
    },
    {
     "data": {
      "text/html": [
       "<div>\n",
       "<style scoped>\n",
       "    .dataframe tbody tr th:only-of-type {\n",
       "        vertical-align: middle;\n",
       "    }\n",
       "\n",
       "    .dataframe tbody tr th {\n",
       "        vertical-align: top;\n",
       "    }\n",
       "\n",
       "    .dataframe thead th {\n",
       "        text-align: right;\n",
       "    }\n",
       "</style>\n",
       "<table border=\"1\" class=\"dataframe\">\n",
       "  <thead>\n",
       "    <tr style=\"text-align: right;\">\n",
       "      <th></th>\n",
       "      <th>AMT_CREDIT_SUM_LIMIT</th>\n",
       "    </tr>\n",
       "  </thead>\n",
       "  <tbody>\n",
       "    <tr>\n",
       "      <th>82859</th>\n",
       "      <td>4705600.320</td>\n",
       "    </tr>\n",
       "    <tr>\n",
       "      <th>277448</th>\n",
       "      <td>3375000.000</td>\n",
       "    </tr>\n",
       "    <tr>\n",
       "      <th>518329</th>\n",
       "      <td>3109510.980</td>\n",
       "    </tr>\n",
       "    <tr>\n",
       "      <th>882676</th>\n",
       "      <td>4500000.000</td>\n",
       "    </tr>\n",
       "    <tr>\n",
       "      <th>1111186</th>\n",
       "      <td>3375000.000</td>\n",
       "    </tr>\n",
       "    <tr>\n",
       "      <th>1160234</th>\n",
       "      <td>3555065.655</td>\n",
       "    </tr>\n",
       "    <tr>\n",
       "      <th>1247771</th>\n",
       "      <td>4500000.000</td>\n",
       "    </tr>\n",
       "    <tr>\n",
       "      <th>1341683</th>\n",
       "      <td>3037500.000</td>\n",
       "    </tr>\n",
       "    <tr>\n",
       "      <th>1430873</th>\n",
       "      <td>4443255.000</td>\n",
       "    </tr>\n",
       "  </tbody>\n",
       "</table>\n",
       "</div>"
      ],
      "text/plain": [
       "         AMT_CREDIT_SUM_LIMIT\n",
       "82859             4705600.320\n",
       "277448            3375000.000\n",
       "518329            3109510.980\n",
       "882676            4500000.000\n",
       "1111186           3375000.000\n",
       "1160234           3555065.655\n",
       "1247771           4500000.000\n",
       "1341683           3037500.000\n",
       "1430873           4443255.000"
      ]
     },
     "execution_count": 109,
     "metadata": {},
     "output_type": "execute_result"
    }
   ],
   "source": [
    "temp = bureau.copy() \n",
    "\n",
    "temp = pd.DataFrame(temp['AMT_CREDIT_SUM_LIMIT'].fillna(-999))\n",
    "temp = temp[temp['AMT_CREDIT_SUM_LIMIT'].values >= 0]\n",
    "\n",
    "\n",
    "plt.hist(temp['AMT_CREDIT_SUM_LIMIT'], edgecolor = 'k', bins = 20)\n",
    "plt.title('AMT_CREDIT_SUM_LIMIT'); plt.xlabel('AMT'); plt.ylabel('Count');\n",
    "plt.show()\n",
    "\n",
    "pd.DataFrame(bureau[bureau['AMT_CREDIT_SUM_LIMIT'].values > 3000000]['AMT_CREDIT_SUM_LIMIT'])"
   ]
  },
  {
   "cell_type": "code",
   "execution_count": 113,
   "metadata": {
    "ExecuteTime": {
     "end_time": "2018-06-21T18:23:03.600703Z",
     "start_time": "2018-06-21T18:23:03.048713Z"
    }
   },
   "outputs": [
    {
     "data": {
      "image/png": "[encoded data removed]",
      "text/plain": [
       "<matplotlib.figure.Figure at 0x7efb4f5902e8>"
      ]
     },
     "metadata": {},
     "output_type": "display_data"
    },
    {
     "data": {
      "text/html": [
       "<div>\n",
       "<style scoped>\n",
       "    .dataframe tbody tr th:only-of-type {\n",
       "        vertical-align: middle;\n",
       "    }\n",
       "\n",
       "    .dataframe tbody tr th {\n",
       "        vertical-align: top;\n",
       "    }\n",
       "\n",
       "    .dataframe thead th {\n",
       "        text-align: right;\n",
       "    }\n",
       "</style>\n",
       "<table border=\"1\" class=\"dataframe\">\n",
       "  <thead>\n",
       "    <tr style=\"text-align: right;\">\n",
       "      <th></th>\n",
       "      <th>AMT_CREDIT_SUM_OVERDUE</th>\n",
       "    </tr>\n",
       "  </thead>\n",
       "  <tbody>\n",
       "    <tr>\n",
       "      <th>188140</th>\n",
       "      <td>2387232.000</td>\n",
       "    </tr>\n",
       "    <tr>\n",
       "      <th>271894</th>\n",
       "      <td>1851210.000</td>\n",
       "    </tr>\n",
       "    <tr>\n",
       "      <th>316296</th>\n",
       "      <td>1125733.500</td>\n",
       "    </tr>\n",
       "    <tr>\n",
       "      <th>631224</th>\n",
       "      <td>1361214.000</td>\n",
       "    </tr>\n",
       "    <tr>\n",
       "      <th>940407</th>\n",
       "      <td>3756681.000</td>\n",
       "    </tr>\n",
       "    <tr>\n",
       "      <th>1262293</th>\n",
       "      <td>1097437.500</td>\n",
       "    </tr>\n",
       "    <tr>\n",
       "      <th>1334085</th>\n",
       "      <td>1329597.000</td>\n",
       "    </tr>\n",
       "    <tr>\n",
       "      <th>1430899</th>\n",
       "      <td>1617403.500</td>\n",
       "    </tr>\n",
       "    <tr>\n",
       "      <th>1437569</th>\n",
       "      <td>1025635.500</td>\n",
       "    </tr>\n",
       "    <tr>\n",
       "      <th>1573873</th>\n",
       "      <td>1224474.885</td>\n",
       "    </tr>\n",
       "    <tr>\n",
       "      <th>1689290</th>\n",
       "      <td>3681063.000</td>\n",
       "    </tr>\n",
       "  </tbody>\n",
       "</table>\n",
       "</div>"
      ],
      "text/plain": [
       "         AMT_CREDIT_SUM_OVERDUE\n",
       "188140              2387232.000\n",
       "271894              1851210.000\n",
       "316296              1125733.500\n",
       "631224              1361214.000\n",
       "940407              3756681.000\n",
       "1262293             1097437.500\n",
       "1334085             1329597.000\n",
       "1430899             1617403.500\n",
       "1437569             1025635.500\n",
       "1573873             1224474.885\n",
       "1689290             3681063.000"
      ]
     },
     "execution_count": 113,
     "metadata": {},
     "output_type": "execute_result"
    }
   ],
   "source": [
    "temp = bureau.copy() \n",
    "\n",
    "temp = temp[temp['AMT_CREDIT_SUM_OVERDUE'].values >= 0]\n",
    "\n",
    "\n",
    "plt.hist(temp['AMT_CREDIT_SUM_OVERDUE'], edgecolor = 'k', bins = 20)\n",
    "plt.title('AMT_CREDIT_SUM_OVERDUE'); plt.xlabel('AMT'); plt.ylabel('Count');\n",
    "plt.show()\n",
    "\n",
    "pd.DataFrame(bureau[bureau['AMT_CREDIT_SUM_OVERDUE'].values > 1000000]['AMT_CREDIT_SUM_OVERDUE'])"
   ]
  },
  {
   "cell_type": "code",
   "execution_count": 144,
   "metadata": {
    "ExecuteTime": {
     "end_time": "2018-06-21T18:34:06.463196Z",
     "start_time": "2018-06-21T18:34:04.830548Z"
    }
   },
   "outputs": [
    {
     "data": {
      "image/png": "[encoded data removed]",
      "text/plain": [
       "<matplotlib.figure.Figure at 0x7efb502ad780>"
      ]
     },
     "metadata": {},
     "output_type": "display_data"
    },
    {
     "data": {
      "text/html": [
       "<div>\n",
       "<style scoped>\n",
       "    .dataframe tbody tr th:only-of-type {\n",
       "        vertical-align: middle;\n",
       "    }\n",
       "\n",
       "    .dataframe tbody tr th {\n",
       "        vertical-align: top;\n",
       "    }\n",
       "\n",
       "    .dataframe thead th {\n",
       "        text-align: right;\n",
       "    }\n",
       "</style>\n",
       "<table border=\"1\" class=\"dataframe\">\n",
       "  <thead>\n",
       "    <tr style=\"text-align: right;\">\n",
       "      <th></th>\n",
       "      <th>DAYS_CREDIT_UPDATE</th>\n",
       "    </tr>\n",
       "  </thead>\n",
       "  <tbody>\n",
       "    <tr>\n",
       "      <th>156979</th>\n",
       "      <td>20</td>\n",
       "    </tr>\n",
       "    <tr>\n",
       "      <th>272146</th>\n",
       "      <td>20</td>\n",
       "    </tr>\n",
       "    <tr>\n",
       "      <th>463222</th>\n",
       "      <td>13</td>\n",
       "    </tr>\n",
       "    <tr>\n",
       "      <th>471016</th>\n",
       "      <td>13</td>\n",
       "    </tr>\n",
       "    <tr>\n",
       "      <th>471246</th>\n",
       "      <td>13</td>\n",
       "    </tr>\n",
       "    <tr>\n",
       "      <th>984063</th>\n",
       "      <td>22</td>\n",
       "    </tr>\n",
       "    <tr>\n",
       "      <th>1099999</th>\n",
       "      <td>23</td>\n",
       "    </tr>\n",
       "    <tr>\n",
       "      <th>1111309</th>\n",
       "      <td>16</td>\n",
       "    </tr>\n",
       "    <tr>\n",
       "      <th>1171515</th>\n",
       "      <td>19</td>\n",
       "    </tr>\n",
       "    <tr>\n",
       "      <th>1238331</th>\n",
       "      <td>14</td>\n",
       "    </tr>\n",
       "    <tr>\n",
       "      <th>1284955</th>\n",
       "      <td>15</td>\n",
       "    </tr>\n",
       "    <tr>\n",
       "      <th>1287459</th>\n",
       "      <td>372</td>\n",
       "    </tr>\n",
       "    <tr>\n",
       "      <th>1305600</th>\n",
       "      <td>13</td>\n",
       "    </tr>\n",
       "    <tr>\n",
       "      <th>1415613</th>\n",
       "      <td>23</td>\n",
       "    </tr>\n",
       "    <tr>\n",
       "      <th>1489032</th>\n",
       "      <td>10</td>\n",
       "    </tr>\n",
       "    <tr>\n",
       "      <th>1495064</th>\n",
       "      <td>12</td>\n",
       "    </tr>\n",
       "    <tr>\n",
       "      <th>1607772</th>\n",
       "      <td>11</td>\n",
       "    </tr>\n",
       "  </tbody>\n",
       "</table>\n",
       "</div>"
      ],
      "text/plain": [
       "         DAYS_CREDIT_UPDATE\n",
       "156979                   20\n",
       "272146                   20\n",
       "463222                   13\n",
       "471016                   13\n",
       "471246                   13\n",
       "984063                   22\n",
       "1099999                  23\n",
       "1111309                  16\n",
       "1171515                  19\n",
       "1238331                  14\n",
       "1284955                  15\n",
       "1287459                 372\n",
       "1305600                  13\n",
       "1415613                  23\n",
       "1489032                  10\n",
       "1495064                  12\n",
       "1607772                  11"
      ]
     },
     "execution_count": 144,
     "metadata": {},
     "output_type": "execute_result"
    }
   ],
   "source": [
    "temp = bureau.copy() \n",
    "\n",
    "plt.hist(temp['DAYS_CREDIT_UPDATE'], edgecolor = 'k', bins = 20)\n",
    "plt.title('DAYS_CREDIT_UPDATE'); plt.xlabel('DAYS'); plt.ylabel('Count');\n",
    "plt.show()\n",
    "\n",
    "pd.DataFrame(bureau[ bureau['DAYS_CREDIT_UPDATE'].values > 0]['DAYS_CREDIT_UPDATE'])"
   ]
  },
  {
   "cell_type": "code",
   "execution_count": 129,
   "metadata": {
    "ExecuteTime": {
     "end_time": "2018-06-21T18:27:32.908109Z",
     "start_time": "2018-06-21T18:27:32.106086Z"
    }
   },
   "outputs": [
    {
     "data": {
      "image/png": "[encoded data removed]",
      "text/plain": [
       "<matplotlib.figure.Figure at 0x7efb4f617fd0>"
      ]
     },
     "metadata": {},
     "output_type": "display_data"
    },
    {
     "name": "stderr",
     "output_type": "stream",
     "text": [
      "/home/kai/anaconda3/envs/tf_newer/lib/python3.6/site-packages/ipykernel_launcher.py:11: RuntimeWarning: invalid value encountered in greater\n",
      "  # This is added back by InteractiveShellApp.init_path()\n"
     ]
    },
    {
     "data": {
      "text/html": [
       "<div>\n",
       "<style scoped>\n",
       "    .dataframe tbody tr th:only-of-type {\n",
       "        vertical-align: middle;\n",
       "    }\n",
       "\n",
       "    .dataframe tbody tr th {\n",
       "        vertical-align: top;\n",
       "    }\n",
       "\n",
       "    .dataframe thead th {\n",
       "        text-align: right;\n",
       "    }\n",
       "</style>\n",
       "<table border=\"1\" class=\"dataframe\">\n",
       "  <thead>\n",
       "    <tr style=\"text-align: right;\">\n",
       "      <th></th>\n",
       "      <th>AMT_ANNUITY</th>\n",
       "    </tr>\n",
       "  </thead>\n",
       "  <tbody>\n",
       "    <tr>\n",
       "      <th>588794</th>\n",
       "      <td>57476227.5</td>\n",
       "    </tr>\n",
       "    <tr>\n",
       "      <th>607473</th>\n",
       "      <td>118453423.5</td>\n",
       "    </tr>\n",
       "    <tr>\n",
       "      <th>639909</th>\n",
       "      <td>27293341.5</td>\n",
       "    </tr>\n",
       "    <tr>\n",
       "      <th>639914</th>\n",
       "      <td>27293341.5</td>\n",
       "    </tr>\n",
       "    <tr>\n",
       "      <th>650368</th>\n",
       "      <td>59586682.5</td>\n",
       "    </tr>\n",
       "    <tr>\n",
       "      <th>719450</th>\n",
       "      <td>42812998.2</td>\n",
       "    </tr>\n",
       "    <tr>\n",
       "      <th>831382</th>\n",
       "      <td>43286215.5</td>\n",
       "    </tr>\n",
       "    <tr>\n",
       "      <th>834051</th>\n",
       "      <td>24016036.5</td>\n",
       "    </tr>\n",
       "    <tr>\n",
       "      <th>992980</th>\n",
       "      <td>31160587.5</td>\n",
       "    </tr>\n",
       "    <tr>\n",
       "      <th>1076015</th>\n",
       "      <td>54562657.5</td>\n",
       "    </tr>\n",
       "    <tr>\n",
       "      <th>1275852</th>\n",
       "      <td>45490630.5</td>\n",
       "    </tr>\n",
       "    <tr>\n",
       "      <th>1366730</th>\n",
       "      <td>31160587.5</td>\n",
       "    </tr>\n",
       "    <tr>\n",
       "      <th>1468707</th>\n",
       "      <td>33784668.0</td>\n",
       "    </tr>\n",
       "    <tr>\n",
       "      <th>1480286</th>\n",
       "      <td>56844981.0</td>\n",
       "    </tr>\n",
       "    <tr>\n",
       "      <th>1687167</th>\n",
       "      <td>90632371.5</td>\n",
       "    </tr>\n",
       "  </tbody>\n",
       "</table>\n",
       "</div>"
      ],
      "text/plain": [
       "         AMT_ANNUITY\n",
       "588794    57476227.5\n",
       "607473   118453423.5\n",
       "639909    27293341.5\n",
       "639914    27293341.5\n",
       "650368    59586682.5\n",
       "719450    42812998.2\n",
       "831382    43286215.5\n",
       "834051    24016036.5\n",
       "992980    31160587.5\n",
       "1076015   54562657.5\n",
       "1275852   45490630.5\n",
       "1366730   31160587.5\n",
       "1468707   33784668.0\n",
       "1480286   56844981.0\n",
       "1687167   90632371.5"
      ]
     },
     "execution_count": 129,
     "metadata": {},
     "output_type": "execute_result"
    }
   ],
   "source": [
    "temp = bureau.copy() \n",
    "\n",
    "temp = pd.DataFrame(temp['AMT_ANNUITY'].fillna(-999))\n",
    "temp = temp[temp['AMT_ANNUITY'].values >= 0]\n",
    "\n",
    "\n",
    "plt.hist(temp['AMT_ANNUITY'], edgecolor = 'k', bins = 20)\n",
    "plt.title('AMT_ANNUITY'); plt.xlabel('AMT'); plt.ylabel('Count');\n",
    "plt.show()\n",
    "\n",
    "pd.DataFrame(bureau[bureau['AMT_ANNUITY'].values > 20000000]['AMT_ANNUITY'])"
   ]
  },
  {
   "cell_type": "code",
   "execution_count": null,
   "metadata": {
    "collapsed": true
   },
   "outputs": [],
   "source": []
  },
  {
   "cell_type": "code",
   "execution_count": 3,
   "metadata": {
    "ExecuteTime": {
     "end_time": "2018-06-14T18:25:24.544709Z",
     "start_time": "2018-06-14T18:25:23.393412Z"
    },
    "collapsed": true
   },
   "outputs": [],
   "source": [
    "df = pd.concat([train,test], axis = 0)\n",
    "df = df[['SK_ID_CURR']]\n",
    "credit = credit_card_balance.copy()"
   ]
  },
  {
   "cell_type": "markdown",
   "metadata": {},
   "source": [
    "# Substraction, ratio, and score_dpd"
   ]
  },
  {
   "cell_type": "code",
   "execution_count": 7,
   "metadata": {
    "ExecuteTime": {
     "end_time": "2018-06-14T18:26:01.090365Z",
     "start_time": "2018-06-14T18:26:01.083092Z"
    },
    "collapsed": true
   },
   "outputs": [],
   "source": [
    "import pandas as pd\n",
    "import os\n",
    "import gc\n",
    "import numpy as np\n",
    "\n",
    "def ratio_name(numerator, denominator): return numerator + '_divide_' + denominator\n",
    "\n",
    "def ratio(df, numerator, denominator):\n",
    "    return df[numerator] / df[denominator]\n",
    "\n",
    "def substraction_name(col1, col2): return col1 + '_minus_' + col2\n",
    "\n",
    "def substraction(df, col1, col2):\n",
    "    return df[col1] - df[col2]"
   ]
  },
  {
   "cell_type": "code",
   "execution_count": 9,
   "metadata": {
    "ExecuteTime": {
     "end_time": "2018-06-14T18:26:13.660205Z",
     "start_time": "2018-06-14T18:26:13.649679Z"
    },
    "collapsed": true
   },
   "outputs": [],
   "source": [
    "# Substraction\n",
    "credit[substraction_name('AMT_CREDIT_LIMIT_ACTUAL', 'AMT_BALANCE')] = \\\n",
    "substraction(credit, 'AMT_CREDIT_LIMIT_ACTUAL', 'AMT_BALANCE')"
   ]
  },
  {
   "cell_type": "code",
   "execution_count": 10,
   "metadata": {
    "ExecuteTime": {
     "end_time": "2018-06-14T18:26:18.472594Z",
     "start_time": "2018-06-14T18:26:18.468911Z"
    },
    "collapsed": true
   },
   "outputs": [],
   "source": [
    "# Ratio\n",
    "top = ['AMT_DRAWINGS_ATM_CURRENT', 'AMT_DRAWINGS_POS_CURRENT', 'AMT_DRAWINGS_OTHER_CURRENT',\\\n",
    "      'CNT_DRAWINGS_ATM_CURRENT', 'CNT_DRAWINGS_OTHER_CURRENT', 'CNT_DRAWINGS_POS_CURRENT',\\\n",
    "      'AMT_DRAWINGS_ATM_CURRENT', 'AMT_DRAWINGS_POS_CURRENT', 'AMT_DRAWINGS_OTHER_CURRENT', 'AMT_DRAWINGS_CURRENT']\n",
    "\n",
    "bot = ['AMT_DRAWINGS_CURRENT', 'AMT_DRAWINGS_CURRENT','AMT_DRAWINGS_CURRENT', \\\n",
    "       'CNT_DRAWINGS_CURRENT', 'CNT_DRAWINGS_CURRENT', 'CNT_DRAWINGS_CURRENT',\\\n",
    "       'CNT_DRAWINGS_ATM_CURRENT', 'CNT_DRAWINGS_POS_CURRENT', 'CNT_DRAWINGS_OTHER_CURRENT', 'CNT_DRAWINGS_CURRENT']"
   ]
  },
  {
   "cell_type": "code",
   "execution_count": 11,
   "metadata": {
    "ExecuteTime": {
     "end_time": "2018-06-14T18:26:22.674381Z",
     "start_time": "2018-06-14T18:26:22.600200Z"
    }
   },
   "outputs": [
    {
     "name": "stdout",
     "output_type": "stream",
     "text": [
      "AMT_DRAWINGS_ATM_CURRENT AMT_DRAWINGS_CURRENT\n",
      "AMT_DRAWINGS_POS_CURRENT AMT_DRAWINGS_CURRENT\n",
      "AMT_DRAWINGS_OTHER_CURRENT AMT_DRAWINGS_CURRENT\n",
      "CNT_DRAWINGS_ATM_CURRENT CNT_DRAWINGS_CURRENT\n",
      "CNT_DRAWINGS_OTHER_CURRENT CNT_DRAWINGS_CURRENT\n",
      "CNT_DRAWINGS_POS_CURRENT CNT_DRAWINGS_CURRENT\n",
      "AMT_DRAWINGS_ATM_CURRENT CNT_DRAWINGS_ATM_CURRENT\n",
      "AMT_DRAWINGS_POS_CURRENT CNT_DRAWINGS_POS_CURRENT\n",
      "AMT_DRAWINGS_OTHER_CURRENT CNT_DRAWINGS_OTHER_CURRENT\n",
      "AMT_DRAWINGS_CURRENT CNT_DRAWINGS_CURRENT\n"
     ]
    }
   ],
   "source": [
    "# Ratio\n",
    "for i in range(len(top)):\n",
    "    print(top[i],bot[i])\n",
    "    credit[ratio_name(top[i], bot[i])] = \\\n",
    "    ratio(credit, top[i], bot[i])"
   ]
  },
  {
   "cell_type": "code",
   "execution_count": 12,
   "metadata": {
    "ExecuteTime": {
     "end_time": "2018-06-14T18:26:27.888407Z",
     "start_time": "2018-06-14T18:26:27.793778Z"
    },
    "collapsed": true
   },
   "outputs": [],
   "source": [
    "credit['score_DPD'] = 0\n",
    "credit['score_DPD'] = (credit['SK_DPD']**3 + 5* credit['SK_DPD_DEF']**3 + 1) * (1/(1 + abs(credit['MONTHS_BALANCE']) ))"
   ]
  },
  {
   "cell_type": "code",
   "execution_count": 13,
   "metadata": {
    "ExecuteTime": {
     "end_time": "2018-06-14T18:26:34.391611Z",
     "start_time": "2018-06-14T18:26:33.277237Z"
    },
    "collapsed": true
   },
   "outputs": [
    {
     "data": {
      "text/html": [
       "<div>\n",
       "<style scoped>\n",
       "    .dataframe tbody tr th:only-of-type {\n",
       "        vertical-align: middle;\n",
       "    }\n",
       "\n",
       "    .dataframe tbody tr th {\n",
       "        vertical-align: top;\n",
       "    }\n",
       "\n",
       "    .dataframe thead th {\n",
       "        text-align: right;\n",
       "    }\n",
       "</style>\n",
       "<table border=\"1\" class=\"dataframe\">\n",
       "  <thead>\n",
       "    <tr style=\"text-align: right;\">\n",
       "      <th></th>\n",
       "      <th>score_DPD</th>\n",
       "      <th>SK_DPD</th>\n",
       "      <th>SK_DPD_DEF</th>\n",
       "      <th>MONTHS_BALANCE</th>\n",
       "    </tr>\n",
       "  </thead>\n",
       "  <tbody>\n",
       "    <tr>\n",
       "      <th>0</th>\n",
       "      <td>0.142857</td>\n",
       "      <td>0</td>\n",
       "      <td>0</td>\n",
       "      <td>-6</td>\n",
       "    </tr>\n",
       "    <tr>\n",
       "      <th>1</th>\n",
       "      <td>0.500000</td>\n",
       "      <td>0</td>\n",
       "      <td>0</td>\n",
       "      <td>-1</td>\n",
       "    </tr>\n",
       "    <tr>\n",
       "      <th>2</th>\n",
       "      <td>0.125000</td>\n",
       "      <td>0</td>\n",
       "      <td>0</td>\n",
       "      <td>-7</td>\n",
       "    </tr>\n",
       "    <tr>\n",
       "      <th>3</th>\n",
       "      <td>0.200000</td>\n",
       "      <td>0</td>\n",
       "      <td>0</td>\n",
       "      <td>-4</td>\n",
       "    </tr>\n",
       "    <tr>\n",
       "      <th>4</th>\n",
       "      <td>0.500000</td>\n",
       "      <td>0</td>\n",
       "      <td>0</td>\n",
       "      <td>-1</td>\n",
       "    </tr>\n",
       "    <tr>\n",
       "      <th>5</th>\n",
       "      <td>43.000000</td>\n",
       "      <td>7</td>\n",
       "      <td>0</td>\n",
       "      <td>-7</td>\n",
       "    </tr>\n",
       "    <tr>\n",
       "      <th>6</th>\n",
       "      <td>0.142857</td>\n",
       "      <td>0</td>\n",
       "      <td>0</td>\n",
       "      <td>-6</td>\n",
       "    </tr>\n",
       "    <tr>\n",
       "      <th>7</th>\n",
       "      <td>0.125000</td>\n",
       "      <td>0</td>\n",
       "      <td>0</td>\n",
       "      <td>-7</td>\n",
       "    </tr>\n",
       "    <tr>\n",
       "      <th>8</th>\n",
       "      <td>0.200000</td>\n",
       "      <td>0</td>\n",
       "      <td>0</td>\n",
       "      <td>-4</td>\n",
       "    </tr>\n",
       "    <tr>\n",
       "      <th>9</th>\n",
       "      <td>0.166667</td>\n",
       "      <td>0</td>\n",
       "      <td>0</td>\n",
       "      <td>-5</td>\n",
       "    </tr>\n",
       "    <tr>\n",
       "      <th>10</th>\n",
       "      <td>0.125000</td>\n",
       "      <td>0</td>\n",
       "      <td>0</td>\n",
       "      <td>-7</td>\n",
       "    </tr>\n",
       "    <tr>\n",
       "      <th>11</th>\n",
       "      <td>0.500000</td>\n",
       "      <td>0</td>\n",
       "      <td>0</td>\n",
       "      <td>-1</td>\n",
       "    </tr>\n",
       "    <tr>\n",
       "      <th>12</th>\n",
       "      <td>0.200000</td>\n",
       "      <td>0</td>\n",
       "      <td>0</td>\n",
       "      <td>-4</td>\n",
       "    </tr>\n",
       "    <tr>\n",
       "      <th>13</th>\n",
       "      <td>0.166667</td>\n",
       "      <td>0</td>\n",
       "      <td>0</td>\n",
       "      <td>-5</td>\n",
       "    </tr>\n",
       "    <tr>\n",
       "      <th>14</th>\n",
       "      <td>0.500000</td>\n",
       "      <td>0</td>\n",
       "      <td>0</td>\n",
       "      <td>-1</td>\n",
       "    </tr>\n",
       "    <tr>\n",
       "      <th>15</th>\n",
       "      <td>0.500000</td>\n",
       "      <td>0</td>\n",
       "      <td>0</td>\n",
       "      <td>-1</td>\n",
       "    </tr>\n",
       "    <tr>\n",
       "      <th>16</th>\n",
       "      <td>0.142857</td>\n",
       "      <td>0</td>\n",
       "      <td>0</td>\n",
       "      <td>-6</td>\n",
       "    </tr>\n",
       "    <tr>\n",
       "      <th>17</th>\n",
       "      <td>0.142857</td>\n",
       "      <td>0</td>\n",
       "      <td>0</td>\n",
       "      <td>-6</td>\n",
       "    </tr>\n",
       "    <tr>\n",
       "      <th>18</th>\n",
       "      <td>0.250000</td>\n",
       "      <td>0</td>\n",
       "      <td>0</td>\n",
       "      <td>-3</td>\n",
       "    </tr>\n",
       "    <tr>\n",
       "      <th>19</th>\n",
       "      <td>0.200000</td>\n",
       "      <td>0</td>\n",
       "      <td>0</td>\n",
       "      <td>-4</td>\n",
       "    </tr>\n",
       "    <tr>\n",
       "      <th>20</th>\n",
       "      <td>0.142857</td>\n",
       "      <td>0</td>\n",
       "      <td>0</td>\n",
       "      <td>-6</td>\n",
       "    </tr>\n",
       "    <tr>\n",
       "      <th>21</th>\n",
       "      <td>0.500000</td>\n",
       "      <td>0</td>\n",
       "      <td>0</td>\n",
       "      <td>-1</td>\n",
       "    </tr>\n",
       "    <tr>\n",
       "      <th>22</th>\n",
       "      <td>0.500000</td>\n",
       "      <td>0</td>\n",
       "      <td>0</td>\n",
       "      <td>-1</td>\n",
       "    </tr>\n",
       "    <tr>\n",
       "      <th>23</th>\n",
       "      <td>0.166667</td>\n",
       "      <td>0</td>\n",
       "      <td>0</td>\n",
       "      <td>-5</td>\n",
       "    </tr>\n",
       "    <tr>\n",
       "      <th>24</th>\n",
       "      <td>0.250000</td>\n",
       "      <td>0</td>\n",
       "      <td>0</td>\n",
       "      <td>-3</td>\n",
       "    </tr>\n",
       "    <tr>\n",
       "      <th>25</th>\n",
       "      <td>0.142857</td>\n",
       "      <td>0</td>\n",
       "      <td>0</td>\n",
       "      <td>-6</td>\n",
       "    </tr>\n",
       "    <tr>\n",
       "      <th>26</th>\n",
       "      <td>0.250000</td>\n",
       "      <td>0</td>\n",
       "      <td>0</td>\n",
       "      <td>-3</td>\n",
       "    </tr>\n",
       "    <tr>\n",
       "      <th>27</th>\n",
       "      <td>0.142857</td>\n",
       "      <td>0</td>\n",
       "      <td>0</td>\n",
       "      <td>-6</td>\n",
       "    </tr>\n",
       "    <tr>\n",
       "      <th>28</th>\n",
       "      <td>0.333333</td>\n",
       "      <td>0</td>\n",
       "      <td>0</td>\n",
       "      <td>-2</td>\n",
       "    </tr>\n",
       "    <tr>\n",
       "      <th>29</th>\n",
       "      <td>0.200000</td>\n",
       "      <td>0</td>\n",
       "      <td>0</td>\n",
       "      <td>-4</td>\n",
       "    </tr>\n",
       "    <tr>\n",
       "      <th>...</th>\n",
       "      <td>...</td>\n",
       "      <td>...</td>\n",
       "      <td>...</td>\n",
       "      <td>...</td>\n",
       "    </tr>\n",
       "    <tr>\n",
       "      <th>3840282</th>\n",
       "      <td>0.111111</td>\n",
       "      <td>0</td>\n",
       "      <td>0</td>\n",
       "      <td>-8</td>\n",
       "    </tr>\n",
       "    <tr>\n",
       "      <th>3840283</th>\n",
       "      <td>0.125000</td>\n",
       "      <td>0</td>\n",
       "      <td>0</td>\n",
       "      <td>-7</td>\n",
       "    </tr>\n",
       "    <tr>\n",
       "      <th>3840284</th>\n",
       "      <td>0.111111</td>\n",
       "      <td>0</td>\n",
       "      <td>0</td>\n",
       "      <td>-8</td>\n",
       "    </tr>\n",
       "    <tr>\n",
       "      <th>3840285</th>\n",
       "      <td>0.058824</td>\n",
       "      <td>0</td>\n",
       "      <td>0</td>\n",
       "      <td>-16</td>\n",
       "    </tr>\n",
       "    <tr>\n",
       "      <th>3840286</th>\n",
       "      <td>0.062500</td>\n",
       "      <td>0</td>\n",
       "      <td>0</td>\n",
       "      <td>-15</td>\n",
       "    </tr>\n",
       "    <tr>\n",
       "      <th>3840287</th>\n",
       "      <td>0.090909</td>\n",
       "      <td>0</td>\n",
       "      <td>0</td>\n",
       "      <td>-10</td>\n",
       "    </tr>\n",
       "    <tr>\n",
       "      <th>3840288</th>\n",
       "      <td>0.062500</td>\n",
       "      <td>0</td>\n",
       "      <td>0</td>\n",
       "      <td>-15</td>\n",
       "    </tr>\n",
       "    <tr>\n",
       "      <th>3840289</th>\n",
       "      <td>0.100000</td>\n",
       "      <td>0</td>\n",
       "      <td>0</td>\n",
       "      <td>-9</td>\n",
       "    </tr>\n",
       "    <tr>\n",
       "      <th>3840290</th>\n",
       "      <td>0.100000</td>\n",
       "      <td>0</td>\n",
       "      <td>0</td>\n",
       "      <td>-9</td>\n",
       "    </tr>\n",
       "    <tr>\n",
       "      <th>3840291</th>\n",
       "      <td>0.100000</td>\n",
       "      <td>0</td>\n",
       "      <td>0</td>\n",
       "      <td>-9</td>\n",
       "    </tr>\n",
       "    <tr>\n",
       "      <th>3840292</th>\n",
       "      <td>0.100000</td>\n",
       "      <td>0</td>\n",
       "      <td>0</td>\n",
       "      <td>-9</td>\n",
       "    </tr>\n",
       "    <tr>\n",
       "      <th>3840293</th>\n",
       "      <td>0.111111</td>\n",
       "      <td>0</td>\n",
       "      <td>0</td>\n",
       "      <td>-8</td>\n",
       "    </tr>\n",
       "    <tr>\n",
       "      <th>3840294</th>\n",
       "      <td>0.066667</td>\n",
       "      <td>0</td>\n",
       "      <td>0</td>\n",
       "      <td>-14</td>\n",
       "    </tr>\n",
       "    <tr>\n",
       "      <th>3840295</th>\n",
       "      <td>0.083333</td>\n",
       "      <td>0</td>\n",
       "      <td>0</td>\n",
       "      <td>-11</td>\n",
       "    </tr>\n",
       "    <tr>\n",
       "      <th>3840296</th>\n",
       "      <td>0.083333</td>\n",
       "      <td>0</td>\n",
       "      <td>0</td>\n",
       "      <td>-11</td>\n",
       "    </tr>\n",
       "    <tr>\n",
       "      <th>3840297</th>\n",
       "      <td>0.083333</td>\n",
       "      <td>0</td>\n",
       "      <td>0</td>\n",
       "      <td>-11</td>\n",
       "    </tr>\n",
       "    <tr>\n",
       "      <th>3840298</th>\n",
       "      <td>0.090909</td>\n",
       "      <td>0</td>\n",
       "      <td>0</td>\n",
       "      <td>-10</td>\n",
       "    </tr>\n",
       "    <tr>\n",
       "      <th>3840299</th>\n",
       "      <td>0.058824</td>\n",
       "      <td>0</td>\n",
       "      <td>0</td>\n",
       "      <td>-16</td>\n",
       "    </tr>\n",
       "    <tr>\n",
       "      <th>3840300</th>\n",
       "      <td>0.111111</td>\n",
       "      <td>0</td>\n",
       "      <td>0</td>\n",
       "      <td>-8</td>\n",
       "    </tr>\n",
       "    <tr>\n",
       "      <th>3840301</th>\n",
       "      <td>0.083333</td>\n",
       "      <td>0</td>\n",
       "      <td>0</td>\n",
       "      <td>-11</td>\n",
       "    </tr>\n",
       "    <tr>\n",
       "      <th>3840302</th>\n",
       "      <td>0.083333</td>\n",
       "      <td>0</td>\n",
       "      <td>0</td>\n",
       "      <td>-11</td>\n",
       "    </tr>\n",
       "    <tr>\n",
       "      <th>3840303</th>\n",
       "      <td>0.100000</td>\n",
       "      <td>0</td>\n",
       "      <td>0</td>\n",
       "      <td>-9</td>\n",
       "    </tr>\n",
       "    <tr>\n",
       "      <th>3840304</th>\n",
       "      <td>0.062500</td>\n",
       "      <td>0</td>\n",
       "      <td>0</td>\n",
       "      <td>-15</td>\n",
       "    </tr>\n",
       "    <tr>\n",
       "      <th>3840305</th>\n",
       "      <td>0.083333</td>\n",
       "      <td>0</td>\n",
       "      <td>0</td>\n",
       "      <td>-11</td>\n",
       "    </tr>\n",
       "    <tr>\n",
       "      <th>3840306</th>\n",
       "      <td>0.071429</td>\n",
       "      <td>0</td>\n",
       "      <td>0</td>\n",
       "      <td>-13</td>\n",
       "    </tr>\n",
       "    <tr>\n",
       "      <th>3840307</th>\n",
       "      <td>0.100000</td>\n",
       "      <td>0</td>\n",
       "      <td>0</td>\n",
       "      <td>-9</td>\n",
       "    </tr>\n",
       "    <tr>\n",
       "      <th>3840308</th>\n",
       "      <td>0.100000</td>\n",
       "      <td>0</td>\n",
       "      <td>0</td>\n",
       "      <td>-9</td>\n",
       "    </tr>\n",
       "    <tr>\n",
       "      <th>3840309</th>\n",
       "      <td>0.100000</td>\n",
       "      <td>0</td>\n",
       "      <td>0</td>\n",
       "      <td>-9</td>\n",
       "    </tr>\n",
       "    <tr>\n",
       "      <th>3840310</th>\n",
       "      <td>0.090909</td>\n",
       "      <td>0</td>\n",
       "      <td>0</td>\n",
       "      <td>-10</td>\n",
       "    </tr>\n",
       "    <tr>\n",
       "      <th>3840311</th>\n",
       "      <td>0.090909</td>\n",
       "      <td>0</td>\n",
       "      <td>0</td>\n",
       "      <td>-10</td>\n",
       "    </tr>\n",
       "  </tbody>\n",
       "</table>\n",
       "<p>3840312 rows × 4 columns</p>\n",
       "</div>"
      ],
      "text/plain": [
       "         score_DPD  SK_DPD  SK_DPD_DEF  MONTHS_BALANCE\n",
       "0         0.142857       0           0              -6\n",
       "1         0.500000       0           0              -1\n",
       "2         0.125000       0           0              -7\n",
       "3         0.200000       0           0              -4\n",
       "4         0.500000       0           0              -1\n",
       "5        43.000000       7           0              -7\n",
       "6         0.142857       0           0              -6\n",
       "7         0.125000       0           0              -7\n",
       "8         0.200000       0           0              -4\n",
       "9         0.166667       0           0              -5\n",
       "10        0.125000       0           0              -7\n",
       "11        0.500000       0           0              -1\n",
       "12        0.200000       0           0              -4\n",
       "13        0.166667       0           0              -5\n",
       "14        0.500000       0           0              -1\n",
       "15        0.500000       0           0              -1\n",
       "16        0.142857       0           0              -6\n",
       "17        0.142857       0           0              -6\n",
       "18        0.250000       0           0              -3\n",
       "19        0.200000       0           0              -4\n",
       "20        0.142857       0           0              -6\n",
       "21        0.500000       0           0              -1\n",
       "22        0.500000       0           0              -1\n",
       "23        0.166667       0           0              -5\n",
       "24        0.250000       0           0              -3\n",
       "25        0.142857       0           0              -6\n",
       "26        0.250000       0           0              -3\n",
       "27        0.142857       0           0              -6\n",
       "28        0.333333       0           0              -2\n",
       "29        0.200000       0           0              -4\n",
       "...            ...     ...         ...             ...\n",
       "3840282   0.111111       0           0              -8\n",
       "3840283   0.125000       0           0              -7\n",
       "3840284   0.111111       0           0              -8\n",
       "3840285   0.058824       0           0             -16\n",
       "3840286   0.062500       0           0             -15\n",
       "3840287   0.090909       0           0             -10\n",
       "3840288   0.062500       0           0             -15\n",
       "3840289   0.100000       0           0              -9\n",
       "3840290   0.100000       0           0              -9\n",
       "3840291   0.100000       0           0              -9\n",
       "3840292   0.100000       0           0              -9\n",
       "3840293   0.111111       0           0              -8\n",
       "3840294   0.066667       0           0             -14\n",
       "3840295   0.083333       0           0             -11\n",
       "3840296   0.083333       0           0             -11\n",
       "3840297   0.083333       0           0             -11\n",
       "3840298   0.090909       0           0             -10\n",
       "3840299   0.058824       0           0             -16\n",
       "3840300   0.111111       0           0              -8\n",
       "3840301   0.083333       0           0             -11\n",
       "3840302   0.083333       0           0             -11\n",
       "3840303   0.100000       0           0              -9\n",
       "3840304   0.062500       0           0             -15\n",
       "3840305   0.083333       0           0             -11\n",
       "3840306   0.071429       0           0             -13\n",
       "3840307   0.100000       0           0              -9\n",
       "3840308   0.100000       0           0              -9\n",
       "3840309   0.100000       0           0              -9\n",
       "3840310   0.090909       0           0             -10\n",
       "3840311   0.090909       0           0             -10\n",
       "\n",
       "[3840312 rows x 4 columns]"
      ]
     },
     "execution_count": 13,
     "metadata": {},
     "output_type": "execute_result"
    }
   ],
   "source": [
    "credit[['score_DPD','SK_DPD','SK_DPD_DEF', 'MONTHS_BALANCE' ]]"
   ]
  },
  {
   "cell_type": "code",
   "execution_count": 14,
   "metadata": {
    "ExecuteTime": {
     "end_time": "2018-06-14T18:26:38.059182Z",
     "start_time": "2018-06-14T18:26:38.056311Z"
    },
    "scrolled": true
   },
   "outputs": [
    {
     "name": "stdout",
     "output_type": "stream",
     "text": [
      "['SK_ID_PREV', 'SK_ID_CURR', 'MONTHS_BALANCE', 'AMT_BALANCE', 'AMT_CREDIT_LIMIT_ACTUAL', 'AMT_DRAWINGS_ATM_CURRENT', 'AMT_DRAWINGS_CURRENT', 'AMT_DRAWINGS_OTHER_CURRENT', 'AMT_DRAWINGS_POS_CURRENT', 'AMT_INST_MIN_REGULARITY', 'AMT_PAYMENT_CURRENT', 'AMT_PAYMENT_TOTAL_CURRENT', 'AMT_RECEIVABLE_PRINCIPAL', 'AMT_RECIVABLE', 'AMT_TOTAL_RECEIVABLE', 'CNT_DRAWINGS_ATM_CURRENT', 'CNT_DRAWINGS_CURRENT', 'CNT_DRAWINGS_OTHER_CURRENT', 'CNT_DRAWINGS_POS_CURRENT', 'CNT_INSTALMENT_MATURE_CUM', 'SK_DPD', 'SK_DPD_DEF', 'AMT_CREDIT_LIMIT_ACTUAL_minus_AMT_BALANCE', 'AMT_DRAWINGS_ATM_CURRENT_divide_AMT_DRAWINGS_CURRENT', 'AMT_DRAWINGS_POS_CURRENT_divide_AMT_DRAWINGS_CURRENT', 'AMT_DRAWINGS_OTHER_CURRENT_divide_AMT_DRAWINGS_CURRENT', 'CNT_DRAWINGS_ATM_CURRENT_divide_CNT_DRAWINGS_CURRENT', 'CNT_DRAWINGS_OTHER_CURRENT_divide_CNT_DRAWINGS_CURRENT', 'CNT_DRAWINGS_POS_CURRENT_divide_CNT_DRAWINGS_CURRENT', 'AMT_DRAWINGS_ATM_CURRENT_divide_CNT_DRAWINGS_ATM_CURRENT', 'AMT_DRAWINGS_POS_CURRENT_divide_CNT_DRAWINGS_POS_CURRENT', 'AMT_DRAWINGS_OTHER_CURRENT_divide_CNT_DRAWINGS_OTHER_CURRENT', 'AMT_DRAWINGS_CURRENT_divide_CNT_DRAWINGS_CURRENT', 'score_DPD']\n"
     ]
    }
   ],
   "source": [
    "col = [i for i in list(credit.columns.values) if credit[i].dtype!= 'object']\n",
    "print(col)"
   ]
  },
  {
   "cell_type": "markdown",
   "metadata": {},
   "source": [
    "# Numerical Columns"
   ]
  },
  {
   "cell_type": "code",
   "execution_count": 15,
   "metadata": {
    "ExecuteTime": {
     "end_time": "2018-06-14T18:27:32.254435Z",
     "start_time": "2018-06-14T18:27:32.250463Z"
    },
    "collapsed": true
   },
   "outputs": [],
   "source": [
    "numerical_cols = ['SK_DPD', 'SK_DPD_DEF', 'AMT_BALANCE', 'AMT_CREDIT_LIMIT_ACTUAL', 'AMT_DRAWINGS_ATM_CURRENT', 'AMT_DRAWINGS_CURRENT', 'AMT_DRAWINGS_OTHER_CURRENT', 'AMT_DRAWINGS_POS_CURRENT', 'AMT_INST_MIN_REGULARITY', 'AMT_PAYMENT_CURRENT', 'AMT_PAYMENT_TOTAL_CURRENT', 'AMT_RECEIVABLE_PRINCIPAL', 'AMT_RECIVABLE', 'AMT_TOTAL_RECEIVABLE', 'CNT_DRAWINGS_ATM_CURRENT', 'CNT_DRAWINGS_CURRENT', 'CNT_DRAWINGS_OTHER_CURRENT', 'CNT_DRAWINGS_POS_CURRENT', 'CNT_INSTALMENT_MATURE_CUM', 'AMT_CREDIT_LIMIT_ACTUAL_minus_AMT_BALANCE', 'AMT_DRAWINGS_ATM_CURRENT_divide_AMT_DRAWINGS_CURRENT', 'AMT_DRAWINGS_POS_CURRENT_divide_AMT_DRAWINGS_CURRENT', 'AMT_DRAWINGS_OTHER_CURRENT_divide_AMT_DRAWINGS_CURRENT', 'CNT_DRAWINGS_ATM_CURRENT_divide_CNT_DRAWINGS_CURRENT', 'CNT_DRAWINGS_OTHER_CURRENT_divide_CNT_DRAWINGS_CURRENT', 'CNT_DRAWINGS_POS_CURRENT_divide_CNT_DRAWINGS_CURRENT', 'AMT_DRAWINGS_ATM_CURRENT_divide_CNT_DRAWINGS_ATM_CURRENT', 'AMT_DRAWINGS_POS_CURRENT_divide_CNT_DRAWINGS_POS_CURRENT', 'AMT_DRAWINGS_OTHER_CURRENT_divide_CNT_DRAWINGS_OTHER_CURRENT', 'AMT_DRAWINGS_CURRENT_divide_CNT_DRAWINGS_CURRENT', 'score_DPD']"
   ]
  },
  {
   "cell_type": "code",
   "execution_count": 16,
   "metadata": {
    "ExecuteTime": {
     "end_time": "2018-06-14T18:27:36.438629Z",
     "start_time": "2018-06-14T18:27:36.430987Z"
    }
   },
   "outputs": [
    {
     "name": "stdout",
     "output_type": "stream",
     "text": [
      "[['positive_count'], ['positive_count'], ['positive_count', 'negative_count'], None, None, None, None, None, None, None, None, None, None, None, None, None, None, None, None, None, None, None, None, None, None, None, None, None, None, None, None]\n"
     ]
    }
   ],
   "source": [
    "numerical_len = len(numerical_cols)\n",
    "extrafunc_list = [_ for _ in range(len(numerical_cols))]\n",
    "for i in range(len(numerical_cols)):\n",
    "    if i == 0 or i == 1:\n",
    "        extrafunc_list[i] = ['positive_count']\n",
    "    else:\n",
    "        if i == 2:\n",
    "            extrafunc_list[i] = ['positive_count', 'negative_count']\n",
    "        else:\n",
    "            extrafunc_list[i] = None\n",
    "print(extrafunc_list)"
   ]
  },
  {
   "cell_type": "code",
   "execution_count": 17,
   "metadata": {
    "ExecuteTime": {
     "end_time": "2018-06-14T18:27:40.262015Z",
     "start_time": "2018-06-14T18:27:40.052452Z"
    },
    "collapsed": true
   },
   "outputs": [],
   "source": [
    "def numerical_agg(df, gp_col, agg_col, df_name, extrafunc_list = None):\n",
    "    \n",
    "    agg_list = ['max', 'min', 'std','mean']\n",
    "    '''\n",
    "    Possible extrafunc_list: ['sum','median','two_minus_one_third','positive_count', 'negative_count','standard_error', 'trimmed_mean_10_pct', 'trimmed_mean_25_pct','normed_std', 'max_minus_min','one_third','two_third']\n",
    "    '''\n",
    "    if extrafunc_list:\n",
    "        if 'one_third' in extrafunc_list:\n",
    "            def one_third(series):\n",
    "                return series.quantile(1/3)\n",
    "            \n",
    "        if 'two_third' in extrafunc_list:\n",
    "            def two_third(series):\n",
    "                return series.quantile(2/3)\n",
    "            \n",
    "        if 'max_minus_min' in extrafunc_list:\n",
    "            def max_minus_min(series):\n",
    "                return (series.max() - series.min())\n",
    "        \n",
    "        if 'two_minus_one_third' in extrafunc_list:\n",
    "#             print('two_minus_one')\n",
    "#             print('get two minus one')\n",
    "            def two_minus_one_third(series):\n",
    "                return(series.quantile(0.66666) - series.quantile(0.33333))\n",
    "       \n",
    "        if 'positive_count' in extrafunc_list:\n",
    "#             print('get positive count')\n",
    "            def positive_count(series):\n",
    "                return pd.Series(series > 0).sum()\n",
    "\n",
    "        if 'negative_count' in extrafunc_list:\n",
    "#             print('get negative count')\n",
    "            def negative_count(series):\n",
    "                return pd.Series(series < 0).sum()\n",
    "\n",
    "        if 'standard_error' in extrafunc_list:\n",
    "#             print('get std-error')\n",
    "            def standard_error(series):\n",
    "                return series.std()/np.sqrt(len(series))\n",
    "\n",
    "        if 'normed_std' in extrafunc_list:\n",
    "#             print('get normed_std')\n",
    "            def normed_std(series):\n",
    "                return series.std()/series.mean()\n",
    "\n",
    "        if 'trimmed_mean_10_pct' in extrafunc_list:\n",
    "#             print('get_trimmed 10 pct')\n",
    "            def trimmed_mean_10_pct(series):\n",
    "                return stats.trim_mean(series.dropna(), 0.1)\n",
    "\n",
    "        if 'trimmed_mean_25_pct' in extrafunc_list:\n",
    "#             print('get_trimmed 25 pct')\n",
    "            def trimmed_mean_25_pct(series):\n",
    "                return stats.trim_mean(series.dropna(), 0.25)\n",
    "        \n",
    "        list_tocall = []\n",
    "        for i in extrafunc_list:\n",
    "            if i not in set(['sum', 'median']):\n",
    "                list_tocall.append(eval(i))\n",
    "            \n",
    "    if extrafunc_list != None:   \n",
    "        agg_list.extend(list_tocall)\n",
    "    \n",
    "    _df = df.groupby(gp_col).agg({agg_col:agg_list})\n",
    "    columns = []\n",
    "    for pre in _df.columns.levels[0]:\n",
    "        for middle in _df.columns.levels[1]:\n",
    "            columns.append('%s_%s_%s' %(df_name,pre,middle))\n",
    "    _df.columns = columns\n",
    "    \n",
    "    return _df.reset_index()"
   ]
  },
  {
   "cell_type": "code",
   "execution_count": 20,
   "metadata": {
    "ExecuteTime": {
     "end_time": "2018-06-14T18:30:18.624692Z",
     "start_time": "2018-06-14T18:28:50.823567Z"
    }
   },
   "outputs": [
    {
     "name": "stdout",
     "output_type": "stream",
     "text": [
      "SK_DPD\n",
      "SK_DPD_DEF\n",
      "AMT_BALANCE\n",
      "AMT_CREDIT_LIMIT_ACTUAL\n",
      "AMT_DRAWINGS_ATM_CURRENT\n",
      "AMT_DRAWINGS_CURRENT\n",
      "AMT_DRAWINGS_OTHER_CURRENT\n",
      "AMT_DRAWINGS_POS_CURRENT\n",
      "AMT_INST_MIN_REGULARITY\n",
      "AMT_PAYMENT_CURRENT\n",
      "AMT_PAYMENT_TOTAL_CURRENT\n",
      "AMT_RECEIVABLE_PRINCIPAL\n",
      "AMT_RECIVABLE\n",
      "AMT_TOTAL_RECEIVABLE\n",
      "CNT_DRAWINGS_ATM_CURRENT\n",
      "CNT_DRAWINGS_CURRENT\n",
      "CNT_DRAWINGS_OTHER_CURRENT\n",
      "CNT_DRAWINGS_POS_CURRENT\n",
      "CNT_INSTALMENT_MATURE_CUM\n",
      "AMT_CREDIT_LIMIT_ACTUAL_minus_AMT_BALANCE\n",
      "AMT_DRAWINGS_ATM_CURRENT_divide_AMT_DRAWINGS_CURRENT\n",
      "AMT_DRAWINGS_POS_CURRENT_divide_AMT_DRAWINGS_CURRENT\n",
      "AMT_DRAWINGS_OTHER_CURRENT_divide_AMT_DRAWINGS_CURRENT\n",
      "CNT_DRAWINGS_ATM_CURRENT_divide_CNT_DRAWINGS_CURRENT\n",
      "CNT_DRAWINGS_OTHER_CURRENT_divide_CNT_DRAWINGS_CURRENT\n",
      "CNT_DRAWINGS_POS_CURRENT_divide_CNT_DRAWINGS_CURRENT\n",
      "AMT_DRAWINGS_ATM_CURRENT_divide_CNT_DRAWINGS_ATM_CURRENT\n",
      "AMT_DRAWINGS_POS_CURRENT_divide_CNT_DRAWINGS_POS_CURRENT\n",
      "AMT_DRAWINGS_OTHER_CURRENT_divide_CNT_DRAWINGS_OTHER_CURRENT\n",
      "AMT_DRAWINGS_CURRENT_divide_CNT_DRAWINGS_CURRENT\n",
      "score_DPD\n"
     ]
    }
   ],
   "source": [
    "gp_col = 'SK_ID_CURR'\n",
    "for i in range(len(extrafunc_list)):\n",
    "    print(numerical_cols[i])\n",
    "    df = df.merge(numerical_agg(credit, gp_col, numerical_cols[i], 'credit_card', extrafunc_list = extrafunc_list[i]), on = 'SK_ID_CURR', how='left')"
   ]
  },
  {
   "cell_type": "markdown",
   "metadata": {},
   "source": [
    "# Categorical"
   ]
  },
  {
   "cell_type": "code",
   "execution_count": 21,
   "metadata": {
    "ExecuteTime": {
     "end_time": "2018-06-14T18:30:22.946749Z",
     "start_time": "2018-06-14T18:30:22.922017Z"
    },
    "collapsed": true
   },
   "outputs": [],
   "source": [
    "def _set_type(series, dtype):\n",
    "    _max, _min = max(series), min(series)\n",
    "    if dtype == 'uint':\n",
    "        if _max <= 255: return np.uint8\n",
    "        elif _max <= 65535: return np.uint16\n",
    "        elif _max <= 4294967295: return np.uint32\n",
    "        else: return np.uint64\n",
    "    elif dtype == 'int':\n",
    "        if _min >= -128 and _max <= 127: return np.int8\n",
    "        elif _min >=-32768 and _max <= 32767: return np.int16\n",
    "        elif _min >= -2147483648 and _max <= 2147483647: return np.int32\n",
    "        else: return np.int64\n",
    "    elif dtype == 'float':\n",
    "        if max(abs(_min), _max) <= 3.4028235e+38: return np.float32\n",
    "        else: return np.float64\n",
    "\n",
    "def split_categorical_feature(df, group_col, calc_col):\n",
    "    tmp_df = pd.concat([df[group_col], pd.get_dummies(df[calc_col], prefix=calc_col)], axis=1).groupby(by=group_col).sum().reset_index()\n",
    "    dtype = {x: _set_type(tmp_df[x], 'uint') for x in tmp_df.columns if x != group_col}\n",
    "    for x in tmp_df:\n",
    "        if x in df.columns:\n",
    "            dtype[x] = df[x].dtype\n",
    "    return tmp_df.astype(dtype)"
   ]
  },
  {
   "cell_type": "code",
   "execution_count": 22,
   "metadata": {
    "ExecuteTime": {
     "end_time": "2018-06-14T18:30:27.902525Z",
     "start_time": "2018-06-14T18:30:26.889600Z"
    }
   },
   "outputs": [
    {
     "name": "stdout",
     "output_type": "stream",
     "text": [
      "NAME_CONTRACT_STATUS\n"
     ]
    }
   ],
   "source": [
    "categorical_cols = ['NAME_CONTRACT_STATUS']\n",
    "\n",
    "for x in categorical_cols:\n",
    "    print(x)\n",
    "    df = df.merge(split_categorical_feature(credit, 'SK_ID_CURR', x), on='SK_ID_CURR', how='left')\n",
    "    gc.collect()"
   ]
  },
  {
   "cell_type": "markdown",
   "metadata": {},
   "source": [
    "# Months Balance max min and sum"
   ]
  },
  {
   "cell_type": "code",
   "execution_count": 23,
   "metadata": {
    "ExecuteTime": {
     "end_time": "2018-06-14T18:30:32.304404Z",
     "start_time": "2018-06-14T18:30:31.903211Z"
    },
    "collapsed": true
   },
   "outputs": [],
   "source": [
    "_df = credit.groupby('SK_ID_CURR').agg({'MONTHS_BALANCE':['sum','min','max']})\n",
    "columns = []\n",
    "for pre in _df.columns.levels[0]:\n",
    "    for middle in _df.columns.levels[1]:\n",
    "        columns.append('%s_%s_%s' %('credit_card',pre,middle))\n",
    "_df.columns = columns\n",
    "df = df.merge(_df.reset_index(), on = 'SK_ID_CURR', how='left')"
   ]
  },
  {
   "cell_type": "code",
   "execution_count": 26,
   "metadata": {
    "ExecuteTime": {
     "end_time": "2018-06-14T18:36:44.740257Z",
     "start_time": "2018-06-14T18:36:44.737223Z"
    }
   },
   "outputs": [
    {
     "name": "stdout",
     "output_type": "stream",
     "text": [
      "['SK_ID_CURR' 'credit_card_SK_DPD_max_x' 'credit_card_SK_DPD_min_x'\n",
      " 'credit_card_SK_DPD_std_x' 'credit_card_SK_DPD_mean_x'\n",
      " 'credit_card_SK_DPD_positive_count_x' 'credit_card_SK_DPD_DEF_max_x'\n",
      " 'credit_card_SK_DPD_DEF_min_x' 'credit_card_SK_DPD_DEF_std_x'\n",
      " 'credit_card_SK_DPD_DEF_mean_x' 'credit_card_SK_DPD_DEF_positive_count_x'\n",
      " 'credit_card_SK_DPD_max_y' 'credit_card_SK_DPD_min_y'\n",
      " 'credit_card_SK_DPD_std_y' 'credit_card_SK_DPD_mean_y'\n",
      " 'credit_card_SK_DPD_positive_count_y' 'credit_card_SK_DPD_DEF_max_y'\n",
      " 'credit_card_SK_DPD_DEF_min_y' 'credit_card_SK_DPD_DEF_std_y'\n",
      " 'credit_card_SK_DPD_DEF_mean_y' 'credit_card_SK_DPD_DEF_positive_count_y'\n",
      " 'credit_card_AMT_BALANCE_max' 'credit_card_AMT_BALANCE_min'\n",
      " 'credit_card_AMT_BALANCE_std' 'credit_card_AMT_BALANCE_mean'\n",
      " 'credit_card_AMT_BALANCE_positive_count'\n",
      " 'credit_card_AMT_BALANCE_negative_count'\n",
      " 'credit_card_AMT_CREDIT_LIMIT_ACTUAL_max'\n",
      " 'credit_card_AMT_CREDIT_LIMIT_ACTUAL_min'\n",
      " 'credit_card_AMT_CREDIT_LIMIT_ACTUAL_std'\n",
      " 'credit_card_AMT_CREDIT_LIMIT_ACTUAL_mean'\n",
      " 'credit_card_AMT_DRAWINGS_ATM_CURRENT_max'\n",
      " 'credit_card_AMT_DRAWINGS_ATM_CURRENT_min'\n",
      " 'credit_card_AMT_DRAWINGS_ATM_CURRENT_std'\n",
      " 'credit_card_AMT_DRAWINGS_ATM_CURRENT_mean'\n",
      " 'credit_card_AMT_DRAWINGS_CURRENT_max'\n",
      " 'credit_card_AMT_DRAWINGS_CURRENT_min'\n",
      " 'credit_card_AMT_DRAWINGS_CURRENT_std'\n",
      " 'credit_card_AMT_DRAWINGS_CURRENT_mean'\n",
      " 'credit_card_AMT_DRAWINGS_OTHER_CURRENT_max'\n",
      " 'credit_card_AMT_DRAWINGS_OTHER_CURRENT_min'\n",
      " 'credit_card_AMT_DRAWINGS_OTHER_CURRENT_std'\n",
      " 'credit_card_AMT_DRAWINGS_OTHER_CURRENT_mean'\n",
      " 'credit_card_AMT_DRAWINGS_POS_CURRENT_max'\n",
      " 'credit_card_AMT_DRAWINGS_POS_CURRENT_min'\n",
      " 'credit_card_AMT_DRAWINGS_POS_CURRENT_std'\n",
      " 'credit_card_AMT_DRAWINGS_POS_CURRENT_mean'\n",
      " 'credit_card_AMT_INST_MIN_REGULARITY_max'\n",
      " 'credit_card_AMT_INST_MIN_REGULARITY_min'\n",
      " 'credit_card_AMT_INST_MIN_REGULARITY_std'\n",
      " 'credit_card_AMT_INST_MIN_REGULARITY_mean'\n",
      " 'credit_card_AMT_PAYMENT_CURRENT_max'\n",
      " 'credit_card_AMT_PAYMENT_CURRENT_min'\n",
      " 'credit_card_AMT_PAYMENT_CURRENT_std'\n",
      " 'credit_card_AMT_PAYMENT_CURRENT_mean'\n",
      " 'credit_card_AMT_PAYMENT_TOTAL_CURRENT_max'\n",
      " 'credit_card_AMT_PAYMENT_TOTAL_CURRENT_min'\n",
      " 'credit_card_AMT_PAYMENT_TOTAL_CURRENT_std'\n",
      " 'credit_card_AMT_PAYMENT_TOTAL_CURRENT_mean'\n",
      " 'credit_card_AMT_RECEIVABLE_PRINCIPAL_max'\n",
      " 'credit_card_AMT_RECEIVABLE_PRINCIPAL_min'\n",
      " 'credit_card_AMT_RECEIVABLE_PRINCIPAL_std'\n",
      " 'credit_card_AMT_RECEIVABLE_PRINCIPAL_mean'\n",
      " 'credit_card_AMT_RECIVABLE_max' 'credit_card_AMT_RECIVABLE_min'\n",
      " 'credit_card_AMT_RECIVABLE_std' 'credit_card_AMT_RECIVABLE_mean'\n",
      " 'credit_card_AMT_TOTAL_RECEIVABLE_max'\n",
      " 'credit_card_AMT_TOTAL_RECEIVABLE_min'\n",
      " 'credit_card_AMT_TOTAL_RECEIVABLE_std'\n",
      " 'credit_card_AMT_TOTAL_RECEIVABLE_mean'\n",
      " 'credit_card_CNT_DRAWINGS_ATM_CURRENT_max'\n",
      " 'credit_card_CNT_DRAWINGS_ATM_CURRENT_min'\n",
      " 'credit_card_CNT_DRAWINGS_ATM_CURRENT_std'\n",
      " 'credit_card_CNT_DRAWINGS_ATM_CURRENT_mean'\n",
      " 'credit_card_CNT_DRAWINGS_CURRENT_max'\n",
      " 'credit_card_CNT_DRAWINGS_CURRENT_min'\n",
      " 'credit_card_CNT_DRAWINGS_CURRENT_std'\n",
      " 'credit_card_CNT_DRAWINGS_CURRENT_mean'\n",
      " 'credit_card_CNT_DRAWINGS_OTHER_CURRENT_max'\n",
      " 'credit_card_CNT_DRAWINGS_OTHER_CURRENT_min'\n",
      " 'credit_card_CNT_DRAWINGS_OTHER_CURRENT_std'\n",
      " 'credit_card_CNT_DRAWINGS_OTHER_CURRENT_mean'\n",
      " 'credit_card_CNT_DRAWINGS_POS_CURRENT_max'\n",
      " 'credit_card_CNT_DRAWINGS_POS_CURRENT_min'\n",
      " 'credit_card_CNT_DRAWINGS_POS_CURRENT_std'\n",
      " 'credit_card_CNT_DRAWINGS_POS_CURRENT_mean'\n",
      " 'credit_card_CNT_INSTALMENT_MATURE_CUM_max'\n",
      " 'credit_card_CNT_INSTALMENT_MATURE_CUM_min'\n",
      " 'credit_card_CNT_INSTALMENT_MATURE_CUM_std'\n",
      " 'credit_card_CNT_INSTALMENT_MATURE_CUM_mean'\n",
      " 'credit_card_AMT_CREDIT_LIMIT_ACTUAL_minus_AMT_BALANCE_max'\n",
      " 'credit_card_AMT_CREDIT_LIMIT_ACTUAL_minus_AMT_BALANCE_min'\n",
      " 'credit_card_AMT_CREDIT_LIMIT_ACTUAL_minus_AMT_BALANCE_std'\n",
      " 'credit_card_AMT_CREDIT_LIMIT_ACTUAL_minus_AMT_BALANCE_mean'\n",
      " 'credit_card_AMT_DRAWINGS_ATM_CURRENT_divide_AMT_DRAWINGS_CURRENT_max'\n",
      " 'credit_card_AMT_DRAWINGS_ATM_CURRENT_divide_AMT_DRAWINGS_CURRENT_min'\n",
      " 'credit_card_AMT_DRAWINGS_ATM_CURRENT_divide_AMT_DRAWINGS_CURRENT_std'\n",
      " 'credit_card_AMT_DRAWINGS_ATM_CURRENT_divide_AMT_DRAWINGS_CURRENT_mean'\n",
      " 'credit_card_AMT_DRAWINGS_POS_CURRENT_divide_AMT_DRAWINGS_CURRENT_max'\n",
      " 'credit_card_AMT_DRAWINGS_POS_CURRENT_divide_AMT_DRAWINGS_CURRENT_min'\n",
      " 'credit_card_AMT_DRAWINGS_POS_CURRENT_divide_AMT_DRAWINGS_CURRENT_std'\n",
      " 'credit_card_AMT_DRAWINGS_POS_CURRENT_divide_AMT_DRAWINGS_CURRENT_mean'\n",
      " 'credit_card_AMT_DRAWINGS_OTHER_CURRENT_divide_AMT_DRAWINGS_CURRENT_max'\n",
      " 'credit_card_AMT_DRAWINGS_OTHER_CURRENT_divide_AMT_DRAWINGS_CURRENT_min'\n",
      " 'credit_card_AMT_DRAWINGS_OTHER_CURRENT_divide_AMT_DRAWINGS_CURRENT_std'\n",
      " 'credit_card_AMT_DRAWINGS_OTHER_CURRENT_divide_AMT_DRAWINGS_CURRENT_mean'\n",
      " 'credit_card_CNT_DRAWINGS_ATM_CURRENT_divide_CNT_DRAWINGS_CURRENT_max'\n",
      " 'credit_card_CNT_DRAWINGS_ATM_CURRENT_divide_CNT_DRAWINGS_CURRENT_min'\n",
      " 'credit_card_CNT_DRAWINGS_ATM_CURRENT_divide_CNT_DRAWINGS_CURRENT_std'\n",
      " 'credit_card_CNT_DRAWINGS_ATM_CURRENT_divide_CNT_DRAWINGS_CURRENT_mean'\n",
      " 'credit_card_CNT_DRAWINGS_OTHER_CURRENT_divide_CNT_DRAWINGS_CURRENT_max'\n",
      " 'credit_card_CNT_DRAWINGS_OTHER_CURRENT_divide_CNT_DRAWINGS_CURRENT_min'\n",
      " 'credit_card_CNT_DRAWINGS_OTHER_CURRENT_divide_CNT_DRAWINGS_CURRENT_std'\n",
      " 'credit_card_CNT_DRAWINGS_OTHER_CURRENT_divide_CNT_DRAWINGS_CURRENT_mean'\n",
      " 'credit_card_CNT_DRAWINGS_POS_CURRENT_divide_CNT_DRAWINGS_CURRENT_max'\n",
      " 'credit_card_CNT_DRAWINGS_POS_CURRENT_divide_CNT_DRAWINGS_CURRENT_min'\n",
      " 'credit_card_CNT_DRAWINGS_POS_CURRENT_divide_CNT_DRAWINGS_CURRENT_std'\n",
      " 'credit_card_CNT_DRAWINGS_POS_CURRENT_divide_CNT_DRAWINGS_CURRENT_mean'\n",
      " 'credit_card_AMT_DRAWINGS_ATM_CURRENT_divide_CNT_DRAWINGS_ATM_CURRENT_max'\n",
      " 'credit_card_AMT_DRAWINGS_ATM_CURRENT_divide_CNT_DRAWINGS_ATM_CURRENT_min'\n",
      " 'credit_card_AMT_DRAWINGS_ATM_CURRENT_divide_CNT_DRAWINGS_ATM_CURRENT_std'\n",
      " 'credit_card_AMT_DRAWINGS_ATM_CURRENT_divide_CNT_DRAWINGS_ATM_CURRENT_mean'\n",
      " 'credit_card_AMT_DRAWINGS_POS_CURRENT_divide_CNT_DRAWINGS_POS_CURRENT_max'\n",
      " 'credit_card_AMT_DRAWINGS_POS_CURRENT_divide_CNT_DRAWINGS_POS_CURRENT_min'\n",
      " 'credit_card_AMT_DRAWINGS_POS_CURRENT_divide_CNT_DRAWINGS_POS_CURRENT_std'\n",
      " 'credit_card_AMT_DRAWINGS_POS_CURRENT_divide_CNT_DRAWINGS_POS_CURRENT_mean'\n",
      " 'credit_card_AMT_DRAWINGS_OTHER_CURRENT_divide_CNT_DRAWINGS_OTHER_CURRENT_max'\n",
      " 'credit_card_AMT_DRAWINGS_OTHER_CURRENT_divide_CNT_DRAWINGS_OTHER_CURRENT_min'\n",
      " 'credit_card_AMT_DRAWINGS_OTHER_CURRENT_divide_CNT_DRAWINGS_OTHER_CURRENT_std'\n",
      " 'credit_card_AMT_DRAWINGS_OTHER_CURRENT_divide_CNT_DRAWINGS_OTHER_CURRENT_mean'\n",
      " 'credit_card_AMT_DRAWINGS_CURRENT_divide_CNT_DRAWINGS_CURRENT_max'\n",
      " 'credit_card_AMT_DRAWINGS_CURRENT_divide_CNT_DRAWINGS_CURRENT_min'\n",
      " 'credit_card_AMT_DRAWINGS_CURRENT_divide_CNT_DRAWINGS_CURRENT_std'\n",
      " 'credit_card_AMT_DRAWINGS_CURRENT_divide_CNT_DRAWINGS_CURRENT_mean'\n",
      " 'credit_card_score_DPD_max' 'credit_card_score_DPD_min'\n",
      " 'credit_card_score_DPD_std' 'credit_card_score_DPD_mean'\n",
      " 'NAME_CONTRACT_STATUS_Active' 'NAME_CONTRACT_STATUS_Approved'\n",
      " 'NAME_CONTRACT_STATUS_Completed' 'NAME_CONTRACT_STATUS_Demand'\n",
      " 'NAME_CONTRACT_STATUS_Refused' 'NAME_CONTRACT_STATUS_Sent proposal'\n",
      " 'NAME_CONTRACT_STATUS_Signed' 'credit_card_MONTHS_BALANCE_sum'\n",
      " 'credit_card_MONTHS_BALANCE_min' 'credit_card_MONTHS_BALANCE_max'] 149\n"
     ]
    }
   ],
   "source": [
    "print(df.columns.values, len(df.columns.values))"
   ]
  },
  {
   "cell_type": "code",
   "execution_count": null,
   "metadata": {
    "collapsed": true
   },
   "outputs": [],
   "source": []
  }
 ],
 "metadata": {
  "kernelspec": {
   "display_name": "Python 3.6 (tf_newer)",
   "language": "python",
   "name": "tf_newer"
  },
  "varInspector": {
   "cols": {
    "lenName": 16,
    "lenType": 16,
    "lenVar": 40
   },
   "kernels_config": {
    "python": {
     "delete_cmd_postfix": "",
     "delete_cmd_prefix": "del ",
     "library": "var_list.py",
     "varRefreshCmd": "print(var_dic_list())"
    },
    "r": {
     "delete_cmd_postfix": ") ",
     "delete_cmd_prefix": "rm(",
     "library": "var_list.r",
     "varRefreshCmd": "cat(var_dic_list()) "
    }
   },
   "types_to_exclude": [
    "module",
    "function",
    "builtin_function_or_method",
    "instance",
    "_Feature"
   ],
   "window_display": false
  }
 },
 "nbformat": 4,
 "nbformat_minor": 2
}
