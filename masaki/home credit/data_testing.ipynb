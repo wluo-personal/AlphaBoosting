{
 "cells": [
  {
   "cell_type": "code",
   "execution_count": 1,
   "metadata": {
    "ExecuteTime": {
     "end_time": "2018-06-26T13:38:53.356325Z",
     "start_time": "2018-06-26T13:38:27.257916Z"
    }
   },
   "outputs": [
    {
     "name": "stdout",
     "output_type": "stream",
     "text": [
      "bureau\n",
      "installments_payments done\n",
      "POS_CASH_balance\n",
      "credit_card_balance\n",
      "previous_application\n"
     ]
    }
   ],
   "source": [
    "import pandas as pd\n",
    "import numpy as np\n",
    "\n",
    "PATH = '/home/kai/data/kaggle/homecredit/'\n",
    "# train = pd.read_csv(PATH + 'application_train.csv')\n",
    "# print('train')\n",
    "# test = pd.read_csv(PATH + 'application_test.csv')\n",
    "# print('test')\n",
    "bureau = pd.read_csv(PATH + 'bureau.csv')\n",
    "print('bureau')\n",
    "# previous_application = pd.read_csv(PATH + 'previous_application.csv')\n",
    "# print('previous')\n",
    "# bureau_balance = pd.read_csv(PATH + 'bureau_balance.csv')\n",
    "# print('bureau_balance')\n",
    "installments_payments = pd.read_csv(PATH + 'installments_payments.csv')\n",
    "print('installments_payments done')\n",
    "# credit_card_balance = pd.read_csv(PATH + 'credit_card_balance.csv')\n",
    "# print('credit_card_balance')\n",
    "POS_CASH_balance = pd.read_csv(PATH + 'POS_CASH_balance.csv')\n",
    "print('POS_CASH_balance')\n",
    "credit_card_balance = pd.read_csv(PATH + 'credit_card_balance.csv')\n",
    "print('credit_card_balance')\n",
    "previous_application = pd.read_csv(PATH + 'previous_application.csv')\n",
    "print('previous_application')"
   ]
  },
  {
   "cell_type": "code",
   "execution_count": 2,
   "metadata": {
    "ExecuteTime": {
     "end_time": "2018-06-26T13:39:08.666853Z",
     "start_time": "2018-06-26T13:39:08.232939Z"
    }
   },
   "outputs": [],
   "source": [
    "import matplotlib.pyplot as plt\n",
    "import seaborn as sns\n",
    "plt.style.use('fivethirtyeight')"
   ]
  },
  {
   "cell_type": "code",
   "execution_count": 3,
   "metadata": {
    "ExecuteTime": {
     "end_time": "2018-06-26T13:39:24.246223Z",
     "start_time": "2018-06-26T13:39:24.240372Z"
    }
   },
   "outputs": [],
   "source": [
    "def replace_outliers_by_percentile(df, col, percentile_val=99, ignoreZero=False):\n",
    "    r = pd.DataFrame(df[col].copy())\n",
    "    if ignoreZero:\n",
    "        percentile = np.nanpercentile(df[df[col].values > 0][col], percentile_val)\n",
    "    else:\n",
    "        percentile = np.nanpercentile(df[col], percentile_val)\n",
    "    r[r.values > percentile] = percentile\n",
    "    r = r.rename({col:'{}_percentile_replaced'.format(col)}, axis=1)\n",
    "    return r"
   ]
  },
  {
   "cell_type": "code",
   "execution_count": 4,
   "metadata": {
    "ExecuteTime": {
     "end_time": "2018-06-26T13:39:36.811918Z",
     "start_time": "2018-06-26T13:39:36.806033Z"
    }
   },
   "outputs": [],
   "source": [
    "def replace_outliers_by_percentile_negative(df, col, percentile_val=1, ignoreZero=False):\n",
    "    r = pd.DataFrame(df[col].copy())\n",
    "    if ignoreZero:\n",
    "        percentile = np.nanpercentile(df[df[col].values < 0][col], percentile_val)\n",
    "    else:\n",
    "        percentile = np.nanpercentile(df[col], percentile_val)\n",
    "    r[r.values < percentile] = percentile\n",
    "    r = r.rename({col:'{}_percentile_replaced'.format(col)}, axis=1)\n",
    "    return r"
   ]
  },
  {
   "cell_type": "code",
   "execution_count": null,
   "metadata": {},
   "outputs": [],
   "source": []
  },
  {
   "cell_type": "code",
   "execution_count": 4,
   "metadata": {
    "ExecuteTime": {
     "end_time": "2018-06-25T20:11:43.007280Z",
     "start_time": "2018-06-25T20:11:36.519698Z"
    }
   },
   "outputs": [
    {
     "name": "stderr",
     "output_type": "stream",
     "text": [
      "/home/kai/anaconda3/envs/tf_newer/lib/python3.6/site-packages/ipykernel_launcher.py:7: RuntimeWarning: invalid value encountered in greater\n",
      "  import sys\n",
      "/home/kai/anaconda3/envs/tf_newer/lib/python3.6/site-packages/ipykernel_launcher.py:4: RuntimeWarning: invalid value encountered in less\n",
      "  after removing the cwd from sys.path.\n",
      "/home/kai/anaconda3/envs/tf_newer/lib/python3.6/site-packages/ipykernel_launcher.py:4: SettingWithCopyWarning: \n",
      "A value is trying to be set on a copy of a slice from a DataFrame.\n",
      "Try using .loc[row_indexer,col_indexer] = value instead\n",
      "\n",
      "See the caveats in the documentation: http://pandas.pydata.org/pandas-docs/stable/indexing.html#indexing-view-versus-copy\n",
      "  after removing the cwd from sys.path.\n",
      "/home/kai/anaconda3/envs/tf_newer/lib/python3.6/site-packages/ipykernel_launcher.py:7: RuntimeWarning: invalid value encountered in less\n",
      "  import sys\n",
      "/home/kai/anaconda3/envs/tf_newer/lib/python3.6/site-packages/ipykernel_launcher.py:7: SettingWithCopyWarning: \n",
      "A value is trying to be set on a copy of a slice from a DataFrame.\n",
      "Try using .loc[row_indexer,col_indexer] = value instead\n",
      "\n",
      "See the caveats in the documentation: http://pandas.pydata.org/pandas-docs/stable/indexing.html#indexing-view-versus-copy\n",
      "  import sys\n",
      "/home/kai/anaconda3/envs/tf_newer/lib/python3.6/site-packages/ipykernel_launcher.py:10: RuntimeWarning: invalid value encountered in less\n",
      "  # Remove the CWD from sys.path while we load stuff.\n",
      "/home/kai/anaconda3/envs/tf_newer/lib/python3.6/site-packages/ipykernel_launcher.py:10: SettingWithCopyWarning: \n",
      "A value is trying to be set on a copy of a slice from a DataFrame.\n",
      "Try using .loc[row_indexer,col_indexer] = value instead\n",
      "\n",
      "See the caveats in the documentation: http://pandas.pydata.org/pandas-docs/stable/indexing.html#indexing-view-versus-copy\n",
      "  # Remove the CWD from sys.path while we load stuff.\n",
      "/home/kai/anaconda3/envs/tf_newer/lib/python3.6/site-packages/ipykernel_launcher.py:12: RuntimeWarning: invalid value encountered in less\n",
      "  if sys.path[0] == '':\n",
      "/home/kai/anaconda3/envs/tf_newer/lib/python3.6/site-packages/ipykernel_launcher.py:12: SettingWithCopyWarning: \n",
      "A value is trying to be set on a copy of a slice from a DataFrame.\n",
      "Try using .loc[row_indexer,col_indexer] = value instead\n",
      "\n",
      "See the caveats in the documentation: http://pandas.pydata.org/pandas-docs/stable/indexing.html#indexing-view-versus-copy\n",
      "  if sys.path[0] == '':\n",
      "/home/kai/anaconda3/envs/tf_newer/lib/python3.6/site-packages/ipykernel_launcher.py:16: SettingWithCopyWarning: \n",
      "A value is trying to be set on a copy of a slice from a DataFrame.\n",
      "Try using .loc[row_indexer,col_indexer] = value instead\n",
      "\n",
      "See the caveats in the documentation: http://pandas.pydata.org/pandas-docs/stable/indexing.html#indexing-view-versus-copy\n",
      "  app.launch_new_instance()\n",
      "/home/kai/anaconda3/envs/tf_newer/lib/python3.6/site-packages/ipykernel_launcher.py:4: RuntimeWarning: invalid value encountered in greater\n",
      "  after removing the cwd from sys.path.\n"
     ]
    }
   ],
   "source": [
    "# installments_payments\n",
    "installments_payments['AMT_PAYMENT'] = replace_outliers_by_percentile(installments_payments, 'AMT_PAYMENT', 99).values\n",
    "installments_payments['AMT_INSTALMENT'] = replace_outliers_by_percentile(installments_payments, 'AMT_INSTALMENT', 99).values\n",
    "installments_payments[installments_payments['DAYS_ENTRY_PAYMENT'].values < -3000]['DAYS_ENTRY_PAYMENT'] = -3000\n",
    "\n",
    "installments_payments.to_pickle(PATH + 'installments_payments_outliers_replaced.pkl')"
   ]
  },
  {
   "cell_type": "code",
   "execution_count": 5,
   "metadata": {
    "ExecuteTime": {
     "end_time": "2018-06-25T20:12:10.407146Z",
     "start_time": "2018-06-25T20:12:03.694003Z"
    }
   },
   "outputs": [],
   "source": [
    "# bureau\n",
    "bureau[bureau['DAYS_ENDDATE_FACT'].values < -3500]['DAYS_ENDDATE_FACT'] = bureau[bureau['DAYS_ENDDATE_FACT'].values > -3500]['DAYS_ENDDATE_FACT'].min()\n",
    "bureau['AMT_CREDIT_MAX_OVERDUE'] = replace_outliers_by_percentile(bureau, 'AMT_CREDIT_MAX_OVERDUE', 99).values\n",
    "bureau['AMT_CREDIT_SUM'] = replace_outliers_by_percentile(bureau, 'AMT_CREDIT_SUM', 99).values\n",
    "bureau[bureau['AMT_CREDIT_SUM_DEBT'].values < 0]['AMT_CREDIT_SUM_DEBT'] = 0\n",
    "bureau['AMT_CREDIT_SUM_DEBT'] = replace_outliers_by_percentile(bureau, 'AMT_CREDIT_SUM_DEBT', 99).values\n",
    "bureau[bureau['AMT_CREDIT_SUM_LIMIT'].values < 0]['AMT_CREDIT_SUM_LIMIT'] = 0\n",
    "bureau['AMT_CREDIT_SUM_LIMIT'] = replace_outliers_by_percentile(bureau, 'AMT_CREDIT_SUM_LIMIT', 99).values\n",
    "bureau['AMT_CREDIT_SUM_OVERDUE'] = replace_outliers_by_percentile(bureau, 'AMT_CREDIT_SUM_OVERDUE', 99, True).values\n",
    "bureau['DAYS_CREDIT_UPDATE'] = replace_outliers_by_percentile_negative(bureau, 'DAYS_CREDIT_UPDATE', 1).values\n",
    "bureau[bureau['DAYS_CREDIT_UPDATE'].values > 0]['DAYS_CREDIT_UPDATE'] = 0\n",
    "bureau['AMT_ANNUITY'] = replace_outliers_by_percentile(bureau, 'AMT_ANNUITY', 99, True).values\n",
    "\n",
    "bureau.to_pickle(PATH + 'bureau_outliers_replaced.pkl')"
   ]
  },
  {
   "cell_type": "code",
   "execution_count": null,
   "metadata": {},
   "outputs": [],
   "source": [
    "# credit_card_balance\n",
    "credit_card_balance['AMT_BALANCE'] = replace_outliers_by_percentile(credit_card_balance, 'AMT_BALANCE', 99, True).values\n",
    "credit_card_balance['AMT_CREDIT_LIMIT_ACTUAL'] = replace_outliers_by_percentile(credit_card_balance, 'AMT_CREDIT_LIMIT_ACTUAL', 99).values\n",
    "credit_card_balance['AMT_DRAWINGS_ATM_CURRENT'] = replace_outliers_by_percentile(credit_card_balance, 'AMT_DRAWINGS_ATM_CURRENT', 99, True).values\n",
    "credit_card_balance['AMT_DRAWINGS_CURRENT'] = replace_outliers_by_percentile(credit_card_balance, 'AMT_DRAWINGS_CURRENT', 99, True).values\n",
    "credit_card_balance['AMT_DRAWINGS_OTHER_CURRENT'] = replace_outliers_by_percentile(credit_card_balance, 'AMT_DRAWINGS_OTHER_CURRENT', 99, True).values\n",
    "credit_card_balance['AMT_DRAWINGS_POS_CURRENT'] = replace_outliers_by_percentile(credit_card_balance, 'AMT_DRAWINGS_POS_CURRENT', 99, True).values\n",
    "\n",
    "credit_card_balance.to_pickle(PATH + 'credit_card_balance_outliers_replaced.pkl')"
   ]
  },
  {
   "cell_type": "code",
   "execution_count": 130,
   "metadata": {
    "ExecuteTime": {
     "end_time": "2018-06-26T14:58:06.598972Z",
     "start_time": "2018-06-26T14:58:05.202750Z"
    }
   },
   "outputs": [
    {
     "name": "stderr",
     "output_type": "stream",
     "text": [
      "/home/kai/anaconda3/envs/tf_newer/lib/python3.6/site-packages/ipykernel_launcher.py:7: RuntimeWarning: invalid value encountered in greater\n",
      "  import sys\n"
     ]
    }
   ],
   "source": [
    "# POS_CASH_balance\n",
    "POS_CASH_balance['CNT_INSTALMENT'] = replace_outliers_by_percentile(POS_CASH_balance, 'CNT_INSTALMENT', 99.5)\n",
    "POS_CASH_balance['CNT_INSTALMENT_FUTURE'] = replace_outliers_by_percentile(POS_CASH_balance, 'CNT_INSTALMENT_FUTURE', 99.5)\n",
    "\n",
    "POS_CASH_balance.to_pickle(PATH + 'POS_CASH_balance_outliers_replaced.pkl')"
   ]
  },
  {
   "cell_type": "code",
   "execution_count": 131,
   "metadata": {
    "ExecuteTime": {
     "end_time": "2018-06-26T14:58:18.595053Z",
     "start_time": "2018-06-26T14:58:17.074577Z"
    }
   },
   "outputs": [
    {
     "name": "stderr",
     "output_type": "stream",
     "text": [
      "/home/kai/anaconda3/envs/tf_newer/lib/python3.6/site-packages/ipykernel_launcher.py:7: RuntimeWarning: invalid value encountered in greater\n",
      "  import sys\n",
      "/home/kai/anaconda3/envs/tf_newer/lib/python3.6/site-packages/ipykernel_launcher.py:4: RuntimeWarning: invalid value encountered in greater\n",
      "  after removing the cwd from sys.path.\n"
     ]
    }
   ],
   "source": [
    "# previous_application\n",
    "previous_application['AMT_ANNUITY'] = replace_outliers_by_percentile(previous_application, 'AMT_ANNUITY', 99.5)\n",
    "previous_application['AMT_APPLICATION'] = replace_outliers_by_percentile(previous_application, 'AMT_APPLICATION', 99.5)\n",
    "previous_application['AMT_CREDIT'] = replace_outliers_by_percentile(previous_application, 'AMT_CREDIT', 99.5)\n",
    "previous_application['AMT_DOWN_PAYMENT'] = replace_outliers_by_percentile(previous_application, 'AMT_DOWN_PAYMENT', 99, True)\n",
    "previous_application['AMT_GOODS_PRICE'] = replace_outliers_by_percentile(previous_application, 'AMT_GOODS_PRICE', 99.5)\n",
    "previous_application['RATE_DOWN_PAYMENT'] = replace_outliers_by_percentile(previous_application, 'RATE_DOWN_PAYMENT', 99.5)\n",
    "previous_application['CNT_PAYMENT'] = replace_outliers_by_percentile(previous_application, 'CNT_PAYMENT', 99.5)\n",
    "\n",
    "previous_application.to_pickle(PATH + 'previous_application_outliers_replaced.pkl')"
   ]
  },
  {
   "cell_type": "code",
   "execution_count": 34,
   "metadata": {
    "ExecuteTime": {
     "end_time": "2018-06-26T13:58:29.968220Z",
     "start_time": "2018-06-26T13:58:29.964881Z"
    }
   },
   "outputs": [],
   "source": [
    "# credit_card_balance[credit_card_balance['AMT_BALANCE'].values >= np.nanpercentile(credit_card_balance[credit_card_balance['AMT_BALANCE'].values > 0]['AMT_BALANCE'].values, 99)]"
   ]
  },
  {
   "cell_type": "code",
   "execution_count": null,
   "metadata": {},
   "outputs": [],
   "source": []
  },
  {
   "cell_type": "code",
   "execution_count": null,
   "metadata": {},
   "outputs": [],
   "source": []
  },
  {
   "cell_type": "code",
   "execution_count": 16,
   "metadata": {
    "ExecuteTime": {
     "end_time": "2018-06-26T13:46:03.999685Z",
     "start_time": "2018-06-26T13:46:03.102227Z"
    }
   },
   "outputs": [
    {
     "name": "stderr",
     "output_type": "stream",
     "text": [
      "/home/kai/anaconda3/envs/tf_newer/lib/python3.6/site-packages/ipykernel_launcher.py:7: RuntimeWarning: invalid value encountered in greater\n",
      "  import sys\n"
     ]
    },
    {
     "data": {
      "image/png": "[encoded data removed]",
      "text/plain": [
       "<matplotlib.figure.Figure at 0x7f6cf935f080>"
      ]
     },
     "metadata": {},
     "output_type": "display_data"
    },
    {
     "name": "stderr",
     "output_type": "stream",
     "text": [
      "/home/kai/anaconda3/envs/tf_newer/lib/python3.6/site-packages/ipykernel_launcher.py:10: RuntimeWarning: invalid value encountered in greater\n",
      "  # Remove the CWD from sys.path while we load stuff.\n"
     ]
    },
    {
     "data": {
      "text/plain": [
       "(11476      61.0\n",
       " 14383      61.0\n",
       " 14528      61.0\n",
       " 14919      61.0\n",
       " 16189      61.0\n",
       " 16263      61.0\n",
       " 17426      61.0\n",
       " 17714      61.0\n",
       " 17897      61.0\n",
       " 18064      61.0\n",
       " 18145      61.0\n",
       " 19266      61.0\n",
       " 22017      61.0\n",
       " 23776      61.0\n",
       " 26074      61.0\n",
       " 27019      61.0\n",
       " 27686      61.0\n",
       " 29930      61.0\n",
       " 34804      61.0\n",
       " 36426      61.0\n",
       " 37525      61.0\n",
       " 37870      61.0\n",
       " 38631      61.0\n",
       " 40420      66.0\n",
       " 40833      61.0\n",
       " 45970      61.0\n",
       " 55594      61.0\n",
       " 57257      61.0\n",
       " 57984      61.0\n",
       " 58268      61.0\n",
       "            ... \n",
       " 9888524    72.0\n",
       " 9898099    72.0\n",
       " 9901026    72.0\n",
       " 9901432    68.0\n",
       " 9901435    72.0\n",
       " 9902787    72.0\n",
       " 9902795    72.0\n",
       " 9902802    72.0\n",
       " 9902811    72.0\n",
       " 9902824    72.0\n",
       " 9903221    72.0\n",
       " 9911505    61.0\n",
       " 9925360    72.0\n",
       " 9925363    72.0\n",
       " 9926745    72.0\n",
       " 9926763    72.0\n",
       " 9929398    66.0\n",
       " 9929603    66.0\n",
       " 9929786    66.0\n",
       " 9930407    66.0\n",
       " 9932016    66.0\n",
       " 9932133    66.0\n",
       " 9939205    72.0\n",
       " 9966959    72.0\n",
       " 9967090    72.0\n",
       " 9967096    72.0\n",
       " 9967476    72.0\n",
       " 9968183    72.0\n",
       " 9968657    72.0\n",
       " 9985190    72.0\n",
       " Name: CNT_INSTALMENT, Length: 3262, dtype: float64,\n",
       "          CNT_INSTALMENT_percentile_replaced\n",
       " 20                                     60.0\n",
       " 39                                     60.0\n",
       " 1467                                   60.0\n",
       " 1669                                   60.0\n",
       " 2567                                   60.0\n",
       " 3241                                   60.0\n",
       " 3304                                   60.0\n",
       " 3305                                   60.0\n",
       " 3356                                   60.0\n",
       " 3593                                   60.0\n",
       " 3735                                   60.0\n",
       " 3746                                   60.0\n",
       " 3840                                   60.0\n",
       " 3864                                   60.0\n",
       " 3870                                   60.0\n",
       " 3893                                   60.0\n",
       " 3906                                   60.0\n",
       " 3910                                   60.0\n",
       " 4449                                   60.0\n",
       " 4456                                   60.0\n",
       " 4461                                   60.0\n",
       " 4484                                   60.0\n",
       " 4609                                   60.0\n",
       " 4614                                   60.0\n",
       " 4637                                   60.0\n",
       " 4638                                   60.0\n",
       " 4649                                   60.0\n",
       " 4852                                   60.0\n",
       " 5049                                   60.0\n",
       " 5054                                   60.0\n",
       " ...                                     ...\n",
       " 9985420                                60.0\n",
       " 9985424                                60.0\n",
       " 9985425                                60.0\n",
       " 9985426                                60.0\n",
       " 9985538                                60.0\n",
       " 9985545                                60.0\n",
       " 9985563                                60.0\n",
       " 9985572                                60.0\n",
       " 9985573                                60.0\n",
       " 9985574                                60.0\n",
       " 9985579                                60.0\n",
       " 9985582                                60.0\n",
       " 9985584                                60.0\n",
       " 9985591                                60.0\n",
       " 9985593                                60.0\n",
       " 9985597                                60.0\n",
       " 9985599                                60.0\n",
       " 9985602                                60.0\n",
       " 9985603                                60.0\n",
       " 9985604                                60.0\n",
       " 9985607                                60.0\n",
       " 9985608                                60.0\n",
       " 9985609                                60.0\n",
       " 9985611                                60.0\n",
       " 9985612                                60.0\n",
       " 9985665                                60.0\n",
       " 9986466                                60.0\n",
       " 9987872                                60.0\n",
       " 9988728                                60.0\n",
       " 9988747                                60.0\n",
       " \n",
       " [192462 rows x 1 columns])"
      ]
     },
     "execution_count": 16,
     "metadata": {},
     "output_type": "execute_result"
    }
   ],
   "source": [
    "# temp = POS_CASH_balance.copy()\n",
    "# temp['CNT_INSTALMENT'] = temp['CNT_INSTALMENT'].fillna(-999)\n",
    "# temp = temp[temp['CNT_INSTALMENT'].values >= 0]\n",
    "\n",
    "temp = replace_outliers_by_percentile(POS_CASH_balance, 'CNT_INSTALMENT', 99.5)\n",
    "\n",
    "plt.hist(temp['CNT_INSTALMENT_percentile_replaced'].fillna(-1), edgecolor = 'k', bins = 30)\n",
    "plt.title('CNT_INSTALMENT'); plt.xlabel('AMT'); plt.ylabel('Count');\n",
    "plt.show()\n",
    "POS_CASH_balance[POS_CASH_balance['CNT_INSTALMENT'].values > 60]['CNT_INSTALMENT'], temp[temp['CNT_INSTALMENT_percentile_replaced'].values >55]"
   ]
  },
  {
   "cell_type": "code",
   "execution_count": 27,
   "metadata": {
    "ExecuteTime": {
     "end_time": "2018-06-26T13:52:28.125041Z",
     "start_time": "2018-06-26T13:52:27.245779Z"
    }
   },
   "outputs": [
    {
     "name": "stderr",
     "output_type": "stream",
     "text": [
      "/home/kai/anaconda3/envs/tf_newer/lib/python3.6/site-packages/ipykernel_launcher.py:7: RuntimeWarning: invalid value encountered in greater\n",
      "  import sys\n"
     ]
    },
    {
     "data": {
      "image/png": "[encoded data removed]",
      "text/plain": [
       "<matplotlib.figure.Figure at 0x7f6cd49d2f60>"
      ]
     },
     "metadata": {},
     "output_type": "display_data"
    },
    {
     "name": "stderr",
     "output_type": "stream",
     "text": [
      "/home/kai/anaconda3/envs/tf_newer/lib/python3.6/site-packages/ipykernel_launcher.py:10: RuntimeWarning: invalid value encountered in greater\n",
      "  # Remove the CWD from sys.path while we load stuff.\n"
     ]
    },
    {
     "data": {
      "text/plain": [
       "(20         56.0\n",
       " 381        54.0\n",
       " 1467       53.0\n",
       " 1669       54.0\n",
       " 2567       53.0\n",
       " 3241       58.0\n",
       " 3304       53.0\n",
       " 3735       51.0\n",
       " 3746       52.0\n",
       " 3864       54.0\n",
       " 3870       55.0\n",
       " 3893       51.0\n",
       " 3906       52.0\n",
       " 3910       55.0\n",
       " 4449       59.0\n",
       " 4456       57.0\n",
       " 4461       51.0\n",
       " 4484       57.0\n",
       " 4637       60.0\n",
       " 4638       60.0\n",
       " 4649       55.0\n",
       " 4852       54.0\n",
       " 5049       60.0\n",
       " 5054       54.0\n",
       " 5056       57.0\n",
       " 5061       60.0\n",
       " 5066       54.0\n",
       " 5077       54.0\n",
       " 5152       53.0\n",
       " 5228       51.0\n",
       "            ... \n",
       " 9985399    60.0\n",
       " 9985400    60.0\n",
       " 9985402    56.0\n",
       " 9985408    55.0\n",
       " 9985410    60.0\n",
       " 9985413    58.0\n",
       " 9985420    53.0\n",
       " 9985424    55.0\n",
       " 9985425    59.0\n",
       " 9985426    59.0\n",
       " 9985563    53.0\n",
       " 9985572    53.0\n",
       " 9985573    53.0\n",
       " 9985574    57.0\n",
       " 9985579    51.0\n",
       " 9985582    53.0\n",
       " 9985584    55.0\n",
       " 9985591    54.0\n",
       " 9985593    53.0\n",
       " 9985597    54.0\n",
       " 9985599    56.0\n",
       " 9985602    59.0\n",
       " 9985603    54.0\n",
       " 9985604    54.0\n",
       " 9985607    54.0\n",
       " 9985608    54.0\n",
       " 9985609    57.0\n",
       " 9985611    59.0\n",
       " 9985612    54.0\n",
       " 9987872    59.0\n",
       " Name: CNT_INSTALMENT_FUTURE, Length: 117967, dtype: float64,\n",
       "          CNT_INSTALMENT_FUTURE_percentile_replaced\n",
       " 20                                            56.0\n",
       " 381                                           54.0\n",
       " 1467                                          53.0\n",
       " 1669                                          54.0\n",
       " 2567                                          53.0\n",
       " 3241                                          57.0\n",
       " 3304                                          53.0\n",
       " 3735                                          51.0\n",
       " 3746                                          52.0\n",
       " 3864                                          54.0\n",
       " 3870                                          55.0\n",
       " 3893                                          51.0\n",
       " 3906                                          52.0\n",
       " 3910                                          55.0\n",
       " 4449                                          57.0\n",
       " 4456                                          57.0\n",
       " 4461                                          51.0\n",
       " 4484                                          57.0\n",
       " 4637                                          57.0\n",
       " 4638                                          57.0\n",
       " 4649                                          55.0\n",
       " 4852                                          54.0\n",
       " 5049                                          57.0\n",
       " 5054                                          54.0\n",
       " 5056                                          57.0\n",
       " 5061                                          57.0\n",
       " 5066                                          54.0\n",
       " 5077                                          54.0\n",
       " 5152                                          53.0\n",
       " 5228                                          51.0\n",
       " ...                                            ...\n",
       " 9985399                                       57.0\n",
       " 9985400                                       57.0\n",
       " 9985402                                       56.0\n",
       " 9985408                                       55.0\n",
       " 9985410                                       57.0\n",
       " 9985413                                       57.0\n",
       " 9985420                                       53.0\n",
       " 9985424                                       55.0\n",
       " 9985425                                       57.0\n",
       " 9985426                                       57.0\n",
       " 9985563                                       53.0\n",
       " 9985572                                       53.0\n",
       " 9985573                                       53.0\n",
       " 9985574                                       57.0\n",
       " 9985579                                       51.0\n",
       " 9985582                                       53.0\n",
       " 9985584                                       55.0\n",
       " 9985591                                       54.0\n",
       " 9985593                                       53.0\n",
       " 9985597                                       54.0\n",
       " 9985599                                       56.0\n",
       " 9985602                                       57.0\n",
       " 9985603                                       54.0\n",
       " 9985604                                       54.0\n",
       " 9985607                                       54.0\n",
       " 9985608                                       54.0\n",
       " 9985609                                       57.0\n",
       " 9985611                                       57.0\n",
       " 9985612                                       54.0\n",
       " 9987872                                       57.0\n",
       " \n",
       " [117967 rows x 1 columns])"
      ]
     },
     "execution_count": 27,
     "metadata": {},
     "output_type": "execute_result"
    }
   ],
   "source": [
    "# temp = POS_CASH_balance.copy()\n",
    "# temp['CNT_INSTALMENT'] = temp['CNT_INSTALMENT'].fillna(-999)\n",
    "# temp = temp[temp['CNT_INSTALMENT'].values >= 0]\n",
    "\n",
    "temp = replace_outliers_by_percentile(POS_CASH_balance, 'CNT_INSTALMENT_FUTURE', 99.5)\n",
    "\n",
    "plt.hist(temp['CNT_INSTALMENT_FUTURE_percentile_replaced'].fillna(-1), edgecolor = 'k', bins = 30)\n",
    "plt.title('CNT_INSTALMENT_FUTURE'); plt.xlabel('AMT'); plt.ylabel('Count');\n",
    "plt.show()\n",
    "POS_CASH_balance[POS_CASH_balance['CNT_INSTALMENT_FUTURE'].values > 50]['CNT_INSTALMENT_FUTURE'], temp[temp['CNT_INSTALMENT_FUTURE_percentile_replaced'].values > 50]"
   ]
  },
  {
   "cell_type": "code",
   "execution_count": null,
   "metadata": {},
   "outputs": [],
   "source": []
  },
  {
   "cell_type": "code",
   "execution_count": 33,
   "metadata": {
    "ExecuteTime": {
     "end_time": "2018-06-26T13:57:51.661732Z",
     "start_time": "2018-06-26T13:57:51.349997Z"
    }
   },
   "outputs": [
    {
     "name": "stderr",
     "output_type": "stream",
     "text": [
      "/home/kai/anaconda3/envs/tf_newer/lib/python3.6/site-packages/ipykernel_launcher.py:7: RuntimeWarning: invalid value encountered in greater\n",
      "  import sys\n"
     ]
    },
    {
     "data": {
      "image/png": "[encoded data removed]",
      "text/plain": [
       "<matplotlib.figure.Figure at 0x7f6cf9501320>"
      ]
     },
     "metadata": {},
     "output_type": "display_data"
    }
   ],
   "source": [
    "temp = replace_outliers_by_percentile(previous_application, 'AMT_ANNUITY', 99.5)\n",
    "\n",
    "plt.hist(temp['AMT_ANNUITY_percentile_replaced'].fillna(-1), edgecolor = 'k', bins = 30)\n",
    "plt.title('AMT_ANNUITY'); plt.xlabel('AMT'); plt.ylabel('Count');\n",
    "plt.show()\n",
    "# previous_application[previous_application['AMT_ANNUITY'].values > 50]['AMT_ANNUITY'], temp[temp['AMT_ANNUITY_percentile_replaced'].values > 50]"
   ]
  },
  {
   "cell_type": "code",
   "execution_count": 37,
   "metadata": {
    "ExecuteTime": {
     "end_time": "2018-06-26T14:01:22.397299Z",
     "start_time": "2018-06-26T14:01:22.113922Z"
    }
   },
   "outputs": [
    {
     "data": {
      "image/png": "[encoded data removed]",
      "text/plain": [
       "<matplotlib.figure.Figure at 0x7f6c424e0278>"
      ]
     },
     "metadata": {},
     "output_type": "display_data"
    }
   ],
   "source": [
    "temp = replace_outliers_by_percentile(previous_application, 'AMT_APPLICATION', 99.5)\n",
    "\n",
    "plt.hist(temp['AMT_APPLICATION_percentile_replaced'].fillna(-100), edgecolor = 'k', bins = 30)\n",
    "plt.title('AMT_APPLICATION'); plt.xlabel('AMT'); plt.ylabel('Count');\n",
    "plt.show()\n",
    "# previous_application[previous_application['AMT_ANNUITY'].values > 50]['AMT_ANNUITY'], temp[temp['AMT_ANNUITY_percentile_replaced'].values > 50]"
   ]
  },
  {
   "cell_type": "code",
   "execution_count": 46,
   "metadata": {
    "ExecuteTime": {
     "end_time": "2018-06-26T14:04:16.781592Z",
     "start_time": "2018-06-26T14:04:16.476957Z"
    }
   },
   "outputs": [
    {
     "name": "stderr",
     "output_type": "stream",
     "text": [
      "/home/kai/anaconda3/envs/tf_newer/lib/python3.6/site-packages/ipykernel_launcher.py:7: RuntimeWarning: invalid value encountered in greater\n",
      "  import sys\n"
     ]
    },
    {
     "data": {
      "image/png": "[encoded data removed]",
      "text/plain": [
       "<matplotlib.figure.Figure at 0x7f6c42154fd0>"
      ]
     },
     "metadata": {},
     "output_type": "display_data"
    }
   ],
   "source": [
    "temp = replace_outliers_by_percentile(previous_application, 'AMT_CREDIT', 99.5)\n",
    "\n",
    "plt.hist(temp['AMT_CREDIT_percentile_replaced'].fillna(-100), edgecolor = 'k', bins = 50)\n",
    "plt.title('AMT_CREDIT'); plt.xlabel('AMT'); plt.ylabel('Count');\n",
    "plt.show()\n",
    "# previous_application[previous_application['AMT_ANNUITY'].values > 50]['AMT_ANNUITY'], temp[temp['AMT_ANNUITY_percentile_replaced'].values > 50]"
   ]
  },
  {
   "cell_type": "code",
   "execution_count": 65,
   "metadata": {
    "ExecuteTime": {
     "end_time": "2018-06-26T14:11:48.697541Z",
     "start_time": "2018-06-26T14:11:48.392524Z"
    }
   },
   "outputs": [
    {
     "name": "stderr",
     "output_type": "stream",
     "text": [
      "/home/kai/anaconda3/envs/tf_newer/lib/python3.6/site-packages/ipykernel_launcher.py:4: RuntimeWarning: invalid value encountered in greater\n",
      "  after removing the cwd from sys.path.\n",
      "/home/kai/anaconda3/envs/tf_newer/lib/python3.6/site-packages/ipykernel_launcher.py:7: RuntimeWarning: invalid value encountered in greater\n",
      "  import sys\n"
     ]
    },
    {
     "data": {
      "image/png": "[encoded data removed]",
      "text/plain": [
       "<matplotlib.figure.Figure at 0x7f6cf994a4a8>"
      ]
     },
     "metadata": {},
     "output_type": "display_data"
    }
   ],
   "source": [
    "temp = replace_outliers_by_percentile(previous_application, 'AMT_DOWN_PAYMENT', 99, True).fillna(-100)\n",
    "temp = temp[temp['AMT_DOWN_PAYMENT_percentile_replaced'].values > 0]\n",
    "\n",
    "plt.hist(temp['AMT_DOWN_PAYMENT_percentile_replaced'], edgecolor = 'k', bins = 50)\n",
    "plt.title('AMT_DOWN_PAYMENT'); plt.xlabel('AMT'); plt.ylabel('Count');\n",
    "plt.show()\n",
    "# previous_application[previous_application['AMT_DOWN_PAYMENT'].values > 120000]['AMT_DOWN_PAYMENT'], temp[temp['AMT_DOWN_PAYMENT_percentile_replaced'].values > 80000]"
   ]
  },
  {
   "cell_type": "code",
   "execution_count": 72,
   "metadata": {
    "ExecuteTime": {
     "end_time": "2018-06-26T14:14:53.900230Z",
     "start_time": "2018-06-26T14:14:53.604755Z"
    }
   },
   "outputs": [
    {
     "name": "stderr",
     "output_type": "stream",
     "text": [
      "/home/kai/anaconda3/envs/tf_newer/lib/python3.6/site-packages/ipykernel_launcher.py:7: RuntimeWarning: invalid value encountered in greater\n",
      "  import sys\n"
     ]
    },
    {
     "data": {
      "image/png": "[encoded data removed]",
      "text/plain": [
       "<matplotlib.figure.Figure at 0x7f6c423619e8>"
      ]
     },
     "metadata": {},
     "output_type": "display_data"
    }
   ],
   "source": [
    "temp = replace_outliers_by_percentile(previous_application, 'AMT_GOODS_PRICE', 99.5).fillna(-100)\n",
    "temp = temp[temp['AMT_GOODS_PRICE_percentile_replaced'].values >= 0]\n",
    "\n",
    "plt.hist(temp['AMT_GOODS_PRICE_percentile_replaced'], edgecolor = 'k', bins = 50)\n",
    "plt.title('AMT_GOODS_PRICE'); plt.xlabel('AMT'); plt.ylabel('Count');\n",
    "plt.show()\n",
    "# previous_application[previous_application['AMT_DOWN_PAYMENT'].values > 120000]['AMT_DOWN_PAYMENT'], temp[temp['AMT_DOWN_PAYMENT_percentile_replaced'].values > 80000]"
   ]
  },
  {
   "cell_type": "code",
   "execution_count": 80,
   "metadata": {
    "ExecuteTime": {
     "end_time": "2018-06-26T14:22:24.021966Z",
     "start_time": "2018-06-26T14:22:23.772435Z"
    }
   },
   "outputs": [
    {
     "name": "stderr",
     "output_type": "stream",
     "text": [
      "/home/kai/anaconda3/envs/tf_newer/lib/python3.6/site-packages/ipykernel_launcher.py:7: RuntimeWarning: invalid value encountered in greater\n",
      "  import sys\n"
     ]
    },
    {
     "data": {
      "image/png": "[encoded data removed]",
      "text/plain": [
       "<matplotlib.figure.Figure at 0x7f6cd48aa518>"
      ]
     },
     "metadata": {},
     "output_type": "display_data"
    },
    {
     "data": {
      "text/plain": [
       "(120        0.530538\n",
       " 183        0.695678\n",
       " 721        0.544545\n",
       " 738        0.605084\n",
       " 803        0.592495\n",
       " 817        0.538519\n",
       " 967        0.533100\n",
       " 1179       0.534556\n",
       " 1311       0.535132\n",
       " 1408       0.544552\n",
       " 1576       0.544545\n",
       " 1664       0.550825\n",
       " 1729       0.530542\n",
       " 1889       0.509850\n",
       " 2030       0.818315\n",
       " 2789       0.544545\n",
       " 2823       0.611355\n",
       " 2906       0.630115\n",
       " 3233       0.579890\n",
       " 3480       0.560809\n",
       " 3531       0.549713\n",
       " 3606       0.541190\n",
       " 3641       0.511636\n",
       " 3791       0.533967\n",
       " 4132       0.648442\n",
       " 4158       0.521589\n",
       " 4192       0.526567\n",
       " 4349       0.528890\n",
       " 4350       0.500042\n",
       " 4463       0.675734\n",
       "              ...   \n",
       " 1662486    0.604117\n",
       " 1662488    0.530556\n",
       " 1662543    0.535129\n",
       " 1662685    0.540045\n",
       " 1662692    0.500899\n",
       " 1662870    0.514054\n",
       " 1663303    0.752980\n",
       " 1663673    0.530534\n",
       " 1663958    0.517230\n",
       " 1664486    0.530875\n",
       " 1664656    0.683409\n",
       " 1664769    0.562033\n",
       " 1664923    0.544545\n",
       " 1665576    0.572703\n",
       " 1665916    0.544545\n",
       " 1666100    0.530568\n",
       " 1666176    0.530538\n",
       " 1666201    0.531939\n",
       " 1666250    0.528850\n",
       " 1666659    0.544545\n",
       " 1666703    0.616176\n",
       " 1666865    0.518865\n",
       " 1666925    0.513028\n",
       " 1667387    0.511906\n",
       " 1667428    0.591758\n",
       " 1667653    0.729302\n",
       " 1667804    0.798335\n",
       " 1668331    0.595975\n",
       " 1668777    0.544509\n",
       " 1669212    0.526958\n",
       " Name: RATE_DOWN_PAYMENT, Length: 9395, dtype: float64,\n",
       "          RATE_DOWN_PAYMENT_percentile_replaced\n",
       " 120                                   0.530538\n",
       " 183                                   0.545210\n",
       " 721                                   0.544545\n",
       " 738                                   0.545210\n",
       " 803                                   0.545210\n",
       " 817                                   0.538519\n",
       " 967                                   0.533100\n",
       " 1179                                  0.534556\n",
       " 1311                                  0.535132\n",
       " 1408                                  0.544552\n",
       " 1576                                  0.544545\n",
       " 1664                                  0.545210\n",
       " 1729                                  0.530542\n",
       " 1889                                  0.509850\n",
       " 2030                                  0.545210\n",
       " 2789                                  0.544545\n",
       " 2823                                  0.545210\n",
       " 2906                                  0.545210\n",
       " 3233                                  0.545210\n",
       " 3480                                  0.545210\n",
       " 3531                                  0.545210\n",
       " 3606                                  0.541190\n",
       " 3641                                  0.511636\n",
       " 3791                                  0.533967\n",
       " 4132                                  0.545210\n",
       " 4158                                  0.521589\n",
       " 4192                                  0.526567\n",
       " 4349                                  0.528890\n",
       " 4350                                  0.500042\n",
       " 4463                                  0.545210\n",
       " ...                                        ...\n",
       " 1662486                               0.545210\n",
       " 1662488                               0.530556\n",
       " 1662543                               0.535129\n",
       " 1662685                               0.540045\n",
       " 1662692                               0.500899\n",
       " 1662870                               0.514054\n",
       " 1663303                               0.545210\n",
       " 1663673                               0.530534\n",
       " 1663958                               0.517230\n",
       " 1664486                               0.530875\n",
       " 1664656                               0.545210\n",
       " 1664769                               0.545210\n",
       " 1664923                               0.544545\n",
       " 1665576                               0.545210\n",
       " 1665916                               0.544545\n",
       " 1666100                               0.530568\n",
       " 1666176                               0.530538\n",
       " 1666201                               0.531939\n",
       " 1666250                               0.528850\n",
       " 1666659                               0.544545\n",
       " 1666703                               0.545210\n",
       " 1666865                               0.518865\n",
       " 1666925                               0.513028\n",
       " 1667387                               0.511906\n",
       " 1667428                               0.545210\n",
       " 1667653                               0.545210\n",
       " 1667804                               0.545210\n",
       " 1668331                               0.545210\n",
       " 1668777                               0.544509\n",
       " 1669212                               0.526958\n",
       " \n",
       " [9395 rows x 1 columns])"
      ]
     },
     "execution_count": 80,
     "metadata": {},
     "output_type": "execute_result"
    }
   ],
   "source": [
    "temp = replace_outliers_by_percentile(previous_application, 'RATE_DOWN_PAYMENT', 99.5).fillna(-100)\n",
    "temp = temp[temp['RATE_DOWN_PAYMENT_percentile_replaced'].values >= 0]\n",
    "\n",
    "plt.hist(temp['RATE_DOWN_PAYMENT_percentile_replaced'], edgecolor = 'k', bins = 30)\n",
    "plt.title('RATE_DOWN_PAYMENT'); plt.xlabel('AMT'); plt.ylabel('Count');\n",
    "plt.show()\n",
    "previous_application[previous_application['RATE_DOWN_PAYMENT'].values > .5]['RATE_DOWN_PAYMENT'], temp[temp['RATE_DOWN_PAYMENT_percentile_replaced'].values > .5]"
   ]
  },
  {
   "cell_type": "code",
   "execution_count": 89,
   "metadata": {
    "ExecuteTime": {
     "end_time": "2018-06-26T14:27:57.722652Z",
     "start_time": "2018-06-26T14:27:57.530339Z"
    }
   },
   "outputs": [
    {
     "name": "stderr",
     "output_type": "stream",
     "text": [
      "/home/kai/anaconda3/envs/tf_newer/lib/python3.6/site-packages/ipykernel_launcher.py:7: RuntimeWarning: invalid value encountered in greater\n",
      "  import sys\n"
     ]
    },
    {
     "data": {
      "image/png": "[encoded data removed]",
      "text/plain": [
       "<matplotlib.figure.Figure at 0x7f6c42395908>"
      ]
     },
     "metadata": {},
     "output_type": "display_data"
    }
   ],
   "source": [
    "temp = replace_outliers_by_percentile(previous_application, 'RATE_INTEREST_PRIMARY', 100).fillna(-100)\n",
    "temp = temp[temp['RATE_INTEREST_PRIMARY_percentile_replaced'].values >= 0]\n",
    "\n",
    "plt.hist(temp['RATE_INTEREST_PRIMARY_percentile_replaced'], edgecolor = 'k', bins = 30)\n",
    "plt.title('RATE_INTEREST_PRIMARY'); plt.xlabel('AMT'); plt.ylabel('Count');\n",
    "plt.show()\n",
    "# previous_application[previous_application['RATE_DOWN_PAYMENT'].values > .5]['RATE_DOWN_PAYMENT'], temp[temp['RATE_DOWN_PAYMENT_percentile_replaced'].values > .5]"
   ]
  },
  {
   "cell_type": "code",
   "execution_count": 90,
   "metadata": {
    "ExecuteTime": {
     "end_time": "2018-06-26T14:30:03.637743Z",
     "start_time": "2018-06-26T14:30:03.461592Z"
    }
   },
   "outputs": [
    {
     "name": "stderr",
     "output_type": "stream",
     "text": [
      "/home/kai/anaconda3/envs/tf_newer/lib/python3.6/site-packages/ipykernel_launcher.py:7: RuntimeWarning: invalid value encountered in greater\n",
      "  import sys\n"
     ]
    },
    {
     "data": {
      "image/png": "[encoded data removed]",
      "text/plain": [
       "<matplotlib.figure.Figure at 0x7f6c42355b70>"
      ]
     },
     "metadata": {},
     "output_type": "display_data"
    }
   ],
   "source": [
    "temp = replace_outliers_by_percentile(previous_application, 'RATE_INTEREST_PRIVILEGED', 100).fillna(-100)\n",
    "temp = temp[temp['RATE_INTEREST_PRIVILEGED_percentile_replaced'].values >= 0]\n",
    "\n",
    "plt.hist(temp['RATE_INTEREST_PRIVILEGED_percentile_replaced'], edgecolor = 'k', bins = 30)\n",
    "plt.title('RATE_INTEREST_PRIVILEGED'); plt.xlabel('AMT'); plt.ylabel('Count');\n",
    "plt.show()\n",
    "# previous_application[previous_application['RATE_DOWN_PAYMENT'].values > .5]['RATE_DOWN_PAYMENT'], temp[temp['RATE_DOWN_PAYMENT_percentile_replaced'].values > .5]"
   ]
  },
  {
   "cell_type": "code",
   "execution_count": 91,
   "metadata": {
    "ExecuteTime": {
     "end_time": "2018-06-26T14:33:08.378229Z",
     "start_time": "2018-06-26T14:33:08.332928Z"
    }
   },
   "outputs": [
    {
     "data": {
      "text/plain": [
       "(5721, 5721, 5721)"
      ]
     },
     "execution_count": 91,
     "metadata": {},
     "output_type": "execute_result"
    }
   ],
   "source": [
    "priv_id = set(previous_application[previous_application['RATE_INTEREST_PRIVILEGED'].isnull() == 0]['SK_ID_CURR'])\n",
    "prim_id = set(previous_application[previous_application['RATE_INTEREST_PRIMARY'].isnull() == 0]['SK_ID_CURR'])\n",
    "inter = priv_id & prim_id\n",
    "\n",
    "priv_id.__len__(), prim_id.__len__(), inter.__len__()"
   ]
  },
  {
   "cell_type": "code",
   "execution_count": 96,
   "metadata": {
    "ExecuteTime": {
     "end_time": "2018-06-26T14:36:08.744112Z",
     "start_time": "2018-06-26T14:36:08.528982Z"
    }
   },
   "outputs": [
    {
     "data": {
      "image/png": "[encoded data removed]",
      "text/plain": [
       "<matplotlib.figure.Figure at 0x7f6cf945cfd0>"
      ]
     },
     "metadata": {},
     "output_type": "display_data"
    }
   ],
   "source": [
    "temp = previous_application['RATE_INTEREST_PRIVILEGED'] + previous_application['RATE_INTEREST_PRIMARY']\n",
    "temp = temp[temp.isnull() == 0]\n",
    "\n",
    "plt.hist(temp.values, edgecolor = 'k', bins = 30)\n",
    "plt.title('RATE_SUM'); plt.xlabel('RATE'); plt.ylabel('Count');\n",
    "plt.show()"
   ]
  },
  {
   "cell_type": "code",
   "execution_count": 111,
   "metadata": {
    "ExecuteTime": {
     "end_time": "2018-06-26T14:42:24.902756Z",
     "start_time": "2018-06-26T14:42:24.622697Z"
    }
   },
   "outputs": [
    {
     "data": {
      "image/png": "[encoded data removed]",
      "text/plain": [
       "<matplotlib.figure.Figure at 0x7f6c424c6a90>"
      ]
     },
     "metadata": {},
     "output_type": "display_data"
    }
   ],
   "source": [
    "temp = replace_outliers_by_percentile_negative(previous_application, 'DAYS_DECISION', 0).fillna(100)\n",
    "temp = temp[temp['DAYS_DECISION_percentile_replaced'].values <= 0]\n",
    "\n",
    "plt.hist(temp['DAYS_DECISION_percentile_replaced'], edgecolor = 'k', bins = 50)\n",
    "plt.title('DAYS_DECISION'); plt.xlabel('AMT'); plt.ylabel('Count');\n",
    "plt.show()\n",
    "# previous_application[previous_application['DAYS_DECISION'].values < -2900]['DAYS_DECISION'], temp[temp['DAYS_DECISION_percentile_replaced'].values > .5]"
   ]
  },
  {
   "cell_type": "code",
   "execution_count": 119,
   "metadata": {
    "ExecuteTime": {
     "end_time": "2018-06-26T14:50:38.051192Z",
     "start_time": "2018-06-26T14:50:37.758244Z"
    }
   },
   "outputs": [
    {
     "name": "stderr",
     "output_type": "stream",
     "text": [
      "/home/kai/anaconda3/envs/tf_newer/lib/python3.6/site-packages/ipykernel_launcher.py:7: RuntimeWarning: invalid value encountered in greater\n",
      "  import sys\n"
     ]
    },
    {
     "data": {
      "image/png": "[encoded data removed]",
      "text/plain": [
       "<matplotlib.figure.Figure at 0x7f6ce0ccf240>"
      ]
     },
     "metadata": {},
     "output_type": "display_data"
    }
   ],
   "source": [
    "temp = replace_outliers_by_percentile(previous_application, 'CNT_PAYMENT', 99.5).fillna(-100)\n",
    "temp = temp[temp['CNT_PAYMENT_percentile_replaced'].values >= 0]\n",
    "\n",
    "plt.hist(temp['CNT_PAYMENT_percentile_replaced'], edgecolor = 'k', bins = 30)\n",
    "plt.title('CNT_PAYMENT'); plt.xlabel('AMT'); plt.ylabel('Count');\n",
    "plt.show()\n",
    "# previous_application[previous_application['CNT_PAYMENT'].values > 60]['CNT_PAYMENT'], temp[temp['CNT_PAYMENT_percentile_replaced'].values > 60]"
   ]
  },
  {
   "cell_type": "code",
   "execution_count": 123,
   "metadata": {
    "ExecuteTime": {
     "end_time": "2018-06-26T14:51:59.755519Z",
     "start_time": "2018-06-26T14:51:59.565442Z"
    }
   },
   "outputs": [
    {
     "name": "stderr",
     "output_type": "stream",
     "text": [
      "/home/kai/anaconda3/envs/tf_newer/lib/python3.6/site-packages/ipykernel_launcher.py:7: RuntimeWarning: invalid value encountered in less\n",
      "  import sys\n"
     ]
    },
    {
     "data": {
      "image/png": "[encoded data removed]",
      "text/plain": [
       "<matplotlib.figure.Figure at 0x7f6cf9185a90>"
      ]
     },
     "metadata": {},
     "output_type": "display_data"
    }
   ],
   "source": [
    "temp = replace_outliers_by_percentile_negative(previous_application, 'DAYS_FIRST_DRAWING', 0).fillna(100)\n",
    "temp = temp[temp['DAYS_FIRST_DRAWING_percentile_replaced'].values <= 0]\n",
    "\n",
    "plt.hist(temp['DAYS_FIRST_DRAWING_percentile_replaced'], edgecolor = 'k', bins = 30)\n",
    "plt.title('DAYS_FIRST_DRAWING'); plt.xlabel('AMT'); plt.ylabel('Count');\n",
    "plt.show()\n",
    "# previous_application[previous_application['CNT_PAYMENT'].values > 60]['CNT_PAYMENT'], temp[temp['CNT_PAYMENT_percentile_replaced'].values > 60]"
   ]
  },
  {
   "cell_type": "code",
   "execution_count": 125,
   "metadata": {
    "ExecuteTime": {
     "end_time": "2018-06-26T14:54:34.898776Z",
     "start_time": "2018-06-26T14:54:34.597284Z"
    }
   },
   "outputs": [
    {
     "name": "stderr",
     "output_type": "stream",
     "text": [
      "/home/kai/anaconda3/envs/tf_newer/lib/python3.6/site-packages/ipykernel_launcher.py:7: RuntimeWarning: invalid value encountered in less\n",
      "  import sys\n"
     ]
    },
    {
     "data": {
      "image/png": "[encoded data removed]",
      "text/plain": [
       "<matplotlib.figure.Figure at 0x7f6ce0c39438>"
      ]
     },
     "metadata": {},
     "output_type": "display_data"
    }
   ],
   "source": [
    "temp = replace_outliers_by_percentile_negative(previous_application, 'DAYS_FIRST_DUE', 0).fillna(100)\n",
    "temp = temp[temp['DAYS_FIRST_DUE_percentile_replaced'].values <= 0]\n",
    "\n",
    "plt.hist(temp['DAYS_FIRST_DUE_percentile_replaced'], edgecolor = 'k', bins = 50)\n",
    "plt.title('DAYS_FIRST_DUE'); plt.xlabel('AMT'); plt.ylabel('Count');\n",
    "plt.show()\n",
    "# previous_application[previous_application['CNT_PAYMENT'].values > 60]['CNT_PAYMENT'], temp[temp['CNT_PAYMENT_percentile_replaced'].values > 60]"
   ]
  },
  {
   "cell_type": "code",
   "execution_count": 126,
   "metadata": {
    "ExecuteTime": {
     "end_time": "2018-06-26T14:55:24.467779Z",
     "start_time": "2018-06-26T14:55:24.224850Z"
    }
   },
   "outputs": [
    {
     "name": "stderr",
     "output_type": "stream",
     "text": [
      "/home/kai/anaconda3/envs/tf_newer/lib/python3.6/site-packages/ipykernel_launcher.py:7: RuntimeWarning: invalid value encountered in less\n",
      "  import sys\n"
     ]
    },
    {
     "data": {
      "image/png": "[encoded data removed]",
      "text/plain": [
       "<matplotlib.figure.Figure at 0x7f6c4d500668>"
      ]
     },
     "metadata": {},
     "output_type": "display_data"
    }
   ],
   "source": [
    "temp = replace_outliers_by_percentile_negative(previous_application, 'DAYS_LAST_DUE_1ST_VERSION', 0).fillna(100)\n",
    "temp = temp[temp['DAYS_LAST_DUE_1ST_VERSION_percentile_replaced'].values <= 0]\n",
    "\n",
    "plt.hist(temp['DAYS_LAST_DUE_1ST_VERSION_percentile_replaced'], edgecolor = 'k', bins = 50)\n",
    "plt.title('DAYS_LAST_DUE_1ST_VERSION'); plt.xlabel('AMT'); plt.ylabel('Count');\n",
    "plt.show()\n",
    "# previous_application[previous_application['CNT_PAYMENT'].values > 60]['CNT_PAYMENT'], temp[temp['CNT_PAYMENT_percentile_replaced'].values > 60]"
   ]
  },
  {
   "cell_type": "code",
   "execution_count": 127,
   "metadata": {
    "ExecuteTime": {
     "end_time": "2018-06-26T14:56:01.739486Z",
     "start_time": "2018-06-26T14:56:01.465360Z"
    }
   },
   "outputs": [
    {
     "name": "stderr",
     "output_type": "stream",
     "text": [
      "/home/kai/anaconda3/envs/tf_newer/lib/python3.6/site-packages/ipykernel_launcher.py:7: RuntimeWarning: invalid value encountered in less\n",
      "  import sys\n"
     ]
    },
    {
     "data": {
      "image/png": "[encoded data removed]",
      "text/plain": [
       "<matplotlib.figure.Figure at 0x7f6ce0cde4e0>"
      ]
     },
     "metadata": {},
     "output_type": "display_data"
    }
   ],
   "source": [
    "temp = replace_outliers_by_percentile_negative(previous_application, 'DAYS_LAST_DUE', 0).fillna(100)\n",
    "temp = temp[temp['DAYS_LAST_DUE_percentile_replaced'].values <= 0]\n",
    "\n",
    "plt.hist(temp['DAYS_LAST_DUE_percentile_replaced'], edgecolor = 'k', bins = 50)\n",
    "plt.title('DAYS_LAST_DUE'); plt.xlabel('AMT'); plt.ylabel('Count');\n",
    "plt.show()\n",
    "# previous_application[previous_application['CNT_PAYMENT'].values > 60]['CNT_PAYMENT'], temp[temp['CNT_PAYMENT_percentile_replaced'].values > 60]"
   ]
  },
  {
   "cell_type": "code",
   "execution_count": 129,
   "metadata": {
    "ExecuteTime": {
     "end_time": "2018-06-26T14:57:10.264303Z",
     "start_time": "2018-06-26T14:57:10.000059Z"
    }
   },
   "outputs": [
    {
     "name": "stderr",
     "output_type": "stream",
     "text": [
      "/home/kai/anaconda3/envs/tf_newer/lib/python3.6/site-packages/ipykernel_launcher.py:7: RuntimeWarning: invalid value encountered in less\n",
      "  import sys\n"
     ]
    },
    {
     "data": {
      "image/png": "[encoded data removed]",
      "text/plain": [
       "<matplotlib.figure.Figure at 0x7f6cf95517b8>"
      ]
     },
     "metadata": {},
     "output_type": "display_data"
    },
    {
     "data": {
      "text/plain": [
       "(551       -2707.0\n",
       " 554       -2724.0\n",
       " 3166      -2725.0\n",
       " 7555      -2726.0\n",
       " 8262      -2706.0\n",
       " 9033      -2760.0\n",
       " 10391     -2704.0\n",
       " 11914     -2733.0\n",
       " 12461     -2714.0\n",
       " 12584     -2747.0\n",
       " 12687     -2789.0\n",
       " 13063     -2721.0\n",
       " 14785     -2787.0\n",
       " 14991     -2742.0\n",
       " 16724     -2701.0\n",
       " 16896     -2717.0\n",
       " 17853     -2706.0\n",
       " 18131     -2703.0\n",
       " 19602     -2705.0\n",
       " 24329     -2731.0\n",
       " 25300     -2742.0\n",
       " 27199     -2759.0\n",
       " 27645     -2784.0\n",
       " 27853     -2780.0\n",
       " 27881     -2712.0\n",
       " 28200     -2769.0\n",
       " 28362     -2775.0\n",
       " 28462     -2807.0\n",
       " 30447     -2763.0\n",
       " 32017     -2844.0\n",
       "             ...  \n",
       " 1639201   -2760.0\n",
       " 1639942   -2754.0\n",
       " 1646215   -2755.0\n",
       " 1646277   -2790.0\n",
       " 1646278   -2759.0\n",
       " 1647107   -2710.0\n",
       " 1647142   -2704.0\n",
       " 1647760   -2734.0\n",
       " 1648039   -2782.0\n",
       " 1648374   -2712.0\n",
       " 1648943   -2784.0\n",
       " 1652124   -2705.0\n",
       " 1654188   -2704.0\n",
       " 1656107   -2717.0\n",
       " 1658057   -2703.0\n",
       " 1658296   -2704.0\n",
       " 1659087   -2750.0\n",
       " 1659377   -2704.0\n",
       " 1660057   -2704.0\n",
       " 1661086   -2701.0\n",
       " 1661786   -2701.0\n",
       " 1663745   -2783.0\n",
       " 1664296   -2705.0\n",
       " 1665760   -2767.0\n",
       " 1666802   -2735.0\n",
       " 1667279   -2708.0\n",
       " 1668272   -2704.0\n",
       " 1668274   -2701.0\n",
       " 1669050   -2711.0\n",
       " 1669502   -2739.0\n",
       " Name: DAYS_TERMINATION, Length: 1388, dtype: float64, Empty DataFrame\n",
       " Columns: [DAYS_TERMINATION_percentile_replaced]\n",
       " Index: [])"
      ]
     },
     "execution_count": 129,
     "metadata": {},
     "output_type": "execute_result"
    }
   ],
   "source": [
    "temp = replace_outliers_by_percentile_negative(previous_application, 'DAYS_TERMINATION', 0).fillna(100)\n",
    "temp = temp[temp['DAYS_TERMINATION_percentile_replaced'].values <= 0]\n",
    "\n",
    "plt.hist(temp['DAYS_TERMINATION_percentile_replaced'], edgecolor = 'k', bins = 50)\n",
    "plt.title('DAYS_TERMINATION'); plt.xlabel('AMT'); plt.ylabel('Count');\n",
    "plt.show()\n",
    "# previous_application[previous_application['DAYS_TERMINATION'].values < -2700]['DAYS_TERMINATION'], temp[temp['DAYS_TERMINATION_percentile_replaced'].values > 60]"
   ]
  },
  {
   "cell_type": "code",
   "execution_count": null,
   "metadata": {},
   "outputs": [],
   "source": []
  },
  {
   "cell_type": "code",
   "execution_count": null,
   "metadata": {},
   "outputs": [],
   "source": []
  },
  {
   "cell_type": "code",
   "execution_count": 2,
   "metadata": {
    "ExecuteTime": {
     "end_time": "2018-06-21T20:49:33.052244Z",
     "start_time": "2018-06-21T20:49:31.674389Z"
    }
   },
   "outputs": [],
   "source": [
    "df = train.copy()"
   ]
  },
  {
   "cell_type": "code",
   "execution_count": 13,
   "metadata": {
    "ExecuteTime": {
     "end_time": "2018-06-21T19:56:28.663302Z",
     "start_time": "2018-06-21T19:55:08.957860Z"
    },
    "collapsed": true
   },
   "outputs": [],
   "source": [
    "temp = pd.merge(df, previous_application, on='SK_ID_CURR')"
   ]
  },
  {
   "cell_type": "code",
   "execution_count": 17,
   "metadata": {
    "ExecuteTime": {
     "end_time": "2018-06-21T20:03:46.913625Z",
     "start_time": "2018-06-21T20:03:44.735992Z"
    }
   },
   "outputs": [
    {
     "name": "stdout",
     "output_type": "stream",
     "text": [
      "0 in approved:0.9241134455630804\n",
      "1 in approved:0.07588655443691958\n",
      "0 in not approved:0.8800358612820408\n",
      "1 in not approved:0.11996413871795916\n"
     ]
    }
   ],
   "source": [
    "approved = temp[temp['NAME_CONTRACT_STATUS'].values == 'Approved']\n",
    "approved_0 = approved[approved['TARGET']==0]\n",
    "approved_1 = approved[approved['TARGET']==1]\n",
    "\n",
    "not_approved = temp[temp['NAME_CONTRACT_STATUS'].values == 'Refused']\n",
    "not_approved_0 = not_approved[not_approved['TARGET']==0]\n",
    "not_approved_1 = not_approved[not_approved['TARGET']==1]\n",
    "\n",
    "print('0 in approved:{}'.format(approved_0.shape[0]/approved.shape[0]))\n",
    "print('1 in approved:{}'.format(approved_1.shape[0]/approved.shape[0]))\n",
    "print('0 in not approved:{}'.format(not_approved_0.shape[0]/not_approved.shape[0]))\n",
    "print('1 in not approved:{}'.format(not_approved_1.shape[0]/not_approved.shape[0]))"
   ]
  },
  {
   "cell_type": "code",
   "execution_count": null,
   "metadata": {
    "collapsed": true
   },
   "outputs": [],
   "source": []
  },
  {
   "cell_type": "code",
   "execution_count": 13,
   "metadata": {
    "ExecuteTime": {
     "end_time": "2018-06-21T20:36:34.935936Z",
     "start_time": "2018-06-21T20:36:22.150033Z"
    }
   },
   "outputs": [],
   "source": [
    "curr_id_installment = set(installments_payments['SK_ID_CURR'].values)\n",
    "curr_id_0 = set(df[df['TARGET'] == 0]['SK_ID_CURR'].values)\n",
    "curr_id_1 = set(df[df['TARGET'] == 1]['SK_ID_CURR'].values)\n",
    "\n",
    "curr_id_installment_0 = curr_id_installment & curr_id_0\n",
    "curr_id_installment_1 = curr_id_installment & curr_id_1"
   ]
  },
  {
   "cell_type": "code",
   "execution_count": 16,
   "metadata": {
    "ExecuteTime": {
     "end_time": "2018-06-21T20:39:37.060994Z",
     "start_time": "2018-06-21T20:39:37.045958Z"
    }
   },
   "outputs": [
    {
     "data": {
      "text/plain": [
       "(267767, 23876, 339587)"
      ]
     },
     "execution_count": 16,
     "metadata": {},
     "output_type": "execute_result"
    }
   ],
   "source": [
    "curr_id_installment_0.__len__(), curr_id_installment_1.__len__(), curr_id_installment.__len__()"
   ]
  },
  {
   "cell_type": "code",
   "execution_count": 18,
   "metadata": {
    "ExecuteTime": {
     "end_time": "2018-06-21T20:44:28.758416Z",
     "start_time": "2018-06-21T20:44:28.755027Z"
    }
   },
   "outputs": [
    {
     "name": "stdout",
     "output_type": "stream",
     "text": [
      "0 in inst: 0.9181327856317484\n",
      "1 in inst: 0.08186721436825159\n"
     ]
    }
   ],
   "source": [
    "count = curr_id_installment_0.__len__() + curr_id_installment_1.__len__()\n",
    "print('0 in inst: {}'.format(curr_id_installment_0.__len__()/count))\n",
    "print('1 in inst: {}'.format(curr_id_installment_1.__len__()/count))"
   ]
  },
  {
   "cell_type": "code",
   "execution_count": null,
   "metadata": {
    "collapsed": true
   },
   "outputs": [],
   "source": []
  },
  {
   "cell_type": "code",
   "execution_count": 3,
   "metadata": {
    "ExecuteTime": {
     "end_time": "2018-06-21T20:50:38.213325Z",
     "start_time": "2018-06-21T20:50:25.455831Z"
    },
    "collapsed": true
   },
   "outputs": [],
   "source": [
    "curr_id_pos_cash = set(POS_CASH_balance['SK_ID_CURR'].values)\n",
    "curr_id_credit_card_balance = set(credit_card_balance['SK_ID_CURR'].values)\n",
    "\n",
    "curr_id_0 = set(df[df['TARGET'] == 0]['SK_ID_CURR'].values)\n",
    "curr_id_1 = set(df[df['TARGET'] == 1]['SK_ID_CURR'].values)\n",
    "\n",
    "curr_id_pos_cash_0 = curr_id_pos_cash & curr_id_0\n",
    "curr_id_pos_cash_1 = curr_id_pos_cash & curr_id_1\n",
    "\n",
    "curr_id_credit_card_balance_0 = curr_id_credit_card_balance & curr_id_0\n",
    "curr_id_credit_card_balance_1 = curr_id_credit_card_balance & curr_id_1"
   ]
  },
  {
   "cell_type": "code",
   "execution_count": 4,
   "metadata": {
    "ExecuteTime": {
     "end_time": "2018-06-21T20:51:33.961617Z",
     "start_time": "2018-06-21T20:51:33.949412Z"
    },
    "collapsed": true
   },
   "outputs": [],
   "source": [
    "count_pos = curr_id_pos_cash_0.__len__() + curr_id_pos_cash_1.__len__()\n",
    "count_credit = curr_id_credit_card_balance_0.__len__() + curr_id_credit_card_balance_1.__len__()"
   ]
  },
  {
   "cell_type": "code",
   "execution_count": 5,
   "metadata": {
    "ExecuteTime": {
     "end_time": "2018-06-21T20:52:33.535636Z",
     "start_time": "2018-06-21T20:52:33.526848Z"
    }
   },
   "outputs": [
    {
     "name": "stdout",
     "output_type": "stream",
     "text": [
      "0 in pos: 0.918391813269579\n",
      "1 in pos: 0.08160818673042108\n"
     ]
    }
   ],
   "source": [
    "print('0 in pos: {}'.format(curr_id_pos_cash_0.__len__()/count_pos))\n",
    "print('1 in pos: {}'.format(curr_id_pos_cash_1.__len__()/count_pos))"
   ]
  },
  {
   "cell_type": "code",
   "execution_count": 7,
   "metadata": {
    "ExecuteTime": {
     "end_time": "2018-06-21T20:53:45.352071Z",
     "start_time": "2018-06-21T20:53:45.346594Z"
    }
   },
   "outputs": [
    {
     "name": "stdout",
     "output_type": "stream",
     "text": [
      "0 in credit: 0.9133076347736033\n",
      "1 in credit: 0.08669236522639664\n"
     ]
    }
   ],
   "source": [
    "print('0 in credit: {}'.format(curr_id_credit_card_balance_0.__len__()/count_credit))\n",
    "print('1 in credit: {}'.format(curr_id_credit_card_balance_1.__len__()/count_credit))"
   ]
  },
  {
   "cell_type": "code",
   "execution_count": null,
   "metadata": {
    "collapsed": true
   },
   "outputs": [],
   "source": []
  },
  {
   "cell_type": "code",
   "execution_count": null,
   "metadata": {
    "collapsed": true
   },
   "outputs": [],
   "source": []
  },
  {
   "cell_type": "code",
   "execution_count": null,
   "metadata": {
    "collapsed": true
   },
   "outputs": [],
   "source": []
  },
  {
   "cell_type": "code",
   "execution_count": null,
   "metadata": {
    "collapsed": true
   },
   "outputs": [],
   "source": []
  },
  {
   "cell_type": "code",
   "execution_count": null,
   "metadata": {
    "collapsed": true
   },
   "outputs": [],
   "source": []
  },
  {
   "cell_type": "code",
   "execution_count": 2,
   "metadata": {
    "ExecuteTime": {
     "end_time": "2018-06-25T15:38:26.957933Z",
     "start_time": "2018-06-25T15:38:26.539525Z"
    }
   },
   "outputs": [],
   "source": []
  },
  {
   "cell_type": "code",
   "execution_count": 15,
   "metadata": {
    "ExecuteTime": {
     "end_time": "2018-06-25T19:07:20.565919Z",
     "start_time": "2018-06-25T19:07:20.110622Z"
    }
   },
   "outputs": [
    {
     "data": {
      "image/png": "[encoded data removed]",
      "text/plain": [
       "<matplotlib.figure.Figure at 0x7f2ace37d320>"
      ]
     },
     "metadata": {},
     "output_type": "display_data"
    },
    {
     "data": {
      "text/plain": [
       "0.0006106274698514079"
      ]
     },
     "execution_count": 15,
     "metadata": {},
     "output_type": "execute_result"
    }
   ],
   "source": [
    "\n",
    "\n",
    "temp = replace_outliers_by_percentile(credit_card_balance, 'AMT_BALANCE', 99, True)\n",
    "\n",
    "temp[temp['AMT_BALANCE_percentile_replaced'].values < 0] = 0\n",
    "\n",
    "temp = temp[temp['AMT_BALANCE_percentile_replaced'].values > 0] \n",
    "# Plot the distribution of ages in years\n",
    "plt.hist(temp['AMT_BALANCE_percentile_replaced'], edgecolor = 'k', bins = 30)\n",
    "plt.title('AMT_BALANCE'); plt.xlabel('AMT'); plt.ylabel('Count');\n",
    "\n",
    "plt.show()\n",
    "\n",
    "credit_card_balance[credit_card_balance['AMT_BALANCE'].values < 0].shape[0]/credit_card_balance.shape[0]"
   ]
  },
  {
   "cell_type": "code",
   "execution_count": 24,
   "metadata": {
    "ExecuteTime": {
     "end_time": "2018-06-25T19:13:21.085371Z",
     "start_time": "2018-06-25T19:13:20.622622Z"
    }
   },
   "outputs": [
    {
     "data": {
      "image/png": "[encoded data removed]",
      "text/plain": [
       "<matplotlib.figure.Figure at 0x7f2ace14e400>"
      ]
     },
     "metadata": {},
     "output_type": "display_data"
    }
   ],
   "source": [
    "# temp = credit_card_balance[credit_card_balance['AMT_CREDIT_LIMIT_ACTUAL'].values >= 0]\n",
    "# temp = temp[temp['AMT_CREDIT_LIMIT_ACTUAL'].values > 900000]\n",
    "\n",
    "temp = replace_outliers_by_percentile(credit_card_balance, 'AMT_CREDIT_LIMIT_ACTUAL', 99)\n",
    "\n",
    "\n",
    "plt.hist(temp['AMT_CREDIT_LIMIT_ACTUAL_percentile_replaced'], edgecolor = 'k', bins = 30)\n",
    "plt.title('AMT_CREDIT_LIMIT_ACTUAL'); plt.xlabel('AMT'); plt.ylabel('Count');\n",
    "plt.show()"
   ]
  },
  {
   "cell_type": "code",
   "execution_count": 30,
   "metadata": {
    "ExecuteTime": {
     "end_time": "2018-06-25T19:15:45.101896Z",
     "start_time": "2018-06-25T19:15:44.647049Z"
    }
   },
   "outputs": [
    {
     "data": {
      "image/png": "[encoded data removed]",
      "text/plain": [
       "<matplotlib.figure.Figure at 0x7f2ac8b18a58>"
      ]
     },
     "metadata": {},
     "output_type": "display_data"
    }
   ],
   "source": [
    "temp = credit_card_balance.copy()\n",
    "temp['AMT_DRAWINGS_ATM_CURRENT'] = temp['AMT_DRAWINGS_ATM_CURRENT'].fillna(-999)\n",
    "temp = temp[temp['AMT_DRAWINGS_ATM_CURRENT'].values > 0]\n",
    "# temp = temp[temp['AMT_DRAWINGS_ATM_CURRENT'].values < 300000]\n",
    "temp = replace_outliers_by_percentile(temp, 'AMT_DRAWINGS_ATM_CURRENT', 99)\n",
    "\n",
    "plt.hist(temp['AMT_DRAWINGS_ATM_CURRENT_percentile_replaced'], edgecolor = 'k', bins = 30)\n",
    "plt.title('AMT_DRAWINGS_ATM_CURRENT'); plt.xlabel('AMT'); plt.ylabel('Count');\n",
    "plt.show()"
   ]
  },
  {
   "cell_type": "code",
   "execution_count": 39,
   "metadata": {
    "ExecuteTime": {
     "end_time": "2018-06-25T19:21:40.190782Z",
     "start_time": "2018-06-25T19:21:39.702040Z"
    }
   },
   "outputs": [
    {
     "data": {
      "image/png": "[encoded data removed]",
      "text/plain": [
       "<matplotlib.figure.Figure at 0x7f2ac8a8ccf8>"
      ]
     },
     "metadata": {},
     "output_type": "display_data"
    }
   ],
   "source": [
    "temp = credit_card_balance.copy()\n",
    "temp['AMT_DRAWINGS_CURRENT'] = temp['AMT_DRAWINGS_CURRENT'].fillna(-999)\n",
    "temp = temp[temp['AMT_DRAWINGS_CURRENT'].values > 0]\n",
    "# temp = temp[temp['AMT_DRAWINGS_CURRENT'].values < 200000]\n",
    "temp = replace_outliers_by_percentile(temp, 'AMT_DRAWINGS_CURRENT', 99)\n",
    "\n",
    "\n",
    "plt.hist(temp['AMT_DRAWINGS_CURRENT_percentile_replaced'], edgecolor = 'k', bins = 30)\n",
    "plt.title('AMT_DRAWINGS_CURRENT'); plt.xlabel('AMT'); plt.ylabel('Count');\n",
    "plt.show()"
   ]
  },
  {
   "cell_type": "code",
   "execution_count": 43,
   "metadata": {
    "ExecuteTime": {
     "end_time": "2018-06-25T19:24:12.298062Z",
     "start_time": "2018-06-25T19:24:11.915465Z"
    }
   },
   "outputs": [
    {
     "data": {
      "image/png": "[encoded data removed]",
      "text/plain": [
       "<matplotlib.figure.Figure at 0x7f2b1b396ef0>"
      ]
     },
     "metadata": {},
     "output_type": "display_data"
    }
   ],
   "source": [
    "temp = credit_card_balance.copy()\n",
    "temp['AMT_DRAWINGS_OTHER_CURRENT'] = temp['AMT_DRAWINGS_OTHER_CURRENT'].fillna(-999)\n",
    "temp = temp[temp['AMT_DRAWINGS_OTHER_CURRENT'].values > 0]\n",
    "# temp = temp[temp['AMT_DRAWINGS_OTHER_CURRENT'].values < 200000]\n",
    "\n",
    "temp = replace_outliers_by_percentile(temp, 'AMT_DRAWINGS_OTHER_CURRENT', 99)\n",
    "\n",
    "plt.hist(temp['AMT_DRAWINGS_OTHER_CURRENT_percentile_replaced'], edgecolor = 'k', bins = 30)\n",
    "plt.title('AMT_DRAWINGS_OTHER_CURRENT'); plt.xlabel('AMT'); plt.ylabel('Count');\n",
    "plt.show()"
   ]
  },
  {
   "cell_type": "code",
   "execution_count": 47,
   "metadata": {
    "ExecuteTime": {
     "end_time": "2018-06-25T19:25:57.082487Z",
     "start_time": "2018-06-25T19:25:55.718224Z"
    }
   },
   "outputs": [
    {
     "data": {
      "image/png": "[encoded data removed]",
      "text/plain": [
       "<matplotlib.figure.Figure at 0x7f2ace25afd0>"
      ]
     },
     "metadata": {},
     "output_type": "display_data"
    }
   ],
   "source": [
    "temp = credit_card_balance.copy()\n",
    "temp['AMT_DRAWINGS_POS_CURRENT'] = temp['AMT_DRAWINGS_POS_CURRENT'].fillna(-999)\n",
    "temp = temp[temp['AMT_DRAWINGS_POS_CURRENT'].values > 0]\n",
    "# temp = temp[temp['AMT_DRAWINGS_POS_CURRENT'].values < 150000]\n",
    "\n",
    "temp = replace_outliers_by_percentile(temp, 'AMT_DRAWINGS_POS_CURRENT', 99)\n",
    "\n",
    "\n",
    "plt.hist(temp['AMT_DRAWINGS_POS_CURRENT_percentile_replaced'], edgecolor = 'k', bins = 30)\n",
    "plt.title('AMT_DRAWINGS_POS_CURRENT'); plt.xlabel('AMT'); plt.ylabel('Count');\n",
    "plt.show()"
   ]
  },
  {
   "cell_type": "code",
   "execution_count": 31,
   "metadata": {
    "ExecuteTime": {
     "end_time": "2018-06-25T19:16:52.824571Z",
     "start_time": "2018-06-25T19:16:50.724047Z"
    }
   },
   "outputs": [
    {
     "data": {
      "image/png": "[encoded data removed]",
      "text/plain": [
       "<matplotlib.figure.Figure at 0x7f2ac8bf4198>"
      ]
     },
     "metadata": {},
     "output_type": "display_data"
    },
    {
     "data": {
      "text/plain": [
       "0"
      ]
     },
     "execution_count": 31,
     "metadata": {},
     "output_type": "execute_result"
    }
   ],
   "source": [
    "temp = credit_card_balance.copy()\n",
    "temp['AMT_DRAWINGS_POS_CURRENT'] = temp['AMT_DRAWINGS_POS_CURRENT'].fillna(-999)\n",
    "temp = temp[temp['AMT_DRAWINGS_POS_CURRENT'].values >= 0]\n",
    "temp['AMT_DRAWINGS_OTHER_CURRENT'] = temp['AMT_DRAWINGS_OTHER_CURRENT'].fillna(-999)\n",
    "temp = temp[temp['AMT_DRAWINGS_OTHER_CURRENT'].values >= 0]\n",
    "temp['AMT_DRAWINGS_ATM_CURRENT'] = temp['AMT_DRAWINGS_ATM_CURRENT'].fillna(-999)\n",
    "temp = temp[temp['AMT_DRAWINGS_ATM_CURRENT'].values >= 0]\n",
    "temp['AMT_DRAWINGS_CURRENT'] = temp['AMT_DRAWINGS_CURRENT'].fillna(-999)\n",
    "temp = temp[temp['AMT_DRAWINGS_CURRENT'].values >= 0]\n",
    "temp = temp[temp['AMT_BALANCE'].values >= 0]\n",
    "\n",
    "temp2 = (temp['AMT_DRAWINGS_CURRENT']-(temp['AMT_DRAWINGS_ATM_CURRENT']+temp['AMT_DRAWINGS_OTHER_CURRENT']+temp['AMT_DRAWINGS_POS_CURRENT']))\n",
    "\n",
    "plt.hist(temp2, edgecolor = 'k', bins = 30)\n",
    "plt.title('AMT_DRAW_SUM'); plt.xlabel('AMT'); plt.ylabel('Count');\n",
    "plt.show()"
   ]
  },
  {
   "cell_type": "code",
   "execution_count": 7,
   "metadata": {
    "ExecuteTime": {
     "end_time": "2018-06-21T15:15:17.506240Z",
     "start_time": "2018-06-21T15:15:17.062631Z"
    }
   },
   "outputs": [
    {
     "data": {
      "text/plain": [
       "(39632, 673065)"
      ]
     },
     "execution_count": 7,
     "metadata": {},
     "output_type": "execute_result"
    }
   ],
   "source": [
    "temp = previous_application.copy()\n",
    "\n",
    "temp2 = temp[temp['NAME_CONTRACT_STATUS'].values == 'Approved']\n",
    "\n",
    "temp2['DAYS_TERMINATION'].isnull().sum(), previous_application['DAYS_TERMINATION'].isnull().sum()"
   ]
  },
  {
   "cell_type": "code",
   "execution_count": 6,
   "metadata": {
    "ExecuteTime": {
     "end_time": "2018-06-21T15:14:54.123129Z",
     "start_time": "2018-06-21T15:14:53.735337Z"
    }
   },
   "outputs": [
    {
     "data": {
      "text/plain": [
       "673065"
      ]
     },
     "execution_count": 6,
     "metadata": {},
     "output_type": "execute_result"
    }
   ],
   "source": [
    "temp = previous_application.copy()\n",
    "\n",
    "temp2 = temp[temp['NAME_CONTRACT_STATUS'].values == 'Approved']\n",
    "\n",
    "previous_application['NFLAG_INSURED_ON_APPROVAL'].isnull().sum()"
   ]
  },
  {
   "cell_type": "code",
   "execution_count": null,
   "metadata": {},
   "outputs": [],
   "source": []
  },
  {
   "cell_type": "code",
   "execution_count": 34,
   "metadata": {
    "ExecuteTime": {
     "end_time": "2018-06-25T14:43:58.697710Z",
     "start_time": "2018-06-25T14:43:57.002118Z"
    }
   },
   "outputs": [
    {
     "data": {
      "image/png": "[encoded data removed]",
      "text/plain": [
       "<matplotlib.figure.Figure at 0x7f79990e7d68>"
      ]
     },
     "metadata": {},
     "output_type": "display_data"
    },
    {
     "data": {
      "text/plain": [
       "237456      2544233.895\n",
       "803013      2784334.140\n",
       "860189      3473582.895\n",
       "999372      2584615.410\n",
       "1515439     2507880.825\n",
       "1546640     3065242.455\n",
       "1649354     2912741.640\n",
       "1745443     2541938.265\n",
       "1854253     2620989.180\n",
       "2190732     3071320.785\n",
       "3032341     2733612.840\n",
       "3366817     3371884.155\n",
       "3493730     3071837.565\n",
       "3595373     2949993.540\n",
       "3699714     2786580.270\n",
       "4455742     3771487.845\n",
       "5109573     2742996.375\n",
       "5221576     2898692.370\n",
       "5248466     3066270.705\n",
       "5336871     2558800.530\n",
       "5426815     2874948.840\n",
       "6364485     3150949.545\n",
       "6554802     2533614.615\n",
       "6658683     2627296.110\n",
       "6986907     3436835.130\n",
       "7078715     3110086.215\n",
       "7214927     2630908.935\n",
       "7312218     3199045.365\n",
       "8207133     3116440.260\n",
       "9119046     3202061.805\n",
       "9355285     3094108.245\n",
       "10331676    2744389.980\n",
       "11311573    2554855.245\n",
       "11673104    2798275.680\n",
       "12730671    2860377.165\n",
       "12966495    2639214.450\n",
       "13130397    2504589.660\n",
       "13447389    2651198.130\n",
       "Name: AMT_INSTALMENT, dtype: float64"
      ]
     },
     "execution_count": 34,
     "metadata": {},
     "output_type": "execute_result"
    }
   ],
   "source": [
    "temp = installments_payments.copy()\n",
    "\n",
    "temp = temp[temp['AMT_INSTALMENT'].values > 2500000]\n",
    "\n",
    "\n",
    "plt.hist(temp['AMT_INSTALMENT'], edgecolor = 'k', bins = 30)\n",
    "plt.title('AMT_INSTALMENT'); plt.xlabel('AMT'); plt.ylabel('Count');\n",
    "plt.show()\n",
    "installments_payments[installments_payments['AMT_INSTALMENT'].values > 2500000]['AMT_INSTALMENT']"
   ]
  },
  {
   "cell_type": "code",
   "execution_count": 25,
   "metadata": {
    "ExecuteTime": {
     "end_time": "2018-06-25T16:04:21.481008Z",
     "start_time": "2018-06-25T16:04:21.061869Z"
    }
   },
   "outputs": [
    {
     "name": "stderr",
     "output_type": "stream",
     "text": [
      "/home/kai/anaconda3/envs/tf_newer/lib/python3.6/site-packages/ipykernel_launcher.py:2: RuntimeWarning: invalid value encountered in greater\n",
      "  \n"
     ]
    }
   ],
   "source": [
    "inst_id = set(installments_payments[installments_payments['AMT_INSTALMENT'].values > np.nanpercentile(installments_payments['AMT_INSTALMENT'].values, 99)]['SK_ID_CURR'].values)\n",
    "pay_id = set(installments_payments[installments_payments['AMT_PAYMENT'].values > np.nanpercentile(installments_payments['AMT_PAYMENT'].values, 99)]['SK_ID_CURR'].values)\n",
    "res = inst_id & pay_id"
   ]
  },
  {
   "cell_type": "code",
   "execution_count": 26,
   "metadata": {
    "ExecuteTime": {
     "end_time": "2018-06-25T16:04:27.601769Z",
     "start_time": "2018-06-25T16:04:27.598926Z"
    }
   },
   "outputs": [
    {
     "data": {
      "text/plain": [
       "(79633, 70885, 70667)"
      ]
     },
     "execution_count": 26,
     "metadata": {},
     "output_type": "execute_result"
    }
   ],
   "source": [
    "inst_id.__len__(), pay_id.__len__(), res.__len__()"
   ]
  },
  {
   "cell_type": "code",
   "execution_count": 23,
   "metadata": {
    "ExecuteTime": {
     "end_time": "2018-06-25T15:55:31.303912Z",
     "start_time": "2018-06-25T15:55:31.297545Z"
    }
   },
   "outputs": [],
   "source": []
  },
  {
   "cell_type": "code",
   "execution_count": 15,
   "metadata": {
    "ExecuteTime": {
     "end_time": "2018-06-25T15:42:57.940122Z",
     "start_time": "2018-06-25T15:42:57.469432Z"
    }
   },
   "outputs": [
    {
     "data": {
      "text/plain": [
       "6804"
      ]
     },
     "execution_count": 15,
     "metadata": {},
     "output_type": "execute_result"
    }
   ],
   "source": []
  },
  {
   "cell_type": "code",
   "execution_count": 24,
   "metadata": {
    "ExecuteTime": {
     "end_time": "2018-06-25T15:55:42.130776Z",
     "start_time": "2018-06-25T15:55:39.664467Z"
    }
   },
   "outputs": [
    {
     "data": {
      "image/png": "[encoded data removed]",
      "text/plain": [
       "<matplotlib.figure.Figure at 0x7f1b09ae0710>"
      ]
     },
     "metadata": {},
     "output_type": "display_data"
    }
   ],
   "source": [
    "temp = installments_payments.copy()\n",
    "\n",
    "'''temp = temp[temp['AMT_INSTALMENT'].values > 2500000]'''\n",
    "\n",
    "temp2 = replace_outliers_by_percentile(installments_payments, 'AMT_INSTALMENT')\n",
    "\n",
    "plt.hist(temp2['AMT_INSTALMENT_percentile_replaced'] , edgecolor = 'k', bins = 30)\n",
    "plt.title('AMT_INSTALMENT'); plt.xlabel('AMT'); plt.ylabel('Count');\n",
    "plt.show()"
   ]
  },
  {
   "cell_type": "code",
   "execution_count": 27,
   "metadata": {
    "ExecuteTime": {
     "end_time": "2018-06-21T15:29:04.423286Z",
     "start_time": "2018-06-21T15:29:02.449099Z"
    }
   },
   "outputs": [
    {
     "data": {
      "image/png": "[encoded data removed]",
      "text/plain": [
       "<matplotlib.figure.Figure at 0x7fec1d516f60>"
      ]
     },
     "metadata": {},
     "output_type": "display_data"
    }
   ],
   "source": [
    "temp = installments_payments.copy()\n",
    "\n",
    "temp = temp[temp['NUM_INSTALMENT_VERSION'].values < 25]\n",
    "\n",
    "plt.hist(temp['NUM_INSTALMENT_VERSION'], edgecolor = 'k', bins = 20)\n",
    "plt.title('NUM_INSTALMENT_VERSION'); plt.xlabel('VER'); plt.ylabel('Count');\n",
    "plt.show()"
   ]
  },
  {
   "cell_type": "code",
   "execution_count": 28,
   "metadata": {
    "ExecuteTime": {
     "end_time": "2018-06-21T15:30:12.765665Z",
     "start_time": "2018-06-21T15:30:11.404040Z"
    }
   },
   "outputs": [
    {
     "data": {
      "image/png": "[encoded data removed]",
      "text/plain": [
       "<matplotlib.figure.Figure at 0x7fec1c17e400>"
      ]
     },
     "metadata": {},
     "output_type": "display_data"
    }
   ],
   "source": [
    "temp = installments_payments.copy()\n",
    "\n",
    "\n",
    "\n",
    "plt.hist(temp['DAYS_INSTALMENT'], edgecolor = 'k', bins = 20)\n",
    "plt.title('DAYS_INSTALMENT'); plt.xlabel('DAYS'); plt.ylabel('Count');\n",
    "plt.show()"
   ]
  },
  {
   "cell_type": "code",
   "execution_count": 71,
   "metadata": {
    "ExecuteTime": {
     "end_time": "2018-06-21T16:13:37.618988Z",
     "start_time": "2018-06-21T16:13:36.698776Z"
    }
   },
   "outputs": [
    {
     "data": {
      "image/png": "[encoded data removed]",
      "text/plain": [
       "<matplotlib.figure.Figure at 0x7fec3a6e5860>"
      ]
     },
     "metadata": {},
     "output_type": "display_data"
    }
   ],
   "source": [
    "temp = installments_payments.copy()\n",
    "\n",
    "'''temp = temp[temp['NUM_INSTALMENT_NUMBER'].values < 200]'''\n",
    "\n",
    "\n",
    "plt.hist(temp['NUM_INSTALMENT_NUMBER'], edgecolor = 'k', bins = 20)\n",
    "plt.title('NUM_INSTALMENT_NUMBER'); plt.xlabel('NUM'); plt.ylabel('Count');\n",
    "plt.show()"
   ]
  },
  {
   "cell_type": "code",
   "execution_count": 31,
   "metadata": {
    "ExecuteTime": {
     "end_time": "2018-06-25T16:31:27.119134Z",
     "start_time": "2018-06-25T16:31:25.346026Z"
    }
   },
   "outputs": [
    {
     "data": {
      "image/png": "[encoded data removed]",
      "text/plain": [
       "<matplotlib.figure.Figure at 0x7f1ba8150828>"
      ]
     },
     "metadata": {},
     "output_type": "display_data"
    },
    {
     "data": {
      "text/plain": [
       "(6.836980507106931e-06, -3000.0)"
      ]
     },
     "execution_count": 31,
     "metadata": {},
     "output_type": "execute_result"
    }
   ],
   "source": [
    "temp = installments_payments.copy()\n",
    "\n",
    "temp = temp['DAYS_ENTRY_PAYMENT'].fillna(999)\n",
    "'''temp = temp[temp.values > -4000]'''\n",
    "temp = temp[temp.values <= 0]\n",
    "\n",
    "\n",
    "plt.hist(temp, edgecolor = 'k', bins = 20)\n",
    "plt.title('DAYS_ENTRY_PAYMENT'); plt.xlabel('NUM'); plt.ylabel('Count');\n",
    "plt.show()\n",
    "\n",
    "temp[temp.values < -3000].shape[0]/temp.shape[0], temp[temp.values >= -3000].min()"
   ]
  },
  {
   "cell_type": "code",
   "execution_count": 36,
   "metadata": {
    "ExecuteTime": {
     "end_time": "2018-06-25T14:46:18.930851Z",
     "start_time": "2018-06-25T14:46:16.109163Z"
    }
   },
   "outputs": [
    {
     "data": {
      "image/png": "[encoded data removed]",
      "text/plain": [
       "<matplotlib.figure.Figure at 0x7f799a0e3fd0>"
      ]
     },
     "metadata": {},
     "output_type": "display_data"
    },
    {
     "name": "stderr",
     "output_type": "stream",
     "text": [
      "/home/kai/anaconda3/envs/tf_newer/lib/python3.6/site-packages/ipykernel_launcher.py:11: RuntimeWarning: invalid value encountered in greater\n",
      "  # This is added back by InteractiveShellApp.init_path()\n"
     ]
    },
    {
     "data": {
      "text/plain": [
       "237456      2544233.895\n",
       "803013      2784334.140\n",
       "860189      3473582.895\n",
       "999372      2584615.410\n",
       "1515439     2507880.825\n",
       "1546640     3065242.455\n",
       "1649354     2912741.640\n",
       "1745443     2541938.265\n",
       "1854253     2620989.180\n",
       "2190732     3071320.785\n",
       "3032341     2733612.840\n",
       "3366817     3371884.155\n",
       "3493730     3071837.565\n",
       "3595373     2949993.540\n",
       "3699714     2786580.270\n",
       "4455742     3771487.845\n",
       "5109573     2742996.375\n",
       "5221576     2898692.370\n",
       "5248466     3066270.705\n",
       "5336871     2558800.530\n",
       "5426815     2874948.840\n",
       "6364485     3150949.545\n",
       "6554802     2533614.615\n",
       "6658683     2627296.110\n",
       "6986907     3436835.130\n",
       "7078715     3110086.215\n",
       "7214927     2753704.935\n",
       "7214928     2753704.935\n",
       "7312218     3199045.365\n",
       "8207133     3116440.260\n",
       "9119046     3202061.805\n",
       "9355285     3094108.245\n",
       "10331676    2744389.980\n",
       "11311573    2554855.245\n",
       "11673104    2798275.680\n",
       "12730671    2860377.165\n",
       "12966495    2639214.450\n",
       "13130397    2504589.660\n",
       "13447389    2651198.130\n",
       "Name: AMT_PAYMENT, dtype: float64"
      ]
     },
     "execution_count": 36,
     "metadata": {},
     "output_type": "execute_result"
    }
   ],
   "source": [
    "temp = installments_payments.copy()\n",
    "\n",
    "temp = temp['AMT_PAYMENT'].fillna(-999)\n",
    "\n",
    "temp = temp[temp.values >= 0]\n",
    "\n",
    "plt.hist(temp, edgecolor = 'k', bins = 20)\n",
    "plt.title('AMT_PAYMENT'); plt.xlabel('AMT'); plt.ylabel('Count');\n",
    "plt.show()\n",
    "\n",
    "installments_payments[installments_payments['AMT_PAYMENT'].values > 2500000]['AMT_PAYMENT']"
   ]
  },
  {
   "cell_type": "code",
   "execution_count": 64,
   "metadata": {
    "ExecuteTime": {
     "end_time": "2018-06-21T15:56:14.441550Z",
     "start_time": "2018-06-21T15:55:06.875468Z"
    }
   },
   "outputs": [
    {
     "data": {
      "image/png": "[encoded data removed]",
      "text/plain": [
       "<matplotlib.figure.Figure at 0x7fec1fd8d198>"
      ]
     },
     "metadata": {},
     "output_type": "display_data"
    }
   ],
   "source": [
    "temp = installments_payments.copy()\n",
    "\n",
    "plt.scatter(temp['AMT_PAYMENT'].fillna(-999).values, temp['AMT_INSTALMENT'].values)\n",
    "plt.xlabel('AMT_PAYMENT', fontsize=12)\n",
    "plt.ylabel('AMT_INSTALMENT', fontsize=12)\n",
    "plt.show()"
   ]
  },
  {
   "cell_type": "code",
   "execution_count": 67,
   "metadata": {
    "ExecuteTime": {
     "end_time": "2018-06-21T16:04:06.626662Z",
     "start_time": "2018-06-21T16:02:59.039774Z"
    }
   },
   "outputs": [
    {
     "data": {
      "image/png": "[encoded data removed]",
      "text/plain": [
       "<matplotlib.figure.Figure at 0x7fec3a31dfd0>"
      ]
     },
     "metadata": {},
     "output_type": "display_data"
    }
   ],
   "source": [
    "temp = installments_payments.copy()\n",
    "\n",
    "plt.scatter(temp['DAYS_ENTRY_PAYMENT'].fillna(-999).values, temp['DAYS_INSTALMENT'].values)\n",
    "\n",
    "plt.xlabel('DAYS_ENTRY_PAYMENT', fontsize=12)\n",
    "plt.ylabel('DAYS_INSTALMENT', fontsize=12)\n",
    "\n",
    "plt.show()"
   ]
  },
  {
   "cell_type": "code",
   "execution_count": 68,
   "metadata": {
    "ExecuteTime": {
     "end_time": "2018-06-21T16:05:16.950170Z",
     "start_time": "2018-06-21T16:04:09.335323Z"
    }
   },
   "outputs": [
    {
     "data": {
      "image/png": "[encoded data removed]",
      "text/plain": [
       "<matplotlib.figure.Figure at 0x7fec1c598240>"
      ]
     },
     "metadata": {},
     "output_type": "display_data"
    }
   ],
   "source": [
    "temp = installments_payments.copy()\n",
    "\n",
    "plt.scatter(temp['DAYS_ENTRY_PAYMENT'].fillna(-999).values, temp['AMT_PAYMENT'].fillna(-999).values)\n",
    "plt.xlabel('DAYS_ENTRY_PAYMENT', fontsize=12)\n",
    "plt.ylabel('AMT_PAYMENT', fontsize=12)\n",
    "plt.show()"
   ]
  },
  {
   "cell_type": "code",
   "execution_count": 69,
   "metadata": {
    "ExecuteTime": {
     "end_time": "2018-06-21T16:06:27.120886Z",
     "start_time": "2018-06-21T16:05:19.789979Z"
    }
   },
   "outputs": [
    {
     "data": {
      "image/png": "[encoded data removed]",
      "text/plain": [
       "<matplotlib.figure.Figure at 0x7fec22baf390>"
      ]
     },
     "metadata": {},
     "output_type": "display_data"
    }
   ],
   "source": [
    "temp = installments_payments.copy()\n",
    "\n",
    "plt.scatter(temp['DAYS_INSTALMENT'].values, temp['AMT_INSTALMENT'].values)\n",
    "plt.xlabel('DAYS_INSTALMENT', fontsize=12)\n",
    "plt.ylabel('AMT_INSTALMENT', fontsize=12)\n",
    "plt.show()"
   ]
  },
  {
   "cell_type": "code",
   "execution_count": 42,
   "metadata": {
    "ExecuteTime": {
     "end_time": "2018-06-21T18:02:59.045620Z",
     "start_time": "2018-06-21T18:01:51.970752Z"
    }
   },
   "outputs": [
    {
     "data": {
      "image/png": "[encoded data removed]",
      "text/plain": [
       "<matplotlib.figure.Figure at 0x7efb503200f0>"
      ]
     },
     "metadata": {},
     "output_type": "display_data"
    },
    {
     "data": {
      "text/plain": [
       "(               0\n",
       " 11943247  3189.0,                     0\n",
       " 396593    1804496.850\n",
       " 3542381   2424726.405\n",
       " 3794755   1010375.190\n",
       " 3794805   1006469.235\n",
       " 5992605   1081089.900\n",
       " 11489447  1115650.845)"
      ]
     },
     "execution_count": 42,
     "metadata": {},
     "output_type": "execute_result"
    }
   ],
   "source": [
    "temp = installments_payments.copy()\n",
    "\n",
    "X = pd.DataFrame(temp['DAYS_INSTALMENT'].values - temp['DAYS_ENTRY_PAYMENT'].fillna(-999).values)\n",
    "Y = pd.DataFrame(temp['AMT_INSTALMENT'].values - temp['AMT_PAYMENT'].fillna(-999).values)\n",
    "\n",
    "plt.scatter(X, Y)\n",
    "plt.xlabel('DAYS_DIFF', fontsize=12)\n",
    "plt.ylabel('AMT_DIFF', fontsize=12)\n",
    "plt.show()\n",
    "\n",
    "X[X.values >2000], Y[Y.values >1000000]"
   ]
  },
  {
   "cell_type": "code",
   "execution_count": 5,
   "metadata": {
    "ExecuteTime": {
     "end_time": "2018-06-21T17:46:21.176947Z",
     "start_time": "2018-06-21T17:46:20.909784Z"
    }
   },
   "outputs": [
    {
     "data": {
      "image/png": "[encoded data removed]",
      "text/plain": [
       "<matplotlib.figure.Figure at 0x7efb6e11dfd0>"
      ]
     },
     "metadata": {},
     "output_type": "display_data"
    }
   ],
   "source": [
    "temp = bureau.copy()\n",
    "\n",
    "plt.hist(temp['DAYS_CREDIT'], edgecolor = 'k', bins = 20)\n",
    "plt.title('DAYS_CREDIT'); plt.xlabel('DAYS'); plt.ylabel('Count');\n",
    "plt.show()"
   ]
  },
  {
   "cell_type": "code",
   "execution_count": 23,
   "metadata": {
    "ExecuteTime": {
     "end_time": "2018-06-21T17:51:57.655223Z",
     "start_time": "2018-06-21T17:51:57.308759Z"
    }
   },
   "outputs": [
    {
     "data": {
      "image/png": "[encoded data removed]",
      "text/plain": [
       "<matplotlib.figure.Figure at 0x7efb6be10ac8>"
      ]
     },
     "metadata": {},
     "output_type": "display_data"
    },
    {
     "data": {
      "text/plain": [
       "(1716428, 1712211)"
      ]
     },
     "execution_count": 23,
     "metadata": {},
     "output_type": "execute_result"
    }
   ],
   "source": [
    "temp = bureau.copy() \n",
    "\n",
    "temp = temp[temp['CREDIT_DAY_OVERDUE'].values > 0]\n",
    "\n",
    "plt.hist(temp['CREDIT_DAY_OVERDUE'], edgecolor = 'k', bins = 20)\n",
    "plt.title('CREDIT_DAY_OVERDUE'); plt.xlabel('DAYS'); plt.ylabel('Count');\n",
    "plt.show()\n",
    "\n",
    "bureau.shape[0], bureau[bureau['CREDIT_DAY_OVERDUE'].values == 0]['CREDIT_DAY_OVERDUE'].count()"
   ]
  },
  {
   "cell_type": "code",
   "execution_count": 25,
   "metadata": {
    "ExecuteTime": {
     "end_time": "2018-06-21T17:54:26.539203Z",
     "start_time": "2018-06-21T17:54:26.343644Z"
    }
   },
   "outputs": [
    {
     "data": {
      "image/png": "[encoded data removed]",
      "text/plain": [
       "<matplotlib.figure.Figure at 0x7efb6bdbb940>"
      ]
     },
     "metadata": {},
     "output_type": "display_data"
    }
   ],
   "source": [
    "temp = bureau.copy() \n",
    "\n",
    "temp = pd.DataFrame(temp['DAYS_CREDIT_ENDDATE'].fillna(-999))\n",
    "temp = temp[temp['DAYS_CREDIT_ENDDATE'].values > 0]\n",
    "\n",
    "plt.hist(temp['DAYS_CREDIT_ENDDATE'], edgecolor = 'k', bins = 20)\n",
    "plt.title('DAYS_CREDIT_ENDDATE'); plt.xlabel('DAYS'); plt.ylabel('Count');\n",
    "plt.show()"
   ]
  },
  {
   "cell_type": "code",
   "execution_count": 8,
   "metadata": {
    "ExecuteTime": {
     "end_time": "2018-06-25T16:44:54.213389Z",
     "start_time": "2018-06-25T16:44:53.870340Z"
    }
   },
   "outputs": [
    {
     "data": {
      "image/png": "[encoded data removed]",
      "text/plain": [
       "<matplotlib.figure.Figure at 0x7fa2832f0630>"
      ]
     },
     "metadata": {},
     "output_type": "display_data"
    },
    {
     "data": {
      "text/html": [
       "<div>\n",
       "<style scoped>\n",
       "    .dataframe tbody tr th:only-of-type {\n",
       "        vertical-align: middle;\n",
       "    }\n",
       "\n",
       "    .dataframe tbody tr th {\n",
       "        vertical-align: top;\n",
       "    }\n",
       "\n",
       "    .dataframe thead th {\n",
       "        text-align: right;\n",
       "    }\n",
       "</style>\n",
       "<table border=\"1\" class=\"dataframe\">\n",
       "  <thead>\n",
       "    <tr style=\"text-align: right;\">\n",
       "      <th></th>\n",
       "      <th>DAYS_ENDDATE_FACT</th>\n",
       "    </tr>\n",
       "  </thead>\n",
       "  <tbody>\n",
       "    <tr>\n",
       "      <th>198346</th>\n",
       "      <td>-42023.0</td>\n",
       "    </tr>\n",
       "  </tbody>\n",
       "</table>\n",
       "</div>"
      ],
      "text/plain": [
       "        DAYS_ENDDATE_FACT\n",
       "198346           -42023.0"
      ]
     },
     "execution_count": 8,
     "metadata": {},
     "output_type": "execute_result"
    }
   ],
   "source": [
    "temp = bureau.copy() \n",
    "\n",
    "temp = pd.DataFrame(temp['DAYS_ENDDATE_FACT'].fillna(999))\n",
    "temp = temp[temp['DAYS_ENDDATE_FACT'].values <= 0]\n",
    "\n",
    "plt.hist(temp[temp['DAYS_ENDDATE_FACT'].values > -3000]['DAYS_ENDDATE_FACT'], edgecolor = 'k', bins = 20)\n",
    "plt.title('DAYS_ENDDATE_FACT'); plt.xlabel('DAYS'); plt.ylabel('Count');\n",
    "plt.show()\n",
    "temp[temp['DAYS_ENDDATE_FACT'].values < -3500]"
   ]
  },
  {
   "cell_type": "code",
   "execution_count": 12,
   "metadata": {
    "ExecuteTime": {
     "end_time": "2018-06-25T17:36:20.329649Z",
     "start_time": "2018-06-25T17:36:20.039958Z"
    }
   },
   "outputs": [
    {
     "name": "stderr",
     "output_type": "stream",
     "text": [
      "/home/kai/anaconda3/envs/tf_newer/lib/python3.6/site-packages/ipykernel_launcher.py:4: RuntimeWarning: invalid value encountered in greater\n",
      "  after removing the cwd from sys.path.\n"
     ]
    },
    {
     "data": {
      "image/png": "[encoded data removed]",
      "text/plain": [
       "<matplotlib.figure.Figure at 0x7fe666582828>"
      ]
     },
     "metadata": {},
     "output_type": "display_data"
    },
    {
     "name": "stderr",
     "output_type": "stream",
     "text": [
      "/home/kai/anaconda3/envs/tf_newer/lib/python3.6/site-packages/ipykernel_launcher.py:7: RuntimeWarning: invalid value encountered in greater\n",
      "  import sys\n"
     ]
    },
    {
     "data": {
      "text/html": [
       "<div>\n",
       "<style scoped>\n",
       "    .dataframe tbody tr th:only-of-type {\n",
       "        vertical-align: middle;\n",
       "    }\n",
       "\n",
       "    .dataframe tbody tr th {\n",
       "        vertical-align: top;\n",
       "    }\n",
       "\n",
       "    .dataframe thead th {\n",
       "        text-align: right;\n",
       "    }\n",
       "</style>\n",
       "<table border=\"1\" class=\"dataframe\">\n",
       "  <thead>\n",
       "    <tr style=\"text-align: right;\">\n",
       "      <th></th>\n",
       "      <th>AMT_CREDIT_MAX_OVERDUE</th>\n",
       "    </tr>\n",
       "  </thead>\n",
       "  <tbody>\n",
       "    <tr>\n",
       "      <th>4</th>\n",
       "      <td>77674.500</td>\n",
       "    </tr>\n",
       "    <tr>\n",
       "      <th>26</th>\n",
       "      <td>88821.000</td>\n",
       "    </tr>\n",
       "    <tr>\n",
       "      <th>289</th>\n",
       "      <td>140631.840</td>\n",
       "    </tr>\n",
       "    <tr>\n",
       "      <th>541</th>\n",
       "      <td>133308.810</td>\n",
       "    </tr>\n",
       "    <tr>\n",
       "      <th>1483</th>\n",
       "      <td>55230.075</td>\n",
       "    </tr>\n",
       "    <tr>\n",
       "      <th>1644</th>\n",
       "      <td>556600.500</td>\n",
       "    </tr>\n",
       "    <tr>\n",
       "      <th>1833</th>\n",
       "      <td>59886.000</td>\n",
       "    </tr>\n",
       "    <tr>\n",
       "      <th>1840</th>\n",
       "      <td>87354.000</td>\n",
       "    </tr>\n",
       "    <tr>\n",
       "      <th>1841</th>\n",
       "      <td>54517.500</td>\n",
       "    </tr>\n",
       "    <tr>\n",
       "      <th>1845</th>\n",
       "      <td>52038.000</td>\n",
       "    </tr>\n",
       "    <tr>\n",
       "      <th>1874</th>\n",
       "      <td>244881.000</td>\n",
       "    </tr>\n",
       "    <tr>\n",
       "      <th>2120</th>\n",
       "      <td>62100.000</td>\n",
       "    </tr>\n",
       "    <tr>\n",
       "      <th>2124</th>\n",
       "      <td>91696.500</td>\n",
       "    </tr>\n",
       "    <tr>\n",
       "      <th>2125</th>\n",
       "      <td>218304.000</td>\n",
       "    </tr>\n",
       "    <tr>\n",
       "      <th>2196</th>\n",
       "      <td>349428.060</td>\n",
       "    </tr>\n",
       "    <tr>\n",
       "      <th>2286</th>\n",
       "      <td>42254.505</td>\n",
       "    </tr>\n",
       "    <tr>\n",
       "      <th>2492</th>\n",
       "      <td>63144.000</td>\n",
       "    </tr>\n",
       "    <tr>\n",
       "      <th>2493</th>\n",
       "      <td>42988.500</td>\n",
       "    </tr>\n",
       "    <tr>\n",
       "      <th>2494</th>\n",
       "      <td>305070.390</td>\n",
       "    </tr>\n",
       "    <tr>\n",
       "      <th>2790</th>\n",
       "      <td>238950.000</td>\n",
       "    </tr>\n",
       "    <tr>\n",
       "      <th>3445</th>\n",
       "      <td>40738.500</td>\n",
       "    </tr>\n",
       "    <tr>\n",
       "      <th>3716</th>\n",
       "      <td>148972.500</td>\n",
       "    </tr>\n",
       "    <tr>\n",
       "      <th>4120</th>\n",
       "      <td>49392.000</td>\n",
       "    </tr>\n",
       "    <tr>\n",
       "      <th>4135</th>\n",
       "      <td>110983.500</td>\n",
       "    </tr>\n",
       "    <tr>\n",
       "      <th>4136</th>\n",
       "      <td>48625.875</td>\n",
       "    </tr>\n",
       "    <tr>\n",
       "      <th>4413</th>\n",
       "      <td>80946.000</td>\n",
       "    </tr>\n",
       "    <tr>\n",
       "      <th>4424</th>\n",
       "      <td>41719.500</td>\n",
       "    </tr>\n",
       "    <tr>\n",
       "      <th>4514</th>\n",
       "      <td>140333.040</td>\n",
       "    </tr>\n",
       "    <tr>\n",
       "      <th>4971</th>\n",
       "      <td>82197.000</td>\n",
       "    </tr>\n",
       "    <tr>\n",
       "      <th>5083</th>\n",
       "      <td>68521.500</td>\n",
       "    </tr>\n",
       "    <tr>\n",
       "      <th>...</th>\n",
       "      <td>...</td>\n",
       "    </tr>\n",
       "    <tr>\n",
       "      <th>1704618</th>\n",
       "      <td>49864.500</td>\n",
       "    </tr>\n",
       "    <tr>\n",
       "      <th>1705601</th>\n",
       "      <td>40153.500</td>\n",
       "    </tr>\n",
       "    <tr>\n",
       "      <th>1705608</th>\n",
       "      <td>40194.000</td>\n",
       "    </tr>\n",
       "    <tr>\n",
       "      <th>1705753</th>\n",
       "      <td>70920.000</td>\n",
       "    </tr>\n",
       "    <tr>\n",
       "      <th>1706847</th>\n",
       "      <td>49538.925</td>\n",
       "    </tr>\n",
       "    <tr>\n",
       "      <th>1707142</th>\n",
       "      <td>53554.680</td>\n",
       "    </tr>\n",
       "    <tr>\n",
       "      <th>1707495</th>\n",
       "      <td>97830.000</td>\n",
       "    </tr>\n",
       "    <tr>\n",
       "      <th>1709188</th>\n",
       "      <td>47763.000</td>\n",
       "    </tr>\n",
       "    <tr>\n",
       "      <th>1709509</th>\n",
       "      <td>42448.500</td>\n",
       "    </tr>\n",
       "    <tr>\n",
       "      <th>1709668</th>\n",
       "      <td>118715.400</td>\n",
       "    </tr>\n",
       "    <tr>\n",
       "      <th>1709708</th>\n",
       "      <td>4402660.500</td>\n",
       "    </tr>\n",
       "    <tr>\n",
       "      <th>1710071</th>\n",
       "      <td>264892.500</td>\n",
       "    </tr>\n",
       "    <tr>\n",
       "      <th>1711071</th>\n",
       "      <td>44439.165</td>\n",
       "    </tr>\n",
       "    <tr>\n",
       "      <th>1711257</th>\n",
       "      <td>315441.000</td>\n",
       "    </tr>\n",
       "    <tr>\n",
       "      <th>1711530</th>\n",
       "      <td>50908.680</td>\n",
       "    </tr>\n",
       "    <tr>\n",
       "      <th>1712358</th>\n",
       "      <td>73575.000</td>\n",
       "    </tr>\n",
       "    <tr>\n",
       "      <th>1712876</th>\n",
       "      <td>41872.230</td>\n",
       "    </tr>\n",
       "    <tr>\n",
       "      <th>1712891</th>\n",
       "      <td>49369.500</td>\n",
       "    </tr>\n",
       "    <tr>\n",
       "      <th>1712997</th>\n",
       "      <td>47650.500</td>\n",
       "    </tr>\n",
       "    <tr>\n",
       "      <th>1713141</th>\n",
       "      <td>46350.000</td>\n",
       "    </tr>\n",
       "    <tr>\n",
       "      <th>1713468</th>\n",
       "      <td>49735.845</td>\n",
       "    </tr>\n",
       "    <tr>\n",
       "      <th>1713539</th>\n",
       "      <td>40042.035</td>\n",
       "    </tr>\n",
       "    <tr>\n",
       "      <th>1713773</th>\n",
       "      <td>77697.000</td>\n",
       "    </tr>\n",
       "    <tr>\n",
       "      <th>1713863</th>\n",
       "      <td>433192.500</td>\n",
       "    </tr>\n",
       "    <tr>\n",
       "      <th>1714090</th>\n",
       "      <td>51471.000</td>\n",
       "    </tr>\n",
       "    <tr>\n",
       "      <th>1714161</th>\n",
       "      <td>129943.350</td>\n",
       "    </tr>\n",
       "    <tr>\n",
       "      <th>1715229</th>\n",
       "      <td>48744.000</td>\n",
       "    </tr>\n",
       "    <tr>\n",
       "      <th>1715309</th>\n",
       "      <td>52945.605</td>\n",
       "    </tr>\n",
       "    <tr>\n",
       "      <th>1715437</th>\n",
       "      <td>220081.500</td>\n",
       "    </tr>\n",
       "    <tr>\n",
       "      <th>1716179</th>\n",
       "      <td>95276.205</td>\n",
       "    </tr>\n",
       "  </tbody>\n",
       "</table>\n",
       "<p>6402 rows × 1 columns</p>\n",
       "</div>"
      ],
      "text/plain": [
       "         AMT_CREDIT_MAX_OVERDUE\n",
       "4                     77674.500\n",
       "26                    88821.000\n",
       "289                  140631.840\n",
       "541                  133308.810\n",
       "1483                  55230.075\n",
       "1644                 556600.500\n",
       "1833                  59886.000\n",
       "1840                  87354.000\n",
       "1841                  54517.500\n",
       "1845                  52038.000\n",
       "1874                 244881.000\n",
       "2120                  62100.000\n",
       "2124                  91696.500\n",
       "2125                 218304.000\n",
       "2196                 349428.060\n",
       "2286                  42254.505\n",
       "2492                  63144.000\n",
       "2493                  42988.500\n",
       "2494                 305070.390\n",
       "2790                 238950.000\n",
       "3445                  40738.500\n",
       "3716                 148972.500\n",
       "4120                  49392.000\n",
       "4135                 110983.500\n",
       "4136                  48625.875\n",
       "4413                  80946.000\n",
       "4424                  41719.500\n",
       "4514                 140333.040\n",
       "4971                  82197.000\n",
       "5083                  68521.500\n",
       "...                         ...\n",
       "1704618               49864.500\n",
       "1705601               40153.500\n",
       "1705608               40194.000\n",
       "1705753               70920.000\n",
       "1706847               49538.925\n",
       "1707142               53554.680\n",
       "1707495               97830.000\n",
       "1709188               47763.000\n",
       "1709509               42448.500\n",
       "1709668              118715.400\n",
       "1709708             4402660.500\n",
       "1710071              264892.500\n",
       "1711071               44439.165\n",
       "1711257              315441.000\n",
       "1711530               50908.680\n",
       "1712358               73575.000\n",
       "1712876               41872.230\n",
       "1712891               49369.500\n",
       "1712997               47650.500\n",
       "1713141               46350.000\n",
       "1713468               49735.845\n",
       "1713539               40042.035\n",
       "1713773               77697.000\n",
       "1713863              433192.500\n",
       "1714090               51471.000\n",
       "1714161              129943.350\n",
       "1715229               48744.000\n",
       "1715309               52945.605\n",
       "1715437              220081.500\n",
       "1716179               95276.205\n",
       "\n",
       "[6402 rows x 1 columns]"
      ]
     },
     "execution_count": 12,
     "metadata": {},
     "output_type": "execute_result"
    }
   ],
   "source": [
    "temp = replace_outliers_by_percentile(bureau, 'AMT_CREDIT_MAX_OVERDUE', 99).fillna(-999)\n",
    "\n",
    "\n",
    "plt.hist(temp['AMT_CREDIT_MAX_OVERDUE_percentile_replaced'], edgecolor = 'k', bins = 20)\n",
    "plt.title('AMT_CREDIT_MAX_OVERDUE'); plt.xlabel('AMT'); plt.ylabel('Count');\n",
    "plt.show()\n",
    "pd.DataFrame(bureau[bureau['AMT_CREDIT_MAX_OVERDUE'].values > 40000]['AMT_CREDIT_MAX_OVERDUE'])"
   ]
  },
  {
   "cell_type": "code",
   "execution_count": null,
   "metadata": {},
   "outputs": [],
   "source": []
  },
  {
   "cell_type": "code",
   "execution_count": 83,
   "metadata": {
    "ExecuteTime": {
     "end_time": "2018-06-21T18:13:25.155584Z",
     "start_time": "2018-06-21T18:13:24.894140Z"
    }
   },
   "outputs": [
    {
     "data": {
      "image/png": "[encoded data removed]",
      "text/plain": [
       "<matplotlib.figure.Figure at 0x7efb6ba77208>"
      ]
     },
     "metadata": {},
     "output_type": "display_data"
    },
    {
     "data": {
      "text/plain": [
       "array([0, 2, 1, 4, 3, 5, 9, 8, 6, 7])"
      ]
     },
     "execution_count": 83,
     "metadata": {},
     "output_type": "execute_result"
    }
   ],
   "source": [
    "temp = bureau.copy() \n",
    "\n",
    "\n",
    "\n",
    "plt.hist(temp['CNT_CREDIT_PROLONG'], edgecolor = 'k', bins = 20)\n",
    "plt.title('CNT_CREDIT_PROLONG'); plt.xlabel('CNT'); plt.ylabel('Count');\n",
    "plt.show()\n",
    "\n",
    "temp['CNT_CREDIT_PROLONG'].unique()"
   ]
  },
  {
   "cell_type": "code",
   "execution_count": 24,
   "metadata": {
    "ExecuteTime": {
     "end_time": "2018-06-25T17:45:52.094593Z",
     "start_time": "2018-06-25T17:45:51.763489Z"
    }
   },
   "outputs": [
    {
     "name": "stderr",
     "output_type": "stream",
     "text": [
      "/home/kai/anaconda3/envs/tf_newer/lib/python3.6/site-packages/ipykernel_launcher.py:4: RuntimeWarning: invalid value encountered in greater\n",
      "  after removing the cwd from sys.path.\n"
     ]
    },
    {
     "data": {
      "image/png": "[encoded data removed]",
      "text/plain": [
       "<matplotlib.figure.Figure at 0x7fe666eb5e48>"
      ]
     },
     "metadata": {},
     "output_type": "display_data"
    }
   ],
   "source": [
    "temp = replace_outliers_by_percentile(bureau, 'AMT_CREDIT_SUM', 99).fillna(-999)\n",
    "\n",
    "\n",
    "plt.hist(temp['AMT_CREDIT_SUM_percentile_replaced'].values, edgecolor = 'k', bins = 30)\n",
    "plt.title('AMT_CREDIT_SUM'); plt.xlabel('AMT'); plt.ylabel('Count');\n",
    "plt.show()"
   ]
  },
  {
   "cell_type": "code",
   "execution_count": 35,
   "metadata": {
    "ExecuteTime": {
     "end_time": "2018-06-25T17:58:44.545321Z",
     "start_time": "2018-06-25T17:58:44.318860Z"
    }
   },
   "outputs": [
    {
     "name": "stderr",
     "output_type": "stream",
     "text": [
      "/home/kai/anaconda3/envs/tf_newer/lib/python3.6/site-packages/ipykernel_launcher.py:4: RuntimeWarning: invalid value encountered in greater\n",
      "  after removing the cwd from sys.path.\n"
     ]
    },
    {
     "data": {
      "image/png": "[encoded data removed]",
      "text/plain": [
       "<matplotlib.figure.Figure at 0x7fe6676139b0>"
      ]
     },
     "metadata": {},
     "output_type": "display_data"
    },
    {
     "name": "stderr",
     "output_type": "stream",
     "text": [
      "/home/kai/anaconda3/envs/tf_newer/lib/python3.6/site-packages/ipykernel_launcher.py:9: RuntimeWarning: invalid value encountered in less\n",
      "  if __name__ == '__main__':\n"
     ]
    },
    {
     "data": {
      "text/plain": [
       "0.004904371170826856"
      ]
     },
     "execution_count": 35,
     "metadata": {},
     "output_type": "execute_result"
    }
   ],
   "source": [
    "temp = replace_outliers_by_percentile(bureau, 'AMT_CREDIT_SUM_DEBT', 99).fillna(-999)\n",
    "# temp = replace_outliers_by_percentile_negative(temp, 'AMT_CREDIT_SUM_DEBT_percentile_replaced', 1).fillna(-999)\n",
    "\n",
    "\n",
    "plt.hist(temp['AMT_CREDIT_SUM_DEBT_percentile_replaced'].values, edgecolor = 'k', bins = 20)\n",
    "plt.title('AMT_CREDIT_SUM_DEBT'); plt.xlabel('AMT'); plt.ylabel('Count');\n",
    "plt.show()\n",
    "\n",
    "pd.DataFrame(bureau[bureau['AMT_CREDIT_SUM_DEBT'].values < 0]['AMT_CREDIT_SUM_DEBT']).shape[0]/bureau.shape[0]"
   ]
  },
  {
   "cell_type": "code",
   "execution_count": 39,
   "metadata": {
    "ExecuteTime": {
     "end_time": "2018-06-25T18:01:02.257382Z",
     "start_time": "2018-06-25T18:01:01.957755Z"
    }
   },
   "outputs": [
    {
     "name": "stderr",
     "output_type": "stream",
     "text": [
      "/home/kai/anaconda3/envs/tf_newer/lib/python3.6/site-packages/ipykernel_launcher.py:4: RuntimeWarning: invalid value encountered in greater\n",
      "  after removing the cwd from sys.path.\n"
     ]
    },
    {
     "data": {
      "image/png": "[encoded data removed]",
      "text/plain": [
       "<matplotlib.figure.Figure at 0x7fe6679dbda0>"
      ]
     },
     "metadata": {},
     "output_type": "display_data"
    },
    {
     "name": "stderr",
     "output_type": "stream",
     "text": [
      "/home/kai/anaconda3/envs/tf_newer/lib/python3.6/site-packages/ipykernel_launcher.py:8: RuntimeWarning: invalid value encountered in less\n",
      "  \n"
     ]
    },
    {
     "data": {
      "text/plain": [
       "351"
      ]
     },
     "execution_count": 39,
     "metadata": {},
     "output_type": "execute_result"
    }
   ],
   "source": [
    "temp = replace_outliers_by_percentile(bureau, 'AMT_CREDIT_SUM_LIMIT', 99).fillna(-999)\n",
    "\n",
    "\n",
    "plt.hist(temp['AMT_CREDIT_SUM_LIMIT_percentile_replaced'], edgecolor = 'k', bins = 20)\n",
    "plt.title('AMT_CREDIT_SUM_LIMIT'); plt.xlabel('AMT'); plt.ylabel('Count');\n",
    "plt.show()\n",
    "\n",
    "bureau[bureau['AMT_CREDIT_SUM_LIMIT'].values < 0].shape[0]"
   ]
  },
  {
   "cell_type": "code",
   "execution_count": 86,
   "metadata": {
    "ExecuteTime": {
     "end_time": "2018-06-25T18:40:53.690529Z",
     "start_time": "2018-06-25T18:40:53.042216Z"
    }
   },
   "outputs": [
    {
     "data": {
      "image/png": "[encoded data removed]",
      "text/plain": [
       "<matplotlib.figure.Figure at 0x7fe6679b8828>"
      ]
     },
     "metadata": {},
     "output_type": "display_data"
    }
   ],
   "source": [
    "# temp = replace_outliers_by_percentile(bureau, 'AMT_CREDIT_SUM_OVERDUE', 99, True)\n",
    "\n",
    "# temp = temp[temp['AMT_CREDIT_SUM_OVERDUE_percentile_replaced'].values > 0]\n",
    "\n",
    "temp = bureau.copy()\n",
    "\n",
    "temp = temp[temp['AMT_CREDIT_SUM_OVERDUE'].values > 50000]\n",
    "\n",
    "plt.hist(temp['AMT_CREDIT_SUM_OVERDUE'].values, edgecolor = 'k', bins = 200)\n",
    "plt.title('AMT_CREDIT_SUM_OVERDUE'); plt.xlabel('AMT'); plt.ylabel('Count');\n",
    "plt.show()\n",
    "\n",
    "# temp['AMT_CREDIT_SUM_OVERDUE_percentile_replaced'].max(), temp[temp['AMT_CREDIT_SUM_OVERDUE_percentile_replaced'].values < temp['AMT_CREDIT_SUM_OVERDUE_percentile_replaced'].max()]['AMT_CREDIT_SUM_OVERDUE_percentile_replaced'].max()"
   ]
  },
  {
   "cell_type": "code",
   "execution_count": 87,
   "metadata": {
    "ExecuteTime": {
     "end_time": "2018-06-25T18:44:55.231350Z",
     "start_time": "2018-06-25T18:44:54.699130Z"
    }
   },
   "outputs": [
    {
     "data": {
      "image/png": "[encoded data removed]",
      "text/plain": [
       "<matplotlib.figure.Figure at 0x7fe668cf5470>"
      ]
     },
     "metadata": {},
     "output_type": "display_data"
    },
    {
     "data": {
      "text/plain": [
       "17"
      ]
     },
     "execution_count": 87,
     "metadata": {},
     "output_type": "execute_result"
    }
   ],
   "source": [
    "temp = replace_outliers_by_percentile_negative(bureau, 'DAYS_CREDIT_UPDATE', 1)\n",
    "\n",
    "plt.hist(temp['DAYS_CREDIT_UPDATE_percentile_replaced'], edgecolor = 'k', bins = 20)\n",
    "plt.title('DAYS_CREDIT_UPDATE'); plt.xlabel('DAYS'); plt.ylabel('Count');\n",
    "plt.show()\n",
    "\n",
    "pd.DataFrame(bureau[ bureau['DAYS_CREDIT_UPDATE'].values > 0]['DAYS_CREDIT_UPDATE']).shape[0]"
   ]
  },
  {
   "cell_type": "code",
   "execution_count": 94,
   "metadata": {
    "ExecuteTime": {
     "end_time": "2018-06-25T18:48:00.755584Z",
     "start_time": "2018-06-25T18:48:00.082318Z"
    }
   },
   "outputs": [
    {
     "name": "stderr",
     "output_type": "stream",
     "text": [
      "/home/kai/anaconda3/envs/tf_newer/lib/python3.6/site-packages/ipykernel_launcher.py:4: RuntimeWarning: invalid value encountered in greater\n",
      "  after removing the cwd from sys.path.\n",
      "/home/kai/anaconda3/envs/tf_newer/lib/python3.6/site-packages/ipykernel_launcher.py:7: RuntimeWarning: invalid value encountered in greater\n",
      "  import sys\n"
     ]
    },
    {
     "data": {
      "image/png": "[encoded data removed]",
      "text/plain": [
       "<matplotlib.figure.Figure at 0x7fe667aa2f60>"
      ]
     },
     "metadata": {},
     "output_type": "display_data"
    },
    {
     "name": "stderr",
     "output_type": "stream",
     "text": [
      "/home/kai/anaconda3/envs/tf_newer/lib/python3.6/site-packages/ipykernel_launcher.py:10: RuntimeWarning: invalid value encountered in greater\n",
      "  # Remove the CWD from sys.path while we load stuff.\n"
     ]
    },
    {
     "data": {
      "text/html": [
       "<div>\n",
       "<style scoped>\n",
       "    .dataframe tbody tr th:only-of-type {\n",
       "        vertical-align: middle;\n",
       "    }\n",
       "\n",
       "    .dataframe tbody tr th {\n",
       "        vertical-align: top;\n",
       "    }\n",
       "\n",
       "    .dataframe thead th {\n",
       "        text-align: right;\n",
       "    }\n",
       "</style>\n",
       "<table border=\"1\" class=\"dataframe\">\n",
       "  <thead>\n",
       "    <tr style=\"text-align: right;\">\n",
       "      <th></th>\n",
       "      <th>AMT_ANNUITY</th>\n",
       "    </tr>\n",
       "  </thead>\n",
       "  <tbody>\n",
       "    <tr>\n",
       "      <th>588794</th>\n",
       "      <td>57476227.5</td>\n",
       "    </tr>\n",
       "    <tr>\n",
       "      <th>607473</th>\n",
       "      <td>118453423.5</td>\n",
       "    </tr>\n",
       "    <tr>\n",
       "      <th>639909</th>\n",
       "      <td>27293341.5</td>\n",
       "    </tr>\n",
       "    <tr>\n",
       "      <th>639914</th>\n",
       "      <td>27293341.5</td>\n",
       "    </tr>\n",
       "    <tr>\n",
       "      <th>650368</th>\n",
       "      <td>59586682.5</td>\n",
       "    </tr>\n",
       "    <tr>\n",
       "      <th>719450</th>\n",
       "      <td>42812998.2</td>\n",
       "    </tr>\n",
       "    <tr>\n",
       "      <th>831382</th>\n",
       "      <td>43286215.5</td>\n",
       "    </tr>\n",
       "    <tr>\n",
       "      <th>834051</th>\n",
       "      <td>24016036.5</td>\n",
       "    </tr>\n",
       "    <tr>\n",
       "      <th>992980</th>\n",
       "      <td>31160587.5</td>\n",
       "    </tr>\n",
       "    <tr>\n",
       "      <th>1076015</th>\n",
       "      <td>54562657.5</td>\n",
       "    </tr>\n",
       "    <tr>\n",
       "      <th>1275852</th>\n",
       "      <td>45490630.5</td>\n",
       "    </tr>\n",
       "    <tr>\n",
       "      <th>1366730</th>\n",
       "      <td>31160587.5</td>\n",
       "    </tr>\n",
       "    <tr>\n",
       "      <th>1468707</th>\n",
       "      <td>33784668.0</td>\n",
       "    </tr>\n",
       "    <tr>\n",
       "      <th>1480286</th>\n",
       "      <td>56844981.0</td>\n",
       "    </tr>\n",
       "    <tr>\n",
       "      <th>1687167</th>\n",
       "      <td>90632371.5</td>\n",
       "    </tr>\n",
       "  </tbody>\n",
       "</table>\n",
       "</div>"
      ],
      "text/plain": [
       "         AMT_ANNUITY\n",
       "588794    57476227.5\n",
       "607473   118453423.5\n",
       "639909    27293341.5\n",
       "639914    27293341.5\n",
       "650368    59586682.5\n",
       "719450    42812998.2\n",
       "831382    43286215.5\n",
       "834051    24016036.5\n",
       "992980    31160587.5\n",
       "1076015   54562657.5\n",
       "1275852   45490630.5\n",
       "1366730   31160587.5\n",
       "1468707   33784668.0\n",
       "1480286   56844981.0\n",
       "1687167   90632371.5"
      ]
     },
     "execution_count": 94,
     "metadata": {},
     "output_type": "execute_result"
    }
   ],
   "source": [
    "\n",
    "temp = replace_outliers_by_percentile(bureau, 'AMT_ANNUITY', 99, True).fillna(-999)\n",
    "\n",
    "\n",
    "\n",
    "plt.hist(temp['AMT_ANNUITY_percentile_replaced'], edgecolor = 'k', bins = 20)\n",
    "plt.title('AMT_ANNUITY'); plt.xlabel('AMT'); plt.ylabel('Count');\n",
    "plt.show()\n",
    "\n",
    "pd.DataFrame(bureau[bureau['AMT_ANNUITY'].values > 20000000]['AMT_ANNUITY'])"
   ]
  },
  {
   "cell_type": "code",
   "execution_count": null,
   "metadata": {
    "collapsed": true
   },
   "outputs": [],
   "source": []
  },
  {
   "cell_type": "code",
   "execution_count": 3,
   "metadata": {
    "ExecuteTime": {
     "end_time": "2018-06-14T18:25:24.544709Z",
     "start_time": "2018-06-14T18:25:23.393412Z"
    },
    "collapsed": true
   },
   "outputs": [],
   "source": [
    "df = pd.concat([train,test], axis = 0)\n",
    "df = df[['SK_ID_CURR']]\n",
    "credit = credit_card_balance.copy()"
   ]
  },
  {
   "cell_type": "markdown",
   "metadata": {},
   "source": [
    "# Substraction, ratio, and score_dpd"
   ]
  },
  {
   "cell_type": "code",
   "execution_count": 7,
   "metadata": {
    "ExecuteTime": {
     "end_time": "2018-06-14T18:26:01.090365Z",
     "start_time": "2018-06-14T18:26:01.083092Z"
    },
    "collapsed": true
   },
   "outputs": [],
   "source": [
    "import pandas as pd\n",
    "import os\n",
    "import gc\n",
    "import numpy as np\n",
    "\n",
    "def ratio_name(numerator, denominator): return numerator + '_divide_' + denominator\n",
    "\n",
    "def ratio(df, numerator, denominator):\n",
    "    return df[numerator] / df[denominator]\n",
    "\n",
    "def substraction_name(col1, col2): return col1 + '_minus_' + col2\n",
    "\n",
    "def substraction(df, col1, col2):\n",
    "    return df[col1] - df[col2]"
   ]
  },
  {
   "cell_type": "code",
   "execution_count": 9,
   "metadata": {
    "ExecuteTime": {
     "end_time": "2018-06-14T18:26:13.660205Z",
     "start_time": "2018-06-14T18:26:13.649679Z"
    },
    "collapsed": true
   },
   "outputs": [],
   "source": [
    "# Substraction\n",
    "credit[substraction_name('AMT_CREDIT_LIMIT_ACTUAL', 'AMT_BALANCE')] = \\\n",
    "substraction(credit, 'AMT_CREDIT_LIMIT_ACTUAL', 'AMT_BALANCE')"
   ]
  },
  {
   "cell_type": "code",
   "execution_count": 10,
   "metadata": {
    "ExecuteTime": {
     "end_time": "2018-06-14T18:26:18.472594Z",
     "start_time": "2018-06-14T18:26:18.468911Z"
    },
    "collapsed": true
   },
   "outputs": [],
   "source": [
    "# Ratio\n",
    "top = ['AMT_DRAWINGS_ATM_CURRENT', 'AMT_DRAWINGS_POS_CURRENT', 'AMT_DRAWINGS_OTHER_CURRENT',\\\n",
    "      'CNT_DRAWINGS_ATM_CURRENT', 'CNT_DRAWINGS_OTHER_CURRENT', 'CNT_DRAWINGS_POS_CURRENT',\\\n",
    "      'AMT_DRAWINGS_ATM_CURRENT', 'AMT_DRAWINGS_POS_CURRENT', 'AMT_DRAWINGS_OTHER_CURRENT', 'AMT_DRAWINGS_CURRENT']\n",
    "\n",
    "bot = ['AMT_DRAWINGS_CURRENT', 'AMT_DRAWINGS_CURRENT','AMT_DRAWINGS_CURRENT', \\\n",
    "       'CNT_DRAWINGS_CURRENT', 'CNT_DRAWINGS_CURRENT', 'CNT_DRAWINGS_CURRENT',\\\n",
    "       'CNT_DRAWINGS_ATM_CURRENT', 'CNT_DRAWINGS_POS_CURRENT', 'CNT_DRAWINGS_OTHER_CURRENT', 'CNT_DRAWINGS_CURRENT']"
   ]
  },
  {
   "cell_type": "code",
   "execution_count": 11,
   "metadata": {
    "ExecuteTime": {
     "end_time": "2018-06-14T18:26:22.674381Z",
     "start_time": "2018-06-14T18:26:22.600200Z"
    }
   },
   "outputs": [
    {
     "name": "stdout",
     "output_type": "stream",
     "text": [
      "AMT_DRAWINGS_ATM_CURRENT AMT_DRAWINGS_CURRENT\n",
      "AMT_DRAWINGS_POS_CURRENT AMT_DRAWINGS_CURRENT\n",
      "AMT_DRAWINGS_OTHER_CURRENT AMT_DRAWINGS_CURRENT\n",
      "CNT_DRAWINGS_ATM_CURRENT CNT_DRAWINGS_CURRENT\n",
      "CNT_DRAWINGS_OTHER_CURRENT CNT_DRAWINGS_CURRENT\n",
      "CNT_DRAWINGS_POS_CURRENT CNT_DRAWINGS_CURRENT\n",
      "AMT_DRAWINGS_ATM_CURRENT CNT_DRAWINGS_ATM_CURRENT\n",
      "AMT_DRAWINGS_POS_CURRENT CNT_DRAWINGS_POS_CURRENT\n",
      "AMT_DRAWINGS_OTHER_CURRENT CNT_DRAWINGS_OTHER_CURRENT\n",
      "AMT_DRAWINGS_CURRENT CNT_DRAWINGS_CURRENT\n"
     ]
    }
   ],
   "source": [
    "# Ratio\n",
    "for i in range(len(top)):\n",
    "    print(top[i],bot[i])\n",
    "    credit[ratio_name(top[i], bot[i])] = \\\n",
    "    ratio(credit, top[i], bot[i])"
   ]
  },
  {
   "cell_type": "code",
   "execution_count": 12,
   "metadata": {
    "ExecuteTime": {
     "end_time": "2018-06-14T18:26:27.888407Z",
     "start_time": "2018-06-14T18:26:27.793778Z"
    },
    "collapsed": true
   },
   "outputs": [],
   "source": [
    "credit['score_DPD'] = 0\n",
    "credit['score_DPD'] = (credit['SK_DPD']**3 + 5* credit['SK_DPD_DEF']**3 + 1) * (1/(1 + abs(credit['MONTHS_BALANCE']) ))"
   ]
  },
  {
   "cell_type": "code",
   "execution_count": 13,
   "metadata": {
    "ExecuteTime": {
     "end_time": "2018-06-14T18:26:34.391611Z",
     "start_time": "2018-06-14T18:26:33.277237Z"
    },
    "collapsed": true
   },
   "outputs": [
    {
     "data": {
      "text/html": [
       "<div>\n",
       "<style scoped>\n",
       "    .dataframe tbody tr th:only-of-type {\n",
       "        vertical-align: middle;\n",
       "    }\n",
       "\n",
       "    .dataframe tbody tr th {\n",
       "        vertical-align: top;\n",
       "    }\n",
       "\n",
       "    .dataframe thead th {\n",
       "        text-align: right;\n",
       "    }\n",
       "</style>\n",
       "<table border=\"1\" class=\"dataframe\">\n",
       "  <thead>\n",
       "    <tr style=\"text-align: right;\">\n",
       "      <th></th>\n",
       "      <th>score_DPD</th>\n",
       "      <th>SK_DPD</th>\n",
       "      <th>SK_DPD_DEF</th>\n",
       "      <th>MONTHS_BALANCE</th>\n",
       "    </tr>\n",
       "  </thead>\n",
       "  <tbody>\n",
       "    <tr>\n",
       "      <th>0</th>\n",
       "      <td>0.142857</td>\n",
       "      <td>0</td>\n",
       "      <td>0</td>\n",
       "      <td>-6</td>\n",
       "    </tr>\n",
       "    <tr>\n",
       "      <th>1</th>\n",
       "      <td>0.500000</td>\n",
       "      <td>0</td>\n",
       "      <td>0</td>\n",
       "      <td>-1</td>\n",
       "    </tr>\n",
       "    <tr>\n",
       "      <th>2</th>\n",
       "      <td>0.125000</td>\n",
       "      <td>0</td>\n",
       "      <td>0</td>\n",
       "      <td>-7</td>\n",
       "    </tr>\n",
       "    <tr>\n",
       "      <th>3</th>\n",
       "      <td>0.200000</td>\n",
       "      <td>0</td>\n",
       "      <td>0</td>\n",
       "      <td>-4</td>\n",
       "    </tr>\n",
       "    <tr>\n",
       "      <th>4</th>\n",
       "      <td>0.500000</td>\n",
       "      <td>0</td>\n",
       "      <td>0</td>\n",
       "      <td>-1</td>\n",
       "    </tr>\n",
       "    <tr>\n",
       "      <th>5</th>\n",
       "      <td>43.000000</td>\n",
       "      <td>7</td>\n",
       "      <td>0</td>\n",
       "      <td>-7</td>\n",
       "    </tr>\n",
       "    <tr>\n",
       "      <th>6</th>\n",
       "      <td>0.142857</td>\n",
       "      <td>0</td>\n",
       "      <td>0</td>\n",
       "      <td>-6</td>\n",
       "    </tr>\n",
       "    <tr>\n",
       "      <th>7</th>\n",
       "      <td>0.125000</td>\n",
       "      <td>0</td>\n",
       "      <td>0</td>\n",
       "      <td>-7</td>\n",
       "    </tr>\n",
       "    <tr>\n",
       "      <th>8</th>\n",
       "      <td>0.200000</td>\n",
       "      <td>0</td>\n",
       "      <td>0</td>\n",
       "      <td>-4</td>\n",
       "    </tr>\n",
       "    <tr>\n",
       "      <th>9</th>\n",
       "      <td>0.166667</td>\n",
       "      <td>0</td>\n",
       "      <td>0</td>\n",
       "      <td>-5</td>\n",
       "    </tr>\n",
       "    <tr>\n",
       "      <th>10</th>\n",
       "      <td>0.125000</td>\n",
       "      <td>0</td>\n",
       "      <td>0</td>\n",
       "      <td>-7</td>\n",
       "    </tr>\n",
       "    <tr>\n",
       "      <th>11</th>\n",
       "      <td>0.500000</td>\n",
       "      <td>0</td>\n",
       "      <td>0</td>\n",
       "      <td>-1</td>\n",
       "    </tr>\n",
       "    <tr>\n",
       "      <th>12</th>\n",
       "      <td>0.200000</td>\n",
       "      <td>0</td>\n",
       "      <td>0</td>\n",
       "      <td>-4</td>\n",
       "    </tr>\n",
       "    <tr>\n",
       "      <th>13</th>\n",
       "      <td>0.166667</td>\n",
       "      <td>0</td>\n",
       "      <td>0</td>\n",
       "      <td>-5</td>\n",
       "    </tr>\n",
       "    <tr>\n",
       "      <th>14</th>\n",
       "      <td>0.500000</td>\n",
       "      <td>0</td>\n",
       "      <td>0</td>\n",
       "      <td>-1</td>\n",
       "    </tr>\n",
       "    <tr>\n",
       "      <th>15</th>\n",
       "      <td>0.500000</td>\n",
       "      <td>0</td>\n",
       "      <td>0</td>\n",
       "      <td>-1</td>\n",
       "    </tr>\n",
       "    <tr>\n",
       "      <th>16</th>\n",
       "      <td>0.142857</td>\n",
       "      <td>0</td>\n",
       "      <td>0</td>\n",
       "      <td>-6</td>\n",
       "    </tr>\n",
       "    <tr>\n",
       "      <th>17</th>\n",
       "      <td>0.142857</td>\n",
       "      <td>0</td>\n",
       "      <td>0</td>\n",
       "      <td>-6</td>\n",
       "    </tr>\n",
       "    <tr>\n",
       "      <th>18</th>\n",
       "      <td>0.250000</td>\n",
       "      <td>0</td>\n",
       "      <td>0</td>\n",
       "      <td>-3</td>\n",
       "    </tr>\n",
       "    <tr>\n",
       "      <th>19</th>\n",
       "      <td>0.200000</td>\n",
       "      <td>0</td>\n",
       "      <td>0</td>\n",
       "      <td>-4</td>\n",
       "    </tr>\n",
       "    <tr>\n",
       "      <th>20</th>\n",
       "      <td>0.142857</td>\n",
       "      <td>0</td>\n",
       "      <td>0</td>\n",
       "      <td>-6</td>\n",
       "    </tr>\n",
       "    <tr>\n",
       "      <th>21</th>\n",
       "      <td>0.500000</td>\n",
       "      <td>0</td>\n",
       "      <td>0</td>\n",
       "      <td>-1</td>\n",
       "    </tr>\n",
       "    <tr>\n",
       "      <th>22</th>\n",
       "      <td>0.500000</td>\n",
       "      <td>0</td>\n",
       "      <td>0</td>\n",
       "      <td>-1</td>\n",
       "    </tr>\n",
       "    <tr>\n",
       "      <th>23</th>\n",
       "      <td>0.166667</td>\n",
       "      <td>0</td>\n",
       "      <td>0</td>\n",
       "      <td>-5</td>\n",
       "    </tr>\n",
       "    <tr>\n",
       "      <th>24</th>\n",
       "      <td>0.250000</td>\n",
       "      <td>0</td>\n",
       "      <td>0</td>\n",
       "      <td>-3</td>\n",
       "    </tr>\n",
       "    <tr>\n",
       "      <th>25</th>\n",
       "      <td>0.142857</td>\n",
       "      <td>0</td>\n",
       "      <td>0</td>\n",
       "      <td>-6</td>\n",
       "    </tr>\n",
       "    <tr>\n",
       "      <th>26</th>\n",
       "      <td>0.250000</td>\n",
       "      <td>0</td>\n",
       "      <td>0</td>\n",
       "      <td>-3</td>\n",
       "    </tr>\n",
       "    <tr>\n",
       "      <th>27</th>\n",
       "      <td>0.142857</td>\n",
       "      <td>0</td>\n",
       "      <td>0</td>\n",
       "      <td>-6</td>\n",
       "    </tr>\n",
       "    <tr>\n",
       "      <th>28</th>\n",
       "      <td>0.333333</td>\n",
       "      <td>0</td>\n",
       "      <td>0</td>\n",
       "      <td>-2</td>\n",
       "    </tr>\n",
       "    <tr>\n",
       "      <th>29</th>\n",
       "      <td>0.200000</td>\n",
       "      <td>0</td>\n",
       "      <td>0</td>\n",
       "      <td>-4</td>\n",
       "    </tr>\n",
       "    <tr>\n",
       "      <th>...</th>\n",
       "      <td>...</td>\n",
       "      <td>...</td>\n",
       "      <td>...</td>\n",
       "      <td>...</td>\n",
       "    </tr>\n",
       "    <tr>\n",
       "      <th>3840282</th>\n",
       "      <td>0.111111</td>\n",
       "      <td>0</td>\n",
       "      <td>0</td>\n",
       "      <td>-8</td>\n",
       "    </tr>\n",
       "    <tr>\n",
       "      <th>3840283</th>\n",
       "      <td>0.125000</td>\n",
       "      <td>0</td>\n",
       "      <td>0</td>\n",
       "      <td>-7</td>\n",
       "    </tr>\n",
       "    <tr>\n",
       "      <th>3840284</th>\n",
       "      <td>0.111111</td>\n",
       "      <td>0</td>\n",
       "      <td>0</td>\n",
       "      <td>-8</td>\n",
       "    </tr>\n",
       "    <tr>\n",
       "      <th>3840285</th>\n",
       "      <td>0.058824</td>\n",
       "      <td>0</td>\n",
       "      <td>0</td>\n",
       "      <td>-16</td>\n",
       "    </tr>\n",
       "    <tr>\n",
       "      <th>3840286</th>\n",
       "      <td>0.062500</td>\n",
       "      <td>0</td>\n",
       "      <td>0</td>\n",
       "      <td>-15</td>\n",
       "    </tr>\n",
       "    <tr>\n",
       "      <th>3840287</th>\n",
       "      <td>0.090909</td>\n",
       "      <td>0</td>\n",
       "      <td>0</td>\n",
       "      <td>-10</td>\n",
       "    </tr>\n",
       "    <tr>\n",
       "      <th>3840288</th>\n",
       "      <td>0.062500</td>\n",
       "      <td>0</td>\n",
       "      <td>0</td>\n",
       "      <td>-15</td>\n",
       "    </tr>\n",
       "    <tr>\n",
       "      <th>3840289</th>\n",
       "      <td>0.100000</td>\n",
       "      <td>0</td>\n",
       "      <td>0</td>\n",
       "      <td>-9</td>\n",
       "    </tr>\n",
       "    <tr>\n",
       "      <th>3840290</th>\n",
       "      <td>0.100000</td>\n",
       "      <td>0</td>\n",
       "      <td>0</td>\n",
       "      <td>-9</td>\n",
       "    </tr>\n",
       "    <tr>\n",
       "      <th>3840291</th>\n",
       "      <td>0.100000</td>\n",
       "      <td>0</td>\n",
       "      <td>0</td>\n",
       "      <td>-9</td>\n",
       "    </tr>\n",
       "    <tr>\n",
       "      <th>3840292</th>\n",
       "      <td>0.100000</td>\n",
       "      <td>0</td>\n",
       "      <td>0</td>\n",
       "      <td>-9</td>\n",
       "    </tr>\n",
       "    <tr>\n",
       "      <th>3840293</th>\n",
       "      <td>0.111111</td>\n",
       "      <td>0</td>\n",
       "      <td>0</td>\n",
       "      <td>-8</td>\n",
       "    </tr>\n",
       "    <tr>\n",
       "      <th>3840294</th>\n",
       "      <td>0.066667</td>\n",
       "      <td>0</td>\n",
       "      <td>0</td>\n",
       "      <td>-14</td>\n",
       "    </tr>\n",
       "    <tr>\n",
       "      <th>3840295</th>\n",
       "      <td>0.083333</td>\n",
       "      <td>0</td>\n",
       "      <td>0</td>\n",
       "      <td>-11</td>\n",
       "    </tr>\n",
       "    <tr>\n",
       "      <th>3840296</th>\n",
       "      <td>0.083333</td>\n",
       "      <td>0</td>\n",
       "      <td>0</td>\n",
       "      <td>-11</td>\n",
       "    </tr>\n",
       "    <tr>\n",
       "      <th>3840297</th>\n",
       "      <td>0.083333</td>\n",
       "      <td>0</td>\n",
       "      <td>0</td>\n",
       "      <td>-11</td>\n",
       "    </tr>\n",
       "    <tr>\n",
       "      <th>3840298</th>\n",
       "      <td>0.090909</td>\n",
       "      <td>0</td>\n",
       "      <td>0</td>\n",
       "      <td>-10</td>\n",
       "    </tr>\n",
       "    <tr>\n",
       "      <th>3840299</th>\n",
       "      <td>0.058824</td>\n",
       "      <td>0</td>\n",
       "      <td>0</td>\n",
       "      <td>-16</td>\n",
       "    </tr>\n",
       "    <tr>\n",
       "      <th>3840300</th>\n",
       "      <td>0.111111</td>\n",
       "      <td>0</td>\n",
       "      <td>0</td>\n",
       "      <td>-8</td>\n",
       "    </tr>\n",
       "    <tr>\n",
       "      <th>3840301</th>\n",
       "      <td>0.083333</td>\n",
       "      <td>0</td>\n",
       "      <td>0</td>\n",
       "      <td>-11</td>\n",
       "    </tr>\n",
       "    <tr>\n",
       "      <th>3840302</th>\n",
       "      <td>0.083333</td>\n",
       "      <td>0</td>\n",
       "      <td>0</td>\n",
       "      <td>-11</td>\n",
       "    </tr>\n",
       "    <tr>\n",
       "      <th>3840303</th>\n",
       "      <td>0.100000</td>\n",
       "      <td>0</td>\n",
       "      <td>0</td>\n",
       "      <td>-9</td>\n",
       "    </tr>\n",
       "    <tr>\n",
       "      <th>3840304</th>\n",
       "      <td>0.062500</td>\n",
       "      <td>0</td>\n",
       "      <td>0</td>\n",
       "      <td>-15</td>\n",
       "    </tr>\n",
       "    <tr>\n",
       "      <th>3840305</th>\n",
       "      <td>0.083333</td>\n",
       "      <td>0</td>\n",
       "      <td>0</td>\n",
       "      <td>-11</td>\n",
       "    </tr>\n",
       "    <tr>\n",
       "      <th>3840306</th>\n",
       "      <td>0.071429</td>\n",
       "      <td>0</td>\n",
       "      <td>0</td>\n",
       "      <td>-13</td>\n",
       "    </tr>\n",
       "    <tr>\n",
       "      <th>3840307</th>\n",
       "      <td>0.100000</td>\n",
       "      <td>0</td>\n",
       "      <td>0</td>\n",
       "      <td>-9</td>\n",
       "    </tr>\n",
       "    <tr>\n",
       "      <th>3840308</th>\n",
       "      <td>0.100000</td>\n",
       "      <td>0</td>\n",
       "      <td>0</td>\n",
       "      <td>-9</td>\n",
       "    </tr>\n",
       "    <tr>\n",
       "      <th>3840309</th>\n",
       "      <td>0.100000</td>\n",
       "      <td>0</td>\n",
       "      <td>0</td>\n",
       "      <td>-9</td>\n",
       "    </tr>\n",
       "    <tr>\n",
       "      <th>3840310</th>\n",
       "      <td>0.090909</td>\n",
       "      <td>0</td>\n",
       "      <td>0</td>\n",
       "      <td>-10</td>\n",
       "    </tr>\n",
       "    <tr>\n",
       "      <th>3840311</th>\n",
       "      <td>0.090909</td>\n",
       "      <td>0</td>\n",
       "      <td>0</td>\n",
       "      <td>-10</td>\n",
       "    </tr>\n",
       "  </tbody>\n",
       "</table>\n",
       "<p>3840312 rows × 4 columns</p>\n",
       "</div>"
      ],
      "text/plain": [
       "         score_DPD  SK_DPD  SK_DPD_DEF  MONTHS_BALANCE\n",
       "0         0.142857       0           0              -6\n",
       "1         0.500000       0           0              -1\n",
       "2         0.125000       0           0              -7\n",
       "3         0.200000       0           0              -4\n",
       "4         0.500000       0           0              -1\n",
       "5        43.000000       7           0              -7\n",
       "6         0.142857       0           0              -6\n",
       "7         0.125000       0           0              -7\n",
       "8         0.200000       0           0              -4\n",
       "9         0.166667       0           0              -5\n",
       "10        0.125000       0           0              -7\n",
       "11        0.500000       0           0              -1\n",
       "12        0.200000       0           0              -4\n",
       "13        0.166667       0           0              -5\n",
       "14        0.500000       0           0              -1\n",
       "15        0.500000       0           0              -1\n",
       "16        0.142857       0           0              -6\n",
       "17        0.142857       0           0              -6\n",
       "18        0.250000       0           0              -3\n",
       "19        0.200000       0           0              -4\n",
       "20        0.142857       0           0              -6\n",
       "21        0.500000       0           0              -1\n",
       "22        0.500000       0           0              -1\n",
       "23        0.166667       0           0              -5\n",
       "24        0.250000       0           0              -3\n",
       "25        0.142857       0           0              -6\n",
       "26        0.250000       0           0              -3\n",
       "27        0.142857       0           0              -6\n",
       "28        0.333333       0           0              -2\n",
       "29        0.200000       0           0              -4\n",
       "...            ...     ...         ...             ...\n",
       "3840282   0.111111       0           0              -8\n",
       "3840283   0.125000       0           0              -7\n",
       "3840284   0.111111       0           0              -8\n",
       "3840285   0.058824       0           0             -16\n",
       "3840286   0.062500       0           0             -15\n",
       "3840287   0.090909       0           0             -10\n",
       "3840288   0.062500       0           0             -15\n",
       "3840289   0.100000       0           0              -9\n",
       "3840290   0.100000       0           0              -9\n",
       "3840291   0.100000       0           0              -9\n",
       "3840292   0.100000       0           0              -9\n",
       "3840293   0.111111       0           0              -8\n",
       "3840294   0.066667       0           0             -14\n",
       "3840295   0.083333       0           0             -11\n",
       "3840296   0.083333       0           0             -11\n",
       "3840297   0.083333       0           0             -11\n",
       "3840298   0.090909       0           0             -10\n",
       "3840299   0.058824       0           0             -16\n",
       "3840300   0.111111       0           0              -8\n",
       "3840301   0.083333       0           0             -11\n",
       "3840302   0.083333       0           0             -11\n",
       "3840303   0.100000       0           0              -9\n",
       "3840304   0.062500       0           0             -15\n",
       "3840305   0.083333       0           0             -11\n",
       "3840306   0.071429       0           0             -13\n",
       "3840307   0.100000       0           0              -9\n",
       "3840308   0.100000       0           0              -9\n",
       "3840309   0.100000       0           0              -9\n",
       "3840310   0.090909       0           0             -10\n",
       "3840311   0.090909       0           0             -10\n",
       "\n",
       "[3840312 rows x 4 columns]"
      ]
     },
     "execution_count": 13,
     "metadata": {},
     "output_type": "execute_result"
    }
   ],
   "source": [
    "credit[['score_DPD','SK_DPD','SK_DPD_DEF', 'MONTHS_BALANCE' ]]"
   ]
  },
  {
   "cell_type": "code",
   "execution_count": 14,
   "metadata": {
    "ExecuteTime": {
     "end_time": "2018-06-14T18:26:38.059182Z",
     "start_time": "2018-06-14T18:26:38.056311Z"
    },
    "scrolled": true
   },
   "outputs": [
    {
     "name": "stdout",
     "output_type": "stream",
     "text": [
      "['SK_ID_PREV', 'SK_ID_CURR', 'MONTHS_BALANCE', 'AMT_BALANCE', 'AMT_CREDIT_LIMIT_ACTUAL', 'AMT_DRAWINGS_ATM_CURRENT', 'AMT_DRAWINGS_CURRENT', 'AMT_DRAWINGS_OTHER_CURRENT', 'AMT_DRAWINGS_POS_CURRENT', 'AMT_INST_MIN_REGULARITY', 'AMT_PAYMENT_CURRENT', 'AMT_PAYMENT_TOTAL_CURRENT', 'AMT_RECEIVABLE_PRINCIPAL', 'AMT_RECIVABLE', 'AMT_TOTAL_RECEIVABLE', 'CNT_DRAWINGS_ATM_CURRENT', 'CNT_DRAWINGS_CURRENT', 'CNT_DRAWINGS_OTHER_CURRENT', 'CNT_DRAWINGS_POS_CURRENT', 'CNT_INSTALMENT_MATURE_CUM', 'SK_DPD', 'SK_DPD_DEF', 'AMT_CREDIT_LIMIT_ACTUAL_minus_AMT_BALANCE', 'AMT_DRAWINGS_ATM_CURRENT_divide_AMT_DRAWINGS_CURRENT', 'AMT_DRAWINGS_POS_CURRENT_divide_AMT_DRAWINGS_CURRENT', 'AMT_DRAWINGS_OTHER_CURRENT_divide_AMT_DRAWINGS_CURRENT', 'CNT_DRAWINGS_ATM_CURRENT_divide_CNT_DRAWINGS_CURRENT', 'CNT_DRAWINGS_OTHER_CURRENT_divide_CNT_DRAWINGS_CURRENT', 'CNT_DRAWINGS_POS_CURRENT_divide_CNT_DRAWINGS_CURRENT', 'AMT_DRAWINGS_ATM_CURRENT_divide_CNT_DRAWINGS_ATM_CURRENT', 'AMT_DRAWINGS_POS_CURRENT_divide_CNT_DRAWINGS_POS_CURRENT', 'AMT_DRAWINGS_OTHER_CURRENT_divide_CNT_DRAWINGS_OTHER_CURRENT', 'AMT_DRAWINGS_CURRENT_divide_CNT_DRAWINGS_CURRENT', 'score_DPD']\n"
     ]
    }
   ],
   "source": [
    "col = [i for i in list(credit.columns.values) if credit[i].dtype!= 'object']\n",
    "print(col)"
   ]
  },
  {
   "cell_type": "markdown",
   "metadata": {},
   "source": [
    "# Numerical Columns"
   ]
  },
  {
   "cell_type": "code",
   "execution_count": 15,
   "metadata": {
    "ExecuteTime": {
     "end_time": "2018-06-14T18:27:32.254435Z",
     "start_time": "2018-06-14T18:27:32.250463Z"
    },
    "collapsed": true
   },
   "outputs": [],
   "source": [
    "numerical_cols = ['SK_DPD', 'SK_DPD_DEF', 'AMT_BALANCE', 'AMT_CREDIT_LIMIT_ACTUAL', 'AMT_DRAWINGS_ATM_CURRENT', 'AMT_DRAWINGS_CURRENT', 'AMT_DRAWINGS_OTHER_CURRENT', 'AMT_DRAWINGS_POS_CURRENT', 'AMT_INST_MIN_REGULARITY', 'AMT_PAYMENT_CURRENT', 'AMT_PAYMENT_TOTAL_CURRENT', 'AMT_RECEIVABLE_PRINCIPAL', 'AMT_RECIVABLE', 'AMT_TOTAL_RECEIVABLE', 'CNT_DRAWINGS_ATM_CURRENT', 'CNT_DRAWINGS_CURRENT', 'CNT_DRAWINGS_OTHER_CURRENT', 'CNT_DRAWINGS_POS_CURRENT', 'CNT_INSTALMENT_MATURE_CUM', 'AMT_CREDIT_LIMIT_ACTUAL_minus_AMT_BALANCE', 'AMT_DRAWINGS_ATM_CURRENT_divide_AMT_DRAWINGS_CURRENT', 'AMT_DRAWINGS_POS_CURRENT_divide_AMT_DRAWINGS_CURRENT', 'AMT_DRAWINGS_OTHER_CURRENT_divide_AMT_DRAWINGS_CURRENT', 'CNT_DRAWINGS_ATM_CURRENT_divide_CNT_DRAWINGS_CURRENT', 'CNT_DRAWINGS_OTHER_CURRENT_divide_CNT_DRAWINGS_CURRENT', 'CNT_DRAWINGS_POS_CURRENT_divide_CNT_DRAWINGS_CURRENT', 'AMT_DRAWINGS_ATM_CURRENT_divide_CNT_DRAWINGS_ATM_CURRENT', 'AMT_DRAWINGS_POS_CURRENT_divide_CNT_DRAWINGS_POS_CURRENT', 'AMT_DRAWINGS_OTHER_CURRENT_divide_CNT_DRAWINGS_OTHER_CURRENT', 'AMT_DRAWINGS_CURRENT_divide_CNT_DRAWINGS_CURRENT', 'score_DPD']"
   ]
  },
  {
   "cell_type": "code",
   "execution_count": 16,
   "metadata": {
    "ExecuteTime": {
     "end_time": "2018-06-14T18:27:36.438629Z",
     "start_time": "2018-06-14T18:27:36.430987Z"
    }
   },
   "outputs": [
    {
     "name": "stdout",
     "output_type": "stream",
     "text": [
      "[['positive_count'], ['positive_count'], ['positive_count', 'negative_count'], None, None, None, None, None, None, None, None, None, None, None, None, None, None, None, None, None, None, None, None, None, None, None, None, None, None, None, None]\n"
     ]
    }
   ],
   "source": [
    "numerical_len = len(numerical_cols)\n",
    "extrafunc_list = [_ for _ in range(len(numerical_cols))]\n",
    "for i in range(len(numerical_cols)):\n",
    "    if i == 0 or i == 1:\n",
    "        extrafunc_list[i] = ['positive_count']\n",
    "    else:\n",
    "        if i == 2:\n",
    "            extrafunc_list[i] = ['positive_count', 'negative_count']\n",
    "        else:\n",
    "            extrafunc_list[i] = None\n",
    "print(extrafunc_list)"
   ]
  },
  {
   "cell_type": "code",
   "execution_count": 17,
   "metadata": {
    "ExecuteTime": {
     "end_time": "2018-06-14T18:27:40.262015Z",
     "start_time": "2018-06-14T18:27:40.052452Z"
    },
    "collapsed": true
   },
   "outputs": [],
   "source": [
    "def numerical_agg(df, gp_col, agg_col, df_name, extrafunc_list = None):\n",
    "    \n",
    "    agg_list = ['max', 'min', 'std','mean']\n",
    "    '''\n",
    "    Possible extrafunc_list: ['sum','median','two_minus_one_third','positive_count', 'negative_count','standard_error', 'trimmed_mean_10_pct', 'trimmed_mean_25_pct','normed_std', 'max_minus_min','one_third','two_third']\n",
    "    '''\n",
    "    if extrafunc_list:\n",
    "        if 'one_third' in extrafunc_list:\n",
    "            def one_third(series):\n",
    "                return series.quantile(1/3)\n",
    "            \n",
    "        if 'two_third' in extrafunc_list:\n",
    "            def two_third(series):\n",
    "                return series.quantile(2/3)\n",
    "            \n",
    "        if 'max_minus_min' in extrafunc_list:\n",
    "            def max_minus_min(series):\n",
    "                return (series.max() - series.min())\n",
    "        \n",
    "        if 'two_minus_one_third' in extrafunc_list:\n",
    "#             print('two_minus_one')\n",
    "#             print('get two minus one')\n",
    "            def two_minus_one_third(series):\n",
    "                return(series.quantile(0.66666) - series.quantile(0.33333))\n",
    "       \n",
    "        if 'positive_count' in extrafunc_list:\n",
    "#             print('get positive count')\n",
    "            def positive_count(series):\n",
    "                return pd.Series(series > 0).sum()\n",
    "\n",
    "        if 'negative_count' in extrafunc_list:\n",
    "#             print('get negative count')\n",
    "            def negative_count(series):\n",
    "                return pd.Series(series < 0).sum()\n",
    "\n",
    "        if 'standard_error' in extrafunc_list:\n",
    "#             print('get std-error')\n",
    "            def standard_error(series):\n",
    "                return series.std()/np.sqrt(len(series))\n",
    "\n",
    "        if 'normed_std' in extrafunc_list:\n",
    "#             print('get normed_std')\n",
    "            def normed_std(series):\n",
    "                return series.std()/series.mean()\n",
    "\n",
    "        if 'trimmed_mean_10_pct' in extrafunc_list:\n",
    "#             print('get_trimmed 10 pct')\n",
    "            def trimmed_mean_10_pct(series):\n",
    "                return stats.trim_mean(series.dropna(), 0.1)\n",
    "\n",
    "        if 'trimmed_mean_25_pct' in extrafunc_list:\n",
    "#             print('get_trimmed 25 pct')\n",
    "            def trimmed_mean_25_pct(series):\n",
    "                return stats.trim_mean(series.dropna(), 0.25)\n",
    "        \n",
    "        list_tocall = []\n",
    "        for i in extrafunc_list:\n",
    "            if i not in set(['sum', 'median']):\n",
    "                list_tocall.append(eval(i))\n",
    "            \n",
    "    if extrafunc_list != None:   \n",
    "        agg_list.extend(list_tocall)\n",
    "    \n",
    "    _df = df.groupby(gp_col).agg({agg_col:agg_list})\n",
    "    columns = []\n",
    "    for pre in _df.columns.levels[0]:\n",
    "        for middle in _df.columns.levels[1]:\n",
    "            columns.append('%s_%s_%s' %(df_name,pre,middle))\n",
    "    _df.columns = columns\n",
    "    \n",
    "    return _df.reset_index()"
   ]
  },
  {
   "cell_type": "code",
   "execution_count": 20,
   "metadata": {
    "ExecuteTime": {
     "end_time": "2018-06-14T18:30:18.624692Z",
     "start_time": "2018-06-14T18:28:50.823567Z"
    }
   },
   "outputs": [
    {
     "name": "stdout",
     "output_type": "stream",
     "text": [
      "SK_DPD\n",
      "SK_DPD_DEF\n",
      "AMT_BALANCE\n",
      "AMT_CREDIT_LIMIT_ACTUAL\n",
      "AMT_DRAWINGS_ATM_CURRENT\n",
      "AMT_DRAWINGS_CURRENT\n",
      "AMT_DRAWINGS_OTHER_CURRENT\n",
      "AMT_DRAWINGS_POS_CURRENT\n",
      "AMT_INST_MIN_REGULARITY\n",
      "AMT_PAYMENT_CURRENT\n",
      "AMT_PAYMENT_TOTAL_CURRENT\n",
      "AMT_RECEIVABLE_PRINCIPAL\n",
      "AMT_RECIVABLE\n",
      "AMT_TOTAL_RECEIVABLE\n",
      "CNT_DRAWINGS_ATM_CURRENT\n",
      "CNT_DRAWINGS_CURRENT\n",
      "CNT_DRAWINGS_OTHER_CURRENT\n",
      "CNT_DRAWINGS_POS_CURRENT\n",
      "CNT_INSTALMENT_MATURE_CUM\n",
      "AMT_CREDIT_LIMIT_ACTUAL_minus_AMT_BALANCE\n",
      "AMT_DRAWINGS_ATM_CURRENT_divide_AMT_DRAWINGS_CURRENT\n",
      "AMT_DRAWINGS_POS_CURRENT_divide_AMT_DRAWINGS_CURRENT\n",
      "AMT_DRAWINGS_OTHER_CURRENT_divide_AMT_DRAWINGS_CURRENT\n",
      "CNT_DRAWINGS_ATM_CURRENT_divide_CNT_DRAWINGS_CURRENT\n",
      "CNT_DRAWINGS_OTHER_CURRENT_divide_CNT_DRAWINGS_CURRENT\n",
      "CNT_DRAWINGS_POS_CURRENT_divide_CNT_DRAWINGS_CURRENT\n",
      "AMT_DRAWINGS_ATM_CURRENT_divide_CNT_DRAWINGS_ATM_CURRENT\n",
      "AMT_DRAWINGS_POS_CURRENT_divide_CNT_DRAWINGS_POS_CURRENT\n",
      "AMT_DRAWINGS_OTHER_CURRENT_divide_CNT_DRAWINGS_OTHER_CURRENT\n",
      "AMT_DRAWINGS_CURRENT_divide_CNT_DRAWINGS_CURRENT\n",
      "score_DPD\n"
     ]
    }
   ],
   "source": [
    "gp_col = 'SK_ID_CURR'\n",
    "for i in range(len(extrafunc_list)):\n",
    "    print(numerical_cols[i])\n",
    "    df = df.merge(numerical_agg(credit, gp_col, numerical_cols[i], 'credit_card', extrafunc_list = extrafunc_list[i]), on = 'SK_ID_CURR', how='left')"
   ]
  },
  {
   "cell_type": "markdown",
   "metadata": {},
   "source": [
    "# Categorical"
   ]
  },
  {
   "cell_type": "code",
   "execution_count": 21,
   "metadata": {
    "ExecuteTime": {
     "end_time": "2018-06-14T18:30:22.946749Z",
     "start_time": "2018-06-14T18:30:22.922017Z"
    },
    "collapsed": true
   },
   "outputs": [],
   "source": [
    "def _set_type(series, dtype):\n",
    "    _max, _min = max(series), min(series)\n",
    "    if dtype == 'uint':\n",
    "        if _max <= 255: return np.uint8\n",
    "        elif _max <= 65535: return np.uint16\n",
    "        elif _max <= 4294967295: return np.uint32\n",
    "        else: return np.uint64\n",
    "    elif dtype == 'int':\n",
    "        if _min >= -128 and _max <= 127: return np.int8\n",
    "        elif _min >=-32768 and _max <= 32767: return np.int16\n",
    "        elif _min >= -2147483648 and _max <= 2147483647: return np.int32\n",
    "        else: return np.int64\n",
    "    elif dtype == 'float':\n",
    "        if max(abs(_min), _max) <= 3.4028235e+38: return np.float32\n",
    "        else: return np.float64\n",
    "\n",
    "def split_categorical_feature(df, group_col, calc_col):\n",
    "    tmp_df = pd.concat([df[group_col], pd.get_dummies(df[calc_col], prefix=calc_col)], axis=1).groupby(by=group_col).sum().reset_index()\n",
    "    dtype = {x: _set_type(tmp_df[x], 'uint') for x in tmp_df.columns if x != group_col}\n",
    "    for x in tmp_df:\n",
    "        if x in df.columns:\n",
    "            dtype[x] = df[x].dtype\n",
    "    return tmp_df.astype(dtype)"
   ]
  },
  {
   "cell_type": "code",
   "execution_count": 22,
   "metadata": {
    "ExecuteTime": {
     "end_time": "2018-06-14T18:30:27.902525Z",
     "start_time": "2018-06-14T18:30:26.889600Z"
    }
   },
   "outputs": [
    {
     "name": "stdout",
     "output_type": "stream",
     "text": [
      "NAME_CONTRACT_STATUS\n"
     ]
    }
   ],
   "source": [
    "categorical_cols = ['NAME_CONTRACT_STATUS']\n",
    "\n",
    "for x in categorical_cols:\n",
    "    print(x)\n",
    "    df = df.merge(split_categorical_feature(credit, 'SK_ID_CURR', x), on='SK_ID_CURR', how='left')\n",
    "    gc.collect()"
   ]
  },
  {
   "cell_type": "markdown",
   "metadata": {},
   "source": [
    "# Months Balance max min and sum"
   ]
  },
  {
   "cell_type": "code",
   "execution_count": 23,
   "metadata": {
    "ExecuteTime": {
     "end_time": "2018-06-14T18:30:32.304404Z",
     "start_time": "2018-06-14T18:30:31.903211Z"
    },
    "collapsed": true
   },
   "outputs": [],
   "source": [
    "_df = credit.groupby('SK_ID_CURR').agg({'MONTHS_BALANCE':['sum','min','max']})\n",
    "columns = []\n",
    "for pre in _df.columns.levels[0]:\n",
    "    for middle in _df.columns.levels[1]:\n",
    "        columns.append('%s_%s_%s' %('credit_card',pre,middle))\n",
    "_df.columns = columns\n",
    "df = df.merge(_df.reset_index(), on = 'SK_ID_CURR', how='left')"
   ]
  },
  {
   "cell_type": "code",
   "execution_count": 26,
   "metadata": {
    "ExecuteTime": {
     "end_time": "2018-06-14T18:36:44.740257Z",
     "start_time": "2018-06-14T18:36:44.737223Z"
    }
   },
   "outputs": [
    {
     "name": "stdout",
     "output_type": "stream",
     "text": [
      "['SK_ID_CURR' 'credit_card_SK_DPD_max_x' 'credit_card_SK_DPD_min_x'\n",
      " 'credit_card_SK_DPD_std_x' 'credit_card_SK_DPD_mean_x'\n",
      " 'credit_card_SK_DPD_positive_count_x' 'credit_card_SK_DPD_DEF_max_x'\n",
      " 'credit_card_SK_DPD_DEF_min_x' 'credit_card_SK_DPD_DEF_std_x'\n",
      " 'credit_card_SK_DPD_DEF_mean_x' 'credit_card_SK_DPD_DEF_positive_count_x'\n",
      " 'credit_card_SK_DPD_max_y' 'credit_card_SK_DPD_min_y'\n",
      " 'credit_card_SK_DPD_std_y' 'credit_card_SK_DPD_mean_y'\n",
      " 'credit_card_SK_DPD_positive_count_y' 'credit_card_SK_DPD_DEF_max_y'\n",
      " 'credit_card_SK_DPD_DEF_min_y' 'credit_card_SK_DPD_DEF_std_y'\n",
      " 'credit_card_SK_DPD_DEF_mean_y' 'credit_card_SK_DPD_DEF_positive_count_y'\n",
      " 'credit_card_AMT_BALANCE_max' 'credit_card_AMT_BALANCE_min'\n",
      " 'credit_card_AMT_BALANCE_std' 'credit_card_AMT_BALANCE_mean'\n",
      " 'credit_card_AMT_BALANCE_positive_count'\n",
      " 'credit_card_AMT_BALANCE_negative_count'\n",
      " 'credit_card_AMT_CREDIT_LIMIT_ACTUAL_max'\n",
      " 'credit_card_AMT_CREDIT_LIMIT_ACTUAL_min'\n",
      " 'credit_card_AMT_CREDIT_LIMIT_ACTUAL_std'\n",
      " 'credit_card_AMT_CREDIT_LIMIT_ACTUAL_mean'\n",
      " 'credit_card_AMT_DRAWINGS_ATM_CURRENT_max'\n",
      " 'credit_card_AMT_DRAWINGS_ATM_CURRENT_min'\n",
      " 'credit_card_AMT_DRAWINGS_ATM_CURRENT_std'\n",
      " 'credit_card_AMT_DRAWINGS_ATM_CURRENT_mean'\n",
      " 'credit_card_AMT_DRAWINGS_CURRENT_max'\n",
      " 'credit_card_AMT_DRAWINGS_CURRENT_min'\n",
      " 'credit_card_AMT_DRAWINGS_CURRENT_std'\n",
      " 'credit_card_AMT_DRAWINGS_CURRENT_mean'\n",
      " 'credit_card_AMT_DRAWINGS_OTHER_CURRENT_max'\n",
      " 'credit_card_AMT_DRAWINGS_OTHER_CURRENT_min'\n",
      " 'credit_card_AMT_DRAWINGS_OTHER_CURRENT_std'\n",
      " 'credit_card_AMT_DRAWINGS_OTHER_CURRENT_mean'\n",
      " 'credit_card_AMT_DRAWINGS_POS_CURRENT_max'\n",
      " 'credit_card_AMT_DRAWINGS_POS_CURRENT_min'\n",
      " 'credit_card_AMT_DRAWINGS_POS_CURRENT_std'\n",
      " 'credit_card_AMT_DRAWINGS_POS_CURRENT_mean'\n",
      " 'credit_card_AMT_INST_MIN_REGULARITY_max'\n",
      " 'credit_card_AMT_INST_MIN_REGULARITY_min'\n",
      " 'credit_card_AMT_INST_MIN_REGULARITY_std'\n",
      " 'credit_card_AMT_INST_MIN_REGULARITY_mean'\n",
      " 'credit_card_AMT_PAYMENT_CURRENT_max'\n",
      " 'credit_card_AMT_PAYMENT_CURRENT_min'\n",
      " 'credit_card_AMT_PAYMENT_CURRENT_std'\n",
      " 'credit_card_AMT_PAYMENT_CURRENT_mean'\n",
      " 'credit_card_AMT_PAYMENT_TOTAL_CURRENT_max'\n",
      " 'credit_card_AMT_PAYMENT_TOTAL_CURRENT_min'\n",
      " 'credit_card_AMT_PAYMENT_TOTAL_CURRENT_std'\n",
      " 'credit_card_AMT_PAYMENT_TOTAL_CURRENT_mean'\n",
      " 'credit_card_AMT_RECEIVABLE_PRINCIPAL_max'\n",
      " 'credit_card_AMT_RECEIVABLE_PRINCIPAL_min'\n",
      " 'credit_card_AMT_RECEIVABLE_PRINCIPAL_std'\n",
      " 'credit_card_AMT_RECEIVABLE_PRINCIPAL_mean'\n",
      " 'credit_card_AMT_RECIVABLE_max' 'credit_card_AMT_RECIVABLE_min'\n",
      " 'credit_card_AMT_RECIVABLE_std' 'credit_card_AMT_RECIVABLE_mean'\n",
      " 'credit_card_AMT_TOTAL_RECEIVABLE_max'\n",
      " 'credit_card_AMT_TOTAL_RECEIVABLE_min'\n",
      " 'credit_card_AMT_TOTAL_RECEIVABLE_std'\n",
      " 'credit_card_AMT_TOTAL_RECEIVABLE_mean'\n",
      " 'credit_card_CNT_DRAWINGS_ATM_CURRENT_max'\n",
      " 'credit_card_CNT_DRAWINGS_ATM_CURRENT_min'\n",
      " 'credit_card_CNT_DRAWINGS_ATM_CURRENT_std'\n",
      " 'credit_card_CNT_DRAWINGS_ATM_CURRENT_mean'\n",
      " 'credit_card_CNT_DRAWINGS_CURRENT_max'\n",
      " 'credit_card_CNT_DRAWINGS_CURRENT_min'\n",
      " 'credit_card_CNT_DRAWINGS_CURRENT_std'\n",
      " 'credit_card_CNT_DRAWINGS_CURRENT_mean'\n",
      " 'credit_card_CNT_DRAWINGS_OTHER_CURRENT_max'\n",
      " 'credit_card_CNT_DRAWINGS_OTHER_CURRENT_min'\n",
      " 'credit_card_CNT_DRAWINGS_OTHER_CURRENT_std'\n",
      " 'credit_card_CNT_DRAWINGS_OTHER_CURRENT_mean'\n",
      " 'credit_card_CNT_DRAWINGS_POS_CURRENT_max'\n",
      " 'credit_card_CNT_DRAWINGS_POS_CURRENT_min'\n",
      " 'credit_card_CNT_DRAWINGS_POS_CURRENT_std'\n",
      " 'credit_card_CNT_DRAWINGS_POS_CURRENT_mean'\n",
      " 'credit_card_CNT_INSTALMENT_MATURE_CUM_max'\n",
      " 'credit_card_CNT_INSTALMENT_MATURE_CUM_min'\n",
      " 'credit_card_CNT_INSTALMENT_MATURE_CUM_std'\n",
      " 'credit_card_CNT_INSTALMENT_MATURE_CUM_mean'\n",
      " 'credit_card_AMT_CREDIT_LIMIT_ACTUAL_minus_AMT_BALANCE_max'\n",
      " 'credit_card_AMT_CREDIT_LIMIT_ACTUAL_minus_AMT_BALANCE_min'\n",
      " 'credit_card_AMT_CREDIT_LIMIT_ACTUAL_minus_AMT_BALANCE_std'\n",
      " 'credit_card_AMT_CREDIT_LIMIT_ACTUAL_minus_AMT_BALANCE_mean'\n",
      " 'credit_card_AMT_DRAWINGS_ATM_CURRENT_divide_AMT_DRAWINGS_CURRENT_max'\n",
      " 'credit_card_AMT_DRAWINGS_ATM_CURRENT_divide_AMT_DRAWINGS_CURRENT_min'\n",
      " 'credit_card_AMT_DRAWINGS_ATM_CURRENT_divide_AMT_DRAWINGS_CURRENT_std'\n",
      " 'credit_card_AMT_DRAWINGS_ATM_CURRENT_divide_AMT_DRAWINGS_CURRENT_mean'\n",
      " 'credit_card_AMT_DRAWINGS_POS_CURRENT_divide_AMT_DRAWINGS_CURRENT_max'\n",
      " 'credit_card_AMT_DRAWINGS_POS_CURRENT_divide_AMT_DRAWINGS_CURRENT_min'\n",
      " 'credit_card_AMT_DRAWINGS_POS_CURRENT_divide_AMT_DRAWINGS_CURRENT_std'\n",
      " 'credit_card_AMT_DRAWINGS_POS_CURRENT_divide_AMT_DRAWINGS_CURRENT_mean'\n",
      " 'credit_card_AMT_DRAWINGS_OTHER_CURRENT_divide_AMT_DRAWINGS_CURRENT_max'\n",
      " 'credit_card_AMT_DRAWINGS_OTHER_CURRENT_divide_AMT_DRAWINGS_CURRENT_min'\n",
      " 'credit_card_AMT_DRAWINGS_OTHER_CURRENT_divide_AMT_DRAWINGS_CURRENT_std'\n",
      " 'credit_card_AMT_DRAWINGS_OTHER_CURRENT_divide_AMT_DRAWINGS_CURRENT_mean'\n",
      " 'credit_card_CNT_DRAWINGS_ATM_CURRENT_divide_CNT_DRAWINGS_CURRENT_max'\n",
      " 'credit_card_CNT_DRAWINGS_ATM_CURRENT_divide_CNT_DRAWINGS_CURRENT_min'\n",
      " 'credit_card_CNT_DRAWINGS_ATM_CURRENT_divide_CNT_DRAWINGS_CURRENT_std'\n",
      " 'credit_card_CNT_DRAWINGS_ATM_CURRENT_divide_CNT_DRAWINGS_CURRENT_mean'\n",
      " 'credit_card_CNT_DRAWINGS_OTHER_CURRENT_divide_CNT_DRAWINGS_CURRENT_max'\n",
      " 'credit_card_CNT_DRAWINGS_OTHER_CURRENT_divide_CNT_DRAWINGS_CURRENT_min'\n",
      " 'credit_card_CNT_DRAWINGS_OTHER_CURRENT_divide_CNT_DRAWINGS_CURRENT_std'\n",
      " 'credit_card_CNT_DRAWINGS_OTHER_CURRENT_divide_CNT_DRAWINGS_CURRENT_mean'\n",
      " 'credit_card_CNT_DRAWINGS_POS_CURRENT_divide_CNT_DRAWINGS_CURRENT_max'\n",
      " 'credit_card_CNT_DRAWINGS_POS_CURRENT_divide_CNT_DRAWINGS_CURRENT_min'\n",
      " 'credit_card_CNT_DRAWINGS_POS_CURRENT_divide_CNT_DRAWINGS_CURRENT_std'\n",
      " 'credit_card_CNT_DRAWINGS_POS_CURRENT_divide_CNT_DRAWINGS_CURRENT_mean'\n",
      " 'credit_card_AMT_DRAWINGS_ATM_CURRENT_divide_CNT_DRAWINGS_ATM_CURRENT_max'\n",
      " 'credit_card_AMT_DRAWINGS_ATM_CURRENT_divide_CNT_DRAWINGS_ATM_CURRENT_min'\n",
      " 'credit_card_AMT_DRAWINGS_ATM_CURRENT_divide_CNT_DRAWINGS_ATM_CURRENT_std'\n",
      " 'credit_card_AMT_DRAWINGS_ATM_CURRENT_divide_CNT_DRAWINGS_ATM_CURRENT_mean'\n",
      " 'credit_card_AMT_DRAWINGS_POS_CURRENT_divide_CNT_DRAWINGS_POS_CURRENT_max'\n",
      " 'credit_card_AMT_DRAWINGS_POS_CURRENT_divide_CNT_DRAWINGS_POS_CURRENT_min'\n",
      " 'credit_card_AMT_DRAWINGS_POS_CURRENT_divide_CNT_DRAWINGS_POS_CURRENT_std'\n",
      " 'credit_card_AMT_DRAWINGS_POS_CURRENT_divide_CNT_DRAWINGS_POS_CURRENT_mean'\n",
      " 'credit_card_AMT_DRAWINGS_OTHER_CURRENT_divide_CNT_DRAWINGS_OTHER_CURRENT_max'\n",
      " 'credit_card_AMT_DRAWINGS_OTHER_CURRENT_divide_CNT_DRAWINGS_OTHER_CURRENT_min'\n",
      " 'credit_card_AMT_DRAWINGS_OTHER_CURRENT_divide_CNT_DRAWINGS_OTHER_CURRENT_std'\n",
      " 'credit_card_AMT_DRAWINGS_OTHER_CURRENT_divide_CNT_DRAWINGS_OTHER_CURRENT_mean'\n",
      " 'credit_card_AMT_DRAWINGS_CURRENT_divide_CNT_DRAWINGS_CURRENT_max'\n",
      " 'credit_card_AMT_DRAWINGS_CURRENT_divide_CNT_DRAWINGS_CURRENT_min'\n",
      " 'credit_card_AMT_DRAWINGS_CURRENT_divide_CNT_DRAWINGS_CURRENT_std'\n",
      " 'credit_card_AMT_DRAWINGS_CURRENT_divide_CNT_DRAWINGS_CURRENT_mean'\n",
      " 'credit_card_score_DPD_max' 'credit_card_score_DPD_min'\n",
      " 'credit_card_score_DPD_std' 'credit_card_score_DPD_mean'\n",
      " 'NAME_CONTRACT_STATUS_Active' 'NAME_CONTRACT_STATUS_Approved'\n",
      " 'NAME_CONTRACT_STATUS_Completed' 'NAME_CONTRACT_STATUS_Demand'\n",
      " 'NAME_CONTRACT_STATUS_Refused' 'NAME_CONTRACT_STATUS_Sent proposal'\n",
      " 'NAME_CONTRACT_STATUS_Signed' 'credit_card_MONTHS_BALANCE_sum'\n",
      " 'credit_card_MONTHS_BALANCE_min' 'credit_card_MONTHS_BALANCE_max'] 149\n"
     ]
    }
   ],
   "source": [
    "print(df.columns.values, len(df.columns.values))"
   ]
  },
  {
   "cell_type": "code",
   "execution_count": null,
   "metadata": {
    "collapsed": true
   },
   "outputs": [],
   "source": []
  }
 ],
 "metadata": {
  "kernelspec": {
   "display_name": "Python 3.6 (tf_newer)",
   "language": "python",
   "name": "tf_newer"
  },
  "language_info": {
   "codemirror_mode": {
    "name": "ipython",
    "version": 3
   },
   "file_extension": ".py",
   "mimetype": "text/x-python",
   "name": "python",
   "nbconvert_exporter": "python",
   "pygments_lexer": "ipython3",
   "version": "3.6.3"
  },
  "varInspector": {
   "cols": {
    "lenName": 16,
    "lenType": 16,
    "lenVar": 40
   },
   "kernels_config": {
    "python": {
     "delete_cmd_postfix": "",
     "delete_cmd_prefix": "del ",
     "library": "var_list.py",
     "varRefreshCmd": "print(var_dic_list())"
    },
    "r": {
     "delete_cmd_postfix": ") ",
     "delete_cmd_prefix": "rm(",
     "library": "var_list.r",
     "varRefreshCmd": "cat(var_dic_list()) "
    }
   },
   "types_to_exclude": [
    "module",
    "function",
    "builtin_function_or_method",
    "instance",
    "_Feature"
   ],
   "window_display": false
  }
 },
 "nbformat": 4,
 "nbformat_minor": 2
}
