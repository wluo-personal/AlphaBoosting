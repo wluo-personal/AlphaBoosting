{
 "cells": [
  {
   "cell_type": "code",
   "execution_count": 1,
   "metadata": {
    "ExecuteTime": {
     "end_time": "2018-06-25T20:10:17.851494Z",
     "start_time": "2018-06-25T20:09:53.393950Z"
    }
   },
   "outputs": [
    {
     "name": "stdout",
     "output_type": "stream",
     "text": [
      "bureau\n",
      "installments_payments done\n",
      "credit_card_balance\n"
     ]
    }
   ],
   "source": [
    "import pandas as pd\n",
    "import numpy as np\n",
    "\n",
    "PATH = '/home/kai/data/kaggle/homecredit/'\n",
    "# train = pd.read_csv(PATH + 'application_train.csv')\n",
    "# print('train')\n",
    "# test = pd.read_csv(PATH + 'application_test.csv')\n",
    "# print('test')\n",
    "bureau = pd.read_csv(PATH + 'bureau.csv')\n",
    "print('bureau')\n",
    "# previous_application = pd.read_csv(PATH + 'previous_application.csv')\n",
    "# print('previous')\n",
    "# bureau_balance = pd.read_csv(PATH + 'bureau_balance.csv')\n",
    "# print('bureau_balance')\n",
    "installments_payments = pd.read_csv(PATH + 'installments_payments.csv')\n",
    "print('installments_payments done')\n",
    "# credit_card_balance = pd.read_csv(PATH + 'credit_card_balance.csv')\n",
    "# print('credit_card_balance')\n",
    "# POS_CASH_balance = pd.read_csv(PATH + 'POS_CASH_balance.csv')\n",
    "# print('POS_CASH_balance')\n",
    "credit_card_balance = pd.read_csv(PATH + 'credit_card_balance.csv')\n",
    "print('credit_card_balance')\n",
    "# previous_application = pd.read_csv(PATH + 'previous_application.csv')\n",
    "# print('previous_application')"
   ]
  },
  {
   "cell_type": "code",
   "execution_count": 2,
   "metadata": {
    "ExecuteTime": {
     "end_time": "2018-06-25T19:02:47.598580Z",
     "start_time": "2018-06-25T19:02:47.220081Z"
    }
   },
   "outputs": [],
   "source": [
    "import matplotlib.pyplot as plt\n",
    "import seaborn as sns\n",
    "plt.style.use('fivethirtyeight')"
   ]
  },
  {
   "cell_type": "code",
   "execution_count": 2,
   "metadata": {
    "ExecuteTime": {
     "end_time": "2018-06-25T20:10:40.903463Z",
     "start_time": "2018-06-25T20:10:40.897575Z"
    }
   },
   "outputs": [],
   "source": [
    "def replace_outliers_by_percentile(df, col, percentile_val=99, ignoreZero=False):\n",
    "    r = pd.DataFrame(df[col].copy())\n",
    "    if ignoreZero:\n",
    "        percentile = np.nanpercentile(df[df[col].values > 0][col], percentile_val)\n",
    "    else:\n",
    "        percentile = np.nanpercentile(df[col], percentile_val)\n",
    "    r[r.values > percentile] = percentile\n",
    "    r = r.rename({col:'{}_percentile_replaced'.format(col)}, axis=1)\n",
    "    return r"
   ]
  },
  {
   "cell_type": "code",
   "execution_count": 3,
   "metadata": {
    "ExecuteTime": {
     "end_time": "2018-06-25T20:11:02.177497Z",
     "start_time": "2018-06-25T20:11:02.168599Z"
    }
   },
   "outputs": [],
   "source": [
    "def replace_outliers_by_percentile_negative(df, col, percentile_val=1, ignoreZero=False):\n",
    "    r = pd.DataFrame(df[col].copy())\n",
    "    if ignoreZero:\n",
    "        percentile = np.nanpercentile(df[df[col].values < 0][col], percentile_val)\n",
    "    else:\n",
    "        percentile = np.nanpercentile(df[col], percentile_val)\n",
    "    r[r.values < percentile] = percentile\n",
    "    r = r.rename({col:'{}_percentile_replaced'.format(col)}, axis=1)\n",
    "    return r"
   ]
  },
  {
   "cell_type": "code",
   "execution_count": 4,
   "metadata": {
    "ExecuteTime": {
     "end_time": "2018-06-25T20:11:43.007280Z",
     "start_time": "2018-06-25T20:11:36.519698Z"
    }
   },
   "outputs": [
    {
     "name": "stderr",
     "output_type": "stream",
     "text": [
      "/home/kai/anaconda3/envs/tf_newer/lib/python3.6/site-packages/ipykernel_launcher.py:7: RuntimeWarning: invalid value encountered in greater\n",
      "  import sys\n",
      "/home/kai/anaconda3/envs/tf_newer/lib/python3.6/site-packages/ipykernel_launcher.py:4: RuntimeWarning: invalid value encountered in less\n",
      "  after removing the cwd from sys.path.\n",
      "/home/kai/anaconda3/envs/tf_newer/lib/python3.6/site-packages/ipykernel_launcher.py:4: SettingWithCopyWarning: \n",
      "A value is trying to be set on a copy of a slice from a DataFrame.\n",
      "Try using .loc[row_indexer,col_indexer] = value instead\n",
      "\n",
      "See the caveats in the documentation: http://pandas.pydata.org/pandas-docs/stable/indexing.html#indexing-view-versus-copy\n",
      "  after removing the cwd from sys.path.\n",
      "/home/kai/anaconda3/envs/tf_newer/lib/python3.6/site-packages/ipykernel_launcher.py:7: RuntimeWarning: invalid value encountered in less\n",
      "  import sys\n",
      "/home/kai/anaconda3/envs/tf_newer/lib/python3.6/site-packages/ipykernel_launcher.py:7: SettingWithCopyWarning: \n",
      "A value is trying to be set on a copy of a slice from a DataFrame.\n",
      "Try using .loc[row_indexer,col_indexer] = value instead\n",
      "\n",
      "See the caveats in the documentation: http://pandas.pydata.org/pandas-docs/stable/indexing.html#indexing-view-versus-copy\n",
      "  import sys\n",
      "/home/kai/anaconda3/envs/tf_newer/lib/python3.6/site-packages/ipykernel_launcher.py:10: RuntimeWarning: invalid value encountered in less\n",
      "  # Remove the CWD from sys.path while we load stuff.\n",
      "/home/kai/anaconda3/envs/tf_newer/lib/python3.6/site-packages/ipykernel_launcher.py:10: SettingWithCopyWarning: \n",
      "A value is trying to be set on a copy of a slice from a DataFrame.\n",
      "Try using .loc[row_indexer,col_indexer] = value instead\n",
      "\n",
      "See the caveats in the documentation: http://pandas.pydata.org/pandas-docs/stable/indexing.html#indexing-view-versus-copy\n",
      "  # Remove the CWD from sys.path while we load stuff.\n",
      "/home/kai/anaconda3/envs/tf_newer/lib/python3.6/site-packages/ipykernel_launcher.py:12: RuntimeWarning: invalid value encountered in less\n",
      "  if sys.path[0] == '':\n",
      "/home/kai/anaconda3/envs/tf_newer/lib/python3.6/site-packages/ipykernel_launcher.py:12: SettingWithCopyWarning: \n",
      "A value is trying to be set on a copy of a slice from a DataFrame.\n",
      "Try using .loc[row_indexer,col_indexer] = value instead\n",
      "\n",
      "See the caveats in the documentation: http://pandas.pydata.org/pandas-docs/stable/indexing.html#indexing-view-versus-copy\n",
      "  if sys.path[0] == '':\n",
      "/home/kai/anaconda3/envs/tf_newer/lib/python3.6/site-packages/ipykernel_launcher.py:16: SettingWithCopyWarning: \n",
      "A value is trying to be set on a copy of a slice from a DataFrame.\n",
      "Try using .loc[row_indexer,col_indexer] = value instead\n",
      "\n",
      "See the caveats in the documentation: http://pandas.pydata.org/pandas-docs/stable/indexing.html#indexing-view-versus-copy\n",
      "  app.launch_new_instance()\n",
      "/home/kai/anaconda3/envs/tf_newer/lib/python3.6/site-packages/ipykernel_launcher.py:4: RuntimeWarning: invalid value encountered in greater\n",
      "  after removing the cwd from sys.path.\n"
     ]
    }
   ],
   "source": [
    "# installments_payments\n",
    "installments_payments['AMT_PAYMENT'] = replace_outliers_by_percentile(installments_payments, 'AMT_PAYMENT', 99).values\n",
    "installments_payments['AMT_INSTALMENT'] = replace_outliers_by_percentile(installments_payments, 'AMT_INSTALMENT', 99).values\n",
    "installments_payments[installments_payments['DAYS_ENTRY_PAYMENT'].values < -3000]['DAYS_ENTRY_PAYMENT'] = -3000\n",
    "\n",
    "# bureau\n",
    "bureau[bureau['DAYS_ENDDATE_FACT'].values < -3500]['DAYS_ENDDATE_FACT'] = bureau[bureau['DAYS_ENDDATE_FACT'].values > -3500]['DAYS_ENDDATE_FACT'].min()\n",
    "bureau['AMT_CREDIT_MAX_OVERDUE'] = replace_outliers_by_percentile(bureau, 'AMT_CREDIT_MAX_OVERDUE', 99).values\n",
    "bureau['AMT_CREDIT_SUM'] = replace_outliers_by_percentile(bureau, 'AMT_CREDIT_SUM', 99).values\n",
    "bureau[bureau['AMT_CREDIT_SUM_DEBT'].values < 0]['AMT_CREDIT_SUM_DEBT'] = 0\n",
    "bureau['AMT_CREDIT_SUM_DEBT'] = replace_outliers_by_percentile(bureau, 'AMT_CREDIT_SUM_DEBT', 99).values\n",
    "bureau[bureau['AMT_CREDIT_SUM_LIMIT'].values < 0]['AMT_CREDIT_SUM_LIMIT'] = 0\n",
    "bureau['AMT_CREDIT_SUM_LIMIT'] = replace_outliers_by_percentile(bureau, 'AMT_CREDIT_SUM_LIMIT', 99).values\n",
    "bureau['AMT_CREDIT_SUM_OVERDUE'] = replace_outliers_by_percentile(bureau, 'AMT_CREDIT_SUM_OVERDUE', 99, True).values\n",
    "bureau['DAYS_CREDIT_UPDATE'] = replace_outliers_by_percentile_negative(bureau, 'DAYS_CREDIT_UPDATE', 1).values\n",
    "bureau[bureau['DAYS_CREDIT_UPDATE'].values > 0]['DAYS_CREDIT_UPDATE'] = 0\n",
    "bureau['AMT_ANNUITY'] = replace_outliers_by_percentile(bureau, 'AMT_ANNUITY', 99, True).values\n",
    "\n",
    "# credit_card_balance\n",
    "credit_card_balance['AMT_BALANCE'] = replace_outliers_by_percentile(credit_card_balance, 'AMT_BALANCE', 99, True).values\n",
    "credit_card_balance['AMT_CREDIT_LIMIT_ACTUAL'] = replace_outliers_by_percentile(credit_card_balance, 'AMT_CREDIT_LIMIT_ACTUAL', 99).values\n",
    "credit_card_balance['AMT_DRAWINGS_ATM_CURRENT'] = replace_outliers_by_percentile(credit_card_balance, 'AMT_DRAWINGS_ATM_CURRENT', 99, True).values\n",
    "credit_card_balance['AMT_DRAWINGS_CURRENT'] = replace_outliers_by_percentile(credit_card_balance, 'AMT_DRAWINGS_CURRENT', 99, True).values\n",
    "credit_card_balance['AMT_DRAWINGS_OTHER_CURRENT'] = replace_outliers_by_percentile(credit_card_balance, 'AMT_DRAWINGS_OTHER_CURRENT', 99, True).values\n",
    "credit_card_balance['AMT_DRAWINGS_POS_CURRENT'] = replace_outliers_by_percentile(credit_card_balance, 'AMT_DRAWINGS_POS_CURRENT', 99, True).values"
   ]
  },
  {
   "cell_type": "code",
   "execution_count": 5,
   "metadata": {
    "ExecuteTime": {
     "end_time": "2018-06-25T20:12:10.407146Z",
     "start_time": "2018-06-25T20:12:03.694003Z"
    }
   },
   "outputs": [],
   "source": [
    "installments_payments.to_pickle(PATH + 'installments_payments_outliers_replaced.pkl')\n",
    "bureau.to_pickle(PATH + 'bureau_outliers_replaced.pkl')\n",
    "credit_card_balance.to_pickle(PATH + 'credit_card_balance_outliers_replaced.pkl')"
   ]
  },
  {
   "cell_type": "code",
   "execution_count": 8,
   "metadata": {
    "ExecuteTime": {
     "end_time": "2018-06-25T20:14:52.373069Z",
     "start_time": "2018-06-25T20:14:51.453279Z"
    }
   },
   "outputs": [
    {
     "data": {
      "text/html": [
       "<div>\n",
       "<style scoped>\n",
       "    .dataframe tbody tr th:only-of-type {\n",
       "        vertical-align: middle;\n",
       "    }\n",
       "\n",
       "    .dataframe tbody tr th {\n",
       "        vertical-align: top;\n",
       "    }\n",
       "\n",
       "    .dataframe thead th {\n",
       "        text-align: right;\n",
       "    }\n",
       "</style>\n",
       "<table border=\"1\" class=\"dataframe\">\n",
       "  <thead>\n",
       "    <tr style=\"text-align: right;\">\n",
       "      <th></th>\n",
       "      <th>SK_ID_PREV</th>\n",
       "      <th>SK_ID_CURR</th>\n",
       "      <th>MONTHS_BALANCE</th>\n",
       "      <th>AMT_BALANCE</th>\n",
       "      <th>AMT_CREDIT_LIMIT_ACTUAL</th>\n",
       "      <th>AMT_DRAWINGS_ATM_CURRENT</th>\n",
       "      <th>AMT_DRAWINGS_CURRENT</th>\n",
       "      <th>AMT_DRAWINGS_OTHER_CURRENT</th>\n",
       "      <th>AMT_DRAWINGS_POS_CURRENT</th>\n",
       "      <th>AMT_INST_MIN_REGULARITY</th>\n",
       "      <th>...</th>\n",
       "      <th>AMT_RECIVABLE</th>\n",
       "      <th>AMT_TOTAL_RECEIVABLE</th>\n",
       "      <th>CNT_DRAWINGS_ATM_CURRENT</th>\n",
       "      <th>CNT_DRAWINGS_CURRENT</th>\n",
       "      <th>CNT_DRAWINGS_OTHER_CURRENT</th>\n",
       "      <th>CNT_DRAWINGS_POS_CURRENT</th>\n",
       "      <th>CNT_INSTALMENT_MATURE_CUM</th>\n",
       "      <th>NAME_CONTRACT_STATUS</th>\n",
       "      <th>SK_DPD</th>\n",
       "      <th>SK_DPD_DEF</th>\n",
       "    </tr>\n",
       "  </thead>\n",
       "  <tbody>\n",
       "    <tr>\n",
       "      <th>132</th>\n",
       "      <td>2305805</td>\n",
       "      <td>184329</td>\n",
       "      <td>-6</td>\n",
       "      <td>624808.0935</td>\n",
       "      <td>765000.0</td>\n",
       "      <td>0.0</td>\n",
       "      <td>0.00000</td>\n",
       "      <td>0.0</td>\n",
       "      <td>0.000</td>\n",
       "      <td>42264.765</td>\n",
       "      <td>...</td>\n",
       "      <td>797553.000</td>\n",
       "      <td>797553.000</td>\n",
       "      <td>0.0</td>\n",
       "      <td>0</td>\n",
       "      <td>0.0</td>\n",
       "      <td>0.0</td>\n",
       "      <td>72.0</td>\n",
       "      <td>Active</td>\n",
       "      <td>0</td>\n",
       "      <td>0</td>\n",
       "    </tr>\n",
       "    <tr>\n",
       "      <th>157</th>\n",
       "      <td>2319650</td>\n",
       "      <td>377975</td>\n",
       "      <td>-2</td>\n",
       "      <td>624808.0935</td>\n",
       "      <td>765000.0</td>\n",
       "      <td>135000.0</td>\n",
       "      <td>193808.97000</td>\n",
       "      <td>0.0</td>\n",
       "      <td>58808.970</td>\n",
       "      <td>29565.135</td>\n",
       "      <td>...</td>\n",
       "      <td>761319.630</td>\n",
       "      <td>761319.630</td>\n",
       "      <td>3.0</td>\n",
       "      <td>33</td>\n",
       "      <td>0.0</td>\n",
       "      <td>30.0</td>\n",
       "      <td>10.0</td>\n",
       "      <td>Active</td>\n",
       "      <td>0</td>\n",
       "      <td>0</td>\n",
       "    </tr>\n",
       "    <tr>\n",
       "      <th>178</th>\n",
       "      <td>2318327</td>\n",
       "      <td>246513</td>\n",
       "      <td>-5</td>\n",
       "      <td>624808.0935</td>\n",
       "      <td>765000.0</td>\n",
       "      <td>0.0</td>\n",
       "      <td>0.00000</td>\n",
       "      <td>0.0</td>\n",
       "      <td>0.000</td>\n",
       "      <td>44696.655</td>\n",
       "      <td>...</td>\n",
       "      <td>879181.875</td>\n",
       "      <td>879181.875</td>\n",
       "      <td>0.0</td>\n",
       "      <td>0</td>\n",
       "      <td>0.0</td>\n",
       "      <td>0.0</td>\n",
       "      <td>16.0</td>\n",
       "      <td>Active</td>\n",
       "      <td>0</td>\n",
       "      <td>0</td>\n",
       "    </tr>\n",
       "    <tr>\n",
       "      <th>346</th>\n",
       "      <td>2138277</td>\n",
       "      <td>393333</td>\n",
       "      <td>-5</td>\n",
       "      <td>624808.0935</td>\n",
       "      <td>765000.0</td>\n",
       "      <td>0.0</td>\n",
       "      <td>31455.00000</td>\n",
       "      <td>0.0</td>\n",
       "      <td>31455.000</td>\n",
       "      <td>31750.065</td>\n",
       "      <td>...</td>\n",
       "      <td>632147.535</td>\n",
       "      <td>632147.535</td>\n",
       "      <td>0.0</td>\n",
       "      <td>1</td>\n",
       "      <td>0.0</td>\n",
       "      <td>1.0</td>\n",
       "      <td>21.0</td>\n",
       "      <td>Active</td>\n",
       "      <td>0</td>\n",
       "      <td>0</td>\n",
       "    </tr>\n",
       "    <tr>\n",
       "      <th>361</th>\n",
       "      <td>1768145</td>\n",
       "      <td>189339</td>\n",
       "      <td>-3</td>\n",
       "      <td>624808.0935</td>\n",
       "      <td>765000.0</td>\n",
       "      <td>0.0</td>\n",
       "      <td>93810.55500</td>\n",
       "      <td>0.0</td>\n",
       "      <td>93810.555</td>\n",
       "      <td>29285.550</td>\n",
       "      <td>...</td>\n",
       "      <td>706826.790</td>\n",
       "      <td>706826.790</td>\n",
       "      <td>0.0</td>\n",
       "      <td>47</td>\n",
       "      <td>0.0</td>\n",
       "      <td>47.0</td>\n",
       "      <td>27.0</td>\n",
       "      <td>Active</td>\n",
       "      <td>0</td>\n",
       "      <td>0</td>\n",
       "    </tr>\n",
       "    <tr>\n",
       "      <th>410</th>\n",
       "      <td>2379642</td>\n",
       "      <td>291656</td>\n",
       "      <td>-1</td>\n",
       "      <td>624808.0935</td>\n",
       "      <td>765000.0</td>\n",
       "      <td>0.0</td>\n",
       "      <td>46800.00000</td>\n",
       "      <td>46800.0</td>\n",
       "      <td>0.000</td>\n",
       "      <td>43091.775</td>\n",
       "      <td>...</td>\n",
       "      <td>865030.185</td>\n",
       "      <td>865030.185</td>\n",
       "      <td>0.0</td>\n",
       "      <td>1</td>\n",
       "      <td>1.0</td>\n",
       "      <td>0.0</td>\n",
       "      <td>15.0</td>\n",
       "      <td>Active</td>\n",
       "      <td>0</td>\n",
       "      <td>0</td>\n",
       "    </tr>\n",
       "    <tr>\n",
       "      <th>437</th>\n",
       "      <td>2100894</td>\n",
       "      <td>257275</td>\n",
       "      <td>-3</td>\n",
       "      <td>624808.0935</td>\n",
       "      <td>765000.0</td>\n",
       "      <td>0.0</td>\n",
       "      <td>12412.30500</td>\n",
       "      <td>0.0</td>\n",
       "      <td>12412.305</td>\n",
       "      <td>38782.845</td>\n",
       "      <td>...</td>\n",
       "      <td>761464.665</td>\n",
       "      <td>761464.665</td>\n",
       "      <td>0.0</td>\n",
       "      <td>3</td>\n",
       "      <td>0.0</td>\n",
       "      <td>3.0</td>\n",
       "      <td>18.0</td>\n",
       "      <td>Active</td>\n",
       "      <td>0</td>\n",
       "      <td>0</td>\n",
       "    </tr>\n",
       "    <tr>\n",
       "      <th>501</th>\n",
       "      <td>1152920</td>\n",
       "      <td>121820</td>\n",
       "      <td>-5</td>\n",
       "      <td>624808.0935</td>\n",
       "      <td>765000.0</td>\n",
       "      <td>0.0</td>\n",
       "      <td>352998.58275</td>\n",
       "      <td>0.0</td>\n",
       "      <td>286063.425</td>\n",
       "      <td>0.000</td>\n",
       "      <td>...</td>\n",
       "      <td>849309.165</td>\n",
       "      <td>849309.165</td>\n",
       "      <td>0.0</td>\n",
       "      <td>75</td>\n",
       "      <td>0.0</td>\n",
       "      <td>75.0</td>\n",
       "      <td>6.0</td>\n",
       "      <td>Active</td>\n",
       "      <td>0</td>\n",
       "      <td>0</td>\n",
       "    </tr>\n",
       "    <tr>\n",
       "      <th>543</th>\n",
       "      <td>2347453</td>\n",
       "      <td>199687</td>\n",
       "      <td>-1</td>\n",
       "      <td>624808.0935</td>\n",
       "      <td>675000.0</td>\n",
       "      <td>0.0</td>\n",
       "      <td>352998.58275</td>\n",
       "      <td>0.0</td>\n",
       "      <td>286063.425</td>\n",
       "      <td>12103.155</td>\n",
       "      <td>...</td>\n",
       "      <td>682960.995</td>\n",
       "      <td>682960.995</td>\n",
       "      <td>0.0</td>\n",
       "      <td>5</td>\n",
       "      <td>0.0</td>\n",
       "      <td>5.0</td>\n",
       "      <td>29.0</td>\n",
       "      <td>Active</td>\n",
       "      <td>0</td>\n",
       "      <td>0</td>\n",
       "    </tr>\n",
       "    <tr>\n",
       "      <th>589</th>\n",
       "      <td>1689007</td>\n",
       "      <td>188986</td>\n",
       "      <td>-5</td>\n",
       "      <td>624808.0935</td>\n",
       "      <td>765000.0</td>\n",
       "      <td>33750.0</td>\n",
       "      <td>33750.00000</td>\n",
       "      <td>0.0</td>\n",
       "      <td>0.000</td>\n",
       "      <td>35206.470</td>\n",
       "      <td>...</td>\n",
       "      <td>817525.125</td>\n",
       "      <td>817525.125</td>\n",
       "      <td>4.0</td>\n",
       "      <td>4</td>\n",
       "      <td>0.0</td>\n",
       "      <td>0.0</td>\n",
       "      <td>23.0</td>\n",
       "      <td>Active</td>\n",
       "      <td>0</td>\n",
       "      <td>0</td>\n",
       "    </tr>\n",
       "    <tr>\n",
       "      <th>674</th>\n",
       "      <td>2697696</td>\n",
       "      <td>356593</td>\n",
       "      <td>-1</td>\n",
       "      <td>624808.0935</td>\n",
       "      <td>765000.0</td>\n",
       "      <td>13500.0</td>\n",
       "      <td>13500.00000</td>\n",
       "      <td>0.0</td>\n",
       "      <td>0.000</td>\n",
       "      <td>45893.970</td>\n",
       "      <td>...</td>\n",
       "      <td>904392.405</td>\n",
       "      <td>904392.405</td>\n",
       "      <td>1.0</td>\n",
       "      <td>1</td>\n",
       "      <td>0.0</td>\n",
       "      <td>0.0</td>\n",
       "      <td>11.0</td>\n",
       "      <td>Active</td>\n",
       "      <td>0</td>\n",
       "      <td>0</td>\n",
       "    </tr>\n",
       "    <tr>\n",
       "      <th>713</th>\n",
       "      <td>1541340</td>\n",
       "      <td>252603</td>\n",
       "      <td>-7</td>\n",
       "      <td>624808.0935</td>\n",
       "      <td>765000.0</td>\n",
       "      <td>0.0</td>\n",
       "      <td>0.00000</td>\n",
       "      <td>0.0</td>\n",
       "      <td>0.000</td>\n",
       "      <td>46728.540</td>\n",
       "      <td>...</td>\n",
       "      <td>629990.910</td>\n",
       "      <td>629990.910</td>\n",
       "      <td>0.0</td>\n",
       "      <td>0</td>\n",
       "      <td>0.0</td>\n",
       "      <td>0.0</td>\n",
       "      <td>6.0</td>\n",
       "      <td>Active</td>\n",
       "      <td>0</td>\n",
       "      <td>0</td>\n",
       "    </tr>\n",
       "    <tr>\n",
       "      <th>744</th>\n",
       "      <td>2721448</td>\n",
       "      <td>360464</td>\n",
       "      <td>-1</td>\n",
       "      <td>624808.0935</td>\n",
       "      <td>765000.0</td>\n",
       "      <td>0.0</td>\n",
       "      <td>18630.00000</td>\n",
       "      <td>0.0</td>\n",
       "      <td>18630.000</td>\n",
       "      <td>46356.750</td>\n",
       "      <td>...</td>\n",
       "      <td>933656.625</td>\n",
       "      <td>933656.625</td>\n",
       "      <td>0.0</td>\n",
       "      <td>11</td>\n",
       "      <td>0.0</td>\n",
       "      <td>11.0</td>\n",
       "      <td>8.0</td>\n",
       "      <td>Active</td>\n",
       "      <td>0</td>\n",
       "      <td>0</td>\n",
       "    </tr>\n",
       "    <tr>\n",
       "      <th>755</th>\n",
       "      <td>2205298</td>\n",
       "      <td>272938</td>\n",
       "      <td>-6</td>\n",
       "      <td>624808.0935</td>\n",
       "      <td>765000.0</td>\n",
       "      <td>0.0</td>\n",
       "      <td>33011.86500</td>\n",
       "      <td>0.0</td>\n",
       "      <td>33011.865</td>\n",
       "      <td>37402.605</td>\n",
       "      <td>...</td>\n",
       "      <td>770832.405</td>\n",
       "      <td>770832.405</td>\n",
       "      <td>0.0</td>\n",
       "      <td>13</td>\n",
       "      <td>0.0</td>\n",
       "      <td>13.0</td>\n",
       "      <td>11.0</td>\n",
       "      <td>Active</td>\n",
       "      <td>0</td>\n",
       "      <td>0</td>\n",
       "    </tr>\n",
       "    <tr>\n",
       "      <th>777</th>\n",
       "      <td>2588773</td>\n",
       "      <td>384627</td>\n",
       "      <td>-1</td>\n",
       "      <td>624808.0935</td>\n",
       "      <td>765000.0</td>\n",
       "      <td>0.0</td>\n",
       "      <td>0.00000</td>\n",
       "      <td>0.0</td>\n",
       "      <td>0.000</td>\n",
       "      <td>43855.245</td>\n",
       "      <td>...</td>\n",
       "      <td>805196.475</td>\n",
       "      <td>805196.475</td>\n",
       "      <td>0.0</td>\n",
       "      <td>0</td>\n",
       "      <td>0.0</td>\n",
       "      <td>0.0</td>\n",
       "      <td>15.0</td>\n",
       "      <td>Active</td>\n",
       "      <td>0</td>\n",
       "      <td>0</td>\n",
       "    </tr>\n",
       "    <tr>\n",
       "      <th>781</th>\n",
       "      <td>2082709</td>\n",
       "      <td>205995</td>\n",
       "      <td>-6</td>\n",
       "      <td>624808.0935</td>\n",
       "      <td>765000.0</td>\n",
       "      <td>0.0</td>\n",
       "      <td>2245.50000</td>\n",
       "      <td>0.0</td>\n",
       "      <td>2245.500</td>\n",
       "      <td>38831.220</td>\n",
       "      <td>...</td>\n",
       "      <td>755341.425</td>\n",
       "      <td>755341.425</td>\n",
       "      <td>0.0</td>\n",
       "      <td>1</td>\n",
       "      <td>0.0</td>\n",
       "      <td>1.0</td>\n",
       "      <td>9.0</td>\n",
       "      <td>Active</td>\n",
       "      <td>0</td>\n",
       "      <td>0</td>\n",
       "    </tr>\n",
       "    <tr>\n",
       "      <th>807</th>\n",
       "      <td>2132358</td>\n",
       "      <td>239031</td>\n",
       "      <td>-6</td>\n",
       "      <td>624808.0935</td>\n",
       "      <td>675000.0</td>\n",
       "      <td>0.0</td>\n",
       "      <td>19831.05000</td>\n",
       "      <td>0.0</td>\n",
       "      <td>19831.050</td>\n",
       "      <td>33720.660</td>\n",
       "      <td>...</td>\n",
       "      <td>677721.465</td>\n",
       "      <td>677721.465</td>\n",
       "      <td>0.0</td>\n",
       "      <td>7</td>\n",
       "      <td>0.0</td>\n",
       "      <td>7.0</td>\n",
       "      <td>20.0</td>\n",
       "      <td>Active</td>\n",
       "      <td>0</td>\n",
       "      <td>0</td>\n",
       "    </tr>\n",
       "    <tr>\n",
       "      <th>923</th>\n",
       "      <td>2313144</td>\n",
       "      <td>447600</td>\n",
       "      <td>-7</td>\n",
       "      <td>624808.0935</td>\n",
       "      <td>675000.0</td>\n",
       "      <td>4500.0</td>\n",
       "      <td>17460.00000</td>\n",
       "      <td>0.0</td>\n",
       "      <td>12960.000</td>\n",
       "      <td>34522.155</td>\n",
       "      <td>...</td>\n",
       "      <td>688337.010</td>\n",
       "      <td>688337.010</td>\n",
       "      <td>1.0</td>\n",
       "      <td>3</td>\n",
       "      <td>0.0</td>\n",
       "      <td>2.0</td>\n",
       "      <td>2.0</td>\n",
       "      <td>Active</td>\n",
       "      <td>0</td>\n",
       "      <td>0</td>\n",
       "    </tr>\n",
       "    <tr>\n",
       "      <th>976</th>\n",
       "      <td>1727561</td>\n",
       "      <td>100218</td>\n",
       "      <td>-4</td>\n",
       "      <td>624808.0935</td>\n",
       "      <td>720000.0</td>\n",
       "      <td>0.0</td>\n",
       "      <td>21073.90500</td>\n",
       "      <td>0.0</td>\n",
       "      <td>21073.905</td>\n",
       "      <td>36990.450</td>\n",
       "      <td>...</td>\n",
       "      <td>741427.740</td>\n",
       "      <td>741427.740</td>\n",
       "      <td>0.0</td>\n",
       "      <td>8</td>\n",
       "      <td>0.0</td>\n",
       "      <td>8.0</td>\n",
       "      <td>8.0</td>\n",
       "      <td>Active</td>\n",
       "      <td>0</td>\n",
       "      <td>0</td>\n",
       "    </tr>\n",
       "    <tr>\n",
       "      <th>1182</th>\n",
       "      <td>1107245</td>\n",
       "      <td>155919</td>\n",
       "      <td>-6</td>\n",
       "      <td>624808.0935</td>\n",
       "      <td>675000.0</td>\n",
       "      <td>4500.0</td>\n",
       "      <td>5850.00000</td>\n",
       "      <td>0.0</td>\n",
       "      <td>1350.000</td>\n",
       "      <td>34868.565</td>\n",
       "      <td>...</td>\n",
       "      <td>638048.025</td>\n",
       "      <td>638048.025</td>\n",
       "      <td>1.0</td>\n",
       "      <td>2</td>\n",
       "      <td>0.0</td>\n",
       "      <td>1.0</td>\n",
       "      <td>21.0</td>\n",
       "      <td>Active</td>\n",
       "      <td>0</td>\n",
       "      <td>0</td>\n",
       "    </tr>\n",
       "    <tr>\n",
       "      <th>1367</th>\n",
       "      <td>2029484</td>\n",
       "      <td>329723</td>\n",
       "      <td>-2</td>\n",
       "      <td>624808.0935</td>\n",
       "      <td>675000.0</td>\n",
       "      <td>56250.0</td>\n",
       "      <td>59512.50000</td>\n",
       "      <td>0.0</td>\n",
       "      <td>3262.500</td>\n",
       "      <td>32034.420</td>\n",
       "      <td>...</td>\n",
       "      <td>677907.135</td>\n",
       "      <td>677907.135</td>\n",
       "      <td>1.0</td>\n",
       "      <td>2</td>\n",
       "      <td>0.0</td>\n",
       "      <td>1.0</td>\n",
       "      <td>5.0</td>\n",
       "      <td>Active</td>\n",
       "      <td>0</td>\n",
       "      <td>0</td>\n",
       "    </tr>\n",
       "    <tr>\n",
       "      <th>1583</th>\n",
       "      <td>2802918</td>\n",
       "      <td>377555</td>\n",
       "      <td>-1</td>\n",
       "      <td>624808.0935</td>\n",
       "      <td>675000.0</td>\n",
       "      <td>0.0</td>\n",
       "      <td>10543.50000</td>\n",
       "      <td>0.0</td>\n",
       "      <td>10543.500</td>\n",
       "      <td>35021.025</td>\n",
       "      <td>...</td>\n",
       "      <td>705370.455</td>\n",
       "      <td>705370.455</td>\n",
       "      <td>0.0</td>\n",
       "      <td>8</td>\n",
       "      <td>0.0</td>\n",
       "      <td>8.0</td>\n",
       "      <td>10.0</td>\n",
       "      <td>Active</td>\n",
       "      <td>0</td>\n",
       "      <td>0</td>\n",
       "    </tr>\n",
       "    <tr>\n",
       "      <th>1688</th>\n",
       "      <td>1510579</td>\n",
       "      <td>341658</td>\n",
       "      <td>-5</td>\n",
       "      <td>624808.0935</td>\n",
       "      <td>765000.0</td>\n",
       "      <td>0.0</td>\n",
       "      <td>0.00000</td>\n",
       "      <td>0.0</td>\n",
       "      <td>0.000</td>\n",
       "      <td>36384.165</td>\n",
       "      <td>...</td>\n",
       "      <td>716181.615</td>\n",
       "      <td>716181.615</td>\n",
       "      <td>0.0</td>\n",
       "      <td>0</td>\n",
       "      <td>0.0</td>\n",
       "      <td>0.0</td>\n",
       "      <td>14.0</td>\n",
       "      <td>Active</td>\n",
       "      <td>0</td>\n",
       "      <td>0</td>\n",
       "    </tr>\n",
       "    <tr>\n",
       "      <th>1703</th>\n",
       "      <td>1675839</td>\n",
       "      <td>260612</td>\n",
       "      <td>-3</td>\n",
       "      <td>624808.0935</td>\n",
       "      <td>765000.0</td>\n",
       "      <td>0.0</td>\n",
       "      <td>11731.86000</td>\n",
       "      <td>0.0</td>\n",
       "      <td>11731.860</td>\n",
       "      <td>39114.045</td>\n",
       "      <td>...</td>\n",
       "      <td>770339.835</td>\n",
       "      <td>770339.835</td>\n",
       "      <td>0.0</td>\n",
       "      <td>13</td>\n",
       "      <td>0.0</td>\n",
       "      <td>13.0</td>\n",
       "      <td>9.0</td>\n",
       "      <td>Active</td>\n",
       "      <td>0</td>\n",
       "      <td>0</td>\n",
       "    </tr>\n",
       "    <tr>\n",
       "      <th>1752</th>\n",
       "      <td>2403117</td>\n",
       "      <td>327117</td>\n",
       "      <td>-3</td>\n",
       "      <td>624808.0935</td>\n",
       "      <td>765000.0</td>\n",
       "      <td>81000.0</td>\n",
       "      <td>82487.25000</td>\n",
       "      <td>0.0</td>\n",
       "      <td>1487.250</td>\n",
       "      <td>35357.985</td>\n",
       "      <td>...</td>\n",
       "      <td>734980.545</td>\n",
       "      <td>734980.545</td>\n",
       "      <td>2.0</td>\n",
       "      <td>3</td>\n",
       "      <td>0.0</td>\n",
       "      <td>1.0</td>\n",
       "      <td>23.0</td>\n",
       "      <td>Active</td>\n",
       "      <td>0</td>\n",
       "      <td>0</td>\n",
       "    </tr>\n",
       "    <tr>\n",
       "      <th>1923</th>\n",
       "      <td>2284208</td>\n",
       "      <td>327474</td>\n",
       "      <td>-3</td>\n",
       "      <td>624808.0935</td>\n",
       "      <td>765000.0</td>\n",
       "      <td>299250.0</td>\n",
       "      <td>352998.58275</td>\n",
       "      <td>0.0</td>\n",
       "      <td>51188.760</td>\n",
       "      <td>20011.185</td>\n",
       "      <td>...</td>\n",
       "      <td>893202.930</td>\n",
       "      <td>893202.930</td>\n",
       "      <td>9.0</td>\n",
       "      <td>21</td>\n",
       "      <td>0.0</td>\n",
       "      <td>12.0</td>\n",
       "      <td>5.0</td>\n",
       "      <td>Active</td>\n",
       "      <td>0</td>\n",
       "      <td>0</td>\n",
       "    </tr>\n",
       "    <tr>\n",
       "      <th>1998</th>\n",
       "      <td>1025768</td>\n",
       "      <td>284790</td>\n",
       "      <td>-1</td>\n",
       "      <td>624808.0935</td>\n",
       "      <td>765000.0</td>\n",
       "      <td>0.0</td>\n",
       "      <td>2925.00000</td>\n",
       "      <td>0.0</td>\n",
       "      <td>2925.000</td>\n",
       "      <td>38801.205</td>\n",
       "      <td>...</td>\n",
       "      <td>769774.050</td>\n",
       "      <td>769774.050</td>\n",
       "      <td>0.0</td>\n",
       "      <td>1</td>\n",
       "      <td>0.0</td>\n",
       "      <td>1.0</td>\n",
       "      <td>19.0</td>\n",
       "      <td>Active</td>\n",
       "      <td>0</td>\n",
       "      <td>0</td>\n",
       "    </tr>\n",
       "    <tr>\n",
       "      <th>2009</th>\n",
       "      <td>1176158</td>\n",
       "      <td>355944</td>\n",
       "      <td>-4</td>\n",
       "      <td>624808.0935</td>\n",
       "      <td>765000.0</td>\n",
       "      <td>0.0</td>\n",
       "      <td>0.00000</td>\n",
       "      <td>0.0</td>\n",
       "      <td>0.000</td>\n",
       "      <td>39033.090</td>\n",
       "      <td>...</td>\n",
       "      <td>748734.255</td>\n",
       "      <td>748734.255</td>\n",
       "      <td>0.0</td>\n",
       "      <td>0</td>\n",
       "      <td>0.0</td>\n",
       "      <td>0.0</td>\n",
       "      <td>19.0</td>\n",
       "      <td>Active</td>\n",
       "      <td>0</td>\n",
       "      <td>0</td>\n",
       "    </tr>\n",
       "    <tr>\n",
       "      <th>2100</th>\n",
       "      <td>2509627</td>\n",
       "      <td>215567</td>\n",
       "      <td>-1</td>\n",
       "      <td>624808.0935</td>\n",
       "      <td>765000.0</td>\n",
       "      <td>0.0</td>\n",
       "      <td>0.00000</td>\n",
       "      <td>0.0</td>\n",
       "      <td>0.000</td>\n",
       "      <td>39496.590</td>\n",
       "      <td>...</td>\n",
       "      <td>695156.400</td>\n",
       "      <td>695156.400</td>\n",
       "      <td>0.0</td>\n",
       "      <td>0</td>\n",
       "      <td>0.0</td>\n",
       "      <td>0.0</td>\n",
       "      <td>17.0</td>\n",
       "      <td>Active</td>\n",
       "      <td>0</td>\n",
       "      <td>0</td>\n",
       "    </tr>\n",
       "    <tr>\n",
       "      <th>2536</th>\n",
       "      <td>2241016</td>\n",
       "      <td>170103</td>\n",
       "      <td>-4</td>\n",
       "      <td>624808.0935</td>\n",
       "      <td>675000.0</td>\n",
       "      <td>13500.0</td>\n",
       "      <td>13500.00000</td>\n",
       "      <td>0.0</td>\n",
       "      <td>0.000</td>\n",
       "      <td>33958.890</td>\n",
       "      <td>...</td>\n",
       "      <td>674942.535</td>\n",
       "      <td>674942.535</td>\n",
       "      <td>1.0</td>\n",
       "      <td>1</td>\n",
       "      <td>0.0</td>\n",
       "      <td>0.0</td>\n",
       "      <td>24.0</td>\n",
       "      <td>Active</td>\n",
       "      <td>0</td>\n",
       "      <td>0</td>\n",
       "    </tr>\n",
       "    <tr>\n",
       "      <th>...</th>\n",
       "      <td>...</td>\n",
       "      <td>...</td>\n",
       "      <td>...</td>\n",
       "      <td>...</td>\n",
       "      <td>...</td>\n",
       "      <td>...</td>\n",
       "      <td>...</td>\n",
       "      <td>...</td>\n",
       "      <td>...</td>\n",
       "      <td>...</td>\n",
       "      <td>...</td>\n",
       "      <td>...</td>\n",
       "      <td>...</td>\n",
       "      <td>...</td>\n",
       "      <td>...</td>\n",
       "      <td>...</td>\n",
       "      <td>...</td>\n",
       "      <td>...</td>\n",
       "      <td>...</td>\n",
       "      <td>...</td>\n",
       "      <td>...</td>\n",
       "    </tr>\n",
       "    <tr>\n",
       "      <th>3828008</th>\n",
       "      <td>1797805</td>\n",
       "      <td>307199</td>\n",
       "      <td>-17</td>\n",
       "      <td>624808.0935</td>\n",
       "      <td>765000.0</td>\n",
       "      <td>0.0</td>\n",
       "      <td>0.00000</td>\n",
       "      <td>0.0</td>\n",
       "      <td>0.000</td>\n",
       "      <td>36402.075</td>\n",
       "      <td>...</td>\n",
       "      <td>709494.705</td>\n",
       "      <td>709494.705</td>\n",
       "      <td>0.0</td>\n",
       "      <td>0</td>\n",
       "      <td>0.0</td>\n",
       "      <td>0.0</td>\n",
       "      <td>6.0</td>\n",
       "      <td>Active</td>\n",
       "      <td>0</td>\n",
       "      <td>0</td>\n",
       "    </tr>\n",
       "    <tr>\n",
       "      <th>3828066</th>\n",
       "      <td>1894140</td>\n",
       "      <td>137644</td>\n",
       "      <td>-7</td>\n",
       "      <td>624808.0935</td>\n",
       "      <td>765000.0</td>\n",
       "      <td>9000.0</td>\n",
       "      <td>9000.00000</td>\n",
       "      <td>0.0</td>\n",
       "      <td>0.000</td>\n",
       "      <td>39650.490</td>\n",
       "      <td>...</td>\n",
       "      <td>882160.245</td>\n",
       "      <td>882160.245</td>\n",
       "      <td>1.0</td>\n",
       "      <td>1</td>\n",
       "      <td>0.0</td>\n",
       "      <td>0.0</td>\n",
       "      <td>5.0</td>\n",
       "      <td>Active</td>\n",
       "      <td>0</td>\n",
       "      <td>0</td>\n",
       "    </tr>\n",
       "    <tr>\n",
       "      <th>3828178</th>\n",
       "      <td>1798739</td>\n",
       "      <td>372443</td>\n",
       "      <td>-13</td>\n",
       "      <td>624808.0935</td>\n",
       "      <td>675000.0</td>\n",
       "      <td>18000.0</td>\n",
       "      <td>24693.75000</td>\n",
       "      <td>0.0</td>\n",
       "      <td>6693.750</td>\n",
       "      <td>34222.185</td>\n",
       "      <td>...</td>\n",
       "      <td>693655.740</td>\n",
       "      <td>693655.740</td>\n",
       "      <td>1.0</td>\n",
       "      <td>6</td>\n",
       "      <td>0.0</td>\n",
       "      <td>5.0</td>\n",
       "      <td>10.0</td>\n",
       "      <td>Active</td>\n",
       "      <td>0</td>\n",
       "      <td>0</td>\n",
       "    </tr>\n",
       "    <tr>\n",
       "      <th>3828180</th>\n",
       "      <td>1060442</td>\n",
       "      <td>441411</td>\n",
       "      <td>-14</td>\n",
       "      <td>624808.0935</td>\n",
       "      <td>675000.0</td>\n",
       "      <td>0.0</td>\n",
       "      <td>0.00000</td>\n",
       "      <td>0.0</td>\n",
       "      <td>0.000</td>\n",
       "      <td>34949.655</td>\n",
       "      <td>...</td>\n",
       "      <td>665282.070</td>\n",
       "      <td>665282.070</td>\n",
       "      <td>0.0</td>\n",
       "      <td>0</td>\n",
       "      <td>0.0</td>\n",
       "      <td>0.0</td>\n",
       "      <td>8.0</td>\n",
       "      <td>Active</td>\n",
       "      <td>0</td>\n",
       "      <td>0</td>\n",
       "    </tr>\n",
       "    <tr>\n",
       "      <th>3828305</th>\n",
       "      <td>1701342</td>\n",
       "      <td>394129</td>\n",
       "      <td>-11</td>\n",
       "      <td>624808.0935</td>\n",
       "      <td>720000.0</td>\n",
       "      <td>0.0</td>\n",
       "      <td>0.00000</td>\n",
       "      <td>0.0</td>\n",
       "      <td>0.000</td>\n",
       "      <td>32657.715</td>\n",
       "      <td>...</td>\n",
       "      <td>638890.965</td>\n",
       "      <td>638890.965</td>\n",
       "      <td>0.0</td>\n",
       "      <td>0</td>\n",
       "      <td>0.0</td>\n",
       "      <td>0.0</td>\n",
       "      <td>14.0</td>\n",
       "      <td>Active</td>\n",
       "      <td>0</td>\n",
       "      <td>0</td>\n",
       "    </tr>\n",
       "    <tr>\n",
       "      <th>3828452</th>\n",
       "      <td>1067340</td>\n",
       "      <td>105338</td>\n",
       "      <td>-14</td>\n",
       "      <td>624808.0935</td>\n",
       "      <td>765000.0</td>\n",
       "      <td>99000.0</td>\n",
       "      <td>112491.00000</td>\n",
       "      <td>0.0</td>\n",
       "      <td>13491.000</td>\n",
       "      <td>36582.570</td>\n",
       "      <td>...</td>\n",
       "      <td>845388.180</td>\n",
       "      <td>845388.180</td>\n",
       "      <td>7.0</td>\n",
       "      <td>8</td>\n",
       "      <td>0.0</td>\n",
       "      <td>1.0</td>\n",
       "      <td>7.0</td>\n",
       "      <td>Active</td>\n",
       "      <td>0</td>\n",
       "      <td>0</td>\n",
       "    </tr>\n",
       "    <tr>\n",
       "      <th>3828455</th>\n",
       "      <td>2790516</td>\n",
       "      <td>172453</td>\n",
       "      <td>-8</td>\n",
       "      <td>624808.0935</td>\n",
       "      <td>765000.0</td>\n",
       "      <td>0.0</td>\n",
       "      <td>15705.00000</td>\n",
       "      <td>0.0</td>\n",
       "      <td>15705.000</td>\n",
       "      <td>38643.660</td>\n",
       "      <td>...</td>\n",
       "      <td>745348.410</td>\n",
       "      <td>745348.410</td>\n",
       "      <td>0.0</td>\n",
       "      <td>2</td>\n",
       "      <td>0.0</td>\n",
       "      <td>2.0</td>\n",
       "      <td>2.0</td>\n",
       "      <td>Active</td>\n",
       "      <td>0</td>\n",
       "      <td>0</td>\n",
       "    </tr>\n",
       "    <tr>\n",
       "      <th>3828532</th>\n",
       "      <td>1614059</td>\n",
       "      <td>172570</td>\n",
       "      <td>-16</td>\n",
       "      <td>624808.0935</td>\n",
       "      <td>765000.0</td>\n",
       "      <td>0.0</td>\n",
       "      <td>0.00000</td>\n",
       "      <td>0.0</td>\n",
       "      <td>0.000</td>\n",
       "      <td>37014.075</td>\n",
       "      <td>...</td>\n",
       "      <td>694581.075</td>\n",
       "      <td>694581.075</td>\n",
       "      <td>0.0</td>\n",
       "      <td>0</td>\n",
       "      <td>0.0</td>\n",
       "      <td>0.0</td>\n",
       "      <td>9.0</td>\n",
       "      <td>Active</td>\n",
       "      <td>0</td>\n",
       "      <td>0</td>\n",
       "    </tr>\n",
       "    <tr>\n",
       "      <th>3828546</th>\n",
       "      <td>1361297</td>\n",
       "      <td>134430</td>\n",
       "      <td>-10</td>\n",
       "      <td>624808.0935</td>\n",
       "      <td>720000.0</td>\n",
       "      <td>0.0</td>\n",
       "      <td>0.00000</td>\n",
       "      <td>0.0</td>\n",
       "      <td>0.000</td>\n",
       "      <td>36669.060</td>\n",
       "      <td>...</td>\n",
       "      <td>718243.470</td>\n",
       "      <td>718243.470</td>\n",
       "      <td>0.0</td>\n",
       "      <td>0</td>\n",
       "      <td>0.0</td>\n",
       "      <td>0.0</td>\n",
       "      <td>6.0</td>\n",
       "      <td>Active</td>\n",
       "      <td>0</td>\n",
       "      <td>0</td>\n",
       "    </tr>\n",
       "    <tr>\n",
       "      <th>3828607</th>\n",
       "      <td>1238288</td>\n",
       "      <td>299843</td>\n",
       "      <td>-13</td>\n",
       "      <td>624808.0935</td>\n",
       "      <td>765000.0</td>\n",
       "      <td>0.0</td>\n",
       "      <td>0.00000</td>\n",
       "      <td>0.0</td>\n",
       "      <td>0.000</td>\n",
       "      <td>37735.200</td>\n",
       "      <td>...</td>\n",
       "      <td>728196.210</td>\n",
       "      <td>728196.210</td>\n",
       "      <td>0.0</td>\n",
       "      <td>0</td>\n",
       "      <td>0.0</td>\n",
       "      <td>0.0</td>\n",
       "      <td>13.0</td>\n",
       "      <td>Active</td>\n",
       "      <td>0</td>\n",
       "      <td>0</td>\n",
       "    </tr>\n",
       "    <tr>\n",
       "      <th>3828677</th>\n",
       "      <td>2521731</td>\n",
       "      <td>186944</td>\n",
       "      <td>-16</td>\n",
       "      <td>624808.0935</td>\n",
       "      <td>765000.0</td>\n",
       "      <td>2700.0</td>\n",
       "      <td>14745.60000</td>\n",
       "      <td>0.0</td>\n",
       "      <td>12045.600</td>\n",
       "      <td>39512.655</td>\n",
       "      <td>...</td>\n",
       "      <td>729843.120</td>\n",
       "      <td>729843.120</td>\n",
       "      <td>1.0</td>\n",
       "      <td>5</td>\n",
       "      <td>0.0</td>\n",
       "      <td>4.0</td>\n",
       "      <td>9.0</td>\n",
       "      <td>Active</td>\n",
       "      <td>0</td>\n",
       "      <td>0</td>\n",
       "    </tr>\n",
       "    <tr>\n",
       "      <th>3832618</th>\n",
       "      <td>1360925</td>\n",
       "      <td>231355</td>\n",
       "      <td>-23</td>\n",
       "      <td>624808.0935</td>\n",
       "      <td>765000.0</td>\n",
       "      <td>0.0</td>\n",
       "      <td>0.00000</td>\n",
       "      <td>0.0</td>\n",
       "      <td>0.000</td>\n",
       "      <td>43420.050</td>\n",
       "      <td>...</td>\n",
       "      <td>850547.070</td>\n",
       "      <td>850547.070</td>\n",
       "      <td>0.0</td>\n",
       "      <td>0</td>\n",
       "      <td>0.0</td>\n",
       "      <td>0.0</td>\n",
       "      <td>5.0</td>\n",
       "      <td>Active</td>\n",
       "      <td>0</td>\n",
       "      <td>0</td>\n",
       "    </tr>\n",
       "    <tr>\n",
       "      <th>3832678</th>\n",
       "      <td>1092353</td>\n",
       "      <td>337028</td>\n",
       "      <td>-23</td>\n",
       "      <td>624808.0935</td>\n",
       "      <td>765000.0</td>\n",
       "      <td>9450.0</td>\n",
       "      <td>9450.00000</td>\n",
       "      <td>0.0</td>\n",
       "      <td>0.000</td>\n",
       "      <td>39788.505</td>\n",
       "      <td>...</td>\n",
       "      <td>762627.600</td>\n",
       "      <td>762627.600</td>\n",
       "      <td>2.0</td>\n",
       "      <td>2</td>\n",
       "      <td>0.0</td>\n",
       "      <td>0.0</td>\n",
       "      <td>4.0</td>\n",
       "      <td>Active</td>\n",
       "      <td>0</td>\n",
       "      <td>0</td>\n",
       "    </tr>\n",
       "    <tr>\n",
       "      <th>3832680</th>\n",
       "      <td>1204989</td>\n",
       "      <td>288222</td>\n",
       "      <td>-22</td>\n",
       "      <td>624808.0935</td>\n",
       "      <td>765000.0</td>\n",
       "      <td>18000.0</td>\n",
       "      <td>18000.00000</td>\n",
       "      <td>0.0</td>\n",
       "      <td>0.000</td>\n",
       "      <td>37225.035</td>\n",
       "      <td>...</td>\n",
       "      <td>748253.880</td>\n",
       "      <td>748253.880</td>\n",
       "      <td>2.0</td>\n",
       "      <td>2</td>\n",
       "      <td>0.0</td>\n",
       "      <td>0.0</td>\n",
       "      <td>5.0</td>\n",
       "      <td>Active</td>\n",
       "      <td>0</td>\n",
       "      <td>0</td>\n",
       "    </tr>\n",
       "    <tr>\n",
       "      <th>3832710</th>\n",
       "      <td>2216741</td>\n",
       "      <td>204076</td>\n",
       "      <td>-25</td>\n",
       "      <td>624808.0935</td>\n",
       "      <td>765000.0</td>\n",
       "      <td>27000.0</td>\n",
       "      <td>27000.00000</td>\n",
       "      <td>0.0</td>\n",
       "      <td>0.000</td>\n",
       "      <td>38842.785</td>\n",
       "      <td>...</td>\n",
       "      <td>769847.490</td>\n",
       "      <td>769847.490</td>\n",
       "      <td>2.0</td>\n",
       "      <td>2</td>\n",
       "      <td>0.0</td>\n",
       "      <td>0.0</td>\n",
       "      <td>6.0</td>\n",
       "      <td>Active</td>\n",
       "      <td>0</td>\n",
       "      <td>0</td>\n",
       "    </tr>\n",
       "    <tr>\n",
       "      <th>3839234</th>\n",
       "      <td>1596337</td>\n",
       "      <td>116438</td>\n",
       "      <td>-20</td>\n",
       "      <td>624808.0935</td>\n",
       "      <td>765000.0</td>\n",
       "      <td>0.0</td>\n",
       "      <td>352998.58275</td>\n",
       "      <td>0.0</td>\n",
       "      <td>286063.425</td>\n",
       "      <td>0.000</td>\n",
       "      <td>...</td>\n",
       "      <td>720000.000</td>\n",
       "      <td>720000.000</td>\n",
       "      <td>0.0</td>\n",
       "      <td>2</td>\n",
       "      <td>0.0</td>\n",
       "      <td>2.0</td>\n",
       "      <td>0.0</td>\n",
       "      <td>Active</td>\n",
       "      <td>0</td>\n",
       "      <td>0</td>\n",
       "    </tr>\n",
       "    <tr>\n",
       "      <th>3839685</th>\n",
       "      <td>2791115</td>\n",
       "      <td>419864</td>\n",
       "      <td>-7</td>\n",
       "      <td>624808.0935</td>\n",
       "      <td>765000.0</td>\n",
       "      <td>45000.0</td>\n",
       "      <td>66911.71500</td>\n",
       "      <td>0.0</td>\n",
       "      <td>21911.715</td>\n",
       "      <td>36530.010</td>\n",
       "      <td>...</td>\n",
       "      <td>779378.490</td>\n",
       "      <td>779378.490</td>\n",
       "      <td>1.0</td>\n",
       "      <td>6</td>\n",
       "      <td>0.0</td>\n",
       "      <td>5.0</td>\n",
       "      <td>3.0</td>\n",
       "      <td>Active</td>\n",
       "      <td>0</td>\n",
       "      <td>0</td>\n",
       "    </tr>\n",
       "    <tr>\n",
       "      <th>3839731</th>\n",
       "      <td>2594289</td>\n",
       "      <td>169100</td>\n",
       "      <td>-10</td>\n",
       "      <td>624808.0935</td>\n",
       "      <td>765000.0</td>\n",
       "      <td>0.0</td>\n",
       "      <td>0.00000</td>\n",
       "      <td>0.0</td>\n",
       "      <td>0.000</td>\n",
       "      <td>44777.925</td>\n",
       "      <td>...</td>\n",
       "      <td>869693.985</td>\n",
       "      <td>869693.985</td>\n",
       "      <td>0.0</td>\n",
       "      <td>0</td>\n",
       "      <td>0.0</td>\n",
       "      <td>0.0</td>\n",
       "      <td>8.0</td>\n",
       "      <td>Active</td>\n",
       "      <td>0</td>\n",
       "      <td>0</td>\n",
       "    </tr>\n",
       "    <tr>\n",
       "      <th>3839735</th>\n",
       "      <td>2440052</td>\n",
       "      <td>151348</td>\n",
       "      <td>-16</td>\n",
       "      <td>624808.0935</td>\n",
       "      <td>765000.0</td>\n",
       "      <td>0.0</td>\n",
       "      <td>0.00000</td>\n",
       "      <td>0.0</td>\n",
       "      <td>0.000</td>\n",
       "      <td>37897.515</td>\n",
       "      <td>...</td>\n",
       "      <td>727101.855</td>\n",
       "      <td>727101.855</td>\n",
       "      <td>0.0</td>\n",
       "      <td>0</td>\n",
       "      <td>0.0</td>\n",
       "      <td>0.0</td>\n",
       "      <td>8.0</td>\n",
       "      <td>Active</td>\n",
       "      <td>0</td>\n",
       "      <td>0</td>\n",
       "    </tr>\n",
       "    <tr>\n",
       "      <th>3839773</th>\n",
       "      <td>2299622</td>\n",
       "      <td>335836</td>\n",
       "      <td>-10</td>\n",
       "      <td>624808.0935</td>\n",
       "      <td>675000.0</td>\n",
       "      <td>0.0</td>\n",
       "      <td>0.00000</td>\n",
       "      <td>0.0</td>\n",
       "      <td>0.000</td>\n",
       "      <td>33568.155</td>\n",
       "      <td>...</td>\n",
       "      <td>660961.935</td>\n",
       "      <td>660961.935</td>\n",
       "      <td>0.0</td>\n",
       "      <td>0</td>\n",
       "      <td>0.0</td>\n",
       "      <td>0.0</td>\n",
       "      <td>2.0</td>\n",
       "      <td>Active</td>\n",
       "      <td>0</td>\n",
       "      <td>0</td>\n",
       "    </tr>\n",
       "    <tr>\n",
       "      <th>3839831</th>\n",
       "      <td>1950719</td>\n",
       "      <td>152028</td>\n",
       "      <td>-10</td>\n",
       "      <td>624808.0935</td>\n",
       "      <td>765000.0</td>\n",
       "      <td>22500.0</td>\n",
       "      <td>22500.00000</td>\n",
       "      <td>0.0</td>\n",
       "      <td>0.000</td>\n",
       "      <td>33237.270</td>\n",
       "      <td>...</td>\n",
       "      <td>667944.720</td>\n",
       "      <td>667944.720</td>\n",
       "      <td>2.0</td>\n",
       "      <td>2</td>\n",
       "      <td>0.0</td>\n",
       "      <td>0.0</td>\n",
       "      <td>5.0</td>\n",
       "      <td>Active</td>\n",
       "      <td>0</td>\n",
       "      <td>0</td>\n",
       "    </tr>\n",
       "    <tr>\n",
       "      <th>3839915</th>\n",
       "      <td>2000431</td>\n",
       "      <td>295347</td>\n",
       "      <td>-7</td>\n",
       "      <td>624808.0935</td>\n",
       "      <td>765000.0</td>\n",
       "      <td>18000.0</td>\n",
       "      <td>18000.00000</td>\n",
       "      <td>0.0</td>\n",
       "      <td>0.000</td>\n",
       "      <td>39257.415</td>\n",
       "      <td>...</td>\n",
       "      <td>790885.305</td>\n",
       "      <td>790885.305</td>\n",
       "      <td>1.0</td>\n",
       "      <td>1</td>\n",
       "      <td>0.0</td>\n",
       "      <td>0.0</td>\n",
       "      <td>6.0</td>\n",
       "      <td>Active</td>\n",
       "      <td>0</td>\n",
       "      <td>0</td>\n",
       "    </tr>\n",
       "    <tr>\n",
       "      <th>3839921</th>\n",
       "      <td>2768673</td>\n",
       "      <td>366690</td>\n",
       "      <td>-11</td>\n",
       "      <td>624808.0935</td>\n",
       "      <td>765000.0</td>\n",
       "      <td>11250.0</td>\n",
       "      <td>11250.00000</td>\n",
       "      <td>0.0</td>\n",
       "      <td>0.000</td>\n",
       "      <td>39600.315</td>\n",
       "      <td>...</td>\n",
       "      <td>786393.315</td>\n",
       "      <td>786393.315</td>\n",
       "      <td>1.0</td>\n",
       "      <td>1</td>\n",
       "      <td>0.0</td>\n",
       "      <td>0.0</td>\n",
       "      <td>6.0</td>\n",
       "      <td>Active</td>\n",
       "      <td>0</td>\n",
       "      <td>0</td>\n",
       "    </tr>\n",
       "    <tr>\n",
       "      <th>3840053</th>\n",
       "      <td>1110934</td>\n",
       "      <td>165723</td>\n",
       "      <td>-9</td>\n",
       "      <td>624808.0935</td>\n",
       "      <td>675000.0</td>\n",
       "      <td>173250.0</td>\n",
       "      <td>173250.00000</td>\n",
       "      <td>0.0</td>\n",
       "      <td>0.000</td>\n",
       "      <td>17110.035</td>\n",
       "      <td>...</td>\n",
       "      <td>623007.045</td>\n",
       "      <td>623007.045</td>\n",
       "      <td>10.0</td>\n",
       "      <td>10</td>\n",
       "      <td>0.0</td>\n",
       "      <td>0.0</td>\n",
       "      <td>2.0</td>\n",
       "      <td>Active</td>\n",
       "      <td>0</td>\n",
       "      <td>0</td>\n",
       "    </tr>\n",
       "    <tr>\n",
       "      <th>3840112</th>\n",
       "      <td>1395554</td>\n",
       "      <td>136880</td>\n",
       "      <td>-14</td>\n",
       "      <td>624808.0935</td>\n",
       "      <td>765000.0</td>\n",
       "      <td>81000.0</td>\n",
       "      <td>81000.00000</td>\n",
       "      <td>0.0</td>\n",
       "      <td>0.000</td>\n",
       "      <td>28194.705</td>\n",
       "      <td>...</td>\n",
       "      <td>713347.695</td>\n",
       "      <td>713347.695</td>\n",
       "      <td>3.0</td>\n",
       "      <td>3</td>\n",
       "      <td>0.0</td>\n",
       "      <td>0.0</td>\n",
       "      <td>4.0</td>\n",
       "      <td>Active</td>\n",
       "      <td>0</td>\n",
       "      <td>0</td>\n",
       "    </tr>\n",
       "    <tr>\n",
       "      <th>3840209</th>\n",
       "      <td>1768237</td>\n",
       "      <td>129853</td>\n",
       "      <td>-7</td>\n",
       "      <td>624808.0935</td>\n",
       "      <td>765000.0</td>\n",
       "      <td>36000.0</td>\n",
       "      <td>101647.66500</td>\n",
       "      <td>0.0</td>\n",
       "      <td>65647.665</td>\n",
       "      <td>32277.960</td>\n",
       "      <td>...</td>\n",
       "      <td>679874.400</td>\n",
       "      <td>679874.400</td>\n",
       "      <td>2.0</td>\n",
       "      <td>9</td>\n",
       "      <td>0.0</td>\n",
       "      <td>7.0</td>\n",
       "      <td>4.0</td>\n",
       "      <td>Active</td>\n",
       "      <td>0</td>\n",
       "      <td>0</td>\n",
       "    </tr>\n",
       "    <tr>\n",
       "      <th>3840214</th>\n",
       "      <td>2613462</td>\n",
       "      <td>234063</td>\n",
       "      <td>-10</td>\n",
       "      <td>624808.0935</td>\n",
       "      <td>720000.0</td>\n",
       "      <td>18000.0</td>\n",
       "      <td>18000.00000</td>\n",
       "      <td>0.0</td>\n",
       "      <td>0.000</td>\n",
       "      <td>38128.365</td>\n",
       "      <td>...</td>\n",
       "      <td>742601.115</td>\n",
       "      <td>742601.115</td>\n",
       "      <td>2.0</td>\n",
       "      <td>2</td>\n",
       "      <td>0.0</td>\n",
       "      <td>0.0</td>\n",
       "      <td>1.0</td>\n",
       "      <td>Active</td>\n",
       "      <td>0</td>\n",
       "      <td>0</td>\n",
       "    </tr>\n",
       "    <tr>\n",
       "      <th>3840218</th>\n",
       "      <td>1475051</td>\n",
       "      <td>285296</td>\n",
       "      <td>-11</td>\n",
       "      <td>624808.0935</td>\n",
       "      <td>630000.0</td>\n",
       "      <td>36000.0</td>\n",
       "      <td>36000.00000</td>\n",
       "      <td>0.0</td>\n",
       "      <td>0.000</td>\n",
       "      <td>15714.270</td>\n",
       "      <td>...</td>\n",
       "      <td>651570.300</td>\n",
       "      <td>651570.300</td>\n",
       "      <td>2.0</td>\n",
       "      <td>2</td>\n",
       "      <td>0.0</td>\n",
       "      <td>0.0</td>\n",
       "      <td>8.0</td>\n",
       "      <td>Active</td>\n",
       "      <td>0</td>\n",
       "      <td>0</td>\n",
       "    </tr>\n",
       "    <tr>\n",
       "      <th>3840236</th>\n",
       "      <td>1941767</td>\n",
       "      <td>355195</td>\n",
       "      <td>-7</td>\n",
       "      <td>624808.0935</td>\n",
       "      <td>765000.0</td>\n",
       "      <td>180000.0</td>\n",
       "      <td>210600.00000</td>\n",
       "      <td>0.0</td>\n",
       "      <td>30600.000</td>\n",
       "      <td>30591.675</td>\n",
       "      <td>...</td>\n",
       "      <td>783608.220</td>\n",
       "      <td>783608.220</td>\n",
       "      <td>6.0</td>\n",
       "      <td>7</td>\n",
       "      <td>0.0</td>\n",
       "      <td>1.0</td>\n",
       "      <td>2.0</td>\n",
       "      <td>Active</td>\n",
       "      <td>0</td>\n",
       "      <td>0</td>\n",
       "    </tr>\n",
       "    <tr>\n",
       "      <th>3840275</th>\n",
       "      <td>2726719</td>\n",
       "      <td>310523</td>\n",
       "      <td>-12</td>\n",
       "      <td>624808.0935</td>\n",
       "      <td>765000.0</td>\n",
       "      <td>12600.0</td>\n",
       "      <td>12600.00000</td>\n",
       "      <td>0.0</td>\n",
       "      <td>0.000</td>\n",
       "      <td>39625.695</td>\n",
       "      <td>...</td>\n",
       "      <td>761874.480</td>\n",
       "      <td>761874.480</td>\n",
       "      <td>1.0</td>\n",
       "      <td>1</td>\n",
       "      <td>0.0</td>\n",
       "      <td>0.0</td>\n",
       "      <td>4.0</td>\n",
       "      <td>Active</td>\n",
       "      <td>0</td>\n",
       "      <td>0</td>\n",
       "    </tr>\n",
       "  </tbody>\n",
       "</table>\n",
       "<p>16816 rows × 23 columns</p>\n",
       "</div>"
      ],
      "text/plain": [
       "         SK_ID_PREV  SK_ID_CURR  MONTHS_BALANCE  AMT_BALANCE  \\\n",
       "132         2305805      184329              -6  624808.0935   \n",
       "157         2319650      377975              -2  624808.0935   \n",
       "178         2318327      246513              -5  624808.0935   \n",
       "346         2138277      393333              -5  624808.0935   \n",
       "361         1768145      189339              -3  624808.0935   \n",
       "410         2379642      291656              -1  624808.0935   \n",
       "437         2100894      257275              -3  624808.0935   \n",
       "501         1152920      121820              -5  624808.0935   \n",
       "543         2347453      199687              -1  624808.0935   \n",
       "589         1689007      188986              -5  624808.0935   \n",
       "674         2697696      356593              -1  624808.0935   \n",
       "713         1541340      252603              -7  624808.0935   \n",
       "744         2721448      360464              -1  624808.0935   \n",
       "755         2205298      272938              -6  624808.0935   \n",
       "777         2588773      384627              -1  624808.0935   \n",
       "781         2082709      205995              -6  624808.0935   \n",
       "807         2132358      239031              -6  624808.0935   \n",
       "923         2313144      447600              -7  624808.0935   \n",
       "976         1727561      100218              -4  624808.0935   \n",
       "1182        1107245      155919              -6  624808.0935   \n",
       "1367        2029484      329723              -2  624808.0935   \n",
       "1583        2802918      377555              -1  624808.0935   \n",
       "1688        1510579      341658              -5  624808.0935   \n",
       "1703        1675839      260612              -3  624808.0935   \n",
       "1752        2403117      327117              -3  624808.0935   \n",
       "1923        2284208      327474              -3  624808.0935   \n",
       "1998        1025768      284790              -1  624808.0935   \n",
       "2009        1176158      355944              -4  624808.0935   \n",
       "2100        2509627      215567              -1  624808.0935   \n",
       "2536        2241016      170103              -4  624808.0935   \n",
       "...             ...         ...             ...          ...   \n",
       "3828008     1797805      307199             -17  624808.0935   \n",
       "3828066     1894140      137644              -7  624808.0935   \n",
       "3828178     1798739      372443             -13  624808.0935   \n",
       "3828180     1060442      441411             -14  624808.0935   \n",
       "3828305     1701342      394129             -11  624808.0935   \n",
       "3828452     1067340      105338             -14  624808.0935   \n",
       "3828455     2790516      172453              -8  624808.0935   \n",
       "3828532     1614059      172570             -16  624808.0935   \n",
       "3828546     1361297      134430             -10  624808.0935   \n",
       "3828607     1238288      299843             -13  624808.0935   \n",
       "3828677     2521731      186944             -16  624808.0935   \n",
       "3832618     1360925      231355             -23  624808.0935   \n",
       "3832678     1092353      337028             -23  624808.0935   \n",
       "3832680     1204989      288222             -22  624808.0935   \n",
       "3832710     2216741      204076             -25  624808.0935   \n",
       "3839234     1596337      116438             -20  624808.0935   \n",
       "3839685     2791115      419864              -7  624808.0935   \n",
       "3839731     2594289      169100             -10  624808.0935   \n",
       "3839735     2440052      151348             -16  624808.0935   \n",
       "3839773     2299622      335836             -10  624808.0935   \n",
       "3839831     1950719      152028             -10  624808.0935   \n",
       "3839915     2000431      295347              -7  624808.0935   \n",
       "3839921     2768673      366690             -11  624808.0935   \n",
       "3840053     1110934      165723              -9  624808.0935   \n",
       "3840112     1395554      136880             -14  624808.0935   \n",
       "3840209     1768237      129853              -7  624808.0935   \n",
       "3840214     2613462      234063             -10  624808.0935   \n",
       "3840218     1475051      285296             -11  624808.0935   \n",
       "3840236     1941767      355195              -7  624808.0935   \n",
       "3840275     2726719      310523             -12  624808.0935   \n",
       "\n",
       "         AMT_CREDIT_LIMIT_ACTUAL  AMT_DRAWINGS_ATM_CURRENT  \\\n",
       "132                     765000.0                       0.0   \n",
       "157                     765000.0                  135000.0   \n",
       "178                     765000.0                       0.0   \n",
       "346                     765000.0                       0.0   \n",
       "361                     765000.0                       0.0   \n",
       "410                     765000.0                       0.0   \n",
       "437                     765000.0                       0.0   \n",
       "501                     765000.0                       0.0   \n",
       "543                     675000.0                       0.0   \n",
       "589                     765000.0                   33750.0   \n",
       "674                     765000.0                   13500.0   \n",
       "713                     765000.0                       0.0   \n",
       "744                     765000.0                       0.0   \n",
       "755                     765000.0                       0.0   \n",
       "777                     765000.0                       0.0   \n",
       "781                     765000.0                       0.0   \n",
       "807                     675000.0                       0.0   \n",
       "923                     675000.0                    4500.0   \n",
       "976                     720000.0                       0.0   \n",
       "1182                    675000.0                    4500.0   \n",
       "1367                    675000.0                   56250.0   \n",
       "1583                    675000.0                       0.0   \n",
       "1688                    765000.0                       0.0   \n",
       "1703                    765000.0                       0.0   \n",
       "1752                    765000.0                   81000.0   \n",
       "1923                    765000.0                  299250.0   \n",
       "1998                    765000.0                       0.0   \n",
       "2009                    765000.0                       0.0   \n",
       "2100                    765000.0                       0.0   \n",
       "2536                    675000.0                   13500.0   \n",
       "...                          ...                       ...   \n",
       "3828008                 765000.0                       0.0   \n",
       "3828066                 765000.0                    9000.0   \n",
       "3828178                 675000.0                   18000.0   \n",
       "3828180                 675000.0                       0.0   \n",
       "3828305                 720000.0                       0.0   \n",
       "3828452                 765000.0                   99000.0   \n",
       "3828455                 765000.0                       0.0   \n",
       "3828532                 765000.0                       0.0   \n",
       "3828546                 720000.0                       0.0   \n",
       "3828607                 765000.0                       0.0   \n",
       "3828677                 765000.0                    2700.0   \n",
       "3832618                 765000.0                       0.0   \n",
       "3832678                 765000.0                    9450.0   \n",
       "3832680                 765000.0                   18000.0   \n",
       "3832710                 765000.0                   27000.0   \n",
       "3839234                 765000.0                       0.0   \n",
       "3839685                 765000.0                   45000.0   \n",
       "3839731                 765000.0                       0.0   \n",
       "3839735                 765000.0                       0.0   \n",
       "3839773                 675000.0                       0.0   \n",
       "3839831                 765000.0                   22500.0   \n",
       "3839915                 765000.0                   18000.0   \n",
       "3839921                 765000.0                   11250.0   \n",
       "3840053                 675000.0                  173250.0   \n",
       "3840112                 765000.0                   81000.0   \n",
       "3840209                 765000.0                   36000.0   \n",
       "3840214                 720000.0                   18000.0   \n",
       "3840218                 630000.0                   36000.0   \n",
       "3840236                 765000.0                  180000.0   \n",
       "3840275                 765000.0                   12600.0   \n",
       "\n",
       "         AMT_DRAWINGS_CURRENT  AMT_DRAWINGS_OTHER_CURRENT  \\\n",
       "132                   0.00000                         0.0   \n",
       "157              193808.97000                         0.0   \n",
       "178                   0.00000                         0.0   \n",
       "346               31455.00000                         0.0   \n",
       "361               93810.55500                         0.0   \n",
       "410               46800.00000                     46800.0   \n",
       "437               12412.30500                         0.0   \n",
       "501              352998.58275                         0.0   \n",
       "543              352998.58275                         0.0   \n",
       "589               33750.00000                         0.0   \n",
       "674               13500.00000                         0.0   \n",
       "713                   0.00000                         0.0   \n",
       "744               18630.00000                         0.0   \n",
       "755               33011.86500                         0.0   \n",
       "777                   0.00000                         0.0   \n",
       "781                2245.50000                         0.0   \n",
       "807               19831.05000                         0.0   \n",
       "923               17460.00000                         0.0   \n",
       "976               21073.90500                         0.0   \n",
       "1182               5850.00000                         0.0   \n",
       "1367              59512.50000                         0.0   \n",
       "1583              10543.50000                         0.0   \n",
       "1688                  0.00000                         0.0   \n",
       "1703              11731.86000                         0.0   \n",
       "1752              82487.25000                         0.0   \n",
       "1923             352998.58275                         0.0   \n",
       "1998               2925.00000                         0.0   \n",
       "2009                  0.00000                         0.0   \n",
       "2100                  0.00000                         0.0   \n",
       "2536              13500.00000                         0.0   \n",
       "...                       ...                         ...   \n",
       "3828008               0.00000                         0.0   \n",
       "3828066            9000.00000                         0.0   \n",
       "3828178           24693.75000                         0.0   \n",
       "3828180               0.00000                         0.0   \n",
       "3828305               0.00000                         0.0   \n",
       "3828452          112491.00000                         0.0   \n",
       "3828455           15705.00000                         0.0   \n",
       "3828532               0.00000                         0.0   \n",
       "3828546               0.00000                         0.0   \n",
       "3828607               0.00000                         0.0   \n",
       "3828677           14745.60000                         0.0   \n",
       "3832618               0.00000                         0.0   \n",
       "3832678            9450.00000                         0.0   \n",
       "3832680           18000.00000                         0.0   \n",
       "3832710           27000.00000                         0.0   \n",
       "3839234          352998.58275                         0.0   \n",
       "3839685           66911.71500                         0.0   \n",
       "3839731               0.00000                         0.0   \n",
       "3839735               0.00000                         0.0   \n",
       "3839773               0.00000                         0.0   \n",
       "3839831           22500.00000                         0.0   \n",
       "3839915           18000.00000                         0.0   \n",
       "3839921           11250.00000                         0.0   \n",
       "3840053          173250.00000                         0.0   \n",
       "3840112           81000.00000                         0.0   \n",
       "3840209          101647.66500                         0.0   \n",
       "3840214           18000.00000                         0.0   \n",
       "3840218           36000.00000                         0.0   \n",
       "3840236          210600.00000                         0.0   \n",
       "3840275           12600.00000                         0.0   \n",
       "\n",
       "         AMT_DRAWINGS_POS_CURRENT  AMT_INST_MIN_REGULARITY     ...      \\\n",
       "132                         0.000                42264.765     ...       \n",
       "157                     58808.970                29565.135     ...       \n",
       "178                         0.000                44696.655     ...       \n",
       "346                     31455.000                31750.065     ...       \n",
       "361                     93810.555                29285.550     ...       \n",
       "410                         0.000                43091.775     ...       \n",
       "437                     12412.305                38782.845     ...       \n",
       "501                    286063.425                    0.000     ...       \n",
       "543                    286063.425                12103.155     ...       \n",
       "589                         0.000                35206.470     ...       \n",
       "674                         0.000                45893.970     ...       \n",
       "713                         0.000                46728.540     ...       \n",
       "744                     18630.000                46356.750     ...       \n",
       "755                     33011.865                37402.605     ...       \n",
       "777                         0.000                43855.245     ...       \n",
       "781                      2245.500                38831.220     ...       \n",
       "807                     19831.050                33720.660     ...       \n",
       "923                     12960.000                34522.155     ...       \n",
       "976                     21073.905                36990.450     ...       \n",
       "1182                     1350.000                34868.565     ...       \n",
       "1367                     3262.500                32034.420     ...       \n",
       "1583                    10543.500                35021.025     ...       \n",
       "1688                        0.000                36384.165     ...       \n",
       "1703                    11731.860                39114.045     ...       \n",
       "1752                     1487.250                35357.985     ...       \n",
       "1923                    51188.760                20011.185     ...       \n",
       "1998                     2925.000                38801.205     ...       \n",
       "2009                        0.000                39033.090     ...       \n",
       "2100                        0.000                39496.590     ...       \n",
       "2536                        0.000                33958.890     ...       \n",
       "...                           ...                      ...     ...       \n",
       "3828008                     0.000                36402.075     ...       \n",
       "3828066                     0.000                39650.490     ...       \n",
       "3828178                  6693.750                34222.185     ...       \n",
       "3828180                     0.000                34949.655     ...       \n",
       "3828305                     0.000                32657.715     ...       \n",
       "3828452                 13491.000                36582.570     ...       \n",
       "3828455                 15705.000                38643.660     ...       \n",
       "3828532                     0.000                37014.075     ...       \n",
       "3828546                     0.000                36669.060     ...       \n",
       "3828607                     0.000                37735.200     ...       \n",
       "3828677                 12045.600                39512.655     ...       \n",
       "3832618                     0.000                43420.050     ...       \n",
       "3832678                     0.000                39788.505     ...       \n",
       "3832680                     0.000                37225.035     ...       \n",
       "3832710                     0.000                38842.785     ...       \n",
       "3839234                286063.425                    0.000     ...       \n",
       "3839685                 21911.715                36530.010     ...       \n",
       "3839731                     0.000                44777.925     ...       \n",
       "3839735                     0.000                37897.515     ...       \n",
       "3839773                     0.000                33568.155     ...       \n",
       "3839831                     0.000                33237.270     ...       \n",
       "3839915                     0.000                39257.415     ...       \n",
       "3839921                     0.000                39600.315     ...       \n",
       "3840053                     0.000                17110.035     ...       \n",
       "3840112                     0.000                28194.705     ...       \n",
       "3840209                 65647.665                32277.960     ...       \n",
       "3840214                     0.000                38128.365     ...       \n",
       "3840218                     0.000                15714.270     ...       \n",
       "3840236                 30600.000                30591.675     ...       \n",
       "3840275                     0.000                39625.695     ...       \n",
       "\n",
       "         AMT_RECIVABLE  AMT_TOTAL_RECEIVABLE  CNT_DRAWINGS_ATM_CURRENT  \\\n",
       "132         797553.000            797553.000                       0.0   \n",
       "157         761319.630            761319.630                       3.0   \n",
       "178         879181.875            879181.875                       0.0   \n",
       "346         632147.535            632147.535                       0.0   \n",
       "361         706826.790            706826.790                       0.0   \n",
       "410         865030.185            865030.185                       0.0   \n",
       "437         761464.665            761464.665                       0.0   \n",
       "501         849309.165            849309.165                       0.0   \n",
       "543         682960.995            682960.995                       0.0   \n",
       "589         817525.125            817525.125                       4.0   \n",
       "674         904392.405            904392.405                       1.0   \n",
       "713         629990.910            629990.910                       0.0   \n",
       "744         933656.625            933656.625                       0.0   \n",
       "755         770832.405            770832.405                       0.0   \n",
       "777         805196.475            805196.475                       0.0   \n",
       "781         755341.425            755341.425                       0.0   \n",
       "807         677721.465            677721.465                       0.0   \n",
       "923         688337.010            688337.010                       1.0   \n",
       "976         741427.740            741427.740                       0.0   \n",
       "1182        638048.025            638048.025                       1.0   \n",
       "1367        677907.135            677907.135                       1.0   \n",
       "1583        705370.455            705370.455                       0.0   \n",
       "1688        716181.615            716181.615                       0.0   \n",
       "1703        770339.835            770339.835                       0.0   \n",
       "1752        734980.545            734980.545                       2.0   \n",
       "1923        893202.930            893202.930                       9.0   \n",
       "1998        769774.050            769774.050                       0.0   \n",
       "2009        748734.255            748734.255                       0.0   \n",
       "2100        695156.400            695156.400                       0.0   \n",
       "2536        674942.535            674942.535                       1.0   \n",
       "...                ...                   ...                       ...   \n",
       "3828008     709494.705            709494.705                       0.0   \n",
       "3828066     882160.245            882160.245                       1.0   \n",
       "3828178     693655.740            693655.740                       1.0   \n",
       "3828180     665282.070            665282.070                       0.0   \n",
       "3828305     638890.965            638890.965                       0.0   \n",
       "3828452     845388.180            845388.180                       7.0   \n",
       "3828455     745348.410            745348.410                       0.0   \n",
       "3828532     694581.075            694581.075                       0.0   \n",
       "3828546     718243.470            718243.470                       0.0   \n",
       "3828607     728196.210            728196.210                       0.0   \n",
       "3828677     729843.120            729843.120                       1.0   \n",
       "3832618     850547.070            850547.070                       0.0   \n",
       "3832678     762627.600            762627.600                       2.0   \n",
       "3832680     748253.880            748253.880                       2.0   \n",
       "3832710     769847.490            769847.490                       2.0   \n",
       "3839234     720000.000            720000.000                       0.0   \n",
       "3839685     779378.490            779378.490                       1.0   \n",
       "3839731     869693.985            869693.985                       0.0   \n",
       "3839735     727101.855            727101.855                       0.0   \n",
       "3839773     660961.935            660961.935                       0.0   \n",
       "3839831     667944.720            667944.720                       2.0   \n",
       "3839915     790885.305            790885.305                       1.0   \n",
       "3839921     786393.315            786393.315                       1.0   \n",
       "3840053     623007.045            623007.045                      10.0   \n",
       "3840112     713347.695            713347.695                       3.0   \n",
       "3840209     679874.400            679874.400                       2.0   \n",
       "3840214     742601.115            742601.115                       2.0   \n",
       "3840218     651570.300            651570.300                       2.0   \n",
       "3840236     783608.220            783608.220                       6.0   \n",
       "3840275     761874.480            761874.480                       1.0   \n",
       "\n",
       "         CNT_DRAWINGS_CURRENT  CNT_DRAWINGS_OTHER_CURRENT  \\\n",
       "132                         0                         0.0   \n",
       "157                        33                         0.0   \n",
       "178                         0                         0.0   \n",
       "346                         1                         0.0   \n",
       "361                        47                         0.0   \n",
       "410                         1                         1.0   \n",
       "437                         3                         0.0   \n",
       "501                        75                         0.0   \n",
       "543                         5                         0.0   \n",
       "589                         4                         0.0   \n",
       "674                         1                         0.0   \n",
       "713                         0                         0.0   \n",
       "744                        11                         0.0   \n",
       "755                        13                         0.0   \n",
       "777                         0                         0.0   \n",
       "781                         1                         0.0   \n",
       "807                         7                         0.0   \n",
       "923                         3                         0.0   \n",
       "976                         8                         0.0   \n",
       "1182                        2                         0.0   \n",
       "1367                        2                         0.0   \n",
       "1583                        8                         0.0   \n",
       "1688                        0                         0.0   \n",
       "1703                       13                         0.0   \n",
       "1752                        3                         0.0   \n",
       "1923                       21                         0.0   \n",
       "1998                        1                         0.0   \n",
       "2009                        0                         0.0   \n",
       "2100                        0                         0.0   \n",
       "2536                        1                         0.0   \n",
       "...                       ...                         ...   \n",
       "3828008                     0                         0.0   \n",
       "3828066                     1                         0.0   \n",
       "3828178                     6                         0.0   \n",
       "3828180                     0                         0.0   \n",
       "3828305                     0                         0.0   \n",
       "3828452                     8                         0.0   \n",
       "3828455                     2                         0.0   \n",
       "3828532                     0                         0.0   \n",
       "3828546                     0                         0.0   \n",
       "3828607                     0                         0.0   \n",
       "3828677                     5                         0.0   \n",
       "3832618                     0                         0.0   \n",
       "3832678                     2                         0.0   \n",
       "3832680                     2                         0.0   \n",
       "3832710                     2                         0.0   \n",
       "3839234                     2                         0.0   \n",
       "3839685                     6                         0.0   \n",
       "3839731                     0                         0.0   \n",
       "3839735                     0                         0.0   \n",
       "3839773                     0                         0.0   \n",
       "3839831                     2                         0.0   \n",
       "3839915                     1                         0.0   \n",
       "3839921                     1                         0.0   \n",
       "3840053                    10                         0.0   \n",
       "3840112                     3                         0.0   \n",
       "3840209                     9                         0.0   \n",
       "3840214                     2                         0.0   \n",
       "3840218                     2                         0.0   \n",
       "3840236                     7                         0.0   \n",
       "3840275                     1                         0.0   \n",
       "\n",
       "         CNT_DRAWINGS_POS_CURRENT  CNT_INSTALMENT_MATURE_CUM  \\\n",
       "132                           0.0                       72.0   \n",
       "157                          30.0                       10.0   \n",
       "178                           0.0                       16.0   \n",
       "346                           1.0                       21.0   \n",
       "361                          47.0                       27.0   \n",
       "410                           0.0                       15.0   \n",
       "437                           3.0                       18.0   \n",
       "501                          75.0                        6.0   \n",
       "543                           5.0                       29.0   \n",
       "589                           0.0                       23.0   \n",
       "674                           0.0                       11.0   \n",
       "713                           0.0                        6.0   \n",
       "744                          11.0                        8.0   \n",
       "755                          13.0                       11.0   \n",
       "777                           0.0                       15.0   \n",
       "781                           1.0                        9.0   \n",
       "807                           7.0                       20.0   \n",
       "923                           2.0                        2.0   \n",
       "976                           8.0                        8.0   \n",
       "1182                          1.0                       21.0   \n",
       "1367                          1.0                        5.0   \n",
       "1583                          8.0                       10.0   \n",
       "1688                          0.0                       14.0   \n",
       "1703                         13.0                        9.0   \n",
       "1752                          1.0                       23.0   \n",
       "1923                         12.0                        5.0   \n",
       "1998                          1.0                       19.0   \n",
       "2009                          0.0                       19.0   \n",
       "2100                          0.0                       17.0   \n",
       "2536                          0.0                       24.0   \n",
       "...                           ...                        ...   \n",
       "3828008                       0.0                        6.0   \n",
       "3828066                       0.0                        5.0   \n",
       "3828178                       5.0                       10.0   \n",
       "3828180                       0.0                        8.0   \n",
       "3828305                       0.0                       14.0   \n",
       "3828452                       1.0                        7.0   \n",
       "3828455                       2.0                        2.0   \n",
       "3828532                       0.0                        9.0   \n",
       "3828546                       0.0                        6.0   \n",
       "3828607                       0.0                       13.0   \n",
       "3828677                       4.0                        9.0   \n",
       "3832618                       0.0                        5.0   \n",
       "3832678                       0.0                        4.0   \n",
       "3832680                       0.0                        5.0   \n",
       "3832710                       0.0                        6.0   \n",
       "3839234                       2.0                        0.0   \n",
       "3839685                       5.0                        3.0   \n",
       "3839731                       0.0                        8.0   \n",
       "3839735                       0.0                        8.0   \n",
       "3839773                       0.0                        2.0   \n",
       "3839831                       0.0                        5.0   \n",
       "3839915                       0.0                        6.0   \n",
       "3839921                       0.0                        6.0   \n",
       "3840053                       0.0                        2.0   \n",
       "3840112                       0.0                        4.0   \n",
       "3840209                       7.0                        4.0   \n",
       "3840214                       0.0                        1.0   \n",
       "3840218                       0.0                        8.0   \n",
       "3840236                       1.0                        2.0   \n",
       "3840275                       0.0                        4.0   \n",
       "\n",
       "         NAME_CONTRACT_STATUS  SK_DPD  SK_DPD_DEF  \n",
       "132                    Active       0           0  \n",
       "157                    Active       0           0  \n",
       "178                    Active       0           0  \n",
       "346                    Active       0           0  \n",
       "361                    Active       0           0  \n",
       "410                    Active       0           0  \n",
       "437                    Active       0           0  \n",
       "501                    Active       0           0  \n",
       "543                    Active       0           0  \n",
       "589                    Active       0           0  \n",
       "674                    Active       0           0  \n",
       "713                    Active       0           0  \n",
       "744                    Active       0           0  \n",
       "755                    Active       0           0  \n",
       "777                    Active       0           0  \n",
       "781                    Active       0           0  \n",
       "807                    Active       0           0  \n",
       "923                    Active       0           0  \n",
       "976                    Active       0           0  \n",
       "1182                   Active       0           0  \n",
       "1367                   Active       0           0  \n",
       "1583                   Active       0           0  \n",
       "1688                   Active       0           0  \n",
       "1703                   Active       0           0  \n",
       "1752                   Active       0           0  \n",
       "1923                   Active       0           0  \n",
       "1998                   Active       0           0  \n",
       "2009                   Active       0           0  \n",
       "2100                   Active       0           0  \n",
       "2536                   Active       0           0  \n",
       "...                       ...     ...         ...  \n",
       "3828008                Active       0           0  \n",
       "3828066                Active       0           0  \n",
       "3828178                Active       0           0  \n",
       "3828180                Active       0           0  \n",
       "3828305                Active       0           0  \n",
       "3828452                Active       0           0  \n",
       "3828455                Active       0           0  \n",
       "3828532                Active       0           0  \n",
       "3828546                Active       0           0  \n",
       "3828607                Active       0           0  \n",
       "3828677                Active       0           0  \n",
       "3832618                Active       0           0  \n",
       "3832678                Active       0           0  \n",
       "3832680                Active       0           0  \n",
       "3832710                Active       0           0  \n",
       "3839234                Active       0           0  \n",
       "3839685                Active       0           0  \n",
       "3839731                Active       0           0  \n",
       "3839735                Active       0           0  \n",
       "3839773                Active       0           0  \n",
       "3839831                Active       0           0  \n",
       "3839915                Active       0           0  \n",
       "3839921                Active       0           0  \n",
       "3840053                Active       0           0  \n",
       "3840112                Active       0           0  \n",
       "3840209                Active       0           0  \n",
       "3840214                Active       0           0  \n",
       "3840218                Active       0           0  \n",
       "3840236                Active       0           0  \n",
       "3840275                Active       0           0  \n",
       "\n",
       "[16816 rows x 23 columns]"
      ]
     },
     "execution_count": 8,
     "metadata": {},
     "output_type": "execute_result"
    }
   ],
   "source": [
    "credit_card_balance[credit_card_balance['AMT_BALANCE'].values >= np.nanpercentile(credit_card_balance[credit_card_balance['AMT_BALANCE'].values > 0]['AMT_BALANCE'].values, 99)]"
   ]
  },
  {
   "cell_type": "code",
   "execution_count": null,
   "metadata": {},
   "outputs": [],
   "source": []
  },
  {
   "cell_type": "code",
   "execution_count": null,
   "metadata": {},
   "outputs": [],
   "source": []
  },
  {
   "cell_type": "code",
   "execution_count": null,
   "metadata": {},
   "outputs": [],
   "source": []
  },
  {
   "cell_type": "code",
   "execution_count": null,
   "metadata": {},
   "outputs": [],
   "source": []
  },
  {
   "cell_type": "code",
   "execution_count": 2,
   "metadata": {
    "ExecuteTime": {
     "end_time": "2018-06-21T20:49:33.052244Z",
     "start_time": "2018-06-21T20:49:31.674389Z"
    }
   },
   "outputs": [],
   "source": [
    "df = train.copy()"
   ]
  },
  {
   "cell_type": "code",
   "execution_count": 13,
   "metadata": {
    "ExecuteTime": {
     "end_time": "2018-06-21T19:56:28.663302Z",
     "start_time": "2018-06-21T19:55:08.957860Z"
    },
    "collapsed": true
   },
   "outputs": [],
   "source": [
    "temp = pd.merge(df, previous_application, on='SK_ID_CURR')"
   ]
  },
  {
   "cell_type": "code",
   "execution_count": 17,
   "metadata": {
    "ExecuteTime": {
     "end_time": "2018-06-21T20:03:46.913625Z",
     "start_time": "2018-06-21T20:03:44.735992Z"
    }
   },
   "outputs": [
    {
     "name": "stdout",
     "output_type": "stream",
     "text": [
      "0 in approved:0.9241134455630804\n",
      "1 in approved:0.07588655443691958\n",
      "0 in not approved:0.8800358612820408\n",
      "1 in not approved:0.11996413871795916\n"
     ]
    }
   ],
   "source": [
    "approved = temp[temp['NAME_CONTRACT_STATUS'].values == 'Approved']\n",
    "approved_0 = approved[approved['TARGET']==0]\n",
    "approved_1 = approved[approved['TARGET']==1]\n",
    "\n",
    "not_approved = temp[temp['NAME_CONTRACT_STATUS'].values == 'Refused']\n",
    "not_approved_0 = not_approved[not_approved['TARGET']==0]\n",
    "not_approved_1 = not_approved[not_approved['TARGET']==1]\n",
    "\n",
    "print('0 in approved:{}'.format(approved_0.shape[0]/approved.shape[0]))\n",
    "print('1 in approved:{}'.format(approved_1.shape[0]/approved.shape[0]))\n",
    "print('0 in not approved:{}'.format(not_approved_0.shape[0]/not_approved.shape[0]))\n",
    "print('1 in not approved:{}'.format(not_approved_1.shape[0]/not_approved.shape[0]))"
   ]
  },
  {
   "cell_type": "code",
   "execution_count": null,
   "metadata": {
    "collapsed": true
   },
   "outputs": [],
   "source": []
  },
  {
   "cell_type": "code",
   "execution_count": 13,
   "metadata": {
    "ExecuteTime": {
     "end_time": "2018-06-21T20:36:34.935936Z",
     "start_time": "2018-06-21T20:36:22.150033Z"
    }
   },
   "outputs": [],
   "source": [
    "curr_id_installment = set(installments_payments['SK_ID_CURR'].values)\n",
    "curr_id_0 = set(df[df['TARGET'] == 0]['SK_ID_CURR'].values)\n",
    "curr_id_1 = set(df[df['TARGET'] == 1]['SK_ID_CURR'].values)\n",
    "\n",
    "curr_id_installment_0 = curr_id_installment & curr_id_0\n",
    "curr_id_installment_1 = curr_id_installment & curr_id_1"
   ]
  },
  {
   "cell_type": "code",
   "execution_count": 16,
   "metadata": {
    "ExecuteTime": {
     "end_time": "2018-06-21T20:39:37.060994Z",
     "start_time": "2018-06-21T20:39:37.045958Z"
    }
   },
   "outputs": [
    {
     "data": {
      "text/plain": [
       "(267767, 23876, 339587)"
      ]
     },
     "execution_count": 16,
     "metadata": {},
     "output_type": "execute_result"
    }
   ],
   "source": [
    "curr_id_installment_0.__len__(), curr_id_installment_1.__len__(), curr_id_installment.__len__()"
   ]
  },
  {
   "cell_type": "code",
   "execution_count": 18,
   "metadata": {
    "ExecuteTime": {
     "end_time": "2018-06-21T20:44:28.758416Z",
     "start_time": "2018-06-21T20:44:28.755027Z"
    }
   },
   "outputs": [
    {
     "name": "stdout",
     "output_type": "stream",
     "text": [
      "0 in inst: 0.9181327856317484\n",
      "1 in inst: 0.08186721436825159\n"
     ]
    }
   ],
   "source": [
    "count = curr_id_installment_0.__len__() + curr_id_installment_1.__len__()\n",
    "print('0 in inst: {}'.format(curr_id_installment_0.__len__()/count))\n",
    "print('1 in inst: {}'.format(curr_id_installment_1.__len__()/count))"
   ]
  },
  {
   "cell_type": "code",
   "execution_count": null,
   "metadata": {
    "collapsed": true
   },
   "outputs": [],
   "source": []
  },
  {
   "cell_type": "code",
   "execution_count": 3,
   "metadata": {
    "ExecuteTime": {
     "end_time": "2018-06-21T20:50:38.213325Z",
     "start_time": "2018-06-21T20:50:25.455831Z"
    },
    "collapsed": true
   },
   "outputs": [],
   "source": [
    "curr_id_pos_cash = set(POS_CASH_balance['SK_ID_CURR'].values)\n",
    "curr_id_credit_card_balance = set(credit_card_balance['SK_ID_CURR'].values)\n",
    "\n",
    "curr_id_0 = set(df[df['TARGET'] == 0]['SK_ID_CURR'].values)\n",
    "curr_id_1 = set(df[df['TARGET'] == 1]['SK_ID_CURR'].values)\n",
    "\n",
    "curr_id_pos_cash_0 = curr_id_pos_cash & curr_id_0\n",
    "curr_id_pos_cash_1 = curr_id_pos_cash & curr_id_1\n",
    "\n",
    "curr_id_credit_card_balance_0 = curr_id_credit_card_balance & curr_id_0\n",
    "curr_id_credit_card_balance_1 = curr_id_credit_card_balance & curr_id_1"
   ]
  },
  {
   "cell_type": "code",
   "execution_count": 4,
   "metadata": {
    "ExecuteTime": {
     "end_time": "2018-06-21T20:51:33.961617Z",
     "start_time": "2018-06-21T20:51:33.949412Z"
    },
    "collapsed": true
   },
   "outputs": [],
   "source": [
    "count_pos = curr_id_pos_cash_0.__len__() + curr_id_pos_cash_1.__len__()\n",
    "count_credit = curr_id_credit_card_balance_0.__len__() + curr_id_credit_card_balance_1.__len__()"
   ]
  },
  {
   "cell_type": "code",
   "execution_count": 5,
   "metadata": {
    "ExecuteTime": {
     "end_time": "2018-06-21T20:52:33.535636Z",
     "start_time": "2018-06-21T20:52:33.526848Z"
    }
   },
   "outputs": [
    {
     "name": "stdout",
     "output_type": "stream",
     "text": [
      "0 in pos: 0.918391813269579\n",
      "1 in pos: 0.08160818673042108\n"
     ]
    }
   ],
   "source": [
    "print('0 in pos: {}'.format(curr_id_pos_cash_0.__len__()/count_pos))\n",
    "print('1 in pos: {}'.format(curr_id_pos_cash_1.__len__()/count_pos))"
   ]
  },
  {
   "cell_type": "code",
   "execution_count": 7,
   "metadata": {
    "ExecuteTime": {
     "end_time": "2018-06-21T20:53:45.352071Z",
     "start_time": "2018-06-21T20:53:45.346594Z"
    }
   },
   "outputs": [
    {
     "name": "stdout",
     "output_type": "stream",
     "text": [
      "0 in credit: 0.9133076347736033\n",
      "1 in credit: 0.08669236522639664\n"
     ]
    }
   ],
   "source": [
    "print('0 in credit: {}'.format(curr_id_credit_card_balance_0.__len__()/count_credit))\n",
    "print('1 in credit: {}'.format(curr_id_credit_card_balance_1.__len__()/count_credit))"
   ]
  },
  {
   "cell_type": "code",
   "execution_count": null,
   "metadata": {
    "collapsed": true
   },
   "outputs": [],
   "source": []
  },
  {
   "cell_type": "code",
   "execution_count": null,
   "metadata": {
    "collapsed": true
   },
   "outputs": [],
   "source": []
  },
  {
   "cell_type": "code",
   "execution_count": null,
   "metadata": {
    "collapsed": true
   },
   "outputs": [],
   "source": []
  },
  {
   "cell_type": "code",
   "execution_count": null,
   "metadata": {
    "collapsed": true
   },
   "outputs": [],
   "source": []
  },
  {
   "cell_type": "code",
   "execution_count": null,
   "metadata": {
    "collapsed": true
   },
   "outputs": [],
   "source": []
  },
  {
   "cell_type": "code",
   "execution_count": 2,
   "metadata": {
    "ExecuteTime": {
     "end_time": "2018-06-25T15:38:26.957933Z",
     "start_time": "2018-06-25T15:38:26.539525Z"
    }
   },
   "outputs": [],
   "source": []
  },
  {
   "cell_type": "code",
   "execution_count": 15,
   "metadata": {
    "ExecuteTime": {
     "end_time": "2018-06-25T19:07:20.565919Z",
     "start_time": "2018-06-25T19:07:20.110622Z"
    }
   },
   "outputs": [
    {
     "data": {
      "image/png": "[encoded data removed]",
      "text/plain": [
       "<matplotlib.figure.Figure at 0x7f2ace37d320>"
      ]
     },
     "metadata": {},
     "output_type": "display_data"
    },
    {
     "data": {
      "text/plain": [
       "0.0006106274698514079"
      ]
     },
     "execution_count": 15,
     "metadata": {},
     "output_type": "execute_result"
    }
   ],
   "source": [
    "\n",
    "\n",
    "temp = replace_outliers_by_percentile(credit_card_balance, 'AMT_BALANCE', 99, True)\n",
    "\n",
    "temp[temp['AMT_BALANCE_percentile_replaced'].values < 0] = 0\n",
    "\n",
    "temp = temp[temp['AMT_BALANCE_percentile_replaced'].values > 0] \n",
    "# Plot the distribution of ages in years\n",
    "plt.hist(temp['AMT_BALANCE_percentile_replaced'], edgecolor = 'k', bins = 30)\n",
    "plt.title('AMT_BALANCE'); plt.xlabel('AMT'); plt.ylabel('Count');\n",
    "\n",
    "plt.show()\n",
    "\n",
    "credit_card_balance[credit_card_balance['AMT_BALANCE'].values < 0].shape[0]/credit_card_balance.shape[0]"
   ]
  },
  {
   "cell_type": "code",
   "execution_count": 24,
   "metadata": {
    "ExecuteTime": {
     "end_time": "2018-06-25T19:13:21.085371Z",
     "start_time": "2018-06-25T19:13:20.622622Z"
    }
   },
   "outputs": [
    {
     "data": {
      "image/png": "[encoded data removed]",
      "text/plain": [
       "<matplotlib.figure.Figure at 0x7f2ace14e400>"
      ]
     },
     "metadata": {},
     "output_type": "display_data"
    }
   ],
   "source": [
    "# temp = credit_card_balance[credit_card_balance['AMT_CREDIT_LIMIT_ACTUAL'].values >= 0]\n",
    "# temp = temp[temp['AMT_CREDIT_LIMIT_ACTUAL'].values > 900000]\n",
    "\n",
    "temp = replace_outliers_by_percentile(credit_card_balance, 'AMT_CREDIT_LIMIT_ACTUAL', 99)\n",
    "\n",
    "\n",
    "plt.hist(temp['AMT_CREDIT_LIMIT_ACTUAL_percentile_replaced'], edgecolor = 'k', bins = 30)\n",
    "plt.title('AMT_CREDIT_LIMIT_ACTUAL'); plt.xlabel('AMT'); plt.ylabel('Count');\n",
    "plt.show()"
   ]
  },
  {
   "cell_type": "code",
   "execution_count": 30,
   "metadata": {
    "ExecuteTime": {
     "end_time": "2018-06-25T19:15:45.101896Z",
     "start_time": "2018-06-25T19:15:44.647049Z"
    }
   },
   "outputs": [
    {
     "data": {
      "image/png": "[encoded data removed]",
      "text/plain": [
       "<matplotlib.figure.Figure at 0x7f2ac8b18a58>"
      ]
     },
     "metadata": {},
     "output_type": "display_data"
    }
   ],
   "source": [
    "temp = credit_card_balance.copy()\n",
    "temp['AMT_DRAWINGS_ATM_CURRENT'] = temp['AMT_DRAWINGS_ATM_CURRENT'].fillna(-999)\n",
    "temp = temp[temp['AMT_DRAWINGS_ATM_CURRENT'].values > 0]\n",
    "# temp = temp[temp['AMT_DRAWINGS_ATM_CURRENT'].values < 300000]\n",
    "temp = replace_outliers_by_percentile(temp, 'AMT_DRAWINGS_ATM_CURRENT', 99)\n",
    "\n",
    "plt.hist(temp['AMT_DRAWINGS_ATM_CURRENT_percentile_replaced'], edgecolor = 'k', bins = 30)\n",
    "plt.title('AMT_DRAWINGS_ATM_CURRENT'); plt.xlabel('AMT'); plt.ylabel('Count');\n",
    "plt.show()"
   ]
  },
  {
   "cell_type": "code",
   "execution_count": 39,
   "metadata": {
    "ExecuteTime": {
     "end_time": "2018-06-25T19:21:40.190782Z",
     "start_time": "2018-06-25T19:21:39.702040Z"
    }
   },
   "outputs": [
    {
     "data": {
      "image/png": "[encoded data removed]",
      "text/plain": [
       "<matplotlib.figure.Figure at 0x7f2ac8a8ccf8>"
      ]
     },
     "metadata": {},
     "output_type": "display_data"
    }
   ],
   "source": [
    "temp = credit_card_balance.copy()\n",
    "temp['AMT_DRAWINGS_CURRENT'] = temp['AMT_DRAWINGS_CURRENT'].fillna(-999)\n",
    "temp = temp[temp['AMT_DRAWINGS_CURRENT'].values > 0]\n",
    "# temp = temp[temp['AMT_DRAWINGS_CURRENT'].values < 200000]\n",
    "temp = replace_outliers_by_percentile(temp, 'AMT_DRAWINGS_CURRENT', 99)\n",
    "\n",
    "\n",
    "plt.hist(temp['AMT_DRAWINGS_CURRENT_percentile_replaced'], edgecolor = 'k', bins = 30)\n",
    "plt.title('AMT_DRAWINGS_CURRENT'); plt.xlabel('AMT'); plt.ylabel('Count');\n",
    "plt.show()"
   ]
  },
  {
   "cell_type": "code",
   "execution_count": 43,
   "metadata": {
    "ExecuteTime": {
     "end_time": "2018-06-25T19:24:12.298062Z",
     "start_time": "2018-06-25T19:24:11.915465Z"
    }
   },
   "outputs": [
    {
     "data": {
      "image/png": "[encoded data removed]",
      "text/plain": [
       "<matplotlib.figure.Figure at 0x7f2b1b396ef0>"
      ]
     },
     "metadata": {},
     "output_type": "display_data"
    }
   ],
   "source": [
    "temp = credit_card_balance.copy()\n",
    "temp['AMT_DRAWINGS_OTHER_CURRENT'] = temp['AMT_DRAWINGS_OTHER_CURRENT'].fillna(-999)\n",
    "temp = temp[temp['AMT_DRAWINGS_OTHER_CURRENT'].values > 0]\n",
    "# temp = temp[temp['AMT_DRAWINGS_OTHER_CURRENT'].values < 200000]\n",
    "\n",
    "temp = replace_outliers_by_percentile(temp, 'AMT_DRAWINGS_OTHER_CURRENT', 99)\n",
    "\n",
    "plt.hist(temp['AMT_DRAWINGS_OTHER_CURRENT_percentile_replaced'], edgecolor = 'k', bins = 30)\n",
    "plt.title('AMT_DRAWINGS_OTHER_CURRENT'); plt.xlabel('AMT'); plt.ylabel('Count');\n",
    "plt.show()"
   ]
  },
  {
   "cell_type": "code",
   "execution_count": 47,
   "metadata": {
    "ExecuteTime": {
     "end_time": "2018-06-25T19:25:57.082487Z",
     "start_time": "2018-06-25T19:25:55.718224Z"
    }
   },
   "outputs": [
    {
     "data": {
      "image/png": "[encoded data removed]",
      "text/plain": [
       "<matplotlib.figure.Figure at 0x7f2ace25afd0>"
      ]
     },
     "metadata": {},
     "output_type": "display_data"
    }
   ],
   "source": [
    "temp = credit_card_balance.copy()\n",
    "temp['AMT_DRAWINGS_POS_CURRENT'] = temp['AMT_DRAWINGS_POS_CURRENT'].fillna(-999)\n",
    "temp = temp[temp['AMT_DRAWINGS_POS_CURRENT'].values > 0]\n",
    "# temp = temp[temp['AMT_DRAWINGS_POS_CURRENT'].values < 150000]\n",
    "\n",
    "temp = replace_outliers_by_percentile(temp, 'AMT_DRAWINGS_POS_CURRENT', 99)\n",
    "\n",
    "\n",
    "plt.hist(temp['AMT_DRAWINGS_POS_CURRENT_percentile_replaced'], edgecolor = 'k', bins = 30)\n",
    "plt.title('AMT_DRAWINGS_POS_CURRENT'); plt.xlabel('AMT'); plt.ylabel('Count');\n",
    "plt.show()"
   ]
  },
  {
   "cell_type": "code",
   "execution_count": 31,
   "metadata": {
    "ExecuteTime": {
     "end_time": "2018-06-25T19:16:52.824571Z",
     "start_time": "2018-06-25T19:16:50.724047Z"
    }
   },
   "outputs": [
    {
     "data": {
      "image/png": "[encoded data removed]",
      "text/plain": [
       "<matplotlib.figure.Figure at 0x7f2ac8bf4198>"
      ]
     },
     "metadata": {},
     "output_type": "display_data"
    },
    {
     "data": {
      "text/plain": [
       "0"
      ]
     },
     "execution_count": 31,
     "metadata": {},
     "output_type": "execute_result"
    }
   ],
   "source": [
    "temp = credit_card_balance.copy()\n",
    "temp['AMT_DRAWINGS_POS_CURRENT'] = temp['AMT_DRAWINGS_POS_CURRENT'].fillna(-999)\n",
    "temp = temp[temp['AMT_DRAWINGS_POS_CURRENT'].values >= 0]\n",
    "temp['AMT_DRAWINGS_OTHER_CURRENT'] = temp['AMT_DRAWINGS_OTHER_CURRENT'].fillna(-999)\n",
    "temp = temp[temp['AMT_DRAWINGS_OTHER_CURRENT'].values >= 0]\n",
    "temp['AMT_DRAWINGS_ATM_CURRENT'] = temp['AMT_DRAWINGS_ATM_CURRENT'].fillna(-999)\n",
    "temp = temp[temp['AMT_DRAWINGS_ATM_CURRENT'].values >= 0]\n",
    "temp['AMT_DRAWINGS_CURRENT'] = temp['AMT_DRAWINGS_CURRENT'].fillna(-999)\n",
    "temp = temp[temp['AMT_DRAWINGS_CURRENT'].values >= 0]\n",
    "temp = temp[temp['AMT_BALANCE'].values >= 0]\n",
    "\n",
    "temp2 = (temp['AMT_DRAWINGS_CURRENT']-(temp['AMT_DRAWINGS_ATM_CURRENT']+temp['AMT_DRAWINGS_OTHER_CURRENT']+temp['AMT_DRAWINGS_POS_CURRENT']))\n",
    "\n",
    "plt.hist(temp2, edgecolor = 'k', bins = 30)\n",
    "plt.title('AMT_DRAW_SUM'); plt.xlabel('AMT'); plt.ylabel('Count');\n",
    "plt.show()"
   ]
  },
  {
   "cell_type": "code",
   "execution_count": 7,
   "metadata": {
    "ExecuteTime": {
     "end_time": "2018-06-21T15:15:17.506240Z",
     "start_time": "2018-06-21T15:15:17.062631Z"
    }
   },
   "outputs": [
    {
     "data": {
      "text/plain": [
       "(39632, 673065)"
      ]
     },
     "execution_count": 7,
     "metadata": {},
     "output_type": "execute_result"
    }
   ],
   "source": [
    "temp = previous_application.copy()\n",
    "\n",
    "temp2 = temp[temp['NAME_CONTRACT_STATUS'].values == 'Approved']\n",
    "\n",
    "temp2['DAYS_TERMINATION'].isnull().sum(), previous_application['DAYS_TERMINATION'].isnull().sum()"
   ]
  },
  {
   "cell_type": "code",
   "execution_count": 6,
   "metadata": {
    "ExecuteTime": {
     "end_time": "2018-06-21T15:14:54.123129Z",
     "start_time": "2018-06-21T15:14:53.735337Z"
    }
   },
   "outputs": [
    {
     "data": {
      "text/plain": [
       "673065"
      ]
     },
     "execution_count": 6,
     "metadata": {},
     "output_type": "execute_result"
    }
   ],
   "source": [
    "temp = previous_application.copy()\n",
    "\n",
    "temp2 = temp[temp['NAME_CONTRACT_STATUS'].values == 'Approved']\n",
    "\n",
    "previous_application['NFLAG_INSURED_ON_APPROVAL'].isnull().sum()"
   ]
  },
  {
   "cell_type": "code",
   "execution_count": null,
   "metadata": {},
   "outputs": [],
   "source": []
  },
  {
   "cell_type": "code",
   "execution_count": 34,
   "metadata": {
    "ExecuteTime": {
     "end_time": "2018-06-25T14:43:58.697710Z",
     "start_time": "2018-06-25T14:43:57.002118Z"
    }
   },
   "outputs": [
    {
     "data": {
      "image/png": "[encoded data removed]",
      "text/plain": [
       "<matplotlib.figure.Figure at 0x7f79990e7d68>"
      ]
     },
     "metadata": {},
     "output_type": "display_data"
    },
    {
     "data": {
      "text/plain": [
       "237456      2544233.895\n",
       "803013      2784334.140\n",
       "860189      3473582.895\n",
       "999372      2584615.410\n",
       "1515439     2507880.825\n",
       "1546640     3065242.455\n",
       "1649354     2912741.640\n",
       "1745443     2541938.265\n",
       "1854253     2620989.180\n",
       "2190732     3071320.785\n",
       "3032341     2733612.840\n",
       "3366817     3371884.155\n",
       "3493730     3071837.565\n",
       "3595373     2949993.540\n",
       "3699714     2786580.270\n",
       "4455742     3771487.845\n",
       "5109573     2742996.375\n",
       "5221576     2898692.370\n",
       "5248466     3066270.705\n",
       "5336871     2558800.530\n",
       "5426815     2874948.840\n",
       "6364485     3150949.545\n",
       "6554802     2533614.615\n",
       "6658683     2627296.110\n",
       "6986907     3436835.130\n",
       "7078715     3110086.215\n",
       "7214927     2630908.935\n",
       "7312218     3199045.365\n",
       "8207133     3116440.260\n",
       "9119046     3202061.805\n",
       "9355285     3094108.245\n",
       "10331676    2744389.980\n",
       "11311573    2554855.245\n",
       "11673104    2798275.680\n",
       "12730671    2860377.165\n",
       "12966495    2639214.450\n",
       "13130397    2504589.660\n",
       "13447389    2651198.130\n",
       "Name: AMT_INSTALMENT, dtype: float64"
      ]
     },
     "execution_count": 34,
     "metadata": {},
     "output_type": "execute_result"
    }
   ],
   "source": [
    "temp = installments_payments.copy()\n",
    "\n",
    "temp = temp[temp['AMT_INSTALMENT'].values > 2500000]\n",
    "\n",
    "\n",
    "plt.hist(temp['AMT_INSTALMENT'], edgecolor = 'k', bins = 30)\n",
    "plt.title('AMT_INSTALMENT'); plt.xlabel('AMT'); plt.ylabel('Count');\n",
    "plt.show()\n",
    "installments_payments[installments_payments['AMT_INSTALMENT'].values > 2500000]['AMT_INSTALMENT']"
   ]
  },
  {
   "cell_type": "code",
   "execution_count": 25,
   "metadata": {
    "ExecuteTime": {
     "end_time": "2018-06-25T16:04:21.481008Z",
     "start_time": "2018-06-25T16:04:21.061869Z"
    }
   },
   "outputs": [
    {
     "name": "stderr",
     "output_type": "stream",
     "text": [
      "/home/kai/anaconda3/envs/tf_newer/lib/python3.6/site-packages/ipykernel_launcher.py:2: RuntimeWarning: invalid value encountered in greater\n",
      "  \n"
     ]
    }
   ],
   "source": [
    "inst_id = set(installments_payments[installments_payments['AMT_INSTALMENT'].values > np.nanpercentile(installments_payments['AMT_INSTALMENT'].values, 99)]['SK_ID_CURR'].values)\n",
    "pay_id = set(installments_payments[installments_payments['AMT_PAYMENT'].values > np.nanpercentile(installments_payments['AMT_PAYMENT'].values, 99)]['SK_ID_CURR'].values)\n",
    "res = inst_id & pay_id"
   ]
  },
  {
   "cell_type": "code",
   "execution_count": 26,
   "metadata": {
    "ExecuteTime": {
     "end_time": "2018-06-25T16:04:27.601769Z",
     "start_time": "2018-06-25T16:04:27.598926Z"
    }
   },
   "outputs": [
    {
     "data": {
      "text/plain": [
       "(79633, 70885, 70667)"
      ]
     },
     "execution_count": 26,
     "metadata": {},
     "output_type": "execute_result"
    }
   ],
   "source": [
    "inst_id.__len__(), pay_id.__len__(), res.__len__()"
   ]
  },
  {
   "cell_type": "code",
   "execution_count": 23,
   "metadata": {
    "ExecuteTime": {
     "end_time": "2018-06-25T15:55:31.303912Z",
     "start_time": "2018-06-25T15:55:31.297545Z"
    }
   },
   "outputs": [],
   "source": []
  },
  {
   "cell_type": "code",
   "execution_count": 15,
   "metadata": {
    "ExecuteTime": {
     "end_time": "2018-06-25T15:42:57.940122Z",
     "start_time": "2018-06-25T15:42:57.469432Z"
    }
   },
   "outputs": [
    {
     "data": {
      "text/plain": [
       "6804"
      ]
     },
     "execution_count": 15,
     "metadata": {},
     "output_type": "execute_result"
    }
   ],
   "source": []
  },
  {
   "cell_type": "code",
   "execution_count": 24,
   "metadata": {
    "ExecuteTime": {
     "end_time": "2018-06-25T15:55:42.130776Z",
     "start_time": "2018-06-25T15:55:39.664467Z"
    }
   },
   "outputs": [
    {
     "data": {
      "image/png": "[encoded data removed]",
      "text/plain": [
       "<matplotlib.figure.Figure at 0x7f1b09ae0710>"
      ]
     },
     "metadata": {},
     "output_type": "display_data"
    }
   ],
   "source": [
    "temp = installments_payments.copy()\n",
    "\n",
    "'''temp = temp[temp['AMT_INSTALMENT'].values > 2500000]'''\n",
    "\n",
    "temp2 = replace_outliers_by_percentile(installments_payments, 'AMT_INSTALMENT')\n",
    "\n",
    "plt.hist(temp2['AMT_INSTALMENT_percentile_replaced'] , edgecolor = 'k', bins = 30)\n",
    "plt.title('AMT_INSTALMENT'); plt.xlabel('AMT'); plt.ylabel('Count');\n",
    "plt.show()"
   ]
  },
  {
   "cell_type": "code",
   "execution_count": 27,
   "metadata": {
    "ExecuteTime": {
     "end_time": "2018-06-21T15:29:04.423286Z",
     "start_time": "2018-06-21T15:29:02.449099Z"
    }
   },
   "outputs": [
    {
     "data": {
      "image/png": "[encoded data removed]",
      "text/plain": [
       "<matplotlib.figure.Figure at 0x7fec1d516f60>"
      ]
     },
     "metadata": {},
     "output_type": "display_data"
    }
   ],
   "source": [
    "temp = installments_payments.copy()\n",
    "\n",
    "temp = temp[temp['NUM_INSTALMENT_VERSION'].values < 25]\n",
    "\n",
    "plt.hist(temp['NUM_INSTALMENT_VERSION'], edgecolor = 'k', bins = 20)\n",
    "plt.title('NUM_INSTALMENT_VERSION'); plt.xlabel('VER'); plt.ylabel('Count');\n",
    "plt.show()"
   ]
  },
  {
   "cell_type": "code",
   "execution_count": 28,
   "metadata": {
    "ExecuteTime": {
     "end_time": "2018-06-21T15:30:12.765665Z",
     "start_time": "2018-06-21T15:30:11.404040Z"
    }
   },
   "outputs": [
    {
     "data": {
      "image/png": "[encoded data removed]",
      "text/plain": [
       "<matplotlib.figure.Figure at 0x7fec1c17e400>"
      ]
     },
     "metadata": {},
     "output_type": "display_data"
    }
   ],
   "source": [
    "temp = installments_payments.copy()\n",
    "\n",
    "\n",
    "\n",
    "plt.hist(temp['DAYS_INSTALMENT'], edgecolor = 'k', bins = 20)\n",
    "plt.title('DAYS_INSTALMENT'); plt.xlabel('DAYS'); plt.ylabel('Count');\n",
    "plt.show()"
   ]
  },
  {
   "cell_type": "code",
   "execution_count": 71,
   "metadata": {
    "ExecuteTime": {
     "end_time": "2018-06-21T16:13:37.618988Z",
     "start_time": "2018-06-21T16:13:36.698776Z"
    }
   },
   "outputs": [
    {
     "data": {
      "image/png": "[encoded data removed]",
      "text/plain": [
       "<matplotlib.figure.Figure at 0x7fec3a6e5860>"
      ]
     },
     "metadata": {},
     "output_type": "display_data"
    }
   ],
   "source": [
    "temp = installments_payments.copy()\n",
    "\n",
    "'''temp = temp[temp['NUM_INSTALMENT_NUMBER'].values < 200]'''\n",
    "\n",
    "\n",
    "plt.hist(temp['NUM_INSTALMENT_NUMBER'], edgecolor = 'k', bins = 20)\n",
    "plt.title('NUM_INSTALMENT_NUMBER'); plt.xlabel('NUM'); plt.ylabel('Count');\n",
    "plt.show()"
   ]
  },
  {
   "cell_type": "code",
   "execution_count": 31,
   "metadata": {
    "ExecuteTime": {
     "end_time": "2018-06-25T16:31:27.119134Z",
     "start_time": "2018-06-25T16:31:25.346026Z"
    }
   },
   "outputs": [
    {
     "data": {
      "image/png": "[encoded data removed]",
      "text/plain": [
       "<matplotlib.figure.Figure at 0x7f1ba8150828>"
      ]
     },
     "metadata": {},
     "output_type": "display_data"
    },
    {
     "data": {
      "text/plain": [
       "(6.836980507106931e-06, -3000.0)"
      ]
     },
     "execution_count": 31,
     "metadata": {},
     "output_type": "execute_result"
    }
   ],
   "source": [
    "temp = installments_payments.copy()\n",
    "\n",
    "temp = temp['DAYS_ENTRY_PAYMENT'].fillna(999)\n",
    "'''temp = temp[temp.values > -4000]'''\n",
    "temp = temp[temp.values <= 0]\n",
    "\n",
    "\n",
    "plt.hist(temp, edgecolor = 'k', bins = 20)\n",
    "plt.title('DAYS_ENTRY_PAYMENT'); plt.xlabel('NUM'); plt.ylabel('Count');\n",
    "plt.show()\n",
    "\n",
    "temp[temp.values < -3000].shape[0]/temp.shape[0], temp[temp.values >= -3000].min()"
   ]
  },
  {
   "cell_type": "code",
   "execution_count": 36,
   "metadata": {
    "ExecuteTime": {
     "end_time": "2018-06-25T14:46:18.930851Z",
     "start_time": "2018-06-25T14:46:16.109163Z"
    }
   },
   "outputs": [
    {
     "data": {
      "image/png": "[encoded data removed]",
      "text/plain": [
       "<matplotlib.figure.Figure at 0x7f799a0e3fd0>"
      ]
     },
     "metadata": {},
     "output_type": "display_data"
    },
    {
     "name": "stderr",
     "output_type": "stream",
     "text": [
      "/home/kai/anaconda3/envs/tf_newer/lib/python3.6/site-packages/ipykernel_launcher.py:11: RuntimeWarning: invalid value encountered in greater\n",
      "  # This is added back by InteractiveShellApp.init_path()\n"
     ]
    },
    {
     "data": {
      "text/plain": [
       "237456      2544233.895\n",
       "803013      2784334.140\n",
       "860189      3473582.895\n",
       "999372      2584615.410\n",
       "1515439     2507880.825\n",
       "1546640     3065242.455\n",
       "1649354     2912741.640\n",
       "1745443     2541938.265\n",
       "1854253     2620989.180\n",
       "2190732     3071320.785\n",
       "3032341     2733612.840\n",
       "3366817     3371884.155\n",
       "3493730     3071837.565\n",
       "3595373     2949993.540\n",
       "3699714     2786580.270\n",
       "4455742     3771487.845\n",
       "5109573     2742996.375\n",
       "5221576     2898692.370\n",
       "5248466     3066270.705\n",
       "5336871     2558800.530\n",
       "5426815     2874948.840\n",
       "6364485     3150949.545\n",
       "6554802     2533614.615\n",
       "6658683     2627296.110\n",
       "6986907     3436835.130\n",
       "7078715     3110086.215\n",
       "7214927     2753704.935\n",
       "7214928     2753704.935\n",
       "7312218     3199045.365\n",
       "8207133     3116440.260\n",
       "9119046     3202061.805\n",
       "9355285     3094108.245\n",
       "10331676    2744389.980\n",
       "11311573    2554855.245\n",
       "11673104    2798275.680\n",
       "12730671    2860377.165\n",
       "12966495    2639214.450\n",
       "13130397    2504589.660\n",
       "13447389    2651198.130\n",
       "Name: AMT_PAYMENT, dtype: float64"
      ]
     },
     "execution_count": 36,
     "metadata": {},
     "output_type": "execute_result"
    }
   ],
   "source": [
    "temp = installments_payments.copy()\n",
    "\n",
    "temp = temp['AMT_PAYMENT'].fillna(-999)\n",
    "\n",
    "temp = temp[temp.values >= 0]\n",
    "\n",
    "plt.hist(temp, edgecolor = 'k', bins = 20)\n",
    "plt.title('AMT_PAYMENT'); plt.xlabel('AMT'); plt.ylabel('Count');\n",
    "plt.show()\n",
    "\n",
    "installments_payments[installments_payments['AMT_PAYMENT'].values > 2500000]['AMT_PAYMENT']"
   ]
  },
  {
   "cell_type": "code",
   "execution_count": 64,
   "metadata": {
    "ExecuteTime": {
     "end_time": "2018-06-21T15:56:14.441550Z",
     "start_time": "2018-06-21T15:55:06.875468Z"
    }
   },
   "outputs": [
    {
     "data": {
      "image/png": "[encoded data removed]",
      "text/plain": [
       "<matplotlib.figure.Figure at 0x7fec1fd8d198>"
      ]
     },
     "metadata": {},
     "output_type": "display_data"
    }
   ],
   "source": [
    "temp = installments_payments.copy()\n",
    "\n",
    "plt.scatter(temp['AMT_PAYMENT'].fillna(-999).values, temp['AMT_INSTALMENT'].values)\n",
    "plt.xlabel('AMT_PAYMENT', fontsize=12)\n",
    "plt.ylabel('AMT_INSTALMENT', fontsize=12)\n",
    "plt.show()"
   ]
  },
  {
   "cell_type": "code",
   "execution_count": 67,
   "metadata": {
    "ExecuteTime": {
     "end_time": "2018-06-21T16:04:06.626662Z",
     "start_time": "2018-06-21T16:02:59.039774Z"
    }
   },
   "outputs": [
    {
     "data": {
      "image/png": "[encoded data removed]",
      "text/plain": [
       "<matplotlib.figure.Figure at 0x7fec3a31dfd0>"
      ]
     },
     "metadata": {},
     "output_type": "display_data"
    }
   ],
   "source": [
    "temp = installments_payments.copy()\n",
    "\n",
    "plt.scatter(temp['DAYS_ENTRY_PAYMENT'].fillna(-999).values, temp['DAYS_INSTALMENT'].values)\n",
    "\n",
    "plt.xlabel('DAYS_ENTRY_PAYMENT', fontsize=12)\n",
    "plt.ylabel('DAYS_INSTALMENT', fontsize=12)\n",
    "\n",
    "plt.show()"
   ]
  },
  {
   "cell_type": "code",
   "execution_count": 68,
   "metadata": {
    "ExecuteTime": {
     "end_time": "2018-06-21T16:05:16.950170Z",
     "start_time": "2018-06-21T16:04:09.335323Z"
    }
   },
   "outputs": [
    {
     "data": {
      "image/png": "[encoded data removed]",
      "text/plain": [
       "<matplotlib.figure.Figure at 0x7fec1c598240>"
      ]
     },
     "metadata": {},
     "output_type": "display_data"
    }
   ],
   "source": [
    "temp = installments_payments.copy()\n",
    "\n",
    "plt.scatter(temp['DAYS_ENTRY_PAYMENT'].fillna(-999).values, temp['AMT_PAYMENT'].fillna(-999).values)\n",
    "plt.xlabel('DAYS_ENTRY_PAYMENT', fontsize=12)\n",
    "plt.ylabel('AMT_PAYMENT', fontsize=12)\n",
    "plt.show()"
   ]
  },
  {
   "cell_type": "code",
   "execution_count": 69,
   "metadata": {
    "ExecuteTime": {
     "end_time": "2018-06-21T16:06:27.120886Z",
     "start_time": "2018-06-21T16:05:19.789979Z"
    }
   },
   "outputs": [
    {
     "data": {
      "image/png": "[encoded data removed]",
      "text/plain": [
       "<matplotlib.figure.Figure at 0x7fec22baf390>"
      ]
     },
     "metadata": {},
     "output_type": "display_data"
    }
   ],
   "source": [
    "temp = installments_payments.copy()\n",
    "\n",
    "plt.scatter(temp['DAYS_INSTALMENT'].values, temp['AMT_INSTALMENT'].values)\n",
    "plt.xlabel('DAYS_INSTALMENT', fontsize=12)\n",
    "plt.ylabel('AMT_INSTALMENT', fontsize=12)\n",
    "plt.show()"
   ]
  },
  {
   "cell_type": "code",
   "execution_count": 42,
   "metadata": {
    "ExecuteTime": {
     "end_time": "2018-06-21T18:02:59.045620Z",
     "start_time": "2018-06-21T18:01:51.970752Z"
    }
   },
   "outputs": [
    {
     "data": {
      "image/png": "[encoded data removed]",
      "text/plain": [
       "<matplotlib.figure.Figure at 0x7efb503200f0>"
      ]
     },
     "metadata": {},
     "output_type": "display_data"
    },
    {
     "data": {
      "text/plain": [
       "(               0\n",
       " 11943247  3189.0,                     0\n",
       " 396593    1804496.850\n",
       " 3542381   2424726.405\n",
       " 3794755   1010375.190\n",
       " 3794805   1006469.235\n",
       " 5992605   1081089.900\n",
       " 11489447  1115650.845)"
      ]
     },
     "execution_count": 42,
     "metadata": {},
     "output_type": "execute_result"
    }
   ],
   "source": [
    "temp = installments_payments.copy()\n",
    "\n",
    "X = pd.DataFrame(temp['DAYS_INSTALMENT'].values - temp['DAYS_ENTRY_PAYMENT'].fillna(-999).values)\n",
    "Y = pd.DataFrame(temp['AMT_INSTALMENT'].values - temp['AMT_PAYMENT'].fillna(-999).values)\n",
    "\n",
    "plt.scatter(X, Y)\n",
    "plt.xlabel('DAYS_DIFF', fontsize=12)\n",
    "plt.ylabel('AMT_DIFF', fontsize=12)\n",
    "plt.show()\n",
    "\n",
    "X[X.values >2000], Y[Y.values >1000000]"
   ]
  },
  {
   "cell_type": "code",
   "execution_count": 5,
   "metadata": {
    "ExecuteTime": {
     "end_time": "2018-06-21T17:46:21.176947Z",
     "start_time": "2018-06-21T17:46:20.909784Z"
    }
   },
   "outputs": [
    {
     "data": {
      "image/png": "[encoded data removed]",
      "text/plain": [
       "<matplotlib.figure.Figure at 0x7efb6e11dfd0>"
      ]
     },
     "metadata": {},
     "output_type": "display_data"
    }
   ],
   "source": [
    "temp = bureau.copy()\n",
    "\n",
    "plt.hist(temp['DAYS_CREDIT'], edgecolor = 'k', bins = 20)\n",
    "plt.title('DAYS_CREDIT'); plt.xlabel('DAYS'); plt.ylabel('Count');\n",
    "plt.show()"
   ]
  },
  {
   "cell_type": "code",
   "execution_count": 23,
   "metadata": {
    "ExecuteTime": {
     "end_time": "2018-06-21T17:51:57.655223Z",
     "start_time": "2018-06-21T17:51:57.308759Z"
    }
   },
   "outputs": [
    {
     "data": {
      "image/png": "[encoded data removed]",
      "text/plain": [
       "<matplotlib.figure.Figure at 0x7efb6be10ac8>"
      ]
     },
     "metadata": {},
     "output_type": "display_data"
    },
    {
     "data": {
      "text/plain": [
       "(1716428, 1712211)"
      ]
     },
     "execution_count": 23,
     "metadata": {},
     "output_type": "execute_result"
    }
   ],
   "source": [
    "temp = bureau.copy() \n",
    "\n",
    "temp = temp[temp['CREDIT_DAY_OVERDUE'].values > 0]\n",
    "\n",
    "plt.hist(temp['CREDIT_DAY_OVERDUE'], edgecolor = 'k', bins = 20)\n",
    "plt.title('CREDIT_DAY_OVERDUE'); plt.xlabel('DAYS'); plt.ylabel('Count');\n",
    "plt.show()\n",
    "\n",
    "bureau.shape[0], bureau[bureau['CREDIT_DAY_OVERDUE'].values == 0]['CREDIT_DAY_OVERDUE'].count()"
   ]
  },
  {
   "cell_type": "code",
   "execution_count": 25,
   "metadata": {
    "ExecuteTime": {
     "end_time": "2018-06-21T17:54:26.539203Z",
     "start_time": "2018-06-21T17:54:26.343644Z"
    }
   },
   "outputs": [
    {
     "data": {
      "image/png": "[encoded data removed]",
      "text/plain": [
       "<matplotlib.figure.Figure at 0x7efb6bdbb940>"
      ]
     },
     "metadata": {},
     "output_type": "display_data"
    }
   ],
   "source": [
    "temp = bureau.copy() \n",
    "\n",
    "temp = pd.DataFrame(temp['DAYS_CREDIT_ENDDATE'].fillna(-999))\n",
    "temp = temp[temp['DAYS_CREDIT_ENDDATE'].values > 0]\n",
    "\n",
    "plt.hist(temp['DAYS_CREDIT_ENDDATE'], edgecolor = 'k', bins = 20)\n",
    "plt.title('DAYS_CREDIT_ENDDATE'); plt.xlabel('DAYS'); plt.ylabel('Count');\n",
    "plt.show()"
   ]
  },
  {
   "cell_type": "code",
   "execution_count": 8,
   "metadata": {
    "ExecuteTime": {
     "end_time": "2018-06-25T16:44:54.213389Z",
     "start_time": "2018-06-25T16:44:53.870340Z"
    }
   },
   "outputs": [
    {
     "data": {
      "image/png": "[encoded data removed]",
      "text/plain": [
       "<matplotlib.figure.Figure at 0x7fa2832f0630>"
      ]
     },
     "metadata": {},
     "output_type": "display_data"
    },
    {
     "data": {
      "text/html": [
       "<div>\n",
       "<style scoped>\n",
       "    .dataframe tbody tr th:only-of-type {\n",
       "        vertical-align: middle;\n",
       "    }\n",
       "\n",
       "    .dataframe tbody tr th {\n",
       "        vertical-align: top;\n",
       "    }\n",
       "\n",
       "    .dataframe thead th {\n",
       "        text-align: right;\n",
       "    }\n",
       "</style>\n",
       "<table border=\"1\" class=\"dataframe\">\n",
       "  <thead>\n",
       "    <tr style=\"text-align: right;\">\n",
       "      <th></th>\n",
       "      <th>DAYS_ENDDATE_FACT</th>\n",
       "    </tr>\n",
       "  </thead>\n",
       "  <tbody>\n",
       "    <tr>\n",
       "      <th>198346</th>\n",
       "      <td>-42023.0</td>\n",
       "    </tr>\n",
       "  </tbody>\n",
       "</table>\n",
       "</div>"
      ],
      "text/plain": [
       "        DAYS_ENDDATE_FACT\n",
       "198346           -42023.0"
      ]
     },
     "execution_count": 8,
     "metadata": {},
     "output_type": "execute_result"
    }
   ],
   "source": [
    "temp = bureau.copy() \n",
    "\n",
    "temp = pd.DataFrame(temp['DAYS_ENDDATE_FACT'].fillna(999))\n",
    "temp = temp[temp['DAYS_ENDDATE_FACT'].values <= 0]\n",
    "\n",
    "plt.hist(temp[temp['DAYS_ENDDATE_FACT'].values > -3000]['DAYS_ENDDATE_FACT'], edgecolor = 'k', bins = 20)\n",
    "plt.title('DAYS_ENDDATE_FACT'); plt.xlabel('DAYS'); plt.ylabel('Count');\n",
    "plt.show()\n",
    "temp[temp['DAYS_ENDDATE_FACT'].values < -3500]"
   ]
  },
  {
   "cell_type": "code",
   "execution_count": 12,
   "metadata": {
    "ExecuteTime": {
     "end_time": "2018-06-25T17:36:20.329649Z",
     "start_time": "2018-06-25T17:36:20.039958Z"
    }
   },
   "outputs": [
    {
     "name": "stderr",
     "output_type": "stream",
     "text": [
      "/home/kai/anaconda3/envs/tf_newer/lib/python3.6/site-packages/ipykernel_launcher.py:4: RuntimeWarning: invalid value encountered in greater\n",
      "  after removing the cwd from sys.path.\n"
     ]
    },
    {
     "data": {
      "image/png": "[encoded data removed]",
      "text/plain": [
       "<matplotlib.figure.Figure at 0x7fe666582828>"
      ]
     },
     "metadata": {},
     "output_type": "display_data"
    },
    {
     "name": "stderr",
     "output_type": "stream",
     "text": [
      "/home/kai/anaconda3/envs/tf_newer/lib/python3.6/site-packages/ipykernel_launcher.py:7: RuntimeWarning: invalid value encountered in greater\n",
      "  import sys\n"
     ]
    },
    {
     "data": {
      "text/html": [
       "<div>\n",
       "<style scoped>\n",
       "    .dataframe tbody tr th:only-of-type {\n",
       "        vertical-align: middle;\n",
       "    }\n",
       "\n",
       "    .dataframe tbody tr th {\n",
       "        vertical-align: top;\n",
       "    }\n",
       "\n",
       "    .dataframe thead th {\n",
       "        text-align: right;\n",
       "    }\n",
       "</style>\n",
       "<table border=\"1\" class=\"dataframe\">\n",
       "  <thead>\n",
       "    <tr style=\"text-align: right;\">\n",
       "      <th></th>\n",
       "      <th>AMT_CREDIT_MAX_OVERDUE</th>\n",
       "    </tr>\n",
       "  </thead>\n",
       "  <tbody>\n",
       "    <tr>\n",
       "      <th>4</th>\n",
       "      <td>77674.500</td>\n",
       "    </tr>\n",
       "    <tr>\n",
       "      <th>26</th>\n",
       "      <td>88821.000</td>\n",
       "    </tr>\n",
       "    <tr>\n",
       "      <th>289</th>\n",
       "      <td>140631.840</td>\n",
       "    </tr>\n",
       "    <tr>\n",
       "      <th>541</th>\n",
       "      <td>133308.810</td>\n",
       "    </tr>\n",
       "    <tr>\n",
       "      <th>1483</th>\n",
       "      <td>55230.075</td>\n",
       "    </tr>\n",
       "    <tr>\n",
       "      <th>1644</th>\n",
       "      <td>556600.500</td>\n",
       "    </tr>\n",
       "    <tr>\n",
       "      <th>1833</th>\n",
       "      <td>59886.000</td>\n",
       "    </tr>\n",
       "    <tr>\n",
       "      <th>1840</th>\n",
       "      <td>87354.000</td>\n",
       "    </tr>\n",
       "    <tr>\n",
       "      <th>1841</th>\n",
       "      <td>54517.500</td>\n",
       "    </tr>\n",
       "    <tr>\n",
       "      <th>1845</th>\n",
       "      <td>52038.000</td>\n",
       "    </tr>\n",
       "    <tr>\n",
       "      <th>1874</th>\n",
       "      <td>244881.000</td>\n",
       "    </tr>\n",
       "    <tr>\n",
       "      <th>2120</th>\n",
       "      <td>62100.000</td>\n",
       "    </tr>\n",
       "    <tr>\n",
       "      <th>2124</th>\n",
       "      <td>91696.500</td>\n",
       "    </tr>\n",
       "    <tr>\n",
       "      <th>2125</th>\n",
       "      <td>218304.000</td>\n",
       "    </tr>\n",
       "    <tr>\n",
       "      <th>2196</th>\n",
       "      <td>349428.060</td>\n",
       "    </tr>\n",
       "    <tr>\n",
       "      <th>2286</th>\n",
       "      <td>42254.505</td>\n",
       "    </tr>\n",
       "    <tr>\n",
       "      <th>2492</th>\n",
       "      <td>63144.000</td>\n",
       "    </tr>\n",
       "    <tr>\n",
       "      <th>2493</th>\n",
       "      <td>42988.500</td>\n",
       "    </tr>\n",
       "    <tr>\n",
       "      <th>2494</th>\n",
       "      <td>305070.390</td>\n",
       "    </tr>\n",
       "    <tr>\n",
       "      <th>2790</th>\n",
       "      <td>238950.000</td>\n",
       "    </tr>\n",
       "    <tr>\n",
       "      <th>3445</th>\n",
       "      <td>40738.500</td>\n",
       "    </tr>\n",
       "    <tr>\n",
       "      <th>3716</th>\n",
       "      <td>148972.500</td>\n",
       "    </tr>\n",
       "    <tr>\n",
       "      <th>4120</th>\n",
       "      <td>49392.000</td>\n",
       "    </tr>\n",
       "    <tr>\n",
       "      <th>4135</th>\n",
       "      <td>110983.500</td>\n",
       "    </tr>\n",
       "    <tr>\n",
       "      <th>4136</th>\n",
       "      <td>48625.875</td>\n",
       "    </tr>\n",
       "    <tr>\n",
       "      <th>4413</th>\n",
       "      <td>80946.000</td>\n",
       "    </tr>\n",
       "    <tr>\n",
       "      <th>4424</th>\n",
       "      <td>41719.500</td>\n",
       "    </tr>\n",
       "    <tr>\n",
       "      <th>4514</th>\n",
       "      <td>140333.040</td>\n",
       "    </tr>\n",
       "    <tr>\n",
       "      <th>4971</th>\n",
       "      <td>82197.000</td>\n",
       "    </tr>\n",
       "    <tr>\n",
       "      <th>5083</th>\n",
       "      <td>68521.500</td>\n",
       "    </tr>\n",
       "    <tr>\n",
       "      <th>...</th>\n",
       "      <td>...</td>\n",
       "    </tr>\n",
       "    <tr>\n",
       "      <th>1704618</th>\n",
       "      <td>49864.500</td>\n",
       "    </tr>\n",
       "    <tr>\n",
       "      <th>1705601</th>\n",
       "      <td>40153.500</td>\n",
       "    </tr>\n",
       "    <tr>\n",
       "      <th>1705608</th>\n",
       "      <td>40194.000</td>\n",
       "    </tr>\n",
       "    <tr>\n",
       "      <th>1705753</th>\n",
       "      <td>70920.000</td>\n",
       "    </tr>\n",
       "    <tr>\n",
       "      <th>1706847</th>\n",
       "      <td>49538.925</td>\n",
       "    </tr>\n",
       "    <tr>\n",
       "      <th>1707142</th>\n",
       "      <td>53554.680</td>\n",
       "    </tr>\n",
       "    <tr>\n",
       "      <th>1707495</th>\n",
       "      <td>97830.000</td>\n",
       "    </tr>\n",
       "    <tr>\n",
       "      <th>1709188</th>\n",
       "      <td>47763.000</td>\n",
       "    </tr>\n",
       "    <tr>\n",
       "      <th>1709509</th>\n",
       "      <td>42448.500</td>\n",
       "    </tr>\n",
       "    <tr>\n",
       "      <th>1709668</th>\n",
       "      <td>118715.400</td>\n",
       "    </tr>\n",
       "    <tr>\n",
       "      <th>1709708</th>\n",
       "      <td>4402660.500</td>\n",
       "    </tr>\n",
       "    <tr>\n",
       "      <th>1710071</th>\n",
       "      <td>264892.500</td>\n",
       "    </tr>\n",
       "    <tr>\n",
       "      <th>1711071</th>\n",
       "      <td>44439.165</td>\n",
       "    </tr>\n",
       "    <tr>\n",
       "      <th>1711257</th>\n",
       "      <td>315441.000</td>\n",
       "    </tr>\n",
       "    <tr>\n",
       "      <th>1711530</th>\n",
       "      <td>50908.680</td>\n",
       "    </tr>\n",
       "    <tr>\n",
       "      <th>1712358</th>\n",
       "      <td>73575.000</td>\n",
       "    </tr>\n",
       "    <tr>\n",
       "      <th>1712876</th>\n",
       "      <td>41872.230</td>\n",
       "    </tr>\n",
       "    <tr>\n",
       "      <th>1712891</th>\n",
       "      <td>49369.500</td>\n",
       "    </tr>\n",
       "    <tr>\n",
       "      <th>1712997</th>\n",
       "      <td>47650.500</td>\n",
       "    </tr>\n",
       "    <tr>\n",
       "      <th>1713141</th>\n",
       "      <td>46350.000</td>\n",
       "    </tr>\n",
       "    <tr>\n",
       "      <th>1713468</th>\n",
       "      <td>49735.845</td>\n",
       "    </tr>\n",
       "    <tr>\n",
       "      <th>1713539</th>\n",
       "      <td>40042.035</td>\n",
       "    </tr>\n",
       "    <tr>\n",
       "      <th>1713773</th>\n",
       "      <td>77697.000</td>\n",
       "    </tr>\n",
       "    <tr>\n",
       "      <th>1713863</th>\n",
       "      <td>433192.500</td>\n",
       "    </tr>\n",
       "    <tr>\n",
       "      <th>1714090</th>\n",
       "      <td>51471.000</td>\n",
       "    </tr>\n",
       "    <tr>\n",
       "      <th>1714161</th>\n",
       "      <td>129943.350</td>\n",
       "    </tr>\n",
       "    <tr>\n",
       "      <th>1715229</th>\n",
       "      <td>48744.000</td>\n",
       "    </tr>\n",
       "    <tr>\n",
       "      <th>1715309</th>\n",
       "      <td>52945.605</td>\n",
       "    </tr>\n",
       "    <tr>\n",
       "      <th>1715437</th>\n",
       "      <td>220081.500</td>\n",
       "    </tr>\n",
       "    <tr>\n",
       "      <th>1716179</th>\n",
       "      <td>95276.205</td>\n",
       "    </tr>\n",
       "  </tbody>\n",
       "</table>\n",
       "<p>6402 rows × 1 columns</p>\n",
       "</div>"
      ],
      "text/plain": [
       "         AMT_CREDIT_MAX_OVERDUE\n",
       "4                     77674.500\n",
       "26                    88821.000\n",
       "289                  140631.840\n",
       "541                  133308.810\n",
       "1483                  55230.075\n",
       "1644                 556600.500\n",
       "1833                  59886.000\n",
       "1840                  87354.000\n",
       "1841                  54517.500\n",
       "1845                  52038.000\n",
       "1874                 244881.000\n",
       "2120                  62100.000\n",
       "2124                  91696.500\n",
       "2125                 218304.000\n",
       "2196                 349428.060\n",
       "2286                  42254.505\n",
       "2492                  63144.000\n",
       "2493                  42988.500\n",
       "2494                 305070.390\n",
       "2790                 238950.000\n",
       "3445                  40738.500\n",
       "3716                 148972.500\n",
       "4120                  49392.000\n",
       "4135                 110983.500\n",
       "4136                  48625.875\n",
       "4413                  80946.000\n",
       "4424                  41719.500\n",
       "4514                 140333.040\n",
       "4971                  82197.000\n",
       "5083                  68521.500\n",
       "...                         ...\n",
       "1704618               49864.500\n",
       "1705601               40153.500\n",
       "1705608               40194.000\n",
       "1705753               70920.000\n",
       "1706847               49538.925\n",
       "1707142               53554.680\n",
       "1707495               97830.000\n",
       "1709188               47763.000\n",
       "1709509               42448.500\n",
       "1709668              118715.400\n",
       "1709708             4402660.500\n",
       "1710071              264892.500\n",
       "1711071               44439.165\n",
       "1711257              315441.000\n",
       "1711530               50908.680\n",
       "1712358               73575.000\n",
       "1712876               41872.230\n",
       "1712891               49369.500\n",
       "1712997               47650.500\n",
       "1713141               46350.000\n",
       "1713468               49735.845\n",
       "1713539               40042.035\n",
       "1713773               77697.000\n",
       "1713863              433192.500\n",
       "1714090               51471.000\n",
       "1714161              129943.350\n",
       "1715229               48744.000\n",
       "1715309               52945.605\n",
       "1715437              220081.500\n",
       "1716179               95276.205\n",
       "\n",
       "[6402 rows x 1 columns]"
      ]
     },
     "execution_count": 12,
     "metadata": {},
     "output_type": "execute_result"
    }
   ],
   "source": [
    "temp = replace_outliers_by_percentile(bureau, 'AMT_CREDIT_MAX_OVERDUE', 99).fillna(-999)\n",
    "\n",
    "\n",
    "plt.hist(temp['AMT_CREDIT_MAX_OVERDUE_percentile_replaced'], edgecolor = 'k', bins = 20)\n",
    "plt.title('AMT_CREDIT_MAX_OVERDUE'); plt.xlabel('AMT'); plt.ylabel('Count');\n",
    "plt.show()\n",
    "pd.DataFrame(bureau[bureau['AMT_CREDIT_MAX_OVERDUE'].values > 40000]['AMT_CREDIT_MAX_OVERDUE'])"
   ]
  },
  {
   "cell_type": "code",
   "execution_count": null,
   "metadata": {},
   "outputs": [],
   "source": []
  },
  {
   "cell_type": "code",
   "execution_count": 83,
   "metadata": {
    "ExecuteTime": {
     "end_time": "2018-06-21T18:13:25.155584Z",
     "start_time": "2018-06-21T18:13:24.894140Z"
    }
   },
   "outputs": [
    {
     "data": {
      "image/png": "[encoded data removed]",
      "text/plain": [
       "<matplotlib.figure.Figure at 0x7efb6ba77208>"
      ]
     },
     "metadata": {},
     "output_type": "display_data"
    },
    {
     "data": {
      "text/plain": [
       "array([0, 2, 1, 4, 3, 5, 9, 8, 6, 7])"
      ]
     },
     "execution_count": 83,
     "metadata": {},
     "output_type": "execute_result"
    }
   ],
   "source": [
    "temp = bureau.copy() \n",
    "\n",
    "\n",
    "\n",
    "plt.hist(temp['CNT_CREDIT_PROLONG'], edgecolor = 'k', bins = 20)\n",
    "plt.title('CNT_CREDIT_PROLONG'); plt.xlabel('CNT'); plt.ylabel('Count');\n",
    "plt.show()\n",
    "\n",
    "temp['CNT_CREDIT_PROLONG'].unique()"
   ]
  },
  {
   "cell_type": "code",
   "execution_count": 24,
   "metadata": {
    "ExecuteTime": {
     "end_time": "2018-06-25T17:45:52.094593Z",
     "start_time": "2018-06-25T17:45:51.763489Z"
    }
   },
   "outputs": [
    {
     "name": "stderr",
     "output_type": "stream",
     "text": [
      "/home/kai/anaconda3/envs/tf_newer/lib/python3.6/site-packages/ipykernel_launcher.py:4: RuntimeWarning: invalid value encountered in greater\n",
      "  after removing the cwd from sys.path.\n"
     ]
    },
    {
     "data": {
      "image/png": "[encoded data removed]",
      "text/plain": [
       "<matplotlib.figure.Figure at 0x7fe666eb5e48>"
      ]
     },
     "metadata": {},
     "output_type": "display_data"
    }
   ],
   "source": [
    "temp = replace_outliers_by_percentile(bureau, 'AMT_CREDIT_SUM', 99).fillna(-999)\n",
    "\n",
    "\n",
    "plt.hist(temp['AMT_CREDIT_SUM_percentile_replaced'].values, edgecolor = 'k', bins = 30)\n",
    "plt.title('AMT_CREDIT_SUM'); plt.xlabel('AMT'); plt.ylabel('Count');\n",
    "plt.show()"
   ]
  },
  {
   "cell_type": "code",
   "execution_count": 35,
   "metadata": {
    "ExecuteTime": {
     "end_time": "2018-06-25T17:58:44.545321Z",
     "start_time": "2018-06-25T17:58:44.318860Z"
    }
   },
   "outputs": [
    {
     "name": "stderr",
     "output_type": "stream",
     "text": [
      "/home/kai/anaconda3/envs/tf_newer/lib/python3.6/site-packages/ipykernel_launcher.py:4: RuntimeWarning: invalid value encountered in greater\n",
      "  after removing the cwd from sys.path.\n"
     ]
    },
    {
     "data": {
      "image/png": "[encoded data removed]",
      "text/plain": [
       "<matplotlib.figure.Figure at 0x7fe6676139b0>"
      ]
     },
     "metadata": {},
     "output_type": "display_data"
    },
    {
     "name": "stderr",
     "output_type": "stream",
     "text": [
      "/home/kai/anaconda3/envs/tf_newer/lib/python3.6/site-packages/ipykernel_launcher.py:9: RuntimeWarning: invalid value encountered in less\n",
      "  if __name__ == '__main__':\n"
     ]
    },
    {
     "data": {
      "text/plain": [
       "0.004904371170826856"
      ]
     },
     "execution_count": 35,
     "metadata": {},
     "output_type": "execute_result"
    }
   ],
   "source": [
    "temp = replace_outliers_by_percentile(bureau, 'AMT_CREDIT_SUM_DEBT', 99).fillna(-999)\n",
    "# temp = replace_outliers_by_percentile_negative(temp, 'AMT_CREDIT_SUM_DEBT_percentile_replaced', 1).fillna(-999)\n",
    "\n",
    "\n",
    "plt.hist(temp['AMT_CREDIT_SUM_DEBT_percentile_replaced'].values, edgecolor = 'k', bins = 20)\n",
    "plt.title('AMT_CREDIT_SUM_DEBT'); plt.xlabel('AMT'); plt.ylabel('Count');\n",
    "plt.show()\n",
    "\n",
    "pd.DataFrame(bureau[bureau['AMT_CREDIT_SUM_DEBT'].values < 0]['AMT_CREDIT_SUM_DEBT']).shape[0]/bureau.shape[0]"
   ]
  },
  {
   "cell_type": "code",
   "execution_count": 39,
   "metadata": {
    "ExecuteTime": {
     "end_time": "2018-06-25T18:01:02.257382Z",
     "start_time": "2018-06-25T18:01:01.957755Z"
    }
   },
   "outputs": [
    {
     "name": "stderr",
     "output_type": "stream",
     "text": [
      "/home/kai/anaconda3/envs/tf_newer/lib/python3.6/site-packages/ipykernel_launcher.py:4: RuntimeWarning: invalid value encountered in greater\n",
      "  after removing the cwd from sys.path.\n"
     ]
    },
    {
     "data": {
      "image/png": "[encoded data removed]",
      "text/plain": [
       "<matplotlib.figure.Figure at 0x7fe6679dbda0>"
      ]
     },
     "metadata": {},
     "output_type": "display_data"
    },
    {
     "name": "stderr",
     "output_type": "stream",
     "text": [
      "/home/kai/anaconda3/envs/tf_newer/lib/python3.6/site-packages/ipykernel_launcher.py:8: RuntimeWarning: invalid value encountered in less\n",
      "  \n"
     ]
    },
    {
     "data": {
      "text/plain": [
       "351"
      ]
     },
     "execution_count": 39,
     "metadata": {},
     "output_type": "execute_result"
    }
   ],
   "source": [
    "temp = replace_outliers_by_percentile(bureau, 'AMT_CREDIT_SUM_LIMIT', 99).fillna(-999)\n",
    "\n",
    "\n",
    "plt.hist(temp['AMT_CREDIT_SUM_LIMIT_percentile_replaced'], edgecolor = 'k', bins = 20)\n",
    "plt.title('AMT_CREDIT_SUM_LIMIT'); plt.xlabel('AMT'); plt.ylabel('Count');\n",
    "plt.show()\n",
    "\n",
    "bureau[bureau['AMT_CREDIT_SUM_LIMIT'].values < 0].shape[0]"
   ]
  },
  {
   "cell_type": "code",
   "execution_count": 86,
   "metadata": {
    "ExecuteTime": {
     "end_time": "2018-06-25T18:40:53.690529Z",
     "start_time": "2018-06-25T18:40:53.042216Z"
    }
   },
   "outputs": [
    {
     "data": {
      "image/png": "[encoded data removed]",
      "text/plain": [
       "<matplotlib.figure.Figure at 0x7fe6679b8828>"
      ]
     },
     "metadata": {},
     "output_type": "display_data"
    }
   ],
   "source": [
    "# temp = replace_outliers_by_percentile(bureau, 'AMT_CREDIT_SUM_OVERDUE', 99, True)\n",
    "\n",
    "# temp = temp[temp['AMT_CREDIT_SUM_OVERDUE_percentile_replaced'].values > 0]\n",
    "\n",
    "temp = bureau.copy()\n",
    "\n",
    "temp = temp[temp['AMT_CREDIT_SUM_OVERDUE'].values > 50000]\n",
    "\n",
    "plt.hist(temp['AMT_CREDIT_SUM_OVERDUE'].values, edgecolor = 'k', bins = 200)\n",
    "plt.title('AMT_CREDIT_SUM_OVERDUE'); plt.xlabel('AMT'); plt.ylabel('Count');\n",
    "plt.show()\n",
    "\n",
    "# temp['AMT_CREDIT_SUM_OVERDUE_percentile_replaced'].max(), temp[temp['AMT_CREDIT_SUM_OVERDUE_percentile_replaced'].values < temp['AMT_CREDIT_SUM_OVERDUE_percentile_replaced'].max()]['AMT_CREDIT_SUM_OVERDUE_percentile_replaced'].max()"
   ]
  },
  {
   "cell_type": "code",
   "execution_count": 87,
   "metadata": {
    "ExecuteTime": {
     "end_time": "2018-06-25T18:44:55.231350Z",
     "start_time": "2018-06-25T18:44:54.699130Z"
    }
   },
   "outputs": [
    {
     "data": {
      "image/png": "[encoded data removed]",
      "text/plain": [
       "<matplotlib.figure.Figure at 0x7fe668cf5470>"
      ]
     },
     "metadata": {},
     "output_type": "display_data"
    },
    {
     "data": {
      "text/plain": [
       "17"
      ]
     },
     "execution_count": 87,
     "metadata": {},
     "output_type": "execute_result"
    }
   ],
   "source": [
    "temp = replace_outliers_by_percentile_negative(bureau, 'DAYS_CREDIT_UPDATE', 1)\n",
    "\n",
    "plt.hist(temp['DAYS_CREDIT_UPDATE_percentile_replaced'], edgecolor = 'k', bins = 20)\n",
    "plt.title('DAYS_CREDIT_UPDATE'); plt.xlabel('DAYS'); plt.ylabel('Count');\n",
    "plt.show()\n",
    "\n",
    "pd.DataFrame(bureau[ bureau['DAYS_CREDIT_UPDATE'].values > 0]['DAYS_CREDIT_UPDATE']).shape[0]"
   ]
  },
  {
   "cell_type": "code",
   "execution_count": 94,
   "metadata": {
    "ExecuteTime": {
     "end_time": "2018-06-25T18:48:00.755584Z",
     "start_time": "2018-06-25T18:48:00.082318Z"
    }
   },
   "outputs": [
    {
     "name": "stderr",
     "output_type": "stream",
     "text": [
      "/home/kai/anaconda3/envs/tf_newer/lib/python3.6/site-packages/ipykernel_launcher.py:4: RuntimeWarning: invalid value encountered in greater\n",
      "  after removing the cwd from sys.path.\n",
      "/home/kai/anaconda3/envs/tf_newer/lib/python3.6/site-packages/ipykernel_launcher.py:7: RuntimeWarning: invalid value encountered in greater\n",
      "  import sys\n"
     ]
    },
    {
     "data": {
      "image/png": "[encoded data removed]",
      "text/plain": [
       "<matplotlib.figure.Figure at 0x7fe667aa2f60>"
      ]
     },
     "metadata": {},
     "output_type": "display_data"
    },
    {
     "name": "stderr",
     "output_type": "stream",
     "text": [
      "/home/kai/anaconda3/envs/tf_newer/lib/python3.6/site-packages/ipykernel_launcher.py:10: RuntimeWarning: invalid value encountered in greater\n",
      "  # Remove the CWD from sys.path while we load stuff.\n"
     ]
    },
    {
     "data": {
      "text/html": [
       "<div>\n",
       "<style scoped>\n",
       "    .dataframe tbody tr th:only-of-type {\n",
       "        vertical-align: middle;\n",
       "    }\n",
       "\n",
       "    .dataframe tbody tr th {\n",
       "        vertical-align: top;\n",
       "    }\n",
       "\n",
       "    .dataframe thead th {\n",
       "        text-align: right;\n",
       "    }\n",
       "</style>\n",
       "<table border=\"1\" class=\"dataframe\">\n",
       "  <thead>\n",
       "    <tr style=\"text-align: right;\">\n",
       "      <th></th>\n",
       "      <th>AMT_ANNUITY</th>\n",
       "    </tr>\n",
       "  </thead>\n",
       "  <tbody>\n",
       "    <tr>\n",
       "      <th>588794</th>\n",
       "      <td>57476227.5</td>\n",
       "    </tr>\n",
       "    <tr>\n",
       "      <th>607473</th>\n",
       "      <td>118453423.5</td>\n",
       "    </tr>\n",
       "    <tr>\n",
       "      <th>639909</th>\n",
       "      <td>27293341.5</td>\n",
       "    </tr>\n",
       "    <tr>\n",
       "      <th>639914</th>\n",
       "      <td>27293341.5</td>\n",
       "    </tr>\n",
       "    <tr>\n",
       "      <th>650368</th>\n",
       "      <td>59586682.5</td>\n",
       "    </tr>\n",
       "    <tr>\n",
       "      <th>719450</th>\n",
       "      <td>42812998.2</td>\n",
       "    </tr>\n",
       "    <tr>\n",
       "      <th>831382</th>\n",
       "      <td>43286215.5</td>\n",
       "    </tr>\n",
       "    <tr>\n",
       "      <th>834051</th>\n",
       "      <td>24016036.5</td>\n",
       "    </tr>\n",
       "    <tr>\n",
       "      <th>992980</th>\n",
       "      <td>31160587.5</td>\n",
       "    </tr>\n",
       "    <tr>\n",
       "      <th>1076015</th>\n",
       "      <td>54562657.5</td>\n",
       "    </tr>\n",
       "    <tr>\n",
       "      <th>1275852</th>\n",
       "      <td>45490630.5</td>\n",
       "    </tr>\n",
       "    <tr>\n",
       "      <th>1366730</th>\n",
       "      <td>31160587.5</td>\n",
       "    </tr>\n",
       "    <tr>\n",
       "      <th>1468707</th>\n",
       "      <td>33784668.0</td>\n",
       "    </tr>\n",
       "    <tr>\n",
       "      <th>1480286</th>\n",
       "      <td>56844981.0</td>\n",
       "    </tr>\n",
       "    <tr>\n",
       "      <th>1687167</th>\n",
       "      <td>90632371.5</td>\n",
       "    </tr>\n",
       "  </tbody>\n",
       "</table>\n",
       "</div>"
      ],
      "text/plain": [
       "         AMT_ANNUITY\n",
       "588794    57476227.5\n",
       "607473   118453423.5\n",
       "639909    27293341.5\n",
       "639914    27293341.5\n",
       "650368    59586682.5\n",
       "719450    42812998.2\n",
       "831382    43286215.5\n",
       "834051    24016036.5\n",
       "992980    31160587.5\n",
       "1076015   54562657.5\n",
       "1275852   45490630.5\n",
       "1366730   31160587.5\n",
       "1468707   33784668.0\n",
       "1480286   56844981.0\n",
       "1687167   90632371.5"
      ]
     },
     "execution_count": 94,
     "metadata": {},
     "output_type": "execute_result"
    }
   ],
   "source": [
    "\n",
    "temp = replace_outliers_by_percentile(bureau, 'AMT_ANNUITY', 99, True).fillna(-999)\n",
    "\n",
    "\n",
    "\n",
    "plt.hist(temp['AMT_ANNUITY_percentile_replaced'], edgecolor = 'k', bins = 20)\n",
    "plt.title('AMT_ANNUITY'); plt.xlabel('AMT'); plt.ylabel('Count');\n",
    "plt.show()\n",
    "\n",
    "pd.DataFrame(bureau[bureau['AMT_ANNUITY'].values > 20000000]['AMT_ANNUITY'])"
   ]
  },
  {
   "cell_type": "code",
   "execution_count": null,
   "metadata": {
    "collapsed": true
   },
   "outputs": [],
   "source": []
  },
  {
   "cell_type": "code",
   "execution_count": 3,
   "metadata": {
    "ExecuteTime": {
     "end_time": "2018-06-14T18:25:24.544709Z",
     "start_time": "2018-06-14T18:25:23.393412Z"
    },
    "collapsed": true
   },
   "outputs": [],
   "source": [
    "df = pd.concat([train,test], axis = 0)\n",
    "df = df[['SK_ID_CURR']]\n",
    "credit = credit_card_balance.copy()"
   ]
  },
  {
   "cell_type": "markdown",
   "metadata": {},
   "source": [
    "# Substraction, ratio, and score_dpd"
   ]
  },
  {
   "cell_type": "code",
   "execution_count": 7,
   "metadata": {
    "ExecuteTime": {
     "end_time": "2018-06-14T18:26:01.090365Z",
     "start_time": "2018-06-14T18:26:01.083092Z"
    },
    "collapsed": true
   },
   "outputs": [],
   "source": [
    "import pandas as pd\n",
    "import os\n",
    "import gc\n",
    "import numpy as np\n",
    "\n",
    "def ratio_name(numerator, denominator): return numerator + '_divide_' + denominator\n",
    "\n",
    "def ratio(df, numerator, denominator):\n",
    "    return df[numerator] / df[denominator]\n",
    "\n",
    "def substraction_name(col1, col2): return col1 + '_minus_' + col2\n",
    "\n",
    "def substraction(df, col1, col2):\n",
    "    return df[col1] - df[col2]"
   ]
  },
  {
   "cell_type": "code",
   "execution_count": 9,
   "metadata": {
    "ExecuteTime": {
     "end_time": "2018-06-14T18:26:13.660205Z",
     "start_time": "2018-06-14T18:26:13.649679Z"
    },
    "collapsed": true
   },
   "outputs": [],
   "source": [
    "# Substraction\n",
    "credit[substraction_name('AMT_CREDIT_LIMIT_ACTUAL', 'AMT_BALANCE')] = \\\n",
    "substraction(credit, 'AMT_CREDIT_LIMIT_ACTUAL', 'AMT_BALANCE')"
   ]
  },
  {
   "cell_type": "code",
   "execution_count": 10,
   "metadata": {
    "ExecuteTime": {
     "end_time": "2018-06-14T18:26:18.472594Z",
     "start_time": "2018-06-14T18:26:18.468911Z"
    },
    "collapsed": true
   },
   "outputs": [],
   "source": [
    "# Ratio\n",
    "top = ['AMT_DRAWINGS_ATM_CURRENT', 'AMT_DRAWINGS_POS_CURRENT', 'AMT_DRAWINGS_OTHER_CURRENT',\\\n",
    "      'CNT_DRAWINGS_ATM_CURRENT', 'CNT_DRAWINGS_OTHER_CURRENT', 'CNT_DRAWINGS_POS_CURRENT',\\\n",
    "      'AMT_DRAWINGS_ATM_CURRENT', 'AMT_DRAWINGS_POS_CURRENT', 'AMT_DRAWINGS_OTHER_CURRENT', 'AMT_DRAWINGS_CURRENT']\n",
    "\n",
    "bot = ['AMT_DRAWINGS_CURRENT', 'AMT_DRAWINGS_CURRENT','AMT_DRAWINGS_CURRENT', \\\n",
    "       'CNT_DRAWINGS_CURRENT', 'CNT_DRAWINGS_CURRENT', 'CNT_DRAWINGS_CURRENT',\\\n",
    "       'CNT_DRAWINGS_ATM_CURRENT', 'CNT_DRAWINGS_POS_CURRENT', 'CNT_DRAWINGS_OTHER_CURRENT', 'CNT_DRAWINGS_CURRENT']"
   ]
  },
  {
   "cell_type": "code",
   "execution_count": 11,
   "metadata": {
    "ExecuteTime": {
     "end_time": "2018-06-14T18:26:22.674381Z",
     "start_time": "2018-06-14T18:26:22.600200Z"
    }
   },
   "outputs": [
    {
     "name": "stdout",
     "output_type": "stream",
     "text": [
      "AMT_DRAWINGS_ATM_CURRENT AMT_DRAWINGS_CURRENT\n",
      "AMT_DRAWINGS_POS_CURRENT AMT_DRAWINGS_CURRENT\n",
      "AMT_DRAWINGS_OTHER_CURRENT AMT_DRAWINGS_CURRENT\n",
      "CNT_DRAWINGS_ATM_CURRENT CNT_DRAWINGS_CURRENT\n",
      "CNT_DRAWINGS_OTHER_CURRENT CNT_DRAWINGS_CURRENT\n",
      "CNT_DRAWINGS_POS_CURRENT CNT_DRAWINGS_CURRENT\n",
      "AMT_DRAWINGS_ATM_CURRENT CNT_DRAWINGS_ATM_CURRENT\n",
      "AMT_DRAWINGS_POS_CURRENT CNT_DRAWINGS_POS_CURRENT\n",
      "AMT_DRAWINGS_OTHER_CURRENT CNT_DRAWINGS_OTHER_CURRENT\n",
      "AMT_DRAWINGS_CURRENT CNT_DRAWINGS_CURRENT\n"
     ]
    }
   ],
   "source": [
    "# Ratio\n",
    "for i in range(len(top)):\n",
    "    print(top[i],bot[i])\n",
    "    credit[ratio_name(top[i], bot[i])] = \\\n",
    "    ratio(credit, top[i], bot[i])"
   ]
  },
  {
   "cell_type": "code",
   "execution_count": 12,
   "metadata": {
    "ExecuteTime": {
     "end_time": "2018-06-14T18:26:27.888407Z",
     "start_time": "2018-06-14T18:26:27.793778Z"
    },
    "collapsed": true
   },
   "outputs": [],
   "source": [
    "credit['score_DPD'] = 0\n",
    "credit['score_DPD'] = (credit['SK_DPD']**3 + 5* credit['SK_DPD_DEF']**3 + 1) * (1/(1 + abs(credit['MONTHS_BALANCE']) ))"
   ]
  },
  {
   "cell_type": "code",
   "execution_count": 13,
   "metadata": {
    "ExecuteTime": {
     "end_time": "2018-06-14T18:26:34.391611Z",
     "start_time": "2018-06-14T18:26:33.277237Z"
    },
    "collapsed": true
   },
   "outputs": [
    {
     "data": {
      "text/html": [
       "<div>\n",
       "<style scoped>\n",
       "    .dataframe tbody tr th:only-of-type {\n",
       "        vertical-align: middle;\n",
       "    }\n",
       "\n",
       "    .dataframe tbody tr th {\n",
       "        vertical-align: top;\n",
       "    }\n",
       "\n",
       "    .dataframe thead th {\n",
       "        text-align: right;\n",
       "    }\n",
       "</style>\n",
       "<table border=\"1\" class=\"dataframe\">\n",
       "  <thead>\n",
       "    <tr style=\"text-align: right;\">\n",
       "      <th></th>\n",
       "      <th>score_DPD</th>\n",
       "      <th>SK_DPD</th>\n",
       "      <th>SK_DPD_DEF</th>\n",
       "      <th>MONTHS_BALANCE</th>\n",
       "    </tr>\n",
       "  </thead>\n",
       "  <tbody>\n",
       "    <tr>\n",
       "      <th>0</th>\n",
       "      <td>0.142857</td>\n",
       "      <td>0</td>\n",
       "      <td>0</td>\n",
       "      <td>-6</td>\n",
       "    </tr>\n",
       "    <tr>\n",
       "      <th>1</th>\n",
       "      <td>0.500000</td>\n",
       "      <td>0</td>\n",
       "      <td>0</td>\n",
       "      <td>-1</td>\n",
       "    </tr>\n",
       "    <tr>\n",
       "      <th>2</th>\n",
       "      <td>0.125000</td>\n",
       "      <td>0</td>\n",
       "      <td>0</td>\n",
       "      <td>-7</td>\n",
       "    </tr>\n",
       "    <tr>\n",
       "      <th>3</th>\n",
       "      <td>0.200000</td>\n",
       "      <td>0</td>\n",
       "      <td>0</td>\n",
       "      <td>-4</td>\n",
       "    </tr>\n",
       "    <tr>\n",
       "      <th>4</th>\n",
       "      <td>0.500000</td>\n",
       "      <td>0</td>\n",
       "      <td>0</td>\n",
       "      <td>-1</td>\n",
       "    </tr>\n",
       "    <tr>\n",
       "      <th>5</th>\n",
       "      <td>43.000000</td>\n",
       "      <td>7</td>\n",
       "      <td>0</td>\n",
       "      <td>-7</td>\n",
       "    </tr>\n",
       "    <tr>\n",
       "      <th>6</th>\n",
       "      <td>0.142857</td>\n",
       "      <td>0</td>\n",
       "      <td>0</td>\n",
       "      <td>-6</td>\n",
       "    </tr>\n",
       "    <tr>\n",
       "      <th>7</th>\n",
       "      <td>0.125000</td>\n",
       "      <td>0</td>\n",
       "      <td>0</td>\n",
       "      <td>-7</td>\n",
       "    </tr>\n",
       "    <tr>\n",
       "      <th>8</th>\n",
       "      <td>0.200000</td>\n",
       "      <td>0</td>\n",
       "      <td>0</td>\n",
       "      <td>-4</td>\n",
       "    </tr>\n",
       "    <tr>\n",
       "      <th>9</th>\n",
       "      <td>0.166667</td>\n",
       "      <td>0</td>\n",
       "      <td>0</td>\n",
       "      <td>-5</td>\n",
       "    </tr>\n",
       "    <tr>\n",
       "      <th>10</th>\n",
       "      <td>0.125000</td>\n",
       "      <td>0</td>\n",
       "      <td>0</td>\n",
       "      <td>-7</td>\n",
       "    </tr>\n",
       "    <tr>\n",
       "      <th>11</th>\n",
       "      <td>0.500000</td>\n",
       "      <td>0</td>\n",
       "      <td>0</td>\n",
       "      <td>-1</td>\n",
       "    </tr>\n",
       "    <tr>\n",
       "      <th>12</th>\n",
       "      <td>0.200000</td>\n",
       "      <td>0</td>\n",
       "      <td>0</td>\n",
       "      <td>-4</td>\n",
       "    </tr>\n",
       "    <tr>\n",
       "      <th>13</th>\n",
       "      <td>0.166667</td>\n",
       "      <td>0</td>\n",
       "      <td>0</td>\n",
       "      <td>-5</td>\n",
       "    </tr>\n",
       "    <tr>\n",
       "      <th>14</th>\n",
       "      <td>0.500000</td>\n",
       "      <td>0</td>\n",
       "      <td>0</td>\n",
       "      <td>-1</td>\n",
       "    </tr>\n",
       "    <tr>\n",
       "      <th>15</th>\n",
       "      <td>0.500000</td>\n",
       "      <td>0</td>\n",
       "      <td>0</td>\n",
       "      <td>-1</td>\n",
       "    </tr>\n",
       "    <tr>\n",
       "      <th>16</th>\n",
       "      <td>0.142857</td>\n",
       "      <td>0</td>\n",
       "      <td>0</td>\n",
       "      <td>-6</td>\n",
       "    </tr>\n",
       "    <tr>\n",
       "      <th>17</th>\n",
       "      <td>0.142857</td>\n",
       "      <td>0</td>\n",
       "      <td>0</td>\n",
       "      <td>-6</td>\n",
       "    </tr>\n",
       "    <tr>\n",
       "      <th>18</th>\n",
       "      <td>0.250000</td>\n",
       "      <td>0</td>\n",
       "      <td>0</td>\n",
       "      <td>-3</td>\n",
       "    </tr>\n",
       "    <tr>\n",
       "      <th>19</th>\n",
       "      <td>0.200000</td>\n",
       "      <td>0</td>\n",
       "      <td>0</td>\n",
       "      <td>-4</td>\n",
       "    </tr>\n",
       "    <tr>\n",
       "      <th>20</th>\n",
       "      <td>0.142857</td>\n",
       "      <td>0</td>\n",
       "      <td>0</td>\n",
       "      <td>-6</td>\n",
       "    </tr>\n",
       "    <tr>\n",
       "      <th>21</th>\n",
       "      <td>0.500000</td>\n",
       "      <td>0</td>\n",
       "      <td>0</td>\n",
       "      <td>-1</td>\n",
       "    </tr>\n",
       "    <tr>\n",
       "      <th>22</th>\n",
       "      <td>0.500000</td>\n",
       "      <td>0</td>\n",
       "      <td>0</td>\n",
       "      <td>-1</td>\n",
       "    </tr>\n",
       "    <tr>\n",
       "      <th>23</th>\n",
       "      <td>0.166667</td>\n",
       "      <td>0</td>\n",
       "      <td>0</td>\n",
       "      <td>-5</td>\n",
       "    </tr>\n",
       "    <tr>\n",
       "      <th>24</th>\n",
       "      <td>0.250000</td>\n",
       "      <td>0</td>\n",
       "      <td>0</td>\n",
       "      <td>-3</td>\n",
       "    </tr>\n",
       "    <tr>\n",
       "      <th>25</th>\n",
       "      <td>0.142857</td>\n",
       "      <td>0</td>\n",
       "      <td>0</td>\n",
       "      <td>-6</td>\n",
       "    </tr>\n",
       "    <tr>\n",
       "      <th>26</th>\n",
       "      <td>0.250000</td>\n",
       "      <td>0</td>\n",
       "      <td>0</td>\n",
       "      <td>-3</td>\n",
       "    </tr>\n",
       "    <tr>\n",
       "      <th>27</th>\n",
       "      <td>0.142857</td>\n",
       "      <td>0</td>\n",
       "      <td>0</td>\n",
       "      <td>-6</td>\n",
       "    </tr>\n",
       "    <tr>\n",
       "      <th>28</th>\n",
       "      <td>0.333333</td>\n",
       "      <td>0</td>\n",
       "      <td>0</td>\n",
       "      <td>-2</td>\n",
       "    </tr>\n",
       "    <tr>\n",
       "      <th>29</th>\n",
       "      <td>0.200000</td>\n",
       "      <td>0</td>\n",
       "      <td>0</td>\n",
       "      <td>-4</td>\n",
       "    </tr>\n",
       "    <tr>\n",
       "      <th>...</th>\n",
       "      <td>...</td>\n",
       "      <td>...</td>\n",
       "      <td>...</td>\n",
       "      <td>...</td>\n",
       "    </tr>\n",
       "    <tr>\n",
       "      <th>3840282</th>\n",
       "      <td>0.111111</td>\n",
       "      <td>0</td>\n",
       "      <td>0</td>\n",
       "      <td>-8</td>\n",
       "    </tr>\n",
       "    <tr>\n",
       "      <th>3840283</th>\n",
       "      <td>0.125000</td>\n",
       "      <td>0</td>\n",
       "      <td>0</td>\n",
       "      <td>-7</td>\n",
       "    </tr>\n",
       "    <tr>\n",
       "      <th>3840284</th>\n",
       "      <td>0.111111</td>\n",
       "      <td>0</td>\n",
       "      <td>0</td>\n",
       "      <td>-8</td>\n",
       "    </tr>\n",
       "    <tr>\n",
       "      <th>3840285</th>\n",
       "      <td>0.058824</td>\n",
       "      <td>0</td>\n",
       "      <td>0</td>\n",
       "      <td>-16</td>\n",
       "    </tr>\n",
       "    <tr>\n",
       "      <th>3840286</th>\n",
       "      <td>0.062500</td>\n",
       "      <td>0</td>\n",
       "      <td>0</td>\n",
       "      <td>-15</td>\n",
       "    </tr>\n",
       "    <tr>\n",
       "      <th>3840287</th>\n",
       "      <td>0.090909</td>\n",
       "      <td>0</td>\n",
       "      <td>0</td>\n",
       "      <td>-10</td>\n",
       "    </tr>\n",
       "    <tr>\n",
       "      <th>3840288</th>\n",
       "      <td>0.062500</td>\n",
       "      <td>0</td>\n",
       "      <td>0</td>\n",
       "      <td>-15</td>\n",
       "    </tr>\n",
       "    <tr>\n",
       "      <th>3840289</th>\n",
       "      <td>0.100000</td>\n",
       "      <td>0</td>\n",
       "      <td>0</td>\n",
       "      <td>-9</td>\n",
       "    </tr>\n",
       "    <tr>\n",
       "      <th>3840290</th>\n",
       "      <td>0.100000</td>\n",
       "      <td>0</td>\n",
       "      <td>0</td>\n",
       "      <td>-9</td>\n",
       "    </tr>\n",
       "    <tr>\n",
       "      <th>3840291</th>\n",
       "      <td>0.100000</td>\n",
       "      <td>0</td>\n",
       "      <td>0</td>\n",
       "      <td>-9</td>\n",
       "    </tr>\n",
       "    <tr>\n",
       "      <th>3840292</th>\n",
       "      <td>0.100000</td>\n",
       "      <td>0</td>\n",
       "      <td>0</td>\n",
       "      <td>-9</td>\n",
       "    </tr>\n",
       "    <tr>\n",
       "      <th>3840293</th>\n",
       "      <td>0.111111</td>\n",
       "      <td>0</td>\n",
       "      <td>0</td>\n",
       "      <td>-8</td>\n",
       "    </tr>\n",
       "    <tr>\n",
       "      <th>3840294</th>\n",
       "      <td>0.066667</td>\n",
       "      <td>0</td>\n",
       "      <td>0</td>\n",
       "      <td>-14</td>\n",
       "    </tr>\n",
       "    <tr>\n",
       "      <th>3840295</th>\n",
       "      <td>0.083333</td>\n",
       "      <td>0</td>\n",
       "      <td>0</td>\n",
       "      <td>-11</td>\n",
       "    </tr>\n",
       "    <tr>\n",
       "      <th>3840296</th>\n",
       "      <td>0.083333</td>\n",
       "      <td>0</td>\n",
       "      <td>0</td>\n",
       "      <td>-11</td>\n",
       "    </tr>\n",
       "    <tr>\n",
       "      <th>3840297</th>\n",
       "      <td>0.083333</td>\n",
       "      <td>0</td>\n",
       "      <td>0</td>\n",
       "      <td>-11</td>\n",
       "    </tr>\n",
       "    <tr>\n",
       "      <th>3840298</th>\n",
       "      <td>0.090909</td>\n",
       "      <td>0</td>\n",
       "      <td>0</td>\n",
       "      <td>-10</td>\n",
       "    </tr>\n",
       "    <tr>\n",
       "      <th>3840299</th>\n",
       "      <td>0.058824</td>\n",
       "      <td>0</td>\n",
       "      <td>0</td>\n",
       "      <td>-16</td>\n",
       "    </tr>\n",
       "    <tr>\n",
       "      <th>3840300</th>\n",
       "      <td>0.111111</td>\n",
       "      <td>0</td>\n",
       "      <td>0</td>\n",
       "      <td>-8</td>\n",
       "    </tr>\n",
       "    <tr>\n",
       "      <th>3840301</th>\n",
       "      <td>0.083333</td>\n",
       "      <td>0</td>\n",
       "      <td>0</td>\n",
       "      <td>-11</td>\n",
       "    </tr>\n",
       "    <tr>\n",
       "      <th>3840302</th>\n",
       "      <td>0.083333</td>\n",
       "      <td>0</td>\n",
       "      <td>0</td>\n",
       "      <td>-11</td>\n",
       "    </tr>\n",
       "    <tr>\n",
       "      <th>3840303</th>\n",
       "      <td>0.100000</td>\n",
       "      <td>0</td>\n",
       "      <td>0</td>\n",
       "      <td>-9</td>\n",
       "    </tr>\n",
       "    <tr>\n",
       "      <th>3840304</th>\n",
       "      <td>0.062500</td>\n",
       "      <td>0</td>\n",
       "      <td>0</td>\n",
       "      <td>-15</td>\n",
       "    </tr>\n",
       "    <tr>\n",
       "      <th>3840305</th>\n",
       "      <td>0.083333</td>\n",
       "      <td>0</td>\n",
       "      <td>0</td>\n",
       "      <td>-11</td>\n",
       "    </tr>\n",
       "    <tr>\n",
       "      <th>3840306</th>\n",
       "      <td>0.071429</td>\n",
       "      <td>0</td>\n",
       "      <td>0</td>\n",
       "      <td>-13</td>\n",
       "    </tr>\n",
       "    <tr>\n",
       "      <th>3840307</th>\n",
       "      <td>0.100000</td>\n",
       "      <td>0</td>\n",
       "      <td>0</td>\n",
       "      <td>-9</td>\n",
       "    </tr>\n",
       "    <tr>\n",
       "      <th>3840308</th>\n",
       "      <td>0.100000</td>\n",
       "      <td>0</td>\n",
       "      <td>0</td>\n",
       "      <td>-9</td>\n",
       "    </tr>\n",
       "    <tr>\n",
       "      <th>3840309</th>\n",
       "      <td>0.100000</td>\n",
       "      <td>0</td>\n",
       "      <td>0</td>\n",
       "      <td>-9</td>\n",
       "    </tr>\n",
       "    <tr>\n",
       "      <th>3840310</th>\n",
       "      <td>0.090909</td>\n",
       "      <td>0</td>\n",
       "      <td>0</td>\n",
       "      <td>-10</td>\n",
       "    </tr>\n",
       "    <tr>\n",
       "      <th>3840311</th>\n",
       "      <td>0.090909</td>\n",
       "      <td>0</td>\n",
       "      <td>0</td>\n",
       "      <td>-10</td>\n",
       "    </tr>\n",
       "  </tbody>\n",
       "</table>\n",
       "<p>3840312 rows × 4 columns</p>\n",
       "</div>"
      ],
      "text/plain": [
       "         score_DPD  SK_DPD  SK_DPD_DEF  MONTHS_BALANCE\n",
       "0         0.142857       0           0              -6\n",
       "1         0.500000       0           0              -1\n",
       "2         0.125000       0           0              -7\n",
       "3         0.200000       0           0              -4\n",
       "4         0.500000       0           0              -1\n",
       "5        43.000000       7           0              -7\n",
       "6         0.142857       0           0              -6\n",
       "7         0.125000       0           0              -7\n",
       "8         0.200000       0           0              -4\n",
       "9         0.166667       0           0              -5\n",
       "10        0.125000       0           0              -7\n",
       "11        0.500000       0           0              -1\n",
       "12        0.200000       0           0              -4\n",
       "13        0.166667       0           0              -5\n",
       "14        0.500000       0           0              -1\n",
       "15        0.500000       0           0              -1\n",
       "16        0.142857       0           0              -6\n",
       "17        0.142857       0           0              -6\n",
       "18        0.250000       0           0              -3\n",
       "19        0.200000       0           0              -4\n",
       "20        0.142857       0           0              -6\n",
       "21        0.500000       0           0              -1\n",
       "22        0.500000       0           0              -1\n",
       "23        0.166667       0           0              -5\n",
       "24        0.250000       0           0              -3\n",
       "25        0.142857       0           0              -6\n",
       "26        0.250000       0           0              -3\n",
       "27        0.142857       0           0              -6\n",
       "28        0.333333       0           0              -2\n",
       "29        0.200000       0           0              -4\n",
       "...            ...     ...         ...             ...\n",
       "3840282   0.111111       0           0              -8\n",
       "3840283   0.125000       0           0              -7\n",
       "3840284   0.111111       0           0              -8\n",
       "3840285   0.058824       0           0             -16\n",
       "3840286   0.062500       0           0             -15\n",
       "3840287   0.090909       0           0             -10\n",
       "3840288   0.062500       0           0             -15\n",
       "3840289   0.100000       0           0              -9\n",
       "3840290   0.100000       0           0              -9\n",
       "3840291   0.100000       0           0              -9\n",
       "3840292   0.100000       0           0              -9\n",
       "3840293   0.111111       0           0              -8\n",
       "3840294   0.066667       0           0             -14\n",
       "3840295   0.083333       0           0             -11\n",
       "3840296   0.083333       0           0             -11\n",
       "3840297   0.083333       0           0             -11\n",
       "3840298   0.090909       0           0             -10\n",
       "3840299   0.058824       0           0             -16\n",
       "3840300   0.111111       0           0              -8\n",
       "3840301   0.083333       0           0             -11\n",
       "3840302   0.083333       0           0             -11\n",
       "3840303   0.100000       0           0              -9\n",
       "3840304   0.062500       0           0             -15\n",
       "3840305   0.083333       0           0             -11\n",
       "3840306   0.071429       0           0             -13\n",
       "3840307   0.100000       0           0              -9\n",
       "3840308   0.100000       0           0              -9\n",
       "3840309   0.100000       0           0              -9\n",
       "3840310   0.090909       0           0             -10\n",
       "3840311   0.090909       0           0             -10\n",
       "\n",
       "[3840312 rows x 4 columns]"
      ]
     },
     "execution_count": 13,
     "metadata": {},
     "output_type": "execute_result"
    }
   ],
   "source": [
    "credit[['score_DPD','SK_DPD','SK_DPD_DEF', 'MONTHS_BALANCE' ]]"
   ]
  },
  {
   "cell_type": "code",
   "execution_count": 14,
   "metadata": {
    "ExecuteTime": {
     "end_time": "2018-06-14T18:26:38.059182Z",
     "start_time": "2018-06-14T18:26:38.056311Z"
    },
    "scrolled": true
   },
   "outputs": [
    {
     "name": "stdout",
     "output_type": "stream",
     "text": [
      "['SK_ID_PREV', 'SK_ID_CURR', 'MONTHS_BALANCE', 'AMT_BALANCE', 'AMT_CREDIT_LIMIT_ACTUAL', 'AMT_DRAWINGS_ATM_CURRENT', 'AMT_DRAWINGS_CURRENT', 'AMT_DRAWINGS_OTHER_CURRENT', 'AMT_DRAWINGS_POS_CURRENT', 'AMT_INST_MIN_REGULARITY', 'AMT_PAYMENT_CURRENT', 'AMT_PAYMENT_TOTAL_CURRENT', 'AMT_RECEIVABLE_PRINCIPAL', 'AMT_RECIVABLE', 'AMT_TOTAL_RECEIVABLE', 'CNT_DRAWINGS_ATM_CURRENT', 'CNT_DRAWINGS_CURRENT', 'CNT_DRAWINGS_OTHER_CURRENT', 'CNT_DRAWINGS_POS_CURRENT', 'CNT_INSTALMENT_MATURE_CUM', 'SK_DPD', 'SK_DPD_DEF', 'AMT_CREDIT_LIMIT_ACTUAL_minus_AMT_BALANCE', 'AMT_DRAWINGS_ATM_CURRENT_divide_AMT_DRAWINGS_CURRENT', 'AMT_DRAWINGS_POS_CURRENT_divide_AMT_DRAWINGS_CURRENT', 'AMT_DRAWINGS_OTHER_CURRENT_divide_AMT_DRAWINGS_CURRENT', 'CNT_DRAWINGS_ATM_CURRENT_divide_CNT_DRAWINGS_CURRENT', 'CNT_DRAWINGS_OTHER_CURRENT_divide_CNT_DRAWINGS_CURRENT', 'CNT_DRAWINGS_POS_CURRENT_divide_CNT_DRAWINGS_CURRENT', 'AMT_DRAWINGS_ATM_CURRENT_divide_CNT_DRAWINGS_ATM_CURRENT', 'AMT_DRAWINGS_POS_CURRENT_divide_CNT_DRAWINGS_POS_CURRENT', 'AMT_DRAWINGS_OTHER_CURRENT_divide_CNT_DRAWINGS_OTHER_CURRENT', 'AMT_DRAWINGS_CURRENT_divide_CNT_DRAWINGS_CURRENT', 'score_DPD']\n"
     ]
    }
   ],
   "source": [
    "col = [i for i in list(credit.columns.values) if credit[i].dtype!= 'object']\n",
    "print(col)"
   ]
  },
  {
   "cell_type": "markdown",
   "metadata": {},
   "source": [
    "# Numerical Columns"
   ]
  },
  {
   "cell_type": "code",
   "execution_count": 15,
   "metadata": {
    "ExecuteTime": {
     "end_time": "2018-06-14T18:27:32.254435Z",
     "start_time": "2018-06-14T18:27:32.250463Z"
    },
    "collapsed": true
   },
   "outputs": [],
   "source": [
    "numerical_cols = ['SK_DPD', 'SK_DPD_DEF', 'AMT_BALANCE', 'AMT_CREDIT_LIMIT_ACTUAL', 'AMT_DRAWINGS_ATM_CURRENT', 'AMT_DRAWINGS_CURRENT', 'AMT_DRAWINGS_OTHER_CURRENT', 'AMT_DRAWINGS_POS_CURRENT', 'AMT_INST_MIN_REGULARITY', 'AMT_PAYMENT_CURRENT', 'AMT_PAYMENT_TOTAL_CURRENT', 'AMT_RECEIVABLE_PRINCIPAL', 'AMT_RECIVABLE', 'AMT_TOTAL_RECEIVABLE', 'CNT_DRAWINGS_ATM_CURRENT', 'CNT_DRAWINGS_CURRENT', 'CNT_DRAWINGS_OTHER_CURRENT', 'CNT_DRAWINGS_POS_CURRENT', 'CNT_INSTALMENT_MATURE_CUM', 'AMT_CREDIT_LIMIT_ACTUAL_minus_AMT_BALANCE', 'AMT_DRAWINGS_ATM_CURRENT_divide_AMT_DRAWINGS_CURRENT', 'AMT_DRAWINGS_POS_CURRENT_divide_AMT_DRAWINGS_CURRENT', 'AMT_DRAWINGS_OTHER_CURRENT_divide_AMT_DRAWINGS_CURRENT', 'CNT_DRAWINGS_ATM_CURRENT_divide_CNT_DRAWINGS_CURRENT', 'CNT_DRAWINGS_OTHER_CURRENT_divide_CNT_DRAWINGS_CURRENT', 'CNT_DRAWINGS_POS_CURRENT_divide_CNT_DRAWINGS_CURRENT', 'AMT_DRAWINGS_ATM_CURRENT_divide_CNT_DRAWINGS_ATM_CURRENT', 'AMT_DRAWINGS_POS_CURRENT_divide_CNT_DRAWINGS_POS_CURRENT', 'AMT_DRAWINGS_OTHER_CURRENT_divide_CNT_DRAWINGS_OTHER_CURRENT', 'AMT_DRAWINGS_CURRENT_divide_CNT_DRAWINGS_CURRENT', 'score_DPD']"
   ]
  },
  {
   "cell_type": "code",
   "execution_count": 16,
   "metadata": {
    "ExecuteTime": {
     "end_time": "2018-06-14T18:27:36.438629Z",
     "start_time": "2018-06-14T18:27:36.430987Z"
    }
   },
   "outputs": [
    {
     "name": "stdout",
     "output_type": "stream",
     "text": [
      "[['positive_count'], ['positive_count'], ['positive_count', 'negative_count'], None, None, None, None, None, None, None, None, None, None, None, None, None, None, None, None, None, None, None, None, None, None, None, None, None, None, None, None]\n"
     ]
    }
   ],
   "source": [
    "numerical_len = len(numerical_cols)\n",
    "extrafunc_list = [_ for _ in range(len(numerical_cols))]\n",
    "for i in range(len(numerical_cols)):\n",
    "    if i == 0 or i == 1:\n",
    "        extrafunc_list[i] = ['positive_count']\n",
    "    else:\n",
    "        if i == 2:\n",
    "            extrafunc_list[i] = ['positive_count', 'negative_count']\n",
    "        else:\n",
    "            extrafunc_list[i] = None\n",
    "print(extrafunc_list)"
   ]
  },
  {
   "cell_type": "code",
   "execution_count": 17,
   "metadata": {
    "ExecuteTime": {
     "end_time": "2018-06-14T18:27:40.262015Z",
     "start_time": "2018-06-14T18:27:40.052452Z"
    },
    "collapsed": true
   },
   "outputs": [],
   "source": [
    "def numerical_agg(df, gp_col, agg_col, df_name, extrafunc_list = None):\n",
    "    \n",
    "    agg_list = ['max', 'min', 'std','mean']\n",
    "    '''\n",
    "    Possible extrafunc_list: ['sum','median','two_minus_one_third','positive_count', 'negative_count','standard_error', 'trimmed_mean_10_pct', 'trimmed_mean_25_pct','normed_std', 'max_minus_min','one_third','two_third']\n",
    "    '''\n",
    "    if extrafunc_list:\n",
    "        if 'one_third' in extrafunc_list:\n",
    "            def one_third(series):\n",
    "                return series.quantile(1/3)\n",
    "            \n",
    "        if 'two_third' in extrafunc_list:\n",
    "            def two_third(series):\n",
    "                return series.quantile(2/3)\n",
    "            \n",
    "        if 'max_minus_min' in extrafunc_list:\n",
    "            def max_minus_min(series):\n",
    "                return (series.max() - series.min())\n",
    "        \n",
    "        if 'two_minus_one_third' in extrafunc_list:\n",
    "#             print('two_minus_one')\n",
    "#             print('get two minus one')\n",
    "            def two_minus_one_third(series):\n",
    "                return(series.quantile(0.66666) - series.quantile(0.33333))\n",
    "       \n",
    "        if 'positive_count' in extrafunc_list:\n",
    "#             print('get positive count')\n",
    "            def positive_count(series):\n",
    "                return pd.Series(series > 0).sum()\n",
    "\n",
    "        if 'negative_count' in extrafunc_list:\n",
    "#             print('get negative count')\n",
    "            def negative_count(series):\n",
    "                return pd.Series(series < 0).sum()\n",
    "\n",
    "        if 'standard_error' in extrafunc_list:\n",
    "#             print('get std-error')\n",
    "            def standard_error(series):\n",
    "                return series.std()/np.sqrt(len(series))\n",
    "\n",
    "        if 'normed_std' in extrafunc_list:\n",
    "#             print('get normed_std')\n",
    "            def normed_std(series):\n",
    "                return series.std()/series.mean()\n",
    "\n",
    "        if 'trimmed_mean_10_pct' in extrafunc_list:\n",
    "#             print('get_trimmed 10 pct')\n",
    "            def trimmed_mean_10_pct(series):\n",
    "                return stats.trim_mean(series.dropna(), 0.1)\n",
    "\n",
    "        if 'trimmed_mean_25_pct' in extrafunc_list:\n",
    "#             print('get_trimmed 25 pct')\n",
    "            def trimmed_mean_25_pct(series):\n",
    "                return stats.trim_mean(series.dropna(), 0.25)\n",
    "        \n",
    "        list_tocall = []\n",
    "        for i in extrafunc_list:\n",
    "            if i not in set(['sum', 'median']):\n",
    "                list_tocall.append(eval(i))\n",
    "            \n",
    "    if extrafunc_list != None:   \n",
    "        agg_list.extend(list_tocall)\n",
    "    \n",
    "    _df = df.groupby(gp_col).agg({agg_col:agg_list})\n",
    "    columns = []\n",
    "    for pre in _df.columns.levels[0]:\n",
    "        for middle in _df.columns.levels[1]:\n",
    "            columns.append('%s_%s_%s' %(df_name,pre,middle))\n",
    "    _df.columns = columns\n",
    "    \n",
    "    return _df.reset_index()"
   ]
  },
  {
   "cell_type": "code",
   "execution_count": 20,
   "metadata": {
    "ExecuteTime": {
     "end_time": "2018-06-14T18:30:18.624692Z",
     "start_time": "2018-06-14T18:28:50.823567Z"
    }
   },
   "outputs": [
    {
     "name": "stdout",
     "output_type": "stream",
     "text": [
      "SK_DPD\n",
      "SK_DPD_DEF\n",
      "AMT_BALANCE\n",
      "AMT_CREDIT_LIMIT_ACTUAL\n",
      "AMT_DRAWINGS_ATM_CURRENT\n",
      "AMT_DRAWINGS_CURRENT\n",
      "AMT_DRAWINGS_OTHER_CURRENT\n",
      "AMT_DRAWINGS_POS_CURRENT\n",
      "AMT_INST_MIN_REGULARITY\n",
      "AMT_PAYMENT_CURRENT\n",
      "AMT_PAYMENT_TOTAL_CURRENT\n",
      "AMT_RECEIVABLE_PRINCIPAL\n",
      "AMT_RECIVABLE\n",
      "AMT_TOTAL_RECEIVABLE\n",
      "CNT_DRAWINGS_ATM_CURRENT\n",
      "CNT_DRAWINGS_CURRENT\n",
      "CNT_DRAWINGS_OTHER_CURRENT\n",
      "CNT_DRAWINGS_POS_CURRENT\n",
      "CNT_INSTALMENT_MATURE_CUM\n",
      "AMT_CREDIT_LIMIT_ACTUAL_minus_AMT_BALANCE\n",
      "AMT_DRAWINGS_ATM_CURRENT_divide_AMT_DRAWINGS_CURRENT\n",
      "AMT_DRAWINGS_POS_CURRENT_divide_AMT_DRAWINGS_CURRENT\n",
      "AMT_DRAWINGS_OTHER_CURRENT_divide_AMT_DRAWINGS_CURRENT\n",
      "CNT_DRAWINGS_ATM_CURRENT_divide_CNT_DRAWINGS_CURRENT\n",
      "CNT_DRAWINGS_OTHER_CURRENT_divide_CNT_DRAWINGS_CURRENT\n",
      "CNT_DRAWINGS_POS_CURRENT_divide_CNT_DRAWINGS_CURRENT\n",
      "AMT_DRAWINGS_ATM_CURRENT_divide_CNT_DRAWINGS_ATM_CURRENT\n",
      "AMT_DRAWINGS_POS_CURRENT_divide_CNT_DRAWINGS_POS_CURRENT\n",
      "AMT_DRAWINGS_OTHER_CURRENT_divide_CNT_DRAWINGS_OTHER_CURRENT\n",
      "AMT_DRAWINGS_CURRENT_divide_CNT_DRAWINGS_CURRENT\n",
      "score_DPD\n"
     ]
    }
   ],
   "source": [
    "gp_col = 'SK_ID_CURR'\n",
    "for i in range(len(extrafunc_list)):\n",
    "    print(numerical_cols[i])\n",
    "    df = df.merge(numerical_agg(credit, gp_col, numerical_cols[i], 'credit_card', extrafunc_list = extrafunc_list[i]), on = 'SK_ID_CURR', how='left')"
   ]
  },
  {
   "cell_type": "markdown",
   "metadata": {},
   "source": [
    "# Categorical"
   ]
  },
  {
   "cell_type": "code",
   "execution_count": 21,
   "metadata": {
    "ExecuteTime": {
     "end_time": "2018-06-14T18:30:22.946749Z",
     "start_time": "2018-06-14T18:30:22.922017Z"
    },
    "collapsed": true
   },
   "outputs": [],
   "source": [
    "def _set_type(series, dtype):\n",
    "    _max, _min = max(series), min(series)\n",
    "    if dtype == 'uint':\n",
    "        if _max <= 255: return np.uint8\n",
    "        elif _max <= 65535: return np.uint16\n",
    "        elif _max <= 4294967295: return np.uint32\n",
    "        else: return np.uint64\n",
    "    elif dtype == 'int':\n",
    "        if _min >= -128 and _max <= 127: return np.int8\n",
    "        elif _min >=-32768 and _max <= 32767: return np.int16\n",
    "        elif _min >= -2147483648 and _max <= 2147483647: return np.int32\n",
    "        else: return np.int64\n",
    "    elif dtype == 'float':\n",
    "        if max(abs(_min), _max) <= 3.4028235e+38: return np.float32\n",
    "        else: return np.float64\n",
    "\n",
    "def split_categorical_feature(df, group_col, calc_col):\n",
    "    tmp_df = pd.concat([df[group_col], pd.get_dummies(df[calc_col], prefix=calc_col)], axis=1).groupby(by=group_col).sum().reset_index()\n",
    "    dtype = {x: _set_type(tmp_df[x], 'uint') for x in tmp_df.columns if x != group_col}\n",
    "    for x in tmp_df:\n",
    "        if x in df.columns:\n",
    "            dtype[x] = df[x].dtype\n",
    "    return tmp_df.astype(dtype)"
   ]
  },
  {
   "cell_type": "code",
   "execution_count": 22,
   "metadata": {
    "ExecuteTime": {
     "end_time": "2018-06-14T18:30:27.902525Z",
     "start_time": "2018-06-14T18:30:26.889600Z"
    }
   },
   "outputs": [
    {
     "name": "stdout",
     "output_type": "stream",
     "text": [
      "NAME_CONTRACT_STATUS\n"
     ]
    }
   ],
   "source": [
    "categorical_cols = ['NAME_CONTRACT_STATUS']\n",
    "\n",
    "for x in categorical_cols:\n",
    "    print(x)\n",
    "    df = df.merge(split_categorical_feature(credit, 'SK_ID_CURR', x), on='SK_ID_CURR', how='left')\n",
    "    gc.collect()"
   ]
  },
  {
   "cell_type": "markdown",
   "metadata": {},
   "source": [
    "# Months Balance max min and sum"
   ]
  },
  {
   "cell_type": "code",
   "execution_count": 23,
   "metadata": {
    "ExecuteTime": {
     "end_time": "2018-06-14T18:30:32.304404Z",
     "start_time": "2018-06-14T18:30:31.903211Z"
    },
    "collapsed": true
   },
   "outputs": [],
   "source": [
    "_df = credit.groupby('SK_ID_CURR').agg({'MONTHS_BALANCE':['sum','min','max']})\n",
    "columns = []\n",
    "for pre in _df.columns.levels[0]:\n",
    "    for middle in _df.columns.levels[1]:\n",
    "        columns.append('%s_%s_%s' %('credit_card',pre,middle))\n",
    "_df.columns = columns\n",
    "df = df.merge(_df.reset_index(), on = 'SK_ID_CURR', how='left')"
   ]
  },
  {
   "cell_type": "code",
   "execution_count": 26,
   "metadata": {
    "ExecuteTime": {
     "end_time": "2018-06-14T18:36:44.740257Z",
     "start_time": "2018-06-14T18:36:44.737223Z"
    }
   },
   "outputs": [
    {
     "name": "stdout",
     "output_type": "stream",
     "text": [
      "['SK_ID_CURR' 'credit_card_SK_DPD_max_x' 'credit_card_SK_DPD_min_x'\n",
      " 'credit_card_SK_DPD_std_x' 'credit_card_SK_DPD_mean_x'\n",
      " 'credit_card_SK_DPD_positive_count_x' 'credit_card_SK_DPD_DEF_max_x'\n",
      " 'credit_card_SK_DPD_DEF_min_x' 'credit_card_SK_DPD_DEF_std_x'\n",
      " 'credit_card_SK_DPD_DEF_mean_x' 'credit_card_SK_DPD_DEF_positive_count_x'\n",
      " 'credit_card_SK_DPD_max_y' 'credit_card_SK_DPD_min_y'\n",
      " 'credit_card_SK_DPD_std_y' 'credit_card_SK_DPD_mean_y'\n",
      " 'credit_card_SK_DPD_positive_count_y' 'credit_card_SK_DPD_DEF_max_y'\n",
      " 'credit_card_SK_DPD_DEF_min_y' 'credit_card_SK_DPD_DEF_std_y'\n",
      " 'credit_card_SK_DPD_DEF_mean_y' 'credit_card_SK_DPD_DEF_positive_count_y'\n",
      " 'credit_card_AMT_BALANCE_max' 'credit_card_AMT_BALANCE_min'\n",
      " 'credit_card_AMT_BALANCE_std' 'credit_card_AMT_BALANCE_mean'\n",
      " 'credit_card_AMT_BALANCE_positive_count'\n",
      " 'credit_card_AMT_BALANCE_negative_count'\n",
      " 'credit_card_AMT_CREDIT_LIMIT_ACTUAL_max'\n",
      " 'credit_card_AMT_CREDIT_LIMIT_ACTUAL_min'\n",
      " 'credit_card_AMT_CREDIT_LIMIT_ACTUAL_std'\n",
      " 'credit_card_AMT_CREDIT_LIMIT_ACTUAL_mean'\n",
      " 'credit_card_AMT_DRAWINGS_ATM_CURRENT_max'\n",
      " 'credit_card_AMT_DRAWINGS_ATM_CURRENT_min'\n",
      " 'credit_card_AMT_DRAWINGS_ATM_CURRENT_std'\n",
      " 'credit_card_AMT_DRAWINGS_ATM_CURRENT_mean'\n",
      " 'credit_card_AMT_DRAWINGS_CURRENT_max'\n",
      " 'credit_card_AMT_DRAWINGS_CURRENT_min'\n",
      " 'credit_card_AMT_DRAWINGS_CURRENT_std'\n",
      " 'credit_card_AMT_DRAWINGS_CURRENT_mean'\n",
      " 'credit_card_AMT_DRAWINGS_OTHER_CURRENT_max'\n",
      " 'credit_card_AMT_DRAWINGS_OTHER_CURRENT_min'\n",
      " 'credit_card_AMT_DRAWINGS_OTHER_CURRENT_std'\n",
      " 'credit_card_AMT_DRAWINGS_OTHER_CURRENT_mean'\n",
      " 'credit_card_AMT_DRAWINGS_POS_CURRENT_max'\n",
      " 'credit_card_AMT_DRAWINGS_POS_CURRENT_min'\n",
      " 'credit_card_AMT_DRAWINGS_POS_CURRENT_std'\n",
      " 'credit_card_AMT_DRAWINGS_POS_CURRENT_mean'\n",
      " 'credit_card_AMT_INST_MIN_REGULARITY_max'\n",
      " 'credit_card_AMT_INST_MIN_REGULARITY_min'\n",
      " 'credit_card_AMT_INST_MIN_REGULARITY_std'\n",
      " 'credit_card_AMT_INST_MIN_REGULARITY_mean'\n",
      " 'credit_card_AMT_PAYMENT_CURRENT_max'\n",
      " 'credit_card_AMT_PAYMENT_CURRENT_min'\n",
      " 'credit_card_AMT_PAYMENT_CURRENT_std'\n",
      " 'credit_card_AMT_PAYMENT_CURRENT_mean'\n",
      " 'credit_card_AMT_PAYMENT_TOTAL_CURRENT_max'\n",
      " 'credit_card_AMT_PAYMENT_TOTAL_CURRENT_min'\n",
      " 'credit_card_AMT_PAYMENT_TOTAL_CURRENT_std'\n",
      " 'credit_card_AMT_PAYMENT_TOTAL_CURRENT_mean'\n",
      " 'credit_card_AMT_RECEIVABLE_PRINCIPAL_max'\n",
      " 'credit_card_AMT_RECEIVABLE_PRINCIPAL_min'\n",
      " 'credit_card_AMT_RECEIVABLE_PRINCIPAL_std'\n",
      " 'credit_card_AMT_RECEIVABLE_PRINCIPAL_mean'\n",
      " 'credit_card_AMT_RECIVABLE_max' 'credit_card_AMT_RECIVABLE_min'\n",
      " 'credit_card_AMT_RECIVABLE_std' 'credit_card_AMT_RECIVABLE_mean'\n",
      " 'credit_card_AMT_TOTAL_RECEIVABLE_max'\n",
      " 'credit_card_AMT_TOTAL_RECEIVABLE_min'\n",
      " 'credit_card_AMT_TOTAL_RECEIVABLE_std'\n",
      " 'credit_card_AMT_TOTAL_RECEIVABLE_mean'\n",
      " 'credit_card_CNT_DRAWINGS_ATM_CURRENT_max'\n",
      " 'credit_card_CNT_DRAWINGS_ATM_CURRENT_min'\n",
      " 'credit_card_CNT_DRAWINGS_ATM_CURRENT_std'\n",
      " 'credit_card_CNT_DRAWINGS_ATM_CURRENT_mean'\n",
      " 'credit_card_CNT_DRAWINGS_CURRENT_max'\n",
      " 'credit_card_CNT_DRAWINGS_CURRENT_min'\n",
      " 'credit_card_CNT_DRAWINGS_CURRENT_std'\n",
      " 'credit_card_CNT_DRAWINGS_CURRENT_mean'\n",
      " 'credit_card_CNT_DRAWINGS_OTHER_CURRENT_max'\n",
      " 'credit_card_CNT_DRAWINGS_OTHER_CURRENT_min'\n",
      " 'credit_card_CNT_DRAWINGS_OTHER_CURRENT_std'\n",
      " 'credit_card_CNT_DRAWINGS_OTHER_CURRENT_mean'\n",
      " 'credit_card_CNT_DRAWINGS_POS_CURRENT_max'\n",
      " 'credit_card_CNT_DRAWINGS_POS_CURRENT_min'\n",
      " 'credit_card_CNT_DRAWINGS_POS_CURRENT_std'\n",
      " 'credit_card_CNT_DRAWINGS_POS_CURRENT_mean'\n",
      " 'credit_card_CNT_INSTALMENT_MATURE_CUM_max'\n",
      " 'credit_card_CNT_INSTALMENT_MATURE_CUM_min'\n",
      " 'credit_card_CNT_INSTALMENT_MATURE_CUM_std'\n",
      " 'credit_card_CNT_INSTALMENT_MATURE_CUM_mean'\n",
      " 'credit_card_AMT_CREDIT_LIMIT_ACTUAL_minus_AMT_BALANCE_max'\n",
      " 'credit_card_AMT_CREDIT_LIMIT_ACTUAL_minus_AMT_BALANCE_min'\n",
      " 'credit_card_AMT_CREDIT_LIMIT_ACTUAL_minus_AMT_BALANCE_std'\n",
      " 'credit_card_AMT_CREDIT_LIMIT_ACTUAL_minus_AMT_BALANCE_mean'\n",
      " 'credit_card_AMT_DRAWINGS_ATM_CURRENT_divide_AMT_DRAWINGS_CURRENT_max'\n",
      " 'credit_card_AMT_DRAWINGS_ATM_CURRENT_divide_AMT_DRAWINGS_CURRENT_min'\n",
      " 'credit_card_AMT_DRAWINGS_ATM_CURRENT_divide_AMT_DRAWINGS_CURRENT_std'\n",
      " 'credit_card_AMT_DRAWINGS_ATM_CURRENT_divide_AMT_DRAWINGS_CURRENT_mean'\n",
      " 'credit_card_AMT_DRAWINGS_POS_CURRENT_divide_AMT_DRAWINGS_CURRENT_max'\n",
      " 'credit_card_AMT_DRAWINGS_POS_CURRENT_divide_AMT_DRAWINGS_CURRENT_min'\n",
      " 'credit_card_AMT_DRAWINGS_POS_CURRENT_divide_AMT_DRAWINGS_CURRENT_std'\n",
      " 'credit_card_AMT_DRAWINGS_POS_CURRENT_divide_AMT_DRAWINGS_CURRENT_mean'\n",
      " 'credit_card_AMT_DRAWINGS_OTHER_CURRENT_divide_AMT_DRAWINGS_CURRENT_max'\n",
      " 'credit_card_AMT_DRAWINGS_OTHER_CURRENT_divide_AMT_DRAWINGS_CURRENT_min'\n",
      " 'credit_card_AMT_DRAWINGS_OTHER_CURRENT_divide_AMT_DRAWINGS_CURRENT_std'\n",
      " 'credit_card_AMT_DRAWINGS_OTHER_CURRENT_divide_AMT_DRAWINGS_CURRENT_mean'\n",
      " 'credit_card_CNT_DRAWINGS_ATM_CURRENT_divide_CNT_DRAWINGS_CURRENT_max'\n",
      " 'credit_card_CNT_DRAWINGS_ATM_CURRENT_divide_CNT_DRAWINGS_CURRENT_min'\n",
      " 'credit_card_CNT_DRAWINGS_ATM_CURRENT_divide_CNT_DRAWINGS_CURRENT_std'\n",
      " 'credit_card_CNT_DRAWINGS_ATM_CURRENT_divide_CNT_DRAWINGS_CURRENT_mean'\n",
      " 'credit_card_CNT_DRAWINGS_OTHER_CURRENT_divide_CNT_DRAWINGS_CURRENT_max'\n",
      " 'credit_card_CNT_DRAWINGS_OTHER_CURRENT_divide_CNT_DRAWINGS_CURRENT_min'\n",
      " 'credit_card_CNT_DRAWINGS_OTHER_CURRENT_divide_CNT_DRAWINGS_CURRENT_std'\n",
      " 'credit_card_CNT_DRAWINGS_OTHER_CURRENT_divide_CNT_DRAWINGS_CURRENT_mean'\n",
      " 'credit_card_CNT_DRAWINGS_POS_CURRENT_divide_CNT_DRAWINGS_CURRENT_max'\n",
      " 'credit_card_CNT_DRAWINGS_POS_CURRENT_divide_CNT_DRAWINGS_CURRENT_min'\n",
      " 'credit_card_CNT_DRAWINGS_POS_CURRENT_divide_CNT_DRAWINGS_CURRENT_std'\n",
      " 'credit_card_CNT_DRAWINGS_POS_CURRENT_divide_CNT_DRAWINGS_CURRENT_mean'\n",
      " 'credit_card_AMT_DRAWINGS_ATM_CURRENT_divide_CNT_DRAWINGS_ATM_CURRENT_max'\n",
      " 'credit_card_AMT_DRAWINGS_ATM_CURRENT_divide_CNT_DRAWINGS_ATM_CURRENT_min'\n",
      " 'credit_card_AMT_DRAWINGS_ATM_CURRENT_divide_CNT_DRAWINGS_ATM_CURRENT_std'\n",
      " 'credit_card_AMT_DRAWINGS_ATM_CURRENT_divide_CNT_DRAWINGS_ATM_CURRENT_mean'\n",
      " 'credit_card_AMT_DRAWINGS_POS_CURRENT_divide_CNT_DRAWINGS_POS_CURRENT_max'\n",
      " 'credit_card_AMT_DRAWINGS_POS_CURRENT_divide_CNT_DRAWINGS_POS_CURRENT_min'\n",
      " 'credit_card_AMT_DRAWINGS_POS_CURRENT_divide_CNT_DRAWINGS_POS_CURRENT_std'\n",
      " 'credit_card_AMT_DRAWINGS_POS_CURRENT_divide_CNT_DRAWINGS_POS_CURRENT_mean'\n",
      " 'credit_card_AMT_DRAWINGS_OTHER_CURRENT_divide_CNT_DRAWINGS_OTHER_CURRENT_max'\n",
      " 'credit_card_AMT_DRAWINGS_OTHER_CURRENT_divide_CNT_DRAWINGS_OTHER_CURRENT_min'\n",
      " 'credit_card_AMT_DRAWINGS_OTHER_CURRENT_divide_CNT_DRAWINGS_OTHER_CURRENT_std'\n",
      " 'credit_card_AMT_DRAWINGS_OTHER_CURRENT_divide_CNT_DRAWINGS_OTHER_CURRENT_mean'\n",
      " 'credit_card_AMT_DRAWINGS_CURRENT_divide_CNT_DRAWINGS_CURRENT_max'\n",
      " 'credit_card_AMT_DRAWINGS_CURRENT_divide_CNT_DRAWINGS_CURRENT_min'\n",
      " 'credit_card_AMT_DRAWINGS_CURRENT_divide_CNT_DRAWINGS_CURRENT_std'\n",
      " 'credit_card_AMT_DRAWINGS_CURRENT_divide_CNT_DRAWINGS_CURRENT_mean'\n",
      " 'credit_card_score_DPD_max' 'credit_card_score_DPD_min'\n",
      " 'credit_card_score_DPD_std' 'credit_card_score_DPD_mean'\n",
      " 'NAME_CONTRACT_STATUS_Active' 'NAME_CONTRACT_STATUS_Approved'\n",
      " 'NAME_CONTRACT_STATUS_Completed' 'NAME_CONTRACT_STATUS_Demand'\n",
      " 'NAME_CONTRACT_STATUS_Refused' 'NAME_CONTRACT_STATUS_Sent proposal'\n",
      " 'NAME_CONTRACT_STATUS_Signed' 'credit_card_MONTHS_BALANCE_sum'\n",
      " 'credit_card_MONTHS_BALANCE_min' 'credit_card_MONTHS_BALANCE_max'] 149\n"
     ]
    }
   ],
   "source": [
    "print(df.columns.values, len(df.columns.values))"
   ]
  },
  {
   "cell_type": "code",
   "execution_count": null,
   "metadata": {
    "collapsed": true
   },
   "outputs": [],
   "source": []
  }
 ],
 "metadata": {
  "kernelspec": {
   "display_name": "Python 3.6 (tf_newer)",
   "language": "python",
   "name": "tf_newer"
  },
  "language_info": {
   "codemirror_mode": {
    "name": "ipython",
    "version": 3
   },
   "file_extension": ".py",
   "mimetype": "text/x-python",
   "name": "python",
   "nbconvert_exporter": "python",
   "pygments_lexer": "ipython3",
   "version": "3.6.3"
  },
  "varInspector": {
   "cols": {
    "lenName": 16,
    "lenType": 16,
    "lenVar": 40
   },
   "kernels_config": {
    "python": {
     "delete_cmd_postfix": "",
     "delete_cmd_prefix": "del ",
     "library": "var_list.py",
     "varRefreshCmd": "print(var_dic_list())"
    },
    "r": {
     "delete_cmd_postfix": ") ",
     "delete_cmd_prefix": "rm(",
     "library": "var_list.r",
     "varRefreshCmd": "cat(var_dic_list()) "
    }
   },
   "types_to_exclude": [
    "module",
    "function",
    "builtin_function_or_method",
    "instance",
    "_Feature"
   ],
   "window_display": false
  }
 },
 "nbformat": 4,
 "nbformat_minor": 2
}
