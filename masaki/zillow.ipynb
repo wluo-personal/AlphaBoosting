{
 "cells": [
  {
   "cell_type": "code",
   "execution_count": 1,
   "metadata": {
    "ExecuteTime": {
     "end_time": "2018-06-15T20:40:04.820098Z",
     "start_time": "2018-06-15T20:40:04.178423Z"
    },
    "collapsed": true
   },
   "outputs": [],
   "source": [
    "import numpy as np # linear algebra\n",
    "import pandas as pd # data processing, CSV file I/O (e.g. pd.read_csv)\n",
    "import matplotlib.pyplot as plt\n",
    "import seaborn as sns\n",
    "color = sns.color_palette()\n",
    "\n",
    "from catboost import CatBoostRegressor\n",
    "from tqdm import tqdm\n",
    "import gc\n",
    "import datetime as dt\n",
    "\n",
    "%matplotlib inline\n",
    "\n",
    "pd.options.mode.chained_assignment = None\n",
    "pd.options.display.max_columns = 999"
   ]
  },
  {
   "cell_type": "code",
   "execution_count": 2,
   "metadata": {
    "ExecuteTime": {
     "end_time": "2018-06-15T20:40:39.599075Z",
     "start_time": "2018-06-15T20:40:07.785690Z"
    }
   },
   "outputs": [
    {
     "name": "stderr",
     "output_type": "stream",
     "text": [
      "/home/kai/anaconda3/lib/python3.6/site-packages/IPython/core/interactiveshell.py:2698: DtypeWarning: Columns (22,32,34,49,55) have mixed types. Specify dtype option on import or set low_memory=False.\n",
      "  interactivity=interactivity, compiler=compiler, result=result)\n"
     ]
    }
   ],
   "source": [
    "properties2016 = pd.read_csv('zillow/properties_2016.csv')\n",
    "'''properties2017 = pd.read_csv('zillow/properties_2017.csv',error_bad_lines=False)'''\n",
    "\n",
    "train2016 = pd.read_csv('zillow/train_2016_v2.csv', parse_dates=['transactiondate'])\n",
    "train2017 = pd.read_csv('zillow/train_2017.csv', parse_dates=['transactiondate'])\n",
    "\n",
    "def add_date_features(df):\n",
    "    df[\"transaction_year\"] = df[\"transactiondate\"].dt.year\n",
    "    df[\"transaction_month\"] = (df[\"transactiondate\"].dt.year - 2016)*12 + df[\"transactiondate\"].dt.month\n",
    "    df[\"transaction_day\"] = df[\"transactiondate\"].dt.day\n",
    "    df[\"transaction_quarter\"] = (df[\"transactiondate\"].dt.year - 2016)*4 +df[\"transactiondate\"].dt.quarter\n",
    "    df.drop([\"transactiondate\"], inplace=True, axis=1)\n",
    "    return df\n",
    "\n",
    "train2016 = add_date_features(train2016)\n",
    "'''train2017 = add_date_features(train2017)'''\n",
    "\n",
    "sample_submission = pd.read_csv('zillow/sample_submission.csv')\n",
    "\n",
    "train2016 = pd.merge(train2016, properties2016, how = 'left', on = 'parcelid')\n",
    "'''train2017 = pd.merge(train2017, properties2017, how = 'left', on = 'parcelid')'''\n",
    "\n",
    "\n",
    "train_df = pd.concat([train2016, train2017], axis = 0)\n",
    "test_df = pd.merge(sample_submission[['ParcelId']], properties2016.rename(columns = {'parcelid': 'ParcelId'}), how = 'left', on = 'ParcelId')\n",
    "\n",
    "del properties2016, train2016\n",
    "gc.collect();\n"
   ]
  },
  {
   "cell_type": "code",
   "execution_count": 3,
   "metadata": {
    "ExecuteTime": {
     "end_time": "2018-06-15T20:40:58.985668Z",
     "start_time": "2018-06-15T20:40:58.927209Z"
    }
   },
   "outputs": [
    {
     "name": "stderr",
     "output_type": "stream",
     "text": [
      "/home/kai/anaconda3/lib/python3.6/site-packages/ipykernel_launcher.py:3: DeprecationWarning: \n",
      ".ix is deprecated. Please use\n",
      ".loc for label based indexing or\n",
      ".iloc for positional indexing\n",
      "\n",
      "See the documentation here:\n",
      "http://pandas.pydata.org/pandas-docs/stable/indexing.html#ix-indexer-is-deprecated\n",
      "  This is separate from the ipykernel package so we can avoid doing imports until\n",
      "/home/kai/anaconda3/lib/python3.6/site-packages/ipykernel_launcher.py:4: DeprecationWarning: \n",
      ".ix is deprecated. Please use\n",
      ".loc for label based indexing or\n",
      ".iloc for positional indexing\n",
      "\n",
      "See the documentation here:\n",
      "http://pandas.pydata.org/pandas-docs/stable/indexing.html#ix-indexer-is-deprecated\n",
      "  after removing the cwd from sys.path.\n"
     ]
    }
   ],
   "source": [
    "ulimit = np.percentile(train_df.logerror.values, 99)\n",
    "llimit = np.percentile(train_df.logerror.values, 1)\n",
    "train_df['logerror'].ix[train_df['logerror']>ulimit] = ulimit\n",
    "train_df['logerror'].ix[train_df['logerror']<llimit] = llimit"
   ]
  },
  {
   "cell_type": "code",
   "execution_count": 4,
   "metadata": {
    "ExecuteTime": {
     "end_time": "2018-06-15T20:41:02.280214Z",
     "start_time": "2018-06-15T20:41:00.890817Z"
    }
   },
   "outputs": [],
   "source": [
    "train_df = train_df[[c for c in train_df if train_df[c].isnull().sum() < train_df.shape[0]/2]]\n",
    "\n",
    "mean_values = train_df.median(axis=0)\n",
    "train_df = train_df.fillna(mean_values, inplace=True)"
   ]
  },
  {
   "cell_type": "code",
   "execution_count": 5,
   "metadata": {
    "ExecuteTime": {
     "end_time": "2018-06-15T20:41:04.335945Z",
     "start_time": "2018-06-15T20:41:04.241706Z"
    },
    "scrolled": true
   },
   "outputs": [
    {
     "name": "stderr",
     "output_type": "stream",
     "text": [
      "/home/kai/anaconda3/lib/python3.6/site-packages/sklearn/cross_validation.py:41: DeprecationWarning: This module was deprecated in version 0.18 in favor of the model_selection module into which all the refactored classes and functions are moved. Also note that the interface of the new CV iterators are different from that of this module. This module will be removed in 0.20.\n",
      "  \"This module will be removed in 0.20.\", DeprecationWarning)\n"
     ]
    },
    {
     "data": {
      "text/plain": [
       "((134310, 28), (33578, 28), (134310,), (33578,))"
      ]
     },
     "execution_count": 5,
     "metadata": {},
     "output_type": "execute_result"
    }
   ],
   "source": [
    "from sklearn.cross_validation import train_test_split\n",
    "\n",
    "y = train_df['logerror']\n",
    "\n",
    "X_train, X_cv, y_train, y_cv = train_test_split(train_df.drop('logerror', axis=1), y, test_size=0.2, random_state=7)\n",
    "\n",
    "X_train.shape, X_cv.shape, y_train.shape, y_cv.shape"
   ]
  },
  {
   "cell_type": "code",
   "execution_count": 6,
   "metadata": {
    "ExecuteTime": {
     "end_time": "2018-06-15T20:41:12.032871Z",
     "start_time": "2018-06-15T20:41:06.711802Z"
    }
   },
   "outputs": [],
   "source": [
    "from sklearn import model_selection, preprocessing\n",
    "import xgboost as xgb\n",
    "import warnings\n",
    "warnings.filterwarnings(\"ignore\")\n",
    "\n",
    "        \n",
    "train_y = y_train\n",
    "train_X = X_train.drop([\"parcelid\"], axis=1)\n",
    "\n",
    "droplist = []\n",
    "for fe in train_X:\n",
    "    if train_X[fe].dtype == 'object':\n",
    "        droplist.append(fe)\n",
    "\n",
    "train_X = train_X.drop(droplist, axis=1)\n",
    "\n",
    "xgb_params = {\n",
    "    'nthread' : 8,\n",
    "    'eta': 0.05,\n",
    "    'max_depth': 8,\n",
    "    'subsample': 0.7,\n",
    "    'colsample_bytree': 0.7,\n",
    "    'objective': 'reg:linear',\n",
    "    'eval_metric': 'rmse',\n",
    "    'silent': 1\n",
    "}\n",
    "dtrain = xgb.DMatrix(train_X, train_y, feature_names=train_X.columns.values)\n",
    "model = xgb.train(dict(xgb_params, silent=1), dtrain, num_boost_round=100)"
   ]
  },
  {
   "cell_type": "code",
   "execution_count": 7,
   "metadata": {
    "ExecuteTime": {
     "end_time": "2018-06-15T20:41:15.123632Z",
     "start_time": "2018-06-15T20:41:14.600398Z"
    }
   },
   "outputs": [
    {
     "data": {
      "text/plain": [
       "<matplotlib.axes._subplots.AxesSubplot at 0x7fdb89b7f748>"
      ]
     },
     "execution_count": 7,
     "metadata": {},
     "output_type": "execute_result"
    },
    {
     "data": {
      "image/png": "[encoded data removed]",
      "text/plain": [
       "<matplotlib.figure.Figure at 0x7fdb89b7f240>"
      ]
     },
     "metadata": {},
     "output_type": "display_data"
    }
   ],
   "source": [
    "featureImportance = model.get_fscore()\n",
    "features = pd.DataFrame()\n",
    "features['features'] = featureImportance.keys()\n",
    "features['importance'] = featureImportance.values()\n",
    "features.sort_values(by=['importance'],ascending=False,inplace=True)\n",
    "fig,ax= plt.subplots()\n",
    "fig.set_size_inches(20,10)\n",
    "plt.xticks(rotation=90)\n",
    "sns.barplot(data=features,x=\"importance\",y=\"features\",ax=ax,orient=\"h\",color=\"#34495e\")"
   ]
  },
  {
   "cell_type": "code",
   "execution_count": 8,
   "metadata": {
    "ExecuteTime": {
     "end_time": "2018-06-15T20:41:32.632133Z",
     "start_time": "2018-06-15T20:41:32.615301Z"
    }
   },
   "outputs": [
    {
     "data": {
      "text/html": [
       "<div>\n",
       "<style>\n",
       "    .dataframe thead tr:only-child th {\n",
       "        text-align: right;\n",
       "    }\n",
       "\n",
       "    .dataframe thead th {\n",
       "        text-align: left;\n",
       "    }\n",
       "\n",
       "    .dataframe tbody tr th {\n",
       "        vertical-align: top;\n",
       "    }\n",
       "</style>\n",
       "<table border=\"1\" class=\"dataframe\">\n",
       "  <thead>\n",
       "    <tr style=\"text-align: right;\">\n",
       "      <th></th>\n",
       "      <th>index</th>\n",
       "      <th>features</th>\n",
       "    </tr>\n",
       "  </thead>\n",
       "  <tbody>\n",
       "    <tr>\n",
       "      <th>0</th>\n",
       "      <td>4</td>\n",
       "      <td>calculatedfinishedsquarefeet</td>\n",
       "    </tr>\n",
       "    <tr>\n",
       "      <th>1</th>\n",
       "      <td>9</td>\n",
       "      <td>landtaxvaluedollarcnt</td>\n",
       "    </tr>\n",
       "    <tr>\n",
       "      <th>2</th>\n",
       "      <td>13</td>\n",
       "      <td>taxamount</td>\n",
       "    </tr>\n",
       "    <tr>\n",
       "      <th>3</th>\n",
       "      <td>2</td>\n",
       "      <td>longitude</td>\n",
       "    </tr>\n",
       "    <tr>\n",
       "      <th>4</th>\n",
       "      <td>16</td>\n",
       "      <td>latitude</td>\n",
       "    </tr>\n",
       "    <tr>\n",
       "      <th>5</th>\n",
       "      <td>14</td>\n",
       "      <td>structuretaxvaluedollarcnt</td>\n",
       "    </tr>\n",
       "    <tr>\n",
       "      <th>6</th>\n",
       "      <td>7</td>\n",
       "      <td>taxvaluedollarcnt</td>\n",
       "    </tr>\n",
       "    <tr>\n",
       "      <th>7</th>\n",
       "      <td>1</td>\n",
       "      <td>yearbuilt</td>\n",
       "    </tr>\n",
       "    <tr>\n",
       "      <th>8</th>\n",
       "      <td>8</td>\n",
       "      <td>bathroomcnt</td>\n",
       "    </tr>\n",
       "    <tr>\n",
       "      <th>9</th>\n",
       "      <td>15</td>\n",
       "      <td>censustractandblock</td>\n",
       "    </tr>\n",
       "    <tr>\n",
       "      <th>10</th>\n",
       "      <td>3</td>\n",
       "      <td>bedroomcnt</td>\n",
       "    </tr>\n",
       "    <tr>\n",
       "      <th>11</th>\n",
       "      <td>20</td>\n",
       "      <td>transaction_day</td>\n",
       "    </tr>\n",
       "    <tr>\n",
       "      <th>12</th>\n",
       "      <td>0</td>\n",
       "      <td>regionidzip</td>\n",
       "    </tr>\n",
       "    <tr>\n",
       "      <th>13</th>\n",
       "      <td>5</td>\n",
       "      <td>finishedsquarefeet12</td>\n",
       "    </tr>\n",
       "    <tr>\n",
       "      <th>14</th>\n",
       "      <td>19</td>\n",
       "      <td>transaction_month</td>\n",
       "    </tr>\n",
       "    <tr>\n",
       "      <th>15</th>\n",
       "      <td>12</td>\n",
       "      <td>rawcensustractandblock</td>\n",
       "    </tr>\n",
       "    <tr>\n",
       "      <th>16</th>\n",
       "      <td>18</td>\n",
       "      <td>regionidcity</td>\n",
       "    </tr>\n",
       "    <tr>\n",
       "      <th>17</th>\n",
       "      <td>6</td>\n",
       "      <td>propertylandusetypeid</td>\n",
       "    </tr>\n",
       "    <tr>\n",
       "      <th>18</th>\n",
       "      <td>17</td>\n",
       "      <td>calculatedbathnbr</td>\n",
       "    </tr>\n",
       "    <tr>\n",
       "      <th>19</th>\n",
       "      <td>10</td>\n",
       "      <td>roomcnt</td>\n",
       "    </tr>\n",
       "    <tr>\n",
       "      <th>20</th>\n",
       "      <td>21</td>\n",
       "      <td>transaction_quarter</td>\n",
       "    </tr>\n",
       "  </tbody>\n",
       "</table>\n",
       "</div>"
      ],
      "text/plain": [
       "    index                      features\n",
       "0       4  calculatedfinishedsquarefeet\n",
       "1       9         landtaxvaluedollarcnt\n",
       "2      13                     taxamount\n",
       "3       2                     longitude\n",
       "4      16                      latitude\n",
       "5      14    structuretaxvaluedollarcnt\n",
       "6       7             taxvaluedollarcnt\n",
       "7       1                     yearbuilt\n",
       "8       8                   bathroomcnt\n",
       "9      15           censustractandblock\n",
       "10      3                    bedroomcnt\n",
       "11     20               transaction_day\n",
       "12      0                   regionidzip\n",
       "13      5          finishedsquarefeet12\n",
       "14     19             transaction_month\n",
       "15     12        rawcensustractandblock\n",
       "16     18                  regionidcity\n",
       "17      6         propertylandusetypeid\n",
       "18     17             calculatedbathnbr\n",
       "19     10                       roomcnt\n",
       "20     21           transaction_quarter"
      ]
     },
     "execution_count": 8,
     "metadata": {},
     "output_type": "execute_result"
    }
   ],
   "source": [
    "features = pd.DataFrame(features['features'].head(int(.9*features['features'].__len__())))\n",
    "features.reset_index()\n"
   ]
  },
  {
   "cell_type": "code",
   "execution_count": 9,
   "metadata": {
    "ExecuteTime": {
     "end_time": "2018-06-15T20:41:41.930019Z",
     "start_time": "2018-06-15T20:41:37.078884Z"
    }
   },
   "outputs": [
    {
     "data": {
      "text/html": [
       "<div>\n",
       "<style>\n",
       "    .dataframe thead tr:only-child th {\n",
       "        text-align: right;\n",
       "    }\n",
       "\n",
       "    .dataframe thead th {\n",
       "        text-align: left;\n",
       "    }\n",
       "\n",
       "    .dataframe tbody tr th {\n",
       "        vertical-align: top;\n",
       "    }\n",
       "</style>\n",
       "<table border=\"1\" class=\"dataframe\">\n",
       "  <thead>\n",
       "    <tr style=\"text-align: right;\">\n",
       "      <th></th>\n",
       "      <th>calculatedfinishedsquarefeet</th>\n",
       "      <th>landtaxvaluedollarcnt</th>\n",
       "      <th>taxamount</th>\n",
       "      <th>longitude</th>\n",
       "      <th>latitude</th>\n",
       "      <th>structuretaxvaluedollarcnt</th>\n",
       "      <th>taxvaluedollarcnt</th>\n",
       "      <th>yearbuilt</th>\n",
       "      <th>bathroomcnt</th>\n",
       "      <th>censustractandblock</th>\n",
       "      <th>bedroomcnt</th>\n",
       "      <th>transaction_day</th>\n",
       "      <th>regionidzip</th>\n",
       "      <th>finishedsquarefeet12</th>\n",
       "      <th>transaction_month</th>\n",
       "      <th>rawcensustractandblock</th>\n",
       "      <th>regionidcity</th>\n",
       "      <th>propertylandusetypeid</th>\n",
       "      <th>calculatedbathnbr</th>\n",
       "      <th>roomcnt</th>\n",
       "      <th>transaction_quarter</th>\n",
       "      <th>ParcelId</th>\n",
       "    </tr>\n",
       "  </thead>\n",
       "  <tbody>\n",
       "    <tr>\n",
       "      <th>0</th>\n",
       "      <td>1572.0</td>\n",
       "      <td>9.0</td>\n",
       "      <td>3991.78</td>\n",
       "      <td>-118654084.0</td>\n",
       "      <td>34144442.0</td>\n",
       "      <td>122590.0</td>\n",
       "      <td>9.0</td>\n",
       "      <td>1963.0</td>\n",
       "      <td>0.0</td>\n",
       "      <td>6.037572e+13</td>\n",
       "      <td>0.0</td>\n",
       "      <td>1</td>\n",
       "      <td>96337.0</td>\n",
       "      <td>1539.0</td>\n",
       "      <td>12</td>\n",
       "      <td>6.037800e+07</td>\n",
       "      <td>37688.0</td>\n",
       "      <td>269.0</td>\n",
       "      <td>2.0</td>\n",
       "      <td>0.0</td>\n",
       "      <td>4</td>\n",
       "      <td>10754147</td>\n",
       "    </tr>\n",
       "    <tr>\n",
       "      <th>1</th>\n",
       "      <td>1572.0</td>\n",
       "      <td>27516.0</td>\n",
       "      <td>3991.78</td>\n",
       "      <td>-118625364.0</td>\n",
       "      <td>34140430.0</td>\n",
       "      <td>122590.0</td>\n",
       "      <td>27516.0</td>\n",
       "      <td>1963.0</td>\n",
       "      <td>0.0</td>\n",
       "      <td>6.037572e+13</td>\n",
       "      <td>0.0</td>\n",
       "      <td>1</td>\n",
       "      <td>96337.0</td>\n",
       "      <td>1539.0</td>\n",
       "      <td>12</td>\n",
       "      <td>6.037800e+07</td>\n",
       "      <td>37688.0</td>\n",
       "      <td>261.0</td>\n",
       "      <td>2.0</td>\n",
       "      <td>0.0</td>\n",
       "      <td>4</td>\n",
       "      <td>10759547</td>\n",
       "    </tr>\n",
       "    <tr>\n",
       "      <th>2</th>\n",
       "      <td>73026.0</td>\n",
       "      <td>762631.0</td>\n",
       "      <td>20800.37</td>\n",
       "      <td>-118394633.0</td>\n",
       "      <td>33989359.0</td>\n",
       "      <td>650756.0</td>\n",
       "      <td>1413387.0</td>\n",
       "      <td>1963.0</td>\n",
       "      <td>0.0</td>\n",
       "      <td>6.037572e+13</td>\n",
       "      <td>0.0</td>\n",
       "      <td>1</td>\n",
       "      <td>96095.0</td>\n",
       "      <td>1539.0</td>\n",
       "      <td>12</td>\n",
       "      <td>6.037703e+07</td>\n",
       "      <td>51617.0</td>\n",
       "      <td>47.0</td>\n",
       "      <td>2.0</td>\n",
       "      <td>0.0</td>\n",
       "      <td>4</td>\n",
       "      <td>10843547</td>\n",
       "    </tr>\n",
       "    <tr>\n",
       "      <th>3</th>\n",
       "      <td>5068.0</td>\n",
       "      <td>585488.0</td>\n",
       "      <td>14557.57</td>\n",
       "      <td>-118437206.0</td>\n",
       "      <td>34148863.0</td>\n",
       "      <td>571346.0</td>\n",
       "      <td>1156834.0</td>\n",
       "      <td>1948.0</td>\n",
       "      <td>0.0</td>\n",
       "      <td>6.037572e+13</td>\n",
       "      <td>0.0</td>\n",
       "      <td>1</td>\n",
       "      <td>96424.0</td>\n",
       "      <td>1539.0</td>\n",
       "      <td>12</td>\n",
       "      <td>6.037141e+07</td>\n",
       "      <td>12447.0</td>\n",
       "      <td>47.0</td>\n",
       "      <td>2.0</td>\n",
       "      <td>0.0</td>\n",
       "      <td>4</td>\n",
       "      <td>10859147</td>\n",
       "    </tr>\n",
       "    <tr>\n",
       "      <th>4</th>\n",
       "      <td>1776.0</td>\n",
       "      <td>239695.0</td>\n",
       "      <td>5725.17</td>\n",
       "      <td>-118385816.0</td>\n",
       "      <td>34194168.0</td>\n",
       "      <td>193796.0</td>\n",
       "      <td>433491.0</td>\n",
       "      <td>1947.0</td>\n",
       "      <td>0.0</td>\n",
       "      <td>6.037572e+13</td>\n",
       "      <td>0.0</td>\n",
       "      <td>1</td>\n",
       "      <td>96450.0</td>\n",
       "      <td>1539.0</td>\n",
       "      <td>12</td>\n",
       "      <td>6.037123e+07</td>\n",
       "      <td>12447.0</td>\n",
       "      <td>31.0</td>\n",
       "      <td>2.0</td>\n",
       "      <td>0.0</td>\n",
       "      <td>4</td>\n",
       "      <td>10879947</td>\n",
       "    </tr>\n",
       "  </tbody>\n",
       "</table>\n",
       "</div>"
      ],
      "text/plain": [
       "   calculatedfinishedsquarefeet  landtaxvaluedollarcnt  taxamount  \\\n",
       "0                        1572.0                    9.0    3991.78   \n",
       "1                        1572.0                27516.0    3991.78   \n",
       "2                       73026.0               762631.0   20800.37   \n",
       "3                        5068.0               585488.0   14557.57   \n",
       "4                        1776.0               239695.0    5725.17   \n",
       "\n",
       "     longitude    latitude  structuretaxvaluedollarcnt  taxvaluedollarcnt  \\\n",
       "0 -118654084.0  34144442.0                    122590.0                9.0   \n",
       "1 -118625364.0  34140430.0                    122590.0            27516.0   \n",
       "2 -118394633.0  33989359.0                    650756.0          1413387.0   \n",
       "3 -118437206.0  34148863.0                    571346.0          1156834.0   \n",
       "4 -118385816.0  34194168.0                    193796.0           433491.0   \n",
       "\n",
       "   yearbuilt  bathroomcnt  censustractandblock  bedroomcnt  transaction_day  \\\n",
       "0     1963.0          0.0         6.037572e+13         0.0                1   \n",
       "1     1963.0          0.0         6.037572e+13         0.0                1   \n",
       "2     1963.0          0.0         6.037572e+13         0.0                1   \n",
       "3     1948.0          0.0         6.037572e+13         0.0                1   \n",
       "4     1947.0          0.0         6.037572e+13         0.0                1   \n",
       "\n",
       "   regionidzip  finishedsquarefeet12  transaction_month  \\\n",
       "0      96337.0                1539.0                 12   \n",
       "1      96337.0                1539.0                 12   \n",
       "2      96095.0                1539.0                 12   \n",
       "3      96424.0                1539.0                 12   \n",
       "4      96450.0                1539.0                 12   \n",
       "\n",
       "   rawcensustractandblock  regionidcity  propertylandusetypeid  \\\n",
       "0            6.037800e+07       37688.0                  269.0   \n",
       "1            6.037800e+07       37688.0                  261.0   \n",
       "2            6.037703e+07       51617.0                   47.0   \n",
       "3            6.037141e+07       12447.0                   47.0   \n",
       "4            6.037123e+07       12447.0                   31.0   \n",
       "\n",
       "   calculatedbathnbr  roomcnt  transaction_quarter  ParcelId  \n",
       "0                2.0      0.0                    4  10754147  \n",
       "1                2.0      0.0                    4  10759547  \n",
       "2                2.0      0.0                    4  10843547  \n",
       "3                2.0      0.0                    4  10859147  \n",
       "4                2.0      0.0                    4  10879947  "
      ]
     },
     "execution_count": 9,
     "metadata": {},
     "output_type": "execute_result"
    }
   ],
   "source": [
    "test_df['transactiondate'] = pd.Timestamp('2016-12-01') \n",
    "test_df = add_date_features(test_df)\n",
    "\n",
    "features_test = np.append(features['features'].values,'ParcelId')\n",
    "\n",
    "X_train = X_train.rename(columns = {'parcelid': 'ParcelId'})\n",
    "X_cv = X_cv.rename(columns = {'parcelid': 'ParcelId'})\n",
    "\n",
    "X_train = X_train[features_test]\n",
    "X_cv = X_cv[features_test]\n",
    "\n",
    "X_test = test_df[features_test]\n",
    "\n",
    "mean_values = X_test.median(axis=0)\n",
    "X_test = X_test.fillna(mean_values, inplace=True)\n",
    "\n",
    "X_test.head()"
   ]
  },
  {
   "cell_type": "code",
   "execution_count": null,
   "metadata": {
    "ExecuteTime": {
     "end_time": "2018-06-15T15:57:39.121141Z",
     "start_time": "2018-06-15T15:57:39.112437Z"
    }
   },
   "outputs": [],
   "source": []
  },
  {
   "cell_type": "code",
   "execution_count": 10,
   "metadata": {
    "ExecuteTime": {
     "end_time": "2018-06-15T20:03:59.877708Z",
     "start_time": "2018-06-15T20:03:59.871500Z"
    }
   },
   "outputs": [
    {
     "data": {
      "text/plain": [
       "\"x_cols = [col for col in train_df.columns if col not in ['logerror'] if train_df[col].dtype=='float64']\\n\\nlabels = []\\nvalues = []\\nfor col in x_cols:\\n    labels.append(col)\\n    values.append(np.corrcoef(train_df[col].values, train_df.logerror.values)[0,1])\\ncorr_df = pd.DataFrame({'col_labels':labels, 'corr_values':values})\\ncorr_df = corr_df.sort_values(by='corr_values')\\ncorr_df\""
      ]
     },
     "execution_count": 10,
     "metadata": {},
     "output_type": "execute_result"
    }
   ],
   "source": [
    "# Now let us look at the correlation coefficient of each of these variables #\n",
    "'''x_cols = [col for col in train_df.columns if col not in ['logerror'] if train_df[col].dtype=='float64']\n",
    "\n",
    "labels = []\n",
    "values = []\n",
    "for col in x_cols:\n",
    "    labels.append(col)\n",
    "    values.append(np.corrcoef(train_df[col].values, train_df.logerror.values)[0,1])\n",
    "corr_df = pd.DataFrame({'col_labels':labels, 'corr_values':values})\n",
    "corr_df = corr_df.sort_values(by='corr_values')\n",
    "corr_df'''"
   ]
  },
  {
   "cell_type": "code",
   "execution_count": 11,
   "metadata": {
    "ExecuteTime": {
     "end_time": "2018-06-15T20:04:02.766991Z",
     "start_time": "2018-06-15T20:04:02.763979Z"
    }
   },
   "outputs": [
    {
     "data": {
      "text/plain": [
       "\"corr_df_sel = corr_df.ix[(corr_df['corr_values']>0.01) | (corr_df['corr_values'] < -0.01)]\""
      ]
     },
     "execution_count": 11,
     "metadata": {},
     "output_type": "execute_result"
    }
   ],
   "source": [
    "'''corr_df_sel = corr_df.ix[(corr_df['corr_values']>0.01) | (corr_df['corr_values'] < -0.01)]'''"
   ]
  },
  {
   "cell_type": "code",
   "execution_count": 12,
   "metadata": {
    "ExecuteTime": {
     "end_time": "2018-06-15T20:04:05.408337Z",
     "start_time": "2018-06-15T20:04:05.404071Z"
    }
   },
   "outputs": [
    {
     "data": {
      "text/plain": [
       "\"corr_df_ = pd.DataFrame()\\nfor name in corr_df_sel['col_labels']:\\n    corr_df_[name] = train_df[name]\\n\\ncorr_df_.head()\""
      ]
     },
     "execution_count": 12,
     "metadata": {},
     "output_type": "execute_result"
    }
   ],
   "source": [
    "'''corr_df_ = pd.DataFrame()\n",
    "for name in corr_df_sel['col_labels']:\n",
    "    corr_df_[name] = train_df[name]\n",
    "\n",
    "corr_df_.head()'''"
   ]
  },
  {
   "cell_type": "code",
   "execution_count": 13,
   "metadata": {
    "ExecuteTime": {
     "end_time": "2018-06-15T20:04:08.337336Z",
     "start_time": "2018-06-15T20:04:08.333826Z"
    }
   },
   "outputs": [
    {
     "data": {
      "text/plain": [
       "'from statsmodels.stats.outliers_influence import variance_inflation_factor  \\nimport warnings\\nwarnings.filterwarnings(\"ignore\")\\n\\ndef calculate_vif_(X):\\n    variables = list(X.columns)\\n    vif = {variable:variance_inflation_factor(exog=X.values, exog_idx=ix) for ix,variable in enumerate(list(X.columns))}\\n    return vif\\n\\nvifDict = calculate_vif_(corr_df_)\\n\\nvifDf = pd.DataFrame()\\nvifDf[\\'variables\\'] = vifDict.keys()\\nvifDf[\\'vifScore\\'] = vifDict.values()\\nvifDf.sort_values(by=[\\'vifScore\\'],ascending=False,inplace=True)\\nvalidVariables = vifDf[vifDf[\"vifScore\"]<=5]\\nvariablesWithMC  = vifDf[vifDf[\"vifScore\"]>5]\\n\\nvalidVariables, variablesWithMC'"
      ]
     },
     "execution_count": 13,
     "metadata": {},
     "output_type": "execute_result"
    }
   ],
   "source": [
    "'''from statsmodels.stats.outliers_influence import variance_inflation_factor  \n",
    "import warnings\n",
    "warnings.filterwarnings(\"ignore\")\n",
    "\n",
    "def calculate_vif_(X):\n",
    "    variables = list(X.columns)\n",
    "    vif = {variable:variance_inflation_factor(exog=X.values, exog_idx=ix) for ix,variable in enumerate(list(X.columns))}\n",
    "    return vif\n",
    "\n",
    "vifDict = calculate_vif_(corr_df_)\n",
    "\n",
    "vifDf = pd.DataFrame()\n",
    "vifDf['variables'] = vifDict.keys()\n",
    "vifDf['vifScore'] = vifDict.values()\n",
    "vifDf.sort_values(by=['vifScore'],ascending=False,inplace=True)\n",
    "validVariables = vifDf[vifDf[\"vifScore\"]<=5]\n",
    "variablesWithMC  = vifDf[vifDf[\"vifScore\"]>5]\n",
    "\n",
    "validVariables, variablesWithMC'''"
   ]
  },
  {
   "cell_type": "code",
   "execution_count": 14,
   "metadata": {
    "ExecuteTime": {
     "end_time": "2018-06-15T20:04:11.178865Z",
     "start_time": "2018-06-15T20:04:11.174493Z"
    }
   },
   "outputs": [
    {
     "data": {
      "text/plain": [
       "\"valid_df = pd.DataFrame()\\n\\nfor name in validVariables['variables']:\\n    valid_df[name] = train_df[name]\\n\\nvalid_df.head()\""
      ]
     },
     "execution_count": 14,
     "metadata": {},
     "output_type": "execute_result"
    }
   ],
   "source": [
    "'''valid_df = pd.DataFrame()\n",
    "\n",
    "for name in validVariables['variables']:\n",
    "    valid_df[name] = train_df[name]\n",
    "\n",
    "valid_df.head()'''"
   ]
  },
  {
   "cell_type": "code",
   "execution_count": 15,
   "metadata": {
    "ExecuteTime": {
     "end_time": "2018-06-15T20:04:13.983142Z",
     "start_time": "2018-06-15T20:04:13.980058Z"
    }
   },
   "outputs": [
    {
     "data": {
      "text/plain": [
       "\"fe1 = []\\nfor f in valid_df:\\n    fe1.append(f)\\n    \\nfe1.append('parcelid')\\nfe1.append('transaction_year')\\nfe1.append('transaction_month')\\nfe1.append('transaction_day')\\nfe1.append('transaction_quarter')\\n\\nfe1\""
      ]
     },
     "execution_count": 15,
     "metadata": {},
     "output_type": "execute_result"
    }
   ],
   "source": [
    "'''fe1 = []\n",
    "for f in valid_df:\n",
    "    fe1.append(f)\n",
    "    \n",
    "fe1.append('parcelid')\n",
    "fe1.append('transaction_year')\n",
    "fe1.append('transaction_month')\n",
    "fe1.append('transaction_day')\n",
    "fe1.append('transaction_quarter')\n",
    "\n",
    "fe1'''"
   ]
  },
  {
   "cell_type": "markdown",
   "metadata": {
    "ExecuteTime": {
     "end_time": "2018-06-14T18:18:24.532912Z",
     "start_time": "2018-06-14T18:18:24.528580Z"
    }
   },
   "source": []
  },
  {
   "cell_type": "code",
   "execution_count": null,
   "metadata": {
    "ExecuteTime": {
     "end_time": "2018-06-15T17:44:33.033259Z",
     "start_time": "2018-06-15T17:44:32.997676Z"
    }
   },
   "outputs": [],
   "source": []
  },
  {
   "cell_type": "code",
   "execution_count": null,
   "metadata": {
    "ExecuteTime": {
     "end_time": "2018-06-15T14:04:47.759640Z",
     "start_time": "2018-06-15T14:04:47.753835Z"
    }
   },
   "outputs": [],
   "source": []
  },
  {
   "cell_type": "code",
   "execution_count": null,
   "metadata": {
    "ExecuteTime": {
     "end_time": "2018-06-15T18:14:23.253530Z",
     "start_time": "2018-06-15T18:14:23.218743Z"
    }
   },
   "outputs": [],
   "source": []
  },
  {
   "cell_type": "code",
   "execution_count": 10,
   "metadata": {
    "ExecuteTime": {
     "end_time": "2018-06-15T20:41:46.726427Z",
     "start_time": "2018-06-15T20:41:46.710415Z"
    }
   },
   "outputs": [
    {
     "data": {
      "text/plain": [
       "[datetime.datetime(2016, 10, 1, 0, 0),\n",
       " datetime.datetime(2016, 11, 1, 0, 0),\n",
       " datetime.datetime(2016, 12, 1, 0, 0),\n",
       " datetime.datetime(2017, 10, 1, 0, 0),\n",
       " datetime.datetime(2017, 11, 1, 0, 0),\n",
       " datetime.datetime(2017, 12, 1, 0, 0)]"
      ]
     },
     "execution_count": 10,
     "metadata": {},
     "output_type": "execute_result"
    }
   ],
   "source": [
    "test_date = ['2016-10-01','2016-11-01','2016-12-01','2017-10-01','2017-11-01','2017-12-01']\n",
    "\n",
    "test_columns = ['201610','201611','201612','201710','201711','201712']\n",
    "\n",
    "from datetime import datetime\n",
    "\n",
    "test_dates = []\n",
    "for d in test_date:\n",
    "    test_dates.append(datetime.strptime(d, '%Y-%m-%d'))\n",
    "test_dates"
   ]
  },
  {
   "cell_type": "code",
   "execution_count": 11,
   "metadata": {
    "ExecuteTime": {
     "end_time": "2018-06-15T20:33:48.765644Z",
     "start_time": "2018-06-15T20:33:48.759413Z"
    }
   },
   "outputs": [
    {
     "data": {
      "text/plain": [
       "((195797, 9), (195797,))"
      ]
     },
     "execution_count": 11,
     "metadata": {},
     "output_type": "execute_result"
    }
   ],
   "source": [
    "X_train.shape, y_train.shape"
   ]
  },
  {
   "cell_type": "code",
   "execution_count": 21,
   "metadata": {
    "ExecuteTime": {
     "end_time": "2018-06-15T20:44:24.267394Z",
     "start_time": "2018-06-15T20:44:18.047659Z"
    }
   },
   "outputs": [],
   "source": [
    "X_train_2 = X_train.drop('ParcelId', axis=1)\n",
    "\n",
    "xgb_params2 = {\n",
    "    'nthread' : 8,\n",
    "    'eta': 0.05,\n",
    "    'max_depth': 10,\n",
    "    'subsample': .8,\n",
    "    'colsample_bytree': .8,\n",
    "    'objective': 'reg:linear',\n",
    "    'eval_metric': 'rmse',\n",
    "    'silent': 0\n",
    "}\n",
    "\n",
    "dtrain = xgb.DMatrix(X_train_2, y_train, feature_names=X_train_2.columns.values)\n",
    "model = xgb.train(dict(xgb_params2, silent=0), dtrain, num_boost_round=100)"
   ]
  },
  {
   "cell_type": "code",
   "execution_count": null,
   "metadata": {
    "ExecuteTime": {
     "end_time": "2018-06-15T19:13:31.543374Z",
     "start_time": "2018-06-15T19:13:31.538312Z"
    }
   },
   "outputs": [],
   "source": []
  },
  {
   "cell_type": "code",
   "execution_count": 22,
   "metadata": {
    "ExecuteTime": {
     "end_time": "2018-06-15T20:44:27.888233Z",
     "start_time": "2018-06-15T20:44:27.827307Z"
    }
   },
   "outputs": [],
   "source": [
    "X_cv2 = X_cv.drop('ParcelId', axis=1)\n",
    "dtrain2 = xgb.DMatrix(X_cv2, feature_names=X_cv2.columns.values)\n",
    "pred_val = model.predict(dtrain2)"
   ]
  },
  {
   "cell_type": "code",
   "execution_count": 14,
   "metadata": {
    "ExecuteTime": {
     "end_time": "2018-06-15T20:34:03.590387Z",
     "start_time": "2018-06-15T20:34:03.586937Z"
    }
   },
   "outputs": [
    {
     "data": {
      "text/plain": [
       "((48950,), (48950,))"
      ]
     },
     "execution_count": 14,
     "metadata": {},
     "output_type": "execute_result"
    }
   ],
   "source": [
    "y_cv.shape, pred_val.shape"
   ]
  },
  {
   "cell_type": "code",
   "execution_count": 13,
   "metadata": {
    "ExecuteTime": {
     "end_time": "2018-06-15T20:42:15.139678Z",
     "start_time": "2018-06-15T20:42:15.137149Z"
    }
   },
   "outputs": [],
   "source": [
    "from sklearn.metrics import mean_squared_error as mse"
   ]
  },
  {
   "cell_type": "code",
   "execution_count": 23,
   "metadata": {
    "ExecuteTime": {
     "end_time": "2018-06-15T20:44:31.480608Z",
     "start_time": "2018-06-15T20:44:31.477402Z"
    }
   },
   "outputs": [
    {
     "data": {
      "text/plain": [
       "0.010347516439238166"
      ]
     },
     "execution_count": 23,
     "metadata": {},
     "output_type": "execute_result"
    }
   ],
   "source": [
    "mse(y_cv, pred_val)"
   ]
  },
  {
   "cell_type": "code",
   "execution_count": 23,
   "metadata": {
    "ExecuteTime": {
     "end_time": "2018-06-15T20:04:44.368472Z",
     "start_time": "2018-06-15T20:04:44.363568Z"
    }
   },
   "outputs": [
    {
     "data": {
      "text/plain": [
       "count    18055.000000\n",
       "mean         0.010491\n",
       "std          0.099794\n",
       "min         -0.342500\n",
       "25%         -0.025300\n",
       "50%          0.006000\n",
       "75%          0.038300\n",
       "max          0.463882\n",
       "Name: logerror, dtype: float64"
      ]
     },
     "execution_count": 23,
     "metadata": {},
     "output_type": "execute_result"
    }
   ],
   "source": [
    "y_cv.describe()"
   ]
  },
  {
   "cell_type": "code",
   "execution_count": 15,
   "metadata": {
    "ExecuteTime": {
     "end_time": "2018-06-15T20:42:47.269109Z",
     "start_time": "2018-06-15T20:42:47.259309Z"
    }
   },
   "outputs": [
    {
     "name": "stdout",
     "output_type": "stream",
     "text": [
      "[0.065799999999999997, -0.058700000000000002, 0.0129, 0.40550000000000003, -0.00019327424892400002, 0.020746167104499998, -0.001, 0.038300000000000001, -0.029399999999999999, -0.037120050850199995]\n",
      "[ 0.02559853  0.02211609  0.01090488  0.01535717  0.01655546  0.01655546\n",
      "  0.0240185   0.00390241  0.02194533  0.01655546]\n"
     ]
    }
   ],
   "source": [
    "print(list(y_cv)[:10])\n",
    "print(pred_val[:10])"
   ]
  },
  {
   "cell_type": "code",
   "execution_count": 25,
   "metadata": {
    "ExecuteTime": {
     "end_time": "2018-06-15T20:04:54.460574Z",
     "start_time": "2018-06-15T20:04:54.454225Z"
    }
   },
   "outputs": [
    {
     "data": {
      "text/plain": [
       "((18055, 26), (18055,))"
      ]
     },
     "execution_count": 25,
     "metadata": {},
     "output_type": "execute_result"
    }
   ],
   "source": [
    "X_cv.shape, y_cv.shape"
   ]
  },
  {
   "cell_type": "code",
   "execution_count": 26,
   "metadata": {
    "ExecuteTime": {
     "end_time": "2018-06-15T20:04:57.937243Z",
     "start_time": "2018-06-15T20:04:57.933771Z"
    }
   },
   "outputs": [
    {
     "data": {
      "text/plain": [
       "((72220, 26), (72220,))"
      ]
     },
     "execution_count": 26,
     "metadata": {},
     "output_type": "execute_result"
    }
   ],
   "source": [
    "X_train.shape, y_train.shape"
   ]
  },
  {
   "cell_type": "code",
   "execution_count": 24,
   "metadata": {
    "ExecuteTime": {
     "end_time": "2018-06-15T20:45:42.227995Z",
     "start_time": "2018-06-15T20:44:49.737613Z"
    }
   },
   "outputs": [],
   "source": [
    "X_test = X_test.drop('ParcelId', axis=1)\n",
    "\n",
    "for i in range(len(test_dates)):\n",
    "    X_test['transactiondate'] = test_dates[i]\n",
    "    X_test = add_date_features(X_test)\n",
    "    X_test = X_test[features['features'].values]    \n",
    "    dtrain_temp = xgb.DMatrix(X_test, feature_names=X_test.columns.values)\n",
    "    pred = model.predict(dtrain_temp)\n",
    "    sample_submission[test_columns[i]] = [float(format(x, '.4f')) for x in pred]"
   ]
  },
  {
   "cell_type": "code",
   "execution_count": 25,
   "metadata": {
    "ExecuteTime": {
     "end_time": "2018-06-15T20:45:58.405152Z",
     "start_time": "2018-06-15T20:45:45.805024Z"
    }
   },
   "outputs": [],
   "source": [
    "sample_submission.to_csv('sub{}.csv'.format(datetime.now().strftime('%Y%m%d_%H%M%S')), index=False)"
   ]
  },
  {
   "cell_type": "code",
   "execution_count": null,
   "metadata": {
    "ExecuteTime": {
     "end_time": "2018-06-14T16:24:00.236757Z",
     "start_time": "2018-06-14T16:24:00.059950Z"
    }
   },
   "outputs": [],
   "source": []
  },
  {
   "cell_type": "code",
   "execution_count": null,
   "metadata": {
    "collapsed": true
   },
   "outputs": [],
   "source": []
  }
 ],
 "metadata": {
  "kernelspec": {
   "display_name": "Python 3",
   "language": "python",
   "name": "python3"
  },
  "language_info": {
   "codemirror_mode": {
    "name": "ipython",
    "version": 3
   },
   "file_extension": ".py",
   "mimetype": "text/x-python",
   "name": "python",
   "nbconvert_exporter": "python",
   "pygments_lexer": "ipython3",
   "version": "3.6.3"
  },
  "varInspector": {
   "cols": {
    "lenName": 16,
    "lenType": 16,
    "lenVar": 40
   },
   "kernels_config": {
    "python": {
     "delete_cmd_postfix": "",
     "delete_cmd_prefix": "del ",
     "library": "var_list.py",
     "varRefreshCmd": "print(var_dic_list())"
    },
    "r": {
     "delete_cmd_postfix": ") ",
     "delete_cmd_prefix": "rm(",
     "library": "var_list.r",
     "varRefreshCmd": "cat(var_dic_list()) "
    }
   },
   "types_to_exclude": [
    "module",
    "function",
    "builtin_function_or_method",
    "instance",
    "_Feature"
   ],
   "window_display": false
  }
 },
 "nbformat": 4,
 "nbformat_minor": 2
}
