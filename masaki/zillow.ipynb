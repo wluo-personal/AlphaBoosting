{
 "cells": [
  {
   "cell_type": "code",
   "execution_count": 44,
   "metadata": {
    "ExecuteTime": {
     "end_time": "2018-06-20T14:52:16.092393Z",
     "start_time": "2018-06-20T14:52:16.070215Z"
    },
    "collapsed": true
   },
   "outputs": [],
   "source": [
    "import numpy as np # linear algebra\n",
    "import pandas as pd # data processing, CSV file I/O (e.g. pd.read_csv)\n",
    "import matplotlib.pyplot as plt\n",
    "import seaborn as sns\n",
    "color = sns.color_palette()\n",
    "\n",
    "import gc\n",
    "import datetime as dt\n",
    "\n",
    "%matplotlib inline\n",
    "\n",
    "pd.options.mode.chained_assignment = None\n",
    "pd.options.display.max_columns = 999"
   ]
  },
  {
   "cell_type": "code",
   "execution_count": 2,
   "metadata": {
    "ExecuteTime": {
     "end_time": "2018-06-20T14:20:12.413753Z",
     "start_time": "2018-06-20T14:19:52.532390Z"
    }
   },
   "outputs": [
    {
     "name": "stderr",
     "output_type": "stream",
     "text": [
      "/home/kai/anaconda3/lib/python3.6/site-packages/IPython/core/interactiveshell.py:2698: DtypeWarning: Columns (22,32,34,49,55) have mixed types. Specify dtype option on import or set low_memory=False.\n",
      "  interactivity=interactivity, compiler=compiler, result=result)\n"
     ]
    }
   ],
   "source": [
    "properties2016 = pd.read_csv('zillow/properties_2016.csv')\n",
    "'''properties2017 = pd.read_csv('zillow/properties_2017.csv',error_bad_lines=False)'''\n",
    "\n",
    "train2016 = pd.read_csv('zillow/train_2016_v2.csv', parse_dates=['transactiondate'])\n",
    "'''train2017 = pd.read_csv('zillow/train_2017.csv', parse_dates=['transactiondate'])'''\n",
    "\n",
    "def add_date_features(df):\n",
    "    df[\"transaction_year\"] = df[\"transactiondate\"].dt.year\n",
    "    df[\"transaction_month\"] = (df[\"transactiondate\"].dt.year - 2016)*12 + df[\"transactiondate\"].dt.month\n",
    "    df[\"transaction_day\"] = df[\"transactiondate\"].dt.day\n",
    "    df[\"transaction_quarter\"] = (df[\"transactiondate\"].dt.year - 2016)*4 +df[\"transactiondate\"].dt.quarter\n",
    "    df.drop([\"transactiondate\"], inplace=True, axis=1)\n",
    "    return df\n",
    "\n",
    "train2016 = add_date_features(train2016)\n",
    "'''train2017 = add_date_features(train2017)'''\n",
    "\n",
    "sample_submission = pd.read_csv('zillow/sample_submission.csv')\n",
    "\n",
    "train2016 = pd.merge(train2016, properties2016, how = 'left', on = 'parcelid')\n",
    "'''train2017 = pd.merge(train2017, properties2017, how = 'left', on = 'parcelid')'''\n",
    "\n",
    "train_df = train2016\n",
    "'''train_df = pd.concat([train2016, train2017], axis = 0)'''\n",
    "test_df = pd.merge(sample_submission[['ParcelId']], properties2016.rename(columns = {'parcelid': 'ParcelId'}), how = 'left', on = 'ParcelId')\n",
    "\n",
    "del properties2016, train2016\n",
    "gc.collect();\n"
   ]
  },
  {
   "cell_type": "code",
   "execution_count": 3,
   "metadata": {
    "ExecuteTime": {
     "end_time": "2018-06-20T14:21:03.246956Z",
     "start_time": "2018-06-20T14:20:13.812154Z"
    },
    "collapsed": true
   },
   "outputs": [],
   "source": [
    "train_df = train_df[[c for c in train_df if train_df[c].isnull().sum() < train_df.shape[0]/2]]\n",
    "\n",
    "median_values = train_df.median(axis=0)\n",
    "train_df = train_df.fillna(median_values, inplace=True)\n",
    "\n",
    "median_values2 = test_df.median(axis=0)\n",
    "test_df = test_df.fillna(median_values2, inplace=True)"
   ]
  },
  {
   "cell_type": "code",
   "execution_count": 54,
   "metadata": {
    "ExecuteTime": {
     "end_time": "2018-06-20T15:22:45.351127Z",
     "start_time": "2018-06-20T15:22:45.345425Z"
    }
   },
   "outputs": [
    {
     "data": {
      "text/plain": [
       "(88525, 39)"
      ]
     },
     "execution_count": 54,
     "metadata": {},
     "output_type": "execute_result"
    }
   ],
   "source": [
    "train_df.shape"
   ]
  },
  {
   "cell_type": "code",
   "execution_count": 4,
   "metadata": {
    "ExecuteTime": {
     "end_time": "2018-06-20T14:21:04.491106Z",
     "start_time": "2018-06-20T14:21:04.463237Z"
    }
   },
   "outputs": [
    {
     "data": {
      "text/plain": [
       "(0.4638819999999963, -0.34250000000000003)"
      ]
     },
     "execution_count": 4,
     "metadata": {},
     "output_type": "execute_result"
    }
   ],
   "source": [
    "train_df2 = train_df.copy()\n",
    "\n",
    "\n",
    "\n",
    "ulimit = np.percentile(train_df.logerror.values, 99)\n",
    "llimit = np.percentile(train_df.logerror.values, 1)\n",
    "\n",
    "train_df=train_df[ train_df.logerror > -0.4 ]\n",
    "train_df=train_df[ train_df.logerror < .418 ]\n",
    "\n",
    "'''train_df['logerror'].ix[train_df['logerror']>ulimit] = ulimit\n",
    "train_df['logerror'].ix[train_df['logerror']<llimit] = llimit'''\n",
    "\n",
    "ulimit, llimit"
   ]
  },
  {
   "cell_type": "code",
   "execution_count": 5,
   "metadata": {
    "ExecuteTime": {
     "end_time": "2018-06-20T14:21:06.152386Z",
     "start_time": "2018-06-20T14:21:06.108390Z"
    }
   },
   "outputs": [
    {
     "data": {
      "text/plain": [
       "'    df_train[\\'N-life\\'] = 2018 - df_train[\\'yearbuilt\\']\\n    df_train[\\'N-LivingAreaError\\'] = df_train[\\'calculatedfinishedsquarefeet\\']/df_train[\\'finishedsquarefeet12\\']\\n    df_train[\\'N-LivingAreaProp\\'] = df_train[\\'calculatedfinishedsquarefeet\\']/df_train[\\'lotsizesquarefeet\\']\\n    df_train[\\'N-LivingAreaProp2\\'] = df_train[\\'finishedsquarefeet12\\']/df_train[\\'finishedsquarefeet15\\']\\n    df_train[\\'N-ExtraSpace\\'] = df_train[\\'lotsizesquarefeet\\'] - df_train[\\'calculatedfinishedsquarefeet\\']\\n    df_train[\\'N-ExtraSpace-2\\'] = df_train[\\'finishedsquarefeet15\\'] - df_train[\\'finishedsquarefeet12\\']\\n    df_train[\\'N-TotalRooms\\'] = df_train[\\'bathroomcnt\\']*df_train[\\'bedroomcnt\\']\\n    df_train[\\'N-AvRoomSize\\'] = df_train[\\'calculatedfinishedsquarefeet\\']/df_train[\\'roomcnt\\']\\n    df_train[\\'N-ExtraRooms\\'] = df_train[\\'roomcnt\\'] - df_train[\\'N-TotalRooms\\']\\n    df_train[\\'N-ValueProp\\'] = df_train[\\'structuretaxvaluedollarcnt\\']/df_train[\\'landtaxvaluedollarcnt\\']\\n    df_train[\\'N-GarPoolAC\\'] = ((df_train[\\'garagecarcnt\\']>0) & (df_train[\\'pooltypeid10\\']>0) & (df_train[\\'airconditioningtypeid\\']!=5))*1\\n    df_train[\"N-location\"] = df_train[\"latitude\"] + df_train[\"longitude\"]\\n    df_train[\"N-location-2\"] = df_train[\"latitude\"]*df_train[\"longitude\"]\\n    df_train[\"N-location-2round\"] = df_train[\"N-location-2\"].round(-4)\\n    df_train[\"N-latitude-round\"] = df_train[\"latitude\"].round(-4)\\n    df_train[\"N-longitude-round\"] = df_train[\"longitude\"].round(-4)\\n    df_train[\\'N-ValueRatio\\'] = df_train[\\'taxvaluedollarcnt\\']/df_train[\\'taxamount\\']\\n    df_train[\\'N-TaxScore\\'] = df_train[\\'taxvaluedollarcnt\\']*df_train[\\'taxamount\\']\\n    df_train[\"N-taxdelinquencyyear-2\"] = df_train[\"taxdelinquencyyear\"] ** 2\\n    df_train[\"N-taxdelinquencyyear-3\"] = df_train[\"taxdelinquencyyear\"] ** 3\\n    df_train[\\'N-life\\'] = 2018 - df_train[\\'taxdelinquencyyear\\']\\n    zip_count = df_train[\\'regionidzip\\'].value_counts().to_dict()\\n    df_train[\\'N-zip_count\\'] = df_train[\\'regionidzip\\'].map(zip_count)\\n    city_count = df_train[\\'regionidcity\\'].value_counts().to_dict()\\n    df_train[\\'N-city_count\\'] = df_train[\\'regionidcity\\'].map(city_count)\\n    region_count = df_train[\\'regionidcounty\\'].value_counts().to_dict()\\n    df_train[\\'N-county_count\\'] = df_train[\\'regionidcounty\\'].map(city_count)\\n    df_train[\\'N-ACInd\\'] = (df_train[\\'airconditioningtypeid\\']!=5)*1\\n    df_train[\\'N-HeatInd\\'] = (df_train[\\'heatingorsystemtypeid\\']!=13)*1\\n    df_train[\"N-structuretaxvaluedollarcnt-2\"] = df_train[\"structuretaxvaluedollarcnt\"] ** 2\\n    df_train[\"N-structuretaxvaluedollarcnt-3\"] = df_train[\"structuretaxvaluedollarcnt\"] ** 3\\n    group = df_train.groupby(\\'regionidcity\\')[\\'structuretaxvaluedollarcnt\\'].aggregate(\\'mean\\').to_dict()\\n    df_train[\\'N-Avg-structuretaxvaluedollarcnt\\'] = df_train[\\'regionidcity\\'].map(group)\\n    df_train[\\'N-Dev-structuretaxvaluedollarcnt\\'] = abs((df_train[\\'structuretaxvaluedollarcnt\\'] - df_train[\\'N-Avg-structuretaxvaluedollarcnt\\']))/df_train[\\'N-Avg-structuretaxvaluedollarcnt\\']'"
      ]
     },
     "execution_count": 5,
     "metadata": {},
     "output_type": "execute_result"
    }
   ],
   "source": [
    "dfs = [train_df, test_df, train_df2]\n",
    "\n",
    "for df_train in dfs:\n",
    "    df_train['taxdiff'] = df_train['taxvaluedollarcnt'] - df_train['taxamount']\n",
    "    df_train['taxdiff2'] = df_train['structuretaxvaluedollarcnt'] - df_train['landtaxvaluedollarcnt']\n",
    "    df_train['bathdiff'] = df_train['fullbathcnt'] - df_train['bathroomcnt']\n",
    "    df_train['bathdiff2'] = df_train['calculatedbathnbr'] - df_train['bathroomcnt']\n",
    "    df_train['finisheddiff'] = df_train['calculatedfinishedsquarefeet'] - df_train['finishedsquarefeet12']\n",
    "'''    df_train['N-life'] = 2018 - df_train['yearbuilt']\n",
    "    df_train['N-LivingAreaError'] = df_train['calculatedfinishedsquarefeet']/df_train['finishedsquarefeet12']\n",
    "    df_train['N-LivingAreaProp'] = df_train['calculatedfinishedsquarefeet']/df_train['lotsizesquarefeet']\n",
    "    df_train['N-LivingAreaProp2'] = df_train['finishedsquarefeet12']/df_train['finishedsquarefeet15']\n",
    "    df_train['N-ExtraSpace'] = df_train['lotsizesquarefeet'] - df_train['calculatedfinishedsquarefeet']\n",
    "    df_train['N-ExtraSpace-2'] = df_train['finishedsquarefeet15'] - df_train['finishedsquarefeet12']\n",
    "    df_train['N-TotalRooms'] = df_train['bathroomcnt']*df_train['bedroomcnt']\n",
    "    df_train['N-AvRoomSize'] = df_train['calculatedfinishedsquarefeet']/df_train['roomcnt']\n",
    "    df_train['N-ExtraRooms'] = df_train['roomcnt'] - df_train['N-TotalRooms']\n",
    "    df_train['N-ValueProp'] = df_train['structuretaxvaluedollarcnt']/df_train['landtaxvaluedollarcnt']\n",
    "    df_train['N-GarPoolAC'] = ((df_train['garagecarcnt']>0) & (df_train['pooltypeid10']>0) & (df_train['airconditioningtypeid']!=5))*1\n",
    "    df_train[\"N-location\"] = df_train[\"latitude\"] + df_train[\"longitude\"]\n",
    "    df_train[\"N-location-2\"] = df_train[\"latitude\"]*df_train[\"longitude\"]\n",
    "    df_train[\"N-location-2round\"] = df_train[\"N-location-2\"].round(-4)\n",
    "    df_train[\"N-latitude-round\"] = df_train[\"latitude\"].round(-4)\n",
    "    df_train[\"N-longitude-round\"] = df_train[\"longitude\"].round(-4)\n",
    "    df_train['N-ValueRatio'] = df_train['taxvaluedollarcnt']/df_train['taxamount']\n",
    "    df_train['N-TaxScore'] = df_train['taxvaluedollarcnt']*df_train['taxamount']\n",
    "    df_train[\"N-taxdelinquencyyear-2\"] = df_train[\"taxdelinquencyyear\"] ** 2\n",
    "    df_train[\"N-taxdelinquencyyear-3\"] = df_train[\"taxdelinquencyyear\"] ** 3\n",
    "    df_train['N-life'] = 2018 - df_train['taxdelinquencyyear']\n",
    "    zip_count = df_train['regionidzip'].value_counts().to_dict()\n",
    "    df_train['N-zip_count'] = df_train['regionidzip'].map(zip_count)\n",
    "    city_count = df_train['regionidcity'].value_counts().to_dict()\n",
    "    df_train['N-city_count'] = df_train['regionidcity'].map(city_count)\n",
    "    region_count = df_train['regionidcounty'].value_counts().to_dict()\n",
    "    df_train['N-county_count'] = df_train['regionidcounty'].map(city_count)\n",
    "    df_train['N-ACInd'] = (df_train['airconditioningtypeid']!=5)*1\n",
    "    df_train['N-HeatInd'] = (df_train['heatingorsystemtypeid']!=13)*1\n",
    "    df_train[\"N-structuretaxvaluedollarcnt-2\"] = df_train[\"structuretaxvaluedollarcnt\"] ** 2\n",
    "    df_train[\"N-structuretaxvaluedollarcnt-3\"] = df_train[\"structuretaxvaluedollarcnt\"] ** 3\n",
    "    group = df_train.groupby('regionidcity')['structuretaxvaluedollarcnt'].aggregate('mean').to_dict()\n",
    "    df_train['N-Avg-structuretaxvaluedollarcnt'] = df_train['regionidcity'].map(group)\n",
    "    df_train['N-Dev-structuretaxvaluedollarcnt'] = abs((df_train['structuretaxvaluedollarcnt'] - df_train['N-Avg-structuretaxvaluedollarcnt']))/df_train['N-Avg-structuretaxvaluedollarcnt']'''"
   ]
  },
  {
   "cell_type": "code",
   "execution_count": null,
   "metadata": {
    "ExecuteTime": {
     "start_time": "2018-06-19T20:50:03.123Z"
    }
   },
   "outputs": [],
   "source": [
    "f'''or fe in train_df:\n",
    "    num_uniques = len(train_df[fe].unique())\n",
    "    print('{}: {}, {}'.format(fe, num_uniques, train_df[fe].values.dtype))'''"
   ]
  },
  {
   "cell_type": "code",
   "execution_count": 6,
   "metadata": {
    "ExecuteTime": {
     "end_time": "2018-06-20T14:21:13.840015Z",
     "start_time": "2018-06-20T14:21:09.889012Z"
    }
   },
   "outputs": [],
   "source": [
    "from sklearn.preprocessing import LabelEncoder\n",
    "\n",
    "fe_encode = ['fips', 'propertylandusetypeid', 'regionidcity', 'regionidcounty', 'regionidzip']\n",
    "encoder = LabelEncoder()\n",
    "for fe in fe_encode:\n",
    "    train_df[fe] = pd.DataFrame(encoder.fit_transform(train_df[fe].values))\n",
    "    test_df[fe] = pd.DataFrame(encoder.fit_transform(test_df[fe].values))\n",
    "    train_df2[fe] = pd.DataFrame(encoder.fit_transform(train_df[fe].values))"
   ]
  },
  {
   "cell_type": "code",
   "execution_count": 7,
   "metadata": {
    "ExecuteTime": {
     "end_time": "2018-06-20T14:21:17.676471Z",
     "start_time": "2018-06-20T14:21:17.550976Z"
    },
    "scrolled": true
   },
   "outputs": [
    {
     "name": "stderr",
     "output_type": "stream",
     "text": [
      "/home/kai/anaconda3/lib/python3.6/site-packages/sklearn/cross_validation.py:41: DeprecationWarning: This module was deprecated in version 0.18 in favor of the model_selection module into which all the refactored classes and functions are moved. Also note that the interface of the new CV iterators are different from that of this module. This module will be removed in 0.20.\n",
      "  \"This module will be removed in 0.20.\", DeprecationWarning)\n"
     ]
    }
   ],
   "source": [
    "from sklearn.cross_validation import train_test_split\n",
    "\n",
    "y = train_df['logerror']\n",
    "y2 = train_df2['logerror']\n",
    "\n",
    "X_train, X_cv, y_train, y_cv = train_test_split(train_df.drop('logerror', axis=1), y, test_size=0.2, random_state=33)\n",
    "X_train2, X_cv2, y_train2, y_cv2 = train_test_split(train_df2.drop('logerror', axis=1), y2, test_size=0.2, random_state=33)\n",
    "\n",
    "gc.collect();"
   ]
  },
  {
   "cell_type": "code",
   "execution_count": 8,
   "metadata": {
    "ExecuteTime": {
     "end_time": "2018-06-20T14:21:26.387838Z",
     "start_time": "2018-06-20T14:21:23.210003Z"
    },
    "collapsed": true
   },
   "outputs": [],
   "source": [
    "test_df['transactiondate'] = pd.Timestamp('2016-12-01') \n",
    "test_df = add_date_features(test_df)\n",
    "\n",
    "X_test = test_df"
   ]
  },
  {
   "cell_type": "code",
   "execution_count": 9,
   "metadata": {
    "ExecuteTime": {
     "end_time": "2018-06-20T14:21:32.711114Z",
     "start_time": "2018-06-20T14:21:32.700209Z"
    },
    "collapsed": true
   },
   "outputs": [],
   "source": [
    "droplist = []\n",
    "for fe in X_train:\n",
    "    if X_train[fe].dtype == 'object':\n",
    "        droplist.append(fe)\n",
    "\n",
    "X_train = X_train.drop(droplist, axis=1)\n",
    "X_train2 = X_train2.drop(droplist, axis=1)"
   ]
  },
  {
   "cell_type": "code",
   "execution_count": 10,
   "metadata": {
    "ExecuteTime": {
     "end_time": "2018-06-20T14:21:39.025531Z",
     "start_time": "2018-06-20T14:21:39.022377Z"
    }
   },
   "outputs": [
    {
     "data": {
      "text/plain": [
       "\"X_train = X_train.drop('transactiondate', axis=1)\""
      ]
     },
     "execution_count": 10,
     "metadata": {},
     "output_type": "execute_result"
    }
   ],
   "source": [
    "'''X_train = X_train.drop('transactiondate', axis=1)'''"
   ]
  },
  {
   "cell_type": "code",
   "execution_count": 11,
   "metadata": {
    "ExecuteTime": {
     "end_time": "2018-06-20T14:21:45.312281Z",
     "start_time": "2018-06-20T14:21:45.308912Z"
    }
   },
   "outputs": [
    {
     "data": {
      "text/plain": [
       "\"for fe in X_train:\\n    boo = False\\n    for fe2 in X_train:\\n        if boo:\\n            X_train['{}*{}'.format(fe, fe2)] = X_train[str(fe)]*X_train[str(fe2)]\\n        if fe == fe2:\\n            boo = True\\n    boo = False\""
      ]
     },
     "execution_count": 11,
     "metadata": {},
     "output_type": "execute_result"
    }
   ],
   "source": [
    "'''for fe in X_train:\n",
    "    boo = False\n",
    "    for fe2 in X_train:\n",
    "        if boo:\n",
    "            X_train['{}*{}'.format(fe, fe2)] = X_train[str(fe)]*X_train[str(fe2)]\n",
    "        if fe == fe2:\n",
    "            boo = True\n",
    "    boo = False'''\n",
    "\n"
   ]
  },
  {
   "cell_type": "code",
   "execution_count": 12,
   "metadata": {
    "ExecuteTime": {
     "end_time": "2018-06-20T14:21:51.590620Z",
     "start_time": "2018-06-20T14:21:51.587320Z"
    }
   },
   "outputs": [
    {
     "data": {
      "text/plain": [
       "'plt.figure(figsize=(12,12))\\nsns.jointplot(x=X_train.taxdiff.values, y=y_train, size=10)\\nplt.show()'"
      ]
     },
     "execution_count": 12,
     "metadata": {},
     "output_type": "execute_result"
    }
   ],
   "source": [
    "'''plt.figure(figsize=(12,12))\n",
    "sns.jointplot(x=X_train.taxdiff.values, y=y_train, size=10)\n",
    "plt.show()'''"
   ]
  },
  {
   "cell_type": "code",
   "execution_count": 13,
   "metadata": {
    "ExecuteTime": {
     "end_time": "2018-06-20T14:22:02.192145Z",
     "start_time": "2018-06-20T14:21:57.857944Z"
    }
   },
   "outputs": [],
   "source": [
    "from sklearn import model_selection, preprocessing\n",
    "import xgboost as xgb\n",
    "import warnings\n",
    "warnings.filterwarnings(\"ignore\")\n",
    "\n",
    "        \n",
    "train_y = y_train\n",
    "train_X = X_train.drop([\"parcelid\"], axis=1)\n",
    "y_mean = np.mean(y_train)\n",
    "\n",
    "\n",
    "xgb_params = {\n",
    "    'nthread' : 8,\n",
    "    'eta': 0.037,\n",
    "    'max_depth': 5,\n",
    "    'subsample': 0.80,\n",
    "    'objective': 'reg:linear',\n",
    "    'eval_metric': 'mae',\n",
    "    'lambda': 0.8,   \n",
    "    'alpha': 0.4, \n",
    "    'base_score': y_mean,\n",
    "    'silent': 1\n",
    "}\n",
    "dtrain = xgb.DMatrix(train_X, train_y, feature_names=train_X.columns.values)\n",
    "model = xgb.train(dict(xgb_params, silent=1), dtrain, num_boost_round=242)"
   ]
  },
  {
   "cell_type": "code",
   "execution_count": 14,
   "metadata": {
    "ExecuteTime": {
     "end_time": "2018-06-20T14:22:09.380872Z",
     "start_time": "2018-06-20T14:22:08.883480Z"
    }
   },
   "outputs": [
    {
     "data": {
      "text/plain": [
       "<matplotlib.axes._subplots.AxesSubplot at 0x7f415b0dffd0>"
      ]
     },
     "execution_count": 14,
     "metadata": {},
     "output_type": "execute_result"
    },
    {
     "data": {
      "image/png": "[encoded data removed]",
      "text/plain": [
       "<matplotlib.figure.Figure at 0x7f415b0c42e8>"
      ]
     },
     "metadata": {},
     "output_type": "display_data"
    }
   ],
   "source": [
    "featureImportance = model.get_fscore()\n",
    "features = pd.DataFrame()\n",
    "features['features'] = featureImportance.keys()\n",
    "features['importance'] = featureImportance.values()\n",
    "features.sort_values(by=['importance'],ascending=False,inplace=True)\n",
    "fig,ax= plt.subplots()\n",
    "fig.set_size_inches(20,30)\n",
    "plt.xticks(rotation=90)\n",
    "sns.barplot(data=features,x=\"importance\",y=\"features\",ax=ax,orient=\"h\",color=\"#34495e\")"
   ]
  },
  {
   "cell_type": "code",
   "execution_count": 15,
   "metadata": {
    "ExecuteTime": {
     "end_time": "2018-06-20T14:22:15.870744Z",
     "start_time": "2018-06-20T14:22:15.868129Z"
    }
   },
   "outputs": [
    {
     "data": {
      "text/plain": [
       "\"features = pd.DataFrame(features['features'].head(int(.9*features['features'].__len__())))\\nfeatures.reset_index()\""
      ]
     },
     "execution_count": 15,
     "metadata": {},
     "output_type": "execute_result"
    }
   ],
   "source": [
    "'''features = pd.DataFrame(features['features'].head(int(.9*features['features'].__len__())))\n",
    "features.reset_index()'''"
   ]
  },
  {
   "cell_type": "code",
   "execution_count": 16,
   "metadata": {
    "ExecuteTime": {
     "end_time": "2018-06-20T14:22:22.439812Z",
     "start_time": "2018-06-20T14:22:22.436332Z"
    }
   },
   "outputs": [
    {
     "data": {
      "text/plain": [
       "\"x_cols = [col for col in train_df.columns if col not in ['logerror'] if train_df[col].dtype=='float64']\\n\\nlabels = []\\nvalues = []\\nfor col in x_cols:\\n    labels.append(col)\\n    values.append(np.corrcoef(train_df[col].values, train_df.logerror.values)[0,1])\\ncorr_df = pd.DataFrame({'col_labels':labels, 'corr_values':values})\\ncorr_df = corr_df.sort_values(by='corr_values')\\ncorr_df\""
      ]
     },
     "execution_count": 16,
     "metadata": {},
     "output_type": "execute_result"
    }
   ],
   "source": [
    "# Now let us look at the correlation coefficient of each of these variables #\n",
    "'''x_cols = [col for col in train_df.columns if col not in ['logerror'] if train_df[col].dtype=='float64']\n",
    "\n",
    "labels = []\n",
    "values = []\n",
    "for col in x_cols:\n",
    "    labels.append(col)\n",
    "    values.append(np.corrcoef(train_df[col].values, train_df.logerror.values)[0,1])\n",
    "corr_df = pd.DataFrame({'col_labels':labels, 'corr_values':values})\n",
    "corr_df = corr_df.sort_values(by='corr_values')\n",
    "corr_df'''"
   ]
  },
  {
   "cell_type": "code",
   "execution_count": 17,
   "metadata": {
    "ExecuteTime": {
     "end_time": "2018-06-20T14:22:29.222381Z",
     "start_time": "2018-06-20T14:22:29.219358Z"
    }
   },
   "outputs": [
    {
     "data": {
      "text/plain": [
       "\"corr_df_sel = corr_df.ix[(corr_df['corr_values']>0.01) | (corr_df['corr_values'] < -0.01)]\""
      ]
     },
     "execution_count": 17,
     "metadata": {},
     "output_type": "execute_result"
    }
   ],
   "source": [
    "'''corr_df_sel = corr_df.ix[(corr_df['corr_values']>0.01) | (corr_df['corr_values'] < -0.01)]'''"
   ]
  },
  {
   "cell_type": "code",
   "execution_count": 18,
   "metadata": {
    "ExecuteTime": {
     "end_time": "2018-06-20T14:22:35.938424Z",
     "start_time": "2018-06-20T14:22:35.935200Z"
    }
   },
   "outputs": [
    {
     "data": {
      "text/plain": [
       "\"corr_df_ = pd.DataFrame()\\nfor name in corr_df_sel['col_labels']:\\n    corr_df_[name] = train_df[name]\\n\\ncorr_df_.head()\""
      ]
     },
     "execution_count": 18,
     "metadata": {},
     "output_type": "execute_result"
    }
   ],
   "source": [
    "'''corr_df_ = pd.DataFrame()\n",
    "for name in corr_df_sel['col_labels']:\n",
    "    corr_df_[name] = train_df[name]\n",
    "\n",
    "corr_df_.head()'''"
   ]
  },
  {
   "cell_type": "code",
   "execution_count": 19,
   "metadata": {
    "ExecuteTime": {
     "end_time": "2018-06-20T14:22:42.706460Z",
     "start_time": "2018-06-20T14:22:42.702850Z"
    }
   },
   "outputs": [
    {
     "data": {
      "text/plain": [
       "'from statsmodels.stats.outliers_influence import variance_inflation_factor  \\nimport warnings\\nwarnings.filterwarnings(\"ignore\")\\n\\ndef calculate_vif_(X):\\n    variables = list(X.columns)\\n    vif = {variable:variance_inflation_factor(exog=X.values, exog_idx=ix) for ix,variable in enumerate(list(X.columns))}\\n    return vif\\n\\nvifDict = calculate_vif_(corr_df_)\\n\\nvifDf = pd.DataFrame()\\nvifDf[\\'variables\\'] = vifDict.keys()\\nvifDf[\\'vifScore\\'] = vifDict.values()\\nvifDf.sort_values(by=[\\'vifScore\\'],ascending=False,inplace=True)\\nvalidVariables = vifDf[vifDf[\"vifScore\"]<=5]\\nvariablesWithMC  = vifDf[vifDf[\"vifScore\"]>5]\\n\\nvalidVariables, variablesWithMC'"
      ]
     },
     "execution_count": 19,
     "metadata": {},
     "output_type": "execute_result"
    }
   ],
   "source": [
    "'''from statsmodels.stats.outliers_influence import variance_inflation_factor  \n",
    "import warnings\n",
    "warnings.filterwarnings(\"ignore\")\n",
    "\n",
    "def calculate_vif_(X):\n",
    "    variables = list(X.columns)\n",
    "    vif = {variable:variance_inflation_factor(exog=X.values, exog_idx=ix) for ix,variable in enumerate(list(X.columns))}\n",
    "    return vif\n",
    "\n",
    "vifDict = calculate_vif_(corr_df_)\n",
    "\n",
    "vifDf = pd.DataFrame()\n",
    "vifDf['variables'] = vifDict.keys()\n",
    "vifDf['vifScore'] = vifDict.values()\n",
    "vifDf.sort_values(by=['vifScore'],ascending=False,inplace=True)\n",
    "validVariables = vifDf[vifDf[\"vifScore\"]<=5]\n",
    "variablesWithMC  = vifDf[vifDf[\"vifScore\"]>5]\n",
    "\n",
    "validVariables, variablesWithMC'''"
   ]
  },
  {
   "cell_type": "code",
   "execution_count": 20,
   "metadata": {
    "ExecuteTime": {
     "end_time": "2018-06-20T14:22:49.437924Z",
     "start_time": "2018-06-20T14:22:49.434808Z"
    }
   },
   "outputs": [
    {
     "data": {
      "text/plain": [
       "\"valid_df = pd.DataFrame()\\n\\nfor name in validVariables['variables']:\\n    valid_df[name] = train_df[name]\\n\\nvalid_df.head()\""
      ]
     },
     "execution_count": 20,
     "metadata": {},
     "output_type": "execute_result"
    }
   ],
   "source": [
    "'''valid_df = pd.DataFrame()\n",
    "\n",
    "for name in validVariables['variables']:\n",
    "    valid_df[name] = train_df[name]\n",
    "\n",
    "valid_df.head()'''"
   ]
  },
  {
   "cell_type": "code",
   "execution_count": 21,
   "metadata": {
    "ExecuteTime": {
     "end_time": "2018-06-20T14:22:56.179793Z",
     "start_time": "2018-06-20T14:22:56.176610Z"
    }
   },
   "outputs": [
    {
     "data": {
      "text/plain": [
       "\"fe1 = []\\nfor f in valid_df:\\n    fe1.append(f)\\n    \\nfe1.append('parcelid')\\nfe1.append('transaction_year')\\nfe1.append('transaction_month')\\nfe1.append('transaction_day')\\nfe1.append('transaction_quarter')\\n\\nfe1\""
      ]
     },
     "execution_count": 21,
     "metadata": {},
     "output_type": "execute_result"
    }
   ],
   "source": [
    "'''fe1 = []\n",
    "for f in valid_df:\n",
    "    fe1.append(f)\n",
    "    \n",
    "fe1.append('parcelid')\n",
    "fe1.append('transaction_year')\n",
    "fe1.append('transaction_month')\n",
    "fe1.append('transaction_day')\n",
    "fe1.append('transaction_quarter')\n",
    "\n",
    "fe1'''"
   ]
  },
  {
   "cell_type": "code",
   "execution_count": 22,
   "metadata": {
    "ExecuteTime": {
     "end_time": "2018-06-20T14:23:03.162499Z",
     "start_time": "2018-06-20T14:23:02.889862Z"
    }
   },
   "outputs": [
    {
     "data": {
      "text/plain": [
       "(array(['yearbuilt', 'latitude', 'longitude', 'taxamount',\n",
       "        'structuretaxvaluedollarcnt', 'lotsizesquarefeet',\n",
       "        'calculatedfinishedsquarefeet', 'regionidzip', 'taxdiff2',\n",
       "        'landtaxvaluedollarcnt', 'transaction_day', 'transaction_month',\n",
       "        'regionidcity', 'rawcensustractandblock', 'finisheddiff',\n",
       "        'taxvaluedollarcnt', 'censustractandblock', 'finishedsquarefeet12',\n",
       "        'taxdiff', 'bedroomcnt', 'bathroomcnt', 'unitcnt',\n",
       "        'propertylandusetypeid', 'heatingorsystemtypeid', 'fips',\n",
       "        'buildingqualitytypeid', 'roomcnt', 'regionidcounty',\n",
       "        'calculatedbathnbr', 'bathdiff', 'fullbathcnt', 'ParcelId'], dtype=object),\n",
       " array(['yearbuilt', 'latitude', 'longitude', 'taxamount',\n",
       "        'structuretaxvaluedollarcnt', 'lotsizesquarefeet',\n",
       "        'calculatedfinishedsquarefeet', 'regionidzip', 'taxdiff2',\n",
       "        'landtaxvaluedollarcnt', 'transaction_day', 'transaction_month',\n",
       "        'regionidcity', 'rawcensustractandblock', 'finisheddiff',\n",
       "        'taxvaluedollarcnt', 'censustractandblock', 'finishedsquarefeet12',\n",
       "        'taxdiff', 'bedroomcnt', 'bathroomcnt', 'unitcnt',\n",
       "        'propertylandusetypeid', 'heatingorsystemtypeid', 'fips',\n",
       "        'buildingqualitytypeid', 'roomcnt', 'regionidcounty',\n",
       "        'calculatedbathnbr', 'bathdiff', 'fullbathcnt', 'ParcelId'], dtype=object))"
      ]
     },
     "execution_count": 22,
     "metadata": {},
     "output_type": "execute_result"
    }
   ],
   "source": [
    "features_test = np.append(features['features'].values,'ParcelId')\n",
    "\n",
    "X_train = X_train.rename(columns = {'parcelid': 'ParcelId'})\n",
    "X_cv = X_cv.rename(columns = {'parcelid': 'ParcelId'})\n",
    "\n",
    "X_train = X_train[features_test]\n",
    "X_cv = X_cv[features_test]\n",
    "\n",
    "\n",
    "X_train2 = X_train2.rename(columns = {'parcelid': 'ParcelId'})\n",
    "X_cv2 = X_cv2.rename(columns = {'parcelid': 'ParcelId'})\n",
    "\n",
    "X_train2 = X_train2[features_test]\n",
    "X_cv2 = X_cv2[features_test]\n",
    "\n",
    "\n",
    "X_test = test_df[features_test]\n",
    "\n",
    "X_test.columns.values, X_train.columns.values"
   ]
  },
  {
   "cell_type": "code",
   "execution_count": 23,
   "metadata": {
    "ExecuteTime": {
     "end_time": "2018-06-20T14:23:09.336905Z",
     "start_time": "2018-06-20T14:23:09.330336Z"
    }
   },
   "outputs": [
    {
     "data": {
      "text/plain": [
       "[datetime.datetime(2016, 10, 1, 0, 0),\n",
       " datetime.datetime(2016, 11, 1, 0, 0),\n",
       " datetime.datetime(2016, 12, 1, 0, 0),\n",
       " datetime.datetime(2017, 10, 1, 0, 0),\n",
       " datetime.datetime(2017, 11, 1, 0, 0),\n",
       " datetime.datetime(2017, 12, 1, 0, 0)]"
      ]
     },
     "execution_count": 23,
     "metadata": {},
     "output_type": "execute_result"
    }
   ],
   "source": [
    "test_date = ['2016-10-01','2016-11-01','2016-12-01','2017-10-01','2017-11-01','2017-12-01']\n",
    "\n",
    "test_columns = ['201610','201611','201612','201710','201711','201712']\n",
    "\n",
    "from datetime import datetime\n",
    "\n",
    "test_dates = []\n",
    "for d in test_date:\n",
    "    test_dates.append(datetime.strptime(d, '%Y-%m-%d'))\n",
    "test_dates"
   ]
  },
  {
   "cell_type": "code",
   "execution_count": 24,
   "metadata": {
    "ExecuteTime": {
     "end_time": "2018-06-20T14:23:15.557519Z",
     "start_time": "2018-06-20T14:23:15.545907Z"
    },
    "collapsed": true
   },
   "outputs": [],
   "source": [
    "X_train = X_train.drop('ParcelId', axis=1)\n",
    "X_train2 = X_train2.drop('ParcelId', axis=1)\n",
    "X_cv = X_cv.drop('ParcelId', axis=1)\n",
    "X_cv2 = X_cv2.drop('ParcelId', axis=1)"
   ]
  },
  {
   "cell_type": "code",
   "execution_count": 45,
   "metadata": {
    "ExecuteTime": {
     "end_time": "2018-06-20T14:52:32.126258Z",
     "start_time": "2018-06-20T14:52:32.094654Z"
    }
   },
   "outputs": [],
   "source": [
    "X_train = pd.concat([X_train, X_cv])\n",
    "X_train2 = pd.concat([X_train2, X_cv2])\n",
    "y_train = pd.concat([y_train, y_cv])\n",
    "y_train2 = pd.concat([y_train2, y_cv2])"
   ]
  },
  {
   "cell_type": "code",
   "execution_count": 26,
   "metadata": {
    "ExecuteTime": {
     "end_time": "2018-06-20T14:23:30.693896Z",
     "start_time": "2018-06-20T14:23:27.870880Z"
    }
   },
   "outputs": [],
   "source": [
    "import lightgbm as lgb\n",
    "\n",
    "\n",
    "\n",
    "d_train = lgb.Dataset(X_train2, label=y_train2)\n",
    "\n",
    "\n",
    "\n",
    "##### RUN LIGHTGBM\n",
    "\n",
    "params = {}\n",
    "params['max_bin'] = 10\n",
    "params['learning_rate'] = 0.0021 # shrinkage_rate\n",
    "params['boosting_type'] = 'gbdt'\n",
    "params['objective'] = 'regression'\n",
    "params['metric'] = 'l1'          # or 'mae'\n",
    "params['sub_feature'] = 0.5      # feature_fraction -- OK, back to .5, but maybe later increase this\n",
    "params['bagging_fraction'] = 0.85 # sub_row\n",
    "params['bagging_freq'] = 40\n",
    "params['num_leaves'] = 512        # num_leaf\n",
    "params['min_data'] = 500         # min_data_in_leaf\n",
    "params['min_hessian'] = 0.05     # min_sum_hessian_in_leaf\n",
    "params['verbose'] = 0\n",
    "\n",
    "clf = lgb.train(params, d_train, 430)"
   ]
  },
  {
   "cell_type": "code",
   "execution_count": 27,
   "metadata": {
    "ExecuteTime": {
     "end_time": "2018-06-20T14:23:41.129763Z",
     "start_time": "2018-06-20T14:23:36.897706Z"
    },
    "collapsed": true
   },
   "outputs": [],
   "source": [
    "\n",
    "\n",
    "xgb_params2 = {\n",
    "    'nthread' : 8,\n",
    "    'eta': 0.037,\n",
    "    'max_depth': 5,\n",
    "    'subsample': 0.80,\n",
    "    'objective': 'reg:linear',\n",
    "    'eval_metric': 'mae',\n",
    "    'lambda': 0.8,  \n",
    "    'alpha': 0.4,\n",
    "    'base_score': y_mean,\n",
    "    'silent': 1\n",
    "}\n",
    "\n",
    "dtrain2 = xgb.DMatrix(X_train, y_train, feature_names=X_train.columns.values)\n",
    "model2 = xgb.train(dict(xgb_params2, silent=0), dtrain2, num_boost_round=242)"
   ]
  },
  {
   "cell_type": "code",
   "execution_count": 28,
   "metadata": {
    "ExecuteTime": {
     "end_time": "2018-06-20T14:23:50.074344Z",
     "start_time": "2018-06-20T14:23:47.216265Z"
    },
    "collapsed": true
   },
   "outputs": [],
   "source": [
    "xgb_params3 = {\n",
    "    'nthread' : 8,\n",
    "    'eta': 0.033,\n",
    "    'max_depth': 6,\n",
    "    'subsample': 0.80,\n",
    "    'objective': 'reg:linear',\n",
    "    'eval_metric': 'mae',\n",
    "    'base_score': y_mean,\n",
    "    'silent': 1\n",
    "}\n",
    "\n",
    "num_boost_rounds = 150\n",
    "\n",
    "model3 = xgb.train(dict(xgb_params3, silent=1), dtrain2, num_boost_round=num_boost_rounds)"
   ]
  },
  {
   "cell_type": "code",
   "execution_count": null,
   "metadata": {
    "collapsed": true
   },
   "outputs": [],
   "source": [
    "y_cv2."
   ]
  },
  {
   "cell_type": "code",
   "execution_count": null,
   "metadata": {
    "ExecuteTime": {
     "end_time": "2018-06-20T14:43:09.237285Z",
     "start_time": "2018-06-20T14:43:08.860646Z"
    }
   },
   "outputs": [],
   "source": []
  },
  {
   "cell_type": "code",
   "execution_count": 28,
   "metadata": {
    "ExecuteTime": {
     "end_time": "2018-06-19T14:18:57.576999Z",
     "start_time": "2018-06-19T14:18:57.573693Z"
    }
   },
   "outputs": [
    {
     "data": {
      "text/plain": [
       "'cv_result = xgb.cv(xgb_params2, \\n                   dtrain2, \\n                   nfold=5,\\n                   num_boost_round=350,\\n                   early_stopping_rounds=50,\\n                   verbose_eval=10, \\n                   show_stdv=False\\n                  )\\ncv_result'"
      ]
     },
     "execution_count": 28,
     "metadata": {},
     "output_type": "execute_result"
    }
   ],
   "source": [
    "'''cv_result = xgb.cv(xgb_params2, \n",
    "                   dtrain2, \n",
    "                   nfold=5,\n",
    "                   num_boost_round=350,\n",
    "                   early_stopping_rounds=50,\n",
    "                   verbose_eval=10, \n",
    "                   show_stdv=False\n",
    "                  )\n",
    "cv_result'''"
   ]
  },
  {
   "cell_type": "code",
   "execution_count": 50,
   "metadata": {
    "ExecuteTime": {
     "end_time": "2018-06-20T15:00:30.772715Z",
     "start_time": "2018-06-20T15:00:30.763665Z"
    },
    "collapsed": true
   },
   "outputs": [],
   "source": [
    "XGB_WEIGHT = 0.4000\n",
    "BASELINE_WEIGHT = 0.0056\n",
    "\n",
    "BASELINE_PRED = 0.0115\n",
    "\n",
    "lgb_weight = 1 - XGB_WEIGHT - BASELINE_WEIGHT"
   ]
  },
  {
   "cell_type": "code",
   "execution_count": 18,
   "metadata": {
    "ExecuteTime": {
     "end_time": "2018-06-19T18:17:35.028039Z",
     "start_time": "2018-06-19T18:17:34.845957Z"
    },
    "collapsed": true
   },
   "outputs": [],
   "source": [
    "X_cv = X_cv.drop('ParcelId', axis=1)\n",
    "X_cv_xgb = xgb.DMatrix(X_cv, feature_names=X_cv.columns.values)\n",
    "pred_xgb = model2.predict(X_cv_xgb)\n",
    "pred_clf = clf.predict(X_cv)\n",
    "pred_test = XGB_WEIGHT*pred_xgb + BASELINE_WEIGHT*BASELINE_PRED + lgb_weight*pred_clf"
   ]
  },
  {
   "cell_type": "code",
   "execution_count": 19,
   "metadata": {
    "ExecuteTime": {
     "end_time": "2018-06-19T18:17:47.222713Z",
     "start_time": "2018-06-19T18:17:47.220515Z"
    },
    "collapsed": true
   },
   "outputs": [],
   "source": [
    "from sklearn.metrics import mean_squared_error as mse"
   ]
  },
  {
   "cell_type": "code",
   "execution_count": 20,
   "metadata": {
    "ExecuteTime": {
     "end_time": "2018-06-19T18:17:59.356028Z",
     "start_time": "2018-06-19T18:17:59.351954Z"
    }
   },
   "outputs": [
    {
     "data": {
      "text/plain": [
       "(0.0069397228901672053, 0.0069930239044816893, 0.0069416299989208024)"
      ]
     },
     "execution_count": 20,
     "metadata": {},
     "output_type": "execute_result"
    }
   ],
   "source": [
    "mse(y_cv, pred_xgb), mse(y_cv, pred_clf), mse(y_cv, pred_test)"
   ]
  },
  {
   "cell_type": "code",
   "execution_count": 31,
   "metadata": {
    "ExecuteTime": {
     "end_time": "2018-06-18T17:48:01.655626Z",
     "start_time": "2018-06-18T17:48:01.648722Z"
    }
   },
   "outputs": [
    {
     "data": {
      "text/plain": [
       "count    33578.000000\n",
       "mean         0.012424\n",
       "std          0.102230\n",
       "min         -0.331138\n",
       "25%         -0.025300\n",
       "50%          0.006070\n",
       "75%          0.039200\n",
       "max          0.495900\n",
       "Name: logerror, dtype: float64"
      ]
     },
     "execution_count": 31,
     "metadata": {},
     "output_type": "execute_result"
    }
   ],
   "source": [
    "y_cv.describe()"
   ]
  },
  {
   "cell_type": "code",
   "execution_count": 39,
   "metadata": {
    "ExecuteTime": {
     "end_time": "2018-06-18T20:12:00.028885Z",
     "start_time": "2018-06-18T20:12:00.018644Z"
    }
   },
   "outputs": [
    {
     "name": "stdout",
     "output_type": "stream",
     "text": [
      "[0.065799999999999997, -0.058700000000000002, 0.0129, 0.40550000000000003, -0.00019327424892400002, 0.020746167104499998, -0.001, 0.038300000000000001, -0.029399999999999999, -0.037120050850199995]\n",
      "[ 0.02135779  0.00660377  0.00891099  0.01686982  0.01345157  0.01301402\n",
      "  0.01597146  0.00473071  0.01935886  0.01315304]\n"
     ]
    }
   ],
   "source": [
    "print(list(y_cv)[:10])\n",
    "print(pred_test[:10])"
   ]
  },
  {
   "cell_type": "code",
   "execution_count": 30,
   "metadata": {
    "ExecuteTime": {
     "end_time": "2018-06-18T20:58:33.436713Z",
     "start_time": "2018-06-18T20:58:32.368137Z"
    }
   },
   "outputs": [
    {
     "data": {
      "text/plain": [
       "((134310, 23), (2985217, 23))"
      ]
     },
     "execution_count": 30,
     "metadata": {},
     "output_type": "execute_result"
    }
   ],
   "source": [
    "X_test = X_test[features['features'].values]\n",
    "X_train.shape, X_test.shape"
   ]
  },
  {
   "cell_type": "code",
   "execution_count": 51,
   "metadata": {
    "ExecuteTime": {
     "end_time": "2018-06-20T15:02:48.347456Z",
     "start_time": "2018-06-20T15:00:37.574688Z"
    }
   },
   "outputs": [],
   "source": [
    "for i in range(len(test_dates)):\n",
    "    X_test['transactiondate'] = test_dates[i]\n",
    "    X_test = add_date_features(X_test)\n",
    "    X_test = X_test[features['features'].values]    \n",
    "    dtrain_temp = xgb.DMatrix(X_test, feature_names=X_test.columns.values)\n",
    "    xgb_pred = model2.predict(dtrain_temp)\n",
    "    xgb_pred2 = model3.predict(dtrain_temp)\n",
    "    clf_pred = clf.predict(X_test)\n",
    "    pred = XGB_WEIGHT*(xgb_pred*.9 + xgb_pred2*.1) + BASELINE_WEIGHT*BASELINE_PRED + lgb_weight*clf_pred\n",
    "    sample_submission[test_columns[i]] = [float(format(x, '.4f')) for x in pred]"
   ]
  },
  {
   "cell_type": "code",
   "execution_count": 52,
   "metadata": {
    "ExecuteTime": {
     "end_time": "2018-06-20T15:03:07.243506Z",
     "start_time": "2018-06-20T15:02:55.070079Z"
    },
    "collapsed": true
   },
   "outputs": [],
   "source": [
    "sample_submission.to_csv('sub{}.csv'.format(datetime.now().strftime('%Y%m%d_%H%M%S')), index=False)"
   ]
  },
  {
   "cell_type": "code",
   "execution_count": null,
   "metadata": {
    "collapsed": true
   },
   "outputs": [],
   "source": []
  }
 ],
 "metadata": {
  "kernelspec": {
   "display_name": "Python 3",
   "language": "python",
   "name": "python3"
  },
  "language_info": {
   "codemirror_mode": {
    "name": "ipython",
    "version": 3
   },
   "file_extension": ".py",
   "mimetype": "text/x-python",
   "name": "python",
   "nbconvert_exporter": "python",
   "pygments_lexer": "ipython3",
   "version": "3.6.3"
  },
  "varInspector": {
   "cols": {
    "lenName": 16,
    "lenType": 16,
    "lenVar": 40
   },
   "kernels_config": {
    "python": {
     "delete_cmd_postfix": "",
     "delete_cmd_prefix": "del ",
     "library": "var_list.py",
     "varRefreshCmd": "print(var_dic_list())"
    },
    "r": {
     "delete_cmd_postfix": ") ",
     "delete_cmd_prefix": "rm(",
     "library": "var_list.r",
     "varRefreshCmd": "cat(var_dic_list()) "
    }
   },
   "types_to_exclude": [
    "module",
    "function",
    "builtin_function_or_method",
    "instance",
    "_Feature"
   ],
   "window_display": false
  }
 },
 "nbformat": 4,
 "nbformat_minor": 2
}
