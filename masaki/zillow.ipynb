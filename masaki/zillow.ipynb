{
 "cells": [
  {
   "cell_type": "code",
   "execution_count": 1,
   "metadata": {
    "ExecuteTime": {
     "end_time": "2018-06-18T20:48:06.693425Z",
     "start_time": "2018-06-18T20:48:05.349135Z"
    },
    "collapsed": true
   },
   "outputs": [],
   "source": [
    "import numpy as np # linear algebra\n",
    "import pandas as pd # data processing, CSV file I/O (e.g. pd.read_csv)\n",
    "import matplotlib.pyplot as plt\n",
    "import seaborn as sns\n",
    "color = sns.color_palette()\n",
    "\n",
    "from catboost import CatBoostRegressor\n",
    "from tqdm import tqdm\n",
    "import gc\n",
    "import datetime as dt\n",
    "\n",
    "%matplotlib inline\n",
    "\n",
    "pd.options.mode.chained_assignment = None\n",
    "pd.options.display.max_columns = 999"
   ]
  },
  {
   "cell_type": "code",
   "execution_count": 2,
   "metadata": {
    "ExecuteTime": {
     "end_time": "2018-06-18T20:49:06.214273Z",
     "start_time": "2018-06-18T20:48:24.909044Z"
    }
   },
   "outputs": [
    {
     "name": "stderr",
     "output_type": "stream",
     "text": [
      "/home/kai/anaconda3/lib/python3.6/site-packages/IPython/core/interactiveshell.py:2698: DtypeWarning: Columns (22,32,34,49,55) have mixed types. Specify dtype option on import or set low_memory=False.\n",
      "  interactivity=interactivity, compiler=compiler, result=result)\n"
     ]
    }
   ],
   "source": [
    "properties2016 = pd.read_csv('zillow/properties_2016.csv')\n",
    "'''properties2017 = pd.read_csv('zillow/properties_2017.csv',error_bad_lines=False)'''\n",
    "\n",
    "train2016 = pd.read_csv('zillow/train_2016_v2.csv', parse_dates=['transactiondate'])\n",
    "train2017 = pd.read_csv('zillow/train_2017.csv', parse_dates=['transactiondate'])\n",
    "\n",
    "def add_date_features(df):\n",
    "    df[\"transaction_year\"] = df[\"transactiondate\"].dt.year\n",
    "    df[\"transaction_month\"] = (df[\"transactiondate\"].dt.year - 2016)*12 + df[\"transactiondate\"].dt.month\n",
    "    df[\"transaction_day\"] = df[\"transactiondate\"].dt.day\n",
    "    df[\"transaction_quarter\"] = (df[\"transactiondate\"].dt.year - 2016)*4 +df[\"transactiondate\"].dt.quarter\n",
    "    df.drop([\"transactiondate\"], inplace=True, axis=1)\n",
    "    return df\n",
    "\n",
    "train2016 = add_date_features(train2016)\n",
    "'''train2017 = add_date_features(train2017)'''\n",
    "\n",
    "sample_submission = pd.read_csv('zillow/sample_submission.csv')\n",
    "\n",
    "train2016 = pd.merge(train2016, properties2016, how = 'left', on = 'parcelid')\n",
    "'''train2017 = pd.merge(train2017, properties2017, how = 'left', on = 'parcelid')'''\n",
    "\n",
    "\n",
    "train_df = pd.concat([train2016, train2017], axis = 0)\n",
    "test_df = pd.merge(sample_submission[['ParcelId']], properties2016.rename(columns = {'parcelid': 'ParcelId'}), how = 'left', on = 'ParcelId')\n",
    "\n",
    "del properties2016, train2016\n",
    "gc.collect();\n"
   ]
  },
  {
   "cell_type": "code",
   "execution_count": 3,
   "metadata": {
    "ExecuteTime": {
     "end_time": "2018-06-18T20:49:10.716172Z",
     "start_time": "2018-06-18T20:49:10.650045Z"
    }
   },
   "outputs": [
    {
     "name": "stderr",
     "output_type": "stream",
     "text": [
      "/home/kai/anaconda3/lib/python3.6/site-packages/ipykernel_launcher.py:3: DeprecationWarning: \n",
      ".ix is deprecated. Please use\n",
      ".loc for label based indexing or\n",
      ".iloc for positional indexing\n",
      "\n",
      "See the documentation here:\n",
      "http://pandas.pydata.org/pandas-docs/stable/indexing.html#ix-indexer-is-deprecated\n",
      "  This is separate from the ipykernel package so we can avoid doing imports until\n",
      "/home/kai/anaconda3/lib/python3.6/site-packages/ipykernel_launcher.py:4: DeprecationWarning: \n",
      ".ix is deprecated. Please use\n",
      ".loc for label based indexing or\n",
      ".iloc for positional indexing\n",
      "\n",
      "See the documentation here:\n",
      "http://pandas.pydata.org/pandas-docs/stable/indexing.html#ix-indexer-is-deprecated\n",
      "  after removing the cwd from sys.path.\n"
     ]
    }
   ],
   "source": [
    "ulimit = np.percentile(train_df.logerror.values, 99)\n",
    "llimit = np.percentile(train_df.logerror.values, 1)\n",
    "train_df['logerror'].ix[train_df['logerror']>ulimit] = ulimit\n",
    "train_df['logerror'].ix[train_df['logerror']<llimit] = llimit"
   ]
  },
  {
   "cell_type": "code",
   "execution_count": 4,
   "metadata": {
    "ExecuteTime": {
     "end_time": "2018-06-18T20:50:46.967175Z",
     "start_time": "2018-06-18T20:49:14.108556Z"
    },
    "collapsed": true
   },
   "outputs": [],
   "source": [
    "train_df = train_df[[c for c in train_df if train_df[c].isnull().sum() < train_df.shape[0]/2]]\n",
    "\n",
    "mean_values = train_df.median(axis=0)\n",
    "train_df = train_df.fillna(mean_values, inplace=True)\n",
    "\n",
    "mean_values = test_df.median(axis=0)\n",
    "test_df = test_df.fillna(mean_values, inplace=True)"
   ]
  },
  {
   "cell_type": "code",
   "execution_count": 5,
   "metadata": {
    "ExecuteTime": {
     "end_time": "2018-06-18T20:50:51.609687Z",
     "start_time": "2018-06-18T20:50:51.555771Z"
    }
   },
   "outputs": [],
   "source": [
    "dfs = [train_df, test_df]\n",
    "\n",
    "for d in dfs:\n",
    "    d['taxdiff'] = d['taxvaluedollarcnt'] - d['taxamount']\n",
    "    d['taxdiff2'] = d['structuretaxvaluedollarcnt'] - d['landtaxvaluedollarcnt']\n",
    "    d['bathdiff'] = d['fullbathcnt'] - d['bathroomcnt']\n",
    "    d['bathdiff2'] = d['calculatedbathnbr'] - d['bathroomcnt']\n",
    "    d['finisheddiff'] = d['calculatedfinishedsquarefeet'] - d['finishedsquarefeet12']"
   ]
  },
  {
   "cell_type": "code",
   "execution_count": 6,
   "metadata": {
    "ExecuteTime": {
     "end_time": "2018-06-18T20:51:02.991392Z",
     "start_time": "2018-06-18T20:50:58.154866Z"
    }
   },
   "outputs": [],
   "source": [
    "from sklearn.preprocessing import LabelEncoder\n",
    "\n",
    "fe_encode = ['fips', 'propertylandusetypeid', 'regionidcity', 'regionidcounty', 'regionidzip']\n",
    "encoder = LabelEncoder()\n",
    "for fe in fe_encode:\n",
    "    train_df[fe] = pd.DataFrame(encoder.fit_transform(train_df[fe].values))\n",
    "    test_df[fe] = pd.DataFrame(encoder.fit_transform(test_df[fe].values))"
   ]
  },
  {
   "cell_type": "code",
   "execution_count": 7,
   "metadata": {
    "ExecuteTime": {
     "end_time": "2018-06-18T20:51:09.718314Z",
     "start_time": "2018-06-18T20:51:09.519940Z"
    },
    "scrolled": true
   },
   "outputs": [
    {
     "name": "stderr",
     "output_type": "stream",
     "text": [
      "/home/kai/anaconda3/lib/python3.6/site-packages/sklearn/cross_validation.py:41: DeprecationWarning: This module was deprecated in version 0.18 in favor of the model_selection module into which all the refactored classes and functions are moved. Also note that the interface of the new CV iterators are different from that of this module. This module will be removed in 0.20.\n",
      "  \"This module will be removed in 0.20.\", DeprecationWarning)\n"
     ]
    },
    {
     "data": {
      "text/plain": [
       "((134310, 33), (33578, 33), (134310,), (33578,))"
      ]
     },
     "execution_count": 7,
     "metadata": {},
     "output_type": "execute_result"
    }
   ],
   "source": [
    "from sklearn.cross_validation import train_test_split\n",
    "\n",
    "y = train_df['logerror']\n",
    "\n",
    "X_train, X_cv, y_train, y_cv = train_test_split(train_df.drop('logerror', axis=1), y, test_size=0.2, random_state=33)\n",
    "\n",
    "X_train.shape, X_cv.shape, y_train.shape, y_cv.shape"
   ]
  },
  {
   "cell_type": "code",
   "execution_count": 8,
   "metadata": {
    "ExecuteTime": {
     "end_time": "2018-06-18T20:51:21.837092Z",
     "start_time": "2018-06-18T20:51:17.245072Z"
    }
   },
   "outputs": [],
   "source": [
    "test_df['transactiondate'] = pd.Timestamp('2016-12-01') \n",
    "test_df = add_date_features(test_df)\n",
    "\n",
    "X_test = test_df"
   ]
  },
  {
   "cell_type": "code",
   "execution_count": 9,
   "metadata": {
    "ExecuteTime": {
     "end_time": "2018-06-18T20:51:30.743495Z",
     "start_time": "2018-06-18T20:51:30.729347Z"
    },
    "collapsed": true
   },
   "outputs": [],
   "source": [
    "droplist = []\n",
    "for fe in X_train:\n",
    "    if X_train[fe].dtype == 'object':\n",
    "        droplist.append(fe)\n",
    "\n",
    "X_train = X_train.drop(droplist, axis=1)"
   ]
  },
  {
   "cell_type": "code",
   "execution_count": 10,
   "metadata": {
    "ExecuteTime": {
     "end_time": "2018-06-18T20:32:26.587123Z",
     "start_time": "2018-06-18T20:32:26.562996Z"
    }
   },
   "outputs": [
    {
     "data": {
      "text/html": [
       "<div>\n",
       "<style>\n",
       "    .dataframe thead tr:only-child th {\n",
       "        text-align: right;\n",
       "    }\n",
       "\n",
       "    .dataframe thead th {\n",
       "        text-align: left;\n",
       "    }\n",
       "\n",
       "    .dataframe tbody tr th {\n",
       "        vertical-align: top;\n",
       "    }\n",
       "</style>\n",
       "<table border=\"1\" class=\"dataframe\">\n",
       "  <thead>\n",
       "    <tr style=\"text-align: right;\">\n",
       "      <th></th>\n",
       "      <th>assessmentyear</th>\n",
       "      <th>bathroomcnt</th>\n",
       "      <th>bedroomcnt</th>\n",
       "      <th>calculatedbathnbr</th>\n",
       "      <th>calculatedfinishedsquarefeet</th>\n",
       "      <th>censustractandblock</th>\n",
       "      <th>finishedsquarefeet12</th>\n",
       "      <th>fips</th>\n",
       "      <th>fullbathcnt</th>\n",
       "      <th>landtaxvaluedollarcnt</th>\n",
       "      <th>latitude</th>\n",
       "      <th>longitude</th>\n",
       "      <th>parcelid</th>\n",
       "      <th>propertylandusetypeid</th>\n",
       "      <th>rawcensustractandblock</th>\n",
       "      <th>regionidcity</th>\n",
       "      <th>regionidcounty</th>\n",
       "      <th>regionidzip</th>\n",
       "      <th>roomcnt</th>\n",
       "      <th>structuretaxvaluedollarcnt</th>\n",
       "      <th>taxamount</th>\n",
       "      <th>taxvaluedollarcnt</th>\n",
       "      <th>transaction_day</th>\n",
       "      <th>transaction_month</th>\n",
       "      <th>transaction_quarter</th>\n",
       "      <th>transaction_year</th>\n",
       "      <th>yearbuilt</th>\n",
       "      <th>taxdiff</th>\n",
       "      <th>taxdiff2</th>\n",
       "      <th>bathdiff</th>\n",
       "      <th>bathdiff2</th>\n",
       "      <th>finisheddiff</th>\n",
       "    </tr>\n",
       "  </thead>\n",
       "  <tbody>\n",
       "    <tr>\n",
       "      <th>48161</th>\n",
       "      <td>2015.0</td>\n",
       "      <td>0.0</td>\n",
       "      <td>0.0</td>\n",
       "      <td>2.0</td>\n",
       "      <td>1360.0</td>\n",
       "      <td>6.111003e+13</td>\n",
       "      <td>1360.0</td>\n",
       "      <td>2</td>\n",
       "      <td>2.0</td>\n",
       "      <td>9766.0</td>\n",
       "      <td>34201917.0</td>\n",
       "      <td>-119198122.0</td>\n",
       "      <td>17147912</td>\n",
       "      <td>2</td>\n",
       "      <td>6.111003e+07</td>\n",
       "      <td>23</td>\n",
       "      <td>1</td>\n",
       "      <td>364</td>\n",
       "      <td>0.0</td>\n",
       "      <td>48990.0</td>\n",
       "      <td>659.66</td>\n",
       "      <td>58756.0</td>\n",
       "      <td>22.0</td>\n",
       "      <td>6.0</td>\n",
       "      <td>2.0</td>\n",
       "      <td>2016.0</td>\n",
       "      <td>1957.0</td>\n",
       "      <td>58096.34</td>\n",
       "      <td>39224.0</td>\n",
       "      <td>2.0</td>\n",
       "      <td>2.0</td>\n",
       "      <td>0.0</td>\n",
       "    </tr>\n",
       "    <tr>\n",
       "      <th>25752</th>\n",
       "      <td>2015.0</td>\n",
       "      <td>2.0</td>\n",
       "      <td>3.0</td>\n",
       "      <td>2.0</td>\n",
       "      <td>1540.0</td>\n",
       "      <td>6.037615e+13</td>\n",
       "      <td>1518.0</td>\n",
       "      <td>1</td>\n",
       "      <td>2.0</td>\n",
       "      <td>192970.0</td>\n",
       "      <td>34021500.0</td>\n",
       "      <td>-118173431.0</td>\n",
       "      <td>12440381</td>\n",
       "      <td>10</td>\n",
       "      <td>6.037620e+07</td>\n",
       "      <td>61</td>\n",
       "      <td>0</td>\n",
       "      <td>312</td>\n",
       "      <td>0.0</td>\n",
       "      <td>132000.0</td>\n",
       "      <td>4542.75</td>\n",
       "      <td>342872.0</td>\n",
       "      <td>16.0</td>\n",
       "      <td>6.0</td>\n",
       "      <td>2.0</td>\n",
       "      <td>2016.0</td>\n",
       "      <td>1970.0</td>\n",
       "      <td>338329.25</td>\n",
       "      <td>-60970.0</td>\n",
       "      <td>0.0</td>\n",
       "      <td>0.0</td>\n",
       "      <td>22.0</td>\n",
       "    </tr>\n",
       "    <tr>\n",
       "      <th>14744</th>\n",
       "      <td>2015.0</td>\n",
       "      <td>5.0</td>\n",
       "      <td>7.0</td>\n",
       "      <td>5.0</td>\n",
       "      <td>3332.0</td>\n",
       "      <td>6.037604e+13</td>\n",
       "      <td>1518.0</td>\n",
       "      <td>0</td>\n",
       "      <td>5.0</td>\n",
       "      <td>283191.0</td>\n",
       "      <td>33879145.0</td>\n",
       "      <td>-118359355.0</td>\n",
       "      <td>11442944</td>\n",
       "      <td>2</td>\n",
       "      <td>6.037604e+07</td>\n",
       "      <td>125</td>\n",
       "      <td>2</td>\n",
       "      <td>82</td>\n",
       "      <td>0.0</td>\n",
       "      <td>278103.0</td>\n",
       "      <td>7262.54</td>\n",
       "      <td>561294.0</td>\n",
       "      <td>8.0</td>\n",
       "      <td>3.0</td>\n",
       "      <td>1.0</td>\n",
       "      <td>2016.0</td>\n",
       "      <td>1980.0</td>\n",
       "      <td>554031.46</td>\n",
       "      <td>-5088.0</td>\n",
       "      <td>0.0</td>\n",
       "      <td>0.0</td>\n",
       "      <td>1814.0</td>\n",
       "    </tr>\n",
       "    <tr>\n",
       "      <th>61824</th>\n",
       "      <td>2015.0</td>\n",
       "      <td>2.0</td>\n",
       "      <td>3.0</td>\n",
       "      <td>2.0</td>\n",
       "      <td>1540.0</td>\n",
       "      <td>6.037615e+13</td>\n",
       "      <td>1518.0</td>\n",
       "      <td>0</td>\n",
       "      <td>2.0</td>\n",
       "      <td>192970.0</td>\n",
       "      <td>34021500.0</td>\n",
       "      <td>-118173431.0</td>\n",
       "      <td>12039617</td>\n",
       "      <td>10</td>\n",
       "      <td>6.037620e+07</td>\n",
       "      <td>19</td>\n",
       "      <td>2</td>\n",
       "      <td>200</td>\n",
       "      <td>0.0</td>\n",
       "      <td>132000.0</td>\n",
       "      <td>4542.75</td>\n",
       "      <td>342872.0</td>\n",
       "      <td>16.0</td>\n",
       "      <td>6.0</td>\n",
       "      <td>2.0</td>\n",
       "      <td>2016.0</td>\n",
       "      <td>1970.0</td>\n",
       "      <td>338329.25</td>\n",
       "      <td>-60970.0</td>\n",
       "      <td>0.0</td>\n",
       "      <td>0.0</td>\n",
       "      <td>22.0</td>\n",
       "    </tr>\n",
       "    <tr>\n",
       "      <th>6927</th>\n",
       "      <td>2015.0</td>\n",
       "      <td>1.0</td>\n",
       "      <td>2.0</td>\n",
       "      <td>1.0</td>\n",
       "      <td>936.0</td>\n",
       "      <td>6.037241e+13</td>\n",
       "      <td>936.0</td>\n",
       "      <td>0</td>\n",
       "      <td>1.0</td>\n",
       "      <td>71721.0</td>\n",
       "      <td>33951630.0</td>\n",
       "      <td>-118274830.0</td>\n",
       "      <td>12221119</td>\n",
       "      <td>6</td>\n",
       "      <td>6.037241e+07</td>\n",
       "      <td>19</td>\n",
       "      <td>2</td>\n",
       "      <td>2</td>\n",
       "      <td>0.0</td>\n",
       "      <td>30738.0</td>\n",
       "      <td>1569.75</td>\n",
       "      <td>102459.0</td>\n",
       "      <td>2.0</td>\n",
       "      <td>2.0</td>\n",
       "      <td>1.0</td>\n",
       "      <td>2016.0</td>\n",
       "      <td>1924.0</td>\n",
       "      <td>100889.25</td>\n",
       "      <td>-40983.0</td>\n",
       "      <td>0.0</td>\n",
       "      <td>0.0</td>\n",
       "      <td>0.0</td>\n",
       "    </tr>\n",
       "  </tbody>\n",
       "</table>\n",
       "</div>"
      ],
      "text/plain": [
       "       assessmentyear  bathroomcnt  bedroomcnt  calculatedbathnbr  \\\n",
       "48161          2015.0          0.0         0.0                2.0   \n",
       "25752          2015.0          2.0         3.0                2.0   \n",
       "14744          2015.0          5.0         7.0                5.0   \n",
       "61824          2015.0          2.0         3.0                2.0   \n",
       "6927           2015.0          1.0         2.0                1.0   \n",
       "\n",
       "       calculatedfinishedsquarefeet  censustractandblock  \\\n",
       "48161                        1360.0         6.111003e+13   \n",
       "25752                        1540.0         6.037615e+13   \n",
       "14744                        3332.0         6.037604e+13   \n",
       "61824                        1540.0         6.037615e+13   \n",
       "6927                          936.0         6.037241e+13   \n",
       "\n",
       "       finishedsquarefeet12  fips  fullbathcnt  landtaxvaluedollarcnt  \\\n",
       "48161                1360.0     2          2.0                 9766.0   \n",
       "25752                1518.0     1          2.0               192970.0   \n",
       "14744                1518.0     0          5.0               283191.0   \n",
       "61824                1518.0     0          2.0               192970.0   \n",
       "6927                  936.0     0          1.0                71721.0   \n",
       "\n",
       "         latitude    longitude  parcelid  propertylandusetypeid  \\\n",
       "48161  34201917.0 -119198122.0  17147912                      2   \n",
       "25752  34021500.0 -118173431.0  12440381                     10   \n",
       "14744  33879145.0 -118359355.0  11442944                      2   \n",
       "61824  34021500.0 -118173431.0  12039617                     10   \n",
       "6927   33951630.0 -118274830.0  12221119                      6   \n",
       "\n",
       "       rawcensustractandblock  regionidcity  regionidcounty  regionidzip  \\\n",
       "48161            6.111003e+07            23               1          364   \n",
       "25752            6.037620e+07            61               0          312   \n",
       "14744            6.037604e+07           125               2           82   \n",
       "61824            6.037620e+07            19               2          200   \n",
       "6927             6.037241e+07            19               2            2   \n",
       "\n",
       "       roomcnt  structuretaxvaluedollarcnt  taxamount  taxvaluedollarcnt  \\\n",
       "48161      0.0                     48990.0     659.66            58756.0   \n",
       "25752      0.0                    132000.0    4542.75           342872.0   \n",
       "14744      0.0                    278103.0    7262.54           561294.0   \n",
       "61824      0.0                    132000.0    4542.75           342872.0   \n",
       "6927       0.0                     30738.0    1569.75           102459.0   \n",
       "\n",
       "       transaction_day  transaction_month  transaction_quarter  \\\n",
       "48161             22.0                6.0                  2.0   \n",
       "25752             16.0                6.0                  2.0   \n",
       "14744              8.0                3.0                  1.0   \n",
       "61824             16.0                6.0                  2.0   \n",
       "6927               2.0                2.0                  1.0   \n",
       "\n",
       "       transaction_year  yearbuilt    taxdiff  taxdiff2  bathdiff  bathdiff2  \\\n",
       "48161            2016.0     1957.0   58096.34   39224.0       2.0        2.0   \n",
       "25752            2016.0     1970.0  338329.25  -60970.0       0.0        0.0   \n",
       "14744            2016.0     1980.0  554031.46   -5088.0       0.0        0.0   \n",
       "61824            2016.0     1970.0  338329.25  -60970.0       0.0        0.0   \n",
       "6927             2016.0     1924.0  100889.25  -40983.0       0.0        0.0   \n",
       "\n",
       "       finisheddiff  \n",
       "48161           0.0  \n",
       "25752          22.0  \n",
       "14744        1814.0  \n",
       "61824          22.0  \n",
       "6927            0.0  "
      ]
     },
     "execution_count": 10,
     "metadata": {},
     "output_type": "execute_result"
    }
   ],
   "source": [
    "X_train.head()"
   ]
  },
  {
   "cell_type": "code",
   "execution_count": null,
   "metadata": {
    "ExecuteTime": {
     "end_time": "2018-06-18T15:28:12.544594Z",
     "start_time": "2018-06-18T15:28:12.528072Z"
    },
    "scrolled": true
   },
   "outputs": [],
   "source": []
  },
  {
   "cell_type": "code",
   "execution_count": 11,
   "metadata": {
    "ExecuteTime": {
     "end_time": "2018-06-18T20:32:34.756849Z",
     "start_time": "2018-06-18T20:32:34.707348Z"
    }
   },
   "outputs": [
    {
     "name": "stdout",
     "output_type": "stream",
     "text": [
      "assessmentyear: 1\n",
      "bathroomcnt: 23\n",
      "bedroomcnt: 16\n",
      "calculatedbathnbr: 22\n",
      "calculatedfinishedsquarefeet: 4854\n",
      "censustractandblock: 37268\n",
      "finishedsquarefeet12: 4729\n",
      "fips: 3\n",
      "fullbathcnt: 14\n",
      "landtaxvaluedollarcnt: 47486\n",
      "latitude: 59733\n",
      "longitude: 58166\n",
      "parcelid: 132575\n",
      "propertylandusetypeid: 14\n",
      "rawcensustractandblock: 37493\n",
      "regionidcity: 177\n",
      "regionidcounty: 3\n",
      "regionidzip: 387\n",
      "roomcnt: 16\n",
      "structuretaxvaluedollarcnt: 46417\n",
      "taxamount: 68738\n",
      "taxvaluedollarcnt: 46526\n",
      "transaction_day: 31\n",
      "transaction_month: 12\n",
      "transaction_quarter: 4\n",
      "transaction_year: 1\n",
      "yearbuilt: 129\n",
      "taxdiff: 71577\n",
      "taxdiff2: 55619\n",
      "bathdiff: 8\n",
      "bathdiff2: 6\n",
      "finisheddiff: 1864\n"
     ]
    }
   ],
   "source": [
    "'''for fe in X_train:\n",
    "    boo = False\n",
    "    for fe2 in X_train:\n",
    "        if boo:\n",
    "            X_train['{}*{}'.format(fe, fe2)] = X_train[str(fe)]*X_train[str(fe2)]\n",
    "        if fe == fe2:\n",
    "            boo = True\n",
    "    boo = False'''\n",
    "\n",
    "for fe in X_train:\n",
    "    num_uniques = len(X_train[fe].unique())\n",
    "    print('{}: {}'.format(fe, num_uniques))"
   ]
  },
  {
   "cell_type": "code",
   "execution_count": null,
   "metadata": {
    "ExecuteTime": {
     "end_time": "2018-06-18T16:15:50.578055Z",
     "start_time": "2018-06-18T16:15:50.500889Z"
    }
   },
   "outputs": [],
   "source": []
  },
  {
   "cell_type": "code",
   "execution_count": 12,
   "metadata": {
    "ExecuteTime": {
     "end_time": "2018-06-18T20:32:43.719946Z",
     "start_time": "2018-06-18T20:32:43.697255Z"
    }
   },
   "outputs": [
    {
     "data": {
      "text/html": [
       "<div>\n",
       "<style>\n",
       "    .dataframe thead tr:only-child th {\n",
       "        text-align: right;\n",
       "    }\n",
       "\n",
       "    .dataframe thead th {\n",
       "        text-align: left;\n",
       "    }\n",
       "\n",
       "    .dataframe tbody tr th {\n",
       "        vertical-align: top;\n",
       "    }\n",
       "</style>\n",
       "<table border=\"1\" class=\"dataframe\">\n",
       "  <thead>\n",
       "    <tr style=\"text-align: right;\">\n",
       "      <th></th>\n",
       "      <th>assessmentyear</th>\n",
       "      <th>bathroomcnt</th>\n",
       "      <th>bedroomcnt</th>\n",
       "      <th>calculatedbathnbr</th>\n",
       "      <th>calculatedfinishedsquarefeet</th>\n",
       "      <th>censustractandblock</th>\n",
       "      <th>finishedsquarefeet12</th>\n",
       "      <th>fips</th>\n",
       "      <th>fullbathcnt</th>\n",
       "      <th>landtaxvaluedollarcnt</th>\n",
       "      <th>latitude</th>\n",
       "      <th>longitude</th>\n",
       "      <th>parcelid</th>\n",
       "      <th>propertylandusetypeid</th>\n",
       "      <th>rawcensustractandblock</th>\n",
       "      <th>regionidcity</th>\n",
       "      <th>regionidcounty</th>\n",
       "      <th>regionidzip</th>\n",
       "      <th>roomcnt</th>\n",
       "      <th>structuretaxvaluedollarcnt</th>\n",
       "      <th>taxamount</th>\n",
       "      <th>taxvaluedollarcnt</th>\n",
       "      <th>transaction_day</th>\n",
       "      <th>transaction_month</th>\n",
       "      <th>transaction_quarter</th>\n",
       "      <th>transaction_year</th>\n",
       "      <th>yearbuilt</th>\n",
       "      <th>taxdiff</th>\n",
       "      <th>taxdiff2</th>\n",
       "      <th>bathdiff</th>\n",
       "      <th>bathdiff2</th>\n",
       "      <th>finisheddiff</th>\n",
       "    </tr>\n",
       "  </thead>\n",
       "  <tbody>\n",
       "    <tr>\n",
       "      <th>48161</th>\n",
       "      <td>2015.0</td>\n",
       "      <td>0.0</td>\n",
       "      <td>0.0</td>\n",
       "      <td>2.0</td>\n",
       "      <td>1360.0</td>\n",
       "      <td>6.111003e+13</td>\n",
       "      <td>1360.0</td>\n",
       "      <td>2</td>\n",
       "      <td>2.0</td>\n",
       "      <td>9766.0</td>\n",
       "      <td>34201917.0</td>\n",
       "      <td>-119198122.0</td>\n",
       "      <td>17147912</td>\n",
       "      <td>2</td>\n",
       "      <td>6.111003e+07</td>\n",
       "      <td>23</td>\n",
       "      <td>1</td>\n",
       "      <td>364</td>\n",
       "      <td>0.0</td>\n",
       "      <td>48990.0</td>\n",
       "      <td>659.66</td>\n",
       "      <td>58756.0</td>\n",
       "      <td>22.0</td>\n",
       "      <td>6.0</td>\n",
       "      <td>2.0</td>\n",
       "      <td>2016.0</td>\n",
       "      <td>1957.0</td>\n",
       "      <td>58096.34</td>\n",
       "      <td>39224.0</td>\n",
       "      <td>2.0</td>\n",
       "      <td>2.0</td>\n",
       "      <td>0.0</td>\n",
       "    </tr>\n",
       "    <tr>\n",
       "      <th>25752</th>\n",
       "      <td>2015.0</td>\n",
       "      <td>2.0</td>\n",
       "      <td>3.0</td>\n",
       "      <td>2.0</td>\n",
       "      <td>1540.0</td>\n",
       "      <td>6.037615e+13</td>\n",
       "      <td>1518.0</td>\n",
       "      <td>1</td>\n",
       "      <td>2.0</td>\n",
       "      <td>192970.0</td>\n",
       "      <td>34021500.0</td>\n",
       "      <td>-118173431.0</td>\n",
       "      <td>12440381</td>\n",
       "      <td>10</td>\n",
       "      <td>6.037620e+07</td>\n",
       "      <td>61</td>\n",
       "      <td>0</td>\n",
       "      <td>312</td>\n",
       "      <td>0.0</td>\n",
       "      <td>132000.0</td>\n",
       "      <td>4542.75</td>\n",
       "      <td>342872.0</td>\n",
       "      <td>16.0</td>\n",
       "      <td>6.0</td>\n",
       "      <td>2.0</td>\n",
       "      <td>2016.0</td>\n",
       "      <td>1970.0</td>\n",
       "      <td>338329.25</td>\n",
       "      <td>-60970.0</td>\n",
       "      <td>0.0</td>\n",
       "      <td>0.0</td>\n",
       "      <td>22.0</td>\n",
       "    </tr>\n",
       "    <tr>\n",
       "      <th>14744</th>\n",
       "      <td>2015.0</td>\n",
       "      <td>5.0</td>\n",
       "      <td>7.0</td>\n",
       "      <td>5.0</td>\n",
       "      <td>3332.0</td>\n",
       "      <td>6.037604e+13</td>\n",
       "      <td>1518.0</td>\n",
       "      <td>0</td>\n",
       "      <td>5.0</td>\n",
       "      <td>283191.0</td>\n",
       "      <td>33879145.0</td>\n",
       "      <td>-118359355.0</td>\n",
       "      <td>11442944</td>\n",
       "      <td>2</td>\n",
       "      <td>6.037604e+07</td>\n",
       "      <td>125</td>\n",
       "      <td>2</td>\n",
       "      <td>82</td>\n",
       "      <td>0.0</td>\n",
       "      <td>278103.0</td>\n",
       "      <td>7262.54</td>\n",
       "      <td>561294.0</td>\n",
       "      <td>8.0</td>\n",
       "      <td>3.0</td>\n",
       "      <td>1.0</td>\n",
       "      <td>2016.0</td>\n",
       "      <td>1980.0</td>\n",
       "      <td>554031.46</td>\n",
       "      <td>-5088.0</td>\n",
       "      <td>0.0</td>\n",
       "      <td>0.0</td>\n",
       "      <td>1814.0</td>\n",
       "    </tr>\n",
       "    <tr>\n",
       "      <th>61824</th>\n",
       "      <td>2015.0</td>\n",
       "      <td>2.0</td>\n",
       "      <td>3.0</td>\n",
       "      <td>2.0</td>\n",
       "      <td>1540.0</td>\n",
       "      <td>6.037615e+13</td>\n",
       "      <td>1518.0</td>\n",
       "      <td>0</td>\n",
       "      <td>2.0</td>\n",
       "      <td>192970.0</td>\n",
       "      <td>34021500.0</td>\n",
       "      <td>-118173431.0</td>\n",
       "      <td>12039617</td>\n",
       "      <td>10</td>\n",
       "      <td>6.037620e+07</td>\n",
       "      <td>19</td>\n",
       "      <td>2</td>\n",
       "      <td>200</td>\n",
       "      <td>0.0</td>\n",
       "      <td>132000.0</td>\n",
       "      <td>4542.75</td>\n",
       "      <td>342872.0</td>\n",
       "      <td>16.0</td>\n",
       "      <td>6.0</td>\n",
       "      <td>2.0</td>\n",
       "      <td>2016.0</td>\n",
       "      <td>1970.0</td>\n",
       "      <td>338329.25</td>\n",
       "      <td>-60970.0</td>\n",
       "      <td>0.0</td>\n",
       "      <td>0.0</td>\n",
       "      <td>22.0</td>\n",
       "    </tr>\n",
       "    <tr>\n",
       "      <th>6927</th>\n",
       "      <td>2015.0</td>\n",
       "      <td>1.0</td>\n",
       "      <td>2.0</td>\n",
       "      <td>1.0</td>\n",
       "      <td>936.0</td>\n",
       "      <td>6.037241e+13</td>\n",
       "      <td>936.0</td>\n",
       "      <td>0</td>\n",
       "      <td>1.0</td>\n",
       "      <td>71721.0</td>\n",
       "      <td>33951630.0</td>\n",
       "      <td>-118274830.0</td>\n",
       "      <td>12221119</td>\n",
       "      <td>6</td>\n",
       "      <td>6.037241e+07</td>\n",
       "      <td>19</td>\n",
       "      <td>2</td>\n",
       "      <td>2</td>\n",
       "      <td>0.0</td>\n",
       "      <td>30738.0</td>\n",
       "      <td>1569.75</td>\n",
       "      <td>102459.0</td>\n",
       "      <td>2.0</td>\n",
       "      <td>2.0</td>\n",
       "      <td>1.0</td>\n",
       "      <td>2016.0</td>\n",
       "      <td>1924.0</td>\n",
       "      <td>100889.25</td>\n",
       "      <td>-40983.0</td>\n",
       "      <td>0.0</td>\n",
       "      <td>0.0</td>\n",
       "      <td>0.0</td>\n",
       "    </tr>\n",
       "  </tbody>\n",
       "</table>\n",
       "</div>"
      ],
      "text/plain": [
       "       assessmentyear  bathroomcnt  bedroomcnt  calculatedbathnbr  \\\n",
       "48161          2015.0          0.0         0.0                2.0   \n",
       "25752          2015.0          2.0         3.0                2.0   \n",
       "14744          2015.0          5.0         7.0                5.0   \n",
       "61824          2015.0          2.0         3.0                2.0   \n",
       "6927           2015.0          1.0         2.0                1.0   \n",
       "\n",
       "       calculatedfinishedsquarefeet  censustractandblock  \\\n",
       "48161                        1360.0         6.111003e+13   \n",
       "25752                        1540.0         6.037615e+13   \n",
       "14744                        3332.0         6.037604e+13   \n",
       "61824                        1540.0         6.037615e+13   \n",
       "6927                          936.0         6.037241e+13   \n",
       "\n",
       "       finishedsquarefeet12  fips  fullbathcnt  landtaxvaluedollarcnt  \\\n",
       "48161                1360.0     2          2.0                 9766.0   \n",
       "25752                1518.0     1          2.0               192970.0   \n",
       "14744                1518.0     0          5.0               283191.0   \n",
       "61824                1518.0     0          2.0               192970.0   \n",
       "6927                  936.0     0          1.0                71721.0   \n",
       "\n",
       "         latitude    longitude  parcelid  propertylandusetypeid  \\\n",
       "48161  34201917.0 -119198122.0  17147912                      2   \n",
       "25752  34021500.0 -118173431.0  12440381                     10   \n",
       "14744  33879145.0 -118359355.0  11442944                      2   \n",
       "61824  34021500.0 -118173431.0  12039617                     10   \n",
       "6927   33951630.0 -118274830.0  12221119                      6   \n",
       "\n",
       "       rawcensustractandblock  regionidcity  regionidcounty  regionidzip  \\\n",
       "48161            6.111003e+07            23               1          364   \n",
       "25752            6.037620e+07            61               0          312   \n",
       "14744            6.037604e+07           125               2           82   \n",
       "61824            6.037620e+07            19               2          200   \n",
       "6927             6.037241e+07            19               2            2   \n",
       "\n",
       "       roomcnt  structuretaxvaluedollarcnt  taxamount  taxvaluedollarcnt  \\\n",
       "48161      0.0                     48990.0     659.66            58756.0   \n",
       "25752      0.0                    132000.0    4542.75           342872.0   \n",
       "14744      0.0                    278103.0    7262.54           561294.0   \n",
       "61824      0.0                    132000.0    4542.75           342872.0   \n",
       "6927       0.0                     30738.0    1569.75           102459.0   \n",
       "\n",
       "       transaction_day  transaction_month  transaction_quarter  \\\n",
       "48161             22.0                6.0                  2.0   \n",
       "25752             16.0                6.0                  2.0   \n",
       "14744              8.0                3.0                  1.0   \n",
       "61824             16.0                6.0                  2.0   \n",
       "6927               2.0                2.0                  1.0   \n",
       "\n",
       "       transaction_year  yearbuilt    taxdiff  taxdiff2  bathdiff  bathdiff2  \\\n",
       "48161            2016.0     1957.0   58096.34   39224.0       2.0        2.0   \n",
       "25752            2016.0     1970.0  338329.25  -60970.0       0.0        0.0   \n",
       "14744            2016.0     1980.0  554031.46   -5088.0       0.0        0.0   \n",
       "61824            2016.0     1970.0  338329.25  -60970.0       0.0        0.0   \n",
       "6927             2016.0     1924.0  100889.25  -40983.0       0.0        0.0   \n",
       "\n",
       "       finisheddiff  \n",
       "48161           0.0  \n",
       "25752          22.0  \n",
       "14744        1814.0  \n",
       "61824          22.0  \n",
       "6927            0.0  "
      ]
     },
     "execution_count": 12,
     "metadata": {},
     "output_type": "execute_result"
    }
   ],
   "source": [
    "X_train.head()"
   ]
  },
  {
   "cell_type": "code",
   "execution_count": 13,
   "metadata": {
    "ExecuteTime": {
     "end_time": "2018-06-18T20:32:51.619486Z",
     "start_time": "2018-06-18T20:32:51.616642Z"
    }
   },
   "outputs": [
    {
     "data": {
      "text/plain": [
       "'plt.figure(figsize=(12,12))\\nsns.jointplot(x=X_train.taxdiff.values, y=y_train, size=10)\\nplt.show()'"
      ]
     },
     "execution_count": 13,
     "metadata": {},
     "output_type": "execute_result"
    }
   ],
   "source": [
    "'''plt.figure(figsize=(12,12))\n",
    "sns.jointplot(x=X_train.taxdiff.values, y=y_train, size=10)\n",
    "plt.show()'''"
   ]
  },
  {
   "cell_type": "code",
   "execution_count": 10,
   "metadata": {
    "ExecuteTime": {
     "end_time": "2018-06-18T20:51:57.299256Z",
     "start_time": "2018-06-18T20:51:50.530586Z"
    },
    "collapsed": true
   },
   "outputs": [],
   "source": [
    "from sklearn import model_selection, preprocessing\n",
    "import xgboost as xgb\n",
    "import warnings\n",
    "warnings.filterwarnings(\"ignore\")\n",
    "\n",
    "        \n",
    "train_y = y_train\n",
    "train_X = X_train.drop([\"parcelid\"], axis=1)\n",
    "y_mean = np.mean(y_train)\n",
    "\n",
    "\n",
    "xgb_params = {\n",
    "    'nthread' : 8,\n",
    "    'eta': 0.037,\n",
    "    'max_depth': 5,\n",
    "    'subsample': 0.80,\n",
    "    'objective': 'reg:linear',\n",
    "    'eval_metric': 'mae',\n",
    "    'lambda': 0.8,   \n",
    "    'alpha': 0.4, \n",
    "    'base_score': y_mean,\n",
    "    'silent': 1\n",
    "}\n",
    "dtrain = xgb.DMatrix(train_X, train_y, feature_names=train_X.columns.values)\n",
    "model = xgb.train(dict(xgb_params, silent=1), dtrain, num_boost_round=100)"
   ]
  },
  {
   "cell_type": "code",
   "execution_count": 11,
   "metadata": {
    "ExecuteTime": {
     "end_time": "2018-06-18T20:52:07.469528Z",
     "start_time": "2018-06-18T20:52:07.010203Z"
    }
   },
   "outputs": [
    {
     "data": {
      "text/plain": [
       "<matplotlib.axes._subplots.AxesSubplot at 0x7efeed4158d0>"
      ]
     },
     "execution_count": 11,
     "metadata": {},
     "output_type": "execute_result"
    },
    {
     "data": {
      "image/png": "[encoded data removed]",
      "text/plain": [
       "<matplotlib.figure.Figure at 0x7efeecefc128>"
      ]
     },
     "metadata": {},
     "output_type": "display_data"
    }
   ],
   "source": [
    "featureImportance = model.get_fscore()\n",
    "features = pd.DataFrame()\n",
    "features['features'] = featureImportance.keys()\n",
    "features['importance'] = featureImportance.values()\n",
    "features.sort_values(by=['importance'],ascending=False,inplace=True)\n",
    "fig,ax= plt.subplots()\n",
    "fig.set_size_inches(20,10)\n",
    "plt.xticks(rotation=90)\n",
    "sns.barplot(data=features,x=\"importance\",y=\"features\",ax=ax,orient=\"h\",color=\"#34495e\")"
   ]
  },
  {
   "cell_type": "code",
   "execution_count": 12,
   "metadata": {
    "ExecuteTime": {
     "end_time": "2018-06-18T20:52:17.011545Z",
     "start_time": "2018-06-18T20:52:16.990240Z"
    }
   },
   "outputs": [
    {
     "data": {
      "text/html": [
       "<div>\n",
       "<style>\n",
       "    .dataframe thead tr:only-child th {\n",
       "        text-align: right;\n",
       "    }\n",
       "\n",
       "    .dataframe thead th {\n",
       "        text-align: left;\n",
       "    }\n",
       "\n",
       "    .dataframe tbody tr th {\n",
       "        vertical-align: top;\n",
       "    }\n",
       "</style>\n",
       "<table border=\"1\" class=\"dataframe\">\n",
       "  <thead>\n",
       "    <tr style=\"text-align: right;\">\n",
       "      <th></th>\n",
       "      <th>index</th>\n",
       "      <th>features</th>\n",
       "    </tr>\n",
       "  </thead>\n",
       "  <tbody>\n",
       "    <tr>\n",
       "      <th>0</th>\n",
       "      <td>0</td>\n",
       "      <td>taxamount</td>\n",
       "    </tr>\n",
       "    <tr>\n",
       "      <th>1</th>\n",
       "      <td>10</td>\n",
       "      <td>calculatedfinishedsquarefeet</td>\n",
       "    </tr>\n",
       "    <tr>\n",
       "      <th>2</th>\n",
       "      <td>9</td>\n",
       "      <td>structuretaxvaluedollarcnt</td>\n",
       "    </tr>\n",
       "    <tr>\n",
       "      <th>3</th>\n",
       "      <td>1</td>\n",
       "      <td>yearbuilt</td>\n",
       "    </tr>\n",
       "    <tr>\n",
       "      <th>4</th>\n",
       "      <td>8</td>\n",
       "      <td>latitude</td>\n",
       "    </tr>\n",
       "    <tr>\n",
       "      <th>5</th>\n",
       "      <td>3</td>\n",
       "      <td>longitude</td>\n",
       "    </tr>\n",
       "    <tr>\n",
       "      <th>6</th>\n",
       "      <td>14</td>\n",
       "      <td>taxdiff2</td>\n",
       "    </tr>\n",
       "    <tr>\n",
       "      <th>7</th>\n",
       "      <td>13</td>\n",
       "      <td>regionidzip</td>\n",
       "    </tr>\n",
       "    <tr>\n",
       "      <th>8</th>\n",
       "      <td>15</td>\n",
       "      <td>landtaxvaluedollarcnt</td>\n",
       "    </tr>\n",
       "    <tr>\n",
       "      <th>9</th>\n",
       "      <td>4</td>\n",
       "      <td>transaction_month</td>\n",
       "    </tr>\n",
       "    <tr>\n",
       "      <th>10</th>\n",
       "      <td>7</td>\n",
       "      <td>censustractandblock</td>\n",
       "    </tr>\n",
       "    <tr>\n",
       "      <th>11</th>\n",
       "      <td>5</td>\n",
       "      <td>transaction_day</td>\n",
       "    </tr>\n",
       "    <tr>\n",
       "      <th>12</th>\n",
       "      <td>11</td>\n",
       "      <td>taxvaluedollarcnt</td>\n",
       "    </tr>\n",
       "    <tr>\n",
       "      <th>13</th>\n",
       "      <td>12</td>\n",
       "      <td>taxdiff</td>\n",
       "    </tr>\n",
       "    <tr>\n",
       "      <th>14</th>\n",
       "      <td>20</td>\n",
       "      <td>finisheddiff</td>\n",
       "    </tr>\n",
       "    <tr>\n",
       "      <th>15</th>\n",
       "      <td>16</td>\n",
       "      <td>regionidcity</td>\n",
       "    </tr>\n",
       "    <tr>\n",
       "      <th>16</th>\n",
       "      <td>2</td>\n",
       "      <td>finishedsquarefeet12</td>\n",
       "    </tr>\n",
       "    <tr>\n",
       "      <th>17</th>\n",
       "      <td>19</td>\n",
       "      <td>bedroomcnt</td>\n",
       "    </tr>\n",
       "    <tr>\n",
       "      <th>18</th>\n",
       "      <td>17</td>\n",
       "      <td>rawcensustractandblock</td>\n",
       "    </tr>\n",
       "    <tr>\n",
       "      <th>19</th>\n",
       "      <td>18</td>\n",
       "      <td>bathroomcnt</td>\n",
       "    </tr>\n",
       "    <tr>\n",
       "      <th>20</th>\n",
       "      <td>6</td>\n",
       "      <td>propertylandusetypeid</td>\n",
       "    </tr>\n",
       "    <tr>\n",
       "      <th>21</th>\n",
       "      <td>24</td>\n",
       "      <td>roomcnt</td>\n",
       "    </tr>\n",
       "    <tr>\n",
       "      <th>22</th>\n",
       "      <td>21</td>\n",
       "      <td>calculatedbathnbr</td>\n",
       "    </tr>\n",
       "  </tbody>\n",
       "</table>\n",
       "</div>"
      ],
      "text/plain": [
       "    index                      features\n",
       "0       0                     taxamount\n",
       "1      10  calculatedfinishedsquarefeet\n",
       "2       9    structuretaxvaluedollarcnt\n",
       "3       1                     yearbuilt\n",
       "4       8                      latitude\n",
       "5       3                     longitude\n",
       "6      14                      taxdiff2\n",
       "7      13                   regionidzip\n",
       "8      15         landtaxvaluedollarcnt\n",
       "9       4             transaction_month\n",
       "10      7           censustractandblock\n",
       "11      5               transaction_day\n",
       "12     11             taxvaluedollarcnt\n",
       "13     12                       taxdiff\n",
       "14     20                  finisheddiff\n",
       "15     16                  regionidcity\n",
       "16      2          finishedsquarefeet12\n",
       "17     19                    bedroomcnt\n",
       "18     17        rawcensustractandblock\n",
       "19     18                   bathroomcnt\n",
       "20      6         propertylandusetypeid\n",
       "21     24                       roomcnt\n",
       "22     21             calculatedbathnbr"
      ]
     },
     "execution_count": 12,
     "metadata": {},
     "output_type": "execute_result"
    }
   ],
   "source": [
    "features = pd.DataFrame(features['features'].head(int(.9*features['features'].__len__())))\n",
    "features.reset_index()"
   ]
  },
  {
   "cell_type": "code",
   "execution_count": 30,
   "metadata": {
    "ExecuteTime": {
     "end_time": "2018-06-18T20:37:15.575243Z",
     "start_time": "2018-06-18T20:37:15.540531Z"
    }
   },
   "outputs": [
    {
     "data": {
      "text/html": [
       "<div>\n",
       "<style>\n",
       "    .dataframe thead tr:only-child th {\n",
       "        text-align: right;\n",
       "    }\n",
       "\n",
       "    .dataframe thead th {\n",
       "        text-align: left;\n",
       "    }\n",
       "\n",
       "    .dataframe tbody tr th {\n",
       "        vertical-align: top;\n",
       "    }\n",
       "</style>\n",
       "<table border=\"1\" class=\"dataframe\">\n",
       "  <thead>\n",
       "    <tr style=\"text-align: right;\">\n",
       "      <th></th>\n",
       "      <th>taxamount</th>\n",
       "      <th>calculatedfinishedsquarefeet</th>\n",
       "      <th>structuretaxvaluedollarcnt</th>\n",
       "      <th>yearbuilt</th>\n",
       "      <th>latitude</th>\n",
       "      <th>longitude</th>\n",
       "      <th>taxdiff2</th>\n",
       "      <th>regionidzip</th>\n",
       "      <th>landtaxvaluedollarcnt</th>\n",
       "      <th>transaction_month</th>\n",
       "      <th>censustractandblock</th>\n",
       "      <th>transaction_day</th>\n",
       "      <th>taxvaluedollarcnt</th>\n",
       "      <th>taxdiff</th>\n",
       "      <th>finisheddiff</th>\n",
       "      <th>regionidcity</th>\n",
       "      <th>finishedsquarefeet12</th>\n",
       "      <th>bedroomcnt</th>\n",
       "      <th>rawcensustractandblock</th>\n",
       "      <th>bathroomcnt</th>\n",
       "      <th>propertylandusetypeid</th>\n",
       "      <th>roomcnt</th>\n",
       "      <th>calculatedbathnbr</th>\n",
       "      <th>ParcelId</th>\n",
       "    </tr>\n",
       "  </thead>\n",
       "  <tbody>\n",
       "    <tr>\n",
       "      <th>79166</th>\n",
       "      <td>3223.98</td>\n",
       "      <td>3182.0</td>\n",
       "      <td>155226.0</td>\n",
       "      <td>1966.0</td>\n",
       "      <td>34111521.0</td>\n",
       "      <td>-118303849.0</td>\n",
       "      <td>65286.0</td>\n",
       "      <td>25</td>\n",
       "      <td>89940.0</td>\n",
       "      <td>9.0</td>\n",
       "      <td>6.037189e+13</td>\n",
       "      <td>23.0</td>\n",
       "      <td>245166.0</td>\n",
       "      <td>241942.02</td>\n",
       "      <td>0.0</td>\n",
       "      <td>19</td>\n",
       "      <td>3182.0</td>\n",
       "      <td>5.0</td>\n",
       "      <td>6.037189e+07</td>\n",
       "      <td>4.0</td>\n",
       "      <td>6</td>\n",
       "      <td>0.0</td>\n",
       "      <td>4.0</td>\n",
       "      <td>12034935</td>\n",
       "    </tr>\n",
       "    <tr>\n",
       "      <th>69155</th>\n",
       "      <td>1377.36</td>\n",
       "      <td>1740.0</td>\n",
       "      <td>61043.0</td>\n",
       "      <td>1971.0</td>\n",
       "      <td>33872772.0</td>\n",
       "      <td>-117784276.0</td>\n",
       "      <td>35768.0</td>\n",
       "      <td>353</td>\n",
       "      <td>25275.0</td>\n",
       "      <td>8.0</td>\n",
       "      <td>6.059022e+13</td>\n",
       "      <td>24.0</td>\n",
       "      <td>86318.0</td>\n",
       "      <td>84940.64</td>\n",
       "      <td>0.0</td>\n",
       "      <td>48</td>\n",
       "      <td>1740.0</td>\n",
       "      <td>4.0</td>\n",
       "      <td>6.059022e+07</td>\n",
       "      <td>2.0</td>\n",
       "      <td>6</td>\n",
       "      <td>7.0</td>\n",
       "      <td>2.0</td>\n",
       "      <td>14192659</td>\n",
       "    </tr>\n",
       "    <tr>\n",
       "      <th>45505</th>\n",
       "      <td>4542.75</td>\n",
       "      <td>1540.0</td>\n",
       "      <td>132000.0</td>\n",
       "      <td>1970.0</td>\n",
       "      <td>34021500.0</td>\n",
       "      <td>-118173431.0</td>\n",
       "      <td>-60970.0</td>\n",
       "      <td>214</td>\n",
       "      <td>192970.0</td>\n",
       "      <td>6.0</td>\n",
       "      <td>6.037615e+13</td>\n",
       "      <td>16.0</td>\n",
       "      <td>342872.0</td>\n",
       "      <td>338329.25</td>\n",
       "      <td>22.0</td>\n",
       "      <td>95</td>\n",
       "      <td>1518.0</td>\n",
       "      <td>3.0</td>\n",
       "      <td>6.037620e+07</td>\n",
       "      <td>2.0</td>\n",
       "      <td>6</td>\n",
       "      <td>0.0</td>\n",
       "      <td>2.0</td>\n",
       "      <td>11194915</td>\n",
       "    </tr>\n",
       "    <tr>\n",
       "      <th>43666</th>\n",
       "      <td>4542.75</td>\n",
       "      <td>1540.0</td>\n",
       "      <td>132000.0</td>\n",
       "      <td>1970.0</td>\n",
       "      <td>34021500.0</td>\n",
       "      <td>-118173431.0</td>\n",
       "      <td>-60970.0</td>\n",
       "      <td>122</td>\n",
       "      <td>192970.0</td>\n",
       "      <td>6.0</td>\n",
       "      <td>6.037615e+13</td>\n",
       "      <td>16.0</td>\n",
       "      <td>342872.0</td>\n",
       "      <td>338329.25</td>\n",
       "      <td>22.0</td>\n",
       "      <td>43</td>\n",
       "      <td>1518.0</td>\n",
       "      <td>3.0</td>\n",
       "      <td>6.037620e+07</td>\n",
       "      <td>2.0</td>\n",
       "      <td>10</td>\n",
       "      <td>0.0</td>\n",
       "      <td>2.0</td>\n",
       "      <td>14380461</td>\n",
       "    </tr>\n",
       "    <tr>\n",
       "      <th>12129</th>\n",
       "      <td>8835.56</td>\n",
       "      <td>2521.0</td>\n",
       "      <td>301634.0</td>\n",
       "      <td>1965.0</td>\n",
       "      <td>34237743.0</td>\n",
       "      <td>-119087637.0</td>\n",
       "      <td>-213455.0</td>\n",
       "      <td>358</td>\n",
       "      <td>515089.0</td>\n",
       "      <td>2.0</td>\n",
       "      <td>6.111005e+13</td>\n",
       "      <td>26.0</td>\n",
       "      <td>816723.0</td>\n",
       "      <td>807887.44</td>\n",
       "      <td>0.0</td>\n",
       "      <td>137</td>\n",
       "      <td>2521.0</td>\n",
       "      <td>5.0</td>\n",
       "      <td>6.111005e+07</td>\n",
       "      <td>2.0</td>\n",
       "      <td>6</td>\n",
       "      <td>8.0</td>\n",
       "      <td>2.0</td>\n",
       "      <td>17124512</td>\n",
       "    </tr>\n",
       "  </tbody>\n",
       "</table>\n",
       "</div>"
      ],
      "text/plain": [
       "       taxamount  calculatedfinishedsquarefeet  structuretaxvaluedollarcnt  \\\n",
       "79166    3223.98                        3182.0                    155226.0   \n",
       "69155    1377.36                        1740.0                     61043.0   \n",
       "45505    4542.75                        1540.0                    132000.0   \n",
       "43666    4542.75                        1540.0                    132000.0   \n",
       "12129    8835.56                        2521.0                    301634.0   \n",
       "\n",
       "       yearbuilt    latitude    longitude  taxdiff2  regionidzip  \\\n",
       "79166     1966.0  34111521.0 -118303849.0   65286.0           25   \n",
       "69155     1971.0  33872772.0 -117784276.0   35768.0          353   \n",
       "45505     1970.0  34021500.0 -118173431.0  -60970.0          214   \n",
       "43666     1970.0  34021500.0 -118173431.0  -60970.0          122   \n",
       "12129     1965.0  34237743.0 -119087637.0 -213455.0          358   \n",
       "\n",
       "       landtaxvaluedollarcnt  transaction_month  censustractandblock  \\\n",
       "79166                89940.0                9.0         6.037189e+13   \n",
       "69155                25275.0                8.0         6.059022e+13   \n",
       "45505               192970.0                6.0         6.037615e+13   \n",
       "43666               192970.0                6.0         6.037615e+13   \n",
       "12129               515089.0                2.0         6.111005e+13   \n",
       "\n",
       "       transaction_day  taxvaluedollarcnt    taxdiff  finisheddiff  \\\n",
       "79166             23.0           245166.0  241942.02           0.0   \n",
       "69155             24.0            86318.0   84940.64           0.0   \n",
       "45505             16.0           342872.0  338329.25          22.0   \n",
       "43666             16.0           342872.0  338329.25          22.0   \n",
       "12129             26.0           816723.0  807887.44           0.0   \n",
       "\n",
       "       regionidcity  finishedsquarefeet12  bedroomcnt  rawcensustractandblock  \\\n",
       "79166            19                3182.0         5.0            6.037189e+07   \n",
       "69155            48                1740.0         4.0            6.059022e+07   \n",
       "45505            95                1518.0         3.0            6.037620e+07   \n",
       "43666            43                1518.0         3.0            6.037620e+07   \n",
       "12129           137                2521.0         5.0            6.111005e+07   \n",
       "\n",
       "       bathroomcnt  propertylandusetypeid  roomcnt  calculatedbathnbr  \\\n",
       "79166          4.0                      6      0.0                4.0   \n",
       "69155          2.0                      6      7.0                2.0   \n",
       "45505          2.0                      6      0.0                2.0   \n",
       "43666          2.0                     10      0.0                2.0   \n",
       "12129          2.0                      6      8.0                2.0   \n",
       "\n",
       "       ParcelId  \n",
       "79166  12034935  \n",
       "69155  14192659  \n",
       "45505  11194915  \n",
       "43666  14380461  \n",
       "12129  17124512  "
      ]
     },
     "execution_count": 30,
     "metadata": {},
     "output_type": "execute_result"
    }
   ],
   "source": []
  },
  {
   "cell_type": "code",
   "execution_count": null,
   "metadata": {
    "ExecuteTime": {
     "end_time": "2018-06-15T15:57:39.121141Z",
     "start_time": "2018-06-15T15:57:39.112437Z"
    },
    "collapsed": true
   },
   "outputs": [],
   "source": []
  },
  {
   "cell_type": "code",
   "execution_count": 17,
   "metadata": {
    "ExecuteTime": {
     "end_time": "2018-06-18T20:33:33.231209Z",
     "start_time": "2018-06-18T20:33:33.227627Z"
    }
   },
   "outputs": [
    {
     "data": {
      "text/plain": [
       "\"x_cols = [col for col in train_df.columns if col not in ['logerror'] if train_df[col].dtype=='float64']\\n\\nlabels = []\\nvalues = []\\nfor col in x_cols:\\n    labels.append(col)\\n    values.append(np.corrcoef(train_df[col].values, train_df.logerror.values)[0,1])\\ncorr_df = pd.DataFrame({'col_labels':labels, 'corr_values':values})\\ncorr_df = corr_df.sort_values(by='corr_values')\\ncorr_df\""
      ]
     },
     "execution_count": 17,
     "metadata": {},
     "output_type": "execute_result"
    }
   ],
   "source": [
    "# Now let us look at the correlation coefficient of each of these variables #\n",
    "'''x_cols = [col for col in train_df.columns if col not in ['logerror'] if train_df[col].dtype=='float64']\n",
    "\n",
    "labels = []\n",
    "values = []\n",
    "for col in x_cols:\n",
    "    labels.append(col)\n",
    "    values.append(np.corrcoef(train_df[col].values, train_df.logerror.values)[0,1])\n",
    "corr_df = pd.DataFrame({'col_labels':labels, 'corr_values':values})\n",
    "corr_df = corr_df.sort_values(by='corr_values')\n",
    "corr_df'''"
   ]
  },
  {
   "cell_type": "code",
   "execution_count": 18,
   "metadata": {
    "ExecuteTime": {
     "end_time": "2018-06-18T20:33:42.026930Z",
     "start_time": "2018-06-18T20:33:42.023706Z"
    }
   },
   "outputs": [
    {
     "data": {
      "text/plain": [
       "\"corr_df_sel = corr_df.ix[(corr_df['corr_values']>0.01) | (corr_df['corr_values'] < -0.01)]\""
      ]
     },
     "execution_count": 18,
     "metadata": {},
     "output_type": "execute_result"
    }
   ],
   "source": [
    "'''corr_df_sel = corr_df.ix[(corr_df['corr_values']>0.01) | (corr_df['corr_values'] < -0.01)]'''"
   ]
  },
  {
   "cell_type": "code",
   "execution_count": 19,
   "metadata": {
    "ExecuteTime": {
     "end_time": "2018-06-18T20:33:50.821259Z",
     "start_time": "2018-06-18T20:33:50.817703Z"
    }
   },
   "outputs": [
    {
     "data": {
      "text/plain": [
       "\"corr_df_ = pd.DataFrame()\\nfor name in corr_df_sel['col_labels']:\\n    corr_df_[name] = train_df[name]\\n\\ncorr_df_.head()\""
      ]
     },
     "execution_count": 19,
     "metadata": {},
     "output_type": "execute_result"
    }
   ],
   "source": [
    "'''corr_df_ = pd.DataFrame()\n",
    "for name in corr_df_sel['col_labels']:\n",
    "    corr_df_[name] = train_df[name]\n",
    "\n",
    "corr_df_.head()'''"
   ]
  },
  {
   "cell_type": "code",
   "execution_count": 20,
   "metadata": {
    "ExecuteTime": {
     "end_time": "2018-06-18T20:34:00.248627Z",
     "start_time": "2018-06-18T20:34:00.241381Z"
    }
   },
   "outputs": [
    {
     "data": {
      "text/plain": [
       "'from statsmodels.stats.outliers_influence import variance_inflation_factor  \\nimport warnings\\nwarnings.filterwarnings(\"ignore\")\\n\\ndef calculate_vif_(X):\\n    variables = list(X.columns)\\n    vif = {variable:variance_inflation_factor(exog=X.values, exog_idx=ix) for ix,variable in enumerate(list(X.columns))}\\n    return vif\\n\\nvifDict = calculate_vif_(corr_df_)\\n\\nvifDf = pd.DataFrame()\\nvifDf[\\'variables\\'] = vifDict.keys()\\nvifDf[\\'vifScore\\'] = vifDict.values()\\nvifDf.sort_values(by=[\\'vifScore\\'],ascending=False,inplace=True)\\nvalidVariables = vifDf[vifDf[\"vifScore\"]<=5]\\nvariablesWithMC  = vifDf[vifDf[\"vifScore\"]>5]\\n\\nvalidVariables, variablesWithMC'"
      ]
     },
     "execution_count": 20,
     "metadata": {},
     "output_type": "execute_result"
    }
   ],
   "source": [
    "'''from statsmodels.stats.outliers_influence import variance_inflation_factor  \n",
    "import warnings\n",
    "warnings.filterwarnings(\"ignore\")\n",
    "\n",
    "def calculate_vif_(X):\n",
    "    variables = list(X.columns)\n",
    "    vif = {variable:variance_inflation_factor(exog=X.values, exog_idx=ix) for ix,variable in enumerate(list(X.columns))}\n",
    "    return vif\n",
    "\n",
    "vifDict = calculate_vif_(corr_df_)\n",
    "\n",
    "vifDf = pd.DataFrame()\n",
    "vifDf['variables'] = vifDict.keys()\n",
    "vifDf['vifScore'] = vifDict.values()\n",
    "vifDf.sort_values(by=['vifScore'],ascending=False,inplace=True)\n",
    "validVariables = vifDf[vifDf[\"vifScore\"]<=5]\n",
    "variablesWithMC  = vifDf[vifDf[\"vifScore\"]>5]\n",
    "\n",
    "validVariables, variablesWithMC'''"
   ]
  },
  {
   "cell_type": "code",
   "execution_count": 21,
   "metadata": {
    "ExecuteTime": {
     "end_time": "2018-06-18T20:34:08.787674Z",
     "start_time": "2018-06-18T20:34:08.784962Z"
    }
   },
   "outputs": [
    {
     "data": {
      "text/plain": [
       "\"valid_df = pd.DataFrame()\\n\\nfor name in validVariables['variables']:\\n    valid_df[name] = train_df[name]\\n\\nvalid_df.head()\""
      ]
     },
     "execution_count": 21,
     "metadata": {},
     "output_type": "execute_result"
    }
   ],
   "source": [
    "'''valid_df = pd.DataFrame()\n",
    "\n",
    "for name in validVariables['variables']:\n",
    "    valid_df[name] = train_df[name]\n",
    "\n",
    "valid_df.head()'''"
   ]
  },
  {
   "cell_type": "code",
   "execution_count": 22,
   "metadata": {
    "ExecuteTime": {
     "end_time": "2018-06-18T20:34:18.206201Z",
     "start_time": "2018-06-18T20:34:18.203404Z"
    }
   },
   "outputs": [
    {
     "data": {
      "text/plain": [
       "\"fe1 = []\\nfor f in valid_df:\\n    fe1.append(f)\\n    \\nfe1.append('parcelid')\\nfe1.append('transaction_year')\\nfe1.append('transaction_month')\\nfe1.append('transaction_day')\\nfe1.append('transaction_quarter')\\n\\nfe1\""
      ]
     },
     "execution_count": 22,
     "metadata": {},
     "output_type": "execute_result"
    }
   ],
   "source": [
    "'''fe1 = []\n",
    "for f in valid_df:\n",
    "    fe1.append(f)\n",
    "    \n",
    "fe1.append('parcelid')\n",
    "fe1.append('transaction_year')\n",
    "fe1.append('transaction_month')\n",
    "fe1.append('transaction_day')\n",
    "fe1.append('transaction_quarter')\n",
    "\n",
    "fe1'''"
   ]
  },
  {
   "cell_type": "markdown",
   "metadata": {
    "ExecuteTime": {
     "end_time": "2018-06-14T18:18:24.532912Z",
     "start_time": "2018-06-14T18:18:24.528580Z"
    }
   },
   "source": []
  },
  {
   "cell_type": "code",
   "execution_count": null,
   "metadata": {
    "ExecuteTime": {
     "end_time": "2018-06-15T17:44:33.033259Z",
     "start_time": "2018-06-15T17:44:32.997676Z"
    },
    "collapsed": true
   },
   "outputs": [],
   "source": []
  },
  {
   "cell_type": "code",
   "execution_count": null,
   "metadata": {
    "ExecuteTime": {
     "end_time": "2018-06-15T14:04:47.759640Z",
     "start_time": "2018-06-15T14:04:47.753835Z"
    },
    "collapsed": true
   },
   "outputs": [],
   "source": []
  },
  {
   "cell_type": "code",
   "execution_count": 13,
   "metadata": {
    "ExecuteTime": {
     "end_time": "2018-06-18T20:52:27.534118Z",
     "start_time": "2018-06-18T20:52:27.154240Z"
    }
   },
   "outputs": [
    {
     "data": {
      "text/html": [
       "<div>\n",
       "<style>\n",
       "    .dataframe thead tr:only-child th {\n",
       "        text-align: right;\n",
       "    }\n",
       "\n",
       "    .dataframe thead th {\n",
       "        text-align: left;\n",
       "    }\n",
       "\n",
       "    .dataframe tbody tr th {\n",
       "        vertical-align: top;\n",
       "    }\n",
       "</style>\n",
       "<table border=\"1\" class=\"dataframe\">\n",
       "  <thead>\n",
       "    <tr style=\"text-align: right;\">\n",
       "      <th></th>\n",
       "      <th>taxamount</th>\n",
       "      <th>calculatedfinishedsquarefeet</th>\n",
       "      <th>structuretaxvaluedollarcnt</th>\n",
       "      <th>yearbuilt</th>\n",
       "      <th>latitude</th>\n",
       "      <th>longitude</th>\n",
       "      <th>taxdiff2</th>\n",
       "      <th>regionidzip</th>\n",
       "      <th>landtaxvaluedollarcnt</th>\n",
       "      <th>transaction_month</th>\n",
       "      <th>censustractandblock</th>\n",
       "      <th>transaction_day</th>\n",
       "      <th>taxvaluedollarcnt</th>\n",
       "      <th>taxdiff</th>\n",
       "      <th>finisheddiff</th>\n",
       "      <th>regionidcity</th>\n",
       "      <th>finishedsquarefeet12</th>\n",
       "      <th>bedroomcnt</th>\n",
       "      <th>rawcensustractandblock</th>\n",
       "      <th>bathroomcnt</th>\n",
       "      <th>propertylandusetypeid</th>\n",
       "      <th>roomcnt</th>\n",
       "      <th>calculatedbathnbr</th>\n",
       "      <th>ParcelId</th>\n",
       "    </tr>\n",
       "  </thead>\n",
       "  <tbody>\n",
       "    <tr>\n",
       "      <th>0</th>\n",
       "      <td>3991.78</td>\n",
       "      <td>1572.0</td>\n",
       "      <td>122590.0</td>\n",
       "      <td>1963.0</td>\n",
       "      <td>34144442.0</td>\n",
       "      <td>-118654084.0</td>\n",
       "      <td>122581.0</td>\n",
       "      <td>194</td>\n",
       "      <td>9.0</td>\n",
       "      <td>12</td>\n",
       "      <td>6.037572e+13</td>\n",
       "      <td>1</td>\n",
       "      <td>9.0</td>\n",
       "      <td>-3982.78</td>\n",
       "      <td>33.0</td>\n",
       "      <td>107</td>\n",
       "      <td>1539.0</td>\n",
       "      <td>0.0</td>\n",
       "      <td>6.037800e+07</td>\n",
       "      <td>0.0</td>\n",
       "      <td>12</td>\n",
       "      <td>0.0</td>\n",
       "      <td>2.0</td>\n",
       "      <td>10754147</td>\n",
       "    </tr>\n",
       "    <tr>\n",
       "      <th>1</th>\n",
       "      <td>3991.78</td>\n",
       "      <td>1572.0</td>\n",
       "      <td>122590.0</td>\n",
       "      <td>1963.0</td>\n",
       "      <td>34140430.0</td>\n",
       "      <td>-118625364.0</td>\n",
       "      <td>95074.0</td>\n",
       "      <td>194</td>\n",
       "      <td>27516.0</td>\n",
       "      <td>12</td>\n",
       "      <td>6.037572e+13</td>\n",
       "      <td>1</td>\n",
       "      <td>27516.0</td>\n",
       "      <td>23524.22</td>\n",
       "      <td>33.0</td>\n",
       "      <td>107</td>\n",
       "      <td>1539.0</td>\n",
       "      <td>0.0</td>\n",
       "      <td>6.037800e+07</td>\n",
       "      <td>0.0</td>\n",
       "      <td>6</td>\n",
       "      <td>0.0</td>\n",
       "      <td>2.0</td>\n",
       "      <td>10759547</td>\n",
       "    </tr>\n",
       "    <tr>\n",
       "      <th>2</th>\n",
       "      <td>20800.37</td>\n",
       "      <td>73026.0</td>\n",
       "      <td>650756.0</td>\n",
       "      <td>1963.0</td>\n",
       "      <td>33989359.0</td>\n",
       "      <td>-118394633.0</td>\n",
       "      <td>-111875.0</td>\n",
       "      <td>72</td>\n",
       "      <td>762631.0</td>\n",
       "      <td>12</td>\n",
       "      <td>6.037572e+13</td>\n",
       "      <td>1</td>\n",
       "      <td>1413387.0</td>\n",
       "      <td>1392586.63</td>\n",
       "      <td>71487.0</td>\n",
       "      <td>147</td>\n",
       "      <td>1539.0</td>\n",
       "      <td>0.0</td>\n",
       "      <td>6.037703e+07</td>\n",
       "      <td>0.0</td>\n",
       "      <td>1</td>\n",
       "      <td>0.0</td>\n",
       "      <td>2.0</td>\n",
       "      <td>10843547</td>\n",
       "    </tr>\n",
       "    <tr>\n",
       "      <th>3</th>\n",
       "      <td>14557.57</td>\n",
       "      <td>5068.0</td>\n",
       "      <td>571346.0</td>\n",
       "      <td>1948.0</td>\n",
       "      <td>34148863.0</td>\n",
       "      <td>-118437206.0</td>\n",
       "      <td>-14142.0</td>\n",
       "      <td>235</td>\n",
       "      <td>585488.0</td>\n",
       "      <td>12</td>\n",
       "      <td>6.037572e+13</td>\n",
       "      <td>1</td>\n",
       "      <td>1156834.0</td>\n",
       "      <td>1142276.43</td>\n",
       "      <td>3529.0</td>\n",
       "      <td>20</td>\n",
       "      <td>1539.0</td>\n",
       "      <td>0.0</td>\n",
       "      <td>6.037141e+07</td>\n",
       "      <td>0.0</td>\n",
       "      <td>1</td>\n",
       "      <td>0.0</td>\n",
       "      <td>2.0</td>\n",
       "      <td>10859147</td>\n",
       "    </tr>\n",
       "    <tr>\n",
       "      <th>4</th>\n",
       "      <td>5725.17</td>\n",
       "      <td>1776.0</td>\n",
       "      <td>193796.0</td>\n",
       "      <td>1947.0</td>\n",
       "      <td>34194168.0</td>\n",
       "      <td>-118385816.0</td>\n",
       "      <td>-45899.0</td>\n",
       "      <td>245</td>\n",
       "      <td>239695.0</td>\n",
       "      <td>12</td>\n",
       "      <td>6.037572e+13</td>\n",
       "      <td>1</td>\n",
       "      <td>433491.0</td>\n",
       "      <td>427765.83</td>\n",
       "      <td>237.0</td>\n",
       "      <td>20</td>\n",
       "      <td>1539.0</td>\n",
       "      <td>0.0</td>\n",
       "      <td>6.037123e+07</td>\n",
       "      <td>0.0</td>\n",
       "      <td>0</td>\n",
       "      <td>0.0</td>\n",
       "      <td>2.0</td>\n",
       "      <td>10879947</td>\n",
       "    </tr>\n",
       "  </tbody>\n",
       "</table>\n",
       "</div>"
      ],
      "text/plain": [
       "   taxamount  calculatedfinishedsquarefeet  structuretaxvaluedollarcnt  \\\n",
       "0    3991.78                        1572.0                    122590.0   \n",
       "1    3991.78                        1572.0                    122590.0   \n",
       "2   20800.37                       73026.0                    650756.0   \n",
       "3   14557.57                        5068.0                    571346.0   \n",
       "4    5725.17                        1776.0                    193796.0   \n",
       "\n",
       "   yearbuilt    latitude    longitude  taxdiff2  regionidzip  \\\n",
       "0     1963.0  34144442.0 -118654084.0  122581.0          194   \n",
       "1     1963.0  34140430.0 -118625364.0   95074.0          194   \n",
       "2     1963.0  33989359.0 -118394633.0 -111875.0           72   \n",
       "3     1948.0  34148863.0 -118437206.0  -14142.0          235   \n",
       "4     1947.0  34194168.0 -118385816.0  -45899.0          245   \n",
       "\n",
       "   landtaxvaluedollarcnt  transaction_month  censustractandblock  \\\n",
       "0                    9.0                 12         6.037572e+13   \n",
       "1                27516.0                 12         6.037572e+13   \n",
       "2               762631.0                 12         6.037572e+13   \n",
       "3               585488.0                 12         6.037572e+13   \n",
       "4               239695.0                 12         6.037572e+13   \n",
       "\n",
       "   transaction_day  taxvaluedollarcnt     taxdiff  finisheddiff  regionidcity  \\\n",
       "0                1                9.0    -3982.78          33.0           107   \n",
       "1                1            27516.0    23524.22          33.0           107   \n",
       "2                1          1413387.0  1392586.63       71487.0           147   \n",
       "3                1          1156834.0  1142276.43        3529.0            20   \n",
       "4                1           433491.0   427765.83         237.0            20   \n",
       "\n",
       "   finishedsquarefeet12  bedroomcnt  rawcensustractandblock  bathroomcnt  \\\n",
       "0                1539.0         0.0            6.037800e+07          0.0   \n",
       "1                1539.0         0.0            6.037800e+07          0.0   \n",
       "2                1539.0         0.0            6.037703e+07          0.0   \n",
       "3                1539.0         0.0            6.037141e+07          0.0   \n",
       "4                1539.0         0.0            6.037123e+07          0.0   \n",
       "\n",
       "   propertylandusetypeid  roomcnt  calculatedbathnbr  ParcelId  \n",
       "0                     12      0.0                2.0  10754147  \n",
       "1                      6      0.0                2.0  10759547  \n",
       "2                      1      0.0                2.0  10843547  \n",
       "3                      1      0.0                2.0  10859147  \n",
       "4                      0      0.0                2.0  10879947  "
      ]
     },
     "execution_count": 13,
     "metadata": {},
     "output_type": "execute_result"
    }
   ],
   "source": [
    "features_test = np.append(features['features'].values,'ParcelId')\n",
    "\n",
    "X_train = X_train.rename(columns = {'parcelid': 'ParcelId'})\n",
    "X_cv = X_cv.rename(columns = {'parcelid': 'ParcelId'})\n",
    "\n",
    "X_train = X_train[features_test]\n",
    "X_cv = X_cv[features_test]\n",
    "\n",
    "X_test = test_df[features_test]\n",
    "\n",
    "X_test.head()"
   ]
  },
  {
   "cell_type": "code",
   "execution_count": 16,
   "metadata": {
    "ExecuteTime": {
     "end_time": "2018-06-18T20:54:31.172850Z",
     "start_time": "2018-06-18T20:54:31.156842Z"
    }
   },
   "outputs": [
    {
     "data": {
      "text/plain": [
       "[datetime.datetime(2016, 10, 1, 0, 0),\n",
       " datetime.datetime(2016, 11, 1, 0, 0),\n",
       " datetime.datetime(2016, 12, 1, 0, 0),\n",
       " datetime.datetime(2017, 10, 1, 0, 0),\n",
       " datetime.datetime(2017, 11, 1, 0, 0),\n",
       " datetime.datetime(2017, 12, 1, 0, 0)]"
      ]
     },
     "execution_count": 16,
     "metadata": {},
     "output_type": "execute_result"
    }
   ],
   "source": [
    "test_date = ['2016-10-01','2016-11-01','2016-12-01','2017-10-01','2017-11-01','2017-12-01']\n",
    "\n",
    "test_columns = ['201610','201611','201612','201710','201711','201712']\n",
    "\n",
    "from datetime import datetime\n",
    "\n",
    "test_dates = []\n",
    "for d in test_date:\n",
    "    test_dates.append(datetime.strptime(d, '%Y-%m-%d'))\n",
    "test_dates"
   ]
  },
  {
   "cell_type": "code",
   "execution_count": 17,
   "metadata": {
    "ExecuteTime": {
     "end_time": "2018-06-18T20:54:48.612980Z",
     "start_time": "2018-06-18T20:54:48.496070Z"
    }
   },
   "outputs": [
    {
     "ename": "ValueError",
     "evalue": "labels ['ParcelId'] not contained in axis",
     "output_type": "error",
     "traceback": [
      "\u001b[0;31m---------------------------------------------------------------------------\u001b[0m",
      "\u001b[0;31mValueError\u001b[0m                                Traceback (most recent call last)",
      "\u001b[0;32m<ipython-input-17-acea7b917d75>\u001b[0m in \u001b[0;36m<module>\u001b[0;34m()\u001b[0m\n\u001b[0;32m----> 1\u001b[0;31m \u001b[0mX_train\u001b[0m \u001b[0;34m=\u001b[0m \u001b[0mX_train\u001b[0m\u001b[0;34m.\u001b[0m\u001b[0mdrop\u001b[0m\u001b[0;34m(\u001b[0m\u001b[0;34m'ParcelId'\u001b[0m\u001b[0;34m,\u001b[0m \u001b[0maxis\u001b[0m\u001b[0;34m=\u001b[0m\u001b[0;36m1\u001b[0m\u001b[0;34m)\u001b[0m\u001b[0;34m\u001b[0m\u001b[0m\n\u001b[0m\u001b[1;32m      2\u001b[0m \u001b[0mX_train\u001b[0m\u001b[0;34m.\u001b[0m\u001b[0mshape\u001b[0m\u001b[0;34m,\u001b[0m \u001b[0mX_cv\u001b[0m\u001b[0;34m.\u001b[0m\u001b[0mshape\u001b[0m\u001b[0;34m\u001b[0m\u001b[0m\n",
      "\u001b[0;32m~/anaconda3/lib/python3.6/site-packages/pandas/core/generic.py\u001b[0m in \u001b[0;36mdrop\u001b[0;34m(self, labels, axis, level, inplace, errors)\u001b[0m\n\u001b[1;32m   2159\u001b[0m                 \u001b[0mnew_axis\u001b[0m \u001b[0;34m=\u001b[0m \u001b[0maxis\u001b[0m\u001b[0;34m.\u001b[0m\u001b[0mdrop\u001b[0m\u001b[0;34m(\u001b[0m\u001b[0mlabels\u001b[0m\u001b[0;34m,\u001b[0m \u001b[0mlevel\u001b[0m\u001b[0;34m=\u001b[0m\u001b[0mlevel\u001b[0m\u001b[0;34m,\u001b[0m \u001b[0merrors\u001b[0m\u001b[0;34m=\u001b[0m\u001b[0merrors\u001b[0m\u001b[0;34m)\u001b[0m\u001b[0;34m\u001b[0m\u001b[0m\n\u001b[1;32m   2160\u001b[0m             \u001b[0;32melse\u001b[0m\u001b[0;34m:\u001b[0m\u001b[0;34m\u001b[0m\u001b[0m\n\u001b[0;32m-> 2161\u001b[0;31m                 \u001b[0mnew_axis\u001b[0m \u001b[0;34m=\u001b[0m \u001b[0maxis\u001b[0m\u001b[0;34m.\u001b[0m\u001b[0mdrop\u001b[0m\u001b[0;34m(\u001b[0m\u001b[0mlabels\u001b[0m\u001b[0;34m,\u001b[0m \u001b[0merrors\u001b[0m\u001b[0;34m=\u001b[0m\u001b[0merrors\u001b[0m\u001b[0;34m)\u001b[0m\u001b[0;34m\u001b[0m\u001b[0m\n\u001b[0m\u001b[1;32m   2162\u001b[0m             \u001b[0mdropped\u001b[0m \u001b[0;34m=\u001b[0m \u001b[0mself\u001b[0m\u001b[0;34m.\u001b[0m\u001b[0mreindex\u001b[0m\u001b[0;34m(\u001b[0m\u001b[0;34m**\u001b[0m\u001b[0;34m{\u001b[0m\u001b[0maxis_name\u001b[0m\u001b[0;34m:\u001b[0m \u001b[0mnew_axis\u001b[0m\u001b[0;34m}\u001b[0m\u001b[0;34m)\u001b[0m\u001b[0;34m\u001b[0m\u001b[0m\n\u001b[1;32m   2163\u001b[0m             \u001b[0;32mtry\u001b[0m\u001b[0;34m:\u001b[0m\u001b[0;34m\u001b[0m\u001b[0m\n",
      "\u001b[0;32m~/anaconda3/lib/python3.6/site-packages/pandas/core/indexes/base.py\u001b[0m in \u001b[0;36mdrop\u001b[0;34m(self, labels, errors)\u001b[0m\n\u001b[1;32m   3622\u001b[0m             \u001b[0;32mif\u001b[0m \u001b[0merrors\u001b[0m \u001b[0;34m!=\u001b[0m \u001b[0;34m'ignore'\u001b[0m\u001b[0;34m:\u001b[0m\u001b[0;34m\u001b[0m\u001b[0m\n\u001b[1;32m   3623\u001b[0m                 raise ValueError('labels %s not contained in axis' %\n\u001b[0;32m-> 3624\u001b[0;31m                                  labels[mask])\n\u001b[0m\u001b[1;32m   3625\u001b[0m             \u001b[0mindexer\u001b[0m \u001b[0;34m=\u001b[0m \u001b[0mindexer\u001b[0m\u001b[0;34m[\u001b[0m\u001b[0;34m~\u001b[0m\u001b[0mmask\u001b[0m\u001b[0;34m]\u001b[0m\u001b[0;34m\u001b[0m\u001b[0m\n\u001b[1;32m   3626\u001b[0m         \u001b[0;32mreturn\u001b[0m \u001b[0mself\u001b[0m\u001b[0;34m.\u001b[0m\u001b[0mdelete\u001b[0m\u001b[0;34m(\u001b[0m\u001b[0mindexer\u001b[0m\u001b[0;34m)\u001b[0m\u001b[0;34m\u001b[0m\u001b[0m\n",
      "\u001b[0;31mValueError\u001b[0m: labels ['ParcelId'] not contained in axis"
     ]
    }
   ],
   "source": [
    "X_train = X_train.drop('ParcelId', axis=1)\n",
    "X_train.shape, X_cv.shape"
   ]
  },
  {
   "cell_type": "code",
   "execution_count": 18,
   "metadata": {
    "ExecuteTime": {
     "end_time": "2018-06-18T20:55:23.512283Z",
     "start_time": "2018-06-18T20:54:54.130031Z"
    }
   },
   "outputs": [],
   "source": [
    "import lightgbm as lgb\n",
    "\n",
    "\n",
    "d_train = lgb.Dataset(X_train, label=y_train)\n",
    "\n",
    "\n",
    "\n",
    "##### RUN LIGHTGBM\n",
    "\n",
    "params = {}\n",
    "params['max_bin'] = 10\n",
    "params['learning_rate'] = 0.0021 # shrinkage_rate\n",
    "params['boosting_type'] = 'gbdt'\n",
    "params['objective'] = 'regression'\n",
    "params['metric'] = 'l1'          # or 'mae'\n",
    "params['sub_feature'] = 0.5      # feature_fraction -- OK, back to .5, but maybe later increase this\n",
    "params['bagging_fraction'] = 0.85 # sub_row\n",
    "params['bagging_freq'] = 40\n",
    "params['num_leaves'] = 512        # num_leaf\n",
    "params['min_data'] = 500         # min_data_in_leaf\n",
    "params['min_hessian'] = 0.05     # min_sum_hessian_in_leaf\n",
    "params['verbose'] = 0\n",
    "\n",
    "clf = lgb.train(params, d_train, 430)"
   ]
  },
  {
   "cell_type": "code",
   "execution_count": 19,
   "metadata": {
    "ExecuteTime": {
     "end_time": "2018-06-18T20:55:33.825188Z",
     "start_time": "2018-06-18T20:55:29.957547Z"
    },
    "collapsed": true
   },
   "outputs": [],
   "source": [
    "\n",
    "\n",
    "xgb_params2 = {\n",
    "    'nthread' : 8,\n",
    "    'eta': 0.037,\n",
    "    'max_depth': 5,\n",
    "    'subsample': 0.80,\n",
    "    'objective': 'reg:linear',\n",
    "    'eval_metric': 'mae',\n",
    "    'lambda': 0.8,  \n",
    "    'alpha': 0.4,\n",
    "    'base_score': y_mean,\n",
    "    'silent': 1\n",
    "}\n",
    "\n",
    "dtrain2 = xgb.DMatrix(X_train, y_train, feature_names=X_train.columns.values)\n",
    "model2 = xgb.train(dict(xgb_params2, silent=0), dtrain2, num_boost_round=100)"
   ]
  },
  {
   "cell_type": "code",
   "execution_count": 28,
   "metadata": {
    "ExecuteTime": {
     "end_time": "2018-06-18T20:35:31.358162Z",
     "start_time": "2018-06-18T20:35:31.355241Z"
    }
   },
   "outputs": [
    {
     "data": {
      "text/plain": [
       "'from sklearn.model_selection import KFold\\nfrom sklearn.model_selection import cross_val_score\\n\\n\\nkfold = KFold(n_splits=5, random_state=7)\\nresults = cross_val_score(model2, X_train, y_train, cv=kfold)'"
      ]
     },
     "execution_count": 28,
     "metadata": {},
     "output_type": "execute_result"
    }
   ],
   "source": [
    "'''from sklearn.model_selection import KFold\n",
    "from sklearn.model_selection import cross_val_score\n",
    "\n",
    "\n",
    "kfold = KFold(n_splits=5, random_state=7)\n",
    "results = cross_val_score(model2, X_train, y_train, cv=kfold)'''"
   ]
  },
  {
   "cell_type": "code",
   "execution_count": 23,
   "metadata": {
    "ExecuteTime": {
     "end_time": "2018-06-18T20:56:22.806085Z",
     "start_time": "2018-06-18T20:56:22.799390Z"
    }
   },
   "outputs": [],
   "source": [
    "XGB_WEIGHT = 0.6500\n",
    "BASELINE_WEIGHT = 0.0056\n",
    "\n",
    "BASELINE_PRED = 0.0115\n",
    "\n",
    "lgb_weight = 1 - XGB_WEIGHT - BASELINE_WEIGHT"
   ]
  },
  {
   "cell_type": "code",
   "execution_count": 24,
   "metadata": {
    "ExecuteTime": {
     "end_time": "2018-06-18T20:56:30.717314Z",
     "start_time": "2018-06-18T20:56:30.468590Z"
    }
   },
   "outputs": [],
   "source": [
    "X_cv2 = X_cv.drop('ParcelId', axis=1)\n",
    "dtrain2 = xgb.DMatrix(X_cv2, feature_names=X_cv2.columns.values)\n",
    "pred_xgb = model2.predict(dtrain2)\n",
    "pred_clf = clf.predict(X_cv2)\n",
    "pred_test = XGB_WEIGHT*pred_xgb + BASELINE_WEIGHT*BASELINE_PRED + lgb_weight*pred_clf"
   ]
  },
  {
   "cell_type": "code",
   "execution_count": null,
   "metadata": {
    "ExecuteTime": {
     "end_time": "2018-06-18T17:57:42.819919Z",
     "start_time": "2018-06-18T17:57:42.813439Z"
    }
   },
   "outputs": [],
   "source": []
  },
  {
   "cell_type": "code",
   "execution_count": 26,
   "metadata": {
    "ExecuteTime": {
     "end_time": "2018-06-18T20:56:49.555685Z",
     "start_time": "2018-06-18T20:56:49.553212Z"
    },
    "collapsed": true
   },
   "outputs": [],
   "source": [
    "from sklearn.metrics import mean_squared_error as mse"
   ]
  },
  {
   "cell_type": "code",
   "execution_count": 27,
   "metadata": {
    "ExecuteTime": {
     "end_time": "2018-06-18T20:56:57.106374Z",
     "start_time": "2018-06-18T20:56:57.101799Z"
    }
   },
   "outputs": [
    {
     "data": {
      "text/plain": [
       "(0.01038342004068153, 0.010448273210464236, 0.010397686647685395)"
      ]
     },
     "execution_count": 27,
     "metadata": {},
     "output_type": "execute_result"
    }
   ],
   "source": [
    "mse(y_cv, pred_xgb), mse(y_cv, pred_clf), mse(y_cv, pred_test)"
   ]
  },
  {
   "cell_type": "code",
   "execution_count": 31,
   "metadata": {
    "ExecuteTime": {
     "end_time": "2018-06-18T17:48:01.655626Z",
     "start_time": "2018-06-18T17:48:01.648722Z"
    }
   },
   "outputs": [
    {
     "data": {
      "text/plain": [
       "count    33578.000000\n",
       "mean         0.012424\n",
       "std          0.102230\n",
       "min         -0.331138\n",
       "25%         -0.025300\n",
       "50%          0.006070\n",
       "75%          0.039200\n",
       "max          0.495900\n",
       "Name: logerror, dtype: float64"
      ]
     },
     "execution_count": 31,
     "metadata": {},
     "output_type": "execute_result"
    }
   ],
   "source": [
    "y_cv.describe()"
   ]
  },
  {
   "cell_type": "code",
   "execution_count": 39,
   "metadata": {
    "ExecuteTime": {
     "end_time": "2018-06-18T20:12:00.028885Z",
     "start_time": "2018-06-18T20:12:00.018644Z"
    }
   },
   "outputs": [
    {
     "name": "stdout",
     "output_type": "stream",
     "text": [
      "[0.065799999999999997, -0.058700000000000002, 0.0129, 0.40550000000000003, -0.00019327424892400002, 0.020746167104499998, -0.001, 0.038300000000000001, -0.029399999999999999, -0.037120050850199995]\n",
      "[ 0.02135779  0.00660377  0.00891099  0.01686982  0.01345157  0.01301402\n",
      "  0.01597146  0.00473071  0.01935886  0.01315304]\n"
     ]
    }
   ],
   "source": [
    "print(list(y_cv)[:10])\n",
    "print(pred_test[:10])"
   ]
  },
  {
   "cell_type": "code",
   "execution_count": 33,
   "metadata": {
    "ExecuteTime": {
     "end_time": "2018-06-18T21:01:45.439750Z",
     "start_time": "2018-06-18T21:01:45.434502Z"
    }
   },
   "outputs": [
    {
     "data": {
      "text/plain": [
       "(Index(['taxamount', 'calculatedfinishedsquarefeet',\n",
       "        'structuretaxvaluedollarcnt', 'yearbuilt', 'latitude', 'longitude',\n",
       "        'taxdiff2', 'regionidzip', 'landtaxvaluedollarcnt', 'transaction_month',\n",
       "        'censustractandblock', 'transaction_day', 'taxvaluedollarcnt',\n",
       "        'taxdiff', 'finisheddiff', 'regionidcity', 'finishedsquarefeet12',\n",
       "        'bedroomcnt', 'rawcensustractandblock', 'bathroomcnt',\n",
       "        'propertylandusetypeid', 'roomcnt', 'calculatedbathnbr'],\n",
       "       dtype='object'), Index(['taxamount', 'calculatedfinishedsquarefeet',\n",
       "        'structuretaxvaluedollarcnt', 'yearbuilt', 'latitude', 'longitude',\n",
       "        'taxdiff2', 'regionidzip', 'landtaxvaluedollarcnt', 'transaction_month',\n",
       "        'censustractandblock', 'transaction_day', 'taxvaluedollarcnt',\n",
       "        'taxdiff', 'finisheddiff', 'regionidcity', 'finishedsquarefeet12',\n",
       "        'bedroomcnt', 'rawcensustractandblock', 'bathroomcnt',\n",
       "        'propertylandusetypeid', 'roomcnt', 'calculatedbathnbr'],\n",
       "       dtype='object'))"
      ]
     },
     "execution_count": 33,
     "metadata": {},
     "output_type": "execute_result"
    }
   ],
   "source": []
  },
  {
   "cell_type": "code",
   "execution_count": 30,
   "metadata": {
    "ExecuteTime": {
     "end_time": "2018-06-18T20:58:33.436713Z",
     "start_time": "2018-06-18T20:58:32.368137Z"
    }
   },
   "outputs": [
    {
     "data": {
      "text/plain": [
       "((134310, 23), (2985217, 23))"
      ]
     },
     "execution_count": 30,
     "metadata": {},
     "output_type": "execute_result"
    }
   ],
   "source": [
    "X_test = X_test[features['features'].values]\n",
    "X_train.shape, X_test.shape"
   ]
  },
  {
   "cell_type": "code",
   "execution_count": 39,
   "metadata": {
    "ExecuteTime": {
     "end_time": "2018-06-18T21:05:28.920717Z",
     "start_time": "2018-06-18T21:05:25.418495Z"
    }
   },
   "outputs": [
    {
     "ename": "ValueError",
     "evalue": "feature_names mismatch: ['assessmentyear', 'bathroomcnt', 'bedroomcnt', 'calculatedbathnbr', 'calculatedfinishedsquarefeet', 'censustractandblock', 'finishedsquarefeet12', 'fips', 'fullbathcnt', 'landtaxvaluedollarcnt', 'latitude', 'longitude', 'propertylandusetypeid', 'rawcensustractandblock', 'regionidcity', 'regionidcounty', 'regionidzip', 'roomcnt', 'structuretaxvaluedollarcnt', 'taxamount', 'taxvaluedollarcnt', 'transaction_day', 'transaction_month', 'transaction_quarter', 'transaction_year', 'yearbuilt', 'taxdiff', 'taxdiff2', 'bathdiff', 'bathdiff2', 'finisheddiff'] ['taxamount', 'calculatedfinishedsquarefeet', 'structuretaxvaluedollarcnt', 'yearbuilt', 'latitude', 'longitude', 'taxdiff2', 'regionidzip', 'landtaxvaluedollarcnt', 'transaction_month', 'censustractandblock', 'transaction_day', 'taxvaluedollarcnt', 'taxdiff', 'finisheddiff', 'regionidcity', 'finishedsquarefeet12', 'bedroomcnt', 'rawcensustractandblock', 'bathroomcnt', 'propertylandusetypeid', 'roomcnt', 'calculatedbathnbr']\nexpected fullbathcnt, bathdiff2, transaction_quarter, bathdiff, assessmentyear, regionidcounty, transaction_year, fips in input data",
     "output_type": "error",
     "traceback": [
      "\u001b[0;31m---------------------------------------------------------------------------\u001b[0m",
      "\u001b[0;31mValueError\u001b[0m                                Traceback (most recent call last)",
      "\u001b[0;32m<ipython-input-39-c4cfb33038c7>\u001b[0m in \u001b[0;36m<module>\u001b[0;34m()\u001b[0m\n\u001b[1;32m      4\u001b[0m     \u001b[0mX_test\u001b[0m \u001b[0;34m=\u001b[0m \u001b[0mX_test\u001b[0m\u001b[0;34m[\u001b[0m\u001b[0mfeatures\u001b[0m\u001b[0;34m[\u001b[0m\u001b[0;34m'features'\u001b[0m\u001b[0;34m]\u001b[0m\u001b[0;34m.\u001b[0m\u001b[0mvalues\u001b[0m\u001b[0;34m]\u001b[0m\u001b[0;34m\u001b[0m\u001b[0m\n\u001b[1;32m      5\u001b[0m     \u001b[0mdtrain_temp\u001b[0m \u001b[0;34m=\u001b[0m \u001b[0mxgb\u001b[0m\u001b[0;34m.\u001b[0m\u001b[0mDMatrix\u001b[0m\u001b[0;34m(\u001b[0m\u001b[0mX_test\u001b[0m\u001b[0;34m,\u001b[0m \u001b[0mfeature_names\u001b[0m\u001b[0;34m=\u001b[0m\u001b[0mX_test\u001b[0m\u001b[0;34m.\u001b[0m\u001b[0mcolumns\u001b[0m\u001b[0;34m.\u001b[0m\u001b[0mvalues\u001b[0m\u001b[0;34m)\u001b[0m\u001b[0;34m\u001b[0m\u001b[0m\n\u001b[0;32m----> 6\u001b[0;31m     \u001b[0mxgb_pred\u001b[0m \u001b[0;34m=\u001b[0m \u001b[0mmodel\u001b[0m\u001b[0;34m.\u001b[0m\u001b[0mpredict\u001b[0m\u001b[0;34m(\u001b[0m\u001b[0mdtrain_temp\u001b[0m\u001b[0;34m)\u001b[0m\u001b[0;34m\u001b[0m\u001b[0m\n\u001b[0m\u001b[1;32m      7\u001b[0m     \u001b[0mclf_pred\u001b[0m \u001b[0;34m=\u001b[0m \u001b[0mclf\u001b[0m\u001b[0;34m.\u001b[0m\u001b[0mpredict\u001b[0m\u001b[0;34m(\u001b[0m\u001b[0mX_test\u001b[0m\u001b[0;34m)\u001b[0m\u001b[0;34m\u001b[0m\u001b[0m\n\u001b[1;32m      8\u001b[0m     \u001b[0mpred\u001b[0m \u001b[0;34m=\u001b[0m \u001b[0mXGB_WEIGHT\u001b[0m\u001b[0;34m*\u001b[0m\u001b[0mxgb_pred\u001b[0m \u001b[0;34m+\u001b[0m \u001b[0mBASELINE_WEIGHT\u001b[0m\u001b[0;34m*\u001b[0m\u001b[0mBASELINE_PRED\u001b[0m \u001b[0;34m+\u001b[0m \u001b[0mlgb_weight\u001b[0m\u001b[0;34m*\u001b[0m\u001b[0mclf_pred\u001b[0m\u001b[0;34m\u001b[0m\u001b[0m\n",
      "\u001b[0;32m~/anaconda3/lib/python3.6/site-packages/xgboost-0.7-py3.6.egg/xgboost/core.py\u001b[0m in \u001b[0;36mpredict\u001b[0;34m(self, data, output_margin, ntree_limit, pred_leaf, pred_contribs, approx_contribs)\u001b[0m\n\u001b[1;32m   1042\u001b[0m             \u001b[0moption_mask\u001b[0m \u001b[0;34m|=\u001b[0m \u001b[0;36m0x08\u001b[0m\u001b[0;34m\u001b[0m\u001b[0m\n\u001b[1;32m   1043\u001b[0m \u001b[0;34m\u001b[0m\u001b[0m\n\u001b[0;32m-> 1044\u001b[0;31m         \u001b[0mself\u001b[0m\u001b[0;34m.\u001b[0m\u001b[0m_validate_features\u001b[0m\u001b[0;34m(\u001b[0m\u001b[0mdata\u001b[0m\u001b[0;34m)\u001b[0m\u001b[0;34m\u001b[0m\u001b[0m\n\u001b[0m\u001b[1;32m   1045\u001b[0m \u001b[0;34m\u001b[0m\u001b[0m\n\u001b[1;32m   1046\u001b[0m         \u001b[0mlength\u001b[0m \u001b[0;34m=\u001b[0m \u001b[0mc_bst_ulong\u001b[0m\u001b[0;34m(\u001b[0m\u001b[0;34m)\u001b[0m\u001b[0;34m\u001b[0m\u001b[0m\n",
      "\u001b[0;32m~/anaconda3/lib/python3.6/site-packages/xgboost-0.7-py3.6.egg/xgboost/core.py\u001b[0m in \u001b[0;36m_validate_features\u001b[0;34m(self, data)\u001b[0m\n\u001b[1;32m   1286\u001b[0m \u001b[0;34m\u001b[0m\u001b[0m\n\u001b[1;32m   1287\u001b[0m                 raise ValueError(msg.format(self.feature_names,\n\u001b[0;32m-> 1288\u001b[0;31m                                             data.feature_names))\n\u001b[0m\u001b[1;32m   1289\u001b[0m \u001b[0;34m\u001b[0m\u001b[0m\n\u001b[1;32m   1290\u001b[0m     \u001b[0;32mdef\u001b[0m \u001b[0mget_split_value_histogram\u001b[0m\u001b[0;34m(\u001b[0m\u001b[0mself\u001b[0m\u001b[0;34m,\u001b[0m \u001b[0mfeature\u001b[0m\u001b[0;34m,\u001b[0m \u001b[0mfmap\u001b[0m\u001b[0;34m=\u001b[0m\u001b[0;34m''\u001b[0m\u001b[0;34m,\u001b[0m \u001b[0mbins\u001b[0m\u001b[0;34m=\u001b[0m\u001b[0;32mNone\u001b[0m\u001b[0;34m,\u001b[0m \u001b[0mas_pandas\u001b[0m\u001b[0;34m=\u001b[0m\u001b[0;32mTrue\u001b[0m\u001b[0;34m)\u001b[0m\u001b[0;34m:\u001b[0m\u001b[0;34m\u001b[0m\u001b[0m\n",
      "\u001b[0;31mValueError\u001b[0m: feature_names mismatch: ['assessmentyear', 'bathroomcnt', 'bedroomcnt', 'calculatedbathnbr', 'calculatedfinishedsquarefeet', 'censustractandblock', 'finishedsquarefeet12', 'fips', 'fullbathcnt', 'landtaxvaluedollarcnt', 'latitude', 'longitude', 'propertylandusetypeid', 'rawcensustractandblock', 'regionidcity', 'regionidcounty', 'regionidzip', 'roomcnt', 'structuretaxvaluedollarcnt', 'taxamount', 'taxvaluedollarcnt', 'transaction_day', 'transaction_month', 'transaction_quarter', 'transaction_year', 'yearbuilt', 'taxdiff', 'taxdiff2', 'bathdiff', 'bathdiff2', 'finisheddiff'] ['taxamount', 'calculatedfinishedsquarefeet', 'structuretaxvaluedollarcnt', 'yearbuilt', 'latitude', 'longitude', 'taxdiff2', 'regionidzip', 'landtaxvaluedollarcnt', 'transaction_month', 'censustractandblock', 'transaction_day', 'taxvaluedollarcnt', 'taxdiff', 'finisheddiff', 'regionidcity', 'finishedsquarefeet12', 'bedroomcnt', 'rawcensustractandblock', 'bathroomcnt', 'propertylandusetypeid', 'roomcnt', 'calculatedbathnbr']\nexpected fullbathcnt, bathdiff2, transaction_quarter, bathdiff, assessmentyear, regionidcounty, transaction_year, fips in input data"
     ]
    }
   ],
   "source": [
    "for i in range(len(test_dates)):\n",
    "    X_test['transactiondate'] = test_dates[i]\n",
    "    X_test = add_date_features(X_test)\n",
    "    X_test = X_test[features['features'].values]\n",
    "    dtrain_temp = xgb.DMatrix(X_test, feature_names=X_test.columns.values)\n",
    "    xgb_pred = model.predict(dtrain_temp)\n",
    "    clf_pred = clf.predict(X_test)\n",
    "    pred = XGB_WEIGHT*xgb_pred + BASELINE_WEIGHT*BASELINE_PRED + lgb_weight*clf_pred\n",
    "    sample_submission[test_columns[i]] = [float(format(x, '.4f')) for x in pred]"
   ]
  },
  {
   "cell_type": "code",
   "execution_count": 33,
   "metadata": {
    "ExecuteTime": {
     "end_time": "2018-06-18T18:45:54.695459Z",
     "start_time": "2018-06-18T18:45:43.100260Z"
    },
    "collapsed": true
   },
   "outputs": [],
   "source": [
    "sample_submission.to_csv('sub{}.csv'.format(datetime.now().strftime('%Y%m%d_%H%M%S')), index=False)"
   ]
  },
  {
   "cell_type": "code",
   "execution_count": null,
   "metadata": {
    "ExecuteTime": {
     "end_time": "2018-06-14T16:24:00.236757Z",
     "start_time": "2018-06-14T16:24:00.059950Z"
    },
    "collapsed": true
   },
   "outputs": [],
   "source": []
  },
  {
   "cell_type": "code",
   "execution_count": null,
   "metadata": {
    "collapsed": true
   },
   "outputs": [],
   "source": []
  }
 ],
 "metadata": {
  "kernelspec": {
   "display_name": "Python 3",
   "language": "python",
   "name": "python3"
  },
  "language_info": {
   "codemirror_mode": {
    "name": "ipython",
    "version": 3
   },
   "file_extension": ".py",
   "mimetype": "text/x-python",
   "name": "python",
   "nbconvert_exporter": "python",
   "pygments_lexer": "ipython3",
   "version": "3.6.3"
  },
  "varInspector": {
   "cols": {
    "lenName": 16,
    "lenType": 16,
    "lenVar": 40
   },
   "kernels_config": {
    "python": {
     "delete_cmd_postfix": "",
     "delete_cmd_prefix": "del ",
     "library": "var_list.py",
     "varRefreshCmd": "print(var_dic_list())"
    },
    "r": {
     "delete_cmd_postfix": ") ",
     "delete_cmd_prefix": "rm(",
     "library": "var_list.r",
     "varRefreshCmd": "cat(var_dic_list()) "
    }
   },
   "types_to_exclude": [
    "module",
    "function",
    "builtin_function_or_method",
    "instance",
    "_Feature"
   ],
   "window_display": false
  }
 },
 "nbformat": 4,
 "nbformat_minor": 2
}
