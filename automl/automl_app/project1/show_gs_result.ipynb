{
 "cells": [
  {
   "cell_type": "code",
   "execution_count": 3,
   "metadata": {
    "ExecuteTime": {
     "end_time": "2018-06-22T18:20:11.624506Z",
     "start_time": "2018-06-22T18:20:11.592452Z"
    }
   },
   "outputs": [
    {
     "data": {
      "text/html": [
       "<div>\n",
       "<style scoped>\n",
       "    .dataframe tbody tr th:only-of-type {\n",
       "        vertical-align: middle;\n",
       "    }\n",
       "\n",
       "    .dataframe tbody tr th {\n",
       "        vertical-align: top;\n",
       "    }\n",
       "\n",
       "    .dataframe thead th {\n",
       "        text-align: right;\n",
       "    }\n",
       "</style>\n",
       "<table border=\"1\" class=\"dataframe\">\n",
       "  <thead>\n",
       "    <tr style=\"text-align: right;\">\n",
       "      <th></th>\n",
       "      <th>batch_size</th>\n",
       "      <th>cat_emb_outdim</th>\n",
       "      <th>combined_dense_n_layers</th>\n",
       "      <th>dense_units</th>\n",
       "      <th>drop_rate</th>\n",
       "      <th>ep_for_lr</th>\n",
       "      <th>gs_timespent</th>\n",
       "      <th>lr_fin</th>\n",
       "      <th>lr_init</th>\n",
       "      <th>max_ep</th>\n",
       "      <th>nn_seed</th>\n",
       "      <th>num_dense_n_layers</th>\n",
       "      <th>patience</th>\n",
       "      <th>pred_timespent</th>\n",
       "      <th>timestamp</th>\n",
       "      <th>trn_acc</th>\n",
       "      <th>trn_loss</th>\n",
       "      <th>val_acc</th>\n",
       "      <th>val_auc</th>\n",
       "      <th>val_loss</th>\n",
       "    </tr>\n",
       "  </thead>\n",
       "  <tbody>\n",
       "    <tr>\n",
       "      <th>1529679270</th>\n",
       "      <td>128</td>\n",
       "      <td>50</td>\n",
       "      <td>1</td>\n",
       "      <td>50</td>\n",
       "      <td>0.2</td>\n",
       "      <td>1</td>\n",
       "      <td>0:00:08</td>\n",
       "      <td>0.005</td>\n",
       "      <td>0.01</td>\n",
       "      <td>1</td>\n",
       "      <td>6920991</td>\n",
       "      <td>1</td>\n",
       "      <td>5</td>\n",
       "      <td>0:00:00</td>\n",
       "      <td>2018-06-22 10:54:30</td>\n",
       "      <td>0.6227</td>\n",
       "      <td>0.643170</td>\n",
       "      <td>0.569830</td>\n",
       "      <td>0.711474</td>\n",
       "      <td>0.675739</td>\n",
       "    </tr>\n",
       "    <tr>\n",
       "      <th>1529676463</th>\n",
       "      <td>256</td>\n",
       "      <td>50</td>\n",
       "      <td>1</td>\n",
       "      <td>50</td>\n",
       "      <td>0.2</td>\n",
       "      <td>1</td>\n",
       "      <td>0:00:21</td>\n",
       "      <td>0.005</td>\n",
       "      <td>0.01</td>\n",
       "      <td>1</td>\n",
       "      <td>5153198</td>\n",
       "      <td>1</td>\n",
       "      <td>5</td>\n",
       "      <td>NaN</td>\n",
       "      <td>2018-06-22 10:07:43</td>\n",
       "      <td>0.6209</td>\n",
       "      <td>0.646760</td>\n",
       "      <td>0.565725</td>\n",
       "      <td>0.710412</td>\n",
       "      <td>0.672015</td>\n",
       "    </tr>\n",
       "    <tr>\n",
       "      <th>1529677813</th>\n",
       "      <td>64</td>\n",
       "      <td>50</td>\n",
       "      <td>1</td>\n",
       "      <td>50</td>\n",
       "      <td>0.2</td>\n",
       "      <td>1</td>\n",
       "      <td>0:00:35</td>\n",
       "      <td>0.005</td>\n",
       "      <td>0.01</td>\n",
       "      <td>1</td>\n",
       "      <td>42406582</td>\n",
       "      <td>1</td>\n",
       "      <td>5</td>\n",
       "      <td>0:00:02</td>\n",
       "      <td>2018-06-22 10:30:13</td>\n",
       "      <td>0.6279</td>\n",
       "      <td>0.639981</td>\n",
       "      <td>0.668450</td>\n",
       "      <td>0.710294</td>\n",
       "      <td>0.577091</td>\n",
       "    </tr>\n",
       "    <tr>\n",
       "      <th>1529679027</th>\n",
       "      <td>128</td>\n",
       "      <td>50</td>\n",
       "      <td>1</td>\n",
       "      <td>50</td>\n",
       "      <td>0.2</td>\n",
       "      <td>1</td>\n",
       "      <td>0:00:09</td>\n",
       "      <td>0.005</td>\n",
       "      <td>0.01</td>\n",
       "      <td>1</td>\n",
       "      <td>35174279</td>\n",
       "      <td>1</td>\n",
       "      <td>5</td>\n",
       "      <td>0:00:00</td>\n",
       "      <td>2018-06-22 10:50:27</td>\n",
       "      <td>0.6215</td>\n",
       "      <td>0.645307</td>\n",
       "      <td>0.476680</td>\n",
       "      <td>0.710132</td>\n",
       "      <td>0.751953</td>\n",
       "    </tr>\n",
       "    <tr>\n",
       "      <th>1529677851</th>\n",
       "      <td>512</td>\n",
       "      <td>50</td>\n",
       "      <td>1</td>\n",
       "      <td>50</td>\n",
       "      <td>0.2</td>\n",
       "      <td>1</td>\n",
       "      <td>0:00:21</td>\n",
       "      <td>0.005</td>\n",
       "      <td>0.01</td>\n",
       "      <td>1</td>\n",
       "      <td>35992678</td>\n",
       "      <td>1</td>\n",
       "      <td>5</td>\n",
       "      <td>0:00:01</td>\n",
       "      <td>2018-06-22 10:30:51</td>\n",
       "      <td>0.5947</td>\n",
       "      <td>0.666978</td>\n",
       "      <td>0.652150</td>\n",
       "      <td>0.707731</td>\n",
       "      <td>0.584927</td>\n",
       "    </tr>\n",
       "  </tbody>\n",
       "</table>\n",
       "</div>"
      ],
      "text/plain": [
       "            batch_size  cat_emb_outdim  combined_dense_n_layers  dense_units  \\\n",
       "1529679270         128              50                        1           50   \n",
       "1529676463         256              50                        1           50   \n",
       "1529677813          64              50                        1           50   \n",
       "1529679027         128              50                        1           50   \n",
       "1529677851         512              50                        1           50   \n",
       "\n",
       "            drop_rate  ep_for_lr gs_timespent  lr_fin  lr_init  max_ep  \\\n",
       "1529679270        0.2          1      0:00:08   0.005     0.01       1   \n",
       "1529676463        0.2          1      0:00:21   0.005     0.01       1   \n",
       "1529677813        0.2          1      0:00:35   0.005     0.01       1   \n",
       "1529679027        0.2          1      0:00:09   0.005     0.01       1   \n",
       "1529677851        0.2          1      0:00:21   0.005     0.01       1   \n",
       "\n",
       "             nn_seed  num_dense_n_layers  patience pred_timespent  \\\n",
       "1529679270   6920991                   1         5        0:00:00   \n",
       "1529676463   5153198                   1         5            NaN   \n",
       "1529677813  42406582                   1         5        0:00:02   \n",
       "1529679027  35174279                   1         5        0:00:00   \n",
       "1529677851  35992678                   1         5        0:00:01   \n",
       "\n",
       "                      timestamp  trn_acc  trn_loss   val_acc   val_auc  \\\n",
       "1529679270  2018-06-22 10:54:30   0.6227  0.643170  0.569830  0.711474   \n",
       "1529676463  2018-06-22 10:07:43   0.6209  0.646760  0.565725  0.710412   \n",
       "1529677813  2018-06-22 10:30:13   0.6279  0.639981  0.668450  0.710294   \n",
       "1529679027  2018-06-22 10:50:27   0.6215  0.645307  0.476680  0.710132   \n",
       "1529677851  2018-06-22 10:30:51   0.5947  0.666978  0.652150  0.707731   \n",
       "\n",
       "            val_loss  \n",
       "1529679270  0.675739  \n",
       "1529676463  0.672015  \n",
       "1529677813  0.577091  \n",
       "1529679027  0.751953  \n",
       "1529677851  0.584927  "
      ]
     },
     "execution_count": 3,
     "metadata": {},
     "output_type": "execute_result"
    }
   ],
   "source": [
    "import pandas as pd\n",
    "\n",
    "gs_res = pd.read_csv('output/nn_grid_search.csv', index_col='Unnamed: 0').sort_values(by=['val_auc'], ascending=False)\n",
    "#0.829998\n",
    "gs_res.head()"
   ]
  },
  {
   "cell_type": "code",
   "execution_count": 9,
   "metadata": {
    "ExecuteTime": {
     "end_time": "2018-06-22T18:21:55.428943Z",
     "start_time": "2018-06-22T18:21:55.421358Z"
    }
   },
   "outputs": [
    {
     "data": {
      "text/plain": [
       "{1529679270: {'batch_size': 128,\n",
       "  'cat_emb_outdim': 50,\n",
       "  'combined_dense_n_layers': 1,\n",
       "  'dense_units': 50,\n",
       "  'drop_rate': 0.2,\n",
       "  'ep_for_lr': 1,\n",
       "  'gs_timespent': '0:00:08',\n",
       "  'lr_fin': 0.005,\n",
       "  'lr_init': 0.01,\n",
       "  'max_ep': 1,\n",
       "  'nn_seed': 6920991,\n",
       "  'num_dense_n_layers': 1,\n",
       "  'patience': 5,\n",
       "  'pred_timespent': '0:00:00',\n",
       "  'timestamp': '2018-06-22 10:54:30',\n",
       "  'trn_acc': 0.6227,\n",
       "  'trn_loss': 0.6431703938484192,\n",
       "  'val_acc': 0.5698300000000001,\n",
       "  'val_auc': 0.7114738038939602,\n",
       "  'val_loss': 0.6757388493728638}}"
      ]
     },
     "execution_count": 9,
     "metadata": {},
     "output_type": "execute_result"
    }
   ],
   "source": [
    "gs_res.head(1).T.to_dict()"
   ]
  },
  {
   "cell_type": "code",
   "execution_count": 9,
   "metadata": {
    "ExecuteTime": {
     "end_time": "2018-06-15T17:22:09.734976Z",
     "start_time": "2018-06-15T17:22:09.726069Z"
    }
   },
   "outputs": [
    {
     "data": {
      "text/plain": [
       "1529021613        NaN\n",
       "1529016426        NaN\n",
       "1529018698        NaN\n",
       "1529038836        NaN\n",
       "1529079354        NaN\n",
       "1529078964        NaN\n",
       "1529080397    0:01:21\n",
       "1529080656    0:01:10\n",
       "1529005138        NaN\n",
       "1529078391        NaN\n",
       "1529014439        NaN\n",
       "1529014419        NaN\n",
       "1529014400        NaN\n",
       "1529005975        NaN\n",
       "1529014454        NaN\n",
       "1529007956        NaN\n",
       "1529006206        NaN\n",
       "1529014393        NaN\n",
       "1529014412        NaN\n",
       "1529014409        NaN\n",
       "1529007953        NaN\n",
       "1529005557        NaN\n",
       "1529014159        NaN\n",
       "1529006204        NaN\n",
       "1529014405        NaN\n",
       "1529005829        NaN\n",
       "1529014458        NaN\n",
       "1529005980        NaN\n",
       "1529010730        NaN\n",
       "1529014416        NaN\n",
       "1529014398        NaN\n",
       "1529010729        NaN\n",
       "1529014162        NaN\n",
       "1529005826        NaN\n",
       "1529014434        NaN\n",
       "Name: pred_timespent, dtype: object"
      ]
     },
     "execution_count": 9,
     "metadata": {},
     "output_type": "execute_result"
    }
   ],
   "source": [
    "#gs_res.gs_timespent\n",
    "gs_res.pred_timespent"
   ]
  },
  {
   "cell_type": "code",
   "execution_count": 1,
   "metadata": {
    "ExecuteTime": {
     "end_time": "2018-06-22T16:32:56.800716Z",
     "start_time": "2018-06-22T16:32:56.614881Z"
    }
   },
   "outputs": [],
   "source": [
    "import pandas as pd"
   ]
  },
  {
   "cell_type": "code",
   "execution_count": 2,
   "metadata": {
    "ExecuteTime": {
     "end_time": "2018-06-22T16:32:56.856105Z",
     "start_time": "2018-06-22T16:32:56.848546Z"
    }
   },
   "outputs": [
    {
     "data": {
      "text/plain": [
       "'0.23.1'"
      ]
     },
     "execution_count": 2,
     "metadata": {},
     "output_type": "execute_result"
    }
   ],
   "source": [
    "pd.__version__"
   ]
  },
  {
   "cell_type": "code",
   "execution_count": null,
   "metadata": {
    "collapsed": true
   },
   "outputs": [],
   "source": []
  }
 ],
 "metadata": {
  "kernelspec": {
   "display_name": "Python 3.5 (tf_gpu)",
   "language": "python",
   "name": "tf_gpu"
  },
  "language_info": {
   "codemirror_mode": {
    "name": "ipython",
    "version": 3
   },
   "file_extension": ".py",
   "mimetype": "text/x-python",
   "name": "python",
   "nbconvert_exporter": "python",
   "pygments_lexer": "ipython3",
   "version": "3.5.5"
  },
  "varInspector": {
   "cols": {
    "lenName": 16,
    "lenType": 16,
    "lenVar": 40
   },
   "kernels_config": {
    "python": {
     "delete_cmd_postfix": "",
     "delete_cmd_prefix": "del ",
     "library": "var_list.py",
     "varRefreshCmd": "print(var_dic_list())"
    },
    "r": {
     "delete_cmd_postfix": ") ",
     "delete_cmd_prefix": "rm(",
     "library": "var_list.r",
     "varRefreshCmd": "cat(var_dic_list()) "
    }
   },
   "types_to_exclude": [
    "module",
    "function",
    "builtin_function_or_method",
    "instance",
    "_Feature"
   ],
   "window_display": false
  }
 },
 "nbformat": 4,
 "nbformat_minor": 2
}
