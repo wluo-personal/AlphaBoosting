{
 "cells": [
  {
   "cell_type": "code",
   "execution_count": 74,
   "metadata": {
    "ExecuteTime": {
     "end_time": "2018-07-30T15:25:42.638924Z",
     "start_time": "2018-07-30T15:25:42.632529Z"
    }
   },
   "outputs": [
    {
     "name": "stdout",
     "output_type": "stream",
     "text": [
      "xgb_ordinal2_grid_search.csv\n",
      "lgb_ordinal2_grid_search.csv\n",
      "catb_ordinal2_grid_search.csv\n",
      "lgb_ordinal2_stacknet.csv\n",
      "catb_ordinal2_stacknet.csv\n",
      "xgb_ordinal2_stacknet.csv\n"
     ]
    }
   ],
   "source": [
    "from os import listdir\n",
    "import pandas as pd\n",
    "\n",
    "for filename in listdir('output'):\n",
    "    if '_grid_search' in filename:\n",
    "        print(filename)\n",
    "    if '_stacknet' in filename:\n",
    "        print(filename)"
   ]
  },
  {
   "cell_type": "code",
   "execution_count": 63,
   "metadata": {
    "ExecuteTime": {
     "end_time": "2018-07-29T21:09:45.533137Z",
     "start_time": "2018-07-29T21:09:45.454997Z"
    }
   },
   "outputs": [
    {
     "data": {
      "text/html": [
       "<div>\n",
       "<style scoped>\n",
       "    .dataframe tbody tr th:only-of-type {\n",
       "        vertical-align: middle;\n",
       "    }\n",
       "\n",
       "    .dataframe tbody tr th {\n",
       "        vertical-align: top;\n",
       "    }\n",
       "\n",
       "    .dataframe thead th {\n",
       "        text-align: right;\n",
       "    }\n",
       "</style>\n",
       "<table border=\"1\" class=\"dataframe\">\n",
       "  <thead>\n",
       "    <tr style=\"text-align: right;\">\n",
       "      <th></th>\n",
       "      <th>alpha</th>\n",
       "      <th>best_round</th>\n",
       "      <th>booster</th>\n",
       "      <th>colsample_bylevel</th>\n",
       "      <th>colsample_bytree</th>\n",
       "      <th>cv</th>\n",
       "      <th>cv_nfold</th>\n",
       "      <th>cv_stratified</th>\n",
       "      <th>data_name</th>\n",
       "      <th>early_stopping_rounds</th>\n",
       "      <th>...</th>\n",
       "      <th>objective</th>\n",
       "      <th>pred_timespent</th>\n",
       "      <th>scale_pos_weight</th>\n",
       "      <th>seed</th>\n",
       "      <th>subsample</th>\n",
       "      <th>timestamp</th>\n",
       "      <th>train_all_auc</th>\n",
       "      <th>train_auc</th>\n",
       "      <th>tree_method</th>\n",
       "      <th>val_auc</th>\n",
       "    </tr>\n",
       "  </thead>\n",
       "  <tbody>\n",
       "    <tr>\n",
       "      <th>PJFH</th>\n",
       "      <td>0</td>\n",
       "      <td>11</td>\n",
       "      <td>gbtree</td>\n",
       "      <td>0.675</td>\n",
       "      <td>0.7</td>\n",
       "      <td>True</td>\n",
       "      <td>2</td>\n",
       "      <td>False</td>\n",
       "      <td>ordinal2</td>\n",
       "      <td>1</td>\n",
       "      <td>...</td>\n",
       "      <td>binary:logistic</td>\n",
       "      <td>0:00:00</td>\n",
       "      <td>1</td>\n",
       "      <td>30286353</td>\n",
       "      <td>0.7</td>\n",
       "      <td>2018-07-29 16:34:30</td>\n",
       "      <td>0.726877</td>\n",
       "      <td>0.738481</td>\n",
       "      <td>hist</td>\n",
       "      <td>0.689073</td>\n",
       "    </tr>\n",
       "  </tbody>\n",
       "</table>\n",
       "<p>1 rows × 30 columns</p>\n",
       "</div>"
      ],
      "text/plain": [
       "      alpha  best_round booster  colsample_bylevel  colsample_bytree    cv  \\\n",
       "PJFH      0          11  gbtree              0.675               0.7  True   \n",
       "\n",
       "      cv_nfold  cv_stratified data_name  early_stopping_rounds    ...     \\\n",
       "PJFH         2          False  ordinal2                      1    ...      \n",
       "\n",
       "            objective pred_timespent  scale_pos_weight      seed  subsample  \\\n",
       "PJFH  binary:logistic        0:00:00                 1  30286353        0.7   \n",
       "\n",
       "                timestamp  train_all_auc  train_auc  tree_method   val_auc  \n",
       "PJFH  2018-07-29 16:34:30       0.726877   0.738481         hist  0.689073  \n",
       "\n",
       "[1 rows x 30 columns]"
      ]
     },
     "execution_count": 63,
     "metadata": {},
     "output_type": "execute_result"
    }
   ],
   "source": [
    "gs_res = pd.read_csv('output/xgb_ordinal2_grid_search.csv', index_col='Unnamed: 0').sort_values(by=['val_auc'], ascending=False)\n",
    "#0.829998\n",
    "gs_res.head()"
   ]
  },
  {
   "cell_type": "code",
   "execution_count": 47,
   "metadata": {
    "ExecuteTime": {
     "end_time": "2018-07-29T15:45:25.101568Z",
     "start_time": "2018-07-29T15:45:25.078678Z"
    }
   },
   "outputs": [
    {
     "data": {
      "text/html": [
       "<div>\n",
       "<style scoped>\n",
       "    .dataframe tbody tr th:only-of-type {\n",
       "        vertical-align: middle;\n",
       "    }\n",
       "\n",
       "    .dataframe tbody tr th {\n",
       "        vertical-align: top;\n",
       "    }\n",
       "\n",
       "    .dataframe thead th {\n",
       "        text-align: right;\n",
       "    }\n",
       "</style>\n",
       "<table border=\"1\" class=\"dataframe\">\n",
       "  <thead>\n",
       "    <tr style=\"text-align: right;\">\n",
       "      <th></th>\n",
       "      <th>cv_train_auc</th>\n",
       "      <th>cv_val_auc</th>\n",
       "      <th>data_name</th>\n",
       "      <th>depth</th>\n",
       "      <th>eval_metric</th>\n",
       "      <th>iterations</th>\n",
       "      <th>l2_leaf_reg</th>\n",
       "      <th>logging_level</th>\n",
       "      <th>oof_seed</th>\n",
       "      <th>random_seed</th>\n",
       "      <th>thread_count</th>\n",
       "    </tr>\n",
       "  </thead>\n",
       "  <tbody>\n",
       "    <tr>\n",
       "      <th>aiHv</th>\n",
       "      <td>0.727298</td>\n",
       "      <td>0.700181</td>\n",
       "      <td>ordinal2</td>\n",
       "      <td>7</td>\n",
       "      <td>AUC</td>\n",
       "      <td>100</td>\n",
       "      <td>0.2</td>\n",
       "      <td>Verbose</td>\n",
       "      <td>16950940</td>\n",
       "      <td>16950940</td>\n",
       "      <td>15</td>\n",
       "    </tr>\n",
       "    <tr>\n",
       "      <th>OG7w</th>\n",
       "      <td>0.730607</td>\n",
       "      <td>0.699527</td>\n",
       "      <td>ordinal2</td>\n",
       "      <td>8</td>\n",
       "      <td>AUC</td>\n",
       "      <td>99</td>\n",
       "      <td>1.6</td>\n",
       "      <td>Verbose</td>\n",
       "      <td>6807070</td>\n",
       "      <td>6807070</td>\n",
       "      <td>15</td>\n",
       "    </tr>\n",
       "  </tbody>\n",
       "</table>\n",
       "</div>"
      ],
      "text/plain": [
       "      cv_train_auc  cv_val_auc data_name  depth eval_metric  iterations  \\\n",
       "aiHv      0.727298    0.700181  ordinal2      7         AUC         100   \n",
       "OG7w      0.730607    0.699527  ordinal2      8         AUC          99   \n",
       "\n",
       "      l2_leaf_reg logging_level  oof_seed  random_seed  thread_count  \n",
       "aiHv          0.2       Verbose  16950940     16950940            15  \n",
       "OG7w          1.6       Verbose   6807070      6807070            15  "
      ]
     },
     "execution_count": 47,
     "metadata": {},
     "output_type": "execute_result"
    }
   ],
   "source": [
    "sn_res = pd.read_csv('output/catb_ordinal2_stacknet.csv', index_col='Unnamed: 0').sort_values(by=['cv_val_auc'], ascending=False)\n",
    "#0.829998\n",
    "sn_res.head()"
   ]
  },
  {
   "cell_type": "code",
   "execution_count": 9,
   "metadata": {
    "ExecuteTime": {
     "end_time": "2018-07-27T17:22:53.890407Z",
     "start_time": "2018-07-27T17:22:53.862032Z"
    }
   },
   "outputs": [
    {
     "data": {
      "text/html": [
       "<div>\n",
       "<style scoped>\n",
       "    .dataframe tbody tr th:only-of-type {\n",
       "        vertical-align: middle;\n",
       "    }\n",
       "\n",
       "    .dataframe tbody tr th {\n",
       "        vertical-align: top;\n",
       "    }\n",
       "\n",
       "    .dataframe thead th {\n",
       "        text-align: right;\n",
       "    }\n",
       "</style>\n",
       "<table border=\"1\" class=\"dataframe\">\n",
       "  <thead>\n",
       "    <tr style=\"text-align: right;\">\n",
       "      <th></th>\n",
       "      <th>best_round</th>\n",
       "      <th>cv</th>\n",
       "      <th>data_name</th>\n",
       "      <th>depth</th>\n",
       "      <th>eval_metric</th>\n",
       "      <th>gs_timespent</th>\n",
       "      <th>iterations</th>\n",
       "      <th>l2_leaf_reg</th>\n",
       "      <th>logging_level</th>\n",
       "      <th>pred_timespent</th>\n",
       "      <th>random_seed</th>\n",
       "      <th>thread_count</th>\n",
       "      <th>timestamp</th>\n",
       "      <th>train_AUC</th>\n",
       "      <th>train_all_AUC</th>\n",
       "      <th>val_AUC</th>\n",
       "    </tr>\n",
       "  </thead>\n",
       "  <tbody>\n",
       "    <tr>\n",
       "      <th>X6uo</th>\n",
       "      <td>30</td>\n",
       "      <td>False</td>\n",
       "      <td>ordinal2</td>\n",
       "      <td>10</td>\n",
       "      <td>AUC</td>\n",
       "      <td>0:00:04</td>\n",
       "      <td>30</td>\n",
       "      <td>0.7</td>\n",
       "      <td>Verbose</td>\n",
       "      <td>0:00:06</td>\n",
       "      <td>25367694</td>\n",
       "      <td>15</td>\n",
       "      <td>2018-07-25 16:22:29</td>\n",
       "      <td>0.706230</td>\n",
       "      <td>0.737684</td>\n",
       "      <td>0.701732</td>\n",
       "    </tr>\n",
       "    <tr>\n",
       "      <th>UiBN</th>\n",
       "      <td>30</td>\n",
       "      <td>False</td>\n",
       "      <td>ordinal2</td>\n",
       "      <td>7</td>\n",
       "      <td>AUC</td>\n",
       "      <td>0:00:02</td>\n",
       "      <td>30</td>\n",
       "      <td>1.1</td>\n",
       "      <td>Verbose</td>\n",
       "      <td>0:00:02</td>\n",
       "      <td>27857633</td>\n",
       "      <td>15</td>\n",
       "      <td>2018-07-27 13:13:59</td>\n",
       "      <td>0.704351</td>\n",
       "      <td>0.714771</td>\n",
       "      <td>0.700455</td>\n",
       "    </tr>\n",
       "    <tr>\n",
       "      <th>Val5</th>\n",
       "      <td>30</td>\n",
       "      <td>False</td>\n",
       "      <td>ordinal2</td>\n",
       "      <td>8</td>\n",
       "      <td>AUC</td>\n",
       "      <td>0:00:03</td>\n",
       "      <td>30</td>\n",
       "      <td>0.7</td>\n",
       "      <td>Verbose</td>\n",
       "      <td>0:00:03</td>\n",
       "      <td>33892013</td>\n",
       "      <td>15</td>\n",
       "      <td>2018-07-25 16:07:32</td>\n",
       "      <td>0.707702</td>\n",
       "      <td>0.722036</td>\n",
       "      <td>0.699959</td>\n",
       "    </tr>\n",
       "    <tr>\n",
       "      <th>yp1r</th>\n",
       "      <td>30</td>\n",
       "      <td>False</td>\n",
       "      <td>ordinal2</td>\n",
       "      <td>9</td>\n",
       "      <td>AUC</td>\n",
       "      <td>0:00:02</td>\n",
       "      <td>30</td>\n",
       "      <td>2.2</td>\n",
       "      <td>Verbose</td>\n",
       "      <td>0:00:04</td>\n",
       "      <td>26076149</td>\n",
       "      <td>15</td>\n",
       "      <td>2018-07-25 16:07:25</td>\n",
       "      <td>0.704676</td>\n",
       "      <td>0.727607</td>\n",
       "      <td>0.698954</td>\n",
       "    </tr>\n",
       "  </tbody>\n",
       "</table>\n",
       "</div>"
      ],
      "text/plain": [
       "      best_round     cv data_name  depth eval_metric gs_timespent  iterations  \\\n",
       "X6uo          30  False  ordinal2     10         AUC      0:00:04          30   \n",
       "UiBN          30  False  ordinal2      7         AUC      0:00:02          30   \n",
       "Val5          30  False  ordinal2      8         AUC      0:00:03          30   \n",
       "yp1r          30  False  ordinal2      9         AUC      0:00:02          30   \n",
       "\n",
       "      l2_leaf_reg logging_level pred_timespent  random_seed  thread_count  \\\n",
       "X6uo          0.7       Verbose        0:00:06     25367694            15   \n",
       "UiBN          1.1       Verbose        0:00:02     27857633            15   \n",
       "Val5          0.7       Verbose        0:00:03     33892013            15   \n",
       "yp1r          2.2       Verbose        0:00:04     26076149            15   \n",
       "\n",
       "                timestamp  train_AUC  train_all_AUC   val_AUC  \n",
       "X6uo  2018-07-25 16:22:29   0.706230       0.737684  0.701732  \n",
       "UiBN  2018-07-27 13:13:59   0.704351       0.714771  0.700455  \n",
       "Val5  2018-07-25 16:07:32   0.707702       0.722036  0.699959  \n",
       "yp1r  2018-07-25 16:07:25   0.704676       0.727607  0.698954  "
      ]
     },
     "execution_count": 9,
     "metadata": {},
     "output_type": "execute_result"
    }
   ],
   "source": [
    "gs_catb_res = pd.read_csv('output/catb_ordinal2_grid_search.csv', index_col='Unnamed: 0').sort_values(by=['val_AUC'], ascending=False)\n",
    "gs_catb_res.head()"
   ]
  },
  {
   "cell_type": "code",
   "execution_count": 4,
   "metadata": {
    "ExecuteTime": {
     "end_time": "2018-07-25T20:09:36.494045Z",
     "start_time": "2018-07-25T20:09:36.453221Z"
    }
   },
   "outputs": [
    {
     "data": {
      "text/html": [
       "<div>\n",
       "<style scoped>\n",
       "    .dataframe tbody tr th:only-of-type {\n",
       "        vertical-align: middle;\n",
       "    }\n",
       "\n",
       "    .dataframe tbody tr th {\n",
       "        vertical-align: top;\n",
       "    }\n",
       "\n",
       "    .dataframe thead th {\n",
       "        text-align: right;\n",
       "    }\n",
       "</style>\n",
       "<table border=\"1\" class=\"dataframe\">\n",
       "  <thead>\n",
       "    <tr style=\"text-align: right;\">\n",
       "      <th></th>\n",
       "      <th>bagging_fraction</th>\n",
       "      <th>bagging_freq</th>\n",
       "      <th>bagging_seed</th>\n",
       "      <th>best_round</th>\n",
       "      <th>boosting</th>\n",
       "      <th>cv</th>\n",
       "      <th>data_name</th>\n",
       "      <th>early_stopping_round</th>\n",
       "      <th>feature_fraction</th>\n",
       "      <th>feature_fraction_seed</th>\n",
       "      <th>...</th>\n",
       "      <th>num_boost_round</th>\n",
       "      <th>num_leaves</th>\n",
       "      <th>num_threads</th>\n",
       "      <th>objective</th>\n",
       "      <th>pred_timespent</th>\n",
       "      <th>scale_pos_weight</th>\n",
       "      <th>timestamp</th>\n",
       "      <th>train_all_auc</th>\n",
       "      <th>train_auc</th>\n",
       "      <th>val_auc</th>\n",
       "    </tr>\n",
       "  </thead>\n",
       "  <tbody>\n",
       "    <tr>\n",
       "      <th>DQ7E</th>\n",
       "      <td>0.9</td>\n",
       "      <td>1</td>\n",
       "      <td>24200148</td>\n",
       "      <td>30</td>\n",
       "      <td>gbdt</td>\n",
       "      <td>False</td>\n",
       "      <td>ordinal2</td>\n",
       "      <td>10</td>\n",
       "      <td>1.0</td>\n",
       "      <td>24200148</td>\n",
       "      <td>...</td>\n",
       "      <td>30</td>\n",
       "      <td>31</td>\n",
       "      <td>8</td>\n",
       "      <td>binary</td>\n",
       "      <td>0:00:00</td>\n",
       "      <td>1</td>\n",
       "      <td>2018-07-25 16:07:23</td>\n",
       "      <td>0.798216</td>\n",
       "      <td>0.803446</td>\n",
       "      <td>0.730565</td>\n",
       "    </tr>\n",
       "    <tr>\n",
       "      <th>wTAx</th>\n",
       "      <td>0.9</td>\n",
       "      <td>1</td>\n",
       "      <td>25274724</td>\n",
       "      <td>30</td>\n",
       "      <td>gbdt</td>\n",
       "      <td>False</td>\n",
       "      <td>ordinal2</td>\n",
       "      <td>10</td>\n",
       "      <td>1.0</td>\n",
       "      <td>25274724</td>\n",
       "      <td>...</td>\n",
       "      <td>30</td>\n",
       "      <td>15</td>\n",
       "      <td>8</td>\n",
       "      <td>binary</td>\n",
       "      <td>0:00:00</td>\n",
       "      <td>1</td>\n",
       "      <td>2018-07-25 16:07:24</td>\n",
       "      <td>0.765827</td>\n",
       "      <td>0.767328</td>\n",
       "      <td>0.727868</td>\n",
       "    </tr>\n",
       "  </tbody>\n",
       "</table>\n",
       "<p>2 rows × 25 columns</p>\n",
       "</div>"
      ],
      "text/plain": [
       "      bagging_fraction  bagging_freq  bagging_seed  best_round boosting  \\\n",
       "DQ7E               0.9             1      24200148          30     gbdt   \n",
       "wTAx               0.9             1      25274724          30     gbdt   \n",
       "\n",
       "         cv data_name  early_stopping_round  feature_fraction  \\\n",
       "DQ7E  False  ordinal2                    10               1.0   \n",
       "wTAx  False  ordinal2                    10               1.0   \n",
       "\n",
       "      feature_fraction_seed    ...    num_boost_round  num_leaves  \\\n",
       "DQ7E               24200148    ...                 30          31   \n",
       "wTAx               25274724    ...                 30          15   \n",
       "\n",
       "      num_threads objective  pred_timespent  scale_pos_weight  \\\n",
       "DQ7E            8    binary         0:00:00                 1   \n",
       "wTAx            8    binary         0:00:00                 1   \n",
       "\n",
       "                timestamp  train_all_auc train_auc   val_auc  \n",
       "DQ7E  2018-07-25 16:07:23       0.798216  0.803446  0.730565  \n",
       "wTAx  2018-07-25 16:07:24       0.765827  0.767328  0.727868  \n",
       "\n",
       "[2 rows x 25 columns]"
      ]
     },
     "execution_count": 4,
     "metadata": {},
     "output_type": "execute_result"
    }
   ],
   "source": [
    "gs_lgb_res = pd.read_csv('output/lgb_ordinal2_grid_search.csv', index_col='Unnamed: 0').sort_values(by=['val_auc'], ascending=False)\n",
    "#0.829998\n",
    "gs_lgb_res.head()"
   ]
  },
  {
   "cell_type": "code",
   "execution_count": 5,
   "metadata": {
    "ExecuteTime": {
     "end_time": "2018-07-25T20:09:37.253705Z",
     "start_time": "2018-07-25T20:09:37.214758Z"
    }
   },
   "outputs": [
    {
     "data": {
      "text/html": [
       "<div>\n",
       "<style scoped>\n",
       "    .dataframe tbody tr th:only-of-type {\n",
       "        vertical-align: middle;\n",
       "    }\n",
       "\n",
       "    .dataframe tbody tr th {\n",
       "        vertical-align: top;\n",
       "    }\n",
       "\n",
       "    .dataframe thead th {\n",
       "        text-align: right;\n",
       "    }\n",
       "</style>\n",
       "<table border=\"1\" class=\"dataframe\">\n",
       "  <thead>\n",
       "    <tr style=\"text-align: right;\">\n",
       "      <th></th>\n",
       "      <th>batch_size</th>\n",
       "      <th>best_epoch</th>\n",
       "      <th>cat_emb_drop_rate</th>\n",
       "      <th>cat_emb_outdim</th>\n",
       "      <th>combined_layers_dense_units</th>\n",
       "      <th>combined_layers_drop_rate</th>\n",
       "      <th>data_name</th>\n",
       "      <th>ep_for_lr</th>\n",
       "      <th>gs_timespent</th>\n",
       "      <th>int_list</th>\n",
       "      <th>...</th>\n",
       "      <th>patience</th>\n",
       "      <th>pred_batch_size</th>\n",
       "      <th>pred_timespent</th>\n",
       "      <th>timestamp</th>\n",
       "      <th>train_all_auc</th>\n",
       "      <th>trn_acc</th>\n",
       "      <th>trn_loss</th>\n",
       "      <th>val_acc</th>\n",
       "      <th>val_auc</th>\n",
       "      <th>val_loss</th>\n",
       "    </tr>\n",
       "  </thead>\n",
       "  <tbody>\n",
       "    <tr>\n",
       "      <th>RStN</th>\n",
       "      <td>256</td>\n",
       "      <td>2</td>\n",
       "      <td>0.2</td>\n",
       "      <td>30</td>\n",
       "      <td>\"[100, 50]\"</td>\n",
       "      <td>0.1</td>\n",
       "      <td>ordinal2</td>\n",
       "      <td>2</td>\n",
       "      <td>0:00:11</td>\n",
       "      <td>\"['num_layers_dense_units', 'combined_layers_d...</td>\n",
       "      <td>...</td>\n",
       "      <td>1</td>\n",
       "      <td>5000</td>\n",
       "      <td>0:00:00</td>\n",
       "      <td>2018-07-25 16:07:41</td>\n",
       "      <td>-1</td>\n",
       "      <td>0.813647</td>\n",
       "      <td>0.438728</td>\n",
       "      <td>0.806933</td>\n",
       "      <td>0.732794</td>\n",
       "      <td>0.442593</td>\n",
       "    </tr>\n",
       "    <tr>\n",
       "      <th>TN9s</th>\n",
       "      <td>512</td>\n",
       "      <td>4</td>\n",
       "      <td>0.1</td>\n",
       "      <td>30</td>\n",
       "      <td>\"[100, 50]\"</td>\n",
       "      <td>0.1</td>\n",
       "      <td>ordinal2</td>\n",
       "      <td>2</td>\n",
       "      <td>0:00:10</td>\n",
       "      <td>\"['num_layers_dense_units', 'combined_layers_d...</td>\n",
       "      <td>...</td>\n",
       "      <td>1</td>\n",
       "      <td>5000</td>\n",
       "      <td>0:00:00</td>\n",
       "      <td>2018-07-25 16:07:54</td>\n",
       "      <td>-1</td>\n",
       "      <td>0.816494</td>\n",
       "      <td>0.431491</td>\n",
       "      <td>0.807733</td>\n",
       "      <td>0.732308</td>\n",
       "      <td>0.442544</td>\n",
       "    </tr>\n",
       "  </tbody>\n",
       "</table>\n",
       "<p>2 rows × 28 columns</p>\n",
       "</div>"
      ],
      "text/plain": [
       "      batch_size  best_epoch  cat_emb_drop_rate  cat_emb_outdim  \\\n",
       "RStN         256           2                0.2              30   \n",
       "TN9s         512           4                0.1              30   \n",
       "\n",
       "     combined_layers_dense_units  combined_layers_drop_rate data_name  \\\n",
       "RStN                 \"[100, 50]\"                        0.1  ordinal2   \n",
       "TN9s                 \"[100, 50]\"                        0.1  ordinal2   \n",
       "\n",
       "      ep_for_lr gs_timespent  \\\n",
       "RStN          2      0:00:11   \n",
       "TN9s          2      0:00:10   \n",
       "\n",
       "                                               int_list    ...     patience  \\\n",
       "RStN  \"['num_layers_dense_units', 'combined_layers_d...    ...            1   \n",
       "TN9s  \"['num_layers_dense_units', 'combined_layers_d...    ...            1   \n",
       "\n",
       "      pred_batch_size  pred_timespent            timestamp train_all_auc  \\\n",
       "RStN             5000         0:00:00  2018-07-25 16:07:41            -1   \n",
       "TN9s             5000         0:00:00  2018-07-25 16:07:54            -1   \n",
       "\n",
       "       trn_acc  trn_loss   val_acc   val_auc  val_loss  \n",
       "RStN  0.813647  0.438728  0.806933  0.732794  0.442593  \n",
       "TN9s  0.816494  0.431491  0.807733  0.732308  0.442544  \n",
       "\n",
       "[2 rows x 28 columns]"
      ]
     },
     "execution_count": 5,
     "metadata": {},
     "output_type": "execute_result"
    }
   ],
   "source": [
    "gs_nn_res = pd.read_csv('output/nn_ordinal2_grid_search.csv', index_col='Unnamed: 0').sort_values(by=['val_auc'], ascending=False)\n",
    "gs_nn_res.head()"
   ]
  },
  {
   "cell_type": "code",
   "execution_count": 83,
   "metadata": {
    "ExecuteTime": {
     "end_time": "2018-07-30T17:12:23.456646Z",
     "start_time": "2018-07-30T17:12:23.401700Z"
    }
   },
   "outputs": [
    {
     "data": {
      "text/html": [
       "<div>\n",
       "<style scoped>\n",
       "    .dataframe tbody tr th:only-of-type {\n",
       "        vertical-align: middle;\n",
       "    }\n",
       "\n",
       "    .dataframe tbody tr th {\n",
       "        vertical-align: top;\n",
       "    }\n",
       "\n",
       "    .dataframe thead th {\n",
       "        text-align: right;\n",
       "    }\n",
       "</style>\n",
       "<table border=\"1\" class=\"dataframe\">\n",
       "  <thead>\n",
       "    <tr style=\"text-align: right;\">\n",
       "      <th></th>\n",
       "      <th>model_data</th>\n",
       "      <th>gs_val_auc</th>\n",
       "      <th>test_score</th>\n",
       "      <th>oof_cv_score</th>\n",
       "      <th>timestamp</th>\n",
       "      <th>seed</th>\n",
       "      <th>nfolds</th>\n",
       "      <th>chosen model_data</th>\n",
       "      <th>num_model_data</th>\n",
       "    </tr>\n",
       "  </thead>\n",
       "  <tbody>\n",
       "    <tr>\n",
       "      <th>15</th>\n",
       "      <td>i5S4__LOGREG_layer2</td>\n",
       "      <td>NaN</td>\n",
       "      <td>0.716434</td>\n",
       "      <td>0.716992</td>\n",
       "      <td>2018-07-30 13:11:37</td>\n",
       "      <td>NaN</td>\n",
       "      <td>3</td>\n",
       "      <td>qZAR__LGB | mFju__CATB | CxxQ__XGB | bsFe__XGB...</td>\n",
       "      <td>12</td>\n",
       "    </tr>\n",
       "    <tr>\n",
       "      <th>9</th>\n",
       "      <td>N0sY__LOGREG_layer3</td>\n",
       "      <td>NaN</td>\n",
       "      <td>0.715586</td>\n",
       "      <td>0.716448</td>\n",
       "      <td>2018-07-30 11:54:42</td>\n",
       "      <td>NaN</td>\n",
       "      <td>3</td>\n",
       "      <td>qZAR__LGB | wlfr__LGB | D9UD__LGB | S2oN__LGB</td>\n",
       "      <td>4</td>\n",
       "    </tr>\n",
       "    <tr>\n",
       "      <th>17</th>\n",
       "      <td>kpHk__LOGREG_layer3</td>\n",
       "      <td>NaN</td>\n",
       "      <td>0.715586</td>\n",
       "      <td>0.716448</td>\n",
       "      <td>2018-07-30 13:11:38</td>\n",
       "      <td>NaN</td>\n",
       "      <td>3</td>\n",
       "      <td>qZAR__LGB | wlfr__LGB | D9UD__LGB | S2oN__LGB</td>\n",
       "      <td>4</td>\n",
       "    </tr>\n",
       "    <tr>\n",
       "      <th>16</th>\n",
       "      <td>idbI__LOGREG_layer3</td>\n",
       "      <td>NaN</td>\n",
       "      <td>0.715586</td>\n",
       "      <td>0.716448</td>\n",
       "      <td>2018-07-30 11:53:53</td>\n",
       "      <td>NaN</td>\n",
       "      <td>3</td>\n",
       "      <td>qZAR__LGB | wlfr__LGB | D9UD__LGB | S2oN__LGB</td>\n",
       "      <td>4</td>\n",
       "    </tr>\n",
       "    <tr>\n",
       "      <th>8</th>\n",
       "      <td>KBPg__LOGREG_layer2</td>\n",
       "      <td>NaN</td>\n",
       "      <td>0.715541</td>\n",
       "      <td>0.714690</td>\n",
       "      <td>2018-07-29 17:43:07</td>\n",
       "      <td>NaN</td>\n",
       "      <td>3</td>\n",
       "      <td>AYbJ__XGB | D9UD__LGB | UkLS__CATB | S2oN__LGB...</td>\n",
       "      <td>6</td>\n",
       "    </tr>\n",
       "    <tr>\n",
       "      <th>10</th>\n",
       "      <td>Pkwy__LOGREG_layer2</td>\n",
       "      <td>NaN</td>\n",
       "      <td>0.714894</td>\n",
       "      <td>0.714425</td>\n",
       "      <td>2018-07-30 13:11:37</td>\n",
       "      <td>NaN</td>\n",
       "      <td>3</td>\n",
       "      <td>wlfr__LGB | S2oN__LGB</td>\n",
       "      <td>2</td>\n",
       "    </tr>\n",
       "    <tr>\n",
       "      <th>22</th>\n",
       "      <td>vpeP__LOGREG_layer2</td>\n",
       "      <td>NaN</td>\n",
       "      <td>0.713532</td>\n",
       "      <td>0.712168</td>\n",
       "      <td>2018-07-29 17:36:42</td>\n",
       "      <td>NaN</td>\n",
       "      <td>3</td>\n",
       "      <td>qZAR__LGB | mFju__CATB | CxxQ__XGB | bsFe__XGB...</td>\n",
       "      <td>6</td>\n",
       "    </tr>\n",
       "    <tr>\n",
       "      <th>11</th>\n",
       "      <td>S2oN__LGB_ordinal2_layer1</td>\n",
       "      <td>NaN</td>\n",
       "      <td>0.712206</td>\n",
       "      <td>0.707990</td>\n",
       "      <td>2018-07-29 17:42:52</td>\n",
       "      <td>15404721.0</td>\n",
       "      <td>2</td>\n",
       "      <td>NaN</td>\n",
       "      <td>0</td>\n",
       "    </tr>\n",
       "    <tr>\n",
       "      <th>7</th>\n",
       "      <td>JBbu__LOGREG_layer2</td>\n",
       "      <td>NaN</td>\n",
       "      <td>0.711360</td>\n",
       "      <td>0.706068</td>\n",
       "      <td>2018-07-29 17:40:05</td>\n",
       "      <td>NaN</td>\n",
       "      <td>3</td>\n",
       "      <td>AYbJ__XGB | D9UD__LGB | UkLS__CATB</td>\n",
       "      <td>3</td>\n",
       "    </tr>\n",
       "    <tr>\n",
       "      <th>23</th>\n",
       "      <td>wlfr__LGB_ordinal2_layer1</td>\n",
       "      <td>0.702708</td>\n",
       "      <td>0.711788</td>\n",
       "      <td>0.705465</td>\n",
       "      <td>2018-07-29 17:35:37</td>\n",
       "      <td>31887101.0</td>\n",
       "      <td>2</td>\n",
       "      <td>NaN</td>\n",
       "      <td>0</td>\n",
       "    </tr>\n",
       "    <tr>\n",
       "      <th>20</th>\n",
       "      <td>qZAR__LGB_ordinal2_layer1</td>\n",
       "      <td>NaN</td>\n",
       "      <td>0.709550</td>\n",
       "      <td>0.704221</td>\n",
       "      <td>2018-07-29 17:34:27</td>\n",
       "      <td>7407580.0</td>\n",
       "      <td>2</td>\n",
       "      <td>NaN</td>\n",
       "      <td>0</td>\n",
       "    </tr>\n",
       "    <tr>\n",
       "      <th>5</th>\n",
       "      <td>D9UD__LGB_ordinal2_layer1</td>\n",
       "      <td>0.702827</td>\n",
       "      <td>0.711556</td>\n",
       "      <td>0.702752</td>\n",
       "      <td>2018-07-29 17:39:52</td>\n",
       "      <td>15599973.0</td>\n",
       "      <td>2</td>\n",
       "      <td>NaN</td>\n",
       "      <td>0</td>\n",
       "    </tr>\n",
       "    <tr>\n",
       "      <th>21</th>\n",
       "      <td>qcjp__XGB_ordinal2_layer1</td>\n",
       "      <td>NaN</td>\n",
       "      <td>0.700270</td>\n",
       "      <td>0.690472</td>\n",
       "      <td>2018-07-29 17:42:58</td>\n",
       "      <td>21233307.0</td>\n",
       "      <td>2</td>\n",
       "      <td>NaN</td>\n",
       "      <td>0</td>\n",
       "    </tr>\n",
       "    <tr>\n",
       "      <th>18</th>\n",
       "      <td>mFju__CATB_ordinal2_layer1</td>\n",
       "      <td>NaN</td>\n",
       "      <td>0.698665</td>\n",
       "      <td>0.690030</td>\n",
       "      <td>2018-07-29 17:34:33</td>\n",
       "      <td>8808648.0</td>\n",
       "      <td>2</td>\n",
       "      <td>NaN</td>\n",
       "      <td>0</td>\n",
       "    </tr>\n",
       "    <tr>\n",
       "      <th>2</th>\n",
       "      <td>BFdf__NN_layer2</td>\n",
       "      <td>NaN</td>\n",
       "      <td>0.712184</td>\n",
       "      <td>0.689363</td>\n",
       "      <td>2018-07-29 17:40:05</td>\n",
       "      <td>NaN</td>\n",
       "      <td>3</td>\n",
       "      <td>AYbJ__XGB | D9UD__LGB | UkLS__CATB</td>\n",
       "      <td>3</td>\n",
       "    </tr>\n",
       "    <tr>\n",
       "      <th>12</th>\n",
       "      <td>UKDO__CATB_ordinal2_layer1</td>\n",
       "      <td>0.693322</td>\n",
       "      <td>0.699989</td>\n",
       "      <td>0.689280</td>\n",
       "      <td>2018-07-29 17:35:45</td>\n",
       "      <td>31887101.0</td>\n",
       "      <td>2</td>\n",
       "      <td>NaN</td>\n",
       "      <td>0</td>\n",
       "    </tr>\n",
       "    <tr>\n",
       "      <th>19</th>\n",
       "      <td>olYz__CATB_ordinal2_layer1</td>\n",
       "      <td>NaN</td>\n",
       "      <td>0.695677</td>\n",
       "      <td>0.688897</td>\n",
       "      <td>2018-07-29 17:42:57</td>\n",
       "      <td>16339544.0</td>\n",
       "      <td>2</td>\n",
       "      <td>NaN</td>\n",
       "      <td>0</td>\n",
       "    </tr>\n",
       "    <tr>\n",
       "      <th>13</th>\n",
       "      <td>UkLS__CATB_ordinal2_layer1</td>\n",
       "      <td>0.691168</td>\n",
       "      <td>0.698098</td>\n",
       "      <td>0.688686</td>\n",
       "      <td>2018-07-29 17:39:57</td>\n",
       "      <td>15599973.0</td>\n",
       "      <td>2</td>\n",
       "      <td>NaN</td>\n",
       "      <td>0</td>\n",
       "    </tr>\n",
       "    <tr>\n",
       "      <th>1</th>\n",
       "      <td>AYbJ__XGB_ordinal2_layer1</td>\n",
       "      <td>0.682936</td>\n",
       "      <td>0.693863</td>\n",
       "      <td>0.683914</td>\n",
       "      <td>2018-07-29 17:39:51</td>\n",
       "      <td>15599973.0</td>\n",
       "      <td>2</td>\n",
       "      <td>NaN</td>\n",
       "      <td>0</td>\n",
       "    </tr>\n",
       "    <tr>\n",
       "      <th>4</th>\n",
       "      <td>D8a2__NN_layer2</td>\n",
       "      <td>NaN</td>\n",
       "      <td>0.500000</td>\n",
       "      <td>0.681097</td>\n",
       "      <td>2018-07-29 17:43:07</td>\n",
       "      <td>NaN</td>\n",
       "      <td>3</td>\n",
       "      <td>AYbJ__XGB | D9UD__LGB | UkLS__CATB | S2oN__LGB...</td>\n",
       "      <td>6</td>\n",
       "    </tr>\n",
       "    <tr>\n",
       "      <th>14</th>\n",
       "      <td>bsFe__XGB_ordinal2_layer1</td>\n",
       "      <td>0.688969</td>\n",
       "      <td>0.697537</td>\n",
       "      <td>0.656812</td>\n",
       "      <td>2018-07-29 17:35:36</td>\n",
       "      <td>31887101.0</td>\n",
       "      <td>2</td>\n",
       "      <td>NaN</td>\n",
       "      <td>0</td>\n",
       "    </tr>\n",
       "    <tr>\n",
       "      <th>3</th>\n",
       "      <td>CxxQ__XGB_ordinal2_layer1</td>\n",
       "      <td>NaN</td>\n",
       "      <td>0.692879</td>\n",
       "      <td>0.637460</td>\n",
       "      <td>2018-07-29 17:34:33</td>\n",
       "      <td>14459639.0</td>\n",
       "      <td>2</td>\n",
       "      <td>NaN</td>\n",
       "      <td>0</td>\n",
       "    </tr>\n",
       "    <tr>\n",
       "      <th>6</th>\n",
       "      <td>HYNK__NN_layer3</td>\n",
       "      <td>NaN</td>\n",
       "      <td>0.712265</td>\n",
       "      <td>0.602911</td>\n",
       "      <td>2018-07-30 11:54:42</td>\n",
       "      <td>NaN</td>\n",
       "      <td>3</td>\n",
       "      <td>qZAR__LGB | wlfr__LGB | D9UD__LGB | S2oN__LGB</td>\n",
       "      <td>4</td>\n",
       "    </tr>\n",
       "    <tr>\n",
       "      <th>0</th>\n",
       "      <td>76iL__NN_layer2</td>\n",
       "      <td>NaN</td>\n",
       "      <td>0.713851</td>\n",
       "      <td>0.562391</td>\n",
       "      <td>2018-07-29 17:36:42</td>\n",
       "      <td>NaN</td>\n",
       "      <td>3</td>\n",
       "      <td>qZAR__LGB | mFju__CATB | CxxQ__XGB | bsFe__XGB...</td>\n",
       "      <td>6</td>\n",
       "    </tr>\n",
       "  </tbody>\n",
       "</table>\n",
       "</div>"
      ],
      "text/plain": [
       "                    model_data  gs_val_auc  test_score  oof_cv_score  \\\n",
       "15         i5S4__LOGREG_layer2         NaN    0.716434      0.716992   \n",
       "9          N0sY__LOGREG_layer3         NaN    0.715586      0.716448   \n",
       "17         kpHk__LOGREG_layer3         NaN    0.715586      0.716448   \n",
       "16         idbI__LOGREG_layer3         NaN    0.715586      0.716448   \n",
       "8          KBPg__LOGREG_layer2         NaN    0.715541      0.714690   \n",
       "10         Pkwy__LOGREG_layer2         NaN    0.714894      0.714425   \n",
       "22         vpeP__LOGREG_layer2         NaN    0.713532      0.712168   \n",
       "11   S2oN__LGB_ordinal2_layer1         NaN    0.712206      0.707990   \n",
       "7          JBbu__LOGREG_layer2         NaN    0.711360      0.706068   \n",
       "23   wlfr__LGB_ordinal2_layer1    0.702708    0.711788      0.705465   \n",
       "20   qZAR__LGB_ordinal2_layer1         NaN    0.709550      0.704221   \n",
       "5    D9UD__LGB_ordinal2_layer1    0.702827    0.711556      0.702752   \n",
       "21   qcjp__XGB_ordinal2_layer1         NaN    0.700270      0.690472   \n",
       "18  mFju__CATB_ordinal2_layer1         NaN    0.698665      0.690030   \n",
       "2              BFdf__NN_layer2         NaN    0.712184      0.689363   \n",
       "12  UKDO__CATB_ordinal2_layer1    0.693322    0.699989      0.689280   \n",
       "19  olYz__CATB_ordinal2_layer1         NaN    0.695677      0.688897   \n",
       "13  UkLS__CATB_ordinal2_layer1    0.691168    0.698098      0.688686   \n",
       "1    AYbJ__XGB_ordinal2_layer1    0.682936    0.693863      0.683914   \n",
       "4              D8a2__NN_layer2         NaN    0.500000      0.681097   \n",
       "14   bsFe__XGB_ordinal2_layer1    0.688969    0.697537      0.656812   \n",
       "3    CxxQ__XGB_ordinal2_layer1         NaN    0.692879      0.637460   \n",
       "6              HYNK__NN_layer3         NaN    0.712265      0.602911   \n",
       "0              76iL__NN_layer2         NaN    0.713851      0.562391   \n",
       "\n",
       "              timestamp        seed  nfolds  \\\n",
       "15  2018-07-30 13:11:37         NaN       3   \n",
       "9   2018-07-30 11:54:42         NaN       3   \n",
       "17  2018-07-30 13:11:38         NaN       3   \n",
       "16  2018-07-30 11:53:53         NaN       3   \n",
       "8   2018-07-29 17:43:07         NaN       3   \n",
       "10  2018-07-30 13:11:37         NaN       3   \n",
       "22  2018-07-29 17:36:42         NaN       3   \n",
       "11  2018-07-29 17:42:52  15404721.0       2   \n",
       "7   2018-07-29 17:40:05         NaN       3   \n",
       "23  2018-07-29 17:35:37  31887101.0       2   \n",
       "20  2018-07-29 17:34:27   7407580.0       2   \n",
       "5   2018-07-29 17:39:52  15599973.0       2   \n",
       "21  2018-07-29 17:42:58  21233307.0       2   \n",
       "18  2018-07-29 17:34:33   8808648.0       2   \n",
       "2   2018-07-29 17:40:05         NaN       3   \n",
       "12  2018-07-29 17:35:45  31887101.0       2   \n",
       "19  2018-07-29 17:42:57  16339544.0       2   \n",
       "13  2018-07-29 17:39:57  15599973.0       2   \n",
       "1   2018-07-29 17:39:51  15599973.0       2   \n",
       "4   2018-07-29 17:43:07         NaN       3   \n",
       "14  2018-07-29 17:35:36  31887101.0       2   \n",
       "3   2018-07-29 17:34:33  14459639.0       2   \n",
       "6   2018-07-30 11:54:42         NaN       3   \n",
       "0   2018-07-29 17:36:42         NaN       3   \n",
       "\n",
       "                                    chosen model_data  num_model_data  \n",
       "15  qZAR__LGB | mFju__CATB | CxxQ__XGB | bsFe__XGB...              12  \n",
       "9       qZAR__LGB | wlfr__LGB | D9UD__LGB | S2oN__LGB               4  \n",
       "17      qZAR__LGB | wlfr__LGB | D9UD__LGB | S2oN__LGB               4  \n",
       "16      qZAR__LGB | wlfr__LGB | D9UD__LGB | S2oN__LGB               4  \n",
       "8   AYbJ__XGB | D9UD__LGB | UkLS__CATB | S2oN__LGB...               6  \n",
       "10                              wlfr__LGB | S2oN__LGB               2  \n",
       "22  qZAR__LGB | mFju__CATB | CxxQ__XGB | bsFe__XGB...               6  \n",
       "11                                                NaN               0  \n",
       "7                  AYbJ__XGB | D9UD__LGB | UkLS__CATB               3  \n",
       "23                                                NaN               0  \n",
       "20                                                NaN               0  \n",
       "5                                                 NaN               0  \n",
       "21                                                NaN               0  \n",
       "18                                                NaN               0  \n",
       "2                  AYbJ__XGB | D9UD__LGB | UkLS__CATB               3  \n",
       "12                                                NaN               0  \n",
       "19                                                NaN               0  \n",
       "13                                                NaN               0  \n",
       "1                                                 NaN               0  \n",
       "4   AYbJ__XGB | D9UD__LGB | UkLS__CATB | S2oN__LGB...               6  \n",
       "14                                                NaN               0  \n",
       "3                                                 NaN               0  \n",
       "6       qZAR__LGB | wlfr__LGB | D9UD__LGB | S2oN__LGB               4  \n",
       "0   qZAR__LGB | mFju__CATB | CxxQ__XGB | bsFe__XGB...               6  "
      ]
     },
     "execution_count": 83,
     "metadata": {},
     "output_type": "execute_result"
    }
   ],
   "source": [
    "stacknet_res = pd.read_csv('output/oof/stacknet_report.csv').sort_values(by=['oof_cv_score'], ascending=False)\n",
    "stacknet_res['num_model_data'] = stacknet_res['chosen model_data'].apply(lambda x: len(x.split('|')) if x is not np.nan else 0)\n",
    "stacknet_res"
   ]
  },
  {
   "cell_type": "code",
   "execution_count": null,
   "metadata": {},
   "outputs": [],
   "source": [
    "# 1. oof_cv_score vs. gs_val_auc\n",
    "# for NN, oof_cv_score != gs_val_auc is normal, because gs_val_auc is get by train+val in grid search, while \n",
    "# oof_cv_score is got by nfolds cv\n",
    "# for LGB, if gs_cv is true in config file, then oof_cv_score == gs_val_auc (almost). otherwise, based on the same\n",
    "# reason as NN, oof_cv_score != gs_val_auc is normal \n",
    "\n",
    "# 2. test_score\n",
    "# for NN: the one(not showing in log) is got by train+val and load_weights when doing prediction after grid search\n",
    "# (when do_preds is true in config file), and test_score is got during oof where all trainig data are used. It's \n",
    "# normal that they are not equal\n",
    "# for LGB, since model is retrain using all training data when doing prediction after grid search, the one is not in \n",
    "# log == test_score"
   ]
  },
  {
   "cell_type": "code",
   "execution_count": 77,
   "metadata": {
    "ExecuteTime": {
     "end_time": "2018-07-30T15:26:05.689971Z",
     "start_time": "2018-07-30T15:26:05.663984Z"
    }
   },
   "outputs": [
    {
     "name": "stdout",
     "output_type": "stream",
     "text": [
      "['', '/home/kai/anaconda3/envs/tf_gpu/lib/python35.zip', '/home/kai/anaconda3/envs/tf_gpu/lib/python3.5', '/home/kai/anaconda3/envs/tf_gpu/lib/python3.5/plat-linux', '/home/kai/anaconda3/envs/tf_gpu/lib/python3.5/lib-dynload', '/home/kai/.local/lib/python3.5/site-packages', '/home/kai/anaconda3/envs/tf_gpu/lib/python3.5/site-packages', '/home/kai/anaconda3/envs/tf_gpu/lib/python3.5/site-packages/IPython/extensions', '/home/kai/.ipython', '/home/kai/data/shiyi/AlphaBoosting/automl']\n"
     ]
    }
   ],
   "source": [
    "import os\n",
    "import sys\n",
    "#nb_dir = os.path.split(os.getcwd())[0]\n",
    "#if nb_dir not in sys.path:\n",
    "#    sys.path.append(nb_dir)\n",
    "    \n",
    "autolib_dir = '/home/kai/data/shiyi/AlphaBoosting/automl'\n",
    "if autolib_dir not in sys.path:\n",
    "    sys.path.append(autolib_dir)\n",
    "\n",
    "print(sys.path)\n",
    "\n",
    "%load_ext autoreload\n",
    "%autoreload 2"
   ]
  },
  {
   "cell_type": "code",
   "execution_count": 78,
   "metadata": {
    "ExecuteTime": {
     "end_time": "2018-07-30T15:26:06.885519Z",
     "start_time": "2018-07-30T15:26:05.884937Z"
    }
   },
   "outputs": [
    {
     "name": "stderr",
     "output_type": "stream",
     "text": [
      "/home/kai/anaconda3/envs/tf_gpu/lib/python3.5/site-packages/h5py/__init__.py:36: FutureWarning: Conversion of the second argument of issubdtype from `float` to `np.floating` is deprecated. In future, it will be treated as `np.float64 == np.dtype(float).type`.\n",
      "  from ._conv import register_converters as _register_converters\n",
      "Using TensorFlow backend.\n"
     ]
    }
   ],
   "source": [
    "from automl_libs import BaseLayerResultsRepo"
   ]
  },
  {
   "cell_type": "code",
   "execution_count": 79,
   "metadata": {
    "ExecuteTime": {
     "end_time": "2018-07-30T15:26:07.057700Z",
     "start_time": "2018-07-30T15:26:07.020842Z"
    }
   },
   "outputs": [],
   "source": [
    "repo = BaseLayerResultsRepo(['label'], 'output/oof/', load_from_file=True)"
   ]
  },
  {
   "cell_type": "code",
   "execution_count": 80,
   "metadata": {
    "ExecuteTime": {
     "end_time": "2018-07-30T15:26:08.563612Z",
     "start_time": "2018-07-30T15:26:08.528475Z"
    }
   },
   "outputs": [
    {
     "name": "stdout",
     "output_type": "stream",
     "text": [
      "0.7146899471276421 KBPg__LOGREG_layer2\n",
      "0.7121681805081544 vpeP__LOGREG_layer2\n",
      "0.7079895915409449 S2oN__LGB_ordinal2_layer1\n",
      "0.706068486192415 JBbu__LOGREG_layer2\n",
      "0.7054650156014354 wlfr__LGB_ordinal2_layer1\n",
      "0.7042211871721642 qZAR__LGB_ordinal2_layer1\n",
      "0.7027516979235752 D9UD__LGB_ordinal2_layer1\n",
      "0.69047150751821 qcjp__XGB_ordinal2_layer1\n",
      "0.6900295449740382 mFju__CATB_ordinal2_layer1\n",
      "0.6893625821588822 BFdf__NN_layer2\n",
      "0.6892801409517826 UKDO__CATB_ordinal2_layer1\n",
      "0.688897253712206 olYz__CATB_ordinal2_layer1\n",
      "0.6886861010809897 UkLS__CATB_ordinal2_layer1\n",
      "0.6839137269122242 AYbJ__XGB_ordinal2_layer1\n",
      "0.6810965121440378 D8a2__NN_layer2\n",
      "0.6568122644120544 bsFe__XGB_ordinal2_layer1\n",
      "0.6374596227893377 CxxQ__XGB_ordinal2_layer1\n",
      "0.5623907319752555 76iL__NN_layer2\n"
     ]
    }
   ],
   "source": [
    "for m,s in repo.show_scores():\n",
    "    print(s,m)"
   ]
  },
  {
   "cell_type": "code",
   "execution_count": null,
   "metadata": {
    "ExecuteTime": {
     "end_time": "2018-07-11T17:12:58.168329Z",
     "start_time": "2018-07-11T17:12:58.150985Z"
    }
   },
   "outputs": [],
   "source": [
    "gs_nn_res.head(0).T.to_dict()"
   ]
  },
  {
   "cell_type": "code",
   "execution_count": null,
   "metadata": {
    "ExecuteTime": {
     "end_time": "2018-07-04T01:54:35.687957Z",
     "start_time": "2018-07-04T01:54:35.655463Z"
    }
   },
   "outputs": [],
   "source": [
    "from sklearn.svm import SVC"
   ]
  },
  {
   "cell_type": "code",
   "execution_count": null,
   "metadata": {
    "ExecuteTime": {
     "end_time": "2018-07-04T12:21:51.533355Z",
     "start_time": "2018-07-04T12:21:51.503362Z"
    }
   },
   "outputs": [],
   "source": [
    "from sklearn.svm import LinearSVC\n",
    "from sklearn.calibration import CalibratedClassifierCV"
   ]
  },
  {
   "cell_type": "code",
   "execution_count": null,
   "metadata": {
    "ExecuteTime": {
     "end_time": "2018-07-04T01:54:45.000380Z",
     "start_time": "2018-07-04T01:54:44.969906Z"
    }
   },
   "outputs": [],
   "source": [
    "from sklearn.ensemble import BaggingClassifier"
   ]
  },
  {
   "cell_type": "code",
   "execution_count": null,
   "metadata": {
    "ExecuteTime": {
     "end_time": "2018-07-04T12:22:24.711708Z",
     "start_time": "2018-07-04T12:22:24.681718Z"
    }
   },
   "outputs": [],
   "source": [
    "lsvc = CalibratedClassifierCV(LinearSVC())"
   ]
  },
  {
   "cell_type": "code",
   "execution_count": null,
   "metadata": {
    "ExecuteTime": {
     "end_time": "2018-07-04T12:23:02.546322Z",
     "start_time": "2018-07-04T12:23:02.462317Z"
    }
   },
   "outputs": [],
   "source": [
    "lsvc.fit(np.array([0,1,2,3,4,5]).reshape(-1,1), [1,0,0,1,1,0])"
   ]
  },
  {
   "cell_type": "code",
   "execution_count": null,
   "metadata": {
    "ExecuteTime": {
     "end_time": "2018-07-04T12:23:17.044974Z",
     "start_time": "2018-07-04T12:23:17.014364Z"
    }
   },
   "outputs": [],
   "source": [
    "lsvc.predict_proba(2.22)"
   ]
  },
  {
   "cell_type": "code",
   "execution_count": null,
   "metadata": {
    "ExecuteTime": {
     "end_time": "2018-07-04T02:03:34.058236Z",
     "start_time": "2018-07-04T02:03:34.026747Z"
    }
   },
   "outputs": [],
   "source": [
    "from sklearn.linear_model import LogisticRegression"
   ]
  },
  {
   "cell_type": "code",
   "execution_count": null,
   "metadata": {
    "ExecuteTime": {
     "end_time": "2018-07-04T02:08:22.502419Z",
     "start_time": "2018-07-04T02:08:22.470854Z"
    }
   },
   "outputs": [],
   "source": [
    "svc = SVC(kernel='linear', probability=True)#, class_weight='auto')\n"
   ]
  },
  {
   "cell_type": "code",
   "execution_count": null,
   "metadata": {
    "ExecuteTime": {
     "end_time": "2018-07-04T02:08:35.400777Z",
     "start_time": "2018-07-04T02:08:35.369466Z"
    }
   },
   "outputs": [],
   "source": [
    "svc.fit(np.array([1,2,3,4,5]).reshape(-1,1), [0,0,1,1,0])"
   ]
  },
  {
   "cell_type": "code",
   "execution_count": null,
   "metadata": {
    "ExecuteTime": {
     "end_time": "2018-07-04T02:08:41.067975Z",
     "start_time": "2018-07-04T02:08:41.036081Z"
    }
   },
   "outputs": [],
   "source": [
    "svc.predict_proba(2.22)"
   ]
  },
  {
   "cell_type": "code",
   "execution_count": null,
   "metadata": {},
   "outputs": [],
   "source": [
    "\n"
   ]
  },
  {
   "cell_type": "code",
   "execution_count": null,
   "metadata": {
    "ExecuteTime": {
     "end_time": "2018-07-04T02:10:08.029947Z",
     "start_time": "2018-07-04T02:10:07.999056Z"
    }
   },
   "outputs": [],
   "source": [
    "from sklearn.multiclass import OneVsRestClassifier"
   ]
  },
  {
   "cell_type": "code",
   "execution_count": null,
   "metadata": {
    "ExecuteTime": {
     "end_time": "2018-07-04T02:10:13.430246Z",
     "start_time": "2018-07-04T02:10:13.393712Z"
    }
   },
   "outputs": [],
   "source": [
    "clf = OneVsRestClassifier(BaggingClassifier(svc, max_samples=1.0 / 5, n_estimators=5))\n",
    "clf.fit(np.array([1,2,3,4,5]).reshape(-1,1), [0,0,1,1,0])"
   ]
  },
  {
   "cell_type": "code",
   "execution_count": null,
   "metadata": {
    "ExecuteTime": {
     "end_time": "2018-07-04T02:10:17.578599Z",
     "start_time": "2018-07-04T02:10:17.535354Z"
    }
   },
   "outputs": [],
   "source": [
    "clf.predict_proba(2.22)"
   ]
  },
  {
   "cell_type": "code",
   "execution_count": null,
   "metadata": {},
   "outputs": [],
   "source": []
  }
 ],
 "metadata": {
  "kernelspec": {
   "display_name": "Python 3.5 (tf_gpu)",
   "language": "python",
   "name": "tf_gpu"
  },
  "language_info": {
   "codemirror_mode": {
    "name": "ipython",
    "version": 3
   },
   "file_extension": ".py",
   "mimetype": "text/x-python",
   "name": "python",
   "nbconvert_exporter": "python",
   "pygments_lexer": "ipython3",
   "version": "3.5.5"
  },
  "varInspector": {
   "cols": {
    "lenName": 16,
    "lenType": 16,
    "lenVar": 40
   },
   "kernels_config": {
    "python": {
     "delete_cmd_postfix": "",
     "delete_cmd_prefix": "del ",
     "library": "var_list.py",
     "varRefreshCmd": "print(var_dic_list())"
    },
    "r": {
     "delete_cmd_postfix": ") ",
     "delete_cmd_prefix": "rm(",
     "library": "var_list.r",
     "varRefreshCmd": "cat(var_dic_list()) "
    }
   },
   "types_to_exclude": [
    "module",
    "function",
    "builtin_function_or_method",
    "instance",
    "_Feature"
   ],
   "window_display": false
  }
 },
 "nbformat": 4,
 "nbformat_minor": 2
}
