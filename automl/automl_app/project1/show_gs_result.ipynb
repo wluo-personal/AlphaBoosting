{
 "cells": [
  {
   "cell_type": "code",
   "execution_count": 20,
   "metadata": {
    "ExecuteTime": {
     "end_time": "2018-07-17T01:17:31.574180Z",
     "start_time": "2018-07-17T01:17:31.569069Z"
    }
   },
   "outputs": [
    {
     "name": "stdout",
     "output_type": "stream",
     "text": [
      "xgb_ordinal2_grid_search.csv\n",
      "lgb_grid_search.csv\n",
      "xgb_grid_search.csv\n"
     ]
    }
   ],
   "source": [
    "from os import listdir\n",
    "\n",
    "for filename in listdir('output'):\n",
    "    if '_grid_search' in filename:\n",
    "        print(filename)"
   ]
  },
  {
   "cell_type": "code",
   "execution_count": 16,
   "metadata": {
    "ExecuteTime": {
     "end_time": "2018-07-17T01:14:51.837051Z",
     "start_time": "2018-07-17T01:14:51.801378Z"
    }
   },
   "outputs": [
    {
     "data": {
      "text/html": [
       "<div>\n",
       "<style scoped>\n",
       "    .dataframe tbody tr th:only-of-type {\n",
       "        vertical-align: middle;\n",
       "    }\n",
       "\n",
       "    .dataframe tbody tr th {\n",
       "        vertical-align: top;\n",
       "    }\n",
       "\n",
       "    .dataframe thead th {\n",
       "        text-align: right;\n",
       "    }\n",
       "</style>\n",
       "<table border=\"1\" class=\"dataframe\">\n",
       "  <thead>\n",
       "    <tr style=\"text-align: right;\">\n",
       "      <th></th>\n",
       "      <th>alpha</th>\n",
       "      <th>best_round</th>\n",
       "      <th>booster</th>\n",
       "      <th>colsample_bylevel</th>\n",
       "      <th>colsample_bytree</th>\n",
       "      <th>cv</th>\n",
       "      <th>data_name</th>\n",
       "      <th>early_stopping_rounds</th>\n",
       "      <th>eta</th>\n",
       "      <th>eval_metric</th>\n",
       "      <th>...</th>\n",
       "      <th>num_boost_round</th>\n",
       "      <th>objective</th>\n",
       "      <th>pred_timespent</th>\n",
       "      <th>scale_pos_weight</th>\n",
       "      <th>seed</th>\n",
       "      <th>subsample</th>\n",
       "      <th>timestamp</th>\n",
       "      <th>train_auc</th>\n",
       "      <th>tree_method</th>\n",
       "      <th>val_auc</th>\n",
       "    </tr>\n",
       "  </thead>\n",
       "  <tbody>\n",
       "    <tr>\n",
       "      <th>GBVc</th>\n",
       "      <td>0</td>\n",
       "      <td>10</td>\n",
       "      <td>gbtree</td>\n",
       "      <td>0.675</td>\n",
       "      <td>0.7</td>\n",
       "      <td>True</td>\n",
       "      <td>ordinal</td>\n",
       "      <td>1</td>\n",
       "      <td>0.1</td>\n",
       "      <td>auc</td>\n",
       "      <td>...</td>\n",
       "      <td>50</td>\n",
       "      <td>binary:logistic</td>\n",
       "      <td>0:00:00</td>\n",
       "      <td>1</td>\n",
       "      <td>27322621</td>\n",
       "      <td>0.7</td>\n",
       "      <td>2018-07-15 20:42:55</td>\n",
       "      <td>0.723324</td>\n",
       "      <td>hist</td>\n",
       "      <td>0.704884</td>\n",
       "    </tr>\n",
       "    <tr>\n",
       "      <th>6XfZ</th>\n",
       "      <td>0</td>\n",
       "      <td>4</td>\n",
       "      <td>gbtree</td>\n",
       "      <td>0.675</td>\n",
       "      <td>0.7</td>\n",
       "      <td>NaN</td>\n",
       "      <td>ordinal</td>\n",
       "      <td>1</td>\n",
       "      <td>0.1</td>\n",
       "      <td>auc</td>\n",
       "      <td>...</td>\n",
       "      <td>50</td>\n",
       "      <td>binary:logistic</td>\n",
       "      <td>0:00:00</td>\n",
       "      <td>1</td>\n",
       "      <td>30851426</td>\n",
       "      <td>0.7</td>\n",
       "      <td>2018-07-15 20:42:13</td>\n",
       "      <td>NaN</td>\n",
       "      <td>hist</td>\n",
       "      <td>0.704185</td>\n",
       "    </tr>\n",
       "  </tbody>\n",
       "</table>\n",
       "<p>2 rows × 27 columns</p>\n",
       "</div>"
      ],
      "text/plain": [
       "      alpha  best_round booster  colsample_bylevel  colsample_bytree    cv  \\\n",
       "GBVc      0          10  gbtree              0.675               0.7  True   \n",
       "6XfZ      0           4  gbtree              0.675               0.7   NaN   \n",
       "\n",
       "     data_name  early_stopping_rounds  eta eval_metric    ...     \\\n",
       "GBVc   ordinal                      1  0.1         auc    ...      \n",
       "6XfZ   ordinal                      1  0.1         auc    ...      \n",
       "\n",
       "      num_boost_round        objective  pred_timespent  scale_pos_weight  \\\n",
       "GBVc               50  binary:logistic         0:00:00                 1   \n",
       "6XfZ               50  binary:logistic         0:00:00                 1   \n",
       "\n",
       "          seed  subsample            timestamp  train_auc tree_method  \\\n",
       "GBVc  27322621        0.7  2018-07-15 20:42:55   0.723324        hist   \n",
       "6XfZ  30851426        0.7  2018-07-15 20:42:13        NaN        hist   \n",
       "\n",
       "       val_auc  \n",
       "GBVc  0.704884  \n",
       "6XfZ  0.704185  \n",
       "\n",
       "[2 rows x 27 columns]"
      ]
     },
     "execution_count": 16,
     "metadata": {},
     "output_type": "execute_result"
    }
   ],
   "source": [
    "import pandas as pd\n",
    "\n",
    "gs_xgb_res = pd.read_csv('output/xgb_grid_search.csv', index_col='Unnamed: 0').sort_values(by=['val_auc'], ascending=False)\n",
    "#0.829998\n",
    "gs_xgb_res.head()"
   ]
  },
  {
   "cell_type": "code",
   "execution_count": 13,
   "metadata": {
    "ExecuteTime": {
     "end_time": "2018-07-16T23:44:06.172297Z",
     "start_time": "2018-07-16T23:44:06.136851Z"
    }
   },
   "outputs": [
    {
     "data": {
      "text/html": [
       "<div>\n",
       "<style scoped>\n",
       "    .dataframe tbody tr th:only-of-type {\n",
       "        vertical-align: middle;\n",
       "    }\n",
       "\n",
       "    .dataframe tbody tr th {\n",
       "        vertical-align: top;\n",
       "    }\n",
       "\n",
       "    .dataframe thead th {\n",
       "        text-align: right;\n",
       "    }\n",
       "</style>\n",
       "<table border=\"1\" class=\"dataframe\">\n",
       "  <thead>\n",
       "    <tr style=\"text-align: right;\">\n",
       "      <th></th>\n",
       "      <th>bagging_fraction</th>\n",
       "      <th>bagging_freq</th>\n",
       "      <th>bagging_seed</th>\n",
       "      <th>best_round</th>\n",
       "      <th>boosting</th>\n",
       "      <th>data_name</th>\n",
       "      <th>feature_fraction</th>\n",
       "      <th>feature_fraction_seed</th>\n",
       "      <th>gs_timespent</th>\n",
       "      <th>learning_rate</th>\n",
       "      <th>...</th>\n",
       "      <th>metric</th>\n",
       "      <th>min_data_in_leaf</th>\n",
       "      <th>num_leaves</th>\n",
       "      <th>num_threads</th>\n",
       "      <th>objective</th>\n",
       "      <th>pred_timespent</th>\n",
       "      <th>scale_pos_weight</th>\n",
       "      <th>timestamp</th>\n",
       "      <th>train_auc</th>\n",
       "      <th>val_auc</th>\n",
       "    </tr>\n",
       "  </thead>\n",
       "  <tbody>\n",
       "    <tr>\n",
       "      <th>Ffk4</th>\n",
       "      <td>0.6</td>\n",
       "      <td>1</td>\n",
       "      <td>34750123</td>\n",
       "      <td>10</td>\n",
       "      <td>gbdt</td>\n",
       "      <td>ordinal</td>\n",
       "      <td>1.0</td>\n",
       "      <td>34750123</td>\n",
       "      <td>0:00:01</td>\n",
       "      <td>0.03</td>\n",
       "      <td>...</td>\n",
       "      <td>auc</td>\n",
       "      <td>49</td>\n",
       "      <td>15</td>\n",
       "      <td>8</td>\n",
       "      <td>binary</td>\n",
       "      <td>0:00:01</td>\n",
       "      <td>1</td>\n",
       "      <td>2018-07-15 16:44:03</td>\n",
       "      <td>0.713714</td>\n",
       "      <td>0.709001</td>\n",
       "    </tr>\n",
       "    <tr>\n",
       "      <th>8jnJ</th>\n",
       "      <td>0.7</td>\n",
       "      <td>1</td>\n",
       "      <td>37728384</td>\n",
       "      <td>10</td>\n",
       "      <td>gbdt</td>\n",
       "      <td>ordinal</td>\n",
       "      <td>0.9</td>\n",
       "      <td>37728384</td>\n",
       "      <td>0:00:01</td>\n",
       "      <td>0.03</td>\n",
       "      <td>...</td>\n",
       "      <td>auc</td>\n",
       "      <td>35</td>\n",
       "      <td>15</td>\n",
       "      <td>8</td>\n",
       "      <td>binary</td>\n",
       "      <td>0:00:01</td>\n",
       "      <td>1</td>\n",
       "      <td>2018-07-15 16:44:06</td>\n",
       "      <td>0.710577</td>\n",
       "      <td>0.705660</td>\n",
       "    </tr>\n",
       "  </tbody>\n",
       "</table>\n",
       "<p>2 rows × 21 columns</p>\n",
       "</div>"
      ],
      "text/plain": [
       "      bagging_fraction  bagging_freq  bagging_seed  best_round boosting  \\\n",
       "Ffk4               0.6             1      34750123          10     gbdt   \n",
       "8jnJ               0.7             1      37728384          10     gbdt   \n",
       "\n",
       "     data_name  feature_fraction  feature_fraction_seed gs_timespent  \\\n",
       "Ffk4   ordinal               1.0               34750123      0:00:01   \n",
       "8jnJ   ordinal               0.9               37728384      0:00:01   \n",
       "\n",
       "      learning_rate    ...     metric min_data_in_leaf  num_leaves  \\\n",
       "Ffk4           0.03    ...        auc               49          15   \n",
       "8jnJ           0.03    ...        auc               35          15   \n",
       "\n",
       "      num_threads  objective pred_timespent scale_pos_weight  \\\n",
       "Ffk4            8     binary        0:00:01                1   \n",
       "8jnJ            8     binary        0:00:01                1   \n",
       "\n",
       "                timestamp train_auc   val_auc  \n",
       "Ffk4  2018-07-15 16:44:03  0.713714  0.709001  \n",
       "8jnJ  2018-07-15 16:44:06  0.710577  0.705660  \n",
       "\n",
       "[2 rows x 21 columns]"
      ]
     },
     "execution_count": 13,
     "metadata": {},
     "output_type": "execute_result"
    }
   ],
   "source": [
    "import pandas as pd\n",
    "\n",
    "gs_lgb_res = pd.read_csv('output/lgb_grid_search.csv', index_col='Unnamed: 0').sort_values(by=['val_auc'], ascending=False)\n",
    "#0.829998\n",
    "gs_lgb_res.head()"
   ]
  },
  {
   "cell_type": "code",
   "execution_count": null,
   "metadata": {
    "ExecuteTime": {
     "end_time": "2018-07-12T15:52:38.682833Z",
     "start_time": "2018-07-12T15:52:38.650256Z"
    }
   },
   "outputs": [],
   "source": [
    "import pandas as pd\n",
    "\n",
    "gs_nn_res = pd.read_csv('output/nn_grid_search.csv', index_col='Unnamed: 0').sort_values(by=['val_auc'], ascending=False)\n",
    "#0.829998\n",
    "gs_nn_res.head()"
   ]
  },
  {
   "cell_type": "code",
   "execution_count": 21,
   "metadata": {
    "ExecuteTime": {
     "end_time": "2018-07-17T01:34:46.909686Z",
     "start_time": "2018-07-17T01:34:46.889103Z"
    }
   },
   "outputs": [
    {
     "data": {
      "text/html": [
       "<div>\n",
       "<style scoped>\n",
       "    .dataframe tbody tr th:only-of-type {\n",
       "        vertical-align: middle;\n",
       "    }\n",
       "\n",
       "    .dataframe tbody tr th {\n",
       "        vertical-align: top;\n",
       "    }\n",
       "\n",
       "    .dataframe thead th {\n",
       "        text-align: right;\n",
       "    }\n",
       "</style>\n",
       "<table border=\"1\" class=\"dataframe\">\n",
       "  <thead>\n",
       "    <tr style=\"text-align: right;\">\n",
       "      <th></th>\n",
       "      <th>model_data</th>\n",
       "      <th>oof_cv_score</th>\n",
       "      <th>gs_val_auc</th>\n",
       "      <th>test_score</th>\n",
       "      <th>chosen model_data</th>\n",
       "    </tr>\n",
       "  </thead>\n",
       "  <tbody>\n",
       "    <tr>\n",
       "      <th>2</th>\n",
       "      <td>6XfZ__XGB_ordinal_layer1</td>\n",
       "      <td>0.701390</td>\n",
       "      <td>0.704185</td>\n",
       "      <td>0.695748</td>\n",
       "      <td>NaN</td>\n",
       "    </tr>\n",
       "    <tr>\n",
       "      <th>3</th>\n",
       "      <td>8jnJ__LGB_ordinal_layer1</td>\n",
       "      <td>0.703990</td>\n",
       "      <td>0.705660</td>\n",
       "      <td>0.701363</td>\n",
       "      <td>NaN</td>\n",
       "    </tr>\n",
       "    <tr>\n",
       "      <th>4</th>\n",
       "      <td>Ffk4__LGB_ordinal_layer1</td>\n",
       "      <td>0.706644</td>\n",
       "      <td>0.709001</td>\n",
       "      <td>0.703259</td>\n",
       "      <td>NaN</td>\n",
       "    </tr>\n",
       "    <tr>\n",
       "      <th>5</th>\n",
       "      <td>GBVc__XGB_ordinal_layer1</td>\n",
       "      <td>0.706701</td>\n",
       "      <td>0.704884</td>\n",
       "      <td>0.702174</td>\n",
       "      <td>NaN</td>\n",
       "    </tr>\n",
       "    <tr>\n",
       "      <th>1</th>\n",
       "      <td>5tVU__LOGREG_layer2</td>\n",
       "      <td>0.710273</td>\n",
       "      <td>NaN</td>\n",
       "      <td>0.707142</td>\n",
       "      <td>Ffk4__LGB | 8jnJ__LGB | GBVc__XGB | 6XfZ__XGB</td>\n",
       "    </tr>\n",
       "    <tr>\n",
       "      <th>7</th>\n",
       "      <td>syXQ__XGB_ordinal2_layer1</td>\n",
       "      <td>0.721421</td>\n",
       "      <td>0.723826</td>\n",
       "      <td>0.715759</td>\n",
       "      <td>NaN</td>\n",
       "    </tr>\n",
       "    <tr>\n",
       "      <th>0</th>\n",
       "      <td>38jO__XGB_ordinal2_layer1</td>\n",
       "      <td>0.723022</td>\n",
       "      <td>0.723393</td>\n",
       "      <td>0.715607</td>\n",
       "      <td>NaN</td>\n",
       "    </tr>\n",
       "    <tr>\n",
       "      <th>6</th>\n",
       "      <td>Gy79__LOGREG_layer2</td>\n",
       "      <td>0.724136</td>\n",
       "      <td>NaN</td>\n",
       "      <td>0.719037</td>\n",
       "      <td>Ffk4__LGB | 8jnJ__LGB | GBVc__XGB | 6XfZ__XGB ...</td>\n",
       "    </tr>\n",
       "  </tbody>\n",
       "</table>\n",
       "</div>"
      ],
      "text/plain": [
       "                  model_data  oof_cv_score  gs_val_auc  test_score  \\\n",
       "2   6XfZ__XGB_ordinal_layer1      0.701390    0.704185    0.695748   \n",
       "3   8jnJ__LGB_ordinal_layer1      0.703990    0.705660    0.701363   \n",
       "4   Ffk4__LGB_ordinal_layer1      0.706644    0.709001    0.703259   \n",
       "5   GBVc__XGB_ordinal_layer1      0.706701    0.704884    0.702174   \n",
       "1        5tVU__LOGREG_layer2      0.710273         NaN    0.707142   \n",
       "7  syXQ__XGB_ordinal2_layer1      0.721421    0.723826    0.715759   \n",
       "0  38jO__XGB_ordinal2_layer1      0.723022    0.723393    0.715607   \n",
       "6        Gy79__LOGREG_layer2      0.724136         NaN    0.719037   \n",
       "\n",
       "                                   chosen model_data  \n",
       "2                                                NaN  \n",
       "3                                                NaN  \n",
       "4                                                NaN  \n",
       "5                                                NaN  \n",
       "1      Ffk4__LGB | 8jnJ__LGB | GBVc__XGB | 6XfZ__XGB  \n",
       "7                                                NaN  \n",
       "0                                                NaN  \n",
       "6  Ffk4__LGB | 8jnJ__LGB | GBVc__XGB | 6XfZ__XGB ...  "
      ]
     },
     "execution_count": 21,
     "metadata": {},
     "output_type": "execute_result"
    }
   ],
   "source": [
    "stacknet_res = pd.read_csv('output/oof/stacknet_report.csv').sort_values(by=['oof_cv_score'])\n",
    "stacknet_res"
   ]
  },
  {
   "cell_type": "code",
   "execution_count": null,
   "metadata": {
    "ExecuteTime": {
     "end_time": "2018-07-14T04:28:45.040374Z",
     "start_time": "2018-07-14T04:28:45.032066Z"
    }
   },
   "outputs": [],
   "source": [
    "stacknet_res['chosen model_data']"
   ]
  },
  {
   "cell_type": "code",
   "execution_count": null,
   "metadata": {},
   "outputs": [],
   "source": [
    "# 1. oof_cv_score vs. gs_val_auc\n",
    "# for NN, oof_cv_score != gs_val_auc is normal, because gs_val_auc is get by train+val in grid search, while \n",
    "# oof_cv_score is got by nfolds cv\n",
    "# for LGB, if gs_cv is true in config file, then oof_cv_score == gs_val_auc (almost). otherwise, based on the same\n",
    "# reason as NN, oof_cv_score != gs_val_auc is normal \n",
    "\n",
    "# 2. test_score\n",
    "# for NN: the one(not showing in log) is got by train+val and load_weights when doing prediction after grid search\n",
    "# (when do_preds is true in config file), and test_score is got during oof where all trainig data are used. It's \n",
    "# normal that they are not equal\n",
    "# for LGB, since model is retrain using all training data when doing prediction after grid search, the one is not in \n",
    "# log == test_score"
   ]
  },
  {
   "cell_type": "code",
   "execution_count": null,
   "metadata": {
    "ExecuteTime": {
     "end_time": "2018-07-11T19:14:48.588701Z",
     "start_time": "2018-07-11T19:14:48.565148Z"
    }
   },
   "outputs": [],
   "source": [
    "import os\n",
    "import sys\n",
    "#nb_dir = os.path.split(os.getcwd())[0]\n",
    "#if nb_dir not in sys.path:\n",
    "#    sys.path.append(nb_dir)\n",
    "    \n",
    "autolib_dir = '/home/kai/data/shiyi/AlphaBoosting/automl'\n",
    "if autolib_dir not in sys.path:\n",
    "    sys.path.append(autolib_dir)\n",
    "\n",
    "print(sys.path)\n",
    "\n",
    "%load_ext autoreload\n",
    "%autoreload 2"
   ]
  },
  {
   "cell_type": "code",
   "execution_count": null,
   "metadata": {
    "ExecuteTime": {
     "end_time": "2018-07-01T02:36:46.687291Z",
     "start_time": "2018-07-01T02:36:46.655578Z"
    }
   },
   "outputs": [],
   "source": [
    "from automl_libs import BaseLayerResultsRepo"
   ]
  },
  {
   "cell_type": "code",
   "execution_count": null,
   "metadata": {
    "ExecuteTime": {
     "end_time": "2018-07-01T02:36:46.939196Z",
     "start_time": "2018-07-01T02:36:46.890890Z"
    }
   },
   "outputs": [],
   "source": [
    "repo = BaseLayerResultsRepo(['label'], 'output/oof/', load_from_file=True)"
   ]
  },
  {
   "cell_type": "code",
   "execution_count": null,
   "metadata": {
    "ExecuteTime": {
     "end_time": "2018-07-01T02:36:47.250712Z",
     "start_time": "2018-07-01T02:36:47.219616Z"
    }
   },
   "outputs": [],
   "source": [
    "for m,s in repo.show_scores():\n",
    "    print(s,m)"
   ]
  },
  {
   "cell_type": "code",
   "execution_count": null,
   "metadata": {
    "ExecuteTime": {
     "end_time": "2018-07-11T17:12:58.168329Z",
     "start_time": "2018-07-11T17:12:58.150985Z"
    }
   },
   "outputs": [],
   "source": [
    "gs_nn_res.head(0).T.to_dict()"
   ]
  },
  {
   "cell_type": "code",
   "execution_count": null,
   "metadata": {
    "ExecuteTime": {
     "end_time": "2018-07-04T01:54:35.687957Z",
     "start_time": "2018-07-04T01:54:35.655463Z"
    }
   },
   "outputs": [],
   "source": [
    "from sklearn.svm import SVC"
   ]
  },
  {
   "cell_type": "code",
   "execution_count": null,
   "metadata": {
    "ExecuteTime": {
     "end_time": "2018-07-04T12:21:51.533355Z",
     "start_time": "2018-07-04T12:21:51.503362Z"
    }
   },
   "outputs": [],
   "source": [
    "from sklearn.svm import LinearSVC\n",
    "from sklearn.calibration import CalibratedClassifierCV"
   ]
  },
  {
   "cell_type": "code",
   "execution_count": null,
   "metadata": {
    "ExecuteTime": {
     "end_time": "2018-07-04T01:54:45.000380Z",
     "start_time": "2018-07-04T01:54:44.969906Z"
    }
   },
   "outputs": [],
   "source": [
    "from sklearn.ensemble import BaggingClassifier"
   ]
  },
  {
   "cell_type": "code",
   "execution_count": null,
   "metadata": {
    "ExecuteTime": {
     "end_time": "2018-07-04T12:22:24.711708Z",
     "start_time": "2018-07-04T12:22:24.681718Z"
    }
   },
   "outputs": [],
   "source": [
    "lsvc = CalibratedClassifierCV(LinearSVC())"
   ]
  },
  {
   "cell_type": "code",
   "execution_count": null,
   "metadata": {
    "ExecuteTime": {
     "end_time": "2018-07-04T12:23:02.546322Z",
     "start_time": "2018-07-04T12:23:02.462317Z"
    }
   },
   "outputs": [],
   "source": [
    "lsvc.fit(np.array([0,1,2,3,4,5]).reshape(-1,1), [1,0,0,1,1,0])"
   ]
  },
  {
   "cell_type": "code",
   "execution_count": null,
   "metadata": {
    "ExecuteTime": {
     "end_time": "2018-07-04T12:23:17.044974Z",
     "start_time": "2018-07-04T12:23:17.014364Z"
    }
   },
   "outputs": [],
   "source": [
    "lsvc.predict_proba(2.22)"
   ]
  },
  {
   "cell_type": "code",
   "execution_count": null,
   "metadata": {
    "ExecuteTime": {
     "end_time": "2018-07-04T02:03:34.058236Z",
     "start_time": "2018-07-04T02:03:34.026747Z"
    }
   },
   "outputs": [],
   "source": [
    "from sklearn.linear_model import LogisticRegression"
   ]
  },
  {
   "cell_type": "code",
   "execution_count": null,
   "metadata": {
    "ExecuteTime": {
     "end_time": "2018-07-04T02:08:22.502419Z",
     "start_time": "2018-07-04T02:08:22.470854Z"
    }
   },
   "outputs": [],
   "source": [
    "svc = SVC(kernel='linear', probability=True)#, class_weight='auto')\n"
   ]
  },
  {
   "cell_type": "code",
   "execution_count": null,
   "metadata": {
    "ExecuteTime": {
     "end_time": "2018-07-04T02:08:35.400777Z",
     "start_time": "2018-07-04T02:08:35.369466Z"
    }
   },
   "outputs": [],
   "source": [
    "svc.fit(np.array([1,2,3,4,5]).reshape(-1,1), [0,0,1,1,0])"
   ]
  },
  {
   "cell_type": "code",
   "execution_count": null,
   "metadata": {
    "ExecuteTime": {
     "end_time": "2018-07-04T02:08:41.067975Z",
     "start_time": "2018-07-04T02:08:41.036081Z"
    }
   },
   "outputs": [],
   "source": [
    "svc.predict_proba(2.22)"
   ]
  },
  {
   "cell_type": "code",
   "execution_count": null,
   "metadata": {},
   "outputs": [],
   "source": [
    "\n"
   ]
  },
  {
   "cell_type": "code",
   "execution_count": null,
   "metadata": {
    "ExecuteTime": {
     "end_time": "2018-07-04T02:10:08.029947Z",
     "start_time": "2018-07-04T02:10:07.999056Z"
    }
   },
   "outputs": [],
   "source": [
    "from sklearn.multiclass import OneVsRestClassifier"
   ]
  },
  {
   "cell_type": "code",
   "execution_count": null,
   "metadata": {
    "ExecuteTime": {
     "end_time": "2018-07-04T02:10:13.430246Z",
     "start_time": "2018-07-04T02:10:13.393712Z"
    }
   },
   "outputs": [],
   "source": [
    "clf = OneVsRestClassifier(BaggingClassifier(svc, max_samples=1.0 / 5, n_estimators=5))\n",
    "clf.fit(np.array([1,2,3,4,5]).reshape(-1,1), [0,0,1,1,0])"
   ]
  },
  {
   "cell_type": "code",
   "execution_count": null,
   "metadata": {
    "ExecuteTime": {
     "end_time": "2018-07-04T02:10:17.578599Z",
     "start_time": "2018-07-04T02:10:17.535354Z"
    }
   },
   "outputs": [],
   "source": [
    "clf.predict_proba(2.22)"
   ]
  },
  {
   "cell_type": "code",
   "execution_count": null,
   "metadata": {},
   "outputs": [],
   "source": []
  }
 ],
 "metadata": {
  "kernelspec": {
   "display_name": "Python 3.5 (tf_gpu)",
   "language": "python",
   "name": "tf_gpu"
  },
  "language_info": {
   "codemirror_mode": {
    "name": "ipython",
    "version": 3
   },
   "file_extension": ".py",
   "mimetype": "text/x-python",
   "name": "python",
   "nbconvert_exporter": "python",
   "pygments_lexer": "ipython3",
   "version": "3.5.5"
  },
  "varInspector": {
   "cols": {
    "lenName": 16,
    "lenType": 16,
    "lenVar": 40
   },
   "kernels_config": {
    "python": {
     "delete_cmd_postfix": "",
     "delete_cmd_prefix": "del ",
     "library": "var_list.py",
     "varRefreshCmd": "print(var_dic_list())"
    },
    "r": {
     "delete_cmd_postfix": ") ",
     "delete_cmd_prefix": "rm(",
     "library": "var_list.r",
     "varRefreshCmd": "cat(var_dic_list()) "
    }
   },
   "types_to_exclude": [
    "module",
    "function",
    "builtin_function_or_method",
    "instance",
    "_Feature"
   ],
   "window_display": false
  }
 },
 "nbformat": 4,
 "nbformat_minor": 2
}
