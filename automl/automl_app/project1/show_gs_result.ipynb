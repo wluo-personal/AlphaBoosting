{
 "cells": [
  {
   "cell_type": "code",
   "execution_count": 25,
   "metadata": {
    "ExecuteTime": {
     "end_time": "2018-06-28T22:13:53.513849Z",
     "start_time": "2018-06-28T22:13:53.482932Z"
    }
   },
   "outputs": [
    {
     "data": {
      "text/html": [
       "<div>\n",
       "<style scoped>\n",
       "    .dataframe tbody tr th:only-of-type {\n",
       "        vertical-align: middle;\n",
       "    }\n",
       "\n",
       "    .dataframe tbody tr th {\n",
       "        vertical-align: top;\n",
       "    }\n",
       "\n",
       "    .dataframe thead th {\n",
       "        text-align: right;\n",
       "    }\n",
       "</style>\n",
       "<table border=\"1\" class=\"dataframe\">\n",
       "  <thead>\n",
       "    <tr style=\"text-align: right;\">\n",
       "      <th></th>\n",
       "      <th>bagging_fraction</th>\n",
       "      <th>bagging_freq</th>\n",
       "      <th>bagging_seed</th>\n",
       "      <th>best_round</th>\n",
       "      <th>boosting</th>\n",
       "      <th>feature_fraction</th>\n",
       "      <th>feature_fraction_seed</th>\n",
       "      <th>gs_timespent</th>\n",
       "      <th>learning_rate</th>\n",
       "      <th>max_depth</th>\n",
       "      <th>metric</th>\n",
       "      <th>min_data_in_leaf</th>\n",
       "      <th>num_leaves</th>\n",
       "      <th>num_threads</th>\n",
       "      <th>objective</th>\n",
       "      <th>pred_timespent</th>\n",
       "      <th>scale_pos_weight</th>\n",
       "      <th>timestamp</th>\n",
       "      <th>train_auc</th>\n",
       "      <th>val_auc</th>\n",
       "    </tr>\n",
       "  </thead>\n",
       "  <tbody>\n",
       "    <tr>\n",
       "      <th>1530224002</th>\n",
       "      <td>0.8</td>\n",
       "      <td>1</td>\n",
       "      <td>23892211</td>\n",
       "      <td>20</td>\n",
       "      <td>gbdt</td>\n",
       "      <td>1.0</td>\n",
       "      <td>23892211</td>\n",
       "      <td>0:00:01</td>\n",
       "      <td>0.10</td>\n",
       "      <td>-1</td>\n",
       "      <td>auc</td>\n",
       "      <td>34</td>\n",
       "      <td>15</td>\n",
       "      <td>8</td>\n",
       "      <td>binary</td>\n",
       "      <td>0:00:02</td>\n",
       "      <td>1</td>\n",
       "      <td>2018-06-28 18:13:22</td>\n",
       "      <td>0.727692</td>\n",
       "      <td>0.724557</td>\n",
       "    </tr>\n",
       "    <tr>\n",
       "      <th>1530220352</th>\n",
       "      <td>0.8</td>\n",
       "      <td>1</td>\n",
       "      <td>37460974</td>\n",
       "      <td>8</td>\n",
       "      <td>gbdt</td>\n",
       "      <td>0.9</td>\n",
       "      <td>37460974</td>\n",
       "      <td>0:00:02</td>\n",
       "      <td>0.03</td>\n",
       "      <td>-1</td>\n",
       "      <td>auc</td>\n",
       "      <td>41</td>\n",
       "      <td>31</td>\n",
       "      <td>8</td>\n",
       "      <td>binary</td>\n",
       "      <td>0:00:03</td>\n",
       "      <td>1</td>\n",
       "      <td>2018-06-28 17:12:32</td>\n",
       "      <td>0.726405</td>\n",
       "      <td>0.723331</td>\n",
       "    </tr>\n",
       "    <tr>\n",
       "      <th>1530220336</th>\n",
       "      <td>0.6</td>\n",
       "      <td>1</td>\n",
       "      <td>21771510</td>\n",
       "      <td>20</td>\n",
       "      <td>gbdt</td>\n",
       "      <td>1.0</td>\n",
       "      <td>21771510</td>\n",
       "      <td>0:00:08</td>\n",
       "      <td>0.03</td>\n",
       "      <td>-1</td>\n",
       "      <td>auc</td>\n",
       "      <td>24</td>\n",
       "      <td>31</td>\n",
       "      <td>8</td>\n",
       "      <td>binary</td>\n",
       "      <td>0:00:05</td>\n",
       "      <td>1</td>\n",
       "      <td>2018-06-28 17:12:16</td>\n",
       "      <td>0.725626</td>\n",
       "      <td>0.721848</td>\n",
       "    </tr>\n",
       "  </tbody>\n",
       "</table>\n",
       "</div>"
      ],
      "text/plain": [
       "            bagging_fraction  bagging_freq  bagging_seed  best_round boosting  \\\n",
       "1530224002               0.8             1      23892211          20     gbdt   \n",
       "1530220352               0.8             1      37460974           8     gbdt   \n",
       "1530220336               0.6             1      21771510          20     gbdt   \n",
       "\n",
       "            feature_fraction  feature_fraction_seed gs_timespent  \\\n",
       "1530224002               1.0               23892211      0:00:01   \n",
       "1530220352               0.9               37460974      0:00:02   \n",
       "1530220336               1.0               21771510      0:00:08   \n",
       "\n",
       "            learning_rate  max_depth metric  min_data_in_leaf  num_leaves  \\\n",
       "1530224002           0.10         -1    auc                34          15   \n",
       "1530220352           0.03         -1    auc                41          31   \n",
       "1530220336           0.03         -1    auc                24          31   \n",
       "\n",
       "            num_threads objective pred_timespent  scale_pos_weight  \\\n",
       "1530224002            8    binary        0:00:02                 1   \n",
       "1530220352            8    binary        0:00:03                 1   \n",
       "1530220336            8    binary        0:00:05                 1   \n",
       "\n",
       "                      timestamp  train_auc   val_auc  \n",
       "1530224002  2018-06-28 18:13:22   0.727692  0.724557  \n",
       "1530220352  2018-06-28 17:12:32   0.726405  0.723331  \n",
       "1530220336  2018-06-28 17:12:16   0.725626  0.721848  "
      ]
     },
     "execution_count": 25,
     "metadata": {},
     "output_type": "execute_result"
    }
   ],
   "source": [
    "import pandas as pd\n",
    "\n",
    "gs_res = pd.read_csv('output/lgb_grid_search.csv', index_col='Unnamed: 0').sort_values(by=['val_auc'], ascending=False)\n",
    "#0.829998\n",
    "gs_res.head()"
   ]
  },
  {
   "cell_type": "code",
   "execution_count": 37,
   "metadata": {
    "ExecuteTime": {
     "end_time": "2018-06-30T02:55:00.657080Z",
     "start_time": "2018-06-30T02:55:00.623182Z"
    }
   },
   "outputs": [
    {
     "data": {
      "text/html": [
       "<div>\n",
       "<style scoped>\n",
       "    .dataframe tbody tr th:only-of-type {\n",
       "        vertical-align: middle;\n",
       "    }\n",
       "\n",
       "    .dataframe tbody tr th {\n",
       "        vertical-align: top;\n",
       "    }\n",
       "\n",
       "    .dataframe thead th {\n",
       "        text-align: right;\n",
       "    }\n",
       "</style>\n",
       "<table border=\"1\" class=\"dataframe\">\n",
       "  <thead>\n",
       "    <tr style=\"text-align: right;\">\n",
       "      <th></th>\n",
       "      <th>batch_size</th>\n",
       "      <th>best_epoch</th>\n",
       "      <th>cat_emb_outdim</th>\n",
       "      <th>combined_dense_n_layers</th>\n",
       "      <th>dense_units</th>\n",
       "      <th>drop_rate</th>\n",
       "      <th>ep_for_lr</th>\n",
       "      <th>gs_timespent</th>\n",
       "      <th>lr_fin</th>\n",
       "      <th>lr_init</th>\n",
       "      <th>...</th>\n",
       "      <th>nn_seed</th>\n",
       "      <th>num_dense_n_layers</th>\n",
       "      <th>patience</th>\n",
       "      <th>pred_batch_size</th>\n",
       "      <th>timestamp</th>\n",
       "      <th>trn_acc</th>\n",
       "      <th>trn_loss</th>\n",
       "      <th>val_acc</th>\n",
       "      <th>val_auc</th>\n",
       "      <th>val_loss</th>\n",
       "    </tr>\n",
       "  </thead>\n",
       "  <tbody>\n",
       "    <tr>\n",
       "      <th>1530326907</th>\n",
       "      <td>2048</td>\n",
       "      <td>3</td>\n",
       "      <td>50</td>\n",
       "      <td>2</td>\n",
       "      <td>100</td>\n",
       "      <td>0.2</td>\n",
       "      <td>1</td>\n",
       "      <td>0:00:22</td>\n",
       "      <td>0.005</td>\n",
       "      <td>0.01</td>\n",
       "      <td>...</td>\n",
       "      <td>19912166</td>\n",
       "      <td>1</td>\n",
       "      <td>1</td>\n",
       "      <td>100000</td>\n",
       "      <td>2018-06-29 22:48:27</td>\n",
       "      <td>0.817582</td>\n",
       "      <td>0.428683</td>\n",
       "      <td>0.815200</td>\n",
       "      <td>0.742643</td>\n",
       "      <td>0.428638</td>\n",
       "    </tr>\n",
       "    <tr>\n",
       "      <th>1530326931</th>\n",
       "      <td>1024</td>\n",
       "      <td>3</td>\n",
       "      <td>50</td>\n",
       "      <td>2</td>\n",
       "      <td>100</td>\n",
       "      <td>0.2</td>\n",
       "      <td>1</td>\n",
       "      <td>0:00:32</td>\n",
       "      <td>0.005</td>\n",
       "      <td>0.01</td>\n",
       "      <td>...</td>\n",
       "      <td>43425591</td>\n",
       "      <td>1</td>\n",
       "      <td>1</td>\n",
       "      <td>100000</td>\n",
       "      <td>2018-06-29 22:48:51</td>\n",
       "      <td>0.818520</td>\n",
       "      <td>0.427667</td>\n",
       "      <td>0.817455</td>\n",
       "      <td>0.741529</td>\n",
       "      <td>0.435228</td>\n",
       "    </tr>\n",
       "    <tr>\n",
       "      <th>1530326964</th>\n",
       "      <td>64</td>\n",
       "      <td>2</td>\n",
       "      <td>50</td>\n",
       "      <td>2</td>\n",
       "      <td>100</td>\n",
       "      <td>0.2</td>\n",
       "      <td>1</td>\n",
       "      <td>0:05:27</td>\n",
       "      <td>0.005</td>\n",
       "      <td>0.01</td>\n",
       "      <td>...</td>\n",
       "      <td>32089756</td>\n",
       "      <td>1</td>\n",
       "      <td>1</td>\n",
       "      <td>100000</td>\n",
       "      <td>2018-06-29 22:49:24</td>\n",
       "      <td>0.813452</td>\n",
       "      <td>0.441144</td>\n",
       "      <td>0.816245</td>\n",
       "      <td>0.731598</td>\n",
       "      <td>0.431953</td>\n",
       "    </tr>\n",
       "  </tbody>\n",
       "</table>\n",
       "<p>3 rows × 23 columns</p>\n",
       "</div>"
      ],
      "text/plain": [
       "            batch_size  best_epoch  cat_emb_outdim  combined_dense_n_layers  \\\n",
       "1530326907        2048           3              50                        2   \n",
       "1530326931        1024           3              50                        2   \n",
       "1530326964          64           2              50                        2   \n",
       "\n",
       "            dense_units  drop_rate  ep_for_lr gs_timespent  lr_fin  lr_init  \\\n",
       "1530326907          100        0.2          1      0:00:22   0.005     0.01   \n",
       "1530326931          100        0.2          1      0:00:32   0.005     0.01   \n",
       "1530326964          100        0.2          1      0:05:27   0.005     0.01   \n",
       "\n",
       "              ...      nn_seed num_dense_n_layers patience  pred_batch_size  \\\n",
       "1530326907    ...     19912166                  1        1           100000   \n",
       "1530326931    ...     43425591                  1        1           100000   \n",
       "1530326964    ...     32089756                  1        1           100000   \n",
       "\n",
       "                      timestamp   trn_acc  trn_loss   val_acc   val_auc  \\\n",
       "1530326907  2018-06-29 22:48:27  0.817582  0.428683  0.815200  0.742643   \n",
       "1530326931  2018-06-29 22:48:51  0.818520  0.427667  0.817455  0.741529   \n",
       "1530326964  2018-06-29 22:49:24  0.813452  0.441144  0.816245  0.731598   \n",
       "\n",
       "            val_loss  \n",
       "1530326907  0.428638  \n",
       "1530326931  0.435228  \n",
       "1530326964  0.431953  \n",
       "\n",
       "[3 rows x 23 columns]"
      ]
     },
     "execution_count": 37,
     "metadata": {},
     "output_type": "execute_result"
    }
   ],
   "source": [
    "import pandas as pd\n",
    "\n",
    "gs_nn_res = pd.read_csv('output/nn_grid_search.csv', index_col='Unnamed: 0').sort_values(by=['val_auc'], ascending=False)\n",
    "#0.829998\n",
    "gs_nn_res.head()"
   ]
  },
  {
   "cell_type": "code",
   "execution_count": 27,
   "metadata": {
    "ExecuteTime": {
     "end_time": "2018-06-29T15:46:05.857199Z",
     "start_time": "2018-06-29T15:46:05.853425Z"
    }
   },
   "outputs": [],
   "source": [
    "from os import listdir"
   ]
  },
  {
   "cell_type": "code",
   "execution_count": 30,
   "metadata": {
    "ExecuteTime": {
     "end_time": "2018-06-29T15:47:16.964066Z",
     "start_time": "2018-06-29T15:47:16.958936Z"
    }
   },
   "outputs": [
    {
     "name": "stdout",
     "output_type": "stream",
     "text": [
      "nn_grid_search.csv\n",
      "lgb_grid_search.csv\n"
     ]
    }
   ],
   "source": [
    "for filename in listdir('output'):\n",
    "    if '_grid_search' in filename:\n",
    "        print(filename)"
   ]
  },
  {
   "cell_type": "code",
   "execution_count": 2,
   "metadata": {
    "ExecuteTime": {
     "end_time": "2018-06-28T17:41:08.235254Z",
     "start_time": "2018-06-28T17:41:08.227007Z"
    }
   },
   "outputs": [
    {
     "data": {
      "text/plain": [
       "{1530207552: {'bagging_fraction': 0.5,\n",
       "  'bagging_freq': 1,\n",
       "  'bagging_seed': 38625225,\n",
       "  'best_round': 38,\n",
       "  'boosting': 'gbdt',\n",
       "  'cv': True,\n",
       "  'feature_fraction': 0.9,\n",
       "  'feature_fraction_seed': 38625225,\n",
       "  'gs_timespent': '0:00:00',\n",
       "  'learning_rate': 0.1,\n",
       "  'max_depth': -1,\n",
       "  'metric': 'auc',\n",
       "  'min_data_in_leaf': 27,\n",
       "  'num_leaves': 31,\n",
       "  'num_threads': 8,\n",
       "  'objective': 'binary',\n",
       "  'pred_timespent': '0:00:00',\n",
       "  'scale_pos_weight': 1,\n",
       "  'timestamp': '2018-06-28 13:39:12',\n",
       "  'val_auc': 0.7091430993869628}}"
      ]
     },
     "execution_count": 2,
     "metadata": {},
     "output_type": "execute_result"
    }
   ],
   "source": [
    "gs_res.head(1).T.to_dict()"
   ]
  },
  {
   "cell_type": "code",
   "execution_count": 4,
   "metadata": {
    "ExecuteTime": {
     "end_time": "2018-06-30T20:17:18.875976Z",
     "start_time": "2018-06-30T20:17:18.855076Z"
    }
   },
   "outputs": [
    {
     "name": "stdout",
     "output_type": "stream",
     "text": [
      "['', '/home/kai/anaconda3/envs/tf_gpu/lib/python35.zip', '/home/kai/anaconda3/envs/tf_gpu/lib/python3.5', '/home/kai/anaconda3/envs/tf_gpu/lib/python3.5/plat-linux', '/home/kai/anaconda3/envs/tf_gpu/lib/python3.5/lib-dynload', '/home/kai/.local/lib/python3.5/site-packages', '/home/kai/anaconda3/envs/tf_gpu/lib/python3.5/site-packages', '/home/kai/anaconda3/envs/tf_gpu/lib/python3.5/site-packages/IPython/extensions', '/home/kai/.ipython', '/home/kai/data/shiyi/AlphaBoosting/automl']\n",
      "The autoreload extension is already loaded. To reload it, use:\n",
      "  %reload_ext autoreload\n"
     ]
    }
   ],
   "source": [
    "import os\n",
    "import sys\n",
    "#nb_dir = os.path.split(os.getcwd())[0]\n",
    "#if nb_dir not in sys.path:\n",
    "#    sys.path.append(nb_dir)\n",
    "    \n",
    "autolib_dir = '/home/kai/data/shiyi/AlphaBoosting/automl'\n",
    "if autolib_dir not in sys.path:\n",
    "    sys.path.append(autolib_dir)\n",
    "\n",
    "print(sys.path)\n",
    "\n",
    "%load_ext autoreload\n",
    "%autoreload 2"
   ]
  },
  {
   "cell_type": "code",
   "execution_count": 5,
   "metadata": {
    "ExecuteTime": {
     "end_time": "2018-06-30T20:18:50.329454Z",
     "start_time": "2018-06-30T20:18:49.472549Z"
    }
   },
   "outputs": [
    {
     "name": "stderr",
     "output_type": "stream",
     "text": [
      "/home/kai/anaconda3/envs/tf_gpu/lib/python3.5/site-packages/h5py/__init__.py:36: FutureWarning: Conversion of the second argument of issubdtype from `float` to `np.floating` is deprecated. In future, it will be treated as `np.float64 == np.dtype(float).type`.\n",
      "  from ._conv import register_converters as _register_converters\n",
      "Using TensorFlow backend.\n"
     ]
    }
   ],
   "source": [
    "from automl_libs import base_layer_utils as blu"
   ]
  },
  {
   "cell_type": "code",
   "execution_count": 7,
   "metadata": {
    "ExecuteTime": {
     "end_time": "2018-06-30T20:22:38.828677Z",
     "start_time": "2018-06-30T20:22:38.766152Z"
    }
   },
   "outputs": [],
   "source": [
    "repo = blu.BaseLayerResultsRepo(['label'], 'output/oof/', load_from_file=True)"
   ]
  },
  {
   "cell_type": "code",
   "execution_count": 11,
   "metadata": {
    "ExecuteTime": {
     "end_time": "2018-06-30T20:23:36.296684Z",
     "start_time": "2018-06-30T20:23:36.267448Z"
    }
   },
   "outputs": [
    {
     "name": "stdout",
     "output_type": "stream",
     "text": [
      "0.7621241587000874 1530381245__LGB_flight_data_ordinal\n",
      "0.7541122477540971 1530364935__LGB_flight_data_ordinal\n",
      "0.7460086589335362 1530327561__NN_flight_data_ordinal\n",
      "0.7432652326810536 1530327467__NN_flight_data_ordinal\n",
      "0.74264254569453 1530326907__NN_flight_data_ordinal\n",
      "0.7378028863291071 1530362171__LGB_flight_data_ordinal\n",
      "0.7339866937021454 1530362195__LGB_flight_data_ordinal\n"
     ]
    }
   ],
   "source": [
    "for m,s in repo.show_scores():\n",
    "    print(s,m)"
   ]
  },
  {
   "cell_type": "code",
   "execution_count": null,
   "metadata": {},
   "outputs": [],
   "source": []
  }
 ],
 "metadata": {
  "kernelspec": {
   "display_name": "Python 3.5 (tf_gpu)",
   "language": "python",
   "name": "tf_gpu"
  },
  "language_info": {
   "codemirror_mode": {
    "name": "ipython",
    "version": 3
   },
   "file_extension": ".py",
   "mimetype": "text/x-python",
   "name": "python",
   "nbconvert_exporter": "python",
   "pygments_lexer": "ipython3",
   "version": "3.5.5"
  },
  "varInspector": {
   "cols": {
    "lenName": 16,
    "lenType": 16,
    "lenVar": 40
   },
   "kernels_config": {
    "python": {
     "delete_cmd_postfix": "",
     "delete_cmd_prefix": "del ",
     "library": "var_list.py",
     "varRefreshCmd": "print(var_dic_list())"
    },
    "r": {
     "delete_cmd_postfix": ") ",
     "delete_cmd_prefix": "rm(",
     "library": "var_list.r",
     "varRefreshCmd": "cat(var_dic_list()) "
    }
   },
   "types_to_exclude": [
    "module",
    "function",
    "builtin_function_or_method",
    "instance",
    "_Feature"
   ],
   "window_display": false
  }
 },
 "nbformat": 4,
 "nbformat_minor": 2
}
