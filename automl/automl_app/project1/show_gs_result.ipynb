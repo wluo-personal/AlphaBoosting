{
 "cells": [
  {
   "cell_type": "code",
   "execution_count": 25,
   "metadata": {
    "ExecuteTime": {
     "end_time": "2018-06-28T22:13:53.513849Z",
     "start_time": "2018-06-28T22:13:53.482932Z"
    }
   },
   "outputs": [
    {
     "data": {
      "text/html": [
       "<div>\n",
       "<style scoped>\n",
       "    .dataframe tbody tr th:only-of-type {\n",
       "        vertical-align: middle;\n",
       "    }\n",
       "\n",
       "    .dataframe tbody tr th {\n",
       "        vertical-align: top;\n",
       "    }\n",
       "\n",
       "    .dataframe thead th {\n",
       "        text-align: right;\n",
       "    }\n",
       "</style>\n",
       "<table border=\"1\" class=\"dataframe\">\n",
       "  <thead>\n",
       "    <tr style=\"text-align: right;\">\n",
       "      <th></th>\n",
       "      <th>bagging_fraction</th>\n",
       "      <th>bagging_freq</th>\n",
       "      <th>bagging_seed</th>\n",
       "      <th>best_round</th>\n",
       "      <th>boosting</th>\n",
       "      <th>feature_fraction</th>\n",
       "      <th>feature_fraction_seed</th>\n",
       "      <th>gs_timespent</th>\n",
       "      <th>learning_rate</th>\n",
       "      <th>max_depth</th>\n",
       "      <th>metric</th>\n",
       "      <th>min_data_in_leaf</th>\n",
       "      <th>num_leaves</th>\n",
       "      <th>num_threads</th>\n",
       "      <th>objective</th>\n",
       "      <th>pred_timespent</th>\n",
       "      <th>scale_pos_weight</th>\n",
       "      <th>timestamp</th>\n",
       "      <th>train_auc</th>\n",
       "      <th>val_auc</th>\n",
       "    </tr>\n",
       "  </thead>\n",
       "  <tbody>\n",
       "    <tr>\n",
       "      <th>1530224002</th>\n",
       "      <td>0.8</td>\n",
       "      <td>1</td>\n",
       "      <td>23892211</td>\n",
       "      <td>20</td>\n",
       "      <td>gbdt</td>\n",
       "      <td>1.0</td>\n",
       "      <td>23892211</td>\n",
       "      <td>0:00:01</td>\n",
       "      <td>0.10</td>\n",
       "      <td>-1</td>\n",
       "      <td>auc</td>\n",
       "      <td>34</td>\n",
       "      <td>15</td>\n",
       "      <td>8</td>\n",
       "      <td>binary</td>\n",
       "      <td>0:00:02</td>\n",
       "      <td>1</td>\n",
       "      <td>2018-06-28 18:13:22</td>\n",
       "      <td>0.727692</td>\n",
       "      <td>0.724557</td>\n",
       "    </tr>\n",
       "    <tr>\n",
       "      <th>1530220352</th>\n",
       "      <td>0.8</td>\n",
       "      <td>1</td>\n",
       "      <td>37460974</td>\n",
       "      <td>8</td>\n",
       "      <td>gbdt</td>\n",
       "      <td>0.9</td>\n",
       "      <td>37460974</td>\n",
       "      <td>0:00:02</td>\n",
       "      <td>0.03</td>\n",
       "      <td>-1</td>\n",
       "      <td>auc</td>\n",
       "      <td>41</td>\n",
       "      <td>31</td>\n",
       "      <td>8</td>\n",
       "      <td>binary</td>\n",
       "      <td>0:00:03</td>\n",
       "      <td>1</td>\n",
       "      <td>2018-06-28 17:12:32</td>\n",
       "      <td>0.726405</td>\n",
       "      <td>0.723331</td>\n",
       "    </tr>\n",
       "    <tr>\n",
       "      <th>1530220336</th>\n",
       "      <td>0.6</td>\n",
       "      <td>1</td>\n",
       "      <td>21771510</td>\n",
       "      <td>20</td>\n",
       "      <td>gbdt</td>\n",
       "      <td>1.0</td>\n",
       "      <td>21771510</td>\n",
       "      <td>0:00:08</td>\n",
       "      <td>0.03</td>\n",
       "      <td>-1</td>\n",
       "      <td>auc</td>\n",
       "      <td>24</td>\n",
       "      <td>31</td>\n",
       "      <td>8</td>\n",
       "      <td>binary</td>\n",
       "      <td>0:00:05</td>\n",
       "      <td>1</td>\n",
       "      <td>2018-06-28 17:12:16</td>\n",
       "      <td>0.725626</td>\n",
       "      <td>0.721848</td>\n",
       "    </tr>\n",
       "  </tbody>\n",
       "</table>\n",
       "</div>"
      ],
      "text/plain": [
       "            bagging_fraction  bagging_freq  bagging_seed  best_round boosting  \\\n",
       "1530224002               0.8             1      23892211          20     gbdt   \n",
       "1530220352               0.8             1      37460974           8     gbdt   \n",
       "1530220336               0.6             1      21771510          20     gbdt   \n",
       "\n",
       "            feature_fraction  feature_fraction_seed gs_timespent  \\\n",
       "1530224002               1.0               23892211      0:00:01   \n",
       "1530220352               0.9               37460974      0:00:02   \n",
       "1530220336               1.0               21771510      0:00:08   \n",
       "\n",
       "            learning_rate  max_depth metric  min_data_in_leaf  num_leaves  \\\n",
       "1530224002           0.10         -1    auc                34          15   \n",
       "1530220352           0.03         -1    auc                41          31   \n",
       "1530220336           0.03         -1    auc                24          31   \n",
       "\n",
       "            num_threads objective pred_timespent  scale_pos_weight  \\\n",
       "1530224002            8    binary        0:00:02                 1   \n",
       "1530220352            8    binary        0:00:03                 1   \n",
       "1530220336            8    binary        0:00:05                 1   \n",
       "\n",
       "                      timestamp  train_auc   val_auc  \n",
       "1530224002  2018-06-28 18:13:22   0.727692  0.724557  \n",
       "1530220352  2018-06-28 17:12:32   0.726405  0.723331  \n",
       "1530220336  2018-06-28 17:12:16   0.725626  0.721848  "
      ]
     },
     "execution_count": 25,
     "metadata": {},
     "output_type": "execute_result"
    }
   ],
   "source": [
    "import pandas as pd\n",
    "\n",
    "gs_res = pd.read_csv('output/lgb_grid_search.csv', index_col='Unnamed: 0').sort_values(by=['val_auc'], ascending=False)\n",
    "#0.829998\n",
    "gs_res.head()"
   ]
  },
  {
   "cell_type": "code",
   "execution_count": 2,
   "metadata": {
    "ExecuteTime": {
     "end_time": "2018-06-28T17:41:08.235254Z",
     "start_time": "2018-06-28T17:41:08.227007Z"
    }
   },
   "outputs": [
    {
     "data": {
      "text/plain": [
       "{1530207552: {'bagging_fraction': 0.5,\n",
       "  'bagging_freq': 1,\n",
       "  'bagging_seed': 38625225,\n",
       "  'best_round': 38,\n",
       "  'boosting': 'gbdt',\n",
       "  'cv': True,\n",
       "  'feature_fraction': 0.9,\n",
       "  'feature_fraction_seed': 38625225,\n",
       "  'gs_timespent': '0:00:00',\n",
       "  'learning_rate': 0.1,\n",
       "  'max_depth': -1,\n",
       "  'metric': 'auc',\n",
       "  'min_data_in_leaf': 27,\n",
       "  'num_leaves': 31,\n",
       "  'num_threads': 8,\n",
       "  'objective': 'binary',\n",
       "  'pred_timespent': '0:00:00',\n",
       "  'scale_pos_weight': 1,\n",
       "  'timestamp': '2018-06-28 13:39:12',\n",
       "  'val_auc': 0.7091430993869628}}"
      ]
     },
     "execution_count": 2,
     "metadata": {},
     "output_type": "execute_result"
    }
   ],
   "source": [
    "gs_res.head(1).T.to_dict()"
   ]
  },
  {
   "cell_type": "code",
   "execution_count": 9,
   "metadata": {
    "ExecuteTime": {
     "end_time": "2018-06-15T17:22:09.734976Z",
     "start_time": "2018-06-15T17:22:09.726069Z"
    }
   },
   "outputs": [
    {
     "data": {
      "text/plain": [
       "1529021613        NaN\n",
       "1529016426        NaN\n",
       "1529018698        NaN\n",
       "1529038836        NaN\n",
       "1529079354        NaN\n",
       "1529078964        NaN\n",
       "1529080397    0:01:21\n",
       "1529080656    0:01:10\n",
       "1529005138        NaN\n",
       "1529078391        NaN\n",
       "1529014439        NaN\n",
       "1529014419        NaN\n",
       "1529014400        NaN\n",
       "1529005975        NaN\n",
       "1529014454        NaN\n",
       "1529007956        NaN\n",
       "1529006206        NaN\n",
       "1529014393        NaN\n",
       "1529014412        NaN\n",
       "1529014409        NaN\n",
       "1529007953        NaN\n",
       "1529005557        NaN\n",
       "1529014159        NaN\n",
       "1529006204        NaN\n",
       "1529014405        NaN\n",
       "1529005829        NaN\n",
       "1529014458        NaN\n",
       "1529005980        NaN\n",
       "1529010730        NaN\n",
       "1529014416        NaN\n",
       "1529014398        NaN\n",
       "1529010729        NaN\n",
       "1529014162        NaN\n",
       "1529005826        NaN\n",
       "1529014434        NaN\n",
       "Name: pred_timespent, dtype: object"
      ]
     },
     "execution_count": 9,
     "metadata": {},
     "output_type": "execute_result"
    }
   ],
   "source": [
    "#gs_res.gs_timespent\n",
    "gs_res.pred_timespent"
   ]
  },
  {
   "cell_type": "code",
   "execution_count": 1,
   "metadata": {
    "ExecuteTime": {
     "end_time": "2018-06-22T16:32:56.800716Z",
     "start_time": "2018-06-22T16:32:56.614881Z"
    }
   },
   "outputs": [],
   "source": [
    "import pandas as pd"
   ]
  },
  {
   "cell_type": "code",
   "execution_count": 2,
   "metadata": {
    "ExecuteTime": {
     "end_time": "2018-06-22T16:32:56.856105Z",
     "start_time": "2018-06-22T16:32:56.848546Z"
    }
   },
   "outputs": [
    {
     "data": {
      "text/plain": [
       "'0.23.1'"
      ]
     },
     "execution_count": 2,
     "metadata": {},
     "output_type": "execute_result"
    }
   ],
   "source": [
    "pd.__version__"
   ]
  },
  {
   "cell_type": "code",
   "execution_count": 23,
   "metadata": {
    "ExecuteTime": {
     "end_time": "2018-06-28T21:11:10.519823Z",
     "start_time": "2018-06-28T21:11:10.510689Z"
    }
   },
   "outputs": [
    {
     "data": {
      "text/plain": [
       "'Model'"
      ]
     },
     "execution_count": 23,
     "metadata": {},
     "output_type": "execute_result"
    }
   ],
   "source": [
    "'Model__131'.split('__')[0]"
   ]
  },
  {
   "cell_type": "code",
   "execution_count": null,
   "metadata": {},
   "outputs": [],
   "source": []
  }
 ],
 "metadata": {
  "kernelspec": {
   "display_name": "Python 3.5 (tf_gpu)",
   "language": "python",
   "name": "tf_gpu"
  },
  "language_info": {
   "codemirror_mode": {
    "name": "ipython",
    "version": 3
   },
   "file_extension": ".py",
   "mimetype": "text/x-python",
   "name": "python",
   "nbconvert_exporter": "python",
   "pygments_lexer": "ipython3",
   "version": "3.5.5"
  },
  "varInspector": {
   "cols": {
    "lenName": 16,
    "lenType": 16,
    "lenVar": 40
   },
   "kernels_config": {
    "python": {
     "delete_cmd_postfix": "",
     "delete_cmd_prefix": "del ",
     "library": "var_list.py",
     "varRefreshCmd": "print(var_dic_list())"
    },
    "r": {
     "delete_cmd_postfix": ") ",
     "delete_cmd_prefix": "rm(",
     "library": "var_list.r",
     "varRefreshCmd": "cat(var_dic_list()) "
    }
   },
   "types_to_exclude": [
    "module",
    "function",
    "builtin_function_or_method",
    "instance",
    "_Feature"
   ],
   "window_display": false
  }
 },
 "nbformat": 4,
 "nbformat_minor": 2
}
