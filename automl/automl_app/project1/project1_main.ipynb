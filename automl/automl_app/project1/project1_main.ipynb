{
 "cells": [
  {
   "cell_type": "code",
   "execution_count": 1,
   "metadata": {
    "ExecuteTime": {
     "end_time": "2018-06-20T19:36:11.397170Z",
     "start_time": "2018-06-20T19:36:11.387748Z"
    },
    "collapsed": true
   },
   "outputs": [],
   "source": [
    "import os\n",
    "import sys\n",
    "#nb_dir = os.path.split(os.getcwd())[0]\n",
    "#if nb_dir not in sys.path:\n",
    "#    sys.path.append(nb_dir)\n",
    "    \n",
    "autolib_dir = '/home/kai/data/shiyi/AlphaBoosting/automl'\n",
    "if autolib_dir not in sys.path:\n",
    "    sys.path.append(autolib_dir)\n"
   ]
  },
  {
   "cell_type": "code",
   "execution_count": 2,
   "metadata": {
    "ExecuteTime": {
     "end_time": "2018-06-20T19:36:11.419589Z",
     "start_time": "2018-06-20T19:36:11.399800Z"
    }
   },
   "outputs": [
    {
     "data": {
      "text/plain": [
       "['',\n",
       " '/home/kai/anaconda3/envs/tf_gpu/lib/python35.zip',\n",
       " '/home/kai/anaconda3/envs/tf_gpu/lib/python3.5',\n",
       " '/home/kai/anaconda3/envs/tf_gpu/lib/python3.5/plat-linux',\n",
       " '/home/kai/anaconda3/envs/tf_gpu/lib/python3.5/lib-dynload',\n",
       " '/home/kai/.local/lib/python3.5/site-packages',\n",
       " '/home/kai/anaconda3/envs/tf_gpu/lib/python3.5/site-packages',\n",
       " '/home/kai/anaconda3/envs/tf_gpu/lib/python3.5/site-packages/cycler-0.10.0-py3.5.egg',\n",
       " '/home/kai/anaconda3/envs/tf_gpu/lib/python3.5/site-packages/IPython/extensions',\n",
       " '/home/kai/.ipython',\n",
       " '/home/kai/data/shiyi/AlphaBoosting/automl']"
      ]
     },
     "execution_count": 2,
     "metadata": {},
     "output_type": "execute_result"
    }
   ],
   "source": [
    "sys.path"
   ]
  },
  {
   "cell_type": "code",
   "execution_count": 3,
   "metadata": {
    "ExecuteTime": {
     "end_time": "2018-06-20T19:36:11.436335Z",
     "start_time": "2018-06-20T19:36:11.421971Z"
    },
    "collapsed": true
   },
   "outputs": [],
   "source": [
    "%load_ext autoreload"
   ]
  },
  {
   "cell_type": "code",
   "execution_count": 4,
   "metadata": {
    "ExecuteTime": {
     "end_time": "2018-06-20T19:36:11.440433Z",
     "start_time": "2018-06-20T19:36:11.438277Z"
    },
    "collapsed": true
   },
   "outputs": [],
   "source": [
    "%autoreload 2"
   ]
  },
  {
   "cell_type": "code",
   "execution_count": 5,
   "metadata": {
    "ExecuteTime": {
     "end_time": "2018-06-20T19:36:11.641472Z",
     "start_time": "2018-06-20T19:36:11.442028Z"
    },
    "collapsed": true
   },
   "outputs": [],
   "source": [
    "from automl_libs import feature_engineering as fe\n",
    "from automl_libs import encoding, kernels, nn_libs "
   ]
  },
  {
   "cell_type": "code",
   "execution_count": 6,
   "metadata": {
    "ExecuteTime": {
     "end_time": "2018-06-20T19:36:11.651042Z",
     "start_time": "2018-06-20T19:36:11.643004Z"
    },
    "collapsed": true
   },
   "outputs": [],
   "source": [
    "categorical_features = ['Month', 'DayofMonth', 'DayOfWeek']#, 'DepTime', 'UniqueCarrier', 'Origin', 'Dest', 'Distance']"
   ]
  },
  {
   "cell_type": "code",
   "execution_count": 7,
   "metadata": {
    "ExecuteTime": {
     "end_time": "2018-06-20T19:36:11.673481Z",
     "start_time": "2018-06-20T19:36:11.652880Z"
    }
   },
   "outputs": [
    {
     "data": {
      "text/plain": [
       "[{'feature_cols': ['Month', 'DayofMonth'],\n",
       "  'function': <function automl_libs.feature_engineering.count>,\n",
       "  'params': {}},\n",
       " {'feature_cols': ['Month', 'DayOfWeek'],\n",
       "  'function': <function automl_libs.feature_engineering.count>,\n",
       "  'params': {}},\n",
       " {'feature_cols': ['DayofMonth', 'DayOfWeek'],\n",
       "  'function': <function automl_libs.feature_engineering.count>,\n",
       "  'params': {}},\n",
       " {'feature_cols': ['Month', 'DayofMonth', 'DayOfWeek'],\n",
       "  'function': <function automl_libs.feature_engineering.count>,\n",
       "  'params': {}}]"
      ]
     },
     "execution_count": 7,
     "metadata": {},
     "output_type": "execute_result"
    }
   ],
   "source": [
    "import itertools\n",
    "#params = {'split_col': 't', 'coefficient': 10, 'n': 2, 'fillna': 22}\n",
    "def get_features_to_gen(function_list):\n",
    "    features_to_gen = []\n",
    "    for function in function_list:\n",
    "        for i in range(2, len(categorical_features)+1):\n",
    "            for combine in itertools.combinations(categorical_features, i):\n",
    "                if function.__name__ == 'count_std_over_mean':\n",
    "                    features_to_gen.append({'params': {'coefficient': 10}, 'function': function, 'feature_cols': list(combine)})\n",
    "                else:\n",
    "                    features_to_gen.append({'params': {}, 'function': function, 'feature_cols': list(combine)})\n",
    "                \n",
    "    return features_to_gen\n",
    "\n",
    "#features_to_gen = get_features_to_gen([fe.count, fe.unique_count, fe.cumulative_count,\n",
    "#                                      fe.reverse_cumulative_count, fe.variance, fe.count_std_over_mean])\n",
    "features_to_gen = get_features_to_gen([fe.count])\n",
    "\n",
    "features_to_gen"
   ]
  },
  {
   "cell_type": "code",
   "execution_count": 8,
   "metadata": {
    "ExecuteTime": {
     "end_time": "2018-06-20T19:36:11.683750Z",
     "start_time": "2018-06-20T19:36:11.674792Z"
    }
   },
   "outputs": [
    {
     "data": {
      "text/plain": [
       "4"
      ]
     },
     "execution_count": 8,
     "metadata": {},
     "output_type": "execute_result"
    }
   ],
   "source": [
    "len(features_to_gen)"
   ]
  },
  {
   "cell_type": "code",
   "execution_count": 9,
   "metadata": {
    "ExecuteTime": {
     "end_time": "2018-06-20T19:36:11.693229Z",
     "start_time": "2018-06-20T19:36:11.685018Z"
    },
    "collapsed": true
   },
   "outputs": [],
   "source": [
    "project_path = '/home/kai/data/shiyi/AlphaBoosting/automl/automl_app/project1/' "
   ]
  },
  {
   "cell_type": "code",
   "execution_count": 10,
   "metadata": {
    "ExecuteTime": {
     "end_time": "2018-06-20T19:36:11.703700Z",
     "start_time": "2018-06-20T19:36:11.694531Z"
    },
    "collapsed": true
   },
   "outputs": [],
   "source": [
    "from automl_app import logger_config\n",
    "\n",
    "logger_config.config(project_path+'log_project1.log')"
   ]
  },
  {
   "cell_type": "code",
   "execution_count": 90,
   "metadata": {
    "ExecuteTime": {
     "end_time": "2018-06-22T01:53:18.902041Z",
     "start_time": "2018-06-22T01:53:18.857543Z"
    },
    "collapsed": true
   },
   "outputs": [],
   "source": [
    "def gs_params_gen(model='lgb'):\n",
    "    import time\n",
    "    import numpy as np\n",
    "    seed = int(time.time()* 1000000) % 45234634\n",
    "    np.random.seed(seed)\n",
    "    if model == 'lgb':\n",
    "        params = {    \n",
    "            'objective': 'binary',\n",
    "            'boosting': 'gbdt',\n",
    "            'num_rounds': 20,\n",
    "            'learning_rate': np.random.choice([0.1,0.03]),#0.001]),\n",
    "            'num_leaves': np.random.choice([15,31,61,127]),\n",
    "            'num_threads': 8, # best speed: set to number of real cpu cores, which is vCPU/2\n",
    "            'max_depth': -1, # no limit. This is used to deal with over-fitting when #data is small.\n",
    "            'min_data_in_leaf': np.random.randint(20,50),  #minimal number of data in one leaf. \n",
    "            'feature_fraction': np.random.randint(4,11)/10,\n",
    "            'feature_fraction_seed': seed,\n",
    "            'early_stopping_round':70,\n",
    "            'bagging_freq': 1, #0 means disable bagging. k: perform bagging at every k iteration\n",
    "            'bagging_fraction': np.random.randint(4,11)/10, #Randomly select part of data \n",
    "            'bagging_seed': seed,\n",
    "            'scale_pos_weight': 2,\n",
    "            'metric' : 'auc' \n",
    "        }\n",
    "    elif model == 'nn':\n",
    "        params = {\n",
    "            'nn_seed': int(time.time() * 1000000) % 45234634,\n",
    "            'epochs_for_lr': 1,\n",
    "            'lr_init': 0.01,\n",
    "            'lr_fin': 0.005,\n",
    "            'batch_size': np.random.choice([32, 64, 128, 256, 512, 1024, 2048]),\n",
    "            'max_epochs': 1,\n",
    "            'patience': 5,\n",
    "            'cate_embedding_dimension': 50,\n",
    "            'dense_units': 50,\n",
    "            'dense_numerical_n_layers': 1,\n",
    "            'drop_rate': 0.2,\n",
    "            'combined_dense_n_layers': 1\n",
    "        }\n",
    "    return params, seed"
   ]
  },
  {
   "cell_type": "code",
   "execution_count": 12,
   "metadata": {
    "ExecuteTime": {
     "end_time": "2018-06-20T19:36:11.730664Z",
     "start_time": "2018-06-20T19:36:11.721417Z"
    }
   },
   "outputs": [
    {
     "data": {
      "text/plain": [
       "({'bagging_fraction': 0.5,\n",
       "  'bagging_freq': 1,\n",
       "  'bagging_seed': 33118970,\n",
       "  'boosting': 'gbdt',\n",
       "  'early_stopping_round': 70,\n",
       "  'feature_fraction': 0.4,\n",
       "  'feature_fraction_seed': 33118970,\n",
       "  'learning_rate': 0.1,\n",
       "  'max_depth': -1,\n",
       "  'metric': 'auc',\n",
       "  'min_data_in_leaf': 35,\n",
       "  'num_leaves': 31,\n",
       "  'num_rounds': 20,\n",
       "  'num_threads': 8,\n",
       "  'objective': 'binary',\n",
       "  'scale_pos_weight': 2},\n",
       " 33118970)"
      ]
     },
     "execution_count": 12,
     "metadata": {},
     "output_type": "execute_result"
    }
   ],
   "source": [
    "lgb_gs_params_gen()"
   ]
  },
  {
   "cell_type": "code",
   "execution_count": null,
   "metadata": {
    "ExecuteTime": {
     "start_time": "2018-06-22T02:25:51.670Z"
    },
    "scrolled": false
   },
   "outputs": [
    {
     "name": "stderr",
     "output_type": "stream",
     "text": [
      "2018-06-21 22:25:51 EST | INFO     | automl_app.app.AlphaBoosting                 | __init__             | #57  | Run record file [./output/last_run_record.json] found. Continue from the previous run...\n",
      "2018-06-21 22:25:51 EST | INFO     | automl_app.app.AlphaBoosting                 | __init__             | #87  | save run record\n",
      "2018-06-21 22:25:51 EST | INFO     | automl_app.app.AlphaBoosting                 | _save_run_record     | #152 | val index is saved at ./temp_data/val_index.pkl\n",
      "2018-06-21 22:25:51 EST | INFO     | automl_app.app.AlphaBoosting                 | _save_run_record     | #154 | run record is saved at ./output/last_run_record.json\n",
      "2018-06-21 22:25:52 EST | INFO     | automl_app.app.AlphaBoosting                 | __init__             | #91  | generate todo list\n",
      "2018-06-21 22:25:52 EST | INFO     | automl_app.app.AlphaBoosting                 | __init__             | #107 | feature engineering\n",
      "2018-06-21 22:25:52 EST | INFO     | automl_app.app.AlphaBoosting                 | __init__             | #111 | validation\n",
      "2018-06-21 22:25:52 EST | INFO     | automl_app.app.AlphaBoosting                 | __init__             | #115 | concat test\n",
      "2018-06-21 22:25:53 EST | INFO     | automl_app.app.AlphaBoosting                 | __init__             | #119 | grid search\n",
      "2018-06-21 22:25:54 EST | DEBUG    | automl_libs.nn_libs                          | get_model            | #38  | prepare col [Dest] for NN\n",
      "2018-06-21 22:25:54 EST | DEBUG    | automl_libs.nn_libs                          | get_model            | #39  | embed input dimension: 293\n",
      "2018-06-21 22:25:54 EST | DEBUG    | automl_libs.nn_libs                          | get_model            | #40  | embed output dimension: 50\n",
      "2018-06-21 22:25:54 EST | DEBUG    | automl_libs.nn_libs                          | get_model            | #38  | prepare col [Origin] for NN\n",
      "2018-06-21 22:25:54 EST | DEBUG    | automl_libs.nn_libs                          | get_model            | #39  | embed input dimension: 292\n",
      "2018-06-21 22:25:54 EST | DEBUG    | automl_libs.nn_libs                          | get_model            | #40  | embed output dimension: 50\n",
      "2018-06-21 22:25:54 EST | DEBUG    | automl_libs.nn_libs                          | get_model            | #38  | prepare col [UniqueCarrier] for NN\n",
      "2018-06-21 22:25:54 EST | DEBUG    | automl_libs.nn_libs                          | get_model            | #39  | embed input dimension: 23\n",
      "2018-06-21 22:25:54 EST | DEBUG    | automl_libs.nn_libs                          | get_model            | #40  | embed output dimension: 50\n",
      "2018-06-21 22:25:54 EST | DEBUG    | automl_libs.nn_libs                          | get_model            | #38  | prepare col [DepTime] for NN\n",
      "2018-06-21 22:25:54 EST | DEBUG    | automl_libs.nn_libs                          | get_model            | #39  | embed input dimension: 27\n",
      "2018-06-21 22:25:54 EST | DEBUG    | automl_libs.nn_libs                          | get_model            | #40  | embed output dimension: 50\n",
      "2018-06-21 22:25:54 EST | DEBUG    | automl_libs.nn_libs                          | get_model            | #38  | prepare col [Month] for NN\n",
      "2018-06-21 22:25:54 EST | DEBUG    | automl_libs.nn_libs                          | get_model            | #39  | embed input dimension: 13\n",
      "2018-06-21 22:25:54 EST | DEBUG    | automl_libs.nn_libs                          | get_model            | #40  | embed output dimension: 50\n",
      "2018-06-21 22:25:54 EST | DEBUG    | automl_libs.nn_libs                          | get_model            | #38  | prepare col [DayOfWeek] for NN\n",
      "2018-06-21 22:25:54 EST | DEBUG    | automl_libs.nn_libs                          | get_model            | #39  | embed input dimension: 8\n",
      "2018-06-21 22:25:54 EST | DEBUG    | automl_libs.nn_libs                          | get_model            | #40  | embed output dimension: 50\n",
      "2018-06-21 22:25:54 EST | DEBUG    | automl_libs.nn_libs                          | get_model            | #38  | prepare col [Distance] for NN\n",
      "2018-06-21 22:25:54 EST | DEBUG    | automl_libs.nn_libs                          | get_model            | #39  | embed input dimension: 10\n",
      "2018-06-21 22:25:54 EST | DEBUG    | automl_libs.nn_libs                          | get_model            | #40  | embed output dimension: 50\n",
      "2018-06-21 22:25:54 EST | DEBUG    | automl_libs.nn_libs                          | get_model            | #38  | prepare col [DayofMonth] for NN\n",
      "2018-06-21 22:25:54 EST | DEBUG    | automl_libs.nn_libs                          | get_model            | #39  | embed input dimension: 32\n",
      "2018-06-21 22:25:54 EST | DEBUG    | automl_libs.nn_libs                          | get_model            | #40  | embed output dimension: 50\n",
      "2018-06-21 22:25:55 EST | DEBUG    | automl_libs.nn_libs                          | get_model            | #81  | steps in on epoch: 19\n",
      "2018-06-21 22:25:55 EST | DEBUG    | automl_libs.nn_libs                          | get_model            | #82  | steps for lr decay: 19\n",
      "2018-06-21 22:25:55 EST | DEBUG    | automl_libs.nn_libs                          | get_model            | #83  | lr decay: 0.039259\n"
     ]
    },
    {
     "name": "stdout",
     "output_type": "stream",
     "text": [
      "__________________________________________________________________________________________________\n",
      "Layer (type)                    Output Shape         Param #     Connected to                     \n",
      "==================================================================================================\n",
      "Dest (InputLayer)               (None, 1)            0                                            \n",
      "__________________________________________________________________________________________________\n",
      "Origin (InputLayer)             (None, 1)            0                                            \n",
      "__________________________________________________________________________________________________\n",
      "UniqueCarrier (InputLayer)      (None, 1)            0                                            \n",
      "__________________________________________________________________________________________________\n",
      "DepTime (InputLayer)            (None, 1)            0                                            \n",
      "__________________________________________________________________________________________________\n",
      "Month (InputLayer)              (None, 1)            0                                            \n",
      "__________________________________________________________________________________________________\n",
      "DayOfWeek (InputLayer)          (None, 1)            0                                            \n",
      "__________________________________________________________________________________________________\n",
      "Distance (InputLayer)           (None, 1)            0                                            \n",
      "__________________________________________________________________________________________________\n",
      "DayofMonth (InputLayer)         (None, 1)            0                                            \n",
      "__________________________________________________________________________________________________\n",
      "numerical_features (InputLayer) (None, 4)            0                                            \n",
      "__________________________________________________________________________________________________\n",
      "embedding_537 (Embedding)       (None, 1, 50)        14650       Dest[0][0]                       \n",
      "__________________________________________________________________________________________________\n",
      "embedding_538 (Embedding)       (None, 1, 50)        14600       Origin[0][0]                     \n",
      "__________________________________________________________________________________________________\n",
      "embedding_539 (Embedding)       (None, 1, 50)        1150        UniqueCarrier[0][0]              \n",
      "__________________________________________________________________________________________________\n",
      "embedding_540 (Embedding)       (None, 1, 50)        1350        DepTime[0][0]                    \n",
      "__________________________________________________________________________________________________\n",
      "embedding_541 (Embedding)       (None, 1, 50)        650         Month[0][0]                      \n",
      "__________________________________________________________________________________________________\n",
      "embedding_542 (Embedding)       (None, 1, 50)        400         DayOfWeek[0][0]                  \n",
      "__________________________________________________________________________________________________\n",
      "embedding_543 (Embedding)       (None, 1, 50)        500         Distance[0][0]                   \n",
      "__________________________________________________________________________________________________\n",
      "embedding_544 (Embedding)       (None, 1, 50)        1600        DayofMonth[0][0]                 \n",
      "__________________________________________________________________________________________________\n",
      "numerical_0_dense (Dense)       (None, 50)           250         numerical_features[0][0]         \n",
      "__________________________________________________________________________________________________\n",
      "concatenate_127 (Concatenate)   (None, 1, 400)       0           embedding_537[0][0]              \n",
      "                                                                 embedding_538[0][0]              \n",
      "                                                                 embedding_539[0][0]              \n",
      "                                                                 embedding_540[0][0]              \n",
      "                                                                 embedding_541[0][0]              \n",
      "                                                                 embedding_542[0][0]              \n",
      "                                                                 embedding_543[0][0]              \n",
      "                                                                 embedding_544[0][0]              \n",
      "__________________________________________________________________________________________________\n",
      "numerical_0_batchnorm (BatchNor (None, 50)           200         numerical_0_dense[0][0]          \n",
      "__________________________________________________________________________________________________\n",
      "spatial_dropout1d_65 (SpatialDr (None, 1, 400)       0           concatenate_127[0][0]            \n",
      "__________________________________________________________________________________________________\n",
      "numerical_0_activation (Activat (None, 50)           0           numerical_0_batchnorm[0][0]      \n",
      "__________________________________________________________________________________________________\n",
      "flatten_65 (Flatten)            (None, 400)          0           spatial_dropout1d_65[0][0]       \n",
      "__________________________________________________________________________________________________\n",
      "numerical_0_dropout (Dropout)   (None, 50)           0           numerical_0_activation[0][0]     \n",
      "__________________________________________________________________________________________________\n",
      "concatenate_128 (Concatenate)   (None, 450)          0           flatten_65[0][0]                 \n",
      "                                                                 numerical_0_dropout[0][0]        \n",
      "__________________________________________________________________________________________________\n",
      "combined_0_dense (Dense)        (None, 50)           22550       concatenate_128[0][0]            \n",
      "__________________________________________________________________________________________________\n",
      "combined_0_activation (Activati (None, 50)           0           combined_0_dense[0][0]           \n",
      "__________________________________________________________________________________________________\n",
      "combined_0_dropout (Dropout)    (None, 50)           0           combined_0_activation[0][0]      \n",
      "__________________________________________________________________________________________________\n",
      "dense_54 (Dense)                (None, 1)            51          combined_0_dropout[0][0]         \n",
      "==================================================================================================\n",
      "Total params: 57,951\n",
      "Trainable params: 57,851\n",
      "Non-trainable params: 100\n",
      "__________________________________________________________________________________________________\n",
      "Train on 10000 samples, validate on 200000 samples\n",
      "Epoch 1/1\n"
     ]
    },
    {
     "name": "stderr",
     "output_type": "stream",
     "text": [
      "2018-06-21 22:26:07 EST | DEBUG    | automl_libs.nn_libs.LearningRateTracker      | _show_lr             | #138 | After this epoch: init lr 0.010000, lr_decay 0.039259, iterations 20, current lr 0.005602\n"
     ]
    },
    {
     "name": "stdout",
     "output_type": "stream",
     "text": [
      "\n",
      "Epoch 00001: roc_auc_val improved from -inf to 0.70335, saving model to ./output/gs_saved_preds/nn_saved_models/nn_1529634354.hdf5\n"
     ]
    },
    {
     "name": "stderr",
     "output_type": "stream",
     "text": [
      "2018-06-21 22:26:12 EST | DEBUG    | automl_libs.grid_search                      | gs                   | #44  | ./output/nn_grid_search.csv created\n"
     ]
    },
    {
     "name": "stdout",
     "output_type": "stream",
     "text": [
      "{   'batch_size': 512,\n",
      "    'cate_embedding_dimension': 50,\n",
      "    'combined_dense_n_layers': 1,\n",
      "    'dense_numerical_n_layers': 1,\n",
      "    'dense_units': 50,\n",
      "    'drop_rate': 0.2,\n",
      "    'epochs_for_lr': 1,\n",
      "    'gs_timespent': '0:00:17',\n",
      "    'lr_fin': 0.005,\n",
      "    'lr_init': 0.01,\n",
      "    'max_epochs': 1,\n",
      "    'nn_seed': 9428995,\n",
      "    'patience': 5,\n",
      "    'timestamp': '2018-06-21 22:25:54',\n",
      "    'trn_acc': 0.5989999999046326,\n",
      "    'trn_loss': 0.6621471496582031,\n",
      "    'val_acc': 0.5862849999809265,\n",
      "    'val_auc': 0.7033532248296959,\n",
      "    'val_loss': 0.650259526939392}\n"
     ]
    },
    {
     "name": "stderr",
     "output_type": "stream",
     "text": [
      "2018-06-21 22:26:13 EST | DEBUG    | automl_libs.nn_libs                          | get_model            | #38  | prepare col [Dest] for NN\n",
      "2018-06-21 22:26:13 EST | DEBUG    | automl_libs.nn_libs                          | get_model            | #39  | embed input dimension: 293\n",
      "2018-06-21 22:26:13 EST | DEBUG    | automl_libs.nn_libs                          | get_model            | #40  | embed output dimension: 50\n",
      "2018-06-21 22:26:13 EST | DEBUG    | automl_libs.nn_libs                          | get_model            | #38  | prepare col [Origin] for NN\n",
      "2018-06-21 22:26:13 EST | DEBUG    | automl_libs.nn_libs                          | get_model            | #39  | embed input dimension: 292\n",
      "2018-06-21 22:26:13 EST | DEBUG    | automl_libs.nn_libs                          | get_model            | #40  | embed output dimension: 50\n",
      "2018-06-21 22:26:13 EST | DEBUG    | automl_libs.nn_libs                          | get_model            | #38  | prepare col [UniqueCarrier] for NN\n",
      "2018-06-21 22:26:13 EST | DEBUG    | automl_libs.nn_libs                          | get_model            | #39  | embed input dimension: 23\n",
      "2018-06-21 22:26:13 EST | DEBUG    | automl_libs.nn_libs                          | get_model            | #40  | embed output dimension: 50\n",
      "2018-06-21 22:26:13 EST | DEBUG    | automl_libs.nn_libs                          | get_model            | #38  | prepare col [DepTime] for NN\n",
      "2018-06-21 22:26:13 EST | DEBUG    | automl_libs.nn_libs                          | get_model            | #39  | embed input dimension: 27\n",
      "2018-06-21 22:26:13 EST | DEBUG    | automl_libs.nn_libs                          | get_model            | #40  | embed output dimension: 50\n",
      "2018-06-21 22:26:13 EST | DEBUG    | automl_libs.nn_libs                          | get_model            | #38  | prepare col [Month] for NN\n",
      "2018-06-21 22:26:13 EST | DEBUG    | automl_libs.nn_libs                          | get_model            | #39  | embed input dimension: 13\n",
      "2018-06-21 22:26:13 EST | DEBUG    | automl_libs.nn_libs                          | get_model            | #40  | embed output dimension: 50\n",
      "2018-06-21 22:26:13 EST | DEBUG    | automl_libs.nn_libs                          | get_model            | #38  | prepare col [DayOfWeek] for NN\n",
      "2018-06-21 22:26:13 EST | DEBUG    | automl_libs.nn_libs                          | get_model            | #39  | embed input dimension: 8\n",
      "2018-06-21 22:26:13 EST | DEBUG    | automl_libs.nn_libs                          | get_model            | #40  | embed output dimension: 50\n",
      "2018-06-21 22:26:13 EST | DEBUG    | automl_libs.nn_libs                          | get_model            | #38  | prepare col [Distance] for NN\n",
      "2018-06-21 22:26:13 EST | DEBUG    | automl_libs.nn_libs                          | get_model            | #39  | embed input dimension: 10\n",
      "2018-06-21 22:26:13 EST | DEBUG    | automl_libs.nn_libs                          | get_model            | #40  | embed output dimension: 50\n",
      "2018-06-21 22:26:13 EST | DEBUG    | automl_libs.nn_libs                          | get_model            | #38  | prepare col [DayofMonth] for NN\n",
      "2018-06-21 22:26:13 EST | DEBUG    | automl_libs.nn_libs                          | get_model            | #39  | embed input dimension: 32\n",
      "2018-06-21 22:26:13 EST | DEBUG    | automl_libs.nn_libs                          | get_model            | #40  | embed output dimension: 50\n",
      "2018-06-21 22:26:14 EST | DEBUG    | automl_libs.nn_libs                          | get_model            | #81  | steps in on epoch: 156\n",
      "2018-06-21 22:26:14 EST | DEBUG    | automl_libs.nn_libs                          | get_model            | #82  | steps for lr decay: 156\n",
      "2018-06-21 22:26:14 EST | DEBUG    | automl_libs.nn_libs                          | get_model            | #83  | lr decay: 0.004482\n"
     ]
    },
    {
     "name": "stdout",
     "output_type": "stream",
     "text": [
      "__________________________________________________________________________________________________\n",
      "Layer (type)                    Output Shape         Param #     Connected to                     \n",
      "==================================================================================================\n",
      "Dest (InputLayer)               (None, 1)            0                                            \n",
      "__________________________________________________________________________________________________\n",
      "Origin (InputLayer)             (None, 1)            0                                            \n",
      "__________________________________________________________________________________________________\n",
      "UniqueCarrier (InputLayer)      (None, 1)            0                                            \n",
      "__________________________________________________________________________________________________\n",
      "DepTime (InputLayer)            (None, 1)            0                                            \n",
      "__________________________________________________________________________________________________\n",
      "Month (InputLayer)              (None, 1)            0                                            \n",
      "__________________________________________________________________________________________________\n",
      "DayOfWeek (InputLayer)          (None, 1)            0                                            \n",
      "__________________________________________________________________________________________________\n",
      "Distance (InputLayer)           (None, 1)            0                                            \n",
      "__________________________________________________________________________________________________\n",
      "DayofMonth (InputLayer)         (None, 1)            0                                            \n",
      "__________________________________________________________________________________________________\n",
      "numerical_features (InputLayer) (None, 4)            0                                            \n",
      "__________________________________________________________________________________________________\n",
      "embedding_545 (Embedding)       (None, 1, 50)        14650       Dest[0][0]                       \n",
      "__________________________________________________________________________________________________\n",
      "embedding_546 (Embedding)       (None, 1, 50)        14600       Origin[0][0]                     \n",
      "__________________________________________________________________________________________________\n",
      "embedding_547 (Embedding)       (None, 1, 50)        1150        UniqueCarrier[0][0]              \n",
      "__________________________________________________________________________________________________\n",
      "embedding_548 (Embedding)       (None, 1, 50)        1350        DepTime[0][0]                    \n",
      "__________________________________________________________________________________________________\n",
      "embedding_549 (Embedding)       (None, 1, 50)        650         Month[0][0]                      \n",
      "__________________________________________________________________________________________________\n",
      "embedding_550 (Embedding)       (None, 1, 50)        400         DayOfWeek[0][0]                  \n",
      "__________________________________________________________________________________________________\n",
      "embedding_551 (Embedding)       (None, 1, 50)        500         Distance[0][0]                   \n",
      "__________________________________________________________________________________________________\n",
      "embedding_552 (Embedding)       (None, 1, 50)        1600        DayofMonth[0][0]                 \n",
      "__________________________________________________________________________________________________\n",
      "numerical_0_dense (Dense)       (None, 50)           250         numerical_features[0][0]         \n",
      "__________________________________________________________________________________________________\n",
      "concatenate_129 (Concatenate)   (None, 1, 400)       0           embedding_545[0][0]              \n",
      "                                                                 embedding_546[0][0]              \n",
      "                                                                 embedding_547[0][0]              \n",
      "                                                                 embedding_548[0][0]              \n",
      "                                                                 embedding_549[0][0]              \n",
      "                                                                 embedding_550[0][0]              \n",
      "                                                                 embedding_551[0][0]              \n",
      "                                                                 embedding_552[0][0]              \n",
      "__________________________________________________________________________________________________\n",
      "numerical_0_batchnorm (BatchNor (None, 50)           200         numerical_0_dense[0][0]          \n",
      "__________________________________________________________________________________________________\n",
      "spatial_dropout1d_66 (SpatialDr (None, 1, 400)       0           concatenate_129[0][0]            \n",
      "__________________________________________________________________________________________________\n",
      "numerical_0_activation (Activat (None, 50)           0           numerical_0_batchnorm[0][0]      \n",
      "__________________________________________________________________________________________________\n",
      "flatten_66 (Flatten)            (None, 400)          0           spatial_dropout1d_66[0][0]       \n",
      "__________________________________________________________________________________________________\n",
      "numerical_0_dropout (Dropout)   (None, 50)           0           numerical_0_activation[0][0]     \n",
      "__________________________________________________________________________________________________\n",
      "concatenate_130 (Concatenate)   (None, 450)          0           flatten_66[0][0]                 \n",
      "                                                                 numerical_0_dropout[0][0]        \n",
      "__________________________________________________________________________________________________\n",
      "combined_0_dense (Dense)        (None, 50)           22550       concatenate_130[0][0]            \n",
      "__________________________________________________________________________________________________\n",
      "combined_0_activation (Activati (None, 50)           0           combined_0_dense[0][0]           \n",
      "__________________________________________________________________________________________________\n",
      "combined_0_dropout (Dropout)    (None, 50)           0           combined_0_activation[0][0]      \n",
      "__________________________________________________________________________________________________\n",
      "dense_55 (Dense)                (None, 1)            51          combined_0_dropout[0][0]         \n",
      "==================================================================================================\n",
      "Total params: 57,951\n",
      "Trainable params: 57,851\n",
      "Non-trainable params: 100\n",
      "__________________________________________________________________________________________________\n",
      "Train on 10000 samples, validate on 200000 samples\n",
      "Epoch 1/1\n"
     ]
    }
   ],
   "source": [
    "from automl_app.app import AlphaBoosting\n",
    "\n",
    "automl_config_file = project_path + 'automl_config.json'\n",
    "run_record_file_name = project_path + 'last_run_record.json' # don't created this file\n",
    "AlphaBoosting(automl_config_file, features_to_gen, gs_params_gen)"
   ]
  },
  {
   "cell_type": "code",
   "execution_count": null,
   "metadata": {
    "collapsed": true
   },
   "outputs": [],
   "source": []
  },
  {
   "cell_type": "code",
   "execution_count": null,
   "metadata": {
    "collapsed": true
   },
   "outputs": [],
   "source": []
  }
 ],
 "metadata": {
  "kernelspec": {
   "display_name": "Python 3.5 (tf_gpu)",
   "language": "python",
   "name": "tf_gpu"
  },
  "language_info": {
   "codemirror_mode": {
    "name": "ipython",
    "version": 3
   },
   "file_extension": ".py",
   "mimetype": "text/x-python",
   "name": "python",
   "nbconvert_exporter": "python",
   "pygments_lexer": "ipython3",
   "version": "3.5.4"
  },
  "varInspector": {
   "cols": {
    "lenName": 16,
    "lenType": 16,
    "lenVar": 40
   },
   "kernels_config": {
    "python": {
     "delete_cmd_postfix": "",
     "delete_cmd_prefix": "del ",
     "library": "var_list.py",
     "varRefreshCmd": "print(var_dic_list())"
    },
    "r": {
     "delete_cmd_postfix": ") ",
     "delete_cmd_prefix": "rm(",
     "library": "var_list.r",
     "varRefreshCmd": "cat(var_dic_list()) "
    }
   },
   "types_to_exclude": [
    "module",
    "function",
    "builtin_function_or_method",
    "instance",
    "_Feature"
   ],
   "window_display": false
  }
 },
 "nbformat": 4,
 "nbformat_minor": 2
}
