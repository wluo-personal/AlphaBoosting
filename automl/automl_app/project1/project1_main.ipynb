{
 "cells": [
  {
   "cell_type": "code",
   "execution_count": 1,
   "metadata": {
    "ExecuteTime": {
     "end_time": "2018-06-27T16:39:36.422397Z",
     "start_time": "2018-06-27T16:39:33.027515Z"
    }
   },
   "outputs": [
    {
     "name": "stdout",
     "output_type": "stream",
     "text": [
      "['', '/home/kai/anaconda3/envs/tf_gpu/lib/python35.zip', '/home/kai/anaconda3/envs/tf_gpu/lib/python3.5', '/home/kai/anaconda3/envs/tf_gpu/lib/python3.5/plat-linux', '/home/kai/anaconda3/envs/tf_gpu/lib/python3.5/lib-dynload', '/home/kai/.local/lib/python3.5/site-packages', '/home/kai/anaconda3/envs/tf_gpu/lib/python3.5/site-packages', '/home/kai/anaconda3/envs/tf_gpu/lib/python3.5/site-packages/IPython/extensions', '/home/kai/.ipython', '/home/kai/data/shiyi/AlphaBoosting/automl']\n"
     ]
    },
    {
     "name": "stderr",
     "output_type": "stream",
     "text": [
      "/home/kai/anaconda3/envs/tf_gpu/lib/python3.5/site-packages/h5py/__init__.py:36: FutureWarning: Conversion of the second argument of issubdtype from `float` to `np.floating` is deprecated. In future, it will be treated as `np.float64 == np.dtype(float).type`.\n",
      "  from ._conv import register_converters as _register_converters\n",
      "Using TensorFlow backend.\n"
     ]
    }
   ],
   "source": [
    "import os\n",
    "import sys\n",
    "#nb_dir = os.path.split(os.getcwd())[0]\n",
    "#if nb_dir not in sys.path:\n",
    "#    sys.path.append(nb_dir)\n",
    "    \n",
    "autolib_dir = '/home/kai/data/shiyi/AlphaBoosting/automl'\n",
    "if autolib_dir not in sys.path:\n",
    "    sys.path.append(autolib_dir)\n",
    "\n",
    "print(sys.path)\n",
    "\n",
    "%load_ext autoreload\n",
    "\n",
    "%autoreload 2\n",
    "\n",
    "from automl_libs import feature_engineering as fe\n",
    "from automl_libs import encoding, kernels, nn_libs "
   ]
  },
  {
   "cell_type": "code",
   "execution_count": 2,
   "metadata": {
    "ExecuteTime": {
     "end_time": "2018-06-27T16:39:36.477990Z",
     "start_time": "2018-06-27T16:39:36.428261Z"
    }
   },
   "outputs": [],
   "source": [
    "categorical_features = ['Month', 'DayofMonth', 'DayOfWeek']#, 'DepTime', 'UniqueCarrier', 'Origin', 'Dest', 'Distance']"
   ]
  },
  {
   "cell_type": "code",
   "execution_count": 3,
   "metadata": {
    "ExecuteTime": {
     "end_time": "2018-06-27T16:39:36.565654Z",
     "start_time": "2018-06-27T16:39:36.483378Z"
    }
   },
   "outputs": [
    {
     "data": {
      "text/plain": [
       "[{'feature_cols': ['Month', 'DayofMonth'],\n",
       "  'function': <function automl_libs.feature_engineering.count(df, cols, dummy_col, generated_feature_name, params=None)>,\n",
       "  'params': {}},\n",
       " {'feature_cols': ['Month', 'DayOfWeek'],\n",
       "  'function': <function automl_libs.feature_engineering.count(df, cols, dummy_col, generated_feature_name, params=None)>,\n",
       "  'params': {}},\n",
       " {'feature_cols': ['DayofMonth', 'DayOfWeek'],\n",
       "  'function': <function automl_libs.feature_engineering.count(df, cols, dummy_col, generated_feature_name, params=None)>,\n",
       "  'params': {}},\n",
       " {'feature_cols': ['Month', 'DayofMonth', 'DayOfWeek'],\n",
       "  'function': <function automl_libs.feature_engineering.count(df, cols, dummy_col, generated_feature_name, params=None)>,\n",
       "  'params': {}}]"
      ]
     },
     "execution_count": 3,
     "metadata": {},
     "output_type": "execute_result"
    }
   ],
   "source": [
    "import itertools\n",
    "#params = {'split_col': 't', 'coefficient': 10, 'n': 2, 'fillna': 22}\n",
    "def get_features_to_gen(function_list):\n",
    "    features_to_gen = []\n",
    "    for function in function_list:\n",
    "        for i in range(2, len(categorical_features)+1):\n",
    "            for combine in itertools.combinations(categorical_features, i):\n",
    "                if function.__name__ == 'count_std_over_mean':\n",
    "                    features_to_gen.append({'params': {'coefficient': 10}, 'function': function, 'feature_cols': list(combine)})\n",
    "                else:\n",
    "                    features_to_gen.append({'params': {}, 'function': function, 'feature_cols': list(combine)})\n",
    "                \n",
    "    return features_to_gen\n",
    "\n",
    "#features_to_gen = get_features_to_gen([fe.count, fe.unique_count, fe.cumulative_count,\n",
    "#                                      fe.reverse_cumulative_count, fe.variance, fe.count_std_over_mean])\n",
    "features_to_gen = get_features_to_gen([fe.count])\n",
    "\n",
    "features_to_gen"
   ]
  },
  {
   "cell_type": "code",
   "execution_count": 4,
   "metadata": {
    "ExecuteTime": {
     "end_time": "2018-06-27T16:39:36.646685Z",
     "start_time": "2018-06-27T16:39:36.571454Z"
    }
   },
   "outputs": [
    {
     "data": {
      "text/plain": [
       "4"
      ]
     },
     "execution_count": 4,
     "metadata": {},
     "output_type": "execute_result"
    }
   ],
   "source": [
    "len(features_to_gen)"
   ]
  },
  {
   "cell_type": "code",
   "execution_count": 5,
   "metadata": {
    "ExecuteTime": {
     "end_time": "2018-06-27T16:39:36.712012Z",
     "start_time": "2018-06-27T16:39:36.652184Z"
    }
   },
   "outputs": [],
   "source": [
    "project_path = '/home/kai/data/shiyi/AlphaBoosting/automl/automl_app/project1/' "
   ]
  },
  {
   "cell_type": "code",
   "execution_count": 6,
   "metadata": {
    "ExecuteTime": {
     "end_time": "2018-06-27T16:39:36.799123Z",
     "start_time": "2018-06-27T16:39:36.718110Z"
    }
   },
   "outputs": [],
   "source": [
    "from automl_app import logger_config\n",
    "\n",
    "logger_config.config(project_path+'log_project1.log')"
   ]
  },
  {
   "cell_type": "code",
   "execution_count": 7,
   "metadata": {
    "ExecuteTime": {
     "end_time": "2018-06-27T16:39:36.865695Z",
     "start_time": "2018-06-27T16:39:36.809958Z"
    }
   },
   "outputs": [],
   "source": [
    "def gs_params_gen(model='lgb'):\n",
    "    import time\n",
    "    import numpy as np\n",
    "    seed = int(time.time()* 1000000) % 45234634\n",
    "    np.random.seed(seed)\n",
    "    if model == 'lgb':\n",
    "        params = {    \n",
    "            'objective': 'binary',\n",
    "            'boosting': 'gbdt',\n",
    "            'num_rounds': 20,\n",
    "            'learning_rate': np.random.choice([0.1,0.03]),#0.001]),\n",
    "            'num_leaves': np.random.choice([15,31,61,127]),\n",
    "            'num_threads': 8, # best speed: set to number of real cpu cores, which is vCPU/2\n",
    "            'max_depth': -1, # no limit. This is used to deal with over-fitting when #data is small.\n",
    "            'min_data_in_leaf': np.random.randint(20,50),  #minimal number of data in one leaf. \n",
    "            'feature_fraction': np.random.randint(4,11)/10,\n",
    "            'feature_fraction_seed': seed,\n",
    "            'early_stopping_round':70,\n",
    "            'bagging_freq': 1, #0 means disable bagging. k: perform bagging at every k iteration\n",
    "            'bagging_fraction': np.random.randint(4,11)/10, #Randomly select part of data \n",
    "            'bagging_seed': seed,\n",
    "            'scale_pos_weight': 2,\n",
    "            'metric' : 'auc' \n",
    "        }\n",
    "    elif model == 'nn':\n",
    "        params = {\n",
    "            'nn_seed': int(time.time() * 1000000) % 45234634,\n",
    "            'ep_for_lr': 1,\n",
    "            'lr_init': 0.01,\n",
    "            'lr_fin': 0.005, # if == lr_init, then no lr decay\n",
    "            'batch_size': np.random.choice([32, 64, 128, 256, 512, 1024, 2048]),\n",
    "            \"pred_batch_size\": 100000,\n",
    "            'max_ep': 1,\n",
    "            'patience': 5,\n",
    "            'cat_emb_outdim': 50, # could be a constant or a dict (col name:embed out dim). e.g.:\n",
    "                                  # embed_outdim = [3, 3, 8, 8, 3]\n",
    "                                  # embed_outdim_dict = dict(zip(X_train.columns.values, embed_outdim))\n",
    "            'dense_units': 50,\n",
    "            'num_dense_n_layers': 1,\n",
    "            'drop_rate': 0.2,\n",
    "            'combined_dense_n_layers': 1\n",
    "        }\n",
    "    return params, seed"
   ]
  },
  {
   "cell_type": "code",
   "execution_count": 8,
   "metadata": {
    "ExecuteTime": {
     "end_time": "2018-06-27T16:39:36.907391Z",
     "start_time": "2018-06-27T16:39:36.868225Z"
    }
   },
   "outputs": [
    {
     "data": {
      "text/plain": [
       "({'batch_size': 2048,\n",
       "  'cat_emb_outdim': 50,\n",
       "  'combined_dense_n_layers': 1,\n",
       "  'dense_units': 50,\n",
       "  'drop_rate': 0.2,\n",
       "  'ep_for_lr': 1,\n",
       "  'lr_fin': 0.005,\n",
       "  'lr_init': 0.01,\n",
       "  'max_ep': 1,\n",
       "  'nn_seed': 36140508,\n",
       "  'num_dense_n_layers': 1,\n",
       "  'patience': 5,\n",
       "  'pred_batch_size': 100000},\n",
       " 36140456)"
      ]
     },
     "execution_count": 8,
     "metadata": {},
     "output_type": "execute_result"
    }
   ],
   "source": [
    "gs_params_gen('nn')"
   ]
  },
  {
   "cell_type": "code",
   "execution_count": 11,
   "metadata": {
    "ExecuteTime": {
     "end_time": "2018-06-27T16:42:59.105210Z",
     "start_time": "2018-06-27T16:41:44.810734Z"
    },
    "scrolled": true
   },
   "outputs": [
    {
     "name": "stderr",
     "output_type": "stream",
     "text": [
      "2018-06-27 12:41:45 | INFO  | automl_app.app.AlphaBoosting  | __init__   | #55  | Run record file [./output/last_run_record.json] found. Continue from the previous run...\n",
      "2018-06-27 12:41:45 | INFO  | automl_app.app.AlphaBoosting  | __init__   | #84  | save run record\n",
      "2018-06-27 12:41:45 | INFO  | automl_app.app.AlphaBoosting  | _save_run_record | #148 | val index is saved at ./temp_data/val_index.pkl\n",
      "2018-06-27 12:41:45 | INFO  | automl_app.app.AlphaBoosting  | _save_run_record | #150 | run record is saved at ./output/last_run_record.json\n",
      "2018-06-27 12:41:45 | INFO  | automl_app.app.AlphaBoosting  | __init__   | #88  | generate todo list\n",
      "2018-06-27 12:41:45 | INFO  | automl_app.app.AlphaBoosting  | __init__   | #104 | feature engineering\n",
      "2018-06-27 12:41:45 | INFO  | automl_app.app.AlphaBoosting  | __init__   | #108 | validation\n",
      "2018-06-27 12:41:45 | INFO  | automl_app.app.AlphaBoosting  | __init__   | #112 | concat test\n",
      "2018-06-27 12:41:45 | INFO  | automl_app.app.AlphaBoosting  | __init__   | #116 | grid search\n",
      "2018-06-27 12:41:46 | DEBUG | automl_libs.nn_libs           | get_model  | #55  | Col [Distance]: embed dim: input 10, output 10\n",
      "2018-06-27 12:41:46 | DEBUG | automl_libs.nn_libs           | get_model  | #55  | Col [Origin]: embed dim: input 292, output 50\n",
      "2018-06-27 12:41:46 | DEBUG | automl_libs.nn_libs           | get_model  | #55  | Col [DayofMonth]: embed dim: input 32, output 32\n",
      "2018-06-27 12:41:46 | DEBUG | automl_libs.nn_libs           | get_model  | #55  | Col [UniqueCarrier]: embed dim: input 23, output 23\n",
      "2018-06-27 12:41:46 | DEBUG | automl_libs.nn_libs           | get_model  | #55  | Col [DayOfWeek]: embed dim: input 8, output 8\n",
      "2018-06-27 12:41:46 | DEBUG | automl_libs.nn_libs           | get_model  | #55  | Col [Month]: embed dim: input 13, output 13\n",
      "2018-06-27 12:41:46 | DEBUG | automl_libs.nn_libs           | get_model  | #55  | Col [Dest]: embed dim: input 293, output 50\n",
      "2018-06-27 12:41:46 | DEBUG | automl_libs.nn_libs           | get_model  | #55  | Col [DepTime]: embed dim: input 27, output 27\n",
      "2018-06-27 12:41:46 | DEBUG | automl_libs.nn_libs           | get_model  | #99  | steps in on epoch: 312\n",
      "2018-06-27 12:41:46 | DEBUG | automl_libs.nn_libs           | get_model  | #100 | steps for lr decay: 312\n",
      "2018-06-27 12:41:46 | DEBUG | automl_libs.nn_libs           | get_model  | #101 | lr decay: 0.002231\n"
     ]
    },
    {
     "name": "stdout",
     "output_type": "stream",
     "text": [
      "Train on 10000 samples, validate on 200000 samples\n",
      "Epoch 1/1\n"
     ]
    },
    {
     "name": "stderr",
     "output_type": "stream",
     "text": [
      "2018-06-27 12:42:36 | WARNING | automl_libs.grid_search       | gs         | #55  | Oops! ResourceExhaustedError. Continue next round\n",
      "2018-06-27 12:42:37 | DEBUG | automl_libs.nn_libs           | get_model  | #55  | Col [Distance]: embed dim: input 10, output 10\n",
      "2018-06-27 12:42:37 | DEBUG | automl_libs.nn_libs           | get_model  | #55  | Col [Origin]: embed dim: input 292, output 50\n",
      "2018-06-27 12:42:37 | DEBUG | automl_libs.nn_libs           | get_model  | #55  | Col [DayofMonth]: embed dim: input 32, output 32\n",
      "2018-06-27 12:42:38 | DEBUG | automl_libs.nn_libs           | get_model  | #55  | Col [UniqueCarrier]: embed dim: input 23, output 23\n",
      "2018-06-27 12:42:38 | DEBUG | automl_libs.nn_libs           | get_model  | #55  | Col [DayOfWeek]: embed dim: input 8, output 8\n",
      "2018-06-27 12:42:38 | DEBUG | automl_libs.nn_libs           | get_model  | #55  | Col [Month]: embed dim: input 13, output 13\n",
      "2018-06-27 12:42:38 | DEBUG | automl_libs.nn_libs           | get_model  | #55  | Col [Dest]: embed dim: input 293, output 50\n",
      "2018-06-27 12:42:38 | DEBUG | automl_libs.nn_libs           | get_model  | #55  | Col [DepTime]: embed dim: input 27, output 27\n",
      "2018-06-27 12:42:38 | DEBUG | automl_libs.nn_libs           | get_model  | #99  | steps in on epoch: 39\n",
      "2018-06-27 12:42:38 | DEBUG | automl_libs.nn_libs           | get_model  | #100 | steps for lr decay: 39\n",
      "2018-06-27 12:42:38 | DEBUG | automl_libs.nn_libs           | get_model  | #101 | lr decay: 0.018408\n"
     ]
    },
    {
     "name": "stdout",
     "output_type": "stream",
     "text": [
      "Train on 10000 samples, validate on 200000 samples\n",
      "Epoch 1/1\n"
     ]
    },
    {
     "name": "stderr",
     "output_type": "stream",
     "text": [
      "2018-06-27 12:42:59 | WARNING | automl_libs.grid_search       | gs         | #55  | Oops! ResourceExhaustedError. Continue next round\n"
     ]
    },
    {
     "data": {
      "text/plain": [
       "<automl_app.app.AlphaBoosting at 0x7fba8500ce10>"
      ]
     },
     "execution_count": 11,
     "metadata": {},
     "output_type": "execute_result"
    }
   ],
   "source": [
    "from automl_app.app import AlphaBoosting\n",
    "\n",
    "automl_config_file = project_path + 'automl_config.json'\n",
    "run_record_file_name = project_path + 'last_run_record.json' # don't created this file\n",
    "AlphaBoosting(automl_config_file, features_to_gen, gs_params_gen)"
   ]
  },
  {
   "cell_type": "code",
   "execution_count": null,
   "metadata": {},
   "outputs": [],
   "source": []
  }
 ],
 "metadata": {
  "kernelspec": {
   "display_name": "Python 3.5 (tf_gpu)",
   "language": "python",
   "name": "tf_gpu"
  },
  "language_info": {
   "codemirror_mode": {
    "name": "ipython",
    "version": 3
   },
   "file_extension": ".py",
   "mimetype": "text/x-python",
   "name": "python",
   "nbconvert_exporter": "python",
   "pygments_lexer": "ipython3",
   "version": "3.5.5"
  },
  "varInspector": {
   "cols": {
    "lenName": 16,
    "lenType": 16,
    "lenVar": 40
   },
   "kernels_config": {
    "python": {
     "delete_cmd_postfix": "",
     "delete_cmd_prefix": "del ",
     "library": "var_list.py",
     "varRefreshCmd": "print(var_dic_list())"
    },
    "r": {
     "delete_cmd_postfix": ") ",
     "delete_cmd_prefix": "rm(",
     "library": "var_list.r",
     "varRefreshCmd": "cat(var_dic_list()) "
    }
   },
   "types_to_exclude": [
    "module",
    "function",
    "builtin_function_or_method",
    "instance",
    "_Feature"
   ],
   "window_display": false
  }
 },
 "nbformat": 4,
 "nbformat_minor": 2
}
