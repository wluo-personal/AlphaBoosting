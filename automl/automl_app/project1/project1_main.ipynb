{
 "cells": [
  {
   "cell_type": "code",
   "execution_count": 1,
   "metadata": {
    "ExecuteTime": {
     "end_time": "2018-06-27T19:12:14.103684Z",
     "start_time": "2018-06-27T19:12:12.201110Z"
    }
   },
   "outputs": [
    {
     "name": "stdout",
     "output_type": "stream",
     "text": [
      "['', '/home/kai/anaconda3/envs/tf_gpu/lib/python35.zip', '/home/kai/anaconda3/envs/tf_gpu/lib/python3.5', '/home/kai/anaconda3/envs/tf_gpu/lib/python3.5/plat-linux', '/home/kai/anaconda3/envs/tf_gpu/lib/python3.5/lib-dynload', '/home/kai/.local/lib/python3.5/site-packages', '/home/kai/anaconda3/envs/tf_gpu/lib/python3.5/site-packages', '/home/kai/anaconda3/envs/tf_gpu/lib/python3.5/site-packages/IPython/extensions', '/home/kai/.ipython', '/home/kai/data/shiyi/AlphaBoosting/automl']\n"
     ]
    },
    {
     "name": "stderr",
     "output_type": "stream",
     "text": [
      "/home/kai/anaconda3/envs/tf_gpu/lib/python3.5/site-packages/h5py/__init__.py:36: FutureWarning: Conversion of the second argument of issubdtype from `float` to `np.floating` is deprecated. In future, it will be treated as `np.float64 == np.dtype(float).type`.\n",
      "  from ._conv import register_converters as _register_converters\n",
      "Using TensorFlow backend.\n"
     ]
    }
   ],
   "source": [
    "import os\n",
    "import sys\n",
    "#nb_dir = os.path.split(os.getcwd())[0]\n",
    "#if nb_dir not in sys.path:\n",
    "#    sys.path.append(nb_dir)\n",
    "    \n",
    "autolib_dir = '/home/kai/data/shiyi/AlphaBoosting/automl'\n",
    "if autolib_dir not in sys.path:\n",
    "    sys.path.append(autolib_dir)\n",
    "\n",
    "print(sys.path)\n",
    "\n",
    "%load_ext autoreload\n",
    "\n",
    "%autoreload 2\n",
    "\n",
    "from automl_libs import feature_engineering as fe\n",
    "from automl_libs import encoding, kernels, nn_libs "
   ]
  },
  {
   "cell_type": "code",
   "execution_count": 2,
   "metadata": {
    "ExecuteTime": {
     "end_time": "2018-06-27T19:12:14.141920Z",
     "start_time": "2018-06-27T19:12:14.107754Z"
    }
   },
   "outputs": [],
   "source": [
    "categorical_features = ['Month', 'DayofMonth', 'DayOfWeek']#, 'DepTime', 'UniqueCarrier', 'Origin', 'Dest', 'Distance']"
   ]
  },
  {
   "cell_type": "code",
   "execution_count": 3,
   "metadata": {
    "ExecuteTime": {
     "end_time": "2018-06-27T19:12:14.193945Z",
     "start_time": "2018-06-27T19:12:14.144420Z"
    }
   },
   "outputs": [
    {
     "data": {
      "text/plain": [
       "[{'feature_cols': ['Month', 'DayofMonth'],\n",
       "  'function': <function automl_libs.feature_engineering.count(df, cols, dummy_col, generated_feature_name, params=None)>,\n",
       "  'params': {}},\n",
       " {'feature_cols': ['Month', 'DayOfWeek'],\n",
       "  'function': <function automl_libs.feature_engineering.count(df, cols, dummy_col, generated_feature_name, params=None)>,\n",
       "  'params': {}},\n",
       " {'feature_cols': ['DayofMonth', 'DayOfWeek'],\n",
       "  'function': <function automl_libs.feature_engineering.count(df, cols, dummy_col, generated_feature_name, params=None)>,\n",
       "  'params': {}},\n",
       " {'feature_cols': ['Month', 'DayofMonth', 'DayOfWeek'],\n",
       "  'function': <function automl_libs.feature_engineering.count(df, cols, dummy_col, generated_feature_name, params=None)>,\n",
       "  'params': {}}]"
      ]
     },
     "execution_count": 3,
     "metadata": {},
     "output_type": "execute_result"
    }
   ],
   "source": [
    "import itertools\n",
    "#params = {'split_col': 't', 'coefficient': 10, 'n': 2, 'fillna': 22}\n",
    "def get_features_to_gen(function_list):\n",
    "    features_to_gen = []\n",
    "    for function in function_list:\n",
    "        for i in range(2, len(categorical_features)+1):\n",
    "            for combine in itertools.combinations(categorical_features, i):\n",
    "                if function.__name__ == 'count_std_over_mean':\n",
    "                    features_to_gen.append({'params': {'coefficient': 10}, 'function': function, 'feature_cols': list(combine)})\n",
    "                else:\n",
    "                    features_to_gen.append({'params': {}, 'function': function, 'feature_cols': list(combine)})\n",
    "                \n",
    "    return features_to_gen\n",
    "\n",
    "#features_to_gen = get_features_to_gen([fe.count, fe.unique_count, fe.cumulative_count,\n",
    "#                                      fe.reverse_cumulative_count, fe.variance, fe.count_std_over_mean])\n",
    "features_to_gen = get_features_to_gen([fe.count])\n",
    "\n",
    "features_to_gen"
   ]
  },
  {
   "cell_type": "code",
   "execution_count": 4,
   "metadata": {
    "ExecuteTime": {
     "end_time": "2018-06-27T19:12:14.234008Z",
     "start_time": "2018-06-27T19:12:14.196975Z"
    }
   },
   "outputs": [
    {
     "data": {
      "text/plain": [
       "4"
      ]
     },
     "execution_count": 4,
     "metadata": {},
     "output_type": "execute_result"
    }
   ],
   "source": [
    "len(features_to_gen)"
   ]
  },
  {
   "cell_type": "code",
   "execution_count": 5,
   "metadata": {
    "ExecuteTime": {
     "end_time": "2018-06-27T19:12:14.271018Z",
     "start_time": "2018-06-27T19:12:14.237222Z"
    }
   },
   "outputs": [],
   "source": [
    "project_path = '/home/kai/data/shiyi/AlphaBoosting/automl/automl_app/project1/' "
   ]
  },
  {
   "cell_type": "code",
   "execution_count": 6,
   "metadata": {
    "ExecuteTime": {
     "end_time": "2018-06-27T19:12:14.307007Z",
     "start_time": "2018-06-27T19:12:14.274023Z"
    }
   },
   "outputs": [],
   "source": [
    "from automl_app import logger_config\n",
    "\n",
    "logger_config.config(project_path+'log_project1.log')"
   ]
  },
  {
   "cell_type": "code",
   "execution_count": 7,
   "metadata": {
    "ExecuteTime": {
     "end_time": "2018-06-27T19:12:14.350623Z",
     "start_time": "2018-06-27T19:12:14.309519Z"
    }
   },
   "outputs": [],
   "source": [
    "def gs_params_gen(model='lgb'):\n",
    "    import time\n",
    "    import numpy as np\n",
    "    seed = int(time.time()* 1000000) % 45234634\n",
    "    np.random.seed(seed)\n",
    "    if model == 'lgb':\n",
    "        params = {    \n",
    "            'objective': 'binary',\n",
    "            'boosting': 'gbdt',\n",
    "            'num_boost_round': 20, # ignored in params. extract it and put it in input arguments in train or cv explicitly\n",
    "                                   # seems to work fine as the upper limit when combined with early_stopping_round\n",
    "            'learning_rate': np.random.choice([0.1,0.03]),#0.001]),\n",
    "            'num_leaves': np.random.choice([15,31,61,127]),\n",
    "            'num_threads': 8, # best speed: set to number of real cpu cores, which is vCPU/2\n",
    "            'max_depth': -1, # no limit. This is used to deal with over-fitting when #data is small.\n",
    "            'min_data_in_leaf': np.random.randint(20,50),  #minimal number of data in one leaf. \n",
    "            'feature_fraction': np.random.randint(4,11)/10,\n",
    "            'feature_fraction_seed': seed,\n",
    "            'early_stopping_round':70,\n",
    "            'bagging_freq': 1, #0 means disable bagging. k: perform bagging at every k iteration\n",
    "            'bagging_fraction': np.random.randint(4,11)/10, #Randomly select part of data \n",
    "            'bagging_seed': seed,\n",
    "            'scale_pos_weight': 2,\n",
    "            'metric' : 'auc' \n",
    "        }\n",
    "    elif model == 'nn':\n",
    "        params = {\n",
    "            'nn_seed': int(time.time() * 1000000) % 45234634,\n",
    "            'ep_for_lr': 1,\n",
    "            'lr_init': 0.01,\n",
    "            'lr_fin': 0.005, # if == lr_init, then no lr decay\n",
    "            'batch_size': np.random.choice([32, 64, 128, 256, 512, 1024, 2048]),\n",
    "            \"pred_batch_size\": 100000,\n",
    "            'max_ep': 1,\n",
    "            'patience': 5,\n",
    "            'cat_emb_outdim': 50, # could be a constant or a dict (col name:embed out dim). e.g.:\n",
    "                                  # embed_outdim = [3, 3, 8, 8, 3]\n",
    "                                  # embed_outdim_dict = dict(zip(X_train.columns.values, embed_outdim))\n",
    "            'dense_units': 50,\n",
    "            'num_dense_n_layers': 1,\n",
    "            'drop_rate': 0.2,\n",
    "            'combined_dense_n_layers': 1\n",
    "        }\n",
    "    return params, seed"
   ]
  },
  {
   "cell_type": "code",
   "execution_count": 8,
   "metadata": {
    "ExecuteTime": {
     "end_time": "2018-06-27T19:12:14.389996Z",
     "start_time": "2018-06-27T19:12:14.353533Z"
    }
   },
   "outputs": [
    {
     "data": {
      "text/plain": [
       "({'bagging_fraction': 0.5,\n",
       "  'bagging_freq': 1,\n",
       "  'bagging_seed': 10992453,\n",
       "  'boosting': 'gbdt',\n",
       "  'early_stopping_round': 70,\n",
       "  'feature_fraction': 0.7,\n",
       "  'feature_fraction_seed': 10992453,\n",
       "  'learning_rate': 0.03,\n",
       "  'max_depth': -1,\n",
       "  'metric': 'auc',\n",
       "  'min_data_in_leaf': 47,\n",
       "  'num_leaves': 31,\n",
       "  'num_rounds': 20,\n",
       "  'num_threads': 8,\n",
       "  'objective': 'binary',\n",
       "  'scale_pos_weight': 2},\n",
       " 10992453)"
      ]
     },
     "execution_count": 8,
     "metadata": {},
     "output_type": "execute_result"
    }
   ],
   "source": [
    "gs_params_gen('lgb')"
   ]
  },
  {
   "cell_type": "code",
   "execution_count": 10,
   "metadata": {
    "ExecuteTime": {
     "end_time": "2018-06-28T13:42:40.328734Z",
     "start_time": "2018-06-28T13:42:37.515517Z"
    },
    "scrolled": true
   },
   "outputs": [
    {
     "name": "stderr",
     "output_type": "stream",
     "text": [
      "2018-06-28 09:42:37 | INFO  | automl_app.app.AlphaBoosting  | __init__   | #55  | Run record file [./output/last_run_record.json] found. Continue from the previous run...\n",
      "2018-06-28 09:42:37 | INFO  | automl_app.app.AlphaBoosting  | __init__   | #84  | save run record\n",
      "2018-06-28 09:42:37 | INFO  | automl_app.app.AlphaBoosting  | _save_run_record | #148 | val index is saved at ./temp_data/val_index.pkl\n",
      "2018-06-28 09:42:37 | INFO  | automl_app.app.AlphaBoosting  | _save_run_record | #150 | run record is saved at ./output/last_run_record.json\n",
      "2018-06-28 09:42:37 | INFO  | automl_app.app.AlphaBoosting  | __init__   | #88  | generate todo list\n",
      "2018-06-28 09:42:37 | INFO  | automl_app.app.AlphaBoosting  | __init__   | #104 | feature engineering\n",
      "2018-06-28 09:42:37 | INFO  | automl_app.app.AlphaBoosting  | __init__   | #108 | validation\n",
      "2018-06-28 09:42:37 | INFO  | automl_app.app.AlphaBoosting  | __init__   | #112 | concat test\n",
      "2018-06-28 09:42:37 | INFO  | automl_app.app.AlphaBoosting  | __init__   | #116 | grid search\n",
      "2018-06-28 09:42:38 | DEBUG | automl_libs.grid_search       | _lgb_gs    | #97  | [do_preds] is True, generating predictions ...\n",
      "2018-06-28 09:42:38 | DEBUG | automl_libs.grid_search       | _lgb_gs    | #99  | Retrain model using cv params and all data...\n",
      "2018-06-28 09:42:39 | INFO  | automl_libs.grid_search       | _lgb_gs    | #107 | LGB predictions(1530193358) saved in ./output/gs_saved_preds/.\n",
      "2018-06-28 09:42:39 | DEBUG | automl_libs.grid_search       | gs         | #51  | ./output/lgb_grid_search.csv updated\n"
     ]
    },
    {
     "name": "stdout",
     "output_type": "stream",
     "text": [
      "[1]\tcv_agg's auc: 0.548043 + 0.0114648\n",
      "[2]\tcv_agg's auc: 0.553798 + 0.00922959\n",
      "[3]\tcv_agg's auc: 0.655007 + 0.0107031\n",
      "[4]\tcv_agg's auc: 0.649264 + 0.00908765\n",
      "[5]\tcv_agg's auc: 0.674959 + 0.00867137\n",
      "[6]\tcv_agg's auc: 0.684588 + 0.0074408\n",
      "[7]\tcv_agg's auc: 0.688573 + 0.00674804\n",
      "[8]\tcv_agg's auc: 0.692457 + 0.00731524\n",
      "[9]\tcv_agg's auc: 0.694967 + 0.0067746\n",
      "[10]\tcv_agg's auc: 0.696384 + 0.00731484\n",
      "[11]\tcv_agg's auc: 0.696385 + 0.00617379\n",
      "[12]\tcv_agg's auc: 0.696835 + 0.00720718\n",
      "[13]\tcv_agg's auc: 0.698804 + 0.00827097\n",
      "[14]\tcv_agg's auc: 0.699237 + 0.00791872\n",
      "[15]\tcv_agg's auc: 0.699407 + 0.00828066\n",
      "[16]\tcv_agg's auc: 0.700419 + 0.0079672\n",
      "[17]\tcv_agg's auc: 0.702118 + 0.00764818\n",
      "[18]\tcv_agg's auc: 0.702525 + 0.00787876\n",
      "[19]\tcv_agg's auc: 0.703231 + 0.00820822\n",
      "[20]\tcv_agg's auc: 0.703918 + 0.00795661\n",
      "[4]\ttraining's auc: 0.703063\n",
      "[8]\ttraining's auc: 0.738523\n",
      "[12]\ttraining's auc: 0.749504\n",
      "[16]\ttraining's auc: 0.752994\n",
      "[20]\ttraining's auc: 0.758563\n"
     ]
    },
    {
     "name": "stderr",
     "output_type": "stream",
     "text": [
      "2018-06-28 09:42:40 | DEBUG | automl_libs.grid_search       | _lgb_gs    | #97  | [do_preds] is True, generating predictions ...\n",
      "2018-06-28 09:42:40 | DEBUG | automl_libs.grid_search       | _lgb_gs    | #99  | Retrain model using cv params and all data...\n",
      "2018-06-28 09:42:40 | INFO  | automl_libs.grid_search       | _lgb_gs    | #107 | LGB predictions(1530193360) saved in ./output/gs_saved_preds/.\n",
      "2018-06-28 09:42:40 | DEBUG | automl_libs.grid_search       | gs         | #51  | ./output/lgb_grid_search.csv updated\n"
     ]
    },
    {
     "name": "stdout",
     "output_type": "stream",
     "text": [
      "[1]\tcv_agg's auc: 0.542889 + 0.0215873\n",
      "[2]\tcv_agg's auc: 0.565412 + 0.0109355\n",
      "[3]\tcv_agg's auc: 0.575327 + 0.00970219\n",
      "[4]\tcv_agg's auc: 0.65279 + 0.00819987\n",
      "[5]\tcv_agg's auc: 0.64926 + 0.0111787\n",
      "[6]\tcv_agg's auc: 0.675803 + 0.00734501\n",
      "[7]\tcv_agg's auc: 0.672229 + 0.00831647\n",
      "[8]\tcv_agg's auc: 0.669542 + 0.00878499\n",
      "[9]\tcv_agg's auc: 0.667179 + 0.00788715\n",
      "[10]\tcv_agg's auc: 0.679721 + 0.0070793\n",
      "[11]\tcv_agg's auc: 0.688292 + 0.0081497\n",
      "[12]\tcv_agg's auc: 0.693232 + 0.00794952\n",
      "[13]\tcv_agg's auc: 0.692284 + 0.00868825\n",
      "[14]\tcv_agg's auc: 0.691095 + 0.00831468\n",
      "[15]\tcv_agg's auc: 0.689793 + 0.0086757\n",
      "[16]\tcv_agg's auc: 0.694666 + 0.00709551\n",
      "[17]\tcv_agg's auc: 0.698077 + 0.00665512\n",
      "[18]\tcv_agg's auc: 0.701064 + 0.00677035\n",
      "[19]\tcv_agg's auc: 0.699897 + 0.0073285\n",
      "[20]\tcv_agg's auc: 0.700558 + 0.00800208\n",
      "[3]\ttraining's auc: 0.70409\n",
      "[6]\ttraining's auc: 0.787365\n",
      "[9]\ttraining's auc: 0.793231\n",
      "[12]\ttraining's auc: 0.806837\n",
      "[15]\ttraining's auc: 0.816204\n",
      "[18]\ttraining's auc: 0.815867\n"
     ]
    },
    {
     "data": {
      "text/plain": [
       "<automl_app.app.AlphaBoosting at 0x7ff63b84e208>"
      ]
     },
     "execution_count": 10,
     "metadata": {},
     "output_type": "execute_result"
    }
   ],
   "source": [
    "from automl_app.app import AlphaBoosting\n",
    "\n",
    "automl_config_file = project_path + 'automl_config.json'\n",
    "run_record_file_name = project_path + 'last_run_record.json' # don't created this file\n",
    "AlphaBoosting(automl_config_file, features_to_gen, gs_params_gen)"
   ]
  },
  {
   "cell_type": "code",
   "execution_count": null,
   "metadata": {},
   "outputs": [],
   "source": []
  }
 ],
 "metadata": {
  "kernelspec": {
   "display_name": "Python 3.5 (tf_gpu)",
   "language": "python",
   "name": "tf_gpu"
  },
  "language_info": {
   "codemirror_mode": {
    "name": "ipython",
    "version": 3
   },
   "file_extension": ".py",
   "mimetype": "text/x-python",
   "name": "python",
   "nbconvert_exporter": "python",
   "pygments_lexer": "ipython3",
   "version": "3.5.5"
  },
  "varInspector": {
   "cols": {
    "lenName": 16,
    "lenType": 16,
    "lenVar": 40
   },
   "kernels_config": {
    "python": {
     "delete_cmd_postfix": "",
     "delete_cmd_prefix": "del ",
     "library": "var_list.py",
     "varRefreshCmd": "print(var_dic_list())"
    },
    "r": {
     "delete_cmd_postfix": ") ",
     "delete_cmd_prefix": "rm(",
     "library": "var_list.r",
     "varRefreshCmd": "cat(var_dic_list()) "
    }
   },
   "types_to_exclude": [
    "module",
    "function",
    "builtin_function_or_method",
    "instance",
    "_Feature"
   ],
   "window_display": false
  }
 },
 "nbformat": 4,
 "nbformat_minor": 2
}
