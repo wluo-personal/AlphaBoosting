{
 "cells": [
  {
   "cell_type": "code",
   "execution_count": 1,
   "metadata": {
    "ExecuteTime": {
     "end_time": "2018-06-20T19:36:11.397170Z",
     "start_time": "2018-06-20T19:36:11.387748Z"
    },
    "collapsed": true
   },
   "outputs": [],
   "source": [
    "import os\n",
    "import sys\n",
    "#nb_dir = os.path.split(os.getcwd())[0]\n",
    "#if nb_dir not in sys.path:\n",
    "#    sys.path.append(nb_dir)\n",
    "    \n",
    "autolib_dir = '/home/kai/data/shiyi/AlphaBoosting/automl'\n",
    "if autolib_dir not in sys.path:\n",
    "    sys.path.append(autolib_dir)\n"
   ]
  },
  {
   "cell_type": "code",
   "execution_count": 2,
   "metadata": {
    "ExecuteTime": {
     "end_time": "2018-06-20T19:36:11.419589Z",
     "start_time": "2018-06-20T19:36:11.399800Z"
    }
   },
   "outputs": [
    {
     "data": {
      "text/plain": [
       "['',\n",
       " '/home/kai/anaconda3/envs/tf_gpu/lib/python35.zip',\n",
       " '/home/kai/anaconda3/envs/tf_gpu/lib/python3.5',\n",
       " '/home/kai/anaconda3/envs/tf_gpu/lib/python3.5/plat-linux',\n",
       " '/home/kai/anaconda3/envs/tf_gpu/lib/python3.5/lib-dynload',\n",
       " '/home/kai/.local/lib/python3.5/site-packages',\n",
       " '/home/kai/anaconda3/envs/tf_gpu/lib/python3.5/site-packages',\n",
       " '/home/kai/anaconda3/envs/tf_gpu/lib/python3.5/site-packages/cycler-0.10.0-py3.5.egg',\n",
       " '/home/kai/anaconda3/envs/tf_gpu/lib/python3.5/site-packages/IPython/extensions',\n",
       " '/home/kai/.ipython',\n",
       " '/home/kai/data/shiyi/AlphaBoosting/automl']"
      ]
     },
     "execution_count": 2,
     "metadata": {},
     "output_type": "execute_result"
    }
   ],
   "source": [
    "sys.path"
   ]
  },
  {
   "cell_type": "code",
   "execution_count": 3,
   "metadata": {
    "ExecuteTime": {
     "end_time": "2018-06-20T19:36:11.436335Z",
     "start_time": "2018-06-20T19:36:11.421971Z"
    },
    "collapsed": true
   },
   "outputs": [],
   "source": [
    "%load_ext autoreload"
   ]
  },
  {
   "cell_type": "code",
   "execution_count": 4,
   "metadata": {
    "ExecuteTime": {
     "end_time": "2018-06-20T19:36:11.440433Z",
     "start_time": "2018-06-20T19:36:11.438277Z"
    },
    "collapsed": true
   },
   "outputs": [],
   "source": [
    "%autoreload 2"
   ]
  },
  {
   "cell_type": "code",
   "execution_count": 5,
   "metadata": {
    "ExecuteTime": {
     "end_time": "2018-06-20T19:36:11.641472Z",
     "start_time": "2018-06-20T19:36:11.442028Z"
    },
    "collapsed": true
   },
   "outputs": [],
   "source": [
    "from automl_libs import feature_engineering as fe\n",
    "from automl_libs import encoding, kernels, nn_libs "
   ]
  },
  {
   "cell_type": "code",
   "execution_count": 6,
   "metadata": {
    "ExecuteTime": {
     "end_time": "2018-06-20T19:36:11.651042Z",
     "start_time": "2018-06-20T19:36:11.643004Z"
    },
    "collapsed": true
   },
   "outputs": [],
   "source": [
    "categorical_features = ['Month', 'DayofMonth', 'DayOfWeek']#, 'DepTime', 'UniqueCarrier', 'Origin', 'Dest', 'Distance']"
   ]
  },
  {
   "cell_type": "code",
   "execution_count": 7,
   "metadata": {
    "ExecuteTime": {
     "end_time": "2018-06-20T19:36:11.673481Z",
     "start_time": "2018-06-20T19:36:11.652880Z"
    }
   },
   "outputs": [
    {
     "data": {
      "text/plain": [
       "[{'feature_cols': ['Month', 'DayofMonth'],\n",
       "  'function': <function automl_libs.feature_engineering.count>,\n",
       "  'params': {}},\n",
       " {'feature_cols': ['Month', 'DayOfWeek'],\n",
       "  'function': <function automl_libs.feature_engineering.count>,\n",
       "  'params': {}},\n",
       " {'feature_cols': ['DayofMonth', 'DayOfWeek'],\n",
       "  'function': <function automl_libs.feature_engineering.count>,\n",
       "  'params': {}},\n",
       " {'feature_cols': ['Month', 'DayofMonth', 'DayOfWeek'],\n",
       "  'function': <function automl_libs.feature_engineering.count>,\n",
       "  'params': {}}]"
      ]
     },
     "execution_count": 7,
     "metadata": {},
     "output_type": "execute_result"
    }
   ],
   "source": [
    "import itertools\n",
    "#params = {'split_col': 't', 'coefficient': 10, 'n': 2, 'fillna': 22}\n",
    "def get_features_to_gen(function_list):\n",
    "    features_to_gen = []\n",
    "    for function in function_list:\n",
    "        for i in range(2, len(categorical_features)+1):\n",
    "            for combine in itertools.combinations(categorical_features, i):\n",
    "                if function.__name__ == 'count_std_over_mean':\n",
    "                    features_to_gen.append({'params': {'coefficient': 10}, 'function': function, 'feature_cols': list(combine)})\n",
    "                else:\n",
    "                    features_to_gen.append({'params': {}, 'function': function, 'feature_cols': list(combine)})\n",
    "                \n",
    "    return features_to_gen\n",
    "\n",
    "#features_to_gen = get_features_to_gen([fe.count, fe.unique_count, fe.cumulative_count,\n",
    "#                                      fe.reverse_cumulative_count, fe.variance, fe.count_std_over_mean])\n",
    "features_to_gen = get_features_to_gen([fe.count])\n",
    "\n",
    "features_to_gen"
   ]
  },
  {
   "cell_type": "code",
   "execution_count": 8,
   "metadata": {
    "ExecuteTime": {
     "end_time": "2018-06-20T19:36:11.683750Z",
     "start_time": "2018-06-20T19:36:11.674792Z"
    }
   },
   "outputs": [
    {
     "data": {
      "text/plain": [
       "4"
      ]
     },
     "execution_count": 8,
     "metadata": {},
     "output_type": "execute_result"
    }
   ],
   "source": [
    "len(features_to_gen)"
   ]
  },
  {
   "cell_type": "code",
   "execution_count": 9,
   "metadata": {
    "ExecuteTime": {
     "end_time": "2018-06-20T19:36:11.693229Z",
     "start_time": "2018-06-20T19:36:11.685018Z"
    },
    "collapsed": true
   },
   "outputs": [],
   "source": [
    "project_path = '/home/kai/data/shiyi/AlphaBoosting/automl/automl_app/project1/' "
   ]
  },
  {
   "cell_type": "code",
   "execution_count": 10,
   "metadata": {
    "ExecuteTime": {
     "end_time": "2018-06-20T19:36:11.703700Z",
     "start_time": "2018-06-20T19:36:11.694531Z"
    },
    "collapsed": true
   },
   "outputs": [],
   "source": [
    "from automl_app import logger_config\n",
    "\n",
    "logger_config.config(project_path+'log_project1.log')"
   ]
  },
  {
   "cell_type": "code",
   "execution_count": 11,
   "metadata": {
    "ExecuteTime": {
     "end_time": "2018-06-20T19:36:11.720034Z",
     "start_time": "2018-06-20T19:36:11.705042Z"
    },
    "collapsed": true
   },
   "outputs": [],
   "source": [
    "def lgb_gs_params_gen():\n",
    "    import time\n",
    "    import numpy as np\n",
    "    seed = int(time.time()* 1000000) % 45234634\n",
    "    np.random.seed(seed)\n",
    "    params = {    \n",
    "        'objective': 'binary',\n",
    "        'boosting': 'gbdt',\n",
    "        'num_rounds': 20,\n",
    "        'learning_rate': np.random.choice([0.1,0.03]),#0.001]),\n",
    "        'num_leaves': np.random.choice([15,31,61,127]),\n",
    "        'num_threads': 8, # best speed: set to number of real cpu cores, which is vCPU/2\n",
    "        'max_depth': -1, # no limit. This is used to deal with over-fitting when #data is small.\n",
    "        'min_data_in_leaf': np.random.randint(20,50),  #minimal number of data in one leaf. \n",
    "        'feature_fraction': np.random.randint(4,11)/10,\n",
    "        'feature_fraction_seed': seed,\n",
    "        'early_stopping_round':70,\n",
    "        'bagging_freq': 1, #0 means disable bagging. k: perform bagging at every k iteration\n",
    "        'bagging_fraction': np.random.randint(4,11)/10, #Randomly select part of data \n",
    "        'bagging_seed': seed,\n",
    "        'scale_pos_weight': 2,\n",
    "        'metric' : 'auc' \n",
    "    }\n",
    "    return params, seed"
   ]
  },
  {
   "cell_type": "code",
   "execution_count": 12,
   "metadata": {
    "ExecuteTime": {
     "end_time": "2018-06-20T19:36:11.730664Z",
     "start_time": "2018-06-20T19:36:11.721417Z"
    }
   },
   "outputs": [
    {
     "data": {
      "text/plain": [
       "({'bagging_fraction': 0.5,\n",
       "  'bagging_freq': 1,\n",
       "  'bagging_seed': 33118970,\n",
       "  'boosting': 'gbdt',\n",
       "  'early_stopping_round': 70,\n",
       "  'feature_fraction': 0.4,\n",
       "  'feature_fraction_seed': 33118970,\n",
       "  'learning_rate': 0.1,\n",
       "  'max_depth': -1,\n",
       "  'metric': 'auc',\n",
       "  'min_data_in_leaf': 35,\n",
       "  'num_leaves': 31,\n",
       "  'num_rounds': 20,\n",
       "  'num_threads': 8,\n",
       "  'objective': 'binary',\n",
       "  'scale_pos_weight': 2},\n",
       " 33118970)"
      ]
     },
     "execution_count": 12,
     "metadata": {},
     "output_type": "execute_result"
    }
   ],
   "source": [
    "lgb_gs_params_gen()"
   ]
  },
  {
   "cell_type": "code",
   "execution_count": 86,
   "metadata": {
    "ExecuteTime": {
     "end_time": "2018-06-22T00:21:44.131490Z",
     "start_time": "2018-06-22T00:21:28.430471Z"
    },
    "scrolled": false
   },
   "outputs": [
    {
     "name": "stderr",
     "output_type": "stream",
     "text": [
      "2018-06-21 20:21:28 EST | INFO     | automl_app.app.AlphaBoosting                 | __init__             | #58  | Run record file [./output/last_run_record.json] found. Continue from the previous run...\n",
      "2018-06-21 20:21:28 EST | INFO     | automl_app.app.AlphaBoosting                 | __init__             | #88  | save run record\n",
      "2018-06-21 20:21:28 EST | INFO     | automl_app.app.AlphaBoosting                 | _save_run_record     | #153 | val index is saved at ./temp_data/val_index.pkl\n",
      "2018-06-21 20:21:28 EST | INFO     | automl_app.app.AlphaBoosting                 | _save_run_record     | #155 | run record is saved at ./output/last_run_record.json\n",
      "2018-06-21 20:21:29 EST | INFO     | automl_app.app.AlphaBoosting                 | __init__             | #92  | generate todo list\n",
      "2018-06-21 20:21:29 EST | INFO     | automl_app.app.AlphaBoosting                 | __init__             | #108 | feature engineering\n",
      "2018-06-21 20:21:29 EST | INFO     | automl_app.app.AlphaBoosting                 | __init__             | #112 | validation\n",
      "2018-06-21 20:21:29 EST | INFO     | automl_app.app.AlphaBoosting                 | __init__             | #116 | concat test\n",
      "2018-06-21 20:21:30 EST | INFO     | automl_app.app.AlphaBoosting                 | __init__             | #120 | grid search\n",
      "2018-06-21 20:21:30 EST | DEBUG    | automl_libs.nn_libs                          | get_model            | #38  | prepare col [Dest] for NN\n",
      "2018-06-21 20:21:30 EST | DEBUG    | automl_libs.nn_libs                          | get_model            | #39  | embed input dimension: 293\n",
      "2018-06-21 20:21:30 EST | DEBUG    | automl_libs.nn_libs                          | get_model            | #40  | embed output dimension: 50\n",
      "2018-06-21 20:21:30 EST | DEBUG    | automl_libs.nn_libs                          | get_model            | #38  | prepare col [Origin] for NN\n",
      "2018-06-21 20:21:30 EST | DEBUG    | automl_libs.nn_libs                          | get_model            | #39  | embed input dimension: 292\n",
      "2018-06-21 20:21:30 EST | DEBUG    | automl_libs.nn_libs                          | get_model            | #40  | embed output dimension: 50\n",
      "2018-06-21 20:21:30 EST | DEBUG    | automl_libs.nn_libs                          | get_model            | #38  | prepare col [UniqueCarrier] for NN\n",
      "2018-06-21 20:21:30 EST | DEBUG    | automl_libs.nn_libs                          | get_model            | #39  | embed input dimension: 23\n",
      "2018-06-21 20:21:30 EST | DEBUG    | automl_libs.nn_libs                          | get_model            | #40  | embed output dimension: 50\n",
      "2018-06-21 20:21:30 EST | DEBUG    | automl_libs.nn_libs                          | get_model            | #38  | prepare col [DepTime] for NN\n",
      "2018-06-21 20:21:30 EST | DEBUG    | automl_libs.nn_libs                          | get_model            | #39  | embed input dimension: 27\n",
      "2018-06-21 20:21:30 EST | DEBUG    | automl_libs.nn_libs                          | get_model            | #40  | embed output dimension: 50\n",
      "2018-06-21 20:21:30 EST | DEBUG    | automl_libs.nn_libs                          | get_model            | #38  | prepare col [Month] for NN\n",
      "2018-06-21 20:21:30 EST | DEBUG    | automl_libs.nn_libs                          | get_model            | #39  | embed input dimension: 13\n",
      "2018-06-21 20:21:30 EST | DEBUG    | automl_libs.nn_libs                          | get_model            | #40  | embed output dimension: 50\n",
      "2018-06-21 20:21:30 EST | DEBUG    | automl_libs.nn_libs                          | get_model            | #38  | prepare col [DayOfWeek] for NN\n",
      "2018-06-21 20:21:30 EST | DEBUG    | automl_libs.nn_libs                          | get_model            | #39  | embed input dimension: 8\n",
      "2018-06-21 20:21:30 EST | DEBUG    | automl_libs.nn_libs                          | get_model            | #40  | embed output dimension: 50\n",
      "2018-06-21 20:21:30 EST | DEBUG    | automl_libs.nn_libs                          | get_model            | #38  | prepare col [Distance] for NN\n",
      "2018-06-21 20:21:30 EST | DEBUG    | automl_libs.nn_libs                          | get_model            | #39  | embed input dimension: 10\n",
      "2018-06-21 20:21:30 EST | DEBUG    | automl_libs.nn_libs                          | get_model            | #40  | embed output dimension: 50\n",
      "2018-06-21 20:21:30 EST | DEBUG    | automl_libs.nn_libs                          | get_model            | #38  | prepare col [DayofMonth] for NN\n",
      "2018-06-21 20:21:30 EST | DEBUG    | automl_libs.nn_libs                          | get_model            | #39  | embed input dimension: 32\n",
      "2018-06-21 20:21:30 EST | DEBUG    | automl_libs.nn_libs                          | get_model            | #40  | embed output dimension: 50\n",
      "2018-06-21 20:21:30 EST | DEBUG    | automl_libs.nn_libs                          | get_model            | #81  | steps in on epoch: 4\n",
      "2018-06-21 20:21:30 EST | DEBUG    | automl_libs.nn_libs                          | get_model            | #82  | steps for lr decay: 4\n",
      "2018-06-21 20:21:30 EST | DEBUG    | automl_libs.nn_libs                          | get_model            | #83  | lr decay: 0.259921\n"
     ]
    },
    {
     "name": "stdout",
     "output_type": "stream",
     "text": [
      "__________________________________________________________________________________________________\n",
      "Layer (type)                    Output Shape         Param #     Connected to                     \n",
      "==================================================================================================\n",
      "Dest (InputLayer)               (None, 1)            0                                            \n",
      "__________________________________________________________________________________________________\n",
      "Origin (InputLayer)             (None, 1)            0                                            \n",
      "__________________________________________________________________________________________________\n",
      "UniqueCarrier (InputLayer)      (None, 1)            0                                            \n",
      "__________________________________________________________________________________________________\n",
      "DepTime (InputLayer)            (None, 1)            0                                            \n",
      "__________________________________________________________________________________________________\n",
      "Month (InputLayer)              (None, 1)            0                                            \n",
      "__________________________________________________________________________________________________\n",
      "DayOfWeek (InputLayer)          (None, 1)            0                                            \n",
      "__________________________________________________________________________________________________\n",
      "Distance (InputLayer)           (None, 1)            0                                            \n",
      "__________________________________________________________________________________________________\n",
      "DayofMonth (InputLayer)         (None, 1)            0                                            \n",
      "__________________________________________________________________________________________________\n",
      "numerical_features (InputLayer) (None, 4)            0                                            \n",
      "__________________________________________________________________________________________________\n",
      "embedding_465 (Embedding)       (None, 1, 50)        14650       Dest[0][0]                       \n",
      "__________________________________________________________________________________________________\n",
      "embedding_466 (Embedding)       (None, 1, 50)        14600       Origin[0][0]                     \n",
      "__________________________________________________________________________________________________\n",
      "embedding_467 (Embedding)       (None, 1, 50)        1150        UniqueCarrier[0][0]              \n",
      "__________________________________________________________________________________________________\n",
      "embedding_468 (Embedding)       (None, 1, 50)        1350        DepTime[0][0]                    \n",
      "__________________________________________________________________________________________________\n",
      "embedding_469 (Embedding)       (None, 1, 50)        650         Month[0][0]                      \n",
      "__________________________________________________________________________________________________\n",
      "embedding_470 (Embedding)       (None, 1, 50)        400         DayOfWeek[0][0]                  \n",
      "__________________________________________________________________________________________________\n",
      "embedding_471 (Embedding)       (None, 1, 50)        500         Distance[0][0]                   \n",
      "__________________________________________________________________________________________________\n",
      "embedding_472 (Embedding)       (None, 1, 50)        1600        DayofMonth[0][0]                 \n",
      "__________________________________________________________________________________________________\n",
      "numerical_0_dense (Dense)       (None, 50)           250         numerical_features[0][0]         \n",
      "__________________________________________________________________________________________________\n",
      "concatenate_109 (Concatenate)   (None, 1, 400)       0           embedding_465[0][0]              \n",
      "                                                                 embedding_466[0][0]              \n",
      "                                                                 embedding_467[0][0]              \n",
      "                                                                 embedding_468[0][0]              \n",
      "                                                                 embedding_469[0][0]              \n",
      "                                                                 embedding_470[0][0]              \n",
      "                                                                 embedding_471[0][0]              \n",
      "                                                                 embedding_472[0][0]              \n",
      "__________________________________________________________________________________________________\n",
      "numerical_0_batchnorm (BatchNor (None, 50)           200         numerical_0_dense[0][0]          \n",
      "__________________________________________________________________________________________________\n",
      "spatial_dropout1d_56 (SpatialDr (None, 1, 400)       0           concatenate_109[0][0]            \n",
      "__________________________________________________________________________________________________\n",
      "numerical_0_activation (Activat (None, 50)           0           numerical_0_batchnorm[0][0]      \n",
      "__________________________________________________________________________________________________\n",
      "flatten_56 (Flatten)            (None, 400)          0           spatial_dropout1d_56[0][0]       \n",
      "__________________________________________________________________________________________________\n",
      "numerical_0_dropout (Dropout)   (None, 50)           0           numerical_0_activation[0][0]     \n",
      "__________________________________________________________________________________________________\n",
      "concatenate_110 (Concatenate)   (None, 450)          0           flatten_56[0][0]                 \n",
      "                                                                 numerical_0_dropout[0][0]        \n",
      "__________________________________________________________________________________________________\n",
      "combined_0_dense (Dense)        (None, 50)           22550       concatenate_110[0][0]            \n",
      "__________________________________________________________________________________________________\n",
      "combined_0_activation (Activati (None, 50)           0           combined_0_dense[0][0]           \n",
      "__________________________________________________________________________________________________\n",
      "combined_0_dropout (Dropout)    (None, 50)           0           combined_0_activation[0][0]      \n",
      "__________________________________________________________________________________________________\n",
      "dense_45 (Dense)                (None, 1)            51          combined_0_dropout[0][0]         \n",
      "==================================================================================================\n",
      "Total params: 57,951\n",
      "Trainable params: 57,851\n",
      "Non-trainable params: 100\n",
      "__________________________________________________________________________________________________\n",
      "Train on 10000 samples, validate on 200000 samples\n",
      "Epoch 1/1\n"
     ]
    },
    {
     "name": "stderr",
     "output_type": "stream",
     "text": [
      "2018-06-21 20:21:40 EST | DEBUG    | automl_libs.nn_libs.LearningRateTracker      | _show_lr             | #138 | After this epoch: init lr 0.010000, lr_decay 0.259921, iterations 5, current lr 0.004349\n"
     ]
    },
    {
     "name": "stdout",
     "output_type": "stream",
     "text": [
      "\n",
      "Epoch 00001: roc_auc_val improved from -inf to 0.61849, saving model to ./output/nn_models/nn_1529626890.hdf5\n",
      " - 13s - loss: 0.6946 - acc: 0.5314 - val_loss: 0.6464 - val_acc: 0.7153 - roc_auc_val: 0.6185\n"
     ]
    },
    {
     "data": {
      "text/plain": [
       "<automl_app.app.AlphaBoosting at 0x7f6ef87f82b0>"
      ]
     },
     "execution_count": 86,
     "metadata": {},
     "output_type": "execute_result"
    }
   ],
   "source": [
    "from automl_app.app import AlphaBoosting\n",
    "\n",
    "automl_config_file = project_path + 'automl_config.json'\n",
    "run_record_file_name = project_path + 'last_run_record.json' # don't created this file\n",
    "AlphaBoosting(automl_config_file, features_to_gen, lgb_gs_params_gen)"
   ]
  },
  {
   "cell_type": "code",
   "execution_count": null,
   "metadata": {
    "collapsed": true
   },
   "outputs": [],
   "source": []
  },
  {
   "cell_type": "code",
   "execution_count": null,
   "metadata": {
    "collapsed": true
   },
   "outputs": [],
   "source": []
  }
 ],
 "metadata": {
  "kernelspec": {
   "display_name": "Python 3.5 (tf_gpu)",
   "language": "python",
   "name": "tf_gpu"
  },
  "language_info": {
   "codemirror_mode": {
    "name": "ipython",
    "version": 3
   },
   "file_extension": ".py",
   "mimetype": "text/x-python",
   "name": "python",
   "nbconvert_exporter": "python",
   "pygments_lexer": "ipython3",
   "version": "3.5.4"
  },
  "varInspector": {
   "cols": {
    "lenName": 16,
    "lenType": 16,
    "lenVar": 40
   },
   "kernels_config": {
    "python": {
     "delete_cmd_postfix": "",
     "delete_cmd_prefix": "del ",
     "library": "var_list.py",
     "varRefreshCmd": "print(var_dic_list())"
    },
    "r": {
     "delete_cmd_postfix": ") ",
     "delete_cmd_prefix": "rm(",
     "library": "var_list.r",
     "varRefreshCmd": "cat(var_dic_list()) "
    }
   },
   "types_to_exclude": [
    "module",
    "function",
    "builtin_function_or_method",
    "instance",
    "_Feature"
   ],
   "window_display": false
  }
 },
 "nbformat": 4,
 "nbformat_minor": 2
}
