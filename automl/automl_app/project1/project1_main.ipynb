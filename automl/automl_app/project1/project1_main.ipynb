{
 "cells": [
  {
   "cell_type": "code",
   "execution_count": 1,
   "metadata": {
    "ExecuteTime": {
     "end_time": "2018-06-28T20:04:38.698125Z",
     "start_time": "2018-06-28T20:04:36.506433Z"
    }
   },
   "outputs": [
    {
     "name": "stdout",
     "output_type": "stream",
     "text": [
      "['', '/home/kai/anaconda3/envs/tf_gpu/lib/python35.zip', '/home/kai/anaconda3/envs/tf_gpu/lib/python3.5', '/home/kai/anaconda3/envs/tf_gpu/lib/python3.5/plat-linux', '/home/kai/anaconda3/envs/tf_gpu/lib/python3.5/lib-dynload', '/home/kai/.local/lib/python3.5/site-packages', '/home/kai/anaconda3/envs/tf_gpu/lib/python3.5/site-packages', '/home/kai/anaconda3/envs/tf_gpu/lib/python3.5/site-packages/IPython/extensions', '/home/kai/.ipython', '/home/kai/data/shiyi/AlphaBoosting/automl']\n"
     ]
    },
    {
     "name": "stderr",
     "output_type": "stream",
     "text": [
      "/home/kai/anaconda3/envs/tf_gpu/lib/python3.5/site-packages/h5py/__init__.py:36: FutureWarning: Conversion of the second argument of issubdtype from `float` to `np.floating` is deprecated. In future, it will be treated as `np.float64 == np.dtype(float).type`.\n",
      "  from ._conv import register_converters as _register_converters\n",
      "Using TensorFlow backend.\n"
     ]
    }
   ],
   "source": [
    "import os\n",
    "import sys\n",
    "#nb_dir = os.path.split(os.getcwd())[0]\n",
    "#if nb_dir not in sys.path:\n",
    "#    sys.path.append(nb_dir)\n",
    "    \n",
    "autolib_dir = '/home/kai/data/shiyi/AlphaBoosting/automl'\n",
    "if autolib_dir not in sys.path:\n",
    "    sys.path.append(autolib_dir)\n",
    "\n",
    "print(sys.path)\n",
    "\n",
    "%load_ext autoreload\n",
    "\n",
    "%autoreload 2\n",
    "\n",
    "from automl_libs import feature_engineering as fe\n",
    "from automl_libs import encoding, kernels, nn_libs "
   ]
  },
  {
   "cell_type": "code",
   "execution_count": 2,
   "metadata": {
    "ExecuteTime": {
     "end_time": "2018-06-28T20:04:38.722634Z",
     "start_time": "2018-06-28T20:04:38.699761Z"
    }
   },
   "outputs": [],
   "source": [
    "categorical_features = ['Month', 'DayofMonth', 'DayOfWeek']#, 'DepTime', 'UniqueCarrier', 'Origin', 'Dest', 'Distance']"
   ]
  },
  {
   "cell_type": "code",
   "execution_count": 3,
   "metadata": {
    "ExecuteTime": {
     "end_time": "2018-06-28T20:04:38.752753Z",
     "start_time": "2018-06-28T20:04:38.724465Z"
    }
   },
   "outputs": [
    {
     "data": {
      "text/plain": [
       "[{'feature_cols': ['Month', 'DayofMonth'],\n",
       "  'function': <function automl_libs.feature_engineering.count(df, cols, dummy_col, generated_feature_name, params=None)>,\n",
       "  'params': {}},\n",
       " {'feature_cols': ['Month', 'DayOfWeek'],\n",
       "  'function': <function automl_libs.feature_engineering.count(df, cols, dummy_col, generated_feature_name, params=None)>,\n",
       "  'params': {}},\n",
       " {'feature_cols': ['DayofMonth', 'DayOfWeek'],\n",
       "  'function': <function automl_libs.feature_engineering.count(df, cols, dummy_col, generated_feature_name, params=None)>,\n",
       "  'params': {}},\n",
       " {'feature_cols': ['Month', 'DayofMonth', 'DayOfWeek'],\n",
       "  'function': <function automl_libs.feature_engineering.count(df, cols, dummy_col, generated_feature_name, params=None)>,\n",
       "  'params': {}}]"
      ]
     },
     "execution_count": 3,
     "metadata": {},
     "output_type": "execute_result"
    }
   ],
   "source": [
    "import itertools\n",
    "#params = {'split_col': 't', 'coefficient': 10, 'n': 2, 'fillna': 22}\n",
    "def get_features_to_gen(function_list):\n",
    "    features_to_gen = []\n",
    "    for function in function_list:\n",
    "        for i in range(2, len(categorical_features)+1):\n",
    "            for combine in itertools.combinations(categorical_features, i):\n",
    "                if function.__name__ == 'count_std_over_mean':\n",
    "                    features_to_gen.append({'params': {'coefficient': 10}, 'function': function, 'feature_cols': list(combine)})\n",
    "                else:\n",
    "                    features_to_gen.append({'params': {}, 'function': function, 'feature_cols': list(combine)})\n",
    "                \n",
    "    return features_to_gen\n",
    "\n",
    "#features_to_gen = get_features_to_gen([fe.count, fe.unique_count, fe.cumulative_count,\n",
    "#                                      fe.reverse_cumulative_count, fe.variance, fe.count_std_over_mean])\n",
    "features_to_gen = get_features_to_gen([fe.count])\n",
    "\n",
    "features_to_gen"
   ]
  },
  {
   "cell_type": "code",
   "execution_count": 4,
   "metadata": {
    "ExecuteTime": {
     "end_time": "2018-06-28T20:04:38.774112Z",
     "start_time": "2018-06-28T20:04:38.754149Z"
    }
   },
   "outputs": [
    {
     "data": {
      "text/plain": [
       "4"
      ]
     },
     "execution_count": 4,
     "metadata": {},
     "output_type": "execute_result"
    }
   ],
   "source": [
    "len(features_to_gen)"
   ]
  },
  {
   "cell_type": "code",
   "execution_count": 5,
   "metadata": {
    "ExecuteTime": {
     "end_time": "2018-06-28T20:04:38.802124Z",
     "start_time": "2018-06-28T20:04:38.776119Z"
    }
   },
   "outputs": [],
   "source": [
    "project_path = '/home/kai/data/shiyi/AlphaBoosting/automl/automl_app/project1/' "
   ]
  },
  {
   "cell_type": "code",
   "execution_count": 6,
   "metadata": {
    "ExecuteTime": {
     "end_time": "2018-06-28T20:04:38.832035Z",
     "start_time": "2018-06-28T20:04:38.804117Z"
    }
   },
   "outputs": [],
   "source": [
    "from automl_app import logger_config\n",
    "\n",
    "logger_config.config(project_path+'log_project1.log')"
   ]
  },
  {
   "cell_type": "code",
   "execution_count": 28,
   "metadata": {
    "ExecuteTime": {
     "end_time": "2018-06-28T21:11:55.718529Z",
     "start_time": "2018-06-28T21:11:55.542708Z"
    }
   },
   "outputs": [],
   "source": [
    "def gs_params_gen(model='lgb'):\n",
    "    import time\n",
    "    import numpy as np\n",
    "    seed = int(time.time()* 1000000) % 45234634\n",
    "    np.random.seed(seed)\n",
    "    if model == 'lgb':\n",
    "        params = {    \n",
    "            'objective': 'binary',\n",
    "            'boosting': 'gbdt',\n",
    "            'num_boost_round': 20, # ignored in params. extract it and put it in input arguments in train or cv explicitly\n",
    "                                   # seems to work fine as the upper limit when combined with early_stopping_round\n",
    "            'learning_rate': np.random.choice([0.1,0.03]),#0.001]),\n",
    "            'num_leaves': np.random.choice([15,31]),#,61,127]),\n",
    "            'num_threads': 8, # best speed: set to number of real cpu cores, which is vCPU/2\n",
    "            'max_depth': -1, # no limit. This is used to deal with over-fitting when #data is small.\n",
    "            'min_data_in_leaf': np.random.randint(20,50),  #minimal number of data in one leaf. \n",
    "            'feature_fraction': np.random.randint(9,11)/10,\n",
    "            'feature_fraction_seed': seed,\n",
    "            'early_stopping_round':2,\n",
    "            'bagging_freq': 1, #0 means disable bagging. k: perform bagging at every k iteration\n",
    "            'bagging_fraction': np.random.randint(4,11)/10, #Randomly select part of data \n",
    "            'bagging_seed': seed,\n",
    "            'scale_pos_weight': 1,\n",
    "            'metric' : 'auc' \n",
    "        }\n",
    "    elif model == 'nn':\n",
    "        params = {\n",
    "            'nn_seed': int(time.time() * 1000000) % 45234634,\n",
    "            'ep_for_lr': 1,\n",
    "            'lr_init': 0.01,\n",
    "            'lr_fin': 0.005, # if == lr_init, then no lr decay\n",
    "            'batch_size': np.random.choice([32, 64, 128, 256, 512, 1024, 2048]),\n",
    "            \"pred_batch_size\": 100000,\n",
    "            'max_ep': 1,\n",
    "            'patience': 5,\n",
    "            'cat_emb_outdim': 50, # could be a constant or a dict (col name:embed out dim). e.g.:\n",
    "                                  # embed_outdim = [3, 3, 8, 8, 3]\n",
    "                                  # embed_outdim_dict = dict(zip(X_train.columns.values, embed_outdim))\n",
    "            'dense_units': 50,\n",
    "            'num_dense_n_layers': 1,\n",
    "            'drop_rate': 0.2,\n",
    "            'combined_dense_n_layers': 1\n",
    "        }\n",
    "    return params, seed"
   ]
  },
  {
   "cell_type": "code",
   "execution_count": 29,
   "metadata": {
    "ExecuteTime": {
     "end_time": "2018-06-28T21:11:57.077251Z",
     "start_time": "2018-06-28T21:11:57.048170Z"
    }
   },
   "outputs": [
    {
     "data": {
      "text/plain": [
       "({'bagging_fraction': 0.9,\n",
       "  'bagging_freq': 1,\n",
       "  'bagging_seed': 3223850,\n",
       "  'boosting': 'gbdt',\n",
       "  'early_stopping_round': 2,\n",
       "  'feature_fraction': 1.0,\n",
       "  'feature_fraction_seed': 3223850,\n",
       "  'learning_rate': 0.1,\n",
       "  'max_depth': -1,\n",
       "  'metric': 'auc',\n",
       "  'min_data_in_leaf': 32,\n",
       "  'num_boost_round': 20,\n",
       "  'num_leaves': 31,\n",
       "  'num_threads': 8,\n",
       "  'objective': 'binary',\n",
       "  'scale_pos_weight': 1},\n",
       " 3223850)"
      ]
     },
     "execution_count": 29,
     "metadata": {},
     "output_type": "execute_result"
    }
   ],
   "source": [
    "gs_params_gen('lgb')"
   ]
  },
  {
   "cell_type": "code",
   "execution_count": 58,
   "metadata": {
    "ExecuteTime": {
     "end_time": "2018-06-28T22:17:55.634619Z",
     "start_time": "2018-06-28T22:17:34.848587Z"
    },
    "scrolled": true
   },
   "outputs": [
    {
     "name": "stderr",
     "output_type": "stream",
     "text": [
      "2018-06-28 18:17:35 | INFO  | automl_app.app.AlphaBoosting  | __init__   | #66  | Run record file [./output/last_run_record.json] found. Continue from the previous run...\n",
      "2018-06-28 18:17:35 | INFO  | automl_app.app.AlphaBoosting  | __init__   | #95  | generate todo list\n",
      "2018-06-28 18:17:35 | INFO  | automl_app.app.AlphaBoosting  | __init__   | #111 | STAGE: FEATURE_ENGINEERING\n",
      "2018-06-28 18:17:35 | INFO  | automl_app.app.AlphaBoosting  | __init__   | #115 | STAGE: VALIDATION_DOWNSAMPLING_GEN\n",
      "2018-06-28 18:17:35 | INFO  | automl_app.app.AlphaBoosting  | __init__   | #119 | STAGE: CONCAT_DATA\n",
      "2018-06-28 18:17:35 | INFO  | automl_app.app.AlphaBoosting  | __init__   | #123 | STAGE: GRID_SEARCH\n"
     ]
    },
    {
     "name": "stdout",
     "output_type": "stream",
     "text": [
      "Training until validation scores don't improve for 2 rounds.\n"
     ]
    },
    {
     "name": "stderr",
     "output_type": "stream",
     "text": [
      "2018-06-28 18:17:38 | DEBUG | automl_libs.grid_search       | _lgb_gs    | #101 | [do_preds] is True, generating predictions ...\n",
      "2018-06-28 18:17:38 | DEBUG | automl_libs.grid_search       | _lgb_gs    | #102 | Retrain model using best_round and all data...\n"
     ]
    },
    {
     "name": "stdout",
     "output_type": "stream",
     "text": [
      "[20]\ttraining's auc: 0.741216\tvalid_1's auc: 0.736744\n",
      "Did not meet early stopping. Best iteration is:\n",
      "[20]\ttraining's auc: 0.741216\tvalid_1's auc: 0.736744\n",
      "[4]\ttraining's auc: 0.723836\n",
      "[8]\ttraining's auc: 0.732479\n",
      "[12]\ttraining's auc: 0.735115\n",
      "[16]\ttraining's auc: 0.738464\n"
     ]
    },
    {
     "name": "stderr",
     "output_type": "stream",
     "text": [
      "2018-06-28 18:17:40 | INFO  | automl_libs.grid_search       | _lgb_gs    | #113 | LGB predictions(1530224256) saved in ./output/gs_saved_preds/.\n",
      "2018-06-28 18:17:40 | DEBUG | automl_libs.grid_search       | gs         | #52  | ./output/lgb_grid_search.csv updated\n"
     ]
    },
    {
     "name": "stdout",
     "output_type": "stream",
     "text": [
      "[20]\ttraining's auc: 0.740784\n",
      "Training until validation scores don't improve for 2 rounds.\n"
     ]
    },
    {
     "name": "stderr",
     "output_type": "stream",
     "text": [
      "2018-06-28 18:17:43 | DEBUG | automl_libs.grid_search       | _lgb_gs    | #101 | [do_preds] is True, generating predictions ...\n",
      "2018-06-28 18:17:43 | DEBUG | automl_libs.grid_search       | _lgb_gs    | #102 | Retrain model using best_round and all data...\n"
     ]
    },
    {
     "name": "stdout",
     "output_type": "stream",
     "text": [
      "[20]\ttraining's auc: 0.724799\tvalid_1's auc: 0.720903\n",
      "Did not meet early stopping. Best iteration is:\n",
      "[20]\ttraining's auc: 0.724799\tvalid_1's auc: 0.720903\n",
      "[4]\ttraining's auc: 0.716728\n",
      "[8]\ttraining's auc: 0.720268\n",
      "[12]\ttraining's auc: 0.722548\n",
      "[16]\ttraining's auc: 0.723962\n"
     ]
    },
    {
     "name": "stderr",
     "output_type": "stream",
     "text": [
      "2018-06-28 18:17:46 | INFO  | automl_libs.grid_search       | _lgb_gs    | #113 | LGB predictions(1530224261) saved in ./output/gs_saved_preds/.\n",
      "2018-06-28 18:17:46 | DEBUG | automl_libs.grid_search       | gs         | #52  | ./output/lgb_grid_search.csv updated\n"
     ]
    },
    {
     "name": "stdout",
     "output_type": "stream",
     "text": [
      "[20]\ttraining's auc: 0.724933\n"
     ]
    },
    {
     "name": "stderr",
     "output_type": "stream",
     "text": [
      "2018-06-28 18:17:46 | INFO  | automl_app.app.AlphaBoosting  | __init__   | #127 | STAGE: STACKNET\n"
     ]
    },
    {
     "name": "stdout",
     "output_type": "stream",
     "text": [
      "<class 'pandas.core.frame.DataFrame'> <class 'pandas.core.frame.DataFrame'>\n",
      "data_id: flight_data_ordinal  \n",
      "\tx_train: (500000, 12)\tx_test: (100000, 12)\n",
      "\ty_train type: <class 'dict'>\n",
      "\tcompatible_models: {'LGB'}\n",
      " \n",
      "load from file\n",
      "1530220336 already processed in StackNet, so poped it from chosen_gs_results\n",
      "1530220352 already processed in StackNet, so poped it from chosen_gs_results\n",
      "1530224002 already processed in StackNet, so poped it from chosen_gs_results\n",
      "{'num_leaves': 31, 'metric': 'auc', 'bagging_fraction': 1.0, 'timestamp': '2018-06-28 18:17:36', 'bagging_seed': 5990243, 'objective': 'binary', 'learning_rate': 0.1, 'scale_pos_weight': 1, 'feature_fraction_seed': 5990243, 'gs_timespent': '0:00:02', 'pred_timespent': '0:00:02', 'feature_fraction': 0.9, 'best_round': 20, 'boosting': 'gbdt', 'bagging_freq': 1, 'num_threads': 8, 'min_data_in_leaf': 31, 'max_depth': -1, 'val_auc': 0.7367444682426831, 'train_auc': 0.7412158854455395}\n",
      "Computing... label: label        model_data_id: 1530224256__LGB_flight_data_ordinal\n",
      "processing fold 0...\n",
      "No evaluation set, thus not possible to use early stopping. Please train with your best params.\n",
      "[4]\ttraining's auc: 0.711458\n",
      "[8]\ttraining's auc: 0.712379\n",
      "[12]\ttraining's auc: 0.711407\n",
      "[16]\ttraining's auc: 0.714676\n",
      "[20]\ttraining's auc: 0.715841\n",
      "processing fold 1...\n",
      "No evaluation set, thus not possible to use early stopping. Please train with your best params.\n",
      "[4]\ttraining's auc: 0.712616\n",
      "[8]\ttraining's auc: 0.712745\n",
      "[12]\ttraining's auc: 0.711716\n",
      "[16]\ttraining's auc: 0.714676\n",
      "[20]\ttraining's auc: 0.71601\n",
      "processing fold 2...\n",
      "No evaluation set, thus not possible to use early stopping. Please train with your best params.\n",
      "[4]\ttraining's auc: 0.712811\n",
      "[8]\ttraining's auc: 0.713907\n",
      "[12]\ttraining's auc: 0.712363\n",
      "[16]\ttraining's auc: 0.715072\n",
      "[20]\ttraining's auc: 0.716216\n",
      "processing fold 3...\n",
      "No evaluation set, thus not possible to use early stopping. Please train with your best params.\n",
      "[4]\ttraining's auc: 0.713146\n",
      "[8]\ttraining's auc: 0.713704\n",
      "[12]\ttraining's auc: 0.711639\n",
      "[16]\ttraining's auc: 0.714946\n",
      "[20]\ttraining's auc: 0.71642\n",
      "processing fold 4...\n",
      "No evaluation set, thus not possible to use early stopping. Please train with your best params.\n",
      "[4]\ttraining's auc: 0.712054\n",
      "[8]\ttraining's auc: 0.712197\n",
      "[12]\ttraining's auc: 0.710679\n",
      "[16]\ttraining's auc: 0.713753\n",
      "[20]\ttraining's auc: 0.715149\n",
      "No evaluation set, thus not possible to use early stopping. Please train with your best params.\n",
      "[4]\ttraining's auc: 0.712717\n",
      "[8]\ttraining's auc: 0.713004\n",
      "[12]\ttraining's auc: 0.711648\n",
      "[16]\ttraining's auc: 0.714723\n",
      "[20]\ttraining's auc: 0.715826\n",
      "1530224256__LGB_flight_data_ordinal 0.7044085864530202\n",
      "1530224256__LGB_flight_data_ordinal already existed in the repo. score: 0 update to 0.7367444682426831\n",
      "--Return--\n",
      "> /home/kai/data/shiyi/AlphaBoosting/automl/automl_libs/stacknet.py(73)layer1()->None\n",
      "-> pdb.set_trace()\n",
      "(Pdb) c\n"
     ]
    },
    {
     "name": "stderr",
     "output_type": "stream",
     "text": [
      "2018-06-28 18:17:55 | INFO  | automl_app.app.AlphaBoosting  | __init__   | #131 | save run record\n",
      "2018-06-28 18:17:55 | INFO  | automl_app.app.AlphaBoosting  | _save_run_record | #163 | val index is saved at ./temp_data/val_index.pkl\n",
      "2018-06-28 18:17:55 | INFO  | automl_app.app.AlphaBoosting  | _save_run_record | #165 | run record is saved at ./output/last_run_record.json\n"
     ]
    },
    {
     "data": {
      "text/plain": [
       "<automl_app.app.AlphaBoosting at 0x7f20d63a3940>"
      ]
     },
     "execution_count": 58,
     "metadata": {},
     "output_type": "execute_result"
    }
   ],
   "source": [
    "from automl_app.app import AlphaBoosting\n",
    "\n",
    "automl_config_file = project_path + 'automl_config.json'\n",
    "run_record_file_name = project_path + 'last_run_record.json' # don't created this file\n",
    "AlphaBoosting(automl_config_file, features_to_gen, gs_params_gen)"
   ]
  },
  {
   "cell_type": "code",
   "execution_count": null,
   "metadata": {},
   "outputs": [],
   "source": []
  }
 ],
 "metadata": {
  "kernelspec": {
   "display_name": "Python 3.5 (tf_gpu)",
   "language": "python",
   "name": "tf_gpu"
  },
  "language_info": {
   "codemirror_mode": {
    "name": "ipython",
    "version": 3
   },
   "file_extension": ".py",
   "mimetype": "text/x-python",
   "name": "python",
   "nbconvert_exporter": "python",
   "pygments_lexer": "ipython3",
   "version": "3.5.5"
  },
  "varInspector": {
   "cols": {
    "lenName": 16,
    "lenType": 16,
    "lenVar": 40
   },
   "kernels_config": {
    "python": {
     "delete_cmd_postfix": "",
     "delete_cmd_prefix": "del ",
     "library": "var_list.py",
     "varRefreshCmd": "print(var_dic_list())"
    },
    "r": {
     "delete_cmd_postfix": ") ",
     "delete_cmd_prefix": "rm(",
     "library": "var_list.r",
     "varRefreshCmd": "cat(var_dic_list()) "
    }
   },
   "types_to_exclude": [
    "module",
    "function",
    "builtin_function_or_method",
    "instance",
    "_Feature"
   ],
   "window_display": false
  }
 },
 "nbformat": 4,
 "nbformat_minor": 2
}
