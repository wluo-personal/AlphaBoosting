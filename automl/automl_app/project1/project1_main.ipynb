{
 "cells": [
  {
   "cell_type": "code",
   "execution_count": 1,
   "metadata": {
    "ExecuteTime": {
     "end_time": "2018-06-22T16:33:30.060648Z",
     "start_time": "2018-06-22T16:33:30.057627Z"
    }
   },
   "outputs": [],
   "source": [
    "import os\n",
    "import sys\n",
    "#nb_dir = os.path.split(os.getcwd())[0]\n",
    "#if nb_dir not in sys.path:\n",
    "#    sys.path.append(nb_dir)\n",
    "    \n",
    "autolib_dir = '/home/kai/data/shiyi/AlphaBoosting/automl'\n",
    "if autolib_dir not in sys.path:\n",
    "    sys.path.append(autolib_dir)\n"
   ]
  },
  {
   "cell_type": "code",
   "execution_count": 2,
   "metadata": {
    "ExecuteTime": {
     "end_time": "2018-06-22T16:33:30.077926Z",
     "start_time": "2018-06-22T16:33:30.062048Z"
    }
   },
   "outputs": [
    {
     "data": {
      "text/plain": [
       "['',\n",
       " '/home/kai/anaconda3/envs/tf_gpu/lib/python35.zip',\n",
       " '/home/kai/anaconda3/envs/tf_gpu/lib/python3.5',\n",
       " '/home/kai/anaconda3/envs/tf_gpu/lib/python3.5/plat-linux',\n",
       " '/home/kai/anaconda3/envs/tf_gpu/lib/python3.5/lib-dynload',\n",
       " '/home/kai/.local/lib/python3.5/site-packages',\n",
       " '/home/kai/anaconda3/envs/tf_gpu/lib/python3.5/site-packages',\n",
       " '/home/kai/anaconda3/envs/tf_gpu/lib/python3.5/site-packages/IPython/extensions',\n",
       " '/home/kai/.ipython',\n",
       " '/home/kai/data/shiyi/AlphaBoosting/automl']"
      ]
     },
     "execution_count": 2,
     "metadata": {},
     "output_type": "execute_result"
    }
   ],
   "source": [
    "sys.path"
   ]
  },
  {
   "cell_type": "code",
   "execution_count": 3,
   "metadata": {
    "ExecuteTime": {
     "end_time": "2018-06-22T16:33:30.090882Z",
     "start_time": "2018-06-22T16:33:30.079344Z"
    }
   },
   "outputs": [],
   "source": [
    "%load_ext autoreload"
   ]
  },
  {
   "cell_type": "code",
   "execution_count": 4,
   "metadata": {
    "ExecuteTime": {
     "end_time": "2018-06-22T16:33:30.094310Z",
     "start_time": "2018-06-22T16:33:30.092397Z"
    }
   },
   "outputs": [],
   "source": [
    "%autoreload 2"
   ]
  },
  {
   "cell_type": "code",
   "execution_count": 5,
   "metadata": {
    "ExecuteTime": {
     "end_time": "2018-06-22T16:33:31.876231Z",
     "start_time": "2018-06-22T16:33:30.096159Z"
    }
   },
   "outputs": [
    {
     "name": "stderr",
     "output_type": "stream",
     "text": [
      "/home/kai/anaconda3/envs/tf_gpu/lib/python3.5/site-packages/h5py/__init__.py:36: FutureWarning: Conversion of the second argument of issubdtype from `float` to `np.floating` is deprecated. In future, it will be treated as `np.float64 == np.dtype(float).type`.\n",
      "  from ._conv import register_converters as _register_converters\n",
      "Using TensorFlow backend.\n"
     ]
    }
   ],
   "source": [
    "from automl_libs import feature_engineering as fe\n",
    "from automl_libs import encoding, kernels, nn_libs "
   ]
  },
  {
   "cell_type": "code",
   "execution_count": 6,
   "metadata": {
    "ExecuteTime": {
     "end_time": "2018-06-22T16:33:31.903721Z",
     "start_time": "2018-06-22T16:33:31.878442Z"
    }
   },
   "outputs": [],
   "source": [
    "categorical_features = ['Month', 'DayofMonth', 'DayOfWeek']#, 'DepTime', 'UniqueCarrier', 'Origin', 'Dest', 'Distance']"
   ]
  },
  {
   "cell_type": "code",
   "execution_count": 7,
   "metadata": {
    "ExecuteTime": {
     "end_time": "2018-06-22T16:33:31.935157Z",
     "start_time": "2018-06-22T16:33:31.905660Z"
    }
   },
   "outputs": [
    {
     "data": {
      "text/plain": [
       "[{'feature_cols': ['Month', 'DayofMonth'],\n",
       "  'function': <function automl_libs.feature_engineering.count(df, cols, dummy_col, generated_feature_name, params=None)>,\n",
       "  'params': {}},\n",
       " {'feature_cols': ['Month', 'DayOfWeek'],\n",
       "  'function': <function automl_libs.feature_engineering.count(df, cols, dummy_col, generated_feature_name, params=None)>,\n",
       "  'params': {}},\n",
       " {'feature_cols': ['DayofMonth', 'DayOfWeek'],\n",
       "  'function': <function automl_libs.feature_engineering.count(df, cols, dummy_col, generated_feature_name, params=None)>,\n",
       "  'params': {}},\n",
       " {'feature_cols': ['Month', 'DayofMonth', 'DayOfWeek'],\n",
       "  'function': <function automl_libs.feature_engineering.count(df, cols, dummy_col, generated_feature_name, params=None)>,\n",
       "  'params': {}}]"
      ]
     },
     "execution_count": 7,
     "metadata": {},
     "output_type": "execute_result"
    }
   ],
   "source": [
    "import itertools\n",
    "#params = {'split_col': 't', 'coefficient': 10, 'n': 2, 'fillna': 22}\n",
    "def get_features_to_gen(function_list):\n",
    "    features_to_gen = []\n",
    "    for function in function_list:\n",
    "        for i in range(2, len(categorical_features)+1):\n",
    "            for combine in itertools.combinations(categorical_features, i):\n",
    "                if function.__name__ == 'count_std_over_mean':\n",
    "                    features_to_gen.append({'params': {'coefficient': 10}, 'function': function, 'feature_cols': list(combine)})\n",
    "                else:\n",
    "                    features_to_gen.append({'params': {}, 'function': function, 'feature_cols': list(combine)})\n",
    "                \n",
    "    return features_to_gen\n",
    "\n",
    "#features_to_gen = get_features_to_gen([fe.count, fe.unique_count, fe.cumulative_count,\n",
    "#                                      fe.reverse_cumulative_count, fe.variance, fe.count_std_over_mean])\n",
    "features_to_gen = get_features_to_gen([fe.count])\n",
    "\n",
    "features_to_gen"
   ]
  },
  {
   "cell_type": "code",
   "execution_count": 8,
   "metadata": {
    "ExecuteTime": {
     "end_time": "2018-06-22T16:33:31.961089Z",
     "start_time": "2018-06-22T16:33:31.936995Z"
    }
   },
   "outputs": [
    {
     "data": {
      "text/plain": [
       "4"
      ]
     },
     "execution_count": 8,
     "metadata": {},
     "output_type": "execute_result"
    }
   ],
   "source": [
    "len(features_to_gen)"
   ]
  },
  {
   "cell_type": "code",
   "execution_count": 9,
   "metadata": {
    "ExecuteTime": {
     "end_time": "2018-06-22T16:33:31.986083Z",
     "start_time": "2018-06-22T16:33:31.962927Z"
    }
   },
   "outputs": [],
   "source": [
    "project_path = '/home/kai/data/shiyi/AlphaBoosting/automl/automl_app/project1/' "
   ]
  },
  {
   "cell_type": "code",
   "execution_count": 10,
   "metadata": {
    "ExecuteTime": {
     "end_time": "2018-06-22T16:33:32.012571Z",
     "start_time": "2018-06-22T16:33:31.987889Z"
    }
   },
   "outputs": [],
   "source": [
    "from automl_app import logger_config\n",
    "\n",
    "logger_config.config(project_path+'log_project1.log')"
   ]
  },
  {
   "cell_type": "code",
   "execution_count": 11,
   "metadata": {
    "ExecuteTime": {
     "end_time": "2018-06-22T16:33:32.051412Z",
     "start_time": "2018-06-22T16:33:32.014418Z"
    }
   },
   "outputs": [],
   "source": [
    "def gs_params_gen(model='lgb'):\n",
    "    import time\n",
    "    import numpy as np\n",
    "    seed = int(time.time()* 1000000) % 45234634\n",
    "    np.random.seed(seed)\n",
    "    if model == 'lgb':\n",
    "        params = {    \n",
    "            'objective': 'binary',\n",
    "            'boosting': 'gbdt',\n",
    "            'num_rounds': 20,\n",
    "            'learning_rate': np.random.choice([0.1,0.03]),#0.001]),\n",
    "            'num_leaves': np.random.choice([15,31,61,127]),\n",
    "            'num_threads': 8, # best speed: set to number of real cpu cores, which is vCPU/2\n",
    "            'max_depth': -1, # no limit. This is used to deal with over-fitting when #data is small.\n",
    "            'min_data_in_leaf': np.random.randint(20,50),  #minimal number of data in one leaf. \n",
    "            'feature_fraction': np.random.randint(4,11)/10,\n",
    "            'feature_fraction_seed': seed,\n",
    "            'early_stopping_round':70,\n",
    "            'bagging_freq': 1, #0 means disable bagging. k: perform bagging at every k iteration\n",
    "            'bagging_fraction': np.random.randint(4,11)/10, #Randomly select part of data \n",
    "            'bagging_seed': seed,\n",
    "            'scale_pos_weight': 2,\n",
    "            'metric' : 'auc' \n",
    "        }\n",
    "    elif model == 'nn':\n",
    "        params = {\n",
    "            'nn_seed': int(time.time() * 1000000) % 45234634,\n",
    "            'ep_for_lr': 1,\n",
    "            'lr_init': 0.01,\n",
    "            'lr_fin': 0.005,\n",
    "            'batch_size': np.random.choice([32, 64, 128, 256, 512, 1024, 2048]),\n",
    "            \"pred_batch_size\": 100000,\n",
    "            'max_ep': 1,\n",
    "            'patience': 5,\n",
    "            'cat_emb_outdim': 50,\n",
    "            'dense_units': 50,\n",
    "            'num_dense_n_layers': 1,\n",
    "            'drop_rate': 0.2,\n",
    "            'combined_dense_n_layers': 1\n",
    "        }\n",
    "    return params, seed"
   ]
  },
  {
   "cell_type": "code",
   "execution_count": 12,
   "metadata": {
    "ExecuteTime": {
     "end_time": "2018-06-22T16:33:32.078103Z",
     "start_time": "2018-06-22T16:33:32.053270Z"
    }
   },
   "outputs": [
    {
     "data": {
      "text/plain": [
       "({'batch_size': 512,\n",
       "  'cat_emb_outdim': 50,\n",
       "  'combined_dense_n_layers': 1,\n",
       "  'dense_units': 50,\n",
       "  'drop_rate': 0.2,\n",
       "  'ep_for_lr': 1,\n",
       "  'lr_fin': 0.005,\n",
       "  'lr_init': 0.01,\n",
       "  'max_ep': 1,\n",
       "  'nn_seed': 23945683,\n",
       "  'num_dense_n_layers': 1,\n",
       "  'patience': 5,\n",
       "  'pred_batch_size': 100000},\n",
       " 23945673)"
      ]
     },
     "execution_count": 12,
     "metadata": {},
     "output_type": "execute_result"
    }
   ],
   "source": [
    "gs_params_gen('nn')"
   ]
  },
  {
   "cell_type": "code",
   "execution_count": 13,
   "metadata": {
    "ExecuteTime": {
     "end_time": "2018-06-22T16:33:42.764629Z",
     "start_time": "2018-06-22T16:33:32.079919Z"
    },
    "scrolled": true
   },
   "outputs": [
    {
     "name": "stderr",
     "output_type": "stream",
     "text": [
      "/home/kai/data/shiyi/AlphaBoosting/automl/automl_app/app.py:123: FutureWarning: Sorting because non-concatenation axis is not aligned. A future version\n",
      "of pandas will change to not sort by default.\n",
      "\n",
      "To accept the future behavior, pass 'sort=False'.\n",
      "\n",
      "To retain the current behavior and silence the warning, pass 'sort=True'.\n",
      "\n",
      "  self.df = pd.concat([self.train, self.test], ignore_index=True)\n",
      "2018-06-22 12:33:32 | INFO  | automl_app.app.AlphaBoosting  | __init__   | #55  | Run record file [./output/last_run_record.json] found. Continue from the previous run...\n",
      "2018-06-22 12:33:32 | INFO  | automl_app.app.AlphaBoosting  | __init__   | #84  | save run record\n",
      "2018-06-22 12:33:32 | INFO  | automl_app.app.AlphaBoosting  | _save_run_record | #148 | val index is saved at ./temp_data/val_index.pkl\n",
      "2018-06-22 12:33:32 | INFO  | automl_app.app.AlphaBoosting  | _save_run_record | #150 | run record is saved at ./output/last_run_record.json\n",
      "2018-06-22 12:33:32 | INFO  | automl_app.app.AlphaBoosting  | __init__   | #88  | generate todo list\n",
      "2018-06-22 12:33:32 | INFO  | automl_app.app.AlphaBoosting  | __init__   | #104 | feature engineering\n",
      "2018-06-22 12:33:32 | INFO  | automl_app.app.AlphaBoosting  | __init__   | #108 | validation\n",
      "2018-06-22 12:33:32 | INFO  | automl_app.app.AlphaBoosting  | __init__   | #112 | concat test\n",
      "2018-06-22 12:33:32 | INFO  | automl_app.app.AlphaBoosting  | __init__   | #116 | grid search\n",
      "2018-06-22 12:33:33 | DEBUG | automl_libs.nn_libs           | get_model  | #39  | Col [DayOfWeek]: embed dim: input 8, output 50\n",
      "2018-06-22 12:33:33 | DEBUG | automl_libs.nn_libs           | get_model  | #39  | Col [DepTime]: embed dim: input 27, output 50\n",
      "2018-06-22 12:33:33 | DEBUG | automl_libs.nn_libs           | get_model  | #39  | Col [Origin]: embed dim: input 292, output 50\n",
      "2018-06-22 12:33:33 | DEBUG | automl_libs.nn_libs           | get_model  | #39  | Col [Dest]: embed dim: input 293, output 50\n",
      "2018-06-22 12:33:33 | DEBUG | automl_libs.nn_libs           | get_model  | #39  | Col [DayofMonth]: embed dim: input 32, output 50\n",
      "2018-06-22 12:33:33 | DEBUG | automl_libs.nn_libs           | get_model  | #39  | Col [Distance]: embed dim: input 10, output 50\n",
      "2018-06-22 12:33:33 | DEBUG | automl_libs.nn_libs           | get_model  | #39  | Col [Month]: embed dim: input 13, output 50\n",
      "2018-06-22 12:33:33 | DEBUG | automl_libs.nn_libs           | get_model  | #39  | Col [UniqueCarrier]: embed dim: input 23, output 50\n",
      "2018-06-22 12:33:33 | DEBUG | automl_libs.nn_libs           | get_model  | #80  | steps in on epoch: 39\n",
      "2018-06-22 12:33:33 | DEBUG | automl_libs.nn_libs           | get_model  | #81  | steps for lr decay: 39\n",
      "2018-06-22 12:33:33 | DEBUG | automl_libs.nn_libs           | get_model  | #82  | lr decay: 0.018408\n"
     ]
    },
    {
     "name": "stdout",
     "output_type": "stream",
     "text": [
      "Train on 10000 samples, validate on 200000 samples\n",
      "Epoch 1/1\n"
     ]
    },
    {
     "name": "stderr",
     "output_type": "stream",
     "text": [
      "2018-06-22 12:33:38 | DEBUG | automl_libs.nn_libs.LearningRateTracker| _show_lr   | #137 | At epoch end: init lr 0.01000, lr_decay 0.01841, iterations 40, current lr 0.00576\n",
      "2018-06-22 12:33:38 | DEBUG | automl_libs.grid_search       | _nn_gs     | #166 | [do_preds] is True, generating predictions ...\n"
     ]
    },
    {
     "name": "stdout",
     "output_type": "stream",
     "text": [
      "\n",
      "Epoch 00001: roc_auc_val improved from -inf to 0.70494, saving model to ./output/gs_saved_preds/nn_saved_models/nn_1529685213.hdf5\n"
     ]
    },
    {
     "name": "stderr",
     "output_type": "stream",
     "text": [
      "2018-06-22 12:33:38 | INFO  | automl_libs.grid_search       | _nn_gs     | #172 | NN predictions(1529685213) saved in ./output/gs_saved_preds/.\n",
      "2018-06-22 12:33:38 | DEBUG | automl_libs.grid_search       | gs         | #51  | ./output/nn_grid_search.csv updated\n",
      "2018-06-22 12:33:39 | DEBUG | automl_libs.nn_libs           | get_model  | #39  | Col [DayOfWeek]: embed dim: input 8, output 50\n",
      "2018-06-22 12:33:39 | DEBUG | automl_libs.nn_libs           | get_model  | #39  | Col [DepTime]: embed dim: input 27, output 50\n",
      "2018-06-22 12:33:39 | DEBUG | automl_libs.nn_libs           | get_model  | #39  | Col [Origin]: embed dim: input 292, output 50\n",
      "2018-06-22 12:33:39 | DEBUG | automl_libs.nn_libs           | get_model  | #39  | Col [Dest]: embed dim: input 293, output 50\n",
      "2018-06-22 12:33:39 | DEBUG | automl_libs.nn_libs           | get_model  | #39  | Col [DayofMonth]: embed dim: input 32, output 50\n",
      "2018-06-22 12:33:39 | DEBUG | automl_libs.nn_libs           | get_model  | #39  | Col [Distance]: embed dim: input 10, output 50\n",
      "2018-06-22 12:33:39 | DEBUG | automl_libs.nn_libs           | get_model  | #39  | Col [Month]: embed dim: input 13, output 50\n",
      "2018-06-22 12:33:39 | DEBUG | automl_libs.nn_libs           | get_model  | #39  | Col [UniqueCarrier]: embed dim: input 23, output 50\n",
      "2018-06-22 12:33:40 | DEBUG | automl_libs.nn_libs           | get_model  | #80  | steps in on epoch: 4\n",
      "2018-06-22 12:33:40 | DEBUG | automl_libs.nn_libs           | get_model  | #81  | steps for lr decay: 4\n",
      "2018-06-22 12:33:40 | DEBUG | automl_libs.nn_libs           | get_model  | #82  | lr decay: 0.259921\n"
     ]
    },
    {
     "name": "stdout",
     "output_type": "stream",
     "text": [
      "Train on 10000 samples, validate on 200000 samples\n",
      "Epoch 1/1\n"
     ]
    },
    {
     "name": "stderr",
     "output_type": "stream",
     "text": [
      "2018-06-22 12:33:42 | DEBUG | automl_libs.nn_libs.LearningRateTracker| _show_lr   | #137 | At epoch end: init lr 0.01000, lr_decay 0.25992, iterations 5, current lr 0.00435\n"
     ]
    },
    {
     "name": "stdout",
     "output_type": "stream",
     "text": [
      "\n",
      "Epoch 00001: roc_auc_val improved from -inf to 0.61782, saving model to ./output/gs_saved_preds/nn_saved_models/nn_1529685219.hdf5\n"
     ]
    },
    {
     "name": "stderr",
     "output_type": "stream",
     "text": [
      "2018-06-22 12:33:42 | DEBUG | automl_libs.grid_search       | _nn_gs     | #166 | [do_preds] is True, generating predictions ...\n",
      "2018-06-22 12:33:42 | INFO  | automl_libs.grid_search       | _nn_gs     | #172 | NN predictions(1529685219) saved in ./output/gs_saved_preds/.\n",
      "2018-06-22 12:33:42 | DEBUG | automl_libs.grid_search       | gs         | #51  | ./output/nn_grid_search.csv updated\n"
     ]
    },
    {
     "data": {
      "text/plain": [
       "<automl_app.app.AlphaBoosting at 0x7f64c48b8978>"
      ]
     },
     "execution_count": 13,
     "metadata": {},
     "output_type": "execute_result"
    }
   ],
   "source": [
    "from automl_app.app import AlphaBoosting\n",
    "\n",
    "automl_config_file = project_path + 'automl_config.json'\n",
    "run_record_file_name = project_path + 'last_run_record.json' # don't created this file\n",
    "AlphaBoosting(automl_config_file, features_to_gen, gs_params_gen)"
   ]
  },
  {
   "cell_type": "code",
   "execution_count": null,
   "metadata": {},
   "outputs": [],
   "source": []
  },
  {
   "cell_type": "code",
   "execution_count": null,
   "metadata": {},
   "outputs": [],
   "source": []
  }
 ],
 "metadata": {
  "kernelspec": {
   "display_name": "Python 3.5 (tf_gpu)",
   "language": "python",
   "name": "tf_gpu"
  },
  "language_info": {
   "codemirror_mode": {
    "name": "ipython",
    "version": 3
   },
   "file_extension": ".py",
   "mimetype": "text/x-python",
   "name": "python",
   "nbconvert_exporter": "python",
   "pygments_lexer": "ipython3",
   "version": "3.5.5"
  },
  "varInspector": {
   "cols": {
    "lenName": 16,
    "lenType": 16,
    "lenVar": 40
   },
   "kernels_config": {
    "python": {
     "delete_cmd_postfix": "",
     "delete_cmd_prefix": "del ",
     "library": "var_list.py",
     "varRefreshCmd": "print(var_dic_list())"
    },
    "r": {
     "delete_cmd_postfix": ") ",
     "delete_cmd_prefix": "rm(",
     "library": "var_list.r",
     "varRefreshCmd": "cat(var_dic_list()) "
    }
   },
   "types_to_exclude": [
    "module",
    "function",
    "builtin_function_or_method",
    "instance",
    "_Feature"
   ],
   "window_display": false
  }
 },
 "nbformat": 4,
 "nbformat_minor": 2
}
