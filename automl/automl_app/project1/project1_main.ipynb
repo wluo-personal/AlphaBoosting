{
 "cells": [
  {
   "cell_type": "code",
   "execution_count": 1,
   "metadata": {
    "ExecuteTime": {
     "end_time": "2018-06-27T19:12:14.103684Z",
     "start_time": "2018-06-27T19:12:12.201110Z"
    }
   },
   "outputs": [
    {
     "name": "stdout",
     "output_type": "stream",
     "text": [
      "['', '/home/kai/anaconda3/envs/tf_gpu/lib/python35.zip', '/home/kai/anaconda3/envs/tf_gpu/lib/python3.5', '/home/kai/anaconda3/envs/tf_gpu/lib/python3.5/plat-linux', '/home/kai/anaconda3/envs/tf_gpu/lib/python3.5/lib-dynload', '/home/kai/.local/lib/python3.5/site-packages', '/home/kai/anaconda3/envs/tf_gpu/lib/python3.5/site-packages', '/home/kai/anaconda3/envs/tf_gpu/lib/python3.5/site-packages/IPython/extensions', '/home/kai/.ipython', '/home/kai/data/shiyi/AlphaBoosting/automl']\n"
     ]
    },
    {
     "name": "stderr",
     "output_type": "stream",
     "text": [
      "/home/kai/anaconda3/envs/tf_gpu/lib/python3.5/site-packages/h5py/__init__.py:36: FutureWarning: Conversion of the second argument of issubdtype from `float` to `np.floating` is deprecated. In future, it will be treated as `np.float64 == np.dtype(float).type`.\n",
      "  from ._conv import register_converters as _register_converters\n",
      "Using TensorFlow backend.\n"
     ]
    }
   ],
   "source": [
    "import os\n",
    "import sys\n",
    "#nb_dir = os.path.split(os.getcwd())[0]\n",
    "#if nb_dir not in sys.path:\n",
    "#    sys.path.append(nb_dir)\n",
    "    \n",
    "autolib_dir = '/home/kai/data/shiyi/AlphaBoosting/automl'\n",
    "if autolib_dir not in sys.path:\n",
    "    sys.path.append(autolib_dir)\n",
    "\n",
    "print(sys.path)\n",
    "\n",
    "%load_ext autoreload\n",
    "\n",
    "%autoreload 2\n",
    "\n",
    "from automl_libs import feature_engineering as fe\n",
    "from automl_libs import encoding, kernels, nn_libs "
   ]
  },
  {
   "cell_type": "code",
   "execution_count": 2,
   "metadata": {
    "ExecuteTime": {
     "end_time": "2018-06-27T19:12:14.141920Z",
     "start_time": "2018-06-27T19:12:14.107754Z"
    }
   },
   "outputs": [],
   "source": [
    "categorical_features = ['Month', 'DayofMonth', 'DayOfWeek']#, 'DepTime', 'UniqueCarrier', 'Origin', 'Dest', 'Distance']"
   ]
  },
  {
   "cell_type": "code",
   "execution_count": 3,
   "metadata": {
    "ExecuteTime": {
     "end_time": "2018-06-27T19:12:14.193945Z",
     "start_time": "2018-06-27T19:12:14.144420Z"
    }
   },
   "outputs": [
    {
     "data": {
      "text/plain": [
       "[{'feature_cols': ['Month', 'DayofMonth'],\n",
       "  'function': <function automl_libs.feature_engineering.count(df, cols, dummy_col, generated_feature_name, params=None)>,\n",
       "  'params': {}},\n",
       " {'feature_cols': ['Month', 'DayOfWeek'],\n",
       "  'function': <function automl_libs.feature_engineering.count(df, cols, dummy_col, generated_feature_name, params=None)>,\n",
       "  'params': {}},\n",
       " {'feature_cols': ['DayofMonth', 'DayOfWeek'],\n",
       "  'function': <function automl_libs.feature_engineering.count(df, cols, dummy_col, generated_feature_name, params=None)>,\n",
       "  'params': {}},\n",
       " {'feature_cols': ['Month', 'DayofMonth', 'DayOfWeek'],\n",
       "  'function': <function automl_libs.feature_engineering.count(df, cols, dummy_col, generated_feature_name, params=None)>,\n",
       "  'params': {}}]"
      ]
     },
     "execution_count": 3,
     "metadata": {},
     "output_type": "execute_result"
    }
   ],
   "source": [
    "import itertools\n",
    "#params = {'split_col': 't', 'coefficient': 10, 'n': 2, 'fillna': 22}\n",
    "def get_features_to_gen(function_list):\n",
    "    features_to_gen = []\n",
    "    for function in function_list:\n",
    "        for i in range(2, len(categorical_features)+1):\n",
    "            for combine in itertools.combinations(categorical_features, i):\n",
    "                if function.__name__ == 'count_std_over_mean':\n",
    "                    features_to_gen.append({'params': {'coefficient': 10}, 'function': function, 'feature_cols': list(combine)})\n",
    "                else:\n",
    "                    features_to_gen.append({'params': {}, 'function': function, 'feature_cols': list(combine)})\n",
    "                \n",
    "    return features_to_gen\n",
    "\n",
    "#features_to_gen = get_features_to_gen([fe.count, fe.unique_count, fe.cumulative_count,\n",
    "#                                      fe.reverse_cumulative_count, fe.variance, fe.count_std_over_mean])\n",
    "features_to_gen = get_features_to_gen([fe.count])\n",
    "\n",
    "features_to_gen"
   ]
  },
  {
   "cell_type": "code",
   "execution_count": 4,
   "metadata": {
    "ExecuteTime": {
     "end_time": "2018-06-27T19:12:14.234008Z",
     "start_time": "2018-06-27T19:12:14.196975Z"
    }
   },
   "outputs": [
    {
     "data": {
      "text/plain": [
       "4"
      ]
     },
     "execution_count": 4,
     "metadata": {},
     "output_type": "execute_result"
    }
   ],
   "source": [
    "len(features_to_gen)"
   ]
  },
  {
   "cell_type": "code",
   "execution_count": 5,
   "metadata": {
    "ExecuteTime": {
     "end_time": "2018-06-27T19:12:14.271018Z",
     "start_time": "2018-06-27T19:12:14.237222Z"
    }
   },
   "outputs": [],
   "source": [
    "project_path = '/home/kai/data/shiyi/AlphaBoosting/automl/automl_app/project1/' "
   ]
  },
  {
   "cell_type": "code",
   "execution_count": 6,
   "metadata": {
    "ExecuteTime": {
     "end_time": "2018-06-27T19:12:14.307007Z",
     "start_time": "2018-06-27T19:12:14.274023Z"
    }
   },
   "outputs": [],
   "source": [
    "from automl_app import logger_config\n",
    "\n",
    "logger_config.config(project_path+'log_project1.log')"
   ]
  },
  {
   "cell_type": "code",
   "execution_count": 7,
   "metadata": {
    "ExecuteTime": {
     "end_time": "2018-06-27T19:12:14.350623Z",
     "start_time": "2018-06-27T19:12:14.309519Z"
    }
   },
   "outputs": [],
   "source": [
    "def gs_params_gen(model='lgb'):\n",
    "    import time\n",
    "    import numpy as np\n",
    "    seed = int(time.time()* 1000000) % 45234634\n",
    "    np.random.seed(seed)\n",
    "    if model == 'lgb':\n",
    "        params = {    \n",
    "            'objective': 'binary',\n",
    "            'boosting': 'gbdt',\n",
    "            'num_boost_round': 20, # ignored in params. extract it and put it in input arguments in train or cv explicitly\n",
    "            'learning_rate': np.random.choice([0.1,0.03]),#0.001]),\n",
    "            'num_leaves': np.random.choice([15,31,61,127]),\n",
    "            'num_threads': 8, # best speed: set to number of real cpu cores, which is vCPU/2\n",
    "            'max_depth': -1, # no limit. This is used to deal with over-fitting when #data is small.\n",
    "            'min_data_in_leaf': np.random.randint(20,50),  #minimal number of data in one leaf. \n",
    "            'feature_fraction': np.random.randint(4,11)/10,\n",
    "            'feature_fraction_seed': seed,\n",
    "            'early_stopping_round':70,\n",
    "            'bagging_freq': 1, #0 means disable bagging. k: perform bagging at every k iteration\n",
    "            'bagging_fraction': np.random.randint(4,11)/10, #Randomly select part of data \n",
    "            'bagging_seed': seed,\n",
    "            'scale_pos_weight': 2,\n",
    "            'metric' : 'auc' \n",
    "        }\n",
    "    elif model == 'nn':\n",
    "        params = {\n",
    "            'nn_seed': int(time.time() * 1000000) % 45234634,\n",
    "            'ep_for_lr': 1,\n",
    "            'lr_init': 0.01,\n",
    "            'lr_fin': 0.005, # if == lr_init, then no lr decay\n",
    "            'batch_size': np.random.choice([32, 64, 128, 256, 512, 1024, 2048]),\n",
    "            \"pred_batch_size\": 100000,\n",
    "            'max_ep': 1,\n",
    "            'patience': 5,\n",
    "            'cat_emb_outdim': 50, # could be a constant or a dict (col name:embed out dim). e.g.:\n",
    "                                  # embed_outdim = [3, 3, 8, 8, 3]\n",
    "                                  # embed_outdim_dict = dict(zip(X_train.columns.values, embed_outdim))\n",
    "            'dense_units': 50,\n",
    "            'num_dense_n_layers': 1,\n",
    "            'drop_rate': 0.2,\n",
    "            'combined_dense_n_layers': 1\n",
    "        }\n",
    "    return params, seed"
   ]
  },
  {
   "cell_type": "code",
   "execution_count": 8,
   "metadata": {
    "ExecuteTime": {
     "end_time": "2018-06-27T19:12:14.389996Z",
     "start_time": "2018-06-27T19:12:14.353533Z"
    }
   },
   "outputs": [
    {
     "data": {
      "text/plain": [
       "({'bagging_fraction': 0.5,\n",
       "  'bagging_freq': 1,\n",
       "  'bagging_seed': 10992453,\n",
       "  'boosting': 'gbdt',\n",
       "  'early_stopping_round': 70,\n",
       "  'feature_fraction': 0.7,\n",
       "  'feature_fraction_seed': 10992453,\n",
       "  'learning_rate': 0.03,\n",
       "  'max_depth': -1,\n",
       "  'metric': 'auc',\n",
       "  'min_data_in_leaf': 47,\n",
       "  'num_leaves': 31,\n",
       "  'num_rounds': 20,\n",
       "  'num_threads': 8,\n",
       "  'objective': 'binary',\n",
       "  'scale_pos_weight': 2},\n",
       " 10992453)"
      ]
     },
     "execution_count": 8,
     "metadata": {},
     "output_type": "execute_result"
    }
   ],
   "source": [
    "gs_params_gen('lgb')"
   ]
  },
  {
   "cell_type": "code",
   "execution_count": 9,
   "metadata": {
    "ExecuteTime": {
     "end_time": "2018-06-27T19:12:44.291484Z",
     "start_time": "2018-06-27T19:12:14.392515Z"
    },
    "scrolled": true
   },
   "outputs": [
    {
     "name": "stderr",
     "output_type": "stream",
     "text": [
      "/home/kai/data/shiyi/AlphaBoosting/automl/automl_app/app.py:123: FutureWarning: Sorting because non-concatenation axis is not aligned. A future version\n",
      "of pandas will change to not sort by default.\n",
      "\n",
      "To accept the future behavior, pass 'sort=False'.\n",
      "\n",
      "To retain the current behavior and silence the warning, pass 'sort=True'.\n",
      "\n",
      "  self.df = pd.concat([self.train, self.test], ignore_index=True)\n",
      "2018-06-27 15:12:14 | INFO  | automl_app.app.AlphaBoosting  | __init__   | #55  | Run record file [./output/last_run_record.json] found. Continue from the previous run...\n",
      "2018-06-27 15:12:14 | INFO  | automl_app.app.AlphaBoosting  | __init__   | #84  | save run record\n",
      "2018-06-27 15:12:14 | INFO  | automl_app.app.AlphaBoosting  | _save_run_record | #148 | val index is saved at ./temp_data/val_index.pkl\n",
      "2018-06-27 15:12:14 | INFO  | automl_app.app.AlphaBoosting  | _save_run_record | #150 | run record is saved at ./output/last_run_record.json\n",
      "2018-06-27 15:12:14 | INFO  | automl_app.app.AlphaBoosting  | __init__   | #88  | generate todo list\n",
      "2018-06-27 15:12:14 | INFO  | automl_app.app.AlphaBoosting  | __init__   | #104 | feature engineering\n",
      "2018-06-27 15:12:14 | INFO  | automl_app.app.AlphaBoosting  | __init__   | #108 | validation\n",
      "2018-06-27 15:12:14 | INFO  | automl_app.app.AlphaBoosting  | __init__   | #112 | concat test\n",
      "2018-06-27 15:12:15 | INFO  | automl_app.app.AlphaBoosting  | __init__   | #116 | grid search\n",
      "2018-06-27 15:12:16 | DEBUG | automl_libs.nn_libs           | get_model  | #55  | Col [Distance]: embed dim: input 10, output 10\n",
      "2018-06-27 15:12:16 | DEBUG | automl_libs.nn_libs           | get_model  | #55  | Col [Month]: embed dim: input 13, output 13\n",
      "2018-06-27 15:12:16 | DEBUG | automl_libs.nn_libs           | get_model  | #55  | Col [DepTime]: embed dim: input 27, output 27\n",
      "2018-06-27 15:12:16 | DEBUG | automl_libs.nn_libs           | get_model  | #55  | Col [UniqueCarrier]: embed dim: input 23, output 23\n",
      "2018-06-27 15:12:16 | DEBUG | automl_libs.nn_libs           | get_model  | #55  | Col [DayOfWeek]: embed dim: input 8, output 8\n",
      "2018-06-27 15:12:16 | DEBUG | automl_libs.nn_libs           | get_model  | #55  | Col [DayofMonth]: embed dim: input 32, output 32\n",
      "2018-06-27 15:12:16 | DEBUG | automl_libs.nn_libs           | get_model  | #55  | Col [Origin]: embed dim: input 292, output 50\n",
      "2018-06-27 15:12:16 | DEBUG | automl_libs.nn_libs           | get_model  | #55  | Col [Dest]: embed dim: input 293, output 50\n",
      "2018-06-27 15:12:17 | DEBUG | automl_libs.nn_libs           | get_model  | #101 | steps in on epoch: 9\n",
      "2018-06-27 15:12:17 | DEBUG | automl_libs.nn_libs           | get_model  | #102 | steps for lr decay: 9\n",
      "2018-06-27 15:12:17 | DEBUG | automl_libs.nn_libs           | get_model  | #103 | lr decay: 0.090508\n"
     ]
    },
    {
     "name": "stdout",
     "output_type": "stream",
     "text": [
      "Train on 10000 samples, validate on 200000 samples\n",
      "Epoch 1/1\n"
     ]
    },
    {
     "name": "stderr",
     "output_type": "stream",
     "text": [
      "2018-06-27 15:12:27 | DEBUG | automl_libs.nn_libs.LearningRateTracker| _show_lr   | #160 | At epoch end: init lr 0.01000, lr_decay 0.09051, iterations 10, current lr 0.00525\n"
     ]
    },
    {
     "name": "stdout",
     "output_type": "stream",
     "text": [
      "\n",
      "Epoch 00001: roc_auc_val improved from -inf to 0.59748, saving model to ./output/gs_saved_preds/nn_saved_models/nn_1530126736.hdf5\n"
     ]
    },
    {
     "name": "stderr",
     "output_type": "stream",
     "text": [
      "2018-06-27 15:12:27 | DEBUG | automl_libs.grid_search       | _nn_gs     | #166 | [do_preds] is True, generating predictions ...\n",
      "2018-06-27 15:12:28 | INFO  | automl_libs.grid_search       | _nn_gs     | #172 | NN predictions(1530126736) saved in ./output/gs_saved_preds/.\n",
      "2018-06-27 15:12:28 | DEBUG | automl_libs.grid_search       | gs         | #51  | ./output/nn_grid_search.csv updated\n",
      "2018-06-27 15:12:29 | DEBUG | automl_libs.nn_libs           | get_model  | #55  | Col [Distance]: embed dim: input 10, output 10\n",
      "2018-06-27 15:12:29 | DEBUG | automl_libs.nn_libs           | get_model  | #55  | Col [Month]: embed dim: input 13, output 13\n",
      "2018-06-27 15:12:29 | DEBUG | automl_libs.nn_libs           | get_model  | #55  | Col [DepTime]: embed dim: input 27, output 27\n",
      "2018-06-27 15:12:29 | DEBUG | automl_libs.nn_libs           | get_model  | #55  | Col [UniqueCarrier]: embed dim: input 23, output 23\n",
      "2018-06-27 15:12:29 | DEBUG | automl_libs.nn_libs           | get_model  | #55  | Col [DayOfWeek]: embed dim: input 8, output 8\n",
      "2018-06-27 15:12:29 | DEBUG | automl_libs.nn_libs           | get_model  | #55  | Col [DayofMonth]: embed dim: input 32, output 32\n",
      "2018-06-27 15:12:29 | DEBUG | automl_libs.nn_libs           | get_model  | #55  | Col [Origin]: embed dim: input 292, output 50\n",
      "2018-06-27 15:12:29 | DEBUG | automl_libs.nn_libs           | get_model  | #55  | Col [Dest]: embed dim: input 293, output 50\n",
      "2018-06-27 15:12:31 | DEBUG | automl_libs.nn_libs           | get_model  | #101 | steps in on epoch: 39\n",
      "2018-06-27 15:12:31 | DEBUG | automl_libs.nn_libs           | get_model  | #102 | steps for lr decay: 39\n",
      "2018-06-27 15:12:31 | DEBUG | automl_libs.nn_libs           | get_model  | #103 | lr decay: 0.018408\n"
     ]
    },
    {
     "name": "stdout",
     "output_type": "stream",
     "text": [
      "Train on 10000 samples, validate on 200000 samples\n",
      "Epoch 1/1\n"
     ]
    },
    {
     "name": "stderr",
     "output_type": "stream",
     "text": [
      "2018-06-27 15:12:40 | DEBUG | automl_libs.nn_libs.LearningRateTracker| _show_lr   | #160 | At epoch end: init lr 0.01000, lr_decay 0.01841, iterations 40, current lr 0.00576\n"
     ]
    },
    {
     "name": "stdout",
     "output_type": "stream",
     "text": [
      "\n",
      "Epoch 00001: roc_auc_val improved from -inf to 0.70469, saving model to ./output/gs_saved_preds/nn_saved_models/nn_1530126749.hdf5\n"
     ]
    },
    {
     "name": "stderr",
     "output_type": "stream",
     "text": [
      "2018-06-27 15:12:42 | DEBUG | automl_libs.grid_search       | _nn_gs     | #166 | [do_preds] is True, generating predictions ...\n",
      "2018-06-27 15:12:44 | INFO  | automl_libs.grid_search       | _nn_gs     | #172 | NN predictions(1530126749) saved in ./output/gs_saved_preds/.\n",
      "2018-06-27 15:12:44 | DEBUG | automl_libs.grid_search       | gs         | #51  | ./output/nn_grid_search.csv updated\n"
     ]
    },
    {
     "data": {
      "text/plain": [
       "<automl_app.app.AlphaBoosting at 0x7ff5bd74da58>"
      ]
     },
     "execution_count": 9,
     "metadata": {},
     "output_type": "execute_result"
    }
   ],
   "source": [
    "from automl_app.app import AlphaBoosting\n",
    "\n",
    "automl_config_file = project_path + 'automl_config.json'\n",
    "run_record_file_name = project_path + 'last_run_record.json' # don't created this file\n",
    "AlphaBoosting(automl_config_file, features_to_gen, gs_params_gen)"
   ]
  },
  {
   "cell_type": "code",
   "execution_count": null,
   "metadata": {},
   "outputs": [],
   "source": []
  }
 ],
 "metadata": {
  "kernelspec": {
   "display_name": "Python 3.5 (tf_gpu)",
   "language": "python",
   "name": "tf_gpu"
  },
  "language_info": {
   "codemirror_mode": {
    "name": "ipython",
    "version": 3
   },
   "file_extension": ".py",
   "mimetype": "text/x-python",
   "name": "python",
   "nbconvert_exporter": "python",
   "pygments_lexer": "ipython3",
   "version": "3.5.5"
  },
  "varInspector": {
   "cols": {
    "lenName": 16,
    "lenType": 16,
    "lenVar": 40
   },
   "kernels_config": {
    "python": {
     "delete_cmd_postfix": "",
     "delete_cmd_prefix": "del ",
     "library": "var_list.py",
     "varRefreshCmd": "print(var_dic_list())"
    },
    "r": {
     "delete_cmd_postfix": ") ",
     "delete_cmd_prefix": "rm(",
     "library": "var_list.r",
     "varRefreshCmd": "cat(var_dic_list()) "
    }
   },
   "types_to_exclude": [
    "module",
    "function",
    "builtin_function_or_method",
    "instance",
    "_Feature"
   ],
   "window_display": false
  }
 },
 "nbformat": 4,
 "nbformat_minor": 2
}
