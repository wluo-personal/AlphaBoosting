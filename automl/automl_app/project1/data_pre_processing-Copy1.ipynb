{
 "cells": [
  {
   "cell_type": "code",
   "execution_count": 1,
   "metadata": {
    "ExecuteTime": {
     "end_time": "2018-07-06T16:36:38.494461Z",
     "start_time": "2018-07-06T16:36:38.223635Z"
    }
   },
   "outputs": [],
   "source": [
    "import json\n",
    "import pandas as pd"
   ]
  },
  {
   "cell_type": "code",
   "execution_count": 2,
   "metadata": {
    "ExecuteTime": {
     "end_time": "2018-07-06T16:36:38.538550Z",
     "start_time": "2018-07-06T16:36:38.520954Z"
    }
   },
   "outputs": [],
   "source": [
    "config_dict = json.load(open('automl_config.json','r'))"
   ]
  },
  {
   "cell_type": "code",
   "execution_count": 3,
   "metadata": {
    "ExecuteTime": {
     "end_time": "2018-07-06T16:36:39.025578Z",
     "start_time": "2018-07-06T16:36:38.892363Z"
    }
   },
   "outputs": [],
   "source": [
    "train = pd.read_pickle(config_dict['train_data_url'])\n",
    "test = pd.read_pickle(config_dict['test_data_url'])\n",
    "y_test = np.load('/home/kai/data/shiyi/data/flight_data/testY_100k.npy')"
   ]
  },
  {
   "cell_type": "code",
   "execution_count": 67,
   "metadata": {
    "ExecuteTime": {
     "end_time": "2018-07-06T14:55:45.811661Z",
     "start_time": "2018-07-06T14:55:45.666857Z"
    }
   },
   "outputs": [],
   "source": [
    "train_ori = pd.read_pickle('/home/kai/data/shiyi/data/flight_data/train_ori_1M.pkl')\n",
    "test_ori = pd.read_pickle('/home/kai/data/shiyi/data/flight_data/testX_ori_100k.pkl')"
   ]
  },
  {
   "cell_type": "code",
   "execution_count": 4,
   "metadata": {
    "ExecuteTime": {
     "end_time": "2018-07-06T16:36:43.697041Z",
     "start_time": "2018-07-06T16:36:43.665223Z"
    }
   },
   "outputs": [
    {
     "data": {
      "text/plain": [
       "((1000000, 9), (100000, 8), (100000,))"
      ]
     },
     "execution_count": 4,
     "metadata": {},
     "output_type": "execute_result"
    }
   ],
   "source": [
    "train.shape, test.shape, y_test.shape"
   ]
  },
  {
   "cell_type": "code",
   "execution_count": 5,
   "metadata": {
    "ExecuteTime": {
     "end_time": "2018-07-06T16:36:48.062314Z",
     "start_time": "2018-07-06T16:36:48.005539Z"
    }
   },
   "outputs": [
    {
     "name": "stdout",
     "output_type": "stream",
     "text": [
      "Month 12\n",
      "DayofMonth 31\n",
      "DayOfWeek 7\n",
      "DepTime 27\n",
      "UniqueCarrier 22\n",
      "Origin 291\n",
      "Dest 292\n",
      "Distance 10\n",
      "label 2\n"
     ]
    }
   ],
   "source": [
    "for col in train.columns:\n",
    "    print(col, train[col].nunique())"
   ]
  },
  {
   "cell_type": "code",
   "execution_count": 6,
   "metadata": {
    "ExecuteTime": {
     "end_time": "2018-07-06T16:36:59.881927Z",
     "start_time": "2018-07-06T16:36:59.877700Z"
    }
   },
   "outputs": [
    {
     "data": {
      "text/plain": [
       "['Month',\n",
       " 'DayofMonth',\n",
       " 'DayOfWeek',\n",
       " 'DepTime',\n",
       " 'UniqueCarrier',\n",
       " 'Origin',\n",
       " 'Dest',\n",
       " 'Distance']"
      ]
     },
     "execution_count": 6,
     "metadata": {},
     "output_type": "execute_result"
    }
   ],
   "source": [
    "features_cols = list(test.columns)\n",
    "features_cols"
   ]
  },
  {
   "cell_type": "code",
   "execution_count": 7,
   "metadata": {
    "ExecuteTime": {
     "end_time": "2018-07-06T16:37:12.033006Z",
     "start_time": "2018-07-06T16:37:11.553703Z"
    }
   },
   "outputs": [],
   "source": [
    "X_train_ordinal = train[features_cols]\n",
    "y_train = train['label']\n",
    "X_test_ordinal = test"
   ]
  },
  {
   "cell_type": "code",
   "execution_count": 8,
   "metadata": {
    "ExecuteTime": {
     "end_time": "2018-07-06T16:37:14.476116Z",
     "start_time": "2018-07-06T16:37:13.365441Z"
    }
   },
   "outputs": [],
   "source": [
    "from sklearn import preprocessing\n",
    "from sklearn.ensemble import RandomForestClassifier\n",
    "from sklearn.linear_model import LogisticRegression\n",
    "from sklearn.svm import LinearSVC\n",
    "from sklearn.calibration import CalibratedClassifierCV\n",
    "from sklearn.metrics import log_loss, roc_auc_score\n",
    "from sklearn.ensemble import BaggingClassifier"
   ]
  },
  {
   "cell_type": "code",
   "execution_count": 9,
   "metadata": {
    "ExecuteTime": {
     "end_time": "2018-07-06T16:37:14.807893Z",
     "start_time": "2018-07-06T16:37:14.801146Z"
    }
   },
   "outputs": [],
   "source": [
    "l = LogisticRegression()\n",
    "r = RandomForestClassifier(n_estimators=25,max_depth=10)"
   ]
  },
  {
   "cell_type": "code",
   "execution_count": 18,
   "metadata": {
    "ExecuteTime": {
     "end_time": "2018-07-05T20:22:17.111543Z",
     "start_time": "2018-07-05T20:22:05.212592Z"
    }
   },
   "outputs": [
    {
     "data": {
      "text/plain": [
       "(0.48960758075351435, 0.6838084961007302)"
      ]
     },
     "execution_count": 18,
     "metadata": {},
     "output_type": "execute_result"
    }
   ],
   "source": [
    "l.fit(X_train_ordinal,y_train)\n",
    "y_pred = l.predict_proba(X_test_ordinal)[:,1]\n",
    "log_loss(y_test,y_pred), roc_auc_score(y_test, y_pred)"
   ]
  },
  {
   "cell_type": "code",
   "execution_count": 19,
   "metadata": {
    "ExecuteTime": {
     "end_time": "2018-07-05T20:22:46.102385Z",
     "start_time": "2018-07-05T20:22:22.135555Z"
    }
   },
   "outputs": [
    {
     "name": "stdout",
     "output_type": "stream",
     "text": [
      "0.47396603577325025 0.7126831724738378\n",
      "CPU times: user 2min 10s, sys: 5.45 s, total: 2min 16s\n",
      "Wall time: 24 s\n"
     ]
    }
   ],
   "source": [
    "%%time\n",
    "r.fit(X_train_ordinal,y_train)\n",
    "y_pred = r.predict_proba(X_test_ordinal)[:,1]\n",
    "print(log_loss(y_test,y_pred), roc_auc_score(y_test, y_pred))"
   ]
  },
  {
   "cell_type": "markdown",
   "metadata": {
    "ExecuteTime": {
     "end_time": "2018-07-05T20:21:10.621916Z",
     "start_time": "2018-07-05T20:21:10.144589Z"
    }
   },
   "source": [
    "%%time\n",
    "lsvc = CalibratedClassifierCV(LinearSVC())\n",
    "b_lsvc = BaggingClassifier(lsvc, max_samples=0.2, n_estimators=5, n_jobs=5)\n",
    "b_lsvc.fit(X_train_ordinal, y_train)\n",
    "y_pred = b_lsvc.predict_proba(X_test_ordinal)[:,1]\n",
    "print(log_loss(y_test,y_pred), roc_auc_score(y_test, y_pred))"
   ]
  },
  {
   "cell_type": "code",
   "execution_count": 29,
   "metadata": {
    "ExecuteTime": {
     "end_time": "2018-07-06T00:37:56.493508Z",
     "start_time": "2018-07-06T00:36:45.925582Z"
    }
   },
   "outputs": [
    {
     "name": "stdout",
     "output_type": "stream",
     "text": [
      "0.4896134920066158 0.6838345937526396\n",
      "CPU times: user 1min 34s, sys: 2.06 s, total: 1min 36s\n",
      "Wall time: 1min 10s\n"
     ]
    }
   ],
   "source": [
    "%%time\n",
    "b_l = BaggingClassifier(l, max_samples=0.8, n_estimators=4, n_jobs=1)\n",
    "b_l.fit(X_train_ordinal, y_train)\n",
    "y_pred = b_l.predict_proba(X_test_ordinal)[:,1]\n",
    "print(log_loss(y_test,y_pred), roc_auc_score(y_test, y_pred))"
   ]
  },
  {
   "cell_type": "code",
   "execution_count": 25,
   "metadata": {
    "ExecuteTime": {
     "end_time": "2018-07-05T20:26:18.230592Z",
     "start_time": "2018-07-05T20:25:27.082764Z"
    }
   },
   "outputs": [
    {
     "name": "stdout",
     "output_type": "stream",
     "text": [
      "0.4897041255472234 0.683711434908268\n",
      "CPU times: user 1min 16s, sys: 1.73 s, total: 1min 17s\n",
      "Wall time: 51.1 s\n"
     ]
    }
   ],
   "source": [
    "%%time\n",
    "b_l = BaggingClassifier(l, max_samples=0.1, n_estimators=4, n_jobs=1)\n",
    "b_l.fit(X_train_ordinal, y_train)\n",
    "y_pred = b_l.predict_proba(X_test_ordinal)[:,1]\n",
    "print(log_loss(y_test,y_pred), roc_auc_score(y_test, y_pred))"
   ]
  },
  {
   "cell_type": "code",
   "execution_count": 26,
   "metadata": {
    "ExecuteTime": {
     "end_time": "2018-07-05T20:27:08.872020Z",
     "start_time": "2018-07-05T20:26:27.041966Z"
    }
   },
   "outputs": [
    {
     "name": "stdout",
     "output_type": "stream",
     "text": [
      "0.49012944248742135 0.6836362303517354\n",
      "CPU times: user 1min 5s, sys: 1.69 s, total: 1min 6s\n",
      "Wall time: 41.8 s\n"
     ]
    }
   ],
   "source": [
    "%%time\n",
    "b_l = BaggingClassifier(l, max_samples=0.01, n_estimators=4, n_jobs=1)\n",
    "b_l.fit(X_train_ordinal, y_train)\n",
    "y_pred = b_l.predict_proba(X_test_ordinal)[:,1]\n",
    "print(log_loss(y_test,y_pred), roc_auc_score(y_test, y_pred))"
   ]
  },
  {
   "cell_type": "code",
   "execution_count": 27,
   "metadata": {
    "ExecuteTime": {
     "end_time": "2018-07-05T20:27:49.775394Z",
     "start_time": "2018-07-05T20:27:08.976888Z"
    }
   },
   "outputs": [
    {
     "name": "stdout",
     "output_type": "stream",
     "text": [
      "0.49204664448401303 0.6770829948726478\n",
      "CPU times: user 1min 3s, sys: 1.48 s, total: 1min 5s\n",
      "Wall time: 40.8 s\n"
     ]
    }
   ],
   "source": [
    "%%time\n",
    "b_l = BaggingClassifier(l, max_samples=0.001, n_estimators=4, n_jobs=1)\n",
    "b_l.fit(X_train_ordinal, y_train)\n",
    "y_pred = b_l.predict_proba(X_test_ordinal)[:,1]\n",
    "print(log_loss(y_test,y_pred), roc_auc_score(y_test, y_pred))"
   ]
  },
  {
   "cell_type": "markdown",
   "metadata": {},
   "source": [
    "## One Hot Encoding"
   ]
  },
  {
   "cell_type": "code",
   "execution_count": 10,
   "metadata": {
    "ExecuteTime": {
     "end_time": "2018-07-06T16:37:24.279812Z",
     "start_time": "2018-07-06T16:37:20.828685Z"
    }
   },
   "outputs": [],
   "source": [
    "from sklearn.preprocessing import OneHotEncoder\n",
    "enc = OneHotEncoder(handle_unknown='ignore')\n",
    "enc.fit(X_train_ordinal)\n",
    "X_train_one_hot = enc.transform(X_train_ordinal)\n",
    "X_test_one_hot = enc.transform(X_test_ordinal)"
   ]
  },
  {
   "cell_type": "code",
   "execution_count": 31,
   "metadata": {
    "ExecuteTime": {
     "end_time": "2018-07-06T00:38:58.547031Z",
     "start_time": "2018-07-06T00:38:58.538457Z"
    }
   },
   "outputs": [
    {
     "data": {
      "text/plain": [
       "((1000000, 692), (100000, 692))"
      ]
     },
     "execution_count": 31,
     "metadata": {},
     "output_type": "execute_result"
    }
   ],
   "source": [
    "X_train_one_hot.shape, X_test_one_hot.shape"
   ]
  },
  {
   "cell_type": "code",
   "execution_count": 36,
   "metadata": {
    "ExecuteTime": {
     "end_time": "2018-07-05T19:49:11.439288Z",
     "start_time": "2018-07-05T19:48:57.522702Z"
    }
   },
   "outputs": [
    {
     "name": "stdout",
     "output_type": "stream",
     "text": [
      "CPU times: user 17.8 s, sys: 243 ms, total: 18 s\n",
      "Wall time: 13.9 s\n"
     ]
    }
   ],
   "source": [
    "%%time\n",
    "l.fit(X_train_one_hot,y_train)\n",
    "y_pred = l.predict_proba(X_test_one_hot)[:,1]"
   ]
  },
  {
   "cell_type": "code",
   "execution_count": 37,
   "metadata": {
    "ExecuteTime": {
     "end_time": "2018-07-05T19:49:31.081459Z",
     "start_time": "2018-07-05T19:49:31.035082Z"
    }
   },
   "outputs": [
    {
     "name": "stdout",
     "output_type": "stream",
     "text": [
      "0.46664126300054143 0.724487672772645\n"
     ]
    }
   ],
   "source": [
    "print(log_loss(y_test,y_pred), roc_auc_score(y_test, y_pred))"
   ]
  },
  {
   "cell_type": "code",
   "execution_count": 38,
   "metadata": {
    "ExecuteTime": {
     "end_time": "2018-07-05T19:49:59.652358Z",
     "start_time": "2018-07-05T19:49:46.738987Z"
    }
   },
   "outputs": [
    {
     "name": "stdout",
     "output_type": "stream",
     "text": [
      "0.4980428696133663 0.7104962827869701\n",
      "CPU times: user 1min 56s, sys: 5.28 s, total: 2min 1s\n",
      "Wall time: 12.9 s\n"
     ]
    }
   ],
   "source": [
    "%%time\n",
    "r.fit(X_train_one_hot,y_train)\n",
    "y_pred = r.predict_proba(X_test_one_hot)[:,1]\n",
    "print(log_loss(y_test,y_pred), roc_auc_score(y_test, y_pred))"
   ]
  },
  {
   "cell_type": "code",
   "execution_count": 39,
   "metadata": {
    "ExecuteTime": {
     "end_time": "2018-07-05T19:50:43.734512Z",
     "start_time": "2018-07-05T19:50:43.719555Z"
    }
   },
   "outputs": [
    {
     "data": {
      "text/html": [
       "<div>\n",
       "<style scoped>\n",
       "    .dataframe tbody tr th:only-of-type {\n",
       "        vertical-align: middle;\n",
       "    }\n",
       "\n",
       "    .dataframe tbody tr th {\n",
       "        vertical-align: top;\n",
       "    }\n",
       "\n",
       "    .dataframe thead th {\n",
       "        text-align: right;\n",
       "    }\n",
       "</style>\n",
       "<table border=\"1\" class=\"dataframe\">\n",
       "  <thead>\n",
       "    <tr style=\"text-align: right;\">\n",
       "      <th></th>\n",
       "      <th>Month</th>\n",
       "      <th>DayofMonth</th>\n",
       "      <th>DayOfWeek</th>\n",
       "      <th>DepTime</th>\n",
       "      <th>UniqueCarrier</th>\n",
       "      <th>Origin</th>\n",
       "      <th>Dest</th>\n",
       "      <th>Distance</th>\n",
       "    </tr>\n",
       "  </thead>\n",
       "  <tbody>\n",
       "    <tr>\n",
       "      <th>0</th>\n",
       "      <td>7</td>\n",
       "      <td>19</td>\n",
       "      <td>2</td>\n",
       "      <td>18</td>\n",
       "      <td>21</td>\n",
       "      <td>157</td>\n",
       "      <td>133</td>\n",
       "      <td>6</td>\n",
       "    </tr>\n",
       "    <tr>\n",
       "      <th>1</th>\n",
       "      <td>4</td>\n",
       "      <td>3</td>\n",
       "      <td>1</td>\n",
       "      <td>12</td>\n",
       "      <td>18</td>\n",
       "      <td>79</td>\n",
       "      <td>172</td>\n",
       "      <td>4</td>\n",
       "    </tr>\n",
       "  </tbody>\n",
       "</table>\n",
       "</div>"
      ],
      "text/plain": [
       "   Month  DayofMonth  DayOfWeek  DepTime  UniqueCarrier  Origin  Dest  \\\n",
       "0      7          19          2       18             21     157   133   \n",
       "1      4           3          1       12             18      79   172   \n",
       "\n",
       "   Distance  \n",
       "0         6  \n",
       "1         4  "
      ]
     },
     "execution_count": 39,
     "metadata": {},
     "output_type": "execute_result"
    }
   ],
   "source": [
    "X_train.head(2)"
   ]
  },
  {
   "cell_type": "code",
   "execution_count": 32,
   "metadata": {
    "ExecuteTime": {
     "end_time": "2018-07-06T00:42:38.528411Z",
     "start_time": "2018-07-06T00:40:22.410900Z"
    }
   },
   "outputs": [
    {
     "name": "stdout",
     "output_type": "stream",
     "text": [
      "0.484711249461318 0.713394864058001\n",
      "CPU times: user 2min 57s, sys: 2.83 s, total: 3min\n",
      "Wall time: 2min 16s\n"
     ]
    }
   ],
   "source": [
    "%%time\n",
    "b_l = BaggingClassifier(l, max_samples=0.1, n_estimators=8, max_features=0.4, n_jobs=1)\n",
    "b_l.fit(X_train_one_hot, y_train)\n",
    "y_pred = b_l.predict_proba(X_test_one_hot)[:,1]\n",
    "print(log_loss(y_test,y_pred), roc_auc_score(y_test, y_pred))"
   ]
  },
  {
   "cell_type": "code",
   "execution_count": 37,
   "metadata": {
    "ExecuteTime": {
     "end_time": "2018-07-06T01:24:49.216473Z",
     "start_time": "2018-07-06T01:17:40.334289Z"
    }
   },
   "outputs": [
    {
     "name": "stdout",
     "output_type": "stream",
     "text": [
      "0.4666838788887838 0.7243254170253246\n",
      "CPU times: user 7min 48s, sys: 2.99 s, total: 7min 51s\n",
      "Wall time: 7min 8s\n"
     ]
    }
   ],
   "source": [
    "%%time\n",
    "b_l = BaggingClassifier(l, max_samples=0.6, n_estimators=8, n_jobs=1)\n",
    "b_l.fit(X_train_one_hot, y_train)\n",
    "y_pred = b_l.predict_proba(X_test_one_hot)[:,1]\n",
    "print(log_loss(y_test,y_pred), roc_auc_score(y_test, y_pred))"
   ]
  },
  {
   "cell_type": "code",
   "execution_count": 33,
   "metadata": {
    "ExecuteTime": {
     "end_time": "2018-07-06T00:46:25.944992Z",
     "start_time": "2018-07-06T00:45:21.339325Z"
    }
   },
   "outputs": [
    {
     "name": "stdout",
     "output_type": "stream",
     "text": [
      "0.5076819598091701 0.7047837027229431\n",
      "CPU times: user 12min 35s, sys: 42.7 s, total: 13min 18s\n",
      "Wall time: 1min 4s\n"
     ]
    }
   ],
   "source": [
    "%%time\n",
    "b_r = BaggingClassifier(r, max_samples=0.1, n_estimators=8, max_features=0.4, n_jobs=1)\n",
    "b_r.fit(X_train_one_hot, y_train)\n",
    "y_pred = b_r.predict_proba(X_test_one_hot)[:,1]\n",
    "print(log_loss(y_test,y_pred), roc_auc_score(y_test, y_pred))"
   ]
  },
  {
   "cell_type": "code",
   "execution_count": 36,
   "metadata": {
    "ExecuteTime": {
     "end_time": "2018-07-06T00:50:51.795995Z",
     "start_time": "2018-07-06T00:48:54.302335Z"
    }
   },
   "outputs": [
    {
     "name": "stdout",
     "output_type": "stream",
     "text": [
      "0.4989549307472209 0.7168805719707757\n",
      "CPU times: user 16min 36s, sys: 48.8 s, total: 17min 25s\n",
      "Wall time: 1min 57s\n"
     ]
    }
   ],
   "source": [
    "%%time\n",
    "b_r = BaggingClassifier(r, max_samples=0.6, n_estimators=8, n_jobs=1)\n",
    "b_r.fit(X_train_one_hot, y_train)\n",
    "y_pred = b_r.predict_proba(X_test_one_hot)[:,1]\n",
    "print(log_loss(y_test,y_pred), roc_auc_score(y_test, y_pred))"
   ]
  },
  {
   "cell_type": "code",
   "execution_count": 11,
   "metadata": {
    "ExecuteTime": {
     "end_time": "2018-07-06T16:37:38.527839Z",
     "start_time": "2018-07-06T16:37:38.477690Z"
    }
   },
   "outputs": [],
   "source": [
    "import lightgbm as lgb"
   ]
  },
  {
   "cell_type": "code",
   "execution_count": 179,
   "metadata": {
    "ExecuteTime": {
     "end_time": "2018-07-06T16:08:16.447353Z",
     "start_time": "2018-07-06T16:08:16.441601Z"
    }
   },
   "outputs": [
    {
     "data": {
      "text/plain": [
       "array(['Month', 'DayofMonth', 'DayOfWeek', 'DepTime', 'UniqueCarrier',\n",
       "       'Origin', 'Dest', 'Distance'], dtype=object)"
      ]
     },
     "execution_count": 179,
     "metadata": {},
     "output_type": "execute_result"
    }
   ],
   "source": [
    "features_cols"
   ]
  },
  {
   "cell_type": "code",
   "execution_count": 20,
   "metadata": {
    "ExecuteTime": {
     "end_time": "2018-07-06T16:39:22.217439Z",
     "start_time": "2018-07-06T16:39:22.195178Z"
    }
   },
   "outputs": [],
   "source": [
    "lgb_params = {\n",
    "    'objective': 'binary',\n",
    "    'boosting': 'gbdt',\n",
    "    'num_boost_round': 100, # ignored in params. extract it and put it in input arguments in train or cv explicitly\n",
    "                           # seems to work fine as the upper limit when combined with early_stopping_round\n",
    "    'learning_rate': 0.05,\n",
    "    'num_leaves': 15,\n",
    "    'num_threads': 4, # best speed: set to number of real cpu cores, which is vCPU/2\n",
    "    'max_depth': -1, # no limit. This is used to deal with over-fitting when #data is small.\n",
    "    'min_data_in_leaf': 20,\n",
    "    'feature_fraction': 1,\n",
    "    'feature_fraction_seed': 2018,\n",
    "    'early_stopping_round':10,\n",
    "    'bagging_freq': 1, #0 means disable bagging. k: perform bagging at every k iteration\n",
    "    'bagging_fraction': 0.6,\n",
    "    'bagging_seed': 2018,\n",
    "    'scale_pos_weight': 1,\n",
    "    'metric': 'auc' \n",
    "}"
   ]
  },
  {
   "cell_type": "code",
   "execution_count": 15,
   "metadata": {
    "ExecuteTime": {
     "end_time": "2018-07-06T16:38:07.638126Z",
     "start_time": "2018-07-06T16:38:07.628534Z"
    }
   },
   "outputs": [],
   "source": [
    "# cat_cols = ['Month', 'DayofMonth', 'DayOfWeek', 'UniqueCarrier', 'Origin', 'Dest', 'DepTime']\n",
    "cat_cols = features_cols"
   ]
  },
  {
   "cell_type": "code",
   "execution_count": 16,
   "metadata": {
    "ExecuteTime": {
     "end_time": "2018-07-06T16:38:09.055486Z",
     "start_time": "2018-07-06T16:38:09.051917Z"
    }
   },
   "outputs": [
    {
     "data": {
      "text/plain": [
       "['Month',\n",
       " 'DayofMonth',\n",
       " 'DayOfWeek',\n",
       " 'DepTime',\n",
       " 'UniqueCarrier',\n",
       " 'Origin',\n",
       " 'Dest',\n",
       " 'Distance']"
      ]
     },
     "execution_count": 16,
     "metadata": {},
     "output_type": "execute_result"
    }
   ],
   "source": [
    "cat_cols"
   ]
  },
  {
   "cell_type": "code",
   "execution_count": 17,
   "metadata": {
    "ExecuteTime": {
     "end_time": "2018-07-06T16:38:10.883681Z",
     "start_time": "2018-07-06T16:38:10.856849Z"
    }
   },
   "outputs": [],
   "source": [
    "X_train_ordinal_catonly = X_train_ordinal[cat_cols]"
   ]
  },
  {
   "cell_type": "code",
   "execution_count": 12,
   "metadata": {
    "ExecuteTime": {
     "end_time": "2018-07-06T16:37:41.363919Z",
     "start_time": "2018-07-06T16:37:41.352629Z"
    }
   },
   "outputs": [],
   "source": [
    "from sklearn.model_selection import train_test_split"
   ]
  },
  {
   "cell_type": "code",
   "execution_count": 18,
   "metadata": {
    "ExecuteTime": {
     "end_time": "2018-07-06T16:38:15.391692Z",
     "start_time": "2018-07-06T16:38:13.439309Z"
    }
   },
   "outputs": [],
   "source": [
    "X_train_ord, X_val_ord, y_train_ord, y_val_ord = train_test_split(X_train_ordinal_catonly, y_train, test_size=0.3, random_state=2018)\n",
    "lgb_train_ordinal = lgb.Dataset(X_train_ord, y_train_ord, categorical_feature=cat_cols)\n",
    "lgb_val_ordinal = lgb.Dataset(X_val_ord, y_val_ord, categorical_feature=cat_cols)"
   ]
  },
  {
   "cell_type": "code",
   "execution_count": 21,
   "metadata": {
    "ExecuteTime": {
     "end_time": "2018-07-06T16:39:32.741322Z",
     "start_time": "2018-07-06T16:39:24.675050Z"
    }
   },
   "outputs": [
    {
     "name": "stderr",
     "output_type": "stream",
     "text": [
      "/home/kai/anaconda3/envs/tf_gpu/lib/python3.5/site-packages/lightgbm/engine.py:99: UserWarning: Found `num_boost_round` in params. Will use it instead of argument\n",
      "  warnings.warn(\"Found `{}` in params. Will use it instead of argument\".format(alias))\n",
      "/home/kai/anaconda3/envs/tf_gpu/lib/python3.5/site-packages/lightgbm/engine.py:104: UserWarning: Found `early_stopping_round` in params. Will use it instead of argument\n",
      "  warnings.warn(\"Found `{}` in params. Will use it instead of argument\".format(alias))\n",
      "/home/kai/anaconda3/envs/tf_gpu/lib/python3.5/site-packages/lightgbm/basic.py:1036: UserWarning: Using categorical_feature in Dataset.\n",
      "  warnings.warn('Using categorical_feature in Dataset.')\n",
      "/home/kai/anaconda3/envs/tf_gpu/lib/python3.5/site-packages/lightgbm/basic.py:681: UserWarning: categorical_feature in param dict is overrided.\n",
      "  warnings.warn('categorical_feature in param dict is overrided.')\n"
     ]
    },
    {
     "name": "stdout",
     "output_type": "stream",
     "text": [
      "[1]\tvalid_0's auc: 0.694386\n",
      "Training until validation scores don't improve for 10 rounds.\n",
      "[2]\tvalid_0's auc: 0.698906\n",
      "[3]\tvalid_0's auc: 0.701591\n",
      "[4]\tvalid_0's auc: 0.704786\n",
      "[5]\tvalid_0's auc: 0.706526\n",
      "[6]\tvalid_0's auc: 0.708132\n",
      "[7]\tvalid_0's auc: 0.710976\n",
      "[8]\tvalid_0's auc: 0.711848\n",
      "[9]\tvalid_0's auc: 0.712659\n",
      "[10]\tvalid_0's auc: 0.713163\n",
      "[11]\tvalid_0's auc: 0.713512\n",
      "[12]\tvalid_0's auc: 0.713891\n",
      "[13]\tvalid_0's auc: 0.714354\n",
      "[14]\tvalid_0's auc: 0.715\n",
      "[15]\tvalid_0's auc: 0.71543\n",
      "[16]\tvalid_0's auc: 0.715896\n",
      "[17]\tvalid_0's auc: 0.716297\n",
      "[18]\tvalid_0's auc: 0.716472\n",
      "[19]\tvalid_0's auc: 0.716793\n",
      "[20]\tvalid_0's auc: 0.717376\n",
      "[21]\tvalid_0's auc: 0.718013\n",
      "[22]\tvalid_0's auc: 0.718391\n",
      "[23]\tvalid_0's auc: 0.71881\n",
      "[24]\tvalid_0's auc: 0.719192\n",
      "[25]\tvalid_0's auc: 0.719598\n",
      "[26]\tvalid_0's auc: 0.719897\n",
      "[27]\tvalid_0's auc: 0.720773\n",
      "[28]\tvalid_0's auc: 0.721241\n",
      "[29]\tvalid_0's auc: 0.721603\n",
      "[30]\tvalid_0's auc: 0.721979\n",
      "[31]\tvalid_0's auc: 0.722321\n",
      "[32]\tvalid_0's auc: 0.722542\n",
      "[33]\tvalid_0's auc: 0.722892\n",
      "[34]\tvalid_0's auc: 0.723224\n",
      "[35]\tvalid_0's auc: 0.723556\n",
      "[36]\tvalid_0's auc: 0.724285\n",
      "[37]\tvalid_0's auc: 0.724753\n",
      "[38]\tvalid_0's auc: 0.725274\n",
      "[39]\tvalid_0's auc: 0.725571\n",
      "[40]\tvalid_0's auc: 0.72588\n",
      "[41]\tvalid_0's auc: 0.726291\n",
      "[42]\tvalid_0's auc: 0.726673\n",
      "[43]\tvalid_0's auc: 0.727195\n",
      "[44]\tvalid_0's auc: 0.727448\n",
      "[45]\tvalid_0's auc: 0.727728\n",
      "[46]\tvalid_0's auc: 0.728356\n",
      "[47]\tvalid_0's auc: 0.728702\n",
      "[48]\tvalid_0's auc: 0.728977\n",
      "[49]\tvalid_0's auc: 0.729463\n",
      "[50]\tvalid_0's auc: 0.729824\n",
      "[51]\tvalid_0's auc: 0.730059\n",
      "[52]\tvalid_0's auc: 0.730595\n",
      "[53]\tvalid_0's auc: 0.730848\n",
      "[54]\tvalid_0's auc: 0.731099\n",
      "[55]\tvalid_0's auc: 0.731412\n",
      "[56]\tvalid_0's auc: 0.731676\n",
      "[57]\tvalid_0's auc: 0.731963\n",
      "[58]\tvalid_0's auc: 0.732353\n",
      "[59]\tvalid_0's auc: 0.732663\n",
      "[60]\tvalid_0's auc: 0.732993\n",
      "[61]\tvalid_0's auc: 0.733229\n",
      "[62]\tvalid_0's auc: 0.733581\n",
      "[63]\tvalid_0's auc: 0.733804\n",
      "[64]\tvalid_0's auc: 0.734115\n",
      "[65]\tvalid_0's auc: 0.734304\n",
      "[66]\tvalid_0's auc: 0.73464\n",
      "[67]\tvalid_0's auc: 0.73478\n",
      "[68]\tvalid_0's auc: 0.734938\n",
      "[69]\tvalid_0's auc: 0.735216\n",
      "[70]\tvalid_0's auc: 0.735659\n",
      "[71]\tvalid_0's auc: 0.735829\n",
      "[72]\tvalid_0's auc: 0.735917\n",
      "[73]\tvalid_0's auc: 0.736332\n",
      "[74]\tvalid_0's auc: 0.73656\n",
      "[75]\tvalid_0's auc: 0.736736\n",
      "[76]\tvalid_0's auc: 0.736922\n",
      "[77]\tvalid_0's auc: 0.737095\n",
      "[78]\tvalid_0's auc: 0.73732\n",
      "[79]\tvalid_0's auc: 0.737483\n",
      "[80]\tvalid_0's auc: 0.737621\n",
      "[81]\tvalid_0's auc: 0.737882\n",
      "[82]\tvalid_0's auc: 0.738077\n",
      "[83]\tvalid_0's auc: 0.738375\n",
      "[84]\tvalid_0's auc: 0.738526\n",
      "[85]\tvalid_0's auc: 0.738653\n",
      "[86]\tvalid_0's auc: 0.738895\n",
      "[87]\tvalid_0's auc: 0.738998\n",
      "[88]\tvalid_0's auc: 0.739155\n",
      "[89]\tvalid_0's auc: 0.739417\n",
      "[90]\tvalid_0's auc: 0.739717\n",
      "[91]\tvalid_0's auc: 0.739822\n",
      "[92]\tvalid_0's auc: 0.740026\n",
      "[93]\tvalid_0's auc: 0.740185\n",
      "[94]\tvalid_0's auc: 0.740384\n",
      "[95]\tvalid_0's auc: 0.740483\n",
      "[96]\tvalid_0's auc: 0.740657\n",
      "[97]\tvalid_0's auc: 0.740858\n",
      "[98]\tvalid_0's auc: 0.741008\n",
      "[99]\tvalid_0's auc: 0.741298\n",
      "[100]\tvalid_0's auc: 0.741449\n",
      "Did not meet early stopping. Best iteration is:\n",
      "[100]\tvalid_0's auc: 0.741449\n"
     ]
    }
   ],
   "source": [
    "lgbm = lgb.train(lgb_params, lgb_train_ordinal, valid_sets=lgb_val_ordinal, verbose_eval=1)"
   ]
  },
  {
   "cell_type": "code",
   "execution_count": 220,
   "metadata": {
    "ExecuteTime": {
     "end_time": "2018-07-06T16:26:15.342995Z",
     "start_time": "2018-07-06T16:26:15.328689Z"
    }
   },
   "outputs": [
    {
     "data": {
      "text/plain": [
       "Month            int64\n",
       "DayofMonth       int64\n",
       "DayOfWeek        int64\n",
       "DepTime          int64\n",
       "UniqueCarrier    int64\n",
       "Origin           int64\n",
       "Dest             int64\n",
       "Distance         uint8\n",
       "dtype: object"
      ]
     },
     "execution_count": 220,
     "metadata": {},
     "output_type": "execute_result"
    }
   ],
   "source": [
    "X_train_ordinal_catonly.dtypes"
   ]
  },
  {
   "cell_type": "code",
   "execution_count": 221,
   "metadata": {
    "ExecuteTime": {
     "end_time": "2018-07-06T16:29:30.465055Z",
     "start_time": "2018-07-06T16:29:30.461466Z"
    }
   },
   "outputs": [],
   "source": [
    "lgb_cat_feat = 'name:Month'"
   ]
  },
  {
   "cell_type": "code",
   "execution_count": 224,
   "metadata": {
    "ExecuteTime": {
     "end_time": "2018-07-06T16:30:13.773779Z",
     "start_time": "2018-07-06T16:30:13.762413Z"
    }
   },
   "outputs": [
    {
     "data": {
      "text/plain": [
       "Index(['Month', 'DayofMonth', 'DayOfWeek', 'DepTime', 'UniqueCarrier',\n",
       "       'Origin', 'Dest', 'Distance'],\n",
       "      dtype='object')"
      ]
     },
     "execution_count": 224,
     "metadata": {},
     "output_type": "execute_result"
    }
   ],
   "source": [
    "X_train_ordinal_catonly.columns"
   ]
  },
  {
   "cell_type": "code",
   "execution_count": 26,
   "metadata": {
    "ExecuteTime": {
     "end_time": "2018-07-06T16:41:03.663769Z",
     "start_time": "2018-07-06T16:41:03.385272Z"
    }
   },
   "outputs": [],
   "source": [
    "X_train_ord, X_val_ord, y_train_ord, y_val_ord = train_test_split(X_train_ordinal_catonly, y_train, test_size=0.3, random_state=2018)\n",
    "lgb_train_ordinal = lgb.Dataset(X_train_ord, y_train_ord, categorical_feature=['Month'])\n",
    "lgb_val_ordinal = lgb.Dataset(X_val_ord, y_val_ord, categorical_feature=['Month'])"
   ]
  },
  {
   "cell_type": "code",
   "execution_count": 27,
   "metadata": {
    "ExecuteTime": {
     "end_time": "2018-07-06T16:41:14.824380Z",
     "start_time": "2018-07-06T16:41:04.800708Z"
    }
   },
   "outputs": [
    {
     "name": "stderr",
     "output_type": "stream",
     "text": [
      "/home/kai/anaconda3/envs/tf_gpu/lib/python3.5/site-packages/lightgbm/basic.py:1036: UserWarning: Using categorical_feature in Dataset.\n",
      "  warnings.warn('Using categorical_feature in Dataset.')\n",
      "/home/kai/anaconda3/envs/tf_gpu/lib/python3.5/site-packages/lightgbm/basic.py:681: UserWarning: categorical_feature in param dict is overrided.\n",
      "  warnings.warn('categorical_feature in param dict is overrided.')\n"
     ]
    },
    {
     "name": "stdout",
     "output_type": "stream",
     "text": [
      "[1]\tvalid_0's auc: 0.691007\n",
      "[2]\tvalid_0's auc: 0.693526\n",
      "[3]\tvalid_0's auc: 0.69536\n",
      "[4]\tvalid_0's auc: 0.695687\n",
      "[5]\tvalid_0's auc: 0.696532\n",
      "[6]\tvalid_0's auc: 0.696906\n",
      "[7]\tvalid_0's auc: 0.697806\n",
      "[8]\tvalid_0's auc: 0.698039\n",
      "[9]\tvalid_0's auc: 0.698247\n",
      "[10]\tvalid_0's auc: 0.698526\n",
      "[11]\tvalid_0's auc: 0.698485\n",
      "[12]\tvalid_0's auc: 0.698464\n",
      "[13]\tvalid_0's auc: 0.698617\n",
      "[14]\tvalid_0's auc: 0.698979\n",
      "[15]\tvalid_0's auc: 0.699207\n",
      "[16]\tvalid_0's auc: 0.699607\n",
      "[17]\tvalid_0's auc: 0.699828\n",
      "[18]\tvalid_0's auc: 0.700226\n",
      "[19]\tvalid_0's auc: 0.700467\n",
      "[20]\tvalid_0's auc: 0.70065\n",
      "[21]\tvalid_0's auc: 0.701072\n",
      "[22]\tvalid_0's auc: 0.701214\n",
      "[23]\tvalid_0's auc: 0.701448\n",
      "[24]\tvalid_0's auc: 0.701614\n",
      "[25]\tvalid_0's auc: 0.701759\n",
      "[26]\tvalid_0's auc: 0.702317\n",
      "[27]\tvalid_0's auc: 0.702417\n",
      "[28]\tvalid_0's auc: 0.702896\n",
      "[29]\tvalid_0's auc: 0.702963\n",
      "[30]\tvalid_0's auc: 0.703338\n",
      "[31]\tvalid_0's auc: 0.703581\n",
      "[32]\tvalid_0's auc: 0.703812\n",
      "[33]\tvalid_0's auc: 0.704126\n",
      "[34]\tvalid_0's auc: 0.704329\n",
      "[35]\tvalid_0's auc: 0.704641\n",
      "[36]\tvalid_0's auc: 0.705041\n",
      "[37]\tvalid_0's auc: 0.705229\n",
      "[38]\tvalid_0's auc: 0.705556\n",
      "[39]\tvalid_0's auc: 0.705921\n",
      "[40]\tvalid_0's auc: 0.706106\n",
      "[41]\tvalid_0's auc: 0.706427\n",
      "[42]\tvalid_0's auc: 0.706678\n",
      "[43]\tvalid_0's auc: 0.706765\n",
      "[44]\tvalid_0's auc: 0.707136\n",
      "[45]\tvalid_0's auc: 0.707273\n",
      "[46]\tvalid_0's auc: 0.707751\n",
      "[47]\tvalid_0's auc: 0.707985\n",
      "[48]\tvalid_0's auc: 0.708196\n",
      "[49]\tvalid_0's auc: 0.708473\n",
      "[50]\tvalid_0's auc: 0.708933\n",
      "[51]\tvalid_0's auc: 0.709188\n",
      "[52]\tvalid_0's auc: 0.709427\n",
      "[53]\tvalid_0's auc: 0.709711\n",
      "[54]\tvalid_0's auc: 0.709983\n",
      "[55]\tvalid_0's auc: 0.710213\n",
      "[56]\tvalid_0's auc: 0.710412\n",
      "[57]\tvalid_0's auc: 0.710887\n",
      "[58]\tvalid_0's auc: 0.711184\n",
      "[59]\tvalid_0's auc: 0.711354\n",
      "[60]\tvalid_0's auc: 0.711641\n",
      "[61]\tvalid_0's auc: 0.711962\n",
      "[62]\tvalid_0's auc: 0.712081\n",
      "[63]\tvalid_0's auc: 0.712435\n",
      "[64]\tvalid_0's auc: 0.71286\n",
      "[65]\tvalid_0's auc: 0.713202\n",
      "[66]\tvalid_0's auc: 0.713594\n",
      "[67]\tvalid_0's auc: 0.713879\n",
      "[68]\tvalid_0's auc: 0.71413\n",
      "[69]\tvalid_0's auc: 0.714375\n",
      "[70]\tvalid_0's auc: 0.714555\n",
      "[71]\tvalid_0's auc: 0.714674\n",
      "[72]\tvalid_0's auc: 0.714747\n",
      "[73]\tvalid_0's auc: 0.714977\n",
      "[74]\tvalid_0's auc: 0.715165\n",
      "[75]\tvalid_0's auc: 0.715315\n",
      "[76]\tvalid_0's auc: 0.715661\n",
      "[77]\tvalid_0's auc: 0.71581\n",
      "[78]\tvalid_0's auc: 0.716198\n",
      "[79]\tvalid_0's auc: 0.716538\n",
      "[80]\tvalid_0's auc: 0.716635\n",
      "[81]\tvalid_0's auc: 0.716935\n",
      "[82]\tvalid_0's auc: 0.717202\n",
      "[83]\tvalid_0's auc: 0.71749\n",
      "[84]\tvalid_0's auc: 0.717739\n",
      "[85]\tvalid_0's auc: 0.718112\n",
      "[86]\tvalid_0's auc: 0.718352\n",
      "[87]\tvalid_0's auc: 0.71862\n",
      "[88]\tvalid_0's auc: 0.718919\n",
      "[89]\tvalid_0's auc: 0.719076\n",
      "[90]\tvalid_0's auc: 0.71933\n",
      "[91]\tvalid_0's auc: 0.7196\n",
      "[92]\tvalid_0's auc: 0.719866\n",
      "[93]\tvalid_0's auc: 0.720106\n",
      "[94]\tvalid_0's auc: 0.720362\n",
      "[95]\tvalid_0's auc: 0.720694\n",
      "[96]\tvalid_0's auc: 0.721012\n",
      "[97]\tvalid_0's auc: 0.72117\n",
      "[98]\tvalid_0's auc: 0.721401\n",
      "[99]\tvalid_0's auc: 0.721622\n",
      "[100]\tvalid_0's auc: 0.72176\n"
     ]
    }
   ],
   "source": [
    "lgbm = lgb.train(lgb_params, lgb_train_ordinal, valid_sets=lgb_val_ordinal, verbose_eval=1)"
   ]
  },
  {
   "cell_type": "code",
   "execution_count": 178,
   "metadata": {
    "ExecuteTime": {
     "end_time": "2018-07-06T16:07:57.982122Z",
     "start_time": "2018-07-06T16:07:57.969366Z"
    }
   },
   "outputs": [
    {
     "data": {
      "text/plain": [
       "[('Origin', 369),\n",
       " ('Dest', 295),\n",
       " ('DepTime', 281),\n",
       " ('Month', 134),\n",
       " ('DayofMonth', 124),\n",
       " ('UniqueCarrier', 119),\n",
       " ('DayOfWeek', 78)]"
      ]
     },
     "execution_count": 178,
     "metadata": {},
     "output_type": "execute_result"
    }
   ],
   "source": [
    "sorted(dict(zip(lgbm.feature_name(), lgbm.feature_importance())).items(), key=lambda x: x[1], reverse=True)"
   ]
  },
  {
   "cell_type": "code",
   "execution_count": 163,
   "metadata": {
    "ExecuteTime": {
     "end_time": "2018-07-06T15:28:18.421411Z",
     "start_time": "2018-07-06T15:28:18.408391Z"
    }
   },
   "outputs": [
    {
     "data": {
      "text/plain": [
       "[('Origin', 365),\n",
       " ('Dest', 297),\n",
       " ('DepTime', 288),\n",
       " ('Month', 128),\n",
       " ('DayofMonth', 120),\n",
       " ('UniqueCarrier', 116),\n",
       " ('DayOfWeek', 69),\n",
       " ('Distance', 17)]"
      ]
     },
     "execution_count": 163,
     "metadata": {},
     "output_type": "execute_result"
    }
   ],
   "source": [
    "sorted(dict(zip(lgbm.feature_name(), lgbm.feature_importance())).items(), key=lambda x: x[1], reverse=True)"
   ]
  },
  {
   "cell_type": "code",
   "execution_count": 215,
   "metadata": {
    "ExecuteTime": {
     "end_time": "2018-07-06T16:16:37.240464Z",
     "start_time": "2018-07-06T16:16:35.401605Z"
    }
   },
   "outputs": [],
   "source": [
    "X_train_1hot, X_val_1hot, y_train_1hot, y_val_1hot = train_test_split(X_train_one_hot, y_train, test_size=0.3, random_state=2018)\n",
    "lgb_train_1hot = lgb.Dataset(X_train_1hot, y_train_1hot)\n",
    "lgb_val_1hot = lgb.Dataset(X_val_1hot, y_val_1hot)"
   ]
  },
  {
   "cell_type": "code",
   "execution_count": 214,
   "metadata": {
    "ExecuteTime": {
     "end_time": "2018-07-06T16:16:13.879834Z",
     "start_time": "2018-07-06T16:16:13.869267Z"
    }
   },
   "outputs": [
    {
     "data": {
      "text/plain": [
       "((700000, 692), (300000, 692), (700000,), (300000,))"
      ]
     },
     "execution_count": 214,
     "metadata": {},
     "output_type": "execute_result"
    }
   ],
   "source": [
    "X_train_1hot.shape, X_val_1hot.shape, y_train_1hot.shape, y_val_1hot.shape"
   ]
  },
  {
   "cell_type": "code",
   "execution_count": 216,
   "metadata": {
    "ExecuteTime": {
     "end_time": "2018-07-06T16:17:25.512606Z",
     "start_time": "2018-07-06T16:17:19.875830Z"
    }
   },
   "outputs": [
    {
     "name": "stdout",
     "output_type": "stream",
     "text": [
      "[1]\tvalid_0's auc: 0.676653\n",
      "[2]\tvalid_0's auc: 0.691974\n",
      "[3]\tvalid_0's auc: 0.693259\n",
      "[4]\tvalid_0's auc: 0.693034\n",
      "[5]\tvalid_0's auc: 0.694081\n",
      "[6]\tvalid_0's auc: 0.695603\n",
      "[7]\tvalid_0's auc: 0.696913\n",
      "[8]\tvalid_0's auc: 0.697448\n",
      "[9]\tvalid_0's auc: 0.697624\n",
      "[10]\tvalid_0's auc: 0.697187\n",
      "[11]\tvalid_0's auc: 0.697989\n",
      "[12]\tvalid_0's auc: 0.697886\n",
      "[13]\tvalid_0's auc: 0.699031\n",
      "[14]\tvalid_0's auc: 0.698635\n",
      "[15]\tvalid_0's auc: 0.69891\n",
      "[16]\tvalid_0's auc: 0.698878\n",
      "[17]\tvalid_0's auc: 0.700356\n",
      "[18]\tvalid_0's auc: 0.701034\n",
      "[19]\tvalid_0's auc: 0.702088\n",
      "[20]\tvalid_0's auc: 0.702255\n",
      "[21]\tvalid_0's auc: 0.702721\n",
      "[22]\tvalid_0's auc: 0.70351\n",
      "[23]\tvalid_0's auc: 0.704094\n",
      "[24]\tvalid_0's auc: 0.704201\n",
      "[25]\tvalid_0's auc: 0.705279\n",
      "[26]\tvalid_0's auc: 0.705149\n",
      "[27]\tvalid_0's auc: 0.705727\n",
      "[28]\tvalid_0's auc: 0.705723\n",
      "[29]\tvalid_0's auc: 0.70622\n",
      "[30]\tvalid_0's auc: 0.70677\n",
      "[31]\tvalid_0's auc: 0.707479\n",
      "[32]\tvalid_0's auc: 0.708342\n",
      "[33]\tvalid_0's auc: 0.708215\n",
      "[34]\tvalid_0's auc: 0.708654\n",
      "[35]\tvalid_0's auc: 0.709118\n",
      "[36]\tvalid_0's auc: 0.709764\n",
      "[37]\tvalid_0's auc: 0.709638\n",
      "[38]\tvalid_0's auc: 0.710203\n",
      "[39]\tvalid_0's auc: 0.710854\n",
      "[40]\tvalid_0's auc: 0.711322\n",
      "[41]\tvalid_0's auc: 0.711239\n",
      "[42]\tvalid_0's auc: 0.71151\n",
      "[43]\tvalid_0's auc: 0.711421\n",
      "[44]\tvalid_0's auc: 0.711894\n",
      "[45]\tvalid_0's auc: 0.712587\n",
      "[46]\tvalid_0's auc: 0.712448\n",
      "[47]\tvalid_0's auc: 0.712639\n",
      "[48]\tvalid_0's auc: 0.712775\n",
      "[49]\tvalid_0's auc: 0.713324\n",
      "[50]\tvalid_0's auc: 0.713343\n",
      "[51]\tvalid_0's auc: 0.713769\n",
      "[52]\tvalid_0's auc: 0.713929\n",
      "[53]\tvalid_0's auc: 0.714273\n",
      "[54]\tvalid_0's auc: 0.714733\n",
      "[55]\tvalid_0's auc: 0.714707\n",
      "[56]\tvalid_0's auc: 0.714968\n",
      "[57]\tvalid_0's auc: 0.715\n",
      "[58]\tvalid_0's auc: 0.715252\n",
      "[59]\tvalid_0's auc: 0.715438\n",
      "[60]\tvalid_0's auc: 0.715706\n",
      "[61]\tvalid_0's auc: 0.716017\n",
      "[62]\tvalid_0's auc: 0.716359\n",
      "[63]\tvalid_0's auc: 0.716682\n",
      "[64]\tvalid_0's auc: 0.71702\n",
      "[65]\tvalid_0's auc: 0.717374\n",
      "[66]\tvalid_0's auc: 0.717439\n",
      "[67]\tvalid_0's auc: 0.717661\n",
      "[68]\tvalid_0's auc: 0.717641\n",
      "[69]\tvalid_0's auc: 0.717907\n",
      "[70]\tvalid_0's auc: 0.718196\n",
      "[71]\tvalid_0's auc: 0.718306\n",
      "[72]\tvalid_0's auc: 0.718597\n",
      "[73]\tvalid_0's auc: 0.718959\n",
      "[74]\tvalid_0's auc: 0.719123\n",
      "[75]\tvalid_0's auc: 0.719171\n",
      "[76]\tvalid_0's auc: 0.719415\n",
      "[77]\tvalid_0's auc: 0.719643\n",
      "[78]\tvalid_0's auc: 0.719807\n",
      "[79]\tvalid_0's auc: 0.720091\n",
      "[80]\tvalid_0's auc: 0.720355\n",
      "[81]\tvalid_0's auc: 0.720755\n",
      "[82]\tvalid_0's auc: 0.720988\n",
      "[83]\tvalid_0's auc: 0.721203\n",
      "[84]\tvalid_0's auc: 0.721372\n",
      "[85]\tvalid_0's auc: 0.721562\n",
      "[86]\tvalid_0's auc: 0.721749\n",
      "[87]\tvalid_0's auc: 0.72183\n",
      "[88]\tvalid_0's auc: 0.721976\n",
      "[89]\tvalid_0's auc: 0.722172\n",
      "[90]\tvalid_0's auc: 0.722282\n",
      "[91]\tvalid_0's auc: 0.722443\n",
      "[92]\tvalid_0's auc: 0.722701\n",
      "[93]\tvalid_0's auc: 0.72284\n",
      "[94]\tvalid_0's auc: 0.723001\n",
      "[95]\tvalid_0's auc: 0.723086\n",
      "[96]\tvalid_0's auc: 0.723237\n",
      "[97]\tvalid_0's auc: 0.723608\n",
      "[98]\tvalid_0's auc: 0.723833\n",
      "[99]\tvalid_0's auc: 0.723945\n",
      "[100]\tvalid_0's auc: 0.724076\n"
     ]
    }
   ],
   "source": [
    "lgbm = lgb.train(lgb_params, lgb_train_1hot, valid_sets=lgb_val_1hot, verbose_eval=1)"
   ]
  },
  {
   "cell_type": "code",
   "execution_count": null,
   "metadata": {},
   "outputs": [],
   "source": []
  }
 ],
 "metadata": {
  "kernelspec": {
   "display_name": "Python 3.5 (tf_gpu)",
   "language": "python",
   "name": "tf_gpu"
  },
  "language_info": {
   "codemirror_mode": {
    "name": "ipython",
    "version": 3
   },
   "file_extension": ".py",
   "mimetype": "text/x-python",
   "name": "python",
   "nbconvert_exporter": "python",
   "pygments_lexer": "ipython3",
   "version": "3.5.5"
  },
  "varInspector": {
   "cols": {
    "lenName": 16,
    "lenType": 16,
    "lenVar": 40
   },
   "kernels_config": {
    "python": {
     "delete_cmd_postfix": "",
     "delete_cmd_prefix": "del ",
     "library": "var_list.py",
     "varRefreshCmd": "print(var_dic_list())"
    },
    "r": {
     "delete_cmd_postfix": ") ",
     "delete_cmd_prefix": "rm(",
     "library": "var_list.r",
     "varRefreshCmd": "cat(var_dic_list()) "
    }
   },
   "types_to_exclude": [
    "module",
    "function",
    "builtin_function_or_method",
    "instance",
    "_Feature"
   ],
   "window_display": false
  }
 },
 "nbformat": 4,
 "nbformat_minor": 2
}
