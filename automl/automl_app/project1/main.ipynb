{
 "cells": [
  {
   "cell_type": "code",
   "execution_count": 1,
   "metadata": {
    "ExecuteTime": {
     "end_time": "2018-07-16T00:42:53.826953Z",
     "start_time": "2018-07-16T00:42:53.802829Z"
    }
   },
   "outputs": [
    {
     "name": "stdout",
     "output_type": "stream",
     "text": [
      "/home/kai/data/shiyi/AlphaBoosting/automl/automl_app\n",
      "['', '/home/kai/anaconda3/envs/tf_gpu/lib/python35.zip', '/home/kai/anaconda3/envs/tf_gpu/lib/python3.5', '/home/kai/anaconda3/envs/tf_gpu/lib/python3.5/plat-linux', '/home/kai/anaconda3/envs/tf_gpu/lib/python3.5/lib-dynload', '/home/kai/.local/lib/python3.5/site-packages', '/home/kai/anaconda3/envs/tf_gpu/lib/python3.5/site-packages', '/home/kai/anaconda3/envs/tf_gpu/lib/python3.5/site-packages/IPython/extensions', '/home/kai/.ipython', '/home/kai/data/shiyi/AlphaBoosting/automl']\n"
     ]
    }
   ],
   "source": [
    "import os\n",
    "import sys\n",
    "nb_dir = os.path.split(os.getcwd())[0]\n",
    "print(nb_dir)\n",
    "#if nb_dir not in sys.path:\n",
    "#    sys.path.append(nb_dir)\n",
    "    \n",
    "# autolib_dir = '/home/kai/data/shiyi/AlphaBoosting/automl'\n",
    "autolib_dir = '/'.join(nb_dir.split('/')[:-1])\n",
    "if autolib_dir not in sys.path:\n",
    "    sys.path.append(autolib_dir)\n",
    "\n",
    "print(sys.path)\n",
    "\n",
    "%load_ext autoreload\n",
    "%autoreload 2"
   ]
  },
  {
   "cell_type": "code",
   "execution_count": 2,
   "metadata": {
    "ExecuteTime": {
     "end_time": "2018-07-16T00:42:54.863709Z",
     "start_time": "2018-07-16T00:42:53.829163Z"
    }
   },
   "outputs": [
    {
     "name": "stderr",
     "output_type": "stream",
     "text": [
      "/home/kai/anaconda3/envs/tf_gpu/lib/python3.5/site-packages/h5py/__init__.py:36: FutureWarning: Conversion of the second argument of issubdtype from `float` to `np.floating` is deprecated. In future, it will be treated as `np.float64 == np.dtype(float).type`.\n",
      "  from ._conv import register_converters as _register_converters\n",
      "Using TensorFlow backend.\n"
     ]
    }
   ],
   "source": [
    "from automl_libs import base_layer_utils, stacknet\n",
    "from automl_libs import feature_engineering as fe\n",
    "from automl_libs import encoding, kernels, nn_libs "
   ]
  },
  {
   "cell_type": "code",
   "execution_count": 3,
   "metadata": {
    "ExecuteTime": {
     "end_time": "2018-07-16T00:42:54.882967Z",
     "start_time": "2018-07-16T00:42:54.865872Z"
    }
   },
   "outputs": [],
   "source": [
    "categorical_features = ['Month', 'DayofMonth', 'DayOfWeek', 'DepTime', 'UniqueCarrier', 'Origin', 'Dest', 'Distance'] "
   ]
  },
  {
   "cell_type": "code",
   "execution_count": 4,
   "metadata": {
    "ExecuteTime": {
     "end_time": "2018-07-16T00:42:54.912175Z",
     "start_time": "2018-07-16T00:42:54.884418Z"
    }
   },
   "outputs": [
    {
     "data": {
      "text/plain": [
       "[{'feature_cols': ['Month', 'DayofMonth'],\n",
       "  'function': <function automl_libs.feature_engineering.count(df, cols, dummy_col, generated_feature_name, params=None)>,\n",
       "  'params': {}},\n",
       " {'feature_cols': ['Month', 'DayOfWeek'],\n",
       "  'function': <function automl_libs.feature_engineering.count(df, cols, dummy_col, generated_feature_name, params=None)>,\n",
       "  'params': {}},\n",
       " {'feature_cols': ['Month', 'DepTime'],\n",
       "  'function': <function automl_libs.feature_engineering.count(df, cols, dummy_col, generated_feature_name, params=None)>,\n",
       "  'params': {}},\n",
       " {'feature_cols': ['Month', 'UniqueCarrier'],\n",
       "  'function': <function automl_libs.feature_engineering.count(df, cols, dummy_col, generated_feature_name, params=None)>,\n",
       "  'params': {}},\n",
       " {'feature_cols': ['Month', 'Origin'],\n",
       "  'function': <function automl_libs.feature_engineering.count(df, cols, dummy_col, generated_feature_name, params=None)>,\n",
       "  'params': {}},\n",
       " {'feature_cols': ['Month', 'Dest'],\n",
       "  'function': <function automl_libs.feature_engineering.count(df, cols, dummy_col, generated_feature_name, params=None)>,\n",
       "  'params': {}},\n",
       " {'feature_cols': ['Month', 'Distance'],\n",
       "  'function': <function automl_libs.feature_engineering.count(df, cols, dummy_col, generated_feature_name, params=None)>,\n",
       "  'params': {}},\n",
       " {'feature_cols': ['DayofMonth', 'DayOfWeek'],\n",
       "  'function': <function automl_libs.feature_engineering.count(df, cols, dummy_col, generated_feature_name, params=None)>,\n",
       "  'params': {}},\n",
       " {'feature_cols': ['DayofMonth', 'DepTime'],\n",
       "  'function': <function automl_libs.feature_engineering.count(df, cols, dummy_col, generated_feature_name, params=None)>,\n",
       "  'params': {}},\n",
       " {'feature_cols': ['DayofMonth', 'UniqueCarrier'],\n",
       "  'function': <function automl_libs.feature_engineering.count(df, cols, dummy_col, generated_feature_name, params=None)>,\n",
       "  'params': {}},\n",
       " {'feature_cols': ['DayofMonth', 'Origin'],\n",
       "  'function': <function automl_libs.feature_engineering.count(df, cols, dummy_col, generated_feature_name, params=None)>,\n",
       "  'params': {}},\n",
       " {'feature_cols': ['DayofMonth', 'Dest'],\n",
       "  'function': <function automl_libs.feature_engineering.count(df, cols, dummy_col, generated_feature_name, params=None)>,\n",
       "  'params': {}},\n",
       " {'feature_cols': ['DayofMonth', 'Distance'],\n",
       "  'function': <function automl_libs.feature_engineering.count(df, cols, dummy_col, generated_feature_name, params=None)>,\n",
       "  'params': {}},\n",
       " {'feature_cols': ['DayOfWeek', 'DepTime'],\n",
       "  'function': <function automl_libs.feature_engineering.count(df, cols, dummy_col, generated_feature_name, params=None)>,\n",
       "  'params': {}},\n",
       " {'feature_cols': ['DayOfWeek', 'UniqueCarrier'],\n",
       "  'function': <function automl_libs.feature_engineering.count(df, cols, dummy_col, generated_feature_name, params=None)>,\n",
       "  'params': {}},\n",
       " {'feature_cols': ['DayOfWeek', 'Origin'],\n",
       "  'function': <function automl_libs.feature_engineering.count(df, cols, dummy_col, generated_feature_name, params=None)>,\n",
       "  'params': {}},\n",
       " {'feature_cols': ['DayOfWeek', 'Dest'],\n",
       "  'function': <function automl_libs.feature_engineering.count(df, cols, dummy_col, generated_feature_name, params=None)>,\n",
       "  'params': {}},\n",
       " {'feature_cols': ['DayOfWeek', 'Distance'],\n",
       "  'function': <function automl_libs.feature_engineering.count(df, cols, dummy_col, generated_feature_name, params=None)>,\n",
       "  'params': {}},\n",
       " {'feature_cols': ['DepTime', 'UniqueCarrier'],\n",
       "  'function': <function automl_libs.feature_engineering.count(df, cols, dummy_col, generated_feature_name, params=None)>,\n",
       "  'params': {}},\n",
       " {'feature_cols': ['DepTime', 'Origin'],\n",
       "  'function': <function automl_libs.feature_engineering.count(df, cols, dummy_col, generated_feature_name, params=None)>,\n",
       "  'params': {}},\n",
       " {'feature_cols': ['DepTime', 'Dest'],\n",
       "  'function': <function automl_libs.feature_engineering.count(df, cols, dummy_col, generated_feature_name, params=None)>,\n",
       "  'params': {}},\n",
       " {'feature_cols': ['DepTime', 'Distance'],\n",
       "  'function': <function automl_libs.feature_engineering.count(df, cols, dummy_col, generated_feature_name, params=None)>,\n",
       "  'params': {}},\n",
       " {'feature_cols': ['UniqueCarrier', 'Origin'],\n",
       "  'function': <function automl_libs.feature_engineering.count(df, cols, dummy_col, generated_feature_name, params=None)>,\n",
       "  'params': {}},\n",
       " {'feature_cols': ['UniqueCarrier', 'Dest'],\n",
       "  'function': <function automl_libs.feature_engineering.count(df, cols, dummy_col, generated_feature_name, params=None)>,\n",
       "  'params': {}},\n",
       " {'feature_cols': ['UniqueCarrier', 'Distance'],\n",
       "  'function': <function automl_libs.feature_engineering.count(df, cols, dummy_col, generated_feature_name, params=None)>,\n",
       "  'params': {}},\n",
       " {'feature_cols': ['Origin', 'Dest'],\n",
       "  'function': <function automl_libs.feature_engineering.count(df, cols, dummy_col, generated_feature_name, params=None)>,\n",
       "  'params': {}},\n",
       " {'feature_cols': ['Origin', 'Distance'],\n",
       "  'function': <function automl_libs.feature_engineering.count(df, cols, dummy_col, generated_feature_name, params=None)>,\n",
       "  'params': {}},\n",
       " {'feature_cols': ['Dest', 'Distance'],\n",
       "  'function': <function automl_libs.feature_engineering.count(df, cols, dummy_col, generated_feature_name, params=None)>,\n",
       "  'params': {}}]"
      ]
     },
     "execution_count": 4,
     "metadata": {},
     "output_type": "execute_result"
    }
   ],
   "source": [
    "import itertools\n",
    "#params = {'split_col': 't', 'coefficient': 10, 'n': 2, 'fillna': 22}\n",
    "def get_features_to_gen(function_list, low, high):\n",
    "    features_to_gen = []\n",
    "    for function in function_list:\n",
    "        for i in range(low, high+1):\n",
    "            for combine in itertools.combinations(categorical_features, i):\n",
    "                if function.__name__ == 'count_std_over_mean':\n",
    "                    features_to_gen.append({'params': {'coefficient': 10}, 'function': function, 'feature_cols': list(combine)})\n",
    "                else:\n",
    "                    features_to_gen.append({'params': {}, 'function': function, 'feature_cols': list(combine)})\n",
    "                \n",
    "    return features_to_gen\n",
    "\n",
    "# features_to_gen = get_features_to_gen([fe.count, fe.unique_count, \n",
    "#                                        fe.cumulative_count, \n",
    "#                                        fe.reverse_cumulative_count, \n",
    "#                                        fe.variance, fe.count_std_over_mean], \n",
    "#                                       2, 2)# len(categorical_features))\n",
    "# features_to_gen = get_features_to_gen([fe.count, fe.unique_count, fe.cumulative_count])\n",
    "features_to_gen = get_features_to_gen([fe.count], 2, 2)#len(categorical_features))\n",
    "\n",
    "features_to_gen "
   ]
  },
  {
   "cell_type": "code",
   "execution_count": 5,
   "metadata": {
    "ExecuteTime": {
     "end_time": "2018-07-16T00:42:54.929869Z",
     "start_time": "2018-07-16T00:42:54.913373Z"
    }
   },
   "outputs": [
    {
     "data": {
      "text/plain": [
       "28"
      ]
     },
     "execution_count": 5,
     "metadata": {},
     "output_type": "execute_result"
    }
   ],
   "source": [
    "len(features_to_gen)"
   ]
  },
  {
   "cell_type": "code",
   "execution_count": 6,
   "metadata": {
    "ExecuteTime": {
     "end_time": "2018-07-16T00:42:54.946893Z",
     "start_time": "2018-07-16T00:42:54.931008Z"
    }
   },
   "outputs": [],
   "source": [
    "project_path = './' "
   ]
  },
  {
   "cell_type": "code",
   "execution_count": 7,
   "metadata": {
    "ExecuteTime": {
     "end_time": "2018-07-16T00:42:54.969576Z",
     "start_time": "2018-07-16T00:42:54.948145Z"
    }
   },
   "outputs": [],
   "source": [
    "from automl_app import logger_config\n",
    "import logging\n",
    "logger_config.config(project_path+'project.log', file_loglevel=logging.INFO)"
   ]
  },
  {
   "cell_type": "code",
   "execution_count": 8,
   "metadata": {
    "ExecuteTime": {
     "end_time": "2018-07-16T00:42:55.025018Z",
     "start_time": "2018-07-16T00:42:54.972962Z"
    }
   },
   "outputs": [],
   "source": [
    "def params_gen(model='lgb'):\n",
    "    import time\n",
    "    import numpy as np\n",
    "    seed = int(time.time()* 1000000) % 45234634\n",
    "    np.random.seed(seed)\n",
    "    if model == 'svc':\n",
    "        params = {\n",
    "            'C': 0.911#np.random.rand(),\n",
    "#             'metric': 'roc_auc'\n",
    "        }\n",
    "    elif model == 'logreg':\n",
    "        params = {\n",
    "            'penalty': np.random.choice(['l2']),\n",
    "            'dual': np.random.choice([True, False]),\n",
    "            'C': 1,#np.random.rand(),\n",
    "            'metric': 'roc_auc'\n",
    "        }\n",
    "    elif model == 'lgb':\n",
    "        params = {    \n",
    "            'objective': 'binary',\n",
    "            'boosting': 'gbdt',\n",
    "            'num_boost_round': 10, # ignored in params. extract it and put it in input arguments in train or cv explicitly\n",
    "                                   # seems to work fine as the upper limit when combined with early_stopping_round\n",
    "            'learning_rate': np.random.choice([0.1,0.03]),#0.001]),\n",
    "            'num_leaves': np.random.choice([15,31]),#,61,127]),\n",
    "            'num_threads': 8, # best speed: set to number of real cpu cores, which is vCPU/2\n",
    "            'max_depth': -1, # no limit. This is used to deal with over-fitting when #data is small.\n",
    "            'min_data_in_leaf': np.random.randint(20,50),  #minimal number of data in one leaf. \n",
    "            'feature_fraction': np.random.randint(9,11)/10,\n",
    "            'feature_fraction_seed': seed,\n",
    "            'early_stopping_round':10,\n",
    "            'bagging_freq': 1, #0 means disable bagging. k: perform bagging at every k iteration\n",
    "            'bagging_fraction': np.random.randint(4,11)/10, #Randomly select part of data \n",
    "            'bagging_seed': seed,\n",
    "            'scale_pos_weight': 1,\n",
    "            'metric': 'auc'\n",
    "#             'objective': 'binary',\n",
    "#             'boosting': 'gbdt',\n",
    "#             'num_boost_round': 10, # ignored in params. extract it and put it in input arguments in train or cv explicitly\n",
    "#                                    # seems to work fine as the upper limit when combined with early_stopping_round\n",
    "#             'learning_rate': 0.01,\n",
    "#             'num_leaves': 50,\n",
    "#             'num_threads': 8, # best speed: set to number of real cpu cores, which is vCPU/2\n",
    "#             'max_depth': 5, # no limit. This is used to deal with over-fitting when #data is small.\n",
    "#             'min_split_gain': 0.02,\n",
    "#             'min_child_weight': 18.6,\n",
    "#             'feature_fraction': 0.1,\n",
    "#             'feature_fraction_seed': 1992,\n",
    "#             'early_stopping_round':10,\n",
    "#             'bagging_freq': 1, #0 means disable bagging. k: perform bagging at every k iteration\n",
    "#             'bagging_fraction': np.random.randint(4,11)/10, #Randomly select part of data \n",
    "#             'bagging_seed': 1992,\n",
    "#             'scale_pos_weight': 1,\n",
    "#             'lambda_l1': 0.8,\n",
    "#             'lambda_l2': 0.6,\n",
    "#             'metric': 'auc'\n",
    "        }\n",
    "    elif model == 'xgb':\n",
    "        params = {\n",
    "            'eta': 0.1,\n",
    "            'objective': 'binary:logistic',\n",
    "            'eval_metric': 'auc',\n",
    "            'booster': 'gbtree',\n",
    "            'tree_method': 'hist',\n",
    "            'max_bin': 8,\n",
    "            'scale_pos_weight': 1,\n",
    "            'seed': seed,\n",
    "            'nthread': 10,\n",
    "            'max_depth': 6,\n",
    "            'min_child_weight': 22,\n",
    "            'gamma': 0,\n",
    "            'subsample': 0.7,\n",
    "            'colsample_bytree': 0.7,\n",
    "            'colsample_bylevel': 0.675,\n",
    "            'alpha': 0,\n",
    "            'lambda': 0,\n",
    "            'num_boost_round': 50,\n",
    "            'early_stopping_rounds': 1\n",
    "        }\n",
    "    elif model == 'nn':\n",
    "        params = {\n",
    "            'nn_seed': int(time.time() * 1000000) % 45234634,\n",
    "            'ep_for_lr': np.random.randint(2,10),\n",
    "            'lr_init': 0.01,\n",
    "            'lr_fin': np.random.randint(1,5)/1000,  # if == lr_init, then no lr decay\n",
    "            'batch_size': np.random.choice([128, 256, 512, 1024]),\n",
    "            \"pred_batch_size\": 5000,\n",
    "            'max_ep': 100,\n",
    "            'patience': 10, #np.random.randint(10, 25),\n",
    "            'cat_emb_outdim': 30, # could be a constant or a dict (col name:embed out dim). e.g.:\n",
    "                                  # embed_outdim = [3, 3, 8, 8, 3]\n",
    "                                  # embed_outdim_dict = dict(zip(X_train.columns.values, embed_outdim))\n",
    "                                  # then assige embed_outdim_dict to cat_emb_outdim\n",
    "            'cat_emb_drop_rate': np.random.randint(1,4)/10, \n",
    "            'num_layers_dense_units': [1000, 500, 100],\n",
    "            'num_layers_drop_rate': np.random.randint(2,6)/10,\n",
    "            'combined_layers_dense_units': [100, 50],\n",
    "            'combined_layers_drop_rate': np.random.randint(1,3)/10,\n",
    "            'monitor': 'val_auc',  # or val_loss (MUST HAVE)\n",
    "            'mode': 'max',  # MUST HAVE\n",
    "            'int_list': ['num_layers_dense_units', 'combined_layers_dense_units']\n",
    "        }\n",
    "    elif model == 'stacknet_layer2_nn':\n",
    "        params = {\n",
    "            'nn_seed': int(time.time() * 1000000) % 45234634,\n",
    "            'ep_for_lr': 1,\n",
    "            'lr_init': 0.01,\n",
    "            'lr_fin': 0.01, # if == lr_init, then no lr decay\n",
    "            'batch_size': 128,\n",
    "            \"pred_batch_size\": 50000,\n",
    "            'best_epoch': 1,\n",
    "            'patience': 1,\n",
    "            'categorical_feature': [],\n",
    "            'cat_emb_outdim': 50, # could be a constant or a dict (col name:embed out dim). e.g.:\n",
    "                                  # embed_outdim = [3, 3, 8, 8, 3]\n",
    "                                  # embed_outdim_dict = dict(zip(X_train.columns.values, embed_outdim))\n",
    "            'num_layers_dense_units': [],\n",
    "            'combined_layers_dense_units': [10, 5],\n",
    "            'combined_layers_drop_rate': 0,\n",
    "            'monitor': 'val_auc',  # or val_loss (MUST HAVE)\n",
    "            'mode': 'max',  # MUST HAVE\n",
    "            'int_list': ['num_layers_dense_units', 'combined_layers_dense_units']\n",
    "        }\n",
    "    return params, seed"
   ]
  },
  {
   "cell_type": "code",
   "execution_count": 9,
   "metadata": {
    "ExecuteTime": {
     "end_time": "2018-07-16T00:42:55.044289Z",
     "start_time": "2018-07-16T00:42:55.026289Z"
    }
   },
   "outputs": [
    {
     "data": {
      "text/plain": [
       "({'batch_size': 128,\n",
       "  'best_epoch': 1,\n",
       "  'cat_emb_outdim': 50,\n",
       "  'categorical_feature': [],\n",
       "  'combined_layers_dense_units': [10, 5],\n",
       "  'combined_layers_drop_rate': 0,\n",
       "  'ep_for_lr': 1,\n",
       "  'int_list': ['num_layers_dense_units', 'combined_layers_dense_units'],\n",
       "  'lr_fin': 0.01,\n",
       "  'lr_init': 0.01,\n",
       "  'mode': 'max',\n",
       "  'monitor': 'val_auc',\n",
       "  'nn_seed': 26928090,\n",
       "  'num_layers_dense_units': [],\n",
       "  'patience': 1,\n",
       "  'pred_batch_size': 50000},\n",
       " 26928083)"
      ]
     },
     "execution_count": 9,
     "metadata": {},
     "output_type": "execute_result"
    }
   ],
   "source": [
    "p, s = params_gen('stacknet_layer2_nn')\n",
    "p, s"
   ]
  },
  {
   "cell_type": "code",
   "execution_count": null,
   "metadata": {
    "ExecuteTime": {
     "start_time": "2018-07-16T00:42:53.812Z"
    },
    "scrolled": true
   },
   "outputs": [
    {
     "name": "stderr",
     "output_type": "stream",
     "text": [
      "2018-07-15 20:42:55 | INFO    | automl_app.app.AlphaBoosting.__init__             | #22  | ==========START==========\n",
      "/home/kai/data/shiyi/AlphaBoosting/automl/automl_app/app.py:139: FutureWarning: Sorting because non-concatenation axis is not aligned. A future version\n",
      "of pandas will change to not sort by default.\n",
      "\n",
      "To accept the future behavior, pass 'sort=False'.\n",
      "\n",
      "To retain the current behavior and silence the warning, pass 'sort=True'.\n",
      "\n",
      "  self.df = pd.concat([self.train, self.test], ignore_index=True)\n",
      "2018-07-15 20:42:55 | INFO    | automl_app.app.AlphaBoosting.__init__             | #67  | Run record file [./output/last_run_record.json] found. Continue from the previous run...\n",
      "2018-07-15 20:42:55 | INFO    | automl_app.app.AlphaBoosting.__init__             | #96  | generate todo list\n",
      "2018-07-15 20:42:55 | INFO    | automl_app.app.AlphaBoosting.__init__             | #112 | STAGE: FEATURE_ENGINEERING\n",
      "2018-07-15 20:42:55 | INFO    | automl_app.app.AlphaBoosting.__init__             | #116 | STAGE: VALIDATION_DOWNSAMPLING_GEN\n",
      "2018-07-15 20:42:55 | INFO    | automl_app.app.AlphaBoosting.__init__             | #120 | STAGE: CONCAT_DATA\n",
      "2018-07-15 20:42:55 | INFO    | automl_app.app.AlphaBoosting.__init__             | #124 | STAGE: GRID_SEARCH\n",
      "2018-07-15 20:42:55 | INFO    | automl_app.app.AlphaBoosting._get_final_data      | #332 | DEBUG mode is on, 5.0% of train,val data are chosen\n",
      "2018-07-15 20:42:55 | INFO    | automl_app.app.AlphaBoosting._get_final_data      | #341 | Data <ordinal> retrieved. Shape: train (42500, 37) | val (7500, 37) | test (100000, 36) | contain test label: True | 8 cat features | 36 total features | y name: label\n",
      "2018-07-15 20:42:55 | INFO    | automl_libs.grid_search.gs                   | #35  | Grid search xgb. round 1 of 2\n"
     ]
    },
    {
     "name": "stdout",
     "output_type": "stream",
     "text": [
      "[0]\ttrain-auc:0.647401+0.00375451\ttest-auc:0.630438+0.00371655\n",
      "[1]\ttrain-auc:0.681735+0.0188613\ttest-auc:0.662778+0.0168451\n",
      "[2]\ttrain-auc:0.700779+0.0133053\ttest-auc:0.684406+0.015084\n",
      "[3]\ttrain-auc:0.703949+0.0131055\ttest-auc:0.686051+0.0160919\n",
      "[4]\ttrain-auc:0.711847+0.00531696\ttest-auc:0.695407+0.0051085\n",
      "[5]\ttrain-auc:0.714659+0.00478333\ttest-auc:0.697504+0.00425588\n",
      "[6]\ttrain-auc:0.716921+0.00520636\ttest-auc:0.699958+0.00635371\n",
      "[7]\ttrain-auc:0.718573+0.00556664\ttest-auc:0.70086+0.00602482\n",
      "[8]\ttrain-auc:0.721124+0.0036073\ttest-auc:0.702361+0.00232767\n",
      "[9]\ttrain-auc:0.723324+0.00220069\ttest-auc:0.704884+0.00225261\n"
     ]
    },
    {
     "name": "stderr",
     "output_type": "stream",
     "text": [
      "2018-07-15 20:42:56 | INFO    | automl_libs.grid_search._xgb_gs              | #324 | val_auc: 0.70488 | train_auc: 0.72332 (cv)\n",
      "2018-07-15 20:42:56 | INFO    | automl_libs.grid_search._xgb_gs              | #346 | [do_preds] is True, generating predictions ...\n",
      "2018-07-15 20:42:56 | INFO    | automl_libs.grid_search._xgb_gs              | #347 | Retrain model using best_round and all data...\n"
     ]
    },
    {
     "name": "stdout",
     "output_type": "stream",
     "text": [
      "[0]\tall_data-auc:0.656017\n",
      "[2]\tall_data-auc:0.713661\n",
      "[4]\tall_data-auc:0.717248\n",
      "[6]\tall_data-auc:0.718807\n",
      "[8]\tall_data-auc:0.720908\n",
      "[9]\tall_data-auc:0.722189\n"
     ]
    },
    {
     "name": "stderr",
     "output_type": "stream",
     "text": [
      "2018-07-15 20:42:56 | INFO    | automl_libs.grid_search._xgb_gs              | #356 | Training done. Iteration: 10 | train_auc: 0.72219\n",
      "2018-07-15 20:42:56 | INFO    | automl_libs.grid_search._xgb_gs              | #361 | (_nn_gs) roc of test: 0.7014913898012446\n",
      "2018-07-15 20:42:56 | INFO    | automl_libs.grid_search._xgb_gs              | #366 | XGB predictions(GBVc) saved in ./output/gs_saved_preds/.\n",
      "2018-07-15 20:42:56 | INFO    | automl_libs.grid_search.gs                   | #70  | ./output/xgb_grid_search.csv updated\n"
     ]
    },
    {
     "name": "stdout",
     "output_type": "stream",
     "text": [
      "> /home/kai/data/shiyi/AlphaBoosting/automl/automl_libs/grid_search.py(34)gs()\n",
      "-> for i in range(search_rounds):\n"
     ]
    }
   ],
   "source": [
    "from automl_app.app import AlphaBoosting\n",
    "\n",
    "automl_config_file = project_path + 'automl_config.json'\n",
    "run_record_file_name = project_path + 'last_run_record.json' # don't created this file\n",
    "AlphaBoosting(automl_config_file, features_to_gen, params_gen)"
   ]
  }
 ],
 "metadata": {
  "kernelspec": {
   "display_name": "Python 3.5 (tf_gpu)",
   "language": "python",
   "name": "tf_gpu"
  },
  "language_info": {
   "codemirror_mode": {
    "name": "ipython",
    "version": 3
   },
   "file_extension": ".py",
   "mimetype": "text/x-python",
   "name": "python",
   "nbconvert_exporter": "python",
   "pygments_lexer": "ipython3",
   "version": "3.5.5"
  },
  "varInspector": {
   "cols": {
    "lenName": 16,
    "lenType": 16,
    "lenVar": 40
   },
   "kernels_config": {
    "python": {
     "delete_cmd_postfix": "",
     "delete_cmd_prefix": "del ",
     "library": "var_list.py",
     "varRefreshCmd": "print(var_dic_list())"
    },
    "r": {
     "delete_cmd_postfix": ") ",
     "delete_cmd_prefix": "rm(",
     "library": "var_list.r",
     "varRefreshCmd": "cat(var_dic_list()) "
    }
   },
   "types_to_exclude": [
    "module",
    "function",
    "builtin_function_or_method",
    "instance",
    "_Feature"
   ],
   "window_display": false
  }
 },
 "nbformat": 4,
 "nbformat_minor": 2
}
