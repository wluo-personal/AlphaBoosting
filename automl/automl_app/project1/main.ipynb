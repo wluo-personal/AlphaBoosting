{
 "cells": [
  {
   "cell_type": "code",
   "execution_count": 1,
   "metadata": {
    "ExecuteTime": {
     "end_time": "2018-07-23T17:06:15.872369Z",
     "start_time": "2018-07-23T17:06:15.848854Z"
    }
   },
   "outputs": [
    {
     "name": "stdout",
     "output_type": "stream",
     "text": [
      "/home/kai/data/shiyi/AlphaBoosting/automl/automl_app\n",
      "['', '/home/kai/anaconda3/envs/tf_gpu/lib/python35.zip', '/home/kai/anaconda3/envs/tf_gpu/lib/python3.5', '/home/kai/anaconda3/envs/tf_gpu/lib/python3.5/plat-linux', '/home/kai/anaconda3/envs/tf_gpu/lib/python3.5/lib-dynload', '/home/kai/.local/lib/python3.5/site-packages', '/home/kai/anaconda3/envs/tf_gpu/lib/python3.5/site-packages', '/home/kai/anaconda3/envs/tf_gpu/lib/python3.5/site-packages/IPython/extensions', '/home/kai/.ipython', '/home/kai/data/shiyi/AlphaBoosting/automl']\n"
     ]
    }
   ],
   "source": [
    "import os\n",
    "import sys\n",
    "nb_dir = os.path.split(os.getcwd())[0]\n",
    "print(nb_dir)\n",
    "#if nb_dir not in sys.path:\n",
    "#    sys.path.append(nb_dir)\n",
    "    \n",
    "# autolib_dir = '/home/kai/data/shiyi/AlphaBoosting/automl'\n",
    "autolib_dir = '/'.join(nb_dir.split('/')[:-1])\n",
    "if autolib_dir not in sys.path:\n",
    "    sys.path.append(autolib_dir)\n",
    "\n",
    "print(sys.path)\n",
    "\n",
    "%load_ext autoreload\n",
    "%autoreload 2"
   ]
  },
  {
   "cell_type": "code",
   "execution_count": 2,
   "metadata": {
    "ExecuteTime": {
     "end_time": "2018-07-23T17:06:16.924016Z",
     "start_time": "2018-07-23T17:06:15.874420Z"
    }
   },
   "outputs": [
    {
     "name": "stderr",
     "output_type": "stream",
     "text": [
      "/home/kai/anaconda3/envs/tf_gpu/lib/python3.5/site-packages/h5py/__init__.py:36: FutureWarning: Conversion of the second argument of issubdtype from `float` to `np.floating` is deprecated. In future, it will be treated as `np.float64 == np.dtype(float).type`.\n",
      "  from ._conv import register_converters as _register_converters\n",
      "Using TensorFlow backend.\n"
     ]
    }
   ],
   "source": [
    "from automl_libs import base_layer_utils, stacknet\n",
    "from automl_libs import feature_engineering as fe\n",
    "from automl_libs import encoding, kernels, nn_libs, utils "
   ]
  },
  {
   "cell_type": "code",
   "execution_count": 3,
   "metadata": {
    "ExecuteTime": {
     "end_time": "2018-07-23T17:06:16.944251Z",
     "start_time": "2018-07-23T17:06:16.926004Z"
    }
   },
   "outputs": [],
   "source": [
    "categorical_features = ['Month', 'DayofMonth', 'DayOfWeek', 'DepTime', 'UniqueCarrier', 'Origin', 'Dest', 'Distance'] "
   ]
  },
  {
   "cell_type": "code",
   "execution_count": 4,
   "metadata": {
    "ExecuteTime": {
     "end_time": "2018-07-23T17:06:16.972905Z",
     "start_time": "2018-07-23T17:06:16.945921Z"
    }
   },
   "outputs": [
    {
     "data": {
      "text/plain": [
       "[{'feature_cols': ['Month', 'DayofMonth'],\n",
       "  'function': <function automl_libs.feature_engineering.count(df, cols, dummy_col, generated_feature_name, params=None)>,\n",
       "  'params': {}},\n",
       " {'feature_cols': ['Month', 'DayOfWeek'],\n",
       "  'function': <function automl_libs.feature_engineering.count(df, cols, dummy_col, generated_feature_name, params=None)>,\n",
       "  'params': {}},\n",
       " {'feature_cols': ['Month', 'DepTime'],\n",
       "  'function': <function automl_libs.feature_engineering.count(df, cols, dummy_col, generated_feature_name, params=None)>,\n",
       "  'params': {}},\n",
       " {'feature_cols': ['Month', 'UniqueCarrier'],\n",
       "  'function': <function automl_libs.feature_engineering.count(df, cols, dummy_col, generated_feature_name, params=None)>,\n",
       "  'params': {}},\n",
       " {'feature_cols': ['Month', 'Origin'],\n",
       "  'function': <function automl_libs.feature_engineering.count(df, cols, dummy_col, generated_feature_name, params=None)>,\n",
       "  'params': {}},\n",
       " {'feature_cols': ['Month', 'Dest'],\n",
       "  'function': <function automl_libs.feature_engineering.count(df, cols, dummy_col, generated_feature_name, params=None)>,\n",
       "  'params': {}},\n",
       " {'feature_cols': ['Month', 'Distance'],\n",
       "  'function': <function automl_libs.feature_engineering.count(df, cols, dummy_col, generated_feature_name, params=None)>,\n",
       "  'params': {}},\n",
       " {'feature_cols': ['DayofMonth', 'DayOfWeek'],\n",
       "  'function': <function automl_libs.feature_engineering.count(df, cols, dummy_col, generated_feature_name, params=None)>,\n",
       "  'params': {}},\n",
       " {'feature_cols': ['DayofMonth', 'DepTime'],\n",
       "  'function': <function automl_libs.feature_engineering.count(df, cols, dummy_col, generated_feature_name, params=None)>,\n",
       "  'params': {}},\n",
       " {'feature_cols': ['DayofMonth', 'UniqueCarrier'],\n",
       "  'function': <function automl_libs.feature_engineering.count(df, cols, dummy_col, generated_feature_name, params=None)>,\n",
       "  'params': {}},\n",
       " {'feature_cols': ['DayofMonth', 'Origin'],\n",
       "  'function': <function automl_libs.feature_engineering.count(df, cols, dummy_col, generated_feature_name, params=None)>,\n",
       "  'params': {}},\n",
       " {'feature_cols': ['DayofMonth', 'Dest'],\n",
       "  'function': <function automl_libs.feature_engineering.count(df, cols, dummy_col, generated_feature_name, params=None)>,\n",
       "  'params': {}},\n",
       " {'feature_cols': ['DayofMonth', 'Distance'],\n",
       "  'function': <function automl_libs.feature_engineering.count(df, cols, dummy_col, generated_feature_name, params=None)>,\n",
       "  'params': {}},\n",
       " {'feature_cols': ['DayOfWeek', 'DepTime'],\n",
       "  'function': <function automl_libs.feature_engineering.count(df, cols, dummy_col, generated_feature_name, params=None)>,\n",
       "  'params': {}},\n",
       " {'feature_cols': ['DayOfWeek', 'UniqueCarrier'],\n",
       "  'function': <function automl_libs.feature_engineering.count(df, cols, dummy_col, generated_feature_name, params=None)>,\n",
       "  'params': {}},\n",
       " {'feature_cols': ['DayOfWeek', 'Origin'],\n",
       "  'function': <function automl_libs.feature_engineering.count(df, cols, dummy_col, generated_feature_name, params=None)>,\n",
       "  'params': {}},\n",
       " {'feature_cols': ['DayOfWeek', 'Dest'],\n",
       "  'function': <function automl_libs.feature_engineering.count(df, cols, dummy_col, generated_feature_name, params=None)>,\n",
       "  'params': {}},\n",
       " {'feature_cols': ['DayOfWeek', 'Distance'],\n",
       "  'function': <function automl_libs.feature_engineering.count(df, cols, dummy_col, generated_feature_name, params=None)>,\n",
       "  'params': {}},\n",
       " {'feature_cols': ['DepTime', 'UniqueCarrier'],\n",
       "  'function': <function automl_libs.feature_engineering.count(df, cols, dummy_col, generated_feature_name, params=None)>,\n",
       "  'params': {}},\n",
       " {'feature_cols': ['DepTime', 'Origin'],\n",
       "  'function': <function automl_libs.feature_engineering.count(df, cols, dummy_col, generated_feature_name, params=None)>,\n",
       "  'params': {}},\n",
       " {'feature_cols': ['DepTime', 'Dest'],\n",
       "  'function': <function automl_libs.feature_engineering.count(df, cols, dummy_col, generated_feature_name, params=None)>,\n",
       "  'params': {}},\n",
       " {'feature_cols': ['DepTime', 'Distance'],\n",
       "  'function': <function automl_libs.feature_engineering.count(df, cols, dummy_col, generated_feature_name, params=None)>,\n",
       "  'params': {}},\n",
       " {'feature_cols': ['UniqueCarrier', 'Origin'],\n",
       "  'function': <function automl_libs.feature_engineering.count(df, cols, dummy_col, generated_feature_name, params=None)>,\n",
       "  'params': {}},\n",
       " {'feature_cols': ['UniqueCarrier', 'Dest'],\n",
       "  'function': <function automl_libs.feature_engineering.count(df, cols, dummy_col, generated_feature_name, params=None)>,\n",
       "  'params': {}},\n",
       " {'feature_cols': ['UniqueCarrier', 'Distance'],\n",
       "  'function': <function automl_libs.feature_engineering.count(df, cols, dummy_col, generated_feature_name, params=None)>,\n",
       "  'params': {}},\n",
       " {'feature_cols': ['Origin', 'Dest'],\n",
       "  'function': <function automl_libs.feature_engineering.count(df, cols, dummy_col, generated_feature_name, params=None)>,\n",
       "  'params': {}},\n",
       " {'feature_cols': ['Origin', 'Distance'],\n",
       "  'function': <function automl_libs.feature_engineering.count(df, cols, dummy_col, generated_feature_name, params=None)>,\n",
       "  'params': {}},\n",
       " {'feature_cols': ['Dest', 'Distance'],\n",
       "  'function': <function automl_libs.feature_engineering.count(df, cols, dummy_col, generated_feature_name, params=None)>,\n",
       "  'params': {}}]"
      ]
     },
     "execution_count": 4,
     "metadata": {},
     "output_type": "execute_result"
    }
   ],
   "source": [
    "import itertools\n",
    "#params = {'split_col': 't', 'coefficient': 10, 'n': 2, 'fillna': 22}\n",
    "def get_features_to_gen(function_list, low, high):\n",
    "    features_to_gen = []\n",
    "    for function in function_list:\n",
    "        for i in range(low, high+1):\n",
    "            for combine in itertools.combinations(categorical_features, i):\n",
    "                if function.__name__ == 'count_std_over_mean':\n",
    "                    features_to_gen.append({'params': {'coefficient': 10}, 'function': function, 'feature_cols': list(combine)})\n",
    "                else:\n",
    "                    features_to_gen.append({'params': {}, 'function': function, 'feature_cols': list(combine)})\n",
    "                \n",
    "    return features_to_gen\n",
    "\n",
    "# features_to_gen = get_features_to_gen([fe.count, fe.unique_count, \n",
    "#                                        fe.cumulative_count, \n",
    "#                                        fe.reverse_cumulative_count, \n",
    "#                                        fe.variance, fe.count_std_over_mean], \n",
    "#                                       2, 2)# len(categorical_features))\n",
    "# features_to_gen = get_features_to_gen([fe.count, fe.unique_count, fe.cumulative_count])\n",
    "features_to_gen = get_features_to_gen([fe.count], 2, 2)#len(categorical_features))\n",
    "\n",
    "features_to_gen "
   ]
  },
  {
   "cell_type": "code",
   "execution_count": 5,
   "metadata": {
    "ExecuteTime": {
     "end_time": "2018-07-23T17:06:16.991848Z",
     "start_time": "2018-07-23T17:06:16.974224Z"
    }
   },
   "outputs": [
    {
     "data": {
      "text/plain": [
       "28"
      ]
     },
     "execution_count": 5,
     "metadata": {},
     "output_type": "execute_result"
    }
   ],
   "source": [
    "len(features_to_gen)"
   ]
  },
  {
   "cell_type": "code",
   "execution_count": 6,
   "metadata": {
    "ExecuteTime": {
     "end_time": "2018-07-23T17:06:17.009518Z",
     "start_time": "2018-07-23T17:06:16.993158Z"
    }
   },
   "outputs": [],
   "source": [
    "project_path = './' "
   ]
  },
  {
   "cell_type": "code",
   "execution_count": 7,
   "metadata": {
    "ExecuteTime": {
     "end_time": "2018-07-23T17:06:17.028289Z",
     "start_time": "2018-07-23T17:06:17.010838Z"
    }
   },
   "outputs": [],
   "source": [
    "from automl_app import logger_config\n",
    "import logging\n",
    "logger_config.config(project_path+'project.log', file_loglevel=logging.INFO)"
   ]
  },
  {
   "cell_type": "code",
   "execution_count": 8,
   "metadata": {
    "ExecuteTime": {
     "end_time": "2018-07-23T17:06:17.074768Z",
     "start_time": "2018-07-23T17:06:17.030059Z"
    }
   },
   "outputs": [],
   "source": [
    "def params_gen(model='lgb'):\n",
    "    import time\n",
    "    import numpy as np\n",
    "    seed = int(time.time()* 1000000) % 45234634\n",
    "    np.random.seed(seed)\n",
    "    if model == 'svc':\n",
    "        params = {\n",
    "            'C': 0.911#np.random.rand(),\n",
    "#             'metric': 'roc_auc'\n",
    "        }\n",
    "    elif model == 'logreg':\n",
    "        params = {\n",
    "            'penalty': np.random.choice(['l2']),\n",
    "            'dual': np.random.choice([True, False]),\n",
    "            'C': 1,#np.random.rand(),\n",
    "            'metric': 'roc_auc'\n",
    "        }\n",
    "    elif model == 'lgb':\n",
    "        params = {    \n",
    "            'objective': 'binary',\n",
    "            'boosting': 'gbdt',\n",
    "            'num_boost_round': 10, # ignored in params. extract it and put it in input arguments in train or cv explicitly\n",
    "                                   # seems to work fine as the upper limit when combined with early_stopping_round\n",
    "            'learning_rate': np.random.choice([0.1,0.03]),#0.001]),\n",
    "            'num_leaves': np.random.choice([15,31]),#,61,127]),\n",
    "            'num_threads': 8, # best speed: set to number of real cpu cores, which is vCPU/2\n",
    "            'max_depth': -1, # no limit. This is used to deal with over-fitting when #data is small.\n",
    "            'min_data_in_leaf': np.random.randint(20,50),  #minimal number of data in one leaf. \n",
    "            'feature_fraction': np.random.randint(9,11)/10,\n",
    "            'feature_fraction_seed': seed,\n",
    "            'early_stopping_round':10,\n",
    "            'bagging_freq': 1, #0 means disable bagging. k: perform bagging at every k iteration\n",
    "            'bagging_fraction': np.random.randint(4,11)/10, #Randomly select part of data \n",
    "            'bagging_seed': seed,\n",
    "            'scale_pos_weight': 1,\n",
    "            'metric': 'auc'\n",
    "#             'objective': 'binary',\n",
    "#             'boosting': 'gbdt',\n",
    "#             'num_boost_round': 10, # ignored in params. extract it and put it in input arguments in train or cv explicitly\n",
    "#                                    # seems to work fine as the upper limit when combined with early_stopping_round\n",
    "#             'learning_rate': 0.01,\n",
    "#             'num_leaves': 50,\n",
    "#             'num_threads': 8, # best speed: set to number of real cpu cores, which is vCPU/2\n",
    "#             'max_depth': 5, # no limit. This is used to deal with over-fitting when #data is small.\n",
    "#             'min_split_gain': 0.02,\n",
    "#             'min_child_weight': 18.6,\n",
    "#             'feature_fraction': 0.1,\n",
    "#             'feature_fraction_seed': 1992,\n",
    "#             'early_stopping_round':10,\n",
    "#             'bagging_freq': 1, #0 means disable bagging. k: perform bagging at every k iteration\n",
    "#             'bagging_fraction': np.random.randint(4,11)/10, #Randomly select part of data \n",
    "#             'bagging_seed': 1992,\n",
    "#             'scale_pos_weight': 1,\n",
    "#             'lambda_l1': 0.8,\n",
    "#             'lambda_l2': 0.6,\n",
    "#             'metric': 'auc'\n",
    "        }\n",
    "    elif model == 'xgb':\n",
    "        params = {\n",
    "            'eta': 0.1,\n",
    "            'objective': 'binary:logistic',\n",
    "            'eval_metric': 'auc',\n",
    "            'booster': 'gbtree',\n",
    "            'tree_method': 'hist',\n",
    "            'max_bin': 8,\n",
    "            'scale_pos_weight': 1,\n",
    "            'seed': seed,\n",
    "            'nthread': 10,\n",
    "            'max_depth': 6,\n",
    "            'min_child_weight': 22,\n",
    "            'gamma': 0,\n",
    "            'subsample': 0.7,\n",
    "            'colsample_bytree': 0.7,\n",
    "            'colsample_bylevel': 0.675,\n",
    "            'alpha': 0,\n",
    "            'lambda': 0,\n",
    "            'num_boost_round': 50,\n",
    "            'early_stopping_rounds': 1\n",
    "        }\n",
    "    elif model == 'catb':\n",
    "        params = {\n",
    "            'iterations': 30,\n",
    "            'depth': np.random.randint(6,11),\n",
    "            'l2_leaf_reg': np.random.randint(0, 31)/10,\n",
    "        #     'custom_metric': 'AUC',\n",
    "            'eval_metric': 'AUC',\n",
    "            'random_seed': seed,\n",
    "            'logging_level': 'Verbose',\n",
    "            'thread_count': 15\n",
    "        }\n",
    "    elif model == 'nn':\n",
    "        params = {\n",
    "            'nn_seed': int(time.time() * 1000000) % 45234634,\n",
    "            'ep_for_lr': np.random.randint(2,10),\n",
    "            'lr_init': 0.01,\n",
    "            'lr_fin': np.random.randint(1,5)/1000,  # if == lr_init, then no lr decay\n",
    "            'batch_size': np.random.choice([128, 256, 512, 1024]),\n",
    "            \"pred_batch_size\": 5000,\n",
    "            'max_ep': 100,\n",
    "            'patience': 10, #np.random.randint(10, 25),\n",
    "            'cat_emb_outdim': 30, # could be a constant or a dict (col name:embed out dim). e.g.:\n",
    "                                  # embed_outdim = [3, 3, 8, 8, 3]\n",
    "                                  # embed_outdim_dict = dict(zip(X_train.columns.values, embed_outdim))\n",
    "                                  # then assige embed_outdim_dict to cat_emb_outdim\n",
    "            'cat_emb_drop_rate': np.random.randint(1,4)/10, \n",
    "            'num_layers_dense_units': [1000, 500, 100],\n",
    "            'num_layers_drop_rate': np.random.randint(2,6)/10,\n",
    "            'combined_layers_dense_units': [100, 50],\n",
    "            'combined_layers_drop_rate': np.random.randint(1,3)/10,\n",
    "            'monitor': 'val_auc',  # or val_loss (MUST HAVE)\n",
    "            'mode': 'max',  # MUST HAVE\n",
    "            'int_list': ['num_layers_dense_units', 'combined_layers_dense_units']\n",
    "        }\n",
    "    elif model == 'stacknet_layer2_nn':\n",
    "        params = {\n",
    "            'nn_seed': int(time.time() * 1000000) % 45234634,\n",
    "            'ep_for_lr': 1,\n",
    "            'lr_init': 0.01,\n",
    "            'lr_fin': 0.01, # if == lr_init, then no lr decay\n",
    "            'batch_size': 128,\n",
    "            \"pred_batch_size\": 50000,\n",
    "            'best_epoch': 1,\n",
    "            'patience': 1,\n",
    "            'categorical_feature': [],\n",
    "            'cat_emb_outdim': 50, # could be a constant or a dict (col name:embed out dim). e.g.:\n",
    "                                  # embed_outdim = [3, 3, 8, 8, 3]\n",
    "                                  # embed_outdim_dict = dict(zip(X_train.columns.values, embed_outdim))\n",
    "            'num_layers_dense_units': [],\n",
    "            'combined_layers_dense_units': [10, 5],\n",
    "            'combined_layers_drop_rate': 0,\n",
    "            'monitor': 'val_auc',  # or val_loss (MUST HAVE)\n",
    "            'mode': 'max',  # MUST HAVE\n",
    "            'int_list': ['num_layers_dense_units', 'combined_layers_dense_units']\n",
    "        }\n",
    "    return params, seed"
   ]
  },
  {
   "cell_type": "code",
   "execution_count": 9,
   "metadata": {
    "ExecuteTime": {
     "end_time": "2018-07-23T17:06:17.094049Z",
     "start_time": "2018-07-23T17:06:17.076177Z"
    }
   },
   "outputs": [
    {
     "data": {
      "text/plain": [
       "({'batch_size': 128,\n",
       "  'best_epoch': 1,\n",
       "  'cat_emb_outdim': 50,\n",
       "  'categorical_feature': [],\n",
       "  'combined_layers_dense_units': [10, 5],\n",
       "  'combined_layers_drop_rate': 0,\n",
       "  'ep_for_lr': 1,\n",
       "  'int_list': ['num_layers_dense_units', 'combined_layers_dense_units'],\n",
       "  'lr_fin': 0.01,\n",
       "  'lr_init': 0.01,\n",
       "  'mode': 'max',\n",
       "  'monitor': 'val_auc',\n",
       "  'nn_seed': 10723747,\n",
       "  'num_layers_dense_units': [],\n",
       "  'patience': 1,\n",
       "  'pred_batch_size': 50000},\n",
       " 10723739)"
      ]
     },
     "execution_count": 9,
     "metadata": {},
     "output_type": "execute_result"
    }
   ],
   "source": [
    "p, s = params_gen('stacknet_layer2_nn')\n",
    "p, s"
   ]
  },
  {
   "cell_type": "code",
   "execution_count": 10,
   "metadata": {
    "ExecuteTime": {
     "end_time": "2018-07-23T17:06:17.113526Z",
     "start_time": "2018-07-23T17:06:17.095801Z"
    }
   },
   "outputs": [],
   "source": [
    "import sys\n",
    "import time\n",
    "\n",
    "class Logger(object):\n",
    "    def __init__(self, logtofile=True, logfilename='log'):\n",
    "        self.terminal = sys.stdout\n",
    "        self.logfile = \"{}_{}.log\".format(logfilename, int(time.time()))\n",
    "        self.logtofile = logtofile\n",
    "\n",
    "    def write(self, message):\n",
    "#         self.terminal.write(message)\n",
    "        if self.logtofile:\n",
    "            self.log = open(self.logfile, \"a\")\n",
    "            self.log.write('['+utils.get_time()+'] '+message)  \n",
    "            self.log.close()\n",
    "\n",
    "\n",
    "    def flush(self):\n",
    "        #this flush method is needed for python 3 compatibility.\n",
    "        #this handles the flush command by doing nothing.\n",
    "        #you might want to specify some extra behavior here.\n",
    "        pass    \n",
    "\n",
    "def divert_printout_to_file():\n",
    "    sys.stdout = Logger(logfilename='logfile')"
   ]
  },
  {
   "cell_type": "code",
   "execution_count": 11,
   "metadata": {
    "ExecuteTime": {
     "end_time": "2018-07-23T17:06:17.131195Z",
     "start_time": "2018-07-23T17:06:17.114973Z"
    }
   },
   "outputs": [],
   "source": [
    "# divert_printout_to_file()"
   ]
  },
  {
   "cell_type": "code",
   "execution_count": 12,
   "metadata": {
    "ExecuteTime": {
     "end_time": "2018-07-23T17:13:52.867848Z",
     "start_time": "2018-07-23T17:06:17.132527Z"
    },
    "scrolled": true
   },
   "outputs": [
    {
     "name": "stderr",
     "output_type": "stream",
     "text": [
      "2018-07-23 13:06:17 | INFO    | automl_app.app.AlphaBoosting.__init__             | #22  | ==========START==========\n",
      "2018-07-23 13:06:17 | INFO    | automl_app.app.AlphaBoosting.__init__             | #67  | Run record file [./output/last_run_record.json] found. Continue from the previous run...\n",
      "2018-07-23 13:06:17 | INFO    | automl_app.app.AlphaBoosting.__init__             | #96  | generate todo list\n",
      "2018-07-23 13:06:17 | INFO    | automl_app.app.AlphaBoosting.__init__             | #112 | STAGE: FEATURE_ENGINEERING\n",
      "2018-07-23 13:06:17 | INFO    | automl_app.app.AlphaBoosting.__init__             | #116 | STAGE: VALIDATION_DOWNSAMPLING_GEN\n",
      "2018-07-23 13:06:17 | INFO    | automl_app.app.AlphaBoosting.__init__             | #120 | STAGE: CONCAT_DATA\n",
      "2018-07-23 13:06:17 | INFO    | automl_app.app.AlphaBoosting.__init__             | #124 | STAGE: GRID_SEARCH\n",
      "2018-07-23 13:06:17 | INFO    | automl_app.app.AlphaBoosting._get_final_data      | #338 | DEBUG mode is on, 5.0% of train,val data are chosen\n",
      "2018-07-23 13:06:17 | INFO    | automl_app.app.AlphaBoosting._get_final_data      | #347 | Data <ordinal2> retrieved. Shape: train (42500, 37) | val (7500, 37) | test (100000, 36) | contain test label: True | 8 cat features | 36 total features | y name: label\n",
      "2018-07-23 13:06:17 | INFO    | automl_libs.grid_search.gs                   | #36  | Grid search catb. round 1 of 2\n"
     ]
    },
    {
     "name": "stdout",
     "output_type": "stream",
     "text": [
      "0:\tlearn: 0.6653179\ttest: 0.6672104\tbest: 0.6672104 (0)\ttotal: 212ms\tremaining: 6.15s\n",
      "5:\tlearn: 0.6909695\ttest: 0.6868848\tbest: 0.6868848 (5)\ttotal: 931ms\tremaining: 3.73s\n",
      "10:\tlearn: 0.6974981\ttest: 0.6945749\tbest: 0.6946138 (9)\ttotal: 1.71s\tremaining: 2.95s\n",
      "15:\tlearn: 0.7006934\ttest: 0.6965080\tbest: 0.6965080 (15)\ttotal: 2.52s\tremaining: 2.21s\n",
      "20:\tlearn: 0.7014892\ttest: 0.6971812\tbest: 0.6971874 (19)\ttotal: 3.29s\tremaining: 1.41s\n",
      "25:\tlearn: 0.7028703\ttest: 0.6977995\tbest: 0.6977995 (25)\ttotal: 4.12s\tremaining: 634ms\n"
     ]
    },
    {
     "name": "stderr",
     "output_type": "stream",
     "text": [
      "2018-07-23 13:06:23 | INFO    | automl_libs.grid_search._catb_gs             | #410 | val_AUC: 0.69879 | train_AUC: 0.70354 (cv)\n",
      "2018-07-23 13:06:23 | INFO    | automl_libs.grid_search._catb_gs             | #429 | [do_preds] is True, generating predictions ...\n",
      "2018-07-23 13:06:23 | INFO    | automl_libs.grid_search._catb_gs             | #430 | Retrain model using best_round [29] and all data...\n"
     ]
    },
    {
     "name": "stdout",
     "output_type": "stream",
     "text": [
      "29:\tlearn: 0.7035405\ttest: 0.6987934\tbest: 0.6987934 (29)\ttotal: 4.91s\tremaining: 0us\n",
      "0:\ttest: 0.6980526\tbest: 0.6980526 (0)\ttotal: 66ms\tremaining: 1.85s\n",
      "1:\ttest: 0.7090833\tbest: 0.7090833 (1)\ttotal: 134ms\tremaining: 1.81s\n",
      "2:\ttest: 0.7127950\tbest: 0.7127950 (2)\ttotal: 193ms\tremaining: 1.67s\n",
      "3:\ttest: 0.7136455\tbest: 0.7136455 (3)\ttotal: 261ms\tremaining: 1.63s\n",
      "4:\ttest: 0.7137311\tbest: 0.7137311 (4)\ttotal: 321ms\tremaining: 1.54s\n",
      "5:\ttest: 0.7142073\tbest: 0.7142073 (5)\ttotal: 384ms\tremaining: 1.47s\n",
      "6:\ttest: 0.7158434\tbest: 0.7158434 (6)\ttotal: 453ms\tremaining: 1.42s\n",
      "7:\ttest: 0.7173511\tbest: 0.7173511 (7)\ttotal: 520ms\tremaining: 1.36s\n",
      "8:\ttest: 0.7178568\tbest: 0.7178568 (8)\ttotal: 585ms\tremaining: 1.3s\n",
      "9:\ttest: 0.7184095\tbest: 0.7184095 (9)\ttotal: 652ms\tremaining: 1.24s\n",
      "10:\ttest: 0.7193606\tbest: 0.7193606 (10)\ttotal: 715ms\tremaining: 1.17s\n",
      "11:\ttest: 0.7212022\tbest: 0.7212022 (11)\ttotal: 790ms\tremaining: 1.12s\n",
      "12:\ttest: 0.7234478\tbest: 0.7234478 (12)\ttotal: 858ms\tremaining: 1.06s\n",
      "13:\ttest: 0.7239211\tbest: 0.7239211 (13)\ttotal: 928ms\tremaining: 994ms\n",
      "14:\ttest: 0.7253019\tbest: 0.7253019 (14)\ttotal: 995ms\tremaining: 929ms\n",
      "15:\ttest: 0.7255421\tbest: 0.7255421 (15)\ttotal: 1.06s\tremaining: 862ms\n",
      "16:\ttest: 0.7261319\tbest: 0.7261319 (16)\ttotal: 1.13s\tremaining: 796ms\n",
      "17:\ttest: 0.7264111\tbest: 0.7264111 (17)\ttotal: 1.19s\tremaining: 727ms\n",
      "18:\ttest: 0.7275214\tbest: 0.7275214 (18)\ttotal: 1.26s\tremaining: 665ms\n",
      "19:\ttest: 0.7281090\tbest: 0.7281090 (19)\ttotal: 1.33s\tremaining: 601ms\n",
      "20:\ttest: 0.7290040\tbest: 0.7290040 (20)\ttotal: 1.42s\tremaining: 542ms\n",
      "21:\ttest: 0.7295963\tbest: 0.7295963 (21)\ttotal: 1.49s\tremaining: 475ms\n",
      "22:\ttest: 0.7300428\tbest: 0.7300428 (22)\ttotal: 1.56s\tremaining: 407ms\n",
      "23:\ttest: 0.7307142\tbest: 0.7307142 (23)\ttotal: 1.64s\tremaining: 341ms\n",
      "24:\ttest: 0.7330769\tbest: 0.7330769 (24)\ttotal: 1.72s\tremaining: 274ms\n",
      "25:\ttest: 0.7335683\tbest: 0.7335683 (25)\ttotal: 1.79s\tremaining: 206ms\n",
      "26:\ttest: 0.7347692\tbest: 0.7347692 (26)\ttotal: 1.86s\tremaining: 138ms\n"
     ]
    },
    {
     "name": "stderr",
     "output_type": "stream",
     "text": [
      "2018-07-23 13:06:25 | INFO    | automl_libs.grid_search._catb_gs             | #437 | Training done. Iteration: 29 | train_AUC: 0.73764\n"
     ]
    },
    {
     "name": "stdout",
     "output_type": "stream",
     "text": [
      "27:\ttest: 0.7361731\tbest: 0.7361731 (27)\ttotal: 1.94s\tremaining: 69.3ms\n",
      "28:\ttest: 0.7376363\tbest: 0.7376363 (28)\ttotal: 2.01s\tremaining: 0us\n",
      "\n",
      "bestTest = 0.7376362785\n",
      "bestIteration = 28\n",
      "\n",
      "Shrink model to first 29 iterations.\n"
     ]
    },
    {
     "name": "stderr",
     "output_type": "stream",
     "text": [
      "2018-07-23 13:06:26 | INFO    | automl_libs.grid_search._catb_gs             | #442 | (_nn_gs) roc of test: 0.710457815308394\n",
      "2018-07-23 13:06:26 | INFO    | automl_libs.grid_search._catb_gs             | #447 | CatB predictions(v5jC) saved in ./output/gs_saved_preds/.\n"
     ]
    },
    {
     "name": "stdout",
     "output_type": "stream",
     "text": [
      "> /home/kai/data/shiyi/AlphaBoosting/automl/automl_libs/grid_search.py(452)_catb_gs()\n",
      "-> catb_params.update(res_dict)\n",
      "(Pdb) catb_params\n",
      "{'depth': 10, 'eval_metric': 'AUC', 'random_seed': 11164327, 'thread_count': 15, 'logging_level': 'Verbose', 'l2_leaf_reg': 2.4, 'iterations': 29}\n",
      "(Pdb) res_dict\n",
      "{'timestamp': '2018-07-23 13:06:17', 'cv': True, 'train_AUC': 0.7035405275421778, 'pred_timespent': '0:00:03', 'gs_timespent': '0:00:05', 'val_AUC': 0.6987933946090159}\n",
      "(Pdb) n\n",
      "> /home/kai/data/shiyi/AlphaBoosting/automl/automl_libs/grid_search.py(454)_catb_gs()\n",
      "-> return catb_params, run_id\n",
      "(Pdb) catb_params\n",
      "{'timestamp': '2018-07-23 13:06:17', 'train_AUC': 0.7035405275421778, 'thread_count': 15, 'pred_timespent': '0:00:03', 'val_AUC': 0.6987933946090159, 'eval_metric': 'AUC', 'random_seed': 11164327, 'l2_leaf_reg': 2.4, 'iterations': 29, 'logging_level': 'Verbose', 'gs_timespent': '0:00:05', 'depth': 10, 'cv': True}\n",
      "(Pdb) q\n"
     ]
    },
    {
     "ename": "BdbQuit",
     "evalue": "",
     "output_type": "error",
     "traceback": [
      "\u001b[0;31m---------------------------------------------------------------------------\u001b[0m",
      "\u001b[0;31mBdbQuit\u001b[0m                                   Traceback (most recent call last)",
      "\u001b[0;32m<ipython-input-12-a1b354ec48a8>\u001b[0m in \u001b[0;36m<module>\u001b[0;34m()\u001b[0m\n\u001b[1;32m      3\u001b[0m \u001b[0mautoml_config_file\u001b[0m \u001b[0;34m=\u001b[0m \u001b[0mproject_path\u001b[0m \u001b[0;34m+\u001b[0m \u001b[0;34m'automl_config.json'\u001b[0m\u001b[0;34m\u001b[0m\u001b[0m\n\u001b[1;32m      4\u001b[0m \u001b[0mrun_record_file_name\u001b[0m \u001b[0;34m=\u001b[0m \u001b[0mproject_path\u001b[0m \u001b[0;34m+\u001b[0m \u001b[0;34m'last_run_record.json'\u001b[0m \u001b[0;31m# don't created this file\u001b[0m\u001b[0;34m\u001b[0m\u001b[0m\n\u001b[0;32m----> 5\u001b[0;31m \u001b[0mAlphaBoosting\u001b[0m\u001b[0;34m(\u001b[0m\u001b[0mautoml_config_file\u001b[0m\u001b[0;34m,\u001b[0m \u001b[0mfeatures_to_gen\u001b[0m\u001b[0;34m,\u001b[0m \u001b[0mparams_gen\u001b[0m\u001b[0;34m)\u001b[0m\u001b[0;34m\u001b[0m\u001b[0m\n\u001b[0m",
      "\u001b[0;32m~/data/shiyi/AlphaBoosting/automl/automl_app/app.py\u001b[0m in \u001b[0;36m__init__\u001b[0;34m(self, config_file, features_to_gen, params_gen)\u001b[0m\n\u001b[1;32m    123\u001b[0m         \u001b[0;31m# grid search\u001b[0m\u001b[0;34m\u001b[0m\u001b[0;34m\u001b[0m\u001b[0m\n\u001b[1;32m    124\u001b[0m         \u001b[0mself\u001b[0m\u001b[0;34m.\u001b[0m\u001b[0mlogger\u001b[0m\u001b[0;34m.\u001b[0m\u001b[0minfo\u001b[0m\u001b[0;34m(\u001b[0m\u001b[0;34m'STAGE: '\u001b[0m \u001b[0;34m+\u001b[0m \u001b[0mself\u001b[0m\u001b[0;34m.\u001b[0m\u001b[0mStage\u001b[0m\u001b[0;34m.\u001b[0m\u001b[0mGRID_SEARCH\u001b[0m\u001b[0;34m.\u001b[0m\u001b[0mname\u001b[0m\u001b[0;34m)\u001b[0m\u001b[0;34m\u001b[0m\u001b[0m\n\u001b[0;32m--> 125\u001b[0;31m         \u001b[0mself\u001b[0m\u001b[0;34m.\u001b[0m\u001b[0m_grid_search\u001b[0m\u001b[0;34m(\u001b[0m\u001b[0mto_do_dict\u001b[0m\u001b[0;34m)\u001b[0m\u001b[0;34m\u001b[0m\u001b[0m\n\u001b[0m\u001b[1;32m    126\u001b[0m \u001b[0;34m\u001b[0m\u001b[0m\n\u001b[1;32m    127\u001b[0m         \u001b[0;31m# grid search\u001b[0m\u001b[0;34m\u001b[0m\u001b[0;34m\u001b[0m\u001b[0m\n",
      "\u001b[0;32m~/data/shiyi/AlphaBoosting/automl/automl_app/app.py\u001b[0m in \u001b[0;36m_grid_search\u001b[0;34m(self, to_do_dict)\u001b[0m\n\u001b[1;32m    283\u001b[0m                            \u001b[0mdo_preds\u001b[0m\u001b[0;34m=\u001b[0m\u001b[0mgs_do_preds\u001b[0m\u001b[0;34m,\u001b[0m \u001b[0mX_test\u001b[0m\u001b[0;34m=\u001b[0m\u001b[0mX_test\u001b[0m\u001b[0;34m,\u001b[0m \u001b[0my_test\u001b[0m\u001b[0;34m=\u001b[0m\u001b[0my_test\u001b[0m\u001b[0;34m,\u001b[0m\u001b[0;34m\u001b[0m\u001b[0m\n\u001b[1;32m    284\u001b[0m                            \u001b[0mpreds_save_path\u001b[0m\u001b[0;34m=\u001b[0m\u001b[0mself\u001b[0m\u001b[0;34m.\u001b[0m\u001b[0mOUTDIR\u001b[0m\u001b[0;34m+\u001b[0m\u001b[0;34m'gs_saved_preds/'\u001b[0m\u001b[0;34m,\u001b[0m\u001b[0;34m\u001b[0m\u001b[0m\n\u001b[0;32m--> 285\u001b[0;31m                            suppress_warning=gs_sup_warning)\n\u001b[0m\u001b[1;32m    286\u001b[0m             \u001b[0;32mdel\u001b[0m \u001b[0mtrain\u001b[0m\u001b[0;34m,\u001b[0m \u001b[0mval\u001b[0m\u001b[0;34m,\u001b[0m \u001b[0mtest\u001b[0m\u001b[0;34m;\u001b[0m \u001b[0mgc\u001b[0m\u001b[0;34m.\u001b[0m\u001b[0mcollect\u001b[0m\u001b[0;34m(\u001b[0m\u001b[0;34m)\u001b[0m\u001b[0;34m\u001b[0m\u001b[0m\n\u001b[1;32m    287\u001b[0m         \u001b[0mself\u001b[0m\u001b[0;34m.\u001b[0m\u001b[0m_renew_status\u001b[0m\u001b[0;34m(\u001b[0m\u001b[0mto_do_dict\u001b[0m\u001b[0;34m,\u001b[0m \u001b[0mstage\u001b[0m\u001b[0;34m,\u001b[0m \u001b[0mself\u001b[0m\u001b[0;34m.\u001b[0m\u001b[0mOUTDIR\u001b[0m \u001b[0;34m+\u001b[0m \u001b[0;34m'todo_list.json'\u001b[0m\u001b[0;34m)\u001b[0m\u001b[0;34m\u001b[0m\u001b[0m\n",
      "\u001b[0;32m~/data/shiyi/AlphaBoosting/automl/automl_libs/grid_search.py\u001b[0m in \u001b[0;36mgs\u001b[0;34m(data_name, X_train, y_train, X_val, y_val, categorical_feature, search_rounds, gs_record_dir, gs_params_gen, gs_models, cv, nfold, stratified, verbose_eval, do_preds, X_test, y_test, preds_save_path, suppress_warning, **kwargs)\u001b[0m\n\u001b[1;32m     55\u001b[0m                     params, run_id = _catb_gs(X_train, y_train, X_val, y_val, categorical_feature,\n\u001b[1;32m     56\u001b[0m                                               \u001b[0mgs_params_gen\u001b[0m\u001b[0;34m,\u001b[0m \u001b[0mgs_model\u001b[0m\u001b[0;34m,\u001b[0m \u001b[0mcv\u001b[0m\u001b[0;34m,\u001b[0m \u001b[0mnfold\u001b[0m\u001b[0;34m,\u001b[0m \u001b[0mstratified\u001b[0m\u001b[0;34m,\u001b[0m \u001b[0mverbose_eval\u001b[0m\u001b[0;34m,\u001b[0m\u001b[0;34m\u001b[0m\u001b[0m\n\u001b[0;32m---> 57\u001b[0;31m                                               do_preds, X_test, y_test, preds_save_path)\n\u001b[0m\u001b[1;32m     58\u001b[0m \u001b[0;34m\u001b[0m\u001b[0m\n\u001b[1;32m     59\u001b[0m                 \u001b[0mparams\u001b[0m\u001b[0;34m[\u001b[0m\u001b[0;34m'data_name'\u001b[0m\u001b[0;34m]\u001b[0m \u001b[0;34m=\u001b[0m \u001b[0mdata_name\u001b[0m\u001b[0;34m\u001b[0m\u001b[0m\n",
      "\u001b[0;32m~/data/shiyi/AlphaBoosting/automl/automl_libs/grid_search.py\u001b[0m in \u001b[0;36m_catb_gs\u001b[0;34m(X_train, y_train, X_val, y_val, categorical_feature, gs_params_gen, gs_model, cv, nfold, stratified, verbose_eval, do_preds, X_test, y_test, preds_save_path)\u001b[0m\n\u001b[1;32m    452\u001b[0m     \u001b[0mcatb_params\u001b[0m\u001b[0;34m.\u001b[0m\u001b[0mupdate\u001b[0m\u001b[0;34m(\u001b[0m\u001b[0mres_dict\u001b[0m\u001b[0;34m)\u001b[0m\u001b[0;34m\u001b[0m\u001b[0m\n\u001b[1;32m    453\u001b[0m \u001b[0;34m\u001b[0m\u001b[0m\n\u001b[0;32m--> 454\u001b[0;31m     \u001b[0;32mreturn\u001b[0m \u001b[0mcatb_params\u001b[0m\u001b[0;34m,\u001b[0m \u001b[0mrun_id\u001b[0m\u001b[0;34m\u001b[0m\u001b[0m\n\u001b[0m",
      "\u001b[0;32m~/data/shiyi/AlphaBoosting/automl/automl_libs/grid_search.py\u001b[0m in \u001b[0;36m_catb_gs\u001b[0;34m(X_train, y_train, X_val, y_val, categorical_feature, gs_params_gen, gs_model, cv, nfold, stratified, verbose_eval, do_preds, X_test, y_test, preds_save_path)\u001b[0m\n\u001b[1;32m    452\u001b[0m     \u001b[0mcatb_params\u001b[0m\u001b[0;34m.\u001b[0m\u001b[0mupdate\u001b[0m\u001b[0;34m(\u001b[0m\u001b[0mres_dict\u001b[0m\u001b[0;34m)\u001b[0m\u001b[0;34m\u001b[0m\u001b[0m\n\u001b[1;32m    453\u001b[0m \u001b[0;34m\u001b[0m\u001b[0m\n\u001b[0;32m--> 454\u001b[0;31m     \u001b[0;32mreturn\u001b[0m \u001b[0mcatb_params\u001b[0m\u001b[0;34m,\u001b[0m \u001b[0mrun_id\u001b[0m\u001b[0;34m\u001b[0m\u001b[0m\n\u001b[0m",
      "\u001b[0;32m~/anaconda3/envs/tf_gpu/lib/python3.5/bdb.py\u001b[0m in \u001b[0;36mtrace_dispatch\u001b[0;34m(self, frame, event, arg)\u001b[0m\n\u001b[1;32m     46\u001b[0m             \u001b[0;32mreturn\u001b[0m \u001b[0;31m# None\u001b[0m\u001b[0;34m\u001b[0m\u001b[0m\n\u001b[1;32m     47\u001b[0m         \u001b[0;32mif\u001b[0m \u001b[0mevent\u001b[0m \u001b[0;34m==\u001b[0m \u001b[0;34m'line'\u001b[0m\u001b[0;34m:\u001b[0m\u001b[0;34m\u001b[0m\u001b[0m\n\u001b[0;32m---> 48\u001b[0;31m             \u001b[0;32mreturn\u001b[0m \u001b[0mself\u001b[0m\u001b[0;34m.\u001b[0m\u001b[0mdispatch_line\u001b[0m\u001b[0;34m(\u001b[0m\u001b[0mframe\u001b[0m\u001b[0;34m)\u001b[0m\u001b[0;34m\u001b[0m\u001b[0m\n\u001b[0m\u001b[1;32m     49\u001b[0m         \u001b[0;32mif\u001b[0m \u001b[0mevent\u001b[0m \u001b[0;34m==\u001b[0m \u001b[0;34m'call'\u001b[0m\u001b[0;34m:\u001b[0m\u001b[0;34m\u001b[0m\u001b[0m\n\u001b[1;32m     50\u001b[0m             \u001b[0;32mreturn\u001b[0m \u001b[0mself\u001b[0m\u001b[0;34m.\u001b[0m\u001b[0mdispatch_call\u001b[0m\u001b[0;34m(\u001b[0m\u001b[0mframe\u001b[0m\u001b[0;34m,\u001b[0m \u001b[0marg\u001b[0m\u001b[0;34m)\u001b[0m\u001b[0;34m\u001b[0m\u001b[0m\n",
      "\u001b[0;32m~/anaconda3/envs/tf_gpu/lib/python3.5/bdb.py\u001b[0m in \u001b[0;36mdispatch_line\u001b[0;34m(self, frame)\u001b[0m\n\u001b[1;32m     65\u001b[0m         \u001b[0;32mif\u001b[0m \u001b[0mself\u001b[0m\u001b[0;34m.\u001b[0m\u001b[0mstop_here\u001b[0m\u001b[0;34m(\u001b[0m\u001b[0mframe\u001b[0m\u001b[0;34m)\u001b[0m \u001b[0;32mor\u001b[0m \u001b[0mself\u001b[0m\u001b[0;34m.\u001b[0m\u001b[0mbreak_here\u001b[0m\u001b[0;34m(\u001b[0m\u001b[0mframe\u001b[0m\u001b[0;34m)\u001b[0m\u001b[0;34m:\u001b[0m\u001b[0;34m\u001b[0m\u001b[0m\n\u001b[1;32m     66\u001b[0m             \u001b[0mself\u001b[0m\u001b[0;34m.\u001b[0m\u001b[0muser_line\u001b[0m\u001b[0;34m(\u001b[0m\u001b[0mframe\u001b[0m\u001b[0;34m)\u001b[0m\u001b[0;34m\u001b[0m\u001b[0m\n\u001b[0;32m---> 67\u001b[0;31m             \u001b[0;32mif\u001b[0m \u001b[0mself\u001b[0m\u001b[0;34m.\u001b[0m\u001b[0mquitting\u001b[0m\u001b[0;34m:\u001b[0m \u001b[0;32mraise\u001b[0m \u001b[0mBdbQuit\u001b[0m\u001b[0;34m\u001b[0m\u001b[0m\n\u001b[0m\u001b[1;32m     68\u001b[0m         \u001b[0;32mreturn\u001b[0m \u001b[0mself\u001b[0m\u001b[0;34m.\u001b[0m\u001b[0mtrace_dispatch\u001b[0m\u001b[0;34m\u001b[0m\u001b[0m\n\u001b[1;32m     69\u001b[0m \u001b[0;34m\u001b[0m\u001b[0m\n",
      "\u001b[0;31mBdbQuit\u001b[0m: "
     ]
    }
   ],
   "source": [
    "from automl_app.app import AlphaBoosting\n",
    "\n",
    "automl_config_file = project_path + 'automl_config.json'\n",
    "run_record_file_name = project_path + 'last_run_record.json' # don't created this file\n",
    "AlphaBoosting(automl_config_file, features_to_gen, params_gen)"
   ]
  }
 ],
 "metadata": {
  "kernelspec": {
   "display_name": "Python 3.5 (tf_gpu)",
   "language": "python",
   "name": "tf_gpu"
  },
  "language_info": {
   "codemirror_mode": {
    "name": "ipython",
    "version": 3
   },
   "file_extension": ".py",
   "mimetype": "text/x-python",
   "name": "python",
   "nbconvert_exporter": "python",
   "pygments_lexer": "ipython3",
   "version": "3.5.5"
  },
  "varInspector": {
   "cols": {
    "lenName": 16,
    "lenType": 16,
    "lenVar": 40
   },
   "kernels_config": {
    "python": {
     "delete_cmd_postfix": "",
     "delete_cmd_prefix": "del ",
     "library": "var_list.py",
     "varRefreshCmd": "print(var_dic_list())"
    },
    "r": {
     "delete_cmd_postfix": ") ",
     "delete_cmd_prefix": "rm(",
     "library": "var_list.r",
     "varRefreshCmd": "cat(var_dic_list()) "
    }
   },
   "types_to_exclude": [
    "module",
    "function",
    "builtin_function_or_method",
    "instance",
    "_Feature"
   ],
   "window_display": false
  }
 },
 "nbformat": 4,
 "nbformat_minor": 2
}
