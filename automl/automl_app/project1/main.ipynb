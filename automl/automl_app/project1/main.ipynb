{
 "cells": [
  {
   "cell_type": "code",
   "execution_count": 1,
   "metadata": {
    "ExecuteTime": {
     "end_time": "2018-07-17T01:33:21.145354Z",
     "start_time": "2018-07-17T01:33:21.117437Z"
    }
   },
   "outputs": [
    {
     "name": "stdout",
     "output_type": "stream",
     "text": [
      "/home/kai/data/shiyi/AlphaBoosting/automl/automl_app\n",
      "['', '/home/kai/anaconda3/envs/tf_gpu/lib/python35.zip', '/home/kai/anaconda3/envs/tf_gpu/lib/python3.5', '/home/kai/anaconda3/envs/tf_gpu/lib/python3.5/plat-linux', '/home/kai/anaconda3/envs/tf_gpu/lib/python3.5/lib-dynload', '/home/kai/.local/lib/python3.5/site-packages', '/home/kai/anaconda3/envs/tf_gpu/lib/python3.5/site-packages', '/home/kai/anaconda3/envs/tf_gpu/lib/python3.5/site-packages/IPython/extensions', '/home/kai/.ipython', '/home/kai/data/shiyi/AlphaBoosting/automl']\n"
     ]
    }
   ],
   "source": [
    "import os\n",
    "import sys\n",
    "nb_dir = os.path.split(os.getcwd())[0]\n",
    "print(nb_dir)\n",
    "#if nb_dir not in sys.path:\n",
    "#    sys.path.append(nb_dir)\n",
    "    \n",
    "# autolib_dir = '/home/kai/data/shiyi/AlphaBoosting/automl'\n",
    "autolib_dir = '/'.join(nb_dir.split('/')[:-1])\n",
    "if autolib_dir not in sys.path:\n",
    "    sys.path.append(autolib_dir)\n",
    "\n",
    "print(sys.path)\n",
    "\n",
    "%load_ext autoreload\n",
    "%autoreload 2"
   ]
  },
  {
   "cell_type": "code",
   "execution_count": 2,
   "metadata": {
    "ExecuteTime": {
     "end_time": "2018-07-17T01:33:22.253503Z",
     "start_time": "2018-07-17T01:33:21.147769Z"
    }
   },
   "outputs": [
    {
     "name": "stderr",
     "output_type": "stream",
     "text": [
      "/home/kai/anaconda3/envs/tf_gpu/lib/python3.5/site-packages/h5py/__init__.py:36: FutureWarning: Conversion of the second argument of issubdtype from `float` to `np.floating` is deprecated. In future, it will be treated as `np.float64 == np.dtype(float).type`.\n",
      "  from ._conv import register_converters as _register_converters\n",
      "Using TensorFlow backend.\n"
     ]
    }
   ],
   "source": [
    "from automl_libs import base_layer_utils, stacknet\n",
    "from automl_libs import feature_engineering as fe\n",
    "from automl_libs import encoding, kernels, nn_libs "
   ]
  },
  {
   "cell_type": "code",
   "execution_count": 3,
   "metadata": {
    "ExecuteTime": {
     "end_time": "2018-07-17T01:33:22.273755Z",
     "start_time": "2018-07-17T01:33:22.255135Z"
    }
   },
   "outputs": [],
   "source": [
    "categorical_features = ['Month', 'DayofMonth', 'DayOfWeek', 'DepTime', 'UniqueCarrier', 'Origin', 'Dest', 'Distance'] "
   ]
  },
  {
   "cell_type": "code",
   "execution_count": 4,
   "metadata": {
    "ExecuteTime": {
     "end_time": "2018-07-17T01:33:22.303955Z",
     "start_time": "2018-07-17T01:33:22.275570Z"
    }
   },
   "outputs": [
    {
     "data": {
      "text/plain": [
       "[{'feature_cols': ['Month', 'DayofMonth'],\n",
       "  'function': <function automl_libs.feature_engineering.count(df, cols, dummy_col, generated_feature_name, params=None)>,\n",
       "  'params': {}},\n",
       " {'feature_cols': ['Month', 'DayOfWeek'],\n",
       "  'function': <function automl_libs.feature_engineering.count(df, cols, dummy_col, generated_feature_name, params=None)>,\n",
       "  'params': {}},\n",
       " {'feature_cols': ['Month', 'DepTime'],\n",
       "  'function': <function automl_libs.feature_engineering.count(df, cols, dummy_col, generated_feature_name, params=None)>,\n",
       "  'params': {}},\n",
       " {'feature_cols': ['Month', 'UniqueCarrier'],\n",
       "  'function': <function automl_libs.feature_engineering.count(df, cols, dummy_col, generated_feature_name, params=None)>,\n",
       "  'params': {}},\n",
       " {'feature_cols': ['Month', 'Origin'],\n",
       "  'function': <function automl_libs.feature_engineering.count(df, cols, dummy_col, generated_feature_name, params=None)>,\n",
       "  'params': {}},\n",
       " {'feature_cols': ['Month', 'Dest'],\n",
       "  'function': <function automl_libs.feature_engineering.count(df, cols, dummy_col, generated_feature_name, params=None)>,\n",
       "  'params': {}},\n",
       " {'feature_cols': ['Month', 'Distance'],\n",
       "  'function': <function automl_libs.feature_engineering.count(df, cols, dummy_col, generated_feature_name, params=None)>,\n",
       "  'params': {}},\n",
       " {'feature_cols': ['DayofMonth', 'DayOfWeek'],\n",
       "  'function': <function automl_libs.feature_engineering.count(df, cols, dummy_col, generated_feature_name, params=None)>,\n",
       "  'params': {}},\n",
       " {'feature_cols': ['DayofMonth', 'DepTime'],\n",
       "  'function': <function automl_libs.feature_engineering.count(df, cols, dummy_col, generated_feature_name, params=None)>,\n",
       "  'params': {}},\n",
       " {'feature_cols': ['DayofMonth', 'UniqueCarrier'],\n",
       "  'function': <function automl_libs.feature_engineering.count(df, cols, dummy_col, generated_feature_name, params=None)>,\n",
       "  'params': {}},\n",
       " {'feature_cols': ['DayofMonth', 'Origin'],\n",
       "  'function': <function automl_libs.feature_engineering.count(df, cols, dummy_col, generated_feature_name, params=None)>,\n",
       "  'params': {}},\n",
       " {'feature_cols': ['DayofMonth', 'Dest'],\n",
       "  'function': <function automl_libs.feature_engineering.count(df, cols, dummy_col, generated_feature_name, params=None)>,\n",
       "  'params': {}},\n",
       " {'feature_cols': ['DayofMonth', 'Distance'],\n",
       "  'function': <function automl_libs.feature_engineering.count(df, cols, dummy_col, generated_feature_name, params=None)>,\n",
       "  'params': {}},\n",
       " {'feature_cols': ['DayOfWeek', 'DepTime'],\n",
       "  'function': <function automl_libs.feature_engineering.count(df, cols, dummy_col, generated_feature_name, params=None)>,\n",
       "  'params': {}},\n",
       " {'feature_cols': ['DayOfWeek', 'UniqueCarrier'],\n",
       "  'function': <function automl_libs.feature_engineering.count(df, cols, dummy_col, generated_feature_name, params=None)>,\n",
       "  'params': {}},\n",
       " {'feature_cols': ['DayOfWeek', 'Origin'],\n",
       "  'function': <function automl_libs.feature_engineering.count(df, cols, dummy_col, generated_feature_name, params=None)>,\n",
       "  'params': {}},\n",
       " {'feature_cols': ['DayOfWeek', 'Dest'],\n",
       "  'function': <function automl_libs.feature_engineering.count(df, cols, dummy_col, generated_feature_name, params=None)>,\n",
       "  'params': {}},\n",
       " {'feature_cols': ['DayOfWeek', 'Distance'],\n",
       "  'function': <function automl_libs.feature_engineering.count(df, cols, dummy_col, generated_feature_name, params=None)>,\n",
       "  'params': {}},\n",
       " {'feature_cols': ['DepTime', 'UniqueCarrier'],\n",
       "  'function': <function automl_libs.feature_engineering.count(df, cols, dummy_col, generated_feature_name, params=None)>,\n",
       "  'params': {}},\n",
       " {'feature_cols': ['DepTime', 'Origin'],\n",
       "  'function': <function automl_libs.feature_engineering.count(df, cols, dummy_col, generated_feature_name, params=None)>,\n",
       "  'params': {}},\n",
       " {'feature_cols': ['DepTime', 'Dest'],\n",
       "  'function': <function automl_libs.feature_engineering.count(df, cols, dummy_col, generated_feature_name, params=None)>,\n",
       "  'params': {}},\n",
       " {'feature_cols': ['DepTime', 'Distance'],\n",
       "  'function': <function automl_libs.feature_engineering.count(df, cols, dummy_col, generated_feature_name, params=None)>,\n",
       "  'params': {}},\n",
       " {'feature_cols': ['UniqueCarrier', 'Origin'],\n",
       "  'function': <function automl_libs.feature_engineering.count(df, cols, dummy_col, generated_feature_name, params=None)>,\n",
       "  'params': {}},\n",
       " {'feature_cols': ['UniqueCarrier', 'Dest'],\n",
       "  'function': <function automl_libs.feature_engineering.count(df, cols, dummy_col, generated_feature_name, params=None)>,\n",
       "  'params': {}},\n",
       " {'feature_cols': ['UniqueCarrier', 'Distance'],\n",
       "  'function': <function automl_libs.feature_engineering.count(df, cols, dummy_col, generated_feature_name, params=None)>,\n",
       "  'params': {}},\n",
       " {'feature_cols': ['Origin', 'Dest'],\n",
       "  'function': <function automl_libs.feature_engineering.count(df, cols, dummy_col, generated_feature_name, params=None)>,\n",
       "  'params': {}},\n",
       " {'feature_cols': ['Origin', 'Distance'],\n",
       "  'function': <function automl_libs.feature_engineering.count(df, cols, dummy_col, generated_feature_name, params=None)>,\n",
       "  'params': {}},\n",
       " {'feature_cols': ['Dest', 'Distance'],\n",
       "  'function': <function automl_libs.feature_engineering.count(df, cols, dummy_col, generated_feature_name, params=None)>,\n",
       "  'params': {}}]"
      ]
     },
     "execution_count": 4,
     "metadata": {},
     "output_type": "execute_result"
    }
   ],
   "source": [
    "import itertools\n",
    "#params = {'split_col': 't', 'coefficient': 10, 'n': 2, 'fillna': 22}\n",
    "def get_features_to_gen(function_list, low, high):\n",
    "    features_to_gen = []\n",
    "    for function in function_list:\n",
    "        for i in range(low, high+1):\n",
    "            for combine in itertools.combinations(categorical_features, i):\n",
    "                if function.__name__ == 'count_std_over_mean':\n",
    "                    features_to_gen.append({'params': {'coefficient': 10}, 'function': function, 'feature_cols': list(combine)})\n",
    "                else:\n",
    "                    features_to_gen.append({'params': {}, 'function': function, 'feature_cols': list(combine)})\n",
    "                \n",
    "    return features_to_gen\n",
    "\n",
    "# features_to_gen = get_features_to_gen([fe.count, fe.unique_count, \n",
    "#                                        fe.cumulative_count, \n",
    "#                                        fe.reverse_cumulative_count, \n",
    "#                                        fe.variance, fe.count_std_over_mean], \n",
    "#                                       2, 2)# len(categorical_features))\n",
    "# features_to_gen = get_features_to_gen([fe.count, fe.unique_count, fe.cumulative_count])\n",
    "features_to_gen = get_features_to_gen([fe.count], 2, 2)#len(categorical_features))\n",
    "\n",
    "features_to_gen "
   ]
  },
  {
   "cell_type": "code",
   "execution_count": 5,
   "metadata": {
    "ExecuteTime": {
     "end_time": "2018-07-17T01:33:22.324905Z",
     "start_time": "2018-07-17T01:33:22.305469Z"
    }
   },
   "outputs": [
    {
     "data": {
      "text/plain": [
       "28"
      ]
     },
     "execution_count": 5,
     "metadata": {},
     "output_type": "execute_result"
    }
   ],
   "source": [
    "len(features_to_gen)"
   ]
  },
  {
   "cell_type": "code",
   "execution_count": 6,
   "metadata": {
    "ExecuteTime": {
     "end_time": "2018-07-17T01:33:22.344958Z",
     "start_time": "2018-07-17T01:33:22.326337Z"
    }
   },
   "outputs": [],
   "source": [
    "project_path = './' "
   ]
  },
  {
   "cell_type": "code",
   "execution_count": 7,
   "metadata": {
    "ExecuteTime": {
     "end_time": "2018-07-17T01:33:22.366037Z",
     "start_time": "2018-07-17T01:33:22.346479Z"
    }
   },
   "outputs": [],
   "source": [
    "from automl_app import logger_config\n",
    "import logging\n",
    "logger_config.config(project_path+'project.log', file_loglevel=logging.INFO)"
   ]
  },
  {
   "cell_type": "code",
   "execution_count": 8,
   "metadata": {
    "ExecuteTime": {
     "end_time": "2018-07-17T01:33:22.411016Z",
     "start_time": "2018-07-17T01:33:22.367916Z"
    }
   },
   "outputs": [],
   "source": [
    "def params_gen(model='lgb'):\n",
    "    import time\n",
    "    import numpy as np\n",
    "    seed = int(time.time()* 1000000) % 45234634\n",
    "    np.random.seed(seed)\n",
    "    if model == 'svc':\n",
    "        params = {\n",
    "            'C': 0.911#np.random.rand(),\n",
    "#             'metric': 'roc_auc'\n",
    "        }\n",
    "    elif model == 'logreg':\n",
    "        params = {\n",
    "            'penalty': np.random.choice(['l2']),\n",
    "            'dual': np.random.choice([True, False]),\n",
    "            'C': 1,#np.random.rand(),\n",
    "            'metric': 'roc_auc'\n",
    "        }\n",
    "    elif model == 'lgb':\n",
    "        params = {    \n",
    "            'objective': 'binary',\n",
    "            'boosting': 'gbdt',\n",
    "            'num_boost_round': 10, # ignored in params. extract it and put it in input arguments in train or cv explicitly\n",
    "                                   # seems to work fine as the upper limit when combined with early_stopping_round\n",
    "            'learning_rate': np.random.choice([0.1,0.03]),#0.001]),\n",
    "            'num_leaves': np.random.choice([15,31]),#,61,127]),\n",
    "            'num_threads': 8, # best speed: set to number of real cpu cores, which is vCPU/2\n",
    "            'max_depth': -1, # no limit. This is used to deal with over-fitting when #data is small.\n",
    "            'min_data_in_leaf': np.random.randint(20,50),  #minimal number of data in one leaf. \n",
    "            'feature_fraction': np.random.randint(9,11)/10,\n",
    "            'feature_fraction_seed': seed,\n",
    "            'early_stopping_round':10,\n",
    "            'bagging_freq': 1, #0 means disable bagging. k: perform bagging at every k iteration\n",
    "            'bagging_fraction': np.random.randint(4,11)/10, #Randomly select part of data \n",
    "            'bagging_seed': seed,\n",
    "            'scale_pos_weight': 1,\n",
    "            'metric': 'auc'\n",
    "#             'objective': 'binary',\n",
    "#             'boosting': 'gbdt',\n",
    "#             'num_boost_round': 10, # ignored in params. extract it and put it in input arguments in train or cv explicitly\n",
    "#                                    # seems to work fine as the upper limit when combined with early_stopping_round\n",
    "#             'learning_rate': 0.01,\n",
    "#             'num_leaves': 50,\n",
    "#             'num_threads': 8, # best speed: set to number of real cpu cores, which is vCPU/2\n",
    "#             'max_depth': 5, # no limit. This is used to deal with over-fitting when #data is small.\n",
    "#             'min_split_gain': 0.02,\n",
    "#             'min_child_weight': 18.6,\n",
    "#             'feature_fraction': 0.1,\n",
    "#             'feature_fraction_seed': 1992,\n",
    "#             'early_stopping_round':10,\n",
    "#             'bagging_freq': 1, #0 means disable bagging. k: perform bagging at every k iteration\n",
    "#             'bagging_fraction': np.random.randint(4,11)/10, #Randomly select part of data \n",
    "#             'bagging_seed': 1992,\n",
    "#             'scale_pos_weight': 1,\n",
    "#             'lambda_l1': 0.8,\n",
    "#             'lambda_l2': 0.6,\n",
    "#             'metric': 'auc'\n",
    "        }\n",
    "    elif model == 'xgb':\n",
    "        params = {\n",
    "            'eta': 0.1,\n",
    "            'objective': 'binary:logistic',\n",
    "            'eval_metric': 'auc',\n",
    "            'booster': 'gbtree',\n",
    "            'tree_method': 'hist',\n",
    "            'max_bin': 8,\n",
    "            'scale_pos_weight': 1,\n",
    "            'seed': seed,\n",
    "            'nthread': 10,\n",
    "            'max_depth': 6,\n",
    "            'min_child_weight': 22,\n",
    "            'gamma': 0,\n",
    "            'subsample': 0.7,\n",
    "            'colsample_bytree': 0.7,\n",
    "            'colsample_bylevel': 0.675,\n",
    "            'alpha': 0,\n",
    "            'lambda': 0,\n",
    "            'num_boost_round': 50,\n",
    "            'early_stopping_rounds': 1\n",
    "        }\n",
    "    elif model == 'nn':\n",
    "        params = {\n",
    "            'nn_seed': int(time.time() * 1000000) % 45234634,\n",
    "            'ep_for_lr': np.random.randint(2,10),\n",
    "            'lr_init': 0.01,\n",
    "            'lr_fin': np.random.randint(1,5)/1000,  # if == lr_init, then no lr decay\n",
    "            'batch_size': np.random.choice([128, 256, 512, 1024]),\n",
    "            \"pred_batch_size\": 5000,\n",
    "            'max_ep': 100,\n",
    "            'patience': 10, #np.random.randint(10, 25),\n",
    "            'cat_emb_outdim': 30, # could be a constant or a dict (col name:embed out dim). e.g.:\n",
    "                                  # embed_outdim = [3, 3, 8, 8, 3]\n",
    "                                  # embed_outdim_dict = dict(zip(X_train.columns.values, embed_outdim))\n",
    "                                  # then assige embed_outdim_dict to cat_emb_outdim\n",
    "            'cat_emb_drop_rate': np.random.randint(1,4)/10, \n",
    "            'num_layers_dense_units': [1000, 500, 100],\n",
    "            'num_layers_drop_rate': np.random.randint(2,6)/10,\n",
    "            'combined_layers_dense_units': [100, 50],\n",
    "            'combined_layers_drop_rate': np.random.randint(1,3)/10,\n",
    "            'monitor': 'val_auc',  # or val_loss (MUST HAVE)\n",
    "            'mode': 'max',  # MUST HAVE\n",
    "            'int_list': ['num_layers_dense_units', 'combined_layers_dense_units']\n",
    "        }\n",
    "    elif model == 'stacknet_layer2_nn':\n",
    "        params = {\n",
    "            'nn_seed': int(time.time() * 1000000) % 45234634,\n",
    "            'ep_for_lr': 1,\n",
    "            'lr_init': 0.01,\n",
    "            'lr_fin': 0.01, # if == lr_init, then no lr decay\n",
    "            'batch_size': 128,\n",
    "            \"pred_batch_size\": 50000,\n",
    "            'best_epoch': 1,\n",
    "            'patience': 1,\n",
    "            'categorical_feature': [],\n",
    "            'cat_emb_outdim': 50, # could be a constant or a dict (col name:embed out dim). e.g.:\n",
    "                                  # embed_outdim = [3, 3, 8, 8, 3]\n",
    "                                  # embed_outdim_dict = dict(zip(X_train.columns.values, embed_outdim))\n",
    "            'num_layers_dense_units': [],\n",
    "            'combined_layers_dense_units': [10, 5],\n",
    "            'combined_layers_drop_rate': 0,\n",
    "            'monitor': 'val_auc',  # or val_loss (MUST HAVE)\n",
    "            'mode': 'max',  # MUST HAVE\n",
    "            'int_list': ['num_layers_dense_units', 'combined_layers_dense_units']\n",
    "        }\n",
    "    return params, seed"
   ]
  },
  {
   "cell_type": "code",
   "execution_count": 9,
   "metadata": {
    "ExecuteTime": {
     "end_time": "2018-07-17T01:33:22.434737Z",
     "start_time": "2018-07-17T01:33:22.412722Z"
    }
   },
   "outputs": [
    {
     "data": {
      "text/plain": [
       "({'batch_size': 128,\n",
       "  'best_epoch': 1,\n",
       "  'cat_emb_outdim': 50,\n",
       "  'categorical_feature': [],\n",
       "  'combined_layers_dense_units': [10, 5],\n",
       "  'combined_layers_drop_rate': 0,\n",
       "  'ep_for_lr': 1,\n",
       "  'int_list': ['num_layers_dense_units', 'combined_layers_dense_units'],\n",
       "  'lr_fin': 0.01,\n",
       "  'lr_init': 0.01,\n",
       "  'mode': 'max',\n",
       "  'monitor': 'val_auc',\n",
       "  'nn_seed': 25446705,\n",
       "  'num_layers_dense_units': [],\n",
       "  'patience': 1,\n",
       "  'pred_batch_size': 50000},\n",
       " 25446694)"
      ]
     },
     "execution_count": 9,
     "metadata": {},
     "output_type": "execute_result"
    }
   ],
   "source": [
    "p, s = params_gen('stacknet_layer2_nn')\n",
    "p, s"
   ]
  },
  {
   "cell_type": "code",
   "execution_count": 10,
   "metadata": {
    "ExecuteTime": {
     "end_time": "2018-07-17T01:33:32.971266Z",
     "start_time": "2018-07-17T01:33:22.436164Z"
    },
    "scrolled": true
   },
   "outputs": [
    {
     "name": "stderr",
     "output_type": "stream",
     "text": [
      "2018-07-16 21:33:22 | INFO    | automl_app.app.AlphaBoosting.__init__             | #22  | ==========START==========\n",
      "2018-07-16 21:33:22 | INFO    | automl_app.app.AlphaBoosting.__init__             | #67  | Run record file [./output/last_run_record.json] found. Continue from the previous run...\n",
      "2018-07-16 21:33:22 | INFO    | automl_app.app.AlphaBoosting.__init__             | #96  | generate todo list\n",
      "2018-07-16 21:33:22 | INFO    | automl_app.app.AlphaBoosting.__init__             | #112 | STAGE: FEATURE_ENGINEERING\n",
      "2018-07-16 21:33:22 | INFO    | automl_app.app.AlphaBoosting.__init__             | #116 | STAGE: VALIDATION_DOWNSAMPLING_GEN\n",
      "2018-07-16 21:33:22 | INFO    | automl_app.app.AlphaBoosting.__init__             | #120 | STAGE: CONCAT_DATA\n",
      "2018-07-16 21:33:22 | INFO    | automl_app.app.AlphaBoosting.__init__             | #124 | STAGE: GRID_SEARCH\n",
      "2018-07-16 21:33:22 | INFO    | automl_app.app.AlphaBoosting._get_final_data      | #336 | DEBUG mode is on, 5.0% of train,val data are chosen\n",
      "2018-07-16 21:33:22 | INFO    | automl_app.app.AlphaBoosting._get_final_data      | #345 | Data <ordinal2> retrieved. Shape: train (42500, 37) | val (7500, 37) | test (100000, 36) | contain test label: True | 8 cat features | 36 total features | y name: label\n",
      "2018-07-16 21:33:22 | INFO    | automl_libs.grid_search.gs                   | #35  | Grid search xgb. round 1 of 2\n"
     ]
    },
    {
     "name": "stdout",
     "output_type": "stream",
     "text": [
      "[0]\ttrain-auc:0.700651+0.00094298\ttest-auc:0.692028+0.00526853\n",
      "[1]\ttrain-auc:0.707765+0.00210751\ttest-auc:0.695739+0.00206861\n",
      "[2]\ttrain-auc:0.713592+0.000709087\ttest-auc:0.700117+0.00366929\n",
      "[3]\ttrain-auc:0.715222+0.000690624\ttest-auc:0.701831+0.00292729\n",
      "[4]\ttrain-auc:0.717169+0.00115498\ttest-auc:0.702399+0.00357703\n",
      "[5]\ttrain-auc:0.718225+0.00176\ttest-auc:0.703125+0.00352992\n",
      "[6]\ttrain-auc:0.719494+0.00183939\ttest-auc:0.704592+0.00305248\n",
      "[7]\ttrain-auc:0.721796+0.00107919\ttest-auc:0.705569+0.00280796\n",
      "[8]\ttrain-auc:0.722624+0.00147927\ttest-auc:0.706131+0.00268604\n",
      "[9]\ttrain-auc:0.72388+0.00136941\ttest-auc:0.706991+0.00300239\n",
      "[10]\ttrain-auc:0.725277+0.00166173\ttest-auc:0.707495+0.00289461\n",
      "[11]\ttrain-auc:0.726271+0.00153619\ttest-auc:0.708318+0.00273878\n",
      "[12]\ttrain-auc:0.727591+0.00168341\ttest-auc:0.708787+0.00292673\n",
      "[13]\ttrain-auc:0.728316+0.00136884\ttest-auc:0.708944+0.00296979\n",
      "[14]\ttrain-auc:0.729538+0.00126361\ttest-auc:0.709387+0.00315185\n",
      "[15]\ttrain-auc:0.731026+0.00125891\ttest-auc:0.710009+0.00331047\n",
      "[16]\ttrain-auc:0.731771+0.00106411\ttest-auc:0.710469+0.00310628\n",
      "[17]\ttrain-auc:0.732633+0.00110754\ttest-auc:0.710751+0.00287126\n",
      "[18]\ttrain-auc:0.733601+0.00123531\ttest-auc:0.710975+0.00282426\n",
      "[19]\ttrain-auc:0.734395+0.00105844\ttest-auc:0.711268+0.00267904\n",
      "[20]\ttrain-auc:0.735207+0.00120474\ttest-auc:0.711844+0.00257016\n",
      "[21]\ttrain-auc:0.736245+0.00122219\ttest-auc:0.712407+0.00249925\n",
      "[22]\ttrain-auc:0.737455+0.000995553\ttest-auc:0.713099+0.00233669\n",
      "[23]\ttrain-auc:0.738588+0.00120847\ttest-auc:0.713749+0.00218371\n",
      "[24]\ttrain-auc:0.739112+0.00116849\ttest-auc:0.713965+0.00208299\n",
      "[25]\ttrain-auc:0.740065+0.000810544\ttest-auc:0.714107+0.00213838\n",
      "[26]\ttrain-auc:0.741302+0.000861477\ttest-auc:0.714636+0.00214564\n",
      "[27]\ttrain-auc:0.742463+0.00117058\ttest-auc:0.715341+0.00191475\n",
      "[28]\ttrain-auc:0.743411+0.00130914\ttest-auc:0.715894+0.00200187\n",
      "[29]\ttrain-auc:0.744489+0.00129987\ttest-auc:0.71631+0.00209843\n",
      "[30]\ttrain-auc:0.745356+0.00117173\ttest-auc:0.716507+0.00206881\n",
      "[31]\ttrain-auc:0.746214+0.00130977\ttest-auc:0.717053+0.00214006\n",
      "[32]\ttrain-auc:0.747334+0.00155539\ttest-auc:0.717387+0.0023222\n",
      "[33]\ttrain-auc:0.748271+0.00171861\ttest-auc:0.71792+0.00243125\n",
      "[34]\ttrain-auc:0.749156+0.00160925\ttest-auc:0.718138+0.00218733\n",
      "[35]\ttrain-auc:0.750621+0.00175529\ttest-auc:0.718989+0.00190191\n",
      "[36]\ttrain-auc:0.751768+0.0017862\ttest-auc:0.719579+0.00218965\n",
      "[37]\ttrain-auc:0.752603+0.00172855\ttest-auc:0.719919+0.00207128\n",
      "[38]\ttrain-auc:0.753866+0.0015486\ttest-auc:0.720457+0.00206498\n",
      "[39]\ttrain-auc:0.754826+0.00183233\ttest-auc:0.72073+0.00219063\n",
      "[40]\ttrain-auc:0.755823+0.00160811\ttest-auc:0.721245+0.00230572\n",
      "[41]\ttrain-auc:0.756697+0.00177668\ttest-auc:0.721661+0.00223005\n",
      "[42]\ttrain-auc:0.757553+0.00164554\ttest-auc:0.722042+0.00215666\n",
      "[43]\ttrain-auc:0.758616+0.00185147\ttest-auc:0.722368+0.0022118\n",
      "[44]\ttrain-auc:0.759615+0.00198678\ttest-auc:0.722785+0.00199847\n",
      "[45]\ttrain-auc:0.760488+0.0021257\ttest-auc:0.722997+0.00202074\n",
      "[46]\ttrain-auc:0.761272+0.00207518\ttest-auc:0.723136+0.00195041\n",
      "[47]\ttrain-auc:0.761972+0.00199572\ttest-auc:0.723295+0.00204249\n",
      "[48]\ttrain-auc:0.762674+0.00198551\ttest-auc:0.72336+0.00193168\n",
      "[49]\ttrain-auc:0.763604+0.00201458\ttest-auc:0.723585+0.00191682\n"
     ]
    },
    {
     "name": "stderr",
     "output_type": "stream",
     "text": [
      "2018-07-16 21:33:25 | INFO    | automl_libs.grid_search._xgb_gs              | #320 | val_auc: 0.72358 | train_auc: 0.76360 (cv)\n",
      "2018-07-16 21:33:25 | INFO    | automl_libs.grid_search._xgb_gs              | #342 | [do_preds] is True, generating predictions ...\n",
      "2018-07-16 21:33:25 | INFO    | automl_libs.grid_search._xgb_gs              | #344 | Retrain model using best_round [50] and all data...\n"
     ]
    },
    {
     "name": "stdout",
     "output_type": "stream",
     "text": [
      "[0]\tall_data-auc:0.647336\n",
      "[10]\tall_data-auc:0.721826\n",
      "[20]\tall_data-auc:0.731441\n",
      "[30]\tall_data-auc:0.740421\n",
      "[40]\tall_data-auc:0.75008\n",
      "[49]\tall_data-auc:0.758169\n"
     ]
    },
    {
     "name": "stderr",
     "output_type": "stream",
     "text": [
      "2018-07-16 21:33:26 | INFO    | automl_libs.grid_search._xgb_gs              | #352 | Training done. Iteration: 50 | train_auc: 0.75817\n",
      "2018-07-16 21:33:26 | INFO    | automl_libs.grid_search._xgb_gs              | #357 | (_nn_gs) roc of test: 0.7156622156031474\n",
      "2018-07-16 21:33:26 | INFO    | automl_libs.grid_search._xgb_gs              | #362 | XGB predictions(bNsu) saved in ./output/gs_saved_preds/.\n",
      "2018-07-16 21:33:26 | INFO    | automl_libs.grid_search.gs                   | #70  | ./output/xgb_ordinal2_grid_search.csv updated\n",
      "2018-07-16 21:33:26 | INFO    | automl_libs.grid_search.gs                   | #35  | Grid search xgb. round 2 of 2\n"
     ]
    },
    {
     "name": "stdout",
     "output_type": "stream",
     "text": [
      "[0]\ttrain-auc:0.656161+0.00187956\ttest-auc:0.642304+0.0067444\n",
      "[1]\ttrain-auc:0.702146+0.00228159\ttest-auc:0.691354+0.00633945\n",
      "[2]\ttrain-auc:0.709037+0.00146752\ttest-auc:0.696648+0.00748409\n",
      "[3]\ttrain-auc:0.712133+0.00230095\ttest-auc:0.698033+0.00632986\n",
      "[4]\ttrain-auc:0.714826+0.00219611\ttest-auc:0.699849+0.00852703\n",
      "[5]\ttrain-auc:0.717023+0.00142923\ttest-auc:0.701966+0.006267\n",
      "[6]\ttrain-auc:0.719116+0.00177101\ttest-auc:0.70404+0.00591851\n",
      "[7]\ttrain-auc:0.720976+0.00133481\ttest-auc:0.705073+0.006128\n",
      "[8]\ttrain-auc:0.722154+0.000980878\ttest-auc:0.705334+0.00667691\n",
      "[9]\ttrain-auc:0.723214+0.00126266\ttest-auc:0.705861+0.0063418\n",
      "[10]\ttrain-auc:0.724599+0.0012366\ttest-auc:0.706712+0.00606978\n",
      "[11]\ttrain-auc:0.726052+0.00117875\ttest-auc:0.708098+0.00592134\n",
      "[12]\ttrain-auc:0.727315+0.00126217\ttest-auc:0.708732+0.00594858\n",
      "[13]\ttrain-auc:0.728283+0.00132247\ttest-auc:0.709097+0.00594854\n",
      "[14]\ttrain-auc:0.729187+0.00130086\ttest-auc:0.709373+0.00576245\n",
      "[15]\ttrain-auc:0.730364+0.00120692\ttest-auc:0.710171+0.0058503\n",
      "[16]\ttrain-auc:0.731809+0.000600339\ttest-auc:0.711313+0.00626252\n",
      "[17]\ttrain-auc:0.732783+0.000563765\ttest-auc:0.711905+0.00635959\n",
      "[18]\ttrain-auc:0.733866+0.000645857\ttest-auc:0.712418+0.00609502\n",
      "[19]\ttrain-auc:0.735147+0.000697414\ttest-auc:0.712687+0.00595865\n",
      "[20]\ttrain-auc:0.736304+0.000781228\ttest-auc:0.713278+0.00616989\n",
      "[21]\ttrain-auc:0.73701+0.000924008\ttest-auc:0.713722+0.00625395\n",
      "[22]\ttrain-auc:0.738186+0.000953874\ttest-auc:0.714187+0.00626616\n",
      "[23]\ttrain-auc:0.739301+0.000519834\ttest-auc:0.71454+0.00645203\n",
      "[24]\ttrain-auc:0.740294+0.000510887\ttest-auc:0.714963+0.00633166\n",
      "[25]\ttrain-auc:0.741639+0.000686302\ttest-auc:0.7156+0.00626773\n",
      "[26]\ttrain-auc:0.742209+0.000524819\ttest-auc:0.715797+0.00616367\n",
      "[27]\ttrain-auc:0.742897+0.000501412\ttest-auc:0.716173+0.00599325\n",
      "[28]\ttrain-auc:0.744231+0.000512991\ttest-auc:0.716713+0.00601395\n",
      "[29]\ttrain-auc:0.744875+0.000596716\ttest-auc:0.716909+0.0059718\n",
      "[30]\ttrain-auc:0.745666+0.000757239\ttest-auc:0.717297+0.00594036\n",
      "[31]\ttrain-auc:0.746673+0.000392022\ttest-auc:0.717836+0.0058793\n",
      "[32]\ttrain-auc:0.747567+0.000666568\ttest-auc:0.718173+0.00580451\n",
      "[33]\ttrain-auc:0.748637+0.00108931\ttest-auc:0.718659+0.00584869\n",
      "[34]\ttrain-auc:0.749793+0.000915658\ttest-auc:0.71927+0.00596279\n",
      "[35]\ttrain-auc:0.750679+0.000859703\ttest-auc:0.71964+0.00573724\n",
      "[36]\ttrain-auc:0.751798+0.000858267\ttest-auc:0.719876+0.00599349\n",
      "[37]\ttrain-auc:0.753127+0.00092824\ttest-auc:0.720381+0.00643428\n",
      "[38]\ttrain-auc:0.753866+0.00102068\ttest-auc:0.720548+0.00654984\n",
      "[39]\ttrain-auc:0.754645+0.000957966\ttest-auc:0.720925+0.00648\n",
      "[40]\ttrain-auc:0.755614+0.000989134\ttest-auc:0.721306+0.00644682\n",
      "[41]\ttrain-auc:0.756391+0.000761325\ttest-auc:0.72156+0.00633139\n",
      "[42]\ttrain-auc:0.757425+0.000690872\ttest-auc:0.721821+0.00637454\n",
      "[43]\ttrain-auc:0.758312+0.000600556\ttest-auc:0.722124+0.00635188\n",
      "[44]\ttrain-auc:0.759346+0.000431371\ttest-auc:0.722474+0.00634766\n",
      "[45]\ttrain-auc:0.760121+0.000439475\ttest-auc:0.722731+0.00628317\n",
      "[46]\ttrain-auc:0.761004+0.000395703\ttest-auc:0.723149+0.00628395\n",
      "[47]\ttrain-auc:0.761901+0.000379762\ttest-auc:0.723386+0.00614764\n",
      "[48]\ttrain-auc:0.762597+0.000402194\ttest-auc:0.723542+0.00617398\n",
      "[49]\ttrain-auc:0.763609+0.00066668\ttest-auc:0.723826+0.00630163\n"
     ]
    },
    {
     "name": "stderr",
     "output_type": "stream",
     "text": [
      "2018-07-16 21:33:28 | INFO    | automl_libs.grid_search._xgb_gs              | #320 | val_auc: 0.72383 | train_auc: 0.76361 (cv)\n",
      "2018-07-16 21:33:28 | INFO    | automl_libs.grid_search._xgb_gs              | #342 | [do_preds] is True, generating predictions ...\n",
      "2018-07-16 21:33:28 | INFO    | automl_libs.grid_search._xgb_gs              | #344 | Retrain model using best_round [50] and all data...\n"
     ]
    },
    {
     "name": "stdout",
     "output_type": "stream",
     "text": [
      "[0]\tall_data-auc:0.696268\n",
      "[10]\tall_data-auc:0.723615\n",
      "[20]\tall_data-auc:0.7335\n",
      "[30]\tall_data-auc:0.743332\n",
      "[40]\tall_data-auc:0.752675\n",
      "[49]\tall_data-auc:0.760036\n"
     ]
    },
    {
     "name": "stderr",
     "output_type": "stream",
     "text": [
      "2018-07-16 21:33:29 | INFO    | automl_libs.grid_search._xgb_gs              | #352 | Training done. Iteration: 50 | train_auc: 0.76004\n",
      "2018-07-16 21:33:29 | INFO    | automl_libs.grid_search._xgb_gs              | #357 | (_nn_gs) roc of test: 0.7157585213683268\n",
      "2018-07-16 21:33:29 | INFO    | automl_libs.grid_search._xgb_gs              | #362 | XGB predictions(syXQ) saved in ./output/gs_saved_preds/.\n",
      "2018-07-16 21:33:29 | INFO    | automl_libs.grid_search.gs                   | #70  | ./output/xgb_ordinal2_grid_search.csv updated\n",
      "2018-07-16 21:33:29 | INFO    | automl_app.app.AlphaBoosting.__init__             | #128 | STAGE: STACKNET\n",
      "2018-07-16 21:33:29 | INFO    | automl_app.app.AlphaBoosting._get_final_data      | #336 | DEBUG mode is on, 5.0% of train,val data are chosen\n",
      "2018-07-16 21:33:29 | INFO    | automl_app.app.AlphaBoosting._get_final_data      | #345 | Data <ordinal2> retrieved. Shape: train (42500, 37) | val (7500, 37) | test (100000, 36) | contain test label: True | 8 cat features | 36 total features | y name: label\n",
      "2018-07-16 21:33:29 | INFO    | automl_app.app.AlphaBoosting._stacknet            | #301 | layers to be built: [1]\n",
      "2018-07-16 21:33:29 | DEBUG   | automl_libs.stacknet.layer1               | #36  | data_id: ordinal2             \n",
      "\tx_train: (50000, 36)\tx_test: (100000, 36)\n",
      "\ty_train type: <class 'dict'>\n",
      "\tcompatible_models: set()\n",
      " \n",
      "2018-07-16 21:33:29 | DEBUG   | automl_libs.base_layer_utils.BaseLayerResultsRepo.__init__             | #235 | load StackNet saves from file\n",
      "2018-07-16 21:33:29 | INFO    | automl_libs.stacknet.layer1               | #68  | using xgb params: syXQ to do oof\n",
      "2018-07-16 21:33:29 | DEBUG   | automl_libs.stacknet.layer1               | #69  | {'nthread': 10, 'eta': 0.1, 'alpha': 0, 'scale_pos_weight': 1, 'num_boost_round': 50, 'max_bin': 8, 'timestamp': '2018-07-16 21:33:26', 'gs_timespent': '0:00:02', 'best_round': 50, 'cv': True, 'max_depth': 6, 'pred_timespent': '0:00:00', 'eval_metric': 'auc', 'train_auc': 0.763609, 'val_auc': 0.7238258000000001, 'gamma': 0, 'subsample': 0.7, 'data_name': 'ordinal2', 'colsample_bylevel': 0.675, 'seed': 29337130, 'early_stopping_rounds': 1, 'objective': 'binary:logistic', 'min_child_weight': 22, 'tree_method': 'hist', 'booster': 'gbtree', 'lambda': 0, 'colsample_bytree': 0.7}\n",
      "2018-07-16 21:33:29 | INFO    | automl_libs.base_layer_utils.compute_layer1_oof   | #498 | StackNet layer1: label: label    model_data_id: syXQ__XGB_ordinal2_layer1\n",
      "2018-07-16 21:33:29 | INFO    | automl_libs.base_layer_utils.get_oof              | #434 | processing fold 1 of 5...\n",
      "2018-07-16 21:33:29 | INFO    | automl_libs.stack_layer_estimator.XgboostBLE.train                | #208 | No evaluation set, thus not possible to use early stopping. Please train with your best params.\n"
     ]
    },
    {
     "name": "stdout",
     "output_type": "stream",
     "text": [
      "[0]\ttrain-auc:0.701978\n",
      "[10]\ttrain-auc:0.724827\n",
      "[20]\ttrain-auc:0.736554\n",
      "[30]\ttrain-auc:0.746051\n",
      "[40]\ttrain-auc:0.754322\n",
      "[49]\ttrain-auc:0.764095\n"
     ]
    },
    {
     "name": "stderr",
     "output_type": "stream",
     "text": [
      "2018-07-16 21:33:30 | INFO    | automl_libs.base_layer_utils.get_oof              | #448 | metric of fold 1: 0.7253157075874211\n",
      "2018-07-16 21:33:30 | INFO    | automl_libs.base_layer_utils.get_oof              | #434 | processing fold 2 of 5...\n",
      "2018-07-16 21:33:30 | INFO    | automl_libs.stack_layer_estimator.XgboostBLE.train                | #208 | No evaluation set, thus not possible to use early stopping. Please train with your best params.\n"
     ]
    },
    {
     "name": "stdout",
     "output_type": "stream",
     "text": [
      "[0]\ttrain-auc:0.707946\n",
      "[10]\ttrain-auc:0.728596\n",
      "[20]\ttrain-auc:0.740371\n",
      "[30]\ttrain-auc:0.748592\n",
      "[40]\ttrain-auc:0.756552\n",
      "[49]\ttrain-auc:0.765585\n"
     ]
    },
    {
     "name": "stderr",
     "output_type": "stream",
     "text": [
      "2018-07-16 21:33:30 | INFO    | automl_libs.base_layer_utils.get_oof              | #448 | metric of fold 2: 0.7103906756357818\n",
      "2018-07-16 21:33:30 | INFO    | automl_libs.base_layer_utils.get_oof              | #434 | processing fold 3 of 5...\n",
      "2018-07-16 21:33:30 | INFO    | automl_libs.stack_layer_estimator.XgboostBLE.train                | #208 | No evaluation set, thus not possible to use early stopping. Please train with your best params.\n"
     ]
    },
    {
     "name": "stdout",
     "output_type": "stream",
     "text": [
      "[0]\ttrain-auc:0.650926\n",
      "[10]\ttrain-auc:0.723298\n",
      "[20]\ttrain-auc:0.733008\n",
      "[30]\ttrain-auc:0.743198\n",
      "[40]\ttrain-auc:0.753664\n",
      "[49]\ttrain-auc:0.762273\n"
     ]
    },
    {
     "name": "stderr",
     "output_type": "stream",
     "text": [
      "2018-07-16 21:33:31 | INFO    | automl_libs.base_layer_utils.get_oof              | #448 | metric of fold 3: 0.7257603524801095\n",
      "2018-07-16 21:33:31 | INFO    | automl_libs.base_layer_utils.get_oof              | #434 | processing fold 4 of 5...\n",
      "2018-07-16 21:33:31 | INFO    | automl_libs.stack_layer_estimator.XgboostBLE.train                | #208 | No evaluation set, thus not possible to use early stopping. Please train with your best params.\n"
     ]
    },
    {
     "name": "stdout",
     "output_type": "stream",
     "text": [
      "[0]\ttrain-auc:0.700703\n",
      "[10]\ttrain-auc:0.724479\n",
      "[20]\ttrain-auc:0.732365\n",
      "[30]\ttrain-auc:0.745368\n",
      "[40]\ttrain-auc:0.755201\n",
      "[49]\ttrain-auc:0.762742\n"
     ]
    },
    {
     "name": "stderr",
     "output_type": "stream",
     "text": [
      "2018-07-16 21:33:31 | INFO    | automl_libs.base_layer_utils.get_oof              | #448 | metric of fold 4: 0.727201355315896\n",
      "2018-07-16 21:33:31 | INFO    | automl_libs.base_layer_utils.get_oof              | #434 | processing fold 5 of 5...\n",
      "2018-07-16 21:33:31 | INFO    | automl_libs.stack_layer_estimator.XgboostBLE.train                | #208 | No evaluation set, thus not possible to use early stopping. Please train with your best params.\n"
     ]
    },
    {
     "name": "stdout",
     "output_type": "stream",
     "text": [
      "[0]\ttrain-auc:0.70274\n",
      "[10]\ttrain-auc:0.726617\n",
      "[20]\ttrain-auc:0.735194\n",
      "[30]\ttrain-auc:0.746205\n",
      "[40]\ttrain-auc:0.756\n",
      "[49]\ttrain-auc:0.762957\n"
     ]
    },
    {
     "name": "stderr",
     "output_type": "stream",
     "text": [
      "2018-07-16 21:33:32 | INFO    | automl_libs.base_layer_utils.get_oof              | #448 | metric of fold 5: 0.7184368953492759\n",
      "2018-07-16 21:33:32 | INFO    | automl_libs.base_layer_utils.compute_layer1_oof   | #527 | oof is done\n",
      "2018-07-16 21:33:32 | INFO    | automl_libs.base_layer_utils.compute_layer1_oof   | #531 | Training using all data and gen prediction for submission...\n",
      "2018-07-16 21:33:32 | INFO    | automl_libs.stack_layer_estimator.XgboostBLE.train                | #208 | No evaluation set, thus not possible to use early stopping. Please train with your best params.\n"
     ]
    },
    {
     "name": "stdout",
     "output_type": "stream",
     "text": [
      "[0]\ttrain-auc:0.696268\n",
      "[10]\ttrain-auc:0.723615\n",
      "[20]\ttrain-auc:0.7335\n",
      "[30]\ttrain-auc:0.743332\n",
      "[40]\ttrain-auc:0.752675\n",
      "[49]\ttrain-auc:0.760036\n"
     ]
    },
    {
     "name": "stderr",
     "output_type": "stream",
     "text": [
      "2018-07-16 21:33:32 | INFO    | automl_libs.base_layer_utils.BaseLayerResultsRepo.update_report        | #280 | StackNet report updated: syXQ__XGB_ordinal2_layer1: oof_cv_score => 0.7214209972736969\n",
      "2018-07-16 21:33:32 | INFO    | automl_libs.base_layer_utils.BaseLayerResultsRepo.add_score            | #299 | syXQ__XGB_ordinal2_layer1 found in repo. Update score from 0 to 0.72383\n",
      "2018-07-16 21:33:32 | INFO    | automl_libs.base_layer_utils.BaseLayerResultsRepo.update_report        | #280 | StackNet report updated: syXQ__XGB_ordinal2_layer1: gs_val_auc => 0.7238258000000001\n",
      "2018-07-16 21:33:32 | INFO    | automl_libs.base_layer_utils.BaseLayerResultsRepo.update_report        | #280 | StackNet report updated: syXQ__XGB_ordinal2_layer1: test_score => 0.7157585213683268\n",
      "2018-07-16 21:33:32 | INFO    | automl_libs.base_layer_utils.BaseLayerResultsRepo.save                 | #392 | StackNet data saved for: ['Ffk4__LGB_ordinal_layer1', '8jnJ__LGB_ordinal_layer1', 'GBVc__XGB_ordinal_layer1', '6XfZ__XGB_ordinal_layer1', '5tVU__LOGREG_layer2', '38jO__XGB_ordinal2_layer1', 'Gy79__LOGREG_layer2', 'syXQ__XGB_ordinal2_layer1']\n",
      "2018-07-16 21:33:32 | INFO    | automl_libs.base_layer_utils.BaseLayerResultsRepo.save                 | #396 | StackNet report saved at ./output/oof/stacknet_report.csv\n",
      "2018-07-16 21:33:32 | DEBUG   | automl_libs.base_layer_utils.BaseLayerResultsRepo.__init__             | #235 | load StackNet saves from file\n",
      "2018-07-16 21:33:32 | INFO    | automl_libs.stacknet.layer1               | #61  | Ffk4 already processed in StackNet, so removed it from chosen_gs_results\n",
      "2018-07-16 21:33:32 | DEBUG   | automl_libs.base_layer_utils.BaseLayerResultsRepo.__init__             | #235 | load StackNet saves from file\n",
      "2018-07-16 21:33:32 | INFO    | automl_libs.stacknet.layer1               | #61  | GBVc already processed in StackNet, so removed it from chosen_gs_results\n",
      "2018-07-16 21:33:32 | INFO    | automl_app.app.AlphaBoosting.__init__             | #132 | save run record\n",
      "2018-07-16 21:33:32 | INFO    | automl_app.app.AlphaBoosting._save_run_record     | #164 | val index is saved at ./temp_data/val_index.pkl\n",
      "2018-07-16 21:33:32 | INFO    | automl_app.app.AlphaBoosting._save_run_record     | #166 | run record is saved at ./output/last_run_record.json\n"
     ]
    },
    {
     "data": {
      "text/plain": [
       "<automl_app.app.AlphaBoosting at 0x7f5670df0f60>"
      ]
     },
     "execution_count": 10,
     "metadata": {},
     "output_type": "execute_result"
    }
   ],
   "source": [
    "from automl_app.app import AlphaBoosting\n",
    "\n",
    "automl_config_file = project_path + 'automl_config.json'\n",
    "run_record_file_name = project_path + 'last_run_record.json' # don't created this file\n",
    "AlphaBoosting(automl_config_file, features_to_gen, params_gen)"
   ]
  },
  {
   "cell_type": "code",
   "execution_count": null,
   "metadata": {},
   "outputs": [],
   "source": []
  }
 ],
 "metadata": {
  "kernelspec": {
   "display_name": "Python 3.5 (tf_gpu)",
   "language": "python",
   "name": "tf_gpu"
  },
  "language_info": {
   "codemirror_mode": {
    "name": "ipython",
    "version": 3
   },
   "file_extension": ".py",
   "mimetype": "text/x-python",
   "name": "python",
   "nbconvert_exporter": "python",
   "pygments_lexer": "ipython3",
   "version": "3.5.5"
  },
  "varInspector": {
   "cols": {
    "lenName": 16,
    "lenType": 16,
    "lenVar": 40
   },
   "kernels_config": {
    "python": {
     "delete_cmd_postfix": "",
     "delete_cmd_prefix": "del ",
     "library": "var_list.py",
     "varRefreshCmd": "print(var_dic_list())"
    },
    "r": {
     "delete_cmd_postfix": ") ",
     "delete_cmd_prefix": "rm(",
     "library": "var_list.r",
     "varRefreshCmd": "cat(var_dic_list()) "
    }
   },
   "types_to_exclude": [
    "module",
    "function",
    "builtin_function_or_method",
    "instance",
    "_Feature"
   ],
   "window_display": false
  }
 },
 "nbformat": 4,
 "nbformat_minor": 2
}
