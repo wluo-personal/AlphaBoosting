{
 "cells": [
  {
   "cell_type": "code",
   "execution_count": 1,
   "metadata": {
    "ExecuteTime": {
     "end_time": "2018-07-18T19:22:45.167572Z",
     "start_time": "2018-07-18T19:22:45.144093Z"
    }
   },
   "outputs": [
    {
     "name": "stdout",
     "output_type": "stream",
     "text": [
      "/home/kai/data/shiyi/AlphaBoosting/automl/automl_app\n",
      "['', '/home/kai/anaconda3/envs/tf_gpu/lib/python35.zip', '/home/kai/anaconda3/envs/tf_gpu/lib/python3.5', '/home/kai/anaconda3/envs/tf_gpu/lib/python3.5/plat-linux', '/home/kai/anaconda3/envs/tf_gpu/lib/python3.5/lib-dynload', '/home/kai/.local/lib/python3.5/site-packages', '/home/kai/anaconda3/envs/tf_gpu/lib/python3.5/site-packages', '/home/kai/anaconda3/envs/tf_gpu/lib/python3.5/site-packages/IPython/extensions', '/home/kai/.ipython', '/home/kai/data/shiyi/AlphaBoosting/automl']\n"
     ]
    }
   ],
   "source": [
    "import os\n",
    "import sys\n",
    "nb_dir = os.path.split(os.getcwd())[0]\n",
    "print(nb_dir)\n",
    "#if nb_dir not in sys.path:\n",
    "#    sys.path.append(nb_dir)\n",
    "    \n",
    "# autolib_dir = '/home/kai/data/shiyi/AlphaBoosting/automl'\n",
    "autolib_dir = '/'.join(nb_dir.split('/')[:-1])\n",
    "if autolib_dir not in sys.path:\n",
    "    sys.path.append(autolib_dir)\n",
    "\n",
    "print(sys.path)\n",
    "\n",
    "%load_ext autoreload\n",
    "%autoreload 2"
   ]
  },
  {
   "cell_type": "code",
   "execution_count": 2,
   "metadata": {
    "ExecuteTime": {
     "end_time": "2018-07-18T19:22:46.244547Z",
     "start_time": "2018-07-18T19:22:45.169805Z"
    }
   },
   "outputs": [
    {
     "name": "stderr",
     "output_type": "stream",
     "text": [
      "/home/kai/anaconda3/envs/tf_gpu/lib/python3.5/site-packages/h5py/__init__.py:36: FutureWarning: Conversion of the second argument of issubdtype from `float` to `np.floating` is deprecated. In future, it will be treated as `np.float64 == np.dtype(float).type`.\n",
      "  from ._conv import register_converters as _register_converters\n",
      "Using TensorFlow backend.\n"
     ]
    }
   ],
   "source": [
    "from automl_libs import base_layer_utils, stacknet\n",
    "from automl_libs import feature_engineering as fe\n",
    "from automl_libs import encoding, kernels, nn_libs, utils "
   ]
  },
  {
   "cell_type": "code",
   "execution_count": 3,
   "metadata": {
    "ExecuteTime": {
     "end_time": "2018-07-18T19:22:46.263990Z",
     "start_time": "2018-07-18T19:22:46.245988Z"
    }
   },
   "outputs": [],
   "source": [
    "categorical_features = ['Month', 'DayofMonth', 'DayOfWeek', 'DepTime', 'UniqueCarrier', 'Origin', 'Dest', 'Distance'] "
   ]
  },
  {
   "cell_type": "code",
   "execution_count": 4,
   "metadata": {
    "ExecuteTime": {
     "end_time": "2018-07-18T19:22:46.293343Z",
     "start_time": "2018-07-18T19:22:46.265446Z"
    }
   },
   "outputs": [
    {
     "data": {
      "text/plain": [
       "[{'feature_cols': ['Month', 'DayofMonth'],\n",
       "  'function': <function automl_libs.feature_engineering.count(df, cols, dummy_col, generated_feature_name, params=None)>,\n",
       "  'params': {}},\n",
       " {'feature_cols': ['Month', 'DayOfWeek'],\n",
       "  'function': <function automl_libs.feature_engineering.count(df, cols, dummy_col, generated_feature_name, params=None)>,\n",
       "  'params': {}},\n",
       " {'feature_cols': ['Month', 'DepTime'],\n",
       "  'function': <function automl_libs.feature_engineering.count(df, cols, dummy_col, generated_feature_name, params=None)>,\n",
       "  'params': {}},\n",
       " {'feature_cols': ['Month', 'UniqueCarrier'],\n",
       "  'function': <function automl_libs.feature_engineering.count(df, cols, dummy_col, generated_feature_name, params=None)>,\n",
       "  'params': {}},\n",
       " {'feature_cols': ['Month', 'Origin'],\n",
       "  'function': <function automl_libs.feature_engineering.count(df, cols, dummy_col, generated_feature_name, params=None)>,\n",
       "  'params': {}},\n",
       " {'feature_cols': ['Month', 'Dest'],\n",
       "  'function': <function automl_libs.feature_engineering.count(df, cols, dummy_col, generated_feature_name, params=None)>,\n",
       "  'params': {}},\n",
       " {'feature_cols': ['Month', 'Distance'],\n",
       "  'function': <function automl_libs.feature_engineering.count(df, cols, dummy_col, generated_feature_name, params=None)>,\n",
       "  'params': {}},\n",
       " {'feature_cols': ['DayofMonth', 'DayOfWeek'],\n",
       "  'function': <function automl_libs.feature_engineering.count(df, cols, dummy_col, generated_feature_name, params=None)>,\n",
       "  'params': {}},\n",
       " {'feature_cols': ['DayofMonth', 'DepTime'],\n",
       "  'function': <function automl_libs.feature_engineering.count(df, cols, dummy_col, generated_feature_name, params=None)>,\n",
       "  'params': {}},\n",
       " {'feature_cols': ['DayofMonth', 'UniqueCarrier'],\n",
       "  'function': <function automl_libs.feature_engineering.count(df, cols, dummy_col, generated_feature_name, params=None)>,\n",
       "  'params': {}},\n",
       " {'feature_cols': ['DayofMonth', 'Origin'],\n",
       "  'function': <function automl_libs.feature_engineering.count(df, cols, dummy_col, generated_feature_name, params=None)>,\n",
       "  'params': {}},\n",
       " {'feature_cols': ['DayofMonth', 'Dest'],\n",
       "  'function': <function automl_libs.feature_engineering.count(df, cols, dummy_col, generated_feature_name, params=None)>,\n",
       "  'params': {}},\n",
       " {'feature_cols': ['DayofMonth', 'Distance'],\n",
       "  'function': <function automl_libs.feature_engineering.count(df, cols, dummy_col, generated_feature_name, params=None)>,\n",
       "  'params': {}},\n",
       " {'feature_cols': ['DayOfWeek', 'DepTime'],\n",
       "  'function': <function automl_libs.feature_engineering.count(df, cols, dummy_col, generated_feature_name, params=None)>,\n",
       "  'params': {}},\n",
       " {'feature_cols': ['DayOfWeek', 'UniqueCarrier'],\n",
       "  'function': <function automl_libs.feature_engineering.count(df, cols, dummy_col, generated_feature_name, params=None)>,\n",
       "  'params': {}},\n",
       " {'feature_cols': ['DayOfWeek', 'Origin'],\n",
       "  'function': <function automl_libs.feature_engineering.count(df, cols, dummy_col, generated_feature_name, params=None)>,\n",
       "  'params': {}},\n",
       " {'feature_cols': ['DayOfWeek', 'Dest'],\n",
       "  'function': <function automl_libs.feature_engineering.count(df, cols, dummy_col, generated_feature_name, params=None)>,\n",
       "  'params': {}},\n",
       " {'feature_cols': ['DayOfWeek', 'Distance'],\n",
       "  'function': <function automl_libs.feature_engineering.count(df, cols, dummy_col, generated_feature_name, params=None)>,\n",
       "  'params': {}},\n",
       " {'feature_cols': ['DepTime', 'UniqueCarrier'],\n",
       "  'function': <function automl_libs.feature_engineering.count(df, cols, dummy_col, generated_feature_name, params=None)>,\n",
       "  'params': {}},\n",
       " {'feature_cols': ['DepTime', 'Origin'],\n",
       "  'function': <function automl_libs.feature_engineering.count(df, cols, dummy_col, generated_feature_name, params=None)>,\n",
       "  'params': {}},\n",
       " {'feature_cols': ['DepTime', 'Dest'],\n",
       "  'function': <function automl_libs.feature_engineering.count(df, cols, dummy_col, generated_feature_name, params=None)>,\n",
       "  'params': {}},\n",
       " {'feature_cols': ['DepTime', 'Distance'],\n",
       "  'function': <function automl_libs.feature_engineering.count(df, cols, dummy_col, generated_feature_name, params=None)>,\n",
       "  'params': {}},\n",
       " {'feature_cols': ['UniqueCarrier', 'Origin'],\n",
       "  'function': <function automl_libs.feature_engineering.count(df, cols, dummy_col, generated_feature_name, params=None)>,\n",
       "  'params': {}},\n",
       " {'feature_cols': ['UniqueCarrier', 'Dest'],\n",
       "  'function': <function automl_libs.feature_engineering.count(df, cols, dummy_col, generated_feature_name, params=None)>,\n",
       "  'params': {}},\n",
       " {'feature_cols': ['UniqueCarrier', 'Distance'],\n",
       "  'function': <function automl_libs.feature_engineering.count(df, cols, dummy_col, generated_feature_name, params=None)>,\n",
       "  'params': {}},\n",
       " {'feature_cols': ['Origin', 'Dest'],\n",
       "  'function': <function automl_libs.feature_engineering.count(df, cols, dummy_col, generated_feature_name, params=None)>,\n",
       "  'params': {}},\n",
       " {'feature_cols': ['Origin', 'Distance'],\n",
       "  'function': <function automl_libs.feature_engineering.count(df, cols, dummy_col, generated_feature_name, params=None)>,\n",
       "  'params': {}},\n",
       " {'feature_cols': ['Dest', 'Distance'],\n",
       "  'function': <function automl_libs.feature_engineering.count(df, cols, dummy_col, generated_feature_name, params=None)>,\n",
       "  'params': {}}]"
      ]
     },
     "execution_count": 4,
     "metadata": {},
     "output_type": "execute_result"
    }
   ],
   "source": [
    "import itertools\n",
    "#params = {'split_col': 't', 'coefficient': 10, 'n': 2, 'fillna': 22}\n",
    "def get_features_to_gen(function_list, low, high):\n",
    "    features_to_gen = []\n",
    "    for function in function_list:\n",
    "        for i in range(low, high+1):\n",
    "            for combine in itertools.combinations(categorical_features, i):\n",
    "                if function.__name__ == 'count_std_over_mean':\n",
    "                    features_to_gen.append({'params': {'coefficient': 10}, 'function': function, 'feature_cols': list(combine)})\n",
    "                else:\n",
    "                    features_to_gen.append({'params': {}, 'function': function, 'feature_cols': list(combine)})\n",
    "                \n",
    "    return features_to_gen\n",
    "\n",
    "# features_to_gen = get_features_to_gen([fe.count, fe.unique_count, \n",
    "#                                        fe.cumulative_count, \n",
    "#                                        fe.reverse_cumulative_count, \n",
    "#                                        fe.variance, fe.count_std_over_mean], \n",
    "#                                       2, 2)# len(categorical_features))\n",
    "# features_to_gen = get_features_to_gen([fe.count, fe.unique_count, fe.cumulative_count])\n",
    "features_to_gen = get_features_to_gen([fe.count], 2, 2)#len(categorical_features))\n",
    "\n",
    "features_to_gen "
   ]
  },
  {
   "cell_type": "code",
   "execution_count": 5,
   "metadata": {
    "ExecuteTime": {
     "end_time": "2018-07-18T19:22:46.312843Z",
     "start_time": "2018-07-18T19:22:46.294584Z"
    }
   },
   "outputs": [
    {
     "data": {
      "text/plain": [
       "28"
      ]
     },
     "execution_count": 5,
     "metadata": {},
     "output_type": "execute_result"
    }
   ],
   "source": [
    "len(features_to_gen)"
   ]
  },
  {
   "cell_type": "code",
   "execution_count": 6,
   "metadata": {
    "ExecuteTime": {
     "end_time": "2018-07-18T19:22:46.331389Z",
     "start_time": "2018-07-18T19:22:46.314111Z"
    }
   },
   "outputs": [],
   "source": [
    "project_path = './' "
   ]
  },
  {
   "cell_type": "code",
   "execution_count": 7,
   "metadata": {
    "ExecuteTime": {
     "end_time": "2018-07-18T19:22:46.350956Z",
     "start_time": "2018-07-18T19:22:46.332765Z"
    }
   },
   "outputs": [],
   "source": [
    "from automl_app import logger_config\n",
    "import logging\n",
    "logger_config.config(project_path+'project.log', file_loglevel=logging.INFO)"
   ]
  },
  {
   "cell_type": "code",
   "execution_count": 8,
   "metadata": {
    "ExecuteTime": {
     "end_time": "2018-07-18T19:22:46.394951Z",
     "start_time": "2018-07-18T19:22:46.352323Z"
    }
   },
   "outputs": [],
   "source": [
    "def params_gen(model='lgb'):\n",
    "    import time\n",
    "    import numpy as np\n",
    "    seed = int(time.time()* 1000000) % 45234634\n",
    "    np.random.seed(seed)\n",
    "    if model == 'svc':\n",
    "        params = {\n",
    "            'C': 0.911#np.random.rand(),\n",
    "#             'metric': 'roc_auc'\n",
    "        }\n",
    "    elif model == 'logreg':\n",
    "        params = {\n",
    "            'penalty': np.random.choice(['l2']),\n",
    "            'dual': np.random.choice([True, False]),\n",
    "            'C': 1,#np.random.rand(),\n",
    "            'metric': 'roc_auc'\n",
    "        }\n",
    "    elif model == 'lgb':\n",
    "        params = {    \n",
    "            'objective': 'binary',\n",
    "            'boosting': 'gbdt',\n",
    "            'num_boost_round': 10, # ignored in params. extract it and put it in input arguments in train or cv explicitly\n",
    "                                   # seems to work fine as the upper limit when combined with early_stopping_round\n",
    "            'learning_rate': np.random.choice([0.1,0.03]),#0.001]),\n",
    "            'num_leaves': np.random.choice([15,31]),#,61,127]),\n",
    "            'num_threads': 8, # best speed: set to number of real cpu cores, which is vCPU/2\n",
    "            'max_depth': -1, # no limit. This is used to deal with over-fitting when #data is small.\n",
    "            'min_data_in_leaf': np.random.randint(20,50),  #minimal number of data in one leaf. \n",
    "            'feature_fraction': np.random.randint(9,11)/10,\n",
    "            'feature_fraction_seed': seed,\n",
    "            'early_stopping_round':10,\n",
    "            'bagging_freq': 1, #0 means disable bagging. k: perform bagging at every k iteration\n",
    "            'bagging_fraction': np.random.randint(4,11)/10, #Randomly select part of data \n",
    "            'bagging_seed': seed,\n",
    "            'scale_pos_weight': 1,\n",
    "            'metric': 'auc'\n",
    "#             'objective': 'binary',\n",
    "#             'boosting': 'gbdt',\n",
    "#             'num_boost_round': 10, # ignored in params. extract it and put it in input arguments in train or cv explicitly\n",
    "#                                    # seems to work fine as the upper limit when combined with early_stopping_round\n",
    "#             'learning_rate': 0.01,\n",
    "#             'num_leaves': 50,\n",
    "#             'num_threads': 8, # best speed: set to number of real cpu cores, which is vCPU/2\n",
    "#             'max_depth': 5, # no limit. This is used to deal with over-fitting when #data is small.\n",
    "#             'min_split_gain': 0.02,\n",
    "#             'min_child_weight': 18.6,\n",
    "#             'feature_fraction': 0.1,\n",
    "#             'feature_fraction_seed': 1992,\n",
    "#             'early_stopping_round':10,\n",
    "#             'bagging_freq': 1, #0 means disable bagging. k: perform bagging at every k iteration\n",
    "#             'bagging_fraction': np.random.randint(4,11)/10, #Randomly select part of data \n",
    "#             'bagging_seed': 1992,\n",
    "#             'scale_pos_weight': 1,\n",
    "#             'lambda_l1': 0.8,\n",
    "#             'lambda_l2': 0.6,\n",
    "#             'metric': 'auc'\n",
    "        }\n",
    "    elif model == 'xgb':\n",
    "        params = {\n",
    "            'eta': 0.1,\n",
    "            'objective': 'binary:logistic',\n",
    "            'eval_metric': 'auc',\n",
    "            'booster': 'gbtree',\n",
    "            'tree_method': 'hist',\n",
    "            'max_bin': 8,\n",
    "            'scale_pos_weight': 1,\n",
    "            'seed': seed,\n",
    "            'nthread': 10,\n",
    "            'max_depth': 6,\n",
    "            'min_child_weight': 22,\n",
    "            'gamma': 0,\n",
    "            'subsample': 0.7,\n",
    "            'colsample_bytree': 0.7,\n",
    "            'colsample_bylevel': 0.675,\n",
    "            'alpha': 0,\n",
    "            'lambda': 0,\n",
    "            'num_boost_round': 50,\n",
    "            'early_stopping_rounds': 1\n",
    "        }\n",
    "    elif model == 'catb':\n",
    "        params = {\n",
    "            'iterations': 30,\n",
    "            'depth': np.random.randint(6,11),\n",
    "            'l2_leaf_reg': np.random.randint(0, 31)/10,\n",
    "        #     'custom_metric': 'AUC',\n",
    "            'eval_metric': 'AUC',\n",
    "            'random_seed': seed,\n",
    "            'logging_level': 'Verbose',\n",
    "            'thread_count': 15\n",
    "        }\n",
    "    elif model == 'nn':\n",
    "        params = {\n",
    "            'nn_seed': int(time.time() * 1000000) % 45234634,\n",
    "            'ep_for_lr': np.random.randint(2,10),\n",
    "            'lr_init': 0.01,\n",
    "            'lr_fin': np.random.randint(1,5)/1000,  # if == lr_init, then no lr decay\n",
    "            'batch_size': np.random.choice([128, 256, 512, 1024]),\n",
    "            \"pred_batch_size\": 5000,\n",
    "            'max_ep': 100,\n",
    "            'patience': 10, #np.random.randint(10, 25),\n",
    "            'cat_emb_outdim': 30, # could be a constant or a dict (col name:embed out dim). e.g.:\n",
    "                                  # embed_outdim = [3, 3, 8, 8, 3]\n",
    "                                  # embed_outdim_dict = dict(zip(X_train.columns.values, embed_outdim))\n",
    "                                  # then assige embed_outdim_dict to cat_emb_outdim\n",
    "            'cat_emb_drop_rate': np.random.randint(1,4)/10, \n",
    "            'num_layers_dense_units': [1000, 500, 100],\n",
    "            'num_layers_drop_rate': np.random.randint(2,6)/10,\n",
    "            'combined_layers_dense_units': [100, 50],\n",
    "            'combined_layers_drop_rate': np.random.randint(1,3)/10,\n",
    "            'monitor': 'val_auc',  # or val_loss (MUST HAVE)\n",
    "            'mode': 'max',  # MUST HAVE\n",
    "            'int_list': ['num_layers_dense_units', 'combined_layers_dense_units']\n",
    "        }\n",
    "    elif model == 'stacknet_layer2_nn':\n",
    "        params = {\n",
    "            'nn_seed': int(time.time() * 1000000) % 45234634,\n",
    "            'ep_for_lr': 1,\n",
    "            'lr_init': 0.01,\n",
    "            'lr_fin': 0.01, # if == lr_init, then no lr decay\n",
    "            'batch_size': 128,\n",
    "            \"pred_batch_size\": 50000,\n",
    "            'best_epoch': 1,\n",
    "            'patience': 1,\n",
    "            'categorical_feature': [],\n",
    "            'cat_emb_outdim': 50, # could be a constant or a dict (col name:embed out dim). e.g.:\n",
    "                                  # embed_outdim = [3, 3, 8, 8, 3]\n",
    "                                  # embed_outdim_dict = dict(zip(X_train.columns.values, embed_outdim))\n",
    "            'num_layers_dense_units': [],\n",
    "            'combined_layers_dense_units': [10, 5],\n",
    "            'combined_layers_drop_rate': 0,\n",
    "            'monitor': 'val_auc',  # or val_loss (MUST HAVE)\n",
    "            'mode': 'max',  # MUST HAVE\n",
    "            'int_list': ['num_layers_dense_units', 'combined_layers_dense_units']\n",
    "        }\n",
    "    return params, seed"
   ]
  },
  {
   "cell_type": "code",
   "execution_count": 9,
   "metadata": {
    "ExecuteTime": {
     "end_time": "2018-07-18T19:22:46.416213Z",
     "start_time": "2018-07-18T19:22:46.396357Z"
    }
   },
   "outputs": [
    {
     "data": {
      "text/plain": [
       "({'batch_size': 128,\n",
       "  'best_epoch': 1,\n",
       "  'cat_emb_outdim': 50,\n",
       "  'categorical_feature': [],\n",
       "  'combined_layers_dense_units': [10, 5],\n",
       "  'combined_layers_drop_rate': 0,\n",
       "  'ep_for_lr': 1,\n",
       "  'int_list': ['num_layers_dense_units', 'combined_layers_dense_units'],\n",
       "  'lr_fin': 0.01,\n",
       "  'lr_init': 0.01,\n",
       "  'mode': 'max',\n",
       "  'monitor': 'val_auc',\n",
       "  'nn_seed': 3332108,\n",
       "  'num_layers_dense_units': [],\n",
       "  'patience': 1,\n",
       "  'pred_batch_size': 50000},\n",
       " 3332098)"
      ]
     },
     "execution_count": 9,
     "metadata": {},
     "output_type": "execute_result"
    }
   ],
   "source": [
    "p, s = params_gen('stacknet_layer2_nn')\n",
    "p, s"
   ]
  },
  {
   "cell_type": "code",
   "execution_count": 10,
   "metadata": {
    "ExecuteTime": {
     "end_time": "2018-07-18T19:22:46.437744Z",
     "start_time": "2018-07-18T19:22:46.417601Z"
    }
   },
   "outputs": [],
   "source": [
    "import sys\n",
    "import time\n",
    "\n",
    "class Logger(object):\n",
    "    def __init__(self, logtofile=True, logfilename='log'):\n",
    "        self.terminal = sys.stdout\n",
    "        self.logfile = \"{}_{}.log\".format(logfilename, int(time.time()))\n",
    "        self.logtofile = logtofile\n",
    "\n",
    "    def write(self, message):\n",
    "#         self.terminal.write(message)\n",
    "        if self.logtofile:\n",
    "            self.log = open(self.logfile, \"a\")\n",
    "            self.log.write('['+utils.get_time()+'] '+message)  \n",
    "            self.log.close()\n",
    "\n",
    "\n",
    "    def flush(self):\n",
    "        #this flush method is needed for python 3 compatibility.\n",
    "        #this handles the flush command by doing nothing.\n",
    "        #you might want to specify some extra behavior here.\n",
    "        pass    \n",
    "\n",
    "def divert_printout_to_file():\n",
    "    sys.stdout = Logger(logfilename='logfile')"
   ]
  },
  {
   "cell_type": "code",
   "execution_count": 11,
   "metadata": {
    "ExecuteTime": {
     "end_time": "2018-07-18T19:22:46.457432Z",
     "start_time": "2018-07-18T19:22:46.439114Z"
    }
   },
   "outputs": [],
   "source": [
    "# divert_printout_to_file()"
   ]
  },
  {
   "cell_type": "code",
   "execution_count": 12,
   "metadata": {
    "ExecuteTime": {
     "end_time": "2018-07-18T19:24:37.172975Z",
     "start_time": "2018-07-18T19:22:46.458757Z"
    },
    "scrolled": true
   },
   "outputs": [
    {
     "name": "stderr",
     "output_type": "stream",
     "text": [
      "2018-07-18 15:22:46 | INFO    | automl_app.app.AlphaBoosting.__init__             | #23  | ==========START==========\n",
      "2018-07-18 15:22:47 | INFO    | automl_app.app.AlphaBoosting.__init__             | #76  | Validation is randomly chosen. Percentage: 15.0%, Stratify: True\n"
     ]
    },
    {
     "name": "stdout",
     "output_type": "stream",
     "text": [
      "> /home/kai/data/shiyi/AlphaBoosting/automl/automl_app/app.py(78)__init__()\n",
      "-> del X, y, X_train, X_validation, y_train, y_validation; gc.collect()\n",
      "(Pdb) len(self.validation_index)\n",
      "150000\n",
      "(Pdb) self.validation_index[:10]\n",
      "[452966, 189988, 641855, 838926, 167219, 258467, 837718, 807658, 978001, 83707]\n",
      "(Pdb) y_train.value_counts()[0]/len(y_train)\n",
      "0.8070176470588235\n",
      "(Pdb) y_validation.value_counts()[0]/len(y_validation)\n",
      "0.80702\n",
      "(Pdb) n\n",
      "> /home/kai/data/shiyi/AlphaBoosting/automl/automl_app/app.py(82)__init__()\n",
      "-> downsampling_amount_changed = False\n",
      "(Pdb) self.validation_index[:10]\n",
      "[452966, 189988, 641855, 838926, 167219, 258467, 837718, 807658, 978001, 83707]\n",
      "(Pdb) c\n"
     ]
    },
    {
     "name": "stderr",
     "output_type": "stream",
     "text": [
      "2018-07-18 15:24:26 | INFO    | automl_app.app.AlphaBoosting.__init__             | #82  | Run record file [./output/last_run_record.json] not found. Begin the first time run...\n",
      "2018-07-18 15:24:26 | INFO    | automl_app.app.AlphaBoosting.__init__             | #82  | generate todo list\n",
      "2018-07-18 15:24:26 | INFO    | automl_app.app.AlphaBoosting.__init__             | #82  | STAGE: FEATURE_ENGINEERING\n",
      "2018-07-18 15:24:26 | INFO    | automl_app.app.AlphaBoosting.__init__             | #82  | STAGE: VALIDATION_DOWNSAMPLING_GEN\n",
      "2018-07-18 15:24:26 | INFO    | automl_app.app.AlphaBoosting.__init__             | #82  | STAGE: CONCAT_DATA\n",
      "2018-07-18 15:24:26 | INFO    | automl_app.app.AlphaBoosting.__init__             | #82  | STAGE: GRID_SEARCH\n",
      "2018-07-18 15:24:26 | INFO    | automl_app.app.AlphaBoosting._get_final_data      | #359 | DEBUG mode is on, 5.0% of train,val data are chosen\n",
      "2018-07-18 15:24:26 | INFO    | automl_app.app.AlphaBoosting._get_final_data      | #368 | Data <ordinal2> retrieved. Shape: train (42500, 37) | val (7500, 37) | test (100000, 36) | contain test label: True | 8 cat features | 36 total features | y name: label\n",
      "2018-07-18 15:24:26 | INFO    | automl_libs.grid_search.gs                   | #35  | Grid search xgb. round 1 of 2\n"
     ]
    },
    {
     "name": "stdout",
     "output_type": "stream",
     "text": [
      "[0]\ttrain-auc:0.700482+0.00160358\ttest-auc:0.689818+0.00369153\n",
      "[1]\ttrain-auc:0.70719+0.0015167\ttest-auc:0.692853+0.00477045\n",
      "[2]\ttrain-auc:0.710007+0.00381135\ttest-auc:0.694326+0.00664052\n",
      "[3]\ttrain-auc:0.714543+0.00187389\ttest-auc:0.699509+0.00396955\n",
      "[4]\ttrain-auc:0.71667+0.00269235\ttest-auc:0.700713+0.003999\n",
      "[5]\ttrain-auc:0.718804+0.00231821\ttest-auc:0.702473+0.0032154\n",
      "[6]\ttrain-auc:0.720125+0.00198081\ttest-auc:0.703048+0.00396003\n",
      "[7]\ttrain-auc:0.721106+0.001879\ttest-auc:0.703958+0.00405519\n",
      "[8]\ttrain-auc:0.722483+0.0014404\ttest-auc:0.705569+0.0037824\n",
      "[9]\ttrain-auc:0.723598+0.000633838\ttest-auc:0.706545+0.00372993\n",
      "[10]\ttrain-auc:0.724992+0.000910472\ttest-auc:0.706967+0.0038864\n",
      "[11]\ttrain-auc:0.725973+0.000763211\ttest-auc:0.707077+0.00409575\n",
      "[12]\ttrain-auc:0.727288+0.000638136\ttest-auc:0.707664+0.00400741\n",
      "[13]\ttrain-auc:0.728589+0.000597385\ttest-auc:0.708549+0.00425218\n",
      "[14]\ttrain-auc:0.729803+0.000871998\ttest-auc:0.709186+0.00415271\n",
      "[15]\ttrain-auc:0.73096+0.000652821\ttest-auc:0.709418+0.00442567\n",
      "[16]\ttrain-auc:0.731952+0.000420758\ttest-auc:0.710259+0.00435532\n",
      "[17]\ttrain-auc:0.733104+8.02212e-05\ttest-auc:0.711066+0.00398347\n",
      "[18]\ttrain-auc:0.734243+0.000437955\ttest-auc:0.711502+0.0036931\n",
      "[19]\ttrain-auc:0.735033+0.000695092\ttest-auc:0.711854+0.00376397\n",
      "[20]\ttrain-auc:0.735805+0.000605869\ttest-auc:0.712178+0.00381076\n",
      "[21]\ttrain-auc:0.737165+0.000932204\ttest-auc:0.712654+0.00371156\n",
      "[22]\ttrain-auc:0.738463+0.00116619\ttest-auc:0.713195+0.00360431\n",
      "[23]\ttrain-auc:0.739641+0.00120929\ttest-auc:0.713673+0.00357524\n",
      "[24]\ttrain-auc:0.740386+0.0013003\ttest-auc:0.71394+0.00360144\n",
      "[25]\ttrain-auc:0.741077+0.00128315\ttest-auc:0.714271+0.00364863\n",
      "[26]\ttrain-auc:0.741936+0.00144813\ttest-auc:0.714396+0.00349812\n",
      "[27]\ttrain-auc:0.743115+0.00144299\ttest-auc:0.714816+0.00332573\n",
      "[28]\ttrain-auc:0.74396+0.00151294\ttest-auc:0.715111+0.00323016\n",
      "[29]\ttrain-auc:0.744601+0.00161701\ttest-auc:0.71559+0.0031569\n",
      "[30]\ttrain-auc:0.745753+0.00163412\ttest-auc:0.715939+0.00342614\n",
      "[31]\ttrain-auc:0.746479+0.00159665\ttest-auc:0.716132+0.00337226\n",
      "[32]\ttrain-auc:0.747589+0.00195145\ttest-auc:0.716733+0.00298535\n",
      "[33]\ttrain-auc:0.74892+0.00168273\ttest-auc:0.717374+0.00257471\n",
      "[34]\ttrain-auc:0.749697+0.00152648\ttest-auc:0.717626+0.00271123\n",
      "[35]\ttrain-auc:0.750674+0.00133119\ttest-auc:0.718122+0.00286368\n",
      "[36]\ttrain-auc:0.751673+0.00117979\ttest-auc:0.718482+0.00266081\n",
      "[37]\ttrain-auc:0.752387+0.00119837\ttest-auc:0.718769+0.00239055\n",
      "[38]\ttrain-auc:0.753528+0.00129299\ttest-auc:0.719249+0.0021418\n",
      "[39]\ttrain-auc:0.754368+0.00124051\ttest-auc:0.719525+0.00183741\n",
      "[40]\ttrain-auc:0.755496+0.00138174\ttest-auc:0.719942+0.00197961\n",
      "[41]\ttrain-auc:0.756644+0.00131305\ttest-auc:0.720489+0.00181207\n",
      "[42]\ttrain-auc:0.757603+0.00146067\ttest-auc:0.720617+0.00194504\n",
      "[43]\ttrain-auc:0.75856+0.00124367\ttest-auc:0.72104+0.00227614\n",
      "[44]\ttrain-auc:0.759496+0.00123361\ttest-auc:0.721397+0.00235081\n",
      "[45]\ttrain-auc:0.760339+0.00132956\ttest-auc:0.721815+0.00256477\n"
     ]
    },
    {
     "name": "stderr",
     "output_type": "stream",
     "text": [
      "2018-07-18 15:24:29 | INFO    | automl_libs.grid_search._xgb_gs              | #321 | val_auc: 0.72181 | train_auc: 0.76034 (cv)\n",
      "2018-07-18 15:24:29 | INFO    | automl_libs.grid_search._xgb_gs              | #343 | [do_preds] is True, generating predictions ...\n",
      "2018-07-18 15:24:29 | INFO    | automl_libs.grid_search._xgb_gs              | #345 | Retrain model using best_round [46] and all data...\n"
     ]
    },
    {
     "name": "stdout",
     "output_type": "stream",
     "text": [
      "[0]\tall_data-auc:0.702363\n",
      "[9]\tall_data-auc:0.722472\n",
      "[18]\tall_data-auc:0.730585\n",
      "[27]\tall_data-auc:0.740629\n",
      "[36]\tall_data-auc:0.749365\n",
      "[45]\tall_data-auc:0.755931\n"
     ]
    },
    {
     "name": "stderr",
     "output_type": "stream",
     "text": [
      "2018-07-18 15:24:29 | INFO    | automl_libs.grid_search._xgb_gs              | #353 | Training done. Iteration: 46 | train_auc: 0.75593\n",
      "2018-07-18 15:24:29 | INFO    | automl_libs.grid_search._xgb_gs              | #358 | (_nn_gs) roc of test: 0.7150854023143463\n",
      "2018-07-18 15:24:29 | INFO    | automl_libs.grid_search._xgb_gs              | #363 | XGB predictions(IJfZ) saved in ./output/gs_saved_preds/.\n",
      "2018-07-18 15:24:29 | DEBUG   | automl_libs.grid_search.gs                   | #65  | ./output/xgb_ordinal2_grid_search.csv created\n",
      "2018-07-18 15:24:29 | INFO    | automl_libs.grid_search.gs                   | #35  | Grid search xgb. round 2 of 2\n"
     ]
    },
    {
     "name": "stdout",
     "output_type": "stream",
     "text": [
      "[0]\ttrain-auc:0.666274+0.0312371\ttest-auc:0.654313+0.0260403\n",
      "[1]\ttrain-auc:0.681649+0.0233529\ttest-auc:0.666349+0.0215741\n",
      "[2]\ttrain-auc:0.701167+0.013029\ttest-auc:0.686532+0.0119245\n",
      "[3]\ttrain-auc:0.707521+0.0126836\ttest-auc:0.692609+0.0131415\n",
      "[4]\ttrain-auc:0.71376+0.00471506\ttest-auc:0.699095+0.00742932\n",
      "[5]\ttrain-auc:0.717464+0.00231052\ttest-auc:0.701172+0.00553911\n",
      "[6]\ttrain-auc:0.719986+0.000884262\ttest-auc:0.702956+0.00562855\n",
      "[7]\ttrain-auc:0.721288+0.00133878\ttest-auc:0.704215+0.00562021\n",
      "[8]\ttrain-auc:0.722785+0.00158596\ttest-auc:0.705092+0.00550434\n",
      "[9]\ttrain-auc:0.724195+0.00151704\ttest-auc:0.706023+0.00517142\n",
      "[10]\ttrain-auc:0.726149+0.00162096\ttest-auc:0.706748+0.00518066\n",
      "[11]\ttrain-auc:0.727065+0.00154925\ttest-auc:0.707115+0.00483362\n",
      "[12]\ttrain-auc:0.727865+0.00167455\ttest-auc:0.707468+0.00510563\n",
      "[13]\ttrain-auc:0.728877+0.00175367\ttest-auc:0.708066+0.0048635\n",
      "[14]\ttrain-auc:0.729774+0.00180398\ttest-auc:0.708298+0.00478705\n",
      "[15]\ttrain-auc:0.730562+0.00149911\ttest-auc:0.708639+0.00498772\n",
      "[16]\ttrain-auc:0.731578+0.00136052\ttest-auc:0.709035+0.00509043\n",
      "[17]\ttrain-auc:0.732687+0.00131345\ttest-auc:0.709611+0.00506362\n",
      "[18]\ttrain-auc:0.733869+0.00111088\ttest-auc:0.71034+0.00535565\n",
      "[19]\ttrain-auc:0.735159+0.00107436\ttest-auc:0.710929+0.00539138\n",
      "[20]\ttrain-auc:0.736039+0.00129941\ttest-auc:0.711517+0.00531853\n",
      "[21]\ttrain-auc:0.7368+0.00138253\ttest-auc:0.711795+0.00546704\n",
      "[22]\ttrain-auc:0.738005+0.00129353\ttest-auc:0.712312+0.00546246\n",
      "[23]\ttrain-auc:0.738824+0.001427\ttest-auc:0.712744+0.00529045\n",
      "[24]\ttrain-auc:0.739774+0.00157556\ttest-auc:0.713105+0.00510859\n",
      "[25]\ttrain-auc:0.74055+0.00180072\ttest-auc:0.713585+0.00506921\n",
      "[26]\ttrain-auc:0.741393+0.00153889\ttest-auc:0.714091+0.00505888\n",
      "[27]\ttrain-auc:0.742059+0.00150032\ttest-auc:0.714464+0.00534536\n",
      "[28]\ttrain-auc:0.743245+0.00170561\ttest-auc:0.715026+0.00540586\n",
      "[29]\ttrain-auc:0.744338+0.00182815\ttest-auc:0.715753+0.00529887\n",
      "[30]\ttrain-auc:0.745586+0.00169026\ttest-auc:0.716371+0.00540556\n",
      "[31]\ttrain-auc:0.746964+0.00144361\ttest-auc:0.716767+0.00549578\n",
      "[32]\ttrain-auc:0.748262+0.00145116\ttest-auc:0.717245+0.00568574\n",
      "[33]\ttrain-auc:0.749475+0.00125917\ttest-auc:0.71787+0.00571234\n",
      "[34]\ttrain-auc:0.75054+0.00087857\ttest-auc:0.718553+0.00582601\n",
      "[35]\ttrain-auc:0.751402+0.00106511\ttest-auc:0.719141+0.00586565\n",
      "[36]\ttrain-auc:0.752432+0.00117919\ttest-auc:0.719463+0.00609654\n",
      "[37]\ttrain-auc:0.753468+0.00118849\ttest-auc:0.719707+0.006189\n",
      "[38]\ttrain-auc:0.754354+0.00118579\ttest-auc:0.719819+0.00619631\n",
      "[39]\ttrain-auc:0.755069+0.0014624\ttest-auc:0.720116+0.00607108\n",
      "[40]\ttrain-auc:0.755995+0.00157156\ttest-auc:0.720337+0.00596933\n",
      "[41]\ttrain-auc:0.756856+0.00134547\ttest-auc:0.72066+0.0058633\n",
      "[42]\ttrain-auc:0.7576+0.00127631\ttest-auc:0.720873+0.00588603\n",
      "[43]\ttrain-auc:0.758409+0.00123086\ttest-auc:0.721013+0.0058624\n",
      "[44]\ttrain-auc:0.759323+0.00118857\ttest-auc:0.721325+0.00585488\n",
      "[45]\ttrain-auc:0.760028+0.000975107\ttest-auc:0.721386+0.00600187\n",
      "[46]\ttrain-auc:0.760735+0.00116463\ttest-auc:0.721441+0.00600745\n",
      "[47]\ttrain-auc:0.761993+0.00129663\ttest-auc:0.721861+0.00589562\n",
      "[48]\ttrain-auc:0.76304+0.00116472\ttest-auc:0.722256+0.00602436\n",
      "[49]\ttrain-auc:0.763769+0.00121094\ttest-auc:0.722595+0.00582686\n"
     ]
    },
    {
     "name": "stderr",
     "output_type": "stream",
     "text": [
      "2018-07-18 15:24:31 | INFO    | automl_libs.grid_search._xgb_gs              | #321 | val_auc: 0.72260 | train_auc: 0.76377 (cv)\n",
      "2018-07-18 15:24:31 | INFO    | automl_libs.grid_search._xgb_gs              | #343 | [do_preds] is True, generating predictions ...\n",
      "2018-07-18 15:24:31 | INFO    | automl_libs.grid_search._xgb_gs              | #345 | Retrain model using best_round [50] and all data...\n"
     ]
    },
    {
     "name": "stdout",
     "output_type": "stream",
     "text": [
      "[0]\tall_data-auc:0.703293\n",
      "[10]\tall_data-auc:0.725151\n",
      "[20]\tall_data-auc:0.734332\n",
      "[30]\tall_data-auc:0.743274\n",
      "[40]\tall_data-auc:0.752416\n",
      "[49]\tall_data-auc:0.760564\n"
     ]
    },
    {
     "name": "stderr",
     "output_type": "stream",
     "text": [
      "2018-07-18 15:24:32 | INFO    | automl_libs.grid_search._xgb_gs              | #353 | Training done. Iteration: 50 | train_auc: 0.76056\n",
      "2018-07-18 15:24:32 | INFO    | automl_libs.grid_search._xgb_gs              | #358 | (_nn_gs) roc of test: 0.7147251478958567\n",
      "2018-07-18 15:24:32 | INFO    | automl_libs.grid_search._xgb_gs              | #363 | XGB predictions(apB6) saved in ./output/gs_saved_preds/.\n",
      "2018-07-18 15:24:32 | INFO    | automl_libs.grid_search.gs                   | #70  | ./output/xgb_ordinal2_grid_search.csv updated\n",
      "2018-07-18 15:24:32 | INFO    | automl_app.app.AlphaBoosting.__init__             | #82  | STAGE: STACKNET\n",
      "2018-07-18 15:24:32 | INFO    | automl_app.app.AlphaBoosting._get_final_data      | #359 | DEBUG mode is on, 5.0% of train,val data are chosen\n",
      "2018-07-18 15:24:32 | INFO    | automl_app.app.AlphaBoosting._get_final_data      | #368 | Data <ordinal2> retrieved. Shape: train (42500, 37) | val (7500, 37) | test (100000, 36) | contain test label: True | 8 cat features | 36 total features | y name: label\n",
      "2018-07-18 15:24:32 | INFO    | automl_app.app.AlphaBoosting._stacknet            | #323 | layers to be built: [1]\n",
      "2018-07-18 15:24:32 | DEBUG   | automl_libs.stacknet.layer1               | #42  | data_id: ordinal2             \n",
      "\tx_train: (50000, 36)\tx_test: (100000, 36)\n",
      "\ty_train type: <class 'dict'>\n",
      "\tcompatible_models: set()\n",
      " \n",
      "2018-07-18 15:24:32 | INFO    | automl_libs.stacknet.layer1               | #74  | using xgb params: IJfZ to do oof\n",
      "2018-07-18 15:24:32 | DEBUG   | automl_libs.stacknet.layer1               | #75  | {'num_boost_round': 50, 'tree_method': 'hist', 'train_auc': 0.7603392, 'booster': 'gbtree', 'seed': 13345892, 'gs_timespent': '0:00:02', 'pred_timespent': '0:00:00', 'alpha': 0, 'eval_metric': 'auc', 'timestamp': '2018-07-18 15:24:26', 'best_round': 46, 'colsample_bytree': 0.7, 'subsample': 0.7, 'val_auc': 0.7218148, 'lambda': 0, 'scale_pos_weight': 1, 'max_depth': 6, 'nthread': 10, 'gamma': 0, 'eta': 0.1, 'min_child_weight': 22, 'data_name': 'ordinal2', 'max_bin': 8, 'colsample_bylevel': 0.675, 'cv': True, 'objective': 'binary:logistic', 'early_stopping_rounds': 1}\n",
      "2018-07-18 15:24:32 | INFO    | automl_libs.base_layer_utils.compute_layer1_oof   | #499 | StackNet layer1: label: label    model_data_id: IJfZ__XGB_ordinal2_layer1\n",
      "2018-07-18 15:24:32 | INFO    | automl_libs.base_layer_utils.get_oof              | #435 | processing fold 1 of 5...\n",
      "2018-07-18 15:24:32 | INFO    | automl_libs.stack_layer_estimator.XgboostBLE.train                | #208 | No evaluation set, thus not possible to use early stopping. Please train with your best params.\n"
     ]
    },
    {
     "name": "stdout",
     "output_type": "stream",
     "text": [
      "[0]\ttrain-auc:0.698487\n",
      "[4]\ttrain-auc:0.713638\n",
      "[8]\ttrain-auc:0.72205\n",
      "[12]\ttrain-auc:0.72624\n",
      "[16]\ttrain-auc:0.729654\n",
      "[20]\ttrain-auc:0.733796\n",
      "[24]\ttrain-auc:0.738147\n",
      "[28]\ttrain-auc:0.743418\n",
      "[32]\ttrain-auc:0.747685\n",
      "[36]\ttrain-auc:0.751216\n",
      "[40]\ttrain-auc:0.754946\n",
      "[44]\ttrain-auc:0.75779\n",
      "[45]\ttrain-auc:0.758864\n"
     ]
    },
    {
     "name": "stderr",
     "output_type": "stream",
     "text": [
      "2018-07-18 15:24:32 | INFO    | automl_libs.base_layer_utils.get_oof              | #449 | metric of fold 1: 0.7236034767589816\n",
      "2018-07-18 15:24:32 | INFO    | automl_libs.base_layer_utils.get_oof              | #435 | processing fold 2 of 5...\n",
      "2018-07-18 15:24:32 | INFO    | automl_libs.stack_layer_estimator.XgboostBLE.train                | #208 | No evaluation set, thus not possible to use early stopping. Please train with your best params.\n"
     ]
    },
    {
     "name": "stdout",
     "output_type": "stream",
     "text": [
      "[0]\ttrain-auc:0.704057\n",
      "[4]\ttrain-auc:0.719065\n",
      "[8]\ttrain-auc:0.724212\n",
      "[12]\ttrain-auc:0.729444\n",
      "[16]\ttrain-auc:0.733395\n",
      "[20]\ttrain-auc:0.737654\n",
      "[24]\ttrain-auc:0.740794\n",
      "[28]\ttrain-auc:0.744796\n",
      "[32]\ttrain-auc:0.749948\n",
      "[36]\ttrain-auc:0.753898\n",
      "[40]\ttrain-auc:0.757166\n",
      "[44]\ttrain-auc:0.761098\n",
      "[45]\ttrain-auc:0.762069\n"
     ]
    },
    {
     "name": "stderr",
     "output_type": "stream",
     "text": [
      "2018-07-18 15:24:33 | INFO    | automl_libs.base_layer_utils.get_oof              | #449 | metric of fold 2: 0.7118385664428662\n",
      "2018-07-18 15:24:33 | INFO    | automl_libs.base_layer_utils.get_oof              | #435 | processing fold 3 of 5...\n",
      "2018-07-18 15:24:33 | INFO    | automl_libs.stack_layer_estimator.XgboostBLE.train                | #208 | No evaluation set, thus not possible to use early stopping. Please train with your best params.\n"
     ]
    },
    {
     "name": "stdout",
     "output_type": "stream",
     "text": [
      "[0]\ttrain-auc:0.695018\n",
      "[4]\ttrain-auc:0.714723\n",
      "[8]\ttrain-auc:0.722239\n",
      "[12]\ttrain-auc:0.726705\n",
      "[16]\ttrain-auc:0.73289\n",
      "[20]\ttrain-auc:0.73735\n",
      "[24]\ttrain-auc:0.740818\n",
      "[28]\ttrain-auc:0.745546\n",
      "[32]\ttrain-auc:0.7485\n",
      "[36]\ttrain-auc:0.752278\n",
      "[40]\ttrain-auc:0.756673\n",
      "[44]\ttrain-auc:0.759727\n",
      "[45]\ttrain-auc:0.760703\n"
     ]
    },
    {
     "name": "stderr",
     "output_type": "stream",
     "text": [
      "2018-07-18 15:24:33 | INFO    | automl_libs.base_layer_utils.get_oof              | #449 | metric of fold 3: 0.7310693281537572\n",
      "2018-07-18 15:24:33 | INFO    | automl_libs.base_layer_utils.get_oof              | #435 | processing fold 4 of 5...\n",
      "2018-07-18 15:24:33 | INFO    | automl_libs.stack_layer_estimator.XgboostBLE.train                | #208 | No evaluation set, thus not possible to use early stopping. Please train with your best params.\n"
     ]
    },
    {
     "name": "stdout",
     "output_type": "stream",
     "text": [
      "[0]\ttrain-auc:0.701424\n",
      "[4]\ttrain-auc:0.717726\n",
      "[8]\ttrain-auc:0.725392\n",
      "[12]\ttrain-auc:0.728677\n",
      "[16]\ttrain-auc:0.73127\n",
      "[20]\ttrain-auc:0.73572\n",
      "[24]\ttrain-auc:0.7391\n",
      "[28]\ttrain-auc:0.743535\n",
      "[32]\ttrain-auc:0.749923\n",
      "[36]\ttrain-auc:0.752188\n",
      "[40]\ttrain-auc:0.755118\n",
      "[44]\ttrain-auc:0.757971\n",
      "[45]\ttrain-auc:0.759283\n"
     ]
    },
    {
     "name": "stderr",
     "output_type": "stream",
     "text": [
      "2018-07-18 15:24:33 | INFO    | automl_libs.base_layer_utils.get_oof              | #449 | metric of fold 4: 0.7250394983935009\n",
      "2018-07-18 15:24:33 | INFO    | automl_libs.base_layer_utils.get_oof              | #435 | processing fold 5 of 5...\n",
      "2018-07-18 15:24:33 | INFO    | automl_libs.stack_layer_estimator.XgboostBLE.train                | #208 | No evaluation set, thus not possible to use early stopping. Please train with your best params.\n"
     ]
    },
    {
     "name": "stdout",
     "output_type": "stream",
     "text": [
      "[0]\ttrain-auc:0.698906\n",
      "[4]\ttrain-auc:0.718121\n",
      "[8]\ttrain-auc:0.725183\n",
      "[12]\ttrain-auc:0.728955\n",
      "[16]\ttrain-auc:0.732955\n",
      "[20]\ttrain-auc:0.737681\n",
      "[24]\ttrain-auc:0.740672\n",
      "[28]\ttrain-auc:0.745305\n",
      "[32]\ttrain-auc:0.749931\n",
      "[36]\ttrain-auc:0.753413\n",
      "[40]\ttrain-auc:0.756582\n",
      "[44]\ttrain-auc:0.76064\n",
      "[45]\ttrain-auc:0.762004\n"
     ]
    },
    {
     "name": "stderr",
     "output_type": "stream",
     "text": [
      "2018-07-18 15:24:34 | INFO    | automl_libs.base_layer_utils.get_oof              | #449 | metric of fold 5: 0.7194590029003985\n",
      "2018-07-18 15:24:34 | INFO    | automl_libs.base_layer_utils.compute_layer1_oof   | #528 | oof is done\n",
      "2018-07-18 15:24:34 | INFO    | automl_libs.base_layer_utils.compute_layer1_oof   | #532 | Training using all data and gen prediction for submission...\n",
      "2018-07-18 15:24:34 | INFO    | automl_libs.stack_layer_estimator.XgboostBLE.train                | #208 | No evaluation set, thus not possible to use early stopping. Please train with your best params.\n"
     ]
    },
    {
     "name": "stdout",
     "output_type": "stream",
     "text": [
      "[0]\ttrain-auc:0.702363\n",
      "[4]\ttrain-auc:0.715444\n",
      "[8]\ttrain-auc:0.721959\n",
      "[12]\ttrain-auc:0.725375\n",
      "[16]\ttrain-auc:0.729242\n",
      "[20]\ttrain-auc:0.733549\n",
      "[24]\ttrain-auc:0.737803\n",
      "[28]\ttrain-auc:0.741483\n",
      "[32]\ttrain-auc:0.745426\n",
      "[36]\ttrain-auc:0.749365\n",
      "[40]\ttrain-auc:0.75247\n",
      "[44]\ttrain-auc:0.755126\n",
      "[45]\ttrain-auc:0.755931\n"
     ]
    },
    {
     "name": "stderr",
     "output_type": "stream",
     "text": [
      "2018-07-18 15:24:34 | INFO    | automl_libs.base_layer_utils.BaseLayerResultsRepo.update_report        | #280 | StackNet report updated: IJfZ__XGB_ordinal2_layer1: oof_cv_score => 0.722201974529901\n",
      "2018-07-18 15:24:34 | INFO    | automl_libs.base_layer_utils.BaseLayerResultsRepo.add_score            | #299 | IJfZ__XGB_ordinal2_layer1 found in repo. Update score from 0 to 0.72181\n",
      "2018-07-18 15:24:34 | INFO    | automl_libs.base_layer_utils.BaseLayerResultsRepo.update_report        | #280 | StackNet report updated: IJfZ__XGB_ordinal2_layer1: gs_val_auc => 0.7218148\n",
      "2018-07-18 15:24:34 | INFO    | automl_libs.base_layer_utils.BaseLayerResultsRepo.update_report        | #280 | StackNet report updated: IJfZ__XGB_ordinal2_layer1: test_score => 0.7150854023143463\n",
      "2018-07-18 15:24:34 | INFO    | automl_libs.base_layer_utils.BaseLayerResultsRepo.save                 | #393 | StackNet data saved for: ['IJfZ__XGB_ordinal2_layer1']\n",
      "2018-07-18 15:24:34 | INFO    | automl_libs.base_layer_utils.BaseLayerResultsRepo.save                 | #397 | StackNet report saved at ./output/oof/stacknet_report.csv\n",
      "2018-07-18 15:24:34 | INFO    | automl_libs.stacknet.layer1               | #74  | using xgb params: apB6 to do oof\n",
      "2018-07-18 15:24:34 | DEBUG   | automl_libs.stacknet.layer1               | #75  | {'num_boost_round': 50, 'tree_method': 'hist', 'train_auc': 0.7637686, 'booster': 'gbtree', 'seed': 16032475, 'gs_timespent': '0:00:02', 'pred_timespent': '0:00:00', 'alpha': 0, 'eval_metric': 'auc', 'timestamp': '2018-07-18 15:24:29', 'best_round': 50, 'colsample_bytree': 0.7, 'subsample': 0.7, 'val_auc': 0.7225952000000001, 'lambda': 0, 'scale_pos_weight': 1, 'max_depth': 6, 'nthread': 10, 'gamma': 0, 'eta': 0.1, 'min_child_weight': 22, 'data_name': 'ordinal2', 'max_bin': 8, 'colsample_bylevel': 0.675, 'cv': True, 'objective': 'binary:logistic', 'early_stopping_rounds': 1}\n",
      "2018-07-18 15:24:34 | INFO    | automl_libs.base_layer_utils.compute_layer1_oof   | #499 | StackNet layer1: label: label    model_data_id: apB6__XGB_ordinal2_layer1\n",
      "2018-07-18 15:24:34 | INFO    | automl_libs.base_layer_utils.get_oof              | #435 | processing fold 1 of 5...\n",
      "2018-07-18 15:24:34 | INFO    | automl_libs.stack_layer_estimator.XgboostBLE.train                | #208 | No evaluation set, thus not possible to use early stopping. Please train with your best params.\n"
     ]
    },
    {
     "name": "stdout",
     "output_type": "stream",
     "text": [
      "[0]\ttrain-auc:0.65438\n",
      "[5]\ttrain-auc:0.709825\n",
      "[10]\ttrain-auc:0.721638\n",
      "[15]\ttrain-auc:0.729796\n",
      "[20]\ttrain-auc:0.735219\n",
      "[25]\ttrain-auc:0.740349\n",
      "[30]\ttrain-auc:0.744658\n",
      "[35]\ttrain-auc:0.750855\n",
      "[40]\ttrain-auc:0.75669\n",
      "[45]\ttrain-auc:0.761521\n",
      "[49]\ttrain-auc:0.765659\n"
     ]
    },
    {
     "name": "stderr",
     "output_type": "stream",
     "text": [
      "2018-07-18 15:24:35 | INFO    | automl_libs.base_layer_utils.get_oof              | #449 | metric of fold 1: 0.7253376691295227\n",
      "2018-07-18 15:24:35 | INFO    | automl_libs.base_layer_utils.get_oof              | #435 | processing fold 2 of 5...\n",
      "2018-07-18 15:24:35 | INFO    | automl_libs.stack_layer_estimator.XgboostBLE.train                | #208 | No evaluation set, thus not possible to use early stopping. Please train with your best params.\n"
     ]
    },
    {
     "name": "stdout",
     "output_type": "stream",
     "text": [
      "[0]\ttrain-auc:0.646489\n",
      "[5]\ttrain-auc:0.714473\n",
      "[10]\ttrain-auc:0.726951\n",
      "[15]\ttrain-auc:0.733512\n",
      "[20]\ttrain-auc:0.738061\n",
      "[25]\ttrain-auc:0.743275\n",
      "[30]\ttrain-auc:0.748958\n",
      "[35]\ttrain-auc:0.754086\n",
      "[40]\ttrain-auc:0.757631\n",
      "[45]\ttrain-auc:0.761982\n",
      "[49]\ttrain-auc:0.76582\n"
     ]
    },
    {
     "name": "stderr",
     "output_type": "stream",
     "text": [
      "2018-07-18 15:24:35 | INFO    | automl_libs.base_layer_utils.get_oof              | #449 | metric of fold 2: 0.712601802167351\n",
      "2018-07-18 15:24:35 | INFO    | automl_libs.base_layer_utils.get_oof              | #435 | processing fold 3 of 5...\n",
      "2018-07-18 15:24:35 | INFO    | automl_libs.stack_layer_estimator.XgboostBLE.train                | #208 | No evaluation set, thus not possible to use early stopping. Please train with your best params.\n"
     ]
    },
    {
     "name": "stdout",
     "output_type": "stream",
     "text": [
      "[0]\ttrain-auc:0.629416\n",
      "[5]\ttrain-auc:0.717316\n",
      "[10]\ttrain-auc:0.723516\n",
      "[15]\ttrain-auc:0.729058\n",
      "[20]\ttrain-auc:0.735876\n",
      "[25]\ttrain-auc:0.739639\n",
      "[30]\ttrain-auc:0.745467\n",
      "[35]\ttrain-auc:0.750512\n",
      "[40]\ttrain-auc:0.756671\n",
      "[45]\ttrain-auc:0.760924\n",
      "[49]\ttrain-auc:0.764383\n"
     ]
    },
    {
     "name": "stderr",
     "output_type": "stream",
     "text": [
      "2018-07-18 15:24:35 | INFO    | automl_libs.base_layer_utils.get_oof              | #449 | metric of fold 3: 0.7324464682188973\n",
      "2018-07-18 15:24:35 | INFO    | automl_libs.base_layer_utils.get_oof              | #435 | processing fold 4 of 5...\n",
      "2018-07-18 15:24:35 | INFO    | automl_libs.stack_layer_estimator.XgboostBLE.train                | #208 | No evaluation set, thus not possible to use early stopping. Please train with your best params.\n"
     ]
    },
    {
     "name": "stdout",
     "output_type": "stream",
     "text": [
      "[0]\ttrain-auc:0.702601\n",
      "[5]\ttrain-auc:0.72115\n",
      "[10]\ttrain-auc:0.729537\n",
      "[15]\ttrain-auc:0.734309\n",
      "[20]\ttrain-auc:0.737618\n",
      "[25]\ttrain-auc:0.741389\n",
      "[30]\ttrain-auc:0.745839\n",
      "[35]\ttrain-auc:0.750355\n",
      "[40]\ttrain-auc:0.755528\n",
      "[45]\ttrain-auc:0.759635\n",
      "[49]\ttrain-auc:0.762348\n"
     ]
    },
    {
     "name": "stderr",
     "output_type": "stream",
     "text": [
      "2018-07-18 15:24:36 | INFO    | automl_libs.base_layer_utils.get_oof              | #449 | metric of fold 4: 0.7267806743266345\n",
      "2018-07-18 15:24:36 | INFO    | automl_libs.base_layer_utils.get_oof              | #435 | processing fold 5 of 5...\n",
      "2018-07-18 15:24:36 | INFO    | automl_libs.stack_layer_estimator.XgboostBLE.train                | #208 | No evaluation set, thus not possible to use early stopping. Please train with your best params.\n"
     ]
    },
    {
     "name": "stdout",
     "output_type": "stream",
     "text": [
      "[0]\ttrain-auc:0.704337\n",
      "[5]\ttrain-auc:0.719691\n",
      "[10]\ttrain-auc:0.726798\n",
      "[15]\ttrain-auc:0.731906\n",
      "[20]\ttrain-auc:0.73689\n",
      "[25]\ttrain-auc:0.741594\n",
      "[30]\ttrain-auc:0.746731\n",
      "[35]\ttrain-auc:0.752022\n",
      "[40]\ttrain-auc:0.75662\n",
      "[45]\ttrain-auc:0.761392\n",
      "[49]\ttrain-auc:0.763579\n"
     ]
    },
    {
     "name": "stderr",
     "output_type": "stream",
     "text": [
      "2018-07-18 15:24:36 | INFO    | automl_libs.base_layer_utils.get_oof              | #449 | metric of fold 5: 0.7195589038079377\n",
      "2018-07-18 15:24:36 | INFO    | automl_libs.base_layer_utils.compute_layer1_oof   | #528 | oof is done\n",
      "2018-07-18 15:24:36 | INFO    | automl_libs.base_layer_utils.compute_layer1_oof   | #532 | Training using all data and gen prediction for submission...\n",
      "2018-07-18 15:24:36 | INFO    | automl_libs.stack_layer_estimator.XgboostBLE.train                | #208 | No evaluation set, thus not possible to use early stopping. Please train with your best params.\n"
     ]
    },
    {
     "name": "stdout",
     "output_type": "stream",
     "text": [
      "[0]\ttrain-auc:0.703293\n",
      "[5]\ttrain-auc:0.719287\n",
      "[10]\ttrain-auc:0.725151\n",
      "[15]\ttrain-auc:0.728777\n",
      "[20]\ttrain-auc:0.734332\n",
      "[25]\ttrain-auc:0.739297\n",
      "[30]\ttrain-auc:0.743274\n",
      "[35]\ttrain-auc:0.747879\n",
      "[40]\ttrain-auc:0.752416\n",
      "[45]\ttrain-auc:0.75643\n",
      "[49]\ttrain-auc:0.760564\n"
     ]
    },
    {
     "name": "stderr",
     "output_type": "stream",
     "text": [
      "2018-07-18 15:24:37 | INFO    | automl_libs.base_layer_utils.BaseLayerResultsRepo.update_report        | #280 | StackNet report updated: apB6__XGB_ordinal2_layer1: oof_cv_score => 0.7233451035300688\n",
      "2018-07-18 15:24:37 | INFO    | automl_libs.base_layer_utils.BaseLayerResultsRepo.add_score            | #299 | apB6__XGB_ordinal2_layer1 found in repo. Update score from 0 to 0.72260\n",
      "2018-07-18 15:24:37 | INFO    | automl_libs.base_layer_utils.BaseLayerResultsRepo.update_report        | #280 | StackNet report updated: apB6__XGB_ordinal2_layer1: gs_val_auc => 0.7225952000000001\n",
      "2018-07-18 15:24:37 | INFO    | automl_libs.base_layer_utils.BaseLayerResultsRepo.update_report        | #280 | StackNet report updated: apB6__XGB_ordinal2_layer1: test_score => 0.7147251478958567\n",
      "2018-07-18 15:24:37 | INFO    | automl_libs.base_layer_utils.BaseLayerResultsRepo.save                 | #393 | StackNet data saved for: ['IJfZ__XGB_ordinal2_layer1', 'apB6__XGB_ordinal2_layer1']\n",
      "2018-07-18 15:24:37 | INFO    | automl_libs.base_layer_utils.BaseLayerResultsRepo.save                 | #397 | StackNet report saved at ./output/oof/stacknet_report.csv\n",
      "2018-07-18 15:24:37 | INFO    | automl_app.app.AlphaBoosting.__init__             | #82  | save run record\n",
      "2018-07-18 15:24:37 | INFO    | automl_app.app.AlphaBoosting._save_run_record     | #186 | val index is saved at ./temp_data/val_index.pkl\n",
      "2018-07-18 15:24:37 | INFO    | automl_app.app.AlphaBoosting._save_run_record     | #188 | run record is saved at ./output/last_run_record.json\n"
     ]
    },
    {
     "data": {
      "text/plain": [
       "<automl_app.app.AlphaBoosting at 0x7fbdde55bcc0>"
      ]
     },
     "execution_count": 12,
     "metadata": {},
     "output_type": "execute_result"
    }
   ],
   "source": [
    "from automl_app.app import AlphaBoosting\n",
    "\n",
    "automl_config_file = project_path + 'automl_config.json'\n",
    "run_record_file_name = project_path + 'last_run_record.json' # don't created this file\n",
    "AlphaBoosting(automl_config_file, features_to_gen, params_gen)"
   ]
  }
 ],
 "metadata": {
  "kernelspec": {
   "display_name": "Python 3.5 (tf_gpu)",
   "language": "python",
   "name": "tf_gpu"
  },
  "language_info": {
   "codemirror_mode": {
    "name": "ipython",
    "version": 3
   },
   "file_extension": ".py",
   "mimetype": "text/x-python",
   "name": "python",
   "nbconvert_exporter": "python",
   "pygments_lexer": "ipython3",
   "version": "3.5.5"
  },
  "varInspector": {
   "cols": {
    "lenName": 16,
    "lenType": 16,
    "lenVar": 40
   },
   "kernels_config": {
    "python": {
     "delete_cmd_postfix": "",
     "delete_cmd_prefix": "del ",
     "library": "var_list.py",
     "varRefreshCmd": "print(var_dic_list())"
    },
    "r": {
     "delete_cmd_postfix": ") ",
     "delete_cmd_prefix": "rm(",
     "library": "var_list.r",
     "varRefreshCmd": "cat(var_dic_list()) "
    }
   },
   "types_to_exclude": [
    "module",
    "function",
    "builtin_function_or_method",
    "instance",
    "_Feature"
   ],
   "window_display": false
  }
 },
 "nbformat": 4,
 "nbformat_minor": 2
}
