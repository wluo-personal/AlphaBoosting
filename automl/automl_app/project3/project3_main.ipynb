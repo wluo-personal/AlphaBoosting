{
 "cells": [
  {
   "cell_type": "code",
   "execution_count": 1,
   "metadata": {
    "ExecuteTime": {
     "end_time": "2018-06-18T15:21:03.764969Z",
     "start_time": "2018-06-18T15:21:03.757733Z"
    },
    "collapsed": true
   },
   "outputs": [],
   "source": [
    "import os\n",
    "import sys\n",
    "#nb_dir = os.path.split(os.getcwd())[0]\n",
    "#if nb_dir not in sys.path:\n",
    "#    sys.path.append(nb_dir)\n",
    "    \n",
    "autolib_dir = '/home/kai/data/shiyi/AlphaBoosting/automl'\n",
    "if autolib_dir not in sys.path:\n",
    "    sys.path.append(autolib_dir)\n"
   ]
  },
  {
   "cell_type": "code",
   "execution_count": 2,
   "metadata": {
    "ExecuteTime": {
     "end_time": "2018-06-18T15:21:14.317986Z",
     "start_time": "2018-06-18T15:21:14.302956Z"
    }
   },
   "outputs": [
    {
     "data": {
      "text/plain": [
       "['',\n",
       " '/home/kai/anaconda3/lib/python36.zip',\n",
       " '/home/kai/anaconda3/lib/python3.6',\n",
       " '/home/kai/anaconda3/lib/python3.6/lib-dynload',\n",
       " '/home/kai/anaconda3/lib/python3.6/site-packages',\n",
       " '/home/kai/anaconda3/lib/python3.6/site-packages/xgboost-0.7-py3.6.egg',\n",
       " '/home/kai/anaconda3/lib/python3.6/site-packages/duckling-1.8.0-py3.6.egg',\n",
       " '/home/kai/anaconda3/lib/python3.6/site-packages/JPype1-0.6.3-py3.6-linux-x86_64.egg',\n",
       " '/home/kai/anaconda3/lib/python3.6/site-packages/IPython/extensions',\n",
       " '/home/kai/.ipython',\n",
       " '/home/kai/data/shiyi/AlphaBoosting/automl']"
      ]
     },
     "execution_count": 2,
     "metadata": {},
     "output_type": "execute_result"
    }
   ],
   "source": [
    "sys.path"
   ]
  },
  {
   "cell_type": "code",
   "execution_count": 3,
   "metadata": {
    "ExecuteTime": {
     "end_time": "2018-06-18T15:21:17.962906Z",
     "start_time": "2018-06-18T15:21:17.941476Z"
    },
    "collapsed": true
   },
   "outputs": [],
   "source": [
    "%load_ext autoreload"
   ]
  },
  {
   "cell_type": "code",
   "execution_count": 4,
   "metadata": {
    "ExecuteTime": {
     "end_time": "2018-06-18T15:21:18.109429Z",
     "start_time": "2018-06-18T15:21:18.105514Z"
    },
    "collapsed": true
   },
   "outputs": [],
   "source": [
    "%autoreload 2"
   ]
  },
  {
   "cell_type": "code",
   "execution_count": 5,
   "metadata": {
    "ExecuteTime": {
     "end_time": "2018-06-18T15:21:58.743443Z",
     "start_time": "2018-06-18T15:21:58.519128Z"
    },
    "collapsed": true
   },
   "outputs": [],
   "source": [
    "from automl_libs import feature_engineering as fe\n",
    "from automl_libs import encoding, kernels "
   ]
  },
  {
   "cell_type": "code",
   "execution_count": 6,
   "metadata": {
    "ExecuteTime": {
     "end_time": "2018-06-15T19:19:11.639295Z",
     "start_time": "2018-06-15T19:19:11.625892Z"
    },
    "collapsed": true
   },
   "outputs": [],
   "source": [
    "# params\n",
    "#param = {'trainLen': self.train_len, 'splitCol': 'a', 'col': self.label, 'coefficient': 10, 'n': 2, 'fillna': 22}\n",
    "# feature_engineering_dict.append({'params': params, 'function': 'count', 'feature_cols': ['a','b']})\n",
    "# feature_engineering_dict.append({'params': params, 'function': 'unique_count', 'feature_cols': ['a','b']})\n",
    "# feature_engineering_dict.append({'params': params, 'function': 'cumulative_count', 'feature_cols': ['a','b']})\n",
    "# feature_engineering_dict.append({'params': params, 'function': 'reverse_cumulative_count', 'feature_cols': ['a','b']})\n",
    "# feature_engineering_dict.append({'params': params, 'function': 'variance', 'feature_cols': ['a','n']})\n",
    "# feature_engineering_dict.append({'params': params, 'function': 'count_std_over_mean', 'feature_cols': ['a','b']})\n",
    "\n",
    "\n",
    "# feature_engineering_dict.append({'params': params, 'function': 'time_to_n_next', 'feature_cols': ['a','t']})\n",
    "# feature_engineering_dict.append({'params': params, 'function': 'count_in_previous_n_time_unit', 'feature_cols': ['a','t']})\n",
    "# feature_engineering_dict.append({'params': params, 'function': 'count_in_next_n_time_unit', 'feature_cols': ['a','t']})\n",
    "\n",
    "# feature_engineering_dict.append({'params': params, 'function': 'woe', 'feature_cols': ['a']})\n",
    "# feature_engineering_dict.append({'params': params, 'function': 'chi_square', 'feature_cols': ['a']})\n",
    "# feature_engineering_dict.append({'params': params, 'function': 'mean', 'feature_cols': ['a']})"
   ]
  },
  {
   "cell_type": "code",
   "execution_count": 6,
   "metadata": {
    "ExecuteTime": {
     "end_time": "2018-06-18T15:24:34.179787Z",
     "start_time": "2018-06-18T15:24:34.157816Z"
    },
    "collapsed": true
   },
   "outputs": [],
   "source": [
    "categorical_features = ['user', 'movie', 'age', 'gender', 'occupation', 'zip', 'released']"
   ]
  },
  {
   "cell_type": "code",
   "execution_count": 7,
   "metadata": {
    "ExecuteTime": {
     "end_time": "2018-06-18T15:24:53.407892Z",
     "start_time": "2018-06-18T15:24:53.362151Z"
    }
   },
   "outputs": [
    {
     "data": {
      "text/plain": [
       "[{'feature_cols': ['user', 'movie'],\n",
       "  'function': <function automl_libs.feature_engineering.count>,\n",
       "  'params': {}},\n",
       " {'feature_cols': ['user', 'age'],\n",
       "  'function': <function automl_libs.feature_engineering.count>,\n",
       "  'params': {}},\n",
       " {'feature_cols': ['user', 'gender'],\n",
       "  'function': <function automl_libs.feature_engineering.count>,\n",
       "  'params': {}},\n",
       " {'feature_cols': ['user', 'occupation'],\n",
       "  'function': <function automl_libs.feature_engineering.count>,\n",
       "  'params': {}},\n",
       " {'feature_cols': ['user', 'zip'],\n",
       "  'function': <function automl_libs.feature_engineering.count>,\n",
       "  'params': {}},\n",
       " {'feature_cols': ['user', 'released'],\n",
       "  'function': <function automl_libs.feature_engineering.count>,\n",
       "  'params': {}},\n",
       " {'feature_cols': ['movie', 'age'],\n",
       "  'function': <function automl_libs.feature_engineering.count>,\n",
       "  'params': {}},\n",
       " {'feature_cols': ['movie', 'gender'],\n",
       "  'function': <function automl_libs.feature_engineering.count>,\n",
       "  'params': {}},\n",
       " {'feature_cols': ['movie', 'occupation'],\n",
       "  'function': <function automl_libs.feature_engineering.count>,\n",
       "  'params': {}},\n",
       " {'feature_cols': ['movie', 'zip'],\n",
       "  'function': <function automl_libs.feature_engineering.count>,\n",
       "  'params': {}},\n",
       " {'feature_cols': ['movie', 'released'],\n",
       "  'function': <function automl_libs.feature_engineering.count>,\n",
       "  'params': {}},\n",
       " {'feature_cols': ['age', 'gender'],\n",
       "  'function': <function automl_libs.feature_engineering.count>,\n",
       "  'params': {}},\n",
       " {'feature_cols': ['age', 'occupation'],\n",
       "  'function': <function automl_libs.feature_engineering.count>,\n",
       "  'params': {}},\n",
       " {'feature_cols': ['age', 'zip'],\n",
       "  'function': <function automl_libs.feature_engineering.count>,\n",
       "  'params': {}},\n",
       " {'feature_cols': ['age', 'released'],\n",
       "  'function': <function automl_libs.feature_engineering.count>,\n",
       "  'params': {}},\n",
       " {'feature_cols': ['gender', 'occupation'],\n",
       "  'function': <function automl_libs.feature_engineering.count>,\n",
       "  'params': {}},\n",
       " {'feature_cols': ['gender', 'zip'],\n",
       "  'function': <function automl_libs.feature_engineering.count>,\n",
       "  'params': {}},\n",
       " {'feature_cols': ['gender', 'released'],\n",
       "  'function': <function automl_libs.feature_engineering.count>,\n",
       "  'params': {}},\n",
       " {'feature_cols': ['occupation', 'zip'],\n",
       "  'function': <function automl_libs.feature_engineering.count>,\n",
       "  'params': {}},\n",
       " {'feature_cols': ['occupation', 'released'],\n",
       "  'function': <function automl_libs.feature_engineering.count>,\n",
       "  'params': {}},\n",
       " {'feature_cols': ['zip', 'released'],\n",
       "  'function': <function automl_libs.feature_engineering.count>,\n",
       "  'params': {}},\n",
       " {'feature_cols': ['user', 'movie', 'age'],\n",
       "  'function': <function automl_libs.feature_engineering.count>,\n",
       "  'params': {}},\n",
       " {'feature_cols': ['user', 'movie', 'gender'],\n",
       "  'function': <function automl_libs.feature_engineering.count>,\n",
       "  'params': {}},\n",
       " {'feature_cols': ['user', 'movie', 'occupation'],\n",
       "  'function': <function automl_libs.feature_engineering.count>,\n",
       "  'params': {}},\n",
       " {'feature_cols': ['user', 'movie', 'zip'],\n",
       "  'function': <function automl_libs.feature_engineering.count>,\n",
       "  'params': {}},\n",
       " {'feature_cols': ['user', 'movie', 'released'],\n",
       "  'function': <function automl_libs.feature_engineering.count>,\n",
       "  'params': {}},\n",
       " {'feature_cols': ['user', 'age', 'gender'],\n",
       "  'function': <function automl_libs.feature_engineering.count>,\n",
       "  'params': {}},\n",
       " {'feature_cols': ['user', 'age', 'occupation'],\n",
       "  'function': <function automl_libs.feature_engineering.count>,\n",
       "  'params': {}},\n",
       " {'feature_cols': ['user', 'age', 'zip'],\n",
       "  'function': <function automl_libs.feature_engineering.count>,\n",
       "  'params': {}},\n",
       " {'feature_cols': ['user', 'age', 'released'],\n",
       "  'function': <function automl_libs.feature_engineering.count>,\n",
       "  'params': {}},\n",
       " {'feature_cols': ['user', 'gender', 'occupation'],\n",
       "  'function': <function automl_libs.feature_engineering.count>,\n",
       "  'params': {}},\n",
       " {'feature_cols': ['user', 'gender', 'zip'],\n",
       "  'function': <function automl_libs.feature_engineering.count>,\n",
       "  'params': {}},\n",
       " {'feature_cols': ['user', 'gender', 'released'],\n",
       "  'function': <function automl_libs.feature_engineering.count>,\n",
       "  'params': {}},\n",
       " {'feature_cols': ['user', 'occupation', 'zip'],\n",
       "  'function': <function automl_libs.feature_engineering.count>,\n",
       "  'params': {}},\n",
       " {'feature_cols': ['user', 'occupation', 'released'],\n",
       "  'function': <function automl_libs.feature_engineering.count>,\n",
       "  'params': {}},\n",
       " {'feature_cols': ['user', 'zip', 'released'],\n",
       "  'function': <function automl_libs.feature_engineering.count>,\n",
       "  'params': {}},\n",
       " {'feature_cols': ['movie', 'age', 'gender'],\n",
       "  'function': <function automl_libs.feature_engineering.count>,\n",
       "  'params': {}},\n",
       " {'feature_cols': ['movie', 'age', 'occupation'],\n",
       "  'function': <function automl_libs.feature_engineering.count>,\n",
       "  'params': {}},\n",
       " {'feature_cols': ['movie', 'age', 'zip'],\n",
       "  'function': <function automl_libs.feature_engineering.count>,\n",
       "  'params': {}},\n",
       " {'feature_cols': ['movie', 'age', 'released'],\n",
       "  'function': <function automl_libs.feature_engineering.count>,\n",
       "  'params': {}},\n",
       " {'feature_cols': ['movie', 'gender', 'occupation'],\n",
       "  'function': <function automl_libs.feature_engineering.count>,\n",
       "  'params': {}},\n",
       " {'feature_cols': ['movie', 'gender', 'zip'],\n",
       "  'function': <function automl_libs.feature_engineering.count>,\n",
       "  'params': {}},\n",
       " {'feature_cols': ['movie', 'gender', 'released'],\n",
       "  'function': <function automl_libs.feature_engineering.count>,\n",
       "  'params': {}},\n",
       " {'feature_cols': ['movie', 'occupation', 'zip'],\n",
       "  'function': <function automl_libs.feature_engineering.count>,\n",
       "  'params': {}},\n",
       " {'feature_cols': ['movie', 'occupation', 'released'],\n",
       "  'function': <function automl_libs.feature_engineering.count>,\n",
       "  'params': {}},\n",
       " {'feature_cols': ['movie', 'zip', 'released'],\n",
       "  'function': <function automl_libs.feature_engineering.count>,\n",
       "  'params': {}},\n",
       " {'feature_cols': ['age', 'gender', 'occupation'],\n",
       "  'function': <function automl_libs.feature_engineering.count>,\n",
       "  'params': {}},\n",
       " {'feature_cols': ['age', 'gender', 'zip'],\n",
       "  'function': <function automl_libs.feature_engineering.count>,\n",
       "  'params': {}},\n",
       " {'feature_cols': ['age', 'gender', 'released'],\n",
       "  'function': <function automl_libs.feature_engineering.count>,\n",
       "  'params': {}},\n",
       " {'feature_cols': ['age', 'occupation', 'zip'],\n",
       "  'function': <function automl_libs.feature_engineering.count>,\n",
       "  'params': {}},\n",
       " {'feature_cols': ['age', 'occupation', 'released'],\n",
       "  'function': <function automl_libs.feature_engineering.count>,\n",
       "  'params': {}},\n",
       " {'feature_cols': ['age', 'zip', 'released'],\n",
       "  'function': <function automl_libs.feature_engineering.count>,\n",
       "  'params': {}},\n",
       " {'feature_cols': ['gender', 'occupation', 'zip'],\n",
       "  'function': <function automl_libs.feature_engineering.count>,\n",
       "  'params': {}},\n",
       " {'feature_cols': ['gender', 'occupation', 'released'],\n",
       "  'function': <function automl_libs.feature_engineering.count>,\n",
       "  'params': {}},\n",
       " {'feature_cols': ['gender', 'zip', 'released'],\n",
       "  'function': <function automl_libs.feature_engineering.count>,\n",
       "  'params': {}},\n",
       " {'feature_cols': ['occupation', 'zip', 'released'],\n",
       "  'function': <function automl_libs.feature_engineering.count>,\n",
       "  'params': {}},\n",
       " {'feature_cols': ['user', 'movie', 'age', 'gender'],\n",
       "  'function': <function automl_libs.feature_engineering.count>,\n",
       "  'params': {}},\n",
       " {'feature_cols': ['user', 'movie', 'age', 'occupation'],\n",
       "  'function': <function automl_libs.feature_engineering.count>,\n",
       "  'params': {}},\n",
       " {'feature_cols': ['user', 'movie', 'age', 'zip'],\n",
       "  'function': <function automl_libs.feature_engineering.count>,\n",
       "  'params': {}},\n",
       " {'feature_cols': ['user', 'movie', 'age', 'released'],\n",
       "  'function': <function automl_libs.feature_engineering.count>,\n",
       "  'params': {}},\n",
       " {'feature_cols': ['user', 'movie', 'gender', 'occupation'],\n",
       "  'function': <function automl_libs.feature_engineering.count>,\n",
       "  'params': {}},\n",
       " {'feature_cols': ['user', 'movie', 'gender', 'zip'],\n",
       "  'function': <function automl_libs.feature_engineering.count>,\n",
       "  'params': {}},\n",
       " {'feature_cols': ['user', 'movie', 'gender', 'released'],\n",
       "  'function': <function automl_libs.feature_engineering.count>,\n",
       "  'params': {}},\n",
       " {'feature_cols': ['user', 'movie', 'occupation', 'zip'],\n",
       "  'function': <function automl_libs.feature_engineering.count>,\n",
       "  'params': {}},\n",
       " {'feature_cols': ['user', 'movie', 'occupation', 'released'],\n",
       "  'function': <function automl_libs.feature_engineering.count>,\n",
       "  'params': {}},\n",
       " {'feature_cols': ['user', 'movie', 'zip', 'released'],\n",
       "  'function': <function automl_libs.feature_engineering.count>,\n",
       "  'params': {}},\n",
       " {'feature_cols': ['user', 'age', 'gender', 'occupation'],\n",
       "  'function': <function automl_libs.feature_engineering.count>,\n",
       "  'params': {}},\n",
       " {'feature_cols': ['user', 'age', 'gender', 'zip'],\n",
       "  'function': <function automl_libs.feature_engineering.count>,\n",
       "  'params': {}},\n",
       " {'feature_cols': ['user', 'age', 'gender', 'released'],\n",
       "  'function': <function automl_libs.feature_engineering.count>,\n",
       "  'params': {}},\n",
       " {'feature_cols': ['user', 'age', 'occupation', 'zip'],\n",
       "  'function': <function automl_libs.feature_engineering.count>,\n",
       "  'params': {}},\n",
       " {'feature_cols': ['user', 'age', 'occupation', 'released'],\n",
       "  'function': <function automl_libs.feature_engineering.count>,\n",
       "  'params': {}},\n",
       " {'feature_cols': ['user', 'age', 'zip', 'released'],\n",
       "  'function': <function automl_libs.feature_engineering.count>,\n",
       "  'params': {}},\n",
       " {'feature_cols': ['user', 'gender', 'occupation', 'zip'],\n",
       "  'function': <function automl_libs.feature_engineering.count>,\n",
       "  'params': {}},\n",
       " {'feature_cols': ['user', 'gender', 'occupation', 'released'],\n",
       "  'function': <function automl_libs.feature_engineering.count>,\n",
       "  'params': {}},\n",
       " {'feature_cols': ['user', 'gender', 'zip', 'released'],\n",
       "  'function': <function automl_libs.feature_engineering.count>,\n",
       "  'params': {}},\n",
       " {'feature_cols': ['user', 'occupation', 'zip', 'released'],\n",
       "  'function': <function automl_libs.feature_engineering.count>,\n",
       "  'params': {}},\n",
       " {'feature_cols': ['movie', 'age', 'gender', 'occupation'],\n",
       "  'function': <function automl_libs.feature_engineering.count>,\n",
       "  'params': {}},\n",
       " {'feature_cols': ['movie', 'age', 'gender', 'zip'],\n",
       "  'function': <function automl_libs.feature_engineering.count>,\n",
       "  'params': {}},\n",
       " {'feature_cols': ['movie', 'age', 'gender', 'released'],\n",
       "  'function': <function automl_libs.feature_engineering.count>,\n",
       "  'params': {}},\n",
       " {'feature_cols': ['movie', 'age', 'occupation', 'zip'],\n",
       "  'function': <function automl_libs.feature_engineering.count>,\n",
       "  'params': {}},\n",
       " {'feature_cols': ['movie', 'age', 'occupation', 'released'],\n",
       "  'function': <function automl_libs.feature_engineering.count>,\n",
       "  'params': {}},\n",
       " {'feature_cols': ['movie', 'age', 'zip', 'released'],\n",
       "  'function': <function automl_libs.feature_engineering.count>,\n",
       "  'params': {}},\n",
       " {'feature_cols': ['movie', 'gender', 'occupation', 'zip'],\n",
       "  'function': <function automl_libs.feature_engineering.count>,\n",
       "  'params': {}},\n",
       " {'feature_cols': ['movie', 'gender', 'occupation', 'released'],\n",
       "  'function': <function automl_libs.feature_engineering.count>,\n",
       "  'params': {}},\n",
       " {'feature_cols': ['movie', 'gender', 'zip', 'released'],\n",
       "  'function': <function automl_libs.feature_engineering.count>,\n",
       "  'params': {}},\n",
       " {'feature_cols': ['movie', 'occupation', 'zip', 'released'],\n",
       "  'function': <function automl_libs.feature_engineering.count>,\n",
       "  'params': {}},\n",
       " {'feature_cols': ['age', 'gender', 'occupation', 'zip'],\n",
       "  'function': <function automl_libs.feature_engineering.count>,\n",
       "  'params': {}},\n",
       " {'feature_cols': ['age', 'gender', 'occupation', 'released'],\n",
       "  'function': <function automl_libs.feature_engineering.count>,\n",
       "  'params': {}},\n",
       " {'feature_cols': ['age', 'gender', 'zip', 'released'],\n",
       "  'function': <function automl_libs.feature_engineering.count>,\n",
       "  'params': {}},\n",
       " {'feature_cols': ['age', 'occupation', 'zip', 'released'],\n",
       "  'function': <function automl_libs.feature_engineering.count>,\n",
       "  'params': {}},\n",
       " {'feature_cols': ['gender', 'occupation', 'zip', 'released'],\n",
       "  'function': <function automl_libs.feature_engineering.count>,\n",
       "  'params': {}},\n",
       " {'feature_cols': ['user', 'movie', 'age', 'gender', 'occupation'],\n",
       "  'function': <function automl_libs.feature_engineering.count>,\n",
       "  'params': {}},\n",
       " {'feature_cols': ['user', 'movie', 'age', 'gender', 'zip'],\n",
       "  'function': <function automl_libs.feature_engineering.count>,\n",
       "  'params': {}},\n",
       " {'feature_cols': ['user', 'movie', 'age', 'gender', 'released'],\n",
       "  'function': <function automl_libs.feature_engineering.count>,\n",
       "  'params': {}},\n",
       " {'feature_cols': ['user', 'movie', 'age', 'occupation', 'zip'],\n",
       "  'function': <function automl_libs.feature_engineering.count>,\n",
       "  'params': {}},\n",
       " {'feature_cols': ['user', 'movie', 'age', 'occupation', 'released'],\n",
       "  'function': <function automl_libs.feature_engineering.count>,\n",
       "  'params': {}},\n",
       " {'feature_cols': ['user', 'movie', 'age', 'zip', 'released'],\n",
       "  'function': <function automl_libs.feature_engineering.count>,\n",
       "  'params': {}},\n",
       " {'feature_cols': ['user', 'movie', 'gender', 'occupation', 'zip'],\n",
       "  'function': <function automl_libs.feature_engineering.count>,\n",
       "  'params': {}},\n",
       " {'feature_cols': ['user', 'movie', 'gender', 'occupation', 'released'],\n",
       "  'function': <function automl_libs.feature_engineering.count>,\n",
       "  'params': {}},\n",
       " {'feature_cols': ['user', 'movie', 'gender', 'zip', 'released'],\n",
       "  'function': <function automl_libs.feature_engineering.count>,\n",
       "  'params': {}},\n",
       " {'feature_cols': ['user', 'movie', 'occupation', 'zip', 'released'],\n",
       "  'function': <function automl_libs.feature_engineering.count>,\n",
       "  'params': {}},\n",
       " {'feature_cols': ['user', 'age', 'gender', 'occupation', 'zip'],\n",
       "  'function': <function automl_libs.feature_engineering.count>,\n",
       "  'params': {}},\n",
       " {'feature_cols': ['user', 'age', 'gender', 'occupation', 'released'],\n",
       "  'function': <function automl_libs.feature_engineering.count>,\n",
       "  'params': {}},\n",
       " {'feature_cols': ['user', 'age', 'gender', 'zip', 'released'],\n",
       "  'function': <function automl_libs.feature_engineering.count>,\n",
       "  'params': {}},\n",
       " {'feature_cols': ['user', 'age', 'occupation', 'zip', 'released'],\n",
       "  'function': <function automl_libs.feature_engineering.count>,\n",
       "  'params': {}},\n",
       " {'feature_cols': ['user', 'gender', 'occupation', 'zip', 'released'],\n",
       "  'function': <function automl_libs.feature_engineering.count>,\n",
       "  'params': {}},\n",
       " {'feature_cols': ['movie', 'age', 'gender', 'occupation', 'zip'],\n",
       "  'function': <function automl_libs.feature_engineering.count>,\n",
       "  'params': {}},\n",
       " {'feature_cols': ['movie', 'age', 'gender', 'occupation', 'released'],\n",
       "  'function': <function automl_libs.feature_engineering.count>,\n",
       "  'params': {}},\n",
       " {'feature_cols': ['movie', 'age', 'gender', 'zip', 'released'],\n",
       "  'function': <function automl_libs.feature_engineering.count>,\n",
       "  'params': {}},\n",
       " {'feature_cols': ['movie', 'age', 'occupation', 'zip', 'released'],\n",
       "  'function': <function automl_libs.feature_engineering.count>,\n",
       "  'params': {}},\n",
       " {'feature_cols': ['movie', 'gender', 'occupation', 'zip', 'released'],\n",
       "  'function': <function automl_libs.feature_engineering.count>,\n",
       "  'params': {}},\n",
       " {'feature_cols': ['age', 'gender', 'occupation', 'zip', 'released'],\n",
       "  'function': <function automl_libs.feature_engineering.count>,\n",
       "  'params': {}},\n",
       " {'feature_cols': ['user', 'movie', 'age', 'gender', 'occupation', 'zip'],\n",
       "  'function': <function automl_libs.feature_engineering.count>,\n",
       "  'params': {}},\n",
       " {'feature_cols': ['user', 'movie', 'age', 'gender', 'occupation', 'released'],\n",
       "  'function': <function automl_libs.feature_engineering.count>,\n",
       "  'params': {}},\n",
       " {'feature_cols': ['user', 'movie', 'age', 'gender', 'zip', 'released'],\n",
       "  'function': <function automl_libs.feature_engineering.count>,\n",
       "  'params': {}},\n",
       " {'feature_cols': ['user', 'movie', 'age', 'occupation', 'zip', 'released'],\n",
       "  'function': <function automl_libs.feature_engineering.count>,\n",
       "  'params': {}},\n",
       " {'feature_cols': ['user', 'movie', 'gender', 'occupation', 'zip', 'released'],\n",
       "  'function': <function automl_libs.feature_engineering.count>,\n",
       "  'params': {}},\n",
       " {'feature_cols': ['user', 'age', 'gender', 'occupation', 'zip', 'released'],\n",
       "  'function': <function automl_libs.feature_engineering.count>,\n",
       "  'params': {}},\n",
       " {'feature_cols': ['movie', 'age', 'gender', 'occupation', 'zip', 'released'],\n",
       "  'function': <function automl_libs.feature_engineering.count>,\n",
       "  'params': {}},\n",
       " {'feature_cols': ['user',\n",
       "   'movie',\n",
       "   'age',\n",
       "   'gender',\n",
       "   'occupation',\n",
       "   'zip',\n",
       "   'released'],\n",
       "  'function': <function automl_libs.feature_engineering.count>,\n",
       "  'params': {}}]"
      ]
     },
     "execution_count": 7,
     "metadata": {},
     "output_type": "execute_result"
    }
   ],
   "source": [
    "import itertools\n",
    "#params = {'split_col': 't', 'coefficient': 10, 'n': 2, 'fillna': 22}\n",
    "def get_features_to_gen(function_list):\n",
    "    features_to_gen = []\n",
    "    for function in function_list:\n",
    "        for i in range(2, len(categorical_features)+1):\n",
    "            for combine in itertools.combinations(categorical_features, i):\n",
    "                if function.__name__ == 'count_std_over_mean':\n",
    "                    features_to_gen.append({'params': {'coefficient': 10}, 'function': function, 'feature_cols': list(combine)})\n",
    "                else:\n",
    "                    features_to_gen.append({'params': {}, 'function': function, 'feature_cols': list(combine)})\n",
    "                \n",
    "    return features_to_gen\n",
    "\n",
    "features_to_gen = get_features_to_gen([fe.count])#, fe.unique_count, fe.cumulative_count,\n",
    "                                     #fe.reverse_cumulative_count, fe.variance, fe.count_std_over_mean])\n",
    "# features_to_gen = get_features_to_gen([])#fe.count])\n",
    "\n",
    "features_to_gen"
   ]
  },
  {
   "cell_type": "code",
   "execution_count": 8,
   "metadata": {
    "ExecuteTime": {
     "end_time": "2018-06-18T15:25:13.124535Z",
     "start_time": "2018-06-18T15:25:13.101898Z"
    }
   },
   "outputs": [
    {
     "data": {
      "text/plain": [
       "120"
      ]
     },
     "execution_count": 8,
     "metadata": {},
     "output_type": "execute_result"
    }
   ],
   "source": [
    "len(features_to_gen)"
   ]
  },
  {
   "cell_type": "code",
   "execution_count": 9,
   "metadata": {
    "ExecuteTime": {
     "end_time": "2018-06-18T15:25:19.045953Z",
     "start_time": "2018-06-18T15:25:19.025598Z"
    },
    "collapsed": true
   },
   "outputs": [],
   "source": [
    "project_path = '/home/kai/data/shiyi/AlphaBoosting/automl/automl_app/project3/' "
   ]
  },
  {
   "cell_type": "code",
   "execution_count": 10,
   "metadata": {
    "ExecuteTime": {
     "end_time": "2018-06-18T15:27:09.592220Z",
     "start_time": "2018-06-18T15:27:09.568363Z"
    },
    "collapsed": true
   },
   "outputs": [],
   "source": [
    "from automl_app import logger_config\n",
    "\n",
    "logger_config.config(project_path+'log_project3.log')"
   ]
  },
  {
   "cell_type": "code",
   "execution_count": 11,
   "metadata": {
    "ExecuteTime": {
     "end_time": "2018-06-18T15:30:09.742940Z",
     "start_time": "2018-06-18T15:30:09.711235Z"
    },
    "collapsed": true
   },
   "outputs": [],
   "source": [
    "def lgb_gs_params_gen():\n",
    "    import time\n",
    "    import numpy as np\n",
    "    seed = int(time.time()* 1000000) % 45234634\n",
    "    np.random.seed(seed)\n",
    "    params = {    \n",
    "        'objective': 'regression',#'binary',\n",
    "        'boosting': 'gbdt',\n",
    "        'num_rounds': 20,\n",
    "        'learning_rate': np.random.choice([0.1,0.03]),#0.001]),\n",
    "        'num_leaves': np.random.choice([15,31,61,127]),\n",
    "        'num_threads': 8, # best speed: set to number of real cpu cores, which is vCPU/2\n",
    "        'max_depth': -1, # no limit. This is used to deal with over-fitting when #data is small.\n",
    "        'min_data_in_leaf': np.random.randint(20,50),  #minimal number of data in one leaf. \n",
    "        'feature_fraction': np.random.randint(4,11)/10,\n",
    "        'feature_fraction_seed': seed,\n",
    "        'early_stopping_round':70,\n",
    "        'bagging_freq': 1, #0 means disable bagging. k: perform bagging at every k iteration\n",
    "        'bagging_fraction': np.random.randint(4,11)/10, #Randomly select part of data \n",
    "        'bagging_seed': seed,\n",
    "        'scale_pos_weight': 2,\n",
    "        'metric' : 'rmse' \n",
    "    }\n",
    "    return params, seed"
   ]
  },
  {
   "cell_type": "code",
   "execution_count": 12,
   "metadata": {
    "ExecuteTime": {
     "end_time": "2018-06-18T15:30:10.321138Z",
     "start_time": "2018-06-18T15:30:10.299331Z"
    }
   },
   "outputs": [
    {
     "data": {
      "text/plain": [
       "({'bagging_fraction': 1.0,\n",
       "  'bagging_freq': 1,\n",
       "  'bagging_seed': 14500784,\n",
       "  'boosting': 'gbdt',\n",
       "  'early_stopping_round': 70,\n",
       "  'feature_fraction': 0.7,\n",
       "  'feature_fraction_seed': 14500784,\n",
       "  'learning_rate': 0.10000000000000001,\n",
       "  'max_depth': -1,\n",
       "  'metric': 'rmse',\n",
       "  'min_data_in_leaf': 46,\n",
       "  'num_leaves': 61,\n",
       "  'num_rounds': 20,\n",
       "  'num_threads': 8,\n",
       "  'objective': 'regression',\n",
       "  'scale_pos_weight': 2},\n",
       " 14500784)"
      ]
     },
     "execution_count": 12,
     "metadata": {},
     "output_type": "execute_result"
    }
   ],
   "source": [
    "lgb_gs_params_gen()"
   ]
  },
  {
   "cell_type": "code",
   "execution_count": 15,
   "metadata": {
    "ExecuteTime": {
     "end_time": "2018-06-18T15:37:19.520190Z",
     "start_time": "2018-06-18T15:37:16.540739Z"
    },
    "scrolled": true
   },
   "outputs": [
    {
     "name": "stderr",
     "output_type": "stream",
     "text": [
      "2018-06-18 11:37:16 EST | INFO     | automl_app.app.AlphaBoosting                 | __init__             | #57  | Run record file [./output/run_record.json] found. Continue from the previous run...\n",
      "2018-06-18 11:37:16 EST | INFO     | automl_app.app.AlphaBoosting                 | __init__             | #88  | save run record\n",
      "2018-06-18 11:37:16 EST | INFO     | automl_app.app.AlphaBoosting                 | _save_run_record     | #152 | val index is saved at ./log/val_index.json\n",
      "2018-06-18 11:37:16 EST | INFO     | automl_app.app.AlphaBoosting                 | _save_run_record     | #154 | run record is saved at ./output/run_record.json\n",
      "2018-06-18 11:37:16 EST | INFO     | automl_app.app.AlphaBoosting                 | __init__             | #92  | generate todo list\n",
      "2018-06-18 11:37:16 EST | INFO     | automl_app.app.AlphaBoosting                 | __init__             | #108 | feature engineering\n",
      "2018-06-18 11:37:16 EST | INFO     | automl_app.app.AlphaBoosting                 | __init__             | #112 | validation\n",
      "2018-06-18 11:37:16 EST | INFO     | automl_app.app.AlphaBoosting                 | __init__             | #116 | concat test\n",
      "2018-06-18 11:37:16 EST | INFO     | automl_app.app.AlphaBoosting                 | __init__             | #120 | grid search\n"
     ]
    },
    {
     "name": "stdout",
     "output_type": "stream",
     "text": [
      "[1]\tcv_agg's rmse: 1.11874 + 9.49562e-05\n",
      "[2]\tcv_agg's rmse: 1.11219 + 0.000204\n",
      "[3]\tcv_agg's rmse: 1.10596 + 0.000284266\n",
      "[4]\tcv_agg's rmse: 1.10007 + 0.000375003\n",
      "[5]\tcv_agg's rmse: 1.09448 + 0.000500362\n",
      "[6]\tcv_agg's rmse: 1.08914 + 0.000577821\n",
      "[7]\tcv_agg's rmse: 1.08405 + 0.000636457\n",
      "[8]\tcv_agg's rmse: 1.07925 + 0.000689649\n",
      "[9]\tcv_agg's rmse: 1.07464 + 0.000745515\n",
      "[10]\tcv_agg's rmse: 1.0703 + 0.000853929\n",
      "[11]\tcv_agg's rmse: 1.06615 + 0.000912623\n",
      "[12]\tcv_agg's rmse: 1.06207 + 0.000952991\n",
      "[13]\tcv_agg's rmse: 1.05823 + 0.00104154\n",
      "[14]\tcv_agg's rmse: 1.05452 + 0.00114908\n",
      "[15]\tcv_agg's rmse: 1.05097 + 0.00122941\n",
      "[16]\tcv_agg's rmse: 1.04755 + 0.0013926\n"
     ]
    },
    {
     "name": "stderr",
     "output_type": "stream",
     "text": [
      "2018-06-18 11:37:18 EST | DEBUG    | automl_libs.grid_search                      | lgb_grid_search      | #58  | [do_preds] is True, generating predictions ...\n",
      "2018-06-18 11:37:18 EST | DEBUG    | automl_libs.grid_search                      | lgb_grid_search      | #60  | Retrain model using cv params and all data...\n"
     ]
    },
    {
     "name": "stdout",
     "output_type": "stream",
     "text": [
      "[17]\tcv_agg's rmse: 1.04423 + 0.00147283\n",
      "[18]\tcv_agg's rmse: 1.04107 + 0.00145317\n",
      "[19]\tcv_agg's rmse: 1.03799 + 0.00150125\n",
      "[20]\tcv_agg's rmse: 1.03505 + 0.00160161\n"
     ]
    },
    {
     "name": "stderr",
     "output_type": "stream",
     "text": [
      "2018-06-18 11:37:19 EST | DEBUG    | automl_libs.grid_search                      | lgb_grid_search      | #64  | Predicting...\n",
      "2018-06-18 11:37:19 EST | DEBUG    | automl_libs.grid_search                      | lgb_grid_search      | #69  | Predictions(1529336237) saved in ./output/gs_saved_preds/.\n",
      "2018-06-18 11:37:19 EST | DEBUG    | automl_libs.grid_search                      | lgb_grid_search      | #90  | ./output/project2_grid_search.csv updated\n"
     ]
    },
    {
     "name": "stdout",
     "output_type": "stream",
     "text": [
      "[4]\ttraining's rmse: 1.09872\n",
      "[8]\ttraining's rmse: 1.07652\n",
      "[12]\ttraining's rmse: 1.05786\n",
      "[16]\ttraining's rmse: 1.04193\n",
      "[20]\ttraining's rmse: 1.0284\n"
     ]
    },
    {
     "data": {
      "text/plain": [
       "<automl_app.app.AlphaBoosting at 0x7fbda1b03dd8>"
      ]
     },
     "execution_count": 15,
     "metadata": {},
     "output_type": "execute_result"
    }
   ],
   "source": [
    "from automl_app.app import AlphaBoosting\n",
    "\n",
    "automl_config_file = project_path + 'automl_config.json'\n",
    "run_record_file_name = project_path + 'run_record.json' # don't created this file\n",
    "AlphaBoosting(automl_config_file, features_to_gen, lgb_gs_params_gen)"
   ]
  }
 ],
 "metadata": {
  "kernelspec": {
   "display_name": "Python 3",
   "language": "python",
   "name": "python3"
  },
  "language_info": {
   "codemirror_mode": {
    "name": "ipython",
    "version": 3
   },
   "file_extension": ".py",
   "mimetype": "text/x-python",
   "name": "python",
   "nbconvert_exporter": "python",
   "pygments_lexer": "ipython3",
   "version": "3.6.3"
  },
  "varInspector": {
   "cols": {
    "lenName": 16,
    "lenType": 16,
    "lenVar": 40
   },
   "kernels_config": {
    "python": {
     "delete_cmd_postfix": "",
     "delete_cmd_prefix": "del ",
     "library": "var_list.py",
     "varRefreshCmd": "print(var_dic_list())"
    },
    "r": {
     "delete_cmd_postfix": ") ",
     "delete_cmd_prefix": "rm(",
     "library": "var_list.r",
     "varRefreshCmd": "cat(var_dic_list()) "
    }
   },
   "types_to_exclude": [
    "module",
    "function",
    "builtin_function_or_method",
    "instance",
    "_Feature"
   ],
   "window_display": false
  }
 },
 "nbformat": 4,
 "nbformat_minor": 2
}
