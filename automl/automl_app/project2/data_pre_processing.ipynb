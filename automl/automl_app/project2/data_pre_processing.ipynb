{
 "cells": [
  {
   "cell_type": "code",
   "execution_count": 1,
   "metadata": {
    "ExecuteTime": {
     "end_time": "2018-07-06T16:36:38.494461Z",
     "start_time": "2018-07-06T16:36:38.223635Z"
    }
   },
   "outputs": [],
   "source": [
    "import json\n",
    "import pandas as pd"
   ]
  },
  {
   "cell_type": "code",
   "execution_count": 2,
   "metadata": {
    "ExecuteTime": {
     "end_time": "2018-07-06T16:36:38.538550Z",
     "start_time": "2018-07-06T16:36:38.520954Z"
    }
   },
   "outputs": [],
   "source": [
    "config_dict = json.load(open('automl_config.json','r'))"
   ]
  },
  {
   "cell_type": "code",
   "execution_count": 3,
   "metadata": {
    "ExecuteTime": {
     "end_time": "2018-07-06T16:36:39.025578Z",
     "start_time": "2018-07-06T16:36:38.892363Z"
    }
   },
   "outputs": [],
   "source": [
    "train = pd.read_pickle(config_dict['train_data_url'])\n",
    "test = pd.read_pickle(config_dict['test_data_url'])\n",
    "y_test = np.load('/home/kai/data/shiyi/data/flight_data/testY_100k.npy')"
   ]
  },
  {
   "cell_type": "code",
   "execution_count": 4,
   "metadata": {
    "ExecuteTime": {
     "end_time": "2018-07-06T16:36:43.697041Z",
     "start_time": "2018-07-06T16:36:43.665223Z"
    }
   },
   "outputs": [
    {
     "data": {
      "text/plain": [
       "((1000000, 9), (100000, 8), (100000,))"
      ]
     },
     "execution_count": 4,
     "metadata": {},
     "output_type": "execute_result"
    }
   ],
   "source": [
    "train.shape, test.shape, y_test.shape"
   ]
  },
  {
   "cell_type": "code",
   "execution_count": 30,
   "metadata": {
    "ExecuteTime": {
     "end_time": "2018-07-06T16:51:01.465084Z",
     "start_time": "2018-07-06T16:51:00.622994Z"
    }
   },
   "outputs": [],
   "source": [
    "train_more = pd.read_pickle('/home/kai/data/shiyi/data/flight_data/train_more.pkl')\n",
    "val_more = pd.read_pickle('/home/kai/data/shiyi/data/flight_data/val_more.pkl')\n",
    "test_more = pd.read_pickle('/home/kai/data/shiyi/data/flight_data/test_more.pkl')"
   ]
  },
  {
   "cell_type": "code",
   "execution_count": 31,
   "metadata": {
    "ExecuteTime": {
     "end_time": "2018-07-06T16:51:17.083036Z",
     "start_time": "2018-07-06T16:51:17.063074Z"
    }
   },
   "outputs": [
    {
     "data": {
      "text/plain": [
       "((950000, 37), (50000, 37), (100000, 36))"
      ]
     },
     "execution_count": 31,
     "metadata": {},
     "output_type": "execute_result"
    }
   ],
   "source": [
    "train_more.shape, val_more.shape, test_more.shape"
   ]
  },
  {
   "cell_type": "code",
   "execution_count": 88,
   "metadata": {
    "ExecuteTime": {
     "end_time": "2018-07-06T18:25:30.093354Z",
     "start_time": "2018-07-06T18:25:29.766146Z"
    }
   },
   "outputs": [],
   "source": [
    "train_more177 = pd.read_pickle('/home/kai/data/shiyi/data/flight_data/train_more177.pkl')\n",
    "test_more177 = pd.read_pickle('/home/kai/data/shiyi/data/flight_data/test_more177.pkl')"
   ]
  },
  {
   "cell_type": "code",
   "execution_count": 119,
   "metadata": {
    "ExecuteTime": {
     "end_time": "2018-07-06T19:37:35.561994Z",
     "start_time": "2018-07-06T19:37:35.556408Z"
    }
   },
   "outputs": [
    {
     "data": {
      "text/plain": [
       "((950000, 177), (100000, 176))"
      ]
     },
     "execution_count": 119,
     "metadata": {},
     "output_type": "execute_result"
    }
   ],
   "source": [
    "train_more177.shape, test_more177.shape"
   ]
  },
  {
   "cell_type": "code",
   "execution_count": 5,
   "metadata": {
    "ExecuteTime": {
     "end_time": "2018-07-06T16:36:48.062314Z",
     "start_time": "2018-07-06T16:36:48.005539Z"
    }
   },
   "outputs": [
    {
     "name": "stdout",
     "output_type": "stream",
     "text": [
      "Month 12\n",
      "DayofMonth 31\n",
      "DayOfWeek 7\n",
      "DepTime 27\n",
      "UniqueCarrier 22\n",
      "Origin 291\n",
      "Dest 292\n",
      "Distance 10\n",
      "label 2\n"
     ]
    }
   ],
   "source": [
    "for col in train.columns:\n",
    "    print(col, train[col].nunique())"
   ]
  },
  {
   "cell_type": "code",
   "execution_count": 6,
   "metadata": {
    "ExecuteTime": {
     "end_time": "2018-07-06T16:36:59.881927Z",
     "start_time": "2018-07-06T16:36:59.877700Z"
    }
   },
   "outputs": [
    {
     "data": {
      "text/plain": [
       "['Month',\n",
       " 'DayofMonth',\n",
       " 'DayOfWeek',\n",
       " 'DepTime',\n",
       " 'UniqueCarrier',\n",
       " 'Origin',\n",
       " 'Dest',\n",
       " 'Distance']"
      ]
     },
     "execution_count": 6,
     "metadata": {},
     "output_type": "execute_result"
    }
   ],
   "source": [
    "features_cols = list(test.columns)\n",
    "features_cols"
   ]
  },
  {
   "cell_type": "code",
   "execution_count": 7,
   "metadata": {
    "ExecuteTime": {
     "end_time": "2018-07-06T16:37:12.033006Z",
     "start_time": "2018-07-06T16:37:11.553703Z"
    }
   },
   "outputs": [],
   "source": [
    "X_train_ordinal = train[features_cols]\n",
    "y_train = train['label']\n",
    "X_test_ordinal = test"
   ]
  },
  {
   "cell_type": "code",
   "execution_count": 32,
   "metadata": {
    "ExecuteTime": {
     "end_time": "2018-07-06T16:53:36.966145Z",
     "start_time": "2018-07-06T16:53:36.963416Z"
    }
   },
   "outputs": [],
   "source": [
    "feat_cols_more = list(set(train_more.columns.values) - set(['label']))"
   ]
  },
  {
   "cell_type": "code",
   "execution_count": 34,
   "metadata": {
    "ExecuteTime": {
     "end_time": "2018-07-06T16:54:39.385693Z",
     "start_time": "2018-07-06T16:54:39.115386Z"
    }
   },
   "outputs": [],
   "source": [
    "X_train_more = train_more[feat_cols_more]\n",
    "y_train_more = train_more['label']\n",
    "X_val_more = val_more[feat_cols_more]\n",
    "y_val_more = val_more['label']\n",
    "X_test_more = test_more[feat_cols_more]"
   ]
  },
  {
   "cell_type": "code",
   "execution_count": 120,
   "metadata": {
    "ExecuteTime": {
     "end_time": "2018-07-06T19:38:12.643589Z",
     "start_time": "2018-07-06T19:38:12.638188Z"
    }
   },
   "outputs": [],
   "source": [
    "feat_cols_more177 = list(set(train_more177.columns.values) - set(['label']))"
   ]
  },
  {
   "cell_type": "code",
   "execution_count": 121,
   "metadata": {
    "ExecuteTime": {
     "end_time": "2018-07-06T19:38:20.750574Z",
     "start_time": "2018-07-06T19:38:20.003323Z"
    }
   },
   "outputs": [],
   "source": [
    "X_train_more177 = train_more177[feat_cols_more177]\n",
    "y_train_more177 = train_more177['label']\n",
    "X_test_more177 = test_more177[feat_cols_more177]"
   ]
  },
  {
   "cell_type": "code",
   "execution_count": 122,
   "metadata": {
    "ExecuteTime": {
     "end_time": "2018-07-06T19:38:27.638048Z",
     "start_time": "2018-07-06T19:38:27.628358Z"
    }
   },
   "outputs": [
    {
     "data": {
      "text/plain": [
       "((950000, 176), (100000, 176))"
      ]
     },
     "execution_count": 122,
     "metadata": {},
     "output_type": "execute_result"
    }
   ],
   "source": [
    "X_train_more177.shape, X_test_more177.shape"
   ]
  },
  {
   "cell_type": "code",
   "execution_count": 133,
   "metadata": {
    "ExecuteTime": {
     "end_time": "2018-07-10T15:21:13.742076Z",
     "start_time": "2018-07-10T15:21:12.741634Z"
    }
   },
   "outputs": [],
   "source": [
    "X_train_numeric = X_train_more177.drop(cat_cols, axis=1)\n",
    "X_test_numeric = X_test_more177.drop(cat_cols, axis=1)"
   ]
  },
  {
   "cell_type": "code",
   "execution_count": 135,
   "metadata": {
    "ExecuteTime": {
     "end_time": "2018-07-10T15:21:56.220414Z",
     "start_time": "2018-07-10T15:21:56.206144Z"
    }
   },
   "outputs": [
    {
     "data": {
      "text/plain": [
       "((950000, 168), (100000, 168))"
      ]
     },
     "execution_count": 135,
     "metadata": {},
     "output_type": "execute_result"
    }
   ],
   "source": [
    "X_train_numeric.shape, X_test_numeric.shape"
   ]
  },
  {
   "cell_type": "code",
   "execution_count": 137,
   "metadata": {
    "ExecuteTime": {
     "end_time": "2018-07-10T15:22:37.439477Z",
     "start_time": "2018-07-10T15:22:37.434996Z"
    }
   },
   "outputs": [
    {
     "data": {
      "text/plain": [
       "((1000000, 692), (100000, 692))"
      ]
     },
     "execution_count": 137,
     "metadata": {},
     "output_type": "execute_result"
    }
   ],
   "source": [
    "X_train_one_hot.shape, X_test_one_hot.shape"
   ]
  },
  {
   "cell_type": "code",
   "execution_count": 154,
   "metadata": {
    "ExecuteTime": {
     "end_time": "2018-07-10T15:47:58.648723Z",
     "start_time": "2018-07-10T15:47:58.598874Z"
    }
   },
   "outputs": [
    {
     "data": {
      "text/plain": [
       "26.0"
      ]
     },
     "execution_count": 154,
     "metadata": {},
     "output_type": "execute_result"
    }
   ],
   "source": [
    "X_train_ordinal['DepTime'].quantile(1)"
   ]
  },
  {
   "cell_type": "code",
   "execution_count": 147,
   "metadata": {
    "ExecuteTime": {
     "end_time": "2018-07-10T15:46:36.408993Z",
     "start_time": "2018-07-10T15:46:36.390635Z"
    }
   },
   "outputs": [
    {
     "data": {
      "text/plain": [
       "['Month',\n",
       " 'DayofMonth',\n",
       " 'DayOfWeek',\n",
       " 'DepTime',\n",
       " 'UniqueCarrier',\n",
       " 'Origin',\n",
       " 'Dest',\n",
       " 'Distance']"
      ]
     },
     "execution_count": 147,
     "metadata": {},
     "output_type": "execute_result"
    }
   ],
   "source": [
    "cat_cols"
   ]
  },
  {
   "cell_type": "code",
   "execution_count": 157,
   "metadata": {
    "ExecuteTime": {
     "end_time": "2018-07-10T15:49:16.651102Z",
     "start_time": "2018-07-10T15:49:16.599790Z"
    }
   },
   "outputs": [
    {
     "data": {
      "text/plain": [
       "8     0.067300\n",
       "17    0.065885\n",
       "11    0.063383\n",
       "7     0.063239\n",
       "6     0.063061\n",
       "9     0.062694\n",
       "13    0.062665\n",
       "12    0.062511\n",
       "10    0.062328\n",
       "15    0.062076\n",
       "18    0.061061\n",
       "14    0.060946\n",
       "16    0.060541\n",
       "19    0.056324\n",
       "20    0.045208\n",
       "21    0.034297\n",
       "22    0.017598\n",
       "5     0.015829\n",
       "23    0.008001\n",
       "0     0.003094\n",
       "1     0.001039\n",
       "4     0.000304\n",
       "2     0.000292\n",
       "24    0.000204\n",
       "3     0.000086\n",
       "25    0.000027\n",
       "26    0.000007\n",
       "Name: DepTime, dtype: float64"
      ]
     },
     "execution_count": 157,
     "metadata": {},
     "output_type": "execute_result"
    }
   ],
   "source": [
    "(X_train_ordinal['DepTime'].value_counts()/len(X_train_ordinal))"
   ]
  },
  {
   "cell_type": "code",
   "execution_count": 142,
   "metadata": {
    "ExecuteTime": {
     "end_time": "2018-07-10T15:44:56.477577Z",
     "start_time": "2018-07-10T15:44:56.456508Z"
    }
   },
   "outputs": [],
   "source": [
    "df = pd.DataFrame(np.array([[1, 1], [2, 10], [3, 100], [4, 100]]),\n",
    "                      columns=['a', 'b'])"
   ]
  },
  {
   "cell_type": "code",
   "execution_count": 144,
   "metadata": {
    "ExecuteTime": {
     "end_time": "2018-07-10T15:45:09.850696Z",
     "start_time": "2018-07-10T15:45:09.842436Z"
    }
   },
   "outputs": [
    {
     "data": {
      "text/html": [
       "<div>\n",
       "<style scoped>\n",
       "    .dataframe tbody tr th:only-of-type {\n",
       "        vertical-align: middle;\n",
       "    }\n",
       "\n",
       "    .dataframe tbody tr th {\n",
       "        vertical-align: top;\n",
       "    }\n",
       "\n",
       "    .dataframe thead th {\n",
       "        text-align: right;\n",
       "    }\n",
       "</style>\n",
       "<table border=\"1\" class=\"dataframe\">\n",
       "  <thead>\n",
       "    <tr style=\"text-align: right;\">\n",
       "      <th></th>\n",
       "      <th>a</th>\n",
       "      <th>b</th>\n",
       "    </tr>\n",
       "  </thead>\n",
       "  <tbody>\n",
       "    <tr>\n",
       "      <th>0</th>\n",
       "      <td>1</td>\n",
       "      <td>1</td>\n",
       "    </tr>\n",
       "    <tr>\n",
       "      <th>1</th>\n",
       "      <td>2</td>\n",
       "      <td>10</td>\n",
       "    </tr>\n",
       "    <tr>\n",
       "      <th>2</th>\n",
       "      <td>3</td>\n",
       "      <td>100</td>\n",
       "    </tr>\n",
       "    <tr>\n",
       "      <th>3</th>\n",
       "      <td>4</td>\n",
       "      <td>100</td>\n",
       "    </tr>\n",
       "  </tbody>\n",
       "</table>\n",
       "</div>"
      ],
      "text/plain": [
       "   a    b\n",
       "0  1    1\n",
       "1  2   10\n",
       "2  3  100\n",
       "3  4  100"
      ]
     },
     "execution_count": 144,
     "metadata": {},
     "output_type": "execute_result"
    }
   ],
   "source": [
    "df"
   ]
  },
  {
   "cell_type": "code",
   "execution_count": 143,
   "metadata": {
    "ExecuteTime": {
     "end_time": "2018-07-10T15:45:02.946928Z",
     "start_time": "2018-07-10T15:45:02.920895Z"
    }
   },
   "outputs": [
    {
     "data": {
      "text/plain": [
       "a    1.3\n",
       "b    3.7\n",
       "Name: 0.1, dtype: float64"
      ]
     },
     "execution_count": 143,
     "metadata": {},
     "output_type": "execute_result"
    }
   ],
   "source": [
    "df.quantile(0.1)"
   ]
  },
  {
   "cell_type": "code",
   "execution_count": 8,
   "metadata": {
    "ExecuteTime": {
     "end_time": "2018-07-06T16:37:14.476116Z",
     "start_time": "2018-07-06T16:37:13.365441Z"
    }
   },
   "outputs": [],
   "source": [
    "from sklearn import preprocessing\n",
    "from sklearn.ensemble import RandomForestClassifier\n",
    "from sklearn.linear_model import LogisticRegression\n",
    "from sklearn.svm import LinearSVC\n",
    "from sklearn.calibration import CalibratedClassifierCV\n",
    "from sklearn.metrics import log_loss, roc_auc_score\n",
    "from sklearn.ensemble import BaggingClassifier"
   ]
  },
  {
   "cell_type": "code",
   "execution_count": 9,
   "metadata": {
    "ExecuteTime": {
     "end_time": "2018-07-06T16:37:14.807893Z",
     "start_time": "2018-07-06T16:37:14.801146Z"
    }
   },
   "outputs": [],
   "source": [
    "l = LogisticRegression()\n",
    "r = RandomForestClassifier(n_estimators=25,max_depth=10)"
   ]
  },
  {
   "cell_type": "markdown",
   "metadata": {},
   "source": [
    "## One Hot Encoding"
   ]
  },
  {
   "cell_type": "code",
   "execution_count": 10,
   "metadata": {
    "ExecuteTime": {
     "end_time": "2018-07-06T16:37:24.279812Z",
     "start_time": "2018-07-06T16:37:20.828685Z"
    }
   },
   "outputs": [],
   "source": [
    "from sklearn.preprocessing import OneHotEncoder\n",
    "enc = OneHotEncoder(handle_unknown='ignore')\n",
    "enc.fit(X_train_ordinal)\n",
    "X_train_one_hot = enc.transform(X_train_ordinal)\n",
    "X_test_one_hot = enc.transform(X_test_ordinal)"
   ]
  },
  {
   "cell_type": "code",
   "execution_count": 127,
   "metadata": {
    "ExecuteTime": {
     "end_time": "2018-07-10T15:04:16.746372Z",
     "start_time": "2018-07-10T15:04:16.731757Z"
    }
   },
   "outputs": [
    {
     "data": {
      "text/plain": [
       "((1000000, 692), (100000, 692))"
      ]
     },
     "execution_count": 127,
     "metadata": {},
     "output_type": "execute_result"
    }
   ],
   "source": [
    "X_train_one_hot.shape, X_test_one_hot.shape"
   ]
  },
  {
   "cell_type": "code",
   "execution_count": 128,
   "metadata": {
    "ExecuteTime": {
     "end_time": "2018-07-10T15:06:09.987604Z",
     "start_time": "2018-07-10T15:05:01.672586Z"
    }
   },
   "outputs": [
    {
     "data": {
      "text/plain": [
       "RandomForestClassifier(bootstrap=True, class_weight=None, criterion='gini',\n",
       "            max_depth=10, max_features='auto', max_leaf_nodes=None,\n",
       "            min_impurity_decrease=0.0, min_impurity_split=None,\n",
       "            min_samples_leaf=1, min_samples_split=2,\n",
       "            min_weight_fraction_leaf=0.0, n_estimators=25, n_jobs=1,\n",
       "            oob_score=False, random_state=None, verbose=0,\n",
       "            warm_start=False)"
      ]
     },
     "execution_count": 128,
     "metadata": {},
     "output_type": "execute_result"
    }
   ],
   "source": [
    "r.fit(X_train_one_hot, y_train)"
   ]
  },
  {
   "cell_type": "code",
   "execution_count": 129,
   "metadata": {
    "ExecuteTime": {
     "end_time": "2018-07-10T15:06:36.964011Z",
     "start_time": "2018-07-10T15:06:36.661304Z"
    }
   },
   "outputs": [],
   "source": [
    "y_pred = r.predict_proba(X_test_one_hot)[:,1]"
   ]
  },
  {
   "cell_type": "code",
   "execution_count": 130,
   "metadata": {
    "ExecuteTime": {
     "end_time": "2018-07-10T15:06:51.453194Z",
     "start_time": "2018-07-10T15:06:51.401211Z"
    }
   },
   "outputs": [
    {
     "name": "stdout",
     "output_type": "stream",
     "text": [
      "0.49847782314144634 0.708727647513848\n"
     ]
    }
   ],
   "source": [
    "print(log_loss(y_test,y_pred), roc_auc_score(y_test, y_pred))"
   ]
  },
  {
   "cell_type": "code",
   "execution_count": 36,
   "metadata": {
    "ExecuteTime": {
     "end_time": "2018-07-06T00:50:51.795995Z",
     "start_time": "2018-07-06T00:48:54.302335Z"
    }
   },
   "outputs": [
    {
     "name": "stdout",
     "output_type": "stream",
     "text": [
      "0.4989549307472209 0.7168805719707757\n",
      "CPU times: user 16min 36s, sys: 48.8 s, total: 17min 25s\n",
      "Wall time: 1min 57s\n"
     ]
    }
   ],
   "source": [
    "%%time\n",
    "b_r = BaggingClassifier(r, max_samples=0.6, n_estimators=8, n_jobs=1)\n",
    "b_r.fit(X_train_one_hot, y_train)\n",
    "y_pred = b_r.predict_proba(X_test_one_hot)[:,1]\n",
    "print(log_loss(y_test,y_pred), roc_auc_score(y_test, y_pred))"
   ]
  },
  {
   "cell_type": "code",
   "execution_count": 11,
   "metadata": {
    "ExecuteTime": {
     "end_time": "2018-07-06T16:37:38.527839Z",
     "start_time": "2018-07-06T16:37:38.477690Z"
    }
   },
   "outputs": [],
   "source": [
    "import lightgbm as lgb"
   ]
  },
  {
   "cell_type": "code",
   "execution_count": 179,
   "metadata": {
    "ExecuteTime": {
     "end_time": "2018-07-06T16:08:16.447353Z",
     "start_time": "2018-07-06T16:08:16.441601Z"
    }
   },
   "outputs": [
    {
     "data": {
      "text/plain": [
       "array(['Month', 'DayofMonth', 'DayOfWeek', 'DepTime', 'UniqueCarrier',\n",
       "       'Origin', 'Dest', 'Distance'], dtype=object)"
      ]
     },
     "execution_count": 179,
     "metadata": {},
     "output_type": "execute_result"
    }
   ],
   "source": [
    "features_cols"
   ]
  },
  {
   "cell_type": "code",
   "execution_count": 91,
   "metadata": {
    "ExecuteTime": {
     "end_time": "2018-07-06T18:27:01.907864Z",
     "start_time": "2018-07-06T18:27:01.895403Z"
    }
   },
   "outputs": [],
   "source": [
    "def get_lgb_params():\n",
    "    return {\n",
    "        'objective': 'binary',\n",
    "        'boosting': 'gbdt',\n",
    "        'num_boost_round': 200, # ignored in params. extract it and put it in input arguments in train or cv explicitly\n",
    "                               # seems to work fine as the upper limit when combined with early_stopping_round\n",
    "        'learning_rate': 0.05,\n",
    "        'num_leaves': 15,\n",
    "        'num_threads': 4, # best speed: set to number of real cpu cores, which is vCPU/2\n",
    "        'max_depth': -1, # no limit. This is used to deal with over-fitting when #data is small.\n",
    "        'min_data_in_leaf': 20,\n",
    "        'feature_fraction': 1,\n",
    "        'feature_fraction_seed': 2018,\n",
    "        'early_stopping_round':10,\n",
    "        'bagging_freq': 1, #0 means disable bagging. k: perform bagging at every k iteration\n",
    "        'bagging_fraction': 0.6,\n",
    "        'bagging_seed': 2018,\n",
    "        'scale_pos_weight': 1,\n",
    "        'metric': 'auc' \n",
    "    }"
   ]
  },
  {
   "cell_type": "code",
   "execution_count": 15,
   "metadata": {
    "ExecuteTime": {
     "end_time": "2018-07-06T16:38:07.638126Z",
     "start_time": "2018-07-06T16:38:07.628534Z"
    }
   },
   "outputs": [],
   "source": [
    "# cat_cols = ['Month', 'DayofMonth', 'DayOfWeek', 'UniqueCarrier', 'Origin', 'Dest', 'DepTime']\n",
    "cat_cols = features_cols"
   ]
  },
  {
   "cell_type": "code",
   "execution_count": 16,
   "metadata": {
    "ExecuteTime": {
     "end_time": "2018-07-06T16:38:09.055486Z",
     "start_time": "2018-07-06T16:38:09.051917Z"
    }
   },
   "outputs": [
    {
     "data": {
      "text/plain": [
       "['Month',\n",
       " 'DayofMonth',\n",
       " 'DayOfWeek',\n",
       " 'DepTime',\n",
       " 'UniqueCarrier',\n",
       " 'Origin',\n",
       " 'Dest',\n",
       " 'Distance']"
      ]
     },
     "execution_count": 16,
     "metadata": {},
     "output_type": "execute_result"
    }
   ],
   "source": [
    "cat_cols"
   ]
  },
  {
   "cell_type": "code",
   "execution_count": 17,
   "metadata": {
    "ExecuteTime": {
     "end_time": "2018-07-06T16:38:10.883681Z",
     "start_time": "2018-07-06T16:38:10.856849Z"
    }
   },
   "outputs": [],
   "source": [
    "X_train_ordinal_catonly = X_train_ordinal[cat_cols]"
   ]
  },
  {
   "cell_type": "code",
   "execution_count": 79,
   "metadata": {
    "ExecuteTime": {
     "end_time": "2018-07-06T17:53:21.607918Z",
     "start_time": "2018-07-06T17:53:21.579602Z"
    }
   },
   "outputs": [
    {
     "data": {
      "text/html": [
       "<div>\n",
       "<style scoped>\n",
       "    .dataframe tbody tr th:only-of-type {\n",
       "        vertical-align: middle;\n",
       "    }\n",
       "\n",
       "    .dataframe tbody tr th {\n",
       "        vertical-align: top;\n",
       "    }\n",
       "\n",
       "    .dataframe thead th {\n",
       "        text-align: right;\n",
       "    }\n",
       "</style>\n",
       "<table border=\"1\" class=\"dataframe\">\n",
       "  <thead>\n",
       "    <tr style=\"text-align: right;\">\n",
       "      <th></th>\n",
       "      <th>Month</th>\n",
       "      <th>DayofMonth</th>\n",
       "      <th>DayOfWeek</th>\n",
       "      <th>DepTime</th>\n",
       "      <th>UniqueCarrier</th>\n",
       "      <th>Origin</th>\n",
       "      <th>Dest</th>\n",
       "      <th>Distance</th>\n",
       "    </tr>\n",
       "  </thead>\n",
       "  <tbody>\n",
       "    <tr>\n",
       "      <th>0</th>\n",
       "      <td>7</td>\n",
       "      <td>19</td>\n",
       "      <td>2</td>\n",
       "      <td>18</td>\n",
       "      <td>21</td>\n",
       "      <td>157</td>\n",
       "      <td>133</td>\n",
       "      <td>6</td>\n",
       "    </tr>\n",
       "    <tr>\n",
       "      <th>1</th>\n",
       "      <td>4</td>\n",
       "      <td>3</td>\n",
       "      <td>1</td>\n",
       "      <td>12</td>\n",
       "      <td>18</td>\n",
       "      <td>79</td>\n",
       "      <td>172</td>\n",
       "      <td>4</td>\n",
       "    </tr>\n",
       "  </tbody>\n",
       "</table>\n",
       "</div>"
      ],
      "text/plain": [
       "   Month  DayofMonth  DayOfWeek  DepTime  UniqueCarrier  Origin  Dest  \\\n",
       "0      7          19          2       18             21     157   133   \n",
       "1      4           3          1       12             18      79   172   \n",
       "\n",
       "   Distance  \n",
       "0         6  \n",
       "1         4  "
      ]
     },
     "execution_count": 79,
     "metadata": {},
     "output_type": "execute_result"
    }
   ],
   "source": [
    "X_train_more[cat_cols].head(2)"
   ]
  },
  {
   "cell_type": "code",
   "execution_count": 80,
   "metadata": {
    "ExecuteTime": {
     "end_time": "2018-07-06T17:55:35.098299Z",
     "start_time": "2018-07-06T17:55:33.124391Z"
    }
   },
   "outputs": [
    {
     "data": {
      "text/html": [
       "<div>\n",
       "<style scoped>\n",
       "    .dataframe tbody tr th:only-of-type {\n",
       "        vertical-align: middle;\n",
       "    }\n",
       "\n",
       "    .dataframe tbody tr th {\n",
       "        vertical-align: top;\n",
       "    }\n",
       "\n",
       "    .dataframe thead th {\n",
       "        text-align: right;\n",
       "    }\n",
       "</style>\n",
       "<table border=\"1\" class=\"dataframe\">\n",
       "  <thead>\n",
       "    <tr style=\"text-align: right;\">\n",
       "      <th></th>\n",
       "      <th>count__DayofMonth_Distance</th>\n",
       "      <th>count__DayOfWeek_DepTime</th>\n",
       "      <th>count__DepTime_Origin</th>\n",
       "      <th>count__DayofMonth_Dest</th>\n",
       "      <th>count__Month_Dest</th>\n",
       "      <th>count__Month_UniqueCarrier</th>\n",
       "      <th>DayOfWeek</th>\n",
       "      <th>count__UniqueCarrier_Origin</th>\n",
       "      <th>count__DayOfWeek_Distance</th>\n",
       "      <th>count__DayofMonth_DepTime</th>\n",
       "      <th>...</th>\n",
       "      <th>count__DepTime_Distance</th>\n",
       "      <th>Month</th>\n",
       "      <th>Origin</th>\n",
       "      <th>UniqueCarrier</th>\n",
       "      <th>count__UniqueCarrier_Dest</th>\n",
       "      <th>count__Month_DayOfWeek</th>\n",
       "      <th>count__DepTime_Dest</th>\n",
       "      <th>Dest</th>\n",
       "      <th>count__Month_DayofMonth</th>\n",
       "      <th>count__DepTime_UniqueCarrier</th>\n",
       "    </tr>\n",
       "  </thead>\n",
       "  <tbody>\n",
       "    <tr>\n",
       "      <th>count</th>\n",
       "      <td>950000.000000</td>\n",
       "      <td>950000.000000</td>\n",
       "      <td>950000.000000</td>\n",
       "      <td>950000.000000</td>\n",
       "      <td>950000.000000</td>\n",
       "      <td>950000.000000</td>\n",
       "      <td>950000.000000</td>\n",
       "      <td>950000.000000</td>\n",
       "      <td>950000.000000</td>\n",
       "      <td>950000.000000</td>\n",
       "      <td>...</td>\n",
       "      <td>950000.000000</td>\n",
       "      <td>950000.000000</td>\n",
       "      <td>950000.000000</td>\n",
       "      <td>950000.000000</td>\n",
       "      <td>950000.000000</td>\n",
       "      <td>950000.000000</td>\n",
       "      <td>950000.000000</td>\n",
       "      <td>950000.000000</td>\n",
       "      <td>950000.000000</td>\n",
       "      <td>950000.000000</td>\n",
       "    </tr>\n",
       "    <tr>\n",
       "      <th>mean</th>\n",
       "      <td>3246.582725</td>\n",
       "      <td>8385.870915</td>\n",
       "      <td>1198.334322</td>\n",
       "      <td>624.045591</td>\n",
       "      <td>1605.223801</td>\n",
       "      <td>6176.855249</td>\n",
       "      <td>3.947889</td>\n",
       "      <td>5580.642615</td>\n",
       "      <td>14327.599934</td>\n",
       "      <td>1899.349654</td>\n",
       "      <td>...</td>\n",
       "      <td>5932.264921</td>\n",
       "      <td>6.553812</td>\n",
       "      <td>143.320405</td>\n",
       "      <td>13.058878</td>\n",
       "      <td>5530.432294</td>\n",
       "      <td>12044.048942</td>\n",
       "      <td>1200.804435</td>\n",
       "      <td>143.988526</td>\n",
       "      <td>2747.283642</td>\n",
       "      <td>4445.233154</td>\n",
       "    </tr>\n",
       "    <tr>\n",
       "      <th>std</th>\n",
       "      <td>212.118614</td>\n",
       "      <td>1751.849816</td>\n",
       "      <td>1032.792583</td>\n",
       "      <td>528.621685</td>\n",
       "      <td>1355.295522</td>\n",
       "      <td>3256.365216</td>\n",
       "      <td>1.991790</td>\n",
       "      <td>6558.338506</td>\n",
       "      <td>733.625698</td>\n",
       "      <td>407.100851</td>\n",
       "      <td>...</td>\n",
       "      <td>1300.011499</td>\n",
       "      <td>3.449776</td>\n",
       "      <td>77.075084</td>\n",
       "      <td>6.550593</td>\n",
       "      <td>6537.966648</td>\n",
       "      <td>1308.822659</td>\n",
       "      <td>1090.197455</td>\n",
       "      <td>77.514678</td>\n",
       "      <td>140.912880</td>\n",
       "      <td>2621.191405</td>\n",
       "    </tr>\n",
       "    <tr>\n",
       "      <th>min</th>\n",
       "      <td>1850.000000</td>\n",
       "      <td>1.000000</td>\n",
       "      <td>1.000000</td>\n",
       "      <td>1.000000</td>\n",
       "      <td>1.000000</td>\n",
       "      <td>226.000000</td>\n",
       "      <td>1.000000</td>\n",
       "      <td>1.000000</td>\n",
       "      <td>11496.000000</td>\n",
       "      <td>1.000000</td>\n",
       "      <td>...</td>\n",
       "      <td>1.000000</td>\n",
       "      <td>1.000000</td>\n",
       "      <td>1.000000</td>\n",
       "      <td>1.000000</td>\n",
       "      <td>1.000000</td>\n",
       "      <td>9548.000000</td>\n",
       "      <td>1.000000</td>\n",
       "      <td>1.000000</td>\n",
       "      <td>2218.000000</td>\n",
       "      <td>1.000000</td>\n",
       "    </tr>\n",
       "    <tr>\n",
       "      <th>25%</th>\n",
       "      <td>3231.000000</td>\n",
       "      <td>8445.000000</td>\n",
       "      <td>367.000000</td>\n",
       "      <td>208.000000</td>\n",
       "      <td>526.000000</td>\n",
       "      <td>3864.000000</td>\n",
       "      <td>2.000000</td>\n",
       "      <td>572.000000</td>\n",
       "      <td>14166.000000</td>\n",
       "      <td>1932.000000</td>\n",
       "      <td>...</td>\n",
       "      <td>5720.000000</td>\n",
       "      <td>4.000000</td>\n",
       "      <td>79.000000</td>\n",
       "      <td>7.000000</td>\n",
       "      <td>559.000000</td>\n",
       "      <td>10996.000000</td>\n",
       "      <td>354.000000</td>\n",
       "      <td>79.000000</td>\n",
       "      <td>2664.000000</td>\n",
       "      <td>2626.000000</td>\n",
       "    </tr>\n",
       "    <tr>\n",
       "      <th>50%</th>\n",
       "      <td>3283.000000</td>\n",
       "      <td>8942.000000</td>\n",
       "      <td>936.000000</td>\n",
       "      <td>513.000000</td>\n",
       "      <td>1332.000000</td>\n",
       "      <td>5782.000000</td>\n",
       "      <td>4.000000</td>\n",
       "      <td>2536.000000</td>\n",
       "      <td>14466.000000</td>\n",
       "      <td>2032.000000</td>\n",
       "      <td>...</td>\n",
       "      <td>6260.000000</td>\n",
       "      <td>7.000000</td>\n",
       "      <td>152.000000</td>\n",
       "      <td>14.000000</td>\n",
       "      <td>2503.000000</td>\n",
       "      <td>11667.000000</td>\n",
       "      <td>907.000000</td>\n",
       "      <td>152.000000</td>\n",
       "      <td>2769.000000</td>\n",
       "      <td>4293.000000</td>\n",
       "    </tr>\n",
       "    <tr>\n",
       "      <th>75%</th>\n",
       "      <td>3339.000000</td>\n",
       "      <td>9141.000000</td>\n",
       "      <td>1728.000000</td>\n",
       "      <td>906.000000</td>\n",
       "      <td>2285.000000</td>\n",
       "      <td>7118.000000</td>\n",
       "      <td>6.000000</td>\n",
       "      <td>10052.000000</td>\n",
       "      <td>14788.000000</td>\n",
       "      <td>2095.000000</td>\n",
       "      <td>...</td>\n",
       "      <td>6538.000000</td>\n",
       "      <td>10.000000</td>\n",
       "      <td>206.000000</td>\n",
       "      <td>19.000000</td>\n",
       "      <td>9778.000000</td>\n",
       "      <td>13057.000000</td>\n",
       "      <td>1696.000000</td>\n",
       "      <td>207.000000</td>\n",
       "      <td>2851.000000</td>\n",
       "      <td>5471.000000</td>\n",
       "    </tr>\n",
       "    <tr>\n",
       "      <th>max</th>\n",
       "      <td>3504.000000</td>\n",
       "      <td>9935.000000</td>\n",
       "      <td>4534.000000</td>\n",
       "      <td>2049.000000</td>\n",
       "      <td>5266.000000</td>\n",
       "      <td>13214.000000</td>\n",
       "      <td>7.000000</td>\n",
       "      <td>26454.000000</td>\n",
       "      <td>15244.000000</td>\n",
       "      <td>2357.000000</td>\n",
       "      <td>...</td>\n",
       "      <td>9588.000000</td>\n",
       "      <td>12.000000</td>\n",
       "      <td>291.000000</td>\n",
       "      <td>22.000000</td>\n",
       "      <td>26508.000000</td>\n",
       "      <td>14500.000000</td>\n",
       "      <td>5313.000000</td>\n",
       "      <td>292.000000</td>\n",
       "      <td>3073.000000</td>\n",
       "      <td>11540.000000</td>\n",
       "    </tr>\n",
       "  </tbody>\n",
       "</table>\n",
       "<p>8 rows × 36 columns</p>\n",
       "</div>"
      ],
      "text/plain": [
       "       count__DayofMonth_Distance  count__DayOfWeek_DepTime  \\\n",
       "count               950000.000000             950000.000000   \n",
       "mean                  3246.582725               8385.870915   \n",
       "std                    212.118614               1751.849816   \n",
       "min                   1850.000000                  1.000000   \n",
       "25%                   3231.000000               8445.000000   \n",
       "50%                   3283.000000               8942.000000   \n",
       "75%                   3339.000000               9141.000000   \n",
       "max                   3504.000000               9935.000000   \n",
       "\n",
       "       count__DepTime_Origin  count__DayofMonth_Dest  count__Month_Dest  \\\n",
       "count          950000.000000           950000.000000      950000.000000   \n",
       "mean             1198.334322              624.045591        1605.223801   \n",
       "std              1032.792583              528.621685        1355.295522   \n",
       "min                 1.000000                1.000000           1.000000   \n",
       "25%               367.000000              208.000000         526.000000   \n",
       "50%               936.000000              513.000000        1332.000000   \n",
       "75%              1728.000000              906.000000        2285.000000   \n",
       "max              4534.000000             2049.000000        5266.000000   \n",
       "\n",
       "       count__Month_UniqueCarrier      DayOfWeek  count__UniqueCarrier_Origin  \\\n",
       "count               950000.000000  950000.000000                950000.000000   \n",
       "mean                  6176.855249       3.947889                  5580.642615   \n",
       "std                   3256.365216       1.991790                  6558.338506   \n",
       "min                    226.000000       1.000000                     1.000000   \n",
       "25%                   3864.000000       2.000000                   572.000000   \n",
       "50%                   5782.000000       4.000000                  2536.000000   \n",
       "75%                   7118.000000       6.000000                 10052.000000   \n",
       "max                  13214.000000       7.000000                 26454.000000   \n",
       "\n",
       "       count__DayOfWeek_Distance  count__DayofMonth_DepTime  \\\n",
       "count              950000.000000              950000.000000   \n",
       "mean                14327.599934                1899.349654   \n",
       "std                   733.625698                 407.100851   \n",
       "min                 11496.000000                   1.000000   \n",
       "25%                 14166.000000                1932.000000   \n",
       "50%                 14466.000000                2032.000000   \n",
       "75%                 14788.000000                2095.000000   \n",
       "max                 15244.000000                2357.000000   \n",
       "\n",
       "                   ...               count__DepTime_Distance          Month  \\\n",
       "count              ...                         950000.000000  950000.000000   \n",
       "mean               ...                           5932.264921       6.553812   \n",
       "std                ...                           1300.011499       3.449776   \n",
       "min                ...                              1.000000       1.000000   \n",
       "25%                ...                           5720.000000       4.000000   \n",
       "50%                ...                           6260.000000       7.000000   \n",
       "75%                ...                           6538.000000      10.000000   \n",
       "max                ...                           9588.000000      12.000000   \n",
       "\n",
       "              Origin  UniqueCarrier  count__UniqueCarrier_Dest  \\\n",
       "count  950000.000000  950000.000000              950000.000000   \n",
       "mean      143.320405      13.058878                5530.432294   \n",
       "std        77.075084       6.550593                6537.966648   \n",
       "min         1.000000       1.000000                   1.000000   \n",
       "25%        79.000000       7.000000                 559.000000   \n",
       "50%       152.000000      14.000000                2503.000000   \n",
       "75%       206.000000      19.000000                9778.000000   \n",
       "max       291.000000      22.000000               26508.000000   \n",
       "\n",
       "       count__Month_DayOfWeek  count__DepTime_Dest           Dest  \\\n",
       "count           950000.000000        950000.000000  950000.000000   \n",
       "mean             12044.048942          1200.804435     143.988526   \n",
       "std               1308.822659          1090.197455      77.514678   \n",
       "min               9548.000000             1.000000       1.000000   \n",
       "25%              10996.000000           354.000000      79.000000   \n",
       "50%              11667.000000           907.000000     152.000000   \n",
       "75%              13057.000000          1696.000000     207.000000   \n",
       "max              14500.000000          5313.000000     292.000000   \n",
       "\n",
       "       count__Month_DayofMonth  count__DepTime_UniqueCarrier  \n",
       "count            950000.000000                 950000.000000  \n",
       "mean               2747.283642                   4445.233154  \n",
       "std                 140.912880                   2621.191405  \n",
       "min                2218.000000                      1.000000  \n",
       "25%                2664.000000                   2626.000000  \n",
       "50%                2769.000000                   4293.000000  \n",
       "75%                2851.000000                   5471.000000  \n",
       "max                3073.000000                  11540.000000  \n",
       "\n",
       "[8 rows x 36 columns]"
      ]
     },
     "execution_count": 80,
     "metadata": {},
     "output_type": "execute_result"
    }
   ],
   "source": [
    "X_train_more.describe()"
   ]
  },
  {
   "cell_type": "code",
   "execution_count": 12,
   "metadata": {
    "ExecuteTime": {
     "end_time": "2018-07-06T16:37:41.363919Z",
     "start_time": "2018-07-06T16:37:41.352629Z"
    }
   },
   "outputs": [],
   "source": [
    "from sklearn.model_selection import train_test_split"
   ]
  },
  {
   "cell_type": "code",
   "execution_count": 86,
   "metadata": {
    "ExecuteTime": {
     "end_time": "2018-07-06T18:15:30.096376Z",
     "start_time": "2018-07-06T18:14:53.078282Z"
    }
   },
   "outputs": [
    {
     "name": "stderr",
     "output_type": "stream",
     "text": [
      "/home/kai/anaconda3/envs/tf_gpu/lib/python3.5/site-packages/lightgbm/engine.py:99: UserWarning: Found `num_boost_round` in params. Will use it instead of argument\n",
      "  warnings.warn(\"Found `{}` in params. Will use it instead of argument\".format(alias))\n",
      "/home/kai/anaconda3/envs/tf_gpu/lib/python3.5/site-packages/lightgbm/engine.py:104: UserWarning: Found `early_stopping_round` in params. Will use it instead of argument\n",
      "  warnings.warn(\"Found `{}` in params. Will use it instead of argument\".format(alias))\n",
      "/home/kai/anaconda3/envs/tf_gpu/lib/python3.5/site-packages/lightgbm/basic.py:1036: UserWarning: Using categorical_feature in Dataset.\n",
      "  warnings.warn('Using categorical_feature in Dataset.')\n",
      "/home/kai/anaconda3/envs/tf_gpu/lib/python3.5/site-packages/lightgbm/basic.py:681: UserWarning: categorical_feature in param dict is overrided.\n",
      "  warnings.warn('categorical_feature in param dict is overrided.')\n"
     ]
    },
    {
     "name": "stdout",
     "output_type": "stream",
     "text": [
      "Training until validation scores don't improve for 10 rounds.\n",
      "[100]\tvalid_0's auc: 0.771418\n",
      "[200]\tvalid_0's auc: 0.782693\n",
      "[300]\tvalid_0's auc: 0.787103\n",
      "[400]\tvalid_0's auc: 0.790043\n",
      "[500]\tvalid_0's auc: 0.792035\n",
      "[600]\tvalid_0's auc: 0.793537\n",
      "[700]\tvalid_0's auc: 0.794763\n",
      "[800]\tvalid_0's auc: 0.795938\n",
      "Early stopping, best iteration is:\n",
      "[809]\tvalid_0's auc: 0.795988\n"
     ]
    }
   ],
   "source": [
    "X_train_ord, X_val_ord, y_train_ord, y_val_ord = train_test_split(X_train_more, y_train_more, test_size=0.3, random_state=2018)\n",
    "lgb_train_ordinal = lgb.Dataset(X_train_ord, y_train_ord, categorical_feature=feat_cols_more)\n",
    "lgb_val_ordinal = lgb.Dataset(X_val_ord, y_val_ord, categorical_feature=feat_cols_more)\n",
    "\n",
    "lgbm = lgb.train(get_lgb_params(), lgb_train_ordinal, valid_sets=lgb_val_ordinal, verbose_eval=100)"
   ]
  },
  {
   "cell_type": "code",
   "execution_count": 94,
   "metadata": {
    "ExecuteTime": {
     "end_time": "2018-07-06T18:28:06.328209Z",
     "start_time": "2018-07-06T18:28:06.320181Z"
    }
   },
   "outputs": [
    {
     "data": {
      "text/plain": [
       "[('count__DepTime_Origin', 1330),\n",
       " ('count__DepTime_Dest', 1292),\n",
       " ('count__Origin_Dest', 1060),\n",
       " ('count__DayofMonth_Origin', 1004),\n",
       " ('count__DayofMonth_Dest', 900),\n",
       " ('count__Month_Dest', 718),\n",
       " ('count__Month_Origin', 704),\n",
       " ('count__Month_DayofMonth', 553),\n",
       " ('count__DayofMonth_UniqueCarrier', 432),\n",
       " ('count__DepTime_UniqueCarrier', 411)]"
      ]
     },
     "execution_count": 94,
     "metadata": {},
     "output_type": "execute_result"
    }
   ],
   "source": [
    "sorted(dict(zip(lgbm.feature_name(), lgbm.feature_importance())).items(), key=lambda x: x[1], reverse=True)[:10]"
   ]
  },
  {
   "cell_type": "code",
   "execution_count": 87,
   "metadata": {
    "ExecuteTime": {
     "end_time": "2018-07-06T18:16:22.010559Z",
     "start_time": "2018-07-06T18:15:35.188187Z"
    }
   },
   "outputs": [
    {
     "name": "stderr",
     "output_type": "stream",
     "text": [
      "/home/kai/anaconda3/envs/tf_gpu/lib/python3.5/site-packages/lightgbm/engine.py:99: UserWarning: Found `num_boost_round` in params. Will use it instead of argument\n",
      "  warnings.warn(\"Found `{}` in params. Will use it instead of argument\".format(alias))\n",
      "/home/kai/anaconda3/envs/tf_gpu/lib/python3.5/site-packages/lightgbm/engine.py:104: UserWarning: Found `early_stopping_round` in params. Will use it instead of argument\n",
      "  warnings.warn(\"Found `{}` in params. Will use it instead of argument\".format(alias))\n",
      "/home/kai/anaconda3/envs/tf_gpu/lib/python3.5/site-packages/lightgbm/basic.py:1036: UserWarning: Using categorical_feature in Dataset.\n",
      "  warnings.warn('Using categorical_feature in Dataset.')\n",
      "/home/kai/anaconda3/envs/tf_gpu/lib/python3.5/site-packages/lightgbm/basic.py:681: UserWarning: categorical_feature in param dict is overrided.\n",
      "  warnings.warn('categorical_feature in param dict is overrided.')\n"
     ]
    },
    {
     "name": "stdout",
     "output_type": "stream",
     "text": [
      "Training until validation scores don't improve for 10 rounds.\n",
      "[100]\tvalid_0's auc: 0.746131\n",
      "[200]\tvalid_0's auc: 0.75759\n",
      "[300]\tvalid_0's auc: 0.763052\n",
      "[400]\tvalid_0's auc: 0.765759\n",
      "[500]\tvalid_0's auc: 0.767486\n",
      "[600]\tvalid_0's auc: 0.76884\n",
      "[700]\tvalid_0's auc: 0.769767\n",
      "[800]\tvalid_0's auc: 0.770591\n",
      "[900]\tvalid_0's auc: 0.771485\n",
      "[1000]\tvalid_0's auc: 0.772182\n",
      "[1100]\tvalid_0's auc: 0.772715\n",
      "[1200]\tvalid_0's auc: 0.773224\n",
      "Early stopping, best iteration is:\n",
      "[1223]\tvalid_0's auc: 0.773434\n"
     ]
    }
   ],
   "source": [
    "# X_train_ord, X_val_ord, y_train_ord, y_val_ord = train_test_split(X_train_more, y_train_more, test_size=0.3, random_state=2018)\n",
    "lgb_train_ordinal = lgb.Dataset(X_train_ord, y_train_ord, categorical_feature=cat_cols)\n",
    "lgb_val_ordinal = lgb.Dataset(X_val_ord, y_val_ord, categorical_feature=cat_cols)\n",
    "\n",
    "lgbm1 = lgb.train(get_lgb_params(), lgb_train_ordinal, valid_sets=lgb_val_ordinal, verbose_eval=100)"
   ]
  },
  {
   "cell_type": "code",
   "execution_count": 92,
   "metadata": {
    "ExecuteTime": {
     "end_time": "2018-07-06T18:27:47.954167Z",
     "start_time": "2018-07-06T18:27:47.946223Z"
    }
   },
   "outputs": [
    {
     "data": {
      "text/plain": [
       "[('Origin', 4835),\n",
       " ('Dest', 4798),\n",
       " ('DayofMonth', 2801),\n",
       " ('DepTime', 1611),\n",
       " ('Month', 446),\n",
       " ('count__DepTime_Origin', 367),\n",
       " ('UniqueCarrier', 338),\n",
       " ('count__DepTime_Dest', 283),\n",
       " ('count__DepTime_Distance', 180),\n",
       " ('DayOfWeek', 144)]"
      ]
     },
     "execution_count": 92,
     "metadata": {},
     "output_type": "execute_result"
    }
   ],
   "source": [
    "sorted(dict(zip(lgbm1.feature_name(), lgbm1.feature_importance())).items(), key=lambda x: x[1], reverse=True)[:10]"
   ]
  },
  {
   "cell_type": "code",
   "execution_count": 74,
   "metadata": {
    "ExecuteTime": {
     "end_time": "2018-07-06T17:50:23.553570Z",
     "start_time": "2018-07-06T17:50:06.558463Z"
    }
   },
   "outputs": [
    {
     "name": "stderr",
     "output_type": "stream",
     "text": [
      "/home/kai/anaconda3/envs/tf_gpu/lib/python3.5/site-packages/lightgbm/engine.py:99: UserWarning: Found `num_boost_round` in params. Will use it instead of argument\n",
      "  warnings.warn(\"Found `{}` in params. Will use it instead of argument\".format(alias))\n",
      "/home/kai/anaconda3/envs/tf_gpu/lib/python3.5/site-packages/lightgbm/engine.py:104: UserWarning: Found `early_stopping_round` in params. Will use it instead of argument\n",
      "  warnings.warn(\"Found `{}` in params. Will use it instead of argument\".format(alias))\n"
     ]
    },
    {
     "name": "stdout",
     "output_type": "stream",
     "text": [
      "Training until validation scores don't improve for 10 rounds.\n",
      "[50]\tvalid_0's auc: 0.71702\n",
      "[100]\tvalid_0's auc: 0.733581\n",
      "[150]\tvalid_0's auc: 0.742689\n",
      "Did not meet early stopping. Best iteration is:\n",
      "[150]\tvalid_0's auc: 0.742689\n"
     ]
    }
   ],
   "source": [
    "# X_train_ord, X_val_ord, y_train_ord, y_val_ord = train_test_split(X_train_more, y_train_more, test_size=0.3, random_state=2018)\n",
    "lgb_train_ordinal = lgb.Dataset(X_train_ord, y_train_ord)#, categorical_feature=cat_cols)\n",
    "lgb_val_ordinal = lgb.Dataset(X_val_ord, y_val_ord)#, categorical_feature=cat_cols)\n",
    "\n",
    "lgbm2 = lgb.train(lgb_params, lgb_train_ordinal, valid_sets=lgb_val_ordinal, verbose_eval=50)"
   ]
  },
  {
   "cell_type": "code",
   "execution_count": 93,
   "metadata": {
    "ExecuteTime": {
     "end_time": "2018-07-06T18:27:58.864741Z",
     "start_time": "2018-07-06T18:27:58.853573Z"
    }
   },
   "outputs": [
    {
     "data": {
      "text/plain": [
       "[('DepTime', 287),\n",
       " ('count__DepTime_Origin', 208),\n",
       " ('Month', 133),\n",
       " ('count__Month_DayOfWeek', 109),\n",
       " ('count__DepTime_Dest', 109),\n",
       " ('count__UniqueCarrier_Origin', 99),\n",
       " ('DayofMonth', 85),\n",
       " ('count__Month_DayofMonth', 76),\n",
       " ('Distance', 70),\n",
       " ('count__DayOfWeek_Dest', 70)]"
      ]
     },
     "execution_count": 93,
     "metadata": {},
     "output_type": "execute_result"
    }
   ],
   "source": [
    "sorted(dict(zip(lgbm2.feature_name(), lgbm2.feature_importance())).items(), key=lambda x: x[1], reverse=True)[:10]"
   ]
  },
  {
   "cell_type": "code",
   "execution_count": 215,
   "metadata": {
    "ExecuteTime": {
     "end_time": "2018-07-06T16:16:37.240464Z",
     "start_time": "2018-07-06T16:16:35.401605Z"
    }
   },
   "outputs": [],
   "source": [
    "X_train_1hot, X_val_1hot, y_train_1hot, y_val_1hot = train_test_split(X_train_one_hot, y_train, test_size=0.3, random_state=2018)\n",
    "lgb_train_1hot = lgb.Dataset(X_train_1hot, y_train_1hot)\n",
    "lgb_val_1hot = lgb.Dataset(X_val_1hot, y_val_1hot)"
   ]
  },
  {
   "cell_type": "code",
   "execution_count": 214,
   "metadata": {
    "ExecuteTime": {
     "end_time": "2018-07-06T16:16:13.879834Z",
     "start_time": "2018-07-06T16:16:13.869267Z"
    }
   },
   "outputs": [
    {
     "data": {
      "text/plain": [
       "((700000, 692), (300000, 692), (700000,), (300000,))"
      ]
     },
     "execution_count": 214,
     "metadata": {},
     "output_type": "execute_result"
    }
   ],
   "source": [
    "X_train_1hot.shape, X_val_1hot.shape, y_train_1hot.shape, y_val_1hot.shape"
   ]
  },
  {
   "cell_type": "code",
   "execution_count": null,
   "metadata": {},
   "outputs": [],
   "source": []
  },
  {
   "cell_type": "code",
   "execution_count": 96,
   "metadata": {
    "ExecuteTime": {
     "end_time": "2018-07-06T18:31:32.382698Z",
     "start_time": "2018-07-06T18:31:32.376767Z"
    }
   },
   "outputs": [
    {
     "data": {
      "text/plain": [
       "176"
      ]
     },
     "execution_count": 96,
     "metadata": {},
     "output_type": "execute_result"
    }
   ],
   "source": [
    "len(feat_cols_more177)"
   ]
  },
  {
   "cell_type": "code",
   "execution_count": 124,
   "metadata": {
    "ExecuteTime": {
     "end_time": "2018-07-06T19:39:41.034741Z",
     "start_time": "2018-07-06T19:39:00.137851Z"
    }
   },
   "outputs": [
    {
     "name": "stderr",
     "output_type": "stream",
     "text": [
      "/home/kai/anaconda3/envs/tf_gpu/lib/python3.5/site-packages/lightgbm/engine.py:99: UserWarning: Found `num_boost_round` in params. Will use it instead of argument\n",
      "  warnings.warn(\"Found `{}` in params. Will use it instead of argument\".format(alias))\n",
      "/home/kai/anaconda3/envs/tf_gpu/lib/python3.5/site-packages/lightgbm/engine.py:104: UserWarning: Found `early_stopping_round` in params. Will use it instead of argument\n",
      "  warnings.warn(\"Found `{}` in params. Will use it instead of argument\".format(alias))\n",
      "/home/kai/anaconda3/envs/tf_gpu/lib/python3.5/site-packages/lightgbm/basic.py:1036: UserWarning: Using categorical_feature in Dataset.\n",
      "  warnings.warn('Using categorical_feature in Dataset.')\n",
      "/home/kai/anaconda3/envs/tf_gpu/lib/python3.5/site-packages/lightgbm/basic.py:681: UserWarning: categorical_feature in param dict is overrided.\n",
      "  warnings.warn('categorical_feature in param dict is overrided.')\n"
     ]
    },
    {
     "name": "stdout",
     "output_type": "stream",
     "text": [
      "Training until validation scores don't improve for 10 rounds.\n",
      "[50]\tvalid_0's auc: 0.768922\n",
      "[100]\tvalid_0's auc: 0.783071\n",
      "[150]\tvalid_0's auc: 0.789543\n",
      "[200]\tvalid_0's auc: 0.793094\n",
      "Did not meet early stopping. Best iteration is:\n",
      "[200]\tvalid_0's auc: 0.793094\n"
     ]
    }
   ],
   "source": [
    "X_train_ord, X_val_ord, y_train_ord, y_val_ord = train_test_split(X_train_more177, y_train_more177, test_size=0.3, random_state=2018)\n",
    "lgb_train_ordinal = lgb.Dataset(X_train_ord, y_train_ord, categorical_feature=cat_cols)\n",
    "lgb_val_ordinal = lgb.Dataset(X_val_ord, y_val_ord, categorical_feature=cat_cols)\n",
    "\n",
    "lgbm177_1 = lgb.train(get_lgb_params(), lgb_train_ordinal, valid_sets=lgb_val_ordinal, verbose_eval=50)"
   ]
  },
  {
   "cell_type": "code",
   "execution_count": 125,
   "metadata": {
    "ExecuteTime": {
     "end_time": "2018-07-06T19:41:54.022014Z",
     "start_time": "2018-07-06T19:40:43.235393Z"
    }
   },
   "outputs": [
    {
     "name": "stderr",
     "output_type": "stream",
     "text": [
      "/home/kai/anaconda3/envs/tf_gpu/lib/python3.5/site-packages/lightgbm/engine.py:99: UserWarning: Found `num_boost_round` in params. Will use it instead of argument\n",
      "  warnings.warn(\"Found `{}` in params. Will use it instead of argument\".format(alias))\n",
      "/home/kai/anaconda3/envs/tf_gpu/lib/python3.5/site-packages/lightgbm/engine.py:104: UserWarning: Found `early_stopping_round` in params. Will use it instead of argument\n",
      "  warnings.warn(\"Found `{}` in params. Will use it instead of argument\".format(alias))\n",
      "/home/kai/anaconda3/envs/tf_gpu/lib/python3.5/site-packages/lightgbm/basic.py:1036: UserWarning: Using categorical_feature in Dataset.\n",
      "  warnings.warn('Using categorical_feature in Dataset.')\n",
      "/home/kai/anaconda3/envs/tf_gpu/lib/python3.5/site-packages/lightgbm/basic.py:681: UserWarning: categorical_feature in param dict is overrided.\n",
      "  warnings.warn('categorical_feature in param dict is overrided.')\n"
     ]
    },
    {
     "name": "stdout",
     "output_type": "stream",
     "text": [
      "Training until validation scores don't improve for 10 rounds.\n",
      "[50]\tvalid_0's auc: 0.784065\n",
      "[100]\tvalid_0's auc: 0.80237\n",
      "[150]\tvalid_0's auc: 0.809354\n",
      "[200]\tvalid_0's auc: 0.812654\n",
      "Did not meet early stopping. Best iteration is:\n",
      "[200]\tvalid_0's auc: 0.812654\n"
     ]
    }
   ],
   "source": [
    "X_train_ord, X_val_ord, y_train_ord, y_val_ord = train_test_split(X_train_more177, y_train_more177, test_size=0.3, random_state=2018)\n",
    "lgb_train_ordinal = lgb.Dataset(X_train_ord, y_train_ord, categorical_feature=feat_cols_more177)\n",
    "lgb_val_ordinal = lgb.Dataset(X_val_ord, y_val_ord, categorical_feature=feat_cols_more177)\n",
    "\n",
    "lgbm177_2 = lgb.train(get_lgb_params(), lgb_train_ordinal, valid_sets=lgb_val_ordinal, verbose_eval=50)"
   ]
  },
  {
   "cell_type": "code",
   "execution_count": 126,
   "metadata": {
    "ExecuteTime": {
     "end_time": "2018-07-06T19:43:02.045692Z",
     "start_time": "2018-07-06T19:42:12.041863Z"
    }
   },
   "outputs": [
    {
     "name": "stderr",
     "output_type": "stream",
     "text": [
      "/home/kai/anaconda3/envs/tf_gpu/lib/python3.5/site-packages/lightgbm/engine.py:99: UserWarning: Found `num_boost_round` in params. Will use it instead of argument\n",
      "  warnings.warn(\"Found `{}` in params. Will use it instead of argument\".format(alias))\n",
      "/home/kai/anaconda3/envs/tf_gpu/lib/python3.5/site-packages/lightgbm/engine.py:104: UserWarning: Found `early_stopping_round` in params. Will use it instead of argument\n",
      "  warnings.warn(\"Found `{}` in params. Will use it instead of argument\".format(alias))\n"
     ]
    },
    {
     "name": "stdout",
     "output_type": "stream",
     "text": [
      "Training until validation scores don't improve for 10 rounds.\n",
      "[50]\tvalid_0's auc: 0.760082\n",
      "[100]\tvalid_0's auc: 0.773752\n",
      "[150]\tvalid_0's auc: 0.781645\n",
      "[200]\tvalid_0's auc: 0.786858\n",
      "Did not meet early stopping. Best iteration is:\n",
      "[200]\tvalid_0's auc: 0.786858\n"
     ]
    }
   ],
   "source": [
    "# X_train_ord, X_val_ord, y_train_ord, y_val_ord = train_test_split(X_train_more177, y_train_more177, test_size=0.3, random_state=2018)\n",
    "lgb_train_ordinal = lgb.Dataset(X_train_ord, y_train_ord)#, categorical_feature=feat_cols_more177)\n",
    "lgb_val_ordinal = lgb.Dataset(X_val_ord, y_val_ord)#, categorical_feature=feat_cols_more177)\n",
    "\n",
    "lgbm177_3 = lgb.train(get_lgb_params(), lgb_train_ordinal, valid_sets=lgb_val_ordinal, verbose_eval=50)"
   ]
  },
  {
   "cell_type": "code",
   "execution_count": 123,
   "metadata": {
    "ExecuteTime": {
     "end_time": "2018-07-06T19:38:42.948727Z",
     "start_time": "2018-07-06T19:38:42.943155Z"
    }
   },
   "outputs": [
    {
     "name": "stdout",
     "output_type": "stream",
     "text": [
      "[dtype('uint8'), dtype('uint8'), dtype('uint16'), dtype('uint16'), dtype('uint8'), dtype('uint16'), dtype('uint16'), dtype('uint8'), dtype('uint8'), dtype('uint8'), dtype('uint16'), dtype('uint8'), dtype('uint16'), dtype('uint8'), dtype('uint8'), dtype('uint8'), dtype('uint16'), dtype('uint8'), dtype('uint8'), dtype('uint8'), dtype('uint8'), dtype('uint16'), dtype('uint8'), dtype('uint16'), dtype('uint8'), dtype('uint8'), dtype('uint16'), dtype('uint16'), dtype('uint16'), dtype('uint8'), dtype('uint8'), dtype('uint16'), dtype('uint8'), dtype('uint16'), dtype('uint16'), dtype('uint16'), dtype('uint8'), dtype('uint16'), dtype('uint16'), dtype('uint8'), dtype('uint16'), dtype('uint16'), dtype('uint8'), dtype('uint8'), dtype('uint8'), dtype('uint16'), dtype('uint16'), dtype('uint16'), dtype('int64'), dtype('uint16'), dtype('uint16'), dtype('uint16'), dtype('uint8'), dtype('uint16'), dtype('uint8'), dtype('uint8'), dtype('uint8'), dtype('uint8'), dtype('uint8'), dtype('uint8'), dtype('uint16'), dtype('uint16'), dtype('uint8'), dtype('uint8'), dtype('uint16'), dtype('uint8'), dtype('uint8'), dtype('uint16'), dtype('uint8'), dtype('uint8'), dtype('uint16'), dtype('uint16'), dtype('uint16'), dtype('uint16'), dtype('uint16'), dtype('uint16'), dtype('int64'), dtype('uint16'), dtype('uint16'), dtype('uint16'), dtype('uint8'), dtype('uint16'), dtype('int64'), dtype('uint8'), dtype('uint16'), dtype('uint8'), dtype('uint16'), dtype('uint16'), dtype('uint16'), dtype('uint8'), dtype('uint8'), dtype('uint16'), dtype('uint16'), dtype('uint16'), dtype('uint8'), dtype('uint8'), dtype('uint8'), dtype('uint16'), dtype('uint16'), dtype('uint16'), dtype('uint16'), dtype('uint8'), dtype('uint16'), dtype('uint16'), dtype('uint8'), dtype('uint8'), dtype('uint16'), dtype('int64'), dtype('uint8'), dtype('uint16'), dtype('uint16'), dtype('uint8'), dtype('uint8'), dtype('uint8'), dtype('uint16'), dtype('uint16'), dtype('uint16'), dtype('uint16'), dtype('uint16'), dtype('uint8'), dtype('uint16'), dtype('uint8'), dtype('uint16'), dtype('uint16'), dtype('int64'), dtype('uint8'), dtype('uint8'), dtype('uint16'), dtype('uint8'), dtype('uint8'), dtype('uint16'), dtype('uint8'), dtype('uint8'), dtype('uint16'), dtype('uint8'), dtype('uint16'), dtype('uint8'), dtype('uint16'), dtype('uint16'), dtype('uint16'), dtype('uint16'), dtype('uint8'), dtype('uint8'), dtype('uint8'), dtype('int64'), dtype('uint16'), dtype('uint16'), dtype('uint16'), dtype('uint16'), dtype('uint16'), dtype('uint8'), dtype('uint8'), dtype('uint16'), dtype('uint8'), dtype('uint16'), dtype('uint16'), dtype('uint8'), dtype('uint8'), dtype('uint16'), dtype('uint8'), dtype('uint8'), dtype('uint8'), dtype('uint8'), dtype('uint16'), dtype('int64'), dtype('uint8'), dtype('uint8'), dtype('uint16'), dtype('uint16'), dtype('uint8'), dtype('uint8'), dtype('uint8'), dtype('uint8'), dtype('uint16'), dtype('uint8'), dtype('uint16')]\n"
     ]
    }
   ],
   "source": [
    "print(list(X_train_more177.dtypes))"
   ]
  },
  {
   "cell_type": "code",
   "execution_count": 108,
   "metadata": {
    "ExecuteTime": {
     "end_time": "2018-07-06T19:34:32.437269Z",
     "start_time": "2018-07-06T19:34:28.432505Z"
    }
   },
   "outputs": [
    {
     "name": "stderr",
     "output_type": "stream",
     "text": [
      "/home/kai/anaconda3/envs/tf_gpu/lib/python3.5/site-packages/ipykernel_launcher.py:2: SettingWithCopyWarning: \n",
      "A value is trying to be set on a copy of a slice from a DataFrame.\n",
      "Try using .loc[row_indexer,col_indexer] = value instead\n",
      "\n",
      "See the caveats in the documentation: http://pandas.pydata.org/pandas-docs/stable/indexing.html#indexing-view-versus-copy\n",
      "  \n",
      "/home/kai/anaconda3/envs/tf_gpu/lib/python3.5/site-packages/ipykernel_launcher.py:3: SettingWithCopyWarning: \n",
      "A value is trying to be set on a copy of a slice from a DataFrame.\n",
      "Try using .loc[row_indexer,col_indexer] = value instead\n",
      "\n",
      "See the caveats in the documentation: http://pandas.pydata.org/pandas-docs/stable/indexing.html#indexing-view-versus-copy\n",
      "  This is separate from the ipykernel package so we can avoid doing imports until\n"
     ]
    }
   ],
   "source": [
    "for col in X_train_more177:\n",
    "    X_train_more177[col] = X_train_more177[col].astype(np.int32)\n",
    "    X_test_more177[col] = X_test_more177[col].astype(np.int32)"
   ]
  }
 ],
 "metadata": {
  "kernelspec": {
   "display_name": "Python 3.5 (tf_gpu)",
   "language": "python",
   "name": "tf_gpu"
  },
  "language_info": {
   "codemirror_mode": {
    "name": "ipython",
    "version": 3
   },
   "file_extension": ".py",
   "mimetype": "text/x-python",
   "name": "python",
   "nbconvert_exporter": "python",
   "pygments_lexer": "ipython3",
   "version": "3.5.5"
  },
  "varInspector": {
   "cols": {
    "lenName": 16,
    "lenType": 16,
    "lenVar": 40
   },
   "kernels_config": {
    "python": {
     "delete_cmd_postfix": "",
     "delete_cmd_prefix": "del ",
     "library": "var_list.py",
     "varRefreshCmd": "print(var_dic_list())"
    },
    "r": {
     "delete_cmd_postfix": ") ",
     "delete_cmd_prefix": "rm(",
     "library": "var_list.r",
     "varRefreshCmd": "cat(var_dic_list()) "
    }
   },
   "types_to_exclude": [
    "module",
    "function",
    "builtin_function_or_method",
    "instance",
    "_Feature"
   ],
   "window_display": false
  }
 },
 "nbformat": 4,
 "nbformat_minor": 2
}
