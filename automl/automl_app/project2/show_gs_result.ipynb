{
 "cells": [
  {
   "cell_type": "code",
   "execution_count": 104,
   "metadata": {
    "ExecuteTime": {
     "end_time": "2018-07-01T17:37:51.707592Z",
     "start_time": "2018-07-01T17:37:51.651750Z"
    }
   },
   "outputs": [
    {
     "data": {
      "text/html": [
       "<div>\n",
       "<style scoped>\n",
       "    .dataframe tbody tr th:only-of-type {\n",
       "        vertical-align: middle;\n",
       "    }\n",
       "\n",
       "    .dataframe tbody tr th {\n",
       "        vertical-align: top;\n",
       "    }\n",
       "\n",
       "    .dataframe thead th {\n",
       "        text-align: right;\n",
       "    }\n",
       "</style>\n",
       "<table border=\"1\" class=\"dataframe\">\n",
       "  <thead>\n",
       "    <tr style=\"text-align: right;\">\n",
       "      <th></th>\n",
       "      <th>bagging_fraction</th>\n",
       "      <th>bagging_freq</th>\n",
       "      <th>bagging_seed</th>\n",
       "      <th>best_round</th>\n",
       "      <th>boosting</th>\n",
       "      <th>cv</th>\n",
       "      <th>feature_fraction</th>\n",
       "      <th>feature_fraction_seed</th>\n",
       "      <th>gs_timespent</th>\n",
       "      <th>learning_rate</th>\n",
       "      <th>max_depth</th>\n",
       "      <th>metric</th>\n",
       "      <th>min_data_in_leaf</th>\n",
       "      <th>num_leaves</th>\n",
       "      <th>num_threads</th>\n",
       "      <th>objective</th>\n",
       "      <th>pred_timespent</th>\n",
       "      <th>scale_pos_weight</th>\n",
       "      <th>timestamp</th>\n",
       "      <th>val_auc</th>\n",
       "    </tr>\n",
       "  </thead>\n",
       "  <tbody>\n",
       "    <tr>\n",
       "      <th>JaeJ</th>\n",
       "      <td>0.9</td>\n",
       "      <td>1</td>\n",
       "      <td>39553610</td>\n",
       "      <td>30</td>\n",
       "      <td>gbdt</td>\n",
       "      <td>True</td>\n",
       "      <td>1.0</td>\n",
       "      <td>39553610</td>\n",
       "      <td>0:00:01</td>\n",
       "      <td>0.03</td>\n",
       "      <td>-1</td>\n",
       "      <td>auc</td>\n",
       "      <td>41</td>\n",
       "      <td>15</td>\n",
       "      <td>8</td>\n",
       "      <td>binary</td>\n",
       "      <td>0:00:00</td>\n",
       "      <td>1</td>\n",
       "      <td>2018-07-01 13:23:16</td>\n",
       "      <td>0.715087</td>\n",
       "    </tr>\n",
       "    <tr>\n",
       "      <th>y4mr</th>\n",
       "      <td>0.4</td>\n",
       "      <td>1</td>\n",
       "      <td>36986887</td>\n",
       "      <td>30</td>\n",
       "      <td>gbdt</td>\n",
       "      <td>True</td>\n",
       "      <td>0.9</td>\n",
       "      <td>36986887</td>\n",
       "      <td>0:00:01</td>\n",
       "      <td>0.03</td>\n",
       "      <td>-1</td>\n",
       "      <td>auc</td>\n",
       "      <td>40</td>\n",
       "      <td>15</td>\n",
       "      <td>8</td>\n",
       "      <td>binary</td>\n",
       "      <td>0:00:00</td>\n",
       "      <td>1</td>\n",
       "      <td>2018-07-01 13:23:13</td>\n",
       "      <td>0.714274</td>\n",
       "    </tr>\n",
       "  </tbody>\n",
       "</table>\n",
       "</div>"
      ],
      "text/plain": [
       "      bagging_fraction  bagging_freq    ...               timestamp   val_auc\n",
       "JaeJ               0.9             1    ...     2018-07-01 13:23:16  0.715087\n",
       "y4mr               0.4             1    ...     2018-07-01 13:23:13  0.714274\n",
       "\n",
       "[2 rows x 20 columns]"
      ]
     },
     "execution_count": 104,
     "metadata": {},
     "output_type": "execute_result"
    }
   ],
   "source": [
    "import pandas as pd\n",
    "\n",
    "gs_res = pd.read_csv('output/lgb_grid_search.csv', index_col='Unnamed: 0').sort_values(by=['val_auc'], ascending=False)\n",
    "#0.829998\n",
    "gs_res.head()"
   ]
  },
  {
   "cell_type": "code",
   "execution_count": 105,
   "metadata": {
    "ExecuteTime": {
     "end_time": "2018-07-01T17:38:02.744593Z",
     "start_time": "2018-07-01T17:38:02.687165Z"
    }
   },
   "outputs": [
    {
     "data": {
      "text/html": [
       "<div>\n",
       "<style scoped>\n",
       "    .dataframe tbody tr th:only-of-type {\n",
       "        vertical-align: middle;\n",
       "    }\n",
       "\n",
       "    .dataframe tbody tr th {\n",
       "        vertical-align: top;\n",
       "    }\n",
       "\n",
       "    .dataframe thead th {\n",
       "        text-align: right;\n",
       "    }\n",
       "</style>\n",
       "<table border=\"1\" class=\"dataframe\">\n",
       "  <thead>\n",
       "    <tr style=\"text-align: right;\">\n",
       "      <th></th>\n",
       "      <th>batch_size</th>\n",
       "      <th>best_epoch</th>\n",
       "      <th>cat_emb_outdim</th>\n",
       "      <th>combined_dense_n_layers</th>\n",
       "      <th>dense_units</th>\n",
       "      <th>drop_rate</th>\n",
       "      <th>ep_for_lr</th>\n",
       "      <th>gs_timespent</th>\n",
       "      <th>lr_fin</th>\n",
       "      <th>lr_init</th>\n",
       "      <th>max_ep</th>\n",
       "      <th>mode</th>\n",
       "      <th>monitor</th>\n",
       "      <th>nn_seed</th>\n",
       "      <th>num_dense_n_layers</th>\n",
       "      <th>patience</th>\n",
       "      <th>pred_batch_size</th>\n",
       "      <th>pred_timespent</th>\n",
       "      <th>timestamp</th>\n",
       "      <th>trn_acc</th>\n",
       "      <th>trn_loss</th>\n",
       "      <th>val_acc</th>\n",
       "      <th>val_auc</th>\n",
       "      <th>val_loss</th>\n",
       "    </tr>\n",
       "  </thead>\n",
       "  <tbody>\n",
       "    <tr>\n",
       "      <th>t5uq</th>\n",
       "      <td>256</td>\n",
       "      <td>1</td>\n",
       "      <td>50</td>\n",
       "      <td>2</td>\n",
       "      <td>100</td>\n",
       "      <td>0.2</td>\n",
       "      <td>1</td>\n",
       "      <td>0:00:10</td>\n",
       "      <td>0.005</td>\n",
       "      <td>0.01</td>\n",
       "      <td>1</td>\n",
       "      <td>max</td>\n",
       "      <td>val_auc</td>\n",
       "      <td>13393763</td>\n",
       "      <td>1</td>\n",
       "      <td>1</td>\n",
       "      <td>100000</td>\n",
       "      <td>0:00:00</td>\n",
       "      <td>2018-07-01 13:26:36</td>\n",
       "      <td>0.80943</td>\n",
       "      <td>0.454579</td>\n",
       "      <td>0.812785</td>\n",
       "      <td>0.722147</td>\n",
       "      <td>0.439617</td>\n",
       "    </tr>\n",
       "    <tr>\n",
       "      <th>1rso</th>\n",
       "      <td>64</td>\n",
       "      <td>1</td>\n",
       "      <td>50</td>\n",
       "      <td>2</td>\n",
       "      <td>100</td>\n",
       "      <td>0.2</td>\n",
       "      <td>1</td>\n",
       "      <td>0:00:33</td>\n",
       "      <td>0.005</td>\n",
       "      <td>0.01</td>\n",
       "      <td>1</td>\n",
       "      <td>max</td>\n",
       "      <td>val_auc</td>\n",
       "      <td>25288218</td>\n",
       "      <td>1</td>\n",
       "      <td>1</td>\n",
       "      <td>100000</td>\n",
       "      <td>0:00:00</td>\n",
       "      <td>2018-07-01 13:26:03</td>\n",
       "      <td>0.80802</td>\n",
       "      <td>0.457020</td>\n",
       "      <td>0.812235</td>\n",
       "      <td>0.720712</td>\n",
       "      <td>0.439308</td>\n",
       "    </tr>\n",
       "  </tbody>\n",
       "</table>\n",
       "</div>"
      ],
      "text/plain": [
       "      batch_size  best_epoch    ...      val_auc  val_loss\n",
       "t5uq         256           1    ...     0.722147  0.439617\n",
       "1rso          64           1    ...     0.720712  0.439308\n",
       "\n",
       "[2 rows x 24 columns]"
      ]
     },
     "execution_count": 105,
     "metadata": {},
     "output_type": "execute_result"
    }
   ],
   "source": [
    "import pandas as pd\n",
    "\n",
    "gs_nn_res = pd.read_csv('output/nn_grid_search.csv', index_col='Unnamed: 0').sort_values(by=['val_auc'], ascending=False)\n",
    "#0.829998\n",
    "gs_nn_res.head()"
   ]
  },
  {
   "cell_type": "code",
   "execution_count": 56,
   "metadata": {
    "ExecuteTime": {
     "end_time": "2018-07-01T12:02:52.200662Z",
     "start_time": "2018-07-01T12:02:52.169541Z"
    }
   },
   "outputs": [
    {
     "name": "stdout",
     "output_type": "stream",
     "text": [
      "nn_grid_search.csv\n",
      "lgb_grid_search.csv\n"
     ]
    }
   ],
   "source": [
    "from os import listdir\n",
    "\n",
    "for filename in listdir('output'):\n",
    "    if '_grid_search' in filename:\n",
    "        print(filename)"
   ]
  },
  {
   "cell_type": "code",
   "execution_count": 103,
   "metadata": {
    "ExecuteTime": {
     "end_time": "2018-07-01T17:34:28.998215Z",
     "start_time": "2018-07-01T17:34:28.955849Z"
    }
   },
   "outputs": [
    {
     "data": {
      "text/html": [
       "<div>\n",
       "<style scoped>\n",
       "    .dataframe tbody tr th:only-of-type {\n",
       "        vertical-align: middle;\n",
       "    }\n",
       "\n",
       "    .dataframe tbody tr th {\n",
       "        vertical-align: top;\n",
       "    }\n",
       "\n",
       "    .dataframe thead th {\n",
       "        text-align: right;\n",
       "    }\n",
       "</style>\n",
       "<table border=\"1\" class=\"dataframe\">\n",
       "  <thead>\n",
       "    <tr style=\"text-align: right;\">\n",
       "      <th></th>\n",
       "      <th>model_data</th>\n",
       "      <th>test_score</th>\n",
       "      <th>gs_val_auc</th>\n",
       "      <th>oof_cv_score</th>\n",
       "      <th>chosen model_data</th>\n",
       "    </tr>\n",
       "  </thead>\n",
       "  <tbody>\n",
       "    <tr>\n",
       "      <th>4</th>\n",
       "      <td>fwDp__LOGREG_layer2</td>\n",
       "      <td>0.504019</td>\n",
       "      <td>NaN</td>\n",
       "      <td>0.509839</td>\n",
       "      <td>JaeJ__LGB | y4mr__LGB</td>\n",
       "    </tr>\n",
       "    <tr>\n",
       "      <th>6</th>\n",
       "      <td>y4mr__LGB_flight_data_ordinal_layer1</td>\n",
       "      <td>0.713570</td>\n",
       "      <td>0.714274</td>\n",
       "      <td>0.714222</td>\n",
       "      <td>NaN</td>\n",
       "    </tr>\n",
       "    <tr>\n",
       "      <th>3</th>\n",
       "      <td>JaeJ__LGB_flight_data_ordinal_layer1</td>\n",
       "      <td>0.714128</td>\n",
       "      <td>0.715087</td>\n",
       "      <td>0.714871</td>\n",
       "      <td>NaN</td>\n",
       "    </tr>\n",
       "    <tr>\n",
       "      <th>1</th>\n",
       "      <td>Av0A__LOGREG_layer2</td>\n",
       "      <td>0.714459</td>\n",
       "      <td>NaN</td>\n",
       "      <td>0.714934</td>\n",
       "      <td>JaeJ__LGB | y4mr__LGB</td>\n",
       "    </tr>\n",
       "    <tr>\n",
       "      <th>0</th>\n",
       "      <td>1rso__NN_flight_data_ordinal_layer1</td>\n",
       "      <td>0.724956</td>\n",
       "      <td>0.720712</td>\n",
       "      <td>0.723566</td>\n",
       "      <td>NaN</td>\n",
       "    </tr>\n",
       "    <tr>\n",
       "      <th>5</th>\n",
       "      <td>t5uq__NN_flight_data_ordinal_layer1</td>\n",
       "      <td>0.732071</td>\n",
       "      <td>0.722147</td>\n",
       "      <td>0.727365</td>\n",
       "      <td>NaN</td>\n",
       "    </tr>\n",
       "    <tr>\n",
       "      <th>2</th>\n",
       "      <td>HCUo__LOGREG_layer2</td>\n",
       "      <td>0.731743</td>\n",
       "      <td>NaN</td>\n",
       "      <td>0.728863</td>\n",
       "      <td>JaeJ__LGB | y4mr__LGB | 1rso__NN | t5uq__NN</td>\n",
       "    </tr>\n",
       "  </tbody>\n",
       "</table>\n",
       "</div>"
      ],
      "text/plain": [
       "                             model_data  test_score  gs_val_auc  oof_cv_score                            chosen model_data\n",
       "4                   fwDp__LOGREG_layer2    0.504019         NaN      0.509839                        JaeJ__LGB | y4mr__LGB\n",
       "6  y4mr__LGB_flight_data_ordinal_layer1    0.713570    0.714274      0.714222                                          NaN\n",
       "3  JaeJ__LGB_flight_data_ordinal_layer1    0.714128    0.715087      0.714871                                          NaN\n",
       "1                   Av0A__LOGREG_layer2    0.714459         NaN      0.714934                        JaeJ__LGB | y4mr__LGB\n",
       "0   1rso__NN_flight_data_ordinal_layer1    0.724956    0.720712      0.723566                                          NaN\n",
       "5   t5uq__NN_flight_data_ordinal_layer1    0.732071    0.722147      0.727365                                          NaN\n",
       "2                   HCUo__LOGREG_layer2    0.731743         NaN      0.728863  JaeJ__LGB | y4mr__LGB | 1rso__NN | t5uq__NN"
      ]
     },
     "execution_count": 103,
     "metadata": {},
     "output_type": "execute_result"
    }
   ],
   "source": [
    "stacknet_res = pd.read_csv('output/oof/stacknet_report.csv').sort_values(by=['oof_cv_score'])\n",
    "\n",
    "stacknet_res"
   ]
  },
  {
   "cell_type": "code",
   "execution_count": 2,
   "metadata": {
    "ExecuteTime": {
     "end_time": "2018-07-01T02:19:49.093426Z",
     "start_time": "2018-07-01T02:19:49.071922Z"
    }
   },
   "outputs": [
    {
     "name": "stdout",
     "output_type": "stream",
     "text": [
      "['', '/home/kai/anaconda3/envs/tf_gpu/lib/python35.zip', '/home/kai/anaconda3/envs/tf_gpu/lib/python3.5', '/home/kai/anaconda3/envs/tf_gpu/lib/python3.5/plat-linux', '/home/kai/anaconda3/envs/tf_gpu/lib/python3.5/lib-dynload', '/home/kai/.local/lib/python3.5/site-packages', '/home/kai/anaconda3/envs/tf_gpu/lib/python3.5/site-packages', '/home/kai/anaconda3/envs/tf_gpu/lib/python3.5/site-packages/IPython/extensions', '/home/kai/.ipython', '/home/kai/data/shiyi/AlphaBoosting/automl']\n"
     ]
    }
   ],
   "source": [
    "import os\n",
    "import sys\n",
    "#nb_dir = os.path.split(os.getcwd())[0]\n",
    "#if nb_dir not in sys.path:\n",
    "#    sys.path.append(nb_dir)\n",
    "    \n",
    "autolib_dir = '/home/kai/data/shiyi/AlphaBoosting/automl'\n",
    "if autolib_dir not in sys.path:\n",
    "    sys.path.append(autolib_dir)\n",
    "\n",
    "print(sys.path)\n",
    "\n",
    "%load_ext autoreload\n",
    "%autoreload 2"
   ]
  },
  {
   "cell_type": "code",
   "execution_count": 36,
   "metadata": {
    "ExecuteTime": {
     "end_time": "2018-07-01T02:36:46.687291Z",
     "start_time": "2018-07-01T02:36:46.655578Z"
    }
   },
   "outputs": [],
   "source": [
    "from automl_libs import BaseLayerResultsRepo"
   ]
  },
  {
   "cell_type": "code",
   "execution_count": 37,
   "metadata": {
    "ExecuteTime": {
     "end_time": "2018-07-01T02:36:46.939196Z",
     "start_time": "2018-07-01T02:36:46.890890Z"
    }
   },
   "outputs": [],
   "source": [
    "repo = BaseLayerResultsRepo(['label'], 'output/oof/', load_from_file=True)"
   ]
  },
  {
   "cell_type": "code",
   "execution_count": 38,
   "metadata": {
    "ExecuteTime": {
     "end_time": "2018-07-01T02:36:47.250712Z",
     "start_time": "2018-07-01T02:36:47.219616Z"
    }
   },
   "outputs": [
    {
     "name": "stdout",
     "output_type": "stream",
     "text": [
      "0.7315492716625718 1530412261__LOGREG_layer2\n",
      "0.7315275954635782 1530412229__LOGREG_layer2\n",
      "0.7269551244985933 1530409216__LGB_flight_data_ordinal\n",
      "0.7226665566391379 1530409210__LGB_flight_data_ordinal\n",
      "0.7142048521932204 1530409222__LGB_flight_data_ordinal\n",
      "0 1530410638__LOGREG_layer2\n"
     ]
    }
   ],
   "source": [
    "for m,s in repo.show_scores():\n",
    "    print(s,m)"
   ]
  },
  {
   "cell_type": "code",
   "execution_count": 97,
   "metadata": {
    "ExecuteTime": {
     "end_time": "2018-07-01T17:11:40.261947Z",
     "start_time": "2018-07-01T17:11:40.232173Z"
    }
   },
   "outputs": [
    {
     "data": {
      "text/plain": [
       "{1530450414: {'bagging_fraction': 0.7,\n",
       "  'bagging_freq': 1,\n",
       "  'bagging_seed': 36256925,\n",
       "  'best_round': 30,\n",
       "  'boosting': 'gbdt',\n",
       "  'cv': True,\n",
       "  'feature_fraction': 1.0,\n",
       "  'feature_fraction_seed': 36256925,\n",
       "  'gs_timespent': '0:00:02',\n",
       "  'learning_rate': 0.1,\n",
       "  'max_depth': -1,\n",
       "  'metric': 'auc',\n",
       "  'min_data_in_leaf': 22,\n",
       "  'num_leaves': 31,\n",
       "  'num_threads': 8,\n",
       "  'objective': 'binary',\n",
       "  'pred_timespent': '0:00:01',\n",
       "  'scale_pos_weight': 1,\n",
       "  'timestamp': '2018-07-01 09:06:54',\n",
       "  'val_auc': 0.737820625997909}}"
      ]
     },
     "execution_count": 97,
     "metadata": {},
     "output_type": "execute_result"
    }
   ],
   "source": [
    "gs_res.head(1).T.to_dict()"
   ]
  }
 ],
 "metadata": {
  "kernelspec": {
   "display_name": "Python 3.5 (tf_gpu)",
   "language": "python",
   "name": "tf_gpu"
  },
  "language_info": {
   "codemirror_mode": {
    "name": "ipython",
    "version": 3
   },
   "file_extension": ".py",
   "mimetype": "text/x-python",
   "name": "python",
   "nbconvert_exporter": "python",
   "pygments_lexer": "ipython3",
   "version": "3.5.5"
  },
  "varInspector": {
   "cols": {
    "lenName": 16,
    "lenType": 16,
    "lenVar": 40
   },
   "kernels_config": {
    "python": {
     "delete_cmd_postfix": "",
     "delete_cmd_prefix": "del ",
     "library": "var_list.py",
     "varRefreshCmd": "print(var_dic_list())"
    },
    "r": {
     "delete_cmd_postfix": ") ",
     "delete_cmd_prefix": "rm(",
     "library": "var_list.r",
     "varRefreshCmd": "cat(var_dic_list()) "
    }
   },
   "types_to_exclude": [
    "module",
    "function",
    "builtin_function_or_method",
    "instance",
    "_Feature"
   ],
   "window_display": false
  }
 },
 "nbformat": 4,
 "nbformat_minor": 2
}
