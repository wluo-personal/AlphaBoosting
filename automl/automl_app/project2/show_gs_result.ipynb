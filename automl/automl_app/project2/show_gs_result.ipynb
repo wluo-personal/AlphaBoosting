{
 "cells": [
  {
   "cell_type": "code",
   "execution_count": 9,
   "metadata": {
    "ExecuteTime": {
     "end_time": "2018-07-29T17:03:00.839465Z",
     "start_time": "2018-07-29T17:03:00.806334Z"
    }
   },
   "outputs": [
    {
     "name": "stdout",
     "output_type": "stream",
     "text": [
      "catb_ordinal2_stacknet.csv\n"
     ]
    }
   ],
   "source": [
    "from os import listdir\n",
    "import pandas as pd\n",
    "\n",
    "for filename in listdir('output'):\n",
    "    if '_grid_search' in filename:\n",
    "        print(filename)\n",
    "    if '_stacknet' in filename:\n",
    "        print(filename)"
   ]
  },
  {
   "cell_type": "code",
   "execution_count": 4,
   "metadata": {
    "ExecuteTime": {
     "end_time": "2018-07-29T15:46:39.002623Z",
     "start_time": "2018-07-29T15:46:38.922440Z"
    }
   },
   "outputs": [
    {
     "data": {
      "text/html": [
       "<div>\n",
       "<style scoped>\n",
       "    .dataframe tbody tr th:only-of-type {\n",
       "        vertical-align: middle;\n",
       "    }\n",
       "\n",
       "    .dataframe tbody tr th {\n",
       "        vertical-align: top;\n",
       "    }\n",
       "\n",
       "    .dataframe thead th {\n",
       "        text-align: right;\n",
       "    }\n",
       "</style>\n",
       "<table border=\"1\" class=\"dataframe\">\n",
       "  <thead>\n",
       "    <tr style=\"text-align: right;\">\n",
       "      <th></th>\n",
       "      <th>cv_train_auc</th>\n",
       "      <th>cv_val_auc</th>\n",
       "      <th>data_name</th>\n",
       "      <th>depth</th>\n",
       "      <th>eval_metric</th>\n",
       "      <th>iterations</th>\n",
       "      <th>l2_leaf_reg</th>\n",
       "      <th>logging_level</th>\n",
       "      <th>oof_seed</th>\n",
       "      <th>random_seed</th>\n",
       "      <th>thread_count</th>\n",
       "      <th>use_best_model</th>\n",
       "    </tr>\n",
       "  </thead>\n",
       "  <tbody>\n",
       "    <tr>\n",
       "      <th>WXN6</th>\n",
       "      <td>0.861441</td>\n",
       "      <td>0.720555</td>\n",
       "      <td>ordinal2</td>\n",
       "      <td>6</td>\n",
       "      <td>AUC</td>\n",
       "      <td>660</td>\n",
       "      <td>1.6</td>\n",
       "      <td>Verbose</td>\n",
       "      <td>2933533</td>\n",
       "      <td>2933533</td>\n",
       "      <td>15</td>\n",
       "      <td>True</td>\n",
       "    </tr>\n",
       "    <tr>\n",
       "      <th>vd3w</th>\n",
       "      <td>0.942573</td>\n",
       "      <td>0.717250</td>\n",
       "      <td>ordinal2</td>\n",
       "      <td>10</td>\n",
       "      <td>AUC</td>\n",
       "      <td>627</td>\n",
       "      <td>1.5</td>\n",
       "      <td>Verbose</td>\n",
       "      <td>33854281</td>\n",
       "      <td>33854281</td>\n",
       "      <td>15</td>\n",
       "      <td>True</td>\n",
       "    </tr>\n",
       "    <tr>\n",
       "      <th>VPst</th>\n",
       "      <td>0.741116</td>\n",
       "      <td>0.702238</td>\n",
       "      <td>ordinal2</td>\n",
       "      <td>9</td>\n",
       "      <td>AUC</td>\n",
       "      <td>99</td>\n",
       "      <td>2.0</td>\n",
       "      <td>Verbose</td>\n",
       "      <td>39668728</td>\n",
       "      <td>39668728</td>\n",
       "      <td>15</td>\n",
       "      <td>True</td>\n",
       "    </tr>\n",
       "    <tr>\n",
       "      <th>MNQX</th>\n",
       "      <td>0.722806</td>\n",
       "      <td>0.693673</td>\n",
       "      <td>ordinal2</td>\n",
       "      <td>6</td>\n",
       "      <td>AUC</td>\n",
       "      <td>100</td>\n",
       "      <td>0.7</td>\n",
       "      <td>Verbose</td>\n",
       "      <td>34233612</td>\n",
       "      <td>34233612</td>\n",
       "      <td>15</td>\n",
       "      <td>True</td>\n",
       "    </tr>\n",
       "  </tbody>\n",
       "</table>\n",
       "</div>"
      ],
      "text/plain": [
       "      cv_train_auc  cv_val_auc data_name  depth eval_metric  iterations  \\\n",
       "WXN6      0.861441    0.720555  ordinal2      6         AUC         660   \n",
       "vd3w      0.942573    0.717250  ordinal2     10         AUC         627   \n",
       "VPst      0.741116    0.702238  ordinal2      9         AUC          99   \n",
       "MNQX      0.722806    0.693673  ordinal2      6         AUC         100   \n",
       "\n",
       "      l2_leaf_reg logging_level  oof_seed  random_seed  thread_count  \\\n",
       "WXN6          1.6       Verbose   2933533      2933533            15   \n",
       "vd3w          1.5       Verbose  33854281     33854281            15   \n",
       "VPst          2.0       Verbose  39668728     39668728            15   \n",
       "MNQX          0.7       Verbose  34233612     34233612            15   \n",
       "\n",
       "      use_best_model  \n",
       "WXN6            True  \n",
       "vd3w            True  \n",
       "VPst            True  \n",
       "MNQX            True  "
      ]
     },
     "execution_count": 4,
     "metadata": {},
     "output_type": "execute_result"
    }
   ],
   "source": [
    "sn_res = pd.read_csv('output/catb_ordinal2_stacknet.csv', index_col='Unnamed: 0').sort_values(by=['cv_val_auc'], ascending=False)\n",
    "#0.829998\n",
    "sn_res.head()"
   ]
  },
  {
   "cell_type": "code",
   "execution_count": 9,
   "metadata": {
    "ExecuteTime": {
     "end_time": "2018-07-27T17:22:53.890407Z",
     "start_time": "2018-07-27T17:22:53.862032Z"
    }
   },
   "outputs": [
    {
     "data": {
      "text/html": [
       "<div>\n",
       "<style scoped>\n",
       "    .dataframe tbody tr th:only-of-type {\n",
       "        vertical-align: middle;\n",
       "    }\n",
       "\n",
       "    .dataframe tbody tr th {\n",
       "        vertical-align: top;\n",
       "    }\n",
       "\n",
       "    .dataframe thead th {\n",
       "        text-align: right;\n",
       "    }\n",
       "</style>\n",
       "<table border=\"1\" class=\"dataframe\">\n",
       "  <thead>\n",
       "    <tr style=\"text-align: right;\">\n",
       "      <th></th>\n",
       "      <th>best_round</th>\n",
       "      <th>cv</th>\n",
       "      <th>data_name</th>\n",
       "      <th>depth</th>\n",
       "      <th>eval_metric</th>\n",
       "      <th>gs_timespent</th>\n",
       "      <th>iterations</th>\n",
       "      <th>l2_leaf_reg</th>\n",
       "      <th>logging_level</th>\n",
       "      <th>pred_timespent</th>\n",
       "      <th>random_seed</th>\n",
       "      <th>thread_count</th>\n",
       "      <th>timestamp</th>\n",
       "      <th>train_AUC</th>\n",
       "      <th>train_all_AUC</th>\n",
       "      <th>val_AUC</th>\n",
       "    </tr>\n",
       "  </thead>\n",
       "  <tbody>\n",
       "    <tr>\n",
       "      <th>X6uo</th>\n",
       "      <td>30</td>\n",
       "      <td>False</td>\n",
       "      <td>ordinal2</td>\n",
       "      <td>10</td>\n",
       "      <td>AUC</td>\n",
       "      <td>0:00:04</td>\n",
       "      <td>30</td>\n",
       "      <td>0.7</td>\n",
       "      <td>Verbose</td>\n",
       "      <td>0:00:06</td>\n",
       "      <td>25367694</td>\n",
       "      <td>15</td>\n",
       "      <td>2018-07-25 16:22:29</td>\n",
       "      <td>0.706230</td>\n",
       "      <td>0.737684</td>\n",
       "      <td>0.701732</td>\n",
       "    </tr>\n",
       "    <tr>\n",
       "      <th>UiBN</th>\n",
       "      <td>30</td>\n",
       "      <td>False</td>\n",
       "      <td>ordinal2</td>\n",
       "      <td>7</td>\n",
       "      <td>AUC</td>\n",
       "      <td>0:00:02</td>\n",
       "      <td>30</td>\n",
       "      <td>1.1</td>\n",
       "      <td>Verbose</td>\n",
       "      <td>0:00:02</td>\n",
       "      <td>27857633</td>\n",
       "      <td>15</td>\n",
       "      <td>2018-07-27 13:13:59</td>\n",
       "      <td>0.704351</td>\n",
       "      <td>0.714771</td>\n",
       "      <td>0.700455</td>\n",
       "    </tr>\n",
       "    <tr>\n",
       "      <th>Val5</th>\n",
       "      <td>30</td>\n",
       "      <td>False</td>\n",
       "      <td>ordinal2</td>\n",
       "      <td>8</td>\n",
       "      <td>AUC</td>\n",
       "      <td>0:00:03</td>\n",
       "      <td>30</td>\n",
       "      <td>0.7</td>\n",
       "      <td>Verbose</td>\n",
       "      <td>0:00:03</td>\n",
       "      <td>33892013</td>\n",
       "      <td>15</td>\n",
       "      <td>2018-07-25 16:07:32</td>\n",
       "      <td>0.707702</td>\n",
       "      <td>0.722036</td>\n",
       "      <td>0.699959</td>\n",
       "    </tr>\n",
       "    <tr>\n",
       "      <th>yp1r</th>\n",
       "      <td>30</td>\n",
       "      <td>False</td>\n",
       "      <td>ordinal2</td>\n",
       "      <td>9</td>\n",
       "      <td>AUC</td>\n",
       "      <td>0:00:02</td>\n",
       "      <td>30</td>\n",
       "      <td>2.2</td>\n",
       "      <td>Verbose</td>\n",
       "      <td>0:00:04</td>\n",
       "      <td>26076149</td>\n",
       "      <td>15</td>\n",
       "      <td>2018-07-25 16:07:25</td>\n",
       "      <td>0.704676</td>\n",
       "      <td>0.727607</td>\n",
       "      <td>0.698954</td>\n",
       "    </tr>\n",
       "  </tbody>\n",
       "</table>\n",
       "</div>"
      ],
      "text/plain": [
       "      best_round     cv data_name  depth eval_metric gs_timespent  iterations  \\\n",
       "X6uo          30  False  ordinal2     10         AUC      0:00:04          30   \n",
       "UiBN          30  False  ordinal2      7         AUC      0:00:02          30   \n",
       "Val5          30  False  ordinal2      8         AUC      0:00:03          30   \n",
       "yp1r          30  False  ordinal2      9         AUC      0:00:02          30   \n",
       "\n",
       "      l2_leaf_reg logging_level pred_timespent  random_seed  thread_count  \\\n",
       "X6uo          0.7       Verbose        0:00:06     25367694            15   \n",
       "UiBN          1.1       Verbose        0:00:02     27857633            15   \n",
       "Val5          0.7       Verbose        0:00:03     33892013            15   \n",
       "yp1r          2.2       Verbose        0:00:04     26076149            15   \n",
       "\n",
       "                timestamp  train_AUC  train_all_AUC   val_AUC  \n",
       "X6uo  2018-07-25 16:22:29   0.706230       0.737684  0.701732  \n",
       "UiBN  2018-07-27 13:13:59   0.704351       0.714771  0.700455  \n",
       "Val5  2018-07-25 16:07:32   0.707702       0.722036  0.699959  \n",
       "yp1r  2018-07-25 16:07:25   0.704676       0.727607  0.698954  "
      ]
     },
     "execution_count": 9,
     "metadata": {},
     "output_type": "execute_result"
    }
   ],
   "source": [
    "gs_catb_res = pd.read_csv('output/catb_ordinal2_grid_search.csv', index_col='Unnamed: 0').sort_values(by=['val_AUC'], ascending=False)\n",
    "gs_catb_res.head()"
   ]
  },
  {
   "cell_type": "code",
   "execution_count": 5,
   "metadata": {
    "ExecuteTime": {
     "end_time": "2018-07-29T15:46:58.172829Z",
     "start_time": "2018-07-29T15:46:58.151479Z"
    }
   },
   "outputs": [
    {
     "data": {
      "text/html": [
       "<div>\n",
       "<style scoped>\n",
       "    .dataframe tbody tr th:only-of-type {\n",
       "        vertical-align: middle;\n",
       "    }\n",
       "\n",
       "    .dataframe tbody tr th {\n",
       "        vertical-align: top;\n",
       "    }\n",
       "\n",
       "    .dataframe thead th {\n",
       "        text-align: right;\n",
       "    }\n",
       "</style>\n",
       "<table border=\"1\" class=\"dataframe\">\n",
       "  <thead>\n",
       "    <tr style=\"text-align: right;\">\n",
       "      <th></th>\n",
       "      <th>model_data</th>\n",
       "      <th>timestamp</th>\n",
       "      <th>test_score</th>\n",
       "      <th>oof_cv_score</th>\n",
       "      <th>seed</th>\n",
       "      <th>nfolds</th>\n",
       "    </tr>\n",
       "  </thead>\n",
       "  <tbody>\n",
       "    <tr>\n",
       "      <th>0</th>\n",
       "      <td>MNQX__CATB_ordinal2_layer1</td>\n",
       "      <td>2018-07-29 11:22:32</td>\n",
       "      <td>0.703779</td>\n",
       "      <td>0.693673</td>\n",
       "      <td>34233612</td>\n",
       "      <td>2</td>\n",
       "    </tr>\n",
       "    <tr>\n",
       "      <th>1</th>\n",
       "      <td>VPst__CATB_ordinal2_layer1</td>\n",
       "      <td>2018-07-29 11:22:39</td>\n",
       "      <td>0.705330</td>\n",
       "      <td>0.702238</td>\n",
       "      <td>39668728</td>\n",
       "      <td>2</td>\n",
       "    </tr>\n",
       "    <tr>\n",
       "      <th>3</th>\n",
       "      <td>vd3w__CATB_ordinal2_layer1</td>\n",
       "      <td>2018-07-29 11:11:44</td>\n",
       "      <td>0.719585</td>\n",
       "      <td>0.717250</td>\n",
       "      <td>33854281</td>\n",
       "      <td>2</td>\n",
       "    </tr>\n",
       "    <tr>\n",
       "      <th>2</th>\n",
       "      <td>WXN6__CATB_ordinal2_layer1</td>\n",
       "      <td>2018-07-29 11:10:22</td>\n",
       "      <td>0.718444</td>\n",
       "      <td>0.720555</td>\n",
       "      <td>2933533</td>\n",
       "      <td>2</td>\n",
       "    </tr>\n",
       "  </tbody>\n",
       "</table>\n",
       "</div>"
      ],
      "text/plain": [
       "                   model_data            timestamp  test_score  oof_cv_score  \\\n",
       "0  MNQX__CATB_ordinal2_layer1  2018-07-29 11:22:32    0.703779      0.693673   \n",
       "1  VPst__CATB_ordinal2_layer1  2018-07-29 11:22:39    0.705330      0.702238   \n",
       "3  vd3w__CATB_ordinal2_layer1  2018-07-29 11:11:44    0.719585      0.717250   \n",
       "2  WXN6__CATB_ordinal2_layer1  2018-07-29 11:10:22    0.718444      0.720555   \n",
       "\n",
       "       seed  nfolds  \n",
       "0  34233612       2  \n",
       "1  39668728       2  \n",
       "3  33854281       2  \n",
       "2   2933533       2  "
      ]
     },
     "execution_count": 5,
     "metadata": {},
     "output_type": "execute_result"
    }
   ],
   "source": [
    "stacknet_res = pd.read_csv('output/oof/stacknet_report.csv').sort_values(by=['oof_cv_score'])\n",
    "# stacknet_res['num_model_data'] = stacknet_res['chosen model_data'].apply(lambda x: len(x.split('|')) if x is not np.nan else 0)\n",
    "stacknet_res"
   ]
  },
  {
   "cell_type": "code",
   "execution_count": null,
   "metadata": {},
   "outputs": [],
   "source": [
    "# 1. oof_cv_score vs. gs_val_auc\n",
    "# for NN, oof_cv_score != gs_val_auc is normal, because gs_val_auc is get by train+val in grid search, while \n",
    "# oof_cv_score is got by nfolds cv\n",
    "# for LGB, if gs_cv is true in config file, then oof_cv_score == gs_val_auc (almost). otherwise, based on the same\n",
    "# reason as NN, oof_cv_score != gs_val_auc is normal \n",
    "\n",
    "# 2. test_score\n",
    "# for NN: the one(not showing in log) is got by train+val and load_weights when doing prediction after grid search\n",
    "# (when do_preds is true in config file), and test_score is got during oof where all trainig data are used. It's \n",
    "# normal that they are not equal\n",
    "# for LGB, since model is retrain using all training data when doing prediction after grid search, the one is not in \n",
    "# log == test_score"
   ]
  },
  {
   "cell_type": "code",
   "execution_count": 16,
   "metadata": {
    "ExecuteTime": {
     "end_time": "2018-07-29T17:28:09.645598Z",
     "start_time": "2018-07-29T17:28:09.602998Z"
    }
   },
   "outputs": [
    {
     "name": "stdout",
     "output_type": "stream",
     "text": [
      "['', '/home/kai/anaconda3/envs/tf_gpu/lib/python35.zip', '/home/kai/anaconda3/envs/tf_gpu/lib/python3.5', '/home/kai/anaconda3/envs/tf_gpu/lib/python3.5/plat-linux', '/home/kai/anaconda3/envs/tf_gpu/lib/python3.5/lib-dynload', '/home/kai/.local/lib/python3.5/site-packages', '/home/kai/anaconda3/envs/tf_gpu/lib/python3.5/site-packages', '/home/kai/anaconda3/envs/tf_gpu/lib/python3.5/site-packages/IPython/extensions', '/home/kai/.ipython', '/home/kai/data/shiyi/AlphaBoosting/automl']\n",
      "The autoreload extension is already loaded. To reload it, use:\n",
      "  %reload_ext autoreload\n"
     ]
    }
   ],
   "source": [
    "import os\n",
    "import sys\n",
    "#nb_dir = os.path.split(os.getcwd())[0]\n",
    "#if nb_dir not in sys.path:\n",
    "#    sys.path.append(nb_dir)\n",
    "    \n",
    "autolib_dir = '/home/kai/data/shiyi/AlphaBoosting/automl'\n",
    "if autolib_dir not in sys.path:\n",
    "    sys.path.append(autolib_dir)\n",
    "\n",
    "print(sys.path)\n",
    "\n",
    "%load_ext autoreload\n",
    "%autoreload 2"
   ]
  },
  {
   "cell_type": "code",
   "execution_count": 17,
   "metadata": {
    "ExecuteTime": {
     "end_time": "2018-07-29T17:28:09.940610Z",
     "start_time": "2018-07-29T17:28:09.923859Z"
    }
   },
   "outputs": [],
   "source": [
    "from automl_libs import BaseLayerResultsRepo"
   ]
  },
  {
   "cell_type": "code",
   "execution_count": 25,
   "metadata": {
    "ExecuteTime": {
     "end_time": "2018-07-29T21:41:18.953320Z",
     "start_time": "2018-07-29T21:41:18.768822Z"
    }
   },
   "outputs": [
    {
     "name": "stdout",
     "output_type": "stream",
     "text": [
      "0.7121681805081544 vpeP__LOGREG_layer2\n",
      "0.7054650156014354 wlfr__LGB_ordinal2_layer1\n",
      "0.7042211871721642 qZAR__LGB_ordinal2_layer1\n",
      "0.6900295449740382 mFju__CATB_ordinal2_layer1\n",
      "0.6892801409517826 UKDO__CATB_ordinal2_layer1\n",
      "0.6568122644120544 bsFe__XGB_ordinal2_layer1\n",
      "0.6374596227893377 CxxQ__XGB_ordinal2_layer1\n",
      "0.5623907319752555 76iL__NN_layer2\n"
     ]
    }
   ],
   "source": [
    "repo1 = BaseLayerResultsRepo(['label'], '../project1/output/oof/', load_from_file=True)\n",
    "for m,s in repo1.show_scores():\n",
    "    print(s,m)"
   ]
  },
  {
   "cell_type": "code",
   "execution_count": 29,
   "metadata": {
    "ExecuteTime": {
     "end_time": "2018-07-29T21:43:11.615420Z",
     "start_time": "2018-07-29T21:43:11.571006Z"
    }
   },
   "outputs": [
    {
     "name": "stdout",
     "output_type": "stream",
     "text": [
      "0.7146899471276421 KBPg__LOGREG_layer2\n",
      "0.7079895915409449 S2oN__LGB_ordinal2_layer1\n",
      "0.706068486192415 JBbu__LOGREG_layer2\n",
      "0.7027516979235752 D9UD__LGB_ordinal2_layer1\n",
      "0.69047150751821 qcjp__XGB_ordinal2_layer1\n",
      "0.6893625821588822 BFdf__NN_layer2\n",
      "0.688897253712206 olYz__CATB_ordinal2_layer1\n",
      "0.6886861010809897 UkLS__CATB_ordinal2_layer1\n",
      "0.6839137269122242 AYbJ__XGB_ordinal2_layer1\n",
      "0.6810965121440378 D8a2__NN_layer2\n"
     ]
    }
   ],
   "source": [
    "repo2 = BaseLayerResultsRepo(['label'], '../project3/output/oof/', load_from_file=True)\n",
    "for m,s in repo2.show_scores():\n",
    "    print(s,m)"
   ]
  },
  {
   "cell_type": "code",
   "execution_count": 30,
   "metadata": {
    "ExecuteTime": {
     "end_time": "2018-07-29T21:43:14.504660Z",
     "start_time": "2018-07-29T21:43:14.407818Z"
    }
   },
   "outputs": [
    {
     "name": "stdout",
     "output_type": "stream",
     "text": [
      "Will be merged: ['S2oN__LGB_ordinal2_layer1', 'olYz__CATB_ordinal2_layer1', 'qcjp__XGB_ordinal2_layer1', 'D8a2__NN_layer2', 'KBPg__LOGREG_layer2']\n",
      "Will be ignored: ['BFdf__NN_layer2', 'D9UD__LGB_ordinal2_layer1', 'AYbJ__XGB_ordinal2_layer1', 'UkLS__CATB_ordinal2_layer1', 'JBbu__LOGREG_layer2']\n"
     ]
    }
   ],
   "source": [
    "repo1.merge_another_repo(repo2)"
   ]
  },
  {
   "cell_type": "code",
   "execution_count": 31,
   "metadata": {
    "ExecuteTime": {
     "end_time": "2018-07-29T21:44:06.698492Z",
     "start_time": "2018-07-29T21:44:06.575365Z"
    }
   },
   "outputs": [],
   "source": [
    "repo1.save()"
   ]
  },
  {
   "cell_type": "code",
   "execution_count": null,
   "metadata": {},
   "outputs": [],
   "source": [
    "repo1._laye"
   ]
  },
  {
   "cell_type": "code",
   "execution_count": 32,
   "metadata": {
    "ExecuteTime": {
     "end_time": "2018-07-29T17:15:30.681991Z",
     "start_time": "2018-07-29T17:15:30.551477Z"
    }
   },
   "outputs": [],
   "source": [
    "assert len(repo1.get_model_data_id_list()) > 0\n",
    "assert len(repo2.get_model_data_id_list()) > 0\n",
    "assert set(repo1._label_cols) - set(repo2._label_cols) == set()\n",
    "assert repo1._layer1_oof_train['label'][0].shape == repo2._layer1_oof_train['label'][0].shape\n",
    "assert repo1._layer1_oof_test['label'][0].shape == repo2._layer1_oof_test['label'][0].shape\n",
    "assert list(repo1._base_layer_est_preds.values())[0].shape == list(repo2._base_layer_est_preds.values())[0].shape"
   ]
  },
  {
   "cell_type": "code",
   "execution_count": 22,
   "metadata": {
    "ExecuteTime": {
     "end_time": "2018-07-29T17:09:30.693328Z",
     "start_time": "2018-07-29T17:09:30.659236Z"
    }
   },
   "outputs": [
    {
     "ename": "AttributeError",
     "evalue": "'int' object has no attribute 'shape'",
     "output_type": "error",
     "traceback": [
      "\u001b[0;31m---------------------------------------------------------------------------\u001b[0m",
      "\u001b[0;31mAttributeError\u001b[0m                            Traceback (most recent call last)",
      "\u001b[0;32m<ipython-input-22-5a26f172d5fa>\u001b[0m in \u001b[0;36m<module>\u001b[0;34m()\u001b[0m\n\u001b[0;32m----> 1\u001b[0;31m \u001b[0mlist\u001b[0m\u001b[0;34m(\u001b[0m\u001b[0mrepo1\u001b[0m\u001b[0;34m.\u001b[0m\u001b[0m_base_layer_est_scores\u001b[0m\u001b[0;34m.\u001b[0m\u001b[0mvalues\u001b[0m\u001b[0;34m(\u001b[0m\u001b[0;34m)\u001b[0m\u001b[0;34m)\u001b[0m\u001b[0;34m[\u001b[0m\u001b[0;36m0\u001b[0m\u001b[0;34m]\u001b[0m\u001b[0;34m.\u001b[0m\u001b[0mshape\u001b[0m \u001b[0;34m==\u001b[0m \u001b[0mlist\u001b[0m\u001b[0;34m(\u001b[0m\u001b[0mrepo2\u001b[0m\u001b[0;34m.\u001b[0m\u001b[0m_base_layer_est_scores\u001b[0m\u001b[0;34m.\u001b[0m\u001b[0mvalues\u001b[0m\u001b[0;34m(\u001b[0m\u001b[0;34m)\u001b[0m\u001b[0;34m)\u001b[0m\u001b[0;34m[\u001b[0m\u001b[0;36m0\u001b[0m\u001b[0;34m]\u001b[0m\u001b[0;34m.\u001b[0m\u001b[0mshape\u001b[0m\u001b[0;34m\u001b[0m\u001b[0m\n\u001b[0m",
      "\u001b[0;31mAttributeError\u001b[0m: 'int' object has no attribute 'shape'"
     ]
    }
   ],
   "source": [
    "list(repo1._base_layer_est_scores.values())[0].shape == list(repo2._base_layer_est_scores.values())[0].shape"
   ]
  },
  {
   "cell_type": "code",
   "execution_count": 31,
   "metadata": {
    "ExecuteTime": {
     "end_time": "2018-07-29T17:12:55.599574Z",
     "start_time": "2018-07-29T17:12:55.537244Z"
    }
   },
   "outputs": [
    {
     "data": {
      "text/plain": [
       "False"
      ]
     },
     "execution_count": 31,
     "metadata": {},
     "output_type": "execute_result"
    }
   ],
   "source": [
    "set(repo2.get_model_data_id_list()) - set(repo1.get_model_data_id_list()) == set() # issue a warning\n",
    "set(repo1.get_model_data_id_list()) - set(repo2.get_model_data_id_list()) == set() # issue a warning"
   ]
  },
  {
   "cell_type": "code",
   "execution_count": 27,
   "metadata": {
    "ExecuteTime": {
     "end_time": "2018-07-29T17:11:47.668838Z",
     "start_time": "2018-07-29T17:11:47.632951Z"
    }
   },
   "outputs": [
    {
     "data": {
      "text/plain": [
       "{'MNQX__CATB_ordinal2_layer1': 0,\n",
       " 'VPst__CATB_ordinal2_layer1': 0,\n",
       " 'WXN6__CATB_ordinal2_layer1': 0,\n",
       " 'vd3w__CATB_ordinal2_layer1': 0}"
      ]
     },
     "execution_count": 27,
     "metadata": {},
     "output_type": "execute_result"
    }
   ],
   "source": [
    "repo2._base_layer_est_scores"
   ]
  },
  {
   "cell_type": "code",
   "execution_count": null,
   "metadata": {},
   "outputs": [],
   "source": []
  },
  {
   "cell_type": "code",
   "execution_count": 61,
   "metadata": {
    "ExecuteTime": {
     "end_time": "2018-07-29T16:55:33.439221Z",
     "start_time": "2018-07-29T16:55:33.402324Z"
    }
   },
   "outputs": [],
   "source": [
    "def merge_repos(labelcols, ori, ext):\n",
    "    for label in labelcols:\n",
    "        \n",
    "        ori._layer1_oof_train[label].extend(ext._layer1_oof_train[label])\n",
    "        ori._layer1_oof_test[label].extend(ext._layer1_oof_test[label])\n",
    "        ori._model_data_id_list.extend(ext._model_data_id_list)\n",
    "        ori._base_layer_est_preds.update(ext._base_layer_est_preds)\n",
    "        ori._base_layer_est_scores.update(ext._base_layer_est_scores)\n",
    "        ori._status_report.update(ext._status_report)\n",
    "        print(len(ori._layer1_oof_train[label]))\n",
    "        print(len(ori._layer1_oof_test[label]))"
   ]
  },
  {
   "cell_type": "code",
   "execution_count": 62,
   "metadata": {
    "ExecuteTime": {
     "end_time": "2018-07-29T16:55:36.107978Z",
     "start_time": "2018-07-29T16:55:36.018465Z"
    }
   },
   "outputs": [
    {
     "name": "stdout",
     "output_type": "stream",
     "text": [
      "6\n",
      "6\n"
     ]
    }
   ],
   "source": [
    "merge_repos(['label'], repo1, repo2)"
   ]
  },
  {
   "cell_type": "code",
   "execution_count": 6,
   "metadata": {
    "ExecuteTime": {
     "end_time": "2018-07-29T17:02:46.720269Z",
     "start_time": "2018-07-29T17:02:46.682717Z"
    }
   },
   "outputs": [
    {
     "data": {
      "text/plain": [
       "6"
      ]
     },
     "execution_count": 6,
     "metadata": {},
     "output_type": "execute_result"
    }
   ],
   "source": [
    "len(repo1._model_data_id_list)"
   ]
  },
  {
   "cell_type": "code",
   "execution_count": 7,
   "metadata": {
    "ExecuteTime": {
     "end_time": "2018-07-29T17:02:47.880742Z",
     "start_time": "2018-07-29T17:02:47.847677Z"
    }
   },
   "outputs": [
    {
     "data": {
      "text/plain": [
       "dict_keys(['MNQX__CATB_ordinal2_layer1', 'vd3w__CATB_ordinal2_layer1', 'OG7w__CATB_ordinal2_layer1', 'WXN6__CATB_ordinal2_layer1', 'aiHv__CATB_ordinal2_layer1', 'VPst__CATB_ordinal2_layer1'])"
      ]
     },
     "execution_count": 7,
     "metadata": {},
     "output_type": "execute_result"
    }
   ],
   "source": [
    "repo1._base_layer_est_preds.keys()"
   ]
  },
  {
   "cell_type": "code",
   "execution_count": 68,
   "metadata": {
    "ExecuteTime": {
     "end_time": "2018-07-29T16:57:55.578047Z",
     "start_time": "2018-07-29T16:57:55.484416Z"
    }
   },
   "outputs": [
    {
     "data": {
      "text/plain": [
       "dict_keys(['aiHv__CATB_ordinal2_layer1', 'vd3w__CATB_ordinal2_layer1', 'MNQX__CATB_ordinal2_layer1', 'VPst__CATB_ordinal2_layer1', 'OG7w__CATB_ordinal2_layer1', 'WXN6__CATB_ordinal2_layer1'])"
      ]
     },
     "execution_count": 68,
     "metadata": {},
     "output_type": "execute_result"
    }
   ],
   "source": [
    "repo1._base_layer_est_scores.keys()"
   ]
  },
  {
   "cell_type": "code",
   "execution_count": 69,
   "metadata": {
    "ExecuteTime": {
     "end_time": "2018-07-29T16:58:09.616631Z",
     "start_time": "2018-07-29T16:58:09.583452Z"
    }
   },
   "outputs": [
    {
     "data": {
      "text/plain": [
       "dict_keys(['aiHv__CATB_ordinal2_layer1', 'vd3w__CATB_ordinal2_layer1', 'MNQX__CATB_ordinal2_layer1', 'VPst__CATB_ordinal2_layer1', 'OG7w__CATB_ordinal2_layer1', 'WXN6__CATB_ordinal2_layer1'])"
      ]
     },
     "execution_count": 69,
     "metadata": {},
     "output_type": "execute_result"
    }
   ],
   "source": [
    "repo1._status_report.keys()"
   ]
  },
  {
   "cell_type": "code",
   "execution_count": null,
   "metadata": {},
   "outputs": [],
   "source": []
  },
  {
   "cell_type": "code",
   "execution_count": 46,
   "metadata": {
    "ExecuteTime": {
     "end_time": "2018-07-29T16:50:34.394009Z",
     "start_time": "2018-07-29T16:50:34.359749Z"
    }
   },
   "outputs": [],
   "source": [
    "repo1._base_layer_est_preds.update(repo2._base_layer_est_preds)"
   ]
  },
  {
   "cell_type": "code",
   "execution_count": 30,
   "metadata": {
    "ExecuteTime": {
     "end_time": "2018-07-29T16:44:55.460997Z",
     "start_time": "2018-07-29T16:44:55.413248Z"
    }
   },
   "outputs": [],
   "source": [
    "repo1._layer1_oof_train['label'].extend(repo2._layer1_oof_train['label'])"
   ]
  },
  {
   "cell_type": "code",
   "execution_count": 31,
   "metadata": {
    "ExecuteTime": {
     "end_time": "2018-07-29T16:45:06.710053Z",
     "start_time": "2018-07-29T16:45:06.677656Z"
    }
   },
   "outputs": [
    {
     "data": {
      "text/plain": [
       "6"
      ]
     },
     "execution_count": 31,
     "metadata": {},
     "output_type": "execute_result"
    }
   ],
   "source": [
    "len(repo1._layer1_oof_train['label'])"
   ]
  },
  {
   "cell_type": "code",
   "execution_count": null,
   "metadata": {},
   "outputs": [],
   "source": [
    "repo1."
   ]
  },
  {
   "cell_type": "code",
   "execution_count": 17,
   "metadata": {
    "ExecuteTime": {
     "end_time": "2018-07-29T16:11:22.158238Z",
     "start_time": "2018-07-29T16:11:22.119120Z"
    }
   },
   "outputs": [],
   "source": [
    "repo1._layer1_oof_train.update(repo2._layer1_oof_train)"
   ]
  },
  {
   "cell_type": "code",
   "execution_count": 22,
   "metadata": {
    "ExecuteTime": {
     "end_time": "2018-07-29T16:12:11.689090Z",
     "start_time": "2018-07-29T16:12:11.652368Z"
    }
   },
   "outputs": [
    {
     "data": {
      "text/plain": [
       "4"
      ]
     },
     "execution_count": 22,
     "metadata": {},
     "output_type": "execute_result"
    }
   ],
   "source": [
    "len(repo1._layer1_oof_train['label'])"
   ]
  },
  {
   "cell_type": "code",
   "execution_count": null,
   "metadata": {
    "ExecuteTime": {
     "end_time": "2018-07-11T17:12:58.168329Z",
     "start_time": "2018-07-11T17:12:58.150985Z"
    }
   },
   "outputs": [],
   "source": [
    "gs_nn_res.head(0).T.to_dict()"
   ]
  },
  {
   "cell_type": "code",
   "execution_count": null,
   "metadata": {
    "ExecuteTime": {
     "end_time": "2018-07-04T01:54:35.687957Z",
     "start_time": "2018-07-04T01:54:35.655463Z"
    }
   },
   "outputs": [],
   "source": [
    "from sklearn.svm import SVC"
   ]
  },
  {
   "cell_type": "code",
   "execution_count": null,
   "metadata": {
    "ExecuteTime": {
     "end_time": "2018-07-04T12:21:51.533355Z",
     "start_time": "2018-07-04T12:21:51.503362Z"
    }
   },
   "outputs": [],
   "source": [
    "from sklearn.svm import LinearSVC\n",
    "from sklearn.calibration import CalibratedClassifierCV"
   ]
  },
  {
   "cell_type": "code",
   "execution_count": null,
   "metadata": {
    "ExecuteTime": {
     "end_time": "2018-07-04T01:54:45.000380Z",
     "start_time": "2018-07-04T01:54:44.969906Z"
    }
   },
   "outputs": [],
   "source": [
    "from sklearn.ensemble import BaggingClassifier"
   ]
  },
  {
   "cell_type": "code",
   "execution_count": null,
   "metadata": {
    "ExecuteTime": {
     "end_time": "2018-07-04T12:22:24.711708Z",
     "start_time": "2018-07-04T12:22:24.681718Z"
    }
   },
   "outputs": [],
   "source": [
    "lsvc = CalibratedClassifierCV(LinearSVC())"
   ]
  },
  {
   "cell_type": "code",
   "execution_count": null,
   "metadata": {
    "ExecuteTime": {
     "end_time": "2018-07-04T12:23:02.546322Z",
     "start_time": "2018-07-04T12:23:02.462317Z"
    }
   },
   "outputs": [],
   "source": [
    "lsvc.fit(np.array([0,1,2,3,4,5]).reshape(-1,1), [1,0,0,1,1,0])"
   ]
  },
  {
   "cell_type": "code",
   "execution_count": null,
   "metadata": {
    "ExecuteTime": {
     "end_time": "2018-07-04T12:23:17.044974Z",
     "start_time": "2018-07-04T12:23:17.014364Z"
    }
   },
   "outputs": [],
   "source": [
    "lsvc.predict_proba(2.22)"
   ]
  },
  {
   "cell_type": "code",
   "execution_count": null,
   "metadata": {
    "ExecuteTime": {
     "end_time": "2018-07-04T02:03:34.058236Z",
     "start_time": "2018-07-04T02:03:34.026747Z"
    }
   },
   "outputs": [],
   "source": [
    "from sklearn.linear_model import LogisticRegression"
   ]
  },
  {
   "cell_type": "code",
   "execution_count": null,
   "metadata": {
    "ExecuteTime": {
     "end_time": "2018-07-04T02:08:22.502419Z",
     "start_time": "2018-07-04T02:08:22.470854Z"
    }
   },
   "outputs": [],
   "source": [
    "svc = SVC(kernel='linear', probability=True)#, class_weight='auto')\n"
   ]
  },
  {
   "cell_type": "code",
   "execution_count": null,
   "metadata": {
    "ExecuteTime": {
     "end_time": "2018-07-04T02:08:35.400777Z",
     "start_time": "2018-07-04T02:08:35.369466Z"
    }
   },
   "outputs": [],
   "source": [
    "svc.fit(np.array([1,2,3,4,5]).reshape(-1,1), [0,0,1,1,0])"
   ]
  },
  {
   "cell_type": "code",
   "execution_count": null,
   "metadata": {
    "ExecuteTime": {
     "end_time": "2018-07-04T02:08:41.067975Z",
     "start_time": "2018-07-04T02:08:41.036081Z"
    }
   },
   "outputs": [],
   "source": [
    "svc.predict_proba(2.22)"
   ]
  },
  {
   "cell_type": "code",
   "execution_count": null,
   "metadata": {},
   "outputs": [],
   "source": [
    "\n"
   ]
  },
  {
   "cell_type": "code",
   "execution_count": null,
   "metadata": {
    "ExecuteTime": {
     "end_time": "2018-07-04T02:10:08.029947Z",
     "start_time": "2018-07-04T02:10:07.999056Z"
    }
   },
   "outputs": [],
   "source": [
    "from sklearn.multiclass import OneVsRestClassifier"
   ]
  },
  {
   "cell_type": "code",
   "execution_count": null,
   "metadata": {
    "ExecuteTime": {
     "end_time": "2018-07-04T02:10:13.430246Z",
     "start_time": "2018-07-04T02:10:13.393712Z"
    }
   },
   "outputs": [],
   "source": [
    "clf = OneVsRestClassifier(BaggingClassifier(svc, max_samples=1.0 / 5, n_estimators=5))\n",
    "clf.fit(np.array([1,2,3,4,5]).reshape(-1,1), [0,0,1,1,0])"
   ]
  },
  {
   "cell_type": "code",
   "execution_count": null,
   "metadata": {
    "ExecuteTime": {
     "end_time": "2018-07-04T02:10:17.578599Z",
     "start_time": "2018-07-04T02:10:17.535354Z"
    }
   },
   "outputs": [],
   "source": [
    "clf.predict_proba(2.22)"
   ]
  },
  {
   "cell_type": "code",
   "execution_count": null,
   "metadata": {},
   "outputs": [],
   "source": []
  }
 ],
 "metadata": {
  "kernelspec": {
   "display_name": "Python 3.5 (tf_gpu)",
   "language": "python",
   "name": "tf_gpu"
  },
  "language_info": {
   "codemirror_mode": {
    "name": "ipython",
    "version": 3
   },
   "file_extension": ".py",
   "mimetype": "text/x-python",
   "name": "python",
   "nbconvert_exporter": "python",
   "pygments_lexer": "ipython3",
   "version": "3.5.5"
  },
  "varInspector": {
   "cols": {
    "lenName": 16,
    "lenType": 16,
    "lenVar": 40
   },
   "kernels_config": {
    "python": {
     "delete_cmd_postfix": "",
     "delete_cmd_prefix": "del ",
     "library": "var_list.py",
     "varRefreshCmd": "print(var_dic_list())"
    },
    "r": {
     "delete_cmd_postfix": ") ",
     "delete_cmd_prefix": "rm(",
     "library": "var_list.r",
     "varRefreshCmd": "cat(var_dic_list()) "
    }
   },
   "types_to_exclude": [
    "module",
    "function",
    "builtin_function_or_method",
    "instance",
    "_Feature"
   ],
   "window_display": false
  }
 },
 "nbformat": 4,
 "nbformat_minor": 2
}
