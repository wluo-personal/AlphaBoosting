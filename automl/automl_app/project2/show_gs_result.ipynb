{
 "cells": [
  {
   "cell_type": "code",
   "execution_count": 20,
   "metadata": {
    "ExecuteTime": {
     "end_time": "2018-06-18T16:05:32.919133Z",
     "start_time": "2018-06-18T16:05:32.888418Z"
    }
   },
   "outputs": [
    {
     "data": {
      "text/html": [
       "<div>\n",
       "<style>\n",
       "    .dataframe thead tr:only-child th {\n",
       "        text-align: right;\n",
       "    }\n",
       "\n",
       "    .dataframe thead th {\n",
       "        text-align: left;\n",
       "    }\n",
       "\n",
       "    .dataframe tbody tr th {\n",
       "        vertical-align: top;\n",
       "    }\n",
       "</style>\n",
       "<table border=\"1\" class=\"dataframe\">\n",
       "  <thead>\n",
       "    <tr style=\"text-align: right;\">\n",
       "      <th></th>\n",
       "      <th>bagging_fraction</th>\n",
       "      <th>bagging_freq</th>\n",
       "      <th>bagging_seed</th>\n",
       "      <th>best_round</th>\n",
       "      <th>boosting</th>\n",
       "      <th>cv</th>\n",
       "      <th>feature_fraction</th>\n",
       "      <th>feature_fraction_seed</th>\n",
       "      <th>gs_timespent</th>\n",
       "      <th>learning_rate</th>\n",
       "      <th>max_depth</th>\n",
       "      <th>metric</th>\n",
       "      <th>min_data_in_leaf</th>\n",
       "      <th>num_leaves</th>\n",
       "      <th>num_threads</th>\n",
       "      <th>objective</th>\n",
       "      <th>scale_pos_weight</th>\n",
       "      <th>timestamp</th>\n",
       "      <th>val_rmse</th>\n",
       "    </tr>\n",
       "  </thead>\n",
       "  <tbody>\n",
       "    <tr>\n",
       "      <th>1529337857</th>\n",
       "      <td>0.9</td>\n",
       "      <td>1</td>\n",
       "      <td>24742346</td>\n",
       "      <td>20</td>\n",
       "      <td>gbdt</td>\n",
       "      <td>True</td>\n",
       "      <td>1.0</td>\n",
       "      <td>24742346</td>\n",
       "      <td>0:00:00</td>\n",
       "      <td>0.10</td>\n",
       "      <td>-1</td>\n",
       "      <td>rmse</td>\n",
       "      <td>32</td>\n",
       "      <td>61</td>\n",
       "      <td>8</td>\n",
       "      <td>regression</td>\n",
       "      <td>2</td>\n",
       "      <td>2018-06-18 12:04:17</td>\n",
       "      <td>0.949705</td>\n",
       "    </tr>\n",
       "    <tr>\n",
       "      <th>1529337859</th>\n",
       "      <td>1.0</td>\n",
       "      <td>1</td>\n",
       "      <td>26731722</td>\n",
       "      <td>20</td>\n",
       "      <td>gbdt</td>\n",
       "      <td>True</td>\n",
       "      <td>0.9</td>\n",
       "      <td>26731722</td>\n",
       "      <td>0:00:00</td>\n",
       "      <td>0.03</td>\n",
       "      <td>-1</td>\n",
       "      <td>rmse</td>\n",
       "      <td>37</td>\n",
       "      <td>15</td>\n",
       "      <td>8</td>\n",
       "      <td>regression</td>\n",
       "      <td>2</td>\n",
       "      <td>2018-06-18 12:04:19</td>\n",
       "      <td>1.039360</td>\n",
       "    </tr>\n",
       "  </tbody>\n",
       "</table>\n",
       "</div>"
      ],
      "text/plain": [
       "            bagging_fraction  bagging_freq  bagging_seed  best_round boosting  \\\n",
       "1529337857               0.9             1      24742346          20     gbdt   \n",
       "1529337859               1.0             1      26731722          20     gbdt   \n",
       "\n",
       "              cv  feature_fraction  feature_fraction_seed gs_timespent  \\\n",
       "1529337857  True               1.0               24742346      0:00:00   \n",
       "1529337859  True               0.9               26731722      0:00:00   \n",
       "\n",
       "            learning_rate  max_depth metric  min_data_in_leaf  num_leaves  \\\n",
       "1529337857           0.10         -1   rmse                32          61   \n",
       "1529337859           0.03         -1   rmse                37          15   \n",
       "\n",
       "            num_threads   objective  scale_pos_weight            timestamp  \\\n",
       "1529337857            8  regression                 2  2018-06-18 12:04:17   \n",
       "1529337859            8  regression                 2  2018-06-18 12:04:19   \n",
       "\n",
       "            val_rmse  \n",
       "1529337857  0.949705  \n",
       "1529337859  1.039360  "
      ]
     },
     "execution_count": 20,
     "metadata": {},
     "output_type": "execute_result"
    }
   ],
   "source": [
    "import pandas as pd\n",
    "\n",
    "gs_res = pd.read_csv('output/project2_grid_search.csv', index_col='Unnamed: 0').sort_values(by=['val_rmse'])\n",
    "#0.829998\n",
    "gs_res#[gs_res['cv']!=True]"
   ]
  },
  {
   "cell_type": "code",
   "execution_count": 13,
   "metadata": {
    "ExecuteTime": {
     "end_time": "2018-06-17T21:10:30.306283Z",
     "start_time": "2018-06-17T21:10:30.298340Z"
    }
   },
   "outputs": [
    {
     "data": {
      "text/plain": [
       "bagging_fraction                                   1\n",
       "bagging_freq                                       1\n",
       "bagging_seed                                17078476\n",
       "best_round                                       771\n",
       "boosting                                        gbdt\n",
       "categorical_column       \"[4, 6, 9, 10, 15, 16, 19]\"\n",
       "cv                                              True\n",
       "feature_fraction                                 0.4\n",
       "feature_fraction_seed                       17078476\n",
       "gs_timespent                                 0:00:26\n",
       "learning_rate                                   0.03\n",
       "max_depth                                         -1\n",
       "metric                                          rmse\n",
       "min_data_in_leaf                                  23\n",
       "num_leaves                                        61\n",
       "num_threads                                        8\n",
       "objective                                 regression\n",
       "scale_pos_weight                                   2\n",
       "timestamp                        2018-06-15 22:44:19\n",
       "train_rmse                                       NaN\n",
       "val_rmse                                    0.918624\n",
       "verbose                                            1\n",
       "Name: 1529117059, dtype: object"
      ]
     },
     "execution_count": 13,
     "metadata": {},
     "output_type": "execute_result"
    }
   ],
   "source": [
    "gs_res.iloc[0]"
   ]
  },
  {
   "cell_type": "code",
   "execution_count": null,
   "metadata": {
    "collapsed": true
   },
   "outputs": [],
   "source": []
  }
 ],
 "metadata": {
  "kernelspec": {
   "display_name": "Python 3",
   "language": "python",
   "name": "python3"
  },
  "language_info": {
   "codemirror_mode": {
    "name": "ipython",
    "version": 3
   },
   "file_extension": ".py",
   "mimetype": "text/x-python",
   "name": "python",
   "nbconvert_exporter": "python",
   "pygments_lexer": "ipython3",
   "version": "3.6.3"
  },
  "varInspector": {
   "cols": {
    "lenName": 16,
    "lenType": 16,
    "lenVar": 40
   },
   "kernels_config": {
    "python": {
     "delete_cmd_postfix": "",
     "delete_cmd_prefix": "del ",
     "library": "var_list.py",
     "varRefreshCmd": "print(var_dic_list())"
    },
    "r": {
     "delete_cmd_postfix": ") ",
     "delete_cmd_prefix": "rm(",
     "library": "var_list.r",
     "varRefreshCmd": "cat(var_dic_list()) "
    }
   },
   "types_to_exclude": [
    "module",
    "function",
    "builtin_function_or_method",
    "instance",
    "_Feature"
   ],
   "window_display": false
  }
 },
 "nbformat": 4,
 "nbformat_minor": 2
}
