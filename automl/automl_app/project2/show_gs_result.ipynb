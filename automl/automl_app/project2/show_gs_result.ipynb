{
 "cells": [
  {
   "cell_type": "code",
   "execution_count": 6,
   "metadata": {
    "ExecuteTime": {
     "end_time": "2018-07-01T02:20:23.263054Z",
     "start_time": "2018-07-01T02:20:23.201267Z"
    }
   },
   "outputs": [
    {
     "data": {
      "text/html": [
       "<div>\n",
       "<style scoped>\n",
       "    .dataframe tbody tr th:only-of-type {\n",
       "        vertical-align: middle;\n",
       "    }\n",
       "\n",
       "    .dataframe tbody tr th {\n",
       "        vertical-align: top;\n",
       "    }\n",
       "\n",
       "    .dataframe thead th {\n",
       "        text-align: right;\n",
       "    }\n",
       "</style>\n",
       "<table border=\"1\" class=\"dataframe\">\n",
       "  <thead>\n",
       "    <tr style=\"text-align: right;\">\n",
       "      <th></th>\n",
       "      <th>bagging_fraction</th>\n",
       "      <th>bagging_freq</th>\n",
       "      <th>bagging_seed</th>\n",
       "      <th>best_round</th>\n",
       "      <th>boosting</th>\n",
       "      <th>cv</th>\n",
       "      <th>feature_fraction</th>\n",
       "      <th>feature_fraction_seed</th>\n",
       "      <th>gs_timespent</th>\n",
       "      <th>learning_rate</th>\n",
       "      <th>max_depth</th>\n",
       "      <th>metric</th>\n",
       "      <th>min_data_in_leaf</th>\n",
       "      <th>num_leaves</th>\n",
       "      <th>num_threads</th>\n",
       "      <th>objective</th>\n",
       "      <th>pred_timespent</th>\n",
       "      <th>scale_pos_weight</th>\n",
       "      <th>timestamp</th>\n",
       "      <th>val_auc</th>\n",
       "    </tr>\n",
       "  </thead>\n",
       "  <tbody>\n",
       "    <tr>\n",
       "      <th>1530409216</th>\n",
       "      <td>1.0</td>\n",
       "      <td>1</td>\n",
       "      <td>2292772</td>\n",
       "      <td>20</td>\n",
       "      <td>gbdt</td>\n",
       "      <td>True</td>\n",
       "      <td>1.0</td>\n",
       "      <td>2292772</td>\n",
       "      <td>0:00:03</td>\n",
       "      <td>0.10</td>\n",
       "      <td>-1</td>\n",
       "      <td>auc</td>\n",
       "      <td>29</td>\n",
       "      <td>15</td>\n",
       "      <td>8</td>\n",
       "      <td>binary</td>\n",
       "      <td>0:00:01</td>\n",
       "      <td>1</td>\n",
       "      <td>2018-06-30 21:40:16</td>\n",
       "      <td>0.726955</td>\n",
       "    </tr>\n",
       "    <tr>\n",
       "      <th>1530409210</th>\n",
       "      <td>1.0</td>\n",
       "      <td>1</td>\n",
       "      <td>40959932</td>\n",
       "      <td>20</td>\n",
       "      <td>gbdt</td>\n",
       "      <td>True</td>\n",
       "      <td>0.9</td>\n",
       "      <td>40959932</td>\n",
       "      <td>0:00:03</td>\n",
       "      <td>0.03</td>\n",
       "      <td>-1</td>\n",
       "      <td>auc</td>\n",
       "      <td>46</td>\n",
       "      <td>31</td>\n",
       "      <td>8</td>\n",
       "      <td>binary</td>\n",
       "      <td>0:00:01</td>\n",
       "      <td>1</td>\n",
       "      <td>2018-06-30 21:40:10</td>\n",
       "      <td>0.722667</td>\n",
       "    </tr>\n",
       "    <tr>\n",
       "      <th>1530409222</th>\n",
       "      <td>0.5</td>\n",
       "      <td>1</td>\n",
       "      <td>8077739</td>\n",
       "      <td>20</td>\n",
       "      <td>gbdt</td>\n",
       "      <td>True</td>\n",
       "      <td>0.9</td>\n",
       "      <td>8077739</td>\n",
       "      <td>0:00:02</td>\n",
       "      <td>0.03</td>\n",
       "      <td>-1</td>\n",
       "      <td>auc</td>\n",
       "      <td>22</td>\n",
       "      <td>15</td>\n",
       "      <td>8</td>\n",
       "      <td>binary</td>\n",
       "      <td>0:00:01</td>\n",
       "      <td>1</td>\n",
       "      <td>2018-06-30 21:40:22</td>\n",
       "      <td>0.714205</td>\n",
       "    </tr>\n",
       "  </tbody>\n",
       "</table>\n",
       "</div>"
      ],
      "text/plain": [
       "            bagging_fraction    ...      val_auc\n",
       "1530409216               1.0    ...     0.726955\n",
       "1530409210               1.0    ...     0.722667\n",
       "1530409222               0.5    ...     0.714205\n",
       "\n",
       "[3 rows x 20 columns]"
      ]
     },
     "execution_count": 6,
     "metadata": {},
     "output_type": "execute_result"
    }
   ],
   "source": [
    "import pandas as pd\n",
    "\n",
    "gs_res = pd.read_csv('output/lgb_grid_search.csv', index_col='Unnamed: 0').sort_values(by=['val_auc'], ascending=False)\n",
    "#0.829998\n",
    "gs_res.head()"
   ]
  },
  {
   "cell_type": "code",
   "execution_count": 7,
   "metadata": {
    "ExecuteTime": {
     "end_time": "2018-07-01T02:20:26.969390Z",
     "start_time": "2018-07-01T02:20:26.840379Z"
    }
   },
   "outputs": [
    {
     "ename": "FileNotFoundError",
     "evalue": "File b'output/nn_grid_search.csv' does not exist",
     "output_type": "error",
     "traceback": [
      "\u001b[0;31m---------------------------------------------------------------------------\u001b[0m",
      "\u001b[0;31mFileNotFoundError\u001b[0m                         Traceback (most recent call last)",
      "\u001b[0;32m<ipython-input-7-e4a50ba650d6>\u001b[0m in \u001b[0;36m<module>\u001b[0;34m()\u001b[0m\n\u001b[1;32m      1\u001b[0m \u001b[0;32mimport\u001b[0m \u001b[0mpandas\u001b[0m \u001b[0;32mas\u001b[0m \u001b[0mpd\u001b[0m\u001b[0;34m\u001b[0m\u001b[0m\n\u001b[1;32m      2\u001b[0m \u001b[0;34m\u001b[0m\u001b[0m\n\u001b[0;32m----> 3\u001b[0;31m \u001b[0mgs_nn_res\u001b[0m \u001b[0;34m=\u001b[0m \u001b[0mpd\u001b[0m\u001b[0;34m.\u001b[0m\u001b[0mread_csv\u001b[0m\u001b[0;34m(\u001b[0m\u001b[0;34m'output/nn_grid_search.csv'\u001b[0m\u001b[0;34m,\u001b[0m \u001b[0mindex_col\u001b[0m\u001b[0;34m=\u001b[0m\u001b[0;34m'Unnamed: 0'\u001b[0m\u001b[0;34m)\u001b[0m\u001b[0;34m.\u001b[0m\u001b[0msort_values\u001b[0m\u001b[0;34m(\u001b[0m\u001b[0mby\u001b[0m\u001b[0;34m=\u001b[0m\u001b[0;34m[\u001b[0m\u001b[0;34m'val_auc'\u001b[0m\u001b[0;34m]\u001b[0m\u001b[0;34m,\u001b[0m \u001b[0mascending\u001b[0m\u001b[0;34m=\u001b[0m\u001b[0;32mFalse\u001b[0m\u001b[0;34m)\u001b[0m\u001b[0;34m\u001b[0m\u001b[0m\n\u001b[0m\u001b[1;32m      4\u001b[0m \u001b[0;31m#0.829998\u001b[0m\u001b[0;34m\u001b[0m\u001b[0;34m\u001b[0m\u001b[0m\n\u001b[1;32m      5\u001b[0m \u001b[0mgs_nn_res\u001b[0m\u001b[0;34m.\u001b[0m\u001b[0mhead\u001b[0m\u001b[0;34m(\u001b[0m\u001b[0;34m)\u001b[0m\u001b[0;34m\u001b[0m\u001b[0m\n",
      "\u001b[0;32m~/anaconda3/envs/tf_gpu/lib/python3.5/site-packages/pandas/io/parsers.py\u001b[0m in \u001b[0;36mparser_f\u001b[0;34m(filepath_or_buffer, sep, delimiter, header, names, index_col, usecols, squeeze, prefix, mangle_dupe_cols, dtype, engine, converters, true_values, false_values, skipinitialspace, skiprows, nrows, na_values, keep_default_na, na_filter, verbose, skip_blank_lines, parse_dates, infer_datetime_format, keep_date_col, date_parser, dayfirst, iterator, chunksize, compression, thousands, decimal, lineterminator, quotechar, quoting, escapechar, comment, encoding, dialect, tupleize_cols, error_bad_lines, warn_bad_lines, skipfooter, doublequote, delim_whitespace, low_memory, memory_map, float_precision)\u001b[0m\n\u001b[1;32m    676\u001b[0m                     skip_blank_lines=skip_blank_lines)\n\u001b[1;32m    677\u001b[0m \u001b[0;34m\u001b[0m\u001b[0m\n\u001b[0;32m--> 678\u001b[0;31m         \u001b[0;32mreturn\u001b[0m \u001b[0m_read\u001b[0m\u001b[0;34m(\u001b[0m\u001b[0mfilepath_or_buffer\u001b[0m\u001b[0;34m,\u001b[0m \u001b[0mkwds\u001b[0m\u001b[0;34m)\u001b[0m\u001b[0;34m\u001b[0m\u001b[0m\n\u001b[0m\u001b[1;32m    679\u001b[0m \u001b[0;34m\u001b[0m\u001b[0m\n\u001b[1;32m    680\u001b[0m     \u001b[0mparser_f\u001b[0m\u001b[0;34m.\u001b[0m\u001b[0m__name__\u001b[0m \u001b[0;34m=\u001b[0m \u001b[0mname\u001b[0m\u001b[0;34m\u001b[0m\u001b[0m\n",
      "\u001b[0;32m~/anaconda3/envs/tf_gpu/lib/python3.5/site-packages/pandas/io/parsers.py\u001b[0m in \u001b[0;36m_read\u001b[0;34m(filepath_or_buffer, kwds)\u001b[0m\n\u001b[1;32m    438\u001b[0m \u001b[0;34m\u001b[0m\u001b[0m\n\u001b[1;32m    439\u001b[0m     \u001b[0;31m# Create the parser.\u001b[0m\u001b[0;34m\u001b[0m\u001b[0;34m\u001b[0m\u001b[0m\n\u001b[0;32m--> 440\u001b[0;31m     \u001b[0mparser\u001b[0m \u001b[0;34m=\u001b[0m \u001b[0mTextFileReader\u001b[0m\u001b[0;34m(\u001b[0m\u001b[0mfilepath_or_buffer\u001b[0m\u001b[0;34m,\u001b[0m \u001b[0;34m**\u001b[0m\u001b[0mkwds\u001b[0m\u001b[0;34m)\u001b[0m\u001b[0;34m\u001b[0m\u001b[0m\n\u001b[0m\u001b[1;32m    441\u001b[0m \u001b[0;34m\u001b[0m\u001b[0m\n\u001b[1;32m    442\u001b[0m     \u001b[0;32mif\u001b[0m \u001b[0mchunksize\u001b[0m \u001b[0;32mor\u001b[0m \u001b[0miterator\u001b[0m\u001b[0;34m:\u001b[0m\u001b[0;34m\u001b[0m\u001b[0m\n",
      "\u001b[0;32m~/anaconda3/envs/tf_gpu/lib/python3.5/site-packages/pandas/io/parsers.py\u001b[0m in \u001b[0;36m__init__\u001b[0;34m(self, f, engine, **kwds)\u001b[0m\n\u001b[1;32m    785\u001b[0m             \u001b[0mself\u001b[0m\u001b[0;34m.\u001b[0m\u001b[0moptions\u001b[0m\u001b[0;34m[\u001b[0m\u001b[0;34m'has_index_names'\u001b[0m\u001b[0;34m]\u001b[0m \u001b[0;34m=\u001b[0m \u001b[0mkwds\u001b[0m\u001b[0;34m[\u001b[0m\u001b[0;34m'has_index_names'\u001b[0m\u001b[0;34m]\u001b[0m\u001b[0;34m\u001b[0m\u001b[0m\n\u001b[1;32m    786\u001b[0m \u001b[0;34m\u001b[0m\u001b[0m\n\u001b[0;32m--> 787\u001b[0;31m         \u001b[0mself\u001b[0m\u001b[0;34m.\u001b[0m\u001b[0m_make_engine\u001b[0m\u001b[0;34m(\u001b[0m\u001b[0mself\u001b[0m\u001b[0;34m.\u001b[0m\u001b[0mengine\u001b[0m\u001b[0;34m)\u001b[0m\u001b[0;34m\u001b[0m\u001b[0m\n\u001b[0m\u001b[1;32m    788\u001b[0m \u001b[0;34m\u001b[0m\u001b[0m\n\u001b[1;32m    789\u001b[0m     \u001b[0;32mdef\u001b[0m \u001b[0mclose\u001b[0m\u001b[0;34m(\u001b[0m\u001b[0mself\u001b[0m\u001b[0;34m)\u001b[0m\u001b[0;34m:\u001b[0m\u001b[0;34m\u001b[0m\u001b[0m\n",
      "\u001b[0;32m~/anaconda3/envs/tf_gpu/lib/python3.5/site-packages/pandas/io/parsers.py\u001b[0m in \u001b[0;36m_make_engine\u001b[0;34m(self, engine)\u001b[0m\n\u001b[1;32m   1012\u001b[0m     \u001b[0;32mdef\u001b[0m \u001b[0m_make_engine\u001b[0m\u001b[0;34m(\u001b[0m\u001b[0mself\u001b[0m\u001b[0;34m,\u001b[0m \u001b[0mengine\u001b[0m\u001b[0;34m=\u001b[0m\u001b[0;34m'c'\u001b[0m\u001b[0;34m)\u001b[0m\u001b[0;34m:\u001b[0m\u001b[0;34m\u001b[0m\u001b[0m\n\u001b[1;32m   1013\u001b[0m         \u001b[0;32mif\u001b[0m \u001b[0mengine\u001b[0m \u001b[0;34m==\u001b[0m \u001b[0;34m'c'\u001b[0m\u001b[0;34m:\u001b[0m\u001b[0;34m\u001b[0m\u001b[0m\n\u001b[0;32m-> 1014\u001b[0;31m             \u001b[0mself\u001b[0m\u001b[0;34m.\u001b[0m\u001b[0m_engine\u001b[0m \u001b[0;34m=\u001b[0m \u001b[0mCParserWrapper\u001b[0m\u001b[0;34m(\u001b[0m\u001b[0mself\u001b[0m\u001b[0;34m.\u001b[0m\u001b[0mf\u001b[0m\u001b[0;34m,\u001b[0m \u001b[0;34m**\u001b[0m\u001b[0mself\u001b[0m\u001b[0;34m.\u001b[0m\u001b[0moptions\u001b[0m\u001b[0;34m)\u001b[0m\u001b[0;34m\u001b[0m\u001b[0m\n\u001b[0m\u001b[1;32m   1015\u001b[0m         \u001b[0;32melse\u001b[0m\u001b[0;34m:\u001b[0m\u001b[0;34m\u001b[0m\u001b[0m\n\u001b[1;32m   1016\u001b[0m             \u001b[0;32mif\u001b[0m \u001b[0mengine\u001b[0m \u001b[0;34m==\u001b[0m \u001b[0;34m'python'\u001b[0m\u001b[0;34m:\u001b[0m\u001b[0;34m\u001b[0m\u001b[0m\n",
      "\u001b[0;32m~/anaconda3/envs/tf_gpu/lib/python3.5/site-packages/pandas/io/parsers.py\u001b[0m in \u001b[0;36m__init__\u001b[0;34m(self, src, **kwds)\u001b[0m\n\u001b[1;32m   1706\u001b[0m         \u001b[0mkwds\u001b[0m\u001b[0;34m[\u001b[0m\u001b[0;34m'usecols'\u001b[0m\u001b[0;34m]\u001b[0m \u001b[0;34m=\u001b[0m \u001b[0mself\u001b[0m\u001b[0;34m.\u001b[0m\u001b[0musecols\u001b[0m\u001b[0;34m\u001b[0m\u001b[0m\n\u001b[1;32m   1707\u001b[0m \u001b[0;34m\u001b[0m\u001b[0m\n\u001b[0;32m-> 1708\u001b[0;31m         \u001b[0mself\u001b[0m\u001b[0;34m.\u001b[0m\u001b[0m_reader\u001b[0m \u001b[0;34m=\u001b[0m \u001b[0mparsers\u001b[0m\u001b[0;34m.\u001b[0m\u001b[0mTextReader\u001b[0m\u001b[0;34m(\u001b[0m\u001b[0msrc\u001b[0m\u001b[0;34m,\u001b[0m \u001b[0;34m**\u001b[0m\u001b[0mkwds\u001b[0m\u001b[0;34m)\u001b[0m\u001b[0;34m\u001b[0m\u001b[0m\n\u001b[0m\u001b[1;32m   1709\u001b[0m \u001b[0;34m\u001b[0m\u001b[0m\n\u001b[1;32m   1710\u001b[0m         \u001b[0mpassed_names\u001b[0m \u001b[0;34m=\u001b[0m \u001b[0mself\u001b[0m\u001b[0;34m.\u001b[0m\u001b[0mnames\u001b[0m \u001b[0;32mis\u001b[0m \u001b[0;32mNone\u001b[0m\u001b[0;34m\u001b[0m\u001b[0m\n",
      "\u001b[0;32mpandas/_libs/parsers.pyx\u001b[0m in \u001b[0;36mpandas._libs.parsers.TextReader.__cinit__\u001b[0;34m()\u001b[0m\n",
      "\u001b[0;32mpandas/_libs/parsers.pyx\u001b[0m in \u001b[0;36mpandas._libs.parsers.TextReader._setup_parser_source\u001b[0;34m()\u001b[0m\n",
      "\u001b[0;31mFileNotFoundError\u001b[0m: File b'output/nn_grid_search.csv' does not exist"
     ]
    }
   ],
   "source": [
    "import pandas as pd\n",
    "\n",
    "gs_nn_res = pd.read_csv('output/nn_grid_search.csv', index_col='Unnamed: 0').sort_values(by=['val_auc'], ascending=False)\n",
    "#0.829998\n",
    "gs_nn_res.head()"
   ]
  },
  {
   "cell_type": "code",
   "execution_count": 10,
   "metadata": {
    "ExecuteTime": {
     "end_time": "2018-07-01T02:20:43.527238Z",
     "start_time": "2018-07-01T02:20:43.498090Z"
    }
   },
   "outputs": [
    {
     "name": "stdout",
     "output_type": "stream",
     "text": [
      "lgb_grid_search.csv\n"
     ]
    }
   ],
   "source": [
    "from os import listdir\n",
    "\n",
    "for filename in listdir('output'):\n",
    "    if '_grid_search' in filename:\n",
    "        print(filename)"
   ]
  },
  {
   "cell_type": "code",
   "execution_count": 2,
   "metadata": {
    "ExecuteTime": {
     "end_time": "2018-06-28T17:41:08.235254Z",
     "start_time": "2018-06-28T17:41:08.227007Z"
    }
   },
   "outputs": [
    {
     "data": {
      "text/plain": [
       "{1530207552: {'bagging_fraction': 0.5,\n",
       "  'bagging_freq': 1,\n",
       "  'bagging_seed': 38625225,\n",
       "  'best_round': 38,\n",
       "  'boosting': 'gbdt',\n",
       "  'cv': True,\n",
       "  'feature_fraction': 0.9,\n",
       "  'feature_fraction_seed': 38625225,\n",
       "  'gs_timespent': '0:00:00',\n",
       "  'learning_rate': 0.1,\n",
       "  'max_depth': -1,\n",
       "  'metric': 'auc',\n",
       "  'min_data_in_leaf': 27,\n",
       "  'num_leaves': 31,\n",
       "  'num_threads': 8,\n",
       "  'objective': 'binary',\n",
       "  'pred_timespent': '0:00:00',\n",
       "  'scale_pos_weight': 1,\n",
       "  'timestamp': '2018-06-28 13:39:12',\n",
       "  'val_auc': 0.7091430993869628}}"
      ]
     },
     "execution_count": 2,
     "metadata": {},
     "output_type": "execute_result"
    }
   ],
   "source": [
    "gs_res.head(1).T.to_dict()"
   ]
  },
  {
   "cell_type": "code",
   "execution_count": 48,
   "metadata": {
    "ExecuteTime": {
     "end_time": "2018-07-01T04:14:04.412605Z",
     "start_time": "2018-07-01T04:14:04.378995Z"
    }
   },
   "outputs": [],
   "source": [
    "stacknet_res = pd.read_csv('output/oof/stacknet_report.csv')"
   ]
  },
  {
   "cell_type": "code",
   "execution_count": 49,
   "metadata": {
    "ExecuteTime": {
     "end_time": "2018-07-01T04:14:04.580713Z",
     "start_time": "2018-07-01T04:14:04.544470Z"
    }
   },
   "outputs": [
    {
     "data": {
      "text/html": [
       "<div>\n",
       "<style scoped>\n",
       "    .dataframe tbody tr th:only-of-type {\n",
       "        vertical-align: middle;\n",
       "    }\n",
       "\n",
       "    .dataframe tbody tr th {\n",
       "        vertical-align: top;\n",
       "    }\n",
       "\n",
       "    .dataframe thead th {\n",
       "        text-align: right;\n",
       "    }\n",
       "</style>\n",
       "<table border=\"1\" class=\"dataframe\">\n",
       "  <thead>\n",
       "    <tr style=\"text-align: right;\">\n",
       "      <th></th>\n",
       "      <th>model_data</th>\n",
       "      <th>gs_val_auc</th>\n",
       "      <th>oof_cv_score</th>\n",
       "      <th>chosen model_data</th>\n",
       "    </tr>\n",
       "  </thead>\n",
       "  <tbody>\n",
       "    <tr>\n",
       "      <th>0</th>\n",
       "      <td>1530418238__LGB_flight_data_ordinal_layer1</td>\n",
       "      <td>0.714036</td>\n",
       "      <td>0.713600</td>\n",
       "      <td>NaN</td>\n",
       "    </tr>\n",
       "    <tr>\n",
       "      <th>1</th>\n",
       "      <td>1530418243__LGB_flight_data_ordinal_layer1</td>\n",
       "      <td>0.713756</td>\n",
       "      <td>0.713731</td>\n",
       "      <td>NaN</td>\n",
       "    </tr>\n",
       "    <tr>\n",
       "      <th>2</th>\n",
       "      <td>1530418249__LGB_flight_data_ordinal_layer1</td>\n",
       "      <td>0.713120</td>\n",
       "      <td>0.712894</td>\n",
       "      <td>NaN</td>\n",
       "    </tr>\n",
       "    <tr>\n",
       "      <th>3</th>\n",
       "      <td>1530418277__LOGREG_layer2</td>\n",
       "      <td>NaN</td>\n",
       "      <td>0.714362</td>\n",
       "      <td>1530418243__LGB|1530418238__LGB|1530418249__LGB</td>\n",
       "    </tr>\n",
       "  </tbody>\n",
       "</table>\n",
       "</div>"
      ],
      "text/plain": [
       "                                   model_data  gs_val_auc  oof_cv_score                                chosen model_data\n",
       "0  1530418238__LGB_flight_data_ordinal_layer1    0.714036      0.713600                                              NaN\n",
       "1  1530418243__LGB_flight_data_ordinal_layer1    0.713756      0.713731                                              NaN\n",
       "2  1530418249__LGB_flight_data_ordinal_layer1    0.713120      0.712894                                              NaN\n",
       "3                   1530418277__LOGREG_layer2         NaN      0.714362  1530418243__LGB|1530418238__LGB|1530418249__LGB"
      ]
     },
     "execution_count": 49,
     "metadata": {},
     "output_type": "execute_result"
    }
   ],
   "source": [
    "stacknet_res"
   ]
  },
  {
   "cell_type": "code",
   "execution_count": 2,
   "metadata": {
    "ExecuteTime": {
     "end_time": "2018-07-01T02:19:49.093426Z",
     "start_time": "2018-07-01T02:19:49.071922Z"
    }
   },
   "outputs": [
    {
     "name": "stdout",
     "output_type": "stream",
     "text": [
      "['', '/home/kai/anaconda3/envs/tf_gpu/lib/python35.zip', '/home/kai/anaconda3/envs/tf_gpu/lib/python3.5', '/home/kai/anaconda3/envs/tf_gpu/lib/python3.5/plat-linux', '/home/kai/anaconda3/envs/tf_gpu/lib/python3.5/lib-dynload', '/home/kai/.local/lib/python3.5/site-packages', '/home/kai/anaconda3/envs/tf_gpu/lib/python3.5/site-packages', '/home/kai/anaconda3/envs/tf_gpu/lib/python3.5/site-packages/IPython/extensions', '/home/kai/.ipython', '/home/kai/data/shiyi/AlphaBoosting/automl']\n"
     ]
    }
   ],
   "source": [
    "import os\n",
    "import sys\n",
    "#nb_dir = os.path.split(os.getcwd())[0]\n",
    "#if nb_dir not in sys.path:\n",
    "#    sys.path.append(nb_dir)\n",
    "    \n",
    "autolib_dir = '/home/kai/data/shiyi/AlphaBoosting/automl'\n",
    "if autolib_dir not in sys.path:\n",
    "    sys.path.append(autolib_dir)\n",
    "\n",
    "print(sys.path)\n",
    "\n",
    "%load_ext autoreload\n",
    "%autoreload 2"
   ]
  },
  {
   "cell_type": "code",
   "execution_count": 36,
   "metadata": {
    "ExecuteTime": {
     "end_time": "2018-07-01T02:36:46.687291Z",
     "start_time": "2018-07-01T02:36:46.655578Z"
    }
   },
   "outputs": [],
   "source": [
    "from automl_libs import BaseLayerResultsRepo"
   ]
  },
  {
   "cell_type": "code",
   "execution_count": 37,
   "metadata": {
    "ExecuteTime": {
     "end_time": "2018-07-01T02:36:46.939196Z",
     "start_time": "2018-07-01T02:36:46.890890Z"
    }
   },
   "outputs": [],
   "source": [
    "repo = BaseLayerResultsRepo(['label'], 'output/oof/', load_from_file=True)"
   ]
  },
  {
   "cell_type": "code",
   "execution_count": 38,
   "metadata": {
    "ExecuteTime": {
     "end_time": "2018-07-01T02:36:47.250712Z",
     "start_time": "2018-07-01T02:36:47.219616Z"
    }
   },
   "outputs": [
    {
     "name": "stdout",
     "output_type": "stream",
     "text": [
      "0.7315492716625718 1530412261__LOGREG_layer2\n",
      "0.7315275954635782 1530412229__LOGREG_layer2\n",
      "0.7269551244985933 1530409216__LGB_flight_data_ordinal\n",
      "0.7226665566391379 1530409210__LGB_flight_data_ordinal\n",
      "0.7142048521932204 1530409222__LGB_flight_data_ordinal\n",
      "0 1530410638__LOGREG_layer2\n"
     ]
    }
   ],
   "source": [
    "for m,s in repo.show_scores():\n",
    "    print(s,m)"
   ]
  },
  {
   "cell_type": "code",
   "execution_count": 29,
   "metadata": {
    "ExecuteTime": {
     "end_time": "2018-07-01T02:27:38.288874Z",
     "start_time": "2018-07-01T02:27:38.250636Z"
    }
   },
   "outputs": [
    {
     "data": {
      "text/html": [
       "<div>\n",
       "<style scoped>\n",
       "    .dataframe tbody tr th:only-of-type {\n",
       "        vertical-align: middle;\n",
       "    }\n",
       "\n",
       "    .dataframe tbody tr th {\n",
       "        vertical-align: top;\n",
       "    }\n",
       "\n",
       "    .dataframe thead th {\n",
       "        text-align: right;\n",
       "    }\n",
       "</style>\n",
       "<table border=\"1\" class=\"dataframe\">\n",
       "  <thead>\n",
       "    <tr style=\"text-align: right;\">\n",
       "      <th></th>\n",
       "      <th>model_data</th>\n",
       "      <th>oof_cv_score</th>\n",
       "      <th>gs_val_auc</th>\n",
       "    </tr>\n",
       "  </thead>\n",
       "  <tbody>\n",
       "    <tr>\n",
       "      <th>0</th>\n",
       "      <td>1530409210__LGB_flight_data_ordinal</td>\n",
       "      <td>0.722686</td>\n",
       "      <td>0.722667</td>\n",
       "    </tr>\n",
       "    <tr>\n",
       "      <th>1</th>\n",
       "      <td>1530409216__LGB_flight_data_ordinal</td>\n",
       "      <td>0.727223</td>\n",
       "      <td>0.726955</td>\n",
       "    </tr>\n",
       "    <tr>\n",
       "      <th>2</th>\n",
       "      <td>1530409222__LGB_flight_data_ordinal</td>\n",
       "      <td>0.714218</td>\n",
       "      <td>0.714205</td>\n",
       "    </tr>\n",
       "    <tr>\n",
       "      <th>3</th>\n",
       "      <td>1530410638__LOGREG_layer2</td>\n",
       "      <td>0.731528</td>\n",
       "      <td>NaN</td>\n",
       "    </tr>\n",
       "  </tbody>\n",
       "</table>\n",
       "</div>"
      ],
      "text/plain": [
       "                            model_data  oof_cv_score  gs_val_auc\n",
       "0  1530409210__LGB_flight_data_ordinal      0.722686    0.722667\n",
       "1  1530409216__LGB_flight_data_ordinal      0.727223    0.726955\n",
       "2  1530409222__LGB_flight_data_ordinal      0.714218    0.714205\n",
       "3            1530410638__LOGREG_layer2      0.731528         NaN"
      ]
     },
     "execution_count": 29,
     "metadata": {},
     "output_type": "execute_result"
    }
   ],
   "source": [
    "report = repo.get_report()\n",
    "report"
   ]
  },
  {
   "cell_type": "code",
   "execution_count": 30,
   "metadata": {
    "ExecuteTime": {
     "end_time": "2018-07-01T02:27:53.403581Z",
     "start_time": "2018-07-01T02:27:53.374017Z"
    }
   },
   "outputs": [],
   "source": [
    "report.to_csv('report.csv', index=False)"
   ]
  },
  {
   "cell_type": "code",
   "execution_count": 33,
   "metadata": {
    "ExecuteTime": {
     "end_time": "2018-07-01T02:28:00.456791Z",
     "start_time": "2018-07-01T02:28:00.425358Z"
    }
   },
   "outputs": [],
   "source": [
    "rep = pd.read_csv('report.csv')"
   ]
  },
  {
   "cell_type": "code",
   "execution_count": 34,
   "metadata": {
    "ExecuteTime": {
     "end_time": "2018-07-01T02:28:03.252900Z",
     "start_time": "2018-07-01T02:28:03.218927Z"
    }
   },
   "outputs": [
    {
     "data": {
      "text/html": [
       "<div>\n",
       "<style scoped>\n",
       "    .dataframe tbody tr th:only-of-type {\n",
       "        vertical-align: middle;\n",
       "    }\n",
       "\n",
       "    .dataframe tbody tr th {\n",
       "        vertical-align: top;\n",
       "    }\n",
       "\n",
       "    .dataframe thead th {\n",
       "        text-align: right;\n",
       "    }\n",
       "</style>\n",
       "<table border=\"1\" class=\"dataframe\">\n",
       "  <thead>\n",
       "    <tr style=\"text-align: right;\">\n",
       "      <th></th>\n",
       "      <th>model_data</th>\n",
       "      <th>oof_cv_score</th>\n",
       "      <th>gs_val_auc</th>\n",
       "    </tr>\n",
       "  </thead>\n",
       "  <tbody>\n",
       "    <tr>\n",
       "      <th>0</th>\n",
       "      <td>1530409210__LGB_flight_data_ordinal</td>\n",
       "      <td>0.722686</td>\n",
       "      <td>0.722667</td>\n",
       "    </tr>\n",
       "    <tr>\n",
       "      <th>1</th>\n",
       "      <td>1530409216__LGB_flight_data_ordinal</td>\n",
       "      <td>0.727223</td>\n",
       "      <td>0.726955</td>\n",
       "    </tr>\n",
       "    <tr>\n",
       "      <th>2</th>\n",
       "      <td>1530409222__LGB_flight_data_ordinal</td>\n",
       "      <td>0.714218</td>\n",
       "      <td>0.714205</td>\n",
       "    </tr>\n",
       "    <tr>\n",
       "      <th>3</th>\n",
       "      <td>1530410638__LOGREG_layer2</td>\n",
       "      <td>0.731528</td>\n",
       "      <td>NaN</td>\n",
       "    </tr>\n",
       "  </tbody>\n",
       "</table>\n",
       "</div>"
      ],
      "text/plain": [
       "                            model_data  oof_cv_score  gs_val_auc\n",
       "0  1530409210__LGB_flight_data_ordinal      0.722686    0.722667\n",
       "1  1530409216__LGB_flight_data_ordinal      0.727223    0.726955\n",
       "2  1530409222__LGB_flight_data_ordinal      0.714218    0.714205\n",
       "3            1530410638__LOGREG_layer2      0.731528         NaN"
      ]
     },
     "execution_count": 34,
     "metadata": {},
     "output_type": "execute_result"
    }
   ],
   "source": [
    "rep"
   ]
  },
  {
   "cell_type": "code",
   "execution_count": null,
   "metadata": {},
   "outputs": [],
   "source": []
  }
 ],
 "metadata": {
  "kernelspec": {
   "display_name": "Python 3.5 (tf_gpu)",
   "language": "python",
   "name": "tf_gpu"
  },
  "language_info": {
   "codemirror_mode": {
    "name": "ipython",
    "version": 3
   },
   "file_extension": ".py",
   "mimetype": "text/x-python",
   "name": "python",
   "nbconvert_exporter": "python",
   "pygments_lexer": "ipython3",
   "version": "3.5.5"
  },
  "varInspector": {
   "cols": {
    "lenName": 16,
    "lenType": 16,
    "lenVar": 40
   },
   "kernels_config": {
    "python": {
     "delete_cmd_postfix": "",
     "delete_cmd_prefix": "del ",
     "library": "var_list.py",
     "varRefreshCmd": "print(var_dic_list())"
    },
    "r": {
     "delete_cmd_postfix": ") ",
     "delete_cmd_prefix": "rm(",
     "library": "var_list.r",
     "varRefreshCmd": "cat(var_dic_list()) "
    }
   },
   "types_to_exclude": [
    "module",
    "function",
    "builtin_function_or_method",
    "instance",
    "_Feature"
   ],
   "window_display": false
  }
 },
 "nbformat": 4,
 "nbformat_minor": 2
}
