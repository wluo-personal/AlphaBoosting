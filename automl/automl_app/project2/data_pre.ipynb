{
 "cells": [
  {
   "cell_type": "code",
   "execution_count": 1,
   "metadata": {
    "ExecuteTime": {
     "end_time": "2018-07-11T20:42:47.458729Z",
     "start_time": "2018-07-11T20:42:47.218221Z"
    }
   },
   "outputs": [],
   "source": [
    "import pandas as pd"
   ]
  },
  {
   "cell_type": "code",
   "execution_count": 2,
   "metadata": {
    "ExecuteTime": {
     "end_time": "2018-07-11T20:42:52.279186Z",
     "start_time": "2018-07-11T20:42:47.460418Z"
    }
   },
   "outputs": [],
   "source": [
    "df = pd.read_pickle('data/train.pkl')"
   ]
  },
  {
   "cell_type": "code",
   "execution_count": 3,
   "metadata": {
    "ExecuteTime": {
     "end_time": "2018-07-11T20:42:52.301653Z",
     "start_time": "2018-07-11T20:42:52.280727Z"
    }
   },
   "outputs": [
    {
     "data": {
      "text/html": [
       "<div>\n",
       "<style scoped>\n",
       "    .dataframe tbody tr th:only-of-type {\n",
       "        vertical-align: middle;\n",
       "    }\n",
       "\n",
       "    .dataframe tbody tr th {\n",
       "        vertical-align: top;\n",
       "    }\n",
       "\n",
       "    .dataframe thead th {\n",
       "        text-align: right;\n",
       "    }\n",
       "</style>\n",
       "<table border=\"1\" class=\"dataframe\">\n",
       "  <thead>\n",
       "    <tr style=\"text-align: right;\">\n",
       "      <th></th>\n",
       "      <th>SK_ID_CURR</th>\n",
       "      <th>TARGET</th>\n",
       "      <th>NAME_CONTRACT_TYPE</th>\n",
       "      <th>CODE_GENDER</th>\n",
       "      <th>FLAG_OWN_CAR</th>\n",
       "      <th>FLAG_OWN_REALTY</th>\n",
       "      <th>CNT_CHILDREN</th>\n",
       "      <th>AMT_INCOME_TOTAL</th>\n",
       "      <th>AMT_CREDIT</th>\n",
       "      <th>AMT_ANNUITY</th>\n",
       "      <th>...</th>\n",
       "      <th>bureau_AMT_CREDIT_MAX_OVERDUE_divide_DAYS_CREDIT_UPDATE_max</th>\n",
       "      <th>bureau_AMT_CREDIT_MAX_OVERDUE_divide_DAYS_CREDIT_UPDATE_min</th>\n",
       "      <th>bureau_AMT_CREDIT_MAX_OVERDUE_divide_DAYS_CREDIT_UPDATE_sum</th>\n",
       "      <th>bureau_AMT_CREDIT_MAX_OVERDUE_divide_DAYS_CREDIT_UPDATE_std</th>\n",
       "      <th>bureau_STATUS_NUM_divide_MONTHS_BALANCE_sum_mean</th>\n",
       "      <th>bureau_STATUS_NUM_divide_MONTHS_BALANCE_sum_median</th>\n",
       "      <th>bureau_STATUS_NUM_divide_MONTHS_BALANCE_sum_max</th>\n",
       "      <th>bureau_STATUS_NUM_divide_MONTHS_BALANCE_sum_min</th>\n",
       "      <th>bureau_STATUS_NUM_divide_MONTHS_BALANCE_sum_sum</th>\n",
       "      <th>bureau_STATUS_NUM_divide_MONTHS_BALANCE_sum_std</th>\n",
       "    </tr>\n",
       "  </thead>\n",
       "  <tbody>\n",
       "    <tr>\n",
       "      <th>0</th>\n",
       "      <td>100002</td>\n",
       "      <td>1.0</td>\n",
       "      <td>0</td>\n",
       "      <td>0</td>\n",
       "      <td>0</td>\n",
       "      <td>0</td>\n",
       "      <td>0</td>\n",
       "      <td>202500.0</td>\n",
       "      <td>406597.5</td>\n",
       "      <td>24700.5</td>\n",
       "      <td>...</td>\n",
       "      <td>-0.0</td>\n",
       "      <td>-152.837727</td>\n",
       "      <td>-158.26821</td>\n",
       "      <td>67.760926</td>\n",
       "      <td>-0.135012</td>\n",
       "      <td>-0.136674</td>\n",
       "      <td>0.0</td>\n",
       "      <td>-0.258263</td>\n",
       "      <td>-1.080096</td>\n",
       "      <td>0.110696</td>\n",
       "    </tr>\n",
       "    <tr>\n",
       "      <th>1</th>\n",
       "      <td>100003</td>\n",
       "      <td>0.0</td>\n",
       "      <td>0</td>\n",
       "      <td>1</td>\n",
       "      <td>0</td>\n",
       "      <td>1</td>\n",
       "      <td>0</td>\n",
       "      <td>270000.0</td>\n",
       "      <td>1293502.5</td>\n",
       "      <td>35698.5</td>\n",
       "      <td>...</td>\n",
       "      <td>-0.0</td>\n",
       "      <td>-0.000000</td>\n",
       "      <td>0.00000</td>\n",
       "      <td>0.000000</td>\n",
       "      <td>NaN</td>\n",
       "      <td>NaN</td>\n",
       "      <td>NaN</td>\n",
       "      <td>NaN</td>\n",
       "      <td>0.000000</td>\n",
       "      <td>NaN</td>\n",
       "    </tr>\n",
       "  </tbody>\n",
       "</table>\n",
       "<p>2 rows × 2395 columns</p>\n",
       "</div>"
      ],
      "text/plain": [
       "   SK_ID_CURR  TARGET  NAME_CONTRACT_TYPE  CODE_GENDER  FLAG_OWN_CAR  \\\n",
       "0      100002     1.0                   0            0             0   \n",
       "1      100003     0.0                   0            1             0   \n",
       "\n",
       "   FLAG_OWN_REALTY  CNT_CHILDREN  AMT_INCOME_TOTAL  AMT_CREDIT  AMT_ANNUITY  \\\n",
       "0                0             0          202500.0    406597.5      24700.5   \n",
       "1                1             0          270000.0   1293502.5      35698.5   \n",
       "\n",
       "                        ...                         \\\n",
       "0                       ...                          \n",
       "1                       ...                          \n",
       "\n",
       "   bureau_AMT_CREDIT_MAX_OVERDUE_divide_DAYS_CREDIT_UPDATE_max  \\\n",
       "0                                               -0.0             \n",
       "1                                               -0.0             \n",
       "\n",
       "   bureau_AMT_CREDIT_MAX_OVERDUE_divide_DAYS_CREDIT_UPDATE_min  \\\n",
       "0                                        -152.837727             \n",
       "1                                          -0.000000             \n",
       "\n",
       "   bureau_AMT_CREDIT_MAX_OVERDUE_divide_DAYS_CREDIT_UPDATE_sum  \\\n",
       "0                                         -158.26821             \n",
       "1                                            0.00000             \n",
       "\n",
       "   bureau_AMT_CREDIT_MAX_OVERDUE_divide_DAYS_CREDIT_UPDATE_std  \\\n",
       "0                                          67.760926             \n",
       "1                                           0.000000             \n",
       "\n",
       "   bureau_STATUS_NUM_divide_MONTHS_BALANCE_sum_mean  \\\n",
       "0                                         -0.135012   \n",
       "1                                               NaN   \n",
       "\n",
       "   bureau_STATUS_NUM_divide_MONTHS_BALANCE_sum_median  \\\n",
       "0                                          -0.136674    \n",
       "1                                                NaN    \n",
       "\n",
       "   bureau_STATUS_NUM_divide_MONTHS_BALANCE_sum_max  \\\n",
       "0                                              0.0   \n",
       "1                                              NaN   \n",
       "\n",
       "   bureau_STATUS_NUM_divide_MONTHS_BALANCE_sum_min  \\\n",
       "0                                        -0.258263   \n",
       "1                                              NaN   \n",
       "\n",
       "   bureau_STATUS_NUM_divide_MONTHS_BALANCE_sum_sum  \\\n",
       "0                                        -1.080096   \n",
       "1                                         0.000000   \n",
       "\n",
       "   bureau_STATUS_NUM_divide_MONTHS_BALANCE_sum_std  \n",
       "0                                         0.110696  \n",
       "1                                              NaN  \n",
       "\n",
       "[2 rows x 2395 columns]"
      ]
     },
     "execution_count": 3,
     "metadata": {},
     "output_type": "execute_result"
    }
   ],
   "source": [
    "df.head(2)"
   ]
  },
  {
   "cell_type": "code",
   "execution_count": 4,
   "metadata": {
    "ExecuteTime": {
     "end_time": "2018-07-11T20:43:09.880522Z",
     "start_time": "2018-07-11T20:42:52.302959Z"
    }
   },
   "outputs": [],
   "source": [
    "null_counts = df.isnull().sum()"
   ]
  },
  {
   "cell_type": "code",
   "execution_count": 5,
   "metadata": {
    "ExecuteTime": {
     "end_time": "2018-07-11T20:43:09.884554Z",
     "start_time": "2018-07-11T20:43:09.882040Z"
    }
   },
   "outputs": [],
   "source": [
    "null_counts = null_counts[null_counts>0]"
   ]
  },
  {
   "cell_type": "code",
   "execution_count": 6,
   "metadata": {
    "ExecuteTime": {
     "end_time": "2018-07-11T20:43:09.899985Z",
     "start_time": "2018-07-11T20:43:09.885769Z"
    }
   },
   "outputs": [
    {
     "name": "stdout",
     "output_type": "stream",
     "text": [
      "AMT_ANNUITY            12\n",
      "AMT_GOODS_PRICE       278\n",
      "OWN_CAR_AGE        202929\n",
      "dtype: int64\n",
      "=========\n",
      "2274\n"
     ]
    }
   ],
   "source": [
    "print(null_counts[:3])\n",
    "print('=========')\n",
    "print(len(null_counts))"
   ]
  },
  {
   "cell_type": "code",
   "execution_count": 7,
   "metadata": {
    "ExecuteTime": {
     "end_time": "2018-07-11T20:43:09.913162Z",
     "start_time": "2018-07-11T20:43:09.901442Z"
    }
   },
   "outputs": [],
   "source": [
    "null_ratios = null_counts / len(df)"
   ]
  },
  {
   "cell_type": "code",
   "execution_count": 8,
   "metadata": {
    "ExecuteTime": {
     "end_time": "2018-07-11T20:43:09.919389Z",
     "start_time": "2018-07-11T20:43:09.915173Z"
    }
   },
   "outputs": [
    {
     "data": {
      "text/plain": [
       "AMT_ANNUITY        0.000039\n",
       "AMT_GOODS_PRICE    0.000904\n",
       "OWN_CAR_AGE        0.659908\n",
       "dtype: float64"
      ]
     },
     "execution_count": 8,
     "metadata": {},
     "output_type": "execute_result"
    }
   ],
   "source": [
    "null_ratios[:3]"
   ]
  },
  {
   "cell_type": "code",
   "execution_count": 9,
   "metadata": {
    "ExecuteTime": {
     "end_time": "2018-07-11T20:43:09.926503Z",
     "start_time": "2018-07-11T20:43:09.921057Z"
    }
   },
   "outputs": [],
   "source": [
    "null_thresh = 0.8"
   ]
  },
  {
   "cell_type": "code",
   "execution_count": 10,
   "metadata": {
    "ExecuteTime": {
     "end_time": "2018-07-11T20:43:09.934931Z",
     "start_time": "2018-07-11T20:43:09.928221Z"
    }
   },
   "outputs": [],
   "source": [
    "null_cols = null_ratios[null_ratios > null_thresh].index"
   ]
  },
  {
   "cell_type": "code",
   "execution_count": 11,
   "metadata": {
    "ExecuteTime": {
     "end_time": "2018-07-11T20:43:09.944649Z",
     "start_time": "2018-07-11T20:43:09.937524Z"
    }
   },
   "outputs": [
    {
     "data": {
      "text/plain": [
       "(219, Index(['DEF_60_CNT_SOCIAL_CIRCLE_divide_DEF_30_CNT_SOCIAL_CIRCLE',\n",
       "        'AMT_REQ_CREDIT_BUREAU_HOUR_divide_DEF_30_CNT_SOCIAL_CIRCLE',\n",
       "        'AMT_REQ_CREDIT_BUREAU_HOUR_divide_DEF_60_CNT_SOCIAL_CIRCLE'],\n",
       "       dtype='object'))"
      ]
     },
     "execution_count": 11,
     "metadata": {},
     "output_type": "execute_result"
    }
   ],
   "source": [
    "len(null_cols), null_cols[:3]"
   ]
  },
  {
   "cell_type": "code",
   "execution_count": 12,
   "metadata": {
    "ExecuteTime": {
     "end_time": "2018-07-11T20:43:12.005076Z",
     "start_time": "2018-07-11T20:43:09.947529Z"
    }
   },
   "outputs": [],
   "source": [
    "df.drop(null_cols, axis=1, inplace=True)"
   ]
  },
  {
   "cell_type": "code",
   "execution_count": 13,
   "metadata": {
    "ExecuteTime": {
     "end_time": "2018-07-11T20:43:12.019488Z",
     "start_time": "2018-07-11T20:43:12.006706Z"
    }
   },
   "outputs": [
    {
     "name": "stdout",
     "output_type": "stream",
     "text": [
      "Columns dropped for being over 80.0% null:\n"
     ]
    }
   ],
   "source": [
    "print('Columns dropped for being over {}% null:'.format(100*null_thresh))"
   ]
  },
  {
   "cell_type": "code",
   "execution_count": 14,
   "metadata": {
    "ExecuteTime": {
     "end_time": "2018-07-11T20:43:12.029436Z",
     "start_time": "2018-07-11T20:43:12.021313Z"
    }
   },
   "outputs": [],
   "source": [
    "categorical_feats = [\"FLAG_OWN_CAR\",\"FLAG_OWN_REALTY\",\"NAME_TYPE_SUITE\",\"NAME_INCOME_TYPE\",\"NAME_EDUCATION_TYPE\",\"NAME_FAMILY_STATUS\",\"NAME_HOUSING_TYPE\",\"OCCUPATION_TYPE\",\"FLAG_DOCUMENT_2\",\"FLAG_DOCUMENT_3\",\"FLAG_DOCUMENT_4\",\"FLAG_DOCUMENT_5\",\"FLAG_DOCUMENT_6\",\"FLAG_DOCUMENT_7\",\"FLAG_DOCUMENT_8\",\"FLAG_DOCUMENT_9\",\"FLAG_DOCUMENT_10\",\"FLAG_DOCUMENT_11\",\"FLAG_DOCUMENT_12\",\"FLAG_DOCUMENT_13\",\"FLAG_DOCUMENT_14\",\"FLAG_DOCUMENT_15\",\"FLAG_DOCUMENT_16\",\"FLAG_DOCUMENT_17\",\"FLAG_DOCUMENT_18\",\"FLAG_DOCUMENT_19\",\"FLAG_DOCUMENT_20\",\"FLAG_DOCUMENT_21\",\"NAME_TYPE_SUITE\"]"
   ]
  },
  {
   "cell_type": "code",
   "execution_count": 15,
   "metadata": {
    "ExecuteTime": {
     "end_time": "2018-07-11T20:43:12.038717Z",
     "start_time": "2018-07-11T20:43:12.031517Z"
    }
   },
   "outputs": [],
   "source": [
    "for col in null_cols:\n",
    "    if col in categorical_feats:\n",
    "        categorical_feats.pop(col) # since cat feats are label encoded, there won't be any missing value\n",
    "        print(col) # expect to print nothing"
   ]
  },
  {
   "cell_type": "code",
   "execution_count": 16,
   "metadata": {
    "ExecuteTime": {
     "end_time": "2018-07-11T20:43:16.763800Z",
     "start_time": "2018-07-11T20:43:12.041428Z"
    }
   },
   "outputs": [],
   "source": [
    "import numpy as np\n",
    "df.replace([np.inf, -np.inf], np.nan, inplace=True)"
   ]
  },
  {
   "cell_type": "code",
   "execution_count": 17,
   "metadata": {
    "ExecuteTime": {
     "end_time": "2018-07-11T20:43:18.411231Z",
     "start_time": "2018-07-11T20:43:16.765430Z"
    }
   },
   "outputs": [],
   "source": [
    "df.fillna(-1, inplace=True)"
   ]
  },
  {
   "cell_type": "code",
   "execution_count": 18,
   "metadata": {
    "ExecuteTime": {
     "end_time": "2018-07-11T20:43:18.415278Z",
     "start_time": "2018-07-11T20:43:18.412736Z"
    }
   },
   "outputs": [
    {
     "data": {
      "text/plain": [
       "(307511, 2176)"
      ]
     },
     "execution_count": 18,
     "metadata": {},
     "output_type": "execute_result"
    }
   ],
   "source": [
    "df.shape"
   ]
  },
  {
   "cell_type": "code",
   "execution_count": 19,
   "metadata": {
    "ExecuteTime": {
     "end_time": "2018-07-11T20:43:18.428588Z",
     "start_time": "2018-07-11T20:43:18.416599Z"
    }
   },
   "outputs": [],
   "source": [
    "numeric_feats = list(set(df.columns.values) - set(categorical_feats) - set(['TARGET']))"
   ]
  },
  {
   "cell_type": "code",
   "execution_count": 20,
   "metadata": {
    "ExecuteTime": {
     "end_time": "2018-07-11T20:43:18.437706Z",
     "start_time": "2018-07-11T20:43:18.430073Z"
    }
   },
   "outputs": [
    {
     "data": {
      "text/plain": [
       "2147"
      ]
     },
     "execution_count": 20,
     "metadata": {},
     "output_type": "execute_result"
    }
   ],
   "source": [
    "len(numeric_feats)"
   ]
  },
  {
   "cell_type": "code",
   "execution_count": 21,
   "metadata": {
    "ExecuteTime": {
     "end_time": "2018-07-11T20:43:18.452224Z",
     "start_time": "2018-07-11T20:43:18.439446Z"
    }
   },
   "outputs": [
    {
     "data": {
      "text/html": [
       "<div>\n",
       "<style scoped>\n",
       "    .dataframe tbody tr th:only-of-type {\n",
       "        vertical-align: middle;\n",
       "    }\n",
       "\n",
       "    .dataframe tbody tr th {\n",
       "        vertical-align: top;\n",
       "    }\n",
       "\n",
       "    .dataframe thead th {\n",
       "        text-align: right;\n",
       "    }\n",
       "</style>\n",
       "<table border=\"1\" class=\"dataframe\">\n",
       "  <thead>\n",
       "    <tr style=\"text-align: right;\">\n",
       "      <th></th>\n",
       "      <th>feature</th>\n",
       "      <th>column_index</th>\n",
       "    </tr>\n",
       "  </thead>\n",
       "  <tbody>\n",
       "    <tr>\n",
       "      <th>0</th>\n",
       "      <td>FLAG_OWN_CAR</td>\n",
       "      <td>4</td>\n",
       "    </tr>\n",
       "    <tr>\n",
       "      <th>1</th>\n",
       "      <td>FLAG_OWN_REALTY</td>\n",
       "      <td>5</td>\n",
       "    </tr>\n",
       "    <tr>\n",
       "      <th>2</th>\n",
       "      <td>NAME_TYPE_SUITE</td>\n",
       "      <td>11</td>\n",
       "    </tr>\n",
       "    <tr>\n",
       "      <th>3</th>\n",
       "      <td>NAME_INCOME_TYPE</td>\n",
       "      <td>12</td>\n",
       "    </tr>\n",
       "    <tr>\n",
       "      <th>4</th>\n",
       "      <td>NAME_EDUCATION_TYPE</td>\n",
       "      <td>13</td>\n",
       "    </tr>\n",
       "  </tbody>\n",
       "</table>\n",
       "</div>"
      ],
      "text/plain": [
       "               feature  column_index\n",
       "0         FLAG_OWN_CAR             4\n",
       "1      FLAG_OWN_REALTY             5\n",
       "2      NAME_TYPE_SUITE            11\n",
       "3     NAME_INCOME_TYPE            12\n",
       "4  NAME_EDUCATION_TYPE            13"
      ]
     },
     "execution_count": 21,
     "metadata": {},
     "output_type": "execute_result"
    }
   ],
   "source": [
    "import numpy as np\n",
    "cat_feats_idx = np.array([df.columns.get_loc(x) for x in categorical_feats])\n",
    "cat_feat_lookup = pd.DataFrame({'feature': categorical_feats, 'column_index': cat_feats_idx})\n",
    "cat_feat_lookup.head()"
   ]
  },
  {
   "cell_type": "code",
   "execution_count": 22,
   "metadata": {
    "ExecuteTime": {
     "end_time": "2018-07-11T20:43:18.467665Z",
     "start_time": "2018-07-11T20:43:18.454389Z"
    }
   },
   "outputs": [
    {
     "data": {
      "text/html": [
       "<div>\n",
       "<style scoped>\n",
       "    .dataframe tbody tr th:only-of-type {\n",
       "        vertical-align: middle;\n",
       "    }\n",
       "\n",
       "    .dataframe tbody tr th {\n",
       "        vertical-align: top;\n",
       "    }\n",
       "\n",
       "    .dataframe thead th {\n",
       "        text-align: right;\n",
       "    }\n",
       "</style>\n",
       "<table border=\"1\" class=\"dataframe\">\n",
       "  <thead>\n",
       "    <tr style=\"text-align: right;\">\n",
       "      <th></th>\n",
       "      <th>feature</th>\n",
       "      <th>column_index</th>\n",
       "    </tr>\n",
       "  </thead>\n",
       "  <tbody>\n",
       "    <tr>\n",
       "      <th>0</th>\n",
       "      <td>prev_onehot_NAME_SELLER_INDUSTRY_Connectivity_...</td>\n",
       "      <td>467</td>\n",
       "    </tr>\n",
       "    <tr>\n",
       "      <th>1</th>\n",
       "      <td>creditcard_AMT_RECIVABLE_divide_SK_DPD_minus_S...</td>\n",
       "      <td>1439</td>\n",
       "    </tr>\n",
       "    <tr>\n",
       "      <th>2</th>\n",
       "      <td>prev_AMT_CREDIT_divide_DAYS_LAST_DUE_1ST_VERSI...</td>\n",
       "      <td>1101</td>\n",
       "    </tr>\n",
       "    <tr>\n",
       "      <th>3</th>\n",
       "      <td>prev_DAYS_LAST_DUE_sum</td>\n",
       "      <td>969</td>\n",
       "    </tr>\n",
       "    <tr>\n",
       "      <th>4</th>\n",
       "      <td>def_divide_count_prev_sum</td>\n",
       "      <td>1173</td>\n",
       "    </tr>\n",
       "  </tbody>\n",
       "</table>\n",
       "</div>"
      ],
      "text/plain": [
       "                                             feature  column_index\n",
       "0  prev_onehot_NAME_SELLER_INDUSTRY_Connectivity_...           467\n",
       "1  creditcard_AMT_RECIVABLE_divide_SK_DPD_minus_S...          1439\n",
       "2  prev_AMT_CREDIT_divide_DAYS_LAST_DUE_1ST_VERSI...          1101\n",
       "3                             prev_DAYS_LAST_DUE_sum           969\n",
       "4                          def_divide_count_prev_sum          1173"
      ]
     },
     "execution_count": 22,
     "metadata": {},
     "output_type": "execute_result"
    }
   ],
   "source": [
    "# int_feats_idx = [df.columns.get_loc(x) for x in numeric_feats]\n",
    "numeric_feats_idx = np.array(\n",
    "    [df.columns.get_loc(x) \n",
    "     for x in numeric_feats]\n",
    ")\n",
    "numeric_feat_lookup = pd.DataFrame(\n",
    "    {'feature': numeric_feats, \n",
    "     'column_index': numeric_feats_idx}\n",
    ")\n",
    "numeric_feat_lookup.head()"
   ]
  },
  {
   "cell_type": "code",
   "execution_count": null,
   "metadata": {
    "ExecuteTime": {
     "end_time": "2018-07-11T20:35:10.502157Z",
     "start_time": "2018-07-11T20:34:46.573Z"
    }
   },
   "outputs": [],
   "source": [
    "numeric_feat_lookup.shape"
   ]
  },
  {
   "cell_type": "code",
   "execution_count": 23,
   "metadata": {
    "ExecuteTime": {
     "end_time": "2018-07-11T20:43:18.622967Z",
     "start_time": "2018-07-11T20:43:18.469193Z"
    }
   },
   "outputs": [],
   "source": [
    "from sklearn.preprocessing import StandardScaler, MinMaxScaler"
   ]
  },
  {
   "cell_type": "markdown",
   "metadata": {
    "ExecuteTime": {
     "end_time": "2018-07-11T20:23:30.836856Z",
     "start_time": "2018-07-11T20:23:30.791446Z"
    }
   },
   "source": [
    "## for col in numeric_feats:\n",
    "    print(col)\n",
    "    scaler.fit_transform((abs(df2[col])+200).values.reshape(-1,1))"
   ]
  },
  {
   "cell_type": "code",
   "execution_count": 24,
   "metadata": {
    "ExecuteTime": {
     "end_time": "2018-07-11T20:43:18.626457Z",
     "start_time": "2018-07-11T20:43:18.624495Z"
    }
   },
   "outputs": [],
   "source": [
    "final_col_names = df.columns\n",
    "# df = df.values"
   ]
  },
  {
   "cell_type": "code",
   "execution_count": 34,
   "metadata": {
    "ExecuteTime": {
     "end_time": "2018-07-11T20:39:41.049383Z",
     "start_time": "2018-07-11T20:39:41.044182Z"
    }
   },
   "outputs": [
    {
     "data": {
      "text/plain": [
       "2176"
      ]
     },
     "execution_count": 34,
     "metadata": {},
     "output_type": "execute_result"
    }
   ],
   "source": [
    "len(final_col_names)"
   ]
  },
  {
   "cell_type": "code",
   "execution_count": 26,
   "metadata": {
    "ExecuteTime": {
     "end_time": "2018-07-11T20:48:37.517509Z",
     "start_time": "2018-07-11T20:48:31.785788Z"
    }
   },
   "outputs": [
    {
     "name": "stderr",
     "output_type": "stream",
     "text": [
      "/home/kai/anaconda3/lib/python3.6/site-packages/sklearn/utils/validation.py:475: DataConversionWarning: Data with input dtype int64 was converted to float64 by StandardScaler.\n",
      "  warnings.warn(msg, DataConversionWarning)\n"
     ]
    }
   ],
   "source": [
    "scaler = StandardScaler()\n",
    "for col in numeric_feats:\n",
    "    df[col] = scaler.fit_transform(df[col].values.reshape(-1,1))\n",
    "# df[:, numeric_feats_idx] = scaler.fit_transform(df[:, numeric_feats_idx])"
   ]
  },
  {
   "cell_type": "code",
   "execution_count": null,
   "metadata": {
    "ExecuteTime": {
     "end_time": "2018-07-11T20:48:37.548162Z",
     "start_time": "2018-07-11T20:48:36.857Z"
    }
   },
   "outputs": [],
   "source": [
    "scaler_2 = MinMaxScaler(feature_range=(0, 1))\n",
    "for col in categorical_feats:\n",
    "    df[col] = scaler_2.fit_transform(df[col].values.reshape(-1,1))\n",
    "# df[:, cat_feats_idx] = scaler_2.fit_transform(df[:, cat_feats_idx])"
   ]
  },
  {
   "cell_type": "code",
   "execution_count": null,
   "metadata": {
    "ExecuteTime": {
     "end_time": "2018-07-11T20:43:18.735474Z",
     "start_time": "2018-07-11T20:42:48.194Z"
    }
   },
   "outputs": [],
   "source": [
    "import gc\n",
    "gc.collect()"
   ]
  },
  {
   "cell_type": "code",
   "execution_count": 27,
   "metadata": {
    "ExecuteTime": {
     "end_time": "2018-07-11T20:48:39.605723Z",
     "start_time": "2018-07-11T20:48:39.599620Z"
    }
   },
   "outputs": [],
   "source": [
    "test = df.tail()"
   ]
  },
  {
   "cell_type": "code",
   "execution_count": 28,
   "metadata": {
    "ExecuteTime": {
     "end_time": "2018-07-11T20:49:00.093312Z",
     "start_time": "2018-07-11T20:49:00.089218Z"
    }
   },
   "outputs": [],
   "source": [
    "test.to_pickle('data/test_pre.pkl')"
   ]
  },
  {
   "cell_type": "code",
   "execution_count": 29,
   "metadata": {
    "ExecuteTime": {
     "end_time": "2018-07-11T20:49:22.675865Z",
     "start_time": "2018-07-11T20:49:15.336795Z"
    }
   },
   "outputs": [],
   "source": [
    "df.to_pickle('data/train_pre.pkl')"
   ]
  },
  {
   "cell_type": "code",
   "execution_count": null,
   "metadata": {},
   "outputs": [],
   "source": []
  }
 ],
 "metadata": {
  "kernelspec": {
   "display_name": "Python 3",
   "language": "python",
   "name": "python3"
  },
  "language_info": {
   "codemirror_mode": {
    "name": "ipython",
    "version": 3
   },
   "file_extension": ".py",
   "mimetype": "text/x-python",
   "name": "python",
   "nbconvert_exporter": "python",
   "pygments_lexer": "ipython3",
   "version": "3.6.5"
  },
  "varInspector": {
   "cols": {
    "lenName": 16,
    "lenType": 16,
    "lenVar": 40
   },
   "kernels_config": {
    "python": {
     "delete_cmd_postfix": "",
     "delete_cmd_prefix": "del ",
     "library": "var_list.py",
     "varRefreshCmd": "print(var_dic_list())"
    },
    "r": {
     "delete_cmd_postfix": ") ",
     "delete_cmd_prefix": "rm(",
     "library": "var_list.r",
     "varRefreshCmd": "cat(var_dic_list()) "
    }
   },
   "types_to_exclude": [
    "module",
    "function",
    "builtin_function_or_method",
    "instance",
    "_Feature"
   ],
   "window_display": false
  }
 },
 "nbformat": 4,
 "nbformat_minor": 2
}
