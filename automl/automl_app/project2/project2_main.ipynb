{
 "cells": [
  {
   "cell_type": "code",
   "execution_count": 1,
   "metadata": {
    "ExecuteTime": {
     "end_time": "2018-06-15T19:19:11.265379Z",
     "start_time": "2018-06-15T19:19:11.255604Z"
    },
    "collapsed": true
   },
   "outputs": [],
   "source": [
    "import os\n",
    "import sys\n",
    "#nb_dir = os.path.split(os.getcwd())[0]\n",
    "#if nb_dir not in sys.path:\n",
    "#    sys.path.append(nb_dir)\n",
    "    \n",
    "autolib_dir = '/home/kai/data/shiyi/AlphaBoosting/automl'\n",
    "if autolib_dir not in sys.path:\n",
    "    sys.path.append(autolib_dir)\n"
   ]
  },
  {
   "cell_type": "code",
   "execution_count": 2,
   "metadata": {
    "ExecuteTime": {
     "end_time": "2018-06-15T19:19:11.284723Z",
     "start_time": "2018-06-15T19:19:11.270600Z"
    }
   },
   "outputs": [
    {
     "data": {
      "text/plain": [
       "['',\n",
       " '/home/kai/anaconda3/lib/python36.zip',\n",
       " '/home/kai/anaconda3/lib/python3.6',\n",
       " '/home/kai/anaconda3/lib/python3.6/lib-dynload',\n",
       " '/home/kai/anaconda3/lib/python3.6/site-packages',\n",
       " '/home/kai/anaconda3/lib/python3.6/site-packages/xgboost-0.7-py3.6.egg',\n",
       " '/home/kai/anaconda3/lib/python3.6/site-packages/duckling-1.8.0-py3.6.egg',\n",
       " '/home/kai/anaconda3/lib/python3.6/site-packages/JPype1-0.6.3-py3.6-linux-x86_64.egg',\n",
       " '/home/kai/anaconda3/lib/python3.6/site-packages/IPython/extensions',\n",
       " '/home/kai/.ipython',\n",
       " '/home/kai/data/shiyi/AlphaBoosting/automl']"
      ]
     },
     "execution_count": 2,
     "metadata": {},
     "output_type": "execute_result"
    }
   ],
   "source": [
    "sys.path"
   ]
  },
  {
   "cell_type": "code",
   "execution_count": 3,
   "metadata": {
    "ExecuteTime": {
     "end_time": "2018-06-15T19:19:11.303528Z",
     "start_time": "2018-06-15T19:19:11.286708Z"
    },
    "collapsed": true
   },
   "outputs": [],
   "source": [
    "%load_ext autoreload"
   ]
  },
  {
   "cell_type": "code",
   "execution_count": 4,
   "metadata": {
    "ExecuteTime": {
     "end_time": "2018-06-15T19:19:11.307653Z",
     "start_time": "2018-06-15T19:19:11.305291Z"
    },
    "collapsed": true
   },
   "outputs": [],
   "source": [
    "%autoreload 2"
   ]
  },
  {
   "cell_type": "code",
   "execution_count": 5,
   "metadata": {
    "ExecuteTime": {
     "end_time": "2018-06-15T19:19:11.624113Z",
     "start_time": "2018-06-15T19:19:11.309199Z"
    },
    "collapsed": true
   },
   "outputs": [],
   "source": [
    "from automl_libs import feature_engineering as fe\n",
    "from automl_libs import encoding, kernels "
   ]
  },
  {
   "cell_type": "code",
   "execution_count": 6,
   "metadata": {
    "ExecuteTime": {
     "end_time": "2018-06-15T19:19:11.639295Z",
     "start_time": "2018-06-15T19:19:11.625892Z"
    },
    "collapsed": true
   },
   "outputs": [],
   "source": [
    "# params\n",
    "#param = {'trainLen': self.train_len, 'splitCol': 'a', 'col': self.label, 'coefficient': 10, 'n': 2, 'fillna': 22}\n",
    "# feature_engineering_dict.append({'params': params, 'function': 'count', 'feature_cols': ['a','b']})\n",
    "# feature_engineering_dict.append({'params': params, 'function': 'unique_count', 'feature_cols': ['a','b']})\n",
    "# feature_engineering_dict.append({'params': params, 'function': 'cumulative_count', 'feature_cols': ['a','b']})\n",
    "# feature_engineering_dict.append({'params': params, 'function': 'reverse_cumulative_count', 'feature_cols': ['a','b']})\n",
    "# feature_engineering_dict.append({'params': params, 'function': 'variance', 'feature_cols': ['a','n']})\n",
    "# feature_engineering_dict.append({'params': params, 'function': 'count_std_over_mean', 'feature_cols': ['a','b']})\n",
    "\n",
    "\n",
    "# feature_engineering_dict.append({'params': params, 'function': 'time_to_n_next', 'feature_cols': ['a','t']})\n",
    "# feature_engineering_dict.append({'params': params, 'function': 'count_in_previous_n_time_unit', 'feature_cols': ['a','t']})\n",
    "# feature_engineering_dict.append({'params': params, 'function': 'count_in_next_n_time_unit', 'feature_cols': ['a','t']})\n",
    "\n",
    "# feature_engineering_dict.append({'params': params, 'function': 'woe', 'feature_cols': ['a']})\n",
    "# feature_engineering_dict.append({'params': params, 'function': 'chi_square', 'feature_cols': ['a']})\n",
    "# feature_engineering_dict.append({'params': params, 'function': 'mean', 'feature_cols': ['a']})"
   ]
  },
  {
   "cell_type": "code",
   "execution_count": 7,
   "metadata": {
    "ExecuteTime": {
     "end_time": "2018-06-15T19:19:11.651706Z",
     "start_time": "2018-06-15T19:19:11.640716Z"
    },
    "collapsed": true
   },
   "outputs": [],
   "source": [
    "categorical_features = ['Month', 'DayofMonth', 'DayOfWeek']#, 'DepTime', 'UniqueCarrier', 'Origin', 'Dest', 'Distance']"
   ]
  },
  {
   "cell_type": "code",
   "execution_count": 8,
   "metadata": {
    "ExecuteTime": {
     "end_time": "2018-06-15T19:19:11.675774Z",
     "start_time": "2018-06-15T19:19:11.653106Z"
    }
   },
   "outputs": [
    {
     "data": {
      "text/plain": [
       "[{'feature_cols': ['Month', 'DayofMonth'],\n",
       "  'function': <function automl_libs.feature_engineering.count>,\n",
       "  'params': {}},\n",
       " {'feature_cols': ['Month', 'DayOfWeek'],\n",
       "  'function': <function automl_libs.feature_engineering.count>,\n",
       "  'params': {}},\n",
       " {'feature_cols': ['DayofMonth', 'DayOfWeek'],\n",
       "  'function': <function automl_libs.feature_engineering.count>,\n",
       "  'params': {}},\n",
       " {'feature_cols': ['Month', 'DayofMonth', 'DayOfWeek'],\n",
       "  'function': <function automl_libs.feature_engineering.count>,\n",
       "  'params': {}}]"
      ]
     },
     "execution_count": 8,
     "metadata": {},
     "output_type": "execute_result"
    }
   ],
   "source": [
    "import itertools\n",
    "#params = {'split_col': 't', 'coefficient': 10, 'n': 2, 'fillna': 22}\n",
    "def get_features_to_gen(function_list):\n",
    "    features_to_gen = []\n",
    "    for function in function_list:\n",
    "        for i in range(2, len(categorical_features)+1):\n",
    "            for combine in itertools.combinations(categorical_features, i):\n",
    "                if function.__name__ == 'count_std_over_mean':\n",
    "                    features_to_gen.append({'params': {'coefficient': 10}, 'function': function, 'feature_cols': list(combine)})\n",
    "                else:\n",
    "                    features_to_gen.append({'params': {}, 'function': function, 'feature_cols': list(combine)})\n",
    "                \n",
    "    return features_to_gen\n",
    "\n",
    "#features_to_gen = get_features_to_gen([fe.count, fe.unique_count, fe.cumulative_count,\n",
    "#                                      fe.reverse_cumulative_count, fe.variance, fe.count_std_over_mean])\n",
    "features_to_gen = get_features_to_gen([fe.count])\n",
    "\n",
    "features_to_gen"
   ]
  },
  {
   "cell_type": "code",
   "execution_count": 9,
   "metadata": {
    "ExecuteTime": {
     "end_time": "2018-06-15T19:19:11.692570Z",
     "start_time": "2018-06-15T19:19:11.677339Z"
    }
   },
   "outputs": [
    {
     "data": {
      "text/plain": [
       "['Month', 'DayofMonth', 'DayOfWeek']"
      ]
     },
     "execution_count": 9,
     "metadata": {},
     "output_type": "execute_result"
    }
   ],
   "source": [
    "categorical_features"
   ]
  },
  {
   "cell_type": "code",
   "execution_count": 10,
   "metadata": {
    "ExecuteTime": {
     "end_time": "2018-06-15T19:19:11.705747Z",
     "start_time": "2018-06-15T19:19:11.694432Z"
    },
    "collapsed": true
   },
   "outputs": [],
   "source": [
    "project_path = '/home/kai/data/shiyi/AlphaBoosting/automl/automl_app/project1/' "
   ]
  },
  {
   "cell_type": "code",
   "execution_count": 11,
   "metadata": {
    "ExecuteTime": {
     "end_time": "2018-06-15T19:19:11.719783Z",
     "start_time": "2018-06-15T19:19:11.707290Z"
    }
   },
   "outputs": [],
   "source": [
    "from automl_app import logger_config\n",
    "\n",
    "logger_config.config(project_path+'log_project1.log')"
   ]
  },
  {
   "cell_type": "code",
   "execution_count": 12,
   "metadata": {
    "ExecuteTime": {
     "end_time": "2018-06-15T19:19:34.970161Z",
     "start_time": "2018-06-15T19:19:11.721373Z"
    },
    "scrolled": false
   },
   "outputs": [
    {
     "name": "stderr",
     "output_type": "stream",
     "text": [
      "2018-06-15 15:19:12 EST | INFO     | automl_app.app.AlphaBoosting                 | __init__             | #56  | Run record file [./output/run_record.json] not found. Begin the first time run...\n",
      "2018-06-15 15:19:12 EST | INFO     | automl_app.app.AlphaBoosting                 | __init__             | #89  | save run record\n",
      "2018-06-15 15:19:12 EST | INFO     | automl_app.app.AlphaBoosting                 | _save_run_record     | #153 | val index is saved at ./log/val_index.json\n",
      "2018-06-15 15:19:12 EST | INFO     | automl_app.app.AlphaBoosting                 | _save_run_record     | #155 | run record is saved at ./output/run_record.json\n",
      "2018-06-15 15:19:12 EST | INFO     | automl_app.app.AlphaBoosting                 | __init__             | #93  | generate todo list\n",
      "2018-06-15 15:19:12 EST | INFO     | automl_app.app.AlphaBoosting                 | __init__             | #109 | feature engineering\n",
      "2018-06-15 15:19:13 EST | DEBUG    | automl_libs.feature_engineering              | count                | #65  | feature generated: count__Month_DayofMonth\n",
      "2018-06-15 15:19:14 EST | DEBUG    | automl_libs.feature_engineering              | count                | #65  | feature generated: count__Month_DayOfWeek\n",
      "2018-06-15 15:19:16 EST | DEBUG    | automl_libs.feature_engineering              | count                | #65  | feature generated: count__DayofMonth_DayOfWeek\n",
      "2018-06-15 15:19:17 EST | DEBUG    | automl_libs.feature_engineering              | count                | #65  | feature generated: count__Month_DayofMonth_DayOfWeek\n",
      "2018-06-15 15:19:17 EST | INFO     | automl_app.app.AlphaBoosting                 | __init__             | #113 | validation\n",
      "2018-06-15 15:19:19 EST | INFO     | automl_app.app.AlphaBoosting                 | __init__             | #117 | concat test\n",
      "2018-06-15 15:19:19 EST | INFO     | automl_app.app.AlphaBoosting                 | __init__             | #121 | grid search\n",
      "/home/kai/anaconda3/lib/python3.6/site-packages/lightgbm/engine.py:390: UserWarning: Found `num_rounds` in params. Will use it instead of argument\n",
      "  warnings.warn(\"Found `{}` in params. Will use it instead of argument\".format(alias))\n",
      "/home/kai/anaconda3/lib/python3.6/site-packages/lightgbm/engine.py:395: UserWarning: Found `early_stopping_round` in params. Will use it instead of argument\n",
      "  warnings.warn(\"Found `{}` in params. Will use it instead of argument\".format(alias))\n",
      "2018-06-15 15:19:26 EST | DEBUG    | automl_libs.grid_search                      | lgb_grid_search      | #73  | [do_preds] is True, generating predictions ...\n",
      "2018-06-15 15:19:26 EST | DEBUG    | automl_libs.grid_search                      | lgb_grid_search      | #75  | Retrain model using cv params and all data...\n",
      "/home/kai/anaconda3/lib/python3.6/site-packages/lightgbm/basic.py:1027: UserWarning: Using categorical_feature in Dataset.\n",
      "  warnings.warn('Using categorical_feature in Dataset.')\n",
      "/home/kai/anaconda3/lib/python3.6/site-packages/lightgbm/basic.py:668: UserWarning: categorical_feature in param dict is overrided.\n",
      "  warnings.warn('categorical_feature in param dict is overrided.')\n"
     ]
    },
    {
     "name": "stdout",
     "output_type": "stream",
     "text": [
      "[1]\ttraining's auc: 0.731444\n",
      "[2]\ttraining's auc: 0.73494\n",
      "[3]\ttraining's auc: 0.742201\n",
      "[4]\ttraining's auc: 0.74116\n",
      "[5]\ttraining's auc: 0.7478\n",
      "[6]\ttraining's auc: 0.750398\n"
     ]
    },
    {
     "name": "stderr",
     "output_type": "stream",
     "text": [
      "2018-06-15 15:19:27 EST | DEBUG    | automl_libs.grid_search                      | lgb_grid_search      | #79  | Predicting...\n"
     ]
    },
    {
     "name": "stdout",
     "output_type": "stream",
     "text": [
      "[7]\ttraining's auc: 0.752444\n",
      "[8]\ttraining's auc: 0.753185\n"
     ]
    },
    {
     "name": "stderr",
     "output_type": "stream",
     "text": [
      "2018-06-15 15:19:27 EST | DEBUG    | automl_libs.grid_search                      | lgb_grid_search      | #84  | Predictions(1529090360) saved in ./output/gs_saved_preds/.\n",
      "2018-06-15 15:19:27 EST | DEBUG    | automl_libs.grid_search                      | lgb_grid_search      | #97  | ./output/project1_grid_search.csv created\n",
      "2018-06-15 15:19:33 EST | DEBUG    | automl_libs.grid_search                      | lgb_grid_search      | #73  | [do_preds] is True, generating predictions ...\n",
      "2018-06-15 15:19:33 EST | DEBUG    | automl_libs.grid_search                      | lgb_grid_search      | #75  | Retrain model using cv params and all data...\n"
     ]
    },
    {
     "name": "stdout",
     "output_type": "stream",
     "text": [
      "[1]\ttraining's auc: 0.601307\n",
      "[2]\ttraining's auc: 0.627569\n",
      "[3]\ttraining's auc: 0.726956\n",
      "[4]\ttraining's auc: 0.742045\n",
      "[5]\ttraining's auc: 0.743037\n"
     ]
    },
    {
     "name": "stderr",
     "output_type": "stream",
     "text": [
      "2018-06-15 15:19:34 EST | DEBUG    | automl_libs.grid_search                      | lgb_grid_search      | #79  | Predicting...\n",
      "2018-06-15 15:19:34 EST | DEBUG    | automl_libs.grid_search                      | lgb_grid_search      | #84  | Predictions(1529090368) saved in ./output/gs_saved_preds/.\n",
      "2018-06-15 15:19:34 EST | DEBUG    | automl_libs.grid_search                      | lgb_grid_search      | #102 | ./output/project1_grid_search.csv updated\n"
     ]
    },
    {
     "name": "stdout",
     "output_type": "stream",
     "text": [
      "[6]\ttraining's auc: 0.742437\n",
      "[7]\ttraining's auc: 0.744623\n"
     ]
    }
   ],
   "source": [
    "from automl_app.app import AlphaBoosting\n",
    "\n",
    "automl_config_file = project_path + 'automl_config.json'\n",
    "run_record_file_name = project_path + 'run_record.json' # don't created this file\n",
    "b = AlphaBoosting(automl_config_file, features_to_gen)"
   ]
  },
  {
   "cell_type": "code",
   "execution_count": null,
   "metadata": {
    "collapsed": true
   },
   "outputs": [],
   "source": []
  }
 ],
 "metadata": {
  "kernelspec": {
   "display_name": "Python 3",
   "language": "python",
   "name": "python3"
  },
  "language_info": {
   "codemirror_mode": {
    "name": "ipython",
    "version": 3
   },
   "file_extension": ".py",
   "mimetype": "text/x-python",
   "name": "python",
   "nbconvert_exporter": "python",
   "pygments_lexer": "ipython3",
   "version": "3.6.3"
  },
  "varInspector": {
   "cols": {
    "lenName": 16,
    "lenType": 16,
    "lenVar": 40
   },
   "kernels_config": {
    "python": {
     "delete_cmd_postfix": "",
     "delete_cmd_prefix": "del ",
     "library": "var_list.py",
     "varRefreshCmd": "print(var_dic_list())"
    },
    "r": {
     "delete_cmd_postfix": ") ",
     "delete_cmd_prefix": "rm(",
     "library": "var_list.r",
     "varRefreshCmd": "cat(var_dic_list()) "
    }
   },
   "types_to_exclude": [
    "module",
    "function",
    "builtin_function_or_method",
    "instance",
    "_Feature"
   ],
   "window_display": false
  }
 },
 "nbformat": 4,
 "nbformat_minor": 2
}
