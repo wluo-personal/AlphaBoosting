{
 "cells": [
  {
   "cell_type": "code",
   "execution_count": 1,
   "metadata": {
    "ExecuteTime": {
     "end_time": "2018-06-18T17:06:07.275636Z",
     "start_time": "2018-06-18T17:06:07.264474Z"
    },
    "collapsed": true
   },
   "outputs": [],
   "source": [
    "import os\n",
    "import sys\n",
    "#nb_dir = os.path.split(os.getcwd())[0]\n",
    "#if nb_dir not in sys.path:\n",
    "#    sys.path.append(nb_dir)\n",
    "    \n",
    "autolib_dir = '/home/kai/data/shiyi/AlphaBoosting/automl'\n",
    "if autolib_dir not in sys.path:\n",
    "    sys.path.append(autolib_dir)\n"
   ]
  },
  {
   "cell_type": "code",
   "execution_count": 2,
   "metadata": {
    "ExecuteTime": {
     "end_time": "2018-06-18T17:06:07.293936Z",
     "start_time": "2018-06-18T17:06:07.278674Z"
    }
   },
   "outputs": [
    {
     "data": {
      "text/plain": [
       "['',\n",
       " '/home/kai/anaconda3/lib/python36.zip',\n",
       " '/home/kai/anaconda3/lib/python3.6',\n",
       " '/home/kai/anaconda3/lib/python3.6/lib-dynload',\n",
       " '/home/kai/anaconda3/lib/python3.6/site-packages',\n",
       " '/home/kai/anaconda3/lib/python3.6/site-packages/xgboost-0.7-py3.6.egg',\n",
       " '/home/kai/anaconda3/lib/python3.6/site-packages/duckling-1.8.0-py3.6.egg',\n",
       " '/home/kai/anaconda3/lib/python3.6/site-packages/JPype1-0.6.3-py3.6-linux-x86_64.egg',\n",
       " '/home/kai/anaconda3/lib/python3.6/site-packages/IPython/extensions',\n",
       " '/home/kai/.ipython',\n",
       " '/home/kai/data/shiyi/AlphaBoosting/automl']"
      ]
     },
     "execution_count": 2,
     "metadata": {},
     "output_type": "execute_result"
    }
   ],
   "source": [
    "sys.path"
   ]
  },
  {
   "cell_type": "code",
   "execution_count": 3,
   "metadata": {
    "ExecuteTime": {
     "end_time": "2018-06-18T17:06:07.312391Z",
     "start_time": "2018-06-18T17:06:07.296065Z"
    },
    "collapsed": true
   },
   "outputs": [],
   "source": [
    "%load_ext autoreload"
   ]
  },
  {
   "cell_type": "code",
   "execution_count": 4,
   "metadata": {
    "ExecuteTime": {
     "end_time": "2018-06-18T17:06:07.316909Z",
     "start_time": "2018-06-18T17:06:07.314370Z"
    },
    "collapsed": true
   },
   "outputs": [],
   "source": [
    "%autoreload 2"
   ]
  },
  {
   "cell_type": "code",
   "execution_count": 5,
   "metadata": {
    "ExecuteTime": {
     "end_time": "2018-06-18T17:06:07.608204Z",
     "start_time": "2018-06-18T17:06:07.318573Z"
    },
    "collapsed": true
   },
   "outputs": [],
   "source": [
    "from automl_libs import feature_engineering as fe\n",
    "from automl_libs import encoding, kernels "
   ]
  },
  {
   "cell_type": "code",
   "execution_count": 6,
   "metadata": {
    "ExecuteTime": {
     "end_time": "2018-06-18T17:06:07.622901Z",
     "start_time": "2018-06-18T17:06:07.609920Z"
    },
    "collapsed": true
   },
   "outputs": [],
   "source": [
    "# params\n",
    "#param = {'trainLen': self.train_len, 'splitCol': 'a', 'col': self.label, 'coefficient': 10, 'n': 2, 'fillna': 22}\n",
    "# feature_engineering_dict.append({'params': params, 'function': 'count', 'feature_cols': ['a','b']})\n",
    "# feature_engineering_dict.append({'params': params, 'function': 'unique_count', 'feature_cols': ['a','b']})\n",
    "# feature_engineering_dict.append({'params': params, 'function': 'cumulative_count', 'feature_cols': ['a','b']})\n",
    "# feature_engineering_dict.append({'params': params, 'function': 'reverse_cumulative_count', 'feature_cols': ['a','b']})\n",
    "# feature_engineering_dict.append({'params': params, 'function': 'variance', 'feature_cols': ['a','n']})\n",
    "# feature_engineering_dict.append({'params': params, 'function': 'count_std_over_mean', 'feature_cols': ['a','b']})\n",
    "\n",
    "\n",
    "# feature_engineering_dict.append({'params': params, 'function': 'time_to_n_next', 'feature_cols': ['a','t']})\n",
    "# feature_engineering_dict.append({'params': params, 'function': 'count_in_previous_n_time_unit', 'feature_cols': ['a','t']})\n",
    "# feature_engineering_dict.append({'params': params, 'function': 'count_in_next_n_time_unit', 'feature_cols': ['a','t']})\n",
    "\n",
    "# feature_engineering_dict.append({'params': params, 'function': 'woe', 'feature_cols': ['a']})\n",
    "# feature_engineering_dict.append({'params': params, 'function': 'chi_square', 'feature_cols': ['a']})\n",
    "# feature_engineering_dict.append({'params': params, 'function': 'mean', 'feature_cols': ['a']})"
   ]
  },
  {
   "cell_type": "code",
   "execution_count": 7,
   "metadata": {
    "ExecuteTime": {
     "end_time": "2018-06-18T17:06:07.637059Z",
     "start_time": "2018-06-18T17:06:07.624607Z"
    },
    "collapsed": true
   },
   "outputs": [],
   "source": [
    "categorical_features = ['user', 'movie', 'age', 'gender']#, 'occupation', 'zip', 'released']"
   ]
  },
  {
   "cell_type": "code",
   "execution_count": 8,
   "metadata": {
    "ExecuteTime": {
     "end_time": "2018-06-18T17:06:07.662825Z",
     "start_time": "2018-06-18T17:06:07.638595Z"
    }
   },
   "outputs": [
    {
     "data": {
      "text/plain": [
       "[{'feature_cols': ['user', 'movie'],\n",
       "  'function': <function automl_libs.feature_engineering.count>,\n",
       "  'params': {}},\n",
       " {'feature_cols': ['user', 'age'],\n",
       "  'function': <function automl_libs.feature_engineering.count>,\n",
       "  'params': {}},\n",
       " {'feature_cols': ['user', 'gender'],\n",
       "  'function': <function automl_libs.feature_engineering.count>,\n",
       "  'params': {}},\n",
       " {'feature_cols': ['movie', 'age'],\n",
       "  'function': <function automl_libs.feature_engineering.count>,\n",
       "  'params': {}},\n",
       " {'feature_cols': ['movie', 'gender'],\n",
       "  'function': <function automl_libs.feature_engineering.count>,\n",
       "  'params': {}},\n",
       " {'feature_cols': ['age', 'gender'],\n",
       "  'function': <function automl_libs.feature_engineering.count>,\n",
       "  'params': {}},\n",
       " {'feature_cols': ['user', 'movie', 'age'],\n",
       "  'function': <function automl_libs.feature_engineering.count>,\n",
       "  'params': {}},\n",
       " {'feature_cols': ['user', 'movie', 'gender'],\n",
       "  'function': <function automl_libs.feature_engineering.count>,\n",
       "  'params': {}},\n",
       " {'feature_cols': ['user', 'age', 'gender'],\n",
       "  'function': <function automl_libs.feature_engineering.count>,\n",
       "  'params': {}},\n",
       " {'feature_cols': ['movie', 'age', 'gender'],\n",
       "  'function': <function automl_libs.feature_engineering.count>,\n",
       "  'params': {}},\n",
       " {'feature_cols': ['user', 'movie', 'age', 'gender'],\n",
       "  'function': <function automl_libs.feature_engineering.count>,\n",
       "  'params': {}}]"
      ]
     },
     "execution_count": 8,
     "metadata": {},
     "output_type": "execute_result"
    }
   ],
   "source": [
    "import itertools\n",
    "#params = {'split_col': 't', 'coefficient': 10, 'n': 2, 'fillna': 22}\n",
    "def get_features_to_gen(function_list):\n",
    "    features_to_gen = []\n",
    "    for function in function_list:\n",
    "        for i in range(2, len(categorical_features)+1):\n",
    "            for combine in itertools.combinations(categorical_features, i):\n",
    "                if function.__name__ == 'count_std_over_mean':\n",
    "                    features_to_gen.append({'params': {'coefficient': 10}, 'function': function, 'feature_cols': list(combine)})\n",
    "                else:\n",
    "                    features_to_gen.append({'params': {}, 'function': function, 'feature_cols': list(combine)})\n",
    "                \n",
    "    return features_to_gen\n",
    "\n",
    "features_to_gen = get_features_to_gen([fe.count])#, fe.unique_count, fe.cumulative_count,\n",
    "                                     #fe.reverse_cumulative_count, fe.variance, fe.count_std_over_mean])\n",
    "# features_to_gen = get_features_to_gen([])#fe.count])\n",
    "\n",
    "features_to_gen"
   ]
  },
  {
   "cell_type": "code",
   "execution_count": 9,
   "metadata": {
    "ExecuteTime": {
     "end_time": "2018-06-18T17:06:07.676008Z",
     "start_time": "2018-06-18T17:06:07.664228Z"
    }
   },
   "outputs": [
    {
     "data": {
      "text/plain": [
       "11"
      ]
     },
     "execution_count": 9,
     "metadata": {},
     "output_type": "execute_result"
    }
   ],
   "source": [
    "len(features_to_gen)"
   ]
  },
  {
   "cell_type": "code",
   "execution_count": 10,
   "metadata": {
    "ExecuteTime": {
     "end_time": "2018-06-18T17:06:07.690185Z",
     "start_time": "2018-06-18T17:06:07.677513Z"
    },
    "collapsed": true
   },
   "outputs": [],
   "source": [
    "project_path = '/home/kai/data/shiyi/AlphaBoosting/automl/automl_app/project2/' "
   ]
  },
  {
   "cell_type": "code",
   "execution_count": 11,
   "metadata": {
    "ExecuteTime": {
     "end_time": "2018-06-18T17:06:07.705207Z",
     "start_time": "2018-06-18T17:06:07.692197Z"
    },
    "collapsed": true
   },
   "outputs": [],
   "source": [
    "from automl_app import logger_config\n",
    "\n",
    "logger_config.config(project_path+'log_project2.log')"
   ]
  },
  {
   "cell_type": "code",
   "execution_count": 12,
   "metadata": {
    "ExecuteTime": {
     "end_time": "2018-06-18T17:06:07.726650Z",
     "start_time": "2018-06-18T17:06:07.706722Z"
    },
    "collapsed": true
   },
   "outputs": [],
   "source": [
    "def lgb_gs_params_gen():\n",
    "    import time\n",
    "    import numpy as np\n",
    "    seed = int(time.time()* 1000000) % 45234634\n",
    "    np.random.seed(seed)\n",
    "    params = {    \n",
    "        'objective': 'binary',\n",
    "        'boosting': 'gbdt',\n",
    "        'num_rounds': 20,\n",
    "        'learning_rate': np.random.choice([0.1,0.03]),#0.001]),\n",
    "        'num_leaves': np.random.choice([15,31,61,127]),\n",
    "        'num_threads': 8, # best speed: set to number of real cpu cores, which is vCPU/2\n",
    "        'max_depth': -1, # no limit. This is used to deal with over-fitting when #data is small.\n",
    "        'min_data_in_leaf': np.random.randint(20,50),  #minimal number of data in one leaf. \n",
    "        'feature_fraction': np.random.randint(4,11)/10,\n",
    "        'feature_fraction_seed': seed,\n",
    "        'early_stopping_round':70,\n",
    "        'bagging_freq': 1, #0 means disable bagging. k: perform bagging at every k iteration\n",
    "        'bagging_fraction': np.random.randint(4,11)/10, #Randomly select part of data \n",
    "        'bagging_seed': seed,\n",
    "        'scale_pos_weight': 2,\n",
    "        'metric' : 'auc' \n",
    "    }\n",
    "    return params, seed"
   ]
  },
  {
   "cell_type": "code",
   "execution_count": 13,
   "metadata": {
    "ExecuteTime": {
     "end_time": "2018-06-18T17:06:07.740975Z",
     "start_time": "2018-06-18T17:06:07.728280Z"
    }
   },
   "outputs": [
    {
     "data": {
      "text/plain": [
       "({'bagging_fraction': 0.6,\n",
       "  'bagging_freq': 1,\n",
       "  'bagging_seed': 27123012,\n",
       "  'boosting': 'gbdt',\n",
       "  'early_stopping_round': 70,\n",
       "  'feature_fraction': 1.0,\n",
       "  'feature_fraction_seed': 27123012,\n",
       "  'learning_rate': 0.029999999999999999,\n",
       "  'max_depth': -1,\n",
       "  'metric': 'auc',\n",
       "  'min_data_in_leaf': 40,\n",
       "  'num_leaves': 31,\n",
       "  'num_rounds': 20,\n",
       "  'num_threads': 8,\n",
       "  'objective': 'binary',\n",
       "  'scale_pos_weight': 2},\n",
       " 27123012)"
      ]
     },
     "execution_count": 13,
     "metadata": {},
     "output_type": "execute_result"
    }
   ],
   "source": [
    "lgb_gs_params_gen()"
   ]
  },
  {
   "cell_type": "code",
   "execution_count": null,
   "metadata": {
    "ExecuteTime": {
     "start_time": "2018-06-18T17:07:01.537Z"
    },
    "scrolled": true
   },
   "outputs": [
    {
     "name": "stdout",
     "output_type": "stream",
     "text": [
      "> /home/kai/data/shiyi/AlphaBoosting/automl/automl_app/app.py(129)_read_data()\n",
      "-> self.df = pd.concat([self.train, self.test], ignore_index=True)\n"
     ]
    }
   ],
   "source": [
    "from automl_app.app import AlphaBoosting\n",
    "\n",
    "automl_config_file = project_path + 'automl_config.json'\n",
    "run_record_file_name = project_path + 'run_record.json' # don't created this file\n",
    "AlphaBoosting(automl_config_file, features_to_gen, lgb_gs_params_gen)"
   ]
  },
  {
   "cell_type": "code",
   "execution_count": null,
   "metadata": {
    "ExecuteTime": {
     "end_time": "2018-06-18T17:06:08.218886Z",
     "start_time": "2018-06-18T17:06:07.289Z"
    }
   },
   "outputs": [],
   "source": [
    "getattr(np.random, 'randint')"
   ]
  },
  {
   "cell_type": "code",
   "execution_count": null,
   "metadata": {
    "ExecuteTime": {
     "end_time": "2018-06-18T17:06:08.219599Z",
     "start_time": "2018-06-18T17:06:07.291Z"
    }
   },
   "outputs": [],
   "source": [
    "getattr(fe, 'count')"
   ]
  },
  {
   "cell_type": "code",
   "execution_count": null,
   "metadata": {
    "collapsed": true
   },
   "outputs": [],
   "source": []
  }
 ],
 "metadata": {
  "kernelspec": {
   "display_name": "Python 3",
   "language": "python",
   "name": "python3"
  },
  "language_info": {
   "codemirror_mode": {
    "name": "ipython",
    "version": 3
   },
   "file_extension": ".py",
   "mimetype": "text/x-python",
   "name": "python",
   "nbconvert_exporter": "python",
   "pygments_lexer": "ipython3",
   "version": "3.6.3"
  },
  "varInspector": {
   "cols": {
    "lenName": 16,
    "lenType": 16,
    "lenVar": 40
   },
   "kernels_config": {
    "python": {
     "delete_cmd_postfix": "",
     "delete_cmd_prefix": "del ",
     "library": "var_list.py",
     "varRefreshCmd": "print(var_dic_list())"
    },
    "r": {
     "delete_cmd_postfix": ") ",
     "delete_cmd_prefix": "rm(",
     "library": "var_list.r",
     "varRefreshCmd": "cat(var_dic_list()) "
    }
   },
   "types_to_exclude": [
    "module",
    "function",
    "builtin_function_or_method",
    "instance",
    "_Feature"
   ],
   "window_display": false
  }
 },
 "nbformat": 4,
 "nbformat_minor": 2
}
