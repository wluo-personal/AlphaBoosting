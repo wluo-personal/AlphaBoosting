{
 "cells": [
  {
   "cell_type": "code",
   "execution_count": 1,
   "metadata": {
    "ExecuteTime": {
     "end_time": "2018-07-03T18:33:59.495006Z",
     "start_time": "2018-07-03T18:33:59.472454Z"
    }
   },
   "outputs": [
    {
     "name": "stdout",
     "output_type": "stream",
     "text": [
      "/home/kai/data/haoyan/AlphaBoosting/automl/automl_app\n",
      "['', '/home/kai/anaconda3/envs/tf_gpu/lib/python35.zip', '/home/kai/anaconda3/envs/tf_gpu/lib/python3.5', '/home/kai/anaconda3/envs/tf_gpu/lib/python3.5/plat-linux', '/home/kai/anaconda3/envs/tf_gpu/lib/python3.5/lib-dynload', '/home/kai/.local/lib/python3.5/site-packages', '/home/kai/anaconda3/envs/tf_gpu/lib/python3.5/site-packages', '/home/kai/anaconda3/envs/tf_gpu/lib/python3.5/site-packages/IPython/extensions', '/home/kai/.ipython', '/home/kai/data/haoyan/AlphaBoosting/automl']\n"
     ]
    }
   ],
   "source": [
    "import os\n",
    "import sys\n",
    "nb_dir = os.path.split(os.getcwd())[0]\n",
    "print(nb_dir)\n",
    "#if nb_dir not in sys.path:\n",
    "#    sys.path.append(nb_dir)\n",
    "    \n",
    "# autolib_dir = '/home/kai/data/shiyi/AlphaBoosting/automl'\n",
    "autolib_dir = '/'.join(nb_dir.split('/')[:-1])\n",
    "if autolib_dir not in sys.path:\n",
    "    sys.path.append(autolib_dir)\n",
    "\n",
    "print(sys.path)\n",
    "\n",
    "%load_ext autoreload\n",
    "%autoreload 2"
   ]
  },
  {
   "cell_type": "code",
   "execution_count": 2,
   "metadata": {
    "ExecuteTime": {
     "end_time": "2018-07-03T18:34:00.550495Z",
     "start_time": "2018-07-03T18:33:59.496778Z"
    }
   },
   "outputs": [
    {
     "name": "stderr",
     "output_type": "stream",
     "text": [
      "/home/kai/anaconda3/envs/tf_gpu/lib/python3.5/site-packages/h5py/__init__.py:36: FutureWarning: Conversion of the second argument of issubdtype from `float` to `np.floating` is deprecated. In future, it will be treated as `np.float64 == np.dtype(float).type`.\n",
      "  from ._conv import register_converters as _register_converters\n",
      "Using TensorFlow backend.\n"
     ]
    }
   ],
   "source": [
    "from automl_libs import base_layer_utils, stacknet\n",
    "from automl_libs import feature_engineering as fe\n",
    "from automl_libs import encoding, kernels, nn_libs "
   ]
  },
  {
   "cell_type": "code",
   "execution_count": 3,
   "metadata": {
    "ExecuteTime": {
     "end_time": "2018-07-03T18:34:00.569748Z",
     "start_time": "2018-07-03T18:34:00.552636Z"
    }
   },
   "outputs": [],
   "source": [
    "categorical_features = ['Month', 'DayofMonth', 'DayOfWeek', 'DepTime', 'UniqueCarrier', 'Origin', 'Dest', 'Distance']"
   ]
  },
  {
   "cell_type": "code",
   "execution_count": 4,
   "metadata": {
    "ExecuteTime": {
     "end_time": "2018-07-03T18:34:00.601517Z",
     "start_time": "2018-07-03T18:34:00.571368Z"
    }
   },
   "outputs": [
    {
     "data": {
      "text/plain": [
       "[{'feature_cols': ['Month', 'DayofMonth'],\n",
       "  'function': <function automl_libs.feature_engineering.count(df, cols, dummy_col, generated_feature_name, params=None)>,\n",
       "  'params': {}},\n",
       " {'feature_cols': ['Month', 'DayOfWeek'],\n",
       "  'function': <function automl_libs.feature_engineering.count(df, cols, dummy_col, generated_feature_name, params=None)>,\n",
       "  'params': {}},\n",
       " {'feature_cols': ['Month', 'DepTime'],\n",
       "  'function': <function automl_libs.feature_engineering.count(df, cols, dummy_col, generated_feature_name, params=None)>,\n",
       "  'params': {}},\n",
       " {'feature_cols': ['Month', 'UniqueCarrier'],\n",
       "  'function': <function automl_libs.feature_engineering.count(df, cols, dummy_col, generated_feature_name, params=None)>,\n",
       "  'params': {}},\n",
       " {'feature_cols': ['Month', 'Origin'],\n",
       "  'function': <function automl_libs.feature_engineering.count(df, cols, dummy_col, generated_feature_name, params=None)>,\n",
       "  'params': {}},\n",
       " {'feature_cols': ['Month', 'Dest'],\n",
       "  'function': <function automl_libs.feature_engineering.count(df, cols, dummy_col, generated_feature_name, params=None)>,\n",
       "  'params': {}},\n",
       " {'feature_cols': ['Month', 'Distance'],\n",
       "  'function': <function automl_libs.feature_engineering.count(df, cols, dummy_col, generated_feature_name, params=None)>,\n",
       "  'params': {}},\n",
       " {'feature_cols': ['DayofMonth', 'DayOfWeek'],\n",
       "  'function': <function automl_libs.feature_engineering.count(df, cols, dummy_col, generated_feature_name, params=None)>,\n",
       "  'params': {}},\n",
       " {'feature_cols': ['DayofMonth', 'DepTime'],\n",
       "  'function': <function automl_libs.feature_engineering.count(df, cols, dummy_col, generated_feature_name, params=None)>,\n",
       "  'params': {}},\n",
       " {'feature_cols': ['DayofMonth', 'UniqueCarrier'],\n",
       "  'function': <function automl_libs.feature_engineering.count(df, cols, dummy_col, generated_feature_name, params=None)>,\n",
       "  'params': {}},\n",
       " {'feature_cols': ['DayofMonth', 'Origin'],\n",
       "  'function': <function automl_libs.feature_engineering.count(df, cols, dummy_col, generated_feature_name, params=None)>,\n",
       "  'params': {}},\n",
       " {'feature_cols': ['DayofMonth', 'Dest'],\n",
       "  'function': <function automl_libs.feature_engineering.count(df, cols, dummy_col, generated_feature_name, params=None)>,\n",
       "  'params': {}},\n",
       " {'feature_cols': ['DayofMonth', 'Distance'],\n",
       "  'function': <function automl_libs.feature_engineering.count(df, cols, dummy_col, generated_feature_name, params=None)>,\n",
       "  'params': {}},\n",
       " {'feature_cols': ['DayOfWeek', 'DepTime'],\n",
       "  'function': <function automl_libs.feature_engineering.count(df, cols, dummy_col, generated_feature_name, params=None)>,\n",
       "  'params': {}},\n",
       " {'feature_cols': ['DayOfWeek', 'UniqueCarrier'],\n",
       "  'function': <function automl_libs.feature_engineering.count(df, cols, dummy_col, generated_feature_name, params=None)>,\n",
       "  'params': {}},\n",
       " {'feature_cols': ['DayOfWeek', 'Origin'],\n",
       "  'function': <function automl_libs.feature_engineering.count(df, cols, dummy_col, generated_feature_name, params=None)>,\n",
       "  'params': {}},\n",
       " {'feature_cols': ['DayOfWeek', 'Dest'],\n",
       "  'function': <function automl_libs.feature_engineering.count(df, cols, dummy_col, generated_feature_name, params=None)>,\n",
       "  'params': {}},\n",
       " {'feature_cols': ['DayOfWeek', 'Distance'],\n",
       "  'function': <function automl_libs.feature_engineering.count(df, cols, dummy_col, generated_feature_name, params=None)>,\n",
       "  'params': {}},\n",
       " {'feature_cols': ['DepTime', 'UniqueCarrier'],\n",
       "  'function': <function automl_libs.feature_engineering.count(df, cols, dummy_col, generated_feature_name, params=None)>,\n",
       "  'params': {}},\n",
       " {'feature_cols': ['DepTime', 'Origin'],\n",
       "  'function': <function automl_libs.feature_engineering.count(df, cols, dummy_col, generated_feature_name, params=None)>,\n",
       "  'params': {}},\n",
       " {'feature_cols': ['DepTime', 'Dest'],\n",
       "  'function': <function automl_libs.feature_engineering.count(df, cols, dummy_col, generated_feature_name, params=None)>,\n",
       "  'params': {}},\n",
       " {'feature_cols': ['DepTime', 'Distance'],\n",
       "  'function': <function automl_libs.feature_engineering.count(df, cols, dummy_col, generated_feature_name, params=None)>,\n",
       "  'params': {}},\n",
       " {'feature_cols': ['UniqueCarrier', 'Origin'],\n",
       "  'function': <function automl_libs.feature_engineering.count(df, cols, dummy_col, generated_feature_name, params=None)>,\n",
       "  'params': {}},\n",
       " {'feature_cols': ['UniqueCarrier', 'Dest'],\n",
       "  'function': <function automl_libs.feature_engineering.count(df, cols, dummy_col, generated_feature_name, params=None)>,\n",
       "  'params': {}},\n",
       " {'feature_cols': ['UniqueCarrier', 'Distance'],\n",
       "  'function': <function automl_libs.feature_engineering.count(df, cols, dummy_col, generated_feature_name, params=None)>,\n",
       "  'params': {}},\n",
       " {'feature_cols': ['Origin', 'Dest'],\n",
       "  'function': <function automl_libs.feature_engineering.count(df, cols, dummy_col, generated_feature_name, params=None)>,\n",
       "  'params': {}},\n",
       " {'feature_cols': ['Origin', 'Distance'],\n",
       "  'function': <function automl_libs.feature_engineering.count(df, cols, dummy_col, generated_feature_name, params=None)>,\n",
       "  'params': {}},\n",
       " {'feature_cols': ['Dest', 'Distance'],\n",
       "  'function': <function automl_libs.feature_engineering.count(df, cols, dummy_col, generated_feature_name, params=None)>,\n",
       "  'params': {}}]"
      ]
     },
     "execution_count": 4,
     "metadata": {},
     "output_type": "execute_result"
    }
   ],
   "source": [
    "import itertools\n",
    "#params = {'split_col': 't', 'coefficient': 10, 'n': 2, 'fillna': 22}\n",
    "def get_features_to_gen(function_list, low, high):\n",
    "    features_to_gen = []\n",
    "    for function in function_list:\n",
    "        for i in range(low, high+1):\n",
    "            for combine in itertools.combinations(categorical_features, i):\n",
    "                if function.__name__ == 'count_std_over_mean':\n",
    "                    features_to_gen.append({'params': {'coefficient': 10}, 'function': function, 'feature_cols': list(combine)})\n",
    "                else:\n",
    "                    features_to_gen.append({'params': {}, 'function': function, 'feature_cols': list(combine)})\n",
    "                \n",
    "    return features_to_gen\n",
    "\n",
    "# features_to_gen = get_features_to_gen([fe.count, fe.unique_count, \n",
    "#                                        fe.cumulative_count, \n",
    "#                                        fe.reverse_cumulative_count, \n",
    "#                                        fe.variance, fe.count_std_over_mean], \n",
    "#                                       2, 2)# len(categorical_features))\n",
    "# features_to_gen = get_features_to_gen([fe.count, fe.unique_count, fe.cumulative_count])\n",
    "features_to_gen = get_features_to_gen([fe.count], 2, 2)#len(categorical_features))\n",
    "\n",
    "features_to_gen"
   ]
  },
  {
   "cell_type": "code",
   "execution_count": 5,
   "metadata": {
    "ExecuteTime": {
     "end_time": "2018-07-03T16:19:40.805859Z",
     "start_time": "2018-07-03T16:19:40.789734Z"
    }
   },
   "outputs": [
    {
     "data": {
      "text/plain": [
       "28"
      ]
     },
     "execution_count": 5,
     "metadata": {},
     "output_type": "execute_result"
    }
   ],
   "source": [
    "len(features_to_gen)"
   ]
  },
  {
   "cell_type": "code",
   "execution_count": 6,
   "metadata": {
    "ExecuteTime": {
     "end_time": "2018-07-03T16:19:40.822691Z",
     "start_time": "2018-07-03T16:19:40.807081Z"
    }
   },
   "outputs": [],
   "source": [
    "project_path = './' "
   ]
  },
  {
   "cell_type": "code",
   "execution_count": 7,
   "metadata": {
    "ExecuteTime": {
     "end_time": "2018-07-03T16:19:40.841610Z",
     "start_time": "2018-07-03T16:19:40.823893Z"
    }
   },
   "outputs": [],
   "source": [
    "from automl_app import logger_config\n",
    "import logging\n",
    "logger_config.config(project_path+'log_project2.log', file_loglevel=logging.INFO)"
   ]
  },
  {
   "cell_type": "code",
   "execution_count": 8,
   "metadata": {
    "ExecuteTime": {
     "end_time": "2018-07-03T18:34:00.676743Z",
     "start_time": "2018-07-03T18:34:00.659460Z"
    }
   },
   "outputs": [
    {
     "name": "stdout",
     "output_type": "stream",
     "text": [
      "0.6733642121073223\n"
     ]
    }
   ],
   "source": [
    "import numpy as np\n",
    "print(np.random.rand())"
   ]
  },
  {
   "cell_type": "code",
   "execution_count": 9,
   "metadata": {
    "ExecuteTime": {
     "end_time": "2018-07-03T18:34:00.704689Z",
     "start_time": "2018-07-03T18:34:00.678467Z"
    }
   },
   "outputs": [],
   "source": [
    "def gs_params_gen(model='lgb'):\n",
    "    import time\n",
    "    import numpy as np\n",
    "    seed = int(time.time()* 1000000) % 45234634\n",
    "    np.random.seed(seed)\n",
    "    if model == 'svc':\n",
    "        params = {\n",
    "            'C': np.random.rand(),\n",
    "            'metric': 'roc_auc'\n",
    "        }\n",
    "    elif model == 'logreg':\n",
    "        params = {\n",
    "            'penalty': np.random.choice(['l2']),\n",
    "            'dual': np.random.choice([True, False]),\n",
    "            'C': np.random.rand(),\n",
    "            'metric': 'roc_auc'\n",
    "        }\n",
    "    elif model == 'lgb':\n",
    "        params = {    \n",
    "            'objective': 'binary',\n",
    "            'boosting': 'gbdt',\n",
    "            'num_boost_round': 30, # ignored in params. extract it and put it in input arguments in train or cv explicitly\n",
    "                                   # seems to work fine as the upper limit when combined with early_stopping_round\n",
    "            'learning_rate': np.random.choice([0.1,0.03]),#0.001]),\n",
    "            'num_leaves': np.random.choice([15,31]),#,61,127]),\n",
    "            'num_threads': 8, # best speed: set to number of real cpu cores, which is vCPU/2\n",
    "            'max_depth': -1, # no limit. This is used to deal with over-fitting when #data is small.\n",
    "            'min_data_in_leaf': np.random.randint(20,50),  #minimal number of data in one leaf. \n",
    "            'feature_fraction': np.random.randint(9,11)/10,\n",
    "            'feature_fraction_seed': seed,\n",
    "            'early_stopping_round':10,\n",
    "            'bagging_freq': 1, #0 means disable bagging. k: perform bagging at every k iteration\n",
    "            'bagging_fraction': np.random.randint(4,11)/10, #Randomly select part of data \n",
    "            'bagging_seed': seed,\n",
    "            'scale_pos_weight': 1,\n",
    "            'metric': 'auc' \n",
    "        }\n",
    "    elif model == 'nn':\n",
    "        params = {\n",
    "            'nn_seed': int(time.time() * 1000000) % 45234634,\n",
    "            'ep_for_lr': 1,\n",
    "            'lr_init': 0.01,\n",
    "            'lr_fin': 0.005, # if == lr_init, then no lr decay\n",
    "            'batch_size': np.random.choice([32, 64, 128, 256, 512, 1024, 2048]),\n",
    "            \"pred_batch_size\": 50000,\n",
    "            'max_ep': 1,\n",
    "            'patience': 1,\n",
    "            'cat_emb_outdim': 50, # could be a constant or a dict (col name:embed out dim). e.g.:\n",
    "                                  # embed_outdim = [3, 3, 8, 8, 3]\n",
    "                                  # embed_outdim_dict = dict(zip(X_train.columns.values, embed_outdim))\n",
    "            'dense_units': 50,\n",
    "            'num_dense_n_layers': 1,\n",
    "            'drop_rate': 0.2,\n",
    "            'combined_dense_n_layers': 1,\n",
    "            'monitor': 'val_auc',  # or val_loss (MUST HAVE)\n",
    "            'mode': 'max'  # MUST HAVE\n",
    "        }\n",
    "    elif model == 'nn_layer2':\n",
    "        params = {\n",
    "            'nn_seed': int(time.time() * 1000000) % 45234634,\n",
    "            'ep_for_lr': 1,\n",
    "            'lr_init': 0.01,\n",
    "            'lr_fin': 0.01, # if == lr_init, then no lr decay\n",
    "            'batch_size': 128,\n",
    "            \"pred_batch_size\": 50000,\n",
    "            'max_ep': 1,\n",
    "            'patience': 1,\n",
    "            'cat_emb_outdim': 50, # could be a constant or a dict (col name:embed out dim). e.g.:\n",
    "                                  # embed_outdim = [3, 3, 8, 8, 3]\n",
    "                                  # embed_outdim_dict = dict(zip(X_train.columns.values, embed_outdim))\n",
    "            'dense_units': 50,\n",
    "            'num_dense_n_layers': 1,\n",
    "            'drop_rate': 0.2,\n",
    "            'combined_dense_n_layers': 1,\n",
    "            'monitor': 'val_auc',  # or val_loss (MUST HAVE)\n",
    "            'mode': 'max',  # MUST HAVE\n",
    "            'categorical_feature': []\n",
    "        }\n",
    "    return params, seed"
   ]
  },
  {
   "cell_type": "code",
   "execution_count": 10,
   "metadata": {
    "ExecuteTime": {
     "end_time": "2018-07-03T18:34:00.723898Z",
     "start_time": "2018-07-03T18:34:00.706104Z"
    }
   },
   "outputs": [
    {
     "data": {
      "text/plain": [
       "({'batch_size': 2048,\n",
       "  'cat_emb_outdim': 50,\n",
       "  'categorical_feature': [],\n",
       "  'combined_dense_n_layers': 1,\n",
       "  'dense_units': 50,\n",
       "  'drop_rate': 0.2,\n",
       "  'ep_for_lr': 1,\n",
       "  'lr_fin': 0.01,\n",
       "  'lr_init': 0.01,\n",
       "  'max_ep': 1,\n",
       "  'mode': 'max',\n",
       "  'monitor': 'val_auc',\n",
       "  'nn_seed': 35389693,\n",
       "  'num_dense_n_layers': 1,\n",
       "  'patience': 1,\n",
       "  'pred_batch_size': 50000},\n",
       " 35389685)"
      ]
     },
     "execution_count": 10,
     "metadata": {},
     "output_type": "execute_result"
    }
   ],
   "source": [
    "gs_params_gen('nn_layer2')"
   ]
  },
  {
   "cell_type": "code",
   "execution_count": null,
   "metadata": {
    "ExecuteTime": {
     "start_time": "2018-07-03T18:33:59.464Z"
    },
    "scrolled": false
   },
   "outputs": [
    {
     "name": "stderr",
     "output_type": "stream",
     "text": [
      "2018-07-03 14:34:00 | INFO    | automl_app.app.AlphaBoosting.__init__             | #22  | ==========NEW RUN==========\n",
      "/home/kai/data/haoyan/AlphaBoosting/automl/automl_app/app.py:139: FutureWarning: Sorting because non-concatenation axis is not aligned. A future version\n",
      "of pandas will change to not sort by default.\n",
      "\n",
      "To accept the future behavior, pass 'sort=False'.\n",
      "\n",
      "To retain the current behavior and silence the warning, pass 'sort=True'.\n",
      "\n",
      "  self.df = pd.concat([self.train, self.test], ignore_index=True)\n",
      "2018-07-03 14:34:00 | INFO    | automl_app.app.AlphaBoosting.__init__             | #65  | Run record file [./output/last_run_record.json] not found. Begin the first time run...\n",
      "2018-07-03 14:34:00 | INFO    | automl_app.app.AlphaBoosting.__init__             | #96  | generate todo list\n",
      "2018-07-03 14:34:00 | INFO    | automl_app.app.AlphaBoosting.__init__             | #112 | STAGE: FEATURE_ENGINEERING\n",
      "2018-07-03 14:34:00 | INFO    | automl_app.app.AlphaBoosting.__init__             | #116 | STAGE: VALIDATION_DOWNSAMPLING_GEN\n",
      "2018-07-03 14:34:00 | INFO    | automl_app.app.AlphaBoosting.__init__             | #120 | STAGE: CONCAT_DATA\n",
      "2018-07-03 14:34:00 | INFO    | automl_app.app.AlphaBoosting.__init__             | #124 | STAGE: GRID_SEARCH\n",
      "2018-07-03 14:34:00 | INFO    | automl_app.app.AlphaBoosting.__init__             | #128 | STAGE: STACKNET\n"
     ]
    },
    {
     "name": "stdout",
     "output_type": "stream",
     "text": [
      "> /home/kai/data/haoyan/AlphaBoosting/automl/automl_app/app.py(292)_stacknet()\n",
      "-> if not to_do_dict[self.Stage.STACKNET.name]:\n",
      "(Pdb) self.Stage.STACKNET.name\n",
      "'STACKNET'\n"
     ]
    }
   ],
   "source": [
    "from automl_app.app import AlphaBoosting\n",
    "\n",
    "automl_config_file = project_path + 'automl_config.json'\n",
    "run_record_file_name = project_path + 'last_run_record.json' # don't created this file\n",
    "AlphaBoosting(automl_config_file, features_to_gen, gs_params_gen)"
   ]
  }
 ],
 "metadata": {
  "kernelspec": {
   "display_name": "Python 3.5 (tf_gpu)",
   "language": "python",
   "name": "tf_gpu"
  },
  "language_info": {
   "codemirror_mode": {
    "name": "ipython",
    "version": 3
   },
   "file_extension": ".py",
   "mimetype": "text/x-python",
   "name": "python",
   "nbconvert_exporter": "python",
   "pygments_lexer": "ipython3",
   "version": "3.5.5"
  },
  "varInspector": {
   "cols": {
    "lenName": 16,
    "lenType": 16,
    "lenVar": 40
   },
   "kernels_config": {
    "python": {
     "delete_cmd_postfix": "",
     "delete_cmd_prefix": "del ",
     "library": "var_list.py",
     "varRefreshCmd": "print(var_dic_list())"
    },
    "r": {
     "delete_cmd_postfix": ") ",
     "delete_cmd_prefix": "rm(",
     "library": "var_list.r",
     "varRefreshCmd": "cat(var_dic_list()) "
    }
   },
   "types_to_exclude": [
    "module",
    "function",
    "builtin_function_or_method",
    "instance",
    "_Feature"
   ],
   "window_display": false
  }
 },
 "nbformat": 4,
 "nbformat_minor": 2
}
