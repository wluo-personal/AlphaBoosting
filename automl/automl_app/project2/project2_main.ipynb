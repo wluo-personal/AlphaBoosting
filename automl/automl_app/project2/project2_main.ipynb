{
 "cells": [
  {
   "cell_type": "code",
   "execution_count": 1,
   "metadata": {
    "ExecuteTime": {
     "end_time": "2018-07-02T19:24:28.457651Z",
     "start_time": "2018-07-02T19:24:28.435171Z"
    }
   },
   "outputs": [
    {
     "name": "stdout",
     "output_type": "stream",
     "text": [
      "['', '/home/kai/anaconda3/envs/tf_gpu/lib/python35.zip', '/home/kai/anaconda3/envs/tf_gpu/lib/python3.5', '/home/kai/anaconda3/envs/tf_gpu/lib/python3.5/plat-linux', '/home/kai/anaconda3/envs/tf_gpu/lib/python3.5/lib-dynload', '/home/kai/.local/lib/python3.5/site-packages', '/home/kai/anaconda3/envs/tf_gpu/lib/python3.5/site-packages', '/home/kai/anaconda3/envs/tf_gpu/lib/python3.5/site-packages/IPython/extensions', '/home/kai/.ipython', '/home/kai/data/shiyi/AlphaBoosting/automl']\n"
     ]
    }
   ],
   "source": [
    "import os\n",
    "import sys\n",
    "#nb_dir = os.path.split(os.getcwd())[0]\n",
    "#if nb_dir not in sys.path:\n",
    "#    sys.path.append(nb_dir)\n",
    "    \n",
    "autolib_dir = '/home/kai/data/shiyi/AlphaBoosting/automl'\n",
    "if autolib_dir not in sys.path:\n",
    "    sys.path.append(autolib_dir)\n",
    "\n",
    "print(sys.path)\n",
    "\n",
    "%load_ext autoreload\n",
    "%autoreload 2"
   ]
  },
  {
   "cell_type": "code",
   "execution_count": 2,
   "metadata": {
    "ExecuteTime": {
     "end_time": "2018-07-02T19:24:29.525434Z",
     "start_time": "2018-07-02T19:24:28.460128Z"
    }
   },
   "outputs": [
    {
     "name": "stderr",
     "output_type": "stream",
     "text": [
      "/home/kai/anaconda3/envs/tf_gpu/lib/python3.5/site-packages/h5py/__init__.py:36: FutureWarning: Conversion of the second argument of issubdtype from `float` to `np.floating` is deprecated. In future, it will be treated as `np.float64 == np.dtype(float).type`.\n",
      "  from ._conv import register_converters as _register_converters\n",
      "Using TensorFlow backend.\n"
     ]
    }
   ],
   "source": [
    "from automl_libs import base_layer_utils, stacknet\n",
    "from automl_libs import feature_engineering as fe\n",
    "from automl_libs import encoding, kernels, nn_libs "
   ]
  },
  {
   "cell_type": "code",
   "execution_count": 3,
   "metadata": {
    "ExecuteTime": {
     "end_time": "2018-07-02T19:24:29.544907Z",
     "start_time": "2018-07-02T19:24:29.527485Z"
    }
   },
   "outputs": [],
   "source": [
    "categorical_features = ['Month', 'DayofMonth', 'DayOfWeek', 'DepTime', 'UniqueCarrier', 'Origin', 'Dest', 'Distance']"
   ]
  },
  {
   "cell_type": "code",
   "execution_count": 4,
   "metadata": {
    "ExecuteTime": {
     "end_time": "2018-07-02T19:24:29.579459Z",
     "start_time": "2018-07-02T19:24:29.546240Z"
    }
   },
   "outputs": [
    {
     "data": {
      "text/plain": [
       "[{'feature_cols': ['Month', 'DayofMonth'],\n",
       "  'function': <function automl_libs.feature_engineering.count(df, cols, dummy_col, generated_feature_name, params=None)>,\n",
       "  'params': {}},\n",
       " {'feature_cols': ['Month', 'DayOfWeek'],\n",
       "  'function': <function automl_libs.feature_engineering.count(df, cols, dummy_col, generated_feature_name, params=None)>,\n",
       "  'params': {}},\n",
       " {'feature_cols': ['Month', 'DepTime'],\n",
       "  'function': <function automl_libs.feature_engineering.count(df, cols, dummy_col, generated_feature_name, params=None)>,\n",
       "  'params': {}},\n",
       " {'feature_cols': ['Month', 'UniqueCarrier'],\n",
       "  'function': <function automl_libs.feature_engineering.count(df, cols, dummy_col, generated_feature_name, params=None)>,\n",
       "  'params': {}},\n",
       " {'feature_cols': ['Month', 'Origin'],\n",
       "  'function': <function automl_libs.feature_engineering.count(df, cols, dummy_col, generated_feature_name, params=None)>,\n",
       "  'params': {}},\n",
       " {'feature_cols': ['Month', 'Dest'],\n",
       "  'function': <function automl_libs.feature_engineering.count(df, cols, dummy_col, generated_feature_name, params=None)>,\n",
       "  'params': {}},\n",
       " {'feature_cols': ['Month', 'Distance'],\n",
       "  'function': <function automl_libs.feature_engineering.count(df, cols, dummy_col, generated_feature_name, params=None)>,\n",
       "  'params': {}},\n",
       " {'feature_cols': ['DayofMonth', 'DayOfWeek'],\n",
       "  'function': <function automl_libs.feature_engineering.count(df, cols, dummy_col, generated_feature_name, params=None)>,\n",
       "  'params': {}},\n",
       " {'feature_cols': ['DayofMonth', 'DepTime'],\n",
       "  'function': <function automl_libs.feature_engineering.count(df, cols, dummy_col, generated_feature_name, params=None)>,\n",
       "  'params': {}},\n",
       " {'feature_cols': ['DayofMonth', 'UniqueCarrier'],\n",
       "  'function': <function automl_libs.feature_engineering.count(df, cols, dummy_col, generated_feature_name, params=None)>,\n",
       "  'params': {}},\n",
       " {'feature_cols': ['DayofMonth', 'Origin'],\n",
       "  'function': <function automl_libs.feature_engineering.count(df, cols, dummy_col, generated_feature_name, params=None)>,\n",
       "  'params': {}},\n",
       " {'feature_cols': ['DayofMonth', 'Dest'],\n",
       "  'function': <function automl_libs.feature_engineering.count(df, cols, dummy_col, generated_feature_name, params=None)>,\n",
       "  'params': {}},\n",
       " {'feature_cols': ['DayofMonth', 'Distance'],\n",
       "  'function': <function automl_libs.feature_engineering.count(df, cols, dummy_col, generated_feature_name, params=None)>,\n",
       "  'params': {}},\n",
       " {'feature_cols': ['DayOfWeek', 'DepTime'],\n",
       "  'function': <function automl_libs.feature_engineering.count(df, cols, dummy_col, generated_feature_name, params=None)>,\n",
       "  'params': {}},\n",
       " {'feature_cols': ['DayOfWeek', 'UniqueCarrier'],\n",
       "  'function': <function automl_libs.feature_engineering.count(df, cols, dummy_col, generated_feature_name, params=None)>,\n",
       "  'params': {}},\n",
       " {'feature_cols': ['DayOfWeek', 'Origin'],\n",
       "  'function': <function automl_libs.feature_engineering.count(df, cols, dummy_col, generated_feature_name, params=None)>,\n",
       "  'params': {}},\n",
       " {'feature_cols': ['DayOfWeek', 'Dest'],\n",
       "  'function': <function automl_libs.feature_engineering.count(df, cols, dummy_col, generated_feature_name, params=None)>,\n",
       "  'params': {}},\n",
       " {'feature_cols': ['DayOfWeek', 'Distance'],\n",
       "  'function': <function automl_libs.feature_engineering.count(df, cols, dummy_col, generated_feature_name, params=None)>,\n",
       "  'params': {}},\n",
       " {'feature_cols': ['DepTime', 'UniqueCarrier'],\n",
       "  'function': <function automl_libs.feature_engineering.count(df, cols, dummy_col, generated_feature_name, params=None)>,\n",
       "  'params': {}},\n",
       " {'feature_cols': ['DepTime', 'Origin'],\n",
       "  'function': <function automl_libs.feature_engineering.count(df, cols, dummy_col, generated_feature_name, params=None)>,\n",
       "  'params': {}},\n",
       " {'feature_cols': ['DepTime', 'Dest'],\n",
       "  'function': <function automl_libs.feature_engineering.count(df, cols, dummy_col, generated_feature_name, params=None)>,\n",
       "  'params': {}},\n",
       " {'feature_cols': ['DepTime', 'Distance'],\n",
       "  'function': <function automl_libs.feature_engineering.count(df, cols, dummy_col, generated_feature_name, params=None)>,\n",
       "  'params': {}},\n",
       " {'feature_cols': ['UniqueCarrier', 'Origin'],\n",
       "  'function': <function automl_libs.feature_engineering.count(df, cols, dummy_col, generated_feature_name, params=None)>,\n",
       "  'params': {}},\n",
       " {'feature_cols': ['UniqueCarrier', 'Dest'],\n",
       "  'function': <function automl_libs.feature_engineering.count(df, cols, dummy_col, generated_feature_name, params=None)>,\n",
       "  'params': {}},\n",
       " {'feature_cols': ['UniqueCarrier', 'Distance'],\n",
       "  'function': <function automl_libs.feature_engineering.count(df, cols, dummy_col, generated_feature_name, params=None)>,\n",
       "  'params': {}},\n",
       " {'feature_cols': ['Origin', 'Dest'],\n",
       "  'function': <function automl_libs.feature_engineering.count(df, cols, dummy_col, generated_feature_name, params=None)>,\n",
       "  'params': {}},\n",
       " {'feature_cols': ['Origin', 'Distance'],\n",
       "  'function': <function automl_libs.feature_engineering.count(df, cols, dummy_col, generated_feature_name, params=None)>,\n",
       "  'params': {}},\n",
       " {'feature_cols': ['Dest', 'Distance'],\n",
       "  'function': <function automl_libs.feature_engineering.count(df, cols, dummy_col, generated_feature_name, params=None)>,\n",
       "  'params': {}},\n",
       " {'feature_cols': ['Month', 'DayofMonth'],\n",
       "  'function': <function automl_libs.feature_engineering.unique_count(df, cols, dummy_col, generated_feature_name, params=None)>,\n",
       "  'params': {}},\n",
       " {'feature_cols': ['Month', 'DayOfWeek'],\n",
       "  'function': <function automl_libs.feature_engineering.unique_count(df, cols, dummy_col, generated_feature_name, params=None)>,\n",
       "  'params': {}},\n",
       " {'feature_cols': ['Month', 'DepTime'],\n",
       "  'function': <function automl_libs.feature_engineering.unique_count(df, cols, dummy_col, generated_feature_name, params=None)>,\n",
       "  'params': {}},\n",
       " {'feature_cols': ['Month', 'UniqueCarrier'],\n",
       "  'function': <function automl_libs.feature_engineering.unique_count(df, cols, dummy_col, generated_feature_name, params=None)>,\n",
       "  'params': {}},\n",
       " {'feature_cols': ['Month', 'Origin'],\n",
       "  'function': <function automl_libs.feature_engineering.unique_count(df, cols, dummy_col, generated_feature_name, params=None)>,\n",
       "  'params': {}},\n",
       " {'feature_cols': ['Month', 'Dest'],\n",
       "  'function': <function automl_libs.feature_engineering.unique_count(df, cols, dummy_col, generated_feature_name, params=None)>,\n",
       "  'params': {}},\n",
       " {'feature_cols': ['Month', 'Distance'],\n",
       "  'function': <function automl_libs.feature_engineering.unique_count(df, cols, dummy_col, generated_feature_name, params=None)>,\n",
       "  'params': {}},\n",
       " {'feature_cols': ['DayofMonth', 'DayOfWeek'],\n",
       "  'function': <function automl_libs.feature_engineering.unique_count(df, cols, dummy_col, generated_feature_name, params=None)>,\n",
       "  'params': {}},\n",
       " {'feature_cols': ['DayofMonth', 'DepTime'],\n",
       "  'function': <function automl_libs.feature_engineering.unique_count(df, cols, dummy_col, generated_feature_name, params=None)>,\n",
       "  'params': {}},\n",
       " {'feature_cols': ['DayofMonth', 'UniqueCarrier'],\n",
       "  'function': <function automl_libs.feature_engineering.unique_count(df, cols, dummy_col, generated_feature_name, params=None)>,\n",
       "  'params': {}},\n",
       " {'feature_cols': ['DayofMonth', 'Origin'],\n",
       "  'function': <function automl_libs.feature_engineering.unique_count(df, cols, dummy_col, generated_feature_name, params=None)>,\n",
       "  'params': {}},\n",
       " {'feature_cols': ['DayofMonth', 'Dest'],\n",
       "  'function': <function automl_libs.feature_engineering.unique_count(df, cols, dummy_col, generated_feature_name, params=None)>,\n",
       "  'params': {}},\n",
       " {'feature_cols': ['DayofMonth', 'Distance'],\n",
       "  'function': <function automl_libs.feature_engineering.unique_count(df, cols, dummy_col, generated_feature_name, params=None)>,\n",
       "  'params': {}},\n",
       " {'feature_cols': ['DayOfWeek', 'DepTime'],\n",
       "  'function': <function automl_libs.feature_engineering.unique_count(df, cols, dummy_col, generated_feature_name, params=None)>,\n",
       "  'params': {}},\n",
       " {'feature_cols': ['DayOfWeek', 'UniqueCarrier'],\n",
       "  'function': <function automl_libs.feature_engineering.unique_count(df, cols, dummy_col, generated_feature_name, params=None)>,\n",
       "  'params': {}},\n",
       " {'feature_cols': ['DayOfWeek', 'Origin'],\n",
       "  'function': <function automl_libs.feature_engineering.unique_count(df, cols, dummy_col, generated_feature_name, params=None)>,\n",
       "  'params': {}},\n",
       " {'feature_cols': ['DayOfWeek', 'Dest'],\n",
       "  'function': <function automl_libs.feature_engineering.unique_count(df, cols, dummy_col, generated_feature_name, params=None)>,\n",
       "  'params': {}},\n",
       " {'feature_cols': ['DayOfWeek', 'Distance'],\n",
       "  'function': <function automl_libs.feature_engineering.unique_count(df, cols, dummy_col, generated_feature_name, params=None)>,\n",
       "  'params': {}},\n",
       " {'feature_cols': ['DepTime', 'UniqueCarrier'],\n",
       "  'function': <function automl_libs.feature_engineering.unique_count(df, cols, dummy_col, generated_feature_name, params=None)>,\n",
       "  'params': {}},\n",
       " {'feature_cols': ['DepTime', 'Origin'],\n",
       "  'function': <function automl_libs.feature_engineering.unique_count(df, cols, dummy_col, generated_feature_name, params=None)>,\n",
       "  'params': {}},\n",
       " {'feature_cols': ['DepTime', 'Dest'],\n",
       "  'function': <function automl_libs.feature_engineering.unique_count(df, cols, dummy_col, generated_feature_name, params=None)>,\n",
       "  'params': {}},\n",
       " {'feature_cols': ['DepTime', 'Distance'],\n",
       "  'function': <function automl_libs.feature_engineering.unique_count(df, cols, dummy_col, generated_feature_name, params=None)>,\n",
       "  'params': {}},\n",
       " {'feature_cols': ['UniqueCarrier', 'Origin'],\n",
       "  'function': <function automl_libs.feature_engineering.unique_count(df, cols, dummy_col, generated_feature_name, params=None)>,\n",
       "  'params': {}},\n",
       " {'feature_cols': ['UniqueCarrier', 'Dest'],\n",
       "  'function': <function automl_libs.feature_engineering.unique_count(df, cols, dummy_col, generated_feature_name, params=None)>,\n",
       "  'params': {}},\n",
       " {'feature_cols': ['UniqueCarrier', 'Distance'],\n",
       "  'function': <function automl_libs.feature_engineering.unique_count(df, cols, dummy_col, generated_feature_name, params=None)>,\n",
       "  'params': {}},\n",
       " {'feature_cols': ['Origin', 'Dest'],\n",
       "  'function': <function automl_libs.feature_engineering.unique_count(df, cols, dummy_col, generated_feature_name, params=None)>,\n",
       "  'params': {}},\n",
       " {'feature_cols': ['Origin', 'Distance'],\n",
       "  'function': <function automl_libs.feature_engineering.unique_count(df, cols, dummy_col, generated_feature_name, params=None)>,\n",
       "  'params': {}},\n",
       " {'feature_cols': ['Dest', 'Distance'],\n",
       "  'function': <function automl_libs.feature_engineering.unique_count(df, cols, dummy_col, generated_feature_name, params=None)>,\n",
       "  'params': {}},\n",
       " {'feature_cols': ['Month', 'DayofMonth'],\n",
       "  'function': <function automl_libs.feature_engineering.cumulative_count(df, cols, dummy_col, generated_feature_name, params=None)>,\n",
       "  'params': {}},\n",
       " {'feature_cols': ['Month', 'DayOfWeek'],\n",
       "  'function': <function automl_libs.feature_engineering.cumulative_count(df, cols, dummy_col, generated_feature_name, params=None)>,\n",
       "  'params': {}},\n",
       " {'feature_cols': ['Month', 'DepTime'],\n",
       "  'function': <function automl_libs.feature_engineering.cumulative_count(df, cols, dummy_col, generated_feature_name, params=None)>,\n",
       "  'params': {}},\n",
       " {'feature_cols': ['Month', 'UniqueCarrier'],\n",
       "  'function': <function automl_libs.feature_engineering.cumulative_count(df, cols, dummy_col, generated_feature_name, params=None)>,\n",
       "  'params': {}},\n",
       " {'feature_cols': ['Month', 'Origin'],\n",
       "  'function': <function automl_libs.feature_engineering.cumulative_count(df, cols, dummy_col, generated_feature_name, params=None)>,\n",
       "  'params': {}},\n",
       " {'feature_cols': ['Month', 'Dest'],\n",
       "  'function': <function automl_libs.feature_engineering.cumulative_count(df, cols, dummy_col, generated_feature_name, params=None)>,\n",
       "  'params': {}},\n",
       " {'feature_cols': ['Month', 'Distance'],\n",
       "  'function': <function automl_libs.feature_engineering.cumulative_count(df, cols, dummy_col, generated_feature_name, params=None)>,\n",
       "  'params': {}},\n",
       " {'feature_cols': ['DayofMonth', 'DayOfWeek'],\n",
       "  'function': <function automl_libs.feature_engineering.cumulative_count(df, cols, dummy_col, generated_feature_name, params=None)>,\n",
       "  'params': {}},\n",
       " {'feature_cols': ['DayofMonth', 'DepTime'],\n",
       "  'function': <function automl_libs.feature_engineering.cumulative_count(df, cols, dummy_col, generated_feature_name, params=None)>,\n",
       "  'params': {}},\n",
       " {'feature_cols': ['DayofMonth', 'UniqueCarrier'],\n",
       "  'function': <function automl_libs.feature_engineering.cumulative_count(df, cols, dummy_col, generated_feature_name, params=None)>,\n",
       "  'params': {}},\n",
       " {'feature_cols': ['DayofMonth', 'Origin'],\n",
       "  'function': <function automl_libs.feature_engineering.cumulative_count(df, cols, dummy_col, generated_feature_name, params=None)>,\n",
       "  'params': {}},\n",
       " {'feature_cols': ['DayofMonth', 'Dest'],\n",
       "  'function': <function automl_libs.feature_engineering.cumulative_count(df, cols, dummy_col, generated_feature_name, params=None)>,\n",
       "  'params': {}},\n",
       " {'feature_cols': ['DayofMonth', 'Distance'],\n",
       "  'function': <function automl_libs.feature_engineering.cumulative_count(df, cols, dummy_col, generated_feature_name, params=None)>,\n",
       "  'params': {}},\n",
       " {'feature_cols': ['DayOfWeek', 'DepTime'],\n",
       "  'function': <function automl_libs.feature_engineering.cumulative_count(df, cols, dummy_col, generated_feature_name, params=None)>,\n",
       "  'params': {}},\n",
       " {'feature_cols': ['DayOfWeek', 'UniqueCarrier'],\n",
       "  'function': <function automl_libs.feature_engineering.cumulative_count(df, cols, dummy_col, generated_feature_name, params=None)>,\n",
       "  'params': {}},\n",
       " {'feature_cols': ['DayOfWeek', 'Origin'],\n",
       "  'function': <function automl_libs.feature_engineering.cumulative_count(df, cols, dummy_col, generated_feature_name, params=None)>,\n",
       "  'params': {}},\n",
       " {'feature_cols': ['DayOfWeek', 'Dest'],\n",
       "  'function': <function automl_libs.feature_engineering.cumulative_count(df, cols, dummy_col, generated_feature_name, params=None)>,\n",
       "  'params': {}},\n",
       " {'feature_cols': ['DayOfWeek', 'Distance'],\n",
       "  'function': <function automl_libs.feature_engineering.cumulative_count(df, cols, dummy_col, generated_feature_name, params=None)>,\n",
       "  'params': {}},\n",
       " {'feature_cols': ['DepTime', 'UniqueCarrier'],\n",
       "  'function': <function automl_libs.feature_engineering.cumulative_count(df, cols, dummy_col, generated_feature_name, params=None)>,\n",
       "  'params': {}},\n",
       " {'feature_cols': ['DepTime', 'Origin'],\n",
       "  'function': <function automl_libs.feature_engineering.cumulative_count(df, cols, dummy_col, generated_feature_name, params=None)>,\n",
       "  'params': {}},\n",
       " {'feature_cols': ['DepTime', 'Dest'],\n",
       "  'function': <function automl_libs.feature_engineering.cumulative_count(df, cols, dummy_col, generated_feature_name, params=None)>,\n",
       "  'params': {}},\n",
       " {'feature_cols': ['DepTime', 'Distance'],\n",
       "  'function': <function automl_libs.feature_engineering.cumulative_count(df, cols, dummy_col, generated_feature_name, params=None)>,\n",
       "  'params': {}},\n",
       " {'feature_cols': ['UniqueCarrier', 'Origin'],\n",
       "  'function': <function automl_libs.feature_engineering.cumulative_count(df, cols, dummy_col, generated_feature_name, params=None)>,\n",
       "  'params': {}},\n",
       " {'feature_cols': ['UniqueCarrier', 'Dest'],\n",
       "  'function': <function automl_libs.feature_engineering.cumulative_count(df, cols, dummy_col, generated_feature_name, params=None)>,\n",
       "  'params': {}},\n",
       " {'feature_cols': ['UniqueCarrier', 'Distance'],\n",
       "  'function': <function automl_libs.feature_engineering.cumulative_count(df, cols, dummy_col, generated_feature_name, params=None)>,\n",
       "  'params': {}},\n",
       " {'feature_cols': ['Origin', 'Dest'],\n",
       "  'function': <function automl_libs.feature_engineering.cumulative_count(df, cols, dummy_col, generated_feature_name, params=None)>,\n",
       "  'params': {}},\n",
       " {'feature_cols': ['Origin', 'Distance'],\n",
       "  'function': <function automl_libs.feature_engineering.cumulative_count(df, cols, dummy_col, generated_feature_name, params=None)>,\n",
       "  'params': {}},\n",
       " {'feature_cols': ['Dest', 'Distance'],\n",
       "  'function': <function automl_libs.feature_engineering.cumulative_count(df, cols, dummy_col, generated_feature_name, params=None)>,\n",
       "  'params': {}}]"
      ]
     },
     "execution_count": 4,
     "metadata": {},
     "output_type": "execute_result"
    }
   ],
   "source": [
    "import itertools\n",
    "#params = {'split_col': 't', 'coefficient': 10, 'n': 2, 'fillna': 22}\n",
    "def get_features_to_gen(function_list, low, high):\n",
    "    features_to_gen = []\n",
    "    for function in function_list:\n",
    "        for i in range(low, high+1):\n",
    "            for combine in itertools.combinations(categorical_features, i):\n",
    "                if function.__name__ == 'count_std_over_mean':\n",
    "                    features_to_gen.append({'params': {'coefficient': 10}, 'function': function, 'feature_cols': list(combine)})\n",
    "                else:\n",
    "                    features_to_gen.append({'params': {}, 'function': function, 'feature_cols': list(combine)})\n",
    "                \n",
    "    return features_to_gen\n",
    "\n",
    "# features_to_gen = get_features_to_gen([fe.count, fe.unique_count, \n",
    "#                                        fe.cumulative_count, \n",
    "#                                        fe.reverse_cumulative_count, \n",
    "#                                        fe.variance, fe.count_std_over_mean], \n",
    "#                                       2, 2)# len(categorical_features))\n",
    "# features_to_gen = get_features_to_gen([fe.count, fe.unique_count, fe.cumulative_count])\n",
    "features_to_gen = get_features_to_gen([fe.count, fe.unique_count, fe.cumulative_count], 2, 2)#len(categorical_features))\n",
    "\n",
    "features_to_gen"
   ]
  },
  {
   "cell_type": "code",
   "execution_count": 5,
   "metadata": {
    "ExecuteTime": {
     "end_time": "2018-07-02T19:24:29.597071Z",
     "start_time": "2018-07-02T19:24:29.580763Z"
    }
   },
   "outputs": [
    {
     "data": {
      "text/plain": [
       "84"
      ]
     },
     "execution_count": 5,
     "metadata": {},
     "output_type": "execute_result"
    }
   ],
   "source": [
    "len(features_to_gen)"
   ]
  },
  {
   "cell_type": "code",
   "execution_count": 6,
   "metadata": {
    "ExecuteTime": {
     "end_time": "2018-07-02T19:24:29.613913Z",
     "start_time": "2018-07-02T19:24:29.598375Z"
    }
   },
   "outputs": [],
   "source": [
    "project_path = '/home/kai/data/shiyi/AlphaBoosting/automl/automl_app/project2/' "
   ]
  },
  {
   "cell_type": "code",
   "execution_count": 7,
   "metadata": {
    "ExecuteTime": {
     "end_time": "2018-07-02T19:24:29.633021Z",
     "start_time": "2018-07-02T19:24:29.615201Z"
    }
   },
   "outputs": [],
   "source": [
    "from automl_app import logger_config\n",
    "import logging\n",
    "logger_config.config(project_path+'log_project2.log', file_loglevel=logging.INFO)"
   ]
  },
  {
   "cell_type": "code",
   "execution_count": 8,
   "metadata": {
    "ExecuteTime": {
     "end_time": "2018-07-02T19:24:29.659334Z",
     "start_time": "2018-07-02T19:24:29.634593Z"
    }
   },
   "outputs": [],
   "source": [
    "def gs_params_gen(model='lgb'):\n",
    "    import time\n",
    "    import numpy as np\n",
    "    seed = int(time.time()* 1000000) % 45234634\n",
    "    np.random.seed(seed)\n",
    "    if model == 'lgb':\n",
    "        params = {    \n",
    "            'objective': 'binary',\n",
    "            'boosting': 'gbdt',\n",
    "            'num_boost_round': 30, # ignored in params. extract it and put it in input arguments in train or cv explicitly\n",
    "                                   # seems to work fine as the upper limit when combined with early_stopping_round\n",
    "            'learning_rate': np.random.choice([0.1,0.03]),#0.001]),\n",
    "            'num_leaves': np.random.choice([15,31]),#,61,127]),\n",
    "            'num_threads': 8, # best speed: set to number of real cpu cores, which is vCPU/2\n",
    "            'max_depth': -1, # no limit. This is used to deal with over-fitting when #data is small.\n",
    "            'min_data_in_leaf': np.random.randint(20,50),  #minimal number of data in one leaf. \n",
    "            'feature_fraction': np.random.randint(9,11)/10,\n",
    "            'feature_fraction_seed': seed,\n",
    "            'early_stopping_round':10,\n",
    "            'bagging_freq': 1, #0 means disable bagging. k: perform bagging at every k iteration\n",
    "            'bagging_fraction': np.random.randint(4,11)/10, #Randomly select part of data \n",
    "            'bagging_seed': seed,\n",
    "            'scale_pos_weight': 1,\n",
    "            'metric': 'auc' \n",
    "        }\n",
    "    elif model == 'nn':\n",
    "        params = {\n",
    "            'nn_seed': int(time.time() * 1000000) % 45234634,\n",
    "            'ep_for_lr': 1,\n",
    "            'lr_init': 0.01,\n",
    "            'lr_fin': 0.005, # if == lr_init, then no lr decay\n",
    "            'batch_size': np.random.choice([32, 64, 128, 256, 512, 1024, 2048]),\n",
    "            \"pred_batch_size\": 50000,\n",
    "            'max_ep': 1,\n",
    "            'patience': 1,\n",
    "            'cat_emb_outdim': 50, # could be a constant or a dict (col name:embed out dim). e.g.:\n",
    "                                  # embed_outdim = [3, 3, 8, 8, 3]\n",
    "                                  # embed_outdim_dict = dict(zip(X_train.columns.values, embed_outdim))\n",
    "            'dense_units': 50,\n",
    "            'num_dense_n_layers': 1,\n",
    "            'drop_rate': 0.2,\n",
    "            'combined_dense_n_layers': 1,\n",
    "            'monitor': 'val_auc',  # or val_loss (MUST HAVE)\n",
    "            'mode': 'max'  # MUST HAVE\n",
    "        }\n",
    "    return params, seed"
   ]
  },
  {
   "cell_type": "code",
   "execution_count": 9,
   "metadata": {
    "ExecuteTime": {
     "end_time": "2018-07-02T19:24:29.678426Z",
     "start_time": "2018-07-02T19:24:29.660830Z"
    }
   },
   "outputs": [
    {
     "data": {
      "text/plain": [
       "({'batch_size': 64,\n",
       "  'cat_emb_outdim': 50,\n",
       "  'combined_dense_n_layers': 1,\n",
       "  'dense_units': 50,\n",
       "  'drop_rate': 0.2,\n",
       "  'ep_for_lr': 1,\n",
       "  'lr_fin': 0.005,\n",
       "  'lr_init': 0.01,\n",
       "  'max_ep': 1,\n",
       "  'mode': 'max',\n",
       "  'monitor': 'val_auc',\n",
       "  'nn_seed': 31774688,\n",
       "  'num_dense_n_layers': 1,\n",
       "  'patience': 1,\n",
       "  'pred_batch_size': 50000},\n",
       " 31774681)"
      ]
     },
     "execution_count": 9,
     "metadata": {},
     "output_type": "execute_result"
    }
   ],
   "source": [
    "gs_params_gen('nn')"
   ]
  },
  {
   "cell_type": "code",
   "execution_count": 10,
   "metadata": {
    "ExecuteTime": {
     "end_time": "2018-07-02T19:26:16.073214Z",
     "start_time": "2018-07-02T19:24:29.679719Z"
    },
    "scrolled": true
   },
   "outputs": [
    {
     "name": "stderr",
     "output_type": "stream",
     "text": [
      "2018-07-02 15:24:29 | INFO    | automl_app.app.AlphaBoosting.__init__             | #22  | ==========NEW RUN==========\n",
      "/home/kai/data/shiyi/AlphaBoosting/automl/automl_app/app.py:139: FutureWarning: Sorting because non-concatenation axis is not aligned. A future version\n",
      "of pandas will change to not sort by default.\n",
      "\n",
      "To accept the future behavior, pass 'sort=False'.\n",
      "\n",
      "To retain the current behavior and silence the warning, pass 'sort=True'.\n",
      "\n",
      "  self.df = pd.concat([self.train, self.test], ignore_index=True)\n",
      "2018-07-02 15:24:29 | INFO    | automl_app.app.AlphaBoosting.__init__             | #65  | Run record file [./output/last_run_record.json] not found. Begin the first time run...\n",
      "2018-07-02 15:24:29 | INFO    | automl_app.app.AlphaBoosting.__init__             | #96  | generate todo list\n",
      "2018-07-02 15:24:29 | INFO    | automl_app.app.AlphaBoosting.__init__             | #112 | STAGE: FEATURE_ENGINEERING\n",
      "2018-07-02 15:24:29 | INFO    | automl_app.app.AlphaBoosting.__init__             | #116 | STAGE: VALIDATION_DOWNSAMPLING_GEN\n",
      "2018-07-02 15:24:55 | INFO    | automl_app.app.AlphaBoosting.__init__             | #120 | STAGE: CONCAT_DATA\n",
      "2018-07-02 15:25:01 | INFO    | automl_app.app.AlphaBoosting.__init__             | #124 | STAGE: GRID_SEARCH\n",
      "2018-07-02 15:25:02 | INFO    | automl_app.app.AlphaBoosting._get_final_data      | #329 | Data retrieved. Shape: train (100000, 177) | val (50000, 177) | test (100000, 176) | 8 cat features | 176 total features | y name: label\n",
      "2018-07-02 15:25:02 | INFO    | automl_libs.grid_search.gs                   | #29  | Grid search lgb. round 1 of 1\n"
     ]
    },
    {
     "name": "stdout",
     "output_type": "stream",
     "text": [
      "[20]\tcv_agg's auc: 0.721094 + 0.00127641\n"
     ]
    },
    {
     "name": "stderr",
     "output_type": "stream",
     "text": [
      "2018-07-02 15:25:05 | INFO    | automl_libs.grid_search._lgb_gs              | #89  | val_auc: 0.72812 (cv, no train_auc)\n",
      "2018-07-02 15:25:05 | INFO    | automl_libs.grid_search._lgb_gs              | #109 | [do_preds] is True, generating predictions ...\n",
      "2018-07-02 15:25:05 | INFO    | automl_libs.grid_search._lgb_gs              | #110 | Retrain model using best_round and all data...\n"
     ]
    },
    {
     "name": "stdout",
     "output_type": "stream",
     "text": [
      "[6]\ttraining's auc: 0.713099\n",
      "[12]\ttraining's auc: 0.721388\n",
      "[18]\ttraining's auc: 0.729736\n",
      "[24]\ttraining's auc: 0.737361\n"
     ]
    },
    {
     "name": "stderr",
     "output_type": "stream",
     "text": [
      "2018-07-02 15:25:07 | INFO    | automl_libs.grid_search._lgb_gs              | #118 | Training done. Iteration: 30 | train_auc: 0.74383 | 176 features\n"
     ]
    },
    {
     "name": "stdout",
     "output_type": "stream",
     "text": [
      "[30]\ttraining's auc: 0.743827\n"
     ]
    },
    {
     "name": "stderr",
     "output_type": "stream",
     "text": [
      "2018-07-02 15:25:07 | INFO    | automl_libs.grid_search._lgb_gs              | #131 | LGB predictions(tBuQ) saved in ./output/gs_saved_preds/.\n",
      "2018-07-02 15:25:07 | INFO    | automl_libs.grid_search.gs                   | #55  | ./output/lgb_grid_search.csv updated\n",
      "2018-07-02 15:25:07 | INFO    | automl_libs.grid_search.gs                   | #29  | Grid search nn. round 1 of 1\n",
      "2018-07-02 15:25:07 | DEBUG   | automl_libs.nn_libs.get_model            | #57  | Col [Dest]: embed dim: input 293, output 50\n",
      "2018-07-02 15:25:07 | DEBUG   | automl_libs.nn_libs.get_model            | #57  | Col [DayOfWeek]: embed dim: input 8, output 8\n",
      "2018-07-02 15:25:07 | DEBUG   | automl_libs.nn_libs.get_model            | #57  | Col [DepTime]: embed dim: input 27, output 27\n",
      "2018-07-02 15:25:07 | DEBUG   | automl_libs.nn_libs.get_model            | #57  | Col [Distance]: embed dim: input 10, output 10\n",
      "2018-07-02 15:25:07 | DEBUG   | automl_libs.nn_libs.get_model            | #57  | Col [Month]: embed dim: input 13, output 13\n",
      "2018-07-02 15:25:07 | DEBUG   | automl_libs.nn_libs.get_model            | #57  | Col [Origin]: embed dim: input 292, output 50\n",
      "2018-07-02 15:25:07 | DEBUG   | automl_libs.nn_libs.get_model            | #57  | Col [DayofMonth]: embed dim: input 32, output 32\n",
      "2018-07-02 15:25:07 | DEBUG   | automl_libs.nn_libs.get_model            | #57  | Col [UniqueCarrier]: embed dim: input 23, output 23\n",
      "2018-07-02 15:25:07 | DEBUG   | automl_libs.nn_libs.get_model            | #103 | steps in on epoch: 195\n",
      "2018-07-02 15:25:07 | DEBUG   | automl_libs.nn_libs.get_model            | #104 | steps for lr decay: 195\n",
      "2018-07-02 15:25:07 | DEBUG   | automl_libs.nn_libs.get_model            | #105 | lr decay: 0.003579\n"
     ]
    },
    {
     "name": "stdout",
     "output_type": "stream",
     "text": [
      "(_lgb_gs) roc of test: 0.7254528403092334\n",
      "Train on 100000 samples, validate on 50000 samples\n",
      "Epoch 1/1\n"
     ]
    },
    {
     "name": "stderr",
     "output_type": "stream",
     "text": [
      "2018-07-02 15:25:13 | DEBUG   | automl_libs.nn_libs.LearningRateTracker._show_lr             | #162 | At epoch end: init lr 0.01000, lr_decay 0.00358, iterations 196, current lr 0.00588\n",
      "2018-07-02 15:25:13 | INFO    | automl_libs.grid_search._nn_gs               | #180 | val_auc: 0.69634\n",
      "2018-07-02 15:25:13 | INFO    | automl_libs.grid_search._nn_gs               | #191 | val_loss: 0.48479 | train_loss: 0.45622 (not cv)\n",
      "2018-07-02 15:25:13 | INFO    | automl_libs.grid_search._nn_gs               | #199 | [do_preds] is True, generating predictions ...\n"
     ]
    },
    {
     "name": "stdout",
     "output_type": "stream",
     "text": [
      "\n",
      "Epoch 00001: roc_auc_val improved from -inf to 0.69634, saving model to ./output/gs_saved_preds/nn_saved_models/nn_nQQC.hdf5\n"
     ]
    },
    {
     "name": "stderr",
     "output_type": "stream",
     "text": [
      "2018-07-02 15:25:13 | INFO    | automl_libs.grid_search._nn_gs               | #212 | NN predictions(nQQC) saved in ./output/gs_saved_preds/.\n",
      "2018-07-02 15:25:13 | INFO    | automl_libs.grid_search.gs                   | #55  | ./output/nn_grid_search.csv updated\n",
      "2018-07-02 15:25:13 | INFO    | automl_app.app.AlphaBoosting.__init__             | #128 | STAGE: STACKNET\n"
     ]
    },
    {
     "name": "stdout",
     "output_type": "stream",
     "text": [
      "(_nn_gs) roc of test: 0.7002963032497247\n"
     ]
    },
    {
     "name": "stderr",
     "output_type": "stream",
     "text": [
      "2018-07-02 15:25:13 | INFO    | automl_app.app.AlphaBoosting._get_final_data      | #329 | Data retrieved. Shape: train (100000, 177) | val (50000, 177) | test (100000, 176) | 8 cat features | 176 total features | y name: label\n",
      "2018-07-02 15:25:14 | DEBUG   | automl_libs.stacknet.layer1               | #37  | data_id: flight_data_ordinal  \n",
      "\tx_train: (150000, 176)\tx_test: (100000, 176)\n",
      "\ty_train type: <class 'dict'>\n",
      "\tcompatible_models: {'LGB', 'NN'}\n",
      " \n",
      "2018-07-02 15:25:14 | DEBUG   | automl_libs.base_layer_utils.BaseLayerResultsRepo.__init__             | #233 | load StackNet saves from file\n",
      "2018-07-02 15:25:14 | INFO    | automl_libs.stacknet.layer1               | #60  | RHpG already processed in StackNet, so removed it from chosen_gs_results\n",
      "2018-07-02 15:25:14 | INFO    | automl_libs.stacknet.layer1               | #66  | using nn params: nQQC to do oof\n",
      "2018-07-02 15:25:14 | DEBUG   | automl_libs.stacknet.layer1               | #67  | {'dense_units': 50, 'cat_emb_outdim': 50, 'timestamp': '2018-07-02 15:25:07', 'monitor': 'val_auc', 'combined_dense_n_layers': 1, 'val_auc': 0.6963427035174966, 'gs_timespent': '0:00:05', 'nn_seed': 24271398, 'trn_loss': 0.4562204210090637, 'mode': 'max', 'num_dense_n_layers': 1, 'patience': 1, 'pred_timespent': '0:00:00', 'pred_batch_size': 50000, 'lr_init': 0.01, 'lr_fin': 0.005, 'max_ep': 1, 'val_acc': 0.8104000001716614, 'trn_acc': 0.8078700000190735, 'best_epoch': 1, 'ep_for_lr': 1, 'val_loss': 0.4847892190551758, 'drop_rate': 0.2, 'batch_size': 512}\n",
      "2018-07-02 15:25:14 | INFO    | automl_libs.base_layer_utils.compute_layer1_oof   | #486 | StackNet layer1: label: label    model_data_id: nQQC__NN_flight_data_ordinal_layer1\n",
      "2018-07-02 15:25:14 | INFO    | automl_libs.base_layer_utils.get_oof              | #422 | processing fold 1 of 5...\n",
      "2018-07-02 15:25:14 | DEBUG   | automl_libs.nn_libs.get_model            | #57  | Col [Dest]: embed dim: input 293, output 50\n",
      "2018-07-02 15:25:14 | DEBUG   | automl_libs.nn_libs.get_model            | #57  | Col [DayOfWeek]: embed dim: input 8, output 8\n",
      "2018-07-02 15:25:14 | DEBUG   | automl_libs.nn_libs.get_model            | #57  | Col [DepTime]: embed dim: input 27, output 27\n",
      "2018-07-02 15:25:14 | DEBUG   | automl_libs.nn_libs.get_model            | #57  | Col [Distance]: embed dim: input 10, output 10\n",
      "2018-07-02 15:25:14 | DEBUG   | automl_libs.nn_libs.get_model            | #57  | Col [Month]: embed dim: input 13, output 13\n",
      "2018-07-02 15:25:14 | DEBUG   | automl_libs.nn_libs.get_model            | #57  | Col [Origin]: embed dim: input 292, output 50\n",
      "2018-07-02 15:25:14 | DEBUG   | automl_libs.nn_libs.get_model            | #57  | Col [DayofMonth]: embed dim: input 32, output 32\n",
      "2018-07-02 15:25:14 | DEBUG   | automl_libs.nn_libs.get_model            | #57  | Col [UniqueCarrier]: embed dim: input 23, output 23\n",
      "2018-07-02 15:25:14 | DEBUG   | automl_libs.nn_libs.get_model            | #103 | steps in on epoch: 234\n",
      "2018-07-02 15:25:14 | DEBUG   | automl_libs.nn_libs.get_model            | #104 | steps for lr decay: 234\n",
      "2018-07-02 15:25:14 | DEBUG   | automl_libs.nn_libs.get_model            | #105 | lr decay: 0.002979\n"
     ]
    },
    {
     "name": "stdout",
     "output_type": "stream",
     "text": [
      "Train on 119999 samples, validate on 30001 samples\n",
      "Epoch 1/1\n",
      "119999/119999 [==============================] - 4s 32us/step - loss: 0.4537 - acc: 0.8078 - val_loss: 0.4395 - val_acc: 0.8131\n",
      "30001/30001 [==============================] - 0s 3us/step\n",
      "100000/100000 [==============================] - 0s 1us/step\n"
     ]
    },
    {
     "name": "stderr",
     "output_type": "stream",
     "text": [
      "2018-07-02 15:25:18 | INFO    | automl_libs.base_layer_utils.get_oof              | #436 | metric of fold 1: 0.7180944660893886\n",
      "2018-07-02 15:25:19 | INFO    | automl_libs.base_layer_utils.get_oof              | #422 | processing fold 2 of 5...\n",
      "2018-07-02 15:25:19 | DEBUG   | automl_libs.nn_libs.get_model            | #57  | Col [Dest]: embed dim: input 293, output 50\n",
      "2018-07-02 15:25:19 | DEBUG   | automl_libs.nn_libs.get_model            | #57  | Col [DayOfWeek]: embed dim: input 8, output 8\n",
      "2018-07-02 15:25:19 | DEBUG   | automl_libs.nn_libs.get_model            | #57  | Col [DepTime]: embed dim: input 27, output 27\n",
      "2018-07-02 15:25:19 | DEBUG   | automl_libs.nn_libs.get_model            | #57  | Col [Distance]: embed dim: input 10, output 10\n",
      "2018-07-02 15:25:19 | DEBUG   | automl_libs.nn_libs.get_model            | #57  | Col [Month]: embed dim: input 13, output 13\n",
      "2018-07-02 15:25:19 | DEBUG   | automl_libs.nn_libs.get_model            | #57  | Col [Origin]: embed dim: input 292, output 50\n",
      "2018-07-02 15:25:19 | DEBUG   | automl_libs.nn_libs.get_model            | #57  | Col [DayofMonth]: embed dim: input 32, output 32\n",
      "2018-07-02 15:25:19 | DEBUG   | automl_libs.nn_libs.get_model            | #57  | Col [UniqueCarrier]: embed dim: input 23, output 23\n",
      "2018-07-02 15:25:19 | DEBUG   | automl_libs.nn_libs.get_model            | #103 | steps in on epoch: 234\n",
      "2018-07-02 15:25:19 | DEBUG   | automl_libs.nn_libs.get_model            | #104 | steps for lr decay: 234\n",
      "2018-07-02 15:25:19 | DEBUG   | automl_libs.nn_libs.get_model            | #105 | lr decay: 0.002979\n"
     ]
    },
    {
     "name": "stdout",
     "output_type": "stream",
     "text": [
      "Train on 120000 samples, validate on 30000 samples\n",
      "Epoch 1/1\n",
      "120000/120000 [==============================] - 4s 32us/step - loss: 0.4537 - acc: 0.8087 - val_loss: 0.4402 - val_acc: 0.8131\n",
      "30000/30000 [==============================] - 0s 4us/step\n",
      "100000/100000 [==============================] - 0s 1us/step\n"
     ]
    },
    {
     "name": "stderr",
     "output_type": "stream",
     "text": [
      "2018-07-02 15:25:23 | INFO    | automl_libs.base_layer_utils.get_oof              | #436 | metric of fold 2: 0.7208164476336592\n",
      "2018-07-02 15:25:23 | INFO    | automl_libs.base_layer_utils.get_oof              | #422 | processing fold 3 of 5...\n",
      "2018-07-02 15:25:23 | DEBUG   | automl_libs.nn_libs.get_model            | #57  | Col [Dest]: embed dim: input 293, output 50\n",
      "2018-07-02 15:25:23 | DEBUG   | automl_libs.nn_libs.get_model            | #57  | Col [DayOfWeek]: embed dim: input 8, output 8\n",
      "2018-07-02 15:25:23 | DEBUG   | automl_libs.nn_libs.get_model            | #57  | Col [DepTime]: embed dim: input 27, output 27\n",
      "2018-07-02 15:25:23 | DEBUG   | automl_libs.nn_libs.get_model            | #57  | Col [Distance]: embed dim: input 10, output 10\n",
      "2018-07-02 15:25:23 | DEBUG   | automl_libs.nn_libs.get_model            | #57  | Col [Month]: embed dim: input 13, output 13\n",
      "2018-07-02 15:25:23 | DEBUG   | automl_libs.nn_libs.get_model            | #57  | Col [Origin]: embed dim: input 292, output 50\n",
      "2018-07-02 15:25:23 | DEBUG   | automl_libs.nn_libs.get_model            | #57  | Col [DayofMonth]: embed dim: input 32, output 32\n",
      "2018-07-02 15:25:24 | DEBUG   | automl_libs.nn_libs.get_model            | #57  | Col [UniqueCarrier]: embed dim: input 23, output 23\n",
      "2018-07-02 15:25:24 | DEBUG   | automl_libs.nn_libs.get_model            | #103 | steps in on epoch: 234\n",
      "2018-07-02 15:25:24 | DEBUG   | automl_libs.nn_libs.get_model            | #104 | steps for lr decay: 234\n",
      "2018-07-02 15:25:24 | DEBUG   | automl_libs.nn_libs.get_model            | #105 | lr decay: 0.002979\n"
     ]
    },
    {
     "name": "stdout",
     "output_type": "stream",
     "text": [
      "Train on 120000 samples, validate on 30000 samples\n",
      "Epoch 1/1\n",
      "120000/120000 [==============================] - 4s 33us/step - loss: 0.4529 - acc: 0.8083 - val_loss: 0.4421 - val_acc: 0.8109\n",
      "30000/30000 [==============================] - 0s 5us/step\n",
      "100000/100000 [==============================] - 0s 1us/step\n"
     ]
    },
    {
     "name": "stderr",
     "output_type": "stream",
     "text": [
      "2018-07-02 15:25:28 | INFO    | automl_libs.base_layer_utils.get_oof              | #436 | metric of fold 3: 0.7219056287152407\n",
      "2018-07-02 15:25:28 | INFO    | automl_libs.base_layer_utils.get_oof              | #422 | processing fold 4 of 5...\n",
      "2018-07-02 15:25:28 | DEBUG   | automl_libs.nn_libs.get_model            | #57  | Col [Dest]: embed dim: input 293, output 50\n",
      "2018-07-02 15:25:28 | DEBUG   | automl_libs.nn_libs.get_model            | #57  | Col [DayOfWeek]: embed dim: input 8, output 8\n",
      "2018-07-02 15:25:28 | DEBUG   | automl_libs.nn_libs.get_model            | #57  | Col [DepTime]: embed dim: input 27, output 27\n",
      "2018-07-02 15:25:28 | DEBUG   | automl_libs.nn_libs.get_model            | #57  | Col [Distance]: embed dim: input 10, output 10\n",
      "2018-07-02 15:25:28 | DEBUG   | automl_libs.nn_libs.get_model            | #57  | Col [Month]: embed dim: input 13, output 13\n",
      "2018-07-02 15:25:28 | DEBUG   | automl_libs.nn_libs.get_model            | #57  | Col [Origin]: embed dim: input 292, output 50\n",
      "2018-07-02 15:25:28 | DEBUG   | automl_libs.nn_libs.get_model            | #57  | Col [DayofMonth]: embed dim: input 32, output 32\n",
      "2018-07-02 15:25:29 | DEBUG   | automl_libs.nn_libs.get_model            | #57  | Col [UniqueCarrier]: embed dim: input 23, output 23\n",
      "2018-07-02 15:25:29 | DEBUG   | automl_libs.nn_libs.get_model            | #103 | steps in on epoch: 234\n",
      "2018-07-02 15:25:29 | DEBUG   | automl_libs.nn_libs.get_model            | #104 | steps for lr decay: 234\n",
      "2018-07-02 15:25:29 | DEBUG   | automl_libs.nn_libs.get_model            | #105 | lr decay: 0.002979\n"
     ]
    },
    {
     "name": "stdout",
     "output_type": "stream",
     "text": [
      "Train on 120000 samples, validate on 30000 samples\n",
      "Epoch 1/1\n",
      "120000/120000 [==============================] - 4s 34us/step - loss: 0.4533 - acc: 0.8088 - val_loss: 0.4372 - val_acc: 0.8141\n",
      "30000/30000 [==============================] - 0s 6us/step\n",
      "100000/100000 [==============================] - 0s 1us/step\n"
     ]
    },
    {
     "name": "stderr",
     "output_type": "stream",
     "text": [
      "2018-07-02 15:25:34 | INFO    | automl_libs.base_layer_utils.get_oof              | #436 | metric of fold 4: 0.7235538517077857\n",
      "2018-07-02 15:25:34 | INFO    | automl_libs.base_layer_utils.get_oof              | #422 | processing fold 5 of 5...\n",
      "2018-07-02 15:25:34 | DEBUG   | automl_libs.nn_libs.get_model            | #57  | Col [Dest]: embed dim: input 293, output 50\n",
      "2018-07-02 15:25:34 | DEBUG   | automl_libs.nn_libs.get_model            | #57  | Col [DayOfWeek]: embed dim: input 8, output 8\n",
      "2018-07-02 15:25:34 | DEBUG   | automl_libs.nn_libs.get_model            | #57  | Col [DepTime]: embed dim: input 27, output 27\n",
      "2018-07-02 15:25:34 | DEBUG   | automl_libs.nn_libs.get_model            | #57  | Col [Distance]: embed dim: input 10, output 10\n",
      "2018-07-02 15:25:34 | DEBUG   | automl_libs.nn_libs.get_model            | #57  | Col [Month]: embed dim: input 13, output 13\n",
      "2018-07-02 15:25:34 | DEBUG   | automl_libs.nn_libs.get_model            | #57  | Col [Origin]: embed dim: input 292, output 50\n",
      "2018-07-02 15:25:34 | DEBUG   | automl_libs.nn_libs.get_model            | #57  | Col [DayofMonth]: embed dim: input 32, output 32\n",
      "2018-07-02 15:25:34 | DEBUG   | automl_libs.nn_libs.get_model            | #57  | Col [UniqueCarrier]: embed dim: input 23, output 23\n",
      "2018-07-02 15:25:34 | DEBUG   | automl_libs.nn_libs.get_model            | #103 | steps in on epoch: 234\n",
      "2018-07-02 15:25:34 | DEBUG   | automl_libs.nn_libs.get_model            | #104 | steps for lr decay: 234\n",
      "2018-07-02 15:25:34 | DEBUG   | automl_libs.nn_libs.get_model            | #105 | lr decay: 0.002979\n"
     ]
    },
    {
     "name": "stdout",
     "output_type": "stream",
     "text": [
      "Train on 120001 samples, validate on 29999 samples\n",
      "Epoch 1/1\n",
      "120001/120001 [==============================] - 4s 34us/step - loss: 0.4532 - acc: 0.8093 - val_loss: 0.4383 - val_acc: 0.8146\n",
      "29999/29999 [==============================] - 0s 7us/step\n",
      "100000/100000 [==============================] - 0s 1us/step\n"
     ]
    },
    {
     "name": "stderr",
     "output_type": "stream",
     "text": [
      "2018-07-02 15:25:39 | INFO    | automl_libs.base_layer_utils.get_oof              | #436 | metric of fold 5: 0.7199165933178212\n",
      "2018-07-02 15:25:39 | DEBUG   | automl_libs.nn_libs.get_model            | #57  | Col [Dest]: embed dim: input 293, output 50\n",
      "2018-07-02 15:25:39 | DEBUG   | automl_libs.nn_libs.get_model            | #57  | Col [DayOfWeek]: embed dim: input 8, output 8\n",
      "2018-07-02 15:25:39 | DEBUG   | automl_libs.nn_libs.get_model            | #57  | Col [DepTime]: embed dim: input 27, output 27\n",
      "2018-07-02 15:25:39 | DEBUG   | automl_libs.nn_libs.get_model            | #57  | Col [Distance]: embed dim: input 10, output 10\n",
      "2018-07-02 15:25:39 | DEBUG   | automl_libs.nn_libs.get_model            | #57  | Col [Month]: embed dim: input 13, output 13\n",
      "2018-07-02 15:25:39 | DEBUG   | automl_libs.nn_libs.get_model            | #57  | Col [Origin]: embed dim: input 292, output 50\n",
      "2018-07-02 15:25:39 | DEBUG   | automl_libs.nn_libs.get_model            | #57  | Col [DayofMonth]: embed dim: input 32, output 32\n",
      "2018-07-02 15:25:39 | DEBUG   | automl_libs.nn_libs.get_model            | #57  | Col [UniqueCarrier]: embed dim: input 23, output 23\n",
      "2018-07-02 15:25:39 | DEBUG   | automl_libs.nn_libs.get_model            | #103 | steps in on epoch: 292\n",
      "2018-07-02 15:25:39 | DEBUG   | automl_libs.nn_libs.get_model            | #104 | steps for lr decay: 292\n",
      "2018-07-02 15:25:39 | DEBUG   | automl_libs.nn_libs.get_model            | #105 | lr decay: 0.002385\n"
     ]
    },
    {
     "name": "stdout",
     "output_type": "stream",
     "text": [
      "Epoch 1/1\n",
      "150000/150000 [==============================] - 5s 31us/step - loss: 0.4493 - acc: 0.8106\n",
      "100000/100000 [==============================] - 0s 3us/step\n"
     ]
    },
    {
     "name": "stderr",
     "output_type": "stream",
     "text": [
      "2018-07-02 15:25:45 | INFO    | automl_libs.base_layer_utils.BaseLayerResultsRepo.add_score            | #292 | nQQC__NN_flight_data_ordinal_layer1 found in repo. Update score from 0 to 0.69634\n",
      "2018-07-02 15:25:45 | DEBUG   | automl_libs.base_layer_utils.BaseLayerResultsRepo.__init__             | #233 | load StackNet saves from file\n",
      "2018-07-02 15:25:45 | INFO    | automl_libs.stacknet.layer1               | #66  | using lgb params: 9lfo to do oof\n",
      "2018-07-02 15:25:45 | DEBUG   | automl_libs.stacknet.layer1               | #67  | {'boosting': 'gbdt', 'num_leaves': 31, 'pred_timespent': '0:00:02', 'objective': 'binary', 'val_auc': 0.7319502357820823, 'timestamp': '2018-07-02 15:24:07', 'feature_fraction_seed': 9776132, 'learning_rate': 0.1, 'bagging_seed': 9776132, 'num_threads': 8, 'cv': True, 'gs_timespent': '0:00:03', 'best_round': 30, 'feature_fraction': 1.0, 'max_depth': -1, 'bagging_freq': 1, 'metric': 'auc', 'min_data_in_leaf': 43, 'bagging_fraction': 0.8, 'scale_pos_weight': 1}\n",
      "2018-07-02 15:25:45 | INFO    | automl_libs.stacknet.layer1               | #66  | using lgb params: tBuQ to do oof\n",
      "2018-07-02 15:25:45 | DEBUG   | automl_libs.stacknet.layer1               | #67  | {'boosting': 'gbdt', 'num_leaves': 15, 'pred_timespent': '0:00:01', 'objective': 'binary', 'val_auc': 0.7281228048447185, 'timestamp': '2018-07-02 15:25:02', 'feature_fraction_seed': 19123441, 'learning_rate': 0.1, 'bagging_seed': 19123441, 'num_threads': 8, 'cv': True, 'gs_timespent': '0:00:03', 'best_round': 30, 'feature_fraction': 1.0, 'max_depth': -1, 'bagging_freq': 1, 'metric': 'auc', 'min_data_in_leaf': 39, 'bagging_fraction': 0.9, 'scale_pos_weight': 1}\n",
      "2018-07-02 15:25:45 | INFO    | automl_libs.stacknet.layer1               | #66  | using lgb params: Jk5W to do oof\n",
      "2018-07-02 15:25:45 | DEBUG   | automl_libs.stacknet.layer1               | #67  | {'boosting': 'gbdt', 'num_leaves': 15, 'pred_timespent': '0:00:01', 'objective': 'binary', 'val_auc': 0.7240560919553249, 'timestamp': '2018-07-02 15:14:07', 'feature_fraction_seed': 43157034, 'learning_rate': 0.1, 'bagging_seed': 43157034, 'num_threads': 8, 'cv': True, 'gs_timespent': '0:00:01', 'best_round': 30, 'feature_fraction': 1.0, 'max_depth': -1, 'bagging_freq': 1, 'metric': 'auc', 'min_data_in_leaf': 42, 'bagging_fraction': 0.5, 'scale_pos_weight': 1}\n",
      "2018-07-02 15:25:45 | INFO    | automl_libs.base_layer_utils.compute_layer1_oof   | #486 | StackNet layer1: label: label    model_data_id: 9lfo__LGB_flight_data_ordinal_layer1\n",
      "2018-07-02 15:25:45 | INFO    | automl_libs.base_layer_utils.get_oof              | #422 | processing fold 1 of 5...\n"
     ]
    },
    {
     "name": "stdout",
     "output_type": "stream",
     "text": [
      "No evaluation set, thus not possible to use early stopping. Please train with your best params.\n",
      "[6]\ttraining's auc: 0.725054\n",
      "[12]\ttraining's auc: 0.738441\n",
      "[18]\ttraining's auc: 0.748578\n",
      "[24]\ttraining's auc: 0.758952\n",
      "[30]\ttraining's auc: 0.768933\n"
     ]
    },
    {
     "name": "stderr",
     "output_type": "stream",
     "text": [
      "2018-07-02 15:25:46 | INFO    | automl_libs.base_layer_utils.get_oof              | #436 | metric of fold 1: 0.7317622354443772\n",
      "2018-07-02 15:25:46 | INFO    | automl_libs.base_layer_utils.get_oof              | #422 | processing fold 2 of 5...\n"
     ]
    },
    {
     "name": "stdout",
     "output_type": "stream",
     "text": [
      "No evaluation set, thus not possible to use early stopping. Please train with your best params.\n",
      "[6]\ttraining's auc: 0.724061\n",
      "[12]\ttraining's auc: 0.736809\n",
      "[18]\ttraining's auc: 0.747599\n",
      "[24]\ttraining's auc: 0.758625\n",
      "[30]\ttraining's auc: 0.76823\n"
     ]
    },
    {
     "name": "stderr",
     "output_type": "stream",
     "text": [
      "2018-07-02 15:25:48 | INFO    | automl_libs.base_layer_utils.get_oof              | #436 | metric of fold 2: 0.733796096259792\n",
      "2018-07-02 15:25:48 | INFO    | automl_libs.base_layer_utils.get_oof              | #422 | processing fold 3 of 5...\n"
     ]
    },
    {
     "name": "stdout",
     "output_type": "stream",
     "text": [
      "No evaluation set, thus not possible to use early stopping. Please train with your best params.\n",
      "[6]\ttraining's auc: 0.724744\n",
      "[12]\ttraining's auc: 0.736911\n",
      "[18]\ttraining's auc: 0.749236\n",
      "[24]\ttraining's auc: 0.7591\n",
      "[30]\ttraining's auc: 0.767531\n"
     ]
    },
    {
     "name": "stderr",
     "output_type": "stream",
     "text": [
      "2018-07-02 15:25:50 | INFO    | automl_libs.base_layer_utils.get_oof              | #436 | metric of fold 3: 0.7323700577339372\n",
      "2018-07-02 15:25:50 | INFO    | automl_libs.base_layer_utils.get_oof              | #422 | processing fold 4 of 5...\n"
     ]
    },
    {
     "name": "stdout",
     "output_type": "stream",
     "text": [
      "No evaluation set, thus not possible to use early stopping. Please train with your best params.\n",
      "[6]\ttraining's auc: 0.723386\n",
      "[12]\ttraining's auc: 0.736238\n",
      "[18]\ttraining's auc: 0.746675\n",
      "[24]\ttraining's auc: 0.757567\n",
      "[30]\ttraining's auc: 0.767439\n"
     ]
    },
    {
     "name": "stderr",
     "output_type": "stream",
     "text": [
      "2018-07-02 15:25:51 | INFO    | automl_libs.base_layer_utils.get_oof              | #436 | metric of fold 4: 0.7334868790225373\n",
      "2018-07-02 15:25:52 | INFO    | automl_libs.base_layer_utils.get_oof              | #422 | processing fold 5 of 5...\n"
     ]
    },
    {
     "name": "stdout",
     "output_type": "stream",
     "text": [
      "No evaluation set, thus not possible to use early stopping. Please train with your best params.\n",
      "[6]\ttraining's auc: 0.722449\n",
      "[12]\ttraining's auc: 0.737047\n",
      "[18]\ttraining's auc: 0.747041\n",
      "[24]\ttraining's auc: 0.758395\n",
      "[30]\ttraining's auc: 0.768156\n"
     ]
    },
    {
     "name": "stderr",
     "output_type": "stream",
     "text": [
      "2018-07-02 15:25:53 | INFO    | automl_libs.base_layer_utils.get_oof              | #436 | metric of fold 5: 0.7323531673005368\n"
     ]
    },
    {
     "name": "stdout",
     "output_type": "stream",
     "text": [
      "No evaluation set, thus not possible to use early stopping. Please train with your best params.\n",
      "[6]\ttraining's auc: 0.72387\n",
      "[12]\ttraining's auc: 0.734927\n",
      "[18]\ttraining's auc: 0.745942\n",
      "[24]\ttraining's auc: 0.754853\n",
      "[30]\ttraining's auc: 0.764156\n"
     ]
    },
    {
     "name": "stderr",
     "output_type": "stream",
     "text": [
      "2018-07-02 15:25:55 | INFO    | automl_libs.base_layer_utils.compute_layer1_oof   | #486 | StackNet layer1: label: label    model_data_id: Jk5W__LGB_flight_data_ordinal_layer1\n",
      "2018-07-02 15:25:55 | INFO    | automl_libs.base_layer_utils.get_oof              | #422 | processing fold 1 of 5...\n"
     ]
    },
    {
     "name": "stdout",
     "output_type": "stream",
     "text": [
      "No evaluation set, thus not possible to use early stopping. Please train with your best params.\n",
      "[6]\ttraining's auc: 0.708058\n",
      "[12]\ttraining's auc: 0.719301\n",
      "[18]\ttraining's auc: 0.728195\n",
      "[24]\ttraining's auc: 0.736708\n",
      "[30]\ttraining's auc: 0.743505\n"
     ]
    },
    {
     "name": "stderr",
     "output_type": "stream",
     "text": [
      "2018-07-02 15:25:57 | INFO    | automl_libs.base_layer_utils.get_oof              | #436 | metric of fold 1: 0.7236938651930507\n",
      "2018-07-02 15:25:57 | INFO    | automl_libs.base_layer_utils.get_oof              | #422 | processing fold 2 of 5...\n"
     ]
    },
    {
     "name": "stdout",
     "output_type": "stream",
     "text": [
      "No evaluation set, thus not possible to use early stopping. Please train with your best params.\n",
      "[6]\ttraining's auc: 0.712044\n",
      "[12]\ttraining's auc: 0.723365\n",
      "[18]\ttraining's auc: 0.730713\n",
      "[24]\ttraining's auc: 0.737724\n",
      "[30]\ttraining's auc: 0.743673\n"
     ]
    },
    {
     "name": "stderr",
     "output_type": "stream",
     "text": [
      "2018-07-02 15:25:58 | INFO    | automl_libs.base_layer_utils.get_oof              | #436 | metric of fold 2: 0.7246665786792688\n",
      "2018-07-02 15:25:58 | INFO    | automl_libs.base_layer_utils.get_oof              | #422 | processing fold 3 of 5...\n"
     ]
    },
    {
     "name": "stdout",
     "output_type": "stream",
     "text": [
      "No evaluation set, thus not possible to use early stopping. Please train with your best params.\n",
      "[6]\ttraining's auc: 0.710988\n",
      "[12]\ttraining's auc: 0.720332\n",
      "[18]\ttraining's auc: 0.728357\n",
      "[24]\ttraining's auc: 0.73663\n",
      "[30]\ttraining's auc: 0.742592\n"
     ]
    },
    {
     "name": "stderr",
     "output_type": "stream",
     "text": [
      "2018-07-02 15:26:00 | INFO    | automl_libs.base_layer_utils.get_oof              | #436 | metric of fold 3: 0.725320446115937\n",
      "2018-07-02 15:26:00 | INFO    | automl_libs.base_layer_utils.get_oof              | #422 | processing fold 4 of 5...\n"
     ]
    },
    {
     "name": "stdout",
     "output_type": "stream",
     "text": [
      "No evaluation set, thus not possible to use early stopping. Please train with your best params.\n",
      "[6]\ttraining's auc: 0.70992\n",
      "[12]\ttraining's auc: 0.720062\n",
      "[18]\ttraining's auc: 0.728691\n",
      "[24]\ttraining's auc: 0.736127\n",
      "[30]\ttraining's auc: 0.74187\n"
     ]
    },
    {
     "name": "stderr",
     "output_type": "stream",
     "text": [
      "2018-07-02 15:26:01 | INFO    | automl_libs.base_layer_utils.get_oof              | #436 | metric of fold 4: 0.7253238235709109\n",
      "2018-07-02 15:26:01 | INFO    | automl_libs.base_layer_utils.get_oof              | #422 | processing fold 5 of 5...\n"
     ]
    },
    {
     "name": "stdout",
     "output_type": "stream",
     "text": [
      "No evaluation set, thus not possible to use early stopping. Please train with your best params.\n",
      "[6]\ttraining's auc: 0.710695\n",
      "[12]\ttraining's auc: 0.722703\n",
      "[18]\ttraining's auc: 0.731759\n",
      "[24]\ttraining's auc: 0.737547\n",
      "[30]\ttraining's auc: 0.743789\n"
     ]
    },
    {
     "name": "stderr",
     "output_type": "stream",
     "text": [
      "2018-07-02 15:26:03 | INFO    | automl_libs.base_layer_utils.get_oof              | #436 | metric of fold 5: 0.7234804120348564\n"
     ]
    },
    {
     "name": "stdout",
     "output_type": "stream",
     "text": [
      "No evaluation set, thus not possible to use early stopping. Please train with your best params.\n",
      "[6]\ttraining's auc: 0.708527\n",
      "[12]\ttraining's auc: 0.72045\n",
      "[18]\ttraining's auc: 0.72925\n",
      "[24]\ttraining's auc: 0.735842\n",
      "[30]\ttraining's auc: 0.741331\n"
     ]
    },
    {
     "name": "stderr",
     "output_type": "stream",
     "text": [
      "2018-07-02 15:26:04 | INFO    | automl_libs.base_layer_utils.compute_layer1_oof   | #486 | StackNet layer1: label: label    model_data_id: tBuQ__LGB_flight_data_ordinal_layer1\n",
      "2018-07-02 15:26:04 | INFO    | automl_libs.base_layer_utils.get_oof              | #422 | processing fold 1 of 5...\n"
     ]
    },
    {
     "name": "stdout",
     "output_type": "stream",
     "text": [
      "No evaluation set, thus not possible to use early stopping. Please train with your best params.\n",
      "[6]\ttraining's auc: 0.711469\n",
      "[12]\ttraining's auc: 0.723029\n",
      "[18]\ttraining's auc: 0.731187\n",
      "[24]\ttraining's auc: 0.74026\n",
      "[30]\ttraining's auc: 0.746728\n"
     ]
    },
    {
     "name": "stderr",
     "output_type": "stream",
     "text": [
      "2018-07-02 15:26:06 | INFO    | automl_libs.base_layer_utils.get_oof              | #436 | metric of fold 1: 0.7268253236833295\n",
      "2018-07-02 15:26:06 | INFO    | automl_libs.base_layer_utils.get_oof              | #422 | processing fold 2 of 5...\n"
     ]
    },
    {
     "name": "stdout",
     "output_type": "stream",
     "text": [
      "No evaluation set, thus not possible to use early stopping. Please train with your best params.\n",
      "[6]\ttraining's auc: 0.713566\n",
      "[12]\ttraining's auc: 0.724196\n",
      "[18]\ttraining's auc: 0.732235\n",
      "[24]\ttraining's auc: 0.740089\n",
      "[30]\ttraining's auc: 0.746325\n"
     ]
    },
    {
     "name": "stderr",
     "output_type": "stream",
     "text": [
      "2018-07-02 15:26:08 | INFO    | automl_libs.base_layer_utils.get_oof              | #436 | metric of fold 2: 0.7289160625688407\n",
      "2018-07-02 15:26:08 | INFO    | automl_libs.base_layer_utils.get_oof              | #422 | processing fold 3 of 5...\n"
     ]
    },
    {
     "name": "stdout",
     "output_type": "stream",
     "text": [
      "No evaluation set, thus not possible to use early stopping. Please train with your best params.\n",
      "[6]\ttraining's auc: 0.710122\n",
      "[12]\ttraining's auc: 0.721403\n",
      "[18]\ttraining's auc: 0.730815\n",
      "[24]\ttraining's auc: 0.739569\n",
      "[30]\ttraining's auc: 0.746022\n"
     ]
    },
    {
     "name": "stderr",
     "output_type": "stream",
     "text": [
      "2018-07-02 15:26:09 | INFO    | automl_libs.base_layer_utils.get_oof              | #436 | metric of fold 3: 0.7275235275403706\n",
      "2018-07-02 15:26:09 | INFO    | automl_libs.base_layer_utils.get_oof              | #422 | processing fold 4 of 5...\n"
     ]
    },
    {
     "name": "stdout",
     "output_type": "stream",
     "text": [
      "No evaluation set, thus not possible to use early stopping. Please train with your best params.\n",
      "[6]\ttraining's auc: 0.710301\n",
      "[12]\ttraining's auc: 0.720856\n",
      "[18]\ttraining's auc: 0.730927\n",
      "[24]\ttraining's auc: 0.738589\n",
      "[30]\ttraining's auc: 0.745962\n"
     ]
    },
    {
     "name": "stderr",
     "output_type": "stream",
     "text": [
      "2018-07-02 15:26:11 | INFO    | automl_libs.base_layer_utils.get_oof              | #436 | metric of fold 4: 0.7298033667113144\n",
      "2018-07-02 15:26:11 | INFO    | automl_libs.base_layer_utils.get_oof              | #422 | processing fold 5 of 5...\n"
     ]
    },
    {
     "name": "stdout",
     "output_type": "stream",
     "text": [
      "No evaluation set, thus not possible to use early stopping. Please train with your best params.\n",
      "[6]\ttraining's auc: 0.710371\n",
      "[12]\ttraining's auc: 0.723025\n",
      "[18]\ttraining's auc: 0.73201\n",
      "[24]\ttraining's auc: 0.739547\n",
      "[30]\ttraining's auc: 0.747181\n"
     ]
    },
    {
     "name": "stderr",
     "output_type": "stream",
     "text": [
      "2018-07-02 15:26:12 | INFO    | automl_libs.base_layer_utils.get_oof              | #436 | metric of fold 5: 0.7257337704551687\n"
     ]
    },
    {
     "name": "stdout",
     "output_type": "stream",
     "text": [
      "No evaluation set, thus not possible to use early stopping. Please train with your best params.\n",
      "[6]\ttraining's auc: 0.713099\n",
      "[12]\ttraining's auc: 0.721388\n",
      "[18]\ttraining's auc: 0.729736\n",
      "[24]\ttraining's auc: 0.737361\n",
      "[30]\ttraining's auc: 0.743827\n"
     ]
    },
    {
     "name": "stderr",
     "output_type": "stream",
     "text": [
      "2018-07-02 15:26:14 | INFO    | automl_libs.base_layer_utils.BaseLayerResultsRepo.add_score            | #292 | 9lfo__LGB_flight_data_ordinal_layer1 found in repo. Update score from 0 to 0.73195\n",
      "2018-07-02 15:26:14 | INFO    | automl_libs.base_layer_utils.BaseLayerResultsRepo.add_score            | #292 | Jk5W__LGB_flight_data_ordinal_layer1 found in repo. Update score from 0 to 0.72406\n",
      "2018-07-02 15:26:14 | INFO    | automl_libs.base_layer_utils.BaseLayerResultsRepo.add_score            | #292 | tBuQ__LGB_flight_data_ordinal_layer1 found in repo. Update score from 0 to 0.72812\n",
      "2018-07-02 15:26:14 | DEBUG   | automl_libs.base_layer_utils.BaseLayerResultsRepo.__init__             | #233 | load StackNet saves from file\n",
      "2018-07-02 15:26:14 | INFO    | automl_libs.stacknet.layer2               | #113 | All available layer1 model_data:\n",
      "2018-07-02 15:26:14 | INFO    | automl_libs.stacknet.layer2               | #114 | [('9lfo__LGB_flight_data_ordinal_layer1', 0.7319502357820823), ('tBuQ__LGB_flight_data_ordinal_layer1', 0.7281228048447185), ('Jk5W__LGB_flight_data_ordinal_layer1', 0.7240560919553249), ('TMr3__LOGREG_layer2', 0.7230235129736983), ('pGgd__LGB_flight_data_ordinal_layer1', 0.7193377061180593), ('RHpG__NN_flight_data_ordinal_layer1', 0.7151772343887557), ('nQQC__NN_flight_data_ordinal_layer1', 0.6963427035174966)]\n",
      "2018-07-02 15:26:14 | INFO    | automl_libs.base_layer_utils.compute_layer2_oof   | #585 | Generating Layer2 model UGhN__LOGREG OOF\n",
      "2018-07-02 15:26:14 | WARNING | automl_libs.base_layer_utils.get_oof              | #417 | warning: x_train is not dataframe, you should NOT use models like LGB and NN where categorical_feature is needed (you are using LogisticRegression)\n",
      "2018-07-02 15:26:14 | INFO    | automl_libs.base_layer_utils.get_oof              | #422 | processing fold 1 of 5...\n",
      "2018-07-02 15:26:15 | INFO    | automl_libs.base_layer_utils.get_oof              | #436 | metric of fold 1: 0.7308293416116877\n",
      "2018-07-02 15:26:15 | WARNING | automl_libs.base_layer_utils.get_oof              | #417 | warning: x_train is not dataframe, you should NOT use models like LGB and NN where categorical_feature is needed (you are using LogisticRegression)\n",
      "2018-07-02 15:26:15 | INFO    | automl_libs.base_layer_utils.get_oof              | #422 | processing fold 2 of 5...\n",
      "2018-07-02 15:26:15 | INFO    | automl_libs.base_layer_utils.get_oof              | #436 | metric of fold 2: 0.7336554450540895\n",
      "2018-07-02 15:26:15 | WARNING | automl_libs.base_layer_utils.get_oof              | #417 | warning: x_train is not dataframe, you should NOT use models like LGB and NN where categorical_feature is needed (you are using LogisticRegression)\n",
      "2018-07-02 15:26:15 | INFO    | automl_libs.base_layer_utils.get_oof              | #422 | processing fold 3 of 5...\n",
      "2018-07-02 15:26:15 | INFO    | automl_libs.base_layer_utils.get_oof              | #436 | metric of fold 3: 0.7289660574620003\n",
      "2018-07-02 15:26:15 | WARNING | automl_libs.base_layer_utils.get_oof              | #417 | warning: x_train is not dataframe, you should NOT use models like LGB and NN where categorical_feature is needed (you are using LogisticRegression)\n",
      "2018-07-02 15:26:15 | INFO    | automl_libs.base_layer_utils.get_oof              | #422 | processing fold 4 of 5...\n",
      "2018-07-02 15:26:15 | INFO    | automl_libs.base_layer_utils.get_oof              | #436 | metric of fold 4: 0.7344406658874673\n",
      "2018-07-02 15:26:15 | WARNING | automl_libs.base_layer_utils.get_oof              | #417 | warning: x_train is not dataframe, you should NOT use models like LGB and NN where categorical_feature is needed (you are using LogisticRegression)\n",
      "2018-07-02 15:26:15 | INFO    | automl_libs.base_layer_utils.get_oof              | #422 | processing fold 5 of 5...\n",
      "2018-07-02 15:26:15 | INFO    | automl_libs.base_layer_utils.get_oof              | #436 | metric of fold 5: 0.7389395229258703\n",
      "2018-07-02 15:26:15 | INFO    | automl_libs.base_layer_utils.BaseLayerResultsRepo.add_score            | #292 | UGhN__LOGREG_layer2 found in repo. Update score from 0 to 0.73337\n",
      "2018-07-02 15:26:15 | INFO    | automl_libs.stacknet.layer2               | #158 | StackNet Report saved at ./output/oof/stacknet_report.csv\n",
      "2018-07-02 15:26:15 | INFO    | automl_app.app.AlphaBoosting.__init__             | #132 | save run record\n",
      "2018-07-02 15:26:15 | INFO    | automl_app.app.AlphaBoosting._save_run_record     | #164 | val index is saved at ./temp_data/val_index.pkl\n",
      "2018-07-02 15:26:15 | INFO    | automl_app.app.AlphaBoosting._save_run_record     | #166 | run record is saved at ./output/last_run_record.json\n"
     ]
    },
    {
     "data": {
      "text/plain": [
       "<automl_app.app.AlphaBoosting at 0x7f4e6294ecc0>"
      ]
     },
     "execution_count": 10,
     "metadata": {},
     "output_type": "execute_result"
    }
   ],
   "source": [
    "from automl_app.app import AlphaBoosting\n",
    "\n",
    "automl_config_file = project_path + 'automl_config.json'\n",
    "run_record_file_name = project_path + 'last_run_record.json' # don't created this file\n",
    "AlphaBoosting(automl_config_file, features_to_gen, gs_params_gen)"
   ]
  },
  {
   "cell_type": "code",
   "execution_count": null,
   "metadata": {},
   "outputs": [],
   "source": []
  }
 ],
 "metadata": {
  "kernelspec": {
   "display_name": "Python 3.5 (tf_gpu)",
   "language": "python",
   "name": "tf_gpu"
  },
  "language_info": {
   "codemirror_mode": {
    "name": "ipython",
    "version": 3
   },
   "file_extension": ".py",
   "mimetype": "text/x-python",
   "name": "python",
   "nbconvert_exporter": "python",
   "pygments_lexer": "ipython3",
   "version": "3.5.5"
  },
  "varInspector": {
   "cols": {
    "lenName": 16,
    "lenType": 16,
    "lenVar": 40
   },
   "kernels_config": {
    "python": {
     "delete_cmd_postfix": "",
     "delete_cmd_prefix": "del ",
     "library": "var_list.py",
     "varRefreshCmd": "print(var_dic_list())"
    },
    "r": {
     "delete_cmd_postfix": ") ",
     "delete_cmd_prefix": "rm(",
     "library": "var_list.r",
     "varRefreshCmd": "cat(var_dic_list()) "
    }
   },
   "types_to_exclude": [
    "module",
    "function",
    "builtin_function_or_method",
    "instance",
    "_Feature"
   ],
   "window_display": false
  }
 },
 "nbformat": 4,
 "nbformat_minor": 2
}
