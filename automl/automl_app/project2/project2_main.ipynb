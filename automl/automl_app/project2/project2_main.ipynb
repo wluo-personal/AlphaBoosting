{
 "cells": [
  {
   "cell_type": "code",
   "execution_count": 1,
   "metadata": {
    "ExecuteTime": {
     "end_time": "2018-07-01T17:19:12.302670Z",
     "start_time": "2018-07-01T17:19:12.280856Z"
    }
   },
   "outputs": [
    {
     "name": "stdout",
     "output_type": "stream",
     "text": [
      "['', '/home/kai/anaconda3/envs/tf_gpu/lib/python35.zip', '/home/kai/anaconda3/envs/tf_gpu/lib/python3.5', '/home/kai/anaconda3/envs/tf_gpu/lib/python3.5/plat-linux', '/home/kai/anaconda3/envs/tf_gpu/lib/python3.5/lib-dynload', '/home/kai/.local/lib/python3.5/site-packages', '/home/kai/anaconda3/envs/tf_gpu/lib/python3.5/site-packages', '/home/kai/anaconda3/envs/tf_gpu/lib/python3.5/site-packages/IPython/extensions', '/home/kai/.ipython', '/home/kai/data/shiyi/AlphaBoosting/automl']\n"
     ]
    }
   ],
   "source": [
    "import os\n",
    "import sys\n",
    "#nb_dir = os.path.split(os.getcwd())[0]\n",
    "#if nb_dir not in sys.path:\n",
    "#    sys.path.append(nb_dir)\n",
    "    \n",
    "autolib_dir = '/home/kai/data/shiyi/AlphaBoosting/automl'\n",
    "if autolib_dir not in sys.path:\n",
    "    sys.path.append(autolib_dir)\n",
    "\n",
    "print(sys.path)\n",
    "\n",
    "%load_ext autoreload\n",
    "%autoreload 2"
   ]
  },
  {
   "cell_type": "code",
   "execution_count": 2,
   "metadata": {
    "ExecuteTime": {
     "end_time": "2018-07-01T17:19:13.352030Z",
     "start_time": "2018-07-01T17:19:12.304734Z"
    }
   },
   "outputs": [
    {
     "name": "stderr",
     "output_type": "stream",
     "text": [
      "/home/kai/anaconda3/envs/tf_gpu/lib/python3.5/site-packages/h5py/__init__.py:36: FutureWarning: Conversion of the second argument of issubdtype from `float` to `np.floating` is deprecated. In future, it will be treated as `np.float64 == np.dtype(float).type`.\n",
      "  from ._conv import register_converters as _register_converters\n",
      "Using TensorFlow backend.\n"
     ]
    }
   ],
   "source": [
    "from automl_libs import base_layer_utils, stacknet\n",
    "from automl_libs import feature_engineering as fe\n",
    "from automl_libs import encoding, kernels, nn_libs "
   ]
  },
  {
   "cell_type": "code",
   "execution_count": 3,
   "metadata": {
    "ExecuteTime": {
     "end_time": "2018-07-01T17:19:13.371249Z",
     "start_time": "2018-07-01T17:19:13.354128Z"
    }
   },
   "outputs": [],
   "source": [
    "categorical_features = ['Month', 'DayofMonth', 'DayOfWeek', 'DepTime', 'UniqueCarrier', 'Origin', 'Dest', 'Distance']"
   ]
  },
  {
   "cell_type": "code",
   "execution_count": 4,
   "metadata": {
    "ExecuteTime": {
     "end_time": "2018-07-01T17:19:13.400287Z",
     "start_time": "2018-07-01T17:19:13.372770Z"
    }
   },
   "outputs": [
    {
     "data": {
      "text/plain": [
       "[{'feature_cols': ['Month', 'DayofMonth'],\n",
       "  'function': <function automl_libs.feature_engineering.count(df, cols, dummy_col, generated_feature_name, params=None)>,\n",
       "  'params': {}},\n",
       " {'feature_cols': ['Month', 'DayOfWeek'],\n",
       "  'function': <function automl_libs.feature_engineering.count(df, cols, dummy_col, generated_feature_name, params=None)>,\n",
       "  'params': {}},\n",
       " {'feature_cols': ['Month', 'DepTime'],\n",
       "  'function': <function automl_libs.feature_engineering.count(df, cols, dummy_col, generated_feature_name, params=None)>,\n",
       "  'params': {}},\n",
       " {'feature_cols': ['Month', 'UniqueCarrier'],\n",
       "  'function': <function automl_libs.feature_engineering.count(df, cols, dummy_col, generated_feature_name, params=None)>,\n",
       "  'params': {}},\n",
       " {'feature_cols': ['Month', 'Origin'],\n",
       "  'function': <function automl_libs.feature_engineering.count(df, cols, dummy_col, generated_feature_name, params=None)>,\n",
       "  'params': {}},\n",
       " {'feature_cols': ['Month', 'Dest'],\n",
       "  'function': <function automl_libs.feature_engineering.count(df, cols, dummy_col, generated_feature_name, params=None)>,\n",
       "  'params': {}},\n",
       " {'feature_cols': ['Month', 'Distance'],\n",
       "  'function': <function automl_libs.feature_engineering.count(df, cols, dummy_col, generated_feature_name, params=None)>,\n",
       "  'params': {}},\n",
       " {'feature_cols': ['DayofMonth', 'DayOfWeek'],\n",
       "  'function': <function automl_libs.feature_engineering.count(df, cols, dummy_col, generated_feature_name, params=None)>,\n",
       "  'params': {}},\n",
       " {'feature_cols': ['DayofMonth', 'DepTime'],\n",
       "  'function': <function automl_libs.feature_engineering.count(df, cols, dummy_col, generated_feature_name, params=None)>,\n",
       "  'params': {}},\n",
       " {'feature_cols': ['DayofMonth', 'UniqueCarrier'],\n",
       "  'function': <function automl_libs.feature_engineering.count(df, cols, dummy_col, generated_feature_name, params=None)>,\n",
       "  'params': {}},\n",
       " {'feature_cols': ['DayofMonth', 'Origin'],\n",
       "  'function': <function automl_libs.feature_engineering.count(df, cols, dummy_col, generated_feature_name, params=None)>,\n",
       "  'params': {}},\n",
       " {'feature_cols': ['DayofMonth', 'Dest'],\n",
       "  'function': <function automl_libs.feature_engineering.count(df, cols, dummy_col, generated_feature_name, params=None)>,\n",
       "  'params': {}},\n",
       " {'feature_cols': ['DayofMonth', 'Distance'],\n",
       "  'function': <function automl_libs.feature_engineering.count(df, cols, dummy_col, generated_feature_name, params=None)>,\n",
       "  'params': {}},\n",
       " {'feature_cols': ['DayOfWeek', 'DepTime'],\n",
       "  'function': <function automl_libs.feature_engineering.count(df, cols, dummy_col, generated_feature_name, params=None)>,\n",
       "  'params': {}},\n",
       " {'feature_cols': ['DayOfWeek', 'UniqueCarrier'],\n",
       "  'function': <function automl_libs.feature_engineering.count(df, cols, dummy_col, generated_feature_name, params=None)>,\n",
       "  'params': {}},\n",
       " {'feature_cols': ['DayOfWeek', 'Origin'],\n",
       "  'function': <function automl_libs.feature_engineering.count(df, cols, dummy_col, generated_feature_name, params=None)>,\n",
       "  'params': {}},\n",
       " {'feature_cols': ['DayOfWeek', 'Dest'],\n",
       "  'function': <function automl_libs.feature_engineering.count(df, cols, dummy_col, generated_feature_name, params=None)>,\n",
       "  'params': {}},\n",
       " {'feature_cols': ['DayOfWeek', 'Distance'],\n",
       "  'function': <function automl_libs.feature_engineering.count(df, cols, dummy_col, generated_feature_name, params=None)>,\n",
       "  'params': {}},\n",
       " {'feature_cols': ['DepTime', 'UniqueCarrier'],\n",
       "  'function': <function automl_libs.feature_engineering.count(df, cols, dummy_col, generated_feature_name, params=None)>,\n",
       "  'params': {}},\n",
       " {'feature_cols': ['DepTime', 'Origin'],\n",
       "  'function': <function automl_libs.feature_engineering.count(df, cols, dummy_col, generated_feature_name, params=None)>,\n",
       "  'params': {}},\n",
       " {'feature_cols': ['DepTime', 'Dest'],\n",
       "  'function': <function automl_libs.feature_engineering.count(df, cols, dummy_col, generated_feature_name, params=None)>,\n",
       "  'params': {}},\n",
       " {'feature_cols': ['DepTime', 'Distance'],\n",
       "  'function': <function automl_libs.feature_engineering.count(df, cols, dummy_col, generated_feature_name, params=None)>,\n",
       "  'params': {}},\n",
       " {'feature_cols': ['UniqueCarrier', 'Origin'],\n",
       "  'function': <function automl_libs.feature_engineering.count(df, cols, dummy_col, generated_feature_name, params=None)>,\n",
       "  'params': {}},\n",
       " {'feature_cols': ['UniqueCarrier', 'Dest'],\n",
       "  'function': <function automl_libs.feature_engineering.count(df, cols, dummy_col, generated_feature_name, params=None)>,\n",
       "  'params': {}},\n",
       " {'feature_cols': ['UniqueCarrier', 'Distance'],\n",
       "  'function': <function automl_libs.feature_engineering.count(df, cols, dummy_col, generated_feature_name, params=None)>,\n",
       "  'params': {}},\n",
       " {'feature_cols': ['Origin', 'Dest'],\n",
       "  'function': <function automl_libs.feature_engineering.count(df, cols, dummy_col, generated_feature_name, params=None)>,\n",
       "  'params': {}},\n",
       " {'feature_cols': ['Origin', 'Distance'],\n",
       "  'function': <function automl_libs.feature_engineering.count(df, cols, dummy_col, generated_feature_name, params=None)>,\n",
       "  'params': {}},\n",
       " {'feature_cols': ['Dest', 'Distance'],\n",
       "  'function': <function automl_libs.feature_engineering.count(df, cols, dummy_col, generated_feature_name, params=None)>,\n",
       "  'params': {}}]"
      ]
     },
     "execution_count": 4,
     "metadata": {},
     "output_type": "execute_result"
    }
   ],
   "source": [
    "import itertools\n",
    "#params = {'split_col': 't', 'coefficient': 10, 'n': 2, 'fillna': 22}\n",
    "def get_features_to_gen(function_list, low, high):\n",
    "    features_to_gen = []\n",
    "    for function in function_list:\n",
    "        for i in range(low, high+1):\n",
    "            for combine in itertools.combinations(categorical_features, i):\n",
    "                if function.__name__ == 'count_std_over_mean':\n",
    "                    features_to_gen.append({'params': {'coefficient': 10}, 'function': function, 'feature_cols': list(combine)})\n",
    "                else:\n",
    "                    features_to_gen.append({'params': {}, 'function': function, 'feature_cols': list(combine)})\n",
    "                \n",
    "    return features_to_gen\n",
    "\n",
    "# features_to_gen = get_features_to_gen([fe.count, fe.unique_count, \n",
    "#                                        fe.cumulative_count, \n",
    "#                                        fe.reverse_cumulative_count, \n",
    "#                                        fe.variance, fe.count_std_over_mean], \n",
    "#                                       2, 2)# len(categorical_features))\n",
    "# features_to_gen = get_features_to_gen([fe.count, fe.unique_count, fe.cumulative_count])\n",
    "features_to_gen = get_features_to_gen([fe.count], 2, 2)#len(categorical_features))\n",
    "\n",
    "features_to_gen"
   ]
  },
  {
   "cell_type": "code",
   "execution_count": 5,
   "metadata": {
    "ExecuteTime": {
     "end_time": "2018-07-01T17:19:13.419361Z",
     "start_time": "2018-07-01T17:19:13.401505Z"
    }
   },
   "outputs": [
    {
     "data": {
      "text/plain": [
       "28"
      ]
     },
     "execution_count": 5,
     "metadata": {},
     "output_type": "execute_result"
    }
   ],
   "source": [
    "len(features_to_gen)"
   ]
  },
  {
   "cell_type": "code",
   "execution_count": 6,
   "metadata": {
    "ExecuteTime": {
     "end_time": "2018-07-01T17:19:13.437453Z",
     "start_time": "2018-07-01T17:19:13.420778Z"
    }
   },
   "outputs": [],
   "source": [
    "project_path = '/home/kai/data/shiyi/AlphaBoosting/automl/automl_app/project2/' "
   ]
  },
  {
   "cell_type": "code",
   "execution_count": 7,
   "metadata": {
    "ExecuteTime": {
     "end_time": "2018-07-01T17:19:13.456686Z",
     "start_time": "2018-07-01T17:19:13.438853Z"
    }
   },
   "outputs": [],
   "source": [
    "from automl_app import logger_config\n",
    "\n",
    "logger_config.config(project_path+'log_project2.log')"
   ]
  },
  {
   "cell_type": "code",
   "execution_count": 8,
   "metadata": {
    "ExecuteTime": {
     "end_time": "2018-07-01T17:19:13.483591Z",
     "start_time": "2018-07-01T17:19:13.458280Z"
    }
   },
   "outputs": [],
   "source": [
    "def gs_params_gen(model='lgb'):\n",
    "    import time\n",
    "    import numpy as np\n",
    "    seed = int(time.time()* 1000000) % 45234634\n",
    "    np.random.seed(seed)\n",
    "    if model == 'lgb':\n",
    "        params = {    \n",
    "            'objective': 'binary',\n",
    "            'boosting': 'gbdt',\n",
    "            'num_boost_round': 30, # ignored in params. extract it and put it in input arguments in train or cv explicitly\n",
    "                                   # seems to work fine as the upper limit when combined with early_stopping_round\n",
    "            'learning_rate': np.random.choice([0.1,0.03]),#0.001]),\n",
    "            'num_leaves': np.random.choice([15,31]),#,61,127]),\n",
    "            'num_threads': 8, # best speed: set to number of real cpu cores, which is vCPU/2\n",
    "            'max_depth': -1, # no limit. This is used to deal with over-fitting when #data is small.\n",
    "            'min_data_in_leaf': np.random.randint(20,50),  #minimal number of data in one leaf. \n",
    "            'feature_fraction': np.random.randint(9,11)/10,\n",
    "            'feature_fraction_seed': seed,\n",
    "            'early_stopping_round':10,\n",
    "            'bagging_freq': 1, #0 means disable bagging. k: perform bagging at every k iteration\n",
    "            'bagging_fraction': np.random.randint(4,11)/10, #Randomly select part of data \n",
    "            'bagging_seed': seed,\n",
    "            'scale_pos_weight': 1,\n",
    "            'metric': 'auc' \n",
    "        }\n",
    "    elif model == 'nn':\n",
    "        params = {\n",
    "            'nn_seed': int(time.time() * 1000000) % 45234634,\n",
    "            'ep_for_lr': 1,\n",
    "            'lr_init': 0.01,\n",
    "            'lr_fin': 0.005, # if == lr_init, then no lr decay\n",
    "            'batch_size': np.random.choice([32, 64, 128, 256, 512, 1024, 2048]),\n",
    "            \"pred_batch_size\": 100000,\n",
    "            'max_ep': 1,\n",
    "            'patience': 1,\n",
    "            'cat_emb_outdim': 50, # could be a constant or a dict (col name:embed out dim). e.g.:\n",
    "                                  # embed_outdim = [3, 3, 8, 8, 3]\n",
    "                                  # embed_outdim_dict = dict(zip(X_train.columns.values, embed_outdim))\n",
    "            'dense_units': 100,\n",
    "            'num_dense_n_layers': 1,\n",
    "            'drop_rate': 0.2,\n",
    "            'combined_dense_n_layers': 2,\n",
    "            'monitor': 'val_auc',  # or val_loss (MUST HAVE)\n",
    "            'mode': 'max'  # MUST HAVE\n",
    "        }\n",
    "    return params, seed"
   ]
  },
  {
   "cell_type": "code",
   "execution_count": 9,
   "metadata": {
    "ExecuteTime": {
     "end_time": "2018-07-01T17:19:13.502996Z",
     "start_time": "2018-07-01T17:19:13.485179Z"
    }
   },
   "outputs": [
    {
     "data": {
      "text/plain": [
       "({'batch_size': 1024,\n",
       "  'cat_emb_outdim': 50,\n",
       "  'combined_dense_n_layers': 2,\n",
       "  'dense_units': 100,\n",
       "  'drop_rate': 0.2,\n",
       "  'ep_for_lr': 1,\n",
       "  'lr_fin': 0.005,\n",
       "  'lr_init': 0.01,\n",
       "  'max_ep': 1,\n",
       "  'mode': 'max',\n",
       "  'monitor': 'val_auc',\n",
       "  'nn_seed': 22699512,\n",
       "  'num_dense_n_layers': 1,\n",
       "  'patience': 1,\n",
       "  'pred_batch_size': 100000},\n",
       " 22699504)"
      ]
     },
     "execution_count": 9,
     "metadata": {},
     "output_type": "execute_result"
    }
   ],
   "source": [
    "gs_params_gen('nn')"
   ]
  },
  {
   "cell_type": "code",
   "execution_count": 14,
   "metadata": {
    "ExecuteTime": {
     "end_time": "2018-07-01T17:34:24.765328Z",
     "start_time": "2018-07-01T17:27:27.055024Z"
    },
    "scrolled": false
   },
   "outputs": [
    {
     "name": "stderr",
     "output_type": "stream",
     "text": [
      "2018-07-01 13:27:27 | INFO  | automl_app.app.AlphaBoosting  | __init__   | #66  | Run record file [./output/last_run_record.json] found. Continue from the previous run...\n",
      "2018-07-01 13:27:27 | INFO  | automl_app.app.AlphaBoosting  | __init__   | #95  | generate todo list\n",
      "2018-07-01 13:27:27 | INFO  | automl_app.app.AlphaBoosting  | __init__   | #111 | STAGE: FEATURE_ENGINEERING\n",
      "2018-07-01 13:27:27 | INFO  | automl_app.app.AlphaBoosting  | __init__   | #115 | STAGE: VALIDATION_DOWNSAMPLING_GEN\n",
      "2018-07-01 13:27:27 | INFO  | automl_app.app.AlphaBoosting  | __init__   | #119 | STAGE: CONCAT_DATA\n",
      "2018-07-01 13:27:27 | INFO  | automl_app.app.AlphaBoosting  | __init__   | #123 | STAGE: GRID_SEARCH\n",
      "2018-07-01 13:27:27 | INFO  | automl_app.app.AlphaBoosting  | __init__   | #127 | STAGE: STACKNET\n",
      "2018-07-01 13:27:27 | DEBUG | automl_libs.stacknet          | layer1     | #37  | data_id: flight_data_ordinal  \n",
      "\tx_train: (300000, 36)\tx_test: (100000, 36)\n",
      "\ty_train type: <class 'dict'>\n",
      "\tcompatible_models: {'LGB', 'NN'}\n",
      " \n",
      "2018-07-01 13:27:27 | DEBUG | automl_libs.base_layer_utils.BaseLayerResultsRepo| __init__   | #233 | load StackNet saves from file\n",
      "2018-07-01 13:27:27 | DEBUG | automl_libs.stacknet          | layer1     | #66  | using nn params: 1rso to do oof\n",
      "2018-07-01 13:27:27 | DEBUG | automl_libs.stacknet          | layer1     | #67  | {'batch_size': 64, 'pred_batch_size': 100000, 'trn_loss': 0.4570201244831085, 'pred_timespent': '0:00:00', 'dense_units': 100, 'gs_timespent': '0:00:33', 'max_ep': 1, 'drop_rate': 0.2, 'best_epoch': 1, 'trn_acc': 0.80802, 'timestamp': '2018-07-01 13:26:03', 'val_loss': 0.4393080756378174, 'ep_for_lr': 1, 'lr_fin': 0.005, 'val_auc': 0.7207118029835866, 'monitor': 'val_auc', 'lr_init': 0.01, 'val_acc': 0.812235, 'num_dense_n_layers': 1, 'mode': 'max', 'combined_dense_n_layers': 2, 'cat_emb_outdim': 50, 'nn_seed': 25288218, 'patience': 1}\n",
      "2018-07-01 13:27:27 | DEBUG | automl_libs.stacknet          | layer1     | #66  | using nn params: t5uq to do oof\n",
      "2018-07-01 13:27:27 | DEBUG | automl_libs.stacknet          | layer1     | #67  | {'batch_size': 256, 'pred_batch_size': 100000, 'trn_loss': 0.454579468164444, 'pred_timespent': '0:00:00', 'dense_units': 100, 'gs_timespent': '0:00:10', 'max_ep': 1, 'drop_rate': 0.2, 'best_epoch': 1, 'trn_acc': 0.8094300000190735, 'timestamp': '2018-07-01 13:26:36', 'val_loss': 0.4396171481513977, 'ep_for_lr': 1, 'lr_fin': 0.005, 'val_auc': 0.7221469783812381, 'monitor': 'val_auc', 'lr_init': 0.01, 'val_acc': 0.8127850000000001, 'num_dense_n_layers': 1, 'mode': 'max', 'combined_dense_n_layers': 2, 'cat_emb_outdim': 50, 'nn_seed': 13393763, 'patience': 1}\n",
      "2018-07-01 13:27:27 | DEBUG | automl_libs.base_layer_utils  | compute_layer1_oof | #486 | Computing layer1: label: label    model_data_id: 1rso__NN_flight_data_ordinal_layer1\n",
      "2018-07-01 13:27:27 | DEBUG | automl_libs.base_layer_utils  | get_oof    | #422 | processing fold 0 of 5...\n",
      "2018-07-01 13:27:27 | DEBUG | automl_libs.nn_libs           | get_model  | #57  | Col [DayofMonth]: embed dim: input 32, output 32\n",
      "2018-07-01 13:27:27 | DEBUG | automl_libs.nn_libs           | get_model  | #57  | Col [UniqueCarrier]: embed dim: input 23, output 23\n",
      "2018-07-01 13:27:27 | DEBUG | automl_libs.nn_libs           | get_model  | #57  | Col [Dest]: embed dim: input 293, output 50\n",
      "2018-07-01 13:27:27 | DEBUG | automl_libs.nn_libs           | get_model  | #57  | Col [Origin]: embed dim: input 292, output 50\n",
      "2018-07-01 13:27:27 | DEBUG | automl_libs.nn_libs           | get_model  | #57  | Col [DepTime]: embed dim: input 27, output 27\n",
      "2018-07-01 13:27:27 | DEBUG | automl_libs.nn_libs           | get_model  | #57  | Col [Month]: embed dim: input 13, output 13\n",
      "2018-07-01 13:27:27 | DEBUG | automl_libs.nn_libs           | get_model  | #57  | Col [DayOfWeek]: embed dim: input 8, output 8\n",
      "2018-07-01 13:27:27 | DEBUG | automl_libs.nn_libs           | get_model  | #57  | Col [Distance]: embed dim: input 10, output 10\n",
      "2018-07-01 13:27:27 | DEBUG | automl_libs.nn_libs           | get_model  | #103 | steps in on epoch: 3749\n",
      "2018-07-01 13:27:27 | DEBUG | automl_libs.nn_libs           | get_model  | #104 | steps for lr decay: 3749\n",
      "2018-07-01 13:27:27 | DEBUG | automl_libs.nn_libs           | get_model  | #105 | lr decay: 0.000185\n"
     ]
    },
    {
     "name": "stdout",
     "output_type": "stream",
     "text": [
      "Train on 239999 samples, validate on 60001 samples\n",
      "Epoch 1/1\n",
      "239999/239999 [==============================] - 50s 207us/step - loss: 0.4513 - acc: 0.8097 - val_loss: 0.4395 - val_acc: 0.8127\n",
      "60001/60001 [==============================] - 0s 2us/step\n",
      "100000/100000 [==============================] - 0s 1us/step\n"
     ]
    },
    {
     "name": "stderr",
     "output_type": "stream",
     "text": [
      "2018-07-01 13:28:18 | DEBUG | automl_libs.base_layer_utils  | get_oof    | #436 | metric of fold 0: 0.7206425395821879\n",
      "2018-07-01 13:28:18 | DEBUG | automl_libs.base_layer_utils  | get_oof    | #422 | processing fold 1 of 5...\n",
      "2018-07-01 13:28:18 | DEBUG | automl_libs.nn_libs           | get_model  | #57  | Col [DayofMonth]: embed dim: input 32, output 32\n",
      "2018-07-01 13:28:18 | DEBUG | automl_libs.nn_libs           | get_model  | #57  | Col [UniqueCarrier]: embed dim: input 23, output 23\n",
      "2018-07-01 13:28:18 | DEBUG | automl_libs.nn_libs           | get_model  | #57  | Col [Dest]: embed dim: input 293, output 50\n",
      "2018-07-01 13:28:18 | DEBUG | automl_libs.nn_libs           | get_model  | #57  | Col [Origin]: embed dim: input 292, output 50\n",
      "2018-07-01 13:28:18 | DEBUG | automl_libs.nn_libs           | get_model  | #57  | Col [DepTime]: embed dim: input 27, output 27\n",
      "2018-07-01 13:28:18 | DEBUG | automl_libs.nn_libs           | get_model  | #57  | Col [Month]: embed dim: input 13, output 13\n",
      "2018-07-01 13:28:18 | DEBUG | automl_libs.nn_libs           | get_model  | #57  | Col [DayOfWeek]: embed dim: input 8, output 8\n",
      "2018-07-01 13:28:18 | DEBUG | automl_libs.nn_libs           | get_model  | #57  | Col [Distance]: embed dim: input 10, output 10\n",
      "2018-07-01 13:28:18 | DEBUG | automl_libs.nn_libs           | get_model  | #103 | steps in on epoch: 3749\n",
      "2018-07-01 13:28:18 | DEBUG | automl_libs.nn_libs           | get_model  | #104 | steps for lr decay: 3749\n",
      "2018-07-01 13:28:18 | DEBUG | automl_libs.nn_libs           | get_model  | #105 | lr decay: 0.000185\n"
     ]
    },
    {
     "name": "stdout",
     "output_type": "stream",
     "text": [
      "Train on 239999 samples, validate on 60001 samples\n",
      "Epoch 1/1\n",
      "239999/239999 [==============================] - 50s 210us/step - loss: 0.4522 - acc: 0.8093 - val_loss: 0.4412 - val_acc: 0.8102\n",
      "60001/60001 [==============================] - 0s 3us/step\n",
      "100000/100000 [==============================] - 0s 1us/step\n"
     ]
    },
    {
     "name": "stderr",
     "output_type": "stream",
     "text": [
      "2018-07-01 13:29:09 | DEBUG | automl_libs.base_layer_utils  | get_oof    | #436 | metric of fold 1: 0.7236169933413942\n",
      "2018-07-01 13:29:09 | DEBUG | automl_libs.base_layer_utils  | get_oof    | #422 | processing fold 2 of 5...\n",
      "2018-07-01 13:29:09 | DEBUG | automl_libs.nn_libs           | get_model  | #57  | Col [DayofMonth]: embed dim: input 32, output 32\n",
      "2018-07-01 13:29:09 | DEBUG | automl_libs.nn_libs           | get_model  | #57  | Col [UniqueCarrier]: embed dim: input 23, output 23\n",
      "2018-07-01 13:29:09 | DEBUG | automl_libs.nn_libs           | get_model  | #57  | Col [Dest]: embed dim: input 293, output 50\n",
      "2018-07-01 13:29:09 | DEBUG | automl_libs.nn_libs           | get_model  | #57  | Col [Origin]: embed dim: input 292, output 50\n",
      "2018-07-01 13:29:09 | DEBUG | automl_libs.nn_libs           | get_model  | #57  | Col [DepTime]: embed dim: input 27, output 27\n",
      "2018-07-01 13:29:09 | DEBUG | automl_libs.nn_libs           | get_model  | #57  | Col [Month]: embed dim: input 13, output 13\n",
      "2018-07-01 13:29:09 | DEBUG | automl_libs.nn_libs           | get_model  | #57  | Col [DayOfWeek]: embed dim: input 8, output 8\n",
      "2018-07-01 13:29:09 | DEBUG | automl_libs.nn_libs           | get_model  | #57  | Col [Distance]: embed dim: input 10, output 10\n",
      "2018-07-01 13:29:09 | DEBUG | automl_libs.nn_libs           | get_model  | #103 | steps in on epoch: 3750\n",
      "2018-07-01 13:29:09 | DEBUG | automl_libs.nn_libs           | get_model  | #104 | steps for lr decay: 3750\n",
      "2018-07-01 13:29:09 | DEBUG | automl_libs.nn_libs           | get_model  | #105 | lr decay: 0.000185\n"
     ]
    },
    {
     "name": "stdout",
     "output_type": "stream",
     "text": [
      "Train on 240000 samples, validate on 60000 samples\n",
      "Epoch 1/1\n",
      "240000/240000 [==============================] - 50s 209us/step - loss: 0.4514 - acc: 0.8098 - val_loss: 0.4342 - val_acc: 0.8156\n",
      "60000/60000 [==============================] - 0s 3us/step\n",
      "100000/100000 [==============================] - 0s 1us/step\n"
     ]
    },
    {
     "name": "stderr",
     "output_type": "stream",
     "text": [
      "2018-07-01 13:30:00 | DEBUG | automl_libs.base_layer_utils  | get_oof    | #436 | metric of fold 2: 0.7281751232504379\n",
      "2018-07-01 13:30:00 | DEBUG | automl_libs.base_layer_utils  | get_oof    | #422 | processing fold 3 of 5...\n",
      "2018-07-01 13:30:00 | DEBUG | automl_libs.nn_libs           | get_model  | #57  | Col [DayofMonth]: embed dim: input 32, output 32\n",
      "2018-07-01 13:30:00 | DEBUG | automl_libs.nn_libs           | get_model  | #57  | Col [UniqueCarrier]: embed dim: input 23, output 23\n",
      "2018-07-01 13:30:01 | DEBUG | automl_libs.nn_libs           | get_model  | #57  | Col [Dest]: embed dim: input 293, output 50\n",
      "2018-07-01 13:30:01 | DEBUG | automl_libs.nn_libs           | get_model  | #57  | Col [Origin]: embed dim: input 292, output 50\n",
      "2018-07-01 13:30:01 | DEBUG | automl_libs.nn_libs           | get_model  | #57  | Col [DepTime]: embed dim: input 27, output 27\n",
      "2018-07-01 13:30:01 | DEBUG | automl_libs.nn_libs           | get_model  | #57  | Col [Month]: embed dim: input 13, output 13\n",
      "2018-07-01 13:30:01 | DEBUG | automl_libs.nn_libs           | get_model  | #57  | Col [DayOfWeek]: embed dim: input 8, output 8\n",
      "2018-07-01 13:30:01 | DEBUG | automl_libs.nn_libs           | get_model  | #57  | Col [Distance]: embed dim: input 10, output 10\n",
      "2018-07-01 13:30:01 | DEBUG | automl_libs.nn_libs           | get_model  | #103 | steps in on epoch: 3750\n",
      "2018-07-01 13:30:01 | DEBUG | automl_libs.nn_libs           | get_model  | #104 | steps for lr decay: 3750\n",
      "2018-07-01 13:30:01 | DEBUG | automl_libs.nn_libs           | get_model  | #105 | lr decay: 0.000185\n"
     ]
    },
    {
     "name": "stdout",
     "output_type": "stream",
     "text": [
      "Train on 240001 samples, validate on 59999 samples\n",
      "Epoch 1/1\n",
      "240001/240001 [==============================] - 51s 211us/step - loss: 0.4512 - acc: 0.8094 - val_loss: 0.4405 - val_acc: 0.8124\n",
      "59999/59999 [==============================] - 0s 4us/step\n",
      "100000/100000 [==============================] - 0s 1us/step\n"
     ]
    },
    {
     "name": "stderr",
     "output_type": "stream",
     "text": [
      "2018-07-01 13:30:52 | DEBUG | automl_libs.base_layer_utils  | get_oof    | #436 | metric of fold 3: 0.7214910996778279\n",
      "2018-07-01 13:30:52 | DEBUG | automl_libs.base_layer_utils  | get_oof    | #422 | processing fold 4 of 5...\n",
      "2018-07-01 13:30:52 | DEBUG | automl_libs.nn_libs           | get_model  | #57  | Col [DayofMonth]: embed dim: input 32, output 32\n",
      "2018-07-01 13:30:52 | DEBUG | automl_libs.nn_libs           | get_model  | #57  | Col [UniqueCarrier]: embed dim: input 23, output 23\n",
      "2018-07-01 13:30:52 | DEBUG | automl_libs.nn_libs           | get_model  | #57  | Col [Dest]: embed dim: input 293, output 50\n",
      "2018-07-01 13:30:52 | DEBUG | automl_libs.nn_libs           | get_model  | #57  | Col [Origin]: embed dim: input 292, output 50\n",
      "2018-07-01 13:30:52 | DEBUG | automl_libs.nn_libs           | get_model  | #57  | Col [DepTime]: embed dim: input 27, output 27\n",
      "2018-07-01 13:30:52 | DEBUG | automl_libs.nn_libs           | get_model  | #57  | Col [Month]: embed dim: input 13, output 13\n",
      "2018-07-01 13:30:52 | DEBUG | automl_libs.nn_libs           | get_model  | #57  | Col [DayOfWeek]: embed dim: input 8, output 8\n",
      "2018-07-01 13:30:52 | DEBUG | automl_libs.nn_libs           | get_model  | #57  | Col [Distance]: embed dim: input 10, output 10\n",
      "2018-07-01 13:30:52 | DEBUG | automl_libs.nn_libs           | get_model  | #103 | steps in on epoch: 3750\n",
      "2018-07-01 13:30:52 | DEBUG | automl_libs.nn_libs           | get_model  | #104 | steps for lr decay: 3750\n",
      "2018-07-01 13:30:52 | DEBUG | automl_libs.nn_libs           | get_model  | #105 | lr decay: 0.000185\n"
     ]
    },
    {
     "name": "stdout",
     "output_type": "stream",
     "text": [
      "Train on 240001 samples, validate on 59999 samples\n",
      "Epoch 1/1\n",
      "240001/240001 [==============================] - 51s 213us/step - loss: 0.4512 - acc: 0.8096 - val_loss: 0.4436 - val_acc: 0.8119\n",
      "59999/59999 [==============================] - 0s 5us/step\n",
      "100000/100000 [==============================] - 0s 1us/step\n"
     ]
    },
    {
     "name": "stderr",
     "output_type": "stream",
     "text": [
      "2018-07-01 13:31:45 | DEBUG | automl_libs.base_layer_utils  | get_oof    | #436 | metric of fold 4: 0.723903141936651\n",
      "2018-07-01 13:31:45 | DEBUG | automl_libs.nn_libs           | get_model  | #57  | Col [DayofMonth]: embed dim: input 32, output 32\n",
      "2018-07-01 13:31:45 | DEBUG | automl_libs.nn_libs           | get_model  | #57  | Col [UniqueCarrier]: embed dim: input 23, output 23\n",
      "2018-07-01 13:31:45 | DEBUG | automl_libs.nn_libs           | get_model  | #57  | Col [Dest]: embed dim: input 293, output 50\n",
      "2018-07-01 13:31:45 | DEBUG | automl_libs.nn_libs           | get_model  | #57  | Col [Origin]: embed dim: input 292, output 50\n",
      "2018-07-01 13:31:45 | DEBUG | automl_libs.nn_libs           | get_model  | #57  | Col [DepTime]: embed dim: input 27, output 27\n",
      "2018-07-01 13:31:45 | DEBUG | automl_libs.nn_libs           | get_model  | #57  | Col [Month]: embed dim: input 13, output 13\n",
      "2018-07-01 13:31:45 | DEBUG | automl_libs.nn_libs           | get_model  | #57  | Col [DayOfWeek]: embed dim: input 8, output 8\n",
      "2018-07-01 13:31:45 | DEBUG | automl_libs.nn_libs           | get_model  | #57  | Col [Distance]: embed dim: input 10, output 10\n",
      "2018-07-01 13:31:45 | DEBUG | automl_libs.nn_libs           | get_model  | #103 | steps in on epoch: 4687\n",
      "2018-07-01 13:31:45 | DEBUG | automl_libs.nn_libs           | get_model  | #104 | steps for lr decay: 4687\n",
      "2018-07-01 13:31:45 | DEBUG | automl_libs.nn_libs           | get_model  | #105 | lr decay: 0.000148\n"
     ]
    },
    {
     "name": "stdout",
     "output_type": "stream",
     "text": [
      "Epoch 1/1\n",
      "300000/300000 [==============================] - 59s 197us/step - loss: 0.4508 - acc: 0.8098\n",
      "100000/100000 [==============================] - 0s 3us/step\n"
     ]
    },
    {
     "name": "stderr",
     "output_type": "stream",
     "text": [
      "2018-07-01 13:32:45 | DEBUG | automl_libs.base_layer_utils  | compute_layer1_oof | #486 | Computing layer1: label: label    model_data_id: t5uq__NN_flight_data_ordinal_layer1\n",
      "2018-07-01 13:32:45 | DEBUG | automl_libs.base_layer_utils  | get_oof    | #422 | processing fold 0 of 5...\n",
      "2018-07-01 13:32:45 | DEBUG | automl_libs.nn_libs           | get_model  | #57  | Col [DayofMonth]: embed dim: input 32, output 32\n",
      "2018-07-01 13:32:45 | DEBUG | automl_libs.nn_libs           | get_model  | #57  | Col [UniqueCarrier]: embed dim: input 23, output 23\n",
      "2018-07-01 13:32:45 | DEBUG | automl_libs.nn_libs           | get_model  | #57  | Col [Dest]: embed dim: input 293, output 50\n",
      "2018-07-01 13:32:45 | DEBUG | automl_libs.nn_libs           | get_model  | #57  | Col [Origin]: embed dim: input 292, output 50\n",
      "2018-07-01 13:32:45 | DEBUG | automl_libs.nn_libs           | get_model  | #57  | Col [DepTime]: embed dim: input 27, output 27\n",
      "2018-07-01 13:32:45 | DEBUG | automl_libs.nn_libs           | get_model  | #57  | Col [Month]: embed dim: input 13, output 13\n",
      "2018-07-01 13:32:45 | DEBUG | automl_libs.nn_libs           | get_model  | #57  | Col [DayOfWeek]: embed dim: input 8, output 8\n",
      "2018-07-01 13:32:45 | DEBUG | automl_libs.nn_libs           | get_model  | #57  | Col [Distance]: embed dim: input 10, output 10\n",
      "2018-07-01 13:32:45 | DEBUG | automl_libs.nn_libs           | get_model  | #103 | steps in on epoch: 937\n",
      "2018-07-01 13:32:45 | DEBUG | automl_libs.nn_libs           | get_model  | #104 | steps for lr decay: 937\n",
      "2018-07-01 13:32:45 | DEBUG | automl_libs.nn_libs           | get_model  | #105 | lr decay: 0.000741\n"
     ]
    },
    {
     "name": "stdout",
     "output_type": "stream",
     "text": [
      "Train on 239999 samples, validate on 60001 samples\n",
      "Epoch 1/1\n",
      "239999/239999 [==============================] - 14s 59us/step - loss: 0.4468 - acc: 0.8113 - val_loss: 0.4368 - val_acc: 0.8154\n",
      "60001/60001 [==============================] - 0s 6us/step\n",
      "100000/100000 [==============================] - 0s 1us/step\n"
     ]
    },
    {
     "name": "stderr",
     "output_type": "stream",
     "text": [
      "2018-07-01 13:33:00 | DEBUG | automl_libs.base_layer_utils  | get_oof    | #436 | metric of fold 0: 0.7231733824168995\n",
      "2018-07-01 13:33:00 | DEBUG | automl_libs.base_layer_utils  | get_oof    | #422 | processing fold 1 of 5...\n",
      "2018-07-01 13:33:00 | DEBUG | automl_libs.nn_libs           | get_model  | #57  | Col [DayofMonth]: embed dim: input 32, output 32\n",
      "2018-07-01 13:33:00 | DEBUG | automl_libs.nn_libs           | get_model  | #57  | Col [UniqueCarrier]: embed dim: input 23, output 23\n",
      "2018-07-01 13:33:00 | DEBUG | automl_libs.nn_libs           | get_model  | #57  | Col [Dest]: embed dim: input 293, output 50\n",
      "2018-07-01 13:33:00 | DEBUG | automl_libs.nn_libs           | get_model  | #57  | Col [Origin]: embed dim: input 292, output 50\n",
      "2018-07-01 13:33:00 | DEBUG | automl_libs.nn_libs           | get_model  | #57  | Col [DepTime]: embed dim: input 27, output 27\n",
      "2018-07-01 13:33:00 | DEBUG | automl_libs.nn_libs           | get_model  | #57  | Col [Month]: embed dim: input 13, output 13\n",
      "2018-07-01 13:33:00 | DEBUG | automl_libs.nn_libs           | get_model  | #57  | Col [DayOfWeek]: embed dim: input 8, output 8\n",
      "2018-07-01 13:33:00 | DEBUG | automl_libs.nn_libs           | get_model  | #57  | Col [Distance]: embed dim: input 10, output 10\n",
      "2018-07-01 13:33:00 | DEBUG | automl_libs.nn_libs           | get_model  | #103 | steps in on epoch: 937\n",
      "2018-07-01 13:33:00 | DEBUG | automl_libs.nn_libs           | get_model  | #104 | steps for lr decay: 937\n",
      "2018-07-01 13:33:00 | DEBUG | automl_libs.nn_libs           | get_model  | #105 | lr decay: 0.000741\n"
     ]
    },
    {
     "name": "stdout",
     "output_type": "stream",
     "text": [
      "Train on 239999 samples, validate on 60001 samples\n",
      "Epoch 1/1\n",
      "239999/239999 [==============================] - 14s 59us/step - loss: 0.4460 - acc: 0.8112 - val_loss: 0.4356 - val_acc: 0.8134\n",
      "60001/60001 [==============================] - 0s 6us/step\n",
      "100000/100000 [==============================] - 0s 1us/step\n"
     ]
    },
    {
     "name": "stderr",
     "output_type": "stream",
     "text": [
      "2018-07-01 13:33:16 | DEBUG | automl_libs.base_layer_utils  | get_oof    | #436 | metric of fold 1: 0.7300989122100842\n",
      "2018-07-01 13:33:16 | DEBUG | automl_libs.base_layer_utils  | get_oof    | #422 | processing fold 2 of 5...\n",
      "2018-07-01 13:33:16 | DEBUG | automl_libs.nn_libs           | get_model  | #57  | Col [DayofMonth]: embed dim: input 32, output 32\n",
      "2018-07-01 13:33:16 | DEBUG | automl_libs.nn_libs           | get_model  | #57  | Col [UniqueCarrier]: embed dim: input 23, output 23\n",
      "2018-07-01 13:33:16 | DEBUG | automl_libs.nn_libs           | get_model  | #57  | Col [Dest]: embed dim: input 293, output 50\n",
      "2018-07-01 13:33:16 | DEBUG | automl_libs.nn_libs           | get_model  | #57  | Col [Origin]: embed dim: input 292, output 50\n",
      "2018-07-01 13:33:16 | DEBUG | automl_libs.nn_libs           | get_model  | #57  | Col [DepTime]: embed dim: input 27, output 27\n",
      "2018-07-01 13:33:16 | DEBUG | automl_libs.nn_libs           | get_model  | #57  | Col [Month]: embed dim: input 13, output 13\n",
      "2018-07-01 13:33:16 | DEBUG | automl_libs.nn_libs           | get_model  | #57  | Col [DayOfWeek]: embed dim: input 8, output 8\n",
      "2018-07-01 13:33:16 | DEBUG | automl_libs.nn_libs           | get_model  | #57  | Col [Distance]: embed dim: input 10, output 10\n",
      "2018-07-01 13:33:16 | DEBUG | automl_libs.nn_libs           | get_model  | #103 | steps in on epoch: 937\n",
      "2018-07-01 13:33:16 | DEBUG | automl_libs.nn_libs           | get_model  | #104 | steps for lr decay: 937\n",
      "2018-07-01 13:33:16 | DEBUG | automl_libs.nn_libs           | get_model  | #105 | lr decay: 0.000741\n"
     ]
    },
    {
     "name": "stdout",
     "output_type": "stream",
     "text": [
      "Train on 240000 samples, validate on 60000 samples\n",
      "Epoch 1/1\n",
      "240000/240000 [==============================] - 14s 60us/step - loss: 0.4466 - acc: 0.8120 - val_loss: 0.4398 - val_acc: 0.8085\n",
      "60000/60000 [==============================] - 0s 7us/step\n",
      "100000/100000 [==============================] - 0s 1us/step\n"
     ]
    },
    {
     "name": "stderr",
     "output_type": "stream",
     "text": [
      "2018-07-01 13:33:32 | DEBUG | automl_libs.base_layer_utils  | get_oof    | #436 | metric of fold 2: 0.7288402197814149\n",
      "2018-07-01 13:33:32 | DEBUG | automl_libs.base_layer_utils  | get_oof    | #422 | processing fold 3 of 5...\n",
      "2018-07-01 13:33:32 | DEBUG | automl_libs.nn_libs           | get_model  | #57  | Col [DayofMonth]: embed dim: input 32, output 32\n",
      "2018-07-01 13:33:32 | DEBUG | automl_libs.nn_libs           | get_model  | #57  | Col [UniqueCarrier]: embed dim: input 23, output 23\n",
      "2018-07-01 13:33:32 | DEBUG | automl_libs.nn_libs           | get_model  | #57  | Col [Dest]: embed dim: input 293, output 50\n",
      "2018-07-01 13:33:32 | DEBUG | automl_libs.nn_libs           | get_model  | #57  | Col [Origin]: embed dim: input 292, output 50\n",
      "2018-07-01 13:33:32 | DEBUG | automl_libs.nn_libs           | get_model  | #57  | Col [DepTime]: embed dim: input 27, output 27\n",
      "2018-07-01 13:33:32 | DEBUG | automl_libs.nn_libs           | get_model  | #57  | Col [Month]: embed dim: input 13, output 13\n",
      "2018-07-01 13:33:32 | DEBUG | automl_libs.nn_libs           | get_model  | #57  | Col [DayOfWeek]: embed dim: input 8, output 8\n",
      "2018-07-01 13:33:32 | DEBUG | automl_libs.nn_libs           | get_model  | #57  | Col [Distance]: embed dim: input 10, output 10\n",
      "2018-07-01 13:33:32 | DEBUG | automl_libs.nn_libs           | get_model  | #103 | steps in on epoch: 937\n",
      "2018-07-01 13:33:32 | DEBUG | automl_libs.nn_libs           | get_model  | #104 | steps for lr decay: 937\n",
      "2018-07-01 13:33:32 | DEBUG | automl_libs.nn_libs           | get_model  | #105 | lr decay: 0.000741\n"
     ]
    },
    {
     "name": "stdout",
     "output_type": "stream",
     "text": [
      "Train on 240001 samples, validate on 59999 samples\n",
      "Epoch 1/1\n",
      "240001/240001 [==============================] - 15s 61us/step - loss: 0.4459 - acc: 0.8118 - val_loss: 0.4460 - val_acc: 0.8121\n",
      "59999/59999 [==============================] - 0s 7us/step\n",
      "100000/100000 [==============================] - 0s 1us/step\n"
     ]
    },
    {
     "name": "stderr",
     "output_type": "stream",
     "text": [
      "2018-07-01 13:33:47 | DEBUG | automl_libs.base_layer_utils  | get_oof    | #436 | metric of fold 3: 0.7253884950396764\n",
      "2018-07-01 13:33:47 | DEBUG | automl_libs.base_layer_utils  | get_oof    | #422 | processing fold 4 of 5...\n",
      "2018-07-01 13:33:47 | DEBUG | automl_libs.nn_libs           | get_model  | #57  | Col [DayofMonth]: embed dim: input 32, output 32\n",
      "2018-07-01 13:33:47 | DEBUG | automl_libs.nn_libs           | get_model  | #57  | Col [UniqueCarrier]: embed dim: input 23, output 23\n",
      "2018-07-01 13:33:47 | DEBUG | automl_libs.nn_libs           | get_model  | #57  | Col [Dest]: embed dim: input 293, output 50\n",
      "2018-07-01 13:33:47 | DEBUG | automl_libs.nn_libs           | get_model  | #57  | Col [Origin]: embed dim: input 292, output 50\n",
      "2018-07-01 13:33:47 | DEBUG | automl_libs.nn_libs           | get_model  | #57  | Col [DepTime]: embed dim: input 27, output 27\n",
      "2018-07-01 13:33:47 | DEBUG | automl_libs.nn_libs           | get_model  | #57  | Col [Month]: embed dim: input 13, output 13\n",
      "2018-07-01 13:33:47 | DEBUG | automl_libs.nn_libs           | get_model  | #57  | Col [DayOfWeek]: embed dim: input 8, output 8\n",
      "2018-07-01 13:33:47 | DEBUG | automl_libs.nn_libs           | get_model  | #57  | Col [Distance]: embed dim: input 10, output 10\n",
      "2018-07-01 13:33:48 | DEBUG | automl_libs.nn_libs           | get_model  | #103 | steps in on epoch: 937\n",
      "2018-07-01 13:33:48 | DEBUG | automl_libs.nn_libs           | get_model  | #104 | steps for lr decay: 937\n",
      "2018-07-01 13:33:48 | DEBUG | automl_libs.nn_libs           | get_model  | #105 | lr decay: 0.000741\n"
     ]
    },
    {
     "name": "stdout",
     "output_type": "stream",
     "text": [
      "Train on 240001 samples, validate on 59999 samples\n",
      "Epoch 1/1\n",
      "240001/240001 [==============================] - 15s 61us/step - loss: 0.4466 - acc: 0.8114 - val_loss: 0.4369 - val_acc: 0.8116\n",
      "59999/59999 [==============================] - 0s 8us/step\n",
      "100000/100000 [==============================] - 0s 1us/step\n"
     ]
    },
    {
     "name": "stderr",
     "output_type": "stream",
     "text": [
      "2018-07-01 13:34:04 | DEBUG | automl_libs.base_layer_utils  | get_oof    | #436 | metric of fold 4: 0.7293236195821005\n",
      "2018-07-01 13:34:04 | DEBUG | automl_libs.nn_libs           | get_model  | #57  | Col [DayofMonth]: embed dim: input 32, output 32\n",
      "2018-07-01 13:34:04 | DEBUG | automl_libs.nn_libs           | get_model  | #57  | Col [UniqueCarrier]: embed dim: input 23, output 23\n",
      "2018-07-01 13:34:04 | DEBUG | automl_libs.nn_libs           | get_model  | #57  | Col [Dest]: embed dim: input 293, output 50\n",
      "2018-07-01 13:34:04 | DEBUG | automl_libs.nn_libs           | get_model  | #57  | Col [Origin]: embed dim: input 292, output 50\n",
      "2018-07-01 13:34:04 | DEBUG | automl_libs.nn_libs           | get_model  | #57  | Col [DepTime]: embed dim: input 27, output 27\n",
      "2018-07-01 13:34:04 | DEBUG | automl_libs.nn_libs           | get_model  | #57  | Col [Month]: embed dim: input 13, output 13\n",
      "2018-07-01 13:34:04 | DEBUG | automl_libs.nn_libs           | get_model  | #57  | Col [DayOfWeek]: embed dim: input 8, output 8\n",
      "2018-07-01 13:34:04 | DEBUG | automl_libs.nn_libs           | get_model  | #57  | Col [Distance]: embed dim: input 10, output 10\n",
      "2018-07-01 13:34:04 | DEBUG | automl_libs.nn_libs           | get_model  | #103 | steps in on epoch: 1171\n",
      "2018-07-01 13:34:04 | DEBUG | automl_libs.nn_libs           | get_model  | #104 | steps for lr decay: 1171\n",
      "2018-07-01 13:34:04 | DEBUG | automl_libs.nn_libs           | get_model  | #105 | lr decay: 0.000593\n"
     ]
    },
    {
     "name": "stdout",
     "output_type": "stream",
     "text": [
      "Epoch 1/1\n",
      "300000/300000 [==============================] - 17s 56us/step - loss: 0.4449 - acc: 0.8115\n",
      "100000/100000 [==============================] - 1s 5us/step\n"
     ]
    },
    {
     "name": "stderr",
     "output_type": "stream",
     "text": [
      "2018-07-01 13:34:22 | DEBUG | automl_libs.base_layer_utils.BaseLayerResultsRepo| add_score  | #292 | 1rso__NN_flight_data_ordinal_layer1 already existed in the repo. score: 0 update to 0.7207118029835866\n",
      "2018-07-01 13:34:22 | DEBUG | automl_libs.base_layer_utils.BaseLayerResultsRepo| add_score  | #292 | t5uq__NN_flight_data_ordinal_layer1 already existed in the repo. score: 0 update to 0.7221469783812381\n",
      "2018-07-01 13:34:22 | DEBUG | automl_libs.base_layer_utils.BaseLayerResultsRepo| __init__   | #233 | load StackNet saves from file\n",
      "2018-07-01 13:34:22 | DEBUG | automl_libs.stacknet          | layer1     | #60  | JaeJ already processed in StackNet, so removed it from chosen_gs_results\n",
      "2018-07-01 13:34:22 | DEBUG | automl_libs.stacknet          | layer1     | #60  | y4mr already processed in StackNet, so removed it from chosen_gs_results\n",
      "2018-07-01 13:34:22 | DEBUG | automl_libs.base_layer_utils.BaseLayerResultsRepo| __init__   | #233 | load StackNet saves from file\n",
      "2018-07-01 13:34:22 | INFO  | automl_libs.stacknet          | layer2     | #113 | All available layer1 model_data:\n",
      "2018-07-01 13:34:22 | INFO  | automl_libs.stacknet          | layer2     | #114 | [('t5uq__NN_flight_data_ordinal_layer1', 0.7221469783812381), ('1rso__NN_flight_data_ordinal_layer1', 0.7207118029835866), ('JaeJ__LGB_flight_data_ordinal_layer1', 0.7150867937724403), ('Av0A__LOGREG_layer2', 0.7149338279631754), ('y4mr__LGB_flight_data_ordinal_layer1', 0.7142740758673898), ('fwDp__LOGREG_layer2', 0.5098391589370682)]\n",
      "2018-07-01 13:34:22 | INFO  | automl_libs.base_layer_utils  | compute_layer2_oof | #585 | Generating Layer2 model HCUo__LOGREG OOF\n",
      "2018-07-01 13:34:22 | WARNING | automl_libs.base_layer_utils  | get_oof    | #417 | warning: x_train is not dataframe, you should NOT use models like LGB and NN where categorical_feature is needed (you are using LogisticRegression)\n",
      "2018-07-01 13:34:22 | DEBUG | automl_libs.base_layer_utils  | get_oof    | #422 | processing fold 0 of 5...\n",
      "2018-07-01 13:34:22 | DEBUG | automl_libs.base_layer_utils  | get_oof    | #436 | metric of fold 0: 0.724489258034443\n",
      "2018-07-01 13:34:22 | WARNING | automl_libs.base_layer_utils  | get_oof    | #417 | warning: x_train is not dataframe, you should NOT use models like LGB and NN where categorical_feature is needed (you are using LogisticRegression)\n",
      "2018-07-01 13:34:22 | DEBUG | automl_libs.base_layer_utils  | get_oof    | #422 | processing fold 1 of 5...\n",
      "2018-07-01 13:34:22 | DEBUG | automl_libs.base_layer_utils  | get_oof    | #436 | metric of fold 1: 0.7302566317580139\n",
      "2018-07-01 13:34:22 | WARNING | automl_libs.base_layer_utils  | get_oof    | #417 | warning: x_train is not dataframe, you should NOT use models like LGB and NN where categorical_feature is needed (you are using LogisticRegression)\n",
      "2018-07-01 13:34:22 | DEBUG | automl_libs.base_layer_utils  | get_oof    | #422 | processing fold 2 of 5...\n",
      "2018-07-01 13:34:23 | DEBUG | automl_libs.base_layer_utils  | get_oof    | #436 | metric of fold 2: 0.7341315079216746\n",
      "2018-07-01 13:34:23 | WARNING | automl_libs.base_layer_utils  | get_oof    | #417 | warning: x_train is not dataframe, you should NOT use models like LGB and NN where categorical_feature is needed (you are using LogisticRegression)\n",
      "2018-07-01 13:34:23 | DEBUG | automl_libs.base_layer_utils  | get_oof    | #422 | processing fold 3 of 5...\n",
      "2018-07-01 13:34:23 | DEBUG | automl_libs.base_layer_utils  | get_oof    | #436 | metric of fold 3: 0.7258770885971613\n",
      "2018-07-01 13:34:23 | WARNING | automl_libs.base_layer_utils  | get_oof    | #417 | warning: x_train is not dataframe, you should NOT use models like LGB and NN where categorical_feature is needed (you are using LogisticRegression)\n",
      "2018-07-01 13:34:23 | DEBUG | automl_libs.base_layer_utils  | get_oof    | #422 | processing fold 4 of 5...\n",
      "2018-07-01 13:34:23 | DEBUG | automl_libs.base_layer_utils  | get_oof    | #436 | metric of fold 4: 0.7295602362714666\n",
      "2018-07-01 13:34:24 | DEBUG | automl_libs.base_layer_utils.BaseLayerResultsRepo| add_score  | #292 | HCUo__LOGREG_layer2 already existed in the repo. score: 0 update to 0.7288629445165519\n",
      "2018-07-01 13:34:24 | INFO  | automl_libs.stacknet          | layer2     | #158 | StackNet Report saved at ./output/oof/stacknet_report.csv\n",
      "2018-07-01 13:34:24 | INFO  | automl_app.app.AlphaBoosting  | __init__   | #131 | save run record\n",
      "2018-07-01 13:34:24 | INFO  | automl_app.app.AlphaBoosting  | _save_run_record | #163 | val index is saved at ./temp_data/val_index.pkl\n",
      "2018-07-01 13:34:24 | INFO  | automl_app.app.AlphaBoosting  | _save_run_record | #165 | run record is saved at ./output/last_run_record.json\n"
     ]
    },
    {
     "data": {
      "text/plain": [
       "<automl_app.app.AlphaBoosting at 0x7f5eb419d438>"
      ]
     },
     "execution_count": 14,
     "metadata": {},
     "output_type": "execute_result"
    }
   ],
   "source": [
    "from automl_app.app import AlphaBoosting\n",
    "\n",
    "automl_config_file = project_path + 'automl_config.json'\n",
    "run_record_file_name = project_path + 'last_run_record.json' # don't created this file\n",
    "AlphaBoosting(automl_config_file, features_to_gen, gs_params_gen)"
   ]
  },
  {
   "cell_type": "code",
   "execution_count": null,
   "metadata": {},
   "outputs": [],
   "source": []
  }
 ],
 "metadata": {
  "kernelspec": {
   "display_name": "Python 3.5 (tf_gpu)",
   "language": "python",
   "name": "tf_gpu"
  },
  "language_info": {
   "codemirror_mode": {
    "name": "ipython",
    "version": 3
   },
   "file_extension": ".py",
   "mimetype": "text/x-python",
   "name": "python",
   "nbconvert_exporter": "python",
   "pygments_lexer": "ipython3",
   "version": "3.5.5"
  },
  "varInspector": {
   "cols": {
    "lenName": 16,
    "lenType": 16,
    "lenVar": 40
   },
   "kernels_config": {
    "python": {
     "delete_cmd_postfix": "",
     "delete_cmd_prefix": "del ",
     "library": "var_list.py",
     "varRefreshCmd": "print(var_dic_list())"
    },
    "r": {
     "delete_cmd_postfix": ") ",
     "delete_cmd_prefix": "rm(",
     "library": "var_list.r",
     "varRefreshCmd": "cat(var_dic_list()) "
    }
   },
   "types_to_exclude": [
    "module",
    "function",
    "builtin_function_or_method",
    "instance",
    "_Feature"
   ],
   "window_display": false
  }
 },
 "nbformat": 4,
 "nbformat_minor": 2
}
