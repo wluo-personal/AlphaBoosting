{
 "cells": [
  {
   "cell_type": "code",
   "execution_count": 1,
   "metadata": {
    "ExecuteTime": {
     "end_time": "2018-07-01T04:10:19.068038Z",
     "start_time": "2018-07-01T04:10:19.045760Z"
    }
   },
   "outputs": [
    {
     "name": "stdout",
     "output_type": "stream",
     "text": [
      "['', '/home/kai/anaconda3/envs/tf_gpu/lib/python35.zip', '/home/kai/anaconda3/envs/tf_gpu/lib/python3.5', '/home/kai/anaconda3/envs/tf_gpu/lib/python3.5/plat-linux', '/home/kai/anaconda3/envs/tf_gpu/lib/python3.5/lib-dynload', '/home/kai/.local/lib/python3.5/site-packages', '/home/kai/anaconda3/envs/tf_gpu/lib/python3.5/site-packages', '/home/kai/anaconda3/envs/tf_gpu/lib/python3.5/site-packages/IPython/extensions', '/home/kai/.ipython', '/home/kai/data/shiyi/AlphaBoosting/automl']\n"
     ]
    }
   ],
   "source": [
    "import os\n",
    "import sys\n",
    "#nb_dir = os.path.split(os.getcwd())[0]\n",
    "#if nb_dir not in sys.path:\n",
    "#    sys.path.append(nb_dir)\n",
    "    \n",
    "autolib_dir = '/home/kai/data/shiyi/AlphaBoosting/automl'\n",
    "if autolib_dir not in sys.path:\n",
    "    sys.path.append(autolib_dir)\n",
    "\n",
    "print(sys.path)\n",
    "\n",
    "%load_ext autoreload\n",
    "%autoreload 2"
   ]
  },
  {
   "cell_type": "code",
   "execution_count": 2,
   "metadata": {
    "ExecuteTime": {
     "end_time": "2018-07-01T04:10:20.124975Z",
     "start_time": "2018-07-01T04:10:19.070321Z"
    }
   },
   "outputs": [
    {
     "name": "stderr",
     "output_type": "stream",
     "text": [
      "/home/kai/anaconda3/envs/tf_gpu/lib/python3.5/site-packages/h5py/__init__.py:36: FutureWarning: Conversion of the second argument of issubdtype from `float` to `np.floating` is deprecated. In future, it will be treated as `np.float64 == np.dtype(float).type`.\n",
      "  from ._conv import register_converters as _register_converters\n",
      "Using TensorFlow backend.\n"
     ]
    }
   ],
   "source": [
    "from automl_libs import base_layer_utils, stacknet\n",
    "from automl_libs import feature_engineering as fe\n",
    "from automl_libs import encoding, kernels, nn_libs "
   ]
  },
  {
   "cell_type": "code",
   "execution_count": 3,
   "metadata": {
    "ExecuteTime": {
     "end_time": "2018-07-01T04:10:20.143461Z",
     "start_time": "2018-07-01T04:10:20.126616Z"
    }
   },
   "outputs": [],
   "source": [
    "categorical_features = ['Month', 'DayofMonth', 'DayOfWeek', 'DepTime', 'UniqueCarrier', 'Origin', 'Dest', 'Distance']"
   ]
  },
  {
   "cell_type": "code",
   "execution_count": 4,
   "metadata": {
    "ExecuteTime": {
     "end_time": "2018-07-01T04:10:20.170778Z",
     "start_time": "2018-07-01T04:10:20.144776Z"
    }
   },
   "outputs": [
    {
     "data": {
      "text/plain": [
       "[{'feature_cols': ['Month', 'DayofMonth'],\n",
       "  'function': <function automl_libs.feature_engineering.count(df, cols, dummy_col, generated_feature_name, params=None)>,\n",
       "  'params': {}},\n",
       " {'feature_cols': ['Month', 'DayOfWeek'],\n",
       "  'function': <function automl_libs.feature_engineering.count(df, cols, dummy_col, generated_feature_name, params=None)>,\n",
       "  'params': {}},\n",
       " {'feature_cols': ['Month', 'DepTime'],\n",
       "  'function': <function automl_libs.feature_engineering.count(df, cols, dummy_col, generated_feature_name, params=None)>,\n",
       "  'params': {}},\n",
       " {'feature_cols': ['Month', 'UniqueCarrier'],\n",
       "  'function': <function automl_libs.feature_engineering.count(df, cols, dummy_col, generated_feature_name, params=None)>,\n",
       "  'params': {}},\n",
       " {'feature_cols': ['Month', 'Origin'],\n",
       "  'function': <function automl_libs.feature_engineering.count(df, cols, dummy_col, generated_feature_name, params=None)>,\n",
       "  'params': {}},\n",
       " {'feature_cols': ['Month', 'Dest'],\n",
       "  'function': <function automl_libs.feature_engineering.count(df, cols, dummy_col, generated_feature_name, params=None)>,\n",
       "  'params': {}},\n",
       " {'feature_cols': ['Month', 'Distance'],\n",
       "  'function': <function automl_libs.feature_engineering.count(df, cols, dummy_col, generated_feature_name, params=None)>,\n",
       "  'params': {}},\n",
       " {'feature_cols': ['DayofMonth', 'DayOfWeek'],\n",
       "  'function': <function automl_libs.feature_engineering.count(df, cols, dummy_col, generated_feature_name, params=None)>,\n",
       "  'params': {}},\n",
       " {'feature_cols': ['DayofMonth', 'DepTime'],\n",
       "  'function': <function automl_libs.feature_engineering.count(df, cols, dummy_col, generated_feature_name, params=None)>,\n",
       "  'params': {}},\n",
       " {'feature_cols': ['DayofMonth', 'UniqueCarrier'],\n",
       "  'function': <function automl_libs.feature_engineering.count(df, cols, dummy_col, generated_feature_name, params=None)>,\n",
       "  'params': {}},\n",
       " {'feature_cols': ['DayofMonth', 'Origin'],\n",
       "  'function': <function automl_libs.feature_engineering.count(df, cols, dummy_col, generated_feature_name, params=None)>,\n",
       "  'params': {}},\n",
       " {'feature_cols': ['DayofMonth', 'Dest'],\n",
       "  'function': <function automl_libs.feature_engineering.count(df, cols, dummy_col, generated_feature_name, params=None)>,\n",
       "  'params': {}},\n",
       " {'feature_cols': ['DayofMonth', 'Distance'],\n",
       "  'function': <function automl_libs.feature_engineering.count(df, cols, dummy_col, generated_feature_name, params=None)>,\n",
       "  'params': {}},\n",
       " {'feature_cols': ['DayOfWeek', 'DepTime'],\n",
       "  'function': <function automl_libs.feature_engineering.count(df, cols, dummy_col, generated_feature_name, params=None)>,\n",
       "  'params': {}},\n",
       " {'feature_cols': ['DayOfWeek', 'UniqueCarrier'],\n",
       "  'function': <function automl_libs.feature_engineering.count(df, cols, dummy_col, generated_feature_name, params=None)>,\n",
       "  'params': {}},\n",
       " {'feature_cols': ['DayOfWeek', 'Origin'],\n",
       "  'function': <function automl_libs.feature_engineering.count(df, cols, dummy_col, generated_feature_name, params=None)>,\n",
       "  'params': {}},\n",
       " {'feature_cols': ['DayOfWeek', 'Dest'],\n",
       "  'function': <function automl_libs.feature_engineering.count(df, cols, dummy_col, generated_feature_name, params=None)>,\n",
       "  'params': {}},\n",
       " {'feature_cols': ['DayOfWeek', 'Distance'],\n",
       "  'function': <function automl_libs.feature_engineering.count(df, cols, dummy_col, generated_feature_name, params=None)>,\n",
       "  'params': {}},\n",
       " {'feature_cols': ['DepTime', 'UniqueCarrier'],\n",
       "  'function': <function automl_libs.feature_engineering.count(df, cols, dummy_col, generated_feature_name, params=None)>,\n",
       "  'params': {}},\n",
       " {'feature_cols': ['DepTime', 'Origin'],\n",
       "  'function': <function automl_libs.feature_engineering.count(df, cols, dummy_col, generated_feature_name, params=None)>,\n",
       "  'params': {}},\n",
       " {'feature_cols': ['DepTime', 'Dest'],\n",
       "  'function': <function automl_libs.feature_engineering.count(df, cols, dummy_col, generated_feature_name, params=None)>,\n",
       "  'params': {}},\n",
       " {'feature_cols': ['DepTime', 'Distance'],\n",
       "  'function': <function automl_libs.feature_engineering.count(df, cols, dummy_col, generated_feature_name, params=None)>,\n",
       "  'params': {}},\n",
       " {'feature_cols': ['UniqueCarrier', 'Origin'],\n",
       "  'function': <function automl_libs.feature_engineering.count(df, cols, dummy_col, generated_feature_name, params=None)>,\n",
       "  'params': {}},\n",
       " {'feature_cols': ['UniqueCarrier', 'Dest'],\n",
       "  'function': <function automl_libs.feature_engineering.count(df, cols, dummy_col, generated_feature_name, params=None)>,\n",
       "  'params': {}},\n",
       " {'feature_cols': ['UniqueCarrier', 'Distance'],\n",
       "  'function': <function automl_libs.feature_engineering.count(df, cols, dummy_col, generated_feature_name, params=None)>,\n",
       "  'params': {}},\n",
       " {'feature_cols': ['Origin', 'Dest'],\n",
       "  'function': <function automl_libs.feature_engineering.count(df, cols, dummy_col, generated_feature_name, params=None)>,\n",
       "  'params': {}},\n",
       " {'feature_cols': ['Origin', 'Distance'],\n",
       "  'function': <function automl_libs.feature_engineering.count(df, cols, dummy_col, generated_feature_name, params=None)>,\n",
       "  'params': {}},\n",
       " {'feature_cols': ['Dest', 'Distance'],\n",
       "  'function': <function automl_libs.feature_engineering.count(df, cols, dummy_col, generated_feature_name, params=None)>,\n",
       "  'params': {}}]"
      ]
     },
     "execution_count": 4,
     "metadata": {},
     "output_type": "execute_result"
    }
   ],
   "source": [
    "import itertools\n",
    "#params = {'split_col': 't', 'coefficient': 10, 'n': 2, 'fillna': 22}\n",
    "def get_features_to_gen(function_list, low, high):\n",
    "    features_to_gen = []\n",
    "    for function in function_list:\n",
    "        for i in range(low, high+1):\n",
    "            for combine in itertools.combinations(categorical_features, i):\n",
    "                if function.__name__ == 'count_std_over_mean':\n",
    "                    features_to_gen.append({'params': {'coefficient': 10}, 'function': function, 'feature_cols': list(combine)})\n",
    "                else:\n",
    "                    features_to_gen.append({'params': {}, 'function': function, 'feature_cols': list(combine)})\n",
    "                \n",
    "    return features_to_gen\n",
    "\n",
    "# features_to_gen = get_features_to_gen([fe.count, fe.unique_count, \n",
    "#                                        fe.cumulative_count, \n",
    "#                                        fe.reverse_cumulative_count, \n",
    "#                                        fe.variance, fe.count_std_over_mean], \n",
    "#                                       2, 2)# len(categorical_features))\n",
    "# features_to_gen = get_features_to_gen([fe.count, fe.unique_count, fe.cumulative_count])\n",
    "features_to_gen = get_features_to_gen([fe.count], 2, 2)#len(categorical_features))\n",
    "\n",
    "features_to_gen"
   ]
  },
  {
   "cell_type": "code",
   "execution_count": 5,
   "metadata": {
    "ExecuteTime": {
     "end_time": "2018-07-01T04:10:20.188615Z",
     "start_time": "2018-07-01T04:10:20.172092Z"
    }
   },
   "outputs": [
    {
     "data": {
      "text/plain": [
       "28"
      ]
     },
     "execution_count": 5,
     "metadata": {},
     "output_type": "execute_result"
    }
   ],
   "source": [
    "len(features_to_gen)"
   ]
  },
  {
   "cell_type": "code",
   "execution_count": 6,
   "metadata": {
    "ExecuteTime": {
     "end_time": "2018-07-01T04:10:20.205667Z",
     "start_time": "2018-07-01T04:10:20.189909Z"
    }
   },
   "outputs": [],
   "source": [
    "project_path = '/home/kai/data/shiyi/AlphaBoosting/automl/automl_app/project2/' "
   ]
  },
  {
   "cell_type": "code",
   "execution_count": 7,
   "metadata": {
    "ExecuteTime": {
     "end_time": "2018-07-01T04:10:20.223849Z",
     "start_time": "2018-07-01T04:10:20.207005Z"
    }
   },
   "outputs": [],
   "source": [
    "from automl_app import logger_config\n",
    "\n",
    "logger_config.config(project_path+'log_project2.log')"
   ]
  },
  {
   "cell_type": "code",
   "execution_count": 8,
   "metadata": {
    "ExecuteTime": {
     "end_time": "2018-07-01T04:10:20.249995Z",
     "start_time": "2018-07-01T04:10:20.225555Z"
    }
   },
   "outputs": [],
   "source": [
    "def gs_params_gen(model='lgb'):\n",
    "    import time\n",
    "    import numpy as np\n",
    "    seed = int(time.time()* 1000000) % 45234634\n",
    "    np.random.seed(seed)\n",
    "    if model == 'lgb':\n",
    "        params = {    \n",
    "            'objective': 'binary',\n",
    "            'boosting': 'gbdt',\n",
    "            'num_boost_round': 20, # ignored in params. extract it and put it in input arguments in train or cv explicitly\n",
    "                                   # seems to work fine as the upper limit when combined with early_stopping_round\n",
    "            'learning_rate': np.random.choice([0.1,0.03]),#0.001]),\n",
    "            'num_leaves': np.random.choice([15,31]),#,61,127]),\n",
    "            'num_threads': 8, # best speed: set to number of real cpu cores, which is vCPU/2\n",
    "            'max_depth': -1, # no limit. This is used to deal with over-fitting when #data is small.\n",
    "            'min_data_in_leaf': np.random.randint(20,50),  #minimal number of data in one leaf. \n",
    "            'feature_fraction': np.random.randint(9,11)/10,\n",
    "            'feature_fraction_seed': seed,\n",
    "            'early_stopping_round':10,\n",
    "            'bagging_freq': 1, #0 means disable bagging. k: perform bagging at every k iteration\n",
    "            'bagging_fraction': np.random.randint(4,11)/10, #Randomly select part of data \n",
    "            'bagging_seed': seed,\n",
    "            'scale_pos_weight': 1,\n",
    "            'metric': 'auc' \n",
    "        }\n",
    "    elif model == 'nn':\n",
    "        params = {\n",
    "            'nn_seed': int(time.time() * 1000000) % 45234634,\n",
    "            'ep_for_lr': 1,\n",
    "            'lr_init': 0.01,\n",
    "            'lr_fin': 0.005, # if == lr_init, then no lr decay\n",
    "            'batch_size': np.random.choice([32, 64, 128, 256, 512, 1024, 2048]),\n",
    "            \"pred_batch_size\": 100000,\n",
    "            'max_ep': 3,\n",
    "            'patience': 1,\n",
    "            'cat_emb_outdim': 50, # could be a constant or a dict (col name:embed out dim). e.g.:\n",
    "                                  # embed_outdim = [3, 3, 8, 8, 3]\n",
    "                                  # embed_outdim_dict = dict(zip(X_train.columns.values, embed_outdim))\n",
    "            'dense_units': 100,\n",
    "            'num_dense_n_layers': 1,\n",
    "            'drop_rate': 0.2,\n",
    "            'combined_dense_n_layers': 2,\n",
    "            'monitor': 'val_auc',  # or val_loss (MUST HAVE)\n",
    "            'mode': 'max'  # MUST HAVE\n",
    "        }\n",
    "    return params, seed"
   ]
  },
  {
   "cell_type": "code",
   "execution_count": 9,
   "metadata": {
    "ExecuteTime": {
     "end_time": "2018-07-01T04:10:20.268910Z",
     "start_time": "2018-07-01T04:10:20.251341Z"
    }
   },
   "outputs": [
    {
     "data": {
      "text/plain": [
       "({'batch_size': 256,\n",
       "  'cat_emb_outdim': 50,\n",
       "  'combined_dense_n_layers': 2,\n",
       "  'dense_units': 100,\n",
       "  'drop_rate': 0.2,\n",
       "  'ep_for_lr': 1,\n",
       "  'lr_fin': 0.005,\n",
       "  'lr_init': 0.01,\n",
       "  'max_ep': 3,\n",
       "  'mode': 'max',\n",
       "  'monitor': 'val_auc',\n",
       "  'nn_seed': 4892538,\n",
       "  'num_dense_n_layers': 1,\n",
       "  'patience': 1,\n",
       "  'pred_batch_size': 100000},\n",
       " 4892530)"
      ]
     },
     "execution_count": 9,
     "metadata": {},
     "output_type": "execute_result"
    }
   ],
   "source": [
    "gs_params_gen('nn')"
   ]
  },
  {
   "cell_type": "code",
   "execution_count": 12,
   "metadata": {
    "ExecuteTime": {
     "end_time": "2018-07-01T04:16:13.785709Z",
     "start_time": "2018-07-01T04:15:48.757777Z"
    },
    "scrolled": true
   },
   "outputs": [
    {
     "name": "stderr",
     "output_type": "stream",
     "text": [
      "2018-07-01 00:15:48 | INFO  | automl_app.app.AlphaBoosting  | __init__   | #66  | Run record file [./output/last_run_record.json] found. Continue from the previous run...\n",
      "2018-07-01 00:15:48 | INFO  | automl_app.app.AlphaBoosting  | __init__   | #95  | generate todo list\n",
      "2018-07-01 00:15:48 | INFO  | automl_app.app.AlphaBoosting  | __init__   | #111 | STAGE: FEATURE_ENGINEERING\n",
      "2018-07-01 00:15:48 | INFO  | automl_app.app.AlphaBoosting  | __init__   | #115 | STAGE: VALIDATION_DOWNSAMPLING_GEN\n",
      "2018-07-01 00:15:48 | INFO  | automl_app.app.AlphaBoosting  | __init__   | #119 | STAGE: CONCAT_DATA\n",
      "2018-07-01 00:15:48 | INFO  | automl_app.app.AlphaBoosting  | __init__   | #123 | STAGE: GRID_SEARCH\n",
      "2018-07-01 00:15:48 | INFO  | automl_app.app.AlphaBoosting  | __init__   | #127 | STAGE: STACKNET\n",
      "2018-07-01 00:15:49 | DEBUG | automl_libs.stacknet          | layer1     | #36  | data_id: flight_data_ordinal  \n",
      "\tx_train: (700000, 36)\tx_test: (100000, 36)\n",
      "\ty_train type: <class 'dict'>\n",
      "\tcompatible_models: {'NN', 'LGB'}\n",
      " \n",
      "2018-07-01 00:15:49 | DEBUG | automl_libs.base_layer_utils.BaseLayerResultsRepo| __init__   | #233 | load StackNet saves from file\n",
      "2018-07-01 00:15:49 | DEBUG | automl_libs.stacknet          | layer1     | #59  | 1530418243 already processed in StackNet, so removed it from chosen_gs_results\n",
      "2018-07-01 00:15:49 | DEBUG | automl_libs.stacknet          | layer1     | #59  | 1530418238 already processed in StackNet, so removed it from chosen_gs_results\n",
      "2018-07-01 00:15:49 | DEBUG | automl_libs.stacknet          | layer1     | #59  | 1530418249 already processed in StackNet, so removed it from chosen_gs_results\n",
      "2018-07-01 00:15:49 | DEBUG | automl_libs.base_layer_utils.BaseLayerResultsRepo| __init__   | #233 | load StackNet saves from file\n",
      "2018-07-01 00:15:49 | INFO  | automl_libs.stacknet          | layer2     | #113 | All available layer1 model_data:\n",
      "2018-07-01 00:15:49 | INFO  | automl_libs.stacknet          | layer2     | #114 | [('1530418277__LOGREG_layer2', 0.7143620684914695), ('1530418238__LGB_flight_data_ordinal_layer1', 0.7140361757967679), ('1530418243__LGB_flight_data_ordinal_layer1', 0.7137562739075142), ('1530418249__LGB_flight_data_ordinal_layer1', 0.7131200945148957)]\n",
      "2018-07-01 00:15:50 | INFO  | automl_libs.base_layer_utils  | compute_layer2_oof | #585 | Generating Layer2 model 1530418549__LOGREG OOF\n",
      "2018-07-01 00:15:50 | WARNING | automl_libs.base_layer_utils  | get_oof    | #417 | warning: x_train is not dataframe, you should NOT use models like LGB and NN where categorical_feature is needed (you are using LogisticRegression)\n",
      "2018-07-01 00:15:50 | DEBUG | automl_libs.base_layer_utils  | get_oof    | #422 | processing fold 0 of 5...\n",
      "2018-07-01 00:15:51 | DEBUG | automl_libs.base_layer_utils  | get_oof    | #436 | metric of fold 0: 0.7123309717329787\n",
      "2018-07-01 00:15:51 | WARNING | automl_libs.base_layer_utils  | get_oof    | #417 | warning: x_train is not dataframe, you should NOT use models like LGB and NN where categorical_feature is needed (you are using LogisticRegression)\n",
      "2018-07-01 00:15:51 | DEBUG | automl_libs.base_layer_utils  | get_oof    | #422 | processing fold 1 of 5...\n",
      "2018-07-01 00:15:52 | DEBUG | automl_libs.base_layer_utils  | get_oof    | #436 | metric of fold 1: 0.7124605490707402\n",
      "2018-07-01 00:15:52 | WARNING | automl_libs.base_layer_utils  | get_oof    | #417 | warning: x_train is not dataframe, you should NOT use models like LGB and NN where categorical_feature is needed (you are using LogisticRegression)\n",
      "2018-07-01 00:15:52 | DEBUG | automl_libs.base_layer_utils  | get_oof    | #422 | processing fold 2 of 5...\n",
      "2018-07-01 00:15:53 | DEBUG | automl_libs.base_layer_utils  | get_oof    | #436 | metric of fold 2: 0.7149288641735253\n",
      "2018-07-01 00:15:53 | WARNING | automl_libs.base_layer_utils  | get_oof    | #417 | warning: x_train is not dataframe, you should NOT use models like LGB and NN where categorical_feature is needed (you are using LogisticRegression)\n",
      "2018-07-01 00:15:53 | DEBUG | automl_libs.base_layer_utils  | get_oof    | #422 | processing fold 3 of 5...\n",
      "2018-07-01 00:15:53 | DEBUG | automl_libs.base_layer_utils  | get_oof    | #436 | metric of fold 3: 0.7153894501170117\n",
      "2018-07-01 00:15:53 | WARNING | automl_libs.base_layer_utils  | get_oof    | #417 | warning: x_train is not dataframe, you should NOT use models like LGB and NN where categorical_feature is needed (you are using LogisticRegression)\n",
      "2018-07-01 00:15:53 | DEBUG | automl_libs.base_layer_utils  | get_oof    | #422 | processing fold 4 of 5...\n",
      "2018-07-01 00:15:54 | DEBUG | automl_libs.base_layer_utils  | get_oof    | #436 | metric of fold 4: 0.7167005073630923\n",
      "2018-07-01 00:15:55 | INFO  | automl_libs.base_layer_utils  | compute_layer2_oof | #585 | Generating Layer2 model 1530418550__LOGREG OOF\n",
      "2018-07-01 00:15:55 | WARNING | automl_libs.base_layer_utils  | get_oof    | #417 | warning: x_train is not dataframe, you should NOT use models like LGB and NN where categorical_feature is needed (you are using DecisionTreeClassifier)\n",
      "2018-07-01 00:15:55 | DEBUG | automl_libs.base_layer_utils  | get_oof    | #422 | processing fold 0 of 5...\n",
      "2018-07-01 00:15:58 | DEBUG | automl_libs.base_layer_utils  | get_oof    | #436 | metric of fold 0: 0.5325795293660287\n",
      "2018-07-01 00:15:58 | WARNING | automl_libs.base_layer_utils  | get_oof    | #417 | warning: x_train is not dataframe, you should NOT use models like LGB and NN where categorical_feature is needed (you are using DecisionTreeClassifier)\n",
      "2018-07-01 00:15:58 | DEBUG | automl_libs.base_layer_utils  | get_oof    | #422 | processing fold 1 of 5...\n",
      "2018-07-01 00:16:01 | DEBUG | automl_libs.base_layer_utils  | get_oof    | #436 | metric of fold 1: 0.5277215190884595\n",
      "2018-07-01 00:16:01 | WARNING | automl_libs.base_layer_utils  | get_oof    | #417 | warning: x_train is not dataframe, you should NOT use models like LGB and NN where categorical_feature is needed (you are using DecisionTreeClassifier)\n",
      "2018-07-01 00:16:01 | DEBUG | automl_libs.base_layer_utils  | get_oof    | #422 | processing fold 2 of 5...\n",
      "2018-07-01 00:16:04 | DEBUG | automl_libs.base_layer_utils  | get_oof    | #436 | metric of fold 2: 0.5326812835708195\n",
      "2018-07-01 00:16:04 | WARNING | automl_libs.base_layer_utils  | get_oof    | #417 | warning: x_train is not dataframe, you should NOT use models like LGB and NN where categorical_feature is needed (you are using DecisionTreeClassifier)\n",
      "2018-07-01 00:16:04 | DEBUG | automl_libs.base_layer_utils  | get_oof    | #422 | processing fold 3 of 5...\n",
      "2018-07-01 00:16:07 | DEBUG | automl_libs.base_layer_utils  | get_oof    | #436 | metric of fold 3: 0.5297045382956964\n",
      "2018-07-01 00:16:07 | WARNING | automl_libs.base_layer_utils  | get_oof    | #417 | warning: x_train is not dataframe, you should NOT use models like LGB and NN where categorical_feature is needed (you are using DecisionTreeClassifier)\n",
      "2018-07-01 00:16:07 | DEBUG | automl_libs.base_layer_utils  | get_oof    | #422 | processing fold 4 of 5...\n",
      "2018-07-01 00:16:10 | DEBUG | automl_libs.base_layer_utils  | get_oof    | #436 | metric of fold 4: 0.5306570861027827\n",
      "2018-07-01 00:16:13 | DEBUG | automl_libs.base_layer_utils.BaseLayerResultsRepo| add_score  | #292 | 1530418549__LOGREG_layer2 already existed in the repo. score: 0 update to 0.7143620684914695\n",
      "2018-07-01 00:16:13 | DEBUG | automl_libs.base_layer_utils.BaseLayerResultsRepo| add_score  | #292 | 1530418550__LOGREG_layer2 already existed in the repo. score: 0 update to 0.5306687912847574\n",
      "2018-07-01 00:16:13 | INFO  | automl_libs.stacknet          | layer2     | #153 | StackNet Report saved at ./output/oof/stacknet_report.csv\n",
      "2018-07-01 00:16:13 | INFO  | automl_app.app.AlphaBoosting  | __init__   | #131 | save run record\n",
      "2018-07-01 00:16:13 | INFO  | automl_app.app.AlphaBoosting  | _save_run_record | #163 | val index is saved at ./temp_data/val_index.pkl\n",
      "2018-07-01 00:16:13 | INFO  | automl_app.app.AlphaBoosting  | _save_run_record | #165 | run record is saved at ./output/last_run_record.json\n"
     ]
    },
    {
     "name": "stdout",
     "output_type": "stream",
     "text": [
      "roc of test 1530418549__LOGREG_layer2 0.7133717311630876\n",
      "roc of test 1530418550__LOGREG_layer2 0.5177300665932579\n"
     ]
    },
    {
     "data": {
      "text/plain": [
       "<automl_app.app.AlphaBoosting at 0x7f8949349da0>"
      ]
     },
     "execution_count": 12,
     "metadata": {},
     "output_type": "execute_result"
    }
   ],
   "source": [
    "from automl_app.app import AlphaBoosting\n",
    "\n",
    "automl_config_file = project_path + 'automl_config.json'\n",
    "run_record_file_name = project_path + 'last_run_record.json' # don't created this file\n",
    "AlphaBoosting(automl_config_file, features_to_gen, gs_params_gen)"
   ]
  },
  {
   "cell_type": "code",
   "execution_count": null,
   "metadata": {},
   "outputs": [],
   "source": []
  }
 ],
 "metadata": {
  "kernelspec": {
   "display_name": "Python 3.5 (tf_gpu)",
   "language": "python",
   "name": "tf_gpu"
  },
  "language_info": {
   "codemirror_mode": {
    "name": "ipython",
    "version": 3
   },
   "file_extension": ".py",
   "mimetype": "text/x-python",
   "name": "python",
   "nbconvert_exporter": "python",
   "pygments_lexer": "ipython3",
   "version": "3.5.5"
  },
  "varInspector": {
   "cols": {
    "lenName": 16,
    "lenType": 16,
    "lenVar": 40
   },
   "kernels_config": {
    "python": {
     "delete_cmd_postfix": "",
     "delete_cmd_prefix": "del ",
     "library": "var_list.py",
     "varRefreshCmd": "print(var_dic_list())"
    },
    "r": {
     "delete_cmd_postfix": ") ",
     "delete_cmd_prefix": "rm(",
     "library": "var_list.r",
     "varRefreshCmd": "cat(var_dic_list()) "
    }
   },
   "types_to_exclude": [
    "module",
    "function",
    "builtin_function_or_method",
    "instance",
    "_Feature"
   ],
   "window_display": false
  }
 },
 "nbformat": 4,
 "nbformat_minor": 2
}
