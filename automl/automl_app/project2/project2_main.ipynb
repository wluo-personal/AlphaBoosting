{
 "cells": [
  {
   "cell_type": "code",
   "execution_count": 1,
   "metadata": {
    "ExecuteTime": {
     "end_time": "2018-07-02T02:05:17.872225Z",
     "start_time": "2018-07-02T02:05:17.850302Z"
    }
   },
   "outputs": [
    {
     "name": "stdout",
     "output_type": "stream",
     "text": [
      "['', '/home/kai/anaconda3/envs/tf_gpu/lib/python35.zip', '/home/kai/anaconda3/envs/tf_gpu/lib/python3.5', '/home/kai/anaconda3/envs/tf_gpu/lib/python3.5/plat-linux', '/home/kai/anaconda3/envs/tf_gpu/lib/python3.5/lib-dynload', '/home/kai/.local/lib/python3.5/site-packages', '/home/kai/anaconda3/envs/tf_gpu/lib/python3.5/site-packages', '/home/kai/anaconda3/envs/tf_gpu/lib/python3.5/site-packages/IPython/extensions', '/home/kai/.ipython', '/home/kai/data/shiyi/AlphaBoosting/automl']\n"
     ]
    }
   ],
   "source": [
    "import os\n",
    "import sys\n",
    "#nb_dir = os.path.split(os.getcwd())[0]\n",
    "#if nb_dir not in sys.path:\n",
    "#    sys.path.append(nb_dir)\n",
    "    \n",
    "autolib_dir = '/home/kai/data/shiyi/AlphaBoosting/automl'\n",
    "if autolib_dir not in sys.path:\n",
    "    sys.path.append(autolib_dir)\n",
    "\n",
    "print(sys.path)\n",
    "\n",
    "%load_ext autoreload\n",
    "%autoreload 2"
   ]
  },
  {
   "cell_type": "code",
   "execution_count": 2,
   "metadata": {
    "ExecuteTime": {
     "end_time": "2018-07-02T02:05:18.910864Z",
     "start_time": "2018-07-02T02:05:17.874586Z"
    }
   },
   "outputs": [
    {
     "name": "stderr",
     "output_type": "stream",
     "text": [
      "/home/kai/anaconda3/envs/tf_gpu/lib/python3.5/site-packages/h5py/__init__.py:36: FutureWarning: Conversion of the second argument of issubdtype from `float` to `np.floating` is deprecated. In future, it will be treated as `np.float64 == np.dtype(float).type`.\n",
      "  from ._conv import register_converters as _register_converters\n",
      "Using TensorFlow backend.\n"
     ]
    }
   ],
   "source": [
    "from automl_libs import base_layer_utils, stacknet\n",
    "from automl_libs import feature_engineering as fe\n",
    "from automl_libs import encoding, kernels, nn_libs "
   ]
  },
  {
   "cell_type": "code",
   "execution_count": 3,
   "metadata": {
    "ExecuteTime": {
     "end_time": "2018-07-02T02:05:18.930137Z",
     "start_time": "2018-07-02T02:05:18.912947Z"
    }
   },
   "outputs": [],
   "source": [
    "categorical_features = ['Month', 'DayofMonth', 'DayOfWeek', 'DepTime', 'UniqueCarrier', 'Origin', 'Dest', 'Distance']"
   ]
  },
  {
   "cell_type": "code",
   "execution_count": 4,
   "metadata": {
    "ExecuteTime": {
     "end_time": "2018-07-02T02:05:18.962026Z",
     "start_time": "2018-07-02T02:05:18.931756Z"
    }
   },
   "outputs": [
    {
     "data": {
      "text/plain": [
       "[{'feature_cols': ['Month', 'DayofMonth'],\n",
       "  'function': <function automl_libs.feature_engineering.count(df, cols, dummy_col, generated_feature_name, params=None)>,\n",
       "  'params': {}},\n",
       " {'feature_cols': ['Month', 'DayOfWeek'],\n",
       "  'function': <function automl_libs.feature_engineering.count(df, cols, dummy_col, generated_feature_name, params=None)>,\n",
       "  'params': {}},\n",
       " {'feature_cols': ['Month', 'DepTime'],\n",
       "  'function': <function automl_libs.feature_engineering.count(df, cols, dummy_col, generated_feature_name, params=None)>,\n",
       "  'params': {}},\n",
       " {'feature_cols': ['Month', 'UniqueCarrier'],\n",
       "  'function': <function automl_libs.feature_engineering.count(df, cols, dummy_col, generated_feature_name, params=None)>,\n",
       "  'params': {}},\n",
       " {'feature_cols': ['Month', 'Origin'],\n",
       "  'function': <function automl_libs.feature_engineering.count(df, cols, dummy_col, generated_feature_name, params=None)>,\n",
       "  'params': {}},\n",
       " {'feature_cols': ['Month', 'Dest'],\n",
       "  'function': <function automl_libs.feature_engineering.count(df, cols, dummy_col, generated_feature_name, params=None)>,\n",
       "  'params': {}},\n",
       " {'feature_cols': ['Month', 'Distance'],\n",
       "  'function': <function automl_libs.feature_engineering.count(df, cols, dummy_col, generated_feature_name, params=None)>,\n",
       "  'params': {}},\n",
       " {'feature_cols': ['DayofMonth', 'DayOfWeek'],\n",
       "  'function': <function automl_libs.feature_engineering.count(df, cols, dummy_col, generated_feature_name, params=None)>,\n",
       "  'params': {}},\n",
       " {'feature_cols': ['DayofMonth', 'DepTime'],\n",
       "  'function': <function automl_libs.feature_engineering.count(df, cols, dummy_col, generated_feature_name, params=None)>,\n",
       "  'params': {}},\n",
       " {'feature_cols': ['DayofMonth', 'UniqueCarrier'],\n",
       "  'function': <function automl_libs.feature_engineering.count(df, cols, dummy_col, generated_feature_name, params=None)>,\n",
       "  'params': {}},\n",
       " {'feature_cols': ['DayofMonth', 'Origin'],\n",
       "  'function': <function automl_libs.feature_engineering.count(df, cols, dummy_col, generated_feature_name, params=None)>,\n",
       "  'params': {}},\n",
       " {'feature_cols': ['DayofMonth', 'Dest'],\n",
       "  'function': <function automl_libs.feature_engineering.count(df, cols, dummy_col, generated_feature_name, params=None)>,\n",
       "  'params': {}},\n",
       " {'feature_cols': ['DayofMonth', 'Distance'],\n",
       "  'function': <function automl_libs.feature_engineering.count(df, cols, dummy_col, generated_feature_name, params=None)>,\n",
       "  'params': {}},\n",
       " {'feature_cols': ['DayOfWeek', 'DepTime'],\n",
       "  'function': <function automl_libs.feature_engineering.count(df, cols, dummy_col, generated_feature_name, params=None)>,\n",
       "  'params': {}},\n",
       " {'feature_cols': ['DayOfWeek', 'UniqueCarrier'],\n",
       "  'function': <function automl_libs.feature_engineering.count(df, cols, dummy_col, generated_feature_name, params=None)>,\n",
       "  'params': {}},\n",
       " {'feature_cols': ['DayOfWeek', 'Origin'],\n",
       "  'function': <function automl_libs.feature_engineering.count(df, cols, dummy_col, generated_feature_name, params=None)>,\n",
       "  'params': {}},\n",
       " {'feature_cols': ['DayOfWeek', 'Dest'],\n",
       "  'function': <function automl_libs.feature_engineering.count(df, cols, dummy_col, generated_feature_name, params=None)>,\n",
       "  'params': {}},\n",
       " {'feature_cols': ['DayOfWeek', 'Distance'],\n",
       "  'function': <function automl_libs.feature_engineering.count(df, cols, dummy_col, generated_feature_name, params=None)>,\n",
       "  'params': {}},\n",
       " {'feature_cols': ['DepTime', 'UniqueCarrier'],\n",
       "  'function': <function automl_libs.feature_engineering.count(df, cols, dummy_col, generated_feature_name, params=None)>,\n",
       "  'params': {}},\n",
       " {'feature_cols': ['DepTime', 'Origin'],\n",
       "  'function': <function automl_libs.feature_engineering.count(df, cols, dummy_col, generated_feature_name, params=None)>,\n",
       "  'params': {}},\n",
       " {'feature_cols': ['DepTime', 'Dest'],\n",
       "  'function': <function automl_libs.feature_engineering.count(df, cols, dummy_col, generated_feature_name, params=None)>,\n",
       "  'params': {}},\n",
       " {'feature_cols': ['DepTime', 'Distance'],\n",
       "  'function': <function automl_libs.feature_engineering.count(df, cols, dummy_col, generated_feature_name, params=None)>,\n",
       "  'params': {}},\n",
       " {'feature_cols': ['UniqueCarrier', 'Origin'],\n",
       "  'function': <function automl_libs.feature_engineering.count(df, cols, dummy_col, generated_feature_name, params=None)>,\n",
       "  'params': {}},\n",
       " {'feature_cols': ['UniqueCarrier', 'Dest'],\n",
       "  'function': <function automl_libs.feature_engineering.count(df, cols, dummy_col, generated_feature_name, params=None)>,\n",
       "  'params': {}},\n",
       " {'feature_cols': ['UniqueCarrier', 'Distance'],\n",
       "  'function': <function automl_libs.feature_engineering.count(df, cols, dummy_col, generated_feature_name, params=None)>,\n",
       "  'params': {}},\n",
       " {'feature_cols': ['Origin', 'Dest'],\n",
       "  'function': <function automl_libs.feature_engineering.count(df, cols, dummy_col, generated_feature_name, params=None)>,\n",
       "  'params': {}},\n",
       " {'feature_cols': ['Origin', 'Distance'],\n",
       "  'function': <function automl_libs.feature_engineering.count(df, cols, dummy_col, generated_feature_name, params=None)>,\n",
       "  'params': {}},\n",
       " {'feature_cols': ['Dest', 'Distance'],\n",
       "  'function': <function automl_libs.feature_engineering.count(df, cols, dummy_col, generated_feature_name, params=None)>,\n",
       "  'params': {}},\n",
       " {'feature_cols': ['Month', 'DayofMonth'],\n",
       "  'function': <function automl_libs.feature_engineering.unique_count(df, cols, dummy_col, generated_feature_name, params=None)>,\n",
       "  'params': {}},\n",
       " {'feature_cols': ['Month', 'DayOfWeek'],\n",
       "  'function': <function automl_libs.feature_engineering.unique_count(df, cols, dummy_col, generated_feature_name, params=None)>,\n",
       "  'params': {}},\n",
       " {'feature_cols': ['Month', 'DepTime'],\n",
       "  'function': <function automl_libs.feature_engineering.unique_count(df, cols, dummy_col, generated_feature_name, params=None)>,\n",
       "  'params': {}},\n",
       " {'feature_cols': ['Month', 'UniqueCarrier'],\n",
       "  'function': <function automl_libs.feature_engineering.unique_count(df, cols, dummy_col, generated_feature_name, params=None)>,\n",
       "  'params': {}},\n",
       " {'feature_cols': ['Month', 'Origin'],\n",
       "  'function': <function automl_libs.feature_engineering.unique_count(df, cols, dummy_col, generated_feature_name, params=None)>,\n",
       "  'params': {}},\n",
       " {'feature_cols': ['Month', 'Dest'],\n",
       "  'function': <function automl_libs.feature_engineering.unique_count(df, cols, dummy_col, generated_feature_name, params=None)>,\n",
       "  'params': {}},\n",
       " {'feature_cols': ['Month', 'Distance'],\n",
       "  'function': <function automl_libs.feature_engineering.unique_count(df, cols, dummy_col, generated_feature_name, params=None)>,\n",
       "  'params': {}},\n",
       " {'feature_cols': ['DayofMonth', 'DayOfWeek'],\n",
       "  'function': <function automl_libs.feature_engineering.unique_count(df, cols, dummy_col, generated_feature_name, params=None)>,\n",
       "  'params': {}},\n",
       " {'feature_cols': ['DayofMonth', 'DepTime'],\n",
       "  'function': <function automl_libs.feature_engineering.unique_count(df, cols, dummy_col, generated_feature_name, params=None)>,\n",
       "  'params': {}},\n",
       " {'feature_cols': ['DayofMonth', 'UniqueCarrier'],\n",
       "  'function': <function automl_libs.feature_engineering.unique_count(df, cols, dummy_col, generated_feature_name, params=None)>,\n",
       "  'params': {}},\n",
       " {'feature_cols': ['DayofMonth', 'Origin'],\n",
       "  'function': <function automl_libs.feature_engineering.unique_count(df, cols, dummy_col, generated_feature_name, params=None)>,\n",
       "  'params': {}},\n",
       " {'feature_cols': ['DayofMonth', 'Dest'],\n",
       "  'function': <function automl_libs.feature_engineering.unique_count(df, cols, dummy_col, generated_feature_name, params=None)>,\n",
       "  'params': {}},\n",
       " {'feature_cols': ['DayofMonth', 'Distance'],\n",
       "  'function': <function automl_libs.feature_engineering.unique_count(df, cols, dummy_col, generated_feature_name, params=None)>,\n",
       "  'params': {}},\n",
       " {'feature_cols': ['DayOfWeek', 'DepTime'],\n",
       "  'function': <function automl_libs.feature_engineering.unique_count(df, cols, dummy_col, generated_feature_name, params=None)>,\n",
       "  'params': {}},\n",
       " {'feature_cols': ['DayOfWeek', 'UniqueCarrier'],\n",
       "  'function': <function automl_libs.feature_engineering.unique_count(df, cols, dummy_col, generated_feature_name, params=None)>,\n",
       "  'params': {}},\n",
       " {'feature_cols': ['DayOfWeek', 'Origin'],\n",
       "  'function': <function automl_libs.feature_engineering.unique_count(df, cols, dummy_col, generated_feature_name, params=None)>,\n",
       "  'params': {}},\n",
       " {'feature_cols': ['DayOfWeek', 'Dest'],\n",
       "  'function': <function automl_libs.feature_engineering.unique_count(df, cols, dummy_col, generated_feature_name, params=None)>,\n",
       "  'params': {}},\n",
       " {'feature_cols': ['DayOfWeek', 'Distance'],\n",
       "  'function': <function automl_libs.feature_engineering.unique_count(df, cols, dummy_col, generated_feature_name, params=None)>,\n",
       "  'params': {}},\n",
       " {'feature_cols': ['DepTime', 'UniqueCarrier'],\n",
       "  'function': <function automl_libs.feature_engineering.unique_count(df, cols, dummy_col, generated_feature_name, params=None)>,\n",
       "  'params': {}},\n",
       " {'feature_cols': ['DepTime', 'Origin'],\n",
       "  'function': <function automl_libs.feature_engineering.unique_count(df, cols, dummy_col, generated_feature_name, params=None)>,\n",
       "  'params': {}},\n",
       " {'feature_cols': ['DepTime', 'Dest'],\n",
       "  'function': <function automl_libs.feature_engineering.unique_count(df, cols, dummy_col, generated_feature_name, params=None)>,\n",
       "  'params': {}},\n",
       " {'feature_cols': ['DepTime', 'Distance'],\n",
       "  'function': <function automl_libs.feature_engineering.unique_count(df, cols, dummy_col, generated_feature_name, params=None)>,\n",
       "  'params': {}},\n",
       " {'feature_cols': ['UniqueCarrier', 'Origin'],\n",
       "  'function': <function automl_libs.feature_engineering.unique_count(df, cols, dummy_col, generated_feature_name, params=None)>,\n",
       "  'params': {}},\n",
       " {'feature_cols': ['UniqueCarrier', 'Dest'],\n",
       "  'function': <function automl_libs.feature_engineering.unique_count(df, cols, dummy_col, generated_feature_name, params=None)>,\n",
       "  'params': {}},\n",
       " {'feature_cols': ['UniqueCarrier', 'Distance'],\n",
       "  'function': <function automl_libs.feature_engineering.unique_count(df, cols, dummy_col, generated_feature_name, params=None)>,\n",
       "  'params': {}},\n",
       " {'feature_cols': ['Origin', 'Dest'],\n",
       "  'function': <function automl_libs.feature_engineering.unique_count(df, cols, dummy_col, generated_feature_name, params=None)>,\n",
       "  'params': {}},\n",
       " {'feature_cols': ['Origin', 'Distance'],\n",
       "  'function': <function automl_libs.feature_engineering.unique_count(df, cols, dummy_col, generated_feature_name, params=None)>,\n",
       "  'params': {}},\n",
       " {'feature_cols': ['Dest', 'Distance'],\n",
       "  'function': <function automl_libs.feature_engineering.unique_count(df, cols, dummy_col, generated_feature_name, params=None)>,\n",
       "  'params': {}}]"
      ]
     },
     "execution_count": 4,
     "metadata": {},
     "output_type": "execute_result"
    }
   ],
   "source": [
    "import itertools\n",
    "#params = {'split_col': 't', 'coefficient': 10, 'n': 2, 'fillna': 22}\n",
    "def get_features_to_gen(function_list, low, high):\n",
    "    features_to_gen = []\n",
    "    for function in function_list:\n",
    "        for i in range(low, high+1):\n",
    "            for combine in itertools.combinations(categorical_features, i):\n",
    "                if function.__name__ == 'count_std_over_mean':\n",
    "                    features_to_gen.append({'params': {'coefficient': 10}, 'function': function, 'feature_cols': list(combine)})\n",
    "                else:\n",
    "                    features_to_gen.append({'params': {}, 'function': function, 'feature_cols': list(combine)})\n",
    "                \n",
    "    return features_to_gen\n",
    "\n",
    "# features_to_gen = get_features_to_gen([fe.count, fe.unique_count, \n",
    "#                                        fe.cumulative_count, \n",
    "#                                        fe.reverse_cumulative_count, \n",
    "#                                        fe.variance, fe.count_std_over_mean], \n",
    "#                                       2, 2)# len(categorical_features))\n",
    "# features_to_gen = get_features_to_gen([fe.count, fe.unique_count, fe.cumulative_count])\n",
    "features_to_gen = get_features_to_gen([fe.count, fe.unique_count], 2, 2)#len(categorical_features))\n",
    "\n",
    "features_to_gen"
   ]
  },
  {
   "cell_type": "code",
   "execution_count": 5,
   "metadata": {
    "ExecuteTime": {
     "end_time": "2018-07-02T02:05:18.980817Z",
     "start_time": "2018-07-02T02:05:18.963260Z"
    }
   },
   "outputs": [
    {
     "data": {
      "text/plain": [
       "56"
      ]
     },
     "execution_count": 5,
     "metadata": {},
     "output_type": "execute_result"
    }
   ],
   "source": [
    "len(features_to_gen)"
   ]
  },
  {
   "cell_type": "code",
   "execution_count": 6,
   "metadata": {
    "ExecuteTime": {
     "end_time": "2018-07-02T02:05:18.998617Z",
     "start_time": "2018-07-02T02:05:18.982132Z"
    }
   },
   "outputs": [],
   "source": [
    "project_path = '/home/kai/data/shiyi/AlphaBoosting/automl/automl_app/project2/' "
   ]
  },
  {
   "cell_type": "code",
   "execution_count": 7,
   "metadata": {
    "ExecuteTime": {
     "end_time": "2018-07-02T02:05:19.017271Z",
     "start_time": "2018-07-02T02:05:18.999954Z"
    }
   },
   "outputs": [],
   "source": [
    "from automl_app import logger_config\n",
    "import logging\n",
    "logger_config.config(project_path+'log_project2.log', file_loglevel=logging.INFO)"
   ]
  },
  {
   "cell_type": "code",
   "execution_count": 8,
   "metadata": {
    "ExecuteTime": {
     "end_time": "2018-07-02T02:05:19.043634Z",
     "start_time": "2018-07-02T02:05:19.018989Z"
    }
   },
   "outputs": [],
   "source": [
    "def gs_params_gen(model='lgb'):\n",
    "    import time\n",
    "    import numpy as np\n",
    "    seed = int(time.time()* 1000000) % 45234634\n",
    "    np.random.seed(seed)\n",
    "    if model == 'lgb':\n",
    "        params = {    \n",
    "            'objective': 'binary',\n",
    "            'boosting': 'gbdt',\n",
    "            'num_boost_round': 30, # ignored in params. extract it and put it in input arguments in train or cv explicitly\n",
    "                                   # seems to work fine as the upper limit when combined with early_stopping_round\n",
    "            'learning_rate': np.random.choice([0.1,0.03]),#0.001]),\n",
    "            'num_leaves': np.random.choice([15,31]),#,61,127]),\n",
    "            'num_threads': 8, # best speed: set to number of real cpu cores, which is vCPU/2\n",
    "            'max_depth': -1, # no limit. This is used to deal with over-fitting when #data is small.\n",
    "            'min_data_in_leaf': np.random.randint(20,50),  #minimal number of data in one leaf. \n",
    "            'feature_fraction': np.random.randint(9,11)/10,\n",
    "            'feature_fraction_seed': seed,\n",
    "            'early_stopping_round':10,\n",
    "            'bagging_freq': 1, #0 means disable bagging. k: perform bagging at every k iteration\n",
    "            'bagging_fraction': np.random.randint(4,11)/10, #Randomly select part of data \n",
    "            'bagging_seed': seed,\n",
    "            'scale_pos_weight': 1,\n",
    "            'metric': 'auc' \n",
    "        }\n",
    "    elif model == 'nn':\n",
    "        params = {\n",
    "            'nn_seed': int(time.time() * 1000000) % 45234634,\n",
    "            'ep_for_lr': 1,\n",
    "            'lr_init': 0.01,\n",
    "            'lr_fin': 0.005, # if == lr_init, then no lr decay\n",
    "            'batch_size': np.random.choice([32, 64, 128, 256, 512, 1024, 2048]),\n",
    "            \"pred_batch_size\": 50000,\n",
    "            'max_ep': 1,\n",
    "            'patience': 1,\n",
    "            'cat_emb_outdim': 50, # could be a constant or a dict (col name:embed out dim). e.g.:\n",
    "                                  # embed_outdim = [3, 3, 8, 8, 3]\n",
    "                                  # embed_outdim_dict = dict(zip(X_train.columns.values, embed_outdim))\n",
    "            'dense_units': 50,\n",
    "            'num_dense_n_layers': 1,\n",
    "            'drop_rate': 0.2,\n",
    "            'combined_dense_n_layers': 1,\n",
    "            'monitor': 'val_auc',  # or val_loss (MUST HAVE)\n",
    "            'mode': 'max'  # MUST HAVE\n",
    "        }\n",
    "    return params, seed"
   ]
  },
  {
   "cell_type": "code",
   "execution_count": 9,
   "metadata": {
    "ExecuteTime": {
     "end_time": "2018-07-02T02:05:19.062633Z",
     "start_time": "2018-07-02T02:05:19.045106Z"
    }
   },
   "outputs": [
    {
     "data": {
      "text/plain": [
       "({'batch_size': 2048,\n",
       "  'cat_emb_outdim': 50,\n",
       "  'combined_dense_n_layers': 1,\n",
       "  'dense_units': 50,\n",
       "  'drop_rate': 0.2,\n",
       "  'ep_for_lr': 1,\n",
       "  'lr_fin': 0.005,\n",
       "  'lr_init': 0.01,\n",
       "  'max_ep': 1,\n",
       "  'mode': 'max',\n",
       "  'monitor': 'val_auc',\n",
       "  'nn_seed': 14484579,\n",
       "  'num_dense_n_layers': 1,\n",
       "  'patience': 1,\n",
       "  'pred_batch_size': 50000},\n",
       " 14484570)"
      ]
     },
     "execution_count": 9,
     "metadata": {},
     "output_type": "execute_result"
    }
   ],
   "source": [
    "gs_params_gen('nn')"
   ]
  },
  {
   "cell_type": "code",
   "execution_count": 10,
   "metadata": {
    "ExecuteTime": {
     "end_time": "2018-07-02T02:07:34.840026Z",
     "start_time": "2018-07-02T02:05:19.064042Z"
    },
    "scrolled": true
   },
   "outputs": [
    {
     "name": "stderr",
     "output_type": "stream",
     "text": [
      "2018-07-01 22:05:19 | INFO    | automl_app.app.AlphaBoosting      | __init__   | #22  | ==========NEW RUN==========\n",
      "/home/kai/data/shiyi/AlphaBoosting/automl/automl_app/app.py:139: FutureWarning: Sorting because non-concatenation axis is not aligned. A future version\n",
      "of pandas will change to not sort by default.\n",
      "\n",
      "To accept the future behavior, pass 'sort=False'.\n",
      "\n",
      "To retain the current behavior and silence the warning, pass 'sort=True'.\n",
      "\n",
      "  self.df = pd.concat([self.train, self.test], ignore_index=True)\n",
      "2018-07-01 22:05:19 | INFO    | automl_app.app.AlphaBoosting      | __init__   | #65  | Run record file [./output/last_run_record.json] not found. Begin the first time run...\n",
      "2018-07-01 22:05:19 | INFO    | automl_app.app.AlphaBoosting      | __init__   | #96  | generate todo list\n",
      "2018-07-01 22:05:19 | INFO    | automl_app.app.AlphaBoosting      | __init__   | #112 | STAGE: FEATURE_ENGINEERING\n",
      "2018-07-01 22:05:19 | DEBUG   | automl_libs.feature_engineering   | count      | #66  | feature generated: count__Month_DayofMonth\n",
      "2018-07-01 22:05:19 | DEBUG   | automl_libs.feature_engineering   | count      | #66  | feature generated: count__Month_DayOfWeek\n",
      "2018-07-01 22:05:19 | DEBUG   | automl_libs.feature_engineering   | count      | #66  | feature generated: count__Month_DepTime\n",
      "2018-07-01 22:05:20 | DEBUG   | automl_libs.feature_engineering   | count      | #66  | feature generated: count__Month_UniqueCarrier\n",
      "2018-07-01 22:05:20 | DEBUG   | automl_libs.feature_engineering   | count      | #66  | feature generated: count__Month_Origin\n",
      "2018-07-01 22:05:20 | DEBUG   | automl_libs.feature_engineering   | count      | #66  | feature generated: count__Month_Dest\n",
      "2018-07-01 22:05:21 | DEBUG   | automl_libs.feature_engineering   | count      | #66  | feature generated: count__Month_Distance\n",
      "2018-07-01 22:05:21 | DEBUG   | automl_libs.feature_engineering   | count      | #66  | feature generated: count__DayofMonth_DayOfWeek\n",
      "2018-07-01 22:05:21 | DEBUG   | automl_libs.feature_engineering   | count      | #66  | feature generated: count__DayofMonth_DepTime\n",
      "2018-07-01 22:05:21 | DEBUG   | automl_libs.feature_engineering   | count      | #66  | feature generated: count__DayofMonth_UniqueCarrier\n",
      "2018-07-01 22:05:22 | DEBUG   | automl_libs.feature_engineering   | count      | #66  | feature generated: count__DayofMonth_Origin\n",
      "2018-07-01 22:05:22 | DEBUG   | automl_libs.feature_engineering   | count      | #66  | feature generated: count__DayofMonth_Dest\n",
      "2018-07-01 22:05:22 | DEBUG   | automl_libs.feature_engineering   | count      | #66  | feature generated: count__DayofMonth_Distance\n",
      "2018-07-01 22:05:22 | DEBUG   | automl_libs.feature_engineering   | count      | #66  | feature generated: count__DayOfWeek_DepTime\n",
      "2018-07-01 22:05:23 | DEBUG   | automl_libs.feature_engineering   | count      | #66  | feature generated: count__DayOfWeek_UniqueCarrier\n",
      "2018-07-01 22:05:23 | DEBUG   | automl_libs.feature_engineering   | count      | #66  | feature generated: count__DayOfWeek_Origin\n",
      "2018-07-01 22:05:23 | DEBUG   | automl_libs.feature_engineering   | count      | #66  | feature generated: count__DayOfWeek_Dest\n",
      "2018-07-01 22:05:23 | DEBUG   | automl_libs.feature_engineering   | count      | #66  | feature generated: count__DayOfWeek_Distance\n",
      "2018-07-01 22:05:24 | DEBUG   | automl_libs.feature_engineering   | count      | #66  | feature generated: count__DepTime_UniqueCarrier\n",
      "2018-07-01 22:05:24 | DEBUG   | automl_libs.feature_engineering   | count      | #66  | feature generated: count__DepTime_Origin\n",
      "2018-07-01 22:05:24 | DEBUG   | automl_libs.feature_engineering   | count      | #66  | feature generated: count__DepTime_Dest\n",
      "2018-07-01 22:05:24 | DEBUG   | automl_libs.feature_engineering   | count      | #66  | feature generated: count__DepTime_Distance\n",
      "2018-07-01 22:05:25 | DEBUG   | automl_libs.feature_engineering   | count      | #66  | feature generated: count__UniqueCarrier_Origin\n",
      "2018-07-01 22:05:25 | DEBUG   | automl_libs.feature_engineering   | count      | #66  | feature generated: count__UniqueCarrier_Dest\n",
      "2018-07-01 22:05:25 | DEBUG   | automl_libs.feature_engineering   | count      | #66  | feature generated: count__UniqueCarrier_Distance\n",
      "2018-07-01 22:05:25 | DEBUG   | automl_libs.feature_engineering   | count      | #66  | feature generated: count__Origin_Dest\n",
      "2018-07-01 22:05:26 | DEBUG   | automl_libs.feature_engineering   | count      | #66  | feature generated: count__Origin_Distance\n",
      "2018-07-01 22:05:26 | DEBUG   | automl_libs.feature_engineering   | count      | #66  | feature generated: count__Dest_Distance\n",
      "2018-07-01 22:05:26 | DEBUG   | automl_libs.feature_engineering   | unique_count | #130 | feature generated: unique_count__Month_DayofMonth\n",
      "2018-07-01 22:05:27 | DEBUG   | automl_libs.feature_engineering   | unique_count | #130 | feature generated: unique_count__Month_DayOfWeek\n",
      "2018-07-01 22:05:27 | DEBUG   | automl_libs.feature_engineering   | unique_count | #130 | feature generated: unique_count__Month_DepTime\n",
      "2018-07-01 22:05:27 | DEBUG   | automl_libs.feature_engineering   | unique_count | #130 | feature generated: unique_count__Month_UniqueCarrier\n",
      "2018-07-01 22:05:28 | DEBUG   | automl_libs.feature_engineering   | unique_count | #130 | feature generated: unique_count__Month_Origin\n",
      "2018-07-01 22:05:28 | DEBUG   | automl_libs.feature_engineering   | unique_count | #130 | feature generated: unique_count__Month_Dest\n",
      "2018-07-01 22:05:28 | DEBUG   | automl_libs.feature_engineering   | unique_count | #130 | feature generated: unique_count__Month_Distance\n",
      "2018-07-01 22:05:29 | DEBUG   | automl_libs.feature_engineering   | unique_count | #130 | feature generated: unique_count__DayofMonth_DayOfWeek\n",
      "2018-07-01 22:05:29 | DEBUG   | automl_libs.feature_engineering   | unique_count | #130 | feature generated: unique_count__DayofMonth_DepTime\n",
      "2018-07-01 22:05:29 | DEBUG   | automl_libs.feature_engineering   | unique_count | #130 | feature generated: unique_count__DayofMonth_UniqueCarrier\n",
      "2018-07-01 22:05:30 | DEBUG   | automl_libs.feature_engineering   | unique_count | #130 | feature generated: unique_count__DayofMonth_Origin\n",
      "2018-07-01 22:05:30 | DEBUG   | automl_libs.feature_engineering   | unique_count | #130 | feature generated: unique_count__DayofMonth_Dest\n",
      "2018-07-01 22:05:30 | DEBUG   | automl_libs.feature_engineering   | unique_count | #130 | feature generated: unique_count__DayofMonth_Distance\n",
      "2018-07-01 22:05:31 | DEBUG   | automl_libs.feature_engineering   | unique_count | #130 | feature generated: unique_count__DayOfWeek_DepTime\n",
      "2018-07-01 22:05:31 | DEBUG   | automl_libs.feature_engineering   | unique_count | #130 | feature generated: unique_count__DayOfWeek_UniqueCarrier\n",
      "2018-07-01 22:05:32 | DEBUG   | automl_libs.feature_engineering   | unique_count | #130 | feature generated: unique_count__DayOfWeek_Origin\n",
      "2018-07-01 22:05:32 | DEBUG   | automl_libs.feature_engineering   | unique_count | #130 | feature generated: unique_count__DayOfWeek_Dest\n",
      "2018-07-01 22:05:32 | DEBUG   | automl_libs.feature_engineering   | unique_count | #130 | feature generated: unique_count__DayOfWeek_Distance\n",
      "2018-07-01 22:05:33 | DEBUG   | automl_libs.feature_engineering   | unique_count | #130 | feature generated: unique_count__DepTime_UniqueCarrier\n",
      "2018-07-01 22:05:33 | DEBUG   | automl_libs.feature_engineering   | unique_count | #130 | feature generated: unique_count__DepTime_Origin\n",
      "2018-07-01 22:05:33 | DEBUG   | automl_libs.feature_engineering   | unique_count | #130 | feature generated: unique_count__DepTime_Dest\n",
      "2018-07-01 22:05:34 | DEBUG   | automl_libs.feature_engineering   | unique_count | #130 | feature generated: unique_count__DepTime_Distance\n",
      "2018-07-01 22:05:34 | DEBUG   | automl_libs.feature_engineering   | unique_count | #130 | feature generated: unique_count__UniqueCarrier_Origin\n",
      "2018-07-01 22:05:34 | DEBUG   | automl_libs.feature_engineering   | unique_count | #130 | feature generated: unique_count__UniqueCarrier_Dest\n",
      "2018-07-01 22:05:35 | DEBUG   | automl_libs.feature_engineering   | unique_count | #130 | feature generated: unique_count__UniqueCarrier_Distance\n",
      "2018-07-01 22:05:35 | DEBUG   | automl_libs.feature_engineering   | unique_count | #130 | feature generated: unique_count__Origin_Dest\n"
     ]
    },
    {
     "name": "stderr",
     "output_type": "stream",
     "text": [
      "2018-07-01 22:05:35 | DEBUG   | automl_libs.feature_engineering   | unique_count | #130 | feature generated: unique_count__Origin_Distance\n",
      "2018-07-01 22:05:36 | DEBUG   | automl_libs.feature_engineering   | unique_count | #130 | feature generated: unique_count__Dest_Distance\n",
      "2018-07-01 22:05:36 | INFO    | automl_app.app.AlphaBoosting      | __init__   | #116 | STAGE: VALIDATION_DOWNSAMPLING_GEN\n",
      "2018-07-01 22:05:49 | INFO    | automl_app.app.AlphaBoosting      | __init__   | #120 | STAGE: CONCAT_DATA\n",
      "2018-07-01 22:05:51 | INFO    | automl_app.app.AlphaBoosting      | __init__   | #124 | STAGE: GRID_SEARCH\n",
      "2018-07-01 22:05:51 | INFO    | automl_app.app.AlphaBoosting      | _get_final_data | #329 | Data retrieved. Shape: train (100000, 65) | val (50000, 65) | test (100000, 64) | 8 cat features | 64 total features | y name: label\n",
      "2018-07-01 22:05:51 | INFO    | automl_libs.grid_search           | gs         | #29  | Grid search lgb. round 1 of 1\n"
     ]
    },
    {
     "name": "stdout",
     "output_type": "stream",
     "text": [
      "[20]\tcv_agg's auc: 0.707904 + 0.00283624\n"
     ]
    },
    {
     "name": "stderr",
     "output_type": "stream",
     "text": [
      "2018-07-01 22:05:52 | INFO    | automl_libs.grid_search           | _lgb_gs    | #89  | val_auc: 0.71197 (cv, no train_auc)\n",
      "2018-07-01 22:05:52 | INFO    | automl_libs.grid_search           | _lgb_gs    | #109 | [do_preds] is True, generating predictions ...\n",
      "2018-07-01 22:05:52 | INFO    | automl_libs.grid_search           | _lgb_gs    | #110 | Retrain model using best_round and all data...\n",
      "2018-07-01 22:05:53 | INFO    | automl_libs.grid_search           | _lgb_gs    | #118 | Training done. Iteration: 30 | train_auc: 0.71808 | 64 features\n"
     ]
    },
    {
     "name": "stdout",
     "output_type": "stream",
     "text": [
      "[6]\ttraining's auc: 0.703658\n",
      "[12]\ttraining's auc: 0.709087\n",
      "[18]\ttraining's auc: 0.712733\n",
      "[24]\ttraining's auc: 0.7156\n",
      "[30]\ttraining's auc: 0.718078\n"
     ]
    },
    {
     "name": "stderr",
     "output_type": "stream",
     "text": [
      "2018-07-01 22:05:53 | INFO    | automl_libs.grid_search           | _lgb_gs    | #131 | LGB predictions(Z925) saved in ./output/gs_saved_preds/.\n",
      "2018-07-01 22:05:53 | DEBUG   | automl_libs.grid_search           | gs         | #50  | ./output/lgb_grid_search.csv created\n",
      "2018-07-01 22:05:53 | INFO    | automl_libs.grid_search           | gs         | #29  | Grid search nn. round 1 of 1\n",
      "2018-07-01 22:05:53 | DEBUG   | automl_libs.nn_libs               | get_model  | #57  | Col [DayOfWeek]: embed dim: input 8, output 8\n",
      "2018-07-01 22:05:53 | DEBUG   | automl_libs.nn_libs               | get_model  | #57  | Col [DepTime]: embed dim: input 27, output 27\n",
      "2018-07-01 22:05:53 | DEBUG   | automl_libs.nn_libs               | get_model  | #57  | Col [Month]: embed dim: input 13, output 13\n",
      "2018-07-01 22:05:53 | DEBUG   | automl_libs.nn_libs               | get_model  | #57  | Col [Distance]: embed dim: input 10, output 10\n",
      "2018-07-01 22:05:53 | DEBUG   | automl_libs.nn_libs               | get_model  | #57  | Col [Origin]: embed dim: input 292, output 50\n",
      "2018-07-01 22:05:53 | DEBUG   | automl_libs.nn_libs               | get_model  | #57  | Col [DayofMonth]: embed dim: input 32, output 32\n",
      "2018-07-01 22:05:53 | DEBUG   | automl_libs.nn_libs               | get_model  | #57  | Col [UniqueCarrier]: embed dim: input 23, output 23\n",
      "2018-07-01 22:05:53 | DEBUG   | automl_libs.nn_libs               | get_model  | #57  | Col [Dest]: embed dim: input 293, output 50\n",
      "2018-07-01 22:05:53 | DEBUG   | automl_libs.nn_libs               | get_model  | #103 | steps in on epoch: 781\n",
      "2018-07-01 22:05:53 | DEBUG   | automl_libs.nn_libs               | get_model  | #104 | steps for lr decay: 781\n",
      "2018-07-01 22:05:53 | DEBUG   | automl_libs.nn_libs               | get_model  | #105 | lr decay: 0.000889\n"
     ]
    },
    {
     "name": "stdout",
     "output_type": "stream",
     "text": [
      "(_lgb_gs) roc of test: 0.712156042102963\n",
      "Train on 100000 samples, validate on 50000 samples\n",
      "Epoch 1/1\n"
     ]
    },
    {
     "name": "stderr",
     "output_type": "stream",
     "text": [
      "2018-07-01 22:06:06 | DEBUG   | automl_libs.nn_libs.LearningRateTracker| _show_lr   | #162 | At epoch end: init lr 0.01000, lr_decay 0.00089, iterations 782, current lr 0.00590\n",
      "2018-07-01 22:06:06 | INFO    | automl_libs.grid_search           | _nn_gs     | #180 | val_auc: 0.72083\n",
      "2018-07-01 22:06:06 | INFO    | automl_libs.grid_search           | _nn_gs     | #191 | val_loss: 0.43789 | train_loss: 0.45046 (not cv)\n",
      "2018-07-01 22:06:06 | INFO    | automl_libs.grid_search           | _nn_gs     | #199 | [do_preds] is True, generating predictions ...\n"
     ]
    },
    {
     "name": "stdout",
     "output_type": "stream",
     "text": [
      "\n",
      "Epoch 00001: roc_auc_val improved from -inf to 0.72083, saving model to ./output/gs_saved_preds/nn_saved_models/nn_DPgq.hdf5\n"
     ]
    },
    {
     "name": "stderr",
     "output_type": "stream",
     "text": [
      "2018-07-01 22:06:06 | INFO    | automl_libs.grid_search           | _nn_gs     | #212 | NN predictions(DPgq) saved in ./output/gs_saved_preds/.\n",
      "2018-07-01 22:06:06 | DEBUG   | automl_libs.grid_search           | gs         | #50  | ./output/nn_grid_search.csv created\n",
      "2018-07-01 22:06:06 | INFO    | automl_app.app.AlphaBoosting      | __init__   | #128 | STAGE: STACKNET\n"
     ]
    },
    {
     "name": "stdout",
     "output_type": "stream",
     "text": [
      "(_nn_gs) roc of test: 0.7221961446035623\n"
     ]
    },
    {
     "name": "stderr",
     "output_type": "stream",
     "text": [
      "2018-07-01 22:06:07 | INFO    | automl_app.app.AlphaBoosting      | _get_final_data | #329 | Data retrieved. Shape: train (100000, 65) | val (50000, 65) | test (100000, 64) | 8 cat features | 64 total features | y name: label\n",
      "2018-07-01 22:06:07 | DEBUG   | automl_libs.stacknet              | layer1     | #37  | data_id: flight_data_ordinal  \n",
      "\tx_train: (150000, 64)\tx_test: (100000, 64)\n",
      "\ty_train type: <class 'dict'>\n",
      "\tcompatible_models: {'NN', 'LGB'}\n",
      " \n",
      "2018-07-01 22:06:07 | INFO    | automl_libs.stacknet              | layer1     | #66  | using nn params: DPgq to do oof\n",
      "2018-07-01 22:06:07 | DEBUG   | automl_libs.stacknet              | layer1     | #67  | {'lr_init': 0.01, 'monitor': 'val_auc', 'val_acc': 0.8134399999809265, 'best_epoch': 1, 'timestamp': '2018-07-01 22:05:53', 'trn_acc': 0.81005, 'drop_rate': 0.2, 'trn_loss': 0.450462234287262, 'combined_dense_n_layers': 1, 'dense_units': 50, 'mode': 'max', 'max_ep': 1, 'batch_size': 128, 'patience': 1, 'val_loss': 0.4378852615737915, 'num_dense_n_layers': 1, 'ep_for_lr': 1, 'lr_fin': 0.005, 'pred_timespent': '0:00:00', 'cat_emb_outdim': 50, 'pred_batch_size': 50000, 'val_auc': 0.7208335116544013, 'nn_seed': 3768422, 'gs_timespent': '0:00:13'}\n",
      "2018-07-01 22:06:07 | INFO    | automl_libs.base_layer_utils      | compute_layer1_oof | #486 | StackNet layer1: label: label    model_data_id: DPgq__NN_flight_data_ordinal_layer1\n",
      "2018-07-01 22:06:07 | INFO    | automl_libs.base_layer_utils      | get_oof    | #422 | processing fold 1 of 5...\n",
      "2018-07-01 22:06:07 | DEBUG   | automl_libs.nn_libs               | get_model  | #57  | Col [DayOfWeek]: embed dim: input 8, output 8\n",
      "2018-07-01 22:06:07 | DEBUG   | automl_libs.nn_libs               | get_model  | #57  | Col [DepTime]: embed dim: input 27, output 27\n",
      "2018-07-01 22:06:07 | DEBUG   | automl_libs.nn_libs               | get_model  | #57  | Col [Month]: embed dim: input 13, output 13\n",
      "2018-07-01 22:06:07 | DEBUG   | automl_libs.nn_libs               | get_model  | #57  | Col [Distance]: embed dim: input 10, output 10\n",
      "2018-07-01 22:06:07 | DEBUG   | automl_libs.nn_libs               | get_model  | #57  | Col [Origin]: embed dim: input 292, output 50\n",
      "2018-07-01 22:06:07 | DEBUG   | automl_libs.nn_libs               | get_model  | #57  | Col [DayofMonth]: embed dim: input 32, output 32\n",
      "2018-07-01 22:06:07 | DEBUG   | automl_libs.nn_libs               | get_model  | #57  | Col [UniqueCarrier]: embed dim: input 23, output 23\n",
      "2018-07-01 22:06:07 | DEBUG   | automl_libs.nn_libs               | get_model  | #57  | Col [Dest]: embed dim: input 293, output 50\n",
      "2018-07-01 22:06:07 | DEBUG   | automl_libs.nn_libs               | get_model  | #103 | steps in on epoch: 937\n",
      "2018-07-01 22:06:07 | DEBUG   | automl_libs.nn_libs               | get_model  | #104 | steps for lr decay: 937\n",
      "2018-07-01 22:06:07 | DEBUG   | automl_libs.nn_libs               | get_model  | #105 | lr decay: 0.000741\n"
     ]
    },
    {
     "name": "stdout",
     "output_type": "stream",
     "text": [
      "Train on 119999 samples, validate on 30001 samples\n",
      "Epoch 1/1\n",
      "119999/119999 [==============================] - 12s 102us/step - loss: 0.4497 - acc: 0.8101 - val_loss: 0.4395 - val_acc: 0.8139\n",
      "30001/30001 [==============================] - 0s 3us/step\n",
      "100000/100000 [==============================] - 0s 1us/step\n"
     ]
    },
    {
     "name": "stderr",
     "output_type": "stream",
     "text": [
      "2018-07-01 22:06:20 | INFO    | automl_libs.base_layer_utils      | get_oof    | #436 | metric of fold 1: 0.7215612404660245\n",
      "2018-07-01 22:06:20 | INFO    | automl_libs.base_layer_utils      | get_oof    | #422 | processing fold 2 of 5...\n",
      "2018-07-01 22:06:20 | DEBUG   | automl_libs.nn_libs               | get_model  | #57  | Col [DayOfWeek]: embed dim: input 8, output 8\n",
      "2018-07-01 22:06:20 | DEBUG   | automl_libs.nn_libs               | get_model  | #57  | Col [DepTime]: embed dim: input 27, output 27\n",
      "2018-07-01 22:06:20 | DEBUG   | automl_libs.nn_libs               | get_model  | #57  | Col [Month]: embed dim: input 13, output 13\n",
      "2018-07-01 22:06:20 | DEBUG   | automl_libs.nn_libs               | get_model  | #57  | Col [Distance]: embed dim: input 10, output 10\n",
      "2018-07-01 22:06:20 | DEBUG   | automl_libs.nn_libs               | get_model  | #57  | Col [Origin]: embed dim: input 292, output 50\n",
      "2018-07-01 22:06:20 | DEBUG   | automl_libs.nn_libs               | get_model  | #57  | Col [DayofMonth]: embed dim: input 32, output 32\n",
      "2018-07-01 22:06:20 | DEBUG   | automl_libs.nn_libs               | get_model  | #57  | Col [UniqueCarrier]: embed dim: input 23, output 23\n",
      "2018-07-01 22:06:20 | DEBUG   | automl_libs.nn_libs               | get_model  | #57  | Col [Dest]: embed dim: input 293, output 50\n",
      "2018-07-01 22:06:20 | DEBUG   | automl_libs.nn_libs               | get_model  | #103 | steps in on epoch: 937\n",
      "2018-07-01 22:06:20 | DEBUG   | automl_libs.nn_libs               | get_model  | #104 | steps for lr decay: 937\n",
      "2018-07-01 22:06:20 | DEBUG   | automl_libs.nn_libs               | get_model  | #105 | lr decay: 0.000741\n"
     ]
    },
    {
     "name": "stdout",
     "output_type": "stream",
     "text": [
      "Train on 120000 samples, validate on 30000 samples\n",
      "Epoch 1/1\n",
      "120000/120000 [==============================] - 12s 103us/step - loss: 0.4492 - acc: 0.8104 - val_loss: 0.4426 - val_acc: 0.8149\n",
      "30000/30000 [==============================] - 0s 4us/step\n",
      "100000/100000 [==============================] - 0s 1us/step\n"
     ]
    },
    {
     "name": "stderr",
     "output_type": "stream",
     "text": [
      "2018-07-01 22:06:33 | INFO    | automl_libs.base_layer_utils      | get_oof    | #436 | metric of fold 2: 0.7220540084794735\n",
      "2018-07-01 22:06:33 | INFO    | automl_libs.base_layer_utils      | get_oof    | #422 | processing fold 3 of 5...\n",
      "2018-07-01 22:06:33 | DEBUG   | automl_libs.nn_libs               | get_model  | #57  | Col [DayOfWeek]: embed dim: input 8, output 8\n",
      "2018-07-01 22:06:33 | DEBUG   | automl_libs.nn_libs               | get_model  | #57  | Col [DepTime]: embed dim: input 27, output 27\n",
      "2018-07-01 22:06:33 | DEBUG   | automl_libs.nn_libs               | get_model  | #57  | Col [Month]: embed dim: input 13, output 13\n",
      "2018-07-01 22:06:33 | DEBUG   | automl_libs.nn_libs               | get_model  | #57  | Col [Distance]: embed dim: input 10, output 10\n",
      "2018-07-01 22:06:33 | DEBUG   | automl_libs.nn_libs               | get_model  | #57  | Col [Origin]: embed dim: input 292, output 50\n",
      "2018-07-01 22:06:33 | DEBUG   | automl_libs.nn_libs               | get_model  | #57  | Col [DayofMonth]: embed dim: input 32, output 32\n",
      "2018-07-01 22:06:33 | DEBUG   | automl_libs.nn_libs               | get_model  | #57  | Col [UniqueCarrier]: embed dim: input 23, output 23\n",
      "2018-07-01 22:06:33 | DEBUG   | automl_libs.nn_libs               | get_model  | #57  | Col [Dest]: embed dim: input 293, output 50\n",
      "2018-07-01 22:06:33 | DEBUG   | automl_libs.nn_libs               | get_model  | #103 | steps in on epoch: 937\n",
      "2018-07-01 22:06:33 | DEBUG   | automl_libs.nn_libs               | get_model  | #104 | steps for lr decay: 937\n",
      "2018-07-01 22:06:33 | DEBUG   | automl_libs.nn_libs               | get_model  | #105 | lr decay: 0.000741\n"
     ]
    },
    {
     "name": "stdout",
     "output_type": "stream",
     "text": [
      "Train on 120000 samples, validate on 30000 samples\n",
      "Epoch 1/1\n",
      "120000/120000 [==============================] - 12s 103us/step - loss: 0.4484 - acc: 0.8112 - val_loss: 0.4413 - val_acc: 0.8133\n",
      "30000/30000 [==============================] - 0s 5us/step\n",
      "100000/100000 [==============================] - 0s 1us/step\n"
     ]
    },
    {
     "name": "stderr",
     "output_type": "stream",
     "text": [
      "2018-07-01 22:06:46 | INFO    | automl_libs.base_layer_utils      | get_oof    | #436 | metric of fold 3: 0.7209657903470397\n",
      "2018-07-01 22:06:46 | INFO    | automl_libs.base_layer_utils      | get_oof    | #422 | processing fold 4 of 5...\n",
      "2018-07-01 22:06:46 | DEBUG   | automl_libs.nn_libs               | get_model  | #57  | Col [DayOfWeek]: embed dim: input 8, output 8\n",
      "2018-07-01 22:06:47 | DEBUG   | automl_libs.nn_libs               | get_model  | #57  | Col [DepTime]: embed dim: input 27, output 27\n",
      "2018-07-01 22:06:47 | DEBUG   | automl_libs.nn_libs               | get_model  | #57  | Col [Month]: embed dim: input 13, output 13\n",
      "2018-07-01 22:06:47 | DEBUG   | automl_libs.nn_libs               | get_model  | #57  | Col [Distance]: embed dim: input 10, output 10\n",
      "2018-07-01 22:06:47 | DEBUG   | automl_libs.nn_libs               | get_model  | #57  | Col [Origin]: embed dim: input 292, output 50\n",
      "2018-07-01 22:06:47 | DEBUG   | automl_libs.nn_libs               | get_model  | #57  | Col [DayofMonth]: embed dim: input 32, output 32\n",
      "2018-07-01 22:06:47 | DEBUG   | automl_libs.nn_libs               | get_model  | #57  | Col [UniqueCarrier]: embed dim: input 23, output 23\n",
      "2018-07-01 22:06:47 | DEBUG   | automl_libs.nn_libs               | get_model  | #57  | Col [Dest]: embed dim: input 293, output 50\n",
      "2018-07-01 22:06:47 | DEBUG   | automl_libs.nn_libs               | get_model  | #103 | steps in on epoch: 937\n",
      "2018-07-01 22:06:47 | DEBUG   | automl_libs.nn_libs               | get_model  | #104 | steps for lr decay: 937\n",
      "2018-07-01 22:06:47 | DEBUG   | automl_libs.nn_libs               | get_model  | #105 | lr decay: 0.000741\n"
     ]
    },
    {
     "name": "stdout",
     "output_type": "stream",
     "text": [
      "Train on 120000 samples, validate on 30000 samples\n",
      "Epoch 1/1\n",
      "120000/120000 [==============================] - 13s 104us/step - loss: 0.4494 - acc: 0.8101 - val_loss: 0.4399 - val_acc: 0.8122\n",
      "30000/30000 [==============================] - 0s 6us/step\n",
      "100000/100000 [==============================] - 0s 1us/step\n"
     ]
    },
    {
     "name": "stderr",
     "output_type": "stream",
     "text": [
      "2018-07-01 22:07:00 | INFO    | automl_libs.base_layer_utils      | get_oof    | #436 | metric of fold 4: 0.7226317744016433\n",
      "2018-07-01 22:07:00 | INFO    | automl_libs.base_layer_utils      | get_oof    | #422 | processing fold 5 of 5...\n",
      "2018-07-01 22:07:00 | DEBUG   | automl_libs.nn_libs               | get_model  | #57  | Col [DayOfWeek]: embed dim: input 8, output 8\n",
      "2018-07-01 22:07:00 | DEBUG   | automl_libs.nn_libs               | get_model  | #57  | Col [DepTime]: embed dim: input 27, output 27\n",
      "2018-07-01 22:07:00 | DEBUG   | automl_libs.nn_libs               | get_model  | #57  | Col [Month]: embed dim: input 13, output 13\n",
      "2018-07-01 22:07:00 | DEBUG   | automl_libs.nn_libs               | get_model  | #57  | Col [Distance]: embed dim: input 10, output 10\n",
      "2018-07-01 22:07:00 | DEBUG   | automl_libs.nn_libs               | get_model  | #57  | Col [Origin]: embed dim: input 292, output 50\n",
      "2018-07-01 22:07:00 | DEBUG   | automl_libs.nn_libs               | get_model  | #57  | Col [DayofMonth]: embed dim: input 32, output 32\n",
      "2018-07-01 22:07:00 | DEBUG   | automl_libs.nn_libs               | get_model  | #57  | Col [UniqueCarrier]: embed dim: input 23, output 23\n",
      "2018-07-01 22:07:00 | DEBUG   | automl_libs.nn_libs               | get_model  | #57  | Col [Dest]: embed dim: input 293, output 50\n",
      "2018-07-01 22:07:00 | DEBUG   | automl_libs.nn_libs               | get_model  | #103 | steps in on epoch: 937\n",
      "2018-07-01 22:07:00 | DEBUG   | automl_libs.nn_libs               | get_model  | #104 | steps for lr decay: 937\n",
      "2018-07-01 22:07:00 | DEBUG   | automl_libs.nn_libs               | get_model  | #105 | lr decay: 0.000741\n"
     ]
    },
    {
     "name": "stdout",
     "output_type": "stream",
     "text": [
      "Train on 120001 samples, validate on 29999 samples\n",
      "Epoch 1/1\n",
      "120001/120001 [==============================] - 13s 105us/step - loss: 0.4493 - acc: 0.8110 - val_loss: 0.4384 - val_acc: 0.8150\n",
      "29999/29999 [==============================] - 0s 7us/step\n",
      "100000/100000 [==============================] - 0s 1us/step\n"
     ]
    },
    {
     "name": "stderr",
     "output_type": "stream",
     "text": [
      "2018-07-01 22:07:14 | INFO    | automl_libs.base_layer_utils      | get_oof    | #436 | metric of fold 5: 0.7229888097548182\n",
      "2018-07-01 22:07:14 | DEBUG   | automl_libs.nn_libs               | get_model  | #57  | Col [DayOfWeek]: embed dim: input 8, output 8\n",
      "2018-07-01 22:07:14 | DEBUG   | automl_libs.nn_libs               | get_model  | #57  | Col [DepTime]: embed dim: input 27, output 27\n",
      "2018-07-01 22:07:14 | DEBUG   | automl_libs.nn_libs               | get_model  | #57  | Col [Month]: embed dim: input 13, output 13\n",
      "2018-07-01 22:07:14 | DEBUG   | automl_libs.nn_libs               | get_model  | #57  | Col [Distance]: embed dim: input 10, output 10\n",
      "2018-07-01 22:07:14 | DEBUG   | automl_libs.nn_libs               | get_model  | #57  | Col [Origin]: embed dim: input 292, output 50\n",
      "2018-07-01 22:07:14 | DEBUG   | automl_libs.nn_libs               | get_model  | #57  | Col [DayofMonth]: embed dim: input 32, output 32\n",
      "2018-07-01 22:07:14 | DEBUG   | automl_libs.nn_libs               | get_model  | #57  | Col [UniqueCarrier]: embed dim: input 23, output 23\n",
      "2018-07-01 22:07:14 | DEBUG   | automl_libs.nn_libs               | get_model  | #57  | Col [Dest]: embed dim: input 293, output 50\n",
      "2018-07-01 22:07:14 | DEBUG   | automl_libs.nn_libs               | get_model  | #103 | steps in on epoch: 1171\n",
      "2018-07-01 22:07:14 | DEBUG   | automl_libs.nn_libs               | get_model  | #104 | steps for lr decay: 1171\n",
      "2018-07-01 22:07:14 | DEBUG   | automl_libs.nn_libs               | get_model  | #105 | lr decay: 0.000593\n"
     ]
    },
    {
     "name": "stdout",
     "output_type": "stream",
     "text": [
      "Epoch 1/1\n",
      "150000/150000 [==============================] - 15s 97us/step - loss: 0.4486 - acc: 0.8104\n",
      "100000/100000 [==============================] - 0s 3us/step\n"
     ]
    },
    {
     "name": "stderr",
     "output_type": "stream",
     "text": [
      "2018-07-01 22:07:29 | INFO    | automl_libs.base_layer_utils.BaseLayerResultsRepo| add_score  | #292 | DPgq__NN_flight_data_ordinal_layer1 found in repo. Update score from 0 to 0.72083\n",
      "2018-07-01 22:07:29 | DEBUG   | automl_libs.base_layer_utils.BaseLayerResultsRepo| __init__   | #233 | load StackNet saves from file\n",
      "2018-07-01 22:07:29 | INFO    | automl_libs.stacknet              | layer1     | #66  | using lgb params: Z925 to do oof\n",
      "2018-07-01 22:07:29 | DEBUG   | automl_libs.stacknet              | layer1     | #67  | {'feature_fraction_seed': 1581182, 'timestamp': '2018-07-01 22:05:51', 'num_threads': 8, 'metric': 'auc', 'boosting': 'gbdt', 'best_round': 30, 'scale_pos_weight': 1, 'bagging_fraction': 0.6, 'max_depth': -1, 'bagging_seed': 1581182, 'cv': True, 'objective': 'binary', 'bagging_freq': 1, 'gs_timespent': '0:00:01', 'pred_timespent': '0:00:00', 'learning_rate': 0.03, 'min_data_in_leaf': 28, 'feature_fraction': 1.0, 'num_leaves': 15, 'val_auc': 0.7119675587123677}\n",
      "2018-07-01 22:07:29 | INFO    | automl_libs.base_layer_utils      | compute_layer1_oof | #486 | StackNet layer1: label: label    model_data_id: Z925__LGB_flight_data_ordinal_layer1\n",
      "2018-07-01 22:07:29 | INFO    | automl_libs.base_layer_utils      | get_oof    | #422 | processing fold 1 of 5...\n"
     ]
    },
    {
     "name": "stdout",
     "output_type": "stream",
     "text": [
      "No evaluation set, thus not possible to use early stopping. Please train with your best params.\n",
      "[6]\ttraining's auc: 0.701967\n",
      "[12]\ttraining's auc: 0.707882\n",
      "[18]\ttraining's auc: 0.71226\n",
      "[24]\ttraining's auc: 0.715462\n",
      "[30]\ttraining's auc: 0.717682\n"
     ]
    },
    {
     "name": "stderr",
     "output_type": "stream",
     "text": [
      "2018-07-01 22:07:30 | INFO    | automl_libs.base_layer_utils      | get_oof    | #436 | metric of fold 1: 0.7085332118163441\n",
      "2018-07-01 22:07:30 | INFO    | automl_libs.base_layer_utils      | get_oof    | #422 | processing fold 2 of 5...\n"
     ]
    },
    {
     "name": "stdout",
     "output_type": "stream",
     "text": [
      "No evaluation set, thus not possible to use early stopping. Please train with your best params.\n",
      "[6]\ttraining's auc: 0.705767\n",
      "[12]\ttraining's auc: 0.710064\n",
      "[18]\ttraining's auc: 0.713642\n",
      "[24]\ttraining's auc: 0.716523\n",
      "[30]\ttraining's auc: 0.718888\n"
     ]
    },
    {
     "name": "stderr",
     "output_type": "stream",
     "text": [
      "2018-07-01 22:07:31 | INFO    | automl_libs.base_layer_utils      | get_oof    | #436 | metric of fold 2: 0.71477365997976\n",
      "2018-07-01 22:07:31 | INFO    | automl_libs.base_layer_utils      | get_oof    | #422 | processing fold 3 of 5...\n"
     ]
    },
    {
     "name": "stdout",
     "output_type": "stream",
     "text": [
      "No evaluation set, thus not possible to use early stopping. Please train with your best params.\n",
      "[6]\ttraining's auc: 0.703451\n",
      "[12]\ttraining's auc: 0.708765\n",
      "[18]\ttraining's auc: 0.711284\n",
      "[24]\ttraining's auc: 0.716615\n",
      "[30]\ttraining's auc: 0.720125\n"
     ]
    },
    {
     "name": "stderr",
     "output_type": "stream",
     "text": [
      "2018-07-01 22:07:31 | INFO    | automl_libs.base_layer_utils      | get_oof    | #436 | metric of fold 3: 0.7132139391468494\n",
      "2018-07-01 22:07:31 | INFO    | automl_libs.base_layer_utils      | get_oof    | #422 | processing fold 4 of 5...\n"
     ]
    },
    {
     "name": "stdout",
     "output_type": "stream",
     "text": [
      "No evaluation set, thus not possible to use early stopping. Please train with your best params.\n",
      "[6]\ttraining's auc: 0.70442\n",
      "[12]\ttraining's auc: 0.707371\n",
      "[18]\ttraining's auc: 0.71186\n",
      "[24]\ttraining's auc: 0.715444\n",
      "[30]\ttraining's auc: 0.719043\n"
     ]
    },
    {
     "name": "stderr",
     "output_type": "stream",
     "text": [
      "2018-07-01 22:07:32 | INFO    | automl_libs.base_layer_utils      | get_oof    | #436 | metric of fold 4: 0.7115780347704389\n",
      "2018-07-01 22:07:32 | INFO    | automl_libs.base_layer_utils      | get_oof    | #422 | processing fold 5 of 5...\n"
     ]
    },
    {
     "name": "stdout",
     "output_type": "stream",
     "text": [
      "No evaluation set, thus not possible to use early stopping. Please train with your best params.\n",
      "[6]\ttraining's auc: 0.703777\n",
      "[12]\ttraining's auc: 0.706477\n",
      "[18]\ttraining's auc: 0.711726\n",
      "[24]\ttraining's auc: 0.714956\n",
      "[30]\ttraining's auc: 0.718766\n"
     ]
    },
    {
     "name": "stderr",
     "output_type": "stream",
     "text": [
      "2018-07-01 22:07:33 | INFO    | automl_libs.base_layer_utils      | get_oof    | #436 | metric of fold 5: 0.7112903667837928\n"
     ]
    },
    {
     "name": "stdout",
     "output_type": "stream",
     "text": [
      "No evaluation set, thus not possible to use early stopping. Please train with your best params.\n",
      "[6]\ttraining's auc: 0.703658\n",
      "[12]\ttraining's auc: 0.709087\n",
      "[18]\ttraining's auc: 0.712733\n",
      "[24]\ttraining's auc: 0.7156\n",
      "[30]\ttraining's auc: 0.718078\n"
     ]
    },
    {
     "name": "stderr",
     "output_type": "stream",
     "text": [
      "2018-07-01 22:07:33 | INFO    | automl_libs.base_layer_utils.BaseLayerResultsRepo| add_score  | #292 | Z925__LGB_flight_data_ordinal_layer1 found in repo. Update score from 0 to 0.71197\n",
      "2018-07-01 22:07:33 | DEBUG   | automl_libs.base_layer_utils.BaseLayerResultsRepo| __init__   | #233 | load StackNet saves from file\n",
      "2018-07-01 22:07:33 | INFO    | automl_libs.stacknet              | layer2     | #113 | All available layer1 model_data:\n",
      "2018-07-01 22:07:33 | INFO    | automl_libs.stacknet              | layer2     | #114 | [('DPgq__NN_flight_data_ordinal_layer1', 0.7208335116544013), ('Z925__LGB_flight_data_ordinal_layer1', 0.7119675587123677)]\n",
      "2018-07-01 22:07:33 | INFO    | automl_libs.base_layer_utils      | compute_layer2_oof | #585 | Generating Layer2 model 0DXI__LOGREG OOF\n",
      "2018-07-01 22:07:33 | WARNING | automl_libs.base_layer_utils      | get_oof    | #417 | warning: x_train is not dataframe, you should NOT use models like LGB and NN where categorical_feature is needed (you are using LogisticRegression)\n",
      "2018-07-01 22:07:33 | INFO    | automl_libs.base_layer_utils      | get_oof    | #422 | processing fold 1 of 5...\n",
      "2018-07-01 22:07:33 | INFO    | automl_libs.base_layer_utils      | get_oof    | #436 | metric of fold 1: 0.7203311212909038\n",
      "2018-07-01 22:07:34 | WARNING | automl_libs.base_layer_utils      | get_oof    | #417 | warning: x_train is not dataframe, you should NOT use models like LGB and NN where categorical_feature is needed (you are using LogisticRegression)\n",
      "2018-07-01 22:07:34 | INFO    | automl_libs.base_layer_utils      | get_oof    | #422 | processing fold 2 of 5...\n",
      "2018-07-01 22:07:34 | INFO    | automl_libs.base_layer_utils      | get_oof    | #436 | metric of fold 2: 0.7220248953169066\n",
      "2018-07-01 22:07:34 | WARNING | automl_libs.base_layer_utils      | get_oof    | #417 | warning: x_train is not dataframe, you should NOT use models like LGB and NN where categorical_feature is needed (you are using LogisticRegression)\n",
      "2018-07-01 22:07:34 | INFO    | automl_libs.base_layer_utils      | get_oof    | #422 | processing fold 3 of 5...\n",
      "2018-07-01 22:07:34 | INFO    | automl_libs.base_layer_utils      | get_oof    | #436 | metric of fold 3: 0.7197226229972984\n",
      "2018-07-01 22:07:34 | WARNING | automl_libs.base_layer_utils      | get_oof    | #417 | warning: x_train is not dataframe, you should NOT use models like LGB and NN where categorical_feature is needed (you are using LogisticRegression)\n",
      "2018-07-01 22:07:34 | INFO    | automl_libs.base_layer_utils      | get_oof    | #422 | processing fold 4 of 5...\n",
      "2018-07-01 22:07:34 | INFO    | automl_libs.base_layer_utils      | get_oof    | #436 | metric of fold 4: 0.7210989269829116\n",
      "2018-07-01 22:07:34 | WARNING | automl_libs.base_layer_utils      | get_oof    | #417 | warning: x_train is not dataframe, you should NOT use models like LGB and NN where categorical_feature is needed (you are using LogisticRegression)\n",
      "2018-07-01 22:07:34 | INFO    | automl_libs.base_layer_utils      | get_oof    | #422 | processing fold 5 of 5...\n",
      "2018-07-01 22:07:34 | INFO    | automl_libs.base_layer_utils      | get_oof    | #436 | metric of fold 5: 0.7273493306099912\n",
      "2018-07-01 22:07:34 | INFO    | automl_libs.base_layer_utils.BaseLayerResultsRepo| add_score  | #292 | 0DXI__LOGREG_layer2 found in repo. Update score from 0 to 0.72211\n",
      "2018-07-01 22:07:34 | INFO    | automl_libs.stacknet              | layer2     | #158 | StackNet Report saved at ./output/oof/stacknet_report.csv\n",
      "2018-07-01 22:07:34 | INFO    | automl_app.app.AlphaBoosting      | __init__   | #132 | save run record\n",
      "2018-07-01 22:07:34 | INFO    | automl_app.app.AlphaBoosting      | _save_run_record | #164 | val index is saved at ./temp_data/val_index.pkl\n",
      "2018-07-01 22:07:34 | INFO    | automl_app.app.AlphaBoosting      | _save_run_record | #166 | run record is saved at ./output/last_run_record.json\n"
     ]
    },
    {
     "data": {
      "text/plain": [
       "<automl_app.app.AlphaBoosting at 0x7fa71552df28>"
      ]
     },
     "execution_count": 10,
     "metadata": {},
     "output_type": "execute_result"
    }
   ],
   "source": [
    "from automl_app.app import AlphaBoosting\n",
    "\n",
    "automl_config_file = project_path + 'automl_config.json'\n",
    "run_record_file_name = project_path + 'last_run_record.json' # don't created this file\n",
    "AlphaBoosting(automl_config_file, features_to_gen, gs_params_gen)"
   ]
  },
  {
   "cell_type": "code",
   "execution_count": null,
   "metadata": {},
   "outputs": [],
   "source": []
  }
 ],
 "metadata": {
  "kernelspec": {
   "display_name": "Python 3.5 (tf_gpu)",
   "language": "python",
   "name": "tf_gpu"
  },
  "language_info": {
   "codemirror_mode": {
    "name": "ipython",
    "version": 3
   },
   "file_extension": ".py",
   "mimetype": "text/x-python",
   "name": "python",
   "nbconvert_exporter": "python",
   "pygments_lexer": "ipython3",
   "version": "3.5.5"
  },
  "varInspector": {
   "cols": {
    "lenName": 16,
    "lenType": 16,
    "lenVar": 40
   },
   "kernels_config": {
    "python": {
     "delete_cmd_postfix": "",
     "delete_cmd_prefix": "del ",
     "library": "var_list.py",
     "varRefreshCmd": "print(var_dic_list())"
    },
    "r": {
     "delete_cmd_postfix": ") ",
     "delete_cmd_prefix": "rm(",
     "library": "var_list.r",
     "varRefreshCmd": "cat(var_dic_list()) "
    }
   },
   "types_to_exclude": [
    "module",
    "function",
    "builtin_function_or_method",
    "instance",
    "_Feature"
   ],
   "window_display": false
  }
 },
 "nbformat": 4,
 "nbformat_minor": 2
}
