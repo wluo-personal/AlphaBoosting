{
 "cells": [
  {
   "cell_type": "code",
   "execution_count": 1,
   "metadata": {
    "ExecuteTime": {
     "end_time": "2018-07-17T18:27:25.542154Z",
     "start_time": "2018-07-17T18:27:25.518026Z"
    }
   },
   "outputs": [
    {
     "name": "stdout",
     "output_type": "stream",
     "text": [
      "/home/kai/data/shiyi/AlphaBoosting/automl/automl_app\n",
      "['', '/home/kai/anaconda3/envs/tf_gpu/lib/python35.zip', '/home/kai/anaconda3/envs/tf_gpu/lib/python3.5', '/home/kai/anaconda3/envs/tf_gpu/lib/python3.5/plat-linux', '/home/kai/anaconda3/envs/tf_gpu/lib/python3.5/lib-dynload', '/home/kai/.local/lib/python3.5/site-packages', '/home/kai/anaconda3/envs/tf_gpu/lib/python3.5/site-packages', '/home/kai/anaconda3/envs/tf_gpu/lib/python3.5/site-packages/IPython/extensions', '/home/kai/.ipython', '/home/kai/data/shiyi/AlphaBoosting/automl']\n"
     ]
    }
   ],
   "source": [
    "import os\n",
    "import sys\n",
    "nb_dir = os.path.split(os.getcwd())[0]\n",
    "print(nb_dir)\n",
    "#if nb_dir not in sys.path:\n",
    "#    sys.path.append(nb_dir)\n",
    "    \n",
    "# autolib_dir = '/home/kai/data/shiyi/AlphaBoosting/automl'\n",
    "autolib_dir = '/'.join(nb_dir.split('/')[:-1])\n",
    "if autolib_dir not in sys.path:\n",
    "    sys.path.append(autolib_dir)\n",
    "\n",
    "print(sys.path)\n",
    "\n",
    "%load_ext autoreload\n",
    "%autoreload 2"
   ]
  },
  {
   "cell_type": "code",
   "execution_count": 2,
   "metadata": {
    "ExecuteTime": {
     "end_time": "2018-07-17T18:27:26.591088Z",
     "start_time": "2018-07-17T18:27:25.544383Z"
    }
   },
   "outputs": [
    {
     "name": "stderr",
     "output_type": "stream",
     "text": [
      "/home/kai/anaconda3/envs/tf_gpu/lib/python3.5/site-packages/h5py/__init__.py:36: FutureWarning: Conversion of the second argument of issubdtype from `float` to `np.floating` is deprecated. In future, it will be treated as `np.float64 == np.dtype(float).type`.\n",
      "  from ._conv import register_converters as _register_converters\n",
      "Using TensorFlow backend.\n"
     ]
    }
   ],
   "source": [
    "from automl_libs import base_layer_utils, stacknet\n",
    "from automl_libs import feature_engineering as fe\n",
    "from automl_libs import encoding, kernels, nn_libs, utils "
   ]
  },
  {
   "cell_type": "code",
   "execution_count": 3,
   "metadata": {
    "ExecuteTime": {
     "end_time": "2018-07-17T18:27:26.609841Z",
     "start_time": "2018-07-17T18:27:26.592585Z"
    }
   },
   "outputs": [],
   "source": [
    "categorical_features = ['blabla']"
   ]
  },
  {
   "cell_type": "code",
   "execution_count": 4,
   "metadata": {
    "ExecuteTime": {
     "end_time": "2018-07-17T18:27:26.630793Z",
     "start_time": "2018-07-17T18:27:26.611282Z"
    }
   },
   "outputs": [],
   "source": [
    "import itertools\n",
    "#params = {'split_col': 't', 'coefficient': 10, 'n': 2, 'fillna': 22}\n",
    "def get_features_to_gen(function_list, low, high):\n",
    "    features_to_gen = []\n",
    "    for function in function_list:\n",
    "        for i in range(low, high+1):\n",
    "            for combine in itertools.combinations(categorical_features, i):\n",
    "                if function.__name__ == 'count_std_over_mean':\n",
    "                    features_to_gen.append({'params': {'coefficient': 10}, 'function': function, 'feature_cols': list(combine)})\n",
    "                else:\n",
    "                    features_to_gen.append({'params': {}, 'function': function, 'feature_cols': list(combine)})\n",
    "                \n",
    "    return features_to_gen\n",
    "\n",
    "# features_to_gen = get_features_to_gen([fe.count, fe.unique_count, \n",
    "#                                        fe.cumulative_count, \n",
    "#                                        fe.reverse_cumulative_count, \n",
    "#                                        fe.variance, fe.count_std_over_mean], \n",
    "#                                       2, 2)# len(categorical_features))\n",
    "# features_to_gen = get_features_to_gen([fe.count, fe.unique_count, fe.cumulative_count])\n",
    "features_to_gen = get_features_to_gen([fe.count], 2, 2)#len(categorical_features))\n",
    "\n",
    "features_to_gen = []"
   ]
  },
  {
   "cell_type": "code",
   "execution_count": 5,
   "metadata": {
    "ExecuteTime": {
     "end_time": "2018-07-17T18:27:26.654343Z",
     "start_time": "2018-07-17T18:27:26.632417Z"
    }
   },
   "outputs": [
    {
     "data": {
      "text/plain": [
       "0"
      ]
     },
     "execution_count": 5,
     "metadata": {},
     "output_type": "execute_result"
    }
   ],
   "source": [
    "len(features_to_gen)"
   ]
  },
  {
   "cell_type": "code",
   "execution_count": 6,
   "metadata": {
    "ExecuteTime": {
     "end_time": "2018-07-17T18:27:26.672287Z",
     "start_time": "2018-07-17T18:27:26.655588Z"
    }
   },
   "outputs": [],
   "source": [
    "project_path = './' "
   ]
  },
  {
   "cell_type": "code",
   "execution_count": 7,
   "metadata": {
    "ExecuteTime": {
     "end_time": "2018-07-17T18:27:26.691439Z",
     "start_time": "2018-07-17T18:27:26.673631Z"
    }
   },
   "outputs": [],
   "source": [
    "from automl_app import logger_config\n",
    "import logging\n",
    "logger_config.config(project_path+'project.log', file_loglevel=logging.INFO)"
   ]
  },
  {
   "cell_type": "code",
   "execution_count": 8,
   "metadata": {
    "ExecuteTime": {
     "end_time": "2018-07-17T18:27:26.730346Z",
     "start_time": "2018-07-17T18:27:26.693138Z"
    }
   },
   "outputs": [],
   "source": [
    "def params_gen(model='lgb'):\n",
    "    import time\n",
    "    import numpy as np\n",
    "    seed = int(time.time()* 1000000) % 45234634\n",
    "    np.random.seed(seed)\n",
    "    if model == 'svc':\n",
    "        params = {\n",
    "            'C': 0.911#np.random.rand(),\n",
    "#             'metric': 'roc_auc'\n",
    "        }\n",
    "    elif model == 'logreg':\n",
    "        params = {\n",
    "            'penalty': np.random.choice(['l2']),\n",
    "            'dual': np.random.choice([True, False]),\n",
    "            'C': 1,#np.random.rand(),\n",
    "            'metric': 'roc_auc'\n",
    "        }\n",
    "    elif model == 'lgb':\n",
    "        params = {    \n",
    "            'objective': 'binary',\n",
    "            'boosting': 'gbdt',\n",
    "            'num_boost_round': 30, # ignored in params. extract it and put it in input arguments in train or cv explicitly\n",
    "                                   # seems to work fine as the upper limit when combined with early_stopping_round\n",
    "            'learning_rate': np.random.choice([0.1,0.03]),#0.001]),\n",
    "            'num_leaves': np.random.choice([15,31]),#,61,127]),\n",
    "            'num_threads': 8, # best speed: set to number of real cpu cores, which is vCPU/2\n",
    "            'max_depth': -1, # no limit. This is used to deal with over-fitting when #data is small.\n",
    "            'min_data_in_leaf': np.random.randint(20,50),  #minimal number of data in one leaf. \n",
    "            'feature_fraction': np.random.randint(90,101)/100,\n",
    "            'feature_fraction_seed': seed,\n",
    "            'early_stopping_round':10,\n",
    "            'bagging_freq': 1, #0 means disable bagging. k: perform bagging at every k iteration\n",
    "            'bagging_fraction': np.random.randint(40,101)/100, #Randomly select part of data \n",
    "            'bagging_seed': seed,\n",
    "            'scale_pos_weight': 1,\n",
    "            'metric': 'auc'\n",
    "        }\n",
    "    elif model == 'xgb':\n",
    "        params = {\n",
    "            'eta': np.random.choice([0.05, 0.01]),\n",
    "            'objective': 'binary:logistic',\n",
    "            'eval_metric': 'auc',\n",
    "#             'max_bin': 8,\n",
    "            'scale_pos_weight': np.random.randint(10,30)/10,\n",
    "            'seed': seed,\n",
    "            'nthread': 12,\n",
    "            'max_depth': np.random.randint(5,10),\n",
    "            'min_child_weight': np.random.randint(3,50),\n",
    "            'subsample': np.random.randint(80,101)/100,\n",
    "            'colsample_bytree': np.random.randint(10,51)/100,\n",
    "#             'colsample_bylevel': 0.5,\n",
    "#             'alpha': 0,\n",
    "            'lambda': np.random.randint(5, 15)/10,\n",
    "#             'gamma': 0,\n",
    "            'num_boost_round': 10000,\n",
    "            'early_stopping_rounds': 200 \n",
    "        }\n",
    "    elif model == 'nn':\n",
    "        params = {\n",
    "            'nn_seed': int(time.time() * 1000000) % 45234634,\n",
    "            'ep_for_lr': np.random.randint(2,10),\n",
    "            'lr_init': 0.01,\n",
    "            'lr_fin': np.random.randint(1,5)/1000,  # if == lr_init, then no lr decay\n",
    "            'batch_size': np.random.choice([128, 256, 512, 1024]),\n",
    "            \"pred_batch_size\": 5000,\n",
    "            'max_ep': 100,\n",
    "            'patience': 10, #np.random.randint(10, 25),\n",
    "            'cat_emb_outdim': 30, # could be a constant or a dict (col name:embed out dim). e.g.:\n",
    "                                  # embed_outdim = [3, 3, 8, 8, 3]\n",
    "                                  # embed_outdim_dict = dict(zip(X_train.columns.values, embed_outdim))\n",
    "                                  # then assige embed_outdim_dict to cat_emb_outdim\n",
    "            'cat_emb_drop_rate': np.random.randint(1,4)/10, \n",
    "            'num_layers_dense_units': [1000, 500, 100],\n",
    "            'num_layers_drop_rate': np.random.randint(2,6)/10,\n",
    "            'combined_layers_dense_units': [100, 50],\n",
    "            'combined_layers_drop_rate': np.random.randint(1,3)/10,\n",
    "            'monitor': 'val_auc',  # or val_loss (MUST HAVE)\n",
    "            'mode': 'max',  # MUST HAVE\n",
    "            'int_list': ['num_layers_dense_units', 'combined_layers_dense_units']\n",
    "        }\n",
    "    elif model == 'stacknet_layer2_nn':\n",
    "        params = {\n",
    "            'nn_seed': int(time.time() * 1000000) % 45234634,\n",
    "            'ep_for_lr': 1,\n",
    "            'lr_init': 0.01,\n",
    "            'lr_fin': 0.01, # if == lr_init, then no lr decay\n",
    "            'batch_size': 128,\n",
    "            \"pred_batch_size\": 50000,\n",
    "            'best_epoch': 1,\n",
    "            'patience': 1,\n",
    "            'categorical_feature': [],\n",
    "            'cat_emb_outdim': 50, # could be a constant or a dict (col name:embed out dim). e.g.:\n",
    "                                  # embed_outdim = [3, 3, 8, 8, 3]\n",
    "                                  # embed_outdim_dict = dict(zip(X_train.columns.values, embed_outdim))\n",
    "            'num_layers_dense_units': [],\n",
    "            'combined_layers_dense_units': [10, 5],\n",
    "            'combined_layers_drop_rate': 0,\n",
    "            'monitor': 'val_auc',  # or val_loss (MUST HAVE)\n",
    "            'mode': 'max',  # MUST HAVE\n",
    "            'int_list': ['num_layers_dense_units', 'combined_layers_dense_units']\n",
    "        }\n",
    "    return params, seed"
   ]
  },
  {
   "cell_type": "code",
   "execution_count": 9,
   "metadata": {
    "ExecuteTime": {
     "end_time": "2018-07-17T18:27:26.750068Z",
     "start_time": "2018-07-17T18:27:26.731833Z"
    }
   },
   "outputs": [
    {
     "data": {
      "text/plain": [
       "({'batch_size': 128,\n",
       "  'best_epoch': 1,\n",
       "  'cat_emb_outdim': 50,\n",
       "  'categorical_feature': [],\n",
       "  'combined_layers_dense_units': [10, 5],\n",
       "  'combined_layers_drop_rate': 0,\n",
       "  'ep_for_lr': 1,\n",
       "  'int_list': ['num_layers_dense_units', 'combined_layers_dense_units'],\n",
       "  'lr_fin': 0.01,\n",
       "  'lr_init': 0.01,\n",
       "  'mode': 'max',\n",
       "  'monitor': 'val_auc',\n",
       "  'nn_seed': 29179676,\n",
       "  'num_layers_dense_units': [],\n",
       "  'patience': 1,\n",
       "  'pred_batch_size': 50000},\n",
       " 29179668)"
      ]
     },
     "execution_count": 9,
     "metadata": {},
     "output_type": "execute_result"
    }
   ],
   "source": [
    "p, s = params_gen('stacknet_layer2_nn')\n",
    "p, s"
   ]
  },
  {
   "cell_type": "code",
   "execution_count": 10,
   "metadata": {
    "ExecuteTime": {
     "end_time": "2018-07-17T18:27:26.769826Z",
     "start_time": "2018-07-17T18:27:26.751491Z"
    }
   },
   "outputs": [],
   "source": [
    "import sys\n",
    "import time\n",
    "\n",
    "class Logger(object):\n",
    "    def __init__(self, logtofile=True, logfilename='log'):\n",
    "        self.terminal = sys.stdout\n",
    "        self.logfile = \"{}_{}.log\".format(logfilename, int(time.time()))\n",
    "        self.logtofile = logtofile\n",
    "\n",
    "    def write(self, message):\n",
    "#         self.terminal.write(message)\n",
    "        if self.logtofile:\n",
    "            self.log = open(self.logfile, \"a\")\n",
    "            self.log.write('['+utils.get_time()+'] '+message)  \n",
    "            self.log.close()\n",
    "\n",
    "\n",
    "    def flush(self):\n",
    "        #this flush method is needed for python 3 compatibility.\n",
    "        #this handles the flush command by doing nothing.\n",
    "        #you might want to specify some extra behavior here.\n",
    "        pass    \n",
    "\n",
    "def divert_printout_to_file():\n",
    "    sys.stdout = Logger(logfilename='logfile')"
   ]
  },
  {
   "cell_type": "code",
   "execution_count": 11,
   "metadata": {
    "ExecuteTime": {
     "end_time": "2018-07-17T18:27:26.787760Z",
     "start_time": "2018-07-17T18:27:26.771198Z"
    }
   },
   "outputs": [],
   "source": [
    "divert_printout_to_file()"
   ]
  },
  {
   "cell_type": "code",
   "execution_count": null,
   "metadata": {
    "ExecuteTime": {
     "start_time": "2018-07-17T18:27:25.501Z"
    },
    "scrolled": true
   },
   "outputs": [
    {
     "name": "stderr",
     "output_type": "stream",
     "text": [
      "2018-07-17 14:27:26 | INFO    | automl_app.app.AlphaBoosting.__init__             | #22  | ==========START==========\n",
      "2018-07-17 14:27:38 | INFO    | automl_app.app.AlphaBoosting.__init__             | #65  | Run record file [./output/last_run_record.json] not found. Begin the first time run...\n",
      "2018-07-17 14:27:38 | INFO    | automl_app.app.AlphaBoosting.__init__             | #96  | generate todo list\n",
      "2018-07-17 14:27:38 | INFO    | automl_app.app.AlphaBoosting.__init__             | #112 | STAGE: FEATURE_ENGINEERING\n",
      "2018-07-17 14:27:38 | INFO    | automl_app.app.AlphaBoosting.__init__             | #116 | STAGE: VALIDATION_DOWNSAMPLING_GEN\n",
      "2018-07-17 14:27:38 | INFO    | automl_app.app.AlphaBoosting.__init__             | #120 | STAGE: CONCAT_DATA\n",
      "2018-07-17 14:27:38 | INFO    | automl_app.app.AlphaBoosting.__init__             | #124 | STAGE: GRID_SEARCH\n",
      "2018-07-17 14:27:38 | INFO    | automl_app.app.AlphaBoosting.__init__             | #128 | STAGE: STACKNET\n",
      "2018-07-17 14:27:45 | INFO    | automl_app.app.AlphaBoosting._get_final_data      | #346 | Data <onehot> retrieved. Shape: train (261384, 2757) | val (46127, 2757) | test (48744, 2756) | contain test label: False | 29 cat features | 2754 total features | y name: TARGET\n",
      "2018-07-17 14:27:51 | INFO    | automl_app.app.AlphaBoosting._stacknet            | #301 | layers to be built: [1]\n",
      "2018-07-17 14:27:55 | DEBUG   | automl_libs.stacknet.layer1               | #42  | data_id: onehot               \n",
      "\tx_train: (307511, 2754)\tx_test: (48744, 2754)\n",
      "\ty_train type: <class 'dict'>\n",
      "\tcompatible_models: set()\n",
      " \n",
      "2018-07-17 14:27:55 | DEBUG   | automl_libs.base_layer_utils.BaseLayerResultsRepo.__init__             | #235 | load StackNet saves from file\n",
      "2018-07-17 14:27:55 | INFO    | automl_libs.stacknet.layer1               | #67  | pC2i already processed in StackNet, so removed it from chosen_gs_results\n",
      "2018-07-17 14:27:55 | INFO    | automl_libs.stacknet.layer1               | #67  | qHLQ already processed in StackNet, so removed it from chosen_gs_results\n",
      "2018-07-17 14:27:55 | INFO    | automl_libs.stacknet.layer1               | #67  | dQTL already processed in StackNet, so removed it from chosen_gs_results\n",
      "2018-07-17 14:27:55 | INFO    | automl_libs.stacknet.layer1               | #67  | 3VXI already processed in StackNet, so removed it from chosen_gs_results\n",
      "2018-07-17 14:27:55 | INFO    | automl_libs.stacknet.layer1               | #67  | 1CKg already processed in StackNet, so removed it from chosen_gs_results\n",
      "2018-07-17 14:27:55 | INFO    | automl_libs.stacknet.layer1               | #67  | 9QmW already processed in StackNet, so removed it from chosen_gs_results\n",
      "2018-07-17 14:27:55 | INFO    | automl_libs.stacknet.layer1               | #67  | ksIj already processed in StackNet, so removed it from chosen_gs_results\n",
      "2018-07-17 14:27:55 | INFO    | automl_libs.stacknet.layer1               | #67  | fvQF already processed in StackNet, so removed it from chosen_gs_results\n",
      "2018-07-17 14:27:55 | DEBUG   | automl_libs.base_layer_utils.BaseLayerResultsRepo.__init__             | #235 | load StackNet saves from file\n",
      "2018-07-17 14:27:55 | INFO    | automl_libs.stacknet.layer1               | #74  | using xgb params: Ro9e to do oof\n",
      "2018-07-17 14:27:55 | DEBUG   | automl_libs.stacknet.layer1               | #75  | {'seed': 25200873, 'data_name': 'onehot', 'num_boost_round': 10000, 'pred_timespent': '0:14:36', 'min_child_weight': 14, 'timestamp': '2018-07-17 10:06:31', 'nthread': 12, 'val_auc': 0.7928979999999999, 'lambda': 0.6, 'eval_metric': 'auc', 'colsample_bytree': 0.25, 'scale_pos_weight': 2.5, 'early_stopping_rounds': 200, 'eta': 0.05, 'cv': True, 'best_round': 462, 'objective': 'binary:logistic', 'subsample': 0.9, 'max_depth': 7, 'gs_timespent': '1:22:22', 'train_auc': 0.9313201999999999}\n",
      "2018-07-17 14:27:55 | INFO    | automl_libs.base_layer_utils.compute_layer1_oof   | #499 | StackNet layer1: label: TARGET   model_data_id: Ro9e__XGB_onehot_layer1\n",
      "2018-07-17 14:27:58 | INFO    | automl_libs.base_layer_utils.get_oof              | #435 | processing fold 1 of 5...\n",
      "2018-07-17 14:28:12 | INFO    | automl_libs.stack_layer_estimator.XgboostBLE.train                | #208 | No evaluation set, thus not possible to use early stopping. Please train with your best params.\n",
      "2018-07-17 14:39:33 | INFO    | automl_libs.base_layer_utils.get_oof              | #449 | metric of fold 1: 0.7944486943643889\n",
      "2018-07-17 14:39:36 | INFO    | automl_libs.base_layer_utils.get_oof              | #435 | processing fold 2 of 5...\n",
      "2018-07-17 14:39:50 | INFO    | automl_libs.stack_layer_estimator.XgboostBLE.train                | #208 | No evaluation set, thus not possible to use early stopping. Please train with your best params.\n",
      "2018-07-17 14:51:11 | INFO    | automl_libs.base_layer_utils.get_oof              | #449 | metric of fold 2: 0.7893235420285775\n",
      "2018-07-17 14:51:14 | INFO    | automl_libs.base_layer_utils.get_oof              | #435 | processing fold 3 of 5...\n",
      "2018-07-17 14:51:28 | INFO    | automl_libs.stack_layer_estimator.XgboostBLE.train                | #208 | No evaluation set, thus not possible to use early stopping. Please train with your best params.\n",
      "2018-07-17 15:02:53 | INFO    | automl_libs.base_layer_utils.get_oof              | #449 | metric of fold 3: 0.7919939087203292\n",
      "2018-07-17 15:02:56 | INFO    | automl_libs.base_layer_utils.get_oof              | #435 | processing fold 4 of 5...\n",
      "2018-07-17 15:03:10 | INFO    | automl_libs.stack_layer_estimator.XgboostBLE.train                | #208 | No evaluation set, thus not possible to use early stopping. Please train with your best params.\n"
     ]
    }
   ],
   "source": [
    "from automl_app.app import AlphaBoosting\n",
    "\n",
    "automl_config_file = project_path + 'automl_config.json'\n",
    "run_record_file_name = project_path + 'last_run_record.json' # don't created this file\n",
    "AlphaBoosting(automl_config_file, features_to_gen, params_gen)"
   ]
  },
  {
   "cell_type": "code",
   "execution_count": null,
   "metadata": {},
   "outputs": [],
   "source": []
  },
  {
   "cell_type": "code",
   "execution_count": null,
   "metadata": {},
   "outputs": [],
   "source": []
  }
 ],
 "metadata": {
  "kernelspec": {
   "display_name": "Python 3.5 (tf_gpu)",
   "language": "python",
   "name": "tf_gpu"
  },
  "language_info": {
   "codemirror_mode": {
    "name": "ipython",
    "version": 3
   },
   "file_extension": ".py",
   "mimetype": "text/x-python",
   "name": "python",
   "nbconvert_exporter": "python",
   "pygments_lexer": "ipython3",
   "version": "3.5.5"
  },
  "varInspector": {
   "cols": {
    "lenName": 16,
    "lenType": 16,
    "lenVar": 40
   },
   "kernels_config": {
    "python": {
     "delete_cmd_postfix": "",
     "delete_cmd_prefix": "del ",
     "library": "var_list.py",
     "varRefreshCmd": "print(var_dic_list())"
    },
    "r": {
     "delete_cmd_postfix": ") ",
     "delete_cmd_prefix": "rm(",
     "library": "var_list.r",
     "varRefreshCmd": "cat(var_dic_list()) "
    }
   },
   "types_to_exclude": [
    "module",
    "function",
    "builtin_function_or_method",
    "instance",
    "_Feature"
   ],
   "window_display": false
  }
 },
 "nbformat": 4,
 "nbformat_minor": 2
}
