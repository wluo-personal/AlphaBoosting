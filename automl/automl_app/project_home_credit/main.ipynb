{
 "cells": [
  {
   "cell_type": "code",
   "execution_count": 1,
   "metadata": {
    "ExecuteTime": {
     "end_time": "2018-07-14T04:36:45.204212Z",
     "start_time": "2018-07-14T04:36:45.179659Z"
    }
   },
   "outputs": [
    {
     "name": "stdout",
     "output_type": "stream",
     "text": [
      "/home/kai/data/shiyi/AlphaBoosting/automl/automl_app\n",
      "['', '/home/kai/anaconda3/envs/tf_gpu/lib/python35.zip', '/home/kai/anaconda3/envs/tf_gpu/lib/python3.5', '/home/kai/anaconda3/envs/tf_gpu/lib/python3.5/plat-linux', '/home/kai/anaconda3/envs/tf_gpu/lib/python3.5/lib-dynload', '/home/kai/.local/lib/python3.5/site-packages', '/home/kai/anaconda3/envs/tf_gpu/lib/python3.5/site-packages', '/home/kai/anaconda3/envs/tf_gpu/lib/python3.5/site-packages/IPython/extensions', '/home/kai/.ipython', '/home/kai/data/shiyi/AlphaBoosting/automl']\n"
     ]
    }
   ],
   "source": [
    "import os\n",
    "import sys\n",
    "nb_dir = os.path.split(os.getcwd())[0]\n",
    "print(nb_dir)\n",
    "#if nb_dir not in sys.path:\n",
    "#    sys.path.append(nb_dir)\n",
    "    \n",
    "# autolib_dir = '/home/kai/data/shiyi/AlphaBoosting/automl'\n",
    "autolib_dir = '/'.join(nb_dir.split('/')[:-1])\n",
    "if autolib_dir not in sys.path:\n",
    "    sys.path.append(autolib_dir)\n",
    "\n",
    "print(sys.path)\n",
    "\n",
    "%load_ext autoreload\n",
    "%autoreload 2"
   ]
  },
  {
   "cell_type": "code",
   "execution_count": 2,
   "metadata": {
    "ExecuteTime": {
     "end_time": "2018-07-14T04:36:46.261447Z",
     "start_time": "2018-07-14T04:36:45.206636Z"
    }
   },
   "outputs": [
    {
     "name": "stderr",
     "output_type": "stream",
     "text": [
      "/home/kai/anaconda3/envs/tf_gpu/lib/python3.5/site-packages/h5py/__init__.py:36: FutureWarning: Conversion of the second argument of issubdtype from `float` to `np.floating` is deprecated. In future, it will be treated as `np.float64 == np.dtype(float).type`.\n",
      "  from ._conv import register_converters as _register_converters\n",
      "Using TensorFlow backend.\n"
     ]
    }
   ],
   "source": [
    "from automl_libs import base_layer_utils, stacknet\n",
    "from automl_libs import feature_engineering as fe\n",
    "from automl_libs import encoding, kernels, nn_libs "
   ]
  },
  {
   "cell_type": "code",
   "execution_count": 3,
   "metadata": {
    "ExecuteTime": {
     "end_time": "2018-07-14T04:36:46.280678Z",
     "start_time": "2018-07-14T04:36:46.263599Z"
    }
   },
   "outputs": [],
   "source": [
    "categorical_features = ['blabla']"
   ]
  },
  {
   "cell_type": "code",
   "execution_count": 4,
   "metadata": {
    "ExecuteTime": {
     "end_time": "2018-07-14T04:36:46.299814Z",
     "start_time": "2018-07-14T04:36:46.282069Z"
    }
   },
   "outputs": [],
   "source": [
    "import itertools\n",
    "#params = {'split_col': 't', 'coefficient': 10, 'n': 2, 'fillna': 22}\n",
    "def get_features_to_gen(function_list, low, high):\n",
    "    features_to_gen = []\n",
    "    for function in function_list:\n",
    "        for i in range(low, high+1):\n",
    "            for combine in itertools.combinations(categorical_features, i):\n",
    "                if function.__name__ == 'count_std_over_mean':\n",
    "                    features_to_gen.append({'params': {'coefficient': 10}, 'function': function, 'feature_cols': list(combine)})\n",
    "                else:\n",
    "                    features_to_gen.append({'params': {}, 'function': function, 'feature_cols': list(combine)})\n",
    "                \n",
    "    return features_to_gen\n",
    "\n",
    "# features_to_gen = get_features_to_gen([fe.count, fe.unique_count, \n",
    "#                                        fe.cumulative_count, \n",
    "#                                        fe.reverse_cumulative_count, \n",
    "#                                        fe.variance, fe.count_std_over_mean], \n",
    "#                                       2, 2)# len(categorical_features))\n",
    "# features_to_gen = get_features_to_gen([fe.count, fe.unique_count, fe.cumulative_count])\n",
    "features_to_gen = get_features_to_gen([fe.count], 2, 2)#len(categorical_features))\n",
    "\n",
    "features_to_gen = []"
   ]
  },
  {
   "cell_type": "code",
   "execution_count": 5,
   "metadata": {
    "ExecuteTime": {
     "end_time": "2018-07-14T04:36:46.321673Z",
     "start_time": "2018-07-14T04:36:46.301082Z"
    }
   },
   "outputs": [
    {
     "data": {
      "text/plain": [
       "0"
      ]
     },
     "execution_count": 5,
     "metadata": {},
     "output_type": "execute_result"
    }
   ],
   "source": [
    "len(features_to_gen)"
   ]
  },
  {
   "cell_type": "code",
   "execution_count": 6,
   "metadata": {
    "ExecuteTime": {
     "end_time": "2018-07-14T04:36:46.338662Z",
     "start_time": "2018-07-14T04:36:46.322909Z"
    }
   },
   "outputs": [],
   "source": [
    "project_path = './' "
   ]
  },
  {
   "cell_type": "code",
   "execution_count": 7,
   "metadata": {
    "ExecuteTime": {
     "end_time": "2018-07-14T04:36:46.356484Z",
     "start_time": "2018-07-14T04:36:46.339900Z"
    }
   },
   "outputs": [],
   "source": [
    "from automl_app import logger_config\n",
    "import logging\n",
    "logger_config.config(project_path+'project.log', file_loglevel=logging.INFO)"
   ]
  },
  {
   "cell_type": "code",
   "execution_count": 8,
   "metadata": {
    "ExecuteTime": {
     "end_time": "2018-07-14T04:36:46.388979Z",
     "start_time": "2018-07-14T04:36:46.357887Z"
    }
   },
   "outputs": [],
   "source": [
    "def params_gen(model='lgb'):\n",
    "    import time\n",
    "    import numpy as np\n",
    "    seed = int(time.time()* 1000000) % 45234634\n",
    "    np.random.seed(seed)\n",
    "    if model == 'svc':\n",
    "        params = {\n",
    "            'C': 0.911#np.random.rand(),\n",
    "#             'metric': 'roc_auc'\n",
    "        }\n",
    "    elif model == 'logreg':\n",
    "        params = {\n",
    "            'penalty': np.random.choice(['l2']),\n",
    "            'dual': np.random.choice([True, False]),\n",
    "            'C': 1,#np.random.rand(),\n",
    "            'metric': 'roc_auc'\n",
    "        }\n",
    "    elif model == 'lgb':\n",
    "        params = {    \n",
    "            'objective': 'binary',\n",
    "            'boosting': 'gbdt',\n",
    "            'num_boost_round': 30, # ignored in params. extract it and put it in input arguments in train or cv explicitly\n",
    "                                   # seems to work fine as the upper limit when combined with early_stopping_round\n",
    "            'learning_rate': np.random.choice([0.1,0.03]),#0.001]),\n",
    "            'num_leaves': np.random.choice([15,31]),#,61,127]),\n",
    "            'num_threads': 8, # best speed: set to number of real cpu cores, which is vCPU/2\n",
    "            'max_depth': -1, # no limit. This is used to deal with over-fitting when #data is small.\n",
    "            'min_data_in_leaf': np.random.randint(20,50),  #minimal number of data in one leaf. \n",
    "            'feature_fraction': np.random.randint(9,11)/10,\n",
    "            'feature_fraction_seed': seed,\n",
    "            'early_stopping_round':10,\n",
    "            'bagging_freq': 1, #0 means disable bagging. k: perform bagging at every k iteration\n",
    "            'bagging_fraction': np.random.randint(4,11)/10, #Randomly select part of data \n",
    "            'bagging_seed': seed,\n",
    "            'scale_pos_weight': 1,\n",
    "            'metric': 'auc'\n",
    "        }\n",
    "    elif model == 'nn':\n",
    "        params = {\n",
    "            'nn_seed': int(time.time() * 1000000) % 45234634,\n",
    "            'ep_for_lr': np.random.randint(2,10),\n",
    "            'lr_init': 0.01,\n",
    "            'lr_fin': np.random.randint(1,5)/1000,  # if == lr_init, then no lr decay\n",
    "            'batch_size': np.random.choice([128, 256, 512, 1024]),\n",
    "            \"pred_batch_size\": 5000,\n",
    "            'max_ep': 100,\n",
    "            'patience': 10, #np.random.randint(10, 25),\n",
    "            'cat_emb_outdim': 30, # could be a constant or a dict (col name:embed out dim). e.g.:\n",
    "                                  # embed_outdim = [3, 3, 8, 8, 3]\n",
    "                                  # embed_outdim_dict = dict(zip(X_train.columns.values, embed_outdim))\n",
    "                                  # then assige embed_outdim_dict to cat_emb_outdim\n",
    "            'cat_emb_drop_rate': np.random.randint(1,4)/10, \n",
    "            'num_layers_dense_units': [1000, 500, 100],\n",
    "            'num_layers_drop_rate': np.random.randint(2,6)/10,\n",
    "            'combined_layers_dense_units': [100, 50],\n",
    "            'combined_layers_drop_rate': np.random.randint(1,3)/10,\n",
    "            'monitor': 'val_auc',  # or val_loss (MUST HAVE)\n",
    "            'mode': 'max',  # MUST HAVE\n",
    "            'int_list': ['num_layers_dense_units', 'combined_layers_dense_units']\n",
    "        }\n",
    "    elif model == 'stacknet_layer2_nn':\n",
    "        params = {\n",
    "            'nn_seed': int(time.time() * 1000000) % 45234634,\n",
    "            'ep_for_lr': 1,\n",
    "            'lr_init': 0.01,\n",
    "            'lr_fin': 0.01, # if == lr_init, then no lr decay\n",
    "            'batch_size': 128,\n",
    "            \"pred_batch_size\": 50000,\n",
    "            'best_epoch': 1,\n",
    "            'patience': 1,\n",
    "            'categorical_feature': [],\n",
    "            'cat_emb_outdim': 50, # could be a constant or a dict (col name:embed out dim). e.g.:\n",
    "                                  # embed_outdim = [3, 3, 8, 8, 3]\n",
    "                                  # embed_outdim_dict = dict(zip(X_train.columns.values, embed_outdim))\n",
    "            'num_layers_dense_units': [],\n",
    "            'combined_layers_dense_units': [10, 5],\n",
    "            'combined_layers_drop_rate': 0,\n",
    "            'monitor': 'val_auc',  # or val_loss (MUST HAVE)\n",
    "            'mode': 'max',  # MUST HAVE\n",
    "            'int_list': ['num_layers_dense_units', 'combined_layers_dense_units']\n",
    "        }\n",
    "    return params, seed"
   ]
  },
  {
   "cell_type": "code",
   "execution_count": 9,
   "metadata": {
    "ExecuteTime": {
     "end_time": "2018-07-14T04:36:46.407243Z",
     "start_time": "2018-07-14T04:36:46.390379Z"
    }
   },
   "outputs": [
    {
     "data": {
      "text/plain": [
       "({'batch_size': 128,\n",
       "  'best_epoch': 1,\n",
       "  'cat_emb_outdim': 50,\n",
       "  'categorical_feature': [],\n",
       "  'combined_layers_dense_units': [10, 5],\n",
       "  'combined_layers_drop_rate': 0,\n",
       "  'ep_for_lr': 1,\n",
       "  'int_list': ['num_layers_dense_units', 'combined_layers_dense_units'],\n",
       "  'lr_fin': 0.01,\n",
       "  'lr_init': 0.01,\n",
       "  'mode': 'max',\n",
       "  'monitor': 'val_auc',\n",
       "  'nn_seed': 31856405,\n",
       "  'num_layers_dense_units': [],\n",
       "  'patience': 1,\n",
       "  'pred_batch_size': 50000},\n",
       " 31856397)"
      ]
     },
     "execution_count": 9,
     "metadata": {},
     "output_type": "execute_result"
    }
   ],
   "source": [
    "p, s = params_gen('stacknet_layer2_nn')\n",
    "p, s"
   ]
  },
  {
   "cell_type": "code",
   "execution_count": 10,
   "metadata": {
    "ExecuteTime": {
     "end_time": "2018-07-15T05:02:59.594302Z",
     "start_time": "2018-07-14T04:36:46.408471Z"
    },
    "scrolled": true
   },
   "outputs": [
    {
     "name": "stderr",
     "output_type": "stream",
     "text": [
      "2018-07-14 00:36:46 | INFO    | automl_app.app.AlphaBoosting.__init__             | #22  | ==========START==========\n",
      "/home/kai/data/shiyi/AlphaBoosting/automl/automl_app/app.py:139: FutureWarning: Sorting because non-concatenation axis is not aligned. A future version\n",
      "of pandas will change to not sort by default.\n",
      "\n",
      "To accept the future behavior, pass 'sort=False'.\n",
      "\n",
      "To retain the current behavior and silence the warning, pass 'sort=True'.\n",
      "\n",
      "  self.df = pd.concat([self.train, self.test], ignore_index=True)\n",
      "2018-07-14 00:37:04 | INFO    | automl_app.app.AlphaBoosting.__init__             | #65  | Run record file [./output/last_run_record.json] not found. Begin the first time run...\n",
      "2018-07-14 00:37:04 | INFO    | automl_app.app.AlphaBoosting.__init__             | #96  | generate todo list\n",
      "2018-07-14 00:37:04 | INFO    | automl_app.app.AlphaBoosting.__init__             | #112 | STAGE: FEATURE_ENGINEERING\n",
      "2018-07-14 00:37:04 | INFO    | automl_app.app.AlphaBoosting.__init__             | #116 | STAGE: VALIDATION_DOWNSAMPLING_GEN\n",
      "2018-07-14 00:37:04 | INFO    | automl_app.app.AlphaBoosting.__init__             | #120 | STAGE: CONCAT_DATA\n",
      "2018-07-14 00:37:04 | INFO    | automl_app.app.AlphaBoosting.__init__             | #124 | STAGE: GRID_SEARCH\n",
      "2018-07-14 00:37:04 | INFO    | automl_app.app.AlphaBoosting.__init__             | #128 | STAGE: STACKNET\n",
      "2018-07-14 00:37:11 | INFO    | automl_app.app.AlphaBoosting._get_final_data      | #336 | Data retrieved. Shape: train (261384, 2678) | val (46127, 2678) | test (48744, 2677) | contain test label: False | 29 cat features | 2675 total features | y name: TARGET\n",
      "2018-07-14 00:37:24 | DEBUG   | automl_libs.stacknet.layer1               | #38  | data_id: flight_data_ordinal  \n",
      "\tx_train: (307511, 2675)\tx_test: (48744, 2675)\n",
      "\ty_train type: <class 'dict'>\n",
      "\tcompatible_models: {'NN', 'LGB'}\n",
      " \n",
      "2018-07-14 00:37:24 | INFO    | automl_libs.stacknet.layer1               | #69  | using lgb params: pC2i to do oof\n",
      "2018-07-14 00:37:24 | DEBUG   | automl_libs.stacknet.layer1               | #70  | {'bagging_fraction': 0.9233752619239504, 'min_split_gain': 0.0034808360534704327, 'lambda_l1': 0.8724769327025551, 'metric': 'auc', 'lambda_l2': 0.964693958355438, 'num_threads': 15, 'objective': 'binary', 'num_leaves': 58, 'bagging_seed': 1992, 'boosting': 'gbdt', 'best_round': 3501, 'val_auc': 0.7973165103016722, 'min_child_weight': 19.132711515190245, 'scale_pos_weight': 1.3961401308837158, 'feature_fraction_seed': 1992, 'max_depth': 6, 'feature_fraction': 0.10487624103200976, 'learning_rate': 0.01}\n",
      "2018-07-14 00:37:24 | INFO    | automl_libs.base_layer_utils.compute_layer1_oof   | #498 | StackNet layer1: label: TARGET   model_data_id: pC2i__LGB_flight_data_ordinal_layer1\n",
      "2018-07-14 00:37:27 | INFO    | automl_libs.base_layer_utils.get_oof              | #434 | processing fold 1 of 5...\n",
      "/home/kai/anaconda3/envs/tf_gpu/lib/python3.5/site-packages/lightgbm/basic.py:1036: UserWarning: Using categorical_feature in Dataset.\n",
      "  warnings.warn('Using categorical_feature in Dataset.')\n"
     ]
    },
    {
     "name": "stdout",
     "output_type": "stream",
     "text": [
      "No evaluation set, thus not possible to use early stopping. Please train with your best params.\n",
      "[700]\ttraining's auc: 0.832561\n",
      "[1400]\ttraining's auc: 0.863888\n",
      "[2100]\ttraining's auc: 0.883086\n",
      "[2800]\ttraining's auc: 0.897248\n",
      "[3500]\ttraining's auc: 0.909305\n"
     ]
    },
    {
     "name": "stderr",
     "output_type": "stream",
     "text": [
      "2018-07-14 01:00:23 | INFO    | automl_libs.base_layer_utils.get_oof              | #448 | metric of fold 1: 0.798318909076543\n",
      "2018-07-14 01:00:26 | INFO    | automl_libs.base_layer_utils.get_oof              | #434 | processing fold 2 of 5...\n"
     ]
    },
    {
     "name": "stdout",
     "output_type": "stream",
     "text": [
      "No evaluation set, thus not possible to use early stopping. Please train with your best params.\n"
     ]
    },
    {
     "name": "stderr",
     "output_type": "stream",
     "text": [
      "/home/kai/anaconda3/envs/tf_gpu/lib/python3.5/site-packages/lightgbm/basic.py:681: UserWarning: categorical_feature in param dict is overrided.\n",
      "  warnings.warn('categorical_feature in param dict is overrided.')\n"
     ]
    },
    {
     "name": "stdout",
     "output_type": "stream",
     "text": [
      "[700]\ttraining's auc: 0.833231\n",
      "[1400]\ttraining's auc: 0.865587\n",
      "[2100]\ttraining's auc: 0.884656\n",
      "[2800]\ttraining's auc: 0.898706\n",
      "[3500]\ttraining's auc: 0.910769\n"
     ]
    },
    {
     "name": "stderr",
     "output_type": "stream",
     "text": [
      "2018-07-14 01:23:00 | INFO    | automl_libs.base_layer_utils.get_oof              | #448 | metric of fold 2: 0.7934691076743388\n",
      "2018-07-14 01:23:03 | INFO    | automl_libs.base_layer_utils.get_oof              | #434 | processing fold 3 of 5...\n"
     ]
    },
    {
     "name": "stdout",
     "output_type": "stream",
     "text": [
      "No evaluation set, thus not possible to use early stopping. Please train with your best params.\n",
      "[700]\ttraining's auc: 0.832977\n",
      "[1400]\ttraining's auc: 0.864349\n",
      "[2100]\ttraining's auc: 0.883834\n",
      "[2800]\ttraining's auc: 0.898719\n",
      "[3500]\ttraining's auc: 0.911039\n"
     ]
    },
    {
     "name": "stderr",
     "output_type": "stream",
     "text": [
      "2018-07-14 01:45:38 | INFO    | automl_libs.base_layer_utils.get_oof              | #448 | metric of fold 3: 0.795403101260266\n",
      "2018-07-14 01:45:41 | INFO    | automl_libs.base_layer_utils.get_oof              | #434 | processing fold 4 of 5...\n"
     ]
    },
    {
     "name": "stdout",
     "output_type": "stream",
     "text": [
      "No evaluation set, thus not possible to use early stopping. Please train with your best params.\n",
      "[700]\ttraining's auc: 0.830716\n",
      "[1400]\ttraining's auc: 0.863068\n",
      "[2100]\ttraining's auc: 0.88261\n",
      "[2800]\ttraining's auc: 0.89734\n",
      "[3500]\ttraining's auc: 0.910111\n"
     ]
    },
    {
     "name": "stderr",
     "output_type": "stream",
     "text": [
      "2018-07-14 02:08:40 | INFO    | automl_libs.base_layer_utils.get_oof              | #448 | metric of fold 4: 0.8033964087113784\n",
      "2018-07-14 02:08:43 | INFO    | automl_libs.base_layer_utils.get_oof              | #434 | processing fold 5 of 5...\n"
     ]
    },
    {
     "name": "stdout",
     "output_type": "stream",
     "text": [
      "No evaluation set, thus not possible to use early stopping. Please train with your best params.\n",
      "[700]\ttraining's auc: 0.83251\n",
      "[1400]\ttraining's auc: 0.86425\n",
      "[2100]\ttraining's auc: 0.883315\n",
      "[2800]\ttraining's auc: 0.89757\n",
      "[3500]\ttraining's auc: 0.909983\n"
     ]
    },
    {
     "name": "stderr",
     "output_type": "stream",
     "text": [
      "2018-07-14 02:31:39 | INFO    | automl_libs.base_layer_utils.get_oof              | #448 | metric of fold 5: 0.7935929595856279\n"
     ]
    },
    {
     "name": "stdout",
     "output_type": "stream",
     "text": [
      "No evaluation set, thus not possible to use early stopping. Please train with your best params.\n",
      "[700]\ttraining's auc: 0.825549\n",
      "[1400]\ttraining's auc: 0.854908\n",
      "[2100]\ttraining's auc: 0.872931\n",
      "[2800]\ttraining's auc: 0.886069\n",
      "[3500]\ttraining's auc: 0.897575\n"
     ]
    },
    {
     "name": "stderr",
     "output_type": "stream",
     "text": [
      "2018-07-14 02:59:34 | INFO    | automl_libs.base_layer_utils.BaseLayerResultsRepo.update_report        | #280 | StackNet report updated: pC2i__LGB_flight_data_ordinal_layer1: oof_cv_score => 0.7968360972616308\n",
      "2018-07-14 02:59:34 | INFO    | automl_libs.base_layer_utils.BaseLayerResultsRepo.add_score            | #299 | pC2i__LGB_flight_data_ordinal_layer1 found in repo. Update score from 0 to 0.79732\n",
      "2018-07-14 02:59:34 | INFO    | automl_libs.base_layer_utils.BaseLayerResultsRepo.update_report        | #280 | StackNet report updated: pC2i__LGB_flight_data_ordinal_layer1: gs_val_auc => 0.7973165103016722\n",
      "2018-07-14 02:59:34 | INFO    | automl_libs.base_layer_utils.BaseLayerResultsRepo.save                 | #392 | StackNet data saved for: ['pC2i__LGB_flight_data_ordinal_layer1']\n",
      "2018-07-14 02:59:34 | INFO    | automl_libs.base_layer_utils.BaseLayerResultsRepo.save                 | #396 | StackNet report saved at ./output/oof/stacknet_report.csv\n",
      "2018-07-14 02:59:34 | INFO    | automl_libs.stacknet.layer1               | #69  | using lgb params: qHLQ to do oof\n",
      "2018-07-14 02:59:34 | DEBUG   | automl_libs.stacknet.layer1               | #70  | {'bagging_fraction': 0.8333458073293336, 'min_split_gain': 0.07757024991785857, 'lambda_l1': 0.16295408607585216, 'metric': 'auc', 'lambda_l2': 0.007831766942599015, 'num_threads': 15, 'objective': 'binary', 'num_leaves': 39, 'bagging_seed': 1992, 'boosting': 'gbdt', 'best_round': 3147, 'val_auc': 0.7971714520828874, 'min_child_weight': 21.79854444498849, 'scale_pos_weight': 1.3543539906007809, 'feature_fraction_seed': 1992, 'max_depth': 8, 'feature_fraction': 0.10075905445451766, 'learning_rate': 0.01}\n",
      "2018-07-14 02:59:34 | INFO    | automl_libs.base_layer_utils.compute_layer1_oof   | #498 | StackNet layer1: label: TARGET   model_data_id: qHLQ__LGB_flight_data_ordinal_layer1\n",
      "2018-07-14 02:59:37 | INFO    | automl_libs.base_layer_utils.get_oof              | #434 | processing fold 1 of 5...\n"
     ]
    },
    {
     "name": "stdout",
     "output_type": "stream",
     "text": [
      "No evaluation set, thus not possible to use early stopping. Please train with your best params.\n",
      "[629]\ttraining's auc: 0.817561\n",
      "[1258]\ttraining's auc: 0.850606\n",
      "[1887]\ttraining's auc: 0.873998\n",
      "[2516]\ttraining's auc: 0.891731\n",
      "[3145]\ttraining's auc: 0.906322\n"
     ]
    },
    {
     "name": "stderr",
     "output_type": "stream",
     "text": [
      "2018-07-14 03:24:20 | INFO    | automl_libs.base_layer_utils.get_oof              | #448 | metric of fold 1: 0.7981362017051191\n",
      "2018-07-14 03:24:23 | INFO    | automl_libs.base_layer_utils.get_oof              | #434 | processing fold 2 of 5...\n"
     ]
    },
    {
     "name": "stdout",
     "output_type": "stream",
     "text": [
      "No evaluation set, thus not possible to use early stopping. Please train with your best params.\n",
      "[629]\ttraining's auc: 0.818069\n",
      "[1258]\ttraining's auc: 0.851553\n",
      "[1887]\ttraining's auc: 0.874434\n",
      "[2516]\ttraining's auc: 0.892078\n",
      "[3145]\ttraining's auc: 0.907404\n"
     ]
    },
    {
     "name": "stderr",
     "output_type": "stream",
     "text": [
      "2018-07-14 03:49:24 | INFO    | automl_libs.base_layer_utils.get_oof              | #448 | metric of fold 2: 0.7932353686303444\n",
      "2018-07-14 03:49:28 | INFO    | automl_libs.base_layer_utils.get_oof              | #434 | processing fold 3 of 5...\n"
     ]
    },
    {
     "name": "stdout",
     "output_type": "stream",
     "text": [
      "No evaluation set, thus not possible to use early stopping. Please train with your best params.\n",
      "[629]\ttraining's auc: 0.818116\n",
      "[1258]\ttraining's auc: 0.851247\n",
      "[1887]\ttraining's auc: 0.874778\n",
      "[2516]\ttraining's auc: 0.893052\n",
      "[3145]\ttraining's auc: 0.908067\n"
     ]
    },
    {
     "name": "stderr",
     "output_type": "stream",
     "text": [
      "2018-07-14 04:15:06 | INFO    | automl_libs.base_layer_utils.get_oof              | #448 | metric of fold 3: 0.7945088958756719\n",
      "2018-07-14 04:15:09 | INFO    | automl_libs.base_layer_utils.get_oof              | #434 | processing fold 4 of 5...\n"
     ]
    },
    {
     "name": "stdout",
     "output_type": "stream",
     "text": [
      "No evaluation set, thus not possible to use early stopping. Please train with your best params.\n",
      "[629]\ttraining's auc: 0.816102\n",
      "[1258]\ttraining's auc: 0.849817\n",
      "[1887]\ttraining's auc: 0.8736\n",
      "[2516]\ttraining's auc: 0.892089\n",
      "[3145]\ttraining's auc: 0.907013\n"
     ]
    },
    {
     "name": "stderr",
     "output_type": "stream",
     "text": [
      "2018-07-14 04:41:19 | INFO    | automl_libs.base_layer_utils.get_oof              | #448 | metric of fold 4: 0.8029919929985161\n",
      "2018-07-14 04:41:23 | INFO    | automl_libs.base_layer_utils.get_oof              | #434 | processing fold 5 of 5...\n"
     ]
    },
    {
     "name": "stdout",
     "output_type": "stream",
     "text": [
      "No evaluation set, thus not possible to use early stopping. Please train with your best params.\n",
      "[629]\ttraining's auc: 0.816918\n",
      "[1258]\ttraining's auc: 0.851436\n",
      "[1887]\ttraining's auc: 0.87461\n",
      "[2516]\ttraining's auc: 0.892131\n",
      "[3145]\ttraining's auc: 0.906911\n"
     ]
    },
    {
     "name": "stderr",
     "output_type": "stream",
     "text": [
      "2018-07-14 05:07:34 | INFO    | automl_libs.base_layer_utils.get_oof              | #448 | metric of fold 5: 0.793809819772242\n"
     ]
    },
    {
     "name": "stdout",
     "output_type": "stream",
     "text": [
      "No evaluation set, thus not possible to use early stopping. Please train with your best params.\n",
      "[629]\ttraining's auc: 0.811722\n",
      "[1258]\ttraining's auc: 0.841354\n",
      "[1887]\ttraining's auc: 0.862161\n",
      "[2516]\ttraining's auc: 0.878432\n",
      "[3145]\ttraining's auc: 0.892544\n"
     ]
    },
    {
     "name": "stderr",
     "output_type": "stream",
     "text": [
      "2018-07-14 05:39:34 | INFO    | automl_libs.base_layer_utils.BaseLayerResultsRepo.update_report        | #280 | StackNet report updated: qHLQ__LGB_flight_data_ordinal_layer1: oof_cv_score => 0.7965364557963788\n",
      "2018-07-14 05:39:34 | INFO    | automl_libs.base_layer_utils.BaseLayerResultsRepo.add_score            | #299 | qHLQ__LGB_flight_data_ordinal_layer1 found in repo. Update score from 0 to 0.79717\n",
      "2018-07-14 05:39:34 | INFO    | automl_libs.base_layer_utils.BaseLayerResultsRepo.update_report        | #280 | StackNet report updated: qHLQ__LGB_flight_data_ordinal_layer1: gs_val_auc => 0.7971714520828874\n",
      "2018-07-14 05:39:34 | INFO    | automl_libs.base_layer_utils.BaseLayerResultsRepo.save                 | #392 | StackNet data saved for: ['pC2i__LGB_flight_data_ordinal_layer1', 'qHLQ__LGB_flight_data_ordinal_layer1']\n",
      "2018-07-14 05:39:34 | INFO    | automl_libs.base_layer_utils.BaseLayerResultsRepo.save                 | #396 | StackNet report saved at ./output/oof/stacknet_report.csv\n",
      "2018-07-14 05:39:34 | INFO    | automl_libs.stacknet.layer1               | #69  | using lgb params: dQTL to do oof\n",
      "2018-07-14 05:39:34 | DEBUG   | automl_libs.stacknet.layer1               | #70  | {'bagging_fraction': 0.8445384320426432, 'min_split_gain': 0.02389181402141751, 'lambda_l1': 0.8740845629793716, 'metric': 'auc', 'lambda_l2': 0.8539550430990893, 'num_threads': 15, 'objective': 'binary', 'num_leaves': 40, 'bagging_seed': 1992, 'boosting': 'gbdt', 'best_round': 3512, 'val_auc': 0.7973143181135111, 'min_child_weight': 8.539173682157525, 'scale_pos_weight': 1.1262953594989489, 'feature_fraction_seed': 1992, 'max_depth': 9, 'feature_fraction': 0.10782883340509672, 'learning_rate': 0.01}\n",
      "2018-07-14 05:39:34 | INFO    | automl_libs.base_layer_utils.compute_layer1_oof   | #498 | StackNet layer1: label: TARGET   model_data_id: dQTL__LGB_flight_data_ordinal_layer1\n",
      "2018-07-14 05:39:37 | INFO    | automl_libs.base_layer_utils.get_oof              | #434 | processing fold 1 of 5...\n"
     ]
    },
    {
     "name": "stdout",
     "output_type": "stream",
     "text": [
      "No evaluation set, thus not possible to use early stopping. Please train with your best params.\n",
      "[702]\ttraining's auc: 0.822957\n",
      "[1404]\ttraining's auc: 0.858813\n",
      "[2106]\ttraining's auc: 0.884909\n",
      "[2808]\ttraining's auc: 0.905031\n",
      "[3510]\ttraining's auc: 0.921372\n"
     ]
    },
    {
     "name": "stderr",
     "output_type": "stream",
     "text": [
      "2018-07-14 06:08:23 | INFO    | automl_libs.base_layer_utils.get_oof              | #448 | metric of fold 1: 0.7982114641180826\n",
      "2018-07-14 06:08:26 | INFO    | automl_libs.base_layer_utils.get_oof              | #434 | processing fold 2 of 5...\n"
     ]
    },
    {
     "name": "stdout",
     "output_type": "stream",
     "text": [
      "No evaluation set, thus not possible to use early stopping. Please train with your best params.\n",
      "[702]\ttraining's auc: 0.823589\n",
      "[1404]\ttraining's auc: 0.8595\n",
      "[2106]\ttraining's auc: 0.885338\n",
      "[2808]\ttraining's auc: 0.905547\n",
      "[3510]\ttraining's auc: 0.922382\n"
     ]
    },
    {
     "name": "stderr",
     "output_type": "stream",
     "text": [
      "2018-07-14 06:36:30 | INFO    | automl_libs.base_layer_utils.get_oof              | #448 | metric of fold 2: 0.793859412548433\n",
      "2018-07-14 06:36:33 | INFO    | automl_libs.base_layer_utils.get_oof              | #434 | processing fold 3 of 5...\n"
     ]
    },
    {
     "name": "stdout",
     "output_type": "stream",
     "text": [
      "No evaluation set, thus not possible to use early stopping. Please train with your best params.\n",
      "[702]\ttraining's auc: 0.823302\n",
      "[1404]\ttraining's auc: 0.859123\n",
      "[2106]\ttraining's auc: 0.885657\n",
      "[2808]\ttraining's auc: 0.906061\n",
      "[3510]\ttraining's auc: 0.922808\n"
     ]
    },
    {
     "name": "stderr",
     "output_type": "stream",
     "text": [
      "2018-07-14 07:05:20 | INFO    | automl_libs.base_layer_utils.get_oof              | #448 | metric of fold 3: 0.7959680727399666\n",
      "2018-07-14 07:05:23 | INFO    | automl_libs.base_layer_utils.get_oof              | #434 | processing fold 4 of 5...\n"
     ]
    },
    {
     "name": "stdout",
     "output_type": "stream",
     "text": [
      "No evaluation set, thus not possible to use early stopping. Please train with your best params.\n",
      "[702]\ttraining's auc: 0.821277\n",
      "[1404]\ttraining's auc: 0.857839\n",
      "[2106]\ttraining's auc: 0.884235\n",
      "[2808]\ttraining's auc: 0.904634\n",
      "[3510]\ttraining's auc: 0.921394\n"
     ]
    },
    {
     "name": "stderr",
     "output_type": "stream",
     "text": [
      "2018-07-14 07:34:02 | INFO    | automl_libs.base_layer_utils.get_oof              | #448 | metric of fold 4: 0.8029642201888625\n",
      "2018-07-14 07:34:06 | INFO    | automl_libs.base_layer_utils.get_oof              | #434 | processing fold 5 of 5...\n"
     ]
    },
    {
     "name": "stdout",
     "output_type": "stream",
     "text": [
      "No evaluation set, thus not possible to use early stopping. Please train with your best params.\n",
      "[702]\ttraining's auc: 0.822747\n",
      "[1404]\ttraining's auc: 0.859209\n",
      "[2106]\ttraining's auc: 0.884992\n",
      "[2808]\ttraining's auc: 0.904908\n",
      "[3510]\ttraining's auc: 0.921163\n"
     ]
    },
    {
     "name": "stderr",
     "output_type": "stream",
     "text": [
      "2018-07-14 08:02:51 | INFO    | automl_libs.base_layer_utils.get_oof              | #448 | metric of fold 5: 0.7938363599764386\n"
     ]
    },
    {
     "name": "stdout",
     "output_type": "stream",
     "text": [
      "No evaluation set, thus not possible to use early stopping. Please train with your best params.\n",
      "[702]\ttraining's auc: 0.816616\n",
      "[1404]\ttraining's auc: 0.848513\n",
      "[2106]\ttraining's auc: 0.871665\n",
      "[2808]\ttraining's auc: 0.890391\n",
      "[3510]\ttraining's auc: 0.906053\n"
     ]
    },
    {
     "name": "stderr",
     "output_type": "stream",
     "text": [
      "2018-07-14 08:38:34 | INFO    | automl_libs.base_layer_utils.BaseLayerResultsRepo.update_report        | #280 | StackNet report updated: dQTL__LGB_flight_data_ordinal_layer1: oof_cv_score => 0.7969679059143566\n",
      "2018-07-14 08:38:34 | INFO    | automl_libs.base_layer_utils.BaseLayerResultsRepo.add_score            | #299 | dQTL__LGB_flight_data_ordinal_layer1 found in repo. Update score from 0 to 0.79731\n",
      "2018-07-14 08:38:34 | INFO    | automl_libs.base_layer_utils.BaseLayerResultsRepo.update_report        | #280 | StackNet report updated: dQTL__LGB_flight_data_ordinal_layer1: gs_val_auc => 0.7973143181135111\n",
      "2018-07-14 08:38:34 | INFO    | automl_libs.base_layer_utils.BaseLayerResultsRepo.save                 | #392 | StackNet data saved for: ['pC2i__LGB_flight_data_ordinal_layer1', 'qHLQ__LGB_flight_data_ordinal_layer1', 'dQTL__LGB_flight_data_ordinal_layer1']\n",
      "2018-07-14 08:38:34 | INFO    | automl_libs.base_layer_utils.BaseLayerResultsRepo.save                 | #396 | StackNet report saved at ./output/oof/stacknet_report.csv\n",
      "2018-07-14 08:38:34 | INFO    | automl_libs.stacknet.layer1               | #69  | using lgb params: 3VXI to do oof\n",
      "2018-07-14 08:38:34 | DEBUG   | automl_libs.stacknet.layer1               | #70  | {'bagging_fraction': 0.8630252014043698, 'min_split_gain': 0.07092159115624247, 'lambda_l1': 0.12469645629619396, 'metric': 'auc', 'lambda_l2': 0.21391521115199616, 'num_threads': 15, 'objective': 'binary', 'num_leaves': 60, 'bagging_seed': 1992, 'boosting': 'gbdt', 'best_round': 2607, 'val_auc': 0.7974273799021107, 'min_child_weight': 45.93947223672253, 'scale_pos_weight': 1.046658781155296, 'feature_fraction_seed': 1992, 'max_depth': 9, 'feature_fraction': 0.1627709126665393, 'learning_rate': 0.01}\n",
      "2018-07-14 08:38:34 | INFO    | automl_libs.base_layer_utils.compute_layer1_oof   | #498 | StackNet layer1: label: TARGET   model_data_id: 3VXI__LGB_flight_data_ordinal_layer1\n",
      "2018-07-14 08:38:37 | INFO    | automl_libs.base_layer_utils.get_oof              | #434 | processing fold 1 of 5...\n"
     ]
    },
    {
     "name": "stdout",
     "output_type": "stream",
     "text": [
      "No evaluation set, thus not possible to use early stopping. Please train with your best params.\n",
      "[521]\ttraining's auc: 0.824643\n",
      "[1042]\ttraining's auc: 0.860423\n",
      "[1563]\ttraining's auc: 0.883647\n",
      "[2084]\ttraining's auc: 0.900344\n",
      "[2605]\ttraining's auc: 0.914244\n"
     ]
    },
    {
     "name": "stderr",
     "output_type": "stream",
     "text": [
      "2018-07-14 09:14:16 | INFO    | automl_libs.base_layer_utils.get_oof              | #448 | metric of fold 1: 0.7988900512936481\n",
      "2018-07-14 09:14:19 | INFO    | automl_libs.base_layer_utils.get_oof              | #434 | processing fold 2 of 5...\n"
     ]
    },
    {
     "name": "stdout",
     "output_type": "stream",
     "text": [
      "No evaluation set, thus not possible to use early stopping. Please train with your best params.\n",
      "[521]\ttraining's auc: 0.825169\n",
      "[1042]\ttraining's auc: 0.861211\n",
      "[1563]\ttraining's auc: 0.884279\n",
      "[2084]\ttraining's auc: 0.901094\n",
      "[2605]\ttraining's auc: 0.914201\n"
     ]
    },
    {
     "name": "stderr",
     "output_type": "stream",
     "text": [
      "2018-07-14 09:48:57 | INFO    | automl_libs.base_layer_utils.get_oof              | #448 | metric of fold 2: 0.7938399152950679\n",
      "2018-07-14 09:49:00 | INFO    | automl_libs.base_layer_utils.get_oof              | #434 | processing fold 3 of 5...\n"
     ]
    },
    {
     "name": "stdout",
     "output_type": "stream",
     "text": [
      "No evaluation set, thus not possible to use early stopping. Please train with your best params.\n",
      "[521]\ttraining's auc: 0.824961\n",
      "[1042]\ttraining's auc: 0.860602\n",
      "[1563]\ttraining's auc: 0.884787\n",
      "[2084]\ttraining's auc: 0.902165\n",
      "[2605]\ttraining's auc: 0.916209\n"
     ]
    },
    {
     "name": "stderr",
     "output_type": "stream",
     "text": [
      "2018-07-14 10:24:40 | INFO    | automl_libs.base_layer_utils.get_oof              | #448 | metric of fold 3: 0.7953252903689821\n",
      "2018-07-14 10:24:44 | INFO    | automl_libs.base_layer_utils.get_oof              | #434 | processing fold 4 of 5...\n"
     ]
    },
    {
     "name": "stdout",
     "output_type": "stream",
     "text": [
      "No evaluation set, thus not possible to use early stopping. Please train with your best params.\n",
      "[521]\ttraining's auc: 0.822832\n",
      "[1042]\ttraining's auc: 0.859289\n",
      "[1563]\ttraining's auc: 0.883177\n",
      "[2084]\ttraining's auc: 0.900597\n",
      "[2605]\ttraining's auc: 0.914194\n"
     ]
    },
    {
     "name": "stderr",
     "output_type": "stream",
     "text": [
      "2018-07-14 10:58:43 | INFO    | automl_libs.base_layer_utils.get_oof              | #448 | metric of fold 4: 0.8029276160817321\n",
      "2018-07-14 10:58:46 | INFO    | automl_libs.base_layer_utils.get_oof              | #434 | processing fold 5 of 5...\n"
     ]
    },
    {
     "name": "stdout",
     "output_type": "stream",
     "text": [
      "No evaluation set, thus not possible to use early stopping. Please train with your best params.\n",
      "[521]\ttraining's auc: 0.824699\n",
      "[1042]\ttraining's auc: 0.860671\n",
      "[1563]\ttraining's auc: 0.884034\n",
      "[2084]\ttraining's auc: 0.900656\n",
      "[2605]\ttraining's auc: 0.913915\n"
     ]
    },
    {
     "name": "stderr",
     "output_type": "stream",
     "text": [
      "2018-07-14 11:32:24 | INFO    | automl_libs.base_layer_utils.get_oof              | #448 | metric of fold 5: 0.7934601588162258\n"
     ]
    },
    {
     "name": "stdout",
     "output_type": "stream",
     "text": [
      "No evaluation set, thus not possible to use early stopping. Please train with your best params.\n",
      "[521]\ttraining's auc: 0.817962\n",
      "[1042]\ttraining's auc: 0.850391\n",
      "[1563]\ttraining's auc: 0.872257\n",
      "[2084]\ttraining's auc: 0.888482\n",
      "[2605]\ttraining's auc: 0.90205\n"
     ]
    },
    {
     "name": "stderr",
     "output_type": "stream",
     "text": [
      "2018-07-14 12:12:22 | INFO    | automl_libs.base_layer_utils.BaseLayerResultsRepo.update_report        | #280 | StackNet report updated: 3VXI__LGB_flight_data_ordinal_layer1: oof_cv_score => 0.7968886063711313\n",
      "2018-07-14 12:12:22 | INFO    | automl_libs.base_layer_utils.BaseLayerResultsRepo.add_score            | #299 | 3VXI__LGB_flight_data_ordinal_layer1 found in repo. Update score from 0 to 0.79743\n",
      "2018-07-14 12:12:22 | INFO    | automl_libs.base_layer_utils.BaseLayerResultsRepo.update_report        | #280 | StackNet report updated: 3VXI__LGB_flight_data_ordinal_layer1: gs_val_auc => 0.7974273799021107\n",
      "2018-07-14 12:12:22 | INFO    | automl_libs.base_layer_utils.BaseLayerResultsRepo.save                 | #392 | StackNet data saved for: ['pC2i__LGB_flight_data_ordinal_layer1', 'qHLQ__LGB_flight_data_ordinal_layer1', 'dQTL__LGB_flight_data_ordinal_layer1', '3VXI__LGB_flight_data_ordinal_layer1']\n",
      "2018-07-14 12:12:22 | INFO    | automl_libs.base_layer_utils.BaseLayerResultsRepo.save                 | #396 | StackNet report saved at ./output/oof/stacknet_report.csv\n",
      "2018-07-14 12:12:22 | INFO    | automl_libs.stacknet.layer1               | #69  | using lgb params: 1CKg to do oof\n",
      "2018-07-14 12:12:22 | DEBUG   | automl_libs.stacknet.layer1               | #70  | {'bagging_fraction': 0.9659833084210234, 'min_split_gain': 0.05525239057828781, 'lambda_l1': 0.5669022020719631, 'metric': 'auc', 'lambda_l2': 0.9584316822760742, 'num_threads': 15, 'objective': 'binary', 'num_leaves': 60, 'bagging_seed': 1992, 'boosting': 'gbdt', 'best_round': 2694, 'val_auc': 0.7972168545179615, 'min_child_weight': 49.45191551749385, 'scale_pos_weight': 1.6974338962752051, 'feature_fraction_seed': 1992, 'max_depth': 8, 'feature_fraction': 0.13371403751417366, 'learning_rate': 0.01}\n",
      "2018-07-14 12:12:22 | INFO    | automl_libs.base_layer_utils.compute_layer1_oof   | #498 | StackNet layer1: label: TARGET   model_data_id: 1CKg__LGB_flight_data_ordinal_layer1\n",
      "2018-07-14 12:12:25 | INFO    | automl_libs.base_layer_utils.get_oof              | #434 | processing fold 1 of 5...\n"
     ]
    },
    {
     "name": "stdout",
     "output_type": "stream",
     "text": [
      "No evaluation set, thus not possible to use early stopping. Please train with your best params.\n",
      "[538]\ttraining's auc: 0.829114\n",
      "[1076]\ttraining's auc: 0.864519\n",
      "[1614]\ttraining's auc: 0.887793\n",
      "[2152]\ttraining's auc: 0.904443\n",
      "[2690]\ttraining's auc: 0.917775\n"
     ]
    },
    {
     "name": "stderr",
     "output_type": "stream",
     "text": [
      "2018-07-14 12:42:15 | INFO    | automl_libs.base_layer_utils.get_oof              | #448 | metric of fold 1: 0.7988268154772751\n",
      "2018-07-14 12:42:18 | INFO    | automl_libs.base_layer_utils.get_oof              | #434 | processing fold 2 of 5...\n"
     ]
    },
    {
     "name": "stdout",
     "output_type": "stream",
     "text": [
      "No evaluation set, thus not possible to use early stopping. Please train with your best params.\n",
      "[538]\ttraining's auc: 0.82974\n",
      "[1076]\ttraining's auc: 0.865371\n",
      "[1614]\ttraining's auc: 0.888748\n",
      "[2152]\ttraining's auc: 0.904836\n",
      "[2690]\ttraining's auc: 0.917992\n"
     ]
    },
    {
     "name": "stderr",
     "output_type": "stream",
     "text": [
      "2018-07-14 13:12:25 | INFO    | automl_libs.base_layer_utils.get_oof              | #448 | metric of fold 2: 0.7934387057813702\n",
      "2018-07-14 13:12:28 | INFO    | automl_libs.base_layer_utils.get_oof              | #434 | processing fold 3 of 5...\n"
     ]
    },
    {
     "name": "stdout",
     "output_type": "stream",
     "text": [
      "No evaluation set, thus not possible to use early stopping. Please train with your best params.\n",
      "[538]\ttraining's auc: 0.829356\n",
      "[1076]\ttraining's auc: 0.864891\n",
      "[1614]\ttraining's auc: 0.888547\n",
      "[2152]\ttraining's auc: 0.905927\n",
      "[2690]\ttraining's auc: 0.919433\n"
     ]
    },
    {
     "name": "stderr",
     "output_type": "stream",
     "text": [
      "2018-07-14 13:42:34 | INFO    | automl_libs.base_layer_utils.get_oof              | #448 | metric of fold 3: 0.7954920091631035\n",
      "2018-07-14 13:42:38 | INFO    | automl_libs.base_layer_utils.get_oof              | #434 | processing fold 4 of 5...\n"
     ]
    },
    {
     "name": "stdout",
     "output_type": "stream",
     "text": [
      "No evaluation set, thus not possible to use early stopping. Please train with your best params.\n",
      "[538]\ttraining's auc: 0.827616\n",
      "[1076]\ttraining's auc: 0.863713\n",
      "[1614]\ttraining's auc: 0.887717\n",
      "[2152]\ttraining's auc: 0.904639\n",
      "[2690]\ttraining's auc: 0.91833\n"
     ]
    },
    {
     "name": "stderr",
     "output_type": "stream",
     "text": [
      "2018-07-14 14:12:58 | INFO    | automl_libs.base_layer_utils.get_oof              | #448 | metric of fold 4: 0.8036277716055475\n",
      "2018-07-14 14:13:02 | INFO    | automl_libs.base_layer_utils.get_oof              | #434 | processing fold 5 of 5...\n"
     ]
    },
    {
     "name": "stdout",
     "output_type": "stream",
     "text": [
      "No evaluation set, thus not possible to use early stopping. Please train with your best params.\n",
      "[538]\ttraining's auc: 0.829806\n",
      "[1076]\ttraining's auc: 0.864691\n",
      "[1614]\ttraining's auc: 0.887627\n",
      "[2152]\ttraining's auc: 0.904126\n",
      "[2690]\ttraining's auc: 0.917392\n"
     ]
    },
    {
     "name": "stderr",
     "output_type": "stream",
     "text": [
      "2018-07-14 14:43:08 | INFO    | automl_libs.base_layer_utils.get_oof              | #448 | metric of fold 5: 0.7939011465742268\n"
     ]
    },
    {
     "name": "stdout",
     "output_type": "stream",
     "text": [
      "No evaluation set, thus not possible to use early stopping. Please train with your best params.\n",
      "[538]\ttraining's auc: 0.821759\n",
      "[1076]\ttraining's auc: 0.854042\n",
      "[1614]\ttraining's auc: 0.875306\n",
      "[2152]\ttraining's auc: 0.89109\n",
      "[2690]\ttraining's auc: 0.904418\n"
     ]
    },
    {
     "name": "stderr",
     "output_type": "stream",
     "text": [
      "2018-07-14 15:19:05 | INFO    | automl_libs.base_layer_utils.BaseLayerResultsRepo.update_report        | #280 | StackNet report updated: 1CKg__LGB_flight_data_ordinal_layer1: oof_cv_score => 0.7970572897203047\n",
      "2018-07-14 15:19:05 | INFO    | automl_libs.base_layer_utils.BaseLayerResultsRepo.add_score            | #299 | 1CKg__LGB_flight_data_ordinal_layer1 found in repo. Update score from 0 to 0.79722\n",
      "2018-07-14 15:19:05 | INFO    | automl_libs.base_layer_utils.BaseLayerResultsRepo.update_report        | #280 | StackNet report updated: 1CKg__LGB_flight_data_ordinal_layer1: gs_val_auc => 0.7972168545179615\n",
      "2018-07-14 15:19:05 | INFO    | automl_libs.base_layer_utils.BaseLayerResultsRepo.save                 | #392 | StackNet data saved for: ['pC2i__LGB_flight_data_ordinal_layer1', 'qHLQ__LGB_flight_data_ordinal_layer1', 'dQTL__LGB_flight_data_ordinal_layer1', '3VXI__LGB_flight_data_ordinal_layer1', '1CKg__LGB_flight_data_ordinal_layer1']\n",
      "2018-07-14 15:19:05 | INFO    | automl_libs.base_layer_utils.BaseLayerResultsRepo.save                 | #396 | StackNet report saved at ./output/oof/stacknet_report.csv\n",
      "2018-07-14 15:19:05 | INFO    | automl_libs.stacknet.layer1               | #69  | using lgb params: 9QmW to do oof\n",
      "2018-07-14 15:19:05 | DEBUG   | automl_libs.stacknet.layer1               | #70  | {'bagging_fraction': 0.8874137064889152, 'min_split_gain': 0.0053176139635094394, 'lambda_l1': 0.0665816621477332, 'metric': 'auc', 'lambda_l2': 0.1838516434085593, 'num_threads': 15, 'objective': 'binary', 'num_leaves': 43, 'bagging_seed': 1992, 'boosting': 'gbdt', 'best_round': 3602, 'val_auc': 0.7970255969108454, 'min_child_weight': 49.84763493295826, 'scale_pos_weight': 1.083214238354936, 'feature_fraction_seed': 1992, 'max_depth': 8, 'feature_fraction': 0.102292390485664, 'learning_rate': 0.01}\n",
      "2018-07-14 15:19:06 | INFO    | automl_libs.base_layer_utils.compute_layer1_oof   | #498 | StackNet layer1: label: TARGET   model_data_id: 9QmW__LGB_flight_data_ordinal_layer1\n",
      "2018-07-14 15:19:09 | INFO    | automl_libs.base_layer_utils.get_oof              | #434 | processing fold 1 of 5...\n"
     ]
    },
    {
     "name": "stdout",
     "output_type": "stream",
     "text": [
      "No evaluation set, thus not possible to use early stopping. Please train with your best params.\n",
      "[720]\ttraining's auc: 0.824384\n",
      "[1440]\ttraining's auc: 0.857776\n",
      "[2160]\ttraining's auc: 0.878852\n",
      "[2880]\ttraining's auc: 0.895539\n",
      "[3600]\ttraining's auc: 0.909339\n"
     ]
    },
    {
     "name": "stderr",
     "output_type": "stream",
     "text": [
      "2018-07-14 15:54:29 | INFO    | automl_libs.base_layer_utils.get_oof              | #448 | metric of fold 1: 0.7988896879308365\n",
      "2018-07-14 15:54:33 | INFO    | automl_libs.base_layer_utils.get_oof              | #434 | processing fold 2 of 5...\n"
     ]
    },
    {
     "name": "stdout",
     "output_type": "stream",
     "text": [
      "No evaluation set, thus not possible to use early stopping. Please train with your best params.\n",
      "[720]\ttraining's auc: 0.824872\n",
      "[1440]\ttraining's auc: 0.858858\n",
      "[2160]\ttraining's auc: 0.879933\n",
      "[2880]\ttraining's auc: 0.896558\n",
      "[3600]\ttraining's auc: 0.910176\n"
     ]
    },
    {
     "name": "stderr",
     "output_type": "stream",
     "text": [
      "2018-07-14 16:29:35 | INFO    | automl_libs.base_layer_utils.get_oof              | #448 | metric of fold 2: 0.793738453341279\n",
      "2018-07-14 16:29:39 | INFO    | automl_libs.base_layer_utils.get_oof              | #434 | processing fold 3 of 5...\n"
     ]
    },
    {
     "name": "stdout",
     "output_type": "stream",
     "text": [
      "No evaluation set, thus not possible to use early stopping. Please train with your best params.\n",
      "[720]\ttraining's auc: 0.824817\n",
      "[1440]\ttraining's auc: 0.858307\n",
      "[2160]\ttraining's auc: 0.880501\n",
      "[2880]\ttraining's auc: 0.897406\n",
      "[3600]\ttraining's auc: 0.911073\n"
     ]
    },
    {
     "name": "stderr",
     "output_type": "stream",
     "text": [
      "2018-07-14 17:04:38 | INFO    | automl_libs.base_layer_utils.get_oof              | #448 | metric of fold 3: 0.7950466716615686\n",
      "2018-07-14 17:04:41 | INFO    | automl_libs.base_layer_utils.get_oof              | #434 | processing fold 4 of 5...\n"
     ]
    },
    {
     "name": "stdout",
     "output_type": "stream",
     "text": [
      "No evaluation set, thus not possible to use early stopping. Please train with your best params.\n",
      "[720]\ttraining's auc: 0.822629\n",
      "[1440]\ttraining's auc: 0.8568\n",
      "[2160]\ttraining's auc: 0.879278\n",
      "[2880]\ttraining's auc: 0.896306\n",
      "[3600]\ttraining's auc: 0.910132\n"
     ]
    },
    {
     "name": "stderr",
     "output_type": "stream",
     "text": [
      "2018-07-14 17:38:25 | INFO    | automl_libs.base_layer_utils.get_oof              | #448 | metric of fold 4: 0.8027408585428314\n",
      "2018-07-14 17:38:29 | INFO    | automl_libs.base_layer_utils.get_oof              | #434 | processing fold 5 of 5...\n"
     ]
    },
    {
     "name": "stdout",
     "output_type": "stream",
     "text": [
      "No evaluation set, thus not possible to use early stopping. Please train with your best params.\n",
      "[720]\ttraining's auc: 0.824252\n",
      "[1440]\ttraining's auc: 0.858365\n",
      "[2160]\ttraining's auc: 0.880252\n",
      "[2880]\ttraining's auc: 0.89609\n",
      "[3600]\ttraining's auc: 0.910006\n"
     ]
    },
    {
     "name": "stderr",
     "output_type": "stream",
     "text": [
      "2018-07-14 18:13:40 | INFO    | automl_libs.base_layer_utils.get_oof              | #448 | metric of fold 5: 0.7936985183494608\n"
     ]
    },
    {
     "name": "stdout",
     "output_type": "stream",
     "text": [
      "No evaluation set, thus not possible to use early stopping. Please train with your best params.\n",
      "[720]\ttraining's auc: 0.818126\n",
      "[1440]\ttraining's auc: 0.848496\n",
      "[2160]\ttraining's auc: 0.86861\n",
      "[2880]\ttraining's auc: 0.884311\n",
      "[3600]\ttraining's auc: 0.897668\n"
     ]
    },
    {
     "name": "stderr",
     "output_type": "stream",
     "text": [
      "2018-07-14 18:56:06 | INFO    | automl_libs.base_layer_utils.BaseLayerResultsRepo.update_report        | #280 | StackNet report updated: 9QmW__LGB_flight_data_ordinal_layer1: oof_cv_score => 0.7968228379651953\n",
      "2018-07-14 18:56:06 | INFO    | automl_libs.base_layer_utils.BaseLayerResultsRepo.add_score            | #299 | 9QmW__LGB_flight_data_ordinal_layer1 found in repo. Update score from 0 to 0.79703\n",
      "2018-07-14 18:56:06 | INFO    | automl_libs.base_layer_utils.BaseLayerResultsRepo.update_report        | #280 | StackNet report updated: 9QmW__LGB_flight_data_ordinal_layer1: gs_val_auc => 0.7970255969108454\n",
      "2018-07-14 18:56:06 | INFO    | automl_libs.base_layer_utils.BaseLayerResultsRepo.save                 | #392 | StackNet data saved for: ['pC2i__LGB_flight_data_ordinal_layer1', 'qHLQ__LGB_flight_data_ordinal_layer1', 'dQTL__LGB_flight_data_ordinal_layer1', '3VXI__LGB_flight_data_ordinal_layer1', '1CKg__LGB_flight_data_ordinal_layer1', '9QmW__LGB_flight_data_ordinal_layer1']\n",
      "2018-07-14 18:56:06 | INFO    | automl_libs.base_layer_utils.BaseLayerResultsRepo.save                 | #396 | StackNet report saved at ./output/oof/stacknet_report.csv\n",
      "2018-07-14 18:56:06 | INFO    | automl_libs.stacknet.layer1               | #69  | using lgb params: ksIj to do oof\n",
      "2018-07-14 18:56:06 | DEBUG   | automl_libs.stacknet.layer1               | #70  | {'bagging_fraction': 0.8098120257845228, 'min_split_gain': 0.04113161996769744, 'lambda_l1': 0.29985101802655834, 'metric': 'auc', 'lambda_l2': 0.27379623416600885, 'num_threads': 15, 'objective': 'binary', 'num_leaves': 39, 'bagging_seed': 1992, 'boosting': 'gbdt', 'best_round': 3148, 'val_auc': 0.7972740177867653, 'min_child_weight': 49.2974289893069, 'scale_pos_weight': 1.567662872322812, 'feature_fraction_seed': 1992, 'max_depth': 10, 'feature_fraction': 0.10634751592976227, 'learning_rate': 0.01}\n",
      "2018-07-14 18:56:06 | INFO    | automl_libs.base_layer_utils.compute_layer1_oof   | #498 | StackNet layer1: label: TARGET   model_data_id: ksIj__LGB_flight_data_ordinal_layer1\n",
      "2018-07-14 18:56:09 | INFO    | automl_libs.base_layer_utils.get_oof              | #434 | processing fold 1 of 5...\n"
     ]
    },
    {
     "name": "stdout",
     "output_type": "stream",
     "text": [
      "No evaluation set, thus not possible to use early stopping. Please train with your best params.\n",
      "[629]\ttraining's auc: 0.818333\n",
      "[1258]\ttraining's auc: 0.850541\n",
      "[1887]\ttraining's auc: 0.87387\n",
      "[2516]\ttraining's auc: 0.892261\n",
      "[3145]\ttraining's auc: 0.907878\n"
     ]
    },
    {
     "name": "stderr",
     "output_type": "stream",
     "text": [
      "2018-07-14 19:27:40 | INFO    | automl_libs.base_layer_utils.get_oof              | #448 | metric of fold 1: 0.798671303318639\n",
      "2018-07-14 19:27:43 | INFO    | automl_libs.base_layer_utils.get_oof              | #434 | processing fold 2 of 5...\n"
     ]
    },
    {
     "name": "stdout",
     "output_type": "stream",
     "text": [
      "No evaluation set, thus not possible to use early stopping. Please train with your best params.\n",
      "[629]\ttraining's auc: 0.818953\n",
      "[1258]\ttraining's auc: 0.851612\n",
      "[1887]\ttraining's auc: 0.874669\n",
      "[2516]\ttraining's auc: 0.89297\n",
      "[3145]\ttraining's auc: 0.908574\n"
     ]
    },
    {
     "name": "stderr",
     "output_type": "stream",
     "text": [
      "2018-07-14 19:58:50 | INFO    | automl_libs.base_layer_utils.get_oof              | #448 | metric of fold 2: 0.7941503644353\n",
      "2018-07-14 19:58:53 | INFO    | automl_libs.base_layer_utils.get_oof              | #434 | processing fold 3 of 5...\n"
     ]
    },
    {
     "name": "stdout",
     "output_type": "stream",
     "text": [
      "No evaluation set, thus not possible to use early stopping. Please train with your best params.\n",
      "[629]\ttraining's auc: 0.818801\n",
      "[1258]\ttraining's auc: 0.85114\n",
      "[1887]\ttraining's auc: 0.87486\n",
      "[2516]\ttraining's auc: 0.893631\n",
      "[3145]\ttraining's auc: 0.909127\n"
     ]
    },
    {
     "name": "stderr",
     "output_type": "stream",
     "text": [
      "2018-07-14 20:30:19 | INFO    | automl_libs.base_layer_utils.get_oof              | #448 | metric of fold 3: 0.795392649050989\n",
      "2018-07-14 20:30:23 | INFO    | automl_libs.base_layer_utils.get_oof              | #434 | processing fold 4 of 5...\n"
     ]
    },
    {
     "name": "stdout",
     "output_type": "stream",
     "text": [
      "No evaluation set, thus not possible to use early stopping. Please train with your best params.\n",
      "[629]\ttraining's auc: 0.816763\n",
      "[1258]\ttraining's auc: 0.849793\n",
      "[1887]\ttraining's auc: 0.8737\n",
      "[2516]\ttraining's auc: 0.892398\n",
      "[3145]\ttraining's auc: 0.907752\n"
     ]
    },
    {
     "name": "stderr",
     "output_type": "stream",
     "text": [
      "2018-07-14 21:02:11 | INFO    | automl_libs.base_layer_utils.get_oof              | #448 | metric of fold 4: 0.8033144297611803\n",
      "2018-07-14 21:02:15 | INFO    | automl_libs.base_layer_utils.get_oof              | #434 | processing fold 5 of 5...\n"
     ]
    },
    {
     "name": "stdout",
     "output_type": "stream",
     "text": [
      "No evaluation set, thus not possible to use early stopping. Please train with your best params.\n",
      "[629]\ttraining's auc: 0.818184\n",
      "[1258]\ttraining's auc: 0.851503\n",
      "[1887]\ttraining's auc: 0.874651\n",
      "[2516]\ttraining's auc: 0.892694\n",
      "[3145]\ttraining's auc: 0.908161\n"
     ]
    },
    {
     "name": "stderr",
     "output_type": "stream",
     "text": [
      "2018-07-14 21:34:02 | INFO    | automl_libs.base_layer_utils.get_oof              | #448 | metric of fold 5: 0.7937808820435588\n"
     ]
    },
    {
     "name": "stdout",
     "output_type": "stream",
     "text": [
      "No evaluation set, thus not possible to use early stopping. Please train with your best params.\n",
      "[629]\ttraining's auc: 0.812727\n",
      "[1258]\ttraining's auc: 0.841563\n",
      "[1887]\ttraining's auc: 0.86248\n",
      "[2516]\ttraining's auc: 0.8792\n",
      "[3145]\ttraining's auc: 0.89355\n"
     ]
    },
    {
     "name": "stderr",
     "output_type": "stream",
     "text": [
      "2018-07-14 22:11:45 | INFO    | automl_libs.base_layer_utils.BaseLayerResultsRepo.update_report        | #280 | StackNet report updated: ksIj__LGB_flight_data_ordinal_layer1: oof_cv_score => 0.7970619257219335\n",
      "2018-07-14 22:11:45 | INFO    | automl_libs.base_layer_utils.BaseLayerResultsRepo.add_score            | #299 | ksIj__LGB_flight_data_ordinal_layer1 found in repo. Update score from 0 to 0.79727\n",
      "2018-07-14 22:11:45 | INFO    | automl_libs.base_layer_utils.BaseLayerResultsRepo.update_report        | #280 | StackNet report updated: ksIj__LGB_flight_data_ordinal_layer1: gs_val_auc => 0.7972740177867653\n",
      "2018-07-14 22:11:45 | INFO    | automl_libs.base_layer_utils.BaseLayerResultsRepo.save                 | #392 | StackNet data saved for: ['pC2i__LGB_flight_data_ordinal_layer1', 'qHLQ__LGB_flight_data_ordinal_layer1', 'dQTL__LGB_flight_data_ordinal_layer1', '3VXI__LGB_flight_data_ordinal_layer1', '1CKg__LGB_flight_data_ordinal_layer1', '9QmW__LGB_flight_data_ordinal_layer1', 'ksIj__LGB_flight_data_ordinal_layer1']\n",
      "2018-07-14 22:11:45 | INFO    | automl_libs.base_layer_utils.BaseLayerResultsRepo.save                 | #396 | StackNet report saved at ./output/oof/stacknet_report.csv\n",
      "2018-07-14 22:11:45 | INFO    | automl_libs.stacknet.layer1               | #69  | using lgb params: fvQF to do oof\n",
      "2018-07-14 22:11:45 | DEBUG   | automl_libs.stacknet.layer1               | #70  | {'bagging_fraction': 0.9676101437805482, 'min_split_gain': 0.059939649669655364, 'lambda_l1': 0.4468573070578787, 'metric': 'auc', 'lambda_l2': 0.9229753838611708, 'num_threads': 15, 'objective': 'binary', 'num_leaves': 59, 'bagging_seed': 1992, 'boosting': 'gbdt', 'best_round': 2607, 'val_auc': 0.7970589480679557, 'min_child_weight': 5.364207412699337, 'scale_pos_weight': 1.6816558437685185, 'feature_fraction_seed': 1992, 'max_depth': 10, 'feature_fraction': 0.10197534134955022, 'learning_rate': 0.01}\n",
      "2018-07-14 22:11:45 | INFO    | automl_libs.base_layer_utils.compute_layer1_oof   | #498 | StackNet layer1: label: TARGET   model_data_id: fvQF__LGB_flight_data_ordinal_layer1\n",
      "2018-07-14 22:11:48 | INFO    | automl_libs.base_layer_utils.get_oof              | #434 | processing fold 1 of 5...\n"
     ]
    },
    {
     "name": "stdout",
     "output_type": "stream",
     "text": [
      "No evaluation set, thus not possible to use early stopping. Please train with your best params.\n",
      "[521]\ttraining's auc: 0.827614\n",
      "[1042]\ttraining's auc: 0.868822\n",
      "[1563]\ttraining's auc: 0.898641\n",
      "[2084]\ttraining's auc: 0.921036\n",
      "[2605]\ttraining's auc: 0.937345\n"
     ]
    },
    {
     "name": "stderr",
     "output_type": "stream",
     "text": [
      "2018-07-14 22:38:56 | INFO    | automl_libs.base_layer_utils.get_oof              | #448 | metric of fold 1: 0.7977336954564367\n",
      "2018-07-14 22:39:00 | INFO    | automl_libs.base_layer_utils.get_oof              | #434 | processing fold 2 of 5...\n"
     ]
    },
    {
     "name": "stdout",
     "output_type": "stream",
     "text": [
      "No evaluation set, thus not possible to use early stopping. Please train with your best params.\n",
      "[521]\ttraining's auc: 0.827654\n",
      "[1042]\ttraining's auc: 0.869939\n",
      "[1563]\ttraining's auc: 0.899536\n",
      "[2084]\ttraining's auc: 0.921804\n",
      "[2605]\ttraining's auc: 0.938591\n"
     ]
    },
    {
     "name": "stderr",
     "output_type": "stream",
     "text": [
      "2018-07-14 23:06:16 | INFO    | automl_libs.base_layer_utils.get_oof              | #448 | metric of fold 2: 0.79360746941807\n",
      "2018-07-14 23:06:19 | INFO    | automl_libs.base_layer_utils.get_oof              | #434 | processing fold 3 of 5...\n"
     ]
    },
    {
     "name": "stdout",
     "output_type": "stream",
     "text": [
      "No evaluation set, thus not possible to use early stopping. Please train with your best params.\n",
      "[521]\ttraining's auc: 0.827707\n",
      "[1042]\ttraining's auc: 0.869477\n",
      "[1563]\ttraining's auc: 0.89919\n",
      "[2084]\ttraining's auc: 0.921702\n",
      "[2605]\ttraining's auc: 0.938585\n"
     ]
    },
    {
     "name": "stderr",
     "output_type": "stream",
     "text": [
      "2018-07-14 23:33:28 | INFO    | automl_libs.base_layer_utils.get_oof              | #448 | metric of fold 3: 0.7947441738952654\n",
      "2018-07-14 23:33:31 | INFO    | automl_libs.base_layer_utils.get_oof              | #434 | processing fold 4 of 5...\n"
     ]
    },
    {
     "name": "stdout",
     "output_type": "stream",
     "text": [
      "No evaluation set, thus not possible to use early stopping. Please train with your best params.\n",
      "[521]\ttraining's auc: 0.825805\n",
      "[1042]\ttraining's auc: 0.868219\n",
      "[1563]\ttraining's auc: 0.898778\n",
      "[2084]\ttraining's auc: 0.921256\n",
      "[2605]\ttraining's auc: 0.938095\n"
     ]
    },
    {
     "name": "stderr",
     "output_type": "stream",
     "text": [
      "2018-07-15 00:00:40 | INFO    | automl_libs.base_layer_utils.get_oof              | #448 | metric of fold 4: 0.802971480448749\n",
      "2018-07-15 00:00:43 | INFO    | automl_libs.base_layer_utils.get_oof              | #434 | processing fold 5 of 5...\n"
     ]
    },
    {
     "name": "stdout",
     "output_type": "stream",
     "text": [
      "No evaluation set, thus not possible to use early stopping. Please train with your best params.\n",
      "[521]\ttraining's auc: 0.826502\n",
      "[1042]\ttraining's auc: 0.869337\n",
      "[1563]\ttraining's auc: 0.89915\n",
      "[2084]\ttraining's auc: 0.920925\n",
      "[2605]\ttraining's auc: 0.937144\n"
     ]
    },
    {
     "name": "stderr",
     "output_type": "stream",
     "text": [
      "2018-07-15 00:28:06 | INFO    | automl_libs.base_layer_utils.get_oof              | #448 | metric of fold 5: 0.7933603676484458\n"
     ]
    },
    {
     "name": "stdout",
     "output_type": "stream",
     "text": [
      "No evaluation set, thus not possible to use early stopping. Please train with your best params.\n",
      "[521]\ttraining's auc: 0.819247\n",
      "[1042]\ttraining's auc: 0.856606\n",
      "[1563]\ttraining's auc: 0.883799\n",
      "[2084]\ttraining's auc: 0.904954\n",
      "[2605]\ttraining's auc: 0.921237\n"
     ]
    },
    {
     "name": "stderr",
     "output_type": "stream",
     "text": [
      "2018-07-15 01:01:43 | INFO    | automl_libs.base_layer_utils.BaseLayerResultsRepo.update_report        | #280 | StackNet report updated: fvQF__LGB_flight_data_ordinal_layer1: oof_cv_score => 0.7964834373733934\n",
      "2018-07-15 01:01:43 | INFO    | automl_libs.base_layer_utils.BaseLayerResultsRepo.add_score            | #299 | fvQF__LGB_flight_data_ordinal_layer1 found in repo. Update score from 0 to 0.79706\n",
      "2018-07-15 01:01:43 | INFO    | automl_libs.base_layer_utils.BaseLayerResultsRepo.update_report        | #280 | StackNet report updated: fvQF__LGB_flight_data_ordinal_layer1: gs_val_auc => 0.7970589480679557\n",
      "2018-07-15 01:01:43 | INFO    | automl_libs.base_layer_utils.BaseLayerResultsRepo.save                 | #392 | StackNet data saved for: ['pC2i__LGB_flight_data_ordinal_layer1', 'qHLQ__LGB_flight_data_ordinal_layer1', 'dQTL__LGB_flight_data_ordinal_layer1', '3VXI__LGB_flight_data_ordinal_layer1', '1CKg__LGB_flight_data_ordinal_layer1', '9QmW__LGB_flight_data_ordinal_layer1', 'ksIj__LGB_flight_data_ordinal_layer1', 'fvQF__LGB_flight_data_ordinal_layer1']\n",
      "2018-07-15 01:01:43 | INFO    | automl_libs.base_layer_utils.BaseLayerResultsRepo.save                 | #396 | StackNet report saved at ./output/oof/stacknet_report.csv\n",
      "2018-07-15 01:01:43 | DEBUG   | automl_libs.base_layer_utils.BaseLayerResultsRepo.__init__             | #235 | load StackNet saves from file\n",
      "2018-07-15 01:01:43 | INFO    | automl_libs.stacknet.layer2               | #125 | All available layer1 model_data:\n",
      "2018-07-15 01:01:43 | INFO    | automl_libs.stacknet.layer2               | #126 | [('3VXI__LGB_flight_data_ordinal_layer1', 0.7974273799021107), ('pC2i__LGB_flight_data_ordinal_layer1', 0.7973165103016722), ('dQTL__LGB_flight_data_ordinal_layer1', 0.7973143181135111), ('ksIj__LGB_flight_data_ordinal_layer1', 0.7972740177867653), ('1CKg__LGB_flight_data_ordinal_layer1', 0.7972168545179615), ('qHLQ__LGB_flight_data_ordinal_layer1', 0.7971714520828874), ('fvQF__LGB_flight_data_ordinal_layer1', 0.7970589480679557), ('9QmW__LGB_flight_data_ordinal_layer1', 0.7970255969108454)]\n",
      "2018-07-15 01:01:43 | INFO    | automl_libs.base_layer_utils.compute_layer2_oof   | #597 | Generating Layer2 model Lt2A__LOGREG OOF\n",
      "2018-07-15 01:01:43 | WARNING | automl_libs.base_layer_utils.get_oof              | #429 | warning: x_train is not dataframe, you should NOT use models like LGB and NN where categorical_feature is needed (you are using LogisticRegression)\n",
      "2018-07-15 01:01:43 | INFO    | automl_libs.base_layer_utils.get_oof              | #434 | processing fold 1 of 5...\n",
      "2018-07-15 01:01:43 | INFO    | automl_libs.base_layer_utils.get_oof              | #448 | metric of fold 1: 0.794650277008927\n",
      "2018-07-15 01:01:43 | WARNING | automl_libs.base_layer_utils.get_oof              | #429 | warning: x_train is not dataframe, you should NOT use models like LGB and NN where categorical_feature is needed (you are using LogisticRegression)\n",
      "2018-07-15 01:01:43 | INFO    | automl_libs.base_layer_utils.get_oof              | #434 | processing fold 2 of 5...\n",
      "2018-07-15 01:01:44 | INFO    | automl_libs.base_layer_utils.get_oof              | #448 | metric of fold 2: 0.7931627553441507\n",
      "2018-07-15 01:01:44 | WARNING | automl_libs.base_layer_utils.get_oof              | #429 | warning: x_train is not dataframe, you should NOT use models like LGB and NN where categorical_feature is needed (you are using LogisticRegression)\n",
      "2018-07-15 01:01:44 | INFO    | automl_libs.base_layer_utils.get_oof              | #434 | processing fold 3 of 5...\n",
      "2018-07-15 01:01:44 | INFO    | automl_libs.base_layer_utils.get_oof              | #448 | metric of fold 3: 0.7993531457560761\n",
      "2018-07-15 01:01:44 | WARNING | automl_libs.base_layer_utils.get_oof              | #429 | warning: x_train is not dataframe, you should NOT use models like LGB and NN where categorical_feature is needed (you are using LogisticRegression)\n",
      "2018-07-15 01:01:44 | INFO    | automl_libs.base_layer_utils.get_oof              | #434 | processing fold 4 of 5...\n",
      "2018-07-15 01:01:45 | INFO    | automl_libs.base_layer_utils.get_oof              | #448 | metric of fold 4: 0.7941790848549287\n",
      "2018-07-15 01:01:45 | WARNING | automl_libs.base_layer_utils.get_oof              | #429 | warning: x_train is not dataframe, you should NOT use models like LGB and NN where categorical_feature is needed (you are using LogisticRegression)\n",
      "2018-07-15 01:01:45 | INFO    | automl_libs.base_layer_utils.get_oof              | #434 | processing fold 5 of 5...\n",
      "2018-07-15 01:01:45 | INFO    | automl_libs.base_layer_utils.get_oof              | #448 | metric of fold 5: 0.7999206251960123\n",
      "2018-07-15 01:01:46 | INFO    | automl_libs.base_layer_utils.compute_layer2_oof   | #597 | Generating Layer2 model Qeq2__NN OOF\n",
      "2018-07-15 01:01:46 | WARNING | automl_libs.base_layer_utils.get_oof              | #429 | warning: x_train is not dataframe, you should NOT use models like LGB and NN where categorical_feature is needed (you are using NNBLE)\n",
      "2018-07-15 01:01:46 | INFO    | automl_libs.base_layer_utils.get_oof              | #434 | processing fold 1 of 5...\n"
     ]
    },
    {
     "name": "stdout",
     "output_type": "stream",
     "text": [
      "Train on 246008 samples, validate on 61503 samples\n",
      "Epoch 1/1\n",
      "246008/246008 [==============================] - 13s 51us/step - loss: 0.2440 - acc: 0.9196 - val_loss: 0.2349 - val_acc: 0.9206\n",
      "61503/61503 [==============================] - 0s 0us/step\n",
      "48744/48744 [==============================] - 0s 0us/step\n"
     ]
    },
    {
     "name": "stderr",
     "output_type": "stream",
     "text": [
      "2018-07-15 01:01:59 | INFO    | automl_libs.base_layer_utils.get_oof              | #448 | metric of fold 1: 0.7961287130113134\n",
      "2018-07-15 01:01:59 | WARNING | automl_libs.base_layer_utils.get_oof              | #429 | warning: x_train is not dataframe, you should NOT use models like LGB and NN where categorical_feature is needed (you are using NNBLE)\n",
      "2018-07-15 01:01:59 | INFO    | automl_libs.base_layer_utils.get_oof              | #434 | processing fold 2 of 5...\n"
     ]
    },
    {
     "name": "stdout",
     "output_type": "stream",
     "text": [
      "Train on 246009 samples, validate on 61502 samples\n",
      "Epoch 1/1\n",
      "246009/246009 [==============================] - 11s 45us/step - loss: 0.2410 - acc: 0.9195 - val_loss: 0.2344 - val_acc: 0.9206\n",
      "61502/61502 [==============================] - 0s 1us/step\n",
      "48744/48744 [==============================] - 0s 0us/step\n"
     ]
    },
    {
     "name": "stderr",
     "output_type": "stream",
     "text": [
      "2018-07-15 01:02:10 | INFO    | automl_libs.base_layer_utils.get_oof              | #448 | metric of fold 2: 0.7950644304424977\n",
      "2018-07-15 01:02:10 | WARNING | automl_libs.base_layer_utils.get_oof              | #429 | warning: x_train is not dataframe, you should NOT use models like LGB and NN where categorical_feature is needed (you are using NNBLE)\n",
      "2018-07-15 01:02:10 | INFO    | automl_libs.base_layer_utils.get_oof              | #434 | processing fold 3 of 5...\n"
     ]
    },
    {
     "name": "stdout",
     "output_type": "stream",
     "text": [
      "Train on 246009 samples, validate on 61502 samples\n",
      "Epoch 1/1\n",
      "246009/246009 [==============================] - 11s 46us/step - loss: 0.2416 - acc: 0.9193 - val_loss: 0.2328 - val_acc: 0.9193\n",
      "61502/61502 [==============================] - 0s 1us/step\n",
      "48744/48744 [==============================] - 0s 0us/step\n"
     ]
    },
    {
     "name": "stderr",
     "output_type": "stream",
     "text": [
      "2018-07-15 01:02:22 | INFO    | automl_libs.base_layer_utils.get_oof              | #448 | metric of fold 3: 0.8007547125650464\n",
      "2018-07-15 01:02:22 | WARNING | automl_libs.base_layer_utils.get_oof              | #429 | warning: x_train is not dataframe, you should NOT use models like LGB and NN where categorical_feature is needed (you are using NNBLE)\n",
      "2018-07-15 01:02:22 | INFO    | automl_libs.base_layer_utils.get_oof              | #434 | processing fold 4 of 5...\n"
     ]
    },
    {
     "name": "stdout",
     "output_type": "stream",
     "text": [
      "Train on 246009 samples, validate on 61502 samples\n",
      "Epoch 1/1\n",
      "246009/246009 [==============================] - 11s 46us/step - loss: 0.2446 - acc: 0.9188 - val_loss: 0.2354 - val_acc: 0.9193\n",
      "61502/61502 [==============================] - 0s 1us/step\n",
      "48744/48744 [==============================] - 0s 0us/step\n"
     ]
    },
    {
     "name": "stderr",
     "output_type": "stream",
     "text": [
      "2018-07-15 01:02:34 | INFO    | automl_libs.base_layer_utils.get_oof              | #448 | metric of fold 4: 0.7948831608478338\n",
      "2018-07-15 01:02:34 | WARNING | automl_libs.base_layer_utils.get_oof              | #429 | warning: x_train is not dataframe, you should NOT use models like LGB and NN where categorical_feature is needed (you are using NNBLE)\n",
      "2018-07-15 01:02:34 | INFO    | automl_libs.base_layer_utils.get_oof              | #434 | processing fold 5 of 5...\n"
     ]
    },
    {
     "name": "stdout",
     "output_type": "stream",
     "text": [
      "Train on 246009 samples, validate on 61502 samples\n",
      "Epoch 1/1\n",
      "246009/246009 [==============================] - 11s 46us/step - loss: 0.2455 - acc: 0.9185 - val_loss: 0.2362 - val_acc: 0.9193\n",
      "61502/61502 [==============================] - 0s 1us/step\n",
      "48744/48744 [==============================] - 0s 0us/step\n"
     ]
    },
    {
     "name": "stderr",
     "output_type": "stream",
     "text": [
      "2018-07-15 01:02:45 | INFO    | automl_libs.base_layer_utils.get_oof              | #448 | metric of fold 5: 0.7994186644360071\n"
     ]
    },
    {
     "name": "stdout",
     "output_type": "stream",
     "text": [
      "Epoch 1/1\n",
      "307511/307511 [==============================] - 13s 43us/step - loss: 0.2417 - acc: 0.9196\n",
      "48744/48744 [==============================] - 0s 1us/step\n"
     ]
    },
    {
     "name": "stderr",
     "output_type": "stream",
     "text": [
      "2018-07-15 01:02:59 | INFO    | automl_libs.base_layer_utils.BaseLayerResultsRepo.update_report        | #280 | StackNet report updated: Lt2A__LOGREG_layer2: oof_cv_score => 0.7962531776320189\n",
      "2018-07-15 01:02:59 | INFO    | automl_libs.base_layer_utils.BaseLayerResultsRepo.update_report        | #280 | StackNet report updated: Qeq2__NN_layer2: oof_cv_score => 0.7972499362605397\n",
      "2018-07-15 01:02:59 | INFO    | automl_libs.base_layer_utils.BaseLayerResultsRepo.add_score            | #299 | Lt2A__LOGREG_layer2 found in repo. Update score from 0 to 0.79625\n",
      "2018-07-15 01:02:59 | INFO    | automl_libs.base_layer_utils.BaseLayerResultsRepo.update_report        | #280 | StackNet report updated: Lt2A__LOGREG_layer2: chosen model_data => pC2i__LGB | qHLQ__LGB | dQTL__LGB | 3VXI__LGB | 1CKg__LGB | 9QmW__LGB | ksIj__LGB | fvQF__LGB\n",
      "2018-07-15 01:02:59 | INFO    | automl_libs.base_layer_utils.BaseLayerResultsRepo.add_score            | #299 | Qeq2__NN_layer2 found in repo. Update score from 0 to 0.79725\n",
      "2018-07-15 01:02:59 | INFO    | automl_libs.base_layer_utils.BaseLayerResultsRepo.update_report        | #280 | StackNet report updated: Qeq2__NN_layer2: chosen model_data => pC2i__LGB | qHLQ__LGB | dQTL__LGB | 3VXI__LGB | 1CKg__LGB | 9QmW__LGB | ksIj__LGB | fvQF__LGB\n",
      "2018-07-15 01:02:59 | INFO    | automl_libs.base_layer_utils.BaseLayerResultsRepo.save                 | #392 | StackNet data saved for: ['pC2i__LGB_flight_data_ordinal_layer1', 'qHLQ__LGB_flight_data_ordinal_layer1', 'dQTL__LGB_flight_data_ordinal_layer1', '3VXI__LGB_flight_data_ordinal_layer1', '1CKg__LGB_flight_data_ordinal_layer1', '9QmW__LGB_flight_data_ordinal_layer1', 'ksIj__LGB_flight_data_ordinal_layer1', 'fvQF__LGB_flight_data_ordinal_layer1', 'Lt2A__LOGREG_layer2', 'Qeq2__NN_layer2']\n",
      "2018-07-15 01:02:59 | INFO    | automl_libs.base_layer_utils.BaseLayerResultsRepo.save                 | #396 | StackNet report saved at ./output/oof/stacknet_report.csv\n",
      "2018-07-15 01:02:59 | INFO    | automl_app.app.AlphaBoosting.__init__             | #132 | save run record\n",
      "2018-07-15 01:02:59 | INFO    | automl_app.app.AlphaBoosting._save_run_record     | #164 | val index is saved at ./temp_data/val_index.pkl\n",
      "2018-07-15 01:02:59 | INFO    | automl_app.app.AlphaBoosting._save_run_record     | #166 | run record is saved at ./output/last_run_record.json\n"
     ]
    },
    {
     "data": {
      "text/plain": [
       "<automl_app.app.AlphaBoosting at 0x7f21e86420b8>"
      ]
     },
     "execution_count": 10,
     "metadata": {},
     "output_type": "execute_result"
    }
   ],
   "source": [
    "from automl_app.app import AlphaBoosting\n",
    "\n",
    "automl_config_file = project_path + 'automl_config.json'\n",
    "run_record_file_name = project_path + 'last_run_record.json' # don't created this file\n",
    "AlphaBoosting(automl_config_file, features_to_gen, params_gen)"
   ]
  },
  {
   "cell_type": "code",
   "execution_count": null,
   "metadata": {},
   "outputs": [],
   "source": []
  },
  {
   "cell_type": "code",
   "execution_count": null,
   "metadata": {},
   "outputs": [],
   "source": []
  }
 ],
 "metadata": {
  "kernelspec": {
   "display_name": "Python 3.5 (tf_gpu)",
   "language": "python",
   "name": "tf_gpu"
  },
  "language_info": {
   "codemirror_mode": {
    "name": "ipython",
    "version": 3
   },
   "file_extension": ".py",
   "mimetype": "text/x-python",
   "name": "python",
   "nbconvert_exporter": "python",
   "pygments_lexer": "ipython3",
   "version": "3.5.5"
  },
  "varInspector": {
   "cols": {
    "lenName": 16,
    "lenType": 16,
    "lenVar": 40
   },
   "kernels_config": {
    "python": {
     "delete_cmd_postfix": "",
     "delete_cmd_prefix": "del ",
     "library": "var_list.py",
     "varRefreshCmd": "print(var_dic_list())"
    },
    "r": {
     "delete_cmd_postfix": ") ",
     "delete_cmd_prefix": "rm(",
     "library": "var_list.r",
     "varRefreshCmd": "cat(var_dic_list()) "
    }
   },
   "types_to_exclude": [
    "module",
    "function",
    "builtin_function_or_method",
    "instance",
    "_Feature"
   ],
   "window_display": false
  }
 },
 "nbformat": 4,
 "nbformat_minor": 2
}
