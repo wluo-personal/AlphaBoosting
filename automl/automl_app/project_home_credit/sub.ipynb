{
 "cells": [
  {
   "cell_type": "code",
   "execution_count": 8,
   "metadata": {
    "ExecuteTime": {
     "end_time": "2018-07-15T05:08:57.247335Z",
     "start_time": "2018-07-15T05:08:57.216638Z"
    }
   },
   "outputs": [],
   "source": [
    "import pandas as pd\n",
    "import numpy as np"
   ]
  },
  {
   "cell_type": "code",
   "execution_count": 11,
   "metadata": {
    "ExecuteTime": {
     "end_time": "2018-07-15T05:09:59.733026Z",
     "start_time": "2018-07-15T05:09:59.693528Z"
    }
   },
   "outputs": [],
   "source": [
    "sub = pd.read_csv('data/sample_submission.csv')"
   ]
  },
  {
   "cell_type": "code",
   "execution_count": 51,
   "metadata": {
    "ExecuteTime": {
     "end_time": "2018-07-17T12:49:28.480894Z",
     "start_time": "2018-07-17T12:49:28.448920Z"
    }
   },
   "outputs": [],
   "source": [
    "pred = np.load('./output/gs_saved_preds/xgb_preds_KnJq.npy') "
   ]
  },
  {
   "cell_type": "code",
   "execution_count": null,
   "metadata": {
    "ExecuteTime": {
     "end_time": "2018-07-13T01:36:30.814563Z",
     "start_time": "2018-07-13T01:36:30.809328Z"
    }
   },
   "outputs": [],
   "source": [
    "pred.shape"
   ]
  },
  {
   "cell_type": "code",
   "execution_count": 52,
   "metadata": {
    "ExecuteTime": {
     "end_time": "2018-07-17T12:49:30.397911Z",
     "start_time": "2018-07-17T12:49:30.365465Z"
    }
   },
   "outputs": [],
   "source": [
    "sub['TARGET'] = pred"
   ]
  },
  {
   "cell_type": "code",
   "execution_count": null,
   "metadata": {
    "ExecuteTime": {
     "end_time": "2018-07-13T01:36:52.496073Z",
     "start_time": "2018-07-13T01:36:52.485478Z"
    }
   },
   "outputs": [],
   "source": [
    "sub.head()"
   ]
  },
  {
   "cell_type": "code",
   "execution_count": 53,
   "metadata": {
    "ExecuteTime": {
     "end_time": "2018-07-17T12:49:49.639029Z",
     "start_time": "2018-07-17T12:49:49.284522Z"
    }
   },
   "outputs": [],
   "source": [
    "sub.to_csv('KnJq_xgb_cv79609.csv.gz', index=False, compression='gzip')"
   ]
  },
  {
   "cell_type": "code",
   "execution_count": null,
   "metadata": {},
   "outputs": [],
   "source": []
  },
  {
   "cell_type": "code",
   "execution_count": null,
   "metadata": {},
   "outputs": [],
   "source": []
  },
  {
   "cell_type": "code",
   "execution_count": 2,
   "metadata": {
    "ExecuteTime": {
     "end_time": "2018-07-15T05:07:43.029088Z",
     "start_time": "2018-07-15T05:07:43.007373Z"
    }
   },
   "outputs": [
    {
     "name": "stdout",
     "output_type": "stream",
     "text": [
      "/home/kai/data/shiyi/AlphaBoosting/automl/automl_app\n",
      "['', '/home/kai/anaconda3/envs/tf_gpu/lib/python35.zip', '/home/kai/anaconda3/envs/tf_gpu/lib/python3.5', '/home/kai/anaconda3/envs/tf_gpu/lib/python3.5/plat-linux', '/home/kai/anaconda3/envs/tf_gpu/lib/python3.5/lib-dynload', '/home/kai/.local/lib/python3.5/site-packages', '/home/kai/anaconda3/envs/tf_gpu/lib/python3.5/site-packages', '/home/kai/anaconda3/envs/tf_gpu/lib/python3.5/site-packages/IPython/extensions', '/home/kai/.ipython', '/home/kai/data/shiyi/AlphaBoosting/automl']\n"
     ]
    }
   ],
   "source": [
    "import os\n",
    "import sys\n",
    "nb_dir = os.path.split(os.getcwd())[0]\n",
    "print(nb_dir)\n",
    "#if nb_dir not in sys.path:\n",
    "#    sys.path.append(nb_dir)\n",
    "    \n",
    "# autolib_dir = '/home/kai/data/shiyi/AlphaBoosting/automl'\n",
    "autolib_dir = '/'.join(nb_dir.split('/')[:-1])\n",
    "if autolib_dir not in sys.path:\n",
    "    sys.path.append(autolib_dir)\n",
    "\n",
    "print(sys.path)\n",
    "\n",
    "%load_ext autoreload\n",
    "%autoreload 2"
   ]
  },
  {
   "cell_type": "code",
   "execution_count": 3,
   "metadata": {
    "ExecuteTime": {
     "end_time": "2018-07-15T05:07:44.675092Z",
     "start_time": "2018-07-15T05:07:43.685594Z"
    }
   },
   "outputs": [
    {
     "name": "stderr",
     "output_type": "stream",
     "text": [
      "/home/kai/anaconda3/envs/tf_gpu/lib/python3.5/site-packages/h5py/__init__.py:36: FutureWarning: Conversion of the second argument of issubdtype from `float` to `np.floating` is deprecated. In future, it will be treated as `np.float64 == np.dtype(float).type`.\n",
      "  from ._conv import register_converters as _register_converters\n",
      "Using TensorFlow backend.\n"
     ]
    }
   ],
   "source": [
    "from automl_libs import BaseLayerResultsRepo"
   ]
  },
  {
   "cell_type": "code",
   "execution_count": 4,
   "metadata": {
    "ExecuteTime": {
     "end_time": "2018-07-15T05:07:48.473413Z",
     "start_time": "2018-07-15T05:07:48.423293Z"
    }
   },
   "outputs": [],
   "source": [
    "repo = BaseLayerResultsRepo(['TARGET'], 'output/oof/', load_from_file=True)"
   ]
  },
  {
   "cell_type": "code",
   "execution_count": 5,
   "metadata": {
    "ExecuteTime": {
     "end_time": "2018-07-15T05:07:49.760336Z",
     "start_time": "2018-07-15T05:07:49.722801Z"
    }
   },
   "outputs": [
    {
     "data": {
      "text/plain": [
       "['pC2i__LGB_flight_data_ordinal_layer1',\n",
       " 'qHLQ__LGB_flight_data_ordinal_layer1',\n",
       " 'dQTL__LGB_flight_data_ordinal_layer1',\n",
       " '3VXI__LGB_flight_data_ordinal_layer1',\n",
       " '1CKg__LGB_flight_data_ordinal_layer1',\n",
       " '9QmW__LGB_flight_data_ordinal_layer1',\n",
       " 'ksIj__LGB_flight_data_ordinal_layer1',\n",
       " 'fvQF__LGB_flight_data_ordinal_layer1',\n",
       " 'Lt2A__LOGREG_layer2',\n",
       " 'Qeq2__NN_layer2']"
      ]
     },
     "execution_count": 5,
     "metadata": {},
     "output_type": "execute_result"
    }
   ],
   "source": [
    "repo.get_model_data_id_list()"
   ]
  },
  {
   "cell_type": "code",
   "execution_count": 38,
   "metadata": {
    "ExecuteTime": {
     "end_time": "2018-07-15T14:57:31.626160Z",
     "start_time": "2018-07-15T14:57:31.590889Z"
    }
   },
   "outputs": [],
   "source": [
    "chosen_layer_oof_train, chosen_layer_oof_test, chosen_layer_est_preds, chosen_model_data_list = repo.get_results('layer2',  chosen_ones=['fvQF__LGB_flight_data_ordinal_layer1'])"
   ]
  },
  {
   "cell_type": "code",
   "execution_count": 29,
   "metadata": {
    "ExecuteTime": {
     "end_time": "2018-07-15T14:51:41.599406Z",
     "start_time": "2018-07-15T14:51:41.567455Z"
    }
   },
   "outputs": [],
   "source": [
    "chosen_layer_oof_train, chosen_layer_oof_test, chosen_layer_est_preds, chosen_model_data_list = repo.get_results('layer1',  threshold=0.7)"
   ]
  },
  {
   "cell_type": "code",
   "execution_count": 33,
   "metadata": {
    "ExecuteTime": {
     "end_time": "2018-07-15T14:54:32.218540Z",
     "start_time": "2018-07-15T14:54:32.187570Z"
    }
   },
   "outputs": [],
   "source": [
    "for i, k in enumerate(list(chosen_layer_est_preds.keys())):\n",
    "    if i == 0:\n",
    "        blend = chosen_layer_est_preds[k]\n",
    "    else:\n",
    "        blend += chosen_layer_est_preds[k]\n",
    "blend /= len(list(chosen_layer_est_preds.keys())) "
   ]
  },
  {
   "cell_type": "code",
   "execution_count": 39,
   "metadata": {
    "ExecuteTime": {
     "end_time": "2018-07-15T14:57:42.165377Z",
     "start_time": "2018-07-15T14:57:42.134724Z"
    }
   },
   "outputs": [],
   "source": [
    "pred = chosen_layer_est_preds['fvQF__LGB_flight_data_ordinal_layer1']"
   ]
  },
  {
   "cell_type": "code",
   "execution_count": 40,
   "metadata": {
    "ExecuteTime": {
     "end_time": "2018-07-15T14:57:48.861311Z",
     "start_time": "2018-07-15T14:57:48.830125Z"
    }
   },
   "outputs": [],
   "source": [
    "sub['TARGET'] = pred "
   ]
  },
  {
   "cell_type": "code",
   "execution_count": 21,
   "metadata": {
    "ExecuteTime": {
     "end_time": "2018-07-15T05:16:46.440490Z",
     "start_time": "2018-07-15T05:16:46.407984Z"
    }
   },
   "outputs": [
    {
     "data": {
      "text/plain": [
       "array([[0.06124473],\n",
       "       [0.19637326],\n",
       "       [0.04089439],\n",
       "       [0.04214554],\n",
       "       [0.21255339]])"
      ]
     },
     "execution_count": 21,
     "metadata": {},
     "output_type": "execute_result"
    }
   ],
   "source": [
    "pred_cv797062[:5]"
   ]
  },
  {
   "cell_type": "code",
   "execution_count": 22,
   "metadata": {
    "ExecuteTime": {
     "end_time": "2018-07-15T05:16:53.862245Z",
     "start_time": "2018-07-15T05:16:53.830447Z"
    }
   },
   "outputs": [
    {
     "data": {
      "text/plain": [
       "array([[0.0516176 ],\n",
       "       [0.17454617],\n",
       "       [0.02549407],\n",
       "       [0.03095004],\n",
       "       [0.17781851]])"
      ]
     },
     "execution_count": 22,
     "metadata": {},
     "output_type": "execute_result"
    }
   ],
   "source": [
    "pred_cv797250[:5]"
   ]
  },
  {
   "cell_type": "code",
   "execution_count": 50,
   "metadata": {
    "ExecuteTime": {
     "end_time": "2018-07-16T19:52:28.338622Z",
     "start_time": "2018-07-16T19:52:28.305178Z"
    }
   },
   "outputs": [
    {
     "data": {
      "text/html": [
       "<div>\n",
       "<style scoped>\n",
       "    .dataframe tbody tr th:only-of-type {\n",
       "        vertical-align: middle;\n",
       "    }\n",
       "\n",
       "    .dataframe tbody tr th {\n",
       "        vertical-align: top;\n",
       "    }\n",
       "\n",
       "    .dataframe thead th {\n",
       "        text-align: right;\n",
       "    }\n",
       "</style>\n",
       "<table border=\"1\" class=\"dataframe\">\n",
       "  <thead>\n",
       "    <tr style=\"text-align: right;\">\n",
       "      <th></th>\n",
       "      <th>SK_ID_CURR</th>\n",
       "      <th>TARGET</th>\n",
       "    </tr>\n",
       "  </thead>\n",
       "  <tbody>\n",
       "    <tr>\n",
       "      <th>0</th>\n",
       "      <td>100001</td>\n",
       "      <td>0.078203</td>\n",
       "    </tr>\n",
       "    <tr>\n",
       "      <th>1</th>\n",
       "      <td>100005</td>\n",
       "      <td>0.252757</td>\n",
       "    </tr>\n",
       "    <tr>\n",
       "      <th>2</th>\n",
       "      <td>100013</td>\n",
       "      <td>0.046980</td>\n",
       "    </tr>\n",
       "    <tr>\n",
       "      <th>3</th>\n",
       "      <td>100028</td>\n",
       "      <td>0.056933</td>\n",
       "    </tr>\n",
       "    <tr>\n",
       "      <th>4</th>\n",
       "      <td>100038</td>\n",
       "      <td>0.292589</td>\n",
       "    </tr>\n",
       "  </tbody>\n",
       "</table>\n",
       "</div>"
      ],
      "text/plain": [
       "   SK_ID_CURR    TARGET\n",
       "0      100001  0.078203\n",
       "1      100005  0.252757\n",
       "2      100013  0.046980\n",
       "3      100028  0.056933\n",
       "4      100038  0.292589"
      ]
     },
     "execution_count": 50,
     "metadata": {},
     "output_type": "execute_result"
    }
   ],
   "source": [
    "sub.head()"
   ]
  },
  {
   "cell_type": "code",
   "execution_count": null,
   "metadata": {},
   "outputs": [],
   "source": []
  }
 ],
 "metadata": {
  "kernelspec": {
   "display_name": "Python 3.5 (tf_gpu)",
   "language": "python",
   "name": "tf_gpu"
  },
  "language_info": {
   "codemirror_mode": {
    "name": "ipython",
    "version": 3
   },
   "file_extension": ".py",
   "mimetype": "text/x-python",
   "name": "python",
   "nbconvert_exporter": "python",
   "pygments_lexer": "ipython3",
   "version": "3.5.5"
  },
  "varInspector": {
   "cols": {
    "lenName": 16,
    "lenType": 16,
    "lenVar": 40
   },
   "kernels_config": {
    "python": {
     "delete_cmd_postfix": "",
     "delete_cmd_prefix": "del ",
     "library": "var_list.py",
     "varRefreshCmd": "print(var_dic_list())"
    },
    "r": {
     "delete_cmd_postfix": ") ",
     "delete_cmd_prefix": "rm(",
     "library": "var_list.r",
     "varRefreshCmd": "cat(var_dic_list()) "
    }
   },
   "types_to_exclude": [
    "module",
    "function",
    "builtin_function_or_method",
    "instance",
    "_Feature"
   ],
   "window_display": false
  }
 },
 "nbformat": 4,
 "nbformat_minor": 2
}
