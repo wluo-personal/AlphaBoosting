{
 "cells": [
  {
   "cell_type": "code",
   "execution_count": null,
   "metadata": {
    "ExecuteTime": {
     "end_time": "2018-07-20T02:49:38.781041Z",
     "start_time": "2018-07-20T02:49:38.621817Z"
    }
   },
   "outputs": [],
   "source": [
    "import pandas as pd\n",
    "import numpy as np"
   ]
  },
  {
   "cell_type": "code",
   "execution_count": null,
   "metadata": {
    "ExecuteTime": {
     "end_time": "2018-07-20T02:49:38.909896Z",
     "start_time": "2018-07-20T02:49:38.868290Z"
    }
   },
   "outputs": [],
   "source": [
    "sub = pd.read_csv('data/sample_submission.csv')"
   ]
  },
  {
   "cell_type": "code",
   "execution_count": null,
   "metadata": {
    "ExecuteTime": {
     "end_time": "2018-07-21T21:11:36.798617Z",
     "start_time": "2018-07-21T21:11:36.793893Z"
    }
   },
   "outputs": [],
   "source": [
    "pred = np.load('./output/gs_saved_preds/xgb_preds_EjLR.npy') "
   ]
  },
  {
   "cell_type": "code",
   "execution_count": null,
   "metadata": {
    "ExecuteTime": {
     "end_time": "2018-07-13T01:36:30.814563Z",
     "start_time": "2018-07-13T01:36:30.809328Z"
    }
   },
   "outputs": [],
   "source": [
    "pred.shape"
   ]
  },
  {
   "cell_type": "code",
   "execution_count": null,
   "metadata": {
    "ExecuteTime": {
     "end_time": "2018-07-21T21:11:38.657953Z",
     "start_time": "2018-07-21T21:11:38.653591Z"
    }
   },
   "outputs": [],
   "source": [
    "sub['TARGET'] = pred"
   ]
  },
  {
   "cell_type": "code",
   "execution_count": null,
   "metadata": {
    "ExecuteTime": {
     "end_time": "2018-07-21T21:11:39.157298Z",
     "start_time": "2018-07-21T21:11:39.143120Z"
    }
   },
   "outputs": [],
   "source": [
    "sub.head()"
   ]
  },
  {
   "cell_type": "code",
   "execution_count": null,
   "metadata": {
    "ExecuteTime": {
     "end_time": "2018-07-21T21:12:09.795965Z",
     "start_time": "2018-07-21T21:12:09.463066Z"
    }
   },
   "outputs": [],
   "source": [
    "sub.to_csv('EjLR_xgb_9530cv7976.csv.gz', index=False, compression='gzip')"
   ]
  },
  {
   "cell_type": "code",
   "execution_count": null,
   "metadata": {
    "ExecuteTime": {
     "end_time": "2018-07-15T05:07:43.029088Z",
     "start_time": "2018-07-15T05:07:43.007373Z"
    }
   },
   "outputs": [],
   "source": [
    "import os\n",
    "import sys\n",
    "nb_dir = os.path.split(os.getcwd())[0]\n",
    "print(nb_dir)\n",
    "#if nb_dir not in sys.path:\n",
    "#    sys.path.append(nb_dir)\n",
    "    \n",
    "# autolib_dir = '/home/kai/data/shiyi/AlphaBoosting/automl'\n",
    "autolib_dir = '/'.join(nb_dir.split('/')[:-1])\n",
    "if autolib_dir not in sys.path:\n",
    "    sys.path.append(autolib_dir)\n",
    "\n",
    "print(sys.path)\n",
    "\n",
    "%load_ext autoreload\n",
    "%autoreload 2"
   ]
  },
  {
   "cell_type": "code",
   "execution_count": null,
   "metadata": {
    "ExecuteTime": {
     "end_time": "2018-07-15T05:07:44.675092Z",
     "start_time": "2018-07-15T05:07:43.685594Z"
    }
   },
   "outputs": [],
   "source": [
    "from automl_libs import BaseLayerResultsRepo"
   ]
  },
  {
   "cell_type": "code",
   "execution_count": null,
   "metadata": {
    "ExecuteTime": {
     "end_time": "2018-07-15T05:07:48.473413Z",
     "start_time": "2018-07-15T05:07:48.423293Z"
    }
   },
   "outputs": [],
   "source": [
    "repo = BaseLayerResultsRepo(['TARGET'], 'output/oof/', load_from_file=True)"
   ]
  },
  {
   "cell_type": "code",
   "execution_count": null,
   "metadata": {
    "ExecuteTime": {
     "end_time": "2018-07-15T05:07:49.760336Z",
     "start_time": "2018-07-15T05:07:49.722801Z"
    }
   },
   "outputs": [],
   "source": [
    "repo.get_model_data_id_list()"
   ]
  },
  {
   "cell_type": "code",
   "execution_count": null,
   "metadata": {
    "ExecuteTime": {
     "end_time": "2018-07-15T14:57:31.626160Z",
     "start_time": "2018-07-15T14:57:31.590889Z"
    }
   },
   "outputs": [],
   "source": [
    "chosen_layer_oof_train, chosen_layer_oof_test, chosen_layer_est_preds, chosen_model_data_list = repo.get_results('layer2',  chosen_ones=['fvQF__LGB_flight_data_ordinal_layer1'])"
   ]
  },
  {
   "cell_type": "code",
   "execution_count": null,
   "metadata": {
    "ExecuteTime": {
     "end_time": "2018-07-15T14:51:41.599406Z",
     "start_time": "2018-07-15T14:51:41.567455Z"
    }
   },
   "outputs": [],
   "source": [
    "chosen_layer_oof_train, chosen_layer_oof_test, chosen_layer_est_preds, chosen_model_data_list = repo.get_results('layer1',  threshold=0.7)"
   ]
  },
  {
   "cell_type": "code",
   "execution_count": null,
   "metadata": {
    "ExecuteTime": {
     "end_time": "2018-07-15T14:54:32.218540Z",
     "start_time": "2018-07-15T14:54:32.187570Z"
    }
   },
   "outputs": [],
   "source": [
    "for i, k in enumerate(list(chosen_layer_est_preds.keys())):\n",
    "    if i == 0:\n",
    "        blend = chosen_layer_est_preds[k]\n",
    "    else:\n",
    "        blend += chosen_layer_est_preds[k]\n",
    "blend /= len(list(chosen_layer_est_preds.keys())) "
   ]
  },
  {
   "cell_type": "code",
   "execution_count": null,
   "metadata": {
    "ExecuteTime": {
     "end_time": "2018-07-15T14:57:42.165377Z",
     "start_time": "2018-07-15T14:57:42.134724Z"
    }
   },
   "outputs": [],
   "source": [
    "pred = chosen_layer_est_preds['fvQF__LGB_flight_data_ordinal_layer1']"
   ]
  },
  {
   "cell_type": "code",
   "execution_count": null,
   "metadata": {
    "ExecuteTime": {
     "end_time": "2018-07-15T14:57:48.861311Z",
     "start_time": "2018-07-15T14:57:48.830125Z"
    }
   },
   "outputs": [],
   "source": [
    "sub['TARGET'] = pred "
   ]
  },
  {
   "cell_type": "code",
   "execution_count": null,
   "metadata": {
    "ExecuteTime": {
     "end_time": "2018-07-15T05:16:46.440490Z",
     "start_time": "2018-07-15T05:16:46.407984Z"
    }
   },
   "outputs": [],
   "source": [
    "pred_cv797062[:5]"
   ]
  },
  {
   "cell_type": "code",
   "execution_count": null,
   "metadata": {
    "ExecuteTime": {
     "end_time": "2018-07-15T05:16:53.862245Z",
     "start_time": "2018-07-15T05:16:53.830447Z"
    }
   },
   "outputs": [],
   "source": [
    "pred_cv797250[:5]"
   ]
  }
 ],
 "metadata": {
  "kernelspec": {
   "display_name": "Python 3.5 (tf_gpu)",
   "language": "python",
   "name": "tf_gpu"
  },
  "language_info": {
   "codemirror_mode": {
    "name": "ipython",
    "version": 3
   },
   "file_extension": ".py",
   "mimetype": "text/x-python",
   "name": "python",
   "nbconvert_exporter": "python",
   "pygments_lexer": "ipython3",
   "version": "3.5.5"
  },
  "varInspector": {
   "cols": {
    "lenName": 16,
    "lenType": 16,
    "lenVar": 40
   },
   "kernels_config": {
    "python": {
     "delete_cmd_postfix": "",
     "delete_cmd_prefix": "del ",
     "library": "var_list.py",
     "varRefreshCmd": "print(var_dic_list())"
    },
    "r": {
     "delete_cmd_postfix": ") ",
     "delete_cmd_prefix": "rm(",
     "library": "var_list.r",
     "varRefreshCmd": "cat(var_dic_list()) "
    }
   },
   "types_to_exclude": [
    "module",
    "function",
    "builtin_function_or_method",
    "instance",
    "_Feature"
   ],
   "window_display": false
  }
 },
 "nbformat": 4,
 "nbformat_minor": 2
}
