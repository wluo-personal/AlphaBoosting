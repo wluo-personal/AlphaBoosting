{
 "cells": [
  {
   "cell_type": "code",
   "execution_count": null,
   "metadata": {
    "ExecuteTime": {
     "end_time": "2018-07-21T21:17:34.397515Z",
     "start_time": "2018-07-21T21:17:34.382333Z"
    }
   },
   "outputs": [],
   "source": [
    "import os\n",
    "import pandas as pd\n",
    "import pdb\n",
    "import time\n",
    "from sklearn.preprocessing import minmax_scale\n",
    "\n",
    "def blend(path, select_to_essemble, weights=None, minmaxscale=False, shortenname=False):\n",
    "    # TODO: shortenname:\n",
    "    # generate unique id for each file, and return the id:filename map\n",
    "    \n",
    "    if weights is not None:\n",
    "        if type(weights) != dict:\n",
    "            raise ValueError('weights must be a dict or None')\n",
    "        sum_weight = sum(weights.values())\n",
    "        if int(sum_weight*10000)+1 != 10000 and int(sum_weight) != 1: # sometimes sum can be 0.9999999999999999, which is 1 essentially\n",
    "            raise ValueError('sum of weights must be 1, but you have: {}'.format(sum_weight))\n",
    "        if len(select_to_essemble) != len(weights):\n",
    "            raise ValueError('when weight is not None, it must have length of select_to_essemble')\n",
    "    xgb_topn_repo = {}   \n",
    "    cnt = 0\n",
    "    for filename in os.listdir(path):\n",
    "#         pdb.set_trace()\n",
    "        #score += float(item.split('_')[-1])\n",
    "        select = None\n",
    "        if len(select_to_essemble) == 0: # if selecting any specific ones to essemble, then essemble all \n",
    "            select = filename\n",
    "        else:\n",
    "            if filename in select_to_essemble:\n",
    "                select = filename\n",
    "            else:\n",
    "                continue\n",
    "        print('selected: ' + select)\n",
    "        tmp = pd.read_csv(path+select)\n",
    "        if shortenname:\n",
    "            if select.split('.')[-1] == 'gz':\n",
    "                shortened_name = select.split('_')[-1]\n",
    "#                 shortened_name = select.split('.')[-3].split('_')[-1]\n",
    "            else:\n",
    "                shortened_name = select.split('.')[-2].split('_')[-1]\n",
    "            xgb_topn_repo[shortened_name] = tmp.copy()\n",
    "        else:\n",
    "            xgb_topn_repo[select] = tmp.copy()\n",
    "#         import pdb\n",
    "#         pdb.set_trace()\n",
    "        if cnt == 0:\n",
    "            label_cols = list(tmp.columns)\n",
    "            label_cols.pop(0) # remove 'id'\n",
    "            print('please check if the label_cols is right:')\n",
    "            print(label_cols)\n",
    "        if minmaxscale:\n",
    "            tmp[label_cols] = minmax_scale(tmp[label_cols].values)  \n",
    "        if weights is not None:\n",
    "            tmp[label_cols] = tmp[label_cols].applymap(lambda x: x*weights[select])\n",
    "        if cnt == 0:\n",
    "            preds = tmp\n",
    "        else:\n",
    "            preds[label_cols] += tmp[label_cols]  \n",
    "        cnt += 1\n",
    "\n",
    "    print(str(cnt)+' results selected')\n",
    "    if weights is None:\n",
    "        preds[label_cols] = preds[label_cols].applymap(lambda x: x/cnt)\n",
    "    return preds, label_cols, xgb_topn_repo, cnt"
   ]
  },
  {
   "cell_type": "code",
   "execution_count": null,
   "metadata": {
    "ExecuteTime": {
     "end_time": "2018-07-21T21:17:41.495798Z",
     "start_time": "2018-07-21T21:17:41.489377Z"
    }
   },
   "outputs": [],
   "source": [
    "path = 'subs/'#'NewRnnPreds/'\n",
    "\n",
    "select_to_essemble = []\n",
    "for filename in os.listdir(path):\n",
    "    if 'csv' in filename and 'xgb' in filename:\n",
    "        select_to_essemble.append(filename)\n",
    "        print(filename)\n",
    "\n",
    "#select_to_essemble\n",
    "\n",
    "#preds, label_cols, xgb_topn_repo, cnt = blend(path, select_to_essemble)"
   ]
  },
  {
   "cell_type": "code",
   "execution_count": null,
   "metadata": {
    "ExecuteTime": {
     "end_time": "2018-07-21T21:16:19.456013Z",
     "start_time": "2018-07-21T21:16:19.452370Z"
    }
   },
   "outputs": [],
   "source": [
    "temp='k36J_xgb_9005cv79704pb797'"
   ]
  },
  {
   "cell_type": "code",
   "execution_count": null,
   "metadata": {
    "ExecuteTime": {
     "end_time": "2018-07-21T21:16:28.915592Z",
     "start_time": "2018-07-21T21:16:28.910165Z"
    }
   },
   "outputs": [],
   "source": [
    "temp.split('_')[-1]"
   ]
  },
  {
   "cell_type": "code",
   "execution_count": null,
   "metadata": {
    "ExecuteTime": {
     "end_time": "2018-07-20T03:04:54.675668Z",
     "start_time": "2018-07-20T03:04:54.660024Z"
    }
   },
   "outputs": [],
   "source": [
    "len(select_to_essemble)"
   ]
  },
  {
   "cell_type": "code",
   "execution_count": null,
   "metadata": {},
   "outputs": [],
   "source": [
    "import gc; gc.collect()"
   ]
  },
  {
   "cell_type": "code",
   "execution_count": null,
   "metadata": {
    "ExecuteTime": {
     "end_time": "2018-07-21T21:17:54.926434Z",
     "start_time": "2018-07-21T21:17:54.788631Z"
    }
   },
   "outputs": [],
   "source": [
    "preds, label_cols, xgb_topn_repo, cnt = blend(path, select_to_essemble, shortenname=True)"
   ]
  },
  {
   "cell_type": "code",
   "execution_count": null,
   "metadata": {
    "ExecuteTime": {
     "end_time": "2018-07-20T03:05:58.768552Z",
     "start_time": "2018-07-20T03:05:58.753582Z"
    }
   },
   "outputs": [],
   "source": [
    "preds.head(3)"
   ]
  },
  {
   "cell_type": "code",
   "execution_count": null,
   "metadata": {
    "ExecuteTime": {
     "end_time": "2018-07-20T03:12:00.465454Z",
     "start_time": "2018-07-20T03:12:00.454254Z"
    }
   },
   "outputs": [],
   "source": [
    "preds.head(3)"
   ]
  },
  {
   "cell_type": "code",
   "execution_count": null,
   "metadata": {
    "ExecuteTime": {
     "end_time": "2018-07-20T17:53:38.476428Z",
     "start_time": "2018-07-20T17:53:38.471011Z"
    }
   },
   "outputs": [],
   "source": [
    "list(xgb_topn_repo)"
   ]
  },
  {
   "cell_type": "code",
   "execution_count": null,
   "metadata": {
    "ExecuteTime": {
     "end_time": "2018-07-20T03:06:16.925950Z",
     "start_time": "2018-07-20T03:06:16.814052Z"
    }
   },
   "outputs": [],
   "source": [
    "import sys\n",
    "sys.path.append('/home/kai/data/shiyi/Kaggle/toxic/sc/stacking')\n",
    "from toxic_utils import scatter_per_label\n",
    "import matplotlib.pyplot as plt\n",
    "%matplotlib inline"
   ]
  },
  {
   "cell_type": "code",
   "execution_count": null,
   "metadata": {
    "ExecuteTime": {
     "end_time": "2018-07-21T21:18:45.576489Z",
     "start_time": "2018-07-21T21:18:41.052342Z"
    },
    "scrolled": false
   },
   "outputs": [],
   "source": [
    "scatter_per_label(xgb_topn_repo, 'TARGET', 10000)"
   ]
  },
  {
   "cell_type": "code",
   "execution_count": null,
   "metadata": {},
   "outputs": [],
   "source": [
    "list(xgb_topn_repo)"
   ]
  },
  {
   "cell_type": "code",
   "execution_count": null,
   "metadata": {
    "ExecuteTime": {
     "end_time": "2018-07-20T03:14:42.631381Z",
     "start_time": "2018-07-20T03:14:42.624897Z"
    }
   },
   "outputs": [],
   "source": [
    "tempid = ''\n",
    "for selected in select_to_essemble:\n",
    "#     temp = selected.split('_')[-1].split('.')[0]\n",
    "    temp = selected.split('_')[0]\n",
    "    if len(temp) > 7:\n",
    "        temp = temp[3:]\n",
    "    print(temp)\n",
    "    tempid += temp + '_'\n",
    "print(tempid)"
   ]
  },
  {
   "cell_type": "code",
   "execution_count": null,
   "metadata": {
    "ExecuteTime": {
     "end_time": "2018-07-20T03:13:49.217047Z",
     "start_time": "2018-07-20T03:13:49.205436Z"
    }
   },
   "outputs": [],
   "source": [
    "preds.tail()"
   ]
  },
  {
   "cell_type": "code",
   "execution_count": null,
   "metadata": {},
   "outputs": [],
   "source": [
    "import numpy as np"
   ]
  },
  {
   "cell_type": "code",
   "execution_count": null,
   "metadata": {},
   "outputs": [],
   "source": [
    "map3_t = np.load('/home/kai/data/kaggle/talkingdata/data/idx_to_0.npy')"
   ]
  },
  {
   "cell_type": "code",
   "execution_count": null,
   "metadata": {},
   "outputs": [],
   "source": [
    "preds.loc[map3_t, 'is_attributed'].mean(), preds.loc[map3_t, 'is_attributed'].max()"
   ]
  },
  {
   "cell_type": "code",
   "execution_count": null,
   "metadata": {},
   "outputs": [],
   "source": [
    "preds.loc[map3_t, 'is_attributed'] = 0"
   ]
  },
  {
   "cell_type": "code",
   "execution_count": null,
   "metadata": {},
   "outputs": [],
   "source": [
    "preds.loc[map3_t, 'is_attributed'].mean(), preds.loc[map3_t, 'is_attributed'].max()"
   ]
  },
  {
   "cell_type": "code",
   "execution_count": null,
   "metadata": {
    "ExecuteTime": {
     "end_time": "2018-07-20T03:14:45.425821Z",
     "start_time": "2018-07-20T03:14:45.083792Z"
    }
   },
   "outputs": [],
   "source": [
    "essemble_name = 'Blend' \n",
    "# tempid = str(int(time.time()))[3:]\n",
    "print(tempid)\n",
    "preds.to_csv(path+essemble_name+'_{}_{}.csv.gz'.format(cnt, tempid), index=False, float_format='%.9f', compression='gzip')"
   ]
  },
  {
   "cell_type": "code",
   "execution_count": null,
   "metadata": {},
   "outputs": [],
   "source": []
  },
  {
   "cell_type": "code",
   "execution_count": null,
   "metadata": {},
   "outputs": [],
   "source": [
    "path = '/home/kai/data/kaggle/talkingdata/data/SUBS/FinalSub/'\n",
    "\n",
    "select_to_essemble = [\n",
    "    'Blend_4_4_5271683_lb0.9817.csv.gz',\n",
    "    'lgb_best__5723574.csv.gz',\n",
    "#     'lightgbm_lb0.9817.csv.gz':0.15,\n",
    "    'lightgbm_alldata_lb0.9816.csv.gz',\n",
    "#     'lightgbm_1_lb0.9817.csv.gz':0.15,\n",
    "    'sub105061048am_col_lb0.9817.csv.gz',\n",
    "#     'catboost_2_catboost0.9808.csv.gz':0.07,\n",
    "#     'catboost_1_lb0.9808.csv.gz':0.07,\n",
    "#     'catboost_newest_nolbscore.csv.gz':0.07,\n",
    "#     'xgb_lb0.9809.csv.gz',\n",
    "    'xgb_lb0.9810.csv.gz',\n",
    "    'catboost_lb0.9813.csv.gz',\n",
    "    'nn_12AvgBlend_5716468.csv.gz'\n",
    "#     'Blend_4_4_5271683_lb0.9817.csv.gz',\n",
    "#     'catboost_1_lb0.9808.csv.gz',\n",
    "#     'xgb_1_lb0.9809.csv.gz',\n",
    "#     'lightgbm_lb0.9817.csv.gz',\n",
    "#     'catboost_2_catboost0.9808.csv.gz',\n",
    "#     'nn_12AvgBlend_5716468.csv.gz',\n",
    "#     'catboost_newest_nolbscore.csv.gz',\n",
    "#     'lightgbm_alldata_lb0.9816.csv.gz',\n",
    "#     'sub105061048am_col_lb0.9817.csv.gz',\n",
    "#     'xgb_2_lb0.9810.csv.gz',\n",
    "#     'lightgbm_1_lb0.9817.csv.gz'\n",
    "#     'all_suppelement_tree_1200_depth6_scale398_lr0.05_ntree_300_450_600_lb0.9804.csv.gz',\n",
    "#     'all_suppelement_tree_1200_depth6_scale398_lr0.05_ntree_650_850_1100.csv.gz',\n",
    "#     'all_suppelement_xgbtree_900_depth7_scale99_lr0.1_ntree_80_120_150_lb0.9809.csv.gz',\n",
    "#     'paramsCombo_1_lr0.05_scale99_ntree500ntree_300_370_470_lb0.9816.csv.gz',\n",
    "#     'Blend_3_9815_3_5216870_lb9816.csv.gz'\n",
    "    #'equal_hour_blend_matrixregV5_leaf61_firsttimediff_exclude_lb0.9800.csv.gz',\n",
    "    #'allday_blend_supplement_V2_attributediff_lb0.9815.csv.gz',\n",
    "#     'allday_blend_supplement_V2_attributediff_noreg_lb0.9815.csv.gz',\n",
    "    #'paramsCombo_1_lr0.03ntree_595_605_802_lb0.9815.csv.gz'\n",
    "#     'equal_hour_blend_equalhour_supplement_V1_0.9811.csv.gz'\n",
    "    #'sub_it_4513683_9778.csv.gz',\n",
    "    #'wordbatch_fm_ftrl_4525246_9769.csv.gz'\n",
    "]\n",
    "\n",
    "# V2:\n",
    "# 'Blend_4_4_5271683_lb0.9817.csv.gz':0.15,\n",
    "#     'lightgbm_lb0.9817.csv.gz':0.15,\n",
    "#     'lightgbm_alldata_lb0.9816.csv.gz':0.15,\n",
    "#     'lightgbm_1_lb0.9817.csv.gz':0.15,\n",
    "#     'sub105061048am_col_lb0.9817.csv.gz':0.15,\n",
    "#     'catboost_2_catboost0.9808.csv.gz':0.044,\n",
    "#     'catboost_1_lb0.9808.csv.gz':0.044,\n",
    "#     'catboost_newest_nolbscore.csv.gz':0.044,\n",
    "#     'xgb_1_lb0.9809.csv.gz':0.044,\n",
    "#     'xgb_2_lb0.9810.csv.gz':0.044,\n",
    "#     'nn_7AvgBlend_5561033.csv.gz':0.03\n",
    "\n",
    "# V1:\n",
    "weights = {\n",
    "    'Blend_4_4_5271683_lb0.9817.csv.gz':0.1,\n",
    "    'lgb_best__5723574.csv.gz':0.1,\n",
    "    'lightgbm_alldata_lb0.9816.csv.gz':0.1,\n",
    "    'sub105061048am_col_lb0.9817.csv.gz':0.1,\n",
    "    'xgb_lb0.9810.csv.gz':0.2,\n",
    "    'catboost_lb0.9813.csv.gz':0.2,\n",
    "    'nn_12AvgBlend_5716468.csv.gz':0.2\n",
    "#     'all_suppelement_tree_1200_depth6_scale398_lr0.05_ntree_300_450_600_lb0.9804.csv.gz':0.15,\n",
    "#     'all_suppelement_tree_1200_depth6_scale398_lr0.05_ntree_650_850_1100.csv.gz':0.2,\n",
    "#     'all_suppelement_xgbtree_900_depth7_scale99_lr0.1_ntree_80_120_150_lb0.9809.csv.gz':0.2,\n",
    "#     'paramsCombo_1_lr0.05_scale99_ntree500ntree_300_370_470_lb0.9816.csv.gz':0.3,\n",
    "#     'Blend_3_9815_3_5216870_lb9816.csv.gz':0.3,\n",
    "#     'allday_blend_supplement_V2_attributediff_lb0.9815.csv.gz':0.5,\n",
    "#     'allday_blend_supplement_V2_attributediff_noreg_lb0.9815.csv.gz':0.25,\n",
    "#     'paramsCombo_1_lr0.03ntree_595_605_802_lb0.9815.csv.gz':0.5\n",
    "#     'equal_hour_blend_equalhour_supplement_V1_0.9811.csv.gz':0.4\n",
    "#     'equal_hour_blend_matrixregV5_leaf61_firsttimediff_exclude_lb0.9800.csv.gz':0.7,\n",
    "#     'sub_it_4513683_9778.csv.gz':0.3,\n",
    "    #'wordbatch_fm_ftrl_4525246_9769.csv.gz':0.2\n",
    "}\n",
    "\n",
    "preds, label_cols, xgb_topn_repo, cnt = blend(path, select_to_essemble, weights)#, shortenname=True)"
   ]
  }
 ],
 "metadata": {
  "kernelspec": {
   "display_name": "Python 3",
   "language": "python",
   "name": "python3"
  },
  "language_info": {
   "codemirror_mode": {
    "name": "ipython",
    "version": 3
   },
   "file_extension": ".py",
   "mimetype": "text/x-python",
   "name": "python",
   "nbconvert_exporter": "python",
   "pygments_lexer": "ipython3",
   "version": "3.6.5"
  },
  "varInspector": {
   "cols": {
    "lenName": 16,
    "lenType": 16,
    "lenVar": 40
   },
   "kernels_config": {
    "python": {
     "delete_cmd_postfix": "",
     "delete_cmd_prefix": "del ",
     "library": "var_list.py",
     "varRefreshCmd": "print(var_dic_list())"
    },
    "r": {
     "delete_cmd_postfix": ") ",
     "delete_cmd_prefix": "rm(",
     "library": "var_list.r",
     "varRefreshCmd": "cat(var_dic_list()) "
    }
   },
   "types_to_exclude": [
    "module",
    "function",
    "builtin_function_or_method",
    "instance",
    "_Feature"
   ],
   "window_display": false
  }
 },
 "nbformat": 4,
 "nbformat_minor": 2
}
