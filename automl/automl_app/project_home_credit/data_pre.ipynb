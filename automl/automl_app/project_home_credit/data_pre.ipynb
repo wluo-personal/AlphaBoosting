{
 "cells": [
  {
   "cell_type": "code",
   "execution_count": 1,
   "metadata": {
    "ExecuteTime": {
     "end_time": "2018-07-16T03:12:22.012391Z",
     "start_time": "2018-07-16T03:12:21.843878Z"
    }
   },
   "outputs": [],
   "source": [
    "import pandas as pd"
   ]
  },
  {
   "cell_type": "code",
   "execution_count": 2,
   "metadata": {
    "ExecuteTime": {
     "end_time": "2018-07-16T03:12:29.522294Z",
     "start_time": "2018-07-16T03:12:22.669832Z"
    }
   },
   "outputs": [],
   "source": [
    "train = pd.read_pickle('/home/kai/data/kaggle/homecredit/train_bo2.pkl')\n",
    "test = pd.read_pickle('/home/kai/data/kaggle/homecredit/test_bo2.pkl')"
   ]
  },
  {
   "cell_type": "code",
   "execution_count": 3,
   "metadata": {
    "ExecuteTime": {
     "end_time": "2018-07-16T03:12:30.041423Z",
     "start_time": "2018-07-16T03:12:30.034496Z"
    }
   },
   "outputs": [
    {
     "data": {
      "text/plain": [
       "((307511, 2678), (48744, 2677))"
      ]
     },
     "execution_count": 3,
     "metadata": {},
     "output_type": "execute_result"
    }
   ],
   "source": [
    "train_len = len(train)\n",
    "train.shape, test.shape"
   ]
  },
  {
   "cell_type": "code",
   "execution_count": 4,
   "metadata": {
    "ExecuteTime": {
     "end_time": "2018-07-16T03:12:30.955554Z",
     "start_time": "2018-07-16T03:12:30.925634Z"
    }
   },
   "outputs": [
    {
     "data": {
      "text/html": [
       "<div>\n",
       "<style scoped>\n",
       "    .dataframe tbody tr th:only-of-type {\n",
       "        vertical-align: middle;\n",
       "    }\n",
       "\n",
       "    .dataframe tbody tr th {\n",
       "        vertical-align: top;\n",
       "    }\n",
       "\n",
       "    .dataframe thead th {\n",
       "        text-align: right;\n",
       "    }\n",
       "</style>\n",
       "<table border=\"1\" class=\"dataframe\">\n",
       "  <thead>\n",
       "    <tr style=\"text-align: right;\">\n",
       "      <th></th>\n",
       "      <th>SK_ID_CURR</th>\n",
       "      <th>TARGET</th>\n",
       "      <th>NAME_CONTRACT_TYPE</th>\n",
       "      <th>CODE_GENDER</th>\n",
       "      <th>FLAG_OWN_CAR</th>\n",
       "      <th>FLAG_OWN_REALTY</th>\n",
       "      <th>CNT_CHILDREN</th>\n",
       "      <th>AMT_INCOME_TOTAL</th>\n",
       "      <th>AMT_CREDIT</th>\n",
       "      <th>AMT_ANNUITY</th>\n",
       "      <th>...</th>\n",
       "      <th>inst_agg__DAYS_ENTRY_PAYMENT_standard_error</th>\n",
       "      <th>inst_agg__DAYS_ENTRY_PAYMENT_normed_std</th>\n",
       "      <th>inst_agg__DAYS_ENTRY_PAYMENT_two_third</th>\n",
       "      <th>inst_agg__DAYS_ENTRY_PAYMENT_two_minus_one_third</th>\n",
       "      <th>inst_agg__DAYS_INSTALMENT_trimmed_mean_10_pct</th>\n",
       "      <th>inst_agg__DAYS_INSTALMENT_max_minus_min</th>\n",
       "      <th>inst_agg__DAYS_INSTALMENT_standard_error</th>\n",
       "      <th>inst_agg__DAYS_INSTALMENT_normed_std</th>\n",
       "      <th>inst_agg__DAYS_INSTALMENT_two_third</th>\n",
       "      <th>inst_agg__DAYS_INSTALMENT_two_minus_one_third</th>\n",
       "    </tr>\n",
       "  </thead>\n",
       "  <tbody>\n",
       "    <tr>\n",
       "      <th>0</th>\n",
       "      <td>100002</td>\n",
       "      <td>1.0</td>\n",
       "      <td>0</td>\n",
       "      <td>0</td>\n",
       "      <td>0</td>\n",
       "      <td>0</td>\n",
       "      <td>0</td>\n",
       "      <td>202500.0</td>\n",
       "      <td>406597.5</td>\n",
       "      <td>24700.5</td>\n",
       "      <td>...</td>\n",
       "      <td>39.472923</td>\n",
       "      <td>-0.545490</td>\n",
       "      <td>-224.0</td>\n",
       "      <td>187.99892</td>\n",
       "      <td>-295.000000</td>\n",
       "      <td>540.0</td>\n",
       "      <td>38.729745</td>\n",
       "      <td>-0.572269</td>\n",
       "      <td>-205.0</td>\n",
       "      <td>179.99820</td>\n",
       "    </tr>\n",
       "    <tr>\n",
       "      <th>1</th>\n",
       "      <td>100003</td>\n",
       "      <td>0.0</td>\n",
       "      <td>0</td>\n",
       "      <td>1</td>\n",
       "      <td>0</td>\n",
       "      <td>1</td>\n",
       "      <td>0</td>\n",
       "      <td>270000.0</td>\n",
       "      <td>1293502.5</td>\n",
       "      <td>35698.5</td>\n",
       "      <td>...</td>\n",
       "      <td>151.464783</td>\n",
       "      <td>-0.546679</td>\n",
       "      <td>-719.0</td>\n",
       "      <td>1352.00272</td>\n",
       "      <td>-1369.619048</td>\n",
       "      <td>1774.0</td>\n",
       "      <td>151.490408</td>\n",
       "      <td>-0.549612</td>\n",
       "      <td>-707.0</td>\n",
       "      <td>1363.00096</td>\n",
       "    </tr>\n",
       "  </tbody>\n",
       "</table>\n",
       "<p>2 rows × 2678 columns</p>\n",
       "</div>"
      ],
      "text/plain": [
       "   SK_ID_CURR  TARGET  NAME_CONTRACT_TYPE  CODE_GENDER  FLAG_OWN_CAR  \\\n",
       "0      100002     1.0                   0            0             0   \n",
       "1      100003     0.0                   0            1             0   \n",
       "\n",
       "   FLAG_OWN_REALTY  CNT_CHILDREN  AMT_INCOME_TOTAL  AMT_CREDIT  AMT_ANNUITY  \\\n",
       "0                0             0          202500.0    406597.5      24700.5   \n",
       "1                1             0          270000.0   1293502.5      35698.5   \n",
       "\n",
       "                       ...                        \\\n",
       "0                      ...                         \n",
       "1                      ...                         \n",
       "\n",
       "   inst_agg__DAYS_ENTRY_PAYMENT_standard_error  \\\n",
       "0                                    39.472923   \n",
       "1                                   151.464783   \n",
       "\n",
       "   inst_agg__DAYS_ENTRY_PAYMENT_normed_std  \\\n",
       "0                                -0.545490   \n",
       "1                                -0.546679   \n",
       "\n",
       "   inst_agg__DAYS_ENTRY_PAYMENT_two_third  \\\n",
       "0                                  -224.0   \n",
       "1                                  -719.0   \n",
       "\n",
       "   inst_agg__DAYS_ENTRY_PAYMENT_two_minus_one_third  \\\n",
       "0                                         187.99892   \n",
       "1                                        1352.00272   \n",
       "\n",
       "   inst_agg__DAYS_INSTALMENT_trimmed_mean_10_pct  \\\n",
       "0                                    -295.000000   \n",
       "1                                   -1369.619048   \n",
       "\n",
       "   inst_agg__DAYS_INSTALMENT_max_minus_min  \\\n",
       "0                                    540.0   \n",
       "1                                   1774.0   \n",
       "\n",
       "   inst_agg__DAYS_INSTALMENT_standard_error  \\\n",
       "0                                 38.729745   \n",
       "1                                151.490408   \n",
       "\n",
       "   inst_agg__DAYS_INSTALMENT_normed_std  inst_agg__DAYS_INSTALMENT_two_third  \\\n",
       "0                             -0.572269                               -205.0   \n",
       "1                             -0.549612                               -707.0   \n",
       "\n",
       "   inst_agg__DAYS_INSTALMENT_two_minus_one_third  \n",
       "0                                      179.99820  \n",
       "1                                     1363.00096  \n",
       "\n",
       "[2 rows x 2678 columns]"
      ]
     },
     "execution_count": 4,
     "metadata": {},
     "output_type": "execute_result"
    }
   ],
   "source": [
    "train.head(2)"
   ]
  },
  {
   "cell_type": "code",
   "execution_count": 5,
   "metadata": {
    "ExecuteTime": {
     "end_time": "2018-07-16T03:12:40.469321Z",
     "start_time": "2018-07-16T03:12:34.528801Z"
    }
   },
   "outputs": [],
   "source": [
    "df = pd.concat([train, test], sort=True)"
   ]
  },
  {
   "cell_type": "code",
   "execution_count": 6,
   "metadata": {
    "ExecuteTime": {
     "end_time": "2018-07-16T03:12:53.303856Z",
     "start_time": "2018-07-16T03:12:53.298313Z"
    }
   },
   "outputs": [
    {
     "data": {
      "text/plain": [
       "(356255, 2678)"
      ]
     },
     "execution_count": 6,
     "metadata": {},
     "output_type": "execute_result"
    }
   ],
   "source": [
    "df.shape"
   ]
  },
  {
   "cell_type": "code",
   "execution_count": 15,
   "metadata": {
    "ExecuteTime": {
     "end_time": "2018-07-16T03:14:45.645756Z",
     "start_time": "2018-07-16T03:14:45.640721Z"
    }
   },
   "outputs": [],
   "source": [
    "cat_cols = [\"FLAG_OWN_CAR\",\"FLAG_OWN_REALTY\",\"NAME_TYPE_SUITE\",\"NAME_INCOME_TYPE\",\"NAME_EDUCATION_TYPE\",\"NAME_FAMILY_STATUS\",\"NAME_HOUSING_TYPE\", \"OCCUPATION_TYPE\",\"FLAG_DOCUMENT_2\",\"FLAG_DOCUMENT_3\",\"FLAG_DOCUMENT_4\",\"FLAG_DOCUMENT_5\",\"FLAG_DOCUMENT_6\",\"FLAG_DOCUMENT_7\",\"FLAG_DOCUMENT_8\",\"FLAG_DOCUMENT_9\",\"FLAG_DOCUMENT_10\",\"FLAG_DOCUMENT_11\",\"FLAG_DOCUMENT_12\", \"FLAG_DOCUMENT_13\",\"FLAG_DOCUMENT_14\",\"FLAG_DOCUMENT_15\",\"FLAG_DOCUMENT_16\",\"FLAG_DOCUMENT_17\",\"FLAG_DOCUMENT_18\", \"FLAG_DOCUMENT_19\",\"FLAG_DOCUMENT_20\",\"FLAG_DOCUMENT_21\", \"CAT_MONTHS_BIRTH\"]"
   ]
  },
  {
   "cell_type": "code",
   "execution_count": 20,
   "metadata": {
    "ExecuteTime": {
     "end_time": "2018-07-16T03:15:32.295488Z",
     "start_time": "2018-07-16T03:15:24.223346Z"
    }
   },
   "outputs": [],
   "source": [
    "df = pd.get_dummies(df, columns=cat_cols)"
   ]
  },
  {
   "cell_type": "code",
   "execution_count": 21,
   "metadata": {
    "ExecuteTime": {
     "end_time": "2018-07-16T03:15:39.098899Z",
     "start_time": "2018-07-16T03:15:39.093472Z"
    }
   },
   "outputs": [
    {
     "data": {
      "text/plain": [
       "(356255, 2757)"
      ]
     },
     "execution_count": 21,
     "metadata": {},
     "output_type": "execute_result"
    }
   ],
   "source": [
    "df.shape"
   ]
  },
  {
   "cell_type": "code",
   "execution_count": 22,
   "metadata": {
    "ExecuteTime": {
     "end_time": "2018-07-16T03:15:51.725832Z",
     "start_time": "2018-07-16T03:15:51.696680Z"
    }
   },
   "outputs": [
    {
     "data": {
      "text/html": [
       "<div>\n",
       "<style scoped>\n",
       "    .dataframe tbody tr th:only-of-type {\n",
       "        vertical-align: middle;\n",
       "    }\n",
       "\n",
       "    .dataframe tbody tr th {\n",
       "        vertical-align: top;\n",
       "    }\n",
       "\n",
       "    .dataframe thead th {\n",
       "        text-align: right;\n",
       "    }\n",
       "</style>\n",
       "<table border=\"1\" class=\"dataframe\">\n",
       "  <thead>\n",
       "    <tr style=\"text-align: right;\">\n",
       "      <th></th>\n",
       "      <th>AMT_ANNUITY</th>\n",
       "      <th>AMT_ANNUITY_divide_AMT_GOODS_PRICE</th>\n",
       "      <th>AMT_ANNUITY_divide_AMT_REQ_CREDIT_BUREAU_DAY</th>\n",
       "      <th>AMT_ANNUITY_divide_AMT_REQ_CREDIT_BUREAU_HOUR</th>\n",
       "      <th>AMT_ANNUITY_divide_AMT_REQ_CREDIT_BUREAU_MON</th>\n",
       "      <th>AMT_ANNUITY_divide_AMT_REQ_CREDIT_BUREAU_QRT</th>\n",
       "      <th>AMT_ANNUITY_divide_AMT_REQ_CREDIT_BUREAU_WEEK</th>\n",
       "      <th>AMT_ANNUITY_divide_AMT_REQ_CREDIT_BUREAU_YEAR</th>\n",
       "      <th>AMT_ANNUITY_divide_CNT_CHILDREN</th>\n",
       "      <th>AMT_ANNUITY_divide_CNT_FAM_MEMBERS</th>\n",
       "      <th>...</th>\n",
       "      <th>CAT_MONTHS_BIRTH_2</th>\n",
       "      <th>CAT_MONTHS_BIRTH_3</th>\n",
       "      <th>CAT_MONTHS_BIRTH_4</th>\n",
       "      <th>CAT_MONTHS_BIRTH_5</th>\n",
       "      <th>CAT_MONTHS_BIRTH_6</th>\n",
       "      <th>CAT_MONTHS_BIRTH_7</th>\n",
       "      <th>CAT_MONTHS_BIRTH_8</th>\n",
       "      <th>CAT_MONTHS_BIRTH_9</th>\n",
       "      <th>CAT_MONTHS_BIRTH_10</th>\n",
       "      <th>CAT_MONTHS_BIRTH_11</th>\n",
       "    </tr>\n",
       "  </thead>\n",
       "  <tbody>\n",
       "    <tr>\n",
       "      <th>307509</th>\n",
       "      <td>20205.0</td>\n",
       "      <td>0.063239</td>\n",
       "      <td>inf</td>\n",
       "      <td>inf</td>\n",
       "      <td>inf</td>\n",
       "      <td>inf</td>\n",
       "      <td>inf</td>\n",
       "      <td>inf</td>\n",
       "      <td>inf</td>\n",
       "      <td>10102.50</td>\n",
       "      <td>...</td>\n",
       "      <td>0</td>\n",
       "      <td>0</td>\n",
       "      <td>0</td>\n",
       "      <td>0</td>\n",
       "      <td>0</td>\n",
       "      <td>0</td>\n",
       "      <td>0</td>\n",
       "      <td>0</td>\n",
       "      <td>1</td>\n",
       "      <td>0</td>\n",
       "    </tr>\n",
       "    <tr>\n",
       "      <th>307510</th>\n",
       "      <td>49117.5</td>\n",
       "      <td>0.072767</td>\n",
       "      <td>inf</td>\n",
       "      <td>inf</td>\n",
       "      <td>2.455875e+04</td>\n",
       "      <td>inf</td>\n",
       "      <td>inf</td>\n",
       "      <td>4.911750e+04</td>\n",
       "      <td>inf</td>\n",
       "      <td>24558.75</td>\n",
       "      <td>...</td>\n",
       "      <td>0</td>\n",
       "      <td>1</td>\n",
       "      <td>0</td>\n",
       "      <td>0</td>\n",
       "      <td>0</td>\n",
       "      <td>0</td>\n",
       "      <td>0</td>\n",
       "      <td>0</td>\n",
       "      <td>0</td>\n",
       "      <td>0</td>\n",
       "    </tr>\n",
       "    <tr>\n",
       "      <th>0</th>\n",
       "      <td>20560.5</td>\n",
       "      <td>0.045690</td>\n",
       "      <td>inf</td>\n",
       "      <td>inf</td>\n",
       "      <td>inf</td>\n",
       "      <td>inf</td>\n",
       "      <td>inf</td>\n",
       "      <td>inf</td>\n",
       "      <td>inf</td>\n",
       "      <td>10280.25</td>\n",
       "      <td>...</td>\n",
       "      <td>0</td>\n",
       "      <td>0</td>\n",
       "      <td>0</td>\n",
       "      <td>0</td>\n",
       "      <td>0</td>\n",
       "      <td>1</td>\n",
       "      <td>0</td>\n",
       "      <td>0</td>\n",
       "      <td>0</td>\n",
       "      <td>0</td>\n",
       "    </tr>\n",
       "    <tr>\n",
       "      <th>1</th>\n",
       "      <td>17370.0</td>\n",
       "      <td>0.096500</td>\n",
       "      <td>inf</td>\n",
       "      <td>inf</td>\n",
       "      <td>inf</td>\n",
       "      <td>inf</td>\n",
       "      <td>inf</td>\n",
       "      <td>5.790000e+03</td>\n",
       "      <td>inf</td>\n",
       "      <td>8685.00</td>\n",
       "      <td>...</td>\n",
       "      <td>0</td>\n",
       "      <td>0</td>\n",
       "      <td>0</td>\n",
       "      <td>0</td>\n",
       "      <td>0</td>\n",
       "      <td>0</td>\n",
       "      <td>0</td>\n",
       "      <td>0</td>\n",
       "      <td>1</td>\n",
       "      <td>0</td>\n",
       "    </tr>\n",
       "    <tr>\n",
       "      <th>2</th>\n",
       "      <td>69777.0</td>\n",
       "      <td>0.110757</td>\n",
       "      <td>inf</td>\n",
       "      <td>inf</td>\n",
       "      <td>inf</td>\n",
       "      <td>6.977700e+04</td>\n",
       "      <td>inf</td>\n",
       "      <td>1.744425e+04</td>\n",
       "      <td>inf</td>\n",
       "      <td>34888.50</td>\n",
       "      <td>...</td>\n",
       "      <td>0</td>\n",
       "      <td>0</td>\n",
       "      <td>0</td>\n",
       "      <td>1</td>\n",
       "      <td>0</td>\n",
       "      <td>0</td>\n",
       "      <td>0</td>\n",
       "      <td>0</td>\n",
       "      <td>0</td>\n",
       "      <td>0</td>\n",
       "    </tr>\n",
       "  </tbody>\n",
       "</table>\n",
       "<p>5 rows × 2757 columns</p>\n",
       "</div>"
      ],
      "text/plain": [
       "        AMT_ANNUITY  AMT_ANNUITY_divide_AMT_GOODS_PRICE  \\\n",
       "307509      20205.0                            0.063239   \n",
       "307510      49117.5                            0.072767   \n",
       "0           20560.5                            0.045690   \n",
       "1           17370.0                            0.096500   \n",
       "2           69777.0                            0.110757   \n",
       "\n",
       "        AMT_ANNUITY_divide_AMT_REQ_CREDIT_BUREAU_DAY  \\\n",
       "307509                                           inf   \n",
       "307510                                           inf   \n",
       "0                                                inf   \n",
       "1                                                inf   \n",
       "2                                                inf   \n",
       "\n",
       "        AMT_ANNUITY_divide_AMT_REQ_CREDIT_BUREAU_HOUR  \\\n",
       "307509                                            inf   \n",
       "307510                                            inf   \n",
       "0                                                 inf   \n",
       "1                                                 inf   \n",
       "2                                                 inf   \n",
       "\n",
       "        AMT_ANNUITY_divide_AMT_REQ_CREDIT_BUREAU_MON  \\\n",
       "307509                                           inf   \n",
       "307510                                  2.455875e+04   \n",
       "0                                                inf   \n",
       "1                                                inf   \n",
       "2                                                inf   \n",
       "\n",
       "        AMT_ANNUITY_divide_AMT_REQ_CREDIT_BUREAU_QRT  \\\n",
       "307509                                           inf   \n",
       "307510                                           inf   \n",
       "0                                                inf   \n",
       "1                                                inf   \n",
       "2                                       6.977700e+04   \n",
       "\n",
       "        AMT_ANNUITY_divide_AMT_REQ_CREDIT_BUREAU_WEEK  \\\n",
       "307509                                            inf   \n",
       "307510                                            inf   \n",
       "0                                                 inf   \n",
       "1                                                 inf   \n",
       "2                                                 inf   \n",
       "\n",
       "        AMT_ANNUITY_divide_AMT_REQ_CREDIT_BUREAU_YEAR  \\\n",
       "307509                                            inf   \n",
       "307510                                   4.911750e+04   \n",
       "0                                                 inf   \n",
       "1                                        5.790000e+03   \n",
       "2                                        1.744425e+04   \n",
       "\n",
       "        AMT_ANNUITY_divide_CNT_CHILDREN  AMT_ANNUITY_divide_CNT_FAM_MEMBERS  \\\n",
       "307509                              inf                            10102.50   \n",
       "307510                              inf                            24558.75   \n",
       "0                                   inf                            10280.25   \n",
       "1                                   inf                             8685.00   \n",
       "2                                   inf                            34888.50   \n",
       "\n",
       "               ...           CAT_MONTHS_BIRTH_2  CAT_MONTHS_BIRTH_3  \\\n",
       "307509         ...                            0                   0   \n",
       "307510         ...                            0                   1   \n",
       "0              ...                            0                   0   \n",
       "1              ...                            0                   0   \n",
       "2              ...                            0                   0   \n",
       "\n",
       "        CAT_MONTHS_BIRTH_4  CAT_MONTHS_BIRTH_5  CAT_MONTHS_BIRTH_6  \\\n",
       "307509                   0                   0                   0   \n",
       "307510                   0                   0                   0   \n",
       "0                        0                   0                   0   \n",
       "1                        0                   0                   0   \n",
       "2                        0                   1                   0   \n",
       "\n",
       "        CAT_MONTHS_BIRTH_7  CAT_MONTHS_BIRTH_8  CAT_MONTHS_BIRTH_9  \\\n",
       "307509                   0                   0                   0   \n",
       "307510                   0                   0                   0   \n",
       "0                        1                   0                   0   \n",
       "1                        0                   0                   0   \n",
       "2                        0                   0                   0   \n",
       "\n",
       "        CAT_MONTHS_BIRTH_10  CAT_MONTHS_BIRTH_11  \n",
       "307509                    1                    0  \n",
       "307510                    0                    0  \n",
       "0                         0                    0  \n",
       "1                         1                    0  \n",
       "2                         0                    0  \n",
       "\n",
       "[5 rows x 2757 columns]"
      ]
     },
     "execution_count": 22,
     "metadata": {},
     "output_type": "execute_result"
    }
   ],
   "source": [
    "df.iloc[train_len-2:train_len+3]"
   ]
  },
  {
   "cell_type": "code",
   "execution_count": 8,
   "metadata": {
    "ExecuteTime": {
     "end_time": "2018-07-13T00:01:29.222604Z",
     "start_time": "2018-07-13T00:01:21.895250Z"
    }
   },
   "outputs": [],
   "source": [
    "import numpy as np\n",
    "df.replace([np.inf, -np.inf], np.nan, inplace=True)"
   ]
  },
  {
   "cell_type": "code",
   "execution_count": 9,
   "metadata": {
    "ExecuteTime": {
     "end_time": "2018-07-13T00:01:48.680749Z",
     "start_time": "2018-07-13T00:01:29.224045Z"
    }
   },
   "outputs": [],
   "source": [
    "null_counts = df.isnull().sum()"
   ]
  },
  {
   "cell_type": "code",
   "execution_count": 10,
   "metadata": {
    "ExecuteTime": {
     "end_time": "2018-07-13T00:01:48.684898Z",
     "start_time": "2018-07-13T00:01:48.682246Z"
    }
   },
   "outputs": [],
   "source": [
    "null_counts = null_counts[null_counts>0]"
   ]
  },
  {
   "cell_type": "code",
   "execution_count": 11,
   "metadata": {
    "ExecuteTime": {
     "end_time": "2018-07-13T00:01:48.700355Z",
     "start_time": "2018-07-13T00:01:48.686066Z"
    }
   },
   "outputs": [
    {
     "name": "stdout",
     "output_type": "stream",
     "text": [
      "AMT_ANNUITY                                         36\n",
      "AMT_ANNUITY_divide_AMT_GOODS_PRICE                 314\n",
      "AMT_ANNUITY_divide_AMT_REQ_CREDIT_BUREAU_DAY    354696\n",
      "dtype: int64\n",
      "=========\n",
      "2549\n"
     ]
    }
   ],
   "source": [
    "print(null_counts[:3])\n",
    "print('=========')\n",
    "print(len(null_counts))"
   ]
  },
  {
   "cell_type": "code",
   "execution_count": 12,
   "metadata": {
    "ExecuteTime": {
     "end_time": "2018-07-13T00:01:48.713753Z",
     "start_time": "2018-07-13T00:01:48.701734Z"
    }
   },
   "outputs": [],
   "source": [
    "null_ratios = null_counts / len(df)"
   ]
  },
  {
   "cell_type": "code",
   "execution_count": 13,
   "metadata": {
    "ExecuteTime": {
     "end_time": "2018-07-13T00:01:48.720734Z",
     "start_time": "2018-07-13T00:01:48.716070Z"
    }
   },
   "outputs": [
    {
     "data": {
      "text/plain": [
       "AMT_ANNUITY                                     0.000101\n",
       "AMT_ANNUITY_divide_AMT_GOODS_PRICE              0.000881\n",
       "AMT_ANNUITY_divide_AMT_REQ_CREDIT_BUREAU_DAY    0.995624\n",
       "dtype: float64"
      ]
     },
     "execution_count": 13,
     "metadata": {},
     "output_type": "execute_result"
    }
   ],
   "source": [
    "null_ratios[:3]"
   ]
  },
  {
   "cell_type": "code",
   "execution_count": 56,
   "metadata": {
    "ExecuteTime": {
     "end_time": "2018-07-13T00:03:05.215959Z",
     "start_time": "2018-07-13T00:03:05.212949Z"
    }
   },
   "outputs": [],
   "source": [
    "null_thresh = 0.2"
   ]
  },
  {
   "cell_type": "code",
   "execution_count": 57,
   "metadata": {
    "ExecuteTime": {
     "end_time": "2018-07-13T00:03:05.901685Z",
     "start_time": "2018-07-13T00:03:05.899422Z"
    }
   },
   "outputs": [],
   "source": [
    "null_cols = null_ratios[null_ratios > null_thresh].index"
   ]
  },
  {
   "cell_type": "code",
   "execution_count": 58,
   "metadata": {
    "ExecuteTime": {
     "end_time": "2018-07-13T00:03:06.505042Z",
     "start_time": "2018-07-13T00:03:06.502362Z"
    }
   },
   "outputs": [
    {
     "data": {
      "text/plain": [
       "(1089, Index(['AMT_ANNUITY_divide_AMT_REQ_CREDIT_BUREAU_DAY',\n",
       "        'AMT_ANNUITY_divide_AMT_REQ_CREDIT_BUREAU_HOUR',\n",
       "        'AMT_ANNUITY_divide_AMT_REQ_CREDIT_BUREAU_MON'],\n",
       "       dtype='object'))"
      ]
     },
     "execution_count": 58,
     "metadata": {},
     "output_type": "execute_result"
    }
   ],
   "source": [
    "len(null_cols), null_cols[:3]"
   ]
  },
  {
   "cell_type": "code",
   "execution_count": 17,
   "metadata": {
    "ExecuteTime": {
     "end_time": "2018-07-13T00:01:50.457864Z",
     "start_time": "2018-07-13T00:01:48.769544Z"
    }
   },
   "outputs": [
    {
     "name": "stdout",
     "output_type": "stream",
     "text": [
      "Columns dropped for being over 20.0% null:\n"
     ]
    }
   ],
   "source": [
    "df.drop(null_cols, axis=1, inplace=True)\n",
    "\n",
    "print('Columns dropped for being over {}% null:'.format(100*null_thresh))"
   ]
  },
  {
   "cell_type": "code",
   "execution_count": 18,
   "metadata": {
    "ExecuteTime": {
     "end_time": "2018-07-13T00:01:50.461793Z",
     "start_time": "2018-07-13T00:01:50.459291Z"
    }
   },
   "outputs": [],
   "source": [
    "categorical_feats = [\"FLAG_OWN_CAR\",\"FLAG_OWN_REALTY\",\"NAME_TYPE_SUITE\",\"NAME_INCOME_TYPE\",\"NAME_EDUCATION_TYPE\",\"NAME_FAMILY_STATUS\",\"NAME_HOUSING_TYPE\",\"OCCUPATION_TYPE\",\"FLAG_DOCUMENT_2\",\"FLAG_DOCUMENT_3\",\"FLAG_DOCUMENT_4\",\"FLAG_DOCUMENT_5\",\"FLAG_DOCUMENT_6\",\"FLAG_DOCUMENT_7\",\"FLAG_DOCUMENT_8\",\"FLAG_DOCUMENT_9\",\"FLAG_DOCUMENT_10\",\"FLAG_DOCUMENT_11\",\"FLAG_DOCUMENT_12\",\"FLAG_DOCUMENT_13\",\"FLAG_DOCUMENT_14\",\"FLAG_DOCUMENT_15\",\"FLAG_DOCUMENT_16\",\"FLAG_DOCUMENT_17\",\"FLAG_DOCUMENT_18\",\"FLAG_DOCUMENT_19\",\"FLAG_DOCUMENT_20\",\"FLAG_DOCUMENT_21\",\"NAME_TYPE_SUITE\"]"
   ]
  },
  {
   "cell_type": "code",
   "execution_count": 19,
   "metadata": {
    "ExecuteTime": {
     "end_time": "2018-07-13T00:01:50.476665Z",
     "start_time": "2018-07-13T00:01:50.462875Z"
    }
   },
   "outputs": [],
   "source": [
    "for col in null_cols:\n",
    "    if col in categorical_feats:\n",
    "        categorical_feats.pop(col) # since cat feats are label encoded, there won't be any missing value\n",
    "        print(col) # expect to print nothing"
   ]
  },
  {
   "cell_type": "code",
   "execution_count": 20,
   "metadata": {
    "ExecuteTime": {
     "end_time": "2018-07-13T00:01:51.482803Z",
     "start_time": "2018-07-13T00:01:50.479643Z"
    }
   },
   "outputs": [],
   "source": [
    "df.fillna(-1, inplace=True)"
   ]
  },
  {
   "cell_type": "code",
   "execution_count": 21,
   "metadata": {
    "ExecuteTime": {
     "end_time": "2018-07-13T00:01:51.487134Z",
     "start_time": "2018-07-13T00:01:51.484260Z"
    }
   },
   "outputs": [
    {
     "data": {
      "text/plain": [
       "(356255, 1589)"
      ]
     },
     "execution_count": 21,
     "metadata": {},
     "output_type": "execute_result"
    }
   ],
   "source": [
    "df.shape"
   ]
  },
  {
   "cell_type": "code",
   "execution_count": 22,
   "metadata": {
    "ExecuteTime": {
     "end_time": "2018-07-13T00:01:51.502969Z",
     "start_time": "2018-07-13T00:01:51.488239Z"
    }
   },
   "outputs": [
    {
     "data": {
      "text/plain": [
       "1560"
      ]
     },
     "execution_count": 22,
     "metadata": {},
     "output_type": "execute_result"
    }
   ],
   "source": [
    "numeric_feats = list(set(df.columns.values) - set(categorical_feats) - set(['TARGET']))\n",
    "\n",
    "len(numeric_feats)"
   ]
  },
  {
   "cell_type": "code",
   "execution_count": 23,
   "metadata": {
    "ExecuteTime": {
     "end_time": "2018-07-13T00:01:51.509907Z",
     "start_time": "2018-07-13T00:01:51.505853Z"
    }
   },
   "outputs": [],
   "source": [
    "# import numpy as np\n",
    "# cat_feats_idx = np.array([df.columns.get_loc(x) for x in categorical_feats])\n",
    "# cat_feat_lookup = pd.DataFrame({'feature': categorical_feats, 'column_index': cat_feats_idx})\n",
    "# cat_feat_lookup.head()"
   ]
  },
  {
   "cell_type": "code",
   "execution_count": 24,
   "metadata": {
    "ExecuteTime": {
     "end_time": "2018-07-13T00:01:51.518106Z",
     "start_time": "2018-07-13T00:01:51.512967Z"
    }
   },
   "outputs": [],
   "source": [
    "# # int_feats_idx = [df.columns.get_loc(x) for x in numeric_feats]\n",
    "# numeric_feats_idx = np.array(\n",
    "#     [df.columns.get_loc(x) \n",
    "#      for x in numeric_feats]\n",
    "# )\n",
    "# numeric_feat_lookup = pd.DataFrame(\n",
    "#     {'feature': numeric_feats, \n",
    "#      'column_index': numeric_feats_idx}\n",
    "# )\n",
    "# numeric_feat_lookup.head()"
   ]
  },
  {
   "cell_type": "markdown",
   "metadata": {},
   "source": [
    "## try different scaler (like: robust scaler)"
   ]
  },
  {
   "cell_type": "code",
   "execution_count": 25,
   "metadata": {
    "ExecuteTime": {
     "end_time": "2018-07-13T00:01:51.681591Z",
     "start_time": "2018-07-13T00:01:51.520930Z"
    }
   },
   "outputs": [],
   "source": [
    "from sklearn.preprocessing import StandardScaler, MinMaxScaler"
   ]
  },
  {
   "cell_type": "markdown",
   "metadata": {
    "ExecuteTime": {
     "end_time": "2018-07-11T20:23:30.836856Z",
     "start_time": "2018-07-11T20:23:30.791446Z"
    }
   },
   "source": [
    "## for col in numeric_feats:\n",
    "    print(col)\n",
    "    scaler.fit_transform((abs(df2[col])+200).values.reshape(-1,1))"
   ]
  },
  {
   "cell_type": "code",
   "execution_count": 26,
   "metadata": {
    "ExecuteTime": {
     "end_time": "2018-07-13T00:01:51.684961Z",
     "start_time": "2018-07-13T00:01:51.683094Z"
    }
   },
   "outputs": [],
   "source": [
    "final_col_names = df.columns\n",
    "# df = df.values"
   ]
  },
  {
   "cell_type": "code",
   "execution_count": 27,
   "metadata": {
    "ExecuteTime": {
     "end_time": "2018-07-13T00:01:51.698720Z",
     "start_time": "2018-07-13T00:01:51.686155Z"
    }
   },
   "outputs": [
    {
     "data": {
      "text/plain": [
       "1589"
      ]
     },
     "execution_count": 27,
     "metadata": {},
     "output_type": "execute_result"
    }
   ],
   "source": [
    "len(final_col_names)"
   ]
  },
  {
   "cell_type": "markdown",
   "metadata": {},
   "source": [
    "## try different percision, like np.float32"
   ]
  },
  {
   "cell_type": "code",
   "execution_count": 28,
   "metadata": {
    "ExecuteTime": {
     "end_time": "2018-07-13T00:01:55.487337Z",
     "start_time": "2018-07-13T00:01:51.700144Z"
    }
   },
   "outputs": [
    {
     "name": "stderr",
     "output_type": "stream",
     "text": [
      "/home/kai/anaconda3/lib/python3.6/site-packages/sklearn/utils/validation.py:475: DataConversionWarning: Data with input dtype int64 was converted to float64 by StandardScaler.\n",
      "  warnings.warn(msg, DataConversionWarning)\n"
     ]
    }
   ],
   "source": [
    "scaler = StandardScaler()\n",
    "for col in numeric_feats:\n",
    "    df[col] = scaler.fit_transform(df[col].values.reshape(-1,1))\n",
    "# df[:, numeric_feats_idx] = scaler.fit_transform(df[:, numeric_feats_idx])"
   ]
  },
  {
   "cell_type": "code",
   "execution_count": 29,
   "metadata": {
    "ExecuteTime": {
     "end_time": "2018-07-13T00:01:55.642286Z",
     "start_time": "2018-07-13T00:01:55.488709Z"
    }
   },
   "outputs": [
    {
     "name": "stderr",
     "output_type": "stream",
     "text": [
      "/home/kai/anaconda3/lib/python3.6/site-packages/sklearn/utils/validation.py:475: DataConversionWarning: Data with input dtype int64 was converted to float64 by MinMaxScaler.\n",
      "  warnings.warn(msg, DataConversionWarning)\n"
     ]
    }
   ],
   "source": [
    "scaler_2 = MinMaxScaler(feature_range=(0, 1))\n",
    "for col in categorical_feats:\n",
    "    df[col] = scaler_2.fit_transform(df[col].values.reshape(-1,1))\n",
    "# df[:, cat_feats_idx] = scaler_2.fit_transform(df[:, cat_feats_idx])"
   ]
  },
  {
   "cell_type": "code",
   "execution_count": 30,
   "metadata": {
    "ExecuteTime": {
     "end_time": "2018-07-13T00:01:55.670874Z",
     "start_time": "2018-07-13T00:01:55.643613Z"
    }
   },
   "outputs": [
    {
     "data": {
      "text/plain": [
       "0"
      ]
     },
     "execution_count": 30,
     "metadata": {},
     "output_type": "execute_result"
    }
   ],
   "source": [
    "import gc\n",
    "gc.collect()"
   ]
  },
  {
   "cell_type": "code",
   "execution_count": 23,
   "metadata": {
    "ExecuteTime": {
     "end_time": "2018-07-16T03:16:11.774342Z",
     "start_time": "2018-07-16T03:16:09.511873Z"
    }
   },
   "outputs": [],
   "source": [
    "train = df[:train_len]\n",
    "test = df[train_len:]"
   ]
  },
  {
   "cell_type": "code",
   "execution_count": 24,
   "metadata": {
    "ExecuteTime": {
     "end_time": "2018-07-16T03:16:26.819959Z",
     "start_time": "2018-07-16T03:16:26.337792Z"
    }
   },
   "outputs": [
    {
     "name": "stderr",
     "output_type": "stream",
     "text": [
      "/home/kai/anaconda3/lib/python3.6/site-packages/pandas/core/frame.py:3694: SettingWithCopyWarning: \n",
      "A value is trying to be set on a copy of a slice from a DataFrame\n",
      "\n",
      "See the caveats in the documentation: http://pandas.pydata.org/pandas-docs/stable/indexing.html#indexing-view-versus-copy\n",
      "  errors=errors)\n"
     ]
    },
    {
     "data": {
      "text/plain": [
       "(48744, 2756)"
      ]
     },
     "execution_count": 24,
     "metadata": {},
     "output_type": "execute_result"
    }
   ],
   "source": [
    "test.drop(['TARGET'], axis=1, inplace=True)\n",
    "test.shape"
   ]
  },
  {
   "cell_type": "code",
   "execution_count": 25,
   "metadata": {
    "ExecuteTime": {
     "end_time": "2018-07-16T03:16:31.706424Z",
     "start_time": "2018-07-16T03:16:31.700657Z"
    }
   },
   "outputs": [
    {
     "data": {
      "text/plain": [
       "((307511, 2757), (48744, 2756))"
      ]
     },
     "execution_count": 25,
     "metadata": {},
     "output_type": "execute_result"
    }
   ],
   "source": [
    "train.shape, test.shape"
   ]
  },
  {
   "cell_type": "code",
   "execution_count": 27,
   "metadata": {
    "ExecuteTime": {
     "end_time": "2018-07-16T03:17:04.002001Z",
     "start_time": "2018-07-16T03:16:48.659360Z"
    }
   },
   "outputs": [],
   "source": [
    "train.to_pickle('data/train_bo2_onehot.pkl')\n",
    "test.to_pickle('data/test_bo2_onehot.pkl')"
   ]
  }
 ],
 "metadata": {
  "kernelspec": {
   "display_name": "Python 3",
   "language": "python",
   "name": "python3"
  },
  "language_info": {
   "codemirror_mode": {
    "name": "ipython",
    "version": 3
   },
   "file_extension": ".py",
   "mimetype": "text/x-python",
   "name": "python",
   "nbconvert_exporter": "python",
   "pygments_lexer": "ipython3",
   "version": "3.6.5"
  },
  "varInspector": {
   "cols": {
    "lenName": 16,
    "lenType": 16,
    "lenVar": 40
   },
   "kernels_config": {
    "python": {
     "delete_cmd_postfix": "",
     "delete_cmd_prefix": "del ",
     "library": "var_list.py",
     "varRefreshCmd": "print(var_dic_list())"
    },
    "r": {
     "delete_cmd_postfix": ") ",
     "delete_cmd_prefix": "rm(",
     "library": "var_list.r",
     "varRefreshCmd": "cat(var_dic_list()) "
    }
   },
   "types_to_exclude": [
    "module",
    "function",
    "builtin_function_or_method",
    "instance",
    "_Feature"
   ],
   "window_display": false
  }
 },
 "nbformat": 4,
 "nbformat_minor": 2
}
