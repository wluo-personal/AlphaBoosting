{
 "cells": [
  {
   "cell_type": "code",
   "execution_count": 1,
   "metadata": {
    "ExecuteTime": {
     "end_time": "2018-07-12T18:23:51.192481Z",
     "start_time": "2018-07-12T18:23:50.996972Z"
    }
   },
   "outputs": [],
   "source": [
    "import pandas as pd"
   ]
  },
  {
   "cell_type": "code",
   "execution_count": 2,
   "metadata": {
    "ExecuteTime": {
     "end_time": "2018-07-12T18:24:29.515731Z",
     "start_time": "2018-07-12T18:24:22.588735Z"
    }
   },
   "outputs": [],
   "source": [
    "train = pd.read_pickle('/home/kai/data/kaggle/homecredit/train_bo2.pkl')\n",
    "test = pd.read_pickle('/home/kai/data/kaggle/homecredit/test_bo2.pkl')"
   ]
  },
  {
   "cell_type": "code",
   "execution_count": 4,
   "metadata": {
    "ExecuteTime": {
     "end_time": "2018-07-12T18:25:28.805429Z",
     "start_time": "2018-07-12T18:25:28.789652Z"
    }
   },
   "outputs": [
    {
     "data": {
      "text/plain": [
       "((307511, 2678), (97488, 2677))"
      ]
     },
     "execution_count": 4,
     "metadata": {},
     "output_type": "execute_result"
    }
   ],
   "source": [
    "train_len = len(train)\n",
    "train.shape, test.shape"
   ]
  },
  {
   "cell_type": "code",
   "execution_count": 6,
   "metadata": {
    "ExecuteTime": {
     "end_time": "2018-07-12T18:27:11.283151Z",
     "start_time": "2018-07-12T18:27:11.256891Z"
    }
   },
   "outputs": [
    {
     "data": {
      "text/html": [
       "<div>\n",
       "<style scoped>\n",
       "    .dataframe tbody tr th:only-of-type {\n",
       "        vertical-align: middle;\n",
       "    }\n",
       "\n",
       "    .dataframe tbody tr th {\n",
       "        vertical-align: top;\n",
       "    }\n",
       "\n",
       "    .dataframe thead th {\n",
       "        text-align: right;\n",
       "    }\n",
       "</style>\n",
       "<table border=\"1\" class=\"dataframe\">\n",
       "  <thead>\n",
       "    <tr style=\"text-align: right;\">\n",
       "      <th></th>\n",
       "      <th>SK_ID_CURR</th>\n",
       "      <th>TARGET</th>\n",
       "      <th>NAME_CONTRACT_TYPE</th>\n",
       "      <th>CODE_GENDER</th>\n",
       "      <th>FLAG_OWN_CAR</th>\n",
       "      <th>FLAG_OWN_REALTY</th>\n",
       "      <th>CNT_CHILDREN</th>\n",
       "      <th>AMT_INCOME_TOTAL</th>\n",
       "      <th>AMT_CREDIT</th>\n",
       "      <th>AMT_ANNUITY</th>\n",
       "      <th>...</th>\n",
       "      <th>inst_agg__DAYS_ENTRY_PAYMENT_standard_error</th>\n",
       "      <th>inst_agg__DAYS_ENTRY_PAYMENT_normed_std</th>\n",
       "      <th>inst_agg__DAYS_ENTRY_PAYMENT_two_third</th>\n",
       "      <th>inst_agg__DAYS_ENTRY_PAYMENT_two_minus_one_third</th>\n",
       "      <th>inst_agg__DAYS_INSTALMENT_trimmed_mean_10_pct</th>\n",
       "      <th>inst_agg__DAYS_INSTALMENT_max_minus_min</th>\n",
       "      <th>inst_agg__DAYS_INSTALMENT_standard_error</th>\n",
       "      <th>inst_agg__DAYS_INSTALMENT_normed_std</th>\n",
       "      <th>inst_agg__DAYS_INSTALMENT_two_third</th>\n",
       "      <th>inst_agg__DAYS_INSTALMENT_two_minus_one_third</th>\n",
       "    </tr>\n",
       "  </thead>\n",
       "  <tbody>\n",
       "    <tr>\n",
       "      <th>0</th>\n",
       "      <td>100002</td>\n",
       "      <td>1.0</td>\n",
       "      <td>0</td>\n",
       "      <td>0</td>\n",
       "      <td>0</td>\n",
       "      <td>0</td>\n",
       "      <td>0</td>\n",
       "      <td>202500.0</td>\n",
       "      <td>406597.5</td>\n",
       "      <td>24700.5</td>\n",
       "      <td>...</td>\n",
       "      <td>39.472923</td>\n",
       "      <td>-0.545490</td>\n",
       "      <td>-224.0</td>\n",
       "      <td>187.99892</td>\n",
       "      <td>-295.000000</td>\n",
       "      <td>540.0</td>\n",
       "      <td>38.729745</td>\n",
       "      <td>-0.572269</td>\n",
       "      <td>-205.0</td>\n",
       "      <td>179.99820</td>\n",
       "    </tr>\n",
       "    <tr>\n",
       "      <th>1</th>\n",
       "      <td>100003</td>\n",
       "      <td>0.0</td>\n",
       "      <td>0</td>\n",
       "      <td>1</td>\n",
       "      <td>0</td>\n",
       "      <td>1</td>\n",
       "      <td>0</td>\n",
       "      <td>270000.0</td>\n",
       "      <td>1293502.5</td>\n",
       "      <td>35698.5</td>\n",
       "      <td>...</td>\n",
       "      <td>151.464783</td>\n",
       "      <td>-0.546679</td>\n",
       "      <td>-719.0</td>\n",
       "      <td>1352.00272</td>\n",
       "      <td>-1369.619048</td>\n",
       "      <td>1774.0</td>\n",
       "      <td>151.490408</td>\n",
       "      <td>-0.549612</td>\n",
       "      <td>-707.0</td>\n",
       "      <td>1363.00096</td>\n",
       "    </tr>\n",
       "  </tbody>\n",
       "</table>\n",
       "<p>2 rows × 2678 columns</p>\n",
       "</div>"
      ],
      "text/plain": [
       "   SK_ID_CURR  TARGET  NAME_CONTRACT_TYPE  CODE_GENDER  FLAG_OWN_CAR  \\\n",
       "0      100002     1.0                   0            0             0   \n",
       "1      100003     0.0                   0            1             0   \n",
       "\n",
       "   FLAG_OWN_REALTY  CNT_CHILDREN  AMT_INCOME_TOTAL  AMT_CREDIT  AMT_ANNUITY  \\\n",
       "0                0             0          202500.0    406597.5      24700.5   \n",
       "1                1             0          270000.0   1293502.5      35698.5   \n",
       "\n",
       "                       ...                        \\\n",
       "0                      ...                         \n",
       "1                      ...                         \n",
       "\n",
       "   inst_agg__DAYS_ENTRY_PAYMENT_standard_error  \\\n",
       "0                                    39.472923   \n",
       "1                                   151.464783   \n",
       "\n",
       "   inst_agg__DAYS_ENTRY_PAYMENT_normed_std  \\\n",
       "0                                -0.545490   \n",
       "1                                -0.546679   \n",
       "\n",
       "   inst_agg__DAYS_ENTRY_PAYMENT_two_third  \\\n",
       "0                                  -224.0   \n",
       "1                                  -719.0   \n",
       "\n",
       "   inst_agg__DAYS_ENTRY_PAYMENT_two_minus_one_third  \\\n",
       "0                                         187.99892   \n",
       "1                                        1352.00272   \n",
       "\n",
       "   inst_agg__DAYS_INSTALMENT_trimmed_mean_10_pct  \\\n",
       "0                                    -295.000000   \n",
       "1                                   -1369.619048   \n",
       "\n",
       "   inst_agg__DAYS_INSTALMENT_max_minus_min  \\\n",
       "0                                    540.0   \n",
       "1                                   1774.0   \n",
       "\n",
       "   inst_agg__DAYS_INSTALMENT_standard_error  \\\n",
       "0                                 38.729745   \n",
       "1                                151.490408   \n",
       "\n",
       "   inst_agg__DAYS_INSTALMENT_normed_std  inst_agg__DAYS_INSTALMENT_two_third  \\\n",
       "0                             -0.572269                               -205.0   \n",
       "1                             -0.549612                               -707.0   \n",
       "\n",
       "   inst_agg__DAYS_INSTALMENT_two_minus_one_third  \n",
       "0                                      179.99820  \n",
       "1                                     1363.00096  \n",
       "\n",
       "[2 rows x 2678 columns]"
      ]
     },
     "execution_count": 6,
     "metadata": {},
     "output_type": "execute_result"
    }
   ],
   "source": [
    "train.head(2)"
   ]
  },
  {
   "cell_type": "code",
   "execution_count": 7,
   "metadata": {
    "ExecuteTime": {
     "end_time": "2018-07-12T18:27:25.526937Z",
     "start_time": "2018-07-12T18:27:19.074855Z"
    }
   },
   "outputs": [
    {
     "name": "stderr",
     "output_type": "stream",
     "text": [
      "/home/kai/anaconda3/lib/python3.6/site-packages/ipykernel_launcher.py:1: FutureWarning: Sorting because non-concatenation axis is not aligned. A future version\n",
      "of pandas will change to not sort by default.\n",
      "\n",
      "To accept the future behavior, pass 'sort=True'.\n",
      "\n",
      "To retain the current behavior and silence the warning, pass sort=False\n",
      "\n",
      "  \"\"\"Entry point for launching an IPython kernel.\n"
     ]
    }
   ],
   "source": [
    "df = pd.concat([train, test])"
   ]
  },
  {
   "cell_type": "code",
   "execution_count": 8,
   "metadata": {
    "ExecuteTime": {
     "end_time": "2018-07-12T18:27:44.414811Z",
     "start_time": "2018-07-12T18:27:44.410079Z"
    }
   },
   "outputs": [
    {
     "data": {
      "text/plain": [
       "(404999, 2678)"
      ]
     },
     "execution_count": 8,
     "metadata": {},
     "output_type": "execute_result"
    }
   ],
   "source": [
    "df.shape"
   ]
  },
  {
   "cell_type": "code",
   "execution_count": 9,
   "metadata": {
    "ExecuteTime": {
     "end_time": "2018-07-12T18:28:01.838232Z",
     "start_time": "2018-07-12T18:28:01.810972Z"
    }
   },
   "outputs": [
    {
     "data": {
      "text/html": [
       "<div>\n",
       "<style scoped>\n",
       "    .dataframe tbody tr th:only-of-type {\n",
       "        vertical-align: middle;\n",
       "    }\n",
       "\n",
       "    .dataframe tbody tr th {\n",
       "        vertical-align: top;\n",
       "    }\n",
       "\n",
       "    .dataframe thead th {\n",
       "        text-align: right;\n",
       "    }\n",
       "</style>\n",
       "<table border=\"1\" class=\"dataframe\">\n",
       "  <thead>\n",
       "    <tr style=\"text-align: right;\">\n",
       "      <th></th>\n",
       "      <th>AMT_ANNUITY</th>\n",
       "      <th>AMT_ANNUITY_divide_AMT_GOODS_PRICE</th>\n",
       "      <th>AMT_ANNUITY_divide_AMT_REQ_CREDIT_BUREAU_DAY</th>\n",
       "      <th>AMT_ANNUITY_divide_AMT_REQ_CREDIT_BUREAU_HOUR</th>\n",
       "      <th>AMT_ANNUITY_divide_AMT_REQ_CREDIT_BUREAU_MON</th>\n",
       "      <th>AMT_ANNUITY_divide_AMT_REQ_CREDIT_BUREAU_QRT</th>\n",
       "      <th>AMT_ANNUITY_divide_AMT_REQ_CREDIT_BUREAU_WEEK</th>\n",
       "      <th>AMT_ANNUITY_divide_AMT_REQ_CREDIT_BUREAU_YEAR</th>\n",
       "      <th>AMT_ANNUITY_divide_CNT_CHILDREN</th>\n",
       "      <th>AMT_ANNUITY_divide_CNT_FAM_MEMBERS</th>\n",
       "      <th>...</th>\n",
       "      <th>unique_NAME_EDUCATION_TYPE_x</th>\n",
       "      <th>unique_NAME_EDUCATION_TYPE_y</th>\n",
       "      <th>unique_NAME_INCOME_TYPE_x</th>\n",
       "      <th>unique_NAME_INCOME_TYPE_y</th>\n",
       "      <th>unique_cnt_install_max</th>\n",
       "      <th>unique_cnt_install_mean</th>\n",
       "      <th>unique_cnt_install_min</th>\n",
       "      <th>unique_cnt_install_std</th>\n",
       "      <th>unique_cnt_install_sum</th>\n",
       "      <th>unique_prev</th>\n",
       "    </tr>\n",
       "  </thead>\n",
       "  <tbody>\n",
       "    <tr>\n",
       "      <th>307509</th>\n",
       "      <td>20205.0</td>\n",
       "      <td>0.063239</td>\n",
       "      <td>inf</td>\n",
       "      <td>inf</td>\n",
       "      <td>inf</td>\n",
       "      <td>inf</td>\n",
       "      <td>inf</td>\n",
       "      <td>inf</td>\n",
       "      <td>inf</td>\n",
       "      <td>10102.50</td>\n",
       "      <td>...</td>\n",
       "      <td>3.0</td>\n",
       "      <td>8.0</td>\n",
       "      <td>5.0</td>\n",
       "      <td>3.0</td>\n",
       "      <td>1.0</td>\n",
       "      <td>1.000000</td>\n",
       "      <td>1.0</td>\n",
       "      <td>0.00000</td>\n",
       "      <td>2.0</td>\n",
       "      <td>2.0</td>\n",
       "    </tr>\n",
       "    <tr>\n",
       "      <th>307510</th>\n",
       "      <td>49117.5</td>\n",
       "      <td>0.072767</td>\n",
       "      <td>inf</td>\n",
       "      <td>inf</td>\n",
       "      <td>2.455875e+04</td>\n",
       "      <td>inf</td>\n",
       "      <td>inf</td>\n",
       "      <td>4.911750e+04</td>\n",
       "      <td>inf</td>\n",
       "      <td>24558.75</td>\n",
       "      <td>...</td>\n",
       "      <td>3.0</td>\n",
       "      <td>8.0</td>\n",
       "      <td>5.0</td>\n",
       "      <td>3.0</td>\n",
       "      <td>2.0</td>\n",
       "      <td>2.000000</td>\n",
       "      <td>2.0</td>\n",
       "      <td>0.00000</td>\n",
       "      <td>12.0</td>\n",
       "      <td>6.0</td>\n",
       "    </tr>\n",
       "    <tr>\n",
       "      <th>0</th>\n",
       "      <td>20560.5</td>\n",
       "      <td>0.045690</td>\n",
       "      <td>inf</td>\n",
       "      <td>inf</td>\n",
       "      <td>inf</td>\n",
       "      <td>inf</td>\n",
       "      <td>inf</td>\n",
       "      <td>inf</td>\n",
       "      <td>inf</td>\n",
       "      <td>10280.25</td>\n",
       "      <td>...</td>\n",
       "      <td>NaN</td>\n",
       "      <td>NaN</td>\n",
       "      <td>NaN</td>\n",
       "      <td>NaN</td>\n",
       "      <td>1.0</td>\n",
       "      <td>1.000000</td>\n",
       "      <td>1.0</td>\n",
       "      <td>0.00000</td>\n",
       "      <td>2.0</td>\n",
       "      <td>2.0</td>\n",
       "    </tr>\n",
       "    <tr>\n",
       "      <th>1</th>\n",
       "      <td>17370.0</td>\n",
       "      <td>0.096500</td>\n",
       "      <td>inf</td>\n",
       "      <td>inf</td>\n",
       "      <td>inf</td>\n",
       "      <td>inf</td>\n",
       "      <td>inf</td>\n",
       "      <td>5.790000e+03</td>\n",
       "      <td>inf</td>\n",
       "      <td>8685.00</td>\n",
       "      <td>...</td>\n",
       "      <td>NaN</td>\n",
       "      <td>NaN</td>\n",
       "      <td>NaN</td>\n",
       "      <td>NaN</td>\n",
       "      <td>2.0</td>\n",
       "      <td>2.000000</td>\n",
       "      <td>2.0</td>\n",
       "      <td>NaN</td>\n",
       "      <td>2.0</td>\n",
       "      <td>1.0</td>\n",
       "    </tr>\n",
       "    <tr>\n",
       "      <th>2</th>\n",
       "      <td>69777.0</td>\n",
       "      <td>0.110757</td>\n",
       "      <td>inf</td>\n",
       "      <td>inf</td>\n",
       "      <td>inf</td>\n",
       "      <td>6.977700e+04</td>\n",
       "      <td>inf</td>\n",
       "      <td>1.744425e+04</td>\n",
       "      <td>inf</td>\n",
       "      <td>34888.50</td>\n",
       "      <td>...</td>\n",
       "      <td>NaN</td>\n",
       "      <td>NaN</td>\n",
       "      <td>NaN</td>\n",
       "      <td>NaN</td>\n",
       "      <td>2.0</td>\n",
       "      <td>1.333333</td>\n",
       "      <td>1.0</td>\n",
       "      <td>0.57735</td>\n",
       "      <td>4.0</td>\n",
       "      <td>3.0</td>\n",
       "    </tr>\n",
       "  </tbody>\n",
       "</table>\n",
       "<p>5 rows × 2678 columns</p>\n",
       "</div>"
      ],
      "text/plain": [
       "        AMT_ANNUITY  AMT_ANNUITY_divide_AMT_GOODS_PRICE  \\\n",
       "307509      20205.0                            0.063239   \n",
       "307510      49117.5                            0.072767   \n",
       "0           20560.5                            0.045690   \n",
       "1           17370.0                            0.096500   \n",
       "2           69777.0                            0.110757   \n",
       "\n",
       "        AMT_ANNUITY_divide_AMT_REQ_CREDIT_BUREAU_DAY  \\\n",
       "307509                                           inf   \n",
       "307510                                           inf   \n",
       "0                                                inf   \n",
       "1                                                inf   \n",
       "2                                                inf   \n",
       "\n",
       "        AMT_ANNUITY_divide_AMT_REQ_CREDIT_BUREAU_HOUR  \\\n",
       "307509                                            inf   \n",
       "307510                                            inf   \n",
       "0                                                 inf   \n",
       "1                                                 inf   \n",
       "2                                                 inf   \n",
       "\n",
       "        AMT_ANNUITY_divide_AMT_REQ_CREDIT_BUREAU_MON  \\\n",
       "307509                                           inf   \n",
       "307510                                  2.455875e+04   \n",
       "0                                                inf   \n",
       "1                                                inf   \n",
       "2                                                inf   \n",
       "\n",
       "        AMT_ANNUITY_divide_AMT_REQ_CREDIT_BUREAU_QRT  \\\n",
       "307509                                           inf   \n",
       "307510                                           inf   \n",
       "0                                                inf   \n",
       "1                                                inf   \n",
       "2                                       6.977700e+04   \n",
       "\n",
       "        AMT_ANNUITY_divide_AMT_REQ_CREDIT_BUREAU_WEEK  \\\n",
       "307509                                            inf   \n",
       "307510                                            inf   \n",
       "0                                                 inf   \n",
       "1                                                 inf   \n",
       "2                                                 inf   \n",
       "\n",
       "        AMT_ANNUITY_divide_AMT_REQ_CREDIT_BUREAU_YEAR  \\\n",
       "307509                                            inf   \n",
       "307510                                   4.911750e+04   \n",
       "0                                                 inf   \n",
       "1                                        5.790000e+03   \n",
       "2                                        1.744425e+04   \n",
       "\n",
       "        AMT_ANNUITY_divide_CNT_CHILDREN  AMT_ANNUITY_divide_CNT_FAM_MEMBERS  \\\n",
       "307509                              inf                            10102.50   \n",
       "307510                              inf                            24558.75   \n",
       "0                                   inf                            10280.25   \n",
       "1                                   inf                             8685.00   \n",
       "2                                   inf                            34888.50   \n",
       "\n",
       "           ...       unique_NAME_EDUCATION_TYPE_x  \\\n",
       "307509     ...                                3.0   \n",
       "307510     ...                                3.0   \n",
       "0          ...                                NaN   \n",
       "1          ...                                NaN   \n",
       "2          ...                                NaN   \n",
       "\n",
       "        unique_NAME_EDUCATION_TYPE_y  unique_NAME_INCOME_TYPE_x  \\\n",
       "307509                           8.0                        5.0   \n",
       "307510                           8.0                        5.0   \n",
       "0                                NaN                        NaN   \n",
       "1                                NaN                        NaN   \n",
       "2                                NaN                        NaN   \n",
       "\n",
       "        unique_NAME_INCOME_TYPE_y  unique_cnt_install_max  \\\n",
       "307509                        3.0                     1.0   \n",
       "307510                        3.0                     2.0   \n",
       "0                             NaN                     1.0   \n",
       "1                             NaN                     2.0   \n",
       "2                             NaN                     2.0   \n",
       "\n",
       "        unique_cnt_install_mean  unique_cnt_install_min  \\\n",
       "307509                 1.000000                     1.0   \n",
       "307510                 2.000000                     2.0   \n",
       "0                      1.000000                     1.0   \n",
       "1                      2.000000                     2.0   \n",
       "2                      1.333333                     1.0   \n",
       "\n",
       "        unique_cnt_install_std  unique_cnt_install_sum  unique_prev  \n",
       "307509                 0.00000                     2.0          2.0  \n",
       "307510                 0.00000                    12.0          6.0  \n",
       "0                      0.00000                     2.0          2.0  \n",
       "1                          NaN                     2.0          1.0  \n",
       "2                      0.57735                     4.0          3.0  \n",
       "\n",
       "[5 rows x 2678 columns]"
      ]
     },
     "execution_count": 9,
     "metadata": {},
     "output_type": "execute_result"
    }
   ],
   "source": [
    "df.iloc[train_len-2:train_len+3]"
   ]
  },
  {
   "cell_type": "code",
   "execution_count": 10,
   "metadata": {
    "ExecuteTime": {
     "end_time": "2018-07-12T19:57:57.696828Z",
     "start_time": "2018-07-12T19:57:53.889313Z"
    }
   },
   "outputs": [],
   "source": [
    "import numpy as np\n",
    "df.replace([np.inf, -np.inf], np.nan, inplace=True)"
   ]
  },
  {
   "cell_type": "code",
   "execution_count": 11,
   "metadata": {
    "ExecuteTime": {
     "end_time": "2018-07-12T19:58:20.236745Z",
     "start_time": "2018-07-12T19:57:59.284385Z"
    }
   },
   "outputs": [],
   "source": [
    "null_counts = df.isnull().sum()"
   ]
  },
  {
   "cell_type": "code",
   "execution_count": 12,
   "metadata": {
    "ExecuteTime": {
     "end_time": "2018-07-12T19:58:22.104301Z",
     "start_time": "2018-07-12T19:58:22.099813Z"
    }
   },
   "outputs": [],
   "source": [
    "null_counts = null_counts[null_counts>0]"
   ]
  },
  {
   "cell_type": "code",
   "execution_count": 13,
   "metadata": {
    "ExecuteTime": {
     "end_time": "2018-07-12T19:58:37.475835Z",
     "start_time": "2018-07-12T19:58:37.470122Z"
    }
   },
   "outputs": [
    {
     "name": "stdout",
     "output_type": "stream",
     "text": [
      "AMT_ANNUITY                                      48780\n",
      "AMT_ANNUITY_divide_AMT_GOODS_PRICE               49058\n",
      "AMT_ANNUITY_divide_AMT_REQ_CREDIT_BUREAU_DAY    403440\n",
      "dtype: int64\n",
      "=========\n",
      "2678\n"
     ]
    }
   ],
   "source": [
    "print(null_counts[:3])\n",
    "print('=========')\n",
    "print(len(null_counts))"
   ]
  },
  {
   "cell_type": "code",
   "execution_count": 14,
   "metadata": {
    "ExecuteTime": {
     "end_time": "2018-07-12T19:58:47.974547Z",
     "start_time": "2018-07-12T19:58:47.950758Z"
    }
   },
   "outputs": [],
   "source": [
    "null_ratios = null_counts / len(df)"
   ]
  },
  {
   "cell_type": "code",
   "execution_count": 15,
   "metadata": {
    "ExecuteTime": {
     "end_time": "2018-07-12T19:58:48.222400Z",
     "start_time": "2018-07-12T19:58:48.219172Z"
    }
   },
   "outputs": [
    {
     "data": {
      "text/plain": [
       "AMT_ANNUITY                                     0.120445\n",
       "AMT_ANNUITY_divide_AMT_GOODS_PRICE              0.121131\n",
       "AMT_ANNUITY_divide_AMT_REQ_CREDIT_BUREAU_DAY    0.996151\n",
       "dtype: float64"
      ]
     },
     "execution_count": 15,
     "metadata": {},
     "output_type": "execute_result"
    }
   ],
   "source": [
    "null_ratios[:3]"
   ]
  },
  {
   "cell_type": "code",
   "execution_count": 16,
   "metadata": {
    "ExecuteTime": {
     "end_time": "2018-07-12T19:59:05.868647Z",
     "start_time": "2018-07-12T19:59:05.865288Z"
    }
   },
   "outputs": [],
   "source": [
    "null_thresh = 0.8"
   ]
  },
  {
   "cell_type": "code",
   "execution_count": 17,
   "metadata": {
    "ExecuteTime": {
     "end_time": "2018-07-12T19:59:06.253417Z",
     "start_time": "2018-07-12T19:59:06.251011Z"
    }
   },
   "outputs": [],
   "source": [
    "null_cols = null_ratios[null_ratios > null_thresh].index"
   ]
  },
  {
   "cell_type": "code",
   "execution_count": 18,
   "metadata": {
    "ExecuteTime": {
     "end_time": "2018-07-12T19:59:06.615363Z",
     "start_time": "2018-07-12T19:59:06.610357Z"
    }
   },
   "outputs": [
    {
     "data": {
      "text/plain": [
       "(290, Index(['AMT_ANNUITY_divide_AMT_REQ_CREDIT_BUREAU_DAY',\n",
       "        'AMT_ANNUITY_divide_AMT_REQ_CREDIT_BUREAU_HOUR',\n",
       "        'AMT_ANNUITY_divide_AMT_REQ_CREDIT_BUREAU_MON'],\n",
       "       dtype='object'))"
      ]
     },
     "execution_count": 18,
     "metadata": {},
     "output_type": "execute_result"
    }
   ],
   "source": [
    "len(null_cols), null_cols[:3]"
   ]
  },
  {
   "cell_type": "code",
   "execution_count": 19,
   "metadata": {
    "ExecuteTime": {
     "end_time": "2018-07-12T19:59:48.333765Z",
     "start_time": "2018-07-12T19:59:44.691202Z"
    }
   },
   "outputs": [
    {
     "name": "stdout",
     "output_type": "stream",
     "text": [
      "Columns dropped for being over 80.0% null:\n"
     ]
    }
   ],
   "source": [
    "df.drop(null_cols, axis=1, inplace=True)\n",
    "\n",
    "print('Columns dropped for being over {}% null:'.format(100*null_thresh))"
   ]
  },
  {
   "cell_type": "code",
   "execution_count": 20,
   "metadata": {
    "ExecuteTime": {
     "end_time": "2018-07-12T19:59:50.370070Z",
     "start_time": "2018-07-12T19:59:50.365346Z"
    }
   },
   "outputs": [],
   "source": [
    "categorical_feats = [\"FLAG_OWN_CAR\",\"FLAG_OWN_REALTY\",\"NAME_TYPE_SUITE\",\"NAME_INCOME_TYPE\",\"NAME_EDUCATION_TYPE\",\"NAME_FAMILY_STATUS\",\"NAME_HOUSING_TYPE\",\"OCCUPATION_TYPE\",\"FLAG_DOCUMENT_2\",\"FLAG_DOCUMENT_3\",\"FLAG_DOCUMENT_4\",\"FLAG_DOCUMENT_5\",\"FLAG_DOCUMENT_6\",\"FLAG_DOCUMENT_7\",\"FLAG_DOCUMENT_8\",\"FLAG_DOCUMENT_9\",\"FLAG_DOCUMENT_10\",\"FLAG_DOCUMENT_11\",\"FLAG_DOCUMENT_12\",\"FLAG_DOCUMENT_13\",\"FLAG_DOCUMENT_14\",\"FLAG_DOCUMENT_15\",\"FLAG_DOCUMENT_16\",\"FLAG_DOCUMENT_17\",\"FLAG_DOCUMENT_18\",\"FLAG_DOCUMENT_19\",\"FLAG_DOCUMENT_20\",\"FLAG_DOCUMENT_21\",\"NAME_TYPE_SUITE\"]"
   ]
  },
  {
   "cell_type": "code",
   "execution_count": 21,
   "metadata": {
    "ExecuteTime": {
     "end_time": "2018-07-12T20:00:19.547473Z",
     "start_time": "2018-07-12T20:00:19.543177Z"
    }
   },
   "outputs": [],
   "source": [
    "for col in null_cols:\n",
    "    if col in categorical_feats:\n",
    "        categorical_feats.pop(col) # since cat feats are label encoded, there won't be any missing value\n",
    "        print(col) # expect to print nothing"
   ]
  },
  {
   "cell_type": "code",
   "execution_count": 22,
   "metadata": {
    "ExecuteTime": {
     "end_time": "2018-07-12T20:00:29.939068Z",
     "start_time": "2018-07-12T20:00:27.666435Z"
    }
   },
   "outputs": [],
   "source": [
    "df.fillna(-1, inplace=True)"
   ]
  },
  {
   "cell_type": "code",
   "execution_count": 23,
   "metadata": {
    "ExecuteTime": {
     "end_time": "2018-07-12T20:00:30.191136Z",
     "start_time": "2018-07-12T20:00:30.188539Z"
    }
   },
   "outputs": [
    {
     "data": {
      "text/plain": [
       "(404999, 2388)"
      ]
     },
     "execution_count": 23,
     "metadata": {},
     "output_type": "execute_result"
    }
   ],
   "source": [
    "df.shape"
   ]
  },
  {
   "cell_type": "code",
   "execution_count": 24,
   "metadata": {
    "ExecuteTime": {
     "end_time": "2018-07-12T20:01:15.654416Z",
     "start_time": "2018-07-12T20:01:15.648008Z"
    }
   },
   "outputs": [
    {
     "data": {
      "text/plain": [
       "2359"
      ]
     },
     "execution_count": 24,
     "metadata": {},
     "output_type": "execute_result"
    }
   ],
   "source": [
    "numeric_feats = list(set(df.columns.values) - set(categorical_feats) - set(['TARGET']))\n",
    "\n",
    "len(numeric_feats)"
   ]
  },
  {
   "cell_type": "code",
   "execution_count": 25,
   "metadata": {
    "ExecuteTime": {
     "end_time": "2018-07-12T20:01:27.240097Z",
     "start_time": "2018-07-12T20:01:27.237004Z"
    }
   },
   "outputs": [],
   "source": [
    "# import numpy as np\n",
    "# cat_feats_idx = np.array([df.columns.get_loc(x) for x in categorical_feats])\n",
    "# cat_feat_lookup = pd.DataFrame({'feature': categorical_feats, 'column_index': cat_feats_idx})\n",
    "# cat_feat_lookup.head()"
   ]
  },
  {
   "cell_type": "code",
   "execution_count": 26,
   "metadata": {
    "ExecuteTime": {
     "end_time": "2018-07-12T20:01:32.017419Z",
     "start_time": "2018-07-12T20:01:32.014030Z"
    }
   },
   "outputs": [],
   "source": [
    "# # int_feats_idx = [df.columns.get_loc(x) for x in numeric_feats]\n",
    "# numeric_feats_idx = np.array(\n",
    "#     [df.columns.get_loc(x) \n",
    "#      for x in numeric_feats]\n",
    "# )\n",
    "# numeric_feat_lookup = pd.DataFrame(\n",
    "#     {'feature': numeric_feats, \n",
    "#      'column_index': numeric_feats_idx}\n",
    "# )\n",
    "# numeric_feat_lookup.head()"
   ]
  },
  {
   "cell_type": "markdown",
   "metadata": {},
   "source": [
    "## try different scaler (like: robust scaler)"
   ]
  },
  {
   "cell_type": "code",
   "execution_count": 27,
   "metadata": {
    "ExecuteTime": {
     "end_time": "2018-07-12T20:01:39.892812Z",
     "start_time": "2018-07-12T20:01:39.665407Z"
    }
   },
   "outputs": [],
   "source": [
    "from sklearn.preprocessing import StandardScaler, MinMaxScaler"
   ]
  },
  {
   "cell_type": "markdown",
   "metadata": {
    "ExecuteTime": {
     "end_time": "2018-07-11T20:23:30.836856Z",
     "start_time": "2018-07-11T20:23:30.791446Z"
    }
   },
   "source": [
    "## for col in numeric_feats:\n",
    "    print(col)\n",
    "    scaler.fit_transform((abs(df2[col])+200).values.reshape(-1,1))"
   ]
  },
  {
   "cell_type": "code",
   "execution_count": 24,
   "metadata": {
    "ExecuteTime": {
     "end_time": "2018-07-11T20:43:18.626457Z",
     "start_time": "2018-07-11T20:43:18.624495Z"
    }
   },
   "outputs": [],
   "source": [
    "final_col_names = df.columns\n",
    "# df = df.values"
   ]
  },
  {
   "cell_type": "code",
   "execution_count": 34,
   "metadata": {
    "ExecuteTime": {
     "end_time": "2018-07-11T20:39:41.049383Z",
     "start_time": "2018-07-11T20:39:41.044182Z"
    }
   },
   "outputs": [
    {
     "data": {
      "text/plain": [
       "2176"
      ]
     },
     "execution_count": 34,
     "metadata": {},
     "output_type": "execute_result"
    }
   ],
   "source": [
    "len(final_col_names)"
   ]
  },
  {
   "cell_type": "markdown",
   "metadata": {},
   "source": [
    "## try different percision, like np.float32"
   ]
  },
  {
   "cell_type": "code",
   "execution_count": 28,
   "metadata": {
    "ExecuteTime": {
     "end_time": "2018-07-12T20:03:39.836241Z",
     "start_time": "2018-07-12T20:03:34.590921Z"
    }
   },
   "outputs": [],
   "source": [
    "scaler = StandardScaler()\n",
    "for col in numeric_feats:\n",
    "    df[col] = scaler.fit_transform(df[col].values.reshape(-1,1))\n",
    "# df[:, numeric_feats_idx] = scaler.fit_transform(df[:, numeric_feats_idx])"
   ]
  },
  {
   "cell_type": "code",
   "execution_count": 29,
   "metadata": {
    "ExecuteTime": {
     "end_time": "2018-07-12T20:03:40.710716Z",
     "start_time": "2018-07-12T20:03:40.657238Z"
    }
   },
   "outputs": [],
   "source": [
    "scaler_2 = MinMaxScaler(feature_range=(0, 1))\n",
    "for col in categorical_feats:\n",
    "    df[col] = scaler_2.fit_transform(df[col].values.reshape(-1,1))\n",
    "# df[:, cat_feats_idx] = scaler_2.fit_transform(df[:, cat_feats_idx])"
   ]
  },
  {
   "cell_type": "code",
   "execution_count": null,
   "metadata": {
    "ExecuteTime": {
     "end_time": "2018-07-11T20:43:18.735474Z",
     "start_time": "2018-07-11T20:42:48.194Z"
    }
   },
   "outputs": [],
   "source": [
    "import gc\n",
    "gc.collect()"
   ]
  },
  {
   "cell_type": "code",
   "execution_count": 31,
   "metadata": {
    "ExecuteTime": {
     "end_time": "2018-07-12T20:04:29.081543Z",
     "start_time": "2018-07-12T20:04:28.858127Z"
    }
   },
   "outputs": [],
   "source": [
    "train = df[:train_len]\n",
    "test = df[train_len:]"
   ]
  },
  {
   "cell_type": "code",
   "execution_count": 32,
   "metadata": {
    "ExecuteTime": {
     "end_time": "2018-07-12T20:04:36.070564Z",
     "start_time": "2018-07-12T20:04:36.065591Z"
    }
   },
   "outputs": [
    {
     "data": {
      "text/plain": [
       "((307511, 2388), (97488, 2388))"
      ]
     },
     "execution_count": 32,
     "metadata": {},
     "output_type": "execute_result"
    }
   ],
   "source": [
    "train.shape, test.shape"
   ]
  },
  {
   "cell_type": "code",
   "execution_count": 35,
   "metadata": {
    "ExecuteTime": {
     "end_time": "2018-07-12T20:05:22.468428Z",
     "start_time": "2018-07-12T20:05:21.823734Z"
    }
   },
   "outputs": [
    {
     "name": "stderr",
     "output_type": "stream",
     "text": [
      "/home/kai/anaconda3/lib/python3.6/site-packages/pandas/core/frame.py:3694: SettingWithCopyWarning: \n",
      "A value is trying to be set on a copy of a slice from a DataFrame\n",
      "\n",
      "See the caveats in the documentation: http://pandas.pydata.org/pandas-docs/stable/indexing.html#indexing-view-versus-copy\n",
      "  errors=errors)\n"
     ]
    },
    {
     "data": {
      "text/plain": [
       "(97488, 2387)"
      ]
     },
     "execution_count": 35,
     "metadata": {},
     "output_type": "execute_result"
    }
   ],
   "source": [
    "test.drop(['TARGET'], axis=1, inplace=True)\n",
    "test.shape"
   ]
  },
  {
   "cell_type": "code",
   "execution_count": 36,
   "metadata": {
    "ExecuteTime": {
     "end_time": "2018-07-12T20:06:40.249765Z",
     "start_time": "2018-07-12T20:06:27.118733Z"
    }
   },
   "outputs": [],
   "source": [
    "train.to_pickle('data/train_bo2_cleaned.pkl')\n",
    "test.to_pickle('data/test_bo2_cleaned.pkl')"
   ]
  },
  {
   "cell_type": "code",
   "execution_count": 41,
   "metadata": {
    "ExecuteTime": {
     "end_time": "2018-07-12T20:38:22.270252Z",
     "start_time": "2018-07-12T20:38:22.211635Z"
    }
   },
   "outputs": [
    {
     "name": "stdout",
     "output_type": "stream",
     "text": [
      "0.0 1.0 3\n",
      "0.0 1.0 3\n",
      "0.0 1.0 8\n",
      "0.0 0.875 8\n",
      "0.0 1.0 6\n",
      "0.0 0.8333333333333333 6\n",
      "0.0 0.9999999999999999 7\n",
      "0.0 1.0 19\n",
      "0.0 0.5 2\n",
      "0.0 1.0 3\n",
      "0.0 1.0 3\n",
      "0.0 1.0 3\n",
      "0.0 1.0 3\n",
      "0.0 1.0 3\n",
      "0.0 1.0 3\n",
      "0.0 1.0 3\n",
      "0.0 0.5 2\n",
      "0.0 1.0 3\n",
      "0.0 0.5 2\n",
      "0.0 0.5 2\n",
      "0.0 0.5 2\n",
      "0.0 0.5 2\n",
      "0.0 0.5 2\n",
      "0.0 0.5 2\n",
      "0.0 1.0 3\n",
      "0.0 0.5 2\n",
      "0.0 0.5 2\n",
      "0.0 0.5 2\n",
      "0.0 1.0 8\n"
     ]
    }
   ],
   "source": [
    "for col in categorical_feats:\n",
    "    print(test[col].min(), test[col].max(), test[col].nunique())"
   ]
  },
  {
   "cell_type": "code",
   "execution_count": null,
   "metadata": {},
   "outputs": [],
   "source": []
  }
 ],
 "metadata": {
  "kernelspec": {
   "display_name": "Python 3",
   "language": "python",
   "name": "python3"
  },
  "language_info": {
   "codemirror_mode": {
    "name": "ipython",
    "version": 3
   },
   "file_extension": ".py",
   "mimetype": "text/x-python",
   "name": "python",
   "nbconvert_exporter": "python",
   "pygments_lexer": "ipython3",
   "version": "3.6.5"
  },
  "varInspector": {
   "cols": {
    "lenName": 16,
    "lenType": 16,
    "lenVar": 40
   },
   "kernels_config": {
    "python": {
     "delete_cmd_postfix": "",
     "delete_cmd_prefix": "del ",
     "library": "var_list.py",
     "varRefreshCmd": "print(var_dic_list())"
    },
    "r": {
     "delete_cmd_postfix": ") ",
     "delete_cmd_prefix": "rm(",
     "library": "var_list.r",
     "varRefreshCmd": "cat(var_dic_list()) "
    }
   },
   "types_to_exclude": [
    "module",
    "function",
    "builtin_function_or_method",
    "instance",
    "_Feature"
   ],
   "window_display": false
  }
 },
 "nbformat": 4,
 "nbformat_minor": 2
}
