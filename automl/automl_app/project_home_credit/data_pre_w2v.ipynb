{
 "cells": [
  {
   "cell_type": "code",
   "execution_count": 1,
   "metadata": {
    "ExecuteTime": {
     "end_time": "2018-07-18T00:19:16.857890Z",
     "start_time": "2018-07-18T00:19:16.428523Z"
    }
   },
   "outputs": [],
   "source": [
    "import pandas as pd\n",
    "from gensim.models.word2vec import Word2Vec\n",
    "from random import shuffle\n",
    "import copy"
   ]
  },
  {
   "cell_type": "code",
   "execution_count": 3,
   "metadata": {
    "ExecuteTime": {
     "end_time": "2018-07-18T00:20:13.436964Z",
     "start_time": "2018-07-18T00:20:01.881329Z"
    }
   },
   "outputs": [],
   "source": [
    "train = pd.read_pickle('data/train_bo2.pkl')\n",
    "test = pd.read_pickle('data/test_bo2.pkl')\n",
    "data = pd.concat([train, test], sort=True)"
   ]
  },
  {
   "cell_type": "code",
   "execution_count": 4,
   "metadata": {
    "ExecuteTime": {
     "end_time": "2018-07-18T00:20:16.137887Z",
     "start_time": "2018-07-18T00:20:16.122862Z"
    }
   },
   "outputs": [
    {
     "data": {
      "text/plain": [
       "(356255, 2678)"
      ]
     },
     "execution_count": 4,
     "metadata": {},
     "output_type": "execute_result"
    }
   ],
   "source": [
    "data.shape"
   ]
  },
  {
   "cell_type": "code",
   "execution_count": 5,
   "metadata": {
    "ExecuteTime": {
     "end_time": "2018-07-18T00:21:03.149495Z",
     "start_time": "2018-07-18T00:21:03.144299Z"
    }
   },
   "outputs": [],
   "source": [
    "features = [\"FLAG_OWN_CAR\",\"FLAG_OWN_REALTY\",\"NAME_TYPE_SUITE\",\"NAME_INCOME_TYPE\",\"NAME_EDUCATION_TYPE\",\"NAME_FAMILY_STATUS\",\"NAME_HOUSING_TYPE\", \"OCCUPATION_TYPE\",\"FLAG_DOCUMENT_2\",\"FLAG_DOCUMENT_3\",\"FLAG_DOCUMENT_4\",\"FLAG_DOCUMENT_5\",\"FLAG_DOCUMENT_6\",\"FLAG_DOCUMENT_7\",\"FLAG_DOCUMENT_8\",\"FLAG_DOCUMENT_9\",\"FLAG_DOCUMENT_10\",\"FLAG_DOCUMENT_11\",\"FLAG_DOCUMENT_12\", \"FLAG_DOCUMENT_13\",\"FLAG_DOCUMENT_14\",\"FLAG_DOCUMENT_15\",\"FLAG_DOCUMENT_16\",\"FLAG_DOCUMENT_17\",\"FLAG_DOCUMENT_18\", \"FLAG_DOCUMENT_19\",\"FLAG_DOCUMENT_20\",\"FLAG_DOCUMENT_21\", \"CAT_MONTHS_BIRTH\"]"
   ]
  },
  {
   "cell_type": "code",
   "execution_count": 6,
   "metadata": {
    "ExecuteTime": {
     "end_time": "2018-07-18T00:21:52.810082Z",
     "start_time": "2018-07-18T00:21:52.766980Z"
    }
   },
   "outputs": [],
   "source": [
    "X_train = train[features]\n",
    "X_test = test[features]"
   ]
  },
  {
   "cell_type": "code",
   "execution_count": 7,
   "metadata": {
    "ExecuteTime": {
     "end_time": "2018-07-18T00:21:59.250273Z",
     "start_time": "2018-07-18T00:21:59.244598Z"
    }
   },
   "outputs": [
    {
     "data": {
      "text/plain": [
       "((307511, 29), (48744, 29))"
      ]
     },
     "execution_count": 7,
     "metadata": {},
     "output_type": "execute_result"
    }
   ],
   "source": [
    "X_train.shape, X_test.shape"
   ]
  },
  {
   "cell_type": "code",
   "execution_count": 19,
   "metadata": {
    "ExecuteTime": {
     "end_time": "2018-07-18T00:24:45.826161Z",
     "start_time": "2018-07-18T00:24:45.822991Z"
    }
   },
   "outputs": [],
   "source": [
    "size = 3\n",
    "window = 8"
   ]
  },
  {
   "cell_type": "code",
   "execution_count": 9,
   "metadata": {
    "ExecuteTime": {
     "end_time": "2018-07-18T00:22:24.661631Z",
     "start_time": "2018-07-18T00:22:23.460633Z"
    }
   },
   "outputs": [],
   "source": [
    "x_w2v = copy.deepcopy(data[features])"
   ]
  },
  {
   "cell_type": "code",
   "execution_count": 10,
   "metadata": {
    "ExecuteTime": {
     "end_time": "2018-07-18T00:22:25.851156Z",
     "start_time": "2018-07-18T00:22:25.845862Z"
    }
   },
   "outputs": [
    {
     "data": {
      "text/plain": [
       "pandas.core.frame.DataFrame"
      ]
     },
     "execution_count": 10,
     "metadata": {},
     "output_type": "execute_result"
    }
   ],
   "source": [
    "type(x_w2v)"
   ]
  },
  {
   "cell_type": "code",
   "execution_count": 11,
   "metadata": {
    "ExecuteTime": {
     "end_time": "2018-07-18T00:22:41.449836Z",
     "start_time": "2018-07-18T00:22:41.445491Z"
    }
   },
   "outputs": [
    {
     "name": "stdout",
     "output_type": "stream",
     "text": [
      "['FLAG_OWN_CAR', 'FLAG_OWN_REALTY', 'NAME_TYPE_SUITE', 'NAME_INCOME_TYPE', 'NAME_EDUCATION_TYPE', 'NAME_FAMILY_STATUS', 'NAME_HOUSING_TYPE', 'OCCUPATION_TYPE', 'FLAG_DOCUMENT_2', 'FLAG_DOCUMENT_3', 'FLAG_DOCUMENT_4', 'FLAG_DOCUMENT_5', 'FLAG_DOCUMENT_6', 'FLAG_DOCUMENT_7', 'FLAG_DOCUMENT_8', 'FLAG_DOCUMENT_9', 'FLAG_DOCUMENT_10', 'FLAG_DOCUMENT_11', 'FLAG_DOCUMENT_12', 'FLAG_DOCUMENT_13', 'FLAG_DOCUMENT_14', 'FLAG_DOCUMENT_15', 'FLAG_DOCUMENT_16', 'FLAG_DOCUMENT_17', 'FLAG_DOCUMENT_18', 'FLAG_DOCUMENT_19', 'FLAG_DOCUMENT_20', 'FLAG_DOCUMENT_21', 'CAT_MONTHS_BIRTH']\n"
     ]
    }
   ],
   "source": [
    "names = list(x_w2v.columns.values)\n",
    "print(names)"
   ]
  },
  {
   "cell_type": "code",
   "execution_count": 12,
   "metadata": {
    "ExecuteTime": {
     "end_time": "2018-07-18T00:23:02.823657Z",
     "start_time": "2018-07-18T00:23:02.801259Z"
    }
   },
   "outputs": [
    {
     "data": {
      "text/html": [
       "<div>\n",
       "<style scoped>\n",
       "    .dataframe tbody tr th:only-of-type {\n",
       "        vertical-align: middle;\n",
       "    }\n",
       "\n",
       "    .dataframe tbody tr th {\n",
       "        vertical-align: top;\n",
       "    }\n",
       "\n",
       "    .dataframe thead th {\n",
       "        text-align: right;\n",
       "    }\n",
       "</style>\n",
       "<table border=\"1\" class=\"dataframe\">\n",
       "  <thead>\n",
       "    <tr style=\"text-align: right;\">\n",
       "      <th></th>\n",
       "      <th>FLAG_OWN_CAR</th>\n",
       "      <th>FLAG_OWN_REALTY</th>\n",
       "      <th>NAME_TYPE_SUITE</th>\n",
       "      <th>NAME_INCOME_TYPE</th>\n",
       "      <th>NAME_EDUCATION_TYPE</th>\n",
       "      <th>NAME_FAMILY_STATUS</th>\n",
       "      <th>NAME_HOUSING_TYPE</th>\n",
       "      <th>OCCUPATION_TYPE</th>\n",
       "      <th>FLAG_DOCUMENT_2</th>\n",
       "      <th>FLAG_DOCUMENT_3</th>\n",
       "      <th>...</th>\n",
       "      <th>FLAG_DOCUMENT_13</th>\n",
       "      <th>FLAG_DOCUMENT_14</th>\n",
       "      <th>FLAG_DOCUMENT_15</th>\n",
       "      <th>FLAG_DOCUMENT_16</th>\n",
       "      <th>FLAG_DOCUMENT_17</th>\n",
       "      <th>FLAG_DOCUMENT_18</th>\n",
       "      <th>FLAG_DOCUMENT_19</th>\n",
       "      <th>FLAG_DOCUMENT_20</th>\n",
       "      <th>FLAG_DOCUMENT_21</th>\n",
       "      <th>CAT_MONTHS_BIRTH</th>\n",
       "    </tr>\n",
       "  </thead>\n",
       "  <tbody>\n",
       "    <tr>\n",
       "      <th>0</th>\n",
       "      <td>0</td>\n",
       "      <td>0</td>\n",
       "      <td>0</td>\n",
       "      <td>0</td>\n",
       "      <td>0</td>\n",
       "      <td>0</td>\n",
       "      <td>0</td>\n",
       "      <td>0</td>\n",
       "      <td>0</td>\n",
       "      <td>1</td>\n",
       "      <td>...</td>\n",
       "      <td>0</td>\n",
       "      <td>0</td>\n",
       "      <td>0</td>\n",
       "      <td>0</td>\n",
       "      <td>0</td>\n",
       "      <td>0</td>\n",
       "      <td>0</td>\n",
       "      <td>0</td>\n",
       "      <td>0</td>\n",
       "      <td>9</td>\n",
       "    </tr>\n",
       "    <tr>\n",
       "      <th>1</th>\n",
       "      <td>0</td>\n",
       "      <td>1</td>\n",
       "      <td>1</td>\n",
       "      <td>1</td>\n",
       "      <td>1</td>\n",
       "      <td>1</td>\n",
       "      <td>0</td>\n",
       "      <td>1</td>\n",
       "      <td>0</td>\n",
       "      <td>1</td>\n",
       "      <td>...</td>\n",
       "      <td>0</td>\n",
       "      <td>0</td>\n",
       "      <td>0</td>\n",
       "      <td>0</td>\n",
       "      <td>0</td>\n",
       "      <td>0</td>\n",
       "      <td>0</td>\n",
       "      <td>0</td>\n",
       "      <td>0</td>\n",
       "      <td>6</td>\n",
       "    </tr>\n",
       "  </tbody>\n",
       "</table>\n",
       "<p>2 rows × 29 columns</p>\n",
       "</div>"
      ],
      "text/plain": [
       "   FLAG_OWN_CAR  FLAG_OWN_REALTY  NAME_TYPE_SUITE  NAME_INCOME_TYPE  \\\n",
       "0             0                0                0                 0   \n",
       "1             0                1                1                 1   \n",
       "\n",
       "   NAME_EDUCATION_TYPE  NAME_FAMILY_STATUS  NAME_HOUSING_TYPE  \\\n",
       "0                    0                   0                  0   \n",
       "1                    1                   1                  0   \n",
       "\n",
       "   OCCUPATION_TYPE  FLAG_DOCUMENT_2  FLAG_DOCUMENT_3        ...         \\\n",
       "0                0                0                1        ...          \n",
       "1                1                0                1        ...          \n",
       "\n",
       "   FLAG_DOCUMENT_13  FLAG_DOCUMENT_14  FLAG_DOCUMENT_15  FLAG_DOCUMENT_16  \\\n",
       "0                 0                 0                 0                 0   \n",
       "1                 0                 0                 0                 0   \n",
       "\n",
       "   FLAG_DOCUMENT_17  FLAG_DOCUMENT_18  FLAG_DOCUMENT_19  FLAG_DOCUMENT_20  \\\n",
       "0                 0                 0                 0                 0   \n",
       "1                 0                 0                 0                 0   \n",
       "\n",
       "   FLAG_DOCUMENT_21  CAT_MONTHS_BIRTH  \n",
       "0                 0                 9  \n",
       "1                 0                 6  \n",
       "\n",
       "[2 rows x 29 columns]"
      ]
     },
     "execution_count": 12,
     "metadata": {},
     "output_type": "execute_result"
    }
   ],
   "source": [
    "x_w2v.head(2)"
   ]
  },
  {
   "cell_type": "code",
   "execution_count": 13,
   "metadata": {
    "ExecuteTime": {
     "end_time": "2018-07-18T00:23:07.322260Z",
     "start_time": "2018-07-18T00:23:07.171305Z"
    }
   },
   "outputs": [],
   "source": [
    "for i in names:\n",
    "    x_w2v[i]=x_w2v[i].astype('category')\n",
    "    x_w2v[i].cat.categories = [\"Feature %s %s\" % (i,g) for g in x_w2v[i].cat.categories]"
   ]
  },
  {
   "cell_type": "code",
   "execution_count": 14,
   "metadata": {
    "ExecuteTime": {
     "end_time": "2018-07-18T00:23:14.403571Z",
     "start_time": "2018-07-18T00:23:14.366713Z"
    }
   },
   "outputs": [
    {
     "data": {
      "text/html": [
       "<div>\n",
       "<style scoped>\n",
       "    .dataframe tbody tr th:only-of-type {\n",
       "        vertical-align: middle;\n",
       "    }\n",
       "\n",
       "    .dataframe tbody tr th {\n",
       "        vertical-align: top;\n",
       "    }\n",
       "\n",
       "    .dataframe thead th {\n",
       "        text-align: right;\n",
       "    }\n",
       "</style>\n",
       "<table border=\"1\" class=\"dataframe\">\n",
       "  <thead>\n",
       "    <tr style=\"text-align: right;\">\n",
       "      <th></th>\n",
       "      <th>FLAG_OWN_CAR</th>\n",
       "      <th>FLAG_OWN_REALTY</th>\n",
       "      <th>NAME_TYPE_SUITE</th>\n",
       "      <th>NAME_INCOME_TYPE</th>\n",
       "      <th>NAME_EDUCATION_TYPE</th>\n",
       "      <th>NAME_FAMILY_STATUS</th>\n",
       "      <th>NAME_HOUSING_TYPE</th>\n",
       "      <th>OCCUPATION_TYPE</th>\n",
       "      <th>FLAG_DOCUMENT_2</th>\n",
       "      <th>FLAG_DOCUMENT_3</th>\n",
       "      <th>...</th>\n",
       "      <th>FLAG_DOCUMENT_13</th>\n",
       "      <th>FLAG_DOCUMENT_14</th>\n",
       "      <th>FLAG_DOCUMENT_15</th>\n",
       "      <th>FLAG_DOCUMENT_16</th>\n",
       "      <th>FLAG_DOCUMENT_17</th>\n",
       "      <th>FLAG_DOCUMENT_18</th>\n",
       "      <th>FLAG_DOCUMENT_19</th>\n",
       "      <th>FLAG_DOCUMENT_20</th>\n",
       "      <th>FLAG_DOCUMENT_21</th>\n",
       "      <th>CAT_MONTHS_BIRTH</th>\n",
       "    </tr>\n",
       "  </thead>\n",
       "  <tbody>\n",
       "    <tr>\n",
       "      <th>0</th>\n",
       "      <td>Feature FLAG_OWN_CAR 0</td>\n",
       "      <td>Feature FLAG_OWN_REALTY 0</td>\n",
       "      <td>Feature NAME_TYPE_SUITE 0</td>\n",
       "      <td>Feature NAME_INCOME_TYPE 0</td>\n",
       "      <td>Feature NAME_EDUCATION_TYPE 0</td>\n",
       "      <td>Feature NAME_FAMILY_STATUS 0</td>\n",
       "      <td>Feature NAME_HOUSING_TYPE 0</td>\n",
       "      <td>Feature OCCUPATION_TYPE 0</td>\n",
       "      <td>Feature FLAG_DOCUMENT_2 0</td>\n",
       "      <td>Feature FLAG_DOCUMENT_3 1</td>\n",
       "      <td>...</td>\n",
       "      <td>Feature FLAG_DOCUMENT_13 0</td>\n",
       "      <td>Feature FLAG_DOCUMENT_14 0</td>\n",
       "      <td>Feature FLAG_DOCUMENT_15 0</td>\n",
       "      <td>Feature FLAG_DOCUMENT_16 0</td>\n",
       "      <td>Feature FLAG_DOCUMENT_17 0</td>\n",
       "      <td>Feature FLAG_DOCUMENT_18 0</td>\n",
       "      <td>Feature FLAG_DOCUMENT_19 0</td>\n",
       "      <td>Feature FLAG_DOCUMENT_20 0</td>\n",
       "      <td>Feature FLAG_DOCUMENT_21 0</td>\n",
       "      <td>Feature CAT_MONTHS_BIRTH 9</td>\n",
       "    </tr>\n",
       "    <tr>\n",
       "      <th>1</th>\n",
       "      <td>Feature FLAG_OWN_CAR 0</td>\n",
       "      <td>Feature FLAG_OWN_REALTY 1</td>\n",
       "      <td>Feature NAME_TYPE_SUITE 1</td>\n",
       "      <td>Feature NAME_INCOME_TYPE 1</td>\n",
       "      <td>Feature NAME_EDUCATION_TYPE 1</td>\n",
       "      <td>Feature NAME_FAMILY_STATUS 1</td>\n",
       "      <td>Feature NAME_HOUSING_TYPE 0</td>\n",
       "      <td>Feature OCCUPATION_TYPE 1</td>\n",
       "      <td>Feature FLAG_DOCUMENT_2 0</td>\n",
       "      <td>Feature FLAG_DOCUMENT_3 1</td>\n",
       "      <td>...</td>\n",
       "      <td>Feature FLAG_DOCUMENT_13 0</td>\n",
       "      <td>Feature FLAG_DOCUMENT_14 0</td>\n",
       "      <td>Feature FLAG_DOCUMENT_15 0</td>\n",
       "      <td>Feature FLAG_DOCUMENT_16 0</td>\n",
       "      <td>Feature FLAG_DOCUMENT_17 0</td>\n",
       "      <td>Feature FLAG_DOCUMENT_18 0</td>\n",
       "      <td>Feature FLAG_DOCUMENT_19 0</td>\n",
       "      <td>Feature FLAG_DOCUMENT_20 0</td>\n",
       "      <td>Feature FLAG_DOCUMENT_21 0</td>\n",
       "      <td>Feature CAT_MONTHS_BIRTH 6</td>\n",
       "    </tr>\n",
       "  </tbody>\n",
       "</table>\n",
       "<p>2 rows × 29 columns</p>\n",
       "</div>"
      ],
      "text/plain": [
       "             FLAG_OWN_CAR            FLAG_OWN_REALTY  \\\n",
       "0  Feature FLAG_OWN_CAR 0  Feature FLAG_OWN_REALTY 0   \n",
       "1  Feature FLAG_OWN_CAR 0  Feature FLAG_OWN_REALTY 1   \n",
       "\n",
       "             NAME_TYPE_SUITE            NAME_INCOME_TYPE  \\\n",
       "0  Feature NAME_TYPE_SUITE 0  Feature NAME_INCOME_TYPE 0   \n",
       "1  Feature NAME_TYPE_SUITE 1  Feature NAME_INCOME_TYPE 1   \n",
       "\n",
       "             NAME_EDUCATION_TYPE            NAME_FAMILY_STATUS  \\\n",
       "0  Feature NAME_EDUCATION_TYPE 0  Feature NAME_FAMILY_STATUS 0   \n",
       "1  Feature NAME_EDUCATION_TYPE 1  Feature NAME_FAMILY_STATUS 1   \n",
       "\n",
       "             NAME_HOUSING_TYPE            OCCUPATION_TYPE  \\\n",
       "0  Feature NAME_HOUSING_TYPE 0  Feature OCCUPATION_TYPE 0   \n",
       "1  Feature NAME_HOUSING_TYPE 0  Feature OCCUPATION_TYPE 1   \n",
       "\n",
       "             FLAG_DOCUMENT_2            FLAG_DOCUMENT_3  \\\n",
       "0  Feature FLAG_DOCUMENT_2 0  Feature FLAG_DOCUMENT_3 1   \n",
       "1  Feature FLAG_DOCUMENT_2 0  Feature FLAG_DOCUMENT_3 1   \n",
       "\n",
       "              ...                        FLAG_DOCUMENT_13  \\\n",
       "0             ...              Feature FLAG_DOCUMENT_13 0   \n",
       "1             ...              Feature FLAG_DOCUMENT_13 0   \n",
       "\n",
       "             FLAG_DOCUMENT_14            FLAG_DOCUMENT_15  \\\n",
       "0  Feature FLAG_DOCUMENT_14 0  Feature FLAG_DOCUMENT_15 0   \n",
       "1  Feature FLAG_DOCUMENT_14 0  Feature FLAG_DOCUMENT_15 0   \n",
       "\n",
       "             FLAG_DOCUMENT_16            FLAG_DOCUMENT_17  \\\n",
       "0  Feature FLAG_DOCUMENT_16 0  Feature FLAG_DOCUMENT_17 0   \n",
       "1  Feature FLAG_DOCUMENT_16 0  Feature FLAG_DOCUMENT_17 0   \n",
       "\n",
       "             FLAG_DOCUMENT_18            FLAG_DOCUMENT_19  \\\n",
       "0  Feature FLAG_DOCUMENT_18 0  Feature FLAG_DOCUMENT_19 0   \n",
       "1  Feature FLAG_DOCUMENT_18 0  Feature FLAG_DOCUMENT_19 0   \n",
       "\n",
       "             FLAG_DOCUMENT_20            FLAG_DOCUMENT_21  \\\n",
       "0  Feature FLAG_DOCUMENT_20 0  Feature FLAG_DOCUMENT_21 0   \n",
       "1  Feature FLAG_DOCUMENT_20 0  Feature FLAG_DOCUMENT_21 0   \n",
       "\n",
       "             CAT_MONTHS_BIRTH  \n",
       "0  Feature CAT_MONTHS_BIRTH 9  \n",
       "1  Feature CAT_MONTHS_BIRTH 6  \n",
       "\n",
       "[2 rows x 29 columns]"
      ]
     },
     "execution_count": 14,
     "metadata": {},
     "output_type": "execute_result"
    }
   ],
   "source": [
    "x_w2v.head(2)"
   ]
  },
  {
   "cell_type": "code",
   "execution_count": 15,
   "metadata": {
    "ExecuteTime": {
     "end_time": "2018-07-18T00:23:28.028076Z",
     "start_time": "2018-07-18T00:23:27.463241Z"
    }
   },
   "outputs": [],
   "source": [
    "x_w2v = x_w2v.values.tolist()"
   ]
  },
  {
   "cell_type": "code",
   "execution_count": 16,
   "metadata": {
    "ExecuteTime": {
     "end_time": "2018-07-18T00:23:34.701397Z",
     "start_time": "2018-07-18T00:23:30.432456Z"
    }
   },
   "outputs": [],
   "source": [
    "for i in x_w2v:\n",
    "    shuffle(i)"
   ]
  },
  {
   "cell_type": "code",
   "execution_count": 18,
   "metadata": {
    "ExecuteTime": {
     "end_time": "2018-07-18T00:24:26.927627Z",
     "start_time": "2018-07-18T00:24:26.882556Z"
    }
   },
   "outputs": [
    {
     "name": "stdout",
     "output_type": "stream",
     "text": [
      "2\n",
      "2\n",
      "8\n",
      "8\n",
      "5\n",
      "6\n",
      "6\n",
      "19\n",
      "2\n",
      "2\n",
      "2\n",
      "2\n",
      "2\n",
      "2\n",
      "2\n",
      "2\n",
      "2\n",
      "2\n",
      "2\n",
      "2\n",
      "2\n",
      "2\n",
      "2\n",
      "2\n",
      "2\n",
      "2\n",
      "2\n",
      "2\n",
      "12\n"
     ]
    }
   ],
   "source": [
    "for col in features:\n",
    "    print(data[col].nunique())"
   ]
  },
  {
   "cell_type": "code",
   "execution_count": 20,
   "metadata": {
    "ExecuteTime": {
     "end_time": "2018-07-18T00:25:59.024366Z",
     "start_time": "2018-07-18T00:25:49.262297Z"
    }
   },
   "outputs": [],
   "source": [
    "w2v = Word2Vec(x_w2v,size=size,window=window)"
   ]
  },
  {
   "cell_type": "code",
   "execution_count": 21,
   "metadata": {
    "ExecuteTime": {
     "end_time": "2018-07-18T00:26:06.119212Z",
     "start_time": "2018-07-18T00:26:06.112695Z"
    }
   },
   "outputs": [],
   "source": [
    "X_train_w2v = copy.copy(X_train)\n",
    "X_test_w2v = copy.copy(X_test)"
   ]
  },
  {
   "cell_type": "code",
   "execution_count": 22,
   "metadata": {
    "ExecuteTime": {
     "end_time": "2018-07-18T00:26:08.871010Z",
     "start_time": "2018-07-18T00:26:08.861248Z"
    }
   },
   "outputs": [
    {
     "data": {
      "text/html": [
       "<div>\n",
       "<style scoped>\n",
       "    .dataframe tbody tr th:only-of-type {\n",
       "        vertical-align: middle;\n",
       "    }\n",
       "\n",
       "    .dataframe tbody tr th {\n",
       "        vertical-align: top;\n",
       "    }\n",
       "\n",
       "    .dataframe thead th {\n",
       "        text-align: right;\n",
       "    }\n",
       "</style>\n",
       "<table border=\"1\" class=\"dataframe\">\n",
       "  <thead>\n",
       "    <tr style=\"text-align: right;\">\n",
       "      <th></th>\n",
       "      <th>FLAG_OWN_CAR</th>\n",
       "      <th>FLAG_OWN_REALTY</th>\n",
       "      <th>NAME_TYPE_SUITE</th>\n",
       "      <th>NAME_INCOME_TYPE</th>\n",
       "      <th>NAME_EDUCATION_TYPE</th>\n",
       "      <th>NAME_FAMILY_STATUS</th>\n",
       "      <th>NAME_HOUSING_TYPE</th>\n",
       "      <th>OCCUPATION_TYPE</th>\n",
       "      <th>FLAG_DOCUMENT_2</th>\n",
       "      <th>FLAG_DOCUMENT_3</th>\n",
       "      <th>...</th>\n",
       "      <th>FLAG_DOCUMENT_13</th>\n",
       "      <th>FLAG_DOCUMENT_14</th>\n",
       "      <th>FLAG_DOCUMENT_15</th>\n",
       "      <th>FLAG_DOCUMENT_16</th>\n",
       "      <th>FLAG_DOCUMENT_17</th>\n",
       "      <th>FLAG_DOCUMENT_18</th>\n",
       "      <th>FLAG_DOCUMENT_19</th>\n",
       "      <th>FLAG_DOCUMENT_20</th>\n",
       "      <th>FLAG_DOCUMENT_21</th>\n",
       "      <th>CAT_MONTHS_BIRTH</th>\n",
       "    </tr>\n",
       "  </thead>\n",
       "  <tbody>\n",
       "    <tr>\n",
       "      <th>0</th>\n",
       "      <td>0</td>\n",
       "      <td>0</td>\n",
       "      <td>0</td>\n",
       "      <td>0</td>\n",
       "      <td>0</td>\n",
       "      <td>0</td>\n",
       "      <td>0</td>\n",
       "      <td>0</td>\n",
       "      <td>0</td>\n",
       "      <td>1</td>\n",
       "      <td>...</td>\n",
       "      <td>0</td>\n",
       "      <td>0</td>\n",
       "      <td>0</td>\n",
       "      <td>0</td>\n",
       "      <td>0</td>\n",
       "      <td>0</td>\n",
       "      <td>0</td>\n",
       "      <td>0</td>\n",
       "      <td>0</td>\n",
       "      <td>9</td>\n",
       "    </tr>\n",
       "    <tr>\n",
       "      <th>1</th>\n",
       "      <td>0</td>\n",
       "      <td>1</td>\n",
       "      <td>1</td>\n",
       "      <td>1</td>\n",
       "      <td>1</td>\n",
       "      <td>1</td>\n",
       "      <td>0</td>\n",
       "      <td>1</td>\n",
       "      <td>0</td>\n",
       "      <td>1</td>\n",
       "      <td>...</td>\n",
       "      <td>0</td>\n",
       "      <td>0</td>\n",
       "      <td>0</td>\n",
       "      <td>0</td>\n",
       "      <td>0</td>\n",
       "      <td>0</td>\n",
       "      <td>0</td>\n",
       "      <td>0</td>\n",
       "      <td>0</td>\n",
       "      <td>6</td>\n",
       "    </tr>\n",
       "  </tbody>\n",
       "</table>\n",
       "<p>2 rows × 29 columns</p>\n",
       "</div>"
      ],
      "text/plain": [
       "   FLAG_OWN_CAR  FLAG_OWN_REALTY  NAME_TYPE_SUITE  NAME_INCOME_TYPE  \\\n",
       "0             0                0                0                 0   \n",
       "1             0                1                1                 1   \n",
       "\n",
       "   NAME_EDUCATION_TYPE  NAME_FAMILY_STATUS  NAME_HOUSING_TYPE  \\\n",
       "0                    0                   0                  0   \n",
       "1                    1                   1                  0   \n",
       "\n",
       "   OCCUPATION_TYPE  FLAG_DOCUMENT_2  FLAG_DOCUMENT_3        ...         \\\n",
       "0                0                0                1        ...          \n",
       "1                1                0                1        ...          \n",
       "\n",
       "   FLAG_DOCUMENT_13  FLAG_DOCUMENT_14  FLAG_DOCUMENT_15  FLAG_DOCUMENT_16  \\\n",
       "0                 0                 0                 0                 0   \n",
       "1                 0                 0                 0                 0   \n",
       "\n",
       "   FLAG_DOCUMENT_17  FLAG_DOCUMENT_18  FLAG_DOCUMENT_19  FLAG_DOCUMENT_20  \\\n",
       "0                 0                 0                 0                 0   \n",
       "1                 0                 0                 0                 0   \n",
       "\n",
       "   FLAG_DOCUMENT_21  CAT_MONTHS_BIRTH  \n",
       "0                 0                 9  \n",
       "1                 0                 6  \n",
       "\n",
       "[2 rows x 29 columns]"
      ]
     },
     "execution_count": 22,
     "metadata": {},
     "output_type": "execute_result"
    }
   ],
   "source": [
    "X_train_w2v.head(2)"
   ]
  },
  {
   "cell_type": "code",
   "execution_count": 23,
   "metadata": {
    "ExecuteTime": {
     "end_time": "2018-07-18T00:26:31.750827Z",
     "start_time": "2018-07-18T00:26:31.600910Z"
    }
   },
   "outputs": [],
   "source": [
    "for i in names:\n",
    "    X_train_w2v[i]=X_train_w2v[i].astype('category')\n",
    "    X_train_w2v[i].cat.categories = [\"Feature %s %s\" % (i,g) for g in X_train_w2v[i].cat.categories]"
   ]
  },
  {
   "cell_type": "code",
   "execution_count": 24,
   "metadata": {
    "ExecuteTime": {
     "end_time": "2018-07-18T00:26:34.569233Z",
     "start_time": "2018-07-18T00:26:34.547811Z"
    }
   },
   "outputs": [
    {
     "data": {
      "text/html": [
       "<div>\n",
       "<style scoped>\n",
       "    .dataframe tbody tr th:only-of-type {\n",
       "        vertical-align: middle;\n",
       "    }\n",
       "\n",
       "    .dataframe tbody tr th {\n",
       "        vertical-align: top;\n",
       "    }\n",
       "\n",
       "    .dataframe thead th {\n",
       "        text-align: right;\n",
       "    }\n",
       "</style>\n",
       "<table border=\"1\" class=\"dataframe\">\n",
       "  <thead>\n",
       "    <tr style=\"text-align: right;\">\n",
       "      <th></th>\n",
       "      <th>FLAG_OWN_CAR</th>\n",
       "      <th>FLAG_OWN_REALTY</th>\n",
       "      <th>NAME_TYPE_SUITE</th>\n",
       "      <th>NAME_INCOME_TYPE</th>\n",
       "      <th>NAME_EDUCATION_TYPE</th>\n",
       "      <th>NAME_FAMILY_STATUS</th>\n",
       "      <th>NAME_HOUSING_TYPE</th>\n",
       "      <th>OCCUPATION_TYPE</th>\n",
       "      <th>FLAG_DOCUMENT_2</th>\n",
       "      <th>FLAG_DOCUMENT_3</th>\n",
       "      <th>...</th>\n",
       "      <th>FLAG_DOCUMENT_13</th>\n",
       "      <th>FLAG_DOCUMENT_14</th>\n",
       "      <th>FLAG_DOCUMENT_15</th>\n",
       "      <th>FLAG_DOCUMENT_16</th>\n",
       "      <th>FLAG_DOCUMENT_17</th>\n",
       "      <th>FLAG_DOCUMENT_18</th>\n",
       "      <th>FLAG_DOCUMENT_19</th>\n",
       "      <th>FLAG_DOCUMENT_20</th>\n",
       "      <th>FLAG_DOCUMENT_21</th>\n",
       "      <th>CAT_MONTHS_BIRTH</th>\n",
       "    </tr>\n",
       "  </thead>\n",
       "  <tbody>\n",
       "    <tr>\n",
       "      <th>0</th>\n",
       "      <td>Feature FLAG_OWN_CAR 0</td>\n",
       "      <td>Feature FLAG_OWN_REALTY 0</td>\n",
       "      <td>Feature NAME_TYPE_SUITE 0</td>\n",
       "      <td>Feature NAME_INCOME_TYPE 0</td>\n",
       "      <td>Feature NAME_EDUCATION_TYPE 0</td>\n",
       "      <td>Feature NAME_FAMILY_STATUS 0</td>\n",
       "      <td>Feature NAME_HOUSING_TYPE 0</td>\n",
       "      <td>Feature OCCUPATION_TYPE 0</td>\n",
       "      <td>Feature FLAG_DOCUMENT_2 0</td>\n",
       "      <td>Feature FLAG_DOCUMENT_3 1</td>\n",
       "      <td>...</td>\n",
       "      <td>Feature FLAG_DOCUMENT_13 0</td>\n",
       "      <td>Feature FLAG_DOCUMENT_14 0</td>\n",
       "      <td>Feature FLAG_DOCUMENT_15 0</td>\n",
       "      <td>Feature FLAG_DOCUMENT_16 0</td>\n",
       "      <td>Feature FLAG_DOCUMENT_17 0</td>\n",
       "      <td>Feature FLAG_DOCUMENT_18 0</td>\n",
       "      <td>Feature FLAG_DOCUMENT_19 0</td>\n",
       "      <td>Feature FLAG_DOCUMENT_20 0</td>\n",
       "      <td>Feature FLAG_DOCUMENT_21 0</td>\n",
       "      <td>Feature CAT_MONTHS_BIRTH 9</td>\n",
       "    </tr>\n",
       "    <tr>\n",
       "      <th>1</th>\n",
       "      <td>Feature FLAG_OWN_CAR 0</td>\n",
       "      <td>Feature FLAG_OWN_REALTY 1</td>\n",
       "      <td>Feature NAME_TYPE_SUITE 1</td>\n",
       "      <td>Feature NAME_INCOME_TYPE 1</td>\n",
       "      <td>Feature NAME_EDUCATION_TYPE 1</td>\n",
       "      <td>Feature NAME_FAMILY_STATUS 1</td>\n",
       "      <td>Feature NAME_HOUSING_TYPE 0</td>\n",
       "      <td>Feature OCCUPATION_TYPE 1</td>\n",
       "      <td>Feature FLAG_DOCUMENT_2 0</td>\n",
       "      <td>Feature FLAG_DOCUMENT_3 1</td>\n",
       "      <td>...</td>\n",
       "      <td>Feature FLAG_DOCUMENT_13 0</td>\n",
       "      <td>Feature FLAG_DOCUMENT_14 0</td>\n",
       "      <td>Feature FLAG_DOCUMENT_15 0</td>\n",
       "      <td>Feature FLAG_DOCUMENT_16 0</td>\n",
       "      <td>Feature FLAG_DOCUMENT_17 0</td>\n",
       "      <td>Feature FLAG_DOCUMENT_18 0</td>\n",
       "      <td>Feature FLAG_DOCUMENT_19 0</td>\n",
       "      <td>Feature FLAG_DOCUMENT_20 0</td>\n",
       "      <td>Feature FLAG_DOCUMENT_21 0</td>\n",
       "      <td>Feature CAT_MONTHS_BIRTH 6</td>\n",
       "    </tr>\n",
       "  </tbody>\n",
       "</table>\n",
       "<p>2 rows × 29 columns</p>\n",
       "</div>"
      ],
      "text/plain": [
       "             FLAG_OWN_CAR            FLAG_OWN_REALTY  \\\n",
       "0  Feature FLAG_OWN_CAR 0  Feature FLAG_OWN_REALTY 0   \n",
       "1  Feature FLAG_OWN_CAR 0  Feature FLAG_OWN_REALTY 1   \n",
       "\n",
       "             NAME_TYPE_SUITE            NAME_INCOME_TYPE  \\\n",
       "0  Feature NAME_TYPE_SUITE 0  Feature NAME_INCOME_TYPE 0   \n",
       "1  Feature NAME_TYPE_SUITE 1  Feature NAME_INCOME_TYPE 1   \n",
       "\n",
       "             NAME_EDUCATION_TYPE            NAME_FAMILY_STATUS  \\\n",
       "0  Feature NAME_EDUCATION_TYPE 0  Feature NAME_FAMILY_STATUS 0   \n",
       "1  Feature NAME_EDUCATION_TYPE 1  Feature NAME_FAMILY_STATUS 1   \n",
       "\n",
       "             NAME_HOUSING_TYPE            OCCUPATION_TYPE  \\\n",
       "0  Feature NAME_HOUSING_TYPE 0  Feature OCCUPATION_TYPE 0   \n",
       "1  Feature NAME_HOUSING_TYPE 0  Feature OCCUPATION_TYPE 1   \n",
       "\n",
       "             FLAG_DOCUMENT_2            FLAG_DOCUMENT_3  \\\n",
       "0  Feature FLAG_DOCUMENT_2 0  Feature FLAG_DOCUMENT_3 1   \n",
       "1  Feature FLAG_DOCUMENT_2 0  Feature FLAG_DOCUMENT_3 1   \n",
       "\n",
       "              ...                        FLAG_DOCUMENT_13  \\\n",
       "0             ...              Feature FLAG_DOCUMENT_13 0   \n",
       "1             ...              Feature FLAG_DOCUMENT_13 0   \n",
       "\n",
       "             FLAG_DOCUMENT_14            FLAG_DOCUMENT_15  \\\n",
       "0  Feature FLAG_DOCUMENT_14 0  Feature FLAG_DOCUMENT_15 0   \n",
       "1  Feature FLAG_DOCUMENT_14 0  Feature FLAG_DOCUMENT_15 0   \n",
       "\n",
       "             FLAG_DOCUMENT_16            FLAG_DOCUMENT_17  \\\n",
       "0  Feature FLAG_DOCUMENT_16 0  Feature FLAG_DOCUMENT_17 0   \n",
       "1  Feature FLAG_DOCUMENT_16 0  Feature FLAG_DOCUMENT_17 0   \n",
       "\n",
       "             FLAG_DOCUMENT_18            FLAG_DOCUMENT_19  \\\n",
       "0  Feature FLAG_DOCUMENT_18 0  Feature FLAG_DOCUMENT_19 0   \n",
       "1  Feature FLAG_DOCUMENT_18 0  Feature FLAG_DOCUMENT_19 0   \n",
       "\n",
       "             FLAG_DOCUMENT_20            FLAG_DOCUMENT_21  \\\n",
       "0  Feature FLAG_DOCUMENT_20 0  Feature FLAG_DOCUMENT_21 0   \n",
       "1  Feature FLAG_DOCUMENT_20 0  Feature FLAG_DOCUMENT_21 0   \n",
       "\n",
       "             CAT_MONTHS_BIRTH  \n",
       "0  Feature CAT_MONTHS_BIRTH 9  \n",
       "1  Feature CAT_MONTHS_BIRTH 6  \n",
       "\n",
       "[2 rows x 29 columns]"
      ]
     },
     "execution_count": 24,
     "metadata": {},
     "output_type": "execute_result"
    }
   ],
   "source": [
    "X_train_w2v.head(2)"
   ]
  },
  {
   "cell_type": "code",
   "execution_count": 25,
   "metadata": {
    "ExecuteTime": {
     "end_time": "2018-07-18T00:26:40.131568Z",
     "start_time": "2018-07-18T00:26:39.900676Z"
    }
   },
   "outputs": [],
   "source": [
    "for i in names:\n",
    "    X_test_w2v[i]=X_test_w2v[i].astype('category')\n",
    "    X_test_w2v[i].cat.categories = [\"Feature %s %s\" % (i,g) for g in X_test_w2v[i].cat.categories]\n",
    "X_train_w2v = X_train_w2v.values\n",
    "X_test_w2v = X_test_w2v.values"
   ]
  },
  {
   "cell_type": "code",
   "execution_count": 26,
   "metadata": {
    "ExecuteTime": {
     "end_time": "2018-07-18T00:26:53.084873Z",
     "start_time": "2018-07-18T00:26:52.849912Z"
    }
   },
   "outputs": [
    {
     "data": {
      "text/plain": [
       "(307511, 87)"
      ]
     },
     "execution_count": 26,
     "metadata": {},
     "output_type": "execute_result"
    }
   ],
   "source": [
    "x_w2v_train = np.random.random((len(X_train_w2v),size*X_train_w2v.shape[1]))\n",
    "x_w2v_train.shape"
   ]
  },
  {
   "cell_type": "code",
   "execution_count": 27,
   "metadata": {
    "ExecuteTime": {
     "end_time": "2018-07-18T00:27:45.230068Z",
     "start_time": "2018-07-18T00:27:27.462881Z"
    }
   },
   "outputs": [],
   "source": [
    "for j in range(X_train_w2v.shape[1]):\n",
    "    for i in range(X_train_w2v.shape[0]):\n",
    "        if X_train_w2v[i,j] in w2v.wv:\n",
    "            x_w2v_train[i,j*size:(j+1)*size] = w2v.wv[X_train_w2v[i,j]]"
   ]
  },
  {
   "cell_type": "code",
   "execution_count": 28,
   "metadata": {
    "ExecuteTime": {
     "end_time": "2018-07-18T00:28:09.736031Z",
     "start_time": "2018-07-18T00:28:06.891143Z"
    }
   },
   "outputs": [
    {
     "name": "stdout",
     "output_type": "stream",
     "text": [
      "(48744, 87)\n"
     ]
    }
   ],
   "source": [
    "x_w2v_test = np.random.random((len(X_test_w2v),size*X_test_w2v.shape[1]))\n",
    "print(x_w2v_test.shape)\n",
    "for j in range(X_test_w2v.shape[1]):\n",
    "    for i in range(X_test_w2v.shape[0]):\n",
    "        if X_test_w2v[i,j] in w2v.wv:\n",
    "            x_w2v_test[i,j*size:(j+1)*size] = w2v.wv[X_test_w2v[i,j]]"
   ]
  },
  {
   "cell_type": "code",
   "execution_count": 30,
   "metadata": {
    "ExecuteTime": {
     "end_time": "2018-07-18T00:29:36.431253Z",
     "start_time": "2018-07-18T00:29:36.427042Z"
    }
   },
   "outputs": [],
   "source": [
    "test_cat_feats_embedded = pd.DataFrame(x_w2v_test)"
   ]
  },
  {
   "cell_type": "code",
   "execution_count": 32,
   "metadata": {
    "ExecuteTime": {
     "end_time": "2018-07-18T00:31:10.675023Z",
     "start_time": "2018-07-18T00:31:10.648231Z"
    }
   },
   "outputs": [
    {
     "data": {
      "text/html": [
       "<div>\n",
       "<style scoped>\n",
       "    .dataframe tbody tr th:only-of-type {\n",
       "        vertical-align: middle;\n",
       "    }\n",
       "\n",
       "    .dataframe tbody tr th {\n",
       "        vertical-align: top;\n",
       "    }\n",
       "\n",
       "    .dataframe thead th {\n",
       "        text-align: right;\n",
       "    }\n",
       "</style>\n",
       "<table border=\"1\" class=\"dataframe\">\n",
       "  <thead>\n",
       "    <tr style=\"text-align: right;\">\n",
       "      <th></th>\n",
       "      <th>0</th>\n",
       "      <th>1</th>\n",
       "      <th>2</th>\n",
       "      <th>3</th>\n",
       "      <th>4</th>\n",
       "      <th>5</th>\n",
       "      <th>6</th>\n",
       "      <th>7</th>\n",
       "      <th>8</th>\n",
       "      <th>9</th>\n",
       "      <th>...</th>\n",
       "      <th>77</th>\n",
       "      <th>78</th>\n",
       "      <th>79</th>\n",
       "      <th>80</th>\n",
       "      <th>81</th>\n",
       "      <th>82</th>\n",
       "      <th>83</th>\n",
       "      <th>84</th>\n",
       "      <th>85</th>\n",
       "      <th>86</th>\n",
       "    </tr>\n",
       "  </thead>\n",
       "  <tbody>\n",
       "    <tr>\n",
       "      <th>0</th>\n",
       "      <td>3.010874</td>\n",
       "      <td>-3.322929</td>\n",
       "      <td>3.608738</td>\n",
       "      <td>3.128061</td>\n",
       "      <td>-3.251972</td>\n",
       "      <td>3.677889</td>\n",
       "      <td>3.069346</td>\n",
       "      <td>-3.299047</td>\n",
       "      <td>3.631958</td>\n",
       "      <td>3.634511</td>\n",
       "      <td>...</td>\n",
       "      <td>3.544835</td>\n",
       "      <td>2.950006</td>\n",
       "      <td>-3.152953</td>\n",
       "      <td>3.521786</td>\n",
       "      <td>3.006759</td>\n",
       "      <td>-3.202681</td>\n",
       "      <td>3.564108</td>\n",
       "      <td>-4.546351</td>\n",
       "      <td>25.917768</td>\n",
       "      <td>-9.788048</td>\n",
       "    </tr>\n",
       "    <tr>\n",
       "      <th>1</th>\n",
       "      <td>3.010874</td>\n",
       "      <td>-3.322929</td>\n",
       "      <td>3.608738</td>\n",
       "      <td>3.128061</td>\n",
       "      <td>-3.251972</td>\n",
       "      <td>3.677889</td>\n",
       "      <td>3.069346</td>\n",
       "      <td>-3.299047</td>\n",
       "      <td>3.631958</td>\n",
       "      <td>3.634511</td>\n",
       "      <td>...</td>\n",
       "      <td>3.544835</td>\n",
       "      <td>2.950006</td>\n",
       "      <td>-3.152953</td>\n",
       "      <td>3.521786</td>\n",
       "      <td>3.006759</td>\n",
       "      <td>-3.202681</td>\n",
       "      <td>3.564108</td>\n",
       "      <td>-4.615805</td>\n",
       "      <td>26.050148</td>\n",
       "      <td>-9.887567</td>\n",
       "    </tr>\n",
       "  </tbody>\n",
       "</table>\n",
       "<p>2 rows × 87 columns</p>\n",
       "</div>"
      ],
      "text/plain": [
       "         0         1         2         3         4         5         6   \\\n",
       "0  3.010874 -3.322929  3.608738  3.128061 -3.251972  3.677889  3.069346   \n",
       "1  3.010874 -3.322929  3.608738  3.128061 -3.251972  3.677889  3.069346   \n",
       "\n",
       "         7         8         9     ...           77        78        79  \\\n",
       "0 -3.299047  3.631958  3.634511    ...     3.544835  2.950006 -3.152953   \n",
       "1 -3.299047  3.631958  3.634511    ...     3.544835  2.950006 -3.152953   \n",
       "\n",
       "         80        81        82        83        84         85        86  \n",
       "0  3.521786  3.006759 -3.202681  3.564108 -4.546351  25.917768 -9.788048  \n",
       "1  3.521786  3.006759 -3.202681  3.564108 -4.615805  26.050148 -9.887567  \n",
       "\n",
       "[2 rows x 87 columns]"
      ]
     },
     "execution_count": 32,
     "metadata": {},
     "output_type": "execute_result"
    }
   ],
   "source": [
    "test_cat_feats_embedded.head(2)"
   ]
  },
  {
   "cell_type": "code",
   "execution_count": 33,
   "metadata": {
    "ExecuteTime": {
     "end_time": "2018-07-18T00:31:17.416079Z",
     "start_time": "2018-07-18T00:31:17.410844Z"
    }
   },
   "outputs": [
    {
     "data": {
      "text/plain": [
       "(48744, 87)"
      ]
     },
     "execution_count": 33,
     "metadata": {},
     "output_type": "execute_result"
    }
   ],
   "source": [
    "test_cat_feats_embedded.shape"
   ]
  },
  {
   "cell_type": "code",
   "execution_count": 34,
   "metadata": {
    "ExecuteTime": {
     "end_time": "2018-07-18T00:31:23.206169Z",
     "start_time": "2018-07-18T00:31:23.202159Z"
    }
   },
   "outputs": [],
   "source": [
    "train_cat_feats_embedded = pd.DataFrame(x_w2v_train)"
   ]
  },
  {
   "cell_type": "code",
   "execution_count": 35,
   "metadata": {
    "ExecuteTime": {
     "end_time": "2018-07-18T00:31:28.832225Z",
     "start_time": "2018-07-18T00:31:28.827005Z"
    }
   },
   "outputs": [
    {
     "data": {
      "text/plain": [
       "(307511, 87)"
      ]
     },
     "execution_count": 35,
     "metadata": {},
     "output_type": "execute_result"
    }
   ],
   "source": [
    "train_cat_feats_embedded.shape"
   ]
  },
  {
   "cell_type": "code",
   "execution_count": 39,
   "metadata": {
    "ExecuteTime": {
     "end_time": "2018-07-18T00:34:25.035567Z",
     "start_time": "2018-07-18T00:34:22.603121Z"
    }
   },
   "outputs": [
    {
     "name": "stdout",
     "output_type": "stream",
     "text": [
      "(307511, 2678)\n",
      "(307511, 2649)\n"
     ]
    }
   ],
   "source": [
    "print(train.shape)\n",
    "train.drop(features, axis=1, inplace=True)\n",
    "print(train.shape)"
   ]
  },
  {
   "cell_type": "code",
   "execution_count": 43,
   "metadata": {
    "ExecuteTime": {
     "end_time": "2018-07-18T00:35:56.698223Z",
     "start_time": "2018-07-18T00:35:54.137399Z"
    }
   },
   "outputs": [
    {
     "data": {
      "text/plain": [
       "(307511, 2736)"
      ]
     },
     "execution_count": 43,
     "metadata": {},
     "output_type": "execute_result"
    }
   ],
   "source": [
    "train = pd.concat([train, train_cat_feats_embedded], axis=1)\n",
    "train.shape"
   ]
  },
  {
   "cell_type": "code",
   "execution_count": 40,
   "metadata": {
    "ExecuteTime": {
     "end_time": "2018-07-18T00:34:48.224508Z",
     "start_time": "2018-07-18T00:34:47.839967Z"
    }
   },
   "outputs": [
    {
     "name": "stdout",
     "output_type": "stream",
     "text": [
      "(48744, 2677)\n",
      "(48744, 2648)\n"
     ]
    }
   ],
   "source": [
    "print(test.shape)\n",
    "test.drop(features, axis=1, inplace=True)\n",
    "print(test.shape)"
   ]
  },
  {
   "cell_type": "code",
   "execution_count": 42,
   "metadata": {
    "ExecuteTime": {
     "end_time": "2018-07-18T00:35:39.347652Z",
     "start_time": "2018-07-18T00:35:38.927089Z"
    }
   },
   "outputs": [
    {
     "data": {
      "text/plain": [
       "(48744, 2735)"
      ]
     },
     "execution_count": 42,
     "metadata": {},
     "output_type": "execute_result"
    }
   ],
   "source": [
    "test = pd.concat([test, test_cat_feats_embedded], axis=1)\n",
    "test.shape"
   ]
  },
  {
   "cell_type": "code",
   "execution_count": 46,
   "metadata": {
    "ExecuteTime": {
     "end_time": "2018-07-18T00:37:13.223432Z",
     "start_time": "2018-07-18T00:37:04.053461Z"
    }
   },
   "outputs": [],
   "source": [
    "train.to_pickle('train_bo2_w2v.pkl')"
   ]
  },
  {
   "cell_type": "code",
   "execution_count": 44,
   "metadata": {
    "ExecuteTime": {
     "end_time": "2018-07-18T00:36:38.777862Z",
     "start_time": "2018-07-18T00:36:37.359555Z"
    }
   },
   "outputs": [],
   "source": [
    "test.to_pickle('test_bo2_w2v.pkl')"
   ]
  }
 ],
 "metadata": {
  "kernelspec": {
   "display_name": "Python 3",
   "language": "python",
   "name": "python3"
  },
  "language_info": {
   "codemirror_mode": {
    "name": "ipython",
    "version": 3
   },
   "file_extension": ".py",
   "mimetype": "text/x-python",
   "name": "python",
   "nbconvert_exporter": "python",
   "pygments_lexer": "ipython3",
   "version": "3.6.5"
  },
  "varInspector": {
   "cols": {
    "lenName": 16,
    "lenType": 16,
    "lenVar": 40
   },
   "kernels_config": {
    "python": {
     "delete_cmd_postfix": "",
     "delete_cmd_prefix": "del ",
     "library": "var_list.py",
     "varRefreshCmd": "print(var_dic_list())"
    },
    "r": {
     "delete_cmd_postfix": ") ",
     "delete_cmd_prefix": "rm(",
     "library": "var_list.r",
     "varRefreshCmd": "cat(var_dic_list()) "
    }
   },
   "types_to_exclude": [
    "module",
    "function",
    "builtin_function_or_method",
    "instance",
    "_Feature"
   ],
   "window_display": false
  }
 },
 "nbformat": 4,
 "nbformat_minor": 2
}
