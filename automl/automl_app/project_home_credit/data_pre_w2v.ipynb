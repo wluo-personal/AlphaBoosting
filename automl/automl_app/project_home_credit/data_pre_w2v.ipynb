{
 "cells": [
  {
   "cell_type": "code",
   "execution_count": null,
   "metadata": {
    "ExecuteTime": {
     "end_time": "2018-07-19T14:30:00.326481Z",
     "start_time": "2018-07-19T14:29:59.734148Z"
    }
   },
   "outputs": [],
   "source": [
    "import pandas as pd\n",
    "from gensim.models.word2vec import Word2Vec\n",
    "from random import shuffle\n",
    "import copy"
   ]
  },
  {
   "cell_type": "code",
   "execution_count": null,
   "metadata": {
    "ExecuteTime": {
     "end_time": "2018-07-19T14:30:11.551120Z",
     "start_time": "2018-07-19T14:30:00.336112Z"
    }
   },
   "outputs": [],
   "source": [
    "train = pd.read_pickle('data/train_bo2.pkl')\n",
    "test = pd.read_pickle('data/test_bo2.pkl')\n",
    "data = pd.concat([train, test], sort=True)"
   ]
  },
  {
   "cell_type": "code",
   "execution_count": null,
   "metadata": {
    "ExecuteTime": {
     "end_time": "2018-07-19T14:30:40.286495Z",
     "start_time": "2018-07-19T14:30:40.270412Z"
    }
   },
   "outputs": [],
   "source": [
    "data.shape"
   ]
  },
  {
   "cell_type": "code",
   "execution_count": null,
   "metadata": {
    "ExecuteTime": {
     "end_time": "2018-07-19T14:30:41.563759Z",
     "start_time": "2018-07-19T14:30:41.553776Z"
    }
   },
   "outputs": [],
   "source": [
    "features = [\"FLAG_OWN_CAR\",\"FLAG_OWN_REALTY\",\"NAME_TYPE_SUITE\",\"NAME_INCOME_TYPE\",\"NAME_EDUCATION_TYPE\",\"NAME_FAMILY_STATUS\",\"NAME_HOUSING_TYPE\",\"OCCUPATION_TYPE\",\"FLAG_DOCUMENT_2\",\"FLAG_DOCUMENT_3\",\"FLAG_DOCUMENT_4\",\"FLAG_DOCUMENT_5\",\"FLAG_DOCUMENT_6\",\"FLAG_DOCUMENT_7\",\"FLAG_DOCUMENT_8\",\"FLAG_DOCUMENT_9\",\"FLAG_DOCUMENT_10\",\"FLAG_DOCUMENT_11\",\"FLAG_DOCUMENT_12\", \"FLAG_DOCUMENT_13\",\"FLAG_DOCUMENT_14\",\"FLAG_DOCUMENT_15\",\"FLAG_DOCUMENT_16\",\"FLAG_DOCUMENT_17\",\"FLAG_DOCUMENT_18\", \"FLAG_DOCUMENT_19\",\"FLAG_DOCUMENT_20\",\"FLAG_DOCUMENT_21\", \"CAT_MONTHS_BIRTH\", 'CNT_CHILDREN', 'CODE_GENDER', 'CONTACT', 'EMERGENCYSTATE_MODE', 'FLAG_EMAIL', 'FLAG_OTHER', 'FONDKAPREMONT_MODE', 'HOUR_APPR_PROCESS_START', 'HOUSETYPE_MODE', 'LIVE_CITY_NOT_WORK_CITY', 'LIVE_REGION_NOT_WORK_REGION', 'NAME_CONTRACT_TYPE', 'ORGANIZATION_TYPE', 'REGION_RATING_CLIENT', 'REGION_RATING_CLIENT_W_CITY', 'REGION_RATING_CLIENT_W_CITY_times_livingsum_AVG', 'REGION_RATING_CLIENT_W_CITY_times_livingsum_MEDI', 'REGION_RATING_CLIENT_W_CITY_times_livingsum_MODE', 'REGION_RATING_CLIENT_times_livingsum_AVG', 'REGION_RATING_CLIENT_times_livingsum_MEDI', 'REGION_RATING_CLIENT_times_livingsum_MODE', 'REG_CITY_NOT_LIVE_CITY', 'REG_CITY_NOT_WORK_CITY', 'REG_REGION_NOT_LIVE_REGION', 'REG_REGION_NOT_WORK_REGION', 'WALLSMATERIAL_MODE', 'WEEKDAY_APPR_PROCESS_START', 'count_CODE_GENDER_NAME_EDUCATION_TYPE', 'count_CODE_GENDER_NAME_EDUCATION_TYPE_NAME_INCOME_TYPE', 'count_CODE_GENDER_NAME_INCOME_TYPE', 'count_NAME_EDUCATION_TYPE_NAME_INCOME_TYPE', 'unique_CODE_GENDER_NAME_EDUCATION_TYPE', 'unique_CODE_GENDER_NAME_INCOME_TYPE', 'unique_CODE_GENDER_x', 'unique_CODE_GENDER_y', 'unique_NAME_EDUCATION_TYPE_NAME_INCOME_TYPE', 'unique_NAME_EDUCATION_TYPE_x', 'unique_NAME_EDUCATION_TYPE_y', 'unique_NAME_INCOME_TYPE_x', 'unique_NAME_INCOME_TYPE_y']"
   ]
  },
  {
   "cell_type": "code",
   "execution_count": null,
   "metadata": {
    "ExecuteTime": {
     "end_time": "2018-07-19T14:30:43.835174Z",
     "start_time": "2018-07-19T14:30:43.744612Z"
    }
   },
   "outputs": [],
   "source": [
    "X_train = train[features]\n",
    "X_test = test[features]"
   ]
  },
  {
   "cell_type": "code",
   "execution_count": null,
   "metadata": {
    "ExecuteTime": {
     "end_time": "2018-07-19T14:30:44.187704Z",
     "start_time": "2018-07-19T14:30:44.183745Z"
    }
   },
   "outputs": [],
   "source": [
    "X_train.shape, X_test.shape"
   ]
  },
  {
   "cell_type": "code",
   "execution_count": null,
   "metadata": {
    "ExecuteTime": {
     "end_time": "2018-07-19T14:30:54.443589Z",
     "start_time": "2018-07-19T14:30:54.440124Z"
    }
   },
   "outputs": [],
   "source": [
    "size = 3\n",
    "window = 8"
   ]
  },
  {
   "cell_type": "code",
   "execution_count": null,
   "metadata": {
    "ExecuteTime": {
     "end_time": "2018-07-19T14:30:56.450193Z",
     "start_time": "2018-07-19T14:30:54.877977Z"
    }
   },
   "outputs": [],
   "source": [
    "x_w2v = copy.deepcopy(data[features])"
   ]
  },
  {
   "cell_type": "code",
   "execution_count": null,
   "metadata": {
    "ExecuteTime": {
     "end_time": "2018-07-19T14:31:06.392466Z",
     "start_time": "2018-07-19T14:31:06.387527Z"
    }
   },
   "outputs": [],
   "source": [
    "type(x_w2v)"
   ]
  },
  {
   "cell_type": "code",
   "execution_count": null,
   "metadata": {
    "ExecuteTime": {
     "end_time": "2018-07-19T14:31:12.273676Z",
     "start_time": "2018-07-19T14:31:12.269663Z"
    }
   },
   "outputs": [],
   "source": [
    "names = list(x_w2v.columns.values)\n",
    "print(names)"
   ]
  },
  {
   "cell_type": "code",
   "execution_count": null,
   "metadata": {
    "ExecuteTime": {
     "end_time": "2018-07-19T14:31:14.214269Z",
     "start_time": "2018-07-19T14:31:14.185160Z"
    }
   },
   "outputs": [],
   "source": [
    "x_w2v.head(2)"
   ]
  },
  {
   "cell_type": "code",
   "execution_count": null,
   "metadata": {
    "ExecuteTime": {
     "end_time": "2018-07-19T14:31:17.008251Z",
     "start_time": "2018-07-19T14:31:16.241328Z"
    }
   },
   "outputs": [],
   "source": [
    "for i in names:\n",
    "    x_w2v[i]=x_w2v[i].astype('category')\n",
    "    x_w2v[i].cat.categories = [\"Feature %s %s\" % (i,g) for g in x_w2v[i].cat.categories]"
   ]
  },
  {
   "cell_type": "code",
   "execution_count": null,
   "metadata": {
    "ExecuteTime": {
     "end_time": "2018-07-19T14:31:17.738103Z",
     "start_time": "2018-07-19T14:31:17.704288Z"
    }
   },
   "outputs": [],
   "source": [
    "x_w2v.head(2)"
   ]
  },
  {
   "cell_type": "code",
   "execution_count": null,
   "metadata": {
    "ExecuteTime": {
     "end_time": "2018-07-19T14:31:21.920685Z",
     "start_time": "2018-07-19T14:31:20.555529Z"
    }
   },
   "outputs": [],
   "source": [
    "x_w2v = x_w2v.values.tolist()"
   ]
  },
  {
   "cell_type": "code",
   "execution_count": null,
   "metadata": {
    "ExecuteTime": {
     "end_time": "2018-07-19T14:31:39.402933Z",
     "start_time": "2018-07-19T14:31:28.013779Z"
    }
   },
   "outputs": [],
   "source": [
    "for i in x_w2v:\n",
    "    shuffle(i)"
   ]
  },
  {
   "cell_type": "code",
   "execution_count": null,
   "metadata": {
    "ExecuteTime": {
     "end_time": "2018-07-19T14:31:46.212377Z",
     "start_time": "2018-07-19T14:31:46.135513Z"
    }
   },
   "outputs": [],
   "source": [
    "for col in features:\n",
    "    print(data[col].nunique())"
   ]
  },
  {
   "cell_type": "code",
   "execution_count": null,
   "metadata": {
    "ExecuteTime": {
     "end_time": "2018-07-19T14:32:30.471543Z",
     "start_time": "2018-07-19T14:31:52.897078Z"
    }
   },
   "outputs": [],
   "source": [
    "w2v = Word2Vec(x_w2v,size=size,window=window)"
   ]
  },
  {
   "cell_type": "code",
   "execution_count": null,
   "metadata": {
    "ExecuteTime": {
     "end_time": "2018-07-19T14:32:37.182418Z",
     "start_time": "2018-07-19T14:32:37.165207Z"
    }
   },
   "outputs": [],
   "source": [
    "X_train_w2v = copy.copy(X_train)\n",
    "X_test_w2v = copy.copy(X_test)"
   ]
  },
  {
   "cell_type": "code",
   "execution_count": null,
   "metadata": {
    "ExecuteTime": {
     "end_time": "2018-07-19T14:32:43.936533Z",
     "start_time": "2018-07-19T14:32:43.926567Z"
    }
   },
   "outputs": [],
   "source": [
    "X_train_w2v.head(2)"
   ]
  },
  {
   "cell_type": "code",
   "execution_count": null,
   "metadata": {
    "ExecuteTime": {
     "end_time": "2018-07-19T14:32:51.327855Z",
     "start_time": "2018-07-19T14:32:50.589985Z"
    }
   },
   "outputs": [],
   "source": [
    "for i in names:\n",
    "    X_train_w2v[i]=X_train_w2v[i].astype('category')\n",
    "    X_train_w2v[i].cat.categories = [\"Feature %s %s\" % (i,g) for g in X_train_w2v[i].cat.categories]"
   ]
  },
  {
   "cell_type": "code",
   "execution_count": null,
   "metadata": {
    "ExecuteTime": {
     "end_time": "2018-07-19T14:32:58.414833Z",
     "start_time": "2018-07-19T14:32:58.216917Z"
    }
   },
   "outputs": [],
   "source": [
    "X_train_w2v.head(2)"
   ]
  },
  {
   "cell_type": "code",
   "execution_count": null,
   "metadata": {
    "ExecuteTime": {
     "end_time": "2018-07-19T14:33:06.065150Z",
     "start_time": "2018-07-19T14:33:05.440690Z"
    }
   },
   "outputs": [],
   "source": [
    "for i in names:\n",
    "    X_test_w2v[i]=X_test_w2v[i].astype('category')\n",
    "    X_test_w2v[i].cat.categories = [\"Feature %s %s\" % (i,g) for g in X_test_w2v[i].cat.categories]\n",
    "X_train_w2v = X_train_w2v.values\n",
    "X_test_w2v = X_test_w2v.values"
   ]
  },
  {
   "cell_type": "code",
   "execution_count": null,
   "metadata": {
    "ExecuteTime": {
     "end_time": "2018-07-19T14:33:13.389342Z",
     "start_time": "2018-07-19T14:33:12.830488Z"
    }
   },
   "outputs": [],
   "source": [
    "x_w2v_train = np.random.random((len(X_train_w2v),size*X_train_w2v.shape[1]))\n",
    "x_w2v_train.shape"
   ]
  },
  {
   "cell_type": "code",
   "execution_count": null,
   "metadata": {
    "ExecuteTime": {
     "end_time": "2018-07-19T14:34:08.354779Z",
     "start_time": "2018-07-19T14:33:20.481324Z"
    }
   },
   "outputs": [],
   "source": [
    "for j in range(X_train_w2v.shape[1]):\n",
    "    for i in range(X_train_w2v.shape[0]):\n",
    "        if X_train_w2v[i,j] in w2v.wv:\n",
    "            x_w2v_train[i,j*size:(j+1)*size] = w2v.wv[X_train_w2v[i,j]]"
   ]
  },
  {
   "cell_type": "code",
   "execution_count": null,
   "metadata": {
    "ExecuteTime": {
     "end_time": "2018-07-19T14:34:22.926086Z",
     "start_time": "2018-07-19T14:34:15.459145Z"
    }
   },
   "outputs": [],
   "source": [
    "x_w2v_test = np.random.random((len(X_test_w2v),size*X_test_w2v.shape[1]))\n",
    "print(x_w2v_test.shape)\n",
    "for j in range(X_test_w2v.shape[1]):\n",
    "    for i in range(X_test_w2v.shape[0]):\n",
    "        if X_test_w2v[i,j] in w2v.wv:\n",
    "            x_w2v_test[i,j*size:(j+1)*size] = w2v.wv[X_test_w2v[i,j]]"
   ]
  },
  {
   "cell_type": "code",
   "execution_count": null,
   "metadata": {
    "ExecuteTime": {
     "end_time": "2018-07-19T14:34:30.037027Z",
     "start_time": "2018-07-19T14:34:30.034823Z"
    }
   },
   "outputs": [],
   "source": [
    "test_cat_feats_embedded = pd.DataFrame(x_w2v_test)"
   ]
  },
  {
   "cell_type": "code",
   "execution_count": null,
   "metadata": {
    "ExecuteTime": {
     "end_time": "2018-07-19T14:34:36.937617Z",
     "start_time": "2018-07-19T14:34:36.924510Z"
    }
   },
   "outputs": [],
   "source": [
    "test_cat_feats_embedded.head(2)"
   ]
  },
  {
   "cell_type": "code",
   "execution_count": null,
   "metadata": {
    "ExecuteTime": {
     "end_time": "2018-07-19T14:34:43.987920Z",
     "start_time": "2018-07-19T14:34:43.985068Z"
    }
   },
   "outputs": [],
   "source": [
    "test_cat_feats_embedded.shape"
   ]
  },
  {
   "cell_type": "code",
   "execution_count": null,
   "metadata": {
    "ExecuteTime": {
     "end_time": "2018-07-19T14:34:50.918830Z",
     "start_time": "2018-07-19T14:34:50.916511Z"
    }
   },
   "outputs": [],
   "source": [
    "train_cat_feats_embedded = pd.DataFrame(x_w2v_train)"
   ]
  },
  {
   "cell_type": "code",
   "execution_count": null,
   "metadata": {
    "ExecuteTime": {
     "end_time": "2018-07-19T14:34:57.966168Z",
     "start_time": "2018-07-19T14:34:57.963422Z"
    }
   },
   "outputs": [],
   "source": [
    "train_cat_feats_embedded.shape"
   ]
  },
  {
   "cell_type": "code",
   "execution_count": null,
   "metadata": {
    "ExecuteTime": {
     "end_time": "2018-07-19T14:35:07.839547Z",
     "start_time": "2018-07-19T14:35:05.082823Z"
    }
   },
   "outputs": [],
   "source": [
    "print(train.shape)\n",
    "train.drop(features, axis=1, inplace=True)\n",
    "print(train.shape)"
   ]
  },
  {
   "cell_type": "code",
   "execution_count": null,
   "metadata": {
    "ExecuteTime": {
     "end_time": "2018-07-19T14:35:16.560189Z",
     "start_time": "2018-07-19T14:35:15.095723Z"
    }
   },
   "outputs": [],
   "source": [
    "train = pd.concat([train, train_cat_feats_embedded], axis=1)\n",
    "train.shape"
   ]
  },
  {
   "cell_type": "code",
   "execution_count": null,
   "metadata": {
    "ExecuteTime": {
     "end_time": "2018-07-19T14:35:25.529411Z",
     "start_time": "2018-07-19T14:35:25.109102Z"
    }
   },
   "outputs": [],
   "source": [
    "print(test.shape)\n",
    "test.drop(features, axis=1, inplace=True)\n",
    "print(test.shape)"
   ]
  },
  {
   "cell_type": "code",
   "execution_count": null,
   "metadata": {
    "ExecuteTime": {
     "end_time": "2018-07-19T14:35:33.099837Z",
     "start_time": "2018-07-19T14:35:32.916490Z"
    }
   },
   "outputs": [],
   "source": [
    "test = pd.concat([test, test_cat_feats_embedded], axis=1)\n",
    "test.shape"
   ]
  },
  {
   "cell_type": "code",
   "execution_count": null,
   "metadata": {
    "ExecuteTime": {
     "end_time": "2018-07-19T14:35:50.793741Z",
     "start_time": "2018-07-19T14:35:40.267908Z"
    }
   },
   "outputs": [],
   "source": [
    "train.to_pickle('data/train_bo2_w2v_newcat.pkl')"
   ]
  },
  {
   "cell_type": "code",
   "execution_count": null,
   "metadata": {
    "ExecuteTime": {
     "end_time": "2018-07-19T14:35:59.436287Z",
     "start_time": "2018-07-19T14:35:57.841720Z"
    }
   },
   "outputs": [],
   "source": [
    "test.to_pickle('data/test_bo2_w2v_newcat.pkl')"
   ]
  },
  {
   "cell_type": "code",
   "execution_count": null,
   "metadata": {},
   "outputs": [],
   "source": []
  }
 ],
 "metadata": {
  "kernelspec": {
   "display_name": "Python 3",
   "language": "python",
   "name": "python3"
  },
  "language_info": {
   "codemirror_mode": {
    "name": "ipython",
    "version": 3
   },
   "file_extension": ".py",
   "mimetype": "text/x-python",
   "name": "python",
   "nbconvert_exporter": "python",
   "pygments_lexer": "ipython3",
   "version": "3.6.5"
  },
  "varInspector": {
   "cols": {
    "lenName": 16,
    "lenType": 16,
    "lenVar": 40
   },
   "kernels_config": {
    "python": {
     "delete_cmd_postfix": "",
     "delete_cmd_prefix": "del ",
     "library": "var_list.py",
     "varRefreshCmd": "print(var_dic_list())"
    },
    "r": {
     "delete_cmd_postfix": ") ",
     "delete_cmd_prefix": "rm(",
     "library": "var_list.r",
     "varRefreshCmd": "cat(var_dic_list()) "
    }
   },
   "types_to_exclude": [
    "module",
    "function",
    "builtin_function_or_method",
    "instance",
    "_Feature"
   ],
   "window_display": false
  }
 },
 "nbformat": 4,
 "nbformat_minor": 2
}
