{
 "cells": [
  {
   "cell_type": "code",
   "execution_count": null,
   "metadata": {
    "ExecuteTime": {
     "end_time": "2018-07-26T02:07:31.514661Z",
     "start_time": "2018-07-26T02:07:31.506758Z"
    }
   },
   "outputs": [],
   "source": [
    "import pandas as pd\n",
    "from IPython.display import display\n",
    "pd.options.display.max_columns = None\n",
    "pd.options.display.max_colwidth = 1000\n",
    "\n",
    "%matplotlib inline"
   ]
  },
  {
   "cell_type": "code",
   "execution_count": null,
   "metadata": {
    "ExecuteTime": {
     "end_time": "2018-07-26T02:00:40.398934Z",
     "start_time": "2018-07-26T02:00:40.393532Z"
    }
   },
   "outputs": [],
   "source": [
    "from os import listdir\n",
    "\n",
    "for filename in listdir('output'):\n",
    "    if '_grid_search' in filename:\n",
    "        print(filename)"
   ]
  },
  {
   "cell_type": "code",
   "execution_count": null,
   "metadata": {
    "ExecuteTime": {
     "end_time": "2018-07-26T03:07:50.500294Z",
     "start_time": "2018-07-26T03:07:50.468146Z"
    },
    "scrolled": true
   },
   "outputs": [],
   "source": [
    "gs_res = pd.read_csv('output/xgb_bo2_w2v_newcat_grid_search.csv', index_col='Unnamed: 0').sort_values(by=['val_auc'], ascending=False)\n",
    "#0.829998\n",
    "gs_res.head(10)"
   ]
  },
  {
   "cell_type": "code",
   "execution_count": null,
   "metadata": {
    "ExecuteTime": {
     "end_time": "2018-07-26T03:07:43.420378Z",
     "start_time": "2018-07-26T03:07:43.412899Z"
    }
   },
   "outputs": [],
   "source": [
    "# gs_res.to_csv('output/xgb_bo2_w2v_newcat_grid_search.csv')"
   ]
  },
  {
   "cell_type": "code",
   "execution_count": null,
   "metadata": {
    "ExecuteTime": {
     "end_time": "2018-07-26T03:09:41.284705Z",
     "start_time": "2018-07-26T03:09:41.251522Z"
    },
    "scrolled": true
   },
   "outputs": [],
   "source": [
    "gs_res2 = pd.read_csv('output/xgb_grid_search.csv', index_col='Unnamed: 0').sort_values(by=['val_auc'], ascending=False)\n",
    "#0.829998\n",
    "gs_res2.head(20)"
   ]
  },
  {
   "cell_type": "code",
   "execution_count": null,
   "metadata": {
    "ExecuteTime": {
     "end_time": "2018-07-24T19:42:07.970949Z",
     "start_time": "2018-07-24T19:42:07.953929Z"
    }
   },
   "outputs": [],
   "source": [
    "temp = pd.concat([gs_lgb2_res, gs_lgb_res], axis=0)"
   ]
  },
  {
   "cell_type": "code",
   "execution_count": null,
   "metadata": {
    "ExecuteTime": {
     "end_time": "2018-07-24T19:43:51.350750Z",
     "start_time": "2018-07-24T19:43:51.301493Z"
    }
   },
   "outputs": [],
   "source": [
    "temp.head(50).sort_values(by=['val_auc'], ascending=False)"
   ]
  },
  {
   "cell_type": "code",
   "execution_count": null,
   "metadata": {
    "ExecuteTime": {
     "end_time": "2018-07-26T02:01:08.350006Z",
     "start_time": "2018-07-26T02:01:08.321443Z"
    },
    "scrolled": true
   },
   "outputs": [],
   "source": [
    "gs_catb1_res = pd.read_csv('output/catb_bo2_newcat_grid_search.csv', index_col='Unnamed: 0').sort_values(by=['val_AUC'], ascending=False)\n",
    "#0.829998\n",
    "gs_catb1_res.head(20)"
   ]
  },
  {
   "cell_type": "code",
   "execution_count": null,
   "metadata": {
    "ExecuteTime": {
     "end_time": "2018-07-24T19:53:10.370084Z",
     "start_time": "2018-07-24T19:53:10.353448Z"
    }
   },
   "outputs": [],
   "source": [
    "for col in temp.columns:\n",
    "    try:\n",
    "        print(col, temp[col].max(), temp[col].min())\n",
    "    except:\n",
    "        print(col, 'NA')\n",
    "        pass"
   ]
  },
  {
   "cell_type": "code",
   "execution_count": null,
   "metadata": {
    "ExecuteTime": {
     "end_time": "2018-07-24T20:02:56.040705Z",
     "start_time": "2018-07-24T20:02:55.873527Z"
    }
   },
   "outputs": [],
   "source": [
    "temp.plot(x='bagging_fraction', y='val_auc', kind='scatter', ylim=[temp['val_auc'].min(),temp['val_auc'].max()])"
   ]
  },
  {
   "cell_type": "code",
   "execution_count": null,
   "metadata": {
    "ExecuteTime": {
     "end_time": "2018-07-19T17:33:17.285254Z",
     "start_time": "2018-07-19T17:33:17.253458Z"
    },
    "scrolled": true
   },
   "outputs": [],
   "source": [
    "gs_xgb2_res = pd.read_csv('output/xgb_bo2_w2v_newcat_grid_search.csv', index_col='Unnamed: 0').sort_values(by=['val_auc'], ascending=False)\n",
    "#0.829998\n",
    "gs_xgb2_res.head(20)"
   ]
  },
  {
   "cell_type": "code",
   "execution_count": null,
   "metadata": {
    "ExecuteTime": {
     "end_time": "2018-07-15T02:15:36.460791Z",
     "start_time": "2018-07-15T02:15:36.422547Z"
    }
   },
   "outputs": [],
   "source": [
    "import pandas as pd\n",
    "\n",
    "gs_nn_res = pd.read_csv('output/nn_grid_search.csv', index_col='Unnamed: 0').sort_values(by=['val_auc'], ascending=False)\n",
    "\n",
    "gs_nn_res.head()"
   ]
  },
  {
   "cell_type": "code",
   "execution_count": null,
   "metadata": {
    "ExecuteTime": {
     "end_time": "2018-07-26T02:52:18.807465Z",
     "start_time": "2018-07-26T02:52:18.779912Z"
    }
   },
   "outputs": [],
   "source": [
    "stacknet_res = pd.read_csv('output/oof/stacknet_report.csv').sort_values(by=['oof_cv_score'], ascending=False)\n",
    "stacknet_res['num_model_data'] = stacknet_res['chosen model_data'].apply(lambda x: len(x.split('|')) if x is not np.nan else 0)\n",
    "stacknet_res"
   ]
  },
  {
   "cell_type": "code",
   "execution_count": null,
   "metadata": {
    "ExecuteTime": {
     "end_time": "2018-07-18T21:40:30.353020Z",
     "start_time": "2018-07-18T21:40:30.345670Z"
    }
   },
   "outputs": [],
   "source": [
    "stacknet_res[stacknet_res.model_data == 'IJCq__NN_layer2']['chosen model_data'].tolist()"
   ]
  },
  {
   "cell_type": "code",
   "execution_count": null,
   "metadata": {},
   "outputs": [],
   "source": [
    "# 1. oof_cv_score vs. gs_val_auc\n",
    "# for NN, oof_cv_score != gs_val_auc is normal, because gs_val_auc is get by train+val in grid search, while \n",
    "# oof_cv_score is got by nfolds cv\n",
    "# for LGB, if gs_cv is true in config file, then oof_cv_score == gs_val_auc (almost). otherwise, based on the same\n",
    "# reason as NN, oof_cv_score != gs_val_auc is normal \n",
    "\n",
    "# 2. test_score\n",
    "# for NN: the one(not showing in log) is got by train+val and load_weights when doing prediction after grid search\n",
    "# (when do_preds is true in config file), and test_score is got during oof where all trainig data are used. It's \n",
    "# normal that they are not equal\n",
    "# for LGB, since model is retrain using all training data when doing prediction after grid search, the one is not in \n",
    "# log == test_score"
   ]
  },
  {
   "cell_type": "code",
   "execution_count": null,
   "metadata": {
    "ExecuteTime": {
     "end_time": "2018-07-11T19:14:48.588701Z",
     "start_time": "2018-07-11T19:14:48.565148Z"
    }
   },
   "outputs": [],
   "source": [
    "import os\n",
    "import sys\n",
    "#nb_dir = os.path.split(os.getcwd())[0]\n",
    "#if nb_dir not in sys.path:\n",
    "#    sys.path.append(nb_dir)\n",
    "    \n",
    "autolib_dir = '/home/kai/data/shiyi/AlphaBoosting/automl'\n",
    "if autolib_dir not in sys.path:\n",
    "    sys.path.append(autolib_dir)\n",
    "\n",
    "print(sys.path)\n",
    "\n",
    "%load_ext autoreload\n",
    "%autoreload 2"
   ]
  },
  {
   "cell_type": "code",
   "execution_count": null,
   "metadata": {
    "ExecuteTime": {
     "end_time": "2018-07-01T02:36:46.687291Z",
     "start_time": "2018-07-01T02:36:46.655578Z"
    }
   },
   "outputs": [],
   "source": [
    "from automl_libs import BaseLayerResultsRepo"
   ]
  },
  {
   "cell_type": "code",
   "execution_count": null,
   "metadata": {
    "ExecuteTime": {
     "end_time": "2018-07-01T02:36:46.939196Z",
     "start_time": "2018-07-01T02:36:46.890890Z"
    }
   },
   "outputs": [],
   "source": [
    "repo = BaseLayerResultsRepo(['label'], 'output/oof/', load_from_file=True)"
   ]
  },
  {
   "cell_type": "code",
   "execution_count": null,
   "metadata": {
    "ExecuteTime": {
     "end_time": "2018-07-01T02:36:47.250712Z",
     "start_time": "2018-07-01T02:36:47.219616Z"
    }
   },
   "outputs": [],
   "source": [
    "for m,s in repo.show_scores():\n",
    "    print(s,m)"
   ]
  },
  {
   "cell_type": "code",
   "execution_count": null,
   "metadata": {
    "ExecuteTime": {
     "end_time": "2018-07-11T17:12:58.168329Z",
     "start_time": "2018-07-11T17:12:58.150985Z"
    }
   },
   "outputs": [],
   "source": [
    "gs_nn_res.head(0).T.to_dict()"
   ]
  }
 ],
 "metadata": {
  "kernelspec": {
   "display_name": "Python 3.5 (tf_gpu)",
   "language": "python",
   "name": "tf_gpu"
  },
  "language_info": {
   "codemirror_mode": {
    "name": "ipython",
    "version": 3
   },
   "file_extension": ".py",
   "mimetype": "text/x-python",
   "name": "python",
   "nbconvert_exporter": "python",
   "pygments_lexer": "ipython3",
   "version": "3.5.5"
  },
  "varInspector": {
   "cols": {
    "lenName": 16,
    "lenType": 16,
    "lenVar": 40
   },
   "kernels_config": {
    "python": {
     "delete_cmd_postfix": "",
     "delete_cmd_prefix": "del ",
     "library": "var_list.py",
     "varRefreshCmd": "print(var_dic_list())"
    },
    "r": {
     "delete_cmd_postfix": ") ",
     "delete_cmd_prefix": "rm(",
     "library": "var_list.r",
     "varRefreshCmd": "cat(var_dic_list()) "
    }
   },
   "types_to_exclude": [
    "module",
    "function",
    "builtin_function_or_method",
    "instance",
    "_Feature"
   ],
   "window_display": false
  }
 },
 "nbformat": 4,
 "nbformat_minor": 2
}
