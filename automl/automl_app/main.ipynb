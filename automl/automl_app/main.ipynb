{
 "cells": [
  {
   "cell_type": "code",
   "execution_count": 1,
   "metadata": {
    "ExecuteTime": {
     "end_time": "2018-06-14T14:20:14.215041Z",
     "start_time": "2018-06-14T14:20:14.209507Z"
    },
    "collapsed": true
   },
   "outputs": [],
   "source": [
    "import os\n",
    "import sys\n",
    "nb_dir = os.path.split(os.getcwd())[0]\n",
    "if nb_dir not in sys.path:\n",
    "    sys.path.append(nb_dir)"
   ]
  },
  {
   "cell_type": "code",
   "execution_count": 2,
   "metadata": {
    "ExecuteTime": {
     "end_time": "2018-06-14T14:20:14.229400Z",
     "start_time": "2018-06-14T14:20:14.216360Z"
    }
   },
   "outputs": [
    {
     "data": {
      "text/plain": [
       "'/home/kai/data/shiyi/AlphaBoosting/automl'"
      ]
     },
     "execution_count": 2,
     "metadata": {},
     "output_type": "execute_result"
    }
   ],
   "source": [
    "nb_dir"
   ]
  },
  {
   "cell_type": "code",
   "execution_count": 3,
   "metadata": {
    "ExecuteTime": {
     "end_time": "2018-06-14T14:20:14.236355Z",
     "start_time": "2018-06-14T14:20:14.230722Z"
    }
   },
   "outputs": [
    {
     "data": {
      "text/plain": [
       "['',\n",
       " '/home/kai/anaconda3/lib/python36.zip',\n",
       " '/home/kai/anaconda3/lib/python3.6',\n",
       " '/home/kai/anaconda3/lib/python3.6/lib-dynload',\n",
       " '/home/kai/anaconda3/lib/python3.6/site-packages',\n",
       " '/home/kai/anaconda3/lib/python3.6/site-packages/xgboost-0.7-py3.6.egg',\n",
       " '/home/kai/anaconda3/lib/python3.6/site-packages/duckling-1.8.0-py3.6.egg',\n",
       " '/home/kai/anaconda3/lib/python3.6/site-packages/JPype1-0.6.3-py3.6-linux-x86_64.egg',\n",
       " '/home/kai/anaconda3/lib/python3.6/site-packages/IPython/extensions',\n",
       " '/home/kai/.ipython',\n",
       " '/home/kai/data/shiyi/AlphaBoosting/automl']"
      ]
     },
     "execution_count": 3,
     "metadata": {},
     "output_type": "execute_result"
    }
   ],
   "source": [
    "sys.path"
   ]
  },
  {
   "cell_type": "code",
   "execution_count": 4,
   "metadata": {
    "ExecuteTime": {
     "end_time": "2018-06-14T14:20:14.251379Z",
     "start_time": "2018-06-14T14:20:14.237615Z"
    },
    "collapsed": true
   },
   "outputs": [],
   "source": [
    "%load_ext autoreload"
   ]
  },
  {
   "cell_type": "code",
   "execution_count": 5,
   "metadata": {
    "ExecuteTime": {
     "end_time": "2018-06-14T14:20:14.254521Z",
     "start_time": "2018-06-14T14:20:14.252658Z"
    },
    "collapsed": true
   },
   "outputs": [],
   "source": [
    "%autoreload 2"
   ]
  },
  {
   "cell_type": "code",
   "execution_count": 6,
   "metadata": {
    "ExecuteTime": {
     "end_time": "2018-06-14T14:20:14.519506Z",
     "start_time": "2018-06-14T14:20:14.255803Z"
    },
    "collapsed": true
   },
   "outputs": [],
   "source": [
    "from automl_libs import feature_engineering as fe\n",
    "from automl_libs import encoding, kernels "
   ]
  },
  {
   "cell_type": "code",
   "execution_count": 74,
   "metadata": {
    "ExecuteTime": {
     "end_time": "2018-06-14T20:07:32.462022Z",
     "start_time": "2018-06-14T20:07:32.421483Z"
    },
    "collapsed": true
   },
   "outputs": [],
   "source": [
    "# params\n",
    "#param = {'trainLen': self.train_len, 'splitCol': 'a', 'col': self.label, 'coefficient': 10, 'n': 2, 'fillna': 22}\n",
    "# feature_engineering_dict.append({'params': params, 'function': 'count', 'feature_cols': ['a','b']})\n",
    "# feature_engineering_dict.append({'params': params, 'function': 'unique_count', 'feature_cols': ['a','b']})\n",
    "# feature_engineering_dict.append({'params': params, 'function': 'cumulative_count', 'feature_cols': ['a','b']})\n",
    "# feature_engineering_dict.append({'params': params, 'function': 'reverse_cumulative_count', 'feature_cols': ['a','b']})\n",
    "# feature_engineering_dict.append({'params': params, 'function': 'variance', 'feature_cols': ['a','n']})\n",
    "# feature_engineering_dict.append({'params': params, 'function': 'count_std_over_mean', 'feature_cols': ['a','b']})\n",
    "# feature_engineering_dict.append({'params': params, 'function': 'time_to_n_next', 'feature_cols': ['a','t']})\n",
    "# feature_engineering_dict.append({'params': params, 'function': 'count_in_previous_n_time_unit', 'feature_cols': ['a','t']})\n",
    "# feature_engineering_dict.append({'params': params, 'function': 'count_in_next_n_time_unit', 'feature_cols': ['a','t']})\n",
    "\n",
    "# feature_engineering_dict.append({'params': params, 'function': 'woe', 'feature_cols': ['a']})\n",
    "# feature_engineering_dict.append({'params': params, 'function': 'chi_square', 'feature_cols': ['a']})\n",
    "# feature_engineering_dict.append({'params': params, 'function': 'mean', 'feature_cols': ['a']})"
   ]
  },
  {
   "cell_type": "code",
   "execution_count": 66,
   "metadata": {
    "ExecuteTime": {
     "end_time": "2018-06-14T20:01:58.870779Z",
     "start_time": "2018-06-14T20:01:58.846301Z"
    },
    "collapsed": true
   },
   "outputs": [],
   "source": [
    "categorical_features = ['Month', 'DayofMonth', 'DayOfWeek']#, 'DepTime', 'UniqueCarrier', 'Origin', 'Dest', 'Distance']"
   ]
  },
  {
   "cell_type": "code",
   "execution_count": 104,
   "metadata": {
    "ExecuteTime": {
     "end_time": "2018-06-14T21:09:09.728107Z",
     "start_time": "2018-06-14T21:09:09.694238Z"
    }
   },
   "outputs": [],
   "source": [
    "import itertools\n",
    "params = {'split_col': 't', 'coefficient': 10, 'n': 2, 'fillna': 22}\n",
    "features_to_gen = []\n",
    "def features_to_gen_append(features_to_gen, function_name, params):\n",
    "    for i in range(2, len(categorical_features)+1):\n",
    "        for combine in itertools.combinations(categorical_features, i):\n",
    "            if function_name == 'count':\n",
    "                features_to_gen.append({'params': {}, 'function': fe.count, 'feature_cols': combine})\n",
    "\n",
    "features_to_gen_append(features_to_gen, 'count', params)"
   ]
  },
  {
   "cell_type": "code",
   "execution_count": 97,
   "metadata": {
    "ExecuteTime": {
     "end_time": "2018-06-14T20:52:25.477064Z",
     "start_time": "2018-06-14T20:52:25.456566Z"
    }
   },
   "outputs": [
    {
     "data": {
      "text/plain": [
       "'count_in_previous_n_time_unit'"
      ]
     },
     "execution_count": 97,
     "metadata": {},
     "output_type": "execute_result"
    }
   ],
   "source": [
    "fe.count_in_previous_n_time_unit.__name__"
   ]
  },
  {
   "cell_type": "code",
   "execution_count": 105,
   "metadata": {
    "ExecuteTime": {
     "end_time": "2018-06-14T21:09:15.084994Z",
     "start_time": "2018-06-14T21:09:15.058444Z"
    }
   },
   "outputs": [
    {
     "data": {
      "text/plain": [
       "[{'feature_cols': ('Month', 'DayofMonth'),\n",
       "  'function': <function automl_libs.feature_engineering.count>,\n",
       "  'params': {}},\n",
       " {'feature_cols': ('Month', 'DayOfWeek'),\n",
       "  'function': <function automl_libs.feature_engineering.count>,\n",
       "  'params': {}},\n",
       " {'feature_cols': ('DayofMonth', 'DayOfWeek'),\n",
       "  'function': <function automl_libs.feature_engineering.count>,\n",
       "  'params': {}},\n",
       " {'feature_cols': ('Month', 'DayofMonth', 'DayOfWeek'),\n",
       "  'function': <function automl_libs.feature_engineering.count>,\n",
       "  'params': {}}]"
      ]
     },
     "execution_count": 105,
     "metadata": {},
     "output_type": "execute_result"
    }
   ],
   "source": [
    "features_to_gen"
   ]
  },
  {
   "cell_type": "code",
   "execution_count": 87,
   "metadata": {
    "ExecuteTime": {
     "end_time": "2018-06-14T20:22:37.074869Z",
     "start_time": "2018-06-14T20:22:37.053723Z"
    }
   },
   "outputs": [
    {
     "data": {
      "text/plain": [
       "['Month', 'DayofMonth', 'DayOfWeek']"
      ]
     },
     "execution_count": 87,
     "metadata": {},
     "output_type": "execute_result"
    }
   ],
   "source": [
    "categorical_features\n"
   ]
  },
  {
   "cell_type": "code",
   "execution_count": 8,
   "metadata": {
    "ExecuteTime": {
     "end_time": "2018-06-14T14:20:14.563863Z",
     "start_time": "2018-06-14T14:20:14.551785Z"
    },
    "collapsed": true
   },
   "outputs": [],
   "source": [
    "import logger_config"
   ]
  },
  {
   "cell_type": "code",
   "execution_count": 9,
   "metadata": {
    "ExecuteTime": {
     "end_time": "2018-06-14T14:20:14.578509Z",
     "start_time": "2018-06-14T14:20:14.565553Z"
    },
    "collapsed": true
   },
   "outputs": [],
   "source": [
    "logger_config.config('automl.log')\n",
    "\n",
    "# logger = logging.getLogger('AutoML.automl_app.app')\n",
    "# def tempdef():\n",
    "#     logger.info('start feature engineering...')\n",
    "#     # fe.do_fe()\n",
    "#     logger.info('feature engineering done')\n",
    "\n",
    "#     logger.info('start grid search...')\n",
    "#     # gs.do_gs()\n",
    "#     logger.info('grid search done')\n",
    "\n",
    "# tempdef()"
   ]
  },
  {
   "cell_type": "code",
   "execution_count": 10,
   "metadata": {
    "ExecuteTime": {
     "end_time": "2018-06-14T14:20:14.591526Z",
     "start_time": "2018-06-14T14:20:14.580280Z"
    },
    "collapsed": true
   },
   "outputs": [],
   "source": [
    "#a = AlphaBoosting(root='./', train_csv_url='./a.txt', test_csv_url='./b.txt', \n",
    "#                  validation_index=[1,2], func_map=func_map, label='l',down_sampling_ratio=0.5, downsampling=2)"
   ]
  },
  {
   "cell_type": "code",
   "execution_count": 107,
   "metadata": {
    "ExecuteTime": {
     "end_time": "2018-06-14T21:12:11.490631Z",
     "start_time": "2018-06-14T21:12:02.690712Z"
    },
    "scrolled": false
   },
   "outputs": [
    {
     "name": "stderr",
     "output_type": "stream",
     "text": [
      "2018-06-14 21:12:02,763 | INFO     | app.AlphaBoosting                            | __init__             | #58  | Run record file [project1/run_record.json] found. Continue from the previous run...\n",
      "2018-06-14 21:12:02,785 | INFO     | app.AlphaBoosting                            | __init__             | #89  | save run record\n",
      "2018-06-14 21:12:02,978 | INFO     | app.AlphaBoosting                            | __init__             | #93  | generate todo list\n",
      "2018-06-14 21:12:02,980 | INFO     | app.AlphaBoosting                            | __init__             | #109 | feature engineering\n"
     ]
    },
    {
     "name": "stdout",
     "output_type": "stream",
     "text": [
      "> /home/kai/data/shiyi/AlphaBoosting/automl/automl_app/app.py(198)_feature_engineering()\n",
      "-> for feature_to_gen in self.features_to_gen:\n",
      "(Pdb) c\n"
     ]
    },
    {
     "name": "stderr",
     "output_type": "stream",
     "text": [
      "2018-06-14 21:12:05,545 | DEBUG    | automl_libs.feature_engineering              | count                | #65  | feature generated: count__Month_DayofMonth\n",
      "2018-06-14 21:12:05,549 | DEBUG    | automl_libs.utils                            | save                 | #40  | train__count__Month_DayofMonth.pkl saved at project1/data/features/\n",
      "2018-06-14 21:12:05,550 | DEBUG    | automl_libs.utils                            | save                 | #41  | test__count__Month_DayofMonth.pkl saved at project1/data/features/\n",
      "2018-06-14 21:12:05,757 | DEBUG    | automl_libs.feature_engineering              | count                | #65  | feature generated: count__Month_DayOfWeek\n",
      "2018-06-14 21:12:05,774 | DEBUG    | automl_libs.utils                            | save                 | #40  | train__count__Month_DayOfWeek.pkl saved at project1/data/features/\n",
      "2018-06-14 21:12:05,776 | DEBUG    | automl_libs.utils                            | save                 | #41  | test__count__Month_DayOfWeek.pkl saved at project1/data/features/\n",
      "2018-06-14 21:12:05,994 | DEBUG    | automl_libs.feature_engineering              | count                | #65  | feature generated: count__DayofMonth_DayOfWeek\n",
      "2018-06-14 21:12:05,998 | DEBUG    | automl_libs.utils                            | save                 | #40  | train__count__DayofMonth_DayOfWeek.pkl saved at project1/data/features/\n",
      "2018-06-14 21:12:05,999 | DEBUG    | automl_libs.utils                            | save                 | #41  | test__count__DayofMonth_DayOfWeek.pkl saved at project1/data/features/\n",
      "2018-06-14 21:12:06,228 | DEBUG    | automl_libs.feature_engineering              | count                | #65  | feature generated: count__Month_DayofMonth_DayOfWeek\n",
      "2018-06-14 21:12:06,232 | DEBUG    | automl_libs.utils                            | save                 | #40  | train__count__Month_DayofMonth_DayOfWeek.pkl saved at project1/data/features/\n",
      "2018-06-14 21:12:06,233 | DEBUG    | automl_libs.utils                            | save                 | #41  | test__count__Month_DayofMonth_DayOfWeek.pkl saved at project1/data/features/\n",
      "2018-06-14 21:12:06,235 | INFO     | app.AlphaBoosting                            | __init__             | #113 | validation\n",
      "2018-06-14 21:12:07,867 | INFO     | app.AlphaBoosting                            | __init__             | #117 | concat test\n",
      "2018-06-14 21:12:08,070 | INFO     | app.AlphaBoosting                            | __init__             | #121 | grid search\n",
      "/home/kai/anaconda3/lib/python3.6/site-packages/lightgbm/engine.py:99: UserWarning: Found `num_rounds` in params. Will use it instead of argument\n",
      "  warnings.warn(\"Found `{}` in params. Will use it instead of argument\".format(alias))\n",
      "/home/kai/anaconda3/lib/python3.6/site-packages/lightgbm/engine.py:104: UserWarning: Found `early_stopping_round` in params. Will use it instead of argument\n",
      "  warnings.warn(\"Found `{}` in params. Will use it instead of argument\".format(alias))\n",
      "/home/kai/anaconda3/lib/python3.6/site-packages/lightgbm/basic.py:1027: UserWarning: Using categorical_feature in Dataset.\n",
      "  warnings.warn('Using categorical_feature in Dataset.')\n",
      "/home/kai/anaconda3/lib/python3.6/site-packages/lightgbm/basic.py:668: UserWarning: categorical_feature in param dict is overrided.\n",
      "  warnings.warn('categorical_feature in param dict is overrided.')\n"
     ]
    },
    {
     "name": "stdout",
     "output_type": "stream",
     "text": [
      "Training until validation scores don't improve for 1 rounds.\n"
     ]
    },
    {
     "name": "stderr",
     "output_type": "stream",
     "text": [
      "2018-06-14 21:12:09,826 | DEBUG    | app.AlphaBoosting                            | _lgb_grid_search     | #354 | [do_preds] is True, generating predictions ...\n",
      "2018-06-14 21:12:09,866 | DEBUG    | app.AlphaBoosting                            | _lgb_grid_search     | #362 | Predictions(1529010729) saved in project1/output/gs_saved_preds/.\n",
      "2018-06-14 21:12:09,867 | DEBUG    | app.AlphaBoosting                            | _lgb_grid_search     | #368 | \"[0, 2, 3, 5, 7, 9, 10, 11]\"\n",
      "2018-06-14 21:12:09,876 | DEBUG    | app.AlphaBoosting                            | _lgb_grid_search     | #379 | project1/project1_grid_search.csv updated\n"
     ]
    },
    {
     "name": "stdout",
     "output_type": "stream",
     "text": [
      "Early stopping, best iteration is:\n",
      "[5]\ttraining's auc: 0.713128\tvalid_1's auc: 0.709378\n"
     ]
    },
    {
     "name": "stderr",
     "output_type": "stream",
     "text": [
      "2018-06-14 21:12:11,436 | DEBUG    | app.AlphaBoosting                            | _lgb_grid_search     | #354 | [do_preds] is True, generating predictions ...\n"
     ]
    },
    {
     "name": "stdout",
     "output_type": "stream",
     "text": [
      "Training until validation scores don't improve for 1 rounds.\n",
      "Early stopping, best iteration is:\n",
      "[4]\ttraining's auc: 0.715332\tvalid_1's auc: 0.71252\n"
     ]
    },
    {
     "name": "stderr",
     "output_type": "stream",
     "text": [
      "2018-06-14 21:12:11,474 | DEBUG    | app.AlphaBoosting                            | _lgb_grid_search     | #362 | Predictions(1529010730) saved in project1/output/gs_saved_preds/.\n",
      "2018-06-14 21:12:11,475 | DEBUG    | app.AlphaBoosting                            | _lgb_grid_search     | #368 | \"[0, 2, 3, 5, 7, 9, 10, 11]\"\n",
      "2018-06-14 21:12:11,483 | DEBUG    | app.AlphaBoosting                            | _lgb_grid_search     | #379 | project1/project1_grid_search.csv updated\n"
     ]
    }
   ],
   "source": [
    "from app import AlphaBoosting\n",
    "\n",
    "project_path = '/home/kai/data/shiyi/AlphaBoosting/automl/automl_app/project1/' \n",
    "automl_config_file = project_path + 'automl_config.json'\n",
    "run_record_file_name = project_path + 'run_record.json' # don't created this file\n",
    "b = AlphaBoosting(automl_config_file, features_to_gen)"
   ]
  },
  {
   "cell_type": "code",
   "execution_count": 44,
   "metadata": {
    "ExecuteTime": {
     "end_time": "2018-06-14T18:47:11.182784Z",
     "start_time": "2018-06-14T18:47:11.158726Z"
    },
    "collapsed": true
   },
   "outputs": [],
   "source": [
    "import pandas as pd"
   ]
  },
  {
   "cell_type": "code",
   "execution_count": 64,
   "metadata": {
    "ExecuteTime": {
     "end_time": "2018-06-14T19:57:05.640560Z",
     "start_time": "2018-06-14T19:57:05.592017Z"
    }
   },
   "outputs": [
    {
     "data": {
      "text/html": [
       "<div>\n",
       "<style>\n",
       "    .dataframe thead tr:only-child th {\n",
       "        text-align: right;\n",
       "    }\n",
       "\n",
       "    .dataframe thead th {\n",
       "        text-align: left;\n",
       "    }\n",
       "\n",
       "    .dataframe tbody tr th {\n",
       "        vertical-align: top;\n",
       "    }\n",
       "</style>\n",
       "<table border=\"1\" class=\"dataframe\">\n",
       "  <thead>\n",
       "    <tr style=\"text-align: right;\">\n",
       "      <th></th>\n",
       "      <th>bagging_fraction</th>\n",
       "      <th>bagging_freq</th>\n",
       "      <th>bagging_seed</th>\n",
       "      <th>best_round</th>\n",
       "      <th>boosting</th>\n",
       "      <th>categorical_column</th>\n",
       "      <th>cv</th>\n",
       "      <th>feature_fraction</th>\n",
       "      <th>feature_fraction_seed</th>\n",
       "      <th>learning_rate</th>\n",
       "      <th>...</th>\n",
       "      <th>min_data_in_leaf</th>\n",
       "      <th>num_leaves</th>\n",
       "      <th>num_threads</th>\n",
       "      <th>objective</th>\n",
       "      <th>preds</th>\n",
       "      <th>scale_pos_weight</th>\n",
       "      <th>timestamp</th>\n",
       "      <th>train_auc</th>\n",
       "      <th>val_auc</th>\n",
       "      <th>verbose</th>\n",
       "    </tr>\n",
       "  </thead>\n",
       "  <tbody>\n",
       "    <tr>\n",
       "      <th>1529005138</th>\n",
       "      <td>1.0</td>\n",
       "      <td>1</td>\n",
       "      <td>6682269</td>\n",
       "      <td>4000</td>\n",
       "      <td>gbdt</td>\n",
       "      <td>\"[0, 1, 2, 3, 4, 5, 6, 7]\"</td>\n",
       "      <td>NaN</td>\n",
       "      <td>1.0</td>\n",
       "      <td>6682269</td>\n",
       "      <td>0.001</td>\n",
       "      <td>...</td>\n",
       "      <td>28</td>\n",
       "      <td>127</td>\n",
       "      <td>4</td>\n",
       "      <td>binary</td>\n",
       "      <td>1529005138</td>\n",
       "      <td>2</td>\n",
       "      <td>2018-06-14 15:38:58</td>\n",
       "      <td>0.801038</td>\n",
       "      <td>0.766851</td>\n",
       "      <td>1</td>\n",
       "    </tr>\n",
       "    <tr>\n",
       "      <th>1529005975</th>\n",
       "      <td>0.9</td>\n",
       "      <td>1</td>\n",
       "      <td>29545387</td>\n",
       "      <td>12</td>\n",
       "      <td>gbdt</td>\n",
       "      <td>\"[0, 1, 2, 3, 4, 5, 6, 7]\"</td>\n",
       "      <td>True</td>\n",
       "      <td>0.8</td>\n",
       "      <td>29545387</td>\n",
       "      <td>0.030</td>\n",
       "      <td>...</td>\n",
       "      <td>40</td>\n",
       "      <td>61</td>\n",
       "      <td>4</td>\n",
       "      <td>binary</td>\n",
       "      <td>1529005975</td>\n",
       "      <td>2</td>\n",
       "      <td>2018-06-14 15:52:55</td>\n",
       "      <td>NaN</td>\n",
       "      <td>0.734447</td>\n",
       "      <td>1</td>\n",
       "    </tr>\n",
       "    <tr>\n",
       "      <th>1529006206</th>\n",
       "      <td>0.3</td>\n",
       "      <td>1</td>\n",
       "      <td>34618428</td>\n",
       "      <td>5</td>\n",
       "      <td>gbdt</td>\n",
       "      <td>\"[0, 1, 2, 3, 4, 5, 6, 7]\"</td>\n",
       "      <td>NaN</td>\n",
       "      <td>0.4</td>\n",
       "      <td>34618428</td>\n",
       "      <td>0.100</td>\n",
       "      <td>...</td>\n",
       "      <td>27</td>\n",
       "      <td>127</td>\n",
       "      <td>4</td>\n",
       "      <td>binary</td>\n",
       "      <td>1529006206</td>\n",
       "      <td>2</td>\n",
       "      <td>2018-06-14 15:56:46</td>\n",
       "      <td>0.732258</td>\n",
       "      <td>0.725103</td>\n",
       "      <td>1</td>\n",
       "    </tr>\n",
       "    <tr>\n",
       "      <th>1529005557</th>\n",
       "      <td>0.8</td>\n",
       "      <td>1</td>\n",
       "      <td>18597975</td>\n",
       "      <td>14</td>\n",
       "      <td>gbdt</td>\n",
       "      <td>\"[0, 1, 2, 3, 4, 5, 6, 7]\"</td>\n",
       "      <td>NaN</td>\n",
       "      <td>0.8</td>\n",
       "      <td>18597975</td>\n",
       "      <td>0.001</td>\n",
       "      <td>...</td>\n",
       "      <td>49</td>\n",
       "      <td>15</td>\n",
       "      <td>4</td>\n",
       "      <td>binary</td>\n",
       "      <td>1529005557</td>\n",
       "      <td>2</td>\n",
       "      <td>2018-06-14 15:45:57</td>\n",
       "      <td>0.719227</td>\n",
       "      <td>0.717196</td>\n",
       "      <td>1</td>\n",
       "    </tr>\n",
       "    <tr>\n",
       "      <th>1529006204</th>\n",
       "      <td>0.5</td>\n",
       "      <td>1</td>\n",
       "      <td>32916449</td>\n",
       "      <td>3</td>\n",
       "      <td>gbdt</td>\n",
       "      <td>\"[0, 1, 2, 3, 4, 5, 6, 7]\"</td>\n",
       "      <td>NaN</td>\n",
       "      <td>0.4</td>\n",
       "      <td>32916449</td>\n",
       "      <td>0.001</td>\n",
       "      <td>...</td>\n",
       "      <td>20</td>\n",
       "      <td>127</td>\n",
       "      <td>4</td>\n",
       "      <td>binary</td>\n",
       "      <td>1529006204</td>\n",
       "      <td>2</td>\n",
       "      <td>2018-06-14 15:56:44</td>\n",
       "      <td>0.724697</td>\n",
       "      <td>0.716072</td>\n",
       "      <td>1</td>\n",
       "    </tr>\n",
       "    <tr>\n",
       "      <th>1529005829</th>\n",
       "      <td>0.8</td>\n",
       "      <td>1</td>\n",
       "      <td>19160511</td>\n",
       "      <td>4</td>\n",
       "      <td>gbdt</td>\n",
       "      <td>\"[0, 1, 2, 3, 4, 5, 6, 7]\"</td>\n",
       "      <td>True</td>\n",
       "      <td>0.3</td>\n",
       "      <td>19160511</td>\n",
       "      <td>0.100</td>\n",
       "      <td>...</td>\n",
       "      <td>32</td>\n",
       "      <td>61</td>\n",
       "      <td>4</td>\n",
       "      <td>binary</td>\n",
       "      <td>1529005829</td>\n",
       "      <td>2</td>\n",
       "      <td>2018-06-14 15:50:29</td>\n",
       "      <td>NaN</td>\n",
       "      <td>0.715041</td>\n",
       "      <td>1</td>\n",
       "    </tr>\n",
       "    <tr>\n",
       "      <th>1529005980</th>\n",
       "      <td>0.4</td>\n",
       "      <td>1</td>\n",
       "      <td>34465614</td>\n",
       "      <td>2</td>\n",
       "      <td>gbdt</td>\n",
       "      <td>\"[0, 1, 2, 3, 4, 5, 6, 7]\"</td>\n",
       "      <td>True</td>\n",
       "      <td>0.6</td>\n",
       "      <td>34465614</td>\n",
       "      <td>0.100</td>\n",
       "      <td>...</td>\n",
       "      <td>29</td>\n",
       "      <td>127</td>\n",
       "      <td>4</td>\n",
       "      <td>binary</td>\n",
       "      <td>1529005980</td>\n",
       "      <td>2</td>\n",
       "      <td>2018-06-14 15:53:00</td>\n",
       "      <td>NaN</td>\n",
       "      <td>0.713030</td>\n",
       "      <td>1</td>\n",
       "    </tr>\n",
       "    <tr>\n",
       "      <th>1529005826</th>\n",
       "      <td>0.6</td>\n",
       "      <td>1</td>\n",
       "      <td>16715672</td>\n",
       "      <td>1</td>\n",
       "      <td>gbdt</td>\n",
       "      <td>\"[0, 1, 2, 3, 4, 5, 6, 7]\"</td>\n",
       "      <td>True</td>\n",
       "      <td>0.7</td>\n",
       "      <td>16715672</td>\n",
       "      <td>0.001</td>\n",
       "      <td>...</td>\n",
       "      <td>49</td>\n",
       "      <td>31</td>\n",
       "      <td>4</td>\n",
       "      <td>binary</td>\n",
       "      <td>1529005826</td>\n",
       "      <td>2</td>\n",
       "      <td>2018-06-14 15:50:26</td>\n",
       "      <td>NaN</td>\n",
       "      <td>0.706975</td>\n",
       "      <td>1</td>\n",
       "    </tr>\n",
       "  </tbody>\n",
       "</table>\n",
       "<p>8 rows × 22 columns</p>\n",
       "</div>"
      ],
      "text/plain": [
       "            bagging_fraction  bagging_freq  bagging_seed  best_round boosting  \\\n",
       "1529005138               1.0             1       6682269        4000     gbdt   \n",
       "1529005975               0.9             1      29545387          12     gbdt   \n",
       "1529006206               0.3             1      34618428           5     gbdt   \n",
       "1529005557               0.8             1      18597975          14     gbdt   \n",
       "1529006204               0.5             1      32916449           3     gbdt   \n",
       "1529005829               0.8             1      19160511           4     gbdt   \n",
       "1529005980               0.4             1      34465614           2     gbdt   \n",
       "1529005826               0.6             1      16715672           1     gbdt   \n",
       "\n",
       "                    categorical_column    cv  feature_fraction  \\\n",
       "1529005138  \"[0, 1, 2, 3, 4, 5, 6, 7]\"   NaN               1.0   \n",
       "1529005975  \"[0, 1, 2, 3, 4, 5, 6, 7]\"  True               0.8   \n",
       "1529006206  \"[0, 1, 2, 3, 4, 5, 6, 7]\"   NaN               0.4   \n",
       "1529005557  \"[0, 1, 2, 3, 4, 5, 6, 7]\"   NaN               0.8   \n",
       "1529006204  \"[0, 1, 2, 3, 4, 5, 6, 7]\"   NaN               0.4   \n",
       "1529005829  \"[0, 1, 2, 3, 4, 5, 6, 7]\"  True               0.3   \n",
       "1529005980  \"[0, 1, 2, 3, 4, 5, 6, 7]\"  True               0.6   \n",
       "1529005826  \"[0, 1, 2, 3, 4, 5, 6, 7]\"  True               0.7   \n",
       "\n",
       "            feature_fraction_seed  learning_rate   ...     min_data_in_leaf  \\\n",
       "1529005138                6682269          0.001   ...                   28   \n",
       "1529005975               29545387          0.030   ...                   40   \n",
       "1529006206               34618428          0.100   ...                   27   \n",
       "1529005557               18597975          0.001   ...                   49   \n",
       "1529006204               32916449          0.001   ...                   20   \n",
       "1529005829               19160511          0.100   ...                   32   \n",
       "1529005980               34465614          0.100   ...                   29   \n",
       "1529005826               16715672          0.001   ...                   49   \n",
       "\n",
       "           num_leaves  num_threads  objective       preds scale_pos_weight  \\\n",
       "1529005138        127            4     binary  1529005138                2   \n",
       "1529005975         61            4     binary  1529005975                2   \n",
       "1529006206        127            4     binary  1529006206                2   \n",
       "1529005557         15            4     binary  1529005557                2   \n",
       "1529006204        127            4     binary  1529006204                2   \n",
       "1529005829         61            4     binary  1529005829                2   \n",
       "1529005980        127            4     binary  1529005980                2   \n",
       "1529005826         31            4     binary  1529005826                2   \n",
       "\n",
       "                      timestamp  train_auc   val_auc  verbose  \n",
       "1529005138  2018-06-14 15:38:58   0.801038  0.766851        1  \n",
       "1529005975  2018-06-14 15:52:55        NaN  0.734447        1  \n",
       "1529006206  2018-06-14 15:56:46   0.732258  0.725103        1  \n",
       "1529005557  2018-06-14 15:45:57   0.719227  0.717196        1  \n",
       "1529006204  2018-06-14 15:56:44   0.724697  0.716072        1  \n",
       "1529005829  2018-06-14 15:50:29        NaN  0.715041        1  \n",
       "1529005980  2018-06-14 15:53:00        NaN  0.713030        1  \n",
       "1529005826  2018-06-14 15:50:26        NaN  0.706975        1  \n",
       "\n",
       "[8 rows x 22 columns]"
      ]
     },
     "execution_count": 64,
     "metadata": {},
     "output_type": "execute_result"
    }
   ],
   "source": [
    "gs_res = pd.read_csv('project1/project1_grid_search.csv', index_col='Unnamed: 0').sort_values(by=['val_auc'], ascending=False)\n",
    "\n",
    "gs_res"
   ]
  },
  {
   "cell_type": "code",
   "execution_count": 63,
   "metadata": {
    "ExecuteTime": {
     "end_time": "2018-06-14T19:56:53.927763Z",
     "start_time": "2018-06-14T19:56:53.884877Z"
    }
   },
   "outputs": [
    {
     "data": {
      "text/html": [
       "<div>\n",
       "<style>\n",
       "    .dataframe thead tr:only-child th {\n",
       "        text-align: right;\n",
       "    }\n",
       "\n",
       "    .dataframe thead th {\n",
       "        text-align: left;\n",
       "    }\n",
       "\n",
       "    .dataframe tbody tr th {\n",
       "        vertical-align: top;\n",
       "    }\n",
       "</style>\n",
       "<table border=\"1\" class=\"dataframe\">\n",
       "  <thead>\n",
       "    <tr style=\"text-align: right;\">\n",
       "      <th></th>\n",
       "      <th>bagging_fraction</th>\n",
       "      <th>bagging_freq</th>\n",
       "      <th>bagging_seed</th>\n",
       "      <th>best_round</th>\n",
       "      <th>boosting</th>\n",
       "      <th>categorical_column</th>\n",
       "      <th>cv</th>\n",
       "      <th>feature_fraction</th>\n",
       "      <th>feature_fraction_seed</th>\n",
       "      <th>learning_rate</th>\n",
       "      <th>...</th>\n",
       "      <th>min_data_in_leaf</th>\n",
       "      <th>num_leaves</th>\n",
       "      <th>num_threads</th>\n",
       "      <th>objective</th>\n",
       "      <th>preds</th>\n",
       "      <th>scale_pos_weight</th>\n",
       "      <th>timestamp</th>\n",
       "      <th>train_auc</th>\n",
       "      <th>val_auc</th>\n",
       "      <th>verbose</th>\n",
       "    </tr>\n",
       "  </thead>\n",
       "  <tbody>\n",
       "    <tr>\n",
       "      <th>1529005138</th>\n",
       "      <td>1.0</td>\n",
       "      <td>1</td>\n",
       "      <td>6682269</td>\n",
       "      <td>4000</td>\n",
       "      <td>gbdt</td>\n",
       "      <td>\"[0, 1, 2, 3, 4, 5, 6, 7]\"</td>\n",
       "      <td>NaN</td>\n",
       "      <td>1.0</td>\n",
       "      <td>6682269</td>\n",
       "      <td>0.001</td>\n",
       "      <td>...</td>\n",
       "      <td>28</td>\n",
       "      <td>127</td>\n",
       "      <td>4</td>\n",
       "      <td>binary</td>\n",
       "      <td>1529005138</td>\n",
       "      <td>2</td>\n",
       "      <td>2018-06-14 15:38:58</td>\n",
       "      <td>0.801038</td>\n",
       "      <td>0.766851</td>\n",
       "      <td>1</td>\n",
       "    </tr>\n",
       "    <tr>\n",
       "      <th>1529005975</th>\n",
       "      <td>0.9</td>\n",
       "      <td>1</td>\n",
       "      <td>29545387</td>\n",
       "      <td>12</td>\n",
       "      <td>gbdt</td>\n",
       "      <td>\"[0, 1, 2, 3, 4, 5, 6, 7]\"</td>\n",
       "      <td>True</td>\n",
       "      <td>0.8</td>\n",
       "      <td>29545387</td>\n",
       "      <td>0.030</td>\n",
       "      <td>...</td>\n",
       "      <td>40</td>\n",
       "      <td>61</td>\n",
       "      <td>4</td>\n",
       "      <td>binary</td>\n",
       "      <td>1529005975</td>\n",
       "      <td>2</td>\n",
       "      <td>2018-06-14 15:52:55</td>\n",
       "      <td>NaN</td>\n",
       "      <td>0.734447</td>\n",
       "      <td>1</td>\n",
       "    </tr>\n",
       "    <tr>\n",
       "      <th>1529006206</th>\n",
       "      <td>0.3</td>\n",
       "      <td>1</td>\n",
       "      <td>34618428</td>\n",
       "      <td>5</td>\n",
       "      <td>gbdt</td>\n",
       "      <td>\"[0, 1, 2, 3, 4, 5, 6, 7]\"</td>\n",
       "      <td>NaN</td>\n",
       "      <td>0.4</td>\n",
       "      <td>34618428</td>\n",
       "      <td>0.100</td>\n",
       "      <td>...</td>\n",
       "      <td>27</td>\n",
       "      <td>127</td>\n",
       "      <td>4</td>\n",
       "      <td>binary</td>\n",
       "      <td>1529006206</td>\n",
       "      <td>2</td>\n",
       "      <td>2018-06-14 15:56:46</td>\n",
       "      <td>0.732258</td>\n",
       "      <td>0.725103</td>\n",
       "      <td>1</td>\n",
       "    </tr>\n",
       "    <tr>\n",
       "      <th>1529005557</th>\n",
       "      <td>0.8</td>\n",
       "      <td>1</td>\n",
       "      <td>18597975</td>\n",
       "      <td>14</td>\n",
       "      <td>gbdt</td>\n",
       "      <td>\"[0, 1, 2, 3, 4, 5, 6, 7]\"</td>\n",
       "      <td>NaN</td>\n",
       "      <td>0.8</td>\n",
       "      <td>18597975</td>\n",
       "      <td>0.001</td>\n",
       "      <td>...</td>\n",
       "      <td>49</td>\n",
       "      <td>15</td>\n",
       "      <td>4</td>\n",
       "      <td>binary</td>\n",
       "      <td>1529005557</td>\n",
       "      <td>2</td>\n",
       "      <td>2018-06-14 15:45:57</td>\n",
       "      <td>0.719227</td>\n",
       "      <td>0.717196</td>\n",
       "      <td>1</td>\n",
       "    </tr>\n",
       "    <tr>\n",
       "      <th>1529006204</th>\n",
       "      <td>0.5</td>\n",
       "      <td>1</td>\n",
       "      <td>32916449</td>\n",
       "      <td>3</td>\n",
       "      <td>gbdt</td>\n",
       "      <td>\"[0, 1, 2, 3, 4, 5, 6, 7]\"</td>\n",
       "      <td>NaN</td>\n",
       "      <td>0.4</td>\n",
       "      <td>32916449</td>\n",
       "      <td>0.001</td>\n",
       "      <td>...</td>\n",
       "      <td>20</td>\n",
       "      <td>127</td>\n",
       "      <td>4</td>\n",
       "      <td>binary</td>\n",
       "      <td>1529006204</td>\n",
       "      <td>2</td>\n",
       "      <td>2018-06-14 15:56:44</td>\n",
       "      <td>0.724697</td>\n",
       "      <td>0.716072</td>\n",
       "      <td>1</td>\n",
       "    </tr>\n",
       "    <tr>\n",
       "      <th>1529005829</th>\n",
       "      <td>0.8</td>\n",
       "      <td>1</td>\n",
       "      <td>19160511</td>\n",
       "      <td>4</td>\n",
       "      <td>gbdt</td>\n",
       "      <td>\"[0, 1, 2, 3, 4, 5, 6, 7]\"</td>\n",
       "      <td>True</td>\n",
       "      <td>0.3</td>\n",
       "      <td>19160511</td>\n",
       "      <td>0.100</td>\n",
       "      <td>...</td>\n",
       "      <td>32</td>\n",
       "      <td>61</td>\n",
       "      <td>4</td>\n",
       "      <td>binary</td>\n",
       "      <td>1529005829</td>\n",
       "      <td>2</td>\n",
       "      <td>2018-06-14 15:50:29</td>\n",
       "      <td>NaN</td>\n",
       "      <td>0.715041</td>\n",
       "      <td>1</td>\n",
       "    </tr>\n",
       "    <tr>\n",
       "      <th>1529005980</th>\n",
       "      <td>0.4</td>\n",
       "      <td>1</td>\n",
       "      <td>34465614</td>\n",
       "      <td>2</td>\n",
       "      <td>gbdt</td>\n",
       "      <td>\"[0, 1, 2, 3, 4, 5, 6, 7]\"</td>\n",
       "      <td>True</td>\n",
       "      <td>0.6</td>\n",
       "      <td>34465614</td>\n",
       "      <td>0.100</td>\n",
       "      <td>...</td>\n",
       "      <td>29</td>\n",
       "      <td>127</td>\n",
       "      <td>4</td>\n",
       "      <td>binary</td>\n",
       "      <td>1529005980</td>\n",
       "      <td>2</td>\n",
       "      <td>2018-06-14 15:53:00</td>\n",
       "      <td>NaN</td>\n",
       "      <td>0.713030</td>\n",
       "      <td>1</td>\n",
       "    </tr>\n",
       "    <tr>\n",
       "      <th>1529005826</th>\n",
       "      <td>0.6</td>\n",
       "      <td>1</td>\n",
       "      <td>16715672</td>\n",
       "      <td>1</td>\n",
       "      <td>gbdt</td>\n",
       "      <td>\"[0, 1, 2, 3, 4, 5, 6, 7]\"</td>\n",
       "      <td>True</td>\n",
       "      <td>0.7</td>\n",
       "      <td>16715672</td>\n",
       "      <td>0.001</td>\n",
       "      <td>...</td>\n",
       "      <td>49</td>\n",
       "      <td>31</td>\n",
       "      <td>4</td>\n",
       "      <td>binary</td>\n",
       "      <td>1529005826</td>\n",
       "      <td>2</td>\n",
       "      <td>2018-06-14 15:50:26</td>\n",
       "      <td>NaN</td>\n",
       "      <td>0.706975</td>\n",
       "      <td>1</td>\n",
       "    </tr>\n",
       "  </tbody>\n",
       "</table>\n",
       "<p>8 rows × 22 columns</p>\n",
       "</div>"
      ],
      "text/plain": [
       "            bagging_fraction  bagging_freq  bagging_seed  best_round boosting  \\\n",
       "1529005138               1.0             1       6682269        4000     gbdt   \n",
       "1529005975               0.9             1      29545387          12     gbdt   \n",
       "1529006206               0.3             1      34618428           5     gbdt   \n",
       "1529005557               0.8             1      18597975          14     gbdt   \n",
       "1529006204               0.5             1      32916449           3     gbdt   \n",
       "1529005829               0.8             1      19160511           4     gbdt   \n",
       "1529005980               0.4             1      34465614           2     gbdt   \n",
       "1529005826               0.6             1      16715672           1     gbdt   \n",
       "\n",
       "                    categorical_column    cv  feature_fraction  \\\n",
       "1529005138  \"[0, 1, 2, 3, 4, 5, 6, 7]\"   NaN               1.0   \n",
       "1529005975  \"[0, 1, 2, 3, 4, 5, 6, 7]\"  True               0.8   \n",
       "1529006206  \"[0, 1, 2, 3, 4, 5, 6, 7]\"   NaN               0.4   \n",
       "1529005557  \"[0, 1, 2, 3, 4, 5, 6, 7]\"   NaN               0.8   \n",
       "1529006204  \"[0, 1, 2, 3, 4, 5, 6, 7]\"   NaN               0.4   \n",
       "1529005829  \"[0, 1, 2, 3, 4, 5, 6, 7]\"  True               0.3   \n",
       "1529005980  \"[0, 1, 2, 3, 4, 5, 6, 7]\"  True               0.6   \n",
       "1529005826  \"[0, 1, 2, 3, 4, 5, 6, 7]\"  True               0.7   \n",
       "\n",
       "            feature_fraction_seed  learning_rate   ...     min_data_in_leaf  \\\n",
       "1529005138                6682269          0.001   ...                   28   \n",
       "1529005975               29545387          0.030   ...                   40   \n",
       "1529006206               34618428          0.100   ...                   27   \n",
       "1529005557               18597975          0.001   ...                   49   \n",
       "1529006204               32916449          0.001   ...                   20   \n",
       "1529005829               19160511          0.100   ...                   32   \n",
       "1529005980               34465614          0.100   ...                   29   \n",
       "1529005826               16715672          0.001   ...                   49   \n",
       "\n",
       "           num_leaves  num_threads  objective       preds scale_pos_weight  \\\n",
       "1529005138        127            4     binary  1529005138                2   \n",
       "1529005975         61            4     binary  1529005975                2   \n",
       "1529006206        127            4     binary  1529006206                2   \n",
       "1529005557         15            4     binary  1529005557                2   \n",
       "1529006204        127            4     binary  1529006204                2   \n",
       "1529005829         61            4     binary  1529005829                2   \n",
       "1529005980        127            4     binary  1529005980                2   \n",
       "1529005826         31            4     binary  1529005826                2   \n",
       "\n",
       "                      timestamp  train_auc   val_auc  verbose  \n",
       "1529005138  2018-06-14 15:38:58   0.801038  0.766851        1  \n",
       "1529005975  2018-06-14 15:52:55        NaN  0.734447        1  \n",
       "1529006206  2018-06-14 15:56:46   0.732258  0.725103        1  \n",
       "1529005557  2018-06-14 15:45:57   0.719227  0.717196        1  \n",
       "1529006204  2018-06-14 15:56:44   0.724697  0.716072        1  \n",
       "1529005829  2018-06-14 15:50:29        NaN  0.715041        1  \n",
       "1529005980  2018-06-14 15:53:00        NaN  0.713030        1  \n",
       "1529005826  2018-06-14 15:50:26        NaN  0.706975        1  \n",
       "\n",
       "[8 rows x 22 columns]"
      ]
     },
     "execution_count": 63,
     "metadata": {},
     "output_type": "execute_result"
    }
   ],
   "source": [
    "gs_res"
   ]
  },
  {
   "cell_type": "code",
   "execution_count": null,
   "metadata": {
    "collapsed": true
   },
   "outputs": [],
   "source": []
  }
 ],
 "metadata": {
  "kernelspec": {
   "display_name": "Python 3",
   "language": "python",
   "name": "python3"
  },
  "language_info": {
   "codemirror_mode": {
    "name": "ipython",
    "version": 3
   },
   "file_extension": ".py",
   "mimetype": "text/x-python",
   "name": "python",
   "nbconvert_exporter": "python",
   "pygments_lexer": "ipython3",
   "version": "3.6.3"
  },
  "varInspector": {
   "cols": {
    "lenName": 16,
    "lenType": 16,
    "lenVar": 40
   },
   "kernels_config": {
    "python": {
     "delete_cmd_postfix": "",
     "delete_cmd_prefix": "del ",
     "library": "var_list.py",
     "varRefreshCmd": "print(var_dic_list())"
    },
    "r": {
     "delete_cmd_postfix": ") ",
     "delete_cmd_prefix": "rm(",
     "library": "var_list.r",
     "varRefreshCmd": "cat(var_dic_list()) "
    }
   },
   "types_to_exclude": [
    "module",
    "function",
    "builtin_function_or_method",
    "instance",
    "_Feature"
   ],
   "window_display": false
  }
 },
 "nbformat": 4,
 "nbformat_minor": 2
}
