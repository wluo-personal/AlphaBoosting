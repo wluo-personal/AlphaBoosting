{
 "cells": [
  {
   "cell_type": "code",
   "execution_count": 1,
   "metadata": {
    "ExecuteTime": {
     "end_time": "2018-06-13T20:21:04.726199Z",
     "start_time": "2018-06-13T20:21:04.719735Z"
    },
    "collapsed": true
   },
   "outputs": [],
   "source": [
    "import os\n",
    "import sys\n",
    "nb_dir = os.path.split(os.getcwd())[0]\n",
    "if nb_dir not in sys.path:\n",
    "    sys.path.append(nb_dir)"
   ]
  },
  {
   "cell_type": "code",
   "execution_count": 2,
   "metadata": {
    "ExecuteTime": {
     "end_time": "2018-06-13T20:21:04.918593Z",
     "start_time": "2018-06-13T20:21:04.901853Z"
    }
   },
   "outputs": [
    {
     "data": {
      "text/plain": [
       "'/home/kai/data/shiyi/AlphaBoosting/automl'"
      ]
     },
     "execution_count": 2,
     "metadata": {},
     "output_type": "execute_result"
    }
   ],
   "source": [
    "nb_dir"
   ]
  },
  {
   "cell_type": "code",
   "execution_count": 3,
   "metadata": {
    "ExecuteTime": {
     "end_time": "2018-06-13T20:21:05.056583Z",
     "start_time": "2018-06-13T20:21:05.051112Z"
    }
   },
   "outputs": [
    {
     "data": {
      "text/plain": [
       "['',\n",
       " '/home/kai/anaconda3/lib/python36.zip',\n",
       " '/home/kai/anaconda3/lib/python3.6',\n",
       " '/home/kai/anaconda3/lib/python3.6/lib-dynload',\n",
       " '/home/kai/anaconda3/lib/python3.6/site-packages',\n",
       " '/home/kai/anaconda3/lib/python3.6/site-packages/xgboost-0.7-py3.6.egg',\n",
       " '/home/kai/anaconda3/lib/python3.6/site-packages/duckling-1.8.0-py3.6.egg',\n",
       " '/home/kai/anaconda3/lib/python3.6/site-packages/JPype1-0.6.3-py3.6-linux-x86_64.egg',\n",
       " '/home/kai/anaconda3/lib/python3.6/site-packages/IPython/extensions',\n",
       " '/home/kai/.ipython',\n",
       " '/home/kai/data/shiyi/AlphaBoosting/automl']"
      ]
     },
     "execution_count": 3,
     "metadata": {},
     "output_type": "execute_result"
    }
   ],
   "source": [
    "sys.path"
   ]
  },
  {
   "cell_type": "code",
   "execution_count": 4,
   "metadata": {
    "ExecuteTime": {
     "end_time": "2018-06-13T20:21:05.253024Z",
     "start_time": "2018-06-13T20:21:05.231925Z"
    },
    "collapsed": true
   },
   "outputs": [],
   "source": [
    "%load_ext autoreload"
   ]
  },
  {
   "cell_type": "code",
   "execution_count": 5,
   "metadata": {
    "ExecuteTime": {
     "end_time": "2018-06-13T20:21:05.872939Z",
     "start_time": "2018-06-13T20:21:05.868916Z"
    },
    "collapsed": true
   },
   "outputs": [],
   "source": [
    "%autoreload 2"
   ]
  },
  {
   "cell_type": "code",
   "execution_count": 6,
   "metadata": {
    "ExecuteTime": {
     "end_time": "2018-06-13T20:21:07.021604Z",
     "start_time": "2018-06-13T20:21:06.792295Z"
    },
    "collapsed": true
   },
   "outputs": [],
   "source": [
    "from automl_libs import feature_engineering as fe\n",
    "from automl_libs import encoding, kernels "
   ]
  },
  {
   "cell_type": "code",
   "execution_count": 7,
   "metadata": {
    "ExecuteTime": {
     "end_time": "2018-06-13T20:21:07.259629Z",
     "start_time": "2018-06-13T20:21:07.236213Z"
    },
    "collapsed": true
   },
   "outputs": [],
   "source": [
    "func_map = {\n",
    "    'count':                         fe.count,\n",
    "    'unique_count':                  fe.unique_count,\n",
    "    'cumulative_count':              fe.cumulative_count,\n",
    "    'reverse_cumulative_count':      fe.reverse_cumulative_count,\n",
    "    'variance':                      fe.variance,\n",
    "    'count_std_over_mean':           fe.count_std_over_mean,\n",
    "    'time_to_n_next':                fe.time_to_n_next,\n",
    "    'count_in_previous_n_time_unit': fe.count_in_previous_n_time_unit,\n",
    "    'count_in_next_n_time_unit':     fe.count_in_next_n_time_unit,\n",
    "    'woe':                           encoding.woe,\n",
    "    'chi_square':                    encoding.chi_square,\n",
    "    'mean':                          encoding.mean,\n",
    "    'square':                        kernels.square\n",
    "}"
   ]
  },
  {
   "cell_type": "code",
   "execution_count": 8,
   "metadata": {
    "ExecuteTime": {
     "end_time": "2018-06-13T20:21:07.912837Z",
     "start_time": "2018-06-13T20:21:07.892863Z"
    }
   },
   "outputs": [],
   "source": [
    "import logger_config"
   ]
  },
  {
   "cell_type": "code",
   "execution_count": 9,
   "metadata": {
    "ExecuteTime": {
     "end_time": "2018-06-13T20:21:08.537995Z",
     "start_time": "2018-06-13T20:21:08.515622Z"
    }
   },
   "outputs": [],
   "source": [
    "logger_config.config('automl.log')\n",
    "\n",
    "# logger = logging.getLogger('AutoML.automl_app.app')\n",
    "# def tempdef():\n",
    "#     logger.info('start feature engineering...')\n",
    "#     # fe.do_fe()\n",
    "#     logger.info('feature engineering done')\n",
    "\n",
    "#     logger.info('start grid search...')\n",
    "#     # gs.do_gs()\n",
    "#     logger.info('grid search done')\n",
    "\n",
    "# tempdef()"
   ]
  },
  {
   "cell_type": "code",
   "execution_count": 11,
   "metadata": {
    "ExecuteTime": {
     "end_time": "2018-06-13T20:21:30.523275Z",
     "start_time": "2018-06-13T20:21:30.502956Z"
    }
   },
   "outputs": [],
   "source": [
    "#a = AlphaBoosting(root='./', train_csv_url='./a.txt', test_csv_url='./b.txt', \n",
    "#                  validation_index=[1,2], func_map=func_map, label='l',down_sampling_ratio=0.5, downsampling=2)"
   ]
  },
  {
   "cell_type": "code",
   "execution_count": 21,
   "metadata": {
    "ExecuteTime": {
     "end_time": "2018-06-13T20:51:19.629775Z",
     "start_time": "2018-06-13T20:51:19.602107Z"
    }
   },
   "outputs": [
    {
     "ename": "KeyError",
     "evalue": "'label'",
     "output_type": "error",
     "traceback": [
      "\u001b[0;31m---------------------------------------------------------------------------\u001b[0m",
      "\u001b[0;31mKeyError\u001b[0m                                  Traceback (most recent call last)",
      "\u001b[0;32m<ipython-input-21-91b48fbc8caa>\u001b[0m in \u001b[0;36m<module>\u001b[0;34m()\u001b[0m\n\u001b[1;32m      1\u001b[0m \u001b[0;32mfrom\u001b[0m \u001b[0mapp\u001b[0m \u001b[0;32mimport\u001b[0m \u001b[0mAlphaBoosting\u001b[0m\u001b[0;34m\u001b[0m\u001b[0m\n\u001b[1;32m      2\u001b[0m \u001b[0;34m\u001b[0m\u001b[0m\n\u001b[0;32m----> 3\u001b[0;31m \u001b[0mb\u001b[0m \u001b[0;34m=\u001b[0m \u001b[0mAlphaBoosting\u001b[0m\u001b[0;34m(\u001b[0m\u001b[0;34m'automl_config.json'\u001b[0m\u001b[0;34m,\u001b[0m \u001b[0mfunc_map\u001b[0m\u001b[0;34m)\u001b[0m\u001b[0;34m\u001b[0m\u001b[0m\n\u001b[0m",
      "\u001b[0;32m~/data/shiyi/AlphaBoosting/automl/automl_app/app.py\u001b[0m in \u001b[0;36m__init__\u001b[0;34m(self, config_file, func_map, run_record)\u001b[0m\n\u001b[1;32m     30\u001b[0m         \u001b[0mself\u001b[0m\u001b[0;34m.\u001b[0m\u001b[0mtrain_csv_url\u001b[0m \u001b[0;34m=\u001b[0m \u001b[0mconfig_dict\u001b[0m\u001b[0;34m[\u001b[0m\u001b[0;34m'train_csv_url'\u001b[0m\u001b[0;34m]\u001b[0m\u001b[0;34m\u001b[0m\u001b[0m\n\u001b[1;32m     31\u001b[0m         \u001b[0mself\u001b[0m\u001b[0;34m.\u001b[0m\u001b[0mtest_csv_url\u001b[0m \u001b[0;34m=\u001b[0m \u001b[0mconfig_dict\u001b[0m\u001b[0;34m[\u001b[0m\u001b[0;34m'test_csv_url'\u001b[0m\u001b[0;34m]\u001b[0m\u001b[0;34m\u001b[0m\u001b[0m\n\u001b[0;32m---> 32\u001b[0;31m         \u001b[0mself\u001b[0m\u001b[0;34m.\u001b[0m\u001b[0mlabel\u001b[0m \u001b[0;34m=\u001b[0m \u001b[0mconfig_dict\u001b[0m\u001b[0;34m[\u001b[0m\u001b[0;34m'label'\u001b[0m\u001b[0;34m]\u001b[0m\u001b[0;34m\u001b[0m\u001b[0m\n\u001b[0m\u001b[1;32m     33\u001b[0m         \u001b[0mself\u001b[0m\u001b[0;34m.\u001b[0m\u001b[0mdown_sampling_amt\u001b[0m \u001b[0;34m=\u001b[0m \u001b[0mconfig_dict\u001b[0m\u001b[0;34m[\u001b[0m\u001b[0;34m'down_sampling_amt'\u001b[0m\u001b[0;34m]\u001b[0m\u001b[0;34m\u001b[0m\u001b[0m\n\u001b[1;32m     34\u001b[0m         \u001b[0mself\u001b[0m\u001b[0;34m.\u001b[0m\u001b[0mdown_sampling_ratio\u001b[0m \u001b[0;34m=\u001b[0m \u001b[0mconfig_dict\u001b[0m\u001b[0;34m[\u001b[0m\u001b[0;34m'down_sampling_ratio'\u001b[0m\u001b[0;34m]\u001b[0m\u001b[0;34m\u001b[0m\u001b[0m\n",
      "\u001b[0;31mKeyError\u001b[0m: 'label'"
     ]
    }
   ],
   "source": [
    "from app import AlphaBoosting\n",
    "\n",
    "b = AlphaBoosting('automl_config.json', func_map)"
   ]
  },
  {
   "cell_type": "code",
   "execution_count": null,
   "metadata": {
    "collapsed": true
   },
   "outputs": [],
   "source": []
  }
 ],
 "metadata": {
  "kernelspec": {
   "display_name": "Python 3",
   "language": "python",
   "name": "python3"
  },
  "language_info": {
   "codemirror_mode": {
    "name": "ipython",
    "version": 3
   },
   "file_extension": ".py",
   "mimetype": "text/x-python",
   "name": "python",
   "nbconvert_exporter": "python",
   "pygments_lexer": "ipython3",
   "version": "3.6.3"
  },
  "varInspector": {
   "cols": {
    "lenName": 16,
    "lenType": 16,
    "lenVar": 40
   },
   "kernels_config": {
    "python": {
     "delete_cmd_postfix": "",
     "delete_cmd_prefix": "del ",
     "library": "var_list.py",
     "varRefreshCmd": "print(var_dic_list())"
    },
    "r": {
     "delete_cmd_postfix": ") ",
     "delete_cmd_prefix": "rm(",
     "library": "var_list.r",
     "varRefreshCmd": "cat(var_dic_list()) "
    }
   },
   "types_to_exclude": [
    "module",
    "function",
    "builtin_function_or_method",
    "instance",
    "_Feature"
   ],
   "window_display": false
  }
 },
 "nbformat": 4,
 "nbformat_minor": 2
}
