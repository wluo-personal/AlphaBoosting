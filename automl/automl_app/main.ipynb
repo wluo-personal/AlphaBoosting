{
 "cells": [
  {
   "cell_type": "code",
   "execution_count": 1,
   "metadata": {
    "ExecuteTime": {
     "end_time": "2018-06-14T14:20:14.215041Z",
     "start_time": "2018-06-14T14:20:14.209507Z"
    },
    "collapsed": true
   },
   "outputs": [],
   "source": [
    "import os\n",
    "import sys\n",
    "nb_dir = os.path.split(os.getcwd())[0]\n",
    "if nb_dir not in sys.path:\n",
    "    sys.path.append(nb_dir)"
   ]
  },
  {
   "cell_type": "code",
   "execution_count": 2,
   "metadata": {
    "ExecuteTime": {
     "end_time": "2018-06-14T14:20:14.229400Z",
     "start_time": "2018-06-14T14:20:14.216360Z"
    }
   },
   "outputs": [
    {
     "data": {
      "text/plain": [
       "'/home/kai/data/shiyi/AlphaBoosting/automl'"
      ]
     },
     "execution_count": 2,
     "metadata": {},
     "output_type": "execute_result"
    }
   ],
   "source": [
    "nb_dir"
   ]
  },
  {
   "cell_type": "code",
   "execution_count": 3,
   "metadata": {
    "ExecuteTime": {
     "end_time": "2018-06-14T14:20:14.236355Z",
     "start_time": "2018-06-14T14:20:14.230722Z"
    }
   },
   "outputs": [
    {
     "data": {
      "text/plain": [
       "['',\n",
       " '/home/kai/anaconda3/lib/python36.zip',\n",
       " '/home/kai/anaconda3/lib/python3.6',\n",
       " '/home/kai/anaconda3/lib/python3.6/lib-dynload',\n",
       " '/home/kai/anaconda3/lib/python3.6/site-packages',\n",
       " '/home/kai/anaconda3/lib/python3.6/site-packages/xgboost-0.7-py3.6.egg',\n",
       " '/home/kai/anaconda3/lib/python3.6/site-packages/duckling-1.8.0-py3.6.egg',\n",
       " '/home/kai/anaconda3/lib/python3.6/site-packages/JPype1-0.6.3-py3.6-linux-x86_64.egg',\n",
       " '/home/kai/anaconda3/lib/python3.6/site-packages/IPython/extensions',\n",
       " '/home/kai/.ipython',\n",
       " '/home/kai/data/shiyi/AlphaBoosting/automl']"
      ]
     },
     "execution_count": 3,
     "metadata": {},
     "output_type": "execute_result"
    }
   ],
   "source": [
    "sys.path"
   ]
  },
  {
   "cell_type": "code",
   "execution_count": 4,
   "metadata": {
    "ExecuteTime": {
     "end_time": "2018-06-14T14:20:14.251379Z",
     "start_time": "2018-06-14T14:20:14.237615Z"
    },
    "collapsed": true
   },
   "outputs": [],
   "source": [
    "%load_ext autoreload"
   ]
  },
  {
   "cell_type": "code",
   "execution_count": 5,
   "metadata": {
    "ExecuteTime": {
     "end_time": "2018-06-14T14:20:14.254521Z",
     "start_time": "2018-06-14T14:20:14.252658Z"
    },
    "collapsed": true
   },
   "outputs": [],
   "source": [
    "%autoreload 2"
   ]
  },
  {
   "cell_type": "code",
   "execution_count": 6,
   "metadata": {
    "ExecuteTime": {
     "end_time": "2018-06-14T14:20:14.519506Z",
     "start_time": "2018-06-14T14:20:14.255803Z"
    },
    "collapsed": true
   },
   "outputs": [],
   "source": [
    "from automl_libs import feature_engineering as fe\n",
    "from automl_libs import encoding, kernels "
   ]
  },
  {
   "cell_type": "code",
   "execution_count": 17,
   "metadata": {
    "ExecuteTime": {
     "end_time": "2018-06-14T14:24:10.445249Z",
     "start_time": "2018-06-14T14:24:10.403240Z"
    },
    "collapsed": true
   },
   "outputs": [],
   "source": [
    "func_map = {\n",
    "    'count':                         fe.count,\n",
    "    'unique_count':                  fe.unique_count,\n",
    "    'cumulative_count':              fe.cumulative_count,\n",
    "    'reverse_cumulative_count':      fe.reverse_cumulative_count,\n",
    "    'variance':                      fe.variance,\n",
    "    'count_std_over_mean':           fe.count_std_over_mean,\n",
    "    'time_to_n_next':                fe.time_to_n_next,\n",
    "    'count_in_previous_n_time_unit': fe.count_in_previous_n_time_unit,\n",
    "    'count_in_next_n_time_unit':     fe.count_in_next_n_time_unit,\n",
    "    'woe':                           encoding.woe,\n",
    "    'chi_square':                    encoding.chi_square,\n",
    "    'mean':                          encoding.mean,\n",
    "    'square':                        kernels.square\n",
    "}\n",
    "\n",
    "# params\n",
    "#param = {'trainLen': self.train_len, 'splitCol': 'a', 'col': self.label, 'coefficient': 10, 'n': 2, 'fillna': 22}\n",
    "param = {'split_col': 't', 'coefficient': 10, 'n': 2, 'fillna': 22}\n",
    "\n",
    "feature_engineering_dict = []\n",
    "feature_engineering_dict.append({'params': param, 'function': 'count', 'feature_cols': ['a','b']})\n",
    "feature_engineering_dict.append({'params': param, 'function': 'unique_count', 'feature_cols': ['a','b']})\n",
    "feature_engineering_dict.append({'params': param, 'function': 'cumulative_count', 'feature_cols': ['a','b']})\n",
    "feature_engineering_dict.append({'params': param, 'function': 'reverse_cumulative_count', 'feature_cols': ['a','b']})\n",
    "feature_engineering_dict.append({'params': param, 'function': 'variance', 'feature_cols': ['a','n']})\n",
    "feature_engineering_dict.append({'params': param, 'function': 'count_std_over_mean', 'feature_cols': ['a','b']})\n",
    "feature_engineering_dict.append({'params': param, 'function': 'time_to_n_next', 'feature_cols': ['a','t']})\n",
    "feature_engineering_dict.append({'params': param, 'function': 'count_in_previous_n_time_unit', 'feature_cols': ['a','t']})\n",
    "feature_engineering_dict.append({'params': param, 'function': 'count_in_next_n_time_unit', 'feature_cols': ['a','t']})\n",
    "\n",
    "feature_engineering_dict.append({'params': param, 'function': 'woe', 'feature_cols': ['a']})\n",
    "feature_engineering_dict.append({'params': param, 'function': 'chi_square', 'feature_cols': ['a']})\n",
    "feature_engineering_dict.append({'params': param, 'function': 'mean', 'feature_cols': ['a']})"
   ]
  },
  {
   "cell_type": "code",
   "execution_count": 8,
   "metadata": {
    "ExecuteTime": {
     "end_time": "2018-06-14T14:20:14.563863Z",
     "start_time": "2018-06-14T14:20:14.551785Z"
    },
    "collapsed": true
   },
   "outputs": [],
   "source": [
    "import logger_config"
   ]
  },
  {
   "cell_type": "code",
   "execution_count": 9,
   "metadata": {
    "ExecuteTime": {
     "end_time": "2018-06-14T14:20:14.578509Z",
     "start_time": "2018-06-14T14:20:14.565553Z"
    },
    "collapsed": true
   },
   "outputs": [],
   "source": [
    "logger_config.config('automl.log')\n",
    "\n",
    "# logger = logging.getLogger('AutoML.automl_app.app')\n",
    "# def tempdef():\n",
    "#     logger.info('start feature engineering...')\n",
    "#     # fe.do_fe()\n",
    "#     logger.info('feature engineering done')\n",
    "\n",
    "#     logger.info('start grid search...')\n",
    "#     # gs.do_gs()\n",
    "#     logger.info('grid search done')\n",
    "\n",
    "# tempdef()"
   ]
  },
  {
   "cell_type": "code",
   "execution_count": 10,
   "metadata": {
    "ExecuteTime": {
     "end_time": "2018-06-14T14:20:14.591526Z",
     "start_time": "2018-06-14T14:20:14.580280Z"
    },
    "collapsed": true
   },
   "outputs": [],
   "source": [
    "#a = AlphaBoosting(root='./', train_csv_url='./a.txt', test_csv_url='./b.txt', \n",
    "#                  validation_index=[1,2], func_map=func_map, label='l',down_sampling_ratio=0.5, downsampling=2)"
   ]
  },
  {
   "cell_type": "code",
   "execution_count": null,
   "metadata": {
    "ExecuteTime": {
     "start_time": "2018-06-14T14:52:08.383Z"
    },
    "scrolled": false
   },
   "outputs": [
    {
     "name": "stderr",
     "output_type": "stream",
     "text": [
      "2018-06-14 14:52:08,389 | INFO     | app.AlphaBoosting                            | __init__             | #58  | Run record file [run_record.json] not found. Begin the first time run...\n",
      "2018-06-14 14:52:08,581 | DEBUG    | automl_libs.utils                            | save                 | #40  | train__woe__a__10_22_2_t.pkl saved at ./data/features/\n",
      "2018-06-14 14:52:08,582 | DEBUG    | automl_libs.utils                            | save                 | #41  | test__woe__a__10_22_2_t.pkl saved at ./data/features/\n"
     ]
    },
    {
     "name": "stdout",
     "output_type": "stream",
     "text": [
      "save run record\n",
      "generate todo list\n",
      "feature engineering\n"
     ]
    },
    {
     "name": "stderr",
     "output_type": "stream",
     "text": [
      "2018-06-14 14:52:08,762 | DEBUG    | automl_libs.utils                            | save                 | #40  | train__chi_square__a__10_22_2_t.pkl saved at ./data/features/\n",
      "2018-06-14 14:52:08,764 | DEBUG    | automl_libs.utils                            | save                 | #41  | test__chi_square__a__10_22_2_t.pkl saved at ./data/features/\n",
      "2018-06-14 14:52:08,903 | DEBUG    | automl_libs.utils                            | save                 | #40  | train__mean__a__10_22_2_t.pkl saved at ./data/features/\n",
      "2018-06-14 14:52:08,904 | DEBUG    | automl_libs.utils                            | save                 | #41  | test__mean__a__10_22_2_t.pkl saved at ./data/features/\n"
     ]
    },
    {
     "name": "stdout",
     "output_type": "stream",
     "text": [
      "validation\n",
      "concat test\n",
      "grid search\n",
      "> /home/kai/data/shiyi/AlphaBoosting/automl/automl_app/app.py(282)_grid_search()\n",
      "-> self._lgb_grid_search(X_train, y_train, X_val, y_val,\n",
      "(Pdb) train\n",
      "    t  a  l  woe__a__10_22_2_t  mean__a__10_22_2_t  chi_square__a__10_22_2_t\n",
      "0   0  1  0           0.182322            0.666667                  0.277778\n",
      "1   0  1  1           0.182322            0.666667                  0.277778\n",
      "2   0  2  0          -0.405465            0.500000                  0.277778\n",
      "3   0  2  1          -0.405465            0.500000                  0.277778\n",
      "4   1  1  0          -0.105361            0.666667                  0.000000\n",
      "5   1  1  1          -0.105361            0.666667                  0.000000\n",
      "6   1  2  0          -0.182322            0.666667                  0.000000\n",
      "7   1  2  0          -0.182322            0.666667                  0.000000\n",
      "8   1  2  1          -0.182322            0.666667                  0.000000\n",
      "9   2  1  0           0.223144            0.500000                  0.090000\n",
      "10  2  1  1           0.223144            0.500000                  0.090000\n",
      "11  2  2  1          -0.113329            0.400000                  0.090000\n",
      "(Pdb) test\n",
      "   t  a  woe__a__10_22_2_t  mean__a__10_22_2_t  chi_square__a__10_22_2_t\n",
      "0  0  1           0.164303               0.625                   0.21875\n",
      "1  0  2          -0.287682               0.500                   0.21875\n",
      "2  1  0          -1.000000              -1.000                  -1.00000\n",
      "3  1  1           0.164303               0.625                   0.21875\n",
      "(Pdb) val\n",
      "   t  a  l  woe__a__10_22_2_t  mean__a__10_22_2_t  chi_square__a__10_22_2_t\n",
      "0  2  1  1           0.223144                 0.5                      0.09\n",
      "1  2  1  1           0.223144                 0.5                      0.09\n"
     ]
    }
   ],
   "source": [
    "from app import AlphaBoosting\n",
    "\n",
    "b = AlphaBoosting('automl_config.json', func_map, feature_engineering_dict)"
   ]
  },
  {
   "cell_type": "code",
   "execution_count": null,
   "metadata": {
    "collapsed": true
   },
   "outputs": [],
   "source": []
  }
 ],
 "metadata": {
  "kernelspec": {
   "display_name": "Python 3",
   "language": "python",
   "name": "python3"
  },
  "language_info": {
   "codemirror_mode": {
    "name": "ipython",
    "version": 3
   },
   "file_extension": ".py",
   "mimetype": "text/x-python",
   "name": "python",
   "nbconvert_exporter": "python",
   "pygments_lexer": "ipython3",
   "version": "3.6.3"
  },
  "varInspector": {
   "cols": {
    "lenName": 16,
    "lenType": 16,
    "lenVar": 40
   },
   "kernels_config": {
    "python": {
     "delete_cmd_postfix": "",
     "delete_cmd_prefix": "del ",
     "library": "var_list.py",
     "varRefreshCmd": "print(var_dic_list())"
    },
    "r": {
     "delete_cmd_postfix": ") ",
     "delete_cmd_prefix": "rm(",
     "library": "var_list.r",
     "varRefreshCmd": "cat(var_dic_list()) "
    }
   },
   "types_to_exclude": [
    "module",
    "function",
    "builtin_function_or_method",
    "instance",
    "_Feature"
   ],
   "window_display": false
  }
 },
 "nbformat": 4,
 "nbformat_minor": 2
}
