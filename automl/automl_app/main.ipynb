{
 "cells": [
  {
   "cell_type": "code",
   "execution_count": 1,
   "metadata": {
    "ExecuteTime": {
     "end_time": "2018-06-13T20:21:04.726199Z",
     "start_time": "2018-06-13T20:21:04.719735Z"
    },
    "collapsed": true
   },
   "outputs": [],
   "source": [
    "import os\n",
    "import sys\n",
    "nb_dir = os.path.split(os.getcwd())[0]\n",
    "if nb_dir not in sys.path:\n",
    "    sys.path.append(nb_dir)"
   ]
  },
  {
   "cell_type": "code",
   "execution_count": 2,
   "metadata": {
    "ExecuteTime": {
     "end_time": "2018-06-13T20:21:04.918593Z",
     "start_time": "2018-06-13T20:21:04.901853Z"
    }
   },
   "outputs": [
    {
     "data": {
      "text/plain": [
       "'/home/kai/data/shiyi/AlphaBoosting/automl'"
      ]
     },
     "execution_count": 2,
     "metadata": {},
     "output_type": "execute_result"
    }
   ],
   "source": [
    "nb_dir"
   ]
  },
  {
   "cell_type": "code",
   "execution_count": 3,
   "metadata": {
    "ExecuteTime": {
     "end_time": "2018-06-13T20:21:05.056583Z",
     "start_time": "2018-06-13T20:21:05.051112Z"
    }
   },
   "outputs": [
    {
     "data": {
      "text/plain": [
       "['',\n",
       " '/home/kai/anaconda3/lib/python36.zip',\n",
       " '/home/kai/anaconda3/lib/python3.6',\n",
       " '/home/kai/anaconda3/lib/python3.6/lib-dynload',\n",
       " '/home/kai/anaconda3/lib/python3.6/site-packages',\n",
       " '/home/kai/anaconda3/lib/python3.6/site-packages/xgboost-0.7-py3.6.egg',\n",
       " '/home/kai/anaconda3/lib/python3.6/site-packages/duckling-1.8.0-py3.6.egg',\n",
       " '/home/kai/anaconda3/lib/python3.6/site-packages/JPype1-0.6.3-py3.6-linux-x86_64.egg',\n",
       " '/home/kai/anaconda3/lib/python3.6/site-packages/IPython/extensions',\n",
       " '/home/kai/.ipython',\n",
       " '/home/kai/data/shiyi/AlphaBoosting/automl']"
      ]
     },
     "execution_count": 3,
     "metadata": {},
     "output_type": "execute_result"
    }
   ],
   "source": [
    "sys.path"
   ]
  },
  {
   "cell_type": "code",
   "execution_count": 4,
   "metadata": {
    "ExecuteTime": {
     "end_time": "2018-06-13T20:21:05.253024Z",
     "start_time": "2018-06-13T20:21:05.231925Z"
    },
    "collapsed": true
   },
   "outputs": [],
   "source": [
    "%load_ext autoreload"
   ]
  },
  {
   "cell_type": "code",
   "execution_count": 5,
   "metadata": {
    "ExecuteTime": {
     "end_time": "2018-06-13T20:21:05.872939Z",
     "start_time": "2018-06-13T20:21:05.868916Z"
    },
    "collapsed": true
   },
   "outputs": [],
   "source": [
    "%autoreload 2"
   ]
  },
  {
   "cell_type": "code",
   "execution_count": 6,
   "metadata": {
    "ExecuteTime": {
     "end_time": "2018-06-13T20:21:07.021604Z",
     "start_time": "2018-06-13T20:21:06.792295Z"
    },
    "collapsed": true
   },
   "outputs": [],
   "source": [
    "from automl_libs import feature_engineering as fe\n",
    "from automl_libs import encoding, kernels "
   ]
  },
  {
   "cell_type": "code",
   "execution_count": 44,
   "metadata": {
    "ExecuteTime": {
     "end_time": "2018-06-14T03:24:16.425260Z",
     "start_time": "2018-06-14T03:24:16.384041Z"
    },
    "collapsed": true
   },
   "outputs": [],
   "source": [
    "func_map = {\n",
    "    'count':                         fe.count,\n",
    "    'unique_count':                  fe.unique_count,\n",
    "    'cumulative_count':              fe.cumulative_count,\n",
    "    'reverse_cumulative_count':      fe.reverse_cumulative_count,\n",
    "    'variance':                      fe.variance,\n",
    "    'count_std_over_mean':           fe.count_std_over_mean,\n",
    "    'time_to_n_next':                fe.time_to_n_next,\n",
    "    'count_in_previous_n_time_unit': fe.count_in_previous_n_time_unit,\n",
    "    'count_in_next_n_time_unit':     fe.count_in_next_n_time_unit,\n",
    "    'woe':                           encoding.woe,\n",
    "    'chi_square':                    encoding.chi_square,\n",
    "    'mean':                          encoding.mean,\n",
    "    'square':                        kernels.square\n",
    "}\n",
    "\n",
    "# params\n",
    "#param = {'trainLen': self.train_len, 'splitCol': 'a', 'col': self.label, 'coefficient': 10, 'n': 2, 'fillna': 22}\n",
    "param = {'splitCol': 'a', 'coefficient': 10, 'n': 2, 'fillna': 22}\n",
    "\n",
    "feature_engineering_dict = []\n",
    "# feature_engineering_dict.append({'params': param, 'function': 'count', 'feature_cols': ['a','b']})\n",
    "# feature_engineering_dict.append({'params': param, 'function': 'unique_count', 'feature_cols': ['a','b']})\n",
    "# feature_engineering_dict.append({'params': param, 'function': 'cumulative_count', 'feature_cols': ['a','b']})\n",
    "# feature_engineering_dict.append({'params': param, 'function': 'reverse_cumulative_count', 'feature_cols': ['a','b']})\n",
    "# feature_engineering_dict.append({'params': param, 'function': 'variance', 'feature_cols': ['a','n']})\n",
    "# feature_engineering_dict.append({'params': param, 'function': 'count_std_over_mean', 'feature_cols': ['a','b']})\n",
    "# feature_engineering_dict.append({'params': param, 'function': 'time_to_n_next', 'feature_cols': ['a','t']})\n",
    "# feature_engineering_dict.append({'params': param, 'function': 'count_in_previous_n_time_unit', 'feature_cols': ['a','t']})\n",
    "# feature_engineering_dict.append({'params': param, 'function': 'count_in_next_n_time_unit', 'feature_cols': ['a','t']})\n",
    "\n",
    "# feature_engineering_dict.append({'params': param, 'function': 'woe', 'feature_cols': ['b']})\n",
    "# feature_engineering_dict.append({'params': param, 'function': 'chi_square', 'feature_cols': ['b']})\n",
    "# feature_engineering_dict.append({'params': param, 'function': 'mean', 'feature_cols': ['b']})"
   ]
  },
  {
   "cell_type": "code",
   "execution_count": 8,
   "metadata": {
    "ExecuteTime": {
     "end_time": "2018-06-13T20:21:07.912837Z",
     "start_time": "2018-06-13T20:21:07.892863Z"
    },
    "collapsed": true
   },
   "outputs": [],
   "source": [
    "import logger_config"
   ]
  },
  {
   "cell_type": "code",
   "execution_count": 9,
   "metadata": {
    "ExecuteTime": {
     "end_time": "2018-06-13T20:21:08.537995Z",
     "start_time": "2018-06-13T20:21:08.515622Z"
    },
    "collapsed": true
   },
   "outputs": [],
   "source": [
    "logger_config.config('automl.log')\n",
    "\n",
    "# logger = logging.getLogger('AutoML.automl_app.app')\n",
    "# def tempdef():\n",
    "#     logger.info('start feature engineering...')\n",
    "#     # fe.do_fe()\n",
    "#     logger.info('feature engineering done')\n",
    "\n",
    "#     logger.info('start grid search...')\n",
    "#     # gs.do_gs()\n",
    "#     logger.info('grid search done')\n",
    "\n",
    "# tempdef()"
   ]
  },
  {
   "cell_type": "code",
   "execution_count": 11,
   "metadata": {
    "ExecuteTime": {
     "end_time": "2018-06-13T20:21:30.523275Z",
     "start_time": "2018-06-13T20:21:30.502956Z"
    },
    "collapsed": true
   },
   "outputs": [],
   "source": [
    "#a = AlphaBoosting(root='./', train_csv_url='./a.txt', test_csv_url='./b.txt', \n",
    "#                  validation_index=[1,2], func_map=func_map, label='l',down_sampling_ratio=0.5, downsampling=2)"
   ]
  },
  {
   "cell_type": "code",
   "execution_count": null,
   "metadata": {
    "ExecuteTime": {
     "start_time": "2018-06-14T03:24:19.568Z"
    },
    "scrolled": true
   },
   "outputs": [
    {
     "name": "stderr",
     "output_type": "stream",
     "text": [
      "2018-06-14 03:24:19,617 | INFO     | app.AlphaBoosting                            | __init__             | #58  | Run record file [run_record.json] not found. Begin the first time run...\n"
     ]
    },
    {
     "name": "stdout",
     "output_type": "stream",
     "text": [
      "save run record\n",
      "generate todo list\n",
      "feature engineering\n",
      "> /home/kai/data/shiyi/AlphaBoosting/automl/automl_app/app.py(201)_feature_engineering()\n",
      "-> if not dictionary['feature_engineering']:\n",
      "(Pdb) c\n",
      "validation\n",
      "concat test\n",
      "grid search\n",
      "> /home/kai/data/shiyi/AlphaBoosting/automl/automl_app/app.py(283)_grid_search()\n",
      "-> self._lgb_grid_search(X_train, y_train, X_val, y_val,\n",
      "(Pdb) n\n",
      "> /home/kai/data/shiyi/AlphaBoosting/automl/automl_app/app.py(284)_grid_search()\n",
      "-> categorical_features, search_rounds=2,\n",
      "(Pdb) train.shape\n",
      "(12, 5)\n",
      "(Pdb) train\n",
      "     t  l  a  b    n\n",
      "0    0  1  0  0  0.1\n",
      "1    2  1  0  2  0.3\n",
      "2    3  0  0  3  0.4\n",
      "3    4  0  1  1  0.5\n",
      "4    6  0  1  5  0.6\n",
      "5    7  1  1  1  0.1\n",
      "6    8  0  0  0  0.2\n",
      "7    9  0  0  1  0.7\n",
      "8   10  1  0  2  0.5\n",
      "9   12  0  1  3  0.3\n",
      "10  13  1  1  1  0.1\n",
      "11  14  1  1  5  0.2\n",
      "(Pdb) test\n",
      "    t  a  l\n",
      "0   0  1  0\n",
      "1   0  1  1\n",
      "2   0  2  0\n",
      "3   0  2  1\n",
      "4   1  1  0\n",
      "5   1  1  1\n",
      "6   1  2  0\n",
      "7   1  2  0\n",
      "8   1  2  1\n",
      "9   2  1  0\n",
      "10  2  1  1\n",
      "11  2  2  1\n",
      "12  2  1  1\n",
      "13  2  1  1\n",
      "(Pdb) val\n",
      "    t  l  a  b    n\n",
      "0  16  0  1  2  0.1\n",
      "1  17  1  2  2  0.5\n"
     ]
    }
   ],
   "source": [
    "from app import AlphaBoosting\n",
    "\n",
    "b = AlphaBoosting('automl_config.json', func_map, feature_engineering_dict)"
   ]
  },
  {
   "cell_type": "code",
   "execution_count": null,
   "metadata": {
    "collapsed": true
   },
   "outputs": [],
   "source": []
  }
 ],
 "metadata": {
  "kernelspec": {
   "display_name": "Python 3",
   "language": "python",
   "name": "python3"
  },
  "language_info": {
   "codemirror_mode": {
    "name": "ipython",
    "version": 3
   },
   "file_extension": ".py",
   "mimetype": "text/x-python",
   "name": "python",
   "nbconvert_exporter": "python",
   "pygments_lexer": "ipython3",
   "version": "3.6.3"
  },
  "varInspector": {
   "cols": {
    "lenName": 16,
    "lenType": 16,
    "lenVar": 40
   },
   "kernels_config": {
    "python": {
     "delete_cmd_postfix": "",
     "delete_cmd_prefix": "del ",
     "library": "var_list.py",
     "varRefreshCmd": "print(var_dic_list())"
    },
    "r": {
     "delete_cmd_postfix": ") ",
     "delete_cmd_prefix": "rm(",
     "library": "var_list.r",
     "varRefreshCmd": "cat(var_dic_list()) "
    }
   },
   "types_to_exclude": [
    "module",
    "function",
    "builtin_function_or_method",
    "instance",
    "_Feature"
   ],
   "window_display": false
  }
 },
 "nbformat": 4,
 "nbformat_minor": 2
}
