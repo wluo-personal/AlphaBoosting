{
 "cells": [
  {
   "cell_type": "code",
   "execution_count": 1,
   "metadata": {
    "ExecuteTime": {
     "end_time": "2018-06-13T20:21:04.726199Z",
     "start_time": "2018-06-13T20:21:04.719735Z"
    },
    "collapsed": true
   },
   "outputs": [],
   "source": [
    "import os\n",
    "import sys\n",
    "nb_dir = os.path.split(os.getcwd())[0]\n",
    "if nb_dir not in sys.path:\n",
    "    sys.path.append(nb_dir)"
   ]
  },
  {
   "cell_type": "code",
   "execution_count": 2,
   "metadata": {
    "ExecuteTime": {
     "end_time": "2018-06-13T20:21:04.918593Z",
     "start_time": "2018-06-13T20:21:04.901853Z"
    }
   },
   "outputs": [
    {
     "data": {
      "text/plain": [
       "'/home/kai/data/shiyi/AlphaBoosting/automl'"
      ]
     },
     "execution_count": 2,
     "metadata": {},
     "output_type": "execute_result"
    }
   ],
   "source": [
    "nb_dir"
   ]
  },
  {
   "cell_type": "code",
   "execution_count": 3,
   "metadata": {
    "ExecuteTime": {
     "end_time": "2018-06-13T20:21:05.056583Z",
     "start_time": "2018-06-13T20:21:05.051112Z"
    }
   },
   "outputs": [
    {
     "data": {
      "text/plain": [
       "['',\n",
       " '/home/kai/anaconda3/lib/python36.zip',\n",
       " '/home/kai/anaconda3/lib/python3.6',\n",
       " '/home/kai/anaconda3/lib/python3.6/lib-dynload',\n",
       " '/home/kai/anaconda3/lib/python3.6/site-packages',\n",
       " '/home/kai/anaconda3/lib/python3.6/site-packages/xgboost-0.7-py3.6.egg',\n",
       " '/home/kai/anaconda3/lib/python3.6/site-packages/duckling-1.8.0-py3.6.egg',\n",
       " '/home/kai/anaconda3/lib/python3.6/site-packages/JPype1-0.6.3-py3.6-linux-x86_64.egg',\n",
       " '/home/kai/anaconda3/lib/python3.6/site-packages/IPython/extensions',\n",
       " '/home/kai/.ipython',\n",
       " '/home/kai/data/shiyi/AlphaBoosting/automl']"
      ]
     },
     "execution_count": 3,
     "metadata": {},
     "output_type": "execute_result"
    }
   ],
   "source": [
    "sys.path"
   ]
  },
  {
   "cell_type": "code",
   "execution_count": 4,
   "metadata": {
    "ExecuteTime": {
     "end_time": "2018-06-13T20:21:05.253024Z",
     "start_time": "2018-06-13T20:21:05.231925Z"
    },
    "collapsed": true
   },
   "outputs": [],
   "source": [
    "%load_ext autoreload"
   ]
  },
  {
   "cell_type": "code",
   "execution_count": 5,
   "metadata": {
    "ExecuteTime": {
     "end_time": "2018-06-13T20:21:05.872939Z",
     "start_time": "2018-06-13T20:21:05.868916Z"
    },
    "collapsed": true
   },
   "outputs": [],
   "source": [
    "%autoreload 2"
   ]
  },
  {
   "cell_type": "code",
   "execution_count": 6,
   "metadata": {
    "ExecuteTime": {
     "end_time": "2018-06-13T20:21:07.021604Z",
     "start_time": "2018-06-13T20:21:06.792295Z"
    },
    "collapsed": true
   },
   "outputs": [],
   "source": [
    "from automl_libs import feature_engineering as fe\n",
    "from automl_libs import encoding, kernels "
   ]
  },
  {
   "cell_type": "code",
   "execution_count": 48,
   "metadata": {
    "ExecuteTime": {
     "end_time": "2018-06-14T03:35:09.589821Z",
     "start_time": "2018-06-14T03:35:09.538393Z"
    },
    "collapsed": true
   },
   "outputs": [],
   "source": [
    "func_map = {\n",
    "    'count':                         fe.count,\n",
    "    'unique_count':                  fe.unique_count,\n",
    "    'cumulative_count':              fe.cumulative_count,\n",
    "    'reverse_cumulative_count':      fe.reverse_cumulative_count,\n",
    "    'variance':                      fe.variance,\n",
    "    'count_std_over_mean':           fe.count_std_over_mean,\n",
    "    'time_to_n_next':                fe.time_to_n_next,\n",
    "    'count_in_previous_n_time_unit': fe.count_in_previous_n_time_unit,\n",
    "    'count_in_next_n_time_unit':     fe.count_in_next_n_time_unit,\n",
    "    'woe':                           encoding.woe,\n",
    "    'chi_square':                    encoding.chi_square,\n",
    "    'mean':                          encoding.mean,\n",
    "    'square':                        kernels.square\n",
    "}\n",
    "\n",
    "# params\n",
    "#param = {'trainLen': self.train_len, 'splitCol': 'a', 'col': self.label, 'coefficient': 10, 'n': 2, 'fillna': 22}\n",
    "param = {'splitCol': 'a', 'coefficient': 10, 'n': 2, 'fillna': 22}\n",
    "\n",
    "feature_engineering_dict = []\n",
    "feature_engineering_dict.append({'params': param, 'function': 'count', 'feature_cols': ['a','b']})\n",
    "feature_engineering_dict.append({'params': param, 'function': 'unique_count', 'feature_cols': ['a','b']})\n",
    "feature_engineering_dict.append({'params': param, 'function': 'cumulative_count', 'feature_cols': ['a','b']})\n",
    "feature_engineering_dict.append({'params': param, 'function': 'reverse_cumulative_count', 'feature_cols': ['a','b']})\n",
    "feature_engineering_dict.append({'params': param, 'function': 'variance', 'feature_cols': ['a','n']})\n",
    "feature_engineering_dict.append({'params': param, 'function': 'count_std_over_mean', 'feature_cols': ['a','b']})\n",
    "feature_engineering_dict.append({'params': param, 'function': 'time_to_n_next', 'feature_cols': ['a','t']})\n",
    "feature_engineering_dict.append({'params': param, 'function': 'count_in_previous_n_time_unit', 'feature_cols': ['a','t']})\n",
    "feature_engineering_dict.append({'params': param, 'function': 'count_in_next_n_time_unit', 'feature_cols': ['a','t']})\n",
    "\n",
    "# feature_engineering_dict.append({'params': param, 'function': 'woe', 'feature_cols': ['b']})\n",
    "# feature_engineering_dict.append({'params': param, 'function': 'chi_square', 'feature_cols': ['b']})\n",
    "# feature_engineering_dict.append({'params': param, 'function': 'mean', 'feature_cols': ['b']})"
   ]
  },
  {
   "cell_type": "code",
   "execution_count": 8,
   "metadata": {
    "ExecuteTime": {
     "end_time": "2018-06-13T20:21:07.912837Z",
     "start_time": "2018-06-13T20:21:07.892863Z"
    },
    "collapsed": true
   },
   "outputs": [],
   "source": [
    "import logger_config"
   ]
  },
  {
   "cell_type": "code",
   "execution_count": 9,
   "metadata": {
    "ExecuteTime": {
     "end_time": "2018-06-13T20:21:08.537995Z",
     "start_time": "2018-06-13T20:21:08.515622Z"
    },
    "collapsed": true
   },
   "outputs": [],
   "source": [
    "logger_config.config('automl.log')\n",
    "\n",
    "# logger = logging.getLogger('AutoML.automl_app.app')\n",
    "# def tempdef():\n",
    "#     logger.info('start feature engineering...')\n",
    "#     # fe.do_fe()\n",
    "#     logger.info('feature engineering done')\n",
    "\n",
    "#     logger.info('start grid search...')\n",
    "#     # gs.do_gs()\n",
    "#     logger.info('grid search done')\n",
    "\n",
    "# tempdef()"
   ]
  },
  {
   "cell_type": "code",
   "execution_count": 11,
   "metadata": {
    "ExecuteTime": {
     "end_time": "2018-06-13T20:21:30.523275Z",
     "start_time": "2018-06-13T20:21:30.502956Z"
    },
    "collapsed": true
   },
   "outputs": [],
   "source": [
    "#a = AlphaBoosting(root='./', train_csv_url='./a.txt', test_csv_url='./b.txt', \n",
    "#                  validation_index=[1,2], func_map=func_map, label='l',down_sampling_ratio=0.5, downsampling=2)"
   ]
  },
  {
   "cell_type": "code",
   "execution_count": 50,
   "metadata": {
    "ExecuteTime": {
     "end_time": "2018-06-14T03:43:14.337040Z",
     "start_time": "2018-06-14T03:43:14.205318Z"
    },
    "scrolled": true
   },
   "outputs": [
    {
     "name": "stderr",
     "output_type": "stream",
     "text": [
      "2018-06-14 03:43:14,237 | INFO     | app.AlphaBoosting                            | __init__             | #58  | Run record file [run_record.json] not found. Begin the first time run...\n",
      "2018-06-14 03:43:14,324 | DEBUG    | automl_libs.feature_engineering              | count                | #65  | feature generated: count__a_b__10_22_2_a\n"
     ]
    },
    {
     "name": "stdout",
     "output_type": "stream",
     "text": [
      "save run record\n",
      "generate todo list\n",
      "feature engineering\n"
     ]
    },
    {
     "ename": "NameError",
     "evalue": "name 'self' is not defined",
     "output_type": "error",
     "traceback": [
      "\u001b[0;31m---------------------------------------------------------------------------\u001b[0m",
      "\u001b[0;31mNameError\u001b[0m                                 Traceback (most recent call last)",
      "\u001b[0;32m<ipython-input-50-1541acf12615>\u001b[0m in \u001b[0;36m<module>\u001b[0;34m()\u001b[0m\n\u001b[1;32m      1\u001b[0m \u001b[0;32mfrom\u001b[0m \u001b[0mapp\u001b[0m \u001b[0;32mimport\u001b[0m \u001b[0mAlphaBoosting\u001b[0m\u001b[0;34m\u001b[0m\u001b[0m\n\u001b[1;32m      2\u001b[0m \u001b[0;34m\u001b[0m\u001b[0m\n\u001b[0;32m----> 3\u001b[0;31m \u001b[0mb\u001b[0m \u001b[0;34m=\u001b[0m \u001b[0mAlphaBoosting\u001b[0m\u001b[0;34m(\u001b[0m\u001b[0;34m'automl_config.json'\u001b[0m\u001b[0;34m,\u001b[0m \u001b[0mfunc_map\u001b[0m\u001b[0;34m,\u001b[0m \u001b[0mfeature_engineering_dict\u001b[0m\u001b[0;34m)\u001b[0m\u001b[0;34m\u001b[0m\u001b[0m\n\u001b[0m",
      "\u001b[0;32m~/data/shiyi/AlphaBoosting/automl/automl_app/app.py\u001b[0m in \u001b[0;36m__init__\u001b[0;34m(self, config_file, func_map, feature_engineering_dict, run_record)\u001b[0m\n\u001b[1;32m    110\u001b[0m         \u001b[0;31m# feature engineering\u001b[0m\u001b[0;34m\u001b[0m\u001b[0;34m\u001b[0m\u001b[0m\n\u001b[1;32m    111\u001b[0m         \u001b[0mprint\u001b[0m\u001b[0;34m(\u001b[0m\u001b[0;34m'feature engineering'\u001b[0m\u001b[0;34m)\u001b[0m\u001b[0;34m\u001b[0m\u001b[0m\n\u001b[0;32m--> 112\u001b[0;31m         \u001b[0mself\u001b[0m\u001b[0;34m.\u001b[0m\u001b[0m_feature_engineering\u001b[0m\u001b[0;34m(\u001b[0m\u001b[0mdictionary\u001b[0m\u001b[0;34m)\u001b[0m\u001b[0;34m\u001b[0m\u001b[0m\n\u001b[0m\u001b[1;32m    113\u001b[0m \u001b[0;34m\u001b[0m\u001b[0m\n\u001b[1;32m    114\u001b[0m         \u001b[0;31m# get validation\u001b[0m\u001b[0;34m\u001b[0m\u001b[0;34m\u001b[0m\u001b[0m\n",
      "\u001b[0;32m~/data/shiyi/AlphaBoosting/automl/automl_app/app.py\u001b[0m in \u001b[0;36m_feature_engineering\u001b[0;34m(self, dictionary)\u001b[0m\n\u001b[1;32m    204\u001b[0m                 \u001b[0mdata\u001b[0m \u001b[0;34m=\u001b[0m \u001b[0mjson\u001b[0m\u001b[0;34m.\u001b[0m\u001b[0mload\u001b[0m\u001b[0;34m(\u001b[0m\u001b[0mfile\u001b[0m\u001b[0;34m)\u001b[0m\u001b[0;34m\u001b[0m\u001b[0m\n\u001b[1;32m    205\u001b[0m                 \u001b[0;32mfor\u001b[0m \u001b[0mline\u001b[0m \u001b[0;32min\u001b[0m \u001b[0mdata\u001b[0m\u001b[0;34m:\u001b[0m\u001b[0;34m\u001b[0m\u001b[0m\n\u001b[0;32m--> 206\u001b[0;31m                     \u001b[0mself\u001b[0m\u001b[0;34m.\u001b[0m\u001b[0m_add_column\u001b[0m\u001b[0;34m(\u001b[0m\u001b[0mline\u001b[0m\u001b[0;34m,\u001b[0m \u001b[0mself\u001b[0m\u001b[0;34m.\u001b[0m\u001b[0mfunc_map\u001b[0m\u001b[0;34m)\u001b[0m\u001b[0;34m\u001b[0m\u001b[0m\n\u001b[0m\u001b[1;32m    207\u001b[0m         \u001b[0mself\u001b[0m\u001b[0;34m.\u001b[0m\u001b[0m_renew_status\u001b[0m\u001b[0;34m(\u001b[0m\u001b[0mdictionary\u001b[0m\u001b[0;34m,\u001b[0m \u001b[0;34m'feature_engineering'\u001b[0m\u001b[0;34m,\u001b[0m \u001b[0;34m(\u001b[0m\u001b[0mself\u001b[0m\u001b[0;34m.\u001b[0m\u001b[0mLOGDIR\u001b[0m \u001b[0;34m+\u001b[0m \u001b[0;34m'todo_list.json'\u001b[0m\u001b[0;34m)\u001b[0m\u001b[0;34m)\u001b[0m\u001b[0;34m\u001b[0m\u001b[0m\n\u001b[1;32m    208\u001b[0m \u001b[0;34m\u001b[0m\u001b[0m\n",
      "\u001b[0;32m~/data/shiyi/AlphaBoosting/automl/automl_app/app.py\u001b[0m in \u001b[0;36m_add_column\u001b[0;34m(self, line, f_map)\u001b[0m\n\u001b[1;32m    447\u001b[0m             _df = f_map[func](df=self.df[feature_cols+[self.label]], cols=line.get('feature_cols'), dummy_col=self.label,\n\u001b[1;32m    448\u001b[0m                               generated_feature_name=generated_feature_name, params=line.get('params'))\n\u001b[0;32m--> 449\u001b[0;31m             \u001b[0mutils\u001b[0m\u001b[0;34m.\u001b[0m\u001b[0msave\u001b[0m\u001b[0;34m(\u001b[0m\u001b[0mdf\u001b[0m\u001b[0;34m=\u001b[0m\u001b[0m_df\u001b[0m\u001b[0;34m,\u001b[0m \u001b[0mtrain_len\u001b[0m\u001b[0;34m=\u001b[0m\u001b[0mself\u001b[0m\u001b[0;34m.\u001b[0m\u001b[0mtrain_len\u001b[0m\u001b[0;34m,\u001b[0m \u001b[0murl\u001b[0m\u001b[0;34m=\u001b[0m\u001b[0mself\u001b[0m\u001b[0;34m.\u001b[0m\u001b[0mFEATUREDIR\u001b[0m\u001b[0;34m,\u001b[0m \u001b[0mname\u001b[0m\u001b[0;34m=\u001b[0m\u001b[0mgenerated_feature_name\u001b[0m\u001b[0;34m)\u001b[0m\u001b[0;34m\u001b[0m\u001b[0m\n\u001b[0m\u001b[1;32m    450\u001b[0m \u001b[0;34m\u001b[0m\u001b[0m\n\u001b[1;32m    451\u001b[0m     \u001b[0;31m# concat test\u001b[0m\u001b[0;34m\u001b[0m\u001b[0;34m\u001b[0m\u001b[0m\n",
      "\u001b[0;32m~/data/shiyi/AlphaBoosting/automl/automl_libs/utils.py\u001b[0m in \u001b[0;36msave\u001b[0;34m(df, flg, train_len, url, name)\u001b[0m\n\u001b[1;32m     38\u001b[0m         \u001b[0mdf\u001b[0m\u001b[0;34m[\u001b[0m\u001b[0;34m:\u001b[0m\u001b[0mtrain_len\u001b[0m\u001b[0;34m]\u001b[0m\u001b[0;34m.\u001b[0m\u001b[0mreset_index\u001b[0m\u001b[0;34m(\u001b[0m\u001b[0mdrop\u001b[0m\u001b[0;34m=\u001b[0m\u001b[0;32mTrue\u001b[0m\u001b[0;34m)\u001b[0m\u001b[0;34m.\u001b[0m\u001b[0mto_pickle\u001b[0m\u001b[0;34m(\u001b[0m\u001b[0murl\u001b[0m \u001b[0;34m+\u001b[0m \u001b[0mfilename1\u001b[0m\u001b[0;34m)\u001b[0m\u001b[0;34m\u001b[0m\u001b[0m\n\u001b[1;32m     39\u001b[0m         \u001b[0mdf\u001b[0m\u001b[0;34m[\u001b[0m\u001b[0mtrain_len\u001b[0m\u001b[0;34m:\u001b[0m\u001b[0;34m]\u001b[0m\u001b[0;34m.\u001b[0m\u001b[0mreset_index\u001b[0m\u001b[0;34m(\u001b[0m\u001b[0mdrop\u001b[0m\u001b[0;34m=\u001b[0m\u001b[0;32mTrue\u001b[0m\u001b[0;34m)\u001b[0m\u001b[0;34m.\u001b[0m\u001b[0mto_pickle\u001b[0m\u001b[0;34m(\u001b[0m\u001b[0murl\u001b[0m \u001b[0;34m+\u001b[0m \u001b[0mfilename2\u001b[0m\u001b[0;34m)\u001b[0m\u001b[0;34m\u001b[0m\u001b[0m\n\u001b[0;32m---> 40\u001b[0;31m         \u001b[0mself\u001b[0m\u001b[0;34m.\u001b[0m\u001b[0mlogger\u001b[0m\u001b[0;34m.\u001b[0m\u001b[0minfo\u001b[0m\u001b[0;34m(\u001b[0m\u001b[0;34m'{} saved at {}'\u001b[0m\u001b[0;34m.\u001b[0m\u001b[0mformat\u001b[0m\u001b[0;34m(\u001b[0m\u001b[0mfilename1\u001b[0m\u001b[0;34m,\u001b[0m \u001b[0murl\u001b[0m\u001b[0;34m)\u001b[0m\u001b[0;34m)\u001b[0m\u001b[0;34m\u001b[0m\u001b[0m\n\u001b[0m\u001b[1;32m     41\u001b[0m         \u001b[0mself\u001b[0m\u001b[0;34m.\u001b[0m\u001b[0mlogger\u001b[0m\u001b[0;34m.\u001b[0m\u001b[0minfo\u001b[0m\u001b[0;34m(\u001b[0m\u001b[0;34m'{} saved at {}'\u001b[0m\u001b[0;34m.\u001b[0m\u001b[0mformat\u001b[0m\u001b[0;34m(\u001b[0m\u001b[0mfilename2\u001b[0m\u001b[0;34m,\u001b[0m \u001b[0murl\u001b[0m\u001b[0;34m)\u001b[0m\u001b[0;34m)\u001b[0m\u001b[0;34m\u001b[0m\u001b[0m\n\u001b[1;32m     42\u001b[0m     \u001b[0;32melif\u001b[0m \u001b[0mflg\u001b[0m\u001b[0;34m==\u001b[0m\u001b[0;34m'train'\u001b[0m \u001b[0;32mor\u001b[0m \u001b[0mflg\u001b[0m\u001b[0;34m==\u001b[0m\u001b[0;34m'test'\u001b[0m\u001b[0;34m:\u001b[0m\u001b[0;34m\u001b[0m\u001b[0m\n",
      "\u001b[0;31mNameError\u001b[0m: name 'self' is not defined"
     ]
    }
   ],
   "source": [
    "from app import AlphaBoosting\n",
    "\n",
    "b = AlphaBoosting('automl_config.json', func_map, feature_engineering_dict)"
   ]
  },
  {
   "cell_type": "code",
   "execution_count": null,
   "metadata": {
    "collapsed": true
   },
   "outputs": [],
   "source": []
  }
 ],
 "metadata": {
  "kernelspec": {
   "display_name": "Python 3",
   "language": "python",
   "name": "python3"
  },
  "language_info": {
   "codemirror_mode": {
    "name": "ipython",
    "version": 3
   },
   "file_extension": ".py",
   "mimetype": "text/x-python",
   "name": "python",
   "nbconvert_exporter": "python",
   "pygments_lexer": "ipython3",
   "version": "3.6.3"
  },
  "varInspector": {
   "cols": {
    "lenName": 16,
    "lenType": 16,
    "lenVar": 40
   },
   "kernels_config": {
    "python": {
     "delete_cmd_postfix": "",
     "delete_cmd_prefix": "del ",
     "library": "var_list.py",
     "varRefreshCmd": "print(var_dic_list())"
    },
    "r": {
     "delete_cmd_postfix": ") ",
     "delete_cmd_prefix": "rm(",
     "library": "var_list.r",
     "varRefreshCmd": "cat(var_dic_list()) "
    }
   },
   "types_to_exclude": [
    "module",
    "function",
    "builtin_function_or_method",
    "instance",
    "_Feature"
   ],
   "window_display": false
  }
 },
 "nbformat": 4,
 "nbformat_minor": 2
}
