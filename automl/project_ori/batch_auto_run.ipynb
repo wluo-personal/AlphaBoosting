{
 "cells": [
  {
   "cell_type": "code",
   "execution_count": null,
   "metadata": {
    "ExecuteTime": {
     "end_time": "2018-08-31T15:22:50.971163Z",
     "start_time": "2018-08-31T15:22:50.967843Z"
    }
   },
   "outputs": [],
   "source": [
    "import time\n",
    "import json\n",
    "import pickle\n",
    "\n",
    "pythonpath = '/home/kai/anaconda3/envs/tf_gpu/bin/python'\n",
    "task = 'main.py'"
   ]
  },
  {
   "cell_type": "code",
   "execution_count": null,
   "metadata": {
    "ExecuteTime": {
     "end_time": "2018-08-31T15:22:50.980861Z",
     "start_time": "2018-08-31T15:22:50.973106Z"
    }
   },
   "outputs": [],
   "source": [
    "#### reset with CAUTION!!!\n",
    "done = pickle.load(open('done.pkl','rb'))\n",
    "done = set(['done'])\n",
    "pickle.dump(done, open('done.pkl', 'wb'))"
   ]
  },
  {
   "cell_type": "code",
   "execution_count": null,
   "metadata": {
    "ExecuteTime": {
     "start_time": "2018-08-31T15:22:50.977Z"
    }
   },
   "outputs": [],
   "source": [
    "while True:\n",
    "    filelist = json.load(open('feat_files.json', 'r'))\n",
    "    done = pickle.load(open('done.pkl','rb'))\n",
    "    for file in filelist['list']:\n",
    "        print('####################### FOUND: '+file['data_name']+\" #####################\")\n",
    "        if file['data_name'] not in done:\n",
    "            print('PROCESSING: ',file['data_name'])\n",
    "            !rm -rf temp_data\n",
    "            config_file = json.load(open('automl_config-ori.json','r'))\n",
    "            config_file['data_name'] = file['data_name'] \n",
    "            config_file['train_data_url'] = file['train_data_url']\n",
    "            config_file['test_data_url'] = file['test_data_url'] \n",
    "            config_file['categorical_features'] = file['categorical_features']\n",
    "            json.dump(config_file, open('automl_config.json', 'w'))\n",
    "            log = 'nohup.log'#+str(int(time.time()))+'.log'\n",
    "            !$pythonpath $task > $log\n",
    "            done.add(file['data_name'])\n",
    "            pickle.dump(done, open('done.pkl', 'wb'))\n",
    "     \n",
    "    print('check again in 50 sec')\n",
    "    time.sleep(50)"
   ]
  },
  {
   "cell_type": "code",
   "execution_count": null,
   "metadata": {},
   "outputs": [],
   "source": []
  }
 ],
 "metadata": {
  "kernelspec": {
   "display_name": "Python 3.5 (tf_gpu)",
   "language": "python",
   "name": "tf_gpu"
  },
  "language_info": {
   "codemirror_mode": {
    "name": "ipython",
    "version": 3
   },
   "file_extension": ".py",
   "mimetype": "text/x-python",
   "name": "python",
   "nbconvert_exporter": "python",
   "pygments_lexer": "ipython3",
   "version": "3.5.5"
  },
  "varInspector": {
   "cols": {
    "lenName": 16,
    "lenType": 16,
    "lenVar": 40
   },
   "kernels_config": {
    "python": {
     "delete_cmd_postfix": "",
     "delete_cmd_prefix": "del ",
     "library": "var_list.py",
     "varRefreshCmd": "print(var_dic_list())"
    },
    "r": {
     "delete_cmd_postfix": ") ",
     "delete_cmd_prefix": "rm(",
     "library": "var_list.r",
     "varRefreshCmd": "cat(var_dic_list()) "
    }
   },
   "types_to_exclude": [
    "module",
    "function",
    "builtin_function_or_method",
    "instance",
    "_Feature"
   ],
   "window_display": false
  }
 },
 "nbformat": 4,
 "nbformat_minor": 2
}
