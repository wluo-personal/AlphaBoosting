{
 "cells": [
  {
   "cell_type": "code",
   "execution_count": null,
   "metadata": {
    "ExecuteTime": {
     "end_time": "2018-08-30T19:09:59.359583Z",
     "start_time": "2018-08-30T19:09:59.063521Z"
    }
   },
   "outputs": [],
   "source": [
    "import pandas as pd\n",
    "from os import listdir\n",
    "from IPython.display import display\n",
    "pd.options.display.max_columns = None\n",
    "pd.options.display.max_colwidth = 1000\n",
    "\n",
    "%matplotlib inline"
   ]
  },
  {
   "cell_type": "code",
   "execution_count": null,
   "metadata": {
    "ExecuteTime": {
     "end_time": "2018-08-30T19:10:01.700702Z",
     "start_time": "2018-08-30T19:10:01.695531Z"
    }
   },
   "outputs": [],
   "source": [
    "def compute_total_time(x):\n",
    "    to = 0\n",
    "    for i,t in enumerate(x.split(':')):\n",
    "        if i == 1:\n",
    "            to += int(t)*60\n",
    "        elif i == 2:\n",
    "            to += int(t)\n",
    "    return to"
   ]
  },
  {
   "cell_type": "code",
   "execution_count": null,
   "metadata": {
    "ExecuteTime": {
     "end_time": "2018-08-31T14:08:49.387835Z",
     "start_time": "2018-08-31T14:08:49.381867Z"
    }
   },
   "outputs": [],
   "source": [
    "for filename in listdir('output/'):\n",
    "    if '_grid_search' in filename:\n",
    "        print(filename)\n",
    "    if '_stacknet' in filename:\n",
    "        print(filename)\n",
    "    "
   ]
  },
  {
   "cell_type": "code",
   "execution_count": null,
   "metadata": {
    "ExecuteTime": {
     "end_time": "2018-08-30T20:29:08.183965Z",
     "start_time": "2018-08-30T20:29:08.145083Z"
    },
    "scrolled": true
   },
   "outputs": [],
   "source": [
    "gs_res = pd.read_csv('output/lgb_simple1_grid_search.csv', index_col='Unnamed: 0').sort_values(by=['val_auc'], ascending=False)\n",
    "gs_res['total_gs_timespent'] = gs_res['gs_timespent'].apply(lambda x: compute_total_time(x))\n",
    "#0.829998\n",
    "print(gs_res.shape)\n",
    "gs_res.head(15)"
   ]
  },
  {
   "cell_type": "code",
   "execution_count": null,
   "metadata": {
    "ExecuteTime": {
     "end_time": "2018-08-31T14:28:32.764650Z",
     "start_time": "2018-08-31T14:28:32.726814Z"
    },
    "scrolled": false
   },
   "outputs": [],
   "source": [
    "stacknet_res = pd.read_csv('output/oof/stacknet_report.csv').sort_values(by=['oof_cv_score'], ascending=False)\n",
    "stacknet_res['model'] = stacknet_res['model_data'].apply(lambda x: x.split('_')[2])\n",
    "stacknet_res['layer'] = stacknet_res['model_data'].apply(lambda x: x.split('_')[-1])\n",
    "print(stacknet_res.shape)\n",
    "# stacknet_res['num_model_data'] = stacknet_res['chosen model_data'].apply(lambda x: len(x.split('|')) if x is not np.nan else 0)\n",
    "# stacknet_res.drop(columns=['chosen model_data'])\n",
    "\n",
    "stacknet_res['modeldata_group'] = stacknet_res['model_data'].apply(lambda x: x.split('__')[1])\n",
    "stacknet_res.drop(columns=['model_data'], inplace=True)\n",
    "stacknet_res"
   ]
  },
  {
   "cell_type": "code",
   "execution_count": null,
   "metadata": {
    "ExecuteTime": {
     "end_time": "2018-08-31T14:30:01.958657Z",
     "start_time": "2018-08-31T14:30:01.939697Z"
    }
   },
   "outputs": [],
   "source": [
    "stacknet_res.groupby('modeldata_group')['oof_cv_score', 'gs_val_auc'].mean().sort_values('oof_cv_score', ascending=False)"
   ]
  },
  {
   "cell_type": "code",
   "execution_count": null,
   "metadata": {},
   "outputs": [],
   "source": [
    "# 1. oof_cv_score vs. gs_val_auc\n",
    "# for NN, oof_cv_score != gs_val_auc is normal, because gs_val_auc is get by train+val in grid search, while \n",
    "# oof_cv_score is got by nfolds cv\n",
    "# for LGB, if gs_cv is true in config file, then oof_cv_score == gs_val_auc (almost). otherwise, based on the same\n",
    "# reason as NN, oof_cv_score != gs_val_auc is normal \n",
    "\n",
    "# 2. test_score\n",
    "# for NN: the one(not showing in log) is got by train+val and load_weights when doing prediction after grid search\n",
    "# (when do_preds is true in config file), and test_score is got during oof where all trainig data are used. It's \n",
    "# normal that they are not equal\n",
    "# for LGB, since model is retrain using all training data when doing prediction after grid search, the one is not in \n",
    "# log == test_score"
   ]
  },
  {
   "cell_type": "code",
   "execution_count": null,
   "metadata": {
    "ExecuteTime": {
     "end_time": "2018-08-28T23:10:15.487257Z",
     "start_time": "2018-08-28T23:10:15.454668Z"
    }
   },
   "outputs": [],
   "source": [
    "import os\n",
    "import sys\n",
    "#nb_dir = os.path.split(os.getcwd())[0]\n",
    "#if nb_dir not in sys.path:\n",
    "#    sys.path.append(nb_dir)\n",
    "    \n",
    "autolib_dir = '/home/kai/data/shiyi/AlphaBoosting/automl'\n",
    "if autolib_dir not in sys.path:\n",
    "    sys.path.append(autolib_dir)\n",
    "\n",
    "print(sys.path)\n",
    "\n",
    "%load_ext autoreload\n",
    "%autoreload 2"
   ]
  },
  {
   "cell_type": "code",
   "execution_count": null,
   "metadata": {
    "ExecuteTime": {
     "end_time": "2018-08-28T23:10:15.951603Z",
     "start_time": "2018-08-28T23:10:15.928200Z"
    }
   },
   "outputs": [],
   "source": [
    "from automl_libs import BaseLayerResultsRepo"
   ]
  },
  {
   "cell_type": "code",
   "execution_count": null,
   "metadata": {
    "ExecuteTime": {
     "end_time": "2018-08-28T23:10:17.704316Z",
     "start_time": "2018-08-28T23:10:17.608591Z"
    }
   },
   "outputs": [],
   "source": [
    "repo = BaseLayerResultsRepo(['TARGET'], 'output/oof/', load_from_file=True)"
   ]
  },
  {
   "cell_type": "code",
   "execution_count": null,
   "metadata": {
    "ExecuteTime": {
     "end_time": "2018-08-28T23:11:30.733709Z",
     "start_time": "2018-08-28T23:11:30.701245Z"
    }
   },
   "outputs": [],
   "source": [
    "repo2 = BaseLayerResultsRepo(['TARGET'], 'output2/oof/', load_from_file=True)"
   ]
  },
  {
   "cell_type": "code",
   "execution_count": null,
   "metadata": {
    "ExecuteTime": {
     "end_time": "2018-08-28T23:11:45.459983Z",
     "start_time": "2018-08-28T23:11:45.425071Z"
    }
   },
   "outputs": [],
   "source": [
    "repo.merge_another_repo(repo2)"
   ]
  },
  {
   "cell_type": "code",
   "execution_count": null,
   "metadata": {
    "ExecuteTime": {
     "end_time": "2018-08-28T23:11:49.248801Z",
     "start_time": "2018-08-28T23:11:49.215236Z"
    }
   },
   "outputs": [],
   "source": [
    "for i,(m,s) in enumerate(repo.show_scores()):\n",
    "    print(i+1,s,m)"
   ]
  },
  {
   "cell_type": "code",
   "execution_count": null,
   "metadata": {
    "ExecuteTime": {
     "end_time": "2018-07-30T23:31:49.818054Z",
     "start_time": "2018-07-30T23:31:49.784171Z"
    }
   },
   "outputs": [],
   "source": [
    "# repo.add_score('pVfN__LGB_fe_repro_1_layer1', 0.792136)"
   ]
  },
  {
   "cell_type": "code",
   "execution_count": null,
   "metadata": {
    "ExecuteTime": {
     "end_time": "2018-08-28T23:10:34.345394Z",
     "start_time": "2018-08-28T23:10:34.315209Z"
    }
   },
   "outputs": [],
   "source": [
    "repo.remove('BZ1g__LGB_comb_bo2_op5f4_simfe_corr1549_added_layer1')"
   ]
  },
  {
   "cell_type": "code",
   "execution_count": null,
   "metadata": {},
   "outputs": [],
   "source": []
  },
  {
   "cell_type": "code",
   "execution_count": null,
   "metadata": {},
   "outputs": [],
   "source": []
  },
  {
   "cell_type": "code",
   "execution_count": null,
   "metadata": {},
   "outputs": [],
   "source": []
  },
  {
   "cell_type": "code",
   "execution_count": null,
   "metadata": {
    "ExecuteTime": {
     "end_time": "2018-08-28T23:12:15.537221Z",
     "start_time": "2018-08-28T23:12:15.356543Z"
    }
   },
   "outputs": [],
   "source": [
    "repo.save()"
   ]
  },
  {
   "cell_type": "code",
   "execution_count": null,
   "metadata": {
    "ExecuteTime": {
     "end_time": "2018-08-28T23:10:53.132672Z",
     "start_time": "2018-08-28T23:10:53.074247Z"
    }
   },
   "outputs": [],
   "source": [
    "repo.unlock_save()"
   ]
  },
  {
   "cell_type": "code",
   "execution_count": null,
   "metadata": {
    "ExecuteTime": {
     "end_time": "2018-07-11T17:12:58.168329Z",
     "start_time": "2018-07-11T17:12:58.150985Z"
    }
   },
   "outputs": [],
   "source": [
    "gs_nn_res.head(0).T.to_dict()"
   ]
  }
 ],
 "metadata": {
  "kernelspec": {
   "display_name": "Python 3.5 (tf_gpu)",
   "language": "python",
   "name": "tf_gpu"
  },
  "language_info": {
   "codemirror_mode": {
    "name": "ipython",
    "version": 3
   },
   "file_extension": ".py",
   "mimetype": "text/x-python",
   "name": "python",
   "nbconvert_exporter": "python",
   "pygments_lexer": "ipython3",
   "version": "3.5.5"
  },
  "varInspector": {
   "cols": {
    "lenName": 16,
    "lenType": 16,
    "lenVar": 40
   },
   "kernels_config": {
    "python": {
     "delete_cmd_postfix": "",
     "delete_cmd_prefix": "del ",
     "library": "var_list.py",
     "varRefreshCmd": "print(var_dic_list())"
    },
    "r": {
     "delete_cmd_postfix": ") ",
     "delete_cmd_prefix": "rm(",
     "library": "var_list.r",
     "varRefreshCmd": "cat(var_dic_list()) "
    }
   },
   "types_to_exclude": [
    "module",
    "function",
    "builtin_function_or_method",
    "instance",
    "_Feature"
   ],
   "window_display": false
  }
 },
 "nbformat": 4,
 "nbformat_minor": 2
}
