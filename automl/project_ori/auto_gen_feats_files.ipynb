{
 "cells": [
  {
   "cell_type": "code",
   "execution_count": 31,
   "metadata": {
    "ExecuteTime": {
     "end_time": "2018-08-31T15:19:33.296816Z",
     "start_time": "2018-08-31T15:19:33.291152Z"
    }
   },
   "outputs": [],
   "source": [
    "from os import listdir\n",
    "import json\n",
    "\n",
    "feats_files_dict = {'list':[]}\n",
    "\n",
    "path = '/home/kai/data/weiluo/AlphaBoosting/home_credit/weiluo/data/fill_na_410/'\n",
    "for filename in listdir(path):\n",
    "    if 'train_' in filename:\n",
    "        data_name = filename[6:][:-4]\n",
    "        feats_files_dict['list'].append({\n",
    "            \"data_name\": data_name, \n",
    "            \"train_data_url\": path+filename,\n",
    "            \"test_data_url\": path+filename.replace('train', 'test'),\n",
    "            \"categorical_features\": []\n",
    "        })\n",
    "\n",
    "json.dump(feats_files_dict, open('feat_files.json', 'w'), indent=4)"
   ]
  }
 ],
 "metadata": {
  "kernelspec": {
   "display_name": "Python 3",
   "language": "python",
   "name": "python3"
  },
  "language_info": {
   "codemirror_mode": {
    "name": "ipython",
    "version": 3
   },
   "file_extension": ".py",
   "mimetype": "text/x-python",
   "name": "python",
   "nbconvert_exporter": "python",
   "pygments_lexer": "ipython3",
   "version": "3.6.5"
  },
  "varInspector": {
   "cols": {
    "lenName": 16,
    "lenType": 16,
    "lenVar": 40
   },
   "kernels_config": {
    "python": {
     "delete_cmd_postfix": "",
     "delete_cmd_prefix": "del ",
     "library": "var_list.py",
     "varRefreshCmd": "print(var_dic_list())"
    },
    "r": {
     "delete_cmd_postfix": ") ",
     "delete_cmd_prefix": "rm(",
     "library": "var_list.r",
     "varRefreshCmd": "cat(var_dic_list()) "
    }
   },
   "types_to_exclude": [
    "module",
    "function",
    "builtin_function_or_method",
    "instance",
    "_Feature"
   ],
   "window_display": false
  }
 },
 "nbformat": 4,
 "nbformat_minor": 2
}
