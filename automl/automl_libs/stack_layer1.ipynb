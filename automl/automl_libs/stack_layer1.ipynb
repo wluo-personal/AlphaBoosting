{
 "cells": [
  {
   "cell_type": "code",
   "execution_count": 1,
   "metadata": {
    "ExecuteTime": {
     "end_time": "2018-06-27T18:29:15.049036Z",
     "start_time": "2018-06-27T18:29:15.025083Z"
    }
   },
   "outputs": [],
   "source": [
    "%load_ext autoreload\n",
    "%autoreload 2"
   ]
  },
  {
   "cell_type": "code",
   "execution_count": 2,
   "metadata": {
    "ExecuteTime": {
     "end_time": "2018-06-27T18:29:19.674972Z",
     "start_time": "2018-06-27T18:29:15.203192Z"
    }
   },
   "outputs": [
    {
     "name": "stderr",
     "output_type": "stream",
     "text": [
      "/home/kai/anaconda3/envs/tf_gpu/lib/python3.5/site-packages/h5py/__init__.py:36: FutureWarning: Conversion of the second argument of issubdtype from `float` to `np.floating` is deprecated. In future, it will be treated as `np.float64 == np.dtype(float).type`.\n",
      "  from ._conv import register_converters as _register_converters\n",
      "Using TensorFlow backend.\n"
     ]
    }
   ],
   "source": [
    "from base_layer_utils import BaseLayerDataRepo, BaseLayerResultsRepo, ModelName\n",
    "from base_layer_utils import compute_layer1_oof\n",
    "from base_layer_utils import SklearnBLE\n",
    "\n",
    "#from fast_text_data import FastTextDataGenerator# fasttext_data_process \n",
    "#from tfidf_data import tfidf_data_process\n",
    "\n",
    "import pandas as pd\n",
    "import numpy as np\n",
    "from sklearn.model_selection import KFold, StratifiedKFold\n",
    "import time\n",
    "import gc\n",
    "import xgboost as xgb\n",
    "from sklearn.metrics import roc_auc_score"
   ]
  },
  {
   "cell_type": "code",
   "execution_count": 3,
   "metadata": {
    "ExecuteTime": {
     "end_time": "2018-06-27T18:29:21.100536Z",
     "start_time": "2018-06-27T18:29:20.993380Z"
    }
   },
   "outputs": [],
   "source": [
    "train = pd.read_pickle('/home/kai/data/shiyi/AlphaBoosting/automl/automl_app/project1/data/train.pkl').head(10000)\n",
    "test = pd.read_pickle('/home/kai/data/shiyi/AlphaBoosting/automl/automl_app/project1/data/test.pkl')"
   ]
  },
  {
   "cell_type": "code",
   "execution_count": 4,
   "metadata": {
    "ExecuteTime": {
     "end_time": "2018-06-26T18:22:26.537749Z",
     "start_time": "2018-06-26T18:22:26.455491Z"
    }
   },
   "outputs": [
    {
     "data": {
      "text/html": [
       "<div>\n",
       "<style scoped>\n",
       "    .dataframe tbody tr th:only-of-type {\n",
       "        vertical-align: middle;\n",
       "    }\n",
       "\n",
       "    .dataframe tbody tr th {\n",
       "        vertical-align: top;\n",
       "    }\n",
       "\n",
       "    .dataframe thead th {\n",
       "        text-align: right;\n",
       "    }\n",
       "</style>\n",
       "<table border=\"1\" class=\"dataframe\">\n",
       "  <thead>\n",
       "    <tr style=\"text-align: right;\">\n",
       "      <th></th>\n",
       "      <th>Month</th>\n",
       "      <th>DayofMonth</th>\n",
       "      <th>DayOfWeek</th>\n",
       "      <th>DepTime</th>\n",
       "      <th>UniqueCarrier</th>\n",
       "      <th>Origin</th>\n",
       "      <th>Dest</th>\n",
       "      <th>Distance</th>\n",
       "      <th>label</th>\n",
       "    </tr>\n",
       "  </thead>\n",
       "  <tbody>\n",
       "    <tr>\n",
       "      <th>0</th>\n",
       "      <td>RARE_VALUE</td>\n",
       "      <td>19</td>\n",
       "      <td>2</td>\n",
       "      <td>18</td>\n",
       "      <td>21</td>\n",
       "      <td>157</td>\n",
       "      <td>133</td>\n",
       "      <td>6</td>\n",
       "      <td>0</td>\n",
       "    </tr>\n",
       "    <tr>\n",
       "      <th>1</th>\n",
       "      <td>4</td>\n",
       "      <td>3</td>\n",
       "      <td>1</td>\n",
       "      <td>12</td>\n",
       "      <td>18</td>\n",
       "      <td>79</td>\n",
       "      <td>172</td>\n",
       "      <td>4</td>\n",
       "      <td>0</td>\n",
       "    </tr>\n",
       "    <tr>\n",
       "      <th>2</th>\n",
       "      <td>2</td>\n",
       "      <td>1</td>\n",
       "      <td>6</td>\n",
       "      <td>9</td>\n",
       "      <td>15</td>\n",
       "      <td>129</td>\n",
       "      <td>72</td>\n",
       "      <td>2</td>\n",
       "      <td>0</td>\n",
       "    </tr>\n",
       "  </tbody>\n",
       "</table>\n",
       "</div>"
      ],
      "text/plain": [
       "        Month  DayofMonth  DayOfWeek  DepTime  UniqueCarrier  Origin  Dest  \\\n",
       "0  RARE_VALUE          19          2       18             21     157   133   \n",
       "1           4           3          1       12             18      79   172   \n",
       "2           2           1          6        9             15     129    72   \n",
       "\n",
       "   Distance  label  \n",
       "0         6      0  \n",
       "1         4      0  \n",
       "2         2      0  "
      ]
     },
     "execution_count": 4,
     "metadata": {},
     "output_type": "execute_result"
    }
   ],
   "source": [
    "train_rare = train.copy()\n",
    "train_rare.loc[train_rare['Month'].value_counts()[train_rare['Month']].values < 800, 'Month'] = 'RARE_VALUE'\n",
    "train_rare.head(3)"
   ]
  },
  {
   "cell_type": "code",
   "execution_count": 5,
   "metadata": {
    "ExecuteTime": {
     "end_time": "2018-06-27T18:30:07.296787Z",
     "start_time": "2018-06-27T18:30:07.235723Z"
    }
   },
   "outputs": [
    {
     "data": {
      "text/html": [
       "<div>\n",
       "<style scoped>\n",
       "    .dataframe tbody tr th:only-of-type {\n",
       "        vertical-align: middle;\n",
       "    }\n",
       "\n",
       "    .dataframe tbody tr th {\n",
       "        vertical-align: top;\n",
       "    }\n",
       "\n",
       "    .dataframe thead th {\n",
       "        text-align: right;\n",
       "    }\n",
       "</style>\n",
       "<table border=\"1\" class=\"dataframe\">\n",
       "  <thead>\n",
       "    <tr style=\"text-align: right;\">\n",
       "      <th></th>\n",
       "      <th>Month</th>\n",
       "      <th>DayofMonth</th>\n",
       "      <th>DayOfWeek</th>\n",
       "      <th>DepTime</th>\n",
       "      <th>UniqueCarrier</th>\n",
       "      <th>Origin</th>\n",
       "      <th>Dest</th>\n",
       "      <th>Distance</th>\n",
       "      <th>label</th>\n",
       "    </tr>\n",
       "  </thead>\n",
       "  <tbody>\n",
       "    <tr>\n",
       "      <th>0</th>\n",
       "      <td>7</td>\n",
       "      <td>19</td>\n",
       "      <td>2</td>\n",
       "      <td>18</td>\n",
       "      <td>21</td>\n",
       "      <td>157</td>\n",
       "      <td>133</td>\n",
       "      <td>6</td>\n",
       "      <td>0</td>\n",
       "    </tr>\n",
       "    <tr>\n",
       "      <th>1</th>\n",
       "      <td>4</td>\n",
       "      <td>3</td>\n",
       "      <td>1</td>\n",
       "      <td>12</td>\n",
       "      <td>18</td>\n",
       "      <td>79</td>\n",
       "      <td>172</td>\n",
       "      <td>4</td>\n",
       "      <td>0</td>\n",
       "    </tr>\n",
       "  </tbody>\n",
       "</table>\n",
       "</div>"
      ],
      "text/plain": [
       "   Month  DayofMonth  DayOfWeek  DepTime  UniqueCarrier  Origin  Dest  \\\n",
       "0      7          19          2       18             21     157   133   \n",
       "1      4           3          1       12             18      79   172   \n",
       "\n",
       "   Distance  label  \n",
       "0         6      0  \n",
       "1         4      0  "
      ]
     },
     "execution_count": 5,
     "metadata": {},
     "output_type": "execute_result"
    }
   ],
   "source": [
    "train.head(2)"
   ]
  },
  {
   "cell_type": "code",
   "execution_count": 38,
   "metadata": {
    "ExecuteTime": {
     "end_time": "2018-06-27T19:41:42.292701Z",
     "start_time": "2018-06-27T19:41:42.255644Z"
    }
   },
   "outputs": [],
   "source": [
    "categorical_cols = [\"Month\", \"DayofMonth\", \"DayOfWeek\", \"DepTime\", \"UniqueCarrier\", \"Origin\", \"Dest\", \"Distance\"]\n",
    "# for col in categorical_cols:\n",
    "#     train[col] = train[col].astype('category')\n",
    "#     test[col] = test[col].astype('category')"
   ]
  },
  {
   "cell_type": "code",
   "execution_count": 6,
   "metadata": {
    "ExecuteTime": {
     "end_time": "2018-06-27T18:38:19.666543Z",
     "start_time": "2018-06-27T18:38:19.617380Z"
    }
   },
   "outputs": [
    {
     "data": {
      "text/plain": [
       "((10000, 9), (100000, 8))"
      ]
     },
     "execution_count": 6,
     "metadata": {},
     "output_type": "execute_result"
    }
   ],
   "source": [
    "train.shape, test.shape"
   ]
  },
  {
   "cell_type": "code",
   "execution_count": 8,
   "metadata": {
    "ExecuteTime": {
     "end_time": "2018-06-27T18:38:27.140757Z",
     "start_time": "2018-06-27T18:38:27.083825Z"
    }
   },
   "outputs": [
    {
     "data": {
      "text/plain": [
       "Month            int64\n",
       "DayofMonth       int64\n",
       "DayOfWeek        int64\n",
       "DepTime          int64\n",
       "UniqueCarrier    int64\n",
       "Origin           int64\n",
       "Dest             int64\n",
       "Distance         uint8\n",
       "label            int64\n",
       "dtype: object"
      ]
     },
     "execution_count": 8,
     "metadata": {},
     "output_type": "execute_result"
    }
   ],
   "source": [
    "train.dtypes"
   ]
  },
  {
   "cell_type": "code",
   "execution_count": 9,
   "metadata": {
    "ExecuteTime": {
     "end_time": "2018-06-27T18:38:29.263870Z",
     "start_time": "2018-06-27T18:38:29.240376Z"
    }
   },
   "outputs": [],
   "source": [
    "label_cols = ['label']"
   ]
  },
  {
   "cell_type": "markdown",
   "metadata": {},
   "source": [
    "# tfidf data"
   ]
  },
  {
   "cell_type": "code",
   "execution_count": 10,
   "metadata": {
    "ExecuteTime": {
     "end_time": "2018-06-27T18:38:30.098749Z",
     "start_time": "2018-06-27T18:38:30.075585Z"
    }
   },
   "outputs": [],
   "source": [
    "bldr = BaseLayerDataRepo()"
   ]
  },
  {
   "cell_type": "code",
   "execution_count": 11,
   "metadata": {
    "ExecuteTime": {
     "end_time": "2018-06-27T18:38:30.329043Z",
     "start_time": "2018-06-27T18:38:30.307155Z"
    }
   },
   "outputs": [],
   "source": [
    "compatible_models = [ModelName.LGB]#, ModelName.LGB_PERLABEL, ModelName.NBLGB, ModelName.NBLGB_PERLABEL,\n",
    "#                               ModelName.XGB, ModelName.XGB_PERLABEL, ModelName.NBXGB, ModelName.NBXGB_PERLABEL,\n",
    "#                               ModelName.LOGREG, ModelName.LOGREG_PERLABEL, ModelName.NBLOGREG, \n",
    "#                                 ModelName.NBLOGREG_PERLABEL,\n",
    "#                               ModelName.LSVC, ModelName.LSVC_PERLABEL, ModelName.NBLSVC, ModelName.NBLSVC_PERLABEL]"
   ]
  },
  {
   "cell_type": "markdown",
   "metadata": {},
   "source": [
    "bldr.add_tfidf_data(train_sentence=train['comment_text'], test_sentence=test['comment_text'], \n",
    "                    y_train=train[label_cols], label_cols=label_cols, \n",
    "                    compatible_models=tfidfdata_compatible_models, word_ngram=(1,1), word_max=30000)"
   ]
  },
  {
   "cell_type": "code",
   "execution_count": 12,
   "metadata": {
    "ExecuteTime": {
     "end_time": "2018-06-27T18:38:33.468197Z",
     "start_time": "2018-06-27T18:38:33.445148Z"
    }
   },
   "outputs": [],
   "source": [
    "feature_cols = list(set(train.columns) - set(label_cols))"
   ]
  },
  {
   "cell_type": "code",
   "execution_count": 13,
   "metadata": {
    "ExecuteTime": {
     "end_time": "2018-06-27T18:38:35.759276Z",
     "start_time": "2018-06-27T18:38:35.681206Z"
    }
   },
   "outputs": [
    {
     "data": {
      "text/plain": [
       "(pandas.core.frame.DataFrame, pandas.core.frame.DataFrame)"
      ]
     },
     "execution_count": 13,
     "metadata": {},
     "output_type": "execute_result"
    }
   ],
   "source": [
    "X_train = train[feature_cols]\n",
    "y_train = train[label_cols]#.to_dict('list')\n",
    "X_test = test[feature_cols]\n",
    "type(X_train), type(y_train)"
   ]
  },
  {
   "cell_type": "code",
   "execution_count": 14,
   "metadata": {
    "ExecuteTime": {
     "end_time": "2018-06-27T18:38:37.467758Z",
     "start_time": "2018-06-27T18:38:37.443092Z"
    }
   },
   "outputs": [
    {
     "data": {
      "text/plain": [
       "((10000, 8), (10000, 1))"
      ]
     },
     "execution_count": 14,
     "metadata": {},
     "output_type": "execute_result"
    }
   ],
   "source": [
    "X_train.shape, y_train.shape"
   ]
  },
  {
   "cell_type": "code",
   "execution_count": 15,
   "metadata": {
    "ExecuteTime": {
     "end_time": "2018-06-27T18:39:16.176641Z",
     "start_time": "2018-06-27T18:39:16.144865Z"
    }
   },
   "outputs": [],
   "source": [
    "bldr.add_data('flight_data_1', X_train, X_test, y_train, label_cols, compatible_models)"
   ]
  },
  {
   "cell_type": "code",
   "execution_count": 16,
   "metadata": {
    "ExecuteTime": {
     "end_time": "2018-06-27T18:39:16.786930Z",
     "start_time": "2018-06-27T18:39:16.738648Z"
    }
   },
   "outputs": [
    {
     "name": "stdout",
     "output_type": "stream",
     "text": [
      "data_id: flight_data_1        \n",
      "\tx_train: (10000, 8)\tx_test: (100000, 8)\n",
      "\ty_train type: <class 'dict'>\n",
      "\tcompatible_models: {<ModelName.LGB: 5>}\n",
      " \n"
     ]
    }
   ],
   "source": [
    "print(bldr)"
   ]
  },
  {
   "cell_type": "code",
   "execution_count": 17,
   "metadata": {
    "ExecuteTime": {
     "end_time": "2018-06-27T18:39:21.071332Z",
     "start_time": "2018-06-27T18:39:21.037805Z"
    }
   },
   "outputs": [],
   "source": [
    "temp = bldr.get_data('flight_data_1')"
   ]
  },
  {
   "cell_type": "markdown",
   "metadata": {},
   "source": [
    "# Start generating oof_train, oof_test,  layer1 estimater prediction and model data id list"
   ]
  },
  {
   "cell_type": "code",
   "execution_count": 82,
   "metadata": {
    "ExecuteTime": {
     "end_time": "2018-06-27T20:13:13.624839Z",
     "start_time": "2018-06-27T20:13:13.580857Z"
    }
   },
   "outputs": [],
   "source": [
    "# uncomment any model to add to the model pool\n",
    "\n",
    "model_pool = {}\n",
    "\n",
    "SEED = 2018 \n",
    "\n",
    "# from sklearn.linear_model import LogisticRegression\n",
    "# ###################################  Logreg normal   ####################################\n",
    "# logreg_ble = SklearnBLE(LogisticRegression, nb=False, seed=SEED)\n",
    "# model_pool[ModelName.LOGREG] = logreg_ble\n",
    "# ###################################  Logreg nb       ####################################\n",
    "# nblogreg_params = {'C':0.25}\n",
    "# nblogreg_ble = SklearnBLE(LogisticRegression, nb=True, seed=SEED, params=nblogreg_params)\n",
    "# model_pool[ModelName.NBLOGREG] = nblogreg_ble\n",
    "# ###################################  Logreg per label  ##################################\n",
    "# logreg_params_per_label = {\n",
    "#     'identity_hate': {'C': 0.25, 'class_weight': 'balanced', 'fit_intercept': True},\n",
    "#     'insult': {'C': 0.25, 'class_weight': 'balanced', 'fit_intercept': True},\n",
    "#     'obscene': {'C': 0.7, 'class_weight': 'balanced', 'fit_intercept': True},\n",
    "#     'severe_toxic': {'C': 0.3,'class_weight': None, 'fit_intercept': True},\n",
    "#     'threat': {'C': 0.05, 'class_weight': 'balanced', 'fit_intercept': True}, \n",
    "#     'toxic': {'C': 0.8, 'class_weight': 'balanced', 'fit_intercept': True}\n",
    "# }\n",
    "# logreg_per_label_ble = SklearnBLE(LogisticRegression, nb=False, seed=SEED, per_label_params=logreg_params_per_label)\n",
    "# model_pool[ModelName.LOGREG_PERLABEL] = logreg_per_label_ble\n",
    "\n",
    "\n",
    "\n",
    "# from sklearn.svm import LinearSVC\n",
    "# ###################################  Logreg normal   ####################################\n",
    "# lsvc_ble = SklearnBLE(LinearSVC, need_calibrated_classifier_cv=True)\n",
    "# model_pool[ModelName.LSVC] = lsvc_ble\n",
    "# ###################################  Logreg nb   ####################################\n",
    "# nblsvc_params = {'C':0.02}\n",
    "# nblsvc_ble = SklearnBLE(LinearSVC, nb=True, seed=SEED, params=nblogreg_params, need_calibrated_classifier_cv=True)\n",
    "# model_pool[ModelName.NBLSVC] = nblsvc_ble\n",
    "\n",
    "\n",
    "# from xgboost import XGBClassifier\n",
    "# ###################################  XGB normal   ####################################\n",
    "# xgb_params = {'n_jobs': 10}\n",
    "# xgb_ble = SklearnBLE(XGBClassifier, seed=SEED, params=xgb_params)# XGBoostBLE(params=xgb_params, nb=False, seed=SEED)\n",
    "# model_pool[ModelName.XGB] = xgb_ble\n",
    "# ###################################  XGB nb   ####################################\n",
    "# nbxgb_ble = SklearnBLE(XGBClassifier, nb=True, seed=SEED, params=xgb_params)\n",
    "# model_pool[ModelName.NBXGB] = nbxgb_ble\n",
    "\n",
    "\n",
    "\n",
    "from base_layer_utils import LightgbmBLE\n",
    "lgb_params = {\n",
    "    'bagging_fraction': 0.5,\n",
    "    'bagging_freq': 1,\n",
    "    'bagging_seed': 10992453,\n",
    "    'boosting': 'gbdt',\n",
    "    'num_boost_round': 10,\n",
    "    'feature_fraction': 0.7,\n",
    "    'feature_fraction_seed': 10992453,\n",
    "    'learning_rate': 0.03,\n",
    "    'max_depth': -1,\n",
    "    'metric': 'auc',\n",
    "    'min_data_in_leaf': 47,\n",
    "    'num_leaves': 31,\n",
    "    'num_threads': 8,\n",
    "    'objective': 'binary',\n",
    "    'scale_pos_weight': 2,\n",
    "    'categorical_feature': categorical_cols,\n",
    "    'verbose_eval': 1\n",
    "}\n",
    "lgb_ble = LightgbmBLE(params=lgb_params)\n",
    "model_pool[ModelName.LGB] = lgb_ble\n",
    "\n",
    "# from lightgbm import LGBMClassifier\n",
    "###################################  LGB normal   ####################################\n",
    "# lgb_params = {'n_jobs': 3,'n_estimators': 50}\n",
    "# lgb_ble = SklearnBLE(LGBMClassifier, seed=SEED, params=lgb_params)\n",
    "# model_pool[ModelName.LGB] = lgb_ble\n",
    "# ###################################  LGB nb   ####################################\n",
    "# nblgb_ble = SklearnBLE(LGBMClassifier, nb=True, seed=SEED, params=lgb_params)\n",
    "# model_pool[ModelName.NBLGB] = nblgb_ble\n",
    "# ###################################  LGB per label   ####################################\n",
    "# lgb_params_per_label = {}\n",
    "# lgb_params_per_label['toxic'] = {'n_jobs': 8, 'num_leaves': 61}\n",
    "# lgb_params_per_label['severe_toxic'] = {'n_jobs': 8, 'num_leaves': 11}\n",
    "# lgb_params_per_label['obscene'] = {'n_jobs': 8, 'num_leaves': 61}\n",
    "# lgb_params_per_label['threat'] = {'n_jobs': 8, 'num_leaves': 11}\n",
    "# lgb_params_per_label['insult'] = {'n_jobs': 8,'num_leaves': 11}\n",
    "# lgb_params_per_label['identity_hate'] = {'n_jobs': 8, 'num_leaves': 61}\n",
    "# nblgb_per_label_ble = SklearnBLE(LGBMClassifier, seed=SEED, per_label_params=lgb_params_per_label)\n",
    "# model_pool[ModelName.NBLGB_PERLABEL] = nblgb_per_label_ble"
   ]
  },
  {
   "cell_type": "code",
   "execution_count": 83,
   "metadata": {
    "ExecuteTime": {
     "end_time": "2018-06-27T20:13:15.019344Z",
     "start_time": "2018-06-27T20:13:14.988653Z"
    }
   },
   "outputs": [
    {
     "data": {
      "text/plain": [
       "[<ModelName.LGB: 5>]"
      ]
     },
     "execution_count": 83,
     "metadata": {},
     "output_type": "execute_result"
    }
   ],
   "source": [
    "list(model_pool)"
   ]
  },
  {
   "cell_type": "code",
   "execution_count": null,
   "metadata": {
    "ExecuteTime": {
     "start_time": "2018-06-27T20:13:16.984Z"
    },
    "scrolled": false
   },
   "outputs": [
    {
     "name": "stdout",
     "output_type": "stream",
     "text": [
      "Computing... label: label        model_data_id: ModelName.LGB_flight_data_1\n",
      "No evaluation set, thus not possible to use early stopping. Please train with your best params.\n",
      "[1]\ttraining's auc: 0.58563\n",
      "[2]\ttraining's auc: 0.692959\n",
      "[3]\ttraining's auc: 0.692371\n",
      "[4]\ttraining's auc: 0.715119\n",
      "[5]\ttraining's auc: 0.715381\n",
      "[6]\ttraining's auc: 0.733007\n",
      "[7]\ttraining's auc: 0.738\n",
      "[8]\ttraining's auc: 0.742397\n",
      "[9]\ttraining's auc: 0.742727\n",
      "[10]\ttraining's auc: 0.743284\n",
      "No evaluation set, thus not possible to use early stopping. Please train with your best params.\n",
      "[1]\ttraining's auc: 0.567604\n",
      "[2]\ttraining's auc: 0.687779\n",
      "[3]\ttraining's auc: 0.688725\n",
      "[4]\ttraining's auc: 0.718352\n",
      "[5]\ttraining's auc: 0.716974\n",
      "[6]\ttraining's auc: 0.732685\n",
      "[7]\ttraining's auc: 0.73748\n",
      "[8]\ttraining's auc: 0.74345\n",
      "[9]\ttraining's auc: 0.746371\n",
      "[10]\ttraining's auc: 0.748982\n",
      "[11]\ttraining's auc: 0.748999\n",
      "[12]\ttraining's auc: 0.749678\n",
      "[13]\ttraining's auc: 0.752584\n",
      "[14]\ttraining's auc: 0.756305\n",
      "[15]\ttraining's auc: 0.758141\n",
      "[16]\ttraining's auc: 0.759739\n",
      "[17]\ttraining's auc: 0.760989\n",
      "[18]\ttraining's auc: 0.76466\n",
      "[19]\ttraining's auc: 0.764553\n",
      "[20]\ttraining's auc: 0.766269\n",
      "[21]\ttraining's auc: 0.76627\n",
      "[22]\ttraining's auc: 0.766021\n",
      "[23]\ttraining's auc: 0.768118\n",
      "[24]\ttraining's auc: 0.769957\n",
      "[25]\ttraining's auc: 0.772103\n",
      "[26]\ttraining's auc: 0.772993\n",
      "[27]\ttraining's auc: 0.773205\n",
      "[28]\ttraining's auc: 0.774995\n",
      "[29]\ttraining's auc: 0.777863\n",
      "[30]\ttraining's auc: 0.778096\n",
      "[31]\ttraining's auc: 0.780144\n",
      "[32]\ttraining's auc: 0.782047\n",
      "[33]\ttraining's auc: 0.783282\n",
      "[34]\ttraining's auc: 0.783655\n",
      "[35]\ttraining's auc: 0.785974\n",
      "[36]\ttraining's auc: 0.786274\n",
      "[37]\ttraining's auc: 0.786742\n",
      "[38]\ttraining's auc: 0.787699\n",
      "[39]\ttraining's auc: 0.789632\n",
      "[40]\ttraining's auc: 0.791539\n",
      "[41]\ttraining's auc: 0.792863\n",
      "[42]\ttraining's auc: 0.792373\n",
      "[43]\ttraining's auc: 0.792383\n",
      "[44]\ttraining's auc: 0.793038\n",
      "[45]\ttraining's auc: 0.794291\n",
      "[46]\ttraining's auc: 0.79499\n",
      "[47]\ttraining's auc: 0.795752\n",
      "[48]\ttraining's auc: 0.79711\n",
      "[49]\ttraining's auc: 0.797307\n",
      "[50]\ttraining's auc: 0.798831\n",
      "[51]\ttraining's auc: 0.799558\n",
      "[52]\ttraining's auc: 0.800831\n",
      "[53]\ttraining's auc: 0.801242\n",
      "[54]\ttraining's auc: 0.802549\n",
      "[55]\ttraining's auc: 0.803223\n",
      "[56]\ttraining's auc: 0.804727\n",
      "[57]\ttraining's auc: 0.805892\n",
      "[58]\ttraining's auc: 0.806751\n",
      "[59]\ttraining's auc: 0.807184\n",
      "[60]\ttraining's auc: 0.808294\n",
      "[61]\ttraining's auc: 0.810146\n",
      "[62]\ttraining's auc: 0.810411\n",
      "[63]\ttraining's auc: 0.811645\n",
      "[64]\ttraining's auc: 0.812223\n",
      "[65]\ttraining's auc: 0.813189\n",
      "[66]\ttraining's auc: 0.813197\n",
      "[67]\ttraining's auc: 0.81474\n",
      "[68]\ttraining's auc: 0.816085\n",
      "[69]\ttraining's auc: 0.816951\n",
      "[70]\ttraining's auc: 0.817573\n",
      "[71]\ttraining's auc: 0.818291\n",
      "[72]\ttraining's auc: 0.8184\n",
      "[73]\ttraining's auc: 0.819879\n",
      "[74]\ttraining's auc: 0.820627\n",
      "[75]\ttraining's auc: 0.821523\n",
      "[76]\ttraining's auc: 0.82176\n",
      "[77]\ttraining's auc: 0.822127\n",
      "[78]\ttraining's auc: 0.823321\n",
      "[79]\ttraining's auc: 0.824525\n",
      "[80]\ttraining's auc: 0.825542\n",
      "[81]\ttraining's auc: 0.82612\n",
      "[82]\ttraining's auc: 0.826033\n",
      "[83]\ttraining's auc: 0.826789\n",
      "[84]\ttraining's auc: 0.827995\n",
      "[85]\ttraining's auc: 0.828662\n",
      "[86]\ttraining's auc: 0.829627\n",
      "[87]\ttraining's auc: 0.830159\n",
      "[88]\ttraining's auc: 0.83126\n",
      "[89]\ttraining's auc: 0.832097\n",
      "[90]\ttraining's auc: 0.83281\n",
      "[91]\ttraining's auc: 0.834004\n",
      "[92]\ttraining's auc: 0.834612\n",
      "[93]\ttraining's auc: 0.835241\n",
      "[94]\ttraining's auc: 0.835824\n",
      "[95]\ttraining's auc: 0.836079\n",
      "[96]\ttraining's auc: 0.836489\n",
      "[97]\ttraining's auc: 0.837058\n",
      "[98]\ttraining's auc: 0.837659\n",
      "[99]\ttraining's auc: 0.837525\n",
      "[100]\ttraining's auc: 0.837569\n"
     ]
    },
    {
     "name": "stderr",
     "output_type": "stream",
     "text": [
      "/home/kai/anaconda3/envs/tf_gpu/lib/python3.5/site-packages/lightgbm/basic.py:1036: UserWarning: Using categorical_feature in Dataset.\n",
      "  warnings.warn('Using categorical_feature in Dataset.')\n"
     ]
    },
    {
     "name": "stdout",
     "output_type": "stream",
     "text": [
      "No evaluation set, thus not possible to use early stopping. Please train with your best params.\n",
      "[1]\ttraining's auc: 0.587411\n",
      "[2]\ttraining's auc: 0.706656\n",
      "[3]\ttraining's auc: 0.707958\n",
      "[4]\ttraining's auc: 0.726306\n",
      "[5]\ttraining's auc: 0.728872\n",
      "[6]\ttraining's auc: 0.742057\n",
      "[7]\ttraining's auc: 0.747628\n",
      "[8]\ttraining's auc: 0.751151\n",
      "[9]\ttraining's auc: 0.754686\n",
      "[10]\ttraining's auc: 0.754348\n",
      "[11]\ttraining's auc: 0.753629\n",
      "[12]\ttraining's auc: 0.754794\n",
      "[13]\ttraining's auc: 0.756474\n",
      "[14]\ttraining's auc: 0.760534\n",
      "[15]\ttraining's auc: 0.762675\n",
      "[16]\ttraining's auc: 0.762932\n",
      "[17]\ttraining's auc: 0.763462\n",
      "[18]\ttraining's auc: 0.766238\n",
      "[19]\ttraining's auc: 0.766041\n",
      "[20]\ttraining's auc: 0.766938\n",
      "[21]\ttraining's auc: 0.766409\n",
      "[22]\ttraining's auc: 0.765999\n",
      "[23]\ttraining's auc: 0.768709\n",
      "[24]\ttraining's auc: 0.770225\n",
      "[25]\ttraining's auc: 0.7721\n",
      "[26]\ttraining's auc: 0.773131\n",
      "[27]\ttraining's auc: 0.773513\n",
      "[28]\ttraining's auc: 0.774337\n",
      "[29]\ttraining's auc: 0.776532\n",
      "[30]\ttraining's auc: 0.776548\n",
      "[31]\ttraining's auc: 0.778512\n",
      "[32]\ttraining's auc: 0.780143\n",
      "[33]\ttraining's auc: 0.781636\n",
      "[34]\ttraining's auc: 0.781531\n",
      "[35]\ttraining's auc: 0.783662\n",
      "[36]\ttraining's auc: 0.784721\n",
      "[37]\ttraining's auc: 0.785098\n",
      "[38]\ttraining's auc: 0.786558\n",
      "[39]\ttraining's auc: 0.788731\n",
      "[40]\ttraining's auc: 0.790407\n",
      "[41]\ttraining's auc: 0.792445\n",
      "[42]\ttraining's auc: 0.792125\n",
      "[43]\ttraining's auc: 0.792577\n",
      "[44]\ttraining's auc: 0.793473\n",
      "[45]\ttraining's auc: 0.793929\n",
      "[46]\ttraining's auc: 0.794269\n",
      "[47]\ttraining's auc: 0.794248\n",
      "[48]\ttraining's auc: 0.795759\n",
      "[49]\ttraining's auc: 0.79624\n",
      "[50]\ttraining's auc: 0.798327\n",
      "[51]\ttraining's auc: 0.798612\n",
      "[52]\ttraining's auc: 0.800668\n",
      "[53]\ttraining's auc: 0.801781\n",
      "[54]\ttraining's auc: 0.803329\n",
      "[55]\ttraining's auc: 0.804171\n",
      "[56]\ttraining's auc: 0.805574\n",
      "[57]\ttraining's auc: 0.807116\n",
      "[58]\ttraining's auc: 0.807765\n",
      "[59]\ttraining's auc: 0.808235\n",
      "[60]\ttraining's auc: 0.808547\n",
      "[61]\ttraining's auc: 0.809712\n",
      "[62]\ttraining's auc: 0.810049\n",
      "[63]\ttraining's auc: 0.810337\n",
      "[64]\ttraining's auc: 0.811104\n",
      "[65]\ttraining's auc: 0.812748\n",
      "[66]\ttraining's auc: 0.812881\n",
      "[67]\ttraining's auc: 0.814308\n",
      "[68]\ttraining's auc: 0.815687\n",
      "[69]\ttraining's auc: 0.816392\n",
      "[70]\ttraining's auc: 0.816613\n",
      "[71]\ttraining's auc: 0.817057\n",
      "[72]\ttraining's auc: 0.817092\n",
      "[73]\ttraining's auc: 0.817613\n",
      "[74]\ttraining's auc: 0.818732\n",
      "[75]\ttraining's auc: 0.819432\n",
      "[76]\ttraining's auc: 0.819947\n",
      "[77]\ttraining's auc: 0.820514\n",
      "[78]\ttraining's auc: 0.821022\n",
      "[79]\ttraining's auc: 0.822392\n",
      "[80]\ttraining's auc: 0.823256\n",
      "[81]\ttraining's auc: 0.823692\n",
      "[82]\ttraining's auc: 0.824231\n",
      "[83]\ttraining's auc: 0.82479\n",
      "[84]\ttraining's auc: 0.82513\n",
      "[85]\ttraining's auc: 0.825083\n",
      "[86]\ttraining's auc: 0.826237\n",
      "[87]\ttraining's auc: 0.826333\n",
      "[88]\ttraining's auc: 0.827201\n",
      "[89]\ttraining's auc: 0.827658\n",
      "[90]\ttraining's auc: 0.828663\n",
      "[91]\ttraining's auc: 0.829677\n",
      "[92]\ttraining's auc: 0.829952\n",
      "[93]\ttraining's auc: 0.830301\n",
      "[94]\ttraining's auc: 0.830732\n",
      "[95]\ttraining's auc: 0.831037\n",
      "[96]\ttraining's auc: 0.831105\n",
      "[97]\ttraining's auc: 0.831588\n",
      "[98]\ttraining's auc: 0.832215\n",
      "[99]\ttraining's auc: 0.833203\n",
      "[100]\ttraining's auc: 0.833676\n",
      "No evaluation set, thus not possible to use early stopping. Please train with your best params.\n",
      "[1]\ttraining's auc: 0.588964\n",
      "[2]\ttraining's auc: 0.690823\n",
      "[3]\ttraining's auc: 0.692378\n",
      "[4]\ttraining's auc: 0.717866\n",
      "[5]\ttraining's auc: 0.7228\n",
      "[6]\ttraining's auc: 0.73378\n",
      "[7]\ttraining's auc: 0.740074\n",
      "[8]\ttraining's auc: 0.743743\n",
      "[9]\ttraining's auc: 0.747127\n",
      "[10]\ttraining's auc: 0.746544\n",
      "[11]\ttraining's auc: 0.750596\n",
      "[12]\ttraining's auc: 0.750767\n",
      "[13]\ttraining's auc: 0.753757\n",
      "[14]\ttraining's auc: 0.757665\n",
      "[15]\ttraining's auc: 0.759862\n",
      "[16]\ttraining's auc: 0.759877\n",
      "[17]\ttraining's auc: 0.760039\n",
      "[18]\ttraining's auc: 0.7625\n",
      "[19]\ttraining's auc: 0.763951\n",
      "[20]\ttraining's auc: 0.764071\n",
      "[21]\ttraining's auc: 0.764086\n",
      "[22]\ttraining's auc: 0.76474\n",
      "[23]\ttraining's auc: 0.765768\n",
      "[24]\ttraining's auc: 0.767117\n",
      "[25]\ttraining's auc: 0.76855\n",
      "[26]\ttraining's auc: 0.769095\n",
      "[27]\ttraining's auc: 0.770052\n",
      "[28]\ttraining's auc: 0.770852\n",
      "[29]\ttraining's auc: 0.772392\n",
      "[30]\ttraining's auc: 0.772934\n",
      "[31]\ttraining's auc: 0.775107\n",
      "[32]\ttraining's auc: 0.776697\n",
      "[33]\ttraining's auc: 0.778027\n",
      "[34]\ttraining's auc: 0.778419\n",
      "[35]\ttraining's auc: 0.779986\n",
      "[36]\ttraining's auc: 0.781062\n",
      "[37]\ttraining's auc: 0.781171\n",
      "[38]\ttraining's auc: 0.782673\n",
      "[39]\ttraining's auc: 0.784382\n",
      "[40]\ttraining's auc: 0.786707\n",
      "[41]\ttraining's auc: 0.788396\n",
      "[42]\ttraining's auc: 0.788805\n",
      "[43]\ttraining's auc: 0.789165\n",
      "[44]\ttraining's auc: 0.78943\n",
      "[45]\ttraining's auc: 0.790474\n",
      "[46]\ttraining's auc: 0.790457\n",
      "[47]\ttraining's auc: 0.79107\n",
      "[48]\ttraining's auc: 0.792318\n",
      "[49]\ttraining's auc: 0.792658\n",
      "[50]\ttraining's auc: 0.794931\n",
      "[51]\ttraining's auc: 0.796057\n",
      "[52]\ttraining's auc: 0.798018\n",
      "[53]\ttraining's auc: 0.79896\n",
      "[54]\ttraining's auc: 0.800475\n",
      "[55]\ttraining's auc: 0.800905\n",
      "[56]\ttraining's auc: 0.802436\n",
      "[57]\ttraining's auc: 0.804252\n",
      "[58]\ttraining's auc: 0.804568\n",
      "[59]\ttraining's auc: 0.805019\n",
      "[60]\ttraining's auc: 0.805109\n",
      "[61]\ttraining's auc: 0.806659\n",
      "[62]\ttraining's auc: 0.807474\n",
      "[63]\ttraining's auc: 0.808029\n",
      "[64]\ttraining's auc: 0.808816\n",
      "[65]\ttraining's auc: 0.810478\n",
      "[66]\ttraining's auc: 0.810786\n",
      "[67]\ttraining's auc: 0.812482\n",
      "[68]\ttraining's auc: 0.813905\n",
      "[69]\ttraining's auc: 0.814819\n",
      "[70]\ttraining's auc: 0.815765\n",
      "[71]\ttraining's auc: 0.816099\n",
      "[72]\ttraining's auc: 0.816606\n",
      "[73]\ttraining's auc: 0.817622\n",
      "[74]\ttraining's auc: 0.818639\n",
      "[75]\ttraining's auc: 0.81924\n",
      "[76]\ttraining's auc: 0.819633\n",
      "[77]\ttraining's auc: 0.820274\n",
      "[78]\ttraining's auc: 0.820929\n",
      "[79]\ttraining's auc: 0.821895\n",
      "[80]\ttraining's auc: 0.822859\n",
      "[81]\ttraining's auc: 0.823211\n",
      "[82]\ttraining's auc: 0.823494\n",
      "[83]\ttraining's auc: 0.824173\n",
      "[84]\ttraining's auc: 0.824624\n",
      "[85]\ttraining's auc: 0.82595\n",
      "[86]\ttraining's auc: 0.826993\n",
      "[87]\ttraining's auc: 0.827553\n",
      "[88]\ttraining's auc: 0.828654\n",
      "[89]\ttraining's auc: 0.829572\n",
      "[90]\ttraining's auc: 0.830547\n",
      "[91]\ttraining's auc: 0.831624\n",
      "[92]\ttraining's auc: 0.832439\n",
      "[93]\ttraining's auc: 0.833029\n",
      "[94]\ttraining's auc: 0.834116\n",
      "[95]\ttraining's auc: 0.834308\n",
      "[96]\ttraining's auc: 0.834855\n",
      "[97]\ttraining's auc: 0.835423\n",
      "[98]\ttraining's auc: 0.836031\n",
      "[99]\ttraining's auc: 0.83651\n",
      "[100]\ttraining's auc: 0.836816\n",
      "No evaluation set, thus not possible to use early stopping. Please train with your best params.\n",
      "[1]\ttraining's auc: 0.590768\n",
      "[2]\ttraining's auc: 0.695227\n",
      "[3]\ttraining's auc: 0.69891\n",
      "[4]\ttraining's auc: 0.723813\n",
      "[5]\ttraining's auc: 0.723973\n",
      "[6]\ttraining's auc: 0.740847\n",
      "[7]\ttraining's auc: 0.745517\n",
      "[8]\ttraining's auc: 0.750434\n",
      "[9]\ttraining's auc: 0.753971\n",
      "[10]\ttraining's auc: 0.753905\n",
      "[11]\ttraining's auc: 0.753526\n",
      "[12]\ttraining's auc: 0.75449\n",
      "[13]\ttraining's auc: 0.756751\n",
      "[14]\ttraining's auc: 0.760667\n",
      "[15]\ttraining's auc: 0.761287\n",
      "[16]\ttraining's auc: 0.76106\n",
      "[17]\ttraining's auc: 0.760681\n",
      "[18]\ttraining's auc: 0.764854\n",
      "[19]\ttraining's auc: 0.765189\n",
      "[20]\ttraining's auc: 0.766631\n",
      "[21]\ttraining's auc: 0.76536\n",
      "[22]\ttraining's auc: 0.766765\n",
      "[23]\ttraining's auc: 0.769198\n",
      "[24]\ttraining's auc: 0.770418\n",
      "[25]\ttraining's auc: 0.77183\n",
      "[26]\ttraining's auc: 0.771768\n",
      "[27]\ttraining's auc: 0.771241\n",
      "[28]\ttraining's auc: 0.772101\n",
      "[29]\ttraining's auc: 0.774575\n",
      "[30]\ttraining's auc: 0.774804\n",
      "[31]\ttraining's auc: 0.777496\n",
      "[32]\ttraining's auc: 0.779721\n",
      "[33]\ttraining's auc: 0.781034\n",
      "[34]\ttraining's auc: 0.781052\n",
      "[35]\ttraining's auc: 0.783617\n",
      "[36]\ttraining's auc: 0.784041\n",
      "[37]\ttraining's auc: 0.784923\n",
      "[38]\ttraining's auc: 0.786128\n",
      "[39]\ttraining's auc: 0.787943\n",
      "[40]\ttraining's auc: 0.789806\n",
      "[41]\ttraining's auc: 0.791599\n",
      "[42]\ttraining's auc: 0.791905\n",
      "[43]\ttraining's auc: 0.791871\n",
      "[44]\ttraining's auc: 0.792347\n",
      "[45]\ttraining's auc: 0.793404\n",
      "[46]\ttraining's auc: 0.794197\n",
      "[47]\ttraining's auc: 0.794184\n",
      "[48]\ttraining's auc: 0.795756\n",
      "[49]\ttraining's auc: 0.795544\n",
      "[50]\ttraining's auc: 0.797197\n",
      "[51]\ttraining's auc: 0.79811\n",
      "[52]\ttraining's auc: 0.800094\n",
      "[53]\ttraining's auc: 0.801161\n",
      "[54]\ttraining's auc: 0.802909\n",
      "[55]\ttraining's auc: 0.802809\n",
      "[56]\ttraining's auc: 0.804284\n",
      "[57]\ttraining's auc: 0.805526\n",
      "[58]\ttraining's auc: 0.806071\n",
      "[59]\ttraining's auc: 0.806505\n",
      "[60]\ttraining's auc: 0.806941\n",
      "[61]\ttraining's auc: 0.808597\n",
      "[62]\ttraining's auc: 0.809403\n",
      "[63]\ttraining's auc: 0.81035\n",
      "[64]\ttraining's auc: 0.811526\n",
      "[65]\ttraining's auc: 0.813326\n",
      "[66]\ttraining's auc: 0.812954\n",
      "[67]\ttraining's auc: 0.814333\n",
      "[68]\ttraining's auc: 0.815654\n",
      "[69]\ttraining's auc: 0.817046\n",
      "[70]\ttraining's auc: 0.817211\n",
      "[71]\ttraining's auc: 0.81809\n",
      "[72]\ttraining's auc: 0.81843\n",
      "[73]\ttraining's auc: 0.818855\n",
      "[74]\ttraining's auc: 0.819298\n",
      "[75]\ttraining's auc: 0.820246\n",
      "[76]\ttraining's auc: 0.820418\n",
      "[77]\ttraining's auc: 0.82108\n",
      "[78]\ttraining's auc: 0.821113\n",
      "[79]\ttraining's auc: 0.821977\n",
      "[80]\ttraining's auc: 0.823097\n",
      "[81]\ttraining's auc: 0.823884\n",
      "[82]\ttraining's auc: 0.824582\n",
      "[83]\ttraining's auc: 0.825264\n",
      "[84]\ttraining's auc: 0.825581\n",
      "[85]\ttraining's auc: 0.826442\n",
      "[86]\ttraining's auc: 0.82758\n",
      "[87]\ttraining's auc: 0.827887\n",
      "[88]\ttraining's auc: 0.828989\n",
      "[89]\ttraining's auc: 0.830001\n",
      "[90]\ttraining's auc: 0.831345\n",
      "[91]\ttraining's auc: 0.832324\n",
      "[92]\ttraining's auc: 0.832817\n",
      "[93]\ttraining's auc: 0.833343\n",
      "[94]\ttraining's auc: 0.833861\n",
      "[95]\ttraining's auc: 0.834397\n",
      "[96]\ttraining's auc: 0.835133\n",
      "[97]\ttraining's auc: 0.836055\n",
      "[98]\ttraining's auc: 0.837041\n",
      "[99]\ttraining's auc: 0.837591\n",
      "[100]\ttraining's auc: 0.837854\n",
      "> /home/kai/data/shiyi/AlphaBoosting/automl/automl_libs/base_layer_utils.py(795)compute_layer1_oof()\n",
      "-> model.train(x_train, y_train)\n"
     ]
    }
   ],
   "source": [
    "layer1_est_preds, layer1_oof_train, layer1_oof_mean_test, model_data_id_list = compute_layer1_oof(bldr, model_pool, label_cols, sfm_threshold=None)"
   ]
  },
  {
   "cell_type": "markdown",
   "metadata": {},
   "source": [
    "## submit the layer 1 estimator predictions. If they look fine, save them to BaseLayerResultsRepo"
   ]
  },
  {
   "cell_type": "code",
   "execution_count": 16,
   "metadata": {},
   "outputs": [
    {
     "data": {
      "text/plain": [
       "['ModelName.LOGREG_PERLABEL_tfidf_word_(1, 1)_30000_1_1.0',\n",
       " 'ModelName.LOGREG_tfidf_word_(1, 1)_30000_1_1.0',\n",
       " 'ModelName.NBLOGREG_tfidf_word_(1, 1)_30000_1_1.0']"
      ]
     },
     "execution_count": 16,
     "metadata": {},
     "output_type": "execute_result"
    }
   ],
   "source": [
    "list(layer1_est_preds)"
   ]
  },
  {
   "cell_type": "markdown",
   "metadata": {},
   "source": [
    "### generate files to submit from layer 1 estimators"
   ]
  },
  {
   "cell_type": "code",
   "execution_count": 22,
   "metadata": {
    "collapsed": true
   },
   "outputs": [],
   "source": [
    "def write_predictions_to_file(base_layer_est_preds):\n",
    "    for key in base_layer_est_preds:\n",
    "        submission = pd.read_csv(PATH + 'sample_submission.csv')#.head(1000)\n",
    "        submission[label_cols] = base_layer_est_preds[key]\n",
    "        sub_id = int(time.time())\n",
    "        print(sub_id)\n",
    "        submission.to_csv('./BaseEstPreds/' + key + '_' + str(sub_id) + '.csv.gz', index=False, compression='gzip')"
   ]
  },
  {
   "cell_type": "code",
   "execution_count": 23,
   "metadata": {},
   "outputs": [
    {
     "name": "stdout",
     "output_type": "stream",
     "text": [
      "1522094161\n",
      "1522094166\n",
      "1522094171\n"
     ]
    }
   ],
   "source": [
    "write_predictions_to_file(layer1_est_preds)"
   ]
  },
  {
   "cell_type": "markdown",
   "metadata": {},
   "source": [
    "# sanity check before save to BaseLayerResultsRepo"
   ]
  },
  {
   "cell_type": "code",
   "execution_count": 25,
   "metadata": {},
   "outputs": [
    {
     "data": {
      "text/plain": [
       "['ModelName.LOGREG_PERLABEL_tfidf_word_(1, 1)_30000_1_1.0',\n",
       " 'ModelName.LOGREG_tfidf_word_(1, 1)_30000_1_1.0',\n",
       " 'ModelName.NBLOGREG_tfidf_word_(1, 1)_30000_1_1.0']"
      ]
     },
     "execution_count": 25,
     "metadata": {},
     "output_type": "execute_result"
    }
   ],
   "source": [
    "model_data_id_list # model_data we just computed in the layer 1"
   ]
  },
  {
   "cell_type": "code",
   "execution_count": 27,
   "metadata": {},
   "outputs": [
    {
     "data": {
      "text/plain": [
       "['obscene', 'identity_hate', 'severe_toxic', 'threat', 'insult', 'toxic']"
      ]
     },
     "execution_count": 27,
     "metadata": {},
     "output_type": "execute_result"
    }
   ],
   "source": [
    "list(layer1_oof_train) # list keys (which are labels)"
   ]
  },
  {
   "cell_type": "code",
   "execution_count": 28,
   "metadata": {},
   "outputs": [
    {
     "data": {
      "text/plain": [
       "3"
      ]
     },
     "execution_count": 28,
     "metadata": {},
     "output_type": "execute_result"
    }
   ],
   "source": [
    "len(layer1_oof_train['toxic']) # number of models to stack (each model will predict one set of toxic, servere_toxic, etc..)"
   ]
  },
  {
   "cell_type": "code",
   "execution_count": 29,
   "metadata": {},
   "outputs": [
    {
     "data": {
      "text/plain": [
       "159571"
      ]
     },
     "execution_count": 29,
     "metadata": {},
     "output_type": "execute_result"
    }
   ],
   "source": [
    "len(layer1_oof_train['toxic'][0]) # examples in oof_train (meta features, x_train) (meta labels are in train[label])"
   ]
  },
  {
   "cell_type": "code",
   "execution_count": 31,
   "metadata": {},
   "outputs": [
    {
     "data": {
      "text/plain": [
       "['obscene', 'identity_hate', 'severe_toxic', 'threat', 'insult', 'toxic']"
      ]
     },
     "execution_count": 31,
     "metadata": {},
     "output_type": "execute_result"
    }
   ],
   "source": [
    "list(layer1_oof_mean_test)"
   ]
  },
  {
   "cell_type": "code",
   "execution_count": 32,
   "metadata": {},
   "outputs": [
    {
     "data": {
      "text/plain": [
       "153164"
      ]
     },
     "execution_count": 32,
     "metadata": {},
     "output_type": "execute_result"
    }
   ],
   "source": [
    "len(layer1_oof_mean_test['toxic'][0]) # examples in oof_test (will be used by meta model (after validation) to predict the final prediction)"
   ]
  },
  {
   "cell_type": "code",
   "execution_count": 33,
   "metadata": {
    "collapsed": true
   },
   "outputs": [],
   "source": [
    "# read the doc string to BaseLayerResultsRepo to set params\n",
    "base_layer_results_repo = BaseLayerResultsRepo(load_from_file=False, filepath='obj/WithPreprocessedFile/')"
   ]
  },
  {
   "cell_type": "code",
   "execution_count": 34,
   "metadata": {
    "collapsed": true
   },
   "outputs": [],
   "source": [
    "base_layer_results_repo.add(layer1_oof_train, layer1_oof_mean_test, layer1_est_preds, model_data_id_list)"
   ]
  },
  {
   "cell_type": "code",
   "execution_count": 35,
   "metadata": {},
   "outputs": [
    {
     "name": "stdout",
     "output_type": "stream",
     "text": [
      "0\tModelName.NBLOGREG_tfidf_word_(1, 1)_30000_1_1.0\n",
      "0\tModelName.LOGREG_tfidf_word_(1, 1)_30000_1_1.0\n",
      "0\tModelName.LOGREG_PERLABEL_tfidf_word_(1, 1)_30000_1_1.0\n"
     ]
    }
   ],
   "source": [
    "scores = base_layer_results_repo.show_scores()"
   ]
  },
  {
   "cell_type": "code",
   "execution_count": 36,
   "metadata": {},
   "outputs": [
    {
     "name": "stdout",
     "output_type": "stream",
     "text": [
      "ModelName.NBLOGREG_tfidf_word_(1, 1)_30000_1_1.0 already existed in the repo. score: 0 update to 0.9888\n",
      "ModelName.LOGREG_tfidf_word_(1, 1)_30000_1_1.0 already existed in the repo. score: 0 update to 0.9777\n",
      "ModelName.LOGREG_PERLABEL_tfidf_word_(1, 1)_30000_1_1.0 already existed in the repo. score: 0 update to 0.9666\n"
     ]
    }
   ],
   "source": [
    " # let's give some fake scores\n",
    "base_layer_results_repo.add_score('ModelName.NBLOGREG_tfidf_word_(1, 1)_30000_1_1.0', 0.9888)\n",
    "base_layer_results_repo.add_score('ModelName.LOGREG_tfidf_word_(1, 1)_30000_1_1.0', 0.9777)\n",
    "base_layer_results_repo.add_score('ModelName.LOGREG_PERLABEL_tfidf_word_(1, 1)_30000_1_1.0', 0.9666)"
   ]
  },
  {
   "cell_type": "code",
   "execution_count": 37,
   "metadata": {},
   "outputs": [
    {
     "name": "stdout",
     "output_type": "stream",
     "text": [
      "0.9888\tModelName.NBLOGREG_tfidf_word_(1, 1)_30000_1_1.0\n",
      "0.9777\tModelName.LOGREG_tfidf_word_(1, 1)_30000_1_1.0\n",
      "0.9666\tModelName.LOGREG_PERLABEL_tfidf_word_(1, 1)_30000_1_1.0\n"
     ]
    }
   ],
   "source": [
    "scores = base_layer_results_repo.show_scores()"
   ]
  },
  {
   "cell_type": "code",
   "execution_count": 38,
   "metadata": {
    "collapsed": true
   },
   "outputs": [],
   "source": [
    "base_layer_results_repo.save()"
   ]
  },
  {
   "cell_type": "code",
   "execution_count": 17,
   "metadata": {
    "collapsed": true
   },
   "outputs": [],
   "source": [
    "# Next step: go to stack_layer2"
   ]
  },
  {
   "cell_type": "code",
   "execution_count": 18,
   "metadata": {},
   "outputs": [
    {
     "name": "stdout",
     "output_type": "stream",
     "text": [
      "stack 1\n"
     ]
    }
   ],
   "source": [
    "print('stack 1')"
   ]
  },
  {
   "cell_type": "code",
   "execution_count": null,
   "metadata": {
    "collapsed": true
   },
   "outputs": [],
   "source": []
  }
 ],
 "metadata": {
  "kernelspec": {
   "display_name": "Python 3.5 (tf_gpu)",
   "language": "python",
   "name": "tf_gpu"
  },
  "language_info": {
   "codemirror_mode": {
    "name": "ipython",
    "version": 3
   },
   "file_extension": ".py",
   "mimetype": "text/x-python",
   "name": "python",
   "nbconvert_exporter": "python",
   "pygments_lexer": "ipython3",
   "version": "3.5.5"
  },
  "varInspector": {
   "cols": {
    "lenName": 16,
    "lenType": 16,
    "lenVar": 40
   },
   "kernels_config": {
    "python": {
     "delete_cmd_postfix": "",
     "delete_cmd_prefix": "del ",
     "library": "var_list.py",
     "varRefreshCmd": "print(var_dic_list())"
    },
    "r": {
     "delete_cmd_postfix": ") ",
     "delete_cmd_prefix": "rm(",
     "library": "var_list.r",
     "varRefreshCmd": "cat(var_dic_list()) "
    }
   },
   "types_to_exclude": [
    "module",
    "function",
    "builtin_function_or_method",
    "instance",
    "_Feature"
   ],
   "window_display": false
  }
 },
 "nbformat": 4,
 "nbformat_minor": 2
}
