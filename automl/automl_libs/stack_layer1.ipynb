{
 "cells": [
  {
   "cell_type": "code",
   "execution_count": 1,
   "metadata": {
    "ExecuteTime": {
     "end_time": "2018-06-27T18:29:15.049036Z",
     "start_time": "2018-06-27T18:29:15.025083Z"
    }
   },
   "outputs": [],
   "source": [
    "%load_ext autoreload\n",
    "%autoreload 2"
   ]
  },
  {
   "cell_type": "code",
   "execution_count": 2,
   "metadata": {
    "ExecuteTime": {
     "end_time": "2018-06-27T18:29:19.674972Z",
     "start_time": "2018-06-27T18:29:15.203192Z"
    }
   },
   "outputs": [
    {
     "name": "stderr",
     "output_type": "stream",
     "text": [
      "/home/kai/anaconda3/envs/tf_gpu/lib/python3.5/site-packages/h5py/__init__.py:36: FutureWarning: Conversion of the second argument of issubdtype from `float` to `np.floating` is deprecated. In future, it will be treated as `np.float64 == np.dtype(float).type`.\n",
      "  from ._conv import register_converters as _register_converters\n",
      "Using TensorFlow backend.\n"
     ]
    }
   ],
   "source": [
    "from base_layer_utils import BaseLayerDataRepo, BaseLayerResultsRepo, ModelName\n",
    "from base_layer_utils import compute_layer1_oof\n",
    "from base_layer_utils import SklearnBLE\n",
    "\n",
    "#from fast_text_data import FastTextDataGenerator# fasttext_data_process \n",
    "#from tfidf_data import tfidf_data_process\n",
    "\n",
    "import pandas as pd\n",
    "import numpy as np\n",
    "from sklearn.model_selection import KFold, StratifiedKFold\n",
    "import time\n",
    "import gc\n",
    "import xgboost as xgb\n",
    "from sklearn.metrics import roc_auc_score"
   ]
  },
  {
   "cell_type": "code",
   "execution_count": 3,
   "metadata": {
    "ExecuteTime": {
     "end_time": "2018-06-27T18:29:21.100536Z",
     "start_time": "2018-06-27T18:29:20.993380Z"
    }
   },
   "outputs": [],
   "source": [
    "train = pd.read_pickle('/home/kai/data/shiyi/AlphaBoosting/automl/automl_app/project1/data/train.pkl').head(10000)\n",
    "test = pd.read_pickle('/home/kai/data/shiyi/AlphaBoosting/automl/automl_app/project1/data/test.pkl')"
   ]
  },
  {
   "cell_type": "code",
   "execution_count": 4,
   "metadata": {
    "ExecuteTime": {
     "end_time": "2018-06-26T18:22:26.537749Z",
     "start_time": "2018-06-26T18:22:26.455491Z"
    }
   },
   "outputs": [
    {
     "data": {
      "text/html": [
       "<div>\n",
       "<style scoped>\n",
       "    .dataframe tbody tr th:only-of-type {\n",
       "        vertical-align: middle;\n",
       "    }\n",
       "\n",
       "    .dataframe tbody tr th {\n",
       "        vertical-align: top;\n",
       "    }\n",
       "\n",
       "    .dataframe thead th {\n",
       "        text-align: right;\n",
       "    }\n",
       "</style>\n",
       "<table border=\"1\" class=\"dataframe\">\n",
       "  <thead>\n",
       "    <tr style=\"text-align: right;\">\n",
       "      <th></th>\n",
       "      <th>Month</th>\n",
       "      <th>DayofMonth</th>\n",
       "      <th>DayOfWeek</th>\n",
       "      <th>DepTime</th>\n",
       "      <th>UniqueCarrier</th>\n",
       "      <th>Origin</th>\n",
       "      <th>Dest</th>\n",
       "      <th>Distance</th>\n",
       "      <th>label</th>\n",
       "    </tr>\n",
       "  </thead>\n",
       "  <tbody>\n",
       "    <tr>\n",
       "      <th>0</th>\n",
       "      <td>RARE_VALUE</td>\n",
       "      <td>19</td>\n",
       "      <td>2</td>\n",
       "      <td>18</td>\n",
       "      <td>21</td>\n",
       "      <td>157</td>\n",
       "      <td>133</td>\n",
       "      <td>6</td>\n",
       "      <td>0</td>\n",
       "    </tr>\n",
       "    <tr>\n",
       "      <th>1</th>\n",
       "      <td>4</td>\n",
       "      <td>3</td>\n",
       "      <td>1</td>\n",
       "      <td>12</td>\n",
       "      <td>18</td>\n",
       "      <td>79</td>\n",
       "      <td>172</td>\n",
       "      <td>4</td>\n",
       "      <td>0</td>\n",
       "    </tr>\n",
       "    <tr>\n",
       "      <th>2</th>\n",
       "      <td>2</td>\n",
       "      <td>1</td>\n",
       "      <td>6</td>\n",
       "      <td>9</td>\n",
       "      <td>15</td>\n",
       "      <td>129</td>\n",
       "      <td>72</td>\n",
       "      <td>2</td>\n",
       "      <td>0</td>\n",
       "    </tr>\n",
       "  </tbody>\n",
       "</table>\n",
       "</div>"
      ],
      "text/plain": [
       "        Month  DayofMonth  DayOfWeek  DepTime  UniqueCarrier  Origin  Dest  \\\n",
       "0  RARE_VALUE          19          2       18             21     157   133   \n",
       "1           4           3          1       12             18      79   172   \n",
       "2           2           1          6        9             15     129    72   \n",
       "\n",
       "   Distance  label  \n",
       "0         6      0  \n",
       "1         4      0  \n",
       "2         2      0  "
      ]
     },
     "execution_count": 4,
     "metadata": {},
     "output_type": "execute_result"
    }
   ],
   "source": [
    "train_rare = train.copy()\n",
    "train_rare.loc[train_rare['Month'].value_counts()[train_rare['Month']].values < 800, 'Month'] = 'RARE_VALUE'\n",
    "train_rare.head(3)"
   ]
  },
  {
   "cell_type": "code",
   "execution_count": 5,
   "metadata": {
    "ExecuteTime": {
     "end_time": "2018-06-27T18:30:07.296787Z",
     "start_time": "2018-06-27T18:30:07.235723Z"
    }
   },
   "outputs": [
    {
     "data": {
      "text/html": [
       "<div>\n",
       "<style scoped>\n",
       "    .dataframe tbody tr th:only-of-type {\n",
       "        vertical-align: middle;\n",
       "    }\n",
       "\n",
       "    .dataframe tbody tr th {\n",
       "        vertical-align: top;\n",
       "    }\n",
       "\n",
       "    .dataframe thead th {\n",
       "        text-align: right;\n",
       "    }\n",
       "</style>\n",
       "<table border=\"1\" class=\"dataframe\">\n",
       "  <thead>\n",
       "    <tr style=\"text-align: right;\">\n",
       "      <th></th>\n",
       "      <th>Month</th>\n",
       "      <th>DayofMonth</th>\n",
       "      <th>DayOfWeek</th>\n",
       "      <th>DepTime</th>\n",
       "      <th>UniqueCarrier</th>\n",
       "      <th>Origin</th>\n",
       "      <th>Dest</th>\n",
       "      <th>Distance</th>\n",
       "      <th>label</th>\n",
       "    </tr>\n",
       "  </thead>\n",
       "  <tbody>\n",
       "    <tr>\n",
       "      <th>0</th>\n",
       "      <td>7</td>\n",
       "      <td>19</td>\n",
       "      <td>2</td>\n",
       "      <td>18</td>\n",
       "      <td>21</td>\n",
       "      <td>157</td>\n",
       "      <td>133</td>\n",
       "      <td>6</td>\n",
       "      <td>0</td>\n",
       "    </tr>\n",
       "    <tr>\n",
       "      <th>1</th>\n",
       "      <td>4</td>\n",
       "      <td>3</td>\n",
       "      <td>1</td>\n",
       "      <td>12</td>\n",
       "      <td>18</td>\n",
       "      <td>79</td>\n",
       "      <td>172</td>\n",
       "      <td>4</td>\n",
       "      <td>0</td>\n",
       "    </tr>\n",
       "  </tbody>\n",
       "</table>\n",
       "</div>"
      ],
      "text/plain": [
       "   Month  DayofMonth  DayOfWeek  DepTime  UniqueCarrier  Origin  Dest  \\\n",
       "0      7          19          2       18             21     157   133   \n",
       "1      4           3          1       12             18      79   172   \n",
       "\n",
       "   Distance  label  \n",
       "0         6      0  \n",
       "1         4      0  "
      ]
     },
     "execution_count": 5,
     "metadata": {},
     "output_type": "execute_result"
    }
   ],
   "source": [
    "train.head(2)"
   ]
  },
  {
   "cell_type": "code",
   "execution_count": 6,
   "metadata": {
    "ExecuteTime": {
     "end_time": "2018-06-26T17:55:41.169275Z",
     "start_time": "2018-06-26T17:55:41.110492Z"
    }
   },
   "outputs": [],
   "source": [
    "categorical_cols = [\"Month\", \"DayofMonth\", \"DayOfWeek\", \"DepTime\", \"UniqueCarrier\", \"Origin\", \"Dest\", \"Distance\"]\n",
    "\n",
    "for col in categorical_cols:\n",
    "    train[col] = train[col].astype('category')\n",
    "    test[col] = test[col].astype('category')"
   ]
  },
  {
   "cell_type": "code",
   "execution_count": 7,
   "metadata": {
    "ExecuteTime": {
     "end_time": "2018-06-26T17:55:43.247997Z",
     "start_time": "2018-06-26T17:55:43.213772Z"
    }
   },
   "outputs": [
    {
     "data": {
      "text/plain": [
       "((10000, 9), (100000, 8))"
      ]
     },
     "execution_count": 7,
     "metadata": {},
     "output_type": "execute_result"
    }
   ],
   "source": [
    "train.shape, test.shape"
   ]
  },
  {
   "cell_type": "code",
   "execution_count": 6,
   "metadata": {
    "ExecuteTime": {
     "end_time": "2018-06-26T15:49:15.119383Z",
     "start_time": "2018-06-26T15:49:15.077287Z"
    }
   },
   "outputs": [
    {
     "data": {
      "text/html": [
       "<div>\n",
       "<style scoped>\n",
       "    .dataframe tbody tr th:only-of-type {\n",
       "        vertical-align: middle;\n",
       "    }\n",
       "\n",
       "    .dataframe tbody tr th {\n",
       "        vertical-align: top;\n",
       "    }\n",
       "\n",
       "    .dataframe thead th {\n",
       "        text-align: right;\n",
       "    }\n",
       "</style>\n",
       "<table border=\"1\" class=\"dataframe\">\n",
       "  <thead>\n",
       "    <tr style=\"text-align: right;\">\n",
       "      <th></th>\n",
       "      <th>Month</th>\n",
       "      <th>DayofMonth</th>\n",
       "      <th>DayOfWeek</th>\n",
       "      <th>DepTime</th>\n",
       "      <th>UniqueCarrier</th>\n",
       "      <th>Origin</th>\n",
       "      <th>Dest</th>\n",
       "      <th>Distance</th>\n",
       "      <th>label</th>\n",
       "    </tr>\n",
       "  </thead>\n",
       "  <tbody>\n",
       "    <tr>\n",
       "      <th>0</th>\n",
       "      <td>7</td>\n",
       "      <td>19</td>\n",
       "      <td>2</td>\n",
       "      <td>18</td>\n",
       "      <td>21</td>\n",
       "      <td>157</td>\n",
       "      <td>133</td>\n",
       "      <td>6</td>\n",
       "      <td>0</td>\n",
       "    </tr>\n",
       "    <tr>\n",
       "      <th>1</th>\n",
       "      <td>4</td>\n",
       "      <td>3</td>\n",
       "      <td>1</td>\n",
       "      <td>12</td>\n",
       "      <td>18</td>\n",
       "      <td>79</td>\n",
       "      <td>172</td>\n",
       "      <td>4</td>\n",
       "      <td>0</td>\n",
       "    </tr>\n",
       "  </tbody>\n",
       "</table>\n",
       "</div>"
      ],
      "text/plain": [
       "  Month DayofMonth DayOfWeek DepTime UniqueCarrier Origin Dest Distance  label\n",
       "0     7         19         2      18            21    157  133        6      0\n",
       "1     4          3         1      12            18     79  172        4      0"
      ]
     },
     "execution_count": 6,
     "metadata": {},
     "output_type": "execute_result"
    }
   ],
   "source": [
    "train.head(2)"
   ]
  },
  {
   "cell_type": "code",
   "execution_count": 7,
   "metadata": {
    "ExecuteTime": {
     "end_time": "2018-06-26T15:49:22.974073Z",
     "start_time": "2018-06-26T15:49:22.947439Z"
    }
   },
   "outputs": [
    {
     "data": {
      "text/plain": [
       "Month            category\n",
       "DayofMonth       category\n",
       "DayOfWeek        category\n",
       "DepTime          category\n",
       "UniqueCarrier    category\n",
       "Origin           category\n",
       "Dest             category\n",
       "Distance         category\n",
       "label               int64\n",
       "dtype: object"
      ]
     },
     "execution_count": 7,
     "metadata": {},
     "output_type": "execute_result"
    }
   ],
   "source": [
    "train.dtypes"
   ]
  },
  {
   "cell_type": "code",
   "execution_count": 8,
   "metadata": {
    "ExecuteTime": {
     "end_time": "2018-06-26T15:49:34.155021Z",
     "start_time": "2018-06-26T15:49:34.123109Z"
    }
   },
   "outputs": [],
   "source": [
    "label_cols = ['label']"
   ]
  },
  {
   "cell_type": "markdown",
   "metadata": {},
   "source": [
    "# tfidf data"
   ]
  },
  {
   "cell_type": "code",
   "execution_count": 9,
   "metadata": {
    "ExecuteTime": {
     "end_time": "2018-06-26T15:49:35.202932Z",
     "start_time": "2018-06-26T15:49:35.171802Z"
    }
   },
   "outputs": [],
   "source": [
    "bldr = BaseLayerDataRepo()"
   ]
  },
  {
   "cell_type": "code",
   "execution_count": 11,
   "metadata": {
    "ExecuteTime": {
     "end_time": "2018-06-26T15:49:42.763878Z",
     "start_time": "2018-06-26T15:49:42.731950Z"
    }
   },
   "outputs": [],
   "source": [
    "compatible_models = [ModelName.LGB]#, ModelName.LGB_PERLABEL, ModelName.NBLGB, ModelName.NBLGB_PERLABEL,\n",
    "#                               ModelName.XGB, ModelName.XGB_PERLABEL, ModelName.NBXGB, ModelName.NBXGB_PERLABEL,\n",
    "#                               ModelName.LOGREG, ModelName.LOGREG_PERLABEL, ModelName.NBLOGREG, \n",
    "#                                 ModelName.NBLOGREG_PERLABEL,\n",
    "#                               ModelName.LSVC, ModelName.LSVC_PERLABEL, ModelName.NBLSVC, ModelName.NBLSVC_PERLABEL]"
   ]
  },
  {
   "cell_type": "markdown",
   "metadata": {},
   "source": [
    "bldr.add_tfidf_data(train_sentence=train['comment_text'], test_sentence=test['comment_text'], \n",
    "                    y_train=train[label_cols], label_cols=label_cols, \n",
    "                    compatible_models=tfidfdata_compatible_models, word_ngram=(1,1), word_max=30000)"
   ]
  },
  {
   "cell_type": "code",
   "execution_count": 12,
   "metadata": {
    "ExecuteTime": {
     "end_time": "2018-06-26T15:49:49.633678Z",
     "start_time": "2018-06-26T15:49:49.602042Z"
    }
   },
   "outputs": [],
   "source": [
    "feature_cols = list(set(train.columns) - set(label_cols))"
   ]
  },
  {
   "cell_type": "code",
   "execution_count": 13,
   "metadata": {
    "ExecuteTime": {
     "end_time": "2018-06-26T15:49:50.164692Z",
     "start_time": "2018-06-26T15:49:50.129202Z"
    }
   },
   "outputs": [
    {
     "data": {
      "text/plain": [
       "(pandas.core.frame.DataFrame, pandas.core.frame.DataFrame)"
      ]
     },
     "execution_count": 13,
     "metadata": {},
     "output_type": "execute_result"
    }
   ],
   "source": [
    "X_train = train[feature_cols]\n",
    "y_train = train[label_cols]#.to_dict('list')\n",
    "X_test = test[feature_cols]\n",
    "type(X_train), type(y_train)"
   ]
  },
  {
   "cell_type": "code",
   "execution_count": 14,
   "metadata": {
    "ExecuteTime": {
     "end_time": "2018-06-26T15:49:52.890681Z",
     "start_time": "2018-06-26T15:49:52.856312Z"
    }
   },
   "outputs": [
    {
     "data": {
      "text/plain": [
       "((10000, 8), (10000, 1))"
      ]
     },
     "execution_count": 14,
     "metadata": {},
     "output_type": "execute_result"
    }
   ],
   "source": [
    "X_train.shape, y_train.shape"
   ]
  },
  {
   "cell_type": "code",
   "execution_count": 15,
   "metadata": {
    "ExecuteTime": {
     "end_time": "2018-06-26T15:50:01.471929Z",
     "start_time": "2018-06-26T15:50:01.428334Z"
    }
   },
   "outputs": [],
   "source": [
    "from sklearn.ensemble import RandomForestClassifier"
   ]
  },
  {
   "cell_type": "code",
   "execution_count": 16,
   "metadata": {
    "ExecuteTime": {
     "end_time": "2018-06-26T15:50:01.866829Z",
     "start_time": "2018-06-26T15:50:01.841056Z"
    }
   },
   "outputs": [],
   "source": [
    "rf = RandomForestClassifier(random_state=2018)"
   ]
  },
  {
   "cell_type": "code",
   "execution_count": 17,
   "metadata": {
    "ExecuteTime": {
     "end_time": "2018-06-26T15:50:04.102052Z",
     "start_time": "2018-06-26T15:50:03.993054Z"
    }
   },
   "outputs": [],
   "source": [
    "rfmodel = rf.fit(X_train, y_train.values.reshape(-1,))"
   ]
  },
  {
   "cell_type": "code",
   "execution_count": 18,
   "metadata": {
    "ExecuteTime": {
     "end_time": "2018-06-26T15:50:07.693354Z",
     "start_time": "2018-06-26T15:50:07.656324Z"
    }
   },
   "outputs": [
    {
     "data": {
      "text/plain": [
       "array([0.15541042, 0.15738642, 0.08627667, 0.1673062 , 0.10196124,\n",
       "       0.09241364, 0.14263732, 0.09660809])"
      ]
     },
     "execution_count": 18,
     "metadata": {},
     "output_type": "execute_result"
    }
   ],
   "source": [
    "rfmodel.feature_importances_"
   ]
  },
  {
   "cell_type": "code",
   "execution_count": 62,
   "metadata": {
    "ExecuteTime": {
     "end_time": "2018-06-26T15:50:07.693354Z",
     "start_time": "2018-06-26T15:50:07.656324Z"
    }
   },
   "outputs": [
    {
     "data": {
      "text/plain": [
       "array([0.08348223, 0.16801926, 0.10396937, 0.15340707, 0.09553946,\n",
       "       0.09907577, 0.15402371, 0.14248312])"
      ]
     },
     "execution_count": 62,
     "metadata": {},
     "output_type": "execute_result"
    }
   ],
   "source": [
    "rfmodel.feature_importances_"
   ]
  },
  {
   "cell_type": "code",
   "execution_count": 66,
   "metadata": {
    "ExecuteTime": {
     "end_time": "2018-06-26T15:41:14.631116Z",
     "start_time": "2018-06-26T15:41:14.598635Z"
    }
   },
   "outputs": [],
   "source": [
    "X_temp = X_train.head(10)"
   ]
  },
  {
   "cell_type": "code",
   "execution_count": 68,
   "metadata": {
    "ExecuteTime": {
     "end_time": "2018-06-26T15:41:31.324928Z",
     "start_time": "2018-06-26T15:41:31.296530Z"
    }
   },
   "outputs": [],
   "source": [
    "y_temp = y_train.head(10)"
   ]
  },
  {
   "cell_type": "code",
   "execution_count": 69,
   "metadata": {
    "ExecuteTime": {
     "end_time": "2018-06-26T15:42:02.864981Z",
     "start_time": "2018-06-26T15:42:02.832631Z"
    }
   },
   "outputs": [],
   "source": [
    "from sklearn.model_selection import KFold, StratifiedKFold"
   ]
  },
  {
   "cell_type": "code",
   "execution_count": 71,
   "metadata": {
    "ExecuteTime": {
     "end_time": "2018-06-26T15:43:17.745571Z",
     "start_time": "2018-06-26T15:43:17.715532Z"
    }
   },
   "outputs": [],
   "source": [
    "kf = KFold(n_splits=5, random_state=2018)"
   ]
  },
  {
   "cell_type": "code",
   "execution_count": 75,
   "metadata": {
    "ExecuteTime": {
     "end_time": "2018-06-26T15:45:04.153265Z",
     "start_time": "2018-06-26T15:45:04.118805Z"
    }
   },
   "outputs": [
    {
     "data": {
      "text/plain": [
       "DayOfWeek        int64\n",
       "DepTime          int64\n",
       "UniqueCarrier    int64\n",
       "Origin           int64\n",
       "Distance         uint8\n",
       "Month            int64\n",
       "Dest             int64\n",
       "DayofMonth       int64\n",
       "dtype: object"
      ]
     },
     "execution_count": 75,
     "metadata": {},
     "output_type": "execute_result"
    }
   ],
   "source": [
    "X_train.dtypes"
   ]
  },
  {
   "cell_type": "code",
   "execution_count": 77,
   "metadata": {
    "ExecuteTime": {
     "end_time": "2018-06-26T15:46:07.415332Z",
     "start_time": "2018-06-26T15:46:07.378930Z"
    }
   },
   "outputs": [
    {
     "name": "stdout",
     "output_type": "stream",
     "text": [
      "[2 3 4 5 6 7 8 9] [0 1]\n",
      "   DayOfWeek  DepTime  UniqueCarrier  Origin  Distance  Month  Dest  \\\n",
      "2          6        9             15     129         2      2    72   \n",
      "3          6        9             15     147         7      3   220   \n",
      "4          2       13             13      80         2      4   155   \n",
      "5          5       15             10      19         3      3   273   \n",
      "6          6       12             20      48         3      3    86   \n",
      "7          5        0              4     204         9      1   147   \n",
      "8          7       19             16     205         4      6   290   \n",
      "9          1        9              1     214         7      7    80   \n",
      "\n",
      "   DayofMonth  \n",
      "2           1  \n",
      "3          19  \n",
      "4          28  \n",
      "5          17  \n",
      "6          10  \n",
      "7          14  \n",
      "8          13  \n",
      "9          18  \n"
     ]
    }
   ],
   "source": [
    "for i, (tr_index, te_index) in enumerate(kf.split(X_temp, y_temp)):\n",
    "    print(tr_index, te_index)\n",
    "    print(X_temp.iloc[tr_index])\n",
    "    break"
   ]
  },
  {
   "cell_type": "code",
   "execution_count": null,
   "metadata": {},
   "outputs": [],
   "source": []
  },
  {
   "cell_type": "code",
   "execution_count": 56,
   "metadata": {
    "ExecuteTime": {
     "end_time": "2018-06-26T15:36:18.264334Z",
     "start_time": "2018-06-26T15:36:18.231768Z"
    }
   },
   "outputs": [
    {
     "data": {
      "text/plain": [
       "10"
      ]
     },
     "execution_count": 56,
     "metadata": {},
     "output_type": "execute_result"
    }
   ],
   "source": [
    "rfmodel.n_estimators"
   ]
  },
  {
   "cell_type": "code",
   "execution_count": null,
   "metadata": {},
   "outputs": [],
   "source": []
  },
  {
   "cell_type": "code",
   "execution_count": 21,
   "metadata": {
    "ExecuteTime": {
     "end_time": "2018-06-22T20:05:03.971179Z",
     "start_time": "2018-06-22T20:05:03.890540Z"
    }
   },
   "outputs": [],
   "source": [
    "bldr.add_data('flight_data_1', X_train, X_test, y_train, label_cols, compatible_models)"
   ]
  },
  {
   "cell_type": "code",
   "execution_count": 23,
   "metadata": {
    "ExecuteTime": {
     "end_time": "2018-06-25T17:25:06.373825Z",
     "start_time": "2018-06-25T17:25:06.341129Z"
    }
   },
   "outputs": [
    {
     "name": "stdout",
     "output_type": "stream",
     "text": [
      "data_id: flight_data_1        \n",
      "\tx_train: (10000, 8)\tx_test: (100000, 8)\n",
      "\ty_train type: <class 'dict'>\n",
      "\tcompatible_models: {<ModelName.LGB: 5>}\n",
      " \n"
     ]
    }
   ],
   "source": [
    "print(bldr)"
   ]
  },
  {
   "cell_type": "code",
   "execution_count": 32,
   "metadata": {
    "ExecuteTime": {
     "end_time": "2018-06-25T18:02:39.005926Z",
     "start_time": "2018-06-25T18:02:38.974990Z"
    }
   },
   "outputs": [],
   "source": [
    "temp = bldr.get_data('flight_data_1')"
   ]
  },
  {
   "cell_type": "code",
   "execution_count": 33,
   "metadata": {
    "ExecuteTime": {
     "end_time": "2018-06-25T18:02:45.915210Z",
     "start_time": "2018-06-25T18:02:45.863225Z"
    }
   },
   "outputs": [
    {
     "data": {
      "text/plain": [
       "{'compatible_models': {<ModelName.LGB: 5>},\n",
       " 'data_id': 'flight_data_1',\n",
       " 'labes_cols': ['label'],\n",
       " 'x_test':        DayOfWeek  DepTime  UniqueCarrier  Origin  Distance  Month  Dest  \\\n",
       " 0              3        6             22     191         5     10   215   \n",
       " 1              2        7             20     152         8      7   126   \n",
       " 2              7        6             13     117         5      4   206   \n",
       " 3              7       16             20      48         3      6   182   \n",
       " 4              3       15             18     205         1      9   264   \n",
       " 5              4        8             14     206         4      5    86   \n",
       " 6              1        7              4     132         9      7   161   \n",
       " 7              2       15             14     194         8      5   174   \n",
       " 8              3       11             19     218         7     10   101   \n",
       " 9              3       17              1      80         5     10   203   \n",
       " 10             7       18             15     147         0      2   225   \n",
       " 11             2       16             16     205         0      1   106   \n",
       " 12             4        9             16      18         0      1    79   \n",
       " 13             7       17             15     115         1      6    72   \n",
       " 14             4        8             16      79         6      7   133   \n",
       " 15             5       16             18     205         5     12   132   \n",
       " 16             3        8             10      74         3      5    19   \n",
       " 17             5       18              7     152         1     11   154   \n",
       " 18             7       20              8      19         5      4   115   \n",
       " 19             6        5              5      64         7     11   133   \n",
       " 20             1       11             22     152         1     10   238   \n",
       " 21             4        6              8     174         3      4    72   \n",
       " 22             1       17              8      19         0      4    81   \n",
       " 23             3       13             21     115         1      3    61   \n",
       " 24             1       19              5     133         6     11   138   \n",
       " 25             2       18              1     182         8      6    80   \n",
       " 26             3        6             18     154         7      2   247   \n",
       " 27             3        6             13     282         4      9   206   \n",
       " 28             6       21             20     152         3      3   248   \n",
       " 29             3       14             21     171         6      2    61   \n",
       " ...          ...      ...            ...     ...       ...    ...   ...   \n",
       " 99970          1       17              1      80         8     11    78   \n",
       " 99971          2       12             13     240         0     10   154   \n",
       " 99972          4        7              1     159         8      1   183   \n",
       " 99973          3        5             13     174         5      6   206   \n",
       " 99974          3       13              1      93         8      7    80   \n",
       " 99975          5        6              3     160         7      4   247   \n",
       " 99976          2        6             20     199         3      8   152   \n",
       " 99977          5       17              0      73         3      9    86   \n",
       " 99978          3       22              1      80         8      1   230   \n",
       " 99979          5        7              8     134         6     10    19   \n",
       " 99980          5       12             21      78         0      8    93   \n",
       " 99981          5       20              1     182         8      7    37   \n",
       " 99982          4        6             20      14         2     12    48   \n",
       " 99983          4       18             20     173         0      3   101   \n",
       " 99984          3       11              5     133         8      4    78   \n",
       " 99985          2       12             20     126         1     12   128   \n",
       " 99986          2       18              7     173         7      8   160   \n",
       " 99987          3       11             22     214         3      4   161   \n",
       " 99988          3        8             14     255         7      6   195   \n",
       " 99989          1       19             16     282         4      7   206   \n",
       " 99990          1       19             16     205         2      6   158   \n",
       " 99991          1       13             20     252         2     10    47   \n",
       " 99992          5        6              5     199         9      7   133   \n",
       " 99993          4       17             13     205         1     12    86   \n",
       " 99994          2       19             20       3         5      1   154   \n",
       " 99995          2        8             20      69         0      9   126   \n",
       " 99996          6       14             18     205         8      3   152   \n",
       " 99997          2       15             16     205         3      1   249   \n",
       " 99998          5        8              7     159         6      1    19   \n",
       " 99999          1        8             16     183         2      2   195   \n",
       " \n",
       "        DayofMonth  \n",
       " 0              18  \n",
       " 1               9  \n",
       " 2              12  \n",
       " 3              18  \n",
       " 4              28  \n",
       " 5              15  \n",
       " 6              24  \n",
       " 7              28  \n",
       " 8               3  \n",
       " 9               3  \n",
       " 10              6  \n",
       " 11             16  \n",
       " 12             10  \n",
       " 13             10  \n",
       " 14              4  \n",
       " 15              6  \n",
       " 16              6  \n",
       " 17             25  \n",
       " 18             31  \n",
       " 19              3  \n",
       " 20             16  \n",
       " 21             28  \n",
       " 22              2  \n",
       " 23             29  \n",
       " 24             20  \n",
       " 25             13  \n",
       " 26              2  \n",
       " 27              5  \n",
       " 28             23  \n",
       " 29             23  \n",
       " ...           ...  \n",
       " 99970          28  \n",
       " 99971          23  \n",
       " 99972          10  \n",
       " 99973          21  \n",
       " 99974          10  \n",
       " 99975          29  \n",
       " 99976          15  \n",
       " 99977          15  \n",
       " 99978          17  \n",
       " 99979          13  \n",
       " 99980          18  \n",
       " 99981          20  \n",
       " 99982          20  \n",
       " 99983          22  \n",
       " 99984          11  \n",
       " 99985          10  \n",
       " 99986           1  \n",
       " 99987          11  \n",
       " 99988           6  \n",
       " 99989          16  \n",
       " 99990          19  \n",
       " 99991          12  \n",
       " 99992          13  \n",
       " 99993          28  \n",
       " 99994          16  \n",
       " 99995          27  \n",
       " 99996          17  \n",
       " 99997          24  \n",
       " 99998          27  \n",
       " 99999          22  \n",
       " \n",
       " [100000 rows x 8 columns],\n",
       " 'x_train':       DayOfWeek  DepTime  UniqueCarrier  Origin  Distance  Month  Dest  \\\n",
       " 0             2       18             21     157         6      7   133   \n",
       " 1             1       12             18      79         4      4   172   \n",
       " 2             6        9             15     129         2      2    72   \n",
       " 3             6        9             15     147         7      3   220   \n",
       " 4             2       13             13      80         2      4   155   \n",
       " 5             5       15             10      19         3      3   273   \n",
       " 6             6       12             20      48         3      3    86   \n",
       " 7             5        0              4     204         9      1   147   \n",
       " 8             7       19             16     205         4      6   290   \n",
       " 9             1        9              1     214         7      7    80   \n",
       " 10            3       12             19      78         1     11   160   \n",
       " 11            3        8             20      14         2     12    48   \n",
       " 12            4       15              3     246         5      8   200   \n",
       " 13            7       19             14      86         0      5    24   \n",
       " 14            5       19             18      48         9     10   154   \n",
       " 15            7       10             18      79         9      3   214   \n",
       " 16            3       20              8      19         4      4   249   \n",
       " 17            7       16             13     234         4      3   206   \n",
       " 18            7       11             14     205         4      5   178   \n",
       " 19            6       19              1      80         8      3   259   \n",
       " 20            7       22              3     210         7      6   238   \n",
       " 21            7       16             19     224         3     10    78   \n",
       " 22            4       11              1      35         5      8    80   \n",
       " 23            3       15              6     132         2      4   269   \n",
       " 24            3       13              4      46         2      7   147   \n",
       " 25            1        9             21     133         2      3   128   \n",
       " 26            1        6             19     218         3      2    63   \n",
       " 27            7       20             13      80         1      7   126   \n",
       " 28            1       17             21     116         3      2    93   \n",
       " 29            7       12             18     214         5     10    79   \n",
       " ...         ...      ...            ...     ...       ...    ...   ...   \n",
       " 9970          3       17              3     150         0     11   252   \n",
       " 9971          2       14             13     219         5      6    80   \n",
       " 9972          3       15             14      86         3      2    78   \n",
       " 9973          7       13             20     152         2     10   233   \n",
       " 9974          2       11             19     152         8      8   195   \n",
       " 9975          2       10              1      80         8      4   160   \n",
       " 9976          5       18             19     272         6      2    78   \n",
       " 9977          5       10              7     159         0      1    37   \n",
       " 9978          3       19             18     173         7      3   206   \n",
       " 9979          2       18             13     205         1     10   236   \n",
       " 9980          5       19              9      35         7      9    79   \n",
       " 9981          6       13             13      50         7      7    80   \n",
       " 9982          4        9              9     173         8      8    79   \n",
       " 9983          3       14             21     133         1     11    69   \n",
       " 9984          7        8             19      63         4      1    93   \n",
       " 9985          7       18              1     205         9     11   211   \n",
       " 9986          4       14              5     133         6      6    79   \n",
       " 9987          7        8             13     205         1      3    76   \n",
       " 9988          5       18             20      47         2      1   200   \n",
       " 9989          1       19             14     177         4      5    21   \n",
       " 9990          5       16             14     183         4      7   178   \n",
       " 9991          6       16              9     255         3      9    79   \n",
       " 9992          4        8              3      16         8     11   247   \n",
       " 9993          1       15             19      63         5      6   206   \n",
       " 9994          3       17              8      22         0      1    19   \n",
       " 9995          2       20              9      79         6     12   264   \n",
       " 9996          7       10             15     181         6      9    72   \n",
       " 9997          4        7             16      76         1      2   206   \n",
       " 9998          1       12              7      63         1      5    19   \n",
       " 9999          7       12             13     289         2     12    80   \n",
       " \n",
       "       DayofMonth  \n",
       " 0             19  \n",
       " 1              3  \n",
       " 2              1  \n",
       " 3             19  \n",
       " 4             28  \n",
       " 5             17  \n",
       " 6             10  \n",
       " 7             14  \n",
       " 8             13  \n",
       " 9             18  \n",
       " 10            16  \n",
       " 11             6  \n",
       " 12             4  \n",
       " 13             5  \n",
       " 14            30  \n",
       " 15            28  \n",
       " 16             6  \n",
       " 17            19  \n",
       " 18            13  \n",
       " 19             3  \n",
       " 20            13  \n",
       " 21            16  \n",
       " 22            27  \n",
       " 23             6  \n",
       " 24            13  \n",
       " 25            28  \n",
       " 26             2  \n",
       " 27            31  \n",
       " 28            23  \n",
       " 29            23  \n",
       " ...          ...  \n",
       " 9970          16  \n",
       " 9971          15  \n",
       " 9972          18  \n",
       " 9973           2  \n",
       " 9974          16  \n",
       " 9975          28  \n",
       " 9976           5  \n",
       " 9977          14  \n",
       " 9978          15  \n",
       " 9979          18  \n",
       " 9980          16  \n",
       " 9981           1  \n",
       " 9982           4  \n",
       " 9983           9  \n",
       " 9984          24  \n",
       " 9985          20  \n",
       " 9986          25  \n",
       " 9987          20  \n",
       " 9988          29  \n",
       " 9989          29  \n",
       " 9990          22  \n",
       " 9991           9  \n",
       " 9992          17  \n",
       " 9993           5  \n",
       " 9994          19  \n",
       " 9995          19  \n",
       " 9996           3  \n",
       " 9997          20  \n",
       " 9998           6  \n",
       " 9999           2  \n",
       " \n",
       " [10000 rows x 8 columns],\n",
       " 'y_train': {'label': [0,\n",
       "   0,\n",
       "   0,\n",
       "   0,\n",
       "   1,\n",
       "   0,\n",
       "   0,\n",
       "   0,\n",
       "   0,\n",
       "   0,\n",
       "   0,\n",
       "   0,\n",
       "   1,\n",
       "   0,\n",
       "   0,\n",
       "   0,\n",
       "   1,\n",
       "   0,\n",
       "   0,\n",
       "   1,\n",
       "   1,\n",
       "   0,\n",
       "   0,\n",
       "   0,\n",
       "   0,\n",
       "   0,\n",
       "   0,\n",
       "   0,\n",
       "   0,\n",
       "   1,\n",
       "   0,\n",
       "   0,\n",
       "   1,\n",
       "   0,\n",
       "   1,\n",
       "   0,\n",
       "   0,\n",
       "   0,\n",
       "   0,\n",
       "   0,\n",
       "   0,\n",
       "   0,\n",
       "   0,\n",
       "   0,\n",
       "   1,\n",
       "   1,\n",
       "   0,\n",
       "   0,\n",
       "   0,\n",
       "   0,\n",
       "   0,\n",
       "   0,\n",
       "   1,\n",
       "   0,\n",
       "   0,\n",
       "   0,\n",
       "   0,\n",
       "   0,\n",
       "   1,\n",
       "   0,\n",
       "   1,\n",
       "   1,\n",
       "   1,\n",
       "   0,\n",
       "   1,\n",
       "   1,\n",
       "   0,\n",
       "   0,\n",
       "   0,\n",
       "   1,\n",
       "   1,\n",
       "   0,\n",
       "   0,\n",
       "   0,\n",
       "   0,\n",
       "   0,\n",
       "   1,\n",
       "   0,\n",
       "   1,\n",
       "   0,\n",
       "   0,\n",
       "   0,\n",
       "   0,\n",
       "   0,\n",
       "   0,\n",
       "   1,\n",
       "   0,\n",
       "   0,\n",
       "   0,\n",
       "   0,\n",
       "   0,\n",
       "   0,\n",
       "   0,\n",
       "   0,\n",
       "   1,\n",
       "   0,\n",
       "   1,\n",
       "   0,\n",
       "   0,\n",
       "   0,\n",
       "   1,\n",
       "   1,\n",
       "   1,\n",
       "   0,\n",
       "   0,\n",
       "   0,\n",
       "   0,\n",
       "   0,\n",
       "   0,\n",
       "   0,\n",
       "   0,\n",
       "   0,\n",
       "   0,\n",
       "   0,\n",
       "   1,\n",
       "   0,\n",
       "   0,\n",
       "   0,\n",
       "   0,\n",
       "   0,\n",
       "   0,\n",
       "   0,\n",
       "   0,\n",
       "   0,\n",
       "   0,\n",
       "   0,\n",
       "   0,\n",
       "   0,\n",
       "   0,\n",
       "   1,\n",
       "   0,\n",
       "   0,\n",
       "   0,\n",
       "   1,\n",
       "   0,\n",
       "   0,\n",
       "   0,\n",
       "   0,\n",
       "   0,\n",
       "   0,\n",
       "   0,\n",
       "   0,\n",
       "   0,\n",
       "   0,\n",
       "   0,\n",
       "   0,\n",
       "   0,\n",
       "   0,\n",
       "   0,\n",
       "   0,\n",
       "   0,\n",
       "   0,\n",
       "   0,\n",
       "   0,\n",
       "   0,\n",
       "   0,\n",
       "   0,\n",
       "   1,\n",
       "   0,\n",
       "   0,\n",
       "   0,\n",
       "   0,\n",
       "   0,\n",
       "   1,\n",
       "   0,\n",
       "   0,\n",
       "   0,\n",
       "   0,\n",
       "   0,\n",
       "   0,\n",
       "   0,\n",
       "   0,\n",
       "   0,\n",
       "   1,\n",
       "   1,\n",
       "   1,\n",
       "   0,\n",
       "   1,\n",
       "   0,\n",
       "   0,\n",
       "   0,\n",
       "   0,\n",
       "   0,\n",
       "   1,\n",
       "   0,\n",
       "   0,\n",
       "   1,\n",
       "   1,\n",
       "   0,\n",
       "   0,\n",
       "   0,\n",
       "   0,\n",
       "   1,\n",
       "   1,\n",
       "   0,\n",
       "   0,\n",
       "   0,\n",
       "   0,\n",
       "   0,\n",
       "   0,\n",
       "   0,\n",
       "   0,\n",
       "   0,\n",
       "   0,\n",
       "   0,\n",
       "   0,\n",
       "   1,\n",
       "   1,\n",
       "   1,\n",
       "   1,\n",
       "   0,\n",
       "   0,\n",
       "   0,\n",
       "   0,\n",
       "   1,\n",
       "   1,\n",
       "   0,\n",
       "   0,\n",
       "   0,\n",
       "   0,\n",
       "   1,\n",
       "   1,\n",
       "   0,\n",
       "   0,\n",
       "   1,\n",
       "   0,\n",
       "   0,\n",
       "   0,\n",
       "   0,\n",
       "   1,\n",
       "   0,\n",
       "   0,\n",
       "   0,\n",
       "   0,\n",
       "   0,\n",
       "   0,\n",
       "   0,\n",
       "   0,\n",
       "   0,\n",
       "   1,\n",
       "   0,\n",
       "   0,\n",
       "   0,\n",
       "   0,\n",
       "   0,\n",
       "   0,\n",
       "   0,\n",
       "   0,\n",
       "   1,\n",
       "   0,\n",
       "   0,\n",
       "   0,\n",
       "   0,\n",
       "   0,\n",
       "   0,\n",
       "   0,\n",
       "   0,\n",
       "   0,\n",
       "   0,\n",
       "   0,\n",
       "   1,\n",
       "   0,\n",
       "   1,\n",
       "   0,\n",
       "   0,\n",
       "   1,\n",
       "   0,\n",
       "   1,\n",
       "   1,\n",
       "   0,\n",
       "   0,\n",
       "   1,\n",
       "   0,\n",
       "   0,\n",
       "   1,\n",
       "   0,\n",
       "   0,\n",
       "   1,\n",
       "   0,\n",
       "   0,\n",
       "   0,\n",
       "   1,\n",
       "   0,\n",
       "   0,\n",
       "   1,\n",
       "   0,\n",
       "   0,\n",
       "   0,\n",
       "   0,\n",
       "   0,\n",
       "   0,\n",
       "   0,\n",
       "   0,\n",
       "   0,\n",
       "   0,\n",
       "   0,\n",
       "   0,\n",
       "   1,\n",
       "   0,\n",
       "   1,\n",
       "   0,\n",
       "   0,\n",
       "   0,\n",
       "   1,\n",
       "   0,\n",
       "   0,\n",
       "   0,\n",
       "   1,\n",
       "   0,\n",
       "   0,\n",
       "   0,\n",
       "   0,\n",
       "   0,\n",
       "   0,\n",
       "   0,\n",
       "   0,\n",
       "   0,\n",
       "   0,\n",
       "   0,\n",
       "   0,\n",
       "   1,\n",
       "   0,\n",
       "   1,\n",
       "   0,\n",
       "   1,\n",
       "   0,\n",
       "   1,\n",
       "   0,\n",
       "   0,\n",
       "   0,\n",
       "   0,\n",
       "   1,\n",
       "   0,\n",
       "   0,\n",
       "   0,\n",
       "   0,\n",
       "   1,\n",
       "   0,\n",
       "   0,\n",
       "   0,\n",
       "   0,\n",
       "   0,\n",
       "   0,\n",
       "   0,\n",
       "   0,\n",
       "   0,\n",
       "   1,\n",
       "   0,\n",
       "   0,\n",
       "   0,\n",
       "   0,\n",
       "   0,\n",
       "   0,\n",
       "   0,\n",
       "   0,\n",
       "   0,\n",
       "   0,\n",
       "   1,\n",
       "   0,\n",
       "   0,\n",
       "   0,\n",
       "   0,\n",
       "   0,\n",
       "   0,\n",
       "   0,\n",
       "   0,\n",
       "   0,\n",
       "   0,\n",
       "   0,\n",
       "   0,\n",
       "   0,\n",
       "   1,\n",
       "   0,\n",
       "   0,\n",
       "   0,\n",
       "   0,\n",
       "   1,\n",
       "   0,\n",
       "   0,\n",
       "   0,\n",
       "   0,\n",
       "   0,\n",
       "   0,\n",
       "   0,\n",
       "   0,\n",
       "   0,\n",
       "   1,\n",
       "   0,\n",
       "   0,\n",
       "   0,\n",
       "   0,\n",
       "   0,\n",
       "   1,\n",
       "   0,\n",
       "   1,\n",
       "   0,\n",
       "   0,\n",
       "   1,\n",
       "   0,\n",
       "   0,\n",
       "   0,\n",
       "   0,\n",
       "   0,\n",
       "   0,\n",
       "   0,\n",
       "   0,\n",
       "   0,\n",
       "   0,\n",
       "   0,\n",
       "   1,\n",
       "   0,\n",
       "   0,\n",
       "   0,\n",
       "   0,\n",
       "   1,\n",
       "   0,\n",
       "   0,\n",
       "   0,\n",
       "   1,\n",
       "   0,\n",
       "   1,\n",
       "   0,\n",
       "   0,\n",
       "   1,\n",
       "   0,\n",
       "   0,\n",
       "   0,\n",
       "   0,\n",
       "   0,\n",
       "   0,\n",
       "   0,\n",
       "   0,\n",
       "   0,\n",
       "   0,\n",
       "   0,\n",
       "   0,\n",
       "   1,\n",
       "   1,\n",
       "   0,\n",
       "   0,\n",
       "   0,\n",
       "   0,\n",
       "   0,\n",
       "   0,\n",
       "   0,\n",
       "   0,\n",
       "   1,\n",
       "   0,\n",
       "   0,\n",
       "   1,\n",
       "   0,\n",
       "   0,\n",
       "   0,\n",
       "   0,\n",
       "   1,\n",
       "   0,\n",
       "   0,\n",
       "   0,\n",
       "   0,\n",
       "   0,\n",
       "   0,\n",
       "   1,\n",
       "   0,\n",
       "   0,\n",
       "   0,\n",
       "   0,\n",
       "   0,\n",
       "   0,\n",
       "   0,\n",
       "   0,\n",
       "   1,\n",
       "   0,\n",
       "   0,\n",
       "   0,\n",
       "   0,\n",
       "   0,\n",
       "   1,\n",
       "   0,\n",
       "   0,\n",
       "   0,\n",
       "   1,\n",
       "   0,\n",
       "   0,\n",
       "   0,\n",
       "   0,\n",
       "   0,\n",
       "   0,\n",
       "   0,\n",
       "   0,\n",
       "   0,\n",
       "   0,\n",
       "   0,\n",
       "   1,\n",
       "   0,\n",
       "   1,\n",
       "   0,\n",
       "   0,\n",
       "   0,\n",
       "   0,\n",
       "   0,\n",
       "   0,\n",
       "   0,\n",
       "   1,\n",
       "   0,\n",
       "   1,\n",
       "   0,\n",
       "   0,\n",
       "   0,\n",
       "   0,\n",
       "   1,\n",
       "   0,\n",
       "   0,\n",
       "   0,\n",
       "   0,\n",
       "   0,\n",
       "   0,\n",
       "   0,\n",
       "   0,\n",
       "   0,\n",
       "   0,\n",
       "   0,\n",
       "   0,\n",
       "   0,\n",
       "   0,\n",
       "   0,\n",
       "   0,\n",
       "   0,\n",
       "   0,\n",
       "   0,\n",
       "   0,\n",
       "   0,\n",
       "   1,\n",
       "   0,\n",
       "   0,\n",
       "   1,\n",
       "   0,\n",
       "   0,\n",
       "   0,\n",
       "   0,\n",
       "   0,\n",
       "   0,\n",
       "   0,\n",
       "   0,\n",
       "   0,\n",
       "   0,\n",
       "   0,\n",
       "   0,\n",
       "   0,\n",
       "   0,\n",
       "   0,\n",
       "   0,\n",
       "   0,\n",
       "   0,\n",
       "   0,\n",
       "   0,\n",
       "   0,\n",
       "   1,\n",
       "   0,\n",
       "   0,\n",
       "   0,\n",
       "   0,\n",
       "   0,\n",
       "   0,\n",
       "   0,\n",
       "   0,\n",
       "   0,\n",
       "   0,\n",
       "   0,\n",
       "   0,\n",
       "   1,\n",
       "   0,\n",
       "   0,\n",
       "   0,\n",
       "   0,\n",
       "   0,\n",
       "   0,\n",
       "   1,\n",
       "   1,\n",
       "   0,\n",
       "   0,\n",
       "   0,\n",
       "   0,\n",
       "   0,\n",
       "   0,\n",
       "   1,\n",
       "   1,\n",
       "   0,\n",
       "   0,\n",
       "   0,\n",
       "   0,\n",
       "   0,\n",
       "   0,\n",
       "   0,\n",
       "   0,\n",
       "   0,\n",
       "   0,\n",
       "   1,\n",
       "   0,\n",
       "   1,\n",
       "   0,\n",
       "   1,\n",
       "   1,\n",
       "   0,\n",
       "   1,\n",
       "   1,\n",
       "   0,\n",
       "   1,\n",
       "   0,\n",
       "   0,\n",
       "   0,\n",
       "   0,\n",
       "   0,\n",
       "   1,\n",
       "   0,\n",
       "   0,\n",
       "   0,\n",
       "   1,\n",
       "   0,\n",
       "   0,\n",
       "   0,\n",
       "   0,\n",
       "   0,\n",
       "   0,\n",
       "   0,\n",
       "   0,\n",
       "   0,\n",
       "   0,\n",
       "   0,\n",
       "   0,\n",
       "   0,\n",
       "   0,\n",
       "   0,\n",
       "   0,\n",
       "   0,\n",
       "   0,\n",
       "   0,\n",
       "   0,\n",
       "   0,\n",
       "   0,\n",
       "   0,\n",
       "   0,\n",
       "   0,\n",
       "   0,\n",
       "   0,\n",
       "   0,\n",
       "   0,\n",
       "   0,\n",
       "   0,\n",
       "   0,\n",
       "   0,\n",
       "   0,\n",
       "   0,\n",
       "   0,\n",
       "   0,\n",
       "   0,\n",
       "   0,\n",
       "   0,\n",
       "   0,\n",
       "   0,\n",
       "   0,\n",
       "   1,\n",
       "   0,\n",
       "   1,\n",
       "   0,\n",
       "   0,\n",
       "   1,\n",
       "   1,\n",
       "   0,\n",
       "   0,\n",
       "   0,\n",
       "   0,\n",
       "   0,\n",
       "   0,\n",
       "   0,\n",
       "   0,\n",
       "   0,\n",
       "   0,\n",
       "   0,\n",
       "   0,\n",
       "   0,\n",
       "   0,\n",
       "   0,\n",
       "   0,\n",
       "   0,\n",
       "   1,\n",
       "   0,\n",
       "   0,\n",
       "   0,\n",
       "   0,\n",
       "   0,\n",
       "   1,\n",
       "   0,\n",
       "   0,\n",
       "   0,\n",
       "   0,\n",
       "   0,\n",
       "   0,\n",
       "   0,\n",
       "   0,\n",
       "   0,\n",
       "   0,\n",
       "   1,\n",
       "   0,\n",
       "   0,\n",
       "   1,\n",
       "   0,\n",
       "   1,\n",
       "   0,\n",
       "   0,\n",
       "   0,\n",
       "   0,\n",
       "   0,\n",
       "   0,\n",
       "   0,\n",
       "   0,\n",
       "   1,\n",
       "   0,\n",
       "   0,\n",
       "   0,\n",
       "   0,\n",
       "   0,\n",
       "   0,\n",
       "   0,\n",
       "   0,\n",
       "   1,\n",
       "   0,\n",
       "   0,\n",
       "   1,\n",
       "   0,\n",
       "   0,\n",
       "   0,\n",
       "   0,\n",
       "   0,\n",
       "   1,\n",
       "   0,\n",
       "   0,\n",
       "   0,\n",
       "   0,\n",
       "   0,\n",
       "   0,\n",
       "   1,\n",
       "   0,\n",
       "   0,\n",
       "   0,\n",
       "   0,\n",
       "   0,\n",
       "   0,\n",
       "   0,\n",
       "   0,\n",
       "   0,\n",
       "   0,\n",
       "   0,\n",
       "   0,\n",
       "   0,\n",
       "   0,\n",
       "   0,\n",
       "   0,\n",
       "   0,\n",
       "   1,\n",
       "   0,\n",
       "   0,\n",
       "   0,\n",
       "   0,\n",
       "   0,\n",
       "   0,\n",
       "   0,\n",
       "   0,\n",
       "   0,\n",
       "   1,\n",
       "   0,\n",
       "   0,\n",
       "   0,\n",
       "   0,\n",
       "   0,\n",
       "   0,\n",
       "   0,\n",
       "   0,\n",
       "   0,\n",
       "   0,\n",
       "   1,\n",
       "   0,\n",
       "   0,\n",
       "   0,\n",
       "   0,\n",
       "   0,\n",
       "   0,\n",
       "   0,\n",
       "   0,\n",
       "   0,\n",
       "   0,\n",
       "   0,\n",
       "   0,\n",
       "   1,\n",
       "   0,\n",
       "   0,\n",
       "   0,\n",
       "   0,\n",
       "   0,\n",
       "   0,\n",
       "   0,\n",
       "   0,\n",
       "   0,\n",
       "   0,\n",
       "   0,\n",
       "   0,\n",
       "   1,\n",
       "   0,\n",
       "   0,\n",
       "   0,\n",
       "   0,\n",
       "   0,\n",
       "   0,\n",
       "   0,\n",
       "   1,\n",
       "   0,\n",
       "   0,\n",
       "   1,\n",
       "   0,\n",
       "   1,\n",
       "   0,\n",
       "   0,\n",
       "   0,\n",
       "   0,\n",
       "   0,\n",
       "   0,\n",
       "   0,\n",
       "   0,\n",
       "   0,\n",
       "   0,\n",
       "   0,\n",
       "   1,\n",
       "   1,\n",
       "   0,\n",
       "   0,\n",
       "   1,\n",
       "   0,\n",
       "   0,\n",
       "   1,\n",
       "   0,\n",
       "   0,\n",
       "   1,\n",
       "   0,\n",
       "   0,\n",
       "   0,\n",
       "   0,\n",
       "   0,\n",
       "   1,\n",
       "   0,\n",
       "   0,\n",
       "   0,\n",
       "   0,\n",
       "   0,\n",
       "   0,\n",
       "   0,\n",
       "   0,\n",
       "   0,\n",
       "   0,\n",
       "   0,\n",
       "   0,\n",
       "   0,\n",
       "   1,\n",
       "   0,\n",
       "   0,\n",
       "   0,\n",
       "   0,\n",
       "   1,\n",
       "   0,\n",
       "   0,\n",
       "   0,\n",
       "   0,\n",
       "   0,\n",
       "   0,\n",
       "   0,\n",
       "   1,\n",
       "   0,\n",
       "   0,\n",
       "   0,\n",
       "   0,\n",
       "   1,\n",
       "   0,\n",
       "   1,\n",
       "   1,\n",
       "   0,\n",
       "   0,\n",
       "   0,\n",
       "   1,\n",
       "   0,\n",
       "   0,\n",
       "   0,\n",
       "   0,\n",
       "   0,\n",
       "   0,\n",
       "   1,\n",
       "   0,\n",
       "   0,\n",
       "   0,\n",
       "   0,\n",
       "   0,\n",
       "   0,\n",
       "   0,\n",
       "   0,\n",
       "   0,\n",
       "   0,\n",
       "   1,\n",
       "   0,\n",
       "   0,\n",
       "   0,\n",
       "   0,\n",
       "   1,\n",
       "   0,\n",
       "   0,\n",
       "   0,\n",
       "   0,\n",
       "   0,\n",
       "   0,\n",
       "   0,\n",
       "   0,\n",
       "   0,\n",
       "   0,\n",
       "   0,\n",
       "   0,\n",
       "   0,\n",
       "   1,\n",
       "   1,\n",
       "   0,\n",
       "   0,\n",
       "   0,\n",
       "   0,\n",
       "   0,\n",
       "   0,\n",
       "   0,\n",
       "   1,\n",
       "   0,\n",
       "   0,\n",
       "   0,\n",
       "   0,\n",
       "   0,\n",
       "   0,\n",
       "   1,\n",
       "   0,\n",
       "   0,\n",
       "   1,\n",
       "   0,\n",
       "   0,\n",
       "   0,\n",
       "   0,\n",
       "   0,\n",
       "   0,\n",
       "   0,\n",
       "   0,\n",
       "   0,\n",
       "   0,\n",
       "   0,\n",
       "   0,\n",
       "   0,\n",
       "   0,\n",
       "   0,\n",
       "   0,\n",
       "   0,\n",
       "   1,\n",
       "   1,\n",
       "   0,\n",
       "   0,\n",
       "   1,\n",
       "   0,\n",
       "   0,\n",
       "   0,\n",
       "   0,\n",
       "   0,\n",
       "   0,\n",
       "   1,\n",
       "   1,\n",
       "   0,\n",
       "   0,\n",
       "   1,\n",
       "   0,\n",
       "   0,\n",
       "   0,\n",
       "   0,\n",
       "   0,\n",
       "   0,\n",
       "   1,\n",
       "   0,\n",
       "   0,\n",
       "   0,\n",
       "   0,\n",
       "   0,\n",
       "   0,\n",
       "   0,\n",
       "   0,\n",
       "   0,\n",
       "   1,\n",
       "   0,\n",
       "   0,\n",
       "   0,\n",
       "   0,\n",
       "   0,\n",
       "   0,\n",
       "   0,\n",
       "   0,\n",
       "   ...]}}"
      ]
     },
     "execution_count": 33,
     "metadata": {},
     "output_type": "execute_result"
    }
   ],
   "source": [
    "temp"
   ]
  },
  {
   "cell_type": "markdown",
   "metadata": {},
   "source": [
    "# Start generating oof_train, oof_test,  layer1 estimater prediction and model data id list"
   ]
  },
  {
   "cell_type": "code",
   "execution_count": 24,
   "metadata": {
    "ExecuteTime": {
     "end_time": "2018-06-25T17:48:10.955910Z",
     "start_time": "2018-06-25T17:48:10.876612Z"
    }
   },
   "outputs": [],
   "source": [
    "# uncomment any model to add to the model pool\n",
    "\n",
    "model_pool = {}\n",
    "\n",
    "SEED = 2018 \n",
    "\n",
    "# from sklearn.linear_model import LogisticRegression\n",
    "# ###################################  Logreg normal   ####################################\n",
    "# logreg_ble = SklearnBLE(LogisticRegression, nb=False, seed=SEED)\n",
    "# model_pool[ModelName.LOGREG] = logreg_ble\n",
    "# ###################################  Logreg nb       ####################################\n",
    "# nblogreg_params = {'C':0.25}\n",
    "# nblogreg_ble = SklearnBLE(LogisticRegression, nb=True, seed=SEED, params=nblogreg_params)\n",
    "# model_pool[ModelName.NBLOGREG] = nblogreg_ble\n",
    "# ###################################  Logreg per label  ##################################\n",
    "# logreg_params_per_label = {\n",
    "#     'identity_hate': {'C': 0.25, 'class_weight': 'balanced', 'fit_intercept': True},\n",
    "#     'insult': {'C': 0.25, 'class_weight': 'balanced', 'fit_intercept': True},\n",
    "#     'obscene': {'C': 0.7, 'class_weight': 'balanced', 'fit_intercept': True},\n",
    "#     'severe_toxic': {'C': 0.3,'class_weight': None, 'fit_intercept': True},\n",
    "#     'threat': {'C': 0.05, 'class_weight': 'balanced', 'fit_intercept': True}, \n",
    "#     'toxic': {'C': 0.8, 'class_weight': 'balanced', 'fit_intercept': True}\n",
    "# }\n",
    "# logreg_per_label_ble = SklearnBLE(LogisticRegression, nb=False, seed=SEED, per_label_params=logreg_params_per_label)\n",
    "# model_pool[ModelName.LOGREG_PERLABEL] = logreg_per_label_ble\n",
    "\n",
    "\n",
    "\n",
    "# from sklearn.svm import LinearSVC\n",
    "# ###################################  Logreg normal   ####################################\n",
    "# lsvc_ble = SklearnBLE(LinearSVC, need_calibrated_classifier_cv=True)\n",
    "# model_pool[ModelName.LSVC] = lsvc_ble\n",
    "# ###################################  Logreg nb   ####################################\n",
    "# nblsvc_params = {'C':0.02}\n",
    "# nblsvc_ble = SklearnBLE(LinearSVC, nb=True, seed=SEED, params=nblogreg_params, need_calibrated_classifier_cv=True)\n",
    "# model_pool[ModelName.NBLSVC] = nblsvc_ble\n",
    "\n",
    "\n",
    "# from xgboost import XGBClassifier\n",
    "# ###################################  XGB normal   ####################################\n",
    "# xgb_params = {'n_jobs': 10}\n",
    "# xgb_ble = SklearnBLE(XGBClassifier, seed=SEED, params=xgb_params)# XGBoostBLE(params=xgb_params, nb=False, seed=SEED)\n",
    "# model_pool[ModelName.XGB] = xgb_ble\n",
    "# ###################################  XGB nb   ####################################\n",
    "# nbxgb_ble = SklearnBLE(XGBClassifier, nb=True, seed=SEED, params=xgb_params)\n",
    "# model_pool[ModelName.NBXGB] = nbxgb_ble\n",
    "\n",
    "\n",
    "\n",
    "from lightgbm import LGBMClassifier\n",
    "###################################  LGB normal   ####################################\n",
    "lgb_params = {'n_jobs': 3,'n_estimators': 50}\n",
    "lgb_ble = SklearnBLE(LGBMClassifier, seed=SEED, params=lgb_params)\n",
    "model_pool[ModelName.LGB] = lgb_ble\n",
    "# ###################################  LGB nb   ####################################\n",
    "# nblgb_ble = SklearnBLE(LGBMClassifier, nb=True, seed=SEED, params=lgb_params)\n",
    "# model_pool[ModelName.NBLGB] = nblgb_ble\n",
    "# ###################################  LGB per label   ####################################\n",
    "# lgb_params_per_label = {}\n",
    "# lgb_params_per_label['toxic'] = {'n_jobs': 8, 'num_leaves': 61}\n",
    "# lgb_params_per_label['severe_toxic'] = {'n_jobs': 8, 'num_leaves': 11}\n",
    "# lgb_params_per_label['obscene'] = {'n_jobs': 8, 'num_leaves': 61}\n",
    "# lgb_params_per_label['threat'] = {'n_jobs': 8, 'num_leaves': 11}\n",
    "# lgb_params_per_label['insult'] = {'n_jobs': 8,'num_leaves': 11}\n",
    "# lgb_params_per_label['identity_hate'] = {'n_jobs': 8, 'num_leaves': 61}\n",
    "# nblgb_per_label_ble = SklearnBLE(LGBMClassifier, seed=SEED, per_label_params=lgb_params_per_label)\n",
    "# model_pool[ModelName.NBLGB_PERLABEL] = nblgb_per_label_ble"
   ]
  },
  {
   "cell_type": "code",
   "execution_count": 25,
   "metadata": {
    "ExecuteTime": {
     "end_time": "2018-06-25T17:48:13.646367Z",
     "start_time": "2018-06-25T17:48:13.585486Z"
    }
   },
   "outputs": [
    {
     "data": {
      "text/plain": [
       "[<ModelName.LGB: 5>]"
      ]
     },
     "execution_count": 25,
     "metadata": {},
     "output_type": "execute_result"
    }
   ],
   "source": [
    "list(model_pool)"
   ]
  },
  {
   "cell_type": "code",
   "execution_count": 14,
   "metadata": {},
   "outputs": [
    {
     "data": {
      "text/plain": [
       "numpy.ndarray"
      ]
     },
     "execution_count": 14,
     "metadata": {},
     "output_type": "execute_result"
    }
   ],
   "source": [
    "type(train.head(2)['id'].values)"
   ]
  },
  {
   "cell_type": "code",
   "execution_count": 65,
   "metadata": {
    "ExecuteTime": {
     "end_time": "2018-06-26T15:40:57.314504Z",
     "start_time": "2018-06-26T15:39:44.936733Z"
    },
    "scrolled": false
   },
   "outputs": [
    {
     "name": "stdout",
     "output_type": "stream",
     "text": [
      "Computing... label: label        model_data_id: ModelName.LGB_flight_data_1\n",
      "> /home/kai/data/shiyi/AlphaBoosting/automl/automl_libs/base_layer_utils.py(757)compute_layer1_oof()\n",
      "-> NFOLDS = 4 # set folds for out-of-fold prediction\n",
      "(Pdb) type(x_train)\n",
      "<class 'pandas.core.frame.DataFrame'>\n",
      "(Pdb) type(y_train)\n",
      "<class 'list'>\n",
      "(Pdb) y.shape\n",
      "*** NameError: name 'y' is not defined\n",
      "(Pdb) type(x_test)\n",
      "<class 'pandas.core.frame.DataFrame'>\n",
      "(Pdb) q\n"
     ]
    },
    {
     "ename": "BdbQuit",
     "evalue": "",
     "output_type": "error",
     "traceback": [
      "\u001b[0;31m---------------------------------------------------------------------------\u001b[0m",
      "\u001b[0;31mBdbQuit\u001b[0m                                   Traceback (most recent call last)",
      "\u001b[0;32m<ipython-input-65-065e56702c3c>\u001b[0m in \u001b[0;36m<module>\u001b[0;34m()\u001b[0m\n\u001b[0;32m----> 1\u001b[0;31m \u001b[0mlayer1_est_preds\u001b[0m\u001b[0;34m,\u001b[0m \u001b[0mlayer1_oof_train\u001b[0m\u001b[0;34m,\u001b[0m \u001b[0mlayer1_oof_mean_test\u001b[0m\u001b[0;34m,\u001b[0m \u001b[0mmodel_data_id_list\u001b[0m \u001b[0;34m=\u001b[0m \u001b[0mcompute_layer1_oof\u001b[0m\u001b[0;34m(\u001b[0m\u001b[0mbldr\u001b[0m\u001b[0;34m,\u001b[0m \u001b[0mmodel_pool\u001b[0m\u001b[0;34m,\u001b[0m \u001b[0mlabel_cols\u001b[0m\u001b[0;34m,\u001b[0m \u001b[0msfm_threshold\u001b[0m\u001b[0;34m=\u001b[0m\u001b[0;32mNone\u001b[0m\u001b[0;34m)\u001b[0m\u001b[0;34m\u001b[0m\u001b[0m\n\u001b[0m",
      "\u001b[0;32m~/data/shiyi/AlphaBoosting/automl/automl_libs/base_layer_utils.py\u001b[0m in \u001b[0;36mcompute_layer1_oof\u001b[0;34m(bldr, model_pool, label_cols, nfolds, seed, sfm_threshold)\u001b[0m\n\u001b[1;32m    755\u001b[0m \u001b[0;34m\u001b[0m\u001b[0m\n\u001b[1;32m    756\u001b[0m                 \u001b[0mpdb\u001b[0m\u001b[0;34m.\u001b[0m\u001b[0mset_trace\u001b[0m\u001b[0;34m(\u001b[0m\u001b[0;34m)\u001b[0m\u001b[0;34m\u001b[0m\u001b[0m\n\u001b[0;32m--> 757\u001b[0;31m                 \u001b[0mNFOLDS\u001b[0m \u001b[0;34m=\u001b[0m \u001b[0;36m4\u001b[0m \u001b[0;31m# set folds for out-of-fold prediction\u001b[0m\u001b[0;34m\u001b[0m\u001b[0m\n\u001b[0m\u001b[1;32m    758\u001b[0m                 \u001b[0;31m#print(x_train.shape,y_train.shape,x_test.shape,label)\u001b[0m\u001b[0;34m\u001b[0m\u001b[0;34m\u001b[0m\u001b[0m\n\u001b[1;32m    759\u001b[0m \u001b[0;34m\u001b[0m\u001b[0m\n",
      "\u001b[0;32m~/data/shiyi/AlphaBoosting/automl/automl_libs/base_layer_utils.py\u001b[0m in \u001b[0;36mcompute_layer1_oof\u001b[0;34m(bldr, model_pool, label_cols, nfolds, seed, sfm_threshold)\u001b[0m\n\u001b[1;32m    755\u001b[0m \u001b[0;34m\u001b[0m\u001b[0m\n\u001b[1;32m    756\u001b[0m                 \u001b[0mpdb\u001b[0m\u001b[0;34m.\u001b[0m\u001b[0mset_trace\u001b[0m\u001b[0;34m(\u001b[0m\u001b[0;34m)\u001b[0m\u001b[0;34m\u001b[0m\u001b[0m\n\u001b[0;32m--> 757\u001b[0;31m                 \u001b[0mNFOLDS\u001b[0m \u001b[0;34m=\u001b[0m \u001b[0;36m4\u001b[0m \u001b[0;31m# set folds for out-of-fold prediction\u001b[0m\u001b[0;34m\u001b[0m\u001b[0m\n\u001b[0m\u001b[1;32m    758\u001b[0m                 \u001b[0;31m#print(x_train.shape,y_train.shape,x_test.shape,label)\u001b[0m\u001b[0;34m\u001b[0m\u001b[0;34m\u001b[0m\u001b[0m\n\u001b[1;32m    759\u001b[0m \u001b[0;34m\u001b[0m\u001b[0m\n",
      "\u001b[0;32m~/anaconda3/envs/tf_gpu/lib/python3.5/bdb.py\u001b[0m in \u001b[0;36mtrace_dispatch\u001b[0;34m(self, frame, event, arg)\u001b[0m\n\u001b[1;32m     46\u001b[0m             \u001b[0;32mreturn\u001b[0m \u001b[0;31m# None\u001b[0m\u001b[0;34m\u001b[0m\u001b[0m\n\u001b[1;32m     47\u001b[0m         \u001b[0;32mif\u001b[0m \u001b[0mevent\u001b[0m \u001b[0;34m==\u001b[0m \u001b[0;34m'line'\u001b[0m\u001b[0;34m:\u001b[0m\u001b[0;34m\u001b[0m\u001b[0m\n\u001b[0;32m---> 48\u001b[0;31m             \u001b[0;32mreturn\u001b[0m \u001b[0mself\u001b[0m\u001b[0;34m.\u001b[0m\u001b[0mdispatch_line\u001b[0m\u001b[0;34m(\u001b[0m\u001b[0mframe\u001b[0m\u001b[0;34m)\u001b[0m\u001b[0;34m\u001b[0m\u001b[0m\n\u001b[0m\u001b[1;32m     49\u001b[0m         \u001b[0;32mif\u001b[0m \u001b[0mevent\u001b[0m \u001b[0;34m==\u001b[0m \u001b[0;34m'call'\u001b[0m\u001b[0;34m:\u001b[0m\u001b[0;34m\u001b[0m\u001b[0m\n\u001b[1;32m     50\u001b[0m             \u001b[0;32mreturn\u001b[0m \u001b[0mself\u001b[0m\u001b[0;34m.\u001b[0m\u001b[0mdispatch_call\u001b[0m\u001b[0;34m(\u001b[0m\u001b[0mframe\u001b[0m\u001b[0;34m,\u001b[0m \u001b[0marg\u001b[0m\u001b[0;34m)\u001b[0m\u001b[0;34m\u001b[0m\u001b[0m\n",
      "\u001b[0;32m~/anaconda3/envs/tf_gpu/lib/python3.5/bdb.py\u001b[0m in \u001b[0;36mdispatch_line\u001b[0;34m(self, frame)\u001b[0m\n\u001b[1;32m     65\u001b[0m         \u001b[0;32mif\u001b[0m \u001b[0mself\u001b[0m\u001b[0;34m.\u001b[0m\u001b[0mstop_here\u001b[0m\u001b[0;34m(\u001b[0m\u001b[0mframe\u001b[0m\u001b[0;34m)\u001b[0m \u001b[0;32mor\u001b[0m \u001b[0mself\u001b[0m\u001b[0;34m.\u001b[0m\u001b[0mbreak_here\u001b[0m\u001b[0;34m(\u001b[0m\u001b[0mframe\u001b[0m\u001b[0;34m)\u001b[0m\u001b[0;34m:\u001b[0m\u001b[0;34m\u001b[0m\u001b[0m\n\u001b[1;32m     66\u001b[0m             \u001b[0mself\u001b[0m\u001b[0;34m.\u001b[0m\u001b[0muser_line\u001b[0m\u001b[0;34m(\u001b[0m\u001b[0mframe\u001b[0m\u001b[0;34m)\u001b[0m\u001b[0;34m\u001b[0m\u001b[0m\n\u001b[0;32m---> 67\u001b[0;31m             \u001b[0;32mif\u001b[0m \u001b[0mself\u001b[0m\u001b[0;34m.\u001b[0m\u001b[0mquitting\u001b[0m\u001b[0;34m:\u001b[0m \u001b[0;32mraise\u001b[0m \u001b[0mBdbQuit\u001b[0m\u001b[0;34m\u001b[0m\u001b[0m\n\u001b[0m\u001b[1;32m     68\u001b[0m         \u001b[0;32mreturn\u001b[0m \u001b[0mself\u001b[0m\u001b[0;34m.\u001b[0m\u001b[0mtrace_dispatch\u001b[0m\u001b[0;34m\u001b[0m\u001b[0m\n\u001b[1;32m     69\u001b[0m \u001b[0;34m\u001b[0m\u001b[0m\n",
      "\u001b[0;31mBdbQuit\u001b[0m: "
     ]
    }
   ],
   "source": [
    "layer1_est_preds, layer1_oof_train, layer1_oof_mean_test, model_data_id_list = compute_layer1_oof(bldr, model_pool, label_cols, sfm_threshold=None)"
   ]
  },
  {
   "cell_type": "markdown",
   "metadata": {},
   "source": [
    "## submit the layer 1 estimator predictions. If they look fine, save them to BaseLayerResultsRepo"
   ]
  },
  {
   "cell_type": "code",
   "execution_count": 16,
   "metadata": {},
   "outputs": [
    {
     "data": {
      "text/plain": [
       "['ModelName.LOGREG_PERLABEL_tfidf_word_(1, 1)_30000_1_1.0',\n",
       " 'ModelName.LOGREG_tfidf_word_(1, 1)_30000_1_1.0',\n",
       " 'ModelName.NBLOGREG_tfidf_word_(1, 1)_30000_1_1.0']"
      ]
     },
     "execution_count": 16,
     "metadata": {},
     "output_type": "execute_result"
    }
   ],
   "source": [
    "list(layer1_est_preds)"
   ]
  },
  {
   "cell_type": "markdown",
   "metadata": {},
   "source": [
    "### generate files to submit from layer 1 estimators"
   ]
  },
  {
   "cell_type": "code",
   "execution_count": 22,
   "metadata": {
    "collapsed": true
   },
   "outputs": [],
   "source": [
    "def write_predictions_to_file(base_layer_est_preds):\n",
    "    for key in base_layer_est_preds:\n",
    "        submission = pd.read_csv(PATH + 'sample_submission.csv')#.head(1000)\n",
    "        submission[label_cols] = base_layer_est_preds[key]\n",
    "        sub_id = int(time.time())\n",
    "        print(sub_id)\n",
    "        submission.to_csv('./BaseEstPreds/' + key + '_' + str(sub_id) + '.csv.gz', index=False, compression='gzip')"
   ]
  },
  {
   "cell_type": "code",
   "execution_count": 23,
   "metadata": {},
   "outputs": [
    {
     "name": "stdout",
     "output_type": "stream",
     "text": [
      "1522094161\n",
      "1522094166\n",
      "1522094171\n"
     ]
    }
   ],
   "source": [
    "write_predictions_to_file(layer1_est_preds)"
   ]
  },
  {
   "cell_type": "markdown",
   "metadata": {},
   "source": [
    "# sanity check before save to BaseLayerResultsRepo"
   ]
  },
  {
   "cell_type": "code",
   "execution_count": 25,
   "metadata": {},
   "outputs": [
    {
     "data": {
      "text/plain": [
       "['ModelName.LOGREG_PERLABEL_tfidf_word_(1, 1)_30000_1_1.0',\n",
       " 'ModelName.LOGREG_tfidf_word_(1, 1)_30000_1_1.0',\n",
       " 'ModelName.NBLOGREG_tfidf_word_(1, 1)_30000_1_1.0']"
      ]
     },
     "execution_count": 25,
     "metadata": {},
     "output_type": "execute_result"
    }
   ],
   "source": [
    "model_data_id_list # model_data we just computed in the layer 1"
   ]
  },
  {
   "cell_type": "code",
   "execution_count": 27,
   "metadata": {},
   "outputs": [
    {
     "data": {
      "text/plain": [
       "['obscene', 'identity_hate', 'severe_toxic', 'threat', 'insult', 'toxic']"
      ]
     },
     "execution_count": 27,
     "metadata": {},
     "output_type": "execute_result"
    }
   ],
   "source": [
    "list(layer1_oof_train) # list keys (which are labels)"
   ]
  },
  {
   "cell_type": "code",
   "execution_count": 28,
   "metadata": {},
   "outputs": [
    {
     "data": {
      "text/plain": [
       "3"
      ]
     },
     "execution_count": 28,
     "metadata": {},
     "output_type": "execute_result"
    }
   ],
   "source": [
    "len(layer1_oof_train['toxic']) # number of models to stack (each model will predict one set of toxic, servere_toxic, etc..)"
   ]
  },
  {
   "cell_type": "code",
   "execution_count": 29,
   "metadata": {},
   "outputs": [
    {
     "data": {
      "text/plain": [
       "159571"
      ]
     },
     "execution_count": 29,
     "metadata": {},
     "output_type": "execute_result"
    }
   ],
   "source": [
    "len(layer1_oof_train['toxic'][0]) # examples in oof_train (meta features, x_train) (meta labels are in train[label])"
   ]
  },
  {
   "cell_type": "code",
   "execution_count": 31,
   "metadata": {},
   "outputs": [
    {
     "data": {
      "text/plain": [
       "['obscene', 'identity_hate', 'severe_toxic', 'threat', 'insult', 'toxic']"
      ]
     },
     "execution_count": 31,
     "metadata": {},
     "output_type": "execute_result"
    }
   ],
   "source": [
    "list(layer1_oof_mean_test)"
   ]
  },
  {
   "cell_type": "code",
   "execution_count": 32,
   "metadata": {},
   "outputs": [
    {
     "data": {
      "text/plain": [
       "153164"
      ]
     },
     "execution_count": 32,
     "metadata": {},
     "output_type": "execute_result"
    }
   ],
   "source": [
    "len(layer1_oof_mean_test['toxic'][0]) # examples in oof_test (will be used by meta model (after validation) to predict the final prediction)"
   ]
  },
  {
   "cell_type": "code",
   "execution_count": 33,
   "metadata": {
    "collapsed": true
   },
   "outputs": [],
   "source": [
    "# read the doc string to BaseLayerResultsRepo to set params\n",
    "base_layer_results_repo = BaseLayerResultsRepo(load_from_file=False, filepath='obj/WithPreprocessedFile/')"
   ]
  },
  {
   "cell_type": "code",
   "execution_count": 34,
   "metadata": {
    "collapsed": true
   },
   "outputs": [],
   "source": [
    "base_layer_results_repo.add(layer1_oof_train, layer1_oof_mean_test, layer1_est_preds, model_data_id_list)"
   ]
  },
  {
   "cell_type": "code",
   "execution_count": 35,
   "metadata": {},
   "outputs": [
    {
     "name": "stdout",
     "output_type": "stream",
     "text": [
      "0\tModelName.NBLOGREG_tfidf_word_(1, 1)_30000_1_1.0\n",
      "0\tModelName.LOGREG_tfidf_word_(1, 1)_30000_1_1.0\n",
      "0\tModelName.LOGREG_PERLABEL_tfidf_word_(1, 1)_30000_1_1.0\n"
     ]
    }
   ],
   "source": [
    "scores = base_layer_results_repo.show_scores()"
   ]
  },
  {
   "cell_type": "code",
   "execution_count": 36,
   "metadata": {},
   "outputs": [
    {
     "name": "stdout",
     "output_type": "stream",
     "text": [
      "ModelName.NBLOGREG_tfidf_word_(1, 1)_30000_1_1.0 already existed in the repo. score: 0 update to 0.9888\n",
      "ModelName.LOGREG_tfidf_word_(1, 1)_30000_1_1.0 already existed in the repo. score: 0 update to 0.9777\n",
      "ModelName.LOGREG_PERLABEL_tfidf_word_(1, 1)_30000_1_1.0 already existed in the repo. score: 0 update to 0.9666\n"
     ]
    }
   ],
   "source": [
    " # let's give some fake scores\n",
    "base_layer_results_repo.add_score('ModelName.NBLOGREG_tfidf_word_(1, 1)_30000_1_1.0', 0.9888)\n",
    "base_layer_results_repo.add_score('ModelName.LOGREG_tfidf_word_(1, 1)_30000_1_1.0', 0.9777)\n",
    "base_layer_results_repo.add_score('ModelName.LOGREG_PERLABEL_tfidf_word_(1, 1)_30000_1_1.0', 0.9666)"
   ]
  },
  {
   "cell_type": "code",
   "execution_count": 37,
   "metadata": {},
   "outputs": [
    {
     "name": "stdout",
     "output_type": "stream",
     "text": [
      "0.9888\tModelName.NBLOGREG_tfidf_word_(1, 1)_30000_1_1.0\n",
      "0.9777\tModelName.LOGREG_tfidf_word_(1, 1)_30000_1_1.0\n",
      "0.9666\tModelName.LOGREG_PERLABEL_tfidf_word_(1, 1)_30000_1_1.0\n"
     ]
    }
   ],
   "source": [
    "scores = base_layer_results_repo.show_scores()"
   ]
  },
  {
   "cell_type": "code",
   "execution_count": 38,
   "metadata": {
    "collapsed": true
   },
   "outputs": [],
   "source": [
    "base_layer_results_repo.save()"
   ]
  },
  {
   "cell_type": "code",
   "execution_count": 17,
   "metadata": {
    "collapsed": true
   },
   "outputs": [],
   "source": [
    "# Next step: go to stack_layer2"
   ]
  },
  {
   "cell_type": "code",
   "execution_count": 18,
   "metadata": {},
   "outputs": [
    {
     "name": "stdout",
     "output_type": "stream",
     "text": [
      "stack 1\n"
     ]
    }
   ],
   "source": [
    "print('stack 1')"
   ]
  },
  {
   "cell_type": "code",
   "execution_count": null,
   "metadata": {
    "collapsed": true
   },
   "outputs": [],
   "source": []
  }
 ],
 "metadata": {
  "kernelspec": {
   "display_name": "Python 3.5 (tf_gpu)",
   "language": "python",
   "name": "tf_gpu"
  },
  "language_info": {
   "codemirror_mode": {
    "name": "ipython",
    "version": 3
   },
   "file_extension": ".py",
   "mimetype": "text/x-python",
   "name": "python",
   "nbconvert_exporter": "python",
   "pygments_lexer": "ipython3",
   "version": "3.5.5"
  },
  "varInspector": {
   "cols": {
    "lenName": 16,
    "lenType": 16,
    "lenVar": 40
   },
   "kernels_config": {
    "python": {
     "delete_cmd_postfix": "",
     "delete_cmd_prefix": "del ",
     "library": "var_list.py",
     "varRefreshCmd": "print(var_dic_list())"
    },
    "r": {
     "delete_cmd_postfix": ") ",
     "delete_cmd_prefix": "rm(",
     "library": "var_list.r",
     "varRefreshCmd": "cat(var_dic_list()) "
    }
   },
   "types_to_exclude": [
    "module",
    "function",
    "builtin_function_or_method",
    "instance",
    "_Feature"
   ],
   "window_display": false
  }
 },
 "nbformat": 4,
 "nbformat_minor": 2
}
