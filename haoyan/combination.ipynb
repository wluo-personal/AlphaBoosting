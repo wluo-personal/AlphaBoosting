{
 "cells": [
  {
   "cell_type": "code",
   "execution_count": 1,
   "metadata": {
    "scrolled": true
   },
   "outputs": [
    {
     "name": "stdout",
     "output_type": "stream",
     "text": [
      "0\n",
      "1\n",
      "2\n",
      "3\n",
      "4\n",
      "done\n"
     ]
    }
   ],
   "source": [
    "import json\n",
    "import os\n",
    "import gc\n",
    "import numpy as np\n",
    "import pandas as pd\n",
    "\n",
    "def downsampling(positive_idx, negative_idx, ratio):\n",
    "    idx = np.random.choice(negative_idx, int(ratio*len(negative_idx)))\n",
    "    idx = np.concatenate((idx, positive_idx))\n",
    "    return np.sort(idx).astype(int).tolist()\n",
    "\n",
    "\n",
    "PATH1 = '/home/kai/data/kaggle/talkingdata/data/'\n",
    "PATH0 = '/home/kai/data/kaggle/talkingdata/haoyandata1/'\n",
    "PATH = '/home/kai/data/kaggle/talkingdata/downsampling/'\n",
    "\n",
    "file = {}\n",
    "train = pd.read_feather(PATH0 + 'train_cleaned.ftr')\n",
    "# train = pd.read_csv(PATH1 + 'train_cleaned.csv', nrows=10000)\n",
    "val_idx = (train['day'] == 9) & (train['hour'] == 13) | (train['hour'] == 17) | (train['hour'] == 21)\n",
    "file['val_idx'] = val_idx[val_idx].index.values.astype(int).tolist()\n",
    "\n",
    "\n",
    "# Downsampling\n",
    "train = train[~val_idx]\n",
    "negative = list(train[train['is_attributed']==0].index.values)\n",
    "positive = list(train[train['is_attributed']==1].index.values)\n",
    "ratio = len(positive)/len(negative)\n",
    "idx_list = []\n",
    "for i in range(5):\n",
    "    idx_list.append(downsampling(positive, negative, ratio))\n",
    "    print(i)\n",
    "file['downsampling'] = idx_list\n",
    "with open(PATH + 'idx_file.json', 'w') as f:\n",
    "    json.dump(file, f)\n",
    "print('done')"
   ]
  },
  {
   "cell_type": "code",
   "execution_count": 2,
   "metadata": {
    "scrolled": false
   },
   "outputs": [
    {
     "name": "stdout",
     "output_type": "stream",
     "text": [
      "['train', 'woe', 'app', 'device']\n",
      "train_woe_app_device.ftr\n"
     ]
    }
   ],
   "source": [
    "import os\n",
    "import gc\n",
    "import json\n",
    "import pandas as pd\n",
    "\n",
    "PATH = '/home/kai/data/kaggle/talkingdata/haoyandata1/'\n",
    "DOWNSAMPLING_PATH = '/home/kai/data/kaggle/talkingdata/downsampling/'\n",
    "cols = ['os', 'hour', 'device', 'channel', 'app']\n",
    "with open(DOWNSAMPLING_PATH + 'idx_file.json', 'r') as f:\n",
    "    data = json.load(f)\n",
    "    val_idx = data['val_idx']\n",
    "    downsampling_idx = data['downsampling']\n",
    "\n",
    "train = pd.read_feather(PATH + 'train_cleaned.ftr')[cols]\n",
    "test = pd.read_feather(PATH + 'test_cleaned.ftr')[cols]\n",
    "for file in os.listdir(PATH):\n",
    "    tmp = file.split('.')\n",
    "    if tmp[0] != 'train_cleaned' and tmp[0] != 'test_cleaned' and tmp[1] == 'ftr':\n",
    "        ttmp = tmp[0].split('_')\n",
    "        print(ttmp)\n",
    "        print(file)\n",
    "        if ttmp[0] == 'train':\n",
    "            train['_'.join(ttmp[1:])] = pd.read_feather(PATH + file)\n",
    "        else:\n",
    "            test['_'.join(ttmp[2:])] = pd.read_feather(PATH + file)\n",
    "        gc.collect()"
   ]
  }
 ],
 "metadata": {
  "kernelspec": {
   "display_name": "Python 3",
   "language": "python",
   "name": "python3"
  },
  "language_info": {
   "codemirror_mode": {
    "name": "ipython",
    "version": 3
   },
   "file_extension": ".py",
   "mimetype": "text/x-python",
   "name": "python",
   "nbconvert_exporter": "python",
   "pygments_lexer": "ipython3",
   "version": "3.6.3"
  }
 },
 "nbformat": 4,
 "nbformat_minor": 2
}
