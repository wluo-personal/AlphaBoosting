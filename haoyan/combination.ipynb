{
 "cells": [
  {
   "cell_type": "code",
   "execution_count": null,
   "metadata": {
    "collapsed": true
   },
   "outputs": [],
   "source": [
    "import os\n",
    "\n",
    "PATH = '/home/kai/data/kaggle/talkingdata/haoyan_data/'\n",
    "cols = ['os', 'hour', 'device', 'channel', 'app']\n",
    "nrows = 10\n",
    "train = pd.read_feather(PATH + 'train_cleaned.ftr', usecols=cols, nrows=nrows)\n",
    "test = pd.read_feather(PATH + 'test_cleaned.ftr', usecols=cols, nrows=nrows)\n",
    "for file in os.listdir(PATH):\n",
    "    tmp = file.split('.')\n",
    "    if tmp[0] != 'train_cleaned' or tmp[0] != 'test_cleaned' and tmp[1] == 'ftr':\n",
    "        ttmp = tmp[0].split('_')\n",
    "        if ttmp[0] == 'train': train[ttmp[1]] = pd.read_feather(PATH + file, df_len=len(train))\n",
    "        else: test[ttmp[1]] == pd.read_feather(PATH + file, df_len=len(test))"
   ]
  }
 ],
 "metadata": {
  "kernelspec": {
   "display_name": "Python 3",
   "language": "python",
   "name": "python3"
  },
  "language_info": {
   "codemirror_mode": {
    "name": "ipython",
    "version": 3
   },
   "file_extension": ".py",
   "mimetype": "text/x-python",
   "name": "python",
   "nbconvert_exporter": "python",
   "pygments_lexer": "ipython3",
   "version": "3.6.3"
  }
 },
 "nbformat": 4,
 "nbformat_minor": 2
}
