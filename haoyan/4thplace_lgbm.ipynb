{
 "cells": [
  {
   "cell_type": "code",
   "execution_count": 1,
   "metadata": {
    "ExecuteTime": {
     "end_time": "2018-06-06T18:04:36.103428Z",
     "start_time": "2018-06-06T18:04:35.685470Z"
    },
    "collapsed": true
   },
   "outputs": [],
   "source": [
    "import pandas as pd\n",
    "import lightgbm as lgb\n",
    "import numpy as np\n",
    "import gc\n",
    "import os"
   ]
  },
  {
   "cell_type": "code",
   "execution_count": 2,
   "metadata": {
    "ExecuteTime": {
     "end_time": "2018-06-06T18:04:36.109715Z",
     "start_time": "2018-06-06T18:04:36.105151Z"
    }
   },
   "outputs": [
    {
     "name": "stdout",
     "output_type": "stream",
     "text": [
      "sup read done\n"
     ]
    }
   ],
   "source": [
    "# Load test_sup and find index\n",
    "load_path = '/home/kai/data/kaggle/talkingdata/4thplace/'                     \n",
    "print('sup read done')\n",
    "with open('./log.txt', 'w') as f: f.write('start\\n')"
   ]
  },
  {
   "cell_type": "code",
   "execution_count": 3,
   "metadata": {
    "ExecuteTime": {
     "end_time": "2018-06-06T18:04:53.466098Z",
     "start_time": "2018-06-06T18:04:36.111328Z"
    },
    "scrolled": true
   },
   "outputs": [
    {
     "name": "stdout",
     "output_type": "stream",
     "text": [
      "train(downsampled) done\n",
      "val done\n"
     ]
    }
   ],
   "source": [
    "load_path = '/home/kai/data/kaggle/talkingdata/4thplace/'\n",
    "file_format = '{}.ftr'\n",
    "train = pd.read_feather(load_path + '01.ftr')\n",
    "    \n",
    "print('train(downsampled) done')\n",
    "val = pd.read_feather(load_path + 'val1.ftr')\n",
    "print('val done')"
   ]
  },
  {
   "cell_type": "code",
   "execution_count": 4,
   "metadata": {
    "ExecuteTime": {
     "end_time": "2018-06-06T18:04:53.490822Z",
     "start_time": "2018-06-06T18:04:53.467820Z"
    }
   },
   "outputs": [
    {
     "name": "stdout",
     "output_type": "stream",
     "text": [
      "196\n"
     ]
    }
   ],
   "source": [
    "import random as rn\n",
    "import os\n",
    "\n",
    "target = 'is_attributed'\n",
    "os.environ['PYTHONHASHSEED'] = '0'\n",
    "seed = 2018\n",
    "np.random.seed(seed)\n",
    "rn.seed(seed)\n",
    "params = {\n",
    "        'objective': 'binary',\n",
    "        'boosting': 'gbdt',\n",
    "        'num_boost_round': 2000,\n",
    "        'learning_rate': 0.04,\n",
    "        'num_leaves': 76,\n",
    "        'num_threads': 20, # best speed: set to number of real cpu cores, which is vCPU/2\n",
    "        'device': 'cpu',\n",
    "        'max_depth': 7, # no limit. This is used to deal with over-fitting when #data is small.\n",
    "        'min_child_samples': 20,\n",
    "        'min_child_weight': 5,\n",
    "        'min_split_gain': 0,\n",
    "        'reg_alpha': 0,\n",
    "        'reg_lambda': 0,\n",
    "        'subsample': 1.0,\n",
    "        'subsample_for_bin': 200000,\n",
    "        'subsample_freq': 1,\n",
    "        'bagging_seed': seed,\n",
    "        'early_stopping_round':100,\n",
    "        'verbose': 0,\n",
    "        'scale_pos_weight': 32,#*0.00246100785192494,\n",
    "        'metric' : [ 'auc'],\n",
    "        'feature_fraction_seed': seed,\n",
    "        'drop_seed': seed,\n",
    "        'data_random_seed': seed,\n",
    "        'max_bin': 188,\n",
    "        'colsample_bytree': 0.45\n",
    "    }\n",
    "\n",
    "categorical_col = [ 'app', 'device', 'os', 'channel', 'hour', 'range_count_ip_day_hour']\n",
    "feature_cols = list(train.columns.values)\n",
    "remove_list = [\n",
    "    'click_count_in_next_n_hour_ip_app_os_channel_1',\n",
    "    'count_app_channel',\n",
    "    'count_ip_day',\n",
    "    'count_app_day_hourminute',\n",
    "    'unique_ratio_day_ip_machine',\n",
    "    'unique_ratio_day_ip_device',\n",
    "    'unique_ratio_day_ip_app',\n",
    "    'unique_ratio_machine_channel',\n",
    "    'unique_ratio_day_ip_os',\n",
    "    'unique_ratio_machine_app',\n",
    "    'unique_ratio_machine_ip',\n",
    "    'cumcount_ip_app_device_os_day_hour',\n",
    "    'range_count_ip_channel_dayhourminute',\n",
    "    'range_count_ip_day',\n",
    "    'range_count_ip_device_os_dayhourminute',\n",
    "    'range_count_ip_dayhourminute',\n",
    "    'range_count_ip_dayhourminute10',\n",
    "    'range_count_app_os_channel_dayhourminute',\n",
    "    'com_ip','index', 'click_id', 'ip','click_time', 'is_test', 'is_attributed', 'day',\n",
    "    'minute', 'minute10', 'hourminute', 'hourminute10', 'dayhourminute', 'dayhourminute10', 'machine', 'click_timestamp',\n",
    "    'filter_time_to_n_next_click_2_day_ip_app_device_os',\n",
    "    'filter_time_to_n_next_click_1_day_ip_app_device_os'\n",
    "]\n",
    "feature_cols = [x for x in feature_cols if x not in remove_list]\n",
    "print(len(feature_cols))\n",
    "# print(feature_cols)"
   ]
  },
  {
   "cell_type": "code",
   "execution_count": 5,
   "metadata": {
    "ExecuteTime": {
     "end_time": "2018-06-06T18:04:53.514504Z",
     "start_time": "2018-06-06T18:04:53.492327Z"
    }
   },
   "outputs": [
    {
     "name": "stdout",
     "output_type": "stream",
     "text": [
      "['app', 'device', 'os', 'channel', 'hour', 'click_count_in_previous_n_hour_ip_device_app_1', 'click_count_in_previous_n_hour_device_6', 'woe_ip_app_channel', 'click_count_in_previous_n_hour_ip_os_6', 'click_count_in_next_n_hour_os_1', 'woe_ip_device_nextClickLeakDayFlt', 'click_count_in_previous_n_hour_ip_device_channel_1', 'nunique_machine_app', 'woe_os_channel_nextClickLeakDayFlt', 'variance_ip_device_hour', 'range_count_ip_device_os_dayhourminute10', 'click_count_in_next_n_hour_ip_device_app_os_1', 'click_count_in_next_n_hour_device_1', 'woe_app_device_os_channel', 'woe_channel', 'count_ip_app_os_channel', 'nunique_day_ip_os', 'click_count_in_previous_n_hour_ip_device_app_os_1', 'click_count_in_next_n_hour_device_app_channel_6', 'click_count_in_previous_n_hour_ip_channel_1', 'woe_app_nextClickLeakDayFlt', 'woe_ip_channel', 'click_count_in_previous_n_hour_channel_1', 'nunique_machine_channel', 'click_count_in_next_n_hour_os_6', 'click_count_in_next_n_hour_device_app_6', 'click_count_in_next_n_hour_ip_app_6', 'time_to_n_next_click_1_day_ip_app_device_os', 'click_count_in_next_n_hour_device_os_channel_1', 'woe_os', 'click_count_in_next_n_hour_app_os_channel_6', 'click_count_in_next_n_hour_ip_device_channel_1', 'click_count_in_previous_n_hour_device_channel_1', 'woe_ip_device_os_channel', 'click_count_in_next_n_hour_ip_device_1', 'count_ip_app_device_day', 'com1_ip', 'count_ratio_ip_machine', 'count_ip_app_device_os_day_hour', 'click_count_in_next_n_hour_os_channel_1', 'click_count_in_previous_n_hour_app_os_channel_1', 'click_count_in_previous_n_hour_device_os_6', 'click_count_in_previous_n_hour_ip_device_app_6', 'click_count_in_previous_n_hour_device_app_channel_1', 'count_app_device_day_hour', 'click_count_in_next_n_hour_ip_device_os_channel_1', 'woe_app_device_os', 'click_count_in_previous_n_hour_channel_6', 'woe_ip_app_os_channel', 'click_count_in_previous_n_hour_ip_device_app_channel_6', 'range_count_app_os_channel_dayhourminute10', 'woe_app_os_channel', 'unique_ratio_day_ip_channel', 'click_count_in_previous_n_hour_ip_app_os_6', 'click_count_in_previous_n_hour_ip_device_1', 'click_count_in_previous_n_hour_device_app_os_1', 'click_count_in_previous_n_hour_ip_os_channel_1', 'woe_ip', 'click_count_in_previous_n_hour_device_1', 'cumcount_ip_day', 'click_count_in_previous_n_hour_ip_device_app_os_6', 'click_count_in_previous_n_hour_ip_app_os_channel_1', 'nunique_day_ip_channel', 'woe_ip_channel_nextClickLeakDayFlt', 'click_count_in_next_n_hour_device_os_6', 'woe_ip_device', 'range_count_ip_channel_dayhourminute10', 'click_count_in_previous_n_hour_app_os_1', 'cumcount_app_device_os_day', 'click_count_in_previous_n_hour_ip_app_os_1', 'click_count_in_previous_n_hour_os_channel_6', 'click_count_in_next_n_hour_ip_device_app_os_6', 'count_ratio_app_channel', 'woe_ip_app_nextClickLeakDayFlt', 'click_count_in_previous_n_hour_device_app_1', 'click_count_in_next_n_hour_app_os_6', 'click_count_in_previous_n_hour_device_os_channel_1', 'click_count_in_next_n_hour_ip_app_os_1', 'count_ratio_channel_app', 'nunique_day_ip_device', 'click_count_in_next_n_hour_ip_channel_1', 'click_count_in_next_n_hour_app_os_1', 'click_count_in_previous_n_hour_ip_app_1', 'click_count_in_previous_n_hour_ip_device_os_6', 'click_count_in_previous_n_hour_ip_device_channel_6', 'click_count_in_next_n_hour_app_channel_6', 'woe_device_channel_nextClickLeakDayFlt', 'click_count_in_next_n_hour_ip_channel_6', 'click_count_in_next_n_hour_ip_device_app_channel_6', 'click_count_in_next_n_hour_channel_1', 'woe_ip_device_channel', 'click_count_in_previous_n_hour_os_6', 'woe_ip_app_device_os', 'count_ratio_ip_channel', 'woe_app_device', 'click_count_in_next_n_hour_ip_os_1', 'count_ip', 'woe_device_os_nextClickLeakDayFlt', 'click_count_in_previous_n_hour_ip_device_os_1', 'click_count_in_next_n_hour_ip_app_channel_1', 'nunique_machine_ip', 'click_count_in_next_n_hour_ip_app_os_6', 'click_count_in_previous_n_hour_device_app_os_6', 'count_app_os_channel_day_hour', 'woe_channel_nextClickLeakDayFlt', 'click_count_in_next_n_hour_device_os_channel_6', 'click_count_in_previous_n_hour_os_1', 'click_count_in_next_n_hour_app_channel_1', 'click_count_in_previous_n_hour_device_os_channel_6', 'click_count_in_previous_n_hour_app_6', 'count_ip_os', 'click_count_in_next_n_hour_device_app_os_1', 'time_to_n_next_click_2_day_ip_app_device_os', 'click_count_in_previous_n_hour_ip_1', 'woe_ip_app_os', 'nunique_day_ip_app', 'click_count_in_previous_n_hour_app_os_channel_6', 'click_count_in_previous_n_hour_ip_channel_6', 'woe_app_os', 'woe_ip_app_device', 'click_count_in_next_n_hour_ip_os_channel_6', 'click_count_in_previous_n_hour_ip_device_app_channel_1', 'click_count_in_previous_n_hour_ip_device_6', 'click_count_in_next_n_hour_ip_device_os_1', 'click_count_in_previous_n_hour_ip_device_os_channel_1', 'click_count_in_previous_n_hour_os_channel_1', 'woe_ip_app_device_channel', 'click_count_in_previous_n_hour_ip_6', 'click_count_in_next_n_hour_device_app_1', 'click_count_in_next_n_hour_channel_6', 'woe_ip_nextClickLeakDayFlt', 'click_count_in_previous_n_hour_ip_device_os_channel_6', 'click_count_in_next_n_hour_ip_device_app_6', 'woe_device', 'woe_app_device_nextClickLeakDayFlt', 'count_ip_app_os_channel_day', 'click_count_in_next_n_hour_ip_device_app_1', 'count_ip_device_os_day_hourminute10', 'woe_app_channel_nextClickLeakDayFlt', 'click_count_in_previous_n_hour_app_os_6', 'click_count_in_next_n_hour_device_6', 'woe_ip_os', 'click_count_in_next_n_hour_ip_os_channel_1', 'click_count_in_previous_n_hour_ip_app_channel_6', 'click_count_in_previous_n_hour_ip_os_1', 'click_count_in_previous_n_hour_app_1', 'click_count_in_previous_n_hour_device_channel_6', 'click_count_in_next_n_hour_ip_6', 'click_count_in_next_n_hour_app_6', 'click_count_in_next_n_hour_app_1', 'nunique_day_ip_machine', 'click_count_in_next_n_hour_ip_app_1', 'click_count_in_next_n_hour_ip_device_6', 'click_count_in_next_n_hour_device_app_os_6', 'click_count_in_next_n_hour_ip_device_os_channel_6', 'click_count_in_previous_n_hour_ip_app_6', 'woe_app_os_nextClickLeakDayFlt', 'click_count_in_next_n_hour_device_os_1', 'click_count_in_next_n_hour_device_app_channel_1', 'woe_ip_os_channel', 'click_count_in_next_n_hour_ip_device_app_channel_1', 'click_count_in_previous_n_hour_device_os_1', 'woe_ip_app', 'click_count_in_previous_n_hour_device_app_6', 'count_device_os_day_hourminute10', 'click_count_in_previous_n_hour_device_app_channel_6', 'click_count_in_previous_n_hour_app_channel_1', 'click_count_in_next_n_hour_device_channel_6', 'woe_app', 'click_count_in_next_n_hour_app_os_channel_1', 'click_count_in_next_n_hour_device_channel_1', 'click_count_in_next_n_hour_ip_1', 'click_count_in_next_n_hour_ip_app_channel_6', 'count_app_device_channel_day_hour', 'click_count_in_next_n_hour_ip_device_os_6', 'click_count_in_previous_n_hour_app_channel_6', 'click_count_in_next_n_hour_ip_device_channel_6', 'woe_ip_os_nextClickLeakDayFlt', 'click_count_in_previous_n_hour_ip_app_channel_1', 'woe_os_nextClickLeakDayFlt', 'click_count_in_previous_n_hour_ip_os_channel_6', 'count_ratio_machine_ip', 'range_count_ip_day_hour', 'click_count_in_next_n_hour_os_channel_6', 'woe_app_device_channel', 'woe_ip_device_os', 'woe_device_nextClickLeakDayFlt', 'click_count_in_next_n_hour_ip_os_6', 'count_ip_app_device_channel_day', 'woe_app_channel', 'cumcount_ratio_ip_day']\n"
     ]
    }
   ],
   "source": [
    "print(feature_cols)"
   ]
  },
  {
   "cell_type": "code",
   "execution_count": 6,
   "metadata": {
    "ExecuteTime": {
     "end_time": "2018-06-06T18:04:53.533377Z",
     "start_time": "2018-06-06T18:04:53.517628Z"
    },
    "collapsed": true
   },
   "outputs": [],
   "source": [
    "def train_lightgbm(x_train, x_val, feature_cols, categorical_feature, params, best_round = None, target='is_attributed'):\n",
    "    param = params.copy()\n",
    "    y_train = x_train[target].values\n",
    "    y_val = x_val[target].values\n",
    "    \n",
    "    lgb_train = lgb.Dataset(x_train[feature_cols], y_train, categorical_feature = categorical_feature)\n",
    "    lgb_val = lgb.Dataset(x_val[feature_cols], y_val, categorical_feature = categorical_feature)\n",
    "    print('start training')\n",
    "    model = lgb.train(param, train_set=lgb_train, valid_sets=lgb_val, verbose_eval=10)\n",
    "    return model\n"
   ]
  },
  {
   "cell_type": "markdown",
   "metadata": {},
   "source": [
    "# Train model and get prediction"
   ]
  },
  {
   "cell_type": "code",
   "execution_count": 7,
   "metadata": {
    "ExecuteTime": {
     "end_time": "2018-06-06T18:21:48.753534Z",
     "start_time": "2018-06-06T18:04:53.535575Z"
    }
   },
   "outputs": [
    {
     "name": "stdout",
     "output_type": "stream",
     "text": [
      "start training\n"
     ]
    },
    {
     "name": "stderr",
     "output_type": "stream",
     "text": [
      "/home/kai/anaconda3/lib/python3.6/site-packages/lightgbm/engine.py:99: UserWarning: Found `num_boost_round` in params. Will use it instead of argument\n",
      "  warnings.warn(\"Found `{}` in params. Will use it instead of argument\".format(alias))\n",
      "/home/kai/anaconda3/lib/python3.6/site-packages/lightgbm/engine.py:104: UserWarning: Found `early_stopping_round` in params. Will use it instead of argument\n",
      "  warnings.warn(\"Found `{}` in params. Will use it instead of argument\".format(alias))\n",
      "/home/kai/anaconda3/lib/python3.6/site-packages/lightgbm/basic.py:1027: UserWarning: Using categorical_feature in Dataset.\n",
      "  warnings.warn('Using categorical_feature in Dataset.')\n",
      "/home/kai/anaconda3/lib/python3.6/site-packages/lightgbm/basic.py:668: UserWarning: categorical_feature in param dict is overrided.\n",
      "  warnings.warn('categorical_feature in param dict is overrided.')\n"
     ]
    },
    {
     "name": "stdout",
     "output_type": "stream",
     "text": [
      "Training until validation scores don't improve for 100 rounds.\n",
      "[10]\tvalid_0's auc: 0.978885\n",
      "[20]\tvalid_0's auc: 0.979627\n",
      "[30]\tvalid_0's auc: 0.980446\n",
      "[40]\tvalid_0's auc: 0.981446\n",
      "[50]\tvalid_0's auc: 0.981775\n",
      "[60]\tvalid_0's auc: 0.982056\n",
      "[70]\tvalid_0's auc: 0.982652\n",
      "[80]\tvalid_0's auc: 0.983629\n",
      "[90]\tvalid_0's auc: 0.98446\n",
      "[100]\tvalid_0's auc: 0.984684\n",
      "[110]\tvalid_0's auc: 0.984961\n",
      "[120]\tvalid_0's auc: 0.985087\n",
      "[130]\tvalid_0's auc: 0.985242\n",
      "[140]\tvalid_0's auc: 0.985339\n",
      "[150]\tvalid_0's auc: 0.985419\n",
      "[160]\tvalid_0's auc: 0.98543\n",
      "[170]\tvalid_0's auc: 0.985527\n",
      "[180]\tvalid_0's auc: 0.985553\n",
      "[190]\tvalid_0's auc: 0.985547\n",
      "[200]\tvalid_0's auc: 0.985583\n",
      "[210]\tvalid_0's auc: 0.98562\n",
      "[220]\tvalid_0's auc: 0.985642\n",
      "[230]\tvalid_0's auc: 0.98561\n",
      "[240]\tvalid_0's auc: 0.985574\n",
      "[250]\tvalid_0's auc: 0.985597\n",
      "[260]\tvalid_0's auc: 0.985629\n",
      "[270]\tvalid_0's auc: 0.985611\n",
      "[280]\tvalid_0's auc: 0.985635\n",
      "[290]\tvalid_0's auc: 0.985637\n",
      "[300]\tvalid_0's auc: 0.985638\n",
      "[310]\tvalid_0's auc: 0.985645\n",
      "[320]\tvalid_0's auc: 0.98562\n",
      "[330]\tvalid_0's auc: 0.985635\n",
      "[340]\tvalid_0's auc: 0.985637\n",
      "[350]\tvalid_0's auc: 0.985597\n",
      "[360]\tvalid_0's auc: 0.985616\n",
      "[370]\tvalid_0's auc: 0.985538\n",
      "[380]\tvalid_0's auc: 0.9855\n",
      "[390]\tvalid_0's auc: 0.985506\n",
      "Early stopping, best iteration is:\n",
      "[299]\tvalid_0's auc: 0.98566\n",
      "prediction done\n"
     ]
    }
   ],
   "source": [
    "model = train_lightgbm(train, val, feature_cols, categorical_col, params)\n",
    "with open('./log.txt', 'a') as f: f.write('train done\\n')\n",
    "print('prediction done')"
   ]
  },
  {
   "cell_type": "code",
   "execution_count": 8,
   "metadata": {
    "ExecuteTime": {
     "end_time": "2018-06-06T18:21:49.665346Z",
     "start_time": "2018-06-06T18:21:48.755230Z"
    },
    "scrolled": false
   },
   "outputs": [
    {
     "ename": "NameError",
     "evalue": "name 'test_supplement' is not defined",
     "output_type": "error",
     "traceback": [
      "\u001b[0;31m---------------------------------------------------------------------------\u001b[0m",
      "\u001b[0;31mNameError\u001b[0m                                 Traceback (most recent call last)",
      "\u001b[0;32m<ipython-input-8-ece221f54699>\u001b[0m in \u001b[0;36m<module>\u001b[0;34m()\u001b[0m\n\u001b[0;32m----> 1\u001b[0;31m \u001b[0mprint\u001b[0m\u001b[0;34m(\u001b[0m\u001b[0mtest_supplement\u001b[0m\u001b[0;34m.\u001b[0m\u001b[0mcolumns\u001b[0m\u001b[0;34m.\u001b[0m\u001b[0mvalues\u001b[0m\u001b[0;34m)\u001b[0m\u001b[0;34m\u001b[0m\u001b[0m\n\u001b[0m",
      "\u001b[0;31mNameError\u001b[0m: name 'test_supplement' is not defined"
     ]
    }
   ],
   "source": [
    "print(test_supplement.columns.values)"
   ]
  },
  {
   "cell_type": "code",
   "execution_count": null,
   "metadata": {
    "ExecuteTime": {
     "end_time": "2018-06-06T18:21:49.666781Z",
     "start_time": "2018-06-06T18:04:35.746Z"
    }
   },
   "outputs": [],
   "source": [
    "test_supplement = pd.read_feather(load_path + 'test_cleaned1.ftr')\n",
    "with open('./log.txt', 'a') as f: f.write('test rading done\\n')\n",
    "test_index = np.load('/home/kai/data/kaggle/talkingdata/data/supplement2testInexFinal.npy')\n",
    "test = test_supplement.iloc[test_index]\n",
    "print(test.shape)\n",
    "pred = model.predict(test[feature_cols])\n",
    "with open('./log.txt', 'a') as f: f.write('test done\\n')\n",
    "print('done')"
   ]
  },
  {
   "cell_type": "markdown",
   "metadata": {},
   "source": [
    "# Submit result"
   ]
  },
  {
   "cell_type": "code",
   "execution_count": null,
   "metadata": {
    "ExecuteTime": {
     "end_time": "2018-06-06T18:21:49.668221Z",
     "start_time": "2018-06-06T18:04:35.748Z"
    }
   },
   "outputs": [],
   "source": [
    "sub_dict = {}\n",
    "df_sub = pd.DataFrame()\n",
    "test_clickid = pd.read_csv('/home/kai/data/kaggle/talkingdata/data/test.csv', usecols=['click_id'])\n",
    "with open('./log.txt', 'a') as f: f.write('test old done\\n')\n",
    "print('done')\n",
    "df_sub['click_id'] = test_clickid['click_id']\n",
    "df_sub['is_attributed'] = pred\n",
    "print('predicting file done!')\n",
    "with open('./log.txt', 'a') as f: f.write('saving\\n')\n",
    "df_sub.to_csv('/home/kai/data/kaggle/talkingdata/4thplace/b2.csv.gz', compression='gzip', index=False)\n",
    "with open('./log.txt', 'a') as f: f.write('done\\n')\n",
    "print('done')"
   ]
  },
  {
   "cell_type": "code",
   "execution_count": null,
   "metadata": {
    "collapsed": true
   },
   "outputs": [],
   "source": []
  }
 ],
 "metadata": {
  "kernelspec": {
   "display_name": "Python 3",
   "language": "python",
   "name": "python3"
  },
  "language_info": {
   "codemirror_mode": {
    "name": "ipython",
    "version": 3
   },
   "file_extension": ".py",
   "mimetype": "text/x-python",
   "name": "python",
   "nbconvert_exporter": "python",
   "pygments_lexer": "ipython3",
   "version": "3.6.3"
  },
  "varInspector": {
   "cols": {
    "lenName": 16,
    "lenType": 16,
    "lenVar": 40
   },
   "kernels_config": {
    "python": {
     "delete_cmd_postfix": "",
     "delete_cmd_prefix": "del ",
     "library": "var_list.py",
     "varRefreshCmd": "print(var_dic_list())"
    },
    "r": {
     "delete_cmd_postfix": ") ",
     "delete_cmd_prefix": "rm(",
     "library": "var_list.r",
     "varRefreshCmd": "cat(var_dic_list()) "
    }
   },
   "types_to_exclude": [
    "module",
    "function",
    "builtin_function_or_method",
    "instance",
    "_Feature"
   ],
   "window_display": false
  }
 },
 "nbformat": 4,
 "nbformat_minor": 2
}
