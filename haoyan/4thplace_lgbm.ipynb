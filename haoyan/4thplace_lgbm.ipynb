{
 "cells": [
  {
   "cell_type": "code",
   "execution_count": 1,
   "metadata": {
    "ExecuteTime": {
     "end_time": "2018-05-24T20:45:37.370491Z",
     "start_time": "2018-05-24T20:45:37.054828Z"
    },
    "collapsed": true
   },
   "outputs": [],
   "source": [
    "import pandas as pd\n",
    "import lightgbm as lgb\n",
    "import numpy as np\n",
    "import gc\n",
    "import os"
   ]
  },
  {
   "cell_type": "code",
   "execution_count": 3,
   "metadata": {
    "ExecuteTime": {
     "end_time": "2018-05-24T20:45:42.307958Z",
     "start_time": "2018-05-24T20:45:42.300902Z"
    }
   },
   "outputs": [
    {
     "name": "stdout",
     "output_type": "stream",
     "text": [
      "sup read done\n",
      "slicing without correction done\n"
     ]
    }
   ],
   "source": [
    "# Load test_sup and find index\n",
    "load_path = '/home/kai/data/kaggle/talkingdata/downsampling/'                     \n",
    "print('sup read done')"
   ]
  },
  {
   "cell_type": "code",
   "execution_count": 5,
   "metadata": {
    "ExecuteTime": {
     "end_time": "2018-05-24T20:46:32.873411Z",
     "start_time": "2018-05-24T20:45:54.994296Z"
    },
    "scrolled": true
   },
   "outputs": [
    {
     "name": "stdout",
     "output_type": "stream",
     "text": [
      "train(downsampled) done\n",
      "val done\n"
     ]
    }
   ],
   "source": [
    "load_path = '/home/kai/data/kaggle/talkingdata/downsampling/'\n",
    "file_format = '{}.ftr'\n",
    "# train = pd.read_feather(poad_path + 'train_cleaned.ftr')\n",
    "train = pd.read_feather(load_path + '0.ftr')\n",
    "    \n",
    "print('train(downsampled) done')\n",
    "val = pd.read_feather(load_path + 'val.ftr')\n",
    "print('val done')"
   ]
  },
  {
   "cell_type": "code",
   "execution_count": 10,
   "metadata": {
    "ExecuteTime": {
     "end_time": "2018-05-24T20:52:50.289501Z",
     "start_time": "2018-05-24T20:52:50.138160Z"
    }
   },
   "outputs": [
    {
     "name": "stdout",
     "output_type": "stream",
     "text": [
      "83\n"
     ]
    }
   ],
   "source": [
    "import random as rn\n",
    "import os\n",
    "\n",
    "target = 'is_attributed'\n",
    "os.environ['PYTHONHASHSEED'] = '0'\n",
    "seed = 2018\n",
    "np.random.seed(seed)\n",
    "rn.seed(seed)\n",
    "params = {\n",
    "        'objective': 'binary',\n",
    "        'boosting': 'gbdt',\n",
    "        'num_boost_round': 2000,\n",
    "        'learning_rate': 0.05,\n",
    "        'num_leaves': 70,\n",
    "        'num_threads': 16, # best speed: set to number of real cpu cores, which is vCPU/2\n",
    "        'device': 'cpu',\n",
    "        'max_depth': int(np.log2(74)+1.2), # no limit. This is used to deal with over-fitting when #data is small.\n",
    "        'min_child_samples': 20,\n",
    "        'min_child_weight': 5,\n",
    "        'min_split_gain': 0,\n",
    "        'reg_alpha': 0,\n",
    "        'reg_lambda': 0,\n",
    "        'subsample': 1.0,\n",
    "        'subsample_for_bin': 200000,\n",
    "        'subsample_freq': 1,\n",
    "        'bagging_seed': seed,\n",
    "        'early_stopping_round':100,\n",
    "        'verbose': 0,\n",
    "        'scale_pos_weight': 5,\n",
    "        'metric' : [ 'auc'],\n",
    "        'bagging_seed': seed,\n",
    "        'feature_fraction_seed': seed,\n",
    "        'feature_fraction': 0.7,\n",
    "        'drop_seed': seed,\n",
    "        'data_random_seed': seed,\n",
    "        'max_bin': 305,\n",
    "        'colsample_bytree': 309\n",
    "    }\n",
    "\n",
    "categorical_col = [ 'app', 'device', 'os', 'channel', 'hour', 'range_count_ip_day_hour']\n",
    "feature_cols = list(train.columns.values)\n",
    "remove_list = [\n",
    "    'count_app_channel',\n",
    "    'count_ip_day',\n",
    "    'count_app_day_hourminute',\n",
    "    'unique_ratio_day_ip_machine',\n",
    "    'unique_ratio_day_ip_device',\n",
    "    'unique_ratio_day_ip_app',\n",
    "    'unique_ratio_machine_channel',\n",
    "    'unique_ratio_day_ip_os',\n",
    "    'unique_ratio_machine_app',\n",
    "    'unique_ratio_machine_ip',\n",
    "    'cumcount_ip_app_device_os_day_hour',\n",
    "    'range_count_ip_channel_dayhourminute',\n",
    "    'range_count_ip_day',\n",
    "    'range_count_ip_device_os_dayhourminute',\n",
    "    'range_count_ip_dayhourminute',\n",
    "    'range_count_ip_dayhourminute10',\n",
    "    'range_count_app_os_channel_dayhourminute',\n",
    "    'com_ip','index', 'click_id', 'ip','click_time', 'is_test', 'is_attributed', 'day',\n",
    "    'minute', 'minute10', 'hourminute', 'hourminute10', 'dayhourminute', 'dayhourminute10', 'machine', 'click_timestamp',\n",
    "    'filter_time_to_n_next_click_2_day_ip_app_device_os',\n",
    "    'filter_time_to_n_next_click_1_day_ip_app_device_os'\n",
    "]\n",
    "feature_cols = [x for x in feature_cols if x not in remove_list]\n",
    "print(len(feature_cols))\n",
    "# print(feature_cols)"
   ]
  },
  {
   "cell_type": "code",
   "execution_count": 11,
   "metadata": {
    "ExecuteTime": {
     "end_time": "2018-05-24T20:52:59.600502Z",
     "start_time": "2018-05-24T20:52:59.594416Z"
    },
    "collapsed": true
   },
   "outputs": [],
   "source": [
    "def train_lightgbm(x_train, x_val, feature_cols, categorical_feature, params, best_round = None, target='is_attributed'):\n",
    "    param = params.copy()\n",
    "    y_train = x_train[target].values\n",
    "    y_val = x_val[target].values\n",
    "    \n",
    "    lgb_train = lgb.Dataset(x_train[feature_cols], y_train, categorical_feature = categorical_feature)\n",
    "    lgb_val = lgb.Dataset(x_val[feature_cols], y_val, categorical_feature = categorical_feature)\n",
    "    print('start training')\n",
    "    model = lgb.train(param, train_set=lgb_train, valid_sets=lgb_val, verbose_eval=10)\n",
    "    return model\n"
   ]
  },
  {
   "cell_type": "markdown",
   "metadata": {},
   "source": [
    "# Train model and get prediction"
   ]
  },
  {
   "cell_type": "code",
   "execution_count": 12,
   "metadata": {
    "ExecuteTime": {
     "end_time": "2018-05-24T21:02:51.697587Z",
     "start_time": "2018-05-24T20:53:10.471542Z"
    }
   },
   "outputs": [
    {
     "name": "stdout",
     "output_type": "stream",
     "text": [
      "start training\n"
     ]
    },
    {
     "name": "stderr",
     "output_type": "stream",
     "text": [
      "/home/kai/anaconda3/lib/python3.6/site-packages/lightgbm/engine.py:99: UserWarning: Found `num_boost_round` in params. Will use it instead of argument\n",
      "  warnings.warn(\"Found `{}` in params. Will use it instead of argument\".format(alias))\n",
      "/home/kai/anaconda3/lib/python3.6/site-packages/lightgbm/engine.py:104: UserWarning: Found `early_stopping_round` in params. Will use it instead of argument\n",
      "  warnings.warn(\"Found `{}` in params. Will use it instead of argument\".format(alias))\n",
      "/home/kai/anaconda3/lib/python3.6/site-packages/lightgbm/basic.py:1027: UserWarning: Using categorical_feature in Dataset.\n",
      "  warnings.warn('Using categorical_feature in Dataset.')\n",
      "/home/kai/anaconda3/lib/python3.6/site-packages/lightgbm/basic.py:668: UserWarning: categorical_feature in param dict is overrided.\n",
      "  warnings.warn('categorical_feature in param dict is overrided.')\n"
     ]
    },
    {
     "name": "stdout",
     "output_type": "stream",
     "text": [
      "Training until validation scores don't improve for 100 rounds.\n",
      "[10]\tvalid_0's auc: 0.981003\n",
      "[20]\tvalid_0's auc: 0.981718\n",
      "[30]\tvalid_0's auc: 0.982457\n",
      "[40]\tvalid_0's auc: 0.98358\n",
      "[50]\tvalid_0's auc: 0.984147\n",
      "[60]\tvalid_0's auc: 0.984627\n",
      "[70]\tvalid_0's auc: 0.984823\n",
      "[80]\tvalid_0's auc: 0.984884\n",
      "[90]\tvalid_0's auc: 0.984894\n",
      "[100]\tvalid_0's auc: 0.984987\n",
      "[110]\tvalid_0's auc: 0.985067\n",
      "[120]\tvalid_0's auc: 0.985049\n",
      "[130]\tvalid_0's auc: 0.985038\n",
      "[140]\tvalid_0's auc: 0.985108\n",
      "[150]\tvalid_0's auc: 0.985162\n",
      "[160]\tvalid_0's auc: 0.985194\n",
      "[170]\tvalid_0's auc: 0.985193\n",
      "[180]\tvalid_0's auc: 0.985175\n",
      "[190]\tvalid_0's auc: 0.985119\n",
      "[200]\tvalid_0's auc: 0.985136\n",
      "[210]\tvalid_0's auc: 0.98513\n",
      "[220]\tvalid_0's auc: 0.985149\n",
      "[230]\tvalid_0's auc: 0.985147\n",
      "[240]\tvalid_0's auc: 0.985154\n",
      "[250]\tvalid_0's auc: 0.985163\n",
      "[260]\tvalid_0's auc: 0.985132\n",
      "Early stopping, best iteration is:\n",
      "[169]\tvalid_0's auc: 0.985229\n",
      "prediction done\n"
     ]
    }
   ],
   "source": [
    "model = train_lightgbm(train, val, feature_cols, categorical_col, params)\n",
    "print('prediction done')"
   ]
  },
  {
   "cell_type": "code",
   "execution_count": 13,
   "metadata": {
    "ExecuteTime": {
     "end_time": "2018-05-24T21:03:01.652587Z",
     "start_time": "2018-05-24T21:03:01.650684Z"
    },
    "collapsed": true
   },
   "outputs": [],
   "source": [
    "# test_supplement = pd.read_feather(load_path + 'test_cleaned.ftr')\n",
    "# test_index = np.load('/home/kai/data/kaggle/talkingdata/data/supplement2testInexFinal.npy')\n",
    "# test = test_supplement.iloc[test_index]\n",
    "# print(test.shape)\n",
    "# pred = model.predict(test[feature_cols])\n",
    "# print('done')"
   ]
  },
  {
   "cell_type": "markdown",
   "metadata": {},
   "source": [
    "# Submit result"
   ]
  },
  {
   "cell_type": "code",
   "execution_count": null,
   "metadata": {
    "ExecuteTime": {
     "start_time": "2018-05-24T20:43:58.814Z"
    },
    "collapsed": true
   },
   "outputs": [],
   "source": [
    "sub_dict = {}\n",
    "df_sub = pd.DataFrame()\n",
    "test_clickid = pd.read_csv('/home/kai/data/kaggle/talkingdata/data/test.csv', usecols=['click_id'])\n",
    "print('done')\n",
    "df_sub['click_id'] = test_clickid['click_id']\n",
    "df_sub['is_attributed'] = pred\n",
    "print('predicting file done!')\n",
    "df_sub.to_csv('/home/kai/data/kaggle/talkingdata/downsampling/result/b1.csv.gz', compression='gzip', index=False)"
   ]
  },
  {
   "cell_type": "code",
   "execution_count": null,
   "metadata": {
    "collapsed": true
   },
   "outputs": [],
   "source": []
  }
 ],
 "metadata": {
  "kernelspec": {
   "display_name": "Python 3",
   "language": "python",
   "name": "python3"
  },
  "language_info": {
   "codemirror_mode": {
    "name": "ipython",
    "version": 3
   },
   "file_extension": ".py",
   "mimetype": "text/x-python",
   "name": "python",
   "nbconvert_exporter": "python",
   "pygments_lexer": "ipython3",
   "version": "3.6.3"
  },
  "varInspector": {
   "cols": {
    "lenName": 16,
    "lenType": 16,
    "lenVar": 40
   },
   "kernels_config": {
    "python": {
     "delete_cmd_postfix": "",
     "delete_cmd_prefix": "del ",
     "library": "var_list.py",
     "varRefreshCmd": "print(var_dic_list())"
    },
    "r": {
     "delete_cmd_postfix": ") ",
     "delete_cmd_prefix": "rm(",
     "library": "var_list.r",
     "varRefreshCmd": "cat(var_dic_list()) "
    }
   },
   "types_to_exclude": [
    "module",
    "function",
    "builtin_function_or_method",
    "instance",
    "_Feature"
   ],
   "window_display": false
  }
 },
 "nbformat": 4,
 "nbformat_minor": 2
}
