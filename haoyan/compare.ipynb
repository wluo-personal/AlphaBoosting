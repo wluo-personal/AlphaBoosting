{
 "cells": [
  {
   "cell_type": "code",
   "execution_count": 1,
   "metadata": {
    "ExecuteTime": {
     "end_time": "2018-06-01T01:24:02.511005Z",
     "start_time": "2018-06-01T01:23:37.536746Z"
    }
   },
   "outputs": [
    {
     "name": "stdout",
     "output_type": "stream",
     "text": [
      "0\n"
     ]
    }
   ],
   "source": [
    "# count\n",
    "\n",
    "import pandas as pd\n",
    "PATH = '/home/kai/data/shiyi/Kaggle/talkingdata/sc/TalkingData_4th_solution/work/'\n",
    "PATH1 = '/home/kai/data/kaggle/talkingdata/haoyandata/'\n",
    "x = pd.read_csv(PATH + 'train_count_app_day_hourminute.csv')\n",
    "y = pd.read_feather(PATH1 + 'train__count_app_day_hourminute.ftr')\n",
    "print(sum(abs(x[x.columns.values[0]]-y[y.columns.values[0]])))"
   ]
  },
  {
   "cell_type": "code",
   "execution_count": 10,
   "metadata": {
    "ExecuteTime": {
     "end_time": "2018-06-01T13:58:42.494254Z",
     "start_time": "2018-06-01T13:57:56.951972Z"
    }
   },
   "outputs": [
    {
     "name": "stdout",
     "output_type": "stream",
     "text": [
      "0.152905592784\n"
     ]
    }
   ],
   "source": [
    "# count ratio\n",
    "\n",
    "import pandas as pd\n",
    "PATH = '/home/kai/data/shiyi/Kaggle/talkingdata/sc/TalkingData_4th_solution/work/'\n",
    "PATH1 = '/home/kai/data/kaggle/talkingdata/haoyandata/'\n",
    "x = pd.read_csv(PATH + 'train_countRatio_ip_channel.csv')\n",
    "y = pd.read_feather(PATH1 + 'train__count_ratio_ip_channel.ftr')\n",
    "print(sum(abs(x[x.columns.values[0]]-y[y.columns.values[0]])))"
   ]
  },
  {
   "cell_type": "code",
   "execution_count": 1,
   "metadata": {
    "ExecuteTime": {
     "end_time": "2018-06-01T14:12:47.195493Z",
     "start_time": "2018-06-01T14:09:04.365076Z"
    }
   },
   "outputs": [
    {
     "name": "stdout",
     "output_type": "stream",
     "text": [
      "0.491653792993\n",
      "0.152905592784\n",
      "0.798591788889\n",
      "1.60904603613\n",
      "0.00147034605636\n"
     ]
    },
    {
     "ename": "FileNotFoundError",
     "evalue": "File b'/home/kai/data/shiyi/Kaggle/talkingdata/sc/TalkingData_4th_solution/work/train_countRatio_ip_day.csv' does not exist",
     "output_type": "error",
     "traceback": [
      "\u001b[0;31m---------------------------------------------------------------------------\u001b[0m",
      "\u001b[0;31mFileNotFoundError\u001b[0m                         Traceback (most recent call last)",
      "\u001b[0;32m<ipython-input-1-d38601d7bf56>\u001b[0m in \u001b[0;36m<module>\u001b[0;34m()\u001b[0m\n\u001b[1;32m     49\u001b[0m \u001b[0mPATH\u001b[0m \u001b[0;34m=\u001b[0m \u001b[0;34m'/home/kai/data/shiyi/Kaggle/talkingdata/sc/TalkingData_4th_solution/work/'\u001b[0m\u001b[0;34m\u001b[0m\u001b[0m\n\u001b[1;32m     50\u001b[0m \u001b[0mPATH1\u001b[0m \u001b[0;34m=\u001b[0m \u001b[0;34m'/home/kai/data/kaggle/talkingdata/haoyandata/'\u001b[0m\u001b[0;34m\u001b[0m\u001b[0m\n\u001b[0;32m---> 51\u001b[0;31m \u001b[0mx\u001b[0m \u001b[0;34m=\u001b[0m \u001b[0mpd\u001b[0m\u001b[0;34m.\u001b[0m\u001b[0mread_csv\u001b[0m\u001b[0;34m(\u001b[0m\u001b[0mPATH\u001b[0m \u001b[0;34m+\u001b[0m \u001b[0;34m'train_countRatio_ip_day.csv'\u001b[0m\u001b[0;34m)\u001b[0m\u001b[0;34m\u001b[0m\u001b[0m\n\u001b[0m\u001b[1;32m     52\u001b[0m \u001b[0my\u001b[0m \u001b[0;34m=\u001b[0m \u001b[0mpd\u001b[0m\u001b[0;34m.\u001b[0m\u001b[0mread_feather\u001b[0m\u001b[0;34m(\u001b[0m\u001b[0mPATH1\u001b[0m \u001b[0;34m+\u001b[0m \u001b[0;34m'train__count_ratio_ip_day.ftr'\u001b[0m\u001b[0;34m)\u001b[0m\u001b[0;34m\u001b[0m\u001b[0m\n\u001b[1;32m     53\u001b[0m \u001b[0mprint\u001b[0m\u001b[0;34m(\u001b[0m\u001b[0msum\u001b[0m\u001b[0;34m(\u001b[0m\u001b[0mabs\u001b[0m\u001b[0;34m(\u001b[0m\u001b[0mx\u001b[0m\u001b[0;34m[\u001b[0m\u001b[0mx\u001b[0m\u001b[0;34m.\u001b[0m\u001b[0mcolumns\u001b[0m\u001b[0;34m.\u001b[0m\u001b[0mvalues\u001b[0m\u001b[0;34m[\u001b[0m\u001b[0;36m0\u001b[0m\u001b[0;34m]\u001b[0m\u001b[0;34m]\u001b[0m\u001b[0;34m-\u001b[0m\u001b[0my\u001b[0m\u001b[0;34m[\u001b[0m\u001b[0my\u001b[0m\u001b[0;34m.\u001b[0m\u001b[0mcolumns\u001b[0m\u001b[0;34m.\u001b[0m\u001b[0mvalues\u001b[0m\u001b[0;34m[\u001b[0m\u001b[0;36m0\u001b[0m\u001b[0;34m]\u001b[0m\u001b[0;34m]\u001b[0m\u001b[0;34m)\u001b[0m\u001b[0;34m)\u001b[0m\u001b[0;34m)\u001b[0m\u001b[0;34m\u001b[0m\u001b[0m\n",
      "\u001b[0;32m~/anaconda3/lib/python3.6/site-packages/pandas/io/parsers.py\u001b[0m in \u001b[0;36mparser_f\u001b[0;34m(filepath_or_buffer, sep, delimiter, header, names, index_col, usecols, squeeze, prefix, mangle_dupe_cols, dtype, engine, converters, true_values, false_values, skipinitialspace, skiprows, nrows, na_values, keep_default_na, na_filter, verbose, skip_blank_lines, parse_dates, infer_datetime_format, keep_date_col, date_parser, dayfirst, iterator, chunksize, compression, thousands, decimal, lineterminator, quotechar, quoting, escapechar, comment, encoding, dialect, tupleize_cols, error_bad_lines, warn_bad_lines, skipfooter, skip_footer, doublequote, delim_whitespace, as_recarray, compact_ints, use_unsigned, low_memory, buffer_lines, memory_map, float_precision)\u001b[0m\n\u001b[1;32m    653\u001b[0m                     skip_blank_lines=skip_blank_lines)\n\u001b[1;32m    654\u001b[0m \u001b[0;34m\u001b[0m\u001b[0m\n\u001b[0;32m--> 655\u001b[0;31m         \u001b[0;32mreturn\u001b[0m \u001b[0m_read\u001b[0m\u001b[0;34m(\u001b[0m\u001b[0mfilepath_or_buffer\u001b[0m\u001b[0;34m,\u001b[0m \u001b[0mkwds\u001b[0m\u001b[0;34m)\u001b[0m\u001b[0;34m\u001b[0m\u001b[0m\n\u001b[0m\u001b[1;32m    656\u001b[0m \u001b[0;34m\u001b[0m\u001b[0m\n\u001b[1;32m    657\u001b[0m     \u001b[0mparser_f\u001b[0m\u001b[0;34m.\u001b[0m\u001b[0m__name__\u001b[0m \u001b[0;34m=\u001b[0m \u001b[0mname\u001b[0m\u001b[0;34m\u001b[0m\u001b[0m\n",
      "\u001b[0;32m~/anaconda3/lib/python3.6/site-packages/pandas/io/parsers.py\u001b[0m in \u001b[0;36m_read\u001b[0;34m(filepath_or_buffer, kwds)\u001b[0m\n\u001b[1;32m    403\u001b[0m \u001b[0;34m\u001b[0m\u001b[0m\n\u001b[1;32m    404\u001b[0m     \u001b[0;31m# Create the parser.\u001b[0m\u001b[0;34m\u001b[0m\u001b[0;34m\u001b[0m\u001b[0m\n\u001b[0;32m--> 405\u001b[0;31m     \u001b[0mparser\u001b[0m \u001b[0;34m=\u001b[0m \u001b[0mTextFileReader\u001b[0m\u001b[0;34m(\u001b[0m\u001b[0mfilepath_or_buffer\u001b[0m\u001b[0;34m,\u001b[0m \u001b[0;34m**\u001b[0m\u001b[0mkwds\u001b[0m\u001b[0;34m)\u001b[0m\u001b[0;34m\u001b[0m\u001b[0m\n\u001b[0m\u001b[1;32m    406\u001b[0m \u001b[0;34m\u001b[0m\u001b[0m\n\u001b[1;32m    407\u001b[0m     \u001b[0;32mif\u001b[0m \u001b[0mchunksize\u001b[0m \u001b[0;32mor\u001b[0m \u001b[0miterator\u001b[0m\u001b[0;34m:\u001b[0m\u001b[0;34m\u001b[0m\u001b[0m\n",
      "\u001b[0;32m~/anaconda3/lib/python3.6/site-packages/pandas/io/parsers.py\u001b[0m in \u001b[0;36m__init__\u001b[0;34m(self, f, engine, **kwds)\u001b[0m\n\u001b[1;32m    762\u001b[0m             \u001b[0mself\u001b[0m\u001b[0;34m.\u001b[0m\u001b[0moptions\u001b[0m\u001b[0;34m[\u001b[0m\u001b[0;34m'has_index_names'\u001b[0m\u001b[0;34m]\u001b[0m \u001b[0;34m=\u001b[0m \u001b[0mkwds\u001b[0m\u001b[0;34m[\u001b[0m\u001b[0;34m'has_index_names'\u001b[0m\u001b[0;34m]\u001b[0m\u001b[0;34m\u001b[0m\u001b[0m\n\u001b[1;32m    763\u001b[0m \u001b[0;34m\u001b[0m\u001b[0m\n\u001b[0;32m--> 764\u001b[0;31m         \u001b[0mself\u001b[0m\u001b[0;34m.\u001b[0m\u001b[0m_make_engine\u001b[0m\u001b[0;34m(\u001b[0m\u001b[0mself\u001b[0m\u001b[0;34m.\u001b[0m\u001b[0mengine\u001b[0m\u001b[0;34m)\u001b[0m\u001b[0;34m\u001b[0m\u001b[0m\n\u001b[0m\u001b[1;32m    765\u001b[0m \u001b[0;34m\u001b[0m\u001b[0m\n\u001b[1;32m    766\u001b[0m     \u001b[0;32mdef\u001b[0m \u001b[0mclose\u001b[0m\u001b[0;34m(\u001b[0m\u001b[0mself\u001b[0m\u001b[0;34m)\u001b[0m\u001b[0;34m:\u001b[0m\u001b[0;34m\u001b[0m\u001b[0m\n",
      "\u001b[0;32m~/anaconda3/lib/python3.6/site-packages/pandas/io/parsers.py\u001b[0m in \u001b[0;36m_make_engine\u001b[0;34m(self, engine)\u001b[0m\n\u001b[1;32m    983\u001b[0m     \u001b[0;32mdef\u001b[0m \u001b[0m_make_engine\u001b[0m\u001b[0;34m(\u001b[0m\u001b[0mself\u001b[0m\u001b[0;34m,\u001b[0m \u001b[0mengine\u001b[0m\u001b[0;34m=\u001b[0m\u001b[0;34m'c'\u001b[0m\u001b[0;34m)\u001b[0m\u001b[0;34m:\u001b[0m\u001b[0;34m\u001b[0m\u001b[0m\n\u001b[1;32m    984\u001b[0m         \u001b[0;32mif\u001b[0m \u001b[0mengine\u001b[0m \u001b[0;34m==\u001b[0m \u001b[0;34m'c'\u001b[0m\u001b[0;34m:\u001b[0m\u001b[0;34m\u001b[0m\u001b[0m\n\u001b[0;32m--> 985\u001b[0;31m             \u001b[0mself\u001b[0m\u001b[0;34m.\u001b[0m\u001b[0m_engine\u001b[0m \u001b[0;34m=\u001b[0m \u001b[0mCParserWrapper\u001b[0m\u001b[0;34m(\u001b[0m\u001b[0mself\u001b[0m\u001b[0;34m.\u001b[0m\u001b[0mf\u001b[0m\u001b[0;34m,\u001b[0m \u001b[0;34m**\u001b[0m\u001b[0mself\u001b[0m\u001b[0;34m.\u001b[0m\u001b[0moptions\u001b[0m\u001b[0;34m)\u001b[0m\u001b[0;34m\u001b[0m\u001b[0m\n\u001b[0m\u001b[1;32m    986\u001b[0m         \u001b[0;32melse\u001b[0m\u001b[0;34m:\u001b[0m\u001b[0;34m\u001b[0m\u001b[0m\n\u001b[1;32m    987\u001b[0m             \u001b[0;32mif\u001b[0m \u001b[0mengine\u001b[0m \u001b[0;34m==\u001b[0m \u001b[0;34m'python'\u001b[0m\u001b[0;34m:\u001b[0m\u001b[0;34m\u001b[0m\u001b[0m\n",
      "\u001b[0;32m~/anaconda3/lib/python3.6/site-packages/pandas/io/parsers.py\u001b[0m in \u001b[0;36m__init__\u001b[0;34m(self, src, **kwds)\u001b[0m\n\u001b[1;32m   1603\u001b[0m         \u001b[0mkwds\u001b[0m\u001b[0;34m[\u001b[0m\u001b[0;34m'allow_leading_cols'\u001b[0m\u001b[0;34m]\u001b[0m \u001b[0;34m=\u001b[0m \u001b[0mself\u001b[0m\u001b[0;34m.\u001b[0m\u001b[0mindex_col\u001b[0m \u001b[0;32mis\u001b[0m \u001b[0;32mnot\u001b[0m \u001b[0;32mFalse\u001b[0m\u001b[0;34m\u001b[0m\u001b[0m\n\u001b[1;32m   1604\u001b[0m \u001b[0;34m\u001b[0m\u001b[0m\n\u001b[0;32m-> 1605\u001b[0;31m         \u001b[0mself\u001b[0m\u001b[0;34m.\u001b[0m\u001b[0m_reader\u001b[0m \u001b[0;34m=\u001b[0m \u001b[0mparsers\u001b[0m\u001b[0;34m.\u001b[0m\u001b[0mTextReader\u001b[0m\u001b[0;34m(\u001b[0m\u001b[0msrc\u001b[0m\u001b[0;34m,\u001b[0m \u001b[0;34m**\u001b[0m\u001b[0mkwds\u001b[0m\u001b[0;34m)\u001b[0m\u001b[0;34m\u001b[0m\u001b[0m\n\u001b[0m\u001b[1;32m   1606\u001b[0m \u001b[0;34m\u001b[0m\u001b[0m\n\u001b[1;32m   1607\u001b[0m         \u001b[0;31m# XXX\u001b[0m\u001b[0;34m\u001b[0m\u001b[0;34m\u001b[0m\u001b[0m\n",
      "\u001b[0;32mpandas/_libs/parsers.pyx\u001b[0m in \u001b[0;36mpandas._libs.parsers.TextReader.__cinit__ (pandas/_libs/parsers.c:4209)\u001b[0;34m()\u001b[0m\n",
      "\u001b[0;32mpandas/_libs/parsers.pyx\u001b[0m in \u001b[0;36mpandas._libs.parsers.TextReader._setup_parser_source (pandas/_libs/parsers.c:8873)\u001b[0;34m()\u001b[0m\n",
      "\u001b[0;31mFileNotFoundError\u001b[0m: File b'/home/kai/data/shiyi/Kaggle/talkingdata/sc/TalkingData_4th_solution/work/train_countRatio_ip_day.csv' does not exist"
     ]
    }
   ],
   "source": [
    "# count ratio\n",
    "\n",
    "import pandas as pd\n",
    "PATH = '/home/kai/data/shiyi/Kaggle/talkingdata/sc/TalkingData_4th_solution/work/'\n",
    "PATH1 = '/home/kai/data/kaggle/talkingdata/haoyandata/'\n",
    "x = pd.read_csv(PATH + 'train_countRatio_ip_machine.csv')\n",
    "y = pd.read_feather(PATH1 + 'train__count_ratio_ip_machine.ftr')\n",
    "print(sum(abs(x[x.columns.values[0]]-y[y.columns.values[0]])))\n",
    "\n",
    "# count ratio\n",
    "\n",
    "import pandas as pd\n",
    "PATH = '/home/kai/data/shiyi/Kaggle/talkingdata/sc/TalkingData_4th_solution/work/'\n",
    "PATH1 = '/home/kai/data/kaggle/talkingdata/haoyandata/'\n",
    "x = pd.read_csv(PATH + 'train_countRatio_ip_channel.csv')\n",
    "y = pd.read_feather(PATH1 + 'train__count_ratio_ip_channel.ftr')\n",
    "print(sum(abs(x[x.columns.values[0]]-y[y.columns.values[0]])))\n",
    "\n",
    "# count ratio\n",
    "\n",
    "import pandas as pd\n",
    "PATH = '/home/kai/data/shiyi/Kaggle/talkingdata/sc/TalkingData_4th_solution/work/'\n",
    "PATH1 = '/home/kai/data/kaggle/talkingdata/haoyandata/'\n",
    "x = pd.read_csv(PATH + 'train_countRatio_app_channel.csv')\n",
    "y = pd.read_feather(PATH1 + 'train__count_ratio_app_channel.ftr')\n",
    "print(sum(abs(x[x.columns.values[0]]-y[y.columns.values[0]])))\n",
    "\n",
    "# count ratio\n",
    "\n",
    "import pandas as pd\n",
    "PATH = '/home/kai/data/shiyi/Kaggle/talkingdata/sc/TalkingData_4th_solution/work/'\n",
    "PATH1 = '/home/kai/data/kaggle/talkingdata/haoyandata/'\n",
    "x = pd.read_csv(PATH + 'train_countRatio_channel_app.csv')\n",
    "y = pd.read_feather(PATH1 + 'train__count_ratio_channel_app.ftr')\n",
    "print(sum(abs(x[x.columns.values[0]]-y[y.columns.values[0]])))\n",
    "\n",
    "# count ratio\n",
    "\n",
    "import pandas as pd\n",
    "PATH = '/home/kai/data/shiyi/Kaggle/talkingdata/sc/TalkingData_4th_solution/work/'\n",
    "PATH1 = '/home/kai/data/kaggle/talkingdata/haoyandata/'\n",
    "x = pd.read_csv(PATH + 'train_countRatio_machine_ip.csv')\n",
    "y = pd.read_feather(PATH1 + 'train__count_ratio_machine_ip.ftr')\n",
    "print(sum(abs(x[x.columns.values[0]]-y[y.columns.values[0]])))\n",
    "\n",
    "# count ratio\n",
    "\n",
    "import pandas as pd\n",
    "PATH = '/home/kai/data/shiyi/Kaggle/talkingdata/sc/TalkingData_4th_solution/work/'\n",
    "PATH1 = '/home/kai/data/kaggle/talkingdata/haoyandata/'\n",
    "x = pd.read_csv(PATH + 'train_countRatio_ip_day.csv')\n",
    "y = pd.read_feather(PATH1 + 'train__count_ratio_ip_day.ftr')\n",
    "print(sum(abs(x[x.columns.values[0]]-y[y.columns.values[0]])))"
   ]
  },
  {
   "cell_type": "code",
   "execution_count": 11,
   "metadata": {
    "ExecuteTime": {
     "end_time": "2018-06-01T13:59:47.356332Z",
     "start_time": "2018-06-01T13:59:47.345487Z"
    }
   },
   "outputs": [
    {
     "name": "stdout",
     "output_type": "stream",
     "text": [
      "           countRatio_ip_channel\n",
      "184903885               0.002767\n",
      "184903886               0.007728\n",
      "184903887               0.001869\n",
      "184903888               0.128652\n",
      "184903889               0.076560\n",
      "           count_ratio_ip_channel\n",
      "184903885                0.002767\n",
      "184903886                0.007728\n",
      "184903887                0.001869\n",
      "184903888                0.128652\n",
      "184903889                0.076560\n"
     ]
    }
   ],
   "source": [
    "print(x.tail(5))\n",
    "print(y.tail(5))"
   ]
  },
  {
   "cell_type": "code",
   "execution_count": 12,
   "metadata": {
    "ExecuteTime": {
     "end_time": "2018-06-01T13:59:53.721895Z",
     "start_time": "2018-06-01T13:59:49.128019Z"
    }
   },
   "outputs": [
    {
     "name": "stdout",
     "output_type": "stream",
     "text": [
      "5.94577354018e-08\n",
      "-5.95755373922e-08\n"
     ]
    }
   ],
   "source": [
    "print((abs(x[x.columns.values[0]] / y[y.columns.values[0]])-1.0).max())\n",
    "print((abs(x[x.columns.values[0]] / y[y.columns.values[0]])-1.0).min())"
   ]
  },
  {
   "cell_type": "code",
   "execution_count": 3,
   "metadata": {
    "ExecuteTime": {
     "end_time": "2018-06-01T01:25:17.052540Z",
     "start_time": "2018-06-01T01:24:54.457708Z"
    }
   },
   "outputs": [
    {
     "name": "stdout",
     "output_type": "stream",
     "text": [
      "0\n"
     ]
    }
   ],
   "source": [
    "# unique count\n",
    "\n",
    "import pandas as pd\n",
    "PATH = '/home/kai/data/shiyi/Kaggle/talkingdata/sc/TalkingData_4th_solution/work/'\n",
    "PATH1 = '/home/kai/data/kaggle/talkingdata/haoyandata/'\n",
    "x = pd.read_csv(PATH + 'train_uniqueCount_day_ip_app.csv')\n",
    "y = pd.read_feather(PATH1 + 'train__nunique_day_ip_app.ftr')\n",
    "print(sum(abs(x[x.columns.values[0]]-y[y.columns.values[0]])))"
   ]
  },
  {
   "cell_type": "code",
   "execution_count": 4,
   "metadata": {
    "ExecuteTime": {
     "end_time": "2018-06-01T01:26:01.976986Z",
     "start_time": "2018-06-01T01:25:17.100111Z"
    }
   },
   "outputs": [
    {
     "name": "stdout",
     "output_type": "stream",
     "text": [
      "0.258035148778\n"
     ]
    }
   ],
   "source": [
    "# unique count ratio\n",
    "\n",
    "import pandas as pd\n",
    "PATH = '/home/kai/data/shiyi/Kaggle/talkingdata/sc/TalkingData_4th_solution/work/'\n",
    "PATH1 = '/home/kai/data/kaggle/talkingdata/haoyandata/'\n",
    "x = pd.read_csv(PATH + 'train_uniqueCountRatio_day_ip_channel.csv')\n",
    "y = pd.read_feather(PATH1 + 'train__unique_ratio_day_ip_channel.ftr')\n",
    "print(sum(abs(x[x.columns.values[0]]-y[y.columns.values[0]])))"
   ]
  },
  {
   "cell_type": "code",
   "execution_count": 5,
   "metadata": {
    "ExecuteTime": {
     "end_time": "2018-06-01T01:26:29.990544Z",
     "start_time": "2018-06-01T01:26:02.026526Z"
    }
   },
   "outputs": [
    {
     "name": "stdout",
     "output_type": "stream",
     "text": [
      "0\n"
     ]
    }
   ],
   "source": [
    "# reverse cumcount\n",
    "\n",
    "import pandas as pd\n",
    "PATH = '/home/kai/data/shiyi/Kaggle/talkingdata/sc/TalkingData_4th_solution/work/'\n",
    "PATH1 = '/home/kai/data/kaggle/talkingdata/haoyandata/'\n",
    "x = pd.read_csv(PATH + 'train_recumcount_app_device_os_day.csv')\n",
    "y = pd.read_feather(PATH1 + 'train__cumcount_app_device_os_day.ftr')\n",
    "print(sum(abs(x[x.columns.values[0]]-y[y.columns.values[0]])))"
   ]
  },
  {
   "cell_type": "code",
   "execution_count": 14,
   "metadata": {
    "ExecuteTime": {
     "end_time": "2018-06-01T02:08:55.408703Z",
     "start_time": "2018-06-01T02:08:29.305497Z"
    }
   },
   "outputs": [
    {
     "name": "stdout",
     "output_type": "stream",
     "text": [
      "0\n"
     ]
    }
   ],
   "source": [
    "# cumcount\n",
    "\n",
    "import pandas as pd\n",
    "PATH = '/home/kai/data/shiyi/Kaggle/talkingdata/sc/TalkingData_4th_solution/work/'\n",
    "PATH1 = '/home/kai/data/kaggle/talkingdata/haoyandata/'\n",
    "x = pd.read_csv(PATH + 'train_cumcount_ip_day.csv')\n",
    "y = pd.read_feather(PATH1 + 'train__cumcount_ip_day.ftr')\n",
    "print(sum(abs(x[x.columns.values[0]]-y[y.columns.values[0]])))"
   ]
  },
  {
   "cell_type": "code",
   "execution_count": 16,
   "metadata": {
    "ExecuteTime": {
     "end_time": "2018-06-01T02:18:52.705754Z",
     "start_time": "2018-06-01T02:18:24.698902Z"
    }
   },
   "outputs": [
    {
     "name": "stdout",
     "output_type": "stream",
     "text": [
      "3.48454480548e-10\n"
     ]
    }
   ],
   "source": [
    "# cumcount ratio\n",
    "\n",
    "import pandas as pd\n",
    "PATH = '/home/kai/data/shiyi/Kaggle/talkingdata/sc/TalkingData_4th_solution/work/'\n",
    "PATH1 = '/home/kai/data/kaggle/talkingdata/haoyandata/'\n",
    "x = pd.read_csv(PATH + 'train_cumratio_ip_day.csv')\n",
    "y = pd.read_feather(PATH1 + 'train__cumcount_ratio_ip_day.ftr')\n",
    "print(sum(abs(x[x.columns.values[0]]-y[y.columns.values[0]])))"
   ]
  },
  {
   "cell_type": "code",
   "execution_count": 8,
   "metadata": {
    "ExecuteTime": {
     "end_time": "2018-06-01T01:30:06.371654Z",
     "start_time": "2018-06-01T01:29:39.742289Z"
    }
   },
   "outputs": [
    {
     "name": "stdout",
     "output_type": "stream",
     "text": [
      "0\n"
     ]
    }
   ],
   "source": [
    "# time to next n click\n",
    "\n",
    "import pandas as pd\n",
    "PATH = '/home/kai/data/shiyi/Kaggle/talkingdata/sc/TalkingData_4th_solution/work/'\n",
    "PATH1 = '/home/kai/data/kaggle/talkingdata/haoyandata/'\n",
    "x = pd.read_csv(PATH + 'train_nextNextClickLeakDay.csv')\n",
    "y = pd.read_feather(PATH1 + 'train__time_to_n_next_click_2_day_ip_app_device_os.ftr')\n",
    "print(sum(abs(x[x.columns.values[0]]-y[y.columns.values[0]])))"
   ]
  },
  {
   "cell_type": "code",
   "execution_count": 1,
   "metadata": {
    "ExecuteTime": {
     "end_time": "2018-06-01T01:35:13.950034Z",
     "start_time": "2018-06-01T01:34:29.638600Z"
    }
   },
   "outputs": [
    {
     "name": "stdout",
     "output_type": "stream",
     "text": [
      "0\n"
     ]
    }
   ],
   "source": [
    "# time to next n click filter\n",
    "\n",
    "import pandas as pd\n",
    "PATH = '/home/kai/data/shiyi/Kaggle/talkingdata/sc/TalkingData_4th_solution/work/'\n",
    "PATH1 = '/home/kai/data/kaggle/talkingdata/haoyandata/'\n",
    "x = pd.read_csv(PATH + 'train_nextClickLeakDayFlt.csv')\n",
    "y = pd.read_feather(PATH1 + 'train__filter_time_to_n_next_click_1_day_ip_app_device_os.ftr')\n",
    "print(sum(abs(x[x.columns.values[0]]-y[y.columns.values[0]])))"
   ]
  },
  {
   "cell_type": "code",
   "execution_count": 2,
   "metadata": {
    "ExecuteTime": {
     "end_time": "2018-06-01T01:35:13.950034Z",
     "start_time": "2018-06-01T01:34:29.638600Z"
    }
   },
   "outputs": [
    {
     "name": "stdout",
     "output_type": "stream",
     "text": [
      "0\n"
     ]
    }
   ],
   "source": [
    "# range count\n",
    "\n",
    "import pandas as pd\n",
    "PATH = '/home/kai/data/shiyi/Kaggle/talkingdata/sc/TalkingData_4th_solution/work/'\n",
    "PATH1 = '/home/kai/data/kaggle/talkingdata/haoyandata/'\n",
    "x = pd.read_csv(PATH + 'train_dayhourminute10count_app_os_channel.csv')\n",
    "y = pd.read_feather(PATH1 + 'train__range_count_app_os_channel_dayhourminute10.ftr')\n",
    "print(sum(abs(x[x.columns.values[0]]-y[y.columns.values[0]])))"
   ]
  },
  {
   "cell_type": "code",
   "execution_count": 3,
   "metadata": {
    "ExecuteTime": {
     "end_time": "2018-06-01T01:35:13.950034Z",
     "start_time": "2018-06-01T01:34:29.638600Z"
    }
   },
   "outputs": [
    {
     "name": "stdout",
     "output_type": "stream",
     "text": [
      "0.0\n"
     ]
    }
   ],
   "source": [
    "# variance\n",
    "\n",
    "import pandas as pd\n",
    "PATH = '/home/kai/data/shiyi/Kaggle/talkingdata/sc/TalkingData_4th_solution/work/'\n",
    "PATH1 = '/home/kai/data/kaggle/talkingdata/haoyandata/'\n",
    "x = pd.read_csv(PATH + 'train_var_ip_device_hour.csv')\n",
    "y = pd.read_feather(PATH1 + 'train__variance_ip_device_hour.ftr')\n",
    "print(sum(abs(x[x.columns.values[0]]-y[y.columns.values[0]])))"
   ]
  },
  {
   "cell_type": "code",
   "execution_count": 4,
   "metadata": {
    "ExecuteTime": {
     "end_time": "2018-06-01T01:35:13.950034Z",
     "start_time": "2018-06-01T01:34:29.638600Z"
    }
   },
   "outputs": [
    {
     "name": "stdout",
     "output_type": "stream",
     "text": [
      "0\n"
     ]
    }
   ],
   "source": [
    "# com ip\n",
    "\n",
    "import pandas as pd\n",
    "PATH = '/home/kai/data/shiyi/Kaggle/talkingdata/sc/TalkingData_4th_solution/work/'\n",
    "PATH1 = '/home/kai/data/kaggle/talkingdata/haoyandata/'\n",
    "x = pd.read_csv(PATH + 'train_com_ip.csv')\n",
    "y = pd.read_feather(PATH1 + 'train__com_ip.ftr')\n",
    "print(sum(abs(x[x.columns.values[0]]-y[y.columns.values[0]])))"
   ]
  },
  {
   "cell_type": "code",
   "execution_count": 5,
   "metadata": {
    "ExecuteTime": {
     "end_time": "2018-06-01T01:35:13.950034Z",
     "start_time": "2018-06-01T01:34:29.638600Z"
    }
   },
   "outputs": [
    {
     "name": "stdout",
     "output_type": "stream",
     "text": [
      "0\n"
     ]
    }
   ],
   "source": [
    "# com 1 ip\n",
    "\n",
    "import pandas as pd\n",
    "PATH = '/home/kai/data/shiyi/Kaggle/talkingdata/sc/TalkingData_4th_solution/work/'\n",
    "PATH1 = '/home/kai/data/kaggle/talkingdata/haoyandata/'\n",
    "x = pd.read_csv(PATH + 'train_com1_ip.csv')\n",
    "y = pd.read_feather(PATH1 + 'train__com1_ip.ftr')\n",
    "print(sum(abs(x[x.columns.values[0]]-y[y.columns.values[0]])))"
   ]
  },
  {
   "cell_type": "code",
   "execution_count": 6,
   "metadata": {
    "ExecuteTime": {
     "end_time": "2018-06-01T01:35:13.950034Z",
     "start_time": "2018-06-01T01:34:29.638600Z"
    }
   },
   "outputs": [
    {
     "name": "stdout",
     "output_type": "stream",
     "text": [
      "1.12502183047e-09\n"
     ]
    }
   ],
   "source": [
    "# woe\n",
    "\n",
    "import pandas as pd\n",
    "PATH = '/home/kai/data/shiyi/Kaggle/talkingdata/sc/TalkingData_4th_solution/work/'\n",
    "PATH1 = '/home/kai/data/kaggle/talkingdata/haoyandata/'\n",
    "x = pd.read_csv(PATH + 'train_WOEBnd_app_nextClickLeakDayFlt.csv')\n",
    "y = pd.read_feather(PATH1 + 'train__woe_app_nextClickLeakDayFlt.ftr')\n",
    "print(sum(abs(x[x.columns.values[0]]-y[y.columns.values[0]])))"
   ]
  },
  {
   "cell_type": "code",
   "execution_count": null,
   "metadata": {
    "collapsed": true
   },
   "outputs": [],
   "source": []
  }
 ],
 "metadata": {
  "kernelspec": {
   "display_name": "Python 3",
   "language": "python",
   "name": "python3"
  },
  "language_info": {
   "codemirror_mode": {
    "name": "ipython",
    "version": 3
   },
   "file_extension": ".py",
   "mimetype": "text/x-python",
   "name": "python",
   "nbconvert_exporter": "python",
   "pygments_lexer": "ipython3",
   "version": "3.6.3"
  },
  "varInspector": {
   "cols": {
    "lenName": 16,
    "lenType": 16,
    "lenVar": 40
   },
   "kernels_config": {
    "python": {
     "delete_cmd_postfix": "",
     "delete_cmd_prefix": "del ",
     "library": "var_list.py",
     "varRefreshCmd": "print(var_dic_list())"
    },
    "r": {
     "delete_cmd_postfix": ") ",
     "delete_cmd_prefix": "rm(",
     "library": "var_list.r",
     "varRefreshCmd": "cat(var_dic_list()) "
    }
   },
   "types_to_exclude": [
    "module",
    "function",
    "builtin_function_or_method",
    "instance",
    "_Feature"
   ],
   "window_display": false
  }
 },
 "nbformat": 4,
 "nbformat_minor": 2
}
