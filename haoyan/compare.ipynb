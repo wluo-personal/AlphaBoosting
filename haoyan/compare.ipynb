{
 "cells": [
  {
   "cell_type": "code",
   "execution_count": 2,
   "metadata": {
    "ExecuteTime": {
     "end_time": "2018-05-31T14:53:24.153358Z",
     "start_time": "2018-05-31T14:52:38.358097Z"
    }
   },
   "outputs": [],
   "source": [
    "import pandas as pd\n",
    "\n",
    "PATH_US = '/home/kai/data/kaggle/talkingdata/4thplace/'\n",
    "\n",
    "# his = pd.read_csv(PATH_US + '4thplacefeather.csv')\n",
    "us = pd.read_feather(PATH_US + 'train_cleaned.ftr')\n",
    "us.head(1000).to_csv(PATH_US + '4thplaceus.csv')"
   ]
  },
  {
   "cell_type": "code",
   "execution_count": 1,
   "metadata": {
    "ExecuteTime": {
     "end_time": "2018-05-31T14:53:53.606563Z",
     "start_time": "2018-05-31T14:53:53.315467Z"
    },
    "collapsed": true
   },
   "outputs": [],
   "source": [
    "import pandas as pd\n",
    "\n",
    "PATH_US = '/home/kai/data/kaggle/talkingdata/4thplace/'\n",
    "\n",
    "his = pd.read_csv(PATH_US + '4thplacefeather.csv')\n",
    "us = pd.read_csv(PATH_US + '4thplaceus.csv')"
   ]
  },
  {
   "cell_type": "code",
   "execution_count": 4,
   "metadata": {
    "ExecuteTime": {
     "end_time": "2018-05-31T14:54:59.291990Z",
     "start_time": "2018-05-31T14:54:59.285210Z"
    }
   },
   "outputs": [
    {
     "name": "stdout",
     "output_type": "stream",
     "text": [
      "{'countRatio_channel_app', 'WOEBnd_ip_app', 'count_ip_app_device_day', 'dayhourminute10count_ip_channel', 'is_attributed', 'uniqueCount_day_ip_device', 'uniqueCount_day_ip_machine', 'WOEBnd_ip_nextClickLeakDayFlt', 'WOEBnd_ip_device_nextClickLeakDayFlt', 'dayhourminute10count_app_os_channel', 'uniqueCount_machine_channel', 'cat_channel', 'WOEBnd_ip_device_os', 'WOEBnd_ip_app_device', 'WOEBnd_ip_app_device_os', 'Unnamed: 0', 'count_device_os_day_hourminute10', 'cat_com1_ip', 'hour', 'WOEBnd_ip_device', 'uniqueCount_day_ip_app', 'WOEBnd_ip_app_os_channel', 'WOEBnd_app_device_nextClickLeakDayFlt', 'WOEBnd_app_nextClickLeakDayFlt', 'cumcount_ip_day', 'app', 'nextClickLeakDay', 'uniqueCount_machine_app', 'countRatio_app_channel', 'count_ip_app_device_channel_day', 'WOEBnd_ip_channel', 'cat_os', 'WOEBnd_channel_nextClickLeakDayFlt', 'WOEBnd_app_channel', 'WOEBnd_ip_app_nextClickLeakDayFlt', 'count_app_device_channel_day_hour', 'recumcount_app_device_os_day', 'WOEBnd_app', 'count_ip_os', 'WOEBnd_device', 'WOEBnd_device_nextClickLeakDayFlt', 'WOEBnd_ip', 'channel', 'count_app_device_day_hour', 'var_ip_device_hour', 'WOEBnd_ip_os_nextClickLeakDayFlt', 'WOEBnd_ip_app_channel', 'WOEBnd_app_device_channel', 'countRatio_ip_machine', 'count_ip_app_os_channel_day', 'WOEBnd_app_device_os_channel', 'count_ip_app_device_os_day_hour', 'WOEBnd_device_channel_nextClickLeakDayFlt', 'WOEBnd_app_os_nextClickLeakDayFlt', 'WOEBnd_ip_app_os', 'WOEBnd_os_nextClickLeakDayFlt', 'ip', 'uniqueCount_machine_ip', 'day', 'WOEBnd_app_channel_nextClickLeakDayFlt', 'WOEBnd_os_channel_nextClickLeakDayFlt', 'cat_hour', 'WOEBnd_ip_app_device_channel', 'WOEBnd_device_os_nextClickLeakDayFlt', 'WOEBnd_channel', 'cumratio_ip_day', 'count_ip', 'WOEBnd_ip_device_channel', 'WOEBnd_app_os', 'WOEBnd_app_device', 'cat_device', 'os', 'count_ip_device_os_day_hourminute10', 'count_app_os_channel_day_hour', 'cat_dayhourcount_ip', 'WOEBnd_app_os_channel', 'WOEBnd_ip_os_channel', 'count_app_day_hourminute', 'WOEBnd_ip_channel_nextClickLeakDayFlt', 'uniqueCountRatio_day_ip_channel', 'count_ip_app_os_channel', 'WOEBnd_ip_device_os_channel', 'countRatio_ip_channel', 'WOEBnd_os', 'WOEBnd_ip_os', 'WOEBnd_app_device_os', 'dayhourminute10count_ip_device_os', 'cat_app', 'countRatio_machine_ip', 'nextNextClickLeakDay', 'uniqueCount_day_ip_os', 'device'}\n"
     ]
    }
   ],
   "source": [
    "h = set(his.columns.values)\n",
    "u = set(us.columns.values)\n",
    "print(h)"
   ]
  },
  {
   "cell_type": "code",
   "execution_count": 49,
   "metadata": {
    "ExecuteTime": {
     "end_time": "2018-05-31T17:53:05.919348Z",
     "start_time": "2018-05-31T17:53:05.908369Z"
    }
   },
   "outputs": [
    {
     "name": "stdout",
     "output_type": "stream",
     "text": [
      "0    0.11410\n",
      "1    0.11410\n",
      "2    0.11410\n",
      "3    0.07245\n",
      "4    0.11410\n",
      "5    0.11410\n",
      "6    0.11410\n",
      "7    0.11410\n",
      "8    0.11410\n",
      "9    0.09090\n",
      "Name: WOEBnd_app_device, dtype: float64\n",
      "0    0.2922\n",
      "1    0.2922\n",
      "2    0.2922\n",
      "3    0.1279\n",
      "4    0.2922\n",
      "5    0.2922\n",
      "6    0.2922\n",
      "7    0.2922\n",
      "8    0.2922\n",
      "9    0.1097\n",
      "Name: WOEBnd_app_nextClickLeakDayFlt, dtype: float64\n"
     ]
    }
   ],
   "source": [
    "hc = 'WOEBnd_app_device'\n",
    "uc = 'woe_app_device'\n",
    "print(his[hc].head(10))\n",
    "print(his['WOEBnd_app_nextClickLeakDayFlt'].head(10))\n",
    "# woe recumcount"
   ]
  },
  {
   "cell_type": "code",
   "execution_count": 50,
   "metadata": {
    "ExecuteTime": {
     "end_time": "2018-05-31T18:11:13.610588Z",
     "start_time": "2018-05-31T18:11:12.698080Z"
    }
   },
   "outputs": [
    {
     "name": "stdout",
     "output_type": "stream",
     "text": [
      "   woe_app_device\n",
      "0        0.114069\n",
      "1        0.114069\n",
      "2        0.114069\n",
      "3        0.072440\n",
      "4        0.114069\n",
      "5        0.114069\n",
      "6        0.114069\n",
      "7        0.114069\n",
      "8        0.114069\n",
      "9        0.090905\n"
     ]
    }
   ],
   "source": [
    "y = pd.read_feather('/home/kai/data/kaggle/talkingdata/haoyandata/train__woe_app_device.ftr')\n",
    "print(y.head(10))"
   ]
  },
  {
   "cell_type": "code",
   "execution_count": 51,
   "metadata": {
    "ExecuteTime": {
     "end_time": "2018-05-31T18:18:14.267828Z",
     "start_time": "2018-05-31T18:18:13.372512Z"
    }
   },
   "outputs": [
    {
     "name": "stdout",
     "output_type": "stream",
     "text": [
      "   woe_app_nextClickLeakDayFlt\n",
      "0                     0.295518\n",
      "1                     0.295518\n",
      "2                     0.295518\n",
      "3                     0.128279\n",
      "4                     0.295518\n",
      "5                     0.295518\n",
      "6                     0.295518\n",
      "7                     0.295518\n",
      "8                     0.295518\n",
      "9                     0.109815\n"
     ]
    }
   ],
   "source": [
    "y = pd.read_feather('/home/kai/data/kaggle/talkingdata/haoyandata/train__woe_app_nextClickLeakDayFlt.ftr')\n",
    "print(y.head(10))"
   ]
  },
  {
   "cell_type": "code",
   "execution_count": 33,
   "metadata": {
    "ExecuteTime": {
     "end_time": "2018-05-31T15:21:06.152905Z",
     "start_time": "2018-05-31T15:21:06.060515Z"
    }
   },
   "outputs": [
    {
     "data": {
      "text/plain": [
       "881"
      ]
     },
     "execution_count": 33,
     "metadata": {},
     "output_type": "execute_result"
    }
   ],
   "source": [
    "import gc\n",
    "gc.collect()"
   ]
  },
  {
   "cell_type": "code",
   "execution_count": 11,
   "metadata": {
    "ExecuteTime": {
     "end_time": "2018-05-31T18:42:08.005622Z",
     "start_time": "2018-05-31T18:41:58.066771Z"
    }
   },
   "outputs": [
    {
     "name": "stdout",
     "output_type": "stream",
     "text": [
      "           nextClickLeakDayFlt\n",
      "184903880                    1\n",
      "184903881                    2\n",
      "184903882                    1\n",
      "184903883                    1\n",
      "184903884                    2\n",
      "184903885                    2\n",
      "184903886                    1\n",
      "184903887                    2\n",
      "184903888                    2\n",
      "184903889                    2\n",
      "           filter_time_to_n_next_click_1_day_ip_app_device_os\n",
      "184903880                                                  1 \n",
      "184903881                                                  2 \n",
      "184903882                                                  1 \n",
      "184903883                                                  1 \n",
      "184903884                                                  2 \n",
      "184903885                                                  2 \n",
      "184903886                                                  1 \n",
      "184903887                                                  2 \n",
      "184903888                                                  2 \n",
      "184903889                                                  2 \n"
     ]
    }
   ],
   "source": [
    "import pandas as pd\n",
    "PATH = '/home/kai/data/shiyi/Kaggle/talkingdata/sc/TalkingData_4th_solution/work/'\n",
    "\n",
    "PATH1 = '/home/kai/data/kaggle/talkingdata/haoyandata/'\n",
    "\n",
    "x = pd.read_csv(PATH + 'train_nextClickLeakDayFlt.csv')\n",
    "'day','ip','app','device','os'\n",
    "y = pd.read_feather(PATH1 + 'train__filter_time_to_n_next_click_1_day_ip_app_device_os.ftr')\n",
    "print(x.tail(10))\n",
    "print(y.tail(10))"
   ]
  },
  {
   "cell_type": "code",
   "execution_count": 8,
   "metadata": {
    "ExecuteTime": {
     "end_time": "2018-05-31T18:29:04.202710Z",
     "start_time": "2018-05-31T18:28:51.734153Z"
    }
   },
   "outputs": [
    {
     "name": "stdout",
     "output_type": "stream",
     "text": [
      "21348269\n"
     ]
    }
   ],
   "source": [
    "print(sum(abs(x['nextClickLeakDayFlt']-y['filter_time_to_n_next_click_1_day_ip_app_device_os'])))"
   ]
  },
  {
   "cell_type": "code",
   "execution_count": null,
   "metadata": {
    "collapsed": true
   },
   "outputs": [],
   "source": []
  }
 ],
 "metadata": {
  "kernelspec": {
   "display_name": "Python 3",
   "language": "python",
   "name": "python3"
  },
  "language_info": {
   "codemirror_mode": {
    "name": "ipython",
    "version": 3
   },
   "file_extension": ".py",
   "mimetype": "text/x-python",
   "name": "python",
   "nbconvert_exporter": "python",
   "pygments_lexer": "ipython3",
   "version": "3.6.3"
  },
  "varInspector": {
   "cols": {
    "lenName": 16,
    "lenType": 16,
    "lenVar": 40
   },
   "kernels_config": {
    "python": {
     "delete_cmd_postfix": "",
     "delete_cmd_prefix": "del ",
     "library": "var_list.py",
     "varRefreshCmd": "print(var_dic_list())"
    },
    "r": {
     "delete_cmd_postfix": ") ",
     "delete_cmd_prefix": "rm(",
     "library": "var_list.r",
     "varRefreshCmd": "cat(var_dic_list()) "
    }
   },
   "types_to_exclude": [
    "module",
    "function",
    "builtin_function_or_method",
    "instance",
    "_Feature"
   ],
   "window_display": false
  }
 },
 "nbformat": 4,
 "nbformat_minor": 2
}
