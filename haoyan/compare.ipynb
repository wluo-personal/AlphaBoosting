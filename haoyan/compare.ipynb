{
 "cells": [
  {
   "cell_type": "code",
   "execution_count": 1,
   "metadata": {
    "ExecuteTime": {
     "end_time": "2018-06-01T01:24:02.511005Z",
     "start_time": "2018-06-01T01:23:37.536746Z"
    }
   },
   "outputs": [
    {
     "name": "stdout",
     "output_type": "stream",
     "text": [
      "0\n"
     ]
    }
   ],
   "source": [
    "# count\n",
    "\n",
    "import pandas as pd\n",
    "PATH = '/home/kai/data/shiyi/Kaggle/talkingdata/sc/TalkingData_4th_solution/work/'\n",
    "PATH1 = '/home/kai/data/kaggle/talkingdata/haoyandata/'\n",
    "x = pd.read_csv(PATH + 'train_count_app_day_hourminute.csv')\n",
    "y = pd.read_feather(PATH1 + 'train__count_app_day_hourminute.ftr')\n",
    "print(sum(abs(x[x.columns.values[0]]-y[y.columns.values[0]])))"
   ]
  },
  {
   "cell_type": "code",
   "execution_count": 10,
   "metadata": {
    "ExecuteTime": {
     "end_time": "2018-06-01T13:58:42.494254Z",
     "start_time": "2018-06-01T13:57:56.951972Z"
    }
   },
   "outputs": [
    {
     "name": "stdout",
     "output_type": "stream",
     "text": [
      "0.152905592784\n"
     ]
    }
   ],
   "source": [
    "# count ratio\n",
    "\n",
    "import pandas as pd\n",
    "PATH = '/home/kai/data/shiyi/Kaggle/talkingdata/sc/TalkingData_4th_solution/work/'\n",
    "PATH1 = '/home/kai/data/kaggle/talkingdata/haoyandata/'\n",
    "x = pd.read_csv(PATH + 'train_countRatio_ip_channel.csv')\n",
    "y = pd.read_feather(PATH1 + 'train__count_ratio_ip_channel.ftr')\n",
    "print(sum(abs(x[x.columns.values[0]]-y[y.columns.values[0]])))"
   ]
  },
  {
   "cell_type": "code",
   "execution_count": 1,
   "metadata": {
    "ExecuteTime": {
     "end_time": "2018-06-04T18:45:03.632054Z",
     "start_time": "2018-06-04T18:43:10.614115Z"
    }
   },
   "outputs": [
    {
     "name": "stdout",
     "output_type": "stream",
     "text": [
      "0.491653792993\n",
      "False False\n",
      "0.152905592784\n",
      "False False\n"
     ]
    },
    {
     "ename": "KeyboardInterrupt",
     "evalue": "",
     "output_type": "error",
     "traceback": [
      "\u001b[0;31m---------------------------------------------------------------------------\u001b[0m",
      "\u001b[0;31mKeyboardInterrupt\u001b[0m                         Traceback (most recent call last)",
      "\u001b[0;32m<ipython-input-1-5416309111ba>\u001b[0m in \u001b[0;36m<module>\u001b[0;34m()\u001b[0m\n\u001b[1;32m     24\u001b[0m \u001b[0mPATH\u001b[0m \u001b[0;34m=\u001b[0m \u001b[0;34m'/home/kai/data/shiyi/Kaggle/talkingdata/sc/TalkingData_4th_solution/work/'\u001b[0m\u001b[0;34m\u001b[0m\u001b[0m\n\u001b[1;32m     25\u001b[0m \u001b[0mPATH1\u001b[0m \u001b[0;34m=\u001b[0m \u001b[0;34m'/home/kai/data/kaggle/talkingdata/haoyandata/'\u001b[0m\u001b[0;34m\u001b[0m\u001b[0m\n\u001b[0;32m---> 26\u001b[0;31m \u001b[0mx\u001b[0m \u001b[0;34m=\u001b[0m \u001b[0mpd\u001b[0m\u001b[0;34m.\u001b[0m\u001b[0mread_csv\u001b[0m\u001b[0;34m(\u001b[0m\u001b[0mPATH\u001b[0m \u001b[0;34m+\u001b[0m \u001b[0;34m'train_countRatio_app_channel.csv'\u001b[0m\u001b[0;34m)\u001b[0m\u001b[0;34m\u001b[0m\u001b[0m\n\u001b[0m\u001b[1;32m     27\u001b[0m \u001b[0my\u001b[0m \u001b[0;34m=\u001b[0m \u001b[0mpd\u001b[0m\u001b[0;34m.\u001b[0m\u001b[0mread_feather\u001b[0m\u001b[0;34m(\u001b[0m\u001b[0mPATH1\u001b[0m \u001b[0;34m+\u001b[0m \u001b[0;34m'train__count_ratio_app_channel.ftr'\u001b[0m\u001b[0;34m)\u001b[0m\u001b[0;34m\u001b[0m\u001b[0m\n\u001b[1;32m     28\u001b[0m \u001b[0mprint\u001b[0m\u001b[0;34m(\u001b[0m\u001b[0msum\u001b[0m\u001b[0;34m(\u001b[0m\u001b[0mabs\u001b[0m\u001b[0;34m(\u001b[0m\u001b[0mx\u001b[0m\u001b[0;34m[\u001b[0m\u001b[0mx\u001b[0m\u001b[0;34m.\u001b[0m\u001b[0mcolumns\u001b[0m\u001b[0;34m.\u001b[0m\u001b[0mvalues\u001b[0m\u001b[0;34m[\u001b[0m\u001b[0;36m0\u001b[0m\u001b[0;34m]\u001b[0m\u001b[0;34m]\u001b[0m\u001b[0;34m-\u001b[0m\u001b[0my\u001b[0m\u001b[0;34m[\u001b[0m\u001b[0my\u001b[0m\u001b[0;34m.\u001b[0m\u001b[0mcolumns\u001b[0m\u001b[0;34m.\u001b[0m\u001b[0mvalues\u001b[0m\u001b[0;34m[\u001b[0m\u001b[0;36m0\u001b[0m\u001b[0;34m]\u001b[0m\u001b[0;34m]\u001b[0m\u001b[0;34m)\u001b[0m\u001b[0;34m)\u001b[0m\u001b[0;34m)\u001b[0m\u001b[0;34m\u001b[0m\u001b[0m\n",
      "\u001b[0;32m~/anaconda3/lib/python3.6/site-packages/pandas/io/parsers.py\u001b[0m in \u001b[0;36mparser_f\u001b[0;34m(filepath_or_buffer, sep, delimiter, header, names, index_col, usecols, squeeze, prefix, mangle_dupe_cols, dtype, engine, converters, true_values, false_values, skipinitialspace, skiprows, nrows, na_values, keep_default_na, na_filter, verbose, skip_blank_lines, parse_dates, infer_datetime_format, keep_date_col, date_parser, dayfirst, iterator, chunksize, compression, thousands, decimal, lineterminator, quotechar, quoting, escapechar, comment, encoding, dialect, tupleize_cols, error_bad_lines, warn_bad_lines, skipfooter, skip_footer, doublequote, delim_whitespace, as_recarray, compact_ints, use_unsigned, low_memory, buffer_lines, memory_map, float_precision)\u001b[0m\n\u001b[1;32m    653\u001b[0m                     skip_blank_lines=skip_blank_lines)\n\u001b[1;32m    654\u001b[0m \u001b[0;34m\u001b[0m\u001b[0m\n\u001b[0;32m--> 655\u001b[0;31m         \u001b[0;32mreturn\u001b[0m \u001b[0m_read\u001b[0m\u001b[0;34m(\u001b[0m\u001b[0mfilepath_or_buffer\u001b[0m\u001b[0;34m,\u001b[0m \u001b[0mkwds\u001b[0m\u001b[0;34m)\u001b[0m\u001b[0;34m\u001b[0m\u001b[0m\n\u001b[0m\u001b[1;32m    656\u001b[0m \u001b[0;34m\u001b[0m\u001b[0m\n\u001b[1;32m    657\u001b[0m     \u001b[0mparser_f\u001b[0m\u001b[0;34m.\u001b[0m\u001b[0m__name__\u001b[0m \u001b[0;34m=\u001b[0m \u001b[0mname\u001b[0m\u001b[0;34m\u001b[0m\u001b[0m\n",
      "\u001b[0;32m~/anaconda3/lib/python3.6/site-packages/pandas/io/parsers.py\u001b[0m in \u001b[0;36m_read\u001b[0;34m(filepath_or_buffer, kwds)\u001b[0m\n\u001b[1;32m    409\u001b[0m \u001b[0;34m\u001b[0m\u001b[0m\n\u001b[1;32m    410\u001b[0m     \u001b[0;32mtry\u001b[0m\u001b[0;34m:\u001b[0m\u001b[0;34m\u001b[0m\u001b[0m\n\u001b[0;32m--> 411\u001b[0;31m         \u001b[0mdata\u001b[0m \u001b[0;34m=\u001b[0m \u001b[0mparser\u001b[0m\u001b[0;34m.\u001b[0m\u001b[0mread\u001b[0m\u001b[0;34m(\u001b[0m\u001b[0mnrows\u001b[0m\u001b[0;34m)\u001b[0m\u001b[0;34m\u001b[0m\u001b[0m\n\u001b[0m\u001b[1;32m    412\u001b[0m     \u001b[0;32mfinally\u001b[0m\u001b[0;34m:\u001b[0m\u001b[0;34m\u001b[0m\u001b[0m\n\u001b[1;32m    413\u001b[0m         \u001b[0mparser\u001b[0m\u001b[0;34m.\u001b[0m\u001b[0mclose\u001b[0m\u001b[0;34m(\u001b[0m\u001b[0;34m)\u001b[0m\u001b[0;34m\u001b[0m\u001b[0m\n",
      "\u001b[0;32m~/anaconda3/lib/python3.6/site-packages/pandas/io/parsers.py\u001b[0m in \u001b[0;36mread\u001b[0;34m(self, nrows)\u001b[0m\n\u001b[1;32m   1003\u001b[0m                 \u001b[0;32mraise\u001b[0m \u001b[0mValueError\u001b[0m\u001b[0;34m(\u001b[0m\u001b[0;34m'skipfooter not supported for iteration'\u001b[0m\u001b[0;34m)\u001b[0m\u001b[0;34m\u001b[0m\u001b[0m\n\u001b[1;32m   1004\u001b[0m \u001b[0;34m\u001b[0m\u001b[0m\n\u001b[0;32m-> 1005\u001b[0;31m         \u001b[0mret\u001b[0m \u001b[0;34m=\u001b[0m \u001b[0mself\u001b[0m\u001b[0;34m.\u001b[0m\u001b[0m_engine\u001b[0m\u001b[0;34m.\u001b[0m\u001b[0mread\u001b[0m\u001b[0;34m(\u001b[0m\u001b[0mnrows\u001b[0m\u001b[0;34m)\u001b[0m\u001b[0;34m\u001b[0m\u001b[0m\n\u001b[0m\u001b[1;32m   1006\u001b[0m \u001b[0;34m\u001b[0m\u001b[0m\n\u001b[1;32m   1007\u001b[0m         \u001b[0;32mif\u001b[0m \u001b[0mself\u001b[0m\u001b[0;34m.\u001b[0m\u001b[0moptions\u001b[0m\u001b[0;34m.\u001b[0m\u001b[0mget\u001b[0m\u001b[0;34m(\u001b[0m\u001b[0;34m'as_recarray'\u001b[0m\u001b[0;34m)\u001b[0m\u001b[0;34m:\u001b[0m\u001b[0;34m\u001b[0m\u001b[0m\n",
      "\u001b[0;32m~/anaconda3/lib/python3.6/site-packages/pandas/io/parsers.py\u001b[0m in \u001b[0;36mread\u001b[0;34m(self, nrows)\u001b[0m\n\u001b[1;32m   1746\u001b[0m     \u001b[0;32mdef\u001b[0m \u001b[0mread\u001b[0m\u001b[0;34m(\u001b[0m\u001b[0mself\u001b[0m\u001b[0;34m,\u001b[0m \u001b[0mnrows\u001b[0m\u001b[0;34m=\u001b[0m\u001b[0;32mNone\u001b[0m\u001b[0;34m)\u001b[0m\u001b[0;34m:\u001b[0m\u001b[0;34m\u001b[0m\u001b[0m\n\u001b[1;32m   1747\u001b[0m         \u001b[0;32mtry\u001b[0m\u001b[0;34m:\u001b[0m\u001b[0;34m\u001b[0m\u001b[0m\n\u001b[0;32m-> 1748\u001b[0;31m             \u001b[0mdata\u001b[0m \u001b[0;34m=\u001b[0m \u001b[0mself\u001b[0m\u001b[0;34m.\u001b[0m\u001b[0m_reader\u001b[0m\u001b[0;34m.\u001b[0m\u001b[0mread\u001b[0m\u001b[0;34m(\u001b[0m\u001b[0mnrows\u001b[0m\u001b[0;34m)\u001b[0m\u001b[0;34m\u001b[0m\u001b[0m\n\u001b[0m\u001b[1;32m   1749\u001b[0m         \u001b[0;32mexcept\u001b[0m \u001b[0mStopIteration\u001b[0m\u001b[0;34m:\u001b[0m\u001b[0;34m\u001b[0m\u001b[0m\n\u001b[1;32m   1750\u001b[0m             \u001b[0;32mif\u001b[0m \u001b[0mself\u001b[0m\u001b[0;34m.\u001b[0m\u001b[0m_first_chunk\u001b[0m\u001b[0;34m:\u001b[0m\u001b[0;34m\u001b[0m\u001b[0m\n",
      "\u001b[0;32mpandas/_libs/parsers.pyx\u001b[0m in \u001b[0;36mpandas._libs.parsers.TextReader.read (pandas/_libs/parsers.c:10862)\u001b[0;34m()\u001b[0m\n",
      "\u001b[0;32mpandas/_libs/parsers.pyx\u001b[0m in \u001b[0;36mpandas._libs.parsers.TextReader._read_low_memory (pandas/_libs/parsers.c:11138)\u001b[0;34m()\u001b[0m\n",
      "\u001b[0;32mpandas/_libs/parsers.pyx\u001b[0m in \u001b[0;36mpandas._libs.parsers.TextReader._read_rows (pandas/_libs/parsers.c:12175)\u001b[0;34m()\u001b[0m\n",
      "\u001b[0;32mpandas/_libs/parsers.pyx\u001b[0m in \u001b[0;36mpandas._libs.parsers.TextReader._convert_column_data (pandas/_libs/parsers.c:14136)\u001b[0;34m()\u001b[0m\n",
      "\u001b[0;32mpandas/_libs/parsers.pyx\u001b[0m in \u001b[0;36mpandas._libs.parsers.TextReader._convert_tokens (pandas/_libs/parsers.c:14858)\u001b[0;34m()\u001b[0m\n",
      "\u001b[0;32mpandas/_libs/parsers.pyx\u001b[0m in \u001b[0;36mpandas._libs.parsers.TextReader._convert_with_dtype (pandas/_libs/parsers.c:15629)\u001b[0;34m()\u001b[0m\n",
      "\u001b[0;32m~/anaconda3/lib/python3.6/site-packages/pandas/core/dtypes/common.py\u001b[0m in \u001b[0;36mis_integer_dtype\u001b[0;34m(arr_or_dtype)\u001b[0m\n\u001b[1;32m    738\u001b[0m \u001b[0;34m\u001b[0m\u001b[0m\n\u001b[1;32m    739\u001b[0m \u001b[0;34m\u001b[0m\u001b[0m\n\u001b[0;32m--> 740\u001b[0;31m \u001b[0;32mdef\u001b[0m \u001b[0mis_integer_dtype\u001b[0m\u001b[0;34m(\u001b[0m\u001b[0marr_or_dtype\u001b[0m\u001b[0;34m)\u001b[0m\u001b[0;34m:\u001b[0m\u001b[0;34m\u001b[0m\u001b[0m\n\u001b[0m\u001b[1;32m    741\u001b[0m     \"\"\"\n\u001b[1;32m    742\u001b[0m     \u001b[0mCheck\u001b[0m \u001b[0mwhether\u001b[0m \u001b[0mthe\u001b[0m \u001b[0mprovided\u001b[0m \u001b[0marray\u001b[0m \u001b[0;32mor\u001b[0m \u001b[0mdtype\u001b[0m \u001b[0;32mis\u001b[0m \u001b[0mof\u001b[0m \u001b[0man\u001b[0m \u001b[0minteger\u001b[0m \u001b[0mdtype\u001b[0m\u001b[0;34m.\u001b[0m\u001b[0;34m\u001b[0m\u001b[0m\n",
      "\u001b[0;31mKeyboardInterrupt\u001b[0m: "
     ]
    }
   ],
   "source": [
    "# count ratio\n",
    "\n",
    "import pandas as pd\n",
    "PATH = '/home/kai/data/shiyi/Kaggle/talkingdata/sc/TalkingData_4th_solution/work/'\n",
    "PATH1 = '/home/kai/data/kaggle/talkingdata/haoyandata/'\n",
    "x = pd.read_csv(PATH + 'train_countRatio_ip_machine.csv')\n",
    "y = pd.read_feather(PATH1 + 'train__count_ratio_ip_machine.ftr')\n",
    "print(sum(abs(x[x.columns.values[0]]-y[y.columns.values[0]])))\n",
    "print(pd.isnull(x).values.any(), pd.isnull(y).values.any())\n",
    "\n",
    "# count ratio\n",
    "\n",
    "import pandas as pd\n",
    "PATH = '/home/kai/data/shiyi/Kaggle/talkingdata/sc/TalkingData_4th_solution/work/'\n",
    "PATH1 = '/home/kai/data/kaggle/talkingdata/haoyandata/'\n",
    "x = pd.read_csv(PATH + 'train_countRatio_ip_channel.csv')\n",
    "y = pd.read_feather(PATH1 + 'train__count_ratio_ip_channel.ftr')\n",
    "print(sum(abs(x[x.columns.values[0]]-y[y.columns.values[0]])))\n",
    "print(pd.isnull(x).values.any(), pd.isnull(y).values.any())\n",
    "\n",
    "# count ratio\n",
    "\n",
    "import pandas as pd\n",
    "PATH = '/home/kai/data/shiyi/Kaggle/talkingdata/sc/TalkingData_4th_solution/work/'\n",
    "PATH1 = '/home/kai/data/kaggle/talkingdata/haoyandata/'\n",
    "x = pd.read_csv(PATH + 'train_countRatio_app_channel.csv')\n",
    "y = pd.read_feather(PATH1 + 'train__count_ratio_app_channel.ftr')\n",
    "print(sum(abs(x[x.columns.values[0]]-y[y.columns.values[0]])))\n",
    "print(pd.isnull(x).values.any(), pd.isnull(y).values.any())\n",
    "\n",
    "# count ratio\n",
    "\n",
    "import pandas as pd\n",
    "PATH = '/home/kai/data/shiyi/Kaggle/talkingdata/sc/TalkingData_4th_solution/work/'\n",
    "PATH1 = '/home/kai/data/kaggle/talkingdata/haoyandata/'\n",
    "x = pd.read_csv(PATH + 'train_countRatio_channel_app.csv')\n",
    "y = pd.read_feather(PATH1 + 'train__count_ratio_channel_app.ftr')\n",
    "print(sum(abs(x[x.columns.values[0]]-y[y.columns.values[0]])))\n",
    "print(pd.isnull(x).values.any(), pd.isnull(y).values.any())\n",
    "\n",
    "# count ratio\n",
    "\n",
    "import pandas as pd\n",
    "PATH = '/home/kai/data/shiyi/Kaggle/talkingdata/sc/TalkingData_4th_solution/work/'\n",
    "PATH1 = '/home/kai/data/kaggle/talkingdata/haoyandata/'\n",
    "x = pd.read_csv(PATH + 'train_countRatio_machine_ip.csv')\n",
    "y = pd.read_feather(PATH1 + 'train__count_ratio_machine_ip.ftr')\n",
    "print(sum(abs(x[x.columns.values[0]]-y[y.columns.values[0]])))\n",
    "print(pd.isnull(x).values.any(), pd.isnull(y).values.any())\n",
    "\n",
    "# count ratio\n",
    "\n",
    "import pandas as pd\n",
    "PATH = '/home/kai/data/shiyi/Kaggle/talkingdata/sc/TalkingData_4th_solution/work/'\n",
    "PATH1 = '/home/kai/data/kaggle/talkingdata/haoyandata/'\n",
    "x = pd.read_csv(PATH + 'train_countRatio_ip_day.csv')\n",
    "y = pd.read_feather(PATH1 + 'train__count_ratio_ip_day.ftr')\n",
    "print(sum(abs(x[x.columns.values[0]]-y[y.columns.values[0]])))\n",
    "print(pd.isnull(x).values.any(), pd.isnull(y).values.any())"
   ]
  },
  {
   "cell_type": "code",
   "execution_count": 1,
   "metadata": {
    "ExecuteTime": {
     "end_time": "2018-06-04T18:46:19.348745Z",
     "start_time": "2018-06-04T18:45:37.491888Z"
    }
   },
   "outputs": [
    {
     "name": "stdout",
     "output_type": "stream",
     "text": [
      "5.94631817119e-08\n",
      "-5.95755373922e-08\n",
      "2.97224234114e-08\n",
      "0.0\n"
     ]
    }
   ],
   "source": [
    "import pandas as pd\n",
    "PATH = '/home/kai/data/shiyi/Kaggle/talkingdata/sc/TalkingData_4th_solution/work/'\n",
    "PATH1 = '/home/kai/data/kaggle/talkingdata/haoyandata/'\n",
    "x = pd.read_csv(PATH + 'train_countRatio_ip_machine.csv')\n",
    "y = pd.read_feather(PATH1 + 'train__count_ratio_ip_machine.ftr')\n",
    "\n",
    "print((abs(x[x.columns.values[0]] / y[y.columns.values[0]])-1.0).max())\n",
    "print((abs(x[x.columns.values[0]] / y[y.columns.values[0]])-1.0).min())\n",
    "print((abs(x[x.columns.values[0]] - y[y.columns.values[0]])).max())"
   ]
  },
  {
   "cell_type": "code",
   "execution_count": 3,
   "metadata": {
    "ExecuteTime": {
     "end_time": "2018-06-01T01:25:17.052540Z",
     "start_time": "2018-06-01T01:24:54.457708Z"
    }
   },
   "outputs": [
    {
     "name": "stdout",
     "output_type": "stream",
     "text": [
      "0\n"
     ]
    }
   ],
   "source": [
    "# unique count\n",
    "\n",
    "import pandas as pd\n",
    "PATH = '/home/kai/data/shiyi/Kaggle/talkingdata/sc/TalkingData_4th_solution/work/'\n",
    "PATH1 = '/home/kai/data/kaggle/talkingdata/haoyandata/'\n",
    "x = pd.read_csv(PATH + 'train_uniqueCount_day_ip_app.csv')\n",
    "y = pd.read_feather(PATH1 + 'train__nunique_day_ip_app.ftr')\n",
    "print(sum(abs(x[x.columns.values[0]]-y[y.columns.values[0]])))"
   ]
  },
  {
   "cell_type": "code",
   "execution_count": 1,
   "metadata": {
    "ExecuteTime": {
     "end_time": "2018-06-04T18:41:18.366623Z",
     "start_time": "2018-06-04T18:40:32.377788Z"
    }
   },
   "outputs": [
    {
     "name": "stdout",
     "output_type": "stream",
     "text": [
      "0.258035148778\n"
     ]
    },
    {
     "ename": "AttributeError",
     "evalue": "module 'pandas' has no attribute 'isna'",
     "output_type": "error",
     "traceback": [
      "\u001b[0;31m---------------------------------------------------------------------------\u001b[0m",
      "\u001b[0;31mAttributeError\u001b[0m                            Traceback (most recent call last)",
      "\u001b[0;32m<ipython-input-1-732c70aeed44>\u001b[0m in \u001b[0;36m<module>\u001b[0;34m()\u001b[0m\n\u001b[1;32m      7\u001b[0m \u001b[0my\u001b[0m \u001b[0;34m=\u001b[0m \u001b[0mpd\u001b[0m\u001b[0;34m.\u001b[0m\u001b[0mread_feather\u001b[0m\u001b[0;34m(\u001b[0m\u001b[0mPATH1\u001b[0m \u001b[0;34m+\u001b[0m \u001b[0;34m'train__unique_ratio_day_ip_channel.ftr'\u001b[0m\u001b[0;34m)\u001b[0m\u001b[0;34m\u001b[0m\u001b[0m\n\u001b[1;32m      8\u001b[0m \u001b[0mprint\u001b[0m\u001b[0;34m(\u001b[0m\u001b[0msum\u001b[0m\u001b[0;34m(\u001b[0m\u001b[0mabs\u001b[0m\u001b[0;34m(\u001b[0m\u001b[0mx\u001b[0m\u001b[0;34m[\u001b[0m\u001b[0mx\u001b[0m\u001b[0;34m.\u001b[0m\u001b[0mcolumns\u001b[0m\u001b[0;34m.\u001b[0m\u001b[0mvalues\u001b[0m\u001b[0;34m[\u001b[0m\u001b[0;36m0\u001b[0m\u001b[0;34m]\u001b[0m\u001b[0;34m]\u001b[0m\u001b[0;34m-\u001b[0m\u001b[0my\u001b[0m\u001b[0;34m[\u001b[0m\u001b[0my\u001b[0m\u001b[0;34m.\u001b[0m\u001b[0mcolumns\u001b[0m\u001b[0;34m.\u001b[0m\u001b[0mvalues\u001b[0m\u001b[0;34m[\u001b[0m\u001b[0;36m0\u001b[0m\u001b[0;34m]\u001b[0m\u001b[0;34m]\u001b[0m\u001b[0;34m)\u001b[0m\u001b[0;34m)\u001b[0m\u001b[0;34m)\u001b[0m\u001b[0;34m\u001b[0m\u001b[0m\n\u001b[0;32m----> 9\u001b[0;31m \u001b[0mprint\u001b[0m\u001b[0;34m(\u001b[0m\u001b[0msum\u001b[0m\u001b[0;34m(\u001b[0m\u001b[0mpd\u001b[0m\u001b[0;34m.\u001b[0m\u001b[0misna\u001b[0m\u001b[0;34m(\u001b[0m\u001b[0mx\u001b[0m\u001b[0;34m)\u001b[0m\u001b[0;34m)\u001b[0m\u001b[0;34m,\u001b[0m \u001b[0msum\u001b[0m\u001b[0;34m(\u001b[0m\u001b[0mpd\u001b[0m\u001b[0;34m.\u001b[0m\u001b[0misna\u001b[0m\u001b[0;34m(\u001b[0m\u001b[0my\u001b[0m\u001b[0;34m)\u001b[0m\u001b[0;34m)\u001b[0m\u001b[0;34m)\u001b[0m\u001b[0;34m\u001b[0m\u001b[0m\n\u001b[0m",
      "\u001b[0;31mAttributeError\u001b[0m: module 'pandas' has no attribute 'isna'"
     ]
    }
   ],
   "source": [
    "# unique count ratio\n",
    "\n",
    "import pandas as pd\n",
    "PATH = '/home/kai/data/shiyi/Kaggle/talkingdata/sc/TalkingData_4th_solution/work/'\n",
    "PATH1 = '/home/kai/data/kaggle/talkingdata/haoyandata/'\n",
    "x = pd.read_csv(PATH + 'train_uniqueCountRatio_day_ip_channel.csv')\n",
    "y = pd.read_feather(PATH1 + 'train__unique_ratio_day_ip_channel.ftr')\n",
    "print(sum(abs(x[x.columns.values[0]]-y[y.columns.values[0]])))\n",
    "print(pd.isnull(x).values.any(), pd.isnull(y).values.any())"
   ]
  },
  {
   "cell_type": "code",
   "execution_count": 5,
   "metadata": {
    "ExecuteTime": {
     "end_time": "2018-06-01T01:26:29.990544Z",
     "start_time": "2018-06-01T01:26:02.026526Z"
    }
   },
   "outputs": [
    {
     "name": "stdout",
     "output_type": "stream",
     "text": [
      "0\n"
     ]
    }
   ],
   "source": [
    "# reverse cumcount\n",
    "\n",
    "import pandas as pd\n",
    "PATH = '/home/kai/data/shiyi/Kaggle/talkingdata/sc/TalkingData_4th_solution/work/'\n",
    "PATH1 = '/home/kai/data/kaggle/talkingdata/haoyandata/'\n",
    "x = pd.read_csv(PATH + 'train_recumcount_app_device_os_day.csv')\n",
    "y = pd.read_feather(PATH1 + 'train__cumcount_app_device_os_day.ftr')\n",
    "print(sum(abs(x[x.columns.values[0]]-y[y.columns.values[0]])))"
   ]
  },
  {
   "cell_type": "code",
   "execution_count": 14,
   "metadata": {
    "ExecuteTime": {
     "end_time": "2018-06-01T02:08:55.408703Z",
     "start_time": "2018-06-01T02:08:29.305497Z"
    }
   },
   "outputs": [
    {
     "name": "stdout",
     "output_type": "stream",
     "text": [
      "0\n"
     ]
    }
   ],
   "source": [
    "# cumcount\n",
    "\n",
    "import pandas as pd\n",
    "PATH = '/home/kai/data/shiyi/Kaggle/talkingdata/sc/TalkingData_4th_solution/work/'\n",
    "PATH1 = '/home/kai/data/kaggle/talkingdata/haoyandata/'\n",
    "x = pd.read_csv(PATH + 'train_cumcount_ip_day.csv')\n",
    "y = pd.read_feather(PATH1 + 'train__cumcount_ip_day.ftr')\n",
    "print(sum(abs(x[x.columns.values[0]]-y[y.columns.values[0]])))"
   ]
  },
  {
   "cell_type": "code",
   "execution_count": 16,
   "metadata": {
    "ExecuteTime": {
     "end_time": "2018-06-01T02:18:52.705754Z",
     "start_time": "2018-06-01T02:18:24.698902Z"
    }
   },
   "outputs": [
    {
     "name": "stdout",
     "output_type": "stream",
     "text": [
      "3.48454480548e-10\n"
     ]
    }
   ],
   "source": [
    "# cumcount ratio\n",
    "\n",
    "import pandas as pd\n",
    "PATH = '/home/kai/data/shiyi/Kaggle/talkingdata/sc/TalkingData_4th_solution/work/'\n",
    "PATH1 = '/home/kai/data/kaggle/talkingdata/haoyandata/'\n",
    "x = pd.read_csv(PATH + 'train_cumratio_ip_day.csv')\n",
    "y = pd.read_feather(PATH1 + 'train__cumcount_ratio_ip_day.ftr')\n",
    "print(sum(abs(x[x.columns.values[0]]-y[y.columns.values[0]])))"
   ]
  },
  {
   "cell_type": "code",
   "execution_count": 8,
   "metadata": {
    "ExecuteTime": {
     "end_time": "2018-06-01T01:30:06.371654Z",
     "start_time": "2018-06-01T01:29:39.742289Z"
    }
   },
   "outputs": [
    {
     "name": "stdout",
     "output_type": "stream",
     "text": [
      "0\n"
     ]
    }
   ],
   "source": [
    "# time to next n click\n",
    "\n",
    "import pandas as pd\n",
    "PATH = '/home/kai/data/shiyi/Kaggle/talkingdata/sc/TalkingData_4th_solution/work/'\n",
    "PATH1 = '/home/kai/data/kaggle/talkingdata/haoyandata/'\n",
    "x = pd.read_csv(PATH + 'train_nextNextClickLeakDay.csv')\n",
    "y = pd.read_feather(PATH1 + 'train__time_to_n_next_click_2_day_ip_app_device_os.ftr')\n",
    "print(sum(abs(x[x.columns.values[0]]-y[y.columns.values[0]])))"
   ]
  },
  {
   "cell_type": "code",
   "execution_count": 1,
   "metadata": {
    "ExecuteTime": {
     "end_time": "2018-06-01T01:35:13.950034Z",
     "start_time": "2018-06-01T01:34:29.638600Z"
    }
   },
   "outputs": [
    {
     "name": "stdout",
     "output_type": "stream",
     "text": [
      "0\n"
     ]
    }
   ],
   "source": [
    "# time to next n click filter\n",
    "\n",
    "import pandas as pd\n",
    "PATH = '/home/kai/data/shiyi/Kaggle/talkingdata/sc/TalkingData_4th_solution/work/'\n",
    "PATH1 = '/home/kai/data/kaggle/talkingdata/haoyandata/'\n",
    "x = pd.read_csv(PATH + 'train_nextClickLeakDayFlt.csv')\n",
    "y = pd.read_feather(PATH1 + 'train__filter_time_to_n_next_click_1_day_ip_app_device_os.ftr')\n",
    "print(sum(abs(x[x.columns.values[0]]-y[y.columns.values[0]])))"
   ]
  },
  {
   "cell_type": "code",
   "execution_count": 2,
   "metadata": {
    "ExecuteTime": {
     "end_time": "2018-06-01T01:35:13.950034Z",
     "start_time": "2018-06-01T01:34:29.638600Z"
    }
   },
   "outputs": [
    {
     "name": "stdout",
     "output_type": "stream",
     "text": [
      "0\n"
     ]
    }
   ],
   "source": [
    "# range count\n",
    "\n",
    "import pandas as pd\n",
    "PATH = '/home/kai/data/shiyi/Kaggle/talkingdata/sc/TalkingData_4th_solution/work/'\n",
    "PATH1 = '/home/kai/data/kaggle/talkingdata/haoyandata/'\n",
    "x = pd.read_csv(PATH + 'train_dayhourminute10count_app_os_channel.csv')\n",
    "y = pd.read_feather(PATH1 + 'train__range_count_app_os_channel_dayhourminute10.ftr')\n",
    "print(sum(abs(x[x.columns.values[0]]-y[y.columns.values[0]])))"
   ]
  },
  {
   "cell_type": "code",
   "execution_count": 3,
   "metadata": {
    "ExecuteTime": {
     "end_time": "2018-06-01T01:35:13.950034Z",
     "start_time": "2018-06-01T01:34:29.638600Z"
    }
   },
   "outputs": [
    {
     "name": "stdout",
     "output_type": "stream",
     "text": [
      "0.0\n"
     ]
    }
   ],
   "source": [
    "# variance\n",
    "\n",
    "import pandas as pd\n",
    "PATH = '/home/kai/data/shiyi/Kaggle/talkingdata/sc/TalkingData_4th_solution/work/'\n",
    "PATH1 = '/home/kai/data/kaggle/talkingdata/haoyandata/'\n",
    "x = pd.read_csv(PATH + 'train_var_ip_device_hour.csv')\n",
    "y = pd.read_feather(PATH1 + 'train__variance_ip_device_hour.ftr')\n",
    "print(sum(abs(x[x.columns.values[0]]-y[y.columns.values[0]])))"
   ]
  },
  {
   "cell_type": "code",
   "execution_count": 4,
   "metadata": {
    "ExecuteTime": {
     "end_time": "2018-06-01T01:35:13.950034Z",
     "start_time": "2018-06-01T01:34:29.638600Z"
    }
   },
   "outputs": [
    {
     "name": "stdout",
     "output_type": "stream",
     "text": [
      "0\n"
     ]
    }
   ],
   "source": [
    "# com ip\n",
    "\n",
    "import pandas as pd\n",
    "PATH = '/home/kai/data/shiyi/Kaggle/talkingdata/sc/TalkingData_4th_solution/work/'\n",
    "PATH1 = '/home/kai/data/kaggle/talkingdata/haoyandata/'\n",
    "x = pd.read_csv(PATH + 'train_com_ip.csv')\n",
    "y = pd.read_feather(PATH1 + 'train__com_ip.ftr')\n",
    "print(sum(abs(x[x.columns.values[0]]-y[y.columns.values[0]])))"
   ]
  },
  {
   "cell_type": "code",
   "execution_count": 5,
   "metadata": {
    "ExecuteTime": {
     "end_time": "2018-06-01T01:35:13.950034Z",
     "start_time": "2018-06-01T01:34:29.638600Z"
    }
   },
   "outputs": [
    {
     "name": "stdout",
     "output_type": "stream",
     "text": [
      "0\n"
     ]
    }
   ],
   "source": [
    "# com 1 ip\n",
    "\n",
    "import pandas as pd\n",
    "PATH = '/home/kai/data/shiyi/Kaggle/talkingdata/sc/TalkingData_4th_solution/work/'\n",
    "PATH1 = '/home/kai/data/kaggle/talkingdata/haoyandata/'\n",
    "x = pd.read_csv(PATH + 'train_com1_ip.csv')\n",
    "y = pd.read_feather(PATH1 + 'train__com1_ip.ftr')\n",
    "print(sum(abs(x[x.columns.values[0]]-y[y.columns.values[0]])))"
   ]
  },
  {
   "cell_type": "code",
   "execution_count": 6,
   "metadata": {
    "ExecuteTime": {
     "end_time": "2018-06-01T01:35:13.950034Z",
     "start_time": "2018-06-01T01:34:29.638600Z"
    }
   },
   "outputs": [
    {
     "name": "stdout",
     "output_type": "stream",
     "text": [
      "1.12502183047e-09\n"
     ]
    }
   ],
   "source": [
    "# woe\n",
    "\n",
    "import pandas as pd\n",
    "PATH = '/home/kai/data/shiyi/Kaggle/talkingdata/sc/TalkingData_4th_solution/work/'\n",
    "PATH1 = '/home/kai/data/kaggle/talkingdata/haoyandata/'\n",
    "x = pd.read_csv(PATH + 'train_WOEBnd_app_nextClickLeakDayFlt.csv')\n",
    "y = pd.read_feather(PATH1 + 'train__woe_app_nextClickLeakDayFlt.ftr')\n",
    "print(sum(abs(x[x.columns.values[0]]-y[y.columns.values[0]])))"
   ]
  },
  {
   "cell_type": "code",
   "execution_count": null,
   "metadata": {
    "collapsed": true
   },
   "outputs": [],
   "source": []
  }
 ],
 "metadata": {
  "kernelspec": {
   "display_name": "Python 3",
   "language": "python",
   "name": "python3"
  },
  "language_info": {
   "codemirror_mode": {
    "name": "ipython",
    "version": 3
   },
   "file_extension": ".py",
   "mimetype": "text/x-python",
   "name": "python",
   "nbconvert_exporter": "python",
   "pygments_lexer": "ipython3",
   "version": "3.6.3"
  },
  "varInspector": {
   "cols": {
    "lenName": 16,
    "lenType": 16,
    "lenVar": 40
   },
   "kernels_config": {
    "python": {
     "delete_cmd_postfix": "",
     "delete_cmd_prefix": "del ",
     "library": "var_list.py",
     "varRefreshCmd": "print(var_dic_list())"
    },
    "r": {
     "delete_cmd_postfix": ") ",
     "delete_cmd_prefix": "rm(",
     "library": "var_list.r",
     "varRefreshCmd": "cat(var_dic_list()) "
    }
   },
   "types_to_exclude": [
    "module",
    "function",
    "builtin_function_or_method",
    "instance",
    "_Feature"
   ],
   "window_display": false
  }
 },
 "nbformat": 4,
 "nbformat_minor": 2
}
