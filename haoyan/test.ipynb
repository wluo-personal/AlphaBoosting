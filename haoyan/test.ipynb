{
 "cells": [
  {
   "cell_type": "markdown",
   "metadata": {},
   "source": [
    "# time zone test"
   ]
  },
  {
   "cell_type": "code",
   "execution_count": 38,
   "metadata": {
    "scrolled": true
   },
   "outputs": [
    {
     "name": "stdout",
     "output_type": "stream",
     "text": [
      "                 click_time\n",
      "0 2017-11-06 22:32:21+08:00\n",
      "1 2017-11-06 22:33:34+08:00\n",
      "2 2017-11-06 22:34:12+08:00\n",
      "3 2017-11-06 22:34:52+08:00\n",
      "4 2017-11-06 22:35:08+08:00\n",
      "0    73.0\n",
      "1    38.0\n",
      "2    40.0\n",
      "3    16.0\n",
      "4     NaN\n",
      "Name: click_time, dtype: float64\n",
      "\n"
     ]
    }
   ],
   "source": [
    "import pandas as pd\n",
    "import pytz\n",
    "import numpy as np\n",
    "\n",
    "PATH = \"/home/kai/data/kaggle/talkingdata/data/\"\n",
    "train = pd.read_csv(PATH + 'train.csv', nrows=5)\n",
    "feature_cols = ['ip', 'app', 'device' , 'os', 'channel']\n",
    "time_col = 'timestamp'\n",
    "label_col = 'is_attributed'\n",
    "\n",
    "x = pd.to_datetime(train['click_time']).dt.tz_localize(pytz.utc).dt.tz_convert(pytz.timezone('Asia/Shanghai')).to_frame()\n",
    "y = x.astype(np.int64)['click_time'] // 10 ** 9\n",
    "print(x)\n",
    "print(y.shift(-1) - y)\n",
    "print()"
   ]
  },
  {
   "cell_type": "markdown",
   "metadata": {},
   "source": [
    "# test on groupby"
   ]
  },
  {
   "cell_type": "code",
   "execution_count": 3,
   "metadata": {},
   "outputs": [
    {
     "ename": "ValueError",
     "evalue": "cannot insert ip, already exists",
     "output_type": "error",
     "traceback": [
      "\u001b[0;31m---------------------------------------------------------------------------\u001b[0m",
      "\u001b[0;31mValueError\u001b[0m                                Traceback (most recent call last)",
      "\u001b[0;32m<ipython-input-3-48de56d56875>\u001b[0m in \u001b[0;36m<module>\u001b[0;34m()\u001b[0m\n\u001b[1;32m      5\u001b[0m \u001b[0;31m# gp1 = train.groupby(by=['ip','app'])[['ip']].count().reset_index()\\\u001b[0m\u001b[0;34m\u001b[0m\u001b[0;34m\u001b[0m\u001b[0m\n\u001b[1;32m      6\u001b[0m \u001b[0;31m#            .rename(index=str, columns={'ip': 'x'})\u001b[0m\u001b[0;34m\u001b[0m\u001b[0;34m\u001b[0m\u001b[0m\n\u001b[0;32m----> 7\u001b[0;31m \u001b[0mgp\u001b[0m \u001b[0;34m=\u001b[0m \u001b[0mtrain\u001b[0m\u001b[0;34m.\u001b[0m\u001b[0mgroupby\u001b[0m\u001b[0;34m(\u001b[0m\u001b[0mby\u001b[0m\u001b[0;34m=\u001b[0m\u001b[0;34m[\u001b[0m\u001b[0;34m'ip'\u001b[0m\u001b[0;34m,\u001b[0m\u001b[0;34m'app'\u001b[0m\u001b[0;34m]\u001b[0m\u001b[0;34m)\u001b[0m\u001b[0;34m[\u001b[0m\u001b[0;34m[\u001b[0m\u001b[0;34m'ip'\u001b[0m\u001b[0;34m]\u001b[0m\u001b[0;34m]\u001b[0m\u001b[0;34m.\u001b[0m\u001b[0mcount\u001b[0m\u001b[0;34m(\u001b[0m\u001b[0;34m)\u001b[0m\u001b[0;34m.\u001b[0m\u001b[0mreset_index\u001b[0m\u001b[0;34m(\u001b[0m\u001b[0;34m)\u001b[0m\u001b[0;34m\u001b[0m\u001b[0m\n\u001b[0m\u001b[1;32m      8\u001b[0m \u001b[0;31m# print(gp)\u001b[0m\u001b[0;34m\u001b[0m\u001b[0;34m\u001b[0m\u001b[0m\n\u001b[1;32m      9\u001b[0m \u001b[0;31m# print()\u001b[0m\u001b[0;34m\u001b[0m\u001b[0;34m\u001b[0m\u001b[0m\n",
      "\u001b[0;32m~/anaconda3/lib/python3.6/site-packages/pandas/core/frame.py\u001b[0m in \u001b[0;36mreset_index\u001b[0;34m(self, level, drop, inplace, col_level, col_fill)\u001b[0m\n\u001b[1;32m   2956\u001b[0m                 \u001b[0;31m# to ndarray and maybe infer different dtype\u001b[0m\u001b[0;34m\u001b[0m\u001b[0;34m\u001b[0m\u001b[0m\n\u001b[1;32m   2957\u001b[0m                 \u001b[0mlevel_values\u001b[0m \u001b[0;34m=\u001b[0m \u001b[0m_maybe_casted_values\u001b[0m\u001b[0;34m(\u001b[0m\u001b[0mlev\u001b[0m\u001b[0;34m,\u001b[0m \u001b[0mlab\u001b[0m\u001b[0;34m)\u001b[0m\u001b[0;34m\u001b[0m\u001b[0m\n\u001b[0;32m-> 2958\u001b[0;31m                 \u001b[0mnew_obj\u001b[0m\u001b[0;34m.\u001b[0m\u001b[0minsert\u001b[0m\u001b[0;34m(\u001b[0m\u001b[0;36m0\u001b[0m\u001b[0;34m,\u001b[0m \u001b[0mname\u001b[0m\u001b[0;34m,\u001b[0m \u001b[0mlevel_values\u001b[0m\u001b[0;34m)\u001b[0m\u001b[0;34m\u001b[0m\u001b[0m\n\u001b[0m\u001b[1;32m   2959\u001b[0m \u001b[0;34m\u001b[0m\u001b[0m\n\u001b[1;32m   2960\u001b[0m         \u001b[0mnew_obj\u001b[0m\u001b[0;34m.\u001b[0m\u001b[0mindex\u001b[0m \u001b[0;34m=\u001b[0m \u001b[0mnew_index\u001b[0m\u001b[0;34m\u001b[0m\u001b[0m\n",
      "\u001b[0;32m~/anaconda3/lib/python3.6/site-packages/pandas/core/frame.py\u001b[0m in \u001b[0;36minsert\u001b[0;34m(self, loc, column, value, allow_duplicates)\u001b[0m\n\u001b[1;32m   2421\u001b[0m         \u001b[0mvalue\u001b[0m \u001b[0;34m=\u001b[0m \u001b[0mself\u001b[0m\u001b[0;34m.\u001b[0m\u001b[0m_sanitize_column\u001b[0m\u001b[0;34m(\u001b[0m\u001b[0mcolumn\u001b[0m\u001b[0;34m,\u001b[0m \u001b[0mvalue\u001b[0m\u001b[0;34m,\u001b[0m \u001b[0mbroadcast\u001b[0m\u001b[0;34m=\u001b[0m\u001b[0;32mFalse\u001b[0m\u001b[0;34m)\u001b[0m\u001b[0;34m\u001b[0m\u001b[0m\n\u001b[1;32m   2422\u001b[0m         self._data.insert(loc, column, value,\n\u001b[0;32m-> 2423\u001b[0;31m                           allow_duplicates=allow_duplicates)\n\u001b[0m\u001b[1;32m   2424\u001b[0m \u001b[0;34m\u001b[0m\u001b[0m\n\u001b[1;32m   2425\u001b[0m     \u001b[0;32mdef\u001b[0m \u001b[0massign\u001b[0m\u001b[0;34m(\u001b[0m\u001b[0mself\u001b[0m\u001b[0;34m,\u001b[0m \u001b[0;34m**\u001b[0m\u001b[0mkwargs\u001b[0m\u001b[0;34m)\u001b[0m\u001b[0;34m:\u001b[0m\u001b[0;34m\u001b[0m\u001b[0m\n",
      "\u001b[0;32m~/anaconda3/lib/python3.6/site-packages/pandas/core/internals.py\u001b[0m in \u001b[0;36minsert\u001b[0;34m(self, loc, item, value, allow_duplicates)\u001b[0m\n\u001b[1;32m   3808\u001b[0m         \u001b[0;32mif\u001b[0m \u001b[0;32mnot\u001b[0m \u001b[0mallow_duplicates\u001b[0m \u001b[0;32mand\u001b[0m \u001b[0mitem\u001b[0m \u001b[0;32min\u001b[0m \u001b[0mself\u001b[0m\u001b[0;34m.\u001b[0m\u001b[0mitems\u001b[0m\u001b[0;34m:\u001b[0m\u001b[0;34m\u001b[0m\u001b[0m\n\u001b[1;32m   3809\u001b[0m             \u001b[0;31m# Should this be a different kind of error??\u001b[0m\u001b[0;34m\u001b[0m\u001b[0;34m\u001b[0m\u001b[0m\n\u001b[0;32m-> 3810\u001b[0;31m             \u001b[0;32mraise\u001b[0m \u001b[0mValueError\u001b[0m\u001b[0;34m(\u001b[0m\u001b[0;34m'cannot insert {}, already exists'\u001b[0m\u001b[0;34m.\u001b[0m\u001b[0mformat\u001b[0m\u001b[0;34m(\u001b[0m\u001b[0mitem\u001b[0m\u001b[0;34m)\u001b[0m\u001b[0;34m)\u001b[0m\u001b[0;34m\u001b[0m\u001b[0m\n\u001b[0m\u001b[1;32m   3811\u001b[0m \u001b[0;34m\u001b[0m\u001b[0m\n\u001b[1;32m   3812\u001b[0m         \u001b[0;32mif\u001b[0m \u001b[0;32mnot\u001b[0m \u001b[0misinstance\u001b[0m\u001b[0;34m(\u001b[0m\u001b[0mloc\u001b[0m\u001b[0;34m,\u001b[0m \u001b[0mint\u001b[0m\u001b[0;34m)\u001b[0m\u001b[0;34m:\u001b[0m\u001b[0;34m\u001b[0m\u001b[0m\n",
      "\u001b[0;31mValueError\u001b[0m: cannot insert ip, already exists"
     ]
    }
   ],
   "source": [
    "import pandas as pd\n",
    "PATH = \"/home/kai/data/kaggle/talkingdata/data/\"\n",
    "train = pd.read_csv(PATH + 'train.csv', nrows=10)\n",
    "\n",
    "# gp1 = train.groupby(by=['ip','app'])[['ip']].count().reset_index()\\\n",
    "#            .rename(index=str, columns={'ip': 'x'})\n",
    "gp = train.groupby(by=['ip','app'])[['ip']].count()\n",
    "# print(gp)\n",
    "# print()\n",
    "print(gp)\n",
    "\n",
    "# print(train.merge(gp1))"
   ]
  },
  {
   "cell_type": "code",
   "execution_count": 115,
   "metadata": {},
   "outputs": [
    {
     "name": "stdout",
     "output_type": "stream",
     "text": [
      "   index      ip  app  device  os  channel           click_time  \\\n",
      "3      3   45745   14       1  13      478  2017-11-06 14:34:52   \n",
      "4      4  161007    3       1  13      379  2017-11-06 14:35:08   \n",
      "\n",
      "   attributed_time  is_attributed  \n",
      "3              NaN              0  \n",
      "4              NaN              0  \n",
      "\n",
      "   device  app  count  sum\n",
      "0       1    3      8    0\n",
      "1       1   14      1    0\n",
      "2       1   64      1    0\n"
     ]
    },
    {
     "name": "stderr",
     "output_type": "stream",
     "text": [
      "/home/kai/anaconda3/lib/python3.6/site-packages/pandas/core/indexing.py:517: SettingWithCopyWarning: \n",
      "A value is trying to be set on a copy of a slice from a DataFrame.\n",
      "Try using .loc[row_indexer,col_indexer] = value instead\n",
      "\n",
      "See the caveats in the documentation: http://pandas.pydata.org/pandas-docs/stable/indexing.html#indexing-view-versus-copy\n",
      "  self.obj[item] = s\n"
     ]
    }
   ],
   "source": [
    "import pandas as pd\n",
    "PATH = \"/home/kai/data/kaggle/talkingdata/data/\"\n",
    "train = pd.read_csv(PATH + 'train.csv', nrows=10).reset_index()\n",
    "\n",
    "y = train.iloc[3:5]\n",
    "y.loc[3,'ip'] = '10'\n",
    "print(train.iloc[3:5])\n",
    "print()\n",
    "x = train.groupby(['device', 'app']).agg(['count','sum'])['is_attributed'].reset_index()\n",
    "print(x)"
   ]
  },
  {
   "cell_type": "code",
   "execution_count": 23,
   "metadata": {},
   "outputs": [
    {
     "name": "stdout",
     "output_type": "stream",
     "text": [
      "   a  b  c\n",
      "0  1  2  3\n",
      "1  4  5  6\n",
      "\n",
      "   a  b  d\n",
      "0  1  2  6\n",
      "1  4  5  7\n",
      "\n",
      "   a  b  c  d\n",
      "0  1  2  3  6\n",
      "1  4  5  6  7\n"
     ]
    }
   ],
   "source": [
    "import pandas as pd\n",
    "\n",
    "a = pd.DataFrame([[1,2,3],[4,5,6]], columns=['a','b', 'c'])\n",
    "b = pd.DataFrame([[1,2,6],[4,5,7]], columns=['a','b', 'd'])\n",
    "print(a)\n",
    "print()\n",
    "print(b)\n",
    "print()\n",
    "print(a.merge(b, on=['a','b'], how='left'))"
   ]
  },
  {
   "cell_type": "code",
   "execution_count": 104,
   "metadata": {
    "scrolled": false
   },
   "outputs": [
    {
     "name": "stdout",
     "output_type": "stream",
     "text": [
      "   a  b  c\n",
      "0  0  1  0\n",
      "1  0  1  0\n",
      "2  0  3  0\n",
      "3  1  3  0\n",
      "4  1  5  0\n",
      "5  1  5  0\n",
      "6  0  7  0\n",
      "7  1  7  0\n",
      "8  0  9  0\n",
      "\n",
      "     a\n",
      "0  0.0\n",
      "1  1.0\n",
      "2  1.0\n",
      "3  1.0\n",
      "4  0.0\n",
      "5  1.0\n",
      "6  0.0\n",
      "7  NaN\n",
      "8  NaN\n",
      "\n",
      "     a\n",
      "0  0.0\n",
      "1  1.0\n",
      "2  1.0\n",
      "3  1.0\n",
      "4  0.0\n",
      "5  1.0\n",
      "6  0.0\n",
      "7  0.0\n",
      "8  0.0\n"
     ]
    }
   ],
   "source": [
    "import pandas as pd\n",
    "import numpy as np\n",
    "\n",
    "x = pd.read_csv('./test.txt')\n",
    "print(x)\n",
    "print()\n",
    "\n",
    "y = x[['a']].shift(-2)\n",
    "print(y)\n",
    "print()\n",
    "y.fillna(0, inplace=True)\n",
    "y.astype(int, inplace=True)\n",
    "print(y)"
   ]
  },
  {
   "cell_type": "code",
   "execution_count": 108,
   "metadata": {
    "ExecuteTime": {
     "end_time": "2018-05-22T17:48:06.626032Z",
     "start_time": "2018-05-22T17:48:06.597542Z"
    },
    "collapsed": true,
    "scrolled": false
   },
   "outputs": [],
   "source": [
    "import pandas as pd\n",
    "import os\n",
    "\n",
    "x = pd.read_csv('./data/test.txt')\n",
    "for y in os.listdir('./data/'):\n",
    "    t = y.split('.')\n",
    "    if t[-1] == 'ftr':\n",
    "        tt = t[0].split('__')\n",
    "        if tt[0] == 'train':\n",
    "            tmp = pd.read_feather('./data/' + y)\n",
    "            x[tt[1]] = tmp"
   ]
  },
  {
   "cell_type": "code",
   "execution_count": 109,
   "metadata": {
    "ExecuteTime": {
     "end_time": "2018-05-22T17:48:06.767685Z",
     "start_time": "2018-05-22T17:48:06.763187Z"
    }
   },
   "outputs": [
    {
     "name": "stdout",
     "output_type": "stream",
     "text": [
      "['ip' 'day' 'click_timestamp' 'is_attributed' 'variance_ip_day'\n",
      " 'cumcount_ratio_ip_day' 'cumcount_ip_day'\n",
      " 'filter_time_to_n_next_click_2_ip_day' 'woe_ip_day' 'nunique_ip_day'\n",
      " 'woe_ip' 'filter_time_to_n_next_click_1_ip_day'\n",
      " 'time_to_n_next_click_1_ip_day' 'rang_count_ip_day' 'com1_ip'\n",
      " 'time_to_n_next_click_2_ip_day' 'com_ip' 'count_ip_day'\n",
      " 'count_ratio_ip_day']\n"
     ]
    }
   ],
   "source": [
    "print(x.columns.values)"
   ]
  },
  {
   "cell_type": "code",
   "execution_count": 8,
   "metadata": {
    "ExecuteTime": {
     "end_time": "2018-05-25T18:01:38.331424Z",
     "start_time": "2018-05-25T18:01:38.326064Z"
    },
    "scrolled": false
   },
   "outputs": [
    {
     "name": "stdout",
     "output_type": "stream",
     "text": [
      "Machine parameters for int8\n",
      "---------------------------------------------------------------\n",
      "min = -128\n",
      "max = 127\n",
      "---------------------------------------------------------------\n",
      "\n"
     ]
    }
   ],
   "source": [
    "import numpy as np\n",
    "print(np.iinfo(np.int8))"
   ]
  },
  {
   "cell_type": "code",
   "execution_count": 5,
   "metadata": {
    "ExecuteTime": {
     "end_time": "2018-05-27T14:02:40.325102Z",
     "start_time": "2018-05-27T14:02:39.459980Z"
    }
   },
   "outputs": [
    {
     "name": "stdout",
     "output_type": "stream",
     "text": [
      "           woe_ip_channel\n",
      "0                    -inf\n",
      "1                    -inf\n",
      "2                    -inf\n",
      "3                2.669893\n",
      "4                    -inf\n",
      "5                    -inf\n",
      "6                    -inf\n",
      "7                    -inf\n",
      "8                    -inf\n",
      "9                    -inf\n",
      "10                   -inf\n",
      "11                   -inf\n",
      "12                   -inf\n",
      "13                   -inf\n",
      "14                   -inf\n",
      "15                   -inf\n",
      "16                   -inf\n",
      "17                   -inf\n",
      "18                   -inf\n",
      "19                   -inf\n",
      "20                   -inf\n",
      "21                   -inf\n",
      "22                   -inf\n",
      "23                   -inf\n",
      "24                   -inf\n",
      "25                   -inf\n",
      "26                   -inf\n",
      "27                   -inf\n",
      "28                   -inf\n",
      "29                   -inf\n",
      "...                   ...\n",
      "184903860            -inf\n",
      "184903861            -inf\n",
      "184903862            -inf\n",
      "184903863       -1.000000\n",
      "184903864            -inf\n",
      "184903865            -inf\n",
      "184903866            -inf\n",
      "184903867            -inf\n",
      "184903868            -inf\n",
      "184903869            -inf\n",
      "184903870            -inf\n",
      "184903871            -inf\n",
      "184903872            -inf\n",
      "184903873            -inf\n",
      "184903874            -inf\n",
      "184903875            -inf\n",
      "184903876            -inf\n",
      "184903877            -inf\n",
      "184903878            -inf\n",
      "184903879            -inf\n",
      "184903880            -inf\n",
      "184903881            -inf\n",
      "184903882       -0.559733\n",
      "184903883            -inf\n",
      "184903884            -inf\n",
      "184903885            -inf\n",
      "184903886            -inf\n",
      "184903887       -1.000000\n",
      "184903888            -inf\n",
      "184903889            -inf\n",
      "\n",
      "[184903890 rows x 1 columns]\n"
     ]
    }
   ],
   "source": [
    "import pandas as pd\n",
    "\n",
    "PATH = '/home/kai/data/kaggle/talkingdata/haoyandata/'\n",
    "a = pd.read_feather(PATH + 'train__woe_ip_channel.ftr')\n",
    "print(a)"
   ]
  },
  {
   "cell_type": "code",
   "execution_count": 1,
   "metadata": {
    "ExecuteTime": {
     "end_time": "2018-06-02T12:53:31.014846Z",
     "start_time": "2018-06-02T12:53:27.876882Z"
    }
   },
   "outputs": [
    {
     "name": "stdout",
     "output_type": "stream",
     "text": [
      "           LDA1           LSA1        NMF1\n",
      "0           1.0   10084.752884    9.382199\n",
      "1           1.0    9526.834240    8.863148\n",
      "2           1.0    3845.765161    3.577850\n",
      "3           1.0   65429.927307   60.871755\n",
      "4           1.0     356.656788    0.331810\n",
      "5           1.0    1443.100895    1.342567\n",
      "6           1.0    2186.646142    2.034314\n",
      "7           1.0     943.931263    0.878172\n",
      "8           1.0     619.982080    0.576791\n",
      "9           1.0    1378.700801    1.282654\n",
      "10          1.0    2746.846226    2.555487\n",
      "11          1.0    3873.527189    3.603678\n",
      "12          1.0    2186.248623    2.033944\n",
      "13          1.0     318.446900    0.296262\n",
      "14          1.0    1646.891073    1.532161\n",
      "15          1.0    1781.872095    1.657738\n",
      "16          1.0     810.023434    0.753593\n",
      "17          1.0     133.512165    0.124211\n",
      "18          1.0     312.758276    0.290970\n",
      "19          1.0    2344.819050    2.181467\n",
      "20          1.0     560.980530    0.521900\n",
      "21          1.0     987.191414    0.918419\n",
      "22          1.0   61363.841654   57.088933\n",
      "23          1.0    7440.217854    6.921896\n",
      "24          1.0    1002.739164    0.932883\n",
      "25          1.0      26.497073    0.024651\n",
      "26          1.0    1975.397264    1.837781\n",
      "27          1.0   58350.777707   54.285774\n",
      "28          1.0     613.124146    0.570411\n",
      "29          1.0     681.241933    0.633783\n",
      "...         ...            ...         ...\n",
      "184903860   1.0    8936.636506    8.314066\n",
      "184903861   1.0    2756.675752    2.564632\n",
      "184903862   1.0     574.465009    0.534445\n",
      "184903863   1.0    2495.997547    2.322114\n",
      "184903864   1.0   16872.666340   15.697233\n",
      "184903865   1.0     379.439949    0.353006\n",
      "184903866   1.0    1335.056243    1.242050\n",
      "184903867   1.0   25820.780087   24.021977\n",
      "184903868   1.0     176.429777    0.164139\n",
      "184903869   1.0    3263.939847    3.036558\n",
      "184903870   1.0    3946.120119    3.671214\n",
      "184903871   1.0    2743.450639    2.552328\n",
      "184903872   1.0     611.600524    0.568993\n",
      "184903873   1.0    1114.602120    1.036953\n",
      "184903874   1.0    3964.041792    3.687887\n",
      "184903875   1.0   63292.258925   58.883007\n",
      "184903876   1.0     492.377672    0.458076\n",
      "184903877   1.0    6196.926129    5.765218\n",
      "184903878   1.0    1540.085678    1.432796\n",
      "184903879   1.0    1568.988868    1.459685\n",
      "184903880   1.0    2969.937335    2.763037\n",
      "184903881   1.0    6590.005230    6.130913\n",
      "184903882   1.0  453480.265770  421.888589\n",
      "184903883   1.0   20813.054842   19.363115\n",
      "184903884   1.0   25820.780087   24.021977\n",
      "184903885   1.0    1335.056243    1.242050\n",
      "184903886   1.0    3236.733232    3.011246\n",
      "184903887   1.0     138.201167    0.128573\n",
      "184903888   1.0    1074.145282    0.999315\n",
      "184903889   1.0    4244.241384    3.948567\n",
      "\n",
      "[184903890 rows x 3 columns]\n"
     ]
    }
   ],
   "source": [
    "import pandas as pd\n",
    "\n",
    "x = pd.read_feather('/home/kai/data/kaggle/talkingdata/haoyandata_1st/train__MatrixFM_ip_app.ftr')\n",
    "print(x)\n"
   ]
  },
  {
   "cell_type": "code",
   "execution_count": null,
   "metadata": {
    "collapsed": true
   },
   "outputs": [],
   "source": []
  }
 ],
 "metadata": {
  "kernelspec": {
   "display_name": "Python 3",
   "language": "python",
   "name": "python3"
  },
  "language_info": {
   "codemirror_mode": {
    "name": "ipython",
    "version": 3
   },
   "file_extension": ".py",
   "mimetype": "text/x-python",
   "name": "python",
   "nbconvert_exporter": "python",
   "pygments_lexer": "ipython3",
   "version": "3.6.3"
  },
  "varInspector": {
   "cols": {
    "lenName": 16,
    "lenType": 16,
    "lenVar": 40
   },
   "kernels_config": {
    "python": {
     "delete_cmd_postfix": "",
     "delete_cmd_prefix": "del ",
     "library": "var_list.py",
     "varRefreshCmd": "print(var_dic_list())"
    },
    "r": {
     "delete_cmd_postfix": ") ",
     "delete_cmd_prefix": "rm(",
     "library": "var_list.r",
     "varRefreshCmd": "cat(var_dic_list()) "
    }
   },
   "types_to_exclude": [
    "module",
    "function",
    "builtin_function_or_method",
    "instance",
    "_Feature"
   ],
   "window_display": false
  }
 },
 "nbformat": 4,
 "nbformat_minor": 2
}
