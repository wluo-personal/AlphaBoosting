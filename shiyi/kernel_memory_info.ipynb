{
 "cells": [
  {
   "cell_type": "code",
   "execution_count": 28,
   "metadata": {
    "ExecuteTime": {
     "end_time": "2018-05-22T18:18:00.129383Z",
     "start_time": "2018-05-22T18:17:59.950015Z"
    }
   },
   "outputs": [
    {
     "name": "stdout",
     "output_type": "stream",
     "text": [
      "c58aa309-c3ee-4705-b8bf-d71f5946e4fc not found in id_name_dict, because this kernel is running in a password protected notebook\n",
      "9ca0b38e-995c-4715-a84e-eeaac40d23d3 not found in id_name_dict, because this kernel is running in a password protected notebook\n",
      "7b3d9ba0-4f82-40b5-acf0-56c25e8c8a6b not found in id_name_dict, because this kernel is running in a password protected notebook\n",
      "a553b672-8f78-45a1-a36c-2fb131c94f88 not found in id_name_dict, because this kernel is running in a password protected notebook\n",
      "0e471a71-e71c-4b4a-ae4c-c37d942c1687 not found in id_name_dict, because this kernel is running in a password protected notebook\n",
      "24d05b1e-340a-4d9b-b817-3ff4be895bca not found in id_name_dict, because this kernel is running in a password protected notebook\n",
      "43476104-e1d8-4125-b8f8-b20d27501138 not found in id_name_dict, because this kernel is running in a password protected notebook\n",
      "3981901f-a229-42d3-95e7-ecaeac60ae0b not found in id_name_dict, because this kernel is running in a password protected notebook\n",
      "332be9ff-dc8b-4602-8840-41f7c3e33215 not found in id_name_dict, because this kernel is running in a password protected notebook\n",
      "09c55d0e-0bcb-43e0-ad4c-69caa1496d9d not found in id_name_dict, because this kernel is running in a password protected notebook\n"
     ]
    },
    {
     "data": {
      "text/html": [
       "<div>\n",
       "<style>\n",
       "    .dataframe thead tr:only-child th {\n",
       "        text-align: right;\n",
       "    }\n",
       "\n",
       "    .dataframe thead th {\n",
       "        text-align: left;\n",
       "    }\n",
       "\n",
       "    .dataframe tbody tr th {\n",
       "        vertical-align: top;\n",
       "    }\n",
       "</style>\n",
       "<table border=\"1\" class=\"dataframe\">\n",
       "  <thead>\n",
       "    <tr style=\"text-align: right;\">\n",
       "      <th></th>\n",
       "      <th>process_id</th>\n",
       "      <th>memory(GB)</th>\n",
       "    </tr>\n",
       "  </thead>\n",
       "  <tbody>\n",
       "    <tr>\n",
       "      <th>/home/kai/data/kernel_memory_info.ipynb</th>\n",
       "      <td>1056</td>\n",
       "      <td>0.099594</td>\n",
       "    </tr>\n",
       "  </tbody>\n",
       "</table>\n",
       "</div>"
      ],
      "text/plain": [
       "                                         process_id  memory(GB)\n",
       "/home/kai/data/kernel_memory_info.ipynb        1056    0.099594"
      ]
     },
     "execution_count": 28,
     "metadata": {},
     "output_type": "execute_result"
    }
   ],
   "source": [
    "import subprocess\n",
    "import re\n",
    "import psutil\n",
    "import json\n",
    "import os.path\n",
    "import ipykernel\n",
    "import requests\n",
    "import warnings\n",
    "warnings.filterwarnings('ignore')\n",
    "\n",
    "try:  # Python 3\n",
    "    from urllib.parse import urljoin\n",
    "except ImportError:  # Python 2\n",
    "    from urlparse import urljoin\n",
    "\n",
    "try:  # Python 3\n",
    "    from notebook.notebookapp import list_running_servers\n",
    "except ImportError:  # Python 2\n",
    "    import warnings\n",
    "    from IPython.utils.shimmodule import ShimWarning\n",
    "    with warnings.catch_warnings():\n",
    "        warnings.simplefilter(\"ignore\", category=ShimWarning)\n",
    "        from IPython.html.notebookapp import list_running_servers\n",
    "\n",
    "\n",
    "def get_notebook_name_id_dict():\n",
    "    \"\"\"\n",
    "    Return a dict.\n",
    "        key: kernel id.\n",
    "        value: the full path of the jupyter notebook.\n",
    "    \"\"\"\n",
    "    id_name_dict = {}\n",
    "    kernel_id = re.search('kernel-(.*).json',\n",
    "                          ipykernel.connect.get_connection_file()).group(1)\n",
    "    servers = list_running_servers()\n",
    "    for ss in servers:\n",
    "        # replace the 'localhost' in ss['url'] with 10.0.24.31\n",
    "        ss['url'] = ss['url'].replace('localhost','10.0.24.31')\n",
    "        if ss.get('token', '') == '': # for jupyter not using password to auth, this won't work\n",
    "            continue\n",
    "        response = requests.get(urljoin(ss['url'], 'api/sessions'),\n",
    "                                params={'token': ss.get('token', '')}, verify=False)\n",
    "        for nn in json.loads(response.text):\n",
    "            id_name_dict[nn['kernel']['id']] = os.path.join(ss['notebook_dir'], nn['notebook']['path'])\n",
    "#             if nn['kernel']['id'] == kernel_id:\n",
    "#                 relative_path = nn['notebook']['path']\n",
    "#                 return os.path.join(ss['notebook_dir'], relative_path)\n",
    "    return id_name_dict\n",
    "\n",
    "\n",
    "\n",
    "KERNEL_REGEX = re.compile(r'.+kernel-(.+)\\.json')\n",
    "PID_REGEX = re.compile(r'(\\d+).+')\n",
    "\n",
    "ps = subprocess.Popen(('ps', 'ax'), stdout=subprocess.PIPE)\n",
    "output = ps.communicate()[0]\n",
    "import pandas as pd\n",
    "results = pd.DataFrame()\n",
    "id_name_dict = get_notebook_name_id_dict()\n",
    "for line in output.decode().split('\\n'):\n",
    "    if 'kernel-' in line:\n",
    "        kernel_id = re.sub(KERNEL_REGEX, r'\\1', line)\n",
    "        pid = int(re.sub(PID_REGEX, r'\\1', line))\n",
    "        process = psutil.Process(pid)\n",
    "        mem = int(process.memory_info()[0])/1024/1024/1024\n",
    "#         result[kernel_id]={'pid':pid,'memory': mem}\n",
    "        try:\n",
    "            name = id_name_dict[kernel_id]\n",
    "            results.loc[name, 'process_id'] = pid\n",
    "            results.loc[name, 'memory(GB)'] = mem\n",
    "        except KeyError:\n",
    "            print('{} not found in id_name_dict, because this kernel is running in a password protected notebook'.format(kernel_id))\n",
    "try:        \n",
    "    results['process_id'] = results['process_id'].astype('uint16')\n",
    "except KeyError:\n",
    "    print('process_id not found. results might be empty')\n",
    "results"
   ]
  },
  {
   "cell_type": "markdown",
   "metadata": {
    "heading_collapsed": true
   },
   "source": [
    "# maybe useful in future"
   ]
  },
  {
   "cell_type": "code",
   "execution_count": null,
   "metadata": {
    "collapsed": true,
    "hidden": true
   },
   "outputs": [],
   "source": [
    "from tornado import gen, web\n",
    "from notebook.base.handlers import APIHandler\n",
    "\n",
    "class KernelMemoryHandler(APIHandler):\n",
    "    '''\n",
    "    get memory of each kernel\n",
    "    '''\n",
    "    @web.authenticated\n",
    "    @gen.coroutine\n",
    "\n",
    "    def get(self):\n",
    "        ps = subprocess.Popen(('ps', 'ax'), stdout=subprocess.PIPE)\n",
    "        output = ps.communicate()[0]\n",
    "        result={}\n",
    "        for line in output.split('\\n'):\n",
    "            if 'kernel-' in line:\n",
    "                kernel_id = re.sub(KERNEL_REGEX, r'\\1', line)\n",
    "                pid = int(re.sub(PID_REGEX, r'\\1', line))\n",
    "                process = psutil.Process(pid)\n",
    "                mem = int(process.memory_info()[0])\n",
    "                print(kernel_id, pid, process, mem)\n",
    "                result[kernel_id]={'pid':pid,'memory': mem}\n",
    "        self.finish(result)\n",
    "       \n",
    "default_handlers = [\n",
    "    (r\"/api/kernel/memory\", KernelMemoryHandler)\n",
    "]"
   ]
  }
 ],
 "metadata": {
  "kernelspec": {
   "display_name": "Python 3",
   "language": "python",
   "name": "python3"
  },
  "language_info": {
   "codemirror_mode": {
    "name": "ipython",
    "version": 3
   },
   "file_extension": ".py",
   "mimetype": "text/x-python",
   "name": "python",
   "nbconvert_exporter": "python",
   "pygments_lexer": "ipython3",
   "version": "3.6.3"
  },
  "varInspector": {
   "cols": {
    "lenName": 16,
    "lenType": 16,
    "lenVar": 40
   },
   "kernels_config": {
    "python": {
     "delete_cmd_postfix": "",
     "delete_cmd_prefix": "del ",
     "library": "var_list.py",
     "varRefreshCmd": "print(var_dic_list())"
    },
    "r": {
     "delete_cmd_postfix": ") ",
     "delete_cmd_prefix": "rm(",
     "library": "var_list.r",
     "varRefreshCmd": "cat(var_dic_list()) "
    }
   },
   "types_to_exclude": [
    "module",
    "function",
    "builtin_function_or_method",
    "instance",
    "_Feature"
   ],
   "window_display": false
  }
 },
 "nbformat": 4,
 "nbformat_minor": 2
}
