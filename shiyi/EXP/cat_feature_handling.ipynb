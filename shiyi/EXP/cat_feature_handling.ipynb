{
 "cells": [
  {
   "cell_type": "markdown",
   "metadata": {},
   "source": [
    "https://blog.myyellowroad.com/using-categorical-data-in-machine-learning-with-python-from-dummy-variables-to-deep-category-66041f734512"
   ]
  },
  {
   "cell_type": "code",
   "execution_count": 1,
   "metadata": {
    "ExecuteTime": {
     "end_time": "2018-06-27T17:43:56.362137Z",
     "start_time": "2018-06-27T17:43:56.148973Z"
    }
   },
   "outputs": [],
   "source": [
    "import pandas as pd"
   ]
  },
  {
   "cell_type": "code",
   "execution_count": 3,
   "metadata": {
    "ExecuteTime": {
     "end_time": "2018-06-27T17:44:08.637591Z",
     "start_time": "2018-06-27T17:44:08.376012Z"
    }
   },
   "outputs": [],
   "source": [
    "data = pd.read_csv('/home/kai/data/shiyi/data/avazu-ctr-prediction/train', nrows=100000)"
   ]
  },
  {
   "cell_type": "code",
   "execution_count": 4,
   "metadata": {
    "ExecuteTime": {
     "end_time": "2018-06-27T17:44:09.188749Z",
     "start_time": "2018-06-27T17:44:09.124944Z"
    }
   },
   "outputs": [
    {
     "name": "stdout",
     "output_type": "stream",
     "text": [
      "0.46160842572806454\n"
     ]
    }
   ],
   "source": [
    "import numpy as np\n",
    "from sklearn.metrics import log_loss\n",
    "msk = np.random.rand(len(data)) < 0.8\n",
    "features = [3,4,5,6,7,8,9,10,11,13,14,15,16,17,18,19,20,21,22,23]\n",
    "X_train = data[msk].iloc[:,features]\n",
    "X_test = data[~msk].iloc[:,features]\n",
    "y_train = data[msk].iloc[:,1]\n",
    "y_test = data[~msk].iloc[:,1]\n",
    "print(log_loss(y_test,np.ones(len(y_test))*y_train.mean()))"
   ]
  },
  {
   "cell_type": "markdown",
   "metadata": {},
   "source": [
    "# label encoding"
   ]
  },
  {
   "cell_type": "code",
   "execution_count": 5,
   "metadata": {
    "ExecuteTime": {
     "end_time": "2018-06-27T17:44:12.456378Z",
     "start_time": "2018-06-27T17:44:10.845889Z"
    }
   },
   "outputs": [],
   "source": [
    "from sklearn import preprocessing\n",
    "from sklearn.ensemble import RandomForestClassifier\n",
    "from sklearn.linear_model import LogisticRegression\n",
    "X_train_ordinal = X_train.values\n",
    "X_test_ordinal = X_test.values\n",
    "les = []\n",
    "l = LogisticRegression()\n",
    "r = RandomForestClassifier(n_estimators=25,max_depth=10)\n",
    "for i in range(X_train_ordinal.shape[1]):\n",
    "    le = preprocessing.LabelEncoder()\n",
    "    le.fit(data.iloc[:,features].iloc[:, i])\n",
    "    les.append(le)\n",
    "    X_train_ordinal[:, i] = le.transform(X_train_ordinal[:, i])\n",
    "    X_test_ordinal[:, i] = le.transform(X_test_ordinal[:, i])"
   ]
  },
  {
   "cell_type": "code",
   "execution_count": 5,
   "metadata": {
    "ExecuteTime": {
     "end_time": "2018-06-26T19:21:17.437638Z",
     "start_time": "2018-06-26T19:21:12.857941Z"
    }
   },
   "outputs": [
    {
     "name": "stdout",
     "output_type": "stream",
     "text": [
      "0.4344061257450101\n"
     ]
    }
   ],
   "source": [
    "l.fit(X_train_ordinal,y_train)\n",
    "y_pred = l.predict_proba(X_test_ordinal)\n",
    "print(log_loss(y_test,y_pred))"
   ]
  },
  {
   "cell_type": "code",
   "execution_count": 6,
   "metadata": {
    "ExecuteTime": {
     "end_time": "2018-06-26T19:21:21.287858Z",
     "start_time": "2018-06-26T19:21:19.310234Z"
    }
   },
   "outputs": [
    {
     "name": "stdout",
     "output_type": "stream",
     "text": [
      "0.4114955094510522\n"
     ]
    }
   ],
   "source": [
    "r.fit(X_train_ordinal,y_train)\n",
    "y_pred = r.predict_proba(X_test_ordinal)\n",
    "print(log_loss(y_test,y_pred))"
   ]
  },
  {
   "cell_type": "markdown",
   "metadata": {},
   "source": [
    "# One Hot Encoding"
   ]
  },
  {
   "cell_type": "code",
   "execution_count": 10,
   "metadata": {
    "ExecuteTime": {
     "end_time": "2018-06-26T19:23:21.991655Z",
     "start_time": "2018-06-26T19:23:14.078010Z"
    }
   },
   "outputs": [
    {
     "name": "stdout",
     "output_type": "stream",
     "text": [
      "0.40754774134678073\n",
      "0.43215400119144154\n",
      "(80069, 11472)\n"
     ]
    }
   ],
   "source": [
    "from sklearn.preprocessing import OneHotEncoder\n",
    "enc = OneHotEncoder(handle_unknown='ignore')\n",
    "enc.fit(X_train_ordinal)\n",
    "X_train_one_hot = enc.transform(X_train_ordinal)\n",
    "X_test_one_hot = enc.transform(X_test_ordinal)\n",
    "l.fit(X_train_one_hot,y_train)\n",
    "y_pred = l.predict_proba(X_test_one_hot)\n",
    "print(log_loss(y_test,y_pred))\n",
    "r.fit(X_train_one_hot,y_train)\n",
    "y_pred = r.predict_proba(X_test_one_hot)\n",
    "print(log_loss(y_test,y_pred))\n",
    "print(X_train_one_hot.shape)"
   ]
  },
  {
   "cell_type": "code",
   "execution_count": 11,
   "metadata": {
    "ExecuteTime": {
     "end_time": "2018-06-26T19:23:43.631779Z",
     "start_time": "2018-06-26T19:23:36.935247Z"
    }
   },
   "outputs": [],
   "source": [
    "import copy\n",
    "X_train_rare = copy.copy(X_train)\n",
    "X_test_rare = copy.copy(X_test)\n",
    "X_train_rare[\"test\"]=0\n",
    "X_test_rare[\"test\"]=1\n",
    "temp_df = pd.concat([X_train_rare,X_test_rare],axis=0)\n",
    "names = list(X_train_rare.columns.values)\n",
    "temp_df = pd.concat([X_train_rare,X_test_rare],axis=0)\n",
    "for i in names:\n",
    "    temp_df.loc[temp_df[i].value_counts()[temp_df[i]].values < 20, i] = \"RARE_VALUE\"\n",
    "for i in range(temp_df.shape[1]):\n",
    "    temp_df.iloc[:,i]=temp_df.iloc[:,i].astype('str')\n",
    "X_train_rare = temp_df[temp_df[\"test\"]==\"0\"].iloc[:,:-1].values\n",
    "X_test_rare = temp_df[temp_df[\"test\"]==\"1\"].iloc[:,:-1].values\n",
    "for i in range(X_train_rare.shape[1]):\n",
    "    le = preprocessing.LabelEncoder()\n",
    "    le.fit(temp_df.iloc[:,:-1].iloc[:, i])\n",
    "    les.append(le)\n",
    "    X_train_rare[:, i] = le.transform(X_train_rare[:, i])\n",
    "    X_test_rare[:, i] = le.transform(X_test_rare[:, i])\n",
    "enc.fit(X_train_rare)\n",
    "X_train_rare = enc.transform(X_train_rare)\n",
    "X_test_rare = enc.transform(X_test_rare)"
   ]
  },
  {
   "cell_type": "code",
   "execution_count": 12,
   "metadata": {
    "ExecuteTime": {
     "end_time": "2018-06-26T19:24:16.513891Z",
     "start_time": "2018-06-26T19:24:10.100870Z"
    }
   },
   "outputs": [
    {
     "name": "stdout",
     "output_type": "stream",
     "text": [
      "0.4088065263503137\n",
      "0.42305294188782705\n",
      "(80069, 1554)\n"
     ]
    }
   ],
   "source": [
    "l.fit(X_train_rare,y_train)\n",
    "y_pred = l.predict_proba(X_test_rare)\n",
    "print(log_loss(y_test,y_pred))\n",
    "r.fit(X_train_rare,y_train)\n",
    "y_pred = r.predict_proba(X_test_rare)\n",
    "print(log_loss(y_test,y_pred))\n",
    "print(X_train_rare.shape)"
   ]
  },
  {
   "cell_type": "markdown",
   "metadata": {},
   "source": [
    "# Feature Hashing"
   ]
  },
  {
   "cell_type": "code",
   "execution_count": 13,
   "metadata": {
    "ExecuteTime": {
     "end_time": "2018-06-26T19:24:54.305849Z",
     "start_time": "2018-06-26T19:24:54.274609Z"
    }
   },
   "outputs": [
    {
     "data": {
      "text/html": [
       "<div>\n",
       "<style scoped>\n",
       "    .dataframe tbody tr th:only-of-type {\n",
       "        vertical-align: middle;\n",
       "    }\n",
       "\n",
       "    .dataframe tbody tr th {\n",
       "        vertical-align: top;\n",
       "    }\n",
       "\n",
       "    .dataframe thead th {\n",
       "        text-align: right;\n",
       "    }\n",
       "</style>\n",
       "<table border=\"1\" class=\"dataframe\">\n",
       "  <thead>\n",
       "    <tr style=\"text-align: right;\">\n",
       "      <th></th>\n",
       "      <th>C1</th>\n",
       "      <th>banner_pos</th>\n",
       "      <th>site_id</th>\n",
       "      <th>site_domain</th>\n",
       "      <th>site_category</th>\n",
       "      <th>app_id</th>\n",
       "      <th>app_domain</th>\n",
       "      <th>app_category</th>\n",
       "      <th>device_id</th>\n",
       "      <th>device_model</th>\n",
       "      <th>device_type</th>\n",
       "      <th>device_conn_type</th>\n",
       "      <th>C14</th>\n",
       "      <th>C15</th>\n",
       "      <th>C16</th>\n",
       "      <th>C17</th>\n",
       "      <th>C18</th>\n",
       "      <th>C19</th>\n",
       "      <th>C20</th>\n",
       "      <th>C21</th>\n",
       "    </tr>\n",
       "  </thead>\n",
       "  <tbody>\n",
       "    <tr>\n",
       "      <th>0</th>\n",
       "      <td>1005</td>\n",
       "      <td>0</td>\n",
       "      <td>1fbe01fe</td>\n",
       "      <td>f3845767</td>\n",
       "      <td>28905ebd</td>\n",
       "      <td>ecad2386</td>\n",
       "      <td>7801e8d9</td>\n",
       "      <td>07d7df22</td>\n",
       "      <td>a99f214a</td>\n",
       "      <td>44956a24</td>\n",
       "      <td>1</td>\n",
       "      <td>2</td>\n",
       "      <td>15706</td>\n",
       "      <td>320</td>\n",
       "      <td>50</td>\n",
       "      <td>1722</td>\n",
       "      <td>0</td>\n",
       "      <td>35</td>\n",
       "      <td>-1</td>\n",
       "      <td>79</td>\n",
       "    </tr>\n",
       "    <tr>\n",
       "      <th>1</th>\n",
       "      <td>1005</td>\n",
       "      <td>0</td>\n",
       "      <td>1fbe01fe</td>\n",
       "      <td>f3845767</td>\n",
       "      <td>28905ebd</td>\n",
       "      <td>ecad2386</td>\n",
       "      <td>7801e8d9</td>\n",
       "      <td>07d7df22</td>\n",
       "      <td>a99f214a</td>\n",
       "      <td>711ee120</td>\n",
       "      <td>1</td>\n",
       "      <td>0</td>\n",
       "      <td>15704</td>\n",
       "      <td>320</td>\n",
       "      <td>50</td>\n",
       "      <td>1722</td>\n",
       "      <td>0</td>\n",
       "      <td>35</td>\n",
       "      <td>100084</td>\n",
       "      <td>79</td>\n",
       "    </tr>\n",
       "  </tbody>\n",
       "</table>\n",
       "</div>"
      ],
      "text/plain": [
       "     C1  banner_pos   site_id site_domain site_category    app_id app_domain  \\\n",
       "0  1005           0  1fbe01fe    f3845767      28905ebd  ecad2386   7801e8d9   \n",
       "1  1005           0  1fbe01fe    f3845767      28905ebd  ecad2386   7801e8d9   \n",
       "\n",
       "  app_category device_id device_model  device_type  device_conn_type    C14  \\\n",
       "0     07d7df22  a99f214a     44956a24            1                 2  15706   \n",
       "1     07d7df22  a99f214a     711ee120            1                 0  15704   \n",
       "\n",
       "   C15  C16   C17  C18  C19     C20  C21  \n",
       "0  320   50  1722    0   35      -1   79  \n",
       "1  320   50  1722    0   35  100084   79  "
      ]
     },
     "execution_count": 13,
     "metadata": {},
     "output_type": "execute_result"
    }
   ],
   "source": [
    "X_train.head(2)"
   ]
  },
  {
   "cell_type": "code",
   "execution_count": 22,
   "metadata": {
    "ExecuteTime": {
     "end_time": "2018-06-26T19:29:40.310479Z",
     "start_time": "2018-06-26T19:29:40.298128Z"
    }
   },
   "outputs": [
    {
     "data": {
      "text/plain": [
       "(80069, 20)"
      ]
     },
     "execution_count": 22,
     "metadata": {},
     "output_type": "execute_result"
    }
   ],
   "source": [
    "X_train.shape"
   ]
  },
  {
   "cell_type": "code",
   "execution_count": 24,
   "metadata": {
    "ExecuteTime": {
     "end_time": "2018-06-26T19:33:17.892564Z",
     "start_time": "2018-06-26T19:33:14.241531Z"
    }
   },
   "outputs": [],
   "source": [
    "from sklearn.feature_extraction import FeatureHasher\n",
    "X_train_hash = copy.copy(X_train)\n",
    "X_test_hash = copy.copy(X_test)\n",
    "for i in range(X_train_hash.shape[1]):\n",
    "    X_train_hash.iloc[:,i]=X_train_hash.iloc[:,i].astype('str')\n",
    "for i in range(X_test_hash.shape[1]):\n",
    "    X_test_hash.iloc[:,i]=X_test_hash.iloc[:,i].astype('str')\n",
    "h = FeatureHasher(n_features=100,input_type=\"string\")\n",
    "X_train_hash = h.transform(X_train_hash.values)\n",
    "X_test_hash = h.transform(X_test_hash.values)"
   ]
  },
  {
   "cell_type": "code",
   "execution_count": 25,
   "metadata": {
    "ExecuteTime": {
     "end_time": "2018-06-26T19:33:20.321304Z",
     "start_time": "2018-06-26T19:33:20.313147Z"
    }
   },
   "outputs": [
    {
     "data": {
      "text/plain": [
       "scipy.sparse.csr.csr_matrix"
      ]
     },
     "execution_count": 25,
     "metadata": {},
     "output_type": "execute_result"
    }
   ],
   "source": [
    "type(X_train_hash)"
   ]
  },
  {
   "cell_type": "code",
   "execution_count": 26,
   "metadata": {
    "ExecuteTime": {
     "end_time": "2018-06-26T19:33:22.262763Z",
     "start_time": "2018-06-26T19:33:22.258280Z"
    }
   },
   "outputs": [
    {
     "data": {
      "text/plain": [
       "(80069, 100)"
      ]
     },
     "execution_count": 26,
     "metadata": {},
     "output_type": "execute_result"
    }
   ],
   "source": [
    "X_train_hash.shape"
   ]
  },
  {
   "cell_type": "code",
   "execution_count": 27,
   "metadata": {
    "ExecuteTime": {
     "end_time": "2018-06-26T19:33:24.829095Z",
     "start_time": "2018-06-26T19:33:24.821588Z"
    }
   },
   "outputs": [],
   "source": [
    "df = pd.DataFrame(X_test_hash.toarray())"
   ]
  },
  {
   "cell_type": "code",
   "execution_count": 28,
   "metadata": {
    "ExecuteTime": {
     "end_time": "2018-06-26T19:33:26.784462Z",
     "start_time": "2018-06-26T19:33:26.755977Z"
    }
   },
   "outputs": [
    {
     "data": {
      "text/html": [
       "<div>\n",
       "<style scoped>\n",
       "    .dataframe tbody tr th:only-of-type {\n",
       "        vertical-align: middle;\n",
       "    }\n",
       "\n",
       "    .dataframe tbody tr th {\n",
       "        vertical-align: top;\n",
       "    }\n",
       "\n",
       "    .dataframe thead th {\n",
       "        text-align: right;\n",
       "    }\n",
       "</style>\n",
       "<table border=\"1\" class=\"dataframe\">\n",
       "  <thead>\n",
       "    <tr style=\"text-align: right;\">\n",
       "      <th></th>\n",
       "      <th>0</th>\n",
       "      <th>1</th>\n",
       "      <th>2</th>\n",
       "      <th>3</th>\n",
       "      <th>4</th>\n",
       "      <th>5</th>\n",
       "      <th>6</th>\n",
       "      <th>7</th>\n",
       "      <th>8</th>\n",
       "      <th>9</th>\n",
       "      <th>...</th>\n",
       "      <th>90</th>\n",
       "      <th>91</th>\n",
       "      <th>92</th>\n",
       "      <th>93</th>\n",
       "      <th>94</th>\n",
       "      <th>95</th>\n",
       "      <th>96</th>\n",
       "      <th>97</th>\n",
       "      <th>98</th>\n",
       "      <th>99</th>\n",
       "    </tr>\n",
       "  </thead>\n",
       "  <tbody>\n",
       "    <tr>\n",
       "      <th>0</th>\n",
       "      <td>0.0</td>\n",
       "      <td>0.0</td>\n",
       "      <td>0.0</td>\n",
       "      <td>0.0</td>\n",
       "      <td>0.0</td>\n",
       "      <td>0.0</td>\n",
       "      <td>0.0</td>\n",
       "      <td>1.0</td>\n",
       "      <td>0.0</td>\n",
       "      <td>0.0</td>\n",
       "      <td>...</td>\n",
       "      <td>0.0</td>\n",
       "      <td>0.0</td>\n",
       "      <td>0.0</td>\n",
       "      <td>0.0</td>\n",
       "      <td>0.0</td>\n",
       "      <td>0.0</td>\n",
       "      <td>0.0</td>\n",
       "      <td>0.0</td>\n",
       "      <td>0.0</td>\n",
       "      <td>0.0</td>\n",
       "    </tr>\n",
       "    <tr>\n",
       "      <th>1</th>\n",
       "      <td>0.0</td>\n",
       "      <td>0.0</td>\n",
       "      <td>0.0</td>\n",
       "      <td>0.0</td>\n",
       "      <td>0.0</td>\n",
       "      <td>0.0</td>\n",
       "      <td>0.0</td>\n",
       "      <td>1.0</td>\n",
       "      <td>0.0</td>\n",
       "      <td>0.0</td>\n",
       "      <td>...</td>\n",
       "      <td>0.0</td>\n",
       "      <td>0.0</td>\n",
       "      <td>0.0</td>\n",
       "      <td>0.0</td>\n",
       "      <td>0.0</td>\n",
       "      <td>0.0</td>\n",
       "      <td>0.0</td>\n",
       "      <td>0.0</td>\n",
       "      <td>0.0</td>\n",
       "      <td>0.0</td>\n",
       "    </tr>\n",
       "  </tbody>\n",
       "</table>\n",
       "<p>2 rows × 100 columns</p>\n",
       "</div>"
      ],
      "text/plain": [
       "    0    1    2    3    4    5    6    7    8    9  ...    90   91   92   93  \\\n",
       "0  0.0  0.0  0.0  0.0  0.0  0.0  0.0  1.0  0.0  0.0 ...   0.0  0.0  0.0  0.0   \n",
       "1  0.0  0.0  0.0  0.0  0.0  0.0  0.0  1.0  0.0  0.0 ...   0.0  0.0  0.0  0.0   \n",
       "\n",
       "    94   95   96   97   98   99  \n",
       "0  0.0  0.0  0.0  0.0  0.0  0.0  \n",
       "1  0.0  0.0  0.0  0.0  0.0  0.0  \n",
       "\n",
       "[2 rows x 100 columns]"
      ]
     },
     "execution_count": 28,
     "metadata": {},
     "output_type": "execute_result"
    }
   ],
   "source": [
    "df.head(2)"
   ]
  },
  {
   "cell_type": "code",
   "execution_count": 29,
   "metadata": {
    "ExecuteTime": {
     "end_time": "2018-06-26T19:34:00.706844Z",
     "start_time": "2018-06-26T19:33:52.135302Z"
    }
   },
   "outputs": [
    {
     "name": "stdout",
     "output_type": "stream",
     "text": [
      "0.4212695876384164\n",
      "0.4161355973932612\n"
     ]
    }
   ],
   "source": [
    "l.fit(X_train_hash,y_train)\n",
    "y_pred = l.predict_proba(X_test_hash)\n",
    "print(log_loss(y_test,y_pred))#0.4\n",
    "r.fit(X_train_hash,y_train)\n",
    "y_pred = r.predict_proba(X_test_hash)\n",
    "print(log_loss(y_test,y_pred))"
   ]
  },
  {
   "cell_type": "markdown",
   "metadata": {},
   "source": [
    "# Encoding categories with dataset statistics"
   ]
  },
  {
   "cell_type": "code",
   "execution_count": 41,
   "metadata": {
    "ExecuteTime": {
     "end_time": "2018-06-26T20:10:19.974932Z",
     "start_time": "2018-06-26T20:10:19.648967Z"
    }
   },
   "outputs": [],
   "source": [
    "X_train_count = copy.copy(X_train)\n",
    "X_test_count = copy.copy(X_test)\n",
    "X_train_count[\"test\"]=0\n",
    "X_test_count[\"test\"]=1\n",
    "temp_df = pd.concat([X_train_count,X_test_count],axis=0)\n",
    "for i in range(temp_df.shape[1]):\n",
    "    temp_df.iloc[:,i]=temp_df.iloc[:,i].astype('category')\n",
    "X_train_count=temp_df[temp_df[\"test\"]==0].iloc[:,:-1]\n",
    "X_test_count=temp_df[temp_df[\"test\"]==1].iloc[:,:-1]\n",
    "for i in range(X_train_count.shape[1]):\n",
    "    counts = X_train_count.iloc[:,i].value_counts()\n",
    "    counts = counts.sort_index()\n",
    "    counts = counts.fillna(0)\n",
    "    counts += np.random.rand(len(counts))/1000 # add small random number so two different categorical values with\n",
    "                                                # same counts will result in different but very close encoding values\n",
    "    X_train_count.iloc[:,i].cat.categories = counts\n",
    "    X_test_count.iloc[:,i].cat.categories = counts"
   ]
  },
  {
   "cell_type": "code",
   "execution_count": 42,
   "metadata": {
    "ExecuteTime": {
     "end_time": "2018-06-26T20:10:37.019042Z",
     "start_time": "2018-06-26T20:10:32.894466Z"
    }
   },
   "outputs": [
    {
     "name": "stdout",
     "output_type": "stream",
     "text": [
      "0.4339115045397575\n"
     ]
    }
   ],
   "source": [
    "l.fit(X_train_count,y_train)\n",
    "y_pred = l.predict_proba(X_test_count)\n",
    "print(log_loss(y_test,y_pred))"
   ]
  },
  {
   "cell_type": "code",
   "execution_count": 44,
   "metadata": {
    "ExecuteTime": {
     "end_time": "2018-06-26T20:10:46.155871Z",
     "start_time": "2018-06-26T20:10:44.220581Z"
    }
   },
   "outputs": [
    {
     "name": "stdout",
     "output_type": "stream",
     "text": [
      "0.41006749357640637\n"
     ]
    }
   ],
   "source": [
    "r.fit(X_train_count,y_train)\n",
    "y_pred = r.predict_proba(X_test_count)\n",
    "print(log_loss(y_test,y_pred))"
   ]
  },
  {
   "cell_type": "code",
   "execution_count": 47,
   "metadata": {
    "ExecuteTime": {
     "end_time": "2018-06-26T20:18:50.528935Z",
     "start_time": "2018-06-26T20:18:50.254578Z"
    }
   },
   "outputs": [],
   "source": [
    "X_train_ctr = copy.copy(X_train)\n",
    "X_test_ctr = copy.copy(X_test)\n",
    "X_train_ctr[\"test\"]=0\n",
    "X_test_ctr[\"test\"]=1\n",
    "temp_df = pd.concat([X_train_ctr,X_test_ctr],axis=0)\n",
    "for i in range(temp_df.shape[1]):\n",
    "    temp_df.iloc[:,i]=temp_df.iloc[:,i].astype('category')\n",
    "X_train_ctr=temp_df[temp_df[\"test\"]==0].iloc[:,:-1]\n",
    "X_test_ctr=temp_df[temp_df[\"test\"]==1].iloc[:,:-1]\n",
    "temp_df = pd.concat([X_train_ctr,y_train],axis=1)\n",
    "names = list(X_train_ctr.columns.values)\n",
    "for i in names:\n",
    "    means = temp_df.groupby(i)['click'].mean()\n",
    "    means = means.fillna(sum(temp_df['click'])/len(temp_df['click'])) # fill na with overall mean\n",
    "    means += np.random.rand(len(means))/1000\n",
    "    X_train_ctr[i].cat.categories = means\n",
    "    X_test_ctr[i].cat.categories = means"
   ]
  },
  {
   "cell_type": "code",
   "execution_count": 48,
   "metadata": {
    "ExecuteTime": {
     "end_time": "2018-06-26T20:18:57.556441Z",
     "start_time": "2018-06-26T20:18:56.316403Z"
    }
   },
   "outputs": [
    {
     "name": "stdout",
     "output_type": "stream",
     "text": [
      "0.42873476553514345\n",
      "0.41423371514431023\n"
     ]
    }
   ],
   "source": [
    "l.fit(X_train_ctr,y_train)\n",
    "y_pred = l.predict_proba(X_test_ctr)\n",
    "print(log_loss(y_test,y_pred))\n",
    "r.fit(X_train_ctr,y_train)\n",
    "y_pred = r.predict_proba(X_test_ctr)\n",
    "print(log_loss(y_test,y_pred))"
   ]
  },
  {
   "cell_type": "code",
   "execution_count": null,
   "metadata": {},
   "outputs": [],
   "source": []
  },
  {
   "cell_type": "code",
   "execution_count": 50,
   "metadata": {
    "ExecuteTime": {
     "end_time": "2018-06-27T00:05:14.731321Z",
     "start_time": "2018-06-27T00:05:14.529955Z"
    }
   },
   "outputs": [],
   "source": [
    "from gensim.models.word2vec import Word2Vec"
   ]
  },
  {
   "cell_type": "code",
   "execution_count": 51,
   "metadata": {
    "ExecuteTime": {
     "end_time": "2018-06-27T00:12:35.831547Z",
     "start_time": "2018-06-27T00:12:35.825540Z"
    }
   },
   "outputs": [
    {
     "data": {
      "text/plain": [
       "[3, 4, 5, 6, 7, 8, 9, 10, 11, 13, 14, 15, 16, 17, 18, 19, 20, 21, 22, 23]"
      ]
     },
     "execution_count": 51,
     "metadata": {},
     "output_type": "execute_result"
    }
   ],
   "source": [
    "features"
   ]
  },
  {
   "cell_type": "code",
   "execution_count": null,
   "metadata": {
    "ExecuteTime": {
     "end_time": "2018-06-27T13:17:36.524428Z",
     "start_time": "2018-06-27T13:17:28.007729Z"
    }
   },
   "outputs": [],
   "source": [
    "from gensim.models.word2vec import Word2Vec\n",
    "from random import shuffle\n",
    "size=6\n",
    "window=8\n",
    "x_w2v = copy.deepcopy(data.iloc[:,features])\n",
    "names = list(x_w2v.columns.values)\n",
    "for i in names:\n",
    "    x_w2v[i]=x_w2v[i].astype('category')\n",
    "    x_w2v[i].cat.categories = [\"Feature %s %s\" % (i,g) for g in x_w2v[i].cat.categories]\n",
    "x_w2v = x_w2v.values.tolist()\n",
    "for i in x_w2v:\n",
    "    shuffle(i)\n",
    "w2v = Word2Vec(x_w2v,size=size,window=window)\n",
    "X_train_w2v = copy.copy(X_train)\n",
    "X_test_w2v = copy.copy(X_test)\n",
    "for i in names:\n",
    "    X_train_w2v[i]=X_train_w2v[i].astype('category')\n",
    "    X_train_w2v[i].cat.categories = [\"Feature %s %s\" % (i,g) for g in X_train_w2v[i].cat.categories]\n",
    "for i in names:\n",
    "    X_test_w2v[i]=X_test_w2v[i].astype('category')\n",
    "    X_test_w2v[i].cat.categories = [\"Feature %s %s\" % (i,g) for g in X_test_w2v[i].cat.categories]\n",
    "X_train_w2v = X_train_w2v.values\n",
    "X_test_w2v = X_test_w2v.values\n",
    "x_w2v_train = np.random.random((len(X_train_w2v),size*X_train_w2v.shape[1]))\n",
    "for j in range(X_train_w2v.shape[1]):\n",
    "    for i in range(X_train_w2v.shape[0]):\n",
    "        if X_train_w2v[i,j] in w2v.wv: # .wv is added by 41\n",
    "            x_w2v_train[i,j*size:(j+1)*size] = w2v.wv[X_train_w2v[i,j]]\n",
    "x_w2v_test = np.random.random((len(X_test_w2v),size*X_test_w2v.shape[1]))\n",
    "for j in range(X_test_w2v.shape[1]):\n",
    "    for i in range(X_test_w2v.shape[0]):\n",
    "        if X_test_w2v[i,j] in w2v.wv:\n",
    "            x_w2v_test[i,j*size:(j+1)*size] = w2v.wv[X_test_w2v[i,j]]"
   ]
  },
  {
   "cell_type": "code",
   "execution_count": 57,
   "metadata": {
    "ExecuteTime": {
     "end_time": "2018-06-27T01:53:23.458786Z",
     "start_time": "2018-06-27T01:53:00.476725Z"
    }
   },
   "outputs": [
    {
     "name": "stdout",
     "output_type": "stream",
     "text": [
      "0.4170294511369084\n",
      "0.41016326074048537\n"
     ]
    }
   ],
   "source": [
    "l.fit(x_w2v_train,y_train)\n",
    "y_pred = l.predict_proba(x_w2v_test)\n",
    "print(log_loss(y_test,y_pred))\n",
    "r.fit(x_w2v_train,y_train)\n",
    "y_pred = r.predict_proba(x_w2v_test)\n",
    "print(log_loss(y_test,y_pred))"
   ]
  },
  {
   "cell_type": "markdown",
   "metadata": {},
   "source": [
    "# Category embedding with deep learning"
   ]
  },
  {
   "cell_type": "code",
   "execution_count": 37,
   "metadata": {
    "ExecuteTime": {
     "end_time": "2018-06-27T17:55:59.266052Z",
     "start_time": "2018-06-27T17:55:59.169497Z"
    }
   },
   "outputs": [],
   "source": [
    "from keras.models import Sequential\n",
    "from keras.layers.core import Dense, Activation, Reshape\n",
    "from keras.layers import Merge\n",
    "from keras.layers.embeddings import Embedding\n",
    "from keras.callbacks import ModelCheckpoint\n",
    "import h5py\n",
    "import copy\n",
    "X_train_dnn = copy.copy(X_train).values # make it np.ndarray\n",
    "X_test_dnn = copy.copy(X_test).values"
   ]
  },
  {
   "cell_type": "code",
   "execution_count": 38,
   "metadata": {
    "ExecuteTime": {
     "end_time": "2018-06-27T17:56:02.075750Z",
     "start_time": "2018-06-27T17:56:00.486047Z"
    }
   },
   "outputs": [],
   "source": [
    "les = []\n",
    "for i in range(X_train_dnn.shape[1]):\n",
    "    le = preprocessing.LabelEncoder()\n",
    "    le.fit(data.iloc[:,features].iloc[:, i])\n",
    "    les.append(le)\n",
    "    X_train_dnn[:, i] = le.transform(X_train_dnn[:, i])\n",
    "    X_test_dnn[:, i] = le.transform(X_test_dnn[:, i])"
   ]
  },
  {
   "cell_type": "code",
   "execution_count": 39,
   "metadata": {
    "ExecuteTime": {
     "end_time": "2018-06-27T17:56:03.193935Z",
     "start_time": "2018-06-27T17:56:03.168821Z"
    }
   },
   "outputs": [],
   "source": [
    "def split_features(X):\n",
    "    X_list = []\n",
    "    \n",
    "    C1 = X[..., [0]]\n",
    "    X_list.append(C1)\n",
    "    \n",
    "    banner_pos = X[..., [1]]\n",
    "    X_list.append(banner_pos)\n",
    "    \n",
    "    site_id = X[..., [2]]\n",
    "    X_list.append(site_id)\n",
    "\n",
    "    site_domain = X[..., [3]]\n",
    "    X_list.append(site_domain)\n",
    "    \n",
    "    site_category = X[..., [4]]\n",
    "    X_list.append(site_category)\n",
    "    \n",
    "    app_id = X[..., [5]]\n",
    "    X_list.append(app_id)\n",
    "    \n",
    "    app_domain = X[..., [6]]\n",
    "    X_list.append(app_domain)\n",
    "    \n",
    "    app_category = X[..., [7]]\n",
    "    X_list.append(app_category)\n",
    "\n",
    "    device_id = X[..., [8]]\n",
    "    X_list.append(device_id)\n",
    "    \n",
    "    device_model = X[..., [9]]\n",
    "    X_list.append(device_model)\n",
    "    \n",
    "    device_type = X[..., [10]]\n",
    "    X_list.append(device_type)\n",
    "\n",
    "    device_conn_type = X[..., [11]]\n",
    "    X_list.append(device_conn_type)\n",
    "    \n",
    "    C14 = X[..., [12]]\n",
    "    X_list.append(C14)\n",
    "\n",
    "    C15 = X[..., [13]]\n",
    "    X_list.append(C15)\n",
    "    \n",
    "    C16 = X[..., [14]]\n",
    "    X_list.append(C16)\n",
    "    \n",
    "    C17 = X[..., [15]]\n",
    "    X_list.append(C17)\n",
    "    \n",
    "    C18 = X[..., [16]]\n",
    "    X_list.append(C18)\n",
    "    \n",
    "    C19 = X[..., [17]]\n",
    "    X_list.append(C19)\n",
    "\n",
    "    C20 = X[..., [18]]\n",
    "    X_list.append(C20)\n",
    "    \n",
    "    C21 = X[..., [19]]\n",
    "    X_list.append(C21)\n",
    "    \n",
    "    return X_list"
   ]
  },
  {
   "cell_type": "code",
   "execution_count": 41,
   "metadata": {
    "ExecuteTime": {
     "end_time": "2018-06-27T17:56:12.720026Z",
     "start_time": "2018-06-27T17:56:12.678352Z"
    }
   },
   "outputs": [],
   "source": [
    "class NN_with_EntityEmbedding(object):\n",
    "    def __init__(self, X_train, y_train, X_val, y_val):\n",
    "        self.nb_epoch = 1\n",
    "        self.__build_keras_model()\n",
    "        self.fit(X_train, y_train, X_val, y_val)\n",
    "    def preprocessing(self, X):\n",
    "        X_list = split_features(X)\n",
    "        return X_list\n",
    "    def __build_keras_model(self):\n",
    "        models = []\n",
    "        model_C1= Sequential()\n",
    "        model_C1.add(Embedding(len(les[0].classes_), 3, input_length=1))\n",
    "        model_C1.add(Reshape(target_shape=(3,)))\n",
    "        models.append(model_C1)\n",
    "        \n",
    "        model_banner_pos = Sequential()\n",
    "        model_banner_pos.add(Embedding(len(les[1].classes_), 3, input_length=1))\n",
    "        model_banner_pos.add(Reshape(target_shape=(3,)))\n",
    "        models.append(model_banner_pos)\n",
    "        \n",
    "        model_site_id = Sequential()\n",
    "        model_site_id.add(Embedding(len(les[2].classes_), 8, input_length=1))\n",
    "        model_site_id.add(Reshape(target_shape=(8,)))\n",
    "        models.append(model_site_id)\n",
    "        \n",
    "        site_domain = Sequential()\n",
    "        site_domain.add(Embedding(len(les[3].classes_), 8, input_length=1))\n",
    "        site_domain.add(Reshape(target_shape=(8,)))\n",
    "        models.append(site_domain)\n",
    "        \n",
    "        site_category = Sequential()\n",
    "        site_category.add(Embedding(len(les[4].classes_), 3, input_length=1))\n",
    "        site_category.add(Reshape(target_shape=(3,)))\n",
    "        models.append(site_category)\n",
    "        \n",
    "        app_id = Sequential()\n",
    "        app_id.add(Embedding(len(les[5].classes_), 8, input_length=1))\n",
    "        app_id.add(Reshape(target_shape=(8,)))\n",
    "        models.append(app_id)\n",
    "        \n",
    "        app_domain = Sequential()\n",
    "        app_domain.add(Embedding(len(les[6].classes_), 4, input_length=1))\n",
    "        app_domain.add(Reshape(target_shape=(4,)))\n",
    "        models.append(app_domain)\n",
    "        \n",
    "        app_category = Sequential()\n",
    "        app_category.add(Embedding(len(les[7].classes_), 3, input_length=1))\n",
    "        app_category.add(Reshape(target_shape=(3,)))\n",
    "        models.append(app_category)\n",
    "        \n",
    "        device_id = Sequential()\n",
    "        device_id.add(Embedding(len(les[8].classes_), 10, input_length=1))\n",
    "        device_id.add(Reshape(target_shape=(10,)))\n",
    "        models.append(device_id)\n",
    "        \n",
    "        device_model = Sequential()\n",
    "        device_model.add(Embedding(len(les[9].classes_), 8, input_length=1))\n",
    "        device_model.add(Reshape(target_shape=(8,)))\n",
    "        models.append(device_model)\n",
    "        \n",
    "        device_type = Sequential()\n",
    "        device_type.add(Embedding(len(les[10].classes_), 2, input_length=1))\n",
    "        device_type.add(Reshape(target_shape=(2,)))\n",
    "        models.append(device_type)\n",
    "        \n",
    "        device_conn_type = Sequential()\n",
    "        device_conn_type.add(Embedding(len(les[11].classes_), 2, input_length=1))\n",
    "        device_conn_type.add(Reshape(target_shape=(2,)))\n",
    "        models.append(device_conn_type)\n",
    "        \n",
    "        C14 = Sequential()\n",
    "        C14.add(Embedding(len(les[12].classes_), 8, input_length=1))\n",
    "        C14.add(Reshape(target_shape=(8,)))\n",
    "        models.append(C14)\n",
    "        \n",
    "        C15 = Sequential()\n",
    "        C15.add(Embedding(len(les[13].classes_), 3, input_length=1))\n",
    "        C15.add(Reshape(target_shape=(3,)))\n",
    "        models.append(C15)\n",
    "        \n",
    "        C16 = Sequential()\n",
    "        C16.add(Embedding(len(les[14].classes_), 3, input_length=1))\n",
    "        C16.add(Reshape(target_shape=(3,)))\n",
    "        models.append(C16)\n",
    "        \n",
    "        C17 = Sequential()\n",
    "        C17.add(Embedding(len(les[15].classes_), 4, input_length=1))\n",
    "        C17.add(Reshape(target_shape=(4,)))\n",
    "        models.append(C17)\n",
    "        \n",
    "        C18 = Sequential()\n",
    "        C18.add(Embedding(len(les[16].classes_), 2, input_length=1))\n",
    "        C18.add(Reshape(target_shape=(2,)))\n",
    "        models.append(C18)\n",
    "        \n",
    "        C19 = Sequential()\n",
    "        C19.add(Embedding(len(les[17].classes_), 4, input_length=1))\n",
    "        C19.add(Reshape(target_shape=(4,)))\n",
    "        models.append(C19)\n",
    "        \n",
    "        C20 = Sequential()\n",
    "        C20.add(Embedding(len(les[18].classes_), 5, input_length=1))\n",
    "        C20.add(Reshape(target_shape=(5,)))\n",
    "        models.append(C20)\n",
    "        \n",
    "        C21 = Sequential()\n",
    "        C21.add(Embedding(len(les[19].classes_), 4, input_length=1))\n",
    "        C21.add(Reshape(target_shape=(4,)))\n",
    "        models.append(C21)\n",
    "        \n",
    "        self.model = Sequential()\n",
    "        self.model.add(Merge(models, mode='concat'))\n",
    "        self.model.add(Dense(150, kernel_initializer='uniform'))\n",
    "        self.model.add(Activation('relu'))\n",
    "        self.model.add(Dense(250, kernel_initializer='uniform'))\n",
    "        self.model.add(Activation('relu'))\n",
    "        self.model.add(Dense(1))\n",
    "        self.model.add(Activation('sigmoid'))\n",
    "        \n",
    "        self.model.compile(loss='binary_crossentropy',\n",
    "                           optimizer='adam',\n",
    "                           metrics=['acc'])\n",
    "        \n",
    "    def fit(self, X_train, y_train, X_val, y_val):\n",
    "        self.model.fit(self.preprocessing(X_train), y_train,\n",
    "                       validation_data=(self.preprocessing(X_val), y_val),\n",
    "                       epochs=self.nb_epoch, batch_size=128,\n",
    "                       )\n",
    "        \n"
   ]
  },
  {
   "cell_type": "code",
   "execution_count": 42,
   "metadata": {
    "ExecuteTime": {
     "end_time": "2018-06-27T17:56:30.369761Z",
     "start_time": "2018-06-27T17:56:17.833945Z"
    }
   },
   "outputs": [
    {
     "name": "stderr",
     "output_type": "stream",
     "text": [
      "/home/kai/anaconda3/envs/tf_gpu/lib/python3.5/site-packages/ipykernel_launcher.py:112: UserWarning: The `Merge` layer is deprecated and will be removed after 08/2017. Use instead layers from `keras.layers.merge`, e.g. `add`, `concatenate`, etc.\n"
     ]
    },
    {
     "name": "stdout",
     "output_type": "stream",
     "text": [
      "Train on 79998 samples, validate on 20002 samples\n",
      "Epoch 1/1\n",
      "79998/79998 [==============================] - 11s 140us/step - loss: 0.4229 - acc: 0.8242 - val_loss: 0.4063 - val_acc: 0.8293\n"
     ]
    }
   ],
   "source": [
    "dnn = NN_with_EntityEmbedding(X_train_dnn, y_train, X_test_dnn, y_test)   \n",
    "weights = dnn.model.get_weights()"
   ]
  },
  {
   "cell_type": "code",
   "execution_count": 43,
   "metadata": {
    "ExecuteTime": {
     "end_time": "2018-06-27T17:56:32.323434Z",
     "start_time": "2018-06-27T17:56:32.289098Z"
    }
   },
   "outputs": [
    {
     "name": "stdout",
     "output_type": "stream",
     "text": [
      "_________________________________________________________________\n",
      "Layer (type)                 Output Shape              Param #   \n",
      "=================================================================\n",
      "merge_1 (Merge)              (None, 95)                0         \n",
      "_________________________________________________________________\n",
      "dense_4 (Dense)              (None, 150)               14400     \n",
      "_________________________________________________________________\n",
      "activation_1 (Activation)    (None, 150)               0         \n",
      "_________________________________________________________________\n",
      "dense_5 (Dense)              (None, 250)               37750     \n",
      "_________________________________________________________________\n",
      "activation_2 (Activation)    (None, 250)               0         \n",
      "_________________________________________________________________\n",
      "dense_6 (Dense)              (None, 1)                 251       \n",
      "_________________________________________________________________\n",
      "activation_3 (Activation)    (None, 1)                 0         \n",
      "=================================================================\n",
      "Total params: 168,457\n",
      "Trainable params: 168,457\n",
      "Non-trainable params: 0\n",
      "_________________________________________________________________\n"
     ]
    }
   ],
   "source": [
    "dnn.model.summary()"
   ]
  },
  {
   "cell_type": "code",
   "execution_count": 44,
   "metadata": {
    "ExecuteTime": {
     "end_time": "2018-06-27T17:56:36.444205Z",
     "start_time": "2018-06-27T17:56:36.412669Z"
    }
   },
   "outputs": [
    {
     "data": {
      "text/plain": [
       "list"
      ]
     },
     "execution_count": 44,
     "metadata": {},
     "output_type": "execute_result"
    }
   ],
   "source": [
    "type(weights)"
   ]
  },
  {
   "cell_type": "code",
   "execution_count": 45,
   "metadata": {
    "ExecuteTime": {
     "end_time": "2018-06-27T17:56:37.112180Z",
     "start_time": "2018-06-27T17:56:37.094949Z"
    }
   },
   "outputs": [
    {
     "data": {
      "text/plain": [
       "46"
      ]
     },
     "execution_count": 45,
     "metadata": {},
     "output_type": "execute_result"
    }
   ],
   "source": [
    "len(weights)"
   ]
  },
  {
   "cell_type": "code",
   "execution_count": 48,
   "metadata": {
    "ExecuteTime": {
     "end_time": "2018-06-27T17:57:01.220637Z",
     "start_time": "2018-06-27T17:57:01.196628Z"
    }
   },
   "outputs": [
    {
     "name": "stdout",
     "output_type": "stream",
     "text": [
      "0 (6, 3) 1\n",
      "2 (5, 3) 1\n",
      "4 (893, 8) 1\n",
      "6 (780, 8) 1\n",
      "8 (16, 3) 1\n",
      "10 (704, 8) 1\n",
      "12 (55, 4) 1\n",
      "14 (19, 3) 1\n",
      "16 (7202, 10) 1\n",
      "18 (2473, 8) 1\n",
      "20 (4, 2) 1\n",
      "22 (4, 2) 1\n",
      "24 (420, 8) 1\n",
      "26 (5, 3) 1\n",
      "28 (6, 3) 1\n",
      "30 (128, 4) 1\n",
      "32 (4, 2) 1\n",
      "34 (37, 4) 1\n",
      "36 (137, 5) 1\n",
      "38 (29, 4) 1\n"
     ]
    }
   ],
   "source": [
    "for i in range(0,40,1):\n",
    "    if len(weights[i]) != 0:\n",
    "        print(i, weights[i][0].shape, len(weights[i]))#, weights[i][0])"
   ]
  },
  {
   "cell_type": "code",
   "execution_count": 49,
   "metadata": {
    "ExecuteTime": {
     "end_time": "2018-06-27T17:57:33.270074Z",
     "start_time": "2018-06-27T17:57:33.094513Z"
    }
   },
   "outputs": [
    {
     "name": "stdout",
     "output_type": "stream",
     "text": [
      "6 ['Feature C1 1001' 'Feature C1 1002']\n",
      "5 ['Feature banner_pos 0' 'Feature banner_pos 1']\n",
      "893 ['Feature site_id 00255fb4' 'Feature site_id 006ab81e']\n",
      "780 ['Feature site_domain 005b495a' 'Feature site_domain 00e1b9c0']\n",
      "16 ['Feature site_category 0569f928' 'Feature site_category 110ab22d']\n",
      "704 ['Feature app_id 000d6291' 'Feature app_id 00848fac']\n",
      "55 ['Feature app_domain 0654b444' 'Feature app_domain 15ec7f39']\n",
      "19 ['Feature app_category 07d7df22' 'Feature app_category 09481d60']\n",
      "7202 ['Feature device_id 0003e558' 'Feature device_id 000ef707']\n",
      "2473 ['Feature device_model 00097428' 'Feature device_model 0009f4d7']\n",
      "4 ['Feature device_type 0' 'Feature device_type 1']\n",
      "4 ['Feature device_conn_type 0' 'Feature device_conn_type 2']\n",
      "420 ['Feature C14 375' 'Feature C14 377']\n",
      "5 ['Feature C15 120' 'Feature C15 216']\n",
      "6 ['Feature C16 20' 'Feature C16 36']\n",
      "128 ['Feature C17 112' 'Feature C17 122']\n",
      "4 ['Feature C18 0' 'Feature C18 1']\n",
      "37 ['Feature C19 33' 'Feature C19 35']\n",
      "137 ['Feature C20 -1' 'Feature C20 100000']\n",
      "29 ['Feature C21 13' 'Feature C21 15']\n"
     ]
    }
   ],
   "source": [
    "x_w2v = copy.deepcopy(data.iloc[:,features])\n",
    "names = list(x_w2v.columns.values)\n",
    "for i in names:\n",
    "    x_w2v[i]=x_w2v[i].astype('category')\n",
    "    x_w2v[i].cat.categories = [\"Feature %s %s\" % (i,g) for g in x_w2v[i].cat.categories]\n",
    "    print(len(x_w2v[i].cat.categories), x_w2v[i].cat.categories.values[:min(2,len(x_w2v[i].cat.categories))])"
   ]
  },
  {
   "cell_type": "code",
   "execution_count": 50,
   "metadata": {
    "ExecuteTime": {
     "end_time": "2018-06-27T17:57:45.204783Z",
     "start_time": "2018-06-27T17:57:45.170912Z"
    }
   },
   "outputs": [
    {
     "data": {
      "text/plain": [
       "95"
      ]
     },
     "execution_count": 50,
     "metadata": {},
     "output_type": "execute_result"
    }
   ],
   "source": [
    "n = 0\n",
    "for i in range(0,40,2):\n",
    "    n+=(weights[i][0].shape)[1]\n",
    "n"
   ]
  },
  {
   "cell_type": "code",
   "execution_count": 51,
   "metadata": {
    "ExecuteTime": {
     "end_time": "2018-06-27T17:57:47.179107Z",
     "start_time": "2018-06-27T17:57:47.146875Z"
    }
   },
   "outputs": [
    {
     "data": {
      "text/plain": [
       "(79998, 20)"
      ]
     },
     "execution_count": 51,
     "metadata": {},
     "output_type": "execute_result"
    }
   ],
   "source": [
    "X_train_dnn.shape"
   ]
  },
  {
   "cell_type": "code",
   "execution_count": 52,
   "metadata": {
    "ExecuteTime": {
     "end_time": "2018-06-27T17:57:48.635905Z",
     "start_time": "2018-06-27T17:57:48.591208Z"
    }
   },
   "outputs": [
    {
     "data": {
      "text/plain": [
       "array([0, 1, 2, 3, 4, 5], dtype=object)"
      ]
     },
     "execution_count": 52,
     "metadata": {},
     "output_type": "execute_result"
    }
   ],
   "source": [
    "np.unique(X_train_dnn[:,0])"
   ]
  },
  {
   "cell_type": "code",
   "execution_count": 53,
   "metadata": {
    "ExecuteTime": {
     "end_time": "2018-06-27T17:57:52.486952Z",
     "start_time": "2018-06-27T17:57:51.010861Z"
    }
   },
   "outputs": [],
   "source": [
    "x_dnn_train = np.random.random((len(X_train_dnn),n))\n",
    "start_ind=0\n",
    "for j in range(X_train_dnn.shape[1]):\n",
    "    mat = weights[j*2][0]\n",
    "    dim = mat.shape[1]\n",
    "    for i in range(X_train_dnn.shape[0]):\n",
    "        x_dnn_train[i,start_ind:start_ind+dim]=mat[X_train_dnn[i,j]]\n",
    "    start_ind += dim\n",
    "\n",
    "x_dnn_test = np.random.random((len(X_test_dnn),n))\n",
    "start_ind=0\n",
    "for j in range(X_test_dnn.shape[1]):\n",
    "    mat = weights[j*2][0]\n",
    "    dim = mat.shape[1]\n",
    "    for i in range(x_dnn_test.shape[0]):\n",
    "        x_dnn_test[i,start_ind:start_ind+dim]=mat[X_test_dnn[i,j]]\n",
    "    start_ind += dim"
   ]
  },
  {
   "cell_type": "code",
   "execution_count": 54,
   "metadata": {
    "ExecuteTime": {
     "end_time": "2018-06-27T17:57:58.229957Z",
     "start_time": "2018-06-27T17:57:54.175444Z"
    }
   },
   "outputs": [
    {
     "name": "stdout",
     "output_type": "stream",
     "text": [
      "0.4120461370111313\n",
      "0.41186738799763994\n"
     ]
    }
   ],
   "source": [
    "l.fit(x_dnn_train,y_train)\n",
    "y_pred = l.predict_proba(x_dnn_test)\n",
    "print(log_loss(y_test,y_pred))\n",
    "r.fit(x_dnn_train,y_train)\n",
    "y_pred = r.predict_proba(x_dnn_test)\n",
    "print(log_loss(y_test,y_pred))"
   ]
  },
  {
   "cell_type": "markdown",
   "metadata": {},
   "source": [
    "# using better keras embedding code"
   ]
  },
  {
   "cell_type": "code",
   "execution_count": 6,
   "metadata": {
    "ExecuteTime": {
     "end_time": "2018-06-27T17:44:41.276377Z",
     "start_time": "2018-06-27T17:44:40.595100Z"
    }
   },
   "outputs": [
    {
     "name": "stdout",
     "output_type": "stream",
     "text": [
      "['', '/home/kai/anaconda3/envs/tf_gpu/lib/python35.zip', '/home/kai/anaconda3/envs/tf_gpu/lib/python3.5', '/home/kai/anaconda3/envs/tf_gpu/lib/python3.5/plat-linux', '/home/kai/anaconda3/envs/tf_gpu/lib/python3.5/lib-dynload', '/home/kai/.local/lib/python3.5/site-packages', '/home/kai/anaconda3/envs/tf_gpu/lib/python3.5/site-packages', '/home/kai/anaconda3/envs/tf_gpu/lib/python3.5/site-packages/IPython/extensions', '/home/kai/.ipython', '/home/kai/data/shiyi/AlphaBoosting/automl']\n"
     ]
    },
    {
     "name": "stderr",
     "output_type": "stream",
     "text": [
      "/home/kai/anaconda3/envs/tf_gpu/lib/python3.5/site-packages/h5py/__init__.py:36: FutureWarning: Conversion of the second argument of issubdtype from `float` to `np.floating` is deprecated. In future, it will be treated as `np.float64 == np.dtype(float).type`.\n",
      "  from ._conv import register_converters as _register_converters\n",
      "Using TensorFlow backend.\n"
     ]
    }
   ],
   "source": [
    "import os\n",
    "import sys\n",
    "#nb_dir = os.path.split(os.getcwd())[0]\n",
    "#if nb_dir not in sys.path:\n",
    "#    sys.path.append(nb_dir)\n",
    "    \n",
    "autolib_dir = '/home/kai/data/shiyi/AlphaBoosting/automl'\n",
    "if autolib_dir not in sys.path:\n",
    "    sys.path.append(autolib_dir)\n",
    "\n",
    "print(sys.path)\n",
    "\n",
    "%load_ext autoreload\n",
    "\n",
    "%autoreload 2\n",
    "\n",
    "from automl_libs import feature_engineering as fe\n",
    "from automl_libs import encoding, kernels, nn_libs "
   ]
  },
  {
   "cell_type": "code",
   "execution_count": 7,
   "metadata": {
    "ExecuteTime": {
     "end_time": "2018-06-27T17:44:43.433645Z",
     "start_time": "2018-06-27T17:44:43.403081Z"
    }
   },
   "outputs": [],
   "source": [
    "X_train_ordinal_df = pd.DataFrame(X_train_ordinal)"
   ]
  },
  {
   "cell_type": "code",
   "execution_count": 8,
   "metadata": {
    "ExecuteTime": {
     "end_time": "2018-06-27T17:44:44.497764Z",
     "start_time": "2018-06-27T17:44:44.466681Z"
    }
   },
   "outputs": [],
   "source": [
    "X_test_ordinal_df = pd.DataFrame(X_test_ordinal)"
   ]
  },
  {
   "cell_type": "code",
   "execution_count": 16,
   "metadata": {
    "ExecuteTime": {
     "end_time": "2018-06-27T17:46:04.193559Z",
     "start_time": "2018-06-27T17:46:04.161680Z"
    }
   },
   "outputs": [],
   "source": [
    "embed_outdim = [3, 3, 8, 8, 3, 8, 4, 3, 10, 8, 2, 2, 8, 3, 3, 4, 2, 4, 5, 4]\n",
    "cat_cols = X_train_ordinal_df.columns.values # this df is from np array, so its column names are integer\n",
    "embed_outdim_dict = dict(zip(cat_cols, embed_outdim))\n",
    "\n",
    "params = {\n",
    "    'nn_seed': 2018, \n",
    "    'ep_for_lr': 1,\n",
    "    'lr_init': 0.01,\n",
    "    'lr_fin': 0.01,\n",
    "    'batch_size': 128,\n",
    "    \"pred_batch_size\": 100000,\n",
    "    'max_ep': 1,\n",
    "    'patience': 1,\n",
    "    'cat_emb_outdim': embed_outdim_dict,\n",
    "    'dense_units': 150,\n",
    "    'num_dense_n_layers': 1,\n",
    "    'drop_rate': 0,\n",
    "    'combined_dense_n_layers': 2\n",
    "}"
   ]
  },
  {
   "cell_type": "code",
   "execution_count": 17,
   "metadata": {
    "ExecuteTime": {
     "end_time": "2018-06-27T17:46:04.671891Z",
     "start_time": "2018-06-27T17:46:04.378077Z"
    }
   },
   "outputs": [],
   "source": [
    "model, tr_dict, va_dict, te_dict = nn_libs.get_model(params, X_train=X_train_ordinal_df, X_val=X_test_ordinal_df, X_test=X_test_ordinal_df.head(5), categorical_features=X_train_ordinal_df.columns.values)"
   ]
  },
  {
   "cell_type": "code",
   "execution_count": 18,
   "metadata": {
    "ExecuteTime": {
     "end_time": "2018-06-27T17:46:06.135445Z",
     "start_time": "2018-06-27T17:46:06.106110Z"
    }
   },
   "outputs": [
    {
     "name": "stdout",
     "output_type": "stream",
     "text": [
      "__________________________________________________________________________________________________\n",
      "Layer (type)                    Output Shape         Param #     Connected to                     \n",
      "==================================================================================================\n",
      "0 (InputLayer)                  (None, 1)            0                                            \n",
      "__________________________________________________________________________________________________\n",
      "1 (InputLayer)                  (None, 1)            0                                            \n",
      "__________________________________________________________________________________________________\n",
      "2 (InputLayer)                  (None, 1)            0                                            \n",
      "__________________________________________________________________________________________________\n",
      "3 (InputLayer)                  (None, 1)            0                                            \n",
      "__________________________________________________________________________________________________\n",
      "4 (InputLayer)                  (None, 1)            0                                            \n",
      "__________________________________________________________________________________________________\n",
      "5 (InputLayer)                  (None, 1)            0                                            \n",
      "__________________________________________________________________________________________________\n",
      "6 (InputLayer)                  (None, 1)            0                                            \n",
      "__________________________________________________________________________________________________\n",
      "7 (InputLayer)                  (None, 1)            0                                            \n",
      "__________________________________________________________________________________________________\n",
      "8 (InputLayer)                  (None, 1)            0                                            \n",
      "__________________________________________________________________________________________________\n",
      "9 (InputLayer)                  (None, 1)            0                                            \n",
      "__________________________________________________________________________________________________\n",
      "10 (InputLayer)                 (None, 1)            0                                            \n",
      "__________________________________________________________________________________________________\n",
      "11 (InputLayer)                 (None, 1)            0                                            \n",
      "__________________________________________________________________________________________________\n",
      "12 (InputLayer)                 (None, 1)            0                                            \n",
      "__________________________________________________________________________________________________\n",
      "13 (InputLayer)                 (None, 1)            0                                            \n",
      "__________________________________________________________________________________________________\n",
      "14 (InputLayer)                 (None, 1)            0                                            \n",
      "__________________________________________________________________________________________________\n",
      "15 (InputLayer)                 (None, 1)            0                                            \n",
      "__________________________________________________________________________________________________\n",
      "16 (InputLayer)                 (None, 1)            0                                            \n",
      "__________________________________________________________________________________________________\n",
      "17 (InputLayer)                 (None, 1)            0                                            \n",
      "__________________________________________________________________________________________________\n",
      "18 (InputLayer)                 (None, 1)            0                                            \n",
      "__________________________________________________________________________________________________\n",
      "19 (InputLayer)                 (None, 1)            0                                            \n",
      "__________________________________________________________________________________________________\n",
      "embedding_41 (Embedding)        (None, 1, 3)         18          0[0][0]                          \n",
      "__________________________________________________________________________________________________\n",
      "embedding_42 (Embedding)        (None, 1, 3)         15          1[0][0]                          \n",
      "__________________________________________________________________________________________________\n",
      "embedding_43 (Embedding)        (None, 1, 8)         7144        2[0][0]                          \n",
      "__________________________________________________________________________________________________\n",
      "embedding_44 (Embedding)        (None, 1, 8)         6240        3[0][0]                          \n",
      "__________________________________________________________________________________________________\n",
      "embedding_45 (Embedding)        (None, 1, 3)         48          4[0][0]                          \n",
      "__________________________________________________________________________________________________\n",
      "embedding_46 (Embedding)        (None, 1, 8)         5632        5[0][0]                          \n",
      "__________________________________________________________________________________________________\n",
      "embedding_47 (Embedding)        (None, 1, 4)         220         6[0][0]                          \n",
      "__________________________________________________________________________________________________\n",
      "embedding_48 (Embedding)        (None, 1, 3)         57          7[0][0]                          \n",
      "__________________________________________________________________________________________________\n",
      "embedding_49 (Embedding)        (None, 1, 10)        72020       8[0][0]                          \n",
      "__________________________________________________________________________________________________\n",
      "embedding_50 (Embedding)        (None, 1, 8)         19784       9[0][0]                          \n",
      "__________________________________________________________________________________________________\n",
      "embedding_51 (Embedding)        (None, 1, 2)         8           10[0][0]                         \n",
      "__________________________________________________________________________________________________\n",
      "embedding_52 (Embedding)        (None, 1, 2)         8           11[0][0]                         \n",
      "__________________________________________________________________________________________________\n",
      "embedding_53 (Embedding)        (None, 1, 8)         3360        12[0][0]                         \n",
      "__________________________________________________________________________________________________\n",
      "embedding_54 (Embedding)        (None, 1, 3)         15          13[0][0]                         \n",
      "__________________________________________________________________________________________________\n",
      "embedding_55 (Embedding)        (None, 1, 3)         18          14[0][0]                         \n",
      "__________________________________________________________________________________________________\n",
      "embedding_56 (Embedding)        (None, 1, 4)         512         15[0][0]                         \n",
      "__________________________________________________________________________________________________\n",
      "embedding_57 (Embedding)        (None, 1, 2)         8           16[0][0]                         \n",
      "__________________________________________________________________________________________________\n",
      "embedding_58 (Embedding)        (None, 1, 4)         148         17[0][0]                         \n",
      "__________________________________________________________________________________________________\n",
      "embedding_59 (Embedding)        (None, 1, 5)         685         18[0][0]                         \n",
      "__________________________________________________________________________________________________\n",
      "embedding_60 (Embedding)        (None, 1, 4)         116         19[0][0]                         \n",
      "__________________________________________________________________________________________________\n",
      "concatenate_3 (Concatenate)     (None, 1, 95)        0           embedding_41[0][0]               \n",
      "                                                                 embedding_42[0][0]               \n",
      "                                                                 embedding_43[0][0]               \n",
      "                                                                 embedding_44[0][0]               \n",
      "                                                                 embedding_45[0][0]               \n",
      "                                                                 embedding_46[0][0]               \n",
      "                                                                 embedding_47[0][0]               \n",
      "                                                                 embedding_48[0][0]               \n",
      "                                                                 embedding_49[0][0]               \n",
      "                                                                 embedding_50[0][0]               \n",
      "                                                                 embedding_51[0][0]               \n",
      "                                                                 embedding_52[0][0]               \n",
      "                                                                 embedding_53[0][0]               \n",
      "                                                                 embedding_54[0][0]               \n",
      "                                                                 embedding_55[0][0]               \n",
      "                                                                 embedding_56[0][0]               \n",
      "                                                                 embedding_57[0][0]               \n",
      "                                                                 embedding_58[0][0]               \n",
      "                                                                 embedding_59[0][0]               \n",
      "                                                                 embedding_60[0][0]               \n",
      "__________________________________________________________________________________________________\n",
      "spatial_dropout1d_3 (SpatialDro (None, 1, 95)        0           concatenate_3[0][0]              \n",
      "__________________________________________________________________________________________________\n",
      "flatten_3 (Flatten)             (None, 95)           0           spatial_dropout1d_3[0][0]        \n",
      "__________________________________________________________________________________________________\n",
      "combined_0_dense (Dense)        (None, 150)          14400       flatten_3[0][0]                  \n",
      "__________________________________________________________________________________________________\n",
      "combined_0_activation (Activati (None, 150)          0           combined_0_dense[0][0]           \n",
      "__________________________________________________________________________________________________\n",
      "combined_1_dense (Dense)        (None, 150)          22650       combined_0_activation[0][0]      \n",
      "__________________________________________________________________________________________________\n",
      "combined_1_activation (Activati (None, 150)          0           combined_1_dense[0][0]           \n",
      "__________________________________________________________________________________________________\n",
      "dense_3 (Dense)                 (None, 1)            151         combined_1_activation[0][0]      \n",
      "==================================================================================================\n",
      "Total params: 153,257\n",
      "Trainable params: 153,257\n",
      "Non-trainable params: 0\n",
      "__________________________________________________________________________________________________\n"
     ]
    }
   ],
   "source": [
    "model.summary()"
   ]
  },
  {
   "cell_type": "code",
   "execution_count": 21,
   "metadata": {
    "ExecuteTime": {
     "end_time": "2018-06-27T17:46:52.276703Z",
     "start_time": "2018-06-27T17:46:41.297028Z"
    }
   },
   "outputs": [
    {
     "name": "stdout",
     "output_type": "stream",
     "text": [
      "Train on 79998 samples, validate on 20002 samples\n",
      "Epoch 1/1\n",
      "79998/79998 [==============================] - 11s 137us/step - loss: 0.4074 - acc: 0.8267 - val_loss: 0.4071 - val_acc: 0.8276\n"
     ]
    },
    {
     "data": {
      "text/plain": [
       "<keras.callbacks.History at 0x7f65f41e7438>"
      ]
     },
     "execution_count": 21,
     "metadata": {},
     "output_type": "execute_result"
    }
   ],
   "source": [
    "model.fit(tr_dict, y_train, validation_data=[va_dict, y_test], epochs=params['max_ep'], batch_size=128, verbose=1)"
   ]
  },
  {
   "cell_type": "code",
   "execution_count": 23,
   "metadata": {
    "ExecuteTime": {
     "end_time": "2018-06-27T17:47:08.107546Z",
     "start_time": "2018-06-27T17:47:08.072862Z"
    }
   },
   "outputs": [],
   "source": [
    "layer_list = []\n",
    "for layer in model.get_config()['layers']:\n",
    "    layer_list.append(layer['name'])\n",
    "\n",
    "cat_cols_to_weight_idx = dict(zip(cat_cols, [layer_list.index(str(col)) for col in cat_cols]))"
   ]
  },
  {
   "cell_type": "code",
   "execution_count": 24,
   "metadata": {
    "ExecuteTime": {
     "end_time": "2018-06-27T17:47:10.565884Z",
     "start_time": "2018-06-27T17:47:10.513007Z"
    }
   },
   "outputs": [],
   "source": [
    "wei = model.get_weights()"
   ]
  },
  {
   "cell_type": "code",
   "execution_count": 25,
   "metadata": {
    "ExecuteTime": {
     "end_time": "2018-06-27T17:47:11.497029Z",
     "start_time": "2018-06-27T17:47:11.480127Z"
    }
   },
   "outputs": [
    {
     "data": {
      "text/plain": [
       "(list, 26)"
      ]
     },
     "execution_count": 25,
     "metadata": {},
     "output_type": "execute_result"
    }
   ],
   "source": [
    "type(wei), len(wei)"
   ]
  },
  {
   "cell_type": "code",
   "execution_count": 26,
   "metadata": {
    "ExecuteTime": {
     "end_time": "2018-06-27T17:47:14.267891Z",
     "start_time": "2018-06-27T17:47:14.235386Z"
    }
   },
   "outputs": [
    {
     "name": "stdout",
     "output_type": "stream",
     "text": [
      "index in weight   0 | embedding dimension (6, 3) \n",
      "index in weight   1 | embedding dimension (5, 3) \n",
      "index in weight   2 | embedding dimension (893, 8)\n",
      "index in weight   3 | embedding dimension (780, 8)\n",
      "index in weight   4 | embedding dimension (16, 3)\n",
      "index in weight   5 | embedding dimension (704, 8)\n",
      "index in weight   6 | embedding dimension (55, 4)\n",
      "index in weight   7 | embedding dimension (19, 3)\n",
      "index in weight   8 | embedding dimension (7202, 10)\n",
      "index in weight   9 | embedding dimension (2473, 8)\n",
      "index in weight  10 | embedding dimension (4, 2) \n",
      "index in weight  11 | embedding dimension (4, 2) \n",
      "index in weight  12 | embedding dimension (420, 8)\n",
      "index in weight  13 | embedding dimension (5, 3) \n",
      "index in weight  14 | embedding dimension (6, 3) \n",
      "index in weight  15 | embedding dimension (128, 4)\n",
      "index in weight  16 | embedding dimension (4, 2) \n",
      "index in weight  17 | embedding dimension (37, 4)\n",
      "index in weight  18 | embedding dimension (137, 5)\n",
      "index in weight  19 | embedding dimension (29, 4)\n",
      "index in weight  20 | embedding dimension (95, 150)\n",
      "index in weight  21 | embedding dimension (150,) \n",
      "index in weight  22 | embedding dimension (150, 150)\n",
      "index in weight  23 | embedding dimension (150,) \n",
      "index in weight  24 | embedding dimension (150, 1)\n",
      "index in weight  25 | embedding dimension (1,)   \n"
     ]
    }
   ],
   "source": [
    "for i in range(len(wei)):\n",
    "    if len(wei[i]) != 0:\n",
    "        print('index in weight {:3} | embedding dimension {:7}'.format(i, str(wei[i].shape)))"
   ]
  },
  {
   "cell_type": "code",
   "execution_count": 27,
   "metadata": {
    "ExecuteTime": {
     "end_time": "2018-06-27T17:48:15.146491Z",
     "start_time": "2018-06-27T17:48:15.113142Z"
    }
   },
   "outputs": [
    {
     "data": {
      "text/plain": [
       "95"
      ]
     },
     "execution_count": 27,
     "metadata": {},
     "output_type": "execute_result"
    }
   ],
   "source": [
    "embedded_df_num_cols = 0\n",
    "for col, idx in cat_cols_to_weight_idx.items():\n",
    "    embedded_df_num_cols +=(wei[idx][0].shape)[0]\n",
    "embedded_df_num_cols"
   ]
  },
  {
   "cell_type": "code",
   "execution_count": 156,
   "metadata": {
    "ExecuteTime": {
     "end_time": "2018-06-27T17:36:28.466803Z",
     "start_time": "2018-06-27T17:36:28.437367Z"
    }
   },
   "outputs": [
    {
     "data": {
      "text/plain": [
       "(80000, 20)"
      ]
     },
     "execution_count": 156,
     "metadata": {},
     "output_type": "execute_result"
    }
   ],
   "source": [
    "X_train_dnn.shape"
   ]
  },
  {
   "cell_type": "code",
   "execution_count": 35,
   "metadata": {
    "ExecuteTime": {
     "end_time": "2018-06-27T17:54:33.793665Z",
     "start_time": "2018-06-27T17:54:32.123872Z"
    }
   },
   "outputs": [],
   "source": [
    "x_dnn_train = np.random.random((len(X_train_ordinal),embedded_df_num_cols))\n",
    "start_ind=0\n",
    "for col, wei_idx in cat_cols_to_weight_idx.items():\n",
    "    mat = wei[wei_idx]\n",
    "    dim = mat.shape[1]\n",
    "    for i in range(X_train_ordinal.shape[0]):\n",
    "        x_dnn_train[i,start_ind:start_ind+dim]=mat[X_train_ordinal[i,int(col)]]\n",
    "    start_ind += dim\n",
    "\n",
    "x_dnn_test = np.random.random((len(X_test_ordinal),embedded_df_num_cols))\n",
    "start_ind=0\n",
    "for col, wei_idx in cat_cols_to_weight_idx.items():\n",
    "    mat = wei[wei_idx]\n",
    "    dim = mat.shape[1]\n",
    "    for i in range(X_test_ordinal.shape[0]):\n",
    "        x_dnn_test[i,start_ind:start_ind+dim]=mat[X_test_ordinal[i,int(col)]]\n",
    "    start_ind += dim"
   ]
  },
  {
   "cell_type": "code",
   "execution_count": 36,
   "metadata": {
    "ExecuteTime": {
     "end_time": "2018-06-27T17:54:40.367063Z",
     "start_time": "2018-06-27T17:54:35.532012Z"
    }
   },
   "outputs": [
    {
     "name": "stdout",
     "output_type": "stream",
     "text": [
      "0.4204629456026463\n",
      "0.4164564692446847\n"
     ]
    }
   ],
   "source": [
    "l.fit(x_dnn_train,y_train)\n",
    "y_pred = l.predict_proba(x_dnn_test)\n",
    "print(log_loss(y_test,y_pred))\n",
    "r.fit(x_dnn_train,y_train)\n",
    "y_pred = r.predict_proba(x_dnn_test)\n",
    "print(log_loss(y_test,y_pred))"
   ]
  },
  {
   "cell_type": "code",
   "execution_count": null,
   "metadata": {},
   "outputs": [],
   "source": []
  }
 ],
 "metadata": {
  "kernelspec": {
   "display_name": "Python 3.5 (tf_gpu)",
   "language": "python",
   "name": "tf_gpu"
  },
  "language_info": {
   "codemirror_mode": {
    "name": "ipython",
    "version": 3
   },
   "file_extension": ".py",
   "mimetype": "text/x-python",
   "name": "python",
   "nbconvert_exporter": "python",
   "pygments_lexer": "ipython3",
   "version": "3.5.5"
  },
  "varInspector": {
   "cols": {
    "lenName": 16,
    "lenType": 16,
    "lenVar": 40
   },
   "kernels_config": {
    "python": {
     "delete_cmd_postfix": "",
     "delete_cmd_prefix": "del ",
     "library": "var_list.py",
     "varRefreshCmd": "print(var_dic_list())"
    },
    "r": {
     "delete_cmd_postfix": ") ",
     "delete_cmd_prefix": "rm(",
     "library": "var_list.r",
     "varRefreshCmd": "cat(var_dic_list()) "
    }
   },
   "types_to_exclude": [
    "module",
    "function",
    "builtin_function_or_method",
    "instance",
    "_Feature"
   ],
   "window_display": false
  }
 },
 "nbformat": 4,
 "nbformat_minor": 2
}
