{
 "cells": [
  {
   "cell_type": "code",
   "execution_count": 3,
   "metadata": {
    "ExecuteTime": {
     "end_time": "2018-06-04T17:40:49.468865Z",
     "start_time": "2018-06-04T17:40:49.321802Z"
    },
    "collapsed": true
   },
   "outputs": [],
   "source": [
    "import matplotlib.pyplot as plt\n",
    "%matplotlib inline"
   ]
  },
  {
   "cell_type": "code",
   "execution_count": 113,
   "metadata": {
    "ExecuteTime": {
     "end_time": "2018-06-04T22:20:22.368201Z",
     "start_time": "2018-06-04T22:20:22.360233Z"
    }
   },
   "outputs": [
    {
     "data": {
      "text/plain": [
       "8739"
      ]
     },
     "execution_count": 113,
     "metadata": {},
     "output_type": "execute_result"
    }
   ],
   "source": [
    "num_rows = 174788422\n",
    "batch_size = 20000\n",
    "epochs_for_lr = 2\n",
    "steps = int(num_rows / batch_size) #* epochs_for_lr\n",
    "steps"
   ]
  },
  {
   "cell_type": "code",
   "execution_count": 77,
   "metadata": {
    "ExecuteTime": {
     "end_time": "2018-06-04T19:01:38.272801Z",
     "start_time": "2018-06-04T19:01:38.261489Z"
    }
   },
   "outputs": [
    {
     "data": {
      "text/plain": [
       "0.00025590395607810734"
      ]
     },
     "execution_count": 77,
     "metadata": {},
     "output_type": "execute_result"
    }
   ],
   "source": [
    "exp_decay = lambda init, fin, steps: (init/fin)**(1/(steps-1)) - 1\n",
    "\n",
    "lr_init = 0.001\n",
    "lr_fin = 0.0001\n",
    "lr_decay = exp_decay(lr_init, lr_fin, steps)\n",
    "\n",
    "lr_decay"
   ]
  },
  {
   "cell_type": "code",
   "execution_count": 89,
   "metadata": {
    "ExecuteTime": {
     "end_time": "2018-06-04T21:51:13.984809Z",
     "start_time": "2018-06-04T21:51:13.980420Z"
    }
   },
   "outputs": [
    {
     "data": {
      "text/plain": [
       "0.0008"
      ]
     },
     "execution_count": 89,
     "metadata": {},
     "output_type": "execute_result"
    }
   ],
   "source": [
    "0.001*(0.8**)"
   ]
  },
  {
   "cell_type": "code",
   "execution_count": null,
   "metadata": {
    "collapsed": true
   },
   "outputs": [],
   "source": [
    "0.001 0.00013175813 8740 0.00046477775"
   ]
  },
  {
   "cell_type": "code",
   "execution_count": 114,
   "metadata": {
    "ExecuteTime": {
     "end_time": "2018-06-04T22:20:29.759604Z",
     "start_time": "2018-06-04T22:20:29.738383Z"
    }
   },
   "outputs": [
    {
     "name": "stdout",
     "output_type": "stream",
     "text": [
      "negative learning rate, break at: 963\n"
     ]
    }
   ],
   "source": [
    "import numpy as np\n",
    "\n",
    "build_in_decay_list = []\n",
    "build_in_decay = 0.001\n",
    "iterations = steps \n",
    "\n",
    "manual_decay_list = []\n",
    "manual_decay = 0.001\n",
    "for i in range(iterations):\n",
    "    build_in_decay = build_in_decay / (1. + 0.00013175813 * iterations)\n",
    "    manual_decay = manual_decay*(0.8**1)\n",
    "    if build_in_decay > 0:\n",
    "        build_in_decay_list.append(build_in_decay)\n",
    "        manual_decay_list.append(manual_decay)\n",
    "    else:\n",
    "        print('negative learning rate, break at:', i)\n",
    "        break"
   ]
  },
  {
   "cell_type": "code",
   "execution_count": 115,
   "metadata": {
    "ExecuteTime": {
     "end_time": "2018-06-04T22:20:32.778852Z",
     "start_time": "2018-06-04T22:20:32.773202Z"
    }
   },
   "outputs": [
    {
     "data": {
      "text/plain": [
       "[0.0004648061997045766,\n",
       " 0.00021604480328381076,\n",
       " 0.00010041896398027092,\n",
       " 4.667535702594049e-05,\n",
       " 2.169499531908171e-05,\n",
       " 1.0083968326870949e-05]"
      ]
     },
     "execution_count": 115,
     "metadata": {},
     "output_type": "execute_result"
    }
   ],
   "source": [
    "build_in_decay_list[:6]"
   ]
  },
  {
   "cell_type": "code",
   "execution_count": 116,
   "metadata": {
    "ExecuteTime": {
     "end_time": "2018-06-04T22:20:35.564392Z",
     "start_time": "2018-06-04T22:20:35.558874Z"
    }
   },
   "outputs": [
    {
     "data": {
      "text/plain": [
       "[0.0008,\n",
       " 0.00064,\n",
       " 0.0005120000000000001,\n",
       " 0.0004096000000000001,\n",
       " 0.0003276800000000001,\n",
       " 0.0002621440000000001]"
      ]
     },
     "execution_count": 116,
     "metadata": {},
     "output_type": "execute_result"
    }
   ],
   "source": [
    "manual_decay_list[:6]"
   ]
  },
  {
   "cell_type": "code",
   "execution_count": 156,
   "metadata": {
    "ExecuteTime": {
     "end_time": "2018-06-04T23:04:35.290155Z",
     "start_time": "2018-06-04T23:04:35.199593Z"
    },
    "collapsed": true
   },
   "outputs": [],
   "source": [
    "chosen_range = min(20, len(build_in_decay_list))\n",
    "print(chosen_range)\n",
    "Xs = range(chosen_range)\n",
    "Ys = build_in_decay_list[:chosen_range]\n",
    "# plt.xlim(-2, 2)\n",
    "plt.ylim(0, max(Ys))\n",
    "plt.scatter(Xs, Ys, marker='.', c='red')#, 'red')\n",
    "\n",
    "Xs = range(chosen_range)\n",
    "Ys = manual_decay_list[:chosen_range]\n",
    "plt.scatter(Xs, Ys, marker='.', c='blue')#, 'red')\n",
    "# plt.plot(Xs, Ys, 'blue')"
   ]
  }
 ],
 "metadata": {
  "kernelspec": {
   "display_name": "Python 3",
   "language": "python",
   "name": "python3"
  },
  "language_info": {
   "codemirror_mode": {
    "name": "ipython",
    "version": 3
   },
   "file_extension": ".py",
   "mimetype": "text/x-python",
   "name": "python",
   "nbconvert_exporter": "python",
   "pygments_lexer": "ipython3",
   "version": "3.6.3"
  },
  "varInspector": {
   "cols": {
    "lenName": 16,
    "lenType": 16,
    "lenVar": 40
   },
   "kernels_config": {
    "python": {
     "delete_cmd_postfix": "",
     "delete_cmd_prefix": "del ",
     "library": "var_list.py",
     "varRefreshCmd": "print(var_dic_list())"
    },
    "r": {
     "delete_cmd_postfix": ") ",
     "delete_cmd_prefix": "rm(",
     "library": "var_list.r",
     "varRefreshCmd": "cat(var_dic_list()) "
    }
   },
   "types_to_exclude": [
    "module",
    "function",
    "builtin_function_or_method",
    "instance",
    "_Feature"
   ],
   "window_display": false
  }
 },
 "nbformat": 4,
 "nbformat_minor": 2
}
