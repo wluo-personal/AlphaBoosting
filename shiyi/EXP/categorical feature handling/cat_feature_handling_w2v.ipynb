{
 "cells": [
  {
   "cell_type": "code",
   "execution_count": 1,
   "metadata": {
    "ExecuteTime": {
     "end_time": "2018-07-17T19:20:32.178272Z",
     "start_time": "2018-07-17T19:20:30.165678Z"
    }
   },
   "outputs": [],
   "source": [
    "import pandas as pd\n",
    "from gensim.models.word2vec import Word2Vec\n",
    "from random import shuffle\n",
    "import copy\n",
    "\n",
    "data = pd.read_csv('/home/kai/data/shiyi/data/avazu-ctr-prediction/train', nrows=1000000)\n",
    "\n",
    "features = [3,4,5,6,7,8,9,10,11,13,14,15,16,17,18,19,20,21,22,23]"
   ]
  },
  {
   "cell_type": "code",
   "execution_count": 29,
   "metadata": {
    "ExecuteTime": {
     "end_time": "2018-07-17T19:59:28.410880Z",
     "start_time": "2018-07-17T19:59:28.056213Z"
    }
   },
   "outputs": [],
   "source": [
    "msk = np.random.rand(len(data)) < 0.8\n",
    "X_train = data[msk].iloc[:,features]\n",
    "X_test = data[~msk].iloc[:,features]\n",
    "y_train = data[msk].iloc[:,1]\n",
    "y_test = data[~msk].iloc[:,1]"
   ]
  },
  {
   "cell_type": "code",
   "execution_count": 27,
   "metadata": {
    "ExecuteTime": {
     "end_time": "2018-07-17T19:57:48.828172Z",
     "start_time": "2018-07-17T19:57:48.825064Z"
    }
   },
   "outputs": [],
   "source": [
    "size = 6\n",
    "window = 8"
   ]
  },
  {
   "cell_type": "code",
   "execution_count": 12,
   "metadata": {
    "ExecuteTime": {
     "end_time": "2018-07-17T19:22:40.572323Z",
     "start_time": "2018-07-17T19:22:40.568153Z"
    }
   },
   "outputs": [
    {
     "name": "stdout",
     "output_type": "stream",
     "text": [
      "['id', 'click', 'hour', 'C1', 'banner_pos', 'site_id', 'site_domain', 'site_category', 'app_id', 'app_domain', 'app_category', 'device_id', 'device_ip', 'device_model', 'device_type', 'device_conn_type', 'C14', 'C15', 'C16', 'C17', 'C18', 'C19', 'C20', 'C21']\n"
     ]
    }
   ],
   "source": [
    "print(list(data.columns))"
   ]
  },
  {
   "cell_type": "code",
   "execution_count": 6,
   "metadata": {
    "ExecuteTime": {
     "end_time": "2018-07-17T19:21:47.348277Z",
     "start_time": "2018-07-17T19:21:47.034076Z"
    }
   },
   "outputs": [],
   "source": [
    "x_w2v = copy.deepcopy(data.iloc[:,features])"
   ]
  },
  {
   "cell_type": "code",
   "execution_count": 7,
   "metadata": {
    "ExecuteTime": {
     "end_time": "2018-07-17T19:22:13.149951Z",
     "start_time": "2018-07-17T19:22:13.134528Z"
    }
   },
   "outputs": [
    {
     "data": {
      "text/plain": [
       "pandas.core.frame.DataFrame"
      ]
     },
     "execution_count": 7,
     "metadata": {},
     "output_type": "execute_result"
    }
   ],
   "source": [
    "type(x_w2v)"
   ]
  },
  {
   "cell_type": "code",
   "execution_count": 9,
   "metadata": {
    "ExecuteTime": {
     "end_time": "2018-07-17T19:22:21.728041Z",
     "start_time": "2018-07-17T19:22:21.723722Z"
    }
   },
   "outputs": [
    {
     "name": "stdout",
     "output_type": "stream",
     "text": [
      "['C1', 'banner_pos', 'site_id', 'site_domain', 'site_category', 'app_id', 'app_domain', 'app_category', 'device_id', 'device_model', 'device_type', 'device_conn_type', 'C14', 'C15', 'C16', 'C17', 'C18', 'C19', 'C20', 'C21']\n"
     ]
    }
   ],
   "source": [
    "names = list(x_w2v.columns.values)\n",
    "print(names)"
   ]
  },
  {
   "cell_type": "code",
   "execution_count": 13,
   "metadata": {
    "ExecuteTime": {
     "end_time": "2018-07-17T19:23:00.420510Z",
     "start_time": "2018-07-17T19:22:59.451646Z"
    }
   },
   "outputs": [],
   "source": [
    "for i in names:\n",
    "    x_w2v[i]=x_w2v[i].astype('category')\n",
    "    x_w2v[i].cat.categories = [\"Feature %s %s\" % (i,g) for g in x_w2v[i].cat.categories]"
   ]
  },
  {
   "cell_type": "code",
   "execution_count": 23,
   "metadata": {
    "ExecuteTime": {
     "end_time": "2018-07-17T19:56:42.407143Z",
     "start_time": "2018-07-17T19:56:40.968859Z"
    }
   },
   "outputs": [],
   "source": [
    "x_w2v = x_w2v.values.tolist()"
   ]
  },
  {
   "cell_type": "code",
   "execution_count": 24,
   "metadata": {
    "ExecuteTime": {
     "end_time": "2018-07-17T19:56:59.792872Z",
     "start_time": "2018-07-17T19:56:51.382610Z"
    }
   },
   "outputs": [],
   "source": [
    "for i in x_w2v:\n",
    "    shuffle(i)"
   ]
  },
  {
   "cell_type": "code",
   "execution_count": 22,
   "metadata": {
    "ExecuteTime": {
     "end_time": "2018-07-17T19:56:01.668404Z",
     "start_time": "2018-07-17T19:56:01.550164Z"
    }
   },
   "outputs": [
    {
     "name": "stdout",
     "output_type": "stream",
     "text": [
      "7\n",
      "7\n",
      "2075\n",
      "2030\n",
      "21\n",
      "2309\n",
      "156\n",
      "23\n",
      "83431\n",
      "4581\n",
      "4\n",
      "4\n",
      "606\n",
      "8\n",
      "9\n",
      "162\n",
      "4\n",
      "41\n",
      "161\n",
      "35\n"
     ]
    }
   ],
   "source": [
    "for col in x_w2v.columns:\n",
    "    print(x_w2v[col].nunique())"
   ]
  },
  {
   "cell_type": "code",
   "execution_count": 28,
   "metadata": {
    "ExecuteTime": {
     "end_time": "2018-07-17T19:58:22.523120Z",
     "start_time": "2018-07-17T19:57:56.520699Z"
    }
   },
   "outputs": [],
   "source": [
    "w2v = Word2Vec(x_w2v,size=size,window=window)"
   ]
  },
  {
   "cell_type": "code",
   "execution_count": 30,
   "metadata": {
    "ExecuteTime": {
     "end_time": "2018-07-17T19:59:37.014132Z",
     "start_time": "2018-07-17T19:59:36.801855Z"
    }
   },
   "outputs": [],
   "source": [
    "X_train_w2v = copy.copy(X_train)\n",
    "X_test_w2v = copy.copy(X_test)"
   ]
  },
  {
   "cell_type": "code",
   "execution_count": 35,
   "metadata": {
    "ExecuteTime": {
     "end_time": "2018-07-17T20:05:27.834993Z",
     "start_time": "2018-07-17T20:05:27.812352Z"
    }
   },
   "outputs": [
    {
     "data": {
      "text/html": [
       "<div>\n",
       "<style scoped>\n",
       "    .dataframe tbody tr th:only-of-type {\n",
       "        vertical-align: middle;\n",
       "    }\n",
       "\n",
       "    .dataframe tbody tr th {\n",
       "        vertical-align: top;\n",
       "    }\n",
       "\n",
       "    .dataframe thead th {\n",
       "        text-align: right;\n",
       "    }\n",
       "</style>\n",
       "<table border=\"1\" class=\"dataframe\">\n",
       "  <thead>\n",
       "    <tr style=\"text-align: right;\">\n",
       "      <th></th>\n",
       "      <th>C1</th>\n",
       "      <th>banner_pos</th>\n",
       "      <th>site_id</th>\n",
       "      <th>site_domain</th>\n",
       "      <th>site_category</th>\n",
       "      <th>app_id</th>\n",
       "      <th>app_domain</th>\n",
       "      <th>app_category</th>\n",
       "      <th>device_id</th>\n",
       "      <th>device_model</th>\n",
       "      <th>device_type</th>\n",
       "      <th>device_conn_type</th>\n",
       "      <th>C14</th>\n",
       "      <th>C15</th>\n",
       "      <th>C16</th>\n",
       "      <th>C17</th>\n",
       "      <th>C18</th>\n",
       "      <th>C19</th>\n",
       "      <th>C20</th>\n",
       "      <th>C21</th>\n",
       "    </tr>\n",
       "  </thead>\n",
       "  <tbody>\n",
       "    <tr>\n",
       "      <th>0</th>\n",
       "      <td>1005</td>\n",
       "      <td>0</td>\n",
       "      <td>1fbe01fe</td>\n",
       "      <td>f3845767</td>\n",
       "      <td>28905ebd</td>\n",
       "      <td>ecad2386</td>\n",
       "      <td>7801e8d9</td>\n",
       "      <td>07d7df22</td>\n",
       "      <td>a99f214a</td>\n",
       "      <td>44956a24</td>\n",
       "      <td>1</td>\n",
       "      <td>2</td>\n",
       "      <td>15706</td>\n",
       "      <td>320</td>\n",
       "      <td>50</td>\n",
       "      <td>1722</td>\n",
       "      <td>0</td>\n",
       "      <td>35</td>\n",
       "      <td>-1</td>\n",
       "      <td>79</td>\n",
       "    </tr>\n",
       "    <tr>\n",
       "      <th>1</th>\n",
       "      <td>1005</td>\n",
       "      <td>0</td>\n",
       "      <td>1fbe01fe</td>\n",
       "      <td>f3845767</td>\n",
       "      <td>28905ebd</td>\n",
       "      <td>ecad2386</td>\n",
       "      <td>7801e8d9</td>\n",
       "      <td>07d7df22</td>\n",
       "      <td>a99f214a</td>\n",
       "      <td>711ee120</td>\n",
       "      <td>1</td>\n",
       "      <td>0</td>\n",
       "      <td>15704</td>\n",
       "      <td>320</td>\n",
       "      <td>50</td>\n",
       "      <td>1722</td>\n",
       "      <td>0</td>\n",
       "      <td>35</td>\n",
       "      <td>100084</td>\n",
       "      <td>79</td>\n",
       "    </tr>\n",
       "  </tbody>\n",
       "</table>\n",
       "</div>"
      ],
      "text/plain": [
       "     C1  banner_pos   site_id site_domain site_category    app_id app_domain  \\\n",
       "0  1005           0  1fbe01fe    f3845767      28905ebd  ecad2386   7801e8d9   \n",
       "1  1005           0  1fbe01fe    f3845767      28905ebd  ecad2386   7801e8d9   \n",
       "\n",
       "  app_category device_id device_model  device_type  device_conn_type    C14  \\\n",
       "0     07d7df22  a99f214a     44956a24            1                 2  15706   \n",
       "1     07d7df22  a99f214a     711ee120            1                 0  15704   \n",
       "\n",
       "   C15  C16   C17  C18  C19     C20  C21  \n",
       "0  320   50  1722    0   35      -1   79  \n",
       "1  320   50  1722    0   35  100084   79  "
      ]
     },
     "execution_count": 35,
     "metadata": {},
     "output_type": "execute_result"
    }
   ],
   "source": [
    "X_train_w2v.head(2)"
   ]
  },
  {
   "cell_type": "code",
   "execution_count": 36,
   "metadata": {
    "ExecuteTime": {
     "end_time": "2018-07-17T20:05:33.829832Z",
     "start_time": "2018-07-17T20:05:33.101236Z"
    }
   },
   "outputs": [],
   "source": [
    "for i in names:\n",
    "    X_train_w2v[i]=X_train_w2v[i].astype('category')\n",
    "    X_train_w2v[i].cat.categories = [\"Feature %s %s\" % (i,g) for g in X_train_w2v[i].cat.categories]"
   ]
  },
  {
   "cell_type": "code",
   "execution_count": 37,
   "metadata": {
    "ExecuteTime": {
     "end_time": "2018-07-17T20:05:39.156664Z",
     "start_time": "2018-07-17T20:05:39.139236Z"
    }
   },
   "outputs": [
    {
     "data": {
      "text/html": [
       "<div>\n",
       "<style scoped>\n",
       "    .dataframe tbody tr th:only-of-type {\n",
       "        vertical-align: middle;\n",
       "    }\n",
       "\n",
       "    .dataframe tbody tr th {\n",
       "        vertical-align: top;\n",
       "    }\n",
       "\n",
       "    .dataframe thead th {\n",
       "        text-align: right;\n",
       "    }\n",
       "</style>\n",
       "<table border=\"1\" class=\"dataframe\">\n",
       "  <thead>\n",
       "    <tr style=\"text-align: right;\">\n",
       "      <th></th>\n",
       "      <th>C1</th>\n",
       "      <th>banner_pos</th>\n",
       "      <th>site_id</th>\n",
       "      <th>site_domain</th>\n",
       "      <th>site_category</th>\n",
       "      <th>app_id</th>\n",
       "      <th>app_domain</th>\n",
       "      <th>app_category</th>\n",
       "      <th>device_id</th>\n",
       "      <th>device_model</th>\n",
       "      <th>device_type</th>\n",
       "      <th>device_conn_type</th>\n",
       "      <th>C14</th>\n",
       "      <th>C15</th>\n",
       "      <th>C16</th>\n",
       "      <th>C17</th>\n",
       "      <th>C18</th>\n",
       "      <th>C19</th>\n",
       "      <th>C20</th>\n",
       "      <th>C21</th>\n",
       "    </tr>\n",
       "  </thead>\n",
       "  <tbody>\n",
       "    <tr>\n",
       "      <th>0</th>\n",
       "      <td>Feature C1 1005</td>\n",
       "      <td>Feature banner_pos 0</td>\n",
       "      <td>Feature site_id 1fbe01fe</td>\n",
       "      <td>Feature site_domain f3845767</td>\n",
       "      <td>Feature site_category 28905ebd</td>\n",
       "      <td>Feature app_id ecad2386</td>\n",
       "      <td>Feature app_domain 7801e8d9</td>\n",
       "      <td>Feature app_category 07d7df22</td>\n",
       "      <td>Feature device_id a99f214a</td>\n",
       "      <td>Feature device_model 44956a24</td>\n",
       "      <td>Feature device_type 1</td>\n",
       "      <td>Feature device_conn_type 2</td>\n",
       "      <td>Feature C14 15706</td>\n",
       "      <td>Feature C15 320</td>\n",
       "      <td>Feature C16 50</td>\n",
       "      <td>Feature C17 1722</td>\n",
       "      <td>Feature C18 0</td>\n",
       "      <td>Feature C19 35</td>\n",
       "      <td>Feature C20 -1</td>\n",
       "      <td>Feature C21 79</td>\n",
       "    </tr>\n",
       "    <tr>\n",
       "      <th>1</th>\n",
       "      <td>Feature C1 1005</td>\n",
       "      <td>Feature banner_pos 0</td>\n",
       "      <td>Feature site_id 1fbe01fe</td>\n",
       "      <td>Feature site_domain f3845767</td>\n",
       "      <td>Feature site_category 28905ebd</td>\n",
       "      <td>Feature app_id ecad2386</td>\n",
       "      <td>Feature app_domain 7801e8d9</td>\n",
       "      <td>Feature app_category 07d7df22</td>\n",
       "      <td>Feature device_id a99f214a</td>\n",
       "      <td>Feature device_model 711ee120</td>\n",
       "      <td>Feature device_type 1</td>\n",
       "      <td>Feature device_conn_type 0</td>\n",
       "      <td>Feature C14 15704</td>\n",
       "      <td>Feature C15 320</td>\n",
       "      <td>Feature C16 50</td>\n",
       "      <td>Feature C17 1722</td>\n",
       "      <td>Feature C18 0</td>\n",
       "      <td>Feature C19 35</td>\n",
       "      <td>Feature C20 100084</td>\n",
       "      <td>Feature C21 79</td>\n",
       "    </tr>\n",
       "  </tbody>\n",
       "</table>\n",
       "</div>"
      ],
      "text/plain": [
       "                C1            banner_pos                   site_id  \\\n",
       "0  Feature C1 1005  Feature banner_pos 0  Feature site_id 1fbe01fe   \n",
       "1  Feature C1 1005  Feature banner_pos 0  Feature site_id 1fbe01fe   \n",
       "\n",
       "                    site_domain                   site_category  \\\n",
       "0  Feature site_domain f3845767  Feature site_category 28905ebd   \n",
       "1  Feature site_domain f3845767  Feature site_category 28905ebd   \n",
       "\n",
       "                    app_id                   app_domain  \\\n",
       "0  Feature app_id ecad2386  Feature app_domain 7801e8d9   \n",
       "1  Feature app_id ecad2386  Feature app_domain 7801e8d9   \n",
       "\n",
       "                    app_category                   device_id  \\\n",
       "0  Feature app_category 07d7df22  Feature device_id a99f214a   \n",
       "1  Feature app_category 07d7df22  Feature device_id a99f214a   \n",
       "\n",
       "                    device_model            device_type  \\\n",
       "0  Feature device_model 44956a24  Feature device_type 1   \n",
       "1  Feature device_model 711ee120  Feature device_type 1   \n",
       "\n",
       "             device_conn_type                C14              C15  \\\n",
       "0  Feature device_conn_type 2  Feature C14 15706  Feature C15 320   \n",
       "1  Feature device_conn_type 0  Feature C14 15704  Feature C15 320   \n",
       "\n",
       "              C16               C17            C18             C19  \\\n",
       "0  Feature C16 50  Feature C17 1722  Feature C18 0  Feature C19 35   \n",
       "1  Feature C16 50  Feature C17 1722  Feature C18 0  Feature C19 35   \n",
       "\n",
       "                  C20             C21  \n",
       "0      Feature C20 -1  Feature C21 79  \n",
       "1  Feature C20 100084  Feature C21 79  "
      ]
     },
     "execution_count": 37,
     "metadata": {},
     "output_type": "execute_result"
    }
   ],
   "source": [
    "X_train_w2v.head(2)"
   ]
  },
  {
   "cell_type": "code",
   "execution_count": 38,
   "metadata": {
    "ExecuteTime": {
     "end_time": "2018-07-17T20:06:59.589727Z",
     "start_time": "2018-07-17T20:06:59.029113Z"
    }
   },
   "outputs": [],
   "source": [
    "for i in names:\n",
    "    X_test_w2v[i]=X_test_w2v[i].astype('category')\n",
    "    X_test_w2v[i].cat.categories = [\"Feature %s %s\" % (i,g) for g in X_test_w2v[i].cat.categories]\n",
    "X_train_w2v = X_train_w2v.values\n",
    "X_test_w2v = X_test_w2v.values"
   ]
  },
  {
   "cell_type": "code",
   "execution_count": 39,
   "metadata": {
    "ExecuteTime": {
     "end_time": "2018-07-17T20:07:18.568968Z",
     "start_time": "2018-07-17T20:07:17.807242Z"
    }
   },
   "outputs": [],
   "source": [
    "x_w2v_train = np.random.random((len(X_train_w2v),size*X_train_w2v.shape[1]))"
   ]
  },
  {
   "cell_type": "code",
   "execution_count": null,
   "metadata": {
    "ExecuteTime": {
     "end_time": "2018-07-17T20:09:13.005716Z",
     "start_time": "2018-07-17T20:07:30.405207Z"
    }
   },
   "outputs": [],
   "source": [
    "for j in range(X_train_w2v.shape[1]):\n",
    "    for i in range(X_train_w2v.shape[0]):\n",
    "        if X_train_w2v[i,j] in w2v.wv:\n",
    "            x_w2v_train[i,j*size:(j+1)*size] = w2v.wv[X_train_w2v[i,j]]"
   ]
  },
  {
   "cell_type": "code",
   "execution_count": 42,
   "metadata": {
    "ExecuteTime": {
     "end_time": "2018-07-17T20:10:58.066224Z",
     "start_time": "2018-07-17T20:10:50.207733Z"
    }
   },
   "outputs": [],
   "source": [
    "x_w2v_test = np.random.random((len(X_test_w2v),size*X_test_w2v.shape[1]))\n",
    "for j in range(X_test_w2v.shape[1]):\n",
    "    for i in range(X_test_w2v.shape[0]):\n",
    "        if X_test_w2v[i,j] in w2v.wv:\n",
    "            x_w2v_test[i,j*size:(j+1)*size] = w2v.wv[X_test_w2v[i,j]]"
   ]
  },
  {
   "cell_type": "code",
   "execution_count": 43,
   "metadata": {
    "ExecuteTime": {
     "end_time": "2018-07-17T20:11:43.099981Z",
     "start_time": "2018-07-17T20:11:43.042098Z"
    }
   },
   "outputs": [],
   "source": [
    "from sklearn.ensemble import RandomForestClassifier\n",
    "from sklearn.linear_model import LogisticRegression\n",
    "l = LogisticRegression()\n",
    "r = RandomForestClassifier(n_estimators=25,max_depth=10)"
   ]
  },
  {
   "cell_type": "code",
   "execution_count": 44,
   "metadata": {
    "ExecuteTime": {
     "end_time": "2018-07-17T20:12:03.501817Z",
     "start_time": "2018-07-17T20:12:03.498428Z"
    }
   },
   "outputs": [],
   "source": [
    "from sklearn.metrics import log_loss"
   ]
  },
  {
   "cell_type": "code",
   "execution_count": 45,
   "metadata": {
    "ExecuteTime": {
     "end_time": "2018-07-17T20:17:20.960874Z",
     "start_time": "2018-07-17T20:12:10.173880Z"
    }
   },
   "outputs": [
    {
     "name": "stdout",
     "output_type": "stream",
     "text": [
      "0.39674377914887066\n"
     ]
    }
   ],
   "source": [
    "l.fit(x_w2v_train,y_train)\n",
    "y_pred = l.predict_proba(x_w2v_test)\n",
    "print(log_loss(y_test,y_pred))"
   ]
  },
  {
   "cell_type": "code",
   "execution_count": 46,
   "metadata": {
    "ExecuteTime": {
     "end_time": "2018-07-18T00:12:37.014242Z",
     "start_time": "2018-07-18T00:11:57.248464Z"
    }
   },
   "outputs": [
    {
     "name": "stdout",
     "output_type": "stream",
     "text": [
      "0.3867947255517792\n"
     ]
    }
   ],
   "source": [
    "r.fit(x_w2v_train,y_train)\n",
    "y_pred = r.predict_proba(x_w2v_test)\n",
    "print(log_loss(y_test,y_pred))"
   ]
  },
  {
   "cell_type": "code",
   "execution_count": null,
   "metadata": {},
   "outputs": [],
   "source": []
  }
 ],
 "metadata": {
  "kernelspec": {
   "display_name": "Python 3",
   "language": "python",
   "name": "python3"
  },
  "language_info": {
   "codemirror_mode": {
    "name": "ipython",
    "version": 3
   },
   "file_extension": ".py",
   "mimetype": "text/x-python",
   "name": "python",
   "nbconvert_exporter": "python",
   "pygments_lexer": "ipython3",
   "version": "3.6.5"
  },
  "varInspector": {
   "cols": {
    "lenName": 16,
    "lenType": 16,
    "lenVar": 40
   },
   "kernels_config": {
    "python": {
     "delete_cmd_postfix": "",
     "delete_cmd_prefix": "del ",
     "library": "var_list.py",
     "varRefreshCmd": "print(var_dic_list())"
    },
    "r": {
     "delete_cmd_postfix": ") ",
     "delete_cmd_prefix": "rm(",
     "library": "var_list.r",
     "varRefreshCmd": "cat(var_dic_list()) "
    }
   },
   "types_to_exclude": [
    "module",
    "function",
    "builtin_function_or_method",
    "instance",
    "_Feature"
   ],
   "window_display": false
  }
 },
 "nbformat": 4,
 "nbformat_minor": 2
}
