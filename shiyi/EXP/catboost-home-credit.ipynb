{
 "cells": [
  {
   "cell_type": "code",
   "execution_count": 1,
   "metadata": {
    "ExecuteTime": {
     "end_time": "2018-07-23T15:10:14.847193Z",
     "start_time": "2018-07-23T15:10:07.486861Z"
    }
   },
   "outputs": [
    {
     "name": "stdout",
     "output_type": "stream",
     "text": [
      "(307511, 2678) (48744, 2677)\n"
     ]
    },
    {
     "data": {
      "text/html": [
       "<div>\n",
       "<style scoped>\n",
       "    .dataframe tbody tr th:only-of-type {\n",
       "        vertical-align: middle;\n",
       "    }\n",
       "\n",
       "    .dataframe tbody tr th {\n",
       "        vertical-align: top;\n",
       "    }\n",
       "\n",
       "    .dataframe thead th {\n",
       "        text-align: right;\n",
       "    }\n",
       "</style>\n",
       "<table border=\"1\" class=\"dataframe\">\n",
       "  <thead>\n",
       "    <tr style=\"text-align: right;\">\n",
       "      <th></th>\n",
       "      <th>AMT_ANNUITY</th>\n",
       "      <th>AMT_ANNUITY_divide_AMT_GOODS_PRICE</th>\n",
       "      <th>AMT_ANNUITY_divide_AMT_REQ_CREDIT_BUREAU_DAY</th>\n",
       "      <th>AMT_ANNUITY_divide_AMT_REQ_CREDIT_BUREAU_HOUR</th>\n",
       "      <th>AMT_ANNUITY_divide_AMT_REQ_CREDIT_BUREAU_MON</th>\n",
       "      <th>AMT_ANNUITY_divide_AMT_REQ_CREDIT_BUREAU_QRT</th>\n",
       "      <th>AMT_ANNUITY_divide_AMT_REQ_CREDIT_BUREAU_WEEK</th>\n",
       "      <th>AMT_ANNUITY_divide_AMT_REQ_CREDIT_BUREAU_YEAR</th>\n",
       "      <th>AMT_ANNUITY_divide_CNT_CHILDREN</th>\n",
       "      <th>AMT_ANNUITY_divide_CNT_FAM_MEMBERS</th>\n",
       "      <th>...</th>\n",
       "      <th>unique_NAME_EDUCATION_TYPE_x</th>\n",
       "      <th>unique_NAME_EDUCATION_TYPE_y</th>\n",
       "      <th>unique_NAME_INCOME_TYPE_x</th>\n",
       "      <th>unique_NAME_INCOME_TYPE_y</th>\n",
       "      <th>unique_cnt_install_max</th>\n",
       "      <th>unique_cnt_install_mean</th>\n",
       "      <th>unique_cnt_install_min</th>\n",
       "      <th>unique_cnt_install_std</th>\n",
       "      <th>unique_cnt_install_sum</th>\n",
       "      <th>unique_prev</th>\n",
       "    </tr>\n",
       "  </thead>\n",
       "  <tbody>\n",
       "    <tr>\n",
       "      <th>0</th>\n",
       "      <td>24700.5</td>\n",
       "      <td>0.070372</td>\n",
       "      <td>NaN</td>\n",
       "      <td>NaN</td>\n",
       "      <td>NaN</td>\n",
       "      <td>NaN</td>\n",
       "      <td>NaN</td>\n",
       "      <td>24700.5</td>\n",
       "      <td>NaN</td>\n",
       "      <td>24700.50</td>\n",
       "      <td>...</td>\n",
       "      <td>3</td>\n",
       "      <td>8</td>\n",
       "      <td>5</td>\n",
       "      <td>3</td>\n",
       "      <td>1.0</td>\n",
       "      <td>1.000000</td>\n",
       "      <td>1.0</td>\n",
       "      <td>NaN</td>\n",
       "      <td>1.0</td>\n",
       "      <td>1.0</td>\n",
       "    </tr>\n",
       "    <tr>\n",
       "      <th>1</th>\n",
       "      <td>35698.5</td>\n",
       "      <td>0.031606</td>\n",
       "      <td>NaN</td>\n",
       "      <td>NaN</td>\n",
       "      <td>NaN</td>\n",
       "      <td>NaN</td>\n",
       "      <td>NaN</td>\n",
       "      <td>NaN</td>\n",
       "      <td>NaN</td>\n",
       "      <td>17849.25</td>\n",
       "      <td>...</td>\n",
       "      <td>3</td>\n",
       "      <td>8</td>\n",
       "      <td>5</td>\n",
       "      <td>2</td>\n",
       "      <td>2.0</td>\n",
       "      <td>1.333333</td>\n",
       "      <td>1.0</td>\n",
       "      <td>0.57735</td>\n",
       "      <td>4.0</td>\n",
       "      <td>3.0</td>\n",
       "    </tr>\n",
       "  </tbody>\n",
       "</table>\n",
       "<p>2 rows × 2678 columns</p>\n",
       "</div>"
      ],
      "text/plain": [
       "   AMT_ANNUITY  AMT_ANNUITY_divide_AMT_GOODS_PRICE  \\\n",
       "0      24700.5                            0.070372   \n",
       "1      35698.5                            0.031606   \n",
       "\n",
       "   AMT_ANNUITY_divide_AMT_REQ_CREDIT_BUREAU_DAY  \\\n",
       "0                                           NaN   \n",
       "1                                           NaN   \n",
       "\n",
       "   AMT_ANNUITY_divide_AMT_REQ_CREDIT_BUREAU_HOUR  \\\n",
       "0                                            NaN   \n",
       "1                                            NaN   \n",
       "\n",
       "   AMT_ANNUITY_divide_AMT_REQ_CREDIT_BUREAU_MON  \\\n",
       "0                                           NaN   \n",
       "1                                           NaN   \n",
       "\n",
       "   AMT_ANNUITY_divide_AMT_REQ_CREDIT_BUREAU_QRT  \\\n",
       "0                                           NaN   \n",
       "1                                           NaN   \n",
       "\n",
       "   AMT_ANNUITY_divide_AMT_REQ_CREDIT_BUREAU_WEEK  \\\n",
       "0                                            NaN   \n",
       "1                                            NaN   \n",
       "\n",
       "   AMT_ANNUITY_divide_AMT_REQ_CREDIT_BUREAU_YEAR  \\\n",
       "0                                        24700.5   \n",
       "1                                            NaN   \n",
       "\n",
       "   AMT_ANNUITY_divide_CNT_CHILDREN  AMT_ANNUITY_divide_CNT_FAM_MEMBERS  \\\n",
       "0                              NaN                            24700.50   \n",
       "1                              NaN                            17849.25   \n",
       "\n",
       "      ...       unique_NAME_EDUCATION_TYPE_x  unique_NAME_EDUCATION_TYPE_y  \\\n",
       "0     ...                                  3                             8   \n",
       "1     ...                                  3                             8   \n",
       "\n",
       "   unique_NAME_INCOME_TYPE_x  unique_NAME_INCOME_TYPE_y  \\\n",
       "0                          5                          3   \n",
       "1                          5                          2   \n",
       "\n",
       "   unique_cnt_install_max  unique_cnt_install_mean  unique_cnt_install_min  \\\n",
       "0                     1.0                 1.000000                     1.0   \n",
       "1                     2.0                 1.333333                     1.0   \n",
       "\n",
       "   unique_cnt_install_std  unique_cnt_install_sum  unique_prev  \n",
       "0                     NaN                     1.0          1.0  \n",
       "1                 0.57735                     4.0          3.0  \n",
       "\n",
       "[2 rows x 2678 columns]"
      ]
     },
     "execution_count": 1,
     "metadata": {},
     "output_type": "execute_result"
    }
   ],
   "source": [
    "import numpy as np\n",
    "import pandas as pd\n",
    "\n",
    "train_df = pd.read_pickle('/home/kai/data/shiyi/AlphaBoosting/automl/automl_app/project_home_credit/data/train_bo2.pkl')\n",
    "test_df = pd.read_pickle('/home/kai/data/shiyi/AlphaBoosting/automl/automl_app/project_home_credit/data/test_bo2.pkl')\n",
    "print(train_df.shape, test_df.shape)\n",
    "train_df.head(2)"
   ]
  },
  {
   "cell_type": "code",
   "execution_count": null,
   "metadata": {
    "ExecuteTime": {
     "end_time": "2018-07-18T17:25:04.088736Z",
     "start_time": "2018-07-18T17:25:04.082689Z"
    }
   },
   "outputs": [],
   "source": [
    "# null_value_stats = train_df.isnull().sum(axis=0)\n",
    "\n",
    "# null_value_stats\n",
    "\n",
    "# null_value_stats[null_value_stats != 0]\n",
    "\n",
    "# train_df.fillna(-999, inplace=True)\n",
    "# test_df.fillna(-999, inplace=True)"
   ]
  },
  {
   "cell_type": "code",
   "execution_count": 2,
   "metadata": {
    "ExecuteTime": {
     "end_time": "2018-07-23T15:10:23.375274Z",
     "start_time": "2018-07-23T15:10:22.841566Z"
    }
   },
   "outputs": [],
   "source": [
    "train_df = train_df.sample(frac=0.05)"
   ]
  },
  {
   "cell_type": "code",
   "execution_count": 3,
   "metadata": {
    "ExecuteTime": {
     "end_time": "2018-07-23T15:10:23.660750Z",
     "start_time": "2018-07-23T15:10:23.521868Z"
    }
   },
   "outputs": [],
   "source": [
    "X = train_df.drop('TARGET', axis=1)\n",
    "y = train_df['TARGET']"
   ]
  },
  {
   "cell_type": "code",
   "execution_count": null,
   "metadata": {
    "ExecuteTime": {
     "end_time": "2018-07-19T00:12:47.642627Z",
     "start_time": "2018-07-19T00:12:47.606201Z"
    }
   },
   "outputs": [],
   "source": [
    "# import gc\n",
    "# del train_df; gc.collect()"
   ]
  },
  {
   "cell_type": "code",
   "execution_count": 4,
   "metadata": {
    "ExecuteTime": {
     "end_time": "2018-07-23T15:10:24.424747Z",
     "start_time": "2018-07-23T15:10:24.419200Z"
    }
   },
   "outputs": [
    {
     "data": {
      "text/plain": [
       "((15376, 2677), (15376,))"
      ]
     },
     "execution_count": 4,
     "metadata": {},
     "output_type": "execute_result"
    }
   ],
   "source": [
    "X.shape, y.shape"
   ]
  },
  {
   "cell_type": "code",
   "execution_count": 5,
   "metadata": {
    "ExecuteTime": {
     "end_time": "2018-07-23T15:10:25.910989Z",
     "start_time": "2018-07-23T15:10:25.901613Z"
    }
   },
   "outputs": [],
   "source": [
    "cat_cols = [\"FLAG_OWN_CAR\",\"FLAG_OWN_REALTY\",\"NAME_TYPE_SUITE\",\"NAME_INCOME_TYPE\",\"NAME_EDUCATION_TYPE\",\"NAME_FAMILY_STATUS\",\"NAME_HOUSING_TYPE\",\"OCCUPATION_TYPE\",\"FLAG_DOCUMENT_2\",\"FLAG_DOCUMENT_3\",\"FLAG_DOCUMENT_4\",\"FLAG_DOCUMENT_5\",\"FLAG_DOCUMENT_6\",\"FLAG_DOCUMENT_7\",\"FLAG_DOCUMENT_8\",\"FLAG_DOCUMENT_9\",\"FLAG_DOCUMENT_10\",\"FLAG_DOCUMENT_11\",\"FLAG_DOCUMENT_12\", \"FLAG_DOCUMENT_13\",\"FLAG_DOCUMENT_14\",\"FLAG_DOCUMENT_15\",\"FLAG_DOCUMENT_16\",\"FLAG_DOCUMENT_17\",\"FLAG_DOCUMENT_18\", \"FLAG_DOCUMENT_19\",\"FLAG_DOCUMENT_20\",\"FLAG_DOCUMENT_21\", \"CAT_MONTHS_BIRTH\", \"CNT_CHILDREN\", \"CODE_GENDER\", \"CONTACT\", \"EMERGENCYSTATE_MODE\", \"FLAG_EMAIL\", \"FLAG_OTHER\", \"FONDKAPREMONT_MODE\", \"HOUR_APPR_PROCESS_START\", \"HOUSETYPE_MODE\", \"LIVE_CITY_NOT_WORK_CITY\", \"LIVE_REGION_NOT_WORK_REGION\", \"NAME_CONTRACT_TYPE\", \"ORGANIZATION_TYPE\", \"REGION_RATING_CLIENT\", \"REGION_RATING_CLIENT_W_CITY\", \"REGION_RATING_CLIENT_W_CITY_times_livingsum_AVG\", \"REGION_RATING_CLIENT_W_CITY_times_livingsum_MEDI\", \"REGION_RATING_CLIENT_W_CITY_times_livingsum_MODE\", \"REGION_RATING_CLIENT_times_livingsum_AVG\", \"REGION_RATING_CLIENT_times_livingsum_MEDI\", \"REGION_RATING_CLIENT_times_livingsum_MODE\", \"REG_CITY_NOT_LIVE_CITY\", \"REG_CITY_NOT_WORK_CITY\", \"REG_REGION_NOT_LIVE_REGION\", \"REG_REGION_NOT_WORK_REGION\", \"WALLSMATERIAL_MODE\", \"WEEKDAY_APPR_PROCESS_START\", \"count_CODE_GENDER_NAME_EDUCATION_TYPE\", \"count_CODE_GENDER_NAME_EDUCATION_TYPE_NAME_INCOME_TYPE\", \"count_CODE_GENDER_NAME_INCOME_TYPE\", \"count_NAME_EDUCATION_TYPE_NAME_INCOME_TYPE\", \"unique_CODE_GENDER_NAME_EDUCATION_TYPE\", \"unique_CODE_GENDER_NAME_INCOME_TYPE\", \"unique_CODE_GENDER_x\", \"unique_CODE_GENDER_y\", \"unique_NAME_EDUCATION_TYPE_NAME_INCOME_TYPE\", \"unique_NAME_EDUCATION_TYPE_x\", \"unique_NAME_EDUCATION_TYPE_y\", \"unique_NAME_INCOME_TYPE_x\", \"unique_NAME_INCOME_TYPE_y\"]"
   ]
  },
  {
   "cell_type": "code",
   "execution_count": 6,
   "metadata": {
    "ExecuteTime": {
     "end_time": "2018-07-23T15:10:26.932938Z",
     "start_time": "2018-07-23T15:10:26.922240Z"
    }
   },
   "outputs": [
    {
     "name": "stdout",
     "output_type": "stream",
     "text": [
      "[257, 258, 285, 284, 281, 282, 283, 298, 245, 248, 249, 250, 251, 252, 253, 254, 235, 236, 237, 238, 239, 240, 241, 242, 243, 244, 246, 247, 181, 182, 194, 198, 228, 255, 256, 265, 266, 267, 271, 272, 280, 299, 314, 315, 316, 317, 318, 319, 320, 321, 322, 323, 324, 325, 383, 384, 980, 981, 982, 983, 2662, 2663, 2664, 2665, 2666, 2667, 2668, 2669, 2670]\n"
     ]
    }
   ],
   "source": [
    "categorical_features_indices = [X.columns.tolist().index(col) for col in cat_cols]\n",
    "\n",
    "print(categorical_features_indices)"
   ]
  },
  {
   "cell_type": "code",
   "execution_count": 7,
   "metadata": {
    "ExecuteTime": {
     "end_time": "2018-07-23T15:10:27.694875Z",
     "start_time": "2018-07-23T15:10:27.313156Z"
    }
   },
   "outputs": [],
   "source": [
    "from sklearn.model_selection import train_test_split\n",
    "\n",
    "X_train, X_validation, y_train, y_validation = train_test_split(X, y, test_size=0.25, random_state=42, stratify=y)\n",
    "\n",
    "X_test = test_df"
   ]
  },
  {
   "cell_type": "code",
   "execution_count": 1,
   "metadata": {
    "ExecuteTime": {
     "end_time": "2018-07-29T12:36:39.171976Z",
     "start_time": "2018-07-29T12:36:38.845087Z"
    }
   },
   "outputs": [],
   "source": [
    "from catboost import CatBoostClassifier, Pool, cv\n",
    "from sklearn.metrics import roc_auc_score"
   ]
  },
  {
   "cell_type": "code",
   "execution_count": 9,
   "metadata": {
    "ExecuteTime": {
     "end_time": "2018-07-23T15:13:06.825587Z",
     "start_time": "2018-07-23T15:13:06.817514Z"
    },
    "scrolled": true
   },
   "outputs": [],
   "source": [
    "params = {\n",
    "    'iterations': 50,\n",
    "    'learning_rate': 0.1,\n",
    "#     'custom_metric': 'AUC',\n",
    "    'eval_metric': 'AUC',\n",
    "    'random_seed': 42,\n",
    "    'logging_level': 'Verbose',\n",
    "    'thread_count': 15,\n",
    "    'use_best_model': True,\n",
    "    'save_snapshot': False \n",
    "}\n",
    "\n",
    "model = CatBoostClassifier(**params)"
   ]
  },
  {
   "cell_type": "code",
   "execution_count": 30,
   "metadata": {
    "ExecuteTime": {
     "end_time": "2018-07-23T15:22:20.832444Z",
     "start_time": "2018-07-23T15:22:05.875101Z"
    }
   },
   "outputs": [
    {
     "name": "stdout",
     "output_type": "stream",
     "text": [
      "0:\ttest: 0.5330852\tbest: 0.5330852 (0)\ttest1: 0.5486511\ttotal: 121ms\tremaining: 5.91s\n",
      "10:\ttest: 0.7075751\tbest: 0.7075751 (10)\ttest1: 0.7640619\ttotal: 1.36s\tremaining: 4.84s\n",
      "20:\ttest: 0.7297080\tbest: 0.7306898 (15)\ttest1: 0.7957277\ttotal: 2.62s\tremaining: 3.61s\n",
      "30:\ttest: 0.7385195\tbest: 0.7385195 (30)\ttest1: 0.8166418\ttotal: 3.87s\tremaining: 2.37s\n",
      "40:\ttest: 0.7447346\tbest: 0.7447346 (40)\ttest1: 0.8313766\ttotal: 5.09s\tremaining: 1.12s\n",
      "49:\ttest: 0.7464271\tbest: 0.7475064 (46)\ttest1: 0.8387336\ttotal: 6.23s\tremaining: 0us\n",
      "\n",
      "bestTest = 0.7475064303\n",
      "bestIteration = 46\n",
      "\n",
      "Shrink model to first 47 iterations.\n"
     ]
    }
   ],
   "source": [
    "md = model.fit(X_train, y_train, cat_features=categorical_features_indices, eval_set=[(X_validation, y_validation), (X_train, y_train)], verbose_eval=10)"
   ]
  },
  {
   "cell_type": "code",
   "execution_count": 43,
   "metadata": {
    "ExecuteTime": {
     "end_time": "2018-07-23T15:23:53.408811Z",
     "start_time": "2018-07-23T15:23:53.394531Z"
    }
   },
   "outputs": [
    {
     "data": {
      "text/plain": [
       "0.8387336131640916"
      ]
     },
     "execution_count": 43,
     "metadata": {},
     "output_type": "execute_result"
    }
   ],
   "source": [
    "roc_auc_score(y_train,md.get_test_evals()[1][0])"
   ]
  },
  {
   "cell_type": "code",
   "execution_count": null,
   "metadata": {
    "ExecuteTime": {
     "end_time": "2018-07-19T01:47:01.517477Z",
     "start_time": "2018-07-19T01:00:14.100412Z"
    }
   },
   "outputs": [],
   "source": [
    "# params = {\n",
    "    'iterations': 3000,\n",
    "#     'custom_metric': 'AUC',\n",
    "    'eval_metric': 'AUC',\n",
    "    'random_seed': 42,\n",
    "    'logging_level': 'Verbose',\n",
    "    'thread_count': 15,\n",
    "    'use_best_model': True,\n",
    "    'save_snapshot': True\n",
    "}\n",
    "\n",
    "model = CatBoostClassifier(**params).fit(X_train, y_train, cat_features=categorical_features_indices, eval_set=(X_validation, y_validation))"
   ]
  },
  {
   "cell_type": "code",
   "execution_count": null,
   "metadata": {
    "ExecuteTime": {
     "end_time": "2018-07-19T18:22:25.561599Z",
     "start_time": "2018-07-19T15:51:03.463941Z"
    },
    "scrolled": true
   },
   "outputs": [],
   "source": [
    "params = {\n",
    "    'iterations': 10000,\n",
    "#     'custom_metric': 'AUC',\n",
    "    'eval_metric': 'AUC',\n",
    "    'random_seed': 42,\n",
    "    'logging_level': 'Verbose',\n",
    "    'thread_count': 15,\n",
    "    'use_best_model': True,\n",
    "    'save_snapshot': True\n",
    "}\n",
    "\n",
    "model = CatBoostClassifier(**params).fit(X_train, y_train, cat_features=categorical_features_indices, eval_set=(X_validation, y_validation))"
   ]
  },
  {
   "cell_type": "code",
   "execution_count": null,
   "metadata": {
    "ExecuteTime": {
     "end_time": "2018-07-22T00:10:34.430536Z",
     "start_time": "2018-07-22T00:10:34.426469Z"
    }
   },
   "outputs": [],
   "source": [
    "m1 = CatBoostClassifier()"
   ]
  },
  {
   "cell_type": "code",
   "execution_count": null,
   "metadata": {},
   "outputs": [],
   "source": [
    "m1.fit()"
   ]
  },
  {
   "cell_type": "code",
   "execution_count": null,
   "metadata": {
    "ExecuteTime": {
     "end_time": "2018-07-20T17:38:43.856765Z",
     "start_time": "2018-07-20T17:38:43.851348Z"
    }
   },
   "outputs": [],
   "source": [
    "model.tree_count_"
   ]
  },
  {
   "cell_type": "code",
   "execution_count": null,
   "metadata": {
    "ExecuteTime": {
     "end_time": "2018-07-19T19:19:19.165452Z",
     "start_time": "2018-07-19T19:19:19.155229Z"
    }
   },
   "outputs": [],
   "source": [
    "len(model.get_test_eval())"
   ]
  },
  {
   "cell_type": "code",
   "execution_count": null,
   "metadata": {
    "ExecuteTime": {
     "end_time": "2018-07-19T19:14:30.220766Z",
     "start_time": "2018-07-19T19:14:15.397468Z"
    }
   },
   "outputs": [],
   "source": [
    "pred = model.predict_proba(test_df)[:,1]"
   ]
  },
  {
   "cell_type": "code",
   "execution_count": null,
   "metadata": {
    "ExecuteTime": {
     "end_time": "2018-07-19T01:49:25.769345Z",
     "start_time": "2018-07-19T01:49:25.747317Z"
    }
   },
   "outputs": [],
   "source": [
    "sub = pd.read_csv('/home/kai/data/shiyi/AlphaBoosting/automl/automl_app/project_home_credit/data/sample_submission.csv')"
   ]
  },
  {
   "cell_type": "code",
   "execution_count": null,
   "metadata": {
    "ExecuteTime": {
     "end_time": "2018-07-19T19:14:47.088906Z",
     "start_time": "2018-07-19T19:14:46.687202Z"
    }
   },
   "outputs": [],
   "source": [
    "sub.to_csv('iter9103_catboost_val7961.csv.gz', index=False, compression='gzip')"
   ]
  },
  {
   "cell_type": "code",
   "execution_count": null,
   "metadata": {
    "ExecuteTime": {
     "end_time": "2018-07-19T18:25:29.981391Z",
     "start_time": "2018-07-19T18:25:29.977973Z"
    }
   },
   "outputs": [],
   "source": [
    "# fe = model.feature_importances_\n",
    "# fe_dict = dict(zip(X_train.columns.tolist(), fe))\n",
    "# sorted_fe_dict = sorted(fe_dict.items(), key=lambda x:x[1])#, reverse=True)\n",
    "# sorted_fe_dict[300:350]\n",
    "# zero_importance_feats_not_cat = []\n",
    "# for i,(fe,score) in enumerate(sorted_fe_dict):\n",
    "#     if score == 0 and fe not in cat_cols:\n",
    "#         print(i, fe)\n",
    "#         zero_importance_feats_not_cat.append(fe)\n",
    "# len(zero_importance_feats_not_cat)\n",
    "\n",
    "# import pickle\n",
    "# pickle.dump(sorted_fe_dict, open('sorted_catb_fe_dict.pkl', mode='wb'))\n",
    "# templ = pickle.load(open('sorted_catb_fe_dict.pkl', mode='rb'))\n",
    "# train_df_fe0removed = train_df.drop(zero_importance_feats_not_cat, axis=1)\n",
    "# test_df_fe0removed = test_df.drop(zero_importance_feats_not_cat, axis=1)\n",
    "# print(train_df_fe0removed.shape, test_df_fe0removed.shape)\n",
    "# train_df_fe0removed.to_pickle('train_bo2_fe0removed.pkl')\n",
    "# test_df_fe0removed.to_pickle('test_bo2_fe0removed.pkl')"
   ]
  },
  {
   "cell_type": "code",
   "execution_count": 44,
   "metadata": {
    "ExecuteTime": {
     "end_time": "2018-07-23T15:27:21.451106Z",
     "start_time": "2018-07-23T15:27:00.385653Z"
    }
   },
   "outputs": [
    {
     "name": "stdout",
     "output_type": "stream",
     "text": [
      "0:\tlearn: 0.5976949\ttest: 0.5708794\tbest: 0.5708794 (0)\ttotal: 529ms\tremaining: 15.3s\n",
      "10:\tlearn: 0.7381637\ttest: 0.6407519\tbest: 0.6407519 (10)\ttotal: 5.48s\tremaining: 9.47s\n",
      "20:\tlearn: 0.7656933\ttest: 0.6646738\tbest: 0.6646738 (20)\ttotal: 10.4s\tremaining: 4.45s\n",
      "29:\tlearn: 0.7816940\ttest: 0.6714335\tbest: 0.6726421 (25)\ttotal: 14.9s\tremaining: 0us\n"
     ]
    }
   ],
   "source": [
    "params = {\n",
    "    'iterations': 30,\n",
    "    'depth': np.random.randint(6,11),\n",
    "    'l2_leaf_reg': np.random.randint(0, 31)/10,\n",
    "#     'custom_metric': 'AUC',\n",
    "    'eval_metric': 'AUC',\n",
    "    'random_seed': 42,\n",
    "    'logging_level': 'Verbose',\n",
    "    'thread_count': 15\n",
    "}\n",
    "\n",
    "model = CatBoostClassifier(**params)\n",
    "\n",
    "cv_data = cv(\n",
    "    Pool(X, y, cat_features=categorical_features_indices),\n",
    "    model.get_params(),\n",
    "    verbose_eval=10\n",
    "#     plot=True\n",
    ")"
   ]
  },
  {
   "cell_type": "code",
   "execution_count": null,
   "metadata": {
    "ExecuteTime": {
     "end_time": "2018-07-19T15:39:14.055057Z",
     "start_time": "2018-07-19T15:39:14.048946Z"
    }
   },
   "outputs": [],
   "source": [
    "print('Best validation accuracy score: {:.2f}±{:.2f} on step {}'.format(\n",
    "    np.max(cv_data['test-AUC-mean']),\n",
    "    cv_data['test-AUC-std'][cv_data['test-AUC-mean'].values.argmax()],\n",
    "    cv_data['test-AUC-mean'].values.argmax()\n",
    "))"
   ]
  },
  {
   "cell_type": "code",
   "execution_count": null,
   "metadata": {
    "ExecuteTime": {
     "end_time": "2018-07-19T15:39:21.427013Z",
     "start_time": "2018-07-19T15:39:21.421169Z"
    }
   },
   "outputs": [],
   "source": [
    "model.get_params()"
   ]
  },
  {
   "cell_type": "code",
   "execution_count": null,
   "metadata": {
    "ExecuteTime": {
     "end_time": "2018-07-18T17:40:44.466241Z",
     "start_time": "2018-07-18T17:40:44.438612Z"
    }
   },
   "outputs": [],
   "source": [
    "predictions = model.predict(X_test)\n",
    "predictions_probs = model.predict_proba(X_test)\n",
    "print(predictions[:10])\n",
    "print(predictions_probs[:10])"
   ]
  },
  {
   "cell_type": "code",
   "execution_count": null,
   "metadata": {
    "ExecuteTime": {
     "end_time": "2018-07-18T17:43:38.022568Z",
     "start_time": "2018-07-18T17:43:38.005298Z"
    }
   },
   "outputs": [],
   "source": [
    "params = {\n",
    "    'iterations': 500,\n",
    "    'learning_rate': 0.1,\n",
    "    'eval_metric': 'Accuracy',\n",
    "    'random_seed': 42,\n",
    "    'logging_level': 'Silent',\n",
    "    'use_best_model': False\n",
    "}\n",
    "train_pool = Pool(X_train, y_train, cat_features=categorical_features_indices)\n",
    "validate_pool = Pool(X_validation, y_validation, cat_features=categorical_features_indices)"
   ]
  },
  {
   "cell_type": "code",
   "execution_count": null,
   "metadata": {
    "ExecuteTime": {
     "end_time": "2018-07-18T17:43:49.132746Z",
     "start_time": "2018-07-18T17:43:40.143598Z"
    }
   },
   "outputs": [],
   "source": [
    "model = CatBoostClassifier(**params)\n",
    "model.fit(train_pool, eval_set=validate_pool)"
   ]
  },
  {
   "cell_type": "code",
   "execution_count": null,
   "metadata": {
    "ExecuteTime": {
     "end_time": "2018-07-18T17:44:14.668901Z",
     "start_time": "2018-07-18T17:44:05.562548Z"
    }
   },
   "outputs": [],
   "source": [
    "best_model_params = params.copy()\n",
    "best_model_params.update({\n",
    "    'use_best_model': True\n",
    "})\n",
    "best_model = CatBoostClassifier(**best_model_params)\n",
    "best_model.fit(train_pool, eval_set=validate_pool);\n",
    "\n",
    "print('Simple model validation accuracy: {:.4}'.format(\n",
    "    accuracy_score(y_validation, model.predict(X_validation))\n",
    "))\n",
    "print('')\n",
    "\n",
    "print('Best model validation accuracy: {:.4}'.format(\n",
    "    accuracy_score(y_validation, best_model.predict(X_validation))\n",
    "))"
   ]
  },
  {
   "cell_type": "code",
   "execution_count": null,
   "metadata": {
    "ExecuteTime": {
     "end_time": "2018-07-18T17:44:36.192610Z",
     "start_time": "2018-07-18T17:44:27.601375Z"
    }
   },
   "outputs": [],
   "source": [
    "%%time\n",
    "model = CatBoostClassifier(**params)\n",
    "model.fit(train_pool, eval_set=validate_pool)"
   ]
  },
  {
   "cell_type": "code",
   "execution_count": null,
   "metadata": {
    "ExecuteTime": {
     "end_time": "2018-07-18T17:44:46.605248Z",
     "start_time": "2018-07-18T17:44:45.421703Z"
    }
   },
   "outputs": [],
   "source": [
    "%%time\n",
    "earlystop_params = params.copy()\n",
    "earlystop_params.update({\n",
    "    'od_type': 'Iter',\n",
    "    'od_wait': 40\n",
    "})\n",
    "earlystop_model = CatBoostClassifier(**earlystop_params)\n",
    "earlystop_model.fit(train_pool, eval_set=validate_pool);"
   ]
  },
  {
   "cell_type": "code",
   "execution_count": null,
   "metadata": {
    "ExecuteTime": {
     "end_time": "2018-07-18T17:45:30.457444Z",
     "start_time": "2018-07-18T17:45:30.433946Z"
    }
   },
   "outputs": [],
   "source": [
    "print('Simple model tree count: {}'.format(model.tree_count_))\n",
    "print('Simple model validation accuracy: {:.4}'.format(\n",
    "    accuracy_score(y_validation, model.predict(X_validation))\n",
    "))\n",
    "print('')\n",
    "\n",
    "print('Early-stopped model tree count: {}'.format(earlystop_model.tree_count_))\n",
    "print('Early-stopped model validation accuracy: {:.4}'.format(\n",
    "    accuracy_score(y_validation, earlystop_model.predict(X_validation))\n",
    "))"
   ]
  },
  {
   "cell_type": "code",
   "execution_count": null,
   "metadata": {
    "ExecuteTime": {
     "end_time": "2018-07-18T17:53:38.509001Z",
     "start_time": "2018-07-18T17:53:38.114492Z"
    }
   },
   "outputs": [],
   "source": [
    "current_params = params.copy()\n",
    "current_params.update({\n",
    "    'iterations': 10\n",
    "})\n",
    "model = CatBoostClassifier(**current_params).fit(X_train, y_train, categorical_features_indices)\n",
    "# Get baseline (only with prediction_type='RawFormulaVal')\n",
    "baseline = model.predict(X_train, prediction_type='RawFormulaVal')\n",
    "# Fit new model\n",
    "model.fit(X_train, y_train, categorical_features_indices, baseline=baseline);"
   ]
  },
  {
   "cell_type": "code",
   "execution_count": null,
   "metadata": {
    "ExecuteTime": {
     "end_time": "2018-07-18T20:04:18.429099Z",
     "start_time": "2018-07-18T20:04:18.072030Z"
    }
   },
   "outputs": [],
   "source": [
    "import hyperopt\n",
    "\n",
    "def hyperopt_objective(params):\n",
    "    model = CatBoostClassifier(\n",
    "        l2_leaf_reg=int(params['l2_leaf_reg']),\n",
    "        learning_rate=params['learning_rate'],\n",
    "        iterations=500,\n",
    "        eval_metric='Accuracy',\n",
    "        random_seed=42,\n",
    "        logging_level='Silent'\n",
    "    )\n",
    "    \n",
    "    cv_data = cv(\n",
    "        Pool(X, y, cat_features=categorical_features_indices),\n",
    "        model.get_params()\n",
    "    )\n",
    "    best_accuracy = np.max(cv_data['test-Accuracy-mean'])\n",
    "    \n",
    "    return 1 - best_accuracy # as hyperopt minimises"
   ]
  },
  {
   "cell_type": "code",
   "execution_count": null,
   "metadata": {
    "ExecuteTime": {
     "end_time": "2018-07-18T20:04:31.832164Z",
     "start_time": "2018-07-18T20:04:31.827717Z"
    }
   },
   "outputs": [],
   "source": [
    "params_space = {\n",
    "    'l2_leaf_reg': hyperopt.hp.qloguniform('l2_leaf_reg', 0, 2, 1),\n",
    "    'learning_rate': hyperopt.hp.uniform('learning_rate', 1e-3, 5e-1),\n",
    "}"
   ]
  },
  {
   "cell_type": "code",
   "execution_count": null,
   "metadata": {
    "ExecuteTime": {
     "end_time": "2018-07-18T20:04:39.534661Z",
     "start_time": "2018-07-18T20:04:39.531367Z"
    }
   },
   "outputs": [],
   "source": [
    "trials = hyperopt.Trials()"
   ]
  },
  {
   "cell_type": "code",
   "execution_count": null,
   "metadata": {
    "ExecuteTime": {
     "start_time": "2018-07-18T20:05:32.877Z"
    }
   },
   "outputs": [],
   "source": [
    "best = hyperopt.fmin(\n",
    "    hyperopt_objective,\n",
    "    space=params_space,\n",
    "    algo=hyperopt.tpe.suggest,\n",
    "    max_evals=50,\n",
    "    trials=trials\n",
    ")\n",
    "\n",
    "print(best)"
   ]
  },
  {
   "cell_type": "code",
   "execution_count": null,
   "metadata": {},
   "outputs": [],
   "source": [
    "model = CatBoostClassifier(\n",
    "    l2_leaf_reg=int(best['l2_leaf_reg']),\n",
    "    learning_rate=best['learning_rate'],\n",
    "    iterations=500,\n",
    "    eval_metric='Accuracy',\n",
    "    random_seed=42,\n",
    "    logging_level='Silent'\n",
    ")\n",
    "cv_data = cv(Pool(X, y, cat_features=categorical_features_indices), model.get_params())\n",
    "print('Precise validation accuracy score: {}'.format(np.max(cv_data['test-Accuracy-mean'])))"
   ]
  }
 ],
 "metadata": {
  "kernelspec": {
   "display_name": "Python 3",
   "language": "python",
   "name": "python3"
  },
  "language_info": {
   "codemirror_mode": {
    "name": "ipython",
    "version": 3
   },
   "file_extension": ".py",
   "mimetype": "text/x-python",
   "name": "python",
   "nbconvert_exporter": "python",
   "pygments_lexer": "ipython3",
   "version": "3.6.5"
  },
  "varInspector": {
   "cols": {
    "lenName": 16,
    "lenType": 16,
    "lenVar": 40
   },
   "kernels_config": {
    "python": {
     "delete_cmd_postfix": "",
     "delete_cmd_prefix": "del ",
     "library": "var_list.py",
     "varRefreshCmd": "print(var_dic_list())"
    },
    "r": {
     "delete_cmd_postfix": ") ",
     "delete_cmd_prefix": "rm(",
     "library": "var_list.r",
     "varRefreshCmd": "cat(var_dic_list()) "
    }
   },
   "types_to_exclude": [
    "module",
    "function",
    "builtin_function_or_method",
    "instance",
    "_Feature"
   ],
   "window_display": false
  }
 },
 "nbformat": 4,
 "nbformat_minor": 2
}
