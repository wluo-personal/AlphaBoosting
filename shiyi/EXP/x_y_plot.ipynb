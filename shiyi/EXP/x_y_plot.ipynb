{
 "cells": [
  {
   "cell_type": "code",
   "execution_count": 3,
   "metadata": {
    "ExecuteTime": {
     "end_time": "2018-06-04T17:40:49.468865Z",
     "start_time": "2018-06-04T17:40:49.321802Z"
    }
   },
   "outputs": [],
   "source": [
    "import matplotlib.pyplot as plt\n",
    "%matplotlib inline"
   ]
  },
  {
   "cell_type": "code",
   "execution_count": 10,
   "metadata": {
    "ExecuteTime": {
     "end_time": "2018-06-04T17:44:51.546304Z",
     "start_time": "2018-06-04T17:44:51.541038Z"
    }
   },
   "outputs": [],
   "source": [
    "num_rows = 180000000\n",
    "batch_size = 20000\n",
    "epochs_for_lr = 2\n",
    "steps = int(num_rows / batch_size) * epochs_for_lr"
   ]
  },
  {
   "cell_type": "code",
   "execution_count": 15,
   "metadata": {
    "ExecuteTime": {
     "end_time": "2018-06-04T17:51:36.621832Z",
     "start_time": "2018-06-04T17:51:36.616610Z"
    }
   },
   "outputs": [
    {
     "data": {
      "text/plain": [
       "18000"
      ]
     },
     "execution_count": 15,
     "metadata": {},
     "output_type": "execute_result"
    }
   ],
   "source": [
    "steps"
   ]
  },
  {
   "cell_type": "code",
   "execution_count": 11,
   "metadata": {
    "ExecuteTime": {
     "end_time": "2018-06-04T17:45:20.857040Z",
     "start_time": "2018-06-04T17:45:20.851915Z"
    },
    "collapsed": true
   },
   "outputs": [],
   "source": [
    "exp_decay = lambda init, fin, steps: (init/fin)**(1/(steps-1)) - 1"
   ]
  },
  {
   "cell_type": "code",
   "execution_count": 13,
   "metadata": {
    "ExecuteTime": {
     "end_time": "2018-06-04T17:46:56.390757Z",
     "start_time": "2018-06-04T17:46:56.386041Z"
    }
   },
   "outputs": [],
   "source": [
    "lr_init = 0.001\n",
    "lr_fin = 0.0001\n",
    "lr_decay = exp_decay(lr_init, lr_fin, steps)"
   ]
  },
  {
   "cell_type": "code",
   "execution_count": 14,
   "metadata": {
    "ExecuteTime": {
     "end_time": "2018-06-04T17:47:07.659102Z",
     "start_time": "2018-06-04T17:47:07.653768Z"
    }
   },
   "outputs": [
    {
     "data": {
      "text/plain": [
       "0.00012793668439381456"
      ]
     },
     "execution_count": 14,
     "metadata": {},
     "output_type": "execute_result"
    }
   ],
   "source": [
    "lr_decay"
   ]
  },
  {
   "cell_type": "code",
   "execution_count": 19,
   "metadata": {
    "ExecuteTime": {
     "end_time": "2018-06-04T17:54:30.916546Z",
     "start_time": "2018-06-04T17:54:30.904980Z"
    },
    "collapsed": true
   },
   "outputs": [],
   "source": [
    "temp = []\n",
    "start = lr_init\n",
    "for i in range(steps):\n",
    "    start = start - lr_decay\n",
    "    if start > 0:\n",
    "        temp.append(start)"
   ]
  },
  {
   "cell_type": "code",
   "execution_count": 21,
   "metadata": {
    "ExecuteTime": {
     "end_time": "2018-06-04T17:54:38.516298Z",
     "start_time": "2018-06-04T17:54:38.510361Z"
    }
   },
   "outputs": [
    {
     "data": {
      "text/plain": [
       "7"
      ]
     },
     "execution_count": 21,
     "metadata": {},
     "output_type": "execute_result"
    }
   ],
   "source": [
    "len(temp)"
   ]
  },
  {
   "cell_type": "code",
   "execution_count": 20,
   "metadata": {
    "ExecuteTime": {
     "end_time": "2018-06-04T17:54:32.106281Z",
     "start_time": "2018-06-04T17:54:32.100619Z"
    }
   },
   "outputs": [
    {
     "data": {
      "text/plain": [
       "[0.0006161899468185563,\n",
       " 0.0004882532624247418,\n",
       " 0.0003603165780309272,\n",
       " 0.00023237989363711267,\n",
       " 0.0001044432092432981]"
      ]
     },
     "execution_count": 20,
     "metadata": {},
     "output_type": "execute_result"
    }
   ],
   "source": [
    "temp[-5:]"
   ]
  },
  {
   "cell_type": "code",
   "execution_count": 24,
   "metadata": {
    "ExecuteTime": {
     "end_time": "2018-06-04T17:55:12.299101Z",
     "start_time": "2018-06-04T17:55:12.214497Z"
    }
   },
   "outputs": [
    {
     "data": {
      "image/png": "[encoded data removed]",
      "text/plain": [
       "<matplotlib.figure.Figure at 0x7fe42d1fd8d0>"
      ]
     },
     "metadata": {},
     "output_type": "display_data"
    }
   ],
   "source": [
    "Xs = range(len(temp))\n",
    "Ys = temp \n",
    "plt.plot(Xs, Ys, 'ro')\n",
    "#plt.axis([0, 6, 0, 20])\n",
    "plt.show()"
   ]
  }
 ],
 "metadata": {
  "kernelspec": {
   "display_name": "Python 3",
   "language": "python",
   "name": "python3"
  },
  "language_info": {
   "codemirror_mode": {
    "name": "ipython",
    "version": 3
   },
   "file_extension": ".py",
   "mimetype": "text/x-python",
   "name": "python",
   "nbconvert_exporter": "python",
   "pygments_lexer": "ipython3",
   "version": "3.6.3"
  },
  "varInspector": {
   "cols": {
    "lenName": 16,
    "lenType": 16,
    "lenVar": 40
   },
   "kernels_config": {
    "python": {
     "delete_cmd_postfix": "",
     "delete_cmd_prefix": "del ",
     "library": "var_list.py",
     "varRefreshCmd": "print(var_dic_list())"
    },
    "r": {
     "delete_cmd_postfix": ") ",
     "delete_cmd_prefix": "rm(",
     "library": "var_list.r",
     "varRefreshCmd": "cat(var_dic_list()) "
    }
   },
   "types_to_exclude": [
    "module",
    "function",
    "builtin_function_or_method",
    "instance",
    "_Feature"
   ],
   "window_display": false
  }
 },
 "nbformat": 4,
 "nbformat_minor": 2
}
