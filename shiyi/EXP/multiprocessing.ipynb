{
 "cells": [
  {
   "cell_type": "code",
   "execution_count": 104,
   "metadata": {
    "ExecuteTime": {
     "end_time": "2018-06-21T19:01:25.145090Z",
     "start_time": "2018-06-21T19:01:24.649170Z"
    }
   },
   "outputs": [
    {
     "data": {
      "text/plain": [
       "(1000000, 9)"
      ]
     },
     "execution_count": 104,
     "metadata": {},
     "output_type": "execute_result"
    }
   ],
   "source": [
    "import pandas as pd\n",
    "\n",
    "df = pd.read_pickle('/home/kai/data/shiyi/AlphaBoosting/automl/automl_app/project1/data/train.pkl')\n",
    "\n",
    "df.shape\n"
   ]
  },
  {
   "cell_type": "code",
   "execution_count": 105,
   "metadata": {
    "ExecuteTime": {
     "end_time": "2018-06-21T19:01:29.987844Z",
     "start_time": "2018-06-21T19:01:29.944872Z"
    }
   },
   "outputs": [
    {
     "data": {
      "text/html": [
       "<div>\n",
       "<style>\n",
       "    .dataframe thead tr:only-child th {\n",
       "        text-align: right;\n",
       "    }\n",
       "\n",
       "    .dataframe thead th {\n",
       "        text-align: left;\n",
       "    }\n",
       "\n",
       "    .dataframe tbody tr th {\n",
       "        vertical-align: top;\n",
       "    }\n",
       "</style>\n",
       "<table border=\"1\" class=\"dataframe\">\n",
       "  <thead>\n",
       "    <tr style=\"text-align: right;\">\n",
       "      <th></th>\n",
       "      <th>Month</th>\n",
       "      <th>DayofMonth</th>\n",
       "      <th>DayOfWeek</th>\n",
       "      <th>DepTime</th>\n",
       "      <th>UniqueCarrier</th>\n",
       "      <th>Origin</th>\n",
       "      <th>Dest</th>\n",
       "      <th>Distance</th>\n",
       "      <th>label</th>\n",
       "    </tr>\n",
       "  </thead>\n",
       "  <tbody>\n",
       "    <tr>\n",
       "      <th>0</th>\n",
       "      <td>7</td>\n",
       "      <td>19</td>\n",
       "      <td>2</td>\n",
       "      <td>18</td>\n",
       "      <td>21</td>\n",
       "      <td>157</td>\n",
       "      <td>133</td>\n",
       "      <td>6</td>\n",
       "      <td>0</td>\n",
       "    </tr>\n",
       "    <tr>\n",
       "      <th>1</th>\n",
       "      <td>4</td>\n",
       "      <td>3</td>\n",
       "      <td>1</td>\n",
       "      <td>12</td>\n",
       "      <td>18</td>\n",
       "      <td>79</td>\n",
       "      <td>172</td>\n",
       "      <td>4</td>\n",
       "      <td>0</td>\n",
       "    </tr>\n",
       "  </tbody>\n",
       "</table>\n",
       "</div>"
      ],
      "text/plain": [
       "   Month  DayofMonth  DayOfWeek  DepTime  UniqueCarrier  Origin  Dest  \\\n",
       "0      7          19          2       18             21     157   133   \n",
       "1      4           3          1       12             18      79   172   \n",
       "\n",
       "   Distance  label  \n",
       "0         6      0  \n",
       "1         4      0  "
      ]
     },
     "execution_count": 105,
     "metadata": {},
     "output_type": "execute_result"
    }
   ],
   "source": [
    "df.head(2)"
   ]
  },
  {
   "cell_type": "code",
   "execution_count": 121,
   "metadata": {
    "ExecuteTime": {
     "end_time": "2018-06-21T19:16:26.855496Z",
     "start_time": "2018-06-21T19:16:26.815343Z"
    }
   },
   "outputs": [
    {
     "name": "stderr",
     "output_type": "stream",
     "text": [
      "/home/kai/anaconda3/lib/python3.6/site-packages/sklearn/preprocessing/label.py:111: DataConversionWarning: A column-vector y was passed when a 1d array was expected. Please change the shape of y to (n_samples, ), for example using ravel().\n",
      "  y = column_or_1d(y, warn=True)\n"
     ]
    }
   ],
   "source": [
    "\n",
    "from sklearn.preprocessing import LabelEncoder\n",
    "from sklearn.linear_model import LinearRegression\n",
    "\n",
    "le = LabelEncoder()\n",
    "lg = LinearRegression()\n",
    "\n",
    "group_col = 'Month'\n",
    "time_col = 'DayOfWeek'\n",
    "value_col = 'label'\n",
    "\n",
    "le_result = []\n",
    "lg_result = []\n",
    "gp = df.head(10).groupby(by=group_col)\n",
    "for i, group in gp:\n",
    "    lg.fit(group[[time_col]], group[[value_col]])\n",
    "    lg_result.append([i, lg.coef_[0][0]]) \n",
    "    \n",
    "    temp = le.fit_transform(group[[time_col]])\n",
    "    le_result.append([i, temp])"
   ]
  },
  {
   "cell_type": "code",
   "execution_count": 122,
   "metadata": {
    "ExecuteTime": {
     "end_time": "2018-06-21T19:16:28.351901Z",
     "start_time": "2018-06-21T19:16:28.347065Z"
    }
   },
   "outputs": [
    {
     "data": {
      "text/plain": [
       "[[1, 0.0], [2, 0.0], [3, -0.0], [4, 0.99999999999999967], [6, 0.0], [7, -0.0]]"
      ]
     },
     "execution_count": 122,
     "metadata": {},
     "output_type": "execute_result"
    }
   ],
   "source": [
    "lg_result"
   ]
  },
  {
   "cell_type": "code",
   "execution_count": 141,
   "metadata": {
    "ExecuteTime": {
     "end_time": "2018-06-21T19:26:10.038052Z",
     "start_time": "2018-06-21T19:26:09.971877Z"
    }
   },
   "outputs": [
    {
     "name": "stdout",
     "output_type": "stream",
     "text": [
      "=============\n",
      "id 1\n",
      "   DayOfWeek\n",
      "7          5    label\n",
      "7      0\n",
      "0.0\n"
     ]
    }
   ],
   "source": [
    "for group_id, group in df.head(10).groupby(group_col):\n",
    "    print(\"=============\")\n",
    "    print('id', group_id)\n",
    "    x = group[[time_col]]\n",
    "    y = group[[value_col]]\n",
    "    print(x, y)\n",
    "    lg.fit(x, y)\n",
    "    print(lg.coef_[0][0])\n",
    "    break"
   ]
  },
  {
   "cell_type": "code",
   "execution_count": 182,
   "metadata": {
    "ExecuteTime": {
     "end_time": "2018-06-21T19:45:15.527987Z",
     "start_time": "2018-06-21T19:45:15.500088Z"
    },
    "collapsed": true
   },
   "outputs": [],
   "source": [
    "import multiprocessing\n",
    "import numpy as np\n",
    "from tqdm import tqdm\n",
    "\n",
    "def _apply_group2(args):\n",
    "    func, group_id, x, y = args\n",
    "    return [group_id] + func(x,y)\n",
    "\n",
    "def apply_by_multiprocessing(func,**kwargs):\n",
    "    workers = kwargs.pop('workers')\n",
    "    group_list = kwargs.pop('group_list')\n",
    "    pool = multiprocessing.Pool(processes=workers)\n",
    "    result = pool.map(_apply_group2, [(func, group_id, x, y) for group_id, x, y in group_list])\n",
    "    pool.close()\n",
    "    return result\n",
    "\n",
    "def liner_reg(x, y, **kwargs):\n",
    "    lg = LinearRegression()\n",
    "    lg.fit(x, y)\n",
    "    return [lg.coef_[0][0], 1]\n",
    "\n",
    "# def scaler_transform(x, **kwargs):\n",
    "#     scaler_dict=kwargs.pop('scaler_dict')\n",
    "#     col = kwargs.pop('col')\n",
    "#     return scaler_dict[col].transform(x)[0][0]"
   ]
  },
  {
   "cell_type": "markdown",
   "metadata": {
    "ExecuteTime": {
     "end_time": "2018-06-21T19:06:08.473072Z",
     "start_time": "2018-06-21T19:06:08.466356Z"
    },
    "collapsed": true
   },
   "source": [
    "grouplist = [(group_id, group[time_col].values) for group_id, group in df.head(10).groupby(group_col)]\n",
    "\n",
    "grouplist\n",
    "\n",
    "final = apply_by_multiprocessing(label_encode, workers=5, group_list=grouplist)\n",
    "\n",
    "final"
   ]
  },
  {
   "cell_type": "code",
   "execution_count": 183,
   "metadata": {
    "ExecuteTime": {
     "end_time": "2018-06-21T19:45:15.919121Z",
     "start_time": "2018-06-21T19:45:15.894163Z"
    },
    "collapsed": true
   },
   "outputs": [],
   "source": [
    "grouplist2 = [(group_id, group[[time_col]], group[[value_col]]) for group_id, group in df.head(10).groupby(group_col)]"
   ]
  },
  {
   "cell_type": "code",
   "execution_count": 184,
   "metadata": {
    "ExecuteTime": {
     "end_time": "2018-06-21T19:45:16.145616Z",
     "start_time": "2018-06-21T19:45:16.132246Z"
    }
   },
   "outputs": [
    {
     "name": "stdout",
     "output_type": "stream",
     "text": [
      "1\n",
      "   DayOfWeek\n",
      "7          5\n",
      "   label\n",
      "7      0\n"
     ]
    }
   ],
   "source": [
    "print(grouplist2[0][0])\n",
    "print(grouplist2[0][1])\n",
    "print(grouplist2[0][2])"
   ]
  },
  {
   "cell_type": "code",
   "execution_count": 185,
   "metadata": {
    "ExecuteTime": {
     "end_time": "2018-06-21T19:45:16.917830Z",
     "start_time": "2018-06-21T19:45:16.286651Z"
    }
   },
   "outputs": [],
   "source": [
    "final2 = apply_by_multiprocessing(liner_reg, workers=10, group_list=grouplist2)"
   ]
  },
  {
   "cell_type": "code",
   "execution_count": 186,
   "metadata": {
    "ExecuteTime": {
     "end_time": "2018-06-21T19:45:17.177206Z",
     "start_time": "2018-06-21T19:45:17.170252Z"
    }
   },
   "outputs": [
    {
     "data": {
      "text/plain": [
       "[[1, 0.0, 1],\n",
       " [2, 0.0, 1],\n",
       " [3, -0.0, 1],\n",
       " [4, 0.99999999999999967, 1],\n",
       " [6, 0.0, 1],\n",
       " [7, -0.0, 1]]"
      ]
     },
     "execution_count": 186,
     "metadata": {},
     "output_type": "execute_result"
    }
   ],
   "source": [
    "final2"
   ]
  },
  {
   "cell_type": "code",
   "execution_count": null,
   "metadata": {
    "collapsed": true
   },
   "outputs": [],
   "source": []
  },
  {
   "cell_type": "code",
   "execution_count": null,
   "metadata": {
    "collapsed": true
   },
   "outputs": [],
   "source": []
  },
  {
   "cell_type": "markdown",
   "metadata": {
    "collapsed": true
   },
   "source": [
    "for col in tqdm(numeric_features):\n",
    "    train[col]=apply_by_multiprocessing(train[col], scaler_transform, workers=workers, col=col, scaler_dict=scaler_dict)\n",
    "    test[col]=apply_by_multiprocessing(test[col], scaler_transform, workers=workers, col=col, scaler_dict=scaler_dict)"
   ]
  }
 ],
 "metadata": {
  "kernelspec": {
   "display_name": "Python 3",
   "language": "python",
   "name": "python3"
  },
  "language_info": {
   "codemirror_mode": {
    "name": "ipython",
    "version": 3
   },
   "file_extension": ".py",
   "mimetype": "text/x-python",
   "name": "python",
   "nbconvert_exporter": "python",
   "pygments_lexer": "ipython3",
   "version": "3.6.3"
  },
  "varInspector": {
   "cols": {
    "lenName": 16,
    "lenType": 16,
    "lenVar": 40
   },
   "kernels_config": {
    "python": {
     "delete_cmd_postfix": "",
     "delete_cmd_prefix": "del ",
     "library": "var_list.py",
     "varRefreshCmd": "print(var_dic_list())"
    },
    "r": {
     "delete_cmd_postfix": ") ",
     "delete_cmd_prefix": "rm(",
     "library": "var_list.r",
     "varRefreshCmd": "cat(var_dic_list()) "
    }
   },
   "types_to_exclude": [
    "module",
    "function",
    "builtin_function_or_method",
    "instance",
    "_Feature"
   ],
   "window_display": false
  }
 },
 "nbformat": 4,
 "nbformat_minor": 2
}
