{
 "cells": [
  {
   "cell_type": "code",
   "execution_count": 1,
   "metadata": {
    "ExecuteTime": {
     "end_time": "2018-06-01T19:13:18.771034Z",
     "start_time": "2018-06-01T19:13:18.577697Z"
    },
    "collapsed": true
   },
   "outputs": [],
   "source": [
    "from sklearn.datasets import fetch_california_housing"
   ]
  },
  {
   "cell_type": "code",
   "execution_count": 2,
   "metadata": {
    "ExecuteTime": {
     "end_time": "2018-06-01T19:13:18.978426Z",
     "start_time": "2018-06-01T19:13:18.853448Z"
    },
    "collapsed": true
   },
   "outputs": [],
   "source": [
    "import matplotlib.pyplot as plt\n",
    "%matplotlib inline"
   ]
  },
  {
   "cell_type": "code",
   "execution_count": 3,
   "metadata": {
    "ExecuteTime": {
     "end_time": "2018-06-01T19:13:19.147256Z",
     "start_time": "2018-06-01T19:13:19.144267Z"
    },
    "collapsed": true
   },
   "outputs": [],
   "source": [
    "import numpy as np"
   ]
  },
  {
   "cell_type": "code",
   "execution_count": 4,
   "metadata": {
    "ExecuteTime": {
     "end_time": "2018-06-01T19:13:21.513143Z",
     "start_time": "2018-06-01T19:13:19.462640Z"
    }
   },
   "outputs": [
    {
     "name": "stderr",
     "output_type": "stream",
     "text": [
      "Downloading Cal. housing from https://ndownloader.figshare.com/files/5976036 to /home/kai/scikit_learn_data\n"
     ]
    }
   ],
   "source": [
    "dataset = fetch_california_housing()\n",
    "X_full, y_full = dataset.data, dataset.target"
   ]
  },
  {
   "cell_type": "code",
   "execution_count": 5,
   "metadata": {
    "ExecuteTime": {
     "end_time": "2018-06-01T19:13:21.529085Z",
     "start_time": "2018-06-01T19:13:21.525511Z"
    }
   },
   "outputs": [
    {
     "data": {
      "text/plain": [
       "numpy.ndarray"
      ]
     },
     "execution_count": 5,
     "metadata": {},
     "output_type": "execute_result"
    }
   ],
   "source": [
    "type(X_full)"
   ]
  },
  {
   "cell_type": "code",
   "execution_count": 6,
   "metadata": {
    "ExecuteTime": {
     "end_time": "2018-06-01T19:13:25.356260Z",
     "start_time": "2018-06-01T19:13:25.350998Z"
    }
   },
   "outputs": [
    {
     "data": {
      "text/plain": [
       "(20640, 8)"
      ]
     },
     "execution_count": 6,
     "metadata": {},
     "output_type": "execute_result"
    }
   ],
   "source": [
    "X_full.shape"
   ]
  },
  {
   "cell_type": "code",
   "execution_count": 7,
   "metadata": {
    "ExecuteTime": {
     "end_time": "2018-06-01T19:13:30.968092Z",
     "start_time": "2018-06-01T19:13:30.963701Z"
    },
    "collapsed": true
   },
   "outputs": [],
   "source": [
    "# Take only 2 features to make visualization easier\n",
    "# Feature of 0 has a long tail distribution.\n",
    "# Feature 5 has a few but very large outliers.\n",
    "\n",
    "X = X_full[:, [0, 5]]"
   ]
  },
  {
   "cell_type": "code",
   "execution_count": 8,
   "metadata": {
    "ExecuteTime": {
     "end_time": "2018-06-01T19:13:31.263442Z",
     "start_time": "2018-06-01T19:13:31.258158Z"
    }
   },
   "outputs": [
    {
     "data": {
      "text/plain": [
       "(20640, 2)"
      ]
     },
     "execution_count": 8,
     "metadata": {},
     "output_type": "execute_result"
    }
   ],
   "source": [
    "X.shape"
   ]
  },
  {
   "cell_type": "code",
   "execution_count": 9,
   "metadata": {
    "ExecuteTime": {
     "end_time": "2018-06-01T19:13:31.803342Z",
     "start_time": "2018-06-01T19:13:31.800077Z"
    },
    "collapsed": true
   },
   "outputs": [],
   "source": [
    "income = X[:,0]"
   ]
  },
  {
   "cell_type": "code",
   "execution_count": 10,
   "metadata": {
    "ExecuteTime": {
     "end_time": "2018-06-01T19:13:33.934990Z",
     "start_time": "2018-06-01T19:13:33.806697Z"
    }
   },
   "outputs": [
    {
     "data": {
      "text/plain": [
       "(array([  148.,   588.,  1511.,  2251.,  2496.,  2689.,  2382.,  2123.,\n",
       "         1593.,  1330.,   933.,   727.,   499.,   316.,   245.,   213.,\n",
       "          133.,    82.,    43.,    67.,    68.,    56.,    20.,    17.,\n",
       "           18.,    14.,    15.,     6.,     4.,    53.]),\n",
       " array([  0.4999 ,   0.98324,   1.46658,   1.94992,   2.43326,   2.9166 ,\n",
       "          3.39994,   3.88328,   4.36662,   4.84996,   5.3333 ,   5.81664,\n",
       "          6.29998,   6.78332,   7.26666,   7.75   ,   8.23334,   8.71668,\n",
       "          9.20002,   9.68336,  10.1667 ,  10.65004,  11.13338,  11.61672,\n",
       "         12.10006,  12.5834 ,  13.06674,  13.55008,  14.03342,  14.51676,\n",
       "         15.0001 ]),\n",
       " <a list of 30 Patch objects>)"
      ]
     },
     "execution_count": 10,
     "metadata": {},
     "output_type": "execute_result"
    },
    {
     "data": {
      "image/png": "[encoded data removed]",
      "text/plain": [
       "<matplotlib.figure.Figure at 0x7fb6727e3b38>"
      ]
     },
     "metadata": {},
     "output_type": "display_data"
    }
   ],
   "source": [
    "plt.hist(income, bins=30)"
   ]
  },
  {
   "cell_type": "markdown",
   "metadata": {},
   "source": [
    "# apply log to income"
   ]
  },
  {
   "cell_type": "code",
   "execution_count": 11,
   "metadata": {
    "ExecuteTime": {
     "end_time": "2018-06-01T19:14:14.769454Z",
     "start_time": "2018-06-01T19:14:14.657058Z"
    }
   },
   "outputs": [
    {
     "data": {
      "text/plain": [
       "(array([   23.,    20.,    54.,    97.,   171.,   266.,   421.,   731.,\n",
       "          880.,  1211.,  1344.,  1536.,  1791.,  1728.,  1848.,  1849.,\n",
       "         1485.,  1320.,  1113.,   840.,   619.,   357.,   337.,   189.,\n",
       "           81.,   128.,    74.,    39.,    28.,    60.]),\n",
       " array([ 0.58486632,  0.69870441,  0.8125425 ,  0.92638059,  1.04021868,\n",
       "         1.15405677,  1.26789486,  1.38173295,  1.49557104,  1.60940913,\n",
       "         1.72324722,  1.83708531,  1.9509234 ,  2.06476149,  2.17859958,\n",
       "         2.29243767,  2.40627576,  2.52011385,  2.63395194,  2.74779003,\n",
       "         2.86162812,  2.97546621,  3.0893043 ,  3.20314239,  3.31698048,\n",
       "         3.43081857,  3.54465666,  3.65849475,  3.77233284,  3.88617093,\n",
       "         4.00000902]),\n",
       " <a list of 30 Patch objects>)"
      ]
     },
     "execution_count": 11,
     "metadata": {},
     "output_type": "execute_result"
    },
    {
     "data": {
      "image/png": "[encoded data removed]",
      "text/plain": [
       "<matplotlib.figure.Figure at 0x7fb658ac9cc0>"
      ]
     },
     "metadata": {},
     "output_type": "display_data"
    }
   ],
   "source": [
    "plt.hist(np.log2(income+1), bins=30)"
   ]
  },
  {
   "cell_type": "code",
   "execution_count": 13,
   "metadata": {
    "ExecuteTime": {
     "end_time": "2018-06-01T19:15:27.230462Z",
     "start_time": "2018-06-01T19:15:27.127330Z"
    }
   },
   "outputs": [
    {
     "data": {
      "text/plain": [
       "(array([  2.06330000e+04,   3.00000000e+00,   0.00000000e+00,\n",
       "          0.00000000e+00,   0.00000000e+00,   1.00000000e+00,\n",
       "          0.00000000e+00,   0.00000000e+00,   0.00000000e+00,\n",
       "          0.00000000e+00,   0.00000000e+00,   0.00000000e+00,\n",
       "          1.00000000e+00,   0.00000000e+00,   1.00000000e+00,\n",
       "          0.00000000e+00,   0.00000000e+00,   0.00000000e+00,\n",
       "          0.00000000e+00,   0.00000000e+00,   0.00000000e+00,\n",
       "          0.00000000e+00,   0.00000000e+00,   0.00000000e+00,\n",
       "          0.00000000e+00,   0.00000000e+00,   0.00000000e+00,\n",
       "          0.00000000e+00,   0.00000000e+00,   1.00000000e+00]),\n",
       " array([  6.92307692e-01,   4.21136752e+01,   8.35350427e+01,\n",
       "          1.24956410e+02,   1.66377778e+02,   2.07799145e+02,\n",
       "          2.49220513e+02,   2.90641880e+02,   3.32063248e+02,\n",
       "          3.73484615e+02,   4.14905983e+02,   4.56327350e+02,\n",
       "          4.97748718e+02,   5.39170085e+02,   5.80591453e+02,\n",
       "          6.22012821e+02,   6.63434188e+02,   7.04855556e+02,\n",
       "          7.46276923e+02,   7.87698291e+02,   8.29119658e+02,\n",
       "          8.70541026e+02,   9.11962393e+02,   9.53383761e+02,\n",
       "          9.94805128e+02,   1.03622650e+03,   1.07764786e+03,\n",
       "          1.11906923e+03,   1.16049060e+03,   1.20191197e+03,\n",
       "          1.24333333e+03]),\n",
       " <a list of 30 Patch objects>)"
      ]
     },
     "execution_count": 13,
     "metadata": {},
     "output_type": "execute_result"
    },
    {
     "data": {
      "image/png": "[encoded data removed]",
      "text/plain": [
       "<matplotlib.figure.Figure at 0x7fb657a22160>"
      ]
     },
     "metadata": {},
     "output_type": "display_data"
    }
   ],
   "source": [
    "house = X[:,1]\n",
    "plt.hist(house, bins=30)"
   ]
  },
  {
   "cell_type": "markdown",
   "metadata": {},
   "source": [
    "# apply log to house"
   ]
  },
  {
   "cell_type": "code",
   "execution_count": 14,
   "metadata": {
    "ExecuteTime": {
     "end_time": "2018-06-01T19:15:29.806130Z",
     "start_time": "2018-06-01T19:15:29.713147Z"
    }
   },
   "outputs": [
    {
     "data": {
      "text/plain": [
       "(array([  7.00000000e+00,   3.45000000e+02,   3.14700000e+03,\n",
       "          1.00670000e+04,   5.50300000e+03,   1.35400000e+03,\n",
       "          1.46000000e+02,   2.40000000e+01,   1.30000000e+01,\n",
       "          1.50000000e+01,   5.00000000e+00,   5.00000000e+00,\n",
       "          0.00000000e+00,   1.00000000e+00,   1.00000000e+00,\n",
       "          1.00000000e+00,   1.00000000e+00,   1.00000000e+00,\n",
       "          0.00000000e+00,   0.00000000e+00,   0.00000000e+00,\n",
       "          0.00000000e+00,   1.00000000e+00,   0.00000000e+00,\n",
       "          0.00000000e+00,   1.00000000e+00,   1.00000000e+00,\n",
       "          0.00000000e+00,   0.00000000e+00,   1.00000000e+00]),\n",
       " array([  0.7589919 ,   1.07639741,   1.39380293,   1.71120844,\n",
       "          2.02861395,   2.34601947,   2.66342498,   2.98083049,\n",
       "          3.29823601,   3.61564152,   3.93304703,   4.25045254,\n",
       "          4.56785806,   4.88526357,   5.20266908,   5.5200746 ,\n",
       "          5.83748011,   6.15488562,   6.47229114,   6.78969665,\n",
       "          7.10710216,   7.42450767,   7.74191319,   8.0593187 ,\n",
       "          8.37672421,   8.69412973,   9.01153524,   9.32894075,\n",
       "          9.64634627,   9.96375178,  10.28115729]),\n",
       " <a list of 30 Patch objects>)"
      ]
     },
     "execution_count": 14,
     "metadata": {},
     "output_type": "execute_result"
    },
    {
     "data": {
      "image/png": "[encoded data removed]",
      "text/plain": [
       "<matplotlib.figure.Figure at 0x7fb64f64fc88>"
      ]
     },
     "metadata": {},
     "output_type": "display_data"
    }
   ],
   "source": [
    "plt.hist(np.log2(house+1), bins=30)"
   ]
  },
  {
   "cell_type": "code",
   "execution_count": 15,
   "metadata": {
    "ExecuteTime": {
     "end_time": "2018-06-01T19:16:03.530179Z",
     "start_time": "2018-06-01T19:16:03.411944Z"
    }
   },
   "outputs": [
    {
     "data": {
      "text/plain": [
       "(array([  2.00000000e+00,   0.00000000e+00,   1.00000000e+00,\n",
       "          4.00000000e+00,   6.00000000e+00,   7.70000000e+01,\n",
       "          2.63000000e+02,   6.65000000e+02,   1.54700000e+03,\n",
       "          3.53400000e+03,   5.63600000e+03,   4.91800000e+03,\n",
       "          2.43300000e+03,   1.16100000e+03,   2.70000000e+02,\n",
       "          5.60000000e+01,   2.10000000e+01,   1.30000000e+01,\n",
       "          1.40000000e+01,   8.00000000e+00,   2.00000000e+00,\n",
       "          1.00000000e+00,   1.00000000e+00,   2.00000000e+00,\n",
       "          1.00000000e+00,   0.00000000e+00,   1.00000000e+00,\n",
       "          0.00000000e+00,   2.00000000e+00,   1.00000000e+00]),\n",
       " array([-0.3978436 , -0.27251779, -0.14719198, -0.02186617,  0.10345964,\n",
       "         0.22878546,  0.35411127,  0.47943708,  0.60476289,  0.73008871,\n",
       "         0.85541452,  0.98074033,  1.10606614,  1.23139196,  1.35671777,\n",
       "         1.48204358,  1.60736939,  1.7326952 ,  1.85802102,  1.98334683,\n",
       "         2.10867264,  2.23399845,  2.35932427,  2.48465008,  2.60997589,\n",
       "         2.7353017 ,  2.86062752,  2.98595333,  3.11127914,  3.23660495,\n",
       "         3.36193076]),\n",
       " <a list of 30 Patch objects>)"
      ]
     },
     "execution_count": 15,
     "metadata": {},
     "output_type": "execute_result"
    },
    {
     "data": {
      "image/png": "[encoded data removed]",
      "text/plain": [
       "<matplotlib.figure.Figure at 0x7fb65871aa58>"
      ]
     },
     "metadata": {},
     "output_type": "display_data"
    }
   ],
   "source": [
    "plt.hist(np.log2(np.log2(house+1)), bins=30)"
   ]
  },
  {
   "cell_type": "code",
   "execution_count": 17,
   "metadata": {
    "collapsed": true
   },
   "outputs": [],
   "source": [
    "import pandas as pd"
   ]
  },
  {
   "cell_type": "code",
   "execution_count": 18,
   "metadata": {},
   "outputs": [
    {
     "data": {
      "text/plain": [
       "count    20640.000000\n",
       "mean         3.070655\n",
       "std         10.386050\n",
       "min          0.692308\n",
       "25%          2.429741\n",
       "50%          2.818116\n",
       "75%          3.282261\n",
       "max       1243.333333\n",
       "dtype: float64"
      ]
     },
     "execution_count": 18,
     "metadata": {},
     "output_type": "execute_result"
    }
   ],
   "source": [
    "pd.Series(house).describe()"
   ]
  },
  {
   "cell_type": "code",
   "execution_count": 17,
   "metadata": {
    "ExecuteTime": {
     "end_time": "2018-06-01T19:17:42.348283Z",
     "start_time": "2018-06-01T19:17:42.345001Z"
    },
    "collapsed": true
   },
   "outputs": [],
   "source": [
    "from sklearn.preprocessing import StandardScaler"
   ]
  },
  {
   "cell_type": "code",
   "execution_count": 19,
   "metadata": {
    "collapsed": true
   },
   "outputs": [],
   "source": [
    "X_ss = StandardScaler().fit_transform(X)"
   ]
  },
  {
   "cell_type": "code",
   "execution_count": 23,
   "metadata": {},
   "outputs": [
    {
     "data": {
      "text/plain": [
       "(array([  2.06330000e+04,   3.00000000e+00,   0.00000000e+00,\n",
       "          0.00000000e+00,   0.00000000e+00,   1.00000000e+00,\n",
       "          0.00000000e+00,   0.00000000e+00,   0.00000000e+00,\n",
       "          0.00000000e+00,   0.00000000e+00,   0.00000000e+00,\n",
       "          1.00000000e+00,   0.00000000e+00,   1.00000000e+00,\n",
       "          0.00000000e+00,   0.00000000e+00,   0.00000000e+00,\n",
       "          0.00000000e+00,   0.00000000e+00,   0.00000000e+00,\n",
       "          0.00000000e+00,   0.00000000e+00,   0.00000000e+00,\n",
       "          0.00000000e+00,   0.00000000e+00,   0.00000000e+00,\n",
       "          0.00000000e+00,   0.00000000e+00,   1.00000000e+00]),\n",
       " array([  -0.22899997,    3.75927013,    7.74754024,   11.73581034,\n",
       "          15.72408045,   19.71235055,   23.70062066,   27.68889076,\n",
       "          31.67716087,   35.66543097,   39.65370108,   43.64197119,\n",
       "          47.63024129,   51.6185114 ,   55.6067815 ,   59.59505161,\n",
       "          63.58332171,   67.57159182,   71.55986192,   75.54813203,\n",
       "          79.53640213,   83.52467224,   87.51294234,   91.50121245,\n",
       "          95.48948256,   99.47775266,  103.46602277,  107.45429287,\n",
       "         111.44256298,  115.43083308,  119.41910319]),\n",
       " <a list of 30 Patch objects>)"
      ]
     },
     "execution_count": 23,
     "metadata": {},
     "output_type": "execute_result"
    },
    {
     "data": {
      "image/png": "[encoded data removed]",
      "text/plain": [
       "<matplotlib.figure.Figure at 0x7f678f2dce80>"
      ]
     },
     "metadata": {},
     "output_type": "display_data"
    }
   ],
   "source": [
    "house_ss = X_ss[:,1]\n",
    "plt.hist(house_ss, bins=30)"
   ]
  },
  {
   "cell_type": "code",
   "execution_count": 24,
   "metadata": {},
   "outputs": [
    {
     "data": {
      "text/plain": [
       "count    2.064000e+04\n",
       "mean     6.064808e-19\n",
       "std      1.000024e+00\n",
       "min     -2.290000e-01\n",
       "25%     -6.171062e-02\n",
       "50%     -2.431585e-02\n",
       "75%      2.037453e-02\n",
       "max      1.194191e+02\n",
       "dtype: float64"
      ]
     },
     "execution_count": 24,
     "metadata": {},
     "output_type": "execute_result"
    }
   ],
   "source": [
    "pd.Series(house_ss).describe()"
   ]
  },
  {
   "cell_type": "code",
   "execution_count": 21,
   "metadata": {},
   "outputs": [
    {
     "data": {
      "text/plain": [
       "(array([  148.,   588.,  1511.,  2251.,  2496.,  2689.,  2382.,  2123.,\n",
       "         1593.,  1330.,   933.,   727.,   499.,   316.,   245.,   213.,\n",
       "          133.,    82.,    43.,    67.,    68.,    56.,    20.,    17.,\n",
       "           18.,    14.,    15.,     6.,     4.,    53.]),\n",
       " array([-1.77429947, -1.51987996, -1.26546045, -1.01104094, -0.75662143,\n",
       "        -0.50220192, -0.24778241,  0.0066371 ,  0.26105661,  0.51547612,\n",
       "         0.76989563,  1.02431514,  1.27873464,  1.53315415,  1.78757366,\n",
       "         2.04199317,  2.29641268,  2.55083219,  2.8052517 ,  3.05967121,\n",
       "         3.31409072,  3.56851023,  3.82292974,  4.07734925,  4.33176876,\n",
       "         4.58618827,  4.84060777,  5.09502728,  5.34944679,  5.6038663 ,\n",
       "         5.85828581]),\n",
       " <a list of 30 Patch objects>)"
      ]
     },
     "execution_count": 21,
     "metadata": {},
     "output_type": "execute_result"
    },
    {
     "data": {
      "image/png": "[encoded data removed]",
      "text/plain": [
       "<matplotlib.figure.Figure at 0x7f678f334eb8>"
      ]
     },
     "metadata": {},
     "output_type": "display_data"
    }
   ],
   "source": [
    "income_ss = X_ss[:,0]\n",
    "# apply Standard Scaler on long tail distribution, the long tail is still there at some level\n",
    "plt.hist(income_ss, bins=30) "
   ]
  },
  {
   "cell_type": "code",
   "execution_count": 22,
   "metadata": {
    "ExecuteTime": {
     "end_time": "2018-06-01T19:18:41.508698Z",
     "start_time": "2018-06-01T19:18:41.406693Z"
    }
   },
   "outputs": [
    {
     "data": {
      "text/plain": [
       "(array([   23.,    20.,    54.,    97.,   171.,   266.,   421.,   731.,\n",
       "          880.,  1211.,  1344.,  1536.,  1791.,  1728.,  1848.,  1849.,\n",
       "         1485.,  1320.,  1113.,   840.,   619.,   357.,   337.,   189.,\n",
       "           81.,   128.,    74.,    39.,    28.,    60.]),\n",
       " array([-3.09922927, -2.87923085, -2.65923243, -2.43923402, -2.2192356 ,\n",
       "        -1.99923718, -1.77923877, -1.55924035, -1.33924194, -1.11924352,\n",
       "        -0.8992451 , -0.67924669, -0.45924827, -0.23924985, -0.01925144,\n",
       "         0.20074698,  0.42074539,  0.64074381,  0.86074223,  1.08074064,\n",
       "         1.30073906,  1.52073748,  1.74073589,  1.96073431,  2.18073272,\n",
       "         2.40073114,  2.62072956,  2.84072797,  3.06072639,  3.28072481,\n",
       "         3.50072322]),\n",
       " <a list of 30 Patch objects>)"
      ]
     },
     "execution_count": 22,
     "metadata": {},
     "output_type": "execute_result"
    },
    {
     "data": {
      "image/png": "[encoded data removed]",
      "text/plain": [
       "<matplotlib.figure.Figure at 0x7fb64f82e978>"
      ]
     },
     "metadata": {},
     "output_type": "display_data"
    }
   ],
   "source": [
    "#  apply Standard Scaler on logged long tail distribution, the long tail is pretty much gone\n",
    "plt.hist(StandardScaler().fit_transform(np.log2(income+1).reshape(-1,1)), bins=30)"
   ]
  },
  {
   "cell_type": "code",
   "execution_count": null,
   "metadata": {
    "collapsed": true
   },
   "outputs": [],
   "source": []
  },
  {
   "cell_type": "code",
   "execution_count": 34,
   "metadata": {},
   "outputs": [
    {
     "data": {
      "text/plain": [
       "(array([ 2064.,  2064.,  2064.,  2064.,  2064.,  2064.,  2064.,  2064.,\n",
       "         2064.,  2064.]),\n",
       " array([ 0. ,  0.9,  1.8,  2.7,  3.6,  4.5,  5.4,  6.3,  7.2,  8.1,  9. ]),\n",
       " <a list of 10 Patch objects>)"
      ]
     },
     "execution_count": 34,
     "metadata": {},
     "output_type": "execute_result"
    },
    {
     "data": {
      "image/png": "[encoded data removed]",
      "text/plain": [
       "<matplotlib.figure.Figure at 0x7f678eebc0f0>"
      ]
     },
     "metadata": {},
     "output_type": "display_data"
    }
   ],
   "source": [
    "percentiles = np.percentile(house, [10, 20, 30, 40, 50, 60, 70, 80, 90])\n",
    "\n",
    "house_in_bins = np.searchsorted(percentiles, house)\n",
    "\n",
    "plt.hist(house_in_bins)"
   ]
  },
  {
   "cell_type": "code",
   "execution_count": 41,
   "metadata": {},
   "outputs": [
    {
     "data": {
      "text/plain": [
       "2064"
      ]
     },
     "execution_count": 41,
     "metadata": {},
     "output_type": "execute_result"
    }
   ],
   "source": [
    "np.sum(house_in_bins==3)"
   ]
  },
  {
   "cell_type": "code",
   "execution_count": 35,
   "metadata": {},
   "outputs": [
    {
     "data": {
      "text/plain": [
       "(array([ 2064.,  2064.,  2064.,  2064.,  2064.,  2064.,  2064.,  2064.,\n",
       "         2064.,  2064.]),\n",
       " array([ 0. ,  0.9,  1.8,  2.7,  3.6,  4.5,  5.4,  6.3,  7.2,  8.1,  9. ]),\n",
       " <a list of 10 Patch objects>)"
      ]
     },
     "execution_count": 35,
     "metadata": {},
     "output_type": "execute_result"
    },
    {
     "data": {
      "image/png": "[encoded data removed]",
      "text/plain": [
       "<matplotlib.figure.Figure at 0x7f678ee59e48>"
      ]
     },
     "metadata": {},
     "output_type": "display_data"
    }
   ],
   "source": [
    "percentiles_ss = np.percentile(house_ss, [10, 20, 30, 40, 50, 60, 70, 80, 90])\n",
    "\n",
    "house_ss_in_bins = np.searchsorted(percentiles_ss, house_ss)\n",
    "\n",
    "plt.hist(house_ss_in_bins)"
   ]
  },
  {
   "cell_type": "code",
   "execution_count": null,
   "metadata": {
    "collapsed": true
   },
   "outputs": [],
   "source": []
  }
 ],
 "metadata": {
  "kernelspec": {
   "display_name": "Python 3",
   "language": "python",
   "name": "python3"
  },
  "language_info": {
   "codemirror_mode": {
    "name": "ipython",
    "version": 3
   },
   "file_extension": ".py",
   "mimetype": "text/x-python",
   "name": "python",
   "nbconvert_exporter": "python",
   "pygments_lexer": "ipython3",
   "version": "3.6.3"
  },
  "varInspector": {
   "cols": {
    "lenName": 16,
    "lenType": 16,
    "lenVar": 40
   },
   "kernels_config": {
    "python": {
     "delete_cmd_postfix": "",
     "delete_cmd_prefix": "del ",
     "library": "var_list.py",
     "varRefreshCmd": "print(var_dic_list())"
    },
    "r": {
     "delete_cmd_postfix": ") ",
     "delete_cmd_prefix": "rm(",
     "library": "var_list.r",
     "varRefreshCmd": "cat(var_dic_list()) "
    }
   },
   "types_to_exclude": [
    "module",
    "function",
    "builtin_function_or_method",
    "instance",
    "_Feature"
   ],
   "window_display": false
  }
 },
 "nbformat": 4,
 "nbformat_minor": 2
}
