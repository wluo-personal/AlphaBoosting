{
 "cells": [
  {
   "cell_type": "code",
   "execution_count": 1,
   "metadata": {
    "collapsed": true
   },
   "outputs": [],
   "source": [
    "from sklearn.datasets import fetch_california_housing"
   ]
  },
  {
   "cell_type": "code",
   "execution_count": 7,
   "metadata": {
    "collapsed": true
   },
   "outputs": [],
   "source": [
    "import matplotlib.pyplot as plt\n",
    "%matplotlib inline"
   ]
  },
  {
   "cell_type": "code",
   "execution_count": 26,
   "metadata": {
    "collapsed": true
   },
   "outputs": [],
   "source": [
    "import numpy as np"
   ]
  },
  {
   "cell_type": "code",
   "execution_count": 2,
   "metadata": {},
   "outputs": [
    {
     "name": "stderr",
     "output_type": "stream",
     "text": [
      "Downloading Cal. housing from https://ndownloader.figshare.com/files/5976036 to /home/kai/scikit_learn_data\n"
     ]
    }
   ],
   "source": [
    "dataset = fetch_california_housing()\n",
    "X_full, y_full = dataset.data, dataset.target"
   ]
  },
  {
   "cell_type": "code",
   "execution_count": 3,
   "metadata": {},
   "outputs": [
    {
     "data": {
      "text/plain": [
       "numpy.ndarray"
      ]
     },
     "execution_count": 3,
     "metadata": {},
     "output_type": "execute_result"
    }
   ],
   "source": [
    "type(X_full)"
   ]
  },
  {
   "cell_type": "code",
   "execution_count": 4,
   "metadata": {},
   "outputs": [
    {
     "data": {
      "text/plain": [
       "(20640, 8)"
      ]
     },
     "execution_count": 4,
     "metadata": {},
     "output_type": "execute_result"
    }
   ],
   "source": [
    "X_full.shape"
   ]
  },
  {
   "cell_type": "code",
   "execution_count": 5,
   "metadata": {
    "collapsed": true
   },
   "outputs": [],
   "source": [
    "# Take only 2 features to make visualization easier\n",
    "# Feature of 0 has a long tail distribution.\n",
    "# Feature 5 has a few but very large outliers.\n",
    "\n",
    "X = X_full[:, [0, 5]]"
   ]
  },
  {
   "cell_type": "code",
   "execution_count": 6,
   "metadata": {},
   "outputs": [
    {
     "data": {
      "text/plain": [
       "(20640, 2)"
      ]
     },
     "execution_count": 6,
     "metadata": {},
     "output_type": "execute_result"
    }
   ],
   "source": [
    "X.shape"
   ]
  },
  {
   "cell_type": "code",
   "execution_count": 11,
   "metadata": {
    "collapsed": true
   },
   "outputs": [],
   "source": [
    "income = X[:,0]"
   ]
  },
  {
   "cell_type": "code",
   "execution_count": 14,
   "metadata": {},
   "outputs": [
    {
     "data": {
      "text/plain": [
       "(array([  148.,   588.,  1511.,  2251.,  2496.,  2689.,  2382.,  2123.,\n",
       "         1593.,  1330.,   933.,   727.,   499.,   316.,   245.,   213.,\n",
       "          133.,    82.,    43.,    67.,    68.,    56.,    20.,    17.,\n",
       "           18.,    14.,    15.,     6.,     4.,    53.]),\n",
       " array([  0.4999 ,   0.98324,   1.46658,   1.94992,   2.43326,   2.9166 ,\n",
       "          3.39994,   3.88328,   4.36662,   4.84996,   5.3333 ,   5.81664,\n",
       "          6.29998,   6.78332,   7.26666,   7.75   ,   8.23334,   8.71668,\n",
       "          9.20002,   9.68336,  10.1667 ,  10.65004,  11.13338,  11.61672,\n",
       "         12.10006,  12.5834 ,  13.06674,  13.55008,  14.03342,  14.51676,\n",
       "         15.0001 ]),\n",
       " <a list of 30 Patch objects>)"
      ]
     },
     "execution_count": 14,
     "metadata": {},
     "output_type": "execute_result"
    },
    {
     "data": {
      "image/png": "[encoded data removed]",
      "text/plain": [
       "<matplotlib.figure.Figure at 0x7f67a0984898>"
      ]
     },
     "metadata": {},
     "output_type": "display_data"
    }
   ],
   "source": [
    "plt.hist(income, bins=30)"
   ]
  },
  {
   "cell_type": "code",
   "execution_count": 15,
   "metadata": {},
   "outputs": [
    {
     "data": {
      "text/plain": [
       "(array([  2.06330000e+04,   3.00000000e+00,   0.00000000e+00,\n",
       "          0.00000000e+00,   0.00000000e+00,   1.00000000e+00,\n",
       "          0.00000000e+00,   0.00000000e+00,   0.00000000e+00,\n",
       "          0.00000000e+00,   0.00000000e+00,   0.00000000e+00,\n",
       "          1.00000000e+00,   0.00000000e+00,   1.00000000e+00,\n",
       "          0.00000000e+00,   0.00000000e+00,   0.00000000e+00,\n",
       "          0.00000000e+00,   0.00000000e+00,   0.00000000e+00,\n",
       "          0.00000000e+00,   0.00000000e+00,   0.00000000e+00,\n",
       "          0.00000000e+00,   0.00000000e+00,   0.00000000e+00,\n",
       "          0.00000000e+00,   0.00000000e+00,   1.00000000e+00]),\n",
       " array([  6.92307692e-01,   4.21136752e+01,   8.35350427e+01,\n",
       "          1.24956410e+02,   1.66377778e+02,   2.07799145e+02,\n",
       "          2.49220513e+02,   2.90641880e+02,   3.32063248e+02,\n",
       "          3.73484615e+02,   4.14905983e+02,   4.56327350e+02,\n",
       "          4.97748718e+02,   5.39170085e+02,   5.80591453e+02,\n",
       "          6.22012821e+02,   6.63434188e+02,   7.04855556e+02,\n",
       "          7.46276923e+02,   7.87698291e+02,   8.29119658e+02,\n",
       "          8.70541026e+02,   9.11962393e+02,   9.53383761e+02,\n",
       "          9.94805128e+02,   1.03622650e+03,   1.07764786e+03,\n",
       "          1.11906923e+03,   1.16049060e+03,   1.20191197e+03,\n",
       "          1.24333333e+03]),\n",
       " <a list of 30 Patch objects>)"
      ]
     },
     "execution_count": 15,
     "metadata": {},
     "output_type": "execute_result"
    },
    {
     "data": {
      "image/png": "[encoded data removed]",
      "text/plain": [
       "<matplotlib.figure.Figure at 0x7f67a02f9320>"
      ]
     },
     "metadata": {},
     "output_type": "display_data"
    }
   ],
   "source": [
    "house = X[:,1]\n",
    "plt.hist(house, bins=30)"
   ]
  },
  {
   "cell_type": "code",
   "execution_count": 17,
   "metadata": {
    "collapsed": true
   },
   "outputs": [],
   "source": [
    "import pandas as pd"
   ]
  },
  {
   "cell_type": "code",
   "execution_count": 18,
   "metadata": {},
   "outputs": [
    {
     "data": {
      "text/plain": [
       "count    20640.000000\n",
       "mean         3.070655\n",
       "std         10.386050\n",
       "min          0.692308\n",
       "25%          2.429741\n",
       "50%          2.818116\n",
       "75%          3.282261\n",
       "max       1243.333333\n",
       "dtype: float64"
      ]
     },
     "execution_count": 18,
     "metadata": {},
     "output_type": "execute_result"
    }
   ],
   "source": [
    "pd.Series(house).describe()"
   ]
  },
  {
   "cell_type": "code",
   "execution_count": 16,
   "metadata": {
    "collapsed": true
   },
   "outputs": [],
   "source": [
    "from sklearn.preprocessing import StandardScaler"
   ]
  },
  {
   "cell_type": "code",
   "execution_count": 19,
   "metadata": {
    "collapsed": true
   },
   "outputs": [],
   "source": [
    "X_ss = StandardScaler().fit_transform(X)"
   ]
  },
  {
   "cell_type": "code",
   "execution_count": 23,
   "metadata": {},
   "outputs": [
    {
     "data": {
      "text/plain": [
       "(array([  2.06330000e+04,   3.00000000e+00,   0.00000000e+00,\n",
       "          0.00000000e+00,   0.00000000e+00,   1.00000000e+00,\n",
       "          0.00000000e+00,   0.00000000e+00,   0.00000000e+00,\n",
       "          0.00000000e+00,   0.00000000e+00,   0.00000000e+00,\n",
       "          1.00000000e+00,   0.00000000e+00,   1.00000000e+00,\n",
       "          0.00000000e+00,   0.00000000e+00,   0.00000000e+00,\n",
       "          0.00000000e+00,   0.00000000e+00,   0.00000000e+00,\n",
       "          0.00000000e+00,   0.00000000e+00,   0.00000000e+00,\n",
       "          0.00000000e+00,   0.00000000e+00,   0.00000000e+00,\n",
       "          0.00000000e+00,   0.00000000e+00,   1.00000000e+00]),\n",
       " array([  -0.22899997,    3.75927013,    7.74754024,   11.73581034,\n",
       "          15.72408045,   19.71235055,   23.70062066,   27.68889076,\n",
       "          31.67716087,   35.66543097,   39.65370108,   43.64197119,\n",
       "          47.63024129,   51.6185114 ,   55.6067815 ,   59.59505161,\n",
       "          63.58332171,   67.57159182,   71.55986192,   75.54813203,\n",
       "          79.53640213,   83.52467224,   87.51294234,   91.50121245,\n",
       "          95.48948256,   99.47775266,  103.46602277,  107.45429287,\n",
       "         111.44256298,  115.43083308,  119.41910319]),\n",
       " <a list of 30 Patch objects>)"
      ]
     },
     "execution_count": 23,
     "metadata": {},
     "output_type": "execute_result"
    },
    {
     "data": {
      "image/png": "[encoded data removed]",
      "text/plain": [
       "<matplotlib.figure.Figure at 0x7f678f2dce80>"
      ]
     },
     "metadata": {},
     "output_type": "display_data"
    }
   ],
   "source": [
    "house_ss = X_ss[:,1]\n",
    "plt.hist(house_ss, bins=30)"
   ]
  },
  {
   "cell_type": "code",
   "execution_count": 24,
   "metadata": {},
   "outputs": [
    {
     "data": {
      "text/plain": [
       "count    2.064000e+04\n",
       "mean     6.064808e-19\n",
       "std      1.000024e+00\n",
       "min     -2.290000e-01\n",
       "25%     -6.171062e-02\n",
       "50%     -2.431585e-02\n",
       "75%      2.037453e-02\n",
       "max      1.194191e+02\n",
       "dtype: float64"
      ]
     },
     "execution_count": 24,
     "metadata": {},
     "output_type": "execute_result"
    }
   ],
   "source": [
    "pd.Series(house_ss).describe()"
   ]
  },
  {
   "cell_type": "code",
   "execution_count": 21,
   "metadata": {},
   "outputs": [
    {
     "data": {
      "text/plain": [
       "(array([  148.,   588.,  1511.,  2251.,  2496.,  2689.,  2382.,  2123.,\n",
       "         1593.,  1330.,   933.,   727.,   499.,   316.,   245.,   213.,\n",
       "          133.,    82.,    43.,    67.,    68.,    56.,    20.,    17.,\n",
       "           18.,    14.,    15.,     6.,     4.,    53.]),\n",
       " array([-1.77429947, -1.51987996, -1.26546045, -1.01104094, -0.75662143,\n",
       "        -0.50220192, -0.24778241,  0.0066371 ,  0.26105661,  0.51547612,\n",
       "         0.76989563,  1.02431514,  1.27873464,  1.53315415,  1.78757366,\n",
       "         2.04199317,  2.29641268,  2.55083219,  2.8052517 ,  3.05967121,\n",
       "         3.31409072,  3.56851023,  3.82292974,  4.07734925,  4.33176876,\n",
       "         4.58618827,  4.84060777,  5.09502728,  5.34944679,  5.6038663 ,\n",
       "         5.85828581]),\n",
       " <a list of 30 Patch objects>)"
      ]
     },
     "execution_count": 21,
     "metadata": {},
     "output_type": "execute_result"
    },
    {
     "data": {
      "image/png": "[encoded data removed]",
      "text/plain": [
       "<matplotlib.figure.Figure at 0x7f678f334eb8>"
      ]
     },
     "metadata": {},
     "output_type": "display_data"
    }
   ],
   "source": [
    "income_ss = X_ss[:,0]\n",
    "plt.hist(income_ss, bins=30)"
   ]
  },
  {
   "cell_type": "code",
   "execution_count": null,
   "metadata": {
    "collapsed": true
   },
   "outputs": [],
   "source": []
  },
  {
   "cell_type": "code",
   "execution_count": 34,
   "metadata": {},
   "outputs": [
    {
     "data": {
      "text/plain": [
       "(array([ 2064.,  2064.,  2064.,  2064.,  2064.,  2064.,  2064.,  2064.,\n",
       "         2064.,  2064.]),\n",
       " array([ 0. ,  0.9,  1.8,  2.7,  3.6,  4.5,  5.4,  6.3,  7.2,  8.1,  9. ]),\n",
       " <a list of 10 Patch objects>)"
      ]
     },
     "execution_count": 34,
     "metadata": {},
     "output_type": "execute_result"
    },
    {
     "data": {
      "image/png": "[encoded data removed]",
      "text/plain": [
       "<matplotlib.figure.Figure at 0x7f678eebc0f0>"
      ]
     },
     "metadata": {},
     "output_type": "display_data"
    }
   ],
   "source": [
    "percentiles = np.percentile(house, [10, 20, 30, 40, 50, 60, 70, 80, 90])\n",
    "\n",
    "house_in_bins = np.searchsorted(percentiles, house)\n",
    "\n",
    "plt.hist(house_in_bins)"
   ]
  },
  {
   "cell_type": "code",
   "execution_count": 41,
   "metadata": {},
   "outputs": [
    {
     "data": {
      "text/plain": [
       "2064"
      ]
     },
     "execution_count": 41,
     "metadata": {},
     "output_type": "execute_result"
    }
   ],
   "source": [
    "np.sum(house_in_bins==3)"
   ]
  },
  {
   "cell_type": "code",
   "execution_count": 35,
   "metadata": {},
   "outputs": [
    {
     "data": {
      "text/plain": [
       "(array([ 2064.,  2064.,  2064.,  2064.,  2064.,  2064.,  2064.,  2064.,\n",
       "         2064.,  2064.]),\n",
       " array([ 0. ,  0.9,  1.8,  2.7,  3.6,  4.5,  5.4,  6.3,  7.2,  8.1,  9. ]),\n",
       " <a list of 10 Patch objects>)"
      ]
     },
     "execution_count": 35,
     "metadata": {},
     "output_type": "execute_result"
    },
    {
     "data": {
      "image/png": "[encoded data removed]",
      "text/plain": [
       "<matplotlib.figure.Figure at 0x7f678ee59e48>"
      ]
     },
     "metadata": {},
     "output_type": "display_data"
    }
   ],
   "source": [
    "percentiles_ss = np.percentile(house_ss, [10, 20, 30, 40, 50, 60, 70, 80, 90])\n",
    "\n",
    "house_ss_in_bins = np.searchsorted(percentiles_ss, house_ss)\n",
    "\n",
    "plt.hist(house_ss_in_bins)"
   ]
  },
  {
   "cell_type": "code",
   "execution_count": null,
   "metadata": {
    "collapsed": true
   },
   "outputs": [],
   "source": []
  }
 ],
 "metadata": {
  "kernelspec": {
   "display_name": "Python 3",
   "language": "python",
   "name": "python3"
  },
  "language_info": {
   "codemirror_mode": {
    "name": "ipython",
    "version": 3
   },
   "file_extension": ".py",
   "mimetype": "text/x-python",
   "name": "python",
   "nbconvert_exporter": "python",
   "pygments_lexer": "ipython3",
   "version": "3.6.3"
  }
 },
 "nbformat": 4,
 "nbformat_minor": 2
}
