{
 "cells": [
  {
   "cell_type": "code",
   "execution_count": 2,
   "metadata": {
    "ExecuteTime": {
     "end_time": "2018-06-13T16:02:37.843102Z",
     "start_time": "2018-06-13T16:02:37.836947Z"
    },
    "collapsed": true
   },
   "outputs": [],
   "source": [
    "import os\n",
    "import sys\n",
    "nb_dir = os.path.split(os.getcwd())[0]\n",
    "if nb_dir not in sys.path:\n",
    "    sys.path.append(nb_dir)"
   ]
  },
  {
   "cell_type": "code",
   "execution_count": 3,
   "metadata": {
    "ExecuteTime": {
     "end_time": "2018-06-13T16:02:38.908800Z",
     "start_time": "2018-06-13T16:02:38.892964Z"
    }
   },
   "outputs": [
    {
     "data": {
      "text/plain": [
       "'/home/kai/data/shiyi/AlphaBoosting/shiyi/All_about_logging'"
      ]
     },
     "execution_count": 3,
     "metadata": {},
     "output_type": "execute_result"
    }
   ],
   "source": [
    "nb_dir"
   ]
  },
  {
   "cell_type": "code",
   "execution_count": 4,
   "metadata": {
    "ExecuteTime": {
     "end_time": "2018-06-13T16:02:39.079799Z",
     "start_time": "2018-06-13T16:02:39.074351Z"
    }
   },
   "outputs": [
    {
     "data": {
      "text/plain": [
       "['',\n",
       " '/home/kai/anaconda3/lib/python36.zip',\n",
       " '/home/kai/anaconda3/lib/python3.6',\n",
       " '/home/kai/anaconda3/lib/python3.6/lib-dynload',\n",
       " '/home/kai/anaconda3/lib/python3.6/site-packages',\n",
       " '/home/kai/anaconda3/lib/python3.6/site-packages/xgboost-0.7-py3.6.egg',\n",
       " '/home/kai/anaconda3/lib/python3.6/site-packages/duckling-1.8.0-py3.6.egg',\n",
       " '/home/kai/anaconda3/lib/python3.6/site-packages/JPype1-0.6.3-py3.6-linux-x86_64.egg',\n",
       " '/home/kai/anaconda3/lib/python3.6/site-packages/IPython/extensions',\n",
       " '/home/kai/.ipython',\n",
       " '/home/kai/data/shiyi/AlphaBoosting/shiyi/All_about_logging']"
      ]
     },
     "execution_count": 4,
     "metadata": {},
     "output_type": "execute_result"
    }
   ],
   "source": [
    "sys.path"
   ]
  },
  {
   "cell_type": "code",
   "execution_count": 5,
   "metadata": {
    "ExecuteTime": {
     "end_time": "2018-06-13T16:02:42.797373Z",
     "start_time": "2018-06-13T16:02:42.777815Z"
    }
   },
   "outputs": [],
   "source": [
    "%load_ext autoreload"
   ]
  },
  {
   "cell_type": "code",
   "execution_count": 6,
   "metadata": {
    "ExecuteTime": {
     "end_time": "2018-06-13T16:02:43.363026Z",
     "start_time": "2018-06-13T16:02:43.359411Z"
    }
   },
   "outputs": [],
   "source": [
    "%autoreload 2"
   ]
  },
  {
   "cell_type": "code",
   "execution_count": 7,
   "metadata": {
    "ExecuteTime": {
     "end_time": "2018-06-13T16:02:46.219568Z",
     "start_time": "2018-06-13T16:02:45.987638Z"
    }
   },
   "outputs": [],
   "source": [
    "from automl_libs import feature_engineering as fe\n",
    "from automl_libs import encoding, kernels "
   ]
  },
  {
   "cell_type": "code",
   "execution_count": 8,
   "metadata": {
    "ExecuteTime": {
     "end_time": "2018-06-13T16:02:47.812735Z",
     "start_time": "2018-06-13T16:02:47.789297Z"
    }
   },
   "outputs": [],
   "source": [
    "func_map = {\n",
    "    'count':                         fe.count,\n",
    "    'unique_count':                  fe.unique_count,\n",
    "    'cumulative_count':              fe.cumulative_count,\n",
    "    'reverse_cumulative_count':      fe.reverse_cumulative_count,\n",
    "    'variance':                      fe.variance,\n",
    "    'count_std_over_mean':           fe.count_std_over_mean,\n",
    "    'time_to_n_next':                fe.time_to_n_next,\n",
    "    'count_in_previous_n_time_unit': fe.count_in_previous_n_time_unit,\n",
    "    'count_in_next_n_time_unit':     fe.count_in_next_n_time_unit,\n",
    "    'woe':                           encoding.woe,\n",
    "    'chi_square':                    encoding.chi_square,\n",
    "    'mean':                          encoding.mean,\n",
    "    'square':                        kernels.square\n",
    "}"
   ]
  },
  {
   "cell_type": "code",
   "execution_count": 9,
   "metadata": {
    "ExecuteTime": {
     "end_time": "2018-06-13T16:02:50.227024Z",
     "start_time": "2018-06-13T16:02:50.207509Z"
    },
    "collapsed": true
   },
   "outputs": [],
   "source": [
    "from app import AlphaBoosting"
   ]
  },
  {
   "cell_type": "code",
   "execution_count": 11,
   "metadata": {
    "ExecuteTime": {
     "end_time": "2018-06-13T16:04:12.327799Z",
     "start_time": "2018-06-13T16:04:10.254663Z"
    }
   },
   "outputs": [
    {
     "name": "stdout",
     "output_type": "stream",
     "text": [
      "First time running...\n",
      "save run record\n",
      "generate todo list\n",
      "feature engineering\n",
      "validation\n",
      "concat test\n",
      "grid search\n"
     ]
    }
   ],
   "source": [
    "a = AlphaBoosting(root='./', train_csv_url='./a.txt', test_csv_url='./b.txt', \n",
    "                  validation_index=[1,2], func_map=func_map, label='l',down_sampling_ratio=0.5, downsampling=2)"
   ]
  },
  {
   "cell_type": "code",
   "execution_count": null,
   "metadata": {
    "collapsed": true
   },
   "outputs": [],
   "source": []
  }
 ],
 "metadata": {
  "kernelspec": {
   "display_name": "Python 3",
   "language": "python",
   "name": "python3"
  },
  "language_info": {
   "codemirror_mode": {
    "name": "ipython",
    "version": 3
   },
   "file_extension": ".py",
   "mimetype": "text/x-python",
   "name": "python",
   "nbconvert_exporter": "python",
   "pygments_lexer": "ipython3",
   "version": "3.6.3"
  },
  "varInspector": {
   "cols": {
    "lenName": 16,
    "lenType": 16,
    "lenVar": 40
   },
   "kernels_config": {
    "python": {
     "delete_cmd_postfix": "",
     "delete_cmd_prefix": "del ",
     "library": "var_list.py",
     "varRefreshCmd": "print(var_dic_list())"
    },
    "r": {
     "delete_cmd_postfix": ") ",
     "delete_cmd_prefix": "rm(",
     "library": "var_list.r",
     "varRefreshCmd": "cat(var_dic_list()) "
    }
   },
   "types_to_exclude": [
    "module",
    "function",
    "builtin_function_or_method",
    "instance",
    "_Feature"
   ],
   "window_display": false
  }
 },
 "nbformat": 4,
 "nbformat_minor": 2
}
