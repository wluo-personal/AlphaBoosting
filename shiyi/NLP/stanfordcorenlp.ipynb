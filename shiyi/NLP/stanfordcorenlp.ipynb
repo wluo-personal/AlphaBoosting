{
 "cells": [
  {
   "cell_type": "code",
   "execution_count": 1,
   "metadata": {
    "ExecuteTime": {
     "end_time": "2018-09-05T17:52:03.772543Z",
     "start_time": "2018-09-05T17:52:03.642636Z"
    }
   },
   "outputs": [],
   "source": [
    "from stanfordcorenlp import StanfordCoreNLP"
   ]
  },
  {
   "cell_type": "code",
   "execution_count": 5,
   "metadata": {
    "ExecuteTime": {
     "end_time": "2018-09-05T17:57:21.306503Z",
     "start_time": "2018-09-05T17:57:20.197767Z"
    }
   },
   "outputs": [],
   "source": [
    "nlp = StanfordCoreNLP(r'/home/kai/data/tools/stanfordcorenlp/stanford-corenlp-full-2018-02-27')"
   ]
  },
  {
   "cell_type": "code",
   "execution_count": 4,
   "metadata": {
    "ExecuteTime": {
     "end_time": "2018-09-05T17:55:50.110809Z",
     "start_time": "2018-09-05T17:55:31.427509Z"
    }
   },
   "outputs": [
    {
     "name": "stdout",
     "output_type": "stream",
     "text": [
      "Tokenize: ['Guangdong', 'University', 'of', 'Foreign', 'Studies', 'is', 'located', 'in', 'Guangzhou', '.']\n",
      "Part of Speech: [('Guangdong', 'NNP'), ('University', 'NNP'), ('of', 'IN'), ('Foreign', 'NNP'), ('Studies', 'NNPS'), ('is', 'VBZ'), ('located', 'JJ'), ('in', 'IN'), ('Guangzhou', 'NNP'), ('.', '.')]\n",
      "Named Entities: [('Guangdong', 'ORGANIZATION'), ('University', 'ORGANIZATION'), ('of', 'ORGANIZATION'), ('Foreign', 'ORGANIZATION'), ('Studies', 'ORGANIZATION'), ('is', 'O'), ('located', 'O'), ('in', 'O'), ('Guangzhou', 'CITY'), ('.', 'O')]\n",
      "Constituency Parsing: (ROOT\n",
      "  (S\n",
      "    (NP\n",
      "      (NP (NNP Guangdong) (NNP University))\n",
      "      (PP (IN of)\n",
      "        (NP (NNP Foreign) (NNPS Studies))))\n",
      "    (VP (VBZ is)\n",
      "      (ADJP (JJ located)\n",
      "        (PP (IN in)\n",
      "          (NP (NNP Guangzhou)))))\n",
      "    (. .)))\n",
      "Dependency Parsing: [('ROOT', 0, 7), ('compound', 2, 1), ('nsubjpass', 7, 2), ('case', 5, 3), ('compound', 5, 4), ('nmod', 2, 5), ('auxpass', 7, 6), ('case', 9, 8), ('nmod', 7, 9), ('punct', 7, 10)]\n"
     ]
    }
   ],
   "source": [
    "sentence ='Guangdong University of Foreign Studies is located in Guangzhou.'\n",
    "print('Tokenize:', nlp.word_tokenize(sentence))\n",
    "print('Part of Speech:', nlp.pos_tag(sentence))\n",
    "print('Named Entities:', nlp.ner(sentence))\n",
    "print('Constituency Parsing:', nlp.parse(sentence))\n",
    "print('Dependency Parsing:', nlp.dependency_parse(sentence))\n",
    "\n",
    "nlp.close() "
   ]
  },
  {
   "cell_type": "code",
   "execution_count": 14,
   "metadata": {
    "ExecuteTime": {
     "end_time": "2018-09-05T18:15:39.487555Z",
     "start_time": "2018-09-05T18:15:39.483520Z"
    }
   },
   "outputs": [],
   "source": [
    "sen1 = 'I need a desk for tomorrow from 2pm to 3pm'"
   ]
  },
  {
   "cell_type": "code",
   "execution_count": 8,
   "metadata": {
    "ExecuteTime": {
     "end_time": "2018-09-05T18:08:02.416115Z",
     "start_time": "2018-09-05T18:08:02.412607Z"
    }
   },
   "outputs": [],
   "source": [
    "from sutime import SUTime\n",
    "\n",
    "import os\n",
    "import json\n",
    "\n",
    "jar_files = r'/home/kai/data/tools/stanfordcorenlp/sutime/python-sutime/jars/'\n",
    "\n",
    "sutime = SUTime(jars=jar_files, mark_time_ranges=True)"
   ]
  },
  {
   "cell_type": "code",
   "execution_count": 43,
   "metadata": {
    "ExecuteTime": {
     "end_time": "2018-09-05T20:46:34.749610Z",
     "start_time": "2018-09-05T20:46:34.746086Z"
    }
   },
   "outputs": [],
   "source": [
    "test_case1 = u'I need a desk for tomorrow from 2pm to 3pm'"
   ]
  },
  {
   "cell_type": "code",
   "execution_count": 44,
   "metadata": {
    "ExecuteTime": {
     "end_time": "2018-09-05T20:46:35.016267Z",
     "start_time": "2018-09-05T20:46:34.983796Z"
    }
   },
   "outputs": [
    {
     "data": {
      "text/plain": [
       "[{'start': 18,\n",
       "  'end': 26,\n",
       "  'text': 'tomorrow',\n",
       "  'type': 'DATE',\n",
       "  'value': '2018-09-06'},\n",
       " {'start': 27,\n",
       "  'end': 42,\n",
       "  'text': 'from 2pm to 3pm',\n",
       "  'type': 'DURATION',\n",
       "  'value': {'end': 'T15:00', 'begin': 'T14:00'}}]"
      ]
     },
     "execution_count": 44,
     "metadata": {},
     "output_type": "execute_result"
    }
   ],
   "source": [
    "sutime.parse(test_case1)"
   ]
  },
  {
   "cell_type": "code",
   "execution_count": 56,
   "metadata": {
    "ExecuteTime": {
     "end_time": "2018-09-05T20:51:41.194730Z",
     "start_time": "2018-09-05T20:51:41.191000Z"
    }
   },
   "outputs": [],
   "source": [
    "test_case2 = u\"Pay back in October or November next year\""
   ]
  },
  {
   "cell_type": "code",
   "execution_count": 57,
   "metadata": {
    "ExecuteTime": {
     "end_time": "2018-09-05T20:51:41.443294Z",
     "start_time": "2018-09-05T20:51:41.413991Z"
    }
   },
   "outputs": [
    {
     "data": {
      "text/plain": [
       "[{'start': 12,\n",
       "  'end': 19,\n",
       "  'text': 'October',\n",
       "  'type': 'DATE',\n",
       "  'value': '2018-10'},\n",
       " {'start': 23,\n",
       "  'end': 41,\n",
       "  'text': 'November next year',\n",
       "  'type': 'DATE',\n",
       "  'value': '2019-11'}]"
      ]
     },
     "execution_count": 57,
     "metadata": {},
     "output_type": "execute_result"
    }
   ],
   "source": [
    "sutime.parse(test_case2)"
   ]
  },
  {
   "cell_type": "code",
   "execution_count": 51,
   "metadata": {
    "ExecuteTime": {
     "end_time": "2018-09-05T20:51:06.739440Z",
     "start_time": "2018-09-05T20:50:56.065875Z"
    }
   },
   "outputs": [
    {
     "name": "stdout",
     "output_type": "stream",
     "text": [
      "['明天', '两', '点', '到', '四点']\n",
      "[('明天', 'DATE'), ('两', 'NUMBER'), ('点', 'O'), ('到', 'O'), ('四点', 'TIME')]\n"
     ]
    }
   ],
   "source": [
    "# sentence = '清华大学位于北京'\n",
    "sentence = '明天两点到四点'\n",
    "\n",
    "with StanfordCoreNLP(r'/home/kai/data/tools/stanfordcorenlp/stanford-corenlp-full-2018-02-27', lang='zh') as nlp:\n",
    "    print(nlp.word_tokenize(sentence))\n",
    "#     print(nlp.pos_tag(sentence))\n",
    "    print(nlp.ner(sentence))\n",
    "#     print(nlp.parse(sentence))\n",
    "#     print(nlp.dependency_parse(sentence))"
   ]
  },
  {
   "cell_type": "code",
   "execution_count": null,
   "metadata": {},
   "outputs": [],
   "source": []
  }
 ],
 "metadata": {
  "kernelspec": {
   "display_name": "Python 3",
   "language": "python",
   "name": "python3"
  },
  "language_info": {
   "codemirror_mode": {
    "name": "ipython",
    "version": 3
   },
   "file_extension": ".py",
   "mimetype": "text/x-python",
   "name": "python",
   "nbconvert_exporter": "python",
   "pygments_lexer": "ipython3",
   "version": "3.6.5"
  },
  "varInspector": {
   "cols": {
    "lenName": 16,
    "lenType": 16,
    "lenVar": 40
   },
   "kernels_config": {
    "python": {
     "delete_cmd_postfix": "",
     "delete_cmd_prefix": "del ",
     "library": "var_list.py",
     "varRefreshCmd": "print(var_dic_list())"
    },
    "r": {
     "delete_cmd_postfix": ") ",
     "delete_cmd_prefix": "rm(",
     "library": "var_list.r",
     "varRefreshCmd": "cat(var_dic_list()) "
    }
   },
   "types_to_exclude": [
    "module",
    "function",
    "builtin_function_or_method",
    "instance",
    "_Feature"
   ],
   "window_display": false
  }
 },
 "nbformat": 4,
 "nbformat_minor": 2
}
