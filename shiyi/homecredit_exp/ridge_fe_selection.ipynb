{
 "cells": [
  {
   "cell_type": "code",
   "execution_count": 72,
   "metadata": {
    "ExecuteTime": {
     "end_time": "2018-09-07T20:37:17.078270Z",
     "start_time": "2018-09-07T20:37:17.074390Z"
    }
   },
   "outputs": [],
   "source": [
    "import warnings\n",
    "warnings.filterwarnings('ignore')"
   ]
  },
  {
   "cell_type": "code",
   "execution_count": 73,
   "metadata": {
    "ExecuteTime": {
     "end_time": "2018-09-07T20:37:29.509623Z",
     "start_time": "2018-09-07T20:37:29.505916Z"
    }
   },
   "outputs": [],
   "source": [
    "import time"
   ]
  },
  {
   "cell_type": "code",
   "execution_count": 1,
   "metadata": {
    "ExecuteTime": {
     "end_time": "2018-09-07T19:32:43.843617Z",
     "start_time": "2018-09-07T19:32:43.614800Z"
    }
   },
   "outputs": [],
   "source": [
    "import pandas as pd"
   ]
  },
  {
   "cell_type": "code",
   "execution_count": 3,
   "metadata": {
    "ExecuteTime": {
     "end_time": "2018-09-07T19:33:05.078114Z",
     "start_time": "2018-09-07T19:33:03.827734Z"
    }
   },
   "outputs": [],
   "source": [
    "train_bo2 = pd.read_pickle('/home/kai/data/shiyi/data/home_credit/train_bo2.pkl')\n",
    "test_bo2 = pd.read_pickle('/home/kai/data/shiyi/data/home_credit/test_bo2.pkl')\n",
    "\n",
    "train_bo2.SK_ID_CURR = train_bo2.SK_ID_CURR.astype(int)\n",
    "test_bo2.SK_ID_CURR = test_bo2.SK_ID_CURR.astype(int)"
   ]
  },
  {
   "cell_type": "code",
   "execution_count": 131,
   "metadata": {
    "ExecuteTime": {
     "end_time": "2018-09-07T21:33:13.164647Z",
     "start_time": "2018-09-07T21:33:05.206408Z"
    }
   },
   "outputs": [
    {
     "name": "stderr",
     "output_type": "stream",
     "text": [
      "100%|██████████| 2678/2678 [00:07<00:00, 336.82it/s]\n"
     ]
    }
   ],
   "source": [
    "cat_cols = []\n",
    "for col in tqdm(test_bo2.columns):\n",
    "    n = train_bo2[col].nunique()\n",
    "    if n<10:\n",
    "        cat_cols.append(col)"
   ]
  },
  {
   "cell_type": "code",
   "execution_count": 134,
   "metadata": {
    "ExecuteTime": {
     "end_time": "2018-09-07T21:50:07.615657Z",
     "start_time": "2018-09-07T21:50:07.611919Z"
    }
   },
   "outputs": [],
   "source": [
    "cat_cols.remove('TARGET')                                                                                "
   ]
  },
  {
   "cell_type": "code",
   "execution_count": 135,
   "metadata": {
    "ExecuteTime": {
     "end_time": "2018-09-07T21:50:11.135607Z",
     "start_time": "2018-09-07T21:50:11.130383Z"
    }
   },
   "outputs": [
    {
     "data": {
      "text/plain": [
       "199"
      ]
     },
     "execution_count": 135,
     "metadata": {},
     "output_type": "execute_result"
    }
   ],
   "source": [
    "len(cat_cols)"
   ]
  },
  {
   "cell_type": "code",
   "execution_count": 136,
   "metadata": {
    "ExecuteTime": {
     "end_time": "2018-09-07T21:52:22.119751Z",
     "start_time": "2018-09-07T21:50:30.843353Z"
    }
   },
   "outputs": [
    {
     "name": "stderr",
     "output_type": "stream",
     "text": [
      "100%|██████████| 199/199 [01:37<00:00,  2.04it/s]\n"
     ]
    }
   ],
   "source": [
    "import copy\n",
    "train_count = copy.copy(train_bo2)\n",
    "test_count = copy.copy(test_bo2)\n",
    "train_count = train_count.fillna(-99999)\n",
    "test_count = test_count.fillna(-99999)\n",
    "train_count[\"test\"]=0\n",
    "test_count[\"test\"]=1\n",
    "temp_df = pd.concat([train_count,test_count],axis=0)\n",
    "for col in tqdm(cat_cols):\n",
    "    temp_df.loc[:,col]=temp_df.loc[:,col].astype('category')\n",
    "train_count=temp_df[temp_df[\"test\"]==0].iloc[:,:-1]\n",
    "test_count=temp_df[temp_df[\"test\"]==1].iloc[:,:-1]"
   ]
  },
  {
   "cell_type": "code",
   "execution_count": 137,
   "metadata": {
    "ExecuteTime": {
     "end_time": "2018-09-07T21:52:23.294822Z",
     "start_time": "2018-09-07T21:52:22.906001Z"
    }
   },
   "outputs": [
    {
     "name": "stderr",
     "output_type": "stream",
     "text": [
      "100%|██████████| 199/199 [00:00<00:00, 518.27it/s]\n"
     ]
    }
   ],
   "source": [
    "for col in tqdm(cat_cols):\n",
    "#     counts = train_count.iloc[:,i].value_counts()\n",
    "    counts = train_count[col].value_counts()\n",
    "    counts = counts.sort_index()\n",
    "    counts = counts.fillna(0)\n",
    "    counts += np.random.rand(len(counts))/1000\n",
    "    train_count.loc[:,col].cat.categories = counts\n",
    "    test_count.loc[:,col].cat.categories = counts"
   ]
  },
  {
   "cell_type": "code",
   "execution_count": 122,
   "metadata": {
    "ExecuteTime": {
     "end_time": "2018-09-07T21:30:07.180398Z",
     "start_time": "2018-09-07T21:30:07.173768Z"
    }
   },
   "outputs": [
    {
     "data": {
      "text/plain": [
       "0.0    264503\n",
       "1.0      1292\n",
       "2.0       106\n",
       "3.0        45\n",
       "4.0        26\n",
       "5.0         9\n",
       "6.0         8\n",
       "9.0         2\n",
       "8.0         1\n",
       "Name: AMT_REQ_CREDIT_BUREAU_DAY, dtype: int64"
      ]
     },
     "execution_count": 122,
     "metadata": {},
     "output_type": "execute_result"
    }
   ],
   "source": [
    "train_bo2[cat_cols[0]].value_counts()"
   ]
  },
  {
   "cell_type": "code",
   "execution_count": 123,
   "metadata": {
    "ExecuteTime": {
     "end_time": "2018-09-07T21:30:12.286234Z",
     "start_time": "2018-09-07T21:30:12.270704Z"
    }
   },
   "outputs": [
    {
     "data": {
      "text/plain": [
       "264503.000806    264503\n",
       "41519.000378      41519\n",
       "1292.000228        1292\n",
       "106.000124          106\n",
       "45.000926            45\n",
       "26.000379            26\n",
       "9.000728              9\n",
       "8.000448              8\n",
       "2.000487              2\n",
       "1.000802              1\n",
       "Name: AMT_REQ_CREDIT_BUREAU_DAY, dtype: int64"
      ]
     },
     "execution_count": 123,
     "metadata": {},
     "output_type": "execute_result"
    }
   ],
   "source": [
    "train_count[cat_cols[0]].value_counts()"
   ]
  },
  {
   "cell_type": "code",
   "execution_count": 138,
   "metadata": {
    "ExecuteTime": {
     "end_time": "2018-09-07T21:52:34.636766Z",
     "start_time": "2018-09-07T21:52:34.258000Z"
    }
   },
   "outputs": [],
   "source": [
    "for col in cat_cols:\n",
    "    train_count[col] = train_count[col].astype(float)\n",
    "    test_count[col] = test_count[col].astype(float)"
   ]
  },
  {
   "cell_type": "code",
   "execution_count": 142,
   "metadata": {
    "ExecuteTime": {
     "end_time": "2018-09-07T21:54:08.752051Z",
     "start_time": "2018-09-07T21:54:03.113595Z"
    }
   },
   "outputs": [],
   "source": [
    "num_cols = [col for col in test_count.columns if col not in cat_cols]\n",
    "train_count[num_cols] = train_count[num_cols].fillna(0)"
   ]
  },
  {
   "cell_type": "code",
   "execution_count": 143,
   "metadata": {
    "ExecuteTime": {
     "end_time": "2018-09-07T21:54:14.137642Z",
     "start_time": "2018-09-07T21:54:11.463789Z"
    }
   },
   "outputs": [],
   "source": [
    "train_p = train_count\n",
    "X = train_p.drop(columns=['TARGET', 'SK_ID_CURR'])\n",
    "y = train_p['TARGET']"
   ]
  },
  {
   "cell_type": "code",
   "execution_count": 144,
   "metadata": {
    "ExecuteTime": {
     "end_time": "2018-09-07T21:54:14.818790Z",
     "start_time": "2018-09-07T21:54:14.814982Z"
    }
   },
   "outputs": [],
   "source": [
    "from sklearn.linear_model import RidgeClassifier\n",
    "\n",
    "from sklearn.model_selection import cross_val_score\n",
    "\n",
    "clf = RidgeClassifier()"
   ]
  },
  {
   "cell_type": "code",
   "execution_count": 68,
   "metadata": {
    "ExecuteTime": {
     "end_time": "2018-09-07T20:35:31.988476Z",
     "start_time": "2018-09-07T20:31:12.422039Z"
    }
   },
   "outputs": [
    {
     "data": {
      "text/plain": [
       "0.7665596401369761"
      ]
     },
     "execution_count": 68,
     "metadata": {},
     "output_type": "execute_result"
    }
   ],
   "source": [
    "scores = cross_val_score(clf, X, y, cv=5, scoring='roc_auc')\n",
    "scores = scores.mean()"
   ]
  },
  {
   "cell_type": "code",
   "execution_count": 77,
   "metadata": {
    "ExecuteTime": {
     "end_time": "2018-09-07T20:43:41.612727Z",
     "start_time": "2018-09-07T20:43:41.609199Z"
    }
   },
   "outputs": [],
   "source": [
    "from tqdm import tqdm"
   ]
  },
  {
   "cell_type": "code",
   "execution_count": 150,
   "metadata": {
    "ExecuteTime": {
     "end_time": "2018-09-08T01:29:36.507591Z",
     "start_time": "2018-09-07T23:43:36.177001Z"
    },
    "scrolled": true
   },
   "outputs": [
    {
     "name": "stdout",
     "output_type": "stream",
     "text": [
      "#0/1303 | NO!! prev_AMT_CREDIT_divide_DAYS_FIRST_DRAWING_minus_DAYS_LAST_DUE_1ST_VERSION_median [365] 0.737549\n",
      "#1/1303 | NO!! prev_AMT_ANNUITY_divide_CNT_PAYMENT_sum [365] 0.737549\n",
      "#2/1303 | NO!! inst_AMT_ONTIME_PAYMENT_min [365] 0.737549\n",
      "#3/1303 | NO!! creditcard_AMT_BALANCE_divide_AMT_PAYMENT_CURRENT_median [365] 0.737549\n",
      "#4/1303 | NO!! bureau_AMT_CREDIT_MAX_OVERDUE_divide_AMT_CREDIT_SUM_OVERDUE_median [365] 0.737549\n",
      "#5/1303 | NO!! prev_AMT_GOODS_PRICE_divide_DAYS_LAST_DUE_1ST_VERSION_minus_DAYS_LAST_DUE_max [365] 0.737549\n",
      "#6/1303 | YES! bureau_AMT_CREDIT_SUM_divide_AMT_ANNUITY_mean [366] 0.737562\n",
      "#7/1303 | YES! prev_CNT_PAYMENT_max [367] 0.737922\n",
      "#8/1303 | NO!! prev_AMT_GOODS_PRICE_divide_DAYS_TERMINATION_min [367] 0.737922\n",
      "#9/1303 | NO!! bureau_DAYS_CREDIT_ENDDATE_mean [367] 0.737922\n",
      "#10/1303 | NO!! prev_DAYS_FIRST_DUE_minus_DAYS_LAST_DUE_sum [367] 0.737922\n",
      "#11/1303 | YES! prev_DAYS_FIRST_DRAWING_minus_DAYS_TERMINATION_sum [368] 0.737926\n",
      "#12/1303 | YES! bureau_onehot_STATUS_0_median [369] 0.737956\n",
      "#13/1303 | YES! bureau_AMT_CREDIT_MAX_OVERDUE_divide_AMT_CREDIT_SUM_DEBT_std [370] 0.738115\n",
      "#14/1303 | NO!! prev_DAYS_FIRST_DRAWING_minus_DAYS_LAST_DUE_1ST_VERSION_sum [370] 0.738115\n",
      "#15/1303 | YES! prev_onehot_FLAG_NAME_GOODS_CATEGORY_0.0_divide_count_SK_ID_CURR [371] 0.738125\n",
      "#16/1303 | YES! prev_onehot_FLAG_NAME_CASH_LOAN_PURPOSE_2.0_divide_count_SK_ID_CURR [372] 0.738147\n",
      "#17/1303 | NO!! prev_AMT_GOODS_PRICE_divide_DAYS_FIRST_DUE_minus_DAYS_TERMINATION_median [372] 0.738147\n",
      "#18/1303 | NO!! bureau_DAYS_ENDDATE_FACT_mean [372] 0.738147\n",
      "#19/1303 | NO!! bureau_AMT_CREDIT_MAX_OVERDUE_divide_DAYS_CREDIT_ENDDATE_min [372] 0.738147\n",
      "#20/1303 | YES! bureau_AMT_CREDIT_MAX_OVERDUE_divide_CNT_CREDIT_PROLONG_max [373] 0.738266\n",
      "#21/1303 | NO!! bureau_AMT_CREDIT_MAX_OVERDUE_divide_DAYS_CREDIT_ENDDATE_max [373] 0.738266\n",
      "#22/1303 | YES! bureau_AMT_CREDIT_MAX_OVERDUE_divide_CREDIT_DAY_OVERDUE_sum [374] 0.738411\n",
      "#23/1303 | YES! bureau_AMT_ANNUITY_divide_DAYS_CREDIT_UPDATE_min [375] 0.738445\n",
      "#24/1303 | YES! bureau_AMT_ANNUITY_divide_DAYS_CREDIT_min [376] 0.738506\n",
      "#25/1303 | NO!! bureau_onehot_STATUS_X_min [376] 0.738506\n",
      "#26/1303 | NO!! prev_DAYS_FIRST_DUE_median [376] 0.738506\n",
      "#27/1303 | NO!! bureau_AMT_CREDIT_SUM_DEBT_divide_AMT_CREDIT_SUM_OVERDUE_mean [376] 0.738506\n",
      "#28/1303 | NO!! prev_AMT_GOODS_PRICE_divide_DAYS_LAST_DUE_minus_DAYS_TERMINATION_median [376] 0.738506\n",
      "#29/1303 | YES! bureau_AMT_CREDIT_SUM_divide_AMT_CREDIT_SUM_OVERDUE_median [377] 0.738524\n",
      "#30/1303 | NO!! prev_AMT_GOODS_PRICE_divide_DAYS_TERMINATION_max [377] 0.738524\n",
      "#31/1303 | NO!! bureau_agg__AMT_CREDIT_MAX_OVERDUE_divide_DAYS_CREDIT_max_minus_min [377] 0.738524\n",
      "#32/1303 | NO!! bureau_AMT_CREDIT_SUM_DEBT_divide_AMT_CREDIT_SUM_LIMIT_median [377] 0.738524\n",
      "#33/1303 | NO!! prev_DAYS_LAST_DUE_min [377] 0.738524\n",
      "#34/1303 | NO!! prev_DAYS_FIRST_DUE_minus_DAYS_LAST_DUE_1ST_VERSION_median [377] 0.738524\n",
      "#35/1303 | YES! prev_DAYS_FIRST_DRAWING_minus_DAYS_LAST_DUE_1ST_VERSION_mean [378] 0.738534\n",
      "#36/1303 | YES! bureau_AMT_CREDIT_SUM_DEBT_divide_DAYS_CREDIT_UPDATE_sum [379] 0.738541\n",
      "#37/1303 | NO!! prev_AMT_DOWN_PAYMENT_divide_DAYS_LAST_DUE_1ST_VERSION_minus_DAYS_LAST_DUE_median [379] 0.738541\n",
      "#38/1303 | YES! onehot_NAME_CONTRACT_STATUS_Completed_divide_unique_prev [380] 0.738551\n",
      "#39/1303 | YES! bureau_count_SK_ID_CURR [381] 0.738556\n",
      "#40/1303 | YES! prev_onehot_NAME_YIELD_GROUP_0.0_divide_count_SK_ID_CURR [382] 0.738694\n",
      "#41/1303 | YES! bureau_AMT_CREDIT_SUM_LIMIT_divide_DAYS_CREDIT_ENDDATE_mean [383] 0.738747\n",
      "#42/1303 | NO!! inst_positivecount_LATE_DAYS_SIGN_std [383] 0.738747\n",
      "#43/1303 | NO!! livingsum_AVG [383] 0.738747\n",
      "#44/1303 | NO!! prev_AMT_DOWN_PAYMENT_divide_DAYS_FIRST_DUE_minus_DAYS_LAST_DUE_mean [383] 0.738747\n",
      "#45/1303 | YES! bureau_AMT_CREDIT_SUM_DEBT_sum [384] 0.738750\n",
      "#46/1303 | NO!! inst_slope_RATE_LATE_PAYMENT_min_min [384] 0.738750\n",
      "#47/1303 | NO!! bureau_AMT_CREDIT_SUM_DEBT_divide_CNT_CREDIT_PROLONG_std [384] 0.738750\n",
      "#48/1303 | YES! bureau_AMT_CREDIT_SUM_DEBT_divide_CNT_CREDIT_PROLONG_sum [385] 0.738787\n",
      "#49/1303 | NO!! inst_LATE_DAYS_SIGN_area_AMT_LATE_PAYMENT_std [385] 0.738787\n",
      "#50/1303 | NO!! CNT_INSTALMENT_FUTURE_sum [385] 0.738787\n",
      "#51/1303 | NO!! inst_slope_RATE_LATE_PAYMENT_mean_mean [385] 0.738787\n",
      "#52/1303 | YES! bureau_agg__DAYS_CREDIT_ENDDATE_max_minus_min [386] 0.738798\n",
      "#53/1303 | NO!! prev_AMT_CREDIT_divide_DAYS_TERMINATION_max [386] 0.738798\n",
      "#54/1303 | YES! prev_DAYS_FIRST_DRAWING_minus_DAYS_TERMINATION_min [387] 0.738853\n",
      "#55/1303 | YES! bureau_AMT_CREDIT_SUM_LIMIT_divide_AMT_CREDIT_SUM_OVERDUE_std [388] 0.738985\n",
      "#56/1303 | NO!! livingsum_AVG_divide_members [388] 0.738985\n",
      "#57/1303 | NO!! prev_onehot_NAME_CONTRACT_TYPE_Revolving loans_divide_count_SK_ID_CURR [388] 0.738985\n",
      "#58/1303 | YES! creditcard_AMT_DRAWINGS_CURRENT_divide_CNT_INSTALMENT_MATURE_CUM_mean [389] 0.739045\n",
      "#59/1303 | NO!! prev_AMT_DOWN_PAYMENT_divide_DAYS_LAST_DUE_max [389] 0.739045\n",
      "#60/1303 | NO!! prev_AMT_DOWN_PAYMENT_divide_DAYS_LAST_DUE_1ST_VERSION_min [389] 0.739045\n",
      "#61/1303 | NO!! prev_onehot_NAME_TYPE_SUITE_Other_B_divide_count_SK_ID_CURR [389] 0.739045\n",
      "#62/1303 | YES! inst_slope_RATE_LATE_PAYMENT_mean_max [390] 0.739049\n",
      "#63/1303 | YES! possible_future_install_max [391] 0.739286\n",
      "#64/1303 | NO!! count_prev_min [391] 0.739286\n",
      "#65/1303 | YES! prev_onehot_NAME_SELLER_INDUSTRY_XNA_divide_count_SK_ID_CURR [392] 0.739341\n",
      "#66/1303 | NO!! bureau_agg__AMT_CREDIT_SUM_DEBT_divide_DAYS_CREDIT_max_minus_min [392] 0.739341\n",
      "#67/1303 | NO!! prev_AMT_DOWN_PAYMENT_divide_DAYS_FIRST_DRAWING_minus_DAYS_LAST_DUE_1ST_VERSION_max [392] 0.739341\n",
      "#68/1303 | NO!! inst_RATE_AMT_LATE_PAYMENT_mean [392] 0.739341\n",
      "#69/1303 | NO!! inst_negativecount_slope_RATE_LATE_PAYMENT_std [392] 0.739341\n",
      "#70/1303 | NO!! bureau_agg__AMT_CREDIT_SUM_divide_AMT_CREDIT_SUM_DEBT_normed_std [392] 0.739341\n",
      "#71/1303 | NO!! inst_RATE_AMT_LATE_PAYMENT_sum [392] 0.739341\n",
      "#72/1303 | NO!! BASEMENTAREA_MODE [392] 0.739341\n",
      "#73/1303 | YES! inst_agg__DAYS_ENTRY_PAYMENT_two_minus_one_third [393] 0.739352\n",
      "#74/1303 | NO!! prev_AMT_DOWN_PAYMENT_divide_DAYS_FIRST_DRAWING_median [393] 0.739352\n",
      "#75/1303 | NO!! APARTMENTS_AVG [393] 0.739352\n",
      "#76/1303 | NO!! inst_normalslope_AMT_LATE_PAYMENT_max_std [393] 0.739352\n",
      "#77/1303 | NO!! bureau_AMT_CREDIT_SUM_divide_AMT_ANNUITY_sum [393] 0.739352\n",
      "#78/1303 | NO!! prev_onehot_NAME_PORTFOLIO_POS_divide_count_SK_ID_CURR [393] 0.739352\n",
      "#79/1303 | YES! creditcard_AMT_PAYMENT_TOTAL_CURRENT_divide_AMT_RECIVABLE_median [394] 0.739363\n",
      "#80/1303 | YES! prev_AMT_DOWN_PAYMENT_divide_DAYS_DECISION_min [395] 0.739363\n",
      "#81/1303 | YES! inst_agg__DAYS_ENTRY_PAYMENT_minus_DAYS_INSTALMENT_divide_AMT_INSTALMENT_minus_AMT_PAYMENT_max_minus_min [396] 0.739375\n",
      "#82/1303 | NO!! prev_AMT_DOWN_PAYMENT_divide_DAYS_DECISION_mean [396] 0.739375\n",
      "#83/1303 | NO!! prev_AMT_DOWN_PAYMENT_divide_CNT_PAYMENT_sum [396] 0.739375\n",
      "#84/1303 | NO!! prev_AMT_DOWN_PAYMENT_divide_CNT_PAYMENT_median [396] 0.739375\n",
      "#85/1303 | YES! prev_CNT_PAYMENT_sum [397] 0.739529\n",
      "#86/1303 | YES! prev_onehot_CODE_REJECT_REASON_LIMIT_divide_count_SK_ID_CURR [398] 0.739556\n",
      "#87/1303 | YES! inst_positivecount_EARLY_DAYS_SIGN_divide_count_SK_ID_PREV_NUM_INSTALMENT_NUMBER_DAYS_INSTALMENT_SK_ID_CURR_sum [399] 0.739617\n",
      "#88/1303 | NO!! count_prev_mean [399] 0.739617\n",
      "#89/1303 | YES! prev_AMT_APPLICATION_min [400] 0.739636\n",
      "#90/1303 | NO!! inst_LATE_DAYS_SIGN_area_AMT_LATE_PAYMENT_sum [400] 0.739636\n",
      "#91/1303 | NO!! LANDAREA_MODE [400] 0.739636\n",
      "#92/1303 | NO!! prev_AMT_CREDIT_divide_DAYS_LAST_DUE_minus_DAYS_TERMINATION_max [400] 0.739636\n",
      "#93/1303 | NO!! bureau_AMT_CREDIT_SUM_LIMIT_divide_DAYS_CREDIT_UPDATE_min [400] 0.739636\n",
      "#94/1303 | YES! inst_LATE_DAYS_SIGN_area_RATE_LATE_PAYMENT_max [401] 0.739638\n",
      "#95/1303 | NO!! prev_AMT_CREDIT_divide_DAYS_TERMINATION_mean [401] 0.739638\n",
      "#96/1303 | YES! prev_onehot_CODE_REJECT_REASON_SCOFR_divide_count_SK_ID_CURR [402] 0.739654\n",
      "#97/1303 | NO!! inst_LATE_DAYS_SIGN_normalarea_AMT_LATE_PAYMENT_std [402] 0.739654\n",
      "#98/1303 | YES! REG_CITY_NOT_LIVE_CITY [403] 0.740079\n",
      "#99/1303 | NO!! prev_AMT_GOODS_PRICE_divide_DAYS_LAST_DUE_1ST_VERSION_minus_DAYS_TERMINATION_min [403] 0.740079\n",
      "#100/1303 | YES! REGION_RATING_CLIENT_W_CITY_times_livingsum_AVG [404] 0.740230\n",
      "#101/1303 | NO!! prev_DAYS_DECISION_sum [404] 0.740230\n"
     ]
    },
    {
     "name": "stdout",
     "output_type": "stream",
     "text": [
      "#102/1303 | NO!! prev_AMT_DOWN_PAYMENT_divide_DAYS_FIRST_DRAWING_minus_DAYS_LAST_DUE_sum [404] 0.740230\n",
      "#103/1303 | NO!! inst_normalslope_AMT_LATE_PAYMENT_min_min [404] 0.740230\n",
      "#104/1303 | YES! REGION_RATING_CLIENT_W_CITY_times_livingsum_MODE [405] 0.740238\n",
      "#105/1303 | YES! creditcard_AMT_PAYMENT_CURRENT_divide_CNT_DRAWINGS_CURRENT_median [406] 0.740372\n",
      "#106/1303 | YES! inst_LATE_DAYS_SIGN_sum [407] 0.740399\n",
      "#107/1303 | YES! inst_DAYS_INSTALMENT_max [408] 0.740400\n",
      "#108/1303 | YES! bureau_onehot_CREDIT_TYPE_Credit card [409] 0.740474\n",
      "#109/1303 | NO!! prev_AMT_ANNUITY_divide_AMT_DOWN_PAYMENT_sum [409] 0.740474\n",
      "#110/1303 | YES! prev_DAYS_LAST_DUE_1ST_VERSION_min [410] 0.740481\n",
      "#111/1303 | NO!! bureau_MONTHS_BALANCE_max_mean [410] 0.740481\n",
      "#112/1303 | YES! creditcard_AMT_BALANCE_divide_CNT_INSTALMENT_MATURE_CUM_mean [411] 0.740670\n",
      "#113/1303 | NO!! prev_AMT_APPLICATION_divide_DAYS_LAST_DUE_1ST_VERSION_minus_DAYS_LAST_DUE_min [411] 0.740670\n",
      "#114/1303 | YES! WEEKDAY_APPR_PROCESS_START [412] 0.740736\n",
      "#115/1303 | YES! bureau_onehot_STATUS_C_mean [413] 0.740774\n",
      "#116/1303 | NO!! prev_AMT_APPLICATION_divide_AMT_DOWN_PAYMENT_max [413] 0.740774\n",
      "#117/1303 | YES! prev_DAYS_LAST_DUE_1ST_VERSION_minus_DAYS_LAST_DUE_mean [414] 0.740782\n",
      "#118/1303 | YES! bureau_AMT_CREDIT_MAX_OVERDUE_divide_AMT_CREDIT_SUM_LIMIT_max [415] 0.740863\n",
      "#119/1303 | NO!! inst_AMT_LATE_PAYMENT_sum [415] 0.740863\n",
      "#120/1303 | NO!! prev_AMT_DOWN_PAYMENT_divide_DAYS_LAST_DUE_minus_DAYS_TERMINATION_median [415] 0.740863\n",
      "#121/1303 | NO!! prev_AMT_GOODS_PRICE_divide_DAYS_DECISION_min [415] 0.740863\n",
      "#122/1303 | YES! prev_AMT_CREDIT_divide_DAYS_LAST_DUE_1ST_VERSION_min [416] 0.740865\n",
      "#123/1303 | YES! NONLIVINGAREA_MEDI [417] 0.740872\n",
      "#124/1303 | NO!! bureau_AMT_CREDIT_MAX_OVERDUE_divide_AMT_CREDIT_SUM_mean [417] 0.740872\n",
      "#125/1303 | YES! creditcard_AMT_CREDIT_LIMIT_ACTUAL_divide_AMT_PAYMENT_TOTAL_CURRENT_mean [418] 0.740879\n",
      "#126/1303 | NO!! bureau_AMT_CREDIT_MAX_OVERDUE_divide_CREDIT_DAY_OVERDUE_max [418] 0.740879\n",
      "#127/1303 | YES! bureau_MONTHS_BALANCE_max_sum [419] 0.740899\n",
      "#128/1303 | NO!! prev_AMT_GOODS_PRICE_divide_DAYS_FIRST_DRAWING_minus_DAYS_FIRST_DUE_min [419] 0.740899\n",
      "#129/1303 | NO!! prev_AMT_APPLICATION_divide_CNT_PAYMENT_sum [419] 0.740899\n",
      "#130/1303 | NO!! prev_AMT_APPLICATION_divide_DAYS_FIRST_DRAWING_median [419] 0.740899\n",
      "#131/1303 | NO!! prev_AMT_APPLICATION_divide_DAYS_FIRST_DUE_minus_DAYS_TERMINATION_median [419] 0.740899\n",
      "#132/1303 | YES! count_CODE_GENDER_NAME_INCOME_TYPE [420] 0.741044\n",
      "#133/1303 | NO!! prev_AMT_GOODS_PRICE_divide_DAYS_LAST_DUE_sum [420] 0.741044\n",
      "#134/1303 | NO!! prev_AMT_APPLICATION_divide_DAYS_FIRST_DUE_minus_DAYS_LAST_DUE_median [420] 0.741044\n",
      "#135/1303 | NO!! prev_AMT_APPLICATION_divide_DAYS_FIRST_DUE_minus_DAYS_LAST_DUE_mean [420] 0.741044\n",
      "#136/1303 | YES! prev_AMT_APPLICATION_divide_DAYS_FIRST_DUE_minus_DAYS_LAST_DUE_1ST_VERSION_median [421] 0.741044\n",
      "#137/1303 | NO!! prev_AMT_GOODS_PRICE_divide_DAYS_FIRST_DUE_minus_DAYS_LAST_DUE_1ST_VERSION_min [421] 0.741044\n",
      "#138/1303 | NO!! bureau_AMT_ANNUITY_divide_DAYS_CREDIT_ENDDATE_min [421] 0.741044\n",
      "#139/1303 | NO!! bureau_AMT_ANNUITY_divide_DAYS_CREDIT_ENDDATE_std [421] 0.741044\n",
      "#140/1303 | NO!! prev_AMT_APPLICATION_divide_DAYS_FIRST_DRAWING_minus_DAYS_TERMINATION_median [421] 0.741044\n",
      "#141/1303 | NO!! prev_AMT_APPLICATION_divide_DAYS_FIRST_DRAWING_minus_DAYS_LAST_DUE_median [421] 0.741044\n",
      "#142/1303 | YES! prev_AMT_APPLICATION_divide_DAYS_FIRST_DRAWING_minus_DAYS_LAST_DUE_1ST_VERSION_sum [422] 0.741045\n",
      "#143/1303 | NO!! prev_AMT_APPLICATION_divide_DAYS_FIRST_DRAWING_minus_DAYS_LAST_DUE_1ST_VERSION_max [422] 0.741045\n",
      "#144/1303 | NO!! bureau_onehot_STATUS_X_mean [422] 0.741045\n",
      "#145/1303 | NO!! bureau_MONTHS_BALANCE_mean_mean [422] 0.741045\n",
      "#146/1303 | YES! bureau_MONTHS_BALANCE_sum_mean [423] 0.741142\n",
      "#147/1303 | NO!! prev_onehot_NAME_PAYMENT_TYPE_XNA_divide_count_SK_ID_CURR [423] 0.741142\n",
      "#148/1303 | NO!! prev_AMT_ANNUITY_divide_DAYS_LAST_DUE_1ST_VERSION_minus_DAYS_LAST_DUE_sum [423] 0.741142\n",
      "#149/1303 | NO!! prev_AMT_DOWN_PAYMENT_min [423] 0.741142\n",
      "#150/1303 | NO!! CNT_INSTALMENT_min [423] 0.741142\n",
      "#151/1303 | NO!! prev_AMT_GOODS_PRICE_divide_DAYS_LAST_DUE_mean [423] 0.741142\n",
      "#152/1303 | YES! prev_AMT_ANNUITY_divide_DAYS_FIRST_DRAWING_minus_DAYS_LAST_DUE_1ST_VERSION_sum [424] 0.741144\n",
      "#153/1303 | NO!! bureau_AMT_CREDIT_MAX_OVERDUE_divide_DAYS_CREDIT_ENDDATE_median [424] 0.741144\n",
      "#154/1303 | NO!! OWN_CAR_AGE_divide_DAYS_ID_PUBLISH [424] 0.741144\n",
      "#155/1303 | YES! prev_AMT_ANNUITY_divide_DAYS_FIRST_DRAWING_minus_DAYS_TERMINATION_max [425] 0.741145\n",
      "#156/1303 | NO!! prev_AMT_CREDIT_divide_DAYS_LAST_DUE_1ST_VERSION_sum [425] 0.741145\n",
      "#157/1303 | YES! bureau_AMT_CREDIT_SUM_DEBT_divide_AMT_ANNUITY_sum [426] 0.741153\n",
      "#158/1303 | YES! AMT_INCOME_TOTAL_divide_AMT_REQ_CREDIT_BUREAU_QRT [427] 0.741199\n",
      "#159/1303 | NO!! prev_AMT_GOODS_PRICE_divide_DAYS_LAST_DUE_min [427] 0.741199\n",
      "#160/1303 | YES! prev_HOUR_APPR_PROCESS_START_min [428] 0.741229\n",
      "#161/1303 | YES! AMT_GOODS_PRICE_divide_OBS_60_CNT_SOCIAL_CIRCLE [429] 0.741229\n",
      "#162/1303 | NO!! prev_AMT_DOWN_PAYMENT_divide_RATE_DOWN_PAYMENT_sum [429] 0.741229\n",
      "#163/1303 | YES! AMT_GOODS_PRICE_divide_AMT_REQ_CREDIT_BUREAU_QRT [430] 0.741303\n",
      "#164/1303 | NO!! OBS_60_CNT_SOCIAL_CIRCLE_divide_REGION_POPULATION_RELATIVE [430] 0.741303\n",
      "#165/1303 | NO!! prev_AMT_ANNUITY_divide_DAYS_LAST_DUE_1ST_VERSION_minus_DAYS_LAST_DUE_max [430] 0.741303\n",
      "#166/1303 | YES! prev_AMT_ANNUITY_divide_DAYS_LAST_DUE_1ST_VERSION_min [431] 0.741308\n",
      "#167/1303 | NO!! prev_HOUR_APPR_PROCESS_START_sum [431] 0.741308\n",
      "#168/1303 | NO!! prev_AMT_ANNUITY_divide_DAYS_FIRST_DUE_minus_DAYS_TERMINATION_sum [431] 0.741308\n",
      "#169/1303 | NO!! prev_onehot_CODE_REJECT_REASON_XAP [431] 0.741308\n",
      "#170/1303 | NO!! inst_AMT_TOTAL_LATE_std [431] 0.741308\n",
      "#171/1303 | YES! prev_AMT_ANNUITY_divide_DAYS_FIRST_DRAWING_minus_DAYS_FIRST_DUE_mean [432] 0.741310\n",
      "#172/1303 | YES! prev_AMT_ANNUITY_divide_DAYS_FIRST_DUE_minus_DAYS_LAST_DUE_min [433] 0.741312\n",
      "#173/1303 | NO!! prev_AMT_DOWN_PAYMENT_divide_DAYS_TERMINATION_mean [433] 0.741312\n",
      "#174/1303 | NO!! prev_AMT_CREDIT_divide_DAYS_FIRST_DRAWING_minus_DAYS_TERMINATION_max [433] 0.741312\n",
      "#175/1303 | NO!! bureau_AMT_CREDIT_SUM_min [433] 0.741312\n",
      "#176/1303 | NO!! AMT_REQ_CREDIT_BUREAU_YEAR_divide_CNT_FAM_MEMBERS [433] 0.741312\n",
      "#177/1303 | YES! bureau_MONTHS_BALANCE_mean_std [434] 0.741315\n",
      "#178/1303 | NO!! prev_AMT_CREDIT_divide_DAYS_FIRST_DRAWING_median [434] 0.741315\n",
      "#179/1303 | YES! inst_AMT_TOTAL_LATE_divide_AMT_INSTALMENT_std [435] 0.741372\n",
      "#180/1303 | NO!! prev_AMT_CREDIT_divide_DAYS_FIRST_DRAWING_minus_DAYS_LAST_DUE_sum [435] 0.741372\n",
      "#181/1303 | NO!! prev_AMT_CREDIT_divide_DAYS_FIRST_DRAWING_minus_DAYS_LAST_DUE_min [435] 0.741372\n",
      "#182/1303 | NO!! inst_RATE_LATE_PAYMENT_mean [435] 0.741372\n",
      "#183/1303 | NO!! prev_AMT_CREDIT_divide_DAYS_FIRST_DRAWING_minus_DAYS_LAST_DUE_max [435] 0.741372\n",
      "#184/1303 | NO!! AMT_REQ_CREDIT_BUREAU_YEAR_divide_OBS_60_CNT_SOCIAL_CIRCLE [435] 0.741372\n",
      "#185/1303 | NO!! SK_DPD_DEF_mean [435] 0.741372\n",
      "#186/1303 | NO!! prev_onehot_CHANNEL_TYPE_Stone_divide_count_SK_ID_CURR [435] 0.741372\n",
      "#187/1303 | YES! prev_AMT_CREDIT_divide_DAYS_FIRST_DRAWING_minus_DAYS_LAST_DUE_1ST_VERSION_mean [436] 0.741372\n",
      "#188/1303 | NO!! prev_onehot_CHANNEL_TYPE_Regional / Local_divide_count_SK_ID_CURR [436] 0.741372\n",
      "#189/1303 | NO!! OBS_30_CNT_SOCIAL_CIRCLE [436] 0.741372\n",
      "#190/1303 | YES! inst_LATE_DAYS_SIGN_area_AMT_LATE_PAYMENT_mean [437] 0.741375\n",
      "#191/1303 | NO!! OWN_CAR_AGE_divide_CNT_CHILDREN [437] 0.741375\n",
      "#192/1303 | NO!! inst_LATE_DAYS_SIGN_area_RATE_LATE_PAYMENT_sum [437] 0.741375\n",
      "#193/1303 | NO!! bureau_AMT_CREDIT_SUM_max [437] 0.741375\n",
      "#194/1303 | YES! inst_DURATION_mean [438] 0.741384\n",
      "#195/1303 | NO!! OWN_CAR_AGE_divide_CNT_FAM_MEMBERS [438] 0.741384\n",
      "#196/1303 | NO!! inst_DURATION_max [438] 0.741384\n",
      "#197/1303 | NO!! bureau_MONTHS_BALANCE_max_min [438] 0.741384\n",
      "#198/1303 | YES! REGION_RATING_CLIENT_times_livingsum_MEDI [439] 0.741409\n",
      "#199/1303 | NO!! prev_AMT_CREDIT_divide_DAYS_FIRST_DRAWING_minus_DAYS_FIRST_DUE_min [439] 0.741409\n",
      "#200/1303 | YES! bureau_AMT_CREDIT_SUM_mean [440] 0.741414\n",
      "#201/1303 | YES! bureau_MONTHS_BALANCE_mean_median [441] 0.741437\n",
      "#202/1303 | YES! prev_AMT_GOODS_PRICE_divide_DAYS_TERMINATION_sum [442] 0.741437\n"
     ]
    },
    {
     "name": "stdout",
     "output_type": "stream",
     "text": [
      "#203/1303 | YES! def_divide_count_prev_min [443] 0.741479\n",
      "#204/1303 | NO!! inst_AMT_INSTALMENT_min [443] 0.741479\n",
      "#205/1303 | NO!! bureau_AMT_CREDIT_SUM_LIMIT_divide_CREDIT_DAY_OVERDUE_sum [443] 0.741479\n",
      "#206/1303 | NO!! prev_count_SK_ID_CURR [443] 0.741479\n",
      "#207/1303 | YES! bureau_AMT_CREDIT_MAX_OVERDUE_divide_DAYS_CREDIT_median [444] 0.741513\n",
      "#208/1303 | YES! bureau_AMT_CREDIT_MAX_OVERDUE_divide_AMT_CREDIT_SUM_OVERDUE_std [445] 0.741543\n",
      "#209/1303 | NO!! AMT_CREDIT_divide_DEF_30_CNT_SOCIAL_CIRCLE [445] 0.741543\n",
      "#210/1303 | NO!! bureau_AMT_CREDIT_MAX_OVERDUE_divide_CREDIT_DAY_OVERDUE_mean [445] 0.741543\n",
      "#211/1303 | NO!! AMT_CREDIT_divide_OBS_30_CNT_SOCIAL_CIRCLE [445] 0.741543\n",
      "#212/1303 | YES! AMT_GOODS_PRICE_divide_AMT_REQ_CREDIT_BUREAU_MON [446] 0.741551\n",
      "#213/1303 | NO!! bureau_AMT_CREDIT_MAX_OVERDUE_divide_DAYS_CREDIT_UPDATE_std [446] 0.741551\n",
      "#214/1303 | NO!! bureau_AMT_CREDIT_MAX_OVERDUE_divide_DAYS_CREDIT_mean [446] 0.741551\n",
      "#215/1303 | YES! bureau_AMT_CREDIT_MAX_OVERDUE_divide_DAYS_ENDDATE_FACT_mean [447] 0.741582\n",
      "#216/1303 | YES! inst_agg__AMT_INSTALMENT_minus_AMT_PAYMENT_divide_DAYS_INSTALMENT_two_minus_one_third [448] 0.741601\n",
      "#217/1303 | NO!! bureau_AMT_CREDIT_MAX_OVERDUE_divide_DAYS_ENDDATE_FACT_min [448] 0.741601\n",
      "#218/1303 | NO!! prev_AMT_ANNUITY_divide_DAYS_FIRST_DRAWING_minus_DAYS_TERMINATION_min [448] 0.741601\n",
      "#219/1303 | NO!! bureau_AMT_CREDIT_MAX_OVERDUE_mean [448] 0.741601\n",
      "#220/1303 | NO!! prev_AMT_ANNUITY_divide_DAYS_FIRST_DRAWING_minus_DAYS_LAST_DUE_1ST_VERSION_min [448] 0.741601\n",
      "#221/1303 | NO!! bureau_AMT_CREDIT_MAX_OVERDUE_sum [448] 0.741601\n",
      "#222/1303 | NO!! prev_AMT_ANNUITY_divide_DAYS_FIRST_DRAWING_minus_DAYS_FIRST_DUE_sum [448] 0.741601\n",
      "#223/1303 | NO!! bureau_AMT_CREDIT_SUM_DEBT_divide_AMT_ANNUITY_mean [448] 0.741601\n",
      "#224/1303 | YES! bureau_AMT_CREDIT_MAX_OVERDUE_divide_AMT_CREDIT_SUM_LIMIT_sum [449] 0.741638\n",
      "#225/1303 | NO!! bureau_AMT_CREDIT_MAX_OVERDUE_divide_AMT_CREDIT_SUM_LIMIT_median [449] 0.741638\n",
      "#226/1303 | YES! bureau_AMT_CREDIT_MAX_OVERDUE_divide_AMT_CREDIT_SUM_LIMIT_mean [450] 0.741642\n",
      "#227/1303 | NO!! prev_DAYS_LAST_DUE_1ST_VERSION_minus_DAYS_LAST_DUE_sum [450] 0.741642\n",
      "#228/1303 | NO!! prev_AMT_APPLICATION_divide_DAYS_FIRST_DUE_minus_DAYS_TERMINATION_max [450] 0.741642\n"
     ]
    },
    {
     "ename": "KeyboardInterrupt",
     "evalue": "",
     "output_type": "error",
     "traceback": [
      "\u001b[0;31m---------------------------------------------------------------------------\u001b[0m",
      "\u001b[0;31mKeyboardInterrupt\u001b[0m                         Traceback (most recent call last)",
      "\u001b[0;32m<ipython-input-150-189ac68e1549>\u001b[0m in \u001b[0;36m<module>\u001b[0;34m()\u001b[0m\n\u001b[1;32m      6\u001b[0m \u001b[0mfeatlist\u001b[0m \u001b[0;34m=\u001b[0m \u001b[0mfe_imp\u001b[0m\u001b[0;34m[\u001b[0m\u001b[0;34m'feature'\u001b[0m\u001b[0;34m]\u001b[0m\u001b[0;34m.\u001b[0m\u001b[0mtolist\u001b[0m\u001b[0;34m(\u001b[0m\u001b[0;34m)\u001b[0m\u001b[0;34m[\u001b[0m\u001b[0mi\u001b[0m\u001b[0;34m:\u001b[0m\u001b[0;34m]\u001b[0m\u001b[0;34m\u001b[0m\u001b[0m\n\u001b[1;32m      7\u001b[0m \u001b[0;32mfor\u001b[0m \u001b[0mi\u001b[0m\u001b[0;34m,\u001b[0m \u001b[0mfeat\u001b[0m \u001b[0;32min\u001b[0m \u001b[0menumerate\u001b[0m\u001b[0;34m(\u001b[0m\u001b[0mfeatlist\u001b[0m\u001b[0;34m)\u001b[0m\u001b[0;34m:\u001b[0m\u001b[0;34m\u001b[0m\u001b[0m\n\u001b[0;32m----> 8\u001b[0;31m     \u001b[0mscores\u001b[0m \u001b[0;34m=\u001b[0m \u001b[0mcross_val_score\u001b[0m\u001b[0;34m(\u001b[0m\u001b[0mclf\u001b[0m\u001b[0;34m,\u001b[0m \u001b[0mX\u001b[0m\u001b[0;34m[\u001b[0m\u001b[0minit_feats\u001b[0m\u001b[0;34m+\u001b[0m\u001b[0;34m[\u001b[0m\u001b[0mfeat\u001b[0m\u001b[0;34m]\u001b[0m\u001b[0;34m]\u001b[0m\u001b[0;34m,\u001b[0m \u001b[0my\u001b[0m\u001b[0;34m,\u001b[0m \u001b[0mcv\u001b[0m\u001b[0;34m=\u001b[0m\u001b[0;36m5\u001b[0m\u001b[0;34m,\u001b[0m \u001b[0mscoring\u001b[0m\u001b[0;34m=\u001b[0m\u001b[0;34m'roc_auc'\u001b[0m\u001b[0;34m)\u001b[0m\u001b[0;34m\u001b[0m\u001b[0m\n\u001b[0m\u001b[1;32m      9\u001b[0m     \u001b[0mauc\u001b[0m \u001b[0;34m=\u001b[0m \u001b[0mscores\u001b[0m\u001b[0;34m.\u001b[0m\u001b[0mmean\u001b[0m\u001b[0;34m(\u001b[0m\u001b[0;34m)\u001b[0m\u001b[0;34m\u001b[0m\u001b[0m\n\u001b[1;32m     10\u001b[0m     \u001b[0;32mif\u001b[0m \u001b[0mauc\u001b[0m \u001b[0;34m>\u001b[0m \u001b[0minit_score\u001b[0m\u001b[0;34m:\u001b[0m\u001b[0;34m\u001b[0m\u001b[0m\n",
      "\u001b[0;32m~/anaconda3/lib/python3.6/site-packages/sklearn/model_selection/_validation.py\u001b[0m in \u001b[0;36mcross_val_score\u001b[0;34m(estimator, X, y, groups, scoring, cv, n_jobs, verbose, fit_params, pre_dispatch)\u001b[0m\n\u001b[1;32m    340\u001b[0m                                 \u001b[0mn_jobs\u001b[0m\u001b[0;34m=\u001b[0m\u001b[0mn_jobs\u001b[0m\u001b[0;34m,\u001b[0m \u001b[0mverbose\u001b[0m\u001b[0;34m=\u001b[0m\u001b[0mverbose\u001b[0m\u001b[0;34m,\u001b[0m\u001b[0;34m\u001b[0m\u001b[0m\n\u001b[1;32m    341\u001b[0m                                 \u001b[0mfit_params\u001b[0m\u001b[0;34m=\u001b[0m\u001b[0mfit_params\u001b[0m\u001b[0;34m,\u001b[0m\u001b[0;34m\u001b[0m\u001b[0m\n\u001b[0;32m--> 342\u001b[0;31m                                 pre_dispatch=pre_dispatch)\n\u001b[0m\u001b[1;32m    343\u001b[0m     \u001b[0;32mreturn\u001b[0m \u001b[0mcv_results\u001b[0m\u001b[0;34m[\u001b[0m\u001b[0;34m'test_score'\u001b[0m\u001b[0;34m]\u001b[0m\u001b[0;34m\u001b[0m\u001b[0m\n\u001b[1;32m    344\u001b[0m \u001b[0;34m\u001b[0m\u001b[0m\n",
      "\u001b[0;32m~/anaconda3/lib/python3.6/site-packages/sklearn/model_selection/_validation.py\u001b[0m in \u001b[0;36mcross_validate\u001b[0;34m(estimator, X, y, groups, scoring, cv, n_jobs, verbose, fit_params, pre_dispatch, return_train_score)\u001b[0m\n\u001b[1;32m    204\u001b[0m             \u001b[0mfit_params\u001b[0m\u001b[0;34m,\u001b[0m \u001b[0mreturn_train_score\u001b[0m\u001b[0;34m=\u001b[0m\u001b[0mreturn_train_score\u001b[0m\u001b[0;34m,\u001b[0m\u001b[0;34m\u001b[0m\u001b[0m\n\u001b[1;32m    205\u001b[0m             return_times=True)\n\u001b[0;32m--> 206\u001b[0;31m         for train, test in cv.split(X, y, groups))\n\u001b[0m\u001b[1;32m    207\u001b[0m \u001b[0;34m\u001b[0m\u001b[0m\n\u001b[1;32m    208\u001b[0m     \u001b[0;32mif\u001b[0m \u001b[0mreturn_train_score\u001b[0m\u001b[0;34m:\u001b[0m\u001b[0;34m\u001b[0m\u001b[0m\n",
      "\u001b[0;32m~/anaconda3/lib/python3.6/site-packages/sklearn/externals/joblib/parallel.py\u001b[0m in \u001b[0;36m__call__\u001b[0;34m(self, iterable)\u001b[0m\n\u001b[1;32m    777\u001b[0m             \u001b[0;31m# was dispatched. In particular this covers the edge\u001b[0m\u001b[0;34m\u001b[0m\u001b[0;34m\u001b[0m\u001b[0m\n\u001b[1;32m    778\u001b[0m             \u001b[0;31m# case of Parallel used with an exhausted iterator.\u001b[0m\u001b[0;34m\u001b[0m\u001b[0;34m\u001b[0m\u001b[0m\n\u001b[0;32m--> 779\u001b[0;31m             \u001b[0;32mwhile\u001b[0m \u001b[0mself\u001b[0m\u001b[0;34m.\u001b[0m\u001b[0mdispatch_one_batch\u001b[0m\u001b[0;34m(\u001b[0m\u001b[0miterator\u001b[0m\u001b[0;34m)\u001b[0m\u001b[0;34m:\u001b[0m\u001b[0;34m\u001b[0m\u001b[0m\n\u001b[0m\u001b[1;32m    780\u001b[0m                 \u001b[0mself\u001b[0m\u001b[0;34m.\u001b[0m\u001b[0m_iterating\u001b[0m \u001b[0;34m=\u001b[0m \u001b[0;32mTrue\u001b[0m\u001b[0;34m\u001b[0m\u001b[0m\n\u001b[1;32m    781\u001b[0m             \u001b[0;32melse\u001b[0m\u001b[0;34m:\u001b[0m\u001b[0;34m\u001b[0m\u001b[0m\n",
      "\u001b[0;32m~/anaconda3/lib/python3.6/site-packages/sklearn/externals/joblib/parallel.py\u001b[0m in \u001b[0;36mdispatch_one_batch\u001b[0;34m(self, iterator)\u001b[0m\n\u001b[1;32m    623\u001b[0m                 \u001b[0;32mreturn\u001b[0m \u001b[0;32mFalse\u001b[0m\u001b[0;34m\u001b[0m\u001b[0m\n\u001b[1;32m    624\u001b[0m             \u001b[0;32melse\u001b[0m\u001b[0;34m:\u001b[0m\u001b[0;34m\u001b[0m\u001b[0m\n\u001b[0;32m--> 625\u001b[0;31m                 \u001b[0mself\u001b[0m\u001b[0;34m.\u001b[0m\u001b[0m_dispatch\u001b[0m\u001b[0;34m(\u001b[0m\u001b[0mtasks\u001b[0m\u001b[0;34m)\u001b[0m\u001b[0;34m\u001b[0m\u001b[0m\n\u001b[0m\u001b[1;32m    626\u001b[0m                 \u001b[0;32mreturn\u001b[0m \u001b[0;32mTrue\u001b[0m\u001b[0;34m\u001b[0m\u001b[0m\n\u001b[1;32m    627\u001b[0m \u001b[0;34m\u001b[0m\u001b[0m\n",
      "\u001b[0;32m~/anaconda3/lib/python3.6/site-packages/sklearn/externals/joblib/parallel.py\u001b[0m in \u001b[0;36m_dispatch\u001b[0;34m(self, batch)\u001b[0m\n\u001b[1;32m    586\u001b[0m         \u001b[0mdispatch_timestamp\u001b[0m \u001b[0;34m=\u001b[0m \u001b[0mtime\u001b[0m\u001b[0;34m.\u001b[0m\u001b[0mtime\u001b[0m\u001b[0;34m(\u001b[0m\u001b[0;34m)\u001b[0m\u001b[0;34m\u001b[0m\u001b[0m\n\u001b[1;32m    587\u001b[0m         \u001b[0mcb\u001b[0m \u001b[0;34m=\u001b[0m \u001b[0mBatchCompletionCallBack\u001b[0m\u001b[0;34m(\u001b[0m\u001b[0mdispatch_timestamp\u001b[0m\u001b[0;34m,\u001b[0m \u001b[0mlen\u001b[0m\u001b[0;34m(\u001b[0m\u001b[0mbatch\u001b[0m\u001b[0;34m)\u001b[0m\u001b[0;34m,\u001b[0m \u001b[0mself\u001b[0m\u001b[0;34m)\u001b[0m\u001b[0;34m\u001b[0m\u001b[0m\n\u001b[0;32m--> 588\u001b[0;31m         \u001b[0mjob\u001b[0m \u001b[0;34m=\u001b[0m \u001b[0mself\u001b[0m\u001b[0;34m.\u001b[0m\u001b[0m_backend\u001b[0m\u001b[0;34m.\u001b[0m\u001b[0mapply_async\u001b[0m\u001b[0;34m(\u001b[0m\u001b[0mbatch\u001b[0m\u001b[0;34m,\u001b[0m \u001b[0mcallback\u001b[0m\u001b[0;34m=\u001b[0m\u001b[0mcb\u001b[0m\u001b[0;34m)\u001b[0m\u001b[0;34m\u001b[0m\u001b[0m\n\u001b[0m\u001b[1;32m    589\u001b[0m         \u001b[0mself\u001b[0m\u001b[0;34m.\u001b[0m\u001b[0m_jobs\u001b[0m\u001b[0;34m.\u001b[0m\u001b[0mappend\u001b[0m\u001b[0;34m(\u001b[0m\u001b[0mjob\u001b[0m\u001b[0;34m)\u001b[0m\u001b[0;34m\u001b[0m\u001b[0m\n\u001b[1;32m    590\u001b[0m \u001b[0;34m\u001b[0m\u001b[0m\n",
      "\u001b[0;32m~/anaconda3/lib/python3.6/site-packages/sklearn/externals/joblib/_parallel_backends.py\u001b[0m in \u001b[0;36mapply_async\u001b[0;34m(self, func, callback)\u001b[0m\n\u001b[1;32m    109\u001b[0m     \u001b[0;32mdef\u001b[0m \u001b[0mapply_async\u001b[0m\u001b[0;34m(\u001b[0m\u001b[0mself\u001b[0m\u001b[0;34m,\u001b[0m \u001b[0mfunc\u001b[0m\u001b[0;34m,\u001b[0m \u001b[0mcallback\u001b[0m\u001b[0;34m=\u001b[0m\u001b[0;32mNone\u001b[0m\u001b[0;34m)\u001b[0m\u001b[0;34m:\u001b[0m\u001b[0;34m\u001b[0m\u001b[0m\n\u001b[1;32m    110\u001b[0m         \u001b[0;34m\"\"\"Schedule a func to be run\"\"\"\u001b[0m\u001b[0;34m\u001b[0m\u001b[0m\n\u001b[0;32m--> 111\u001b[0;31m         \u001b[0mresult\u001b[0m \u001b[0;34m=\u001b[0m \u001b[0mImmediateResult\u001b[0m\u001b[0;34m(\u001b[0m\u001b[0mfunc\u001b[0m\u001b[0;34m)\u001b[0m\u001b[0;34m\u001b[0m\u001b[0m\n\u001b[0m\u001b[1;32m    112\u001b[0m         \u001b[0;32mif\u001b[0m \u001b[0mcallback\u001b[0m\u001b[0;34m:\u001b[0m\u001b[0;34m\u001b[0m\u001b[0m\n\u001b[1;32m    113\u001b[0m             \u001b[0mcallback\u001b[0m\u001b[0;34m(\u001b[0m\u001b[0mresult\u001b[0m\u001b[0;34m)\u001b[0m\u001b[0;34m\u001b[0m\u001b[0m\n",
      "\u001b[0;32m~/anaconda3/lib/python3.6/site-packages/sklearn/externals/joblib/_parallel_backends.py\u001b[0m in \u001b[0;36m__init__\u001b[0;34m(self, batch)\u001b[0m\n\u001b[1;32m    330\u001b[0m         \u001b[0;31m# Don't delay the application, to avoid keeping the input\u001b[0m\u001b[0;34m\u001b[0m\u001b[0;34m\u001b[0m\u001b[0m\n\u001b[1;32m    331\u001b[0m         \u001b[0;31m# arguments in memory\u001b[0m\u001b[0;34m\u001b[0m\u001b[0;34m\u001b[0m\u001b[0m\n\u001b[0;32m--> 332\u001b[0;31m         \u001b[0mself\u001b[0m\u001b[0;34m.\u001b[0m\u001b[0mresults\u001b[0m \u001b[0;34m=\u001b[0m \u001b[0mbatch\u001b[0m\u001b[0;34m(\u001b[0m\u001b[0;34m)\u001b[0m\u001b[0;34m\u001b[0m\u001b[0m\n\u001b[0m\u001b[1;32m    333\u001b[0m \u001b[0;34m\u001b[0m\u001b[0m\n\u001b[1;32m    334\u001b[0m     \u001b[0;32mdef\u001b[0m \u001b[0mget\u001b[0m\u001b[0;34m(\u001b[0m\u001b[0mself\u001b[0m\u001b[0;34m)\u001b[0m\u001b[0;34m:\u001b[0m\u001b[0;34m\u001b[0m\u001b[0m\n",
      "\u001b[0;32m~/anaconda3/lib/python3.6/site-packages/sklearn/externals/joblib/parallel.py\u001b[0m in \u001b[0;36m__call__\u001b[0;34m(self)\u001b[0m\n\u001b[1;32m    129\u001b[0m \u001b[0;34m\u001b[0m\u001b[0m\n\u001b[1;32m    130\u001b[0m     \u001b[0;32mdef\u001b[0m \u001b[0m__call__\u001b[0m\u001b[0;34m(\u001b[0m\u001b[0mself\u001b[0m\u001b[0;34m)\u001b[0m\u001b[0;34m:\u001b[0m\u001b[0;34m\u001b[0m\u001b[0m\n\u001b[0;32m--> 131\u001b[0;31m         \u001b[0;32mreturn\u001b[0m \u001b[0;34m[\u001b[0m\u001b[0mfunc\u001b[0m\u001b[0;34m(\u001b[0m\u001b[0;34m*\u001b[0m\u001b[0margs\u001b[0m\u001b[0;34m,\u001b[0m \u001b[0;34m**\u001b[0m\u001b[0mkwargs\u001b[0m\u001b[0;34m)\u001b[0m \u001b[0;32mfor\u001b[0m \u001b[0mfunc\u001b[0m\u001b[0;34m,\u001b[0m \u001b[0margs\u001b[0m\u001b[0;34m,\u001b[0m \u001b[0mkwargs\u001b[0m \u001b[0;32min\u001b[0m \u001b[0mself\u001b[0m\u001b[0;34m.\u001b[0m\u001b[0mitems\u001b[0m\u001b[0;34m]\u001b[0m\u001b[0;34m\u001b[0m\u001b[0m\n\u001b[0m\u001b[1;32m    132\u001b[0m \u001b[0;34m\u001b[0m\u001b[0m\n\u001b[1;32m    133\u001b[0m     \u001b[0;32mdef\u001b[0m \u001b[0m__len__\u001b[0m\u001b[0;34m(\u001b[0m\u001b[0mself\u001b[0m\u001b[0;34m)\u001b[0m\u001b[0;34m:\u001b[0m\u001b[0;34m\u001b[0m\u001b[0m\n",
      "\u001b[0;32m~/anaconda3/lib/python3.6/site-packages/sklearn/externals/joblib/parallel.py\u001b[0m in \u001b[0;36m<listcomp>\u001b[0;34m(.0)\u001b[0m\n\u001b[1;32m    129\u001b[0m \u001b[0;34m\u001b[0m\u001b[0m\n\u001b[1;32m    130\u001b[0m     \u001b[0;32mdef\u001b[0m \u001b[0m__call__\u001b[0m\u001b[0;34m(\u001b[0m\u001b[0mself\u001b[0m\u001b[0;34m)\u001b[0m\u001b[0;34m:\u001b[0m\u001b[0;34m\u001b[0m\u001b[0m\n\u001b[0;32m--> 131\u001b[0;31m         \u001b[0;32mreturn\u001b[0m \u001b[0;34m[\u001b[0m\u001b[0mfunc\u001b[0m\u001b[0;34m(\u001b[0m\u001b[0;34m*\u001b[0m\u001b[0margs\u001b[0m\u001b[0;34m,\u001b[0m \u001b[0;34m**\u001b[0m\u001b[0mkwargs\u001b[0m\u001b[0;34m)\u001b[0m \u001b[0;32mfor\u001b[0m \u001b[0mfunc\u001b[0m\u001b[0;34m,\u001b[0m \u001b[0margs\u001b[0m\u001b[0;34m,\u001b[0m \u001b[0mkwargs\u001b[0m \u001b[0;32min\u001b[0m \u001b[0mself\u001b[0m\u001b[0;34m.\u001b[0m\u001b[0mitems\u001b[0m\u001b[0;34m]\u001b[0m\u001b[0;34m\u001b[0m\u001b[0m\n\u001b[0m\u001b[1;32m    132\u001b[0m \u001b[0;34m\u001b[0m\u001b[0m\n\u001b[1;32m    133\u001b[0m     \u001b[0;32mdef\u001b[0m \u001b[0m__len__\u001b[0m\u001b[0;34m(\u001b[0m\u001b[0mself\u001b[0m\u001b[0;34m)\u001b[0m\u001b[0;34m:\u001b[0m\u001b[0;34m\u001b[0m\u001b[0m\n",
      "\u001b[0;32m~/anaconda3/lib/python3.6/site-packages/sklearn/model_selection/_validation.py\u001b[0m in \u001b[0;36m_fit_and_score\u001b[0;34m(estimator, X, y, scorer, train, test, verbose, parameters, fit_params, return_train_score, return_parameters, return_n_test_samples, return_times, error_score)\u001b[0m\n\u001b[1;32m    456\u001b[0m             \u001b[0mestimator\u001b[0m\u001b[0;34m.\u001b[0m\u001b[0mfit\u001b[0m\u001b[0;34m(\u001b[0m\u001b[0mX_train\u001b[0m\u001b[0;34m,\u001b[0m \u001b[0;34m**\u001b[0m\u001b[0mfit_params\u001b[0m\u001b[0;34m)\u001b[0m\u001b[0;34m\u001b[0m\u001b[0m\n\u001b[1;32m    457\u001b[0m         \u001b[0;32melse\u001b[0m\u001b[0;34m:\u001b[0m\u001b[0;34m\u001b[0m\u001b[0m\n\u001b[0;32m--> 458\u001b[0;31m             \u001b[0mestimator\u001b[0m\u001b[0;34m.\u001b[0m\u001b[0mfit\u001b[0m\u001b[0;34m(\u001b[0m\u001b[0mX_train\u001b[0m\u001b[0;34m,\u001b[0m \u001b[0my_train\u001b[0m\u001b[0;34m,\u001b[0m \u001b[0;34m**\u001b[0m\u001b[0mfit_params\u001b[0m\u001b[0;34m)\u001b[0m\u001b[0;34m\u001b[0m\u001b[0m\n\u001b[0m\u001b[1;32m    459\u001b[0m \u001b[0;34m\u001b[0m\u001b[0m\n\u001b[1;32m    460\u001b[0m     \u001b[0;32mexcept\u001b[0m \u001b[0mException\u001b[0m \u001b[0;32mas\u001b[0m \u001b[0me\u001b[0m\u001b[0;34m:\u001b[0m\u001b[0;34m\u001b[0m\u001b[0m\n",
      "\u001b[0;32m~/anaconda3/lib/python3.6/site-packages/sklearn/linear_model/ridge.py\u001b[0m in \u001b[0;36mfit\u001b[0;34m(self, X, y, sample_weight)\u001b[0m\n\u001b[1;32m    822\u001b[0m                              compute_sample_weight(self.class_weight, y))\n\u001b[1;32m    823\u001b[0m \u001b[0;34m\u001b[0m\u001b[0m\n\u001b[0;32m--> 824\u001b[0;31m         \u001b[0msuper\u001b[0m\u001b[0;34m(\u001b[0m\u001b[0mRidgeClassifier\u001b[0m\u001b[0;34m,\u001b[0m \u001b[0mself\u001b[0m\u001b[0;34m)\u001b[0m\u001b[0;34m.\u001b[0m\u001b[0mfit\u001b[0m\u001b[0;34m(\u001b[0m\u001b[0mX\u001b[0m\u001b[0;34m,\u001b[0m \u001b[0mY\u001b[0m\u001b[0;34m,\u001b[0m \u001b[0msample_weight\u001b[0m\u001b[0;34m=\u001b[0m\u001b[0msample_weight\u001b[0m\u001b[0;34m)\u001b[0m\u001b[0;34m\u001b[0m\u001b[0m\n\u001b[0m\u001b[1;32m    825\u001b[0m         \u001b[0;32mreturn\u001b[0m \u001b[0mself\u001b[0m\u001b[0;34m\u001b[0m\u001b[0m\n\u001b[1;32m    826\u001b[0m \u001b[0;34m\u001b[0m\u001b[0m\n",
      "\u001b[0;32m~/anaconda3/lib/python3.6/site-packages/sklearn/linear_model/ridge.py\u001b[0m in \u001b[0;36mfit\u001b[0;34m(self, X, y, sample_weight)\u001b[0m\n\u001b[1;32m    504\u001b[0m                 \u001b[0mmax_iter\u001b[0m\u001b[0;34m=\u001b[0m\u001b[0mself\u001b[0m\u001b[0;34m.\u001b[0m\u001b[0mmax_iter\u001b[0m\u001b[0;34m,\u001b[0m \u001b[0mtol\u001b[0m\u001b[0;34m=\u001b[0m\u001b[0mself\u001b[0m\u001b[0;34m.\u001b[0m\u001b[0mtol\u001b[0m\u001b[0;34m,\u001b[0m \u001b[0msolver\u001b[0m\u001b[0;34m=\u001b[0m\u001b[0mself\u001b[0m\u001b[0;34m.\u001b[0m\u001b[0msolver\u001b[0m\u001b[0;34m,\u001b[0m\u001b[0;34m\u001b[0m\u001b[0m\n\u001b[1;32m    505\u001b[0m                 \u001b[0mrandom_state\u001b[0m\u001b[0;34m=\u001b[0m\u001b[0mself\u001b[0m\u001b[0;34m.\u001b[0m\u001b[0mrandom_state\u001b[0m\u001b[0;34m,\u001b[0m \u001b[0mreturn_n_iter\u001b[0m\u001b[0;34m=\u001b[0m\u001b[0;32mTrue\u001b[0m\u001b[0;34m,\u001b[0m\u001b[0;34m\u001b[0m\u001b[0m\n\u001b[0;32m--> 506\u001b[0;31m                 return_intercept=False)\n\u001b[0m\u001b[1;32m    507\u001b[0m             \u001b[0mself\u001b[0m\u001b[0;34m.\u001b[0m\u001b[0m_set_intercept\u001b[0m\u001b[0;34m(\u001b[0m\u001b[0mX_offset\u001b[0m\u001b[0;34m,\u001b[0m \u001b[0my_offset\u001b[0m\u001b[0;34m,\u001b[0m \u001b[0mX_scale\u001b[0m\u001b[0;34m)\u001b[0m\u001b[0;34m\u001b[0m\u001b[0m\n\u001b[1;32m    508\u001b[0m \u001b[0;34m\u001b[0m\u001b[0m\n",
      "\u001b[0;32m~/anaconda3/lib/python3.6/site-packages/sklearn/linear_model/ridge.py\u001b[0m in \u001b[0;36mridge_regression\u001b[0;34m(X, y, alpha, sample_weight, solver, max_iter, tol, verbose, random_state, return_n_iter, return_intercept)\u001b[0m\n\u001b[1;32m    407\u001b[0m         \u001b[0;32melse\u001b[0m\u001b[0;34m:\u001b[0m\u001b[0;34m\u001b[0m\u001b[0m\n\u001b[1;32m    408\u001b[0m             \u001b[0;32mtry\u001b[0m\u001b[0;34m:\u001b[0m\u001b[0;34m\u001b[0m\u001b[0m\n\u001b[0;32m--> 409\u001b[0;31m                 \u001b[0mcoef\u001b[0m \u001b[0;34m=\u001b[0m \u001b[0m_solve_cholesky\u001b[0m\u001b[0;34m(\u001b[0m\u001b[0mX\u001b[0m\u001b[0;34m,\u001b[0m \u001b[0my\u001b[0m\u001b[0;34m,\u001b[0m \u001b[0malpha\u001b[0m\u001b[0;34m)\u001b[0m\u001b[0;34m\u001b[0m\u001b[0m\n\u001b[0m\u001b[1;32m    410\u001b[0m             \u001b[0;32mexcept\u001b[0m \u001b[0mlinalg\u001b[0m\u001b[0;34m.\u001b[0m\u001b[0mLinAlgError\u001b[0m\u001b[0;34m:\u001b[0m\u001b[0;34m\u001b[0m\u001b[0m\n\u001b[1;32m    411\u001b[0m                 \u001b[0;31m# use SVD solver if matrix is singular\u001b[0m\u001b[0;34m\u001b[0m\u001b[0;34m\u001b[0m\u001b[0m\n",
      "\u001b[0;32m~/anaconda3/lib/python3.6/site-packages/sklearn/linear_model/ridge.py\u001b[0m in \u001b[0;36m_solve_cholesky\u001b[0;34m(X, y, alpha)\u001b[0m\n\u001b[1;32m    103\u001b[0m \u001b[0;34m\u001b[0m\u001b[0m\n\u001b[1;32m    104\u001b[0m     \u001b[0mA\u001b[0m \u001b[0;34m=\u001b[0m \u001b[0msafe_sparse_dot\u001b[0m\u001b[0;34m(\u001b[0m\u001b[0mX\u001b[0m\u001b[0;34m.\u001b[0m\u001b[0mT\u001b[0m\u001b[0;34m,\u001b[0m \u001b[0mX\u001b[0m\u001b[0;34m,\u001b[0m \u001b[0mdense_output\u001b[0m\u001b[0;34m=\u001b[0m\u001b[0;32mTrue\u001b[0m\u001b[0;34m)\u001b[0m\u001b[0;34m\u001b[0m\u001b[0m\n\u001b[0;32m--> 105\u001b[0;31m     \u001b[0mXy\u001b[0m \u001b[0;34m=\u001b[0m \u001b[0msafe_sparse_dot\u001b[0m\u001b[0;34m(\u001b[0m\u001b[0mX\u001b[0m\u001b[0;34m.\u001b[0m\u001b[0mT\u001b[0m\u001b[0;34m,\u001b[0m \u001b[0my\u001b[0m\u001b[0;34m,\u001b[0m \u001b[0mdense_output\u001b[0m\u001b[0;34m=\u001b[0m\u001b[0;32mTrue\u001b[0m\u001b[0;34m)\u001b[0m\u001b[0;34m\u001b[0m\u001b[0m\n\u001b[0m\u001b[1;32m    106\u001b[0m \u001b[0;34m\u001b[0m\u001b[0m\n\u001b[1;32m    107\u001b[0m     \u001b[0mone_alpha\u001b[0m \u001b[0;34m=\u001b[0m \u001b[0mnp\u001b[0m\u001b[0;34m.\u001b[0m\u001b[0marray_equal\u001b[0m\u001b[0;34m(\u001b[0m\u001b[0malpha\u001b[0m\u001b[0;34m,\u001b[0m \u001b[0mlen\u001b[0m\u001b[0;34m(\u001b[0m\u001b[0malpha\u001b[0m\u001b[0;34m)\u001b[0m \u001b[0;34m*\u001b[0m \u001b[0;34m[\u001b[0m\u001b[0malpha\u001b[0m\u001b[0;34m[\u001b[0m\u001b[0;36m0\u001b[0m\u001b[0;34m]\u001b[0m\u001b[0;34m]\u001b[0m\u001b[0;34m)\u001b[0m\u001b[0;34m\u001b[0m\u001b[0m\n",
      "\u001b[0;32m~/anaconda3/lib/python3.6/site-packages/sklearn/utils/extmath.py\u001b[0m in \u001b[0;36msafe_sparse_dot\u001b[0;34m(a, b, dense_output)\u001b[0m\n\u001b[1;32m    138\u001b[0m         \u001b[0;32mreturn\u001b[0m \u001b[0mret\u001b[0m\u001b[0;34m\u001b[0m\u001b[0m\n\u001b[1;32m    139\u001b[0m     \u001b[0;32melse\u001b[0m\u001b[0;34m:\u001b[0m\u001b[0;34m\u001b[0m\u001b[0m\n\u001b[0;32m--> 140\u001b[0;31m         \u001b[0;32mreturn\u001b[0m \u001b[0mnp\u001b[0m\u001b[0;34m.\u001b[0m\u001b[0mdot\u001b[0m\u001b[0;34m(\u001b[0m\u001b[0ma\u001b[0m\u001b[0;34m,\u001b[0m \u001b[0mb\u001b[0m\u001b[0;34m)\u001b[0m\u001b[0;34m\u001b[0m\u001b[0m\n\u001b[0m\u001b[1;32m    141\u001b[0m \u001b[0;34m\u001b[0m\u001b[0m\n\u001b[1;32m    142\u001b[0m \u001b[0;34m\u001b[0m\u001b[0m\n",
      "\u001b[0;31mKeyboardInterrupt\u001b[0m: "
     ]
    }
   ],
   "source": [
    "# init_feats = fe_imp['feature'].tolist()[:3]\n",
    "# init_score = cross_val_score(clf, X[init_feats], y, cv=5, scoring='roc_auc')\n",
    "# init_score = init_score.mean()\n",
    "# print('init auc: ', init_score)\n",
    "\n",
    "featlist = fe_imp['feature'].tolist()[i:]\n",
    "for i, feat in enumerate(featlist):\n",
    "    scores = cross_val_score(clf, X[init_feats+[feat]], y, cv=5, scoring='roc_auc')\n",
    "    auc = scores.mean()\n",
    "    if auc > init_score:\n",
    "        init_score = auc\n",
    "        init_feats = init_feats+[feat]\n",
    "        print('#{}/{} | YES! {} [{}] {:.6f}'.format(i, len(featlist), feat, len(init_feats), init_score))\n",
    "    else:\n",
    "        print('#{}/{} | NO!! {} [{}] {:.6f}'.format(i, len(featlist), feat, len(init_feats), init_score))\n",
    "    time.sleep(1)"
   ]
  },
  {
   "cell_type": "code",
   "execution_count": null,
   "metadata": {
    "ExecuteTime": {
     "end_time": "2018-09-08T01:29:36.511543Z",
     "start_time": "2018-09-08T00:07:35.044Z"
    }
   },
   "outputs": [],
   "source": [
    "def temp(train):\n",
    "    X = train.drop(columns=['TARGET', 'SK_ID_CURR'])\n",
    "    y = train['TARGET']\n",
    "\n",
    "    init_feats = fe_imp['feature'].tolist()[:3]\n",
    "    init_score = cross_val_score(clf, X[init_feats], y, cv=5, scoring='roc_auc')\n",
    "    init_score = init_score.mean()\n",
    "    print('init auc: ', init_score)\n",
    "\n",
    "    featlist = fe_imp['feature'].tolist()[3:]\n",
    "    for i, feat in enumerate(featlist):\n",
    "        scores = cross_val_score(clf, X[init_feats+[feat]], y, cv=5, scoring='roc_auc')\n",
    "        auc = scores.mean()\n",
    "        if auc > init_score:\n",
    "            init_score = auc\n",
    "            init_feats = init_feats+[feat]\n",
    "            print('#{}/{} | YES! {} [{}] {:.6f}'.format(i, len(featlist), feat, len(init_feats), init_score))\n",
    "        else:\n",
    "            print('#{}/{} | NO!! {} [{}] {:.6f}'.format(i, len(featlist), feat, len(init_feats), init_score))\n",
    "        time.sleep(1)\n",
    "    return init_feats"
   ]
  },
  {
   "cell_type": "code",
   "execution_count": null,
   "metadata": {
    "ExecuteTime": {
     "start_time": "2018-09-08T00:07:35.044Z"
    }
   },
   "outputs": [],
   "source": [
    "def temp(train):\n",
    "    X = train.drop(columns=['TARGET', 'SK_ID_CURR'])\n",
    "    y = train['TARGET']\n",
    "\n",
    "    init_feats = ['EXT_SOURCE_2', 'EXT_SOURCE_3', 'EXT_SOURCE_1']#fe_imp['feature'].tolist()[:3]\n",
    "    init_score = cross_val_score(clf, X[init_feats], y, cv=5, scoring='roc_auc')\n",
    "    init_score = init_score.mean()\n",
    "    print('init auc: ', init_score)\n",
    "\n",
    "    featlist = list(train.columns)#fe_imp['feature'].tolist()[3:]\n",
    "    for i, feat in enumerate(featlist):\n",
    "        scores = cross_val_score(clf, X[init_feats+[feat]], y, cv=5, scoring='roc_auc')\n",
    "        auc = scores.mean()\n",
    "        if auc > init_score:\n",
    "            init_score = auc\n",
    "            init_feats = init_feats+[feat]\n",
    "            print('#{}/{} | YES! {} [{}] {:.6f}'.format(i, len(featlist), feat, len(init_feats), init_score))\n",
    "        else:\n",
    "            print('#{}/{} | NO!! {} [{}] {:.6f}'.format(i, len(featlist), feat, len(init_feats), init_score))\n",
    "        time.sleep(1)\n",
    "    return init_feats"
   ]
  },
  {
   "cell_type": "code",
   "execution_count": null,
   "metadata": {},
   "outputs": [],
   "source": []
  },
  {
   "cell_type": "code",
   "execution_count": null,
   "metadata": {},
   "outputs": [],
   "source": []
  },
  {
   "cell_type": "code",
   "execution_count": 4,
   "metadata": {
    "ExecuteTime": {
     "end_time": "2018-09-07T19:33:13.684426Z",
     "start_time": "2018-09-07T19:33:13.414887Z"
    }
   },
   "outputs": [],
   "source": [
    "import xgboost as xgb"
   ]
  },
  {
   "cell_type": "code",
   "execution_count": 6,
   "metadata": {
    "ExecuteTime": {
     "end_time": "2018-09-07T19:35:07.490631Z",
     "start_time": "2018-09-07T19:35:07.488260Z"
    }
   },
   "outputs": [],
   "source": [
    "print_to_file = False"
   ]
  },
  {
   "cell_type": "code",
   "execution_count": 45,
   "metadata": {
    "ExecuteTime": {
     "end_time": "2018-09-07T20:21:33.526200Z",
     "start_time": "2018-09-07T20:20:09.770132Z"
    }
   },
   "outputs": [
    {
     "name": "stdout",
     "output_type": "stream",
     "text": [
      "(52716, 2678) (48744, 2678) (43931, 2678)\n",
      "MEAN: train(52716) vs holdout(43931):  0.08048789741255027 0.08108169629646492\n",
      "[0]\tval-auc:0.656363\n",
      "[99]\tval-auc:0.783984\n",
      "Fold  1 [  100] AUC : ho: 0.765904 / te: 0.783984 / tr: -1.000000 (diff: 0.018080)\n",
      "[0]\tval-auc:0.657107\n",
      "[99]\tval-auc:0.771132\n",
      "Fold  2 [  100] AUC : ho: 0.765245 / te: 0.771132 / tr: -1.000000 (diff: 0.005887)\n",
      "[0]\tval-auc:0.610611\n",
      "[99]\tval-auc:0.762706\n",
      "Fold  3 [  100] AUC : ho: 0.763662 / te: 0.762706 / tr: -1.000000 (diff: 0.000956)\n",
      "[0]\tval-auc:0.638697\n",
      "[99]\tval-auc:0.759524\n",
      "Fold  4 [  100] AUC : ho: 0.763602 / te: 0.759524 / tr: -1.000000 (diff: 0.004078)\n",
      "[0]\tval-auc:0.631884\n",
      "[99]\tval-auc:0.750993\n",
      "Fold  5 [  100] AUC : ho: 0.763366 / te: 0.750993 / tr: -1.000000 (diff: 0.012373)\n",
      "Full HO score 0.774838\n",
      "FULL HO mean 0.764356, std 0.001022\n",
      "FULL TE mean 0.765668, std 0.011200\n",
      "FULL TR mean -1.000000, std 0.000000\n",
      "FULL DIFF mean 0.008275, std 0.006161\n"
     ]
    }
   ],
   "source": [
    "m = kfold_lightgbm(None, train_df.sample(frac=0.2), test_bo2, holdout_df, 5, 'xgbtest.csv', 'xgb_fe_img', True, False, colsample=0.1, lr=0.1, rounds=100, mode='xgb')"
   ]
  },
  {
   "cell_type": "code",
   "execution_count": 47,
   "metadata": {
    "ExecuteTime": {
     "end_time": "2018-09-07T20:22:50.122861Z",
     "start_time": "2018-09-07T20:22:50.119367Z"
    }
   },
   "outputs": [],
   "source": [
    "fe_imp, _, _ = m"
   ]
  },
  {
   "cell_type": "code",
   "execution_count": 48,
   "metadata": {
    "ExecuteTime": {
     "end_time": "2018-09-07T20:22:53.769411Z",
     "start_time": "2018-09-07T20:22:53.758054Z"
    }
   },
   "outputs": [
    {
     "data": {
      "text/html": [
       "<div>\n",
       "<style scoped>\n",
       "    .dataframe tbody tr th:only-of-type {\n",
       "        vertical-align: middle;\n",
       "    }\n",
       "\n",
       "    .dataframe tbody tr th {\n",
       "        vertical-align: top;\n",
       "    }\n",
       "\n",
       "    .dataframe thead th {\n",
       "        text-align: right;\n",
       "    }\n",
       "</style>\n",
       "<table border=\"1\" class=\"dataframe\">\n",
       "  <thead>\n",
       "    <tr style=\"text-align: right;\">\n",
       "      <th></th>\n",
       "      <th>feature</th>\n",
       "      <th>importance</th>\n",
       "    </tr>\n",
       "  </thead>\n",
       "  <tbody>\n",
       "    <tr>\n",
       "      <th>0</th>\n",
       "      <td>EXT_SOURCE_2</td>\n",
       "      <td>84</td>\n",
       "    </tr>\n",
       "    <tr>\n",
       "      <th>1</th>\n",
       "      <td>EXT_SOURCE_3</td>\n",
       "      <td>81</td>\n",
       "    </tr>\n",
       "    <tr>\n",
       "      <th>2</th>\n",
       "      <td>EXT_SOURCE_1</td>\n",
       "      <td>68</td>\n",
       "    </tr>\n",
       "    <tr>\n",
       "      <th>3</th>\n",
       "      <td>AMT_CREDIT_divide_AMT_ANNUITY</td>\n",
       "      <td>47</td>\n",
       "    </tr>\n",
       "    <tr>\n",
       "      <th>4</th>\n",
       "      <td>AMT_ANNUITY_divide_DAYS_EMPLOYED</td>\n",
       "      <td>38</td>\n",
       "    </tr>\n",
       "  </tbody>\n",
       "</table>\n",
       "</div>"
      ],
      "text/plain": [
       "                            feature  importance\n",
       "0                      EXT_SOURCE_2          84\n",
       "1                      EXT_SOURCE_3          81\n",
       "2                      EXT_SOURCE_1          68\n",
       "3     AMT_CREDIT_divide_AMT_ANNUITY          47\n",
       "4  AMT_ANNUITY_divide_DAYS_EMPLOYED          38"
      ]
     },
     "execution_count": 48,
     "metadata": {},
     "output_type": "execute_result"
    }
   ],
   "source": [
    "fe_imp.head()"
   ]
  },
  {
   "cell_type": "code",
   "execution_count": 39,
   "metadata": {
    "ExecuteTime": {
     "end_time": "2018-09-07T20:14:23.072407Z",
     "start_time": "2018-09-07T20:14:16.944391Z"
    }
   },
   "outputs": [
    {
     "name": "stdout",
     "output_type": "stream",
     "text": [
      "806 810\n"
     ]
    }
   ],
   "source": [
    "train_df, holdout_df = train_test_split(train_bo2, test_size=1/7, random_state=4)\n",
    "print(int(train_df['TARGET'].mean()*10000), int(holdout_df['TARGET'].mean()*10000))"
   ]
  },
  {
   "cell_type": "code",
   "execution_count": 44,
   "metadata": {
    "ExecuteTime": {
     "end_time": "2018-09-07T20:20:06.081033Z",
     "start_time": "2018-09-07T20:20:06.043031Z"
    }
   },
   "outputs": [],
   "source": [
    "from sklearn.model_selection import train_test_split\n",
    "\n",
    "def get_time(timezone='America/New_York', time_format='%Y-%m-%d %H:%M:%S'):\n",
    "    from datetime import datetime\n",
    "    from dateutil import tz\n",
    "\n",
    "    # METHOD 1: Hardcode zones:\n",
    "    from_zone = tz.gettz('UTC')\n",
    "    to_zone = tz.gettz(timezone)\n",
    "\n",
    "    utc = datetime.utcnow()\n",
    "\n",
    "    # Tell the datetime object that it's in UTC time zone since \n",
    "    # datetime objects are 'naive' by default\n",
    "    utc = utc.replace(tzinfo=from_zone)\n",
    "\n",
    "    # Convert time zone\n",
    "    est = utc.astimezone(to_zone)\n",
    "\n",
    "    return est.strftime(time_format)\n",
    "\n",
    "import sys, time\n",
    "class Logger(object):\n",
    "    def __init__(self, logtofile=True, logfilename='log'):\n",
    "        self.terminal = sys.stdout\n",
    "        self.logfile = \"{}_{}.log\".format(logfilename, int(time.time()))\n",
    "        self.logtofile = logtofile\n",
    "\n",
    "    def write(self, message):\n",
    "        #         self.terminal.write(message)\n",
    "        if self.logtofile:\n",
    "            self.log = open(self.logfile, \"a\")\n",
    "            self.log.write('[' + get_time() + '] ' + message)\n",
    "            self.log.close()\n",
    "\n",
    "    def flush(self):\n",
    "        # this flush method is needed for python 3 compatibility.\n",
    "        # this handles the flush command by doing nothing.\n",
    "        # you might want to specify some extra behavior here.\n",
    "        pass\n",
    "\n",
    "\n",
    "def divert_printout_to_file():\n",
    "    sys.stdout = Logger(logfilename='logfile')\n",
    "\n",
    "if print_to_file:\n",
    "    divert_printout_to_file()  # note: comment this to use pdb\n",
    "\n",
    "import numpy as np\n",
    "import pandas as pd\n",
    "import gc\n",
    "import time\n",
    "from contextlib import contextmanager\n",
    "from xgboost import XGBClassifier\n",
    "from sklearn.metrics import roc_auc_score, roc_curve\n",
    "from sklearn.model_selection import KFold, StratifiedKFold\n",
    "import matplotlib.pyplot as plt\n",
    "import seaborn as sns\n",
    "import warnings\n",
    "warnings.simplefilter(action='ignore', category=FutureWarning)\n",
    "\n",
    "@contextmanager\n",
    "def timer(title):\n",
    "    t0 = time.time()\n",
    "    yield\n",
    "    print(\"{} - done in {:.0f}s\".format(title, time.time() - t0))\n",
    "\n",
    "# LightGBM GBDT with KFold or Stratified KFold\n",
    "# Parameters from Tilii kernel: https://www.kaggle.com/tilii7/olivier-lightgbm-parameters-by-bayesian-opt/code\n",
    "def kfold_lightgbm(df, train_df, test_df, holdout, num_folds, submission_file_name, fe_img_name, stratified = False, debug= False, colsample=0.67, max_depth=8, num_leaves=31, min_child_samples=20, subsample=0.7, reg_lambda=0.3, lr=0.04, seed=1001, verbose=100, rounds=None, mode='sklearn', max_bin=255):\n",
    "    print(train_df.shape, test_df.shape, holdout.shape)\n",
    "    print('MEAN: train({}) vs holdout({}): '.format(len(train_df), len(holdout)), train_df['TARGET'].mean(), holdout['TARGET'].mean())\n",
    "    # Divide in training/validation and test data\n",
    "    if df is not None:\n",
    "        train_df = df[df['TARGET'].notnull()]\n",
    "        test_df = df[df['TARGET'].isnull()]\n",
    "        print(\"Starting LightGBM. Train shape: {}, test shape: {}\".format(train_df.shape, test_df.shape))\n",
    "        del df\n",
    "        gc.collect()\n",
    "        \n",
    "        \n",
    "    # compute optimal rounds\n",
    "    xgb_params = {\n",
    "        'objective': 'binary:logistic',\n",
    "#         'boosting': 'gbdt',\n",
    "        'learning_rate': lr,\n",
    "        'colsample_bytree': colsample,\n",
    "        'eval_metric': 'auc'\n",
    "\n",
    "#         'max_bin': max_bin,\n",
    "#         'min_data_in_leaf': min_child_samples,\n",
    "#         'num_leaves': num_leaves, \n",
    "#         'num_threads': 5, \n",
    "#         'max_depth': max_depth,\n",
    "#         'min_child_weight': 39,\n",
    "#         'feature_fraction': colsample,\n",
    "#         'feature_fraction_seed': seed,\n",
    "#         'bagging_fraction': subsample, \n",
    "#         'bagging_seed': seed,\n",
    "#         'scale_pos_weight': 1,\n",
    "#         'lambda_l1': 0.65, \n",
    "#         'lambda_l2': reg_lambda,\n",
    "#         'metric': 'auc'\n",
    "    }\n",
    "    if rounds is None:\n",
    "        print('computing optimal rounds...')\n",
    "        xgb_train = xgb.DMatrix(train_df.drop(columns=['TARGET','SK_ID_CURR']), label=train_df['TARGET'])\n",
    "\n",
    "        eval_hist = xgb.cv(xgb_params, xgb_train, nfold=num_folds, stratified=stratified, \n",
    "                           num_boost_round=50000, early_stopping_rounds=200, verbose_eval=verbose)\n",
    "        best_round = len(eval_hist['test-auc-mean'])\n",
    "#         best_round = len(eval_hist['auc-mean'])\n",
    "        rounds = best_round\n",
    "#         print('xgb cv: ', eval_hist['auc-mean'][-1], ' std: ', eval_hist['auc-stdv'][-1])\n",
    "        print('xgb cv te: ', eval_hist['test-auc-mean'][-1], ' tr: ', eval_hist['train-auc-stdv'][-1])\n",
    "        print('best rounds: ', rounds)\n",
    "\n",
    "    # Cross validation model\n",
    "    if stratified:\n",
    "        folds = StratifiedKFold(n_splits= num_folds, shuffle=True, random_state=seed)\n",
    "    else:\n",
    "        folds = KFold(n_splits= num_folds, shuffle=True, random_state=seed)\n",
    "        \n",
    "    # Create arrays and dataframes to store results\n",
    "    oof_preds = np.zeros(train_df.shape[0])\n",
    "    sub_preds = np.zeros(test_df.shape[0])\n",
    "    holdout_final_preds = np.zeros(holdout.shape[0])\n",
    "    feature_importance_df = pd.DataFrame()\n",
    "    feature_importance_gain_df = pd.DataFrame()\n",
    "    feats = [f for f in train_df.columns if f not in ['TARGET','SK_ID_CURR','SK_ID_BUREAU','SK_ID_PREV','index']]\n",
    "    train_scores = []\n",
    "    holdout_scores = []\n",
    "    scores = []\n",
    "    diff_val_holdout = []\n",
    "    \n",
    "    \n",
    "    for n_fold, (train_idx, valid_idx) in enumerate(folds.split(train_df[feats], train_df['TARGET'])):\n",
    "#         print('valid index : ',list(valid_idx)[:5])\n",
    "        train_x, train_y = train_df[feats].iloc[train_idx], train_df['TARGET'].iloc[train_idx]\n",
    "        valid_x, valid_y = train_df[feats].iloc[valid_idx], train_df['TARGET'].iloc[valid_idx]\n",
    "#         print('MEAN: train({}) vs valid({}): '.format(len(train_y), len(valid_y)), np.mean(train_y), np.mean(valid_y))\n",
    "\n",
    "        if mode=='sklearn':\n",
    "            clf = xgbMClassifier(\n",
    "                nthread=18,\n",
    "                n_estimators=30000,\n",
    "                learning_rate=lr,\n",
    "                num_leaves=num_leaves,\n",
    "                colsample_bytree=colsample, # 0.67\n",
    "                subsample=subsample,\n",
    "                subsample_freq=0, ## disable subsampling\n",
    "                max_depth=max_depth,\n",
    "                reg_alpha=0.65,\n",
    "                reg_lambda=reg_lambda,\n",
    "                min_split_gain=0.0222415,\n",
    "                min_child_weight=39.3259775,\n",
    "                min_child_samples=min_child_samples,\n",
    "                silent=-1,\n",
    "                verbose=-1, )\n",
    "            if rounds is not None:\n",
    "                clf.n_estimators = rounds\n",
    "                clf.fit(train_x, train_y, eval_set=[(train_x, train_y), (valid_x, valid_y)], \n",
    "                    eval_metric= 'auc', verbose=verbose)\n",
    "                oof_preds[valid_idx] = clf.predict_proba(valid_x)[:, 1]\n",
    "                sub_preds += clf.predict_proba(test_df[feats])[:, 1] / folds.n_splits\n",
    "                holdout_preds = clf.predict_proba(holdout[feats])[:, 1] \n",
    "            else:\n",
    "                clf.fit(train_x, train_y, eval_set=[(train_x, train_y), (valid_x, valid_y)], \n",
    "                    eval_metric= 'auc', verbose=verbose, early_stopping_rounds= 200)\n",
    "                oof_preds[valid_idx] = clf.predict_proba(valid_x, num_iteration=clf.best_iteration_)[:, 1]\n",
    "                sub_preds += clf.predict_proba(test_df[feats], num_iteration=clf.best_iteration_)[:, 1] / folds.n_splits\n",
    "                holdout_preds = clf.predict_proba(holdout[feats], num_iteration=clf.best_iteration_)[:, 1] \n",
    "\n",
    "            train_score = clf.best_score_['training']['auc']\n",
    "         \n",
    "    \n",
    "        else:\n",
    "            xgb_train = xgb.DMatrix(train_x, label=train_y)\n",
    "            xgb_val = xgb.DMatrix(valid_x, label=valid_y)\n",
    "            xgb_val_x = xgb.DMatrix(valid_x)\n",
    "            xgb_test = xgb.DMatrix(test_df[feats])\n",
    "            xgb_holdout = xgb.DMatrix(holdout[feats])\n",
    "#             xgb_model = xgb.train(xgb_params, train_set=xgb_train, valid_sets=[xgb_train, xgb_val], \n",
    "#                                   num_boost_round=rounds, verbose_eval=verbose)\n",
    "            xgb_model = xgb.train(xgb_params, xgb_train, evals=[(xgb_val, 'val')], \n",
    "                                  num_boost_round=rounds, verbose_eval=verbose)\n",
    "#             oof_preds[valid_idx] = xgb_model.predict(valid_x)\n",
    "            oof_preds[valid_idx] = xgb_model.predict(xgb_val_x)\n",
    "#             sub_preds += xgb_model.predict(test_df[feats]) / folds.n_splits\n",
    "            sub_preds += xgb_model.predict(xgb_test) / folds.n_splits\n",
    "#             holdout_preds = xgb_model.predict(holdout[feats])\n",
    "            holdout_preds = xgb_model.predict(xgb_holdout)\n",
    "            \n",
    "            train_score = -1 #xgb_model.best_score['training']['auc'] \n",
    "        \n",
    "        holdout_final_preds += holdout_preds / folds.n_splits\n",
    "        score = roc_auc_score(valid_y, oof_preds[valid_idx])\n",
    "        holdout_score = roc_auc_score(holdout['TARGET'], holdout_preds)\n",
    "        diff = abs(score - holdout_score)\n",
    "        best_rounds = rounds #if rounds is not None else clf.best_iteration_\n",
    "        print('Fold %2d [%5d] AUC : ho: %.6f / te: %.6f / tr: %.6f (diff: %.6f)' % (n_fold + 1, best_rounds, holdout_score, score,  train_score, diff))\n",
    "        scores.append(score)\n",
    "        train_scores.append(train_score)\n",
    "        holdout_scores.append(holdout_score)\n",
    "        diff_val_holdout.append(diff)\n",
    "\n",
    "        fold_importance_df = pd.DataFrame()\n",
    "        if mode=='sklearn':\n",
    "            fold_importance_df[\"feature\"] = feats\n",
    "            fold_importance_df[\"importance\"] = clf.feature_importances_\n",
    "        else:\n",
    "#             fold_importance_df['feature'] = xgb_model.feature_name() \n",
    "#             fold_importance_df[\"importance\"] = xgb_model.feature_importance() \n",
    "            fold_importance_df = pd.DataFrame.from_dict(m.get_fscore(), orient='index').reset_index().rename(columns={'index':'feature', 0:'importance'})\n",
    "        fold_importance_df[\"fold\"] = n_fold + 1\n",
    "        feature_importance_df = pd.concat([feature_importance_df, fold_importance_df], axis=0)\n",
    "\n",
    "        fold_importance_gain_df = pd.DataFrame()\n",
    "        if mode=='sklearn':\n",
    "            fold_importance_gain_df[\"feature\"] = feats\n",
    "            fold_importance_gain_df[\"importance\"] = clf.booster_.feature_importance(importance_type='gain')\n",
    "        else:\n",
    "#             fold_importance_gain_df['feature'] = xgb_model.feature_name() \n",
    "#             fold_importance_gain_df[\"importance\"] = xgb_model.feature_importance(importance_type='gain') \n",
    "            fold_importance_gain_df = pd.DataFrame.from_dict(m.get_fscore(), orient='index').reset_index().rename(columns={'index':'feature', 0:'importance'})\n",
    "        fold_importance_gain_df[\"fold\"] = n_fold + 1\n",
    "        feature_importance_gain_df = pd.concat([feature_importance_gain_df, fold_importance_gain_df], axis=0)\n",
    "\n",
    "\n",
    "#     print('Full AUC score %.6f' % roc_auc_score(train_df['TARGET'], oof_preds))\n",
    "    print('Full HO score %.6f' % roc_auc_score(holdout['TARGET'], holdout_final_preds))\n",
    "    print('FULL HO mean {:.6f}, std {:.6f}'.format(np.mean(holdout_scores), np.std(holdout_scores)))\n",
    "    print('FULL TE mean {:.6f}, std {:.6f}'.format(np.mean(scores), np.std(scores)))\n",
    "    print('FULL TR mean {:.6f}, std {:.6f}'.format(np.mean(train_scores), np.std(train_scores)))\n",
    "    print('FULL DIFF mean {:.6f}, std {:.6f}'.format(np.mean(diff_val_holdout), np.std(diff_val_holdout)))\n",
    "    # Write submission file and plot feature importance\n",
    "    if not debug:\n",
    "        test_df['TARGET'] = sub_preds\n",
    "        test_df[['SK_ID_CURR', 'TARGET']].to_csv(submission_file_name, index= False)\n",
    "#     if not print_to_file:\n",
    "#         display_importances(feature_importance_df, fe_img_name)\n",
    "    feature_importance_df = feature_importance_df[[\"feature\", \"importance\"]].groupby(\"feature\").mean().sort_values(by=\"importance\", ascending=False).reset_index()\n",
    "    feature_importance_gain_df = feature_importance_gain_df[[\"feature\", \"importance\"]].groupby(\"feature\").mean().sort_values(by=\"importance\", ascending=False).reset_index()\n",
    "    return feature_importance_df, feature_importance_gain_df, oof_preds \n",
    "        \n",
    "#                 min_split_gain=0.0222415,\n",
    "\n",
    "# Display/plot feature importance\n",
    "def display_importances(feature_importance_df_, fe_img_name):\n",
    "    cols = feature_importance_df_[[\"feature\", \"importance\"]].groupby(\"feature\").mean().sort_values(by=\"importance\", ascending=False)[:40].index\n",
    "    best_features = feature_importance_df_.loc[feature_importance_df_.feature.isin(cols)]\n",
    "    plt.figure(figsize=(8, 10))\n",
    "    sns.barplot(x=\"importance\", y=\"feature\", data=best_features.sort_values(by=\"importance\", ascending=False))\n",
    "    plt.title('LightGBM Features (avg over folds)')\n",
    "    plt.tight_layout()\n",
    "    plt.savefig(fe_img_name+'.png')\n",
    "\n",
    "\n",
    "def convert_and_save_imp_df(fe_imp_df, dumpfilename):\n",
    "    fe_imp_df_mean = fe_imp_df[[\"feature\", \"importance\"]].groupby(\"feature\").mean().sort_values(by=\"importance\", ascending=False).reset_index()\n",
    "    pickle.dump(fe_imp_df_mean, open(dumpfilename,'wb'))"
   ]
  },
  {
   "cell_type": "code",
   "execution_count": null,
   "metadata": {},
   "outputs": [],
   "source": []
  }
 ],
 "metadata": {
  "kernelspec": {
   "display_name": "Python 3",
   "language": "python",
   "name": "python3"
  },
  "language_info": {
   "codemirror_mode": {
    "name": "ipython",
    "version": 3
   },
   "file_extension": ".py",
   "mimetype": "text/x-python",
   "name": "python",
   "nbconvert_exporter": "python",
   "pygments_lexer": "ipython3",
   "version": "3.6.5"
  },
  "varInspector": {
   "cols": {
    "lenName": 16,
    "lenType": 16,
    "lenVar": 40
   },
   "kernels_config": {
    "python": {
     "delete_cmd_postfix": "",
     "delete_cmd_prefix": "del ",
     "library": "var_list.py",
     "varRefreshCmd": "print(var_dic_list())"
    },
    "r": {
     "delete_cmd_postfix": ") ",
     "delete_cmd_prefix": "rm(",
     "library": "var_list.r",
     "varRefreshCmd": "cat(var_dic_list()) "
    }
   },
   "types_to_exclude": [
    "module",
    "function",
    "builtin_function_or_method",
    "instance",
    "_Feature"
   ],
   "window_display": false
  }
 },
 "nbformat": 4,
 "nbformat_minor": 2
}
