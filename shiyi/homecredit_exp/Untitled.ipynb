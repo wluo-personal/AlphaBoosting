{
 "cells": [
  {
   "cell_type": "code",
   "execution_count": 1,
   "metadata": {
    "ExecuteTime": {
     "end_time": "2018-09-05T17:43:04.543834Z",
     "start_time": "2018-09-05T17:43:04.207543Z"
    }
   },
   "outputs": [],
   "source": [
    "import pandas as pd\n",
    "import lightgbm as lgb\n",
    "from lightgbm import LGBMClassifier as lgbc\n",
    "from sklearn.metrics import roc_auc_score\n",
    "from sklearn.model_selection import train_test_split, KFold, StratifiedKFold, cross_val_score"
   ]
  },
  {
   "cell_type": "code",
   "execution_count": 277,
   "metadata": {
    "ExecuteTime": {
     "end_time": "2018-09-07T19:19:28.697579Z",
     "start_time": "2018-09-07T19:19:21.633228Z"
    }
   },
   "outputs": [],
   "source": [
    "# train = pd.read_pickle('/home/kai/data/shiyi/homecreditdata/fe_selected/train_0827.pkl')\n",
    "# test = pd.read_pickle('/home/kai/data/shiyi/homecreditdata/fe_selected/test_0827.pkl')\n",
    "train_bo2 = pd.read_pickle('/home/kai/data/shiyi/data/home_credit/train_bo2.pkl')\n",
    "test_bo2 = pd.read_pickle('/home/kai/data/shiyi/data/home_credit/test_bo2.pkl')\n",
    "\n",
    "test.SK_ID_CURR = test.SK_ID_CURR.astype(int)"
   ]
  },
  {
   "cell_type": "code",
   "execution_count": 239,
   "metadata": {
    "ExecuteTime": {
     "end_time": "2018-09-07T17:35:05.769537Z",
     "start_time": "2018-09-07T17:35:05.545050Z"
    }
   },
   "outputs": [],
   "source": [
    "train_pos = train[train['TARGET'] == 1]\n",
    "\n",
    "train_neg = train[train['TARGET'] == 0].sample(frac=0.3)\n",
    "\n",
    "train = pd.concat([train_pos, train_neg]).sample(frac=1)"
   ]
  },
  {
   "cell_type": "code",
   "execution_count": null,
   "metadata": {},
   "outputs": [],
   "source": []
  },
  {
   "cell_type": "code",
   "execution_count": 276,
   "metadata": {
    "ExecuteTime": {
     "end_time": "2018-09-07T19:18:49.392401Z",
     "start_time": "2018-09-07T19:18:49.381122Z"
    }
   },
   "outputs": [],
   "source": [
    "lgb_params = {\n",
    "        'objective': 'binary',\n",
    "        'boosting': 'gbdt',\n",
    "        'learning_rate': 0.01,\n",
    "#         'max_bin': 511,\n",
    "#         'min_data_in_leaf': 220,\n",
    "        'num_leaves': 60, \n",
    "        'num_threads': 18, \n",
    "        'max_depth': 8,\n",
    "        'min_child_weight': 49.45,\n",
    "        'min_split_gain': 0.0552,\n",
    "        'feature_fraction': 0.13,\n",
    "        'feature_fraction_seed': 1992,\n",
    "        'bagging_fraction': 0.966, \n",
    "        'bagging_seed': 1992,\n",
    "        'scale_pos_weight': 1.7,\n",
    "        'lambda_l1': 0.57, \n",
    "        'lambda_l2': 0.96,\n",
    "        'metric': 'auc',\n",
    "        'device': 'GPU'\n",
    "    }"
   ]
  },
  {
   "cell_type": "code",
   "execution_count": 175,
   "metadata": {
    "ExecuteTime": {
     "end_time": "2018-09-06T18:02:17.395073Z",
     "start_time": "2018-09-06T18:02:17.389811Z"
    }
   },
   "outputs": [
    {
     "data": {
      "text/plain": [
       "(153756, 2408)"
      ]
     },
     "execution_count": 175,
     "metadata": {},
     "output_type": "execute_result"
    }
   ],
   "source": [
    "train_sel.shape"
   ]
  },
  {
   "cell_type": "code",
   "execution_count": 268,
   "metadata": {
    "ExecuteTime": {
     "end_time": "2018-09-07T18:27:30.954476Z",
     "start_time": "2018-09-07T18:27:30.948449Z"
    }
   },
   "outputs": [],
   "source": [
    "# data_temp = data.drop(columns=['TARGET', 'SK_ID_CURR']+data_missing_cols.tolist())\n",
    "def lgb_cv(X, y):\n",
    "    print(X.shape)\n",
    "    lgb_data = lgb.Dataset(X, y)\n",
    "\n",
    "    eval_hist = lgb.cv(lgb_params, lgb_data, nfold=5, stratified=True, \n",
    "                       num_boost_round=50000, early_stopping_rounds=200, verbose_eval=300, seed=41)\n",
    "\n",
    "    best_round = len(eval_hist['auc-mean'])\n",
    "    print(best_round)\n",
    "    print('lgb cv: ', eval_hist['auc-mean'][-1], ' std: ', eval_hist['auc-stdv'][-1])\n",
    "    return best_round"
   ]
  },
  {
   "cell_type": "code",
   "execution_count": 284,
   "metadata": {
    "ExecuteTime": {
     "end_time": "2018-09-07T20:08:43.066656Z",
     "start_time": "2018-09-07T20:08:43.060969Z"
    }
   },
   "outputs": [],
   "source": [
    "def train_pred(X, y, X_test, best_rounds, subfilename='sub.csv'):\n",
    "    print(X.shape)\n",
    "    lgb_data = lgb.Dataset(X, y)\n",
    "    model = lgb.train(lgb_params, lgb_data, num_boost_round=best_rounds)\n",
    "    X_test_sub = X_test[['SK_ID_CURR']]\n",
    "    X_test_sub['TARGET'] = model.predict(X_test)\n",
    "    X_test_sub.to_csv(subfilename, index=False)\n",
    "    return X_test_sub"
   ]
  },
  {
   "cell_type": "code",
   "execution_count": null,
   "metadata": {},
   "outputs": [],
   "source": [
    "(153756, 2408)\n",
    "211\n",
    "lgb cv:  0.7847590475687548  std:  0.002821230328311794"
   ]
  },
  {
   "cell_type": "code",
   "execution_count": null,
   "metadata": {},
   "outputs": [],
   "source": [
    "(153756, 2600)\n",
    "207\n",
    "lgb cv:  0.7832576715903944  std:  0.0019796626529290364"
   ]
  },
  {
   "cell_type": "code",
   "execution_count": null,
   "metadata": {},
   "outputs": [],
   "source": [
    "220\n",
    "lgb cv:  0.7821358235780864  std:  0.0027916802857769376"
   ]
  },
  {
   "cell_type": "code",
   "execution_count": 9,
   "metadata": {
    "ExecuteTime": {
     "end_time": "2018-09-05T17:56:20.461543Z",
     "start_time": "2018-09-05T17:56:20.451976Z"
    }
   },
   "outputs": [],
   "source": [
    "clf = lgbc(\n",
    "    nthread=18,\n",
    "    n_estimators=best_round,\n",
    "    learning_rate=0.1,\n",
    "    num_leaves=27,\n",
    "    colsample_bytree=0.07,\n",
    "    subsample=1,\n",
    "    subsample_freq=0, ## disable subsampling\n",
    "    max_depth=9,\n",
    "    reg_alpha=1,\n",
    "    reg_lambda=1,\n",
    "    min_child_weight=84,\n",
    "    min_child_samples=220,\n",
    "    silent=-1,\n",
    "    verbose=-1,\n",
    "    device='CPU'\n",
    ")"
   ]
  },
  {
   "cell_type": "code",
   "execution_count": 11,
   "metadata": {
    "ExecuteTime": {
     "end_time": "2018-09-05T17:56:24.833660Z",
     "start_time": "2018-09-05T17:56:24.829946Z"
    }
   },
   "outputs": [],
   "source": [
    "skf = StratifiedKFold(n_splits=5, shuffle=True, random_state=41)"
   ]
  },
  {
   "cell_type": "code",
   "execution_count": 12,
   "metadata": {
    "ExecuteTime": {
     "end_time": "2018-09-05T17:56:25.147414Z",
     "start_time": "2018-09-05T17:56:25.144210Z"
    }
   },
   "outputs": [
    {
     "name": "stdout",
     "output_type": "stream",
     "text": [
      "env: JOBLIB_TEMP_FOLDER=/tmp\n"
     ]
    }
   ],
   "source": [
    "%env JOBLIB_TEMP_FOLDER=/tmp"
   ]
  },
  {
   "cell_type": "code",
   "execution_count": 168,
   "metadata": {
    "ExecuteTime": {
     "end_time": "2018-09-06T17:53:48.068447Z",
     "start_time": "2018-09-06T17:51:37.346081Z"
    },
    "scrolled": true
   },
   "outputs": [
    {
     "name": "stdout",
     "output_type": "stream",
     "text": [
      "Pickling array (shape=(2600,), dtype=object).\n",
      "Memmaping (shape=(153756,), dtype=int64) to new file /tmp/joblib_memmaping_pool_2139_140258271359776/2139-140251827987456-4c6b22b1273e2bacc580c3efe0577e8a.pkl\n",
      "Memmaping (shape=(2531, 153756), dtype=float64) to new file /tmp/joblib_memmaping_pool_2139_140258271359776/2139-140251827987456-190dd199414762f1d0c88ccf0eea0acc.pkl\n",
      "[CV]  ................................................................\n",
      "Memmaping (shape=(69, 153756), dtype=int64) to new file /tmp/joblib_memmaping_pool_2139_140258271359776/2139-140251827987456-04f9ca486e9c305d44836898968485ba.pkl\n",
      "Pickling array (shape=(2531,), dtype=object).\n",
      "Pickling array (shape=(69,), dtype=object).\n",
      "Pickling array (shape=(2531,), dtype=int64).\n",
      "Pickling array (shape=(69,), dtype=int64).\n",
      "Memmaping (shape=(153756,), dtype=float64) to new file /tmp/joblib_memmaping_pool_2139_140258271359776/2139-140251827987456-f154161c8022fe344bf2614b6df2a5e2.pkl\n",
      "Memmaping (shape=(153756,), dtype=int64) to old file /tmp/joblib_memmaping_pool_2139_140258271359776/2139-140251827987456-4c6b22b1273e2bacc580c3efe0577e8a.pkl\n",
      "Pickling array (shape=(123004,), dtype=int64).\n",
      "Pickling array (shape=(30752,), dtype=int64).\n",
      "Pickling array (shape=(2600,), dtype=object).\n",
      "Memmaping (shape=(153756,), dtype=int64) to old file /tmp/joblib_memmaping_pool_2139_140258271359776/2139-140251827987456-4c6b22b1273e2bacc580c3efe0577e8a.pkl\n",
      "[CV]  ................................................................\n",
      "Memmaping (shape=(2531, 153756), dtype=float64) to old file /tmp/joblib_memmaping_pool_2139_140258271359776/2139-140251827987456-190dd199414762f1d0c88ccf0eea0acc.pkl\n",
      "Memmaping (shape=(69, 153756), dtype=int64) to old file /tmp/joblib_memmaping_pool_2139_140258271359776/2139-140251827987456-04f9ca486e9c305d44836898968485ba.pkl\n",
      "Pickling array (shape=(2531,), dtype=object).\n",
      "Pickling array (shape=(69,), dtype=object).\n",
      "Pickling array (shape=(2531,), dtype=int64).\n",
      "Pickling array (shape=(69,), dtype=int64).\n",
      "Memmaping (shape=(153756,), dtype=float64) to old file /tmp/joblib_memmaping_pool_2139_140258271359776/2139-140251827987456-f154161c8022fe344bf2614b6df2a5e2.pkl\n",
      "Memmaping (shape=(153756,), dtype=int64) to old file /tmp/joblib_memmaping_pool_2139_140258271359776/2139-140251827987456-4c6b22b1273e2bacc580c3efe0577e8a.pkl\n",
      "Pickling array (shape=(123004,), dtype=int64).\n",
      "Pickling array (shape=(30752,), dtype=int64).\n",
      "Pickling array (shape=(2600,), dtype=object).\n",
      "Memmaping (shape=(153756,), dtype=int64) to old file /tmp/joblib_memmaping_pool_2139_140258271359776/2139-140251827987456-4c6b22b1273e2bacc580c3efe0577e8a.pkl\n",
      "[CV]  ................................................................\n",
      "Memmaping (shape=(2531, 153756), dtype=float64) to old file /tmp/joblib_memmaping_pool_2139_140258271359776/2139-140251827987456-190dd199414762f1d0c88ccf0eea0acc.pkl\n",
      "Memmaping (shape=(69, 153756), dtype=int64) to old file /tmp/joblib_memmaping_pool_2139_140258271359776/2139-140251827987456-04f9ca486e9c305d44836898968485ba.pkl\n",
      "Pickling array (shape=(2531,), dtype=object).\n",
      "Pickling array (shape=(69,), dtype=object).\n",
      "Pickling array (shape=(2531,), dtype=int64).\n",
      "Pickling array (shape=(69,), dtype=int64).\n",
      "Memmaping (shape=(153756,), dtype=float64) to old file /tmp/joblib_memmaping_pool_2139_140258271359776/2139-140251827987456-f154161c8022fe344bf2614b6df2a5e2.pkl\n",
      "Memmaping (shape=(153756,), dtype=int64) to old file /tmp/joblib_memmaping_pool_2139_140258271359776/2139-140251827987456-4c6b22b1273e2bacc580c3efe0577e8a.pkl\n",
      "Pickling array (shape=(123005,), dtype=int64).\n",
      "Pickling array (shape=(30751,), dtype=int64).\n",
      "Pickling array (shape=(2600,), dtype=object).\n",
      "Memmaping (shape=(153756,), dtype=int64) to old file /tmp/joblib_memmaping_pool_2139_140258271359776/2139-140251827987456-4c6b22b1273e2bacc580c3efe0577e8a.pkl\n",
      "[CV]  ................................................................\n",
      "Memmaping (shape=(2531, 153756), dtype=float64) to old file /tmp/joblib_memmaping_pool_2139_140258271359776/2139-140251827987456-190dd199414762f1d0c88ccf0eea0acc.pkl\n",
      "Memmaping (shape=(69, 153756), dtype=int64) to old file /tmp/joblib_memmaping_pool_2139_140258271359776/2139-140251827987456-04f9ca486e9c305d44836898968485ba.pkl\n",
      "Pickling array (shape=(2531,), dtype=object).\n",
      "Pickling array (shape=(69,), dtype=object).\n",
      "Pickling array (shape=(2531,), dtype=int64).\n",
      "Pickling array (shape=(69,), dtype=int64).\n",
      "Memmaping (shape=(153756,), dtype=float64) to old file /tmp/joblib_memmaping_pool_2139_140258271359776/2139-140251827987456-f154161c8022fe344bf2614b6df2a5e2.pkl\n",
      "Memmaping (shape=(153756,), dtype=int64) to old file /tmp/joblib_memmaping_pool_2139_140258271359776/2139-140251827987456-4c6b22b1273e2bacc580c3efe0577e8a.pkl\n",
      "Pickling array (shape=(123005,), dtype=int64).\n",
      "Pickling array (shape=(30751,), dtype=int64).\n",
      "Pickling array (shape=(2600,), dtype=object).\n",
      "Memmaping (shape=(153756,), dtype=int64) to old file /tmp/joblib_memmaping_pool_2139_140258271359776/2139-140251827987456-4c6b22b1273e2bacc580c3efe0577e8a.pkl\n",
      "[CV]  ................................................................\n",
      "Memmaping (shape=(2531, 153756), dtype=float64) to old file /tmp/joblib_memmaping_pool_2139_140258271359776/2139-140251827987456-190dd199414762f1d0c88ccf0eea0acc.pkl\n",
      "Memmaping (shape=(69, 153756), dtype=int64) to old file /tmp/joblib_memmaping_pool_2139_140258271359776/2139-140251827987456-04f9ca486e9c305d44836898968485ba.pkl\n",
      "Pickling array (shape=(2531,), dtype=object).\n",
      "Pickling array (shape=(69,), dtype=object).\n",
      "Pickling array (shape=(2531,), dtype=int64).\n",
      "Pickling array (shape=(69,), dtype=int64).\n",
      "Memmaping (shape=(153756,), dtype=float64) to old file /tmp/joblib_memmaping_pool_2139_140258271359776/2139-140251827987456-f154161c8022fe344bf2614b6df2a5e2.pkl\n",
      "Memmaping (shape=(153756,), dtype=int64) to old file /tmp/joblib_memmaping_pool_2139_140258271359776/2139-140251827987456-4c6b22b1273e2bacc580c3efe0577e8a.pkl\n",
      "Pickling array (shape=(123006,), dtype=int64).\n",
      "Pickling array (shape=(30750,), dtype=int64).\n",
      "[CV] ....................... , score=0.7847686667703835, total= 1.5min\n",
      "[Parallel(n_jobs=-1)]: Done   1 tasks      | elapsed:  1.6min\n",
      "[CV] ....................... , score=0.7896157952029917, total= 1.7min\n",
      "[Parallel(n_jobs=-1)]: Done   2 out of   5 | elapsed:  1.8min remaining:  2.8min\n",
      "[CV] ....................... , score=0.7814536662064907, total= 1.6min\n",
      "[Parallel(n_jobs=-1)]: Done   3 out of   5 | elapsed:  1.9min remaining:  1.3min\n",
      "[CV] ....................... , score=0.7826210783612597, total= 1.6min\n",
      "[CV] ....................... , score=0.7799737965729564, total= 1.6min\n",
      "[Parallel(n_jobs=-1)]: Done   5 out of   5 | elapsed:  2.0min remaining:    0.0s\n",
      "[Parallel(n_jobs=-1)]: Done   5 out of   5 | elapsed:  2.0min finished\n"
     ]
    }
   ],
   "source": [
    "scores = cross_val_score(clf, train_data.drop(columns=train_missing_cols), train['TARGET'], cv=skf,  scoring='roc_auc', verbose=100, n_jobs=-1)"
   ]
  },
  {
   "cell_type": "code",
   "execution_count": 169,
   "metadata": {
    "ExecuteTime": {
     "end_time": "2018-09-06T17:53:54.201646Z",
     "start_time": "2018-09-06T17:53:54.195722Z"
    }
   },
   "outputs": [
    {
     "data": {
      "text/plain": [
       "(0.7836866006228165, 0.0033535790799512325)"
      ]
     },
     "execution_count": 169,
     "metadata": {},
     "output_type": "execute_result"
    }
   ],
   "source": [
    "scores.mean(), scores.std()"
   ]
  },
  {
   "cell_type": "code",
   "execution_count": 154,
   "metadata": {
    "ExecuteTime": {
     "end_time": "2018-09-05T21:04:53.144302Z",
     "start_time": "2018-09-05T21:04:53.138125Z"
    }
   },
   "outputs": [
    {
     "data": {
      "text/plain": [
       "(0.7845090952399929, 0.0028690630448048983)"
      ]
     },
     "execution_count": 154,
     "metadata": {},
     "output_type": "execute_result"
    }
   ],
   "source": [
    "scores.mean(), scores.std()"
   ]
  },
  {
   "cell_type": "code",
   "execution_count": 155,
   "metadata": {
    "ExecuteTime": {
     "end_time": "2018-09-05T21:05:15.214850Z",
     "start_time": "2018-09-05T21:05:15.210840Z"
    }
   },
   "outputs": [],
   "source": [
    "from sklearn.feature_selection import VarianceThreshold, chi2, SelectKBest, SelectPercentile, f_classif "
   ]
  },
  {
   "cell_type": "code",
   "execution_count": 82,
   "metadata": {
    "ExecuteTime": {
     "end_time": "2018-09-05T19:45:11.019145Z",
     "start_time": "2018-09-05T19:45:11.014724Z"
    }
   },
   "outputs": [],
   "source": [
    "def variance_threshold_selector(data, threshold=0.5):\n",
    "    selector = VarianceThreshold(threshold)\n",
    "    selector.fit(data)\n",
    "    return data[data.columns[selector.get_support(indices=True)]]"
   ]
  },
  {
   "cell_type": "code",
   "execution_count": 127,
   "metadata": {
    "ExecuteTime": {
     "end_time": "2018-09-05T20:01:37.017887Z",
     "start_time": "2018-09-05T20:01:37.012713Z"
    }
   },
   "outputs": [
    {
     "data": {
      "text/plain": [
       "(153756, 2676)"
      ]
     },
     "execution_count": 127,
     "metadata": {},
     "output_type": "execute_result"
    }
   ],
   "source": [
    "train_data.shape"
   ]
  },
  {
   "cell_type": "code",
   "execution_count": 160,
   "metadata": {
    "ExecuteTime": {
     "end_time": "2018-09-05T23:51:21.294405Z",
     "start_time": "2018-09-05T23:51:21.289352Z"
    }
   },
   "outputs": [
    {
     "data": {
      "text/plain": [
       "(153756, 2408)"
      ]
     },
     "execution_count": 160,
     "metadata": {},
     "output_type": "execute_result"
    }
   ],
   "source": [
    "train_sel.shape"
   ]
  },
  {
   "cell_type": "code",
   "execution_count": 181,
   "metadata": {
    "ExecuteTime": {
     "end_time": "2018-09-06T18:10:52.203009Z",
     "start_time": "2018-09-06T18:10:43.084150Z"
    }
   },
   "outputs": [
    {
     "name": "stderr",
     "output_type": "stream",
     "text": [
      "/home/kai/anaconda3/lib/python3.6/site-packages/sklearn/feature_selection/univariate_selection.py:113: UserWarning: Features [1516 1519 1520 1521 1522 1523 1536 1559 1564 1691 1692 1693 1694 1695\n",
      " 1696 1697 1698 1699 1700 1701 1702 1703 1704 1705 1706 1707 1708 1709\n",
      " 1710 2424 2425 2444 2445 2450 2451 2458 2459 2464 2465 2474 2475 2484\n",
      " 2485 2494 2495 2504 2505 2516 2517 2520 2521 2548 2549 2576 2577] are constant.\n",
      "  UserWarning)\n",
      "/home/kai/anaconda3/lib/python3.6/site-packages/sklearn/feature_selection/univariate_selection.py:114: RuntimeWarning: invalid value encountered in true_divide\n",
      "  f = msb / msw\n"
     ]
    }
   ],
   "source": [
    "train_sel2_2 = train_sel1[selectKBest_selector(train_sel1.fillna(0), train['TARGET'], f_classif, 80)]#, 2000)"
   ]
  },
  {
   "cell_type": "code",
   "execution_count": 139,
   "metadata": {
    "ExecuteTime": {
     "end_time": "2018-09-05T20:52:43.985941Z",
     "start_time": "2018-09-05T20:52:42.730721Z"
    }
   },
   "outputs": [],
   "source": [
    "train_data = train.drop(columns=['TARGET', 'SK_ID_CURR'])"
   ]
  },
  {
   "cell_type": "code",
   "execution_count": 25,
   "metadata": {
    "ExecuteTime": {
     "end_time": "2018-09-05T19:13:11.288979Z",
     "start_time": "2018-09-05T19:13:11.285533Z"
    }
   },
   "outputs": [],
   "source": [
    "from sklearn_pandas import DataFrameMapper"
   ]
  },
  {
   "cell_type": "code",
   "execution_count": 124,
   "metadata": {
    "ExecuteTime": {
     "end_time": "2018-09-05T20:01:05.452708Z",
     "start_time": "2018-09-05T20:01:05.445752Z"
    }
   },
   "outputs": [],
   "source": [
    "sample = train_data[['AMT_ANNUITY','AMT_ANNUITY_divide_AMT_GOODS_PRICE', 'AMT_ANNUITY_divide_AMT_REQ_CREDIT_BUREAU_DAY']].head().copy()"
   ]
  },
  {
   "cell_type": "code",
   "execution_count": null,
   "metadata": {},
   "outputs": [],
   "source": []
  },
  {
   "cell_type": "code",
   "execution_count": null,
   "metadata": {},
   "outputs": [],
   "source": []
  },
  {
   "cell_type": "code",
   "execution_count": 209,
   "metadata": {
    "ExecuteTime": {
     "end_time": "2018-09-07T16:57:15.872548Z",
     "start_time": "2018-09-07T16:57:15.868155Z"
    }
   },
   "outputs": [],
   "source": [
    "def sel_na(X, na_thresh):\n",
    "    X_na = (X.isnull().sum() / len(X))#.sort_values(ascending = False)\n",
    "    return X_na.index[X_na <= na_thresh]"
   ]
  },
  {
   "cell_type": "code",
   "execution_count": 194,
   "metadata": {
    "ExecuteTime": {
     "end_time": "2018-09-07T16:43:57.029790Z",
     "start_time": "2018-09-07T16:43:57.024712Z"
    }
   },
   "outputs": [],
   "source": [
    "from sklearn.feature_selection import SelectPercentile, f_classif \n",
    "def sel_percentile(X, y, score_func=f_classif, p=90):\n",
    "    X = X.fillna(0)\n",
    "    selector = SelectPercentile(score_func, p)\n",
    "    selector.fit(X, y)\n",
    "    return X.columns[selector.get_support(indices=True)]"
   ]
  },
  {
   "cell_type": "code",
   "execution_count": 233,
   "metadata": {
    "ExecuteTime": {
     "end_time": "2018-09-07T17:30:53.550172Z",
     "start_time": "2018-09-07T17:30:53.544415Z"
    }
   },
   "outputs": [],
   "source": [
    "def sel_corr_todrop(X, thresh, upper):\n",
    "    if upper is None:\n",
    "        corr_matrix = X.corr().abs()\n",
    "        # Upper triangle of correlations\n",
    "        upper = corr_matrix.where(np.triu(np.ones(corr_matrix.shape), k=1).astype(np.bool))\n",
    "        pickle.dump(upper, open('upper.pkl', 'wb'))\n",
    "    return [column for column in upper.columns if any(upper[column] > thresh)] "
   ]
  },
  {
   "cell_type": "code",
   "execution_count": 278,
   "metadata": {
    "ExecuteTime": {
     "end_time": "2018-09-07T19:51:48.977038Z",
     "start_time": "2018-09-07T19:20:00.389707Z"
    }
   },
   "outputs": [
    {
     "name": "stdout",
     "output_type": "stream",
     "text": [
      "(307511, 2676)\n",
      "[300]\tcv_agg's auc: 0.777972 + 0.00375667\n",
      "[600]\tcv_agg's auc: 0.787999 + 0.00333269\n",
      "[900]\tcv_agg's auc: 0.792506 + 0.00302955\n",
      "[1200]\tcv_agg's auc: 0.794678 + 0.00291368\n",
      "[1500]\tcv_agg's auc: 0.795882 + 0.00291167\n",
      "[1800]\tcv_agg's auc: 0.796556 + 0.00290114\n",
      "[2100]\tcv_agg's auc: 0.796971 + 0.00284554\n",
      "[2400]\tcv_agg's auc: 0.797153 + 0.00283812\n",
      "[2700]\tcv_agg's auc: 0.797267 + 0.0028544\n",
      "[3000]\tcv_agg's auc: 0.797276 + 0.0028744\n",
      "3041\n",
      "lgb cv:  0.7973016864043533  std:  0.0028961028049985186\n",
      "(307511, 2676)\n"
     ]
    },
    {
     "name": "stderr",
     "output_type": "stream",
     "text": [
      "/home/kai/anaconda3/lib/python3.6/site-packages/ipykernel_launcher.py:6: SettingWithCopyWarning: \n",
      "A value is trying to be set on a copy of a slice from a DataFrame.\n",
      "Try using .loc[row_indexer,col_indexer] = value instead\n",
      "\n",
      "See the caveats in the documentation: http://pandas.pydata.org/pandas-docs/stable/indexing.html#indexing-view-versus-copy\n",
      "  \n"
     ]
    }
   ],
   "source": [
    "X = train_bo2.drop(columns=['TARGET', 'SK_ID_CURR'])\n",
    "y = train_bo2['TARGET']\n",
    "X_test = test_bo2\n",
    "bn = lgb_cv(X, y)\n",
    "sub = train_pred(X, y, X_test, bn)\n",
    "\n",
    "\n",
    "# X = X[sel_na(X, 0.95)]\n",
    "# lgb_cv(X, y)\n",
    "\n",
    "# to_drop = sel_corr_todrop(X, 0.95, upper)\n",
    "# to_drop = [col for col in X.columns if col in to_drop]\n",
    "# X = X.drop(columns=to_drop)\n",
    "# X_test = X_test.drop(columns=to_drop)\n",
    "# bn = lgb_cv(X, y)\n",
    "# sub = train_pred(X, y, X_test, bn)"
   ]
  },
  {
   "cell_type": "code",
   "execution_count": 281,
   "metadata": {
    "ExecuteTime": {
     "end_time": "2018-09-07T19:52:16.053541Z",
     "start_time": "2018-09-07T19:52:15.954324Z"
    }
   },
   "outputs": [
    {
     "name": "stderr",
     "output_type": "stream",
     "text": [
      "/home/kai/anaconda3/lib/python3.6/site-packages/pandas/core/generic.py:4401: SettingWithCopyWarning: \n",
      "A value is trying to be set on a copy of a slice from a DataFrame.\n",
      "Try using .loc[row_indexer,col_indexer] = value instead\n",
      "\n",
      "See the caveats in the documentation: http://pandas.pydata.org/pandas-docs/stable/indexing.html#indexing-view-versus-copy\n",
      "  self[name] = value\n"
     ]
    }
   ],
   "source": [
    "sub.SK_ID_CURR = sub.SK_ID_CURR.astype(int)"
   ]
  },
  {
   "cell_type": "code",
   "execution_count": 283,
   "metadata": {
    "ExecuteTime": {
     "end_time": "2018-09-07T19:52:32.007732Z",
     "start_time": "2018-09-07T19:52:31.823456Z"
    }
   },
   "outputs": [],
   "source": [
    "sub.to_csv('sub.csv', index=False)"
   ]
  },
  {
   "cell_type": "code",
   "execution_count": null,
   "metadata": {},
   "outputs": [],
   "source": [
    "(307511, 407)\n",
    "[300]\tcv_agg's auc: 0.789638 + 0.00311958\n",
    "[600]\tcv_agg's auc: 0.794496 + 0.00306175\n",
    "[900]\tcv_agg's auc: 0.79592 + 0.00289928\n",
    "[1200]\tcv_agg's auc: 0.796327 + 0.00292147\n",
    "[1500]\tcv_agg's auc: 0.796412 + 0.00291771\n",
    "[1800]\tcv_agg's auc: 0.796403 + 0.00295967\n",
    "1710\n",
    "lgb cv:  0.7964685386921321  std:  0.002979441066024733\n",
    "(307511, 407)"
   ]
  },
  {
   "cell_type": "code",
   "execution_count": null,
   "metadata": {},
   "outputs": [],
   "source": [
    "(307511, 2676)\n",
    "[300]\tcv_agg's auc: 0.792076 + 0.0028967\n",
    "385\n",
    "lgb cv:  0.7923423900310747  std:  0.003006222150907127"
   ]
  },
  {
   "cell_type": "code",
   "execution_count": null,
   "metadata": {},
   "outputs": [],
   "source": [
    "cols = sel_percentile(X, y)\n",
    "X = X[cols]\n",
    "X_test = X_test[cols]\n",
    "bn = lgb_cv(X, y)\n",
    "sub = train_pred(X, y, X_test, bn)"
   ]
  },
  {
   "cell_type": "code",
   "execution_count": 232,
   "metadata": {
    "ExecuteTime": {
     "end_time": "2018-09-07T17:12:54.627305Z",
     "start_time": "2018-09-07T17:12:54.601262Z"
    }
   },
   "outputs": [
    {
     "data": {
      "text/html": [
       "<div>\n",
       "<style scoped>\n",
       "    .dataframe tbody tr th:only-of-type {\n",
       "        vertical-align: middle;\n",
       "    }\n",
       "\n",
       "    .dataframe tbody tr th {\n",
       "        vertical-align: top;\n",
       "    }\n",
       "\n",
       "    .dataframe thead th {\n",
       "        text-align: right;\n",
       "    }\n",
       "</style>\n",
       "<table border=\"1\" class=\"dataframe\">\n",
       "  <thead>\n",
       "    <tr style=\"text-align: right;\">\n",
       "      <th></th>\n",
       "      <th>AMT_ANNUITY</th>\n",
       "      <th>AMT_ANNUITY_divide_AMT_GOODS_PRICE</th>\n",
       "      <th>AMT_ANNUITY_divide_AMT_REQ_CREDIT_BUREAU_DAY</th>\n",
       "      <th>AMT_ANNUITY_divide_AMT_REQ_CREDIT_BUREAU_HOUR</th>\n",
       "      <th>AMT_ANNUITY_divide_AMT_REQ_CREDIT_BUREAU_MON</th>\n",
       "      <th>AMT_ANNUITY_divide_AMT_REQ_CREDIT_BUREAU_QRT</th>\n",
       "      <th>AMT_ANNUITY_divide_AMT_REQ_CREDIT_BUREAU_WEEK</th>\n",
       "      <th>AMT_ANNUITY_divide_AMT_REQ_CREDIT_BUREAU_YEAR</th>\n",
       "      <th>AMT_ANNUITY_divide_CNT_CHILDREN</th>\n",
       "      <th>AMT_ANNUITY_divide_CNT_FAM_MEMBERS</th>\n",
       "      <th>...</th>\n",
       "      <th>unique_NAME_EDUCATION_TYPE_x</th>\n",
       "      <th>unique_NAME_EDUCATION_TYPE_y</th>\n",
       "      <th>unique_NAME_INCOME_TYPE_x</th>\n",
       "      <th>unique_NAME_INCOME_TYPE_y</th>\n",
       "      <th>unique_cnt_install_max</th>\n",
       "      <th>unique_cnt_install_mean</th>\n",
       "      <th>unique_cnt_install_min</th>\n",
       "      <th>unique_cnt_install_std</th>\n",
       "      <th>unique_cnt_install_sum</th>\n",
       "      <th>unique_prev</th>\n",
       "    </tr>\n",
       "  </thead>\n",
       "  <tbody>\n",
       "    <tr>\n",
       "      <th>AMT_ANNUITY</th>\n",
       "      <td>NaN</td>\n",
       "      <td>0.08507</td>\n",
       "      <td>0.883824</td>\n",
       "      <td>0.97581</td>\n",
       "      <td>0.817785</td>\n",
       "      <td>0.850571</td>\n",
       "      <td>0.967757</td>\n",
       "      <td>0.639245</td>\n",
       "      <td>0.833132</td>\n",
       "      <td>0.706827</td>\n",
       "      <td>...</td>\n",
       "      <td>0.031639</td>\n",
       "      <td>0.023665</td>\n",
       "      <td>0.010817</td>\n",
       "      <td>0.071958</td>\n",
       "      <td>0.054729</td>\n",
       "      <td>0.065295</td>\n",
       "      <td>0.047737</td>\n",
       "      <td>0.029529</td>\n",
       "      <td>0.018280</td>\n",
       "      <td>0.001242</td>\n",
       "    </tr>\n",
       "    <tr>\n",
       "      <th>AMT_ANNUITY_divide_AMT_GOODS_PRICE</th>\n",
       "      <td>NaN</td>\n",
       "      <td>NaN</td>\n",
       "      <td>0.041619</td>\n",
       "      <td>0.08416</td>\n",
       "      <td>0.017544</td>\n",
       "      <td>0.068258</td>\n",
       "      <td>0.091411</td>\n",
       "      <td>0.082610</td>\n",
       "      <td>0.059282</td>\n",
       "      <td>0.046122</td>\n",
       "      <td>...</td>\n",
       "      <td>0.011920</td>\n",
       "      <td>0.024433</td>\n",
       "      <td>0.004819</td>\n",
       "      <td>0.035508</td>\n",
       "      <td>0.037370</td>\n",
       "      <td>0.033414</td>\n",
       "      <td>0.016637</td>\n",
       "      <td>0.021387</td>\n",
       "      <td>0.019977</td>\n",
       "      <td>0.011544</td>\n",
       "    </tr>\n",
       "  </tbody>\n",
       "</table>\n",
       "<p>2 rows × 2676 columns</p>\n",
       "</div>"
      ],
      "text/plain": [
       "                                    AMT_ANNUITY  \\\n",
       "AMT_ANNUITY                                 NaN   \n",
       "AMT_ANNUITY_divide_AMT_GOODS_PRICE          NaN   \n",
       "\n",
       "                                    AMT_ANNUITY_divide_AMT_GOODS_PRICE  \\\n",
       "AMT_ANNUITY                                                    0.08507   \n",
       "AMT_ANNUITY_divide_AMT_GOODS_PRICE                                 NaN   \n",
       "\n",
       "                                    AMT_ANNUITY_divide_AMT_REQ_CREDIT_BUREAU_DAY  \\\n",
       "AMT_ANNUITY                                                             0.883824   \n",
       "AMT_ANNUITY_divide_AMT_GOODS_PRICE                                      0.041619   \n",
       "\n",
       "                                    AMT_ANNUITY_divide_AMT_REQ_CREDIT_BUREAU_HOUR  \\\n",
       "AMT_ANNUITY                                                               0.97581   \n",
       "AMT_ANNUITY_divide_AMT_GOODS_PRICE                                        0.08416   \n",
       "\n",
       "                                    AMT_ANNUITY_divide_AMT_REQ_CREDIT_BUREAU_MON  \\\n",
       "AMT_ANNUITY                                                             0.817785   \n",
       "AMT_ANNUITY_divide_AMT_GOODS_PRICE                                      0.017544   \n",
       "\n",
       "                                    AMT_ANNUITY_divide_AMT_REQ_CREDIT_BUREAU_QRT  \\\n",
       "AMT_ANNUITY                                                             0.850571   \n",
       "AMT_ANNUITY_divide_AMT_GOODS_PRICE                                      0.068258   \n",
       "\n",
       "                                    AMT_ANNUITY_divide_AMT_REQ_CREDIT_BUREAU_WEEK  \\\n",
       "AMT_ANNUITY                                                              0.967757   \n",
       "AMT_ANNUITY_divide_AMT_GOODS_PRICE                                       0.091411   \n",
       "\n",
       "                                    AMT_ANNUITY_divide_AMT_REQ_CREDIT_BUREAU_YEAR  \\\n",
       "AMT_ANNUITY                                                              0.639245   \n",
       "AMT_ANNUITY_divide_AMT_GOODS_PRICE                                       0.082610   \n",
       "\n",
       "                                    AMT_ANNUITY_divide_CNT_CHILDREN  \\\n",
       "AMT_ANNUITY                                                0.833132   \n",
       "AMT_ANNUITY_divide_AMT_GOODS_PRICE                         0.059282   \n",
       "\n",
       "                                    AMT_ANNUITY_divide_CNT_FAM_MEMBERS  \\\n",
       "AMT_ANNUITY                                                   0.706827   \n",
       "AMT_ANNUITY_divide_AMT_GOODS_PRICE                            0.046122   \n",
       "\n",
       "                                       ...       unique_NAME_EDUCATION_TYPE_x  \\\n",
       "AMT_ANNUITY                            ...                           0.031639   \n",
       "AMT_ANNUITY_divide_AMT_GOODS_PRICE     ...                           0.011920   \n",
       "\n",
       "                                    unique_NAME_EDUCATION_TYPE_y  \\\n",
       "AMT_ANNUITY                                             0.023665   \n",
       "AMT_ANNUITY_divide_AMT_GOODS_PRICE                      0.024433   \n",
       "\n",
       "                                    unique_NAME_INCOME_TYPE_x  \\\n",
       "AMT_ANNUITY                                          0.010817   \n",
       "AMT_ANNUITY_divide_AMT_GOODS_PRICE                   0.004819   \n",
       "\n",
       "                                    unique_NAME_INCOME_TYPE_y  \\\n",
       "AMT_ANNUITY                                          0.071958   \n",
       "AMT_ANNUITY_divide_AMT_GOODS_PRICE                   0.035508   \n",
       "\n",
       "                                    unique_cnt_install_max  \\\n",
       "AMT_ANNUITY                                       0.054729   \n",
       "AMT_ANNUITY_divide_AMT_GOODS_PRICE                0.037370   \n",
       "\n",
       "                                    unique_cnt_install_mean  \\\n",
       "AMT_ANNUITY                                        0.065295   \n",
       "AMT_ANNUITY_divide_AMT_GOODS_PRICE                 0.033414   \n",
       "\n",
       "                                    unique_cnt_install_min  \\\n",
       "AMT_ANNUITY                                       0.047737   \n",
       "AMT_ANNUITY_divide_AMT_GOODS_PRICE                0.016637   \n",
       "\n",
       "                                    unique_cnt_install_std  \\\n",
       "AMT_ANNUITY                                       0.029529   \n",
       "AMT_ANNUITY_divide_AMT_GOODS_PRICE                0.021387   \n",
       "\n",
       "                                    unique_cnt_install_sum  unique_prev  \n",
       "AMT_ANNUITY                                       0.018280     0.001242  \n",
       "AMT_ANNUITY_divide_AMT_GOODS_PRICE                0.019977     0.011544  \n",
       "\n",
       "[2 rows x 2676 columns]"
      ]
     },
     "execution_count": 232,
     "metadata": {},
     "output_type": "execute_result"
    }
   ],
   "source": [
    "(54785, 2676)\n",
    "249\n",
    "lgb cv:  0.7794286226656331  std:  0.003618835037882991\n",
    "(54785, 2639)\n",
    "192\n",
    "lgb cv:  0.7820200860381625  std:  0.0028846999986840774\n",
    "(54785, 2375)\n",
    "248\n",
    "lgb cv:  0.7802523758999323  std:  0.0034383976850541867\n",
    "(54785, 1245)\n",
    "306\n",
    "lgb cv:  0.7783458496867992  std:  0.0030065721961018066"
   ]
  },
  {
   "cell_type": "code",
   "execution_count": 204,
   "metadata": {
    "ExecuteTime": {
     "end_time": "2018-09-07T16:50:34.330222Z",
     "start_time": "2018-09-07T16:50:33.636086Z"
    }
   },
   "outputs": [],
   "source": [
    "import pickle\n",
    "upper = pickle.load(open('bo2_upper.pkl','rb'))\n",
    "train_sel3 = train_data[sel_corr(train_data, 0.95, upper)]"
   ]
  },
  {
   "cell_type": "code",
   "execution_count": null,
   "metadata": {},
   "outputs": [],
   "source": []
  },
  {
   "cell_type": "code",
   "execution_count": null,
   "metadata": {},
   "outputs": [],
   "source": []
  },
  {
   "cell_type": "code",
   "execution_count": null,
   "metadata": {},
   "outputs": [],
   "source": []
  },
  {
   "cell_type": "code",
   "execution_count": 79,
   "metadata": {
    "ExecuteTime": {
     "end_time": "2018-09-05T19:39:36.077860Z",
     "start_time": "2018-09-05T19:39:36.071297Z"
    }
   },
   "outputs": [],
   "source": [
    "data = pd.DataFrame({'pet':      ['cat', 'dog', 'dog', 'fish', 'cat', 'dog', 'cat', 'fish'], \n",
    "                     'children': [4., 6, 3, 3, 2, 3, 5, 4], \n",
    "                     'salary':   [90., 24, 44, 27, 32, 59, 36, 27]})"
   ]
  },
  {
   "cell_type": "code",
   "execution_count": 81,
   "metadata": {
    "ExecuteTime": {
     "end_time": "2018-09-05T19:40:22.632340Z",
     "start_time": "2018-09-05T19:40:22.614795Z"
    }
   },
   "outputs": [
    {
     "data": {
      "text/html": [
       "<div>\n",
       "<style scoped>\n",
       "    .dataframe tbody tr th:only-of-type {\n",
       "        vertical-align: middle;\n",
       "    }\n",
       "\n",
       "    .dataframe tbody tr th {\n",
       "        vertical-align: top;\n",
       "    }\n",
       "\n",
       "    .dataframe thead th {\n",
       "        text-align: right;\n",
       "    }\n",
       "</style>\n",
       "<table border=\"1\" class=\"dataframe\">\n",
       "  <thead>\n",
       "    <tr style=\"text-align: right;\">\n",
       "      <th></th>\n",
       "      <th>children_salary</th>\n",
       "    </tr>\n",
       "  </thead>\n",
       "  <tbody>\n",
       "    <tr>\n",
       "      <th>0</th>\n",
       "      <td>90.0</td>\n",
       "    </tr>\n",
       "    <tr>\n",
       "      <th>1</th>\n",
       "      <td>24.0</td>\n",
       "    </tr>\n",
       "    <tr>\n",
       "      <th>2</th>\n",
       "      <td>44.0</td>\n",
       "    </tr>\n",
       "    <tr>\n",
       "      <th>3</th>\n",
       "      <td>27.0</td>\n",
       "    </tr>\n",
       "    <tr>\n",
       "      <th>4</th>\n",
       "      <td>32.0</td>\n",
       "    </tr>\n",
       "    <tr>\n",
       "      <th>5</th>\n",
       "      <td>59.0</td>\n",
       "    </tr>\n",
       "    <tr>\n",
       "      <th>6</th>\n",
       "      <td>36.0</td>\n",
       "    </tr>\n",
       "    <tr>\n",
       "      <th>7</th>\n",
       "      <td>27.0</td>\n",
       "    </tr>\n",
       "  </tbody>\n",
       "</table>\n",
       "</div>"
      ],
      "text/plain": [
       "   children_salary\n",
       "0             90.0\n",
       "1             24.0\n",
       "2             44.0\n",
       "3             27.0\n",
       "4             32.0\n",
       "5             59.0\n",
       "6             36.0\n",
       "7             27.0"
      ]
     },
     "execution_count": 81,
     "metadata": {},
     "output_type": "execute_result"
    }
   ],
   "source": [
    "from sklearn.feature_selection import SelectKBest, chi2\n",
    "mapper_fs = DataFrameMapper([(['children','salary'], SelectKBest(chi2, k=1))], df_out=True)\n",
    "mapper_fs.fit_transform(data[['children','salary']], data['pet'])"
   ]
  },
  {
   "cell_type": "code",
   "execution_count": null,
   "metadata": {},
   "outputs": [],
   "source": []
  },
  {
   "cell_type": "code",
   "execution_count": null,
   "metadata": {},
   "outputs": [],
   "source": []
  },
  {
   "cell_type": "code",
   "execution_count": null,
   "metadata": {
    "ExecuteTime": {
     "end_time": "2018-09-05T14:44:00.370480Z",
     "start_time": "2018-09-05T14:43:27.156835Z"
    }
   },
   "outputs": [],
   "source": [
    "%%time\n",
    "m = clf.fit(X_train, y_train, eval_set=[(X_train, y_train), (X_val, y_val)], eval_metric='auc', verbose=100)#, early_stopping_rounds=100)"
   ]
  },
  {
   "cell_type": "code",
   "execution_count": 48,
   "metadata": {
    "ExecuteTime": {
     "end_time": "2018-09-05T15:06:42.572820Z",
     "start_time": "2018-09-05T15:06:42.569285Z"
    }
   },
   "outputs": [],
   "source": [
    "from sklearn.model_selection import StratifiedKFold"
   ]
  },
  {
   "cell_type": "code",
   "execution_count": 49,
   "metadata": {
    "ExecuteTime": {
     "end_time": "2018-09-05T15:06:43.016918Z",
     "start_time": "2018-09-05T15:06:43.013230Z"
    }
   },
   "outputs": [],
   "source": [
    "folds = StratifiedKFold(n_splits=5, shuffle=True, random_state=2)"
   ]
  },
  {
   "cell_type": "code",
   "execution_count": 50,
   "metadata": {
    "ExecuteTime": {
     "end_time": "2018-09-05T15:17:40.290183Z",
     "start_time": "2018-09-05T15:17:40.285773Z"
    }
   },
   "outputs": [],
   "source": [
    "from sklearn.model_selection import cross_val_score"
   ]
  },
  {
   "cell_type": "code",
   "execution_count": 56,
   "metadata": {
    "ExecuteTime": {
     "end_time": "2018-09-05T15:25:33.450671Z",
     "start_time": "2018-09-05T15:24:34.044576Z"
    }
   },
   "outputs": [
    {
     "data": {
      "text/plain": [
       "array([0.78733226, 0.79320251, 0.79428609, 0.79896442, 0.7967143 ])"
      ]
     },
     "execution_count": 56,
     "metadata": {},
     "output_type": "execute_result"
    }
   ],
   "source": [
    "scores = cross_val_score(clf, train.drop(columns=['TARGET', 'SK_ID_CURR']), train['TARGET'], cv=folds, scoring='roc_auc')"
   ]
  },
  {
   "cell_type": "code",
   "execution_count": 60,
   "metadata": {
    "ExecuteTime": {
     "end_time": "2018-09-05T15:26:28.029587Z",
     "start_time": "2018-09-05T15:26:28.023700Z"
    }
   },
   "outputs": [
    {
     "data": {
      "text/plain": [
       "0.794099916"
      ]
     },
     "execution_count": 60,
     "metadata": {},
     "output_type": "execute_result"
    }
   ],
   "source": [
    "np.array([0.78733226, 0.79320251, 0.79428609, 0.79896442, 0.7967143]).mean()"
   ]
  },
  {
   "cell_type": "code",
   "execution_count": null,
   "metadata": {},
   "outputs": [],
   "source": []
  }
 ],
 "metadata": {
  "kernelspec": {
   "display_name": "Python 3",
   "language": "python",
   "name": "python3"
  },
  "language_info": {
   "codemirror_mode": {
    "name": "ipython",
    "version": 3
   },
   "file_extension": ".py",
   "mimetype": "text/x-python",
   "name": "python",
   "nbconvert_exporter": "python",
   "pygments_lexer": "ipython3",
   "version": "3.6.5"
  },
  "varInspector": {
   "cols": {
    "lenName": 16,
    "lenType": 16,
    "lenVar": 40
   },
   "kernels_config": {
    "python": {
     "delete_cmd_postfix": "",
     "delete_cmd_prefix": "del ",
     "library": "var_list.py",
     "varRefreshCmd": "print(var_dic_list())"
    },
    "r": {
     "delete_cmd_postfix": ") ",
     "delete_cmd_prefix": "rm(",
     "library": "var_list.r",
     "varRefreshCmd": "cat(var_dic_list()) "
    }
   },
   "types_to_exclude": [
    "module",
    "function",
    "builtin_function_or_method",
    "instance",
    "_Feature"
   ],
   "window_display": false
  }
 },
 "nbformat": 4,
 "nbformat_minor": 2
}
