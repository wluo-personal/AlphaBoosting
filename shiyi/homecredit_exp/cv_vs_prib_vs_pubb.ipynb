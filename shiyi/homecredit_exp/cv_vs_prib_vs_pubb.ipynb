{
 "cells": [
  {
   "cell_type": "code",
   "execution_count": 15,
   "metadata": {
    "ExecuteTime": {
     "end_time": "2018-09-04T15:48:27.422958Z",
     "start_time": "2018-09-04T15:48:27.327099Z"
    }
   },
   "outputs": [],
   "source": [
    "%matplotlib inline"
   ]
  },
  {
   "cell_type": "code",
   "execution_count": 2,
   "metadata": {
    "ExecuteTime": {
     "end_time": "2018-09-04T15:46:05.230544Z",
     "start_time": "2018-09-04T15:46:05.227175Z"
    }
   },
   "outputs": [],
   "source": [
    "import numpy as np\n",
    "import pandas as pd"
   ]
  },
  {
   "cell_type": "code",
   "execution_count": 33,
   "metadata": {
    "ExecuteTime": {
     "end_time": "2018-09-04T15:53:41.315632Z",
     "start_time": "2018-09-04T15:53:41.303615Z"
    }
   },
   "outputs": [],
   "source": [
    "res = [(7972, 79784, 80031), (7979, 79825, 80542), (7973, 79731, 80051), (7986, 79861, 80113), (8006, 80044, 80601), (8012, 80064, 80500), (8011, 80060, 80526), (8007, 80043, 80642), (8024, 80112, 80553), (8018, 80065, 80552), (8007, 79975, 80516), (8007, 79932, 80521), (8002, 79953, 80284), (8013, 80114, 80301), (8013, 80063, 80314), (7985, 79897, 80173), (7975, 79870, 80138), (7992, 79921, 80194), (7899, 79050, 79825), (7913, 79125, 79928), (7894, 79050, 79940), (7963, 79680, 79969), (7961, 79681, 79981), (7942, 79585, 79951), (7920, 79479, 79749), (7999, 79853, 80151), (8015, 80099, 80266), (8008, 80017, 80321), (7966, 79625, 79675), (7968, 79611, 79551), (7969, 79749, 79737), (7969, 79676, 79668), (7967, 79675, 79700), (7976, 79780, 79668), (7950, 79514, 79522), (7970, 79752, 79734), (7974, 79770, 79924), (7960, 79654, 79658), (7966, 79661, 79658), (7881, 78792, 78664), (7965, 79769, 79893), (7971, 79853, 79964)]\n",
    "res = np.array(res)\n",
    "res = pd.DataFrame(res).rename(columns={0:'cv', 1:'private', 2:'public'})\n",
    "res.sort_values(by='cv', inplace=True)\n",
    "res.reset_index(drop=True, inplace=True)"
   ]
  },
  {
   "cell_type": "code",
   "execution_count": 34,
   "metadata": {
    "ExecuteTime": {
     "end_time": "2018-09-04T15:53:41.829353Z",
     "start_time": "2018-09-04T15:53:41.818340Z"
    }
   },
   "outputs": [
    {
     "data": {
      "text/html": [
       "<div>\n",
       "<style scoped>\n",
       "    .dataframe tbody tr th:only-of-type {\n",
       "        vertical-align: middle;\n",
       "    }\n",
       "\n",
       "    .dataframe tbody tr th {\n",
       "        vertical-align: top;\n",
       "    }\n",
       "\n",
       "    .dataframe thead th {\n",
       "        text-align: right;\n",
       "    }\n",
       "</style>\n",
       "<table border=\"1\" class=\"dataframe\">\n",
       "  <thead>\n",
       "    <tr style=\"text-align: right;\">\n",
       "      <th></th>\n",
       "      <th>cv</th>\n",
       "      <th>private</th>\n",
       "      <th>public</th>\n",
       "    </tr>\n",
       "  </thead>\n",
       "  <tbody>\n",
       "    <tr>\n",
       "      <th>0</th>\n",
       "      <td>7881</td>\n",
       "      <td>78792</td>\n",
       "      <td>78664</td>\n",
       "    </tr>\n",
       "    <tr>\n",
       "      <th>1</th>\n",
       "      <td>7894</td>\n",
       "      <td>79050</td>\n",
       "      <td>79940</td>\n",
       "    </tr>\n",
       "    <tr>\n",
       "      <th>2</th>\n",
       "      <td>7899</td>\n",
       "      <td>79050</td>\n",
       "      <td>79825</td>\n",
       "    </tr>\n",
       "    <tr>\n",
       "      <th>3</th>\n",
       "      <td>7913</td>\n",
       "      <td>79125</td>\n",
       "      <td>79928</td>\n",
       "    </tr>\n",
       "    <tr>\n",
       "      <th>4</th>\n",
       "      <td>7920</td>\n",
       "      <td>79479</td>\n",
       "      <td>79749</td>\n",
       "    </tr>\n",
       "  </tbody>\n",
       "</table>\n",
       "</div>"
      ],
      "text/plain": [
       "     cv  private  public\n",
       "0  7881    78792   78664\n",
       "1  7894    79050   79940\n",
       "2  7899    79050   79825\n",
       "3  7913    79125   79928\n",
       "4  7920    79479   79749"
      ]
     },
     "execution_count": 34,
     "metadata": {},
     "output_type": "execute_result"
    }
   ],
   "source": [
    "res.head()"
   ]
  },
  {
   "cell_type": "code",
   "execution_count": 35,
   "metadata": {
    "ExecuteTime": {
     "end_time": "2018-09-04T15:53:43.464488Z",
     "start_time": "2018-09-04T15:53:43.457933Z"
    }
   },
   "outputs": [
    {
     "data": {
      "text/plain": [
       "0.9742349357041257"
      ]
     },
     "execution_count": 35,
     "metadata": {},
     "output_type": "execute_result"
    }
   ],
   "source": [
    "res.cv.corr(res.private)"
   ]
  },
  {
   "cell_type": "code",
   "execution_count": 36,
   "metadata": {
    "ExecuteTime": {
     "end_time": "2018-09-04T15:53:44.995022Z",
     "start_time": "2018-09-04T15:53:44.988503Z"
    }
   },
   "outputs": [
    {
     "data": {
      "text/plain": [
       "0.7564457447147857"
      ]
     },
     "execution_count": 36,
     "metadata": {},
     "output_type": "execute_result"
    }
   ],
   "source": [
    "res.cv.corr(res.public)"
   ]
  },
  {
   "cell_type": "code",
   "execution_count": 37,
   "metadata": {
    "ExecuteTime": {
     "end_time": "2018-09-04T15:53:45.245847Z",
     "start_time": "2018-09-04T15:53:45.239313Z"
    }
   },
   "outputs": [
    {
     "data": {
      "text/plain": [
       "0.7595329291144763"
      ]
     },
     "execution_count": 37,
     "metadata": {},
     "output_type": "execute_result"
    }
   ],
   "source": [
    "res.private.corr(res.public)"
   ]
  },
  {
   "cell_type": "code",
   "execution_count": 38,
   "metadata": {
    "ExecuteTime": {
     "end_time": "2018-09-04T15:53:46.858791Z",
     "start_time": "2018-09-04T15:53:46.757699Z"
    }
   },
   "outputs": [
    {
     "data": {
      "text/plain": [
       "<matplotlib.axes._subplots.AxesSubplot at 0x7f955c1b7f60>"
      ]
     },
     "execution_count": 38,
     "metadata": {},
     "output_type": "execute_result"
    },
    {
     "data": {
      "image/png": "[encoded data removed]",
      "text/plain": [
       "<Figure size 432x288 with 1 Axes>"
      ]
     },
     "metadata": {},
     "output_type": "display_data"
    }
   ],
   "source": [
    "res.plot.scatter('cv', 'private')"
   ]
  },
  {
   "cell_type": "code",
   "execution_count": 39,
   "metadata": {
    "ExecuteTime": {
     "end_time": "2018-09-04T15:53:58.833980Z",
     "start_time": "2018-09-04T15:53:58.730760Z"
    }
   },
   "outputs": [
    {
     "data": {
      "text/plain": [
       "<matplotlib.axes._subplots.AxesSubplot at 0x7f955c113668>"
      ]
     },
     "execution_count": 39,
     "metadata": {},
     "output_type": "execute_result"
    },
    {
     "data": {
      "image/png": "[encoded data removed]",
      "text/plain": [
       "<Figure size 432x288 with 1 Axes>"
      ]
     },
     "metadata": {},
     "output_type": "display_data"
    }
   ],
   "source": [
    "res.plot.scatter('cv', 'public')"
   ]
  },
  {
   "cell_type": "code",
   "execution_count": null,
   "metadata": {},
   "outputs": [],
   "source": []
  }
 ],
 "metadata": {
  "kernelspec": {
   "display_name": "Python 3",
   "language": "python",
   "name": "python3"
  },
  "language_info": {
   "codemirror_mode": {
    "name": "ipython",
    "version": 3
   },
   "file_extension": ".py",
   "mimetype": "text/x-python",
   "name": "python",
   "nbconvert_exporter": "python",
   "pygments_lexer": "ipython3",
   "version": "3.6.5"
  },
  "varInspector": {
   "cols": {
    "lenName": 16,
    "lenType": 16,
    "lenVar": 40
   },
   "kernels_config": {
    "python": {
     "delete_cmd_postfix": "",
     "delete_cmd_prefix": "del ",
     "library": "var_list.py",
     "varRefreshCmd": "print(var_dic_list())"
    },
    "r": {
     "delete_cmd_postfix": ") ",
     "delete_cmd_prefix": "rm(",
     "library": "var_list.r",
     "varRefreshCmd": "cat(var_dic_list()) "
    }
   },
   "types_to_exclude": [
    "module",
    "function",
    "builtin_function_or_method",
    "instance",
    "_Feature"
   ],
   "window_display": false
  }
 },
 "nbformat": 4,
 "nbformat_minor": 2
}
