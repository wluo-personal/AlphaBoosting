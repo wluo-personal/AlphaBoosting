{
 "cells": [
  {
   "cell_type": "code",
   "execution_count": 1,
   "metadata": {
    "ExecuteTime": {
     "end_time": "2018-09-05T15:45:55.298797Z",
     "start_time": "2018-09-05T15:45:54.965866Z"
    }
   },
   "outputs": [],
   "source": [
    "import pickle\n",
    "import pandas as pd\n",
    "import lightgbm as lgb"
   ]
  },
  {
   "cell_type": "code",
   "execution_count": 2,
   "metadata": {
    "ExecuteTime": {
     "end_time": "2018-09-05T15:45:56.298780Z",
     "start_time": "2018-09-05T15:45:55.300304Z"
    }
   },
   "outputs": [],
   "source": [
    "print_to_file = False \n",
    "test_run = False \n",
    "param_set = 'bo2'  # simple\n",
    "\n",
    "train = pd.read_pickle('/home/kai/data/shiyi/homecreditdata/fe_selected/train_0827.pkl')\n",
    "test = pd.read_pickle('/home/kai/data/shiyi/homecreditdata/fe_selected/test_0827.pkl')\n",
    "# train = pd.read_pickle('/home/kai/data/shiyi/homecreditdata/op5_train_fold0.pkl')\n",
    "# test = pd.read_pickle('/home/kai/data/shiyi/homecreditdata/op5_test_fold0.pkl')\n",
    "# fe_id = 'comb_936'\n",
    "# train = pd.read_pickle('/home/kai/data/shiyi/homecreditdata /op5_test_fold4.pkl op5_train_fold4.pkl')\n",
    "# test = pd.read_pickle('/home/kai/data/shiyi/homecreditdata/op5_test_fold4.pkl')\n",
    "# fe_id = 'op5f4'"
   ]
  },
  {
   "cell_type": "code",
   "execution_count": 3,
   "metadata": {
    "ExecuteTime": {
     "end_time": "2018-09-05T15:45:56.592948Z",
     "start_time": "2018-09-05T15:45:56.547552Z"
    }
   },
   "outputs": [],
   "source": [
    "train['SK_ID_CURR'] = train['SK_ID_CURR'].astype(int)\n",
    "test['SK_ID_CURR'] = test['SK_ID_CURR'].astype(int)"
   ]
  },
  {
   "cell_type": "code",
   "execution_count": 4,
   "metadata": {
    "ExecuteTime": {
     "end_time": "2018-09-05T15:45:56.907556Z",
     "start_time": "2018-09-05T15:45:56.903974Z"
    }
   },
   "outputs": [],
   "source": [
    "train_id = train['SK_ID_CURR']\n",
    "test_id = test['SK_ID_CURR']"
   ]
  },
  {
   "cell_type": "markdown",
   "metadata": {},
   "source": [
    "# main func"
   ]
  },
  {
   "cell_type": "code",
   "execution_count": 25,
   "metadata": {
    "ExecuteTime": {
     "end_time": "2018-09-05T16:15:29.195560Z",
     "start_time": "2018-09-05T16:15:29.156512Z"
    }
   },
   "outputs": [],
   "source": [
    "from sklearn.model_selection import train_test_split\n",
    "\n",
    "def get_time(timezone='America/New_York', time_format='%Y-%m-%d %H:%M:%S'):\n",
    "    from datetime import datetime\n",
    "    from dateutil import tz\n",
    "\n",
    "    # METHOD 1: Hardcode zones:\n",
    "    from_zone = tz.gettz('UTC')\n",
    "    to_zone = tz.gettz(timezone)\n",
    "\n",
    "    utc = datetime.utcnow()\n",
    "\n",
    "    # Tell the datetime object that it's in UTC time zone since \n",
    "    # datetime objects are 'naive' by default\n",
    "    utc = utc.replace(tzinfo=from_zone)\n",
    "\n",
    "    # Convert time zone\n",
    "    est = utc.astimezone(to_zone)\n",
    "\n",
    "    return est.strftime(time_format)\n",
    "\n",
    "import sys, time\n",
    "class Logger(object):\n",
    "    def __init__(self, logtofile=True, logfilename='log'):\n",
    "        self.terminal = sys.stdout\n",
    "        self.logfile = \"{}_{}.log\".format(logfilename, int(time.time()))\n",
    "        self.logtofile = logtofile\n",
    "\n",
    "    def write(self, message):\n",
    "        #         self.terminal.write(message)\n",
    "        if self.logtofile:\n",
    "            self.log = open(self.logfile, \"a\")\n",
    "            self.log.write('[' + get_time() + '] ' + message)\n",
    "            self.log.close()\n",
    "\n",
    "    def flush(self):\n",
    "        # this flush method is needed for python 3 compatibility.\n",
    "        # this handles the flush command by doing nothing.\n",
    "        # you might want to specify some extra behavior here.\n",
    "        pass\n",
    "\n",
    "\n",
    "def divert_printout_to_file():\n",
    "    sys.stdout = Logger(logfilename='logfile')\n",
    "\n",
    "if print_to_file:\n",
    "    divert_printout_to_file()  # note: comment this to use pdb\n",
    "\n",
    "import numpy as np\n",
    "import pandas as pd\n",
    "import gc\n",
    "import time\n",
    "from contextlib import contextmanager\n",
    "from lightgbm import LGBMClassifier\n",
    "from sklearn.metrics import roc_auc_score, roc_curve\n",
    "from sklearn.model_selection import KFold, StratifiedKFold\n",
    "import matplotlib.pyplot as plt\n",
    "import seaborn as sns\n",
    "import warnings\n",
    "warnings.simplefilter(action='ignore', category=FutureWarning)\n",
    "\n",
    "@contextmanager\n",
    "def timer(title):\n",
    "    t0 = time.time()\n",
    "    yield\n",
    "    print(\"{} - done in {:.0f}s\".format(title, time.time() - t0))\n",
    "\n",
    "# LightGBM GBDT with KFold or Stratified KFold\n",
    "# Parameters from Tilii kernel: https://www.kaggle.com/tilii7/olivier-lightgbm-parameters-by-bayesian-opt/code\n",
    "def kfold_lightgbm(df, train_df, test_df, holdout, num_folds, submission_file_name, fe_img_name, stratified = False, debug= False, colsample=0.67, max_depth=8, num_leaves=31, min_child_samples=20, subsample=0.7, reg_lambda=0.3, lr=0.04, seed=1001, verbose=100, rounds=None, mode='sklearn', max_bin=255):\n",
    "    print(train_df.shape, test_df.shape, holdout.shape)\n",
    "    print('MEAN: train({}) vs holdout({}): '.format(len(train_df), len(holdout)), train_df['TARGET'].mean(), holdout['TARGET'].mean())\n",
    "    # Divide in training/validation and test data\n",
    "    if df is not None:\n",
    "        train_df = df[df['TARGET'].notnull()]\n",
    "        test_df = df[df['TARGET'].isnull()]\n",
    "        print(\"Starting LightGBM. Train shape: {}, test shape: {}\".format(train_df.shape, test_df.shape))\n",
    "        del df\n",
    "        gc.collect()\n",
    "        \n",
    "        \n",
    "    # compute optimal rounds\n",
    "    lgb_params = {\n",
    "        'objective': 'binary',\n",
    "        'boosting': 'gbdt',\n",
    "        'learning_rate': lr,\n",
    "        'max_bin': max_bin,\n",
    "        'min_data_in_leaf': min_child_samples,\n",
    "        'num_leaves': num_leaves, \n",
    "        'num_threads': 18, \n",
    "        'max_depth': max_depth,\n",
    "        'min_child_weight': 39,\n",
    "        'feature_fraction': colsample,\n",
    "        'feature_fraction_seed': seed,\n",
    "        'bagging_fraction': subsample, \n",
    "        'bagging_seed': seed,\n",
    "        'scale_pos_weight': 1,\n",
    "        'lambda_l1': 0.65, \n",
    "        'lambda_l2': reg_lambda,\n",
    "#         'device': 'GPU',\n",
    "        'metric': 'auc'\n",
    "    }\n",
    "    if rounds is None:\n",
    "        print('computing optimal rounds...')\n",
    "        lgb_train = lgb.Dataset(train_df.drop(columns=['TARGET','SK_ID_CURR']), label=train_df['TARGET'])\n",
    "\n",
    "        eval_hist = lgb.cv(lgb_params, lgb_train, nfold=num_folds, stratified=stratified, \n",
    "                           num_boost_round=50000, early_stopping_rounds=200, verbose_eval=verbose)\n",
    "        best_round = len(eval_hist['auc-mean'])\n",
    "        rounds = best_round\n",
    "        print('lgb cv: ', eval_hist['auc-mean'][-1], ' std: ', eval_hist['auc-stdv'][-1])\n",
    "        print('best rounds: ', rounds)\n",
    "\n",
    "    # Cross validation model\n",
    "    if stratified:\n",
    "        folds = StratifiedKFold(n_splits= num_folds, shuffle=True, random_state=seed)\n",
    "    else:\n",
    "        folds = KFold(n_splits= num_folds, shuffle=True, random_state=seed)\n",
    "        \n",
    "    # Create arrays and dataframes to store results\n",
    "    oof_preds = np.zeros(train_df.shape[0])\n",
    "    sub_preds = np.zeros(test_df.shape[0])\n",
    "    holdout_final_preds = np.zeros(holdout.shape[0])\n",
    "    feature_importance_df = pd.DataFrame()\n",
    "    feature_importance_gain_df = pd.DataFrame()\n",
    "    feats = [f for f in train_df.columns if f not in ['TARGET','SK_ID_CURR','SK_ID_BUREAU','SK_ID_PREV','index']]\n",
    "    train_scores = []\n",
    "    holdout_scores = []\n",
    "    scores = []\n",
    "    diff_val_holdout = []\n",
    "    \n",
    "    \n",
    "    for n_fold, (train_idx, valid_idx) in enumerate(folds.split(train_df[feats], train_df['TARGET'])):\n",
    "#         print('valid index : ',list(valid_idx)[:5])\n",
    "        train_x, train_y = train_df[feats].iloc[train_idx], train_df['TARGET'].iloc[train_idx]\n",
    "        valid_x, valid_y = train_df[feats].iloc[valid_idx], train_df['TARGET'].iloc[valid_idx]\n",
    "#         print('MEAN: train({}) vs valid({}): '.format(len(train_y), len(valid_y)), np.mean(train_y), np.mean(valid_y))\n",
    "\n",
    "        if mode=='sklearn':\n",
    "            clf = LGBMClassifier(\n",
    "                nthread=18,\n",
    "                n_estimators=30000,\n",
    "                learning_rate=lr,\n",
    "                num_leaves=num_leaves,\n",
    "                colsample_bytree=colsample, # 0.67\n",
    "                subsample=subsample,\n",
    "                subsample_freq=0, ## disable subsampling\n",
    "                max_depth=max_depth,\n",
    "                reg_alpha=0.65,\n",
    "                reg_lambda=reg_lambda,\n",
    "                min_split_gain=0.0222415,\n",
    "                min_child_weight=39.3259775,\n",
    "                min_child_samples=min_child_samples,\n",
    "                silent=-1,\n",
    "                verbose=-1, )\n",
    "            if rounds is not None:\n",
    "                clf.n_estimators = rounds\n",
    "                clf.fit(train_x, train_y, eval_set=[(train_x, train_y), (valid_x, valid_y)], \n",
    "                    eval_metric= 'auc', verbose=verbose)\n",
    "                oof_preds[valid_idx] = clf.predict_proba(valid_x)[:, 1]\n",
    "                sub_preds += clf.predict_proba(test_df[feats])[:, 1] / folds.n_splits\n",
    "                holdout_preds = clf.predict_proba(holdout[feats])[:, 1] \n",
    "            else:\n",
    "                clf.fit(train_x, train_y, eval_set=[(train_x, train_y), (valid_x, valid_y)], \n",
    "                    eval_metric= 'auc', verbose=verbose, early_stopping_rounds= 200)\n",
    "                oof_preds[valid_idx] = clf.predict_proba(valid_x, num_iteration=clf.best_iteration_)[:, 1]\n",
    "                sub_preds += clf.predict_proba(test_df[feats], num_iteration=clf.best_iteration_)[:, 1] / folds.n_splits\n",
    "                holdout_preds = clf.predict_proba(holdout[feats], num_iteration=clf.best_iteration_)[:, 1] \n",
    "\n",
    "            train_score = clf.best_score_['training']['auc']\n",
    "         \n",
    "    \n",
    "        else:\n",
    "            lgb_params['device'] = 'GPU'\n",
    "            lgb_train = lgb.Dataset(train_x, label=train_y)\n",
    "            lgb_val = lgb.Dataset(valid_x, label=valid_y)\n",
    "            lgb_model = lgb.train(lgb_params, train_set=lgb_train, valid_sets=[lgb_train, lgb_val], \n",
    "                                  num_boost_round=rounds, verbose_eval=verbose)\n",
    "            oof_preds[valid_idx] = lgb_model.predict(valid_x)\n",
    "            sub_preds += lgb_model.predict(test_df[feats]) / folds.n_splits\n",
    "            holdout_preds = lgb_model.predict(holdout[feats])\n",
    "            \n",
    "            train_score = lgb_model.best_score['training']['auc'] \n",
    "        \n",
    "        holdout_final_preds += holdout_preds / folds.n_splits\n",
    "        score = roc_auc_score(valid_y, oof_preds[valid_idx])\n",
    "        holdout_score = roc_auc_score(holdout['TARGET'], holdout_preds)\n",
    "        diff = abs(score - holdout_score)\n",
    "        best_rounds = rounds #if rounds is not None else clf.best_iteration_\n",
    "        print('Fold %2d [%5d] AUC : ho: %.6f / te: %.6f / tr: %.6f (diff: %.6f)' % (n_fold + 1, best_rounds, holdout_score, score,  train_score, diff))\n",
    "        scores.append(score)\n",
    "        train_scores.append(train_score)\n",
    "        holdout_scores.append(holdout_score)\n",
    "        diff_val_holdout.append(diff)\n",
    "\n",
    "        fold_importance_df = pd.DataFrame()\n",
    "        if mode=='sklearn':\n",
    "            fold_importance_df[\"feature\"] = feats\n",
    "            fold_importance_df[\"importance\"] = clf.feature_importances_\n",
    "        else:\n",
    "            fold_importance_df['feature'] = lgb_model.feature_name() \n",
    "            fold_importance_df[\"importance\"] = lgb_model.feature_importance() \n",
    "        fold_importance_df[\"fold\"] = n_fold + 1\n",
    "        feature_importance_df = pd.concat([feature_importance_df, fold_importance_df], axis=0)\n",
    "\n",
    "        fold_importance_gain_df = pd.DataFrame()\n",
    "        if mode=='sklearn':\n",
    "            fold_importance_gain_df[\"feature\"] = feats\n",
    "            fold_importance_gain_df[\"importance\"] = clf.booster_.feature_importance(importance_type='gain')\n",
    "        else:\n",
    "            fold_importance_gain_df['feature'] = lgb_model.feature_name() \n",
    "            fold_importance_gain_df[\"importance\"] = lgb_model.feature_importance(importance_type='gain') \n",
    "        fold_importance_gain_df[\"fold\"] = n_fold + 1\n",
    "        feature_importance_gain_df = pd.concat([feature_importance_gain_df, fold_importance_gain_df], axis=0)\n",
    "\n",
    "\n",
    "#     print('Full AUC score %.6f' % roc_auc_score(train_df['TARGET'], oof_preds))\n",
    "    print('Full HO score %.6f' % roc_auc_score(holdout['TARGET'], holdout_final_preds))\n",
    "    print('FULL HO mean {:.6f}, std {:.6f}'.format(np.mean(holdout_scores), np.std(holdout_scores)))\n",
    "    print('FULL TE mean {:.6f}, std {:.6f}'.format(np.mean(scores), np.std(scores)))\n",
    "    print('FULL TR mean {:.6f}, std {:.6f}'.format(np.mean(train_scores), np.std(train_scores)))\n",
    "    print('FULL DIFF mean {:.6f}, std {:.6f}'.format(np.mean(diff_val_holdout), np.std(diff_val_holdout)))\n",
    "    # Write submission file and plot feature importance\n",
    "    if not debug:\n",
    "        test_df['TARGET'] = sub_preds\n",
    "        test_df[['SK_ID_CURR', 'TARGET']].to_csv(submission_file_name, index= False)\n",
    "#     if not print_to_file:\n",
    "#         display_importances(feature_importance_df, fe_img_name)\n",
    "    feature_importance_df = feature_importance_df[[\"feature\", \"importance\"]].groupby(\"feature\").mean().sort_values(by=\"importance\", ascending=False).reset_index()\n",
    "    feature_importance_gain_df = feature_importance_gain_df[[\"feature\", \"importance\"]].groupby(\"feature\").mean().sort_values(by=\"importance\", ascending=False).reset_index()\n",
    "    return feature_importance_df, feature_importance_gain_df, oof_preds \n",
    "        \n",
    "#                 min_split_gain=0.0222415,\n",
    "\n",
    "# Display/plot feature importance\n",
    "def display_importances(feature_importance_df_, fe_img_name):\n",
    "    cols = feature_importance_df_[[\"feature\", \"importance\"]].groupby(\"feature\").mean().sort_values(by=\"importance\", ascending=False)[:40].index\n",
    "    best_features = feature_importance_df_.loc[feature_importance_df_.feature.isin(cols)]\n",
    "    plt.figure(figsize=(8, 10))\n",
    "    sns.barplot(x=\"importance\", y=\"feature\", data=best_features.sort_values(by=\"importance\", ascending=False))\n",
    "    plt.title('LightGBM Features (avg over folds)')\n",
    "    plt.tight_layout()\n",
    "    plt.savefig(fe_img_name+'.png')\n",
    "\n",
    "\n",
    "def convert_and_save_imp_df(fe_imp_df, dumpfilename):\n",
    "    fe_imp_df_mean = fe_imp_df[[\"feature\", \"importance\"]].groupby(\"feature\").mean().sort_values(by=\"importance\", ascending=False).reset_index()\n",
    "    pickle.dump(fe_imp_df_mean, open(dumpfilename,'wb'))"
   ]
  },
  {
   "cell_type": "code",
   "execution_count": 27,
   "metadata": {
    "ExecuteTime": {
     "end_time": "2018-09-05T17:11:05.738702Z",
     "start_time": "2018-09-05T17:11:05.727774Z"
    },
    "scrolled": true
   },
   "outputs": [],
   "source": [
    "def runlgb(train, test, holdout):\n",
    "    colsamples = [0.7]#[0.1,0.15,0.2]#[0.03,0.04,0.05,0.06,0.07,0.08]\n",
    "    seeds = [20]#[300,4000,50000,600000,7000000,80000000,523445,31275479] # 20\n",
    "    depth = [9]\n",
    "    leaves = [27]\n",
    "    min_child_sam = [220]#, 800]\n",
    "    subsamples = [1]#0.8, 0.7, 0.6, 0.5, 0.4] # was 1\n",
    "    reg_lambdas = [1]\n",
    "    # lrs = lrs.tolist()\n",
    "    lrs2 = [0.1]\n",
    "    nfolds = 5 \n",
    "    rounds = [None] #[1000]#, 1300, 1600, 1900, 2200, 2500]\n",
    "    for seed in seeds:\n",
    "        for colsample in colsamples:\n",
    "            for d in depth:\n",
    "                for l in leaves:\n",
    "                    for mcs in min_child_sam:\n",
    "                        for subsample in subsamples:\n",
    "                            for reg_lambda in reg_lambdas:\n",
    "                                for lr in lrs2:\n",
    "                                    for r in rounds:\n",
    "                                        filename = 'fe_col{}_lr{}_n{}'.format(len(train.columns), lr, nfolds)\n",
    "                                        print('#############################################')\n",
    "                                        print(colsample, seed, d, l, mcs, subsample, reg_lambda, lr, 'nfolds:', nfolds)\n",
    "                                        print('#############################################')\n",
    "                                        numfeats = len(train.columns)\n",
    "                                        with timer(\"Run LightGBM with kfold\"):\n",
    "    #                                         return kfold_lightgbm_ori(None, train, test, 5, filename+'.csv', filename, colsample=colsample, verbose=None, max_depth=d, num_leaves=l, min_child_samples=mcs, subsample=subsample, reg_lambda=reg_lambda, lr=lr, seed=seed, stratified=True)\n",
    "                                            return kfold_lightgbm(None, train, test, holdout, nfolds, filename+'.csv', filename, colsample=colsample, verbose=None, max_depth=d, num_leaves=l, min_child_samples=mcs, subsample=subsample, reg_lambda=reg_lambda, lr=lr, seed=seed, stratified=True, rounds=r, mode='lgb', max_bin=255)"
   ]
  },
  {
   "cell_type": "code",
   "execution_count": 7,
   "metadata": {
    "ExecuteTime": {
     "end_time": "2018-09-05T15:47:12.372032Z",
     "start_time": "2018-09-05T15:47:11.511203Z"
    }
   },
   "outputs": [
    {
     "name": "stdout",
     "output_type": "stream",
     "text": [
      "806 810\n"
     ]
    }
   ],
   "source": [
    "train_df, holdout_df = train_test_split(train, test_size=1/7, random_state=4)\n",
    "print(int(train_df['TARGET'].mean()*10000), int(holdout_df['TARGET'].mean()*10000))"
   ]
  },
  {
   "cell_type": "code",
   "execution_count": 28,
   "metadata": {
    "ExecuteTime": {
     "end_time": "2018-09-05T17:13:24.040949Z",
     "start_time": "2018-09-05T17:11:09.813965Z"
    },
    "scrolled": true
   },
   "outputs": [
    {
     "name": "stdout",
     "output_type": "stream",
     "text": [
      "#############################################\n",
      "0.7 20 9 27 220 1 1 0.1 nfolds: 5\n",
      "#############################################\n",
      "(263580, 409) (48744, 409) (43931, 409)\n",
      "MEAN: train(263580) vs holdout(43931):  0.08067000531148039 0.08108169629646492\n",
      "computing optimal rounds...\n",
      "lgb cv:  0.7908676594849715  std:  0.0038215022837672207\n",
      "best rounds:  274\n"
     ]
    },
    {
     "name": "stderr",
     "output_type": "stream",
     "text": [
      "/home/kai/anaconda3/lib/python3.6/site-packages/lightgbm/basic.py:722: UserWarning: categorical_feature in param dict is overridden.\n",
      "  warnings.warn('categorical_feature in param dict is overridden.')\n",
      "/home/kai/anaconda3/lib/python3.6/site-packages/lightgbm/basic.py:722: UserWarning: categorical_feature in param dict is overridden.\n",
      "  warnings.warn('categorical_feature in param dict is overridden.')\n"
     ]
    },
    {
     "name": "stdout",
     "output_type": "stream",
     "text": [
      "Fold  1 [  274] AUC : ho: 0.790944 / te: 0.791591 / tr: 0.883411 (diff: 0.000646)\n"
     ]
    },
    {
     "name": "stderr",
     "output_type": "stream",
     "text": [
      "/home/kai/anaconda3/lib/python3.6/site-packages/lightgbm/basic.py:722: UserWarning: categorical_feature in param dict is overridden.\n",
      "  warnings.warn('categorical_feature in param dict is overridden.')\n",
      "/home/kai/anaconda3/lib/python3.6/site-packages/lightgbm/basic.py:722: UserWarning: categorical_feature in param dict is overridden.\n",
      "  warnings.warn('categorical_feature in param dict is overridden.')\n"
     ]
    },
    {
     "name": "stdout",
     "output_type": "stream",
     "text": [
      "Fold  2 [  274] AUC : ho: 0.790123 / te: 0.788235 / tr: 0.884354 (diff: 0.001888)\n"
     ]
    },
    {
     "name": "stderr",
     "output_type": "stream",
     "text": [
      "/home/kai/anaconda3/lib/python3.6/site-packages/lightgbm/basic.py:722: UserWarning: categorical_feature in param dict is overridden.\n",
      "  warnings.warn('categorical_feature in param dict is overridden.')\n",
      "/home/kai/anaconda3/lib/python3.6/site-packages/lightgbm/basic.py:722: UserWarning: categorical_feature in param dict is overridden.\n",
      "  warnings.warn('categorical_feature in param dict is overridden.')\n"
     ]
    },
    {
     "name": "stdout",
     "output_type": "stream",
     "text": [
      "Fold  3 [  274] AUC : ho: 0.790315 / te: 0.795782 / tr: 0.883512 (diff: 0.005467)\n"
     ]
    },
    {
     "name": "stderr",
     "output_type": "stream",
     "text": [
      "/home/kai/anaconda3/lib/python3.6/site-packages/lightgbm/basic.py:722: UserWarning: categorical_feature in param dict is overridden.\n",
      "  warnings.warn('categorical_feature in param dict is overridden.')\n",
      "/home/kai/anaconda3/lib/python3.6/site-packages/lightgbm/basic.py:722: UserWarning: categorical_feature in param dict is overridden.\n",
      "  warnings.warn('categorical_feature in param dict is overridden.')\n"
     ]
    },
    {
     "name": "stdout",
     "output_type": "stream",
     "text": [
      "Fold  4 [  274] AUC : ho: 0.789160 / te: 0.792347 / tr: 0.883565 (diff: 0.003186)\n"
     ]
    },
    {
     "name": "stderr",
     "output_type": "stream",
     "text": [
      "/home/kai/anaconda3/lib/python3.6/site-packages/lightgbm/basic.py:722: UserWarning: categorical_feature in param dict is overridden.\n",
      "  warnings.warn('categorical_feature in param dict is overridden.')\n",
      "/home/kai/anaconda3/lib/python3.6/site-packages/lightgbm/basic.py:722: UserWarning: categorical_feature in param dict is overridden.\n",
      "  warnings.warn('categorical_feature in param dict is overridden.')\n"
     ]
    },
    {
     "name": "stdout",
     "output_type": "stream",
     "text": [
      "Fold  5 [  274] AUC : ho: 0.790457 / te: 0.784402 / tr: 0.884643 (diff: 0.006055)\n",
      "Full HO score 0.795934\n",
      "FULL HO mean 0.790200, std 0.000587\n",
      "FULL TE mean 0.790471, std 0.003868\n",
      "FULL TR mean 0.883897, std 0.000502\n",
      "FULL DIFF mean 0.003449, std 0.002060\n",
      "Run LightGBM with kfold - done in 134s\n"
     ]
    }
   ],
   "source": [
    "res = runlgb(train_df, test, holdout_df)"
   ]
  },
  {
   "cell_type": "code",
   "execution_count": null,
   "metadata": {},
   "outputs": [],
   "source": [
    "Fold  5 \n",
    "Full HO score 0.796604\n",
    "FULL HO mean 0.791474, std 0.000320\n",
    "FULL TE mean 0.792315, std 0.003891\n",
    "FULL TR mean 0.881558, std 0.000900\n",
    "FULL DIFF mean 0.003212, std 0.001782\n",
    "Run LightGBM with kfold - done in 153s"
   ]
  },
  {
   "cell_type": "code",
   "execution_count": null,
   "metadata": {},
   "outputs": [],
   "source": [
    "Fold 10\n",
    "Full HO score 0.796975\n",
    "FULL HO mean 0.792990, std 0.000888\n",
    "FULL TE mean 0.792947, std 0.006723\n",
    "FULL TR mean 0.867215, std 0.000579"
   ]
  },
  {
   "cell_type": "code",
   "execution_count": null,
   "metadata": {},
   "outputs": [],
   "source": [
    "Fold 20 \n",
    "Full HO score 0.797845\n",
    "FULL HO mean 0.793938, std 0.000631\n",
    "FULL TE mean 0.793792, std 0.007186\n",
    "FULL TR mean 0.873462, std 0.000298"
   ]
  },
  {
   "cell_type": "code",
   "execution_count": null,
   "metadata": {},
   "outputs": [],
   "source": [
    "Fold 40 \n",
    "Full HO score 0.797087\n",
    "FULL HO mean 0.793838, std 0.000642\n",
    "FULL TE mean 0.793563, std 0.010366\n",
    "FULL TR mean 0.862567, std 0.000319"
   ]
  },
  {
   "cell_type": "code",
   "execution_count": null,
   "metadata": {},
   "outputs": [],
   "source": [
    "#############################################\n",
    "0.3 20 5 16 20 1 0.5 0.1 nfolds: 5\n",
    "#############################################\n",
    "(263580, 936) (48744, 935) (43931, 936)\n",
    "MEAN: train(263580) vs holdout(43931):  0.08067000531148039 0.08108169629646492\n",
    "computing optimal rounds...\n",
    "lgb cv:  0.792242828777376  std:  0.0029334029719040922\n",
    "best rounds:  417\n",
    "Fold  1 [  417] AUC : ho: 0.790531 / te: 0.792561 / tr: 0.864087 (diff: 0.002030)\n",
    "Fold  2 [  417] AUC : ho: 0.791099 / te: 0.791632 / tr: 0.864715 (diff: 0.000533)\n",
    "Fold  3 [  417] AUC : ho: 0.790679 / te: 0.795254 / tr: 0.862829 (diff: 0.004575)\n",
    "Fold  4 [  417] AUC : ho: 0.791176 / te: 0.793371 / tr: 0.863838 (diff: 0.002196)\n",
    "Fold  5 [  417] AUC : ho: 0.791791 / te: 0.786357 / tr: 0.864490 (diff: 0.005433)\n",
    "Full HO score 0.795562\n",
    "FULL HO mean 0.791055, std 0.000441\n",
    "FULL TE mean 0.791835, std 0.002987\n",
    "FULL TR mean 0.863992, std 0.000657\n",
    "FULL DIFF mean 0.002954, std 0.001792\n",
    "Run LightGBM with kfold - done in 546s\n",
    "\n",
    "#############################################\n",
    "0.3 20 5 16 20 1 0.5 0.1 nfolds: 5\n",
    "#############################################\n",
    "(263580, 1297) (48744, 1297) (43931, 1297)\n",
    "MEAN: train(263580) vs holdout(43931):  0.08067000531148039 0.08108169629646492\n",
    "computing optimal rounds...\n",
    "lgb cv:  0.7920496715762197  std:  0.0032030625650333036\n",
    "best rounds:  515\n",
    "Fold  1 [  515] AUC : ho: 0.791717 / te: 0.792932 / tr: 0.875505 (diff: 0.001215)\n",
    "Fold  2 [  515] AUC : ho: 0.790675 / te: 0.791354 / tr: 0.875843 (diff: 0.000679)\n",
    "Fold  3 [  515] AUC : ho: 0.790910 / te: 0.796542 / tr: 0.874991 (diff: 0.005632)\n",
    "Fold  4 [  515] AUC : ho: 0.791927 / te: 0.793368 / tr: 0.876322 (diff: 0.001442)\n",
    "Fold  5 [  515] AUC : ho: 0.791327 / te: 0.785688 / tr: 0.876527 (diff: 0.005639)\n",
    "Full HO score 0.796507\n",
    "FULL HO mean 0.791311, std 0.000471\n",
    "FULL TE mean 0.791977, std 0.003567\n",
    "FULL TR mean 0.875838, std 0.000555\n",
    "FULL DIFF mean 0.002922, std 0.002230\n",
    "Run LightGBM with kfold - done in 838s"
   ]
  },
  {
   "cell_type": "code",
   "execution_count": 21,
   "metadata": {
    "ExecuteTime": {
     "end_time": "2018-08-27T15:12:41.088763Z",
     "start_time": "2018-08-27T15:12:39.094908Z"
    }
   },
   "outputs": [],
   "source": [
    "lgb_train = lgb.Dataset(train_df.drop(columns=['TARGET']), label=train_df['TARGET'])"
   ]
  },
  {
   "cell_type": "code",
   "execution_count": 57,
   "metadata": {
    "ExecuteTime": {
     "end_time": "2018-08-27T17:22:57.680899Z",
     "start_time": "2018-08-27T17:22:52.740517Z"
    }
   },
   "outputs": [
    {
     "name": "stdout",
     "output_type": "stream",
     "text": [
      "[50]\tcv_agg's auc: 0.753158 + 0.00712546\n",
      "[100]\tcv_agg's auc: 0.750716 + 0.0116197\n",
      "[150]\tcv_agg's auc: 0.746971 + 0.0131305\n",
      "[200]\tcv_agg's auc: 0.742751 + 0.0131259\n",
      "[250]\tcv_agg's auc: 0.739963 + 0.0119346\n"
     ]
    }
   ],
   "source": [
    "eval_hist = lgb.cv(lgb_params, lgb_train_p, nfold=5, stratified=True, num_boost_round=1000, early_stopping_rounds=200, verbose_eval=50)"
   ]
  },
  {
   "cell_type": "markdown",
   "metadata": {
    "ExecuteTime": {
     "end_time": "2018-08-10T18:17:56.457768Z",
     "start_time": "2018-08-10T18:17:56.454458Z"
    }
   },
   "source": [
    "# Feature selection"
   ]
  },
  {
   "cell_type": "markdown",
   "metadata": {
    "ExecuteTime": {
     "end_time": "2018-08-10T18:18:09.337689Z",
     "start_time": "2018-08-10T18:18:09.334224Z"
    },
    "heading_collapsed": true
   },
   "source": [
    "## 1. preparation"
   ]
  },
  {
   "cell_type": "code",
   "execution_count": 7,
   "metadata": {
    "ExecuteTime": {
     "end_time": "2018-08-16T18:18:08.074266Z",
     "start_time": "2018-08-16T18:18:08.070335Z"
    },
    "hidden": true
   },
   "outputs": [],
   "source": [
    "if test_run:\n",
    "    train = train.head(10000)\n",
    "    test = test.head(3000)\n",
    "\n",
    "cols_with_id = [x for x in train.columns if 'SK_ID_CURR' in x]\n",
    "cols_with_bureau_id = [x for x in train.columns if 'SK_ID_BUREAU' in x]\n",
    "cols_with_previous_id = [x for x in train.columns if 'SK_ID_PREV' in x]\n",
    "print('There are %d columns that contain SK_ID_CURR' % len(cols_with_id))\n",
    "print('There are %d columns that contain SK_ID_BUREAU' % len(cols_with_bureau_id))\n",
    "print('There are %d columns that contain SK_ID_PREV' % len(cols_with_previous_id))\n",
    "\n",
    "print('Training shape: ', train.shape)\n",
    "print('Testing shape: ', test.shape)\n",
    "train = train.drop(columns = cols_with_id)\n",
    "test = test.drop(columns = cols_with_id)\n",
    "print('Training shape: ', train.shape)\n",
    "print('Testing shape: ', test.shape)"
   ]
  },
  {
   "cell_type": "markdown",
   "metadata": {
    "ExecuteTime": {
     "end_time": "2018-08-10T18:19:12.656114Z",
     "start_time": "2018-08-10T18:19:12.652733Z"
    }
   },
   "source": [
    "## 2. Remove Collinear Variables"
   ]
  },
  {
   "cell_type": "code",
   "execution_count": 58,
   "metadata": {
    "ExecuteTime": {
     "end_time": "2018-08-27T21:09:19.771922Z",
     "start_time": "2018-08-27T21:09:19.766795Z"
    }
   },
   "outputs": [],
   "source": [
    "def corr_drop(train, test):\n",
    "    # Absolute value correlation matrix\n",
    "    corr_matrix = train.corr().abs()\n",
    "    # corr_matrix.head()\n",
    "    # Upper triangle of correlations\n",
    "    upper = corr_matrix.where(np.triu(np.ones(corr_matrix.shape), k=1).astype(np.bool))\n",
    "    # upper.head()\n",
    "    pickle.dump(upper, open('upper.pkl', 'wb'))\n",
    "    upper = pickle.load(open('upper.pkl','rb'))\n",
    "    # Threshold for removing correlated variables\n",
    "    threshold = 0.9\n",
    "    # Select columns with correlations above threshold\n",
    "    to_drop = [column for column in upper.columns if any(upper[column] > threshold)]\n",
    "    print('There are %d columns to remove.' % (len(to_drop)))\n",
    "    train = train.drop(columns = to_drop)\n",
    "    test = test.drop(columns = to_drop)\n",
    "    print('Training shape: ', train.shape)\n",
    "    print('Testing shape: ', test.shape)\n",
    "    print('start corr removed ###################')\n",
    "    return train, test"
   ]
  },
  {
   "cell_type": "code",
   "execution_count": 64,
   "metadata": {
    "ExecuteTime": {
     "end_time": "2018-08-28T00:32:54.382271Z",
     "start_time": "2018-08-28T00:32:54.024529Z"
    }
   },
   "outputs": [],
   "source": [
    "upper = pickle.load(open('upper.pkl','rb'))\n",
    "to_drop = [column for column in upper.columns if any(upper[column] > 0.9)]"
   ]
  },
  {
   "cell_type": "code",
   "execution_count": null,
   "metadata": {
    "ExecuteTime": {
     "start_time": "2018-08-27T21:09:19.917Z"
    }
   },
   "outputs": [],
   "source": [
    "train, test = corr_drop(train, test)"
   ]
  },
  {
   "cell_type": "code",
   "execution_count": 60,
   "metadata": {
    "ExecuteTime": {
     "end_time": "2018-08-28T00:32:05.394597Z",
     "start_time": "2018-08-28T00:32:05.388813Z"
    }
   },
   "outputs": [
    {
     "data": {
      "text/plain": [
       "(307511, 946)"
      ]
     },
     "execution_count": 60,
     "metadata": {},
     "output_type": "execute_result"
    }
   ],
   "source": [
    "train.shape"
   ]
  },
  {
   "cell_type": "code",
   "execution_count": 61,
   "metadata": {
    "ExecuteTime": {
     "end_time": "2018-08-28T00:32:08.496402Z",
     "start_time": "2018-08-28T00:32:08.491181Z"
    }
   },
   "outputs": [
    {
     "data": {
      "text/plain": [
       "(48744, 945)"
      ]
     },
     "execution_count": 61,
     "metadata": {},
     "output_type": "execute_result"
    }
   ],
   "source": [
    "test.shape"
   ]
  },
  {
   "cell_type": "code",
   "execution_count": 66,
   "metadata": {
    "ExecuteTime": {
     "end_time": "2018-08-28T00:33:38.874382Z",
     "start_time": "2018-08-28T00:33:35.364646Z"
    }
   },
   "outputs": [],
   "source": [
    "train.to_pickle('/home/kai/data/shiyi/homecreditdata/train_bo2_imp0_corr9_cols945.pkl')\n",
    "test.to_pickle('/home/kai/data/shiyi/homecreditdata/test_bo2_imp0_corr9_cols945.pkl')"
   ]
  },
  {
   "cell_type": "markdown",
   "metadata": {},
   "source": [
    "## 3. LGB start "
   ]
  },
  {
   "cell_type": "markdown",
   "metadata": {
    "ExecuteTime": {
     "end_time": "2018-08-10T18:48:34.673425Z",
     "start_time": "2018-08-10T18:48:34.670108Z"
    }
   },
   "source": [
    "## 3. Remove Missing Values"
   ]
  },
  {
   "cell_type": "code",
   "execution_count": 21,
   "metadata": {
    "ExecuteTime": {
     "end_time": "2018-08-15T15:27:59.663448Z",
     "start_time": "2018-08-15T15:27:54.803591Z"
    }
   },
   "outputs": [
    {
     "name": "stdout",
     "output_type": "stream",
     "text": [
      "There are 0 columns with more than 0.9 missing values\n"
     ]
    }
   ],
   "source": [
    "train_missing = (train.isnull().sum() / len(train)).sort_values(ascending = False)\n",
    "# train_missing.head()\n",
    "\n",
    "# Test missing values (in percent)\n",
    "test_missing = (test.isnull().sum() / len(test)).sort_values(ascending = False)\n",
    "# test_missing.head()\n",
    "\n",
    "ms_thresh = 0.9\n",
    "# Identify missing values above threshold\n",
    "train_missing = train_missing.index[train_missing > ms_thresh]\n",
    "test_missing = test_missing.index[test_missing > ms_thresh]\n",
    "\n",
    "all_missing = list(set(set(train_missing) | set(test_missing)))\n",
    "print('There are {} columns with more than {} missing values'.format(len(all_missing), ms_thresh))"
   ]
  },
  {
   "cell_type": "markdown",
   "metadata": {
    "ExecuteTime": {
     "end_time": "2018-08-10T19:20:29.849441Z",
     "start_time": "2018-08-10T19:20:29.845892Z"
    }
   },
   "source": [
    "## 4. Feature Selection through Feature Importances"
   ]
  },
  {
   "cell_type": "code",
   "execution_count": 12,
   "metadata": {
    "ExecuteTime": {
     "end_time": "2018-08-28T18:05:27.689557Z",
     "start_time": "2018-08-28T18:05:27.686374Z"
    }
   },
   "outputs": [],
   "source": [
    "s_imp, g_imp, train_preds = res"
   ]
  },
  {
   "cell_type": "code",
   "execution_count": 13,
   "metadata": {
    "ExecuteTime": {
     "end_time": "2018-08-28T18:05:33.118420Z",
     "start_time": "2018-08-28T18:05:33.111943Z"
    }
   },
   "outputs": [
    {
     "name": "stdout",
     "output_type": "stream",
     "text": [
      "There are 0 features with 0.0 importance\n"
     ]
    }
   ],
   "source": [
    "# Find the features with zero importance\n",
    "zero_features_split = list(s_imp[s_imp['importance'] == 0.0]['feature'])\n",
    "print('There are %d features with 0.0 importance' % len(zero_features_split))\n",
    "# feature_importances.tail()"
   ]
  },
  {
   "cell_type": "code",
   "execution_count": 14,
   "metadata": {
    "ExecuteTime": {
     "end_time": "2018-08-28T18:05:34.129306Z",
     "start_time": "2018-08-28T18:05:34.125270Z"
    }
   },
   "outputs": [
    {
     "name": "stdout",
     "output_type": "stream",
     "text": [
      "There are 0 features with 0.0 importance\n"
     ]
    }
   ],
   "source": [
    "# Find the features with zero importance\n",
    "zero_features_gain = list(g_imp[g_imp['importance'] == 0.0]['feature'])\n",
    "print('There are %d features with 0.0 importance' % len(zero_features_gain))\n",
    "# feature_importances.tail()"
   ]
  },
  {
   "cell_type": "code",
   "execution_count": 15,
   "metadata": {
    "ExecuteTime": {
     "end_time": "2018-08-28T18:05:46.870765Z",
     "start_time": "2018-08-28T18:05:46.855298Z"
    }
   },
   "outputs": [
    {
     "data": {
      "text/html": [
       "<div>\n",
       "<style scoped>\n",
       "    .dataframe tbody tr th:only-of-type {\n",
       "        vertical-align: middle;\n",
       "    }\n",
       "\n",
       "    .dataframe tbody tr th {\n",
       "        vertical-align: top;\n",
       "    }\n",
       "\n",
       "    .dataframe thead th {\n",
       "        text-align: right;\n",
       "    }\n",
       "</style>\n",
       "<table border=\"1\" class=\"dataframe\">\n",
       "  <thead>\n",
       "    <tr style=\"text-align: right;\">\n",
       "      <th></th>\n",
       "      <th>feature</th>\n",
       "      <th>importance</th>\n",
       "    </tr>\n",
       "  </thead>\n",
       "  <tbody>\n",
       "    <tr>\n",
       "      <th>0</th>\n",
       "      <td>AMT_CREDIT_divide_AMT_ANNUITY</td>\n",
       "      <td>76.0</td>\n",
       "    </tr>\n",
       "    <tr>\n",
       "      <th>1</th>\n",
       "      <td>external_sources_min</td>\n",
       "      <td>49.0</td>\n",
       "    </tr>\n",
       "    <tr>\n",
       "      <th>2</th>\n",
       "      <td>DAYS_BIRTH_x</td>\n",
       "      <td>47.2</td>\n",
       "    </tr>\n",
       "    <tr>\n",
       "      <th>3</th>\n",
       "      <td>EXT_SOURCE_2_x</td>\n",
       "      <td>34.6</td>\n",
       "    </tr>\n",
       "    <tr>\n",
       "      <th>4</th>\n",
       "      <td>AMT_CREDIT_divide_AMT_GOODS_PRICE</td>\n",
       "      <td>34.6</td>\n",
       "    </tr>\n",
       "  </tbody>\n",
       "</table>\n",
       "</div>"
      ],
      "text/plain": [
       "                             feature  importance\n",
       "0      AMT_CREDIT_divide_AMT_ANNUITY        76.0\n",
       "1               external_sources_min        49.0\n",
       "2                       DAYS_BIRTH_x        47.2\n",
       "3                     EXT_SOURCE_2_x        34.6\n",
       "4  AMT_CREDIT_divide_AMT_GOODS_PRICE        34.6"
      ]
     },
     "execution_count": 15,
     "metadata": {},
     "output_type": "execute_result"
    }
   ],
   "source": [
    "s_imp.head()"
   ]
  },
  {
   "cell_type": "code",
   "execution_count": 23,
   "metadata": {
    "ExecuteTime": {
     "end_time": "2018-08-28T18:09:46.807452Z",
     "start_time": "2018-08-28T18:09:46.800481Z"
    }
   },
   "outputs": [],
   "source": [
    "train_missing_df = train_missing.reset_index().rename(columns={'index':'feature', 0:'miss_perc'})"
   ]
  },
  {
   "cell_type": "code",
   "execution_count": 24,
   "metadata": {
    "ExecuteTime": {
     "end_time": "2018-08-28T18:09:47.738992Z",
     "start_time": "2018-08-28T18:09:47.733389Z"
    }
   },
   "outputs": [],
   "source": [
    "s_imp_missing = s_imp.merge(train_missing_df, how='left')"
   ]
  },
  {
   "cell_type": "code",
   "execution_count": 97,
   "metadata": {
    "ExecuteTime": {
     "end_time": "2018-08-28T19:27:29.123517Z",
     "start_time": "2018-08-28T19:27:29.110521Z"
    }
   },
   "outputs": [
    {
     "data": {
      "text/html": [
       "<div>\n",
       "<style scoped>\n",
       "    .dataframe tbody tr th:only-of-type {\n",
       "        vertical-align: middle;\n",
       "    }\n",
       "\n",
       "    .dataframe tbody tr th {\n",
       "        vertical-align: top;\n",
       "    }\n",
       "\n",
       "    .dataframe thead th {\n",
       "        text-align: right;\n",
       "    }\n",
       "</style>\n",
       "<table border=\"1\" class=\"dataframe\">\n",
       "  <thead>\n",
       "    <tr style=\"text-align: right;\">\n",
       "      <th></th>\n",
       "      <th>feature</th>\n",
       "      <th>importance</th>\n",
       "      <th>miss_perc</th>\n",
       "    </tr>\n",
       "  </thead>\n",
       "  <tbody>\n",
       "    <tr>\n",
       "      <th>0</th>\n",
       "      <td>AMT_CREDIT_divide_AMT_ANNUITY</td>\n",
       "      <td>76.0</td>\n",
       "      <td>0.000039</td>\n",
       "    </tr>\n",
       "    <tr>\n",
       "      <th>1</th>\n",
       "      <td>external_sources_min</td>\n",
       "      <td>49.0</td>\n",
       "      <td>0.000559</td>\n",
       "    </tr>\n",
       "    <tr>\n",
       "      <th>2</th>\n",
       "      <td>DAYS_BIRTH_x</td>\n",
       "      <td>47.2</td>\n",
       "      <td>0.000000</td>\n",
       "    </tr>\n",
       "    <tr>\n",
       "      <th>3</th>\n",
       "      <td>EXT_SOURCE_2_x</td>\n",
       "      <td>34.6</td>\n",
       "      <td>0.002146</td>\n",
       "    </tr>\n",
       "    <tr>\n",
       "      <th>4</th>\n",
       "      <td>AMT_CREDIT_divide_AMT_GOODS_PRICE</td>\n",
       "      <td>34.6</td>\n",
       "      <td>0.000904</td>\n",
       "    </tr>\n",
       "    <tr>\n",
       "      <th>5</th>\n",
       "      <td>external_sources_max</td>\n",
       "      <td>33.6</td>\n",
       "      <td>0.000559</td>\n",
       "    </tr>\n",
       "    <tr>\n",
       "      <th>6</th>\n",
       "      <td>bureau_AMT_CREDIT_SUM_divide_AMT_CREDIT_SUM_DE...</td>\n",
       "      <td>32.2</td>\n",
       "      <td>0.167087</td>\n",
       "    </tr>\n",
       "    <tr>\n",
       "      <th>7</th>\n",
       "      <td>EXT_SOURCE_1_x</td>\n",
       "      <td>27.8</td>\n",
       "      <td>0.563811</td>\n",
       "    </tr>\n",
       "    <tr>\n",
       "      <th>8</th>\n",
       "      <td>EXT_SOURCE_3_x</td>\n",
       "      <td>26.8</td>\n",
       "      <td>0.198253</td>\n",
       "    </tr>\n",
       "    <tr>\n",
       "      <th>9</th>\n",
       "      <td>NAME_EDUCATION_TYPE_CODE_GENDER_EXT_SOURCE_3_m...</td>\n",
       "      <td>26.6</td>\n",
       "      <td>0.198266</td>\n",
       "    </tr>\n",
       "  </tbody>\n",
       "</table>\n",
       "</div>"
      ],
      "text/plain": [
       "                                             feature  importance  miss_perc\n",
       "0                      AMT_CREDIT_divide_AMT_ANNUITY        76.0   0.000039\n",
       "1                               external_sources_min        49.0   0.000559\n",
       "2                                       DAYS_BIRTH_x        47.2   0.000000\n",
       "3                                     EXT_SOURCE_2_x        34.6   0.002146\n",
       "4                  AMT_CREDIT_divide_AMT_GOODS_PRICE        34.6   0.000904\n",
       "5                               external_sources_max        33.6   0.000559\n",
       "6  bureau_AMT_CREDIT_SUM_divide_AMT_CREDIT_SUM_DE...        32.2   0.167087\n",
       "7                                     EXT_SOURCE_1_x        27.8   0.563811\n",
       "8                                     EXT_SOURCE_3_x        26.8   0.198253\n",
       "9  NAME_EDUCATION_TYPE_CODE_GENDER_EXT_SOURCE_3_m...        26.6   0.198266"
      ]
     },
     "execution_count": 97,
     "metadata": {},
     "output_type": "execute_result"
    }
   ],
   "source": [
    "s_imp_missing.head(10)"
   ]
  },
  {
   "cell_type": "code",
   "execution_count": 39,
   "metadata": {
    "ExecuteTime": {
     "end_time": "2018-08-28T18:29:36.275694Z",
     "start_time": "2018-08-28T18:29:36.269539Z"
    }
   },
   "outputs": [],
   "source": [
    "ms_thresh = 0\n",
    "train_missing_th = train_missing.index[train_missing > ms_thresh]\n",
    "test_missing_th = test_missing.index[test_missing > ms_thresh]\n",
    "\n",
    "all_missing = list(set(set(train_missing_th) | set(test_missing_th)))"
   ]
  },
  {
   "cell_type": "code",
   "execution_count": 40,
   "metadata": {
    "ExecuteTime": {
     "end_time": "2018-08-28T18:29:36.652270Z",
     "start_time": "2018-08-28T18:29:36.649023Z"
    }
   },
   "outputs": [
    {
     "data": {
      "text/plain": [
       "361"
      ]
     },
     "execution_count": 40,
     "metadata": {},
     "output_type": "execute_result"
    }
   ],
   "source": [
    "len(all_missing)"
   ]
  },
  {
   "cell_type": "code",
   "execution_count": 91,
   "metadata": {
    "ExecuteTime": {
     "end_time": "2018-08-28T18:45:07.078817Z",
     "start_time": "2018-08-28T18:44:23.554516Z"
    }
   },
   "outputs": [
    {
     "name": "stderr",
     "output_type": "stream",
     "text": [
      "100%|██████████| 361/361 [00:43<00:00,  8.30it/s]\n"
     ]
    }
   ],
   "source": [
    "from tqdm import tqdm\n",
    "for col in tqdm(all_missing):\n",
    "    test['flag_na_'+col] = 0 \n",
    "    test.loc[test[col].isnull(), 'flag_na_'+col] = 1\n",
    "    \n",
    "    train['flag_na_'+col] = 0\n",
    "    train.loc[train[col].isnull(), 'flag_na_'+col] = 1"
   ]
  },
  {
   "cell_type": "code",
   "execution_count": 98,
   "metadata": {
    "ExecuteTime": {
     "end_time": "2018-08-28T19:28:03.984978Z",
     "start_time": "2018-08-28T19:28:03.981863Z"
    }
   },
   "outputs": [],
   "source": [
    "from sklearn.preprocessing.imputation import Imputer"
   ]
  },
  {
   "cell_type": "code",
   "execution_count": 99,
   "metadata": {
    "ExecuteTime": {
     "end_time": "2018-08-28T19:28:21.562530Z",
     "start_time": "2018-08-28T19:28:21.559293Z"
    }
   },
   "outputs": [],
   "source": [
    "im = Imputer()"
   ]
  },
  {
   "cell_type": "code",
   "execution_count": 109,
   "metadata": {
    "ExecuteTime": {
     "end_time": "2018-08-28T19:43:18.443340Z",
     "start_time": "2018-08-28T19:43:18.136996Z"
    }
   },
   "outputs": [],
   "source": [
    "train_mean = train.copy()\n",
    "test_mean  = test.copy()"
   ]
  },
  {
   "cell_type": "code",
   "execution_count": 108,
   "metadata": {
    "ExecuteTime": {
     "end_time": "2018-08-28T19:43:16.558508Z",
     "start_time": "2018-08-28T19:43:16.347531Z"
    }
   },
   "outputs": [
    {
     "data": {
      "text/plain": [
       "231"
      ]
     },
     "execution_count": 108,
     "metadata": {},
     "output_type": "execute_result"
    }
   ],
   "source": [
    "del train_mean, test_mean\n",
    "gc.collect()"
   ]
  },
  {
   "cell_type": "code",
   "execution_count": null,
   "metadata": {},
   "outputs": [],
   "source": [
    "train_mean.fillna()"
   ]
  },
  {
   "cell_type": "code",
   "execution_count": 111,
   "metadata": {
    "ExecuteTime": {
     "end_time": "2018-08-28T19:45:13.029517Z",
     "start_time": "2018-08-28T19:45:11.834990Z"
    }
   },
   "outputs": [
    {
     "name": "stderr",
     "output_type": "stream",
     "text": [
      "100%|██████████| 361/361 [00:01<00:00, 303.46it/s]\n"
     ]
    }
   ],
   "source": [
    "from tqdm import tqdm\n",
    "for col in tqdm(all_missing):\n",
    "    try:\n",
    "        tr_mean = train_mean[col].mean()\n",
    "        train_mean[col] = train_mean[col].fillna(tr_mean) #im.fit_transform(train_mean[[col]])\n",
    "        test_mean[col] = test_mean[col].fillna(tr_mean) #im.fit_transform(test_mean[[col]])\n",
    "    except:\n",
    "        print(col)"
   ]
  },
  {
   "cell_type": "code",
   "execution_count": 112,
   "metadata": {
    "ExecuteTime": {
     "end_time": "2018-08-28T19:45:14.543506Z",
     "start_time": "2018-08-28T19:45:14.537619Z"
    }
   },
   "outputs": [
    {
     "data": {
      "text/plain": [
       "((307511, 1297), (48744, 1297))"
      ]
     },
     "execution_count": 112,
     "metadata": {},
     "output_type": "execute_result"
    }
   ],
   "source": [
    "train.shape, test.shape"
   ]
  },
  {
   "cell_type": "code",
   "execution_count": 113,
   "metadata": {
    "ExecuteTime": {
     "end_time": "2018-08-28T19:45:39.088801Z",
     "start_time": "2018-08-28T19:45:39.084584Z"
    }
   },
   "outputs": [
    {
     "data": {
      "text/plain": [
       "['OCCUPATION_TYPE_DAYS_BIRTH_mean_abs_diff',\n",
       " 'creditcard_AMT_PAYMENT_TOTAL_CURRENT_divide_CNT_DRAWINGS_CURRENT_median']"
      ]
     },
     "execution_count": 113,
     "metadata": {},
     "output_type": "execute_result"
    }
   ],
   "source": [
    "all_missing[:2]"
   ]
  },
  {
   "cell_type": "code",
   "execution_count": null,
   "metadata": {},
   "outputs": [],
   "source": []
  },
  {
   "cell_type": "code",
   "execution_count": null,
   "metadata": {},
   "outputs": [],
   "source": []
  },
  {
   "cell_type": "code",
   "execution_count": null,
   "metadata": {},
   "outputs": [],
   "source": []
  },
  {
   "cell_type": "code",
   "execution_count": null,
   "metadata": {},
   "outputs": [],
   "source": []
  },
  {
   "cell_type": "code",
   "execution_count": 33,
   "metadata": {
    "ExecuteTime": {
     "end_time": "2018-08-27T20:55:19.081846Z",
     "start_time": "2018-08-27T20:55:19.076018Z"
    }
   },
   "outputs": [
    {
     "data": {
      "text/plain": [
       "set()"
      ]
     },
     "execution_count": 33,
     "metadata": {},
     "output_type": "execute_result"
    }
   ],
   "source": [
    "set(zero_features_split) - set(zero_features_gain)"
   ]
  },
  {
   "cell_type": "code",
   "execution_count": null,
   "metadata": {
    "ExecuteTime": {
     "start_time": "2018-08-13T21:42:28.040Z"
    }
   },
   "outputs": [],
   "source": [
    "# len(zero_features)"
   ]
  },
  {
   "cell_type": "code",
   "execution_count": null,
   "metadata": {
    "ExecuteTime": {
     "start_time": "2018-08-13T21:42:28.043Z"
    }
   },
   "outputs": [],
   "source": [
    "if skip_train_nan:\n",
    "    for col in all_missing:\n",
    "        zero_features.remove(col)"
   ]
  },
  {
   "cell_type": "code",
   "execution_count": 45,
   "metadata": {
    "ExecuteTime": {
     "end_time": "2018-08-27T21:06:30.069351Z",
     "start_time": "2018-08-27T21:06:30.063187Z"
    }
   },
   "outputs": [],
   "source": [
    "not_found = []\n",
    "for col in zero_features_gain: \n",
    "    if col not in test:\n",
    "        not_found.append(col)"
   ]
  },
  {
   "cell_type": "code",
   "execution_count": 48,
   "metadata": {
    "ExecuteTime": {
     "end_time": "2018-08-27T21:07:10.664764Z",
     "start_time": "2018-08-27T21:07:10.662279Z"
    }
   },
   "outputs": [],
   "source": [
    "zero_features = list(set(zero_features_gain) - set(not_found))"
   ]
  },
  {
   "cell_type": "code",
   "execution_count": 49,
   "metadata": {
    "ExecuteTime": {
     "end_time": "2018-08-27T21:07:14.127453Z",
     "start_time": "2018-08-27T21:07:14.123800Z"
    }
   },
   "outputs": [
    {
     "data": {
      "text/plain": [
       "444"
      ]
     },
     "execution_count": 49,
     "metadata": {},
     "output_type": "execute_result"
    }
   ],
   "source": [
    "len(zero_features)"
   ]
  },
  {
   "cell_type": "code",
   "execution_count": 54,
   "metadata": {
    "ExecuteTime": {
     "end_time": "2018-08-27T21:07:51.196290Z",
     "start_time": "2018-08-27T21:07:48.081058Z"
    }
   },
   "outputs": [
    {
     "name": "stdout",
     "output_type": "stream",
     "text": [
      "Training shape:  (307511, 2234)\n",
      "Testing shape:  (48744, 2233)\n"
     ]
    }
   ],
   "source": [
    "train = train.drop(columns = zero_features)\n",
    "test = test.drop(columns = zero_features)\n",
    "\n",
    "print('Training shape: ', train.shape)\n",
    "print('Testing shape: ', test.shape)"
   ]
  },
  {
   "cell_type": "code",
   "execution_count": 39,
   "metadata": {
    "ExecuteTime": {
     "end_time": "2018-08-27T20:59:59.718948Z",
     "start_time": "2018-08-27T20:59:59.713956Z"
    }
   },
   "outputs": [
    {
     "data": {
      "text/plain": [
       "False"
      ]
     },
     "execution_count": 39,
     "metadata": {},
     "output_type": "execute_result"
    }
   ],
   "source": [
    "'prev_onehot_NAME_SELLER_INDUSTRY_MLM_partners' in train"
   ]
  },
  {
   "cell_type": "code",
   "execution_count": 25,
   "metadata": {
    "ExecuteTime": {
     "end_time": "2018-08-27T14:39:45.127800Z",
     "start_time": "2018-08-27T14:39:45.123290Z"
    }
   },
   "outputs": [
    {
     "name": "stdout",
     "output_type": "stream",
     "text": [
      "start corr + missing + imp0 removed ###################\n",
      "(307511, 2132) (48744, 2132)\n"
     ]
    }
   ],
   "source": [
    "print('start corr + missing + imp0 removed ###################')\n",
    "print(train.shape, test.shape)"
   ]
  },
  {
   "cell_type": "code",
   "execution_count": 31,
   "metadata": {
    "ExecuteTime": {
     "end_time": "2018-08-27T20:54:35.452019Z",
     "start_time": "2018-08-27T20:54:34.824399Z"
    }
   },
   "outputs": [
    {
     "data": {
      "image/png": "[encoded data removed]",
      "text/plain": [
       "<Figure size 1440x1008 with 1 Axes>"
      ]
     },
     "metadata": {},
     "output_type": "display_data"
    },
    {
     "data": {
      "image/png": "[encoded data removed]",
      "text/plain": [
       "<Figure size 432x288 with 1 Axes>"
      ]
     },
     "metadata": {},
     "output_type": "display_data"
    },
    {
     "name": "stdout",
     "output_type": "stream",
     "text": [
      "876 features required for 0.90 of cumulative importance\n"
     ]
    }
   ],
   "source": [
    "gain_imp_norm = plot_feature_importances(g_imp)"
   ]
  },
  {
   "cell_type": "code",
   "execution_count": 32,
   "metadata": {
    "ExecuteTime": {
     "end_time": "2018-08-27T20:54:48.400288Z",
     "start_time": "2018-08-27T20:54:47.694745Z"
    }
   },
   "outputs": [
    {
     "data": {
      "image/png": "[encoded data removed]",
      "text/plain": [
       "<Figure size 1440x1008 with 1 Axes>"
      ]
     },
     "metadata": {},
     "output_type": "display_data"
    },
    {
     "data": {
      "image/png": "[encoded data removed]",
      "text/plain": [
       "<Figure size 432x288 with 1 Axes>"
      ]
     },
     "metadata": {},
     "output_type": "display_data"
    },
    {
     "name": "stdout",
     "output_type": "stream",
     "text": [
      "1295 features required for 0.90 of cumulative importance\n"
     ]
    }
   ],
   "source": [
    "split_imp_norm = plot_feature_importances(s_imp)"
   ]
  },
  {
   "cell_type": "code",
   "execution_count": 30,
   "metadata": {
    "ExecuteTime": {
     "end_time": "2018-08-27T20:54:33.592753Z",
     "start_time": "2018-08-27T20:54:33.582785Z"
    }
   },
   "outputs": [],
   "source": [
    "def plot_feature_importances(df, threshold = 0.9, topn=30):\n",
    "    \"\"\"\n",
    "    Plots 15 most important features and the cumulative importance of features.\n",
    "    Prints the number of features needed to reach threshold cumulative importance.\n",
    "    \n",
    "    Parameters\n",
    "    --------\n",
    "    df : dataframe\n",
    "        Dataframe of feature importances. Columns must be feature and importance\n",
    "    threshold : float, default = 0.9\n",
    "        Threshold for prining information about cumulative importances\n",
    "        \n",
    "    Return\n",
    "    --------\n",
    "    df : dataframe\n",
    "        Dataframe ordered by feature importances with a normalized column (sums to 1)\n",
    "        and a cumulative importance column\n",
    "    \n",
    "    \"\"\"\n",
    "    # Sort features according to importance\n",
    "    df = df.sort_values('importance', ascending = False).reset_index()\n",
    "    \n",
    "    # Normalize the feature importances to add up to one\n",
    "    df['importance_normalized'] = df['importance'] / df['importance'].sum()\n",
    "    df['cumulative_importance'] = np.cumsum(df['importance_normalized'])\n",
    "\n",
    "    if not print_to_file:\n",
    "        plt.rcParams['font.size'] = 8\n",
    "        # Make a horizontal bar chart of feature importances\n",
    "        plt.figure(figsize = (20, 14))\n",
    "        ax = plt.subplot()\n",
    "\n",
    "        # Need to reverse the index to plot most important on top\n",
    "        ax.barh(list(reversed(list(df.index[:topn]))), \n",
    "                df['importance_normalized'].head(topn), \n",
    "                align = 'center', edgecolor = 'k')\n",
    "\n",
    "        # Set the yticks and labels\n",
    "        ax.set_yticks(list(reversed(list(df.index[:topn]))))\n",
    "        ax.set_yticklabels(df['feature'].head(topn))\n",
    "\n",
    "        # Plot labeling\n",
    "        plt.xlabel('Normalized Importance'); plt.title('Feature Importances')\n",
    "        plt.show()\n",
    "\n",
    "        # Cumulative importance plot\n",
    "        plt.figure(figsize = (6, 4))\n",
    "        plt.plot(list(range(len(df))), df['cumulative_importance'], 'r-')\n",
    "        plt.xlabel('Number of Features'); plt.ylabel('Cumulative Importance'); \n",
    "        plt.title('Cumulative Feature Importance');\n",
    "        plt.show();\n",
    "    \n",
    "    importance_index = np.min(np.where(df['cumulative_importance'] > threshold))\n",
    "    print('%d features required for %0.2f of cumulative importance' % (importance_index + 1, threshold))\n",
    "    \n",
    "    return df"
   ]
  }
 ],
 "metadata": {
  "kernelspec": {
   "display_name": "Python 3",
   "language": "python",
   "name": "python3"
  },
  "language_info": {
   "codemirror_mode": {
    "name": "ipython",
    "version": 3
   },
   "file_extension": ".py",
   "mimetype": "text/x-python",
   "name": "python",
   "nbconvert_exporter": "python",
   "pygments_lexer": "ipython3",
   "version": "3.6.5"
  },
  "varInspector": {
   "cols": {
    "lenName": 16,
    "lenType": 16,
    "lenVar": 40
   },
   "kernels_config": {
    "python": {
     "delete_cmd_postfix": "",
     "delete_cmd_prefix": "del ",
     "library": "var_list.py",
     "varRefreshCmd": "print(var_dic_list())"
    },
    "r": {
     "delete_cmd_postfix": ") ",
     "delete_cmd_prefix": "rm(",
     "library": "var_list.r",
     "varRefreshCmd": "cat(var_dic_list()) "
    }
   },
   "types_to_exclude": [
    "module",
    "function",
    "builtin_function_or_method",
    "instance",
    "_Feature"
   ],
   "window_display": false
  }
 },
 "nbformat": 4,
 "nbformat_minor": 2
}
