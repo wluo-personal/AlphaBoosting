{
 "cells": [
  {
   "cell_type": "code",
   "execution_count": 1,
   "metadata": {
    "ExecuteTime": {
     "end_time": "2018-09-14T03:24:15.109194Z",
     "start_time": "2018-09-14T03:24:14.761656Z"
    }
   },
   "outputs": [],
   "source": [
    "__file__=''\n",
    "import os,sys\n",
    "import pandas as pd\n",
    "sys.path.append(os.path.join(os.path.dirname(__file__),'../LIB/'))\n",
    "sys.path.append(os.path.join(os.path.dirname(__file__),'../../../../automl/automl_libs/'))\n",
    "from env import FILE\n",
    "from sklearn.model_selection import KFold, StratifiedKFold\n",
    "from sklearn.metrics import log_loss,roc_auc_score\n",
    "import xlearn as xl\n",
    "from sklearn.model_selection import train_test_split\n",
    "from sklearn.preprocessing import LabelEncoder\n",
    "from tqdm import tqdm"
   ]
  },
  {
   "cell_type": "code",
   "execution_count": 2,
   "metadata": {
    "ExecuteTime": {
     "end_time": "2018-09-14T03:24:15.887895Z",
     "start_time": "2018-09-14T03:24:15.533735Z"
    }
   },
   "outputs": [
    {
     "name": "stdout",
     "output_type": "stream",
     "text": [
      "train shape is: (1001650, 41)\n",
      "test shape is: (40024, 40)\n"
     ]
    }
   ],
   "source": [
    "\n",
    "train = pd.read_pickle(FILE.train_base_line.value)\n",
    "print('train shape is: {}'.format(train.shape))\n",
    "\n",
    "\n",
    "test = pd.read_pickle(FILE.test_base_line.value)\n",
    "print('test shape is: {}'.format(test.shape))"
   ]
  },
  {
   "cell_type": "code",
   "execution_count": 3,
   "metadata": {
    "ExecuteTime": {
     "end_time": "2018-09-14T03:24:18.841117Z",
     "start_time": "2018-09-14T03:24:18.835108Z"
    }
   },
   "outputs": [],
   "source": [
    "ffm_model = xl.FFMModel(task='binary', init=0.1,\n",
    "                          epoch=10, lr=0.1,\n",
    "                          reg_lambda=1.0, opt='sgd')"
   ]
  },
  {
   "cell_type": "code",
   "execution_count": 16,
   "metadata": {
    "ExecuteTime": {
     "end_time": "2018-09-14T03:29:01.637811Z",
     "start_time": "2018-09-14T03:29:01.419312Z"
    }
   },
   "outputs": [],
   "source": [
    "data_train = train.drop(['instance_id','time','click'],axis=1).values\n",
    "data_test = test.drop(['instance_id','time'],axis=1).values\n",
    "labels = train['click'].values"
   ]
  },
  {
   "cell_type": "code",
   "execution_count": 17,
   "metadata": {
    "ExecuteTime": {
     "end_time": "2018-09-14T03:29:03.164662Z",
     "start_time": "2018-09-14T03:29:02.542011Z"
    }
   },
   "outputs": [],
   "source": [
    "x_train,x_val,y_train,y_val = train_test_split(data_train,labels,test_size=0.3,shuffle=True)"
   ]
  },
  {
   "cell_type": "code",
   "execution_count": 20,
   "metadata": {
    "ExecuteTime": {
     "end_time": "2018-09-14T03:29:32.945995Z",
     "start_time": "2018-09-14T03:29:32.931338Z"
    }
   },
   "outputs": [
    {
     "ename": "AssertionError",
     "evalue": "Must specify fields in FFMModel",
     "output_type": "error",
     "traceback": [
      "\u001b[0;31m---------------------------------------------------------------------------\u001b[0m",
      "\u001b[0;31mAssertionError\u001b[0m                            Traceback (most recent call last)",
      "\u001b[0;32m?\u001b[0m in \u001b[0;36m<module>\u001b[0;34m()\u001b[0m\n\u001b[1;32m      1\u001b[0m ffm_model.fit(x_train, y_train,\n\u001b[1;32m      2\u001b[0m                  \u001b[0meval_set\u001b[0m\u001b[0;34m=\u001b[0m\u001b[0;34m[\u001b[0m\u001b[0mx_val\u001b[0m\u001b[0;34m,\u001b[0m \u001b[0my_val\u001b[0m\u001b[0;34m]\u001b[0m\u001b[0;34m,\u001b[0m\u001b[0;34m\u001b[0m\u001b[0m\n\u001b[0;32m----> 3\u001b[0;31m                  is_lock_free=False)\n\u001b[0m",
      "\u001b[0;32m~/anaconda3/lib/python3.6/site-packages/xlearn/_sklearn.py\u001b[0m in \u001b[0;36mfit\u001b[0;34m(self, X, y, fields, is_lock_free, is_instance_norm, eval_set, is_quiet)\u001b[0m\n\u001b[1;32m    207\u001b[0m \u001b[0;34m\u001b[0m\u001b[0m\n\u001b[1;32m    208\u001b[0m             \u001b[0;32mif\u001b[0m \u001b[0mself\u001b[0m\u001b[0;34m.\u001b[0m\u001b[0mmodel_type\u001b[0m \u001b[0;34m==\u001b[0m \u001b[0;34m'ffm'\u001b[0m\u001b[0;34m:\u001b[0m\u001b[0;34m\u001b[0m\u001b[0m\n\u001b[0;32m--> 209\u001b[0;31m                 \u001b[0;32massert\u001b[0m \u001b[0mfields\u001b[0m \u001b[0;32mis\u001b[0m \u001b[0;32mnot\u001b[0m \u001b[0;32mNone\u001b[0m\u001b[0;34m,\u001b[0m \u001b[0;34m'Must specify fields in FFMModel'\u001b[0m\u001b[0;34m\u001b[0m\u001b[0m\n\u001b[0m\u001b[1;32m    210\u001b[0m                 \u001b[0mself\u001b[0m\u001b[0;34m.\u001b[0m\u001b[0mfields\u001b[0m \u001b[0;34m=\u001b[0m \u001b[0mfields\u001b[0m\u001b[0;34m\u001b[0m\u001b[0m\n\u001b[1;32m    211\u001b[0m \u001b[0;34m\u001b[0m\u001b[0m\n",
      "\u001b[0;31mAssertionError\u001b[0m: Must specify fields in FFMModel"
     ]
    }
   ],
   "source": [
    "ffm_model.fit(x_train, y_train,\n",
    "                 eval_set=[x_val, y_val],\n",
    "                 is_lock_free=False)"
   ]
  },
  {
   "cell_type": "code",
   "execution_count": 10,
   "metadata": {
    "ExecuteTime": {
     "end_time": "2018-09-14T03:26:53.286249Z",
     "start_time": "2018-09-14T03:26:53.280076Z"
    }
   },
   "outputs": [
    {
     "data": {
      "text/plain": [
       "Index(['instance_id', 'time', 'city', 'province', 'user_tags', 'carrier',\n",
       "       'devtype', 'make', 'model', 'nnt', 'os', 'osv', 'os_name', 'adid',\n",
       "       'advert_id', 'orderid', 'advert_industry_inner', 'campaign_id',\n",
       "       'creative_id', 'creative_tp_dnf', 'app_cate_id', 'f_channel', 'app_id',\n",
       "       'inner_slot_id', 'creative_type', 'creative_is_jump',\n",
       "       'creative_is_download', 'creative_has_deeplink', 'advert_name', 'click',\n",
       "       'ad_i_i_lvl1', 'ad_i_i_lvl2', 'has_usertags', 'amt_usertags',\n",
       "       'is_shenghuicity', 'time_hour', 'time_day', 'vertical_screen',\n",
       "       'creative_area', 'creative_res', 'creative_res_popularity'],\n",
       "      dtype='object')"
      ]
     },
     "execution_count": 10,
     "metadata": {},
     "output_type": "execute_result"
    }
   ],
   "source": [
    "train.columns"
   ]
  },
  {
   "cell_type": "code",
   "execution_count": 1,
   "metadata": {
    "ExecuteTime": {
     "end_time": "2018-09-14T03:30:43.808070Z",
     "start_time": "2018-09-14T03:30:43.597235Z"
    }
   },
   "outputs": [],
   "source": [
    "import numpy as np\n",
    "import xlearn as xl\n",
    "from sklearn.datasets import load_iris\n",
    "from sklearn.model_selection import train_test_split\n",
    "\n",
    "# Load dataset\n",
    "iris_data = load_iris()\n",
    "X = iris_data['data']\n",
    "y = (iris_data['target'] == 2)\n",
    "\n",
    "X_train,   \\\n",
    "X_val,     \\\n",
    "y_train,   \\\n",
    "y_val = train_test_split(X, y, test_size=0.3, random_state=0)\n",
    "\n",
    "# param:\n",
    "#  0. binary classification\n",
    "#  1. model scale: 0.1\n",
    "#  2. epoch number: 10 (auto early-stop)\n",
    "#  3. learning rate: 0.1\n",
    "#  4. regular lambda: 1.0\n",
    "#  5. use sgd optimization method\n",
    "linear_model = xl.LRModel(task='binary', init=0.1,\n",
    "                          epoch=10, lr=0.1,\n",
    "                          reg_lambda=1.0, opt='sgd')\n",
    "\n"
   ]
  },
  {
   "cell_type": "code",
   "execution_count": null,
   "metadata": {
    "ExecuteTime": {
     "start_time": "2018-09-14T03:30:44.581Z"
    }
   },
   "outputs": [],
   "source": [
    "# Start to train\n",
    "linear_model.fit(X_train, y_train,\n",
    "                 eval_set=[X_val, y_val],\n",
    "                 is_lock_free=False)\n",
    "\n",
    "# Generate predictions\n",
    "y_pred = linear_model.predict(X_val)"
   ]
  },
  {
   "cell_type": "code",
   "execution_count": null,
   "metadata": {},
   "outputs": [],
   "source": []
  }
 ],
 "metadata": {
  "kernelspec": {
   "display_name": "Python 3",
   "language": "python",
   "name": "python3"
  },
  "language_info": {
   "codemirror_mode": {
    "name": "ipython",
    "version": 3
   },
   "file_extension": ".py",
   "mimetype": "text/x-python",
   "name": "python",
   "nbconvert_exporter": "python",
   "pygments_lexer": "ipython3",
   "version": "3.6.5"
  },
  "varInspector": {
   "cols": {
    "lenName": 16,
    "lenType": 16,
    "lenVar": 40
   },
   "kernels_config": {
    "python": {
     "delete_cmd_postfix": "",
     "delete_cmd_prefix": "del ",
     "library": "var_list.py",
     "varRefreshCmd": "print(var_dic_list())"
    },
    "r": {
     "delete_cmd_postfix": ") ",
     "delete_cmd_prefix": "rm(",
     "library": "var_list.r",
     "varRefreshCmd": "cat(var_dic_list()) "
    }
   },
   "types_to_exclude": [
    "module",
    "function",
    "builtin_function_or_method",
    "instance",
    "_Feature"
   ],
   "window_display": false
  }
 },
 "nbformat": 4,
 "nbformat_minor": 2
}
