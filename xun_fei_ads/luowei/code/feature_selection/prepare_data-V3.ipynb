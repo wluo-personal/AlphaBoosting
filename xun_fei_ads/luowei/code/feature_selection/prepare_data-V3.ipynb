{
 "cells": [
  {
   "cell_type": "code",
   "execution_count": 13,
   "metadata": {
    "ExecuteTime": {
     "end_time": "2018-09-18T21:10:51.175728Z",
     "start_time": "2018-09-18T21:10:51.169658Z"
    }
   },
   "outputs": [],
   "source": [
    "__file__=''\n",
    "import os,sys\n",
    "import pandas as pd\n",
    "sys.path.append(os.path.join(os.path.dirname(__file__),'../LIB/'))\n",
    "sys.path.append(os.path.join(os.path.dirname(__file__),'../../../../automl/automl_libs/'))\n",
    "from env import FILE\n",
    "import utils\n",
    "from itertools import combinations\n",
    "from feature_engineering import *\n",
    "from tqdm import tqdm\n",
    "from sklearn.preprocessing import LabelEncoder\n",
    "le = LabelEncoder()"
   ]
  },
  {
   "cell_type": "code",
   "execution_count": 14,
   "metadata": {
    "ExecuteTime": {
     "end_time": "2018-09-18T21:10:53.229062Z",
     "start_time": "2018-09-18T21:10:52.958650Z"
    }
   },
   "outputs": [
    {
     "name": "stdout",
     "output_type": "stream",
     "text": [
      "train shape is: (1001650, 36)\n",
      "test shape is: (40024, 35)\n",
      "(1041674, 36)\n"
     ]
    }
   ],
   "source": [
    "# train = pd.read_pickle(FILE.train_base_line.value)\n",
    "train = pd.read_pickle(FILE.train_agg_v3_select.value)\n",
    "print('train shape is: {}'.format(train.shape))\n",
    "# test = pd.read_pickle(FILE.test_base_line.value)\n",
    "test = pd.read_pickle(FILE.test_agg_v3_select.value)\n",
    "print('test shape is: {}'.format(test.shape))\n",
    "\n",
    "X = pd.concat([train,test],sort=False)\n",
    "\n",
    "\n",
    "\n",
    "print(X.shape)"
   ]
  },
  {
   "cell_type": "code",
   "execution_count": 15,
   "metadata": {
    "ExecuteTime": {
     "end_time": "2018-09-18T21:10:56.590302Z",
     "start_time": "2018-09-18T21:10:55.653279Z"
    }
   },
   "outputs": [
    {
     "name": "stdout",
     "output_type": "stream",
     "text": [
      "(1041674, 38)\n",
      "load done!\n",
      "(1041674, 41)\n",
      "load done!\n",
      "(1041674, 47)\n"
     ]
    }
   ],
   "source": [
    "for r in [7]:\n",
    "    saving_path_timeNext = FILE.X_fe_agg_time_next_formaterV3.value.format(r)\n",
    "    x_timeNext = pd.read_pickle(saving_path_timeNext)\n",
    "    X = X.merge(x_timeNext,how='inner',on='instance_id')\n",
    "    print(X.shape)\n",
    "    \n",
    "    saving_path_count = FILE.X_fe_agg_count_formaterV3.value.format(r)\n",
    "    x_count = pd.read_pickle(saving_path_count)\n",
    "    print('load done!')\n",
    "    X = X.merge(x_count,how='inner',on='instance_id')\n",
    "    print(X.shape)\n",
    "    \n",
    "    saving_path_timeCount = FILE.X_fe_agg_time_count_formaterV3.value.format(r)\n",
    "    x_timeCount = pd.read_pickle(saving_path_timeCount)\n",
    "    print('load done!')\n",
    "    X = X.merge(x_timeCount,how='inner',on='instance_id')\n",
    "    print(X.shape)"
   ]
  },
  {
   "cell_type": "code",
   "execution_count": 16,
   "metadata": {
    "ExecuteTime": {
     "end_time": "2018-09-18T21:10:58.804301Z",
     "start_time": "2018-09-18T21:10:58.035614Z"
    }
   },
   "outputs": [
    {
     "name": "stdout",
     "output_type": "stream",
     "text": [
      "(1001650, 47)\n",
      "(40024, 46)\n"
     ]
    }
   ],
   "source": [
    "train = X[X.click.notnull()]\n",
    "print(train.shape)\n",
    "test = X[X.click.isnull()]\n",
    "test = test.drop('click',axis=1)\n",
    "print(test.shape)\n",
    "\n",
    "train.to_pickle(FILE.train_agg_v3.value)\n",
    "test.to_pickle(FILE.test_agg_v3.value)"
   ]
  },
  {
   "cell_type": "code",
   "execution_count": null,
   "metadata": {},
   "outputs": [],
   "source": []
  }
 ],
 "metadata": {
  "kernelspec": {
   "display_name": "Python 3",
   "language": "python",
   "name": "python3"
  },
  "language_info": {
   "codemirror_mode": {
    "name": "ipython",
    "version": 3
   },
   "file_extension": ".py",
   "mimetype": "text/x-python",
   "name": "python",
   "nbconvert_exporter": "python",
   "pygments_lexer": "ipython3",
   "version": "3.6.5"
  },
  "varInspector": {
   "cols": {
    "lenName": 16,
    "lenType": 16,
    "lenVar": 40
   },
   "kernels_config": {
    "python": {
     "delete_cmd_postfix": "",
     "delete_cmd_prefix": "del ",
     "library": "var_list.py",
     "varRefreshCmd": "print(var_dic_list())"
    },
    "r": {
     "delete_cmd_postfix": ") ",
     "delete_cmd_prefix": "rm(",
     "library": "var_list.r",
     "varRefreshCmd": "cat(var_dic_list()) "
    }
   },
   "types_to_exclude": [
    "module",
    "function",
    "builtin_function_or_method",
    "instance",
    "_Feature"
   ],
   "window_display": false
  }
 },
 "nbformat": 4,
 "nbformat_minor": 2
}
