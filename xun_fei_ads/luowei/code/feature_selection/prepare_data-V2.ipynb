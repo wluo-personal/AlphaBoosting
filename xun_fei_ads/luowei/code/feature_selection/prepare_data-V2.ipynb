{
 "cells": [
  {
   "cell_type": "code",
   "execution_count": 1,
   "metadata": {
    "ExecuteTime": {
     "end_time": "2018-09-16T03:16:39.104784Z",
     "start_time": "2018-09-16T03:16:38.771234Z"
    }
   },
   "outputs": [],
   "source": [
    "__file__=''\n",
    "import os,sys\n",
    "import pandas as pd\n",
    "sys.path.append(os.path.join(os.path.dirname(__file__),'../LIB/'))\n",
    "sys.path.append(os.path.join(os.path.dirname(__file__),'../../../../automl/automl_libs/'))\n",
    "from env import FILE\n",
    "import utils\n",
    "from itertools import combinations\n",
    "from feature_engineering import *\n",
    "from tqdm import tqdm\n",
    "from sklearn.preprocessing import LabelEncoder\n",
    "le = LabelEncoder()"
   ]
  },
  {
   "cell_type": "code",
   "execution_count": 2,
   "metadata": {
    "ExecuteTime": {
     "end_time": "2018-09-16T03:16:57.879463Z",
     "start_time": "2018-09-16T03:16:40.636291Z"
    }
   },
   "outputs": [
    {
     "name": "stdout",
     "output_type": "stream",
     "text": [
      "train shape is: (1001650, 35)\n",
      "test shape is: (40024, 34)\n",
      "(1041674, 35)\n",
      "(1041674, 45)\n",
      "(1041674, 36)\n",
      "['creative_is_js', 'creative_is_voicead', 'app_paid']\n"
     ]
    }
   ],
   "source": [
    "train = pd.read_pickle(FILE.train_ori.value)\n",
    "print('train shape is: {}'.format(train.shape))\n",
    "test = pd.read_pickle(FILE.test_ori.value)\n",
    "print('test shape is: {}'.format(test.shape))\n",
    "\n",
    "# X = pd.concat([train.drop(['click'],axis=1),test])\n",
    "X = pd.concat([train,test],sort=False)\n",
    "print(X.shape)\n",
    "\n",
    "\n",
    "X_shiyi = pd.read_pickle(FILE.shiyi_fillna_ori.value)\n",
    "print(X_shiyi.shape)\n",
    "\n",
    "X = X.merge(X_shiyi[['time_hour','instance_id']],how='inner',on='instance_id')\n",
    "print(X.shape)\n",
    "\n",
    "#1\n",
    "col = 'city'\n",
    "X[col] = le.fit_transform(X[col])\n",
    "na_index = X[X[col].isnull()].index\n",
    "X.loc[na_index,col] = np.nan\n",
    "\n",
    "#2\n",
    "col = 'province'\n",
    "X[col] = le.fit_transform(X[col])\n",
    "na_index = X[X[col].isnull()].index\n",
    "X.loc[na_index,col] = np.nan\n",
    "\n",
    "#3\n",
    "def tags_sort(x):\n",
    "    try:\n",
    "        return ','.join(sorted(list(set(x.split(',')) -set(['']))))\n",
    "    except:\n",
    "        return x\n",
    "X['user_tags'] = X['user_tags'].apply(tags_sort)\n",
    "nan_index = X['user_tags'][X['user_tags'].isnull()].index\n",
    "X['user_tags'] = X['user_tags'].fillna('notFound')\n",
    "X['user_tags'] = le.fit_transform(X['user_tags'])\n",
    "X.loc[nan_index,'user_tags'] = np.nan\n",
    "\n",
    "#4\n",
    "col ='carrier'\n",
    "pass\n",
    "\n",
    "#5\n",
    "col = 'devtype'\n",
    "pass\n",
    "\n",
    "#6\n",
    "col = 'make'\n",
    "na_index = X[X[col].isnull()].index\n",
    "X[col] = le.fit_transform(X[col].astype(str))\n",
    "X.loc[na_index,col] = np.nan\n",
    "\n",
    "#7\n",
    "col = 'model'\n",
    "na_index = X[X[col].isnull()].index\n",
    "X[col] = le.fit_transform(X[col].astype(str))\n",
    "X.loc[na_index,col] = np.nan\n",
    "\n",
    "#8\n",
    "col = 'nnt'\n",
    "pass\n",
    "\n",
    "#9\n",
    "col ='os'\n",
    "pass\n",
    "\n",
    "#10\n",
    "col = 'osv'\n",
    "na_index = X[X[col].isnull()].index\n",
    "X[col] = le.fit_transform(X[col].astype(str))\n",
    "X.loc[na_index,col] = np.nan\n",
    "\n",
    "#11\n",
    "col = 'os_name'\n",
    "na_index = X[X[col].isnull()].index\n",
    "X[col] = le.fit_transform(X[col].astype(str))\n",
    "X[col] = X[col].astype('category')\n",
    "X.loc[na_index,col] = np.nan\n",
    "\n",
    "#12 \n",
    "col = 'adid'\n",
    "pass\n",
    "\n",
    "#13\n",
    "col = 'advert_id'\n",
    "# X[col] = X[col].astype('category')\n",
    "\n",
    "#14\n",
    "col = 'orderid'\n",
    "# X[col] = X[col].astype('category')\n",
    "\n",
    "#15\n",
    "col = 'advert_industry_inner'\n",
    "na_index = X[X[col].isnull()].index\n",
    "X[col] = le.fit_transform(X[col].astype(str))\n",
    "X[col] = X[col].astype('category')\n",
    "X.loc[na_index,col] = np.nan\n",
    "\n",
    "#16\n",
    "col = 'campaign_id'\n",
    "pass\n",
    "\n",
    "\n",
    "#17\n",
    "col = 'creative_id'\n",
    "pass\n",
    "\n",
    "#18\n",
    "col = 'creative_tp_dnf'\n",
    "pass\n",
    "\n",
    "#19\n",
    "col = 'app_cate_id'\n",
    "na_index = X[X[col].isnull()].index\n",
    "X[col] = X[col].astype('category')\n",
    "X.loc[na_index,col] = np.nan\n",
    "\n",
    "#20\n",
    "col = 'f_channel'\n",
    "na_index = X[X[col].isnull()].index\n",
    "X[col] = le.fit_transform(X[col].astype(str))\n",
    "X[col] = X[col].astype('category')\n",
    "X.loc[na_index,col] = np.nan\n",
    "\n",
    "#################################### not sure\n",
    "#21 not sure!!!!!!\n",
    "col = 'app_id'\n",
    "# na_index = X[X[col].isnull()].index\n",
    "X[col] = X[col].astype('category')\n",
    "# X.loc[na_index,col] = np.nan\n",
    "\n",
    "#22 \n",
    "col = 'inner_slot_id'\n",
    "na_index = X[X[col].isnull()].index\n",
    "X[col] = le.fit_transform(X[col].astype(str))\n",
    "# X[col] = X[col].astype('category')\n",
    "X.loc[na_index,col] = np.nan\n",
    "\n",
    "\n",
    "#23\n",
    "col = 'creative_type'\n",
    "# X[col] = X[col].astype('category')\n",
    "\n",
    "#24\n",
    "col = 'creative_width'\n",
    "X[col] = X[col].astype('category')\n",
    "\n",
    "#25\n",
    "col = 'creative_height'\n",
    "X[col] = X[col].astype('category')\n",
    "\n",
    "#26\n",
    "col = 'creative_is_jump'\n",
    "X[col] =  le.fit_transform(X[col])\n",
    "\n",
    "#27\n",
    "col = 'creative_is_download'\n",
    "X[col] =  le.fit_transform(X[col])\n",
    "\n",
    "#28\n",
    "col = 'creative_has_deeplink'\n",
    "X[col] =  le.fit_transform(X[col])\n",
    "\n",
    "#29\n",
    "col = 'advert_name'\n",
    "na_index = X[X[col].isnull()].index\n",
    "X[col] = le.fit_transform(X[col].astype(str))\n",
    "X[col] = X[col].astype('category')\n",
    "X.loc[na_index,col] = np.nan\n",
    "\n",
    "\n",
    "\n",
    "\n",
    "drop_col = []\n",
    "for col in X.columns:\n",
    "    if X[col].nunique() == 1:\n",
    "        drop_col.append(col)\n",
    "        \n",
    "print(drop_col)\n",
    "\n",
    "X.drop(drop_col,axis=1,inplace=True)\n"
   ]
  },
  {
   "cell_type": "markdown",
   "metadata": {},
   "source": [
    "# Time Next"
   ]
  },
  {
   "cell_type": "code",
   "execution_count": 3,
   "metadata": {
    "ExecuteTime": {
     "end_time": "2018-09-15T18:08:19.333046Z",
     "start_time": "2018-09-15T18:08:09.857302Z"
    }
   },
   "outputs": [
    {
     "name": "stdout",
     "output_type": "stream",
     "text": [
      "(1041674, 431)\n"
     ]
    }
   ],
   "source": [
    "saving_path_timeNext = FILE.X_fe_agg_time_next_formater.value.format('0915V1')\n",
    "x_timeNext = pd.read_pickle(saving_path_timeNext)\n",
    "X = X.merge(x_timeNext,how='inner',on='instance_id')\n",
    "print(X.shape)"
   ]
  },
  {
   "cell_type": "markdown",
   "metadata": {},
   "source": [
    "# Count"
   ]
  },
  {
   "cell_type": "code",
   "execution_count": 3,
   "metadata": {
    "ExecuteTime": {
     "end_time": "2018-09-16T03:28:41.730431Z",
     "start_time": "2018-09-16T03:17:45.445930Z"
    }
   },
   "outputs": [
    {
     "name": "stdout",
     "output_type": "stream",
     "text": [
      "load done!\n",
      "(1041674, 633)\n"
     ]
    }
   ],
   "source": [
    "saving_path_count = FILE.X_fe_agg_count_formater.value.format('0915V1')\n",
    "x_count = pd.read_pickle(saving_path_count)\n",
    "print('load done!')\n",
    "X = X.merge(x_count,how='inner',on='instance_id')\n",
    "print(X.shape)"
   ]
  },
  {
   "cell_type": "markdown",
   "metadata": {},
   "source": [
    "# Time Count"
   ]
  },
  {
   "cell_type": "code",
   "execution_count": null,
   "metadata": {},
   "outputs": [],
   "source": [
    "saving_path_timeCount = FILE.X_fe_agg_time_count_formater.value.format('0915V1')\n",
    "x_timeCount = pd.read_pickle(saving_path_timeCount)\n",
    "X = X.merge(x_timeCount,how='inner',on='instance_id')\n",
    "print(X.shape)"
   ]
  },
  {
   "cell_type": "code",
   "execution_count": 4,
   "metadata": {
    "ExecuteTime": {
     "end_time": "2018-09-16T03:28:57.548228Z",
     "start_time": "2018-09-16T03:28:48.429658Z"
    }
   },
   "outputs": [
    {
     "name": "stdout",
     "output_type": "stream",
     "text": [
      "(1001650, 633)\n",
      "(40024, 632)\n"
     ]
    }
   ],
   "source": [
    "train = X[X.click.notnull()]\n",
    "print(train.shape)\n",
    "test = X[X.click.isnull()]\n",
    "test = test.drop('click',axis=1)\n",
    "print(test.shape)\n",
    "\n",
    "train.to_pickle(FILE.train_agg_v2.value)\n",
    "test.to_pickle(FILE.test_agg_v2.value)"
   ]
  },
  {
   "cell_type": "code",
   "execution_count": 7,
   "metadata": {
    "ExecuteTime": {
     "end_time": "2018-09-14T18:43:18.107513Z",
     "start_time": "2018-09-14T18:43:18.105122Z"
    }
   },
   "outputs": [],
   "source": [
    "# train_v1.to_pickle(FILE.train_agg_v1.value)\n",
    "# test_v1.to_pickle(FILE.test_agg_v1.value)"
   ]
  },
  {
   "cell_type": "code",
   "execution_count": 2,
   "metadata": {
    "ExecuteTime": {
     "end_time": "2018-09-14T19:19:24.680158Z",
     "start_time": "2018-09-14T19:18:56.357622Z"
    }
   },
   "outputs": [
    {
     "name": "stdout",
     "output_type": "stream",
     "text": [
      "(1001650, 7048)\n",
      "(40024, 7047)\n"
     ]
    }
   ],
   "source": [
    "# train = pd.read_pickle(FILE.train_agg_v1.value)\n",
    "# print(train.shape)\n",
    "# test = pd.read_pickle(FILE.test_agg_v1.value)\n",
    "# print(test.shape)"
   ]
  },
  {
   "cell_type": "code",
   "execution_count": 2,
   "metadata": {
    "ExecuteTime": {
     "end_time": "2018-09-14T19:28:18.556071Z",
     "start_time": "2018-09-14T19:27:07.178249Z"
    }
   },
   "outputs": [
    {
     "name": "stdout",
     "output_type": "stream",
     "text": [
      "(1001650, 7049)\n",
      "(40024, 7048)\n"
     ]
    }
   ],
   "source": [
    "train = pd.read_pickle(FILE.train_agg_v1.value)\n",
    "print(train.shape)\n",
    "test = pd.read_pickle(FILE.test_agg_v1.value)\n",
    "print(test.shape)\n",
    "\n",
    "train['inner_slot_prefix'] = train['inner_slot_id'].apply(lambda x: x.split('_')[0]).astype('category')\n",
    "test['inner_slot_prefix'] = test['inner_slot_id'].apply(lambda x: x.split('_')[0]).astype('category')\n",
    "train.to_pickle(FILE.train_agg_v1.value)\n",
    "test.to_pickle(FILE.test_agg_v1.value)"
   ]
  },
  {
   "cell_type": "code",
   "execution_count": 5,
   "metadata": {
    "ExecuteTime": {
     "end_time": "2018-09-14T19:22:15.036438Z",
     "start_time": "2018-09-14T19:21:26.976139Z"
    }
   },
   "outputs": [],
   "source": [
    "# train['inner_slot_prefix'] = train['inner_slot_id'].apply(lambda x: x.split('_')[0])\n",
    "# test['inner_slot_prefix'] = test['inner_slot_id'].apply(lambda x: x.split('_')[0])\n",
    "# train.to_pickle(FILE.train_agg_v1.value)\n",
    "# test.to_pickle(FILE.test_agg_v1.value)"
   ]
  },
  {
   "cell_type": "code",
   "execution_count": null,
   "metadata": {},
   "outputs": [],
   "source": []
  }
 ],
 "metadata": {
  "kernelspec": {
   "display_name": "Python 3",
   "language": "python",
   "name": "python3"
  },
  "language_info": {
   "codemirror_mode": {
    "name": "ipython",
    "version": 3
   },
   "file_extension": ".py",
   "mimetype": "text/x-python",
   "name": "python",
   "nbconvert_exporter": "python",
   "pygments_lexer": "ipython3",
   "version": "3.6.5"
  },
  "varInspector": {
   "cols": {
    "lenName": 16,
    "lenType": 16,
    "lenVar": 40
   },
   "kernels_config": {
    "python": {
     "delete_cmd_postfix": "",
     "delete_cmd_prefix": "del ",
     "library": "var_list.py",
     "varRefreshCmd": "print(var_dic_list())"
    },
    "r": {
     "delete_cmd_postfix": ") ",
     "delete_cmd_prefix": "rm(",
     "library": "var_list.r",
     "varRefreshCmd": "cat(var_dic_list()) "
    }
   },
   "types_to_exclude": [
    "module",
    "function",
    "builtin_function_or_method",
    "instance",
    "_Feature"
   ],
   "window_display": false
  }
 },
 "nbformat": 4,
 "nbformat_minor": 2
}
