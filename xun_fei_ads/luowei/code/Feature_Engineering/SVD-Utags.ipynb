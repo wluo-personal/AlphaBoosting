{
 "cells": [
  {
   "cell_type": "code",
   "execution_count": 1,
   "metadata": {
    "ExecuteTime": {
     "end_time": "2018-10-16T00:41:45.056047Z",
     "start_time": "2018-10-16T00:41:44.529375Z"
    }
   },
   "outputs": [],
   "source": [
    "__file__=''\n",
    "import os,sys\n",
    "import pandas as pd\n",
    "sys.path.append(os.path.join(os.path.dirname(__file__),'../LIB/'))\n",
    "sys.path.append(os.path.join(os.path.dirname(__file__),'../../../../automl/automl_libs/'))\n",
    "from env import FILE\n",
    "from sklearn.feature_extraction import FeatureHasher\n",
    "from sklearn.preprocessing import LabelEncoder\n",
    "le = LabelEncoder()\n",
    "from tqdm import tqdm\n",
    "from scipy import sparse \n",
    "import numpy as np\n",
    "from sklearn.model_selection import StratifiedKFold\n",
    "from sklearn.feature_selection import chi2, SelectPercentile,SelectKBest\n",
    "import gc\n",
    "from sklearn.metrics import log_loss\n",
    "from sklearn.feature_extraction.text import CountVectorizer"
   ]
  },
  {
   "cell_type": "code",
   "execution_count": 2,
   "metadata": {
    "ExecuteTime": {
     "end_time": "2018-10-16T00:41:56.600202Z",
     "start_time": "2018-10-16T00:41:49.652033Z"
    }
   },
   "outputs": [],
   "source": [
    "train = pd.read_pickle(FILE.train_final.value)\n",
    "# train_shiyi = pd.read_pickle('../../data/features/xgb/train_noclean_bytime.pkl')[['instance_id']].copy()\n",
    "# test_shiyi = pd.read_csv('../../data/features/xgb/predict_f620_b70_col17k.csv')[['instance_id']].copy()\n",
    "test = pd.read_pickle(FILE.test_final.value)\n",
    "\n",
    "# train = train_shiyi.merge(train,how='inner',on='instance_id').reset_index(drop=True)\n",
    "# test = test_shiyi.merge(test,how='inner',on='instance_id').reset_index(drop=True)\n",
    "data = pd.concat([train, test],sort=False)"
   ]
  },
  {
   "cell_type": "code",
   "execution_count": 3,
   "metadata": {
    "ExecuteTime": {
     "end_time": "2018-10-16T00:41:59.895575Z",
     "start_time": "2018-10-16T00:41:59.893084Z"
    }
   },
   "outputs": [],
   "source": [
    "ad_feats = [\"adid\", \"orderid\",\"advert_industry_inner\",\"advert_id\",\"creative_id\",\"campaign_id\"]\n",
    "user_feats = [\"model\",\"city\",\"osv\",\"carrier\",\"nnt\"]\n",
    "app_feats = [\"app_cate_id\", \"f_channel\", \"app_id\", \"inner_slot_id\"]"
   ]
  },
  {
   "cell_type": "code",
   "execution_count": 4,
   "metadata": {
    "ExecuteTime": {
     "end_time": "2018-10-16T00:43:37.876860Z",
     "start_time": "2018-10-16T00:42:04.934915Z"
    }
   },
   "outputs": [
    {
     "name": "stdout",
     "output_type": "stream",
     "text": [
      "(3072915, 1417)\n"
     ]
    }
   ],
   "source": [
    "cv = CountVectorizer(min_df=1)\n",
    "cv.fit(data['user_tags'].astype(str))\n",
    "one_hot_tag = cv.transform(data['user_tags'].astype(str))\n",
    "print(one_hot_tag.shape)"
   ]
  },
  {
   "cell_type": "code",
   "execution_count": 89,
   "metadata": {
    "ExecuteTime": {
     "end_time": "2018-10-16T05:28:05.498972Z",
     "start_time": "2018-10-16T05:27:40.078460Z"
    }
   },
   "outputs": [
    {
     "name": "stdout",
     "output_type": "stream",
     "text": [
      "20331\n"
     ]
    }
   ],
   "source": [
    "col2_name = 'model'\n",
    "alreadyEncode = False\n",
    "print(data[col2_name].nunique())\n",
    "if not alreadyEncode:\n",
    "    le = LabelEncoder()\n",
    "    data[col2_name] = le.fit_transform(data[col2_name].astype(str))\n",
    "    alreadyEncode=True\n",
    "\n"
   ]
  },
  {
   "cell_type": "code",
   "execution_count": 90,
   "metadata": {
    "ExecuteTime": {
     "end_time": "2018-10-16T05:33:34.341749Z",
     "start_time": "2018-10-16T05:29:31.865777Z"
    }
   },
   "outputs": [
    {
     "name": "stderr",
     "output_type": "stream",
     "text": [
      "100%|██████████| 3072915/3072915 [03:57<00:00, 12916.44it/s]\n"
     ]
    }
   ],
   "source": [
    "row_index = []\n",
    "col_index = []\n",
    "col2_values = data[col2_name].values\n",
    "for i in tqdm(range(len(data))):\n",
    "\n",
    "    utags = list(one_hot_tag[i,:].indices)\n",
    "    col_values = [col2_values[i] for j in range(len(utags))]\n",
    "    row_index.extend(utags)\n",
    "    col_index.extend(col_values)\n",
    "    "
   ]
  },
  {
   "cell_type": "code",
   "execution_count": 91,
   "metadata": {
    "ExecuteTime": {
     "end_time": "2018-10-16T05:34:54.487854Z",
     "start_time": "2018-10-16T05:34:13.247291Z"
    }
   },
   "outputs": [
    {
     "name": "stderr",
     "output_type": "stream",
     "text": [
      "100%|██████████| 3072915/3072915 [00:40<00:00, 75073.81it/s]\n"
     ]
    }
   ],
   "source": [
    "row_index2 = []\n",
    "col_index2 = []\n",
    "col2_values = data[col2_name].values\n",
    "target_values = data.click.values\n",
    "for i in tqdm(range(len(data))):\n",
    "    if target_values[i] != 1:\n",
    "        continue\n",
    "    utags = list(one_hot_tag[i,:].indices)\n",
    "    col_values = [col2_values[i] for j in range(len(utags))]\n",
    "    row_index2.extend(utags)\n",
    "    col_index2.extend(col_values)\n",
    "    "
   ]
  },
  {
   "cell_type": "code",
   "execution_count": 92,
   "metadata": {
    "ExecuteTime": {
     "end_time": "2018-10-16T05:35:29.106328Z",
     "start_time": "2018-10-16T05:35:07.946372Z"
    }
   },
   "outputs": [],
   "source": [
    "assert len(row_index) == len(col_index)\n",
    "ones = np.ones(len(row_index))\n",
    "rating = sparse.coo_matrix((ones, (row_index, col_index)))\n",
    "\n",
    "# rating = (rating > 0) * 1.0"
   ]
  },
  {
   "cell_type": "code",
   "execution_count": 93,
   "metadata": {
    "ExecuteTime": {
     "end_time": "2018-10-16T05:36:05.053575Z",
     "start_time": "2018-10-16T05:35:57.899186Z"
    }
   },
   "outputs": [
    {
     "name": "stdout",
     "output_type": "stream",
     "text": [
      "(1417, 20332)\n",
      "0.09121397087806075\n"
     ]
    }
   ],
   "source": [
    "rating = rating.tocsr()\n",
    "print(rating.shape)\n",
    "print(len(rating.indices)/rating.shape[0]/rating.shape[1])"
   ]
  },
  {
   "cell_type": "code",
   "execution_count": 94,
   "metadata": {
    "ExecuteTime": {
     "end_time": "2018-10-16T05:37:13.826405Z",
     "start_time": "2018-10-16T05:36:14.126454Z"
    }
   },
   "outputs": [
    {
     "name": "stderr",
     "output_type": "stream",
     "text": [
      "  0%|          | 4/1417 [00:00<00:38, 36.81it/s]"
     ]
    },
    {
     "name": "stdout",
     "output_type": "stream",
     "text": [
      "(1417, 20326)\n",
      "0.03127191909489992\n",
      "(1417, 20332)\n"
     ]
    },
    {
     "name": "stderr",
     "output_type": "stream",
     "text": [
      "100%|██████████| 1417/1417 [00:54<00:00, 25.79it/s]\n"
     ]
    },
    {
     "name": "stdout",
     "output_type": "stream",
     "text": [
      "(1417, 20326)\n"
     ]
    }
   ],
   "source": [
    "assert len(row_index) == len(col_index)\n",
    "ones = np.ones(len(row_index2))\n",
    "rating2 = sparse.coo_matrix((ones, (row_index2, col_index2)))\n",
    "\n",
    "rating2 = rating2.tocsr()\n",
    "print(rating2.shape)\n",
    "print(len(rating2.indices)/rating2.shape[0]/rating2.shape[1])\n",
    "\n",
    "s_append=sparse.csr_matrix((rating2.shape[0],rating.shape[1]-rating2.shape[1]))\n",
    "rating2_append = sparse.hstack([rating2,s_append],format='csr')\n",
    "print(rating2_append.shape)\n",
    "\n",
    "row_list3 = []\n",
    "col_list3 = []\n",
    "value_list3 = []\n",
    "for row in tqdm(range(rating2_append.shape[0])):\n",
    "    s = rating2_append[row,:]\n",
    "    for col in s.indices:\n",
    "        row_list3.append(row)\n",
    "        col_list3.append(col)\n",
    "        value_list3.append(rating2_append[row,col]/rating[row,col])\n",
    "        \n",
    "rating_new = sparse.coo_matrix((value_list3,(row_list3,col_list3)))\n",
    "print(rating_new.shape)"
   ]
  },
  {
   "cell_type": "code",
   "execution_count": 95,
   "metadata": {
    "ExecuteTime": {
     "end_time": "2018-10-16T05:37:36.320484Z",
     "start_time": "2018-10-16T05:37:35.607405Z"
    }
   },
   "outputs": [
    {
     "name": "stdout",
     "output_type": "stream",
     "text": [
      "(1417, 36)\n",
      "(36,)\n",
      "(36, 20326)\n",
      "[217.9231563   83.2129715   65.7218494   49.1339183   45.77918365\n",
      "  40.94592637  39.38969226  38.07682772  35.65369284  33.95848113\n",
      "  32.63059251  31.30363404  30.93403697  29.85485371  28.4011992\n",
      "  27.85259242  27.59667653  27.14507364  26.83881763  26.23950063\n",
      "  25.652358    25.44304079  25.35149403  24.93550809  24.63835609\n",
      "  24.4848962   23.75729558  23.5019843   23.31960204  22.83342968\n",
      "  22.29073145  22.21789375  21.95010513  21.61136206  21.35971412\n",
      "  21.17839387]\n"
     ]
    }
   ],
   "source": [
    "from scipy import sparse\n",
    "from scipy.sparse.linalg import svds\n",
    "n_component=36\n",
    "# [u, s, vt] = svds(rating, k=n_component)\n",
    "[u, s, vt] = svds(rating_new, k=n_component)\n",
    "print(u.shape)\n",
    "print(s.shape)\n",
    "print(vt.shape)\n",
    "print(s[::-1])\n",
    "col1_col2 = np.diag(s[::-1])"
   ]
  },
  {
   "cell_type": "code",
   "execution_count": 96,
   "metadata": {
    "ExecuteTime": {
     "end_time": "2018-10-16T05:37:44.961933Z",
     "start_time": "2018-10-16T05:37:41.956592Z"
    }
   },
   "outputs": [],
   "source": [
    "u_sort = u[:,::-1]\n",
    "tags = one_hot_tag.dot(u_sort)"
   ]
  },
  {
   "cell_type": "code",
   "execution_count": 97,
   "metadata": {
    "ExecuteTime": {
     "end_time": "2018-10-16T05:37:46.480554Z",
     "start_time": "2018-10-16T05:37:46.475240Z"
    }
   },
   "outputs": [],
   "source": [
    "# u_sort = u[:,::-1]\n",
    "# u_sort = u_sort[:,0]\n",
    "# tags = one_hot_tag.multiply(u_sort)\n",
    "# print(tags.shape)\n",
    "\n",
    "# from scipy.sparse import csr_matrix\n",
    "# def save_csr(matrix,file_prefix='csr'):\n",
    "#     data_file = file_prefix + '_data.npy'\n",
    "#     indices_file = file_prefix + '_indices.npy'\n",
    "#     indptr_file = file_prefix + '_indptr.npy'\n",
    "#     np.save(data_file,matrix.data)\n",
    "#     print('data save')\n",
    "#     np.save(indices_file,matrix.indices)\n",
    "#     print('indices save')\n",
    "#     np.save(indptr_file,matrix.indptr)\n",
    "#     print('indptr save')\n",
    "#     print('save done!')\n",
    "# tags = csr_matrix(tags)\n",
    "# tags_train = tags[:len(train),:]\n",
    "# tags_test = tags[len(train):,:]\n",
    "# save_csr(tags,file_prefix='../../data/features/user_tags/tag_adid')\n",
    "# # save_csr(tags_train,file_prefix='../../data/features/user_tags/train_tag_adid')\n",
    "# # save_csr(tags_test,file_prefix='../../data/features/user_tags/test_tag_adid')\n"
   ]
  },
  {
   "cell_type": "code",
   "execution_count": 98,
   "metadata": {
    "ExecuteTime": {
     "end_time": "2018-10-16T05:37:54.446845Z",
     "start_time": "2018-10-16T05:37:47.916048Z"
    }
   },
   "outputs": [],
   "source": [
    "col1_topics = pd.DataFrame(tags)\n",
    "col1_name = 'utagsIndividual'\n",
    "col1_topics.columns = ['{}_{}_svd_{}'.format(col1_name, col2_name, i) for i in range(n_component)]\n",
    "col1_embed = col1_topics.values\n",
    "\n",
    "df_save = data.copy()\n",
    "for col in col1_topics:\n",
    "    df_save[col] = col1_topics[col].values"
   ]
  },
  {
   "cell_type": "code",
   "execution_count": 99,
   "metadata": {
    "ExecuteTime": {
     "end_time": "2018-10-16T05:37:56.580953Z",
     "start_time": "2018-10-16T05:37:56.566078Z"
    }
   },
   "outputs": [],
   "source": [
    "col2_topics = pd.DataFrame(vt.transpose()[:, ::-1])\n",
    "col2_topics.columns = ['{}_{}_svd_{}'.format(col2_name, col1_name, i) for i in range(n_component)]\n",
    "col2_embed = col2_topics.values\n",
    "col2_cnt = len(col2_topics)\n",
    "col2_topics[col2_name] = range(col2_cnt)"
   ]
  },
  {
   "cell_type": "code",
   "execution_count": 100,
   "metadata": {
    "ExecuteTime": {
     "end_time": "2018-10-16T05:38:04.805957Z",
     "start_time": "2018-10-16T05:37:59.125879Z"
    }
   },
   "outputs": [],
   "source": [
    "df_save = df_save.merge(col2_topics, on=col2_name, how='left')"
   ]
  },
  {
   "cell_type": "code",
   "execution_count": 101,
   "metadata": {
    "ExecuteTime": {
     "end_time": "2018-10-16T05:38:06.695142Z",
     "start_time": "2018-10-16T05:38:06.690115Z"
    }
   },
   "outputs": [],
   "source": [
    "save_col = ['instance_id']\n",
    "for col in df_save:\n",
    "    if 'svd' in col:\n",
    "        save_col.append(col)"
   ]
  },
  {
   "cell_type": "code",
   "execution_count": 102,
   "metadata": {
    "ExecuteTime": {
     "end_time": "2018-10-16T05:38:26.050211Z",
     "start_time": "2018-10-16T05:38:18.484851Z"
    }
   },
   "outputs": [],
   "source": [
    "dff_save = df_save[save_col].copy()\n",
    "dff_save.to_pickle('../../data/features/agg/svd_utag_model_mean.pkl')"
   ]
  },
  {
   "cell_type": "code",
   "execution_count": 53,
   "metadata": {
    "ExecuteTime": {
     "end_time": "2018-10-15T19:10:23.333077Z",
     "start_time": "2018-10-15T19:10:23.327362Z"
    }
   },
   "outputs": [
    {
     "data": {
      "text/plain": [
       "(3072915, 33)"
      ]
     },
     "execution_count": 53,
     "metadata": {},
     "output_type": "execute_result"
    }
   ],
   "source": [
    "dff_save.shape"
   ]
  },
  {
   "cell_type": "code",
   "execution_count": null,
   "metadata": {},
   "outputs": [],
   "source": []
  },
  {
   "cell_type": "code",
   "execution_count": null,
   "metadata": {},
   "outputs": [],
   "source": []
  },
  {
   "cell_type": "code",
   "execution_count": null,
   "metadata": {},
   "outputs": [],
   "source": []
  },
  {
   "cell_type": "code",
   "execution_count": null,
   "metadata": {},
   "outputs": [],
   "source": []
  },
  {
   "cell_type": "code",
   "execution_count": null,
   "metadata": {},
   "outputs": [],
   "source": []
  },
  {
   "cell_type": "code",
   "execution_count": null,
   "metadata": {},
   "outputs": [],
   "source": []
  },
  {
   "cell_type": "code",
   "execution_count": 47,
   "metadata": {
    "ExecuteTime": {
     "end_time": "2018-10-15T15:39:10.793082Z",
     "start_time": "2018-10-15T15:39:10.756572Z"
    }
   },
   "outputs": [],
   "source": [
    "from sklearn.preprocessing import LabelEncoder\n",
    "le = LabelEncoder()"
   ]
  },
  {
   "cell_type": "code",
   "execution_count": 48,
   "metadata": {
    "ExecuteTime": {
     "end_time": "2018-10-15T15:39:20.380938Z",
     "start_time": "2018-10-15T15:39:14.569569Z"
    }
   },
   "outputs": [],
   "source": [
    "data['user_tags_encoded'] = le.fit_transform(data['user_tags'].astype(str))"
   ]
  },
  {
   "cell_type": "code",
   "execution_count": 49,
   "metadata": {
    "ExecuteTime": {
     "end_time": "2018-10-15T15:39:24.691096Z",
     "start_time": "2018-10-15T15:39:24.686528Z"
    }
   },
   "outputs": [],
   "source": [
    "def compute_the_id(row, joinby='-'):\n",
    "    the_str = ''\n",
    "    for val in row.values:\n",
    "        the_str += joinby+str(val)\n",
    "#         if val == 95764:  95764 => user tags is NAN\n",
    "#             return np.nan \n",
    "    return the_str[1:]"
   ]
  },
  {
   "cell_type": "code",
   "execution_count": 50,
   "metadata": {
    "ExecuteTime": {
     "end_time": "2018-10-15T15:39:48.828574Z",
     "start_time": "2018-10-15T15:39:29.267104Z"
    }
   },
   "outputs": [],
   "source": [
    "user_id_cols = ['city','osv','make','model','user_tags_encoded']\n",
    "data['user_id'] = data[user_id_cols].apply(lambda row: compute_the_id(row) , axis=1)"
   ]
  },
  {
   "cell_type": "markdown",
   "metadata": {},
   "source": [
    "# Codes"
   ]
  },
  {
   "cell_type": "code",
   "execution_count": 51,
   "metadata": {
    "ExecuteTime": {
     "end_time": "2018-10-15T15:39:52.878823Z",
     "start_time": "2018-10-15T15:39:52.865641Z"
    }
   },
   "outputs": [],
   "source": [
    "from scipy import sparse\n",
    "from scipy.sparse.linalg import svds\n",
    "\n",
    "def svd_two_cols(df, col1_name, col2_name, n_component):\n",
    "    data = np.ones(len(df))\n",
    "    le = LabelEncoder()\n",
    "    df = df.copy()\n",
    "    df[col1_name] = le.fit_transform(df[col1_name].astype(str))\n",
    "    df[col2_name] = le.fit_transform(df[col2_name].astype(str))\n",
    "    col1 = df[col1_name].values\n",
    "    col2 = df[col2_name].values\n",
    "\n",
    "    col1_cnt = max(col1)+1\n",
    "    col2_cnt = max(col2)+1\n",
    "    print(col1_cnt, col2_cnt)\n",
    "\n",
    "    rating = sparse.coo_matrix((data, (col1, col2)))\n",
    "    rating = (rating > 0) * 1.0\n",
    "\n",
    "    [u, s, vt] = svds(rating, k=n_component)\n",
    "    print(u.shape)\n",
    "    print(s.shape)\n",
    "    print(vt.shape)\n",
    "    print(s[::-1])\n",
    "    col1_col2 = np.diag(s[::-1])\n",
    "\n",
    "    col1_topics = pd.DataFrame(u[:, ::-1])\n",
    "    col1_topics.columns = ['{}_{}_svd_{}'.format(col1_name, col2_name, i) for i in range(n_component)]\n",
    "    col1_embed = col1_topics.values\n",
    "    col1_topics[col1_name] = range(col1_cnt)\n",
    "\n",
    "    df = df.merge(col1_topics, on=col1_name, how='left')\n",
    "\n",
    "    col2_topics = pd.DataFrame(vt.transpose()[:, ::-1])\n",
    "    col2_topics.columns = ['{}_{}_svd_{}'.format(col2_name, col1_name, i) for i in range(n_component)]\n",
    "    col2_embed = col2_topics.values\n",
    "    col2_topics[col2_name] = range(col2_cnt)\n",
    "\n",
    "    df = df.merge(col2_topics, on=col2_name, how='left')\n",
    "\n",
    "    return df, col1_col2, col1_embed, col2_embed"
   ]
  },
  {
   "cell_type": "code",
   "execution_count": 52,
   "metadata": {
    "ExecuteTime": {
     "end_time": "2018-10-15T15:41:33.459896Z",
     "start_time": "2018-10-15T15:40:21.712156Z"
    }
   },
   "outputs": [
    {
     "name": "stdout",
     "output_type": "stream",
     "text": [
      "2327425 2221\n",
      "(2327425, 16)\n",
      "(16,)\n",
      "(16, 2221)\n",
      "[350.12076538 345.73541756 340.3279445  301.66167836 297.86039802\n",
      " 289.18351978 272.05388218 261.50472411 252.33731351 225.78723232\n",
      " 220.6932322  216.59175075 215.55702342 198.29491748 192.99452896\n",
      " 187.70081697]\n",
      "20332 2221\n",
      "(20332, 16)\n",
      "(16,)\n",
      "(16, 2221)\n",
      "[333.47204852 147.80008126 105.99190644  94.08657677  87.33754918\n",
      "  81.82397571  74.31152966  66.63746345  54.68527316  53.30165307\n",
      "  48.79600707  48.35081725  43.01864511  41.91258192  39.3089441\n",
      "  38.75585021]\n",
      "1345254 2221\n",
      "(1345254, 16)\n",
      "(16,)\n",
      "(16, 2221)\n",
      "[286.05661523 249.19831531 238.67673108 234.67312317 224.08247975\n",
      " 213.68687174 203.34021612 201.84383008 193.92289273 179.12998691\n",
      " 172.16582183 167.21125061 158.79903506 151.83018445 150.17206646\n",
      " 142.12058069]\n"
     ]
    }
   ],
   "source": [
    "df, user_ad_for_dot, user_ad_user_embed, user_ad_ad_embed = svd_two_cols(data, 'user_id', 'adid', 16)\n",
    "df, model_ad_for_dot, model_ad_model_embed, model_ad_ad_embed = svd_two_cols(df, 'model', 'adid', 16)\n",
    "df, tag_ad_for_dot, tag_ad_tag_embed, tag_ad_ad_embed = svd_two_cols(df, 'user_tags_encoded', 'adid', 16)"
   ]
  },
  {
   "cell_type": "code",
   "execution_count": 54,
   "metadata": {
    "ExecuteTime": {
     "end_time": "2018-10-15T15:42:37.568006Z",
     "start_time": "2018-10-15T15:42:35.919317Z"
    }
   },
   "outputs": [],
   "source": [
    "df_save = df[['instance_id']].copy()\n",
    "for col in df:\n",
    "    if 'svd' in col:\n",
    "        df_save[col] = df[col].values"
   ]
  },
  {
   "cell_type": "code",
   "execution_count": 55,
   "metadata": {
    "ExecuteTime": {
     "end_time": "2018-10-15T15:43:21.455424Z",
     "start_time": "2018-10-15T15:43:17.832232Z"
    }
   },
   "outputs": [],
   "source": [
    "df_save.to_pickle('../../data/features/agg/svd_raw.pkl')"
   ]
  },
  {
   "cell_type": "code",
   "execution_count": 32,
   "metadata": {
    "ExecuteTime": {
     "end_time": "2018-10-15T13:45:38.664415Z",
     "start_time": "2018-10-15T13:45:22.162007Z"
    }
   },
   "outputs": [],
   "source": [
    "df = data.copy()\n",
    "col1_name = 'user_id'\n",
    "col2_name = 'adid'\n",
    "data = np.ones(len(df))\n",
    "le = LabelEncoder()\n",
    "df = df.copy()\n",
    "df[col1_name] = le.fit_transform(df[col1_name].astype(str))\n",
    "df[col2_name] = le.fit_transform(df[col2_name].astype(str))\n",
    "col1 = df[col1_name].values\n",
    "col2 = df[col2_name].values\n"
   ]
  },
  {
   "cell_type": "code",
   "execution_count": 36,
   "metadata": {
    "ExecuteTime": {
     "end_time": "2018-10-15T13:51:46.142748Z",
     "start_time": "2018-10-15T13:51:25.542100Z"
    }
   },
   "outputs": [
    {
     "name": "stdout",
     "output_type": "stream",
     "text": [
      "2327425 2221\n"
     ]
    },
    {
     "name": "stderr",
     "output_type": "stream",
     "text": [
      "3072915it [00:18, 166142.01it/s]\n"
     ]
    }
   ],
   "source": [
    "col1_cnt = max(col1)+1\n",
    "col2_cnt = max(col2)+1\n",
    "print(col1_cnt, col2_cnt)\n",
    "rating = sparse.lil_matrix((col1_cnt, col2_cnt))\n",
    "for v1,v2 in tqdm(zip(col1,col2)):\n",
    "    rating[v1,v2] += 1"
   ]
  },
  {
   "cell_type": "code",
   "execution_count": 38,
   "metadata": {
    "ExecuteTime": {
     "end_time": "2018-10-15T13:53:54.579342Z",
     "start_time": "2018-10-15T13:53:49.972627Z"
    }
   },
   "outputs": [
    {
     "name": "stdout",
     "output_type": "stream",
     "text": [
      "(2327425, 32)\n",
      "(32,)\n",
      "(32, 2221)\n"
     ]
    }
   ],
   "source": [
    "rating = sparse.coo_matrix(rating)\n",
    "n_component = 32\n",
    "[u, s, vt] = svds(rating, k=n_component)\n",
    "print(u.shape)\n",
    "print(s.shape)\n",
    "print(vt.shape)"
   ]
  },
  {
   "cell_type": "code",
   "execution_count": null,
   "metadata": {},
   "outputs": [],
   "source": []
  },
  {
   "cell_type": "code",
   "execution_count": null,
   "metadata": {},
   "outputs": [],
   "source": []
  },
  {
   "cell_type": "code",
   "execution_count": null,
   "metadata": {},
   "outputs": [],
   "source": []
  },
  {
   "cell_type": "code",
   "execution_count": null,
   "metadata": {},
   "outputs": [],
   "source": []
  },
  {
   "cell_type": "code",
   "execution_count": null,
   "metadata": {},
   "outputs": [],
   "source": []
  },
  {
   "cell_type": "code",
   "execution_count": null,
   "metadata": {},
   "outputs": [],
   "source": []
  },
  {
   "cell_type": "code",
   "execution_count": null,
   "metadata": {},
   "outputs": [],
   "source": []
  },
  {
   "cell_type": "code",
   "execution_count": null,
   "metadata": {},
   "outputs": [],
   "source": []
  },
  {
   "cell_type": "code",
   "execution_count": null,
   "metadata": {},
   "outputs": [],
   "source": []
  },
  {
   "cell_type": "code",
   "execution_count": null,
   "metadata": {},
   "outputs": [],
   "source": []
  },
  {
   "cell_type": "code",
   "execution_count": null,
   "metadata": {},
   "outputs": [],
   "source": []
  },
  {
   "cell_type": "code",
   "execution_count": 8,
   "metadata": {
    "ExecuteTime": {
     "end_time": "2018-10-15T02:09:26.334575Z",
     "start_time": "2018-10-15T02:09:26.222926Z"
    }
   },
   "outputs": [
    {
     "ename": "NameError",
     "evalue": "name 'df' is not defined",
     "output_type": "error",
     "traceback": [
      "\u001b[0;31m---------------------------------------------------------------------------\u001b[0m",
      "\u001b[0;31mNameError\u001b[0m                                 Traceback (most recent call last)",
      "\u001b[0;32m?\u001b[0m in \u001b[0;36m<module>\u001b[0;34m()\u001b[0m\n\u001b[0;32m----> 1\u001b[0;31m \u001b[0mdf\u001b[0m\u001b[0;34m,\u001b[0m \u001b[0muser_ad_for_dot\u001b[0m\u001b[0;34m,\u001b[0m \u001b[0muser_ad_user_embed\u001b[0m\u001b[0;34m,\u001b[0m \u001b[0muser_ad_ad_embed\u001b[0m \u001b[0;34m=\u001b[0m \u001b[0msvd_two_cols\u001b[0m\u001b[0;34m(\u001b[0m\u001b[0mdf\u001b[0m\u001b[0;34m,\u001b[0m \u001b[0;34m'user_id'\u001b[0m\u001b[0;34m,\u001b[0m \u001b[0;34m'adid'\u001b[0m\u001b[0;34m,\u001b[0m \u001b[0;36m32\u001b[0m\u001b[0;34m)\u001b[0m\u001b[0;34m\u001b[0m\u001b[0m\n\u001b[0m\u001b[1;32m      2\u001b[0m \u001b[0mdf\u001b[0m\u001b[0;34m,\u001b[0m \u001b[0mmodel_ad_for_dot\u001b[0m\u001b[0;34m,\u001b[0m \u001b[0mmodel_ad_model_embed\u001b[0m\u001b[0;34m,\u001b[0m \u001b[0mmodel_ad_ad_embed\u001b[0m \u001b[0;34m=\u001b[0m \u001b[0msvd_two_cols\u001b[0m\u001b[0;34m(\u001b[0m\u001b[0mdf\u001b[0m\u001b[0;34m,\u001b[0m \u001b[0;34m'model'\u001b[0m\u001b[0;34m,\u001b[0m \u001b[0;34m'adid'\u001b[0m\u001b[0;34m,\u001b[0m \u001b[0;36m32\u001b[0m\u001b[0;34m)\u001b[0m\u001b[0;34m\u001b[0m\u001b[0m\n\u001b[1;32m      3\u001b[0m \u001b[0mdf\u001b[0m\u001b[0;34m,\u001b[0m \u001b[0mtag_ad_for_dot\u001b[0m\u001b[0;34m,\u001b[0m \u001b[0mtag_ad_tag_embed\u001b[0m\u001b[0;34m,\u001b[0m \u001b[0mtag_ad_ad_embed\u001b[0m \u001b[0;34m=\u001b[0m \u001b[0msvd_two_cols\u001b[0m\u001b[0;34m(\u001b[0m\u001b[0mdf\u001b[0m\u001b[0;34m,\u001b[0m \u001b[0;34m'user_tags_sorted'\u001b[0m\u001b[0;34m,\u001b[0m \u001b[0;34m'adid'\u001b[0m\u001b[0;34m,\u001b[0m \u001b[0;36m32\u001b[0m\u001b[0;34m)\u001b[0m\u001b[0;34m\u001b[0m\u001b[0m\n\u001b[1;32m      4\u001b[0m \u001b[0mprint\u001b[0m\u001b[0;34m(\u001b[0m\u001b[0mdf\u001b[0m\u001b[0;34m.\u001b[0m\u001b[0mshape\u001b[0m\u001b[0;34m)\u001b[0m\u001b[0;34m\u001b[0m\u001b[0m\n",
      "\u001b[0;31mNameError\u001b[0m: name 'df' is not defined"
     ]
    }
   ],
   "source": [
    "df, user_ad_for_dot, user_ad_user_embed, user_ad_ad_embed = svd_two_cols(df, 'user_id', 'adid', 32)\n",
    "df, model_ad_for_dot, model_ad_model_embed, model_ad_ad_embed = svd_two_cols(df, 'model', 'adid', 32)\n",
    "df, tag_ad_for_dot, tag_ad_tag_embed, tag_ad_ad_embed = svd_two_cols(df, 'user_tags_sorted', 'adid', 32)\n",
    "print(df.shape)"
   ]
  },
  {
   "cell_type": "code",
   "execution_count": null,
   "metadata": {},
   "outputs": [],
   "source": []
  }
 ],
 "metadata": {
  "kernelspec": {
   "display_name": "Python 3.5 (tf_gpu)",
   "language": "python",
   "name": "tf_gpu"
  },
  "language_info": {
   "codemirror_mode": {
    "name": "ipython",
    "version": 3
   },
   "file_extension": ".py",
   "mimetype": "text/x-python",
   "name": "python",
   "nbconvert_exporter": "python",
   "pygments_lexer": "ipython3",
   "version": "3.5.5"
  },
  "varInspector": {
   "cols": {
    "lenName": 16,
    "lenType": 16,
    "lenVar": 40
   },
   "kernels_config": {
    "python": {
     "delete_cmd_postfix": "",
     "delete_cmd_prefix": "del ",
     "library": "var_list.py",
     "varRefreshCmd": "print(var_dic_list())"
    },
    "r": {
     "delete_cmd_postfix": ") ",
     "delete_cmd_prefix": "rm(",
     "library": "var_list.r",
     "varRefreshCmd": "cat(var_dic_list()) "
    }
   },
   "types_to_exclude": [
    "module",
    "function",
    "builtin_function_or_method",
    "instance",
    "_Feature"
   ],
   "window_display": false
  }
 },
 "nbformat": 4,
 "nbformat_minor": 2
}
