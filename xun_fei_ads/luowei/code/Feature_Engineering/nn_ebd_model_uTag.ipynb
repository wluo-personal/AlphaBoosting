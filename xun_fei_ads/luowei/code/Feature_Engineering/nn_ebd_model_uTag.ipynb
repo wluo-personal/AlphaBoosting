{
 "cells": [
  {
   "cell_type": "code",
   "execution_count": 1,
   "metadata": {
    "ExecuteTime": {
     "end_time": "2018-10-05T18:32:15.570332Z",
     "start_time": "2018-10-05T18:32:14.590196Z"
    }
   },
   "outputs": [
    {
     "name": "stderr",
     "output_type": "stream",
     "text": [
      "/home/kai/anaconda3/envs/tf_gpu/lib/python3.5/site-packages/h5py/__init__.py:36: FutureWarning: Conversion of the second argument of issubdtype from `float` to `np.floating` is deprecated. In future, it will be treated as `np.float64 == np.dtype(float).type`.\n",
      "  from ._conv import register_converters as _register_converters\n",
      "Using TensorFlow backend.\n"
     ]
    }
   ],
   "source": [
    "__file__=''\n",
    "import os,sys\n",
    "import pandas as pd\n",
    "sys.path.append(os.path.join(os.path.dirname(__file__),'../LIB/'))\n",
    "sys.path.append(os.path.join(os.path.dirname(__file__),'../../../../automl/automl_libs/'))\n",
    "from env import FILE\n",
    "import utils\n",
    "from itertools import combinations\n",
    "from feature_engineering import *\n",
    "from sklearn.preprocessing import LabelEncoder\n",
    "import gc\n",
    "from sklearn.metrics import log_loss\n",
    "import pickle\n",
    "from tqdm import tqdm\n",
    "import re\n",
    "from keras.preprocessing import text, sequence"
   ]
  },
  {
   "cell_type": "code",
   "execution_count": 2,
   "metadata": {
    "ExecuteTime": {
     "end_time": "2018-10-05T18:32:17.590000Z",
     "start_time": "2018-10-05T18:32:15.587743Z"
    }
   },
   "outputs": [],
   "source": [
    "train = pd.read_pickle(FILE.train_ori.value)\n",
    "train_length = len(train)\n",
    "test = pd.read_pickle(FILE.test_ori.value)\n",
    "X = pd.concat([train,test],sort=False)\n",
    "X = X.reset_index(drop=True)"
   ]
  },
  {
   "cell_type": "markdown",
   "metadata": {},
   "source": [
    "# Process Model"
   ]
  },
  {
   "cell_type": "code",
   "execution_count": 3,
   "metadata": {
    "ExecuteTime": {
     "end_time": "2018-10-05T18:32:19.332744Z",
     "start_time": "2018-10-05T18:32:19.327632Z"
    }
   },
   "outputs": [],
   "source": [
    "\n",
    "\n",
    "def get_tok(X,col,train_length,d_filter='!\"#$%&()*+,-./:;<=>?@[\\\\]^_`{|}~\\t\\n'):\n",
    "    X[col] = X[col].astype(str)\n",
    "    tok_dict_all = {}\n",
    "    tok_dict_train = {}\n",
    "    tok_dict_test = {}\n",
    "    tok_all=text.Tokenizer(num_words=X[col].nunique(),lower=False,filters=d_filter)\n",
    "    tok_all.fit_on_texts(list(X[col].values))\n",
    "    print(len(tok_all.word_index))\n",
    "\n",
    "    tok_train=text.Tokenizer(num_words=X[col].iloc[:train_length].nunique(),lower=False,filters=d_filter)\n",
    "    tok_train.fit_on_texts(list(X[col].iloc[:train_length].values))\n",
    "\n",
    "    tok_test=text.Tokenizer(num_words=X[col].iloc[train_length:].nunique(),lower=False,filters=d_filter)\n",
    "    tok_test.fit_on_texts(list(X[col].iloc[train_length:].values))\n",
    "    word_intersection = set(tok_train.word_index.keys()).intersection(set(tok_test.word_index.keys()))\n",
    "    print(len(word_intersection))\n",
    "\n",
    "    self_index = {}\n",
    "    count = 1\n",
    "    for word in word_intersection:\n",
    "        self_index[word] = count\n",
    "        count+=1\n",
    "    self_index['unknown'] = count\n",
    "\n",
    "    for word in tok_all.word_index.keys():\n",
    "        tok_all.word_index[word] = self_index.get(word,count)\n",
    "    return tok_all\n"
   ]
  },
  {
   "cell_type": "code",
   "execution_count": 4,
   "metadata": {
    "ExecuteTime": {
     "end_time": "2018-10-05T18:32:47.964877Z",
     "start_time": "2018-10-05T18:32:21.892132Z"
    }
   },
   "outputs": [
    {
     "name": "stdout",
     "output_type": "stream",
     "text": [
      "1405\n",
      "1312\n"
     ]
    }
   ],
   "source": [
    "tok = get_tok(X,col='user_tags',train_length=train_length,d_filter=',')"
   ]
  },
  {
   "cell_type": "code",
   "execution_count": 5,
   "metadata": {
    "ExecuteTime": {
     "end_time": "2018-10-05T18:32:57.046864Z",
     "start_time": "2018-10-05T18:32:49.693345Z"
    }
   },
   "outputs": [
    {
     "name": "stdout",
     "output_type": "stream",
     "text": [
      "13507\n",
      "3320\n"
     ]
    }
   ],
   "source": [
    "tok = get_tok(X,col='model',train_length=train_length,d_filter=',')"
   ]
  },
  {
   "cell_type": "markdown",
   "metadata": {},
   "source": [
    "# Demo"
   ]
  },
  {
   "cell_type": "code",
   "execution_count": 50,
   "metadata": {
    "ExecuteTime": {
     "end_time": "2018-10-05T17:40:27.863716Z",
     "start_time": "2018-10-05T17:40:27.859877Z"
    }
   },
   "outputs": [
    {
     "name": "stdout",
     "output_type": "stream",
     "text": [
      "{'like': 3, 'eating': 4, 'is': 5, 'I': 2, 'good': 6, 'apple': 1}\n",
      "[[2, 3, 4, 11], [11, 5, 6]]\n"
     ]
    }
   ],
   "source": [
    "sentence = ['I like eating apple','apple is good']\n",
    "tok = text.Tokenizer(num_words=15,lower=False)\n",
    "tok.fit_on_texts(sentence)\n",
    "print(tok.word_index)\n",
    "tok.word_index['apple'] = 11\n",
    "print(tok.texts_to_sequences(sentence))"
   ]
  }
 ],
 "metadata": {
  "kernelspec": {
   "display_name": "Python 3.5 (tf_gpu)",
   "language": "python",
   "name": "tf_gpu"
  },
  "language_info": {
   "codemirror_mode": {
    "name": "ipython",
    "version": 3
   },
   "file_extension": ".py",
   "mimetype": "text/x-python",
   "name": "python",
   "nbconvert_exporter": "python",
   "pygments_lexer": "ipython3",
   "version": "3.5.5"
  },
  "varInspector": {
   "cols": {
    "lenName": 16,
    "lenType": 16,
    "lenVar": 40
   },
   "kernels_config": {
    "python": {
     "delete_cmd_postfix": "",
     "delete_cmd_prefix": "del ",
     "library": "var_list.py",
     "varRefreshCmd": "print(var_dic_list())"
    },
    "r": {
     "delete_cmd_postfix": ") ",
     "delete_cmd_prefix": "rm(",
     "library": "var_list.r",
     "varRefreshCmd": "cat(var_dic_list()) "
    }
   },
   "types_to_exclude": [
    "module",
    "function",
    "builtin_function_or_method",
    "instance",
    "_Feature"
   ],
   "window_display": false
  }
 },
 "nbformat": 4,
 "nbformat_minor": 2
}
