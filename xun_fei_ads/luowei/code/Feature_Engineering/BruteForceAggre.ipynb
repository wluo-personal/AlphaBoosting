{
 "cells": [
  {
   "cell_type": "code",
   "execution_count": 1,
   "metadata": {
    "ExecuteTime": {
     "end_time": "2018-09-22T18:19:14.484992Z",
     "start_time": "2018-09-22T18:19:13.953475Z"
    }
   },
   "outputs": [],
   "source": [
    "__file__=''\n",
    "import os,sys\n",
    "import pandas as pd\n",
    "sys.path.append(os.path.join(os.path.dirname(__file__),'../LIB/'))\n",
    "sys.path.append(os.path.join(os.path.dirname(__file__),'../../../../automl/automl_libs/'))\n",
    "from env import FILE\n",
    "import utils\n",
    "from itertools import combinations\n",
    "from feature_engineering import *\n",
    "from tqdm import tqdm\n",
    "from sklearn.preprocessing import LabelEncoder"
   ]
  },
  {
   "cell_type": "code",
   "execution_count": 2,
   "metadata": {
    "ExecuteTime": {
     "end_time": "2018-09-22T18:19:14.489603Z",
     "start_time": "2018-09-22T18:19:14.487387Z"
    }
   },
   "outputs": [],
   "source": [
    "# X = pd.read_pickle(FILE.shiyi_fillna_ori.value)\n"
   ]
  },
  {
   "cell_type": "code",
   "execution_count": 3,
   "metadata": {
    "ExecuteTime": {
     "end_time": "2018-09-22T18:19:22.832064Z",
     "start_time": "2018-09-22T18:19:14.491860Z"
    }
   },
   "outputs": [
    {
     "name": "stdout",
     "output_type": "stream",
     "text": [
      "train shape is: (1001650, 35)\n",
      "test shape is: (40024, 34)\n",
      "(1041674, 34)\n",
      "(1041674, 45)\n",
      "(1041674, 35)\n"
     ]
    }
   ],
   "source": [
    "train = pd.read_pickle(FILE.train_ori.value)\n",
    "print('train shape is: {}'.format(train.shape))\n",
    "test = pd.read_pickle(FILE.test_ori.value)\n",
    "print('test shape is: {}'.format(test.shape))\n",
    "\n",
    "X = pd.concat([train.drop(['click'],axis=1),test])\n",
    "print(X.shape)\n",
    "\n",
    "X = X.sort_values('time')\n",
    "X = X.reset_index(drop=True)\n",
    "\n",
    "X_shiyi = pd.read_pickle(FILE.shiyi_fillna_ori.value)\n",
    "print(X_shiyi.shape)\n",
    "\n",
    "X = X.merge(X_shiyi[['time_hour','instance_id']],how='inner',on='instance_id')\n",
    "\n",
    "X = X.sort_values('time')\n",
    "X = X.reset_index(drop=True)\n",
    "\n",
    "print(X.shape)"
   ]
  },
  {
   "cell_type": "markdown",
   "metadata": {},
   "source": [
    "# Step 1, change data type"
   ]
  },
  {
   "cell_type": "code",
   "execution_count": 4,
   "metadata": {
    "ExecuteTime": {
     "end_time": "2018-09-22T18:19:26.163397Z",
     "start_time": "2018-09-22T18:19:22.834274Z"
    }
   },
   "outputs": [
    {
     "name": "stdout",
     "output_type": "stream",
     "text": [
      "0.785621888935566\n"
     ]
    }
   ],
   "source": [
    "for col in X.columns:\n",
    "    if X[col].dtype == 'float64':\n",
    "        X[col] = X[col].astype(utils.set_type(X[col],'float'))\n",
    "    if X[col].dtype == 'int64':\n",
    "        X[col] = X[col].astype(utils.set_type(X[col],'int'))\n",
    "        \n",
    "print(sys.getsizeof(X)/1024**3)"
   ]
  },
  {
   "cell_type": "markdown",
   "metadata": {},
   "source": [
    "# Step 2, sort user tags, to make sure it is ordered consistently"
   ]
  },
  {
   "cell_type": "code",
   "execution_count": 5,
   "metadata": {
    "ExecuteTime": {
     "end_time": "2018-09-22T18:19:32.597473Z",
     "start_time": "2018-09-22T18:19:26.165673Z"
    }
   },
   "outputs": [],
   "source": [
    "def tags_sort(x):\n",
    "    try:\n",
    "        return ','.join(sorted(list(set(x.split(',')) -set(['']))))\n",
    "    except:\n",
    "        return x\n",
    "X['user_tags'] = X['user_tags'].apply(tags_sort)\n",
    "\n"
   ]
  },
  {
   "cell_type": "markdown",
   "metadata": {},
   "source": [
    "# Step 3, creative_size, encoded by 'creative_width' and 'creative_height'"
   ]
  },
  {
   "cell_type": "code",
   "execution_count": 6,
   "metadata": {
    "ExecuteTime": {
     "end_time": "2018-09-22T18:19:34.437196Z",
     "start_time": "2018-09-22T18:19:32.599176Z"
    }
   },
   "outputs": [],
   "source": [
    "X['creative_size'] = X['creative_width'].astype(str) + '*' + X['creative_height'].astype(str)\n",
    "X.drop(['creative_width', 'creative_height'],axis=1,inplace=True)"
   ]
  },
  {
   "cell_type": "markdown",
   "metadata": {},
   "source": [
    "# Step 4, drop those only has 1 unique value"
   ]
  },
  {
   "cell_type": "code",
   "execution_count": 7,
   "metadata": {
    "ExecuteTime": {
     "end_time": "2018-09-22T18:19:35.508126Z",
     "start_time": "2018-09-22T18:19:34.438735Z"
    }
   },
   "outputs": [
    {
     "name": "stdout",
     "output_type": "stream",
     "text": [
      "['creative_is_js', 'creative_is_voicead', 'app_paid']\n"
     ]
    }
   ],
   "source": [
    "drop_col = []\n",
    "for col in X.columns:\n",
    "    if X[col].nunique() == 1:\n",
    "        drop_col.append(col)\n",
    "        \n",
    "print(drop_col)\n",
    "\n",
    "X.drop(drop_col,axis=1,inplace=True)"
   ]
  },
  {
   "cell_type": "markdown",
   "metadata": {},
   "source": [
    "# Define categorical columns"
   ]
  },
  {
   "cell_type": "code",
   "execution_count": 8,
   "metadata": {
    "ExecuteTime": {
     "end_time": "2018-09-22T18:19:35.513258Z",
     "start_time": "2018-09-22T18:19:35.509877Z"
    }
   },
   "outputs": [
    {
     "name": "stdout",
     "output_type": "stream",
     "text": [
      "29\n"
     ]
    }
   ],
   "source": [
    "not_categorical = ['instance_id','time', 'datetime']\n",
    "categorical_cols = list(set(X.columns) - set(not_categorical))\n",
    "print(len(categorical_cols))\n"
   ]
  },
  {
   "cell_type": "markdown",
   "metadata": {},
   "source": [
    "# Define Function List"
   ]
  },
  {
   "cell_type": "code",
   "execution_count": 9,
   "metadata": {
    "ExecuteTime": {
     "end_time": "2018-09-22T18:19:35.524128Z",
     "start_time": "2018-09-22T18:19:35.515016Z"
    }
   },
   "outputs": [],
   "source": [
    "count_func_list = [count,cumulative_count,reverse_cumulative_count]\n",
    "time_next_func_list = [time_to_n_next,time_to_n_previous]\n",
    "count_time_func_list = [count_in_previous_n_time_unit,count_in_next_n_time_unit]"
   ]
  },
  {
   "cell_type": "markdown",
   "metadata": {},
   "source": [
    "# FillNa"
   ]
  },
  {
   "cell_type": "code",
   "execution_count": 10,
   "metadata": {
    "ExecuteTime": {
     "end_time": "2018-09-22T18:19:49.434419Z",
     "start_time": "2018-09-22T18:19:35.526049Z"
    }
   },
   "outputs": [
    {
     "name": "stderr",
     "output_type": "stream",
     "text": [
      "100%|██████████| 29/29 [00:13<00:00,  2.09it/s]\n"
     ]
    }
   ],
   "source": [
    "le = LabelEncoder()\n",
    "#X['user_tags'] =  X['user_tags'].fillna('naNotFound')\n",
    "# X['user_tags'] = le.fit_transform(X['user_tags'])\n",
    "\n",
    "for col in tqdm(categorical_cols):\n",
    "    if X[col].dtype == 'object':\n",
    "        X[col] = X[col].fillna('FillNAValue')\n",
    "        pass\n",
    "    else:\n",
    "        X[col] = X[col].fillna(-100000)\n",
    "    X[col] = le.fit_transform(X[col])"
   ]
  },
  {
   "cell_type": "markdown",
   "metadata": {},
   "source": [
    "# Aggregation"
   ]
  },
  {
   "cell_type": "code",
   "execution_count": 11,
   "metadata": {
    "ExecuteTime": {
     "end_time": "2018-09-22T18:19:49.439120Z",
     "start_time": "2018-09-22T18:19:49.436480Z"
    }
   },
   "outputs": [],
   "source": [
    "def get_new_name(cob_col,func):\n",
    "    return '+'.join(cob_col)+'_'+func.__name__"
   ]
  },
  {
   "cell_type": "code",
   "execution_count": 12,
   "metadata": {
    "ExecuteTime": {
     "end_time": "2018-09-22T18:19:49.453835Z",
     "start_time": "2018-09-22T18:19:49.441661Z"
    }
   },
   "outputs": [],
   "source": [
    "def auto_generating(X,categorical_cols,\n",
    "                    count_func_list,time_next_func_list,count_time_func_list,\n",
    "                    dummy_col='instance_id',time_col='time',n_comb=1,\n",
    "                    saving_path_count=None,\n",
    "                    saving_path_timeNext=None,\n",
    "                    saving_path_timeCount=None):\n",
    "    \n",
    "    if saving_path_count is not None:\n",
    "        try:\n",
    "            result_count = pd.read_pickle(saving_path_count)\n",
    "        except:\n",
    "            result_count = pd.DataFrame()\n",
    "            \n",
    "    if saving_path_timeNext is not None:\n",
    "        try:\n",
    "            result_time_next = pd.read_pickle(saving_path_timeNext)\n",
    "        except:\n",
    "            result_time_next = pd.DataFrame()\n",
    "            \n",
    "    if saving_path_timeCount is not None:\n",
    "        try:\n",
    "            result_time_count = pd.read_pickle(saving_path_timeCount)\n",
    "        except:\n",
    "            result_time_count = pd.DataFrame()\n",
    "\n",
    "    counter = 0\n",
    "    for col in combinations(categorical_cols,n_comb):\n",
    "        col = sorted(col)\n",
    "        print('#######   {}/{}   ########'.format(col,counter))\n",
    "        col = list(col)\n",
    "        counter+=1\n",
    "        need_save_result_count = False\n",
    "        need_save_result_time_next = False\n",
    "        need_save_result_time_count = False\n",
    "        \n",
    "        for func in count_func_list:\n",
    "            feature_name = get_new_name(col,func)\n",
    "            if feature_name in result_count.columns:\n",
    "                continue\n",
    "            result_count[feature_name] = func(X,col,dummy_col,feature_name)[feature_name]\n",
    "            need_save_result_count = True\n",
    "\n",
    "        for func in time_next_func_list:\n",
    "\n",
    "            feature_name = get_new_name(col,func)\n",
    "            col_time = col.copy()\n",
    "            col_time.append(time_col)\n",
    "            if feature_name in result_time_next.columns:\n",
    "                continue\n",
    "            result_time_next[feature_name] = func(X,col_time,dummy_col,feature_name)[time_col]\n",
    "            need_save_result_time_next = True\n",
    "\n",
    "\n",
    "        for func in count_time_func_list:\n",
    "\n",
    "            feature_name = get_new_name(col,func)\n",
    "            col_time = col.copy()\n",
    "            col_time.append(time_col)\n",
    "            if feature_name+'_1hour' not in result_time_count.columns:\n",
    "                result_time_count[feature_name+'_1hour'] =func(X,col_time,dummy_col=dummy_col,\n",
    "                                                         generated_feature_name=feature_name,\n",
    "                                                         params={'n':60*60*1})[feature_name]\n",
    "                need_save_result_time_count = True\n",
    "            if feature_name+'_6hour' not in result_time_count.columns:\n",
    "                result_time_count[feature_name+'_6hour'] =func(X,col_time,dummy_col=dummy_col,\n",
    "                                                         generated_feature_name=feature_name,\n",
    "                                                         params={'n':60*60*6})[feature_name]\n",
    "                need_save_result_time_count = True\n",
    "\n",
    "            if feature_name+'_24hour' not in result_time_count.columns:\n",
    "                result_time_count[feature_name+'_24hour'] =func(X,col_time,dummy_col=dummy_col,\n",
    "                                                         generated_feature_name=feature_name,\n",
    "                                                         params={'n':60*60*6})[feature_name]\n",
    "                need_save_result_time_count = True\n",
    "                \n",
    "        if saving_path_count is not None and need_save_result_count:\n",
    "            result_count[dummy_col]=X[dummy_col].copy()\n",
    "            print('saving counts')\n",
    "            result_count.to_pickle(saving_path_count)\n",
    "        else:\n",
    "            print('skip counts')\n",
    "\n",
    "        if saving_path_timeNext is not None and need_save_result_time_next:\n",
    "            result_time_next[dummy_col]=X[dummy_col].copy()\n",
    "            print('saving time next')\n",
    "            result_time_next.to_pickle(saving_path_timeNext)\n",
    "        else:\n",
    "            print('skip time next')\n",
    "\n",
    "        if saving_path_timeCount is not None and need_save_result_time_count:\n",
    "            result_time_count[dummy_col]=X[dummy_col].copy()\n",
    "            print('saving time count in next unit')\n",
    "            result_time_count.to_pickle(saving_path_timeCount)\n",
    "        \n",
    "        else:\n",
    "            print('skip time count in next unit')\n",
    "            \n",
    "    "
   ]
  },
  {
   "cell_type": "code",
   "execution_count": 13,
   "metadata": {
    "ExecuteTime": {
     "end_time": "2018-09-22T18:20:49.962838Z",
     "start_time": "2018-09-22T18:19:49.459492Z"
    }
   },
   "outputs": [
    {
     "name": "stdout",
     "output_type": "stream",
     "text": [
      "../LIB/../../data/features/X_fe_agg_3_count.pkl\n",
      "../LIB/../../data/features/X_fe_agg_3_time_next.pkl\n",
      "../LIB/../../data/features/X_fe_agg_3_time_count.pkl\n",
      "#######   ('os_name', 'app_cate_id', 'creative_tp_dnf')/0   ########\n",
      "saving counts\n",
      "saving time next\n",
      "saving time count in next unit\n"
     ]
    },
    {
     "ename": "KeyboardInterrupt",
     "evalue": "",
     "output_type": "error",
     "traceback": [
      "\u001b[0;31m---------------------------------------------------------------------------\u001b[0m",
      "\u001b[0;31mKeyboardInterrupt\u001b[0m                         Traceback (most recent call last)",
      "\u001b[0;32m?\u001b[0m in \u001b[0;36m<module>\u001b[0;34m()\u001b[0m\n\u001b[1;32m     21\u001b[0m                     \u001b[0msaving_path_count\u001b[0m\u001b[0;34m=\u001b[0m\u001b[0msaving_path_count\u001b[0m\u001b[0;34m,\u001b[0m\u001b[0;34m\u001b[0m\u001b[0m\n\u001b[1;32m     22\u001b[0m                     \u001b[0msaving_path_timeNext\u001b[0m\u001b[0;34m=\u001b[0m\u001b[0msaving_path_timeNext\u001b[0m\u001b[0;34m,\u001b[0m\u001b[0;34m\u001b[0m\u001b[0m\n\u001b[0;32m---> 23\u001b[0;31m                     saving_path_timeCount=saving_path_timeCount)\n\u001b[0m",
      "\u001b[0;32m?\u001b[0m in \u001b[0;36mauto_generating\u001b[0;34m(X, categorical_cols, count_func_list, time_next_func_list, count_time_func_list, dummy_col, time_col, n_comb, saving_path_count, saving_path_timeNext, saving_path_timeCount)\u001b[0m\n\u001b[1;32m     90\u001b[0m             \u001b[0mresult_time_count\u001b[0m\u001b[0;34m[\u001b[0m\u001b[0mdummy_col\u001b[0m\u001b[0;34m]\u001b[0m\u001b[0;34m=\u001b[0m\u001b[0mX\u001b[0m\u001b[0;34m[\u001b[0m\u001b[0mdummy_col\u001b[0m\u001b[0;34m]\u001b[0m\u001b[0;34m.\u001b[0m\u001b[0mcopy\u001b[0m\u001b[0;34m(\u001b[0m\u001b[0;34m)\u001b[0m\u001b[0;34m\u001b[0m\u001b[0m\n\u001b[1;32m     91\u001b[0m             \u001b[0mprint\u001b[0m\u001b[0;34m(\u001b[0m\u001b[0;34m'saving time count in next unit'\u001b[0m\u001b[0;34m)\u001b[0m\u001b[0;34m\u001b[0m\u001b[0m\n\u001b[0;32m---> 92\u001b[0;31m             \u001b[0mresult_time_count\u001b[0m\u001b[0;34m.\u001b[0m\u001b[0mto_pickle\u001b[0m\u001b[0;34m(\u001b[0m\u001b[0msaving_path_timeCount\u001b[0m\u001b[0;34m)\u001b[0m\u001b[0;34m\u001b[0m\u001b[0m\n\u001b[0m\u001b[1;32m     93\u001b[0m \u001b[0;34m\u001b[0m\u001b[0m\n\u001b[1;32m     94\u001b[0m         \u001b[0;32melse\u001b[0m\u001b[0;34m:\u001b[0m\u001b[0;34m\u001b[0m\u001b[0m\n",
      "\u001b[0;32m~/anaconda3/lib/python3.6/site-packages/pandas/core/generic.py\u001b[0m in \u001b[0;36mto_pickle\u001b[0;34m(self, path, compression, protocol)\u001b[0m\n\u001b[1;32m   2187\u001b[0m         \u001b[0;32mfrom\u001b[0m \u001b[0mpandas\u001b[0m\u001b[0;34m.\u001b[0m\u001b[0mio\u001b[0m\u001b[0;34m.\u001b[0m\u001b[0mpickle\u001b[0m \u001b[0;32mimport\u001b[0m \u001b[0mto_pickle\u001b[0m\u001b[0;34m\u001b[0m\u001b[0m\n\u001b[1;32m   2188\u001b[0m         return to_pickle(self, path, compression=compression,\n\u001b[0;32m-> 2189\u001b[0;31m                          protocol=protocol)\n\u001b[0m\u001b[1;32m   2190\u001b[0m \u001b[0;34m\u001b[0m\u001b[0m\n\u001b[1;32m   2191\u001b[0m     \u001b[0;32mdef\u001b[0m \u001b[0mto_clipboard\u001b[0m\u001b[0;34m(\u001b[0m\u001b[0mself\u001b[0m\u001b[0;34m,\u001b[0m \u001b[0mexcel\u001b[0m\u001b[0;34m=\u001b[0m\u001b[0;32mTrue\u001b[0m\u001b[0;34m,\u001b[0m \u001b[0msep\u001b[0m\u001b[0;34m=\u001b[0m\u001b[0;32mNone\u001b[0m\u001b[0;34m,\u001b[0m \u001b[0;34m**\u001b[0m\u001b[0mkwargs\u001b[0m\u001b[0;34m)\u001b[0m\u001b[0;34m:\u001b[0m\u001b[0;34m\u001b[0m\u001b[0m\n",
      "\u001b[0;32m~/anaconda3/lib/python3.6/site-packages/pandas/io/pickle.py\u001b[0m in \u001b[0;36mto_pickle\u001b[0;34m(obj, path, compression, protocol)\u001b[0m\n\u001b[1;32m     75\u001b[0m         \u001b[0mprotocol\u001b[0m \u001b[0;34m=\u001b[0m \u001b[0mpkl\u001b[0m\u001b[0;34m.\u001b[0m\u001b[0mHIGHEST_PROTOCOL\u001b[0m\u001b[0;34m\u001b[0m\u001b[0m\n\u001b[1;32m     76\u001b[0m     \u001b[0;32mtry\u001b[0m\u001b[0;34m:\u001b[0m\u001b[0;34m\u001b[0m\u001b[0m\n\u001b[0;32m---> 77\u001b[0;31m         \u001b[0mf\u001b[0m\u001b[0;34m.\u001b[0m\u001b[0mwrite\u001b[0m\u001b[0;34m(\u001b[0m\u001b[0mpkl\u001b[0m\u001b[0;34m.\u001b[0m\u001b[0mdumps\u001b[0m\u001b[0;34m(\u001b[0m\u001b[0mobj\u001b[0m\u001b[0;34m,\u001b[0m \u001b[0mprotocol\u001b[0m\u001b[0;34m=\u001b[0m\u001b[0mprotocol\u001b[0m\u001b[0;34m)\u001b[0m\u001b[0;34m)\u001b[0m\u001b[0;34m\u001b[0m\u001b[0m\n\u001b[0m\u001b[1;32m     78\u001b[0m     \u001b[0;32mfinally\u001b[0m\u001b[0;34m:\u001b[0m\u001b[0;34m\u001b[0m\u001b[0m\n\u001b[1;32m     79\u001b[0m         \u001b[0;32mfor\u001b[0m \u001b[0m_f\u001b[0m \u001b[0;32min\u001b[0m \u001b[0mfh\u001b[0m\u001b[0;34m:\u001b[0m\u001b[0;34m\u001b[0m\u001b[0m\n",
      "\u001b[0;32m~/anaconda3/lib/python3.6/site-packages/pandas/core/indexes/base.py\u001b[0m in \u001b[0;36m__reduce__\u001b[0;34m(self)\u001b[0m\n\u001b[1;32m   1965\u001b[0m         \u001b[0;32mreturn\u001b[0m \u001b[0mis_datetime_array\u001b[0m\u001b[0;34m(\u001b[0m\u001b[0m_ensure_object\u001b[0m\u001b[0;34m(\u001b[0m\u001b[0mself\u001b[0m\u001b[0;34m.\u001b[0m\u001b[0mvalues\u001b[0m\u001b[0;34m)\u001b[0m\u001b[0;34m)\u001b[0m\u001b[0;34m\u001b[0m\u001b[0m\n\u001b[1;32m   1966\u001b[0m \u001b[0;34m\u001b[0m\u001b[0m\n\u001b[0;32m-> 1967\u001b[0;31m     \u001b[0;32mdef\u001b[0m \u001b[0m__reduce__\u001b[0m\u001b[0;34m(\u001b[0m\u001b[0mself\u001b[0m\u001b[0;34m)\u001b[0m\u001b[0;34m:\u001b[0m\u001b[0;34m\u001b[0m\u001b[0m\n\u001b[0m\u001b[1;32m   1968\u001b[0m         \u001b[0md\u001b[0m \u001b[0;34m=\u001b[0m \u001b[0mdict\u001b[0m\u001b[0;34m(\u001b[0m\u001b[0mdata\u001b[0m\u001b[0;34m=\u001b[0m\u001b[0mself\u001b[0m\u001b[0;34m.\u001b[0m\u001b[0m_data\u001b[0m\u001b[0;34m)\u001b[0m\u001b[0;34m\u001b[0m\u001b[0m\n\u001b[1;32m   1969\u001b[0m         \u001b[0md\u001b[0m\u001b[0;34m.\u001b[0m\u001b[0mupdate\u001b[0m\u001b[0;34m(\u001b[0m\u001b[0mself\u001b[0m\u001b[0;34m.\u001b[0m\u001b[0m_get_attributes_dict\u001b[0m\u001b[0;34m(\u001b[0m\u001b[0;34m)\u001b[0m\u001b[0;34m)\u001b[0m\u001b[0;34m\u001b[0m\u001b[0m\n",
      "\u001b[0;31mKeyboardInterrupt\u001b[0m: "
     ]
    }
   ],
   "source": [
    "dummy_col = 'instance_id'\n",
    "time_col = 'time'\n",
    "X = X.sort_values(time_col)\n",
    "\n",
    "for n_combs in [2]:\n",
    "    saving_path_count = FILE.X_fe_agg_count_formater.value.format(n_combs)\n",
    "    saving_path_timeNext = FILE.X_fe_agg_time_next_formater.value.format(n_combs)\n",
    "    saving_path_timeCount = FILE.X_fe_agg_time_count_formater.value.format(n_combs)\n",
    "    print(saving_path_count)\n",
    "    print(saving_path_timeNext)\n",
    "    print(saving_path_timeCount)\n",
    "    \n",
    "    auto_generating(X,\n",
    "                    categorical_cols,\n",
    "                    count_func_list,\n",
    "                    time_next_func_list,\n",
    "                    count_time_func_list,\n",
    "                    dummy_col,\n",
    "                    time_col,\n",
    "                    n_comb=n_combs,\n",
    "                    saving_path_count=saving_path_count,\n",
    "                    saving_path_timeNext=saving_path_timeNext,\n",
    "                    saving_path_timeCount=saving_path_timeCount)"
   ]
  },
  {
   "cell_type": "code",
   "execution_count": null,
   "metadata": {},
   "outputs": [],
   "source": []
  }
 ],
 "metadata": {
  "kernelspec": {
   "display_name": "Python 3",
   "language": "python",
   "name": "python3"
  },
  "language_info": {
   "codemirror_mode": {
    "name": "ipython",
    "version": 3
   },
   "file_extension": ".py",
   "mimetype": "text/x-python",
   "name": "python",
   "nbconvert_exporter": "python",
   "pygments_lexer": "ipython3",
   "version": "3.6.5"
  },
  "varInspector": {
   "cols": {
    "lenName": 16,
    "lenType": 16,
    "lenVar": 40
   },
   "kernels_config": {
    "python": {
     "delete_cmd_postfix": "",
     "delete_cmd_prefix": "del ",
     "library": "var_list.py",
     "varRefreshCmd": "print(var_dic_list())"
    },
    "r": {
     "delete_cmd_postfix": ") ",
     "delete_cmd_prefix": "rm(",
     "library": "var_list.r",
     "varRefreshCmd": "cat(var_dic_list()) "
    }
   },
   "types_to_exclude": [
    "module",
    "function",
    "builtin_function_or_method",
    "instance",
    "_Feature"
   ],
   "window_display": false
  }
 },
 "nbformat": 4,
 "nbformat_minor": 2
}
