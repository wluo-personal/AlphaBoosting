{
 "cells": [
  {
   "cell_type": "code",
   "execution_count": 1,
   "metadata": {
    "ExecuteTime": {
     "end_time": "2018-10-07T18:02:50.628521Z",
     "start_time": "2018-10-07T18:02:50.204478Z"
    }
   },
   "outputs": [],
   "source": [
    "__file__=''\n",
    "import os,sys\n",
    "import pandas as pd\n",
    "sys.path.append(os.path.join(os.path.dirname(__file__),'../LIB/'))\n",
    "sys.path.append(os.path.join(os.path.dirname(__file__),'../../../../automl/automl_libs/'))\n",
    "from env import FILE\n",
    "import utils\n",
    "from itertools import combinations\n",
    "from feature_engineering import *\n",
    "from sklearn.preprocessing import LabelEncoder\n",
    "import gc\n",
    "from sklearn.metrics import log_loss\n",
    "import pickle\n",
    "from tqdm import tqdm\n",
    "import re\n",
    "import urllib"
   ]
  },
  {
   "cell_type": "code",
   "execution_count": 2,
   "metadata": {
    "ExecuteTime": {
     "end_time": "2018-10-07T18:02:51.811495Z",
     "start_time": "2018-10-07T18:02:50.630169Z"
    }
   },
   "outputs": [],
   "source": [
    "train = pd.read_pickle(FILE.train_ori.value)\n",
    "test = pd.read_pickle(FILE.test_ori.value)\n",
    "X = pd.concat([train,test],sort=False)"
   ]
  },
  {
   "cell_type": "code",
   "execution_count": 3,
   "metadata": {
    "ExecuteTime": {
     "end_time": "2018-10-07T18:02:52.343616Z",
     "start_time": "2018-10-07T18:02:51.813239Z"
    }
   },
   "outputs": [],
   "source": [
    "X_ = X[['instance_id']].copy()"
   ]
  },
  {
   "cell_type": "markdown",
   "metadata": {},
   "source": [
    "# Process city and province"
   ]
  },
  {
   "cell_type": "code",
   "execution_count": 4,
   "metadata": {
    "ExecuteTime": {
     "end_time": "2018-10-07T18:02:52.351884Z",
     "start_time": "2018-10-07T18:02:52.347164Z"
    }
   },
   "outputs": [],
   "source": [
    "# def city(x):\n",
    "#     if len(x) == 1:\n",
    "#         return x\n",
    "#     else:\n",
    "#         return 'c1_{} c2_{} c3_{} c4_{} c5_{}'.format(x[0:3],x[3:6],x[6:9],x[9:12],x[12:15])\n",
    "    \n",
    "# def province(x):\n",
    "#     if len(x) == 1:\n",
    "#         return x\n",
    "#     else:\n",
    "#         return 'p1_{} p2_{} p3_{} p4_{} p5_{}'.format(x[0:3],x[3:6],x[6:9],x[9:12],x[12:15])\n",
    "    \n",
    "# X_['city'] = X['city'].astype(str).apply(city)\n",
    "# X_['province'] = X['province'].astype(str).apply(province)\n",
    "# le1 = LabelEncoder()\n",
    "# le1.fit(pd.concat([X_['city'].astype(str),X_['province'].astype(str)]))\n",
    "# X_['city1'] = le1.transform(X_['city'].astype(str))\n",
    "# X_['province1'] = le1.transform(X_['province'].astype(str))\n",
    "# X_['city_province'] = le1.fit_transform(X_['city'].astype(str)+X_['province'].astype(str))"
   ]
  },
  {
   "cell_type": "markdown",
   "metadata": {},
   "source": [
    "# Process Make and Model"
   ]
  },
  {
   "cell_type": "code",
   "execution_count": 5,
   "metadata": {
    "ExecuteTime": {
     "end_time": "2018-10-07T18:02:52.361568Z",
     "start_time": "2018-10-07T18:02:52.355965Z"
    }
   },
   "outputs": [],
   "source": [
    "# pattern1=r'%2522|%(25){0,}2B|%20|%(25){0,}28|%(25){0,}29|%(25){0,}2C'\n",
    "# #用空格替代连字符\"-或者+或者_\"\n",
    "# pattern2=r'-{1,}|(?<=[a-zA-Z\\d])\\+{1,}\\s{0,}(?=[a-zA-Z\\d])|_{1,}|[/,]'\n",
    "# #两个以上的空格都替换成一个\n",
    "# pattern3='\\s{2,}'\n",
    "# #去掉括号\n",
    "# pattern4='\\(|\\)'\n",
    "\n",
    "# def reg(input_string):\n",
    "#     if isinstance(input_string, str):\n",
    "#         new_string = input_string.upper()\n",
    "#         new_string = re.sub(r'IPHONE', r'IPHONE ',new_string)\n",
    "#         new_string=re.sub(pattern1,' ',new_string)\n",
    "#         new_string=urllib.parse.unquote(new_string)\n",
    "#         new_string = re.sub(pattern2,' ',new_string)\n",
    "#         new_string = re.sub(pattern3,' ', new_string)\n",
    "#         new_string = re.sub(pattern4,'', new_string)\n",
    "#         # 全部转为大写\n",
    "        \n",
    "#         if '%' in  new_string:\n",
    "#             print(input_string,new_string)\n",
    "#             new_string='nan'\n",
    "#         return new_string\n",
    "#     else:\n",
    "#         # print(input_string)\n",
    "#         return input_string\n",
    "\n",
    "# X_['make_new']=X['make'].apply(reg)\n",
    "# X_['model_new']=X['model'].apply(reg)\n",
    "# # s = X['model'].apply(reg)"
   ]
  },
  {
   "cell_type": "code",
   "execution_count": 6,
   "metadata": {
    "ExecuteTime": {
     "end_time": "2018-10-07T18:03:48.580139Z",
     "start_time": "2018-10-07T18:02:52.363906Z"
    }
   },
   "outputs": [],
   "source": [
    "def reg(x):\n",
    "    for m in ['HUAWEI','OPPO', 'iPhone','IPHONE','vivo','HWI','Redmi','huawei','sonny','Changhong','Coolpad','oppo','iphone','GIONEE','redmi','Xplay','changhong']:\n",
    "        x = re.sub(r'{}'.format(m),r'{} '.format(m),x)\n",
    "        finds = re.findall(r'%[25]+B',x)\n",
    "        if len(finds) > 0:\n",
    "            x = re.sub(finds[0],finds[0]+' ',x)\n",
    "    return x\n",
    "X_['make_v1']=X['make'].astype(str).apply(reg)\n",
    "X_['model_v1']=X['model'].astype(str).apply(reg)"
   ]
  },
  {
   "cell_type": "markdown",
   "metadata": {},
   "source": [
    "# Model V2 only take care of %, test data 2002"
   ]
  },
  {
   "cell_type": "code",
   "execution_count": 7,
   "metadata": {
    "ExecuteTime": {
     "end_time": "2018-10-07T18:03:52.410203Z",
     "start_time": "2018-10-07T18:03:48.582026Z"
    }
   },
   "outputs": [],
   "source": [
    "def process_char(x):\n",
    "    x = urllib.parse.unquote(x)\n",
    "    x = re.sub(r'%20|%28|%29',' ',x)\n",
    "    x = re.sub(r'%[25]+B?',' ',x)\n",
    "    return x\n",
    "\n",
    "X_['make_v2']=X['make'].astype(str).apply(process_char)\n",
    "X_['model_v2']=X['model'].astype(str).apply(process_char)"
   ]
  },
  {
   "cell_type": "markdown",
   "metadata": {},
   "source": [
    "# Model V3  urllib, parse ' '\n"
   ]
  },
  {
   "cell_type": "code",
   "execution_count": 8,
   "metadata": {
    "ExecuteTime": {
     "end_time": "2018-10-07T18:03:56.478301Z",
     "start_time": "2018-10-07T18:03:52.412022Z"
    }
   },
   "outputs": [],
   "source": [
    "def process_char(x):\n",
    "    if x.find('%') != -1:\n",
    "        index = x.find('%')\n",
    "        x = x[:index]+' '+ x[index:]\n",
    "    x = urllib.parse.unquote(x)\n",
    "    x = re.sub(r'%20|%28|%29',' ',x)\n",
    "    x = re.sub(r'%[25]+B?',' ',x)\n",
    "    return x\n",
    "\n",
    "X_['make_v3']=X['make'].astype(str).apply(process_char)\n",
    "X_['model_v3']=X['model'].astype(str).apply(process_char)"
   ]
  },
  {
   "cell_type": "markdown",
   "metadata": {},
   "source": [
    "# Model V4 each word seperate"
   ]
  },
  {
   "cell_type": "code",
   "execution_count": 9,
   "metadata": {
    "ExecuteTime": {
     "end_time": "2018-10-07T18:04:01.421937Z",
     "start_time": "2018-10-07T18:03:56.480211Z"
    }
   },
   "outputs": [],
   "source": [
    "def v4(x):\n",
    "    x = ' '.join(x)\n",
    "    x = re.sub(r' +',' ',x)\n",
    "    return x\n",
    "X_['make_v4']=X['make'].astype(str).apply(v4)\n",
    "X_['model_v4']=X['model'].astype(str).apply(v4)"
   ]
  },
  {
   "cell_type": "markdown",
   "metadata": {},
   "source": [
    "# Model V5, only touch those has %\n"
   ]
  },
  {
   "cell_type": "code",
   "execution_count": 10,
   "metadata": {
    "ExecuteTime": {
     "end_time": "2018-10-07T18:04:02.231101Z",
     "start_time": "2018-10-07T18:04:01.423570Z"
    }
   },
   "outputs": [],
   "source": [
    "def v5(x):\n",
    "    if x.find('%') == -1:\n",
    "        return 'nan'\n",
    "    else:\n",
    "        x = ' '.join(x)\n",
    "        x = re.sub(r' +',' ',x)\n",
    "        return x\n",
    "X_['make_v5']=X['make'].astype(str).apply(v5)\n",
    "X_['model_v5']=X['model'].astype(str).apply(v5)"
   ]
  },
  {
   "cell_type": "code",
   "execution_count": 11,
   "metadata": {
    "ExecuteTime": {
     "end_time": "2018-10-07T18:04:03.575066Z",
     "start_time": "2018-10-07T18:04:02.232978Z"
    }
   },
   "outputs": [],
   "source": [
    "\n",
    "\n",
    "X_.to_pickle('../../data/nn_features/clean.pkl')"
   ]
  },
  {
   "cell_type": "code",
   "execution_count": 12,
   "metadata": {
    "ExecuteTime": {
     "end_time": "2018-10-07T18:04:03.848467Z",
     "start_time": "2018-10-07T18:04:03.577787Z"
    }
   },
   "outputs": [],
   "source": [
    "s = X_['model_v4'].apply(lambda x: len(x))"
   ]
  },
  {
   "cell_type": "code",
   "execution_count": 13,
   "metadata": {
    "ExecuteTime": {
     "end_time": "2018-10-07T18:04:03.857638Z",
     "start_time": "2018-10-07T18:04:03.850038Z"
    }
   },
   "outputs": [
    {
     "data": {
      "text/plain": [
       "'O P P O % 2 5 2 5 2 5 2 5 2 5 2 5 2 5 2 B R 9 % 2 5 2 5 2 5 2 5 2 5 2 5 2 5 2 B P l u s t m % 2 5 2 5 2 5 2 5 2 5 2 5 2 5 2 B A'"
      ]
     },
     "execution_count": 13,
     "metadata": {},
     "output_type": "execute_result"
    }
   ],
   "source": [
    "X_['model_v4'].iloc[636926]"
   ]
  },
  {
   "cell_type": "code",
   "execution_count": 14,
   "metadata": {
    "ExecuteTime": {
     "end_time": "2018-10-07T18:04:03.926245Z",
     "start_time": "2018-10-07T18:04:03.859129Z"
    }
   },
   "outputs": [
    {
     "data": {
      "text/plain": [
       "998593     367\n",
       "250520     367\n",
       "636926     127\n",
       "172037     127\n",
       "828763     127\n",
       "1000764    127\n",
       "683962     125\n",
       "113378     125\n",
       "172048     125\n",
       "328271     125\n",
       "348673     125\n",
       "32964      125\n",
       "777464     125\n",
       "375135     125\n",
       "402491     125\n",
       "987670     125\n",
       "997772     125\n",
       "532015     125\n",
       "904442     125\n",
       "342377     125\n",
       "94791      125\n",
       "830087     125\n",
       "392164     125\n",
       "66668      125\n",
       "208286     125\n",
       "17941      115\n",
       "43004      115\n",
       "674622     115\n",
       "726564     115\n",
       "163688     115\n",
       "          ... \n",
       "737100       3\n",
       "737213       3\n",
       "272565       3\n",
       "737282       3\n",
       "736994       3\n",
       "737336       3\n",
       "737332       3\n",
       "272440       3\n",
       "737520       3\n",
       "737534       3\n",
       "272360       3\n",
       "737596       3\n",
       "737604       3\n",
       "272307       3\n",
       "272794       3\n",
       "44387        1\n",
       "547768       1\n",
       "357573       1\n",
       "501632       1\n",
       "136378       1\n",
       "175105       1\n",
       "720986       1\n",
       "575127       1\n",
       "371225       1\n",
       "483697       1\n",
       "142122       1\n",
       "43321        1\n",
       "586595       1\n",
       "411694       1\n",
       "429391       1\n",
       "Name: model_v4, Length: 1041674, dtype: int64"
      ]
     },
     "execution_count": 14,
     "metadata": {},
     "output_type": "execute_result"
    }
   ],
   "source": [
    "s.sort_values(ascending=False)"
   ]
  },
  {
   "cell_type": "code",
   "execution_count": null,
   "metadata": {},
   "outputs": [],
   "source": []
  }
 ],
 "metadata": {
  "kernelspec": {
   "display_name": "Python 3",
   "language": "python",
   "name": "python3"
  },
  "language_info": {
   "codemirror_mode": {
    "name": "ipython",
    "version": 3
   },
   "file_extension": ".py",
   "mimetype": "text/x-python",
   "name": "python",
   "nbconvert_exporter": "python",
   "pygments_lexer": "ipython3",
   "version": "3.6.5"
  },
  "varInspector": {
   "cols": {
    "lenName": 16,
    "lenType": 16,
    "lenVar": 40
   },
   "kernels_config": {
    "python": {
     "delete_cmd_postfix": "",
     "delete_cmd_prefix": "del ",
     "library": "var_list.py",
     "varRefreshCmd": "print(var_dic_list())"
    },
    "r": {
     "delete_cmd_postfix": ") ",
     "delete_cmd_prefix": "rm(",
     "library": "var_list.r",
     "varRefreshCmd": "cat(var_dic_list()) "
    }
   },
   "types_to_exclude": [
    "module",
    "function",
    "builtin_function_or_method",
    "instance",
    "_Feature"
   ],
   "window_display": false
  }
 },
 "nbformat": 4,
 "nbformat_minor": 2
}
