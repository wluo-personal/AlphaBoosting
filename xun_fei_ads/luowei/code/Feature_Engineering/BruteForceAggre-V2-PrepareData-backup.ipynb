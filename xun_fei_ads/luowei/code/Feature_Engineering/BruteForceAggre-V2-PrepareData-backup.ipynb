{
 "cells": [
  {
   "cell_type": "code",
   "execution_count": 1,
   "metadata": {
    "ExecuteTime": {
     "end_time": "2018-09-15T17:44:05.140722Z",
     "start_time": "2018-09-15T17:44:04.800386Z"
    }
   },
   "outputs": [],
   "source": [
    "__file__=''\n",
    "import os,sys\n",
    "import pandas as pd\n",
    "sys.path.append(os.path.join(os.path.dirname(__file__),'../LIB/'))\n",
    "sys.path.append(os.path.join(os.path.dirname(__file__),'../../../../automl/automl_libs/'))\n",
    "from env import FILE\n",
    "import utils\n",
    "from itertools import combinations\n",
    "from feature_engineering import *\n",
    "from tqdm import tqdm\n",
    "from sklearn.preprocessing import LabelEncoder\n",
    "le = LabelEncoder()"
   ]
  },
  {
   "cell_type": "code",
   "execution_count": 2,
   "metadata": {
    "ExecuteTime": {
     "end_time": "2018-09-15T17:44:11.838623Z",
     "start_time": "2018-09-15T17:44:05.158948Z"
    }
   },
   "outputs": [
    {
     "name": "stdout",
     "output_type": "stream",
     "text": [
      "train shape is: (1001650, 35)\n",
      "test shape is: (40024, 34)\n",
      "(1041674, 34)\n",
      "(1041674, 45)\n",
      "(1041674, 35)\n"
     ]
    }
   ],
   "source": [
    "train = pd.read_pickle(FILE.train_ori.value)\n",
    "print('train shape is: {}'.format(train.shape))\n",
    "test = pd.read_pickle(FILE.test_ori.value)\n",
    "print('test shape is: {}'.format(test.shape))\n",
    "\n",
    "X = pd.concat([train.drop(['click'],axis=1),test])\n",
    "print(X.shape)\n",
    "\n",
    "X = X.sort_values('time')\n",
    "X = X.reset_index(drop=True)\n",
    "\n",
    "X_shiyi = pd.read_pickle(FILE.shiyi_fillna_ori.value)\n",
    "print(X_shiyi.shape)\n",
    "\n",
    "X = X.merge(X_shiyi[['time_hour','instance_id']],how='inner',on='instance_id')\n",
    "\n",
    "X = X.sort_values('time')\n",
    "X = X.reset_index(drop=True)\n",
    "\n",
    "print(X.shape)"
   ]
  },
  {
   "cell_type": "markdown",
   "metadata": {},
   "source": [
    "# Step 1, change data type"
   ]
  },
  {
   "cell_type": "code",
   "execution_count": 3,
   "metadata": {
    "ExecuteTime": {
     "end_time": "2018-09-15T17:44:16.940525Z",
     "start_time": "2018-09-15T17:44:14.704922Z"
    }
   },
   "outputs": [
    {
     "name": "stdout",
     "output_type": "stream",
     "text": [
      "0.785621888935566\n"
     ]
    }
   ],
   "source": [
    "for col in X.columns:\n",
    "    if X[col].dtype == 'float64':\n",
    "        X[col] = X[col].astype(utils.set_type(X[col],'float'))\n",
    "    if X[col].dtype == 'int64':\n",
    "        X[col] = X[col].astype(utils.set_type(X[col],'int'))\n",
    "        \n",
    "print(sys.getsizeof(X)/1024**3)"
   ]
  },
  {
   "cell_type": "markdown",
   "metadata": {},
   "source": [
    "# Step 2, sort user tags, to make sure it is ordered consistently"
   ]
  },
  {
   "cell_type": "code",
   "execution_count": 4,
   "metadata": {
    "ExecuteTime": {
     "end_time": "2018-09-15T17:44:29.189728Z",
     "start_time": "2018-09-15T17:44:20.038619Z"
    }
   },
   "outputs": [],
   "source": [
    "def tags_sort(x):\n",
    "    try:\n",
    "        return ','.join(sorted(list(set(x.split(',')) -set(['']))))\n",
    "    except:\n",
    "        return x\n",
    "X['user_tags'] = X['user_tags'].apply(tags_sort)\n",
    "nan_index = X['user_tags'][X['user_tags'].isnull()].index\n",
    "X['user_tags'] = X['user_tags'].fillna('notFound')\n",
    "X['user_tags'] = le.fit_transform(X['user_tags'])\n",
    "X.loc[nan_index,'user_tags'] = np.nan\n",
    "\n",
    "\n"
   ]
  },
  {
   "cell_type": "markdown",
   "metadata": {},
   "source": [
    "# Step 3, creative_size, encoded by 'creative_width' and 'creative_height'"
   ]
  },
  {
   "cell_type": "code",
   "execution_count": 5,
   "metadata": {
    "ExecuteTime": {
     "end_time": "2018-09-15T17:44:33.562427Z",
     "start_time": "2018-09-15T17:44:32.036588Z"
    }
   },
   "outputs": [],
   "source": [
    "X['creative_size'] = X['creative_width'].astype(str) + '*' + X['creative_height'].astype(str)\n",
    "X.drop(['creative_width', 'creative_height'],axis=1,inplace=True)"
   ]
  },
  {
   "cell_type": "markdown",
   "metadata": {},
   "source": [
    "# Step 4, drop those only has 1 unique value"
   ]
  },
  {
   "cell_type": "code",
   "execution_count": 6,
   "metadata": {
    "ExecuteTime": {
     "end_time": "2018-09-15T17:44:37.024468Z",
     "start_time": "2018-09-15T17:44:36.310910Z"
    }
   },
   "outputs": [
    {
     "name": "stdout",
     "output_type": "stream",
     "text": [
      "['creative_is_js', 'creative_is_voicead', 'app_paid']\n"
     ]
    }
   ],
   "source": [
    "drop_col = []\n",
    "for col in X.columns:\n",
    "    if X[col].nunique() == 1:\n",
    "        drop_col.append(col)\n",
    "        \n",
    "print(drop_col)\n",
    "\n",
    "X.drop(drop_col,axis=1,inplace=True)"
   ]
  },
  {
   "cell_type": "markdown",
   "metadata": {},
   "source": [
    "# Step 5, combine 'city_province'"
   ]
  },
  {
   "cell_type": "code",
   "execution_count": 7,
   "metadata": {
    "ExecuteTime": {
     "end_time": "2018-09-15T17:44:42.984504Z",
     "start_time": "2018-09-15T17:44:40.124809Z"
    }
   },
   "outputs": [],
   "source": [
    "X['city_province'] = X['city'].astype(str)+'_' + X['province'].astype(str)\n",
    "X['city_province'] = le.fit_transform(X['city_province'])\n",
    "X.drop(['city', 'province'],axis=1,inplace=True)"
   ]
  },
  {
   "cell_type": "code",
   "execution_count": 8,
   "metadata": {
    "ExecuteTime": {
     "end_time": "2018-09-15T17:44:53.266159Z",
     "start_time": "2018-09-15T17:44:45.550408Z"
    }
   },
   "outputs": [
    {
     "name": "stderr",
     "output_type": "stream",
     "text": [
      "\r",
      "  0%|          | 0/28 [00:00<?, ?it/s]"
     ]
    },
    {
     "name": "stdout",
     "output_type": "stream",
     "text": [
      "28\n"
     ]
    },
    {
     "name": "stderr",
     "output_type": "stream",
     "text": [
      "100%|██████████| 28/28 [00:07<00:00,  3.63it/s]\n"
     ]
    }
   ],
   "source": [
    "le = LabelEncoder()\n",
    "not_categorical = ['instance_id','time', 'datetime','click']\n",
    "categorical_cols = list(set(X.columns) - set(not_categorical))\n",
    "print(len(categorical_cols))\n",
    "\n",
    "\n",
    "for col in tqdm(categorical_cols):\n",
    "    if X[col].dtype == 'object':\n",
    "        X[col] = X[col].fillna('FillNAValue')\n",
    "        X[col] = le.fit_transform(X[col])\n",
    "    else:\n",
    "        pass\n",
    "#         X[col] = X[col].fillna(-100000)\n",
    "#         X[col] = le.fit_transform(X[col])"
   ]
  },
  {
   "cell_type": "code",
   "execution_count": 9,
   "metadata": {
    "ExecuteTime": {
     "end_time": "2018-09-15T17:44:55.785141Z",
     "start_time": "2018-09-15T17:44:55.779678Z"
    }
   },
   "outputs": [],
   "source": [
    "user_list = [\n",
    "['user_tags'],\n",
    "['user_tags','city_province'],\n",
    "['user_tags','model','os_name','make','devtype'],\n",
    "['city_province','user_tags','model','nnt','devtype','os_name','osv','make','os','carrier'],\n",
    "['user_tags','model','nnt','devtype','os_name','osv','make','os','carrier']\n",
    "]\n",
    "\n",
    "ads_list = [\n",
    "['adid'],\n",
    "['adid','creative_size'],\n",
    "['adid','orderid','campaign_id','creative_id','creative_type','creative_tp_dnf','creative_size'],\n",
    "['advert_id','advert_industry_inner','advert_name','campaign_id','creative_id','creative_type','creative_tp_dnf','creative_size'],['adid','advert_id','orderid','advert_industry_inner','advert_name','campaign_id','creative_id','creative_type','creative_tp_dnf','creative_size']\n",
    "]\n",
    "\n",
    "channel_list = [\n",
    "['app_id'],\n",
    "['app_id','inner_slot_id'],\n",
    "['f_channel','inner_slot_id'],\n",
    "['app_cate_id','f_channel','app_id','inner_slot_id']\n",
    "]\n",
    "\n",
    "time_list = [\n",
    "[],\n",
    "['time_hour']\n",
    "]\n",
    "\n",
    "\n",
    "\n",
    "user = ['city_province','user_tags','model','nnt','devtype','os_name','osv','make','os','carrier']\n",
    "ads = ['adid','advert_id','orderid','advert_industry_inner','advert_name','campaign_id','creative_id','creative_type','creative_tp_dnf','creative_has_deeplink','creative_is_jump','creative_is_download','creative_size']\n",
    "\n",
    "channel = ['app_cate_id','f_channel','app_id','inner_slot_id',]"
   ]
  },
  {
   "cell_type": "markdown",
   "metadata": {},
   "source": [
    "# Define Function List"
   ]
  },
  {
   "cell_type": "code",
   "execution_count": 10,
   "metadata": {
    "ExecuteTime": {
     "end_time": "2018-09-15T17:44:58.360407Z",
     "start_time": "2018-09-15T17:44:58.358048Z"
    }
   },
   "outputs": [],
   "source": [
    "count_func_list = [count,cumulative_count,reverse_cumulative_count]\n",
    "time_next_func_list = [time_to_n_next,time_to_n_previous]\n",
    "count_time_func_list = [count_in_previous_n_time_unit,count_in_next_n_time_unit]"
   ]
  },
  {
   "cell_type": "markdown",
   "metadata": {},
   "source": [
    "# FillNa"
   ]
  },
  {
   "cell_type": "code",
   "execution_count": 11,
   "metadata": {
    "ExecuteTime": {
     "end_time": "2018-09-15T17:45:01.069041Z",
     "start_time": "2018-09-15T17:45:01.067069Z"
    }
   },
   "outputs": [],
   "source": [
    "# le = LabelEncoder()\n",
    "# #X['user_tags'] =  X['user_tags'].fillna('naNotFound')\n",
    "# # X['user_tags'] = le.fit_transform(X['user_tags'])\n",
    "\n",
    "# for col in tqdm(categorical_cols):\n",
    "#     if X[col].dtype == 'object':\n",
    "#         X[col] = X[col].fillna('FillNAValue')\n",
    "#         pass\n",
    "#     else:\n",
    "#         X[col] = X[col].fillna(-100000)\n",
    "#     X[col] = le.fit_transform(X[col])"
   ]
  },
  {
   "cell_type": "markdown",
   "metadata": {},
   "source": [
    "# Aggregation"
   ]
  },
  {
   "cell_type": "code",
   "execution_count": 12,
   "metadata": {
    "ExecuteTime": {
     "end_time": "2018-09-15T17:45:03.553833Z",
     "start_time": "2018-09-15T17:45:03.551707Z"
    }
   },
   "outputs": [],
   "source": [
    "def get_new_name(cob_col,func):\n",
    "    return  'user{}_ads{}_channel{}_hour{}_'.format(*cob_col) +func.__name__"
   ]
  },
  {
   "cell_type": "code",
   "execution_count": 13,
   "metadata": {
    "ExecuteTime": {
     "end_time": "2018-09-15T17:45:06.174372Z",
     "start_time": "2018-09-15T17:45:06.166605Z"
    }
   },
   "outputs": [],
   "source": [
    "def auto_generate_func(X,user_list,ads_list,channel_list,time_list,\n",
    "                    func_list,\n",
    "                    dummy_col='instance_id',time_col='time',\n",
    "                    saving_path=None):\n",
    "    if saving_path is not None:\n",
    "        try:\n",
    "            result = pd.read_pickle(saving_path)\n",
    "        except:\n",
    "            result = pd.DataFrame()\n",
    "    counter = 0\n",
    "    for user_index in range(len(user_list)):\n",
    "        for ads_index in range(len(ads_list)):\n",
    "            for chan_index in range(len(channel_list)):\n",
    "                for hour_index in range(len(time_list)):\n",
    "                    counter += 1\n",
    "                    all_cols = user_list[user_index] + ads_list[ads_index] + channel_list[chan_index] + time_list[hour_index]\n",
    "                \n",
    "                    print('#######   {}  ########'.format(counter))\n",
    "                    need_save_result = False\n",
    "                    for func in func_list:\n",
    "                        feature_name = get_new_name((user_index,ads_index,chan_index,hour_index),func)\n",
    "                        \n",
    "                        if feature_name in result.columns:\n",
    "                            continue\n",
    "                        if func.__name__ in [count_in_previous_n_time_unit.__name__,count_in_next_n_time_unit.__name__]:\n",
    "                            col_time = all_cols.copy()\n",
    "                            col_time.append(time_col)\n",
    "                            if feature_name+'_10min' not in result.columns:\n",
    "                                result[feature_name+'_10min'] =func(X,col_time,dummy_col=dummy_col,\n",
    "                                                         generated_feature_name=feature_name,\n",
    "                                                         params={'n':60*10})[feature_name]\n",
    "                                need_save_result = True\n",
    "                            if feature_name+'_60min' not in result.columns:\n",
    "                                result[feature_name+'_60min'] =func(X,col_time,dummy_col=dummy_col,\n",
    "                                                         generated_feature_name=feature_name,\n",
    "                                                         params={'n':60*60})[feature_name]\n",
    "                                need_save_result = True\n",
    "                        elif func.__name__ in [time_to_n_next.__name__,time_to_n_previous.__name__]:\n",
    "                            col_time = all_cols.copy()\n",
    "                            col_time.append(time_col)\n",
    "                            result[feature_name] = func(X,col_time,dummy_col,feature_name)[time_col]\n",
    "                            need_save_result = True\n",
    "                        else:\n",
    "                            result[feature_name] = func(X,all_cols,dummy_col,feature_name)[feature_name]\n",
    "                            need_save_result = True\n",
    "                            \n",
    "                    if need_save_result:\n",
    "                        result['instance_id'] = X['instance_id'].copy()\n",
    "                        result.to_pickle(saving_path)\n",
    "    return result\n",
    "                    \n",
    "                    "
   ]
  },
  {
   "cell_type": "code",
   "execution_count": null,
   "metadata": {
    "ExecuteTime": {
     "start_time": "2018-09-15T16:59:37.836Z"
    },
    "scrolled": true
   },
   "outputs": [
    {
     "name": "stdout",
     "output_type": "stream",
     "text": [
      "#######   1  ########\n",
      "#######   2  ########\n",
      "#######   3  ########\n",
      "#######   4  ########\n",
      "#######   5  ########\n",
      "#######   6  ########\n",
      "#######   7  ########\n",
      "#######   8  ########\n",
      "#######   9  ########\n",
      "#######   10  ########\n",
      "#######   11  ########\n",
      "#######   12  ########\n",
      "#######   13  ########\n",
      "#######   14  ########\n",
      "#######   15  ########\n",
      "#######   16  ########\n",
      "#######   17  ########\n",
      "#######   18  ########\n",
      "#######   19  ########\n",
      "#######   20  ########\n",
      "#######   21  ########\n",
      "#######   22  ########\n",
      "#######   23  ########\n",
      "#######   24  ########\n",
      "#######   25  ########\n",
      "#######   26  ########\n",
      "#######   27  ########\n",
      "#######   28  ########\n",
      "#######   29  ########\n",
      "#######   30  ########\n",
      "#######   31  ########\n",
      "#######   32  ########\n",
      "#######   33  ########\n",
      "#######   34  ########\n",
      "#######   35  ########\n",
      "#######   36  ########\n",
      "#######   37  ########\n",
      "#######   38  ########\n",
      "#######   39  ########\n",
      "#######   40  ########\n",
      "#######   41  ########\n",
      "#######   42  ########\n",
      "#######   43  ########\n",
      "#######   44  ########\n",
      "#######   45  ########\n",
      "#######   46  ########\n",
      "#######   47  ########\n",
      "#######   48  ########\n",
      "#######   49  ########\n",
      "#######   50  ########\n",
      "#######   51  ########\n",
      "#######   52  ########\n",
      "#######   53  ########\n",
      "#######   54  ########\n",
      "#######   55  ########\n",
      "#######   56  ########\n",
      "#######   57  ########\n",
      "#######   58  ########\n",
      "#######   59  ########\n",
      "#######   60  ########\n",
      "#######   61  ########\n",
      "#######   62  ########\n",
      "#######   63  ########\n",
      "#######   64  ########\n",
      "#######   65  ########\n",
      "#######   66  ########\n",
      "#######   67  ########\n",
      "#######   68  ########\n",
      "#######   69  ########\n",
      "#######   70  ########\n",
      "#######   71  ########\n",
      "#######   72  ########\n",
      "#######   73  ########\n",
      "#######   74  ########\n",
      "#######   75  ########\n",
      "#######   76  ########\n",
      "#######   77  ########\n",
      "#######   78  ########\n",
      "#######   79  ########\n",
      "#######   80  ########\n",
      "#######   81  ########\n",
      "#######   82  ########\n",
      "#######   83  ########\n",
      "#######   84  ########\n",
      "#######   85  ########\n",
      "#######   86  ########\n",
      "#######   87  ########\n",
      "#######   88  ########\n",
      "#######   89  ########\n",
      "#######   90  ########\n",
      "#######   91  ########\n",
      "#######   92  ########\n",
      "#######   93  ########\n",
      "#######   94  ########\n",
      "#######   95  ########\n",
      "#######   96  ########\n",
      "#######   97  ########\n",
      "#######   98  ########\n",
      "#######   99  ########\n",
      "#######   100  ########\n",
      "#######   101  ########\n",
      "#######   102  ########\n",
      "#######   103  ########\n",
      "#######   104  ########\n",
      "#######   105  ########\n",
      "#######   106  ########\n",
      "#######   107  ########\n",
      "#######   108  ########\n",
      "#######   109  ########\n",
      "#######   110  ########\n",
      "#######   111  ########\n",
      "#######   112  ########\n",
      "#######   113  ########\n",
      "#######   114  ########\n",
      "#######   115  ########\n",
      "#######   116  ########\n",
      "#######   117  ########\n",
      "#######   118  ########\n",
      "#######   119  ########\n",
      "#######   120  ########\n",
      "#######   121  ########\n",
      "#######   122  ########\n",
      "#######   123  ########\n",
      "#######   124  ########\n",
      "#######   125  ########\n",
      "#######   126  ########\n",
      "#######   127  ########\n",
      "#######   128  ########\n",
      "#######   129  ########\n"
     ]
    }
   ],
   "source": [
    "saving_path_count = FILE.X_fe_agg_count_formater.value.format('0915V1')\n",
    "X = X.sort_values('time').reset_index(drop=True)\n",
    "result = auto_generate_func(X,user_list,ads_list,channel_list,time_list,\n",
    "                    count_func_list,\n",
    "                    dummy_col='instance_id',time_col='time',\n",
    "                    saving_path=saving_path_count)\n",
    "\n"
   ]
  },
  {
   "cell_type": "code",
   "execution_count": 14,
   "metadata": {
    "ExecuteTime": {
     "end_time": "2018-09-15T18:01:56.366112Z",
     "start_time": "2018-09-15T17:45:08.812344Z"
    },
    "scrolled": true
   },
   "outputs": [
    {
     "name": "stdout",
     "output_type": "stream",
     "text": [
      "#######   1  ########\n",
      "#######   2  ########\n",
      "#######   3  ########\n",
      "#######   4  ########\n",
      "#######   5  ########\n",
      "#######   6  ########\n",
      "#######   7  ########\n",
      "#######   8  ########\n",
      "#######   9  ########\n",
      "#######   10  ########\n",
      "#######   11  ########\n",
      "#######   12  ########\n",
      "#######   13  ########\n",
      "#######   14  ########\n",
      "#######   15  ########\n",
      "#######   16  ########\n",
      "#######   17  ########\n",
      "#######   18  ########\n",
      "#######   19  ########\n",
      "#######   20  ########\n",
      "#######   21  ########\n",
      "#######   22  ########\n",
      "#######   23  ########\n",
      "#######   24  ########\n",
      "#######   25  ########\n",
      "#######   26  ########\n",
      "#######   27  ########\n",
      "#######   28  ########\n",
      "#######   29  ########\n",
      "#######   30  ########\n",
      "#######   31  ########\n",
      "#######   32  ########\n",
      "#######   33  ########\n",
      "#######   34  ########\n",
      "#######   35  ########\n",
      "#######   36  ########\n",
      "#######   37  ########\n",
      "#######   38  ########\n",
      "#######   39  ########\n",
      "#######   40  ########\n",
      "#######   41  ########\n",
      "#######   42  ########\n",
      "#######   43  ########\n",
      "#######   44  ########\n",
      "#######   45  ########\n",
      "#######   46  ########\n",
      "#######   47  ########\n",
      "#######   48  ########\n",
      "#######   49  ########\n",
      "#######   50  ########\n",
      "#######   51  ########\n",
      "#######   52  ########\n",
      "#######   53  ########\n",
      "#######   54  ########\n",
      "#######   55  ########\n",
      "#######   56  ########\n",
      "#######   57  ########\n",
      "#######   58  ########\n",
      "#######   59  ########\n",
      "#######   60  ########\n",
      "#######   61  ########\n",
      "#######   62  ########\n",
      "#######   63  ########\n",
      "#######   64  ########\n",
      "#######   65  ########\n",
      "#######   66  ########\n",
      "#######   67  ########\n",
      "#######   68  ########\n",
      "#######   69  ########\n",
      "#######   70  ########\n",
      "#######   71  ########\n",
      "#######   72  ########\n",
      "#######   73  ########\n",
      "#######   74  ########\n",
      "#######   75  ########\n",
      "#######   76  ########\n",
      "#######   77  ########\n",
      "#######   78  ########\n",
      "#######   79  ########\n",
      "#######   80  ########\n",
      "#######   81  ########\n",
      "#######   82  ########\n",
      "#######   83  ########\n",
      "#######   84  ########\n",
      "#######   85  ########\n",
      "#######   86  ########\n",
      "#######   87  ########\n",
      "#######   88  ########\n",
      "#######   89  ########\n",
      "#######   90  ########\n",
      "#######   91  ########\n",
      "#######   92  ########\n",
      "#######   93  ########\n",
      "#######   94  ########\n",
      "#######   95  ########\n",
      "#######   96  ########\n",
      "#######   97  ########\n",
      "#######   98  ########\n",
      "#######   99  ########\n",
      "#######   100  ########\n",
      "#######   101  ########\n",
      "#######   102  ########\n",
      "#######   103  ########\n",
      "#######   104  ########\n",
      "#######   105  ########\n",
      "#######   106  ########\n",
      "#######   107  ########\n",
      "#######   108  ########\n",
      "#######   109  ########\n",
      "#######   110  ########\n",
      "#######   111  ########\n",
      "#######   112  ########\n",
      "#######   113  ########\n",
      "#######   114  ########\n",
      "#######   115  ########\n",
      "#######   116  ########\n",
      "#######   117  ########\n",
      "#######   118  ########\n",
      "#######   119  ########\n",
      "#######   120  ########\n",
      "#######   121  ########\n",
      "#######   122  ########\n",
      "#######   123  ########\n",
      "#######   124  ########\n",
      "#######   125  ########\n",
      "#######   126  ########\n",
      "#######   127  ########\n",
      "#######   128  ########\n",
      "#######   129  ########\n",
      "#######   130  ########\n",
      "#######   131  ########\n",
      "#######   132  ########\n",
      "#######   133  ########\n",
      "#######   134  ########\n",
      "#######   135  ########\n",
      "#######   136  ########\n",
      "#######   137  ########\n",
      "#######   138  ########\n",
      "#######   139  ########\n",
      "#######   140  ########\n",
      "#######   141  ########\n",
      "#######   142  ########\n",
      "#######   143  ########\n",
      "#######   144  ########\n",
      "#######   145  ########\n",
      "#######   146  ########\n",
      "#######   147  ########\n",
      "#######   148  ########\n",
      "#######   149  ########\n",
      "#######   150  ########\n",
      "#######   151  ########\n",
      "#######   152  ########\n",
      "#######   153  ########\n",
      "#######   154  ########\n",
      "#######   155  ########\n",
      "#######   156  ########\n",
      "#######   157  ########\n",
      "#######   158  ########\n",
      "#######   159  ########\n",
      "#######   160  ########\n",
      "#######   161  ########\n",
      "#######   162  ########\n",
      "#######   163  ########\n",
      "#######   164  ########\n",
      "#######   165  ########\n",
      "#######   166  ########\n",
      "#######   167  ########\n",
      "#######   168  ########\n",
      "#######   169  ########\n",
      "#######   170  ########\n",
      "#######   171  ########\n",
      "#######   172  ########\n",
      "#######   173  ########\n",
      "#######   174  ########\n",
      "#######   175  ########\n",
      "#######   176  ########\n",
      "#######   177  ########\n",
      "#######   178  ########\n",
      "#######   179  ########\n",
      "#######   180  ########\n",
      "#######   181  ########\n",
      "#######   182  ########\n",
      "#######   183  ########\n",
      "#######   184  ########\n",
      "#######   185  ########\n",
      "#######   186  ########\n",
      "#######   187  ########\n",
      "#######   188  ########\n",
      "#######   189  ########\n",
      "#######   190  ########\n",
      "#######   191  ########\n",
      "#######   192  ########\n",
      "#######   193  ########\n",
      "#######   194  ########\n",
      "#######   195  ########\n",
      "#######   196  ########\n",
      "#######   197  ########\n",
      "#######   198  ########\n",
      "#######   199  ########\n",
      "#######   200  ########\n"
     ]
    }
   ],
   "source": [
    "saving_path_timeNext = FILE.X_fe_agg_time_next_formater.value.format('0915V1')\n",
    "X = X.sort_values('time').reset_index(drop=True)\n",
    "result_timeNext =auto_generate_func(X,user_list,ads_list,channel_list,time_list,\n",
    "                    time_next_func_list,\n",
    "                    dummy_col='instance_id',time_col='time',\n",
    "                    saving_path=saving_path_timeNext)\n",
    "\n"
   ]
  },
  {
   "cell_type": "code",
   "execution_count": 16,
   "metadata": {
    "ExecuteTime": {
     "end_time": "2018-09-15T18:06:31.498995Z",
     "start_time": "2018-09-15T18:06:31.455827Z"
    }
   },
   "outputs": [
    {
     "data": {
      "text/plain": [
       "count     10691.000000\n",
       "mean    -123749.286877\n",
       "std      123193.953709\n",
       "min     -606818.000000\n",
       "25%     -173744.500000\n",
       "50%      -86698.000000\n",
       "75%       -1767.500000\n",
       "max           0.000000\n",
       "Name: user4_ads4_channel3_hour1_time_to_n_previous, dtype: float64"
      ]
     },
     "execution_count": 16,
     "metadata": {},
     "output_type": "execute_result"
    }
   ],
   "source": [
    "result_timeNext['user4_ads4_channel3_hour1_time_to_n_previous'].describe()"
   ]
  },
  {
   "cell_type": "code",
   "execution_count": 17,
   "metadata": {
    "ExecuteTime": {
     "end_time": "2018-09-15T23:51:02.436951Z",
     "start_time": "2018-09-15T18:08:53.772762Z"
    }
   },
   "outputs": [
    {
     "name": "stdout",
     "output_type": "stream",
     "text": [
      "#######   1  ########\n"
     ]
    },
    {
     "ename": "KeyboardInterrupt",
     "evalue": "",
     "output_type": "error",
     "traceback": [
      "\u001b[0;31m---------------------------------------------------------------------------\u001b[0m",
      "\u001b[0;31mKeyboardInterrupt\u001b[0m                         Traceback (most recent call last)",
      "\u001b[0;32m?\u001b[0m in \u001b[0;36m<module>\u001b[0;34m()\u001b[0m\n\u001b[1;32m      4\u001b[0m                     \u001b[0mcount_time_func_list\u001b[0m\u001b[0;34m,\u001b[0m\u001b[0;34m\u001b[0m\u001b[0m\n\u001b[1;32m      5\u001b[0m                     \u001b[0mdummy_col\u001b[0m\u001b[0;34m=\u001b[0m\u001b[0;34m'instance_id'\u001b[0m\u001b[0;34m,\u001b[0m\u001b[0mtime_col\u001b[0m\u001b[0;34m=\u001b[0m\u001b[0;34m'time'\u001b[0m\u001b[0;34m,\u001b[0m\u001b[0;34m\u001b[0m\u001b[0m\n\u001b[0;32m----> 6\u001b[0;31m                     saving_path=saving_path_timeCount)\n\u001b[0m",
      "\u001b[0;32m?\u001b[0m in \u001b[0;36mauto_generate_func\u001b[0;34m(X, user_list, ads_list, channel_list, time_list, func_list, dummy_col, time_col, saving_path)\u001b[0m\n\u001b[1;32m     29\u001b[0m                                 result[feature_name+'_10min'] =func(X,col_time,dummy_col=dummy_col,\n\u001b[1;32m     30\u001b[0m                                                          \u001b[0mgenerated_feature_name\u001b[0m\u001b[0;34m=\u001b[0m\u001b[0mfeature_name\u001b[0m\u001b[0;34m,\u001b[0m\u001b[0;34m\u001b[0m\u001b[0m\n\u001b[0;32m---> 31\u001b[0;31m                                                          params={'n':60*10})[feature_name]\n\u001b[0m\u001b[1;32m     32\u001b[0m                                 \u001b[0mneed_save_result\u001b[0m \u001b[0;34m=\u001b[0m \u001b[0;32mTrue\u001b[0m\u001b[0;34m\u001b[0m\u001b[0m\n\u001b[1;32m     33\u001b[0m                             \u001b[0;32mif\u001b[0m \u001b[0mfeature_name\u001b[0m\u001b[0;34m+\u001b[0m\u001b[0;34m'_60min'\u001b[0m \u001b[0;32mnot\u001b[0m \u001b[0;32min\u001b[0m \u001b[0mresult\u001b[0m\u001b[0;34m.\u001b[0m\u001b[0mcolumns\u001b[0m\u001b[0;34m:\u001b[0m\u001b[0;34m\u001b[0m\u001b[0m\n",
      "\u001b[0;32m~/data/weiluo/AlphaBoosting/automl/automl_libs/feature_engineering.py\u001b[0m in \u001b[0;36mcount_in_previous_n_time_unit\u001b[0;34m(df, cols, dummy_col, generated_feature_name, params)\u001b[0m\n\u001b[1;32m    480\u001b[0m             \u001b[0mbound\u001b[0m \u001b[0;34m+=\u001b[0m \u001b[0;36m1\u001b[0m\u001b[0;34m\u001b[0m\u001b[0m\n\u001b[1;32m    481\u001b[0m         \u001b[0mresult\u001b[0m\u001b[0;34m.\u001b[0m\u001b[0mappend\u001b[0m\u001b[0;34m(\u001b[0m\u001b[0mdict_count\u001b[0m\u001b[0;34m[\u001b[0m\u001b[0mencodings\u001b[0m\u001b[0;34m[\u001b[0m\u001b[0mcur\u001b[0m\u001b[0;34m]\u001b[0m\u001b[0;34m]\u001b[0m\u001b[0;34m)\u001b[0m\u001b[0;34m\u001b[0m\u001b[0m\n\u001b[0;32m--> 482\u001b[0;31m         \u001b[0mdict_count\u001b[0m\u001b[0;34m[\u001b[0m\u001b[0mencodings\u001b[0m\u001b[0;34m[\u001b[0m\u001b[0mcur\u001b[0m\u001b[0;34m]\u001b[0m\u001b[0;34m]\u001b[0m \u001b[0;34m+=\u001b[0m \u001b[0;36m1\u001b[0m\u001b[0;34m\u001b[0m\u001b[0m\n\u001b[0m\u001b[1;32m    483\u001b[0m     \u001b[0mr\u001b[0m \u001b[0;34m=\u001b[0m \u001b[0mpd\u001b[0m\u001b[0;34m.\u001b[0m\u001b[0mDataFrame\u001b[0m\u001b[0;34m(\u001b[0m\u001b[0mresult\u001b[0m\u001b[0;34m,\u001b[0m \u001b[0mcolumns\u001b[0m\u001b[0;34m=\u001b[0m\u001b[0;34m[\u001b[0m\u001b[0mgenerated_feature_name\u001b[0m\u001b[0;34m]\u001b[0m\u001b[0;34m,\u001b[0m \u001b[0mdtype\u001b[0m\u001b[0;34m=\u001b[0m\u001b[0mutils\u001b[0m\u001b[0;34m.\u001b[0m\u001b[0mset_type\u001b[0m\u001b[0;34m(\u001b[0m\u001b[0mresult\u001b[0m\u001b[0;34m,\u001b[0m \u001b[0;34m'uint'\u001b[0m\u001b[0;34m)\u001b[0m\u001b[0;34m)\u001b[0m\u001b[0;34m\u001b[0m\u001b[0m\n\u001b[1;32m    484\u001b[0m     \u001b[0;32mdel\u001b[0m \u001b[0mencodings\u001b[0m\u001b[0;34m,\u001b[0m \u001b[0mtimes\u001b[0m\u001b[0;34m,\u001b[0m \u001b[0mdict_count\u001b[0m\u001b[0;34m,\u001b[0m \u001b[0mresult\u001b[0m\u001b[0;34m,\u001b[0m \u001b[0mbound\u001b[0m\u001b[0;34m,\u001b[0m \u001b[0mn\u001b[0m\u001b[0;34m\u001b[0m\u001b[0m\n",
      "\u001b[0;31mKeyboardInterrupt\u001b[0m: "
     ]
    }
   ],
   "source": [
    "saving_path_timeCount = FILE.X_fe_agg_time_count_formater.value.format('0915V1')\n",
    "X = X.sort_values('time').reset_index(drop=True)\n",
    "auto_generate_func(X,user_list,ads_list,channel_list,time_list,\n",
    "                    count_time_func_list,\n",
    "                    dummy_col='instance_id',time_col='time',\n",
    "                    saving_path=saving_path_timeCount)"
   ]
  },
  {
   "cell_type": "code",
   "execution_count": null,
   "metadata": {},
   "outputs": [],
   "source": []
  }
 ],
 "metadata": {
  "kernelspec": {
   "display_name": "Python 3",
   "language": "python",
   "name": "python3"
  },
  "varInspector": {
   "cols": {
    "lenName": 16,
    "lenType": 16,
    "lenVar": 40
   },
   "kernels_config": {
    "python": {
     "delete_cmd_postfix": "",
     "delete_cmd_prefix": "del ",
     "library": "var_list.py",
     "varRefreshCmd": "print(var_dic_list())"
    },
    "r": {
     "delete_cmd_postfix": ") ",
     "delete_cmd_prefix": "rm(",
     "library": "var_list.r",
     "varRefreshCmd": "cat(var_dic_list()) "
    }
   },
   "types_to_exclude": [
    "module",
    "function",
    "builtin_function_or_method",
    "instance",
    "_Feature"
   ],
   "window_display": false
  }
 },
 "nbformat": 4,
 "nbformat_minor": 2
}
