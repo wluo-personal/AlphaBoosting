{
 "cells": [
  {
   "cell_type": "code",
   "execution_count": 1,
   "metadata": {
    "ExecuteTime": {
     "end_time": "2018-09-19T04:53:03.640679Z",
     "start_time": "2018-09-19T04:53:03.110591Z"
    }
   },
   "outputs": [],
   "source": [
    "__file__=''\n",
    "import os,sys\n",
    "import pandas as pd\n",
    "sys.path.append(os.path.join(os.path.dirname(__file__),'../LIB/'))\n",
    "sys.path.append(os.path.join(os.path.dirname(__file__),'../../../../automl/automl_libs/'))\n",
    "from env import FILE\n",
    "import utils\n",
    "from itertools import combinations\n",
    "from feature_engineering import *\n",
    "from tqdm import tqdm\n",
    "from sklearn.preprocessing import LabelEncoder\n",
    "import gc\n",
    "from sklearn.metrics import log_loss\n",
    "from tqdm import tqdm\n",
    "import re\n",
    "\n",
    "\n",
    "from sklearn.svm import LinearSVC\n",
    "from sklearn.linear_model import LogisticRegression\n",
    "from sklearn.calibration import CalibratedClassifierCV\n",
    "from sklearn.model_selection import KFold, StratifiedKFold\n",
    "from sklearn.metrics import log_loss,roc_auc_score\n",
    "from sklearn.feature_extraction.text import CountVectorizer, TfidfVectorizer, TfidfTransformer\n",
    "import pickle\n",
    "from sklearn.linear_model import LogisticRegression\n",
    "le = LabelEncoder()"
   ]
  },
  {
   "cell_type": "code",
   "execution_count": 2,
   "metadata": {
    "ExecuteTime": {
     "end_time": "2018-09-19T04:53:46.439961Z",
     "start_time": "2018-09-19T04:53:45.628304Z"
    }
   },
   "outputs": [],
   "source": [
    "train_doc = pd.read_pickle('../../data/fe_doc/train_doc.pkl')\n",
    "test_doc = pd.read_pickle('../../data/fe_doc/test_doc.pkl')"
   ]
  },
  {
   "cell_type": "markdown",
   "metadata": {
    "ExecuteTime": {
     "end_time": "2018-09-18T18:36:52.109348Z",
     "start_time": "2018-09-18T18:36:52.103583Z"
    }
   },
   "source": [
    "# TFIDF"
   ]
  },
  {
   "cell_type": "code",
   "execution_count": 3,
   "metadata": {
    "ExecuteTime": {
     "end_time": "2018-09-19T04:53:51.280363Z",
     "start_time": "2018-09-19T04:53:50.840167Z"
    }
   },
   "outputs": [],
   "source": [
    "\n",
    "holdout_index = pickle.load(open(FILE.holdout_index.value,'rb'))\n",
    "train_index = pickle.load(open(FILE.train_index.value,'rb'))\n",
    "train_cv = train_doc.loc[train_index].copy()\n",
    "holdout = train_doc.loc[holdout_index].copy()"
   ]
  },
  {
   "cell_type": "code",
   "execution_count": 5,
   "metadata": {
    "ExecuteTime": {
     "end_time": "2018-09-19T04:55:32.121384Z",
     "start_time": "2018-09-19T04:54:30.295297Z"
    }
   },
   "outputs": [],
   "source": [
    "tft = TfidfVectorizer(token_pattern=r'(?u)\\b[\\w.-]+\\b',\n",
    "                max_features=500000)\n",
    "tfidf = tft.fit(pd.concat([train_doc['text'],test_doc['text']]))\n",
    "\n",
    "holdout_matrix = tfidf.transform(holdout['text'])\n",
    "test_matrix = tfidf.transform(test_doc['text'])"
   ]
  },
  {
   "cell_type": "code",
   "execution_count": 12,
   "metadata": {
    "ExecuteTime": {
     "end_time": "2018-09-19T04:04:57.503492Z",
     "start_time": "2018-09-19T04:04:57.187526Z"
    }
   },
   "outputs": [],
   "source": [
    "n_fold = 5\n",
    "sf = StratifiedKFold(n_splits=5,shuffle= True,random_state=20)\n",
    "train_index_list = []\n",
    "val_index_list = []\n",
    "for t,v in sf.split(train_cv,train_cv.click):\n",
    "    train_index_list.append(t)\n",
    "    val_index_list.append(v)"
   ]
  },
  {
   "cell_type": "code",
   "execution_count": 13,
   "metadata": {
    "ExecuteTime": {
     "end_time": "2018-09-19T04:05:01.949530Z",
     "start_time": "2018-09-19T04:05:01.946066Z"
    }
   },
   "outputs": [
    {
     "data": {
      "text/plain": [
       "(961626, 2)"
      ]
     },
     "execution_count": 13,
     "metadata": {},
     "output_type": "execute_result"
    }
   ],
   "source": [
    "train_cv.shape"
   ]
  },
  {
   "cell_type": "code",
   "execution_count": 14,
   "metadata": {
    "ExecuteTime": {
     "end_time": "2018-09-19T04:05:06.705044Z",
     "start_time": "2018-09-19T04:05:06.695624Z"
    }
   },
   "outputs": [],
   "source": [
    "def cross_validation(train_set,train_index_list,val_index_list,tfidf,holdout_x,holdout_y,test_x):\n",
    "    n_fold = len(train_index_list)\n",
    "    roc_list = []\n",
    "    log_list = []\n",
    "    hold_out_score_list = []\n",
    "    hold_out_preds_list = []\n",
    "    test_list = []\n",
    "    for fold in range(n_fold):\n",
    "        train_x = tfidf.transform(train_set.iloc[train_index_list[fold]]['text'])\n",
    "        train_y = train_set.iloc[train_index_list[fold]]['click'].values\n",
    "        print('done train tfidf')\n",
    "        val_x = tfidf.transform(train_set.iloc[val_index_list[fold]]['text'])\n",
    "        val_y = train_set.iloc[val_index_list[fold]]['click'].values\n",
    "        print('done val tfidf')\n",
    "        \n",
    "\n",
    "    #     l_svc = LinearSVC()\n",
    "    #     lsvc = CalibratedClassifierCV(l_svc) \n",
    "    #     lsvc.fit(train_x, train_y)\n",
    "    #     preds = lsvc.predict_proba(val_x)[:,1]\n",
    "\n",
    "        lg = LogisticRegression()\n",
    "        lg.fit(train_x, train_y)\n",
    "        preds = lg.predict_proba(val_x)[:,1]\n",
    "        preds_holdout = lg.predict_proba(holdout_x)[:,1]\n",
    "        preds_test = lg.predict_proba(test_x)[:,1]\n",
    "\n",
    "        log_score = log_loss(val_y,preds)\n",
    "        roc_score = roc_auc_score(val_y,preds)\n",
    "        log_score_ho = log_loss(holdout_y,preds_holdout)\n",
    "        roc_score_ho = roc_auc_score(holdout_y,preds_holdout)\n",
    "        print('fold {} ends. Logloss is: {}. Roc score is: {}'.format(fold,log_score,roc_score))\n",
    "        print('fold {} ends. Logloss holdout is: {}. Roc score holdout is: {}'.format(fold,log_score_ho,roc_score_ho))\n",
    "\n",
    "        log_list.append(log_score)\n",
    "        roc_list.append(roc_score)\n",
    "        hold_out_preds_list.append(preds_holdout)\n",
    "        hold_out_score_list.append(log_score_ho)\n",
    "        test_list.append(preds_test)\n",
    "    ho = np.mean(hold_out_preds_list,axis=0)\n",
    "    ho_overall = log_loss(holdout_y,ho)\n",
    "    test_return = np.mean(test_list,axis=0)\n",
    "    print('{} fold logloss is: {}'.format(n_fold,np.mean(log_list)))\n",
    "    print('{} fold roc is: {}'.format(n_fold,np.mean(roc_list)))\n",
    "    print('{} fold mean hold out is: {}'.format(n_fold,np.mean(hold_out_score_list)))\n",
    "    print('{} fold overall hold out is: {}'.format(n_fold,ho_overall))\n",
    "    return ho,test_return"
   ]
  },
  {
   "cell_type": "code",
   "execution_count": 15,
   "metadata": {
    "ExecuteTime": {
     "end_time": "2018-09-19T04:09:16.310505Z",
     "start_time": "2018-09-19T04:05:20.574469Z"
    }
   },
   "outputs": [
    {
     "name": "stdout",
     "output_type": "stream",
     "text": [
      "done train tfidf\n",
      "done val tfidf\n",
      "fold 0 ends. Logloss is: 0.419051953152452. Roc score is: 0.7627029220582975\n",
      "fold 0 ends. Logloss holdout is: 0.4297131504702662. Roc score holdout is: 0.762086938254896\n",
      "done train tfidf\n",
      "done val tfidf\n",
      "fold 1 ends. Logloss is: 0.41781310251249104. Roc score is: 0.7651620714044061\n",
      "fold 1 ends. Logloss holdout is: 0.4292372642829562. Roc score holdout is: 0.7628263468081055\n",
      "done train tfidf\n",
      "done val tfidf\n"
     ]
    },
    {
     "ename": "KeyboardInterrupt",
     "evalue": "",
     "output_type": "error",
     "traceback": [
      "\u001b[0;31m---------------------------------------------------------------------------\u001b[0m",
      "\u001b[0;31mKeyboardInterrupt\u001b[0m                         Traceback (most recent call last)",
      "\u001b[0;32m?\u001b[0m in \u001b[0;36m<module>\u001b[0;34m()\u001b[0m\n\u001b[0;32m----> 1\u001b[0;31m \u001b[0mho_log_preds\u001b[0m\u001b[0;34m,\u001b[0m\u001b[0mtest_log_preds\u001b[0m \u001b[0;34m=\u001b[0m \u001b[0mcross_validation\u001b[0m\u001b[0;34m(\u001b[0m\u001b[0mtrain_cv\u001b[0m\u001b[0;34m,\u001b[0m\u001b[0mtrain_index_list\u001b[0m\u001b[0;34m,\u001b[0m\u001b[0mval_index_list\u001b[0m\u001b[0;34m,\u001b[0m\u001b[0mtfidf\u001b[0m\u001b[0;34m,\u001b[0m\u001b[0mholdout_matrix\u001b[0m\u001b[0;34m,\u001b[0m\u001b[0mholdout\u001b[0m\u001b[0;34m.\u001b[0m\u001b[0mclick\u001b[0m\u001b[0;34m.\u001b[0m\u001b[0mvalues\u001b[0m\u001b[0;34m,\u001b[0m\u001b[0mtest_matrix\u001b[0m\u001b[0;34m)\u001b[0m\u001b[0;34m\u001b[0m\u001b[0m\n\u001b[0m",
      "\u001b[0;32m?\u001b[0m in \u001b[0;36mcross_validation\u001b[0;34m(train_set, train_index_list, val_index_list, tfidf, holdout_x, holdout_y, test_x)\u001b[0m\n\u001b[1;32m     21\u001b[0m \u001b[0;34m\u001b[0m\u001b[0m\n\u001b[1;32m     22\u001b[0m         \u001b[0mlg\u001b[0m \u001b[0;34m=\u001b[0m \u001b[0mLogisticRegression\u001b[0m\u001b[0;34m(\u001b[0m\u001b[0;34m)\u001b[0m\u001b[0;34m\u001b[0m\u001b[0m\n\u001b[0;32m---> 23\u001b[0;31m         \u001b[0mlg\u001b[0m\u001b[0;34m.\u001b[0m\u001b[0mfit\u001b[0m\u001b[0;34m(\u001b[0m\u001b[0mtrain_x\u001b[0m\u001b[0;34m,\u001b[0m \u001b[0mtrain_y\u001b[0m\u001b[0;34m)\u001b[0m\u001b[0;34m\u001b[0m\u001b[0m\n\u001b[0m\u001b[1;32m     24\u001b[0m         \u001b[0mpreds\u001b[0m \u001b[0;34m=\u001b[0m \u001b[0mlg\u001b[0m\u001b[0;34m.\u001b[0m\u001b[0mpredict_proba\u001b[0m\u001b[0;34m(\u001b[0m\u001b[0mval_x\u001b[0m\u001b[0;34m)\u001b[0m\u001b[0;34m[\u001b[0m\u001b[0;34m:\u001b[0m\u001b[0;34m,\u001b[0m\u001b[0;36m1\u001b[0m\u001b[0;34m]\u001b[0m\u001b[0;34m\u001b[0m\u001b[0m\n\u001b[1;32m     25\u001b[0m         \u001b[0mpreds_holdout\u001b[0m \u001b[0;34m=\u001b[0m \u001b[0mlg\u001b[0m\u001b[0;34m.\u001b[0m\u001b[0mpredict_proba\u001b[0m\u001b[0;34m(\u001b[0m\u001b[0mholdout_x\u001b[0m\u001b[0;34m)\u001b[0m\u001b[0;34m[\u001b[0m\u001b[0;34m:\u001b[0m\u001b[0;34m,\u001b[0m\u001b[0;36m1\u001b[0m\u001b[0;34m]\u001b[0m\u001b[0;34m\u001b[0m\u001b[0m\n",
      "\u001b[0;32m~/anaconda3/lib/python3.6/site-packages/sklearn/linear_model/logistic.py\u001b[0m in \u001b[0;36mfit\u001b[0;34m(self, X, y, sample_weight)\u001b[0m\n\u001b[1;32m   1231\u001b[0m                 \u001b[0mself\u001b[0m\u001b[0;34m.\u001b[0m\u001b[0mclass_weight\u001b[0m\u001b[0;34m,\u001b[0m \u001b[0mself\u001b[0m\u001b[0;34m.\u001b[0m\u001b[0mpenalty\u001b[0m\u001b[0;34m,\u001b[0m \u001b[0mself\u001b[0m\u001b[0;34m.\u001b[0m\u001b[0mdual\u001b[0m\u001b[0;34m,\u001b[0m \u001b[0mself\u001b[0m\u001b[0;34m.\u001b[0m\u001b[0mverbose\u001b[0m\u001b[0;34m,\u001b[0m\u001b[0;34m\u001b[0m\u001b[0m\n\u001b[1;32m   1232\u001b[0m                 \u001b[0mself\u001b[0m\u001b[0;34m.\u001b[0m\u001b[0mmax_iter\u001b[0m\u001b[0;34m,\u001b[0m \u001b[0mself\u001b[0m\u001b[0;34m.\u001b[0m\u001b[0mtol\u001b[0m\u001b[0;34m,\u001b[0m \u001b[0mself\u001b[0m\u001b[0;34m.\u001b[0m\u001b[0mrandom_state\u001b[0m\u001b[0;34m,\u001b[0m\u001b[0;34m\u001b[0m\u001b[0m\n\u001b[0;32m-> 1233\u001b[0;31m                 sample_weight=sample_weight)\n\u001b[0m\u001b[1;32m   1234\u001b[0m             \u001b[0mself\u001b[0m\u001b[0;34m.\u001b[0m\u001b[0mn_iter_\u001b[0m \u001b[0;34m=\u001b[0m \u001b[0mnp\u001b[0m\u001b[0;34m.\u001b[0m\u001b[0marray\u001b[0m\u001b[0;34m(\u001b[0m\u001b[0;34m[\u001b[0m\u001b[0mn_iter_\u001b[0m\u001b[0;34m]\u001b[0m\u001b[0;34m)\u001b[0m\u001b[0;34m\u001b[0m\u001b[0m\n\u001b[1;32m   1235\u001b[0m             \u001b[0;32mreturn\u001b[0m \u001b[0mself\u001b[0m\u001b[0;34m\u001b[0m\u001b[0m\n",
      "\u001b[0;32m~/anaconda3/lib/python3.6/site-packages/sklearn/svm/base.py\u001b[0m in \u001b[0;36m_fit_liblinear\u001b[0;34m(X, y, C, fit_intercept, intercept_scaling, class_weight, penalty, dual, verbose, max_iter, tol, random_state, multi_class, loss, epsilon, sample_weight)\u001b[0m\n\u001b[1;32m    888\u001b[0m         \u001b[0mX\u001b[0m\u001b[0;34m,\u001b[0m \u001b[0my_ind\u001b[0m\u001b[0;34m,\u001b[0m \u001b[0msp\u001b[0m\u001b[0;34m.\u001b[0m\u001b[0misspmatrix\u001b[0m\u001b[0;34m(\u001b[0m\u001b[0mX\u001b[0m\u001b[0;34m)\u001b[0m\u001b[0;34m,\u001b[0m \u001b[0msolver_type\u001b[0m\u001b[0;34m,\u001b[0m \u001b[0mtol\u001b[0m\u001b[0;34m,\u001b[0m \u001b[0mbias\u001b[0m\u001b[0;34m,\u001b[0m \u001b[0mC\u001b[0m\u001b[0;34m,\u001b[0m\u001b[0;34m\u001b[0m\u001b[0m\n\u001b[1;32m    889\u001b[0m         \u001b[0mclass_weight_\u001b[0m\u001b[0;34m,\u001b[0m \u001b[0mmax_iter\u001b[0m\u001b[0;34m,\u001b[0m \u001b[0mrnd\u001b[0m\u001b[0;34m.\u001b[0m\u001b[0mrandint\u001b[0m\u001b[0;34m(\u001b[0m\u001b[0mnp\u001b[0m\u001b[0;34m.\u001b[0m\u001b[0miinfo\u001b[0m\u001b[0;34m(\u001b[0m\u001b[0;34m'i'\u001b[0m\u001b[0;34m)\u001b[0m\u001b[0;34m.\u001b[0m\u001b[0mmax\u001b[0m\u001b[0;34m)\u001b[0m\u001b[0;34m,\u001b[0m\u001b[0;34m\u001b[0m\u001b[0m\n\u001b[0;32m--> 890\u001b[0;31m         epsilon, sample_weight)\n\u001b[0m\u001b[1;32m    891\u001b[0m     \u001b[0;31m# Regarding rnd.randint(..) in the above signature:\u001b[0m\u001b[0;34m\u001b[0m\u001b[0;34m\u001b[0m\u001b[0m\n\u001b[1;32m    892\u001b[0m     \u001b[0;31m# seed for srand in range [0..INT_MAX); due to limitations in Numpy\u001b[0m\u001b[0;34m\u001b[0m\u001b[0;34m\u001b[0m\u001b[0m\n",
      "\u001b[0;31mKeyboardInterrupt\u001b[0m: "
     ]
    }
   ],
   "source": [
    "ho_log_preds,test_log_preds = cross_validation(train_cv,train_index_list,val_index_list,tfidf,holdout_matrix,holdout.click.values,test_matrix)"
   ]
  },
  {
   "cell_type": "code",
   "execution_count": 14,
   "metadata": {
    "ExecuteTime": {
     "end_time": "2018-09-18T20:52:35.130797Z",
     "start_time": "2018-09-18T20:46:22.243375Z"
    }
   },
   "outputs": [
    {
     "name": "stdout",
     "output_type": "stream",
     "text": [
      "done train tfidf\n",
      "done val tfidf\n",
      "fold 0 ends. Logloss is: 0.41911197470877354. Roc score is: 0.762721805982848\n",
      "fold 0 ends. Logloss holdout is: 0.4299107188509282. Roc score holdout is: 0.7617711656041624\n",
      "done train tfidf\n",
      "done val tfidf\n",
      "fold 1 ends. Logloss is: 0.4178221464163864. Roc score is: 0.7652451855650636\n",
      "fold 1 ends. Logloss holdout is: 0.42943473711744334. Roc score holdout is: 0.7625517174065715\n",
      "done train tfidf\n",
      "done val tfidf\n",
      "fold 2 ends. Logloss is: 0.4183649923295717. Roc score is: 0.7639747046214409\n",
      "fold 2 ends. Logloss holdout is: 0.4296427213866519. Roc score holdout is: 0.7618465792200266\n",
      "done train tfidf\n",
      "done val tfidf\n",
      "fold 3 ends. Logloss is: 0.41944988731000094. Roc score is: 0.7630068469643847\n",
      "fold 3 ends. Logloss holdout is: 0.4293827018127397. Roc score holdout is: 0.7626829153547374\n",
      "done train tfidf\n",
      "done val tfidf\n",
      "fold 4 ends. Logloss is: 0.41823477969576794. Roc score is: 0.7649211593807996\n",
      "fold 4 ends. Logloss holdout is: 0.42959019260064457. Roc score holdout is: 0.7619245283163663\n",
      "5 fold logloss is: 0.4185967560921002\n",
      "5 fold roc is: 0.7639739405029073\n",
      "5 fold mean hold out is: 0.42959221435368156\n",
      "5 fold overall hold out is: 0.4292245118562433\n"
     ]
    }
   ],
   "source": [
    "ho_log_preds,test_log_preds = cross_validation(train_cv,train_index_list,val_index_list,tfidf,holdout_matrix,holdout.click.values,test_matrix)"
   ]
  },
  {
   "cell_type": "code",
   "execution_count": 15,
   "metadata": {
    "ExecuteTime": {
     "end_time": "2018-09-18T20:52:35.138738Z",
     "start_time": "2018-09-18T20:52:35.132622Z"
    }
   },
   "outputs": [],
   "source": [
    "def cross_validation_svc(train_set,train_index_list,val_index_list,tfidf,holdout_x,holdout_y,test_x):\n",
    "    n_fold = len(train_index_list)\n",
    "    roc_list = []\n",
    "    log_list = []\n",
    "    hold_out_score_list = []\n",
    "    hold_out_preds_list = []\n",
    "    test_list = []\n",
    "    for fold in range(n_fold):\n",
    "        train_x = tfidf.transform(train_set.iloc[train_index_list[fold]]['text'])\n",
    "        train_y = train_set.iloc[train_index_list[fold]]['click'].values\n",
    "        print('done train tfidf')\n",
    "        val_x = tfidf.transform(train_set.iloc[val_index_list[fold]]['text'])\n",
    "        val_y = train_set.iloc[val_index_list[fold]]['click'].values\n",
    "        print('done val tfidf')\n",
    "        \n",
    "\n",
    "        l_svc = LinearSVC()\n",
    "        lsvc = CalibratedClassifierCV(l_svc) \n",
    "        lsvc.fit(train_x, train_y)\n",
    "        preds = lsvc.predict_proba(val_x)[:,1]\n",
    "        preds_holdout = lsvc.predict_proba(holdout_x)[:,1]\n",
    "        preds_test = lsvc.predict_proba(test_x)[:,1]\n",
    "\n",
    "#         lg = LogisticRegression()\n",
    "#         lg.fit(train_x, train_y)\n",
    "#         preds = lg.predict_proba(val_x)[:,1]\n",
    "#         preds_holdout = lg.predict_proba(holdout_x)[:,1]\n",
    "#         preds_test = lg.predict_proba(test_x)[:,1]\n",
    "\n",
    "        log_score = log_loss(val_y,preds)\n",
    "        roc_score = roc_auc_score(val_y,preds)\n",
    "        log_score_ho = log_loss(holdout_y,preds_holdout)\n",
    "        roc_score_ho = roc_auc_score(holdout_y,preds_holdout)\n",
    "        print('fold {} ends. Logloss is: {}. Roc score is: {}'.format(fold,log_score,roc_score))\n",
    "        print('fold {} ends. Logloss holdout is: {}. Roc score holdout is: {}'.format(fold,log_score_ho,roc_score_ho))\n",
    "\n",
    "        log_list.append(log_score)\n",
    "        roc_list.append(roc_score)\n",
    "        hold_out_preds_list.append(preds_holdout)\n",
    "        hold_out_score_list.append(log_score_ho)\n",
    "        test_list.append(preds_test)\n",
    "    ho = np.mean(hold_out_preds_list,axis=0)\n",
    "    ho_overall = log_loss(holdout_y,ho)\n",
    "    test_return = np.mean(test_list,axis=0)\n",
    "    print('{} fold logloss is: {}'.format(n_fold,np.mean(log_list)))\n",
    "    print('{} fold roc is: {}'.format(n_fold,np.mean(roc_list)))\n",
    "    print('{} fold mean hold out is: {}'.format(n_fold,np.mean(hold_out_score_list)))\n",
    "    print('{} fold overall hold out is: {}'.format(n_fold,ho_overall))\n",
    "    return ho,test_return"
   ]
  },
  {
   "cell_type": "code",
   "execution_count": 16,
   "metadata": {
    "ExecuteTime": {
     "end_time": "2018-09-18T20:59:02.410598Z",
     "start_time": "2018-09-18T20:52:35.140608Z"
    }
   },
   "outputs": [
    {
     "name": "stdout",
     "output_type": "stream",
     "text": [
      "done train tfidf\n",
      "done val tfidf\n",
      "fold 0 ends. Logloss is: 0.4265399266021514. Roc score is: 0.7595579482509007\n",
      "fold 0 ends. Logloss holdout is: 0.43807563342576433. Roc score holdout is: 0.7583700028764536\n",
      "done train tfidf\n",
      "done val tfidf\n",
      "fold 1 ends. Logloss is: 0.42559086250587. Roc score is: 0.7620663902085789\n",
      "fold 1 ends. Logloss holdout is: 0.43747327868739544. Roc score holdout is: 0.7595119245979104\n",
      "done train tfidf\n",
      "done val tfidf\n",
      "fold 2 ends. Logloss is: 0.42585441982601585. Roc score is: 0.7606007759513209\n",
      "fold 2 ends. Logloss holdout is: 0.43780144744928995. Roc score holdout is: 0.7587191769087037\n",
      "done train tfidf\n",
      "done val tfidf\n",
      "fold 3 ends. Logloss is: 0.4266954173483883. Roc score is: 0.7595487981777704\n",
      "fold 3 ends. Logloss holdout is: 0.437141558764647. Roc score holdout is: 0.7598632278318653\n",
      "done train tfidf\n",
      "done val tfidf\n",
      "fold 4 ends. Logloss is: 0.4252691830828662. Roc score is: 0.7616945787534134\n",
      "fold 4 ends. Logloss holdout is: 0.437578919400539. Roc score holdout is: 0.7590964782221337\n",
      "5 fold logloss is: 0.4259899618730584\n",
      "5 fold roc is: 0.760693698268397\n",
      "5 fold mean hold out is: 0.4376141675455272\n",
      "5 fold overall hold out is: 0.43691017300870544\n"
     ]
    }
   ],
   "source": [
    "ho_svc_preds,test_svc_preds = cross_validation_svc(train_cv,train_index_list,val_index_list,tfidf,holdout_matrix,holdout.click.values,test_matrix)"
   ]
  },
  {
   "cell_type": "code",
   "execution_count": 25,
   "metadata": {
    "ExecuteTime": {
     "end_time": "2018-09-18T21:06:12.403964Z",
     "start_time": "2018-09-18T21:06:11.990694Z"
    }
   },
   "outputs": [],
   "source": [
    "df_ho_log = pd.DataFrame({'preds':ho_log_preds,'instance_id':train.loc[holdout_index,'instance_id'].values})\n",
    "df_test_log = pd.DataFrame({'predicted_score':test_log_preds,'instance_id':test.instance_id.values})\n",
    "\n",
    "df_ho_svc = pd.DataFrame({'preds':ho_svc_preds,'instance_id':train.loc[holdout_index,'instance_id'].values})\n",
    "df_test_svc = pd.DataFrame({'predicted_score':test_svc_preds,'instance_id':test.instance_id.values})\n",
    "\n",
    "\n",
    "df_ho_log.to_csv('ho_logistic.csv',index=False)\n",
    "df_test_log.to_csv('test_logistic.csv',index=False)\n",
    "df_ho_svc.to_csv('ho_svc.csv',index=False)\n",
    "df_test_svc.to_csv('test_svc.csv',index=False)"
   ]
  },
  {
   "cell_type": "markdown",
   "metadata": {
    "ExecuteTime": {
     "end_time": "2018-09-18T20:59:02.414034Z",
     "start_time": "2018-09-18T20:59:02.412213Z"
    }
   },
   "source": [
    "# count vectorizer"
   ]
  },
  {
   "cell_type": "code",
   "execution_count": 26,
   "metadata": {
    "ExecuteTime": {
     "end_time": "2018-09-18T21:20:31.591892Z",
     "start_time": "2018-09-18T21:19:29.537373Z"
    }
   },
   "outputs": [],
   "source": [
    "tft = CountVectorizer(token_pattern=r'(?u)\\b[\\w.-]+\\b',\n",
    "                max_features=500000)\n",
    "tfidf = tft.fit(all_doc)\n",
    "\n",
    "holdout_matrix = tfidf.transform(holdout['text'])\n",
    "test_matrix = tfidf.transform(test_doc['text'])"
   ]
  },
  {
   "cell_type": "code",
   "execution_count": 27,
   "metadata": {
    "ExecuteTime": {
     "end_time": "2018-09-18T21:45:29.706144Z",
     "start_time": "2018-09-18T21:20:34.557113Z"
    }
   },
   "outputs": [
    {
     "name": "stdout",
     "output_type": "stream",
     "text": [
      "done train tfidf\n",
      "done val tfidf\n",
      "fold 0 ends. Logloss is: 0.4188224224745025. Roc score is: 0.7629093614357909\n",
      "fold 0 ends. Logloss holdout is: 0.4295705655082061. Roc score holdout is: 0.7621863260800635\n",
      "done train tfidf\n",
      "done val tfidf\n",
      "fold 2 ends. Logloss is: 0.41806067303521943. Roc score is: 0.7643210836349276\n",
      "fold 2 ends. Logloss holdout is: 0.4290855798087492. Roc score holdout is: 0.7626188324023631\n",
      "done train tfidf\n",
      "done val tfidf\n",
      "fold 3 ends. Logloss is: 0.41918833284970286. Roc score is: 0.7638357345378217\n",
      "fold 3 ends. Logloss holdout is: 0.4287456275231553. Roc score holdout is: 0.7633409139183763\n",
      "done train tfidf\n",
      "done val tfidf\n",
      "fold 4 ends. Logloss is: 0.41805114009571753. Roc score is: 0.7653429564285393\n",
      "fold 4 ends. Logloss holdout is: 0.4289274618035679. Roc score holdout is: 0.7628976223994547\n",
      "5 fold logloss is: 0.41827702933901617\n",
      "5 fold roc is: 0.7644278156536235\n",
      "5 fold mean hold out is: 0.4290227418639551\n",
      "5 fold overall hold out is: 0.42828574043402995\n"
     ]
    }
   ],
   "source": [
    "ho_log_preds_cou,test_log_preds_cou = cross_validation(train_cv,train_index_list,val_index_list,tfidf,holdout_matrix,holdout.click.values,test_matrix)"
   ]
  },
  {
   "cell_type": "code",
   "execution_count": 30,
   "metadata": {
    "ExecuteTime": {
     "end_time": "2018-09-18T22:38:14.007089Z",
     "start_time": "2018-09-18T22:38:13.670614Z"
    }
   },
   "outputs": [],
   "source": [
    "df_ho_log = pd.DataFrame({'preds':ho_log_preds_cou,'instance_id':train.loc[holdout_index,'instance_id'].values})\n",
    "df_test_log = pd.DataFrame({'predicted_score':test_log_preds_cou,'instance_id':test.instance_id.values})\n",
    "\n",
    "\n",
    "\n",
    "df_ho_log.to_csv('../../data/Blend/ho_logistic.csv',index=False)\n",
    "df_test_log.to_csv('../../data/Blend/test_logistic.csv',index=False)\n"
   ]
  },
  {
   "cell_type": "code",
   "execution_count": 28,
   "metadata": {
    "ExecuteTime": {
     "end_time": "2018-09-18T22:36:21.278973Z",
     "start_time": "2018-09-18T22:10:56.296355Z"
    }
   },
   "outputs": [
    {
     "name": "stdout",
     "output_type": "stream",
     "text": [
      "done train tfidf\n",
      "done val tfidf\n",
      "fold 0 ends. Logloss is: 0.42613729014720214. Roc score is: 0.7594076639861963\n",
      "fold 0 ends. Logloss holdout is: 0.43724957130641245. Roc score holdout is: 0.7590066078533506\n",
      "done train tfidf\n",
      "done val tfidf\n"
     ]
    },
    {
     "ename": "KeyboardInterrupt",
     "evalue": "",
     "output_type": "error",
     "traceback": [
      "\u001b[0;31m---------------------------------------------------------------------------\u001b[0m",
      "\u001b[0;31mKeyboardInterrupt\u001b[0m                         Traceback (most recent call last)",
      "\u001b[0;32m?\u001b[0m in \u001b[0;36m<module>\u001b[0;34m()\u001b[0m\n\u001b[0;32m----> 1\u001b[0;31m \u001b[0mho_svc_preds_cou\u001b[0m\u001b[0;34m,\u001b[0m\u001b[0mtest_svc_preds_cou\u001b[0m \u001b[0;34m=\u001b[0m \u001b[0mcross_validation_svc\u001b[0m\u001b[0;34m(\u001b[0m\u001b[0mtrain_cv\u001b[0m\u001b[0;34m,\u001b[0m\u001b[0mtrain_index_list\u001b[0m\u001b[0;34m,\u001b[0m\u001b[0mval_index_list\u001b[0m\u001b[0;34m,\u001b[0m\u001b[0mtfidf\u001b[0m\u001b[0;34m,\u001b[0m\u001b[0mholdout_matrix\u001b[0m\u001b[0;34m,\u001b[0m\u001b[0mholdout\u001b[0m\u001b[0;34m.\u001b[0m\u001b[0mclick\u001b[0m\u001b[0;34m.\u001b[0m\u001b[0mvalues\u001b[0m\u001b[0;34m,\u001b[0m\u001b[0mtest_matrix\u001b[0m\u001b[0;34m)\u001b[0m\u001b[0;34m\u001b[0m\u001b[0m\n\u001b[0m",
      "\u001b[0;32m?\u001b[0m in \u001b[0;36mcross_validation_svc\u001b[0;34m(train_set, train_index_list, val_index_list, tfidf, holdout_x, holdout_y, test_x)\u001b[0m\n\u001b[1;32m     17\u001b[0m         \u001b[0ml_svc\u001b[0m \u001b[0;34m=\u001b[0m \u001b[0mLinearSVC\u001b[0m\u001b[0;34m(\u001b[0m\u001b[0;34m)\u001b[0m\u001b[0;34m\u001b[0m\u001b[0m\n\u001b[1;32m     18\u001b[0m         \u001b[0mlsvc\u001b[0m \u001b[0;34m=\u001b[0m \u001b[0mCalibratedClassifierCV\u001b[0m\u001b[0;34m(\u001b[0m\u001b[0ml_svc\u001b[0m\u001b[0;34m)\u001b[0m\u001b[0;34m\u001b[0m\u001b[0m\n\u001b[0;32m---> 19\u001b[0;31m         \u001b[0mlsvc\u001b[0m\u001b[0;34m.\u001b[0m\u001b[0mfit\u001b[0m\u001b[0;34m(\u001b[0m\u001b[0mtrain_x\u001b[0m\u001b[0;34m,\u001b[0m \u001b[0mtrain_y\u001b[0m\u001b[0;34m)\u001b[0m\u001b[0;34m\u001b[0m\u001b[0m\n\u001b[0m\u001b[1;32m     20\u001b[0m         \u001b[0mpreds\u001b[0m \u001b[0;34m=\u001b[0m \u001b[0mlsvc\u001b[0m\u001b[0;34m.\u001b[0m\u001b[0mpredict_proba\u001b[0m\u001b[0;34m(\u001b[0m\u001b[0mval_x\u001b[0m\u001b[0;34m)\u001b[0m\u001b[0;34m[\u001b[0m\u001b[0;34m:\u001b[0m\u001b[0;34m,\u001b[0m\u001b[0;36m1\u001b[0m\u001b[0;34m]\u001b[0m\u001b[0;34m\u001b[0m\u001b[0m\n\u001b[1;32m     21\u001b[0m         \u001b[0mpreds_holdout\u001b[0m \u001b[0;34m=\u001b[0m \u001b[0mlsvc\u001b[0m\u001b[0;34m.\u001b[0m\u001b[0mpredict_proba\u001b[0m\u001b[0;34m(\u001b[0m\u001b[0mholdout_x\u001b[0m\u001b[0;34m)\u001b[0m\u001b[0;34m[\u001b[0m\u001b[0;34m:\u001b[0m\u001b[0;34m,\u001b[0m\u001b[0;36m1\u001b[0m\u001b[0;34m]\u001b[0m\u001b[0;34m\u001b[0m\u001b[0m\n",
      "\u001b[0;32m~/anaconda3/lib/python3.6/site-packages/sklearn/calibration.py\u001b[0m in \u001b[0;36mfit\u001b[0;34m(self, X, y, sample_weight)\u001b[0m\n\u001b[1;32m    179\u001b[0m                         sample_weight=base_estimator_sample_weight[train])\n\u001b[1;32m    180\u001b[0m                 \u001b[0;32melse\u001b[0m\u001b[0;34m:\u001b[0m\u001b[0;34m\u001b[0m\u001b[0m\n\u001b[0;32m--> 181\u001b[0;31m                     \u001b[0mthis_estimator\u001b[0m\u001b[0;34m.\u001b[0m\u001b[0mfit\u001b[0m\u001b[0;34m(\u001b[0m\u001b[0mX\u001b[0m\u001b[0;34m[\u001b[0m\u001b[0mtrain\u001b[0m\u001b[0;34m]\u001b[0m\u001b[0;34m,\u001b[0m \u001b[0my\u001b[0m\u001b[0;34m[\u001b[0m\u001b[0mtrain\u001b[0m\u001b[0;34m]\u001b[0m\u001b[0;34m)\u001b[0m\u001b[0;34m\u001b[0m\u001b[0m\n\u001b[0m\u001b[1;32m    182\u001b[0m \u001b[0;34m\u001b[0m\u001b[0m\n\u001b[1;32m    183\u001b[0m                 calibrated_classifier = _CalibratedClassifier(\n",
      "\u001b[0;32m~/anaconda3/lib/python3.6/site-packages/sklearn/svm/classes.py\u001b[0m in \u001b[0;36mfit\u001b[0;34m(self, X, y, sample_weight)\u001b[0m\n\u001b[1;32m    233\u001b[0m             \u001b[0mself\u001b[0m\u001b[0;34m.\u001b[0m\u001b[0mclass_weight\u001b[0m\u001b[0;34m,\u001b[0m \u001b[0mself\u001b[0m\u001b[0;34m.\u001b[0m\u001b[0mpenalty\u001b[0m\u001b[0;34m,\u001b[0m \u001b[0mself\u001b[0m\u001b[0;34m.\u001b[0m\u001b[0mdual\u001b[0m\u001b[0;34m,\u001b[0m \u001b[0mself\u001b[0m\u001b[0;34m.\u001b[0m\u001b[0mverbose\u001b[0m\u001b[0;34m,\u001b[0m\u001b[0;34m\u001b[0m\u001b[0m\n\u001b[1;32m    234\u001b[0m             \u001b[0mself\u001b[0m\u001b[0;34m.\u001b[0m\u001b[0mmax_iter\u001b[0m\u001b[0;34m,\u001b[0m \u001b[0mself\u001b[0m\u001b[0;34m.\u001b[0m\u001b[0mtol\u001b[0m\u001b[0;34m,\u001b[0m \u001b[0mself\u001b[0m\u001b[0;34m.\u001b[0m\u001b[0mrandom_state\u001b[0m\u001b[0;34m,\u001b[0m \u001b[0mself\u001b[0m\u001b[0;34m.\u001b[0m\u001b[0mmulti_class\u001b[0m\u001b[0;34m,\u001b[0m\u001b[0;34m\u001b[0m\u001b[0m\n\u001b[0;32m--> 235\u001b[0;31m             self.loss, sample_weight=sample_weight)\n\u001b[0m\u001b[1;32m    236\u001b[0m \u001b[0;34m\u001b[0m\u001b[0m\n\u001b[1;32m    237\u001b[0m         \u001b[0;32mif\u001b[0m \u001b[0mself\u001b[0m\u001b[0;34m.\u001b[0m\u001b[0mmulti_class\u001b[0m \u001b[0;34m==\u001b[0m \u001b[0;34m\"crammer_singer\"\u001b[0m \u001b[0;32mand\u001b[0m \u001b[0mlen\u001b[0m\u001b[0;34m(\u001b[0m\u001b[0mself\u001b[0m\u001b[0;34m.\u001b[0m\u001b[0mclasses_\u001b[0m\u001b[0;34m)\u001b[0m \u001b[0;34m==\u001b[0m \u001b[0;36m2\u001b[0m\u001b[0;34m:\u001b[0m\u001b[0;34m\u001b[0m\u001b[0m\n",
      "\u001b[0;32m~/anaconda3/lib/python3.6/site-packages/sklearn/svm/base.py\u001b[0m in \u001b[0;36m_fit_liblinear\u001b[0;34m(X, y, C, fit_intercept, intercept_scaling, class_weight, penalty, dual, verbose, max_iter, tol, random_state, multi_class, loss, epsilon, sample_weight)\u001b[0m\n\u001b[1;32m    888\u001b[0m         \u001b[0mX\u001b[0m\u001b[0;34m,\u001b[0m \u001b[0my_ind\u001b[0m\u001b[0;34m,\u001b[0m \u001b[0msp\u001b[0m\u001b[0;34m.\u001b[0m\u001b[0misspmatrix\u001b[0m\u001b[0;34m(\u001b[0m\u001b[0mX\u001b[0m\u001b[0;34m)\u001b[0m\u001b[0;34m,\u001b[0m \u001b[0msolver_type\u001b[0m\u001b[0;34m,\u001b[0m \u001b[0mtol\u001b[0m\u001b[0;34m,\u001b[0m \u001b[0mbias\u001b[0m\u001b[0;34m,\u001b[0m \u001b[0mC\u001b[0m\u001b[0;34m,\u001b[0m\u001b[0;34m\u001b[0m\u001b[0m\n\u001b[1;32m    889\u001b[0m         \u001b[0mclass_weight_\u001b[0m\u001b[0;34m,\u001b[0m \u001b[0mmax_iter\u001b[0m\u001b[0;34m,\u001b[0m \u001b[0mrnd\u001b[0m\u001b[0;34m.\u001b[0m\u001b[0mrandint\u001b[0m\u001b[0;34m(\u001b[0m\u001b[0mnp\u001b[0m\u001b[0;34m.\u001b[0m\u001b[0miinfo\u001b[0m\u001b[0;34m(\u001b[0m\u001b[0;34m'i'\u001b[0m\u001b[0;34m)\u001b[0m\u001b[0;34m.\u001b[0m\u001b[0mmax\u001b[0m\u001b[0;34m)\u001b[0m\u001b[0;34m,\u001b[0m\u001b[0;34m\u001b[0m\u001b[0m\n\u001b[0;32m--> 890\u001b[0;31m         epsilon, sample_weight)\n\u001b[0m\u001b[1;32m    891\u001b[0m     \u001b[0;31m# Regarding rnd.randint(..) in the above signature:\u001b[0m\u001b[0;34m\u001b[0m\u001b[0;34m\u001b[0m\u001b[0m\n\u001b[1;32m    892\u001b[0m     \u001b[0;31m# seed for srand in range [0..INT_MAX); due to limitations in Numpy\u001b[0m\u001b[0;34m\u001b[0m\u001b[0;34m\u001b[0m\u001b[0m\n",
      "\u001b[0;31mKeyboardInterrupt\u001b[0m: "
     ]
    }
   ],
   "source": [
    "ho_svc_preds_cou,test_svc_preds_cou = cross_validation_svc(train_cv,train_index_list,val_index_list,tfidf,holdout_matrix,holdout.click.values,test_matrix)"
   ]
  },
  {
   "cell_type": "code",
   "execution_count": null,
   "metadata": {},
   "outputs": [],
   "source": []
  }
 ],
 "metadata": {
  "kernelspec": {
   "display_name": "Python 3",
   "language": "python",
   "name": "python3"
  },
  "language_info": {
   "codemirror_mode": {
    "name": "ipython",
    "version": 3
   },
   "file_extension": ".py",
   "mimetype": "text/x-python",
   "name": "python",
   "nbconvert_exporter": "python",
   "pygments_lexer": "ipython3",
   "version": "3.6.5"
  },
  "varInspector": {
   "cols": {
    "lenName": 16,
    "lenType": 16,
    "lenVar": 40
   },
   "kernels_config": {
    "python": {
     "delete_cmd_postfix": "",
     "delete_cmd_prefix": "del ",
     "library": "var_list.py",
     "varRefreshCmd": "print(var_dic_list())"
    },
    "r": {
     "delete_cmd_postfix": ") ",
     "delete_cmd_prefix": "rm(",
     "library": "var_list.r",
     "varRefreshCmd": "cat(var_dic_list()) "
    }
   },
   "types_to_exclude": [
    "module",
    "function",
    "builtin_function_or_method",
    "instance",
    "_Feature"
   ],
   "window_display": false
  }
 },
 "nbformat": 4,
 "nbformat_minor": 2
}
