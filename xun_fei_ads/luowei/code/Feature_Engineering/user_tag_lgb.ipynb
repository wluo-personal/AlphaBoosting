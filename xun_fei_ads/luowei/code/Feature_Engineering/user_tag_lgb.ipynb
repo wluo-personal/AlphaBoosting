{
 "cells": [
  {
   "cell_type": "code",
   "execution_count": 1,
   "metadata": {
    "ExecuteTime": {
     "end_time": "2018-10-08T14:53:55.093481Z",
     "start_time": "2018-10-08T14:53:54.761446Z"
    }
   },
   "outputs": [],
   "source": [
    "__file__=''\n",
    "import os,sys\n",
    "import pandas as pd\n",
    "sys.path.append(os.path.join(os.path.dirname(__file__),'../LIB/'))\n",
    "sys.path.append(os.path.join(os.path.dirname(__file__),'../../../../automl/automl_libs/'))\n",
    "from env import FILE\n",
    "import utils\n",
    "from itertools import combinations\n",
    "from feature_engineering import *\n",
    "from sklearn.preprocessing import LabelEncoder\n",
    "import gc\n",
    "from sklearn.metrics import log_loss\n",
    "import pickle\n",
    "import numpy as np\n",
    "from tqdm import tqdm"
   ]
  },
  {
   "cell_type": "code",
   "execution_count": 2,
   "metadata": {
    "ExecuteTime": {
     "end_time": "2018-10-08T14:53:56.679192Z",
     "start_time": "2018-10-08T14:53:55.603603Z"
    }
   },
   "outputs": [],
   "source": [
    "train = pd.read_pickle(FILE.train_ori.value)\n",
    "test = pd.read_pickle(FILE.test_ori.value)\n",
    "X = pd.concat([train,test],sort=False)"
   ]
  },
  {
   "cell_type": "markdown",
   "metadata": {},
   "source": [
    "# tag sequence"
   ]
  },
  {
   "cell_type": "code",
   "execution_count": 31,
   "metadata": {
    "ExecuteTime": {
     "end_time": "2018-09-28T14:31:32.226210Z",
     "start_time": "2018-09-28T14:31:32.221511Z"
    }
   },
   "outputs": [],
   "source": [
    "def tag(x,length=50):\n",
    "    split = x.split(',')\n",
    "    pad = [np.nan for i in range(length-len(split))]\n",
    "    split.extend(pad)\n",
    "    return npsplit[:length]\n",
    "\n",
    "returns = X['user_tags'].astype(str).apply(tag,length=50)\n",
    "returns = np.array(list(returns))\n",
    "df = pd.DataFrame(data=returns,columns=['tag_{}'.format(i) for i in range(50)])\n",
    "df.head()\n",
    "    \n",
    "le = LabelEncoder()\n",
    "for col in tqdm(df.columns):\n",
    "    df[col] = le.fit_transform(df[col].astype(str))\n",
    "df['instance_id'] = X['instance_id'].values\n",
    "df.to_pickle('../../data/lgb_feature/tags_top50.pkl')"
   ]
  },
  {
   "cell_type": "markdown",
   "metadata": {},
   "source": [
    "# Gensim Doc2Vec"
   ]
  },
  {
   "cell_type": "code",
   "execution_count": 58,
   "metadata": {
    "ExecuteTime": {
     "end_time": "2018-09-28T15:09:11.995696Z",
     "start_time": "2018-09-28T15:09:09.029401Z"
    }
   },
   "outputs": [],
   "source": [
    "# prepare doc\n",
    "def tag_doc(x):\n",
    "    return x.split(',')\n",
    "doc_tag = list(X['user_tags'].astype(str).apply(tag_doc).values)"
   ]
  },
  {
   "cell_type": "code",
   "execution_count": 60,
   "metadata": {
    "ExecuteTime": {
     "end_time": "2018-09-28T15:09:29.585091Z",
     "start_time": "2018-09-28T15:09:25.745743Z"
    }
   },
   "outputs": [],
   "source": [
    "doc_tagged = [TaggedDocument(doc, [i]) for i, doc in enumerate(doc_tag)]"
   ]
  },
  {
   "cell_type": "code",
   "execution_count": 64,
   "metadata": {
    "ExecuteTime": {
     "end_time": "2018-09-28T15:28:44.404346Z",
     "start_time": "2018-09-28T15:12:35.891620Z"
    }
   },
   "outputs": [],
   "source": [
    "v_size = 10\n",
    "model = Doc2Vec(doc_tagged, vector_size=v_size, window=3, min_count=1, workers=16)"
   ]
  },
  {
   "cell_type": "code",
   "execution_count": 65,
   "metadata": {
    "ExecuteTime": {
     "end_time": "2018-09-28T15:41:33.471356Z",
     "start_time": "2018-09-28T15:39:10.654057Z"
    }
   },
   "outputs": [
    {
     "name": "stderr",
     "output_type": "stream",
     "text": [
      "100%|██████████| 1041674/1041674 [02:22<00:00, 7294.13it/s]\n"
     ]
    }
   ],
   "source": [
    "vectors_doc = []\n",
    "for i in tqdm(doc_tag):\n",
    "    vectors_doc.append(model.infer_vector(i))"
   ]
  },
  {
   "cell_type": "code",
   "execution_count": 66,
   "metadata": {
    "ExecuteTime": {
     "end_time": "2018-09-28T15:43:34.754863Z",
     "start_time": "2018-09-28T15:43:33.918065Z"
    }
   },
   "outputs": [],
   "source": [
    "v_size = 10\n",
    "vectors_doc = np.array(vectors_doc)\n",
    "df = pd.DataFrame(data=vectors_doc,columns=['tagDim_{}'.format(i) for i in range(v_size)])\n",
    "df['instance_id'] = X['instance_id'].values"
   ]
  },
  {
   "cell_type": "code",
   "execution_count": 67,
   "metadata": {
    "ExecuteTime": {
     "end_time": "2018-09-28T15:45:11.007835Z",
     "start_time": "2018-09-28T15:45:10.963556Z"
    }
   },
   "outputs": [],
   "source": [
    "df.to_pickle('../../data/lgb_feature/tags_gesim_window3_size10.pkl')"
   ]
  },
  {
   "cell_type": "code",
   "execution_count": null,
   "metadata": {},
   "outputs": [],
   "source": []
  },
  {
   "cell_type": "code",
   "execution_count": null,
   "metadata": {},
   "outputs": [],
   "source": []
  },
  {
   "cell_type": "code",
   "execution_count": null,
   "metadata": {},
   "outputs": [],
   "source": []
  },
  {
   "cell_type": "code",
   "execution_count": null,
   "metadata": {},
   "outputs": [],
   "source": []
  },
  {
   "cell_type": "markdown",
   "metadata": {},
   "source": [
    "# DEMO"
   ]
  },
  {
   "cell_type": "code",
   "execution_count": 61,
   "metadata": {
    "ExecuteTime": {
     "end_time": "2018-09-28T15:09:44.111205Z",
     "start_time": "2018-09-28T15:09:44.091546Z"
    }
   },
   "outputs": [],
   "source": [
    "from gensim.test.utils import common_texts\n",
    "from gensim.models.doc2vec import Doc2Vec, TaggedDocument\n",
    "documents = [TaggedDocument(doc, [i]) for i, doc in enumerate(common_texts)]\n",
    "model = Doc2Vec(documents, vector_size=5, window=2, min_count=1, workers=4)"
   ]
  },
  {
   "cell_type": "code",
   "execution_count": 62,
   "metadata": {
    "ExecuteTime": {
     "end_time": "2018-09-28T15:10:21.722311Z",
     "start_time": "2018-09-28T15:10:21.714833Z"
    }
   },
   "outputs": [
    {
     "data": {
      "text/plain": [
       "array([-0.09725367,  0.00052088, -0.08152046,  0.03576822,  0.09515   ],\n",
       "      dtype=float32)"
      ]
     },
     "execution_count": 62,
     "metadata": {},
     "output_type": "execute_result"
    }
   ],
   "source": [
    "model.infer_vector(['human', 'interface', 'computer'])"
   ]
  },
  {
   "cell_type": "markdown",
   "metadata": {},
   "source": [
    "# Analysis"
   ]
  },
  {
   "cell_type": "code",
   "execution_count": 8,
   "metadata": {
    "ExecuteTime": {
     "end_time": "2018-10-01T16:56:39.143738Z",
     "start_time": "2018-10-01T16:56:39.044270Z"
    }
   },
   "outputs": [
    {
     "data": {
      "text/plain": [
       "0.31007973703865127"
      ]
     },
     "execution_count": 8,
     "metadata": {},
     "output_type": "execute_result"
    }
   ],
   "source": [
    "X['user_tags'].isnull().sum()/len(X)"
   ]
  },
  {
   "cell_type": "code",
   "execution_count": 7,
   "metadata": {
    "ExecuteTime": {
     "end_time": "2018-10-01T16:56:27.896910Z",
     "start_time": "2018-10-01T16:56:27.883733Z"
    }
   },
   "outputs": [
    {
     "data": {
      "text/plain": [
       "0.33060163901659007"
      ]
     },
     "execution_count": 7,
     "metadata": {},
     "output_type": "execute_result"
    }
   ],
   "source": [
    "test['user_tags'].isnull().sum()/len(test)"
   ]
  },
  {
   "cell_type": "code",
   "execution_count": 5,
   "metadata": {
    "ExecuteTime": {
     "end_time": "2018-10-01T16:54:56.579616Z",
     "start_time": "2018-10-01T16:54:56.571431Z"
    }
   },
   "outputs": [
    {
     "data": {
      "text/plain": [
       "0                                                   NaN\n",
       "1     2100191,2100078,3001825,,3001781,3001791,30017...\n",
       "2                                                   NaN\n",
       "3     2100098,gd_2100000,3001791,3001795,3002193,300...\n",
       "4                                                   NaN\n",
       "5     3002265,3002613,3002993,3003055,3003147,300331...\n",
       "6                                                   NaN\n",
       "7     gd_2100000,2100143,ag_2100040,3001837,3002907,...\n",
       "8     ,3004484,3004430,3004434,3004490,3004468,30045...\n",
       "9     2100197,2100150,2100094,2100237,2100132,ag_210...\n",
       "10    2100480,2100118,2101058,2100042,2100017,210013...\n",
       "11                                                  NaN\n",
       "12                gd_2100001,ag_2100039,3004430,3004434\n",
       "13                                                  NaN\n",
       "14                                                  NaN\n",
       "15    gd_2100000,3001771,3001881,3001889,3001899,300...\n",
       "16                                                  NaN\n",
       "17                                                  NaN\n",
       "18              3003779,3004059,3004214,3004430,3004434\n",
       "19    ag_2100040,3002847,3003097,3003255,3003321,300...\n",
       "Name: user_tags, dtype: object"
      ]
     },
     "execution_count": 5,
     "metadata": {},
     "output_type": "execute_result"
    }
   ],
   "source": [
    "X['user_tags'].head(20)"
   ]
  },
  {
   "cell_type": "code",
   "execution_count": 10,
   "metadata": {
    "ExecuteTime": {
     "end_time": "2018-10-01T18:27:02.467501Z",
     "start_time": "2018-10-01T18:27:02.015912Z"
    }
   },
   "outputs": [
    {
     "name": "stdout",
     "output_type": "stream",
     "text": [
      "0.19369110250332428\n"
     ]
    }
   ],
   "source": [
    "train_ = train[train.user_tags.notnull()].copy()\n",
    "print(train_.click.sum()/len(train_))"
   ]
  },
  {
   "cell_type": "code",
   "execution_count": 11,
   "metadata": {
    "ExecuteTime": {
     "end_time": "2018-10-01T18:27:14.723319Z",
     "start_time": "2018-10-01T18:27:14.711518Z"
    }
   },
   "outputs": [
    {
     "name": "stdout",
     "output_type": "stream",
     "text": [
      "0.19845954175610242\n"
     ]
    }
   ],
   "source": [
    "\n",
    "print(train.click.sum()/len(train))"
   ]
  },
  {
   "cell_type": "markdown",
   "metadata": {},
   "source": [
    "# Tag SVD"
   ]
  },
  {
   "cell_type": "code",
   "execution_count": 18,
   "metadata": {
    "ExecuteTime": {
     "end_time": "2018-10-08T15:06:42.038316Z",
     "start_time": "2018-10-08T15:06:39.799011Z"
    }
   },
   "outputs": [
    {
     "name": "stdout",
     "output_type": "stream",
     "text": [
      "1406\n"
     ]
    }
   ],
   "source": [
    "unique_tags = []\n",
    "for each in X.user_tags.astype(str).values:\n",
    "    unique_tags.extend(each.split(','))\n",
    "unique_tags = list(set(unique_tags))\n",
    "print(len(unique_tags))\n",
    "index_dict = {}\n",
    "index=0\n",
    "for tag in unique_tags:\n",
    "    index_dict[tag]=index\n",
    "    index+=1"
   ]
  },
  {
   "cell_type": "code",
   "execution_count": 19,
   "metadata": {
    "ExecuteTime": {
     "end_time": "2018-10-08T15:06:48.635848Z",
     "start_time": "2018-10-08T15:06:47.728896Z"
    }
   },
   "outputs": [],
   "source": [
    "from scipy.sparse import lil_matrix \n",
    "one_hot = lil_matrix ((len(X),len(index_dict)))"
   ]
  },
  {
   "cell_type": "code",
   "execution_count": 20,
   "metadata": {
    "ExecuteTime": {
     "end_time": "2018-10-08T15:08:46.282119Z",
     "start_time": "2018-10-08T15:06:56.039422Z"
    }
   },
   "outputs": [
    {
     "name": "stderr",
     "output_type": "stream",
     "text": [
      "100%|██████████| 1041674/1041674 [01:50<00:00, 9459.81it/s]\n"
     ]
    }
   ],
   "source": [
    "row = 0\n",
    "for each in tqdm(X.user_tags.astype(str).values):\n",
    "    for e in each.split(','):\n",
    "        col = index_dict[e]\n",
    "        one_hot[row,col] += 1\n",
    "    row += 1\n",
    "        "
   ]
  },
  {
   "cell_type": "code",
   "execution_count": 21,
   "metadata": {
    "ExecuteTime": {
     "end_time": "2018-10-08T15:10:00.268039Z",
     "start_time": "2018-10-08T15:09:26.045875Z"
    }
   },
   "outputs": [
    {
     "data": {
      "text/plain": [
       "TruncatedSVD(algorithm='randomized', n_components=50, n_iter=7,\n",
       "       random_state=42, tol=0.0)"
      ]
     },
     "execution_count": 21,
     "metadata": {},
     "output_type": "execute_result"
    }
   ],
   "source": [
    "from sklearn.decomposition import TruncatedSVD\n",
    "svd = TruncatedSVD(n_components=50, n_iter=7, random_state=42)\n",
    "svd.fit(one_hot)  "
   ]
  },
  {
   "cell_type": "code",
   "execution_count": 22,
   "metadata": {
    "ExecuteTime": {
     "end_time": "2018-10-08T15:10:16.825255Z",
     "start_time": "2018-10-08T15:10:12.848060Z"
    }
   },
   "outputs": [],
   "source": [
    "ss = svd.transform(one_hot)"
   ]
  },
  {
   "cell_type": "code",
   "execution_count": 25,
   "metadata": {
    "ExecuteTime": {
     "end_time": "2018-10-08T15:11:50.569618Z",
     "start_time": "2018-10-08T15:11:49.924038Z"
    }
   },
   "outputs": [],
   "source": [
    "import pickle\n",
    "pickle.dump(ss,open('../../data/lgb_feature/utag_svd_50.pkl','wb'))"
   ]
  },
  {
   "cell_type": "code",
   "execution_count": null,
   "metadata": {},
   "outputs": [],
   "source": []
  }
 ],
 "metadata": {
  "kernelspec": {
   "display_name": "Python 3",
   "language": "python",
   "name": "python3"
  },
  "language_info": {
   "codemirror_mode": {
    "name": "ipython",
    "version": 3
   },
   "file_extension": ".py",
   "mimetype": "text/x-python",
   "name": "python",
   "nbconvert_exporter": "python",
   "pygments_lexer": "ipython3",
   "version": "3.6.5"
  },
  "varInspector": {
   "cols": {
    "lenName": 16,
    "lenType": 16,
    "lenVar": 40
   },
   "kernels_config": {
    "python": {
     "delete_cmd_postfix": "",
     "delete_cmd_prefix": "del ",
     "library": "var_list.py",
     "varRefreshCmd": "print(var_dic_list())"
    },
    "r": {
     "delete_cmd_postfix": ") ",
     "delete_cmd_prefix": "rm(",
     "library": "var_list.r",
     "varRefreshCmd": "cat(var_dic_list()) "
    }
   },
   "types_to_exclude": [
    "module",
    "function",
    "builtin_function_or_method",
    "instance",
    "_Feature"
   ],
   "window_display": false
  }
 },
 "nbformat": 4,
 "nbformat_minor": 2
}
