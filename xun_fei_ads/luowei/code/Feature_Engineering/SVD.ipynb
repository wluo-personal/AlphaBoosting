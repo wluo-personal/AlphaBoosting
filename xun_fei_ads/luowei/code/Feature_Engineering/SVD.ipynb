{
 "cells": [
  {
   "cell_type": "code",
   "execution_count": 56,
   "metadata": {
    "ExecuteTime": {
     "end_time": "2018-10-15T17:43:09.004516Z",
     "start_time": "2018-10-15T17:43:08.965325Z"
    }
   },
   "outputs": [],
   "source": [
    "__file__=''\n",
    "import os,sys\n",
    "import pandas as pd\n",
    "sys.path.append(os.path.join(os.path.dirname(__file__),'../LIB/'))\n",
    "sys.path.append(os.path.join(os.path.dirname(__file__),'../../../../automl/automl_libs/'))\n",
    "from env import FILE\n",
    "from sklearn.feature_extraction import FeatureHasher\n",
    "from sklearn.preprocessing import LabelEncoder\n",
    "le = LabelEncoder()\n",
    "from tqdm import tqdm\n",
    "from scipy import sparse \n",
    "import numpy as np\n",
    "from sklearn.model_selection import StratifiedKFold\n",
    "from sklearn.feature_selection import chi2, SelectPercentile,SelectKBest\n",
    "import gc\n",
    "from sklearn.metrics import log_loss"
   ]
  },
  {
   "cell_type": "code",
   "execution_count": null,
   "metadata": {
    "ExecuteTime": {
     "start_time": "2018-10-15T17:43:10.245Z"
    }
   },
   "outputs": [],
   "source": [
    "train = pd.read_pickle(FILE.train_final.value)\n",
    "test = pd.read_pickle(FILE.test_final.value)\n",
    "data = pd.concat([train, test],sort=False)"
   ]
  },
  {
   "cell_type": "code",
   "execution_count": 47,
   "metadata": {
    "ExecuteTime": {
     "end_time": "2018-10-15T15:39:10.793082Z",
     "start_time": "2018-10-15T15:39:10.756572Z"
    }
   },
   "outputs": [],
   "source": [
    "from sklearn.preprocessing import LabelEncoder\n",
    "le = LabelEncoder()"
   ]
  },
  {
   "cell_type": "code",
   "execution_count": 48,
   "metadata": {
    "ExecuteTime": {
     "end_time": "2018-10-15T15:39:20.380938Z",
     "start_time": "2018-10-15T15:39:14.569569Z"
    }
   },
   "outputs": [],
   "source": [
    "data['user_tags_encoded'] = le.fit_transform(data['user_tags'].astype(str))"
   ]
  },
  {
   "cell_type": "code",
   "execution_count": 49,
   "metadata": {
    "ExecuteTime": {
     "end_time": "2018-10-15T15:39:24.691096Z",
     "start_time": "2018-10-15T15:39:24.686528Z"
    }
   },
   "outputs": [],
   "source": [
    "def compute_the_id(row, joinby='-'):\n",
    "    the_str = ''\n",
    "    for val in row.values:\n",
    "        the_str += joinby+str(val)\n",
    "#         if val == 95764:  95764 => user tags is NAN\n",
    "#             return np.nan \n",
    "    return the_str[1:]"
   ]
  },
  {
   "cell_type": "code",
   "execution_count": 50,
   "metadata": {
    "ExecuteTime": {
     "end_time": "2018-10-15T15:39:48.828574Z",
     "start_time": "2018-10-15T15:39:29.267104Z"
    }
   },
   "outputs": [],
   "source": [
    "user_id_cols = ['city','osv','make','model','user_tags_encoded']\n",
    "data['user_id'] = data[user_id_cols].apply(lambda row: compute_the_id(row) , axis=1)"
   ]
  },
  {
   "cell_type": "markdown",
   "metadata": {},
   "source": [
    "# Codes"
   ]
  },
  {
   "cell_type": "code",
   "execution_count": 51,
   "metadata": {
    "ExecuteTime": {
     "end_time": "2018-10-15T15:39:52.878823Z",
     "start_time": "2018-10-15T15:39:52.865641Z"
    }
   },
   "outputs": [],
   "source": [
    "from scipy import sparse\n",
    "from scipy.sparse.linalg import svds\n",
    "\n",
    "def svd_two_cols(df, col1_name, col2_name, n_component):\n",
    "    data = np.ones(len(df))\n",
    "    le = LabelEncoder()\n",
    "    df = df.copy()\n",
    "    df[col1_name] = le.fit_transform(df[col1_name].astype(str))\n",
    "    df[col2_name] = le.fit_transform(df[col2_name].astype(str))\n",
    "    col1 = df[col1_name].values\n",
    "    col2 = df[col2_name].values\n",
    "\n",
    "    col1_cnt = max(col1)+1\n",
    "    col2_cnt = max(col2)+1\n",
    "    print(col1_cnt, col2_cnt)\n",
    "\n",
    "    rating = sparse.coo_matrix((data, (col1, col2)))\n",
    "    rating = (rating > 0) * 1.0\n",
    "\n",
    "    [u, s, vt] = svds(rating, k=n_component)\n",
    "    print(u.shape)\n",
    "    print(s.shape)\n",
    "    print(vt.shape)\n",
    "    print(s[::-1])\n",
    "    col1_col2 = np.diag(s[::-1])\n",
    "\n",
    "    col1_topics = pd.DataFrame(u[:, ::-1])\n",
    "    col1_topics.columns = ['{}_{}_svd_{}'.format(col1_name, col2_name, i) for i in range(n_component)]\n",
    "    col1_embed = col1_topics.values\n",
    "    col1_topics[col1_name] = range(col1_cnt)\n",
    "\n",
    "    df = df.merge(col1_topics, on=col1_name, how='left')\n",
    "\n",
    "    col2_topics = pd.DataFrame(vt.transpose()[:, ::-1])\n",
    "    col2_topics.columns = ['{}_{}_svd_{}'.format(col2_name, col1_name, i) for i in range(n_component)]\n",
    "    col2_embed = col2_topics.values\n",
    "    col2_topics[col2_name] = range(col2_cnt)\n",
    "\n",
    "    df = df.merge(col2_topics, on=col2_name, how='left')\n",
    "\n",
    "    return df, col1_col2, col1_embed, col2_embed"
   ]
  },
  {
   "cell_type": "code",
   "execution_count": 52,
   "metadata": {
    "ExecuteTime": {
     "end_time": "2018-10-15T15:41:33.459896Z",
     "start_time": "2018-10-15T15:40:21.712156Z"
    }
   },
   "outputs": [
    {
     "name": "stdout",
     "output_type": "stream",
     "text": [
      "2327425 2221\n",
      "(2327425, 16)\n",
      "(16,)\n",
      "(16, 2221)\n",
      "[350.12076538 345.73541756 340.3279445  301.66167836 297.86039802\n",
      " 289.18351978 272.05388218 261.50472411 252.33731351 225.78723232\n",
      " 220.6932322  216.59175075 215.55702342 198.29491748 192.99452896\n",
      " 187.70081697]\n",
      "20332 2221\n",
      "(20332, 16)\n",
      "(16,)\n",
      "(16, 2221)\n",
      "[333.47204852 147.80008126 105.99190644  94.08657677  87.33754918\n",
      "  81.82397571  74.31152966  66.63746345  54.68527316  53.30165307\n",
      "  48.79600707  48.35081725  43.01864511  41.91258192  39.3089441\n",
      "  38.75585021]\n",
      "1345254 2221\n",
      "(1345254, 16)\n",
      "(16,)\n",
      "(16, 2221)\n",
      "[286.05661523 249.19831531 238.67673108 234.67312317 224.08247975\n",
      " 213.68687174 203.34021612 201.84383008 193.92289273 179.12998691\n",
      " 172.16582183 167.21125061 158.79903506 151.83018445 150.17206646\n",
      " 142.12058069]\n"
     ]
    }
   ],
   "source": [
    "df, user_ad_for_dot, user_ad_user_embed, user_ad_ad_embed = svd_two_cols(data, 'user_id', 'adid', 16)\n",
    "df, model_ad_for_dot, model_ad_model_embed, model_ad_ad_embed = svd_two_cols(df, 'model', 'adid', 16)\n",
    "df, tag_ad_for_dot, tag_ad_tag_embed, tag_ad_ad_embed = svd_two_cols(df, 'user_tags_encoded', 'adid', 16)"
   ]
  },
  {
   "cell_type": "code",
   "execution_count": 54,
   "metadata": {
    "ExecuteTime": {
     "end_time": "2018-10-15T15:42:37.568006Z",
     "start_time": "2018-10-15T15:42:35.919317Z"
    }
   },
   "outputs": [],
   "source": [
    "df_save = df[['instance_id']].copy()\n",
    "for col in df:\n",
    "    if 'svd' in col:\n",
    "        df_save[col] = df[col].values"
   ]
  },
  {
   "cell_type": "code",
   "execution_count": 55,
   "metadata": {
    "ExecuteTime": {
     "end_time": "2018-10-15T15:43:21.455424Z",
     "start_time": "2018-10-15T15:43:17.832232Z"
    }
   },
   "outputs": [],
   "source": [
    "df_save.to_pickle('../../data/features/agg/svd_raw.pkl')"
   ]
  },
  {
   "cell_type": "code",
   "execution_count": 32,
   "metadata": {
    "ExecuteTime": {
     "end_time": "2018-10-15T13:45:38.664415Z",
     "start_time": "2018-10-15T13:45:22.162007Z"
    }
   },
   "outputs": [],
   "source": [
    "df = data.copy()\n",
    "col1_name = 'user_id'\n",
    "col2_name = 'adid'\n",
    "data = np.ones(len(df))\n",
    "le = LabelEncoder()\n",
    "df = df.copy()\n",
    "df[col1_name] = le.fit_transform(df[col1_name].astype(str))\n",
    "df[col2_name] = le.fit_transform(df[col2_name].astype(str))\n",
    "col1 = df[col1_name].values\n",
    "col2 = df[col2_name].values\n"
   ]
  },
  {
   "cell_type": "code",
   "execution_count": 36,
   "metadata": {
    "ExecuteTime": {
     "end_time": "2018-10-15T13:51:46.142748Z",
     "start_time": "2018-10-15T13:51:25.542100Z"
    }
   },
   "outputs": [
    {
     "name": "stdout",
     "output_type": "stream",
     "text": [
      "2327425 2221\n"
     ]
    },
    {
     "name": "stderr",
     "output_type": "stream",
     "text": [
      "3072915it [00:18, 166142.01it/s]\n"
     ]
    }
   ],
   "source": [
    "col1_cnt = max(col1)+1\n",
    "col2_cnt = max(col2)+1\n",
    "print(col1_cnt, col2_cnt)\n",
    "rating = sparse.lil_matrix((col1_cnt, col2_cnt))\n",
    "for v1,v2 in tqdm(zip(col1,col2)):\n",
    "    rating[v1,v2] += 1"
   ]
  },
  {
   "cell_type": "code",
   "execution_count": 38,
   "metadata": {
    "ExecuteTime": {
     "end_time": "2018-10-15T13:53:54.579342Z",
     "start_time": "2018-10-15T13:53:49.972627Z"
    }
   },
   "outputs": [
    {
     "name": "stdout",
     "output_type": "stream",
     "text": [
      "(2327425, 32)\n",
      "(32,)\n",
      "(32, 2221)\n"
     ]
    }
   ],
   "source": [
    "rating = sparse.coo_matrix(rating)\n",
    "n_component = 32\n",
    "[u, s, vt] = svds(rating, k=n_component)\n",
    "print(u.shape)\n",
    "print(s.shape)\n",
    "print(vt.shape)"
   ]
  },
  {
   "cell_type": "code",
   "execution_count": null,
   "metadata": {},
   "outputs": [],
   "source": []
  },
  {
   "cell_type": "code",
   "execution_count": null,
   "metadata": {},
   "outputs": [],
   "source": []
  },
  {
   "cell_type": "code",
   "execution_count": null,
   "metadata": {},
   "outputs": [],
   "source": []
  },
  {
   "cell_type": "code",
   "execution_count": null,
   "metadata": {},
   "outputs": [],
   "source": []
  },
  {
   "cell_type": "code",
   "execution_count": null,
   "metadata": {},
   "outputs": [],
   "source": []
  },
  {
   "cell_type": "code",
   "execution_count": null,
   "metadata": {},
   "outputs": [],
   "source": []
  },
  {
   "cell_type": "code",
   "execution_count": null,
   "metadata": {},
   "outputs": [],
   "source": []
  },
  {
   "cell_type": "code",
   "execution_count": null,
   "metadata": {},
   "outputs": [],
   "source": []
  },
  {
   "cell_type": "code",
   "execution_count": null,
   "metadata": {},
   "outputs": [],
   "source": []
  },
  {
   "cell_type": "code",
   "execution_count": null,
   "metadata": {},
   "outputs": [],
   "source": []
  },
  {
   "cell_type": "code",
   "execution_count": null,
   "metadata": {},
   "outputs": [],
   "source": []
  },
  {
   "cell_type": "code",
   "execution_count": 8,
   "metadata": {
    "ExecuteTime": {
     "end_time": "2018-10-15T02:09:26.334575Z",
     "start_time": "2018-10-15T02:09:26.222926Z"
    }
   },
   "outputs": [
    {
     "ename": "NameError",
     "evalue": "name 'df' is not defined",
     "output_type": "error",
     "traceback": [
      "\u001b[0;31m---------------------------------------------------------------------------\u001b[0m",
      "\u001b[0;31mNameError\u001b[0m                                 Traceback (most recent call last)",
      "\u001b[0;32m?\u001b[0m in \u001b[0;36m<module>\u001b[0;34m()\u001b[0m\n\u001b[0;32m----> 1\u001b[0;31m \u001b[0mdf\u001b[0m\u001b[0;34m,\u001b[0m \u001b[0muser_ad_for_dot\u001b[0m\u001b[0;34m,\u001b[0m \u001b[0muser_ad_user_embed\u001b[0m\u001b[0;34m,\u001b[0m \u001b[0muser_ad_ad_embed\u001b[0m \u001b[0;34m=\u001b[0m \u001b[0msvd_two_cols\u001b[0m\u001b[0;34m(\u001b[0m\u001b[0mdf\u001b[0m\u001b[0;34m,\u001b[0m \u001b[0;34m'user_id'\u001b[0m\u001b[0;34m,\u001b[0m \u001b[0;34m'adid'\u001b[0m\u001b[0;34m,\u001b[0m \u001b[0;36m32\u001b[0m\u001b[0;34m)\u001b[0m\u001b[0;34m\u001b[0m\u001b[0m\n\u001b[0m\u001b[1;32m      2\u001b[0m \u001b[0mdf\u001b[0m\u001b[0;34m,\u001b[0m \u001b[0mmodel_ad_for_dot\u001b[0m\u001b[0;34m,\u001b[0m \u001b[0mmodel_ad_model_embed\u001b[0m\u001b[0;34m,\u001b[0m \u001b[0mmodel_ad_ad_embed\u001b[0m \u001b[0;34m=\u001b[0m \u001b[0msvd_two_cols\u001b[0m\u001b[0;34m(\u001b[0m\u001b[0mdf\u001b[0m\u001b[0;34m,\u001b[0m \u001b[0;34m'model'\u001b[0m\u001b[0;34m,\u001b[0m \u001b[0;34m'adid'\u001b[0m\u001b[0;34m,\u001b[0m \u001b[0;36m32\u001b[0m\u001b[0;34m)\u001b[0m\u001b[0;34m\u001b[0m\u001b[0m\n\u001b[1;32m      3\u001b[0m \u001b[0mdf\u001b[0m\u001b[0;34m,\u001b[0m \u001b[0mtag_ad_for_dot\u001b[0m\u001b[0;34m,\u001b[0m \u001b[0mtag_ad_tag_embed\u001b[0m\u001b[0;34m,\u001b[0m \u001b[0mtag_ad_ad_embed\u001b[0m \u001b[0;34m=\u001b[0m \u001b[0msvd_two_cols\u001b[0m\u001b[0;34m(\u001b[0m\u001b[0mdf\u001b[0m\u001b[0;34m,\u001b[0m \u001b[0;34m'user_tags_sorted'\u001b[0m\u001b[0;34m,\u001b[0m \u001b[0;34m'adid'\u001b[0m\u001b[0;34m,\u001b[0m \u001b[0;36m32\u001b[0m\u001b[0;34m)\u001b[0m\u001b[0;34m\u001b[0m\u001b[0m\n\u001b[1;32m      4\u001b[0m \u001b[0mprint\u001b[0m\u001b[0;34m(\u001b[0m\u001b[0mdf\u001b[0m\u001b[0;34m.\u001b[0m\u001b[0mshape\u001b[0m\u001b[0;34m)\u001b[0m\u001b[0;34m\u001b[0m\u001b[0m\n",
      "\u001b[0;31mNameError\u001b[0m: name 'df' is not defined"
     ]
    }
   ],
   "source": [
    "df, user_ad_for_dot, user_ad_user_embed, user_ad_ad_embed = svd_two_cols(df, 'user_id', 'adid', 32)\n",
    "df, model_ad_for_dot, model_ad_model_embed, model_ad_ad_embed = svd_two_cols(df, 'model', 'adid', 32)\n",
    "df, tag_ad_for_dot, tag_ad_tag_embed, tag_ad_ad_embed = svd_two_cols(df, 'user_tags_sorted', 'adid', 32)\n",
    "print(df.shape)"
   ]
  },
  {
   "cell_type": "code",
   "execution_count": null,
   "metadata": {},
   "outputs": [],
   "source": []
  }
 ],
 "metadata": {
  "kernelspec": {
   "display_name": "Python 3",
   "language": "python",
   "name": "python3"
  },
  "language_info": {
   "codemirror_mode": {
    "name": "ipython",
    "version": 3
   },
   "file_extension": ".py",
   "mimetype": "text/x-python",
   "name": "python",
   "nbconvert_exporter": "python",
   "pygments_lexer": "ipython3",
   "version": "3.6.5"
  },
  "varInspector": {
   "cols": {
    "lenName": 16,
    "lenType": 16,
    "lenVar": 40
   },
   "kernels_config": {
    "python": {
     "delete_cmd_postfix": "",
     "delete_cmd_prefix": "del ",
     "library": "var_list.py",
     "varRefreshCmd": "print(var_dic_list())"
    },
    "r": {
     "delete_cmd_postfix": ") ",
     "delete_cmd_prefix": "rm(",
     "library": "var_list.r",
     "varRefreshCmd": "cat(var_dic_list()) "
    }
   },
   "types_to_exclude": [
    "module",
    "function",
    "builtin_function_or_method",
    "instance",
    "_Feature"
   ],
   "window_display": false
  }
 },
 "nbformat": 4,
 "nbformat_minor": 2
}
