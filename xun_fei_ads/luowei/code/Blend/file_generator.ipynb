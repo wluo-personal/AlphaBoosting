{
 "cells": [
  {
   "cell_type": "code",
   "execution_count": 17,
   "metadata": {
    "ExecuteTime": {
     "end_time": "2018-09-24T15:41:36.687166Z",
     "start_time": "2018-09-24T15:41:36.679448Z"
    }
   },
   "outputs": [],
   "source": [
    "__file__=''\n",
    "import os,sys\n",
    "import pandas as pd\n",
    "sys.path.append(os.path.join(os.path.dirname(__file__),'../LIB/'))\n",
    "sys.path.append(os.path.join(os.path.dirname(__file__),'../../../../automl/automl_libs/'))\n",
    "from env import FILE\n",
    "import pickle\n",
    "from tqdm import tqdm\n",
    "out_put_formatter = '../../for_shiyi/{}_oof.pkl'"
   ]
  },
  {
   "cell_type": "code",
   "execution_count": 18,
   "metadata": {
    "ExecuteTime": {
     "end_time": "2018-09-24T15:42:03.990738Z",
     "start_time": "2018-09-24T15:42:03.085707Z"
    }
   },
   "outputs": [],
   "source": [
    "nn_report = pd.read_csv('../../data/nn/report.csv')\n",
    "train_instance = pd.read_pickle(FILE.train_ori.value)[['instance_id']].copy()\n",
    "test_instance = pd.read_pickle(FILE.test_ori.value)[['instance_id']].copy()\n",
    "train_index = pickle.load(open(FILE.train_index.value,'rb'))\n",
    "holdout_index = pickle.load(open(FILE.holdout_index.value,'rb'))"
   ]
  },
  {
   "cell_type": "code",
   "execution_count": 23,
   "metadata": {
    "ExecuteTime": {
     "end_time": "2018-09-24T15:43:53.276387Z",
     "start_time": "2018-09-24T15:43:53.177666Z"
    }
   },
   "outputs": [],
   "source": [
    "oof = train_instance.loc[train_index].copy()\n",
    "holdout = train_instance.loc[holdout_index].copy()\n",
    "test = test_instance.copy()"
   ]
  },
  {
   "cell_type": "markdown",
   "metadata": {},
   "source": [
    "# load nn"
   ]
  },
  {
   "cell_type": "code",
   "execution_count": 24,
   "metadata": {
    "ExecuteTime": {
     "end_time": "2018-09-24T15:44:12.681897Z",
     "start_time": "2018-09-24T15:43:55.336511Z"
    }
   },
   "outputs": [
    {
     "name": "stderr",
     "output_type": "stream",
     "text": [
      "\r",
      "  0%|          | 0/30 [00:00<?, ?it/s]"
     ]
    },
    {
     "name": "stdout",
     "output_type": "stream",
     "text": [
      "30\n"
     ]
    },
    {
     "name": "stderr",
     "output_type": "stream",
     "text": [
      "100%|██████████| 30/30 [00:17<00:00,  1.73it/s]\n"
     ]
    }
   ],
   "source": [
    "filter_col = 'cv_mean'\n",
    "thred = 0.42\n",
    "nn_available_file = nn_report[nn_report[filter_col]<thred].fileName\n",
    "print(len(nn_available_file))\n",
    "\n",
    "for each_file in tqdm(nn_available_file):\n",
    "    train_load = pd.read_pickle('../../data/nn/train/{}'.format(each_file)).rename({'predicted_score':each_file},axis=1)\n",
    "    test_load = pd.read_pickle('../../data/nn/test/{}'.format(each_file)).rename({'predicted_score':each_file},axis=1)\n",
    "    oof = oof.merge(train_load,how='inner',on='instance_id')\n",
    "    holdout = holdout.merge(train_load,how='inner',on='instance_id')\n",
    "    test = test.merge(test_load,how='inner',on='instance_id')"
   ]
  },
  {
   "cell_type": "code",
   "execution_count": 26,
   "metadata": {
    "ExecuteTime": {
     "end_time": "2018-09-24T15:44:24.337680Z",
     "start_time": "2018-09-24T15:44:24.334760Z"
    }
   },
   "outputs": [
    {
     "name": "stdout",
     "output_type": "stream",
     "text": [
      "(961626, 31)\n",
      "(40024, 31)\n",
      "(40024, 31)\n"
     ]
    }
   ],
   "source": [
    "print(oof.shape)\n",
    "print(holdout.shape)\n",
    "print(test.shape)"
   ]
  },
  {
   "cell_type": "markdown",
   "metadata": {
    "ExecuteTime": {
     "end_time": "2018-09-24T15:44:13.928096Z",
     "start_time": "2018-09-24T15:44:13.643981Z"
    }
   },
   "source": [
    "# save"
   ]
  },
  {
   "cell_type": "code",
   "execution_count": 27,
   "metadata": {
    "ExecuteTime": {
     "end_time": "2018-09-24T15:45:24.663888Z",
     "start_time": "2018-09-24T15:45:24.258327Z"
    }
   },
   "outputs": [],
   "source": [
    "oof.to_pickle(out_put_formatter.format('train'))\n",
    "holdout.to_pickle(out_put_formatter.format('holdout'))\n",
    "test.to_pickle(out_put_formatter.format('test'))"
   ]
  },
  {
   "cell_type": "code",
   "execution_count": null,
   "metadata": {},
   "outputs": [],
   "source": []
  }
 ],
 "metadata": {
  "kernelspec": {
   "display_name": "Python 3",
   "language": "python",
   "name": "python3"
  },
  "language_info": {
   "codemirror_mode": {
    "name": "ipython",
    "version": 3
   },
   "file_extension": ".py",
   "mimetype": "text/x-python",
   "name": "python",
   "nbconvert_exporter": "python",
   "pygments_lexer": "ipython3",
   "version": "3.6.5"
  },
  "varInspector": {
   "cols": {
    "lenName": 16,
    "lenType": 16,
    "lenVar": 40
   },
   "kernels_config": {
    "python": {
     "delete_cmd_postfix": "",
     "delete_cmd_prefix": "del ",
     "library": "var_list.py",
     "varRefreshCmd": "print(var_dic_list())"
    },
    "r": {
     "delete_cmd_postfix": ") ",
     "delete_cmd_prefix": "rm(",
     "library": "var_list.r",
     "varRefreshCmd": "cat(var_dic_list()) "
    }
   },
   "types_to_exclude": [
    "module",
    "function",
    "builtin_function_or_method",
    "instance",
    "_Feature"
   ],
   "window_display": false
  }
 },
 "nbformat": 4,
 "nbformat_minor": 2
}
