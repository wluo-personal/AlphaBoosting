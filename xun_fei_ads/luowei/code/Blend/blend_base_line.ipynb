{
 "cells": [
  {
   "cell_type": "code",
   "execution_count": 1,
   "metadata": {
    "ExecuteTime": {
     "end_time": "2018-09-21T03:45:30.636279Z",
     "start_time": "2018-09-21T03:45:30.295786Z"
    }
   },
   "outputs": [],
   "source": [
    "import pandas as pd\n",
    "import numpy as np\n",
    "from sklearn.metrics import log_loss\n",
    "from tqdm import tqdm\n",
    "__file__=''\n",
    "import os,sys\n",
    "import pandas as pd\n",
    "sys.path.append(os.path.join(os.path.dirname(__file__),'../LIB/'))\n",
    "sys.path.append(os.path.join(os.path.dirname(__file__),'../../../../automl/automl_libs/'))\n",
    "from env import FILE"
   ]
  },
  {
   "cell_type": "code",
   "execution_count": 3,
   "metadata": {
    "ExecuteTime": {
     "end_time": "2018-09-21T03:45:43.893063Z",
     "start_time": "2018-09-21T03:45:43.880551Z"
    }
   },
   "outputs": [],
   "source": [
    "from os import walk\n",
    "\n",
    "    \n",
    "def best_blend_param_search(N_weight=5,N_search=10000):\n",
    "\n",
    "    ho = pd.read_csv('../../data/Blend/ho/ho_label.csv')\n",
    "    ho_y = ho['click'].values\n",
    "    \n",
    "    file_list = []\n",
    "    for (_, _, f) in walk('../../data/Blend/ho/'):\n",
    "        file_list.extend(f)\n",
    "        break\n",
    "\n",
    "    holdout_list = []\n",
    "    score_list = []\n",
    "    param_list = []\n",
    "    ignore_list = ['wei_4262.csv','wei_4260.csv','ho_logistic.csv']\n",
    "    file_list.remove('ho_label.csv')\n",
    "    for each in ignore_list:\n",
    "        file_list.remove(each)\n",
    "    for each in file_list:\n",
    "        df = pd.read_csv('../../data/Blend/ho/{}'.format(each))\n",
    "        holdout_list.append(ho.merge(df,how='left',left_on='instance_id',right_on='instance_id')['predicted_score'].values)\n",
    "    holdout_list = np.array(holdout_list)\n",
    "    for i in tqdm(range(N_search)):\n",
    "        param = np.random.randint(N_weight,size=(len(holdout_list)))\n",
    "        preds = np.zeros(holdout_list.shape[1])\n",
    "        w_sum = 0\n",
    "        for index in range(len(param)):\n",
    "            preds += param[index]*holdout_list[index]\n",
    "            w_sum += param[index]\n",
    "        if w_sum == 0:\n",
    "            continue\n",
    "        preds = preds/w_sum\n",
    "        score_list.append(log_loss(ho_y,preds))\n",
    "        param_list.append(param)\n",
    "    score_seri = pd.Series(score_list)\n",
    "    score_seri = score_seri.sort_values()    \n",
    "    index = score_seri.index.values[0]\n",
    "    best_score = score_seri.values[0]\n",
    "    best_param = param_list[index]\n",
    "    return_df = pd.DataFrame({'fileName':file_list,\n",
    "                              'weights':best_param})\n",
    "    return return_df,best_score"
   ]
  },
  {
   "cell_type": "code",
   "execution_count": 4,
   "metadata": {
    "ExecuteTime": {
     "end_time": "2018-09-21T03:46:04.242363Z",
     "start_time": "2018-09-21T03:45:44.701177Z"
    }
   },
   "outputs": [
    {
     "name": "stderr",
     "output_type": "stream",
     "text": [
      "100%|██████████| 3000/3000 [00:19<00:00, 155.16it/s]\n"
     ]
    },
    {
     "data": {
      "text/plain": [
       "0.42497208017225974"
      ]
     },
     "execution_count": 4,
     "metadata": {},
     "output_type": "execute_result"
    }
   ],
   "source": [
    "r,s = best_blend_param_search(N_weight=10,N_search=3000)\n",
    "s"
   ]
  },
  {
   "cell_type": "code",
   "execution_count": 87,
   "metadata": {
    "ExecuteTime": {
     "end_time": "2018-09-20T18:01:08.941625Z",
     "start_time": "2018-09-20T18:01:08.936481Z"
    }
   },
   "outputs": [
    {
     "data": {
      "text/html": [
       "<div>\n",
       "<style scoped>\n",
       "    .dataframe tbody tr th:only-of-type {\n",
       "        vertical-align: middle;\n",
       "    }\n",
       "\n",
       "    .dataframe tbody tr th {\n",
       "        vertical-align: top;\n",
       "    }\n",
       "\n",
       "    .dataframe thead th {\n",
       "        text-align: right;\n",
       "    }\n",
       "</style>\n",
       "<table border=\"1\" class=\"dataframe\">\n",
       "  <thead>\n",
       "    <tr style=\"text-align: right;\">\n",
       "      <th></th>\n",
       "      <th>fileName</th>\n",
       "      <th>weights</th>\n",
       "    </tr>\n",
       "  </thead>\n",
       "  <tbody>\n",
       "    <tr>\n",
       "      <th>0</th>\n",
       "      <td>nn_blend_0.42605738.csv</td>\n",
       "      <td>6</td>\n",
       "    </tr>\n",
       "    <tr>\n",
       "      <th>1</th>\n",
       "      <td>wei_4259.csv</td>\n",
       "      <td>5</td>\n",
       "    </tr>\n",
       "    <tr>\n",
       "      <th>2</th>\n",
       "      <td>shiyi_4258.csv</td>\n",
       "      <td>3</td>\n",
       "    </tr>\n",
       "    <tr>\n",
       "      <th>3</th>\n",
       "      <td>xgboost_baseline.csv</td>\n",
       "      <td>3</td>\n",
       "    </tr>\n",
       "  </tbody>\n",
       "</table>\n",
       "</div>"
      ],
      "text/plain": [
       "                  fileName  weights\n",
       "0  nn_blend_0.42605738.csv        6\n",
       "1             wei_4259.csv        5\n",
       "2           shiyi_4258.csv        3\n",
       "3     xgboost_baseline.csv        3"
      ]
     },
     "execution_count": 87,
     "metadata": {},
     "output_type": "execute_result"
    }
   ],
   "source": [
    "r"
   ]
  },
  {
   "cell_type": "code",
   "execution_count": 13,
   "metadata": {
    "ExecuteTime": {
     "end_time": "2018-09-21T12:38:37.542136Z",
     "start_time": "2018-09-21T12:38:37.527361Z"
    }
   },
   "outputs": [],
   "source": [
    "from os import walk\n",
    "\n",
    "    \n",
    "def best_blend_param_search_CV_noholdout(N_weight=5,N_search=10000):\n",
    "\n",
    "    train_cv = pd.read_pickle(FILE.train_CV_label.value)\n",
    "    y = train_cv.click.values\n",
    "    \n",
    "    file_list = []\n",
    "    for (_, _, f) in walk('../../data/Blend/oof/'):\n",
    "        file_list.extend(f)\n",
    "        break\n",
    "\n",
    "    cv_list = []\n",
    "    score_list = []\n",
    "    param_list = []\n",
    "    ignore_list = ['wei_4262.csv','wei_4260.csv','ho_logistic.csv']\n",
    "    for each in ignore_list:\n",
    "        try:\n",
    "            file_list.remove(each)\n",
    "        except:\n",
    "            pass\n",
    "    for each in file_list:\n",
    "        df = pd.read_csv('../../data/Blend/oof/{}'.format(each))\n",
    "        cv_list.append(train_cv.merge(df,how='inner',on='instance_id')['predicted_score'].values)\n",
    "    cv_list = np.array(cv_list)\n",
    "    for i in tqdm(range(N_search)):\n",
    "        param = np.random.randint(N_weight,size=(len(cv_list)))\n",
    "        preds = np.zeros(cv_list.shape[1])\n",
    "        w_sum = 0\n",
    "        for index in range(len(param)):\n",
    "            preds += param[index]*cv_list[index]\n",
    "            w_sum += param[index]\n",
    "        if w_sum == 0:\n",
    "            continue\n",
    "        preds = preds/w_sum\n",
    "        score_list.append(log_loss(y,preds))\n",
    "        param_list.append(param)\n",
    "    score_seri = pd.Series(score_list)\n",
    "    score_seri = score_seri.sort_values()    \n",
    "    index = score_seri.index.values[0]\n",
    "    best_score = score_seri.values[0]\n",
    "    best_param = param_list[index]\n",
    "    return_df = pd.DataFrame({'fileName':file_list,\n",
    "                              'weights':best_param})\n",
    "    return return_df,best_score"
   ]
  },
  {
   "cell_type": "code",
   "execution_count": 26,
   "metadata": {
    "ExecuteTime": {
     "end_time": "2018-09-21T15:18:58.318050Z",
     "start_time": "2018-09-21T15:08:58.980297Z"
    }
   },
   "outputs": [
    {
     "name": "stderr",
     "output_type": "stream",
     "text": [
      "100%|██████████| 5000/5000 [09:57<00:00,  8.37it/s]\n"
     ]
    },
    {
     "data": {
      "text/plain": [
       "0.4147037519894541"
      ]
     },
     "execution_count": 26,
     "metadata": {},
     "output_type": "execute_result"
    }
   ],
   "source": [
    "r,s = best_blend_param_search_CV_noholdout(N_weight=7,N_search=5000)\n",
    "s"
   ]
  },
  {
   "cell_type": "code",
   "execution_count": 28,
   "metadata": {
    "ExecuteTime": {
     "end_time": "2018-09-21T15:20:55.079912Z",
     "start_time": "2018-09-21T15:20:55.069500Z"
    }
   },
   "outputs": [
    {
     "data": {
      "text/html": [
       "<div>\n",
       "<style scoped>\n",
       "    .dataframe tbody tr th:only-of-type {\n",
       "        vertical-align: middle;\n",
       "    }\n",
       "\n",
       "    .dataframe tbody tr th {\n",
       "        vertical-align: top;\n",
       "    }\n",
       "\n",
       "    .dataframe thead th {\n",
       "        text-align: right;\n",
       "    }\n",
       "</style>\n",
       "<table border=\"1\" class=\"dataframe\">\n",
       "  <thead>\n",
       "    <tr style=\"text-align: right;\">\n",
       "      <th></th>\n",
       "      <th>fileName</th>\n",
       "      <th>weights</th>\n",
       "    </tr>\n",
       "  </thead>\n",
       "  <tbody>\n",
       "    <tr>\n",
       "      <th>0</th>\n",
       "      <td>ffm_train96W_oof.csv</td>\n",
       "      <td>1</td>\n",
       "    </tr>\n",
       "    <tr>\n",
       "      <th>1</th>\n",
       "      <td>nn_cv_blend_0.41721715.csv</td>\n",
       "      <td>4</td>\n",
       "    </tr>\n",
       "    <tr>\n",
       "      <th>2</th>\n",
       "      <td>wei4259.csv</td>\n",
       "      <td>2</td>\n",
       "    </tr>\n",
       "    <tr>\n",
       "      <th>3</th>\n",
       "      <td>xgb_train96W_oof.csv</td>\n",
       "      <td>6</td>\n",
       "    </tr>\n",
       "  </tbody>\n",
       "</table>\n",
       "</div>"
      ],
      "text/plain": [
       "                     fileName  weights\n",
       "0        ffm_train96W_oof.csv        1\n",
       "1  nn_cv_blend_0.41721715.csv        4\n",
       "2                 wei4259.csv        2\n",
       "3        xgb_train96W_oof.csv        6"
      ]
     },
     "execution_count": 28,
     "metadata": {},
     "output_type": "execute_result"
    }
   ],
   "source": [
    "r"
   ]
  },
  {
   "cell_type": "code",
   "execution_count": 24,
   "metadata": {
    "ExecuteTime": {
     "end_time": "2018-09-21T13:58:12.065636Z",
     "start_time": "2018-09-21T13:57:07.714630Z"
    }
   },
   "outputs": [
    {
     "name": "stderr",
     "output_type": "stream",
     "text": [
      "100%|██████████| 500/500 [01:01<00:00,  8.10it/s]\n"
     ]
    },
    {
     "data": {
      "text/plain": [
       "0.4146395254289823"
      ]
     },
     "execution_count": 24,
     "metadata": {},
     "output_type": "execute_result"
    }
   ],
   "source": [
    "r,s = best_blend_param_search_CV_noholdout(N_weight=7,N_search=500)\n",
    "s"
   ]
  },
  {
   "cell_type": "code",
   "execution_count": 25,
   "metadata": {
    "ExecuteTime": {
     "end_time": "2018-09-21T13:58:12.176698Z",
     "start_time": "2018-09-21T13:58:12.172239Z"
    }
   },
   "outputs": [
    {
     "data": {
      "text/html": [
       "<div>\n",
       "<style scoped>\n",
       "    .dataframe tbody tr th:only-of-type {\n",
       "        vertical-align: middle;\n",
       "    }\n",
       "\n",
       "    .dataframe tbody tr th {\n",
       "        vertical-align: top;\n",
       "    }\n",
       "\n",
       "    .dataframe thead th {\n",
       "        text-align: right;\n",
       "    }\n",
       "</style>\n",
       "<table border=\"1\" class=\"dataframe\">\n",
       "  <thead>\n",
       "    <tr style=\"text-align: right;\">\n",
       "      <th></th>\n",
       "      <th>fileName</th>\n",
       "      <th>weights</th>\n",
       "    </tr>\n",
       "  </thead>\n",
       "  <tbody>\n",
       "    <tr>\n",
       "      <th>0</th>\n",
       "      <td>nn_cv_tfidf_blend_0.41746588.csv</td>\n",
       "      <td>1</td>\n",
       "    </tr>\n",
       "    <tr>\n",
       "      <th>1</th>\n",
       "      <td>nn_cv_blend_0.41726551.csv</td>\n",
       "      <td>6</td>\n",
       "    </tr>\n",
       "    <tr>\n",
       "      <th>2</th>\n",
       "      <td>ffm_train96W_oof.csv</td>\n",
       "      <td>3</td>\n",
       "    </tr>\n",
       "    <tr>\n",
       "      <th>3</th>\n",
       "      <td>wei4259.csv</td>\n",
       "      <td>3</td>\n",
       "    </tr>\n",
       "    <tr>\n",
       "      <th>4</th>\n",
       "      <td>xgb_train96W_oof.csv</td>\n",
       "      <td>6</td>\n",
       "    </tr>\n",
       "  </tbody>\n",
       "</table>\n",
       "</div>"
      ],
      "text/plain": [
       "                           fileName  weights\n",
       "0  nn_cv_tfidf_blend_0.41746588.csv        1\n",
       "1        nn_cv_blend_0.41726551.csv        6\n",
       "2              ffm_train96W_oof.csv        3\n",
       "3                       wei4259.csv        3\n",
       "4              xgb_train96W_oof.csv        6"
      ]
     },
     "execution_count": 25,
     "metadata": {},
     "output_type": "execute_result"
    }
   ],
   "source": [
    "r"
   ]
  },
  {
   "cell_type": "code",
   "execution_count": null,
   "metadata": {},
   "outputs": [],
   "source": []
  }
 ],
 "metadata": {
  "kernelspec": {
   "display_name": "Python 3",
   "language": "python",
   "name": "python3"
  },
  "language_info": {
   "codemirror_mode": {
    "name": "ipython",
    "version": 3
   },
   "file_extension": ".py",
   "mimetype": "text/x-python",
   "name": "python",
   "nbconvert_exporter": "python",
   "pygments_lexer": "ipython3",
   "version": "3.6.5"
  },
  "varInspector": {
   "cols": {
    "lenName": 16,
    "lenType": 16,
    "lenVar": 40
   },
   "kernels_config": {
    "python": {
     "delete_cmd_postfix": "",
     "delete_cmd_prefix": "del ",
     "library": "var_list.py",
     "varRefreshCmd": "print(var_dic_list())"
    },
    "r": {
     "delete_cmd_postfix": ") ",
     "delete_cmd_prefix": "rm(",
     "library": "var_list.r",
     "varRefreshCmd": "cat(var_dic_list()) "
    }
   },
   "types_to_exclude": [
    "module",
    "function",
    "builtin_function_or_method",
    "instance",
    "_Feature"
   ],
   "window_display": false
  }
 },
 "nbformat": 4,
 "nbformat_minor": 2
}
