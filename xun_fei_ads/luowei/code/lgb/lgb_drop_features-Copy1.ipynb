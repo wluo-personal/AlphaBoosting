{
 "cells": [
  {
   "cell_type": "code",
   "execution_count": 1,
   "metadata": {
    "ExecuteTime": {
     "end_time": "2018-10-16T18:51:43.517300Z",
     "start_time": "2018-10-16T18:51:43.075810Z"
    }
   },
   "outputs": [],
   "source": [
    "import lightgbm as lgb\n",
    "__file__=''\n",
    "import os,sys\n",
    "import pandas as pd\n",
    "sys.path.append(os.path.join(os.path.dirname(__file__),'../LIB/'))\n",
    "sys.path.append(os.path.join(os.path.dirname(__file__),'../../../../automl/automl_libs/'))\n",
    "from env import FILE\n",
    "from sklearn.feature_extraction import FeatureHasher\n",
    "from sklearn.preprocessing import LabelEncoder\n",
    "le = LabelEncoder()\n",
    "from tqdm import tqdm\n",
    "from scipy import sparse \n",
    "import numpy as np\n",
    "from sklearn.model_selection import StratifiedKFold\n",
    "from sklearn.feature_selection import chi2, SelectPercentile,SelectKBest\n",
    "import gc\n",
    "import time\n",
    "from sklearn.feature_selection import chi2, SelectPercentile"
   ]
  },
  {
   "cell_type": "code",
   "execution_count": 2,
   "metadata": {
    "ExecuteTime": {
     "end_time": "2018-10-16T18:51:44.516533Z",
     "start_time": "2018-10-16T18:51:44.502308Z"
    }
   },
   "outputs": [],
   "source": [
    "from scipy.sparse import csr_matrix\n",
    "def save_csr(matrix,file_prefix='csr'):\n",
    "    data_file = file_prefix + '_data.npy'\n",
    "    indices_file = file_prefix + '_indices.npy'\n",
    "    indptr_file = file_prefix + '_indptr.npy'\n",
    "    np.save(data_file,matrix.data)\n",
    "    print('data save')\n",
    "    np.save(indices_file,matrix.indices)\n",
    "    print('indices save')\n",
    "    np.save(indptr_file,matrix.indptr)\n",
    "    print('indptr save')\n",
    "    print('save done!')\n",
    "    \n",
    "def load_csr(file_prefix='csr'):\n",
    "    data_file = file_prefix + '_data.npy'\n",
    "    indices_file = file_prefix + '_indices.npy'\n",
    "    indptr_file = file_prefix + '_indptr.npy'\n",
    "    data = np.load(data_file)\n",
    "    print('data load')\n",
    "    indices = np.load(indices_file)\n",
    "    print('indices load')\n",
    "    indptr = np.load(indptr_file)\n",
    "    print('indptr load')\n",
    "    csr = csr_matrix((data, indices, indptr))\n",
    "    return csr"
   ]
  },
  {
   "cell_type": "code",
   "execution_count": 3,
   "metadata": {
    "ExecuteTime": {
     "end_time": "2018-10-16T18:51:46.982010Z",
     "start_time": "2018-10-16T18:51:45.879784Z"
    }
   },
   "outputs": [
    {
     "name": "stdout",
     "output_type": "stream",
     "text": [
      "data load\n",
      "indices load\n",
      "indptr load\n",
      "data load\n",
      "indices load\n",
      "indptr load\n"
     ]
    }
   ],
   "source": [
    "train_csr = load_csr('../../data/features/xgb/train_csr')\n",
    "predict_csr = load_csr('../../data/features/xgb/predict_csr')\n",
    "train_y = np.load('../../data/features/xgb/train_y.npy')\n",
    "predicted_file = pd.read_pickle('../../data/features/xgb/predict_id.pkl')"
   ]
  },
  {
   "cell_type": "markdown",
   "metadata": {},
   "source": [
    "# Load More features"
   ]
  },
  {
   "cell_type": "code",
   "execution_count": 5,
   "metadata": {
    "ExecuteTime": {
     "end_time": "2018-10-16T18:52:28.206066Z",
     "start_time": "2018-10-16T18:52:16.981034Z"
    }
   },
   "outputs": [
    {
     "name": "stdout",
     "output_type": "stream",
     "text": [
      "(3072915, 838)\n"
     ]
    }
   ],
   "source": [
    "X_fe = pd.read_pickle('../../data/features/xgb/new_feats_838.pkl')\n",
    "print(X_fe.shape)\n",
    "X_ = X_fe.copy()\n",
    "\n"
   ]
  },
  {
   "cell_type": "code",
   "execution_count": 6,
   "metadata": {
    "ExecuteTime": {
     "end_time": "2018-10-16T19:04:13.817456Z",
     "start_time": "2018-10-16T18:52:29.851619Z"
    }
   },
   "outputs": [
    {
     "name": "stderr",
     "output_type": "stream",
     "text": [
      "100%|██████████| 838/838 [11:43<00:00,  1.19it/s]\n"
     ]
    }
   ],
   "source": [
    "cut_bin = 30\n",
    "for col in tqdm(X_fe.columns):\n",
    "        X_[col] = pd.cut(X_fe[col], bins=cut_bin, labels=False, retbins=True, right=False)[0]  "
   ]
  },
  {
   "cell_type": "markdown",
   "metadata": {},
   "source": [
    "# Append more data from SVD"
   ]
  },
  {
   "cell_type": "code",
   "execution_count": 6,
   "metadata": {
    "ExecuteTime": {
     "end_time": "2018-10-16T16:59:46.497205Z",
     "start_time": "2018-10-16T16:59:46.495021Z"
    }
   },
   "outputs": [],
   "source": [
    "# train_csr_f = load_csr('../../data/features/xgb/train_csr_2500')\n",
    "# predict_csr_f = load_csr('../../data/features/xgb/predict_csr_2500')\n",
    "# train_instance = pd.read_pickle('../../data/features/xgb/train_noclean_bytime.pkl')[['instance_id']].copy()\n",
    "# train_y = np.load('../../data/features/xgb/train_y_f620_b70_col17k.npy')\n",
    "\n",
    "# X_u = pd.read_pickle('../../data/features/agg/svd_utag_adid_cnt.pkl')\n",
    "# X_u = train_instance.merge(X_u,on='instance_id',how='inner')\n",
    "# X_u.drop('instance_id',inplace=True,axis=1)\n",
    "\n",
    "# cut_bin = 30\n",
    "# # selected_col = [col for col in X_u.columns if 'utagsIndividual_svd' not in col]\n",
    "# # X_u = X_u[selected_col]\n",
    "# for col in tqdm(X_u.columns):\n",
    "#         X_u[col] = pd.cut(X_u[col], bins=cut_bin, labels=False, retbins=True, right=False)[0]  \n",
    "        \n",
    "# print(train_csr_f.shape)\n",
    "# train_csr_f = sparse.hstack(\n",
    "#     (sparse.csr_matrix(X_u.iloc[:train_csr_f.shape[0]]), train_csr_f), 'csr').astype(\n",
    "#     'float32')\n",
    "# predict_csr_f = sparse.hstack(\n",
    "#     (sparse.csr_matrix(X_u.iloc[train_csr_f.shape[0]:]), predict_csr_f), 'csr').astype('float32')\n",
    "# print(train_csr_f.shape)\n",
    "        \n",
    "        "
   ]
  },
  {
   "cell_type": "code",
   "execution_count": 8,
   "metadata": {
    "ExecuteTime": {
     "end_time": "2018-10-16T19:15:54.580972Z",
     "start_time": "2018-10-16T19:11:35.458841Z"
    }
   },
   "outputs": [
    {
     "name": "stdout",
     "output_type": "stream",
     "text": [
      "(2992639, 34740)\n",
      "(80276, 34740)\n"
     ]
    }
   ],
   "source": [
    "# train_csr_f = sparse.hstack(\n",
    "#     (sparse.csr_matrix(X_.iloc[:train_csr.shape[0]]), train_csr_10k), 'csr').astype(\n",
    "#     'float32')\n",
    "# predict_csr_f = sparse.hstack(\n",
    "#     (sparse.csr_matrix(X_.iloc[train_csr.shape[0]:]), predict_csr_10k), 'csr').astype('float32')\n",
    "\n",
    "\n",
    "\n",
    "train_csr_f = sparse.hstack(\n",
    "    (sparse.csr_matrix(X_.iloc[:train_csr.shape[0]]), train_csr), 'csr').astype(\n",
    "    'float32')\n",
    "predict_csr_f = sparse.hstack(\n",
    "    (sparse.csr_matrix(X_.iloc[train_csr.shape[0]:]), predict_csr), 'csr').astype('float32')\n",
    "\n",
    "print(train_csr_f.shape)\n",
    "print(predict_csr_f.shape)\n",
    "\n"
   ]
  },
  {
   "cell_type": "code",
   "execution_count": 9,
   "metadata": {
    "ExecuteTime": {
     "end_time": "2018-10-16T17:01:57.480910Z",
     "start_time": "2018-10-16T17:01:57.479149Z"
    }
   },
   "outputs": [],
   "source": [
    "# feature_select = SelectKBest(chi2, percentile=10000)\n",
    "# feature_select.fit(train_csr, train_y)\n",
    "# train_csr = feature_select.transform(train_csr)\n",
    "# predict_csr = feature_select.transform(predict_csr)\n",
    "# print('feature select')\n",
    "# print(train_csr.shape)"
   ]
  },
  {
   "cell_type": "markdown",
   "metadata": {},
   "source": [
    "# Generate sample"
   ]
  },
  {
   "cell_type": "code",
   "execution_count": 10,
   "metadata": {
    "ExecuteTime": {
     "end_time": "2018-10-16T17:01:57.488754Z",
     "start_time": "2018-10-16T17:01:57.482170Z"
    }
   },
   "outputs": [],
   "source": [
    "# sample_size = 400000\n",
    "# sample_times = 2\n",
    "# sample_all = pd.DataFrame({'data':range(train_csr.shape[0])})\n",
    "# sample_index_list = []\n",
    "# samples = []\n",
    "# samples_y = []\n",
    "# for i in tqdm(range(sample_times)):\n",
    "#     sample_index_list.append(list(sample_all.sample(sample_size).index))\n",
    "#     samples.append(train_csr[sample_index_list[i]])\n",
    "#     samples_y.append(train_y[sample_index_list[i]])\n"
   ]
  },
  {
   "cell_type": "markdown",
   "metadata": {},
   "source": [
    "# Define lgb model"
   ]
  },
  {
   "cell_type": "code",
   "execution_count": 15,
   "metadata": {
    "ExecuteTime": {
     "end_time": "2018-10-16T19:58:34.046896Z",
     "start_time": "2018-10-16T19:58:34.035677Z"
    }
   },
   "outputs": [],
   "source": [
    "lgb_model = lgb.LGBMClassifier(\n",
    "    boosting_type='gbdt', num_leaves=32, reg_alpha=0, reg_lambda=0.1,\n",
    "    max_depth=-1, n_estimators=400, objective='binary',\n",
    "    subsample=0.7, colsample_bytree=0.7, subsample_freq=1,\n",
    "    learning_rate=0.05, random_state=1001, n_jobs=16\n",
    ")\n"
   ]
  },
  {
   "cell_type": "code",
   "execution_count": 10,
   "metadata": {
    "ExecuteTime": {
     "end_time": "2018-10-16T19:16:56.749577Z",
     "start_time": "2018-10-16T19:16:56.731065Z"
    }
   },
   "outputs": [],
   "source": [
    "def test_on_sample(train_csr_f,train_y_f,lgb_model,n_fold = 5,seed=None,first=2500):\n",
    "    if seed is None:\n",
    "        seed = np.random.randint(1000)\n",
    "    cv_list = []\n",
    "    skf = StratifiedKFold(n_splits=n_fold, random_state=seed, shuffle=True)\n",
    "    best_score = []\n",
    "\n",
    "\n",
    "    feature_importance_tmp_split = []\n",
    "    feature_importance_tmp_gain = []\n",
    "    df_fea = pd.DataFrame()\n",
    "\n",
    "    t1 = time.time()\n",
    "    for index, (train_index, test_index) in enumerate(skf.split(train_csr_f, train_y_f)):\n",
    "        lgb_model.fit(train_csr_f[train_index], train_y_f[train_index],\n",
    "                      eval_set=[(train_csr_f[train_index], train_y_f[train_index]),\n",
    "                                (train_csr_f[test_index], train_y_f[test_index])], early_stopping_rounds=200,verbose=200)\n",
    "        best_score.append(lgb_model.best_score_['valid_1']['binary_logloss'])\n",
    "        print(best_score)\n",
    "        print('cv:',np.mean(best_score))\n",
    "        test_pred = lgb_model.predict_proba(predict_csr_f, ntree_limit=lgb_model.best_iteration_)[:, 1]\n",
    "        print('test mean:', test_pred.mean())\n",
    "        feature_importance_tmp_split.append(lgb_model.booster_.feature_importance(importance_type='split'))\n",
    "        feature_importance_tmp_gain.append(lgb_model.booster_.feature_importance(importance_type='gain'))\n",
    "\n",
    "    df_fea['col_name'] = lgb_model.booster_.feature_name()\n",
    "    df_fea['split'] = np.mean(feature_importance_tmp_split,axis=0)\n",
    "    df_fea['gain'] = np.mean(feature_importance_tmp_gain,axis=0)\n",
    "\n",
    "    cv_list.append(np.mean(best_score))\n",
    "    t2 = time.time()\n",
    "    print('time spend: {} s'.format(t2-t1))\n",
    "    print('after dropping...')\n",
    "\n",
    "\n",
    "    split_index = list(df_fea[df_fea.split!=0].index)\n",
    "    gain_index = list(df_fea[df_fea.gain!=0].index)\n",
    "    #union\n",
    "#     retain_index = list(set(split_index+gain_index))\n",
    "    #intersection\n",
    "#     retain_index = list(set(split_index).intersection(set(gain_index)))\n",
    "    if first is None:\n",
    "        first = 500\n",
    "    split_index = df_fea.sort_values('split',ascending=False)['split'].index.values[:first]\n",
    "    gain_index = df_fea.sort_values('gain',ascending=False)['gain'].index.values[:first]\n",
    "    retain_index = list(set(split_index).intersection(set(gain_index)))\n",
    "    print(len(retain_index))\n",
    "\n",
    "    best_scor2 = []\n",
    "    t1 = time.time()\n",
    "    for index, (train_index, test_index) in enumerate(skf.split(train_csr_f, train_y_f)):\n",
    "        lgb_model.fit(train_csr_f[train_index][:,retain_index], train_y_f[train_index],\n",
    "                      eval_set=[(train_csr_f[train_index][:,retain_index], train_y_f[train_index]),\n",
    "                                (train_csr_f[test_index][:,retain_index], train_y_f[test_index])], early_stopping_rounds=200,verbose=200)\n",
    "        best_scor2.append(lgb_model.best_score_['valid_1']['binary_logloss'])\n",
    "        print(best_scor2)\n",
    "        print('cv:',np.mean(best_scor2))\n",
    "        #####################\n",
    "        test_pred = lgb_model.predict_proba(predict_csr_f[:,retain_index], num_iteration=lgb_model.best_iteration_)[:, 1]\n",
    "        print('test mean:', test_pred.mean())\n",
    "        #####################\n",
    "    cv_list.append(np.mean(best_scor2))\n",
    "    drop = False\n",
    "    if cv_list[-1] < cv_list[-2]:\n",
    "        print('dropping successfully!')\n",
    "        print('cv drop:{}'.format(cv_list[-2]-cv_list[-1]))\n",
    "        drop = True\n",
    "    else:\n",
    "        print('dropping failed!!!!!!')\n",
    "        print('cv increase:{}'.format(cv_list[-1]-cv_list[-2]))\n",
    "    t2 = time.time()\n",
    "    print('time spend: {} s'.format(t2-t1))\n",
    "    return df_fea, retain_index, drop"
   ]
  },
  {
   "cell_type": "code",
   "execution_count": 11,
   "metadata": {
    "ExecuteTime": {
     "end_time": "2018-10-16T19:16:58.881696Z",
     "start_time": "2018-10-16T19:16:58.869179Z"
    }
   },
   "outputs": [],
   "source": [
    "def verify_on_sample(train_csr_f,train_y_f,lgb_model,retain_index,n_fold = 3,seed=None,cv_list=[]):\n",
    "    if seed is None:\n",
    "        seed = np.random.randint(1000)\n",
    "\n",
    "    skf = StratifiedKFold(n_splits=n_fold, random_state=seed, shuffle=True)\n",
    "    best_score = []\n",
    "    \n",
    "    if len(cv_list) == 0:\n",
    "\n",
    "        t1 = time.time()\n",
    "        for index, (train_index, test_index) in enumerate(skf.split(train_csr_f, train_y_f)):\n",
    "            lgb_model.fit(train_csr_f[train_index], train_y_f[train_index],\n",
    "                          eval_set=[(train_csr_f[train_index], train_y_f[train_index]),\n",
    "                                    (train_csr_f[test_index], train_y_f[test_index])], early_stopping_rounds=100,verbose=200)\n",
    "            best_score.append(lgb_model.best_score_['valid_1']['binary_logloss'])\n",
    "            print(best_score)\n",
    "            print('cv:',np.mean(best_score))\n",
    "\n",
    "\n",
    "\n",
    "\n",
    "        cv_list.append(np.mean(best_score))\n",
    "        t2 = time.time()\n",
    "        print('time spend: {} s'.format(t2-t1))\n",
    "        print('after dropping...')\n",
    "\n",
    "        print(len(retain_index))\n",
    "\n",
    "    best_scor2 = []\n",
    "    t1 = time.time()\n",
    "    for index, (train_index, test_index) in enumerate(skf.split(train_csr_f, train_y_f)):\n",
    "        lgb_model.fit(train_csr_f[train_index][:,retain_index], train_y_f[train_index],\n",
    "                      eval_set=[(train_csr_f[train_index][:,retain_index], train_y_f[train_index]),\n",
    "                                (train_csr_f[test_index][:,retain_index], train_y_f[test_index])], early_stopping_rounds=100,verbose=200)\n",
    "        best_scor2.append(lgb_model.best_score_['valid_1']['binary_logloss'])\n",
    "        print(best_scor2)\n",
    "        print('cv:',np.mean(best_scor2))\n",
    "    cv_list.append(np.mean(best_scor2))\n",
    "    t2 = time.time()\n",
    "    print('time spend: {} s'.format(t2-t1))\n",
    "\n",
    "    if cv_list[-1] < cv_list[-2]:\n",
    "        print('dropping successfully!')\n",
    "        print('cv drop:{}'.format(cv_list[-2]-cv_list[-1]))\n",
    "        return True\n",
    "    else:\n",
    "        print('dropping failed!!!!!!')\n",
    "        print('cv increase:{}'.format(cv_list[-1]-cv_list[-2]))\n",
    "        return False\n",
    "    \n",
    "    "
   ]
  },
  {
   "cell_type": "code",
   "execution_count": null,
   "metadata": {
    "ExecuteTime": {
     "start_time": "2018-10-16T19:58:52.660Z"
    }
   },
   "outputs": [
    {
     "name": "stdout",
     "output_type": "stream",
     "text": [
      "Training until validation scores don't improve for 200 rounds.\n",
      "[200]\tvalid_0's binary_logloss: 0.416003\tvalid_1's binary_logloss: 0.415773\n",
      "[400]\tvalid_0's binary_logloss: 0.413798\tvalid_1's binary_logloss: 0.41469\n",
      "Did not meet early stopping. Best iteration is:\n",
      "[400]\tvalid_0's binary_logloss: 0.413798\tvalid_1's binary_logloss: 0.41469\n",
      "[0.41468987784507]\n",
      "cv: 0.41468987784507\n",
      "test mean: 0.21385778288287302\n",
      "Training until validation scores don't improve for 200 rounds.\n",
      "[200]\tvalid_0's binary_logloss: 0.415734\tvalid_1's binary_logloss: 0.416863\n",
      "[400]\tvalid_0's binary_logloss: 0.413504\tvalid_1's binary_logloss: 0.415771\n",
      "Did not meet early stopping. Best iteration is:\n",
      "[400]\tvalid_0's binary_logloss: 0.413504\tvalid_1's binary_logloss: 0.415771\n",
      "[0.41468987784507, 0.41577065575283384]\n",
      "cv: 0.4152302667989519\n",
      "test mean: 0.21546037003409182\n",
      "Training until validation scores don't improve for 200 rounds.\n",
      "[200]\tvalid_0's binary_logloss: 0.415754\tvalid_1's binary_logloss: 0.416771\n",
      "[400]\tvalid_0's binary_logloss: 0.41351\tvalid_1's binary_logloss: 0.415705\n",
      "Did not meet early stopping. Best iteration is:\n",
      "[400]\tvalid_0's binary_logloss: 0.41351\tvalid_1's binary_logloss: 0.415705\n",
      "[0.41468987784507, 0.41577065575283384, 0.4157052807408765]\n",
      "cv: 0.41538860477959344\n",
      "test mean: 0.21890798501469624\n",
      "Training until validation scores don't improve for 200 rounds.\n"
     ]
    }
   ],
   "source": [
    "gc.collect()\n",
    "df_fea, retain_index, ifdrop = test_on_sample(train_csr_f,train_y,lgb_model,n_fold = 5,seed=19,first=2500)"
   ]
  },
  {
   "cell_type": "code",
   "execution_count": 14,
   "metadata": {
    "ExecuteTime": {
     "end_time": "2018-10-16T19:58:25.988279Z",
     "start_time": "2018-10-16T19:28:32.691282Z"
    }
   },
   "outputs": [
    {
     "name": "stdout",
     "output_type": "stream",
     "text": [
      "Training until validation scores don't improve for 200 rounds.\n",
      "[200]\tvalid_0's binary_logloss: 0.416003\tvalid_1's binary_logloss: 0.415773\n",
      "[400]\tvalid_0's binary_logloss: 0.413798\tvalid_1's binary_logloss: 0.41469\n",
      "[600]\tvalid_0's binary_logloss: 0.412166\tvalid_1's binary_logloss: 0.414281\n",
      "[800]\tvalid_0's binary_logloss: 0.410742\tvalid_1's binary_logloss: 0.414103\n",
      "[1000]\tvalid_0's binary_logloss: 0.409395\tvalid_1's binary_logloss: 0.413988\n",
      "[1200]\tvalid_0's binary_logloss: 0.408112\tvalid_1's binary_logloss: 0.41391\n",
      "[1400]\tvalid_0's binary_logloss: 0.406889\tvalid_1's binary_logloss: 0.413861\n",
      "[1600]\tvalid_0's binary_logloss: 0.405676\tvalid_1's binary_logloss: 0.413817\n",
      "[1800]\tvalid_0's binary_logloss: 0.404507\tvalid_1's binary_logloss: 0.413788\n",
      "[2000]\tvalid_0's binary_logloss: 0.403356\tvalid_1's binary_logloss: 0.41377\n",
      "[2200]\tvalid_0's binary_logloss: 0.402219\tvalid_1's binary_logloss: 0.413763\n",
      "[2400]\tvalid_0's binary_logloss: 0.401137\tvalid_1's binary_logloss: 0.413783\n",
      "Early stopping, best iteration is:\n",
      "[2223]\tvalid_0's binary_logloss: 0.402098\tvalid_1's binary_logloss: 0.413759\n",
      "[0.4137593894685713]\n",
      "cv: 0.4137593894685713\n",
      "test mean: 0.23762591117239676\n"
     ]
    },
    {
     "ename": "KeyboardInterrupt",
     "evalue": "",
     "output_type": "error",
     "traceback": [
      "\u001b[0;31m---------------------------------------------------------------------------\u001b[0m",
      "\u001b[0;31mKeyboardInterrupt\u001b[0m                         Traceback (most recent call last)",
      "\u001b[0;32m?\u001b[0m in \u001b[0;36m<module>\u001b[0;34m()\u001b[0m\n\u001b[1;32m      1\u001b[0m \u001b[0mgc\u001b[0m\u001b[0;34m.\u001b[0m\u001b[0mcollect\u001b[0m\u001b[0;34m(\u001b[0m\u001b[0;34m)\u001b[0m\u001b[0;34m\u001b[0m\u001b[0m\n\u001b[0;32m----> 2\u001b[0;31m \u001b[0mdf_fea\u001b[0m\u001b[0;34m,\u001b[0m \u001b[0mretain_index\u001b[0m\u001b[0;34m,\u001b[0m \u001b[0mifdrop\u001b[0m \u001b[0;34m=\u001b[0m \u001b[0mtest_on_sample\u001b[0m\u001b[0;34m(\u001b[0m\u001b[0mtrain_csr_f\u001b[0m\u001b[0;34m,\u001b[0m\u001b[0mtrain_y\u001b[0m\u001b[0;34m,\u001b[0m\u001b[0mlgb_model\u001b[0m\u001b[0;34m,\u001b[0m\u001b[0mn_fold\u001b[0m \u001b[0;34m=\u001b[0m \u001b[0;36m5\u001b[0m\u001b[0;34m,\u001b[0m\u001b[0mseed\u001b[0m\u001b[0;34m=\u001b[0m\u001b[0;36m19\u001b[0m\u001b[0;34m,\u001b[0m\u001b[0mfirst\u001b[0m\u001b[0;34m=\u001b[0m\u001b[0;36m2500\u001b[0m\u001b[0;34m)\u001b[0m\u001b[0;34m\u001b[0m\u001b[0m\n\u001b[0m",
      "\u001b[0;32m?\u001b[0m in \u001b[0;36mtest_on_sample\u001b[0;34m(train_csr_f, train_y_f, lgb_model, n_fold, seed, first)\u001b[0m\n\u001b[1;32m     15\u001b[0m         lgb_model.fit(train_csr_f[train_index], train_y_f[train_index],\n\u001b[1;32m     16\u001b[0m                       eval_set=[(train_csr_f[train_index], train_y_f[train_index]),\n\u001b[0;32m---> 17\u001b[0;31m                                 (train_csr_f[test_index], train_y_f[test_index])], early_stopping_rounds=200,verbose=200)\n\u001b[0m\u001b[1;32m     18\u001b[0m         \u001b[0mbest_score\u001b[0m\u001b[0;34m.\u001b[0m\u001b[0mappend\u001b[0m\u001b[0;34m(\u001b[0m\u001b[0mlgb_model\u001b[0m\u001b[0;34m.\u001b[0m\u001b[0mbest_score_\u001b[0m\u001b[0;34m[\u001b[0m\u001b[0;34m'valid_1'\u001b[0m\u001b[0;34m]\u001b[0m\u001b[0;34m[\u001b[0m\u001b[0;34m'binary_logloss'\u001b[0m\u001b[0;34m]\u001b[0m\u001b[0;34m)\u001b[0m\u001b[0;34m\u001b[0m\u001b[0m\n\u001b[1;32m     19\u001b[0m         \u001b[0mprint\u001b[0m\u001b[0;34m(\u001b[0m\u001b[0mbest_score\u001b[0m\u001b[0;34m)\u001b[0m\u001b[0;34m\u001b[0m\u001b[0m\n",
      "\u001b[0;32m~/anaconda3/lib/python3.6/site-packages/lightgbm/sklearn.py\u001b[0m in \u001b[0;36mfit\u001b[0;34m(self, X, y, sample_weight, init_score, eval_set, eval_names, eval_sample_weight, eval_class_weight, eval_init_score, eval_metric, early_stopping_rounds, verbose, feature_name, categorical_feature, callbacks)\u001b[0m\n\u001b[1;32m    693\u001b[0m                                         \u001b[0mverbose\u001b[0m\u001b[0;34m=\u001b[0m\u001b[0mverbose\u001b[0m\u001b[0;34m,\u001b[0m \u001b[0mfeature_name\u001b[0m\u001b[0;34m=\u001b[0m\u001b[0mfeature_name\u001b[0m\u001b[0;34m,\u001b[0m\u001b[0;34m\u001b[0m\u001b[0m\n\u001b[1;32m    694\u001b[0m                                         \u001b[0mcategorical_feature\u001b[0m\u001b[0;34m=\u001b[0m\u001b[0mcategorical_feature\u001b[0m\u001b[0;34m,\u001b[0m\u001b[0;34m\u001b[0m\u001b[0m\n\u001b[0;32m--> 695\u001b[0;31m                                         callbacks=callbacks)\n\u001b[0m\u001b[1;32m    696\u001b[0m         \u001b[0;32mreturn\u001b[0m \u001b[0mself\u001b[0m\u001b[0;34m\u001b[0m\u001b[0m\n\u001b[1;32m    697\u001b[0m \u001b[0;34m\u001b[0m\u001b[0m\n",
      "\u001b[0;32m~/anaconda3/lib/python3.6/site-packages/lightgbm/sklearn.py\u001b[0m in \u001b[0;36mfit\u001b[0;34m(self, X, y, sample_weight, init_score, group, eval_set, eval_names, eval_sample_weight, eval_class_weight, eval_init_score, eval_group, eval_metric, early_stopping_rounds, verbose, feature_name, categorical_feature, callbacks)\u001b[0m\n\u001b[1;32m    472\u001b[0m                               \u001b[0mverbose_eval\u001b[0m\u001b[0;34m=\u001b[0m\u001b[0mverbose\u001b[0m\u001b[0;34m,\u001b[0m \u001b[0mfeature_name\u001b[0m\u001b[0;34m=\u001b[0m\u001b[0mfeature_name\u001b[0m\u001b[0;34m,\u001b[0m\u001b[0;34m\u001b[0m\u001b[0m\n\u001b[1;32m    473\u001b[0m                               \u001b[0mcategorical_feature\u001b[0m\u001b[0;34m=\u001b[0m\u001b[0mcategorical_feature\u001b[0m\u001b[0;34m,\u001b[0m\u001b[0;34m\u001b[0m\u001b[0m\n\u001b[0;32m--> 474\u001b[0;31m                               callbacks=callbacks)\n\u001b[0m\u001b[1;32m    475\u001b[0m \u001b[0;34m\u001b[0m\u001b[0m\n\u001b[1;32m    476\u001b[0m         \u001b[0;32mif\u001b[0m \u001b[0mevals_result\u001b[0m\u001b[0;34m:\u001b[0m\u001b[0;34m\u001b[0m\u001b[0m\n",
      "\u001b[0;32m~/anaconda3/lib/python3.6/site-packages/lightgbm/engine.py\u001b[0m in \u001b[0;36mtrain\u001b[0;34m(params, train_set, num_boost_round, valid_sets, valid_names, fobj, feval, init_model, feature_name, categorical_feature, early_stopping_rounds, evals_result, verbose_eval, learning_rates, keep_training_booster, callbacks)\u001b[0m\n\u001b[1;32m    181\u001b[0m     \u001b[0;31m# construct booster\u001b[0m\u001b[0;34m\u001b[0m\u001b[0;34m\u001b[0m\u001b[0m\n\u001b[1;32m    182\u001b[0m     \u001b[0;32mtry\u001b[0m\u001b[0;34m:\u001b[0m\u001b[0;34m\u001b[0m\u001b[0m\n\u001b[0;32m--> 183\u001b[0;31m         \u001b[0mbooster\u001b[0m \u001b[0;34m=\u001b[0m \u001b[0mBooster\u001b[0m\u001b[0;34m(\u001b[0m\u001b[0mparams\u001b[0m\u001b[0;34m=\u001b[0m\u001b[0mparams\u001b[0m\u001b[0;34m,\u001b[0m \u001b[0mtrain_set\u001b[0m\u001b[0;34m=\u001b[0m\u001b[0mtrain_set\u001b[0m\u001b[0;34m)\u001b[0m\u001b[0;34m\u001b[0m\u001b[0m\n\u001b[0m\u001b[1;32m    184\u001b[0m         \u001b[0;32mif\u001b[0m \u001b[0mis_valid_contain_train\u001b[0m\u001b[0;34m:\u001b[0m\u001b[0;34m\u001b[0m\u001b[0m\n\u001b[1;32m    185\u001b[0m             \u001b[0mbooster\u001b[0m\u001b[0;34m.\u001b[0m\u001b[0mset_train_data_name\u001b[0m\u001b[0;34m(\u001b[0m\u001b[0mtrain_data_name\u001b[0m\u001b[0;34m)\u001b[0m\u001b[0;34m\u001b[0m\u001b[0m\n",
      "\u001b[0;32m~/anaconda3/lib/python3.6/site-packages/lightgbm/basic.py\u001b[0m in \u001b[0;36m__init__\u001b[0;34m(self, params, train_set, model_file, silent)\u001b[0m\n\u001b[1;32m   1305\u001b[0m             \u001b[0mself\u001b[0m\u001b[0;34m.\u001b[0m\u001b[0mhandle\u001b[0m \u001b[0;34m=\u001b[0m \u001b[0mctypes\u001b[0m\u001b[0;34m.\u001b[0m\u001b[0mc_void_p\u001b[0m\u001b[0;34m(\u001b[0m\u001b[0;34m)\u001b[0m\u001b[0;34m\u001b[0m\u001b[0m\n\u001b[1;32m   1306\u001b[0m             _safe_call(_LIB.LGBM_BoosterCreate(\n\u001b[0;32m-> 1307\u001b[0;31m                 \u001b[0mtrain_set\u001b[0m\u001b[0;34m.\u001b[0m\u001b[0mconstruct\u001b[0m\u001b[0;34m(\u001b[0m\u001b[0;34m)\u001b[0m\u001b[0;34m.\u001b[0m\u001b[0mhandle\u001b[0m\u001b[0;34m,\u001b[0m\u001b[0;34m\u001b[0m\u001b[0m\n\u001b[0m\u001b[1;32m   1308\u001b[0m                 \u001b[0mc_str\u001b[0m\u001b[0;34m(\u001b[0m\u001b[0mparams_str\u001b[0m\u001b[0;34m)\u001b[0m\u001b[0;34m,\u001b[0m\u001b[0;34m\u001b[0m\u001b[0m\n\u001b[1;32m   1309\u001b[0m                 ctypes.byref(self.handle)))\n",
      "\u001b[0;32m~/anaconda3/lib/python3.6/site-packages/lightgbm/basic.py\u001b[0m in \u001b[0;36mconstruct\u001b[0;34m(self)\u001b[0m\n\u001b[1;32m    858\u001b[0m                                 \u001b[0mweight\u001b[0m\u001b[0;34m=\u001b[0m\u001b[0mself\u001b[0m\u001b[0;34m.\u001b[0m\u001b[0mweight\u001b[0m\u001b[0;34m,\u001b[0m \u001b[0mgroup\u001b[0m\u001b[0;34m=\u001b[0m\u001b[0mself\u001b[0m\u001b[0;34m.\u001b[0m\u001b[0mgroup\u001b[0m\u001b[0;34m,\u001b[0m \u001b[0minit_score\u001b[0m\u001b[0;34m=\u001b[0m\u001b[0mself\u001b[0m\u001b[0;34m.\u001b[0m\u001b[0minit_score\u001b[0m\u001b[0;34m,\u001b[0m\u001b[0;34m\u001b[0m\u001b[0m\n\u001b[1;32m    859\u001b[0m                                 \u001b[0mpredictor\u001b[0m\u001b[0;34m=\u001b[0m\u001b[0mself\u001b[0m\u001b[0;34m.\u001b[0m\u001b[0m_predictor\u001b[0m\u001b[0;34m,\u001b[0m \u001b[0msilent\u001b[0m\u001b[0;34m=\u001b[0m\u001b[0mself\u001b[0m\u001b[0;34m.\u001b[0m\u001b[0msilent\u001b[0m\u001b[0;34m,\u001b[0m \u001b[0mfeature_name\u001b[0m\u001b[0;34m=\u001b[0m\u001b[0mself\u001b[0m\u001b[0;34m.\u001b[0m\u001b[0mfeature_name\u001b[0m\u001b[0;34m,\u001b[0m\u001b[0;34m\u001b[0m\u001b[0m\n\u001b[0;32m--> 860\u001b[0;31m                                 categorical_feature=self.categorical_feature, params=self.params)\n\u001b[0m\u001b[1;32m    861\u001b[0m             \u001b[0;32mif\u001b[0m \u001b[0mself\u001b[0m\u001b[0;34m.\u001b[0m\u001b[0mfree_raw_data\u001b[0m\u001b[0;34m:\u001b[0m\u001b[0;34m\u001b[0m\u001b[0m\n\u001b[1;32m    862\u001b[0m                 \u001b[0mself\u001b[0m\u001b[0;34m.\u001b[0m\u001b[0mdata\u001b[0m \u001b[0;34m=\u001b[0m \u001b[0;32mNone\u001b[0m\u001b[0;34m\u001b[0m\u001b[0m\n",
      "\u001b[0;32m~/anaconda3/lib/python3.6/site-packages/lightgbm/basic.py\u001b[0m in \u001b[0;36m_lazy_init\u001b[0;34m(self, data, label, reference, weight, group, init_score, predictor, silent, feature_name, categorical_feature, params)\u001b[0m\n\u001b[1;32m    708\u001b[0m                 ctypes.byref(self.handle)))\n\u001b[1;32m    709\u001b[0m         \u001b[0;32melif\u001b[0m \u001b[0misinstance\u001b[0m\u001b[0;34m(\u001b[0m\u001b[0mdata\u001b[0m\u001b[0;34m,\u001b[0m \u001b[0mscipy\u001b[0m\u001b[0;34m.\u001b[0m\u001b[0msparse\u001b[0m\u001b[0;34m.\u001b[0m\u001b[0mcsr_matrix\u001b[0m\u001b[0;34m)\u001b[0m\u001b[0;34m:\u001b[0m\u001b[0;34m\u001b[0m\u001b[0m\n\u001b[0;32m--> 710\u001b[0;31m             \u001b[0mself\u001b[0m\u001b[0;34m.\u001b[0m\u001b[0m__init_from_csr\u001b[0m\u001b[0;34m(\u001b[0m\u001b[0mdata\u001b[0m\u001b[0;34m,\u001b[0m \u001b[0mparams_str\u001b[0m\u001b[0;34m,\u001b[0m \u001b[0mref_dataset\u001b[0m\u001b[0;34m)\u001b[0m\u001b[0;34m\u001b[0m\u001b[0m\n\u001b[0m\u001b[1;32m    711\u001b[0m         \u001b[0;32melif\u001b[0m \u001b[0misinstance\u001b[0m\u001b[0;34m(\u001b[0m\u001b[0mdata\u001b[0m\u001b[0;34m,\u001b[0m \u001b[0mscipy\u001b[0m\u001b[0;34m.\u001b[0m\u001b[0msparse\u001b[0m\u001b[0;34m.\u001b[0m\u001b[0mcsc_matrix\u001b[0m\u001b[0;34m)\u001b[0m\u001b[0;34m:\u001b[0m\u001b[0;34m\u001b[0m\u001b[0m\n\u001b[1;32m    712\u001b[0m             \u001b[0mself\u001b[0m\u001b[0;34m.\u001b[0m\u001b[0m__init_from_csc\u001b[0m\u001b[0;34m(\u001b[0m\u001b[0mdata\u001b[0m\u001b[0;34m,\u001b[0m \u001b[0mparams_str\u001b[0m\u001b[0;34m,\u001b[0m \u001b[0mref_dataset\u001b[0m\u001b[0;34m)\u001b[0m\u001b[0;34m\u001b[0m\u001b[0m\n",
      "\u001b[0;32m~/anaconda3/lib/python3.6/site-packages/lightgbm/basic.py\u001b[0m in \u001b[0;36m__init_from_csr\u001b[0;34m(self, csr, params_str, ref_dataset)\u001b[0m\n\u001b[1;32m    798\u001b[0m             \u001b[0mc_str\u001b[0m\u001b[0;34m(\u001b[0m\u001b[0mparams_str\u001b[0m\u001b[0;34m)\u001b[0m\u001b[0;34m,\u001b[0m\u001b[0;34m\u001b[0m\u001b[0m\n\u001b[1;32m    799\u001b[0m             \u001b[0mref_dataset\u001b[0m\u001b[0;34m,\u001b[0m\u001b[0;34m\u001b[0m\u001b[0m\n\u001b[0;32m--> 800\u001b[0;31m             ctypes.byref(self.handle)))\n\u001b[0m\u001b[1;32m    801\u001b[0m \u001b[0;34m\u001b[0m\u001b[0m\n\u001b[1;32m    802\u001b[0m     \u001b[0;32mdef\u001b[0m \u001b[0m__init_from_csc\u001b[0m\u001b[0;34m(\u001b[0m\u001b[0mself\u001b[0m\u001b[0;34m,\u001b[0m \u001b[0mcsc\u001b[0m\u001b[0;34m,\u001b[0m \u001b[0mparams_str\u001b[0m\u001b[0;34m,\u001b[0m \u001b[0mref_dataset\u001b[0m\u001b[0;34m)\u001b[0m\u001b[0;34m:\u001b[0m\u001b[0;34m\u001b[0m\u001b[0m\n",
      "\u001b[0;31mKeyboardInterrupt\u001b[0m: "
     ]
    }
   ],
   "source": [
    "gc.collect()\n",
    "df_fea, retain_index, ifdrop = test_on_sample(train_csr_f,train_y,lgb_model,n_fold = 5,seed=19,first=2500)"
   ]
  },
  {
   "cell_type": "code",
   "execution_count": 12,
   "metadata": {
    "ExecuteTime": {
     "end_time": "2018-10-16T19:27:32.624413Z",
     "start_time": "2018-10-16T19:17:07.717268Z"
    }
   },
   "outputs": [
    {
     "name": "stdout",
     "output_type": "stream",
     "text": [
      "Training until validation scores don't improve for 200 rounds.\n",
      "[200]\tvalid_0's binary_logloss: 0.416003\tvalid_1's binary_logloss: 0.415773\n",
      "[400]\tvalid_0's binary_logloss: 0.413798\tvalid_1's binary_logloss: 0.41469\n",
      "[600]\tvalid_0's binary_logloss: 0.412166\tvalid_1's binary_logloss: 0.414281\n",
      "Did not meet early stopping. Best iteration is:\n",
      "[600]\tvalid_0's binary_logloss: 0.412166\tvalid_1's binary_logloss: 0.414281\n",
      "[0.4142813974421431]\n",
      "cv: 0.4142813974421431\n",
      "test mean: 0.21772465863943333\n"
     ]
    },
    {
     "ename": "KeyboardInterrupt",
     "evalue": "",
     "output_type": "error",
     "traceback": [
      "\u001b[0;31m---------------------------------------------------------------------------\u001b[0m",
      "\u001b[0;31mKeyboardInterrupt\u001b[0m                         Traceback (most recent call last)",
      "\u001b[0;32m?\u001b[0m in \u001b[0;36m<module>\u001b[0;34m()\u001b[0m\n\u001b[1;32m      1\u001b[0m \u001b[0mgc\u001b[0m\u001b[0;34m.\u001b[0m\u001b[0mcollect\u001b[0m\u001b[0;34m(\u001b[0m\u001b[0;34m)\u001b[0m\u001b[0;34m\u001b[0m\u001b[0m\n\u001b[0;32m----> 2\u001b[0;31m \u001b[0mdf_fea\u001b[0m\u001b[0;34m,\u001b[0m \u001b[0mretain_index\u001b[0m\u001b[0;34m,\u001b[0m \u001b[0mifdrop\u001b[0m \u001b[0;34m=\u001b[0m \u001b[0mtest_on_sample\u001b[0m\u001b[0;34m(\u001b[0m\u001b[0mtrain_csr_f\u001b[0m\u001b[0;34m,\u001b[0m\u001b[0mtrain_y\u001b[0m\u001b[0;34m,\u001b[0m\u001b[0mlgb_model\u001b[0m\u001b[0;34m,\u001b[0m\u001b[0mn_fold\u001b[0m \u001b[0;34m=\u001b[0m \u001b[0;36m5\u001b[0m\u001b[0;34m,\u001b[0m\u001b[0mseed\u001b[0m\u001b[0;34m=\u001b[0m\u001b[0;36m19\u001b[0m\u001b[0;34m,\u001b[0m\u001b[0mfirst\u001b[0m\u001b[0;34m=\u001b[0m\u001b[0;36m2500\u001b[0m\u001b[0;34m)\u001b[0m\u001b[0;34m\u001b[0m\u001b[0m\n\u001b[0m",
      "\u001b[0;32m?\u001b[0m in \u001b[0;36mtest_on_sample\u001b[0;34m(train_csr_f, train_y_f, lgb_model, n_fold, seed, first)\u001b[0m\n\u001b[1;32m     13\u001b[0m     \u001b[0mt1\u001b[0m \u001b[0;34m=\u001b[0m \u001b[0mtime\u001b[0m\u001b[0;34m.\u001b[0m\u001b[0mtime\u001b[0m\u001b[0;34m(\u001b[0m\u001b[0;34m)\u001b[0m\u001b[0;34m\u001b[0m\u001b[0m\n\u001b[1;32m     14\u001b[0m     \u001b[0;32mfor\u001b[0m \u001b[0mindex\u001b[0m\u001b[0;34m,\u001b[0m \u001b[0;34m(\u001b[0m\u001b[0mtrain_index\u001b[0m\u001b[0;34m,\u001b[0m \u001b[0mtest_index\u001b[0m\u001b[0;34m)\u001b[0m \u001b[0;32min\u001b[0m \u001b[0menumerate\u001b[0m\u001b[0;34m(\u001b[0m\u001b[0mskf\u001b[0m\u001b[0;34m.\u001b[0m\u001b[0msplit\u001b[0m\u001b[0;34m(\u001b[0m\u001b[0mtrain_csr_f\u001b[0m\u001b[0;34m,\u001b[0m \u001b[0mtrain_y_f\u001b[0m\u001b[0;34m)\u001b[0m\u001b[0;34m)\u001b[0m\u001b[0;34m:\u001b[0m\u001b[0;34m\u001b[0m\u001b[0m\n\u001b[0;32m---> 15\u001b[0;31m         lgb_model.fit(train_csr_f[train_index], train_y_f[train_index],\n\u001b[0m\u001b[1;32m     16\u001b[0m                       eval_set=[(train_csr_f[train_index], train_y_f[train_index]),\n\u001b[1;32m     17\u001b[0m                                 (train_csr_f[test_index], train_y_f[test_index])], early_stopping_rounds=200,verbose=200)\n",
      "\u001b[0;32m~/anaconda3/lib/python3.6/site-packages/scipy/sparse/csr.py\u001b[0m in \u001b[0;36m__getitem__\u001b[0;34m(self, key)\u001b[0m\n\u001b[1;32m    315\u001b[0m             \u001b[0;32mif\u001b[0m \u001b[0misintlike\u001b[0m\u001b[0;34m(\u001b[0m\u001b[0mcol\u001b[0m\u001b[0;34m)\u001b[0m \u001b[0;32mor\u001b[0m \u001b[0misinstance\u001b[0m\u001b[0;34m(\u001b[0m\u001b[0mcol\u001b[0m\u001b[0;34m,\u001b[0m\u001b[0mslice\u001b[0m\u001b[0;34m)\u001b[0m\u001b[0;34m:\u001b[0m\u001b[0;34m\u001b[0m\u001b[0m\n\u001b[1;32m    316\u001b[0m                 \u001b[0mP\u001b[0m \u001b[0;34m=\u001b[0m \u001b[0mextractor\u001b[0m\u001b[0;34m(\u001b[0m\u001b[0mrow\u001b[0m\u001b[0;34m,\u001b[0m \u001b[0mself\u001b[0m\u001b[0;34m.\u001b[0m\u001b[0mshape\u001b[0m\u001b[0;34m[\u001b[0m\u001b[0;36m0\u001b[0m\u001b[0;34m]\u001b[0m\u001b[0;34m)\u001b[0m     \u001b[0;31m# [[1,2],j] or [[1,2],1:2]\u001b[0m\u001b[0;34m\u001b[0m\u001b[0m\n\u001b[0;32m--> 317\u001b[0;31m                 \u001b[0mextracted\u001b[0m \u001b[0;34m=\u001b[0m \u001b[0mP\u001b[0m \u001b[0;34m*\u001b[0m \u001b[0mself\u001b[0m\u001b[0;34m\u001b[0m\u001b[0m\n\u001b[0m\u001b[1;32m    318\u001b[0m                 \u001b[0;32mif\u001b[0m \u001b[0mcol\u001b[0m \u001b[0;34m==\u001b[0m \u001b[0mslice\u001b[0m\u001b[0;34m(\u001b[0m\u001b[0;32mNone\u001b[0m\u001b[0;34m,\u001b[0m \u001b[0;32mNone\u001b[0m\u001b[0;34m,\u001b[0m \u001b[0;32mNone\u001b[0m\u001b[0;34m)\u001b[0m\u001b[0;34m:\u001b[0m\u001b[0;34m\u001b[0m\u001b[0m\n\u001b[1;32m    319\u001b[0m                     \u001b[0;32mreturn\u001b[0m \u001b[0mextracted\u001b[0m\u001b[0;34m\u001b[0m\u001b[0m\n",
      "\u001b[0;32m~/anaconda3/lib/python3.6/site-packages/scipy/sparse/base.py\u001b[0m in \u001b[0;36m__mul__\u001b[0;34m(self, other)\u001b[0m\n\u001b[1;32m    477\u001b[0m             \u001b[0;32mif\u001b[0m \u001b[0mself\u001b[0m\u001b[0;34m.\u001b[0m\u001b[0mshape\u001b[0m\u001b[0;34m[\u001b[0m\u001b[0;36m1\u001b[0m\u001b[0;34m]\u001b[0m \u001b[0;34m!=\u001b[0m \u001b[0mother\u001b[0m\u001b[0;34m.\u001b[0m\u001b[0mshape\u001b[0m\u001b[0;34m[\u001b[0m\u001b[0;36m0\u001b[0m\u001b[0;34m]\u001b[0m\u001b[0;34m:\u001b[0m\u001b[0;34m\u001b[0m\u001b[0m\n\u001b[1;32m    478\u001b[0m                 \u001b[0;32mraise\u001b[0m \u001b[0mValueError\u001b[0m\u001b[0;34m(\u001b[0m\u001b[0;34m'dimension mismatch'\u001b[0m\u001b[0;34m)\u001b[0m\u001b[0;34m\u001b[0m\u001b[0m\n\u001b[0;32m--> 479\u001b[0;31m             \u001b[0;32mreturn\u001b[0m \u001b[0mself\u001b[0m\u001b[0;34m.\u001b[0m\u001b[0m_mul_sparse_matrix\u001b[0m\u001b[0;34m(\u001b[0m\u001b[0mother\u001b[0m\u001b[0;34m)\u001b[0m\u001b[0;34m\u001b[0m\u001b[0m\n\u001b[0m\u001b[1;32m    480\u001b[0m \u001b[0;34m\u001b[0m\u001b[0m\n\u001b[1;32m    481\u001b[0m         \u001b[0;31m# If it's a list or whatever, treat it like a matrix\u001b[0m\u001b[0;34m\u001b[0m\u001b[0;34m\u001b[0m\u001b[0m\n",
      "\u001b[0;32m~/anaconda3/lib/python3.6/site-packages/scipy/sparse/compressed.py\u001b[0m in \u001b[0;36m_mul_sparse_matrix\u001b[0;34m(self, other)\u001b[0m\n\u001b[1;32m    493\u001b[0m            \u001b[0mnp\u001b[0m\u001b[0;34m.\u001b[0m\u001b[0masarray\u001b[0m\u001b[0;34m(\u001b[0m\u001b[0mother\u001b[0m\u001b[0;34m.\u001b[0m\u001b[0mindptr\u001b[0m\u001b[0;34m,\u001b[0m \u001b[0mdtype\u001b[0m\u001b[0;34m=\u001b[0m\u001b[0midx_dtype\u001b[0m\u001b[0;34m)\u001b[0m\u001b[0;34m,\u001b[0m\u001b[0;34m\u001b[0m\u001b[0m\n\u001b[1;32m    494\u001b[0m            \u001b[0mnp\u001b[0m\u001b[0;34m.\u001b[0m\u001b[0masarray\u001b[0m\u001b[0;34m(\u001b[0m\u001b[0mother\u001b[0m\u001b[0;34m.\u001b[0m\u001b[0mindices\u001b[0m\u001b[0;34m,\u001b[0m \u001b[0mdtype\u001b[0m\u001b[0;34m=\u001b[0m\u001b[0midx_dtype\u001b[0m\u001b[0;34m)\u001b[0m\u001b[0;34m,\u001b[0m\u001b[0;34m\u001b[0m\u001b[0m\n\u001b[0;32m--> 495\u001b[0;31m            indptr)\n\u001b[0m\u001b[1;32m    496\u001b[0m \u001b[0;34m\u001b[0m\u001b[0m\n\u001b[1;32m    497\u001b[0m         \u001b[0mnnz\u001b[0m \u001b[0;34m=\u001b[0m \u001b[0mindptr\u001b[0m\u001b[0;34m[\u001b[0m\u001b[0;34m-\u001b[0m\u001b[0;36m1\u001b[0m\u001b[0;34m]\u001b[0m\u001b[0;34m\u001b[0m\u001b[0m\n",
      "\u001b[0;31mKeyboardInterrupt\u001b[0m: "
     ]
    }
   ],
   "source": [
    "gc.collect()\n",
    "df_fea, retain_index, ifdrop = test_on_sample(train_csr_f,train_y,lgb_model,n_fold = 5,seed=19,first=2500)"
   ]
  },
  {
   "cell_type": "code",
   "execution_count": 27,
   "metadata": {
    "ExecuteTime": {
     "end_time": "2018-10-16T18:23:40.628051Z",
     "start_time": "2018-10-16T18:13:12.786235Z"
    }
   },
   "outputs": [
    {
     "name": "stdout",
     "output_type": "stream",
     "text": [
      "Training until validation scores don't improve for 200 rounds.\n",
      "[200]\tvalid_0's binary_logloss: 0.417182\tvalid_1's binary_logloss: 0.416848\n",
      "[400]\tvalid_0's binary_logloss: 0.415046\tvalid_1's binary_logloss: 0.415452\n",
      "[600]\tvalid_0's binary_logloss: 0.41363\tvalid_1's binary_logloss: 0.414941\n",
      "[800]\tvalid_0's binary_logloss: 0.412472\tvalid_1's binary_logloss: 0.414657\n",
      "[1000]\tvalid_0's binary_logloss: 0.411397\tvalid_1's binary_logloss: 0.414483\n",
      "[1200]\tvalid_0's binary_logloss: 0.410399\tvalid_1's binary_logloss: 0.41436\n",
      "[1400]\tvalid_0's binary_logloss: 0.409469\tvalid_1's binary_logloss: 0.414288\n",
      "[1600]\tvalid_0's binary_logloss: 0.408552\tvalid_1's binary_logloss: 0.414213\n",
      "[1800]\tvalid_0's binary_logloss: 0.407687\tvalid_1's binary_logloss: 0.414168\n",
      "[2000]\tvalid_0's binary_logloss: 0.406831\tvalid_1's binary_logloss: 0.414118\n",
      "[2200]\tvalid_0's binary_logloss: 0.405995\tvalid_1's binary_logloss: 0.414086\n",
      "[2400]\tvalid_0's binary_logloss: 0.405196\tvalid_1's binary_logloss: 0.414058\n",
      "[2600]\tvalid_0's binary_logloss: 0.404416\tvalid_1's binary_logloss: 0.414051\n",
      "[2800]\tvalid_0's binary_logloss: 0.403659\tvalid_1's binary_logloss: 0.414043\n",
      "[3000]\tvalid_0's binary_logloss: 0.402919\tvalid_1's binary_logloss: 0.41404\n",
      "[3200]\tvalid_0's binary_logloss: 0.402204\tvalid_1's binary_logloss: 0.414027\n",
      "[3400]\tvalid_0's binary_logloss: 0.401484\tvalid_1's binary_logloss: 0.414026\n",
      "Early stopping, best iteration is:\n",
      "[3350]\tvalid_0's binary_logloss: 0.401657\tvalid_1's binary_logloss: 0.414023\n",
      "[0.4140233220060252]\n",
      "cv: 0.4140233220060252\n",
      "test mean: 0.21286165005349503\n",
      "Training until validation scores don't improve for 200 rounds.\n"
     ]
    },
    {
     "ename": "KeyboardInterrupt",
     "evalue": "",
     "output_type": "error",
     "traceback": [
      "\u001b[0;31m---------------------------------------------------------------------------\u001b[0m",
      "\u001b[0;31mKeyboardInterrupt\u001b[0m                         Traceback (most recent call last)",
      "\u001b[0;32m?\u001b[0m in \u001b[0;36m<module>\u001b[0;34m()\u001b[0m\n\u001b[1;32m      1\u001b[0m \u001b[0mgc\u001b[0m\u001b[0;34m.\u001b[0m\u001b[0mcollect\u001b[0m\u001b[0;34m(\u001b[0m\u001b[0;34m)\u001b[0m\u001b[0;34m\u001b[0m\u001b[0m\n\u001b[0;32m----> 2\u001b[0;31m \u001b[0mdf_fea\u001b[0m\u001b[0;34m,\u001b[0m \u001b[0mretain_index\u001b[0m\u001b[0;34m,\u001b[0m \u001b[0mifdrop\u001b[0m \u001b[0;34m=\u001b[0m \u001b[0mtest_on_sample\u001b[0m\u001b[0;34m(\u001b[0m\u001b[0mtrain_csr_f\u001b[0m\u001b[0;34m,\u001b[0m\u001b[0mtrain_y\u001b[0m\u001b[0;34m,\u001b[0m\u001b[0mlgb_model\u001b[0m\u001b[0;34m,\u001b[0m\u001b[0mn_fold\u001b[0m \u001b[0;34m=\u001b[0m \u001b[0;36m5\u001b[0m\u001b[0;34m,\u001b[0m\u001b[0mseed\u001b[0m\u001b[0;34m=\u001b[0m\u001b[0;36m19\u001b[0m\u001b[0;34m,\u001b[0m\u001b[0mfirst\u001b[0m\u001b[0;34m=\u001b[0m\u001b[0;36m2500\u001b[0m\u001b[0;34m)\u001b[0m\u001b[0;34m\u001b[0m\u001b[0m\n\u001b[0m",
      "\u001b[0;32m?\u001b[0m in \u001b[0;36mtest_on_sample\u001b[0;34m(train_csr_f, train_y_f, lgb_model, n_fold, seed, first)\u001b[0m\n\u001b[1;32m     15\u001b[0m         lgb_model.fit(train_csr_f[train_index], train_y_f[train_index],\n\u001b[1;32m     16\u001b[0m                       eval_set=[(train_csr_f[train_index], train_y_f[train_index]),\n\u001b[0;32m---> 17\u001b[0;31m                                 (train_csr_f[test_index], train_y_f[test_index])], early_stopping_rounds=200,verbose=200)\n\u001b[0m\u001b[1;32m     18\u001b[0m         \u001b[0mbest_score\u001b[0m\u001b[0;34m.\u001b[0m\u001b[0mappend\u001b[0m\u001b[0;34m(\u001b[0m\u001b[0mlgb_model\u001b[0m\u001b[0;34m.\u001b[0m\u001b[0mbest_score_\u001b[0m\u001b[0;34m[\u001b[0m\u001b[0;34m'valid_1'\u001b[0m\u001b[0;34m]\u001b[0m\u001b[0;34m[\u001b[0m\u001b[0;34m'binary_logloss'\u001b[0m\u001b[0;34m]\u001b[0m\u001b[0;34m)\u001b[0m\u001b[0;34m\u001b[0m\u001b[0m\n\u001b[1;32m     19\u001b[0m         \u001b[0mprint\u001b[0m\u001b[0;34m(\u001b[0m\u001b[0mbest_score\u001b[0m\u001b[0;34m)\u001b[0m\u001b[0;34m\u001b[0m\u001b[0m\n",
      "\u001b[0;32m~/anaconda3/lib/python3.6/site-packages/lightgbm/sklearn.py\u001b[0m in \u001b[0;36mfit\u001b[0;34m(self, X, y, sample_weight, init_score, eval_set, eval_names, eval_sample_weight, eval_class_weight, eval_init_score, eval_metric, early_stopping_rounds, verbose, feature_name, categorical_feature, callbacks)\u001b[0m\n\u001b[1;32m    693\u001b[0m                                         \u001b[0mverbose\u001b[0m\u001b[0;34m=\u001b[0m\u001b[0mverbose\u001b[0m\u001b[0;34m,\u001b[0m \u001b[0mfeature_name\u001b[0m\u001b[0;34m=\u001b[0m\u001b[0mfeature_name\u001b[0m\u001b[0;34m,\u001b[0m\u001b[0;34m\u001b[0m\u001b[0m\n\u001b[1;32m    694\u001b[0m                                         \u001b[0mcategorical_feature\u001b[0m\u001b[0;34m=\u001b[0m\u001b[0mcategorical_feature\u001b[0m\u001b[0;34m,\u001b[0m\u001b[0;34m\u001b[0m\u001b[0m\n\u001b[0;32m--> 695\u001b[0;31m                                         callbacks=callbacks)\n\u001b[0m\u001b[1;32m    696\u001b[0m         \u001b[0;32mreturn\u001b[0m \u001b[0mself\u001b[0m\u001b[0;34m\u001b[0m\u001b[0m\n\u001b[1;32m    697\u001b[0m \u001b[0;34m\u001b[0m\u001b[0m\n",
      "\u001b[0;32m~/anaconda3/lib/python3.6/site-packages/lightgbm/sklearn.py\u001b[0m in \u001b[0;36mfit\u001b[0;34m(self, X, y, sample_weight, init_score, group, eval_set, eval_names, eval_sample_weight, eval_class_weight, eval_init_score, eval_group, eval_metric, early_stopping_rounds, verbose, feature_name, categorical_feature, callbacks)\u001b[0m\n\u001b[1;32m    472\u001b[0m                               \u001b[0mverbose_eval\u001b[0m\u001b[0;34m=\u001b[0m\u001b[0mverbose\u001b[0m\u001b[0;34m,\u001b[0m \u001b[0mfeature_name\u001b[0m\u001b[0;34m=\u001b[0m\u001b[0mfeature_name\u001b[0m\u001b[0;34m,\u001b[0m\u001b[0;34m\u001b[0m\u001b[0m\n\u001b[1;32m    473\u001b[0m                               \u001b[0mcategorical_feature\u001b[0m\u001b[0;34m=\u001b[0m\u001b[0mcategorical_feature\u001b[0m\u001b[0;34m,\u001b[0m\u001b[0;34m\u001b[0m\u001b[0m\n\u001b[0;32m--> 474\u001b[0;31m                               callbacks=callbacks)\n\u001b[0m\u001b[1;32m    475\u001b[0m \u001b[0;34m\u001b[0m\u001b[0m\n\u001b[1;32m    476\u001b[0m         \u001b[0;32mif\u001b[0m \u001b[0mevals_result\u001b[0m\u001b[0;34m:\u001b[0m\u001b[0;34m\u001b[0m\u001b[0m\n",
      "\u001b[0;32m~/anaconda3/lib/python3.6/site-packages/lightgbm/engine.py\u001b[0m in \u001b[0;36mtrain\u001b[0;34m(params, train_set, num_boost_round, valid_sets, valid_names, fobj, feval, init_model, feature_name, categorical_feature, early_stopping_rounds, evals_result, verbose_eval, learning_rates, keep_training_booster, callbacks)\u001b[0m\n\u001b[1;32m    202\u001b[0m                                     evaluation_result_list=None))\n\u001b[1;32m    203\u001b[0m \u001b[0;34m\u001b[0m\u001b[0m\n\u001b[0;32m--> 204\u001b[0;31m         \u001b[0mbooster\u001b[0m\u001b[0;34m.\u001b[0m\u001b[0mupdate\u001b[0m\u001b[0;34m(\u001b[0m\u001b[0mfobj\u001b[0m\u001b[0;34m=\u001b[0m\u001b[0mfobj\u001b[0m\u001b[0;34m)\u001b[0m\u001b[0;34m\u001b[0m\u001b[0m\n\u001b[0m\u001b[1;32m    205\u001b[0m \u001b[0;34m\u001b[0m\u001b[0m\n\u001b[1;32m    206\u001b[0m         \u001b[0mevaluation_result_list\u001b[0m \u001b[0;34m=\u001b[0m \u001b[0;34m[\u001b[0m\u001b[0;34m]\u001b[0m\u001b[0;34m\u001b[0m\u001b[0m\n",
      "\u001b[0;32m~/anaconda3/lib/python3.6/site-packages/lightgbm/basic.py\u001b[0m in \u001b[0;36mupdate\u001b[0;34m(self, train_set, fobj)\u001b[0m\n\u001b[1;32m   1526\u001b[0m             _safe_call(_LIB.LGBM_BoosterUpdateOneIter(\n\u001b[1;32m   1527\u001b[0m                 \u001b[0mself\u001b[0m\u001b[0;34m.\u001b[0m\u001b[0mhandle\u001b[0m\u001b[0;34m,\u001b[0m\u001b[0;34m\u001b[0m\u001b[0m\n\u001b[0;32m-> 1528\u001b[0;31m                 ctypes.byref(is_finished)))\n\u001b[0m\u001b[1;32m   1529\u001b[0m             \u001b[0mself\u001b[0m\u001b[0;34m.\u001b[0m\u001b[0m__is_predicted_cur_iter\u001b[0m \u001b[0;34m=\u001b[0m \u001b[0;34m[\u001b[0m\u001b[0;32mFalse\u001b[0m \u001b[0;32mfor\u001b[0m \u001b[0m_\u001b[0m \u001b[0;32min\u001b[0m \u001b[0mrange_\u001b[0m\u001b[0;34m(\u001b[0m\u001b[0mself\u001b[0m\u001b[0;34m.\u001b[0m\u001b[0m__num_dataset\u001b[0m\u001b[0;34m)\u001b[0m\u001b[0;34m]\u001b[0m\u001b[0;34m\u001b[0m\u001b[0m\n\u001b[1;32m   1530\u001b[0m             \u001b[0;32mreturn\u001b[0m \u001b[0mis_finished\u001b[0m\u001b[0;34m.\u001b[0m\u001b[0mvalue\u001b[0m \u001b[0;34m==\u001b[0m \u001b[0;36m1\u001b[0m\u001b[0;34m\u001b[0m\u001b[0m\n",
      "\u001b[0;31mKeyboardInterrupt\u001b[0m: "
     ]
    }
   ],
   "source": [
    "gc.collect()\n",
    "df_fea, retain_index, ifdrop = test_on_sample(train_csr_f,train_y,lgb_model,n_fold = 5,seed=19,first=2500)"
   ]
  },
  {
   "cell_type": "code",
   "execution_count": null,
   "metadata": {
    "ExecuteTime": {
     "end_time": "2018-10-16T17:02:08.542151Z",
     "start_time": "2018-10-16T16:50:56.349Z"
    }
   },
   "outputs": [],
   "source": [
    "aa"
   ]
  },
  {
   "cell_type": "code",
   "execution_count": null,
   "metadata": {
    "ExecuteTime": {
     "end_time": "2018-10-16T17:02:08.543196Z",
     "start_time": "2018-10-16T16:50:56.355Z"
    },
    "scrolled": true
   },
   "outputs": [],
   "source": [
    "df_fea, retain_index, ifdrop = test_on_sample(train_csr_f,train_y,lgb_model,n_fold = 5,seed=19,first=2500)"
   ]
  },
  {
   "cell_type": "code",
   "execution_count": null,
   "metadata": {
    "ExecuteTime": {
     "end_time": "2018-10-16T17:02:08.543920Z",
     "start_time": "2018-10-16T16:50:56.360Z"
    }
   },
   "outputs": [],
   "source": [
    "gc.collect()\n",
    "df_fea, retain_index, ifdrop = test_on_sample(train_csr_f,train_y,lgb_model,n_fold = 5,seed=19,first=2200)"
   ]
  },
  {
   "cell_type": "code",
   "execution_count": null,
   "metadata": {},
   "outputs": [],
   "source": []
  },
  {
   "cell_type": "code",
   "execution_count": null,
   "metadata": {},
   "outputs": [],
   "source": []
  },
  {
   "cell_type": "code",
   "execution_count": null,
   "metadata": {},
   "outputs": [],
   "source": []
  },
  {
   "cell_type": "code",
   "execution_count": null,
   "metadata": {},
   "outputs": [],
   "source": []
  },
  {
   "cell_type": "code",
   "execution_count": null,
   "metadata": {
    "ExecuteTime": {
     "end_time": "2018-10-16T17:02:08.544825Z",
     "start_time": "2018-10-16T16:50:56.380Z"
    }
   },
   "outputs": [],
   "source": [
    "first=2400\n",
    "split_index = df_fea.sort_values('split',ascending=False)['split'].index.values[:first]\n",
    "gain_index = df_fea.sort_values('gain',ascending=False)['gain'].index.values[:first]\n",
    "retain_index = list(set(split_index).intersection(set(gain_index)))\n",
    "print(len(retain_index))\n",
    "verify_drop = verify_on_sample(train_csr_f,train_y,lgb_model,retain_index,n_fold = 5,seed=19,cv_list=[0.4144021068865735])"
   ]
  },
  {
   "cell_type": "code",
   "execution_count": null,
   "metadata": {
    "ExecuteTime": {
     "end_time": "2018-10-16T17:02:08.545886Z",
     "start_time": "2018-10-16T16:50:56.386Z"
    }
   },
   "outputs": [],
   "source": [
    "df_fea, retain_index, ifdrop = test_on_sample(train_csr,train_y,lgb_model,n_fold = 5,seed=19,first=1500)"
   ]
  },
  {
   "cell_type": "code",
   "execution_count": null,
   "metadata": {
    "ExecuteTime": {
     "end_time": "2018-10-16T17:02:08.546681Z",
     "start_time": "2018-10-16T16:50:56.389Z"
    }
   },
   "outputs": [],
   "source": [
    "first=2500\n",
    "split_index = df_fea.sort_values('split',ascending=False)['split'].index.values[:first]\n",
    "gain_index = df_fea.sort_values('gain',ascending=False)['gain'].index.values[:first]\n",
    "retain_index = list(set(split_index).intersection(set(gain_index)))\n",
    "print(len(retain_index))\n",
    "verify_drop = verify_on_sample(train_csr,train_y,lgb_model,retain_index,n_fold = 5,seed=19,cv_list=[0.41467523398442835])"
   ]
  },
  {
   "cell_type": "code",
   "execution_count": null,
   "metadata": {
    "ExecuteTime": {
     "end_time": "2018-10-16T17:02:08.547531Z",
     "start_time": "2018-10-16T16:50:56.395Z"
    }
   },
   "outputs": [],
   "source": [
    "first=3500\n",
    "split_index = df_fea.sort_values('split',ascending=False)['split'].index.values[:first]\n",
    "gain_index = df_fea.sort_values('gain',ascending=False)['gain'].index.values[:first]\n",
    "retain_index = list(set(split_index).intersection(set(gain_index)))\n",
    "print(len(retain_index))\n",
    "verify_drop = verify_on_sample(train_csr,train_y,lgb_model,retain_index,n_fold = 5,seed=19,cv_list=[0.41467523398442835])"
   ]
  },
  {
   "cell_type": "code",
   "execution_count": null,
   "metadata": {
    "ExecuteTime": {
     "end_time": "2018-10-16T17:02:08.548214Z",
     "start_time": "2018-10-16T16:50:56.398Z"
    }
   },
   "outputs": [],
   "source": [
    "first=4500\n",
    "split_index = df_fea.sort_values('split',ascending=False)['split'].index.values[:first]\n",
    "gain_index = df_fea.sort_values('gain',ascending=False)['gain'].index.values[:first]\n",
    "retain_index = list(set(split_index).intersection(set(gain_index)))\n",
    "print(len(retain_index))\n",
    "verify_drop = verify_on_sample(train_csr,train_y,lgb_model,retain_index,n_fold = 5,seed=19,cv_list=[0.41467523398442835])"
   ]
  },
  {
   "cell_type": "code",
   "execution_count": null,
   "metadata": {
    "ExecuteTime": {
     "end_time": "2018-10-16T17:02:08.548890Z",
     "start_time": "2018-10-16T16:50:56.404Z"
    }
   },
   "outputs": [],
   "source": [
    "first=1000\n",
    "split_index = df_fea.sort_values('split',ascending=False)['split'].index.values[:first]\n",
    "gain_index = df_fea.sort_values('gain',ascending=False)['gain'].index.values[:first]\n",
    "retain_index = list(set(split_index).intersection(set(gain_index)))\n",
    "print(len(retain_index))\n",
    "verify_drop = verify_on_sample(train_csr,train_y,lgb_model,retain_index,n_fold = 5,seed=19,cv_list=[0.41467523398442835])"
   ]
  },
  {
   "cell_type": "code",
   "execution_count": null,
   "metadata": {
    "ExecuteTime": {
     "end_time": "2018-10-16T17:02:08.549520Z",
     "start_time": "2018-10-16T16:50:56.407Z"
    }
   },
   "outputs": [],
   "source": [
    "first=5000\n",
    "split_index = df_fea.sort_values('split',ascending=False)['split'].index.values[:first]\n",
    "gain_index = df_fea.sort_values('gain',ascending=False)['gain'].index.values[:first]\n",
    "retain_index = list(set(split_index).intersection(set(gain_index)))\n",
    "print(len(retain_index))\n",
    "verify_drop = verify_on_sample(train_csr,train_y,lgb_model,retain_index,n_fold = 5,seed=19,cv_list=[0.41467523398442835])"
   ]
  },
  {
   "cell_type": "code",
   "execution_count": null,
   "metadata": {},
   "outputs": [],
   "source": []
  },
  {
   "cell_type": "code",
   "execution_count": null,
   "metadata": {},
   "outputs": [],
   "source": []
  },
  {
   "cell_type": "code",
   "execution_count": null,
   "metadata": {},
   "outputs": [],
   "source": []
  },
  {
   "cell_type": "code",
   "execution_count": null,
   "metadata": {},
   "outputs": [],
   "source": []
  },
  {
   "cell_type": "code",
   "execution_count": null,
   "metadata": {
    "ExecuteTime": {
     "end_time": "2018-10-16T17:02:08.550209Z",
     "start_time": "2018-10-16T16:50:56.426Z"
    }
   },
   "outputs": [],
   "source": [
    "first=2500\n",
    "split_index = df_fea.sort_values('split',ascending=False)['split'].index.values[:first]\n",
    "gain_index = df_fea.sort_values('gain',ascending=False)['gain'].index.values[:first]\n",
    "retain_index = list(set(split_index).intersection(set(gain_index)))\n",
    "\n",
    "train_csr_save=train_csr_f[:,retain_index]\n",
    "predict_csr_save=predict_csr_f[:,retain_index]\n",
    "\n",
    "save_csr(train_csr_save,'../../data/features/xgb/train_csr_{}'.format(first))\n",
    "save_csr(predict_csr_save,'../../data/features/xgb/predict_csr_{}'.format(first))"
   ]
  },
  {
   "cell_type": "code",
   "execution_count": null,
   "metadata": {
    "ExecuteTime": {
     "end_time": "2018-10-16T17:02:08.551141Z",
     "start_time": "2018-10-16T16:50:56.430Z"
    }
   },
   "outputs": [],
   "source": [
    "df_fea.to_csv('../../data/features/xgb/fea_importance.csv',index=False)"
   ]
  },
  {
   "cell_type": "code",
   "execution_count": null,
   "metadata": {},
   "outputs": [],
   "source": []
  }
 ],
 "metadata": {
  "kernelspec": {
   "display_name": "Python 3",
   "language": "python",
   "name": "python3"
  },
  "language_info": {
   "codemirror_mode": {
    "name": "ipython",
    "version": 3
   },
   "file_extension": ".py",
   "mimetype": "text/x-python",
   "name": "python",
   "nbconvert_exporter": "python",
   "pygments_lexer": "ipython3",
   "version": "3.6.5"
  },
  "varInspector": {
   "cols": {
    "lenName": 16,
    "lenType": 16,
    "lenVar": 40
   },
   "kernels_config": {
    "python": {
     "delete_cmd_postfix": "",
     "delete_cmd_prefix": "del ",
     "library": "var_list.py",
     "varRefreshCmd": "print(var_dic_list())"
    },
    "r": {
     "delete_cmd_postfix": ") ",
     "delete_cmd_prefix": "rm(",
     "library": "var_list.r",
     "varRefreshCmd": "cat(var_dic_list()) "
    }
   },
   "types_to_exclude": [
    "module",
    "function",
    "builtin_function_or_method",
    "instance",
    "_Feature"
   ],
   "window_display": false
  }
 },
 "nbformat": 4,
 "nbformat_minor": 2
}
