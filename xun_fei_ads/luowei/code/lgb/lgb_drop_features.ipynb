{
 "cells": [
  {
   "cell_type": "code",
   "execution_count": 1,
   "metadata": {
    "ExecuteTime": {
     "end_time": "2018-10-16T20:56:43.982631Z",
     "start_time": "2018-10-16T20:56:43.565584Z"
    }
   },
   "outputs": [],
   "source": [
    "import lightgbm as lgb\n",
    "__file__=''\n",
    "import os,sys\n",
    "import pandas as pd\n",
    "sys.path.append(os.path.join(os.path.dirname(__file__),'../LIB/'))\n",
    "sys.path.append(os.path.join(os.path.dirname(__file__),'../../../../automl/automl_libs/'))\n",
    "from env import FILE\n",
    "from sklearn.feature_extraction import FeatureHasher\n",
    "from sklearn.preprocessing import LabelEncoder\n",
    "le = LabelEncoder()\n",
    "from tqdm import tqdm\n",
    "from scipy import sparse \n",
    "import numpy as np\n",
    "from sklearn.model_selection import StratifiedKFold\n",
    "from sklearn.feature_selection import chi2, SelectPercentile,SelectKBest\n",
    "import gc\n",
    "import time\n",
    "from sklearn.feature_selection import chi2, SelectPercentile"
   ]
  },
  {
   "cell_type": "code",
   "execution_count": 2,
   "metadata": {
    "ExecuteTime": {
     "end_time": "2018-10-16T20:56:43.988385Z",
     "start_time": "2018-10-16T20:56:43.984369Z"
    }
   },
   "outputs": [],
   "source": [
    "from scipy.sparse import csr_matrix\n",
    "def save_csr(matrix,file_prefix='csr'):\n",
    "    data_file = file_prefix + '_data.npy'\n",
    "    indices_file = file_prefix + '_indices.npy'\n",
    "    indptr_file = file_prefix + '_indptr.npy'\n",
    "    np.save(data_file,matrix.data)\n",
    "    print('data save')\n",
    "    np.save(indices_file,matrix.indices)\n",
    "    print('indices save')\n",
    "    np.save(indptr_file,matrix.indptr)\n",
    "    print('indptr save')\n",
    "    print('save done!')\n",
    "    \n",
    "def load_csr(file_prefix='csr'):\n",
    "    data_file = file_prefix + '_data.npy'\n",
    "    indices_file = file_prefix + '_indices.npy'\n",
    "    indptr_file = file_prefix + '_indptr.npy'\n",
    "    data = np.load(data_file)\n",
    "    print('data load')\n",
    "    indices = np.load(indices_file)\n",
    "    print('indices load')\n",
    "    indptr = np.load(indptr_file)\n",
    "    print('indptr load')\n",
    "    csr = csr_matrix((data, indices, indptr))\n",
    "    return csr"
   ]
  },
  {
   "cell_type": "code",
   "execution_count": 3,
   "metadata": {
    "ExecuteTime": {
     "end_time": "2018-10-16T20:56:48.021475Z",
     "start_time": "2018-10-16T20:56:43.990067Z"
    }
   },
   "outputs": [
    {
     "name": "stdout",
     "output_type": "stream",
     "text": [
      "data load\n",
      "indices load\n",
      "indptr load\n",
      "data load\n",
      "indices load\n",
      "indptr load\n"
     ]
    }
   ],
   "source": [
    "train_csr_f = load_csr('../../data/features/xgb/train_csr_wfeats')\n",
    "predict_csr_f = load_csr('../../data/features/xgb/predict_csr_wfeats')\n",
    "train_y = np.load('../../data/features/xgb/train_y.npy')\n",
    "predicted_file = pd.read_pickle('../../data/features/xgb/predict_id.pkl')"
   ]
  },
  {
   "cell_type": "markdown",
   "metadata": {},
   "source": [
    "# Load More features"
   ]
  },
  {
   "cell_type": "code",
   "execution_count": 4,
   "metadata": {
    "ExecuteTime": {
     "end_time": "2018-10-16T20:56:48.025245Z",
     "start_time": "2018-10-16T20:56:48.023119Z"
    }
   },
   "outputs": [],
   "source": [
    "# X_fe = pd.read_pickle('../../data/features/xgb/new_feats_838.pkl')\n",
    "# print(X_fe.shape)\n",
    "# X_ = X_fe.copy()\n",
    "\n"
   ]
  },
  {
   "cell_type": "code",
   "execution_count": 5,
   "metadata": {
    "ExecuteTime": {
     "end_time": "2018-10-16T20:56:48.045688Z",
     "start_time": "2018-10-16T20:56:48.027042Z"
    }
   },
   "outputs": [],
   "source": [
    "# cut_bin = 30\n",
    "# for col in tqdm(X_fe.columns):\n",
    "#         X_[col] = pd.cut(X_fe[col], bins=cut_bin, labels=False, retbins=True, right=False)[0]  "
   ]
  },
  {
   "cell_type": "markdown",
   "metadata": {},
   "source": [
    "# Append more data from SVD"
   ]
  },
  {
   "cell_type": "code",
   "execution_count": 6,
   "metadata": {
    "ExecuteTime": {
     "end_time": "2018-10-16T20:56:48.052937Z",
     "start_time": "2018-10-16T20:56:48.048016Z"
    }
   },
   "outputs": [],
   "source": [
    "# train_csr_f = load_csr('../../data/features/xgb/train_csr_2500')\n",
    "# predict_csr_f = load_csr('../../data/features/xgb/predict_csr_2500')\n",
    "# train_instance = pd.read_pickle('../../data/features/xgb/train_noclean_bytime.pkl')[['instance_id']].copy()\n",
    "# train_y = np.load('../../data/features/xgb/train_y_f620_b70_col17k.npy')\n",
    "\n",
    "# X_u = pd.read_pickle('../../data/features/agg/svd_utag_adid_cnt.pkl')\n",
    "# X_u = train_instance.merge(X_u,on='instance_id',how='inner')\n",
    "# X_u.drop('instance_id',inplace=True,axis=1)\n",
    "\n",
    "# cut_bin = 30\n",
    "# # selected_col = [col for col in X_u.columns if 'utagsIndividual_svd' not in col]\n",
    "# # X_u = X_u[selected_col]\n",
    "# for col in tqdm(X_u.columns):\n",
    "#         X_u[col] = pd.cut(X_u[col], bins=cut_bin, labels=False, retbins=True, right=False)[0]  \n",
    "        \n",
    "# print(train_csr_f.shape)\n",
    "# train_csr_f = sparse.hstack(\n",
    "#     (sparse.csr_matrix(X_u.iloc[:train_csr_f.shape[0]]), train_csr_f), 'csr').astype(\n",
    "#     'float32')\n",
    "# predict_csr_f = sparse.hstack(\n",
    "#     (sparse.csr_matrix(X_u.iloc[train_csr_f.shape[0]:]), predict_csr_f), 'csr').astype('float32')\n",
    "# print(train_csr_f.shape)\n",
    "        \n",
    "        "
   ]
  },
  {
   "cell_type": "code",
   "execution_count": 7,
   "metadata": {
    "ExecuteTime": {
     "end_time": "2018-10-16T20:56:48.062802Z",
     "start_time": "2018-10-16T20:56:48.055669Z"
    }
   },
   "outputs": [],
   "source": [
    "# df_fea = pd.read_csv('../../data/features/xgb/fea_importance.csv')"
   ]
  },
  {
   "cell_type": "code",
   "execution_count": 8,
   "metadata": {
    "ExecuteTime": {
     "end_time": "2018-10-16T20:56:48.070055Z",
     "start_time": "2018-10-16T20:56:48.065864Z"
    }
   },
   "outputs": [],
   "source": [
    "# feature_select = SelectKBest(chi2, k=10000)\n",
    "# feature_select.fit(train_csr, train_y)\n",
    "# train_csr_10k = feature_select.transform(train_csr)\n",
    "# predict_csr_10k = feature_select.transform(predict_csr)\n",
    "# train_csr_10k.shape"
   ]
  },
  {
   "cell_type": "code",
   "execution_count": 9,
   "metadata": {
    "ExecuteTime": {
     "end_time": "2018-10-16T20:56:48.077834Z",
     "start_time": "2018-10-16T20:56:48.073419Z"
    }
   },
   "outputs": [],
   "source": [
    "# # train_csr_f = sparse.hstack(\n",
    "# #     (sparse.csr_matrix(X_.iloc[:train_csr.shape[0]]), train_csr_10k), 'csr').astype(\n",
    "# #     'float32')\n",
    "# # predict_csr_f = sparse.hstack(\n",
    "# #     (sparse.csr_matrix(X_.iloc[train_csr.shape[0]:]), predict_csr_10k), 'csr').astype('float32')\n",
    "\n",
    "\n",
    "\n",
    "# train_csr_f = sparse.hstack(\n",
    "#     (sparse.csr_matrix(X_.iloc[:-80276]), train_csr), 'csr').astype(\n",
    "#     'float32')\n",
    "# predict_csr_f = sparse.hstack(\n",
    "#     (sparse.csr_matrix(X_.iloc[-80276:]), predict_csr), 'csr').astype('float32')\n",
    "\n",
    "# print(train_csr_f.shape)\n",
    "# print(predict_csr_f.shape)\n",
    "\n"
   ]
  },
  {
   "cell_type": "code",
   "execution_count": 10,
   "metadata": {
    "ExecuteTime": {
     "end_time": "2018-10-16T20:56:48.085290Z",
     "start_time": "2018-10-16T20:56:48.081259Z"
    }
   },
   "outputs": [],
   "source": [
    "# feature_select = SelectKBest(chi2, percentile=10000)\n",
    "# feature_select.fit(train_csr, train_y)\n",
    "# train_csr = feature_select.transform(train_csr)\n",
    "# predict_csr = feature_select.transform(predict_csr)\n",
    "# print('feature select')\n",
    "# print(train_csr.shape)"
   ]
  },
  {
   "cell_type": "markdown",
   "metadata": {},
   "source": [
    "# Generate sample"
   ]
  },
  {
   "cell_type": "code",
   "execution_count": 11,
   "metadata": {
    "ExecuteTime": {
     "end_time": "2018-10-16T20:56:48.094650Z",
     "start_time": "2018-10-16T20:56:48.088568Z"
    }
   },
   "outputs": [],
   "source": [
    "# sample_size = 400000\n",
    "# sample_times = 2\n",
    "# sample_all = pd.DataFrame({'data':range(train_csr.shape[0])})\n",
    "# sample_index_list = []\n",
    "# samples = []\n",
    "# samples_y = []\n",
    "# for i in tqdm(range(sample_times)):\n",
    "#     sample_index_list.append(list(sample_all.sample(sample_size).index))\n",
    "#     samples.append(train_csr[sample_index_list[i]])\n",
    "#     samples_y.append(train_y[sample_index_list[i]])\n"
   ]
  },
  {
   "cell_type": "markdown",
   "metadata": {},
   "source": [
    "# Define lgb model"
   ]
  },
  {
   "cell_type": "code",
   "execution_count": 12,
   "metadata": {
    "ExecuteTime": {
     "end_time": "2018-10-16T20:56:48.103465Z",
     "start_time": "2018-10-16T20:56:48.097571Z"
    }
   },
   "outputs": [],
   "source": [
    "lgb_model = lgb.LGBMClassifier(\n",
    "    boosting_type='gbdt', num_leaves=32, reg_alpha=0, reg_lambda=0.1,\n",
    "    max_depth=-1, n_estimators=6000, objective='binary',\n",
    "    subsample=0.7, colsample_bytree=0.7, subsample_freq=1,\n",
    "    learning_rate=0.05, random_state=1001, n_jobs=16\n",
    ")\n"
   ]
  },
  {
   "cell_type": "code",
   "execution_count": 13,
   "metadata": {
    "ExecuteTime": {
     "end_time": "2018-10-16T20:56:48.123834Z",
     "start_time": "2018-10-16T20:56:48.107004Z"
    }
   },
   "outputs": [],
   "source": [
    "def test_on_sample(train_csr_f,train_y_f,lgb_model,n_fold = 5,seed=None,first=2500):\n",
    "    if seed is None:\n",
    "        seed = np.random.randint(1000)\n",
    "    cv_list = []\n",
    "    skf = StratifiedKFold(n_splits=n_fold, random_state=seed, shuffle=True)\n",
    "    best_score = []\n",
    "\n",
    "\n",
    "    feature_importance_tmp_split = []\n",
    "    feature_importance_tmp_gain = []\n",
    "    df_fea = pd.DataFrame()\n",
    "\n",
    "    t1 = time.time()\n",
    "    for index, (train_index, test_index) in enumerate(skf.split(train_csr_f, train_y_f)):\n",
    "        lgb_model.fit(train_csr_f[train_index], train_y_f[train_index],\n",
    "                      eval_set=[(train_csr_f[train_index], train_y_f[train_index]),\n",
    "                                (train_csr_f[test_index], train_y_f[test_index])], early_stopping_rounds=200,verbose=200)\n",
    "        best_score.append(lgb_model.best_score_['valid_1']['binary_logloss'])\n",
    "        print(best_score)\n",
    "        print('cv:',np.mean(best_score))\n",
    "        test_pred = lgb_model.predict_proba(predict_csr_f, ntree_limit=lgb_model.best_iteration_)[:, 1]\n",
    "        print('test mean:', test_pred.mean())\n",
    "        feature_importance_tmp_split.append(lgb_model.booster_.feature_importance(importance_type='split'))\n",
    "        feature_importance_tmp_gain.append(lgb_model.booster_.feature_importance(importance_type='gain'))\n",
    "\n",
    "    df_fea['col_name'] = lgb_model.booster_.feature_name()\n",
    "    df_fea['split'] = np.mean(feature_importance_tmp_split,axis=0)\n",
    "    df_fea['gain'] = np.mean(feature_importance_tmp_gain,axis=0)\n",
    "\n",
    "    cv_list.append(np.mean(best_score))\n",
    "    t2 = time.time()\n",
    "    print('time spend: {} s'.format(t2-t1))\n",
    "    print('after dropping...')\n",
    "\n",
    "\n",
    "    split_index = list(df_fea[df_fea.split!=0].index)\n",
    "    gain_index = list(df_fea[df_fea.gain!=0].index)\n",
    "    #union\n",
    "#     retain_index = list(set(split_index+gain_index))\n",
    "    #intersection\n",
    "#     retain_index = list(set(split_index).intersection(set(gain_index)))\n",
    "    if first is None:\n",
    "        first = 500\n",
    "    split_index = df_fea.sort_values('split',ascending=False)['split'].index.values[:first]\n",
    "    gain_index = df_fea.sort_values('gain',ascending=False)['gain'].index.values[:first]\n",
    "    retain_index = list(set(split_index).intersection(set(gain_index)))\n",
    "    print(len(retain_index))\n",
    "\n",
    "    best_scor2 = []\n",
    "    t1 = time.time()\n",
    "    for index, (train_index, test_index) in enumerate(skf.split(train_csr_f, train_y_f)):\n",
    "        lgb_model.fit(train_csr_f[train_index][:,retain_index], train_y_f[train_index],\n",
    "                      eval_set=[(train_csr_f[train_index][:,retain_index], train_y_f[train_index]),\n",
    "                                (train_csr_f[test_index][:,retain_index], train_y_f[test_index])], early_stopping_rounds=200,verbose=200)\n",
    "        best_scor2.append(lgb_model.best_score_['valid_1']['binary_logloss'])\n",
    "        print(best_scor2)\n",
    "        print('cv:',np.mean(best_scor2))\n",
    "        #####################\n",
    "        test_pred = lgb_model.predict_proba(predict_csr_f[:,retain_index], num_iteration=lgb_model.best_iteration_)[:, 1]\n",
    "        print('test mean:', test_pred.mean())\n",
    "        #####################\n",
    "    cv_list.append(np.mean(best_scor2))\n",
    "    drop = False\n",
    "    if cv_list[-1] < cv_list[-2]:\n",
    "        print('dropping successfully!')\n",
    "        print('cv drop:{}'.format(cv_list[-2]-cv_list[-1]))\n",
    "        drop = True\n",
    "    else:\n",
    "        print('dropping failed!!!!!!')\n",
    "        print('cv increase:{}'.format(cv_list[-1]-cv_list[-2]))\n",
    "    t2 = time.time()\n",
    "    print('time spend: {} s'.format(t2-t1))\n",
    "    return df_fea, retain_index, drop"
   ]
  },
  {
   "cell_type": "code",
   "execution_count": 14,
   "metadata": {
    "ExecuteTime": {
     "end_time": "2018-10-16T20:56:48.133734Z",
     "start_time": "2018-10-16T20:56:48.125671Z"
    }
   },
   "outputs": [],
   "source": [
    "def verify_on_sample(train_csr_f,train_y_f,lgb_model,retain_index,n_fold = 3,seed=None,cv_list=[]):\n",
    "    if seed is None:\n",
    "        seed = np.random.randint(1000)\n",
    "\n",
    "    skf = StratifiedKFold(n_splits=n_fold, random_state=seed, shuffle=True)\n",
    "    best_score = []\n",
    "    \n",
    "    if len(cv_list) == 0:\n",
    "\n",
    "        t1 = time.time()\n",
    "        for index, (train_index, test_index) in enumerate(skf.split(train_csr_f, train_y_f)):\n",
    "            lgb_model.fit(train_csr_f[train_index], train_y_f[train_index],\n",
    "                          eval_set=[(train_csr_f[train_index], train_y_f[train_index]),\n",
    "                                    (train_csr_f[test_index], train_y_f[test_index])], early_stopping_rounds=100,verbose=200)\n",
    "            best_score.append(lgb_model.best_score_['valid_1']['binary_logloss'])\n",
    "            print(best_score)\n",
    "            print('cv:',np.mean(best_score))\n",
    "\n",
    "\n",
    "\n",
    "\n",
    "        cv_list.append(np.mean(best_score))\n",
    "        t2 = time.time()\n",
    "        print('time spend: {} s'.format(t2-t1))\n",
    "        print('after dropping...')\n",
    "\n",
    "        print(len(retain_index))\n",
    "\n",
    "    best_scor2 = []\n",
    "    t1 = time.time()\n",
    "    for index, (train_index, test_index) in enumerate(skf.split(train_csr_f, train_y_f)):\n",
    "        lgb_model.fit(train_csr_f[train_index][:,retain_index], train_y_f[train_index],\n",
    "                      eval_set=[(train_csr_f[train_index][:,retain_index], train_y_f[train_index]),\n",
    "                                (train_csr_f[test_index][:,retain_index], train_y_f[test_index])], early_stopping_rounds=100,verbose=200)\n",
    "        best_scor2.append(lgb_model.best_score_['valid_1']['binary_logloss'])\n",
    "        print(best_scor2)\n",
    "        print('cv:',np.mean(best_scor2))\n",
    "    cv_list.append(np.mean(best_scor2))\n",
    "    t2 = time.time()\n",
    "    print('time spend: {} s'.format(t2-t1))\n",
    "\n",
    "    if cv_list[-1] < cv_list[-2]:\n",
    "        print('dropping successfully!')\n",
    "        print('cv drop:{}'.format(cv_list[-2]-cv_list[-1]))\n",
    "        return True\n",
    "    else:\n",
    "        print('dropping failed!!!!!!')\n",
    "        print('cv increase:{}'.format(cv_list[-1]-cv_list[-2]))\n",
    "        return False\n",
    "    \n",
    "    "
   ]
  },
  {
   "cell_type": "code",
   "execution_count": null,
   "metadata": {},
   "outputs": [],
   "source": []
  },
  {
   "cell_type": "code",
   "execution_count": 15,
   "metadata": {
    "ExecuteTime": {
     "end_time": "2018-10-17T00:14:19.309943Z",
     "start_time": "2018-10-16T20:56:48.135187Z"
    }
   },
   "outputs": [
    {
     "name": "stdout",
     "output_type": "stream",
     "text": [
      "Training until validation scores don't improve for 200 rounds.\n",
      "[200]\tvalid_0's binary_logloss: 0.415873\tvalid_1's binary_logloss: 0.416471\n",
      "[400]\tvalid_0's binary_logloss: 0.413655\tvalid_1's binary_logloss: 0.415363\n",
      "[600]\tvalid_0's binary_logloss: 0.412072\tvalid_1's binary_logloss: 0.414986\n",
      "[800]\tvalid_0's binary_logloss: 0.410689\tvalid_1's binary_logloss: 0.414795\n",
      "[1000]\tvalid_0's binary_logloss: 0.409408\tvalid_1's binary_logloss: 0.414682\n",
      "[1200]\tvalid_0's binary_logloss: 0.408184\tvalid_1's binary_logloss: 0.414599\n",
      "[1400]\tvalid_0's binary_logloss: 0.406977\tvalid_1's binary_logloss: 0.414551\n",
      "[1600]\tvalid_0's binary_logloss: 0.405827\tvalid_1's binary_logloss: 0.414542\n",
      "[1800]\tvalid_0's binary_logloss: 0.404703\tvalid_1's binary_logloss: 0.414515\n",
      "[2000]\tvalid_0's binary_logloss: 0.403614\tvalid_1's binary_logloss: 0.414489\n",
      "Early stopping, best iteration is:\n",
      "[1987]\tvalid_0's binary_logloss: 0.403684\tvalid_1's binary_logloss: 0.414485\n",
      "[0.41448537100860966]\n",
      "cv: 0.41448537100860966\n",
      "test mean: 0.21501156171034674\n",
      "Training until validation scores don't improve for 200 rounds.\n",
      "[200]\tvalid_0's binary_logloss: 0.415878\tvalid_1's binary_logloss: 0.416452\n",
      "[400]\tvalid_0's binary_logloss: 0.413702\tvalid_1's binary_logloss: 0.415353\n",
      "[600]\tvalid_0's binary_logloss: 0.412141\tvalid_1's binary_logloss: 0.414991\n",
      "[800]\tvalid_0's binary_logloss: 0.410747\tvalid_1's binary_logloss: 0.414786\n",
      "[1000]\tvalid_0's binary_logloss: 0.409469\tvalid_1's binary_logloss: 0.414684\n",
      "[1200]\tvalid_0's binary_logloss: 0.408233\tvalid_1's binary_logloss: 0.414594\n",
      "[1400]\tvalid_0's binary_logloss: 0.407027\tvalid_1's binary_logloss: 0.414524\n",
      "[1600]\tvalid_0's binary_logloss: 0.405872\tvalid_1's binary_logloss: 0.414485\n",
      "[1800]\tvalid_0's binary_logloss: 0.404763\tvalid_1's binary_logloss: 0.414463\n",
      "[2000]\tvalid_0's binary_logloss: 0.403675\tvalid_1's binary_logloss: 0.414469\n",
      "Early stopping, best iteration is:\n",
      "[1828]\tvalid_0's binary_logloss: 0.404615\tvalid_1's binary_logloss: 0.414454\n",
      "[0.41448537100860966, 0.4144543865693359]\n",
      "cv: 0.4144698787889728\n",
      "test mean: 0.21860561001899334\n",
      "Training until validation scores don't improve for 200 rounds.\n",
      "[200]\tvalid_0's binary_logloss: 0.416011\tvalid_1's binary_logloss: 0.416183\n",
      "[400]\tvalid_0's binary_logloss: 0.413804\tvalid_1's binary_logloss: 0.415022\n",
      "[600]\tvalid_0's binary_logloss: 0.412223\tvalid_1's binary_logloss: 0.414642\n",
      "[800]\tvalid_0's binary_logloss: 0.410828\tvalid_1's binary_logloss: 0.414444\n",
      "[1000]\tvalid_0's binary_logloss: 0.409526\tvalid_1's binary_logloss: 0.414317\n",
      "[1200]\tvalid_0's binary_logloss: 0.408297\tvalid_1's binary_logloss: 0.414241\n",
      "[1400]\tvalid_0's binary_logloss: 0.40711\tvalid_1's binary_logloss: 0.414195\n",
      "[1600]\tvalid_0's binary_logloss: 0.405952\tvalid_1's binary_logloss: 0.414157\n",
      "[1800]\tvalid_0's binary_logloss: 0.404836\tvalid_1's binary_logloss: 0.414127\n",
      "[2000]\tvalid_0's binary_logloss: 0.403734\tvalid_1's binary_logloss: 0.41413\n",
      "[2200]\tvalid_0's binary_logloss: 0.40267\tvalid_1's binary_logloss: 0.414112\n",
      "[2400]\tvalid_0's binary_logloss: 0.401603\tvalid_1's binary_logloss: 0.414131\n",
      "Early stopping, best iteration is:\n",
      "[2272]\tvalid_0's binary_logloss: 0.402288\tvalid_1's binary_logloss: 0.414109\n",
      "[0.41448537100860966, 0.4144543865693359, 0.41410898454297157]\n",
      "cv: 0.41434958070697236\n",
      "test mean: 0.21547690443698578\n",
      "Training until validation scores don't improve for 200 rounds.\n",
      "[200]\tvalid_0's binary_logloss: 0.415758\tvalid_1's binary_logloss: 0.416867\n",
      "[400]\tvalid_0's binary_logloss: 0.413554\tvalid_1's binary_logloss: 0.415813\n",
      "[600]\tvalid_0's binary_logloss: 0.411991\tvalid_1's binary_logloss: 0.41546\n",
      "[800]\tvalid_0's binary_logloss: 0.410579\tvalid_1's binary_logloss: 0.415279\n",
      "[1000]\tvalid_0's binary_logloss: 0.409255\tvalid_1's binary_logloss: 0.415158\n",
      "[1200]\tvalid_0's binary_logloss: 0.408022\tvalid_1's binary_logloss: 0.415097\n",
      "[1400]\tvalid_0's binary_logloss: 0.406822\tvalid_1's binary_logloss: 0.415044\n",
      "[1600]\tvalid_0's binary_logloss: 0.405652\tvalid_1's binary_logloss: 0.415008\n",
      "[1800]\tvalid_0's binary_logloss: 0.404524\tvalid_1's binary_logloss: 0.414993\n",
      "Early stopping, best iteration is:\n",
      "[1789]\tvalid_0's binary_logloss: 0.404589\tvalid_1's binary_logloss: 0.414986\n",
      "[0.41448537100860966, 0.4144543865693359, 0.41410898454297157, 0.4149855677836293]\n",
      "cv: 0.4145085774761366\n",
      "test mean: 0.2141191466183992\n",
      "Training until validation scores don't improve for 200 rounds.\n",
      "[200]\tvalid_0's binary_logloss: 0.415838\tvalid_1's binary_logloss: 0.416801\n",
      "[400]\tvalid_0's binary_logloss: 0.413629\tvalid_1's binary_logloss: 0.415727\n",
      "[600]\tvalid_0's binary_logloss: 0.412064\tvalid_1's binary_logloss: 0.415365\n",
      "[800]\tvalid_0's binary_logloss: 0.410675\tvalid_1's binary_logloss: 0.415149\n",
      "[1000]\tvalid_0's binary_logloss: 0.409356\tvalid_1's binary_logloss: 0.415019\n",
      "[1200]\tvalid_0's binary_logloss: 0.408136\tvalid_1's binary_logloss: 0.414933\n",
      "[1400]\tvalid_0's binary_logloss: 0.406936\tvalid_1's binary_logloss: 0.414868\n",
      "[1600]\tvalid_0's binary_logloss: 0.405785\tvalid_1's binary_logloss: 0.41483\n",
      "[1800]\tvalid_0's binary_logloss: 0.404645\tvalid_1's binary_logloss: 0.414805\n",
      "[2000]\tvalid_0's binary_logloss: 0.403561\tvalid_1's binary_logloss: 0.414781\n",
      "[2200]\tvalid_0's binary_logloss: 0.402481\tvalid_1's binary_logloss: 0.414769\n",
      "Early stopping, best iteration is:\n",
      "[2158]\tvalid_0's binary_logloss: 0.402712\tvalid_1's binary_logloss: 0.414764\n",
      "[0.41448537100860966, 0.4144543865693359, 0.41410898454297157, 0.4149855677836293, 0.4147636007562603]\n",
      "cv: 0.4145595821321614\n",
      "test mean: 0.21422531409467432\n",
      "time spend: 6787.106964588165 s\n",
      "after dropping...\n",
      "2363\n",
      "Training until validation scores don't improve for 200 rounds.\n",
      "[200]\tvalid_0's binary_logloss: 0.415907\tvalid_1's binary_logloss: 0.416458\n",
      "[400]\tvalid_0's binary_logloss: 0.41373\tvalid_1's binary_logloss: 0.415313\n",
      "[600]\tvalid_0's binary_logloss: 0.412157\tvalid_1's binary_logloss: 0.41492\n",
      "[800]\tvalid_0's binary_logloss: 0.41078\tvalid_1's binary_logloss: 0.414691\n",
      "[1000]\tvalid_0's binary_logloss: 0.409492\tvalid_1's binary_logloss: 0.414554\n",
      "[1200]\tvalid_0's binary_logloss: 0.40824\tvalid_1's binary_logloss: 0.414467\n",
      "[1400]\tvalid_0's binary_logloss: 0.407009\tvalid_1's binary_logloss: 0.414391\n",
      "[1600]\tvalid_0's binary_logloss: 0.405833\tvalid_1's binary_logloss: 0.414368\n",
      "[1800]\tvalid_0's binary_logloss: 0.404697\tvalid_1's binary_logloss: 0.414352\n",
      "[2000]\tvalid_0's binary_logloss: 0.403576\tvalid_1's binary_logloss: 0.414305\n",
      "[2200]\tvalid_0's binary_logloss: 0.402468\tvalid_1's binary_logloss: 0.414285\n",
      "Early stopping, best iteration is:\n",
      "[2198]\tvalid_0's binary_logloss: 0.402478\tvalid_1's binary_logloss: 0.414283\n",
      "[0.41428299076783853]\n",
      "cv: 0.41428299076783853\n",
      "test mean: 0.21639268811264453\n",
      "Training until validation scores don't improve for 200 rounds.\n",
      "[200]\tvalid_0's binary_logloss: 0.415866\tvalid_1's binary_logloss: 0.416394\n",
      "[400]\tvalid_0's binary_logloss: 0.413706\tvalid_1's binary_logloss: 0.415228\n",
      "[600]\tvalid_0's binary_logloss: 0.412153\tvalid_1's binary_logloss: 0.414822\n",
      "[800]\tvalid_0's binary_logloss: 0.410751\tvalid_1's binary_logloss: 0.414597\n",
      "[1000]\tvalid_0's binary_logloss: 0.409462\tvalid_1's binary_logloss: 0.414471\n",
      "[1200]\tvalid_0's binary_logloss: 0.408207\tvalid_1's binary_logloss: 0.414371\n",
      "[1400]\tvalid_0's binary_logloss: 0.407002\tvalid_1's binary_logloss: 0.414321\n",
      "[1600]\tvalid_0's binary_logloss: 0.405826\tvalid_1's binary_logloss: 0.414274\n",
      "[1800]\tvalid_0's binary_logloss: 0.40468\tvalid_1's binary_logloss: 0.414255\n",
      "Early stopping, best iteration is:\n",
      "[1681]\tvalid_0's binary_logloss: 0.405367\tvalid_1's binary_logloss: 0.414254\n",
      "[0.41428299076783853, 0.41425358025381603]\n",
      "cv: 0.4142682855108273\n",
      "test mean: 0.2191604685065322\n",
      "Training until validation scores don't improve for 200 rounds.\n",
      "[200]\tvalid_0's binary_logloss: 0.415968\tvalid_1's binary_logloss: 0.41614\n",
      "[400]\tvalid_0's binary_logloss: 0.413817\tvalid_1's binary_logloss: 0.41499\n",
      "[600]\tvalid_0's binary_logloss: 0.41225\tvalid_1's binary_logloss: 0.414566\n",
      "[800]\tvalid_0's binary_logloss: 0.410859\tvalid_1's binary_logloss: 0.414373\n",
      "[1000]\tvalid_0's binary_logloss: 0.409537\tvalid_1's binary_logloss: 0.414234\n",
      "[1200]\tvalid_0's binary_logloss: 0.408283\tvalid_1's binary_logloss: 0.414141\n",
      "[1400]\tvalid_0's binary_logloss: 0.407063\tvalid_1's binary_logloss: 0.414093\n",
      "[1600]\tvalid_0's binary_logloss: 0.405887\tvalid_1's binary_logloss: 0.414072\n"
     ]
    },
    {
     "name": "stdout",
     "output_type": "stream",
     "text": [
      "[1800]\tvalid_0's binary_logloss: 0.404726\tvalid_1's binary_logloss: 0.414035\n",
      "[2000]\tvalid_0's binary_logloss: 0.40361\tvalid_1's binary_logloss: 0.414015\n",
      "[2200]\tvalid_0's binary_logloss: 0.402517\tvalid_1's binary_logloss: 0.414013\n",
      "Early stopping, best iteration is:\n",
      "[2143]\tvalid_0's binary_logloss: 0.402824\tvalid_1's binary_logloss: 0.414005\n",
      "[0.41428299076783853, 0.41425358025381603, 0.4140054562022653]\n",
      "cv: 0.4141806757413066\n",
      "test mean: 0.215225213503568\n",
      "Training until validation scores don't improve for 200 rounds.\n",
      "[200]\tvalid_0's binary_logloss: 0.415746\tvalid_1's binary_logloss: 0.416857\n",
      "[400]\tvalid_0's binary_logloss: 0.413566\tvalid_1's binary_logloss: 0.415737\n",
      "[600]\tvalid_0's binary_logloss: 0.411994\tvalid_1's binary_logloss: 0.41536\n",
      "[800]\tvalid_0's binary_logloss: 0.410592\tvalid_1's binary_logloss: 0.415153\n",
      "[1000]\tvalid_0's binary_logloss: 0.409289\tvalid_1's binary_logloss: 0.415039\n",
      "[1200]\tvalid_0's binary_logloss: 0.408044\tvalid_1's binary_logloss: 0.414945\n",
      "[1400]\tvalid_0's binary_logloss: 0.406826\tvalid_1's binary_logloss: 0.414898\n",
      "[1600]\tvalid_0's binary_logloss: 0.40565\tvalid_1's binary_logloss: 0.41486\n",
      "[1800]\tvalid_0's binary_logloss: 0.404525\tvalid_1's binary_logloss: 0.414861\n",
      "Early stopping, best iteration is:\n",
      "[1646]\tvalid_0's binary_logloss: 0.405385\tvalid_1's binary_logloss: 0.414854\n",
      "[0.41428299076783853, 0.41425358025381603, 0.4140054562022653, 0.4148542988372728]\n",
      "cv: 0.41434908151529815\n",
      "test mean: 0.21535070135031692\n",
      "Training until validation scores don't improve for 200 rounds.\n",
      "[200]\tvalid_0's binary_logloss: 0.415821\tvalid_1's binary_logloss: 0.416756\n",
      "[400]\tvalid_0's binary_logloss: 0.413633\tvalid_1's binary_logloss: 0.415589\n",
      "[600]\tvalid_0's binary_logloss: 0.412059\tvalid_1's binary_logloss: 0.415183\n",
      "[800]\tvalid_0's binary_logloss: 0.410654\tvalid_1's binary_logloss: 0.414947\n",
      "[1000]\tvalid_0's binary_logloss: 0.40936\tvalid_1's binary_logloss: 0.414824\n",
      "[1200]\tvalid_0's binary_logloss: 0.408107\tvalid_1's binary_logloss: 0.414752\n",
      "[1400]\tvalid_0's binary_logloss: 0.406893\tvalid_1's binary_logloss: 0.414665\n",
      "[1600]\tvalid_0's binary_logloss: 0.405718\tvalid_1's binary_logloss: 0.414616\n",
      "[1800]\tvalid_0's binary_logloss: 0.404563\tvalid_1's binary_logloss: 0.414575\n",
      "[2000]\tvalid_0's binary_logloss: 0.403457\tvalid_1's binary_logloss: 0.414552\n",
      "[2200]\tvalid_0's binary_logloss: 0.402351\tvalid_1's binary_logloss: 0.414533\n",
      "Early stopping, best iteration is:\n",
      "[2195]\tvalid_0's binary_logloss: 0.40238\tvalid_1's binary_logloss: 0.41453\n",
      "[0.41428299076783853, 0.41425358025381603, 0.4140054562022653, 0.4148542988372728, 0.41453046791163994]\n",
      "cv: 0.41438535879456656\n",
      "test mean: 0.21459086254700516\n",
      "dropping successfully!\n",
      "cv drop:0.00017422333759481434\n",
      "time spend: 5064.023488521576 s\n"
     ]
    }
   ],
   "source": [
    "gc.collect()\n",
    "# X_.iloc[:train_csr.shape[0]]\n",
    "df_fea, retain_index, ifdrop = test_on_sample(train_csr_f,train_y,lgb_model,n_fold = 5,seed=41,first=2500)"
   ]
  },
  {
   "cell_type": "code",
   "execution_count": 16,
   "metadata": {
    "ExecuteTime": {
     "end_time": "2018-10-17T00:14:19.417287Z",
     "start_time": "2018-10-17T00:14:19.311580Z"
    }
   },
   "outputs": [
    {
     "ename": "NameError",
     "evalue": "name 'aaa' is not defined",
     "output_type": "error",
     "traceback": [
      "\u001b[0;31m---------------------------------------------------------------------------\u001b[0m",
      "\u001b[0;31mNameError\u001b[0m                                 Traceback (most recent call last)",
      "\u001b[0;32m?\u001b[0m in \u001b[0;36m<module>\u001b[0;34m()\u001b[0m\n\u001b[0;32m----> 1\u001b[0;31m \u001b[0maaa\u001b[0m\u001b[0;34m\u001b[0m\u001b[0m\n\u001b[0m",
      "\u001b[0;31mNameError\u001b[0m: name 'aaa' is not defined"
     ]
    }
   ],
   "source": [
    "aaa"
   ]
  },
  {
   "cell_type": "code",
   "execution_count": null,
   "metadata": {
    "ExecuteTime": {
     "end_time": "2018-10-17T00:14:19.417892Z",
     "start_time": "2018-10-16T20:56:43.619Z"
    }
   },
   "outputs": [],
   "source": [
    "gc.collect()\n",
    "df_fea, retain_index, ifdrop = test_on_sample(train_csr_f,train_y,lgb_model,n_fold = 5,seed=19,first=2500)"
   ]
  },
  {
   "cell_type": "code",
   "execution_count": null,
   "metadata": {
    "ExecuteTime": {
     "end_time": "2018-10-17T00:14:19.418682Z",
     "start_time": "2018-10-16T20:56:43.623Z"
    }
   },
   "outputs": [],
   "source": [
    "gc.collect()\n",
    "df_fea, retain_index, ifdrop = test_on_sample(train_csr_f,train_y,lgb_model,n_fold = 5,seed=19,first=2500)"
   ]
  },
  {
   "cell_type": "code",
   "execution_count": null,
   "metadata": {
    "ExecuteTime": {
     "end_time": "2018-10-17T00:14:19.419391Z",
     "start_time": "2018-10-16T20:56:43.627Z"
    }
   },
   "outputs": [],
   "source": [
    "aa"
   ]
  },
  {
   "cell_type": "code",
   "execution_count": null,
   "metadata": {
    "ExecuteTime": {
     "end_time": "2018-10-17T00:14:19.420062Z",
     "start_time": "2018-10-16T20:56:43.629Z"
    },
    "scrolled": true
   },
   "outputs": [],
   "source": [
    "df_fea, retain_index, ifdrop = test_on_sample(train_csr_f,train_y,lgb_model,n_fold = 5,seed=19,first=2500)"
   ]
  },
  {
   "cell_type": "code",
   "execution_count": null,
   "metadata": {
    "ExecuteTime": {
     "end_time": "2018-10-17T00:14:19.420687Z",
     "start_time": "2018-10-16T20:56:43.631Z"
    }
   },
   "outputs": [],
   "source": [
    "gc.collect()\n",
    "df_fea, retain_index, ifdrop = test_on_sample(train_csr_f,train_y,lgb_model,n_fold = 5,seed=19,first=2200)"
   ]
  },
  {
   "cell_type": "code",
   "execution_count": null,
   "metadata": {},
   "outputs": [],
   "source": []
  },
  {
   "cell_type": "code",
   "execution_count": null,
   "metadata": {},
   "outputs": [],
   "source": []
  },
  {
   "cell_type": "code",
   "execution_count": null,
   "metadata": {},
   "outputs": [],
   "source": []
  },
  {
   "cell_type": "code",
   "execution_count": null,
   "metadata": {},
   "outputs": [],
   "source": []
  },
  {
   "cell_type": "code",
   "execution_count": null,
   "metadata": {
    "ExecuteTime": {
     "end_time": "2018-10-17T00:14:19.421340Z",
     "start_time": "2018-10-16T20:56:43.643Z"
    }
   },
   "outputs": [],
   "source": [
    "first=2400\n",
    "split_index = df_fea.sort_values('split',ascending=False)['split'].index.values[:first]\n",
    "gain_index = df_fea.sort_values('gain',ascending=False)['gain'].index.values[:first]\n",
    "retain_index = list(set(split_index).intersection(set(gain_index)))\n",
    "print(len(retain_index))\n",
    "verify_drop = verify_on_sample(train_csr_f,train_y,lgb_model,retain_index,n_fold = 5,seed=19,cv_list=[0.4144021068865735])"
   ]
  },
  {
   "cell_type": "code",
   "execution_count": null,
   "metadata": {
    "ExecuteTime": {
     "end_time": "2018-10-17T00:14:19.421972Z",
     "start_time": "2018-10-16T20:56:43.647Z"
    }
   },
   "outputs": [],
   "source": [
    "df_fea, retain_index, ifdrop = test_on_sample(train_csr,train_y,lgb_model,n_fold = 5,seed=19,first=1500)"
   ]
  },
  {
   "cell_type": "code",
   "execution_count": null,
   "metadata": {
    "ExecuteTime": {
     "end_time": "2018-10-17T00:14:19.422578Z",
     "start_time": "2018-10-16T20:56:43.651Z"
    }
   },
   "outputs": [],
   "source": [
    "first=2500\n",
    "split_index = df_fea.sort_values('split',ascending=False)['split'].index.values[:first]\n",
    "gain_index = df_fea.sort_values('gain',ascending=False)['gain'].index.values[:first]\n",
    "retain_index = list(set(split_index).intersection(set(gain_index)))\n",
    "print(len(retain_index))\n",
    "verify_drop = verify_on_sample(train_csr,train_y,lgb_model,retain_index,n_fold = 5,seed=19,cv_list=[0.41467523398442835])"
   ]
  },
  {
   "cell_type": "code",
   "execution_count": null,
   "metadata": {
    "ExecuteTime": {
     "end_time": "2018-10-17T00:14:19.423183Z",
     "start_time": "2018-10-16T20:56:43.654Z"
    }
   },
   "outputs": [],
   "source": [
    "first=3500\n",
    "split_index = df_fea.sort_values('split',ascending=False)['split'].index.values[:first]\n",
    "gain_index = df_fea.sort_values('gain',ascending=False)['gain'].index.values[:first]\n",
    "retain_index = list(set(split_index).intersection(set(gain_index)))\n",
    "print(len(retain_index))\n",
    "verify_drop = verify_on_sample(train_csr,train_y,lgb_model,retain_index,n_fold = 5,seed=19,cv_list=[0.41467523398442835])"
   ]
  },
  {
   "cell_type": "code",
   "execution_count": null,
   "metadata": {
    "ExecuteTime": {
     "end_time": "2018-10-17T00:14:19.423859Z",
     "start_time": "2018-10-16T20:56:43.656Z"
    }
   },
   "outputs": [],
   "source": [
    "first=4500\n",
    "split_index = df_fea.sort_values('split',ascending=False)['split'].index.values[:first]\n",
    "gain_index = df_fea.sort_values('gain',ascending=False)['gain'].index.values[:first]\n",
    "retain_index = list(set(split_index).intersection(set(gain_index)))\n",
    "print(len(retain_index))\n",
    "verify_drop = verify_on_sample(train_csr,train_y,lgb_model,retain_index,n_fold = 5,seed=19,cv_list=[0.41467523398442835])"
   ]
  },
  {
   "cell_type": "code",
   "execution_count": null,
   "metadata": {
    "ExecuteTime": {
     "end_time": "2018-10-17T00:14:19.424582Z",
     "start_time": "2018-10-16T20:56:43.659Z"
    }
   },
   "outputs": [],
   "source": [
    "first=1000\n",
    "split_index = df_fea.sort_values('split',ascending=False)['split'].index.values[:first]\n",
    "gain_index = df_fea.sort_values('gain',ascending=False)['gain'].index.values[:first]\n",
    "retain_index = list(set(split_index).intersection(set(gain_index)))\n",
    "print(len(retain_index))\n",
    "verify_drop = verify_on_sample(train_csr,train_y,lgb_model,retain_index,n_fold = 5,seed=19,cv_list=[0.41467523398442835])"
   ]
  },
  {
   "cell_type": "code",
   "execution_count": null,
   "metadata": {
    "ExecuteTime": {
     "end_time": "2018-10-17T00:14:19.425271Z",
     "start_time": "2018-10-16T20:56:43.661Z"
    }
   },
   "outputs": [],
   "source": [
    "first=5000\n",
    "split_index = df_fea.sort_values('split',ascending=False)['split'].index.values[:first]\n",
    "gain_index = df_fea.sort_values('gain',ascending=False)['gain'].index.values[:first]\n",
    "retain_index = list(set(split_index).intersection(set(gain_index)))\n",
    "print(len(retain_index))\n",
    "verify_drop = verify_on_sample(train_csr,train_y,lgb_model,retain_index,n_fold = 5,seed=19,cv_list=[0.41467523398442835])"
   ]
  },
  {
   "cell_type": "code",
   "execution_count": null,
   "metadata": {},
   "outputs": [],
   "source": []
  },
  {
   "cell_type": "code",
   "execution_count": null,
   "metadata": {},
   "outputs": [],
   "source": []
  },
  {
   "cell_type": "code",
   "execution_count": null,
   "metadata": {},
   "outputs": [],
   "source": []
  },
  {
   "cell_type": "code",
   "execution_count": null,
   "metadata": {},
   "outputs": [],
   "source": []
  },
  {
   "cell_type": "code",
   "execution_count": 22,
   "metadata": {
    "ExecuteTime": {
     "end_time": "2018-10-17T00:18:46.726977Z",
     "start_time": "2018-10-17T00:18:28.850867Z"
    }
   },
   "outputs": [
    {
     "name": "stdout",
     "output_type": "stream",
     "text": [
      "data save\n",
      "indices save\n",
      "indptr save\n",
      "save done!\n",
      "data save\n",
      "indices save\n",
      "indptr save\n",
      "save done!\n"
     ]
    }
   ],
   "source": [
    "first=3500\n",
    "split_index = df_fea.sort_values('split',ascending=False)['split'].index.values[:first]\n",
    "gain_index = df_fea.sort_values('gain',ascending=False)['gain'].index.values[:first]\n",
    "retain_index = list(set(split_index).intersection(set(gain_index)))\n",
    "\n",
    "train_csr_save=train_csr_f[:,retain_index]\n",
    "predict_csr_save=predict_csr_f[:,retain_index]\n",
    "\n",
    "save_csr(train_csr_save,'../../data/features/xgb/train_csr_{}'.format(first))\n",
    "save_csr(predict_csr_save,'../../data/features/xgb/predict_csr_{}'.format(first))"
   ]
  },
  {
   "cell_type": "code",
   "execution_count": 17,
   "metadata": {
    "ExecuteTime": {
     "end_time": "2018-10-17T00:14:56.546792Z",
     "start_time": "2018-10-17T00:14:56.452076Z"
    }
   },
   "outputs": [],
   "source": [
    "df_fea.to_csv('../../data/features/xgb/fea_importance.csv',index=False)"
   ]
  },
  {
   "cell_type": "code",
   "execution_count": null,
   "metadata": {},
   "outputs": [],
   "source": []
  }
 ],
 "metadata": {
  "kernelspec": {
   "display_name": "Python 3",
   "language": "python",
   "name": "python3"
  },
  "varInspector": {
   "cols": {
    "lenName": 16,
    "lenType": 16,
    "lenVar": 40
   },
   "kernels_config": {
    "python": {
     "delete_cmd_postfix": "",
     "delete_cmd_prefix": "del ",
     "library": "var_list.py",
     "varRefreshCmd": "print(var_dic_list())"
    },
    "r": {
     "delete_cmd_postfix": ") ",
     "delete_cmd_prefix": "rm(",
     "library": "var_list.r",
     "varRefreshCmd": "cat(var_dic_list()) "
    }
   },
   "types_to_exclude": [
    "module",
    "function",
    "builtin_function_or_method",
    "instance",
    "_Feature"
   ],
   "window_display": false
  }
 },
 "nbformat": 4,
 "nbformat_minor": 2
}
