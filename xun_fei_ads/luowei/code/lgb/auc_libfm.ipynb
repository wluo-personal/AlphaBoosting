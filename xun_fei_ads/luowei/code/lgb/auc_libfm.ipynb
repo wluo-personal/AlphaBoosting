{
 "cells": [
  {
   "cell_type": "code",
   "execution_count": 5,
   "metadata": {
    "ExecuteTime": {
     "end_time": "2018-10-14T18:20:58.779505Z",
     "start_time": "2018-10-14T18:20:58.475378Z"
    }
   },
   "outputs": [],
   "source": [
    "import lightgbm as lgb\n",
    "__file__=''\n",
    "import os,sys\n",
    "import pandas as pd\n",
    "sys.path.append(os.path.join(os.path.dirname(__file__),'../LIB/'))\n",
    "sys.path.append(os.path.join(os.path.dirname(__file__),'../../../../automl/automl_libs/'))\n",
    "from env import FILE\n",
    "from sklearn.feature_extraction import FeatureHasher\n",
    "from sklearn.preprocessing import LabelEncoder\n",
    "le = LabelEncoder()\n",
    "from tqdm import tqdm\n",
    "from scipy import sparse \n",
    "import numpy as np\n",
    "from sklearn.model_selection import StratifiedKFold\n",
    "from sklearn.feature_selection import chi2, SelectPercentile,SelectKBest\n",
    "import gc\n",
    "import time\n",
    "from sklearn.metrics import roc_auc_score"
   ]
  },
  {
   "cell_type": "code",
   "execution_count": 2,
   "metadata": {
    "ExecuteTime": {
     "end_time": "2018-10-14T18:19:41.120656Z",
     "start_time": "2018-10-14T18:19:41.111965Z"
    }
   },
   "outputs": [],
   "source": [
    "from scipy.sparse import csr_matrix\n",
    "def save_csr(matrix,file_prefix='csr'):\n",
    "    data_file = file_prefix + '_data.npy'\n",
    "    indices_file = file_prefix + '_indices.npy'\n",
    "    indptr_file = file_prefix + '_indptr.npy'\n",
    "    np.save(data_file,matrix.data)\n",
    "    print('data save')\n",
    "    np.save(indices_file,matrix.indices)\n",
    "    print('indices save')\n",
    "    np.save(indptr_file,matrix.indptr)\n",
    "    print('indptr save')\n",
    "    print('save done!')\n",
    "    \n",
    "def load_csr(file_prefix='csr'):\n",
    "    data_file = file_prefix + '_data.npy'\n",
    "    indices_file = file_prefix + '_indices.npy'\n",
    "    indptr_file = file_prefix + '_indptr.npy'\n",
    "    data = np.load(data_file)\n",
    "    print('data load')\n",
    "    indices = np.load(indices_file)\n",
    "    print('indices load')\n",
    "    indptr = np.load(indptr_file)\n",
    "    print('indptr load')\n",
    "    csr = csr_matrix((data, indices, indptr))\n",
    "    return csr"
   ]
  },
  {
   "cell_type": "code",
   "execution_count": 3,
   "metadata": {
    "ExecuteTime": {
     "end_time": "2018-10-14T18:19:58.029783Z",
     "start_time": "2018-10-14T18:19:47.286857Z"
    }
   },
   "outputs": [
    {
     "name": "stdout",
     "output_type": "stream",
     "text": [
      "data load\n",
      "indices load\n",
      "indptr load\n",
      "data load\n",
      "indices load\n",
      "indptr load\n"
     ]
    }
   ],
   "source": [
    "train_csr = load_csr('../../data/features/xgb/train_csr_2500')\n",
    "predict_csr = load_csr('../../data/features/xgb/predict_csr_f620_b70_col17k')\n",
    "train_y = np.load('../../data/features/xgb/train_y_f620_b70_col17k.npy')\n",
    "predicted_file = pd.read_csv('../../data/features/xgb/predict_f620_b70_col17k.csv')\n",
    "instance_train = pd.read_pickle('../../data/features/xgb/train_noclean_bytime.pkl')[['instance_id']].copy()\n",
    "instance_test = predicted_file[['instance_id']].copy()"
   ]
  },
  {
   "cell_type": "markdown",
   "metadata": {},
   "source": [
    "# load LibFM"
   ]
  },
  {
   "cell_type": "code",
   "execution_count": 4,
   "metadata": {
    "ExecuteTime": {
     "end_time": "2018-10-14T18:20:34.024068Z",
     "start_time": "2018-10-14T18:20:21.739127Z"
    }
   },
   "outputs": [
    {
     "name": "stdout",
     "output_type": "stream",
     "text": [
      "(2992639, 27)\n",
      "(80276, 27)\n"
     ]
    }
   ],
   "source": [
    "fm_train = pd.read_pickle(FILE.X_fe_train_libfm.value)\n",
    "fm_test = pd.read_pickle(FILE.X_fe_test_libfm.value)\n",
    "fm_train = instance_train.merge(fm_train,how='inner',on='instance_id')\n",
    "fm_train.drop('instance_id',axis=1,inplace=True)\n",
    "print(fm_train.shape)\n",
    "fm_test = instance_test.merge(fm_test,how='inner',on='instance_id')\n",
    "fm_test.drop('instance_id',axis=1,inplace=True)\n",
    "print(fm_test.shape)"
   ]
  },
  {
   "cell_type": "code",
   "execution_count": 6,
   "metadata": {
    "ExecuteTime": {
     "end_time": "2018-10-14T18:21:18.846315Z",
     "start_time": "2018-10-14T18:21:18.833957Z"
    }
   },
   "outputs": [
    {
     "data": {
      "text/plain": [
       "Index(['uid1+uraw1+itemc1_matrix_factorization',\n",
       "       'uid1+uraw1+itemc2_matrix_factorization',\n",
       "       'uid1+uraw1+itemc3_matrix_factorization',\n",
       "       'uid1+uraw2+itemc1_matrix_factorization',\n",
       "       'uid1+uraw2+itemc2_matrix_factorization',\n",
       "       'uid1+uraw2+itemc3_matrix_factorization',\n",
       "       'uid1+uraw3+itemc1_matrix_factorization',\n",
       "       'uid1+uraw3+itemc2_matrix_factorization',\n",
       "       'uid1+uraw3+itemc3_matrix_factorization',\n",
       "       'uid2+uraw1+itemc1_matrix_factorization',\n",
       "       'uid2+uraw1+itemc2_matrix_factorization',\n",
       "       'uid2+uraw1+itemc3_matrix_factorization',\n",
       "       'uid2+uraw2+itemc1_matrix_factorization',\n",
       "       'uid2+uraw2+itemc2_matrix_factorization',\n",
       "       'uid2+uraw2+itemc3_matrix_factorization',\n",
       "       'uid2+uraw3+itemc1_matrix_factorization',\n",
       "       'uid2+uraw3+itemc2_matrix_factorization',\n",
       "       'uid2+uraw3+itemc3_matrix_factorization',\n",
       "       'uid3+uraw1+itemc1_matrix_factorization',\n",
       "       'uid3+uraw1+itemc2_matrix_factorization',\n",
       "       'uid3+uraw1+itemc3_matrix_factorization',\n",
       "       'uid3+uraw2+itemc1_matrix_factorization',\n",
       "       'uid3+uraw2+itemc2_matrix_factorization',\n",
       "       'uid3+uraw2+itemc3_matrix_factorization',\n",
       "       'uid3+uraw3+itemc1_matrix_factorization',\n",
       "       'uid3+uraw3+itemc2_matrix_factorization',\n",
       "       'uid3+uraw3+itemc3_matrix_factorization'],\n",
       "      dtype='object')"
      ]
     },
     "execution_count": 6,
     "metadata": {},
     "output_type": "execute_result"
    }
   ],
   "source": [
    "fm_train.columns"
   ]
  },
  {
   "cell_type": "code",
   "execution_count": 7,
   "metadata": {
    "ExecuteTime": {
     "end_time": "2018-10-14T18:22:12.726231Z",
     "start_time": "2018-10-14T18:22:09.671043Z"
    }
   },
   "outputs": [
    {
     "data": {
      "text/plain": [
       "0.7591925513693333"
      ]
     },
     "execution_count": 7,
     "metadata": {},
     "output_type": "execute_result"
    }
   ],
   "source": [
    "roc_auc_score(train_y,fm_train['uid1+uraw1+itemc1_matrix_factorization'].values)"
   ]
  },
  {
   "cell_type": "code",
   "execution_count": 8,
   "metadata": {
    "ExecuteTime": {
     "end_time": "2018-10-14T18:24:42.326395Z",
     "start_time": "2018-10-14T18:24:06.734099Z"
    }
   },
   "outputs": [
    {
     "name": "stderr",
     "output_type": "stream",
     "text": [
      "100%|██████████| 27/27 [00:35<00:00,  1.32s/it]\n"
     ]
    }
   ],
   "source": [
    "col_list = []\n",
    "roc_list = []\n",
    "for col in tqdm(fm_train.columns):\n",
    "    score = roc_auc_score(train_y,fm_train[col].values)\n",
    "    col_list.append(col)\n",
    "    roc_list.append(score)"
   ]
  },
  {
   "cell_type": "code",
   "execution_count": 9,
   "metadata": {
    "ExecuteTime": {
     "end_time": "2018-10-14T18:25:02.840545Z",
     "start_time": "2018-10-14T18:25:02.813018Z"
    }
   },
   "outputs": [],
   "source": [
    "df_score = pd.DataFrame({'score':roc_list,'col':col_list})"
   ]
  },
  {
   "cell_type": "code",
   "execution_count": 12,
   "metadata": {
    "ExecuteTime": {
     "end_time": "2018-10-14T18:25:44.935313Z",
     "start_time": "2018-10-14T18:25:44.925211Z"
    }
   },
   "outputs": [
    {
     "data": {
      "text/html": [
       "<div>\n",
       "<style scoped>\n",
       "    .dataframe tbody tr th:only-of-type {\n",
       "        vertical-align: middle;\n",
       "    }\n",
       "\n",
       "    .dataframe tbody tr th {\n",
       "        vertical-align: top;\n",
       "    }\n",
       "\n",
       "    .dataframe thead th {\n",
       "        text-align: right;\n",
       "    }\n",
       "</style>\n",
       "<table border=\"1\" class=\"dataframe\">\n",
       "  <thead>\n",
       "    <tr style=\"text-align: right;\">\n",
       "      <th></th>\n",
       "      <th>score</th>\n",
       "      <th>col</th>\n",
       "    </tr>\n",
       "  </thead>\n",
       "  <tbody>\n",
       "    <tr>\n",
       "      <th>12</th>\n",
       "      <td>0.743175</td>\n",
       "      <td>uid2+uraw2+itemc1_matrix_factorization</td>\n",
       "    </tr>\n",
       "    <tr>\n",
       "      <th>13</th>\n",
       "      <td>0.743376</td>\n",
       "      <td>uid2+uraw2+itemc2_matrix_factorization</td>\n",
       "    </tr>\n",
       "    <tr>\n",
       "      <th>10</th>\n",
       "      <td>0.743385</td>\n",
       "      <td>uid2+uraw1+itemc2_matrix_factorization</td>\n",
       "    </tr>\n",
       "    <tr>\n",
       "      <th>16</th>\n",
       "      <td>0.743533</td>\n",
       "      <td>uid2+uraw3+itemc2_matrix_factorization</td>\n",
       "    </tr>\n",
       "    <tr>\n",
       "      <th>15</th>\n",
       "      <td>0.743750</td>\n",
       "      <td>uid2+uraw3+itemc1_matrix_factorization</td>\n",
       "    </tr>\n",
       "    <tr>\n",
       "      <th>9</th>\n",
       "      <td>0.743866</td>\n",
       "      <td>uid2+uraw1+itemc1_matrix_factorization</td>\n",
       "    </tr>\n",
       "    <tr>\n",
       "      <th>14</th>\n",
       "      <td>0.744024</td>\n",
       "      <td>uid2+uraw2+itemc3_matrix_factorization</td>\n",
       "    </tr>\n",
       "    <tr>\n",
       "      <th>11</th>\n",
       "      <td>0.747078</td>\n",
       "      <td>uid2+uraw1+itemc3_matrix_factorization</td>\n",
       "    </tr>\n",
       "    <tr>\n",
       "      <th>17</th>\n",
       "      <td>0.747400</td>\n",
       "      <td>uid2+uraw3+itemc3_matrix_factorization</td>\n",
       "    </tr>\n",
       "    <tr>\n",
       "      <th>19</th>\n",
       "      <td>0.758432</td>\n",
       "      <td>uid3+uraw1+itemc2_matrix_factorization</td>\n",
       "    </tr>\n",
       "    <tr>\n",
       "      <th>7</th>\n",
       "      <td>0.758740</td>\n",
       "      <td>uid1+uraw3+itemc2_matrix_factorization</td>\n",
       "    </tr>\n",
       "    <tr>\n",
       "      <th>6</th>\n",
       "      <td>0.758826</td>\n",
       "      <td>uid1+uraw3+itemc1_matrix_factorization</td>\n",
       "    </tr>\n",
       "    <tr>\n",
       "      <th>25</th>\n",
       "      <td>0.759162</td>\n",
       "      <td>uid3+uraw3+itemc2_matrix_factorization</td>\n",
       "    </tr>\n",
       "    <tr>\n",
       "      <th>0</th>\n",
       "      <td>0.759193</td>\n",
       "      <td>uid1+uraw1+itemc1_matrix_factorization</td>\n",
       "    </tr>\n",
       "    <tr>\n",
       "      <th>24</th>\n",
       "      <td>0.759358</td>\n",
       "      <td>uid3+uraw3+itemc1_matrix_factorization</td>\n",
       "    </tr>\n",
       "    <tr>\n",
       "      <th>18</th>\n",
       "      <td>0.759405</td>\n",
       "      <td>uid3+uraw1+itemc1_matrix_factorization</td>\n",
       "    </tr>\n",
       "    <tr>\n",
       "      <th>8</th>\n",
       "      <td>0.759408</td>\n",
       "      <td>uid1+uraw3+itemc3_matrix_factorization</td>\n",
       "    </tr>\n",
       "    <tr>\n",
       "      <th>1</th>\n",
       "      <td>0.759654</td>\n",
       "      <td>uid1+uraw1+itemc2_matrix_factorization</td>\n",
       "    </tr>\n",
       "    <tr>\n",
       "      <th>2</th>\n",
       "      <td>0.760523</td>\n",
       "      <td>uid1+uraw1+itemc3_matrix_factorization</td>\n",
       "    </tr>\n",
       "    <tr>\n",
       "      <th>26</th>\n",
       "      <td>0.760953</td>\n",
       "      <td>uid3+uraw3+itemc3_matrix_factorization</td>\n",
       "    </tr>\n",
       "    <tr>\n",
       "      <th>20</th>\n",
       "      <td>0.761288</td>\n",
       "      <td>uid3+uraw1+itemc3_matrix_factorization</td>\n",
       "    </tr>\n",
       "    <tr>\n",
       "      <th>21</th>\n",
       "      <td>0.762112</td>\n",
       "      <td>uid3+uraw2+itemc1_matrix_factorization</td>\n",
       "    </tr>\n",
       "    <tr>\n",
       "      <th>22</th>\n",
       "      <td>0.762143</td>\n",
       "      <td>uid3+uraw2+itemc2_matrix_factorization</td>\n",
       "    </tr>\n",
       "    <tr>\n",
       "      <th>23</th>\n",
       "      <td>0.762192</td>\n",
       "      <td>uid3+uraw2+itemc3_matrix_factorization</td>\n",
       "    </tr>\n",
       "    <tr>\n",
       "      <th>3</th>\n",
       "      <td>0.762722</td>\n",
       "      <td>uid1+uraw2+itemc1_matrix_factorization</td>\n",
       "    </tr>\n",
       "    <tr>\n",
       "      <th>5</th>\n",
       "      <td>0.762854</td>\n",
       "      <td>uid1+uraw2+itemc3_matrix_factorization</td>\n",
       "    </tr>\n",
       "    <tr>\n",
       "      <th>4</th>\n",
       "      <td>0.762892</td>\n",
       "      <td>uid1+uraw2+itemc2_matrix_factorization</td>\n",
       "    </tr>\n",
       "  </tbody>\n",
       "</table>\n",
       "</div>"
      ],
      "text/plain": [
       "       score                                     col\n",
       "12  0.743175  uid2+uraw2+itemc1_matrix_factorization\n",
       "13  0.743376  uid2+uraw2+itemc2_matrix_factorization\n",
       "10  0.743385  uid2+uraw1+itemc2_matrix_factorization\n",
       "16  0.743533  uid2+uraw3+itemc2_matrix_factorization\n",
       "15  0.743750  uid2+uraw3+itemc1_matrix_factorization\n",
       "9   0.743866  uid2+uraw1+itemc1_matrix_factorization\n",
       "14  0.744024  uid2+uraw2+itemc3_matrix_factorization\n",
       "11  0.747078  uid2+uraw1+itemc3_matrix_factorization\n",
       "17  0.747400  uid2+uraw3+itemc3_matrix_factorization\n",
       "19  0.758432  uid3+uraw1+itemc2_matrix_factorization\n",
       "7   0.758740  uid1+uraw3+itemc2_matrix_factorization\n",
       "6   0.758826  uid1+uraw3+itemc1_matrix_factorization\n",
       "25  0.759162  uid3+uraw3+itemc2_matrix_factorization\n",
       "0   0.759193  uid1+uraw1+itemc1_matrix_factorization\n",
       "24  0.759358  uid3+uraw3+itemc1_matrix_factorization\n",
       "18  0.759405  uid3+uraw1+itemc1_matrix_factorization\n",
       "8   0.759408  uid1+uraw3+itemc3_matrix_factorization\n",
       "1   0.759654  uid1+uraw1+itemc2_matrix_factorization\n",
       "2   0.760523  uid1+uraw1+itemc3_matrix_factorization\n",
       "26  0.760953  uid3+uraw3+itemc3_matrix_factorization\n",
       "20  0.761288  uid3+uraw1+itemc3_matrix_factorization\n",
       "21  0.762112  uid3+uraw2+itemc1_matrix_factorization\n",
       "22  0.762143  uid3+uraw2+itemc2_matrix_factorization\n",
       "23  0.762192  uid3+uraw2+itemc3_matrix_factorization\n",
       "3   0.762722  uid1+uraw2+itemc1_matrix_factorization\n",
       "5   0.762854  uid1+uraw2+itemc3_matrix_factorization\n",
       "4   0.762892  uid1+uraw2+itemc2_matrix_factorization"
      ]
     },
     "execution_count": 12,
     "metadata": {},
     "output_type": "execute_result"
    }
   ],
   "source": [
    "df_score.sort_values('score')"
   ]
  },
  {
   "cell_type": "markdown",
   "metadata": {},
   "source": [
    "# Put to submission"
   ]
  },
  {
   "cell_type": "code",
   "execution_count": 15,
   "metadata": {
    "ExecuteTime": {
     "end_time": "2018-10-14T18:40:30.926708Z",
     "start_time": "2018-10-14T18:40:25.308273Z"
    }
   },
   "outputs": [],
   "source": [
    "cv_loss = 0.5\n",
    "n_fold = 5\n",
    "colnum = 1\n",
    "\n",
    "predict_result = instance_test.copy()\n",
    "\n",
    "for col in fm_train.columns:\n",
    "    predict_result = instance_test.copy()\n",
    "    oof = fm_train[col].values\n",
    "    predict_result['predicted_score']= fm_test[col].values\n",
    "    now = str(np.random.randint(1000000))\n",
    "    \n",
    "    predict_result[['instance_id', 'predicted_score']].to_csv( \"../../data/features/agg/submission/%s_libFm_n%d_b%d_1h_col%d.csv\" % (now, n_fold, 70, colnum), index=False)\n",
    "    np.save('../../data/features/agg/submission/oof_%s_%.5f'%(now, cv_loss), oof) "
   ]
  },
  {
   "cell_type": "code",
   "execution_count": null,
   "metadata": {},
   "outputs": [],
   "source": []
  }
 ],
 "metadata": {
  "kernelspec": {
   "display_name": "Python 3",
   "language": "python",
   "name": "python3"
  },
  "language_info": {
   "codemirror_mode": {
    "name": "ipython",
    "version": 3
   },
   "file_extension": ".py",
   "mimetype": "text/x-python",
   "name": "python",
   "nbconvert_exporter": "python",
   "pygments_lexer": "ipython3",
   "version": "3.6.5"
  },
  "varInspector": {
   "cols": {
    "lenName": 16,
    "lenType": 16,
    "lenVar": 40
   },
   "kernels_config": {
    "python": {
     "delete_cmd_postfix": "",
     "delete_cmd_prefix": "del ",
     "library": "var_list.py",
     "varRefreshCmd": "print(var_dic_list())"
    },
    "r": {
     "delete_cmd_postfix": ") ",
     "delete_cmd_prefix": "rm(",
     "library": "var_list.r",
     "varRefreshCmd": "cat(var_dic_list()) "
    }
   },
   "types_to_exclude": [
    "module",
    "function",
    "builtin_function_or_method",
    "instance",
    "_Feature"
   ],
   "window_display": false
  }
 },
 "nbformat": 4,
 "nbformat_minor": 2
}
