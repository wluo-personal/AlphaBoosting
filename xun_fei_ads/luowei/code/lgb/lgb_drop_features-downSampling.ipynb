{
 "cells": [
  {
   "cell_type": "code",
   "execution_count": 1,
   "metadata": {
    "ExecuteTime": {
     "end_time": "2018-10-15T22:04:58.030039Z",
     "start_time": "2018-10-15T22:04:56.988252Z"
    }
   },
   "outputs": [],
   "source": [
    "import lightgbm as lgb\n",
    "__file__=''\n",
    "import os,sys\n",
    "import pandas as pd\n",
    "sys.path.append(os.path.join(os.path.dirname(__file__),'../LIB/'))\n",
    "sys.path.append(os.path.join(os.path.dirname(__file__),'../../../../automl/automl_libs/'))\n",
    "from env import FILE\n",
    "from sklearn.feature_extraction import FeatureHasher\n",
    "from sklearn.preprocessing import LabelEncoder\n",
    "le = LabelEncoder()\n",
    "from tqdm import tqdm\n",
    "from scipy import sparse \n",
    "import numpy as np\n",
    "from sklearn.model_selection import StratifiedKFold\n",
    "from sklearn.feature_selection import chi2, SelectPercentile,SelectKBest\n",
    "import gc\n",
    "import time\n",
    "from sklearn.feature_selection import chi2, SelectPercentile"
   ]
  },
  {
   "cell_type": "code",
   "execution_count": 2,
   "metadata": {
    "ExecuteTime": {
     "end_time": "2018-10-15T22:04:58.622605Z",
     "start_time": "2018-10-15T22:04:58.611020Z"
    }
   },
   "outputs": [],
   "source": [
    "from scipy.sparse import csr_matrix\n",
    "def save_csr(matrix,file_prefix='csr'):\n",
    "    data_file = file_prefix + '_data.npy'\n",
    "    indices_file = file_prefix + '_indices.npy'\n",
    "    indptr_file = file_prefix + '_indptr.npy'\n",
    "    np.save(data_file,matrix.data)\n",
    "    print('data save')\n",
    "    np.save(indices_file,matrix.indices)\n",
    "    print('indices save')\n",
    "    np.save(indptr_file,matrix.indptr)\n",
    "    print('indptr save')\n",
    "    print('save done!')\n",
    "    \n",
    "def load_csr(file_prefix='csr'):\n",
    "    data_file = file_prefix + '_data.npy'\n",
    "    indices_file = file_prefix + '_indices.npy'\n",
    "    indptr_file = file_prefix + '_indptr.npy'\n",
    "    data = np.load(data_file)\n",
    "    print('data load')\n",
    "    indices = np.load(indices_file)\n",
    "    print('indices load')\n",
    "    indptr = np.load(indptr_file)\n",
    "    print('indptr load')\n",
    "    csr = csr_matrix((data, indices, indptr))\n",
    "    return csr"
   ]
  },
  {
   "cell_type": "code",
   "execution_count": 3,
   "metadata": {
    "ExecuteTime": {
     "end_time": "2018-10-15T22:05:00.427912Z",
     "start_time": "2018-10-15T22:04:59.710506Z"
    }
   },
   "outputs": [
    {
     "name": "stdout",
     "output_type": "stream",
     "text": [
      "data load\n",
      "indices load\n",
      "indptr load\n",
      "data load\n",
      "indices load\n",
      "indptr load\n"
     ]
    }
   ],
   "source": [
    "train_csr = load_csr('../../data/features/xgb/train_csr')\n",
    "predict_csr = load_csr('../../data/features/xgb/predict_csr')\n",
    "train_y = np.load('../../data/features/xgb/train_y_f620_b70_col17k.npy')\n",
    "predicted_file = pd.read_csv('../../data/features/xgb/predict_f620_b70_col17k.csv')"
   ]
  },
  {
   "cell_type": "markdown",
   "metadata": {},
   "source": [
    "# Load More features"
   ]
  },
  {
   "cell_type": "code",
   "execution_count": 4,
   "metadata": {
    "ExecuteTime": {
     "end_time": "2018-10-15T22:05:24.717489Z",
     "start_time": "2018-10-15T22:05:13.517484Z"
    }
   },
   "outputs": [
    {
     "name": "stdout",
     "output_type": "stream",
     "text": [
      "(3072915, 838)\n"
     ]
    }
   ],
   "source": [
    "X_fe = pd.read_pickle('../../data/features/xgb/new_feats_838.pkl')\n",
    "print(X_fe.shape)\n",
    "X_ = X_fe.copy()"
   ]
  },
  {
   "cell_type": "code",
   "execution_count": 5,
   "metadata": {
    "ExecuteTime": {
     "end_time": "2018-10-15T22:20:54.407428Z",
     "start_time": "2018-10-15T22:05:33.880605Z"
    }
   },
   "outputs": [
    {
     "name": "stderr",
     "output_type": "stream",
     "text": [
      "100%|██████████| 838/838 [15:20<00:00,  1.10s/it]\n"
     ]
    }
   ],
   "source": [
    "cut_bin = 30\n",
    "for col in tqdm(X_fe.columns):\n",
    "        X_[col] = pd.cut(X_fe[col], bins=cut_bin, labels=False, retbins=True, right=False)[0]  "
   ]
  },
  {
   "cell_type": "code",
   "execution_count": 6,
   "metadata": {
    "ExecuteTime": {
     "end_time": "2018-10-15T22:25:43.140044Z",
     "start_time": "2018-10-15T22:21:00.108046Z"
    }
   },
   "outputs": [
    {
     "ename": "NameError",
     "evalue": "name 'train_csr_f' is not defined",
     "output_type": "error",
     "traceback": [
      "\u001b[0;31m---------------------------------------------------------------------------\u001b[0m",
      "\u001b[0;31mNameError\u001b[0m                                 Traceback (most recent call last)",
      "\u001b[0;32m?\u001b[0m in \u001b[0;36m<module>\u001b[0;34m()\u001b[0m\n\u001b[1;32m      4\u001b[0m predict_csr_ff = sparse.hstack(\n\u001b[1;32m      5\u001b[0m     (sparse.csr_matrix(X_.iloc[train_csr.shape[0]:]), predict_csr), 'csr').astype('float32')\n\u001b[0;32m----> 6\u001b[0;31m \u001b[0mprint\u001b[0m\u001b[0;34m(\u001b[0m\u001b[0mtrain_csr_f\u001b[0m\u001b[0;34m.\u001b[0m\u001b[0mshape\u001b[0m\u001b[0;34m)\u001b[0m\u001b[0;34m\u001b[0m\u001b[0m\n\u001b[0m",
      "\u001b[0;31mNameError\u001b[0m: name 'train_csr_f' is not defined"
     ]
    }
   ],
   "source": [
    "train_csr_ff = sparse.hstack(\n",
    "    (sparse.csr_matrix(X_.iloc[:train_csr.shape[0]]), train_csr), 'csr').astype(\n",
    "    'float32')\n",
    "predict_csr_ff = sparse.hstack(\n",
    "    (sparse.csr_matrix(X_.iloc[train_csr.shape[0]:]), predict_csr), 'csr').astype('float32')\n",
    "print(train_csr_ff.shape)"
   ]
  },
  {
   "cell_type": "code",
   "execution_count": 10,
   "metadata": {
    "ExecuteTime": {
     "end_time": "2018-10-15T22:27:01.245125Z",
     "start_time": "2018-10-15T22:27:00.118018Z"
    }
   },
   "outputs": [
    {
     "name": "stdout",
     "output_type": "stream",
     "text": [
      "1190804\n"
     ]
    }
   ],
   "source": [
    "index_y1 = np.array(range(len(train_y)))[train_y==1]\n",
    "df_posi = pd.DataFrame({'index_label':index_y1})\n",
    "index_y0 = np.array(range(len(train_y)))[train_y==0]\n",
    "df_nega = pd.DataFrame({'index_label':index_y0})\n",
    "df_nega = df_nega.sample(len(df_posi))\n",
    "df_label = pd.concat([df_posi,df_nega],sort=False)\n",
    "df_label = df_label.sample(frac=1)\n",
    "labels_index = df_label.index_label.values\n",
    "print(len(labels_index))\n"
   ]
  },
  {
   "cell_type": "code",
   "execution_count": 16,
   "metadata": {
    "ExecuteTime": {
     "end_time": "2018-10-15T22:32:41.734110Z",
     "start_time": "2018-10-15T22:32:32.378530Z"
    }
   },
   "outputs": [
    {
     "ename": "KeyboardInterrupt",
     "evalue": "",
     "output_type": "error",
     "traceback": [
      "\u001b[0;31m---------------------------------------------------------------------------\u001b[0m",
      "\u001b[0;31mKeyboardInterrupt\u001b[0m                         Traceback (most recent call last)",
      "\u001b[0;32m?\u001b[0m in \u001b[0;36m<module>\u001b[0;34m()\u001b[0m\n\u001b[0;32m----> 1\u001b[0;31m \u001b[0mtrain_csr_f\u001b[0m \u001b[0;34m=\u001b[0m \u001b[0mtrain_csr_ff\u001b[0m\u001b[0;34m[\u001b[0m\u001b[0mlabels_index\u001b[0m\u001b[0;34m]\u001b[0m\u001b[0;34m\u001b[0m\u001b[0m\n\u001b[0m\u001b[1;32m      2\u001b[0m \u001b[0mtrain_yy\u001b[0m \u001b[0;34m=\u001b[0m \u001b[0mtrain_y\u001b[0m\u001b[0;34m[\u001b[0m\u001b[0mlabels_index\u001b[0m\u001b[0;34m]\u001b[0m\u001b[0;34m\u001b[0m\u001b[0m\n\u001b[1;32m      3\u001b[0m \u001b[0mpredict_csr_f\u001b[0m \u001b[0;34m=\u001b[0m \u001b[0mpredict_csr_ff\u001b[0m\u001b[0;34m\u001b[0m\u001b[0m\n",
      "\u001b[0;32m~/anaconda3/lib/python3.6/site-packages/scipy/sparse/csr.py\u001b[0m in \u001b[0;36m__getitem__\u001b[0;34m(self, key)\u001b[0m\n\u001b[1;32m    315\u001b[0m             \u001b[0;32mif\u001b[0m \u001b[0misintlike\u001b[0m\u001b[0;34m(\u001b[0m\u001b[0mcol\u001b[0m\u001b[0;34m)\u001b[0m \u001b[0;32mor\u001b[0m \u001b[0misinstance\u001b[0m\u001b[0;34m(\u001b[0m\u001b[0mcol\u001b[0m\u001b[0;34m,\u001b[0m\u001b[0mslice\u001b[0m\u001b[0;34m)\u001b[0m\u001b[0;34m:\u001b[0m\u001b[0;34m\u001b[0m\u001b[0m\n\u001b[1;32m    316\u001b[0m                 \u001b[0mP\u001b[0m \u001b[0;34m=\u001b[0m \u001b[0mextractor\u001b[0m\u001b[0;34m(\u001b[0m\u001b[0mrow\u001b[0m\u001b[0;34m,\u001b[0m \u001b[0mself\u001b[0m\u001b[0;34m.\u001b[0m\u001b[0mshape\u001b[0m\u001b[0;34m[\u001b[0m\u001b[0;36m0\u001b[0m\u001b[0;34m]\u001b[0m\u001b[0;34m)\u001b[0m     \u001b[0;31m# [[1,2],j] or [[1,2],1:2]\u001b[0m\u001b[0;34m\u001b[0m\u001b[0m\n\u001b[0;32m--> 317\u001b[0;31m                 \u001b[0mextracted\u001b[0m \u001b[0;34m=\u001b[0m \u001b[0mP\u001b[0m \u001b[0;34m*\u001b[0m \u001b[0mself\u001b[0m\u001b[0;34m\u001b[0m\u001b[0m\n\u001b[0m\u001b[1;32m    318\u001b[0m                 \u001b[0;32mif\u001b[0m \u001b[0mcol\u001b[0m \u001b[0;34m==\u001b[0m \u001b[0mslice\u001b[0m\u001b[0;34m(\u001b[0m\u001b[0;32mNone\u001b[0m\u001b[0;34m,\u001b[0m \u001b[0;32mNone\u001b[0m\u001b[0;34m,\u001b[0m \u001b[0;32mNone\u001b[0m\u001b[0;34m)\u001b[0m\u001b[0;34m:\u001b[0m\u001b[0;34m\u001b[0m\u001b[0m\n\u001b[1;32m    319\u001b[0m                     \u001b[0;32mreturn\u001b[0m \u001b[0mextracted\u001b[0m\u001b[0;34m\u001b[0m\u001b[0m\n",
      "\u001b[0;32m~/anaconda3/lib/python3.6/site-packages/scipy/sparse/base.py\u001b[0m in \u001b[0;36m__mul__\u001b[0;34m(self, other)\u001b[0m\n\u001b[1;32m    477\u001b[0m             \u001b[0;32mif\u001b[0m \u001b[0mself\u001b[0m\u001b[0;34m.\u001b[0m\u001b[0mshape\u001b[0m\u001b[0;34m[\u001b[0m\u001b[0;36m1\u001b[0m\u001b[0;34m]\u001b[0m \u001b[0;34m!=\u001b[0m \u001b[0mother\u001b[0m\u001b[0;34m.\u001b[0m\u001b[0mshape\u001b[0m\u001b[0;34m[\u001b[0m\u001b[0;36m0\u001b[0m\u001b[0;34m]\u001b[0m\u001b[0;34m:\u001b[0m\u001b[0;34m\u001b[0m\u001b[0m\n\u001b[1;32m    478\u001b[0m                 \u001b[0;32mraise\u001b[0m \u001b[0mValueError\u001b[0m\u001b[0;34m(\u001b[0m\u001b[0;34m'dimension mismatch'\u001b[0m\u001b[0;34m)\u001b[0m\u001b[0;34m\u001b[0m\u001b[0m\n\u001b[0;32m--> 479\u001b[0;31m             \u001b[0;32mreturn\u001b[0m \u001b[0mself\u001b[0m\u001b[0;34m.\u001b[0m\u001b[0m_mul_sparse_matrix\u001b[0m\u001b[0;34m(\u001b[0m\u001b[0mother\u001b[0m\u001b[0;34m)\u001b[0m\u001b[0;34m\u001b[0m\u001b[0m\n\u001b[0m\u001b[1;32m    480\u001b[0m \u001b[0;34m\u001b[0m\u001b[0m\n\u001b[1;32m    481\u001b[0m         \u001b[0;31m# If it's a list or whatever, treat it like a matrix\u001b[0m\u001b[0;34m\u001b[0m\u001b[0;34m\u001b[0m\u001b[0m\n",
      "\u001b[0;32m~/anaconda3/lib/python3.6/site-packages/scipy/sparse/compressed.py\u001b[0m in \u001b[0;36m_mul_sparse_matrix\u001b[0;34m(self, other)\u001b[0m\n\u001b[1;32m    493\u001b[0m            \u001b[0mnp\u001b[0m\u001b[0;34m.\u001b[0m\u001b[0masarray\u001b[0m\u001b[0;34m(\u001b[0m\u001b[0mother\u001b[0m\u001b[0;34m.\u001b[0m\u001b[0mindptr\u001b[0m\u001b[0;34m,\u001b[0m \u001b[0mdtype\u001b[0m\u001b[0;34m=\u001b[0m\u001b[0midx_dtype\u001b[0m\u001b[0;34m)\u001b[0m\u001b[0;34m,\u001b[0m\u001b[0;34m\u001b[0m\u001b[0m\n\u001b[1;32m    494\u001b[0m            \u001b[0mnp\u001b[0m\u001b[0;34m.\u001b[0m\u001b[0masarray\u001b[0m\u001b[0;34m(\u001b[0m\u001b[0mother\u001b[0m\u001b[0;34m.\u001b[0m\u001b[0mindices\u001b[0m\u001b[0;34m,\u001b[0m \u001b[0mdtype\u001b[0m\u001b[0;34m=\u001b[0m\u001b[0midx_dtype\u001b[0m\u001b[0;34m)\u001b[0m\u001b[0;34m,\u001b[0m\u001b[0;34m\u001b[0m\u001b[0m\n\u001b[0;32m--> 495\u001b[0;31m            indptr)\n\u001b[0m\u001b[1;32m    496\u001b[0m \u001b[0;34m\u001b[0m\u001b[0m\n\u001b[1;32m    497\u001b[0m         \u001b[0mnnz\u001b[0m \u001b[0;34m=\u001b[0m \u001b[0mindptr\u001b[0m\u001b[0;34m[\u001b[0m\u001b[0;34m-\u001b[0m\u001b[0;36m1\u001b[0m\u001b[0;34m]\u001b[0m\u001b[0;34m\u001b[0m\u001b[0m\n",
      "\u001b[0;31mKeyboardInterrupt\u001b[0m: "
     ]
    }
   ],
   "source": [
    "train_csr_f = train_csr_ff[labels_index]\n",
    "train_yy = train_y[labels_index]\n",
    "predict_csr_f = predict_csr_ff"
   ]
  },
  {
   "cell_type": "code",
   "execution_count": 17,
   "metadata": {
    "ExecuteTime": {
     "end_time": "2018-10-15T22:32:47.103173Z",
     "start_time": "2018-10-15T22:32:46.291636Z"
    }
   },
   "outputs": [
    {
     "data": {
      "text/plain": [
       "991"
      ]
     },
     "execution_count": 17,
     "metadata": {},
     "output_type": "execute_result"
    }
   ],
   "source": [
    "import gc\n",
    "gc.collect()"
   ]
  },
  {
   "cell_type": "code",
   "execution_count": null,
   "metadata": {},
   "outputs": [],
   "source": [
    "# feature_select = SelectKBest(chi2, percentile=10000)\n",
    "# feature_select.fit(train_csr, train_y)\n",
    "# train_csr = feature_select.transform(train_csr)\n",
    "# predict_csr = feature_select.transform(predict_csr)\n",
    "# print('feature select')\n",
    "# print(train_csr.shape)"
   ]
  },
  {
   "cell_type": "markdown",
   "metadata": {},
   "source": [
    "# Generate sample"
   ]
  },
  {
   "cell_type": "code",
   "execution_count": 4,
   "metadata": {
    "ExecuteTime": {
     "end_time": "2018-10-14T01:33:43.057294Z",
     "start_time": "2018-10-14T01:33:31.823655Z"
    }
   },
   "outputs": [
    {
     "name": "stderr",
     "output_type": "stream",
     "text": [
      "100%|██████████| 2/2 [00:11<00:00,  5.58s/it]\n"
     ]
    }
   ],
   "source": [
    "# sample_size = 400000\n",
    "# sample_times = 2\n",
    "# sample_all = pd.DataFrame({'data':range(train_csr.shape[0])})\n",
    "# sample_index_list = []\n",
    "# samples = []\n",
    "# samples_y = []\n",
    "# for i in tqdm(range(sample_times)):\n",
    "#     sample_index_list.append(list(sample_all.sample(sample_size).index))\n",
    "#     samples.append(train_csr[sample_index_list[i]])\n",
    "#     samples_y.append(train_y[sample_index_list[i]])\n"
   ]
  },
  {
   "cell_type": "markdown",
   "metadata": {},
   "source": [
    "# Define lgb model"
   ]
  },
  {
   "cell_type": "code",
   "execution_count": null,
   "metadata": {
    "ExecuteTime": {
     "end_time": "2018-10-15T22:33:29.232979Z",
     "start_time": "2018-10-15T22:33:28.643Z"
    }
   },
   "outputs": [],
   "source": [
    "lgb_model = lgb.LGBMClassifier(\n",
    "    boosting_type='gbdt', num_leaves=32, reg_alpha=0, reg_lambda=0.1,\n",
    "    max_depth=-1, n_estimators=5000, objective='binary',\n",
    "    subsample=0.7, colsample_bytree=0.7, subsample_freq=1,\n",
    "    learning_rate=0.05, random_state=1001, n_jobs=16\n",
    ")\n"
   ]
  },
  {
   "cell_type": "code",
   "execution_count": 19,
   "metadata": {
    "ExecuteTime": {
     "end_time": "2018-10-15T22:33:29.817253Z",
     "start_time": "2018-10-15T22:33:29.798954Z"
    }
   },
   "outputs": [],
   "source": [
    "def test_on_sample(train_csr_f,train_y_f,lgb_model,n_fold = 5,seed=None,first=2500):\n",
    "    if seed is None:\n",
    "        seed = np.random.randint(1000)\n",
    "    cv_list = []\n",
    "    skf = StratifiedKFold(n_splits=n_fold, random_state=seed, shuffle=True)\n",
    "    best_score = []\n",
    "\n",
    "\n",
    "    feature_importance_tmp_split = []\n",
    "    feature_importance_tmp_gain = []\n",
    "    df_fea = pd.DataFrame()\n",
    "\n",
    "    t1 = time.time()\n",
    "    for index, (train_index, test_index) in enumerate(skf.split(train_csr_f, train_y_f)):\n",
    "        lgb_model.fit(train_csr_f[train_index], train_y_f[train_index],\n",
    "                      eval_set=[(train_csr_f[train_index], train_y_f[train_index]),\n",
    "                                (train_csr_f[test_index], train_y_f[test_index])], early_stopping_rounds=200,verbose=200)\n",
    "        best_score.append(lgb_model.best_score_['valid_1']['binary_logloss'])\n",
    "        print(best_score)\n",
    "        print('cv:',np.mean(best_score))\n",
    "        feature_importance_tmp_split.append(lgb_model.booster_.feature_importance(importance_type='split'))\n",
    "        feature_importance_tmp_gain.append(lgb_model.booster_.feature_importance(importance_type='gain'))\n",
    "\n",
    "    df_fea['col_name'] = lgb_model.booster_.feature_name()\n",
    "    df_fea['split'] = np.mean(feature_importance_tmp_split,axis=0)\n",
    "    df_fea['gain'] = np.mean(feature_importance_tmp_gain,axis=0)\n",
    "\n",
    "    cv_list.append(np.mean(best_score))\n",
    "    t2 = time.time()\n",
    "    print('time spend: {} s'.format(t2-t1))\n",
    "    print('after dropping...')\n",
    "\n",
    "\n",
    "    split_index = list(df_fea[df_fea.split!=0].index)\n",
    "    gain_index = list(df_fea[df_fea.gain!=0].index)\n",
    "    #union\n",
    "#     retain_index = list(set(split_index+gain_index))\n",
    "    #intersection\n",
    "#     retain_index = list(set(split_index).intersection(set(gain_index)))\n",
    "    if first is None:\n",
    "        first = 500\n",
    "    split_index = df_fea.sort_values('split',ascending=False)['split'].index.values[:first]\n",
    "    gain_index = df_fea.sort_values('gain',ascending=False)['gain'].index.values[:first]\n",
    "    retain_index = list(set(split_index).intersection(set(gain_index)))\n",
    "    print(len(retain_index))\n",
    "\n",
    "    best_scor2 = []\n",
    "    t1 = time.time()\n",
    "    for index, (train_index, test_index) in enumerate(skf.split(train_csr_f, train_y_f)):\n",
    "        lgb_model.fit(train_csr_f[train_index][:,retain_index], train_y_f[train_index],\n",
    "                      eval_set=[(train_csr_f[train_index][:,retain_index], train_y_f[train_index]),\n",
    "                                (train_csr_f[test_index][:,retain_index], train_y_f[test_index])], early_stopping_rounds=200,verbose=200)\n",
    "        best_scor2.append(lgb_model.best_score_['valid_1']['binary_logloss'])\n",
    "        print(best_scor2)\n",
    "        print('cv:',np.mean(best_scor2))\n",
    "    cv_list.append(np.mean(best_scor2))\n",
    "    drop = False\n",
    "    if cv_list[-1] < cv_list[-2]:\n",
    "        print('dropping successfully!')\n",
    "        print('cv drop:{}'.format(cv_list[-2]-cv_list[-1]))\n",
    "        drop = True\n",
    "    else:\n",
    "        print('dropping failed!!!!!!')\n",
    "        print('cv increase:{}'.format(cv_list[-1]-cv_list[-2]))\n",
    "    t2 = time.time()\n",
    "    print('time spend: {} s'.format(t2-t1))\n",
    "    return df_fea, retain_index, drop"
   ]
  },
  {
   "cell_type": "code",
   "execution_count": 20,
   "metadata": {
    "ExecuteTime": {
     "end_time": "2018-10-15T22:33:30.801301Z",
     "start_time": "2018-10-15T22:33:30.785585Z"
    }
   },
   "outputs": [],
   "source": [
    "def verify_on_sample(train_csr_f,train_y_f,lgb_model,retain_index,n_fold = 3,seed=None,cv_list=[]):\n",
    "    if seed is None:\n",
    "        seed = np.random.randint(1000)\n",
    "\n",
    "    skf = StratifiedKFold(n_splits=n_fold, random_state=seed, shuffle=True)\n",
    "    best_score = []\n",
    "    \n",
    "    if len(cv_list) == 0:\n",
    "\n",
    "        t1 = time.time()\n",
    "        for index, (train_index, test_index) in enumerate(skf.split(train_csr_f, train_y_f)):\n",
    "            lgb_model.fit(train_csr_f[train_index], train_y_f[train_index],\n",
    "                          eval_set=[(train_csr_f[train_index], train_y_f[train_index]),\n",
    "                                    (train_csr_f[test_index], train_y_f[test_index])], early_stopping_rounds=100,verbose=200)\n",
    "            best_score.append(lgb_model.best_score_['valid_1']['binary_logloss'])\n",
    "            print(best_score)\n",
    "            print('cv:',np.mean(best_score))\n",
    "\n",
    "\n",
    "\n",
    "\n",
    "        cv_list.append(np.mean(best_score))\n",
    "        t2 = time.time()\n",
    "        print('time spend: {} s'.format(t2-t1))\n",
    "        print('after dropping...')\n",
    "\n",
    "        print(len(retain_index))\n",
    "\n",
    "    best_scor2 = []\n",
    "    t1 = time.time()\n",
    "    for index, (train_index, test_index) in enumerate(skf.split(train_csr_f, train_y_f)):\n",
    "        lgb_model.fit(train_csr_f[train_index][:,retain_index], train_y_f[train_index],\n",
    "                      eval_set=[(train_csr_f[train_index][:,retain_index], train_y_f[train_index]),\n",
    "                                (train_csr_f[test_index][:,retain_index], train_y_f[test_index])], early_stopping_rounds=100,verbose=200)\n",
    "        best_scor2.append(lgb_model.best_score_['valid_1']['binary_logloss'])\n",
    "        print(best_scor2)\n",
    "        print('cv:',np.mean(best_scor2))\n",
    "    cv_list.append(np.mean(best_scor2))\n",
    "    t2 = time.time()\n",
    "    print('time spend: {} s'.format(t2-t1))\n",
    "\n",
    "    if cv_list[-1] < cv_list[-2]:\n",
    "        print('dropping successfully!')\n",
    "        print('cv drop:{}'.format(cv_list[-2]-cv_list[-1]))\n",
    "        return True\n",
    "    else:\n",
    "        print('dropping failed!!!!!!')\n",
    "        print('cv increase:{}'.format(cv_list[-1]-cv_list[-2]))\n",
    "        return False\n",
    "    \n",
    "    "
   ]
  },
  {
   "cell_type": "code",
   "execution_count": null,
   "metadata": {
    "ExecuteTime": {
     "start_time": "2018-10-15T22:33:33.354Z"
    },
    "scrolled": true
   },
   "outputs": [
    {
     "name": "stdout",
     "output_type": "stream",
     "text": [
      "Training until validation scores don't improve for 200 rounds.\n",
      "[200]\tvalid_0's binary_logloss: 0.553569\tvalid_1's binary_logloss: 0.555471\n",
      "[400]\tvalid_0's binary_logloss: 0.54943\tvalid_1's binary_logloss: 0.553944\n"
     ]
    }
   ],
   "source": [
    "df_fea, retain_index, ifdrop = test_on_sample(train_csr_f,train_yy,lgb_model,n_fold = 5,seed=19,first=2500)"
   ]
  },
  {
   "cell_type": "code",
   "execution_count": 25,
   "metadata": {
    "ExecuteTime": {
     "end_time": "2018-10-14T03:25:42.938038Z",
     "start_time": "2018-10-14T03:17:23.273414Z"
    }
   },
   "outputs": [
    {
     "name": "stdout",
     "output_type": "stream",
     "text": [
      "Training until validation scores don't improve for 100 rounds.\n",
      "[200]\tvalid_0's binary_logloss: 0.41176\tvalid_1's binary_logloss: 0.416903\n",
      "[400]\tvalid_0's binary_logloss: 0.402715\tvalid_1's binary_logloss: 0.416445\n",
      "[600]\tvalid_0's binary_logloss: 0.394742\tvalid_1's binary_logloss: 0.416382\n",
      "Early stopping, best iteration is:\n",
      "[507]\tvalid_0's binary_logloss: 0.398304\tvalid_1's binary_logloss: 0.416348\n",
      "[0.41634779832398616]\n",
      "cv: 0.41634779832398616\n",
      "Training until validation scores don't improve for 100 rounds.\n",
      "[200]\tvalid_0's binary_logloss: 0.410971\tvalid_1's binary_logloss: 0.419463\n",
      "Early stopping, best iteration is:\n",
      "[244]\tvalid_0's binary_logloss: 0.40881\tvalid_1's binary_logloss: 0.419309\n",
      "[0.41634779832398616, 0.4193088064896909]\n",
      "cv: 0.41782830240683855\n",
      "Training until validation scores don't improve for 100 rounds.\n",
      "[200]\tvalid_0's binary_logloss: 0.411046\tvalid_1's binary_logloss: 0.419822\n",
      "Early stopping, best iteration is:\n",
      "[284]\tvalid_0's binary_logloss: 0.406948\tvalid_1's binary_logloss: 0.41959\n",
      "[0.41634779832398616, 0.4193088064896909, 0.4195899135750542]\n",
      "cv: 0.4184155061295771\n",
      "Training until validation scores don't improve for 100 rounds.\n",
      "[200]\tvalid_0's binary_logloss: 0.410858\tvalid_1's binary_logloss: 0.419929\n",
      "[400]\tvalid_0's binary_logloss: 0.401722\tvalid_1's binary_logloss: 0.419335\n",
      "[600]\tvalid_0's binary_logloss: 0.393677\tvalid_1's binary_logloss: 0.419253\n",
      "Early stopping, best iteration is:\n",
      "[555]\tvalid_0's binary_logloss: 0.39541\tvalid_1's binary_logloss: 0.419189\n",
      "[0.41634779832398616, 0.4193088064896909, 0.4195899135750542, 0.4191887300002715]\n",
      "cv: 0.4186088120972507\n",
      "Training until validation scores don't improve for 100 rounds.\n",
      "[200]\tvalid_0's binary_logloss: 0.410821\tvalid_1's binary_logloss: 0.419936\n",
      "[400]\tvalid_0's binary_logloss: 0.401744\tvalid_1's binary_logloss: 0.419642\n",
      "Early stopping, best iteration is:\n",
      "[318]\tvalid_0's binary_logloss: 0.405273\tvalid_1's binary_logloss: 0.419598\n",
      "[0.41634779832398616, 0.4193088064896909, 0.4195899135750542, 0.4191887300002715, 0.4195976691785134]\n",
      "cv: 0.4188065835135032\n",
      "time spend: 269.59219884872437 s\n",
      "after dropping...\n",
      "1426\n",
      "Training until validation scores don't improve for 100 rounds.\n",
      "[200]\tvalid_0's binary_logloss: 0.412058\tvalid_1's binary_logloss: 0.41684\n",
      "[400]\tvalid_0's binary_logloss: 0.402849\tvalid_1's binary_logloss: 0.416346\n",
      "[600]\tvalid_0's binary_logloss: 0.394555\tvalid_1's binary_logloss: 0.416208\n",
      "Early stopping, best iteration is:\n",
      "[603]\tvalid_0's binary_logloss: 0.394442\tvalid_1's binary_logloss: 0.416191\n",
      "[0.4161912919493082]\n",
      "cv: 0.4161912919493082\n",
      "Training until validation scores don't improve for 100 rounds.\n",
      "[200]\tvalid_0's binary_logloss: 0.411131\tvalid_1's binary_logloss: 0.419594\n",
      "[400]\tvalid_0's binary_logloss: 0.401887\tvalid_1's binary_logloss: 0.419327\n",
      "Early stopping, best iteration is:\n",
      "[480]\tvalid_0's binary_logloss: 0.398481\tvalid_1's binary_logloss: 0.419249\n",
      "[0.4161912919493082, 0.41924855560269364]\n",
      "cv: 0.4177199237760009\n",
      "Training until validation scores don't improve for 100 rounds.\n",
      "[200]\tvalid_0's binary_logloss: 0.411157\tvalid_1's binary_logloss: 0.419594\n",
      "[400]\tvalid_0's binary_logloss: 0.401842\tvalid_1's binary_logloss: 0.419404\n",
      "Early stopping, best iteration is:\n",
      "[335]\tvalid_0's binary_logloss: 0.404772\tvalid_1's binary_logloss: 0.419318\n",
      "[0.4161912919493082, 0.41924855560269364, 0.4193177388074543]\n",
      "cv: 0.4182525287864854\n",
      "Training until validation scores don't improve for 100 rounds.\n",
      "[200]\tvalid_0's binary_logloss: 0.411077\tvalid_1's binary_logloss: 0.420144\n",
      "[400]\tvalid_0's binary_logloss: 0.401883\tvalid_1's binary_logloss: 0.419912\n",
      "[600]\tvalid_0's binary_logloss: 0.393677\tvalid_1's binary_logloss: 0.419805\n",
      "Early stopping, best iteration is:\n",
      "[557]\tvalid_0's binary_logloss: 0.395369\tvalid_1's binary_logloss: 0.419778\n",
      "[0.4161912919493082, 0.41924855560269364, 0.4193177388074543, 0.4197782627280719]\n",
      "cv: 0.41863396227188204\n",
      "Training until validation scores don't improve for 100 rounds.\n",
      "[200]\tvalid_0's binary_logloss: 0.410945\tvalid_1's binary_logloss: 0.420159\n",
      "[400]\tvalid_0's binary_logloss: 0.401717\tvalid_1's binary_logloss: 0.420017\n",
      "Early stopping, best iteration is:\n",
      "[306]\tvalid_0's binary_logloss: 0.40591\tvalid_1's binary_logloss: 0.419889\n",
      "[0.4161912919493082, 0.41924855560269364, 0.4193177388074543, 0.4197782627280719, 0.4198892446229049]\n",
      "cv: 0.4188850187420866\n",
      "time spend: 230.0690836906433 s\n",
      "dropping failed!!!!!!\n",
      "cv increase:7.843522858341778e-05\n"
     ]
    }
   ],
   "source": [
    "if ifdrop:\n",
    "    verify_drop = verify_on_sample(samples[1],samples_y[1],lgb_model,retain_index,n_fold = 5,seed=21)"
   ]
  },
  {
   "cell_type": "code",
   "execution_count": 29,
   "metadata": {
    "ExecuteTime": {
     "end_time": "2018-10-14T06:34:13.089336Z",
     "start_time": "2018-10-14T03:39:43.086024Z"
    }
   },
   "outputs": [
    {
     "name": "stdout",
     "output_type": "stream",
     "text": [
      "Training until validation scores don't improve for 100 rounds.\n",
      "[200]\tvalid_0's binary_logloss: 0.416214\tvalid_1's binary_logloss: 0.416022\n",
      "[400]\tvalid_0's binary_logloss: 0.413937\tvalid_1's binary_logloss: 0.414851\n",
      "[600]\tvalid_0's binary_logloss: 0.412246\tvalid_1's binary_logloss: 0.414457\n",
      "[800]\tvalid_0's binary_logloss: 0.410771\tvalid_1's binary_logloss: 0.414263\n",
      "[1000]\tvalid_0's binary_logloss: 0.409375\tvalid_1's binary_logloss: 0.414097\n",
      "[1200]\tvalid_0's binary_logloss: 0.408044\tvalid_1's binary_logloss: 0.413993\n",
      "[1400]\tvalid_0's binary_logloss: 0.406768\tvalid_1's binary_logloss: 0.413942\n",
      "[1600]\tvalid_0's binary_logloss: 0.405533\tvalid_1's binary_logloss: 0.413916\n",
      "Early stopping, best iteration is:\n",
      "[1518]\tvalid_0's binary_logloss: 0.406031\tvalid_1's binary_logloss: 0.413911\n",
      "[0.41391132240832157]\n",
      "cv: 0.41391132240832157\n",
      "Training until validation scores don't improve for 100 rounds.\n",
      "[200]\tvalid_0's binary_logloss: 0.415903\tvalid_1's binary_logloss: 0.417085\n",
      "[400]\tvalid_0's binary_logloss: 0.41363\tvalid_1's binary_logloss: 0.415953\n",
      "[600]\tvalid_0's binary_logloss: 0.41196\tvalid_1's binary_logloss: 0.415558\n",
      "[800]\tvalid_0's binary_logloss: 0.410455\tvalid_1's binary_logloss: 0.415338\n",
      "[1000]\tvalid_0's binary_logloss: 0.409065\tvalid_1's binary_logloss: 0.415225\n",
      "[1200]\tvalid_0's binary_logloss: 0.407731\tvalid_1's binary_logloss: 0.415155\n",
      "[1400]\tvalid_0's binary_logloss: 0.406443\tvalid_1's binary_logloss: 0.415097\n",
      "[1600]\tvalid_0's binary_logloss: 0.405187\tvalid_1's binary_logloss: 0.415047\n",
      "[1800]\tvalid_0's binary_logloss: 0.403973\tvalid_1's binary_logloss: 0.415037\n",
      "Early stopping, best iteration is:\n",
      "[1843]\tvalid_0's binary_logloss: 0.403714\tvalid_1's binary_logloss: 0.415028\n",
      "[0.41391132240832157, 0.4150276526235453]\n",
      "cv: 0.41446948751593343\n",
      "Training until validation scores don't improve for 100 rounds.\n",
      "[200]\tvalid_0's binary_logloss: 0.415934\tvalid_1's binary_logloss: 0.417003\n",
      "[400]\tvalid_0's binary_logloss: 0.413669\tvalid_1's binary_logloss: 0.415916\n",
      "[600]\tvalid_0's binary_logloss: 0.412004\tvalid_1's binary_logloss: 0.415534\n",
      "[800]\tvalid_0's binary_logloss: 0.410494\tvalid_1's binary_logloss: 0.415316\n",
      "[1000]\tvalid_0's binary_logloss: 0.409128\tvalid_1's binary_logloss: 0.415225\n",
      "[1200]\tvalid_0's binary_logloss: 0.407805\tvalid_1's binary_logloss: 0.415136\n",
      "[1400]\tvalid_0's binary_logloss: 0.406516\tvalid_1's binary_logloss: 0.415073\n",
      "[1600]\tvalid_0's binary_logloss: 0.405266\tvalid_1's binary_logloss: 0.415015\n",
      "[1800]\tvalid_0's binary_logloss: 0.404044\tvalid_1's binary_logloss: 0.414993\n",
      "[2000]\tvalid_0's binary_logloss: 0.402864\tvalid_1's binary_logloss: 0.414962\n",
      "Early stopping, best iteration is:\n",
      "[2055]\tvalid_0's binary_logloss: 0.402538\tvalid_1's binary_logloss: 0.414954\n",
      "[0.41391132240832157, 0.4150276526235453, 0.4149535661118063]\n",
      "cv: 0.41463084704789105\n",
      "Training until validation scores don't improve for 100 rounds.\n",
      "[200]\tvalid_0's binary_logloss: 0.415945\tvalid_1's binary_logloss: 0.416969\n",
      "[400]\tvalid_0's binary_logloss: 0.413695\tvalid_1's binary_logloss: 0.41586\n",
      "[600]\tvalid_0's binary_logloss: 0.412006\tvalid_1's binary_logloss: 0.415436\n",
      "[800]\tvalid_0's binary_logloss: 0.410507\tvalid_1's binary_logloss: 0.415241\n",
      "[1000]\tvalid_0's binary_logloss: 0.409101\tvalid_1's binary_logloss: 0.415102\n",
      "[1200]\tvalid_0's binary_logloss: 0.407751\tvalid_1's binary_logloss: 0.415027\n",
      "[1400]\tvalid_0's binary_logloss: 0.406475\tvalid_1's binary_logloss: 0.414986\n",
      "[1600]\tvalid_0's binary_logloss: 0.405242\tvalid_1's binary_logloss: 0.414928\n",
      "[1800]\tvalid_0's binary_logloss: 0.40403\tvalid_1's binary_logloss: 0.414909\n",
      "Early stopping, best iteration is:\n",
      "[1854]\tvalid_0's binary_logloss: 0.403694\tvalid_1's binary_logloss: 0.414893\n",
      "[0.41391132240832157, 0.4150276526235453, 0.4149535661118063, 0.41489251938577804]\n",
      "cv: 0.4146962651323628\n",
      "Training until validation scores don't improve for 100 rounds.\n",
      "[200]\tvalid_0's binary_logloss: 0.416029\tvalid_1's binary_logloss: 0.416546\n",
      "[400]\tvalid_0's binary_logloss: 0.413719\tvalid_1's binary_logloss: 0.415447\n",
      "[600]\tvalid_0's binary_logloss: 0.412047\tvalid_1's binary_logloss: 0.415092\n",
      "[800]\tvalid_0's binary_logloss: 0.410536\tvalid_1's binary_logloss: 0.414918\n",
      "[1000]\tvalid_0's binary_logloss: 0.409147\tvalid_1's binary_logloss: 0.414802\n",
      "[1200]\tvalid_0's binary_logloss: 0.407816\tvalid_1's binary_logloss: 0.414716\n",
      "[1400]\tvalid_0's binary_logloss: 0.406536\tvalid_1's binary_logloss: 0.414666\n",
      "[1600]\tvalid_0's binary_logloss: 0.40528\tvalid_1's binary_logloss: 0.414625\n",
      "[1800]\tvalid_0's binary_logloss: 0.404052\tvalid_1's binary_logloss: 0.414602\n",
      "Early stopping, best iteration is:\n",
      "[1708]\tvalid_0's binary_logloss: 0.404609\tvalid_1's binary_logloss: 0.414591\n",
      "[0.41391132240832157, 0.4150276526235453, 0.4149535661118063, 0.41489251938577804, 0.4145911093926906]\n",
      "cv: 0.41467523398442835\n",
      "time spend: 6111.173987627029 s\n",
      "after dropping...\n",
      "1380\n",
      "Training until validation scores don't improve for 100 rounds.\n",
      "[200]\tvalid_0's binary_logloss: 0.416172\tvalid_1's binary_logloss: 0.415908\n",
      "[400]\tvalid_0's binary_logloss: 0.413968\tvalid_1's binary_logloss: 0.414766\n",
      "[600]\tvalid_0's binary_logloss: 0.412299\tvalid_1's binary_logloss: 0.414373\n",
      "[800]\tvalid_0's binary_logloss: 0.410834\tvalid_1's binary_logloss: 0.414187\n",
      "[1000]\tvalid_0's binary_logloss: 0.409438\tvalid_1's binary_logloss: 0.41407\n",
      "[1200]\tvalid_0's binary_logloss: 0.408087\tvalid_1's binary_logloss: 0.413988\n",
      "[1400]\tvalid_0's binary_logloss: 0.4068\tvalid_1's binary_logloss: 0.413948\n",
      "[1600]\tvalid_0's binary_logloss: 0.405532\tvalid_1's binary_logloss: 0.413902\n",
      "[1800]\tvalid_0's binary_logloss: 0.404302\tvalid_1's binary_logloss: 0.413857\n",
      "Early stopping, best iteration is:\n",
      "[1788]\tvalid_0's binary_logloss: 0.404373\tvalid_1's binary_logloss: 0.413851\n",
      "[0.4138514986861429]\n",
      "cv: 0.4138514986861429\n",
      "Training until validation scores don't improve for 100 rounds.\n",
      "[200]\tvalid_0's binary_logloss: 0.415885\tvalid_1's binary_logloss: 0.417011\n",
      "[400]\tvalid_0's binary_logloss: 0.413658\tvalid_1's binary_logloss: 0.415863\n",
      "[600]\tvalid_0's binary_logloss: 0.412014\tvalid_1's binary_logloss: 0.415465\n",
      "[800]\tvalid_0's binary_logloss: 0.410522\tvalid_1's binary_logloss: 0.415295\n",
      "[1000]\tvalid_0's binary_logloss: 0.409125\tvalid_1's binary_logloss: 0.415169\n",
      "[1200]\tvalid_0's binary_logloss: 0.407769\tvalid_1's binary_logloss: 0.415113\n",
      "[1400]\tvalid_0's binary_logloss: 0.406482\tvalid_1's binary_logloss: 0.415056\n",
      "[1600]\tvalid_0's binary_logloss: 0.405209\tvalid_1's binary_logloss: 0.415036\n",
      "Early stopping, best iteration is:\n",
      "[1552]\tvalid_0's binary_logloss: 0.405516\tvalid_1's binary_logloss: 0.415029\n",
      "[0.4138514986861429, 0.4150293287481048]\n",
      "cv: 0.4144404137171238\n",
      "Training until validation scores don't improve for 100 rounds.\n",
      "[200]\tvalid_0's binary_logloss: 0.415928\tvalid_1's binary_logloss: 0.416935\n",
      "[400]\tvalid_0's binary_logloss: 0.413696\tvalid_1's binary_logloss: 0.415817\n",
      "[600]\tvalid_0's binary_logloss: 0.41203\tvalid_1's binary_logloss: 0.415443\n",
      "[800]\tvalid_0's binary_logloss: 0.410545\tvalid_1's binary_logloss: 0.415245\n",
      "[1000]\tvalid_0's binary_logloss: 0.409168\tvalid_1's binary_logloss: 0.41515\n",
      "[1200]\tvalid_0's binary_logloss: 0.407844\tvalid_1's binary_logloss: 0.415101\n",
      "[1400]\tvalid_0's binary_logloss: 0.406549\tvalid_1's binary_logloss: 0.415043\n",
      "Early stopping, best iteration is:\n",
      "[1493]\tvalid_0's binary_logloss: 0.405963\tvalid_1's binary_logloss: 0.415021\n",
      "[0.4138514986861429, 0.4150293287481048, 0.41502096663759397]\n",
      "cv: 0.4146339313572805\n",
      "Training until validation scores don't improve for 100 rounds.\n",
      "[200]\tvalid_0's binary_logloss: 0.415898\tvalid_1's binary_logloss: 0.416898\n",
      "[400]\tvalid_0's binary_logloss: 0.413657\tvalid_1's binary_logloss: 0.415776\n",
      "[600]\tvalid_0's binary_logloss: 0.41199\tvalid_1's binary_logloss: 0.415355\n",
      "[800]\tvalid_0's binary_logloss: 0.410506\tvalid_1's binary_logloss: 0.415134\n",
      "[1000]\tvalid_0's binary_logloss: 0.409109\tvalid_1's binary_logloss: 0.415002\n",
      "[1200]\tvalid_0's binary_logloss: 0.407748\tvalid_1's binary_logloss: 0.414926\n",
      "[1400]\tvalid_0's binary_logloss: 0.406463\tvalid_1's binary_logloss: 0.414871\n",
      "[1600]\tvalid_0's binary_logloss: 0.405213\tvalid_1's binary_logloss: 0.414822\n",
      "[1800]\tvalid_0's binary_logloss: 0.403977\tvalid_1's binary_logloss: 0.414796\n",
      "[2000]\tvalid_0's binary_logloss: 0.402783\tvalid_1's binary_logloss: 0.414788\n",
      "Early stopping, best iteration is:\n",
      "[1959]\tvalid_0's binary_logloss: 0.403026\tvalid_1's binary_logloss: 0.414773\n"
     ]
    },
    {
     "name": "stdout",
     "output_type": "stream",
     "text": [
      "[0.4138514986861429, 0.4150293287481048, 0.41502096663759397, 0.4147727589831188]\n",
      "cv: 0.4146686382637401\n",
      "Training until validation scores don't improve for 100 rounds.\n",
      "[200]\tvalid_0's binary_logloss: 0.416008\tvalid_1's binary_logloss: 0.416479\n",
      "[400]\tvalid_0's binary_logloss: 0.413759\tvalid_1's binary_logloss: 0.415374\n",
      "[600]\tvalid_0's binary_logloss: 0.412093\tvalid_1's binary_logloss: 0.415002\n",
      "[800]\tvalid_0's binary_logloss: 0.410603\tvalid_1's binary_logloss: 0.414837\n",
      "[1000]\tvalid_0's binary_logloss: 0.409206\tvalid_1's binary_logloss: 0.414704\n",
      "[1200]\tvalid_0's binary_logloss: 0.407865\tvalid_1's binary_logloss: 0.414604\n",
      "[1400]\tvalid_0's binary_logloss: 0.406566\tvalid_1's binary_logloss: 0.414562\n",
      "[1600]\tvalid_0's binary_logloss: 0.405276\tvalid_1's binary_logloss: 0.414522\n",
      "Early stopping, best iteration is:\n",
      "[1509]\tvalid_0's binary_logloss: 0.405856\tvalid_1's binary_logloss: 0.41452\n",
      "[0.4138514986861429, 0.4150293287481048, 0.41502096663759397, 0.4147727589831188, 0.41451976759681625]\n",
      "cv: 0.41463886413035533\n",
      "dropping successfully!\n",
      "cv drop:3.636985407301507e-05\n",
      "time spend: 4358.8170337677 s\n"
     ]
    }
   ],
   "source": [
    "df_fea, retain_index, ifdrop = test_on_sample(train_csr,train_y,lgb_model,n_fold = 5,seed=19,first=1500)"
   ]
  },
  {
   "cell_type": "code",
   "execution_count": 37,
   "metadata": {
    "ExecuteTime": {
     "end_time": "2018-10-14T15:09:22.327274Z",
     "start_time": "2018-10-14T13:36:31.868380Z"
    }
   },
   "outputs": [
    {
     "name": "stdout",
     "output_type": "stream",
     "text": [
      "2387\n",
      "Training until validation scores don't improve for 100 rounds.\n",
      "[200]\tvalid_0's binary_logloss: 0.4162\tvalid_1's binary_logloss: 0.415942\n",
      "[400]\tvalid_0's binary_logloss: 0.413925\tvalid_1's binary_logloss: 0.414764\n",
      "[600]\tvalid_0's binary_logloss: 0.412247\tvalid_1's binary_logloss: 0.414325\n",
      "[800]\tvalid_0's binary_logloss: 0.410777\tvalid_1's binary_logloss: 0.414124\n",
      "[1000]\tvalid_0's binary_logloss: 0.409362\tvalid_1's binary_logloss: 0.413955\n",
      "[1200]\tvalid_0's binary_logloss: 0.408001\tvalid_1's binary_logloss: 0.413864\n",
      "[1400]\tvalid_0's binary_logloss: 0.406724\tvalid_1's binary_logloss: 0.413796\n",
      "[1600]\tvalid_0's binary_logloss: 0.405456\tvalid_1's binary_logloss: 0.413737\n",
      "[1800]\tvalid_0's binary_logloss: 0.40423\tvalid_1's binary_logloss: 0.413708\n",
      "[2000]\tvalid_0's binary_logloss: 0.403014\tvalid_1's binary_logloss: 0.413695\n",
      "Early stopping, best iteration is:\n",
      "[1935]\tvalid_0's binary_logloss: 0.403403\tvalid_1's binary_logloss: 0.413686\n",
      "[0.41368577597892464]\n",
      "cv: 0.41368577597892464\n",
      "Training until validation scores don't improve for 100 rounds.\n",
      "[400]\tvalid_0's binary_logloss: 0.413649\tvalid_1's binary_logloss: 0.415911\n",
      "[600]\tvalid_0's binary_logloss: 0.412004\tvalid_1's binary_logloss: 0.415513\n",
      "[800]\tvalid_0's binary_logloss: 0.410505\tvalid_1's binary_logloss: 0.415284\n",
      "[1000]\tvalid_0's binary_logloss: 0.409078\tvalid_1's binary_logloss: 0.415145\n",
      "[1200]\tvalid_0's binary_logloss: 0.407746\tvalid_1's binary_logloss: 0.415057\n",
      "[1400]\tvalid_0's binary_logloss: 0.40645\tvalid_1's binary_logloss: 0.414989\n",
      "[1600]\tvalid_0's binary_logloss: 0.405181\tvalid_1's binary_logloss: 0.414944\n",
      "[1800]\tvalid_0's binary_logloss: 0.403948\tvalid_1's binary_logloss: 0.414913\n",
      "[2000]\tvalid_0's binary_logloss: 0.402733\tvalid_1's binary_logloss: 0.414907\n",
      "Early stopping, best iteration is:\n",
      "[1910]\tvalid_0's binary_logloss: 0.403281\tvalid_1's binary_logloss: 0.414901\n",
      "[0.41368577597892464, 0.4149008747220709]\n",
      "cv: 0.4142933253504978\n",
      "Training until validation scores don't improve for 100 rounds.\n",
      "[200]\tvalid_0's binary_logloss: 0.415952\tvalid_1's binary_logloss: 0.41699\n",
      "[400]\tvalid_0's binary_logloss: 0.413677\tvalid_1's binary_logloss: 0.415871\n",
      "[600]\tvalid_0's binary_logloss: 0.41201\tvalid_1's binary_logloss: 0.415464\n",
      "[800]\tvalid_0's binary_logloss: 0.410521\tvalid_1's binary_logloss: 0.415229\n",
      "[1000]\tvalid_0's binary_logloss: 0.409147\tvalid_1's binary_logloss: 0.415121\n",
      "[1200]\tvalid_0's binary_logloss: 0.407794\tvalid_1's binary_logloss: 0.415005\n",
      "[1400]\tvalid_0's binary_logloss: 0.406508\tvalid_1's binary_logloss: 0.414963\n",
      "[1600]\tvalid_0's binary_logloss: 0.405254\tvalid_1's binary_logloss: 0.41488\n",
      "[1800]\tvalid_0's binary_logloss: 0.404025\tvalid_1's binary_logloss: 0.414843\n",
      "[2000]\tvalid_0's binary_logloss: 0.402802\tvalid_1's binary_logloss: 0.414801\n",
      "[2200]\tvalid_0's binary_logloss: 0.40161\tvalid_1's binary_logloss: 0.414782\n",
      "Early stopping, best iteration is:\n",
      "[2216]\tvalid_0's binary_logloss: 0.401512\tvalid_1's binary_logloss: 0.414776\n",
      "[0.41368577597892464, 0.4149008747220709, 0.4147764244701672]\n",
      "cv: 0.41445435839038763\n",
      "Training until validation scores don't improve for 100 rounds.\n",
      "[200]\tvalid_0's binary_logloss: 0.415968\tvalid_1's binary_logloss: 0.416998\n",
      "[400]\tvalid_0's binary_logloss: 0.413698\tvalid_1's binary_logloss: 0.415867\n",
      "[600]\tvalid_0's binary_logloss: 0.412005\tvalid_1's binary_logloss: 0.415422\n",
      "[800]\tvalid_0's binary_logloss: 0.410512\tvalid_1's binary_logloss: 0.415196\n",
      "[1000]\tvalid_0's binary_logloss: 0.409127\tvalid_1's binary_logloss: 0.41503\n",
      "[1200]\tvalid_0's binary_logloss: 0.407776\tvalid_1's binary_logloss: 0.414948\n",
      "[1400]\tvalid_0's binary_logloss: 0.406493\tvalid_1's binary_logloss: 0.414898\n",
      "[1600]\tvalid_0's binary_logloss: 0.405252\tvalid_1's binary_logloss: 0.414854\n",
      "[1800]\tvalid_0's binary_logloss: 0.404008\tvalid_1's binary_logloss: 0.414807\n",
      "Early stopping, best iteration is:\n",
      "[1837]\tvalid_0's binary_logloss: 0.403775\tvalid_1's binary_logloss: 0.414787\n",
      "[0.41368577597892464, 0.4149008747220709, 0.4147764244701672, 0.4147871406302015]\n",
      "cv: 0.4145375539503411\n",
      "Training until validation scores don't improve for 100 rounds.\n",
      "[200]\tvalid_0's binary_logloss: 0.416035\tvalid_1's binary_logloss: 0.416527\n",
      "[400]\tvalid_0's binary_logloss: 0.413751\tvalid_1's binary_logloss: 0.415401\n",
      "[600]\tvalid_0's binary_logloss: 0.412067\tvalid_1's binary_logloss: 0.415\n",
      "[800]\tvalid_0's binary_logloss: 0.410562\tvalid_1's binary_logloss: 0.414797\n",
      "[1000]\tvalid_0's binary_logloss: 0.40915\tvalid_1's binary_logloss: 0.4147\n",
      "[1200]\tvalid_0's binary_logloss: 0.407806\tvalid_1's binary_logloss: 0.414588\n",
      "[1400]\tvalid_0's binary_logloss: 0.40652\tvalid_1's binary_logloss: 0.414532\n",
      "[1600]\tvalid_0's binary_logloss: 0.405224\tvalid_1's binary_logloss: 0.414456\n",
      "[1800]\tvalid_0's binary_logloss: 0.403992\tvalid_1's binary_logloss: 0.414425\n",
      "Early stopping, best iteration is:\n",
      "[1767]\tvalid_0's binary_logloss: 0.40419\tvalid_1's binary_logloss: 0.41442\n",
      "[0.41368577597892464, 0.4149008747220709, 0.4147764244701672, 0.4147871406302015, 0.4144198795998986]\n",
      "cv: 0.41451401908025265\n",
      "time spend: 5570.450614690781 s\n",
      "dropping successfully!\n",
      "cv drop:0.0001612149041756994\n"
     ]
    }
   ],
   "source": [
    "first=2500\n",
    "split_index = df_fea.sort_values('split',ascending=False)['split'].index.values[:first]\n",
    "gain_index = df_fea.sort_values('gain',ascending=False)['gain'].index.values[:first]\n",
    "retain_index = list(set(split_index).intersection(set(gain_index)))\n",
    "print(len(retain_index))\n",
    "verify_drop = verify_on_sample(train_csr,train_y,lgb_model,retain_index,n_fold = 5,seed=19,cv_list=[0.41467523398442835])"
   ]
  },
  {
   "cell_type": "code",
   "execution_count": 42,
   "metadata": {
    "ExecuteTime": {
     "end_time": "2018-10-14T15:20:59.653576Z",
     "start_time": "2018-10-14T15:11:27.085206Z"
    }
   },
   "outputs": [
    {
     "name": "stdout",
     "output_type": "stream",
     "text": [
      "3370\n",
      "Training until validation scores don't improve for 100 rounds.\n",
      "[200]\tvalid_0's binary_logloss: 0.416198\tvalid_1's binary_logloss: 0.415972\n",
      "[400]\tvalid_0's binary_logloss: 0.413916\tvalid_1's binary_logloss: 0.414822\n"
     ]
    },
    {
     "ename": "KeyboardInterrupt",
     "evalue": "",
     "output_type": "error",
     "traceback": [
      "\u001b[0;31m---------------------------------------------------------------------------\u001b[0m",
      "\u001b[0;31mKeyboardInterrupt\u001b[0m                         Traceback (most recent call last)",
      "\u001b[0;32m?\u001b[0m in \u001b[0;36m<module>\u001b[0;34m()\u001b[0m\n\u001b[1;32m      4\u001b[0m \u001b[0mretain_index\u001b[0m \u001b[0;34m=\u001b[0m \u001b[0mlist\u001b[0m\u001b[0;34m(\u001b[0m\u001b[0mset\u001b[0m\u001b[0;34m(\u001b[0m\u001b[0msplit_index\u001b[0m\u001b[0;34m)\u001b[0m\u001b[0;34m.\u001b[0m\u001b[0mintersection\u001b[0m\u001b[0;34m(\u001b[0m\u001b[0mset\u001b[0m\u001b[0;34m(\u001b[0m\u001b[0mgain_index\u001b[0m\u001b[0;34m)\u001b[0m\u001b[0;34m)\u001b[0m\u001b[0;34m)\u001b[0m\u001b[0;34m\u001b[0m\u001b[0m\n\u001b[1;32m      5\u001b[0m \u001b[0mprint\u001b[0m\u001b[0;34m(\u001b[0m\u001b[0mlen\u001b[0m\u001b[0;34m(\u001b[0m\u001b[0mretain_index\u001b[0m\u001b[0;34m)\u001b[0m\u001b[0;34m)\u001b[0m\u001b[0;34m\u001b[0m\u001b[0m\n\u001b[0;32m----> 6\u001b[0;31m \u001b[0mverify_drop\u001b[0m \u001b[0;34m=\u001b[0m \u001b[0mverify_on_sample\u001b[0m\u001b[0;34m(\u001b[0m\u001b[0mtrain_csr\u001b[0m\u001b[0;34m,\u001b[0m\u001b[0mtrain_y\u001b[0m\u001b[0;34m,\u001b[0m\u001b[0mlgb_model\u001b[0m\u001b[0;34m,\u001b[0m\u001b[0mretain_index\u001b[0m\u001b[0;34m,\u001b[0m\u001b[0mn_fold\u001b[0m \u001b[0;34m=\u001b[0m \u001b[0;36m5\u001b[0m\u001b[0;34m,\u001b[0m\u001b[0mseed\u001b[0m\u001b[0;34m=\u001b[0m\u001b[0;36m19\u001b[0m\u001b[0;34m,\u001b[0m\u001b[0mcv_list\u001b[0m\u001b[0;34m=\u001b[0m\u001b[0;34m[\u001b[0m\u001b[0;36m0.41467523398442835\u001b[0m\u001b[0;34m]\u001b[0m\u001b[0;34m)\u001b[0m\u001b[0;34m\u001b[0m\u001b[0m\n\u001b[0m",
      "\u001b[0;32m?\u001b[0m in \u001b[0;36mverify_on_sample\u001b[0;34m(train_csr_f, train_y_f, lgb_model, retain_index, n_fold, seed, cv_list)\u001b[0m\n\u001b[1;32m     32\u001b[0m         lgb_model.fit(train_csr_f[train_index][:,retain_index], train_y_f[train_index],\n\u001b[1;32m     33\u001b[0m                       eval_set=[(train_csr_f[train_index][:,retain_index], train_y_f[train_index]),\n\u001b[0;32m---> 34\u001b[0;31m                                 (train_csr_f[test_index][:,retain_index], train_y_f[test_index])], early_stopping_rounds=100,verbose=200)\n\u001b[0m\u001b[1;32m     35\u001b[0m         \u001b[0mbest_scor2\u001b[0m\u001b[0;34m.\u001b[0m\u001b[0mappend\u001b[0m\u001b[0;34m(\u001b[0m\u001b[0mlgb_model\u001b[0m\u001b[0;34m.\u001b[0m\u001b[0mbest_score_\u001b[0m\u001b[0;34m[\u001b[0m\u001b[0;34m'valid_1'\u001b[0m\u001b[0;34m]\u001b[0m\u001b[0;34m[\u001b[0m\u001b[0;34m'binary_logloss'\u001b[0m\u001b[0;34m]\u001b[0m\u001b[0;34m)\u001b[0m\u001b[0;34m\u001b[0m\u001b[0m\n\u001b[1;32m     36\u001b[0m         \u001b[0mprint\u001b[0m\u001b[0;34m(\u001b[0m\u001b[0mbest_scor2\u001b[0m\u001b[0;34m)\u001b[0m\u001b[0;34m\u001b[0m\u001b[0m\n",
      "\u001b[0;32m~/anaconda3/lib/python3.6/site-packages/lightgbm/sklearn.py\u001b[0m in \u001b[0;36mfit\u001b[0;34m(self, X, y, sample_weight, init_score, eval_set, eval_names, eval_sample_weight, eval_class_weight, eval_init_score, eval_metric, early_stopping_rounds, verbose, feature_name, categorical_feature, callbacks)\u001b[0m\n\u001b[1;32m    693\u001b[0m                                         \u001b[0mverbose\u001b[0m\u001b[0;34m=\u001b[0m\u001b[0mverbose\u001b[0m\u001b[0;34m,\u001b[0m \u001b[0mfeature_name\u001b[0m\u001b[0;34m=\u001b[0m\u001b[0mfeature_name\u001b[0m\u001b[0;34m,\u001b[0m\u001b[0;34m\u001b[0m\u001b[0m\n\u001b[1;32m    694\u001b[0m                                         \u001b[0mcategorical_feature\u001b[0m\u001b[0;34m=\u001b[0m\u001b[0mcategorical_feature\u001b[0m\u001b[0;34m,\u001b[0m\u001b[0;34m\u001b[0m\u001b[0m\n\u001b[0;32m--> 695\u001b[0;31m                                         callbacks=callbacks)\n\u001b[0m\u001b[1;32m    696\u001b[0m         \u001b[0;32mreturn\u001b[0m \u001b[0mself\u001b[0m\u001b[0;34m\u001b[0m\u001b[0m\n\u001b[1;32m    697\u001b[0m \u001b[0;34m\u001b[0m\u001b[0m\n",
      "\u001b[0;32m~/anaconda3/lib/python3.6/site-packages/lightgbm/sklearn.py\u001b[0m in \u001b[0;36mfit\u001b[0;34m(self, X, y, sample_weight, init_score, group, eval_set, eval_names, eval_sample_weight, eval_class_weight, eval_init_score, eval_group, eval_metric, early_stopping_rounds, verbose, feature_name, categorical_feature, callbacks)\u001b[0m\n\u001b[1;32m    472\u001b[0m                               \u001b[0mverbose_eval\u001b[0m\u001b[0;34m=\u001b[0m\u001b[0mverbose\u001b[0m\u001b[0;34m,\u001b[0m \u001b[0mfeature_name\u001b[0m\u001b[0;34m=\u001b[0m\u001b[0mfeature_name\u001b[0m\u001b[0;34m,\u001b[0m\u001b[0;34m\u001b[0m\u001b[0m\n\u001b[1;32m    473\u001b[0m                               \u001b[0mcategorical_feature\u001b[0m\u001b[0;34m=\u001b[0m\u001b[0mcategorical_feature\u001b[0m\u001b[0;34m,\u001b[0m\u001b[0;34m\u001b[0m\u001b[0m\n\u001b[0;32m--> 474\u001b[0;31m                               callbacks=callbacks)\n\u001b[0m\u001b[1;32m    475\u001b[0m \u001b[0;34m\u001b[0m\u001b[0m\n\u001b[1;32m    476\u001b[0m         \u001b[0;32mif\u001b[0m \u001b[0mevals_result\u001b[0m\u001b[0;34m:\u001b[0m\u001b[0;34m\u001b[0m\u001b[0m\n",
      "\u001b[0;32m~/anaconda3/lib/python3.6/site-packages/lightgbm/engine.py\u001b[0m in \u001b[0;36mtrain\u001b[0;34m(params, train_set, num_boost_round, valid_sets, valid_names, fobj, feval, init_model, feature_name, categorical_feature, early_stopping_rounds, evals_result, verbose_eval, learning_rates, keep_training_booster, callbacks)\u001b[0m\n\u001b[1;32m    202\u001b[0m                                     evaluation_result_list=None))\n\u001b[1;32m    203\u001b[0m \u001b[0;34m\u001b[0m\u001b[0m\n\u001b[0;32m--> 204\u001b[0;31m         \u001b[0mbooster\u001b[0m\u001b[0;34m.\u001b[0m\u001b[0mupdate\u001b[0m\u001b[0;34m(\u001b[0m\u001b[0mfobj\u001b[0m\u001b[0;34m=\u001b[0m\u001b[0mfobj\u001b[0m\u001b[0;34m)\u001b[0m\u001b[0;34m\u001b[0m\u001b[0m\n\u001b[0m\u001b[1;32m    205\u001b[0m \u001b[0;34m\u001b[0m\u001b[0m\n\u001b[1;32m    206\u001b[0m         \u001b[0mevaluation_result_list\u001b[0m \u001b[0;34m=\u001b[0m \u001b[0;34m[\u001b[0m\u001b[0;34m]\u001b[0m\u001b[0;34m\u001b[0m\u001b[0m\n",
      "\u001b[0;32m~/anaconda3/lib/python3.6/site-packages/lightgbm/basic.py\u001b[0m in \u001b[0;36mupdate\u001b[0;34m(self, train_set, fobj)\u001b[0m\n\u001b[1;32m   1526\u001b[0m             _safe_call(_LIB.LGBM_BoosterUpdateOneIter(\n\u001b[1;32m   1527\u001b[0m                 \u001b[0mself\u001b[0m\u001b[0;34m.\u001b[0m\u001b[0mhandle\u001b[0m\u001b[0;34m,\u001b[0m\u001b[0;34m\u001b[0m\u001b[0m\n\u001b[0;32m-> 1528\u001b[0;31m                 ctypes.byref(is_finished)))\n\u001b[0m\u001b[1;32m   1529\u001b[0m             \u001b[0mself\u001b[0m\u001b[0;34m.\u001b[0m\u001b[0m__is_predicted_cur_iter\u001b[0m \u001b[0;34m=\u001b[0m \u001b[0;34m[\u001b[0m\u001b[0;32mFalse\u001b[0m \u001b[0;32mfor\u001b[0m \u001b[0m_\u001b[0m \u001b[0;32min\u001b[0m \u001b[0mrange_\u001b[0m\u001b[0;34m(\u001b[0m\u001b[0mself\u001b[0m\u001b[0;34m.\u001b[0m\u001b[0m__num_dataset\u001b[0m\u001b[0;34m)\u001b[0m\u001b[0;34m]\u001b[0m\u001b[0;34m\u001b[0m\u001b[0m\n\u001b[1;32m   1530\u001b[0m             \u001b[0;32mreturn\u001b[0m \u001b[0mis_finished\u001b[0m\u001b[0;34m.\u001b[0m\u001b[0mvalue\u001b[0m \u001b[0;34m==\u001b[0m \u001b[0;36m1\u001b[0m\u001b[0;34m\u001b[0m\u001b[0m\n",
      "\u001b[0;31mKeyboardInterrupt\u001b[0m: "
     ]
    }
   ],
   "source": [
    "first=3500\n",
    "split_index = df_fea.sort_values('split',ascending=False)['split'].index.values[:first]\n",
    "gain_index = df_fea.sort_values('gain',ascending=False)['gain'].index.values[:first]\n",
    "retain_index = list(set(split_index).intersection(set(gain_index)))\n",
    "print(len(retain_index))\n",
    "verify_drop = verify_on_sample(train_csr,train_y,lgb_model,retain_index,n_fold = 5,seed=19,cv_list=[0.41467523398442835])"
   ]
  },
  {
   "cell_type": "code",
   "execution_count": null,
   "metadata": {
    "ExecuteTime": {
     "end_time": "2018-10-14T15:10:07.577072Z",
     "start_time": "2018-10-14T13:36:11.321Z"
    }
   },
   "outputs": [],
   "source": [
    "first=4500\n",
    "split_index = df_fea.sort_values('split',ascending=False)['split'].index.values[:first]\n",
    "gain_index = df_fea.sort_values('gain',ascending=False)['gain'].index.values[:first]\n",
    "retain_index = list(set(split_index).intersection(set(gain_index)))\n",
    "print(len(retain_index))\n",
    "verify_drop = verify_on_sample(train_csr,train_y,lgb_model,retain_index,n_fold = 5,seed=19,cv_list=[0.41467523398442835])"
   ]
  },
  {
   "cell_type": "code",
   "execution_count": null,
   "metadata": {
    "ExecuteTime": {
     "end_time": "2018-10-14T15:10:07.580284Z",
     "start_time": "2018-10-14T13:36:13.041Z"
    }
   },
   "outputs": [],
   "source": [
    "first=1000\n",
    "split_index = df_fea.sort_values('split',ascending=False)['split'].index.values[:first]\n",
    "gain_index = df_fea.sort_values('gain',ascending=False)['gain'].index.values[:first]\n",
    "retain_index = list(set(split_index).intersection(set(gain_index)))\n",
    "print(len(retain_index))\n",
    "verify_drop = verify_on_sample(train_csr,train_y,lgb_model,retain_index,n_fold = 5,seed=19,cv_list=[0.41467523398442835])"
   ]
  },
  {
   "cell_type": "code",
   "execution_count": null,
   "metadata": {
    "ExecuteTime": {
     "end_time": "2018-10-14T15:10:07.583515Z",
     "start_time": "2018-10-14T13:36:13.535Z"
    }
   },
   "outputs": [],
   "source": [
    "first=5000\n",
    "split_index = df_fea.sort_values('split',ascending=False)['split'].index.values[:first]\n",
    "gain_index = df_fea.sort_values('gain',ascending=False)['gain'].index.values[:first]\n",
    "retain_index = list(set(split_index).intersection(set(gain_index)))\n",
    "print(len(retain_index))\n",
    "verify_drop = verify_on_sample(train_csr,train_y,lgb_model,retain_index,n_fold = 5,seed=19,cv_list=[0.41467523398442835])"
   ]
  },
  {
   "cell_type": "code",
   "execution_count": null,
   "metadata": {},
   "outputs": [],
   "source": []
  },
  {
   "cell_type": "code",
   "execution_count": null,
   "metadata": {},
   "outputs": [],
   "source": []
  },
  {
   "cell_type": "code",
   "execution_count": null,
   "metadata": {},
   "outputs": [],
   "source": []
  },
  {
   "cell_type": "code",
   "execution_count": null,
   "metadata": {},
   "outputs": [],
   "source": []
  },
  {
   "cell_type": "code",
   "execution_count": 44,
   "metadata": {
    "ExecuteTime": {
     "end_time": "2018-10-14T15:21:11.932793Z",
     "start_time": "2018-10-14T15:21:11.918837Z"
    }
   },
   "outputs": [],
   "source": [
    "first=2000\n",
    "split_index = df_fea.sort_values('split',ascending=False)['split'].index.values[:first]\n",
    "gain_index = df_fea.sort_values('gain',ascending=False)['gain'].index.values[:first]\n",
    "retain_index = list(set(split_index).intersection(set(gain_index)))"
   ]
  },
  {
   "cell_type": "code",
   "execution_count": 45,
   "metadata": {
    "ExecuteTime": {
     "end_time": "2018-10-14T15:21:37.030562Z",
     "start_time": "2018-10-14T15:21:19.611349Z"
    }
   },
   "outputs": [],
   "source": [
    "train_csr_save=train_csr[:,retain_index]\n",
    "predict_csr_save=predict_csr[:,retain_index]"
   ]
  },
  {
   "cell_type": "code",
   "execution_count": 46,
   "metadata": {
    "ExecuteTime": {
     "end_time": "2018-10-14T15:21:53.255986Z",
     "start_time": "2018-10-14T15:21:49.207956Z"
    }
   },
   "outputs": [
    {
     "name": "stdout",
     "output_type": "stream",
     "text": [
      "data save\n",
      "indices save\n",
      "indptr save\n",
      "save done!\n",
      "data save\n",
      "indices save\n",
      "indptr save\n",
      "save done!\n"
     ]
    }
   ],
   "source": [
    "save_csr(train_csr_save,'../../data/features/xgb/train_csr_2000')\n",
    "save_csr(predict_csr_save,'../../data/features/xgb/predict_csr_2000')"
   ]
  },
  {
   "cell_type": "code",
   "execution_count": null,
   "metadata": {},
   "outputs": [],
   "source": []
  }
 ],
 "metadata": {
  "kernelspec": {
   "display_name": "Python 3",
   "language": "python",
   "name": "python3"
  },
  "language_info": {
   "codemirror_mode": {
    "name": "ipython",
    "version": 3
   },
   "file_extension": ".py",
   "mimetype": "text/x-python",
   "name": "python",
   "nbconvert_exporter": "python",
   "pygments_lexer": "ipython3",
   "version": "3.6.5"
  },
  "varInspector": {
   "cols": {
    "lenName": 16,
    "lenType": 16,
    "lenVar": 40
   },
   "kernels_config": {
    "python": {
     "delete_cmd_postfix": "",
     "delete_cmd_prefix": "del ",
     "library": "var_list.py",
     "varRefreshCmd": "print(var_dic_list())"
    },
    "r": {
     "delete_cmd_postfix": ") ",
     "delete_cmd_prefix": "rm(",
     "library": "var_list.r",
     "varRefreshCmd": "cat(var_dic_list()) "
    }
   },
   "types_to_exclude": [
    "module",
    "function",
    "builtin_function_or_method",
    "instance",
    "_Feature"
   ],
   "window_display": false
  }
 },
 "nbformat": 4,
 "nbformat_minor": 2
}
