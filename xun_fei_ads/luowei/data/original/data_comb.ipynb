{
 "cells": [
  {
   "cell_type": "code",
   "execution_count": 1,
   "metadata": {
    "ExecuteTime": {
     "end_time": "2018-10-09T06:57:16.726702Z",
     "start_time": "2018-10-09T06:57:16.555315Z"
    }
   },
   "outputs": [],
   "source": [
    "import pandas as pd"
   ]
  },
  {
   "cell_type": "code",
   "execution_count": 2,
   "metadata": {
    "ExecuteTime": {
     "end_time": "2018-10-09T06:58:39.311919Z",
     "start_time": "2018-10-09T06:58:29.135433Z"
    }
   },
   "outputs": [
    {
     "name": "stdout",
     "output_type": "stream",
     "text": [
      "(1998350, 35)\n",
      "(80276, 34)\n"
     ]
    }
   ],
   "source": [
    "train_2 = pd.read_csv('round2_iflyad_train.txt',sep='\\t')\n",
    "print(train_2.shape)\n",
    "\n",
    "test_2 = pd.read_csv('round2_iflyad_test_feature.txt',sep='\\t')\n",
    "print(test_2.shape)"
   ]
  },
  {
   "cell_type": "code",
   "execution_count": 28,
   "metadata": {
    "ExecuteTime": {
     "end_time": "2018-10-09T07:40:51.487208Z",
     "start_time": "2018-10-09T07:40:50.885139Z"
    }
   },
   "outputs": [
    {
     "name": "stdout",
     "output_type": "stream",
     "text": [
      "(1001650, 35)\n"
     ]
    }
   ],
   "source": [
    "train_1 = pd.read_pickle('train.pkl')\n",
    "print(train_1.shape)\n",
    "test_1 = pd.read_pickle('test.pkl')"
   ]
  },
  {
   "cell_type": "code",
   "execution_count": 4,
   "metadata": {
    "ExecuteTime": {
     "end_time": "2018-10-09T07:00:19.962925Z",
     "start_time": "2018-10-09T07:00:19.450486Z"
    }
   },
   "outputs": [],
   "source": [
    "c = train_1[['instance_id']].merge(train_2[['instance_id']],on='instance_id',how='inner')"
   ]
  },
  {
   "cell_type": "code",
   "execution_count": 9,
   "metadata": {
    "ExecuteTime": {
     "end_time": "2018-10-09T07:03:43.293145Z",
     "start_time": "2018-10-09T07:03:43.287128Z"
    }
   },
   "outputs": [
    {
     "data": {
      "text/plain": [
       "(7361, 1)"
      ]
     },
     "execution_count": 9,
     "metadata": {},
     "output_type": "execute_result"
    }
   ],
   "source": [
    "c.shape"
   ]
  },
  {
   "cell_type": "code",
   "execution_count": 12,
   "metadata": {
    "ExecuteTime": {
     "end_time": "2018-10-09T07:06:52.230214Z",
     "start_time": "2018-10-09T07:06:50.871260Z"
    }
   },
   "outputs": [],
   "source": [
    "cc = pd.concat([train_1,train_2],sort=False)\n"
   ]
  },
  {
   "cell_type": "code",
   "execution_count": 13,
   "metadata": {
    "ExecuteTime": {
     "end_time": "2018-10-09T07:07:01.601690Z",
     "start_time": "2018-10-09T07:06:54.741527Z"
    }
   },
   "outputs": [
    {
     "name": "stdout",
     "output_type": "stream",
     "text": [
      "(2992639, 35)\n"
     ]
    }
   ],
   "source": [
    "cc = cc.drop_duplicates()\n",
    "cc = cc.reset_index(drop=True)\n",
    "print(cc.shape)"
   ]
  },
  {
   "cell_type": "code",
   "execution_count": 14,
   "metadata": {
    "ExecuteTime": {
     "end_time": "2018-10-09T07:07:10.823932Z",
     "start_time": "2018-10-09T07:07:07.676914Z"
    }
   },
   "outputs": [],
   "source": [
    "cc.to_pickle('train_ori_comb.pkl')\n",
    "test_2.to_pickle('test_ori_r2.pkl')"
   ]
  },
  {
   "cell_type": "markdown",
   "metadata": {},
   "source": [
    "# Add Time"
   ]
  },
  {
   "cell_type": "code",
   "execution_count": 15,
   "metadata": {
    "ExecuteTime": {
     "end_time": "2018-10-09T07:07:17.083813Z",
     "start_time": "2018-10-09T07:07:15.492208Z"
    }
   },
   "outputs": [],
   "source": [
    "X = pd.concat([cc,test_2],sort=False)"
   ]
  },
  {
   "cell_type": "code",
   "execution_count": 23,
   "metadata": {
    "ExecuteTime": {
     "end_time": "2018-10-09T07:13:52.019099Z",
     "start_time": "2018-10-09T07:13:40.601378Z"
    }
   },
   "outputs": [],
   "source": [
    "import time\n",
    "from datetime import datetime\n",
    "from time import mktime \n",
    "\n",
    "X['datetime'] = X['time'].apply(lambda x: datetime.fromtimestamp(mktime(time.gmtime(x-653348437 - 65964))))\n",
    "X['time_hour'] = X['datetime'].dt.hour #round('H')\n",
    "X['time_day'] = X['datetime'].dt.day "
   ]
  },
  {
   "cell_type": "code",
   "execution_count": 25,
   "metadata": {
    "ExecuteTime": {
     "end_time": "2018-10-09T07:15:50.072401Z",
     "start_time": "2018-10-09T07:15:50.063643Z"
    }
   },
   "outputs": [],
   "source": [
    "cc['time_hour'] = X['time_hour'].iloc[:2992639].values\n",
    "test_2['time_hour'] = X['time_hour'].iloc[2992639:].values"
   ]
  },
  {
   "cell_type": "code",
   "execution_count": 26,
   "metadata": {
    "ExecuteTime": {
     "end_time": "2018-10-09T07:16:22.897341Z",
     "start_time": "2018-10-09T07:16:20.213342Z"
    }
   },
   "outputs": [],
   "source": [
    "cc.to_pickle('train_ori_comb_hour.pkl')\n",
    "test_2.to_pickle('test_ori_r2_hour.pkl')"
   ]
  },
  {
   "cell_type": "markdown",
   "metadata": {},
   "source": [
    "# Check NAN"
   ]
  },
  {
   "cell_type": "code",
   "execution_count": 27,
   "metadata": {
    "ExecuteTime": {
     "end_time": "2018-10-09T07:21:07.320272Z",
     "start_time": "2018-10-09T07:21:07.157045Z"
    }
   },
   "outputs": [
    {
     "name": "stdout",
     "output_type": "stream",
     "text": [
      "1\n",
      "0\n",
      "1\n",
      "0\n",
      "1\n",
      "0\n"
     ]
    }
   ],
   "source": [
    "for col in ['creative_is_js', 'creative_is_voicead', 'app_paid']:\n",
    "    print(X[col].nunique())\n",
    "    print(X[col].isnull().sum())"
   ]
  },
  {
   "cell_type": "markdown",
   "metadata": {},
   "source": [
    "# Check intersection with test"
   ]
  },
  {
   "cell_type": "code",
   "execution_count": 30,
   "metadata": {
    "ExecuteTime": {
     "end_time": "2018-10-09T07:41:13.873589Z",
     "start_time": "2018-10-09T07:41:13.551990Z"
    }
   },
   "outputs": [],
   "source": [
    "dd = test_1[['instance_id']].merge(train_2[['instance_id']],on='instance_id',how='inner')"
   ]
  },
  {
   "cell_type": "code",
   "execution_count": 31,
   "metadata": {
    "ExecuteTime": {
     "end_time": "2018-10-09T07:41:16.322633Z",
     "start_time": "2018-10-09T07:41:16.319019Z"
    }
   },
   "outputs": [
    {
     "data": {
      "text/html": [
       "<div>\n",
       "<style scoped>\n",
       "    .dataframe tbody tr th:only-of-type {\n",
       "        vertical-align: middle;\n",
       "    }\n",
       "\n",
       "    .dataframe tbody tr th {\n",
       "        vertical-align: top;\n",
       "    }\n",
       "\n",
       "    .dataframe thead th {\n",
       "        text-align: right;\n",
       "    }\n",
       "</style>\n",
       "<table border=\"1\" class=\"dataframe\">\n",
       "  <thead>\n",
       "    <tr style=\"text-align: right;\">\n",
       "      <th></th>\n",
       "      <th>instance_id</th>\n",
       "    </tr>\n",
       "  </thead>\n",
       "  <tbody>\n",
       "  </tbody>\n",
       "</table>\n",
       "</div>"
      ],
      "text/plain": [
       "Empty DataFrame\n",
       "Columns: [instance_id]\n",
       "Index: []"
      ]
     },
     "execution_count": 31,
     "metadata": {},
     "output_type": "execute_result"
    }
   ],
   "source": [
    "dd"
   ]
  },
  {
   "cell_type": "code",
   "execution_count": 32,
   "metadata": {
    "ExecuteTime": {
     "end_time": "2018-10-09T08:08:20.698202Z",
     "start_time": "2018-10-09T08:08:20.668572Z"
    }
   },
   "outputs": [],
   "source": [
    "ddd = test_1[['instance_id']].merge(test_2[['instance_id']],on='instance_id',how='inner')"
   ]
  },
  {
   "cell_type": "code",
   "execution_count": 33,
   "metadata": {
    "ExecuteTime": {
     "end_time": "2018-10-09T08:08:23.251411Z",
     "start_time": "2018-10-09T08:08:23.243705Z"
    }
   },
   "outputs": [
    {
     "data": {
      "text/html": [
       "<div>\n",
       "<style scoped>\n",
       "    .dataframe tbody tr th:only-of-type {\n",
       "        vertical-align: middle;\n",
       "    }\n",
       "\n",
       "    .dataframe tbody tr th {\n",
       "        vertical-align: top;\n",
       "    }\n",
       "\n",
       "    .dataframe thead th {\n",
       "        text-align: right;\n",
       "    }\n",
       "</style>\n",
       "<table border=\"1\" class=\"dataframe\">\n",
       "  <thead>\n",
       "    <tr style=\"text-align: right;\">\n",
       "      <th></th>\n",
       "      <th>instance_id</th>\n",
       "    </tr>\n",
       "  </thead>\n",
       "  <tbody>\n",
       "    <tr>\n",
       "      <th>0</th>\n",
       "      <td>7157388613526096051</td>\n",
       "    </tr>\n",
       "    <tr>\n",
       "      <th>1</th>\n",
       "      <td>6541575994667851173</td>\n",
       "    </tr>\n",
       "    <tr>\n",
       "      <th>2</th>\n",
       "      <td>1033530293270291493</td>\n",
       "    </tr>\n",
       "    <tr>\n",
       "      <th>3</th>\n",
       "      <td>7732269813615123687</td>\n",
       "    </tr>\n",
       "    <tr>\n",
       "      <th>4</th>\n",
       "      <td>6253385012875079449</td>\n",
       "    </tr>\n",
       "    <tr>\n",
       "      <th>5</th>\n",
       "      <td>5289057272786372513</td>\n",
       "    </tr>\n",
       "    <tr>\n",
       "      <th>6</th>\n",
       "      <td>8213715365162747014</td>\n",
       "    </tr>\n",
       "    <tr>\n",
       "      <th>7</th>\n",
       "      <td>948207182440090984</td>\n",
       "    </tr>\n",
       "    <tr>\n",
       "      <th>8</th>\n",
       "      <td>6782280405873386217</td>\n",
       "    </tr>\n",
       "    <tr>\n",
       "      <th>9</th>\n",
       "      <td>7300149594713158252</td>\n",
       "    </tr>\n",
       "    <tr>\n",
       "      <th>10</th>\n",
       "      <td>4452426256250224685</td>\n",
       "    </tr>\n",
       "    <tr>\n",
       "      <th>11</th>\n",
       "      <td>6269331385075152731</td>\n",
       "    </tr>\n",
       "    <tr>\n",
       "      <th>12</th>\n",
       "      <td>275778031506093401</td>\n",
       "    </tr>\n",
       "    <tr>\n",
       "      <th>13</th>\n",
       "      <td>1047531876778326368</td>\n",
       "    </tr>\n",
       "    <tr>\n",
       "      <th>14</th>\n",
       "      <td>8291061781021639734</td>\n",
       "    </tr>\n",
       "    <tr>\n",
       "      <th>15</th>\n",
       "      <td>8073061035345255278</td>\n",
       "    </tr>\n",
       "    <tr>\n",
       "      <th>16</th>\n",
       "      <td>6370849293892218264</td>\n",
       "    </tr>\n",
       "    <tr>\n",
       "      <th>17</th>\n",
       "      <td>3327154725610493327</td>\n",
       "    </tr>\n",
       "    <tr>\n",
       "      <th>18</th>\n",
       "      <td>842777611313657178</td>\n",
       "    </tr>\n",
       "    <tr>\n",
       "      <th>19</th>\n",
       "      <td>5932458729817509181</td>\n",
       "    </tr>\n",
       "    <tr>\n",
       "      <th>20</th>\n",
       "      <td>7014471900574445696</td>\n",
       "    </tr>\n",
       "    <tr>\n",
       "      <th>21</th>\n",
       "      <td>4472682938595870685</td>\n",
       "    </tr>\n",
       "    <tr>\n",
       "      <th>22</th>\n",
       "      <td>1342162949458900723</td>\n",
       "    </tr>\n",
       "    <tr>\n",
       "      <th>23</th>\n",
       "      <td>6408170839373706780</td>\n",
       "    </tr>\n",
       "    <tr>\n",
       "      <th>24</th>\n",
       "      <td>1731702234342206379</td>\n",
       "    </tr>\n",
       "    <tr>\n",
       "      <th>25</th>\n",
       "      <td>8483398068095496676</td>\n",
       "    </tr>\n",
       "    <tr>\n",
       "      <th>26</th>\n",
       "      <td>7663432894825332457</td>\n",
       "    </tr>\n",
       "    <tr>\n",
       "      <th>27</th>\n",
       "      <td>7857610638159844267</td>\n",
       "    </tr>\n",
       "    <tr>\n",
       "      <th>28</th>\n",
       "      <td>8735623045154726931</td>\n",
       "    </tr>\n",
       "    <tr>\n",
       "      <th>29</th>\n",
       "      <td>6146211874752186751</td>\n",
       "    </tr>\n",
       "    <tr>\n",
       "      <th>...</th>\n",
       "      <td>...</td>\n",
       "    </tr>\n",
       "    <tr>\n",
       "      <th>65</th>\n",
       "      <td>1402089275150924665</td>\n",
       "    </tr>\n",
       "    <tr>\n",
       "      <th>66</th>\n",
       "      <td>666218993741194097</td>\n",
       "    </tr>\n",
       "    <tr>\n",
       "      <th>67</th>\n",
       "      <td>3932665922947085556</td>\n",
       "    </tr>\n",
       "    <tr>\n",
       "      <th>68</th>\n",
       "      <td>8341714956114306120</td>\n",
       "    </tr>\n",
       "    <tr>\n",
       "      <th>69</th>\n",
       "      <td>7474775330448600843</td>\n",
       "    </tr>\n",
       "    <tr>\n",
       "      <th>70</th>\n",
       "      <td>5264949865899760531</td>\n",
       "    </tr>\n",
       "    <tr>\n",
       "      <th>71</th>\n",
       "      <td>5255416807458484088</td>\n",
       "    </tr>\n",
       "    <tr>\n",
       "      <th>72</th>\n",
       "      <td>2753944238338587885</td>\n",
       "    </tr>\n",
       "    <tr>\n",
       "      <th>73</th>\n",
       "      <td>6781927042664390062</td>\n",
       "    </tr>\n",
       "    <tr>\n",
       "      <th>74</th>\n",
       "      <td>4523608571583077176</td>\n",
       "    </tr>\n",
       "    <tr>\n",
       "      <th>75</th>\n",
       "      <td>5852051771466683513</td>\n",
       "    </tr>\n",
       "    <tr>\n",
       "      <th>76</th>\n",
       "      <td>452716307463121031</td>\n",
       "    </tr>\n",
       "    <tr>\n",
       "      <th>77</th>\n",
       "      <td>4660912920421736134</td>\n",
       "    </tr>\n",
       "    <tr>\n",
       "      <th>78</th>\n",
       "      <td>7306069423257030698</td>\n",
       "    </tr>\n",
       "    <tr>\n",
       "      <th>79</th>\n",
       "      <td>4436005840242968268</td>\n",
       "    </tr>\n",
       "    <tr>\n",
       "      <th>80</th>\n",
       "      <td>5283263857793440349</td>\n",
       "    </tr>\n",
       "    <tr>\n",
       "      <th>81</th>\n",
       "      <td>8349212747299497616</td>\n",
       "    </tr>\n",
       "    <tr>\n",
       "      <th>82</th>\n",
       "      <td>8218864019313821391</td>\n",
       "    </tr>\n",
       "    <tr>\n",
       "      <th>83</th>\n",
       "      <td>8976224658049840164</td>\n",
       "    </tr>\n",
       "    <tr>\n",
       "      <th>84</th>\n",
       "      <td>5124433908911144691</td>\n",
       "    </tr>\n",
       "    <tr>\n",
       "      <th>85</th>\n",
       "      <td>2062041696663881389</td>\n",
       "    </tr>\n",
       "    <tr>\n",
       "      <th>86</th>\n",
       "      <td>2858964557637523648</td>\n",
       "    </tr>\n",
       "    <tr>\n",
       "      <th>87</th>\n",
       "      <td>7472333198296062163</td>\n",
       "    </tr>\n",
       "    <tr>\n",
       "      <th>88</th>\n",
       "      <td>238221620879727287</td>\n",
       "    </tr>\n",
       "    <tr>\n",
       "      <th>89</th>\n",
       "      <td>399333627726512265</td>\n",
       "    </tr>\n",
       "    <tr>\n",
       "      <th>90</th>\n",
       "      <td>7840815840960615248</td>\n",
       "    </tr>\n",
       "    <tr>\n",
       "      <th>91</th>\n",
       "      <td>322052679045677464</td>\n",
       "    </tr>\n",
       "    <tr>\n",
       "      <th>92</th>\n",
       "      <td>115058557823713772</td>\n",
       "    </tr>\n",
       "    <tr>\n",
       "      <th>93</th>\n",
       "      <td>880066798025198347</td>\n",
       "    </tr>\n",
       "    <tr>\n",
       "      <th>94</th>\n",
       "      <td>3474925642777286640</td>\n",
       "    </tr>\n",
       "  </tbody>\n",
       "</table>\n",
       "<p>95 rows × 1 columns</p>\n",
       "</div>"
      ],
      "text/plain": [
       "            instance_id\n",
       "0   7157388613526096051\n",
       "1   6541575994667851173\n",
       "2   1033530293270291493\n",
       "3   7732269813615123687\n",
       "4   6253385012875079449\n",
       "5   5289057272786372513\n",
       "6   8213715365162747014\n",
       "7    948207182440090984\n",
       "8   6782280405873386217\n",
       "9   7300149594713158252\n",
       "10  4452426256250224685\n",
       "11  6269331385075152731\n",
       "12   275778031506093401\n",
       "13  1047531876778326368\n",
       "14  8291061781021639734\n",
       "15  8073061035345255278\n",
       "16  6370849293892218264\n",
       "17  3327154725610493327\n",
       "18   842777611313657178\n",
       "19  5932458729817509181\n",
       "20  7014471900574445696\n",
       "21  4472682938595870685\n",
       "22  1342162949458900723\n",
       "23  6408170839373706780\n",
       "24  1731702234342206379\n",
       "25  8483398068095496676\n",
       "26  7663432894825332457\n",
       "27  7857610638159844267\n",
       "28  8735623045154726931\n",
       "29  6146211874752186751\n",
       "..                  ...\n",
       "65  1402089275150924665\n",
       "66   666218993741194097\n",
       "67  3932665922947085556\n",
       "68  8341714956114306120\n",
       "69  7474775330448600843\n",
       "70  5264949865899760531\n",
       "71  5255416807458484088\n",
       "72  2753944238338587885\n",
       "73  6781927042664390062\n",
       "74  4523608571583077176\n",
       "75  5852051771466683513\n",
       "76   452716307463121031\n",
       "77  4660912920421736134\n",
       "78  7306069423257030698\n",
       "79  4436005840242968268\n",
       "80  5283263857793440349\n",
       "81  8349212747299497616\n",
       "82  8218864019313821391\n",
       "83  8976224658049840164\n",
       "84  5124433908911144691\n",
       "85  2062041696663881389\n",
       "86  2858964557637523648\n",
       "87  7472333198296062163\n",
       "88   238221620879727287\n",
       "89   399333627726512265\n",
       "90  7840815840960615248\n",
       "91   322052679045677464\n",
       "92   115058557823713772\n",
       "93   880066798025198347\n",
       "94  3474925642777286640\n",
       "\n",
       "[95 rows x 1 columns]"
      ]
     },
     "execution_count": 33,
     "metadata": {},
     "output_type": "execute_result"
    }
   ],
   "source": [
    "ddd"
   ]
  },
  {
   "cell_type": "code",
   "execution_count": null,
   "metadata": {},
   "outputs": [],
   "source": []
  }
 ],
 "metadata": {
  "kernelspec": {
   "display_name": "Python 3",
   "language": "python",
   "name": "python3"
  },
  "language_info": {
   "codemirror_mode": {
    "name": "ipython",
    "version": 3
   },
   "file_extension": ".py",
   "mimetype": "text/x-python",
   "name": "python",
   "nbconvert_exporter": "python",
   "pygments_lexer": "ipython3",
   "version": "3.6.5"
  },
  "varInspector": {
   "cols": {
    "lenName": 16,
    "lenType": 16,
    "lenVar": 40
   },
   "kernels_config": {
    "python": {
     "delete_cmd_postfix": "",
     "delete_cmd_prefix": "del ",
     "library": "var_list.py",
     "varRefreshCmd": "print(var_dic_list())"
    },
    "r": {
     "delete_cmd_postfix": ") ",
     "delete_cmd_prefix": "rm(",
     "library": "var_list.r",
     "varRefreshCmd": "cat(var_dic_list()) "
    }
   },
   "types_to_exclude": [
    "module",
    "function",
    "builtin_function_or_method",
    "instance",
    "_Feature"
   ],
   "window_display": false
  }
 },
 "nbformat": 4,
 "nbformat_minor": 2
}
