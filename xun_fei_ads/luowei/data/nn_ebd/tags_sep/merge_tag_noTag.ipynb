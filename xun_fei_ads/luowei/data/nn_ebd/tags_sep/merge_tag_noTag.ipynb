{
 "cells": [
  {
   "cell_type": "code",
   "execution_count": 32,
   "metadata": {
    "ExecuteTime": {
     "end_time": "2018-10-01T20:43:36.597220Z",
     "start_time": "2018-10-01T20:43:36.592578Z"
    }
   },
   "outputs": [],
   "source": [
    "import pandas as pd\n",
    "__file__=''\n",
    "import os,sys\n",
    "sys.path.append(os.path.join(os.path.dirname(__file__),'../../../code/LIB/'))\n",
    "from env import FILE\n",
    "import pickle"
   ]
  },
  {
   "cell_type": "code",
   "execution_count": 80,
   "metadata": {
    "ExecuteTime": {
     "end_time": "2018-10-02T12:24:37.197271Z",
     "start_time": "2018-10-02T12:24:37.100268Z"
    }
   },
   "outputs": [
    {
     "name": "stdout",
     "output_type": "stream",
     "text": [
      "(40024, 2)\n",
      "(26792, 2)\n",
      "(13232, 2)\n",
      "(40024, 2)\n"
     ]
    }
   ],
   "source": [
    "tags = 'new_model_RNN_OPTIMIZE_Utag_NOTNA.csv'\n",
    "notags = 'new_model_RNN_OPTIMIZE_Utag_NA.csv'\n",
    "df_tags = pd.read_csv('../test/{}'.format(tags))\n",
    "df_notags = pd.read_csv('../test/{}'.format(notags))\n",
    "\n",
    "\n",
    "test_ori = pd.read_pickle(FILE.test_ori.value)\n",
    "print(df_notags.shape)\n",
    "\n",
    "df_save_tag = test_ori[test_ori['user_tags'].notnull()][['instance_id']].copy()\n",
    "df_save_notag = test_ori[test_ori['user_tags'].isnull()][['instance_id']].copy()\n",
    "\n",
    "df_save_tag = df_save_tag.merge(df_tags,how='inner',on='instance_id')\n",
    "print(df_save_tag.shape)\n",
    "df_save_notag = df_save_notag.merge(df_notags,how='inner',on='instance_id')\n",
    "print(df_save_notag.shape)\n",
    "df_save = test_ori[['instance_id']].copy()\n",
    "df_save = df_save.merge(pd.concat([df_save_tag,df_save_notag],sort=False),how='inner',on='instance_id')\n",
    "print(df_save.shape)"
   ]
  },
  {
   "cell_type": "markdown",
   "metadata": {},
   "source": [
    "# TRAIN MERGE"
   ]
  },
  {
   "cell_type": "code",
   "execution_count": 77,
   "metadata": {
    "ExecuteTime": {
     "end_time": "2018-10-02T12:22:05.477900Z",
     "start_time": "2018-10-02T12:22:04.008270Z"
    }
   },
   "outputs": [
    {
     "name": "stdout",
     "output_type": "stream",
     "text": [
      "(1001650, 2)\n",
      "(691880, 2)\n",
      "(309770, 2)\n",
      "(1001650, 2)\n"
     ]
    }
   ],
   "source": [
    "tags = 'new_model_RNN_OPTIMIZE_Utag_NOTNA.pkl'\n",
    "notags = 'new_model_RNN_OPTIMIZE_Utag_NA.pkl'\n",
    "df_tags = pd.read_pickle('../train/{}'.format(tags))\n",
    "df_notags = pd.read_pickle('../train/{}'.format(notags))\n",
    "\n",
    "\n",
    "train_ori = pd.read_pickle(FILE.train_ori.value)\n",
    "print(df_notags.shape)\n",
    "\n",
    "df_save_tag = train_ori[train_ori['user_tags'].notnull()][['instance_id']].copy()\n",
    "df_save_notag = train_ori[train_ori['user_tags'].isnull()][['instance_id']].copy()\n",
    "\n",
    "df_save_tag = df_save_tag.merge(df_tags,how='inner',on='instance_id')\n",
    "print(df_save_tag.shape)\n",
    "df_save_notag = df_save_notag.merge(df_notags,how='inner',on='instance_id')\n",
    "print(df_save_notag.shape)\n",
    "df_save = train_ori[['instance_id']].copy()\n",
    "df_save = df_save.merge(pd.concat([df_save_tag,df_save_notag],sort=False),how='inner',on='instance_id')\n",
    "print(df_save.shape)"
   ]
  },
  {
   "cell_type": "code",
   "execution_count": 82,
   "metadata": {
    "ExecuteTime": {
     "end_time": "2018-10-02T12:25:11.512463Z",
     "start_time": "2018-10-02T12:25:11.500749Z"
    }
   },
   "outputs": [
    {
     "data": {
      "text/html": [
       "<div>\n",
       "<style scoped>\n",
       "    .dataframe tbody tr th:only-of-type {\n",
       "        vertical-align: middle;\n",
       "    }\n",
       "\n",
       "    .dataframe tbody tr th {\n",
       "        vertical-align: top;\n",
       "    }\n",
       "\n",
       "    .dataframe thead th {\n",
       "        text-align: right;\n",
       "    }\n",
       "</style>\n",
       "<table border=\"1\" class=\"dataframe\">\n",
       "  <thead>\n",
       "    <tr style=\"text-align: right;\">\n",
       "      <th></th>\n",
       "      <th>instance_id</th>\n",
       "      <th>predicted_score</th>\n",
       "    </tr>\n",
       "  </thead>\n",
       "  <tbody>\n",
       "    <tr>\n",
       "      <th>0</th>\n",
       "      <td>6930856710792380886</td>\n",
       "      <td>0.139629</td>\n",
       "    </tr>\n",
       "    <tr>\n",
       "      <th>1</th>\n",
       "      <td>5460409694420131920</td>\n",
       "      <td>0.364073</td>\n",
       "    </tr>\n",
       "    <tr>\n",
       "      <th>2</th>\n",
       "      <td>982813438159141507</td>\n",
       "      <td>0.110336</td>\n",
       "    </tr>\n",
       "    <tr>\n",
       "      <th>3</th>\n",
       "      <td>529991959116679673</td>\n",
       "      <td>0.266944</td>\n",
       "    </tr>\n",
       "    <tr>\n",
       "      <th>4</th>\n",
       "      <td>5357053206615171780</td>\n",
       "      <td>0.005334</td>\n",
       "    </tr>\n",
       "    <tr>\n",
       "      <th>5</th>\n",
       "      <td>792454096205931185</td>\n",
       "      <td>0.168445</td>\n",
       "    </tr>\n",
       "    <tr>\n",
       "      <th>6</th>\n",
       "      <td>7020394095530516431</td>\n",
       "      <td>0.015871</td>\n",
       "    </tr>\n",
       "    <tr>\n",
       "      <th>7</th>\n",
       "      <td>3223889685220093136</td>\n",
       "      <td>0.255755</td>\n",
       "    </tr>\n",
       "    <tr>\n",
       "      <th>8</th>\n",
       "      <td>6022950513423196038</td>\n",
       "      <td>0.350819</td>\n",
       "    </tr>\n",
       "    <tr>\n",
       "      <th>9</th>\n",
       "      <td>8354622923398290680</td>\n",
       "      <td>0.272529</td>\n",
       "    </tr>\n",
       "  </tbody>\n",
       "</table>\n",
       "</div>"
      ],
      "text/plain": [
       "           instance_id  predicted_score\n",
       "0  6930856710792380886         0.139629\n",
       "1  5460409694420131920         0.364073\n",
       "2   982813438159141507         0.110336\n",
       "3   529991959116679673         0.266944\n",
       "4  5357053206615171780         0.005334\n",
       "5   792454096205931185         0.168445\n",
       "6  7020394095530516431         0.015871\n",
       "7  3223889685220093136         0.255755\n",
       "8  6022950513423196038         0.350819\n",
       "9  8354622923398290680         0.272529"
      ]
     },
     "execution_count": 82,
     "metadata": {},
     "output_type": "execute_result"
    }
   ],
   "source": [
    "df_save.head(10)"
   ]
  },
  {
   "cell_type": "code",
   "execution_count": 81,
   "metadata": {
    "ExecuteTime": {
     "end_time": "2018-10-02T12:25:07.476809Z",
     "start_time": "2018-10-02T12:25:07.366895Z"
    }
   },
   "outputs": [],
   "source": [
    "df_save.to_csv('tagsFrom2File.csv',index=False)"
   ]
  },
  {
   "cell_type": "markdown",
   "metadata": {},
   "source": [
    "# TEST STD  -- holdout"
   ]
  },
  {
   "cell_type": "code",
   "execution_count": 63,
   "metadata": {
    "ExecuteTime": {
     "end_time": "2018-10-02T03:01:06.539639Z",
     "start_time": "2018-10-02T03:01:03.943505Z"
    }
   },
   "outputs": [
    {
     "name": "stdout",
     "output_type": "stream",
     "text": [
      "HOLDOUT ANALYSIS\n",
      "overall\n",
      "0.4245985252591007\n",
      "0.7700736077067292\n",
      "---------------\n",
      "no tags\n",
      "0.4461467055059244\n",
      "0.7733677078367014\n",
      "---------------\n",
      "has tag\n",
      "0.41280134646637623\n",
      "0.766316717784432\n",
      "\n",
      "\n",
      "OOF ALL ANALYSIS\n",
      "overall\n",
      "0.41522739757199445\n",
      "0.7697014306209602\n",
      "------------------------\n",
      "no tag\n",
      "0.4310607218865263\n",
      "0.7614868345625095\n",
      "---------------------\n",
      "has tag\n",
      "0.4081384675943792\n",
      "0.7732163784288363\n"
     ]
    }
   ],
   "source": [
    "from sklearn.metrics import log_loss,roc_auc_score\n",
    "holdout_index = pickle.load(open(FILE.holdout_index.value,'rb'))\n",
    "train_ori = pd.read_pickle(FILE.train_ori.value)\n",
    "\n",
    "df_oof = pd.read_pickle('../train/new_model_rnnEBD.pkl')\n",
    "predict_ho_all = df_oof.loc[holdout_index,'predicted_score'].values\n",
    "y_ho_all = train_ori.loc[holdout_index,'click'].values\n",
    "\n",
    "print('HOLDOUT ANALYSIS')\n",
    "print('overall')\n",
    "print(log_loss(y_ho_all,predict_ho_all))\n",
    "print(roc_auc_score(y_ho_all,predict_ho_all))\n",
    "print('---------------')\n",
    "\n",
    "print('no tags')\n",
    "holdout_notag = train_ori.loc[holdout_index].copy()\n",
    "holdout_notag_index = holdout_notag[holdout_notag['user_tags'].isnull()].index\n",
    "predict_ho_notag = df_oof.loc[holdout_notag_index,'predicted_score'].values\n",
    "y_ho_notag = train_ori.loc[holdout_notag_index,'click'].values\n",
    "print(log_loss(y_ho_notag,predict_ho_notag))\n",
    "print(roc_auc_score(y_ho_notag,predict_ho_notag))\n",
    "print('---------------')\n",
    "\n",
    "print('has tag')\n",
    "holdout_tag = train_ori.loc[holdout_index].copy()\n",
    "holdout_tag_index = holdout_tag[holdout_tag['user_tags'].notnull()].index\n",
    "predict_ho_tag = df_oof.loc[holdout_tag_index,'predicted_score'].values\n",
    "y_ho_tag = train_ori.loc[holdout_tag_index,'click'].values\n",
    "print(log_loss(y_ho_tag,predict_ho_tag))\n",
    "print(roc_auc_score(y_ho_tag,predict_ho_tag))\n",
    "\n",
    "\n",
    "print('\\n')\n",
    "print('OOF ALL ANALYSIS')\n",
    "predict_all = df_oof['predicted_score'].values\n",
    "y_all = train_ori['click'].values\n",
    "print('overall')\n",
    "print(log_loss(y_all,predict_all))\n",
    "print(roc_auc_score(y_all,predict_all))\n",
    "print('------------------------')\n",
    "\n",
    "print('no tag')\n",
    "notag = train_ori.copy()\n",
    "notag_index = notag[notag['user_tags'].isnull()].index\n",
    "predict_notag = df_oof.loc[notag_index,'predicted_score'].values\n",
    "y_notag = train_ori.loc[notag_index,'click'].values\n",
    "print(log_loss(y_notag,predict_notag))\n",
    "print(roc_auc_score(y_notag,predict_notag))\n",
    "print('---------------------')\n",
    "\n",
    "print('has tag')\n",
    "tag = train_ori.copy()\n",
    "tag_index = tag[tag['user_tags'].notnull()].index\n",
    "predict_tag = df_oof.loc[tag_index,'predicted_score'].values\n",
    "y_tag = train_ori.loc[tag_index,'click'].values\n",
    "print(log_loss(y_tag,predict_tag))\n",
    "print(roc_auc_score(y_tag,predict_tag))"
   ]
  },
  {
   "cell_type": "code",
   "execution_count": 79,
   "metadata": {
    "ExecuteTime": {
     "end_time": "2018-10-02T12:22:15.800339Z",
     "start_time": "2018-10-02T12:22:13.386450Z"
    }
   },
   "outputs": [
    {
     "name": "stdout",
     "output_type": "stream",
     "text": [
      "HOLDOUT ANALYSIS\n",
      "overall\n",
      "0.42427127315173174\n",
      "0.7707807848108077\n",
      "---------------\n",
      "no tags\n",
      "0.4453470427050435\n",
      "0.7752816333339541\n",
      "---------------\n",
      "has tag\n",
      "0.41273272935050637\n",
      "0.7665308397063472\n",
      "\n",
      "\n",
      "OOF ALL ANALYSIS\n",
      "overall\n",
      "0.41506035127171464\n",
      "0.7699643234819564\n",
      "------------------------\n",
      "no tag\n",
      "0.4306924221655436\n",
      "0.7621449864728095\n",
      "---------------------\n",
      "has tag\n",
      "0.40806152690797903\n",
      "0.7733311925087457\n"
     ]
    }
   ],
   "source": [
    "from sklearn.metrics import log_loss,roc_auc_score\n",
    "holdout_index = pickle.load(open(FILE.holdout_index.value,'rb'))\n",
    "train_ori = pd.read_pickle(FILE.train_ori.value)\n",
    "\n",
    "# df_oof = pd.read_pickle('../train/new_model_RNN_OPTIMIZE_Utag_NA.pkl')\n",
    "df_oof = df_save.copy()\n",
    "predict_ho_all = df_oof.loc[holdout_index,'predicted_score'].values\n",
    "y_ho_all = train_ori.loc[holdout_index,'click'].values\n",
    "\n",
    "print('HOLDOUT ANALYSIS')\n",
    "print('overall')\n",
    "print(log_loss(y_ho_all,predict_ho_all))\n",
    "print(roc_auc_score(y_ho_all,predict_ho_all))\n",
    "print('---------------')\n",
    "\n",
    "print('no tags')\n",
    "holdout_notag = train_ori.loc[holdout_index].copy()\n",
    "holdout_notag_index = holdout_notag[holdout_notag['user_tags'].isnull()].index\n",
    "predict_ho_notag = df_oof.loc[holdout_notag_index,'predicted_score'].values\n",
    "y_ho_notag = train_ori.loc[holdout_notag_index,'click'].values\n",
    "print(log_loss(y_ho_notag,predict_ho_notag))\n",
    "print(roc_auc_score(y_ho_notag,predict_ho_notag))\n",
    "print('---------------')\n",
    "\n",
    "print('has tag')\n",
    "holdout_tag = train_ori.loc[holdout_index].copy()\n",
    "holdout_tag_index = holdout_tag[holdout_tag['user_tags'].notnull()].index\n",
    "predict_ho_tag = df_oof.loc[holdout_tag_index,'predicted_score'].values\n",
    "y_ho_tag = train_ori.loc[holdout_tag_index,'click'].values\n",
    "print(log_loss(y_ho_tag,predict_ho_tag))\n",
    "print(roc_auc_score(y_ho_tag,predict_ho_tag))\n",
    "\n",
    "\n",
    "print('\\n')\n",
    "print('OOF ALL ANALYSIS')\n",
    "predict_all = df_oof['predicted_score'].values\n",
    "y_all = train_ori['click'].values\n",
    "print('overall')\n",
    "print(log_loss(y_all,predict_all))\n",
    "print(roc_auc_score(y_all,predict_all))\n",
    "print('------------------------')\n",
    "\n",
    "print('no tag')\n",
    "notag = train_ori.copy()\n",
    "notag_index = notag[notag['user_tags'].isnull()].index\n",
    "predict_notag = df_oof.loc[notag_index,'predicted_score'].values\n",
    "y_notag = train_ori.loc[notag_index,'click'].values\n",
    "print(log_loss(y_notag,predict_notag))\n",
    "print(roc_auc_score(y_notag,predict_notag))\n",
    "print('---------------------')\n",
    "\n",
    "print('has tag')\n",
    "tag = train_ori.copy()\n",
    "tag_index = tag[tag['user_tags'].notnull()].index\n",
    "predict_tag = df_oof.loc[tag_index,'predicted_score'].values\n",
    "y_tag = train_ori.loc[tag_index,'click'].values\n",
    "print(log_loss(y_tag,predict_tag))\n",
    "print(roc_auc_score(y_tag,predict_tag))"
   ]
  },
  {
   "cell_type": "code",
   "execution_count": 89,
   "metadata": {
    "ExecuteTime": {
     "end_time": "2018-10-02T14:01:11.618853Z",
     "start_time": "2018-10-02T14:01:09.227780Z"
    }
   },
   "outputs": [
    {
     "name": "stdout",
     "output_type": "stream",
     "text": [
      "(1001650, 2)\n",
      "HOLDOUT ANALYSIS\n",
      "overall\n",
      "0.4254112004197366\n",
      "0.7688069809737544\n",
      "---------------\n",
      "no tags\n",
      "0.446491939958558\n",
      "0.772482956997677\n",
      "---------------\n",
      "has tag\n",
      "0.4138699356552102\n",
      "0.7650510537943798\n",
      "\n",
      "\n",
      "OOF ALL ANALYSIS\n",
      "overall\n",
      "0.41576059658816633\n",
      "0.7686108537875833\n",
      "------------------------\n",
      "no tag\n",
      "0.43142908847725814\n",
      "0.7606146464832051\n",
      "---------------------\n",
      "has tag\n",
      "0.4087454657381865\n",
      "0.7720329301467128\n"
     ]
    }
   ],
   "source": [
    "from sklearn.metrics import log_loss,roc_auc_score\n",
    "holdout_index = pickle.load(open(FILE.holdout_index.value,'rb'))\n",
    "train_ori = pd.read_pickle(FILE.train_ori.value)\n",
    "\n",
    "df_ooof = pd.read_pickle('../blend/trainoof_lgb_cv4153_ho4254_pb4249_tag4085_notag4307.pkl')\n",
    "df_oof = train_ori[['instance_id']].copy()\n",
    "df_oof = df_oof.merge(df_ooof,how='inner',on='instance_id')\n",
    "print(df_oof.shape)\n",
    "# df_oof = df_save.copy()\n",
    "predict_ho_all = df_oof.loc[holdout_index,'predicted_score'].values\n",
    "y_ho_all = train_ori.loc[holdout_index,'click'].values\n",
    "\n",
    "print('HOLDOUT ANALYSIS')\n",
    "print('overall')\n",
    "print(log_loss(y_ho_all,predict_ho_all))\n",
    "print(roc_auc_score(y_ho_all,predict_ho_all))\n",
    "print('---------------')\n",
    "\n",
    "print('no tags')\n",
    "holdout_notag = train_ori.loc[holdout_index].copy()\n",
    "holdout_notag_index = holdout_notag[holdout_notag['user_tags'].isnull()].index\n",
    "predict_ho_notag = df_oof.loc[holdout_notag_index,'predicted_score'].values\n",
    "y_ho_notag = train_ori.loc[holdout_notag_index,'click'].values\n",
    "print(log_loss(y_ho_notag,predict_ho_notag))\n",
    "print(roc_auc_score(y_ho_notag,predict_ho_notag))\n",
    "print('---------------')\n",
    "\n",
    "print('has tag')\n",
    "holdout_tag = train_ori.loc[holdout_index].copy()\n",
    "holdout_tag_index = holdout_tag[holdout_tag['user_tags'].notnull()].index\n",
    "predict_ho_tag = df_oof.loc[holdout_tag_index,'predicted_score'].values\n",
    "y_ho_tag = train_ori.loc[holdout_tag_index,'click'].values\n",
    "print(log_loss(y_ho_tag,predict_ho_tag))\n",
    "print(roc_auc_score(y_ho_tag,predict_ho_tag))\n",
    "\n",
    "\n",
    "print('\\n')\n",
    "print('OOF ALL ANALYSIS')\n",
    "predict_all = df_oof['predicted_score'].values\n",
    "y_all = train_ori['click'].values\n",
    "print('overall')\n",
    "print(log_loss(y_all,predict_all))\n",
    "print(roc_auc_score(y_all,predict_all))\n",
    "print('------------------------')\n",
    "\n",
    "print('no tag')\n",
    "notag = train_ori.copy()\n",
    "notag_index = notag[notag['user_tags'].isnull()].index\n",
    "predict_notag = df_oof.loc[notag_index,'predicted_score'].values\n",
    "y_notag = train_ori.loc[notag_index,'click'].values\n",
    "print(log_loss(y_notag,predict_notag))\n",
    "print(roc_auc_score(y_notag,predict_notag))\n",
    "print('---------------------')\n",
    "\n",
    "print('has tag')\n",
    "tag = train_ori.copy()\n",
    "tag_index = tag[tag['user_tags'].notnull()].index\n",
    "predict_tag = df_oof.loc[tag_index,'predicted_score'].values\n",
    "y_tag = train_ori.loc[tag_index,'click'].values\n",
    "print(log_loss(y_tag,predict_tag))\n",
    "print(roc_auc_score(y_tag,predict_tag))"
   ]
  },
  {
   "cell_type": "code",
   "execution_count": null,
   "metadata": {},
   "outputs": [],
   "source": [
    "HOLDOUT ANALYSIS\n",
    "overall\n",
    "0.42427127315173174\n",
    "0.7707807848108077\n",
    "---------------\n",
    "no tags\n",
    "0.4453470427050435\n",
    "0.7752816333339541\n",
    "---------------\n",
    "has tag\n",
    "0.41273272935050637\n",
    "0.7665308397063472\n",
    "\n",
    "\n",
    "OOF ALL ANALYSIS\n",
    "overall\n",
    "0.41506035127171464\n",
    "0.7699643234819564\n",
    "------------------------\n",
    "no tag\n",
    "0.4306924221655436\n",
    "0.7621449864728095\n",
    "---------------------\n",
    "has tag\n",
    "0.40806152690797903\n",
    "0.7733311925087457\n",
    "\n",
    "\n",
    "\n",
    "(1001650, 2)\n",
    "HOLDOUT ANALYSIS\n",
    "overall\n",
    "0.4254112004197366\n",
    "0.7688069809737544\n",
    "---------------\n",
    "no tags\n",
    "0.446491939958558\n",
    "0.772482956997677\n",
    "---------------\n",
    "has tag\n",
    "0.4138699356552102\n",
    "0.7650510537943798\n",
    "\n",
    "\n",
    "OOF ALL ANALYSIS\n",
    "overall\n",
    "0.41576059658816633\n",
    "0.7686108537875833\n",
    "------------------------\n",
    "no tag\n",
    "0.43142908847725814\n",
    "0.7606146464832051\n",
    "---------------------\n",
    "has tag\n",
    "0.4087454657381865\n",
    "0.7720329301467128"
   ]
  },
  {
   "cell_type": "code",
   "execution_count": null,
   "metadata": {},
   "outputs": [],
   "source": [
    "trainoof_lgb_cv4153_ho4254_pb4249_tag4085_notag4307.pkl"
   ]
  },
  {
   "cell_type": "code",
   "execution_count": 86,
   "metadata": {
    "ExecuteTime": {
     "end_time": "2018-10-02T13:59:17.281511Z",
     "start_time": "2018-10-02T13:59:17.276049Z"
    }
   },
   "outputs": [
    {
     "data": {
      "text/plain": [
       "(1001650, 2)"
      ]
     },
     "execution_count": 86,
     "metadata": {},
     "output_type": "execute_result"
    }
   ],
   "source": [
    "df_oof.shape"
   ]
  },
  {
   "cell_type": "code",
   "execution_count": 87,
   "metadata": {
    "ExecuteTime": {
     "end_time": "2018-10-02T13:59:52.303336Z",
     "start_time": "2018-10-02T13:59:52.293703Z"
    }
   },
   "outputs": [
    {
     "data": {
      "text/plain": [
       "999971"
      ]
     },
     "execution_count": 87,
     "metadata": {},
     "output_type": "execute_result"
    }
   ],
   "source": [
    "np.sum(train_ori.instance_id.values != df_oof.instance_id.values)"
   ]
  },
  {
   "cell_type": "code",
   "execution_count": null,
   "metadata": {},
   "outputs": [],
   "source": []
  }
 ],
 "metadata": {
  "kernelspec": {
   "display_name": "Python 3",
   "language": "python",
   "name": "python3"
  },
  "language_info": {
   "codemirror_mode": {
    "name": "ipython",
    "version": 3
   },
   "file_extension": ".py",
   "mimetype": "text/x-python",
   "name": "python",
   "nbconvert_exporter": "python",
   "pygments_lexer": "ipython3",
   "version": "3.6.5"
  },
  "varInspector": {
   "cols": {
    "lenName": 16,
    "lenType": 16,
    "lenVar": 40
   },
   "kernels_config": {
    "python": {
     "delete_cmd_postfix": "",
     "delete_cmd_prefix": "del ",
     "library": "var_list.py",
     "varRefreshCmd": "print(var_dic_list())"
    },
    "r": {
     "delete_cmd_postfix": ") ",
     "delete_cmd_prefix": "rm(",
     "library": "var_list.r",
     "varRefreshCmd": "cat(var_dic_list()) "
    }
   },
   "types_to_exclude": [
    "module",
    "function",
    "builtin_function_or_method",
    "instance",
    "_Feature"
   ],
   "window_display": false
  }
 },
 "nbformat": 4,
 "nbformat_minor": 2
}
