{
 "cells": [
  {
   "cell_type": "code",
   "execution_count": 56,
   "metadata": {
    "ExecuteTime": {
     "end_time": "2018-06-11T19:00:40.940187Z",
     "start_time": "2018-06-11T19:00:40.932385Z"
    },
    "collapsed": true
   },
   "outputs": [],
   "source": [
    "import os\n",
    "import time\n",
    "import lightgbm as lgb\n",
    "import pandas as pd\n",
    "import pprint\n",
    "pp = pprint.PrettyPrinter(indent=4)"
   ]
  },
  {
   "cell_type": "code",
   "execution_count": 58,
   "metadata": {
    "ExecuteTime": {
     "end_time": "2018-06-11T19:49:32.396107Z",
     "start_time": "2018-06-11T19:49:32.392528Z"
    },
    "collapsed": true
   },
   "outputs": [],
   "source": [
    "unique_gs_name = 'test_grid_search.csv'"
   ]
  },
  {
   "cell_type": "markdown",
   "metadata": {
    "ExecuteTime": {
     "end_time": "2018-06-06T20:49:27.228227Z",
     "start_time": "2018-06-06T20:49:27.206500Z"
    },
    "collapsed": true
   },
   "source": [
    "train = pd.read_pickle('data/0.pkl')\n",
    "val = pd.read_pickle('data/val.pkl')\n",
    "test = pd.read_pickle('data/test.pkl')"
   ]
  },
  {
   "cell_type": "code",
   "execution_count": 3,
   "metadata": {
    "ExecuteTime": {
     "end_time": "2018-06-11T17:30:30.588690Z",
     "start_time": "2018-06-11T17:30:30.564539Z"
    },
    "collapsed": true
   },
   "outputs": [],
   "source": [
    "data_path = '/home/kai/data/masaki/titanic/'\n",
    "train = pd.read_csv(data_path + 'train.csv')"
   ]
  },
  {
   "cell_type": "code",
   "execution_count": 4,
   "metadata": {
    "ExecuteTime": {
     "end_time": "2018-06-11T17:30:30.809017Z",
     "start_time": "2018-06-11T17:30:30.799096Z"
    },
    "collapsed": true
   },
   "outputs": [],
   "source": [
    "test = pd.read_csv(data_path + 'test.csv')"
   ]
  },
  {
   "cell_type": "code",
   "execution_count": 5,
   "metadata": {
    "ExecuteTime": {
     "end_time": "2018-06-11T17:30:31.067724Z",
     "start_time": "2018-06-11T17:30:31.052027Z"
    }
   },
   "outputs": [
    {
     "data": {
      "text/plain": [
       "(891, 12)"
      ]
     },
     "execution_count": 5,
     "metadata": {},
     "output_type": "execute_result"
    }
   ],
   "source": [
    "train.shape"
   ]
  },
  {
   "cell_type": "code",
   "execution_count": 6,
   "metadata": {
    "ExecuteTime": {
     "end_time": "2018-06-11T17:30:32.481050Z",
     "start_time": "2018-06-11T17:30:32.459455Z"
    }
   },
   "outputs": [
    {
     "data": {
      "text/html": [
       "<div>\n",
       "<style>\n",
       "    .dataframe thead tr:only-child th {\n",
       "        text-align: right;\n",
       "    }\n",
       "\n",
       "    .dataframe thead th {\n",
       "        text-align: left;\n",
       "    }\n",
       "\n",
       "    .dataframe tbody tr th {\n",
       "        vertical-align: top;\n",
       "    }\n",
       "</style>\n",
       "<table border=\"1\" class=\"dataframe\">\n",
       "  <thead>\n",
       "    <tr style=\"text-align: right;\">\n",
       "      <th></th>\n",
       "      <th>PassengerId</th>\n",
       "      <th>Survived</th>\n",
       "      <th>Pclass</th>\n",
       "      <th>Name</th>\n",
       "      <th>Sex</th>\n",
       "      <th>Age</th>\n",
       "      <th>SibSp</th>\n",
       "      <th>Parch</th>\n",
       "      <th>Ticket</th>\n",
       "      <th>Fare</th>\n",
       "      <th>Cabin</th>\n",
       "      <th>Embarked</th>\n",
       "    </tr>\n",
       "  </thead>\n",
       "  <tbody>\n",
       "    <tr>\n",
       "      <th>0</th>\n",
       "      <td>1</td>\n",
       "      <td>0</td>\n",
       "      <td>3</td>\n",
       "      <td>Braund, Mr. Owen Harris</td>\n",
       "      <td>male</td>\n",
       "      <td>22.0</td>\n",
       "      <td>1</td>\n",
       "      <td>0</td>\n",
       "      <td>A/5 21171</td>\n",
       "      <td>7.2500</td>\n",
       "      <td>NaN</td>\n",
       "      <td>S</td>\n",
       "    </tr>\n",
       "    <tr>\n",
       "      <th>1</th>\n",
       "      <td>2</td>\n",
       "      <td>1</td>\n",
       "      <td>1</td>\n",
       "      <td>Cumings, Mrs. John Bradley (Florence Briggs Th...</td>\n",
       "      <td>female</td>\n",
       "      <td>38.0</td>\n",
       "      <td>1</td>\n",
       "      <td>0</td>\n",
       "      <td>PC 17599</td>\n",
       "      <td>71.2833</td>\n",
       "      <td>C85</td>\n",
       "      <td>C</td>\n",
       "    </tr>\n",
       "    <tr>\n",
       "      <th>2</th>\n",
       "      <td>3</td>\n",
       "      <td>1</td>\n",
       "      <td>3</td>\n",
       "      <td>Heikkinen, Miss. Laina</td>\n",
       "      <td>female</td>\n",
       "      <td>26.0</td>\n",
       "      <td>0</td>\n",
       "      <td>0</td>\n",
       "      <td>STON/O2. 3101282</td>\n",
       "      <td>7.9250</td>\n",
       "      <td>NaN</td>\n",
       "      <td>S</td>\n",
       "    </tr>\n",
       "    <tr>\n",
       "      <th>3</th>\n",
       "      <td>4</td>\n",
       "      <td>1</td>\n",
       "      <td>1</td>\n",
       "      <td>Futrelle, Mrs. Jacques Heath (Lily May Peel)</td>\n",
       "      <td>female</td>\n",
       "      <td>35.0</td>\n",
       "      <td>1</td>\n",
       "      <td>0</td>\n",
       "      <td>113803</td>\n",
       "      <td>53.1000</td>\n",
       "      <td>C123</td>\n",
       "      <td>S</td>\n",
       "    </tr>\n",
       "    <tr>\n",
       "      <th>4</th>\n",
       "      <td>5</td>\n",
       "      <td>0</td>\n",
       "      <td>3</td>\n",
       "      <td>Allen, Mr. William Henry</td>\n",
       "      <td>male</td>\n",
       "      <td>35.0</td>\n",
       "      <td>0</td>\n",
       "      <td>0</td>\n",
       "      <td>373450</td>\n",
       "      <td>8.0500</td>\n",
       "      <td>NaN</td>\n",
       "      <td>S</td>\n",
       "    </tr>\n",
       "  </tbody>\n",
       "</table>\n",
       "</div>"
      ],
      "text/plain": [
       "   PassengerId  Survived  Pclass  \\\n",
       "0            1         0       3   \n",
       "1            2         1       1   \n",
       "2            3         1       3   \n",
       "3            4         1       1   \n",
       "4            5         0       3   \n",
       "\n",
       "                                                Name     Sex   Age  SibSp  \\\n",
       "0                            Braund, Mr. Owen Harris    male  22.0      1   \n",
       "1  Cumings, Mrs. John Bradley (Florence Briggs Th...  female  38.0      1   \n",
       "2                             Heikkinen, Miss. Laina  female  26.0      0   \n",
       "3       Futrelle, Mrs. Jacques Heath (Lily May Peel)  female  35.0      1   \n",
       "4                           Allen, Mr. William Henry    male  35.0      0   \n",
       "\n",
       "   Parch            Ticket     Fare Cabin Embarked  \n",
       "0      0         A/5 21171   7.2500   NaN        S  \n",
       "1      0          PC 17599  71.2833   C85        C  \n",
       "2      0  STON/O2. 3101282   7.9250   NaN        S  \n",
       "3      0            113803  53.1000  C123        S  \n",
       "4      0            373450   8.0500   NaN        S  "
      ]
     },
     "execution_count": 6,
     "metadata": {},
     "output_type": "execute_result"
    }
   ],
   "source": [
    "train.head()"
   ]
  },
  {
   "cell_type": "code",
   "execution_count": 7,
   "metadata": {
    "ExecuteTime": {
     "end_time": "2018-06-11T17:30:35.616712Z",
     "start_time": "2018-06-11T17:30:35.606421Z"
    },
    "collapsed": true
   },
   "outputs": [],
   "source": [
    "data = pd.concat([train, test])"
   ]
  },
  {
   "cell_type": "code",
   "execution_count": 8,
   "metadata": {
    "ExecuteTime": {
     "end_time": "2018-06-11T17:30:35.883668Z",
     "start_time": "2018-06-11T17:30:35.880206Z"
    }
   },
   "outputs": [
    {
     "data": {
      "text/plain": [
       "(1309, 12)"
      ]
     },
     "execution_count": 8,
     "metadata": {},
     "output_type": "execute_result"
    }
   ],
   "source": [
    "data.shape"
   ]
  },
  {
   "cell_type": "code",
   "execution_count": 9,
   "metadata": {
    "ExecuteTime": {
     "end_time": "2018-06-11T17:30:37.330890Z",
     "start_time": "2018-06-11T17:30:37.321373Z"
    }
   },
   "outputs": [
    {
     "name": "stdout",
     "output_type": "stream",
     "text": [
      "['Pclass', 'Sex', 'SibSp', 'Parch', 'Embarked']\n",
      "['Sex', 'Pclass', 'Parch', 'Fare', 'Age', 'Embarked', 'SibSp']\n"
     ]
    }
   ],
   "source": [
    "categorical_feature = ['Pclass', 'Sex', 'SibSp', 'Parch', 'Embarked']\n",
    "print(categorical_feature)\n",
    "feature_cols = list(set(train.columns) - set(['PassengerId', 'Survived', 'Name', 'Ticket', 'Cabin']))\n",
    "print(feature_cols)\n",
    "label_col = 'Survived'"
   ]
  },
  {
   "cell_type": "code",
   "execution_count": 10,
   "metadata": {
    "ExecuteTime": {
     "end_time": "2018-06-11T17:30:37.702074Z",
     "start_time": "2018-06-11T17:30:37.692424Z"
    }
   },
   "outputs": [
    {
     "data": {
      "text/plain": [
       "Sex          object\n",
       "Pclass        int64\n",
       "Parch         int64\n",
       "Fare        float64\n",
       "Age         float64\n",
       "Embarked     object\n",
       "SibSp         int64\n",
       "dtype: object"
      ]
     },
     "execution_count": 10,
     "metadata": {},
     "output_type": "execute_result"
    }
   ],
   "source": [
    "data[feature_cols].dtypes"
   ]
  },
  {
   "cell_type": "code",
   "execution_count": 11,
   "metadata": {
    "ExecuteTime": {
     "end_time": "2018-06-11T17:30:39.809045Z",
     "start_time": "2018-06-11T17:30:39.783624Z"
    }
   },
   "outputs": [
    {
     "name": "stdout",
     "output_type": "stream",
     "text": [
      "Fare float64 1 0.000763941940413\n",
      "Fare filled NA with 33.2954792813456\n",
      "Age float64 263 0.200916730328\n",
      "Age filled NA with 29.881137667303985\n",
      "Embarked object 2 0.00152788388083\n",
      "Embarked filled NA with empty\n"
     ]
    }
   ],
   "source": [
    "for col in feature_cols:\n",
    "    num_nulls = np.sum(data[col].isnull())\n",
    "    if num_nulls != 0:\n",
    "        col_type = data[col].dtype\n",
    "        print(col, col_type, num_nulls, num_nulls/len(data[col]))\n",
    "        if col_type == 'float' or col_type == 'int':\n",
    "            data[col].fillna(data[col].mean(), inplace=True)\n",
    "            print('{} filled NA with {}'.format(col, data[col].mean()))\n",
    "        else:\n",
    "            data[col].fillna('empty', inplace=True)\n",
    "            print('{} filled NA with {}'.format(col, 'empty'))"
   ]
  },
  {
   "cell_type": "code",
   "execution_count": 12,
   "metadata": {
    "ExecuteTime": {
     "end_time": "2018-06-11T17:30:41.797966Z",
     "start_time": "2018-06-11T17:30:41.772904Z"
    }
   },
   "outputs": [
    {
     "data": {
      "text/html": [
       "<div>\n",
       "<style>\n",
       "    .dataframe thead tr:only-child th {\n",
       "        text-align: right;\n",
       "    }\n",
       "\n",
       "    .dataframe thead th {\n",
       "        text-align: left;\n",
       "    }\n",
       "\n",
       "    .dataframe tbody tr th {\n",
       "        vertical-align: top;\n",
       "    }\n",
       "</style>\n",
       "<table border=\"1\" class=\"dataframe\">\n",
       "  <thead>\n",
       "    <tr style=\"text-align: right;\">\n",
       "      <th></th>\n",
       "      <th>Age</th>\n",
       "      <th>Cabin</th>\n",
       "      <th>Embarked</th>\n",
       "      <th>Fare</th>\n",
       "      <th>Name</th>\n",
       "      <th>Parch</th>\n",
       "      <th>PassengerId</th>\n",
       "      <th>Pclass</th>\n",
       "      <th>Sex</th>\n",
       "      <th>SibSp</th>\n",
       "      <th>Survived</th>\n",
       "      <th>Ticket</th>\n",
       "    </tr>\n",
       "  </thead>\n",
       "  <tbody>\n",
       "    <tr>\n",
       "      <th>890</th>\n",
       "      <td>32.0</td>\n",
       "      <td>NaN</td>\n",
       "      <td>Q</td>\n",
       "      <td>7.7500</td>\n",
       "      <td>Dooley, Mr. Patrick</td>\n",
       "      <td>0</td>\n",
       "      <td>891</td>\n",
       "      <td>3</td>\n",
       "      <td>male</td>\n",
       "      <td>0</td>\n",
       "      <td>0.0</td>\n",
       "      <td>370376</td>\n",
       "    </tr>\n",
       "    <tr>\n",
       "      <th>0</th>\n",
       "      <td>34.5</td>\n",
       "      <td>NaN</td>\n",
       "      <td>Q</td>\n",
       "      <td>7.8292</td>\n",
       "      <td>Kelly, Mr. James</td>\n",
       "      <td>0</td>\n",
       "      <td>892</td>\n",
       "      <td>3</td>\n",
       "      <td>male</td>\n",
       "      <td>0</td>\n",
       "      <td>NaN</td>\n",
       "      <td>330911</td>\n",
       "    </tr>\n",
       "    <tr>\n",
       "      <th>1</th>\n",
       "      <td>47.0</td>\n",
       "      <td>NaN</td>\n",
       "      <td>S</td>\n",
       "      <td>7.0000</td>\n",
       "      <td>Wilkes, Mrs. James (Ellen Needs)</td>\n",
       "      <td>0</td>\n",
       "      <td>893</td>\n",
       "      <td>3</td>\n",
       "      <td>female</td>\n",
       "      <td>1</td>\n",
       "      <td>NaN</td>\n",
       "      <td>363272</td>\n",
       "    </tr>\n",
       "    <tr>\n",
       "      <th>2</th>\n",
       "      <td>62.0</td>\n",
       "      <td>NaN</td>\n",
       "      <td>Q</td>\n",
       "      <td>9.6875</td>\n",
       "      <td>Myles, Mr. Thomas Francis</td>\n",
       "      <td>0</td>\n",
       "      <td>894</td>\n",
       "      <td>2</td>\n",
       "      <td>male</td>\n",
       "      <td>0</td>\n",
       "      <td>NaN</td>\n",
       "      <td>240276</td>\n",
       "    </tr>\n",
       "    <tr>\n",
       "      <th>3</th>\n",
       "      <td>27.0</td>\n",
       "      <td>NaN</td>\n",
       "      <td>S</td>\n",
       "      <td>8.6625</td>\n",
       "      <td>Wirz, Mr. Albert</td>\n",
       "      <td>0</td>\n",
       "      <td>895</td>\n",
       "      <td>3</td>\n",
       "      <td>male</td>\n",
       "      <td>0</td>\n",
       "      <td>NaN</td>\n",
       "      <td>315154</td>\n",
       "    </tr>\n",
       "    <tr>\n",
       "      <th>4</th>\n",
       "      <td>22.0</td>\n",
       "      <td>NaN</td>\n",
       "      <td>S</td>\n",
       "      <td>12.2875</td>\n",
       "      <td>Hirvonen, Mrs. Alexander (Helga E Lindqvist)</td>\n",
       "      <td>1</td>\n",
       "      <td>896</td>\n",
       "      <td>3</td>\n",
       "      <td>female</td>\n",
       "      <td>1</td>\n",
       "      <td>NaN</td>\n",
       "      <td>3101298</td>\n",
       "    </tr>\n",
       "    <tr>\n",
       "      <th>5</th>\n",
       "      <td>14.0</td>\n",
       "      <td>NaN</td>\n",
       "      <td>S</td>\n",
       "      <td>9.2250</td>\n",
       "      <td>Svensson, Mr. Johan Cervin</td>\n",
       "      <td>0</td>\n",
       "      <td>897</td>\n",
       "      <td>3</td>\n",
       "      <td>male</td>\n",
       "      <td>0</td>\n",
       "      <td>NaN</td>\n",
       "      <td>7538</td>\n",
       "    </tr>\n",
       "    <tr>\n",
       "      <th>6</th>\n",
       "      <td>30.0</td>\n",
       "      <td>NaN</td>\n",
       "      <td>Q</td>\n",
       "      <td>7.6292</td>\n",
       "      <td>Connolly, Miss. Kate</td>\n",
       "      <td>0</td>\n",
       "      <td>898</td>\n",
       "      <td>3</td>\n",
       "      <td>female</td>\n",
       "      <td>0</td>\n",
       "      <td>NaN</td>\n",
       "      <td>330972</td>\n",
       "    </tr>\n",
       "    <tr>\n",
       "      <th>7</th>\n",
       "      <td>26.0</td>\n",
       "      <td>NaN</td>\n",
       "      <td>S</td>\n",
       "      <td>29.0000</td>\n",
       "      <td>Caldwell, Mr. Albert Francis</td>\n",
       "      <td>1</td>\n",
       "      <td>899</td>\n",
       "      <td>2</td>\n",
       "      <td>male</td>\n",
       "      <td>1</td>\n",
       "      <td>NaN</td>\n",
       "      <td>248738</td>\n",
       "    </tr>\n",
       "  </tbody>\n",
       "</table>\n",
       "</div>"
      ],
      "text/plain": [
       "      Age Cabin Embarked     Fare  \\\n",
       "890  32.0   NaN        Q   7.7500   \n",
       "0    34.5   NaN        Q   7.8292   \n",
       "1    47.0   NaN        S   7.0000   \n",
       "2    62.0   NaN        Q   9.6875   \n",
       "3    27.0   NaN        S   8.6625   \n",
       "4    22.0   NaN        S  12.2875   \n",
       "5    14.0   NaN        S   9.2250   \n",
       "6    30.0   NaN        Q   7.6292   \n",
       "7    26.0   NaN        S  29.0000   \n",
       "\n",
       "                                             Name  Parch  PassengerId  Pclass  \\\n",
       "890                           Dooley, Mr. Patrick      0          891       3   \n",
       "0                                Kelly, Mr. James      0          892       3   \n",
       "1                Wilkes, Mrs. James (Ellen Needs)      0          893       3   \n",
       "2                       Myles, Mr. Thomas Francis      0          894       2   \n",
       "3                                Wirz, Mr. Albert      0          895       3   \n",
       "4    Hirvonen, Mrs. Alexander (Helga E Lindqvist)      1          896       3   \n",
       "5                      Svensson, Mr. Johan Cervin      0          897       3   \n",
       "6                            Connolly, Miss. Kate      0          898       3   \n",
       "7                    Caldwell, Mr. Albert Francis      1          899       2   \n",
       "\n",
       "        Sex  SibSp  Survived   Ticket  \n",
       "890    male      0       0.0   370376  \n",
       "0      male      0       NaN   330911  \n",
       "1    female      1       NaN   363272  \n",
       "2      male      0       NaN   240276  \n",
       "3      male      0       NaN   315154  \n",
       "4    female      1       NaN  3101298  \n",
       "5      male      0       NaN     7538  \n",
       "6    female      0       NaN   330972  \n",
       "7      male      1       NaN   248738  "
      ]
     },
     "execution_count": 12,
     "metadata": {},
     "output_type": "execute_result"
    }
   ],
   "source": [
    "data.iloc[890:899]"
   ]
  },
  {
   "cell_type": "code",
   "execution_count": 13,
   "metadata": {
    "ExecuteTime": {
     "end_time": "2018-06-11T17:30:46.440698Z",
     "start_time": "2018-06-11T17:30:46.432711Z"
    },
    "collapsed": true
   },
   "outputs": [],
   "source": [
    "from collections import defaultdict\n",
    "from sklearn.preprocessing import LabelEncoder\n",
    "# le_dict = defaultdict(LabelEncoder)\n",
    "# # Encoding the variable\n",
    "# fit = df.apply(lambda x: le_dict[x.name].fit_transform(x))\n",
    "\n",
    "# # Inverse the encoded\n",
    "# fit.apply(lambda x: le_dict[x.name].inverse_transform(x))\n",
    "\n",
    "# # Using the dictionary to label future data\n",
    "# df.apply(lambda x: le_dict[x.name].transform(x))"
   ]
  },
  {
   "cell_type": "code",
   "execution_count": 14,
   "metadata": {
    "ExecuteTime": {
     "end_time": "2018-06-11T17:30:49.125873Z",
     "start_time": "2018-06-11T17:30:49.112712Z"
    },
    "collapsed": true
   },
   "outputs": [],
   "source": [
    "data[categorical_feature] = data[categorical_feature].apply(LabelEncoder().fit_transform)"
   ]
  },
  {
   "cell_type": "code",
   "execution_count": 15,
   "metadata": {
    "ExecuteTime": {
     "end_time": "2018-06-11T17:30:49.420415Z",
     "start_time": "2018-06-11T17:30:49.411550Z"
    }
   },
   "outputs": [
    {
     "data": {
      "text/plain": [
       "((891, 12), (418, 12))"
      ]
     },
     "execution_count": 15,
     "metadata": {},
     "output_type": "execute_result"
    }
   ],
   "source": [
    "train = data[:len(train)]\n",
    "test = data[len(train):]\n",
    "train.shape, test.shape"
   ]
  },
  {
   "cell_type": "code",
   "execution_count": 16,
   "metadata": {
    "ExecuteTime": {
     "end_time": "2018-06-11T17:30:53.075248Z",
     "start_time": "2018-06-11T17:30:53.071441Z"
    },
    "collapsed": true
   },
   "outputs": [],
   "source": [
    "from sklearn.model_selection import train_test_split"
   ]
  },
  {
   "cell_type": "code",
   "execution_count": 17,
   "metadata": {
    "ExecuteTime": {
     "end_time": "2018-06-11T17:30:53.370986Z",
     "start_time": "2018-06-11T17:30:53.363057Z"
    },
    "collapsed": true
   },
   "outputs": [],
   "source": [
    "X_train, X_val , y_train, y_val = train_test_split(train[feature_cols], train[label_col], test_size=0.33, random_state=42)"
   ]
  },
  {
   "cell_type": "code",
   "execution_count": 18,
   "metadata": {
    "ExecuteTime": {
     "end_time": "2018-06-11T17:30:53.745376Z",
     "start_time": "2018-06-11T17:30:53.742063Z"
    }
   },
   "outputs": [
    {
     "data": {
      "text/plain": [
       "['Sex', 'Pclass', 'Parch', 'Fare', 'Age', 'Embarked', 'SibSp']"
      ]
     },
     "execution_count": 18,
     "metadata": {},
     "output_type": "execute_result"
    }
   ],
   "source": [
    "feature_cols"
   ]
  },
  {
   "cell_type": "code",
   "execution_count": 29,
   "metadata": {
    "ExecuteTime": {
     "end_time": "2018-06-11T17:35:06.944244Z",
     "start_time": "2018-06-11T17:35:06.940529Z"
    },
    "collapsed": true
   },
   "outputs": [],
   "source": [
    "import pdb"
   ]
  },
  {
   "cell_type": "code",
   "execution_count": 19,
   "metadata": {
    "ExecuteTime": {
     "end_time": "2018-06-11T17:30:55.650681Z",
     "start_time": "2018-06-11T17:30:55.631455Z"
    },
    "collapsed": true
   },
   "outputs": [],
   "source": [
    "def get_time(timezone='America/New_York', time_format='%Y-%m-%d %H:%M:%S'):\n",
    "    from datetime import datetime\n",
    "    from dateutil import tz\n",
    "\n",
    "    # METHOD 1: Hardcode zones:\n",
    "    from_zone = tz.gettz('UTC')\n",
    "    to_zone = tz.gettz(timezone)\n",
    "\n",
    "    utc = datetime.utcnow()\n",
    "\n",
    "    # Tell the datetime object that it's in UTC time zone since \n",
    "    # datetime objects are 'naive' by default\n",
    "    utc = utc.replace(tzinfo=from_zone)\n",
    "\n",
    "    # Convert time zone\n",
    "    est = utc.astimezone(to_zone)\n",
    "    \n",
    "    return est.strftime(time_format)"
   ]
  },
  {
   "cell_type": "code",
   "execution_count": 67,
   "metadata": {
    "ExecuteTime": {
     "end_time": "2018-06-11T19:51:41.476319Z",
     "start_time": "2018-06-11T19:51:41.372560Z"
    },
    "collapsed": true
   },
   "outputs": [],
   "source": [
    "def lgb_grid_search(X_train, y_train, X_val, y_val, categorical_feature, search_rounds, filename_for_gs_results, metric='auc', cv=False, nfold=5, verbose_eval=50, X_test=None, preds_save_path=None):\n",
    "    if X_test != None:\n",
    "        if preds_save_path == None:\n",
    "            print('No save path provides, \"SUBS\" will be created at the current directory')\n",
    "            os.makedirs('SUBS/')\n",
    "        else:\n",
    "            if not os.path.exists(preds_save_path):\n",
    "                raise ValueError('{} path does not exist. Mission aborted.'.format())\n",
    "                    \n",
    "    for i in range(search_rounds):\n",
    "#         try:\n",
    "        seed = int(time.time()* 1000000) % 45234634\n",
    "        np.random.seed(seed)\n",
    "        run_id = int(time.time()) # also works as the index of the result dataframe\n",
    "\n",
    "        lgb_train = lgb.Dataset(X_train, y_train, categorical_feature=categorical_feature)#train[feature_cols], train[label_col], categorical_feature=categorical_feature)\n",
    "\n",
    "        lgb_val = lgb.Dataset(X_val, y_val, categorical_feature=categorical_feature)#val[feature_cols], val[label_col], categorical_feature=categorical_feature)\n",
    "\n",
    "        lgb_params = {\n",
    "            'objective': 'binary',\n",
    "            'boosting': 'gbdt',\n",
    "            'num_rounds': 4000,\n",
    "            'learning_rate': np.random.choice([0.1,0.03,0.001]),\n",
    "            'num_leaves': np.random.choice([15,31,61,127]),\n",
    "            'num_threads': 4, # best speed: set to number of real cpu cores, which is vCPU/2\n",
    "#                 'device': 'cpu',\n",
    "            'max_depth': -1, # no limit. This is used to deal with over-fitting when #data is small.\n",
    "        #     'min_data_in_leaf': 390,  #minimal number of data in one leaf. Can be used to deal with over-fitting\n",
    "            'feature_fraction': np.random.randint(3,11)/10,\n",
    "            'feature_fraction_seed': seed,\n",
    "            'early_stopping_round':70,\n",
    "            'bagging_fraction': np.random.randint(3,11)/10, #Randomly select part of data \n",
    "            'bagging_freq': 1, #frequency for bagging, 0 means disable bagging. k means will perform bagging at every k iteration. to enable bagging, bagging_fraction should be set as well\n",
    "            'bagging_seed': seed,\n",
    "            'scale_pos_weight': 2,\n",
    "            'metric' : metric\n",
    "        }\n",
    "#             pp.pprint(lgb_params)\n",
    "\n",
    "        lgb_params['timestamp'] = get_time()\n",
    "        if cv:\n",
    "            eval_hist = lgb.cv(lgb_params, lgb_train, nfold=nfold, \n",
    "                               categorical_feature=categorical_feature, verbose_eval=verbose_eval, seed=seed)\n",
    "            lgb_params['best_round'] = len(eval_hist[metric+'-mean']) \n",
    "            lgb_params['val_'+metric] = eval_hist[metric+'-mean'][-1]\n",
    "            lgb_params['cv'] = True\n",
    "            if X_test != None:\n",
    "                model = lgb.train(lgb_params, lgb_train, valid_sets=lgb_train, verbose_eval=verbose_eval)\n",
    "                y_test = model.predict(X_test)\n",
    "                \n",
    "        else:\n",
    "            model = lgb.train(lgb_params, lgb_train, valid_sets=[lgb_train, lgb_val], verbose_eval=verbose_eval)\n",
    "            lgb_params['best_round'] = model.best_iteration\n",
    "            lgb_params['val_'+metric] = model.best_score['valid_1'][metric]\n",
    "            lgb_params['train_'+metric] = model.best_score['training'][metric]\n",
    "        \n",
    "\n",
    "        for k, v in lgb_params.items():\n",
    "            if isinstance(v, list):\n",
    "                lgb_params[k] = '\"'+str(v)+'\"'\n",
    "                print(lgb_params[k])\n",
    "\n",
    "        res = pd.DataFrame(lgb_params, index=[run_id])\n",
    "\n",
    "        if not os.path.exists(filename_for_gs_results):\n",
    "            res.to_csv(filename_for_gs_results)\n",
    "            print(filename_for_gs_results, 'created')\n",
    "        else:\n",
    "            old_res = pd.read_csv(filename_for_gs_results, index_col='Unnamed: 0')\n",
    "            res = pd.concat([old_res, res])\n",
    "            res.to_csv(filename_for_gs_results)\n",
    "            print(filename_for_gs_results, 'updated')\n",
    "                \n",
    "#         except Exception as e:\n",
    "#             if 'ResourceExhaustedError' in str(type(e)): # can't catch this error directly... \n",
    "#                 print('Oops! ResourceExhaustedError. Continue next round')\n",
    "#                 continue\n",
    "#             else:\n",
    "#                 print(e)\n",
    "#                 break"
   ]
  },
  {
   "cell_type": "code",
   "execution_count": 68,
   "metadata": {
    "ExecuteTime": {
     "end_time": "2018-06-11T19:51:53.609178Z",
     "start_time": "2018-06-11T19:51:52.633123Z"
    }
   },
   "outputs": [
    {
     "name": "stderr",
     "output_type": "stream",
     "text": [
      "/home/kai/anaconda3/lib/python3.6/site-packages/lightgbm/engine.py:390: UserWarning: Found `num_rounds` in params. Will use it instead of argument\n",
      "  warnings.warn(\"Found `{}` in params. Will use it instead of argument\".format(alias))\n",
      "/home/kai/anaconda3/lib/python3.6/site-packages/lightgbm/engine.py:395: UserWarning: Found `early_stopping_round` in params. Will use it instead of argument\n",
      "  warnings.warn(\"Found `{}` in params. Will use it instead of argument\".format(alias))\n"
     ]
    },
    {
     "name": "stdout",
     "output_type": "stream",
     "text": [
      "[50]\tcv_agg's auc: 0.822771 + 0.0307683\n",
      "\"[0, 1, 2, 5, 6]\"\n",
      "test_grid_search.csv updated\n",
      "[50]\tcv_agg's auc: 0.836995 + 0.0137805\n",
      "[100]\tcv_agg's auc: 0.84365 + 0.0140243\n",
      "[150]\tcv_agg's auc: 0.851525 + 0.0176166\n",
      "[200]\tcv_agg's auc: 0.854532 + 0.0154343\n",
      "[250]\tcv_agg's auc: 0.85781 + 0.0161793\n",
      "[300]\tcv_agg's auc: 0.85781 + 0.0181022\n",
      "[350]\tcv_agg's auc: 0.860841 + 0.0199124\n",
      "[400]\tcv_agg's auc: 0.861605 + 0.0180578\n",
      "[450]\tcv_agg's auc: 0.863159 + 0.0163448\n",
      "[500]\tcv_agg's auc: 0.865324 + 0.016476\n",
      "[550]\tcv_agg's auc: 0.868924 + 0.0151539\n",
      "[600]\tcv_agg's auc: 0.867307 + 0.01682\n",
      "\"[0, 1, 2, 5, 6]\"\n",
      "test_grid_search.csv updated\n"
     ]
    }
   ],
   "source": [
    "lgb_grid_search(X_train, y_train, X_val, y_val, \n",
    "                categorical_feature=categorical_feature, search_rounds=2, \n",
    "                filename_for_gs_results=unique_gs_name, cv=True)"
   ]
  },
  {
   "cell_type": "code",
   "execution_count": 69,
   "metadata": {
    "ExecuteTime": {
     "end_time": "2018-06-11T19:52:01.417445Z",
     "start_time": "2018-06-11T19:52:01.408083Z"
    },
    "collapsed": true
   },
   "outputs": [],
   "source": [
    "t1 = pd.read_csv(unique_gs_name, index_col='Unnamed: 0').sort_values(by=['val_auc'], ascending=False)"
   ]
  },
  {
   "cell_type": "code",
   "execution_count": 70,
   "metadata": {
    "ExecuteTime": {
     "end_time": "2018-06-11T19:52:01.815290Z",
     "start_time": "2018-06-11T19:52:01.792095Z"
    }
   },
   "outputs": [
    {
     "data": {
      "text/html": [
       "<div>\n",
       "<style>\n",
       "    .dataframe thead tr:only-child th {\n",
       "        text-align: right;\n",
       "    }\n",
       "\n",
       "    .dataframe thead th {\n",
       "        text-align: left;\n",
       "    }\n",
       "\n",
       "    .dataframe tbody tr th {\n",
       "        vertical-align: top;\n",
       "    }\n",
       "</style>\n",
       "<table border=\"1\" class=\"dataframe\">\n",
       "  <thead>\n",
       "    <tr style=\"text-align: right;\">\n",
       "      <th></th>\n",
       "      <th>bagging_fraction</th>\n",
       "      <th>bagging_freq</th>\n",
       "      <th>bagging_seed</th>\n",
       "      <th>best_round</th>\n",
       "      <th>boosting</th>\n",
       "      <th>categorical_column</th>\n",
       "      <th>cv_val_auc</th>\n",
       "      <th>device</th>\n",
       "      <th>feature_fraction</th>\n",
       "      <th>feature_fraction_seed</th>\n",
       "      <th>...</th>\n",
       "      <th>max_depth</th>\n",
       "      <th>metric</th>\n",
       "      <th>num_leaves</th>\n",
       "      <th>num_threads</th>\n",
       "      <th>objective</th>\n",
       "      <th>scale_pos_weight</th>\n",
       "      <th>timestamp</th>\n",
       "      <th>train_auc</th>\n",
       "      <th>val_auc</th>\n",
       "      <th>verbose</th>\n",
       "    </tr>\n",
       "  </thead>\n",
       "  <tbody>\n",
       "    <tr>\n",
       "      <th>1528746580</th>\n",
       "      <td>0.9</td>\n",
       "      <td>1</td>\n",
       "      <td>10686593</td>\n",
       "      <td>26</td>\n",
       "      <td>gbdt</td>\n",
       "      <td>\"[0, 1, 2, 5, 6]\"</td>\n",
       "      <td>NaN</td>\n",
       "      <td>NaN</td>\n",
       "      <td>0.9</td>\n",
       "      <td>10686593</td>\n",
       "      <td>...</td>\n",
       "      <td>-1</td>\n",
       "      <td>auc</td>\n",
       "      <td>31</td>\n",
       "      <td>4</td>\n",
       "      <td>binary</td>\n",
       "      <td>2.0</td>\n",
       "      <td>2018-06-11 15:49:40</td>\n",
       "      <td>0.938575</td>\n",
       "      <td>0.887643</td>\n",
       "      <td>1</td>\n",
       "    </tr>\n",
       "    <tr>\n",
       "      <th>1528737157</th>\n",
       "      <td>0.7</td>\n",
       "      <td>1</td>\n",
       "      <td>41646154</td>\n",
       "      <td>25</td>\n",
       "      <td>gbdt</td>\n",
       "      <td>\"[0, 1, 2, 3, 6]\"</td>\n",
       "      <td>NaN</td>\n",
       "      <td>NaN</td>\n",
       "      <td>0.8</td>\n",
       "      <td>41646154</td>\n",
       "      <td>...</td>\n",
       "      <td>-1</td>\n",
       "      <td>\"['auc']\"</td>\n",
       "      <td>31</td>\n",
       "      <td>4</td>\n",
       "      <td>binary</td>\n",
       "      <td>2.0</td>\n",
       "      <td>2018-06-11 13:12:37</td>\n",
       "      <td>0.919702</td>\n",
       "      <td>0.886262</td>\n",
       "      <td>1</td>\n",
       "    </tr>\n",
       "    <tr>\n",
       "      <th>1528668075</th>\n",
       "      <td>0.7</td>\n",
       "      <td>1</td>\n",
       "      <td>1</td>\n",
       "      <td>160</td>\n",
       "      <td>gbdt</td>\n",
       "      <td>\"[0, 1, 2, 3, 6]\"</td>\n",
       "      <td>NaN</td>\n",
       "      <td>cpu</td>\n",
       "      <td>0.7</td>\n",
       "      <td>1</td>\n",
       "      <td>...</td>\n",
       "      <td>-1</td>\n",
       "      <td>\"['auc']\"</td>\n",
       "      <td>127</td>\n",
       "      <td>4</td>\n",
       "      <td>binary</td>\n",
       "      <td>NaN</td>\n",
       "      <td>NaN</td>\n",
       "      <td>0.933468</td>\n",
       "      <td>0.885929</td>\n",
       "      <td>0</td>\n",
       "    </tr>\n",
       "    <tr>\n",
       "      <th>1528667347</th>\n",
       "      <td>0.7</td>\n",
       "      <td>1</td>\n",
       "      <td>1</td>\n",
       "      <td>158</td>\n",
       "      <td>gbdt</td>\n",
       "      <td>\"[0, 1, 2, 3, 6]\"</td>\n",
       "      <td>NaN</td>\n",
       "      <td>cpu</td>\n",
       "      <td>0.7</td>\n",
       "      <td>1</td>\n",
       "      <td>...</td>\n",
       "      <td>-1</td>\n",
       "      <td>\"['auc']\"</td>\n",
       "      <td>15</td>\n",
       "      <td>4</td>\n",
       "      <td>binary</td>\n",
       "      <td>NaN</td>\n",
       "      <td>NaN</td>\n",
       "      <td>0.931854</td>\n",
       "      <td>0.885881</td>\n",
       "      <td>0</td>\n",
       "    </tr>\n",
       "    <tr>\n",
       "      <th>1528746580</th>\n",
       "      <td>0.7</td>\n",
       "      <td>1</td>\n",
       "      <td>10774865</td>\n",
       "      <td>139</td>\n",
       "      <td>gbdt</td>\n",
       "      <td>\"[0, 1, 2, 5, 6]\"</td>\n",
       "      <td>NaN</td>\n",
       "      <td>NaN</td>\n",
       "      <td>0.8</td>\n",
       "      <td>10774865</td>\n",
       "      <td>...</td>\n",
       "      <td>-1</td>\n",
       "      <td>auc</td>\n",
       "      <td>61</td>\n",
       "      <td>4</td>\n",
       "      <td>binary</td>\n",
       "      <td>2.0</td>\n",
       "      <td>2018-06-11 15:49:40</td>\n",
       "      <td>0.892916</td>\n",
       "      <td>0.883619</td>\n",
       "      <td>1</td>\n",
       "    </tr>\n",
       "    <tr>\n",
       "      <th>1528737157</th>\n",
       "      <td>0.3</td>\n",
       "      <td>1</td>\n",
       "      <td>41827884</td>\n",
       "      <td>64</td>\n",
       "      <td>gbdt</td>\n",
       "      <td>\"[0, 1, 2, 3, 6]\"</td>\n",
       "      <td>NaN</td>\n",
       "      <td>NaN</td>\n",
       "      <td>0.7</td>\n",
       "      <td>41827884</td>\n",
       "      <td>...</td>\n",
       "      <td>-1</td>\n",
       "      <td>\"['auc']\"</td>\n",
       "      <td>127</td>\n",
       "      <td>4</td>\n",
       "      <td>binary</td>\n",
       "      <td>2.0</td>\n",
       "      <td>2018-06-11 13:12:37</td>\n",
       "      <td>0.897535</td>\n",
       "      <td>0.883190</td>\n",
       "      <td>1</td>\n",
       "    </tr>\n",
       "    <tr>\n",
       "      <th>1528734235</th>\n",
       "      <td>0.7</td>\n",
       "      <td>1</td>\n",
       "      <td>1</td>\n",
       "      <td>36</td>\n",
       "      <td>gbdt</td>\n",
       "      <td>\"[0, 1, 2, 3, 6]\"</td>\n",
       "      <td>NaN</td>\n",
       "      <td>cpu</td>\n",
       "      <td>0.7</td>\n",
       "      <td>1</td>\n",
       "      <td>...</td>\n",
       "      <td>-1</td>\n",
       "      <td>\"['auc']\"</td>\n",
       "      <td>127</td>\n",
       "      <td>4</td>\n",
       "      <td>binary</td>\n",
       "      <td>2.0</td>\n",
       "      <td>2018-06-11 12:23:55</td>\n",
       "      <td>0.927247</td>\n",
       "      <td>0.882119</td>\n",
       "      <td>0</td>\n",
       "    </tr>\n",
       "    <tr>\n",
       "      <th>1528734457</th>\n",
       "      <td>0.7</td>\n",
       "      <td>1</td>\n",
       "      <td>1</td>\n",
       "      <td>36</td>\n",
       "      <td>gbdt</td>\n",
       "      <td>\"[0, 1, 2, 3, 6]\"</td>\n",
       "      <td>NaN</td>\n",
       "      <td>cpu</td>\n",
       "      <td>0.7</td>\n",
       "      <td>1</td>\n",
       "      <td>...</td>\n",
       "      <td>-1</td>\n",
       "      <td>\"['auc']\"</td>\n",
       "      <td>31</td>\n",
       "      <td>4</td>\n",
       "      <td>binary</td>\n",
       "      <td>2.0</td>\n",
       "      <td>2018-06-11 12:27:37</td>\n",
       "      <td>0.927247</td>\n",
       "      <td>0.882119</td>\n",
       "      <td>1</td>\n",
       "    </tr>\n",
       "    <tr>\n",
       "      <th>1528734457</th>\n",
       "      <td>0.7</td>\n",
       "      <td>1</td>\n",
       "      <td>1</td>\n",
       "      <td>36</td>\n",
       "      <td>gbdt</td>\n",
       "      <td>\"[0, 1, 2, 3, 6]\"</td>\n",
       "      <td>NaN</td>\n",
       "      <td>cpu</td>\n",
       "      <td>0.7</td>\n",
       "      <td>1</td>\n",
       "      <td>...</td>\n",
       "      <td>-1</td>\n",
       "      <td>\"['auc']\"</td>\n",
       "      <td>31</td>\n",
       "      <td>4</td>\n",
       "      <td>binary</td>\n",
       "      <td>2.0</td>\n",
       "      <td>2018-06-11 12:27:38</td>\n",
       "      <td>0.927247</td>\n",
       "      <td>0.882119</td>\n",
       "      <td>1</td>\n",
       "    </tr>\n",
       "    <tr>\n",
       "      <th>1528668143</th>\n",
       "      <td>0.7</td>\n",
       "      <td>1</td>\n",
       "      <td>1</td>\n",
       "      <td>161</td>\n",
       "      <td>gbdt</td>\n",
       "      <td>\"[0, 1, 2, 3, 6]\"</td>\n",
       "      <td>NaN</td>\n",
       "      <td>cpu</td>\n",
       "      <td>0.7</td>\n",
       "      <td>1</td>\n",
       "      <td>...</td>\n",
       "      <td>-1</td>\n",
       "      <td>\"['auc']\"</td>\n",
       "      <td>15</td>\n",
       "      <td>4</td>\n",
       "      <td>binary</td>\n",
       "      <td>2.0</td>\n",
       "      <td>NaN</td>\n",
       "      <td>0.887454</td>\n",
       "      <td>0.876667</td>\n",
       "      <td>0</td>\n",
       "    </tr>\n",
       "    <tr>\n",
       "      <th>1528734458</th>\n",
       "      <td>0.7</td>\n",
       "      <td>1</td>\n",
       "      <td>1</td>\n",
       "      <td>161</td>\n",
       "      <td>gbdt</td>\n",
       "      <td>\"[0, 1, 2, 3, 6]\"</td>\n",
       "      <td>NaN</td>\n",
       "      <td>cpu</td>\n",
       "      <td>0.7</td>\n",
       "      <td>1</td>\n",
       "      <td>...</td>\n",
       "      <td>-1</td>\n",
       "      <td>\"['auc']\"</td>\n",
       "      <td>31</td>\n",
       "      <td>4</td>\n",
       "      <td>binary</td>\n",
       "      <td>2.0</td>\n",
       "      <td>2018-06-11 12:27:38</td>\n",
       "      <td>0.887779</td>\n",
       "      <td>0.876429</td>\n",
       "      <td>1</td>\n",
       "    </tr>\n",
       "    <tr>\n",
       "      <th>1528734458</th>\n",
       "      <td>0.7</td>\n",
       "      <td>1</td>\n",
       "      <td>1</td>\n",
       "      <td>161</td>\n",
       "      <td>gbdt</td>\n",
       "      <td>\"[0, 1, 2, 3, 6]\"</td>\n",
       "      <td>NaN</td>\n",
       "      <td>cpu</td>\n",
       "      <td>0.7</td>\n",
       "      <td>1</td>\n",
       "      <td>...</td>\n",
       "      <td>-1</td>\n",
       "      <td>\"['auc']\"</td>\n",
       "      <td>61</td>\n",
       "      <td>4</td>\n",
       "      <td>binary</td>\n",
       "      <td>2.0</td>\n",
       "      <td>2018-06-11 12:27:38</td>\n",
       "      <td>0.887779</td>\n",
       "      <td>0.876429</td>\n",
       "      <td>1</td>\n",
       "    </tr>\n",
       "    <tr>\n",
       "      <th>1528734458</th>\n",
       "      <td>0.7</td>\n",
       "      <td>1</td>\n",
       "      <td>1</td>\n",
       "      <td>161</td>\n",
       "      <td>gbdt</td>\n",
       "      <td>\"[0, 1, 2, 3, 6]\"</td>\n",
       "      <td>NaN</td>\n",
       "      <td>cpu</td>\n",
       "      <td>0.7</td>\n",
       "      <td>1</td>\n",
       "      <td>...</td>\n",
       "      <td>-1</td>\n",
       "      <td>\"['auc']\"</td>\n",
       "      <td>127</td>\n",
       "      <td>4</td>\n",
       "      <td>binary</td>\n",
       "      <td>2.0</td>\n",
       "      <td>2018-06-11 12:27:38</td>\n",
       "      <td>0.887779</td>\n",
       "      <td>0.876429</td>\n",
       "      <td>1</td>\n",
       "    </tr>\n",
       "    <tr>\n",
       "      <th>1528734235</th>\n",
       "      <td>0.7</td>\n",
       "      <td>1</td>\n",
       "      <td>1</td>\n",
       "      <td>0</td>\n",
       "      <td>gbdt</td>\n",
       "      <td>\"[0, 1, 2, 3, 6]\"</td>\n",
       "      <td>NaN</td>\n",
       "      <td>cpu</td>\n",
       "      <td>0.7</td>\n",
       "      <td>1</td>\n",
       "      <td>...</td>\n",
       "      <td>-1</td>\n",
       "      <td>\"['auc']\"</td>\n",
       "      <td>127</td>\n",
       "      <td>4</td>\n",
       "      <td>binary</td>\n",
       "      <td>2.0</td>\n",
       "      <td>2018-06-11 12:23:55</td>\n",
       "      <td>0.962994</td>\n",
       "      <td>0.867548</td>\n",
       "      <td>0</td>\n",
       "    </tr>\n",
       "    <tr>\n",
       "      <th>1528737157</th>\n",
       "      <td>0.8</td>\n",
       "      <td>1</td>\n",
       "      <td>41893957</td>\n",
       "      <td>12</td>\n",
       "      <td>gbdt</td>\n",
       "      <td>\"[0, 1, 2, 3, 6]\"</td>\n",
       "      <td>NaN</td>\n",
       "      <td>NaN</td>\n",
       "      <td>0.3</td>\n",
       "      <td>41893957</td>\n",
       "      <td>...</td>\n",
       "      <td>-1</td>\n",
       "      <td>\"['auc']\"</td>\n",
       "      <td>31</td>\n",
       "      <td>4</td>\n",
       "      <td>binary</td>\n",
       "      <td>2.0</td>\n",
       "      <td>2018-06-11 13:12:37</td>\n",
       "      <td>0.873157</td>\n",
       "      <td>0.834952</td>\n",
       "      <td>1</td>\n",
       "    </tr>\n",
       "    <tr>\n",
       "      <th>1528746598</th>\n",
       "      <td>0.8</td>\n",
       "      <td>1</td>\n",
       "      <td>29037102</td>\n",
       "      <td>17</td>\n",
       "      <td>gbdt</td>\n",
       "      <td>\"[0, 1, 2, 5, 6]\"</td>\n",
       "      <td>\"[0.65593634543634549, 0.79612789152789154, 0....</td>\n",
       "      <td>NaN</td>\n",
       "      <td>0.8</td>\n",
       "      <td>29037102</td>\n",
       "      <td>...</td>\n",
       "      <td>-1</td>\n",
       "      <td>auc</td>\n",
       "      <td>127</td>\n",
       "      <td>4</td>\n",
       "      <td>binary</td>\n",
       "      <td>2.0</td>\n",
       "      <td>2018-06-11 15:49:58</td>\n",
       "      <td>NaN</td>\n",
       "      <td>NaN</td>\n",
       "      <td>1</td>\n",
       "    </tr>\n",
       "    <tr>\n",
       "      <th>1528746598</th>\n",
       "      <td>0.5</td>\n",
       "      <td>1</td>\n",
       "      <td>29264180</td>\n",
       "      <td>222</td>\n",
       "      <td>gbdt</td>\n",
       "      <td>\"[0, 1, 2, 5, 6]\"</td>\n",
       "      <td>\"[0.78448407498407502, 0.80431076531076529, 0....</td>\n",
       "      <td>NaN</td>\n",
       "      <td>0.8</td>\n",
       "      <td>29264180</td>\n",
       "      <td>...</td>\n",
       "      <td>-1</td>\n",
       "      <td>auc</td>\n",
       "      <td>127</td>\n",
       "      <td>4</td>\n",
       "      <td>binary</td>\n",
       "      <td>2.0</td>\n",
       "      <td>2018-06-11 15:49:58</td>\n",
       "      <td>NaN</td>\n",
       "      <td>NaN</td>\n",
       "      <td>1</td>\n",
       "    </tr>\n",
       "    <tr>\n",
       "      <th>1528746712</th>\n",
       "      <td>0.6</td>\n",
       "      <td>1</td>\n",
       "      <td>7457495</td>\n",
       "      <td>9</td>\n",
       "      <td>gbdt</td>\n",
       "      <td>\"[0, 1, 2, 5, 6]\"</td>\n",
       "      <td>0.8388476840476841</td>\n",
       "      <td>NaN</td>\n",
       "      <td>0.3</td>\n",
       "      <td>7457495</td>\n",
       "      <td>...</td>\n",
       "      <td>-1</td>\n",
       "      <td>auc</td>\n",
       "      <td>31</td>\n",
       "      <td>4</td>\n",
       "      <td>binary</td>\n",
       "      <td>2.0</td>\n",
       "      <td>2018-06-11 15:51:52</td>\n",
       "      <td>NaN</td>\n",
       "      <td>NaN</td>\n",
       "      <td>1</td>\n",
       "    </tr>\n",
       "    <tr>\n",
       "      <th>1528746712</th>\n",
       "      <td>0.4</td>\n",
       "      <td>1</td>\n",
       "      <td>7587139</td>\n",
       "      <td>551</td>\n",
       "      <td>gbdt</td>\n",
       "      <td>\"[0, 1, 2, 5, 6]\"</td>\n",
       "      <td>0.8693990990990992</td>\n",
       "      <td>NaN</td>\n",
       "      <td>0.7</td>\n",
       "      <td>7587139</td>\n",
       "      <td>...</td>\n",
       "      <td>-1</td>\n",
       "      <td>auc</td>\n",
       "      <td>15</td>\n",
       "      <td>4</td>\n",
       "      <td>binary</td>\n",
       "      <td>2.0</td>\n",
       "      <td>2018-06-11 15:51:52</td>\n",
       "      <td>NaN</td>\n",
       "      <td>NaN</td>\n",
       "      <td>1</td>\n",
       "    </tr>\n",
       "  </tbody>\n",
       "</table>\n",
       "<p>19 rows × 21 columns</p>\n",
       "</div>"
      ],
      "text/plain": [
       "            bagging_fraction  bagging_freq  bagging_seed  best_round boosting  \\\n",
       "1528746580               0.9             1      10686593          26     gbdt   \n",
       "1528737157               0.7             1      41646154          25     gbdt   \n",
       "1528668075               0.7             1             1         160     gbdt   \n",
       "1528667347               0.7             1             1         158     gbdt   \n",
       "1528746580               0.7             1      10774865         139     gbdt   \n",
       "1528737157               0.3             1      41827884          64     gbdt   \n",
       "1528734235               0.7             1             1          36     gbdt   \n",
       "1528734457               0.7             1             1          36     gbdt   \n",
       "1528734457               0.7             1             1          36     gbdt   \n",
       "1528668143               0.7             1             1         161     gbdt   \n",
       "1528734458               0.7             1             1         161     gbdt   \n",
       "1528734458               0.7             1             1         161     gbdt   \n",
       "1528734458               0.7             1             1         161     gbdt   \n",
       "1528734235               0.7             1             1           0     gbdt   \n",
       "1528737157               0.8             1      41893957          12     gbdt   \n",
       "1528746598               0.8             1      29037102          17     gbdt   \n",
       "1528746598               0.5             1      29264180         222     gbdt   \n",
       "1528746712               0.6             1       7457495           9     gbdt   \n",
       "1528746712               0.4             1       7587139         551     gbdt   \n",
       "\n",
       "           categorical_column  \\\n",
       "1528746580  \"[0, 1, 2, 5, 6]\"   \n",
       "1528737157  \"[0, 1, 2, 3, 6]\"   \n",
       "1528668075  \"[0, 1, 2, 3, 6]\"   \n",
       "1528667347  \"[0, 1, 2, 3, 6]\"   \n",
       "1528746580  \"[0, 1, 2, 5, 6]\"   \n",
       "1528737157  \"[0, 1, 2, 3, 6]\"   \n",
       "1528734235  \"[0, 1, 2, 3, 6]\"   \n",
       "1528734457  \"[0, 1, 2, 3, 6]\"   \n",
       "1528734457  \"[0, 1, 2, 3, 6]\"   \n",
       "1528668143  \"[0, 1, 2, 3, 6]\"   \n",
       "1528734458  \"[0, 1, 2, 3, 6]\"   \n",
       "1528734458  \"[0, 1, 2, 3, 6]\"   \n",
       "1528734458  \"[0, 1, 2, 3, 6]\"   \n",
       "1528734235  \"[0, 1, 2, 3, 6]\"   \n",
       "1528737157  \"[0, 1, 2, 3, 6]\"   \n",
       "1528746598  \"[0, 1, 2, 5, 6]\"   \n",
       "1528746598  \"[0, 1, 2, 5, 6]\"   \n",
       "1528746712  \"[0, 1, 2, 5, 6]\"   \n",
       "1528746712  \"[0, 1, 2, 5, 6]\"   \n",
       "\n",
       "                                                   cv_val_auc device  \\\n",
       "1528746580                                                NaN    NaN   \n",
       "1528737157                                                NaN    NaN   \n",
       "1528668075                                                NaN    cpu   \n",
       "1528667347                                                NaN    cpu   \n",
       "1528746580                                                NaN    NaN   \n",
       "1528737157                                                NaN    NaN   \n",
       "1528734235                                                NaN    cpu   \n",
       "1528734457                                                NaN    cpu   \n",
       "1528734457                                                NaN    cpu   \n",
       "1528668143                                                NaN    cpu   \n",
       "1528734458                                                NaN    cpu   \n",
       "1528734458                                                NaN    cpu   \n",
       "1528734458                                                NaN    cpu   \n",
       "1528734235                                                NaN    cpu   \n",
       "1528737157                                                NaN    NaN   \n",
       "1528746598  \"[0.65593634543634549, 0.79612789152789154, 0....    NaN   \n",
       "1528746598  \"[0.78448407498407502, 0.80431076531076529, 0....    NaN   \n",
       "1528746712                                 0.8388476840476841    NaN   \n",
       "1528746712                                 0.8693990990990992    NaN   \n",
       "\n",
       "            feature_fraction  feature_fraction_seed   ...     max_depth  \\\n",
       "1528746580               0.9               10686593   ...            -1   \n",
       "1528737157               0.8               41646154   ...            -1   \n",
       "1528668075               0.7                      1   ...            -1   \n",
       "1528667347               0.7                      1   ...            -1   \n",
       "1528746580               0.8               10774865   ...            -1   \n",
       "1528737157               0.7               41827884   ...            -1   \n",
       "1528734235               0.7                      1   ...            -1   \n",
       "1528734457               0.7                      1   ...            -1   \n",
       "1528734457               0.7                      1   ...            -1   \n",
       "1528668143               0.7                      1   ...            -1   \n",
       "1528734458               0.7                      1   ...            -1   \n",
       "1528734458               0.7                      1   ...            -1   \n",
       "1528734458               0.7                      1   ...            -1   \n",
       "1528734235               0.7                      1   ...            -1   \n",
       "1528737157               0.3               41893957   ...            -1   \n",
       "1528746598               0.8               29037102   ...            -1   \n",
       "1528746598               0.8               29264180   ...            -1   \n",
       "1528746712               0.3                7457495   ...            -1   \n",
       "1528746712               0.7                7587139   ...            -1   \n",
       "\n",
       "               metric num_leaves  num_threads  objective scale_pos_weight  \\\n",
       "1528746580        auc         31            4     binary              2.0   \n",
       "1528737157  \"['auc']\"         31            4     binary              2.0   \n",
       "1528668075  \"['auc']\"        127            4     binary              NaN   \n",
       "1528667347  \"['auc']\"         15            4     binary              NaN   \n",
       "1528746580        auc         61            4     binary              2.0   \n",
       "1528737157  \"['auc']\"        127            4     binary              2.0   \n",
       "1528734235  \"['auc']\"        127            4     binary              2.0   \n",
       "1528734457  \"['auc']\"         31            4     binary              2.0   \n",
       "1528734457  \"['auc']\"         31            4     binary              2.0   \n",
       "1528668143  \"['auc']\"         15            4     binary              2.0   \n",
       "1528734458  \"['auc']\"         31            4     binary              2.0   \n",
       "1528734458  \"['auc']\"         61            4     binary              2.0   \n",
       "1528734458  \"['auc']\"        127            4     binary              2.0   \n",
       "1528734235  \"['auc']\"        127            4     binary              2.0   \n",
       "1528737157  \"['auc']\"         31            4     binary              2.0   \n",
       "1528746598        auc        127            4     binary              2.0   \n",
       "1528746598        auc        127            4     binary              2.0   \n",
       "1528746712        auc         31            4     binary              2.0   \n",
       "1528746712        auc         15            4     binary              2.0   \n",
       "\n",
       "                      timestamp train_auc   val_auc  verbose  \n",
       "1528746580  2018-06-11 15:49:40  0.938575  0.887643        1  \n",
       "1528737157  2018-06-11 13:12:37  0.919702  0.886262        1  \n",
       "1528668075                  NaN  0.933468  0.885929        0  \n",
       "1528667347                  NaN  0.931854  0.885881        0  \n",
       "1528746580  2018-06-11 15:49:40  0.892916  0.883619        1  \n",
       "1528737157  2018-06-11 13:12:37  0.897535  0.883190        1  \n",
       "1528734235  2018-06-11 12:23:55  0.927247  0.882119        0  \n",
       "1528734457  2018-06-11 12:27:37  0.927247  0.882119        1  \n",
       "1528734457  2018-06-11 12:27:38  0.927247  0.882119        1  \n",
       "1528668143                  NaN  0.887454  0.876667        0  \n",
       "1528734458  2018-06-11 12:27:38  0.887779  0.876429        1  \n",
       "1528734458  2018-06-11 12:27:38  0.887779  0.876429        1  \n",
       "1528734458  2018-06-11 12:27:38  0.887779  0.876429        1  \n",
       "1528734235  2018-06-11 12:23:55  0.962994  0.867548        0  \n",
       "1528737157  2018-06-11 13:12:37  0.873157  0.834952        1  \n",
       "1528746598  2018-06-11 15:49:58       NaN       NaN        1  \n",
       "1528746598  2018-06-11 15:49:58       NaN       NaN        1  \n",
       "1528746712  2018-06-11 15:51:52       NaN       NaN        1  \n",
       "1528746712  2018-06-11 15:51:52       NaN       NaN        1  \n",
       "\n",
       "[19 rows x 21 columns]"
      ]
     },
     "execution_count": 70,
     "metadata": {},
     "output_type": "execute_result"
    }
   ],
   "source": [
    "t1"
   ]
  },
  {
   "cell_type": "code",
   "execution_count": 101,
   "metadata": {
    "ExecuteTime": {
     "end_time": "2018-06-10T21:49:53.614017Z",
     "start_time": "2018-06-10T21:49:53.606206Z"
    },
    "collapsed": true
   },
   "outputs": [],
   "source": [
    "temp = pd.read_csv(unique_gs_name)"
   ]
  },
  {
   "cell_type": "code",
   "execution_count": 57,
   "metadata": {
    "ExecuteTime": {
     "end_time": "2018-06-10T21:23:00.544419Z",
     "start_time": "2018-06-10T21:23:00.539411Z"
    }
   },
   "outputs": [
    {
     "data": {
      "text/plain": [
       "'objective,boosting,learning_rate,num_leaves,num_threads,device,max_depth,feature_fraction,feature_fraction_seed,bagging_fraction,bagging_freq,bagging_seed,verbose,metric,categorical_column,best_round,val_auc,train_auc\\n'"
      ]
     },
     "execution_count": 57,
     "metadata": {},
     "output_type": "execute_result"
    }
   ],
   "source": [
    "results_header"
   ]
  },
  {
   "cell_type": "code",
   "execution_count": 60,
   "metadata": {
    "ExecuteTime": {
     "end_time": "2018-06-10T21:23:45.941152Z",
     "start_time": "2018-06-10T21:23:45.935434Z"
    }
   },
   "outputs": [
    {
     "data": {
      "text/plain": [
       "['objective',\n",
       " 'boosting',\n",
       " 'learning_rate',\n",
       " 'num_leaves',\n",
       " 'num_threads',\n",
       " 'device',\n",
       " 'max_depth',\n",
       " 'feature_fraction',\n",
       " 'feature_fraction_seed',\n",
       " 'bagging_fraction',\n",
       " 'bagging_freq',\n",
       " 'bagging_seed',\n",
       " 'verbose',\n",
       " 'metric',\n",
       " 'categorical_column',\n",
       " 'best_round',\n",
       " 'val_auc',\n",
       " 'train_auc']"
      ]
     },
     "execution_count": 60,
     "metadata": {},
     "output_type": "execute_result"
    }
   ],
   "source": [
    "list(params_wrapper.keys())"
   ]
  },
  {
   "cell_type": "code",
   "execution_count": 64,
   "metadata": {
    "ExecuteTime": {
     "end_time": "2018-06-10T21:24:46.411381Z",
     "start_time": "2018-06-10T21:24:46.405078Z"
    }
   },
   "outputs": [
    {
     "data": {
      "text/plain": [
       "0"
      ]
     },
     "execution_count": 64,
     "metadata": {},
     "output_type": "execute_result"
    }
   ],
   "source": [
    "np.sum(res.columns.values != list(params_wrapper.keys()))"
   ]
  },
  {
   "cell_type": "code",
   "execution_count": null,
   "metadata": {
    "collapsed": true
   },
   "outputs": [],
   "source": []
  },
  {
   "cell_type": "code",
   "execution_count": 50,
   "metadata": {
    "ExecuteTime": {
     "end_time": "2018-06-10T21:20:33.466870Z",
     "start_time": "2018-06-10T21:20:33.463069Z"
    },
    "collapsed": true
   },
   "outputs": [],
   "source": [
    "old_head = "
   ]
  },
  {
   "cell_type": "code",
   "execution_count": 51,
   "metadata": {
    "ExecuteTime": {
     "end_time": "2018-06-10T21:20:36.838786Z",
     "start_time": "2018-06-10T21:20:36.822246Z"
    }
   },
   "outputs": [
    {
     "data": {
      "text/plain": [
       "<bound method NDFrame.head of   objective boosting  learning_rate  num_leaves  num_threads device  \\\n",
       "0    binary     gbdt            0.1          31            4    cpu   \n",
       "\n",
       "   max_depth  feature_fraction  feature_fraction_seed  bagging_fraction  \\\n",
       "0         -1               0.7                      1               0.7   \n",
       "\n",
       "   bagging_freq  bagging_seed  verbose   metric categorical_column  \\\n",
       "0             1             1        0  ['auc']    [0, 1, 2, 3, 6]   \n",
       "\n",
       "   best_round   val_auc  train_auc  \n",
       "0          45  0.884071   0.928867  >"
      ]
     },
     "execution_count": 51,
     "metadata": {},
     "output_type": "execute_result"
    }
   ],
   "source": [
    "old_head"
   ]
  },
  {
   "cell_type": "code",
   "execution_count": 49,
   "metadata": {
    "ExecuteTime": {
     "end_time": "2018-06-10T21:18:52.587127Z",
     "start_time": "2018-06-10T21:18:52.564302Z"
    }
   },
   "outputs": [
    {
     "data": {
      "text/html": [
       "<div>\n",
       "<style>\n",
       "    .dataframe thead tr:only-child th {\n",
       "        text-align: right;\n",
       "    }\n",
       "\n",
       "    .dataframe thead th {\n",
       "        text-align: left;\n",
       "    }\n",
       "\n",
       "    .dataframe tbody tr th {\n",
       "        vertical-align: top;\n",
       "    }\n",
       "</style>\n",
       "<table border=\"1\" class=\"dataframe\">\n",
       "  <thead>\n",
       "    <tr style=\"text-align: right;\">\n",
       "      <th></th>\n",
       "      <th>objective</th>\n",
       "      <th>boosting</th>\n",
       "      <th>learning_rate</th>\n",
       "      <th>num_leaves</th>\n",
       "      <th>num_threads</th>\n",
       "      <th>device</th>\n",
       "      <th>max_depth</th>\n",
       "      <th>feature_fraction</th>\n",
       "      <th>feature_fraction_seed</th>\n",
       "      <th>bagging_fraction</th>\n",
       "      <th>bagging_freq</th>\n",
       "      <th>bagging_seed</th>\n",
       "      <th>verbose</th>\n",
       "      <th>metric</th>\n",
       "      <th>categorical_column</th>\n",
       "      <th>best_round</th>\n",
       "      <th>val_auc</th>\n",
       "      <th>train_auc</th>\n",
       "    </tr>\n",
       "  </thead>\n",
       "  <tbody>\n",
       "    <tr>\n",
       "      <th>0</th>\n",
       "      <td>binary</td>\n",
       "      <td>gbdt</td>\n",
       "      <td>0.1</td>\n",
       "      <td>31</td>\n",
       "      <td>4</td>\n",
       "      <td>cpu</td>\n",
       "      <td>-1</td>\n",
       "      <td>0.7</td>\n",
       "      <td>1</td>\n",
       "      <td>0.7</td>\n",
       "      <td>1</td>\n",
       "      <td>1</td>\n",
       "      <td>0</td>\n",
       "      <td>['auc']</td>\n",
       "      <td>[0, 1, 2, 3, 6]</td>\n",
       "      <td>45</td>\n",
       "      <td>0.884071</td>\n",
       "      <td>0.928867</td>\n",
       "    </tr>\n",
       "  </tbody>\n",
       "</table>\n",
       "</div>"
      ],
      "text/plain": [
       "  objective boosting  learning_rate  num_leaves  num_threads device  \\\n",
       "0    binary     gbdt            0.1          31            4    cpu   \n",
       "\n",
       "   max_depth  feature_fraction  feature_fraction_seed  bagging_fraction  \\\n",
       "0         -1               0.7                      1               0.7   \n",
       "\n",
       "   bagging_freq  bagging_seed  verbose   metric categorical_column  \\\n",
       "0             1             1        0  ['auc']    [0, 1, 2, 3, 6]   \n",
       "\n",
       "   best_round   val_auc  train_auc  \n",
       "0          45  0.884071   0.928867  "
      ]
     },
     "execution_count": 49,
     "metadata": {},
     "output_type": "execute_result"
    }
   ],
   "source": [
    "res.head()"
   ]
  },
  {
   "cell_type": "code",
   "execution_count": null,
   "metadata": {
    "collapsed": true
   },
   "outputs": [],
   "source": []
  },
  {
   "cell_type": "code",
   "execution_count": 114,
   "metadata": {
    "ExecuteTime": {
     "end_time": "2018-06-07T18:27:30.955548Z",
     "start_time": "2018-06-07T18:27:30.935749Z"
    },
    "collapsed": true
   },
   "outputs": [],
   "source": [
    "X = pd.DataFrame({\"A\": np.random.permutation(['a', 'b', 'c', 'd'] * 75),  # str \n",
    "                       \"B\": np.random.permutation([1, 2, 3] * 100),  # int \n",
    "                       \"C\": np.random.permutation([0.1, 0.2, -0.1, -0.1, 0.2] * 60),  # float \n",
    "                       \"D\": np.random.permutation([True, False] * 150)})  # bool "
   ]
  },
  {
   "cell_type": "code",
   "execution_count": 53,
   "metadata": {
    "ExecuteTime": {
     "end_time": "2018-06-10T21:01:23.488136Z",
     "start_time": "2018-06-10T21:01:23.475033Z"
    }
   },
   "outputs": [
    {
     "ename": "NameError",
     "evalue": "name 'X' is not defined",
     "output_type": "error",
     "traceback": [
      "\u001b[0;31m---------------------------------------------------------------------------\u001b[0m",
      "\u001b[0;31mNameError\u001b[0m                                 Traceback (most recent call last)",
      "\u001b[0;32m<ipython-input-53-ae0451748b41>\u001b[0m in \u001b[0;36m<module>\u001b[0;34m()\u001b[0m\n\u001b[0;32m----> 1\u001b[0;31m \u001b[0mX\u001b[0m\u001b[0;34m.\u001b[0m\u001b[0mhead\u001b[0m\u001b[0;34m(\u001b[0m\u001b[0;34m)\u001b[0m\u001b[0;34m\u001b[0m\u001b[0m\n\u001b[0m",
      "\u001b[0;31mNameError\u001b[0m: name 'X' is not defined"
     ]
    }
   ],
   "source": [
    "X.head()"
   ]
  },
  {
   "cell_type": "code",
   "execution_count": null,
   "metadata": {
    "collapsed": true
   },
   "outputs": [],
   "source": []
  }
 ],
 "metadata": {
  "kernelspec": {
   "display_name": "Python 3",
   "language": "python",
   "name": "python3"
  },
  "language_info": {
   "codemirror_mode": {
    "name": "ipython",
    "version": 3
   },
   "file_extension": ".py",
   "mimetype": "text/x-python",
   "name": "python",
   "nbconvert_exporter": "python",
   "pygments_lexer": "ipython3",
   "version": "3.6.3"
  },
  "varInspector": {
   "cols": {
    "lenName": 16,
    "lenType": 16,
    "lenVar": 40
   },
   "kernels_config": {
    "python": {
     "delete_cmd_postfix": "",
     "delete_cmd_prefix": "del ",
     "library": "var_list.py",
     "varRefreshCmd": "print(var_dic_list())"
    },
    "r": {
     "delete_cmd_postfix": ") ",
     "delete_cmd_prefix": "rm(",
     "library": "var_list.r",
     "varRefreshCmd": "cat(var_dic_list()) "
    }
   },
   "types_to_exclude": [
    "module",
    "function",
    "builtin_function_or_method",
    "instance",
    "_Feature"
   ],
   "window_display": false
  }
 },
 "nbformat": 4,
 "nbformat_minor": 2
}
