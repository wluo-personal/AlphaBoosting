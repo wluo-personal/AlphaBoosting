{
 "cells": [
  {
   "cell_type": "code",
   "execution_count": 9,
   "metadata": {
    "collapsed": true
   },
   "outputs": [],
   "source": [
    "import logging\n",
    "import os\n",
    "\n",
    "class Logger(object):\n",
    "    def __init__(self, logger_name, log_file, pt=False):\n",
    "        self.logger = logging.getLogger(logger_name)\n",
    "        self.logLevel = logging.DEBUG\n",
    "        self.logmapping ={'INFO': logging.INFO, 'DEBUG': logging.DEBUG}\n",
    "        self._file = log_file\n",
    "        self.init_log(pt)\n",
    "        \n",
    "    def init_log(self, pt):\n",
    "        fh_formatter = logging.Formatter('%(asctime)s - %(levelname)s - %(name)s- %(funcName)s -%(lineno)d - %(message)s')\n",
    "        if pt:\n",
    "            sh_formatter = logging.Formatter('%(asctime)s - %(levelname)s - P%(process)d - T%(thread)d - %(name)s- %(funcName)s -%(lineno)d- \\t%(message)s')\n",
    "        else:\n",
    "            sh_formatter = logging.Formatter('%(asctime)s - %(levelname)s - %(name)s- %(funcName)s -%(lineno)d - %(message)s')\n",
    "\n",
    "        self.logger.setLevel(logging.INFO)\n",
    "        sh = logging.StreamHandler()\n",
    "        sh.setFormatter(sh_formatter)\n",
    "        fh = logging.FileHandler(self._file)\n",
    "        fh.setFormatter(fh_formatter)\n",
    "        self.logger.addHandler(sh)\n",
    "        self.logger.addHandler(fh)\n",
    "        \n",
    "    \n",
    "\n",
    "    "
   ]
  },
  {
   "cell_type": "code",
   "execution_count": 1,
   "metadata": {},
   "outputs": [
    {
     "name": "stderr",
     "output_type": "stream",
     "text": [
      "2018-05-08 22:09:42,865 - INFO - CLASS:Test- METHOD:testlog -LINE:12 - MSG:tttt\n"
     ]
    }
   ],
   "source": [
    "import sys, os\n",
    "sys.path.append('/home/kai/data/wei/AlphaBoosting/')\n",
    "from pyproject.PubLib.logger import Logger\n",
    "from pyproject.ENV.env import ENV\n",
    "\n",
    "log_file = ENV.log_file\n",
    "class Test:\n",
    "    def __init__(self, log_file):\n",
    "        self.log = Logger(self.__class__.__name__, log_file, pt=False).logger\n",
    "\n",
    "    def testlog(self, msg):\n",
    "        self.log.info(msg)\n",
    "\n",
    "t = Test(ENV.log_file)\n",
    "t.testlog('tttt')"
   ]
  },
  {
   "cell_type": "code",
   "execution_count": 57,
   "metadata": {},
   "outputs": [],
   "source": [
    "class Test:\n",
    "    def __init__(self, log_file):\n",
    "        self.log = Logger(self.__class__.__name__, log_file, pt=True).logger\n",
    "\n",
    "    def testlog(self, msg):\n",
    "        self.log.info(msg)"
   ]
  },
  {
   "cell_type": "code",
   "execution_count": 3,
   "metadata": {},
   "outputs": [
    {
     "name": "stderr",
     "output_type": "stream",
     "text": [
      "2018-05-08 22:05:55,797 - INFO - P57716 - T140237012965120 - Test- testlog -12- \ttttt\n"
     ]
    }
   ],
   "source": []
  },
  {
   "cell_type": "code",
   "execution_count": 3,
   "metadata": {
    "collapsed": true
   },
   "outputs": [],
   "source": [
    "import logging\n",
    "import os,sys\n",
    "sys.path.append('/home/kai/data/wei/AlphaBoosting/')\n",
    "from pyproject.ENV.env import ENV\n",
    "\n",
    "class Logger:\n",
    "    def __init__(self, logger_name, log_file, pt=False):\n",
    "        self.logger = logging.getLogger(logger_name)\n",
    "        self.logLevel = logging.DEBUG\n",
    "        self.logmapping ={'INFO': logging.INFO, 'DEBUG': logging.DEBUG}\n",
    "        self._file = log_file\n",
    "        self.init_log(pt)\n",
    "        \n",
    "    def init_log(self, pt):\n",
    "        fh_formatter = logging.Formatter('%(asctime)s - %(levelname)s - {:} %(name)s- %(funcName)s -%(lineno)d - %(message)s')\n",
    "        if pt:\n",
    "            sh_formatter = logging.Formatter('%(asctime)s - %(levelname)s - P%(process)d - T%(thread)d - %(name)s- %(funcName)s -%(lineno)d- \\t%(message)s')\n",
    "        else:\n",
    "            sh_formatter = logging.Formatter('%(asctime)s - %(levelname)s - %(name)s- %(funcName)s -%(lineno)d - %(message)s')\n",
    "\n",
    "        self.logger.setLevel(logging.INFO)\n",
    "        sh = logging.StreamHandler()\n",
    "        sh.setFormatter(sh_formatter)\n",
    "        fh = logging.FileHandler(self._file)\n",
    "        fh.setFormatter(fh_formatter)\n",
    "        self.logger.addHandler(sh)\n",
    "        self.logger.addHandler(fh)\n",
    "        \n",
    "        \n",
    "#Usage\n",
    "# class Test:\n",
    "#     def __init__(self, log_file):\n",
    "#         self.log = Logger(self.__class__.__name__, log_file, pt=True).logger\n",
    "\n",
    "#     def testlog(self, msg):\n",
    "#         self.log.info(msg)\n",
    "# t = Test(ENV.log_path)\n",
    "# t.testlog('tttt')"
   ]
  },
  {
   "cell_type": "code",
   "execution_count": 1,
   "metadata": {},
   "outputs": [
    {
     "ename": "TypeError",
     "evalue": "__init__() missing 1 required positional argument: 'log_file'",
     "output_type": "error",
     "traceback": [
      "\u001b[0;31m---------------------------------------------------------------------------\u001b[0m",
      "\u001b[0;31mTypeError\u001b[0m                                 Traceback (most recent call last)",
      "\u001b[0;32m<ipython-input-1-dcd4e56437be>\u001b[0m in \u001b[0;36m<module>\u001b[0;34m()\u001b[0m\n\u001b[1;32m     14\u001b[0m \u001b[0;31m#             self.logger.error(e)\u001b[0m\u001b[0;34m\u001b[0m\u001b[0;34m\u001b[0m\u001b[0m\n\u001b[1;32m     15\u001b[0m \u001b[0;34m\u001b[0m\u001b[0m\n\u001b[0;32m---> 16\u001b[0;31m \u001b[0ma\u001b[0m \u001b[0;34m=\u001b[0m \u001b[0mprinter\u001b[0m\u001b[0;34m(\u001b[0m\u001b[0mENV\u001b[0m\u001b[0;34m.\u001b[0m\u001b[0mlog_path\u001b[0m\u001b[0;34m,\u001b[0m \u001b[0mpt\u001b[0m\u001b[0;34m=\u001b[0m\u001b[0;32mFalse\u001b[0m\u001b[0;34m)\u001b[0m\u001b[0;34m\u001b[0m\u001b[0m\n\u001b[0m",
      "\u001b[0;31mTypeError\u001b[0m: __init__() missing 1 required positional argument: 'log_file'"
     ]
    }
   ],
   "source": [
    "import os,sys\n",
    "sys.path.append('/home/kai/data/wei/AlphaBoosting/')\n",
    "from pyproject.ENV.env import ENV\n",
    "from pyproject.PubLib.logger import Logger\n",
    "class printer(Logger):\n",
    "    def print(msg):\n",
    "        self.logger.info(msg)\n",
    "#     def __init__(self, log_file, pt):\n",
    "# #         super().__init__(logger_name=type(self).__name__, log_file=log_file, pt=pt)\n",
    "#         self.logger.info('test is test!')\n",
    "#         try:\n",
    "#             a == 1\n",
    "#         except Exception as e:\n",
    "#             self.logger.error(e)\n",
    "        \n",
    "a = printer(ENV.log_path, pt=False)\n"
   ]
  },
  {
   "cell_type": "code",
   "execution_count": null,
   "metadata": {
    "collapsed": true
   },
   "outputs": [],
   "source": []
  },
  {
   "cell_type": "code",
   "execution_count": 7,
   "metadata": {},
   "outputs": [],
   "source": [
    "from pyproject.ENV.env import ENV"
   ]
  },
  {
   "cell_type": "code",
   "execution_count": 5,
   "metadata": {},
   "outputs": [],
   "source": [
    "ENV.log_path='/home'"
   ]
  },
  {
   "cell_type": "code",
   "execution_count": 4,
   "metadata": {},
   "outputs": [
    {
     "data": {
      "text/plain": [
       "'/home/kai/data/wei/AlphaBoosting/test.log'"
      ]
     },
     "execution_count": 4,
     "metadata": {},
     "output_type": "execute_result"
    }
   ],
   "source": [
    "ENV.log_path"
   ]
  },
  {
   "cell_type": "code",
   "execution_count": null,
   "metadata": {
    "collapsed": true
   },
   "outputs": [],
   "source": []
  }
 ],
 "metadata": {
  "kernelspec": {
   "display_name": "Python 3",
   "language": "python",
   "name": "python3"
  },
  "language_info": {
   "codemirror_mode": {
    "name": "ipython",
    "version": 3
   },
   "file_extension": ".py",
   "mimetype": "text/x-python",
   "name": "python",
   "nbconvert_exporter": "python",
   "pygments_lexer": "ipython3",
   "version": "3.6.3"
  }
 },
 "nbformat": 4,
 "nbformat_minor": 2
}
