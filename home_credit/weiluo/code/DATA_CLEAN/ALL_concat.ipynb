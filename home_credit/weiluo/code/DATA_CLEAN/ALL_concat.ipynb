{
 "cells": [
  {
   "cell_type": "code",
   "execution_count": 1,
   "metadata": {
    "ExecuteTime": {
     "end_time": "2018-08-27T18:40:21.666220Z",
     "start_time": "2018-08-27T18:40:21.242257Z"
    }
   },
   "outputs": [],
   "source": [
    "import os,sys\n",
    "import numpy as np\n",
    "import pandas as pd\n",
    "from tqdm import tqdm\n",
    "from sklearn.externals import joblib\n",
    "import matplotlib.pyplot as plt\n",
    "sys.path.append('../LIB/')\n",
    "from env import ENV\n",
    "from sklearn.preprocessing import normalize\n",
    "from sklearn.preprocessing import OneHotEncoder\n",
    "from scipy.sparse import coo_matrix, hstack\n",
    "from sklearn.preprocessing import LabelEncoder"
   ]
  },
  {
   "cell_type": "code",
   "execution_count": 2,
   "metadata": {
    "ExecuteTime": {
     "end_time": "2018-08-27T18:40:23.521104Z",
     "start_time": "2018-08-27T18:40:21.679527Z"
    }
   },
   "outputs": [
    {
     "name": "stdout",
     "output_type": "stream",
     "text": [
      "train shape is: (307511, 764)\n",
      "test shape is: (48744, 763)\n"
     ]
    }
   ],
   "source": [
    "train = pd.read_pickle(ENV.lightgbm_train_764.value)\n",
    "print('train shape is: {}'.format(train.shape))\n",
    "test = pd.read_pickle(ENV.lightgbm_test_764.value)\n",
    "print('test shape is: {}'.format(test.shape))\n",
    "fe_id = 'comb_764'"
   ]
  },
  {
   "cell_type": "code",
   "execution_count": 3,
   "metadata": {
    "ExecuteTime": {
     "end_time": "2018-08-27T18:40:25.922982Z",
     "start_time": "2018-08-27T18:40:23.845088Z"
    }
   },
   "outputs": [],
   "source": [
    "X = pd.concat([train.drop('TARGET',axis=1),test])"
   ]
  },
  {
   "cell_type": "markdown",
   "metadata": {},
   "source": [
    "# Load Extra feature"
   ]
  },
  {
   "cell_type": "code",
   "execution_count": 4,
   "metadata": {
    "ExecuteTime": {
     "end_time": "2018-08-27T18:40:26.514053Z",
     "start_time": "2018-08-27T18:40:26.307550Z"
    }
   },
   "outputs": [],
   "source": [
    "extra1 = pd.read_pickle('../../data/add_features/install_preapp_hand_fe.pkl')\n",
    "extra2 = pd.read_pickle('../../data/add_features/bureau_hand_crafted_features.pkl')\n",
    "extra3 = pd.read_pickle('../../data/add_features/shiyi/shiyifeature1.pkl')"
   ]
  },
  {
   "cell_type": "markdown",
   "metadata": {},
   "source": [
    "# Merge"
   ]
  },
  {
   "cell_type": "code",
   "execution_count": 5,
   "metadata": {
    "ExecuteTime": {
     "end_time": "2018-08-27T18:41:21.116468Z",
     "start_time": "2018-08-27T18:41:18.556894Z"
    }
   },
   "outputs": [
    {
     "name": "stdout",
     "output_type": "stream",
     "text": [
      "(356255, 781)\n",
      "(356255, 794)\n",
      "(356255, 802)\n"
     ]
    }
   ],
   "source": [
    "X = X.merge(extra1,how='left',left_on='SK_ID_CURR',right_on='SK_ID_CURR')\n",
    "print(X.shape)\n",
    "X = X.merge(extra2,how='left',left_on='SK_ID_CURR',right_on='SK_ID_CURR')\n",
    "print(X.shape)\n",
    "X = X.merge(extra3,how='left',left_on='SK_ID_CURR',right_on='SK_ID_CURR')\n",
    "print(X.shape)"
   ]
  },
  {
   "cell_type": "code",
   "execution_count": 6,
   "metadata": {
    "ExecuteTime": {
     "end_time": "2018-08-27T18:42:49.506837Z",
     "start_time": "2018-08-27T18:42:48.641755Z"
    }
   },
   "outputs": [],
   "source": [
    "X_train = X.iloc[:307511].copy()\n",
    "X_train['TARGET'] = train['TARGET']\n",
    "\n",
    "X_test = X.iloc[307511:].copy()"
   ]
  },
  {
   "cell_type": "code",
   "execution_count": 7,
   "metadata": {
    "ExecuteTime": {
     "end_time": "2018-08-27T18:43:27.505480Z",
     "start_time": "2018-08-27T18:43:24.291450Z"
    }
   },
   "outputs": [],
   "source": [
    "X_train.to_pickle(ENV.lgb_train_0827_raw.value)\n",
    "X_test.to_pickle(ENV.lgb_test_0827_raw.value)"
   ]
  },
  {
   "cell_type": "code",
   "execution_count": null,
   "metadata": {},
   "outputs": [],
   "source": []
  }
 ],
 "metadata": {
  "kernelspec": {
   "display_name": "Python 3",
   "language": "python",
   "name": "python3"
  },
  "language_info": {
   "codemirror_mode": {
    "name": "ipython",
    "version": 3
   },
   "file_extension": ".py",
   "mimetype": "text/x-python",
   "name": "python",
   "nbconvert_exporter": "python",
   "pygments_lexer": "ipython3",
   "version": "3.6.5"
  },
  "varInspector": {
   "cols": {
    "lenName": 16,
    "lenType": 16,
    "lenVar": 40
   },
   "kernels_config": {
    "python": {
     "delete_cmd_postfix": "",
     "delete_cmd_prefix": "del ",
     "library": "var_list.py",
     "varRefreshCmd": "print(var_dic_list())"
    },
    "r": {
     "delete_cmd_postfix": ") ",
     "delete_cmd_prefix": "rm(",
     "library": "var_list.r",
     "varRefreshCmd": "cat(var_dic_list()) "
    }
   },
   "types_to_exclude": [
    "module",
    "function",
    "builtin_function_or_method",
    "instance",
    "_Feature"
   ],
   "window_display": false
  }
 },
 "nbformat": 4,
 "nbformat_minor": 2
}
