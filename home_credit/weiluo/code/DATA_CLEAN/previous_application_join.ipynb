{
 "cells": [
  {
   "cell_type": "code",
   "execution_count": 2,
   "metadata": {
    "ExecuteTime": {
     "end_time": "2018-08-17T15:13:32.694365Z",
     "start_time": "2018-08-17T15:13:32.290538Z"
    }
   },
   "outputs": [],
   "source": [
    "import os,sys\n",
    "import numpy as np\n",
    "import pandas as pd\n",
    "from tqdm import tqdm_notebook as tqdm\n",
    "from sklearn.externals import joblib\n",
    "import matplotlib.pyplot as plt\n",
    "sys.path.append('../LIB/')\n",
    "from env import ENV\n",
    "from sklearn.preprocessing import normalize\n",
    "from tqdm import tqdm\n",
    "from sklearn.preprocessing import OneHotEncoder\n",
    "from scipy.sparse import coo_matrix, hstack\n",
    "from sklearn.preprocessing import LabelEncoder\n",
    "import re"
   ]
  },
  {
   "cell_type": "code",
   "execution_count": 3,
   "metadata": {
    "ExecuteTime": {
     "end_time": "2018-08-17T15:13:32.805455Z",
     "start_time": "2018-08-17T15:13:32.791092Z"
    }
   },
   "outputs": [],
   "source": [
    "def scan_nan_portion(df):\n",
    "    portions = []\n",
    "    columns = []\n",
    "    for col in df.columns:\n",
    "        columns.append(col)\n",
    "        portions.append(np.sum(df[col].isnull())/len(df))\n",
    "    return pd.Series(data=portions, index=columns)\n",
    "\n",
    "\n",
    "def view_na_portion(df,col):\n",
    "    return sum(df[col].isnull())/len(df)\n",
    "\n",
    "\n",
    "def one_hot_encoding(df,col,pre_fix):\n",
    "    df = df.copy()\n",
    "    df[col] = df[col].fillna('NA_NOT_FOUND')\n",
    "    print('before encoding, shape is: {}'.format(df.shape))\n",
    "    for each in df[col].unique():\n",
    "        name = str(each)\n",
    "        col_name = pre_fix + name.replace(' ','_')\n",
    "        df[col_name] = 0\n",
    "        df.loc[df[col]==each,col_name] = 1\n",
    "    df = df.drop([col],axis=1)\n",
    "    print('after encoding, shape is: {}'.format(df.shape))\n",
    "    return df\n",
    "    \n",
    "\n",
    "class ordinal_encoder:\n",
    "    def __init__(self,fillna='NAN_FILL'):\n",
    "        self.fillna = fillna\n",
    "    \n",
    "    def fit(self,sr,NA_VALUE=None,realNA2Nega1=True):\n",
    "        \"\"\"\n",
    "        spycify the value which has already been encoded. make it to -1 after encoding\n",
    "        \"\"\"\n",
    "        self.NA_VALUE=NA_VALUE\n",
    "        order = sr.fillna(self.fillna).value_counts()\n",
    "        if self.NA_VALUE is not None:\n",
    "            order[NA_VALUE] = 9999999\n",
    "\n",
    "        if realNA2Nega1:\n",
    "            order[self.fillna] = 99999999\n",
    "        order = order.sort_values(ascending=True)\n",
    "\n",
    "\n",
    "        self.mapping = pd.Series(index=order.index.values, data=list(range(1,len(order)+1)))\n",
    "        if self.NA_VALUE is not None:\n",
    "            self.mapping[NA_VALUE] = -1\n",
    "\n",
    "        if realNA2Nega1:\n",
    "            self.mapping[self.fillna] = -1\n",
    "    \n",
    "    def transform(self,sr):\n",
    "        return sr.fillna(self.fillna).map(self.mapping)"
   ]
  },
  {
   "cell_type": "code",
   "execution_count": 4,
   "metadata": {
    "ExecuteTime": {
     "end_time": "2018-08-17T15:13:33.349250Z",
     "start_time": "2018-08-17T15:13:33.345558Z"
    }
   },
   "outputs": [],
   "source": [
    "oe = ordinal_encoder()"
   ]
  },
  {
   "cell_type": "code",
   "execution_count": 31,
   "metadata": {
    "ExecuteTime": {
     "end_time": "2018-08-17T15:20:50.333836Z",
     "start_time": "2018-08-17T15:20:47.466376Z"
    }
   },
   "outputs": [
    {
     "name": "stdout",
     "output_type": "stream",
     "text": [
      "Previous App shape: (1670214, 192)\n",
      "Installment shape: (997752, 13)\n",
      "POS CASH shape: (936325, 42)\n",
      "Credit Card shape: (104307, 81)\n"
     ]
    }
   ],
   "source": [
    "\n",
    "X_pre = pd.read_pickle(ENV.previous_application_cleaned_onehot.value)\n",
    "print('Previous App shape: {}'.format(X_pre.shape))\n",
    "\n",
    "X_ins = pd.read_pickle(ENV.installments_payment_clean_rnn.value)\n",
    "print('Installment shape: {}'.format(X_ins.shape))\n",
    "\n",
    "X_pos = pd.read_pickle(ENV.POS_CASH_balance_clean_rnn.value)\n",
    "print('POS CASH shape: {}'.format(X_pos.shape))\n",
    "\n",
    "X_cc = pd.read_pickle(ENV.credit_card_balance_clean_rnn.value)\n",
    "print('Credit Card shape: {}'.format(X_cc.shape))"
   ]
  },
  {
   "cell_type": "markdown",
   "metadata": {},
   "source": [
    "# JOIN pre and ins"
   ]
  },
  {
   "cell_type": "markdown",
   "metadata": {},
   "source": [
    "### get columns intersection"
   ]
  },
  {
   "cell_type": "code",
   "execution_count": 65,
   "metadata": {
    "ExecuteTime": {
     "end_time": "2018-08-17T15:50:04.765166Z",
     "start_time": "2018-08-17T15:50:04.759360Z"
    }
   },
   "outputs": [
    {
     "data": {
      "text/plain": [
       "Index(['SK_ID_PREV', 'count_VERSION', 'count_INSTALLMENT', 'DAY_INS_SPAN',\n",
       "       'DAY_ENTRY_SPAN', 'CNT_LATE_PAYMENT', 'CNT_LESS_PAYMENT',\n",
       "       'TOTAL_AMT_INSTALMENT', 'TOTAL_AMT_PAYMENT', 'INSTAL_START_DAY',\n",
       "       'FLAG_TOTAL_PAYMENT_LESS_THAN_INSTALMENT', 'SK_ID_CURR', 'OWE_PORTION'],\n",
       "      dtype='object')"
      ]
     },
     "execution_count": 65,
     "metadata": {},
     "output_type": "execute_result"
    }
   ],
   "source": [
    "X_ins.columns"
   ]
  },
  {
   "cell_type": "code",
   "execution_count": 32,
   "metadata": {
    "ExecuteTime": {
     "end_time": "2018-08-17T15:20:52.270599Z",
     "start_time": "2018-08-17T15:20:52.266097Z"
    }
   },
   "outputs": [],
   "source": [
    "col_left = set(X_pre.columns)\n",
    "col_right = set(X_ins.columns)\n",
    "intersection1 = col_left.intersection(col_right)"
   ]
  },
  {
   "cell_type": "code",
   "execution_count": 33,
   "metadata": {
    "ExecuteTime": {
     "end_time": "2018-08-17T15:20:53.499501Z",
     "start_time": "2018-08-17T15:20:53.496577Z"
    }
   },
   "outputs": [
    {
     "data": {
      "text/plain": [
       "{'SK_ID_CURR', 'SK_ID_PREV'}"
      ]
     },
     "execution_count": 33,
     "metadata": {},
     "output_type": "execute_result"
    }
   ],
   "source": [
    "intersection1"
   ]
  },
  {
   "cell_type": "code",
   "execution_count": 34,
   "metadata": {
    "ExecuteTime": {
     "end_time": "2018-08-17T15:21:00.259966Z",
     "start_time": "2018-08-17T15:20:54.684899Z"
    }
   },
   "outputs": [],
   "source": [
    "X = X_pre.merge(X_ins,how='left',left_on='SK_ID_PREV',right_on ='SK_ID_PREV')"
   ]
  },
  {
   "cell_type": "code",
   "execution_count": 35,
   "metadata": {
    "ExecuteTime": {
     "end_time": "2018-08-17T15:21:03.884100Z",
     "start_time": "2018-08-17T15:21:01.501806Z"
    }
   },
   "outputs": [],
   "source": [
    "X = X.rename({'SK_ID_CURR_x':'SK_ID_CURR'},axis=1)\n",
    "X = X.drop(labels=['SK_ID_CURR_y'],axis=1)"
   ]
  },
  {
   "cell_type": "code",
   "execution_count": 36,
   "metadata": {
    "ExecuteTime": {
     "end_time": "2018-08-17T15:21:07.813039Z",
     "start_time": "2018-08-17T15:21:05.039857Z"
    }
   },
   "outputs": [],
   "source": [
    "sc1 = scan_nan_portion(X)\n"
   ]
  },
  {
   "cell_type": "code",
   "execution_count": 37,
   "metadata": {
    "ExecuteTime": {
     "end_time": "2018-08-17T15:21:08.966756Z",
     "start_time": "2018-08-17T15:21:08.962369Z"
    }
   },
   "outputs": [
    {
     "data": {
      "text/plain": [
       "count_VERSION                              0.425879\n",
       "count_INSTALLMENT                          0.425879\n",
       "DAY_INS_SPAN                               0.425879\n",
       "DAY_ENTRY_SPAN                             0.425879\n",
       "CNT_LATE_PAYMENT                           0.425879\n",
       "CNT_LESS_PAYMENT                           0.425879\n",
       "TOTAL_AMT_INSTALMENT                       0.425879\n",
       "TOTAL_AMT_PAYMENT                          0.425879\n",
       "INSTAL_START_DAY                           0.425879\n",
       "FLAG_TOTAL_PAYMENT_LESS_THAN_INSTALMENT    0.425879\n",
       "OWE_PORTION                                0.425879\n",
       "dtype: float64"
      ]
     },
     "execution_count": 37,
     "metadata": {},
     "output_type": "execute_result"
    }
   ],
   "source": [
    "sc1[sc1 > 0]"
   ]
  },
  {
   "cell_type": "code",
   "execution_count": 38,
   "metadata": {
    "ExecuteTime": {
     "end_time": "2018-08-17T15:21:10.477320Z",
     "start_time": "2018-08-17T15:21:10.122786Z"
    }
   },
   "outputs": [],
   "source": [
    "X = X.fillna(0)"
   ]
  },
  {
   "cell_type": "code",
   "execution_count": 39,
   "metadata": {
    "ExecuteTime": {
     "end_time": "2018-08-17T15:21:11.634458Z",
     "start_time": "2018-08-17T15:21:11.631701Z"
    }
   },
   "outputs": [
    {
     "data": {
      "text/plain": [
       "(1670214, 203)"
      ]
     },
     "execution_count": 39,
     "metadata": {},
     "output_type": "execute_result"
    }
   ],
   "source": [
    "X.shape"
   ]
  },
  {
   "cell_type": "markdown",
   "metadata": {},
   "source": [
    "# Join X with pos cash"
   ]
  },
  {
   "cell_type": "code",
   "execution_count": 66,
   "metadata": {
    "ExecuteTime": {
     "end_time": "2018-08-17T15:51:29.509058Z",
     "start_time": "2018-08-17T15:51:29.502679Z"
    }
   },
   "outputs": [
    {
     "data": {
      "text/plain": [
       "Index(['SK_ID_PREV', 'MONTHS_BALANCE_MAX', 'MONTHS_BALANCE_MIN',\n",
       "       'MONTHS_BALANCE_SPAN', 'CNT_INSTALMENT_MAX', 'CNT_INSTALMENT_MIN',\n",
       "       'CNT_INSTALMENT_SPAN', 'SK_DPD_MAX', 'SK_DPD_MIN', 'SK_DPD_MEAN',\n",
       "       'SK_DPD_COUNT', 'SK_DPD_SUM', 'SK_DPD_DEF_MAX', 'SK_DPD_DEF_MIN',\n",
       "       'SK_DPD_DEF_MEAN', 'SK_DPD_DEF_COUNT', 'SK_DPD_DEF_SUM',\n",
       "       'POSContractStatus_Active', 'POSContractStatus_Completed',\n",
       "       'POSContractStatus_Signed', 'POSContractStatus_Approved',\n",
       "       'POSContractStatus_Returned_to_the_store', 'POSContractStatus_Demand',\n",
       "       'POSContractStatus_Canceled', 'POSContractStatus_XNA',\n",
       "       'POSContractStatus_Amortized_debt', 'SK_ID_CURR',\n",
       "       'POS_LAST_STATUS_Completed', 'POS_LAST_STATUS_Active',\n",
       "       'POS_LAST_STATUS_Amortized_debt',\n",
       "       'POS_LAST_STATUS_Returned_to_the_store', 'POS_LAST_STATUS_Signed',\n",
       "       'POS_LAST_STATUS_Demand', 'POS_LAST_STATUS_Approved',\n",
       "       'POS_LAST_STATUS_Canceled', 'POS_FIRST_STATUS_Active',\n",
       "       'POS_FIRST_STATUS_Approved', 'POS_FIRST_STATUS_Signed',\n",
       "       'POS_FIRST_STATUS_Returned_to_the_store', 'POS_FIRST_STATUS_Completed',\n",
       "       'POS_FIRST_STATUS_Canceled', 'POS_FIRST_STATUS_XNA'],\n",
       "      dtype='object')"
      ]
     },
     "execution_count": 66,
     "metadata": {},
     "output_type": "execute_result"
    }
   ],
   "source": [
    "X_pos.columns"
   ]
  },
  {
   "cell_type": "code",
   "execution_count": 40,
   "metadata": {
    "ExecuteTime": {
     "end_time": "2018-08-17T15:21:15.928185Z",
     "start_time": "2018-08-17T15:21:15.924004Z"
    }
   },
   "outputs": [],
   "source": [
    "col_left = set(X.columns)\n",
    "col_right = set(X_pos.columns)\n",
    "intersection1 = col_left.intersection(col_right)"
   ]
  },
  {
   "cell_type": "code",
   "execution_count": 41,
   "metadata": {
    "ExecuteTime": {
     "end_time": "2018-08-17T15:21:19.600072Z",
     "start_time": "2018-08-17T15:21:19.594682Z"
    }
   },
   "outputs": [
    {
     "data": {
      "text/plain": [
       "{'SK_ID_CURR', 'SK_ID_PREV'}"
      ]
     },
     "execution_count": 41,
     "metadata": {},
     "output_type": "execute_result"
    }
   ],
   "source": [
    "intersection1"
   ]
  },
  {
   "cell_type": "code",
   "execution_count": 46,
   "metadata": {
    "ExecuteTime": {
     "end_time": "2018-08-17T15:23:01.225024Z",
     "start_time": "2018-08-17T15:22:53.514908Z"
    }
   },
   "outputs": [],
   "source": [
    "X = X.merge(X_pos, how='left',left_on='SK_ID_PREV',right_on ='SK_ID_PREV')"
   ]
  },
  {
   "cell_type": "code",
   "execution_count": 47,
   "metadata": {
    "ExecuteTime": {
     "end_time": "2018-08-17T15:23:02.419227Z",
     "start_time": "2018-08-17T15:23:02.416377Z"
    }
   },
   "outputs": [
    {
     "data": {
      "text/plain": [
       "(1670214, 244)"
      ]
     },
     "execution_count": 47,
     "metadata": {},
     "output_type": "execute_result"
    }
   ],
   "source": [
    "X.shape"
   ]
  },
  {
   "cell_type": "code",
   "execution_count": 48,
   "metadata": {
    "ExecuteTime": {
     "end_time": "2018-08-17T15:23:10.663762Z",
     "start_time": "2018-08-17T15:23:07.707170Z"
    }
   },
   "outputs": [],
   "source": [
    "X = X.rename({'SK_ID_CURR_x':'SK_ID_CURR'},axis=1)\n",
    "X = X.drop(labels=['SK_ID_CURR_y'],axis=1)"
   ]
  },
  {
   "cell_type": "code",
   "execution_count": 49,
   "metadata": {
    "ExecuteTime": {
     "end_time": "2018-08-17T15:23:16.330411Z",
     "start_time": "2018-08-17T15:23:12.862099Z"
    }
   },
   "outputs": [],
   "source": [
    "sc2 = scan_nan_portion(X)"
   ]
  },
  {
   "cell_type": "code",
   "execution_count": 50,
   "metadata": {
    "ExecuteTime": {
     "end_time": "2018-08-17T15:23:17.311756Z",
     "start_time": "2018-08-17T15:23:17.306876Z"
    }
   },
   "outputs": [
    {
     "data": {
      "text/plain": [
       "MONTHS_BALANCE_MAX                         0.461804\n",
       "MONTHS_BALANCE_MIN                         0.461804\n",
       "MONTHS_BALANCE_SPAN                        0.461804\n",
       "CNT_INSTALMENT_MAX                         0.461804\n",
       "CNT_INSTALMENT_MIN                         0.461804\n",
       "CNT_INSTALMENT_SPAN                        0.461804\n",
       "SK_DPD_MAX                                 0.461804\n",
       "SK_DPD_MIN                                 0.461804\n",
       "SK_DPD_MEAN                                0.461804\n",
       "SK_DPD_COUNT                               0.461804\n",
       "SK_DPD_SUM                                 0.461804\n",
       "SK_DPD_DEF_MAX                             0.461804\n",
       "SK_DPD_DEF_MIN                             0.461804\n",
       "SK_DPD_DEF_MEAN                            0.461804\n",
       "SK_DPD_DEF_COUNT                           0.461804\n",
       "SK_DPD_DEF_SUM                             0.461804\n",
       "POSContractStatus_Active                   0.461804\n",
       "POSContractStatus_Completed                0.461804\n",
       "POSContractStatus_Signed                   0.461804\n",
       "POSContractStatus_Approved                 0.461804\n",
       "POSContractStatus_Returned_to_the_store    0.461804\n",
       "POSContractStatus_Demand                   0.461804\n",
       "POSContractStatus_Canceled                 0.461804\n",
       "POSContractStatus_XNA                      0.461804\n",
       "POSContractStatus_Amortized_debt           0.461804\n",
       "POS_LAST_STATUS_Completed                  0.461804\n",
       "POS_LAST_STATUS_Active                     0.461804\n",
       "POS_LAST_STATUS_Amortized_debt             0.461804\n",
       "POS_LAST_STATUS_Returned_to_the_store      0.461804\n",
       "POS_LAST_STATUS_Signed                     0.461804\n",
       "POS_LAST_STATUS_Demand                     0.461804\n",
       "POS_LAST_STATUS_Approved                   0.461804\n",
       "POS_LAST_STATUS_Canceled                   0.461804\n",
       "POS_FIRST_STATUS_Active                    0.461804\n",
       "POS_FIRST_STATUS_Approved                  0.461804\n",
       "POS_FIRST_STATUS_Signed                    0.461804\n",
       "POS_FIRST_STATUS_Returned_to_the_store     0.461804\n",
       "POS_FIRST_STATUS_Completed                 0.461804\n",
       "POS_FIRST_STATUS_Canceled                  0.461804\n",
       "POS_FIRST_STATUS_XNA                       0.461804\n",
       "dtype: float64"
      ]
     },
     "execution_count": 50,
     "metadata": {},
     "output_type": "execute_result"
    }
   ],
   "source": [
    "sc2[sc2 > 0]"
   ]
  },
  {
   "cell_type": "code",
   "execution_count": 51,
   "metadata": {
    "ExecuteTime": {
     "end_time": "2018-08-17T15:23:58.348130Z",
     "start_time": "2018-08-17T15:23:57.685505Z"
    }
   },
   "outputs": [],
   "source": [
    "X = X.fillna(0)"
   ]
  },
  {
   "cell_type": "markdown",
   "metadata": {},
   "source": [
    "# Join X with credit card"
   ]
  },
  {
   "cell_type": "code",
   "execution_count": null,
   "metadata": {},
   "outputs": [],
   "source": [
    "# [ 'CNT_DRAWINGS_CURRENT_MAX',\n",
    "#        'CNT_DRAWINGS_CURRENT_MIN', 'CNT_DRAWINGS_CURRENT_MEAN',\n",
    "#        'AMT_TOTAL_RECEIVABLE_MAX', 'AMT_TOTAL_RECEIVABLE_MIN',\n",
    "#        'AMT_TOTAL_RECEIVABLE_MEAN', 'AMT_RECIVABLE_MAX', 'AMT_RECIVABLE_MIN',\n",
    "#        'AMT_RECIVABLE_MEAN', 'AMT_RECEIVABLE_PRINCIPAL_MAX',\n",
    "#        'AMT_RECEIVABLE_PRINCIPAL_MIN', 'AMT_RECEIVABLE_PRINCIPAL_MEAN',\n",
    "#        'CC_SK_DPD_MAX', 'CC_SK_DPD_MIN', 'CC_SK_DPD_MEAN',\n",
    "#        'AMT_PAYMENT_TOTAL_CURRENT_MAX', 'AMT_PAYMENT_TOTAL_CURRENT_MIN',\n",
    "#        'AMT_PAYMENT_TOTAL_CURRENT_MEAN', 'AMT_DRAWINGS_CURRENT_MAX',\n",
    "#        'AMT_DRAWINGS_CURRENT_MIN', 'AMT_DRAWINGS_CURRENT_MEAN',\n",
    "#        'AMT_CREDIT_LIMIT_ACTUAL_MAX', 'AMT_CREDIT_LIMIT_ACTUAL_MIN',\n",
    "#        'AMT_CREDIT_LIMIT_ACTUAL_MEAN', 'AMT_BALANCE_MAX', 'AMT_BALANCE_MIN',\n",
    "#        'AMT_BALANCE_MEAN', 'CC_MONTHS_BALANCE_MAX', 'CC_MONTHS_BALANCE_MIN',\n",
    "#        'MONTHS_BALANCE_MEAN', 'CC_SK_DPD_DEF_MAX', 'CC_SK_DPD_DEF_MIN',\n",
    "#        'CC_SK_DPD_DEF_MEAN', 'AMT_INST_MIN_REGULARITY_MAX',\n",
    "#        'AMT_INST_MIN_REGULARITY_MIN', 'AMT_INST_MIN_REGULARITY_MEAN',\n",
    "#        'CNT_INSTALMENT_MATURE_CUM_MAX', 'CNT_INSTALMENT_MATURE_CUM_MIN',\n",
    "#        'CNT_INSTALMENT_MATURE_CUM_MEAN', 'AMT_DRAWINGS_POS_CURRENT_MAX',\n",
    "#        'AMT_DRAWINGS_POS_CURRENT_MIN', 'AMT_DRAWINGS_POS_CURRENT_MEAN',\n",
    "#        'AMT_DRAWINGS_ATM_CURRENT_MAX', 'AMT_DRAWINGS_ATM_CURRENT_MIN',\n",
    "#        'AMT_DRAWINGS_ATM_CURRENT_MEAN', 'CNT_DRAWINGS_ATM_CURRENT_MAX',\n",
    "#        'CNT_DRAWINGS_ATM_CURRENT_MIN', 'CNT_DRAWINGS_ATM_CURRENT_MEAN',\n",
    "#        'CNT_DRAWINGS_OTHER_CURRENT_MAX', 'CNT_DRAWINGS_OTHER_CURRENT_MIN',\n",
    "#        'CNT_DRAWINGS_OTHER_CURRENT_MEAN', 'CNT_DRAWINGS_POS_CURRENT_MAX',\n",
    "#        'CNT_DRAWINGS_POS_CURRENT_MIN', 'CNT_DRAWINGS_POS_CURRENT_MEAN',\n",
    "#        'AMT_DRAWINGS_OTHER_CURRENT_MAX', 'AMT_DRAWINGS_OTHER_CURRENT_MIN',\n",
    "#        'AMT_DRAWINGS_OTHER_CURRENT_MEAN', 'AMT_PAYMENT_CURRENT_MAX',\n",
    "#        'AMT_PAYMENT_CURRENT_MIN', 'AMT_PAYMENT_CURRENT_MEAN', 'Records_CNT',\n",
    "#        'NAME_CONTRACT_STATUS_Active', 'NAME_CONTRACT_STATUS_Completed',\n",
    "#        'NAME_CONTRACT_STATUS_Demand', 'NAME_CONTRACT_STATUS_Signed',\n",
    "#        'NAME_CONTRACT_STATUS_Sent_proposal', 'NAME_CONTRACT_STATUS_Refused',\n",
    "#        'NAME_CONTRACT_STATUS_Approved']"
   ]
  },
  {
   "cell_type": "code",
   "execution_count": 64,
   "metadata": {
    "ExecuteTime": {
     "end_time": "2018-08-17T15:40:17.255022Z",
     "start_time": "2018-08-17T15:40:17.247809Z"
    }
   },
   "outputs": [
    {
     "data": {
      "text/plain": [
       "Index(['SK_ID_PREV', 'SK_ID_CURR', 'CNT_DRAWINGS_CURRENT_MAX',\n",
       "       'CNT_DRAWINGS_CURRENT_MIN', 'CNT_DRAWINGS_CURRENT_MEAN',\n",
       "       'AMT_TOTAL_RECEIVABLE_MAX', 'AMT_TOTAL_RECEIVABLE_MIN',\n",
       "       'AMT_TOTAL_RECEIVABLE_MEAN', 'AMT_RECIVABLE_MAX', 'AMT_RECIVABLE_MIN',\n",
       "       'AMT_RECIVABLE_MEAN', 'AMT_RECEIVABLE_PRINCIPAL_MAX',\n",
       "       'AMT_RECEIVABLE_PRINCIPAL_MIN', 'AMT_RECEIVABLE_PRINCIPAL_MEAN',\n",
       "       'CC_SK_DPD_MAX', 'CC_SK_DPD_MIN', 'CC_SK_DPD_MEAN',\n",
       "       'AMT_PAYMENT_TOTAL_CURRENT_MAX', 'AMT_PAYMENT_TOTAL_CURRENT_MIN',\n",
       "       'AMT_PAYMENT_TOTAL_CURRENT_MEAN', 'AMT_DRAWINGS_CURRENT_MAX',\n",
       "       'AMT_DRAWINGS_CURRENT_MIN', 'AMT_DRAWINGS_CURRENT_MEAN',\n",
       "       'AMT_CREDIT_LIMIT_ACTUAL_MAX', 'AMT_CREDIT_LIMIT_ACTUAL_MIN',\n",
       "       'AMT_CREDIT_LIMIT_ACTUAL_MEAN', 'AMT_BALANCE_MAX', 'AMT_BALANCE_MIN',\n",
       "       'AMT_BALANCE_MEAN', 'CC_MONTHS_BALANCE_MAX', 'CC_MONTHS_BALANCE_MIN',\n",
       "       'MONTHS_BALANCE_MEAN', 'CC_SK_DPD_DEF_MAX', 'CC_SK_DPD_DEF_MIN',\n",
       "       'CC_SK_DPD_DEF_MEAN', 'AMT_INST_MIN_REGULARITY_MAX',\n",
       "       'AMT_INST_MIN_REGULARITY_MIN', 'AMT_INST_MIN_REGULARITY_MEAN',\n",
       "       'CNT_INSTALMENT_MATURE_CUM_MAX', 'CNT_INSTALMENT_MATURE_CUM_MIN',\n",
       "       'CNT_INSTALMENT_MATURE_CUM_MEAN', 'AMT_DRAWINGS_POS_CURRENT_MAX',\n",
       "       'AMT_DRAWINGS_POS_CURRENT_MIN', 'AMT_DRAWINGS_POS_CURRENT_MEAN',\n",
       "       'AMT_DRAWINGS_ATM_CURRENT_MAX', 'AMT_DRAWINGS_ATM_CURRENT_MIN',\n",
       "       'AMT_DRAWINGS_ATM_CURRENT_MEAN', 'CNT_DRAWINGS_ATM_CURRENT_MAX',\n",
       "       'CNT_DRAWINGS_ATM_CURRENT_MIN', 'CNT_DRAWINGS_ATM_CURRENT_MEAN',\n",
       "       'CNT_DRAWINGS_OTHER_CURRENT_MAX', 'CNT_DRAWINGS_OTHER_CURRENT_MIN',\n",
       "       'CNT_DRAWINGS_OTHER_CURRENT_MEAN', 'CNT_DRAWINGS_POS_CURRENT_MAX',\n",
       "       'CNT_DRAWINGS_POS_CURRENT_MIN', 'CNT_DRAWINGS_POS_CURRENT_MEAN',\n",
       "       'AMT_DRAWINGS_OTHER_CURRENT_MAX', 'AMT_DRAWINGS_OTHER_CURRENT_MIN',\n",
       "       'AMT_DRAWINGS_OTHER_CURRENT_MEAN', 'AMT_PAYMENT_CURRENT_MAX',\n",
       "       'AMT_PAYMENT_CURRENT_MIN', 'AMT_PAYMENT_CURRENT_MEAN', 'Records_CNT',\n",
       "       'NAME_CONTRACT_STATUS_Active', 'NAME_CONTRACT_STATUS_Completed',\n",
       "       'NAME_CONTRACT_STATUS_Demand', 'NAME_CONTRACT_STATUS_Signed',\n",
       "       'NAME_CONTRACT_STATUS_Sent_proposal', 'NAME_CONTRACT_STATUS_Refused',\n",
       "       'NAME_CONTRACT_STATUS_Approved', 'NameContractFirstStatus_Active',\n",
       "       'NameContractFirstStatus_Signed',\n",
       "       'NameContractFirstStatus_Sent_proposal',\n",
       "       'NameContractFirstStatus_Refused', 'NameContractFirstStatus_Demand',\n",
       "       'NameContractFirstStatus_Approved', 'NameContractFirstStatus_Completed',\n",
       "       'NameContractLastStatus_Active', 'NameContractLastStatus_Completed',\n",
       "       'NameContractLastStatus_Demand', 'NameContractLastStatus_Signed'],\n",
       "      dtype='object')"
      ]
     },
     "execution_count": 64,
     "metadata": {},
     "output_type": "execute_result"
    }
   ],
   "source": [
    "X_cc.columns"
   ]
  },
  {
   "cell_type": "code",
   "execution_count": 54,
   "metadata": {
    "ExecuteTime": {
     "end_time": "2018-08-17T15:27:30.168999Z",
     "start_time": "2018-08-17T15:27:30.153739Z"
    }
   },
   "outputs": [],
   "source": [
    "X_cc = X_cc.rename({'MONTHS_BALANCE_MAX':'CC_MONTHS_BALANCE_MAX',\n",
    "             'MONTHS_BALANCE_MIN':'CC_MONTHS_BALANCE_MIN',\n",
    "             'SK_DPD_DEF_MAX':'CC_SK_DPD_DEF_MAX',\n",
    "             'SK_DPD_DEF_MEAN':'CC_SK_DPD_DEF_MEAN',\n",
    "             'SK_DPD_DEF_MIN':'CC_SK_DPD_DEF_MIN',\n",
    "             'SK_DPD_MAX':'CC_SK_DPD_MAX',\n",
    "             'SK_DPD_MEAN':'CC_SK_DPD_MEAN',\n",
    "             'SK_DPD_MIN':'CC_SK_DPD_MIN' },axis=1)"
   ]
  },
  {
   "cell_type": "code",
   "execution_count": 55,
   "metadata": {
    "ExecuteTime": {
     "end_time": "2018-08-17T15:27:31.833908Z",
     "start_time": "2018-08-17T15:27:31.829660Z"
    }
   },
   "outputs": [],
   "source": [
    "col_left = set(X.columns)\n",
    "col_right = set(X_cc.columns)\n",
    "intersection1 = col_left.intersection(col_right)"
   ]
  },
  {
   "cell_type": "code",
   "execution_count": 56,
   "metadata": {
    "ExecuteTime": {
     "end_time": "2018-08-17T15:27:33.058372Z",
     "start_time": "2018-08-17T15:27:33.055459Z"
    }
   },
   "outputs": [
    {
     "data": {
      "text/plain": [
       "{'SK_ID_CURR', 'SK_ID_PREV'}"
      ]
     },
     "execution_count": 56,
     "metadata": {},
     "output_type": "execute_result"
    }
   ],
   "source": [
    "intersection1"
   ]
  },
  {
   "cell_type": "code",
   "execution_count": 57,
   "metadata": {
    "ExecuteTime": {
     "end_time": "2018-08-17T15:28:55.176636Z",
     "start_time": "2018-08-17T15:28:45.575372Z"
    }
   },
   "outputs": [],
   "source": [
    "X = X.merge(X_cc, how='left',left_on='SK_ID_PREV',right_on ='SK_ID_PREV')"
   ]
  },
  {
   "cell_type": "code",
   "execution_count": 58,
   "metadata": {
    "ExecuteTime": {
     "end_time": "2018-08-17T15:28:56.366904Z",
     "start_time": "2018-08-17T15:28:56.363838Z"
    }
   },
   "outputs": [
    {
     "data": {
      "text/plain": [
       "(1670214, 323)"
      ]
     },
     "execution_count": 58,
     "metadata": {},
     "output_type": "execute_result"
    }
   ],
   "source": [
    "X.shape"
   ]
  },
  {
   "cell_type": "code",
   "execution_count": 59,
   "metadata": {
    "ExecuteTime": {
     "end_time": "2018-08-17T15:29:19.154473Z",
     "start_time": "2018-08-17T15:29:15.303046Z"
    }
   },
   "outputs": [],
   "source": [
    "X = X.rename({'SK_ID_CURR_x':'SK_ID_CURR'},axis=1)\n",
    "X = X.drop(labels=['SK_ID_CURR_y'],axis=1)"
   ]
  },
  {
   "cell_type": "code",
   "execution_count": 60,
   "metadata": {
    "ExecuteTime": {
     "end_time": "2018-08-17T15:29:31.892456Z",
     "start_time": "2018-08-17T15:29:27.614079Z"
    }
   },
   "outputs": [],
   "source": [
    "sc3 = scan_nan_portion(X)"
   ]
  },
  {
   "cell_type": "code",
   "execution_count": 61,
   "metadata": {
    "ExecuteTime": {
     "end_time": "2018-08-17T15:29:38.939038Z",
     "start_time": "2018-08-17T15:29:38.927894Z"
    }
   },
   "outputs": [
    {
     "data": {
      "text/plain": [
       "CNT_DRAWINGS_CURRENT_MAX                 0.944357\n",
       "CNT_DRAWINGS_CURRENT_MIN                 0.944357\n",
       "CNT_DRAWINGS_CURRENT_MEAN                0.944357\n",
       "AMT_TOTAL_RECEIVABLE_MAX                 0.944357\n",
       "AMT_TOTAL_RECEIVABLE_MIN                 0.944357\n",
       "AMT_TOTAL_RECEIVABLE_MEAN                0.944357\n",
       "AMT_RECIVABLE_MAX                        0.944357\n",
       "AMT_RECIVABLE_MIN                        0.944357\n",
       "AMT_RECIVABLE_MEAN                       0.944357\n",
       "AMT_RECEIVABLE_PRINCIPAL_MAX             0.944357\n",
       "AMT_RECEIVABLE_PRINCIPAL_MIN             0.944357\n",
       "AMT_RECEIVABLE_PRINCIPAL_MEAN            0.944357\n",
       "CC_SK_DPD_MAX                            0.944357\n",
       "CC_SK_DPD_MIN                            0.944357\n",
       "CC_SK_DPD_MEAN                           0.944357\n",
       "AMT_PAYMENT_TOTAL_CURRENT_MAX            0.944357\n",
       "AMT_PAYMENT_TOTAL_CURRENT_MIN            0.944357\n",
       "AMT_PAYMENT_TOTAL_CURRENT_MEAN           0.944357\n",
       "AMT_DRAWINGS_CURRENT_MAX                 0.944357\n",
       "AMT_DRAWINGS_CURRENT_MIN                 0.944357\n",
       "AMT_DRAWINGS_CURRENT_MEAN                0.944357\n",
       "AMT_CREDIT_LIMIT_ACTUAL_MAX              0.944357\n",
       "AMT_CREDIT_LIMIT_ACTUAL_MIN              0.944357\n",
       "AMT_CREDIT_LIMIT_ACTUAL_MEAN             0.944357\n",
       "AMT_BALANCE_MAX                          0.944357\n",
       "AMT_BALANCE_MIN                          0.944357\n",
       "AMT_BALANCE_MEAN                         0.944357\n",
       "CC_MONTHS_BALANCE_MAX                    0.944357\n",
       "CC_MONTHS_BALANCE_MIN                    0.944357\n",
       "MONTHS_BALANCE_MEAN                      0.944357\n",
       "                                           ...   \n",
       "CNT_DRAWINGS_OTHER_CURRENT_MIN           0.944357\n",
       "CNT_DRAWINGS_OTHER_CURRENT_MEAN          0.944357\n",
       "CNT_DRAWINGS_POS_CURRENT_MAX             0.944357\n",
       "CNT_DRAWINGS_POS_CURRENT_MIN             0.944357\n",
       "CNT_DRAWINGS_POS_CURRENT_MEAN            0.944357\n",
       "AMT_DRAWINGS_OTHER_CURRENT_MAX           0.944357\n",
       "AMT_DRAWINGS_OTHER_CURRENT_MIN           0.944357\n",
       "AMT_DRAWINGS_OTHER_CURRENT_MEAN          0.944357\n",
       "AMT_PAYMENT_CURRENT_MAX                  0.944357\n",
       "AMT_PAYMENT_CURRENT_MIN                  0.944357\n",
       "AMT_PAYMENT_CURRENT_MEAN                 0.944357\n",
       "Records_CNT                              0.944357\n",
       "NAME_CONTRACT_STATUS_Active              0.944357\n",
       "NAME_CONTRACT_STATUS_Completed           0.944357\n",
       "NAME_CONTRACT_STATUS_Demand              0.944357\n",
       "NAME_CONTRACT_STATUS_Signed              0.944357\n",
       "NAME_CONTRACT_STATUS_Sent_proposal       0.944357\n",
       "NAME_CONTRACT_STATUS_Refused             0.944357\n",
       "NAME_CONTRACT_STATUS_Approved            0.944357\n",
       "NameContractFirstStatus_Active           0.944357\n",
       "NameContractFirstStatus_Signed           0.944357\n",
       "NameContractFirstStatus_Sent_proposal    0.944357\n",
       "NameContractFirstStatus_Refused          0.944357\n",
       "NameContractFirstStatus_Demand           0.944357\n",
       "NameContractFirstStatus_Approved         0.944357\n",
       "NameContractFirstStatus_Completed        0.944357\n",
       "NameContractLastStatus_Active            0.944357\n",
       "NameContractLastStatus_Completed         0.944357\n",
       "NameContractLastStatus_Demand            0.944357\n",
       "NameContractLastStatus_Signed            0.944357\n",
       "Length: 79, dtype: float64"
      ]
     },
     "execution_count": 61,
     "metadata": {},
     "output_type": "execute_result"
    }
   ],
   "source": [
    "sc3[sc3 > 0]"
   ]
  },
  {
   "cell_type": "code",
   "execution_count": 62,
   "metadata": {
    "ExecuteTime": {
     "end_time": "2018-08-17T15:30:16.713520Z",
     "start_time": "2018-08-17T15:30:15.936905Z"
    }
   },
   "outputs": [],
   "source": [
    "X = X.fillna(0)"
   ]
  },
  {
   "cell_type": "markdown",
   "metadata": {},
   "source": [
    "# Saving"
   ]
  },
  {
   "cell_type": "code",
   "execution_count": 63,
   "metadata": {
    "ExecuteTime": {
     "end_time": "2018-08-17T15:32:51.091993Z",
     "start_time": "2018-08-17T15:32:44.603370Z"
    }
   },
   "outputs": [],
   "source": [
    "# X.to_pickle('../../data/cleaned_data/previous_application_rnn_ALL.pkl')\n",
    "X.to_pickle(ENV.previous_app_combine_rnnALL.value)"
   ]
  },
  {
   "cell_type": "code",
   "execution_count": null,
   "metadata": {},
   "outputs": [],
   "source": []
  }
 ],
 "metadata": {
  "kernelspec": {
   "display_name": "Python 3",
   "language": "python",
   "name": "python3"
  },
  "language_info": {
   "codemirror_mode": {
    "name": "ipython",
    "version": 3
   },
   "file_extension": ".py",
   "mimetype": "text/x-python",
   "name": "python",
   "nbconvert_exporter": "python",
   "pygments_lexer": "ipython3",
   "version": "3.6.5"
  },
  "varInspector": {
   "cols": {
    "lenName": 16,
    "lenType": 16,
    "lenVar": 40
   },
   "kernels_config": {
    "python": {
     "delete_cmd_postfix": "",
     "delete_cmd_prefix": "del ",
     "library": "var_list.py",
     "varRefreshCmd": "print(var_dic_list())"
    },
    "r": {
     "delete_cmd_postfix": ") ",
     "delete_cmd_prefix": "rm(",
     "library": "var_list.r",
     "varRefreshCmd": "cat(var_dic_list()) "
    }
   },
   "types_to_exclude": [
    "module",
    "function",
    "builtin_function_or_method",
    "instance",
    "_Feature"
   ],
   "window_display": false
  }
 },
 "nbformat": 4,
 "nbformat_minor": 2
}
