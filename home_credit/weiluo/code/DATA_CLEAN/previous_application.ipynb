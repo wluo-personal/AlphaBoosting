{
 "cells": [
  {
   "cell_type": "code",
   "execution_count": 1,
   "metadata": {
    "ExecuteTime": {
     "end_time": "2018-08-16T03:55:45.835550Z",
     "start_time": "2018-08-16T03:55:45.089404Z"
    }
   },
   "outputs": [],
   "source": [
    "import os,sys\n",
    "import numpy as np\n",
    "import pandas as pd\n",
    "from tqdm import tqdm_notebook as tqdm\n",
    "from sklearn.externals import joblib\n",
    "import matplotlib.pyplot as plt\n",
    "sys.path.append('../LIB/')\n",
    "from env import ENV\n",
    "from sklearn.preprocessing import normalize\n",
    "from tqdm import tqdm\n",
    "from sklearn.preprocessing import OneHotEncoder\n",
    "from scipy.sparse import coo_matrix, hstack\n",
    "from sklearn.preprocessing import LabelEncoder\n",
    "import re"
   ]
  },
  {
   "cell_type": "code",
   "execution_count": 2,
   "metadata": {
    "ExecuteTime": {
     "end_time": "2018-08-16T03:55:45.848165Z",
     "start_time": "2018-08-16T03:55:45.838241Z"
    }
   },
   "outputs": [],
   "source": [
    "def scan_nan_portion(df):\n",
    "    portions = []\n",
    "    columns = []\n",
    "    for col in df.columns:\n",
    "        columns.append(col)\n",
    "        portions.append(np.sum(df[col].isnull())/len(df))\n",
    "    return pd.Series(data=portions, index=columns)\n",
    "\n",
    "\n",
    "def view_na_portion(df,col):\n",
    "    return sum(df[col].isnull())/len(df)\n",
    "\n",
    "\n",
    "def one_hot_encoding(df,col,pre_fix):\n",
    "    df = df.copy()\n",
    "    df[col] = df[col].fillna('NA_NOT_FOUND')\n",
    "    print('before encoding, shape is: {}'.format(df.shape))\n",
    "    for each in df[col].unique():\n",
    "        name = str(each)\n",
    "        col_name = pre_fix + name.replace(' ','_')\n",
    "        df[col_name] = 0\n",
    "        df.loc[df[col]==each,col_name] = 1\n",
    "    df = df.drop([col],axis=1)\n",
    "    print('after encoding, shape is: {}'.format(df.shape))\n",
    "    return df\n",
    "    \n",
    "\n",
    "class ordinal_encoder:\n",
    "    def __init__(self,fillna='NAN_FILL'):\n",
    "        self.fillna = fillna\n",
    "    \n",
    "    def fit(self,sr,NA_VALUE=None,realNA2Nega1=True):\n",
    "        \"\"\"\n",
    "        spycify the value which has already been encoded. make it to -1 after encoding\n",
    "        \"\"\"\n",
    "        self.NA_VALUE=NA_VALUE\n",
    "        order = sr.fillna(self.fillna).value_counts()\n",
    "        if self.NA_VALUE is not None:\n",
    "            order[NA_VALUE] = 9999999\n",
    "\n",
    "        if realNA2Nega1:\n",
    "            order[self.fillna] = 99999999\n",
    "        order = order.sort_values(ascending=True)\n",
    "\n",
    "\n",
    "        self.mapping = pd.Series(index=order.index.values, data=list(range(1,len(order)+1)))\n",
    "        if self.NA_VALUE is not None:\n",
    "            self.mapping[NA_VALUE] = -1\n",
    "\n",
    "        if realNA2Nega1:\n",
    "            self.mapping[self.fillna] = -1\n",
    "    \n",
    "    def transform(self,sr):\n",
    "        return sr.fillna(self.fillna).map(self.mapping)"
   ]
  },
  {
   "cell_type": "code",
   "execution_count": 3,
   "metadata": {
    "ExecuteTime": {
     "end_time": "2018-08-16T03:55:45.870621Z",
     "start_time": "2018-08-16T03:55:45.850319Z"
    }
   },
   "outputs": [],
   "source": [
    "oe = ordinal_encoder()"
   ]
  },
  {
   "cell_type": "code",
   "execution_count": 4,
   "metadata": {
    "ExecuteTime": {
     "end_time": "2018-08-16T03:55:49.296017Z",
     "start_time": "2018-08-16T03:55:45.873343Z"
    }
   },
   "outputs": [
    {
     "name": "stdout",
     "output_type": "stream",
     "text": [
      "Train shape: (307511, 122)\n",
      "Test shape: (48744, 121)\n",
      "Previous App shape: (1670214, 37)\n",
      "Installment shape: (13605401, 8)\n",
      "POS CASH shape: (10001358, 8)\n",
      "Credit Card shape: (3840312, 23)\n"
     ]
    }
   ],
   "source": [
    "X_Train = pd.read_pickle(ENV.application_train_cleaned.value)\n",
    "print('Train shape: {}'.format(X_Train.shape))\n",
    "\n",
    "X_Test = pd.read_pickle(ENV.application_test_cleaned.value)\n",
    "print('Test shape: {}'.format(X_Test.shape))\n",
    "\n",
    "X_pre = pd.read_pickle(ENV.previous_application_cleaned.value)\n",
    "print('Previous App shape: {}'.format(X_pre.shape))\n",
    "\n",
    "X_ins = pd.read_pickle(ENV.installments_payments_clean.value)\n",
    "print('Installment shape: {}'.format(X_ins.shape))\n",
    "\n",
    "X_pos = pd.read_pickle(ENV.POS_CASH_balance_clean.value)\n",
    "print('POS CASH shape: {}'.format(X_pos.shape))\n",
    "\n",
    "X_cc = pd.read_pickle(ENV.credit_card_balance_clean.value)\n",
    "print('Credit Card shape: {}'.format(X_cc.shape))"
   ]
  },
  {
   "cell_type": "markdown",
   "metadata": {},
   "source": [
    "# load original doc"
   ]
  },
  {
   "cell_type": "code",
   "execution_count": 5,
   "metadata": {
    "ExecuteTime": {
     "end_time": "2018-08-16T03:56:24.675049Z",
     "start_time": "2018-08-16T03:55:49.298157Z"
    }
   },
   "outputs": [
    {
     "name": "stdout",
     "output_type": "stream",
     "text": [
      "Previous App shape: (1670214, 37)\n",
      "Previous App shape: (13605401, 8)\n",
      "Previous App shape: (10001358, 8)\n",
      "Previous App shape: (3840312, 23)\n"
     ]
    }
   ],
   "source": [
    "X_pre_ori = pd.read_csv(ENV.previous_application_ori.value)\n",
    "print('Previous App shape: {}'.format(X_pre_ori.shape))\n",
    "\n",
    "X_ins_ori = pd.read_csv(ENV.installments_payments_ori.value)\n",
    "print('Previous App shape: {}'.format(X_ins_ori.shape))\n",
    "\n",
    "X_pos_ori = pd.read_csv(ENV.POS_CASH_balance_ori.value)\n",
    "print('Previous App shape: {}'.format(X_pos_ori.shape))\n",
    "\n",
    "X_cc_ori = pd.read_csv(ENV.credit_card_balance_ori.value)\n",
    "print('Previous App shape: {}'.format(X_cc_ori.shape))"
   ]
  },
  {
   "cell_type": "markdown",
   "metadata": {},
   "source": [
    "# Process previous application"
   ]
  },
  {
   "cell_type": "code",
   "execution_count": 6,
   "metadata": {
    "ExecuteTime": {
     "end_time": "2018-08-16T03:56:24.689243Z",
     "start_time": "2018-08-16T03:56:24.679874Z"
    }
   },
   "outputs": [
    {
     "data": {
      "text/plain": [
       "Index(['SK_ID_PREV', 'SK_ID_CURR', 'NAME_CONTRACT_TYPE', 'AMT_ANNUITY',\n",
       "       'AMT_APPLICATION', 'AMT_CREDIT', 'AMT_DOWN_PAYMENT', 'AMT_GOODS_PRICE',\n",
       "       'WEEKDAY_APPR_PROCESS_START', 'HOUR_APPR_PROCESS_START',\n",
       "       'FLAG_LAST_APPL_PER_CONTRACT', 'NFLAG_LAST_APPL_IN_DAY',\n",
       "       'RATE_DOWN_PAYMENT', 'RATE_INTEREST_PRIMARY',\n",
       "       'RATE_INTEREST_PRIVILEGED', 'NAME_CASH_LOAN_PURPOSE',\n",
       "       'NAME_CONTRACT_STATUS', 'DAYS_DECISION', 'NAME_PAYMENT_TYPE',\n",
       "       'CODE_REJECT_REASON', 'NAME_TYPE_SUITE', 'NAME_CLIENT_TYPE',\n",
       "       'NAME_GOODS_CATEGORY', 'NAME_PORTFOLIO', 'NAME_PRODUCT_TYPE',\n",
       "       'CHANNEL_TYPE', 'SELLERPLACE_AREA', 'NAME_SELLER_INDUSTRY',\n",
       "       'CNT_PAYMENT', 'NAME_YIELD_GROUP', 'PRODUCT_COMBINATION',\n",
       "       'DAYS_FIRST_DRAWING', 'DAYS_FIRST_DUE', 'DAYS_LAST_DUE_1ST_VERSION',\n",
       "       'DAYS_LAST_DUE', 'DAYS_TERMINATION', 'NFLAG_INSURED_ON_APPROVAL'],\n",
       "      dtype='object')"
      ]
     },
     "execution_count": 6,
     "metadata": {},
     "output_type": "execute_result"
    }
   ],
   "source": [
    "X_pre_ori.columns"
   ]
  },
  {
   "cell_type": "code",
   "execution_count": 7,
   "metadata": {
    "ExecuteTime": {
     "end_time": "2018-08-16T03:57:58.079792Z",
     "start_time": "2018-08-16T03:56:24.693798Z"
    }
   },
   "outputs": [
    {
     "name": "stdout",
     "output_type": "stream",
     "text": [
      "NAME_CONTRACT_TYPE\n",
      "before encoding, shape is: (1670214, 37)\n",
      "after encoding, shape is: (1670214, 40)\n",
      "\n",
      "\n",
      "WEEKDAY_APPR_PROCESS_START\n",
      "before encoding, shape is: (1670214, 40)\n",
      "after encoding, shape is: (1670214, 46)\n",
      "\n",
      "\n",
      "HOUR_APPR_PROCESS_START\n",
      "before encoding, shape is: (1670214, 46)\n",
      "after encoding, shape is: (1670214, 69)\n",
      "\n",
      "\n",
      "FLAG_LAST_APPL_PER_CONTRACT\n",
      "before encoding, shape is: (1670214, 69)\n",
      "after encoding, shape is: (1670214, 70)\n",
      "\n",
      "\n",
      "NFLAG_LAST_APPL_IN_DAY\n",
      "before encoding, shape is: (1670214, 70)\n",
      "after encoding, shape is: (1670214, 71)\n",
      "\n",
      "\n",
      "NAME_CASH_LOAN_PURPOSE\n",
      "before encoding, shape is: (1670214, 71)\n",
      "after encoding, shape is: (1670214, 95)\n",
      "\n",
      "\n",
      "NAME_CONTRACT_STATUS\n",
      "before encoding, shape is: (1670214, 95)\n",
      "after encoding, shape is: (1670214, 98)\n",
      "\n",
      "\n",
      "NAME_PAYMENT_TYPE\n",
      "before encoding, shape is: (1670214, 98)\n",
      "after encoding, shape is: (1670214, 101)\n",
      "\n",
      "\n",
      "CODE_REJECT_REASON\n",
      "before encoding, shape is: (1670214, 101)\n",
      "after encoding, shape is: (1670214, 109)\n",
      "\n",
      "\n",
      "NAME_TYPE_SUITE\n",
      "before encoding, shape is: (1670214, 109)\n",
      "after encoding, shape is: (1670214, 116)\n",
      "\n",
      "\n",
      "NAME_CLIENT_TYPE\n",
      "before encoding, shape is: (1670214, 116)\n",
      "after encoding, shape is: (1670214, 119)\n",
      "\n",
      "\n",
      "NAME_GOODS_CATEGORY\n",
      "before encoding, shape is: (1670214, 119)\n",
      "after encoding, shape is: (1670214, 146)\n",
      "\n",
      "\n",
      "NAME_PORTFOLIO\n",
      "before encoding, shape is: (1670214, 146)\n",
      "after encoding, shape is: (1670214, 150)\n",
      "\n",
      "\n",
      "NAME_PRODUCT_TYPE\n",
      "before encoding, shape is: (1670214, 150)\n",
      "after encoding, shape is: (1670214, 152)\n",
      "\n",
      "\n",
      "CHANNEL_TYPE\n",
      "before encoding, shape is: (1670214, 152)\n",
      "after encoding, shape is: (1670214, 159)\n",
      "\n",
      "\n",
      "NAME_SELLER_INDUSTRY\n",
      "before encoding, shape is: (1670214, 159)\n",
      "after encoding, shape is: (1670214, 169)\n",
      "\n",
      "\n",
      "NAME_YIELD_GROUP\n",
      "before encoding, shape is: (1670214, 169)\n",
      "after encoding, shape is: (1670214, 173)\n",
      "\n",
      "\n",
      "PRODUCT_COMBINATION\n",
      "before encoding, shape is: (1670214, 173)\n",
      "after encoding, shape is: (1670214, 190)\n",
      "\n",
      "\n",
      "NFLAG_INSURED_ON_APPROVAL\n",
      "before encoding, shape is: (1670214, 190)\n",
      "after encoding, shape is: (1670214, 192)\n",
      "\n",
      "\n"
     ]
    }
   ],
   "source": [
    "X = X_pre_ori.copy()\n",
    "one_hot_encoding_list = ['NAME_CONTRACT_TYPE',\n",
    "                         'WEEKDAY_APPR_PROCESS_START',\n",
    "                         'HOUR_APPR_PROCESS_START',\n",
    "                         'FLAG_LAST_APPL_PER_CONTRACT',\n",
    "                         'NFLAG_LAST_APPL_IN_DAY',\n",
    "                         'NAME_CASH_LOAN_PURPOSE',\n",
    "                         'NAME_CONTRACT_STATUS',\n",
    "                         'NAME_PAYMENT_TYPE',\n",
    "                         'CODE_REJECT_REASON',\n",
    "                         'NAME_TYPE_SUITE',\n",
    "                         'NAME_CLIENT_TYPE',\n",
    "                         'NAME_GOODS_CATEGORY',\n",
    "                         'NAME_PORTFOLIO',\n",
    "                         'NAME_PRODUCT_TYPE',\n",
    "                         'CHANNEL_TYPE',\n",
    "                         'NAME_SELLER_INDUSTRY',\n",
    "                         'NAME_YIELD_GROUP',\n",
    "                         'PRODUCT_COMBINATION',\n",
    "                         'NFLAG_INSURED_ON_APPROVAL']\n",
    "\n",
    "for col in one_hot_encoding_list:\n",
    "    print(col)\n",
    "    X = one_hot_encoding(X,col,col)\n",
    "    print('\\n')"
   ]
  },
  {
   "cell_type": "markdown",
   "metadata": {},
   "source": [
    "### process AMT_ANNUITY"
   ]
  },
  {
   "cell_type": "code",
   "execution_count": 8,
   "metadata": {
    "ExecuteTime": {
     "end_time": "2018-08-16T03:57:58.290562Z",
     "start_time": "2018-08-16T03:57:58.081815Z"
    }
   },
   "outputs": [
    {
     "name": "stdout",
     "output_type": "stream",
     "text": [
      "0.22286665062081865\n",
      "count    1.297979e+06\n",
      "mean     1.595512e+04\n",
      "std      1.478214e+04\n",
      "min      0.000000e+00\n",
      "25%      6.321780e+03\n",
      "50%      1.125000e+04\n",
      "75%      2.065842e+04\n",
      "max      4.180581e+05\n",
      "Name: AMT_ANNUITY, dtype: float64\n"
     ]
    }
   ],
   "source": [
    "col = 'AMT_ANNUITY'\n",
    "print(view_na_portion(X_pre_ori,col))\n",
    "print(X_pre_ori[col].describe())\n",
    "\n",
    "\n",
    "X[col] = X[col].fillna(X[col].mean())"
   ]
  },
  {
   "cell_type": "markdown",
   "metadata": {},
   "source": [
    "### Process AMT_APPLICATION"
   ]
  },
  {
   "cell_type": "code",
   "execution_count": 9,
   "metadata": {
    "ExecuteTime": {
     "end_time": "2018-08-16T03:57:58.441906Z",
     "start_time": "2018-08-16T03:57:58.295557Z"
    }
   },
   "outputs": [
    {
     "name": "stdout",
     "output_type": "stream",
     "text": [
      "0.0\n",
      "count    1.670214e+06\n",
      "mean     1.752339e+05\n",
      "std      2.927798e+05\n",
      "min      0.000000e+00\n",
      "25%      1.872000e+04\n",
      "50%      7.104600e+04\n",
      "75%      1.803600e+05\n",
      "max      6.905160e+06\n",
      "Name: AMT_APPLICATION, dtype: float64\n"
     ]
    }
   ],
   "source": [
    "col = 'AMT_APPLICATION'\n",
    "print(view_na_portion(X_pre_ori,col))\n",
    "print(X_pre_ori[col].describe())\n",
    "\n",
    "# NO NA"
   ]
  },
  {
   "cell_type": "markdown",
   "metadata": {},
   "source": [
    "### Process AMT_CREDIT"
   ]
  },
  {
   "cell_type": "code",
   "execution_count": 10,
   "metadata": {
    "ExecuteTime": {
     "end_time": "2018-08-16T03:57:58.609145Z",
     "start_time": "2018-08-16T03:57:58.446331Z"
    }
   },
   "outputs": [
    {
     "name": "stdout",
     "output_type": "stream",
     "text": [
      "5.987256722791211e-07\n",
      "count    1.670213e+06\n",
      "mean     1.961140e+05\n",
      "std      3.185746e+05\n",
      "min      0.000000e+00\n",
      "25%      2.416050e+04\n",
      "50%      8.054100e+04\n",
      "75%      2.164185e+05\n",
      "max      6.905160e+06\n",
      "Name: AMT_CREDIT, dtype: float64\n"
     ]
    }
   ],
   "source": [
    "col = 'AMT_CREDIT'\n",
    "print(view_na_portion(X_pre_ori,col))\n",
    "print(X_pre_ori[col].describe())\n",
    "\n",
    "X[col] = X[col].fillna(X[col].mean())"
   ]
  },
  {
   "cell_type": "markdown",
   "metadata": {},
   "source": [
    "### Process AMT_DOWN_PAYMENT"
   ]
  },
  {
   "cell_type": "code",
   "execution_count": 11,
   "metadata": {
    "ExecuteTime": {
     "end_time": "2018-08-16T03:57:58.801213Z",
     "start_time": "2018-08-16T03:57:58.614525Z"
    }
   },
   "outputs": [
    {
     "name": "stdout",
     "output_type": "stream",
     "text": [
      "0.536364801157217\n",
      "count    7.743700e+05\n",
      "mean     6.697402e+03\n",
      "std      2.092150e+04\n",
      "min     -9.000000e-01\n",
      "25%      0.000000e+00\n",
      "50%      1.638000e+03\n",
      "75%      7.740000e+03\n",
      "max      3.060045e+06\n",
      "Name: AMT_DOWN_PAYMENT, dtype: float64\n"
     ]
    }
   ],
   "source": [
    "col = 'AMT_DOWN_PAYMENT'\n",
    "print(view_na_portion(X_pre_ori,col))\n",
    "print(X_pre_ori[col].describe())\n",
    "\n",
    "X[col] = X[col].fillna(X[col].mean())"
   ]
  },
  {
   "cell_type": "markdown",
   "metadata": {},
   "source": [
    "### Process AMT_GOODS_PRICE"
   ]
  },
  {
   "cell_type": "code",
   "execution_count": 12,
   "metadata": {
    "ExecuteTime": {
     "end_time": "2018-08-16T03:57:59.011305Z",
     "start_time": "2018-08-16T03:57:58.806047Z"
    }
   },
   "outputs": [
    {
     "name": "stdout",
     "output_type": "stream",
     "text": [
      "0.23081772754868538\n",
      "count    1.284699e+06\n",
      "mean     2.278473e+05\n",
      "std      3.153966e+05\n",
      "min      0.000000e+00\n",
      "25%      5.084100e+04\n",
      "50%      1.123200e+05\n",
      "75%      2.340000e+05\n",
      "max      6.905160e+06\n",
      "Name: AMT_GOODS_PRICE, dtype: float64\n"
     ]
    }
   ],
   "source": [
    "col = 'AMT_GOODS_PRICE'\n",
    "print(view_na_portion(X_pre_ori,col))\n",
    "print(X_pre_ori[col].describe())\n",
    "\n",
    "X[col] = X[col].fillna(X[col].mean())"
   ]
  },
  {
   "cell_type": "markdown",
   "metadata": {},
   "source": [
    "### Process RATE_DOWN_PAYMENT"
   ]
  },
  {
   "cell_type": "code",
   "execution_count": 13,
   "metadata": {
    "ExecuteTime": {
     "end_time": "2018-08-16T03:57:59.199801Z",
     "start_time": "2018-08-16T03:57:59.015719Z"
    }
   },
   "outputs": [
    {
     "name": "stdout",
     "output_type": "stream",
     "text": [
      "0.536364801157217\n",
      "count    774370.000000\n",
      "mean          0.079637\n",
      "std           0.107823\n",
      "min          -0.000015\n",
      "25%           0.000000\n",
      "50%           0.051605\n",
      "75%           0.108909\n",
      "max           1.000000\n",
      "Name: RATE_DOWN_PAYMENT, dtype: float64\n"
     ]
    }
   ],
   "source": [
    "col = 'RATE_DOWN_PAYMENT'\n",
    "print(view_na_portion(X_pre_ori,col))\n",
    "print(X_pre_ori[col].describe())\n",
    "\n",
    "X[col] = X[col].fillna(X[col].mean())"
   ]
  },
  {
   "cell_type": "markdown",
   "metadata": {},
   "source": [
    "### Process RATE_INTEREST_PRIMARY"
   ]
  },
  {
   "cell_type": "code",
   "execution_count": 14,
   "metadata": {
    "ExecuteTime": {
     "end_time": "2018-08-16T03:57:59.330231Z",
     "start_time": "2018-08-16T03:57:59.206836Z"
    }
   },
   "outputs": [
    {
     "name": "stdout",
     "output_type": "stream",
     "text": [
      "0.9964369835242669\n",
      "count    5951.000000\n",
      "mean        0.188357\n",
      "std         0.087671\n",
      "min         0.034781\n",
      "25%         0.160716\n",
      "50%         0.189122\n",
      "75%         0.193330\n",
      "max         1.000000\n",
      "Name: RATE_INTEREST_PRIMARY, dtype: float64\n"
     ]
    }
   ],
   "source": [
    "col = 'RATE_INTEREST_PRIMARY'\n",
    "print(view_na_portion(X_pre_ori,col))\n",
    "print(X_pre_ori[col].describe())\n",
    "\n",
    "X[col] = X[col].fillna(X[col].mean())"
   ]
  },
  {
   "cell_type": "markdown",
   "metadata": {},
   "source": [
    "### Process RATE_INTEREST_PRIVILEGED"
   ]
  },
  {
   "cell_type": "code",
   "execution_count": 15,
   "metadata": {
    "ExecuteTime": {
     "end_time": "2018-08-16T03:57:59.457493Z",
     "start_time": "2018-08-16T03:57:59.335558Z"
    }
   },
   "outputs": [
    {
     "name": "stdout",
     "output_type": "stream",
     "text": [
      "0.9964369835242669\n",
      "count    5951.000000\n",
      "mean        0.773503\n",
      "std         0.100879\n",
      "min         0.373150\n",
      "25%         0.715645\n",
      "50%         0.835095\n",
      "75%         0.852537\n",
      "max         1.000000\n",
      "Name: RATE_INTEREST_PRIVILEGED, dtype: float64\n"
     ]
    }
   ],
   "source": [
    "col = 'RATE_INTEREST_PRIVILEGED'\n",
    "print(view_na_portion(X_pre_ori,col))\n",
    "print(X_pre_ori[col].describe())\n",
    "X[col] = X[col].fillna(X[col].mean())"
   ]
  },
  {
   "cell_type": "markdown",
   "metadata": {},
   "source": [
    "### Process DAYS_DECISION"
   ]
  },
  {
   "cell_type": "code",
   "execution_count": 16,
   "metadata": {
    "ExecuteTime": {
     "end_time": "2018-08-16T03:57:59.602420Z",
     "start_time": "2018-08-16T03:57:59.462931Z"
    }
   },
   "outputs": [
    {
     "name": "stdout",
     "output_type": "stream",
     "text": [
      "0.0\n",
      "count    1.670214e+06\n",
      "mean    -8.806797e+02\n",
      "std      7.790997e+02\n",
      "min     -2.922000e+03\n",
      "25%     -1.300000e+03\n",
      "50%     -5.810000e+02\n",
      "75%     -2.800000e+02\n",
      "max     -1.000000e+00\n",
      "Name: DAYS_DECISION, dtype: float64\n"
     ]
    }
   ],
   "source": [
    "col = 'DAYS_DECISION'\n",
    "print(view_na_portion(X_pre_ori,col))\n",
    "print(X_pre_ori[col].describe())"
   ]
  },
  {
   "cell_type": "markdown",
   "metadata": {},
   "source": [
    "### Process SELLERPLACE_AREA"
   ]
  },
  {
   "cell_type": "code",
   "execution_count": 17,
   "metadata": {
    "ExecuteTime": {
     "end_time": "2018-08-16T03:57:59.731195Z",
     "start_time": "2018-08-16T03:57:59.607373Z"
    }
   },
   "outputs": [
    {
     "name": "stdout",
     "output_type": "stream",
     "text": [
      "0.0\n",
      "count    1.670214e+06\n",
      "mean     3.139511e+02\n",
      "std      7.127443e+03\n",
      "min     -1.000000e+00\n",
      "25%     -1.000000e+00\n",
      "50%      3.000000e+00\n",
      "75%      8.200000e+01\n",
      "max      4.000000e+06\n",
      "Name: SELLERPLACE_AREA, dtype: float64\n"
     ]
    }
   ],
   "source": [
    "col = 'SELLERPLACE_AREA'\n",
    "print(view_na_portion(X_pre_ori,col))\n",
    "print(X_pre_ori[col].describe())"
   ]
  },
  {
   "cell_type": "markdown",
   "metadata": {},
   "source": [
    "### Process CNT_PAYMENT"
   ]
  },
  {
   "cell_type": "code",
   "execution_count": 18,
   "metadata": {
    "ExecuteTime": {
     "end_time": "2018-08-16T03:57:59.941787Z",
     "start_time": "2018-08-16T03:57:59.735631Z"
    }
   },
   "outputs": [
    {
     "name": "stdout",
     "output_type": "stream",
     "text": [
      "0.22286365699245725\n",
      "count    1.297984e+06\n",
      "mean     1.605408e+01\n",
      "std      1.456729e+01\n",
      "min      0.000000e+00\n",
      "25%      6.000000e+00\n",
      "50%      1.200000e+01\n",
      "75%      2.400000e+01\n",
      "max      8.400000e+01\n",
      "Name: CNT_PAYMENT, dtype: float64\n"
     ]
    }
   ],
   "source": [
    "col = 'CNT_PAYMENT'\n",
    "print(view_na_portion(X_pre_ori,col))\n",
    "print(X_pre_ori[col].describe())\n",
    "\n",
    "X[col] = X[col].fillna(X[col].mean())"
   ]
  },
  {
   "cell_type": "markdown",
   "metadata": {},
   "source": [
    "### Process DAYS_FIRST_DRAWING"
   ]
  },
  {
   "cell_type": "code",
   "execution_count": 19,
   "metadata": {
    "ExecuteTime": {
     "end_time": "2018-08-16T03:58:00.098186Z",
     "start_time": "2018-08-16T03:57:59.947707Z"
    }
   },
   "outputs": [
    {
     "name": "stdout",
     "output_type": "stream",
     "text": [
      "0.9624569067197377\n",
      "count    62705.000000\n",
      "mean     -1035.246791\n",
      "std        922.710316\n",
      "min      -2922.000000\n",
      "25%      -1721.000000\n",
      "50%       -621.000000\n",
      "75%       -303.000000\n",
      "max         -2.000000\n",
      "Name: DAYS_FIRST_DRAWING, dtype: float64\n"
     ]
    }
   ],
   "source": [
    "col = 'DAYS_FIRST_DRAWING'\n",
    "X_pre_ori.loc[X_pre_ori[col]==365243,col] = np.NAN\n",
    "print(view_na_portion(X_pre_ori,col))\n",
    "print(X_pre_ori[col].describe())\n",
    "\n",
    "X[col] = X[col].fillna(-621)\n"
   ]
  },
  {
   "cell_type": "markdown",
   "metadata": {},
   "source": [
    "### Process DAYS_FIRST_DUE -- not sure"
   ]
  },
  {
   "cell_type": "code",
   "execution_count": 20,
   "metadata": {
    "ExecuteTime": {
     "end_time": "2018-08-16T03:58:00.327823Z",
     "start_time": "2018-08-16T03:58:00.103158Z"
    }
   },
   "outputs": [
    {
     "name": "stdout",
     "output_type": "stream",
     "text": [
      "0.42731649956233153\n",
      "count    956504.000000\n",
      "mean      -1106.583027\n",
      "std         790.703113\n",
      "min       -2892.000000\n",
      "25%       -1676.000000\n",
      "50%        -874.000000\n",
      "75%        -459.000000\n",
      "max          -2.000000\n",
      "Name: DAYS_FIRST_DUE, dtype: float64\n"
     ]
    }
   ],
   "source": [
    "col = 'DAYS_FIRST_DUE'\n",
    "X_pre_ori.loc[X_pre_ori[col]==365243,col] = np.NAN\n",
    "print(view_na_portion(X_pre_ori,col))\n",
    "print(X_pre_ori[col].describe())\n",
    "\n",
    "X[col] = X[col].fillna(-874)"
   ]
  },
  {
   "cell_type": "markdown",
   "metadata": {},
   "source": [
    "### Process DAYS_LAST_DUE_1ST_VERSION"
   ]
  },
  {
   "cell_type": "code",
   "execution_count": 21,
   "metadata": {
    "ExecuteTime": {
     "end_time": "2018-08-16T03:58:00.572819Z",
     "start_time": "2018-08-16T03:58:00.332711Z"
    }
   },
   "outputs": [
    {
     "name": "stdout",
     "output_type": "stream",
     "text": [
      "0.4591800811153541\n",
      "count    903285.000000\n",
      "mean       -677.158175\n",
      "std         923.601152\n",
      "min       -2801.000000\n",
      "25%       -1359.000000\n",
      "50%        -480.000000\n",
      "75%          -2.000000\n",
      "max        2389.000000\n",
      "Name: DAYS_LAST_DUE_1ST_VERSION, dtype: float64\n"
     ]
    }
   ],
   "source": [
    "col = 'DAYS_LAST_DUE_1ST_VERSION'\n",
    "X_pre_ori.loc[X_pre_ori[col]==365243,col] = np.NAN\n",
    "print(view_na_portion(X_pre_ori,col))\n",
    "print(X_pre_ori[col].describe())\n",
    "\n",
    "X[col] = X[col].fillna(-480)"
   ]
  },
  {
   "cell_type": "markdown",
   "metadata": {},
   "source": [
    "### Process DAYS_LAST_DUE"
   ]
  },
  {
   "cell_type": "code",
   "execution_count": 22,
   "metadata": {
    "ExecuteTime": {
     "end_time": "2018-08-16T03:58:00.802731Z",
     "start_time": "2018-08-16T03:58:00.577619Z"
    }
   },
   "outputs": [
    {
     "name": "stdout",
     "output_type": "stream",
     "text": [
      "0.5294447298370148\n",
      "count    785928.000000\n",
      "mean       -996.179128\n",
      "std         752.703178\n",
      "min       -2889.000000\n",
      "25%       -1566.000000\n",
      "50%        -801.000000\n",
      "75%        -353.000000\n",
      "max          -2.000000\n",
      "Name: DAYS_LAST_DUE, dtype: float64\n"
     ]
    }
   ],
   "source": [
    "col = 'DAYS_LAST_DUE'\n",
    "X_pre_ori.loc[X_pre_ori[col]==365243,col] = np.NAN\n",
    "print(view_na_portion(X_pre_ori,col))\n",
    "print(X_pre_ori[col].describe())\n",
    "\n",
    "X[col] = X[col].fillna(-801)"
   ]
  },
  {
   "cell_type": "markdown",
   "metadata": {},
   "source": [
    "### Process DAYS_TERMINATION"
   ]
  },
  {
   "cell_type": "code",
   "execution_count": 23,
   "metadata": {
    "ExecuteTime": {
     "end_time": "2018-08-16T03:58:01.032288Z",
     "start_time": "2018-08-16T03:58:00.809199Z"
    }
   },
   "outputs": [
    {
     "name": "stdout",
     "output_type": "stream",
     "text": [
      "0.5382412074141397\n",
      "count    771236.000000\n",
      "mean       -978.375222\n",
      "std         749.134297\n",
      "min       -2874.000000\n",
      "25%       -1539.000000\n",
      "50%        -780.000000\n",
      "75%        -337.000000\n",
      "max          -2.000000\n",
      "Name: DAYS_TERMINATION, dtype: float64\n"
     ]
    }
   ],
   "source": [
    "col = 'DAYS_TERMINATION'\n",
    "X_pre_ori.loc[X_pre_ori[col]==365243,col] = np.NAN\n",
    "print(view_na_portion(X_pre_ori,col))\n",
    "print(X_pre_ori[col].describe())\n",
    "\n",
    "X[col] = X[col].fillna(-780)"
   ]
  },
  {
   "cell_type": "code",
   "execution_count": 24,
   "metadata": {
    "ExecuteTime": {
     "end_time": "2018-08-16T03:58:04.684260Z",
     "start_time": "2018-08-16T03:58:01.037557Z"
    },
    "scrolled": false
   },
   "outputs": [
    {
     "data": {
      "text/plain": [
       "SK_ID_PREV                                                0.0\n",
       "NAME_GOODS_CATEGORYSport_and_Leisure                      0.0\n",
       "NAME_GOODS_CATEGORYHomewares                              0.0\n",
       "NAME_GOODS_CATEGORYGardening                              0.0\n",
       "NAME_GOODS_CATEGORYJewelry                                0.0\n",
       "NAME_GOODS_CATEGORYVehicles                               0.0\n",
       "NAME_GOODS_CATEGORYEducation                              0.0\n",
       "NAME_GOODS_CATEGORYMedical_Supplies                       0.0\n",
       "NAME_GOODS_CATEGORYOther                                  0.0\n",
       "NAME_GOODS_CATEGORYDirect_Sales                           0.0\n",
       "NAME_GOODS_CATEGORYFurniture                              0.0\n",
       "NAME_GOODS_CATEGORYOffice_Appliances                      0.0\n",
       "NAME_GOODS_CATEGORYTourism                                0.0\n",
       "NAME_GOODS_CATEGORYInsurance                              0.0\n",
       "NAME_GOODS_CATEGORYAdditional_Service                     0.0\n",
       "NAME_GOODS_CATEGORYWeapon                                 0.0\n",
       "NAME_GOODS_CATEGORYAnimals                                0.0\n",
       "NAME_GOODS_CATEGORYHouse_Construction                     0.0\n",
       "NAME_PORTFOLIOPOS                                         0.0\n",
       "NAME_PORTFOLIOCash                                        0.0\n",
       "NAME_PORTFOLIOXNA                                         0.0\n",
       "NAME_GOODS_CATEGORYFitness                                0.0\n",
       "NAME_PORTFOLIOCards                                       0.0\n",
       "NAME_GOODS_CATEGORYClothing_and_Accessories               0.0\n",
       "NAME_GOODS_CATEGORYAudio/Video                            0.0\n",
       "CODE_REJECT_REASONSYSTEM                                  0.0\n",
       "NAME_TYPE_SUITENA_NOT_FOUND                               0.0\n",
       "NAME_TYPE_SUITEUnaccompanied                              0.0\n",
       "NAME_TYPE_SUITESpouse,_partner                            0.0\n",
       "NAME_TYPE_SUITEFamily                                     0.0\n",
       "                                                         ... \n",
       "CODE_REJECT_REASONHC                                      0.0\n",
       "CODE_REJECT_REASONLIMIT                                   0.0\n",
       "CODE_REJECT_REASONCLIENT                                  0.0\n",
       "NAME_CONTRACT_STATUSCanceled                              0.0\n",
       "NAME_CASH_LOAN_PURPOSEEducation                           0.0\n",
       "NAME_CASH_LOAN_PURPOSEBuying_a_holiday_home_/_land        0.0\n",
       "NAME_CASH_LOAN_PURPOSEBuying_a_new_car                    0.0\n",
       "HOUR_APPR_PROCESS_START1                                  0.0\n",
       "HOUR_APPR_PROCESS_START2                                  0.0\n",
       "HOUR_APPR_PROCESS_START23                                 0.0\n",
       "HOUR_APPR_PROCESS_START0                                  0.0\n",
       "FLAG_LAST_APPL_PER_CONTRACTY                              0.0\n",
       "FLAG_LAST_APPL_PER_CONTRACTN                              0.0\n",
       "NFLAG_LAST_APPL_IN_DAY1                                   0.0\n",
       "NFLAG_LAST_APPL_IN_DAY0                                   0.0\n",
       "NAME_CASH_LOAN_PURPOSEXAP                                 0.0\n",
       "NAME_CASH_LOAN_PURPOSEXNA                                 0.0\n",
       "NAME_CASH_LOAN_PURPOSERepairs                             0.0\n",
       "NAME_CASH_LOAN_PURPOSEEveryday_expenses                   0.0\n",
       "NAME_CASH_LOAN_PURPOSECar_repairs                         0.0\n",
       "NAME_CASH_LOAN_PURPOSEBuilding_a_house_or_an_annex        0.0\n",
       "NAME_CASH_LOAN_PURPOSEOther                               0.0\n",
       "NAME_CASH_LOAN_PURPOSEJourney                             0.0\n",
       "NAME_CASH_LOAN_PURPOSEPurchase_of_electronic_equipment    0.0\n",
       "NAME_CASH_LOAN_PURPOSEMedicine                            0.0\n",
       "NAME_CASH_LOAN_PURPOSEPayments_on_other_loans             0.0\n",
       "NAME_CASH_LOAN_PURPOSEUrgent_needs                        0.0\n",
       "NAME_CASH_LOAN_PURPOSEBuying_a_used_car                   0.0\n",
       "NFLAG_INSURED_ON_APPROVAL1.0                              0.0\n",
       "NFLAG_INSURED_ON_APPROVALNA_NOT_FOUND                     0.0\n",
       "Length: 192, dtype: float64"
      ]
     },
     "execution_count": 24,
     "metadata": {},
     "output_type": "execute_result"
    }
   ],
   "source": [
    "scan_nan_portion(X).sort_values()"
   ]
  },
  {
   "cell_type": "markdown",
   "metadata": {},
   "source": [
    "# Square"
   ]
  },
  {
   "cell_type": "code",
   "execution_count": 25,
   "metadata": {
    "ExecuteTime": {
     "end_time": "2018-08-16T03:58:04.688544Z",
     "start_time": "2018-08-16T03:58:04.685948Z"
    }
   },
   "outputs": [],
   "source": [
    "# trans_col = ['AMT_ANNUITY',\n",
    "#              'AMT_APPLICATION',\n",
    "#              'AMT_CREDIT',\n",
    "#              'AMT_DOWN_PAYMENT',\n",
    "#              'AMT_GOODS_PRICE',\n",
    "#              'RATE_DOWN_PAYMENT',\n",
    "#              'RATE_INTEREST_PRIMARY',\n",
    "#              'RATE_INTEREST_PRIVILEGED',\n",
    "#              'SELLERPLACE_AREA',\n",
    "#              'CNT_PAYMENT',\n",
    "#              'DAYS_FIRST_DRAWING',\n",
    "#              'DAYS_FIRST_DUE',\n",
    "#              'DAYS_LAST_DUE_1ST_VERSION',\n",
    "#              'DAYS_LAST_DUE',\n",
    "#              'DAYS_TERMINATION']\n",
    "\n",
    "# from itertools import combinations\n",
    "\n",
    "# squre_col = []\n",
    "# for col in trans_col:\n",
    "#     col_name = col + '_squre'\n",
    "#     squre_col.append(col_name)\n",
    "#     X[col_name] = X[col] * X[col]\n",
    "# comb_col = []\n",
    "# for col in combinations(trans_col,2):\n",
    "#     col_name = col[0] + '_' + col[1]\n",
    "#     comb_col.append(col_name)\n",
    "#     X[col_name] = X[col[0]] * X[col[1]]"
   ]
  },
  {
   "cell_type": "code",
   "execution_count": 26,
   "metadata": {
    "ExecuteTime": {
     "end_time": "2018-08-16T03:58:04.708551Z",
     "start_time": "2018-08-16T03:58:04.690510Z"
    }
   },
   "outputs": [],
   "source": [
    "# trans_col + squre_col + comb_col"
   ]
  },
  {
   "cell_type": "code",
   "execution_count": null,
   "metadata": {},
   "outputs": [],
   "source": []
  },
  {
   "cell_type": "code",
   "execution_count": null,
   "metadata": {},
   "outputs": [],
   "source": []
  },
  {
   "cell_type": "code",
   "execution_count": 27,
   "metadata": {
    "ExecuteTime": {
     "end_time": "2018-08-16T03:58:10.931748Z",
     "start_time": "2018-08-16T03:58:04.710578Z"
    }
   },
   "outputs": [],
   "source": [
    "# X.to_pickle('../../data/cleaned_data/previous_application_onehot.pkl')\n",
    "X.to_pickle(ENV.previous_application_cleaned_onehot.value)"
   ]
  },
  {
   "cell_type": "code",
   "execution_count": null,
   "metadata": {},
   "outputs": [],
   "source": []
  }
 ],
 "metadata": {
  "kernelspec": {
   "display_name": "Python 3",
   "language": "python",
   "name": "python3"
  },
  "language_info": {
   "codemirror_mode": {
    "name": "ipython",
    "version": 3
   },
   "file_extension": ".py",
   "mimetype": "text/x-python",
   "name": "python",
   "nbconvert_exporter": "python",
   "pygments_lexer": "ipython3",
   "version": "3.6.5"
  },
  "varInspector": {
   "cols": {
    "lenName": 16,
    "lenType": 16,
    "lenVar": 40
   },
   "kernels_config": {
    "python": {
     "delete_cmd_postfix": "",
     "delete_cmd_prefix": "del ",
     "library": "var_list.py",
     "varRefreshCmd": "print(var_dic_list())"
    },
    "r": {
     "delete_cmd_postfix": ") ",
     "delete_cmd_prefix": "rm(",
     "library": "var_list.r",
     "varRefreshCmd": "cat(var_dic_list()) "
    }
   },
   "types_to_exclude": [
    "module",
    "function",
    "builtin_function_or_method",
    "instance",
    "_Feature"
   ],
   "window_display": false
  }
 },
 "nbformat": 4,
 "nbformat_minor": 2
}
