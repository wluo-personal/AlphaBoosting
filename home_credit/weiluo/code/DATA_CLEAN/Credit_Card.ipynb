{
 "cells": [
  {
   "cell_type": "code",
   "execution_count": 1,
   "metadata": {
    "ExecuteTime": {
     "end_time": "2018-08-17T14:38:12.935046Z",
     "start_time": "2018-08-17T14:38:12.472743Z"
    }
   },
   "outputs": [],
   "source": [
    "import os,sys\n",
    "import numpy as np\n",
    "import pandas as pd\n",
    "from tqdm import tqdm_notebook as tqdm\n",
    "from sklearn.externals import joblib\n",
    "import matplotlib.pyplot as plt\n",
    "sys.path.append('../LIB/')\n",
    "from env import ENV\n",
    "from sklearn.preprocessing import normalize\n",
    "from tqdm import tqdm\n",
    "from sklearn.preprocessing import OneHotEncoder\n",
    "from scipy.sparse import coo_matrix, hstack\n",
    "from sklearn.preprocessing import LabelEncoder\n",
    "import re"
   ]
  },
  {
   "cell_type": "code",
   "execution_count": 2,
   "metadata": {
    "ExecuteTime": {
     "end_time": "2018-08-17T14:38:12.942746Z",
     "start_time": "2018-08-17T14:38:12.936754Z"
    }
   },
   "outputs": [],
   "source": [
    "def scan_nan_portion(df):\n",
    "    portions = []\n",
    "    columns = []\n",
    "    for col in df.columns:\n",
    "        columns.append(col)\n",
    "        portions.append(np.sum(df[col].isnull())/len(df))\n",
    "    return pd.Series(data=portions, index=columns)\n",
    "\n",
    "\n",
    "def view_na_portion(df,col):\n",
    "    return sum(df[col].isnull())/len(df)\n",
    "\n",
    "\n",
    "def one_hot_encoding(df,col,pre_fix,drop=True):\n",
    "    df = df.copy()\n",
    "    df[col] = df[col].fillna('NA_NOT_FOUND')\n",
    "    col_name_list = []\n",
    "    print('before encoding, shape is: {}'.format(df.shape))\n",
    "    for each in df[col].unique():\n",
    "        name = str(each)\n",
    "        col_name = pre_fix + '_'+ name.replace(' ','_')\n",
    "        col_name_list.append(col_name)\n",
    "        df[col_name] = 0\n",
    "        df.loc[df[col]==each,col_name] = 1\n",
    "    if drop:\n",
    "        df = df.drop([col],axis=1)\n",
    "    print('after encoding, shape is: {}'.format(df.shape))\n",
    "    return df,col_name_list\n",
    "    \n",
    "\n",
    "class ordinal_encoder:\n",
    "    def __init__(self,fillna='NAN_FILL'):\n",
    "        self.fillna = fillna\n",
    "    \n",
    "    def fit(self,sr,NA_VALUE=None,realNA2Nega1=True):\n",
    "        \"\"\"\n",
    "        spycify the value which has already been encoded. make it to -1 after encoding\n",
    "        \"\"\"\n",
    "        self.NA_VALUE=NA_VALUE\n",
    "        order = sr.fillna(self.fillna).value_counts()\n",
    "        if self.NA_VALUE is not None:\n",
    "            order[NA_VALUE] = 9999999\n",
    "\n",
    "        if realNA2Nega1:\n",
    "            order[self.fillna] = 99999999\n",
    "        order = order.sort_values(ascending=True)\n",
    "\n",
    "\n",
    "        self.mapping = pd.Series(index=order.index.values, data=list(range(1,len(order)+1)))\n",
    "        if self.NA_VALUE is not None:\n",
    "            self.mapping[NA_VALUE] = -1\n",
    "\n",
    "        if realNA2Nega1:\n",
    "            self.mapping[self.fillna] = -1\n",
    "    \n",
    "    def transform(self,sr):\n",
    "        return sr.fillna(self.fillna).map(self.mapping)"
   ]
  },
  {
   "cell_type": "code",
   "execution_count": 3,
   "metadata": {
    "ExecuteTime": {
     "end_time": "2018-08-17T14:38:12.954907Z",
     "start_time": "2018-08-17T14:38:12.944184Z"
    }
   },
   "outputs": [],
   "source": [
    "oe = ordinal_encoder()"
   ]
  },
  {
   "cell_type": "code",
   "execution_count": 4,
   "metadata": {
    "ExecuteTime": {
     "end_time": "2018-08-17T14:38:14.915563Z",
     "start_time": "2018-08-17T14:38:12.956910Z"
    }
   },
   "outputs": [
    {
     "name": "stdout",
     "output_type": "stream",
     "text": [
      "Train shape: (307511, 122)\n",
      "Test shape: (48744, 121)\n",
      "Previous App shape: (1670214, 37)\n",
      "POS CASH shape: (10001358, 8)\n",
      "Credit Card shape: (3840312, 23)\n"
     ]
    }
   ],
   "source": [
    "X_Train = pd.read_pickle(ENV.application_train_cleaned.value)\n",
    "print('Train shape: {}'.format(X_Train.shape))\n",
    "\n",
    "X_Test = pd.read_pickle(ENV.application_test_cleaned.value)\n",
    "print('Test shape: {}'.format(X_Test.shape))\n",
    "\n",
    "X_pre = pd.read_pickle(ENV.previous_application_cleaned.value)\n",
    "print('Previous App shape: {}'.format(X_pre.shape))\n",
    "\n",
    "X_pos = pd.read_pickle(ENV.POS_CASH_balance_clean.value)\n",
    "print('POS CASH shape: {}'.format(X_pos.shape))\n",
    "\n",
    "X_cc = pd.read_pickle(ENV.credit_card_balance_clean.value)\n",
    "print('Credit Card shape: {}'.format(X_cc.shape))"
   ]
  },
  {
   "cell_type": "code",
   "execution_count": 5,
   "metadata": {
    "ExecuteTime": {
     "end_time": "2018-08-17T14:38:38.333272Z",
     "start_time": "2018-08-17T14:38:14.917253Z"
    }
   },
   "outputs": [
    {
     "name": "stdout",
     "output_type": "stream",
     "text": [
      "Previous App shape: (1670214, 37)\n",
      "Installment shape: (13605401, 8)\n",
      "POS CASH shape: (10001358, 8)\n",
      "Credit Card shape: (3840312, 23)\n"
     ]
    }
   ],
   "source": [
    "X_pre_ori = pd.read_csv(ENV.previous_application_ori.value)\n",
    "print('Previous App shape: {}'.format(X_pre_ori.shape))\n",
    "\n",
    "X_ins_ori = pd.read_csv(ENV.installments_payments_ori.value)\n",
    "print('Installment shape: {}'.format(X_ins_ori.shape))\n",
    "\n",
    "X_pos_ori = pd.read_csv(ENV.POS_CASH_balance_ori.value)\n",
    "print('POS CASH shape: {}'.format(X_pos_ori.shape))\n",
    "\n",
    "X_cc_ori = pd.read_csv(ENV.credit_card_balance_ori.value)\n",
    "print('Credit Card shape: {}'.format(X_cc_ori.shape))"
   ]
  },
  {
   "cell_type": "markdown",
   "metadata": {
    "ExecuteTime": {
     "end_time": "2018-08-16T14:28:40.409105Z",
     "start_time": "2018-08-16T14:28:40.403865Z"
    }
   },
   "source": [
    "# View Columns"
   ]
  },
  {
   "cell_type": "code",
   "execution_count": 6,
   "metadata": {
    "ExecuteTime": {
     "end_time": "2018-08-17T14:38:38.339898Z",
     "start_time": "2018-08-17T14:38:38.335293Z"
    }
   },
   "outputs": [
    {
     "data": {
      "text/plain": [
       "Index(['SK_ID_PREV', 'SK_ID_CURR', 'MONTHS_BALANCE', 'AMT_BALANCE',\n",
       "       'AMT_CREDIT_LIMIT_ACTUAL', 'AMT_DRAWINGS_ATM_CURRENT',\n",
       "       'AMT_DRAWINGS_CURRENT', 'AMT_DRAWINGS_OTHER_CURRENT',\n",
       "       'AMT_DRAWINGS_POS_CURRENT', 'AMT_INST_MIN_REGULARITY',\n",
       "       'AMT_PAYMENT_CURRENT', 'AMT_PAYMENT_TOTAL_CURRENT',\n",
       "       'AMT_RECEIVABLE_PRINCIPAL', 'AMT_RECIVABLE', 'AMT_TOTAL_RECEIVABLE',\n",
       "       'CNT_DRAWINGS_ATM_CURRENT', 'CNT_DRAWINGS_CURRENT',\n",
       "       'CNT_DRAWINGS_OTHER_CURRENT', 'CNT_DRAWINGS_POS_CURRENT',\n",
       "       'CNT_INSTALMENT_MATURE_CUM', 'NAME_CONTRACT_STATUS', 'SK_DPD',\n",
       "       'SK_DPD_DEF'],\n",
       "      dtype='object')"
      ]
     },
     "execution_count": 6,
     "metadata": {},
     "output_type": "execute_result"
    }
   ],
   "source": [
    "X_cc_ori.columns"
   ]
  },
  {
   "cell_type": "code",
   "execution_count": 7,
   "metadata": {
    "ExecuteTime": {
     "end_time": "2018-08-17T14:38:38.435167Z",
     "start_time": "2018-08-17T14:38:38.341877Z"
    }
   },
   "outputs": [],
   "source": [
    "X = X_cc_ori.copy()"
   ]
  },
  {
   "cell_type": "code",
   "execution_count": 8,
   "metadata": {
    "ExecuteTime": {
     "end_time": "2018-08-17T14:38:39.273625Z",
     "start_time": "2018-08-17T14:38:38.437049Z"
    }
   },
   "outputs": [
    {
     "data": {
      "text/plain": [
       "SK_ID_PREV                    0.000000\n",
       "NAME_CONTRACT_STATUS          0.000000\n",
       "CNT_DRAWINGS_CURRENT          0.000000\n",
       "AMT_TOTAL_RECEIVABLE          0.000000\n",
       "AMT_RECIVABLE                 0.000000\n",
       "AMT_RECEIVABLE_PRINCIPAL      0.000000\n",
       "SK_DPD                        0.000000\n",
       "AMT_PAYMENT_TOTAL_CURRENT     0.000000\n",
       "AMT_DRAWINGS_CURRENT          0.000000\n",
       "AMT_CREDIT_LIMIT_ACTUAL       0.000000\n",
       "AMT_BALANCE                   0.000000\n",
       "MONTHS_BALANCE                0.000000\n",
       "SK_ID_CURR                    0.000000\n",
       "SK_DPD_DEF                    0.000000\n",
       "AMT_INST_MIN_REGULARITY       0.079482\n",
       "CNT_INSTALMENT_MATURE_CUM     0.079482\n",
       "AMT_DRAWINGS_POS_CURRENT      0.195249\n",
       "AMT_DRAWINGS_ATM_CURRENT      0.195249\n",
       "CNT_DRAWINGS_ATM_CURRENT      0.195249\n",
       "CNT_DRAWINGS_OTHER_CURRENT    0.195249\n",
       "CNT_DRAWINGS_POS_CURRENT      0.195249\n",
       "AMT_DRAWINGS_OTHER_CURRENT    0.195249\n",
       "AMT_PAYMENT_CURRENT           0.199981\n",
       "dtype: float64"
      ]
     },
     "execution_count": 8,
     "metadata": {},
     "output_type": "execute_result"
    }
   ],
   "source": [
    "scan_nan_portion(X).sort_values()"
   ]
  },
  {
   "cell_type": "markdown",
   "metadata": {},
   "source": [
    "# Category"
   ]
  },
  {
   "cell_type": "markdown",
   "metadata": {},
   "source": [
    "### Process NAME_CONTRACT_STATUS"
   ]
  },
  {
   "cell_type": "code",
   "execution_count": 9,
   "metadata": {
    "ExecuteTime": {
     "end_time": "2018-08-17T14:38:39.719063Z",
     "start_time": "2018-08-17T14:38:39.275510Z"
    }
   },
   "outputs": [
    {
     "name": "stdout",
     "output_type": "stream",
     "text": [
      "0.0\n",
      "Active           3698436\n",
      "Completed         128918\n",
      "Signed             11058\n",
      "Demand              1365\n",
      "Sent proposal        513\n",
      "Refused               17\n",
      "Approved               5\n",
      "Name: NAME_CONTRACT_STATUS, dtype: int64\n"
     ]
    }
   ],
   "source": [
    "col = 'NAME_CONTRACT_STATUS'\n",
    "print(view_na_portion(X_cc_ori,col))\n",
    "print(X_cc_ori[col].value_counts())"
   ]
  },
  {
   "cell_type": "code",
   "execution_count": 10,
   "metadata": {
    "ExecuteTime": {
     "end_time": "2018-08-17T14:38:42.650194Z",
     "start_time": "2018-08-17T14:38:39.721149Z"
    }
   },
   "outputs": [
    {
     "name": "stdout",
     "output_type": "stream",
     "text": [
      "before encoding, shape is: (3840312, 23)\n",
      "after encoding, shape is: (3840312, 29)\n"
     ]
    }
   ],
   "source": [
    "X,cols = one_hot_encoding(X,'NAME_CONTRACT_STATUS','NAME_CONTRACT_STATUS',drop=True)"
   ]
  },
  {
   "cell_type": "code",
   "execution_count": 11,
   "metadata": {
    "ExecuteTime": {
     "end_time": "2018-08-17T14:38:42.655490Z",
     "start_time": "2018-08-17T14:38:42.652179Z"
    }
   },
   "outputs": [
    {
     "data": {
      "text/plain": [
       "['NAME_CONTRACT_STATUS_Active',\n",
       " 'NAME_CONTRACT_STATUS_Completed',\n",
       " 'NAME_CONTRACT_STATUS_Demand',\n",
       " 'NAME_CONTRACT_STATUS_Signed',\n",
       " 'NAME_CONTRACT_STATUS_Sent_proposal',\n",
       " 'NAME_CONTRACT_STATUS_Refused',\n",
       " 'NAME_CONTRACT_STATUS_Approved']"
      ]
     },
     "execution_count": 11,
     "metadata": {},
     "output_type": "execute_result"
    }
   ],
   "source": [
    "cols"
   ]
  },
  {
   "cell_type": "markdown",
   "metadata": {},
   "source": [
    "# Fillna"
   ]
  },
  {
   "cell_type": "markdown",
   "metadata": {},
   "source": [
    "### Process AMT_INST_MIN_REGULARITY"
   ]
  },
  {
   "cell_type": "code",
   "execution_count": 12,
   "metadata": {
    "ExecuteTime": {
     "end_time": "2018-08-17T14:38:42.939912Z",
     "start_time": "2018-08-17T14:38:42.657630Z"
    }
   },
   "outputs": [
    {
     "name": "stdout",
     "output_type": "stream",
     "text": [
      "0.0794820837473622\n",
      "count    3.535076e+06\n",
      "mean     3.540204e+03\n",
      "std      5.600154e+03\n",
      "min      0.000000e+00\n",
      "25%      0.000000e+00\n",
      "50%      0.000000e+00\n",
      "75%      6.633911e+03\n",
      "max      2.028820e+05\n",
      "Name: AMT_INST_MIN_REGULARITY, dtype: float64\n"
     ]
    }
   ],
   "source": [
    "col = 'AMT_INST_MIN_REGULARITY'\n",
    "print(view_na_portion(X_cc_ori,col))\n",
    "print(X_cc_ori[col].describe())\n",
    "\n",
    "X[col] = X[col].fillna(0)"
   ]
  },
  {
   "cell_type": "markdown",
   "metadata": {},
   "source": [
    "### Process CNT_INSTALMENT_MATURE_CUM"
   ]
  },
  {
   "cell_type": "code",
   "execution_count": 13,
   "metadata": {
    "ExecuteTime": {
     "end_time": "2018-08-17T14:38:43.249934Z",
     "start_time": "2018-08-17T14:38:42.942051Z"
    }
   },
   "outputs": [
    {
     "name": "stdout",
     "output_type": "stream",
     "text": [
      "0.0794820837473622\n",
      "count    3.535076e+06\n",
      "mean     2.082508e+01\n",
      "std      2.005149e+01\n",
      "min      0.000000e+00\n",
      "25%      4.000000e+00\n",
      "50%      1.500000e+01\n",
      "75%      3.200000e+01\n",
      "max      1.200000e+02\n",
      "Name: CNT_INSTALMENT_MATURE_CUM, dtype: float64\n"
     ]
    }
   ],
   "source": [
    "col = 'CNT_INSTALMENT_MATURE_CUM'\n",
    "print(view_na_portion(X_cc_ori,col))\n",
    "print(X_cc_ori[col].describe())\n",
    "\n",
    "X[col] = X[col].fillna(1.500000e+01)"
   ]
  },
  {
   "cell_type": "markdown",
   "metadata": {},
   "source": [
    "### Process AMT_DRAWINGS_POS_CURRENT"
   ]
  },
  {
   "cell_type": "code",
   "execution_count": 14,
   "metadata": {
    "ExecuteTime": {
     "end_time": "2018-08-17T14:38:43.540040Z",
     "start_time": "2018-08-17T14:38:43.251779Z"
    }
   },
   "outputs": [
    {
     "name": "stdout",
     "output_type": "stream",
     "text": [
      "0.1952487193748841\n",
      "count    3.090496e+06\n",
      "mean     2.968805e+03\n",
      "std      2.079689e+04\n",
      "min      0.000000e+00\n",
      "25%      0.000000e+00\n",
      "50%      0.000000e+00\n",
      "75%      0.000000e+00\n",
      "max      2.239274e+06\n",
      "Name: AMT_DRAWINGS_POS_CURRENT, dtype: float64\n"
     ]
    }
   ],
   "source": [
    "col = 'AMT_DRAWINGS_POS_CURRENT'\n",
    "\n",
    "print(view_na_portion(X_cc_ori,col))\n",
    "print(X_cc_ori[col].describe())\n",
    "\n",
    "X[col] = X[col].fillna(0)"
   ]
  },
  {
   "cell_type": "markdown",
   "metadata": {},
   "source": [
    "### Process AMT_DRAWINGS_ATM_CURRENT"
   ]
  },
  {
   "cell_type": "code",
   "execution_count": 15,
   "metadata": {
    "ExecuteTime": {
     "end_time": "2018-08-17T14:38:43.826557Z",
     "start_time": "2018-08-17T14:38:43.542111Z"
    }
   },
   "outputs": [
    {
     "name": "stdout",
     "output_type": "stream",
     "text": [
      "0.1952487193748841\n",
      "count    3.090496e+06\n",
      "mean     5.961325e+03\n",
      "std      2.822569e+04\n",
      "min     -6.827310e+03\n",
      "25%      0.000000e+00\n",
      "50%      0.000000e+00\n",
      "75%      0.000000e+00\n",
      "max      2.115000e+06\n",
      "Name: AMT_DRAWINGS_ATM_CURRENT, dtype: float64\n"
     ]
    }
   ],
   "source": [
    "col = 'AMT_DRAWINGS_ATM_CURRENT'\n",
    "print(view_na_portion(X_cc_ori,col))\n",
    "print(X_cc_ori[col].describe())\n",
    "X[col] = X[col].fillna(0)"
   ]
  },
  {
   "cell_type": "markdown",
   "metadata": {},
   "source": [
    "### Process CNT_DRAWINGS_ATM_CURRENT"
   ]
  },
  {
   "cell_type": "code",
   "execution_count": 16,
   "metadata": {
    "ExecuteTime": {
     "end_time": "2018-08-17T14:38:44.116407Z",
     "start_time": "2018-08-17T14:38:43.828603Z"
    }
   },
   "outputs": [
    {
     "name": "stdout",
     "output_type": "stream",
     "text": [
      "0.1952487193748841\n",
      "count    3.090496e+06\n",
      "mean     3.094490e-01\n",
      "std      1.100401e+00\n",
      "min      0.000000e+00\n",
      "25%      0.000000e+00\n",
      "50%      0.000000e+00\n",
      "75%      0.000000e+00\n",
      "max      5.100000e+01\n",
      "Name: CNT_DRAWINGS_ATM_CURRENT, dtype: float64\n"
     ]
    }
   ],
   "source": [
    "col = 'CNT_DRAWINGS_ATM_CURRENT'\n",
    "print(view_na_portion(X_cc_ori,col))\n",
    "print(X_cc_ori[col].describe())\n",
    "X[col] = X[col].fillna(0)"
   ]
  },
  {
   "cell_type": "markdown",
   "metadata": {},
   "source": [
    "### Process CNT_DRAWINGS_OTHER_CURRENT"
   ]
  },
  {
   "cell_type": "code",
   "execution_count": 17,
   "metadata": {
    "ExecuteTime": {
     "end_time": "2018-08-17T14:38:44.397633Z",
     "start_time": "2018-08-17T14:38:44.118429Z"
    }
   },
   "outputs": [
    {
     "name": "stdout",
     "output_type": "stream",
     "text": [
      "0.1952487193748841\n",
      "count    3.090496e+06\n",
      "mean     4.812496e-03\n",
      "std      8.263861e-02\n",
      "min      0.000000e+00\n",
      "25%      0.000000e+00\n",
      "50%      0.000000e+00\n",
      "75%      0.000000e+00\n",
      "max      1.200000e+01\n",
      "Name: CNT_DRAWINGS_OTHER_CURRENT, dtype: float64\n"
     ]
    }
   ],
   "source": [
    "col = 'CNT_DRAWINGS_OTHER_CURRENT'\n",
    "print(view_na_portion(X_cc_ori,col))\n",
    "print(X_cc_ori[col].describe())\n",
    "X[col] = X[col].fillna(0)"
   ]
  },
  {
   "cell_type": "markdown",
   "metadata": {},
   "source": [
    "### Process CNT_DRAWINGS_POS_CURRENT"
   ]
  },
  {
   "cell_type": "code",
   "execution_count": 18,
   "metadata": {
    "ExecuteTime": {
     "end_time": "2018-08-17T14:38:44.683266Z",
     "start_time": "2018-08-17T14:38:44.399661Z"
    }
   },
   "outputs": [
    {
     "name": "stdout",
     "output_type": "stream",
     "text": [
      "0.1952487193748841\n",
      "count    3.090496e+06\n",
      "mean     5.594791e-01\n",
      "std      3.240649e+00\n",
      "min      0.000000e+00\n",
      "25%      0.000000e+00\n",
      "50%      0.000000e+00\n",
      "75%      0.000000e+00\n",
      "max      1.650000e+02\n",
      "Name: CNT_DRAWINGS_POS_CURRENT, dtype: float64\n"
     ]
    }
   ],
   "source": [
    "col = 'CNT_DRAWINGS_POS_CURRENT'\n",
    "print(view_na_portion(X_cc_ori,col))\n",
    "print(X_cc_ori[col].describe())\n",
    "X[col] = X[col].fillna(0)"
   ]
  },
  {
   "cell_type": "markdown",
   "metadata": {},
   "source": [
    "### Process AMT_DRAWINGS_OTHER_CURRENT"
   ]
  },
  {
   "cell_type": "code",
   "execution_count": 19,
   "metadata": {
    "ExecuteTime": {
     "end_time": "2018-08-17T14:38:44.962628Z",
     "start_time": "2018-08-17T14:38:44.685271Z"
    }
   },
   "outputs": [
    {
     "name": "stdout",
     "output_type": "stream",
     "text": [
      "0.1952487193748841\n",
      "count    3.090496e+06\n",
      "mean     2.881696e+02\n",
      "std      8.201989e+03\n",
      "min      0.000000e+00\n",
      "25%      0.000000e+00\n",
      "50%      0.000000e+00\n",
      "75%      0.000000e+00\n",
      "max      1.529847e+06\n",
      "Name: AMT_DRAWINGS_OTHER_CURRENT, dtype: float64\n"
     ]
    }
   ],
   "source": [
    "col = 'AMT_DRAWINGS_OTHER_CURRENT'\n",
    "print(view_na_portion(X_cc_ori,col))\n",
    "print(X_cc_ori[col].describe())\n",
    "X[col] = X[col].fillna(0)"
   ]
  },
  {
   "cell_type": "markdown",
   "metadata": {},
   "source": [
    "### Process AMT_PAYMENT_CURRENT"
   ]
  },
  {
   "cell_type": "code",
   "execution_count": 20,
   "metadata": {
    "ExecuteTime": {
     "end_time": "2018-08-17T14:38:45.304964Z",
     "start_time": "2018-08-17T14:38:44.964675Z"
    }
   },
   "outputs": [
    {
     "name": "stdout",
     "output_type": "stream",
     "text": [
      "0.19998062657409085\n",
      "count    3.072324e+06\n",
      "mean     1.028054e+04\n",
      "std      3.607808e+04\n",
      "min      0.000000e+00\n",
      "25%      1.523700e+02\n",
      "50%      2.702700e+03\n",
      "75%      9.000000e+03\n",
      "max      4.289207e+06\n",
      "Name: AMT_PAYMENT_CURRENT, dtype: float64\n"
     ]
    }
   ],
   "source": [
    "col = 'AMT_PAYMENT_CURRENT'\n",
    "print(view_na_portion(X_cc_ori,col))\n",
    "print(X_cc_ori[col].describe())\n",
    "X[col] = X[col].fillna(X[col].mean())"
   ]
  },
  {
   "cell_type": "markdown",
   "metadata": {},
   "source": [
    "# Groupby"
   ]
  },
  {
   "cell_type": "code",
   "execution_count": 21,
   "metadata": {
    "ExecuteTime": {
     "end_time": "2018-08-17T14:38:45.309553Z",
     "start_time": "2018-08-17T14:38:45.307010Z"
    }
   },
   "outputs": [],
   "source": [
    "groups = X.groupby(['SK_ID_PREV'])"
   ]
  },
  {
   "cell_type": "code",
   "execution_count": 22,
   "metadata": {
    "ExecuteTime": {
     "end_time": "2018-08-17T14:38:45.318511Z",
     "start_time": "2018-08-17T14:38:45.311524Z"
    }
   },
   "outputs": [],
   "source": [
    "def group_agg(groups,col,method):\n",
    "    col_name = col+'_'+method.upper()\n",
    "    if method.upper() == 'MIN':\n",
    "        return groups[col].min(),col_name\n",
    "    elif method.upper() == 'MAX':\n",
    "        return groups[col].max(),col_name\n",
    "    elif method.upper() == 'MEAN':\n",
    "        return groups[col].mean(),col_name\n",
    "    else:\n",
    "        raise ValueError('There is no methods: {}'.format(method))"
   ]
  },
  {
   "cell_type": "code",
   "execution_count": 23,
   "metadata": {
    "ExecuteTime": {
     "end_time": "2018-08-17T14:38:45.532864Z",
     "start_time": "2018-08-17T14:38:45.320180Z"
    }
   },
   "outputs": [],
   "source": [
    "df_cc_new = pd.DataFrame({'SK_ID_PREV':X.SK_ID_PREV.unique()})\n",
    "\n",
    "mapping = X_cc_ori[['SK_ID_CURR','SK_ID_PREV']].drop_duplicates().copy()\n",
    "mapping = mapping.set_index(['SK_ID_PREV'])['SK_ID_CURR']\n",
    "df_cc_new['SK_ID_CURR'] = df_cc_new['SK_ID_PREV'].map(mapping)"
   ]
  },
  {
   "cell_type": "code",
   "execution_count": 24,
   "metadata": {
    "ExecuteTime": {
     "end_time": "2018-08-17T14:38:45.642466Z",
     "start_time": "2018-08-17T14:38:45.536156Z"
    }
   },
   "outputs": [
    {
     "data": {
      "text/plain": [
       "SK_ID_PREV\n",
       "1000018     5\n",
       "1000030     8\n",
       "1000031    16\n",
       "1000035     5\n",
       "1000077    11\n",
       "1000083    13\n",
       "1000087    32\n",
       "1000089     5\n",
       "1000094    88\n",
       "1000096    96\n",
       "1000123     8\n",
       "1000128    18\n",
       "1000130    11\n",
       "1000132    18\n",
       "1000186     6\n",
       "1000187    10\n",
       "1000196     8\n",
       "1000235    13\n",
       "1000238    15\n",
       "1000240    12\n",
       "1000241    20\n",
       "1000242    22\n",
       "1000257    15\n",
       "1000277    11\n",
       "1000281     6\n",
       "1000286    11\n",
       "1000296    24\n",
       "1000320    80\n",
       "1000339    15\n",
       "1000344    96\n",
       "           ..\n",
       "2843183    13\n",
       "2843200    96\n",
       "2843201    89\n",
       "2843219    96\n",
       "2843221    24\n",
       "2843226    15\n",
       "2843247     4\n",
       "2843249    27\n",
       "2843263    93\n",
       "2843288    13\n",
       "2843320    27\n",
       "2843323    18\n",
       "2843329    35\n",
       "2843332    46\n",
       "2843336    52\n",
       "2843337    92\n",
       "2843353     1\n",
       "2843370    95\n",
       "2843373    11\n",
       "2843389    15\n",
       "2843413    96\n",
       "2843414    95\n",
       "2843423    22\n",
       "2843448    39\n",
       "2843461    73\n",
       "2843476    95\n",
       "2843477    85\n",
       "2843478    90\n",
       "2843493    15\n",
       "2843496    15\n",
       "Name: AMT_RECIVABLE, Length: 104307, dtype: int64"
      ]
     },
     "execution_count": 24,
     "metadata": {},
     "output_type": "execute_result"
    }
   ],
   "source": [
    "groups.AMT_RECIVABLE.count()"
   ]
  },
  {
   "cell_type": "code",
   "execution_count": 25,
   "metadata": {
    "ExecuteTime": {
     "end_time": "2018-08-17T14:38:48.113176Z",
     "start_time": "2018-08-17T14:38:45.644557Z"
    }
   },
   "outputs": [
    {
     "name": "stdout",
     "output_type": "stream",
     "text": [
      "CNT_DRAWINGS_CURRENT_MAX\n",
      "CNT_DRAWINGS_CURRENT_MIN\n",
      "CNT_DRAWINGS_CURRENT_MEAN\n",
      "AMT_TOTAL_RECEIVABLE_MAX\n",
      "AMT_TOTAL_RECEIVABLE_MIN\n",
      "AMT_TOTAL_RECEIVABLE_MEAN\n",
      "AMT_RECIVABLE_MAX\n",
      "AMT_RECIVABLE_MIN\n",
      "AMT_RECIVABLE_MEAN\n",
      "AMT_RECEIVABLE_PRINCIPAL_MAX\n",
      "AMT_RECEIVABLE_PRINCIPAL_MIN\n",
      "AMT_RECEIVABLE_PRINCIPAL_MEAN\n",
      "SK_DPD_MAX\n",
      "SK_DPD_MIN\n",
      "SK_DPD_MEAN\n",
      "AMT_PAYMENT_TOTAL_CURRENT_MAX\n",
      "AMT_PAYMENT_TOTAL_CURRENT_MIN\n",
      "AMT_PAYMENT_TOTAL_CURRENT_MEAN\n",
      "AMT_DRAWINGS_CURRENT_MAX\n",
      "AMT_DRAWINGS_CURRENT_MIN\n",
      "AMT_DRAWINGS_CURRENT_MEAN\n",
      "AMT_CREDIT_LIMIT_ACTUAL_MAX\n",
      "AMT_CREDIT_LIMIT_ACTUAL_MIN\n",
      "AMT_CREDIT_LIMIT_ACTUAL_MEAN\n",
      "AMT_BALANCE_MAX\n",
      "AMT_BALANCE_MIN\n",
      "AMT_BALANCE_MEAN\n",
      "MONTHS_BALANCE_MAX\n",
      "MONTHS_BALANCE_MIN\n",
      "MONTHS_BALANCE_MEAN\n",
      "SK_DPD_DEF_MAX\n",
      "SK_DPD_DEF_MIN\n",
      "SK_DPD_DEF_MEAN\n",
      "AMT_INST_MIN_REGULARITY_MAX\n",
      "AMT_INST_MIN_REGULARITY_MIN\n",
      "AMT_INST_MIN_REGULARITY_MEAN\n",
      "CNT_INSTALMENT_MATURE_CUM_MAX\n",
      "CNT_INSTALMENT_MATURE_CUM_MIN\n",
      "CNT_INSTALMENT_MATURE_CUM_MEAN\n",
      "AMT_DRAWINGS_POS_CURRENT_MAX\n",
      "AMT_DRAWINGS_POS_CURRENT_MIN\n",
      "AMT_DRAWINGS_POS_CURRENT_MEAN\n",
      "AMT_DRAWINGS_ATM_CURRENT_MAX\n",
      "AMT_DRAWINGS_ATM_CURRENT_MIN\n",
      "AMT_DRAWINGS_ATM_CURRENT_MEAN\n",
      "CNT_DRAWINGS_ATM_CURRENT_MAX\n",
      "CNT_DRAWINGS_ATM_CURRENT_MIN\n",
      "CNT_DRAWINGS_ATM_CURRENT_MEAN\n",
      "CNT_DRAWINGS_OTHER_CURRENT_MAX\n",
      "CNT_DRAWINGS_OTHER_CURRENT_MIN\n",
      "CNT_DRAWINGS_OTHER_CURRENT_MEAN\n",
      "CNT_DRAWINGS_POS_CURRENT_MAX\n",
      "CNT_DRAWINGS_POS_CURRENT_MIN\n",
      "CNT_DRAWINGS_POS_CURRENT_MEAN\n",
      "AMT_DRAWINGS_OTHER_CURRENT_MAX\n",
      "AMT_DRAWINGS_OTHER_CURRENT_MIN\n",
      "AMT_DRAWINGS_OTHER_CURRENT_MEAN\n",
      "AMT_PAYMENT_CURRENT_MAX\n",
      "AMT_PAYMENT_CURRENT_MIN\n",
      "AMT_PAYMENT_CURRENT_MEAN\n"
     ]
    }
   ],
   "source": [
    "agg_cols = ['CNT_DRAWINGS_CURRENT',\n",
    "            'AMT_TOTAL_RECEIVABLE',\n",
    "            'AMT_RECIVABLE',\n",
    "            'AMT_RECEIVABLE_PRINCIPAL',\n",
    "            'SK_DPD',\n",
    "            'AMT_PAYMENT_TOTAL_CURRENT',\n",
    "            'AMT_DRAWINGS_CURRENT',\n",
    "            'AMT_CREDIT_LIMIT_ACTUAL',\n",
    "            'AMT_BALANCE',\n",
    "            'MONTHS_BALANCE',\n",
    "            'SK_DPD_DEF',\n",
    "            'AMT_INST_MIN_REGULARITY',\n",
    "            'CNT_INSTALMENT_MATURE_CUM',\n",
    "            'AMT_DRAWINGS_POS_CURRENT',\n",
    "            'AMT_DRAWINGS_ATM_CURRENT',\n",
    "            'CNT_DRAWINGS_ATM_CURRENT',\n",
    "            'CNT_DRAWINGS_OTHER_CURRENT',\n",
    "            'CNT_DRAWINGS_POS_CURRENT',\n",
    "            'AMT_DRAWINGS_OTHER_CURRENT',\n",
    "            'AMT_PAYMENT_CURRENT']\n",
    "for col in agg_cols:\n",
    "    for methods in ('MAX','MIN','MEAN'):\n",
    "        mapping,col_name = group_agg(groups,col,methods)\n",
    "        print(col_name)\n",
    "        df_cc_new[col_name] = df_cc_new['SK_ID_PREV'].map(mapping)\n",
    "\n"
   ]
  },
  {
   "cell_type": "markdown",
   "metadata": {},
   "source": [
    "### add count"
   ]
  },
  {
   "cell_type": "code",
   "execution_count": 26,
   "metadata": {
    "ExecuteTime": {
     "end_time": "2018-08-17T14:38:48.141842Z",
     "start_time": "2018-08-17T14:38:48.115268Z"
    }
   },
   "outputs": [],
   "source": [
    "mapping = groups.AMT_RECIVABLE.count()\n",
    "df_cc_new['Records_CNT'] = df_cc_new['SK_ID_PREV'].map(mapping)"
   ]
  },
  {
   "cell_type": "markdown",
   "metadata": {
    "ExecuteTime": {
     "end_time": "2018-08-17T14:15:13.586100Z",
     "start_time": "2018-08-17T14:15:13.509115Z"
    }
   },
   "source": [
    "### add one hot cols"
   ]
  },
  {
   "cell_type": "code",
   "execution_count": 27,
   "metadata": {
    "ExecuteTime": {
     "end_time": "2018-08-17T14:38:48.476641Z",
     "start_time": "2018-08-17T14:38:48.143581Z"
    }
   },
   "outputs": [],
   "source": [
    "for each in cols:\n",
    "    df_cc_new[each] = df_cc_new['SK_ID_PREV'].map(groups[each].sum())"
   ]
  },
  {
   "cell_type": "markdown",
   "metadata": {},
   "source": [
    "### add first and last status"
   ]
  },
  {
   "cell_type": "code",
   "execution_count": 28,
   "metadata": {
    "ExecuteTime": {
     "end_time": "2018-08-17T14:39:39.536149Z",
     "start_time": "2018-08-17T14:38:48.478652Z"
    }
   },
   "outputs": [
    {
     "name": "stdout",
     "output_type": "stream",
     "text": [
      "10000\n",
      "20000\n",
      "30000\n",
      "40000\n",
      "50000\n",
      "60000\n",
      "70000\n",
      "80000\n",
      "90000\n",
      "100000\n"
     ]
    }
   ],
   "source": [
    "FIRST_STATUS = []\n",
    "LAST_STATUS = []\n",
    "SK_ID_PREV = []\n",
    "count = 0\n",
    "for key,df in X_cc_ori.groupby(['SK_ID_PREV']):\n",
    "    df = df.sort_values(['MONTHS_BALANCE'])\n",
    "    FIRST_STATUS.append(df['NAME_CONTRACT_STATUS'].iloc[0])\n",
    "    LAST_STATUS.append(df['NAME_CONTRACT_STATUS'].iloc[-1])\n",
    "    SK_ID_PREV.append(key)\n",
    "    count+= 1\n",
    "    if count % 10000 ==0 :\n",
    "        print(count)"
   ]
  },
  {
   "cell_type": "code",
   "execution_count": 29,
   "metadata": {
    "ExecuteTime": {
     "end_time": "2018-08-17T14:39:39.573559Z",
     "start_time": "2018-08-17T14:39:39.538335Z"
    }
   },
   "outputs": [],
   "source": [
    "mapping1 = pd.Series(data = FIRST_STATUS, index=SK_ID_PREV)\n",
    "mapping2 = pd.Series(data = LAST_STATUS, index=SK_ID_PREV)\n",
    "df_cc_new['NameContractFirstStatus'] = df_cc_new['SK_ID_PREV'].map(mapping1)\n",
    "df_cc_new['NameContractLastStatus'] = df_cc_new['SK_ID_PREV'].map(mapping2)"
   ]
  },
  {
   "cell_type": "code",
   "execution_count": 30,
   "metadata": {
    "ExecuteTime": {
     "end_time": "2018-08-17T14:39:39.781493Z",
     "start_time": "2018-08-17T14:39:39.575206Z"
    }
   },
   "outputs": [
    {
     "name": "stdout",
     "output_type": "stream",
     "text": [
      "before encoding, shape is: (104307, 72)\n",
      "after encoding, shape is: (104307, 78)\n",
      "before encoding, shape is: (104307, 78)\n",
      "after encoding, shape is: (104307, 81)\n"
     ]
    }
   ],
   "source": [
    "df_cc_new,ccc = one_hot_encoding(df_cc_new,'NameContractFirstStatus','NameContractFirstStatus',drop=True)\n",
    "df_cc_new,ccc = one_hot_encoding(df_cc_new,'NameContractLastStatus','NameContractLastStatus',drop=True)"
   ]
  },
  {
   "cell_type": "code",
   "execution_count": 31,
   "metadata": {
    "ExecuteTime": {
     "end_time": "2018-08-17T14:39:39.929671Z",
     "start_time": "2018-08-17T14:39:39.783327Z"
    }
   },
   "outputs": [
    {
     "data": {
      "text/plain": [
       "SK_ID_PREV                               0.0\n",
       "AMT_DRAWINGS_OTHER_CURRENT_MIN           0.0\n",
       "AMT_DRAWINGS_OTHER_CURRENT_MAX           0.0\n",
       "CNT_DRAWINGS_POS_CURRENT_MEAN            0.0\n",
       "CNT_DRAWINGS_POS_CURRENT_MIN             0.0\n",
       "CNT_DRAWINGS_POS_CURRENT_MAX             0.0\n",
       "CNT_DRAWINGS_OTHER_CURRENT_MEAN          0.0\n",
       "CNT_DRAWINGS_OTHER_CURRENT_MIN           0.0\n",
       "AMT_DRAWINGS_OTHER_CURRENT_MEAN          0.0\n",
       "CNT_DRAWINGS_OTHER_CURRENT_MAX           0.0\n",
       "CNT_DRAWINGS_ATM_CURRENT_MIN             0.0\n",
       "CNT_DRAWINGS_ATM_CURRENT_MAX             0.0\n",
       "AMT_DRAWINGS_ATM_CURRENT_MEAN            0.0\n",
       "AMT_DRAWINGS_ATM_CURRENT_MIN             0.0\n",
       "AMT_DRAWINGS_ATM_CURRENT_MAX             0.0\n",
       "AMT_DRAWINGS_POS_CURRENT_MEAN            0.0\n",
       "AMT_DRAWINGS_POS_CURRENT_MIN             0.0\n",
       "CNT_DRAWINGS_ATM_CURRENT_MEAN            0.0\n",
       "AMT_PAYMENT_CURRENT_MAX                  0.0\n",
       "AMT_PAYMENT_CURRENT_MIN                  0.0\n",
       "AMT_PAYMENT_CURRENT_MEAN                 0.0\n",
       "NameContractLastStatus_Completed         0.0\n",
       "NameContractLastStatus_Active            0.0\n",
       "NameContractFirstStatus_Completed        0.0\n",
       "NameContractFirstStatus_Approved         0.0\n",
       "NameContractFirstStatus_Demand           0.0\n",
       "NameContractFirstStatus_Refused          0.0\n",
       "NameContractFirstStatus_Sent_proposal    0.0\n",
       "NameContractFirstStatus_Signed           0.0\n",
       "NameContractFirstStatus_Active           0.0\n",
       "                                        ... \n",
       "AMT_TOTAL_RECEIVABLE_MEAN                0.0\n",
       "AMT_TOTAL_RECEIVABLE_MIN                 0.0\n",
       "AMT_TOTAL_RECEIVABLE_MAX                 0.0\n",
       "CNT_DRAWINGS_CURRENT_MEAN                0.0\n",
       "CNT_DRAWINGS_CURRENT_MIN                 0.0\n",
       "CNT_DRAWINGS_CURRENT_MAX                 0.0\n",
       "SK_ID_CURR                               0.0\n",
       "AMT_RECIVABLE_MAX                        0.0\n",
       "AMT_PAYMENT_TOTAL_CURRENT_MIN            0.0\n",
       "AMT_PAYMENT_TOTAL_CURRENT_MEAN           0.0\n",
       "AMT_DRAWINGS_CURRENT_MAX                 0.0\n",
       "AMT_INST_MIN_REGULARITY_MEAN             0.0\n",
       "AMT_INST_MIN_REGULARITY_MIN              0.0\n",
       "AMT_INST_MIN_REGULARITY_MAX              0.0\n",
       "SK_DPD_DEF_MEAN                          0.0\n",
       "SK_DPD_DEF_MIN                           0.0\n",
       "SK_DPD_DEF_MAX                           0.0\n",
       "MONTHS_BALANCE_MEAN                      0.0\n",
       "MONTHS_BALANCE_MIN                       0.0\n",
       "MONTHS_BALANCE_MAX                       0.0\n",
       "AMT_BALANCE_MEAN                         0.0\n",
       "AMT_BALANCE_MIN                          0.0\n",
       "AMT_BALANCE_MAX                          0.0\n",
       "AMT_CREDIT_LIMIT_ACTUAL_MEAN             0.0\n",
       "AMT_CREDIT_LIMIT_ACTUAL_MIN              0.0\n",
       "AMT_CREDIT_LIMIT_ACTUAL_MAX              0.0\n",
       "AMT_DRAWINGS_CURRENT_MEAN                0.0\n",
       "AMT_DRAWINGS_CURRENT_MIN                 0.0\n",
       "CNT_INSTALMENT_MATURE_CUM_MIN            0.0\n",
       "NameContractLastStatus_Signed            0.0\n",
       "Length: 81, dtype: float64"
      ]
     },
     "execution_count": 31,
     "metadata": {},
     "output_type": "execute_result"
    }
   ],
   "source": [
    "scan_nan_portion(df_cc_new).sort_values()"
   ]
  },
  {
   "cell_type": "markdown",
   "metadata": {},
   "source": [
    "# Saving"
   ]
  },
  {
   "cell_type": "code",
   "execution_count": 32,
   "metadata": {
    "ExecuteTime": {
     "end_time": "2018-08-17T14:45:06.317756Z",
     "start_time": "2018-08-17T14:45:06.223183Z"
    }
   },
   "outputs": [],
   "source": [
    "df_cc_new.to_pickle(ENV.credit_card_balance_clean_rnn.value)"
   ]
  },
  {
   "cell_type": "code",
   "execution_count": null,
   "metadata": {},
   "outputs": [],
   "source": []
  }
 ],
 "metadata": {
  "kernelspec": {
   "display_name": "Python 3",
   "language": "python",
   "name": "python3"
  },
  "language_info": {
   "codemirror_mode": {
    "name": "ipython",
    "version": 3
   },
   "file_extension": ".py",
   "mimetype": "text/x-python",
   "name": "python",
   "nbconvert_exporter": "python",
   "pygments_lexer": "ipython3",
   "version": "3.6.5"
  },
  "varInspector": {
   "cols": {
    "lenName": 16,
    "lenType": 16,
    "lenVar": 40
   },
   "kernels_config": {
    "python": {
     "delete_cmd_postfix": "",
     "delete_cmd_prefix": "del ",
     "library": "var_list.py",
     "varRefreshCmd": "print(var_dic_list())"
    },
    "r": {
     "delete_cmd_postfix": ") ",
     "delete_cmd_prefix": "rm(",
     "library": "var_list.r",
     "varRefreshCmd": "cat(var_dic_list()) "
    }
   },
   "types_to_exclude": [
    "module",
    "function",
    "builtin_function_or_method",
    "instance",
    "_Feature"
   ],
   "window_display": false
  }
 },
 "nbformat": 4,
 "nbformat_minor": 2
}
