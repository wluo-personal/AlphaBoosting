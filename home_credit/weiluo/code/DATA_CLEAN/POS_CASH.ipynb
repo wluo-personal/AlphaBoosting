{
 "cells": [
  {
   "cell_type": "code",
   "execution_count": 1,
   "metadata": {
    "ExecuteTime": {
     "end_time": "2018-08-16T18:27:45.975169Z",
     "start_time": "2018-08-16T18:27:45.519488Z"
    }
   },
   "outputs": [],
   "source": [
    "import os,sys\n",
    "import numpy as np\n",
    "import pandas as pd\n",
    "from tqdm import tqdm_notebook as tqdm\n",
    "from sklearn.externals import joblib\n",
    "import matplotlib.pyplot as plt\n",
    "sys.path.append('../LIB/')\n",
    "from env import ENV\n",
    "from sklearn.preprocessing import normalize\n",
    "from tqdm import tqdm\n",
    "from sklearn.preprocessing import OneHotEncoder\n",
    "from scipy.sparse import coo_matrix, hstack\n",
    "from sklearn.preprocessing import LabelEncoder\n",
    "import re"
   ]
  },
  {
   "cell_type": "code",
   "execution_count": 2,
   "metadata": {
    "ExecuteTime": {
     "end_time": "2018-08-16T18:27:45.982802Z",
     "start_time": "2018-08-16T18:27:45.976971Z"
    }
   },
   "outputs": [],
   "source": [
    "def scan_nan_portion(df):\n",
    "    portions = []\n",
    "    columns = []\n",
    "    for col in df.columns:\n",
    "        columns.append(col)\n",
    "        portions.append(np.sum(df[col].isnull())/len(df))\n",
    "    return pd.Series(data=portions, index=columns)\n",
    "\n",
    "\n",
    "def view_na_portion(df,col):\n",
    "    return sum(df[col].isnull())/len(df)\n",
    "\n",
    "\n",
    "def one_hot_encoding(df,col,pre_fix,drop=True):\n",
    "    df = df.copy()\n",
    "    df[col] = df[col].fillna('NA_NOT_FOUND')\n",
    "    col_name_list = []\n",
    "    print('before encoding, shape is: {}'.format(df.shape))\n",
    "    for each in df[col].unique():\n",
    "        name = str(each)\n",
    "        col_name = pre_fix + '_'+ name.replace(' ','_')\n",
    "        col_name_list.append(col_name)\n",
    "        df[col_name] = 0\n",
    "        df.loc[df[col]==each,col_name] = 1\n",
    "    if drop:\n",
    "        df = df.drop([col],axis=1)\n",
    "    print('after encoding, shape is: {}'.format(df.shape))\n",
    "    return df,col_name_list\n",
    "    \n",
    "\n",
    "class ordinal_encoder:\n",
    "    def __init__(self,fillna='NAN_FILL'):\n",
    "        self.fillna = fillna\n",
    "    \n",
    "    def fit(self,sr,NA_VALUE=None,realNA2Nega1=True):\n",
    "        \"\"\"\n",
    "        spycify the value which has already been encoded. make it to -1 after encoding\n",
    "        \"\"\"\n",
    "        self.NA_VALUE=NA_VALUE\n",
    "        order = sr.fillna(self.fillna).value_counts()\n",
    "        if self.NA_VALUE is not None:\n",
    "            order[NA_VALUE] = 9999999\n",
    "\n",
    "        if realNA2Nega1:\n",
    "            order[self.fillna] = 99999999\n",
    "        order = order.sort_values(ascending=True)\n",
    "\n",
    "\n",
    "        self.mapping = pd.Series(index=order.index.values, data=list(range(1,len(order)+1)))\n",
    "        if self.NA_VALUE is not None:\n",
    "            self.mapping[NA_VALUE] = -1\n",
    "\n",
    "        if realNA2Nega1:\n",
    "            self.mapping[self.fillna] = -1\n",
    "    \n",
    "    def transform(self,sr):\n",
    "        return sr.fillna(self.fillna).map(self.mapping)"
   ]
  },
  {
   "cell_type": "code",
   "execution_count": 3,
   "metadata": {
    "ExecuteTime": {
     "end_time": "2018-08-16T18:27:45.995395Z",
     "start_time": "2018-08-16T18:27:45.984130Z"
    }
   },
   "outputs": [],
   "source": [
    "oe = ordinal_encoder()"
   ]
  },
  {
   "cell_type": "code",
   "execution_count": 4,
   "metadata": {
    "ExecuteTime": {
     "end_time": "2018-08-16T18:27:47.934175Z",
     "start_time": "2018-08-16T18:27:45.997270Z"
    }
   },
   "outputs": [
    {
     "name": "stdout",
     "output_type": "stream",
     "text": [
      "Train shape: (307511, 122)\n",
      "Test shape: (48744, 121)\n",
      "Previous App shape: (1670214, 37)\n",
      "POS CASH shape: (10001358, 8)\n",
      "Credit Card shape: (3840312, 23)\n"
     ]
    }
   ],
   "source": [
    "X_Train = pd.read_pickle(ENV.application_train_cleaned.value)\n",
    "print('Train shape: {}'.format(X_Train.shape))\n",
    "\n",
    "X_Test = pd.read_pickle(ENV.application_test_cleaned.value)\n",
    "print('Test shape: {}'.format(X_Test.shape))\n",
    "\n",
    "X_pre = pd.read_pickle(ENV.previous_application_cleaned.value)\n",
    "print('Previous App shape: {}'.format(X_pre.shape))\n",
    "\n",
    "X_pos = pd.read_pickle(ENV.POS_CASH_balance_clean.value)\n",
    "print('POS CASH shape: {}'.format(X_pos.shape))\n",
    "\n",
    "X_cc = pd.read_pickle(ENV.credit_card_balance_clean.value)\n",
    "print('Credit Card shape: {}'.format(X_cc.shape))"
   ]
  },
  {
   "cell_type": "code",
   "execution_count": 5,
   "metadata": {
    "ExecuteTime": {
     "end_time": "2018-08-16T18:28:11.511352Z",
     "start_time": "2018-08-16T18:27:47.936031Z"
    }
   },
   "outputs": [
    {
     "name": "stdout",
     "output_type": "stream",
     "text": [
      "Previous App shape: (1670214, 37)\n",
      "Installment shape: (13605401, 8)\n",
      "POS CASH shape: (10001358, 8)\n",
      "Credit Card shape: (3840312, 23)\n"
     ]
    }
   ],
   "source": [
    "X_pre_ori = pd.read_csv(ENV.previous_application_ori.value)\n",
    "print('Previous App shape: {}'.format(X_pre_ori.shape))\n",
    "\n",
    "X_ins_ori = pd.read_csv(ENV.installments_payments_ori.value)\n",
    "print('Installment shape: {}'.format(X_ins_ori.shape))\n",
    "\n",
    "X_pos_ori = pd.read_csv(ENV.POS_CASH_balance_ori.value)\n",
    "print('POS CASH shape: {}'.format(X_pos_ori.shape))\n",
    "\n",
    "X_cc_ori = pd.read_csv(ENV.credit_card_balance_ori.value)\n",
    "print('Credit Card shape: {}'.format(X_cc_ori.shape))"
   ]
  },
  {
   "cell_type": "markdown",
   "metadata": {
    "ExecuteTime": {
     "end_time": "2018-08-16T14:28:40.409105Z",
     "start_time": "2018-08-16T14:28:40.403865Z"
    }
   },
   "source": [
    "# View Columns"
   ]
  },
  {
   "cell_type": "code",
   "execution_count": 6,
   "metadata": {
    "ExecuteTime": {
     "end_time": "2018-08-16T18:28:11.518242Z",
     "start_time": "2018-08-16T18:28:11.513469Z"
    }
   },
   "outputs": [
    {
     "data": {
      "text/plain": [
       "Index(['SK_ID_PREV', 'SK_ID_CURR', 'MONTHS_BALANCE', 'CNT_INSTALMENT',\n",
       "       'CNT_INSTALMENT_FUTURE', 'NAME_CONTRACT_STATUS', 'SK_DPD',\n",
       "       'SK_DPD_DEF'],\n",
       "      dtype='object')"
      ]
     },
     "execution_count": 6,
     "metadata": {},
     "output_type": "execute_result"
    }
   ],
   "source": [
    "X_pos_ori.columns"
   ]
  },
  {
   "cell_type": "code",
   "execution_count": 7,
   "metadata": {
    "ExecuteTime": {
     "end_time": "2018-08-16T18:28:11.679301Z",
     "start_time": "2018-08-16T18:28:11.520287Z"
    }
   },
   "outputs": [],
   "source": [
    "X = X_pos_ori.copy()"
   ]
  },
  {
   "cell_type": "code",
   "execution_count": 8,
   "metadata": {
    "ExecuteTime": {
     "end_time": "2018-08-16T18:28:12.514074Z",
     "start_time": "2018-08-16T18:28:11.681318Z"
    }
   },
   "outputs": [
    {
     "data": {
      "text/plain": [
       "SK_ID_PREV               0.000000\n",
       "SK_ID_CURR               0.000000\n",
       "MONTHS_BALANCE           0.000000\n",
       "NAME_CONTRACT_STATUS     0.000000\n",
       "SK_DPD                   0.000000\n",
       "SK_DPD_DEF               0.000000\n",
       "CNT_INSTALMENT           0.002607\n",
       "CNT_INSTALMENT_FUTURE    0.002608\n",
       "dtype: float64"
      ]
     },
     "execution_count": 8,
     "metadata": {},
     "output_type": "execute_result"
    }
   ],
   "source": [
    "scan_nan_portion(X).sort_values()"
   ]
  },
  {
   "cell_type": "markdown",
   "metadata": {},
   "source": [
    "# Fillna"
   ]
  },
  {
   "cell_type": "code",
   "execution_count": 9,
   "metadata": {
    "ExecuteTime": {
     "end_time": "2018-08-16T18:28:13.240074Z",
     "start_time": "2018-08-16T18:28:12.516115Z"
    }
   },
   "outputs": [
    {
     "name": "stdout",
     "output_type": "stream",
     "text": [
      "0.0026067460038926714\n",
      "count    9.975287e+06\n",
      "mean     1.708965e+01\n",
      "std      1.199506e+01\n",
      "min      1.000000e+00\n",
      "25%      1.000000e+01\n",
      "50%      1.200000e+01\n",
      "75%      2.400000e+01\n",
      "max      9.200000e+01\n",
      "Name: CNT_INSTALMENT, dtype: float64\n"
     ]
    }
   ],
   "source": [
    "col = 'CNT_INSTALMENT'\n",
    "print(view_na_portion(X_pos_ori,col))\n",
    "print(X_pos_ori[col].describe())\n",
    "\n",
    "X[col] = X[col].fillna(X[col].mean())"
   ]
  },
  {
   "cell_type": "code",
   "execution_count": 10,
   "metadata": {
    "ExecuteTime": {
     "end_time": "2018-08-16T18:28:14.021667Z",
     "start_time": "2018-08-16T18:28:13.242143Z"
    }
   },
   "outputs": [
    {
     "name": "stdout",
     "output_type": "stream",
     "text": [
      "0.002608345786642174\n",
      "count    9.975271e+06\n",
      "mean     1.048384e+01\n",
      "std      1.110906e+01\n",
      "min      0.000000e+00\n",
      "25%      3.000000e+00\n",
      "50%      7.000000e+00\n",
      "75%      1.400000e+01\n",
      "max      8.500000e+01\n",
      "Name: CNT_INSTALMENT_FUTURE, dtype: float64\n"
     ]
    }
   ],
   "source": [
    "col = 'CNT_INSTALMENT_FUTURE'\n",
    "print(view_na_portion(X_pos_ori,col))\n",
    "print(X_pos_ori[col].describe())\n",
    "\n",
    "X[col] = X[col].fillna(X[col].mean())"
   ]
  },
  {
   "cell_type": "code",
   "execution_count": 21,
   "metadata": {
    "ExecuteTime": {
     "end_time": "2018-08-16T18:30:44.428198Z",
     "start_time": "2018-08-16T18:30:44.154869Z"
    }
   },
   "outputs": [
    {
     "name": "stdout",
     "output_type": "stream",
     "text": [
      "count    1.000136e+07\n",
      "mean     6.544684e-01\n",
      "std      3.276249e+01\n",
      "min      0.000000e+00\n",
      "25%      0.000000e+00\n",
      "50%      0.000000e+00\n",
      "75%      0.000000e+00\n",
      "max      3.595000e+03\n",
      "Name: SK_DPD_DEF, dtype: float64\n"
     ]
    }
   ],
   "source": [
    "col = 'SK_DPD_DEF'\n",
    "\n",
    "print(X_pos_ori[col].describe())"
   ]
  },
  {
   "cell_type": "markdown",
   "metadata": {},
   "source": [
    "# One Hot encoding -- NAME_CONTRACT_STATUS"
   ]
  },
  {
   "cell_type": "code",
   "execution_count": 11,
   "metadata": {
    "ExecuteTime": {
     "end_time": "2018-08-16T18:28:14.738880Z",
     "start_time": "2018-08-16T18:28:14.023687Z"
    }
   },
   "outputs": [
    {
     "name": "stdout",
     "output_type": "stream",
     "text": [
      "Active                   9151119\n",
      "Completed                 744883\n",
      "Signed                     87260\n",
      "Demand                      7065\n",
      "Returned to the store       5461\n",
      "Approved                    4917\n",
      "Amortized debt               636\n",
      "Canceled                      15\n",
      "XNA                            2\n",
      "Name: NAME_CONTRACT_STATUS, dtype: int64\n"
     ]
    }
   ],
   "source": [
    "col = 'NAME_CONTRACT_STATUS'\n",
    "print(X[col].value_counts())"
   ]
  },
  {
   "cell_type": "code",
   "execution_count": 12,
   "metadata": {
    "ExecuteTime": {
     "end_time": "2018-08-16T18:28:24.389283Z",
     "start_time": "2018-08-16T18:28:14.740921Z"
    }
   },
   "outputs": [
    {
     "name": "stdout",
     "output_type": "stream",
     "text": [
      "before encoding, shape is: (10001358, 8)\n",
      "after encoding, shape is: (10001358, 17)\n"
     ]
    }
   ],
   "source": [
    "X,new_col = one_hot_encoding(X,'NAME_CONTRACT_STATUS','POSContractStatus',drop=False)"
   ]
  },
  {
   "cell_type": "code",
   "execution_count": 13,
   "metadata": {
    "ExecuteTime": {
     "end_time": "2018-08-16T18:28:24.394583Z",
     "start_time": "2018-08-16T18:28:24.391294Z"
    }
   },
   "outputs": [
    {
     "data": {
      "text/plain": [
       "['POSContractStatus_Active',\n",
       " 'POSContractStatus_Completed',\n",
       " 'POSContractStatus_Signed',\n",
       " 'POSContractStatus_Approved',\n",
       " 'POSContractStatus_Returned_to_the_store',\n",
       " 'POSContractStatus_Demand',\n",
       " 'POSContractStatus_Canceled',\n",
       " 'POSContractStatus_XNA',\n",
       " 'POSContractStatus_Amortized_debt']"
      ]
     },
     "execution_count": 13,
     "metadata": {},
     "output_type": "execute_result"
    }
   ],
   "source": [
    "new_col"
   ]
  },
  {
   "cell_type": "markdown",
   "metadata": {},
   "source": [
    "# Grouby"
   ]
  },
  {
   "cell_type": "code",
   "execution_count": 14,
   "metadata": {
    "ExecuteTime": {
     "end_time": "2018-08-16T18:28:24.414436Z",
     "start_time": "2018-08-16T18:28:24.396519Z"
    }
   },
   "outputs": [
    {
     "data": {
      "text/plain": [
       "Index(['SK_ID_PREV', 'SK_ID_CURR', 'MONTHS_BALANCE', 'CNT_INSTALMENT',\n",
       "       'CNT_INSTALMENT_FUTURE', 'NAME_CONTRACT_STATUS', 'SK_DPD',\n",
       "       'SK_DPD_DEF'],\n",
       "      dtype='object')"
      ]
     },
     "execution_count": 14,
     "metadata": {},
     "output_type": "execute_result"
    }
   ],
   "source": [
    "X_pos_ori.columns"
   ]
  },
  {
   "cell_type": "code",
   "execution_count": 15,
   "metadata": {
    "ExecuteTime": {
     "end_time": "2018-08-16T18:28:24.420175Z",
     "start_time": "2018-08-16T18:28:24.415923Z"
    }
   },
   "outputs": [],
   "source": [
    "def agg_max_min_mean_span (df,col):\n",
    "    mx = df[col].max()\n",
    "    mi = df[col].min()\n",
    "    span = mx -mi\n",
    "    me = df[col].mean()\n",
    "    return {'max':mx, \n",
    "            'min':mi,\n",
    "            'mean':me,\n",
    "            'span':span}"
   ]
  },
  {
   "cell_type": "code",
   "execution_count": 25,
   "metadata": {
    "ExecuteTime": {
     "end_time": "2018-08-16T18:31:48.818643Z",
     "start_time": "2018-08-16T18:31:48.811571Z"
    }
   },
   "outputs": [
    {
     "data": {
      "text/plain": [
       "6030662    False\n",
       "8470736    False\n",
       "45995      False\n",
       "Name: SK_DPD_DEF, dtype: bool"
      ]
     },
     "execution_count": 25,
     "metadata": {},
     "output_type": "execute_result"
    }
   ],
   "source": [
    "df[col] > 0"
   ]
  },
  {
   "cell_type": "code",
   "execution_count": 26,
   "metadata": {
    "ExecuteTime": {
     "end_time": "2018-08-16T19:09:33.942188Z",
     "start_time": "2018-08-16T18:32:15.783808Z"
    }
   },
   "outputs": [
    {
     "name": "stdout",
     "output_type": "stream",
     "text": [
      "10000\n",
      "20000\n",
      "30000\n",
      "40000\n",
      "50000\n",
      "60000\n",
      "70000\n",
      "80000\n",
      "90000\n",
      "100000\n",
      "110000\n",
      "120000\n",
      "130000\n",
      "140000\n",
      "150000\n",
      "160000\n",
      "170000\n",
      "180000\n",
      "190000\n",
      "200000\n",
      "210000\n",
      "220000\n",
      "230000\n",
      "240000\n",
      "250000\n",
      "260000\n",
      "270000\n",
      "280000\n",
      "290000\n",
      "300000\n",
      "310000\n",
      "320000\n",
      "330000\n",
      "340000\n",
      "350000\n",
      "360000\n",
      "370000\n",
      "380000\n",
      "390000\n",
      "400000\n",
      "410000\n",
      "420000\n",
      "430000\n",
      "440000\n",
      "450000\n",
      "460000\n",
      "470000\n",
      "480000\n",
      "490000\n",
      "500000\n",
      "510000\n",
      "520000\n",
      "530000\n",
      "540000\n",
      "550000\n",
      "560000\n",
      "570000\n",
      "580000\n",
      "590000\n",
      "600000\n",
      "610000\n",
      "620000\n",
      "630000\n",
      "640000\n",
      "650000\n",
      "660000\n",
      "670000\n",
      "680000\n",
      "690000\n",
      "700000\n",
      "710000\n",
      "720000\n",
      "730000\n",
      "740000\n",
      "750000\n",
      "760000\n",
      "770000\n",
      "780000\n",
      "790000\n",
      "800000\n",
      "810000\n",
      "820000\n",
      "830000\n",
      "840000\n",
      "850000\n",
      "860000\n",
      "870000\n",
      "880000\n",
      "890000\n",
      "900000\n",
      "910000\n",
      "920000\n",
      "930000\n"
     ]
    }
   ],
   "source": [
    "group_pos = X.groupby(['SK_ID_PREV'])\n",
    "\n",
    "SK_ID_PREV = []\n",
    "\n",
    "MONTHS_BALANCE_MAX = []\n",
    "MONTHS_BALANCE_MIN = []\n",
    "MONTHS_BALANCE_SPAN = []\n",
    "\n",
    "CNT_INSTALMENT_MAX = []\n",
    "CNT_INSTALMENT_MIN = []\n",
    "CNT_INSTALMENT_SPAN = []\n",
    "\n",
    "SK_DPD_MAX = []\n",
    "SK_DPD_MIN = []\n",
    "SK_DPD_MEAN = []\n",
    "SK_DPD_COUNT = []\n",
    "SK_DPD_SUM = []\n",
    "\n",
    "SK_DPD_DEF_MAX = []\n",
    "SK_DPD_DEF_MIN = []\n",
    "SK_DPD_DEF_MEAN = []\n",
    "SK_DPD_DEF_COUNT = []\n",
    "SK_DPD_DEF_SUM = []\n",
    "\n",
    "POSContractStatus_Active = []\n",
    "POSContractStatus_Completed = []\n",
    "POSContractStatus_Signed = []\n",
    "POSContractStatus_Approved = []\n",
    "POSContractStatus_Returned_to_the_store = []\n",
    "POSContractStatus_Demand = []\n",
    "POSContractStatus_Canceled = []\n",
    "POSContractStatus_XNA = []\n",
    "POSContractStatus_Amortized_debt = []\n",
    "\n",
    "POS_FIRST_STATUS = []\n",
    "POS_LAST_STATUS = []\n",
    "\n",
    "\n",
    "count = 0\n",
    "for key,df in group_pos:\n",
    "    SK_ID_PREV.append(key)\n",
    "    df = df.sort_values(['MONTHS_BALANCE'])\n",
    "    col = 'MONTHS_BALANCE'\n",
    "    MONTHS_BALANCE_MAX.append(df[col].max())\n",
    "    MONTHS_BALANCE_MIN.append(df[col].min())\n",
    "    MONTHS_BALANCE_SPAN.append(df[col].max() - df[col].min())\n",
    "    \n",
    "    col = 'CNT_INSTALMENT'\n",
    "    CNT_INSTALMENT_MAX.append(df[col].max())\n",
    "    CNT_INSTALMENT_MIN.append(df[col].min())\n",
    "    CNT_INSTALMENT_SPAN.append(df[col].max() - df[col].min())\n",
    "    \n",
    "    col = 'SK_DPD'\n",
    "    SK_DPD_MAX.append(df[col].max())\n",
    "    SK_DPD_MIN.append(df[col].min())\n",
    "    SK_DPD_MEAN.append(df[col].mean())\n",
    "    SK_DPD_COUNT.append(len(df[df[col] > 0]))\n",
    "    SK_DPD_SUM.append(sum(df[col]))\n",
    "    \n",
    "    col = 'SK_DPD_DEF'\n",
    "    SK_DPD_DEF_MAX.append(df[col].max())\n",
    "    SK_DPD_DEF_MIN.append(df[col].min())\n",
    "    SK_DPD_DEF_MEAN.append(df[col].mean())\n",
    "    SK_DPD_DEF_COUNT.append(len(df[df[col] > 0]))\n",
    "    SK_DPD_DEF_SUM.append(sum(df[col]))\n",
    "    \n",
    "    col = 'POSContractStatus_Active'\n",
    "    POSContractStatus_Active.append(sum(df[col]))\n",
    "    col = 'POSContractStatus_Completed'\n",
    "    POSContractStatus_Completed.append(sum(df[col]))\n",
    "    col = 'POSContractStatus_Signed'\n",
    "    POSContractStatus_Signed.append(sum(df[col]))\n",
    "    col = 'POSContractStatus_Approved'\n",
    "    POSContractStatus_Approved.append(sum(df[col]))\n",
    "    col = 'POSContractStatus_Returned_to_the_store'\n",
    "    POSContractStatus_Returned_to_the_store.append(sum(df[col]))\n",
    "    col = 'POSContractStatus_Demand'\n",
    "    POSContractStatus_Demand.append(sum(df[col]))\n",
    "    col = 'POSContractStatus_Canceled'\n",
    "    POSContractStatus_Canceled.append(sum(df[col]))\n",
    "    col = 'POSContractStatus_XNA'\n",
    "    POSContractStatus_XNA.append(sum(df[col]))\n",
    "    col = 'POSContractStatus_Amortized_debt'\n",
    "    POSContractStatus_Amortized_debt.append(sum(df[col]))\n",
    "    \n",
    "    POS_FIRST_STATUS.append(df.NAME_CONTRACT_STATUS.iloc[0])\n",
    "    POS_LAST_STATUS.append(df.NAME_CONTRACT_STATUS.iloc[-1])\n",
    "    \n",
    "    count += 1\n",
    "    if count % 10000 == 0:\n",
    "        print(count)"
   ]
  },
  {
   "cell_type": "code",
   "execution_count": 30,
   "metadata": {
    "ExecuteTime": {
     "end_time": "2018-08-16T19:27:03.940942Z",
     "start_time": "2018-08-16T19:26:49.568148Z"
    }
   },
   "outputs": [],
   "source": [
    "df_POS_new = pd.DataFrame({'SK_ID_PREV':SK_ID_PREV,\n",
    " 'MONTHS_BALANCE_MAX':MONTHS_BALANCE_MAX,\n",
    " 'MONTHS_BALANCE_MIN':MONTHS_BALANCE_MIN,\n",
    " 'MONTHS_BALANCE_SPAN':MONTHS_BALANCE_SPAN,\n",
    " 'CNT_INSTALMENT_MAX':CNT_INSTALMENT_MAX,\n",
    " 'CNT_INSTALMENT_MIN':CNT_INSTALMENT_MIN,\n",
    " 'CNT_INSTALMENT_SPAN':CNT_INSTALMENT_SPAN,\n",
    " 'SK_DPD_MAX':SK_DPD_MAX,\n",
    " 'SK_DPD_MIN':SK_DPD_MIN,\n",
    " 'SK_DPD_MEAN':SK_DPD_DEF_MEAN,\n",
    " 'SK_DPD_COUNT':SK_DPD_DEF_COUNT,\n",
    " 'SK_DPD_SUM':SK_DPD_SUM,\n",
    " 'SK_DPD_DEF_MAX':SK_DPD_DEF_MAX,\n",
    " 'SK_DPD_DEF_MIN':SK_DPD_DEF_MIN,\n",
    " 'SK_DPD_DEF_MEAN':SK_DPD_DEF_MEAN,\n",
    " 'SK_DPD_DEF_COUNT':SK_DPD_DEF_COUNT,\n",
    " 'SK_DPD_DEF_SUM':SK_DPD_DEF_SUM,\n",
    " 'POSContractStatus_Active':POSContractStatus_Active,\n",
    " 'POSContractStatus_Completed':POSContractStatus_Completed,\n",
    " 'POSContractStatus_Signed':POSContractStatus_Signed,\n",
    " 'POSContractStatus_Approved':POSContractStatus_Approved,\n",
    " 'POSContractStatus_Returned_to_the_store':POSContractStatus_Returned_to_the_store,\n",
    " 'POSContractStatus_Demand':POSContractStatus_Demand,\n",
    " 'POSContractStatus_Canceled':POSContractStatus_Canceled,\n",
    " 'POSContractStatus_XNA':POSContractStatus_XNA,\n",
    " 'POSContractStatus_Amortized_debt':POSContractStatus_Amortized_debt,\n",
    " 'POS_FIRST_STATUS':POS_FIRST_STATUS,\n",
    " 'POS_LAST_STATUS':POS_LAST_STATUS})"
   ]
  },
  {
   "cell_type": "code",
   "execution_count": 33,
   "metadata": {
    "ExecuteTime": {
     "end_time": "2018-08-16T19:27:59.587134Z",
     "start_time": "2018-08-16T19:27:59.501439Z"
    }
   },
   "outputs": [
    {
     "data": {
      "text/plain": [
       "Completed                698421\n",
       "Active                   236149\n",
       "Signed                     1272\n",
       "Returned to the store       304\n",
       "Demand                      102\n",
       "Approved                     58\n",
       "Amortized debt               17\n",
       "Canceled                      2\n",
       "Name: POS_LAST_STATUS, dtype: int64"
      ]
     },
     "execution_count": 33,
     "metadata": {},
     "output_type": "execute_result"
    }
   ],
   "source": [
    "df_POS_new.POS_LAST_STATUS.value_counts()"
   ]
  },
  {
   "cell_type": "markdown",
   "metadata": {},
   "source": [
    "### add SK_ID_CURR"
   ]
  },
  {
   "cell_type": "code",
   "execution_count": 34,
   "metadata": {
    "ExecuteTime": {
     "end_time": "2018-08-16T19:29:15.371935Z",
     "start_time": "2018-08-16T19:29:14.584354Z"
    }
   },
   "outputs": [],
   "source": [
    "mapping = X_pos_ori[['SK_ID_CURR','SK_ID_PREV']].drop_duplicates().copy()\n",
    "mapping = mapping.set_index(['SK_ID_PREV'])['SK_ID_CURR']\n",
    "df_POS_new['SK_ID_CURR'] = df_POS_new['SK_ID_PREV'].map(mapping)"
   ]
  },
  {
   "cell_type": "markdown",
   "metadata": {},
   "source": [
    "# OPTIONAL - EXPAND first/last STATUS to one hoe"
   ]
  },
  {
   "cell_type": "code",
   "execution_count": 37,
   "metadata": {
    "ExecuteTime": {
     "end_time": "2018-08-16T19:31:33.547692Z",
     "start_time": "2018-08-16T19:31:32.514629Z"
    }
   },
   "outputs": [
    {
     "name": "stdout",
     "output_type": "stream",
     "text": [
      "before encoding, shape is: (936325, 29)\n",
      "after encoding, shape is: (936325, 36)\n"
     ]
    }
   ],
   "source": [
    "df_POS_new,col = one_hot_encoding(df_POS_new,'POS_LAST_STATUS','POS_LAST_STATUS',drop=True)"
   ]
  },
  {
   "cell_type": "code",
   "execution_count": 39,
   "metadata": {
    "ExecuteTime": {
     "end_time": "2018-08-16T19:32:23.431957Z",
     "start_time": "2018-08-16T19:32:22.367320Z"
    }
   },
   "outputs": [
    {
     "name": "stdout",
     "output_type": "stream",
     "text": [
      "before encoding, shape is: (936325, 36)\n",
      "after encoding, shape is: (936325, 42)\n"
     ]
    }
   ],
   "source": [
    "df_POS_new,col = one_hot_encoding(df_POS_new,'POS_FIRST_STATUS','POS_FIRST_STATUS',drop=True)"
   ]
  },
  {
   "cell_type": "markdown",
   "metadata": {},
   "source": [
    "# Saving"
   ]
  },
  {
   "cell_type": "code",
   "execution_count": 41,
   "metadata": {
    "ExecuteTime": {
     "end_time": "2018-08-16T19:34:07.920610Z",
     "start_time": "2018-08-16T19:34:07.416538Z"
    }
   },
   "outputs": [],
   "source": [
    "# df_POS_new.to_pickle('../../data/cleaned_data/POS_CASH_balance_rnn.pkl')\n",
    "df_POS_new.to_pickle(ENV.installments_payment_clean_rnn.value)"
   ]
  },
  {
   "cell_type": "code",
   "execution_count": null,
   "metadata": {
    "ExecuteTime": {
     "end_time": "2018-08-16T18:28:24.445498Z",
     "start_time": "2018-08-16T18:27:45.571Z"
    }
   },
   "outputs": [],
   "source": [
    "df_installment_new"
   ]
  },
  {
   "cell_type": "code",
   "execution_count": null,
   "metadata": {},
   "outputs": [],
   "source": []
  }
 ],
 "metadata": {
  "kernelspec": {
   "display_name": "Python 3",
   "language": "python",
   "name": "python3"
  },
  "language_info": {
   "codemirror_mode": {
    "name": "ipython",
    "version": 3
   },
   "file_extension": ".py",
   "mimetype": "text/x-python",
   "name": "python",
   "nbconvert_exporter": "python",
   "pygments_lexer": "ipython3",
   "version": "3.6.5"
  },
  "varInspector": {
   "cols": {
    "lenName": 16,
    "lenType": 16,
    "lenVar": 40
   },
   "kernels_config": {
    "python": {
     "delete_cmd_postfix": "",
     "delete_cmd_prefix": "del ",
     "library": "var_list.py",
     "varRefreshCmd": "print(var_dic_list())"
    },
    "r": {
     "delete_cmd_postfix": ") ",
     "delete_cmd_prefix": "rm(",
     "library": "var_list.r",
     "varRefreshCmd": "cat(var_dic_list()) "
    }
   },
   "types_to_exclude": [
    "module",
    "function",
    "builtin_function_or_method",
    "instance",
    "_Feature"
   ],
   "window_display": false
  }
 },
 "nbformat": 4,
 "nbformat_minor": 2
}
