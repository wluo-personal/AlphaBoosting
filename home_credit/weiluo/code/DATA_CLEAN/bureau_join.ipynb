{
 "cells": [
  {
   "cell_type": "code",
   "execution_count": 1,
   "metadata": {
    "ExecuteTime": {
     "end_time": "2018-08-15T20:10:25.977589Z",
     "start_time": "2018-08-15T20:10:25.264714Z"
    }
   },
   "outputs": [],
   "source": [
    "import os,sys\n",
    "import numpy as np\n",
    "import pandas as pd\n",
    "from tqdm import tqdm_notebook as tqdm\n",
    "from sklearn.externals import joblib\n",
    "import matplotlib.pyplot as plt\n",
    "sys.path.append('../LIB/')\n",
    "from env import ENV\n",
    "from sklearn.preprocessing import normalize\n",
    "from tqdm import tqdm\n",
    "from sklearn.preprocessing import OneHotEncoder\n",
    "from scipy.sparse import coo_matrix, hstack\n",
    "from sklearn.preprocessing import LabelEncoder"
   ]
  },
  {
   "cell_type": "code",
   "execution_count": 2,
   "metadata": {
    "ExecuteTime": {
     "end_time": "2018-08-15T20:10:25.985854Z",
     "start_time": "2018-08-15T20:10:25.979525Z"
    }
   },
   "outputs": [],
   "source": [
    "def scan_nan_portion(df):\n",
    "    portions = []\n",
    "    columns = []\n",
    "    for col in df.columns:\n",
    "        columns.append(col)\n",
    "        portions.append(np.sum(df[col].isnull())/len(df))\n",
    "    return pd.Series(data=portions, index=columns)\n",
    "\n",
    "class ordinal_encoder:\n",
    "    def __init__(self,fillna='NAN_FILL'):\n",
    "        self.fillna = fillna\n",
    "    \n",
    "    def fit(self,sr,NA_VALUE=None,realNA2Nega1=True):\n",
    "        \"\"\"\n",
    "        spycify the value which has already been encoded. make it to -1 after encoding\n",
    "        \"\"\"\n",
    "        self.NA_VALUE=NA_VALUE\n",
    "        order = sr.fillna(self.fillna).value_counts()\n",
    "        if self.NA_VALUE is not None:\n",
    "            order[NA_VALUE] = 9999999\n",
    "\n",
    "        if realNA2Nega1:\n",
    "            order[self.fillna] = 99999999\n",
    "        order = order.sort_values(ascending=True)\n",
    "\n",
    "\n",
    "        self.mapping = pd.Series(index=order.index.values, data=list(range(1,len(order)+1)))\n",
    "        if self.NA_VALUE is not None:\n",
    "            self.mapping[NA_VALUE] = -1\n",
    "\n",
    "        if realNA2Nega1:\n",
    "            self.mapping[self.fillna] = -1\n",
    "    \n",
    "    def transform(self,sr):\n",
    "        return sr.fillna(self.fillna).map(self.mapping)"
   ]
  },
  {
   "cell_type": "code",
   "execution_count": 3,
   "metadata": {
    "ExecuteTime": {
     "end_time": "2018-08-15T20:10:26.006194Z",
     "start_time": "2018-08-15T20:10:25.988274Z"
    }
   },
   "outputs": [],
   "source": [
    "oe = ordinal_encoder()"
   ]
  },
  {
   "cell_type": "code",
   "execution_count": 4,
   "metadata": {
    "ExecuteTime": {
     "end_time": "2018-08-15T20:10:30.517070Z",
     "start_time": "2018-08-15T20:10:26.008989Z"
    }
   },
   "outputs": [
    {
     "name": "stdout",
     "output_type": "stream",
     "text": [
      "Train shape: (307511, 122)\n",
      "Test shape: (48744, 121)\n",
      "Previous App shape: (1670214, 37)\n",
      "Bureau Balance shape: (817395, 10)\n",
      "Bureau Balance shape: (27299925, 3)\n",
      "Bureau shape: (1716428, 17)\n",
      "Installment shape: (13605401, 8)\n",
      "POS CASH shape: (10001358, 8)\n",
      "Credit Card shape: (3840312, 23)\n"
     ]
    }
   ],
   "source": [
    "X_Train = pd.read_pickle(ENV.application_train_cleaned.value)\n",
    "print('Train shape: {}'.format(X_Train.shape))\n",
    "\n",
    "X_Test = pd.read_pickle(ENV.application_test_cleaned.value)\n",
    "print('Test shape: {}'.format(X_Test.shape))\n",
    "\n",
    "X_pre = pd.read_pickle(ENV.previous_application_cleaned.value)\n",
    "print('Previous App shape: {}'.format(X_pre.shape))\n",
    "\n",
    "X_bu_b = pd.read_pickle(ENV.bureau_balance_clean_rnn.value)\n",
    "print('Bureau Balance shape: {}'.format(X_bu_b.shape))\n",
    "\n",
    "X_bu_bo = pd.read_pickle(ENV.bureau_balance_clean.value)\n",
    "print('Bureau Balance shape: {}'.format(X_bu_bo.shape))\n",
    "\n",
    "X_bu = pd.read_pickle(ENV.bureau_cleaned.value)\n",
    "print('Bureau shape: {}'.format(X_bu.shape))\n",
    "\n",
    "\n",
    "\n",
    "X_ins = pd.read_pickle(ENV.installments_payments_clean.value)\n",
    "print('Installment shape: {}'.format(X_ins.shape))\n",
    "\n",
    "X_pos = pd.read_pickle(ENV.POS_CASH_balance_clean.value)\n",
    "print('POS CASH shape: {}'.format(X_pos.shape))\n",
    "\n",
    "X_cc = pd.read_pickle(ENV.credit_card_balance_clean.value)\n",
    "print('Credit Card shape: {}'.format(X_cc.shape))"
   ]
  },
  {
   "cell_type": "code",
   "execution_count": 5,
   "metadata": {
    "ExecuteTime": {
     "end_time": "2018-08-15T20:10:33.751375Z",
     "start_time": "2018-08-15T20:10:30.518792Z"
    }
   },
   "outputs": [
    {
     "name": "stdout",
     "output_type": "stream",
     "text": [
      "Bureau shape: (1716428, 17)\n"
     ]
    }
   ],
   "source": [
    "X_bu_ori = pd.read_csv(ENV.bureau_ori.value)\n",
    "print('Bureau shape: {}'.format(X_bu_ori.shape))"
   ]
  },
  {
   "cell_type": "markdown",
   "metadata": {},
   "source": [
    "# Bureau"
   ]
  },
  {
   "cell_type": "code",
   "execution_count": 6,
   "metadata": {
    "ExecuteTime": {
     "end_time": "2018-08-15T20:10:34.871886Z",
     "start_time": "2018-08-15T20:10:33.758644Z"
    }
   },
   "outputs": [],
   "source": [
    "X = X_bu_ori.merge(X_bu_b,how='left',left_on='SK_ID_BUREAU',right_on='SK_ID_BUREAU')"
   ]
  },
  {
   "cell_type": "markdown",
   "metadata": {
    "ExecuteTime": {
     "end_time": "2018-08-15T18:47:34.386779Z",
     "start_time": "2018-08-15T18:47:33.763191Z"
    }
   },
   "source": [
    "### fillna step 1"
   ]
  },
  {
   "cell_type": "code",
   "execution_count": 7,
   "metadata": {
    "ExecuteTime": {
     "end_time": "2018-08-15T20:10:34.929200Z",
     "start_time": "2018-08-15T20:10:34.877593Z"
    }
   },
   "outputs": [],
   "source": [
    "for col in ['STATUS0','STATUS1','STATUS2','STATUS3','STATUS4','STATUS5','STATUS6','STATUS7','BUREAU_LENGTH']:\n",
    "    X[col] = X[col].fillna(0)"
   ]
  },
  {
   "cell_type": "markdown",
   "metadata": {},
   "source": [
    "### fillna step 2:"
   ]
  },
  {
   "cell_type": "markdown",
   "metadata": {},
   "source": [
    "##### process AMT_ANUITY"
   ]
  },
  {
   "cell_type": "code",
   "execution_count": 8,
   "metadata": {
    "ExecuteTime": {
     "end_time": "2018-08-15T20:10:34.949324Z",
     "start_time": "2018-08-15T20:10:34.937129Z"
    }
   },
   "outputs": [],
   "source": [
    "# option 1: 0 fillna\n",
    "# reason: 50% of non na data is 0\n",
    "col = 'AMT_ANNUITY'\n",
    "X[col] = X[col].fillna(0)\n",
    "\n",
    "# option 2: mean\n",
    "# X[col] = X[col].fillna(X[col].mean())   "
   ]
  },
  {
   "cell_type": "markdown",
   "metadata": {},
   "source": [
    "##### process AMT_CREDIT_MAX_OVERDUE"
   ]
  },
  {
   "cell_type": "code",
   "execution_count": 9,
   "metadata": {
    "ExecuteTime": {
     "end_time": "2018-08-15T20:10:34.968309Z",
     "start_time": "2018-08-15T20:10:34.954551Z"
    }
   },
   "outputs": [],
   "source": [
    "# option 1: 0 fillna\n",
    "# reason: 50% of non na data is 0\n",
    "col = 'AMT_CREDIT_MAX_OVERDUE'\n",
    "X[col] = X[col].fillna(0)\n",
    "\n",
    "# option 2: mean\n",
    "# X[col] = X[col].fillna(X[col].mean())   "
   ]
  },
  {
   "cell_type": "markdown",
   "metadata": {},
   "source": [
    "##### process DAYS_ENDDATE_FACT"
   ]
  },
  {
   "cell_type": "code",
   "execution_count": 10,
   "metadata": {
    "ExecuteTime": {
     "end_time": "2018-08-15T20:10:34.997212Z",
     "start_time": "2018-08-15T20:10:34.975060Z"
    }
   },
   "outputs": [],
   "source": [
    "# option 1: 0 fillna\n",
    "# reason: 50% of non na data is 0\n",
    "col = 'DAYS_ENDDATE_FACT'\n",
    "# X[col] = X[col].fillna(0)\n",
    "\n",
    "# option 2: mean\n",
    "X[col] = X[col].fillna(X[col].mean())   "
   ]
  },
  {
   "cell_type": "markdown",
   "metadata": {},
   "source": [
    "##### process AMT_CREDIT_SUM_LIMIT"
   ]
  },
  {
   "cell_type": "code",
   "execution_count": 11,
   "metadata": {
    "ExecuteTime": {
     "end_time": "2018-08-15T20:10:35.015701Z",
     "start_time": "2018-08-15T20:10:35.002651Z"
    }
   },
   "outputs": [],
   "source": [
    "# option 1: 0 fillna\n",
    "# reason: 50% of non na data is 0\n",
    "col = 'AMT_CREDIT_SUM_LIMIT'\n",
    "X[col] = X[col].fillna(0)\n",
    "\n",
    "# option 2: mean\n",
    "# X[col] = X[col].fillna(X[col].mean())   "
   ]
  },
  {
   "cell_type": "markdown",
   "metadata": {},
   "source": [
    "##### process AMT_CREDIT_SUM_DEBT       "
   ]
  },
  {
   "cell_type": "code",
   "execution_count": 12,
   "metadata": {
    "ExecuteTime": {
     "end_time": "2018-08-15T20:10:35.034912Z",
     "start_time": "2018-08-15T20:10:35.023356Z"
    }
   },
   "outputs": [],
   "source": [
    "# option 1: 0 fillna\n",
    "# reason: 50% of non na data is 0\n",
    "col = 'AMT_CREDIT_SUM_DEBT'\n",
    "X[col] = X[col].fillna(0)\n",
    "\n",
    "# option 2: mean\n",
    "# X[col] = X[col].fillna(X[col].mean())  "
   ]
  },
  {
   "cell_type": "markdown",
   "metadata": {},
   "source": [
    "##### process DAYS_CREDIT_ENDDATE"
   ]
  },
  {
   "cell_type": "code",
   "execution_count": 13,
   "metadata": {
    "ExecuteTime": {
     "end_time": "2018-08-15T20:10:35.057862Z",
     "start_time": "2018-08-15T20:10:35.040900Z"
    }
   },
   "outputs": [],
   "source": [
    "# option 1: 0 fillna\n",
    "# reason: 50% of non na data is 0\n",
    "col = 'DAYS_CREDIT_ENDDATE'\n",
    "X[col] = X[col].fillna(0)\n",
    "\n",
    "# option 2: mean\n",
    "# X[col] = X[col].fillna(X[col].mean())   \n",
    "\n",
    "# option 3: middle\n",
    "X[col] = X[col].fillna(-3.3*10**2)  "
   ]
  },
  {
   "cell_type": "markdown",
   "metadata": {},
   "source": [
    "##### process AMT_CREDIT_SUM"
   ]
  },
  {
   "cell_type": "code",
   "execution_count": 14,
   "metadata": {
    "ExecuteTime": {
     "end_time": "2018-08-15T20:10:35.076588Z",
     "start_time": "2018-08-15T20:10:35.063075Z"
    }
   },
   "outputs": [],
   "source": [
    "# option 1: 0 fillna\n",
    "# reason: 50% of non na data is 0\n",
    "col = 'AMT_CREDIT_SUM'\n",
    "# X[col] = X[col].fillna(0)\n",
    "\n",
    "# option 2: mean\n",
    "X[col] = X[col].fillna(X[col].mean())   "
   ]
  },
  {
   "cell_type": "code",
   "execution_count": 15,
   "metadata": {
    "ExecuteTime": {
     "end_time": "2018-08-15T20:10:35.198612Z",
     "start_time": "2018-08-15T20:10:35.081854Z"
    }
   },
   "outputs": [
    {
     "data": {
      "text/plain": [
       "count    1.716428e+06\n",
       "mean     3.549946e+05\n",
       "std      1.149807e+06\n",
       "min      0.000000e+00\n",
       "25%      5.130000e+04\n",
       "50%      1.255230e+05\n",
       "75%      3.150000e+05\n",
       "max      5.850000e+08\n",
       "Name: AMT_CREDIT_SUM, dtype: float64"
      ]
     },
     "execution_count": 15,
     "metadata": {},
     "output_type": "execute_result"
    }
   ],
   "source": [
    "col = 'AMT_CREDIT_SUM'\n",
    "X[col][X[col].notnull()].describe()"
   ]
  },
  {
   "cell_type": "markdown",
   "metadata": {},
   "source": [
    "# PROCESS CAT columns"
   ]
  },
  {
   "cell_type": "markdown",
   "metadata": {},
   "source": [
    "##### process CREDIT_ACTIVE"
   ]
  },
  {
   "cell_type": "code",
   "execution_count": 16,
   "metadata": {
    "ExecuteTime": {
     "end_time": "2018-08-15T20:10:35.416272Z",
     "start_time": "2018-08-15T20:10:35.205669Z"
    }
   },
   "outputs": [
    {
     "data": {
      "text/plain": [
       "Closed      1079273\n",
       "Active       630607\n",
       "Sold           6527\n",
       "Bad debt         21\n",
       "Name: CREDIT_ACTIVE, dtype: int64"
      ]
     },
     "execution_count": 16,
     "metadata": {},
     "output_type": "execute_result"
    }
   ],
   "source": [
    "col = 'CREDIT_ACTIVE'\n",
    "X[col].value_counts()"
   ]
  },
  {
   "cell_type": "code",
   "execution_count": 17,
   "metadata": {
    "ExecuteTime": {
     "end_time": "2018-08-15T20:10:36.739866Z",
     "start_time": "2018-08-15T20:10:35.418631Z"
    }
   },
   "outputs": [],
   "source": [
    "#Option 1: one hot encoding\n",
    "X['Closed'] = 0\n",
    "X['Active'] = 0\n",
    "X['Sold'] = 0\n",
    "X['Bad_debt'] = 0\n",
    "X.loc[X[col]=='Closed','Closed'] = 1\n",
    "X.loc[X[col]=='Active','Active'] = 1\n",
    "X.loc[X[col]=='Sold','Sold'] = 1\n",
    "X.loc[X[col]=='Bad debt','Bad_debt'] = 1\n",
    "X = X.drop(['CREDIT_ACTIVE'],axis=1)"
   ]
  },
  {
   "cell_type": "code",
   "execution_count": 18,
   "metadata": {
    "ExecuteTime": {
     "end_time": "2018-08-15T20:10:36.743520Z",
     "start_time": "2018-08-15T20:10:36.741614Z"
    }
   },
   "outputs": [],
   "source": [
    "# # Option 2: ordinal encoder\n",
    "# oe.fit(X[col])\n",
    "# X[col] = oe.transform(X[col])"
   ]
  },
  {
   "cell_type": "markdown",
   "metadata": {},
   "source": [
    "##### process CREDIT_CURRENCY"
   ]
  },
  {
   "cell_type": "code",
   "execution_count": 19,
   "metadata": {
    "ExecuteTime": {
     "end_time": "2018-08-15T20:10:36.975031Z",
     "start_time": "2018-08-15T20:10:36.745834Z"
    }
   },
   "outputs": [
    {
     "data": {
      "text/plain": [
       "currency 1    1715020\n",
       "currency 2       1224\n",
       "currency 3        174\n",
       "currency 4         10\n",
       "Name: CREDIT_CURRENCY, dtype: int64"
      ]
     },
     "execution_count": 19,
     "metadata": {},
     "output_type": "execute_result"
    }
   ],
   "source": [
    "col = 'CREDIT_CURRENCY'\n",
    "X[col].value_counts()"
   ]
  },
  {
   "cell_type": "code",
   "execution_count": 20,
   "metadata": {
    "ExecuteTime": {
     "end_time": "2018-08-15T20:10:37.962587Z",
     "start_time": "2018-08-15T20:10:36.976810Z"
    }
   },
   "outputs": [],
   "source": [
    "#Option 1: one hot encoding\n",
    "X['currency_1'] = 0\n",
    "X['currency_2'] = 0\n",
    "X['currency_3'] = 0\n",
    "X['currency_4'] = 0\n",
    "X.loc[X[col]=='currency 1','currency_1'] = 1\n",
    "X.loc[X[col]=='currency 2','currency_2'] = 1\n",
    "X.loc[X[col]=='currency 3','currency_3'] = 1\n",
    "X.loc[X[col]=='currency 4','currency_4'] = 1\n",
    "X = X.drop(['CREDIT_CURRENCY'],axis=1)"
   ]
  },
  {
   "cell_type": "code",
   "execution_count": 21,
   "metadata": {
    "ExecuteTime": {
     "end_time": "2018-08-15T20:10:37.966067Z",
     "start_time": "2018-08-15T20:10:37.964336Z"
    }
   },
   "outputs": [],
   "source": [
    "# # Option 2: ordinal encoder\n",
    "# oe.fit(X[col])\n",
    "# X[col] = oe.transform(X[col])"
   ]
  },
  {
   "cell_type": "markdown",
   "metadata": {},
   "source": [
    "##### process CREDIT_TYPE"
   ]
  },
  {
   "cell_type": "code",
   "execution_count": 22,
   "metadata": {
    "ExecuteTime": {
     "end_time": "2018-08-15T20:10:38.201203Z",
     "start_time": "2018-08-15T20:10:37.967767Z"
    }
   },
   "outputs": [
    {
     "data": {
      "text/plain": [
       "Consumer credit                                 1251615\n",
       "Credit card                                      402195\n",
       "Car loan                                          27690\n",
       "Mortgage                                          18391\n",
       "Microloan                                         12413\n",
       "Loan for business development                      1975\n",
       "Another type of loan                               1017\n",
       "Unknown type of loan                                555\n",
       "Loan for working capital replenishment              469\n",
       "Cash loan (non-earmarked)                            56\n",
       "Real estate loan                                     27\n",
       "Loan for the purchase of equipment                   19\n",
       "Loan for purchase of shares (margin lending)          4\n",
       "Mobile operator loan                                  1\n",
       "Interbank credit                                      1\n",
       "Name: CREDIT_TYPE, dtype: int64"
      ]
     },
     "execution_count": 22,
     "metadata": {},
     "output_type": "execute_result"
    }
   ],
   "source": [
    "col = 'CREDIT_TYPE'\n",
    "X[col].value_counts()"
   ]
  },
  {
   "cell_type": "code",
   "execution_count": 23,
   "metadata": {
    "ExecuteTime": {
     "end_time": "2018-08-15T20:10:41.203279Z",
     "start_time": "2018-08-15T20:10:38.203486Z"
    }
   },
   "outputs": [],
   "source": [
    "#Option 1: one hot encoding\n",
    "X['Consumer_credit'] = 0\n",
    "X['Credit_card'] = 0\n",
    "X['Car_loan'] = 0\n",
    "X['Mortgage'] = 0\n",
    "X['Microloan'] = 0\n",
    "X['Loan_for_business_development'] = 0\n",
    "X['Another_type_of_loan'] = 0\n",
    "X['Unknown_type_of_loan'] = 0\n",
    "X['Loan_for_working_capital_replenishment'] = 0\n",
    "X['Cash_loan_(non-earmarked)'] = 0\n",
    "X['Real_estate_loan'] = 0\n",
    "X['Loan_for_the_purchase_of_equipment'] = 0\n",
    "X['Loan_for_purchase_of_shares'] = 0\n",
    "X['Interbank_credit'] = 0\n",
    "X['Mobile_operator_loan'] = 0\n",
    "X.loc[X[col]=='Consumer credit','Consumer_credit'] = 1\n",
    "X.loc[X[col]=='Credit card','Credit_card'] = 1\n",
    "X.loc[X[col]=='Car loan','Car_loan'] = 1\n",
    "X.loc[X[col]=='Mortgage','Mortgage'] = 1\n",
    "X.loc[X[col]=='Microloan','Microloan'] = 1\n",
    "X.loc[X[col]=='Loan for business development','Loan_for_business_development'] = 1\n",
    "X.loc[X[col]=='Another type of loan','Another_type_of_loan'] = 1\n",
    "X.loc[X[col]=='Unknown type of loan','Unknown_type_of_loan'] = 1\n",
    "X.loc[X[col]=='Loan for working capital replenishment','Loan_for_working_capital_replenishment'] = 1\n",
    "X.loc[X[col]=='Cash loan (non-earmarked)','Cash_loan_(non-earmarked)'] = 1\n",
    "X.loc[X[col]=='Real estate loan','Real_estate_loan'] = 1\n",
    "X.loc[X[col]=='Loan for the purchase of equipment','Loan_for_the_purchase_of_equipment'] = 1\n",
    "X.loc[X[col]=='Loan for purchase of shares','Loan_for_purchase_of_shares'] = 1\n",
    "X.loc[X[col]=='Interbank credit','Interbank_credit'] = 1\n",
    "X.loc[X[col]=='Mobile operator loan','Mobile_operator_loan'] = 1\n",
    "X = X.drop(['CREDIT_TYPE'],axis=1)"
   ]
  },
  {
   "cell_type": "code",
   "execution_count": 24,
   "metadata": {
    "ExecuteTime": {
     "end_time": "2018-08-15T20:10:41.208272Z",
     "start_time": "2018-08-15T20:10:41.205963Z"
    }
   },
   "outputs": [],
   "source": [
    "# # Option 2: ordinal encoder\n",
    "# oe.fit(X[col])\n",
    "# X[col] = oe.transform(X[col])"
   ]
  },
  {
   "cell_type": "markdown",
   "metadata": {},
   "source": [
    "# Aggregate"
   ]
  },
  {
   "cell_type": "markdown",
   "metadata": {},
   "source": [
    "### Step 1:  get squre:"
   ]
  },
  {
   "cell_type": "code",
   "execution_count": 30,
   "metadata": {
    "ExecuteTime": {
     "end_time": "2018-08-15T20:43:15.372494Z",
     "start_time": "2018-08-15T20:43:15.066967Z"
    }
   },
   "outputs": [],
   "source": [
    "from itertools import combinations\n",
    "trans_col = [\n",
    "             'AMT_ANNUITY',\n",
    "             'AMT_CREDIT_MAX_OVERDUE',\n",
    "             'DAYS_ENDDATE_FACT',\n",
    "             'AMT_CREDIT_SUM_LIMIT',\n",
    "             'AMT_CREDIT_SUM_DEBT',\n",
    "             'DAYS_CREDIT_ENDDATE',\n",
    "             'AMT_CREDIT_SUM',\n",
    "             'CREDIT_DAY_OVERDUE',\n",
    "             'CNT_CREDIT_PROLONG',\n",
    "             'BUREAU_LENGTH',\n",
    "             'AMT_CREDIT_SUM_OVERDUE',\n",
    "             'DAYS_CREDIT_UPDATE']\n",
    "squre_col = []\n",
    "for col in trans_col:\n",
    "    col_name = col + '_squre'\n",
    "    squre_col.append(col_name)\n",
    "    X[col_name] = X[col] * X[col]\n",
    "comb_col = []\n",
    "for col in combinations(trans_col,2):\n",
    "    col_name = col[0] + '_' + col[1]\n",
    "    comb_col.append(col_name)\n",
    "    X[col_name] = X[col[0]] * X[col[1]]"
   ]
  },
  {
   "cell_type": "code",
   "execution_count": 31,
   "metadata": {
    "ExecuteTime": {
     "end_time": "2018-08-15T20:43:22.161920Z",
     "start_time": "2018-08-15T20:43:22.157993Z"
    }
   },
   "outputs": [
    {
     "data": {
      "text/plain": [
       "['AMT_ANNUITY_squre',\n",
       " 'AMT_CREDIT_MAX_OVERDUE_squre',\n",
       " 'DAYS_ENDDATE_FACT_squre',\n",
       " 'AMT_CREDIT_SUM_LIMIT_squre',\n",
       " 'AMT_CREDIT_SUM_DEBT_squre',\n",
       " 'DAYS_CREDIT_ENDDATE_squre',\n",
       " 'AMT_CREDIT_SUM_squre',\n",
       " 'CREDIT_DAY_OVERDUE_squre',\n",
       " 'CNT_CREDIT_PROLONG_squre',\n",
       " 'BUREAU_LENGTH_squre',\n",
       " 'AMT_CREDIT_SUM_OVERDUE_squre',\n",
       " 'DAYS_CREDIT_UPDATE_squre']"
      ]
     },
     "execution_count": 31,
     "metadata": {},
     "output_type": "execute_result"
    }
   ],
   "source": [
    "squre_col"
   ]
  },
  {
   "cell_type": "code",
   "execution_count": 32,
   "metadata": {
    "ExecuteTime": {
     "end_time": "2018-08-15T20:43:28.131924Z",
     "start_time": "2018-08-15T20:43:28.127070Z"
    }
   },
   "outputs": [
    {
     "data": {
      "text/plain": [
       "['AMT_ANNUITY_AMT_CREDIT_MAX_OVERDUE',\n",
       " 'AMT_ANNUITY_DAYS_ENDDATE_FACT',\n",
       " 'AMT_ANNUITY_AMT_CREDIT_SUM_LIMIT',\n",
       " 'AMT_ANNUITY_AMT_CREDIT_SUM_DEBT',\n",
       " 'AMT_ANNUITY_DAYS_CREDIT_ENDDATE',\n",
       " 'AMT_ANNUITY_AMT_CREDIT_SUM',\n",
       " 'AMT_ANNUITY_CREDIT_DAY_OVERDUE',\n",
       " 'AMT_ANNUITY_CNT_CREDIT_PROLONG',\n",
       " 'AMT_ANNUITY_BUREAU_LENGTH',\n",
       " 'AMT_ANNUITY_AMT_CREDIT_SUM_OVERDUE',\n",
       " 'AMT_ANNUITY_DAYS_CREDIT_UPDATE',\n",
       " 'AMT_CREDIT_MAX_OVERDUE_DAYS_ENDDATE_FACT',\n",
       " 'AMT_CREDIT_MAX_OVERDUE_AMT_CREDIT_SUM_LIMIT',\n",
       " 'AMT_CREDIT_MAX_OVERDUE_AMT_CREDIT_SUM_DEBT',\n",
       " 'AMT_CREDIT_MAX_OVERDUE_DAYS_CREDIT_ENDDATE',\n",
       " 'AMT_CREDIT_MAX_OVERDUE_AMT_CREDIT_SUM',\n",
       " 'AMT_CREDIT_MAX_OVERDUE_CREDIT_DAY_OVERDUE',\n",
       " 'AMT_CREDIT_MAX_OVERDUE_CNT_CREDIT_PROLONG',\n",
       " 'AMT_CREDIT_MAX_OVERDUE_BUREAU_LENGTH',\n",
       " 'AMT_CREDIT_MAX_OVERDUE_AMT_CREDIT_SUM_OVERDUE',\n",
       " 'AMT_CREDIT_MAX_OVERDUE_DAYS_CREDIT_UPDATE',\n",
       " 'DAYS_ENDDATE_FACT_AMT_CREDIT_SUM_LIMIT',\n",
       " 'DAYS_ENDDATE_FACT_AMT_CREDIT_SUM_DEBT',\n",
       " 'DAYS_ENDDATE_FACT_DAYS_CREDIT_ENDDATE',\n",
       " 'DAYS_ENDDATE_FACT_AMT_CREDIT_SUM',\n",
       " 'DAYS_ENDDATE_FACT_CREDIT_DAY_OVERDUE',\n",
       " 'DAYS_ENDDATE_FACT_CNT_CREDIT_PROLONG',\n",
       " 'DAYS_ENDDATE_FACT_BUREAU_LENGTH',\n",
       " 'DAYS_ENDDATE_FACT_AMT_CREDIT_SUM_OVERDUE',\n",
       " 'DAYS_ENDDATE_FACT_DAYS_CREDIT_UPDATE',\n",
       " 'AMT_CREDIT_SUM_LIMIT_AMT_CREDIT_SUM_DEBT',\n",
       " 'AMT_CREDIT_SUM_LIMIT_DAYS_CREDIT_ENDDATE',\n",
       " 'AMT_CREDIT_SUM_LIMIT_AMT_CREDIT_SUM',\n",
       " 'AMT_CREDIT_SUM_LIMIT_CREDIT_DAY_OVERDUE',\n",
       " 'AMT_CREDIT_SUM_LIMIT_CNT_CREDIT_PROLONG',\n",
       " 'AMT_CREDIT_SUM_LIMIT_BUREAU_LENGTH',\n",
       " 'AMT_CREDIT_SUM_LIMIT_AMT_CREDIT_SUM_OVERDUE',\n",
       " 'AMT_CREDIT_SUM_LIMIT_DAYS_CREDIT_UPDATE',\n",
       " 'AMT_CREDIT_SUM_DEBT_DAYS_CREDIT_ENDDATE',\n",
       " 'AMT_CREDIT_SUM_DEBT_AMT_CREDIT_SUM',\n",
       " 'AMT_CREDIT_SUM_DEBT_CREDIT_DAY_OVERDUE',\n",
       " 'AMT_CREDIT_SUM_DEBT_CNT_CREDIT_PROLONG',\n",
       " 'AMT_CREDIT_SUM_DEBT_BUREAU_LENGTH',\n",
       " 'AMT_CREDIT_SUM_DEBT_AMT_CREDIT_SUM_OVERDUE',\n",
       " 'AMT_CREDIT_SUM_DEBT_DAYS_CREDIT_UPDATE',\n",
       " 'DAYS_CREDIT_ENDDATE_AMT_CREDIT_SUM',\n",
       " 'DAYS_CREDIT_ENDDATE_CREDIT_DAY_OVERDUE',\n",
       " 'DAYS_CREDIT_ENDDATE_CNT_CREDIT_PROLONG',\n",
       " 'DAYS_CREDIT_ENDDATE_BUREAU_LENGTH',\n",
       " 'DAYS_CREDIT_ENDDATE_AMT_CREDIT_SUM_OVERDUE',\n",
       " 'DAYS_CREDIT_ENDDATE_DAYS_CREDIT_UPDATE',\n",
       " 'AMT_CREDIT_SUM_CREDIT_DAY_OVERDUE',\n",
       " 'AMT_CREDIT_SUM_CNT_CREDIT_PROLONG',\n",
       " 'AMT_CREDIT_SUM_BUREAU_LENGTH',\n",
       " 'AMT_CREDIT_SUM_AMT_CREDIT_SUM_OVERDUE',\n",
       " 'AMT_CREDIT_SUM_DAYS_CREDIT_UPDATE',\n",
       " 'CREDIT_DAY_OVERDUE_CNT_CREDIT_PROLONG',\n",
       " 'CREDIT_DAY_OVERDUE_BUREAU_LENGTH',\n",
       " 'CREDIT_DAY_OVERDUE_AMT_CREDIT_SUM_OVERDUE',\n",
       " 'CREDIT_DAY_OVERDUE_DAYS_CREDIT_UPDATE',\n",
       " 'CNT_CREDIT_PROLONG_BUREAU_LENGTH',\n",
       " 'CNT_CREDIT_PROLONG_AMT_CREDIT_SUM_OVERDUE',\n",
       " 'CNT_CREDIT_PROLONG_DAYS_CREDIT_UPDATE',\n",
       " 'BUREAU_LENGTH_AMT_CREDIT_SUM_OVERDUE',\n",
       " 'BUREAU_LENGTH_DAYS_CREDIT_UPDATE',\n",
       " 'AMT_CREDIT_SUM_OVERDUE_DAYS_CREDIT_UPDATE']"
      ]
     },
     "execution_count": 32,
     "metadata": {},
     "output_type": "execute_result"
    }
   ],
   "source": [
    "comb_col"
   ]
  },
  {
   "cell_type": "code",
   "execution_count": 33,
   "metadata": {
    "ExecuteTime": {
     "end_time": "2018-08-15T20:43:44.890729Z",
     "start_time": "2018-08-15T20:43:41.082652Z"
    }
   },
   "outputs": [],
   "source": [
    "X.to_pickle(ENV.bureau_cleaned_rnnALL.value)"
   ]
  },
  {
   "cell_type": "code",
   "execution_count": 26,
   "metadata": {
    "ExecuteTime": {
     "end_time": "2018-08-15T20:10:43.651512Z",
     "start_time": "2018-08-15T20:10:42.732449Z"
    }
   },
   "outputs": [
    {
     "data": {
      "text/plain": [
       "Mobile_operator_loan                      0.0\n",
       "AMT_CREDIT_SUM_OVERDUE                    0.0\n",
       "STATUS6                                   0.0\n",
       "STATUS5                                   0.0\n",
       "STATUS4                                   0.0\n",
       "STATUS3                                   0.0\n",
       "STATUS2                                   0.0\n",
       "STATUS1                                   0.0\n",
       "STATUS0                                   0.0\n",
       "AMT_ANNUITY                               0.0\n",
       "DAYS_CREDIT_UPDATE                        0.0\n",
       "AMT_CREDIT_SUM_LIMIT                      0.0\n",
       "Interbank_credit                          0.0\n",
       "AMT_CREDIT_SUM_DEBT                       0.0\n",
       "AMT_CREDIT_SUM                            0.0\n",
       "CNT_CREDIT_PROLONG                        0.0\n",
       "AMT_CREDIT_MAX_OVERDUE                    0.0\n",
       "DAYS_ENDDATE_FACT                         0.0\n",
       "DAYS_CREDIT_ENDDATE                       0.0\n",
       "CREDIT_DAY_OVERDUE                        0.0\n",
       "DAYS_CREDIT                               0.0\n",
       "SK_ID_BUREAU                              0.0\n",
       "STATUS7                                   0.0\n",
       "BUREAU_LENGTH                             0.0\n",
       "Closed                                    0.0\n",
       "Active                                    0.0\n",
       "Loan_for_purchase_of_shares               0.0\n",
       "Loan_for_the_purchase_of_equipment        0.0\n",
       "Real_estate_loan                          0.0\n",
       "Cash_loan_(non-earmarked)                 0.0\n",
       "Loan_for_working_capital_replenishment    0.0\n",
       "Unknown_type_of_loan                      0.0\n",
       "Another_type_of_loan                      0.0\n",
       "Loan_for_business_development             0.0\n",
       "Microloan                                 0.0\n",
       "Mortgage                                  0.0\n",
       "Car_loan                                  0.0\n",
       "Credit_card                               0.0\n",
       "Consumer_credit                           0.0\n",
       "currency_4                                0.0\n",
       "currency_3                                0.0\n",
       "currency_2                                0.0\n",
       "currency_1                                0.0\n",
       "Bad_debt                                  0.0\n",
       "Sold                                      0.0\n",
       "SK_ID_CURR                                0.0\n",
       "dtype: float64"
      ]
     },
     "execution_count": 26,
     "metadata": {},
     "output_type": "execute_result"
    }
   ],
   "source": [
    "report = scan_nan_portion(X)\n",
    "report.sort_values(ascending=False)"
   ]
  },
  {
   "cell_type": "markdown",
   "metadata": {},
   "source": [
    "# Bureau Balance"
   ]
  },
  {
   "cell_type": "code",
   "execution_count": 27,
   "metadata": {
    "ExecuteTime": {
     "end_time": "2018-08-15T20:10:43.656728Z",
     "start_time": "2018-08-15T20:10:43.653947Z"
    }
   },
   "outputs": [],
   "source": [
    "# l_encoder = LabelEncoder()\n",
    "# X_bu_b_ori['STATUS'] = l_encoder.fit_transform(X_bu_b_ori['STATUS'])\n",
    "# bub_group = X_bu_b_ori.groupby('SK_ID_BUREAU')\n",
    "\n",
    "# SK_ID_list = []\n",
    "# length = []\n",
    "# one_hots = np.zeros((X_bu_b_ori.SK_ID_BUREAU.nunique(),len(l_encoder.classes_)))\n",
    "# count = 0\n",
    "# for key,df in bub_group:\n",
    "#     SK_ID_list.append(key)\n",
    "#     length.append(len(df))\n",
    "#     one_hots[count,df.STATUS.unique()] =1\n",
    "#     count+=1\n",
    "#     if count % 10000 == 0:\n",
    "#         print(count)\n",
    "        \n",
    "# df_bu_b = pd.DataFrame({'SK_ID_BUREAU':SK_ID_list,\n",
    "#                         'STATUS0':one_hots[:,0],\n",
    "#                         'STATUS1':one_hots[:,1],\n",
    "#                         'STATUS2':one_hots[:,2],\n",
    "#                         'STATUS3':one_hots[:,3],\n",
    "#                         'STATUS4':one_hots[:,4],\n",
    "#                         'STATUS5':one_hots[:,5],\n",
    "#                         'STATUS6':one_hots[:,6],\n",
    "#                         'STATUS7':one_hots[:,7],\n",
    "#                         'BUREAU_LENGTH':length})\n",
    "# df_bu_b.to_pickle(ENV.bureau_balance_clean_rnn.value)"
   ]
  },
  {
   "cell_type": "code",
   "execution_count": null,
   "metadata": {},
   "outputs": [],
   "source": []
  }
 ],
 "metadata": {
  "kernelspec": {
   "display_name": "Python 3",
   "language": "python",
   "name": "python3"
  },
  "language_info": {
   "codemirror_mode": {
    "name": "ipython",
    "version": 3
   },
   "file_extension": ".py",
   "mimetype": "text/x-python",
   "name": "python",
   "nbconvert_exporter": "python",
   "pygments_lexer": "ipython3",
   "version": "3.6.5"
  },
  "varInspector": {
   "cols": {
    "lenName": 16,
    "lenType": 16,
    "lenVar": 40
   },
   "kernels_config": {
    "python": {
     "delete_cmd_postfix": "",
     "delete_cmd_prefix": "del ",
     "library": "var_list.py",
     "varRefreshCmd": "print(var_dic_list())"
    },
    "r": {
     "delete_cmd_postfix": ") ",
     "delete_cmd_prefix": "rm(",
     "library": "var_list.r",
     "varRefreshCmd": "cat(var_dic_list()) "
    }
   },
   "types_to_exclude": [
    "module",
    "function",
    "builtin_function_or_method",
    "instance",
    "_Feature"
   ],
   "window_display": false
  }
 },
 "nbformat": 4,
 "nbformat_minor": 2
}
