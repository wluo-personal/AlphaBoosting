{
 "cells": [
  {
   "cell_type": "code",
   "execution_count": 6,
   "metadata": {
    "ExecuteTime": {
     "end_time": "2018-08-28T14:54:36.751667Z",
     "start_time": "2018-08-28T14:54:36.745336Z"
    }
   },
   "outputs": [],
   "source": [
    "import os,sys\n",
    "import numpy as np\n",
    "import pandas as pd\n",
    "from tqdm import tqdm\n",
    "from sklearn.externals import joblib\n",
    "import matplotlib.pyplot as plt\n",
    "sys.path.append('../LIB/')\n",
    "from env import ENV\n",
    "from sklearn.preprocessing import normalize\n",
    "from sklearn.preprocessing import OneHotEncoder\n",
    "from scipy.sparse import coo_matrix, hstack\n",
    "from sklearn.preprocessing import LabelEncoder\n",
    "from sklearn.model_selection import KFold, StratifiedKFold\n",
    "from itertools import combinations"
   ]
  },
  {
   "cell_type": "code",
   "execution_count": 7,
   "metadata": {
    "ExecuteTime": {
     "end_time": "2018-08-28T14:54:41.978581Z",
     "start_time": "2018-08-28T14:54:41.093685Z"
    }
   },
   "outputs": [
    {
     "name": "stdout",
     "output_type": "stream",
     "text": [
      "train shape is: (307511, 409)\n",
      "test shape is: (48744, 408)\n"
     ]
    }
   ],
   "source": [
    "train = pd.read_pickle(ENV.lgb_train_0827_raw.value)\n",
    "print('train shape is: {}'.format(train.shape))\n",
    "test = pd.read_pickle(ENV.lgb_test_0827_raw.value)\n",
    "print('test shape is: {}'.format(test.shape))\n",
    "target = train.TARGET.values\n",
    "\n"
   ]
  },
  {
   "cell_type": "code",
   "execution_count": 8,
   "metadata": {
    "ExecuteTime": {
     "end_time": "2018-08-28T14:55:25.639911Z",
     "start_time": "2018-08-28T14:54:46.355106Z"
    }
   },
   "outputs": [],
   "source": [
    "train_ori = pd.read_csv(ENV.application_train_ori.value)\n",
    "test_ori = pd.read_csv(ENV.application_test_ori.value)\n",
    "\n",
    "train_m = train_ori[['SK_ID_CURR','AMT_CREDIT','AMT_INCOME_TOTAL','AMT_GOODS_PRICE']].copy()\n",
    "test_m = test_ori[['SK_ID_CURR','AMT_CREDIT','AMT_INCOME_TOTAL','AMT_GOODS_PRICE']].copy()\n",
    "\n",
    "train = train.merge(train_m,how='left',left_on='SK_ID_CURR',right_on='SK_ID_CURR')\n",
    "test = test.merge(test_m,how='left',left_on='SK_ID_CURR',right_on='SK_ID_CURR')\n",
    "\n",
    "X = pd.concat([train.drop('TARGET',axis=1),test])"
   ]
  },
  {
   "cell_type": "code",
   "execution_count": 12,
   "metadata": {
    "ExecuteTime": {
     "end_time": "2018-08-28T14:56:40.025438Z",
     "start_time": "2018-08-28T14:56:33.502300Z"
    }
   },
   "outputs": [
    {
     "name": "stderr",
     "output_type": "stream",
     "text": [
      "  5%|▍         | 36/790 [00:00<00:04, 173.47it/s]"
     ]
    },
    {
     "name": "stdout",
     "output_type": "stream",
     "text": [
      "AMT_CREDIT_divide_AMT_ANNUITY\n",
      "external_sources_min\n",
      "AMT_CREDIT_divide_AMT_GOODS_PRICE\n",
      "external_sources_max\n",
      "DAYS_BIRTH_x\n",
      "bureau_AMT_CREDIT_SUM_divide_AMT_CREDIT_SUM_DEBT_min\n",
      "AMT_ANNUITY_divide_DAYS_EMPLOYED\n",
      "EXT_SOURCE_2_x\n",
      "EXT_SOURCE_3_x\n",
      "NAME_EDUCATION_TYPE_CODE_GENDER_EXT_SOURCE_3_mean_abs_diff\n",
      "OCCUPATION_TYPE_DAYS_BIRTH_mean_abs_diff\n",
      "EXT_SOURCE_1_x\n",
      "NAME_FAMILY_STATUS_NAME_EDUCATION_TYPE_AMT_ANNUITY_max_diff\n",
      "NAME_EDUCATION_TYPE_CODE_GENDER_AMT_ANNUITY_max_diff\n",
      "bureau_debt_credit_ratio\n",
      "NAME_EDUCATION_TYPE_CODE_GENDER_DAYS_EMPLOYED_mean_abs_diff\n",
      "AMT_ANNUITY_divide_DAYS_LAST_PHONE_CHANGE\n",
      "bureau_agg__AMT_CREDIT_SUM_divide_DAYS_CREDIT_max_minus_min\n",
      "NAME_EDUCATION_TYPE_CODE_GENDER_REGION_POPULATION_RELATIVE_mean_abs_diff\n",
      "bureau_AMT_CREDIT_SUM_divide_DAYS_CREDIT_ENDDATE_std\n",
      "ACTIVE_DAYS_CREDIT_MAX\n",
      "ACTIVE_DAYS_CREDIT_ENDDATE_MIN\n",
      "AMT_ANNUITY_x\n",
      "AMT_INCOME_TOTAL_divide_DAYS_LAST_PHONE_CHANGE\n",
      "DAYS_EMPLOYED_x\n",
      "CNT_INSTALMENT_FUTURE_mean\n",
      "DAYS_ID_PUBLISH_x\n",
      "last_loan_installment_paid_late_in_days_std\n",
      "AMT_ANNUITY_divide_DAYS_ID_PUBLISH\n",
      "NAME_EDUCATION_TYPE_CODE_GENDER_EXT_SOURCE_1_mean_abs_diff\n",
      "bureau_DAYS_CREDIT_ENDDATE_median\n",
      "last_5by20_fraction_installment_paid_late_in_days_skew\n",
      "inst_RATE_RATE_LATE_PAYMENT_mean\n",
      "NAME_FAMILY_STATUS_CODE_GENDER_AMT_ANNUITY_max_diff\n"
     ]
    },
    {
     "name": "stderr",
     "output_type": "stream",
     "text": [
      "  9%|▉         | 71/790 [00:00<00:04, 171.69it/s]"
     ]
    },
    {
     "name": "stdout",
     "output_type": "stream",
     "text": [
      "prev_AMT_ANNUITY_divide_CNT_PAYMENT_median\n",
      "NAME_FAMILY_STATUS_CODE_GENDER_AMT_INCOME_TOTAL_max_diff\n",
      "bureau_DAYS_CREDIT_ENDDATE_max\n",
      "previous_application_fraction_of_refused_applications\n",
      "prev_HOUR_APPR_PROCESS_START_mean\n",
      "prev_DAYS_LAST_DUE_1ST_VERSION_minus_DAYS_LAST_DUE_min\n",
      "AMT_INCOME_TOTAL_divide_AMT_ANNUITY\n",
      "NAME_EDUCATION_TYPE_CODE_GENDER_EXT_SOURCE_2_mean_abs_diff\n",
      "last_10by50_fraction_installment_paid_late_in_days_kurt\n",
      "ACTIVE_DAYS_CREDIT_ENDDATE_MEAN\n",
      "bureau_AMT_CREDIT_SUM_divide_DAYS_CREDIT_min\n",
      "prev_AMT_ANNUITY_divide_DAYS_LAST_DUE_1ST_VERSION_min\n",
      "NAME_EDUCATION_TYPE_CODE_GENDER_DAYS_BIRTH_mean_abs_diff\n",
      "12_period_trend_CNT_INSTALMENT_FUTURE\n",
      "annuity_income_percentage\n",
      "CLOSED_DAYS_CREDIT_MAX\n",
      "10_period_trend_installment_paid_late_in_days\n",
      "credit_to_income_ratio\n",
      "inst_AMT_CUM_PAYMENT_sum\n",
      "NAME_EDUCATION_TYPE_CODE_GENDER_DAYS_ID_PUBLISH_mean_abs_diff\n",
      "bureau_agg__DAYS_CREDIT_normed_std\n",
      "NAME_FAMILY_STATUS_NAME_EDUCATION_TYPE_DAYS_BIRTH_mean_abs_diff\n",
      "YEARS_BEGINEXPLUATATION_AVG_x\n",
      "last_5by20_fraction_installment_paid_late_in_days_kurt\n",
      "AMT_CREDIT_divide_DAYS_BIRTH\n",
      "REFUSED_DAYS_DECISION_MAX\n",
      "AMT_INCOME_TOTAL_divide_DAYS_EMPLOYED\n",
      "prev_AMT_APPLICATION_divide_AMT_CREDIT_median\n",
      "AMT_ANNUITY_divide_DAYS_REGISTRATION\n",
      "inst_agg__DAYS_ENTRY_PAYMENT_standard_error\n",
      "PREV_APP_CREDIT_PERC_MEAN\n",
      "bureau_agg__DAYS_CREDIT_UPDATE_normed_std\n",
      "bureau_agg__AMT_CREDIT_SUM_divide_DAYS_CREDIT_normed_std\n",
      "bureau_agg__AMT_CREDIT_SUM_divide_AMT_CREDIT_SUM_DEBT_normed_std\n"
     ]
    },
    {
     "name": "stderr",
     "output_type": "stream",
     "text": [
      " 14%|█▍        | 109/790 [00:00<00:03, 176.75it/s]"
     ]
    },
    {
     "name": "stdout",
     "output_type": "stream",
     "text": [
      "ACTIVE_AMT_CREDIT_SUM_DEBT_MEAN\n",
      "NAME_FAMILY_STATUS_CODE_GENDER_DAYS_REGISTRATION_min_diff\n",
      "last_loan_installment_paid_late_in_days_sum\n",
      "6_period_trend_CNT_INSTALMENT_FUTURE\n",
      "ACTIVE_DAYS_CREDIT_UPDATE_MEAN\n",
      "inst_RATE_LATE_DAYS_SIGN_mean\n",
      "ACTIVE_DAYS_CREDIT_MEAN\n",
      "NAME_EDUCATION_TYPE_OCCUPATION_TYPE_AMT_REQ_CREDIT_BUREAU_YEAR_mean_abs_diff\n",
      "prev_AMT_ANNUITY_divide_DAYS_LAST_DUE_1ST_VERSION_max\n",
      "NAME_FAMILY_STATUS_NAME_EDUCATION_TYPE_AMT_CREDIT_max_diff\n",
      "prev_CNT_PAYMENT_mean\n",
      "PREV_APP_CREDIT_PERC_MIN\n",
      "bureau_agg__DAYS_CREDIT_ENDDATE_normed_std\n",
      "NAME_EDUCATION_TYPE_CODE_GENDER_DAYS_REGISTRATION_mean_abs_diff\n",
      "bureau_AMT_CREDIT_SUM_divide_AMT_CREDIT_SUM_OVERDUE_min\n",
      "bureau_AMT_CREDIT_SUM_divide_DAYS_CREDIT_ENDDATE_max\n",
      "PREV_APP_CREDIT_PERC_VAR\n",
      "prev_AMT_ANNUITY_divide_CNT_PAYMENT_min\n",
      "ACTIVE_AMT_CREDIT_SUM_MAX\n",
      "NAME_FAMILY_STATUS_CODE_GENDER_AMT_CREDIT_max_diff\n",
      "last_5by50_fraction_installment_paid_late_in_days_skew\n",
      "bureau_AMT_CREDIT_SUM_DEBT_divide_DAYS_CREDIT_ENDDATE_std\n",
      "last_10_installment_paid_late_in_days_kurt\n",
      "prev_AMT_ANNUITY_divide_DAYS_LAST_DUE_min\n",
      "CLOSED_DAYS_CREDIT_ENDDATE_MAX\n",
      "NAME_EDUCATION_TYPE_CODE_GENDER_DAYS_REGISTRATION_min_diff\n",
      "inst_LATE_DAYS_SIGN_area_AMT_LATE_PAYMENT_max\n",
      "bureau_AMT_CREDIT_SUM_divide_DAYS_ENDDATE_FACT_mean\n",
      "PREV_NAME_YIELD_GROUP_high_MEAN\n",
      "last_5_installment_paid_late_in_days_kurt\n",
      "NAME_FAMILY_STATUS_NAME_EDUCATION_TYPE_EXT_SOURCE_1_mean_abs_diff\n",
      "count_prev_std\n",
      "bureau_AMT_CREDIT_SUM_divide_DAYS_ENDDATE_FACT_max\n",
      "bureau_AMT_CREDIT_SUM_divide_DAYS_CREDIT_ENDDATE_sum\n",
      "AMT_CREDIT_divide_AMT_REQ_CREDIT_BUREAU_YEAR\n",
      "bureau_AMT_CREDIT_MAX_OVERDUE_divide_DAYS_CREDIT_UPDATE_mean\n"
     ]
    },
    {
     "name": "stderr",
     "output_type": "stream",
     "text": [
      " 18%|█▊        | 144/790 [00:00<00:03, 174.80it/s]"
     ]
    },
    {
     "name": "stdout",
     "output_type": "stream",
     "text": [
      "bureau_AMT_CREDIT_SUM_divide_DAYS_CREDIT_ENDDATE_min\n",
      "prev_AMT_APPLICATION_divide_AMT_CREDIT_max\n",
      "prev_AMT_ANNUITY_divide_DAYS_LAST_DUE_1ST_VERSION_mean\n",
      "NAME_FAMILY_STATUS_NAME_EDUCATION_TYPE_AMT_INCOME_TOTAL_max_diff\n",
      "NAME_EDUCATION_TYPE_CODE_GENDER_AMT_ANNUITY_mean_abs_diff\n",
      "DAYS_LAST_PHONE_CHANGE_divide_DAYS_REGISTRATION\n",
      "AMT_REQ_CREDIT_BUREAU_YEAR_divide_DAYS_LAST_PHONE_CHANGE\n",
      "CLOSED_AMT_CREDIT_SUM_MEAN\n",
      "prev_DAYS_LAST_DUE_1ST_VERSION_minus_DAYS_TERMINATION_max\n",
      "last_10_installment_paid_late_in_days_skew\n",
      "bureau_agg__DAYS_CREDIT_standard_error\n",
      "prev_AMT_APPLICATION_divide_DAYS_LAST_DUE_1ST_VERSION_minus_DAYS_TERMINATION_min\n",
      "PREV_NAME_TYPE_SUITE_Unaccompanied_MEAN\n",
      "prev_AMT_ANNUITY_divide_AMT_DOWN_PAYMENT_max\n",
      "inst_agg__DAYS_ENTRY_PAYMENT_normed_std\n",
      "bureau_DAYS_CREDIT_UPDATE_max\n",
      "inst_agg__DAYS_ENTRY_PAYMENT_two_minus_one_third\n",
      "all_installment_installment_paid_late_in_days_skew\n",
      "bureau_AMT_CREDIT_MAX_OVERDUE_divide_DAYS_CREDIT_UPDATE_min\n",
      "bureau_AMT_CREDIT_SUM_DEBT_divide_DAYS_CREDIT_ENDDATE_sum\n",
      "bureau_agg__AMT_CREDIT_SUM_DEBT_divide_DAYS_CREDIT_normed_std\n",
      "AMT_REQ_CREDIT_BUREAU_YEAR_divide_DAYS_EMPLOYED\n",
      "last_50_installment_paid_late_in_days_skew\n",
      "bureau_AMT_CREDIT_SUM_divide_DAYS_CREDIT_ENDDATE_mean\n",
      "prev_WEEKDAY_APPR_PROCESS_START_mean\n",
      "last_5by20_fraction_installment_paid_late_in_days_iqr\n",
      "bureau_AMT_CREDIT_SUM_divide_AMT_CREDIT_SUM_LIMIT_mean\n",
      "creditcard_AMT_BALANCE_divide_AMT_PAYMENT_CURRENT_median\n",
      "last_loan_installment_paid_late_in_days_max\n",
      "bureau_AMT_CREDIT_SUM_divide_DAYS_ENDDATE_FACT_min\n",
      "prev_AMT_ANNUITY_divide_DAYS_LAST_DUE_1ST_VERSION_minus_DAYS_LAST_DUE_sum\n",
      "inst_RATE_EARLY_DAYS_SIGN_min\n"
     ]
    },
    {
     "name": "stderr",
     "output_type": "stream",
     "text": [
      " 23%|██▎       | 178/790 [00:01<00:03, 172.57it/s]"
     ]
    },
    {
     "name": "stdout",
     "output_type": "stream",
     "text": [
      "bureau_DAYS_CREDIT_mean\n",
      "OWN_CAR_AGE_divide_DAYS_EMPLOYED\n",
      "APPROVED_APP_CREDIT_PERC_VAR\n",
      "bureau_AMT_CREDIT_SUM_divide_AMT_CREDIT_SUM_OVERDUE_sum\n",
      "bureau_AMT_CREDIT_SUM_divide_AMT_CREDIT_SUM_LIMIT_max\n",
      "DAYS_LAST_PHONE_CHANGE_divide_DAYS_EMPLOYED\n",
      "last_10by100_fraction_installment_paid_late_in_days_skew\n",
      "prev_AMT_APPLICATION_divide_AMT_DOWN_PAYMENT_max\n",
      "prev_DAYS_DECISION_max\n",
      "inst_RATE_LATE_DAYS_SIGN_std\n",
      "last_5by50_fraction_installment_paid_late_in_days_iqr\n",
      "last_loan_installment_paid_late_in_days_mean\n",
      "last_20_installment_paid_late_in_days_skew\n",
      "DAYS_LAST_PHONE_CHANGE_divide_DAYS_ID_PUBLISH\n",
      "bureau_DAYS_ENDDATE_FACT_std\n",
      "last_10_installment_paid_late_in_days_max\n",
      "DAYS_LAST_PHONE_CHANGE_divide_OBS_30_CNT_SOCIAL_CIRCLE\n",
      "prev_AMT_DOWN_PAYMENT_divide_DAYS_LAST_DUE_1ST_VERSION_minus_DAYS_TERMINATION_min\n",
      "OWN_CAR_AGE_divide_DAYS_REGISTRATION\n",
      "bureau_AMT_CREDIT_SUM_DEBT_divide_DAYS_CREDIT_UPDATE_std\n",
      "last_10by50_fraction_installment_paid_late_in_days_skew\n",
      "AMT_INCOME_TOTAL_divide_OBS_30_CNT_SOCIAL_CIRCLE\n",
      "bureau_AMT_CREDIT_SUM_DEBT_divide_AMT_CREDIT_SUM_LIMIT_max\n",
      "bureau_agg__DAYS_CREDIT_UPDATE_standard_error\n",
      "prev_AMT_APPLICATION_divide_CNT_PAYMENT_median\n",
      "NAME_EDUCATION_TYPE_OCCUPATION_TYPE_EXT_SOURCE_1_mean_abs_diff\n",
      "prev_AMT_ANNUITY_divide_AMT_DOWN_PAYMENT_min\n",
      "prev_AMT_ANNUITY_divide_DAYS_FIRST_DRAWING_minus_DAYS_LAST_DUE_1ST_VERSION_mean\n",
      "bureau_AMT_CREDIT_SUM_divide_DAYS_CREDIT_UPDATE_min\n",
      "bureau_AMT_CREDIT_MAX_OVERDUE_divide_DAYS_CREDIT_ENDDATE_mean\n",
      "prev_AMT_APPLICATION_divide_DAYS_FIRST_DRAWING_minus_DAYS_FIRST_DUE_mean\n",
      "creditcard_CNT_DRAWINGS_CURRENT_std\n",
      "last_5_installment_paid_late_in_days_max\n",
      "inst_DAYS_INSTALMENT_min\n"
     ]
    },
    {
     "name": "stderr",
     "output_type": "stream",
     "text": [
      "\r",
      " 25%|██▍       | 195/790 [00:01<00:03, 171.88it/s]"
     ]
    },
    {
     "name": "stdout",
     "output_type": "stream",
     "text": [
      "possible_future_install_mean\n",
      "last_20_installment_paid_late_in_days_kurt\n",
      "bureau_AMT_CREDIT_SUM_DEBT_divide_DAYS_CREDIT_ENDDATE_mean\n",
      "possible_future_install_max\n",
      "prev_AMT_ANNUITY_divide_AMT_GOODS_PRICE_max\n",
      "prev_AMT_APPLICATION_divide_DAYS_DECISION_mean\n",
      "last_20_installment_paid_late_in_days_sum\n",
      "ACTIVE_DAYS_CREDIT_VAR\n",
      "inst_RATE_EARLY_DAYS_SIGN_mean\n",
      "creditcard_CNT_DRAWINGS_ATM_CURRENT_mean\n",
      "last_20_installment_paid_late_in_days_iqr\n",
      "prev_AMT_APPLICATION_divide_DAYS_DECISION_median\n",
      "bureau_AMT_CREDIT_MAX_OVERDUE_divide_AMT_CREDIT_SUM_OVERDUE_max\n",
      "bureau_AMT_CREDIT_SUM_DEBT_divide_AMT_CREDIT_SUM_LIMIT_mean\n",
      "inst_AMT_ONTIME_PAYMENT_divide_AMT_INSTALMENT_sum\n",
      "prev_AMT_APPLICATION_divide_DAYS_FIRST_DUE_minus_DAYS_LAST_DUE_min\n",
      "bureau_AMT_CREDIT_SUM_divide_AMT_CREDIT_SUM_LIMIT_sum\n",
      "last_5by20_fraction_installment_paid_late_in_days_median\n",
      "prev_AMT_ANNUITY_divide_DAYS_LAST_DUE_1ST_VERSION_minus_DAYS_TERMINATION_min\n",
      "inst_normalslope_RATE_LATE_PAYMENT_max_std\n",
      "AMT_CREDIT_divide_OBS_30_CNT_SOCIAL_CIRCLE\n",
      "AMT_ANNUITY_divide_CNT_CHILDREN\n",
      "bureau_DAYS_CREDIT_min\n",
      "credit_card_monthly_diff\n",
      "bureau_AMT_CREDIT_SUM_DEBT_divide_DAYS_CREDIT_ENDDATE_max\n",
      "prev_AMT_ANNUITY_min\n",
      "prev_AMT_APPLICATION_divide_CNT_PAYMENT_max\n",
      "DAYS_LAST_PHONE_CHANGE_x\n",
      "prev_AMT_ANNUITY_divide_DAYS_LAST_DUE_mean\n",
      "inst_EARLY_DAYS_SIGN_sum\n",
      "AMT_REQ_CREDIT_BUREAU_YEAR_divide_DAYS_REGISTRATION\n",
      "all_installment_installment_paid_late_in_days_std\n",
      "bureau_AMT_CREDIT_SUM_DEBT_divide_DAYS_CREDIT_UPDATE_mean\n"
     ]
    },
    {
     "name": "stderr",
     "output_type": "stream",
     "text": [
      " 29%|██▉       | 231/790 [00:01<00:03, 172.00it/s]"
     ]
    },
    {
     "name": "stdout",
     "output_type": "stream",
     "text": [
      "last_50_installment_paid_late_in_days_kurt\n",
      "PREV_PRODUCT_COMBINATION_Cash X-Sell: low_MEAN\n",
      "bureau_AMT_CREDIT_SUM_divide_AMT_CREDIT_SUM_DEBT_sum\n",
      "inst_LATE_DAYS_SIGN_area_RATE_LATE_PAYMENT_max\n",
      "count_prev_mean\n",
      "inst_AMT_CUM_PAYMENT_mean\n",
      "CLOSED_DAYS_CREDIT_UPDATE_MEAN\n",
      "prev_AMT_APPLICATION_divide_CNT_PAYMENT_min\n",
      "last_50_installment_paid_late_in_days_sum\n",
      "ACTIVE_AMT_CREDIT_MAX_OVERDUE_MEAN\n",
      "PREV_NAME_CONTRACT_STATUS_Approved_MEAN\n",
      "inst_slope_RATE_LATE_PAYMENT_max_mean\n",
      "last_10by100_fraction_installment_paid_late_in_days_mean\n",
      "prev_AMT_APPLICATION_divide_DAYS_LAST_DUE_1ST_VERSION_minus_DAYS_LAST_DUE_min\n",
      "prev_AMT_ANNUITY_divide_DAYS_FIRST_DUE_min\n",
      "prev_AMT_ANNUITY_divide_AMT_CREDIT_mean\n",
      "prev_DAYS_DECISION_mean\n",
      "prev_AMT_ANNUITY_divide_DAYS_TERMINATION_min\n",
      "REFUSED_APP_CREDIT_PERC_MIN\n",
      "last_20_installment_paid_late_in_days_min\n",
      "last_loan_installment_paid_late_in_days_min\n",
      "prev_AMT_ANNUITY_divide_CNT_PAYMENT_max\n",
      "prev_AMT_DOWN_PAYMENT_divide_CNT_PAYMENT_max\n",
      "last_10_installment_paid_late_in_days_sum\n",
      "prev_AMT_ANNUITY_divide_AMT_CREDIT_max\n",
      "CLOSED_DAYS_CREDIT_ENDDATE_MEAN\n",
      "OWN_CAR_AGE_divide_DAYS_LAST_PHONE_CHANGE\n",
      "prev_AMT_APPLICATION_median\n",
      "prev_DAYS_FIRST_DUE_median\n",
      "prev_AMT_DOWN_PAYMENT_divide_RATE_DOWN_PAYMENT_max\n",
      "prev_AMT_DOWN_PAYMENT_divide_AMT_GOODS_PRICE_mean\n",
      "prev_AMT_ANNUITY_divide_AMT_DOWN_PAYMENT_sum\n",
      "inst_RATE_AMT_LATE_PAYMENT_mean\n"
     ]
    },
    {
     "name": "stderr",
     "output_type": "stream",
     "text": [
      " 34%|███▍      | 267/790 [00:01<00:03, 172.63it/s]"
     ]
    },
    {
     "name": "stdout",
     "output_type": "stream",
     "text": [
      "bureau_agg__AMT_CREDIT_SUM_DEBT_divide_DAYS_CREDIT_max_minus_min\n",
      "last_10_installment_paid_late_in_days_iqr\n",
      "PREV_NAME_YIELD_GROUP_low_action_MEAN\n",
      "prev_AMT_ANNUITY_divide_CNT_PAYMENT_mean\n",
      "count_prev_sum\n",
      "prev_AMT_APPLICATION_divide_DAYS_LAST_DUE_1ST_VERSION_minus_DAYS_TERMINATION_median\n",
      "prev_AMT_ANNUITY_divide_DAYS_FIRST_DRAWING_mean\n",
      "inst_RATE_AMT_CUM_PAYMENT_min\n",
      "prev_AMT_DOWN_PAYMENT_divide_DAYS_FIRST_DUE_minus_DAYS_LAST_DUE_min\n",
      "last_20by100_fraction_installment_paid_late_in_days_kurt\n",
      "prev_DAYS_FIRST_DRAWING_minus_DAYS_FIRST_DUE_median\n",
      "bureau_AMT_CREDIT_SUM_DEBT_divide_DAYS_CREDIT_min\n",
      "PREV_NAME_SELLER_INDUSTRY_Connectivity_MEAN\n",
      "REFUSED_DAYS_DECISION_MIN\n",
      "prev_AMT_ANNUITY_divide_DAYS_FIRST_DRAWING_minus_DAYS_LAST_DUE_median\n",
      "APARTMENTS_AVG_x\n",
      "prev_AMT_ANNUITY_divide_DAYS_DECISION_median\n",
      "inst_DAYS_INSTALMENT_max\n",
      "prev_DAYS_DECISION_sum\n",
      "last_10by50_fraction_installment_paid_late_in_days_iqr\n",
      "all_installment_installment_paid_late_in_days_sum\n",
      "prev_AMT_APPLICATION_divide_DAYS_LAST_DUE_1ST_VERSION_minus_DAYS_TERMINATION_max\n",
      "inst_DAYS_INSTALMENT_mean\n",
      "prev_DAYS_FIRST_DUE_min\n",
      "CLOSED_DAYS_CREDIT_ENDDATE_MIN\n",
      "inst_RATE_RATE_LATE_PAYMENT_min\n",
      "nan_count\n",
      "inst_AMT_CUM_PAYMENT_max\n",
      "REFUSED_AMT_APPLICATION_MIN\n",
      "prev_AMT_ANNUITY_divide_AMT_APPLICATION_max\n",
      "REFUSED_AMT_APPLICATION_MAX\n",
      "prev_AMT_ANNUITY_divide_DAYS_LAST_DUE_1ST_VERSION_minus_DAYS_TERMINATION_median\n",
      "inst_AMT_ONTIME_PAYMENT_divide_AMT_INSTALMENT_mean\n"
     ]
    },
    {
     "name": "stderr",
     "output_type": "stream",
     "text": [
      " 38%|███▊      | 304/790 [00:01<00:02, 172.69it/s]"
     ]
    },
    {
     "name": "stdout",
     "output_type": "stream",
     "text": [
      "prev_AMT_APPLICATION_divide_DAYS_LAST_DUE_1ST_VERSION_minus_DAYS_LAST_DUE_mean\n",
      "prev_AMT_APPLICATION_divide_DAYS_FIRST_DRAWING_minus_DAYS_LAST_DUE_1ST_VERSION_median\n",
      "prev_AMT_ANNUITY_divide_DAYS_FIRST_DUE_minus_DAYS_TERMINATION_min\n",
      "last_loan_installment_paid_late_mean\n",
      "bureau_DAYS_CREDIT_UPDATE_sum\n",
      "prev_AMT_ANNUITY_mean\n",
      "REFUSED_AMT_ANNUITY_MIN\n",
      "bureau_AMT_CREDIT_MAX_OVERDUE_divide_AMT_CREDIT_SUM_mean\n",
      "prev_AMT_ANNUITY_divide_DAYS_TERMINATION_mean\n",
      "prev_DAYS_LAST_DUE_sum\n",
      "inst_AMT_ONTIME_PAYMENT_divide_AMT_INSTALMENT_std\n",
      "prev_AMT_ANNUITY_divide_AMT_APPLICATION_median\n",
      "prev_AMT_APPLICATION_divide_AMT_GOODS_PRICE_median\n",
      "prev_DAYS_FIRST_DUE_max\n",
      "prev_AMT_ANNUITY_divide_DAYS_FIRST_DUE_minus_DAYS_TERMINATION_mean\n",
      "bureau_AMT_CREDIT_MAX_OVERDUE_divide_AMT_CREDIT_SUM_DEBT_max\n",
      "prev_AMT_APPLICATION_divide_DAYS_FIRST_DRAWING_minus_DAYS_LAST_DUE_max\n",
      "prev_DAYS_FIRST_DRAWING_minus_DAYS_FIRST_DUE_sum\n",
      "creditcard_CNT_DRAWINGS_ATM_CURRENT_std\n",
      "bureau_DAYS_CREDIT_UPDATE_min\n",
      "inst_normalslope_AMT_LATE_PAYMENT_max_std\n",
      "prev_AMT_ANNUITY_divide_DAYS_FIRST_DRAWING_minus_DAYS_LAST_DUE_mean\n",
      "bureau_DAYS_CREDIT_ENDDATE_min\n",
      "prev_AMT_APPLICATION_divide_AMT_GOODS_PRICE_min\n",
      "prev_AMT_APPLICATION_divide_DAYS_FIRST_DUE_minus_DAYS_LAST_DUE_median\n",
      "inst_slope_AMT_LATE_PAYMENT_max_mean\n",
      "ACTIVE_AMT_CREDIT_SUM_LIMIT_MEAN\n",
      "prev_AMT_APPLICATION_divide_AMT_GOODS_PRICE_mean\n",
      "NAME_EDUCATION_TYPE_CODE_GENDER_OWN_CAR_AGE_mean_abs_diff\n",
      "prev_AMT_ANNUITY_divide_DAYS_FIRST_DUE_max\n",
      "bureau_AMT_CREDIT_MAX_OVERDUE_divide_AMT_CREDIT_SUM_max\n",
      "inst_LATE_DAYS_SIGN_area_RATE_LATE_PAYMENT_mean\n",
      "inst_AMT_ONTIME_PAYMENT_divide_AMT_INSTALMENT_max\n"
     ]
    },
    {
     "name": "stderr",
     "output_type": "stream",
     "text": [
      " 44%|████▍     | 346/790 [00:01<00:02, 176.15it/s]"
     ]
    },
    {
     "name": "stdout",
     "output_type": "stream",
     "text": [
      "prev_AMT_DOWN_PAYMENT_divide_AMT_GOODS_PRICE_max\n",
      "PREV_CHANNEL_TYPE_Credit and cash offices_MEAN\n",
      "prev_AMT_ANNUITY_divide_DAYS_TERMINATION_max\n",
      "creditcard_AMT_CREDIT_LIMIT_ACTUAL_divide_AMT_DRAWINGS_CURRENT_mean\n",
      "prev_DAYS_FIRST_DRAWING_minus_DAYS_LAST_DUE_min\n",
      "last_50_NUM_INSTALMENT_VERSION_sum\n",
      "bureau_AMT_CREDIT_SUM_LIMIT_divide_DAYS_CREDIT_UPDATE_mean\n",
      "OWN_CAR_AGE_divide_DAYS_ID_PUBLISH\n",
      "prev_DAYS_FIRST_DRAWING_minus_DAYS_LAST_DUE_max\n",
      "last_5by20_fraction_NUM_INSTALMENT_VERSION_skew\n",
      "prev_DAYS_FIRST_DUE_minus_DAYS_LAST_DUE_mean\n",
      "inst_RATE_AMT_LATE_PAYMENT_min\n",
      "last_5by20_fraction_installment_paid_over_amount_kurt\n",
      "prev_DAYS_FIRST_DRAWING_minus_DAYS_FIRST_DUE_min\n",
      "prev_AMT_DOWN_PAYMENT_max\n",
      "last_20_installment_paid_late_in_days_max\n",
      "inst_slope_AMT_LATE_PAYMENT_max_min\n",
      "creditcard_AMT_BALANCE_divide_AMT_PAYMENT_TOTAL_CURRENT_median\n",
      "prev_AMT_ANNUITY_max\n",
      "APPROVED_AMT_APPLICATION_MEAN\n",
      "prev_DAYS_FIRST_DUE_minus_DAYS_LAST_DUE_min\n",
      "bureau_credit_enddate_percentage\n",
      "prev_AMT_ANNUITY_divide_DAYS_LAST_DUE_max\n",
      "prev_AMT_ANNUITY_divide_DAYS_FIRST_DRAWING_max\n",
      "APPROVED_AMT_APPLICATION_MAX\n",
      "AMT_INCOME_TOTAL_divide_OWN_CAR_AGE\n",
      "prev_CNT_PAYMENT_sum\n",
      "last_20by100_fraction_installment_paid_late_in_days_mean\n",
      "inst_normalslope_AMT_LATE_PAYMENT_mean_sum\n",
      "bureau_AMT_CREDIT_SUM_LIMIT_divide_DAYS_CREDIT_UPDATE_min\n",
      "creditcard_AMT_PAYMENT_CURRENT_divide_CNT_DRAWINGS_ATM_CURRENT_median\n",
      "prev_AMT_DOWN_PAYMENT_divide_DAYS_FIRST_DRAWING_minus_DAYS_LAST_DUE_max\n",
      "creditcard_AMT_BALANCE_divide_AMT_PAYMENT_CURRENT_mean\n",
      "prev_AMT_ANNUITY_sum\n",
      "inst_slope_RATE_LATE_PAYMENT_max_max\n",
      "inst_normalslope_RATE_LATE_PAYMENT_max_max\n",
      "last_10by100_fraction_installment_paid_late_in_days_sum\n",
      "last_20by100_fraction_installment_paid_late_in_days_iqr\n"
     ]
    },
    {
     "name": "stderr",
     "output_type": "stream",
     "text": [
      " 50%|█████     | 395/790 [00:02<00:02, 182.25it/s]"
     ]
    },
    {
     "name": "stdout",
     "output_type": "stream",
     "text": [
      "inst_RATE_LATE_DAYS_SIGN_sum\n",
      "DEF_30_CNT_SOCIAL_CIRCLE_divide_REGION_POPULATION_RELATIVE\n",
      "creditcard_AMT_DRAWINGS_CURRENT_divide_CNT_DRAWINGS_POS_CURRENT_std\n",
      "last_30_SK_DPD_DEF_skew\n",
      "prev_DAYS_LAST_DUE_1ST_VERSION_minus_DAYS_LAST_DUE_mean\n",
      "prev_AMT_DOWN_PAYMENT_divide_DAYS_FIRST_DRAWING_minus_DAYS_FIRST_DUE_max\n",
      "CC_CNT_DRAWINGS_CURRENT_VAR\n",
      "creditcard_AMT_DRAWINGS_CURRENT_divide_AMT_PAYMENT_TOTAL_CURRENT_mean\n",
      "creditcard_AMT_DRAWINGS_CURRENT_divide_MONTHS_BALANCE_sum\n",
      "AMT_REQ_CREDIT_BUREAU_QRT_divide_DAYS_LAST_PHONE_CHANGE\n",
      "last_6_SK_DPD_DEF_std\n",
      "CC_AMT_DRAWINGS_ATM_CURRENT_MEAN\n",
      "prev_AMT_DOWN_PAYMENT_divide_DAYS_FIRST_DRAWING_minus_DAYS_LAST_DUE_1ST_VERSION_max\n",
      "creditcard_AMT_PAYMENT_CURRENT_divide_AMT_RECIVABLE_mean\n",
      "creditcard_AMT_BALANCE_divide_CNT_DRAWINGS_POS_CURRENT_std\n",
      "AMT_REQ_CREDIT_BUREAU_QRT_divide_DAYS_REGISTRATION\n",
      "inst_agg__AMT_INSTALMENT_minus_AMT_PAYMENT_trimmed_mean_10_pct\n",
      "creditcard_CNT_DRAWINGS_CURRENT_sum\n",
      "prev_AMT_APPLICATION_max\n",
      "CC_AMT_DRAWINGS_ATM_CURRENT_VAR\n",
      "bureau_AMT_CREDIT_SUM_OVERDUE_divide_DAYS_CREDIT_min\n",
      "Wei_CNT_installment_per_version_STD\n",
      "Wei_Remaining_AMT_Payment_TOTAL\n",
      "Wei_CNT_installment_per_version_LAST\n",
      "Wei_Remaining_AMT_Payment_LAST\n",
      "Wei_Remaning_CNT_Payment_TOTAL\n",
      "Wei_Remaing_Payment_Ratio_CURR\n",
      "Wei_TOTAl_NEEDPAY_INCOME_RATIO\n",
      "BU_CREDIT_SUM\n",
      "BU_AMT_CREDIT_SUM_DEBT\n",
      "BU_AMT_CREDIT_MAX_OVERDUE\n",
      "APR_cashloan_riskscore_mean\n",
      "Wei_EXT_SOURCE_1_x==DEVIDE==AMT_CREDIT\n",
      "Wei_EXT_SOURCE_2_x==DEVIDE==AMT_CREDIT\n",
      "Wei_EXT_SOURCE_3_x==DEVIDE==AMT_CREDIT\n",
      "Wei_external_sources_max==DEVIDE==AMT_CREDIT\n",
      "AMT_CREDIT\n",
      "AMT_INCOME_TOTAL\n",
      "AMT_GOODS_PRICE\n"
     ]
    },
    {
     "name": "stderr",
     "output_type": "stream",
     "text": [
      " 55%|█████▌    | 438/790 [00:02<00:01, 178.85it/s]"
     ]
    },
    {
     "name": "stdout",
     "output_type": "stream",
     "text": [
      "Wei_AMT_CREDIT_divide_AMT_ANNUITY==DEVIDE==AMT_INCOME_TOTAL\n",
      "Wei_external_sources_min==DEVIDE==AMT_INCOME_TOTAL\n",
      "Wei_AMT_CREDIT_divide_AMT_GOODS_PRICE==DEVIDE==AMT_INCOME_TOTAL\n",
      "Wei_external_sources_max==DEVIDE==AMT_INCOME_TOTAL\n",
      "Wei_DAYS_BIRTH_x==DEVIDE==AMT_INCOME_TOTAL\n",
      "Wei_bureau_AMT_CREDIT_SUM_divide_AMT_CREDIT_SUM_DEBT_min==DEVIDE==AMT_INCOME_TOTAL\n",
      "Wei_AMT_ANNUITY_divide_DAYS_EMPLOYED==DEVIDE==AMT_INCOME_TOTAL\n",
      "Wei_EXT_SOURCE_2_x==DEVIDE==AMT_INCOME_TOTAL\n",
      "Wei_EXT_SOURCE_3_x==DEVIDE==AMT_INCOME_TOTAL\n",
      "Wei_NAME_EDUCATION_TYPE_CODE_GENDER_EXT_SOURCE_3_mean_abs_diff==DEVIDE==AMT_INCOME_TOTAL\n",
      "Wei_OCCUPATION_TYPE_DAYS_BIRTH_mean_abs_diff==DEVIDE==AMT_INCOME_TOTAL\n",
      "Wei_EXT_SOURCE_1_x==DEVIDE==AMT_INCOME_TOTAL\n",
      "Wei_NAME_FAMILY_STATUS_NAME_EDUCATION_TYPE_AMT_ANNUITY_max_diff==DEVIDE==AMT_INCOME_TOTAL\n",
      "Wei_NAME_EDUCATION_TYPE_CODE_GENDER_AMT_ANNUITY_max_diff==DEVIDE==AMT_INCOME_TOTAL\n",
      "Wei_bureau_debt_credit_ratio==DEVIDE==AMT_INCOME_TOTAL\n",
      "Wei_NAME_EDUCATION_TYPE_CODE_GENDER_DAYS_EMPLOYED_mean_abs_diff==DEVIDE==AMT_INCOME_TOTAL\n",
      "Wei_AMT_ANNUITY_divide_DAYS_LAST_PHONE_CHANGE==DEVIDE==AMT_INCOME_TOTAL\n",
      "Wei_bureau_agg__AMT_CREDIT_SUM_divide_DAYS_CREDIT_max_minus_min==DEVIDE==AMT_INCOME_TOTAL\n",
      "Wei_NAME_EDUCATION_TYPE_CODE_GENDER_REGION_POPULATION_RELATIVE_mean_abs_diff==DEVIDE==AMT_INCOME_TOTAL\n",
      "Wei_bureau_AMT_CREDIT_SUM_divide_DAYS_CREDIT_ENDDATE_std==DEVIDE==AMT_INCOME_TOTAL\n",
      "Wei_ACTIVE_DAYS_CREDIT_MAX==DEVIDE==AMT_INCOME_TOTAL\n",
      "Wei_ACTIVE_DAYS_CREDIT_ENDDATE_MIN==DEVIDE==AMT_INCOME_TOTAL\n",
      "Wei_AMT_ANNUITY_x==DEVIDE==AMT_INCOME_TOTAL\n",
      "Wei_AMT_INCOME_TOTAL_divide_DAYS_LAST_PHONE_CHANGE==DEVIDE==AMT_INCOME_TOTAL\n",
      "Wei_DAYS_EMPLOYED_x==DEVIDE==AMT_INCOME_TOTAL\n",
      "Wei_CNT_INSTALMENT_FUTURE_mean==DEVIDE==AMT_INCOME_TOTAL\n",
      "Wei_DAYS_ID_PUBLISH_x==DEVIDE==AMT_INCOME_TOTAL\n",
      "Wei_last_loan_installment_paid_late_in_days_std==DEVIDE==AMT_INCOME_TOTAL\n"
     ]
    },
    {
     "name": "stderr",
     "output_type": "stream",
     "text": [
      "\r",
      " 58%|█████▊    | 457/790 [00:02<00:01, 177.35it/s]"
     ]
    },
    {
     "name": "stdout",
     "output_type": "stream",
     "text": [
      "Wei_AMT_ANNUITY_divide_DAYS_ID_PUBLISH==DEVIDE==AMT_INCOME_TOTAL\n",
      "Wei_NAME_EDUCATION_TYPE_CODE_GENDER_EXT_SOURCE_1_mean_abs_diff==DEVIDE==AMT_INCOME_TOTAL\n",
      "Wei_bureau_DAYS_CREDIT_ENDDATE_median==DEVIDE==AMT_INCOME_TOTAL\n",
      "Wei_last_5by20_fraction_installment_paid_late_in_days_skew==DEVIDE==AMT_INCOME_TOTAL\n",
      "Wei_inst_RATE_RATE_LATE_PAYMENT_mean==DEVIDE==AMT_INCOME_TOTAL\n",
      "Wei_NAME_FAMILY_STATUS_CODE_GENDER_AMT_ANNUITY_max_diff==DEVIDE==AMT_INCOME_TOTAL\n",
      "Wei_prev_AMT_ANNUITY_divide_CNT_PAYMENT_median==DEVIDE==AMT_INCOME_TOTAL\n",
      "Wei_NAME_FAMILY_STATUS_CODE_GENDER_AMT_INCOME_TOTAL_max_diff==DEVIDE==AMT_INCOME_TOTAL\n",
      "Wei_bureau_DAYS_CREDIT_ENDDATE_max==DEVIDE==AMT_INCOME_TOTAL\n",
      "Wei_previous_application_fraction_of_refused_applications==DEVIDE==AMT_INCOME_TOTAL\n",
      "Wei_prev_HOUR_APPR_PROCESS_START_mean==DEVIDE==AMT_INCOME_TOTAL\n",
      "Wei_prev_DAYS_LAST_DUE_1ST_VERSION_minus_DAYS_LAST_DUE_min==DEVIDE==AMT_INCOME_TOTAL\n",
      "Wei_AMT_INCOME_TOTAL_divide_AMT_ANNUITY==DEVIDE==AMT_INCOME_TOTAL\n",
      "Wei_NAME_EDUCATION_TYPE_CODE_GENDER_EXT_SOURCE_2_mean_abs_diff==DEVIDE==AMT_INCOME_TOTAL\n",
      "Wei_last_10by50_fraction_installment_paid_late_in_days_kurt==DEVIDE==AMT_INCOME_TOTAL\n",
      "Wei_ACTIVE_DAYS_CREDIT_ENDDATE_MEAN==DEVIDE==AMT_INCOME_TOTAL\n",
      "Wei_bureau_AMT_CREDIT_SUM_divide_DAYS_CREDIT_min==DEVIDE==AMT_INCOME_TOTAL\n",
      "Wei_prev_AMT_ANNUITY_divide_DAYS_LAST_DUE_1ST_VERSION_min==DEVIDE==AMT_INCOME_TOTAL\n",
      "Wei_NAME_EDUCATION_TYPE_CODE_GENDER_DAYS_BIRTH_mean_abs_diff==DEVIDE==AMT_INCOME_TOTAL\n",
      "Wei_12_period_trend_CNT_INSTALMENT_FUTURE==DEVIDE==AMT_INCOME_TOTAL\n",
      "Wei_annuity_income_percentage==DEVIDE==AMT_INCOME_TOTAL\n",
      "Wei_CLOSED_DAYS_CREDIT_MAX==DEVIDE==AMT_INCOME_TOTAL\n",
      "Wei_10_period_trend_installment_paid_late_in_days==DEVIDE==AMT_INCOME_TOTAL\n",
      "Wei_credit_to_income_ratio==DEVIDE==AMT_INCOME_TOTAL\n",
      "Wei_inst_AMT_CUM_PAYMENT_sum==DEVIDE==AMT_INCOME_TOTAL\n",
      "Wei_NAME_EDUCATION_TYPE_CODE_GENDER_DAYS_ID_PUBLISH_mean_abs_diff==DEVIDE==AMT_INCOME_TOTAL\n",
      "Wei_bureau_agg__DAYS_CREDIT_normed_std==DEVIDE==AMT_INCOME_TOTAL\n",
      "Wei_NAME_FAMILY_STATUS_NAME_EDUCATION_TYPE_DAYS_BIRTH_mean_abs_diff==DEVIDE==AMT_INCOME_TOTAL\n",
      "Wei_YEARS_BEGINEXPLUATATION_AVG_x==DEVIDE==AMT_INCOME_TOTAL\n"
     ]
    },
    {
     "name": "stderr",
     "output_type": "stream",
     "text": [
      " 62%|██████▏   | 491/790 [00:03<00:01, 153.40it/s]"
     ]
    },
    {
     "name": "stdout",
     "output_type": "stream",
     "text": [
      "Wei_last_5by20_fraction_installment_paid_late_in_days_kurt==DEVIDE==AMT_INCOME_TOTAL\n",
      "Wei_AMT_CREDIT_divide_DAYS_BIRTH==DEVIDE==AMT_INCOME_TOTAL\n",
      "Wei_REFUSED_DAYS_DECISION_MAX==DEVIDE==AMT_INCOME_TOTAL\n",
      "Wei_AMT_INCOME_TOTAL_divide_DAYS_EMPLOYED==DEVIDE==AMT_INCOME_TOTAL\n",
      "Wei_prev_AMT_APPLICATION_divide_AMT_CREDIT_median==DEVIDE==AMT_INCOME_TOTAL\n",
      "Wei_AMT_ANNUITY_divide_DAYS_REGISTRATION==DEVIDE==AMT_INCOME_TOTAL\n",
      "Wei_inst_agg__DAYS_ENTRY_PAYMENT_standard_error==DEVIDE==AMT_INCOME_TOTAL\n",
      "Wei_PREV_APP_CREDIT_PERC_MEAN==DEVIDE==AMT_INCOME_TOTAL\n",
      "Wei_bureau_agg__DAYS_CREDIT_UPDATE_normed_std==DEVIDE==AMT_INCOME_TOTAL\n",
      "Wei_bureau_agg__AMT_CREDIT_SUM_divide_DAYS_CREDIT_normed_std==DEVIDE==AMT_INCOME_TOTAL\n",
      "Wei_bureau_agg__AMT_CREDIT_SUM_divide_AMT_CREDIT_SUM_DEBT_normed_std==DEVIDE==AMT_INCOME_TOTAL\n",
      "Wei_ACTIVE_AMT_CREDIT_SUM_DEBT_MEAN==DEVIDE==AMT_INCOME_TOTAL\n",
      "Wei_NAME_FAMILY_STATUS_CODE_GENDER_DAYS_REGISTRATION_min_diff==DEVIDE==AMT_INCOME_TOTAL\n",
      "Wei_last_loan_installment_paid_late_in_days_sum==DEVIDE==AMT_INCOME_TOTAL\n",
      "Wei_6_period_trend_CNT_INSTALMENT_FUTURE==DEVIDE==AMT_INCOME_TOTAL\n",
      "Wei_ACTIVE_DAYS_CREDIT_UPDATE_MEAN==DEVIDE==AMT_INCOME_TOTAL\n",
      "Wei_inst_RATE_LATE_DAYS_SIGN_mean==DEVIDE==AMT_INCOME_TOTAL\n",
      "Wei_ACTIVE_DAYS_CREDIT_MEAN==DEVIDE==AMT_INCOME_TOTAL\n",
      "Wei_NAME_EDUCATION_TYPE_OCCUPATION_TYPE_AMT_REQ_CREDIT_BUREAU_YEAR_mean_abs_diff==DEVIDE==AMT_INCOME_TOTAL\n",
      "Wei_prev_AMT_ANNUITY_divide_DAYS_LAST_DUE_1ST_VERSION_max==DEVIDE==AMT_INCOME_TOTAL\n",
      "Wei_NAME_FAMILY_STATUS_NAME_EDUCATION_TYPE_AMT_CREDIT_max_diff==DEVIDE==AMT_INCOME_TOTAL\n",
      "Wei_prev_CNT_PAYMENT_mean==DEVIDE==AMT_INCOME_TOTAL\n",
      "Wei_PREV_APP_CREDIT_PERC_MIN==DEVIDE==AMT_INCOME_TOTAL\n",
      "Wei_bureau_agg__DAYS_CREDIT_ENDDATE_normed_std==DEVIDE==AMT_INCOME_TOTAL\n",
      "Wei_NAME_EDUCATION_TYPE_CODE_GENDER_DAYS_REGISTRATION_mean_abs_diff==DEVIDE==AMT_INCOME_TOTAL\n",
      "Wei_bureau_AMT_CREDIT_SUM_divide_AMT_CREDIT_SUM_OVERDUE_min==DEVIDE==AMT_INCOME_TOTAL\n",
      "Wei_bureau_AMT_CREDIT_SUM_divide_DAYS_CREDIT_ENDDATE_max==DEVIDE==AMT_INCOME_TOTAL\n",
      "Wei_PREV_APP_CREDIT_PERC_VAR==DEVIDE==AMT_INCOME_TOTAL\n",
      "Wei_prev_AMT_ANNUITY_divide_CNT_PAYMENT_min==DEVIDE==AMT_INCOME_TOTAL\n",
      "Wei_ACTIVE_AMT_CREDIT_SUM_MAX==DEVIDE==AMT_INCOME_TOTAL\n"
     ]
    },
    {
     "name": "stderr",
     "output_type": "stream",
     "text": [
      " 66%|██████▌   | 521/790 [00:03<00:01, 152.87it/s]"
     ]
    },
    {
     "name": "stdout",
     "output_type": "stream",
     "text": [
      "Wei_NAME_FAMILY_STATUS_CODE_GENDER_AMT_CREDIT_max_diff==DEVIDE==AMT_INCOME_TOTAL\n",
      "Wei_last_5by50_fraction_installment_paid_late_in_days_skew==DEVIDE==AMT_INCOME_TOTAL\n",
      "Wei_bureau_AMT_CREDIT_SUM_DEBT_divide_DAYS_CREDIT_ENDDATE_std==DEVIDE==AMT_INCOME_TOTAL\n",
      "Wei_last_10_installment_paid_late_in_days_kurt==DEVIDE==AMT_INCOME_TOTAL\n",
      "Wei_prev_AMT_ANNUITY_divide_DAYS_LAST_DUE_min==DEVIDE==AMT_INCOME_TOTAL\n",
      "Wei_CLOSED_DAYS_CREDIT_ENDDATE_MAX==DEVIDE==AMT_INCOME_TOTAL\n",
      "Wei_NAME_EDUCATION_TYPE_CODE_GENDER_DAYS_REGISTRATION_min_diff==DEVIDE==AMT_INCOME_TOTAL\n",
      "Wei_inst_LATE_DAYS_SIGN_area_AMT_LATE_PAYMENT_max==DEVIDE==AMT_INCOME_TOTAL\n",
      "Wei_bureau_AMT_CREDIT_SUM_divide_DAYS_ENDDATE_FACT_mean==DEVIDE==AMT_INCOME_TOTAL\n",
      "Wei_PREV_NAME_YIELD_GROUP_high_MEAN==DEVIDE==AMT_INCOME_TOTAL\n",
      "Wei_last_5_installment_paid_late_in_days_kurt==DEVIDE==AMT_INCOME_TOTAL\n",
      "Wei_NAME_FAMILY_STATUS_NAME_EDUCATION_TYPE_EXT_SOURCE_1_mean_abs_diff==DEVIDE==AMT_INCOME_TOTAL\n",
      "Wei_count_prev_std==DEVIDE==AMT_INCOME_TOTAL\n",
      "Wei_bureau_AMT_CREDIT_SUM_divide_DAYS_ENDDATE_FACT_max==DEVIDE==AMT_INCOME_TOTAL\n",
      "Wei_bureau_AMT_CREDIT_SUM_divide_DAYS_CREDIT_ENDDATE_sum==DEVIDE==AMT_INCOME_TOTAL\n",
      "Wei_AMT_CREDIT_divide_AMT_REQ_CREDIT_BUREAU_YEAR==DEVIDE==AMT_INCOME_TOTAL\n",
      "Wei_bureau_AMT_CREDIT_MAX_OVERDUE_divide_DAYS_CREDIT_UPDATE_mean==DEVIDE==AMT_INCOME_TOTAL\n",
      "Wei_bureau_AMT_CREDIT_SUM_divide_DAYS_CREDIT_ENDDATE_min==DEVIDE==AMT_INCOME_TOTAL\n",
      "Wei_prev_AMT_APPLICATION_divide_AMT_CREDIT_max==DEVIDE==AMT_INCOME_TOTAL\n",
      "Wei_prev_AMT_ANNUITY_divide_DAYS_LAST_DUE_1ST_VERSION_mean==DEVIDE==AMT_INCOME_TOTAL\n",
      "Wei_NAME_FAMILY_STATUS_NAME_EDUCATION_TYPE_AMT_INCOME_TOTAL_max_diff==DEVIDE==AMT_INCOME_TOTAL\n",
      "Wei_NAME_EDUCATION_TYPE_CODE_GENDER_AMT_ANNUITY_mean_abs_diff==DEVIDE==AMT_INCOME_TOTAL\n",
      "Wei_DAYS_LAST_PHONE_CHANGE_divide_DAYS_REGISTRATION==DEVIDE==AMT_INCOME_TOTAL\n",
      "Wei_AMT_REQ_CREDIT_BUREAU_YEAR_divide_DAYS_LAST_PHONE_CHANGE==DEVIDE==AMT_INCOME_TOTAL\n",
      "Wei_CLOSED_AMT_CREDIT_SUM_MEAN==DEVIDE==AMT_INCOME_TOTAL\n",
      "Wei_prev_DAYS_LAST_DUE_1ST_VERSION_minus_DAYS_TERMINATION_max==DEVIDE==AMT_INCOME_TOTAL\n",
      "Wei_last_10_installment_paid_late_in_days_skew==DEVIDE==AMT_INCOME_TOTAL\n",
      "Wei_bureau_agg__DAYS_CREDIT_standard_error==DEVIDE==AMT_INCOME_TOTAL\n",
      "Wei_prev_AMT_APPLICATION_divide_DAYS_LAST_DUE_1ST_VERSION_minus_DAYS_TERMINATION_min==DEVIDE==AMT_INCOME_TOTAL\n",
      "Wei_PREV_NAME_TYPE_SUITE_Unaccompanied_MEAN==DEVIDE==AMT_INCOME_TOTAL\n"
     ]
    },
    {
     "name": "stderr",
     "output_type": "stream",
     "text": [
      " 70%|██████▉   | 552/790 [00:03<00:01, 152.84it/s]"
     ]
    },
    {
     "name": "stdout",
     "output_type": "stream",
     "text": [
      "Wei_prev_AMT_ANNUITY_divide_AMT_DOWN_PAYMENT_max==DEVIDE==AMT_INCOME_TOTAL\n",
      "Wei_inst_agg__DAYS_ENTRY_PAYMENT_normed_std==DEVIDE==AMT_INCOME_TOTAL\n",
      "Wei_bureau_DAYS_CREDIT_UPDATE_max==DEVIDE==AMT_INCOME_TOTAL\n",
      "Wei_inst_agg__DAYS_ENTRY_PAYMENT_two_minus_one_third==DEVIDE==AMT_INCOME_TOTAL\n",
      "Wei_all_installment_installment_paid_late_in_days_skew==DEVIDE==AMT_INCOME_TOTAL\n",
      "Wei_bureau_AMT_CREDIT_MAX_OVERDUE_divide_DAYS_CREDIT_UPDATE_min==DEVIDE==AMT_INCOME_TOTAL\n",
      "Wei_bureau_AMT_CREDIT_SUM_DEBT_divide_DAYS_CREDIT_ENDDATE_sum==DEVIDE==AMT_INCOME_TOTAL\n",
      "Wei_bureau_agg__AMT_CREDIT_SUM_DEBT_divide_DAYS_CREDIT_normed_std==DEVIDE==AMT_INCOME_TOTAL\n",
      "Wei_AMT_REQ_CREDIT_BUREAU_YEAR_divide_DAYS_EMPLOYED==DEVIDE==AMT_INCOME_TOTAL\n",
      "Wei_last_50_installment_paid_late_in_days_skew==DEVIDE==AMT_INCOME_TOTAL\n",
      "Wei_bureau_AMT_CREDIT_SUM_divide_DAYS_CREDIT_ENDDATE_mean==DEVIDE==AMT_INCOME_TOTAL\n",
      "Wei_prev_WEEKDAY_APPR_PROCESS_START_mean==DEVIDE==AMT_INCOME_TOTAL\n",
      "Wei_last_5by20_fraction_installment_paid_late_in_days_iqr==DEVIDE==AMT_INCOME_TOTAL\n",
      "Wei_bureau_AMT_CREDIT_SUM_divide_AMT_CREDIT_SUM_LIMIT_mean==DEVIDE==AMT_INCOME_TOTAL\n",
      "Wei_creditcard_AMT_BALANCE_divide_AMT_PAYMENT_CURRENT_median==DEVIDE==AMT_INCOME_TOTAL\n",
      "Wei_last_loan_installment_paid_late_in_days_max==DEVIDE==AMT_INCOME_TOTAL\n",
      "Wei_bureau_AMT_CREDIT_SUM_divide_DAYS_ENDDATE_FACT_min==DEVIDE==AMT_INCOME_TOTAL\n",
      "Wei_prev_AMT_ANNUITY_divide_DAYS_LAST_DUE_1ST_VERSION_minus_DAYS_LAST_DUE_sum==DEVIDE==AMT_INCOME_TOTAL\n",
      "Wei_inst_RATE_EARLY_DAYS_SIGN_min==DEVIDE==AMT_INCOME_TOTAL\n",
      "Wei_bureau_DAYS_CREDIT_mean==DEVIDE==AMT_INCOME_TOTAL\n",
      "Wei_OWN_CAR_AGE_divide_DAYS_EMPLOYED==DEVIDE==AMT_INCOME_TOTAL\n",
      "Wei_APPROVED_APP_CREDIT_PERC_VAR==DEVIDE==AMT_INCOME_TOTAL\n",
      "Wei_bureau_AMT_CREDIT_SUM_divide_AMT_CREDIT_SUM_OVERDUE_sum==DEVIDE==AMT_INCOME_TOTAL\n",
      "Wei_bureau_AMT_CREDIT_SUM_divide_AMT_CREDIT_SUM_LIMIT_max==DEVIDE==AMT_INCOME_TOTAL\n",
      "Wei_DAYS_LAST_PHONE_CHANGE_divide_DAYS_EMPLOYED==DEVIDE==AMT_INCOME_TOTAL\n",
      "Wei_last_10by100_fraction_installment_paid_late_in_days_skew==DEVIDE==AMT_INCOME_TOTAL\n",
      "Wei_prev_AMT_APPLICATION_divide_AMT_DOWN_PAYMENT_max==DEVIDE==AMT_INCOME_TOTAL\n"
     ]
    },
    {
     "name": "stderr",
     "output_type": "stream",
     "text": [
      " 74%|███████▍  | 584/790 [00:04<00:01, 137.40it/s]"
     ]
    },
    {
     "name": "stdout",
     "output_type": "stream",
     "text": [
      "Wei_prev_DAYS_DECISION_max==DEVIDE==AMT_INCOME_TOTAL\n",
      "Wei_inst_RATE_LATE_DAYS_SIGN_std==DEVIDE==AMT_INCOME_TOTAL\n",
      "Wei_last_5by50_fraction_installment_paid_late_in_days_iqr==DEVIDE==AMT_INCOME_TOTAL\n",
      "Wei_last_loan_installment_paid_late_in_days_mean==DEVIDE==AMT_INCOME_TOTAL\n",
      "Wei_last_20_installment_paid_late_in_days_skew==DEVIDE==AMT_INCOME_TOTAL\n",
      "Wei_DAYS_LAST_PHONE_CHANGE_divide_DAYS_ID_PUBLISH==DEVIDE==AMT_INCOME_TOTAL\n",
      "Wei_bureau_DAYS_ENDDATE_FACT_std==DEVIDE==AMT_INCOME_TOTAL\n",
      "Wei_last_10_installment_paid_late_in_days_max==DEVIDE==AMT_INCOME_TOTAL\n",
      "Wei_DAYS_LAST_PHONE_CHANGE_divide_OBS_30_CNT_SOCIAL_CIRCLE==DEVIDE==AMT_INCOME_TOTAL\n",
      "Wei_prev_AMT_DOWN_PAYMENT_divide_DAYS_LAST_DUE_1ST_VERSION_minus_DAYS_TERMINATION_min==DEVIDE==AMT_INCOME_TOTAL\n",
      "Wei_OWN_CAR_AGE_divide_DAYS_REGISTRATION==DEVIDE==AMT_INCOME_TOTAL\n",
      "Wei_bureau_AMT_CREDIT_SUM_DEBT_divide_DAYS_CREDIT_UPDATE_std==DEVIDE==AMT_INCOME_TOTAL\n",
      "Wei_last_10by50_fraction_installment_paid_late_in_days_skew==DEVIDE==AMT_INCOME_TOTAL\n",
      "Wei_bureau_AMT_CREDIT_SUM_DEBT_divide_AMT_CREDIT_SUM_LIMIT_max==DEVIDE==AMT_INCOME_TOTAL\n",
      "Wei_bureau_agg__DAYS_CREDIT_UPDATE_standard_error==DEVIDE==AMT_INCOME_TOTAL\n",
      "Wei_prev_AMT_APPLICATION_divide_CNT_PAYMENT_median==DEVIDE==AMT_INCOME_TOTAL\n",
      "Wei_NAME_EDUCATION_TYPE_OCCUPATION_TYPE_EXT_SOURCE_1_mean_abs_diff==DEVIDE==AMT_INCOME_TOTAL\n",
      "Wei_prev_AMT_ANNUITY_divide_AMT_DOWN_PAYMENT_min==DEVIDE==AMT_INCOME_TOTAL\n",
      "Wei_prev_AMT_ANNUITY_divide_DAYS_FIRST_DRAWING_minus_DAYS_LAST_DUE_1ST_VERSION_mean==DEVIDE==AMT_INCOME_TOTAL\n",
      "Wei_bureau_AMT_CREDIT_SUM_divide_DAYS_CREDIT_UPDATE_min==DEVIDE==AMT_INCOME_TOTAL\n",
      "Wei_bureau_AMT_CREDIT_MAX_OVERDUE_divide_DAYS_CREDIT_ENDDATE_mean==DEVIDE==AMT_INCOME_TOTAL\n",
      "Wei_prev_AMT_APPLICATION_divide_DAYS_FIRST_DRAWING_minus_DAYS_FIRST_DUE_mean==DEVIDE==AMT_INCOME_TOTAL\n",
      "Wei_creditcard_CNT_DRAWINGS_CURRENT_std==DEVIDE==AMT_INCOME_TOTAL\n",
      "Wei_last_5_installment_paid_late_in_days_max==DEVIDE==AMT_INCOME_TOTAL\n",
      "Wei_inst_DAYS_INSTALMENT_min==DEVIDE==AMT_INCOME_TOTAL\n",
      "Wei_possible_future_install_mean==DEVIDE==AMT_INCOME_TOTAL\n",
      "Wei_last_20_installment_paid_late_in_days_kurt==DEVIDE==AMT_INCOME_TOTAL\n",
      "Wei_bureau_AMT_CREDIT_SUM_DEBT_divide_DAYS_CREDIT_ENDDATE_mean==DEVIDE==AMT_INCOME_TOTAL\n",
      "Wei_possible_future_install_max==DEVIDE==AMT_INCOME_TOTAL\n",
      "Wei_prev_AMT_ANNUITY_divide_AMT_GOODS_PRICE_max==DEVIDE==AMT_INCOME_TOTAL\n",
      "Wei_prev_AMT_APPLICATION_divide_DAYS_DECISION_mean==DEVIDE==AMT_INCOME_TOTAL\n"
     ]
    },
    {
     "name": "stderr",
     "output_type": "stream",
     "text": [
      " 78%|███████▊  | 617/790 [00:04<00:01, 138.54it/s]"
     ]
    },
    {
     "name": "stdout",
     "output_type": "stream",
     "text": [
      "Wei_last_20_installment_paid_late_in_days_sum==DEVIDE==AMT_INCOME_TOTAL\n",
      "Wei_ACTIVE_DAYS_CREDIT_VAR==DEVIDE==AMT_INCOME_TOTAL\n",
      "Wei_inst_RATE_EARLY_DAYS_SIGN_mean==DEVIDE==AMT_INCOME_TOTAL\n",
      "Wei_creditcard_CNT_DRAWINGS_ATM_CURRENT_mean==DEVIDE==AMT_INCOME_TOTAL\n",
      "Wei_last_20_installment_paid_late_in_days_iqr==DEVIDE==AMT_INCOME_TOTAL\n",
      "Wei_prev_AMT_APPLICATION_divide_DAYS_DECISION_median==DEVIDE==AMT_INCOME_TOTAL\n",
      "Wei_bureau_AMT_CREDIT_MAX_OVERDUE_divide_AMT_CREDIT_SUM_OVERDUE_max==DEVIDE==AMT_INCOME_TOTAL\n",
      "Wei_bureau_AMT_CREDIT_SUM_DEBT_divide_AMT_CREDIT_SUM_LIMIT_mean==DEVIDE==AMT_INCOME_TOTAL\n",
      "Wei_inst_AMT_ONTIME_PAYMENT_divide_AMT_INSTALMENT_sum==DEVIDE==AMT_INCOME_TOTAL\n",
      "Wei_prev_AMT_APPLICATION_divide_DAYS_FIRST_DUE_minus_DAYS_LAST_DUE_min==DEVIDE==AMT_INCOME_TOTAL\n",
      "Wei_bureau_AMT_CREDIT_SUM_divide_AMT_CREDIT_SUM_LIMIT_sum==DEVIDE==AMT_INCOME_TOTAL\n",
      "Wei_last_5by20_fraction_installment_paid_late_in_days_median==DEVIDE==AMT_INCOME_TOTAL\n",
      "Wei_prev_AMT_ANNUITY_divide_DAYS_LAST_DUE_1ST_VERSION_minus_DAYS_TERMINATION_min==DEVIDE==AMT_INCOME_TOTAL\n",
      "Wei_inst_normalslope_RATE_LATE_PAYMENT_max_std==DEVIDE==AMT_INCOME_TOTAL\n",
      "Wei_AMT_CREDIT_divide_OBS_30_CNT_SOCIAL_CIRCLE==DEVIDE==AMT_INCOME_TOTAL\n",
      "Wei_AMT_ANNUITY_divide_CNT_CHILDREN==DEVIDE==AMT_INCOME_TOTAL\n",
      "Wei_bureau_DAYS_CREDIT_min==DEVIDE==AMT_INCOME_TOTAL\n",
      "Wei_credit_card_monthly_diff==DEVIDE==AMT_INCOME_TOTAL\n",
      "Wei_bureau_AMT_CREDIT_SUM_DEBT_divide_DAYS_CREDIT_ENDDATE_max==DEVIDE==AMT_INCOME_TOTAL\n",
      "Wei_prev_AMT_ANNUITY_min==DEVIDE==AMT_INCOME_TOTAL\n",
      "Wei_prev_AMT_APPLICATION_divide_CNT_PAYMENT_max==DEVIDE==AMT_INCOME_TOTAL\n",
      "Wei_DAYS_LAST_PHONE_CHANGE_x==DEVIDE==AMT_INCOME_TOTAL\n",
      "Wei_prev_AMT_ANNUITY_divide_DAYS_LAST_DUE_mean==DEVIDE==AMT_INCOME_TOTAL\n",
      "Wei_inst_EARLY_DAYS_SIGN_sum==DEVIDE==AMT_INCOME_TOTAL\n",
      "Wei_AMT_REQ_CREDIT_BUREAU_YEAR_divide_DAYS_REGISTRATION==DEVIDE==AMT_INCOME_TOTAL\n",
      "Wei_all_installment_installment_paid_late_in_days_std==DEVIDE==AMT_INCOME_TOTAL\n",
      "Wei_bureau_AMT_CREDIT_SUM_DEBT_divide_DAYS_CREDIT_UPDATE_mean==DEVIDE==AMT_INCOME_TOTAL\n",
      "Wei_last_50_installment_paid_late_in_days_kurt==DEVIDE==AMT_INCOME_TOTAL\n",
      "Wei_PREV_PRODUCT_COMBINATION_Cash X-Sell: low_MEAN==DEVIDE==AMT_INCOME_TOTAL\n",
      "Wei_bureau_AMT_CREDIT_SUM_divide_AMT_CREDIT_SUM_DEBT_sum==DEVIDE==AMT_INCOME_TOTAL\n",
      "Wei_inst_LATE_DAYS_SIGN_area_RATE_LATE_PAYMENT_max==DEVIDE==AMT_INCOME_TOTAL\n",
      "Wei_count_prev_mean==DEVIDE==AMT_INCOME_TOTAL\n",
      "Wei_inst_AMT_CUM_PAYMENT_mean==DEVIDE==AMT_INCOME_TOTAL\n"
     ]
    },
    {
     "name": "stderr",
     "output_type": "stream",
     "text": [
      "\r",
      " 80%|████████  | 632/790 [00:04<00:01, 138.76it/s]"
     ]
    },
    {
     "name": "stdout",
     "output_type": "stream",
     "text": [
      "Wei_CLOSED_DAYS_CREDIT_UPDATE_MEAN==DEVIDE==AMT_INCOME_TOTAL\n",
      "Wei_prev_AMT_APPLICATION_divide_CNT_PAYMENT_min==DEVIDE==AMT_INCOME_TOTAL\n",
      "Wei_last_50_installment_paid_late_in_days_sum==DEVIDE==AMT_INCOME_TOTAL\n",
      "Wei_ACTIVE_AMT_CREDIT_MAX_OVERDUE_MEAN==DEVIDE==AMT_INCOME_TOTAL\n",
      "Wei_PREV_NAME_CONTRACT_STATUS_Approved_MEAN==DEVIDE==AMT_INCOME_TOTAL\n",
      "Wei_inst_slope_RATE_LATE_PAYMENT_max_mean==DEVIDE==AMT_INCOME_TOTAL\n",
      "Wei_last_10by100_fraction_installment_paid_late_in_days_mean==DEVIDE==AMT_INCOME_TOTAL\n",
      "Wei_prev_AMT_APPLICATION_divide_DAYS_LAST_DUE_1ST_VERSION_minus_DAYS_LAST_DUE_min==DEVIDE==AMT_INCOME_TOTAL\n",
      "Wei_prev_AMT_ANNUITY_divide_DAYS_FIRST_DUE_min==DEVIDE==AMT_INCOME_TOTAL\n",
      "Wei_prev_AMT_ANNUITY_divide_AMT_CREDIT_mean==DEVIDE==AMT_INCOME_TOTAL\n",
      "Wei_prev_DAYS_DECISION_mean==DEVIDE==AMT_INCOME_TOTAL\n",
      "Wei_prev_AMT_ANNUITY_divide_DAYS_TERMINATION_min==DEVIDE==AMT_INCOME_TOTAL\n",
      "Wei_REFUSED_APP_CREDIT_PERC_MIN==DEVIDE==AMT_INCOME_TOTAL\n",
      "Wei_last_20_installment_paid_late_in_days_min==DEVIDE==AMT_INCOME_TOTAL\n",
      "Wei_last_loan_installment_paid_late_in_days_min==DEVIDE==AMT_INCOME_TOTAL\n",
      "Wei_prev_AMT_ANNUITY_divide_CNT_PAYMENT_max==DEVIDE==AMT_INCOME_TOTAL\n",
      "Wei_prev_AMT_DOWN_PAYMENT_divide_CNT_PAYMENT_max==DEVIDE==AMT_INCOME_TOTAL\n",
      "Wei_last_10_installment_paid_late_in_days_sum==DEVIDE==AMT_INCOME_TOTAL\n",
      "Wei_prev_AMT_ANNUITY_divide_AMT_CREDIT_max==DEVIDE==AMT_INCOME_TOTAL\n",
      "Wei_CLOSED_DAYS_CREDIT_ENDDATE_MEAN==DEVIDE==AMT_INCOME_TOTAL\n",
      "Wei_OWN_CAR_AGE_divide_DAYS_LAST_PHONE_CHANGE==DEVIDE==AMT_INCOME_TOTAL\n",
      "Wei_prev_AMT_APPLICATION_median==DEVIDE==AMT_INCOME_TOTAL\n",
      "Wei_prev_DAYS_FIRST_DUE_median==DEVIDE==AMT_INCOME_TOTAL\n"
     ]
    },
    {
     "name": "stderr",
     "output_type": "stream",
     "text": [
      " 84%|████████▍ | 664/790 [00:05<00:00, 126.84it/s]"
     ]
    },
    {
     "name": "stdout",
     "output_type": "stream",
     "text": [
      "Wei_prev_AMT_DOWN_PAYMENT_divide_RATE_DOWN_PAYMENT_max==DEVIDE==AMT_INCOME_TOTAL\n",
      "Wei_prev_AMT_DOWN_PAYMENT_divide_AMT_GOODS_PRICE_mean==DEVIDE==AMT_INCOME_TOTAL\n",
      "Wei_prev_AMT_ANNUITY_divide_AMT_DOWN_PAYMENT_sum==DEVIDE==AMT_INCOME_TOTAL\n",
      "Wei_inst_RATE_AMT_LATE_PAYMENT_mean==DEVIDE==AMT_INCOME_TOTAL\n",
      "Wei_bureau_agg__AMT_CREDIT_SUM_DEBT_divide_DAYS_CREDIT_max_minus_min==DEVIDE==AMT_INCOME_TOTAL\n",
      "Wei_last_10_installment_paid_late_in_days_iqr==DEVIDE==AMT_INCOME_TOTAL\n",
      "Wei_PREV_NAME_YIELD_GROUP_low_action_MEAN==DEVIDE==AMT_INCOME_TOTAL\n",
      "Wei_prev_AMT_ANNUITY_divide_CNT_PAYMENT_mean==DEVIDE==AMT_INCOME_TOTAL\n",
      "Wei_count_prev_sum==DEVIDE==AMT_INCOME_TOTAL\n",
      "Wei_prev_AMT_APPLICATION_divide_DAYS_LAST_DUE_1ST_VERSION_minus_DAYS_TERMINATION_median==DEVIDE==AMT_INCOME_TOTAL\n",
      "Wei_prev_AMT_ANNUITY_divide_DAYS_FIRST_DRAWING_mean==DEVIDE==AMT_INCOME_TOTAL\n",
      "Wei_inst_RATE_AMT_CUM_PAYMENT_min==DEVIDE==AMT_INCOME_TOTAL\n",
      "Wei_prev_AMT_DOWN_PAYMENT_divide_DAYS_FIRST_DUE_minus_DAYS_LAST_DUE_min==DEVIDE==AMT_INCOME_TOTAL\n",
      "Wei_last_20by100_fraction_installment_paid_late_in_days_kurt==DEVIDE==AMT_INCOME_TOTAL\n",
      "Wei_prev_DAYS_FIRST_DRAWING_minus_DAYS_FIRST_DUE_median==DEVIDE==AMT_INCOME_TOTAL\n",
      "Wei_bureau_AMT_CREDIT_SUM_DEBT_divide_DAYS_CREDIT_min==DEVIDE==AMT_INCOME_TOTAL\n",
      "Wei_PREV_NAME_SELLER_INDUSTRY_Connectivity_MEAN==DEVIDE==AMT_INCOME_TOTAL\n",
      "Wei_REFUSED_DAYS_DECISION_MIN==DEVIDE==AMT_INCOME_TOTAL\n",
      "Wei_prev_AMT_ANNUITY_divide_DAYS_FIRST_DRAWING_minus_DAYS_LAST_DUE_median==DEVIDE==AMT_INCOME_TOTAL\n",
      "Wei_APARTMENTS_AVG_x==DEVIDE==AMT_INCOME_TOTAL\n",
      "Wei_prev_AMT_ANNUITY_divide_DAYS_DECISION_median==DEVIDE==AMT_INCOME_TOTAL\n",
      "Wei_inst_DAYS_INSTALMENT_max==DEVIDE==AMT_INCOME_TOTAL\n",
      "Wei_prev_DAYS_DECISION_sum==DEVIDE==AMT_INCOME_TOTAL\n",
      "Wei_last_10by50_fraction_installment_paid_late_in_days_iqr==DEVIDE==AMT_INCOME_TOTAL\n",
      "Wei_all_installment_installment_paid_late_in_days_sum==DEVIDE==AMT_INCOME_TOTAL\n",
      "Wei_prev_AMT_APPLICATION_divide_DAYS_LAST_DUE_1ST_VERSION_minus_DAYS_TERMINATION_max==DEVIDE==AMT_INCOME_TOTAL\n",
      "Wei_inst_DAYS_INSTALMENT_mean==DEVIDE==AMT_INCOME_TOTAL\n",
      "Wei_prev_DAYS_FIRST_DUE_min==DEVIDE==AMT_INCOME_TOTAL\n",
      "Wei_CLOSED_DAYS_CREDIT_ENDDATE_MIN==DEVIDE==AMT_INCOME_TOTAL\n",
      "Wei_inst_RATE_RATE_LATE_PAYMENT_min==DEVIDE==AMT_INCOME_TOTAL\n",
      "Wei_nan_count==DEVIDE==AMT_INCOME_TOTAL\n"
     ]
    },
    {
     "name": "stderr",
     "output_type": "stream",
     "text": [
      " 88%|████████▊ | 695/790 [00:05<00:00, 127.71it/s]"
     ]
    },
    {
     "name": "stdout",
     "output_type": "stream",
     "text": [
      "Wei_inst_AMT_CUM_PAYMENT_max==DEVIDE==AMT_INCOME_TOTAL\n",
      "Wei_REFUSED_AMT_APPLICATION_MIN==DEVIDE==AMT_INCOME_TOTAL\n",
      "Wei_prev_AMT_ANNUITY_divide_AMT_APPLICATION_max==DEVIDE==AMT_INCOME_TOTAL\n",
      "Wei_REFUSED_AMT_APPLICATION_MAX==DEVIDE==AMT_INCOME_TOTAL\n",
      "Wei_prev_AMT_ANNUITY_divide_DAYS_LAST_DUE_1ST_VERSION_minus_DAYS_TERMINATION_median==DEVIDE==AMT_INCOME_TOTAL\n",
      "Wei_inst_AMT_ONTIME_PAYMENT_divide_AMT_INSTALMENT_mean==DEVIDE==AMT_INCOME_TOTAL\n",
      "Wei_prev_AMT_APPLICATION_divide_DAYS_LAST_DUE_1ST_VERSION_minus_DAYS_LAST_DUE_mean==DEVIDE==AMT_INCOME_TOTAL\n",
      "Wei_prev_AMT_APPLICATION_divide_DAYS_FIRST_DRAWING_minus_DAYS_LAST_DUE_1ST_VERSION_median==DEVIDE==AMT_INCOME_TOTAL\n",
      "Wei_prev_AMT_ANNUITY_divide_DAYS_FIRST_DUE_minus_DAYS_TERMINATION_min==DEVIDE==AMT_INCOME_TOTAL\n",
      "Wei_last_loan_installment_paid_late_mean==DEVIDE==AMT_INCOME_TOTAL\n",
      "Wei_bureau_DAYS_CREDIT_UPDATE_sum==DEVIDE==AMT_INCOME_TOTAL\n",
      "Wei_prev_AMT_ANNUITY_mean==DEVIDE==AMT_INCOME_TOTAL\n",
      "Wei_REFUSED_AMT_ANNUITY_MIN==DEVIDE==AMT_INCOME_TOTAL\n",
      "Wei_bureau_AMT_CREDIT_MAX_OVERDUE_divide_AMT_CREDIT_SUM_mean==DEVIDE==AMT_INCOME_TOTAL\n",
      "Wei_prev_AMT_ANNUITY_divide_DAYS_TERMINATION_mean==DEVIDE==AMT_INCOME_TOTAL\n",
      "Wei_prev_DAYS_LAST_DUE_sum==DEVIDE==AMT_INCOME_TOTAL\n",
      "Wei_inst_AMT_ONTIME_PAYMENT_divide_AMT_INSTALMENT_std==DEVIDE==AMT_INCOME_TOTAL\n",
      "Wei_prev_AMT_ANNUITY_divide_AMT_APPLICATION_median==DEVIDE==AMT_INCOME_TOTAL\n",
      "Wei_prev_AMT_APPLICATION_divide_AMT_GOODS_PRICE_median==DEVIDE==AMT_INCOME_TOTAL\n",
      "Wei_prev_DAYS_FIRST_DUE_max==DEVIDE==AMT_INCOME_TOTAL\n",
      "Wei_prev_AMT_ANNUITY_divide_DAYS_FIRST_DUE_minus_DAYS_TERMINATION_mean==DEVIDE==AMT_INCOME_TOTAL\n",
      "Wei_bureau_AMT_CREDIT_MAX_OVERDUE_divide_AMT_CREDIT_SUM_DEBT_max==DEVIDE==AMT_INCOME_TOTAL\n",
      "Wei_prev_AMT_APPLICATION_divide_DAYS_FIRST_DRAWING_minus_DAYS_LAST_DUE_max==DEVIDE==AMT_INCOME_TOTAL\n",
      "Wei_prev_DAYS_FIRST_DRAWING_minus_DAYS_FIRST_DUE_sum==DEVIDE==AMT_INCOME_TOTAL\n",
      "Wei_creditcard_CNT_DRAWINGS_ATM_CURRENT_std==DEVIDE==AMT_INCOME_TOTAL\n",
      "Wei_bureau_DAYS_CREDIT_UPDATE_min==DEVIDE==AMT_INCOME_TOTAL\n",
      "Wei_inst_normalslope_AMT_LATE_PAYMENT_max_std==DEVIDE==AMT_INCOME_TOTAL\n",
      "Wei_prev_AMT_ANNUITY_divide_DAYS_FIRST_DRAWING_minus_DAYS_LAST_DUE_mean==DEVIDE==AMT_INCOME_TOTAL\n",
      "Wei_bureau_DAYS_CREDIT_ENDDATE_min==DEVIDE==AMT_INCOME_TOTAL\n",
      "Wei_prev_AMT_APPLICATION_divide_AMT_GOODS_PRICE_min==DEVIDE==AMT_INCOME_TOTAL\n",
      "Wei_prev_AMT_APPLICATION_divide_DAYS_FIRST_DUE_minus_DAYS_LAST_DUE_median==DEVIDE==AMT_INCOME_TOTAL\n"
     ]
    },
    {
     "name": "stderr",
     "output_type": "stream",
     "text": [
      " 92%|█████████▏| 728/790 [00:05<00:00, 128.90it/s]"
     ]
    },
    {
     "name": "stdout",
     "output_type": "stream",
     "text": [
      "Wei_inst_slope_AMT_LATE_PAYMENT_max_mean==DEVIDE==AMT_INCOME_TOTAL\n",
      "Wei_ACTIVE_AMT_CREDIT_SUM_LIMIT_MEAN==DEVIDE==AMT_INCOME_TOTAL\n",
      "Wei_prev_AMT_APPLICATION_divide_AMT_GOODS_PRICE_mean==DEVIDE==AMT_INCOME_TOTAL\n",
      "Wei_NAME_EDUCATION_TYPE_CODE_GENDER_OWN_CAR_AGE_mean_abs_diff==DEVIDE==AMT_INCOME_TOTAL\n",
      "Wei_prev_AMT_ANNUITY_divide_DAYS_FIRST_DUE_max==DEVIDE==AMT_INCOME_TOTAL\n",
      "Wei_bureau_AMT_CREDIT_MAX_OVERDUE_divide_AMT_CREDIT_SUM_max==DEVIDE==AMT_INCOME_TOTAL\n",
      "Wei_inst_LATE_DAYS_SIGN_area_RATE_LATE_PAYMENT_mean==DEVIDE==AMT_INCOME_TOTAL\n",
      "Wei_inst_AMT_ONTIME_PAYMENT_divide_AMT_INSTALMENT_max==DEVIDE==AMT_INCOME_TOTAL\n",
      "Wei_prev_AMT_DOWN_PAYMENT_divide_AMT_GOODS_PRICE_max==DEVIDE==AMT_INCOME_TOTAL\n",
      "Wei_PREV_CHANNEL_TYPE_Credit and cash offices_MEAN==DEVIDE==AMT_INCOME_TOTAL\n",
      "Wei_prev_AMT_ANNUITY_divide_DAYS_TERMINATION_max==DEVIDE==AMT_INCOME_TOTAL\n",
      "Wei_creditcard_AMT_CREDIT_LIMIT_ACTUAL_divide_AMT_DRAWINGS_CURRENT_mean==DEVIDE==AMT_INCOME_TOTAL\n",
      "Wei_prev_DAYS_FIRST_DRAWING_minus_DAYS_LAST_DUE_min==DEVIDE==AMT_INCOME_TOTAL\n",
      "Wei_last_50_NUM_INSTALMENT_VERSION_sum==DEVIDE==AMT_INCOME_TOTAL\n",
      "Wei_bureau_AMT_CREDIT_SUM_LIMIT_divide_DAYS_CREDIT_UPDATE_mean==DEVIDE==AMT_INCOME_TOTAL\n",
      "Wei_OWN_CAR_AGE_divide_DAYS_ID_PUBLISH==DEVIDE==AMT_INCOME_TOTAL\n",
      "Wei_prev_DAYS_FIRST_DRAWING_minus_DAYS_LAST_DUE_max==DEVIDE==AMT_INCOME_TOTAL\n",
      "Wei_last_5by20_fraction_NUM_INSTALMENT_VERSION_skew==DEVIDE==AMT_INCOME_TOTAL\n",
      "Wei_prev_DAYS_FIRST_DUE_minus_DAYS_LAST_DUE_mean==DEVIDE==AMT_INCOME_TOTAL\n",
      "Wei_inst_RATE_AMT_LATE_PAYMENT_min==DEVIDE==AMT_INCOME_TOTAL\n",
      "Wei_last_5by20_fraction_installment_paid_over_amount_kurt==DEVIDE==AMT_INCOME_TOTAL\n",
      "Wei_prev_DAYS_FIRST_DRAWING_minus_DAYS_FIRST_DUE_min==DEVIDE==AMT_INCOME_TOTAL\n",
      "Wei_prev_AMT_DOWN_PAYMENT_max==DEVIDE==AMT_INCOME_TOTAL\n",
      "Wei_last_20_installment_paid_late_in_days_max==DEVIDE==AMT_INCOME_TOTAL\n",
      "Wei_inst_slope_AMT_LATE_PAYMENT_max_min==DEVIDE==AMT_INCOME_TOTAL\n"
     ]
    },
    {
     "name": "stderr",
     "output_type": "stream",
     "text": [
      " 97%|█████████▋| 764/790 [00:06<00:00, 119.97it/s]"
     ]
    },
    {
     "name": "stdout",
     "output_type": "stream",
     "text": [
      "Wei_creditcard_AMT_BALANCE_divide_AMT_PAYMENT_TOTAL_CURRENT_median==DEVIDE==AMT_INCOME_TOTAL\n",
      "Wei_prev_AMT_ANNUITY_max==DEVIDE==AMT_INCOME_TOTAL\n",
      "Wei_APPROVED_AMT_APPLICATION_MEAN==DEVIDE==AMT_INCOME_TOTAL\n",
      "Wei_prev_DAYS_FIRST_DUE_minus_DAYS_LAST_DUE_min==DEVIDE==AMT_INCOME_TOTAL\n",
      "Wei_bureau_credit_enddate_percentage==DEVIDE==AMT_INCOME_TOTAL\n",
      "Wei_prev_AMT_ANNUITY_divide_DAYS_LAST_DUE_max==DEVIDE==AMT_INCOME_TOTAL\n",
      "Wei_prev_AMT_ANNUITY_divide_DAYS_FIRST_DRAWING_max==DEVIDE==AMT_INCOME_TOTAL\n",
      "Wei_APPROVED_AMT_APPLICATION_MAX==DEVIDE==AMT_INCOME_TOTAL\n",
      "Wei_prev_CNT_PAYMENT_sum==DEVIDE==AMT_INCOME_TOTAL\n",
      "Wei_last_20by100_fraction_installment_paid_late_in_days_mean==DEVIDE==AMT_INCOME_TOTAL\n",
      "Wei_inst_normalslope_AMT_LATE_PAYMENT_mean_sum==DEVIDE==AMT_INCOME_TOTAL\n",
      "Wei_bureau_AMT_CREDIT_SUM_LIMIT_divide_DAYS_CREDIT_UPDATE_min==DEVIDE==AMT_INCOME_TOTAL\n",
      "Wei_creditcard_AMT_PAYMENT_CURRENT_divide_CNT_DRAWINGS_ATM_CURRENT_median==DEVIDE==AMT_INCOME_TOTAL\n",
      "Wei_prev_AMT_DOWN_PAYMENT_divide_DAYS_FIRST_DRAWING_minus_DAYS_LAST_DUE_max==DEVIDE==AMT_INCOME_TOTAL\n",
      "Wei_creditcard_AMT_BALANCE_divide_AMT_PAYMENT_CURRENT_mean==DEVIDE==AMT_INCOME_TOTAL\n",
      "Wei_prev_AMT_ANNUITY_sum==DEVIDE==AMT_INCOME_TOTAL\n",
      "Wei_inst_slope_RATE_LATE_PAYMENT_max_max==DEVIDE==AMT_INCOME_TOTAL\n",
      "Wei_inst_normalslope_RATE_LATE_PAYMENT_max_max==DEVIDE==AMT_INCOME_TOTAL\n",
      "Wei_last_10by100_fraction_installment_paid_late_in_days_sum==DEVIDE==AMT_INCOME_TOTAL\n",
      "Wei_last_20by100_fraction_installment_paid_late_in_days_iqr==DEVIDE==AMT_INCOME_TOTAL\n",
      "Wei_inst_RATE_LATE_DAYS_SIGN_sum==DEVIDE==AMT_INCOME_TOTAL\n",
      "Wei_DEF_30_CNT_SOCIAL_CIRCLE_divide_REGION_POPULATION_RELATIVE==DEVIDE==AMT_INCOME_TOTAL\n",
      "Wei_creditcard_AMT_DRAWINGS_CURRENT_divide_CNT_DRAWINGS_POS_CURRENT_std==DEVIDE==AMT_INCOME_TOTAL\n",
      "Wei_last_30_SK_DPD_DEF_skew==DEVIDE==AMT_INCOME_TOTAL\n",
      "Wei_prev_DAYS_LAST_DUE_1ST_VERSION_minus_DAYS_LAST_DUE_mean==DEVIDE==AMT_INCOME_TOTAL\n",
      "Wei_prev_AMT_DOWN_PAYMENT_divide_DAYS_FIRST_DRAWING_minus_DAYS_FIRST_DUE_max==DEVIDE==AMT_INCOME_TOTAL\n",
      "Wei_CC_CNT_DRAWINGS_CURRENT_VAR==DEVIDE==AMT_INCOME_TOTAL\n",
      "Wei_creditcard_AMT_DRAWINGS_CURRENT_divide_AMT_PAYMENT_TOTAL_CURRENT_mean==DEVIDE==AMT_INCOME_TOTAL\n",
      "Wei_creditcard_AMT_DRAWINGS_CURRENT_divide_MONTHS_BALANCE_sum==DEVIDE==AMT_INCOME_TOTAL\n",
      "Wei_AMT_REQ_CREDIT_BUREAU_QRT_divide_DAYS_LAST_PHONE_CHANGE==DEVIDE==AMT_INCOME_TOTAL\n",
      "Wei_last_6_SK_DPD_DEF_std==DEVIDE==AMT_INCOME_TOTAL\n",
      "Wei_CC_AMT_DRAWINGS_ATM_CURRENT_MEAN==DEVIDE==AMT_INCOME_TOTAL\n",
      "Wei_prev_AMT_DOWN_PAYMENT_divide_DAYS_FIRST_DRAWING_minus_DAYS_LAST_DUE_1ST_VERSION_max==DEVIDE==AMT_INCOME_TOTAL\n",
      "Wei_creditcard_AMT_PAYMENT_CURRENT_divide_AMT_RECIVABLE_mean==DEVIDE==AMT_INCOME_TOTAL\n",
      "Wei_creditcard_AMT_BALANCE_divide_CNT_DRAWINGS_POS_CURRENT_std==DEVIDE==AMT_INCOME_TOTAL\n",
      "Wei_AMT_REQ_CREDIT_BUREAU_QRT_divide_DAYS_REGISTRATION==DEVIDE==AMT_INCOME_TOTAL\n",
      "Wei_inst_agg__AMT_INSTALMENT_minus_AMT_PAYMENT_trimmed_mean_10_pct==DEVIDE==AMT_INCOME_TOTAL\n"
     ]
    },
    {
     "name": "stderr",
     "output_type": "stream",
     "text": [
      "100%|██████████| 790/790 [00:06<00:00, 121.27it/s]"
     ]
    },
    {
     "name": "stdout",
     "output_type": "stream",
     "text": [
      "Wei_creditcard_CNT_DRAWINGS_CURRENT_sum==DEVIDE==AMT_INCOME_TOTAL\n",
      "Wei_prev_AMT_APPLICATION_max==DEVIDE==AMT_INCOME_TOTAL\n",
      "Wei_CC_AMT_DRAWINGS_ATM_CURRENT_VAR==DEVIDE==AMT_INCOME_TOTAL\n",
      "Wei_bureau_AMT_CREDIT_SUM_OVERDUE_divide_DAYS_CREDIT_min==DEVIDE==AMT_INCOME_TOTAL\n",
      "Wei_Wei_CNT_installment_per_version_STD==DEVIDE==AMT_INCOME_TOTAL\n",
      "Wei_Wei_Remaining_AMT_Payment_TOTAL==DEVIDE==AMT_INCOME_TOTAL\n",
      "Wei_Wei_CNT_installment_per_version_LAST==DEVIDE==AMT_INCOME_TOTAL\n",
      "Wei_Wei_Remaining_AMT_Payment_LAST==DEVIDE==AMT_INCOME_TOTAL\n",
      "Wei_Wei_Remaning_CNT_Payment_TOTAL==DEVIDE==AMT_INCOME_TOTAL\n",
      "Wei_Wei_Remaing_Payment_Ratio_CURR==DEVIDE==AMT_INCOME_TOTAL\n",
      "Wei_Wei_TOTAl_NEEDPAY_INCOME_RATIO==DEVIDE==AMT_INCOME_TOTAL\n",
      "Wei_BU_CREDIT_SUM==DEVIDE==AMT_INCOME_TOTAL\n",
      "Wei_BU_AMT_CREDIT_SUM_DEBT==DEVIDE==AMT_INCOME_TOTAL\n",
      "Wei_BU_AMT_CREDIT_MAX_OVERDUE==DEVIDE==AMT_INCOME_TOTAL\n",
      "Wei_APR_cashloan_riskscore_mean==DEVIDE==AMT_INCOME_TOTAL\n",
      "Wei_Wei_EXT_SOURCE_1_x==DEVIDE==AMT_CREDIT==DEVIDE==AMT_INCOME_TOTAL\n",
      "Wei_Wei_EXT_SOURCE_2_x==DEVIDE==AMT_CREDIT==DEVIDE==AMT_INCOME_TOTAL\n",
      "Wei_Wei_EXT_SOURCE_3_x==DEVIDE==AMT_CREDIT==DEVIDE==AMT_INCOME_TOTAL\n",
      "Wei_Wei_external_sources_max==DEVIDE==AMT_CREDIT==DEVIDE==AMT_INCOME_TOTAL\n",
      "Wei_AMT_CREDIT==DEVIDE==AMT_INCOME_TOTAL\n",
      "Wei_AMT_GOODS_PRICE==DEVIDE==AMT_INCOME_TOTAL\n"
     ]
    },
    {
     "name": "stderr",
     "output_type": "stream",
     "text": [
      "\n"
     ]
    }
   ],
   "source": [
    "income = 'AMT_INCOME_TOTAL'\n",
    "goods = 'AMT_GOODS_PRICE'\n",
    "tr = 200\n",
    "for col in tqdm(X.columns):\n",
    "    if X[col].nunique() > tr:\n",
    "        if col.lower().find('AMT_INCOME_TOTAL') == -1 and col != 'SK_ID_CURR':\n",
    "            print(col)\n",
    "            col_name = 'Wei_' + col +'==DEVIDE==AMT_INCOME_TOTAL'\n",
    "            X[col_name] = X[col] / X[income]\n",
    "        elif col.lower().find('AMT_GOODS_PRICE') == -1 and col != 'SK_ID_CURR':\n",
    "            col_name = 'Wei_' + col +'==DEVIDE==AMT_GOODS_PRICE'\n",
    "            X[col_name] = X[col] / X[goods]"
   ]
  },
  {
   "cell_type": "code",
   "execution_count": 13,
   "metadata": {
    "ExecuteTime": {
     "end_time": "2018-08-28T14:57:48.273456Z",
     "start_time": "2018-08-28T14:57:45.971324Z"
    }
   },
   "outputs": [
    {
     "name": "stdout",
     "output_type": "stream",
     "text": [
      "(307511, 1165)\n"
     ]
    }
   ],
   "source": [
    "X = X.drop(['AMT_INCOME_TOTAL','AMT_GOODS_PRICE'],axis=1)\n",
    "train = X.iloc[:307511].copy()\n",
    "train['TARGET'] = target\n",
    "print(train.shape)\n",
    "\n",
    "test = X.iloc[307511:].copy()"
   ]
  },
  {
   "cell_type": "code",
   "execution_count": 14,
   "metadata": {
    "ExecuteTime": {
     "end_time": "2018-08-28T14:57:58.706962Z",
     "start_time": "2018-08-28T14:57:52.785153Z"
    }
   },
   "outputs": [],
   "source": [
    "train.to_pickle(ENV.lgb_train_0828.value)\n",
    "test.to_pickle(ENV.lgb_test_0828.value)"
   ]
  },
  {
   "cell_type": "markdown",
   "metadata": {},
   "source": [
    "# Select Categorical columns"
   ]
  },
  {
   "cell_type": "code",
   "execution_count": 4,
   "metadata": {
    "ExecuteTime": {
     "end_time": "2018-08-27T20:58:08.595021Z",
     "start_time": "2018-08-27T20:57:55.494359Z"
    }
   },
   "outputs": [
    {
     "name": "stderr",
     "output_type": "stream",
     "text": [
      "100%|██████████| 802/802 [00:13<00:00, 61.24it/s] "
     ]
    },
    {
     "name": "stdout",
     "output_type": "stream",
     "text": [
      "27\n"
     ]
    },
    {
     "name": "stderr",
     "output_type": "stream",
     "text": [
      "\n"
     ]
    }
   ],
   "source": [
    "cates = []\n",
    "tr = 10\n",
    "for col in tqdm(X.columns):\n",
    "    if X[col].nunique() <= tr:\n",
    "        le = LabelEncoder()\n",
    "       \n",
    "        X[col] = X[col].fillna('NOTFOUND!')\n",
    "        X[col] = X[col].astype(str)\n",
    "        X[col] = le.fit_transform(X[col])\n",
    "        X[col] = X[col].astype('category')\n",
    "       \n",
    "        if col.find('DOCUMENT') == -1 and col.find('WEEKDAY')== -1:\n",
    "            cates.append(col)\n",
    "            \n",
    "    if X[col].dtypes == object:\n",
    "        cates.append(col)\n",
    "        X[col] = X[col].fillna('NOTFOUND!')\n",
    "        X[col] = le.fit_transform(X[col])\n",
    "        X[col] = X[col].astype('category')\n",
    "print(len(cates))"
   ]
  },
  {
   "cell_type": "code",
   "execution_count": 6,
   "metadata": {
    "ExecuteTime": {
     "end_time": "2018-08-28T05:13:33.237083Z",
     "start_time": "2018-08-28T05:13:33.064201Z"
    }
   },
   "outputs": [],
   "source": [
    "train = X.iloc[:307511].copy()\n",
    "train['TARGET'] = target\n",
    "\n",
    "test = X.iloc[307511:].copy()"
   ]
  },
  {
   "cell_type": "code",
   "execution_count": 6,
   "metadata": {
    "ExecuteTime": {
     "end_time": "2018-08-27T21:45:42.765788Z",
     "start_time": "2018-08-27T20:58:12.701888Z"
    }
   },
   "outputs": [
    {
     "name": "stderr",
     "output_type": "stream",
     "text": [
      "\r",
      "0it [00:00, ?it/s]"
     ]
    },
    {
     "name": "stdout",
     "output_type": "stream",
     "text": [
      "(307511, 1154)\n",
      "start...\n"
     ]
    },
    {
     "name": "stderr",
     "output_type": "stream",
     "text": [
      "\r",
      "1it [00:08,  8.36s/it]"
     ]
    },
    {
     "name": "stdout",
     "output_type": "stream",
     "text": [
      "Wei_agg_mean_CODE_GENDER_x==!==REGION_RATING_CLIENT_x\n",
      "(307511, 1154)\n",
      "(48744, 1153)\n",
      "--------\n"
     ]
    },
    {
     "name": "stderr",
     "output_type": "stream",
     "text": [
      "\r",
      "2it [00:16,  8.25s/it]"
     ]
    },
    {
     "name": "stdout",
     "output_type": "stream",
     "text": [
      "Wei_agg_mean_CODE_GENDER_x==!==FLAG_WORK_PHONE_x\n",
      "(307511, 1154)\n",
      "(48744, 1153)\n",
      "--------\n"
     ]
    },
    {
     "name": "stderr",
     "output_type": "stream",
     "text": [
      "\r",
      "3it [00:24,  8.20s/it]"
     ]
    },
    {
     "name": "stdout",
     "output_type": "stream",
     "text": [
      "Wei_agg_mean_CODE_GENDER_x==!==unique_CODE_GENDER_NAME_EDUCATION_TYPE\n",
      "(307511, 1154)\n",
      "(48744, 1153)\n",
      "--------\n"
     ]
    },
    {
     "name": "stderr",
     "output_type": "stream",
     "text": [
      "\r",
      "4it [00:32,  8.18s/it]"
     ]
    },
    {
     "name": "stdout",
     "output_type": "stream",
     "text": [
      "Wei_agg_mean_CODE_GENDER_x==!==REG_CITY_NOT_LIVE_CITY_x\n",
      "(307511, 1154)\n",
      "(48744, 1153)\n",
      "--------\n"
     ]
    },
    {
     "name": "stderr",
     "output_type": "stream",
     "text": [
      "\r",
      "5it [00:40,  8.16s/it]"
     ]
    },
    {
     "name": "stdout",
     "output_type": "stream",
     "text": [
      "Wei_agg_mean_CODE_GENDER_x==!==ORGANIZATION_TYPE_Self-employed\n",
      "(307511, 1154)\n",
      "(48744, 1153)\n",
      "--------\n"
     ]
    },
    {
     "name": "stderr",
     "output_type": "stream",
     "text": [
      "\r",
      "6it [00:48,  8.16s/it]"
     ]
    },
    {
     "name": "stdout",
     "output_type": "stream",
     "text": [
      "Wei_agg_mean_CODE_GENDER_x==!==ORGANIZATION_TYPE_School\n",
      "(307511, 1154)\n",
      "(48744, 1153)\n",
      "--------\n"
     ]
    },
    {
     "name": "stderr",
     "output_type": "stream",
     "text": [
      "\r",
      "7it [00:57,  8.15s/it]"
     ]
    },
    {
     "name": "stdout",
     "output_type": "stream",
     "text": [
      "Wei_agg_mean_CODE_GENDER_x==!==OCCUPATION_TYPE_Core staff\n",
      "(307511, 1154)\n",
      "(48744, 1153)\n",
      "--------\n"
     ]
    },
    {
     "name": "stderr",
     "output_type": "stream",
     "text": [
      "\r",
      "8it [01:05,  8.15s/it]"
     ]
    },
    {
     "name": "stdout",
     "output_type": "stream",
     "text": [
      "Wei_agg_mean_CODE_GENDER_x==!==ORGANIZATION_TYPE_Transport: type 3\n",
      "(307511, 1154)\n",
      "(48744, 1153)\n",
      "--------\n"
     ]
    },
    {
     "name": "stderr",
     "output_type": "stream",
     "text": [
      "\r",
      "9it [01:13,  8.15s/it]"
     ]
    },
    {
     "name": "stdout",
     "output_type": "stream",
     "text": [
      "Wei_agg_mean_CODE_GENDER_x==!==ORGANIZATION_TYPE_Military\n",
      "(307511, 1154)\n",
      "(48744, 1153)\n",
      "--------\n"
     ]
    },
    {
     "name": "stderr",
     "output_type": "stream",
     "text": [
      "\r",
      "10it [01:21,  8.14s/it]"
     ]
    },
    {
     "name": "stdout",
     "output_type": "stream",
     "text": [
      "Wei_agg_mean_CODE_GENDER_x==!==ORGANIZATION_TYPE_Construction\n",
      "(307511, 1154)\n",
      "(48744, 1153)\n",
      "--------\n"
     ]
    },
    {
     "name": "stderr",
     "output_type": "stream",
     "text": [
      "\r",
      "11it [01:29,  8.14s/it]"
     ]
    },
    {
     "name": "stdout",
     "output_type": "stream",
     "text": [
      "Wei_agg_mean_CODE_GENDER_x==!==WALLSMATERIAL_MODE_Stone, brick\n",
      "(307511, 1154)\n",
      "(48744, 1153)\n",
      "--------\n"
     ]
    },
    {
     "name": "stderr",
     "output_type": "stream",
     "text": [
      "\r",
      "12it [01:37,  8.14s/it]"
     ]
    },
    {
     "name": "stdout",
     "output_type": "stream",
     "text": [
      "Wei_agg_mean_CODE_GENDER_x==!==NAME_INCOME_TYPE_State servant\n",
      "(307511, 1154)\n",
      "(48744, 1153)\n",
      "--------\n"
     ]
    },
    {
     "name": "stderr",
     "output_type": "stream",
     "text": [
      "\r",
      "13it [01:45,  8.14s/it]"
     ]
    },
    {
     "name": "stdout",
     "output_type": "stream",
     "text": [
      "Wei_agg_mean_CODE_GENDER_x==!==OCCUPATION_TYPE_Drivers\n",
      "(307511, 1154)\n",
      "(48744, 1153)\n",
      "--------\n"
     ]
    },
    {
     "name": "stderr",
     "output_type": "stream",
     "text": [
      "\r",
      "14it [01:53,  8.14s/it]"
     ]
    },
    {
     "name": "stdout",
     "output_type": "stream",
     "text": [
      "Wei_agg_mean_CODE_GENDER_x==!==OCCUPATION_TYPE_Medicine staff\n",
      "(307511, 1154)\n",
      "(48744, 1153)\n",
      "--------\n"
     ]
    },
    {
     "name": "stderr",
     "output_type": "stream",
     "text": [
      "\r",
      "15it [02:02,  8.14s/it]"
     ]
    },
    {
     "name": "stdout",
     "output_type": "stream",
     "text": [
      "Wei_agg_mean_CODE_GENDER_x==!==NAME_HOUSING_TYPE_x\n",
      "(307511, 1154)\n",
      "(48744, 1153)\n",
      "--------\n"
     ]
    },
    {
     "name": "stderr",
     "output_type": "stream",
     "text": [
      "\r",
      "16it [02:10,  8.14s/it]"
     ]
    },
    {
     "name": "stdout",
     "output_type": "stream",
     "text": [
      "Wei_agg_mean_CODE_GENDER_x==!==CONTACT\n",
      "(307511, 1154)\n",
      "(48744, 1153)\n",
      "--------\n"
     ]
    },
    {
     "name": "stderr",
     "output_type": "stream",
     "text": [
      "\r",
      "17it [02:18,  8.14s/it]"
     ]
    },
    {
     "name": "stdout",
     "output_type": "stream",
     "text": [
      "Wei_agg_mean_CODE_GENDER_x==!==NAME_FAMILY_STATUS_x\n",
      "(307511, 1154)\n",
      "(48744, 1153)\n",
      "--------\n"
     ]
    },
    {
     "name": "stderr",
     "output_type": "stream",
     "text": [
      "\r",
      "18it [02:26,  8.14s/it]"
     ]
    },
    {
     "name": "stdout",
     "output_type": "stream",
     "text": [
      "Wei_agg_mean_CODE_GENDER_x==!==Wei_CNT_NOT_TERMINATION\n",
      "(307511, 1154)\n",
      "(48744, 1153)\n",
      "--------\n"
     ]
    },
    {
     "name": "stderr",
     "output_type": "stream",
     "text": [
      "\r",
      "19it [02:34,  8.14s/it]"
     ]
    },
    {
     "name": "stdout",
     "output_type": "stream",
     "text": [
      "Wei_agg_mean_CODE_GENDER_x==!==Wei_IF_TERMINATION_LAST\n",
      "(307511, 1154)\n",
      "(48744, 1153)\n",
      "--------\n"
     ]
    },
    {
     "name": "stderr",
     "output_type": "stream",
     "text": [
      "\r",
      "20it [02:42,  8.14s/it]"
     ]
    },
    {
     "name": "stdout",
     "output_type": "stream",
     "text": [
      "Wei_agg_mean_CODE_GENDER_x==!==BU_CREDIT_ACTIVE_category\n",
      "(307511, 1154)\n",
      "(48744, 1153)\n",
      "--------\n"
     ]
    },
    {
     "name": "stderr",
     "output_type": "stream",
     "text": [
      "\r",
      "21it [02:50,  8.14s/it]"
     ]
    },
    {
     "name": "stdout",
     "output_type": "stream",
     "text": [
      "Wei_agg_mean_CODE_GENDER_x==!==BU_CREDIT_CURRENCY_category\n",
      "(307511, 1154)\n",
      "(48744, 1153)\n",
      "--------\n"
     ]
    },
    {
     "name": "stderr",
     "output_type": "stream",
     "text": [
      "\r",
      "22it [02:59,  8.14s/it]"
     ]
    },
    {
     "name": "stdout",
     "output_type": "stream",
     "text": [
      "Wei_agg_mean_CODE_GENDER_x==!==BU_CREDIT_TYPE_category\n",
      "(307511, 1154)\n",
      "(48744, 1153)\n",
      "--------\n"
     ]
    },
    {
     "name": "stderr",
     "output_type": "stream",
     "text": [
      "\r",
      "23it [03:07,  8.13s/it]"
     ]
    },
    {
     "name": "stdout",
     "output_type": "stream",
     "text": [
      "Wei_agg_mean_CODE_GENDER_x==!==BU_CNT_CREDIT_PROLONG_SUM\n",
      "(307511, 1154)\n",
      "(48744, 1153)\n",
      "--------\n"
     ]
    },
    {
     "name": "stderr",
     "output_type": "stream",
     "text": [
      "\r",
      "24it [03:15,  8.13s/it]"
     ]
    },
    {
     "name": "stdout",
     "output_type": "stream",
     "text": [
      "Wei_agg_mean_CODE_GENDER_x==!==Bureau_balance_Last_STATUS_category\n",
      "(307511, 1154)\n",
      "(48744, 1153)\n",
      "--------\n"
     ]
    },
    {
     "name": "stderr",
     "output_type": "stream",
     "text": [
      "\r",
      "25it [03:23,  8.13s/it]"
     ]
    },
    {
     "name": "stdout",
     "output_type": "stream",
     "text": [
      "Wei_agg_mean_CODE_GENDER_x==!==cnt_cash_30days_late\n",
      "(307511, 1154)\n",
      "(48744, 1153)\n",
      "--------\n"
     ]
    },
    {
     "name": "stderr",
     "output_type": "stream",
     "text": [
      "\r",
      "26it [03:31,  8.13s/it]"
     ]
    },
    {
     "name": "stdout",
     "output_type": "stream",
     "text": [
      "Wei_agg_mean_CODE_GENDER_x==!==cnt_cons_30days_late\n",
      "(307511, 1154)\n",
      "(48744, 1153)\n",
      "--------\n"
     ]
    },
    {
     "name": "stderr",
     "output_type": "stream",
     "text": [
      "\r",
      "27it [03:39,  8.13s/it]"
     ]
    },
    {
     "name": "stdout",
     "output_type": "stream",
     "text": [
      "Wei_agg_mean_REGION_RATING_CLIENT_x==!==FLAG_WORK_PHONE_x\n",
      "(307511, 1154)\n",
      "(48744, 1153)\n",
      "--------\n"
     ]
    },
    {
     "name": "stderr",
     "output_type": "stream",
     "text": [
      "\r",
      "28it [03:47,  8.13s/it]"
     ]
    },
    {
     "name": "stdout",
     "output_type": "stream",
     "text": [
      "Wei_agg_mean_REGION_RATING_CLIENT_x==!==unique_CODE_GENDER_NAME_EDUCATION_TYPE\n",
      "(307511, 1154)\n",
      "(48744, 1153)\n",
      "--------\n"
     ]
    },
    {
     "name": "stderr",
     "output_type": "stream",
     "text": [
      "\r",
      "29it [03:55,  8.13s/it]"
     ]
    },
    {
     "name": "stdout",
     "output_type": "stream",
     "text": [
      "Wei_agg_mean_REGION_RATING_CLIENT_x==!==REG_CITY_NOT_LIVE_CITY_x\n",
      "(307511, 1154)\n",
      "(48744, 1153)\n",
      "--------\n"
     ]
    },
    {
     "name": "stderr",
     "output_type": "stream",
     "text": [
      "\r",
      "30it [04:03,  8.13s/it]"
     ]
    },
    {
     "name": "stdout",
     "output_type": "stream",
     "text": [
      "Wei_agg_mean_REGION_RATING_CLIENT_x==!==ORGANIZATION_TYPE_Self-employed\n",
      "(307511, 1154)\n",
      "(48744, 1153)\n",
      "--------\n"
     ]
    },
    {
     "name": "stderr",
     "output_type": "stream",
     "text": [
      "\r",
      "31it [04:11,  8.13s/it]"
     ]
    },
    {
     "name": "stdout",
     "output_type": "stream",
     "text": [
      "Wei_agg_mean_REGION_RATING_CLIENT_x==!==ORGANIZATION_TYPE_School\n",
      "(307511, 1154)\n",
      "(48744, 1153)\n",
      "--------\n"
     ]
    },
    {
     "name": "stderr",
     "output_type": "stream",
     "text": [
      "\r",
      "32it [04:20,  8.13s/it]"
     ]
    },
    {
     "name": "stdout",
     "output_type": "stream",
     "text": [
      "Wei_agg_mean_REGION_RATING_CLIENT_x==!==OCCUPATION_TYPE_Core staff\n",
      "(307511, 1154)\n",
      "(48744, 1153)\n",
      "--------\n"
     ]
    },
    {
     "name": "stderr",
     "output_type": "stream",
     "text": [
      "\r",
      "33it [04:28,  8.13s/it]"
     ]
    },
    {
     "name": "stdout",
     "output_type": "stream",
     "text": [
      "Wei_agg_mean_REGION_RATING_CLIENT_x==!==ORGANIZATION_TYPE_Transport: type 3\n",
      "(307511, 1154)\n",
      "(48744, 1153)\n",
      "--------\n"
     ]
    },
    {
     "name": "stderr",
     "output_type": "stream",
     "text": [
      "\r",
      "34it [04:36,  8.12s/it]"
     ]
    },
    {
     "name": "stdout",
     "output_type": "stream",
     "text": [
      "Wei_agg_mean_REGION_RATING_CLIENT_x==!==ORGANIZATION_TYPE_Military\n",
      "(307511, 1154)\n",
      "(48744, 1153)\n",
      "--------\n"
     ]
    },
    {
     "name": "stderr",
     "output_type": "stream",
     "text": [
      "\r",
      "35it [04:44,  8.12s/it]"
     ]
    },
    {
     "name": "stdout",
     "output_type": "stream",
     "text": [
      "Wei_agg_mean_REGION_RATING_CLIENT_x==!==ORGANIZATION_TYPE_Construction\n",
      "(307511, 1154)\n",
      "(48744, 1153)\n",
      "--------\n"
     ]
    },
    {
     "name": "stderr",
     "output_type": "stream",
     "text": [
      "\r",
      "36it [04:52,  8.12s/it]"
     ]
    },
    {
     "name": "stdout",
     "output_type": "stream",
     "text": [
      "Wei_agg_mean_REGION_RATING_CLIENT_x==!==WALLSMATERIAL_MODE_Stone, brick\n",
      "(307511, 1154)\n",
      "(48744, 1153)\n",
      "--------\n"
     ]
    },
    {
     "name": "stderr",
     "output_type": "stream",
     "text": [
      "\r",
      "37it [05:00,  8.12s/it]"
     ]
    },
    {
     "name": "stdout",
     "output_type": "stream",
     "text": [
      "Wei_agg_mean_REGION_RATING_CLIENT_x==!==NAME_INCOME_TYPE_State servant\n",
      "(307511, 1154)\n",
      "(48744, 1153)\n",
      "--------\n"
     ]
    },
    {
     "name": "stderr",
     "output_type": "stream",
     "text": [
      "\r",
      "38it [05:08,  8.12s/it]"
     ]
    },
    {
     "name": "stdout",
     "output_type": "stream",
     "text": [
      "Wei_agg_mean_REGION_RATING_CLIENT_x==!==OCCUPATION_TYPE_Drivers\n",
      "(307511, 1154)\n",
      "(48744, 1153)\n",
      "--------\n"
     ]
    },
    {
     "name": "stderr",
     "output_type": "stream",
     "text": [
      "\r",
      "39it [05:16,  8.12s/it]"
     ]
    },
    {
     "name": "stdout",
     "output_type": "stream",
     "text": [
      "Wei_agg_mean_REGION_RATING_CLIENT_x==!==OCCUPATION_TYPE_Medicine staff\n",
      "(307511, 1154)\n",
      "(48744, 1153)\n",
      "--------\n"
     ]
    },
    {
     "name": "stderr",
     "output_type": "stream",
     "text": [
      "\r",
      "40it [05:25,  8.13s/it]"
     ]
    },
    {
     "name": "stdout",
     "output_type": "stream",
     "text": [
      "Wei_agg_mean_REGION_RATING_CLIENT_x==!==NAME_HOUSING_TYPE_x\n",
      "(307511, 1154)\n",
      "(48744, 1153)\n",
      "--------\n"
     ]
    },
    {
     "name": "stderr",
     "output_type": "stream",
     "text": [
      "\r",
      "41it [05:33,  8.13s/it]"
     ]
    },
    {
     "name": "stdout",
     "output_type": "stream",
     "text": [
      "Wei_agg_mean_REGION_RATING_CLIENT_x==!==CONTACT\n",
      "(307511, 1154)\n",
      "(48744, 1153)\n",
      "--------\n"
     ]
    },
    {
     "name": "stderr",
     "output_type": "stream",
     "text": [
      "\r",
      "42it [05:41,  8.13s/it]"
     ]
    },
    {
     "name": "stdout",
     "output_type": "stream",
     "text": [
      "Wei_agg_mean_REGION_RATING_CLIENT_x==!==NAME_FAMILY_STATUS_x\n",
      "(307511, 1154)\n",
      "(48744, 1153)\n",
      "--------\n"
     ]
    },
    {
     "name": "stderr",
     "output_type": "stream",
     "text": [
      "\r",
      "43it [05:49,  8.13s/it]"
     ]
    },
    {
     "name": "stdout",
     "output_type": "stream",
     "text": [
      "Wei_agg_mean_REGION_RATING_CLIENT_x==!==Wei_CNT_NOT_TERMINATION\n",
      "(307511, 1154)\n",
      "(48744, 1153)\n",
      "--------\n"
     ]
    },
    {
     "name": "stderr",
     "output_type": "stream",
     "text": [
      "\r",
      "44it [05:57,  8.13s/it]"
     ]
    },
    {
     "name": "stdout",
     "output_type": "stream",
     "text": [
      "Wei_agg_mean_REGION_RATING_CLIENT_x==!==Wei_IF_TERMINATION_LAST\n",
      "(307511, 1154)\n",
      "(48744, 1153)\n",
      "--------\n"
     ]
    },
    {
     "name": "stderr",
     "output_type": "stream",
     "text": [
      "\r",
      "57it [07:43,  8.13s/it]"
     ]
    },
    {
     "name": "stdout",
     "output_type": "stream",
     "text": [
      "Wei_agg_mean_FLAG_WORK_PHONE_x==!==ORGANIZATION_TYPE_Transport: type 3\n",
      "(307511, 1154)\n",
      "(48744, 1153)\n",
      "--------\n"
     ]
    },
    {
     "name": "stderr",
     "output_type": "stream",
     "text": [
      "\r",
      "58it [07:51,  8.13s/it]"
     ]
    },
    {
     "name": "stdout",
     "output_type": "stream",
     "text": [
      "Wei_agg_mean_FLAG_WORK_PHONE_x==!==ORGANIZATION_TYPE_Military\n",
      "(307511, 1154)\n",
      "(48744, 1153)\n",
      "--------\n"
     ]
    },
    {
     "name": "stderr",
     "output_type": "stream",
     "text": [
      "\r",
      "59it [07:59,  8.13s/it]"
     ]
    },
    {
     "name": "stdout",
     "output_type": "stream",
     "text": [
      "Wei_agg_mean_FLAG_WORK_PHONE_x==!==ORGANIZATION_TYPE_Construction\n",
      "(307511, 1154)\n",
      "(48744, 1153)\n",
      "--------\n"
     ]
    },
    {
     "name": "stderr",
     "output_type": "stream",
     "text": [
      "\r",
      "60it [08:07,  8.13s/it]"
     ]
    },
    {
     "name": "stdout",
     "output_type": "stream",
     "text": [
      "Wei_agg_mean_FLAG_WORK_PHONE_x==!==WALLSMATERIAL_MODE_Stone, brick\n",
      "(307511, 1154)\n",
      "(48744, 1153)\n",
      "--------\n"
     ]
    },
    {
     "name": "stderr",
     "output_type": "stream",
     "text": [
      "\r",
      "61it [08:15,  8.13s/it]"
     ]
    },
    {
     "name": "stdout",
     "output_type": "stream",
     "text": [
      "Wei_agg_mean_FLAG_WORK_PHONE_x==!==NAME_INCOME_TYPE_State servant\n",
      "(307511, 1154)\n",
      "(48744, 1153)\n",
      "--------\n"
     ]
    },
    {
     "name": "stderr",
     "output_type": "stream",
     "text": [
      "\r",
      "62it [08:23,  8.13s/it]"
     ]
    },
    {
     "name": "stdout",
     "output_type": "stream",
     "text": [
      "Wei_agg_mean_FLAG_WORK_PHONE_x==!==OCCUPATION_TYPE_Drivers\n",
      "(307511, 1154)\n",
      "(48744, 1153)\n",
      "--------\n"
     ]
    },
    {
     "name": "stderr",
     "output_type": "stream",
     "text": [
      "\r",
      "63it [08:31,  8.13s/it]"
     ]
    },
    {
     "name": "stdout",
     "output_type": "stream",
     "text": [
      "Wei_agg_mean_FLAG_WORK_PHONE_x==!==OCCUPATION_TYPE_Medicine staff\n",
      "(307511, 1154)\n",
      "(48744, 1153)\n",
      "--------\n"
     ]
    },
    {
     "name": "stderr",
     "output_type": "stream",
     "text": [
      "\r",
      "64it [08:40,  8.13s/it]"
     ]
    },
    {
     "name": "stdout",
     "output_type": "stream",
     "text": [
      "Wei_agg_mean_FLAG_WORK_PHONE_x==!==NAME_HOUSING_TYPE_x\n",
      "(307511, 1154)\n",
      "(48744, 1153)\n",
      "--------\n"
     ]
    },
    {
     "name": "stderr",
     "output_type": "stream",
     "text": [
      "\r",
      "65it [08:48,  8.13s/it]"
     ]
    },
    {
     "name": "stdout",
     "output_type": "stream",
     "text": [
      "Wei_agg_mean_FLAG_WORK_PHONE_x==!==CONTACT\n",
      "(307511, 1154)\n",
      "(48744, 1153)\n",
      "--------\n"
     ]
    },
    {
     "name": "stderr",
     "output_type": "stream",
     "text": [
      "\r",
      "66it [08:56,  8.13s/it]"
     ]
    },
    {
     "name": "stdout",
     "output_type": "stream",
     "text": [
      "Wei_agg_mean_FLAG_WORK_PHONE_x==!==NAME_FAMILY_STATUS_x\n",
      "(307511, 1154)\n",
      "(48744, 1153)\n",
      "--------\n"
     ]
    },
    {
     "name": "stderr",
     "output_type": "stream",
     "text": [
      "\r",
      "67it [09:04,  8.13s/it]"
     ]
    },
    {
     "name": "stdout",
     "output_type": "stream",
     "text": [
      "Wei_agg_mean_FLAG_WORK_PHONE_x==!==Wei_CNT_NOT_TERMINATION\n",
      "(307511, 1154)\n",
      "(48744, 1153)\n",
      "--------\n"
     ]
    },
    {
     "name": "stderr",
     "output_type": "stream",
     "text": [
      "\r",
      "68it [09:12,  8.13s/it]"
     ]
    },
    {
     "name": "stdout",
     "output_type": "stream",
     "text": [
      "Wei_agg_mean_FLAG_WORK_PHONE_x==!==Wei_IF_TERMINATION_LAST\n",
      "(307511, 1154)\n",
      "(48744, 1153)\n",
      "--------\n"
     ]
    },
    {
     "name": "stderr",
     "output_type": "stream",
     "text": [
      "\r",
      "69it [09:20,  8.13s/it]"
     ]
    },
    {
     "name": "stdout",
     "output_type": "stream",
     "text": [
      "Wei_agg_mean_FLAG_WORK_PHONE_x==!==BU_CREDIT_ACTIVE_category\n",
      "(307511, 1154)\n",
      "(48744, 1153)\n",
      "--------\n"
     ]
    },
    {
     "name": "stderr",
     "output_type": "stream",
     "text": [
      "\r",
      "70it [09:28,  8.13s/it]"
     ]
    },
    {
     "name": "stdout",
     "output_type": "stream",
     "text": [
      "Wei_agg_mean_FLAG_WORK_PHONE_x==!==BU_CREDIT_CURRENCY_category\n",
      "(307511, 1154)\n",
      "(48744, 1153)\n",
      "--------\n"
     ]
    },
    {
     "name": "stderr",
     "output_type": "stream",
     "text": [
      "\r",
      "71it [09:37,  8.13s/it]"
     ]
    },
    {
     "name": "stdout",
     "output_type": "stream",
     "text": [
      "Wei_agg_mean_FLAG_WORK_PHONE_x==!==BU_CREDIT_TYPE_category\n",
      "(307511, 1154)\n",
      "(48744, 1153)\n",
      "--------\n"
     ]
    },
    {
     "name": "stderr",
     "output_type": "stream",
     "text": [
      "\r",
      "72it [09:45,  8.13s/it]"
     ]
    },
    {
     "name": "stdout",
     "output_type": "stream",
     "text": [
      "Wei_agg_mean_FLAG_WORK_PHONE_x==!==BU_CNT_CREDIT_PROLONG_SUM\n",
      "(307511, 1154)\n",
      "(48744, 1153)\n",
      "--------\n"
     ]
    },
    {
     "name": "stderr",
     "output_type": "stream",
     "text": [
      "\r",
      "73it [09:53,  8.13s/it]"
     ]
    },
    {
     "name": "stdout",
     "output_type": "stream",
     "text": [
      "Wei_agg_mean_FLAG_WORK_PHONE_x==!==Bureau_balance_Last_STATUS_category\n",
      "(307511, 1154)\n",
      "(48744, 1153)\n",
      "--------\n"
     ]
    },
    {
     "name": "stderr",
     "output_type": "stream",
     "text": [
      "\r",
      "74it [10:01,  8.13s/it]"
     ]
    },
    {
     "name": "stdout",
     "output_type": "stream",
     "text": [
      "Wei_agg_mean_FLAG_WORK_PHONE_x==!==cnt_cash_30days_late\n",
      "(307511, 1154)\n",
      "(48744, 1153)\n",
      "--------\n"
     ]
    },
    {
     "name": "stderr",
     "output_type": "stream",
     "text": [
      "\r",
      "75it [10:09,  8.13s/it]"
     ]
    },
    {
     "name": "stdout",
     "output_type": "stream",
     "text": [
      "Wei_agg_mean_FLAG_WORK_PHONE_x==!==cnt_cons_30days_late\n",
      "(307511, 1154)\n",
      "(48744, 1153)\n",
      "--------\n"
     ]
    },
    {
     "name": "stderr",
     "output_type": "stream",
     "text": [
      "\r",
      "76it [10:17,  8.13s/it]"
     ]
    },
    {
     "name": "stdout",
     "output_type": "stream",
     "text": [
      "Wei_agg_mean_unique_CODE_GENDER_NAME_EDUCATION_TYPE==!==REG_CITY_NOT_LIVE_CITY_x\n",
      "(307511, 1154)\n",
      "(48744, 1153)\n",
      "--------\n"
     ]
    },
    {
     "name": "stderr",
     "output_type": "stream",
     "text": [
      "\r",
      "77it [10:25,  8.13s/it]"
     ]
    },
    {
     "name": "stdout",
     "output_type": "stream",
     "text": [
      "Wei_agg_mean_unique_CODE_GENDER_NAME_EDUCATION_TYPE==!==ORGANIZATION_TYPE_Self-employed\n",
      "(307511, 1154)\n",
      "(48744, 1153)\n",
      "--------\n"
     ]
    },
    {
     "name": "stderr",
     "output_type": "stream",
     "text": [
      "\r",
      "78it [10:33,  8.13s/it]"
     ]
    },
    {
     "name": "stdout",
     "output_type": "stream",
     "text": [
      "Wei_agg_mean_unique_CODE_GENDER_NAME_EDUCATION_TYPE==!==ORGANIZATION_TYPE_School\n",
      "(307511, 1154)\n",
      "(48744, 1153)\n",
      "--------\n"
     ]
    },
    {
     "name": "stderr",
     "output_type": "stream",
     "text": [
      "\r",
      "79it [10:42,  8.13s/it]"
     ]
    },
    {
     "name": "stdout",
     "output_type": "stream",
     "text": [
      "Wei_agg_mean_unique_CODE_GENDER_NAME_EDUCATION_TYPE==!==OCCUPATION_TYPE_Core staff\n",
      "(307511, 1154)\n",
      "(48744, 1153)\n",
      "--------\n"
     ]
    },
    {
     "name": "stderr",
     "output_type": "stream",
     "text": [
      "\r",
      "80it [10:50,  8.13s/it]"
     ]
    },
    {
     "name": "stdout",
     "output_type": "stream",
     "text": [
      "Wei_agg_mean_unique_CODE_GENDER_NAME_EDUCATION_TYPE==!==ORGANIZATION_TYPE_Transport: type 3\n",
      "(307511, 1154)\n",
      "(48744, 1153)\n",
      "--------\n"
     ]
    },
    {
     "name": "stderr",
     "output_type": "stream",
     "text": [
      "\r",
      "81it [10:58,  8.12s/it]"
     ]
    },
    {
     "name": "stdout",
     "output_type": "stream",
     "text": [
      "Wei_agg_mean_unique_CODE_GENDER_NAME_EDUCATION_TYPE==!==ORGANIZATION_TYPE_Military\n",
      "(307511, 1154)\n",
      "(48744, 1153)\n",
      "--------\n"
     ]
    },
    {
     "name": "stderr",
     "output_type": "stream",
     "text": [
      "\r",
      "82it [11:06,  8.12s/it]"
     ]
    },
    {
     "name": "stdout",
     "output_type": "stream",
     "text": [
      "Wei_agg_mean_unique_CODE_GENDER_NAME_EDUCATION_TYPE==!==ORGANIZATION_TYPE_Construction\n",
      "(307511, 1154)\n",
      "(48744, 1153)\n",
      "--------\n"
     ]
    },
    {
     "name": "stderr",
     "output_type": "stream",
     "text": [
      "\r",
      "83it [11:14,  8.12s/it]"
     ]
    },
    {
     "name": "stdout",
     "output_type": "stream",
     "text": [
      "Wei_agg_mean_unique_CODE_GENDER_NAME_EDUCATION_TYPE==!==WALLSMATERIAL_MODE_Stone, brick\n",
      "(307511, 1154)\n",
      "(48744, 1153)\n",
      "--------\n"
     ]
    },
    {
     "name": "stderr",
     "output_type": "stream",
     "text": [
      "\r",
      "84it [11:22,  8.12s/it]"
     ]
    },
    {
     "name": "stdout",
     "output_type": "stream",
     "text": [
      "Wei_agg_mean_unique_CODE_GENDER_NAME_EDUCATION_TYPE==!==NAME_INCOME_TYPE_State servant\n",
      "(307511, 1154)\n",
      "(48744, 1153)\n",
      "--------\n"
     ]
    },
    {
     "name": "stderr",
     "output_type": "stream",
     "text": [
      "\r",
      "85it [11:30,  8.12s/it]"
     ]
    },
    {
     "name": "stdout",
     "output_type": "stream",
     "text": [
      "Wei_agg_mean_unique_CODE_GENDER_NAME_EDUCATION_TYPE==!==OCCUPATION_TYPE_Drivers\n",
      "(307511, 1154)\n",
      "(48744, 1153)\n",
      "--------\n"
     ]
    },
    {
     "name": "stderr",
     "output_type": "stream",
     "text": [
      "\r",
      "86it [11:38,  8.12s/it]"
     ]
    },
    {
     "name": "stdout",
     "output_type": "stream",
     "text": [
      "Wei_agg_mean_unique_CODE_GENDER_NAME_EDUCATION_TYPE==!==OCCUPATION_TYPE_Medicine staff\n",
      "(307511, 1154)\n",
      "(48744, 1153)\n",
      "--------\n"
     ]
    },
    {
     "name": "stderr",
     "output_type": "stream",
     "text": [
      "\r",
      "87it [11:46,  8.12s/it]"
     ]
    },
    {
     "name": "stdout",
     "output_type": "stream",
     "text": [
      "Wei_agg_mean_unique_CODE_GENDER_NAME_EDUCATION_TYPE==!==NAME_HOUSING_TYPE_x\n",
      "(307511, 1154)\n",
      "(48744, 1153)\n",
      "--------\n"
     ]
    },
    {
     "name": "stderr",
     "output_type": "stream",
     "text": [
      "\r",
      "88it [11:54,  8.12s/it]"
     ]
    },
    {
     "name": "stdout",
     "output_type": "stream",
     "text": [
      "Wei_agg_mean_unique_CODE_GENDER_NAME_EDUCATION_TYPE==!==CONTACT\n",
      "(307511, 1154)\n",
      "(48744, 1153)\n",
      "--------\n"
     ]
    },
    {
     "name": "stderr",
     "output_type": "stream",
     "text": [
      "\r",
      "89it [12:02,  8.12s/it]"
     ]
    },
    {
     "name": "stdout",
     "output_type": "stream",
     "text": [
      "Wei_agg_mean_unique_CODE_GENDER_NAME_EDUCATION_TYPE==!==NAME_FAMILY_STATUS_x\n",
      "(307511, 1154)\n",
      "(48744, 1153)\n",
      "--------\n"
     ]
    },
    {
     "name": "stderr",
     "output_type": "stream",
     "text": [
      "\r",
      "90it [12:10,  8.11s/it]"
     ]
    },
    {
     "name": "stdout",
     "output_type": "stream",
     "text": [
      "Wei_agg_mean_unique_CODE_GENDER_NAME_EDUCATION_TYPE==!==Wei_CNT_NOT_TERMINATION\n",
      "(307511, 1154)\n",
      "(48744, 1153)\n",
      "--------\n"
     ]
    },
    {
     "name": "stderr",
     "output_type": "stream",
     "text": [
      "\r",
      "91it [12:18,  8.11s/it]"
     ]
    },
    {
     "name": "stdout",
     "output_type": "stream",
     "text": [
      "Wei_agg_mean_unique_CODE_GENDER_NAME_EDUCATION_TYPE==!==Wei_IF_TERMINATION_LAST\n",
      "(307511, 1154)\n",
      "(48744, 1153)\n",
      "--------\n"
     ]
    },
    {
     "name": "stderr",
     "output_type": "stream",
     "text": [
      "\r",
      "92it [12:26,  8.11s/it]"
     ]
    },
    {
     "name": "stdout",
     "output_type": "stream",
     "text": [
      "Wei_agg_mean_unique_CODE_GENDER_NAME_EDUCATION_TYPE==!==BU_CREDIT_ACTIVE_category\n",
      "(307511, 1154)\n",
      "(48744, 1153)\n",
      "--------\n"
     ]
    },
    {
     "name": "stderr",
     "output_type": "stream",
     "text": [
      "\r",
      "93it [12:34,  8.11s/it]"
     ]
    },
    {
     "name": "stdout",
     "output_type": "stream",
     "text": [
      "Wei_agg_mean_unique_CODE_GENDER_NAME_EDUCATION_TYPE==!==BU_CREDIT_CURRENCY_category\n",
      "(307511, 1154)\n",
      "(48744, 1153)\n",
      "--------\n"
     ]
    },
    {
     "name": "stderr",
     "output_type": "stream",
     "text": [
      "\r",
      "94it [12:42,  8.11s/it]"
     ]
    },
    {
     "name": "stdout",
     "output_type": "stream",
     "text": [
      "Wei_agg_mean_unique_CODE_GENDER_NAME_EDUCATION_TYPE==!==BU_CREDIT_TYPE_category\n",
      "(307511, 1154)\n",
      "(48744, 1153)\n",
      "--------\n"
     ]
    },
    {
     "name": "stderr",
     "output_type": "stream",
     "text": [
      "\r",
      "95it [12:50,  8.11s/it]"
     ]
    },
    {
     "name": "stdout",
     "output_type": "stream",
     "text": [
      "Wei_agg_mean_unique_CODE_GENDER_NAME_EDUCATION_TYPE==!==BU_CNT_CREDIT_PROLONG_SUM\n",
      "(307511, 1154)\n",
      "(48744, 1153)\n",
      "--------\n"
     ]
    },
    {
     "name": "stderr",
     "output_type": "stream",
     "text": [
      "\r",
      "96it [12:58,  8.11s/it]"
     ]
    },
    {
     "name": "stdout",
     "output_type": "stream",
     "text": [
      "Wei_agg_mean_unique_CODE_GENDER_NAME_EDUCATION_TYPE==!==Bureau_balance_Last_STATUS_category\n",
      "(307511, 1154)\n",
      "(48744, 1153)\n",
      "--------\n"
     ]
    },
    {
     "name": "stderr",
     "output_type": "stream",
     "text": [
      "\r",
      "97it [13:06,  8.11s/it]"
     ]
    },
    {
     "name": "stdout",
     "output_type": "stream",
     "text": [
      "Wei_agg_mean_unique_CODE_GENDER_NAME_EDUCATION_TYPE==!==cnt_cash_30days_late\n",
      "(307511, 1154)\n",
      "(48744, 1153)\n",
      "--------\n"
     ]
    },
    {
     "name": "stderr",
     "output_type": "stream",
     "text": [
      "\r",
      "98it [13:14,  8.11s/it]"
     ]
    },
    {
     "name": "stdout",
     "output_type": "stream",
     "text": [
      "Wei_agg_mean_unique_CODE_GENDER_NAME_EDUCATION_TYPE==!==cnt_cons_30days_late\n",
      "(307511, 1154)\n",
      "(48744, 1153)\n",
      "--------\n"
     ]
    },
    {
     "name": "stderr",
     "output_type": "stream",
     "text": [
      "\r",
      "99it [13:22,  8.11s/it]"
     ]
    },
    {
     "name": "stdout",
     "output_type": "stream",
     "text": [
      "Wei_agg_mean_REG_CITY_NOT_LIVE_CITY_x==!==ORGANIZATION_TYPE_Self-employed\n",
      "(307511, 1154)\n",
      "(48744, 1153)\n",
      "--------\n"
     ]
    },
    {
     "name": "stderr",
     "output_type": "stream",
     "text": [
      "\r",
      "100it [13:30,  8.11s/it]"
     ]
    },
    {
     "name": "stdout",
     "output_type": "stream",
     "text": [
      "Wei_agg_mean_REG_CITY_NOT_LIVE_CITY_x==!==ORGANIZATION_TYPE_School\n",
      "(307511, 1154)\n",
      "(48744, 1153)\n",
      "--------\n"
     ]
    },
    {
     "name": "stderr",
     "output_type": "stream",
     "text": [
      "\r",
      "101it [13:38,  8.10s/it]"
     ]
    },
    {
     "name": "stdout",
     "output_type": "stream",
     "text": [
      "Wei_agg_mean_REG_CITY_NOT_LIVE_CITY_x==!==OCCUPATION_TYPE_Core staff\n",
      "(307511, 1154)\n",
      "(48744, 1153)\n",
      "--------\n"
     ]
    },
    {
     "name": "stderr",
     "output_type": "stream",
     "text": [
      "\r",
      "102it [13:46,  8.10s/it]"
     ]
    },
    {
     "name": "stdout",
     "output_type": "stream",
     "text": [
      "Wei_agg_mean_REG_CITY_NOT_LIVE_CITY_x==!==ORGANIZATION_TYPE_Transport: type 3\n",
      "(307511, 1154)\n",
      "(48744, 1153)\n",
      "--------\n"
     ]
    },
    {
     "name": "stderr",
     "output_type": "stream",
     "text": [
      "\r",
      "103it [13:54,  8.10s/it]"
     ]
    },
    {
     "name": "stdout",
     "output_type": "stream",
     "text": [
      "Wei_agg_mean_REG_CITY_NOT_LIVE_CITY_x==!==ORGANIZATION_TYPE_Military\n",
      "(307511, 1154)\n",
      "(48744, 1153)\n",
      "--------\n"
     ]
    },
    {
     "name": "stderr",
     "output_type": "stream",
     "text": [
      "\r",
      "104it [14:02,  8.10s/it]"
     ]
    },
    {
     "name": "stdout",
     "output_type": "stream",
     "text": [
      "Wei_agg_mean_REG_CITY_NOT_LIVE_CITY_x==!==ORGANIZATION_TYPE_Construction\n",
      "(307511, 1154)\n",
      "(48744, 1153)\n",
      "--------\n"
     ]
    },
    {
     "name": "stderr",
     "output_type": "stream",
     "text": [
      "\r",
      "105it [14:10,  8.10s/it]"
     ]
    },
    {
     "name": "stdout",
     "output_type": "stream",
     "text": [
      "Wei_agg_mean_REG_CITY_NOT_LIVE_CITY_x==!==WALLSMATERIAL_MODE_Stone, brick\n",
      "(307511, 1154)\n",
      "(48744, 1153)\n",
      "--------\n"
     ]
    },
    {
     "name": "stderr",
     "output_type": "stream",
     "text": [
      "\r",
      "106it [14:18,  8.10s/it]"
     ]
    },
    {
     "name": "stdout",
     "output_type": "stream",
     "text": [
      "Wei_agg_mean_REG_CITY_NOT_LIVE_CITY_x==!==NAME_INCOME_TYPE_State servant\n",
      "(307511, 1154)\n",
      "(48744, 1153)\n",
      "--------\n"
     ]
    },
    {
     "name": "stderr",
     "output_type": "stream",
     "text": [
      "\r",
      "107it [14:26,  8.10s/it]"
     ]
    },
    {
     "name": "stdout",
     "output_type": "stream",
     "text": [
      "Wei_agg_mean_REG_CITY_NOT_LIVE_CITY_x==!==OCCUPATION_TYPE_Drivers\n",
      "(307511, 1154)\n",
      "(48744, 1153)\n",
      "--------\n"
     ]
    },
    {
     "name": "stderr",
     "output_type": "stream",
     "text": [
      "\r",
      "108it [14:34,  8.10s/it]"
     ]
    },
    {
     "name": "stdout",
     "output_type": "stream",
     "text": [
      "Wei_agg_mean_REG_CITY_NOT_LIVE_CITY_x==!==OCCUPATION_TYPE_Medicine staff\n",
      "(307511, 1154)\n",
      "(48744, 1153)\n",
      "--------\n"
     ]
    },
    {
     "name": "stderr",
     "output_type": "stream",
     "text": [
      "\r",
      "109it [14:42,  8.10s/it]"
     ]
    },
    {
     "name": "stdout",
     "output_type": "stream",
     "text": [
      "Wei_agg_mean_REG_CITY_NOT_LIVE_CITY_x==!==NAME_HOUSING_TYPE_x\n",
      "(307511, 1154)\n",
      "(48744, 1153)\n",
      "--------\n"
     ]
    },
    {
     "name": "stderr",
     "output_type": "stream",
     "text": [
      "\r",
      "110it [14:50,  8.10s/it]"
     ]
    },
    {
     "name": "stdout",
     "output_type": "stream",
     "text": [
      "Wei_agg_mean_REG_CITY_NOT_LIVE_CITY_x==!==CONTACT\n",
      "(307511, 1154)\n",
      "(48744, 1153)\n",
      "--------\n"
     ]
    },
    {
     "name": "stderr",
     "output_type": "stream",
     "text": [
      "\r",
      "111it [14:58,  8.10s/it]"
     ]
    },
    {
     "name": "stdout",
     "output_type": "stream",
     "text": [
      "Wei_agg_mean_REG_CITY_NOT_LIVE_CITY_x==!==NAME_FAMILY_STATUS_x\n",
      "(307511, 1154)\n",
      "(48744, 1153)\n",
      "--------\n"
     ]
    },
    {
     "name": "stderr",
     "output_type": "stream",
     "text": [
      "\r",
      "112it [15:06,  8.10s/it]"
     ]
    },
    {
     "name": "stdout",
     "output_type": "stream",
     "text": [
      "Wei_agg_mean_REG_CITY_NOT_LIVE_CITY_x==!==Wei_CNT_NOT_TERMINATION\n",
      "(307511, 1154)\n",
      "(48744, 1153)\n",
      "--------\n"
     ]
    },
    {
     "name": "stderr",
     "output_type": "stream",
     "text": [
      "\r",
      "113it [15:14,  8.10s/it]"
     ]
    },
    {
     "name": "stdout",
     "output_type": "stream",
     "text": [
      "Wei_agg_mean_REG_CITY_NOT_LIVE_CITY_x==!==Wei_IF_TERMINATION_LAST\n",
      "(307511, 1154)\n",
      "(48744, 1153)\n",
      "--------\n"
     ]
    },
    {
     "name": "stderr",
     "output_type": "stream",
     "text": [
      "\r",
      "114it [15:22,  8.10s/it]"
     ]
    },
    {
     "name": "stdout",
     "output_type": "stream",
     "text": [
      "Wei_agg_mean_REG_CITY_NOT_LIVE_CITY_x==!==BU_CREDIT_ACTIVE_category\n",
      "(307511, 1154)\n",
      "(48744, 1153)\n",
      "--------\n"
     ]
    },
    {
     "name": "stderr",
     "output_type": "stream",
     "text": [
      "\r",
      "115it [15:31,  8.10s/it]"
     ]
    },
    {
     "name": "stdout",
     "output_type": "stream",
     "text": [
      "Wei_agg_mean_REG_CITY_NOT_LIVE_CITY_x==!==BU_CREDIT_CURRENCY_category\n",
      "(307511, 1154)\n",
      "(48744, 1153)\n",
      "--------\n"
     ]
    },
    {
     "name": "stderr",
     "output_type": "stream",
     "text": [
      "\r",
      "116it [15:39,  8.10s/it]"
     ]
    },
    {
     "name": "stdout",
     "output_type": "stream",
     "text": [
      "Wei_agg_mean_REG_CITY_NOT_LIVE_CITY_x==!==BU_CREDIT_TYPE_category\n",
      "(307511, 1154)\n",
      "(48744, 1153)\n",
      "--------\n"
     ]
    },
    {
     "name": "stderr",
     "output_type": "stream",
     "text": [
      "\r",
      "117it [15:47,  8.10s/it]"
     ]
    },
    {
     "name": "stdout",
     "output_type": "stream",
     "text": [
      "Wei_agg_mean_REG_CITY_NOT_LIVE_CITY_x==!==BU_CNT_CREDIT_PROLONG_SUM\n",
      "(307511, 1154)\n",
      "(48744, 1153)\n",
      "--------\n"
     ]
    },
    {
     "name": "stderr",
     "output_type": "stream",
     "text": [
      "\r",
      "118it [15:55,  8.10s/it]"
     ]
    },
    {
     "name": "stdout",
     "output_type": "stream",
     "text": [
      "Wei_agg_mean_REG_CITY_NOT_LIVE_CITY_x==!==Bureau_balance_Last_STATUS_category\n",
      "(307511, 1154)\n",
      "(48744, 1153)\n",
      "--------\n"
     ]
    },
    {
     "name": "stderr",
     "output_type": "stream",
     "text": [
      "\r",
      "119it [16:03,  8.09s/it]"
     ]
    },
    {
     "name": "stdout",
     "output_type": "stream",
     "text": [
      "Wei_agg_mean_REG_CITY_NOT_LIVE_CITY_x==!==cnt_cash_30days_late\n",
      "(307511, 1154)\n",
      "(48744, 1153)\n",
      "--------\n"
     ]
    },
    {
     "name": "stderr",
     "output_type": "stream",
     "text": [
      "\r",
      "120it [16:11,  8.09s/it]"
     ]
    },
    {
     "name": "stdout",
     "output_type": "stream",
     "text": [
      "Wei_agg_mean_REG_CITY_NOT_LIVE_CITY_x==!==cnt_cons_30days_late\n",
      "(307511, 1154)\n",
      "(48744, 1153)\n",
      "--------\n"
     ]
    },
    {
     "name": "stderr",
     "output_type": "stream",
     "text": [
      "\r",
      "121it [16:19,  8.09s/it]"
     ]
    },
    {
     "name": "stdout",
     "output_type": "stream",
     "text": [
      "Wei_agg_mean_ORGANIZATION_TYPE_Self-employed==!==ORGANIZATION_TYPE_School\n",
      "(307511, 1154)\n",
      "(48744, 1153)\n",
      "--------\n"
     ]
    },
    {
     "name": "stderr",
     "output_type": "stream",
     "text": [
      "\r",
      "122it [16:27,  8.09s/it]"
     ]
    },
    {
     "name": "stdout",
     "output_type": "stream",
     "text": [
      "Wei_agg_mean_ORGANIZATION_TYPE_Self-employed==!==OCCUPATION_TYPE_Core staff\n",
      "(307511, 1154)\n",
      "(48744, 1153)\n",
      "--------\n"
     ]
    },
    {
     "name": "stderr",
     "output_type": "stream",
     "text": [
      "\r",
      "123it [16:35,  8.09s/it]"
     ]
    },
    {
     "name": "stdout",
     "output_type": "stream",
     "text": [
      "Wei_agg_mean_ORGANIZATION_TYPE_Self-employed==!==ORGANIZATION_TYPE_Transport: type 3\n",
      "(307511, 1154)\n",
      "(48744, 1153)\n",
      "--------\n"
     ]
    },
    {
     "name": "stderr",
     "output_type": "stream",
     "text": [
      "\r",
      "124it [16:43,  8.09s/it]"
     ]
    },
    {
     "name": "stdout",
     "output_type": "stream",
     "text": [
      "Wei_agg_mean_ORGANIZATION_TYPE_Self-employed==!==ORGANIZATION_TYPE_Military\n",
      "(307511, 1154)\n",
      "(48744, 1153)\n",
      "--------\n"
     ]
    },
    {
     "name": "stderr",
     "output_type": "stream",
     "text": [
      "\r",
      "125it [16:51,  8.09s/it]"
     ]
    },
    {
     "name": "stdout",
     "output_type": "stream",
     "text": [
      "Wei_agg_mean_ORGANIZATION_TYPE_Self-employed==!==ORGANIZATION_TYPE_Construction\n",
      "(307511, 1154)\n",
      "(48744, 1153)\n",
      "--------\n"
     ]
    },
    {
     "name": "stderr",
     "output_type": "stream",
     "text": [
      "\r",
      "126it [16:59,  8.09s/it]"
     ]
    },
    {
     "name": "stdout",
     "output_type": "stream",
     "text": [
      "Wei_agg_mean_ORGANIZATION_TYPE_Self-employed==!==WALLSMATERIAL_MODE_Stone, brick\n",
      "(307511, 1154)\n",
      "(48744, 1153)\n",
      "--------\n"
     ]
    },
    {
     "name": "stderr",
     "output_type": "stream",
     "text": [
      "\r",
      "127it [17:07,  8.09s/it]"
     ]
    },
    {
     "name": "stdout",
     "output_type": "stream",
     "text": [
      "Wei_agg_mean_ORGANIZATION_TYPE_Self-employed==!==NAME_INCOME_TYPE_State servant\n",
      "(307511, 1154)\n",
      "(48744, 1153)\n",
      "--------\n"
     ]
    },
    {
     "name": "stderr",
     "output_type": "stream",
     "text": [
      "\r",
      "128it [17:15,  8.09s/it]"
     ]
    },
    {
     "name": "stdout",
     "output_type": "stream",
     "text": [
      "Wei_agg_mean_ORGANIZATION_TYPE_Self-employed==!==OCCUPATION_TYPE_Drivers\n",
      "(307511, 1154)\n",
      "(48744, 1153)\n",
      "--------\n"
     ]
    },
    {
     "name": "stderr",
     "output_type": "stream",
     "text": [
      "\r",
      "129it [17:23,  8.09s/it]"
     ]
    },
    {
     "name": "stdout",
     "output_type": "stream",
     "text": [
      "Wei_agg_mean_ORGANIZATION_TYPE_Self-employed==!==OCCUPATION_TYPE_Medicine staff\n",
      "(307511, 1154)\n",
      "(48744, 1153)\n",
      "--------\n"
     ]
    },
    {
     "name": "stderr",
     "output_type": "stream",
     "text": [
      "\r",
      "130it [17:32,  8.09s/it]"
     ]
    },
    {
     "name": "stdout",
     "output_type": "stream",
     "text": [
      "Wei_agg_mean_ORGANIZATION_TYPE_Self-employed==!==NAME_HOUSING_TYPE_x\n",
      "(307511, 1154)\n",
      "(48744, 1153)\n",
      "--------\n"
     ]
    },
    {
     "name": "stderr",
     "output_type": "stream",
     "text": [
      "\r",
      "131it [17:40,  8.09s/it]"
     ]
    },
    {
     "name": "stdout",
     "output_type": "stream",
     "text": [
      "Wei_agg_mean_ORGANIZATION_TYPE_Self-employed==!==CONTACT\n",
      "(307511, 1154)\n",
      "(48744, 1153)\n",
      "--------\n"
     ]
    },
    {
     "name": "stderr",
     "output_type": "stream",
     "text": [
      "\r",
      "132it [17:48,  8.09s/it]"
     ]
    },
    {
     "name": "stdout",
     "output_type": "stream",
     "text": [
      "Wei_agg_mean_ORGANIZATION_TYPE_Self-employed==!==NAME_FAMILY_STATUS_x\n",
      "(307511, 1154)\n",
      "(48744, 1153)\n",
      "--------\n"
     ]
    },
    {
     "name": "stderr",
     "output_type": "stream",
     "text": [
      "\r",
      "133it [17:56,  8.09s/it]"
     ]
    },
    {
     "name": "stdout",
     "output_type": "stream",
     "text": [
      "Wei_agg_mean_ORGANIZATION_TYPE_Self-employed==!==Wei_CNT_NOT_TERMINATION\n",
      "(307511, 1154)\n",
      "(48744, 1153)\n",
      "--------\n"
     ]
    },
    {
     "name": "stderr",
     "output_type": "stream",
     "text": [
      "\r",
      "134it [18:04,  8.09s/it]"
     ]
    },
    {
     "name": "stdout",
     "output_type": "stream",
     "text": [
      "Wei_agg_mean_ORGANIZATION_TYPE_Self-employed==!==Wei_IF_TERMINATION_LAST\n",
      "(307511, 1154)\n",
      "(48744, 1153)\n",
      "--------\n"
     ]
    },
    {
     "name": "stderr",
     "output_type": "stream",
     "text": [
      "\r",
      "135it [18:12,  8.09s/it]"
     ]
    },
    {
     "name": "stdout",
     "output_type": "stream",
     "text": [
      "Wei_agg_mean_ORGANIZATION_TYPE_Self-employed==!==BU_CREDIT_ACTIVE_category\n",
      "(307511, 1154)\n",
      "(48744, 1153)\n",
      "--------\n"
     ]
    },
    {
     "name": "stderr",
     "output_type": "stream",
     "text": [
      "\r",
      "136it [18:20,  8.09s/it]"
     ]
    },
    {
     "name": "stdout",
     "output_type": "stream",
     "text": [
      "Wei_agg_mean_ORGANIZATION_TYPE_Self-employed==!==BU_CREDIT_CURRENCY_category\n",
      "(307511, 1154)\n",
      "(48744, 1153)\n",
      "--------\n"
     ]
    },
    {
     "name": "stderr",
     "output_type": "stream",
     "text": [
      "\r",
      "137it [18:28,  8.09s/it]"
     ]
    },
    {
     "name": "stdout",
     "output_type": "stream",
     "text": [
      "Wei_agg_mean_ORGANIZATION_TYPE_Self-employed==!==BU_CREDIT_TYPE_category\n",
      "(307511, 1154)\n",
      "(48744, 1153)\n",
      "--------\n"
     ]
    },
    {
     "name": "stderr",
     "output_type": "stream",
     "text": [
      "\r",
      "138it [18:36,  8.09s/it]"
     ]
    },
    {
     "name": "stdout",
     "output_type": "stream",
     "text": [
      "Wei_agg_mean_ORGANIZATION_TYPE_Self-employed==!==BU_CNT_CREDIT_PROLONG_SUM\n",
      "(307511, 1154)\n",
      "(48744, 1153)\n",
      "--------\n"
     ]
    },
    {
     "name": "stderr",
     "output_type": "stream",
     "text": [
      "\r",
      "139it [18:44,  8.09s/it]"
     ]
    },
    {
     "name": "stdout",
     "output_type": "stream",
     "text": [
      "Wei_agg_mean_ORGANIZATION_TYPE_Self-employed==!==Bureau_balance_Last_STATUS_category\n",
      "(307511, 1154)\n",
      "(48744, 1153)\n",
      "--------\n"
     ]
    },
    {
     "name": "stderr",
     "output_type": "stream",
     "text": [
      "\r",
      "140it [18:52,  8.09s/it]"
     ]
    },
    {
     "name": "stdout",
     "output_type": "stream",
     "text": [
      "Wei_agg_mean_ORGANIZATION_TYPE_Self-employed==!==cnt_cash_30days_late\n",
      "(307511, 1154)\n",
      "(48744, 1153)\n",
      "--------\n"
     ]
    },
    {
     "name": "stderr",
     "output_type": "stream",
     "text": [
      "\r",
      "141it [19:00,  8.09s/it]"
     ]
    },
    {
     "name": "stdout",
     "output_type": "stream",
     "text": [
      "Wei_agg_mean_ORGANIZATION_TYPE_Self-employed==!==cnt_cons_30days_late\n",
      "(307511, 1154)\n",
      "(48744, 1153)\n",
      "--------\n"
     ]
    },
    {
     "name": "stderr",
     "output_type": "stream",
     "text": [
      "\r",
      "142it [19:08,  8.09s/it]"
     ]
    },
    {
     "name": "stdout",
     "output_type": "stream",
     "text": [
      "Wei_agg_mean_ORGANIZATION_TYPE_School==!==OCCUPATION_TYPE_Core staff\n",
      "(307511, 1154)\n",
      "(48744, 1153)\n",
      "--------\n"
     ]
    },
    {
     "name": "stderr",
     "output_type": "stream",
     "text": [
      "\r",
      "143it [19:16,  8.09s/it]"
     ]
    },
    {
     "name": "stdout",
     "output_type": "stream",
     "text": [
      "Wei_agg_mean_ORGANIZATION_TYPE_School==!==ORGANIZATION_TYPE_Transport: type 3\n",
      "(307511, 1154)\n",
      "(48744, 1153)\n",
      "--------\n"
     ]
    },
    {
     "name": "stderr",
     "output_type": "stream",
     "text": [
      "\r",
      "144it [19:24,  8.09s/it]"
     ]
    },
    {
     "name": "stdout",
     "output_type": "stream",
     "text": [
      "Wei_agg_mean_ORGANIZATION_TYPE_School==!==ORGANIZATION_TYPE_Military\n",
      "(307511, 1154)\n",
      "(48744, 1153)\n",
      "--------\n"
     ]
    },
    {
     "name": "stderr",
     "output_type": "stream",
     "text": [
      "\r",
      "145it [19:32,  8.09s/it]"
     ]
    },
    {
     "name": "stdout",
     "output_type": "stream",
     "text": [
      "Wei_agg_mean_ORGANIZATION_TYPE_School==!==ORGANIZATION_TYPE_Construction\n",
      "(307511, 1154)\n",
      "(48744, 1153)\n",
      "--------\n"
     ]
    },
    {
     "name": "stderr",
     "output_type": "stream",
     "text": [
      "\r",
      "146it [19:40,  8.09s/it]"
     ]
    },
    {
     "name": "stdout",
     "output_type": "stream",
     "text": [
      "Wei_agg_mean_ORGANIZATION_TYPE_School==!==WALLSMATERIAL_MODE_Stone, brick\n",
      "(307511, 1154)\n",
      "(48744, 1153)\n",
      "--------\n"
     ]
    },
    {
     "name": "stderr",
     "output_type": "stream",
     "text": [
      "\r",
      "147it [19:49,  8.09s/it]"
     ]
    },
    {
     "name": "stdout",
     "output_type": "stream",
     "text": [
      "Wei_agg_mean_ORGANIZATION_TYPE_School==!==NAME_INCOME_TYPE_State servant\n",
      "(307511, 1154)\n",
      "(48744, 1153)\n",
      "--------\n"
     ]
    },
    {
     "name": "stderr",
     "output_type": "stream",
     "text": [
      "\r",
      "148it [19:57,  8.09s/it]"
     ]
    },
    {
     "name": "stdout",
     "output_type": "stream",
     "text": [
      "Wei_agg_mean_ORGANIZATION_TYPE_School==!==OCCUPATION_TYPE_Drivers\n",
      "(307511, 1154)\n",
      "(48744, 1153)\n",
      "--------\n"
     ]
    },
    {
     "name": "stderr",
     "output_type": "stream",
     "text": [
      "\r",
      "149it [20:05,  8.09s/it]"
     ]
    },
    {
     "name": "stdout",
     "output_type": "stream",
     "text": [
      "Wei_agg_mean_ORGANIZATION_TYPE_School==!==OCCUPATION_TYPE_Medicine staff\n",
      "(307511, 1154)\n",
      "(48744, 1153)\n",
      "--------\n"
     ]
    },
    {
     "name": "stderr",
     "output_type": "stream",
     "text": [
      "\r",
      "150it [20:13,  8.09s/it]"
     ]
    },
    {
     "name": "stdout",
     "output_type": "stream",
     "text": [
      "Wei_agg_mean_ORGANIZATION_TYPE_School==!==NAME_HOUSING_TYPE_x\n",
      "(307511, 1154)\n",
      "(48744, 1153)\n",
      "--------\n"
     ]
    },
    {
     "name": "stderr",
     "output_type": "stream",
     "text": [
      "\r",
      "151it [20:21,  8.09s/it]"
     ]
    },
    {
     "name": "stdout",
     "output_type": "stream",
     "text": [
      "Wei_agg_mean_ORGANIZATION_TYPE_School==!==CONTACT\n",
      "(307511, 1154)\n",
      "(48744, 1153)\n",
      "--------\n"
     ]
    },
    {
     "name": "stderr",
     "output_type": "stream",
     "text": [
      "\r",
      "152it [20:29,  8.09s/it]"
     ]
    },
    {
     "name": "stdout",
     "output_type": "stream",
     "text": [
      "Wei_agg_mean_ORGANIZATION_TYPE_School==!==NAME_FAMILY_STATUS_x\n",
      "(307511, 1154)\n",
      "(48744, 1153)\n",
      "--------\n"
     ]
    },
    {
     "name": "stderr",
     "output_type": "stream",
     "text": [
      "\r",
      "153it [20:37,  8.09s/it]"
     ]
    },
    {
     "name": "stdout",
     "output_type": "stream",
     "text": [
      "Wei_agg_mean_ORGANIZATION_TYPE_School==!==Wei_CNT_NOT_TERMINATION\n",
      "(307511, 1154)\n",
      "(48744, 1153)\n",
      "--------\n"
     ]
    },
    {
     "name": "stderr",
     "output_type": "stream",
     "text": [
      "\r",
      "154it [20:45,  8.09s/it]"
     ]
    },
    {
     "name": "stdout",
     "output_type": "stream",
     "text": [
      "Wei_agg_mean_ORGANIZATION_TYPE_School==!==Wei_IF_TERMINATION_LAST\n",
      "(307511, 1154)\n",
      "(48744, 1153)\n",
      "--------\n"
     ]
    },
    {
     "name": "stderr",
     "output_type": "stream",
     "text": [
      "\r",
      "155it [20:53,  8.09s/it]"
     ]
    },
    {
     "name": "stdout",
     "output_type": "stream",
     "text": [
      "Wei_agg_mean_ORGANIZATION_TYPE_School==!==BU_CREDIT_ACTIVE_category\n",
      "(307511, 1154)\n",
      "(48744, 1153)\n",
      "--------\n"
     ]
    },
    {
     "name": "stderr",
     "output_type": "stream",
     "text": [
      "\r",
      "156it [21:01,  8.09s/it]"
     ]
    },
    {
     "name": "stdout",
     "output_type": "stream",
     "text": [
      "Wei_agg_mean_ORGANIZATION_TYPE_School==!==BU_CREDIT_CURRENCY_category\n",
      "(307511, 1154)\n",
      "(48744, 1153)\n",
      "--------\n"
     ]
    },
    {
     "name": "stderr",
     "output_type": "stream",
     "text": [
      "\r",
      "157it [21:09,  8.09s/it]"
     ]
    },
    {
     "name": "stdout",
     "output_type": "stream",
     "text": [
      "Wei_agg_mean_ORGANIZATION_TYPE_School==!==BU_CREDIT_TYPE_category\n",
      "(307511, 1154)\n",
      "(48744, 1153)\n",
      "--------\n"
     ]
    },
    {
     "name": "stderr",
     "output_type": "stream",
     "text": [
      "\r",
      "158it [21:17,  8.09s/it]"
     ]
    },
    {
     "name": "stdout",
     "output_type": "stream",
     "text": [
      "Wei_agg_mean_ORGANIZATION_TYPE_School==!==BU_CNT_CREDIT_PROLONG_SUM\n",
      "(307511, 1154)\n",
      "(48744, 1153)\n",
      "--------\n"
     ]
    },
    {
     "name": "stderr",
     "output_type": "stream",
     "text": [
      "\r",
      "159it [21:25,  8.09s/it]"
     ]
    },
    {
     "name": "stdout",
     "output_type": "stream",
     "text": [
      "Wei_agg_mean_ORGANIZATION_TYPE_School==!==Bureau_balance_Last_STATUS_category\n",
      "(307511, 1154)\n",
      "(48744, 1153)\n",
      "--------\n"
     ]
    },
    {
     "name": "stderr",
     "output_type": "stream",
     "text": [
      "\r",
      "160it [21:33,  8.09s/it]"
     ]
    },
    {
     "name": "stdout",
     "output_type": "stream",
     "text": [
      "Wei_agg_mean_ORGANIZATION_TYPE_School==!==cnt_cash_30days_late\n",
      "(307511, 1154)\n",
      "(48744, 1153)\n",
      "--------\n"
     ]
    },
    {
     "name": "stderr",
     "output_type": "stream",
     "text": [
      "\r",
      "161it [21:41,  8.09s/it]"
     ]
    },
    {
     "name": "stdout",
     "output_type": "stream",
     "text": [
      "Wei_agg_mean_ORGANIZATION_TYPE_School==!==cnt_cons_30days_late\n",
      "(307511, 1154)\n",
      "(48744, 1153)\n",
      "--------\n"
     ]
    },
    {
     "name": "stderr",
     "output_type": "stream",
     "text": [
      "\r",
      "162it [21:49,  8.08s/it]"
     ]
    },
    {
     "name": "stdout",
     "output_type": "stream",
     "text": [
      "Wei_agg_mean_OCCUPATION_TYPE_Core staff==!==ORGANIZATION_TYPE_Transport: type 3\n",
      "(307511, 1154)\n",
      "(48744, 1153)\n",
      "--------\n"
     ]
    },
    {
     "name": "stderr",
     "output_type": "stream",
     "text": [
      "\r",
      "163it [21:57,  8.08s/it]"
     ]
    },
    {
     "name": "stdout",
     "output_type": "stream",
     "text": [
      "Wei_agg_mean_OCCUPATION_TYPE_Core staff==!==ORGANIZATION_TYPE_Military\n",
      "(307511, 1154)\n",
      "(48744, 1153)\n",
      "--------\n"
     ]
    },
    {
     "name": "stderr",
     "output_type": "stream",
     "text": [
      "\r",
      "164it [22:05,  8.08s/it]"
     ]
    },
    {
     "name": "stdout",
     "output_type": "stream",
     "text": [
      "Wei_agg_mean_OCCUPATION_TYPE_Core staff==!==ORGANIZATION_TYPE_Construction\n",
      "(307511, 1154)\n",
      "(48744, 1153)\n",
      "--------\n"
     ]
    },
    {
     "name": "stderr",
     "output_type": "stream",
     "text": [
      "\r",
      "165it [22:13,  8.08s/it]"
     ]
    },
    {
     "name": "stdout",
     "output_type": "stream",
     "text": [
      "Wei_agg_mean_OCCUPATION_TYPE_Core staff==!==WALLSMATERIAL_MODE_Stone, brick\n",
      "(307511, 1154)\n",
      "(48744, 1153)\n",
      "--------\n"
     ]
    },
    {
     "name": "stderr",
     "output_type": "stream",
     "text": [
      "\r",
      "166it [22:21,  8.08s/it]"
     ]
    },
    {
     "name": "stdout",
     "output_type": "stream",
     "text": [
      "Wei_agg_mean_OCCUPATION_TYPE_Core staff==!==NAME_INCOME_TYPE_State servant\n",
      "(307511, 1154)\n",
      "(48744, 1153)\n",
      "--------\n"
     ]
    },
    {
     "name": "stderr",
     "output_type": "stream",
     "text": [
      "\r",
      "167it [22:30,  8.08s/it]"
     ]
    },
    {
     "name": "stdout",
     "output_type": "stream",
     "text": [
      "Wei_agg_mean_OCCUPATION_TYPE_Core staff==!==OCCUPATION_TYPE_Drivers\n",
      "(307511, 1154)\n",
      "(48744, 1153)\n",
      "--------\n"
     ]
    },
    {
     "name": "stderr",
     "output_type": "stream",
     "text": [
      "\r",
      "168it [22:38,  8.08s/it]"
     ]
    },
    {
     "name": "stdout",
     "output_type": "stream",
     "text": [
      "Wei_agg_mean_OCCUPATION_TYPE_Core staff==!==OCCUPATION_TYPE_Medicine staff\n",
      "(307511, 1154)\n",
      "(48744, 1153)\n",
      "--------\n"
     ]
    },
    {
     "name": "stderr",
     "output_type": "stream",
     "text": [
      "\r",
      "169it [22:46,  8.08s/it]"
     ]
    },
    {
     "name": "stdout",
     "output_type": "stream",
     "text": [
      "Wei_agg_mean_OCCUPATION_TYPE_Core staff==!==NAME_HOUSING_TYPE_x\n",
      "(307511, 1154)\n",
      "(48744, 1153)\n",
      "--------\n"
     ]
    },
    {
     "name": "stderr",
     "output_type": "stream",
     "text": [
      "\r",
      "170it [22:54,  8.08s/it]"
     ]
    },
    {
     "name": "stdout",
     "output_type": "stream",
     "text": [
      "Wei_agg_mean_OCCUPATION_TYPE_Core staff==!==CONTACT\n",
      "(307511, 1154)\n",
      "(48744, 1153)\n",
      "--------\n"
     ]
    },
    {
     "name": "stderr",
     "output_type": "stream",
     "text": [
      "\r",
      "171it [23:02,  8.08s/it]"
     ]
    },
    {
     "name": "stdout",
     "output_type": "stream",
     "text": [
      "Wei_agg_mean_OCCUPATION_TYPE_Core staff==!==NAME_FAMILY_STATUS_x\n",
      "(307511, 1154)\n",
      "(48744, 1153)\n",
      "--------\n"
     ]
    },
    {
     "name": "stderr",
     "output_type": "stream",
     "text": [
      "\r",
      "172it [23:10,  8.08s/it]"
     ]
    },
    {
     "name": "stdout",
     "output_type": "stream",
     "text": [
      "Wei_agg_mean_OCCUPATION_TYPE_Core staff==!==Wei_CNT_NOT_TERMINATION\n",
      "(307511, 1154)\n",
      "(48744, 1153)\n",
      "--------\n"
     ]
    },
    {
     "name": "stderr",
     "output_type": "stream",
     "text": [
      "\r",
      "173it [23:18,  8.08s/it]"
     ]
    },
    {
     "name": "stdout",
     "output_type": "stream",
     "text": [
      "Wei_agg_mean_OCCUPATION_TYPE_Core staff==!==Wei_IF_TERMINATION_LAST\n",
      "(307511, 1154)\n",
      "(48744, 1153)\n",
      "--------\n"
     ]
    },
    {
     "name": "stderr",
     "output_type": "stream",
     "text": [
      "\r",
      "174it [23:26,  8.08s/it]"
     ]
    },
    {
     "name": "stdout",
     "output_type": "stream",
     "text": [
      "Wei_agg_mean_OCCUPATION_TYPE_Core staff==!==BU_CREDIT_ACTIVE_category\n",
      "(307511, 1154)\n",
      "(48744, 1153)\n",
      "--------\n"
     ]
    },
    {
     "name": "stderr",
     "output_type": "stream",
     "text": [
      "\r",
      "175it [23:34,  8.08s/it]"
     ]
    },
    {
     "name": "stdout",
     "output_type": "stream",
     "text": [
      "Wei_agg_mean_OCCUPATION_TYPE_Core staff==!==BU_CREDIT_CURRENCY_category\n",
      "(307511, 1154)\n",
      "(48744, 1153)\n",
      "--------\n"
     ]
    },
    {
     "name": "stderr",
     "output_type": "stream",
     "text": [
      "\r",
      "176it [23:42,  8.08s/it]"
     ]
    },
    {
     "name": "stdout",
     "output_type": "stream",
     "text": [
      "Wei_agg_mean_OCCUPATION_TYPE_Core staff==!==BU_CREDIT_TYPE_category\n",
      "(307511, 1154)\n",
      "(48744, 1153)\n",
      "--------\n"
     ]
    },
    {
     "name": "stderr",
     "output_type": "stream",
     "text": [
      "\r",
      "177it [23:50,  8.08s/it]"
     ]
    },
    {
     "name": "stdout",
     "output_type": "stream",
     "text": [
      "Wei_agg_mean_OCCUPATION_TYPE_Core staff==!==BU_CNT_CREDIT_PROLONG_SUM\n",
      "(307511, 1154)\n",
      "(48744, 1153)\n",
      "--------\n"
     ]
    },
    {
     "name": "stderr",
     "output_type": "stream",
     "text": [
      "\r",
      "178it [23:58,  8.08s/it]"
     ]
    },
    {
     "name": "stdout",
     "output_type": "stream",
     "text": [
      "Wei_agg_mean_OCCUPATION_TYPE_Core staff==!==Bureau_balance_Last_STATUS_category\n",
      "(307511, 1154)\n",
      "(48744, 1153)\n",
      "--------\n"
     ]
    },
    {
     "name": "stderr",
     "output_type": "stream",
     "text": [
      "\r",
      "179it [24:06,  8.08s/it]"
     ]
    },
    {
     "name": "stdout",
     "output_type": "stream",
     "text": [
      "Wei_agg_mean_OCCUPATION_TYPE_Core staff==!==cnt_cash_30days_late\n",
      "(307511, 1154)\n",
      "(48744, 1153)\n",
      "--------\n"
     ]
    },
    {
     "name": "stderr",
     "output_type": "stream",
     "text": [
      "\r",
      "180it [24:14,  8.08s/it]"
     ]
    },
    {
     "name": "stdout",
     "output_type": "stream",
     "text": [
      "Wei_agg_mean_OCCUPATION_TYPE_Core staff==!==cnt_cons_30days_late\n",
      "(307511, 1154)\n",
      "(48744, 1153)\n",
      "--------\n"
     ]
    },
    {
     "name": "stderr",
     "output_type": "stream",
     "text": [
      "\r",
      "181it [24:22,  8.08s/it]"
     ]
    },
    {
     "name": "stdout",
     "output_type": "stream",
     "text": [
      "Wei_agg_mean_ORGANIZATION_TYPE_Transport: type 3==!==ORGANIZATION_TYPE_Military\n",
      "(307511, 1154)\n",
      "(48744, 1153)\n",
      "--------\n"
     ]
    },
    {
     "name": "stderr",
     "output_type": "stream",
     "text": [
      "\r",
      "182it [24:30,  8.08s/it]"
     ]
    },
    {
     "name": "stdout",
     "output_type": "stream",
     "text": [
      "Wei_agg_mean_ORGANIZATION_TYPE_Transport: type 3==!==ORGANIZATION_TYPE_Construction\n",
      "(307511, 1154)\n",
      "(48744, 1153)\n",
      "--------\n"
     ]
    },
    {
     "name": "stderr",
     "output_type": "stream",
     "text": [
      "\r",
      "183it [24:38,  8.08s/it]"
     ]
    },
    {
     "name": "stdout",
     "output_type": "stream",
     "text": [
      "Wei_agg_mean_ORGANIZATION_TYPE_Transport: type 3==!==WALLSMATERIAL_MODE_Stone, brick\n",
      "(307511, 1154)\n",
      "(48744, 1153)\n",
      "--------\n"
     ]
    },
    {
     "name": "stderr",
     "output_type": "stream",
     "text": [
      "\r",
      "184it [24:46,  8.08s/it]"
     ]
    },
    {
     "name": "stdout",
     "output_type": "stream",
     "text": [
      "Wei_agg_mean_ORGANIZATION_TYPE_Transport: type 3==!==NAME_INCOME_TYPE_State servant\n",
      "(307511, 1154)\n",
      "(48744, 1153)\n",
      "--------\n"
     ]
    },
    {
     "name": "stderr",
     "output_type": "stream",
     "text": [
      "\r",
      "185it [24:55,  8.08s/it]"
     ]
    },
    {
     "name": "stdout",
     "output_type": "stream",
     "text": [
      "Wei_agg_mean_ORGANIZATION_TYPE_Transport: type 3==!==OCCUPATION_TYPE_Drivers\n",
      "(307511, 1154)\n",
      "(48744, 1153)\n",
      "--------\n"
     ]
    },
    {
     "name": "stderr",
     "output_type": "stream",
     "text": [
      "\r",
      "186it [25:03,  8.08s/it]"
     ]
    },
    {
     "name": "stdout",
     "output_type": "stream",
     "text": [
      "Wei_agg_mean_ORGANIZATION_TYPE_Transport: type 3==!==OCCUPATION_TYPE_Medicine staff\n",
      "(307511, 1154)\n",
      "(48744, 1153)\n",
      "--------\n"
     ]
    },
    {
     "name": "stderr",
     "output_type": "stream",
     "text": [
      "\r",
      "187it [25:11,  8.08s/it]"
     ]
    },
    {
     "name": "stdout",
     "output_type": "stream",
     "text": [
      "Wei_agg_mean_ORGANIZATION_TYPE_Transport: type 3==!==NAME_HOUSING_TYPE_x\n",
      "(307511, 1154)\n",
      "(48744, 1153)\n",
      "--------\n"
     ]
    },
    {
     "name": "stderr",
     "output_type": "stream",
     "text": [
      "\r",
      "188it [25:19,  8.08s/it]"
     ]
    },
    {
     "name": "stdout",
     "output_type": "stream",
     "text": [
      "Wei_agg_mean_ORGANIZATION_TYPE_Transport: type 3==!==CONTACT\n",
      "(307511, 1154)\n",
      "(48744, 1153)\n",
      "--------\n"
     ]
    },
    {
     "name": "stderr",
     "output_type": "stream",
     "text": [
      "\r",
      "189it [25:27,  8.08s/it]"
     ]
    },
    {
     "name": "stdout",
     "output_type": "stream",
     "text": [
      "Wei_agg_mean_ORGANIZATION_TYPE_Transport: type 3==!==NAME_FAMILY_STATUS_x\n",
      "(307511, 1154)\n",
      "(48744, 1153)\n",
      "--------\n"
     ]
    },
    {
     "name": "stderr",
     "output_type": "stream",
     "text": [
      "\r",
      "190it [25:35,  8.08s/it]"
     ]
    },
    {
     "name": "stdout",
     "output_type": "stream",
     "text": [
      "Wei_agg_mean_ORGANIZATION_TYPE_Transport: type 3==!==Wei_CNT_NOT_TERMINATION\n",
      "(307511, 1154)\n",
      "(48744, 1153)\n",
      "--------\n"
     ]
    },
    {
     "name": "stderr",
     "output_type": "stream",
     "text": [
      "\r",
      "191it [25:43,  8.08s/it]"
     ]
    },
    {
     "name": "stdout",
     "output_type": "stream",
     "text": [
      "Wei_agg_mean_ORGANIZATION_TYPE_Transport: type 3==!==Wei_IF_TERMINATION_LAST\n",
      "(307511, 1154)\n",
      "(48744, 1153)\n",
      "--------\n"
     ]
    },
    {
     "name": "stderr",
     "output_type": "stream",
     "text": [
      "\r",
      "192it [25:51,  8.08s/it]"
     ]
    },
    {
     "name": "stdout",
     "output_type": "stream",
     "text": [
      "Wei_agg_mean_ORGANIZATION_TYPE_Transport: type 3==!==BU_CREDIT_ACTIVE_category\n",
      "(307511, 1154)\n",
      "(48744, 1153)\n",
      "--------\n"
     ]
    },
    {
     "name": "stderr",
     "output_type": "stream",
     "text": [
      "\r",
      "193it [25:59,  8.08s/it]"
     ]
    },
    {
     "name": "stdout",
     "output_type": "stream",
     "text": [
      "Wei_agg_mean_ORGANIZATION_TYPE_Transport: type 3==!==BU_CREDIT_CURRENCY_category\n",
      "(307511, 1154)\n",
      "(48744, 1153)\n",
      "--------\n"
     ]
    },
    {
     "name": "stderr",
     "output_type": "stream",
     "text": [
      "\r",
      "194it [26:07,  8.08s/it]"
     ]
    },
    {
     "name": "stdout",
     "output_type": "stream",
     "text": [
      "Wei_agg_mean_ORGANIZATION_TYPE_Transport: type 3==!==BU_CREDIT_TYPE_category\n",
      "(307511, 1154)\n",
      "(48744, 1153)\n",
      "--------\n"
     ]
    },
    {
     "name": "stderr",
     "output_type": "stream",
     "text": [
      "\r",
      "195it [26:15,  8.08s/it]"
     ]
    },
    {
     "name": "stdout",
     "output_type": "stream",
     "text": [
      "Wei_agg_mean_ORGANIZATION_TYPE_Transport: type 3==!==BU_CNT_CREDIT_PROLONG_SUM\n",
      "(307511, 1154)\n",
      "(48744, 1153)\n",
      "--------\n"
     ]
    },
    {
     "name": "stderr",
     "output_type": "stream",
     "text": [
      "\r",
      "196it [26:24,  8.08s/it]"
     ]
    },
    {
     "name": "stdout",
     "output_type": "stream",
     "text": [
      "Wei_agg_mean_ORGANIZATION_TYPE_Transport: type 3==!==Bureau_balance_Last_STATUS_category\n",
      "(307511, 1154)\n",
      "(48744, 1153)\n",
      "--------\n"
     ]
    },
    {
     "name": "stderr",
     "output_type": "stream",
     "text": [
      "\r",
      "197it [26:32,  8.08s/it]"
     ]
    },
    {
     "name": "stdout",
     "output_type": "stream",
     "text": [
      "Wei_agg_mean_ORGANIZATION_TYPE_Transport: type 3==!==cnt_cash_30days_late\n",
      "(307511, 1154)\n",
      "(48744, 1153)\n",
      "--------\n"
     ]
    },
    {
     "name": "stderr",
     "output_type": "stream",
     "text": [
      "\r",
      "198it [26:40,  8.08s/it]"
     ]
    },
    {
     "name": "stdout",
     "output_type": "stream",
     "text": [
      "Wei_agg_mean_ORGANIZATION_TYPE_Transport: type 3==!==cnt_cons_30days_late\n",
      "(307511, 1154)\n",
      "(48744, 1153)\n",
      "--------\n"
     ]
    },
    {
     "name": "stderr",
     "output_type": "stream",
     "text": [
      "\r",
      "199it [26:48,  8.08s/it]"
     ]
    },
    {
     "name": "stdout",
     "output_type": "stream",
     "text": [
      "Wei_agg_mean_ORGANIZATION_TYPE_Military==!==ORGANIZATION_TYPE_Construction\n",
      "(307511, 1154)\n",
      "(48744, 1153)\n",
      "--------\n"
     ]
    },
    {
     "name": "stderr",
     "output_type": "stream",
     "text": [
      "\r",
      "200it [26:56,  8.08s/it]"
     ]
    },
    {
     "name": "stdout",
     "output_type": "stream",
     "text": [
      "Wei_agg_mean_ORGANIZATION_TYPE_Military==!==WALLSMATERIAL_MODE_Stone, brick\n",
      "(307511, 1154)\n",
      "(48744, 1153)\n",
      "--------\n"
     ]
    },
    {
     "name": "stderr",
     "output_type": "stream",
     "text": [
      "\r",
      "201it [27:04,  8.08s/it]"
     ]
    },
    {
     "name": "stdout",
     "output_type": "stream",
     "text": [
      "Wei_agg_mean_ORGANIZATION_TYPE_Military==!==NAME_INCOME_TYPE_State servant\n",
      "(307511, 1154)\n",
      "(48744, 1153)\n",
      "--------\n"
     ]
    },
    {
     "name": "stderr",
     "output_type": "stream",
     "text": [
      "\r",
      "202it [27:12,  8.08s/it]"
     ]
    },
    {
     "name": "stdout",
     "output_type": "stream",
     "text": [
      "Wei_agg_mean_ORGANIZATION_TYPE_Military==!==OCCUPATION_TYPE_Drivers\n",
      "(307511, 1154)\n",
      "(48744, 1153)\n",
      "--------\n"
     ]
    },
    {
     "name": "stderr",
     "output_type": "stream",
     "text": [
      "\r",
      "203it [27:20,  8.08s/it]"
     ]
    },
    {
     "name": "stdout",
     "output_type": "stream",
     "text": [
      "Wei_agg_mean_ORGANIZATION_TYPE_Military==!==OCCUPATION_TYPE_Medicine staff\n",
      "(307511, 1154)\n",
      "(48744, 1153)\n",
      "--------\n"
     ]
    },
    {
     "name": "stderr",
     "output_type": "stream",
     "text": [
      "\r",
      "204it [27:28,  8.08s/it]"
     ]
    },
    {
     "name": "stdout",
     "output_type": "stream",
     "text": [
      "Wei_agg_mean_ORGANIZATION_TYPE_Military==!==NAME_HOUSING_TYPE_x\n",
      "(307511, 1154)\n",
      "(48744, 1153)\n",
      "--------\n"
     ]
    },
    {
     "name": "stderr",
     "output_type": "stream",
     "text": [
      "\r",
      "205it [27:36,  8.08s/it]"
     ]
    },
    {
     "name": "stdout",
     "output_type": "stream",
     "text": [
      "Wei_agg_mean_ORGANIZATION_TYPE_Military==!==CONTACT\n",
      "(307511, 1154)\n",
      "(48744, 1153)\n",
      "--------\n"
     ]
    },
    {
     "name": "stderr",
     "output_type": "stream",
     "text": [
      "\r",
      "206it [27:44,  8.08s/it]"
     ]
    },
    {
     "name": "stdout",
     "output_type": "stream",
     "text": [
      "Wei_agg_mean_ORGANIZATION_TYPE_Military==!==NAME_FAMILY_STATUS_x\n",
      "(307511, 1154)\n",
      "(48744, 1153)\n",
      "--------\n"
     ]
    },
    {
     "name": "stderr",
     "output_type": "stream",
     "text": [
      "\r",
      "207it [27:52,  8.08s/it]"
     ]
    },
    {
     "name": "stdout",
     "output_type": "stream",
     "text": [
      "Wei_agg_mean_ORGANIZATION_TYPE_Military==!==Wei_CNT_NOT_TERMINATION\n",
      "(307511, 1154)\n",
      "(48744, 1153)\n",
      "--------\n"
     ]
    },
    {
     "name": "stderr",
     "output_type": "stream",
     "text": [
      "\r",
      "208it [28:01,  8.08s/it]"
     ]
    },
    {
     "name": "stdout",
     "output_type": "stream",
     "text": [
      "Wei_agg_mean_ORGANIZATION_TYPE_Military==!==Wei_IF_TERMINATION_LAST\n",
      "(307511, 1154)\n",
      "(48744, 1153)\n",
      "--------\n"
     ]
    },
    {
     "name": "stderr",
     "output_type": "stream",
     "text": [
      "\r",
      "209it [28:09,  8.08s/it]"
     ]
    },
    {
     "name": "stdout",
     "output_type": "stream",
     "text": [
      "Wei_agg_mean_ORGANIZATION_TYPE_Military==!==BU_CREDIT_ACTIVE_category\n",
      "(307511, 1154)\n",
      "(48744, 1153)\n",
      "--------\n"
     ]
    },
    {
     "name": "stderr",
     "output_type": "stream",
     "text": [
      "\r",
      "210it [28:17,  8.08s/it]"
     ]
    },
    {
     "name": "stdout",
     "output_type": "stream",
     "text": [
      "Wei_agg_mean_ORGANIZATION_TYPE_Military==!==BU_CREDIT_CURRENCY_category\n",
      "(307511, 1154)\n",
      "(48744, 1153)\n",
      "--------\n"
     ]
    },
    {
     "name": "stderr",
     "output_type": "stream",
     "text": [
      "\r",
      "211it [28:25,  8.08s/it]"
     ]
    },
    {
     "name": "stdout",
     "output_type": "stream",
     "text": [
      "Wei_agg_mean_ORGANIZATION_TYPE_Military==!==BU_CREDIT_TYPE_category\n",
      "(307511, 1154)\n",
      "(48744, 1153)\n",
      "--------\n"
     ]
    },
    {
     "name": "stderr",
     "output_type": "stream",
     "text": [
      "\r",
      "212it [28:33,  8.08s/it]"
     ]
    },
    {
     "name": "stdout",
     "output_type": "stream",
     "text": [
      "Wei_agg_mean_ORGANIZATION_TYPE_Military==!==BU_CNT_CREDIT_PROLONG_SUM\n",
      "(307511, 1154)\n",
      "(48744, 1153)\n",
      "--------\n"
     ]
    },
    {
     "name": "stderr",
     "output_type": "stream",
     "text": [
      "\r",
      "213it [28:41,  8.08s/it]"
     ]
    },
    {
     "name": "stdout",
     "output_type": "stream",
     "text": [
      "Wei_agg_mean_ORGANIZATION_TYPE_Military==!==Bureau_balance_Last_STATUS_category\n",
      "(307511, 1154)\n",
      "(48744, 1153)\n",
      "--------\n"
     ]
    },
    {
     "name": "stderr",
     "output_type": "stream",
     "text": [
      "\r",
      "214it [28:49,  8.08s/it]"
     ]
    },
    {
     "name": "stdout",
     "output_type": "stream",
     "text": [
      "Wei_agg_mean_ORGANIZATION_TYPE_Military==!==cnt_cash_30days_late\n",
      "(307511, 1154)\n",
      "(48744, 1153)\n",
      "--------\n"
     ]
    },
    {
     "name": "stderr",
     "output_type": "stream",
     "text": [
      "\r",
      "215it [28:57,  8.08s/it]"
     ]
    },
    {
     "name": "stdout",
     "output_type": "stream",
     "text": [
      "Wei_agg_mean_ORGANIZATION_TYPE_Military==!==cnt_cons_30days_late\n",
      "(307511, 1154)\n",
      "(48744, 1153)\n",
      "--------\n"
     ]
    },
    {
     "name": "stderr",
     "output_type": "stream",
     "text": [
      "\r",
      "216it [29:05,  8.08s/it]"
     ]
    },
    {
     "name": "stdout",
     "output_type": "stream",
     "text": [
      "Wei_agg_mean_ORGANIZATION_TYPE_Construction==!==WALLSMATERIAL_MODE_Stone, brick\n",
      "(307511, 1154)\n",
      "(48744, 1153)\n",
      "--------\n"
     ]
    },
    {
     "name": "stderr",
     "output_type": "stream",
     "text": [
      "\r",
      "217it [29:13,  8.08s/it]"
     ]
    },
    {
     "name": "stdout",
     "output_type": "stream",
     "text": [
      "Wei_agg_mean_ORGANIZATION_TYPE_Construction==!==NAME_INCOME_TYPE_State servant\n",
      "(307511, 1154)\n",
      "(48744, 1153)\n",
      "--------\n"
     ]
    },
    {
     "name": "stderr",
     "output_type": "stream",
     "text": [
      "\r",
      "218it [29:22,  8.08s/it]"
     ]
    },
    {
     "name": "stdout",
     "output_type": "stream",
     "text": [
      "Wei_agg_mean_ORGANIZATION_TYPE_Construction==!==OCCUPATION_TYPE_Drivers\n",
      "(307511, 1154)\n",
      "(48744, 1153)\n",
      "--------\n"
     ]
    },
    {
     "name": "stderr",
     "output_type": "stream",
     "text": [
      "\r",
      "219it [29:30,  8.08s/it]"
     ]
    },
    {
     "name": "stdout",
     "output_type": "stream",
     "text": [
      "Wei_agg_mean_ORGANIZATION_TYPE_Construction==!==OCCUPATION_TYPE_Medicine staff\n",
      "(307511, 1154)\n",
      "(48744, 1153)\n",
      "--------\n"
     ]
    },
    {
     "name": "stderr",
     "output_type": "stream",
     "text": [
      "\r",
      "220it [29:38,  8.08s/it]"
     ]
    },
    {
     "name": "stdout",
     "output_type": "stream",
     "text": [
      "Wei_agg_mean_ORGANIZATION_TYPE_Construction==!==NAME_HOUSING_TYPE_x\n",
      "(307511, 1154)\n",
      "(48744, 1153)\n",
      "--------\n"
     ]
    },
    {
     "name": "stderr",
     "output_type": "stream",
     "text": [
      "\r",
      "221it [29:46,  8.08s/it]"
     ]
    },
    {
     "name": "stdout",
     "output_type": "stream",
     "text": [
      "Wei_agg_mean_ORGANIZATION_TYPE_Construction==!==CONTACT\n",
      "(307511, 1154)\n",
      "(48744, 1153)\n",
      "--------\n"
     ]
    },
    {
     "name": "stderr",
     "output_type": "stream",
     "text": [
      "\r",
      "222it [29:54,  8.08s/it]"
     ]
    },
    {
     "name": "stdout",
     "output_type": "stream",
     "text": [
      "Wei_agg_mean_ORGANIZATION_TYPE_Construction==!==NAME_FAMILY_STATUS_x\n",
      "(307511, 1154)\n",
      "(48744, 1153)\n",
      "--------\n"
     ]
    },
    {
     "name": "stderr",
     "output_type": "stream",
     "text": [
      "\r",
      "223it [30:02,  8.08s/it]"
     ]
    },
    {
     "name": "stdout",
     "output_type": "stream",
     "text": [
      "Wei_agg_mean_ORGANIZATION_TYPE_Construction==!==Wei_CNT_NOT_TERMINATION\n",
      "(307511, 1154)\n",
      "(48744, 1153)\n",
      "--------\n"
     ]
    },
    {
     "name": "stderr",
     "output_type": "stream",
     "text": [
      "\r",
      "224it [30:10,  8.08s/it]"
     ]
    },
    {
     "name": "stdout",
     "output_type": "stream",
     "text": [
      "Wei_agg_mean_ORGANIZATION_TYPE_Construction==!==Wei_IF_TERMINATION_LAST\n",
      "(307511, 1154)\n",
      "(48744, 1153)\n",
      "--------\n"
     ]
    },
    {
     "name": "stderr",
     "output_type": "stream",
     "text": [
      "\r",
      "225it [30:18,  8.08s/it]"
     ]
    },
    {
     "name": "stdout",
     "output_type": "stream",
     "text": [
      "Wei_agg_mean_ORGANIZATION_TYPE_Construction==!==BU_CREDIT_ACTIVE_category\n",
      "(307511, 1154)\n",
      "(48744, 1153)\n",
      "--------\n"
     ]
    },
    {
     "name": "stderr",
     "output_type": "stream",
     "text": [
      "\r",
      "226it [30:26,  8.08s/it]"
     ]
    },
    {
     "name": "stdout",
     "output_type": "stream",
     "text": [
      "Wei_agg_mean_ORGANIZATION_TYPE_Construction==!==BU_CREDIT_CURRENCY_category\n",
      "(307511, 1154)\n",
      "(48744, 1153)\n",
      "--------\n"
     ]
    },
    {
     "name": "stderr",
     "output_type": "stream",
     "text": [
      "\r",
      "227it [30:35,  8.08s/it]"
     ]
    },
    {
     "name": "stdout",
     "output_type": "stream",
     "text": [
      "Wei_agg_mean_ORGANIZATION_TYPE_Construction==!==BU_CREDIT_TYPE_category\n",
      "(307511, 1154)\n",
      "(48744, 1153)\n",
      "--------\n"
     ]
    },
    {
     "name": "stderr",
     "output_type": "stream",
     "text": [
      "\r",
      "228it [30:43,  8.08s/it]"
     ]
    },
    {
     "name": "stdout",
     "output_type": "stream",
     "text": [
      "Wei_agg_mean_ORGANIZATION_TYPE_Construction==!==BU_CNT_CREDIT_PROLONG_SUM\n",
      "(307511, 1154)\n",
      "(48744, 1153)\n",
      "--------\n"
     ]
    },
    {
     "name": "stderr",
     "output_type": "stream",
     "text": [
      "\r",
      "229it [30:51,  8.08s/it]"
     ]
    },
    {
     "name": "stdout",
     "output_type": "stream",
     "text": [
      "Wei_agg_mean_ORGANIZATION_TYPE_Construction==!==Bureau_balance_Last_STATUS_category\n",
      "(307511, 1154)\n",
      "(48744, 1153)\n",
      "--------\n"
     ]
    },
    {
     "name": "stderr",
     "output_type": "stream",
     "text": [
      "\r",
      "230it [30:59,  8.08s/it]"
     ]
    },
    {
     "name": "stdout",
     "output_type": "stream",
     "text": [
      "Wei_agg_mean_ORGANIZATION_TYPE_Construction==!==cnt_cash_30days_late\n",
      "(307511, 1154)\n",
      "(48744, 1153)\n",
      "--------\n"
     ]
    },
    {
     "name": "stderr",
     "output_type": "stream",
     "text": [
      "\r",
      "231it [31:07,  8.08s/it]"
     ]
    },
    {
     "name": "stdout",
     "output_type": "stream",
     "text": [
      "Wei_agg_mean_ORGANIZATION_TYPE_Construction==!==cnt_cons_30days_late\n",
      "(307511, 1154)\n",
      "(48744, 1153)\n",
      "--------\n"
     ]
    },
    {
     "name": "stderr",
     "output_type": "stream",
     "text": [
      "\r",
      "232it [31:15,  8.08s/it]"
     ]
    },
    {
     "name": "stdout",
     "output_type": "stream",
     "text": [
      "Wei_agg_mean_WALLSMATERIAL_MODE_Stone, brick==!==NAME_INCOME_TYPE_State servant\n",
      "(307511, 1154)\n",
      "(48744, 1153)\n",
      "--------\n"
     ]
    },
    {
     "name": "stderr",
     "output_type": "stream",
     "text": [
      "\r",
      "233it [31:23,  8.08s/it]"
     ]
    },
    {
     "name": "stdout",
     "output_type": "stream",
     "text": [
      "Wei_agg_mean_WALLSMATERIAL_MODE_Stone, brick==!==OCCUPATION_TYPE_Drivers\n",
      "(307511, 1154)\n",
      "(48744, 1153)\n",
      "--------\n"
     ]
    },
    {
     "name": "stderr",
     "output_type": "stream",
     "text": [
      "\r",
      "234it [31:31,  8.08s/it]"
     ]
    },
    {
     "name": "stdout",
     "output_type": "stream",
     "text": [
      "Wei_agg_mean_WALLSMATERIAL_MODE_Stone, brick==!==OCCUPATION_TYPE_Medicine staff\n",
      "(307511, 1154)\n",
      "(48744, 1153)\n",
      "--------\n"
     ]
    },
    {
     "name": "stderr",
     "output_type": "stream",
     "text": [
      "\r",
      "235it [31:39,  8.08s/it]"
     ]
    },
    {
     "name": "stdout",
     "output_type": "stream",
     "text": [
      "Wei_agg_mean_WALLSMATERIAL_MODE_Stone, brick==!==NAME_HOUSING_TYPE_x\n",
      "(307511, 1154)\n",
      "(48744, 1153)\n",
      "--------\n"
     ]
    },
    {
     "name": "stderr",
     "output_type": "stream",
     "text": [
      "\r",
      "236it [31:47,  8.08s/it]"
     ]
    },
    {
     "name": "stdout",
     "output_type": "stream",
     "text": [
      "Wei_agg_mean_WALLSMATERIAL_MODE_Stone, brick==!==CONTACT\n",
      "(307511, 1154)\n",
      "(48744, 1153)\n",
      "--------\n"
     ]
    },
    {
     "name": "stderr",
     "output_type": "stream",
     "text": [
      "\r",
      "237it [31:56,  8.08s/it]"
     ]
    },
    {
     "name": "stdout",
     "output_type": "stream",
     "text": [
      "Wei_agg_mean_WALLSMATERIAL_MODE_Stone, brick==!==NAME_FAMILY_STATUS_x\n",
      "(307511, 1154)\n",
      "(48744, 1153)\n",
      "--------\n"
     ]
    },
    {
     "name": "stderr",
     "output_type": "stream",
     "text": [
      "\r",
      "238it [32:04,  8.08s/it]"
     ]
    },
    {
     "name": "stdout",
     "output_type": "stream",
     "text": [
      "Wei_agg_mean_WALLSMATERIAL_MODE_Stone, brick==!==Wei_CNT_NOT_TERMINATION\n",
      "(307511, 1154)\n",
      "(48744, 1153)\n",
      "--------\n"
     ]
    },
    {
     "name": "stderr",
     "output_type": "stream",
     "text": [
      "\r",
      "239it [32:12,  8.09s/it]"
     ]
    },
    {
     "name": "stdout",
     "output_type": "stream",
     "text": [
      "Wei_agg_mean_WALLSMATERIAL_MODE_Stone, brick==!==Wei_IF_TERMINATION_LAST\n",
      "(307511, 1154)\n",
      "(48744, 1153)\n",
      "--------\n"
     ]
    },
    {
     "name": "stderr",
     "output_type": "stream",
     "text": [
      "\r",
      "240it [32:20,  8.09s/it]"
     ]
    },
    {
     "name": "stdout",
     "output_type": "stream",
     "text": [
      "Wei_agg_mean_WALLSMATERIAL_MODE_Stone, brick==!==BU_CREDIT_ACTIVE_category\n",
      "(307511, 1154)\n",
      "(48744, 1153)\n",
      "--------\n"
     ]
    },
    {
     "name": "stderr",
     "output_type": "stream",
     "text": [
      "\r",
      "241it [32:28,  8.09s/it]"
     ]
    },
    {
     "name": "stdout",
     "output_type": "stream",
     "text": [
      "Wei_agg_mean_WALLSMATERIAL_MODE_Stone, brick==!==BU_CREDIT_CURRENCY_category\n",
      "(307511, 1154)\n",
      "(48744, 1153)\n",
      "--------\n"
     ]
    },
    {
     "name": "stderr",
     "output_type": "stream",
     "text": [
      "\r",
      "242it [32:36,  8.09s/it]"
     ]
    },
    {
     "name": "stdout",
     "output_type": "stream",
     "text": [
      "Wei_agg_mean_WALLSMATERIAL_MODE_Stone, brick==!==BU_CREDIT_TYPE_category\n",
      "(307511, 1154)\n",
      "(48744, 1153)\n",
      "--------\n"
     ]
    },
    {
     "name": "stderr",
     "output_type": "stream",
     "text": [
      "\r",
      "243it [32:44,  8.09s/it]"
     ]
    },
    {
     "name": "stdout",
     "output_type": "stream",
     "text": [
      "Wei_agg_mean_WALLSMATERIAL_MODE_Stone, brick==!==BU_CNT_CREDIT_PROLONG_SUM\n",
      "(307511, 1154)\n",
      "(48744, 1153)\n",
      "--------\n"
     ]
    },
    {
     "name": "stderr",
     "output_type": "stream",
     "text": [
      "\r",
      "244it [32:52,  8.09s/it]"
     ]
    },
    {
     "name": "stdout",
     "output_type": "stream",
     "text": [
      "Wei_agg_mean_WALLSMATERIAL_MODE_Stone, brick==!==Bureau_balance_Last_STATUS_category\n",
      "(307511, 1154)\n",
      "(48744, 1153)\n",
      "--------\n"
     ]
    },
    {
     "name": "stderr",
     "output_type": "stream",
     "text": [
      "\r",
      "245it [33:01,  8.09s/it]"
     ]
    },
    {
     "name": "stdout",
     "output_type": "stream",
     "text": [
      "Wei_agg_mean_WALLSMATERIAL_MODE_Stone, brick==!==cnt_cash_30days_late\n",
      "(307511, 1154)\n",
      "(48744, 1153)\n",
      "--------\n"
     ]
    },
    {
     "name": "stderr",
     "output_type": "stream",
     "text": [
      "\r",
      "246it [33:09,  8.09s/it]"
     ]
    },
    {
     "name": "stdout",
     "output_type": "stream",
     "text": [
      "Wei_agg_mean_WALLSMATERIAL_MODE_Stone, brick==!==cnt_cons_30days_late\n",
      "(307511, 1154)\n",
      "(48744, 1153)\n",
      "--------\n"
     ]
    },
    {
     "name": "stderr",
     "output_type": "stream",
     "text": [
      "\r",
      "247it [33:17,  8.09s/it]"
     ]
    },
    {
     "name": "stdout",
     "output_type": "stream",
     "text": [
      "Wei_agg_mean_NAME_INCOME_TYPE_State servant==!==OCCUPATION_TYPE_Drivers\n",
      "(307511, 1154)\n",
      "(48744, 1153)\n",
      "--------\n"
     ]
    },
    {
     "name": "stderr",
     "output_type": "stream",
     "text": [
      "\r",
      "248it [33:25,  8.09s/it]"
     ]
    },
    {
     "name": "stdout",
     "output_type": "stream",
     "text": [
      "Wei_agg_mean_NAME_INCOME_TYPE_State servant==!==OCCUPATION_TYPE_Medicine staff\n",
      "(307511, 1154)\n",
      "(48744, 1153)\n",
      "--------\n"
     ]
    },
    {
     "name": "stderr",
     "output_type": "stream",
     "text": [
      "\r",
      "249it [33:33,  8.09s/it]"
     ]
    },
    {
     "name": "stdout",
     "output_type": "stream",
     "text": [
      "Wei_agg_mean_NAME_INCOME_TYPE_State servant==!==NAME_HOUSING_TYPE_x\n",
      "(307511, 1154)\n",
      "(48744, 1153)\n",
      "--------\n"
     ]
    },
    {
     "name": "stderr",
     "output_type": "stream",
     "text": [
      "\r",
      "250it [33:41,  8.09s/it]"
     ]
    },
    {
     "name": "stdout",
     "output_type": "stream",
     "text": [
      "Wei_agg_mean_NAME_INCOME_TYPE_State servant==!==CONTACT\n",
      "(307511, 1154)\n",
      "(48744, 1153)\n",
      "--------\n"
     ]
    },
    {
     "name": "stderr",
     "output_type": "stream",
     "text": [
      "\r",
      "251it [33:49,  8.09s/it]"
     ]
    },
    {
     "name": "stdout",
     "output_type": "stream",
     "text": [
      "Wei_agg_mean_NAME_INCOME_TYPE_State servant==!==NAME_FAMILY_STATUS_x\n",
      "(307511, 1154)\n",
      "(48744, 1153)\n",
      "--------\n"
     ]
    },
    {
     "name": "stderr",
     "output_type": "stream",
     "text": [
      "\r",
      "252it [33:57,  8.09s/it]"
     ]
    },
    {
     "name": "stdout",
     "output_type": "stream",
     "text": [
      "Wei_agg_mean_NAME_INCOME_TYPE_State servant==!==Wei_CNT_NOT_TERMINATION\n",
      "(307511, 1154)\n",
      "(48744, 1153)\n",
      "--------\n"
     ]
    },
    {
     "name": "stderr",
     "output_type": "stream",
     "text": [
      "\r",
      "253it [34:05,  8.09s/it]"
     ]
    },
    {
     "name": "stdout",
     "output_type": "stream",
     "text": [
      "Wei_agg_mean_NAME_INCOME_TYPE_State servant==!==Wei_IF_TERMINATION_LAST\n",
      "(307511, 1154)\n",
      "(48744, 1153)\n",
      "--------\n"
     ]
    },
    {
     "name": "stderr",
     "output_type": "stream",
     "text": [
      "\r",
      "254it [34:14,  8.09s/it]"
     ]
    },
    {
     "name": "stdout",
     "output_type": "stream",
     "text": [
      "Wei_agg_mean_NAME_INCOME_TYPE_State servant==!==BU_CREDIT_ACTIVE_category\n",
      "(307511, 1154)\n",
      "(48744, 1153)\n",
      "--------\n"
     ]
    },
    {
     "name": "stderr",
     "output_type": "stream",
     "text": [
      "\r",
      "255it [34:22,  8.09s/it]"
     ]
    },
    {
     "name": "stdout",
     "output_type": "stream",
     "text": [
      "Wei_agg_mean_NAME_INCOME_TYPE_State servant==!==BU_CREDIT_CURRENCY_category\n",
      "(307511, 1154)\n",
      "(48744, 1153)\n",
      "--------\n"
     ]
    },
    {
     "name": "stderr",
     "output_type": "stream",
     "text": [
      "\r",
      "256it [34:30,  8.09s/it]"
     ]
    },
    {
     "name": "stdout",
     "output_type": "stream",
     "text": [
      "Wei_agg_mean_NAME_INCOME_TYPE_State servant==!==BU_CREDIT_TYPE_category\n",
      "(307511, 1154)\n",
      "(48744, 1153)\n",
      "--------\n"
     ]
    },
    {
     "name": "stderr",
     "output_type": "stream",
     "text": [
      "\r",
      "257it [34:38,  8.09s/it]"
     ]
    },
    {
     "name": "stdout",
     "output_type": "stream",
     "text": [
      "Wei_agg_mean_NAME_INCOME_TYPE_State servant==!==BU_CNT_CREDIT_PROLONG_SUM\n",
      "(307511, 1154)\n",
      "(48744, 1153)\n",
      "--------\n"
     ]
    },
    {
     "name": "stderr",
     "output_type": "stream",
     "text": [
      "\r",
      "258it [34:46,  8.09s/it]"
     ]
    },
    {
     "name": "stdout",
     "output_type": "stream",
     "text": [
      "Wei_agg_mean_NAME_INCOME_TYPE_State servant==!==Bureau_balance_Last_STATUS_category\n",
      "(307511, 1154)\n",
      "(48744, 1153)\n",
      "--------\n"
     ]
    },
    {
     "name": "stderr",
     "output_type": "stream",
     "text": [
      "\r",
      "259it [34:54,  8.09s/it]"
     ]
    },
    {
     "name": "stdout",
     "output_type": "stream",
     "text": [
      "Wei_agg_mean_NAME_INCOME_TYPE_State servant==!==cnt_cash_30days_late\n",
      "(307511, 1154)\n",
      "(48744, 1153)\n",
      "--------\n"
     ]
    },
    {
     "name": "stderr",
     "output_type": "stream",
     "text": [
      "\r",
      "260it [35:02,  8.09s/it]"
     ]
    },
    {
     "name": "stdout",
     "output_type": "stream",
     "text": [
      "Wei_agg_mean_NAME_INCOME_TYPE_State servant==!==cnt_cons_30days_late\n",
      "(307511, 1154)\n",
      "(48744, 1153)\n",
      "--------\n"
     ]
    },
    {
     "name": "stderr",
     "output_type": "stream",
     "text": [
      "\r",
      "261it [35:10,  8.09s/it]"
     ]
    },
    {
     "name": "stdout",
     "output_type": "stream",
     "text": [
      "Wei_agg_mean_OCCUPATION_TYPE_Drivers==!==OCCUPATION_TYPE_Medicine staff\n",
      "(307511, 1154)\n",
      "(48744, 1153)\n",
      "--------\n"
     ]
    },
    {
     "name": "stderr",
     "output_type": "stream",
     "text": [
      "\r",
      "262it [35:19,  8.09s/it]"
     ]
    },
    {
     "name": "stdout",
     "output_type": "stream",
     "text": [
      "Wei_agg_mean_OCCUPATION_TYPE_Drivers==!==NAME_HOUSING_TYPE_x\n",
      "(307511, 1154)\n",
      "(48744, 1153)\n",
      "--------\n"
     ]
    },
    {
     "name": "stderr",
     "output_type": "stream",
     "text": [
      "\r",
      "263it [35:27,  8.09s/it]"
     ]
    },
    {
     "name": "stdout",
     "output_type": "stream",
     "text": [
      "Wei_agg_mean_OCCUPATION_TYPE_Drivers==!==CONTACT\n",
      "(307511, 1154)\n",
      "(48744, 1153)\n",
      "--------\n"
     ]
    },
    {
     "name": "stderr",
     "output_type": "stream",
     "text": [
      "\r",
      "264it [35:35,  8.09s/it]"
     ]
    },
    {
     "name": "stdout",
     "output_type": "stream",
     "text": [
      "Wei_agg_mean_OCCUPATION_TYPE_Drivers==!==NAME_FAMILY_STATUS_x\n",
      "(307511, 1154)\n",
      "(48744, 1153)\n",
      "--------\n"
     ]
    },
    {
     "name": "stderr",
     "output_type": "stream",
     "text": [
      "\r",
      "265it [35:43,  8.09s/it]"
     ]
    },
    {
     "name": "stdout",
     "output_type": "stream",
     "text": [
      "Wei_agg_mean_OCCUPATION_TYPE_Drivers==!==Wei_CNT_NOT_TERMINATION\n",
      "(307511, 1154)\n",
      "(48744, 1153)\n",
      "--------\n"
     ]
    },
    {
     "name": "stderr",
     "output_type": "stream",
     "text": [
      "\r",
      "266it [35:51,  8.09s/it]"
     ]
    },
    {
     "name": "stdout",
     "output_type": "stream",
     "text": [
      "Wei_agg_mean_OCCUPATION_TYPE_Drivers==!==Wei_IF_TERMINATION_LAST\n",
      "(307511, 1154)\n",
      "(48744, 1153)\n",
      "--------\n"
     ]
    },
    {
     "name": "stderr",
     "output_type": "stream",
     "text": [
      "\r",
      "267it [35:59,  8.09s/it]"
     ]
    },
    {
     "name": "stdout",
     "output_type": "stream",
     "text": [
      "Wei_agg_mean_OCCUPATION_TYPE_Drivers==!==BU_CREDIT_ACTIVE_category\n",
      "(307511, 1154)\n",
      "(48744, 1153)\n",
      "--------\n"
     ]
    },
    {
     "name": "stderr",
     "output_type": "stream",
     "text": [
      "\r",
      "268it [36:07,  8.09s/it]"
     ]
    },
    {
     "name": "stdout",
     "output_type": "stream",
     "text": [
      "Wei_agg_mean_OCCUPATION_TYPE_Drivers==!==BU_CREDIT_CURRENCY_category\n",
      "(307511, 1154)\n",
      "(48744, 1153)\n",
      "--------\n"
     ]
    },
    {
     "name": "stderr",
     "output_type": "stream",
     "text": [
      "\r",
      "269it [36:15,  8.09s/it]"
     ]
    },
    {
     "name": "stdout",
     "output_type": "stream",
     "text": [
      "Wei_agg_mean_OCCUPATION_TYPE_Drivers==!==BU_CREDIT_TYPE_category\n",
      "(307511, 1154)\n",
      "(48744, 1153)\n",
      "--------\n"
     ]
    },
    {
     "name": "stderr",
     "output_type": "stream",
     "text": [
      "\r",
      "270it [36:24,  8.09s/it]"
     ]
    },
    {
     "name": "stdout",
     "output_type": "stream",
     "text": [
      "Wei_agg_mean_OCCUPATION_TYPE_Drivers==!==BU_CNT_CREDIT_PROLONG_SUM\n",
      "(307511, 1154)\n",
      "(48744, 1153)\n",
      "--------\n"
     ]
    },
    {
     "name": "stderr",
     "output_type": "stream",
     "text": [
      "\r",
      "271it [36:32,  8.09s/it]"
     ]
    },
    {
     "name": "stdout",
     "output_type": "stream",
     "text": [
      "Wei_agg_mean_OCCUPATION_TYPE_Drivers==!==Bureau_balance_Last_STATUS_category\n",
      "(307511, 1154)\n",
      "(48744, 1153)\n",
      "--------\n"
     ]
    },
    {
     "name": "stderr",
     "output_type": "stream",
     "text": [
      "\r",
      "272it [36:40,  8.09s/it]"
     ]
    },
    {
     "name": "stdout",
     "output_type": "stream",
     "text": [
      "Wei_agg_mean_OCCUPATION_TYPE_Drivers==!==cnt_cash_30days_late\n",
      "(307511, 1154)\n",
      "(48744, 1153)\n",
      "--------\n"
     ]
    },
    {
     "name": "stderr",
     "output_type": "stream",
     "text": [
      "\r",
      "273it [36:48,  8.09s/it]"
     ]
    },
    {
     "name": "stdout",
     "output_type": "stream",
     "text": [
      "Wei_agg_mean_OCCUPATION_TYPE_Drivers==!==cnt_cons_30days_late\n",
      "(307511, 1154)\n",
      "(48744, 1153)\n",
      "--------\n"
     ]
    },
    {
     "name": "stderr",
     "output_type": "stream",
     "text": [
      "\r",
      "274it [36:56,  8.09s/it]"
     ]
    },
    {
     "name": "stdout",
     "output_type": "stream",
     "text": [
      "Wei_agg_mean_OCCUPATION_TYPE_Medicine staff==!==NAME_HOUSING_TYPE_x\n",
      "(307511, 1154)\n",
      "(48744, 1153)\n",
      "--------\n"
     ]
    },
    {
     "name": "stderr",
     "output_type": "stream",
     "text": [
      "\r",
      "275it [37:04,  8.09s/it]"
     ]
    },
    {
     "name": "stdout",
     "output_type": "stream",
     "text": [
      "Wei_agg_mean_OCCUPATION_TYPE_Medicine staff==!==CONTACT\n",
      "(307511, 1154)\n",
      "(48744, 1153)\n",
      "--------\n"
     ]
    },
    {
     "name": "stderr",
     "output_type": "stream",
     "text": [
      "\r",
      "276it [37:12,  8.09s/it]"
     ]
    },
    {
     "name": "stdout",
     "output_type": "stream",
     "text": [
      "Wei_agg_mean_OCCUPATION_TYPE_Medicine staff==!==NAME_FAMILY_STATUS_x\n",
      "(307511, 1154)\n",
      "(48744, 1153)\n",
      "--------\n"
     ]
    },
    {
     "name": "stderr",
     "output_type": "stream",
     "text": [
      "\r",
      "277it [37:20,  8.09s/it]"
     ]
    },
    {
     "name": "stdout",
     "output_type": "stream",
     "text": [
      "Wei_agg_mean_OCCUPATION_TYPE_Medicine staff==!==Wei_CNT_NOT_TERMINATION\n",
      "(307511, 1154)\n",
      "(48744, 1153)\n",
      "--------\n"
     ]
    },
    {
     "name": "stderr",
     "output_type": "stream",
     "text": [
      "\r",
      "278it [37:29,  8.09s/it]"
     ]
    },
    {
     "name": "stdout",
     "output_type": "stream",
     "text": [
      "Wei_agg_mean_OCCUPATION_TYPE_Medicine staff==!==Wei_IF_TERMINATION_LAST\n",
      "(307511, 1154)\n",
      "(48744, 1153)\n",
      "--------\n"
     ]
    },
    {
     "name": "stderr",
     "output_type": "stream",
     "text": [
      "\r",
      "279it [37:37,  8.09s/it]"
     ]
    },
    {
     "name": "stdout",
     "output_type": "stream",
     "text": [
      "Wei_agg_mean_OCCUPATION_TYPE_Medicine staff==!==BU_CREDIT_ACTIVE_category\n",
      "(307511, 1154)\n",
      "(48744, 1153)\n",
      "--------\n"
     ]
    },
    {
     "name": "stderr",
     "output_type": "stream",
     "text": [
      "\r",
      "280it [37:45,  8.09s/it]"
     ]
    },
    {
     "name": "stdout",
     "output_type": "stream",
     "text": [
      "Wei_agg_mean_OCCUPATION_TYPE_Medicine staff==!==BU_CREDIT_CURRENCY_category\n",
      "(307511, 1154)\n",
      "(48744, 1153)\n",
      "--------\n"
     ]
    },
    {
     "name": "stderr",
     "output_type": "stream",
     "text": [
      "\r",
      "281it [37:53,  8.09s/it]"
     ]
    },
    {
     "name": "stdout",
     "output_type": "stream",
     "text": [
      "Wei_agg_mean_OCCUPATION_TYPE_Medicine staff==!==BU_CREDIT_TYPE_category\n",
      "(307511, 1154)\n",
      "(48744, 1153)\n",
      "--------\n"
     ]
    },
    {
     "name": "stderr",
     "output_type": "stream",
     "text": [
      "\r",
      "282it [38:01,  8.09s/it]"
     ]
    },
    {
     "name": "stdout",
     "output_type": "stream",
     "text": [
      "Wei_agg_mean_OCCUPATION_TYPE_Medicine staff==!==BU_CNT_CREDIT_PROLONG_SUM\n",
      "(307511, 1154)\n",
      "(48744, 1153)\n",
      "--------\n"
     ]
    },
    {
     "name": "stderr",
     "output_type": "stream",
     "text": [
      "\r",
      "283it [38:09,  8.09s/it]"
     ]
    },
    {
     "name": "stdout",
     "output_type": "stream",
     "text": [
      "Wei_agg_mean_OCCUPATION_TYPE_Medicine staff==!==Bureau_balance_Last_STATUS_category\n",
      "(307511, 1154)\n",
      "(48744, 1153)\n",
      "--------\n"
     ]
    },
    {
     "name": "stderr",
     "output_type": "stream",
     "text": [
      "\r",
      "284it [38:17,  8.09s/it]"
     ]
    },
    {
     "name": "stdout",
     "output_type": "stream",
     "text": [
      "Wei_agg_mean_OCCUPATION_TYPE_Medicine staff==!==cnt_cash_30days_late\n",
      "(307511, 1154)\n",
      "(48744, 1153)\n",
      "--------\n"
     ]
    },
    {
     "name": "stderr",
     "output_type": "stream",
     "text": [
      "\r",
      "285it [38:26,  8.09s/it]"
     ]
    },
    {
     "name": "stdout",
     "output_type": "stream",
     "text": [
      "Wei_agg_mean_OCCUPATION_TYPE_Medicine staff==!==cnt_cons_30days_late\n",
      "(307511, 1154)\n",
      "(48744, 1153)\n",
      "--------\n"
     ]
    },
    {
     "name": "stderr",
     "output_type": "stream",
     "text": [
      "\r",
      "286it [38:34,  8.09s/it]"
     ]
    },
    {
     "name": "stdout",
     "output_type": "stream",
     "text": [
      "Wei_agg_mean_NAME_HOUSING_TYPE_x==!==CONTACT\n",
      "(307511, 1154)\n",
      "(48744, 1153)\n",
      "--------\n"
     ]
    },
    {
     "name": "stderr",
     "output_type": "stream",
     "text": [
      "\r",
      "287it [38:42,  8.09s/it]"
     ]
    },
    {
     "name": "stdout",
     "output_type": "stream",
     "text": [
      "Wei_agg_mean_NAME_HOUSING_TYPE_x==!==NAME_FAMILY_STATUS_x\n",
      "(307511, 1154)\n",
      "(48744, 1153)\n",
      "--------\n"
     ]
    },
    {
     "name": "stderr",
     "output_type": "stream",
     "text": [
      "\r",
      "288it [38:50,  8.09s/it]"
     ]
    },
    {
     "name": "stdout",
     "output_type": "stream",
     "text": [
      "Wei_agg_mean_NAME_HOUSING_TYPE_x==!==Wei_CNT_NOT_TERMINATION\n",
      "(307511, 1154)\n",
      "(48744, 1153)\n",
      "--------\n"
     ]
    },
    {
     "name": "stderr",
     "output_type": "stream",
     "text": [
      "\r",
      "289it [38:58,  8.09s/it]"
     ]
    },
    {
     "name": "stdout",
     "output_type": "stream",
     "text": [
      "Wei_agg_mean_NAME_HOUSING_TYPE_x==!==Wei_IF_TERMINATION_LAST\n",
      "(307511, 1154)\n",
      "(48744, 1153)\n",
      "--------\n"
     ]
    },
    {
     "name": "stderr",
     "output_type": "stream",
     "text": [
      "\r",
      "290it [39:06,  8.09s/it]"
     ]
    },
    {
     "name": "stdout",
     "output_type": "stream",
     "text": [
      "Wei_agg_mean_NAME_HOUSING_TYPE_x==!==BU_CREDIT_ACTIVE_category\n",
      "(307511, 1154)\n",
      "(48744, 1153)\n",
      "--------\n"
     ]
    },
    {
     "name": "stderr",
     "output_type": "stream",
     "text": [
      "\r",
      "291it [39:15,  8.09s/it]"
     ]
    },
    {
     "name": "stdout",
     "output_type": "stream",
     "text": [
      "Wei_agg_mean_NAME_HOUSING_TYPE_x==!==BU_CREDIT_CURRENCY_category\n",
      "(307511, 1154)\n",
      "(48744, 1153)\n",
      "--------\n"
     ]
    },
    {
     "name": "stderr",
     "output_type": "stream",
     "text": [
      "\r",
      "292it [39:23,  8.09s/it]"
     ]
    },
    {
     "name": "stdout",
     "output_type": "stream",
     "text": [
      "Wei_agg_mean_NAME_HOUSING_TYPE_x==!==BU_CREDIT_TYPE_category\n",
      "(307511, 1154)\n",
      "(48744, 1153)\n",
      "--------\n"
     ]
    },
    {
     "name": "stderr",
     "output_type": "stream",
     "text": [
      "\r",
      "293it [39:31,  8.09s/it]"
     ]
    },
    {
     "name": "stdout",
     "output_type": "stream",
     "text": [
      "Wei_agg_mean_NAME_HOUSING_TYPE_x==!==BU_CNT_CREDIT_PROLONG_SUM\n",
      "(307511, 1154)\n",
      "(48744, 1153)\n",
      "--------\n"
     ]
    },
    {
     "name": "stderr",
     "output_type": "stream",
     "text": [
      "\r",
      "294it [39:39,  8.09s/it]"
     ]
    },
    {
     "name": "stdout",
     "output_type": "stream",
     "text": [
      "Wei_agg_mean_NAME_HOUSING_TYPE_x==!==Bureau_balance_Last_STATUS_category\n",
      "(307511, 1154)\n",
      "(48744, 1153)\n",
      "--------\n"
     ]
    },
    {
     "name": "stderr",
     "output_type": "stream",
     "text": [
      "\r",
      "295it [39:47,  8.09s/it]"
     ]
    },
    {
     "name": "stdout",
     "output_type": "stream",
     "text": [
      "Wei_agg_mean_NAME_HOUSING_TYPE_x==!==cnt_cash_30days_late\n",
      "(307511, 1154)\n",
      "(48744, 1153)\n",
      "--------\n"
     ]
    },
    {
     "name": "stderr",
     "output_type": "stream",
     "text": [
      "\r",
      "296it [39:56,  8.10s/it]"
     ]
    },
    {
     "name": "stdout",
     "output_type": "stream",
     "text": [
      "Wei_agg_mean_NAME_HOUSING_TYPE_x==!==cnt_cons_30days_late\n",
      "(307511, 1154)\n",
      "(48744, 1153)\n",
      "--------\n"
     ]
    },
    {
     "name": "stderr",
     "output_type": "stream",
     "text": [
      "\r",
      "297it [40:04,  8.10s/it]"
     ]
    },
    {
     "name": "stdout",
     "output_type": "stream",
     "text": [
      "Wei_agg_mean_CONTACT==!==NAME_FAMILY_STATUS_x\n",
      "(307511, 1154)\n",
      "(48744, 1153)\n",
      "--------\n"
     ]
    },
    {
     "name": "stderr",
     "output_type": "stream",
     "text": [
      "\r",
      "298it [40:12,  8.10s/it]"
     ]
    },
    {
     "name": "stdout",
     "output_type": "stream",
     "text": [
      "Wei_agg_mean_CONTACT==!==Wei_CNT_NOT_TERMINATION\n",
      "(307511, 1154)\n",
      "(48744, 1153)\n",
      "--------\n"
     ]
    },
    {
     "name": "stderr",
     "output_type": "stream",
     "text": [
      "\r",
      "299it [40:20,  8.10s/it]"
     ]
    },
    {
     "name": "stdout",
     "output_type": "stream",
     "text": [
      "Wei_agg_mean_CONTACT==!==Wei_IF_TERMINATION_LAST\n",
      "(307511, 1154)\n",
      "(48744, 1153)\n",
      "--------\n"
     ]
    },
    {
     "name": "stderr",
     "output_type": "stream",
     "text": [
      "\r",
      "300it [40:29,  8.10s/it]"
     ]
    },
    {
     "name": "stdout",
     "output_type": "stream",
     "text": [
      "Wei_agg_mean_CONTACT==!==BU_CREDIT_ACTIVE_category\n",
      "(307511, 1154)\n",
      "(48744, 1153)\n",
      "--------\n"
     ]
    },
    {
     "name": "stderr",
     "output_type": "stream",
     "text": [
      "\r",
      "301it [40:37,  8.10s/it]"
     ]
    },
    {
     "name": "stdout",
     "output_type": "stream",
     "text": [
      "Wei_agg_mean_CONTACT==!==BU_CREDIT_CURRENCY_category\n",
      "(307511, 1154)\n",
      "(48744, 1153)\n",
      "--------\n"
     ]
    },
    {
     "name": "stderr",
     "output_type": "stream",
     "text": [
      "\r",
      "302it [40:45,  8.10s/it]"
     ]
    },
    {
     "name": "stdout",
     "output_type": "stream",
     "text": [
      "Wei_agg_mean_CONTACT==!==BU_CREDIT_TYPE_category\n",
      "(307511, 1154)\n",
      "(48744, 1153)\n",
      "--------\n"
     ]
    },
    {
     "name": "stderr",
     "output_type": "stream",
     "text": [
      "\r",
      "303it [40:53,  8.10s/it]"
     ]
    },
    {
     "name": "stdout",
     "output_type": "stream",
     "text": [
      "Wei_agg_mean_CONTACT==!==BU_CNT_CREDIT_PROLONG_SUM\n",
      "(307511, 1154)\n",
      "(48744, 1153)\n",
      "--------\n"
     ]
    },
    {
     "name": "stderr",
     "output_type": "stream",
     "text": [
      "\r",
      "304it [41:02,  8.10s/it]"
     ]
    },
    {
     "name": "stdout",
     "output_type": "stream",
     "text": [
      "Wei_agg_mean_CONTACT==!==Bureau_balance_Last_STATUS_category\n",
      "(307511, 1154)\n",
      "(48744, 1153)\n",
      "--------\n"
     ]
    },
    {
     "name": "stderr",
     "output_type": "stream",
     "text": [
      "\r",
      "305it [41:10,  8.10s/it]"
     ]
    },
    {
     "name": "stdout",
     "output_type": "stream",
     "text": [
      "Wei_agg_mean_CONTACT==!==cnt_cash_30days_late\n",
      "(307511, 1154)\n",
      "(48744, 1153)\n",
      "--------\n"
     ]
    },
    {
     "name": "stderr",
     "output_type": "stream",
     "text": [
      "\r",
      "306it [41:18,  8.10s/it]"
     ]
    },
    {
     "name": "stdout",
     "output_type": "stream",
     "text": [
      "Wei_agg_mean_CONTACT==!==cnt_cons_30days_late\n",
      "(307511, 1154)\n",
      "(48744, 1153)\n",
      "--------\n"
     ]
    },
    {
     "name": "stderr",
     "output_type": "stream",
     "text": [
      "\r",
      "307it [41:26,  8.10s/it]"
     ]
    },
    {
     "name": "stdout",
     "output_type": "stream",
     "text": [
      "Wei_agg_mean_NAME_FAMILY_STATUS_x==!==Wei_CNT_NOT_TERMINATION\n",
      "(307511, 1154)\n",
      "(48744, 1153)\n",
      "--------\n"
     ]
    },
    {
     "name": "stderr",
     "output_type": "stream",
     "text": [
      "\r",
      "308it [41:34,  8.10s/it]"
     ]
    },
    {
     "name": "stdout",
     "output_type": "stream",
     "text": [
      "Wei_agg_mean_NAME_FAMILY_STATUS_x==!==Wei_IF_TERMINATION_LAST\n",
      "(307511, 1154)\n",
      "(48744, 1153)\n",
      "--------\n"
     ]
    },
    {
     "name": "stderr",
     "output_type": "stream",
     "text": [
      "\r",
      "309it [41:43,  8.10s/it]"
     ]
    },
    {
     "name": "stdout",
     "output_type": "stream",
     "text": [
      "Wei_agg_mean_NAME_FAMILY_STATUS_x==!==BU_CREDIT_ACTIVE_category\n",
      "(307511, 1154)\n",
      "(48744, 1153)\n",
      "--------\n"
     ]
    },
    {
     "name": "stderr",
     "output_type": "stream",
     "text": [
      "\r",
      "310it [41:51,  8.10s/it]"
     ]
    },
    {
     "name": "stdout",
     "output_type": "stream",
     "text": [
      "Wei_agg_mean_NAME_FAMILY_STATUS_x==!==BU_CREDIT_CURRENCY_category\n",
      "(307511, 1154)\n",
      "(48744, 1153)\n",
      "--------\n"
     ]
    },
    {
     "name": "stderr",
     "output_type": "stream",
     "text": [
      "\r",
      "311it [41:59,  8.10s/it]"
     ]
    },
    {
     "name": "stdout",
     "output_type": "stream",
     "text": [
      "Wei_agg_mean_NAME_FAMILY_STATUS_x==!==BU_CREDIT_TYPE_category\n",
      "(307511, 1154)\n",
      "(48744, 1153)\n",
      "--------\n"
     ]
    },
    {
     "name": "stderr",
     "output_type": "stream",
     "text": [
      "\r",
      "312it [42:08,  8.10s/it]"
     ]
    },
    {
     "name": "stdout",
     "output_type": "stream",
     "text": [
      "Wei_agg_mean_NAME_FAMILY_STATUS_x==!==BU_CNT_CREDIT_PROLONG_SUM\n",
      "(307511, 1154)\n",
      "(48744, 1153)\n",
      "--------\n"
     ]
    },
    {
     "name": "stderr",
     "output_type": "stream",
     "text": [
      "\r",
      "313it [42:16,  8.10s/it]"
     ]
    },
    {
     "name": "stdout",
     "output_type": "stream",
     "text": [
      "Wei_agg_mean_NAME_FAMILY_STATUS_x==!==Bureau_balance_Last_STATUS_category\n",
      "(307511, 1154)\n",
      "(48744, 1153)\n",
      "--------\n"
     ]
    },
    {
     "name": "stderr",
     "output_type": "stream",
     "text": [
      "\r",
      "314it [42:24,  8.10s/it]"
     ]
    },
    {
     "name": "stdout",
     "output_type": "stream",
     "text": [
      "Wei_agg_mean_NAME_FAMILY_STATUS_x==!==cnt_cash_30days_late\n",
      "(307511, 1154)\n",
      "(48744, 1153)\n",
      "--------\n"
     ]
    },
    {
     "name": "stderr",
     "output_type": "stream",
     "text": [
      "\r",
      "315it [42:32,  8.10s/it]"
     ]
    },
    {
     "name": "stdout",
     "output_type": "stream",
     "text": [
      "Wei_agg_mean_NAME_FAMILY_STATUS_x==!==cnt_cons_30days_late\n",
      "(307511, 1154)\n",
      "(48744, 1153)\n",
      "--------\n"
     ]
    },
    {
     "name": "stderr",
     "output_type": "stream",
     "text": [
      "\r",
      "316it [42:40,  8.10s/it]"
     ]
    },
    {
     "name": "stdout",
     "output_type": "stream",
     "text": [
      "Wei_agg_mean_Wei_CNT_NOT_TERMINATION==!==Wei_IF_TERMINATION_LAST\n",
      "(307511, 1154)\n",
      "(48744, 1153)\n",
      "--------\n"
     ]
    },
    {
     "name": "stderr",
     "output_type": "stream",
     "text": [
      "\r",
      "317it [42:49,  8.10s/it]"
     ]
    },
    {
     "name": "stdout",
     "output_type": "stream",
     "text": [
      "Wei_agg_mean_Wei_CNT_NOT_TERMINATION==!==BU_CREDIT_ACTIVE_category\n",
      "(307511, 1154)\n",
      "(48744, 1153)\n",
      "--------\n"
     ]
    },
    {
     "name": "stderr",
     "output_type": "stream",
     "text": [
      "\r",
      "318it [42:57,  8.11s/it]"
     ]
    },
    {
     "name": "stdout",
     "output_type": "stream",
     "text": [
      "Wei_agg_mean_Wei_CNT_NOT_TERMINATION==!==BU_CREDIT_CURRENCY_category\n",
      "(307511, 1154)\n",
      "(48744, 1153)\n",
      "--------\n"
     ]
    },
    {
     "name": "stderr",
     "output_type": "stream",
     "text": [
      "\r",
      "319it [43:05,  8.11s/it]"
     ]
    },
    {
     "name": "stdout",
     "output_type": "stream",
     "text": [
      "Wei_agg_mean_Wei_CNT_NOT_TERMINATION==!==BU_CREDIT_TYPE_category\n",
      "(307511, 1154)\n",
      "(48744, 1153)\n",
      "--------\n"
     ]
    },
    {
     "name": "stderr",
     "output_type": "stream",
     "text": [
      "\r",
      "320it [43:14,  8.11s/it]"
     ]
    },
    {
     "name": "stdout",
     "output_type": "stream",
     "text": [
      "Wei_agg_mean_Wei_CNT_NOT_TERMINATION==!==BU_CNT_CREDIT_PROLONG_SUM\n",
      "(307511, 1154)\n",
      "(48744, 1153)\n",
      "--------\n"
     ]
    },
    {
     "name": "stderr",
     "output_type": "stream",
     "text": [
      "\r",
      "321it [43:22,  8.11s/it]"
     ]
    },
    {
     "name": "stdout",
     "output_type": "stream",
     "text": [
      "Wei_agg_mean_Wei_CNT_NOT_TERMINATION==!==Bureau_balance_Last_STATUS_category\n",
      "(307511, 1154)\n",
      "(48744, 1153)\n",
      "--------\n"
     ]
    },
    {
     "name": "stderr",
     "output_type": "stream",
     "text": [
      "\r",
      "322it [43:30,  8.11s/it]"
     ]
    },
    {
     "name": "stdout",
     "output_type": "stream",
     "text": [
      "Wei_agg_mean_Wei_CNT_NOT_TERMINATION==!==cnt_cash_30days_late\n",
      "(307511, 1154)\n",
      "(48744, 1153)\n",
      "--------\n"
     ]
    },
    {
     "name": "stderr",
     "output_type": "stream",
     "text": [
      "\r",
      "323it [43:38,  8.11s/it]"
     ]
    },
    {
     "name": "stdout",
     "output_type": "stream",
     "text": [
      "Wei_agg_mean_Wei_CNT_NOT_TERMINATION==!==cnt_cons_30days_late\n",
      "(307511, 1154)\n",
      "(48744, 1153)\n",
      "--------\n"
     ]
    },
    {
     "name": "stderr",
     "output_type": "stream",
     "text": [
      "\r",
      "324it [43:46,  8.11s/it]"
     ]
    },
    {
     "name": "stdout",
     "output_type": "stream",
     "text": [
      "Wei_agg_mean_Wei_IF_TERMINATION_LAST==!==BU_CREDIT_ACTIVE_category\n",
      "(307511, 1154)\n",
      "(48744, 1153)\n",
      "--------\n"
     ]
    },
    {
     "name": "stderr",
     "output_type": "stream",
     "text": [
      "\r",
      "325it [43:55,  8.11s/it]"
     ]
    },
    {
     "name": "stdout",
     "output_type": "stream",
     "text": [
      "Wei_agg_mean_Wei_IF_TERMINATION_LAST==!==BU_CREDIT_CURRENCY_category\n",
      "(307511, 1154)\n",
      "(48744, 1153)\n",
      "--------\n"
     ]
    },
    {
     "name": "stderr",
     "output_type": "stream",
     "text": [
      "\r",
      "326it [44:03,  8.11s/it]"
     ]
    },
    {
     "name": "stdout",
     "output_type": "stream",
     "text": [
      "Wei_agg_mean_Wei_IF_TERMINATION_LAST==!==BU_CREDIT_TYPE_category\n",
      "(307511, 1154)\n",
      "(48744, 1153)\n",
      "--------\n"
     ]
    },
    {
     "name": "stderr",
     "output_type": "stream",
     "text": [
      "\r",
      "327it [44:11,  8.11s/it]"
     ]
    },
    {
     "name": "stdout",
     "output_type": "stream",
     "text": [
      "Wei_agg_mean_Wei_IF_TERMINATION_LAST==!==BU_CNT_CREDIT_PROLONG_SUM\n",
      "(307511, 1154)\n",
      "(48744, 1153)\n",
      "--------\n"
     ]
    },
    {
     "name": "stderr",
     "output_type": "stream",
     "text": [
      "\r",
      "328it [44:19,  8.11s/it]"
     ]
    },
    {
     "name": "stdout",
     "output_type": "stream",
     "text": [
      "Wei_agg_mean_Wei_IF_TERMINATION_LAST==!==Bureau_balance_Last_STATUS_category\n",
      "(307511, 1154)\n",
      "(48744, 1153)\n",
      "--------\n"
     ]
    },
    {
     "name": "stderr",
     "output_type": "stream",
     "text": [
      "\r",
      "329it [44:27,  8.11s/it]"
     ]
    },
    {
     "name": "stdout",
     "output_type": "stream",
     "text": [
      "Wei_agg_mean_Wei_IF_TERMINATION_LAST==!==cnt_cash_30days_late\n",
      "(307511, 1154)\n",
      "(48744, 1153)\n",
      "--------\n"
     ]
    },
    {
     "name": "stderr",
     "output_type": "stream",
     "text": [
      "\r",
      "330it [44:36,  8.11s/it]"
     ]
    },
    {
     "name": "stdout",
     "output_type": "stream",
     "text": [
      "Wei_agg_mean_Wei_IF_TERMINATION_LAST==!==cnt_cons_30days_late\n",
      "(307511, 1154)\n",
      "(48744, 1153)\n",
      "--------\n"
     ]
    },
    {
     "name": "stderr",
     "output_type": "stream",
     "text": [
      "\r",
      "331it [44:44,  8.11s/it]"
     ]
    },
    {
     "name": "stdout",
     "output_type": "stream",
     "text": [
      "Wei_agg_mean_BU_CREDIT_ACTIVE_category==!==BU_CREDIT_CURRENCY_category\n",
      "(307511, 1154)\n",
      "(48744, 1153)\n",
      "--------\n"
     ]
    },
    {
     "name": "stderr",
     "output_type": "stream",
     "text": [
      "\r",
      "332it [44:52,  8.11s/it]"
     ]
    },
    {
     "name": "stdout",
     "output_type": "stream",
     "text": [
      "Wei_agg_mean_BU_CREDIT_ACTIVE_category==!==BU_CREDIT_TYPE_category\n",
      "(307511, 1154)\n",
      "(48744, 1153)\n",
      "--------\n"
     ]
    },
    {
     "name": "stderr",
     "output_type": "stream",
     "text": [
      "\r",
      "333it [45:00,  8.11s/it]"
     ]
    },
    {
     "name": "stdout",
     "output_type": "stream",
     "text": [
      "Wei_agg_mean_BU_CREDIT_ACTIVE_category==!==BU_CNT_CREDIT_PROLONG_SUM\n",
      "(307511, 1154)\n",
      "(48744, 1153)\n",
      "--------\n"
     ]
    },
    {
     "name": "stderr",
     "output_type": "stream",
     "text": [
      "\r",
      "334it [45:09,  8.11s/it]"
     ]
    },
    {
     "name": "stdout",
     "output_type": "stream",
     "text": [
      "Wei_agg_mean_BU_CREDIT_ACTIVE_category==!==Bureau_balance_Last_STATUS_category\n",
      "(307511, 1154)\n",
      "(48744, 1153)\n",
      "--------\n"
     ]
    },
    {
     "name": "stderr",
     "output_type": "stream",
     "text": [
      "\r",
      "335it [45:17,  8.11s/it]"
     ]
    },
    {
     "name": "stdout",
     "output_type": "stream",
     "text": [
      "Wei_agg_mean_BU_CREDIT_ACTIVE_category==!==cnt_cash_30days_late\n",
      "(307511, 1154)\n",
      "(48744, 1153)\n",
      "--------\n"
     ]
    },
    {
     "name": "stderr",
     "output_type": "stream",
     "text": [
      "\r",
      "336it [45:25,  8.11s/it]"
     ]
    },
    {
     "name": "stdout",
     "output_type": "stream",
     "text": [
      "Wei_agg_mean_BU_CREDIT_ACTIVE_category==!==cnt_cons_30days_late\n",
      "(307511, 1154)\n",
      "(48744, 1153)\n",
      "--------\n"
     ]
    },
    {
     "name": "stderr",
     "output_type": "stream",
     "text": [
      "\r",
      "337it [45:33,  8.11s/it]"
     ]
    },
    {
     "name": "stdout",
     "output_type": "stream",
     "text": [
      "Wei_agg_mean_BU_CREDIT_CURRENCY_category==!==BU_CREDIT_TYPE_category\n",
      "(307511, 1154)\n",
      "(48744, 1153)\n",
      "--------\n"
     ]
    },
    {
     "name": "stderr",
     "output_type": "stream",
     "text": [
      "\r",
      "338it [45:41,  8.11s/it]"
     ]
    },
    {
     "name": "stdout",
     "output_type": "stream",
     "text": [
      "Wei_agg_mean_BU_CREDIT_CURRENCY_category==!==BU_CNT_CREDIT_PROLONG_SUM\n",
      "(307511, 1154)\n",
      "(48744, 1153)\n",
      "--------\n"
     ]
    },
    {
     "name": "stderr",
     "output_type": "stream",
     "text": [
      "\r",
      "339it [45:50,  8.11s/it]"
     ]
    },
    {
     "name": "stdout",
     "output_type": "stream",
     "text": [
      "Wei_agg_mean_BU_CREDIT_CURRENCY_category==!==Bureau_balance_Last_STATUS_category\n",
      "(307511, 1154)\n",
      "(48744, 1153)\n",
      "--------\n"
     ]
    },
    {
     "name": "stderr",
     "output_type": "stream",
     "text": [
      "\r",
      "340it [45:58,  8.11s/it]"
     ]
    },
    {
     "name": "stdout",
     "output_type": "stream",
     "text": [
      "Wei_agg_mean_BU_CREDIT_CURRENCY_category==!==cnt_cash_30days_late\n",
      "(307511, 1154)\n",
      "(48744, 1153)\n",
      "--------\n"
     ]
    },
    {
     "name": "stderr",
     "output_type": "stream",
     "text": [
      "\r",
      "341it [46:06,  8.11s/it]"
     ]
    },
    {
     "name": "stdout",
     "output_type": "stream",
     "text": [
      "Wei_agg_mean_BU_CREDIT_CURRENCY_category==!==cnt_cons_30days_late\n",
      "(307511, 1154)\n",
      "(48744, 1153)\n",
      "--------\n"
     ]
    },
    {
     "name": "stderr",
     "output_type": "stream",
     "text": [
      "\r",
      "342it [46:14,  8.11s/it]"
     ]
    },
    {
     "name": "stdout",
     "output_type": "stream",
     "text": [
      "Wei_agg_mean_BU_CREDIT_TYPE_category==!==BU_CNT_CREDIT_PROLONG_SUM\n",
      "(307511, 1154)\n",
      "(48744, 1153)\n",
      "--------\n"
     ]
    },
    {
     "name": "stderr",
     "output_type": "stream",
     "text": [
      "\r",
      "343it [46:23,  8.11s/it]"
     ]
    },
    {
     "name": "stdout",
     "output_type": "stream",
     "text": [
      "Wei_agg_mean_BU_CREDIT_TYPE_category==!==Bureau_balance_Last_STATUS_category\n",
      "(307511, 1154)\n",
      "(48744, 1153)\n",
      "--------\n"
     ]
    },
    {
     "name": "stderr",
     "output_type": "stream",
     "text": [
      "\r",
      "344it [46:31,  8.11s/it]"
     ]
    },
    {
     "name": "stdout",
     "output_type": "stream",
     "text": [
      "Wei_agg_mean_BU_CREDIT_TYPE_category==!==cnt_cash_30days_late\n",
      "(307511, 1154)\n",
      "(48744, 1153)\n",
      "--------\n"
     ]
    },
    {
     "name": "stderr",
     "output_type": "stream",
     "text": [
      "\r",
      "345it [46:39,  8.11s/it]"
     ]
    },
    {
     "name": "stdout",
     "output_type": "stream",
     "text": [
      "Wei_agg_mean_BU_CREDIT_TYPE_category==!==cnt_cons_30days_late\n",
      "(307511, 1154)\n",
      "(48744, 1153)\n",
      "--------\n"
     ]
    },
    {
     "name": "stderr",
     "output_type": "stream",
     "text": [
      "\r",
      "346it [46:47,  8.11s/it]"
     ]
    },
    {
     "name": "stdout",
     "output_type": "stream",
     "text": [
      "Wei_agg_mean_BU_CNT_CREDIT_PROLONG_SUM==!==Bureau_balance_Last_STATUS_category\n",
      "(307511, 1154)\n",
      "(48744, 1153)\n",
      "--------\n"
     ]
    },
    {
     "name": "stderr",
     "output_type": "stream",
     "text": [
      "\r",
      "347it [46:55,  8.11s/it]"
     ]
    },
    {
     "name": "stdout",
     "output_type": "stream",
     "text": [
      "Wei_agg_mean_BU_CNT_CREDIT_PROLONG_SUM==!==cnt_cash_30days_late\n",
      "(307511, 1154)\n",
      "(48744, 1153)\n",
      "--------\n"
     ]
    },
    {
     "name": "stderr",
     "output_type": "stream",
     "text": [
      "\r",
      "348it [47:03,  8.11s/it]"
     ]
    },
    {
     "name": "stdout",
     "output_type": "stream",
     "text": [
      "Wei_agg_mean_BU_CNT_CREDIT_PROLONG_SUM==!==cnt_cons_30days_late\n",
      "(307511, 1154)\n",
      "(48744, 1153)\n",
      "--------\n"
     ]
    },
    {
     "name": "stderr",
     "output_type": "stream",
     "text": [
      "\r",
      "349it [47:12,  8.12s/it]"
     ]
    },
    {
     "name": "stdout",
     "output_type": "stream",
     "text": [
      "Wei_agg_mean_Bureau_balance_Last_STATUS_category==!==cnt_cash_30days_late\n",
      "(307511, 1154)\n",
      "(48744, 1153)\n",
      "--------\n"
     ]
    },
    {
     "name": "stderr",
     "output_type": "stream",
     "text": [
      "\r",
      "350it [47:20,  8.12s/it]"
     ]
    },
    {
     "name": "stdout",
     "output_type": "stream",
     "text": [
      "Wei_agg_mean_Bureau_balance_Last_STATUS_category==!==cnt_cons_30days_late\n",
      "(307511, 1154)\n",
      "(48744, 1153)\n",
      "--------\n"
     ]
    },
    {
     "name": "stderr",
     "output_type": "stream",
     "text": [
      "\r",
      "351it [47:28,  8.12s/it]"
     ]
    },
    {
     "name": "stdout",
     "output_type": "stream",
     "text": [
      "Wei_agg_mean_cnt_cash_30days_late==!==cnt_cons_30days_late\n",
      "(307511, 1154)\n",
      "(48744, 1153)\n",
      "--------\n"
     ]
    },
    {
     "name": "stderr",
     "output_type": "stream",
     "text": [
      "\n"
     ]
    }
   ],
   "source": [
    "seed=20\n",
    "num_folds =5\n",
    "\n",
    "def get_column_name(cols):\n",
    "    return 'Wei_agg_mean_' + '==!=='.join(cols)\n",
    "\n",
    "\n",
    "def get_groups(df,cols):\n",
    "    dff = df[list(cols)].copy()\n",
    "    name = 'Wei_Aggre_'\n",
    "    seri = df[cols[0]].astype('str')\n",
    "    for col in cols[1:]:\n",
    "        name = name+'_'+col\n",
    "        seri += '_'+dff[col].astype('str')\n",
    "    return seri,name\n",
    "\n",
    "folds = StratifiedKFold(n_splits= num_folds, shuffle=True, random_state=seed)\n",
    "\n",
    "for c in combinations(cates,2):\n",
    "        col_name = get_column_name(c)\n",
    "        train[col_name] = 0\n",
    "        test[col_name] = 0\n",
    "\n",
    "train_index = []\n",
    "val_index = []\n",
    "for tr_inx,te_inx in folds.split(train,train['TARGET']):\n",
    "    train_index.append(tr_inx)\n",
    "    val_index.append(te_inx)\n",
    "\n",
    "        \n",
    "print(train.shape)\n",
    "print('start...')\n",
    "\n",
    "for c in tqdm(combinations(cates,2)):\n",
    "    for k in range(num_folds):\n",
    "        col_name = get_column_name(c)\n",
    "        \n",
    "        seri, group_name = get_groups(train,c)\n",
    "        train[group_name] = seri\n",
    "        seri, group_name = get_groups(test,c)\n",
    "        test[group_name] = seri\n",
    "        mean_v = train.iloc[train_index[k]].groupby(group_name).TARGET.mean()\n",
    "        train.loc[te_inx,col_name] = train.loc[val_index[k],group_name].map(mean_v)\n",
    "        test[col_name] += 1/num_folds*test[group_name].map(mean_v)\n",
    "    train = train.drop(group_name,axis=1)\n",
    "    test = test.drop(group_name,axis=1)\n",
    "    print(col_name)\n",
    "    print(train.shape)\n",
    "    print(test.shape)\n",
    "    print('--------')\n",
    "        \n",
    "        "
   ]
  },
  {
   "cell_type": "code",
   "execution_count": 9,
   "metadata": {
    "ExecuteTime": {
     "end_time": "2018-08-28T14:04:12.996824Z",
     "start_time": "2018-08-28T14:04:11.195202Z"
    }
   },
   "outputs": [],
   "source": [
    "# train764 = pd.read_pickle(ENV.lightgbm_train_764.value)\n",
    "# test764 = pd.read_pickle(ENV.lightgbm_test_764.value)\n",
    "\n",
    "# train['SK_ID_CURR'] = train764['SK_ID_CURR']\n",
    "# print(train.shape)\n",
    "# test['SK_ID_CURR'] = test764['SK_ID_CURR']\n",
    "# print(test.shape)"
   ]
  },
  {
   "cell_type": "code",
   "execution_count": 12,
   "metadata": {
    "ExecuteTime": {
     "end_time": "2018-08-28T14:34:08.942465Z",
     "start_time": "2018-08-28T14:34:08.938789Z"
    }
   },
   "outputs": [],
   "source": [
    "drops = ['Wei_external_sources_min==DEVIDE==AMT_CREDIT']"
   ]
  },
  {
   "cell_type": "code",
   "execution_count": 13,
   "metadata": {
    "ExecuteTime": {
     "end_time": "2018-08-28T14:34:14.646967Z",
     "start_time": "2018-08-28T14:34:14.134653Z"
    }
   },
   "outputs": [],
   "source": [
    "train = train.drop(drops,axis=1)\n",
    "test = test.drop(drops,axis=1)"
   ]
  },
  {
   "cell_type": "code",
   "execution_count": 16,
   "metadata": {
    "ExecuteTime": {
     "end_time": "2018-08-28T14:34:42.262447Z",
     "start_time": "2018-08-28T14:34:40.344216Z"
    }
   },
   "outputs": [],
   "source": [
    "train.to_pickle(ENV.lgb_train_0827_raw.value)\n",
    "test.to_pickle(ENV.lgb_test_0827_raw.value)"
   ]
  },
  {
   "cell_type": "code",
   "execution_count": null,
   "metadata": {},
   "outputs": [],
   "source": []
  }
 ],
 "metadata": {
  "kernelspec": {
   "display_name": "Python 3",
   "language": "python",
   "name": "python3"
  },
  "language_info": {
   "codemirror_mode": {
    "name": "ipython",
    "version": 3
   },
   "file_extension": ".py",
   "mimetype": "text/x-python",
   "name": "python",
   "nbconvert_exporter": "python",
   "pygments_lexer": "ipython3",
   "version": "3.6.5"
  },
  "varInspector": {
   "cols": {
    "lenName": 16,
    "lenType": 16,
    "lenVar": 40
   },
   "kernels_config": {
    "python": {
     "delete_cmd_postfix": "",
     "delete_cmd_prefix": "del ",
     "library": "var_list.py",
     "varRefreshCmd": "print(var_dic_list())"
    },
    "r": {
     "delete_cmd_postfix": ") ",
     "delete_cmd_prefix": "rm(",
     "library": "var_list.r",
     "varRefreshCmd": "cat(var_dic_list()) "
    }
   },
   "types_to_exclude": [
    "module",
    "function",
    "builtin_function_or_method",
    "instance",
    "_Feature"
   ],
   "window_display": false
  }
 },
 "nbformat": 4,
 "nbformat_minor": 2
}
