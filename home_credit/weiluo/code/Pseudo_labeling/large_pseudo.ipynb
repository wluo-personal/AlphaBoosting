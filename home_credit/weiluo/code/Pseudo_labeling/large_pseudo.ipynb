{
 "cells": [
  {
   "cell_type": "code",
   "execution_count": 86,
   "metadata": {
    "ExecuteTime": {
     "end_time": "2018-07-12T15:24:16.884385Z",
     "start_time": "2018-07-12T15:24:16.877456Z"
    }
   },
   "outputs": [],
   "source": [
    "import os\n",
    "import numpy as np\n",
    "import pandas as pd\n",
    "import gc\n",
    "import time\n",
    "from contextlib import contextmanager\n",
    "from lightgbm import LGBMClassifier\n",
    "from sklearn.metrics import roc_auc_score, roc_curve\n",
    "from sklearn.model_selection import KFold, StratifiedKFold\n",
    "import matplotlib.pyplot as plt\n",
    "import seaborn as sns\n",
    "import warnings\n",
    "warnings.simplefilter(action='ignore', category=FutureWarning)\n",
    "PATH = '/home/kai/data/kaggle/homecredit/'\n"
   ]
  },
  {
   "cell_type": "code",
   "execution_count": 57,
   "metadata": {
    "ExecuteTime": {
     "end_time": "2018-07-11T14:30:16.517670Z",
     "start_time": "2018-07-11T14:30:05.007956Z"
    }
   },
   "outputs": [],
   "source": [
    "train_ori = pd.read_pickle(PATH + 'train_bo0.pkl')\n",
    "test_ori = pd.read_pickle(PATH + 'test_bo0.pkl')\n",
    "pred_ori = pd.read_csv(PATH + 'submission/blend1.csv')"
   ]
  },
  {
   "cell_type": "code",
   "execution_count": 58,
   "metadata": {
    "ExecuteTime": {
     "end_time": "2018-07-11T14:30:17.380907Z",
     "start_time": "2018-07-11T14:30:17.377001Z"
    }
   },
   "outputs": [],
   "source": [
    "def large_new(df1, df2, prediction, threshold):\n",
    "    print('begin cut large')\n",
    "    pred = prediction.copy()\n",
    "    train_df, test_df = df1.copy(), df2.copy()\n",
    "    print('old shapes,' ,train_df.shape,test_df.shape)\n",
    "    half_pred = pred[pred['TARGET'] > threshold]\n",
    "    index_half = half_pred.index\n",
    "    print('length of half',len(half_pred))\n",
    "    test_half = test_df.iloc[index_half]\n",
    "    test_half['TARGET'] = 1\n",
    "\n",
    "    # drop index_half for test_df, add train\n",
    "    test_df.drop(index_half, inplace = True)\n",
    "    train_df = pd.concat([train_df,test_half])\n",
    "    print('new shapes,',train_df.shape,test_df.shape)\n",
    "    return train_df, test_df, half_pred"
   ]
  },
  {
   "cell_type": "code",
   "execution_count": 65,
   "metadata": {
    "ExecuteTime": {
     "end_time": "2018-07-11T14:33:06.672150Z",
     "start_time": "2018-07-11T14:33:06.624449Z"
    }
   },
   "outputs": [
    {
     "data": {
      "text/html": [
       "<div>\n",
       "<style scoped>\n",
       "    .dataframe tbody tr th:only-of-type {\n",
       "        vertical-align: middle;\n",
       "    }\n",
       "\n",
       "    .dataframe tbody tr th {\n",
       "        vertical-align: top;\n",
       "    }\n",
       "\n",
       "    .dataframe thead th {\n",
       "        text-align: right;\n",
       "    }\n",
       "</style>\n",
       "<table border=\"1\" class=\"dataframe\">\n",
       "  <thead>\n",
       "    <tr style=\"text-align: right;\">\n",
       "      <th></th>\n",
       "      <th>SK_ID_CURR</th>\n",
       "      <th>TARGET</th>\n",
       "    </tr>\n",
       "  </thead>\n",
       "  <tbody>\n",
       "    <tr>\n",
       "      <th>count</th>\n",
       "      <td>48744.000000</td>\n",
       "      <td>48744.000000</td>\n",
       "    </tr>\n",
       "    <tr>\n",
       "      <th>mean</th>\n",
       "      <td>277796.676350</td>\n",
       "      <td>0.071744</td>\n",
       "    </tr>\n",
       "    <tr>\n",
       "      <th>std</th>\n",
       "      <td>103169.547296</td>\n",
       "      <td>0.084132</td>\n",
       "    </tr>\n",
       "    <tr>\n",
       "      <th>min</th>\n",
       "      <td>100001.000000</td>\n",
       "      <td>0.002001</td>\n",
       "    </tr>\n",
       "    <tr>\n",
       "      <th>25%</th>\n",
       "      <td>188557.750000</td>\n",
       "      <td>0.021216</td>\n",
       "    </tr>\n",
       "    <tr>\n",
       "      <th>50%</th>\n",
       "      <td>277549.000000</td>\n",
       "      <td>0.041974</td>\n",
       "    </tr>\n",
       "    <tr>\n",
       "      <th>75%</th>\n",
       "      <td>367555.500000</td>\n",
       "      <td>0.087919</td>\n",
       "    </tr>\n",
       "    <tr>\n",
       "      <th>max</th>\n",
       "      <td>456250.000000</td>\n",
       "      <td>0.778711</td>\n",
       "    </tr>\n",
       "  </tbody>\n",
       "</table>\n",
       "</div>"
      ],
      "text/plain": [
       "          SK_ID_CURR        TARGET\n",
       "count   48744.000000  48744.000000\n",
       "mean   277796.676350      0.071744\n",
       "std    103169.547296      0.084132\n",
       "min    100001.000000      0.002001\n",
       "25%    188557.750000      0.021216\n",
       "50%    277549.000000      0.041974\n",
       "75%    367555.500000      0.087919\n",
       "max    456250.000000      0.778711"
      ]
     },
     "execution_count": 65,
     "metadata": {},
     "output_type": "execute_result"
    }
   ],
   "source": [
    "pred_ori.describe()"
   ]
  },
  {
   "cell_type": "code",
   "execution_count": 71,
   "metadata": {
    "ExecuteTime": {
     "end_time": "2018-07-11T14:38:25.703511Z",
     "start_time": "2018-07-11T14:38:17.021376Z"
    }
   },
   "outputs": [
    {
     "name": "stdout",
     "output_type": "stream",
     "text": [
      "begin cut large\n",
      "old shapes, (307511, 2395) (48744, 2394)\n",
      "length of half 91\n"
     ]
    },
    {
     "name": "stderr",
     "output_type": "stream",
     "text": [
      "/home/kai/anaconda3/lib/python3.6/site-packages/ipykernel_launcher.py:10: SettingWithCopyWarning: \n",
      "A value is trying to be set on a copy of a slice from a DataFrame.\n",
      "Try using .loc[row_indexer,col_indexer] = value instead\n",
      "\n",
      "See the caveats in the documentation: http://pandas.pydata.org/pandas-docs/stable/indexing.html#indexing-view-versus-copy\n",
      "  # Remove the CWD from sys.path while we load stuff.\n"
     ]
    },
    {
     "name": "stdout",
     "output_type": "stream",
     "text": [
      "new shapes, (307602, 2395) (48653, 2394)\n"
     ]
    }
   ],
   "source": [
    "train, test, cut_large = large_new(train_ori, test_ori, pred_ori, 0.6)"
   ]
  },
  {
   "cell_type": "code",
   "execution_count": 61,
   "metadata": {
    "ExecuteTime": {
     "end_time": "2018-07-11T14:31:29.059418Z",
     "start_time": "2018-07-11T14:31:29.045685Z"
    }
   },
   "outputs": [],
   "source": [
    "def small_new(df1, df2, prediction, threshold):\n",
    "    print('begin cut small')\n",
    "    pred = prediction.copy()\n",
    "    train_df, test_df = df1.copy(), df2.copy()\n",
    "    print('old shapes,',test_df.shape,train_df.shape)\n",
    "    small_pred = pred[pred['TARGET'] < threshold]\n",
    "    index_small = small_pred.index\n",
    "    print('length of small',len(small_pred))\n",
    "    test_small = test_df.iloc[index_small]\n",
    "    test_small['TARGET'] = 0\n",
    "\n",
    "    # drop index_small for test_df, add train\n",
    "    test_df.drop(index_small, inplace = True)\n",
    "    train_df = pd.concat([train_df,test_small])\n",
    "    print('new shapes,',test_df.shape,train_df.shape)\n",
    "    return train_df, test_df, small_pred"
   ]
  },
  {
   "cell_type": "code",
   "execution_count": 69,
   "metadata": {
    "ExecuteTime": {
     "end_time": "2018-07-11T14:38:03.441672Z",
     "start_time": "2018-07-11T14:38:03.435153Z"
    }
   },
   "outputs": [],
   "source": [
    "# train, test, cut_small = small_new(train_ori, test_ori, pred_ori, 0.005)"
   ]
  },
  {
   "cell_type": "code",
   "execution_count": 72,
   "metadata": {
    "ExecuteTime": {
     "end_time": "2018-07-11T18:25:33.654855Z",
     "start_time": "2018-07-11T14:38:31.571677Z"
    },
    "collapsed": true
   },
   "outputs": [
    {
     "name": "stdout",
     "output_type": "stream",
     "text": [
      "begin cv\n"
     ]
    },
    {
     "name": "stderr",
     "output_type": "stream",
     "text": [
      "/home/kai/anaconda3/lib/python3.6/site-packages/lightgbm/engine.py:390: UserWarning: Found `num_iteration` in params. Will use it instead of argument\n",
      "  warnings.warn(\"Found `{}` in params. Will use it instead of argument\".format(alias))\n",
      "/home/kai/anaconda3/lib/python3.6/site-packages/lightgbm/basic.py:1027: UserWarning: Using categorical_feature in Dataset.\n",
      "  warnings.warn('Using categorical_feature in Dataset.')\n"
     ]
    },
    {
     "name": "stdout",
     "output_type": "stream",
     "text": [
      "[100]\tcv_agg's auc: 0.761096 + 0.00310528\n",
      "[200]\tcv_agg's auc: 0.773691 + 0.00260612\n",
      "[300]\tcv_agg's auc: 0.782541 + 0.00293995\n",
      "[400]\tcv_agg's auc: 0.787528 + 0.00310356\n",
      "[500]\tcv_agg's auc: 0.790788 + 0.00315946\n",
      "[600]\tcv_agg's auc: 0.79275 + 0.00314467\n",
      "[700]\tcv_agg's auc: 0.794057 + 0.00311753\n",
      "[800]\tcv_agg's auc: 0.794783 + 0.00308738\n",
      "[900]\tcv_agg's auc: 0.795314 + 0.00303433\n",
      "[1000]\tcv_agg's auc: 0.795683 + 0.00315248\n",
      "[1100]\tcv_agg's auc: 0.795943 + 0.0032424\n",
      "[1200]\tcv_agg's auc: 0.796202 + 0.00333095\n",
      "[1300]\tcv_agg's auc: 0.796239 + 0.00331112\n",
      "[1400]\tcv_agg's auc: 0.796264 + 0.00336876\n",
      "[1500]\tcv_agg's auc: 0.7963 + 0.00332573\n",
      "[1600]\tcv_agg's auc: 0.79618 + 0.00334676\n",
      "Optimum boost rounds = 1486\n",
      "Best CV result = 0.7963404625747211\n"
     ]
    },
    {
     "name": "stderr",
     "output_type": "stream",
     "text": [
      "/home/kai/anaconda3/lib/python3.6/site-packages/lightgbm/basic.py:1027: UserWarning: Using categorical_feature in Dataset.\n",
      "  warnings.warn('Using categorical_feature in Dataset.')\n"
     ]
    },
    {
     "name": "stdout",
     "output_type": "stream",
     "text": [
      "139 more than half\n"
     ]
    }
   ],
   "source": [
    "warnings.simplefilter(action='ignore', category=FutureWarning)\n",
    "PATH = '/home/kai/data/kaggle/homecredit/'\n",
    "print('begin cv')\n",
    "target = train['TARGET']\n",
    "test_df = test.copy()\n",
    "ignore_cols = ['ORGANIZATION_TYPE', 'TARGET', 'SK_ID_CURR']\n",
    "features = [x for x in train.columns if x not in ignore_cols]\n",
    "train = train[features]\n",
    "test = test[features]\n",
    "\n",
    "from sklearn.model_selection import StratifiedKFold\n",
    "from lightgbm import LGBMClassifier\n",
    "from sklearn.metrics import roc_auc_score\n",
    "import lightgbm as lgbm\n",
    "\n",
    "lgbm_train = lgbm.Dataset(data=train,\n",
    "                          label=target,\n",
    "\n",
    "                          categorical_feature=[],#categorical_feats,\n",
    "                          free_raw_data=False)\n",
    "\n",
    "# lgbm_params = {'task': 'train', 'boosting_type': 'gbdt', 'objective': 'binary', 'metric': 'auc', \n",
    "#           'learning_rate': 0.01, 'num_leaves': 48, 'num_iteration': 4000, 'verbose': 0 ,\n",
    "#           'colsample_bytree':.8, 'subsample':.9, 'max_depth':7, 'reg_alpha':.1, 'reg_lambda':.1, \n",
    "#           'min_split_gain':.01, 'min_child_weight':1,'num_threads': 12,'feature_fraction': 0.2,\n",
    "#               'scale_pos_weight':1}\n",
    "# lgbm_params = {\n",
    "#     'task': 'train',\n",
    "#     'boosting_type': 'gbdt',\n",
    "#     'objective': 'binary',\n",
    "#     'metric': 'auc',\n",
    "#     'learning_rate': 0.05,\n",
    "#     'num_iteration': 4000,\n",
    "#     'num_threads': 8,\n",
    "\n",
    "#     'num_leaves': int(round(44.368535336628419)),\n",
    "#     'feature_fraction': 0.28231763168020257,\n",
    "#     'bagging_fraction': 0.94901525271474951,\n",
    "#     'max_depth': int(round(8.0430115561596267)),\n",
    "#     'lambda_l1': 0.30680079516647751,\n",
    "#     'lambda_l2': 0.079128660903201031,\n",
    "#     'min_split_gain': 0.054005067457890979,\n",
    "#     'min_child_weight': 98.172643147364937}\n",
    "lgbm_params = {\n",
    "    'task': 'train',\n",
    "    'boosting_type': 'gbdt',\n",
    "    'objective': 'binary',\n",
    "    'metric': 'auc',\n",
    "    'learning_rate': 0.02,\n",
    "    'num_iteration': 4000,\n",
    "    'num_threads': 8,\n",
    "\n",
    "    'num_leaves': int(round(44.368535336628419)),\n",
    "    'feature_fraction': 0.15,\n",
    "    'bagging_fraction': 0.94901525271474951,\n",
    "    'max_depth': int(round(8.0430115561596267)),\n",
    "    'lambda_l1': 0.30680079516647751,\n",
    "    'lambda_l2': 0.079128660903201031,\n",
    "    'min_split_gain': 0.054005067457890979,\n",
    "    'min_child_weight': 15.172643147364937}\n",
    "\n",
    "\n",
    "cv_results = lgbm.cv(train_set=lgbm_train,\n",
    "                     params=lgbm_params,\n",
    "                     nfold=5,\n",
    "                     early_stopping_rounds=150,\n",
    "                     verbose_eval=100,\n",
    "                     metrics=['auc'])\n",
    "\n",
    "optimum_boost_rounds = np.argmax(cv_results['auc-mean'])\n",
    "print('Optimum boost rounds = {}'.format(optimum_boost_rounds))\n",
    "print('Best CV result = {}'.format(np.max(cv_results['auc-mean'])))\n",
    "\n",
    "clf = lgbm.train(train_set=lgbm_train,\n",
    "                 params=lgbm_params,\n",
    "                 num_boost_round=optimum_boost_rounds,\n",
    "                verbose_eval=100)\n",
    "\n",
    "\"\"\" Predict on test set and create submission \"\"\"\n",
    "y_pred = clf.predict(test)\n",
    "out_df = pd.DataFrame({'SK_ID_CURR': test_df['SK_ID_CURR'], 'TARGET': y_pred})\n",
    "#     small_len = out_df[out_df['TARGET']< threshold1]\n",
    "#     large_len = out_df[out_df['TARGET']> threshold2]\n",
    "#     print('length of small and large,',len(small_len),len(large_len))\n",
    "print((out_df['TARGET']>0.5).sum(),'more than half')\n"
   ]
  },
  {
   "cell_type": "code",
   "execution_count": 73,
   "metadata": {
    "ExecuteTime": {
     "end_time": "2018-07-11T18:31:52.245934Z",
     "start_time": "2018-07-11T18:31:52.237228Z"
    }
   },
   "outputs": [
    {
     "data": {
      "text/plain": [
       "(48653, 2)"
      ]
     },
     "execution_count": 73,
     "metadata": {},
     "output_type": "execute_result"
    }
   ],
   "source": [
    "out_df.shape"
   ]
  },
  {
   "cell_type": "code",
   "execution_count": 74,
   "metadata": {
    "ExecuteTime": {
     "end_time": "2018-07-11T18:32:17.114218Z",
     "start_time": "2018-07-11T18:32:17.108329Z"
    }
   },
   "outputs": [
    {
     "data": {
      "text/plain": [
       "(91, 2)"
      ]
     },
     "execution_count": 74,
     "metadata": {},
     "output_type": "execute_result"
    }
   ],
   "source": [
    "cut_large.shape"
   ]
  },
  {
   "cell_type": "code",
   "execution_count": 77,
   "metadata": {
    "ExecuteTime": {
     "end_time": "2018-07-11T18:34:36.697384Z",
     "start_time": "2018-07-11T18:34:35.756659Z"
    }
   },
   "outputs": [],
   "source": [
    "test = pd.read_csv(PATH + 'application_test.csv')\n",
    "test = test[['SK_ID_CURR']]\n",
    "pred = pd.concat([cut_large,out_df], axis = 0)\n",
    "test = test.merge(pred, on = 'SK_ID_CURR', how = 'left')"
   ]
  },
  {
   "cell_type": "code",
   "execution_count": 79,
   "metadata": {
    "ExecuteTime": {
     "end_time": "2018-07-11T18:35:03.997207Z",
     "start_time": "2018-07-11T18:35:03.969098Z"
    },
    "collapsed": true
   },
   "outputs": [
    {
     "data": {
      "text/html": [
       "<div>\n",
       "<style scoped>\n",
       "    .dataframe tbody tr th:only-of-type {\n",
       "        vertical-align: middle;\n",
       "    }\n",
       "\n",
       "    .dataframe tbody tr th {\n",
       "        vertical-align: top;\n",
       "    }\n",
       "\n",
       "    .dataframe thead th {\n",
       "        text-align: right;\n",
       "    }\n",
       "</style>\n",
       "<table border=\"1\" class=\"dataframe\">\n",
       "  <thead>\n",
       "    <tr style=\"text-align: right;\">\n",
       "      <th></th>\n",
       "      <th>SK_ID_CURR</th>\n",
       "      <th>TARGET</th>\n",
       "    </tr>\n",
       "  </thead>\n",
       "  <tbody>\n",
       "    <tr>\n",
       "      <th>634</th>\n",
       "      <td>104410</td>\n",
       "      <td>0.701353</td>\n",
       "    </tr>\n",
       "    <tr>\n",
       "      <th>998</th>\n",
       "      <td>106854</td>\n",
       "      <td>0.634645</td>\n",
       "    </tr>\n",
       "    <tr>\n",
       "      <th>1537</th>\n",
       "      <td>110993</td>\n",
       "      <td>0.500587</td>\n",
       "    </tr>\n",
       "    <tr>\n",
       "      <th>1555</th>\n",
       "      <td>111146</td>\n",
       "      <td>0.502004</td>\n",
       "    </tr>\n",
       "    <tr>\n",
       "      <th>1610</th>\n",
       "      <td>111452</td>\n",
       "      <td>0.654957</td>\n",
       "    </tr>\n",
       "    <tr>\n",
       "      <th>1829</th>\n",
       "      <td>112917</td>\n",
       "      <td>0.511019</td>\n",
       "    </tr>\n",
       "    <tr>\n",
       "      <th>1935</th>\n",
       "      <td>113627</td>\n",
       "      <td>0.719967</td>\n",
       "    </tr>\n",
       "    <tr>\n",
       "      <th>2035</th>\n",
       "      <td>114283</td>\n",
       "      <td>0.725944</td>\n",
       "    </tr>\n",
       "    <tr>\n",
       "      <th>2513</th>\n",
       "      <td>117520</td>\n",
       "      <td>0.646886</td>\n",
       "    </tr>\n",
       "    <tr>\n",
       "      <th>2565</th>\n",
       "      <td>117920</td>\n",
       "      <td>0.597811</td>\n",
       "    </tr>\n",
       "    <tr>\n",
       "      <th>2593</th>\n",
       "      <td>118127</td>\n",
       "      <td>0.536532</td>\n",
       "    </tr>\n",
       "    <tr>\n",
       "      <th>2764</th>\n",
       "      <td>119362</td>\n",
       "      <td>0.601967</td>\n",
       "    </tr>\n",
       "    <tr>\n",
       "      <th>2799</th>\n",
       "      <td>119648</td>\n",
       "      <td>0.505358</td>\n",
       "    </tr>\n",
       "    <tr>\n",
       "      <th>2830</th>\n",
       "      <td>119821</td>\n",
       "      <td>0.603603</td>\n",
       "    </tr>\n",
       "    <tr>\n",
       "      <th>2838</th>\n",
       "      <td>119896</td>\n",
       "      <td>0.646927</td>\n",
       "    </tr>\n",
       "    <tr>\n",
       "      <th>3100</th>\n",
       "      <td>121772</td>\n",
       "      <td>0.679611</td>\n",
       "    </tr>\n",
       "    <tr>\n",
       "      <th>3459</th>\n",
       "      <td>124401</td>\n",
       "      <td>0.570108</td>\n",
       "    </tr>\n",
       "    <tr>\n",
       "      <th>3590</th>\n",
       "      <td>125376</td>\n",
       "      <td>0.530234</td>\n",
       "    </tr>\n",
       "    <tr>\n",
       "      <th>3640</th>\n",
       "      <td>125779</td>\n",
       "      <td>0.645443</td>\n",
       "    </tr>\n",
       "    <tr>\n",
       "      <th>4465</th>\n",
       "      <td>131959</td>\n",
       "      <td>0.517553</td>\n",
       "    </tr>\n",
       "    <tr>\n",
       "      <th>4503</th>\n",
       "      <td>132208</td>\n",
       "      <td>0.504460</td>\n",
       "    </tr>\n",
       "    <tr>\n",
       "      <th>4525</th>\n",
       "      <td>132358</td>\n",
       "      <td>0.778711</td>\n",
       "    </tr>\n",
       "    <tr>\n",
       "      <th>4567</th>\n",
       "      <td>132723</td>\n",
       "      <td>0.602537</td>\n",
       "    </tr>\n",
       "    <tr>\n",
       "      <th>4651</th>\n",
       "      <td>133334</td>\n",
       "      <td>0.553479</td>\n",
       "    </tr>\n",
       "    <tr>\n",
       "      <th>4655</th>\n",
       "      <td>133412</td>\n",
       "      <td>0.570440</td>\n",
       "    </tr>\n",
       "    <tr>\n",
       "      <th>4726</th>\n",
       "      <td>134016</td>\n",
       "      <td>0.511231</td>\n",
       "    </tr>\n",
       "    <tr>\n",
       "      <th>5291</th>\n",
       "      <td>138678</td>\n",
       "      <td>0.606359</td>\n",
       "    </tr>\n",
       "    <tr>\n",
       "      <th>5361</th>\n",
       "      <td>139181</td>\n",
       "      <td>0.502669</td>\n",
       "    </tr>\n",
       "    <tr>\n",
       "      <th>5433</th>\n",
       "      <td>139656</td>\n",
       "      <td>0.570199</td>\n",
       "    </tr>\n",
       "    <tr>\n",
       "      <th>5604</th>\n",
       "      <td>141025</td>\n",
       "      <td>0.706217</td>\n",
       "    </tr>\n",
       "    <tr>\n",
       "      <th>...</th>\n",
       "      <td>...</td>\n",
       "      <td>...</td>\n",
       "    </tr>\n",
       "    <tr>\n",
       "      <th>42722</th>\n",
       "      <td>411674</td>\n",
       "      <td>0.517437</td>\n",
       "    </tr>\n",
       "    <tr>\n",
       "      <th>42746</th>\n",
       "      <td>411842</td>\n",
       "      <td>0.601945</td>\n",
       "    </tr>\n",
       "    <tr>\n",
       "      <th>42965</th>\n",
       "      <td>413243</td>\n",
       "      <td>0.519535</td>\n",
       "    </tr>\n",
       "    <tr>\n",
       "      <th>43080</th>\n",
       "      <td>413752</td>\n",
       "      <td>0.639768</td>\n",
       "    </tr>\n",
       "    <tr>\n",
       "      <th>43145</th>\n",
       "      <td>414050</td>\n",
       "      <td>0.553596</td>\n",
       "    </tr>\n",
       "    <tr>\n",
       "      <th>43171</th>\n",
       "      <td>414253</td>\n",
       "      <td>0.578597</td>\n",
       "    </tr>\n",
       "    <tr>\n",
       "      <th>43481</th>\n",
       "      <td>416696</td>\n",
       "      <td>0.505159</td>\n",
       "    </tr>\n",
       "    <tr>\n",
       "      <th>43643</th>\n",
       "      <td>417990</td>\n",
       "      <td>0.684081</td>\n",
       "    </tr>\n",
       "    <tr>\n",
       "      <th>44032</th>\n",
       "      <td>421386</td>\n",
       "      <td>0.532113</td>\n",
       "    </tr>\n",
       "    <tr>\n",
       "      <th>44076</th>\n",
       "      <td>421996</td>\n",
       "      <td>0.701785</td>\n",
       "    </tr>\n",
       "    <tr>\n",
       "      <th>44741</th>\n",
       "      <td>427575</td>\n",
       "      <td>0.521495</td>\n",
       "    </tr>\n",
       "    <tr>\n",
       "      <th>44795</th>\n",
       "      <td>428054</td>\n",
       "      <td>0.566172</td>\n",
       "    </tr>\n",
       "    <tr>\n",
       "      <th>44991</th>\n",
       "      <td>429511</td>\n",
       "      <td>0.502602</td>\n",
       "    </tr>\n",
       "    <tr>\n",
       "      <th>45233</th>\n",
       "      <td>431238</td>\n",
       "      <td>0.603824</td>\n",
       "    </tr>\n",
       "    <tr>\n",
       "      <th>45243</th>\n",
       "      <td>431315</td>\n",
       "      <td>0.618500</td>\n",
       "    </tr>\n",
       "    <tr>\n",
       "      <th>45277</th>\n",
       "      <td>431543</td>\n",
       "      <td>0.572941</td>\n",
       "    </tr>\n",
       "    <tr>\n",
       "      <th>45685</th>\n",
       "      <td>434006</td>\n",
       "      <td>0.505520</td>\n",
       "    </tr>\n",
       "    <tr>\n",
       "      <th>45919</th>\n",
       "      <td>435562</td>\n",
       "      <td>0.601407</td>\n",
       "    </tr>\n",
       "    <tr>\n",
       "      <th>46145</th>\n",
       "      <td>437343</td>\n",
       "      <td>0.552572</td>\n",
       "    </tr>\n",
       "    <tr>\n",
       "      <th>46351</th>\n",
       "      <td>438856</td>\n",
       "      <td>0.643077</td>\n",
       "    </tr>\n",
       "    <tr>\n",
       "      <th>46700</th>\n",
       "      <td>441297</td>\n",
       "      <td>0.621749</td>\n",
       "    </tr>\n",
       "    <tr>\n",
       "      <th>46976</th>\n",
       "      <td>443264</td>\n",
       "      <td>0.524504</td>\n",
       "    </tr>\n",
       "    <tr>\n",
       "      <th>47299</th>\n",
       "      <td>445743</td>\n",
       "      <td>0.535351</td>\n",
       "    </tr>\n",
       "    <tr>\n",
       "      <th>47394</th>\n",
       "      <td>446472</td>\n",
       "      <td>0.521030</td>\n",
       "    </tr>\n",
       "    <tr>\n",
       "      <th>47690</th>\n",
       "      <td>448536</td>\n",
       "      <td>0.599779</td>\n",
       "    </tr>\n",
       "    <tr>\n",
       "      <th>47901</th>\n",
       "      <td>450042</td>\n",
       "      <td>0.625306</td>\n",
       "    </tr>\n",
       "    <tr>\n",
       "      <th>47991</th>\n",
       "      <td>450644</td>\n",
       "      <td>0.503847</td>\n",
       "    </tr>\n",
       "    <tr>\n",
       "      <th>48367</th>\n",
       "      <td>453378</td>\n",
       "      <td>0.500125</td>\n",
       "    </tr>\n",
       "    <tr>\n",
       "      <th>48426</th>\n",
       "      <td>453781</td>\n",
       "      <td>0.510226</td>\n",
       "    </tr>\n",
       "    <tr>\n",
       "      <th>48662</th>\n",
       "      <td>455513</td>\n",
       "      <td>0.601739</td>\n",
       "    </tr>\n",
       "  </tbody>\n",
       "</table>\n",
       "<p>230 rows × 2 columns</p>\n",
       "</div>"
      ],
      "text/plain": [
       "       SK_ID_CURR    TARGET\n",
       "634        104410  0.701353\n",
       "998        106854  0.634645\n",
       "1537       110993  0.500587\n",
       "1555       111146  0.502004\n",
       "1610       111452  0.654957\n",
       "1829       112917  0.511019\n",
       "1935       113627  0.719967\n",
       "2035       114283  0.725944\n",
       "2513       117520  0.646886\n",
       "2565       117920  0.597811\n",
       "2593       118127  0.536532\n",
       "2764       119362  0.601967\n",
       "2799       119648  0.505358\n",
       "2830       119821  0.603603\n",
       "2838       119896  0.646927\n",
       "3100       121772  0.679611\n",
       "3459       124401  0.570108\n",
       "3590       125376  0.530234\n",
       "3640       125779  0.645443\n",
       "4465       131959  0.517553\n",
       "4503       132208  0.504460\n",
       "4525       132358  0.778711\n",
       "4567       132723  0.602537\n",
       "4651       133334  0.553479\n",
       "4655       133412  0.570440\n",
       "4726       134016  0.511231\n",
       "5291       138678  0.606359\n",
       "5361       139181  0.502669\n",
       "5433       139656  0.570199\n",
       "5604       141025  0.706217\n",
       "...           ...       ...\n",
       "42722      411674  0.517437\n",
       "42746      411842  0.601945\n",
       "42965      413243  0.519535\n",
       "43080      413752  0.639768\n",
       "43145      414050  0.553596\n",
       "43171      414253  0.578597\n",
       "43481      416696  0.505159\n",
       "43643      417990  0.684081\n",
       "44032      421386  0.532113\n",
       "44076      421996  0.701785\n",
       "44741      427575  0.521495\n",
       "44795      428054  0.566172\n",
       "44991      429511  0.502602\n",
       "45233      431238  0.603824\n",
       "45243      431315  0.618500\n",
       "45277      431543  0.572941\n",
       "45685      434006  0.505520\n",
       "45919      435562  0.601407\n",
       "46145      437343  0.552572\n",
       "46351      438856  0.643077\n",
       "46700      441297  0.621749\n",
       "46976      443264  0.524504\n",
       "47299      445743  0.535351\n",
       "47394      446472  0.521030\n",
       "47690      448536  0.599779\n",
       "47901      450042  0.625306\n",
       "47991      450644  0.503847\n",
       "48367      453378  0.500125\n",
       "48426      453781  0.510226\n",
       "48662      455513  0.601739\n",
       "\n",
       "[230 rows x 2 columns]"
      ]
     },
     "execution_count": 79,
     "metadata": {},
     "output_type": "execute_result"
    }
   ],
   "source": [
    "test.head()\n",
    "test[test.TARGET > 0.5]"
   ]
  },
  {
   "cell_type": "code",
   "execution_count": 81,
   "metadata": {
    "ExecuteTime": {
     "end_time": "2018-07-11T18:36:53.497085Z",
     "start_time": "2018-07-11T18:36:53.451537Z"
    }
   },
   "outputs": [
    {
     "data": {
      "text/plain": [
       "count    48744.000000\n",
       "mean        -0.000467\n",
       "std          0.019563\n",
       "min         -0.231371\n",
       "25%         -0.004784\n",
       "50%         -0.000285\n",
       "75%          0.004543\n",
       "max          0.269011\n",
       "Name: TARGET, dtype: float64"
      ]
     },
     "execution_count": 81,
     "metadata": {},
     "output_type": "execute_result"
    }
   ],
   "source": [
    "pred_803 = pd.read_csv(PATH + 'submission/blend1.csv')\n",
    "x = test.TARGET - pred_803.TARGET\n",
    "x.describe()"
   ]
  },
  {
   "cell_type": "code",
   "execution_count": 83,
   "metadata": {
    "ExecuteTime": {
     "end_time": "2018-07-11T18:38:11.718155Z",
     "start_time": "2018-07-11T18:38:11.578609Z"
    }
   },
   "outputs": [],
   "source": [
    "abs(x).sum()\n",
    "test.to_csv(PATH + 'submission/blend_large.csv', index = False)"
   ]
  },
  {
   "cell_type": "markdown",
   "metadata": {},
   "source": [
    "# Analysis for pred"
   ]
  },
  {
   "cell_type": "code",
   "execution_count": null,
   "metadata": {},
   "outputs": [],
   "source": []
  },
  {
   "cell_type": "code",
   "execution_count": 87,
   "metadata": {
    "ExecuteTime": {
     "end_time": "2018-07-12T15:24:25.707252Z",
     "start_time": "2018-07-12T15:24:25.595581Z"
    }
   },
   "outputs": [],
   "source": [
    "pred_1 = pd.read_csv(PATH+'submission/06_29_0.csv')\n",
    "pred_2 = pd.read_csv(PATH +'test_2/pred_2.csv')\n",
    "pred_3 = pd.read_csv(PATH +'test_2/pred_3.csv')\n"
   ]
  },
  {
   "cell_type": "code",
   "execution_count": 89,
   "metadata": {
    "ExecuteTime": {
     "end_time": "2018-07-12T15:25:57.872098Z",
     "start_time": "2018-07-12T15:25:57.841500Z"
    }
   },
   "outputs": [],
   "source": [
    "blend1 = pd.read_csv(PATH + 'submission/blend1.csv')\n",
    "blend3 = pred_1.copy()\n",
    "blend3.TARGET = pred_1.TARGET * 0.5 + pred_3.TARGET *0.5"
   ]
  },
  {
   "cell_type": "code",
   "execution_count": 93,
   "metadata": {
    "ExecuteTime": {
     "end_time": "2018-07-12T15:30:38.009395Z",
     "start_time": "2018-07-12T15:30:37.872698Z"
    }
   },
   "outputs": [],
   "source": [
    "x = blend1 - blend3\n",
    "abs(x.TARGET).sum()\n",
    "blend3.to_csv(PATH + 'submission/blend4.csv', index = False)"
   ]
  },
  {
   "cell_type": "code",
   "execution_count": 95,
   "metadata": {
    "ExecuteTime": {
     "end_time": "2018-07-12T15:30:54.498661Z",
     "start_time": "2018-07-12T15:30:54.339395Z"
    }
   },
   "outputs": [],
   "source": [
    "blend4 = pred_1.copy()\n",
    "blend4.TARGET = pred_1.TARGET * 0.7 + pred_3.TARGET *0.3\n",
    "blend4.to_csv(PATH + 'submission/blend5.csv', index = False)"
   ]
  },
  {
   "cell_type": "code",
   "execution_count": 46,
   "metadata": {
    "ExecuteTime": {
     "end_time": "2018-07-11T02:11:20.308926Z",
     "start_time": "2018-07-11T02:11:20.252535Z"
    }
   },
   "outputs": [
    {
     "name": "stdout",
     "output_type": "stream",
     "text": [
      "       SK_ID_CURR        TARGET\n",
      "count     48744.0  48744.000000\n",
      "mean          0.0     -0.007282\n",
      "std           0.0      0.068466\n",
      "min           0.0     -0.838735\n",
      "25%           0.0     -0.008297\n",
      "50%           0.0     -0.000458\n",
      "75%           0.0      0.007144\n",
      "max           0.0      0.374950\n",
      "1100.093830680137\n",
      "       SK_ID_CURR        TARGET\n",
      "count     48744.0  48744.000000\n",
      "mean          0.0     -0.001022\n",
      "std           0.0      0.029821\n",
      "min           0.0     -0.317782\n",
      "25%           0.0     -0.008087\n",
      "50%           0.0     -0.000381\n",
      "75%           0.0      0.007339\n",
      "max           0.0      0.374950\n",
      "816.9059598365895\n",
      "       SK_ID_CURR        TARGET\n",
      "count     48744.0  4.874400e+04\n",
      "mean          0.0  6.260306e-03\n",
      "std           0.0  5.690829e-02\n",
      "min           0.0 -5.551115e-17\n",
      "25%           0.0  0.000000e+00\n",
      "50%           0.0  0.000000e+00\n",
      "75%           0.0  0.000000e+00\n",
      "max           0.0  5.997406e-01\n",
      "305.1523598621816\n"
     ]
    }
   ],
   "source": [
    "x = pred_1 - pred_2\n",
    "y = pred_1 - pred_3\n",
    "z = pred_2 - pred_3\n",
    "for i in [x,y,z]:\n",
    "    print(i.describe())\n",
    "    print(sum(abs(i['TARGET'])))"
   ]
  },
  {
   "cell_type": "code",
   "execution_count": 5,
   "metadata": {
    "ExecuteTime": {
     "end_time": "2018-07-10T23:53:49.528377Z",
     "start_time": "2018-07-10T23:53:49.523364Z"
    }
   },
   "outputs": [
    {
     "name": "stdout",
     "output_type": "stream",
     "text": [
      "(48744, 2) (48744, 2) (48744, 2)\n"
     ]
    }
   ],
   "source": [
    "print(pred_1.shape, pred_2.shape, pred_3.shape)"
   ]
  },
  {
   "cell_type": "code",
   "execution_count": 6,
   "metadata": {
    "ExecuteTime": {
     "end_time": "2018-07-10T23:54:22.472646Z",
     "start_time": "2018-07-10T23:54:22.463848Z"
    }
   },
   "outputs": [],
   "source": [
    "x = (pred_1.TARGET >0.5) & (pred_2.TARGET >0.5) & (pred_3.TARGET >0.5)"
   ]
  },
  {
   "cell_type": "code",
   "execution_count": 7,
   "metadata": {
    "ExecuteTime": {
     "end_time": "2018-07-10T23:54:25.039008Z",
     "start_time": "2018-07-10T23:54:25.027828Z"
    }
   },
   "outputs": [
    {
     "data": {
      "text/plain": [
       "116"
      ]
     },
     "execution_count": 7,
     "metadata": {},
     "output_type": "execute_result"
    }
   ],
   "source": [
    "x.sum()"
   ]
  },
  {
   "cell_type": "code",
   "execution_count": 8,
   "metadata": {
    "ExecuteTime": {
     "end_time": "2018-07-10T23:56:42.676201Z",
     "start_time": "2018-07-10T23:56:42.654837Z"
    },
    "collapsed": true
   },
   "outputs": [
    {
     "data": {
      "text/html": [
       "<div>\n",
       "<style scoped>\n",
       "    .dataframe tbody tr th:only-of-type {\n",
       "        vertical-align: middle;\n",
       "    }\n",
       "\n",
       "    .dataframe tbody tr th {\n",
       "        vertical-align: top;\n",
       "    }\n",
       "\n",
       "    .dataframe thead th {\n",
       "        text-align: right;\n",
       "    }\n",
       "</style>\n",
       "<table border=\"1\" class=\"dataframe\">\n",
       "  <thead>\n",
       "    <tr style=\"text-align: right;\">\n",
       "      <th></th>\n",
       "      <th>SK_ID_CURR</th>\n",
       "      <th>TARGET</th>\n",
       "    </tr>\n",
       "  </thead>\n",
       "  <tbody>\n",
       "    <tr>\n",
       "      <th>634</th>\n",
       "      <td>104410</td>\n",
       "      <td>0.657005</td>\n",
       "    </tr>\n",
       "    <tr>\n",
       "      <th>998</th>\n",
       "      <td>106854</td>\n",
       "      <td>0.600391</td>\n",
       "    </tr>\n",
       "    <tr>\n",
       "      <th>1610</th>\n",
       "      <td>111452</td>\n",
       "      <td>0.685340</td>\n",
       "    </tr>\n",
       "    <tr>\n",
       "      <th>1935</th>\n",
       "      <td>113627</td>\n",
       "      <td>0.723145</td>\n",
       "    </tr>\n",
       "    <tr>\n",
       "      <th>2035</th>\n",
       "      <td>114283</td>\n",
       "      <td>0.661640</td>\n",
       "    </tr>\n",
       "    <tr>\n",
       "      <th>2513</th>\n",
       "      <td>117520</td>\n",
       "      <td>0.617668</td>\n",
       "    </tr>\n",
       "    <tr>\n",
       "      <th>2585</th>\n",
       "      <td>118060</td>\n",
       "      <td>0.525313</td>\n",
       "    </tr>\n",
       "    <tr>\n",
       "      <th>2593</th>\n",
       "      <td>118127</td>\n",
       "      <td>0.538932</td>\n",
       "    </tr>\n",
       "    <tr>\n",
       "      <th>2764</th>\n",
       "      <td>119362</td>\n",
       "      <td>0.541435</td>\n",
       "    </tr>\n",
       "    <tr>\n",
       "      <th>2830</th>\n",
       "      <td>119821</td>\n",
       "      <td>0.546086</td>\n",
       "    </tr>\n",
       "    <tr>\n",
       "      <th>2838</th>\n",
       "      <td>119896</td>\n",
       "      <td>0.681038</td>\n",
       "    </tr>\n",
       "    <tr>\n",
       "      <th>3100</th>\n",
       "      <td>121772</td>\n",
       "      <td>0.666787</td>\n",
       "    </tr>\n",
       "    <tr>\n",
       "      <th>3640</th>\n",
       "      <td>125779</td>\n",
       "      <td>0.595881</td>\n",
       "    </tr>\n",
       "    <tr>\n",
       "      <th>4525</th>\n",
       "      <td>132358</td>\n",
       "      <td>0.744052</td>\n",
       "    </tr>\n",
       "    <tr>\n",
       "      <th>4567</th>\n",
       "      <td>132723</td>\n",
       "      <td>0.565526</td>\n",
       "    </tr>\n",
       "    <tr>\n",
       "      <th>5291</th>\n",
       "      <td>138678</td>\n",
       "      <td>0.600167</td>\n",
       "    </tr>\n",
       "    <tr>\n",
       "      <th>5361</th>\n",
       "      <td>139181</td>\n",
       "      <td>0.539174</td>\n",
       "    </tr>\n",
       "    <tr>\n",
       "      <th>5604</th>\n",
       "      <td>141025</td>\n",
       "      <td>0.719041</td>\n",
       "    </tr>\n",
       "    <tr>\n",
       "      <th>5627</th>\n",
       "      <td>141215</td>\n",
       "      <td>0.706128</td>\n",
       "    </tr>\n",
       "    <tr>\n",
       "      <th>5719</th>\n",
       "      <td>141945</td>\n",
       "      <td>0.554651</td>\n",
       "    </tr>\n",
       "    <tr>\n",
       "      <th>5817</th>\n",
       "      <td>142590</td>\n",
       "      <td>0.650890</td>\n",
       "    </tr>\n",
       "    <tr>\n",
       "      <th>6250</th>\n",
       "      <td>145874</td>\n",
       "      <td>0.527135</td>\n",
       "    </tr>\n",
       "    <tr>\n",
       "      <th>6290</th>\n",
       "      <td>146090</td>\n",
       "      <td>0.526926</td>\n",
       "    </tr>\n",
       "    <tr>\n",
       "      <th>6984</th>\n",
       "      <td>151092</td>\n",
       "      <td>0.692724</td>\n",
       "    </tr>\n",
       "    <tr>\n",
       "      <th>7129</th>\n",
       "      <td>152140</td>\n",
       "      <td>0.649355</td>\n",
       "    </tr>\n",
       "    <tr>\n",
       "      <th>7244</th>\n",
       "      <td>152964</td>\n",
       "      <td>0.693771</td>\n",
       "    </tr>\n",
       "    <tr>\n",
       "      <th>7353</th>\n",
       "      <td>153809</td>\n",
       "      <td>0.661974</td>\n",
       "    </tr>\n",
       "    <tr>\n",
       "      <th>7537</th>\n",
       "      <td>155135</td>\n",
       "      <td>0.703343</td>\n",
       "    </tr>\n",
       "    <tr>\n",
       "      <th>7804</th>\n",
       "      <td>157312</td>\n",
       "      <td>0.698003</td>\n",
       "    </tr>\n",
       "    <tr>\n",
       "      <th>8665</th>\n",
       "      <td>163273</td>\n",
       "      <td>0.525307</td>\n",
       "    </tr>\n",
       "    <tr>\n",
       "      <th>...</th>\n",
       "      <td>...</td>\n",
       "      <td>...</td>\n",
       "    </tr>\n",
       "    <tr>\n",
       "      <th>38118</th>\n",
       "      <td>379485</td>\n",
       "      <td>0.669992</td>\n",
       "    </tr>\n",
       "    <tr>\n",
       "      <th>38266</th>\n",
       "      <td>381164</td>\n",
       "      <td>0.589459</td>\n",
       "    </tr>\n",
       "    <tr>\n",
       "      <th>38552</th>\n",
       "      <td>383433</td>\n",
       "      <td>0.766686</td>\n",
       "    </tr>\n",
       "    <tr>\n",
       "      <th>38881</th>\n",
       "      <td>386295</td>\n",
       "      <td>0.506013</td>\n",
       "    </tr>\n",
       "    <tr>\n",
       "      <th>39398</th>\n",
       "      <td>390242</td>\n",
       "      <td>0.569203</td>\n",
       "    </tr>\n",
       "    <tr>\n",
       "      <th>39553</th>\n",
       "      <td>391367</td>\n",
       "      <td>0.508875</td>\n",
       "    </tr>\n",
       "    <tr>\n",
       "      <th>39942</th>\n",
       "      <td>394113</td>\n",
       "      <td>0.595392</td>\n",
       "    </tr>\n",
       "    <tr>\n",
       "      <th>40342</th>\n",
       "      <td>396995</td>\n",
       "      <td>0.528907</td>\n",
       "    </tr>\n",
       "    <tr>\n",
       "      <th>40557</th>\n",
       "      <td>398488</td>\n",
       "      <td>0.590406</td>\n",
       "    </tr>\n",
       "    <tr>\n",
       "      <th>40991</th>\n",
       "      <td>401635</td>\n",
       "      <td>0.521208</td>\n",
       "    </tr>\n",
       "    <tr>\n",
       "      <th>41338</th>\n",
       "      <td>403689</td>\n",
       "      <td>0.585483</td>\n",
       "    </tr>\n",
       "    <tr>\n",
       "      <th>41339</th>\n",
       "      <td>403690</td>\n",
       "      <td>0.552750</td>\n",
       "    </tr>\n",
       "    <tr>\n",
       "      <th>41472</th>\n",
       "      <td>404274</td>\n",
       "      <td>0.630470</td>\n",
       "    </tr>\n",
       "    <tr>\n",
       "      <th>41507</th>\n",
       "      <td>404380</td>\n",
       "      <td>0.740647</td>\n",
       "    </tr>\n",
       "    <tr>\n",
       "      <th>42746</th>\n",
       "      <td>411842</td>\n",
       "      <td>0.512247</td>\n",
       "    </tr>\n",
       "    <tr>\n",
       "      <th>43080</th>\n",
       "      <td>413752</td>\n",
       "      <td>0.660891</td>\n",
       "    </tr>\n",
       "    <tr>\n",
       "      <th>43171</th>\n",
       "      <td>414253</td>\n",
       "      <td>0.529980</td>\n",
       "    </tr>\n",
       "    <tr>\n",
       "      <th>43643</th>\n",
       "      <td>417990</td>\n",
       "      <td>0.590483</td>\n",
       "    </tr>\n",
       "    <tr>\n",
       "      <th>44076</th>\n",
       "      <td>421996</td>\n",
       "      <td>0.685120</td>\n",
       "    </tr>\n",
       "    <tr>\n",
       "      <th>45233</th>\n",
       "      <td>431238</td>\n",
       "      <td>0.560583</td>\n",
       "    </tr>\n",
       "    <tr>\n",
       "      <th>45243</th>\n",
       "      <td>431315</td>\n",
       "      <td>0.550015</td>\n",
       "    </tr>\n",
       "    <tr>\n",
       "      <th>45277</th>\n",
       "      <td>431543</td>\n",
       "      <td>0.563790</td>\n",
       "    </tr>\n",
       "    <tr>\n",
       "      <th>45919</th>\n",
       "      <td>435562</td>\n",
       "      <td>0.536616</td>\n",
       "    </tr>\n",
       "    <tr>\n",
       "      <th>46145</th>\n",
       "      <td>437343</td>\n",
       "      <td>0.536025</td>\n",
       "    </tr>\n",
       "    <tr>\n",
       "      <th>46351</th>\n",
       "      <td>438856</td>\n",
       "      <td>0.578596</td>\n",
       "    </tr>\n",
       "    <tr>\n",
       "      <th>46700</th>\n",
       "      <td>441297</td>\n",
       "      <td>0.555011</td>\n",
       "    </tr>\n",
       "    <tr>\n",
       "      <th>47690</th>\n",
       "      <td>448536</td>\n",
       "      <td>0.554876</td>\n",
       "    </tr>\n",
       "    <tr>\n",
       "      <th>47901</th>\n",
       "      <td>450042</td>\n",
       "      <td>0.585454</td>\n",
       "    </tr>\n",
       "    <tr>\n",
       "      <th>48367</th>\n",
       "      <td>453378</td>\n",
       "      <td>0.503610</td>\n",
       "    </tr>\n",
       "    <tr>\n",
       "      <th>48662</th>\n",
       "      <td>455513</td>\n",
       "      <td>0.562812</td>\n",
       "    </tr>\n",
       "  </tbody>\n",
       "</table>\n",
       "<p>116 rows × 2 columns</p>\n",
       "</div>"
      ],
      "text/plain": [
       "       SK_ID_CURR    TARGET\n",
       "634        104410  0.657005\n",
       "998        106854  0.600391\n",
       "1610       111452  0.685340\n",
       "1935       113627  0.723145\n",
       "2035       114283  0.661640\n",
       "2513       117520  0.617668\n",
       "2585       118060  0.525313\n",
       "2593       118127  0.538932\n",
       "2764       119362  0.541435\n",
       "2830       119821  0.546086\n",
       "2838       119896  0.681038\n",
       "3100       121772  0.666787\n",
       "3640       125779  0.595881\n",
       "4525       132358  0.744052\n",
       "4567       132723  0.565526\n",
       "5291       138678  0.600167\n",
       "5361       139181  0.539174\n",
       "5604       141025  0.719041\n",
       "5627       141215  0.706128\n",
       "5719       141945  0.554651\n",
       "5817       142590  0.650890\n",
       "6250       145874  0.527135\n",
       "6290       146090  0.526926\n",
       "6984       151092  0.692724\n",
       "7129       152140  0.649355\n",
       "7244       152964  0.693771\n",
       "7353       153809  0.661974\n",
       "7537       155135  0.703343\n",
       "7804       157312  0.698003\n",
       "8665       163273  0.525307\n",
       "...           ...       ...\n",
       "38118      379485  0.669992\n",
       "38266      381164  0.589459\n",
       "38552      383433  0.766686\n",
       "38881      386295  0.506013\n",
       "39398      390242  0.569203\n",
       "39553      391367  0.508875\n",
       "39942      394113  0.595392\n",
       "40342      396995  0.528907\n",
       "40557      398488  0.590406\n",
       "40991      401635  0.521208\n",
       "41338      403689  0.585483\n",
       "41339      403690  0.552750\n",
       "41472      404274  0.630470\n",
       "41507      404380  0.740647\n",
       "42746      411842  0.512247\n",
       "43080      413752  0.660891\n",
       "43171      414253  0.529980\n",
       "43643      417990  0.590483\n",
       "44076      421996  0.685120\n",
       "45233      431238  0.560583\n",
       "45243      431315  0.550015\n",
       "45277      431543  0.563790\n",
       "45919      435562  0.536616\n",
       "46145      437343  0.536025\n",
       "46351      438856  0.578596\n",
       "46700      441297  0.555011\n",
       "47690      448536  0.554876\n",
       "47901      450042  0.585454\n",
       "48367      453378  0.503610\n",
       "48662      455513  0.562812\n",
       "\n",
       "[116 rows x 2 columns]"
      ]
     },
     "execution_count": 8,
     "metadata": {},
     "output_type": "execute_result"
    }
   ],
   "source": [
    "pred_1.loc[x]"
   ]
  },
  {
   "cell_type": "code",
   "execution_count": 19,
   "metadata": {
    "ExecuteTime": {
     "end_time": "2018-07-11T00:09:40.598213Z",
     "start_time": "2018-07-11T00:09:34.214053Z"
    }
   },
   "outputs": [],
   "source": [
    "train_ori = pd.read_pickle(PATH + 'train_bo0.pkl')\n",
    "test_ori = pd.read_pickle(PATH + 'test_bo0.pkl')\n"
   ]
  },
  {
   "cell_type": "code",
   "execution_count": 20,
   "metadata": {
    "ExecuteTime": {
     "end_time": "2018-07-11T00:09:41.492656Z",
     "start_time": "2018-07-11T00:09:40.920462Z"
    }
   },
   "outputs": [
    {
     "name": "stdout",
     "output_type": "stream",
     "text": [
      "original, (307511, 2395) (48744, 2394)\n",
      "(116, 2395)\n"
     ]
    },
    {
     "name": "stderr",
     "output_type": "stream",
     "text": [
      "/home/kai/anaconda3/lib/python3.6/site-packages/ipykernel_launcher.py:3: SettingWithCopyWarning: \n",
      "A value is trying to be set on a copy of a slice from a DataFrame.\n",
      "Try using .loc[row_indexer,col_indexer] = value instead\n",
      "\n",
      "See the caveats in the documentation: http://pandas.pydata.org/pandas-docs/stable/indexing.html#indexing-view-versus-copy\n",
      "  This is separate from the ipykernel package so we can avoid doing imports until\n"
     ]
    }
   ],
   "source": [
    "tmp = test_ori.copy()\n",
    "test_large = tmp.loc[x]\n",
    "test_large['TARGET'] = 1\n",
    "print('original,', train_ori.shape, test_ori.shape)\n",
    "print(test_large.shape)"
   ]
  },
  {
   "cell_type": "code",
   "execution_count": 21,
   "metadata": {
    "ExecuteTime": {
     "end_time": "2018-07-11T00:09:46.483006Z",
     "start_time": "2018-07-11T00:09:41.758611Z"
    }
   },
   "outputs": [
    {
     "name": "stdout",
     "output_type": "stream",
     "text": [
      "(307627, 2395) (48628, 2394)\n"
     ]
    }
   ],
   "source": [
    "# test = test_ori.drop(test_large, axis = 0)\n",
    "train = pd.concat([train_ori, test_large], axis = 0)\n",
    "test = test_ori.loc[~x]\n",
    "print(train.shape, test.shape)"
   ]
  },
  {
   "cell_type": "code",
   "execution_count": 22,
   "metadata": {
    "ExecuteTime": {
     "end_time": "2018-07-11T01:47:21.684350Z",
     "start_time": "2018-07-11T00:10:21.037516Z"
    }
   },
   "outputs": [
    {
     "name": "stdout",
     "output_type": "stream",
     "text": [
      "begin cv\n"
     ]
    },
    {
     "name": "stderr",
     "output_type": "stream",
     "text": [
      "/home/kai/anaconda3/lib/python3.6/site-packages/lightgbm/engine.py:390: UserWarning: Found `num_iteration` in params. Will use it instead of argument\n",
      "  warnings.warn(\"Found `{}` in params. Will use it instead of argument\".format(alias))\n",
      "/home/kai/anaconda3/lib/python3.6/site-packages/lightgbm/basic.py:1027: UserWarning: Using categorical_feature in Dataset.\n",
      "  warnings.warn('Using categorical_feature in Dataset.')\n"
     ]
    },
    {
     "name": "stdout",
     "output_type": "stream",
     "text": [
      "[100]\tcv_agg's auc: 0.761302 + 0.00298085\n",
      "[200]\tcv_agg's auc: 0.773986 + 0.0028527\n",
      "[300]\tcv_agg's auc: 0.782747 + 0.00276872\n",
      "[400]\tcv_agg's auc: 0.787774 + 0.00257664\n",
      "[500]\tcv_agg's auc: 0.790973 + 0.00233752\n",
      "[600]\tcv_agg's auc: 0.792932 + 0.00214634\n",
      "[700]\tcv_agg's auc: 0.794195 + 0.0020962\n",
      "[800]\tcv_agg's auc: 0.794974 + 0.00207049\n",
      "[900]\tcv_agg's auc: 0.795535 + 0.00202317\n",
      "[1000]\tcv_agg's auc: 0.795967 + 0.00202895\n",
      "[1100]\tcv_agg's auc: 0.796189 + 0.00192961\n",
      "[1200]\tcv_agg's auc: 0.796331 + 0.0020462\n",
      "[1300]\tcv_agg's auc: 0.796436 + 0.00202969\n",
      "[1400]\tcv_agg's auc: 0.796473 + 0.00203762\n",
      "[1500]\tcv_agg's auc: 0.796432 + 0.00200176\n",
      "Optimum boost rounds = 1393\n",
      "Best CV result = 0.7964847374342525\n"
     ]
    },
    {
     "name": "stderr",
     "output_type": "stream",
     "text": [
      "/home/kai/anaconda3/lib/python3.6/site-packages/lightgbm/basic.py:1027: UserWarning: Using categorical_feature in Dataset.\n",
      "  warnings.warn('Using categorical_feature in Dataset.')\n"
     ]
    },
    {
     "name": "stdout",
     "output_type": "stream",
     "text": [
      "122 more than half\n"
     ]
    }
   ],
   "source": [
    "warnings.simplefilter(action='ignore', category=FutureWarning)\n",
    "PATH = '/home/kai/data/kaggle/homecredit/'\n",
    "print('begin cv')\n",
    "target = train['TARGET']\n",
    "test_df = test.copy()\n",
    "ignore_cols = ['ORGANIZATION_TYPE', 'TARGET', 'SK_ID_CURR']\n",
    "features = [x for x in train.columns if x not in ignore_cols]\n",
    "train = train[features]\n",
    "test = test[features]\n",
    "\n",
    "from sklearn.model_selection import StratifiedKFold\n",
    "from lightgbm import LGBMClassifier\n",
    "from sklearn.metrics import roc_auc_score\n",
    "import lightgbm as lgbm\n",
    "\n",
    "lgbm_train = lgbm.Dataset(data=train,\n",
    "                          label=target,\n",
    "\n",
    "                          categorical_feature=[],#categorical_feats,\n",
    "                          free_raw_data=False)\n",
    "\n",
    "# lgbm_params = {'task': 'train', 'boosting_type': 'gbdt', 'objective': 'binary', 'metric': 'auc', \n",
    "#           'learning_rate': 0.01, 'num_leaves': 48, 'num_iteration': 4000, 'verbose': 0 ,\n",
    "#           'colsample_bytree':.8, 'subsample':.9, 'max_depth':7, 'reg_alpha':.1, 'reg_lambda':.1, \n",
    "#           'min_split_gain':.01, 'min_child_weight':1,'num_threads': 12,'feature_fraction': 0.2,\n",
    "#               'scale_pos_weight':1}\n",
    "# lgbm_params = {\n",
    "#     'task': 'train',\n",
    "#     'boosting_type': 'gbdt',\n",
    "#     'objective': 'binary',\n",
    "#     'metric': 'auc',\n",
    "#     'learning_rate': 0.05,\n",
    "#     'num_iteration': 4000,\n",
    "#     'num_threads': 8,\n",
    "\n",
    "#     'num_leaves': int(round(44.368535336628419)),\n",
    "#     'feature_fraction': 0.28231763168020257,\n",
    "#     'bagging_fraction': 0.94901525271474951,\n",
    "#     'max_depth': int(round(8.0430115561596267)),\n",
    "#     'lambda_l1': 0.30680079516647751,\n",
    "#     'lambda_l2': 0.079128660903201031,\n",
    "#     'min_split_gain': 0.054005067457890979,\n",
    "#     'min_child_weight': 98.172643147364937}\n",
    "lgbm_params = {\n",
    "    'task': 'train',\n",
    "    'boosting_type': 'gbdt',\n",
    "    'objective': 'binary',\n",
    "    'metric': 'auc',\n",
    "    'learning_rate': 0.02,\n",
    "    'num_iteration': 4000,\n",
    "    'num_threads': 8,\n",
    "\n",
    "    'num_leaves': int(round(44.368535336628419)),\n",
    "    'feature_fraction': 0.15,\n",
    "    'bagging_fraction': 0.94901525271474951,\n",
    "    'max_depth': int(round(8.0430115561596267)),\n",
    "    'lambda_l1': 0.30680079516647751,\n",
    "    'lambda_l2': 0.079128660903201031,\n",
    "    'min_split_gain': 0.054005067457890979,\n",
    "    'min_child_weight': 15.172643147364937}\n",
    "\n",
    "\n",
    "cv_results = lgbm.cv(train_set=lgbm_train,\n",
    "                     params=lgbm_params,\n",
    "                     nfold=5,\n",
    "                     early_stopping_rounds=150,\n",
    "                     verbose_eval=100,\n",
    "                     metrics=['auc'])\n",
    "\n",
    "optimum_boost_rounds = np.argmax(cv_results['auc-mean'])\n",
    "print('Optimum boost rounds = {}'.format(optimum_boost_rounds))\n",
    "print('Best CV result = {}'.format(np.max(cv_results['auc-mean'])))\n",
    "\n",
    "clf = lgbm.train(train_set=lgbm_train,\n",
    "                 params=lgbm_params,\n",
    "                 num_boost_round=optimum_boost_rounds,\n",
    "                verbose_eval=100)\n",
    "\n",
    "\"\"\" Predict on test set and create submission \"\"\"\n",
    "y_pred = clf.predict(test)\n",
    "out_df = pd.DataFrame({'SK_ID_CURR': test_df['SK_ID_CURR'], 'TARGET': y_pred})\n",
    "#     small_len = out_df[out_df['TARGET']< threshold1]\n",
    "#     large_len = out_df[out_df['TARGET']> threshold2]\n",
    "#     print('length of small and large,',len(small_len),len(large_len))\n",
    "print((out_df['TARGET']>0.5).sum(),'more than half')"
   ]
  },
  {
   "cell_type": "code",
   "execution_count": 23,
   "metadata": {
    "ExecuteTime": {
     "end_time": "2018-07-11T01:56:11.204456Z",
     "start_time": "2018-07-11T01:56:11.196249Z"
    }
   },
   "outputs": [],
   "source": [
    "part1 = pred_1.loc[x]\n",
    "part2 = out_df"
   ]
  },
  {
   "cell_type": "code",
   "execution_count": 26,
   "metadata": {
    "ExecuteTime": {
     "end_time": "2018-07-11T01:58:11.017923Z",
     "start_time": "2018-07-11T01:58:11.011208Z"
    }
   },
   "outputs": [
    {
     "name": "stdout",
     "output_type": "stream",
     "text": [
      "(116, 2) (48628, 2)\n"
     ]
    }
   ],
   "source": [
    "print(part1.shape, part2.shape)\n",
    "p = pd.concat([part1, part2], axis = 0)"
   ]
  },
  {
   "cell_type": "code",
   "execution_count": 25,
   "metadata": {
    "ExecuteTime": {
     "end_time": "2018-07-11T01:56:51.699118Z",
     "start_time": "2018-07-11T01:56:51.648097Z"
    }
   },
   "outputs": [],
   "source": [
    "test = test_ori[['SK_ID_CURR']]"
   ]
  },
  {
   "cell_type": "code",
   "execution_count": 27,
   "metadata": {
    "ExecuteTime": {
     "end_time": "2018-07-11T01:58:18.246444Z",
     "start_time": "2018-07-11T01:58:18.221528Z"
    }
   },
   "outputs": [
    {
     "data": {
      "text/html": [
       "<div>\n",
       "<style scoped>\n",
       "    .dataframe tbody tr th:only-of-type {\n",
       "        vertical-align: middle;\n",
       "    }\n",
       "\n",
       "    .dataframe tbody tr th {\n",
       "        vertical-align: top;\n",
       "    }\n",
       "\n",
       "    .dataframe thead th {\n",
       "        text-align: right;\n",
       "    }\n",
       "</style>\n",
       "<table border=\"1\" class=\"dataframe\">\n",
       "  <thead>\n",
       "    <tr style=\"text-align: right;\">\n",
       "      <th></th>\n",
       "      <th>SK_ID_CURR</th>\n",
       "      <th>TARGET</th>\n",
       "    </tr>\n",
       "  </thead>\n",
       "  <tbody>\n",
       "    <tr>\n",
       "      <th>0</th>\n",
       "      <td>100001</td>\n",
       "      <td>0.042861</td>\n",
       "    </tr>\n",
       "    <tr>\n",
       "      <th>1</th>\n",
       "      <td>100005</td>\n",
       "      <td>0.123038</td>\n",
       "    </tr>\n",
       "    <tr>\n",
       "      <th>2</th>\n",
       "      <td>100013</td>\n",
       "      <td>0.028493</td>\n",
       "    </tr>\n",
       "    <tr>\n",
       "      <th>3</th>\n",
       "      <td>100028</td>\n",
       "      <td>0.026717</td>\n",
       "    </tr>\n",
       "    <tr>\n",
       "      <th>4</th>\n",
       "      <td>100038</td>\n",
       "      <td>0.156317</td>\n",
       "    </tr>\n",
       "  </tbody>\n",
       "</table>\n",
       "</div>"
      ],
      "text/plain": [
       "   SK_ID_CURR    TARGET\n",
       "0      100001  0.042861\n",
       "1      100005  0.123038\n",
       "2      100013  0.028493\n",
       "3      100028  0.026717\n",
       "4      100038  0.156317"
      ]
     },
     "execution_count": 27,
     "metadata": {},
     "output_type": "execute_result"
    }
   ],
   "source": [
    "test = test.merge(p, on = 'SK_ID_CURR', how = 'left')\n",
    "test.head()"
   ]
  },
  {
   "cell_type": "code",
   "execution_count": 28,
   "metadata": {
    "ExecuteTime": {
     "end_time": "2018-07-11T01:58:37.451600Z",
     "start_time": "2018-07-11T01:58:37.444002Z"
    }
   },
   "outputs": [
    {
     "data": {
      "text/plain": [
       "238"
      ]
     },
     "execution_count": 28,
     "metadata": {},
     "output_type": "execute_result"
    }
   ],
   "source": [
    "(test.TARGET>0.5).sum()"
   ]
  },
  {
   "cell_type": "code",
   "execution_count": 29,
   "metadata": {
    "ExecuteTime": {
     "end_time": "2018-07-11T02:00:19.604351Z",
     "start_time": "2018-07-11T02:00:19.475712Z"
    }
   },
   "outputs": [],
   "source": [
    "test.to_csv(PATH + 'submission/80_large.csv', index = False)"
   ]
  },
  {
   "cell_type": "code",
   "execution_count": 85,
   "metadata": {
    "ExecuteTime": {
     "end_time": "2018-07-11T18:41:46.522907Z",
     "start_time": "2018-07-11T18:41:46.429077Z"
    }
   },
   "outputs": [
    {
     "name": "stderr",
     "output_type": "stream",
     "text": [
      "/home/kai/anaconda3/lib/python3.6/site-packages/ipykernel_launcher.py:3: SettingWithCopyWarning: \n",
      "A value is trying to be set on a copy of a slice from a DataFrame.\n",
      "Try using .loc[row_indexer,col_indexer] = value instead\n",
      "\n",
      "See the caveats in the documentation: http://pandas.pydata.org/pandas-docs/stable/indexing.html#indexing-view-versus-copy\n",
      "  This is separate from the ipykernel package so we can avoid doing imports until\n"
     ]
    }
   ],
   "source": [
    "test = test_ori[['SK_ID_CURR']]\n",
    "blend1 = pred_1['TARGET'] * 0.5 + pred_2['TARGET'] *0.1 + pred_3['TARGET'] * 0.4\n",
    "test['TARGET'] = blend1\n",
    "\n"
   ]
  },
  {
   "cell_type": "code",
   "execution_count": 51,
   "metadata": {
    "ExecuteTime": {
     "end_time": "2018-07-11T02:12:27.886906Z",
     "start_time": "2018-07-11T02:12:27.882820Z"
    }
   },
   "outputs": [
    {
     "data": {
      "text/plain": [
       "316"
      ]
     },
     "execution_count": 51,
     "metadata": {},
     "output_type": "execute_result"
    }
   ],
   "source": [
    "(test['TARGET']>0.5).sum()"
   ]
  },
  {
   "cell_type": "code",
   "execution_count": 52,
   "metadata": {
    "ExecuteTime": {
     "end_time": "2018-07-11T02:12:52.375264Z",
     "start_time": "2018-07-11T02:12:52.245382Z"
    }
   },
   "outputs": [],
   "source": [
    "test.to_csv(PATH + 'submission/blend1.csv', index = False)"
   ]
  },
  {
   "cell_type": "code",
   "execution_count": null,
   "metadata": {},
   "outputs": [],
   "source": []
  }
 ],
 "metadata": {
  "kernelspec": {
   "display_name": "Python 3",
   "language": "python",
   "name": "python3"
  },
  "language_info": {
   "codemirror_mode": {
    "name": "ipython",
    "version": 3
   },
   "file_extension": ".py",
   "mimetype": "text/x-python",
   "name": "python",
   "nbconvert_exporter": "python",
   "pygments_lexer": "ipython3",
   "version": "3.6.5"
  },
  "varInspector": {
   "cols": {
    "lenName": 16,
    "lenType": 16,
    "lenVar": 40
   },
   "kernels_config": {
    "python": {
     "delete_cmd_postfix": "",
     "delete_cmd_prefix": "del ",
     "library": "var_list.py",
     "varRefreshCmd": "print(var_dic_list())"
    },
    "r": {
     "delete_cmd_postfix": ") ",
     "delete_cmd_prefix": "rm(",
     "library": "var_list.r",
     "varRefreshCmd": "cat(var_dic_list()) "
    }
   },
   "types_to_exclude": [
    "module",
    "function",
    "builtin_function_or_method",
    "instance",
    "_Feature"
   ],
   "window_display": false
  }
 },
 "nbformat": 4,
 "nbformat_minor": 2
}
