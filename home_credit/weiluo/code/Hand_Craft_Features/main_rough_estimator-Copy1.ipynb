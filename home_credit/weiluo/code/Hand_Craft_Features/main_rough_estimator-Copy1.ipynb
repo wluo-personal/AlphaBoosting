{
 "cells": [
  {
   "cell_type": "code",
   "execution_count": 1,
   "metadata": {
    "ExecuteTime": {
     "end_time": "2018-08-22T03:05:18.758065Z",
     "start_time": "2018-08-22T03:05:18.475340Z"
    }
   },
   "outputs": [],
   "source": [
    "import numpy as np\n",
    "import sys,os\n",
    "sys.path.append('../LIB/')\n",
    "from env import ENV\n",
    "from tqdm import tqdm\n",
    "import pandas as pd"
   ]
  },
  {
   "cell_type": "markdown",
   "metadata": {
    "ExecuteTime": {
     "end_time": "2018-08-21T18:46:21.403660Z",
     "start_time": "2018-08-21T18:46:21.386222Z"
    }
   },
   "source": [
    "# binary search"
   ]
  },
  {
   "cell_type": "code",
   "execution_count": 52,
   "metadata": {
    "ExecuteTime": {
     "end_time": "2018-08-22T03:35:16.105215Z",
     "start_time": "2018-08-22T03:35:16.095387Z"
    }
   },
   "outputs": [],
   "source": [
    "pv = 470790\n",
    "length = 12\n",
    "payment = 47041\n",
    "\n",
    "def calculate_payment(pv,length,rate):\n",
    "    return rate *pv / (1- (1+rate)**(-length))\n",
    "\n",
    "def calculate_rate(pv,length,payment,space=np.arange(0,1,0.00001)):\n",
    "    assert length * payment >= pv\n",
    "    target = payment\n",
    "    low = 0\n",
    "    up = len(space)\n",
    "    space_len = len(space)\n",
    "    while up - low > 1:\n",
    "        cur_index = int((low+up) / 2)\n",
    "\n",
    "        rate = space[cur_index]\n",
    "        cal = calculate_payment(pv,length,rate)\n",
    "        if cal == target:\n",
    "            return rate\n",
    "        elif cal < target:\n",
    "            low = cur_index\n",
    "        else:\n",
    "            up = cur_index\n",
    "    if up == space_len:\n",
    "        up -= 1\n",
    "    up_cal = calculate_payment(pv,length,space[up])\n",
    "    low_cal = calculate_payment(pv,length,space[low])\n",
    "    if abs(up_cal - target) <= abs(low_cal - target):\n",
    "        return space[up]\n",
    "    else:\n",
    "        return space[low]\n",
    "        \n",
    "        \n",
    "def estimate_terms(pv,p,ns,t_apr=0.03,nu=60):\n",
    "    low = ns\n",
    "    up = nu\n",
    "    while up - low > 1:\n",
    "        cur_n = int((low+up) / 2)\n",
    "        cal_apr = calculate_rate(pv,cur_n,p)\n",
    "        if cal_apr == t_apr:\n",
    "            return cal_apr,cur_n\n",
    "        elif cal_apr < t_apr:\n",
    "            low = cur_n\n",
    "        elif cal_apr > t_apr:\n",
    "            up = cur_n\n",
    "    up_cal = calculate_rate(pv,up,p)\n",
    "    low_cal = calculate_rate(pv,low,p)\n",
    "    if abs(up_cal - t_apr) <= abs(low_cal - t_apr):\n",
    "        return up_cal,up\n",
    "    else:\n",
    "        return low_cal,low"
   ]
  },
  {
   "cell_type": "markdown",
   "metadata": {},
   "source": [
    "# Load files "
   ]
  },
  {
   "cell_type": "code",
   "execution_count": 109,
   "metadata": {
    "ExecuteTime": {
     "end_time": "2018-08-22T14:31:11.613284Z",
     "start_time": "2018-08-22T14:31:06.089968Z"
    }
   },
   "outputs": [
    {
     "name": "stdout",
     "output_type": "stream",
     "text": [
      "(1670214, 37)\n"
     ]
    }
   ],
   "source": [
    "pre_ori = pd.read_csv(ENV.previous_application_ori.value)\n",
    "print(pre_ori.shape)\n",
    "\n",
    "# ins_ori = pd.read_csv(ENV.installments_payments_ori.value)\n",
    "# print(ins_ori.shape)\n",
    "\n",
    "# pos_ori = pd.read_csv(ENV.POS_CASH_balance_ori.value)\n",
    "# print(pos_ori.shape)\n",
    "\n",
    "# app_ori = pd.read_csv(ENV.application_train_ori.value)\n",
    "# print(app_ori.shape)\n",
    "# app_ori_test = pd.read_csv(ENV.application_test_ori.value)\n",
    "# print(app_ori.shape)\n",
    "\n",
    "# X = pd.concat([app_ori.drop('TARGET',axis=1),app_ori_test])\n",
    "# print(X.shape)"
   ]
  },
  {
   "cell_type": "markdown",
   "metadata": {},
   "source": [
    "## Get Loan Type"
   ]
  },
  {
   "cell_type": "code",
   "execution_count": 4,
   "metadata": {
    "ExecuteTime": {
     "end_time": "2018-08-22T03:05:26.379770Z",
     "start_time": "2018-08-22T03:05:26.342109Z"
    }
   },
   "outputs": [
    {
     "data": {
      "text/plain": [
       "Cash loans         326537\n",
       "Revolving loans     29718\n",
       "Name: NAME_CONTRACT_TYPE, dtype: int64"
      ]
     },
     "execution_count": 4,
     "metadata": {},
     "output_type": "execute_result"
    }
   ],
   "source": [
    "X.NAME_CONTRACT_TYPE.value_counts()"
   ]
  },
  {
   "cell_type": "code",
   "execution_count": 130,
   "metadata": {
    "ExecuteTime": {
     "end_time": "2018-08-22T14:54:01.881903Z",
     "start_time": "2018-08-22T14:54:01.715396Z"
    }
   },
   "outputs": [],
   "source": [
    "X_cash = X[X.NAME_CONTRACT_TYPE=='Cash loans'][['AMT_CREDIT','AMT_ANNUITY','SK_ID_CURR']].copy()"
   ]
  },
  {
   "cell_type": "markdown",
   "metadata": {},
   "source": [
    "## View N/A"
   ]
  },
  {
   "cell_type": "code",
   "execution_count": 131,
   "metadata": {
    "ExecuteTime": {
     "end_time": "2018-08-22T14:54:03.992526Z",
     "start_time": "2018-08-22T14:54:03.975128Z"
    }
   },
   "outputs": [
    {
     "data": {
      "text/plain": [
       "AMT_CREDIT      0\n",
       "AMT_ANNUITY    36\n",
       "SK_ID_CURR      0\n",
       "dtype: int64"
      ]
     },
     "execution_count": 131,
     "metadata": {},
     "output_type": "execute_result"
    }
   ],
   "source": [
    "X_cash.isnull().sum()"
   ]
  },
  {
   "cell_type": "code",
   "execution_count": 132,
   "metadata": {
    "ExecuteTime": {
     "end_time": "2018-08-22T14:54:06.242516Z",
     "start_time": "2018-08-22T14:54:06.096473Z"
    }
   },
   "outputs": [
    {
     "name": "stdout",
     "output_type": "stream",
     "text": [
      "train\n",
      "12\n",
      "test\n",
      "24\n"
     ]
    }
   ],
   "source": [
    "print('train')\n",
    "print(app_ori[app_ori.NAME_CONTRACT_TYPE=='Cash loans'].AMT_ANNUITY.isnull().sum())\n",
    "print('test')\n",
    "print(app_ori_test[app_ori_test.NAME_CONTRACT_TYPE=='Cash loans'].AMT_ANNUITY.isnull().sum())"
   ]
  },
  {
   "cell_type": "code",
   "execution_count": 133,
   "metadata": {
    "ExecuteTime": {
     "end_time": "2018-08-22T14:54:08.391261Z",
     "start_time": "2018-08-22T14:54:08.367819Z"
    }
   },
   "outputs": [
    {
     "name": "stdout",
     "output_type": "stream",
     "text": [
      "(326537, 3)\n",
      "after drop na\n",
      "(326501, 3)\n"
     ]
    }
   ],
   "source": [
    "print(X_cash.shape)\n",
    "print('after drop na')\n",
    "X_cash = X_cash.dropna()\n",
    "print(X_cash.shape)"
   ]
  },
  {
   "cell_type": "markdown",
   "metadata": {},
   "source": [
    "# Step 1. add new col lowLimitLength"
   ]
  },
  {
   "cell_type": "code",
   "execution_count": 134,
   "metadata": {
    "ExecuteTime": {
     "end_time": "2018-08-22T14:54:10.537861Z",
     "start_time": "2018-08-22T14:54:10.504752Z"
    }
   },
   "outputs": [],
   "source": [
    "X_cash['lowLimitLength'] = np.ceil(X_cash.AMT_CREDIT.values/X_cash.AMT_ANNUITY.values)\n",
    "X_cash['lowLimitLength'] = X_cash['lowLimitLength'].astype('int')"
   ]
  },
  {
   "cell_type": "code",
   "execution_count": 135,
   "metadata": {
    "ExecuteTime": {
     "end_time": "2018-08-22T14:54:12.647778Z",
     "start_time": "2018-08-22T14:54:12.645007Z"
    }
   },
   "outputs": [
    {
     "data": {
      "text/plain": [
       "0.059070000000000004"
      ]
     },
     "execution_count": 135,
     "metadata": {},
     "output_type": "execute_result"
    }
   ],
   "source": [
    "pv =135000\n",
    "n = 12\n",
    "payment = 16020\n",
    "calculate_rate(pv,n,payment)"
   ]
  },
  {
   "cell_type": "code",
   "execution_count": 136,
   "metadata": {
    "ExecuteTime": {
     "end_time": "2018-08-22T14:54:14.755812Z",
     "start_time": "2018-08-22T14:54:14.752933Z"
    }
   },
   "outputs": [
    {
     "data": {
      "text/plain": [
       "0.05083000000000001"
      ]
     },
     "execution_count": 136,
     "metadata": {},
     "output_type": "execute_result"
    }
   ],
   "source": [
    "pv =500490.0\n",
    "n = 12\n",
    "payment = 56731.5\n",
    "calculate_rate(pv,n,payment)"
   ]
  },
  {
   "cell_type": "markdown",
   "metadata": {},
   "source": [
    "### for those have length 9."
   ]
  },
  {
   "cell_type": "code",
   "execution_count": 29,
   "metadata": {
    "ExecuteTime": {
     "end_time": "2018-08-22T03:20:04.444311Z",
     "start_time": "2018-08-22T03:20:04.231605Z"
    }
   },
   "outputs": [],
   "source": [
    "X_cash_9 = X_cash[X_cash.lowLimitLength==9].copy()\n",
    "pv_9 = X_cash_9.AMT_CREDIT.values\n",
    "payment_9 = X_cash_9.AMT_ANNUITY.values\n",
    "rate_9 = []\n",
    "for index in range(len(X_cash_9)):\n",
    "    pv = pv_9[index]\n",
    "    p = payment_9[index]\n",
    "    n = 12\n",
    "    rate_9.append(calculate_rate(pv,n,p))\n",
    "X_cash_9['apr'] = rate_9\n",
    "    "
   ]
  },
  {
   "cell_type": "markdown",
   "metadata": {},
   "source": [
    "### for those have length x, and approximate length q"
   ]
  },
  {
   "cell_type": "code",
   "execution_count": null,
   "metadata": {},
   "outputs": [],
   "source": [
    "low_limit_length = [9,]\n",
    "map2l = [12,]\n",
    "counts = [7153,]\n",
    "min_l = [0.04991,]\n",
    "max_l = [0.06780,]"
   ]
  },
  {
   "cell_type": "code",
   "execution_count": 46,
   "metadata": {
    "ExecuteTime": {
     "end_time": "2018-08-22T03:30:23.398854Z",
     "start_time": "2018-08-22T03:30:23.247744Z"
    }
   },
   "outputs": [],
   "source": [
    "x = 9\n",
    "q = 9\n",
    "\n",
    "X_cash_x = X_cash[X_cash.lowLimitLength==x].copy()\n",
    "pv_x = X_cash_x.AMT_CREDIT.values\n",
    "payment_x = X_cash_x.AMT_ANNUITY.values\n",
    "rate_x = []\n",
    "for index in range(len(X_cash_x)):\n",
    "    pv = pv_x[index]\n",
    "    p = payment_x[index]\n",
    "    n = q\n",
    "    rate_x.append(calculate_rate(pv,n,p))\n",
    "X_cash_x['apr'] = rate_x"
   ]
  },
  {
   "cell_type": "code",
   "execution_count": 60,
   "metadata": {
    "ExecuteTime": {
     "end_time": "2018-08-22T03:37:09.127501Z",
     "start_time": "2018-08-22T03:37:09.123310Z"
    }
   },
   "outputs": [
    {
     "data": {
      "text/plain": [
       "0.11277000000000001"
      ]
     },
     "execution_count": 60,
     "metadata": {},
     "output_type": "execute_result"
    }
   ],
   "source": [
    "pv =58500.0\n",
    "n = 120\n",
    "payment = 6597.0\n",
    "calculate_rate(pv,n,payment)"
   ]
  },
  {
   "cell_type": "code",
   "execution_count": null,
   "metadata": {},
   "outputs": [],
   "source": [
    "def calculate_rate(pv,length,payment,space=np.arange(0,1,0.00001)):\n",
    "    assert length * payment >= pv\n",
    "    target = payment\n",
    "    low = 0\n",
    "    up = len(space)\n",
    "    while up - low > 1:\n",
    "        cur_index = int((low+up) / 2)\n",
    "\n",
    "        rate = space[cur_index]\n",
    "        cal = calculate_payment(pv,length,rate)\n",
    "        if cal == target:\n",
    "            return rate\n",
    "        elif cal < target:\n",
    "            low = cur_index\n",
    "        else:\n",
    "            up = cur_index\n",
    "    up_cal = calculate_payment(pv,length,space[up])\n",
    "    low_cal = calculate_payment(pv,length,space[low])\n",
    "    if abs(up_cal - target) <= abs(low_cal - target):\n",
    "        return space[up]\n",
    "    else:\n",
    "        return space[low]"
   ]
  },
  {
   "cell_type": "code",
   "execution_count": 164,
   "metadata": {
    "ExecuteTime": {
     "end_time": "2018-08-22T15:13:18.114459Z",
     "start_time": "2018-08-22T15:13:18.105866Z"
    }
   },
   "outputs": [],
   "source": [
    "def estimate_terms(pv,p,ns,t_apr=0.03,nu=60,step =6):\n",
    "    space_start = int(ns + step - ns %step)\n",
    "    space = list(range(space_start,nu+1,step))\n",
    "    print(space)\n",
    "    low = 0\n",
    "    up = len(space)\n",
    "    while up - low > 1:\n",
    "        cur_index = int((low+up) / 2)\n",
    "        cur_n = space[cur_index]\n",
    "        cal_apr = calculate_rate(pv,cur_n,p)\n",
    "        if cal_apr == t_apr:\n",
    "            return cal_apr,cur_n\n",
    "        elif cal_apr < t_apr:\n",
    "            low = cur_index\n",
    "        elif cal_apr > t_apr:\n",
    "            up = cur_index\n",
    "    print(up)\n",
    "    up_cal = calculate_rate(pv,space[up],p)\n",
    "    low_cal = calculate_rate(pv,space[low],p)\n",
    "    if abs(up_cal - t_apr) <= abs(low_cal - t_apr):\n",
    "        return up_cal,space[up]\n",
    "    else:\n",
    "        return low_cal,space[low]"
   ]
  },
  {
   "cell_type": "code",
   "execution_count": 165,
   "metadata": {
    "ExecuteTime": {
     "end_time": "2018-08-22T15:13:19.739492Z",
     "start_time": "2018-08-22T15:13:19.737461Z"
    }
   },
   "outputs": [
    {
     "name": "stdout",
     "output_type": "stream",
     "text": [
      "1293502.5\n",
      "35698.5\n",
      "37\n"
     ]
    }
   ],
   "source": [
    "print(pv)\n",
    "print(p)\n",
    "print(ns)"
   ]
  },
  {
   "cell_type": "code",
   "execution_count": 166,
   "metadata": {
    "ExecuteTime": {
     "end_time": "2018-08-22T15:13:21.314446Z",
     "start_time": "2018-08-22T15:13:21.305928Z"
    }
   },
   "outputs": [
    {
     "name": "stdout",
     "output_type": "stream",
     "text": [
      "[42, 48, 54, 60]\n",
      "4\n"
     ]
    },
    {
     "ename": "IndexError",
     "evalue": "list index out of range",
     "output_type": "error",
     "traceback": [
      "\u001b[0;31m---------------------------------------------------------------------------\u001b[0m",
      "\u001b[0;31mIndexError\u001b[0m                                Traceback (most recent call last)",
      "\u001b[0;32m<ipython-input-166-7bfe83ec119c>\u001b[0m in \u001b[0;36m<module>\u001b[0;34m()\u001b[0m\n\u001b[0;32m----> 1\u001b[0;31m \u001b[0mestimate_terms\u001b[0m\u001b[0;34m(\u001b[0m\u001b[0mpv\u001b[0m\u001b[0;34m,\u001b[0m\u001b[0mp\u001b[0m\u001b[0;34m,\u001b[0m\u001b[0mns\u001b[0m\u001b[0;34m)\u001b[0m\u001b[0;34m\u001b[0m\u001b[0m\n\u001b[0m",
      "\u001b[0;32m<ipython-input-164-88da047fd473>\u001b[0m in \u001b[0;36mestimate_terms\u001b[0;34m(pv, p, ns, t_apr, nu, step)\u001b[0m\n\u001b[1;32m     16\u001b[0m             \u001b[0mup\u001b[0m \u001b[0;34m=\u001b[0m \u001b[0mcur_index\u001b[0m\u001b[0;34m\u001b[0m\u001b[0m\n\u001b[1;32m     17\u001b[0m     \u001b[0mprint\u001b[0m\u001b[0;34m(\u001b[0m\u001b[0mup\u001b[0m\u001b[0;34m)\u001b[0m\u001b[0;34m\u001b[0m\u001b[0m\n\u001b[0;32m---> 18\u001b[0;31m     \u001b[0mup_cal\u001b[0m \u001b[0;34m=\u001b[0m \u001b[0mcalculate_rate\u001b[0m\u001b[0;34m(\u001b[0m\u001b[0mpv\u001b[0m\u001b[0;34m,\u001b[0m\u001b[0mspace\u001b[0m\u001b[0;34m[\u001b[0m\u001b[0mup\u001b[0m\u001b[0;34m]\u001b[0m\u001b[0;34m,\u001b[0m\u001b[0mp\u001b[0m\u001b[0;34m)\u001b[0m\u001b[0;34m\u001b[0m\u001b[0m\n\u001b[0m\u001b[1;32m     19\u001b[0m     \u001b[0mlow_cal\u001b[0m \u001b[0;34m=\u001b[0m \u001b[0mcalculate_rate\u001b[0m\u001b[0;34m(\u001b[0m\u001b[0mpv\u001b[0m\u001b[0;34m,\u001b[0m\u001b[0mspace\u001b[0m\u001b[0;34m[\u001b[0m\u001b[0mlow\u001b[0m\u001b[0;34m]\u001b[0m\u001b[0;34m,\u001b[0m\u001b[0mp\u001b[0m\u001b[0;34m)\u001b[0m\u001b[0;34m\u001b[0m\u001b[0m\n\u001b[1;32m     20\u001b[0m     \u001b[0;32mif\u001b[0m \u001b[0mabs\u001b[0m\u001b[0;34m(\u001b[0m\u001b[0mup_cal\u001b[0m \u001b[0;34m-\u001b[0m \u001b[0mt_apr\u001b[0m\u001b[0;34m)\u001b[0m \u001b[0;34m<=\u001b[0m \u001b[0mabs\u001b[0m\u001b[0;34m(\u001b[0m\u001b[0mlow_cal\u001b[0m \u001b[0;34m-\u001b[0m \u001b[0mt_apr\u001b[0m\u001b[0;34m)\u001b[0m\u001b[0;34m:\u001b[0m\u001b[0;34m\u001b[0m\u001b[0m\n",
      "\u001b[0;31mIndexError\u001b[0m: list index out of range"
     ]
    }
   ],
   "source": [
    "estimate_terms(pv,p,ns)"
   ]
  },
  {
   "cell_type": "markdown",
   "metadata": {},
   "source": [
    "## Rough Estimate"
   ]
  },
  {
   "cell_type": "code",
   "execution_count": 157,
   "metadata": {
    "ExecuteTime": {
     "end_time": "2018-08-22T15:09:33.577754Z",
     "start_time": "2018-08-22T15:09:33.560353Z"
    }
   },
   "outputs": [
    {
     "name": "stderr",
     "output_type": "stream",
     "text": [
      "  0%|          | 0/326501 [00:00<?, ?it/s]\n"
     ]
    },
    {
     "ename": "IndexError",
     "evalue": "list index out of range",
     "output_type": "error",
     "traceback": [
      "\u001b[0;31m---------------------------------------------------------------------------\u001b[0m",
      "\u001b[0;31mIndexError\u001b[0m                                Traceback (most recent call last)",
      "\u001b[0;32m<ipython-input-157-1931f25e46ae>\u001b[0m in \u001b[0;36m<module>\u001b[0;34m()\u001b[0m\n\u001b[1;32m      9\u001b[0m     \u001b[0mp\u001b[0m \u001b[0;34m=\u001b[0m \u001b[0mpayments\u001b[0m\u001b[0;34m[\u001b[0m\u001b[0mindex\u001b[0m\u001b[0;34m]\u001b[0m\u001b[0;34m\u001b[0m\u001b[0m\n\u001b[1;32m     10\u001b[0m     \u001b[0mns\u001b[0m \u001b[0;34m=\u001b[0m \u001b[0mlow_lengths\u001b[0m\u001b[0;34m[\u001b[0m\u001b[0mindex\u001b[0m\u001b[0;34m]\u001b[0m\u001b[0;34m\u001b[0m\u001b[0m\n\u001b[0;32m---> 11\u001b[0;31m     \u001b[0mr\u001b[0m\u001b[0;34m,\u001b[0m\u001b[0ml\u001b[0m \u001b[0;34m=\u001b[0m \u001b[0mestimate_terms\u001b[0m\u001b[0;34m(\u001b[0m\u001b[0mpv\u001b[0m\u001b[0;34m,\u001b[0m\u001b[0mp\u001b[0m\u001b[0;34m,\u001b[0m\u001b[0mns\u001b[0m\u001b[0;34m)\u001b[0m\u001b[0;34m\u001b[0m\u001b[0m\n\u001b[0m\u001b[1;32m     12\u001b[0m     \u001b[0mrates\u001b[0m\u001b[0;34m.\u001b[0m\u001b[0mappend\u001b[0m\u001b[0;34m(\u001b[0m\u001b[0mr\u001b[0m\u001b[0;34m)\u001b[0m\u001b[0;34m\u001b[0m\u001b[0m\n\u001b[1;32m     13\u001b[0m     \u001b[0mterms\u001b[0m\u001b[0;34m.\u001b[0m\u001b[0mappend\u001b[0m\u001b[0;34m(\u001b[0m\u001b[0ml\u001b[0m\u001b[0;34m)\u001b[0m\u001b[0;34m\u001b[0m\u001b[0m\n",
      "\u001b[0;32m<ipython-input-156-18f123c1ffde>\u001b[0m in \u001b[0;36mestimate_terms\u001b[0;34m(pv, p, ns, t_apr, nu, step)\u001b[0m\n\u001b[1;32m     14\u001b[0m         \u001b[0;32melif\u001b[0m \u001b[0mcal_apr\u001b[0m \u001b[0;34m>\u001b[0m \u001b[0mt_apr\u001b[0m\u001b[0;34m:\u001b[0m\u001b[0;34m\u001b[0m\u001b[0m\n\u001b[1;32m     15\u001b[0m             \u001b[0mup\u001b[0m \u001b[0;34m=\u001b[0m \u001b[0mcur_index\u001b[0m\u001b[0;34m\u001b[0m\u001b[0m\n\u001b[0;32m---> 16\u001b[0;31m     \u001b[0mup_cal\u001b[0m \u001b[0;34m=\u001b[0m \u001b[0mcalculate_rate\u001b[0m\u001b[0;34m(\u001b[0m\u001b[0mpv\u001b[0m\u001b[0;34m,\u001b[0m\u001b[0mspace\u001b[0m\u001b[0;34m[\u001b[0m\u001b[0mup\u001b[0m\u001b[0;34m]\u001b[0m\u001b[0;34m,\u001b[0m\u001b[0mp\u001b[0m\u001b[0;34m)\u001b[0m\u001b[0;34m\u001b[0m\u001b[0m\n\u001b[0m\u001b[1;32m     17\u001b[0m     \u001b[0mlow_cal\u001b[0m \u001b[0;34m=\u001b[0m \u001b[0mcalculate_rate\u001b[0m\u001b[0;34m(\u001b[0m\u001b[0mpv\u001b[0m\u001b[0;34m,\u001b[0m\u001b[0mspace\u001b[0m\u001b[0;34m[\u001b[0m\u001b[0mlow\u001b[0m\u001b[0;34m]\u001b[0m\u001b[0;34m,\u001b[0m\u001b[0mp\u001b[0m\u001b[0;34m)\u001b[0m\u001b[0;34m\u001b[0m\u001b[0m\n\u001b[1;32m     18\u001b[0m     \u001b[0;32mif\u001b[0m \u001b[0mabs\u001b[0m\u001b[0;34m(\u001b[0m\u001b[0mup_cal\u001b[0m \u001b[0;34m-\u001b[0m \u001b[0mt_apr\u001b[0m\u001b[0;34m)\u001b[0m \u001b[0;34m<=\u001b[0m \u001b[0mabs\u001b[0m\u001b[0;34m(\u001b[0m\u001b[0mlow_cal\u001b[0m \u001b[0;34m-\u001b[0m \u001b[0mt_apr\u001b[0m\u001b[0;34m)\u001b[0m\u001b[0;34m:\u001b[0m\u001b[0;34m\u001b[0m\u001b[0m\n",
      "\u001b[0;31mIndexError\u001b[0m: list index out of range"
     ]
    }
   ],
   "source": [
    "\n",
    "pvs = X_cash.AMT_CREDIT.values\n",
    "payments = X_cash.AMT_ANNUITY.values\n",
    "low_lengths = X_cash.lowLimitLength.values\n",
    "rates = []\n",
    "terms = []\n",
    "for index in tqdm(range(len(X_cash))):\n",
    "    pv = pvs[index]\n",
    "    p = payments[index]\n",
    "    ns = low_lengths[index]\n",
    "    r,l = estimate_terms(pv,p,ns)\n",
    "    rates.append(r)\n",
    "    terms.append(l)\n",
    "X_cash['estimate_apr'] = rates\n",
    "X_cash['estimate_terms'] = terms"
   ]
  },
  {
   "cell_type": "code",
   "execution_count": 107,
   "metadata": {
    "ExecuteTime": {
     "end_time": "2018-08-22T14:23:23.551899Z",
     "start_time": "2018-08-22T14:23:23.545764Z"
    }
   },
   "outputs": [
    {
     "data": {
      "text/plain": [
       "0.01217"
      ]
     },
     "execution_count": 107,
     "metadata": {},
     "output_type": "execute_result"
    }
   ],
   "source": [
    "pv = 979992.0\n",
    "p = 27076.5\n",
    "l =48\n",
    "calculate_rate(pv,l,p)"
   ]
  },
  {
   "cell_type": "code",
   "execution_count": 100,
   "metadata": {
    "ExecuteTime": {
     "end_time": "2018-08-22T14:11:55.293673Z",
     "start_time": "2018-08-22T14:11:55.286910Z"
    }
   },
   "outputs": [
    {
     "data": {
      "text/plain": [
       "(0.06783, 24)"
      ]
     },
     "execution_count": 100,
     "metadata": {},
     "output_type": "execute_result"
    }
   ],
   "source": [
    "pv = 161730.0\n",
    "p = 13833.0\n",
    "ns =24\n",
    "estimate_terms(pv,p,ns)"
   ]
  },
  {
   "cell_type": "code",
   "execution_count": 137,
   "metadata": {
    "ExecuteTime": {
     "end_time": "2018-08-22T14:54:19.943534Z",
     "start_time": "2018-08-22T14:54:19.935648Z"
    }
   },
   "outputs": [
    {
     "data": {
      "text/plain": [
       "46"
      ]
     },
     "execution_count": 137,
     "metadata": {},
     "output_type": "execute_result"
    }
   ],
   "source": [
    "X_cash.lowLimitLength.max()"
   ]
  },
  {
   "cell_type": "code",
   "execution_count": null,
   "metadata": {},
   "outputs": [],
   "source": []
  }
 ],
 "metadata": {
  "kernelspec": {
   "display_name": "Python 3",
   "language": "python",
   "name": "python3"
  },
  "language_info": {
   "codemirror_mode": {
    "name": "ipython",
    "version": 3
   },
   "file_extension": ".py",
   "mimetype": "text/x-python",
   "name": "python",
   "nbconvert_exporter": "python",
   "pygments_lexer": "ipython3",
   "version": "3.6.5"
  },
  "varInspector": {
   "cols": {
    "lenName": 16,
    "lenType": 16,
    "lenVar": 40
   },
   "kernels_config": {
    "python": {
     "delete_cmd_postfix": "",
     "delete_cmd_prefix": "del ",
     "library": "var_list.py",
     "varRefreshCmd": "print(var_dic_list())"
    },
    "r": {
     "delete_cmd_postfix": ") ",
     "delete_cmd_prefix": "rm(",
     "library": "var_list.r",
     "varRefreshCmd": "cat(var_dic_list()) "
    }
   },
   "types_to_exclude": [
    "module",
    "function",
    "builtin_function_or_method",
    "instance",
    "_Feature"
   ],
   "window_display": false
  }
 },
 "nbformat": 4,
 "nbformat_minor": 2
}
