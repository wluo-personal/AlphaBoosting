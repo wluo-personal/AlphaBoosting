{
 "cells": [
  {
   "cell_type": "code",
   "execution_count": 1,
   "metadata": {
    "ExecuteTime": {
     "end_time": "2018-08-11T03:12:43.441202Z",
     "start_time": "2018-08-11T03:12:41.713905Z"
    }
   },
   "outputs": [],
   "source": [
    "import os,sys\n",
    "import numpy as np\n",
    "import pandas as pd\n",
    "from tqdm import tqdm_notebook as tqdm\n",
    "from sklearn.externals import joblib\n",
    "import matplotlib.pyplot as plt\n",
    "import seaborn as sns\n",
    "sys.path.append('../../LIB/')\n",
    "from env import ENV\n",
    "from sklearn import preprocessing\n",
    "le = preprocessing.LabelEncoder()"
   ]
  },
  {
   "cell_type": "code",
   "execution_count": 2,
   "metadata": {
    "ExecuteTime": {
     "end_time": "2018-08-11T03:12:50.958409Z",
     "start_time": "2018-08-11T03:12:43.468402Z"
    }
   },
   "outputs": [],
   "source": [
    "X = pd.read_csv(ENV.bureau_balance_ori.value)"
   ]
  },
  {
   "cell_type": "code",
   "execution_count": 3,
   "metadata": {
    "ExecuteTime": {
     "end_time": "2018-08-11T03:12:51.010020Z",
     "start_time": "2018-08-11T03:12:51.003745Z"
    }
   },
   "outputs": [],
   "source": [
    "class ordinal_encoder:\n",
    "    def __init__(self,fillna='NAN_FILL'):\n",
    "        self.fillna = fillna\n",
    "    \n",
    "    def fit(self,sr,NA_VALUE=None,realNA2Nega1=True):\n",
    "        \"\"\"\n",
    "        spycify the value which has already been encoded. make it to -1 after encoding\n",
    "        \"\"\"\n",
    "        self.NA_VALUE=NA_VALUE\n",
    "        order = sr.fillna(self.fillna).value_counts()\n",
    "        if self.NA_VALUE is not None:\n",
    "            order[NA_VALUE] = 9999999\n",
    "\n",
    "        if realNA2Nega1:\n",
    "            order[self.fillna] = 99999999\n",
    "        order = order.sort_values(ascending=True)\n",
    "\n",
    "\n",
    "        self.mapping = pd.Series(index=order.index.values, data=list(range(1,len(order)+1)))\n",
    "        if self.NA_VALUE is not None:\n",
    "            self.mapping[NA_VALUE] = -1\n",
    "\n",
    "        if realNA2Nega1:\n",
    "            self.mapping[self.fillna] = -1\n",
    "    \n",
    "    def transform(self,sr):\n",
    "        return sr.fillna(self.fillna).map(self.mapping)\n",
    "        "
   ]
  },
  {
   "cell_type": "code",
   "execution_count": 4,
   "metadata": {
    "ExecuteTime": {
     "end_time": "2018-08-11T03:12:51.051350Z",
     "start_time": "2018-08-11T03:12:51.048317Z"
    }
   },
   "outputs": [],
   "source": [
    "def calculate_na(ser):\n",
    "    return np.sum(ser.isnull())\n",
    "\n",
    "def view_hist(ser):\n",
    "    plt.hist(ser, range=(min(ser.values), max(ser.values)))\n",
    "    \n",
    "def scan_nan_portion(df):\n",
    "    portions = []\n",
    "    columns = []\n",
    "    for col in df.columns:\n",
    "        columns.append(col)\n",
    "        portions.append(np.sum(df[col].isnull())/len(df))\n",
    "    return pd.Series(data=portions, index=columns)\n"
   ]
  },
  {
   "cell_type": "code",
   "execution_count": 5,
   "metadata": {
    "ExecuteTime": {
     "end_time": "2018-08-11T03:12:52.343005Z",
     "start_time": "2018-08-11T03:12:51.082575Z"
    }
   },
   "outputs": [
    {
     "name": "stdout",
     "output_type": "stream",
     "text": [
      "count    3.0\n",
      "mean     0.0\n",
      "std      0.0\n",
      "min      0.0\n",
      "25%      0.0\n",
      "50%      0.0\n",
      "75%      0.0\n",
      "max      0.0\n",
      "dtype: float64\n"
     ]
    }
   ],
   "source": [
    "p = scan_nan_portion(X)\n",
    "p = p.sort_values()\n",
    "print(p.describe())\n",
    "oe = ordinal_encoder()"
   ]
  },
  {
   "cell_type": "markdown",
   "metadata": {
    "ExecuteTime": {
     "end_time": "2018-07-26T20:25:52.641629Z",
     "start_time": "2018-07-26T20:25:52.628850Z"
    }
   },
   "source": [
    "# Export NAN"
   ]
  },
  {
   "cell_type": "code",
   "execution_count": 6,
   "metadata": {
    "ExecuteTime": {
     "end_time": "2018-08-11T03:12:52.378114Z",
     "start_time": "2018-08-11T03:12:52.374233Z"
    },
    "scrolled": true
   },
   "outputs": [
    {
     "data": {
      "text/plain": [
       "SK_ID_BUREAU      0.0\n",
       "MONTHS_BALANCE    0.0\n",
       "STATUS            0.0\n",
       "dtype: float64"
      ]
     },
     "execution_count": 6,
     "metadata": {},
     "output_type": "execute_result"
    }
   ],
   "source": [
    "p.iloc[0:20]"
   ]
  },
  {
   "cell_type": "markdown",
   "metadata": {},
   "source": [
    "# Data Clean"
   ]
  },
  {
   "cell_type": "markdown",
   "metadata": {},
   "source": [
    "## 0 - 20"
   ]
  },
  {
   "cell_type": "code",
   "execution_count": 7,
   "metadata": {
    "ExecuteTime": {
     "end_time": "2018-08-11T03:13:02.161498Z",
     "start_time": "2018-08-11T03:12:52.944666Z"
    }
   },
   "outputs": [
    {
     "name": "stdout",
     "output_type": "stream",
     "text": [
      "count    2.729992e+07\n",
      "mean     6.036297e+06\n",
      "std      4.923489e+05\n",
      "min      5.001709e+06\n",
      "25%      5.730933e+06\n",
      "50%      6.070821e+06\n",
      "75%      6.431951e+06\n",
      "max      6.842888e+06\n",
      "Name: SK_ID_BUREAU, dtype: float64\n",
      "----\n",
      "int64\n",
      "value counts: 817395\n",
      "NA percentage: 0.0\n",
      "========= End ==================\n",
      "count    2.729992e+07\n",
      "mean    -3.074169e+01\n",
      "std      2.386451e+01\n",
      "min     -9.600000e+01\n",
      "25%     -4.600000e+01\n",
      "50%     -2.500000e+01\n",
      "75%     -1.100000e+01\n",
      "max      0.000000e+00\n",
      "Name: MONTHS_BALANCE, dtype: float64\n",
      "----\n",
      "int64\n",
      "value counts: 97\n",
      "NA percentage: 0.0\n",
      "========= End ==================\n",
      "count     27299925\n",
      "unique           8\n",
      "top              C\n",
      "freq      13646993\n",
      "Name: STATUS, dtype: object\n",
      "----\n",
      "object\n",
      "STATUS converted to int failed!!!!!!!!!!!!!!!!!!!!!!!!!!!!!!\n",
      "value counts: 8\n",
      "NA percentage: 0.0\n",
      "========= End ==================\n",
      "['STATUS']\n"
     ]
    }
   ],
   "source": [
    "category_20 = []\n",
    "failed = []\n",
    "for each in p.iloc[:20].index.values:\n",
    "    \n",
    "    print(X[each].describe())\n",
    "    print('----')\n",
    "    print(X[each].dtypes)\n",
    "    num_values = len(X[each].value_counts())\n",
    "    if num_values < 10:\n",
    "        category_20.append(each)\n",
    "        try:\n",
    "            X[each] = X[each].astype('int')\n",
    "        except ValueError:\n",
    "            print('{} converted to int failed!!!!!!!!!!!!!!!!!!!!!!!!!!!!!!'.format(each))\n",
    "            failed.append(each)\n",
    "    print('value counts: {}'.format(num_values))\n",
    "    print('NA percentage: {}'.format(p[each]))\n",
    "    print('========= End ==================')\n",
    "print(failed)\n",
    "# category_20.remove()"
   ]
  },
  {
   "cell_type": "code",
   "execution_count": 13,
   "metadata": {
    "ExecuteTime": {
     "end_time": "2018-08-11T03:15:48.908181Z",
     "start_time": "2018-08-11T03:15:48.665625Z"
    }
   },
   "outputs": [
    {
     "data": {
      "text/plain": [
       "9    13646993\n",
       "7     7499507\n",
       "6     5810482\n",
       "5      242347\n",
       "4       62406\n",
       "3       23419\n",
       "2        8924\n",
       "1        5847\n",
       "Name: STATUS, dtype: int64"
      ]
     },
     "execution_count": 13,
     "metadata": {},
     "output_type": "execute_result"
    }
   ],
   "source": [
    "col = 'STATUS'\n",
    "X[col].value_counts()"
   ]
  },
  {
   "cell_type": "markdown",
   "metadata": {},
   "source": [
    "### Ordinal Encoding"
   ]
  },
  {
   "cell_type": "code",
   "execution_count": 12,
   "metadata": {
    "ExecuteTime": {
     "end_time": "2018-08-11T03:15:48.572599Z",
     "start_time": "2018-08-11T03:15:39.122238Z"
    }
   },
   "outputs": [],
   "source": [
    "col = 'STATUS'\n",
    "\n",
    "oe.fit(X[col],NA_VALUE='XNA')\n",
    "X[col] = oe.transform(X[col])\n",
    "category_20.append(col)\n"
   ]
  },
  {
   "cell_type": "markdown",
   "metadata": {},
   "source": [
    "# Saving"
   ]
  },
  {
   "cell_type": "code",
   "execution_count": 14,
   "metadata": {
    "ExecuteTime": {
     "end_time": "2018-08-11T03:16:14.264420Z",
     "start_time": "2018-08-11T03:16:11.557197Z"
    }
   },
   "outputs": [],
   "source": [
    "X.to_pickle(ENV.bureau_balance_clean.value)"
   ]
  },
  {
   "cell_type": "code",
   "execution_count": 15,
   "metadata": {
    "ExecuteTime": {
     "end_time": "2018-08-11T03:16:17.541735Z",
     "start_time": "2018-08-11T03:16:15.072371Z"
    }
   },
   "outputs": [
    {
     "data": {
      "text/plain": [
       "SK_ID_BUREAU      0\n",
       "MONTHS_BALANCE    0\n",
       "STATUS            0\n",
       "dtype: int64"
      ]
     },
     "execution_count": 15,
     "metadata": {},
     "output_type": "execute_result"
    }
   ],
   "source": [
    "np.sum(X.isnull())"
   ]
  },
  {
   "cell_type": "code",
   "execution_count": 16,
   "metadata": {
    "ExecuteTime": {
     "end_time": "2018-08-11T03:16:21.427022Z",
     "start_time": "2018-08-11T03:16:21.397535Z"
    }
   },
   "outputs": [
    {
     "data": {
      "text/plain": [
       "['STATUS']"
      ]
     },
     "execution_count": 16,
     "metadata": {},
     "output_type": "execute_result"
    }
   ],
   "source": [
    "categori_col = list(set(category_20))\n",
    "categori_col"
   ]
  },
  {
   "cell_type": "code",
   "execution_count": 17,
   "metadata": {
    "ExecuteTime": {
     "end_time": "2018-08-11T03:16:27.160984Z",
     "start_time": "2018-08-11T03:16:27.155854Z"
    }
   },
   "outputs": [],
   "source": [
    "import pickle\n",
    "categori_col_exist = pickle.load(open(ENV.clean_categorical_col.value,'rb'))\n",
    "categori_col = list(set(categori_col + categori_col_exist))\n",
    "pickle.dump(categori_col,open(ENV.clean_categorical_col.value,'wb'))"
   ]
  },
  {
   "cell_type": "code",
   "execution_count": null,
   "metadata": {},
   "outputs": [],
   "source": []
  }
 ],
 "metadata": {
  "kernelspec": {
   "display_name": "Python 3",
   "language": "python",
   "name": "python3"
  },
  "language_info": {
   "codemirror_mode": {
    "name": "ipython",
    "version": 3
   },
   "file_extension": ".py",
   "mimetype": "text/x-python",
   "name": "python",
   "nbconvert_exporter": "python",
   "pygments_lexer": "ipython3",
   "version": "3.6.5"
  },
  "varInspector": {
   "cols": {
    "lenName": 16,
    "lenType": 16,
    "lenVar": 40
   },
   "kernels_config": {
    "python": {
     "delete_cmd_postfix": "",
     "delete_cmd_prefix": "del ",
     "library": "var_list.py",
     "varRefreshCmd": "print(var_dic_list())"
    },
    "r": {
     "delete_cmd_postfix": ") ",
     "delete_cmd_prefix": "rm(",
     "library": "var_list.r",
     "varRefreshCmd": "cat(var_dic_list()) "
    }
   },
   "types_to_exclude": [
    "module",
    "function",
    "builtin_function_or_method",
    "instance",
    "_Feature"
   ],
   "window_display": false
  }
 },
 "nbformat": 4,
 "nbformat_minor": 2
}
