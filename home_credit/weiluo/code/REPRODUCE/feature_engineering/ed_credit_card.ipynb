{
 "cells": [
  {
   "cell_type": "code",
   "execution_count": 1,
   "metadata": {
    "ExecuteTime": {
     "end_time": "2018-08-10T22:05:04.072148Z",
     "start_time": "2018-08-10T22:05:02.491233Z"
    }
   },
   "outputs": [],
   "source": [
    "import os,sys\n",
    "import numpy as np\n",
    "import pandas as pd\n",
    "from tqdm import tqdm_notebook as tqdm\n",
    "from sklearn.externals import joblib\n",
    "import matplotlib.pyplot as plt\n",
    "import seaborn as sns\n",
    "sys.path.append('../../LIB/')\n",
    "from env import ENV\n",
    "from sklearn import preprocessing\n",
    "le = preprocessing.LabelEncoder()"
   ]
  },
  {
   "cell_type": "code",
   "execution_count": 2,
   "metadata": {
    "ExecuteTime": {
     "end_time": "2018-08-10T22:05:28.270597Z",
     "start_time": "2018-08-10T22:05:04.080059Z"
    }
   },
   "outputs": [],
   "source": [
    "X = pd.read_csv(ENV.credit_card_balance_ori.value)"
   ]
  },
  {
   "cell_type": "code",
   "execution_count": 3,
   "metadata": {
    "ExecuteTime": {
     "end_time": "2018-08-10T22:05:28.288885Z",
     "start_time": "2018-08-10T22:05:28.280347Z"
    }
   },
   "outputs": [],
   "source": [
    "class ordinal_encoder:\n",
    "    def __init__(self,fillna='NAN_FILL'):\n",
    "        self.fillna = fillna\n",
    "    \n",
    "    def fit(self,sr,NA_VALUE=None,realNA2Nega1=True):\n",
    "        \"\"\"\n",
    "        spycify the value which has already been encoded. make it to -1 after encoding\n",
    "        \"\"\"\n",
    "        self.NA_VALUE=NA_VALUE\n",
    "        order = sr.fillna(self.fillna).value_counts()\n",
    "        if self.NA_VALUE is not None:\n",
    "            order[NA_VALUE] = 9999999\n",
    "\n",
    "        if realNA2Nega1:\n",
    "            order[self.fillna] = 99999999\n",
    "        order = order.sort_values(ascending=True)\n",
    "\n",
    "\n",
    "        self.mapping = pd.Series(index=order.index.values, data=list(range(1,len(order)+1)))\n",
    "        if self.NA_VALUE is not None:\n",
    "            self.mapping[NA_VALUE] = -1\n",
    "\n",
    "        if realNA2Nega1:\n",
    "            self.mapping[self.fillna] = -1\n",
    "    \n",
    "    def transform(self,sr):\n",
    "        return sr.fillna(self.fillna).map(self.mapping)\n",
    "        "
   ]
  },
  {
   "cell_type": "code",
   "execution_count": 4,
   "metadata": {
    "ExecuteTime": {
     "end_time": "2018-08-10T22:05:28.309833Z",
     "start_time": "2018-08-10T22:05:28.297852Z"
    }
   },
   "outputs": [],
   "source": [
    "def calculate_na(ser):\n",
    "    return np.sum(ser.isnull())\n",
    "\n",
    "def view_hist(ser):\n",
    "    plt.hist(ser, range=(min(ser.values), max(ser.values)))\n",
    "    \n",
    "def scan_nan_portion(df):\n",
    "    portions = []\n",
    "    columns = []\n",
    "    for col in df.columns:\n",
    "        columns.append(col)\n",
    "        portions.append(np.sum(df[col].isnull())/len(df))\n",
    "    return pd.Series(data=portions, index=columns)\n"
   ]
  },
  {
   "cell_type": "code",
   "execution_count": 5,
   "metadata": {
    "ExecuteTime": {
     "end_time": "2018-08-10T22:05:29.523260Z",
     "start_time": "2018-08-10T22:05:28.320562Z"
    }
   },
   "outputs": [
    {
     "name": "stdout",
     "output_type": "stream",
     "text": [
      "count    23.000000\n",
      "mean      0.066541\n",
      "std       0.090333\n",
      "min       0.000000\n",
      "25%       0.000000\n",
      "50%       0.000000\n",
      "75%       0.195249\n",
      "max       0.199981\n",
      "dtype: float64\n"
     ]
    }
   ],
   "source": [
    "p = scan_nan_portion(X)\n",
    "p = p.sort_values()\n",
    "print(p.describe())\n",
    "oe = ordinal_encoder()"
   ]
  },
  {
   "cell_type": "markdown",
   "metadata": {
    "ExecuteTime": {
     "end_time": "2018-07-26T20:25:52.641629Z",
     "start_time": "2018-07-26T20:25:52.628850Z"
    }
   },
   "source": [
    "# Export NAN"
   ]
  },
  {
   "cell_type": "code",
   "execution_count": 6,
   "metadata": {
    "ExecuteTime": {
     "end_time": "2018-08-10T22:05:29.555365Z",
     "start_time": "2018-08-10T22:05:29.531618Z"
    },
    "scrolled": true
   },
   "outputs": [
    {
     "data": {
      "text/plain": [
       "SK_ID_PREV                    0.000000\n",
       "NAME_CONTRACT_STATUS          0.000000\n",
       "CNT_DRAWINGS_CURRENT          0.000000\n",
       "AMT_TOTAL_RECEIVABLE          0.000000\n",
       "AMT_RECIVABLE                 0.000000\n",
       "AMT_RECEIVABLE_PRINCIPAL      0.000000\n",
       "SK_DPD                        0.000000\n",
       "AMT_PAYMENT_TOTAL_CURRENT     0.000000\n",
       "AMT_DRAWINGS_CURRENT          0.000000\n",
       "AMT_CREDIT_LIMIT_ACTUAL       0.000000\n",
       "AMT_BALANCE                   0.000000\n",
       "MONTHS_BALANCE                0.000000\n",
       "SK_ID_CURR                    0.000000\n",
       "SK_DPD_DEF                    0.000000\n",
       "AMT_INST_MIN_REGULARITY       0.079482\n",
       "CNT_INSTALMENT_MATURE_CUM     0.079482\n",
       "AMT_DRAWINGS_POS_CURRENT      0.195249\n",
       "AMT_DRAWINGS_ATM_CURRENT      0.195249\n",
       "CNT_DRAWINGS_ATM_CURRENT      0.195249\n",
       "CNT_DRAWINGS_OTHER_CURRENT    0.195249\n",
       "dtype: float64"
      ]
     },
     "execution_count": 6,
     "metadata": {},
     "output_type": "execute_result"
    }
   ],
   "source": [
    "p.iloc[0:20]"
   ]
  },
  {
   "cell_type": "markdown",
   "metadata": {},
   "source": [
    "# Data Clean"
   ]
  },
  {
   "cell_type": "markdown",
   "metadata": {},
   "source": [
    "## 0 - 20"
   ]
  },
  {
   "cell_type": "code",
   "execution_count": 7,
   "metadata": {
    "ExecuteTime": {
     "end_time": "2018-08-10T22:05:40.768147Z",
     "start_time": "2018-08-10T22:05:29.560053Z"
    }
   },
   "outputs": [
    {
     "name": "stdout",
     "output_type": "stream",
     "text": [
      "count    3.840312e+06\n",
      "mean     1.904504e+06\n",
      "std      5.364695e+05\n",
      "min      1.000018e+06\n",
      "25%      1.434385e+06\n",
      "50%      1.897122e+06\n",
      "75%      2.369328e+06\n",
      "max      2.843496e+06\n",
      "Name: SK_ID_PREV, dtype: float64\n",
      "----\n",
      "int64\n",
      "value counts: 104307\n",
      "NA percentage: 0.0\n",
      "========= End ==================\n",
      "count     3840312\n",
      "unique          7\n",
      "top        Active\n",
      "freq      3698436\n",
      "Name: NAME_CONTRACT_STATUS, dtype: object\n",
      "----\n",
      "object\n",
      "NAME_CONTRACT_STATUS converted to int failed!!!!!!!!!!!!!!!!!!!!!!!!!!!!!!\n",
      "value counts: 7\n",
      "NA percentage: 0.0\n",
      "========= End ==================\n",
      "count    3.840312e+06\n",
      "mean     7.031439e-01\n",
      "std      3.190347e+00\n",
      "min      0.000000e+00\n",
      "25%      0.000000e+00\n",
      "50%      0.000000e+00\n",
      "75%      0.000000e+00\n",
      "max      1.650000e+02\n",
      "Name: CNT_DRAWINGS_CURRENT, dtype: float64\n",
      "----\n",
      "int64\n",
      "value counts: 129\n",
      "NA percentage: 0.0\n",
      "========= End ==================\n",
      "count    3.840312e+06\n",
      "mean     5.809829e+04\n",
      "std      1.059718e+05\n",
      "min     -4.202502e+05\n",
      "25%      0.000000e+00\n",
      "50%      0.000000e+00\n",
      "75%      8.891451e+04\n",
      "max      1.493338e+06\n",
      "Name: AMT_TOTAL_RECEIVABLE, dtype: float64\n",
      "----\n",
      "float64\n",
      "value counts: 1339008\n",
      "NA percentage: 0.0\n",
      "========= End ==================\n",
      "count    3.840312e+06\n",
      "mean     5.808881e+04\n",
      "std      1.059654e+05\n",
      "min     -4.202502e+05\n",
      "25%      0.000000e+00\n",
      "50%      0.000000e+00\n",
      "75%      8.889949e+04\n",
      "max      1.493338e+06\n",
      "Name: AMT_RECIVABLE, dtype: float64\n",
      "----\n",
      "float64\n",
      "value counts: 1338878\n",
      "NA percentage: 0.0\n",
      "========= End ==================\n",
      "count    3.840312e+06\n",
      "mean     5.596588e+04\n",
      "std      1.025336e+05\n",
      "min     -4.233058e+05\n",
      "25%      0.000000e+00\n",
      "50%      0.000000e+00\n",
      "75%      8.535924e+04\n",
      "max      1.472317e+06\n",
      "Name: AMT_RECEIVABLE_PRINCIPAL, dtype: float64\n",
      "----\n",
      "float64\n",
      "value counts: 1195839\n",
      "NA percentage: 0.0\n",
      "========= End ==================\n",
      "count    3.840312e+06\n",
      "mean     9.283667e+00\n",
      "std      9.751570e+01\n",
      "min      0.000000e+00\n",
      "25%      0.000000e+00\n",
      "50%      0.000000e+00\n",
      "75%      0.000000e+00\n",
      "max      3.260000e+03\n",
      "Name: SK_DPD, dtype: float64\n",
      "----\n",
      "int64\n",
      "value counts: 917\n",
      "NA percentage: 0.0\n",
      "========= End ==================\n",
      "count    3.840312e+06\n",
      "mean     7.588857e+03\n",
      "std      3.200599e+04\n",
      "min      0.000000e+00\n",
      "25%      0.000000e+00\n",
      "50%      0.000000e+00\n",
      "75%      6.750000e+03\n",
      "max      4.278316e+06\n",
      "Name: AMT_PAYMENT_TOTAL_CURRENT, dtype: float64\n",
      "----\n",
      "float64\n",
      "value counts: 182957\n",
      "NA percentage: 0.0\n",
      "========= End ==================\n",
      "count    3.840312e+06\n",
      "mean     7.433388e+03\n",
      "std      3.384608e+04\n",
      "min     -6.211620e+03\n",
      "25%      0.000000e+00\n",
      "50%      0.000000e+00\n",
      "75%      0.000000e+00\n",
      "max      2.287098e+06\n",
      "Name: AMT_DRAWINGS_CURRENT, dtype: float64\n",
      "----\n",
      "float64\n",
      "value counts: 187005\n",
      "NA percentage: 0.0\n",
      "========= End ==================\n",
      "count    3.840312e+06\n",
      "mean     1.538080e+05\n",
      "std      1.651457e+05\n",
      "min      0.000000e+00\n",
      "25%      4.500000e+04\n",
      "50%      1.125000e+05\n",
      "75%      1.800000e+05\n",
      "max      1.350000e+06\n",
      "Name: AMT_CREDIT_LIMIT_ACTUAL, dtype: float64\n",
      "----\n",
      "int64\n",
      "value counts: 181\n",
      "NA percentage: 0.0\n",
      "========= End ==================\n",
      "count    3.840312e+06\n",
      "mean     5.830016e+04\n",
      "std      1.063070e+05\n",
      "min     -4.202502e+05\n",
      "25%      0.000000e+00\n",
      "50%      0.000000e+00\n",
      "75%      8.904669e+04\n",
      "max      1.505902e+06\n",
      "Name: AMT_BALANCE, dtype: float64\n",
      "----\n",
      "float64\n",
      "value counts: 1347904\n",
      "NA percentage: 0.0\n",
      "========= End ==================\n",
      "count    3.840312e+06\n",
      "mean    -3.452192e+01\n",
      "std      2.666775e+01\n",
      "min     -9.600000e+01\n",
      "25%     -5.500000e+01\n",
      "50%     -2.800000e+01\n",
      "75%     -1.100000e+01\n",
      "max     -1.000000e+00\n",
      "Name: MONTHS_BALANCE, dtype: float64\n",
      "----\n",
      "int64\n",
      "value counts: 96\n",
      "NA percentage: 0.0\n",
      "========= End ==================\n",
      "count    3.840312e+06\n",
      "mean     2.783242e+05\n",
      "std      1.027045e+05\n",
      "min      1.000060e+05\n",
      "25%      1.895170e+05\n",
      "50%      2.783960e+05\n",
      "75%      3.675800e+05\n",
      "max      4.562500e+05\n",
      "Name: SK_ID_CURR, dtype: float64\n",
      "----\n",
      "int64\n",
      "value counts: 103558\n",
      "NA percentage: 0.0\n",
      "========= End ==================\n",
      "count    3.840312e+06\n",
      "mean     3.316220e-01\n",
      "std      2.147923e+01\n",
      "min      0.000000e+00\n",
      "25%      0.000000e+00\n",
      "50%      0.000000e+00\n",
      "75%      0.000000e+00\n",
      "max      3.260000e+03\n",
      "Name: SK_DPD_DEF, dtype: float64\n",
      "----\n",
      "int64\n",
      "value counts: 378\n",
      "NA percentage: 0.0\n",
      "========= End ==================\n",
      "count    3.535076e+06\n",
      "mean     3.540204e+03\n",
      "std      5.600154e+03\n",
      "min      0.000000e+00\n",
      "25%      0.000000e+00\n",
      "50%      0.000000e+00\n",
      "75%      6.633911e+03\n",
      "max      2.028820e+05\n",
      "Name: AMT_INST_MIN_REGULARITY, dtype: float64\n",
      "----\n",
      "float64\n",
      "value counts: 312266\n",
      "NA percentage: 0.0794820837473622\n",
      "========= End ==================\n",
      "count    3.535076e+06\n",
      "mean     2.082508e+01\n",
      "std      2.005149e+01\n",
      "min      0.000000e+00\n",
      "25%      4.000000e+00\n",
      "50%      1.500000e+01\n",
      "75%      3.200000e+01\n",
      "max      1.200000e+02\n",
      "Name: CNT_INSTALMENT_MATURE_CUM, dtype: float64\n",
      "----\n",
      "float64\n",
      "value counts: 121\n",
      "NA percentage: 0.0794820837473622\n",
      "========= End ==================\n",
      "count    3.090496e+06\n",
      "mean     2.968805e+03\n",
      "std      2.079689e+04\n",
      "min      0.000000e+00\n",
      "25%      0.000000e+00\n",
      "50%      0.000000e+00\n",
      "75%      0.000000e+00\n",
      "max      2.239274e+06\n",
      "Name: AMT_DRAWINGS_POS_CURRENT, dtype: float64\n",
      "----\n",
      "float64\n",
      "value counts: 168748\n",
      "NA percentage: 0.1952487193748841\n",
      "========= End ==================\n",
      "count    3.090496e+06\n",
      "mean     5.961325e+03\n",
      "std      2.822569e+04\n",
      "min     -6.827310e+03\n",
      "25%      0.000000e+00\n",
      "50%      0.000000e+00\n",
      "75%      0.000000e+00\n",
      "max      2.115000e+06\n",
      "Name: AMT_DRAWINGS_ATM_CURRENT, dtype: float64\n",
      "----\n",
      "float64\n",
      "value counts: 2267\n",
      "NA percentage: 0.1952487193748841\n",
      "========= End ==================\n",
      "count    3.090496e+06\n",
      "mean     3.094490e-01\n",
      "std      1.100401e+00\n",
      "min      0.000000e+00\n",
      "25%      0.000000e+00\n",
      "50%      0.000000e+00\n",
      "75%      0.000000e+00\n",
      "max      5.100000e+01\n",
      "Name: CNT_DRAWINGS_ATM_CURRENT, dtype: float64\n",
      "----\n",
      "float64\n",
      "value counts: 44\n",
      "NA percentage: 0.1952487193748841\n",
      "========= End ==================\n",
      "count    3.090496e+06\n",
      "mean     4.812496e-03\n",
      "std      8.263861e-02\n",
      "min      0.000000e+00\n",
      "25%      0.000000e+00\n",
      "50%      0.000000e+00\n",
      "75%      0.000000e+00\n",
      "max      1.200000e+01\n",
      "Name: CNT_DRAWINGS_OTHER_CURRENT, dtype: float64\n",
      "----\n",
      "float64\n",
      "value counts: 11\n",
      "NA percentage: 0.1952487193748841\n",
      "========= End ==================\n",
      "count    3.090496e+06\n",
      "mean     5.594791e-01\n",
      "std      3.240649e+00\n",
      "min      0.000000e+00\n",
      "25%      0.000000e+00\n",
      "50%      0.000000e+00\n",
      "75%      0.000000e+00\n",
      "max      1.650000e+02\n",
      "Name: CNT_DRAWINGS_POS_CURRENT, dtype: float64\n",
      "----\n",
      "float64\n",
      "value counts: 133\n",
      "NA percentage: 0.1952487193748841\n",
      "========= End ==================\n",
      "count    3.090496e+06\n",
      "mean     2.881696e+02\n",
      "std      8.201989e+03\n",
      "min      0.000000e+00\n",
      "25%      0.000000e+00\n",
      "50%      0.000000e+00\n",
      "75%      0.000000e+00\n",
      "max      1.529847e+06\n",
      "Name: AMT_DRAWINGS_OTHER_CURRENT, dtype: float64\n",
      "----\n",
      "float64\n",
      "value counts: 1832\n",
      "NA percentage: 0.1952487193748841\n",
      "========= End ==================\n",
      "count    3.072324e+06\n",
      "mean     1.028054e+04\n",
      "std      3.607808e+04\n",
      "min      0.000000e+00\n",
      "25%      1.523700e+02\n",
      "50%      2.702700e+03\n",
      "75%      9.000000e+03\n",
      "max      4.289207e+06\n",
      "Name: AMT_PAYMENT_CURRENT, dtype: float64\n",
      "----\n",
      "float64\n",
      "value counts: 163209\n",
      "NA percentage: 0.19998062657409085\n",
      "========= End ==================\n",
      "['NAME_CONTRACT_STATUS']\n"
     ]
    }
   ],
   "source": [
    "category_20 = []\n",
    "failed = []\n",
    "for each in p.iloc[:].index.values:\n",
    "    \n",
    "    print(X[each].describe())\n",
    "    print('----')\n",
    "    print(X[each].dtypes)\n",
    "    num_values = len(X[each].value_counts())\n",
    "    if num_values < 10:\n",
    "        category_20.append(each)\n",
    "        try:\n",
    "            X[each] = X[each].astype('int')\n",
    "        except ValueError:\n",
    "            print('{} converted to int failed!!!!!!!!!!!!!!!!!!!!!!!!!!!!!!'.format(each))\n",
    "            failed.append(each)\n",
    "    print('value counts: {}'.format(num_values))\n",
    "    print('NA percentage: {}'.format(p[each]))\n",
    "    print('========= End ==================')\n",
    "print(failed)\n",
    "# category_20.remove()"
   ]
  },
  {
   "cell_type": "code",
   "execution_count": 8,
   "metadata": {
    "ExecuteTime": {
     "end_time": "2018-08-10T22:05:40.823163Z",
     "start_time": "2018-08-10T22:05:40.772926Z"
    }
   },
   "outputs": [
    {
     "data": {
      "text/plain": [
       "0.0     3077688\n",
       "1.0       11354\n",
       "2.0        1076\n",
       "3.0         259\n",
       "4.0          65\n",
       "5.0          27\n",
       "6.0          11\n",
       "7.0           9\n",
       "10.0          3\n",
       "8.0           3\n",
       "12.0          1\n",
       "Name: CNT_DRAWINGS_OTHER_CURRENT, dtype: int64"
      ]
     },
     "execution_count": 8,
     "metadata": {},
     "output_type": "execute_result"
    }
   ],
   "source": [
    "col = 'CNT_DRAWINGS_OTHER_CURRENT'\n",
    "X[col].value_counts()"
   ]
  },
  {
   "cell_type": "markdown",
   "metadata": {},
   "source": [
    "### Ordinal Encoding"
   ]
  },
  {
   "cell_type": "code",
   "execution_count": 9,
   "metadata": {
    "ExecuteTime": {
     "end_time": "2018-08-10T22:05:41.858975Z",
     "start_time": "2018-08-10T22:05:40.829413Z"
    }
   },
   "outputs": [],
   "source": [
    "col = 'NAME_CONTRACT_STATUS'\n",
    "\n",
    "oe.fit(X[col],NA_VALUE='XNA')\n",
    "X[col] = oe.transform(X[col])\n",
    "category_20.append(col)\n",
    "###############################################\n",
    "\n"
   ]
  },
  {
   "cell_type": "markdown",
   "metadata": {},
   "source": [
    "### FillNa"
   ]
  },
  {
   "cell_type": "code",
   "execution_count": 10,
   "metadata": {
    "ExecuteTime": {
     "end_time": "2018-08-10T22:05:42.148484Z",
     "start_time": "2018-08-10T22:05:41.865148Z"
    }
   },
   "outputs": [],
   "source": [
    "###############################################\n",
    "\n",
    "col = 'AMT_INST_MIN_REGULARITY'\n",
    "X[col] = X[col].fillna(X[col].mean())\n",
    "\n",
    "###############################################\n",
    "\n",
    "col = 'CNT_INSTALMENT_MATURE_CUM'\n",
    "X[col] = X[col].fillna(X[col].mean())\n",
    "\n",
    "###############################################\n",
    "\n",
    "col = 'AMT_DRAWINGS_POS_CURRENT'\n",
    "X[col] = X[col].fillna(X[col].mean())\n",
    "\n",
    "###############################################\n",
    "\n",
    "col = 'AMT_DRAWINGS_ATM_CURRENT'\n",
    "X[col] = X[col].fillna(X[col].mean())\n",
    "\n",
    "###############################################\n",
    "\n",
    "col = 'CNT_DRAWINGS_ATM_CURRENT'\n",
    "X[col] = X[col].fillna(int(X[col].mean()))\n",
    "\n",
    "###############################################\n",
    "\n",
    "col = 'CNT_DRAWINGS_OTHER_CURRENT'\n",
    "X[col] = X[col].fillna(int(X[col].mean()))\n",
    "\n",
    "###############################################\n",
    "\n",
    "col = 'CNT_DRAWINGS_POS_CURRENT'\n",
    "X[col] = X[col].fillna(int(X[col].mean()))\n",
    "\n",
    "###############################################\n",
    "\n",
    "col = 'AMT_DRAWINGS_OTHER_CURRENT'\n",
    "X[col] = X[col].fillna(X[col].mean())\n",
    "\n",
    "###############################################\n",
    "\n",
    "col = 'AMT_PAYMENT_CURRENT'\n",
    "X[col] = X[col].fillna(X[col].mean())"
   ]
  },
  {
   "cell_type": "markdown",
   "metadata": {},
   "source": [
    "# Saving"
   ]
  },
  {
   "cell_type": "code",
   "execution_count": 11,
   "metadata": {
    "ExecuteTime": {
     "end_time": "2018-08-10T22:05:43.452557Z",
     "start_time": "2018-08-10T22:05:42.150154Z"
    }
   },
   "outputs": [],
   "source": [
    "X.to_pickle(ENV.credit_card_balance_clean.value)"
   ]
  },
  {
   "cell_type": "code",
   "execution_count": 12,
   "metadata": {
    "ExecuteTime": {
     "end_time": "2018-08-10T22:05:45.711320Z",
     "start_time": "2018-08-10T22:05:43.460156Z"
    }
   },
   "outputs": [
    {
     "data": {
      "text/plain": [
       "SK_ID_PREV                    0\n",
       "SK_ID_CURR                    0\n",
       "MONTHS_BALANCE                0\n",
       "AMT_BALANCE                   0\n",
       "AMT_CREDIT_LIMIT_ACTUAL       0\n",
       "AMT_DRAWINGS_ATM_CURRENT      0\n",
       "AMT_DRAWINGS_CURRENT          0\n",
       "AMT_DRAWINGS_OTHER_CURRENT    0\n",
       "AMT_DRAWINGS_POS_CURRENT      0\n",
       "AMT_INST_MIN_REGULARITY       0\n",
       "AMT_PAYMENT_CURRENT           0\n",
       "AMT_PAYMENT_TOTAL_CURRENT     0\n",
       "AMT_RECEIVABLE_PRINCIPAL      0\n",
       "AMT_RECIVABLE                 0\n",
       "AMT_TOTAL_RECEIVABLE          0\n",
       "CNT_DRAWINGS_ATM_CURRENT      0\n",
       "CNT_DRAWINGS_CURRENT          0\n",
       "CNT_DRAWINGS_OTHER_CURRENT    0\n",
       "CNT_DRAWINGS_POS_CURRENT      0\n",
       "CNT_INSTALMENT_MATURE_CUM     0\n",
       "NAME_CONTRACT_STATUS          0\n",
       "SK_DPD                        0\n",
       "SK_DPD_DEF                    0\n",
       "dtype: int64"
      ]
     },
     "execution_count": 12,
     "metadata": {},
     "output_type": "execute_result"
    }
   ],
   "source": [
    "np.sum(X.isnull())"
   ]
  },
  {
   "cell_type": "code",
   "execution_count": 15,
   "metadata": {
    "ExecuteTime": {
     "end_time": "2018-08-10T22:09:04.794764Z",
     "start_time": "2018-08-10T22:09:04.791206Z"
    }
   },
   "outputs": [],
   "source": [
    "categori_col = list(set(category_20))"
   ]
  },
  {
   "cell_type": "code",
   "execution_count": 14,
   "metadata": {
    "ExecuteTime": {
     "end_time": "2018-08-10T22:06:38.694465Z",
     "start_time": "2018-08-10T22:06:38.683320Z"
    }
   },
   "outputs": [],
   "source": [
    "import pickle\n",
    "categori_col_exist = pickle.load(open(ENV.clean_categorical_col.value,'rb'))\n",
    "categori_col = list(set(categori_col + categori_col_exist))\n",
    "pickle.dump(categori_col,open(ENV.clean_categorical_col.value,'wb'))"
   ]
  },
  {
   "cell_type": "code",
   "execution_count": null,
   "metadata": {},
   "outputs": [],
   "source": []
  }
 ],
 "metadata": {
  "kernelspec": {
   "display_name": "Python 3",
   "language": "python",
   "name": "python3"
  },
  "language_info": {
   "codemirror_mode": {
    "name": "ipython",
    "version": 3
   },
   "file_extension": ".py",
   "mimetype": "text/x-python",
   "name": "python",
   "nbconvert_exporter": "python",
   "pygments_lexer": "ipython3",
   "version": "3.6.5"
  },
  "varInspector": {
   "cols": {
    "lenName": 16,
    "lenType": 16,
    "lenVar": 40
   },
   "kernels_config": {
    "python": {
     "delete_cmd_postfix": "",
     "delete_cmd_prefix": "del ",
     "library": "var_list.py",
     "varRefreshCmd": "print(var_dic_list())"
    },
    "r": {
     "delete_cmd_postfix": ") ",
     "delete_cmd_prefix": "rm(",
     "library": "var_list.r",
     "varRefreshCmd": "cat(var_dic_list()) "
    }
   },
   "types_to_exclude": [
    "module",
    "function",
    "builtin_function_or_method",
    "instance",
    "_Feature"
   ],
   "window_display": false
  }
 },
 "nbformat": 4,
 "nbformat_minor": 2
}
