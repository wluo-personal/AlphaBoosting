{
 "cells": [
  {
   "cell_type": "code",
   "execution_count": 1,
   "metadata": {
    "ExecuteTime": {
     "end_time": "2018-08-10T22:05:31.926874Z",
     "start_time": "2018-08-10T22:05:30.274057Z"
    }
   },
   "outputs": [],
   "source": [
    "import os,sys\n",
    "import numpy as np\n",
    "import pandas as pd\n",
    "from tqdm import tqdm_notebook as tqdm\n",
    "from sklearn.externals import joblib\n",
    "import matplotlib.pyplot as plt\n",
    "import seaborn as sns\n",
    "sys.path.append('../../LIB/')\n",
    "from env import ENV\n",
    "from sklearn import preprocessing\n",
    "le = preprocessing.LabelEncoder()"
   ]
  },
  {
   "cell_type": "code",
   "execution_count": 2,
   "metadata": {
    "ExecuteTime": {
     "end_time": "2018-08-10T22:05:48.655686Z",
     "start_time": "2018-08-10T22:05:31.964672Z"
    }
   },
   "outputs": [],
   "source": [
    "X = pd.read_csv(ENV.installments_payments_ori.value)"
   ]
  },
  {
   "cell_type": "code",
   "execution_count": 3,
   "metadata": {
    "ExecuteTime": {
     "end_time": "2018-08-10T22:05:48.668666Z",
     "start_time": "2018-08-10T22:05:48.661929Z"
    }
   },
   "outputs": [],
   "source": [
    "class ordinal_encoder:\n",
    "    def __init__(self,fillna='NAN_FILL'):\n",
    "        self.fillna = fillna\n",
    "    \n",
    "    def fit(self,sr,NA_VALUE=None,realNA2Nega1=True):\n",
    "        \"\"\"\n",
    "        spycify the value which has already been encoded. make it to -1 after encoding\n",
    "        \"\"\"\n",
    "        self.NA_VALUE=NA_VALUE\n",
    "        order = sr.fillna(self.fillna).value_counts()\n",
    "        if self.NA_VALUE is not None:\n",
    "            order[NA_VALUE] = 9999999\n",
    "\n",
    "        if realNA2Nega1:\n",
    "            order[self.fillna] = 99999999\n",
    "        order = order.sort_values(ascending=True)\n",
    "\n",
    "\n",
    "        self.mapping = pd.Series(index=order.index.values, data=list(range(1,len(order)+1)))\n",
    "        if self.NA_VALUE is not None:\n",
    "            self.mapping[NA_VALUE] = -1\n",
    "\n",
    "        if realNA2Nega1:\n",
    "            self.mapping[self.fillna] = -1\n",
    "    \n",
    "    def transform(self,sr):\n",
    "        return sr.fillna(self.fillna).map(self.mapping)\n",
    "        "
   ]
  },
  {
   "cell_type": "code",
   "execution_count": 4,
   "metadata": {
    "ExecuteTime": {
     "end_time": "2018-08-10T22:05:48.694167Z",
     "start_time": "2018-08-10T22:05:48.673839Z"
    }
   },
   "outputs": [],
   "source": [
    "def calculate_na(ser):\n",
    "    return np.sum(ser.isnull())\n",
    "\n",
    "def view_hist(ser):\n",
    "    plt.hist(ser, range=(min(ser.values), max(ser.values)))\n",
    "    \n",
    "def scan_nan_portion(df):\n",
    "    portions = []\n",
    "    columns = []\n",
    "    for col in df.columns:\n",
    "        columns.append(col)\n",
    "        portions.append(np.sum(df[col].isnull())/len(df))\n",
    "    return pd.Series(data=portions, index=columns)\n"
   ]
  },
  {
   "cell_type": "code",
   "execution_count": 5,
   "metadata": {
    "ExecuteTime": {
     "end_time": "2018-08-10T22:05:49.994181Z",
     "start_time": "2018-08-10T22:05:48.704448Z"
    }
   },
   "outputs": [
    {
     "name": "stdout",
     "output_type": "stream",
     "text": [
      "count    8.000000\n",
      "mean     0.000053\n",
      "std      0.000099\n",
      "min      0.000000\n",
      "25%      0.000000\n",
      "50%      0.000000\n",
      "75%      0.000053\n",
      "max      0.000214\n",
      "dtype: float64\n"
     ]
    }
   ],
   "source": [
    "p = scan_nan_portion(X)\n",
    "p = p.sort_values()\n",
    "print(p.describe())\n",
    "oe = ordinal_encoder()"
   ]
  },
  {
   "cell_type": "markdown",
   "metadata": {},
   "source": [
    "# Data Clean"
   ]
  },
  {
   "cell_type": "markdown",
   "metadata": {},
   "source": [
    "## 0 - 20"
   ]
  },
  {
   "cell_type": "code",
   "execution_count": 6,
   "metadata": {
    "ExecuteTime": {
     "end_time": "2018-08-10T22:06:14.666058Z",
     "start_time": "2018-08-10T22:05:49.999630Z"
    }
   },
   "outputs": [
    {
     "name": "stdout",
     "output_type": "stream",
     "text": [
      "count    1.360540e+07\n",
      "mean     1.903365e+06\n",
      "std      5.362029e+05\n",
      "min      1.000001e+06\n",
      "25%      1.434191e+06\n",
      "50%      1.896520e+06\n",
      "75%      2.369094e+06\n",
      "max      2.843499e+06\n",
      "Name: SK_ID_PREV, dtype: float64\n",
      "----\n",
      "int64\n",
      "value counts: 997752\n",
      "NA percentage: 0.0\n",
      "========= End ==================\n",
      "count    1.360540e+07\n",
      "mean     2.784449e+05\n",
      "std      1.027183e+05\n",
      "min      1.000010e+05\n",
      "25%      1.896390e+05\n",
      "50%      2.786850e+05\n",
      "75%      3.675300e+05\n",
      "max      4.562550e+05\n",
      "Name: SK_ID_CURR, dtype: float64\n",
      "----\n",
      "int64\n",
      "value counts: 339587\n",
      "NA percentage: 0.0\n",
      "========= End ==================\n",
      "count    1.360540e+07\n",
      "mean     8.566373e-01\n",
      "std      1.035216e+00\n",
      "min      0.000000e+00\n",
      "25%      0.000000e+00\n",
      "50%      1.000000e+00\n",
      "75%      1.000000e+00\n",
      "max      1.780000e+02\n",
      "Name: NUM_INSTALMENT_VERSION, dtype: float64\n",
      "----\n",
      "float64\n",
      "value counts: 65\n",
      "NA percentage: 0.0\n",
      "========= End ==================\n",
      "count    1.360540e+07\n",
      "mean     1.887090e+01\n",
      "std      2.666407e+01\n",
      "min      1.000000e+00\n",
      "25%      4.000000e+00\n",
      "50%      8.000000e+00\n",
      "75%      1.900000e+01\n",
      "max      2.770000e+02\n",
      "Name: NUM_INSTALMENT_NUMBER, dtype: float64\n",
      "----\n",
      "int64\n",
      "value counts: 277\n",
      "NA percentage: 0.0\n",
      "========= End ==================\n",
      "count    1.360540e+07\n",
      "mean    -1.042270e+03\n",
      "std      8.009463e+02\n",
      "min     -2.922000e+03\n",
      "25%     -1.654000e+03\n",
      "50%     -8.180000e+02\n",
      "75%     -3.610000e+02\n",
      "max     -1.000000e+00\n",
      "Name: DAYS_INSTALMENT, dtype: float64\n",
      "----\n",
      "float64\n",
      "value counts: 2922\n",
      "NA percentage: 0.0\n",
      "========= End ==================\n",
      "count    1.360540e+07\n",
      "mean     1.705091e+04\n",
      "std      5.057025e+04\n",
      "min      0.000000e+00\n",
      "25%      4.226085e+03\n",
      "50%      8.884080e+03\n",
      "75%      1.671021e+04\n",
      "max      3.771488e+06\n",
      "Name: AMT_INSTALMENT, dtype: float64\n",
      "----\n",
      "float64\n",
      "value counts: 902539\n",
      "NA percentage: 0.0\n",
      "========= End ==================\n",
      "count    1.360250e+07\n",
      "mean    -1.051114e+03\n",
      "std      8.005859e+02\n",
      "min     -4.921000e+03\n",
      "25%     -1.662000e+03\n",
      "50%     -8.270000e+02\n",
      "75%     -3.700000e+02\n",
      "max     -1.000000e+00\n",
      "Name: DAYS_ENTRY_PAYMENT, dtype: float64\n",
      "----\n",
      "float64\n",
      "value counts: 3039\n",
      "NA percentage: 0.00021351814621266952\n",
      "========= End ==================\n",
      "count    1.360250e+07\n",
      "mean     1.723822e+04\n",
      "std      5.473578e+04\n",
      "min      0.000000e+00\n",
      "25%      3.398265e+03\n",
      "50%      8.125515e+03\n",
      "75%      1.610842e+04\n",
      "max      3.771488e+06\n",
      "Name: AMT_PAYMENT, dtype: float64\n",
      "----\n",
      "float64\n",
      "value counts: 944235\n",
      "NA percentage: 0.00021351814621266952\n",
      "========= End ==================\n",
      "[]\n"
     ]
    }
   ],
   "source": [
    "category_20 = []\n",
    "failed = []\n",
    "for each in p.iloc[:].index.values:\n",
    "    \n",
    "    print(X[each].describe())\n",
    "    print('----')\n",
    "    print(X[each].dtypes)\n",
    "    num_values = len(X[each].value_counts())\n",
    "    if num_values < 10:\n",
    "        category_20.append(each)\n",
    "        try:\n",
    "            X[each] = X[each].astype('int')\n",
    "        except ValueError:\n",
    "            print('{} converted to int failed!!!!!!!!!!!!!!!!!!!!!!!!!!!!!!'.format(each))\n",
    "            failed.append(each)\n",
    "    print('value counts: {}'.format(num_values))\n",
    "    print('NA percentage: {}'.format(p[each]))\n",
    "    print('========= End ==================')\n",
    "print(failed)\n",
    "# category_20.remove()"
   ]
  },
  {
   "cell_type": "code",
   "execution_count": 7,
   "metadata": {
    "ExecuteTime": {
     "end_time": "2018-08-10T22:06:14.842720Z",
     "start_time": "2018-08-10T22:06:14.670403Z"
    }
   },
   "outputs": [
    {
     "data": {
      "text/plain": [
       "1.0      8485004\n",
       "0.0      4082498\n",
       "2.0       620283\n",
       "3.0       237063\n",
       "4.0        55274\n",
       "5.0        48404\n",
       "6.0        17092\n",
       "7.0        16771\n",
       "9.0         8359\n",
       "8.0         7814\n",
       "10.0        4637\n",
       "11.0        4342\n",
       "13.0        2951\n",
       "12.0        2863\n",
       "15.0        1917\n",
       "14.0        1906\n",
       "16.0        1283\n",
       "17.0        1249\n",
       "18.0         883\n",
       "19.0         816\n",
       "20.0         615\n",
       "21.0         589\n",
       "22.0         426\n",
       "23.0         373\n",
       "24.0         291\n",
       "25.0         268\n",
       "26.0         211\n",
       "27.0         177\n",
       "29.0         163\n",
       "28.0         145\n",
       "          ...   \n",
       "35.0          46\n",
       "39.0          42\n",
       "36.0          36\n",
       "37.0          33\n",
       "38.0          29\n",
       "40.0          19\n",
       "43.0          19\n",
       "41.0          18\n",
       "42.0          18\n",
       "44.0          13\n",
       "61.0           8\n",
       "45.0           8\n",
       "72.0           7\n",
       "46.0           5\n",
       "47.0           4\n",
       "48.0           3\n",
       "49.0           3\n",
       "50.0           3\n",
       "52.0           3\n",
       "51.0           2\n",
       "53.0           1\n",
       "54.0           1\n",
       "55.0           1\n",
       "56.0           1\n",
       "57.0           1\n",
       "58.0           1\n",
       "59.0           1\n",
       "178.0          1\n",
       "68.0           1\n",
       "73.0           1\n",
       "Name: NUM_INSTALMENT_VERSION, Length: 65, dtype: int64"
      ]
     },
     "execution_count": 7,
     "metadata": {},
     "output_type": "execute_result"
    }
   ],
   "source": [
    "col = 'NUM_INSTALMENT_VERSION'\n",
    "X[col].value_counts()"
   ]
  },
  {
   "cell_type": "markdown",
   "metadata": {},
   "source": [
    "### Ordinal Encoding"
   ]
  },
  {
   "cell_type": "code",
   "execution_count": 8,
   "metadata": {
    "ExecuteTime": {
     "end_time": "2018-08-10T22:06:14.855623Z",
     "start_time": "2018-08-10T22:06:14.850798Z"
    }
   },
   "outputs": [],
   "source": [
    "# col = 'NAME_CONTRACT_STATUS'\n",
    "\n",
    "# oe.fit(X[col],NA_VALUE='XNA')\n",
    "# X[col] = oe.transform(X[col])\n",
    "# category_20.append(col)\n",
    "###############################################\n",
    "\n"
   ]
  },
  {
   "cell_type": "markdown",
   "metadata": {},
   "source": [
    "### FillNa"
   ]
  },
  {
   "cell_type": "code",
   "execution_count": 9,
   "metadata": {
    "ExecuteTime": {
     "end_time": "2018-08-10T22:06:15.028601Z",
     "start_time": "2018-08-10T22:06:14.865248Z"
    }
   },
   "outputs": [],
   "source": [
    "###############################################\n",
    "\n",
    "col = 'DAYS_ENTRY_PAYMENT'\n",
    "X[col] = X[col].fillna(X[col].mean())\n",
    "\n",
    "###############################################\n",
    "\n",
    "col = 'AMT_PAYMENT'\n",
    "X[col] = X[col].fillna(X[col].mean())\n",
    "\n"
   ]
  },
  {
   "cell_type": "markdown",
   "metadata": {},
   "source": [
    "# Saving"
   ]
  },
  {
   "cell_type": "code",
   "execution_count": 10,
   "metadata": {
    "ExecuteTime": {
     "end_time": "2018-08-10T22:06:17.777247Z",
     "start_time": "2018-08-10T22:06:15.037305Z"
    }
   },
   "outputs": [],
   "source": [
    "X.to_pickle(ENV.installments_payments_clean.value)"
   ]
  },
  {
   "cell_type": "code",
   "execution_count": 11,
   "metadata": {
    "ExecuteTime": {
     "end_time": "2018-08-10T22:06:20.797212Z",
     "start_time": "2018-08-10T22:06:17.780809Z"
    }
   },
   "outputs": [
    {
     "data": {
      "text/plain": [
       "SK_ID_PREV                0\n",
       "SK_ID_CURR                0\n",
       "NUM_INSTALMENT_VERSION    0\n",
       "NUM_INSTALMENT_NUMBER     0\n",
       "DAYS_INSTALMENT           0\n",
       "DAYS_ENTRY_PAYMENT        0\n",
       "AMT_INSTALMENT            0\n",
       "AMT_PAYMENT               0\n",
       "dtype: int64"
      ]
     },
     "execution_count": 11,
     "metadata": {},
     "output_type": "execute_result"
    }
   ],
   "source": [
    "np.sum(X.isnull())"
   ]
  },
  {
   "cell_type": "code",
   "execution_count": 12,
   "metadata": {
    "ExecuteTime": {
     "end_time": "2018-08-10T22:07:27.175332Z",
     "start_time": "2018-08-10T22:07:27.158106Z"
    }
   },
   "outputs": [],
   "source": [
    "categori_col = list(set(category_20))"
   ]
  },
  {
   "cell_type": "code",
   "execution_count": 14,
   "metadata": {
    "ExecuteTime": {
     "end_time": "2018-08-10T22:08:49.177162Z",
     "start_time": "2018-08-10T22:08:49.171686Z"
    }
   },
   "outputs": [],
   "source": [
    "import pickle\n",
    "categori_col_exist = pickle.load(open(ENV.clean_categorical_col.value,'rb'))\n",
    "categori_col = list(set(categori_col + categori_col_exist))\n",
    "pickle.dump(categori_col,open(ENV.clean_categorical_col.value,'wb'))"
   ]
  },
  {
   "cell_type": "code",
   "execution_count": null,
   "metadata": {},
   "outputs": [],
   "source": []
  }
 ],
 "metadata": {
  "kernelspec": {
   "display_name": "Python 3",
   "language": "python",
   "name": "python3"
  },
  "language_info": {
   "codemirror_mode": {
    "name": "ipython",
    "version": 3
   },
   "file_extension": ".py",
   "mimetype": "text/x-python",
   "name": "python",
   "nbconvert_exporter": "python",
   "pygments_lexer": "ipython3",
   "version": "3.6.5"
  },
  "varInspector": {
   "cols": {
    "lenName": 16,
    "lenType": 16,
    "lenVar": 40
   },
   "kernels_config": {
    "python": {
     "delete_cmd_postfix": "",
     "delete_cmd_prefix": "del ",
     "library": "var_list.py",
     "varRefreshCmd": "print(var_dic_list())"
    },
    "r": {
     "delete_cmd_postfix": ") ",
     "delete_cmd_prefix": "rm(",
     "library": "var_list.r",
     "varRefreshCmd": "cat(var_dic_list()) "
    }
   },
   "types_to_exclude": [
    "module",
    "function",
    "builtin_function_or_method",
    "instance",
    "_Feature"
   ],
   "window_display": false
  }
 },
 "nbformat": 4,
 "nbformat_minor": 2
}
