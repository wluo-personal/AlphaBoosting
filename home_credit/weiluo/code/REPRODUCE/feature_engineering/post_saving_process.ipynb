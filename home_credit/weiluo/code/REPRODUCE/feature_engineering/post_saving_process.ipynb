{
 "cells": [
  {
   "cell_type": "code",
   "execution_count": 1,
   "metadata": {
    "ExecuteTime": {
     "end_time": "2018-07-27T08:28:50.085550Z",
     "start_time": "2018-07-27T08:28:49.541189Z"
    }
   },
   "outputs": [],
   "source": [
    "from scipy.stats import skew,kurtosis,iqr\n",
    "import os\n",
    "import pandas as pd\n",
    "from tqdm import tqdm_notebook as tqdm\n",
    "from sklearn.externals import joblib\n",
    "import matplotlib.pyplot as plt\n",
    "import seaborn as sns\n",
    "import sys\n",
    "import numpy as np\n",
    "sys.path.append('../../LIB/')\n",
    "from env import ENV\n",
    "import pickle\n",
    "import warnings\n",
    "\n",
    "from functools import partial\n",
    "from sklearn.externals import joblib\n",
    "import warnings\n",
    "warnings.filterwarnings('ignore')\n",
    "import multiprocessing as mp\n",
    "from functools import reduce\n",
    "\n",
    "from sklearn.linear_model import LinearRegression\n",
    "from sklearn import preprocessing\n",
    "le = preprocessing.LabelEncoder()"
   ]
  },
  {
   "cell_type": "code",
   "execution_count": 2,
   "metadata": {
    "ExecuteTime": {
     "end_time": "2018-07-27T08:28:50.507201Z",
     "start_time": "2018-07-27T08:28:50.502643Z"
    }
   },
   "outputs": [],
   "source": [
    "def calculate_na(ser):\n",
    "    return np.sum(ser.isnull())\n",
    "\n",
    "\n",
    "def scan_nan_portion(df):\n",
    "    portions = []\n",
    "    columns = []\n",
    "    for col in df.columns:\n",
    "        columns.append(col)\n",
    "        portions.append(np.sum(df[col].isnull())/len(df))\n",
    "    return pd.Series(data=portions, index=columns)"
   ]
  },
  {
   "cell_type": "code",
   "execution_count": 3,
   "metadata": {
    "ExecuteTime": {
     "end_time": "2018-07-27T08:28:54.567862Z",
     "start_time": "2018-07-27T08:28:51.841132Z"
    }
   },
   "outputs": [],
   "source": [
    "train = pd.read_pickle(ENV.application_train_reproduce.value)\n",
    "test = pd.read_pickle(ENV.application_test_reproduce.value)"
   ]
  },
  {
   "cell_type": "code",
   "execution_count": 4,
   "metadata": {
    "ExecuteTime": {
     "end_time": "2018-07-27T08:28:59.550264Z",
     "start_time": "2018-07-27T08:28:56.084641Z"
    }
   },
   "outputs": [],
   "source": [
    "p = scan_nan_portion(train)\n",
    "ignore = list(p[p>0.95].index.values)"
   ]
  },
  {
   "cell_type": "code",
   "execution_count": 5,
   "metadata": {
    "ExecuteTime": {
     "end_time": "2018-07-27T08:29:03.312671Z",
     "start_time": "2018-07-27T08:29:01.010585Z"
    }
   },
   "outputs": [],
   "source": [
    "train = train[list(set(train.columns.values) - set(ignore))]\n",
    "test = test[list(set(test.columns.values) - set(ignore))]"
   ]
  },
  {
   "cell_type": "code",
   "execution_count": 6,
   "metadata": {
    "ExecuteTime": {
     "end_time": "2018-07-27T08:29:04.902185Z",
     "start_time": "2018-07-27T08:29:04.179344Z"
    }
   },
   "outputs": [
    {
     "data": {
      "text/plain": [
       "count    1087.000000\n",
       "mean        0.135475\n",
       "std         0.226418\n",
       "min         0.000000\n",
       "25%         0.016412\n",
       "50%         0.019202\n",
       "75%         0.131791\n",
       "max         0.781963\n",
       "dtype: float64"
      ]
     },
     "execution_count": 6,
     "metadata": {},
     "output_type": "execute_result"
    }
   ],
   "source": [
    "p = scan_nan_portion(test)\n",
    "p.describe()"
   ]
  },
  {
   "cell_type": "code",
   "execution_count": 9,
   "metadata": {
    "ExecuteTime": {
     "end_time": "2018-07-27T08:29:43.883474Z",
     "start_time": "2018-07-27T08:29:43.868376Z"
    }
   },
   "outputs": [],
   "source": [
    "for col in train.columns:\n",
    "    if train[col].dtype == object:\n",
    "        print(col)\n",
    "        le.fit(pd.concat([train[col],test[col]]).fillna('NA'))\n",
    "        train[col] = le.transform(train[col].fillna('NA'))\n",
    "        test[col] = le.transform(test[col].fillna('NA'))\n",
    "#         le.fit(pd.concat([train[col],test[col]]))\n",
    "#         train[col] = le.transform(train[col])\n",
    "#         test[col] = le.transform(test[col])"
   ]
  },
  {
   "cell_type": "code",
   "execution_count": 12,
   "metadata": {
    "ExecuteTime": {
     "end_time": "2018-07-27T08:30:35.815515Z",
     "start_time": "2018-07-27T08:30:35.805972Z"
    }
   },
   "outputs": [
    {
     "data": {
      "text/plain": [
       "0    282686\n",
       "1     24825\n",
       "Name: TARGET, dtype: int64"
      ]
     },
     "execution_count": 12,
     "metadata": {},
     "output_type": "execute_result"
    }
   ],
   "source": [
    "train.TARGET.value_counts()"
   ]
  },
  {
   "cell_type": "code",
   "execution_count": 13,
   "metadata": {
    "ExecuteTime": {
     "end_time": "2018-07-27T08:30:53.739035Z",
     "start_time": "2018-07-27T08:30:47.598195Z"
    }
   },
   "outputs": [],
   "source": [
    "train.to_pickle('/home/kai/data/shiyi/AlphaBoosting/automl/automl_app/project_home_credit/data/fe_application_train.pkl')\n",
    "test.to_pickle('/home/kai/data/shiyi/AlphaBoosting/automl/automl_app/project_home_credit/data/fe_application_test.pkl')"
   ]
  },
  {
   "cell_type": "code",
   "execution_count": 5,
   "metadata": {
    "ExecuteTime": {
     "end_time": "2018-07-25T21:14:47.095320Z",
     "start_time": "2018-07-25T21:14:39.825509Z"
    }
   },
   "outputs": [],
   "source": [
    "# train.to_pickle(ENV.application_train_reproduce.value)\n",
    "# test.to_pickle(ENV.application_test_reproduce.value)"
   ]
  },
  {
   "cell_type": "code",
   "execution_count": 14,
   "metadata": {
    "ExecuteTime": {
     "end_time": "2018-07-27T19:21:25.587725Z",
     "start_time": "2018-07-27T19:21:25.578707Z"
    }
   },
   "outputs": [
    {
     "data": {
      "text/plain": [
       "float64    1030\n",
       "int64        58\n",
       "dtype: int64"
      ]
     },
     "execution_count": 14,
     "metadata": {},
     "output_type": "execute_result"
    }
   ],
   "source": [
    "train.dtypes.value_counts()"
   ]
  },
  {
   "cell_type": "code",
   "execution_count": 7,
   "metadata": {
    "ExecuteTime": {
     "end_time": "2018-07-25T21:15:04.460251Z",
     "start_time": "2018-07-25T21:15:04.454655Z"
    }
   },
   "outputs": [
    {
     "data": {
      "text/plain": [
       "(48744, 1318)"
      ]
     },
     "execution_count": 7,
     "metadata": {},
     "output_type": "execute_result"
    }
   ],
   "source": [
    "test.shape"
   ]
  },
  {
   "cell_type": "code",
   "execution_count": null,
   "metadata": {},
   "outputs": [],
   "source": []
  }
 ],
 "metadata": {
  "kernelspec": {
   "display_name": "Python 3",
   "language": "python",
   "name": "python3"
  },
  "language_info": {
   "codemirror_mode": {
    "name": "ipython",
    "version": 3
   },
   "file_extension": ".py",
   "mimetype": "text/x-python",
   "name": "python",
   "nbconvert_exporter": "python",
   "pygments_lexer": "ipython3",
   "version": "3.6.5"
  },
  "varInspector": {
   "cols": {
    "lenName": 16,
    "lenType": 16,
    "lenVar": 40
   },
   "kernels_config": {
    "python": {
     "delete_cmd_postfix": "",
     "delete_cmd_prefix": "del ",
     "library": "var_list.py",
     "varRefreshCmd": "print(var_dic_list())"
    },
    "r": {
     "delete_cmd_postfix": ") ",
     "delete_cmd_prefix": "rm(",
     "library": "var_list.r",
     "varRefreshCmd": "cat(var_dic_list()) "
    }
   },
   "types_to_exclude": [
    "module",
    "function",
    "builtin_function_or_method",
    "instance",
    "_Feature"
   ],
   "window_display": false
  }
 },
 "nbformat": 4,
 "nbformat_minor": 2
}
