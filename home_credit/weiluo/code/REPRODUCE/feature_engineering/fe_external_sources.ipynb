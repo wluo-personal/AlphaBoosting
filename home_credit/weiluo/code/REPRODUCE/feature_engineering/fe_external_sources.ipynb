{
 "cells": [
  {
   "cell_type": "code",
   "execution_count": 1,
   "metadata": {
    "ExecuteTime": {
     "end_time": "2018-07-25T17:20:53.928998Z",
     "start_time": "2018-07-25T17:20:53.467618Z"
    }
   },
   "outputs": [],
   "source": [
    "import os\n",
    "import pandas as pd\n",
    "from tqdm import tqdm_notebook as tqdm\n",
    "from sklearn.externals import joblib\n",
    "import matplotlib.pyplot as plt\n",
    "import seaborn as sns\n",
    "import sys\n",
    "sys.path.append('../../LIB/')\n",
    "from env import ENV\n",
    "import pickle"
   ]
  },
  {
   "cell_type": "code",
   "execution_count": 14,
   "metadata": {
    "ExecuteTime": {
     "end_time": "2018-07-25T17:25:36.675749Z",
     "start_time": "2018-07-25T17:25:35.639289Z"
    }
   },
   "outputs": [],
   "source": [
    "X = pickle.load(open(ENV.application_train_reproduce.value,'rb'))"
   ]
  },
  {
   "cell_type": "code",
   "execution_count": 7,
   "metadata": {
    "ExecuteTime": {
     "end_time": "2018-07-25T17:23:17.507509Z",
     "start_time": "2018-07-25T17:23:16.972591Z"
    }
   },
   "outputs": [],
   "source": [
    "X_ext = X[['EXT_SOURCE_1','EXT_SOURCE_2','EXT_SOURCE_3','TARGET']]"
   ]
  },
  {
   "cell_type": "code",
   "execution_count": 8,
   "metadata": {
    "ExecuteTime": {
     "end_time": "2018-07-25T17:23:46.789345Z",
     "start_time": "2018-07-25T17:23:45.915187Z"
    }
   },
   "outputs": [
    {
     "name": "stderr",
     "output_type": "stream",
     "text": [
      "/home/kai/anaconda3/lib/python3.6/site-packages/ipykernel_launcher.py:3: RuntimeWarning: All-NaN axis encountered\n",
      "  This is separate from the ipykernel package so we can avoid doing imports until\n",
      "/home/kai/anaconda3/lib/python3.6/site-packages/ipykernel_launcher.py:3: SettingWithCopyWarning: \n",
      "A value is trying to be set on a copy of a slice from a DataFrame.\n",
      "Try using .loc[row_indexer,col_indexer] = value instead\n",
      "\n",
      "See the caveats in the documentation: http://pandas.pydata.org/pandas-docs/stable/indexing.html#indexing-view-versus-copy\n",
      "  This is separate from the ipykernel package so we can avoid doing imports until\n",
      "/home/kai/anaconda3/lib/python3.6/site-packages/numpy/lib/function_base.py:4033: RuntimeWarning: Invalid value encountered in median for 197922 results\n",
      "  r = func(a, **kwargs)\n",
      "/home/kai/anaconda3/lib/python3.6/site-packages/numpy/lib/function_base.py:4033: RuntimeWarning: All-NaN slice encountered\n",
      "  r = func(a, **kwargs)\n",
      "/home/kai/anaconda3/lib/python3.6/site-packages/ipykernel_launcher.py:3: RuntimeWarning: Mean of empty slice\n",
      "  This is separate from the ipykernel package so we can avoid doing imports until\n"
     ]
    }
   ],
   "source": [
    "for function_name in ['nanmin', 'nanmax', 'sum', 'mean', 'var', 'median', 'std', 'nanmedian', 'nanmean', 'min', 'max']:\n",
    "            X_ext['external_sources_{}'.format(function_name)] = eval('np.{}'.format(function_name))(\n",
    "                X_ext[['EXT_SOURCE_1', 'EXT_SOURCE_2', 'EXT_SOURCE_3']], axis=1)"
   ]
  },
  {
   "cell_type": "code",
   "execution_count": 9,
   "metadata": {
    "ExecuteTime": {
     "end_time": "2018-07-25T17:23:58.127194Z",
     "start_time": "2018-07-25T17:23:58.098678Z"
    }
   },
   "outputs": [
    {
     "data": {
      "text/html": [
       "<div>\n",
       "<style scoped>\n",
       "    .dataframe tbody tr th:only-of-type {\n",
       "        vertical-align: middle;\n",
       "    }\n",
       "\n",
       "    .dataframe tbody tr th {\n",
       "        vertical-align: top;\n",
       "    }\n",
       "\n",
       "    .dataframe thead th {\n",
       "        text-align: right;\n",
       "    }\n",
       "</style>\n",
       "<table border=\"1\" class=\"dataframe\">\n",
       "  <thead>\n",
       "    <tr style=\"text-align: right;\">\n",
       "      <th></th>\n",
       "      <th>EXT_SOURCE_1</th>\n",
       "      <th>EXT_SOURCE_2</th>\n",
       "      <th>EXT_SOURCE_3</th>\n",
       "      <th>TARGET</th>\n",
       "      <th>external_sources_nanmin</th>\n",
       "      <th>external_sources_nanmax</th>\n",
       "      <th>external_sources_sum</th>\n",
       "      <th>external_sources_mean</th>\n",
       "      <th>external_sources_var</th>\n",
       "      <th>external_sources_median</th>\n",
       "      <th>external_sources_std</th>\n",
       "      <th>external_sources_nanmedian</th>\n",
       "      <th>external_sources_nanmean</th>\n",
       "      <th>external_sources_min</th>\n",
       "      <th>external_sources_max</th>\n",
       "    </tr>\n",
       "  </thead>\n",
       "  <tbody>\n",
       "    <tr>\n",
       "      <th>0</th>\n",
       "      <td>0.083037</td>\n",
       "      <td>0.262949</td>\n",
       "      <td>0.139376</td>\n",
       "      <td>1</td>\n",
       "      <td>0.083037</td>\n",
       "      <td>0.262949</td>\n",
       "      <td>0.485361</td>\n",
       "      <td>0.161787</td>\n",
       "      <td>0.005646</td>\n",
       "      <td>0.139376</td>\n",
       "      <td>0.075139</td>\n",
       "      <td>0.139376</td>\n",
       "      <td>0.161787</td>\n",
       "      <td>0.083037</td>\n",
       "      <td>0.262949</td>\n",
       "    </tr>\n",
       "    <tr>\n",
       "      <th>1</th>\n",
       "      <td>0.311267</td>\n",
       "      <td>0.622246</td>\n",
       "      <td>NaN</td>\n",
       "      <td>0</td>\n",
       "      <td>0.311267</td>\n",
       "      <td>0.622246</td>\n",
       "      <td>0.933513</td>\n",
       "      <td>0.466757</td>\n",
       "      <td>0.024177</td>\n",
       "      <td>NaN</td>\n",
       "      <td>0.155489</td>\n",
       "      <td>0.466757</td>\n",
       "      <td>0.466757</td>\n",
       "      <td>0.311267</td>\n",
       "      <td>0.622246</td>\n",
       "    </tr>\n",
       "    <tr>\n",
       "      <th>2</th>\n",
       "      <td>NaN</td>\n",
       "      <td>0.555912</td>\n",
       "      <td>0.729567</td>\n",
       "      <td>0</td>\n",
       "      <td>0.555912</td>\n",
       "      <td>0.729567</td>\n",
       "      <td>1.285479</td>\n",
       "      <td>0.642739</td>\n",
       "      <td>0.007539</td>\n",
       "      <td>NaN</td>\n",
       "      <td>0.086827</td>\n",
       "      <td>0.642739</td>\n",
       "      <td>0.642739</td>\n",
       "      <td>0.555912</td>\n",
       "      <td>0.729567</td>\n",
       "    </tr>\n",
       "    <tr>\n",
       "      <th>3</th>\n",
       "      <td>NaN</td>\n",
       "      <td>0.650442</td>\n",
       "      <td>NaN</td>\n",
       "      <td>0</td>\n",
       "      <td>0.650442</td>\n",
       "      <td>0.650442</td>\n",
       "      <td>0.650442</td>\n",
       "      <td>0.650442</td>\n",
       "      <td>0.000000</td>\n",
       "      <td>NaN</td>\n",
       "      <td>0.000000</td>\n",
       "      <td>0.650442</td>\n",
       "      <td>0.650442</td>\n",
       "      <td>0.650442</td>\n",
       "      <td>0.650442</td>\n",
       "    </tr>\n",
       "    <tr>\n",
       "      <th>4</th>\n",
       "      <td>NaN</td>\n",
       "      <td>0.322738</td>\n",
       "      <td>NaN</td>\n",
       "      <td>0</td>\n",
       "      <td>0.322738</td>\n",
       "      <td>0.322738</td>\n",
       "      <td>0.322738</td>\n",
       "      <td>0.322738</td>\n",
       "      <td>0.000000</td>\n",
       "      <td>NaN</td>\n",
       "      <td>0.000000</td>\n",
       "      <td>0.322738</td>\n",
       "      <td>0.322738</td>\n",
       "      <td>0.322738</td>\n",
       "      <td>0.322738</td>\n",
       "    </tr>\n",
       "  </tbody>\n",
       "</table>\n",
       "</div>"
      ],
      "text/plain": [
       "   EXT_SOURCE_1  EXT_SOURCE_2  EXT_SOURCE_3  TARGET  external_sources_nanmin  \\\n",
       "0      0.083037      0.262949      0.139376       1                 0.083037   \n",
       "1      0.311267      0.622246           NaN       0                 0.311267   \n",
       "2           NaN      0.555912      0.729567       0                 0.555912   \n",
       "3           NaN      0.650442           NaN       0                 0.650442   \n",
       "4           NaN      0.322738           NaN       0                 0.322738   \n",
       "\n",
       "   external_sources_nanmax  external_sources_sum  external_sources_mean  \\\n",
       "0                 0.262949              0.485361               0.161787   \n",
       "1                 0.622246              0.933513               0.466757   \n",
       "2                 0.729567              1.285479               0.642739   \n",
       "3                 0.650442              0.650442               0.650442   \n",
       "4                 0.322738              0.322738               0.322738   \n",
       "\n",
       "   external_sources_var  external_sources_median  external_sources_std  \\\n",
       "0              0.005646                 0.139376              0.075139   \n",
       "1              0.024177                      NaN              0.155489   \n",
       "2              0.007539                      NaN              0.086827   \n",
       "3              0.000000                      NaN              0.000000   \n",
       "4              0.000000                      NaN              0.000000   \n",
       "\n",
       "   external_sources_nanmedian  external_sources_nanmean  external_sources_min  \\\n",
       "0                    0.139376                  0.161787              0.083037   \n",
       "1                    0.466757                  0.466757              0.311267   \n",
       "2                    0.642739                  0.642739              0.555912   \n",
       "3                    0.650442                  0.650442              0.650442   \n",
       "4                    0.322738                  0.322738              0.322738   \n",
       "\n",
       "   external_sources_max  \n",
       "0              0.262949  \n",
       "1              0.622246  \n",
       "2              0.729567  \n",
       "3              0.650442  \n",
       "4              0.322738  "
      ]
     },
     "execution_count": 9,
     "metadata": {},
     "output_type": "execute_result"
    }
   ],
   "source": [
    "X_ext.head()"
   ]
  },
  {
   "cell_type": "code",
   "execution_count": 10,
   "metadata": {
    "ExecuteTime": {
     "end_time": "2018-07-25T17:24:11.243469Z",
     "start_time": "2018-07-25T17:24:11.046287Z"
    }
   },
   "outputs": [
    {
     "name": "stderr",
     "output_type": "stream",
     "text": [
      "/home/kai/anaconda3/lib/python3.6/site-packages/ipykernel_launcher.py:1: SettingWithCopyWarning: \n",
      "A value is trying to be set on a copy of a slice from a DataFrame.\n",
      "Try using .loc[row_indexer,col_indexer] = value instead\n",
      "\n",
      "See the caveats in the documentation: http://pandas.pydata.org/pandas-docs/stable/indexing.html#indexing-view-versus-copy\n",
      "  \"\"\"Entry point for launching an IPython kernel.\n",
      "/home/kai/anaconda3/lib/python3.6/site-packages/ipykernel_launcher.py:2: SettingWithCopyWarning: \n",
      "A value is trying to be set on a copy of a slice from a DataFrame.\n",
      "Try using .loc[row_indexer,col_indexer] = value instead\n",
      "\n",
      "See the caveats in the documentation: http://pandas.pydata.org/pandas-docs/stable/indexing.html#indexing-view-versus-copy\n",
      "  \n",
      "/home/kai/anaconda3/lib/python3.6/site-packages/ipykernel_launcher.py:3: SettingWithCopyWarning: \n",
      "A value is trying to be set on a copy of a slice from a DataFrame.\n",
      "Try using .loc[row_indexer,col_indexer] = value instead\n",
      "\n",
      "See the caveats in the documentation: http://pandas.pydata.org/pandas-docs/stable/indexing.html#indexing-view-versus-copy\n",
      "  This is separate from the ipykernel package so we can avoid doing imports until\n"
     ]
    }
   ],
   "source": [
    "X_ext['EXT_SRC_weighted3'] = (X.EXT_SOURCE_1*2+X.EXT_SOURCE_2*3+X.EXT_SOURCE_3*4)/9\n",
    "X_ext['EXT_SRC_weighted2'] = (X.EXT_SOURCE_1*3+X.EXT_SOURCE_2*4+X.EXT_SOURCE_3*2)/9\n",
    "X_ext['EXT_SRC_weighted1'] = (X.EXT_SOURCE_1*4+X.EXT_SOURCE_2*2+X.EXT_SOURCE_3*3)/9"
   ]
  },
  {
   "cell_type": "code",
   "execution_count": 13,
   "metadata": {
    "ExecuteTime": {
     "end_time": "2018-07-25T17:24:44.250221Z",
     "start_time": "2018-07-25T17:24:43.918623Z"
    }
   },
   "outputs": [
    {
     "data": {
      "text/plain": [
       "TARGET                        1.000000\n",
       "EXT_SRC_weighted3             0.236289\n",
       "EXT_SRC_weighted1             0.228995\n",
       "EXT_SRC_weighted2             0.226534\n",
       "external_sources_mean         0.222052\n",
       "external_sources_nanmean      0.222052\n",
       "external_sources_median       0.219630\n",
       "external_sources_nanmedian    0.218118\n",
       "external_sources_nanmax       0.196876\n",
       "external_sources_max          0.196876\n",
       "external_sources_min          0.185266\n",
       "external_sources_nanmin       0.185266\n",
       "EXT_SOURCE_3                  0.178919\n",
       "external_sources_sum          0.173322\n",
       "EXT_SOURCE_2                  0.160472\n",
       "EXT_SOURCE_1                  0.155317\n",
       "external_sources_var          0.033577\n",
       "external_sources_std          0.025646\n",
       "Name: TARGET, dtype: float64"
      ]
     },
     "execution_count": 13,
     "metadata": {},
     "output_type": "execute_result"
    }
   ],
   "source": [
    "X_ext_corr = abs(X_ext.corr())\n",
    "\n",
    "X_ext_corr.sort_values('TARGET', ascending=False)['TARGET']"
   ]
  },
  {
   "cell_type": "code",
   "execution_count": 15,
   "metadata": {
    "ExecuteTime": {
     "end_time": "2018-07-25T17:26:08.159564Z",
     "start_time": "2018-07-25T17:26:08.153086Z"
    }
   },
   "outputs": [
    {
     "name": "stdout",
     "output_type": "stream",
     "text": [
      "EXT_SOURCE_1\n",
      "EXT_SOURCE_2\n",
      "EXT_SOURCE_3\n",
      "CODE_GENDER_NAME_EDUCATION_TYPE_mean_EXT_SOURCE_1\n",
      "CODE_GENDER_NAME_EDUCATION_TYPE_mean_EXT_SOURCE_2\n",
      "CODE_GENDER_ORGANIZATION_TYPE_mean_EXT_SOURCE_1\n",
      "CODE_GENDER_NAME_EDUCATION_TYPE_OCCUPATION_TYPE_REG_CITY_NOT_WORK_CITY_mean_EXT_SOURCE_1\n",
      "CODE_GENDER_NAME_EDUCATION_TYPE_OCCUPATION_TYPE_REG_CITY_NOT_WORK_CITY_mean_EXT_SOURCE_2\n",
      "NAME_EDUCATION_TYPE_OCCUPATION_TYPE_mean_EXT_SOURCE_1\n",
      "NAME_EDUCATION_TYPE_OCCUPATION_TYPE_mean_EXT_SOURCE_2\n",
      "NAME_EDUCATION_TYPE_OCCUPATION_TYPE_mean_EXT_SOURCE_3\n",
      "NAME_EDUCATION_TYPE_OCCUPATION_TYPE_REG_CITY_NOT_WORK_CITY_mean_EXT_SOURCE_1\n",
      "OCCUPATION_TYPE_mean_EXT_SOURCE_1\n",
      "OCCUPATION_TYPE_mean_EXT_SOURCE_2\n",
      "OCCUPATION_TYPE_mean_EXT_SOURCE_3\n",
      "CODE_GENDER_NAME_EDUCATION_TYPE_mean_EXT_SOURCE_1_diff\n",
      "CODE_GENDER_NAME_EDUCATION_TYPE_mean_EXT_SOURCE_1_abs_diff\n",
      "CODE_GENDER_NAME_EDUCATION_TYPE_mean_EXT_SOURCE_2_diff\n",
      "CODE_GENDER_NAME_EDUCATION_TYPE_mean_EXT_SOURCE_2_abs_diff\n",
      "CODE_GENDER_ORGANIZATION_TYPE_mean_EXT_SOURCE_1_diff\n",
      "CODE_GENDER_ORGANIZATION_TYPE_mean_EXT_SOURCE_1_abs_diff\n",
      "CODE_GENDER_NAME_EDUCATION_TYPE_OCCUPATION_TYPE_REG_CITY_NOT_WORK_CITY_mean_EXT_SOURCE_1_diff\n",
      "CODE_GENDER_NAME_EDUCATION_TYPE_OCCUPATION_TYPE_REG_CITY_NOT_WORK_CITY_mean_EXT_SOURCE_1_abs_diff\n",
      "CODE_GENDER_NAME_EDUCATION_TYPE_OCCUPATION_TYPE_REG_CITY_NOT_WORK_CITY_mean_EXT_SOURCE_2_diff\n",
      "CODE_GENDER_NAME_EDUCATION_TYPE_OCCUPATION_TYPE_REG_CITY_NOT_WORK_CITY_mean_EXT_SOURCE_2_abs_diff\n",
      "NAME_EDUCATION_TYPE_OCCUPATION_TYPE_mean_EXT_SOURCE_1_diff\n",
      "NAME_EDUCATION_TYPE_OCCUPATION_TYPE_mean_EXT_SOURCE_1_abs_diff\n",
      "NAME_EDUCATION_TYPE_OCCUPATION_TYPE_mean_EXT_SOURCE_2_diff\n",
      "NAME_EDUCATION_TYPE_OCCUPATION_TYPE_mean_EXT_SOURCE_2_abs_diff\n",
      "NAME_EDUCATION_TYPE_OCCUPATION_TYPE_mean_EXT_SOURCE_3_diff\n",
      "NAME_EDUCATION_TYPE_OCCUPATION_TYPE_mean_EXT_SOURCE_3_abs_diff\n",
      "NAME_EDUCATION_TYPE_OCCUPATION_TYPE_REG_CITY_NOT_WORK_CITY_mean_EXT_SOURCE_1_diff\n",
      "NAME_EDUCATION_TYPE_OCCUPATION_TYPE_REG_CITY_NOT_WORK_CITY_mean_EXT_SOURCE_1_abs_diff\n",
      "OCCUPATION_TYPE_mean_EXT_SOURCE_1_diff\n",
      "OCCUPATION_TYPE_mean_EXT_SOURCE_1_abs_diff\n",
      "OCCUPATION_TYPE_mean_EXT_SOURCE_2_diff\n",
      "OCCUPATION_TYPE_mean_EXT_SOURCE_2_abs_diff\n",
      "OCCUPATION_TYPE_mean_EXT_SOURCE_3_diff\n",
      "OCCUPATION_TYPE_mean_EXT_SOURCE_3_abs_diff\n"
     ]
    }
   ],
   "source": [
    "for i in X.columns:\n",
    "    if 'EXT' in i:\n",
    "        print(i)"
   ]
  },
  {
   "cell_type": "code",
   "execution_count": null,
   "metadata": {},
   "outputs": [],
   "source": []
  }
 ],
 "metadata": {
  "kernelspec": {
   "display_name": "Python 3",
   "language": "python",
   "name": "python3"
  },
  "language_info": {
   "codemirror_mode": {
    "name": "ipython",
    "version": 3
   },
   "file_extension": ".py",
   "mimetype": "text/x-python",
   "name": "python",
   "nbconvert_exporter": "python",
   "pygments_lexer": "ipython3",
   "version": "3.6.5"
  },
  "varInspector": {
   "cols": {
    "lenName": 16,
    "lenType": 16,
    "lenVar": 40
   },
   "kernels_config": {
    "python": {
     "delete_cmd_postfix": "",
     "delete_cmd_prefix": "del ",
     "library": "var_list.py",
     "varRefreshCmd": "print(var_dic_list())"
    },
    "r": {
     "delete_cmd_postfix": ") ",
     "delete_cmd_prefix": "rm(",
     "library": "var_list.r",
     "varRefreshCmd": "cat(var_dic_list()) "
    }
   },
   "types_to_exclude": [
    "module",
    "function",
    "builtin_function_or_method",
    "instance",
    "_Feature"
   ],
   "window_display": false
  }
 },
 "nbformat": 4,
 "nbformat_minor": 2
}
