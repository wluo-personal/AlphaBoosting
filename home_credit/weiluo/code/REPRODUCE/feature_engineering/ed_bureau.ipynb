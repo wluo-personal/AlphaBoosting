{
 "cells": [
  {
   "cell_type": "code",
   "execution_count": 1,
   "metadata": {
    "ExecuteTime": {
     "end_time": "2018-08-10T22:00:26.824463Z",
     "start_time": "2018-08-10T22:00:25.909871Z"
    }
   },
   "outputs": [],
   "source": [
    "import os,sys\n",
    "import numpy as np\n",
    "import pandas as pd\n",
    "from tqdm import tqdm_notebook as tqdm\n",
    "from sklearn.externals import joblib\n",
    "import matplotlib.pyplot as plt\n",
    "import seaborn as sns\n",
    "sys.path.append('../../LIB/')\n",
    "from env import ENV\n",
    "from sklearn import preprocessing\n",
    "le = preprocessing.LabelEncoder()"
   ]
  },
  {
   "cell_type": "code",
   "execution_count": 2,
   "metadata": {
    "ExecuteTime": {
     "end_time": "2018-08-10T22:00:32.057409Z",
     "start_time": "2018-08-10T22:00:26.829455Z"
    }
   },
   "outputs": [],
   "source": [
    "X = pd.read_csv(ENV.bureau_ori.value)"
   ]
  },
  {
   "cell_type": "code",
   "execution_count": 3,
   "metadata": {
    "ExecuteTime": {
     "end_time": "2018-08-10T22:00:32.067986Z",
     "start_time": "2018-08-10T22:00:32.062474Z"
    }
   },
   "outputs": [],
   "source": [
    "class ordinal_encoder:\n",
    "    def __init__(self,fillna='NAN_FILL'):\n",
    "        self.fillna = fillna\n",
    "    \n",
    "    def fit(self,sr,NA_VALUE=None,realNA2Nega1=True):\n",
    "        \"\"\"\n",
    "        spycify the value which has already been encoded. make it to -1 after encoding\n",
    "        \"\"\"\n",
    "        self.NA_VALUE=NA_VALUE\n",
    "        order = sr.fillna(self.fillna).value_counts()\n",
    "        if self.NA_VALUE is not None:\n",
    "            order[NA_VALUE] = 9999999\n",
    "\n",
    "        if realNA2Nega1:\n",
    "            order[self.fillna] = 99999999\n",
    "        order = order.sort_values(ascending=True)\n",
    "\n",
    "\n",
    "        self.mapping = pd.Series(index=order.index.values, data=list(range(1,len(order)+1)))\n",
    "        if self.NA_VALUE is not None:\n",
    "            self.mapping[NA_VALUE] = -1\n",
    "\n",
    "        if realNA2Nega1:\n",
    "            self.mapping[self.fillna] = -1\n",
    "    \n",
    "    def transform(self,sr):\n",
    "        return sr.fillna(self.fillna).map(self.mapping)\n",
    "        "
   ]
  },
  {
   "cell_type": "code",
   "execution_count": 4,
   "metadata": {
    "ExecuteTime": {
     "end_time": "2018-08-10T22:00:32.079279Z",
     "start_time": "2018-08-10T22:00:32.072780Z"
    }
   },
   "outputs": [],
   "source": [
    "def calculate_na(ser):\n",
    "    return np.sum(ser.isnull())\n",
    "\n",
    "def view_hist(ser):\n",
    "    plt.hist(ser, range=(min(ser.values), max(ser.values)))\n",
    "    \n",
    "def scan_nan_portion(df):\n",
    "    portions = []\n",
    "    columns = []\n",
    "    for col in df.columns:\n",
    "        columns.append(col)\n",
    "        portions.append(np.sum(df[col].isnull())/len(df))\n",
    "    return pd.Series(data=portions, index=columns)\n"
   ]
  },
  {
   "cell_type": "code",
   "execution_count": 5,
   "metadata": {
    "ExecuteTime": {
     "end_time": "2018-08-10T22:00:32.643613Z",
     "start_time": "2018-08-10T22:00:32.084191Z"
    }
   },
   "outputs": [
    {
     "name": "stdout",
     "output_type": "stream",
     "text": [
      "count    17.000000\n",
      "mean      0.135026\n",
      "std       0.238691\n",
      "min       0.000000\n",
      "25%       0.000000\n",
      "50%       0.000000\n",
      "75%       0.150119\n",
      "max       0.714735\n",
      "dtype: float64\n"
     ]
    }
   ],
   "source": [
    "p = scan_nan_portion(X)\n",
    "p = p.sort_values()\n",
    "print(p.describe())\n",
    "oe = ordinal_encoder()"
   ]
  },
  {
   "cell_type": "markdown",
   "metadata": {
    "ExecuteTime": {
     "end_time": "2018-07-26T20:25:52.641629Z",
     "start_time": "2018-07-26T20:25:52.628850Z"
    }
   },
   "source": [
    "# Export NAN"
   ]
  },
  {
   "cell_type": "code",
   "execution_count": 6,
   "metadata": {
    "ExecuteTime": {
     "end_time": "2018-08-10T22:00:32.669588Z",
     "start_time": "2018-08-10T22:00:32.651771Z"
    },
    "scrolled": true
   },
   "outputs": [
    {
     "data": {
      "text/plain": [
       "SK_ID_CURR                0.000000\n",
       "SK_ID_BUREAU              0.000000\n",
       "CREDIT_ACTIVE             0.000000\n",
       "CREDIT_CURRENCY           0.000000\n",
       "DAYS_CREDIT               0.000000\n",
       "CREDIT_DAY_OVERDUE        0.000000\n",
       "DAYS_CREDIT_UPDATE        0.000000\n",
       "CNT_CREDIT_PROLONG        0.000000\n",
       "AMT_CREDIT_SUM_OVERDUE    0.000000\n",
       "CREDIT_TYPE               0.000000\n",
       "AMT_CREDIT_SUM            0.000008\n",
       "DAYS_CREDIT_ENDDATE       0.061496\n",
       "AMT_CREDIT_SUM_DEBT       0.150119\n",
       "AMT_CREDIT_SUM_LIMIT      0.344774\n",
       "DAYS_ENDDATE_FACT         0.369170\n",
       "AMT_CREDIT_MAX_OVERDUE    0.655133\n",
       "AMT_ANNUITY               0.714735\n",
       "dtype: float64"
      ]
     },
     "execution_count": 6,
     "metadata": {},
     "output_type": "execute_result"
    }
   ],
   "source": [
    "p.iloc[0:20]"
   ]
  },
  {
   "cell_type": "markdown",
   "metadata": {},
   "source": [
    "# Data Clean"
   ]
  },
  {
   "cell_type": "markdown",
   "metadata": {},
   "source": [
    "## 0 - 20"
   ]
  },
  {
   "cell_type": "code",
   "execution_count": 7,
   "metadata": {
    "ExecuteTime": {
     "end_time": "2018-08-10T22:00:38.617626Z",
     "start_time": "2018-08-10T22:00:32.673100Z"
    }
   },
   "outputs": [
    {
     "name": "stdout",
     "output_type": "stream",
     "text": [
      "count    1.716428e+06\n",
      "mean     2.782149e+05\n",
      "std      1.029386e+05\n",
      "min      1.000010e+05\n",
      "25%      1.888668e+05\n",
      "50%      2.780550e+05\n",
      "75%      3.674260e+05\n",
      "max      4.562550e+05\n",
      "Name: SK_ID_CURR, dtype: float64\n",
      "----\n",
      "int64\n",
      "value counts: 305811\n",
      "NA percentage: 0.0\n",
      "========= End ==================\n",
      "count    1.716428e+06\n",
      "mean     5.924434e+06\n",
      "std      5.322657e+05\n",
      "min      5.000000e+06\n",
      "25%      5.463954e+06\n",
      "50%      5.926304e+06\n",
      "75%      6.385681e+06\n",
      "max      6.843457e+06\n",
      "Name: SK_ID_BUREAU, dtype: float64\n",
      "----\n",
      "int64\n",
      "value counts: 1716428\n",
      "NA percentage: 0.0\n",
      "========= End ==================\n",
      "count     1716428\n",
      "unique          4\n",
      "top        Closed\n",
      "freq      1079273\n",
      "Name: CREDIT_ACTIVE, dtype: object\n",
      "----\n",
      "object\n",
      "CREDIT_ACTIVE converted to int failed!!!!!!!!!!!!!!!!!!!!!!!!!!!!!!\n",
      "value counts: 4\n",
      "NA percentage: 0.0\n",
      "========= End ==================\n",
      "count        1716428\n",
      "unique             4\n",
      "top       currency 1\n",
      "freq         1715020\n",
      "Name: CREDIT_CURRENCY, dtype: object\n",
      "----\n",
      "object\n",
      "CREDIT_CURRENCY converted to int failed!!!!!!!!!!!!!!!!!!!!!!!!!!!!!!\n",
      "value counts: 4\n",
      "NA percentage: 0.0\n",
      "========= End ==================\n",
      "count    1.716428e+06\n",
      "mean    -1.142108e+03\n",
      "std      7.951649e+02\n",
      "min     -2.922000e+03\n",
      "25%     -1.666000e+03\n",
      "50%     -9.870000e+02\n",
      "75%     -4.740000e+02\n",
      "max      0.000000e+00\n",
      "Name: DAYS_CREDIT, dtype: float64\n",
      "----\n",
      "int64\n",
      "value counts: 2923\n",
      "NA percentage: 0.0\n",
      "========= End ==================\n",
      "count    1.716428e+06\n",
      "mean     8.181666e-01\n",
      "std      3.654443e+01\n",
      "min      0.000000e+00\n",
      "25%      0.000000e+00\n",
      "50%      0.000000e+00\n",
      "75%      0.000000e+00\n",
      "max      2.792000e+03\n",
      "Name: CREDIT_DAY_OVERDUE, dtype: float64\n",
      "----\n",
      "int64\n",
      "value counts: 942\n",
      "NA percentage: 0.0\n",
      "========= End ==================\n",
      "count    1.716428e+06\n",
      "mean    -5.937483e+02\n",
      "std      7.207473e+02\n",
      "min     -4.194700e+04\n",
      "25%     -9.080000e+02\n",
      "50%     -3.950000e+02\n",
      "75%     -3.300000e+01\n",
      "max      3.720000e+02\n",
      "Name: DAYS_CREDIT_UPDATE, dtype: float64\n",
      "----\n",
      "int64\n",
      "value counts: 2982\n",
      "NA percentage: 0.0\n",
      "========= End ==================\n",
      "count    1.716428e+06\n",
      "mean     6.410406e-03\n",
      "std      9.622391e-02\n",
      "min      0.000000e+00\n",
      "25%      0.000000e+00\n",
      "50%      0.000000e+00\n",
      "75%      0.000000e+00\n",
      "max      9.000000e+00\n",
      "Name: CNT_CREDIT_PROLONG, dtype: float64\n",
      "----\n",
      "int64\n",
      "value counts: 10\n",
      "NA percentage: 0.0\n",
      "========= End ==================\n",
      "count    1.716428e+06\n",
      "mean     3.791276e+01\n",
      "std      5.937650e+03\n",
      "min      0.000000e+00\n",
      "25%      0.000000e+00\n",
      "50%      0.000000e+00\n",
      "75%      0.000000e+00\n",
      "max      3.756681e+06\n",
      "Name: AMT_CREDIT_SUM_OVERDUE, dtype: float64\n",
      "----\n",
      "float64\n",
      "value counts: 1616\n",
      "NA percentage: 0.0\n",
      "========= End ==================\n",
      "count             1716428\n",
      "unique                 15\n",
      "top       Consumer credit\n",
      "freq              1251615\n",
      "Name: CREDIT_TYPE, dtype: object\n",
      "----\n",
      "object\n",
      "value counts: 15\n",
      "NA percentage: 0.0\n",
      "========= End ==================\n",
      "count    1.716415e+06\n",
      "mean     3.549946e+05\n",
      "std      1.149811e+06\n",
      "min      0.000000e+00\n",
      "25%      5.130000e+04\n",
      "50%      1.255185e+05\n",
      "75%      3.150000e+05\n",
      "max      5.850000e+08\n",
      "Name: AMT_CREDIT_SUM, dtype: float64\n",
      "----\n",
      "float64\n",
      "value counts: 236708\n",
      "NA percentage: 7.573868522303295e-06\n",
      "========= End ==================\n",
      "count    1.610875e+06\n",
      "mean     5.105174e+02\n",
      "std      4.994220e+03\n",
      "min     -4.206000e+04\n",
      "25%     -1.138000e+03\n",
      "50%     -3.300000e+02\n",
      "75%      4.740000e+02\n",
      "max      3.119900e+04\n",
      "Name: DAYS_CREDIT_ENDDATE, dtype: float64\n",
      "----\n",
      "float64\n",
      "value counts: 14096\n",
      "NA percentage: 0.06149573416420613\n",
      "========= End ==================\n",
      "count    1.458759e+06\n",
      "mean     1.370851e+05\n",
      "std      6.774011e+05\n",
      "min     -4.705600e+06\n",
      "25%      0.000000e+00\n",
      "50%      0.000000e+00\n",
      "75%      4.015350e+04\n",
      "max      1.701000e+08\n",
      "Name: AMT_CREDIT_SUM_DEBT, dtype: float64\n",
      "----\n",
      "float64\n",
      "value counts: 226537\n",
      "NA percentage: 0.15011931755948982\n",
      "========= End ==================\n",
      "count    1.124648e+06\n",
      "mean     6.229515e+03\n",
      "std      4.503203e+04\n",
      "min     -5.864061e+05\n",
      "25%      0.000000e+00\n",
      "50%      0.000000e+00\n",
      "75%      0.000000e+00\n",
      "max      4.705600e+06\n",
      "Name: AMT_CREDIT_SUM_LIMIT, dtype: float64\n",
      "----\n",
      "float64\n",
      "value counts: 51726\n",
      "NA percentage: 0.3447741472406649\n",
      "========= End ==================\n",
      "count    1.082775e+06\n",
      "mean    -1.017437e+03\n",
      "std      7.140106e+02\n",
      "min     -4.202300e+04\n",
      "25%     -1.489000e+03\n",
      "50%     -8.970000e+02\n",
      "75%     -4.250000e+02\n",
      "max      0.000000e+00\n",
      "Name: DAYS_ENDDATE_FACT, dtype: float64\n",
      "----\n",
      "float64\n",
      "value counts: 2917\n",
      "NA percentage: 0.36916957775100384\n",
      "========= End ==================\n",
      "count    5.919400e+05\n",
      "mean     3.825418e+03\n",
      "std      2.060316e+05\n",
      "min      0.000000e+00\n",
      "25%      0.000000e+00\n",
      "50%      0.000000e+00\n",
      "75%      0.000000e+00\n",
      "max      1.159872e+08\n",
      "Name: AMT_CREDIT_MAX_OVERDUE, dtype: float64\n",
      "----\n",
      "float64\n",
      "value counts: 68251\n",
      "NA percentage: 0.6551326359159837\n",
      "========= End ==================\n",
      "count    4.896370e+05\n",
      "mean     1.571276e+04\n",
      "std      3.258269e+05\n",
      "min      0.000000e+00\n",
      "25%      0.000000e+00\n",
      "50%      0.000000e+00\n",
      "75%      1.350000e+04\n",
      "max      1.184534e+08\n",
      "Name: AMT_ANNUITY, dtype: float64\n",
      "----\n",
      "float64\n",
      "value counts: 40321\n",
      "NA percentage: 0.714734902949614\n",
      "========= End ==================\n",
      "['CREDIT_ACTIVE', 'CREDIT_CURRENCY']\n"
     ]
    }
   ],
   "source": [
    "category_20 = []\n",
    "failed = []\n",
    "for each in p.iloc[:20].index.values:\n",
    "    \n",
    "    print(X[each].describe())\n",
    "    print('----')\n",
    "    print(X[each].dtypes)\n",
    "    num_values = len(X[each].value_counts())\n",
    "    if num_values < 10:\n",
    "        category_20.append(each)\n",
    "        try:\n",
    "            X[each] = X[each].astype('int')\n",
    "        except ValueError:\n",
    "            print('{} converted to int failed!!!!!!!!!!!!!!!!!!!!!!!!!!!!!!'.format(each))\n",
    "            failed.append(each)\n",
    "    print('value counts: {}'.format(num_values))\n",
    "    print('NA percentage: {}'.format(p[each]))\n",
    "    print('========= End ==================')\n",
    "print(failed)\n",
    "# category_20.remove()"
   ]
  },
  {
   "cell_type": "markdown",
   "metadata": {},
   "source": [
    "### Ordinal Encoding"
   ]
  },
  {
   "cell_type": "code",
   "execution_count": 8,
   "metadata": {
    "ExecuteTime": {
     "end_time": "2018-08-10T22:00:41.228413Z",
     "start_time": "2018-08-10T22:00:38.622033Z"
    }
   },
   "outputs": [],
   "source": [
    "col = 'CREDIT_ACTIVE'\n",
    "\n",
    "oe.fit(X[col],NA_VALUE='XNA')\n",
    "X[col] = oe.transform(X[col])\n",
    "category_20.append(col)\n",
    "###############################################\n",
    "\n",
    "col = 'CREDIT_CURRENCY'\n",
    "\n",
    "oe.fit(X[col],NA_VALUE='XNA')\n",
    "X[col] = oe.transform(X[col])\n",
    "category_20.append(col)\n",
    "###############################################\n",
    "\n",
    "col = 'CREDIT_TYPE'\n",
    "\n",
    "oe.fit(X[col],NA_VALUE='XNA')\n",
    "X[col] = oe.transform(X[col])\n",
    "category_20.append(col)\n",
    "###############################################"
   ]
  },
  {
   "cell_type": "markdown",
   "metadata": {},
   "source": [
    "### FillNa"
   ]
  },
  {
   "cell_type": "code",
   "execution_count": 9,
   "metadata": {
    "ExecuteTime": {
     "end_time": "2018-08-10T22:00:41.356894Z",
     "start_time": "2018-08-10T22:00:41.233794Z"
    }
   },
   "outputs": [],
   "source": [
    "###############################################\n",
    "\n",
    "col = 'AMT_CREDIT_SUM'\n",
    "X[col] = X[col].fillna(X[col].mean())\n",
    "\n",
    "###############################################\n",
    "\n",
    "col = 'DAYS_CREDIT_ENDDATE'\n",
    "X[col] = X[col].fillna(X[col].mean())\n",
    "\n",
    "###############################################\n",
    "\n",
    "col = 'AMT_CREDIT_SUM_DEBT'\n",
    "X[col] = X[col].fillna(X[col].mean())\n",
    "\n",
    "###############################################\n",
    "\n",
    "col = 'AMT_CREDIT_SUM_LIMIT'\n",
    "X[col] = X[col].fillna(X[col].mean())\n",
    "\n",
    "###############################################\n",
    "\n",
    "col = 'DAYS_ENDDATE_FACT'\n",
    "X[col] = X[col].fillna(X[col].mean())\n",
    "\n",
    "###############################################\n",
    "\n",
    "col = 'AMT_CREDIT_MAX_OVERDUE'\n",
    "X[col] = X[col].fillna(X[col].mean())\n",
    "\n",
    "###############################################\n",
    "\n",
    "col = 'AMT_ANNUITY'\n",
    "X[col] = X[col].fillna(X[col].mean())\n",
    "\n"
   ]
  },
  {
   "cell_type": "markdown",
   "metadata": {},
   "source": [
    "# Saving"
   ]
  },
  {
   "cell_type": "code",
   "execution_count": 10,
   "metadata": {
    "ExecuteTime": {
     "end_time": "2018-08-10T22:00:42.330913Z",
     "start_time": "2018-08-10T22:00:41.364504Z"
    }
   },
   "outputs": [],
   "source": [
    "X.to_pickle(ENV.bureau_cleaned.value)"
   ]
  },
  {
   "cell_type": "code",
   "execution_count": 11,
   "metadata": {
    "ExecuteTime": {
     "end_time": "2018-08-10T22:00:43.228341Z",
     "start_time": "2018-08-10T22:00:42.337630Z"
    }
   },
   "outputs": [
    {
     "data": {
      "text/plain": [
       "SK_ID_CURR                0\n",
       "SK_ID_BUREAU              0\n",
       "CREDIT_ACTIVE             0\n",
       "CREDIT_CURRENCY           0\n",
       "DAYS_CREDIT               0\n",
       "CREDIT_DAY_OVERDUE        0\n",
       "DAYS_CREDIT_ENDDATE       0\n",
       "DAYS_ENDDATE_FACT         0\n",
       "AMT_CREDIT_MAX_OVERDUE    0\n",
       "CNT_CREDIT_PROLONG        0\n",
       "AMT_CREDIT_SUM            0\n",
       "AMT_CREDIT_SUM_DEBT       0\n",
       "AMT_CREDIT_SUM_LIMIT      0\n",
       "AMT_CREDIT_SUM_OVERDUE    0\n",
       "CREDIT_TYPE               0\n",
       "DAYS_CREDIT_UPDATE        0\n",
       "AMT_ANNUITY               0\n",
       "dtype: int64"
      ]
     },
     "execution_count": 11,
     "metadata": {},
     "output_type": "execute_result"
    }
   ],
   "source": [
    "np.sum(X.isnull())"
   ]
  },
  {
   "cell_type": "code",
   "execution_count": 15,
   "metadata": {
    "ExecuteTime": {
     "end_time": "2018-08-10T22:02:31.908128Z",
     "start_time": "2018-08-10T22:02:31.903913Z"
    }
   },
   "outputs": [],
   "source": [
    "categori_col = list(set(category_20))"
   ]
  },
  {
   "cell_type": "code",
   "execution_count": 18,
   "metadata": {
    "ExecuteTime": {
     "end_time": "2018-08-10T22:04:41.269127Z",
     "start_time": "2018-08-10T22:04:41.255528Z"
    }
   },
   "outputs": [],
   "source": [
    "import pickle\n",
    "categori_col_exist = pickle.load(open(ENV.clean_categorical_col.value,'rb'))\n",
    "categori_col = list(set(categori_col + categori_col_exist))\n",
    "pickle.dump(categori_col,open(ENV.clean_categorical_col.value,'wb'))"
   ]
  },
  {
   "cell_type": "code",
   "execution_count": null,
   "metadata": {},
   "outputs": [],
   "source": []
  }
 ],
 "metadata": {
  "kernelspec": {
   "display_name": "Python 3",
   "language": "python",
   "name": "python3"
  },
  "language_info": {
   "codemirror_mode": {
    "name": "ipython",
    "version": 3
   },
   "file_extension": ".py",
   "mimetype": "text/x-python",
   "name": "python",
   "nbconvert_exporter": "python",
   "pygments_lexer": "ipython3",
   "version": "3.6.5"
  },
  "varInspector": {
   "cols": {
    "lenName": 16,
    "lenType": 16,
    "lenVar": 40
   },
   "kernels_config": {
    "python": {
     "delete_cmd_postfix": "",
     "delete_cmd_prefix": "del ",
     "library": "var_list.py",
     "varRefreshCmd": "print(var_dic_list())"
    },
    "r": {
     "delete_cmd_postfix": ") ",
     "delete_cmd_prefix": "rm(",
     "library": "var_list.r",
     "varRefreshCmd": "cat(var_dic_list()) "
    }
   },
   "types_to_exclude": [
    "module",
    "function",
    "builtin_function_or_method",
    "instance",
    "_Feature"
   ],
   "window_display": false
  }
 },
 "nbformat": 4,
 "nbformat_minor": 2
}
