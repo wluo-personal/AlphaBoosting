{
 "cells": [
  {
   "cell_type": "code",
   "execution_count": 1,
   "metadata": {
    "ExecuteTime": {
     "end_time": "2018-07-27T04:48:08.207592Z",
     "start_time": "2018-07-27T04:48:07.664049Z"
    }
   },
   "outputs": [],
   "source": [
    "import os\n",
    "import pandas as pd\n",
    "from tqdm import tqdm_notebook as tqdm\n",
    "from sklearn.externals import joblib\n",
    "import matplotlib.pyplot as plt\n",
    "import seaborn as sns\n",
    "import sys\n",
    "sys.path.append('../../LIB/')\n",
    "from env import ENV\n",
    "import pickle\n",
    "import numpy as np"
   ]
  },
  {
   "cell_type": "code",
   "execution_count": 2,
   "metadata": {
    "ExecuteTime": {
     "end_time": "2018-07-27T04:48:09.089995Z",
     "start_time": "2018-07-27T04:48:08.209284Z"
    }
   },
   "outputs": [],
   "source": [
    "application = pickle.load(open(ENV.application_train_reproduce.value,'rb'))"
   ]
  },
  {
   "cell_type": "code",
   "execution_count": 3,
   "metadata": {
    "ExecuteTime": {
     "end_time": "2018-07-27T04:48:17.119310Z",
     "start_time": "2018-07-27T04:48:09.091804Z"
    }
   },
   "outputs": [],
   "source": [
    "credit_card = pd.read_csv(ENV.credit_card_balance_ori.value)"
   ]
  },
  {
   "cell_type": "code",
   "execution_count": 4,
   "metadata": {
    "ExecuteTime": {
     "end_time": "2018-07-27T04:48:17.125272Z",
     "start_time": "2018-07-27T04:48:17.121175Z"
    }
   },
   "outputs": [],
   "source": [
    "def calculate_na(ser):\n",
    "    return np.sum(ser.isnull())\n",
    "\n",
    "\n",
    "def scan_nan_portion(df):\n",
    "    portions = []\n",
    "    columns = []\n",
    "    for col in df.columns:\n",
    "        columns.append(col)\n",
    "        portions.append(np.sum(df[col].isnull())/len(df))\n",
    "    return pd.Series(data=portions, index=columns)"
   ]
  },
  {
   "cell_type": "code",
   "execution_count": 5,
   "metadata": {
    "ExecuteTime": {
     "end_time": "2018-07-27T04:48:18.386919Z",
     "start_time": "2018-07-27T04:48:17.128696Z"
    }
   },
   "outputs": [
    {
     "name": "stdout",
     "output_type": "stream",
     "text": [
      "count    327.000000\n",
      "mean       0.250724\n",
      "std        0.250550\n",
      "min        0.000000\n",
      "25%        0.000013\n",
      "50%        0.143153\n",
      "75%        0.478334\n",
      "max        0.796563\n",
      "dtype: float64\n"
     ]
    }
   ],
   "source": [
    "p = scan_nan_portion(application)\n",
    "print(p.describe())"
   ]
  },
  {
   "cell_type": "markdown",
   "metadata": {},
   "source": [
    "# Preprocessing"
   ]
  },
  {
   "cell_type": "markdown",
   "metadata": {},
   "source": [
    "## solution 5"
   ]
  },
  {
   "cell_type": "code",
   "execution_count": 6,
   "metadata": {
    "ExecuteTime": {
     "end_time": "2018-07-27T04:48:18.528069Z",
     "start_time": "2018-07-27T04:48:18.388797Z"
    }
   },
   "outputs": [
    {
     "name": "stderr",
     "output_type": "stream",
     "text": [
      "/home/kai/anaconda3/lib/python3.6/site-packages/ipykernel_launcher.py:1: SettingWithCopyWarning: \n",
      "A value is trying to be set on a copy of a slice from a DataFrame\n",
      "\n",
      "See the caveats in the documentation: http://pandas.pydata.org/pandas-docs/stable/indexing.html#indexing-view-versus-copy\n",
      "  \"\"\"Entry point for launching an IPython kernel.\n",
      "/home/kai/anaconda3/lib/python3.6/site-packages/ipykernel_launcher.py:2: SettingWithCopyWarning: \n",
      "A value is trying to be set on a copy of a slice from a DataFrame\n",
      "\n",
      "See the caveats in the documentation: http://pandas.pydata.org/pandas-docs/stable/indexing.html#indexing-view-versus-copy\n",
      "  \n"
     ]
    }
   ],
   "source": [
    "credit_card['AMT_DRAWINGS_ATM_CURRENT'][credit_card['AMT_DRAWINGS_ATM_CURRENT'] < 0] = np.nan\n",
    "credit_card['AMT_DRAWINGS_CURRENT'][credit_card['AMT_DRAWINGS_CURRENT'] < 0] = np.nan"
   ]
  },
  {
   "cell_type": "markdown",
   "metadata": {},
   "source": [
    "## Feature Engineering"
   ]
  },
  {
   "cell_type": "markdown",
   "metadata": {},
   "source": [
    "## Solution 3"
   ]
  },
  {
   "cell_type": "code",
   "execution_count": 7,
   "metadata": {
    "ExecuteTime": {
     "end_time": "2018-07-27T04:48:51.231745Z",
     "start_time": "2018-07-27T04:48:18.529652Z"
    }
   },
   "outputs": [
    {
     "name": "stderr",
     "output_type": "stream",
     "text": [
      "/home/kai/anaconda3/lib/python3.6/site-packages/ipykernel_launcher.py:7: RuntimeWarning: invalid value encountered in double_scalars\n",
      "  import sys\n",
      "/home/kai/anaconda3/lib/python3.6/site-packages/ipykernel_launcher.py:7: RuntimeWarning: divide by zero encountered in double_scalars\n",
      "  import sys\n"
     ]
    },
    {
     "data": {
      "text/plain": [
       "1    102818\n",
       "2       732\n",
       "3         7\n",
       "4         1\n",
       "Name: credit_card_number_of_loans, dtype: int64"
      ]
     },
     "execution_count": 7,
     "metadata": {},
     "output_type": "execute_result"
    }
   ],
   "source": [
    "credit_card['number_of_instalments'] = credit_card.groupby(\n",
    "    by=['SK_ID_CURR', 'SK_ID_PREV'])['CNT_INSTALMENT_MATURE_CUM'].agg('max').reset_index()[\n",
    "    'CNT_INSTALMENT_MATURE_CUM']\n",
    "\n",
    "credit_card['credit_card_max_loading_of_credit_limit'] = credit_card.groupby(\n",
    "    by=['SK_ID_CURR', 'SK_ID_PREV', 'AMT_CREDIT_LIMIT_ACTUAL']).apply(\n",
    "    lambda x: x.AMT_BALANCE.max() / x.AMT_CREDIT_LIMIT_ACTUAL.max()).reset_index()[0]\n",
    "\n",
    "features = pd.DataFrame({'SK_ID_CURR':credit_card['SK_ID_CURR'].unique()})\n",
    "\n",
    "group_object = credit_card.groupby(by=['SK_ID_CURR'])['SK_ID_PREV'].agg('nunique').reset_index()\n",
    "group_object.rename(index=str, columns={'SK_ID_PREV': 'credit_card_number_of_loans'},inplace=True)\n",
    "\n",
    "features = features.merge(group_object, on=['SK_ID_CURR'], how='left')\n",
    "features['credit_card_number_of_loans'].value_counts()"
   ]
  },
  {
   "cell_type": "markdown",
   "metadata": {},
   "source": [
    "# Notes"
   ]
  },
  {
   "cell_type": "code",
   "execution_count": 8,
   "metadata": {
    "ExecuteTime": {
     "end_time": "2018-07-27T04:48:52.286429Z",
     "start_time": "2018-07-27T04:48:51.233497Z"
    }
   },
   "outputs": [],
   "source": [
    "group_object= credit_card.groupby(by=['SK_ID_CURR'])['number_of_instalments'].sum().reset_index()\n",
    "group_object.rename(index=str, columns={'number_of_instalments': 'credit_card_total_instalments'},inplace=True)\n",
    "\n",
    "features = features.merge(group_object, on=['SK_ID_CURR'], how='left')\n",
    "\n",
    "features['credit_card_installments_per_loan'] = (\n",
    "    features['credit_card_total_instalments'] / features['credit_card_number_of_loans'])\n",
    "  \n",
    "group_object = credit_card.groupby(by=['SK_ID_CURR'])['credit_card_max_loading_of_credit_limit'].agg('mean').reset_index()\n",
    "group_object.rename(index=str, columns={'credit_card_max_loading_of_credit_limit': 'credit_card_avg_loading_of_credit_limit'},inplace=True)\n",
    "\n",
    "features = features.merge(group_object, on=['SK_ID_CURR'], how='left')\n",
    "group_object = credit_card.groupby(\n",
    "    by=['SK_ID_CURR'])['SK_DPD'].agg('mean').reset_index()\n",
    "group_object.rename(index=str, columns={'SK_DPD': 'credit_card_average_of_days_past_due'},inplace=True)\n",
    "\n",
    "features = features.merge(group_object, on=['SK_ID_CURR'], how='left')\n",
    "\n",
    "group_object = credit_card.groupby(by=['SK_ID_CURR'])['AMT_DRAWINGS_ATM_CURRENT'].agg('sum').reset_index()\n",
    "group_object.rename(index=str, columns={'AMT_DRAWINGS_ATM_CURRENT': 'credit_card_drawings_atm'},inplace=True)\n",
    "\n",
    "features = features.merge(group_object, on=['SK_ID_CURR'], how='left')\n",
    "\n",
    "group_object = credit_card.groupby(by=['SK_ID_CURR'])['AMT_DRAWINGS_CURRENT'].agg('sum').reset_index()\n",
    "group_object.rename(index=str, columns={'AMT_DRAWINGS_CURRENT': 'credit_card_drawings_total'},inplace=True)\n",
    "\n",
    "features = features.merge(group_object, on=['SK_ID_CURR'], how='left')\n",
    "features['credit_card_cash_card_ratio'] = features['credit_card_drawings_atm'] / features['credit_card_drawings_total']\n"
   ]
  },
  {
   "cell_type": "code",
   "execution_count": 9,
   "metadata": {
    "ExecuteTime": {
     "end_time": "2018-07-27T04:48:52.301889Z",
     "start_time": "2018-07-27T04:48:52.288043Z"
    }
   },
   "outputs": [
    {
     "name": "stdout",
     "output_type": "stream",
     "text": [
      "count    9.000000\n",
      "mean     0.077920\n",
      "std      0.155302\n",
      "min      0.000000\n",
      "25%      0.000000\n",
      "50%      0.000000\n",
      "75%      0.000000\n",
      "max      0.379778\n",
      "dtype: float64\n"
     ]
    }
   ],
   "source": [
    "p = scan_nan_portion(features)\n",
    "print(p.describe())"
   ]
  },
  {
   "cell_type": "code",
   "execution_count": 10,
   "metadata": {
    "ExecuteTime": {
     "end_time": "2018-07-27T04:48:53.005046Z",
     "start_time": "2018-07-27T04:48:52.303399Z"
    }
   },
   "outputs": [],
   "source": [
    "application = application.merge(features,\n",
    "                                left_on=['SK_ID_CURR'],\n",
    "                                right_on=['SK_ID_CURR'],\n",
    "                                how='left',\n",
    "                                validate='one_to_one')"
   ]
  },
  {
   "cell_type": "code",
   "execution_count": 11,
   "metadata": {
    "ExecuteTime": {
     "end_time": "2018-07-27T04:48:54.276992Z",
     "start_time": "2018-07-27T04:48:53.007149Z"
    }
   },
   "outputs": [
    {
     "name": "stdout",
     "output_type": "stream",
     "text": [
      "count    335.000000\n",
      "mean       0.262467\n",
      "std        0.258788\n",
      "min        0.000000\n",
      "25%        0.000013\n",
      "50%        0.150463\n",
      "75%        0.497608\n",
      "max        0.829271\n",
      "dtype: float64\n"
     ]
    }
   ],
   "source": [
    "p = scan_nan_portion(application)\n",
    "print(p.describe())"
   ]
  },
  {
   "cell_type": "markdown",
   "metadata": {},
   "source": [
    "# Aggregations"
   ]
  },
  {
   "cell_type": "code",
   "execution_count": 12,
   "metadata": {
    "ExecuteTime": {
     "end_time": "2018-07-27T04:48:54.290115Z",
     "start_time": "2018-07-27T04:48:54.281048Z"
    }
   },
   "outputs": [],
   "source": [
    "CREDIT_CARD_BALANCE_AGGREGATION_RECIPIES = []\n",
    "for agg in ['mean', 'min', 'max', 'sum', 'var']:\n",
    "    for select in ['AMT_BALANCE',\n",
    "                   'AMT_CREDIT_LIMIT_ACTUAL',\n",
    "                   'AMT_DRAWINGS_ATM_CURRENT',\n",
    "                   'AMT_DRAWINGS_CURRENT',\n",
    "                   'AMT_DRAWINGS_OTHER_CURRENT',\n",
    "                   'AMT_DRAWINGS_POS_CURRENT',\n",
    "                   'AMT_PAYMENT_CURRENT',\n",
    "                   'CNT_DRAWINGS_ATM_CURRENT',\n",
    "                   'CNT_DRAWINGS_CURRENT',\n",
    "                   'CNT_DRAWINGS_OTHER_CURRENT',\n",
    "                   'CNT_INSTALMENT_MATURE_CUM',\n",
    "                   'MONTHS_BALANCE',\n",
    "                   'SK_DPD',\n",
    "                   'SK_DPD_DEF'\n",
    "                   ]:\n",
    "        CREDIT_CARD_BALANCE_AGGREGATION_RECIPIES.append((select, agg))\n",
    "CREDIT_CARD_BALANCE_AGGREGATION_RECIPIES = [(['SK_ID_CURR'], CREDIT_CARD_BALANCE_AGGREGATION_RECIPIES)]"
   ]
  },
  {
   "cell_type": "code",
   "execution_count": 13,
   "metadata": {
    "ExecuteTime": {
     "end_time": "2018-07-27T04:49:37.785894Z",
     "start_time": "2018-07-27T04:48:54.293830Z"
    }
   },
   "outputs": [
    {
     "data": {
      "application/vnd.jupyter.widget-view+json": {
       "model_id": "d25076414f504f599546f04bfc55ed6b",
       "version_major": 2,
       "version_minor": 0
      },
      "text/plain": [
       "HBox(children=(IntProgress(value=0, max=1), HTML(value='')))"
      ]
     },
     "metadata": {},
     "output_type": "display_data"
    },
    {
     "data": {
      "application/vnd.jupyter.widget-view+json": {
       "model_id": "448a4a331ea44953a313425398421602",
       "version_major": 2,
       "version_minor": 0
      },
      "text/plain": [
       "HBox(children=(IntProgress(value=0, max=70), HTML(value='')))"
      ]
     },
     "metadata": {},
     "output_type": "display_data"
    },
    {
     "name": "stdout",
     "output_type": "stream",
     "text": [
      "\n"
     ]
    }
   ],
   "source": [
    "groupby_aggregate_names = []\n",
    "for groupby_cols, specs in tqdm(CREDIT_CARD_BALANCE_AGGREGATION_RECIPIES):\n",
    "    group_object = credit_card.groupby(groupby_cols)\n",
    "    for select, agg in tqdm(specs):\n",
    "        groupby_aggregate_name = '{}_{}_{}'.format('_'.join(groupby_cols), agg, select)\n",
    "        application = application.merge(group_object[select]\n",
    "                              .agg(agg)\n",
    "                              .reset_index()\n",
    "                              .rename(index=str,\n",
    "                                      columns={select: groupby_aggregate_name})\n",
    "                              [groupby_cols + [groupby_aggregate_name]],\n",
    "                              on=groupby_cols,\n",
    "                              how='left')\n",
    "        groupby_aggregate_names.append(groupby_aggregate_name)"
   ]
  },
  {
   "cell_type": "code",
   "execution_count": 14,
   "metadata": {
    "ExecuteTime": {
     "end_time": "2018-07-27T04:49:39.294252Z",
     "start_time": "2018-07-27T04:49:37.788369Z"
    }
   },
   "outputs": [
    {
     "name": "stdout",
     "output_type": "stream",
     "text": [
      "count    405.000000\n",
      "mean       0.346126\n",
      "std        0.298695\n",
      "min        0.000000\n",
      "25%        0.000052\n",
      "50%        0.313455\n",
      "75%        0.679680\n",
      "max        0.829271\n",
      "dtype: float64\n"
     ]
    }
   ],
   "source": [
    "p = scan_nan_portion(application)\n",
    "print(p.describe())"
   ]
  },
  {
   "cell_type": "markdown",
   "metadata": {},
   "source": [
    "# Saving"
   ]
  },
  {
   "cell_type": "code",
   "execution_count": 15,
   "metadata": {
    "ExecuteTime": {
     "end_time": "2018-07-27T04:49:39.306334Z",
     "start_time": "2018-07-27T04:49:39.299464Z"
    }
   },
   "outputs": [
    {
     "data": {
      "text/plain": [
       "(307511, 405)"
      ]
     },
     "execution_count": 15,
     "metadata": {},
     "output_type": "execute_result"
    }
   ],
   "source": [
    "application.shape"
   ]
  },
  {
   "cell_type": "code",
   "execution_count": 16,
   "metadata": {
    "ExecuteTime": {
     "end_time": "2018-07-27T04:49:41.277235Z",
     "start_time": "2018-07-27T04:49:39.311398Z"
    }
   },
   "outputs": [],
   "source": [
    "pickle.dump(application,open(ENV.application_train_reproduce.value,'wb'))"
   ]
  },
  {
   "cell_type": "code",
   "execution_count": null,
   "metadata": {},
   "outputs": [],
   "source": []
  }
 ],
 "metadata": {
  "kernelspec": {
   "display_name": "Python 3",
   "language": "python",
   "name": "python3"
  },
  "language_info": {
   "codemirror_mode": {
    "name": "ipython",
    "version": 3
   },
   "file_extension": ".py",
   "mimetype": "text/x-python",
   "name": "python",
   "nbconvert_exporter": "python",
   "pygments_lexer": "ipython3",
   "version": "3.6.5"
  },
  "varInspector": {
   "cols": {
    "lenName": 16,
    "lenType": 16,
    "lenVar": 40
   },
   "kernels_config": {
    "python": {
     "delete_cmd_postfix": "",
     "delete_cmd_prefix": "del ",
     "library": "var_list.py",
     "varRefreshCmd": "print(var_dic_list())"
    },
    "r": {
     "delete_cmd_postfix": ") ",
     "delete_cmd_prefix": "rm(",
     "library": "var_list.r",
     "varRefreshCmd": "cat(var_dic_list()) "
    }
   },
   "types_to_exclude": [
    "module",
    "function",
    "builtin_function_or_method",
    "instance",
    "_Feature"
   ],
   "window_display": false
  }
 },
 "nbformat": 4,
 "nbformat_minor": 2
}
