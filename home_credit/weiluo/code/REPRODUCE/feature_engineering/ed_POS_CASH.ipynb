{
 "cells": [
  {
   "cell_type": "code",
   "execution_count": 1,
   "metadata": {
    "ExecuteTime": {
     "end_time": "2018-08-10T22:09:41.615473Z",
     "start_time": "2018-08-10T22:09:41.107931Z"
    }
   },
   "outputs": [],
   "source": [
    "import os,sys\n",
    "import numpy as np\n",
    "import pandas as pd\n",
    "from tqdm import tqdm_notebook as tqdm\n",
    "from sklearn.externals import joblib\n",
    "import matplotlib.pyplot as plt\n",
    "import seaborn as sns\n",
    "sys.path.append('../../LIB/')\n",
    "from env import ENV\n",
    "from sklearn import preprocessing\n",
    "le = preprocessing.LabelEncoder()"
   ]
  },
  {
   "cell_type": "code",
   "execution_count": 2,
   "metadata": {
    "ExecuteTime": {
     "end_time": "2018-08-10T22:09:46.262081Z",
     "start_time": "2018-08-10T22:09:41.617065Z"
    }
   },
   "outputs": [],
   "source": [
    "X = pd.read_csv(ENV.POS_CASH_balance_ori.value)"
   ]
  },
  {
   "cell_type": "code",
   "execution_count": 3,
   "metadata": {
    "ExecuteTime": {
     "end_time": "2018-08-10T22:09:46.267604Z",
     "start_time": "2018-08-10T22:09:46.263783Z"
    }
   },
   "outputs": [],
   "source": [
    "class ordinal_encoder:\n",
    "    def __init__(self,fillna='NAN_FILL'):\n",
    "        self.fillna = fillna\n",
    "    \n",
    "    def fit(self,sr,NA_VALUE=None,realNA2Nega1=True):\n",
    "        \"\"\"\n",
    "        spycify the value which has already been encoded. make it to -1 after encoding\n",
    "        \"\"\"\n",
    "        self.NA_VALUE=NA_VALUE\n",
    "        order = sr.fillna(self.fillna).value_counts()\n",
    "        if self.NA_VALUE is not None:\n",
    "            order[NA_VALUE] = 9999999\n",
    "\n",
    "        if realNA2Nega1:\n",
    "            order[self.fillna] = 99999999\n",
    "        order = order.sort_values(ascending=True)\n",
    "\n",
    "\n",
    "        self.mapping = pd.Series(index=order.index.values, data=list(range(1,len(order)+1)))\n",
    "        if self.NA_VALUE is not None:\n",
    "            self.mapping[NA_VALUE] = -1\n",
    "\n",
    "        if realNA2Nega1:\n",
    "            self.mapping[self.fillna] = -1\n",
    "    \n",
    "    def transform(self,sr):\n",
    "        return sr.fillna(self.fillna).map(self.mapping)\n",
    "        "
   ]
  },
  {
   "cell_type": "code",
   "execution_count": 4,
   "metadata": {
    "ExecuteTime": {
     "end_time": "2018-08-10T22:09:46.275676Z",
     "start_time": "2018-08-10T22:09:46.269092Z"
    }
   },
   "outputs": [],
   "source": [
    "def calculate_na(ser):\n",
    "    return np.sum(ser.isnull())\n",
    "\n",
    "def view_hist(ser):\n",
    "    plt.hist(ser, range=(min(ser.values), max(ser.values)))\n",
    "    \n",
    "def scan_nan_portion(df):\n",
    "    portions = []\n",
    "    columns = []\n",
    "    for col in df.columns:\n",
    "        columns.append(col)\n",
    "        portions.append(np.sum(df[col].isnull())/len(df))\n",
    "    return pd.Series(data=portions, index=columns)\n"
   ]
  },
  {
   "cell_type": "code",
   "execution_count": 5,
   "metadata": {
    "ExecuteTime": {
     "end_time": "2018-08-10T22:09:47.124281Z",
     "start_time": "2018-08-10T22:09:46.276957Z"
    }
   },
   "outputs": [
    {
     "name": "stdout",
     "output_type": "stream",
     "text": [
      "count    8.000000\n",
      "mean     0.000652\n",
      "std      0.001207\n",
      "min      0.000000\n",
      "25%      0.000000\n",
      "50%      0.000000\n",
      "75%      0.000652\n",
      "max      0.002608\n",
      "dtype: float64\n"
     ]
    }
   ],
   "source": [
    "p = scan_nan_portion(X)\n",
    "p = p.sort_values()\n",
    "print(p.describe())\n",
    "oe = ordinal_encoder()"
   ]
  },
  {
   "cell_type": "markdown",
   "metadata": {},
   "source": [
    "# Data Clean"
   ]
  },
  {
   "cell_type": "markdown",
   "metadata": {},
   "source": [
    "## 0 - 20"
   ]
  },
  {
   "cell_type": "code",
   "execution_count": 6,
   "metadata": {
    "ExecuteTime": {
     "end_time": "2018-08-10T22:09:52.948368Z",
     "start_time": "2018-08-10T22:09:47.125807Z"
    }
   },
   "outputs": [
    {
     "name": "stdout",
     "output_type": "stream",
     "text": [
      "count    1.000136e+07\n",
      "mean     1.903217e+06\n",
      "std      5.358465e+05\n",
      "min      1.000001e+06\n",
      "25%      1.434405e+06\n",
      "50%      1.896565e+06\n",
      "75%      2.368963e+06\n",
      "max      2.843499e+06\n",
      "Name: SK_ID_PREV, dtype: float64\n",
      "----\n",
      "int64\n",
      "value counts: 936325\n",
      "NA percentage: 0.0\n",
      "========= End ==================\n",
      "count    1.000136e+07\n",
      "mean     2.784039e+05\n",
      "std      1.027637e+05\n",
      "min      1.000010e+05\n",
      "25%      1.895500e+05\n",
      "50%      2.786540e+05\n",
      "75%      3.674290e+05\n",
      "max      4.562550e+05\n",
      "Name: SK_ID_CURR, dtype: float64\n",
      "----\n",
      "int64\n",
      "value counts: 337252\n",
      "NA percentage: 0.0\n",
      "========= End ==================\n",
      "count    1.000136e+07\n",
      "mean    -3.501259e+01\n",
      "std      2.606657e+01\n",
      "min     -9.600000e+01\n",
      "25%     -5.400000e+01\n",
      "50%     -2.800000e+01\n",
      "75%     -1.300000e+01\n",
      "max     -1.000000e+00\n",
      "Name: MONTHS_BALANCE, dtype: float64\n",
      "----\n",
      "int64\n",
      "value counts: 96\n",
      "NA percentage: 0.0\n",
      "========= End ==================\n",
      "count     10001358\n",
      "unique           9\n",
      "top         Active\n",
      "freq       9151119\n",
      "Name: NAME_CONTRACT_STATUS, dtype: object\n",
      "----\n",
      "object\n",
      "NAME_CONTRACT_STATUS converted to int failed!!!!!!!!!!!!!!!!!!!!!!!!!!!!!!\n",
      "value counts: 9\n",
      "NA percentage: 0.0\n",
      "========= End ==================\n",
      "count    1.000136e+07\n",
      "mean     1.160693e+01\n",
      "std      1.327140e+02\n",
      "min      0.000000e+00\n",
      "25%      0.000000e+00\n",
      "50%      0.000000e+00\n",
      "75%      0.000000e+00\n",
      "max      4.231000e+03\n",
      "Name: SK_DPD, dtype: float64\n",
      "----\n",
      "int64\n",
      "value counts: 3400\n",
      "NA percentage: 0.0\n",
      "========= End ==================\n",
      "count    1.000136e+07\n",
      "mean     6.544684e-01\n",
      "std      3.276249e+01\n",
      "min      0.000000e+00\n",
      "25%      0.000000e+00\n",
      "50%      0.000000e+00\n",
      "75%      0.000000e+00\n",
      "max      3.595000e+03\n",
      "Name: SK_DPD_DEF, dtype: float64\n",
      "----\n",
      "int64\n",
      "value counts: 2307\n",
      "NA percentage: 0.0\n",
      "========= End ==================\n",
      "count    9.975287e+06\n",
      "mean     1.708965e+01\n",
      "std      1.199506e+01\n",
      "min      1.000000e+00\n",
      "25%      1.000000e+01\n",
      "50%      1.200000e+01\n",
      "75%      2.400000e+01\n",
      "max      9.200000e+01\n",
      "Name: CNT_INSTALMENT, dtype: float64\n",
      "----\n",
      "float64\n",
      "value counts: 73\n",
      "NA percentage: 0.0026067460038926714\n",
      "========= End ==================\n",
      "count    9.975271e+06\n",
      "mean     1.048384e+01\n",
      "std      1.110906e+01\n",
      "min      0.000000e+00\n",
      "25%      3.000000e+00\n",
      "50%      7.000000e+00\n",
      "75%      1.400000e+01\n",
      "max      8.500000e+01\n",
      "Name: CNT_INSTALMENT_FUTURE, dtype: float64\n",
      "----\n",
      "float64\n",
      "value counts: 79\n",
      "NA percentage: 0.002608345786642174\n",
      "========= End ==================\n",
      "['NAME_CONTRACT_STATUS']\n"
     ]
    }
   ],
   "source": [
    "category_20 = []\n",
    "failed = []\n",
    "for each in p.iloc[:].index.values:\n",
    "    \n",
    "    print(X[each].describe())\n",
    "    print('----')\n",
    "    print(X[each].dtypes)\n",
    "    num_values = len(X[each].value_counts())\n",
    "    if num_values < 10:\n",
    "        category_20.append(each)\n",
    "        try:\n",
    "            X[each] = X[each].astype('int')\n",
    "        except ValueError:\n",
    "            print('{} converted to int failed!!!!!!!!!!!!!!!!!!!!!!!!!!!!!!'.format(each))\n",
    "            failed.append(each)\n",
    "    print('value counts: {}'.format(num_values))\n",
    "    print('NA percentage: {}'.format(p[each]))\n",
    "    print('========= End ==================')\n",
    "print(failed)\n",
    "# category_20.remove()"
   ]
  },
  {
   "cell_type": "code",
   "execution_count": 7,
   "metadata": {
    "ExecuteTime": {
     "end_time": "2018-08-10T22:09:53.699139Z",
     "start_time": "2018-08-10T22:09:52.952778Z"
    }
   },
   "outputs": [
    {
     "data": {
      "text/plain": [
       "Active                   9151119\n",
       "Completed                 744883\n",
       "Signed                     87260\n",
       "Demand                      7065\n",
       "Returned to the store       5461\n",
       "Approved                    4917\n",
       "Amortized debt               636\n",
       "Canceled                      15\n",
       "XNA                            2\n",
       "Name: NAME_CONTRACT_STATUS, dtype: int64"
      ]
     },
     "execution_count": 7,
     "metadata": {},
     "output_type": "execute_result"
    }
   ],
   "source": [
    "col = 'NAME_CONTRACT_STATUS'\n",
    "X[col].value_counts()"
   ]
  },
  {
   "cell_type": "markdown",
   "metadata": {},
   "source": [
    "### Ordinal Encoding"
   ]
  },
  {
   "cell_type": "code",
   "execution_count": 8,
   "metadata": {
    "ExecuteTime": {
     "end_time": "2018-08-10T22:09:56.096049Z",
     "start_time": "2018-08-10T22:09:53.700761Z"
    }
   },
   "outputs": [],
   "source": [
    "col = 'NAME_CONTRACT_STATUS'\n",
    "\n",
    "oe.fit(X[col],NA_VALUE='XNA')\n",
    "X[col] = oe.transform(X[col])\n",
    "category_20.append(col)\n",
    "###############################################\n",
    "\n"
   ]
  },
  {
   "cell_type": "markdown",
   "metadata": {},
   "source": [
    "### FillNa"
   ]
  },
  {
   "cell_type": "code",
   "execution_count": 9,
   "metadata": {
    "ExecuteTime": {
     "end_time": "2018-08-10T22:09:56.195501Z",
     "start_time": "2018-08-10T22:09:56.101379Z"
    }
   },
   "outputs": [],
   "source": [
    "###############################################\n",
    "\n",
    "col = 'CNT_INSTALMENT'\n",
    "X[col] = X[col].fillna(int(X[col].mean()))\n",
    "\n",
    "###############################################\n",
    "\n",
    "col = 'CNT_INSTALMENT_FUTURE'\n",
    "X[col] = X[col].fillna(int(X[col].mean()))\n",
    "\n"
   ]
  },
  {
   "cell_type": "markdown",
   "metadata": {},
   "source": [
    "# Saving"
   ]
  },
  {
   "cell_type": "code",
   "execution_count": 10,
   "metadata": {
    "ExecuteTime": {
     "end_time": "2018-08-10T22:09:57.080631Z",
     "start_time": "2018-08-10T22:09:56.200588Z"
    }
   },
   "outputs": [],
   "source": [
    "X.to_pickle(ENV.POS_CASH_balance_clean.value)"
   ]
  },
  {
   "cell_type": "code",
   "execution_count": 11,
   "metadata": {
    "ExecuteTime": {
     "end_time": "2018-08-10T22:09:58.086716Z",
     "start_time": "2018-08-10T22:09:57.082246Z"
    }
   },
   "outputs": [
    {
     "data": {
      "text/plain": [
       "SK_ID_PREV               0\n",
       "SK_ID_CURR               0\n",
       "MONTHS_BALANCE           0\n",
       "CNT_INSTALMENT           0\n",
       "CNT_INSTALMENT_FUTURE    0\n",
       "NAME_CONTRACT_STATUS     0\n",
       "SK_DPD                   0\n",
       "SK_DPD_DEF               0\n",
       "dtype: int64"
      ]
     },
     "execution_count": 11,
     "metadata": {},
     "output_type": "execute_result"
    }
   ],
   "source": [
    "np.sum(X.isnull())"
   ]
  },
  {
   "cell_type": "code",
   "execution_count": 13,
   "metadata": {
    "ExecuteTime": {
     "end_time": "2018-08-10T22:10:13.038173Z",
     "start_time": "2018-08-10T22:10:13.033419Z"
    }
   },
   "outputs": [
    {
     "data": {
      "text/plain": [
       "['NAME_CONTRACT_STATUS']"
      ]
     },
     "execution_count": 13,
     "metadata": {},
     "output_type": "execute_result"
    }
   ],
   "source": [
    "categori_col = list(set(category_20))\n",
    "categori_col"
   ]
  },
  {
   "cell_type": "code",
   "execution_count": 14,
   "metadata": {
    "ExecuteTime": {
     "end_time": "2018-08-10T22:10:28.261172Z",
     "start_time": "2018-08-10T22:10:28.255500Z"
    }
   },
   "outputs": [],
   "source": [
    "import pickle\n",
    "categori_col_exist = pickle.load(open(ENV.clean_categorical_col.value,'rb'))\n",
    "categori_col = list(set(categori_col + categori_col_exist))\n",
    "pickle.dump(categori_col,open(ENV.clean_categorical_col.value,'wb'))"
   ]
  },
  {
   "cell_type": "code",
   "execution_count": null,
   "metadata": {},
   "outputs": [],
   "source": []
  }
 ],
 "metadata": {
  "kernelspec": {
   "display_name": "Python 3",
   "language": "python",
   "name": "python3"
  },
  "language_info": {
   "codemirror_mode": {
    "name": "ipython",
    "version": 3
   },
   "file_extension": ".py",
   "mimetype": "text/x-python",
   "name": "python",
   "nbconvert_exporter": "python",
   "pygments_lexer": "ipython3",
   "version": "3.6.5"
  },
  "varInspector": {
   "cols": {
    "lenName": 16,
    "lenType": 16,
    "lenVar": 40
   },
   "kernels_config": {
    "python": {
     "delete_cmd_postfix": "",
     "delete_cmd_prefix": "del ",
     "library": "var_list.py",
     "varRefreshCmd": "print(var_dic_list())"
    },
    "r": {
     "delete_cmd_postfix": ") ",
     "delete_cmd_prefix": "rm(",
     "library": "var_list.r",
     "varRefreshCmd": "cat(var_dic_list()) "
    }
   },
   "types_to_exclude": [
    "module",
    "function",
    "builtin_function_or_method",
    "instance",
    "_Feature"
   ],
   "window_display": false
  }
 },
 "nbformat": 4,
 "nbformat_minor": 2
}
