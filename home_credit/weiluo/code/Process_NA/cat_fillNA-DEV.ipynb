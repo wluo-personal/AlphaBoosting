{
 "cells": [
  {
   "cell_type": "code",
   "execution_count": 1,
   "metadata": {
    "ExecuteTime": {
     "end_time": "2018-08-28T19:16:42.039074Z",
     "start_time": "2018-08-28T19:16:37.571091Z"
    }
   },
   "outputs": [
    {
     "name": "stdout",
     "output_type": "stream",
     "text": [
      "train shape is: (307511, 409)\n",
      "test shape is: (48744, 408)\n"
     ]
    }
   ],
   "source": [
    "import os,sys\n",
    "import numpy as np\n",
    "import pandas as pd\n",
    "# from tqdm import tqdm_notebook as tqdm\n",
    "from sklearn.externals import joblib\n",
    "import matplotlib.pyplot as plt\n",
    "sys.path.append('../LIB/')\n",
    "from env import ENV\n",
    "from sklearn.preprocessing import normalize\n",
    "# from tqdm import tqdm\n",
    "import pickle\n",
    "from sklearn.preprocessing.data import QuantileTransformer\n",
    "from sklearn.preprocessing import LabelEncoder\n",
    "from sklearn.model_selection import train_test_split\n",
    "\n",
    "from catboost import Pool, CatBoostRegressor\n",
    "import gc\n",
    "from  numba import cuda\n",
    "\n",
    "\n",
    "print_to_file = False \n",
    "test_run = False \n",
    "\n",
    "# train = pd.read_pickle(ENV.lightgbm_train_764.value)\n",
    "train = pd.read_pickle(ENV.lgb_train_0827_na_extrem.value)\n",
    "print('train shape is: {}'.format(train.shape))\n",
    "# test = pd.read_pickle(ENV.lightgbm_test_764.value)\n",
    "test = pd.read_pickle(ENV.lgb_test_0827_na_extrem.value)\n",
    "print('test shape is: {}'.format(test.shape))\n",
    "fe_id = 'comb_764'"
   ]
  },
  {
   "cell_type": "code",
   "execution_count": 2,
   "metadata": {
    "ExecuteTime": {
     "end_time": "2018-08-28T19:16:46.261097Z",
     "start_time": "2018-08-28T19:16:42.898318Z"
    }
   },
   "outputs": [],
   "source": [
    "train['SK_ID_CURR'] = train['SK_ID_CURR'].astype(int)\n",
    "test['SK_ID_CURR'] = test['SK_ID_CURR'].astype(int)\n",
    "targets = train.TARGET.values\n",
    "\n",
    "train_id = train['SK_ID_CURR']\n",
    "test_id = test['SK_ID_CURR']\n",
    "\n",
    "X = pd.concat([train.drop('TARGET',axis=1),test])"
   ]
  },
  {
   "cell_type": "code",
   "execution_count": 3,
   "metadata": {
    "ExecuteTime": {
     "end_time": "2018-08-28T19:16:46.826267Z",
     "start_time": "2018-08-28T19:16:46.812994Z"
    }
   },
   "outputs": [],
   "source": [
    "def scan_nan_portion(df):\n",
    "    portions = []\n",
    "    columns = []\n",
    "    for col in df.columns:\n",
    "        columns.append(col)\n",
    "        portions.append(np.sum(df[col].isnull())/len(df))\n",
    "    return pd.Series(data=portions, index=columns)\n"
   ]
  },
  {
   "cell_type": "code",
   "execution_count": 4,
   "metadata": {
    "ExecuteTime": {
     "end_time": "2018-08-28T19:17:15.455515Z",
     "start_time": "2018-08-28T19:17:15.448468Z"
    }
   },
   "outputs": [],
   "source": [
    "def fill_na_list(X,th=200):\n",
    "    re = scan_nan_portion(X)\n",
    "#     re = re[re<0.15]\n",
    "    re = re.sort_values()\n",
    "    col_list = []\n",
    "    na_list = []\n",
    "    for col in re.index:\n",
    "        if re[col] > 0 and X[col].nunique() >= th and str(X[col].dtypes)!= 'category' and str(X[col].dtypes)!= 'object':\n",
    "            col_list.append(col)\n",
    "            na_list.append(re[col])\n",
    "    return col_list,na_list\n",
    "            \n",
    "def check_category_col(X,th=200):\n",
    "    cate = []\n",
    "    cols = list(X.columns)\n",
    "    for col in cols:\n",
    "        if X[col].nunique() < th or str(X[col].dtypes)== 'category' or str(X[col].dtypes)== 'object':\n",
    "            cate.append(cols)\n",
    "    return cate\n",
    "\n",
    "\n",
    "def cate_index(df,category):\n",
    "    index_list = []\n",
    "    for col in df.columns:\n",
    "        if col in category:\n",
    "            index_list.append(category.index(col))\n",
    "    return index_list\n",
    "    \n",
    "def trainCAT(na_train_x,na_val_x,na_train_y,na_val_y):\n",
    "    cat_col = cate_index(na_train_x,categorys)\n",
    "    model = CatBoostRegressor(iterations=4500, \n",
    "                              depth=None, \n",
    "                              thread_count=10,\n",
    "                              learning_rate=0.01, \n",
    "                              loss_function='RMSE',\n",
    "                              verbose=500,\n",
    "                              task_type='GPU')\n",
    "    model.fit(na_train_x,na_train_y,\n",
    "              cat_features=cat_col,\n",
    "              eval_set=[(na_val_x, na_val_y)],\n",
    "              early_stopping_rounds=3,\n",
    "              verbose_eval=500,\n",
    "              metric_period=500)\n",
    "\n",
    "#     reg.fit(na_train_x, na_train_y, eval_set=[(na_train_x,na_train_y),(na_val_x, na_val_y)],  verbose=200,early_stopping_rounds=100,eval_metric='l1' )\n",
    "    return model\n",
    "\n",
    "def saving(X):\n",
    "    print('saving...')\n",
    "    train_save = X.iloc[:307511].copy()\n",
    "    train_save['TARGET'] = targets\n",
    "    print(train_save.shape)\n",
    "\n",
    "    test_save = X.iloc[307511:].copy()\n",
    "    train_save.to_pickle(ENV.lgb_train_0827_na_extrem.value)\n",
    "    test_save.to_pickle(ENV.lgb_test_0827_na_extrem.value)\n",
    "    \n",
    "    \n",
    "\n",
    "\n",
    "def rmse(predictions, targets):\n",
    "    return np.sqrt(np.mean((predictions-targets)**2))"
   ]
  },
  {
   "cell_type": "code",
   "execution_count": 5,
   "metadata": {
    "ExecuteTime": {
     "end_time": "2018-08-28T19:17:11.887305Z",
     "start_time": "2018-08-28T19:17:03.452325Z"
    }
   },
   "outputs": [],
   "source": [
    "col_list,na_list = fill_na_list(X)\n",
    "categorys = check_category_col(X)"
   ]
  },
  {
   "cell_type": "code",
   "execution_count": 6,
   "metadata": {
    "ExecuteTime": {
     "end_time": "2018-08-28T19:17:21.638790Z",
     "start_time": "2018-08-28T19:17:18.401242Z"
    }
   },
   "outputs": [
    {
     "name": "stdout",
     "output_type": "stream",
     "text": [
      "start processing bureau_AMT_CREDIT_SUM_DEBT_divide_AMT_CREDIT_SUM_LIMIT_max \n",
      "the na is:0.21264543655527643\n"
     ]
    }
   ],
   "source": [
    "Processed_list = []\n",
    "ignore_col = ['SK_ID_CURR']\n",
    "feature_col_base = list(set(X.columns) - set(ignore_col))\n",
    "val = 0.1\n",
    "save_count = 1\n",
    "count = 0\n",
    "\n",
    "\n",
    "\n",
    "for col,nav in zip(col_list,na_list):\n",
    "    try:\n",
    "        saved_df = pd.read_csv('ratio.csv')\n",
    "    except:\n",
    "        saved_df = pd.DataFrame()\n",
    "    print('start processing {} \\nthe na is:{}'.format(col,nav))\n",
    "    X[col] = X[col].replace(365243.0,0)\n",
    "    X[col] = X[col].replace(np.NINF,np.NAN)\n",
    "    X[col] = X[col].replace(np.PINF,np.NAN)\n",
    "    X[col] = X[col].replace(np.Inf,np.NAN)\n",
    "#     feature_col = list(set(feature_col_base + Processed_list))\n",
    "    feature_col = list(set(feature_col_base) - set([col]))\n",
    "    \n",
    "    na_train = X[X[col].notnull()][feature_col].copy()\n",
    "    na_target = X[X[col].notnull()][col].copy()\n",
    "    seed = np.random.randint(200) + 1\n",
    "    na_train_x,na_val_x,na_train_y,na_val_y = train_test_split(na_train,na_target, test_size=val,random_state=seed)\n",
    "    break\n",
    "    print(na_train.shape)\n",
    "    na_test = X[X[col].isnull()][feature_col].copy()\n",
    "    print(na_test.shape)\n",
    "    reg = trainCAT(na_train_x,na_val_x,na_train_y,na_val_y)\n",
    "    X.loc[X[col].isnull(),col] = reg.predict(na_test)\n",
    "    Processed_list.append(col)\n",
    "    print('processed: {}/{}'.format(len(Processed_list),len(col_list)))\n",
    "    count +=1\n",
    "    if count % save_count == 0:\n",
    "        saving(X)\n",
    "    print('####################')\n",
    "    meanNA = np.mean(na_train_y) * np.ones(len(na_val_y))\n",
    "    preds = reg.predict(na_val_x)\n",
    "    me_rmse = rmse(meanNA,na_val_y)\n",
    "    es_rmse = rmse(preds,na_val_y)\n",
    "    corr = np.corrcoef(preds,na_val_y).flatten()[1]\n",
    "    print('mean encoding: {}'.format(me_rmse))\n",
    "    print('estimate encoding: {}'.format(es_rmse))\n",
    "    print('me/estimate ratio is : {}'.format(me_rmse/es_rmse))\n",
    "    print('correlation in val: {}'.format(corr))\n",
    "    new_df = pd.DataFrame({'meanEncoRMSE':[me_rmse],\n",
    "                           'catBoostEncoRMSE':[es_rmse],\n",
    "                           'meByCatRatio':[me_rmse/es_rmse],\n",
    "                           'colName':[col],\n",
    "                           'corr':[corr],\n",
    "                           'preds_mean':[np.mean(preds)],\n",
    "                           'preds_std':[np.std(preds)],\n",
    "                           'val_mean':[np.mean(na_val_y)],\n",
    "                           'val_std':[np.std(na_val_y)],\n",
    "                           'naRatio':[nav]})\n",
    "    conc = pd.concat([saved_df,new_df])\n",
    "    conc.to_csv('ratio.csv',index=False)\n",
    "    print('####################')\n",
    "    del reg\n",
    "    gc.collect()\n",
    "    "
   ]
  },
  {
   "cell_type": "code",
   "execution_count": null,
   "metadata": {},
   "outputs": [],
   "source": [
    "#1. all null\n",
    "#2. train null, test no null"
   ]
  },
  {
   "cell_type": "code",
   "execution_count": 9,
   "metadata": {},
   "outputs": [
    {
     "data": {
      "text/plain": [
       "prev_AMT_APPLICATION_divide_DAYS_FIRST_DRAWING_minus_DAYS_LAST_DUE_max                   0\n",
       "last_10by100_fraction_installment_paid_late_in_days_sum                                  0\n",
       "CLOSED_DAYS_CREDIT_UPDATE_MEAN                                                       28485\n",
       "NAME_EDUCATION_TYPE_CODE_GENDER_CNT_CHILDREN_max_diff                                    4\n",
       "REGION_POPULATION_RELATIVE_x                                                             0\n",
       "bureau_AMT_CREDIT_SUM_DEBT_divide_DAYS_CREDIT_ENDDATE_mean                               0\n",
       "bureau_AMT_CREDIT_MAX_OVERDUE_divide_DAYS_CREDIT_UPDATE_mean                         65698\n",
       "PREV_CHANNEL_TYPE_Channel of corporate sales_MEAN                                    11759\n",
       "inst_RATE_AMT_CUM_PAYMENT_min                                                            0\n",
       "prev_AMT_APPLICATION_divide_DAYS_LAST_DUE_1ST_VERSION_minus_DAYS_TERMINATION_max         0\n",
       "bureau_AMT_CREDIT_SUM_divide_DAYS_CREDIT_min                                             0\n",
       "PREV_NAME_TYPE_SUITE_Unaccompanied_MEAN                                                  0\n",
       "last_5_installment_paid_late_in_days_kurt                                                0\n",
       "bureau_agg__AMT_CREDIT_SUM_DEBT_divide_DAYS_CREDIT_max_minus_min                         0\n",
       "creditcard_CNT_DRAWINGS_CURRENT_sum                                                 178490\n",
       "inst_DAYS_INSTALMENT_min                                                                 0\n",
       "prev_AMT_ANNUITY_divide_DAYS_FIRST_DRAWING_minus_DAYS_LAST_DUE_mean                      0\n",
       "creditcard_AMT_BALANCE_divide_AMT_PAYMENT_CURRENT_median                            200704\n",
       "APPROVED_AMT_APPLICATION_MAX                                                             0\n",
       "prev_DAYS_FIRST_DUE_max                                                                  0\n",
       "bureau_AMT_CREDIT_MAX_OVERDUE_divide_DAYS_CREDIT_ENDDATE_mean                        74345\n",
       "NAME_EDUCATION_TYPE_CODE_GENDER_EXT_SOURCE_3_mean_abs_diff                               0\n",
       "prev_AMT_APPLICATION_divide_AMT_CREDIT_median                                            0\n",
       "bureau_DAYS_CREDIT_mean                                                                  0\n",
       "bureau_AMT_CREDIT_SUM_DEBT_divide_DAYS_CREDIT_min                                        0\n",
       "REGION_RATING_CLIENT_x                                                                   0\n",
       "AMT_REQ_CREDIT_BUREAU_YEAR_divide_DAYS_EMPLOYED                                          0\n",
       "prev_AMT_ANNUITY_divide_DAYS_FIRST_DUE_max                                               0\n",
       "bureau_agg__AMT_CREDIT_SUM_DEBT_divide_DAYS_CREDIT_normed_std                        34375\n",
       "prev_DAYS_FIRST_DRAWING_minus_DAYS_LAST_DUE_min                                          0\n",
       "                                                                                     ...  \n",
       "inst_agg__DAYS_ENTRY_PAYMENT_standard_error                                              0\n",
       "ACTIVE_AMT_CREDIT_MAX_OVERDUE_MEAN                                                  135032\n",
       "PREV_APP_CREDIT_PERC_MIN                                                                 0\n",
       "inst_AMT_ONTIME_PAYMENT_divide_AMT_INSTALMENT_mean                                       0\n",
       "prev_AMT_ANNUITY_divide_DAYS_FIRST_DUE_minus_DAYS_TERMINATION_min                        0\n",
       "CLOSED_DAYS_CREDIT_ENDDATE_MAX                                                       29573\n",
       "prev_AMT_ANNUITY_divide_DAYS_LAST_DUE_1ST_VERSION_min                                    0\n",
       "last_10by100_fraction_installment_paid_late_in_days_mean                                 0\n",
       "prev_AMT_APPLICATION_divide_DAYS_DECISION_median                                         0\n",
       "bureau_AMT_CREDIT_SUM_OVERDUE_divide_DAYS_CREDIT_min                                     0\n",
       "prev_AMT_ANNUITY_divide_DAYS_LAST_DUE_min                                                0\n",
       "APPROVED_APP_CREDIT_PERC_VAR                                                         72311\n",
       "Wei_CNT_installment_per_version_STD                                                  74954\n",
       "prev_AMT_APPLICATION_divide_AMT_DOWN_PAYMENT_max                                         0\n",
       "inst_AMT_ONTIME_PAYMENT_divide_AMT_INSTALMENT_sum                                        0\n",
       "AMT_INCOME_TOTAL_divide_OBS_30_CNT_SOCIAL_CIRCLE                                    134339\n",
       "bureau_AMT_CREDIT_MAX_OVERDUE_divide_AMT_CREDIT_SUM_OVERDUE_max                      65674\n",
       "creditcard_AMT_BALANCE_divide_AMT_PAYMENT_CURRENT_mean                              200704\n",
       "last_50_installment_paid_late_in_days_sum                                                0\n",
       "external_sources_min                                                                     0\n",
       "AMT_ANNUITY_divide_DAYS_LAST_PHONE_CHANGE                                                0\n",
       "12_period_trend_CNT_INSTALMENT_FUTURE                                                    0\n",
       "prev_CNT_PAYMENT_sum                                                                     0\n",
       "bureau_AMT_CREDIT_SUM_divide_AMT_CREDIT_SUM_LIMIT_mean                                   0\n",
       "last_20_installment_paid_late_in_days_skew                                               0\n",
       "NAME_EDUCATION_TYPE_OCCUPATION_TYPE_EXT_SOURCE_1_mean_abs_diff                      164032\n",
       "last_20by100_fraction_installment_paid_late_in_days_iqr                                  0\n",
       "prev_AMT_ANNUITY_divide_AMT_DOWN_PAYMENT_max                                             0\n",
       "OBS_60_CNT_SOCIAL_CIRCLE_divide_DEF_30_CNT_SOCIAL_CIRCLE                            223453\n",
       "Wei_Remaing_Payment_Ratio_CURR                                                           0\n",
       "Length: 406, dtype: int64"
      ]
     },
     "execution_count": 9,
     "metadata": {},
     "output_type": "execute_result"
    }
   ],
   "source": [
    "na_train_x.isnull().sum()"
   ]
  },
  {
   "cell_type": "code",
   "execution_count": 16,
   "metadata": {},
   "outputs": [],
   "source": [
    "np.corrcoef(preds,na_val_y).flatten()"
   ]
  },
  {
   "cell_type": "code",
   "execution_count": 20,
   "metadata": {},
   "outputs": [
    {
     "data": {
      "text/plain": [
       "0.003132356121393304"
      ]
     },
     "execution_count": 20,
     "metadata": {},
     "output_type": "execute_result"
    }
   ],
   "source": [
    "s.flatten()[1]"
   ]
  },
  {
   "cell_type": "code",
   "execution_count": 7,
   "metadata": {},
   "outputs": [
    {
     "data": {
      "text/plain": [
       "7.332347094563894"
      ]
     },
     "execution_count": 7,
     "metadata": {},
     "output_type": "execute_result"
    }
   ],
   "source": [
    "np.mean(preds)"
   ]
  },
  {
   "cell_type": "code",
   "execution_count": null,
   "metadata": {},
   "outputs": [],
   "source": []
  }
 ],
 "metadata": {
  "kernelspec": {
   "display_name": "Python 3",
   "language": "python",
   "name": "python3"
  },
  "language_info": {
   "codemirror_mode": {
    "name": "ipython",
    "version": 3
   },
   "file_extension": ".py",
   "mimetype": "text/x-python",
   "name": "python",
   "nbconvert_exporter": "python",
   "pygments_lexer": "ipython3",
   "version": "3.6.5"
  },
  "varInspector": {
   "cols": {
    "lenName": 16,
    "lenType": 16,
    "lenVar": 40
   },
   "kernels_config": {
    "python": {
     "delete_cmd_postfix": "",
     "delete_cmd_prefix": "del ",
     "library": "var_list.py",
     "varRefreshCmd": "print(var_dic_list())"
    },
    "r": {
     "delete_cmd_postfix": ") ",
     "delete_cmd_prefix": "rm(",
     "library": "var_list.r",
     "varRefreshCmd": "cat(var_dic_list()) "
    }
   },
   "types_to_exclude": [
    "module",
    "function",
    "builtin_function_or_method",
    "instance",
    "_Feature"
   ],
   "window_display": false
  }
 },
 "nbformat": 4,
 "nbformat_minor": 2
}
