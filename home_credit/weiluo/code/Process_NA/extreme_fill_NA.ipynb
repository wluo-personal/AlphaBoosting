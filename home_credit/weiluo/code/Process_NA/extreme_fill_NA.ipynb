{
 "cells": [
  {
   "cell_type": "code",
   "execution_count": 1,
   "metadata": {
    "ExecuteTime": {
     "end_time": "2018-08-29T14:01:32.697011Z",
     "start_time": "2018-08-29T14:01:31.187817Z"
    }
   },
   "outputs": [
    {
     "name": "stdout",
     "output_type": "stream",
     "text": [
      "train shape is: (307511, 409)\n",
      "test shape is: (48744, 408)\n"
     ]
    }
   ],
   "source": [
    "import os,sys\n",
    "import numpy as np\n",
    "import pandas as pd\n",
    "from tqdm import tqdm_notebook as tqdm\n",
    "from sklearn.externals import joblib\n",
    "import matplotlib.pyplot as plt\n",
    "sys.path.append('../LIB/')\n",
    "from env import ENV\n",
    "from sklearn.preprocessing import normalize\n",
    "from tqdm import tqdm\n",
    "import pickle\n",
    "from sklearn.preprocessing.data import QuantileTransformer\n",
    "from sklearn.preprocessing import LabelEncoder\n",
    "from lightgbm import LGBMRegressor\n",
    "from sklearn.model_selection import train_test_split\n",
    "\n",
    "import lightgbm as lgb\n",
    "import gc\n",
    "\n",
    "print_to_file = False \n",
    "test_run = False \n",
    "\n",
    "\n",
    "\n",
    "# train = pd.read_pickle(ENV.lightgbm_train_764.value)\n",
    "train = pd.read_pickle(ENV.lgb_train_0827.value)\n",
    "print('train shape is: {}'.format(train.shape))\n",
    "# test = pd.read_pickle(ENV.lightgbm_test_764.value)\n",
    "test = pd.read_pickle(ENV.lgb_test_0827.value)\n",
    "print('test shape is: {}'.format(test.shape))\n",
    "fe_id = 'comb_764'"
   ]
  },
  {
   "cell_type": "code",
   "execution_count": 2,
   "metadata": {
    "ExecuteTime": {
     "end_time": "2018-08-29T14:01:34.332055Z",
     "start_time": "2018-08-29T14:01:33.228445Z"
    }
   },
   "outputs": [],
   "source": [
    "train['SK_ID_CURR'] = train['SK_ID_CURR'].astype(int)\n",
    "test['SK_ID_CURR'] = test['SK_ID_CURR'].astype(int)\n",
    "targets = train.TARGET.values\n",
    "\n",
    "train_id = train['SK_ID_CURR']\n",
    "test_id = test['SK_ID_CURR']\n",
    "\n",
    "X = pd.concat([train.drop('TARGET',axis=1),test])"
   ]
  },
  {
   "cell_type": "code",
   "execution_count": 3,
   "metadata": {
    "ExecuteTime": {
     "end_time": "2018-08-29T14:01:35.024315Z",
     "start_time": "2018-08-29T14:01:35.022010Z"
    }
   },
   "outputs": [],
   "source": [
    "def scan_nan_portion(df):\n",
    "    portions = []\n",
    "    columns = []\n",
    "    for col in df.columns:\n",
    "        columns.append(col)\n",
    "        portions.append(np.sum(df[col].isnull())/len(df))\n",
    "    return pd.Series(data=portions, index=columns)\n"
   ]
  },
  {
   "cell_type": "code",
   "execution_count": 4,
   "metadata": {
    "ExecuteTime": {
     "end_time": "2018-08-29T14:01:35.699619Z",
     "start_time": "2018-08-29T14:01:35.694108Z"
    }
   },
   "outputs": [],
   "source": [
    "def extreme_fill_na(X,th=30,bucket=63,convert_category=True):\n",
    "    for col in tqdm(X.columns):\n",
    "        X[col] = X[col].replace(np.NINF,np.NAN)\n",
    "        X[col] = X[col].replace(np.PINF,np.NAN)\n",
    "        X[col] = X[col].replace(np.Inf,np.NAN)\n",
    "        convertBack = False\n",
    "        \n",
    "        if X[col].nunique() < th and convert_category:\n",
    "            X[col] = X[col].astype('category')\n",
    "        \n",
    "        if X[col].isnull().sum() == 0:\n",
    "            continue\n",
    "        else:\n",
    "            if str(X[col].dtypes) == 'category':\n",
    "                convertBack = True\n",
    "                X[col] = X[col].astype('float')\n",
    "            fill_na =X[col].min() - (X[col].max() - X[col].min()) / bucket\n",
    "            X[col] = X[col].fillna(fill_na)\n",
    "            if convertBack:\n",
    "                X[col] = X[col].astype('category')\n",
    "    return X\n",
    "            \n",
    "        \n",
    "\n",
    "\n",
    "\n",
    "def convert_category(X,th=40):\n",
    "    for col in tqdm(X.columns):\n",
    "        if X[col].nunique()<th:\n",
    "            X[col] = X[col].astype('category')\n",
    "    return X\n",
    "            \n",
    "def saving(X):\n",
    "    print('saving...')\n",
    "    train_save = X.iloc[:307511].copy()\n",
    "    train_save['TARGET'] = targets\n",
    "    print(train_save.shape)\n",
    "\n",
    "    test_save = X.iloc[307511:].copy()\n",
    "    train_save.to_pickle(ENV.lgb_train_0827_na_extrem.value)\n",
    "    test_save.to_pickle(ENV.lgb_test_0827_na_extrem.value)"
   ]
  },
  {
   "cell_type": "code",
   "execution_count": 6,
   "metadata": {
    "ExecuteTime": {
     "end_time": "2018-08-29T14:01:53.743415Z",
     "start_time": "2018-08-29T14:01:46.038849Z"
    }
   },
   "outputs": [
    {
     "name": "stderr",
     "output_type": "stream",
     "text": [
      "100%|██████████| 408/408 [00:07<00:00, 53.00it/s]\n"
     ]
    }
   ],
   "source": [
    "X = extreme_fill_na(X)"
   ]
  },
  {
   "cell_type": "code",
   "execution_count": 8,
   "metadata": {
    "ExecuteTime": {
     "end_time": "2018-08-29T14:03:49.398186Z",
     "start_time": "2018-08-29T14:03:47.251938Z"
    }
   },
   "outputs": [
    {
     "name": "stdout",
     "output_type": "stream",
     "text": [
      "saving...\n",
      "(307511, 409)\n"
     ]
    }
   ],
   "source": [
    "saving(X)"
   ]
  },
  {
   "cell_type": "code",
   "execution_count": null,
   "metadata": {},
   "outputs": [],
   "source": []
  }
 ],
 "metadata": {
  "kernelspec": {
   "display_name": "Python 3",
   "language": "python",
   "name": "python3"
  },
  "language_info": {
   "codemirror_mode": {
    "name": "ipython",
    "version": 3
   },
   "file_extension": ".py",
   "mimetype": "text/x-python",
   "name": "python",
   "nbconvert_exporter": "python",
   "pygments_lexer": "ipython3",
   "version": "3.6.5"
  },
  "varInspector": {
   "cols": {
    "lenName": 16,
    "lenType": 16,
    "lenVar": 40
   },
   "kernels_config": {
    "python": {
     "delete_cmd_postfix": "",
     "delete_cmd_prefix": "del ",
     "library": "var_list.py",
     "varRefreshCmd": "print(var_dic_list())"
    },
    "r": {
     "delete_cmd_postfix": ") ",
     "delete_cmd_prefix": "rm(",
     "library": "var_list.r",
     "varRefreshCmd": "cat(var_dic_list()) "
    }
   },
   "types_to_exclude": [
    "module",
    "function",
    "builtin_function_or_method",
    "instance",
    "_Feature"
   ],
   "window_display": false
  }
 },
 "nbformat": 4,
 "nbformat_minor": 2
}
