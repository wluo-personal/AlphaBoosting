{
 "cells": [
  {
   "cell_type": "code",
   "execution_count": 1,
   "metadata": {
    "ExecuteTime": {
     "end_time": "2018-08-29T05:36:37.832602Z",
     "start_time": "2018-08-29T05:36:35.766211Z"
    }
   },
   "outputs": [
    {
     "name": "stdout",
     "output_type": "stream",
     "text": [
      "train shape is: (307511, 912)\n",
      "test shape is: (48744, 911)\n"
     ]
    }
   ],
   "source": [
    "import os,sys\n",
    "import numpy as np\n",
    "import pandas as pd\n",
    "# from tqdm import tqdm_notebook as tqdm\n",
    "from sklearn.externals import joblib\n",
    "import matplotlib.pyplot as plt\n",
    "sys.path.append('../LIB/')\n",
    "from env import ENV\n",
    "from sklearn.preprocessing import normalize\n",
    "from tqdm import tqdm\n",
    "import pickle\n",
    "from sklearn.preprocessing.data import QuantileTransformer\n",
    "from sklearn.preprocessing import LabelEncoder\n",
    "from lightgbm import LGBMRegressor\n",
    "from sklearn.model_selection import train_test_split\n",
    "\n",
    "import lightgbm as lgb\n",
    "import gc\n",
    "\n",
    "print_to_file = False \n",
    "test_run = False \n",
    "\n",
    "train_path = '../../../../../../shiyi/homecreditdata/fe_selected/op5_train_fold3_added_fesel.pkl'\n",
    "test_path = '../../../../../../shiyi/homecreditdata/fe_selected/op5_test_fold3_added_fesel.pkl'\n",
    "\n",
    "# train = pd.read_pickle(ENV.lightgbm_train_764.value)\n",
    "train = pd.read_pickle(train_path)\n",
    "print('train shape is: {}'.format(train.shape))\n",
    "# test = pd.read_pickle(ENV.lightgbm_test_764.value)\n",
    "test = pd.read_pickle(test_path)\n",
    "print('test shape is: {}'.format(test.shape))\n",
    "fe_id = 'comb_764'"
   ]
  },
  {
   "cell_type": "code",
   "execution_count": 2,
   "metadata": {},
   "outputs": [],
   "source": [
    "train_path = '../../../../../../shiyi/homecreditdata/fe_selected/op5_train_fold3_added_fesel-fillNA.pkl'\n",
    "test_path = '../../../../../../shiyi/homecreditdata/fe_selected/op5_test_fold3_added_fesel-fillNA.pkl'"
   ]
  },
  {
   "cell_type": "code",
   "execution_count": 3,
   "metadata": {
    "ExecuteTime": {
     "end_time": "2018-08-29T05:36:41.506868Z",
     "start_time": "2018-08-29T05:36:39.706971Z"
    }
   },
   "outputs": [],
   "source": [
    "train['SK_ID_CURR'] = train['SK_ID_CURR'].astype(int)\n",
    "test['SK_ID_CURR'] = test['SK_ID_CURR'].astype(int)\n",
    "targets = train.TARGET.values\n",
    "\n",
    "train_id = train['SK_ID_CURR']\n",
    "test_id = test['SK_ID_CURR']\n",
    "\n",
    "X = pd.concat([train.drop('TARGET',axis=1),test])"
   ]
  },
  {
   "cell_type": "code",
   "execution_count": 4,
   "metadata": {
    "ExecuteTime": {
     "end_time": "2018-08-29T05:36:42.246448Z",
     "start_time": "2018-08-29T05:36:42.243981Z"
    }
   },
   "outputs": [],
   "source": [
    "def scan_nan_portion(df):\n",
    "    portions = []\n",
    "    columns = []\n",
    "    for col in df.columns:\n",
    "        columns.append(col)\n",
    "        portions.append(np.sum(df[col].isnull())/len(df))\n",
    "    return pd.Series(data=portions, index=columns)\n"
   ]
  },
  {
   "cell_type": "code",
   "execution_count": 5,
   "metadata": {
    "ExecuteTime": {
     "end_time": "2018-08-29T05:36:45.598678Z",
     "start_time": "2018-08-29T05:36:45.585448Z"
    }
   },
   "outputs": [],
   "source": [
    "def fill_na_list(X,th=200):\n",
    "    re = scan_nan_portion(X)\n",
    "    re = re[re<0.15]\n",
    "    re = re.sort_values()\n",
    "    col_list = []\n",
    "    na_list = []\n",
    "    for col in re.index:\n",
    "        if re[col] > 0 and X[col].nunique() >= th and str(X[col].dtypes)!= 'category' and str(X[col].dtypes)!= 'object':\n",
    "            col_list.append(col)\n",
    "            na_list.append(re[col])\n",
    "    return col_list,na_list\n",
    "            \n",
    "    \n",
    "def trainLGB(na_train_x,na_val_x,na_train_y,na_val_y):\n",
    "    reg = LGBMRegressor(n_jobs=30,\n",
    "                        device='gpu',\n",
    "                        gpu_device_id=0,\n",
    "                    boosting_type='gbdt',\n",
    "                    num_leaves=16,\n",
    "                    max_depth=-1,\n",
    "                    learning_rate=0.1,\n",
    "                    n_estimators=5000,\n",
    "                    colsample_bytree=0.6,\n",
    "                    subsample=0.6,\n",
    "                    silent=-1,\n",
    "                    verbose=-1, )\n",
    "    reg.fit(na_train_x, na_train_y, eval_set=[(na_train_x,na_train_y),(na_val_x, na_val_y)],  verbose=200,early_stopping_rounds=100,eval_metric='l1' )\n",
    "    return reg\n",
    "\n",
    "\n",
    "def convert_category(X,th=40):\n",
    "    for col in tqdm(X.columns):\n",
    "        if X[col].nunique()<th:\n",
    "            X[col] = X[col].astype('category')\n",
    "    return X\n",
    "            \n",
    "def saving(X):\n",
    "    print('saving...')\n",
    "    train_save = X.iloc[:307511].copy()\n",
    "    train_save['TARGET'] = targets\n",
    "    print(train_save.shape)\n",
    "\n",
    "    test_save = X.iloc[307511:].copy()\n",
    "    train_save.to_pickle(train_path)\n",
    "    test_save.to_pickle(test_path)"
   ]
  },
  {
   "cell_type": "code",
   "execution_count": 6,
   "metadata": {
    "ExecuteTime": {
     "end_time": "2018-08-29T05:37:08.897870Z",
     "start_time": "2018-08-29T05:36:47.539244Z"
    }
   },
   "outputs": [
    {
     "name": "stderr",
     "output_type": "stream",
     "text": [
      "100%|██████████| 911/911 [00:15<00:00, 58.53it/s]\n"
     ]
    }
   ],
   "source": [
    "X = convert_category(X)\n",
    "col_list,na_list = fill_na_list(X)"
   ]
  },
  {
   "cell_type": "markdown",
   "metadata": {},
   "source": [
    "# CPU"
   ]
  },
  {
   "cell_type": "code",
   "execution_count": 8,
   "metadata": {},
   "outputs": [
    {
     "name": "stderr",
     "output_type": "stream",
     "text": [
      "\r",
      "0it [00:00, ?it/s]"
     ]
    },
    {
     "name": "stdout",
     "output_type": "stream",
     "text": [
      "start processing NAME_FAMILY_STATUS_NAME_EDUCATION_TYPE_DAYS_BIRTH_min_diff \n",
      "the na is:5.613956295350241e-06\n",
      "(356253, 909)\n",
      "(2, 909)\n",
      "Training until validation scores don't improve for 100 rounds.\n",
      "[200]\ttraining's l1: 17.6356\ttraining's l2: 536.905\tvalid_1's l1: 17.8211\tvalid_1's l2: 576.971\n",
      "[400]\ttraining's l1: 14.7779\ttraining's l2: 369.308\tvalid_1's l1: 15.0581\tvalid_1's l2: 426.526\n",
      "[600]\ttraining's l1: 13.114\ttraining's l2: 286.603\tvalid_1's l1: 13.4734\tvalid_1's l2: 352.078\n",
      "[800]\ttraining's l1: 11.5072\ttraining's l2: 218.735\tvalid_1's l1: 11.9236\tvalid_1's l2: 287.982\n",
      "[1000]\ttraining's l1: 10.6859\ttraining's l2: 188.103\tvalid_1's l1: 11.182\tvalid_1's l2: 261.597\n",
      "[1200]\ttraining's l1: 9.89211\ttraining's l2: 160.556\tvalid_1's l1: 10.4509\tvalid_1's l2: 237.297\n",
      "[1400]\ttraining's l1: 9.16864\ttraining's l2: 137.586\tvalid_1's l1: 9.79067\tvalid_1's l2: 216.176\n",
      "[1600]\ttraining's l1: 8.71029\ttraining's l2: 123.902\tvalid_1's l1: 9.40482\tvalid_1's l2: 205.577\n",
      "[1800]\ttraining's l1: 8.24238\ttraining's l2: 110.722\tvalid_1's l1: 8.99869\tvalid_1's l2: 194.365\n",
      "[2000]\ttraining's l1: 7.90397\ttraining's l2: 101.353\tvalid_1's l1: 8.72226\tvalid_1's l2: 186.878\n",
      "[2200]\ttraining's l1: 7.68657\ttraining's l2: 95.6945\tvalid_1's l1: 8.58162\tvalid_1's l2: 183.374\n",
      "[2400]\ttraining's l1: 7.35948\ttraining's l2: 87.7803\tvalid_1's l1: 8.31731\tvalid_1's l2: 177.532\n",
      "[2600]\ttraining's l1: 7.10239\ttraining's l2: 81.7031\tvalid_1's l1: 8.1225\tvalid_1's l2: 173.03\n",
      "[2800]\ttraining's l1: 6.85524\ttraining's l2: 76.0425\tvalid_1's l1: 7.94209\tvalid_1's l2: 169\n",
      "[3000]\ttraining's l1: 6.62719\ttraining's l2: 71.039\tvalid_1's l1: 7.77057\tvalid_1's l2: 165.015\n",
      "[3200]\ttraining's l1: 6.41711\ttraining's l2: 66.5049\tvalid_1's l1: 7.61449\tvalid_1's l2: 161.279\n",
      "[3400]\ttraining's l1: 6.22756\ttraining's l2: 62.6169\tvalid_1's l1: 7.47947\tvalid_1's l2: 158.189\n",
      "[3600]\ttraining's l1: 6.07746\ttraining's l2: 59.6717\tvalid_1's l1: 7.39003\tvalid_1's l2: 156.292\n",
      "[3800]\ttraining's l1: 5.9269\ttraining's l2: 56.7588\tvalid_1's l1: 7.29323\tvalid_1's l2: 154.404\n",
      "[4000]\ttraining's l1: 5.79605\ttraining's l2: 54.3002\tvalid_1's l1: 7.22062\tvalid_1's l2: 153.062\n",
      "[4200]\ttraining's l1: 5.67714\ttraining's l2: 52.0195\tvalid_1's l1: 7.15869\tvalid_1's l2: 152.022\n",
      "[4400]\ttraining's l1: 5.563\ttraining's l2: 49.94\tvalid_1's l1: 7.10231\tvalid_1's l2: 150.755\n",
      "[4600]\ttraining's l1: 5.43319\ttraining's l2: 47.6484\tvalid_1's l1: 7.02759\tvalid_1's l2: 149.28\n",
      "[4800]\ttraining's l1: 5.30376\ttraining's l2: 45.3621\tvalid_1's l1: 6.94458\tvalid_1's l2: 147.436\n",
      "[5000]\ttraining's l1: 5.20513\ttraining's l2: 43.7054\tvalid_1's l1: 6.89864\tvalid_1's l2: 146.749\n",
      "Did not meet early stopping. Best iteration is:\n",
      "[5000]\ttraining's l1: 5.20513\ttraining's l2: 43.7054\tvalid_1's l1: 6.89864\tvalid_1's l2: 146.749\n",
      "processed: 1/594\n",
      "saving...\n",
      "(307511, 912)\n"
     ]
    },
    {
     "name": "stderr",
     "output_type": "stream",
     "text": [
      "\r",
      "1it [04:14, 254.38s/it]"
     ]
    },
    {
     "name": "stdout",
     "output_type": "stream",
     "text": [
      "start processing NAME_FAMILY_STATUS_NAME_EDUCATION_TYPE_AMT_CREDIT_mean_diff \n",
      "the na is:5.613956295350241e-06\n"
     ]
    },
    {
     "ename": "KeyboardInterrupt",
     "evalue": "",
     "output_type": "error",
     "traceback": [
      "\u001b[0;31m---------------------------------------------------------------------------\u001b[0m",
      "\u001b[0;31mKeyboardInterrupt\u001b[0m                         Traceback (most recent call last)",
      "\u001b[0;32m<ipython-input-8-0b8967b6019f>\u001b[0m in \u001b[0;36m<module>\u001b[0;34m()\u001b[0m\n\u001b[1;32m     17\u001b[0m     \u001b[0mseed\u001b[0m \u001b[0;34m=\u001b[0m \u001b[0mnp\u001b[0m\u001b[0;34m.\u001b[0m\u001b[0mrandom\u001b[0m\u001b[0;34m.\u001b[0m\u001b[0mrandint\u001b[0m\u001b[0;34m(\u001b[0m\u001b[0;36m200\u001b[0m\u001b[0;34m)\u001b[0m \u001b[0;34m+\u001b[0m \u001b[0;36m1\u001b[0m\u001b[0;34m\u001b[0m\u001b[0m\n\u001b[1;32m     18\u001b[0m     \u001b[0mseed\u001b[0m \u001b[0;34m=\u001b[0m \u001b[0;36m19\u001b[0m\u001b[0;34m\u001b[0m\u001b[0m\n\u001b[0;32m---> 19\u001b[0;31m     \u001b[0mna_train_x\u001b[0m\u001b[0;34m,\u001b[0m\u001b[0mna_val_x\u001b[0m\u001b[0;34m,\u001b[0m\u001b[0mna_train_y\u001b[0m\u001b[0;34m,\u001b[0m\u001b[0mna_val_y\u001b[0m \u001b[0;34m=\u001b[0m \u001b[0mtrain_test_split\u001b[0m\u001b[0;34m(\u001b[0m\u001b[0mna_train\u001b[0m\u001b[0;34m,\u001b[0m\u001b[0mna_target\u001b[0m\u001b[0;34m,\u001b[0m \u001b[0mtest_size\u001b[0m\u001b[0;34m=\u001b[0m\u001b[0mval\u001b[0m\u001b[0;34m,\u001b[0m\u001b[0mrandom_state\u001b[0m\u001b[0;34m=\u001b[0m\u001b[0mseed\u001b[0m\u001b[0;34m)\u001b[0m\u001b[0;34m\u001b[0m\u001b[0m\n\u001b[0m\u001b[1;32m     20\u001b[0m     \u001b[0mprint\u001b[0m\u001b[0;34m(\u001b[0m\u001b[0mna_train\u001b[0m\u001b[0;34m.\u001b[0m\u001b[0mshape\u001b[0m\u001b[0;34m)\u001b[0m\u001b[0;34m\u001b[0m\u001b[0m\n\u001b[1;32m     21\u001b[0m     \u001b[0mna_test\u001b[0m \u001b[0;34m=\u001b[0m \u001b[0mX\u001b[0m\u001b[0;34m[\u001b[0m\u001b[0mX\u001b[0m\u001b[0;34m[\u001b[0m\u001b[0mcol\u001b[0m\u001b[0;34m]\u001b[0m\u001b[0;34m.\u001b[0m\u001b[0misnull\u001b[0m\u001b[0;34m(\u001b[0m\u001b[0;34m)\u001b[0m\u001b[0;34m]\u001b[0m\u001b[0;34m[\u001b[0m\u001b[0mfeature_col\u001b[0m\u001b[0;34m]\u001b[0m\u001b[0;34m.\u001b[0m\u001b[0mcopy\u001b[0m\u001b[0;34m(\u001b[0m\u001b[0;34m)\u001b[0m\u001b[0;34m\u001b[0m\u001b[0m\n",
      "\u001b[0;32m~/anaconda3/lib/python3.6/site-packages/sklearn/model_selection/_split.py\u001b[0m in \u001b[0;36mtrain_test_split\u001b[0;34m(*arrays, **options)\u001b[0m\n\u001b[1;32m   2057\u001b[0m \u001b[0;34m\u001b[0m\u001b[0m\n\u001b[1;32m   2058\u001b[0m     return list(chain.from_iterable((safe_indexing(a, train),\n\u001b[0;32m-> 2059\u001b[0;31m                                      safe_indexing(a, test)) for a in arrays))\n\u001b[0m\u001b[1;32m   2060\u001b[0m \u001b[0;34m\u001b[0m\u001b[0m\n\u001b[1;32m   2061\u001b[0m \u001b[0;34m\u001b[0m\u001b[0m\n",
      "\u001b[0;32m~/anaconda3/lib/python3.6/site-packages/sklearn/model_selection/_split.py\u001b[0m in \u001b[0;36m<genexpr>\u001b[0;34m(.0)\u001b[0m\n\u001b[1;32m   2057\u001b[0m \u001b[0;34m\u001b[0m\u001b[0m\n\u001b[1;32m   2058\u001b[0m     return list(chain.from_iterable((safe_indexing(a, train),\n\u001b[0;32m-> 2059\u001b[0;31m                                      safe_indexing(a, test)) for a in arrays))\n\u001b[0m\u001b[1;32m   2060\u001b[0m \u001b[0;34m\u001b[0m\u001b[0m\n\u001b[1;32m   2061\u001b[0m \u001b[0;34m\u001b[0m\u001b[0m\n",
      "\u001b[0;32m~/anaconda3/lib/python3.6/site-packages/sklearn/utils/__init__.py\u001b[0m in \u001b[0;36msafe_indexing\u001b[0;34m(X, indices)\u001b[0m\n\u001b[1;32m    147\u001b[0m         \u001b[0;31m# Pandas Dataframes and Series\u001b[0m\u001b[0;34m\u001b[0m\u001b[0;34m\u001b[0m\u001b[0m\n\u001b[1;32m    148\u001b[0m         \u001b[0;32mtry\u001b[0m\u001b[0;34m:\u001b[0m\u001b[0;34m\u001b[0m\u001b[0m\n\u001b[0;32m--> 149\u001b[0;31m             \u001b[0;32mreturn\u001b[0m \u001b[0mX\u001b[0m\u001b[0;34m.\u001b[0m\u001b[0miloc\u001b[0m\u001b[0;34m[\u001b[0m\u001b[0mindices\u001b[0m\u001b[0;34m]\u001b[0m\u001b[0;34m\u001b[0m\u001b[0m\n\u001b[0m\u001b[1;32m    150\u001b[0m         \u001b[0;32mexcept\u001b[0m \u001b[0mValueError\u001b[0m\u001b[0;34m:\u001b[0m\u001b[0;34m\u001b[0m\u001b[0m\n\u001b[1;32m    151\u001b[0m             \u001b[0;31m# Cython typed memoryviews internally used in pandas do not support\u001b[0m\u001b[0;34m\u001b[0m\u001b[0;34m\u001b[0m\u001b[0m\n",
      "\u001b[0;32m~/anaconda3/lib/python3.6/site-packages/pandas/core/indexing.py\u001b[0m in \u001b[0;36m__getitem__\u001b[0;34m(self, key)\u001b[0m\n\u001b[1;32m   1476\u001b[0m \u001b[0;34m\u001b[0m\u001b[0m\n\u001b[1;32m   1477\u001b[0m             \u001b[0mmaybe_callable\u001b[0m \u001b[0;34m=\u001b[0m \u001b[0mcom\u001b[0m\u001b[0;34m.\u001b[0m\u001b[0m_apply_if_callable\u001b[0m\u001b[0;34m(\u001b[0m\u001b[0mkey\u001b[0m\u001b[0;34m,\u001b[0m \u001b[0mself\u001b[0m\u001b[0;34m.\u001b[0m\u001b[0mobj\u001b[0m\u001b[0;34m)\u001b[0m\u001b[0;34m\u001b[0m\u001b[0m\n\u001b[0;32m-> 1478\u001b[0;31m             \u001b[0;32mreturn\u001b[0m \u001b[0mself\u001b[0m\u001b[0;34m.\u001b[0m\u001b[0m_getitem_axis\u001b[0m\u001b[0;34m(\u001b[0m\u001b[0mmaybe_callable\u001b[0m\u001b[0;34m,\u001b[0m \u001b[0maxis\u001b[0m\u001b[0;34m=\u001b[0m\u001b[0maxis\u001b[0m\u001b[0;34m)\u001b[0m\u001b[0;34m\u001b[0m\u001b[0m\n\u001b[0m\u001b[1;32m   1479\u001b[0m \u001b[0;34m\u001b[0m\u001b[0m\n\u001b[1;32m   1480\u001b[0m     \u001b[0;32mdef\u001b[0m \u001b[0m_is_scalar_access\u001b[0m\u001b[0;34m(\u001b[0m\u001b[0mself\u001b[0m\u001b[0;34m,\u001b[0m \u001b[0mkey\u001b[0m\u001b[0;34m)\u001b[0m\u001b[0;34m:\u001b[0m\u001b[0;34m\u001b[0m\u001b[0m\n",
      "\u001b[0;32m~/anaconda3/lib/python3.6/site-packages/pandas/core/indexing.py\u001b[0m in \u001b[0;36m_getitem_axis\u001b[0;34m(self, key, axis)\u001b[0m\n\u001b[1;32m   2089\u001b[0m         \u001b[0;31m# a list of integers\u001b[0m\u001b[0;34m\u001b[0m\u001b[0;34m\u001b[0m\u001b[0m\n\u001b[1;32m   2090\u001b[0m         \u001b[0;32melif\u001b[0m \u001b[0mis_list_like_indexer\u001b[0m\u001b[0;34m(\u001b[0m\u001b[0mkey\u001b[0m\u001b[0;34m)\u001b[0m\u001b[0;34m:\u001b[0m\u001b[0;34m\u001b[0m\u001b[0m\n\u001b[0;32m-> 2091\u001b[0;31m             \u001b[0;32mreturn\u001b[0m \u001b[0mself\u001b[0m\u001b[0;34m.\u001b[0m\u001b[0m_get_list_axis\u001b[0m\u001b[0;34m(\u001b[0m\u001b[0mkey\u001b[0m\u001b[0;34m,\u001b[0m \u001b[0maxis\u001b[0m\u001b[0;34m=\u001b[0m\u001b[0maxis\u001b[0m\u001b[0;34m)\u001b[0m\u001b[0;34m\u001b[0m\u001b[0m\n\u001b[0m\u001b[1;32m   2092\u001b[0m \u001b[0;34m\u001b[0m\u001b[0m\n\u001b[1;32m   2093\u001b[0m         \u001b[0;31m# a single integer\u001b[0m\u001b[0;34m\u001b[0m\u001b[0;34m\u001b[0m\u001b[0m\n",
      "\u001b[0;32m~/anaconda3/lib/python3.6/site-packages/pandas/core/indexing.py\u001b[0m in \u001b[0;36m_get_list_axis\u001b[0;34m(self, key, axis)\u001b[0m\n\u001b[1;32m   2068\u001b[0m             \u001b[0maxis\u001b[0m \u001b[0;34m=\u001b[0m \u001b[0mself\u001b[0m\u001b[0;34m.\u001b[0m\u001b[0maxis\u001b[0m \u001b[0;32mor\u001b[0m \u001b[0;36m0\u001b[0m\u001b[0;34m\u001b[0m\u001b[0m\n\u001b[1;32m   2069\u001b[0m         \u001b[0;32mtry\u001b[0m\u001b[0;34m:\u001b[0m\u001b[0;34m\u001b[0m\u001b[0m\n\u001b[0;32m-> 2070\u001b[0;31m             \u001b[0;32mreturn\u001b[0m \u001b[0mself\u001b[0m\u001b[0;34m.\u001b[0m\u001b[0mobj\u001b[0m\u001b[0;34m.\u001b[0m\u001b[0m_take\u001b[0m\u001b[0;34m(\u001b[0m\u001b[0mkey\u001b[0m\u001b[0;34m,\u001b[0m \u001b[0maxis\u001b[0m\u001b[0;34m=\u001b[0m\u001b[0maxis\u001b[0m\u001b[0;34m)\u001b[0m\u001b[0;34m\u001b[0m\u001b[0m\n\u001b[0m\u001b[1;32m   2071\u001b[0m         \u001b[0;32mexcept\u001b[0m \u001b[0mIndexError\u001b[0m\u001b[0;34m:\u001b[0m\u001b[0;34m\u001b[0m\u001b[0m\n\u001b[1;32m   2072\u001b[0m             \u001b[0;31m# re-raise with different error message\u001b[0m\u001b[0;34m\u001b[0m\u001b[0;34m\u001b[0m\u001b[0m\n",
      "\u001b[0;32m~/anaconda3/lib/python3.6/site-packages/pandas/core/generic.py\u001b[0m in \u001b[0;36m_take\u001b[0;34m(self, indices, axis, is_copy)\u001b[0m\n\u001b[1;32m   2784\u001b[0m         new_data = self._data.take(indices,\n\u001b[1;32m   2785\u001b[0m                                    \u001b[0maxis\u001b[0m\u001b[0;34m=\u001b[0m\u001b[0mself\u001b[0m\u001b[0;34m.\u001b[0m\u001b[0m_get_block_manager_axis\u001b[0m\u001b[0;34m(\u001b[0m\u001b[0maxis\u001b[0m\u001b[0;34m)\u001b[0m\u001b[0;34m,\u001b[0m\u001b[0;34m\u001b[0m\u001b[0m\n\u001b[0;32m-> 2786\u001b[0;31m                                    verify=True)\n\u001b[0m\u001b[1;32m   2787\u001b[0m         \u001b[0mresult\u001b[0m \u001b[0;34m=\u001b[0m \u001b[0mself\u001b[0m\u001b[0;34m.\u001b[0m\u001b[0m_constructor\u001b[0m\u001b[0;34m(\u001b[0m\u001b[0mnew_data\u001b[0m\u001b[0;34m)\u001b[0m\u001b[0;34m.\u001b[0m\u001b[0m__finalize__\u001b[0m\u001b[0;34m(\u001b[0m\u001b[0mself\u001b[0m\u001b[0;34m)\u001b[0m\u001b[0;34m\u001b[0m\u001b[0m\n\u001b[1;32m   2788\u001b[0m \u001b[0;34m\u001b[0m\u001b[0m\n",
      "\u001b[0;32m~/anaconda3/lib/python3.6/site-packages/pandas/core/internals.py\u001b[0m in \u001b[0;36mtake\u001b[0;34m(self, indexer, axis, verify, convert)\u001b[0m\n\u001b[1;32m   4537\u001b[0m         \u001b[0mnew_labels\u001b[0m \u001b[0;34m=\u001b[0m \u001b[0mself\u001b[0m\u001b[0;34m.\u001b[0m\u001b[0maxes\u001b[0m\u001b[0;34m[\u001b[0m\u001b[0maxis\u001b[0m\u001b[0;34m]\u001b[0m\u001b[0;34m.\u001b[0m\u001b[0mtake\u001b[0m\u001b[0;34m(\u001b[0m\u001b[0mindexer\u001b[0m\u001b[0;34m)\u001b[0m\u001b[0;34m\u001b[0m\u001b[0m\n\u001b[1;32m   4538\u001b[0m         return self.reindex_indexer(new_axis=new_labels, indexer=indexer,\n\u001b[0;32m-> 4539\u001b[0;31m                                     axis=axis, allow_dups=True)\n\u001b[0m\u001b[1;32m   4540\u001b[0m \u001b[0;34m\u001b[0m\u001b[0m\n\u001b[1;32m   4541\u001b[0m     \u001b[0;32mdef\u001b[0m \u001b[0mmerge\u001b[0m\u001b[0;34m(\u001b[0m\u001b[0mself\u001b[0m\u001b[0;34m,\u001b[0m \u001b[0mother\u001b[0m\u001b[0;34m,\u001b[0m \u001b[0mlsuffix\u001b[0m\u001b[0;34m=\u001b[0m\u001b[0;34m''\u001b[0m\u001b[0;34m,\u001b[0m \u001b[0mrsuffix\u001b[0m\u001b[0;34m=\u001b[0m\u001b[0;34m''\u001b[0m\u001b[0;34m)\u001b[0m\u001b[0;34m:\u001b[0m\u001b[0;34m\u001b[0m\u001b[0m\n",
      "\u001b[0;32m~/anaconda3/lib/python3.6/site-packages/pandas/core/internals.py\u001b[0m in \u001b[0;36mreindex_indexer\u001b[0;34m(self, new_axis, indexer, axis, fill_value, allow_dups, copy)\u001b[0m\n\u001b[1;32m   4423\u001b[0m             new_blocks = [blk.take_nd(indexer, axis=axis, fill_tuple=(\n\u001b[1;32m   4424\u001b[0m                 fill_value if fill_value is not None else blk.fill_value,))\n\u001b[0;32m-> 4425\u001b[0;31m                 for blk in self.blocks]\n\u001b[0m\u001b[1;32m   4426\u001b[0m \u001b[0;34m\u001b[0m\u001b[0m\n\u001b[1;32m   4427\u001b[0m         \u001b[0mnew_axes\u001b[0m \u001b[0;34m=\u001b[0m \u001b[0mlist\u001b[0m\u001b[0;34m(\u001b[0m\u001b[0mself\u001b[0m\u001b[0;34m.\u001b[0m\u001b[0maxes\u001b[0m\u001b[0;34m)\u001b[0m\u001b[0;34m\u001b[0m\u001b[0m\n",
      "\u001b[0;32m~/anaconda3/lib/python3.6/site-packages/pandas/core/internals.py\u001b[0m in \u001b[0;36m<listcomp>\u001b[0;34m(.0)\u001b[0m\n\u001b[1;32m   4423\u001b[0m             new_blocks = [blk.take_nd(indexer, axis=axis, fill_tuple=(\n\u001b[1;32m   4424\u001b[0m                 fill_value if fill_value is not None else blk.fill_value,))\n\u001b[0;32m-> 4425\u001b[0;31m                 for blk in self.blocks]\n\u001b[0m\u001b[1;32m   4426\u001b[0m \u001b[0;34m\u001b[0m\u001b[0m\n\u001b[1;32m   4427\u001b[0m         \u001b[0mnew_axes\u001b[0m \u001b[0;34m=\u001b[0m \u001b[0mlist\u001b[0m\u001b[0;34m(\u001b[0m\u001b[0mself\u001b[0m\u001b[0;34m.\u001b[0m\u001b[0maxes\u001b[0m\u001b[0;34m)\u001b[0m\u001b[0;34m\u001b[0m\u001b[0m\n",
      "\u001b[0;32m~/anaconda3/lib/python3.6/site-packages/pandas/core/internals.py\u001b[0m in \u001b[0;36mtake_nd\u001b[0;34m(self, indexer, axis, new_mgr_locs, fill_tuple)\u001b[0m\n\u001b[1;32m   1256\u001b[0m             \u001b[0mfill_value\u001b[0m \u001b[0;34m=\u001b[0m \u001b[0mfill_tuple\u001b[0m\u001b[0;34m[\u001b[0m\u001b[0;36m0\u001b[0m\u001b[0;34m]\u001b[0m\u001b[0;34m\u001b[0m\u001b[0m\n\u001b[1;32m   1257\u001b[0m             new_values = algos.take_nd(values, indexer, axis=axis,\n\u001b[0;32m-> 1258\u001b[0;31m                                        allow_fill=True, fill_value=fill_value)\n\u001b[0m\u001b[1;32m   1259\u001b[0m \u001b[0;34m\u001b[0m\u001b[0m\n\u001b[1;32m   1260\u001b[0m         \u001b[0;32mif\u001b[0m \u001b[0mnew_mgr_locs\u001b[0m \u001b[0;32mis\u001b[0m \u001b[0;32mNone\u001b[0m\u001b[0;34m:\u001b[0m\u001b[0;34m\u001b[0m\u001b[0m\n",
      "\u001b[0;32m~/anaconda3/lib/python3.6/site-packages/pandas/core/algorithms.py\u001b[0m in \u001b[0;36mtake_nd\u001b[0;34m(arr, indexer, axis, out, fill_value, mask_info, allow_fill)\u001b[0m\n\u001b[1;32m   1654\u001b[0m     func = _get_take_nd_function(arr.ndim, arr.dtype, out.dtype, axis=axis,\n\u001b[1;32m   1655\u001b[0m                                  mask_info=mask_info)\n\u001b[0;32m-> 1656\u001b[0;31m     \u001b[0mfunc\u001b[0m\u001b[0;34m(\u001b[0m\u001b[0marr\u001b[0m\u001b[0;34m,\u001b[0m \u001b[0mindexer\u001b[0m\u001b[0;34m,\u001b[0m \u001b[0mout\u001b[0m\u001b[0;34m,\u001b[0m \u001b[0mfill_value\u001b[0m\u001b[0;34m)\u001b[0m\u001b[0;34m\u001b[0m\u001b[0m\n\u001b[0m\u001b[1;32m   1657\u001b[0m \u001b[0;34m\u001b[0m\u001b[0m\n\u001b[1;32m   1658\u001b[0m     \u001b[0;32mif\u001b[0m \u001b[0mflip_order\u001b[0m\u001b[0;34m:\u001b[0m\u001b[0;34m\u001b[0m\u001b[0m\n",
      "\u001b[0;31mKeyboardInterrupt\u001b[0m: "
     ]
    }
   ],
   "source": [
    "Processed_list = []\n",
    "ignore_col = ['SK_ID_CURR']\n",
    "feature_col_base = list(set(X.columns) - set(ignore_col) )\n",
    "val = 0.1\n",
    "save_count = 1\n",
    "count = 0\n",
    "for col,nav in tqdm(zip(col_list,na_list)):\n",
    "    print('start processing {} \\nthe na is:{}'.format(col,nav))\n",
    "    X[col] = X[col].replace(365243.0,0)\n",
    "    X[col] = X[col].replace(np.NINF,np.NAN)\n",
    "    X[col] = X[col].replace(np.PINF,np.NAN)\n",
    "    X[col] = X[col].replace(np.Inf,np.NAN)\n",
    "    feature_col = list(set(feature_col_base) - set([col]))\n",
    "    \n",
    "    na_train = X[X[col].notnull()][feature_col].copy()\n",
    "    na_target = X[X[col].notnull()][col].copy()\n",
    "    seed = np.random.randint(200) + 1\n",
    "    seed = 19\n",
    "    na_train_x,na_val_x,na_train_y,na_val_y = train_test_split(na_train,na_target, test_size=val,random_state=seed)\n",
    "    print(na_train.shape)\n",
    "    na_test = X[X[col].isnull()][feature_col].copy()\n",
    "    print(na_test.shape)\n",
    "    reg = trainLGB(na_train_x,na_val_x,na_train_y,na_val_y)\n",
    "    X.loc[X[col].isnull(),col] = reg.predict(na_test)\n",
    "    Processed_list.append(col)\n",
    "    print('processed: {}/{}'.format(len(Processed_list),len(col_list)))\n",
    "    count +=1\n",
    "    if count % save_count == 0:\n",
    "        saving(X)\n",
    "    del reg\n",
    "    gc.collect()\n",
    "    "
   ]
  },
  {
   "cell_type": "markdown",
   "metadata": {},
   "source": [
    "# CPU 2"
   ]
  },
  {
   "cell_type": "code",
   "execution_count": 7,
   "metadata": {},
   "outputs": [
    {
     "name": "stderr",
     "output_type": "stream",
     "text": [
      "\r",
      "0it [00:00, ?it/s]"
     ]
    },
    {
     "name": "stdout",
     "output_type": "stream",
     "text": [
      "start processing NAME_FAMILY_STATUS_NAME_EDUCATION_TYPE_DAYS_BIRTH_min_diff \n",
      "the na is:5.613956295350241e-06\n"
     ]
    },
    {
     "name": "stderr",
     "output_type": "stream",
     "text": [
      "\n"
     ]
    },
    {
     "ename": "KeyboardInterrupt",
     "evalue": "",
     "output_type": "error",
     "traceback": [
      "\u001b[0;31m---------------------------------------------------------------------------\u001b[0m",
      "\u001b[0;31mKeyboardInterrupt\u001b[0m                         Traceback (most recent call last)",
      "\u001b[0;32m<ipython-input-7-0b8967b6019f>\u001b[0m in \u001b[0;36m<module>\u001b[0;34m()\u001b[0m\n\u001b[1;32m     17\u001b[0m     \u001b[0mseed\u001b[0m \u001b[0;34m=\u001b[0m \u001b[0mnp\u001b[0m\u001b[0;34m.\u001b[0m\u001b[0mrandom\u001b[0m\u001b[0;34m.\u001b[0m\u001b[0mrandint\u001b[0m\u001b[0;34m(\u001b[0m\u001b[0;36m200\u001b[0m\u001b[0;34m)\u001b[0m \u001b[0;34m+\u001b[0m \u001b[0;36m1\u001b[0m\u001b[0;34m\u001b[0m\u001b[0m\n\u001b[1;32m     18\u001b[0m     \u001b[0mseed\u001b[0m \u001b[0;34m=\u001b[0m \u001b[0;36m19\u001b[0m\u001b[0;34m\u001b[0m\u001b[0m\n\u001b[0;32m---> 19\u001b[0;31m     \u001b[0mna_train_x\u001b[0m\u001b[0;34m,\u001b[0m\u001b[0mna_val_x\u001b[0m\u001b[0;34m,\u001b[0m\u001b[0mna_train_y\u001b[0m\u001b[0;34m,\u001b[0m\u001b[0mna_val_y\u001b[0m \u001b[0;34m=\u001b[0m \u001b[0mtrain_test_split\u001b[0m\u001b[0;34m(\u001b[0m\u001b[0mna_train\u001b[0m\u001b[0;34m,\u001b[0m\u001b[0mna_target\u001b[0m\u001b[0;34m,\u001b[0m \u001b[0mtest_size\u001b[0m\u001b[0;34m=\u001b[0m\u001b[0mval\u001b[0m\u001b[0;34m,\u001b[0m\u001b[0mrandom_state\u001b[0m\u001b[0;34m=\u001b[0m\u001b[0mseed\u001b[0m\u001b[0;34m)\u001b[0m\u001b[0;34m\u001b[0m\u001b[0m\n\u001b[0m\u001b[1;32m     20\u001b[0m     \u001b[0mprint\u001b[0m\u001b[0;34m(\u001b[0m\u001b[0mna_train\u001b[0m\u001b[0;34m.\u001b[0m\u001b[0mshape\u001b[0m\u001b[0;34m)\u001b[0m\u001b[0;34m\u001b[0m\u001b[0m\n\u001b[1;32m     21\u001b[0m     \u001b[0mna_test\u001b[0m \u001b[0;34m=\u001b[0m \u001b[0mX\u001b[0m\u001b[0;34m[\u001b[0m\u001b[0mX\u001b[0m\u001b[0;34m[\u001b[0m\u001b[0mcol\u001b[0m\u001b[0;34m]\u001b[0m\u001b[0;34m.\u001b[0m\u001b[0misnull\u001b[0m\u001b[0;34m(\u001b[0m\u001b[0;34m)\u001b[0m\u001b[0;34m]\u001b[0m\u001b[0;34m[\u001b[0m\u001b[0mfeature_col\u001b[0m\u001b[0;34m]\u001b[0m\u001b[0;34m.\u001b[0m\u001b[0mcopy\u001b[0m\u001b[0;34m(\u001b[0m\u001b[0;34m)\u001b[0m\u001b[0;34m\u001b[0m\u001b[0m\n",
      "\u001b[0;32m~/anaconda3/lib/python3.6/site-packages/sklearn/model_selection/_split.py\u001b[0m in \u001b[0;36mtrain_test_split\u001b[0;34m(*arrays, **options)\u001b[0m\n\u001b[1;32m   2057\u001b[0m \u001b[0;34m\u001b[0m\u001b[0m\n\u001b[1;32m   2058\u001b[0m     return list(chain.from_iterable((safe_indexing(a, train),\n\u001b[0;32m-> 2059\u001b[0;31m                                      safe_indexing(a, test)) for a in arrays))\n\u001b[0m\u001b[1;32m   2060\u001b[0m \u001b[0;34m\u001b[0m\u001b[0m\n\u001b[1;32m   2061\u001b[0m \u001b[0;34m\u001b[0m\u001b[0m\n",
      "\u001b[0;32m~/anaconda3/lib/python3.6/site-packages/sklearn/model_selection/_split.py\u001b[0m in \u001b[0;36m<genexpr>\u001b[0;34m(.0)\u001b[0m\n\u001b[1;32m   2057\u001b[0m \u001b[0;34m\u001b[0m\u001b[0m\n\u001b[1;32m   2058\u001b[0m     return list(chain.from_iterable((safe_indexing(a, train),\n\u001b[0;32m-> 2059\u001b[0;31m                                      safe_indexing(a, test)) for a in arrays))\n\u001b[0m\u001b[1;32m   2060\u001b[0m \u001b[0;34m\u001b[0m\u001b[0m\n\u001b[1;32m   2061\u001b[0m \u001b[0;34m\u001b[0m\u001b[0m\n",
      "\u001b[0;32m~/anaconda3/lib/python3.6/site-packages/sklearn/utils/__init__.py\u001b[0m in \u001b[0;36msafe_indexing\u001b[0;34m(X, indices)\u001b[0m\n\u001b[1;32m    147\u001b[0m         \u001b[0;31m# Pandas Dataframes and Series\u001b[0m\u001b[0;34m\u001b[0m\u001b[0;34m\u001b[0m\u001b[0m\n\u001b[1;32m    148\u001b[0m         \u001b[0;32mtry\u001b[0m\u001b[0;34m:\u001b[0m\u001b[0;34m\u001b[0m\u001b[0m\n\u001b[0;32m--> 149\u001b[0;31m             \u001b[0;32mreturn\u001b[0m \u001b[0mX\u001b[0m\u001b[0;34m.\u001b[0m\u001b[0miloc\u001b[0m\u001b[0;34m[\u001b[0m\u001b[0mindices\u001b[0m\u001b[0;34m]\u001b[0m\u001b[0;34m\u001b[0m\u001b[0m\n\u001b[0m\u001b[1;32m    150\u001b[0m         \u001b[0;32mexcept\u001b[0m \u001b[0mValueError\u001b[0m\u001b[0;34m:\u001b[0m\u001b[0;34m\u001b[0m\u001b[0m\n\u001b[1;32m    151\u001b[0m             \u001b[0;31m# Cython typed memoryviews internally used in pandas do not support\u001b[0m\u001b[0;34m\u001b[0m\u001b[0;34m\u001b[0m\u001b[0m\n",
      "\u001b[0;32m~/anaconda3/lib/python3.6/site-packages/pandas/core/indexing.py\u001b[0m in \u001b[0;36m__getitem__\u001b[0;34m(self, key)\u001b[0m\n\u001b[1;32m   1476\u001b[0m \u001b[0;34m\u001b[0m\u001b[0m\n\u001b[1;32m   1477\u001b[0m             \u001b[0mmaybe_callable\u001b[0m \u001b[0;34m=\u001b[0m \u001b[0mcom\u001b[0m\u001b[0;34m.\u001b[0m\u001b[0m_apply_if_callable\u001b[0m\u001b[0;34m(\u001b[0m\u001b[0mkey\u001b[0m\u001b[0;34m,\u001b[0m \u001b[0mself\u001b[0m\u001b[0;34m.\u001b[0m\u001b[0mobj\u001b[0m\u001b[0;34m)\u001b[0m\u001b[0;34m\u001b[0m\u001b[0m\n\u001b[0;32m-> 1478\u001b[0;31m             \u001b[0;32mreturn\u001b[0m \u001b[0mself\u001b[0m\u001b[0;34m.\u001b[0m\u001b[0m_getitem_axis\u001b[0m\u001b[0;34m(\u001b[0m\u001b[0mmaybe_callable\u001b[0m\u001b[0;34m,\u001b[0m \u001b[0maxis\u001b[0m\u001b[0;34m=\u001b[0m\u001b[0maxis\u001b[0m\u001b[0;34m)\u001b[0m\u001b[0;34m\u001b[0m\u001b[0m\n\u001b[0m\u001b[1;32m   1479\u001b[0m \u001b[0;34m\u001b[0m\u001b[0m\n\u001b[1;32m   1480\u001b[0m     \u001b[0;32mdef\u001b[0m \u001b[0m_is_scalar_access\u001b[0m\u001b[0;34m(\u001b[0m\u001b[0mself\u001b[0m\u001b[0;34m,\u001b[0m \u001b[0mkey\u001b[0m\u001b[0;34m)\u001b[0m\u001b[0;34m:\u001b[0m\u001b[0;34m\u001b[0m\u001b[0m\n",
      "\u001b[0;32m~/anaconda3/lib/python3.6/site-packages/pandas/core/indexing.py\u001b[0m in \u001b[0;36m_getitem_axis\u001b[0;34m(self, key, axis)\u001b[0m\n\u001b[1;32m   2089\u001b[0m         \u001b[0;31m# a list of integers\u001b[0m\u001b[0;34m\u001b[0m\u001b[0;34m\u001b[0m\u001b[0m\n\u001b[1;32m   2090\u001b[0m         \u001b[0;32melif\u001b[0m \u001b[0mis_list_like_indexer\u001b[0m\u001b[0;34m(\u001b[0m\u001b[0mkey\u001b[0m\u001b[0;34m)\u001b[0m\u001b[0;34m:\u001b[0m\u001b[0;34m\u001b[0m\u001b[0m\n\u001b[0;32m-> 2091\u001b[0;31m             \u001b[0;32mreturn\u001b[0m \u001b[0mself\u001b[0m\u001b[0;34m.\u001b[0m\u001b[0m_get_list_axis\u001b[0m\u001b[0;34m(\u001b[0m\u001b[0mkey\u001b[0m\u001b[0;34m,\u001b[0m \u001b[0maxis\u001b[0m\u001b[0;34m=\u001b[0m\u001b[0maxis\u001b[0m\u001b[0;34m)\u001b[0m\u001b[0;34m\u001b[0m\u001b[0m\n\u001b[0m\u001b[1;32m   2092\u001b[0m \u001b[0;34m\u001b[0m\u001b[0m\n\u001b[1;32m   2093\u001b[0m         \u001b[0;31m# a single integer\u001b[0m\u001b[0;34m\u001b[0m\u001b[0;34m\u001b[0m\u001b[0m\n",
      "\u001b[0;32m~/anaconda3/lib/python3.6/site-packages/pandas/core/indexing.py\u001b[0m in \u001b[0;36m_get_list_axis\u001b[0;34m(self, key, axis)\u001b[0m\n\u001b[1;32m   2068\u001b[0m             \u001b[0maxis\u001b[0m \u001b[0;34m=\u001b[0m \u001b[0mself\u001b[0m\u001b[0;34m.\u001b[0m\u001b[0maxis\u001b[0m \u001b[0;32mor\u001b[0m \u001b[0;36m0\u001b[0m\u001b[0;34m\u001b[0m\u001b[0m\n\u001b[1;32m   2069\u001b[0m         \u001b[0;32mtry\u001b[0m\u001b[0;34m:\u001b[0m\u001b[0;34m\u001b[0m\u001b[0m\n\u001b[0;32m-> 2070\u001b[0;31m             \u001b[0;32mreturn\u001b[0m \u001b[0mself\u001b[0m\u001b[0;34m.\u001b[0m\u001b[0mobj\u001b[0m\u001b[0;34m.\u001b[0m\u001b[0m_take\u001b[0m\u001b[0;34m(\u001b[0m\u001b[0mkey\u001b[0m\u001b[0;34m,\u001b[0m \u001b[0maxis\u001b[0m\u001b[0;34m=\u001b[0m\u001b[0maxis\u001b[0m\u001b[0;34m)\u001b[0m\u001b[0;34m\u001b[0m\u001b[0m\n\u001b[0m\u001b[1;32m   2071\u001b[0m         \u001b[0;32mexcept\u001b[0m \u001b[0mIndexError\u001b[0m\u001b[0;34m:\u001b[0m\u001b[0;34m\u001b[0m\u001b[0m\n\u001b[1;32m   2072\u001b[0m             \u001b[0;31m# re-raise with different error message\u001b[0m\u001b[0;34m\u001b[0m\u001b[0;34m\u001b[0m\u001b[0m\n",
      "\u001b[0;32m~/anaconda3/lib/python3.6/site-packages/pandas/core/generic.py\u001b[0m in \u001b[0;36m_take\u001b[0;34m(self, indices, axis, is_copy)\u001b[0m\n\u001b[1;32m   2784\u001b[0m         new_data = self._data.take(indices,\n\u001b[1;32m   2785\u001b[0m                                    \u001b[0maxis\u001b[0m\u001b[0;34m=\u001b[0m\u001b[0mself\u001b[0m\u001b[0;34m.\u001b[0m\u001b[0m_get_block_manager_axis\u001b[0m\u001b[0;34m(\u001b[0m\u001b[0maxis\u001b[0m\u001b[0;34m)\u001b[0m\u001b[0;34m,\u001b[0m\u001b[0;34m\u001b[0m\u001b[0m\n\u001b[0;32m-> 2786\u001b[0;31m                                    verify=True)\n\u001b[0m\u001b[1;32m   2787\u001b[0m         \u001b[0mresult\u001b[0m \u001b[0;34m=\u001b[0m \u001b[0mself\u001b[0m\u001b[0;34m.\u001b[0m\u001b[0m_constructor\u001b[0m\u001b[0;34m(\u001b[0m\u001b[0mnew_data\u001b[0m\u001b[0;34m)\u001b[0m\u001b[0;34m.\u001b[0m\u001b[0m__finalize__\u001b[0m\u001b[0;34m(\u001b[0m\u001b[0mself\u001b[0m\u001b[0;34m)\u001b[0m\u001b[0;34m\u001b[0m\u001b[0m\n\u001b[1;32m   2788\u001b[0m \u001b[0;34m\u001b[0m\u001b[0m\n",
      "\u001b[0;32m~/anaconda3/lib/python3.6/site-packages/pandas/core/internals.py\u001b[0m in \u001b[0;36mtake\u001b[0;34m(self, indexer, axis, verify, convert)\u001b[0m\n\u001b[1;32m   4537\u001b[0m         \u001b[0mnew_labels\u001b[0m \u001b[0;34m=\u001b[0m \u001b[0mself\u001b[0m\u001b[0;34m.\u001b[0m\u001b[0maxes\u001b[0m\u001b[0;34m[\u001b[0m\u001b[0maxis\u001b[0m\u001b[0;34m]\u001b[0m\u001b[0;34m.\u001b[0m\u001b[0mtake\u001b[0m\u001b[0;34m(\u001b[0m\u001b[0mindexer\u001b[0m\u001b[0;34m)\u001b[0m\u001b[0;34m\u001b[0m\u001b[0m\n\u001b[1;32m   4538\u001b[0m         return self.reindex_indexer(new_axis=new_labels, indexer=indexer,\n\u001b[0;32m-> 4539\u001b[0;31m                                     axis=axis, allow_dups=True)\n\u001b[0m\u001b[1;32m   4540\u001b[0m \u001b[0;34m\u001b[0m\u001b[0m\n\u001b[1;32m   4541\u001b[0m     \u001b[0;32mdef\u001b[0m \u001b[0mmerge\u001b[0m\u001b[0;34m(\u001b[0m\u001b[0mself\u001b[0m\u001b[0;34m,\u001b[0m \u001b[0mother\u001b[0m\u001b[0;34m,\u001b[0m \u001b[0mlsuffix\u001b[0m\u001b[0;34m=\u001b[0m\u001b[0;34m''\u001b[0m\u001b[0;34m,\u001b[0m \u001b[0mrsuffix\u001b[0m\u001b[0;34m=\u001b[0m\u001b[0;34m''\u001b[0m\u001b[0;34m)\u001b[0m\u001b[0;34m:\u001b[0m\u001b[0;34m\u001b[0m\u001b[0m\n",
      "\u001b[0;32m~/anaconda3/lib/python3.6/site-packages/pandas/core/internals.py\u001b[0m in \u001b[0;36mreindex_indexer\u001b[0;34m(self, new_axis, indexer, axis, fill_value, allow_dups, copy)\u001b[0m\n\u001b[1;32m   4423\u001b[0m             new_blocks = [blk.take_nd(indexer, axis=axis, fill_tuple=(\n\u001b[1;32m   4424\u001b[0m                 fill_value if fill_value is not None else blk.fill_value,))\n\u001b[0;32m-> 4425\u001b[0;31m                 for blk in self.blocks]\n\u001b[0m\u001b[1;32m   4426\u001b[0m \u001b[0;34m\u001b[0m\u001b[0m\n\u001b[1;32m   4427\u001b[0m         \u001b[0mnew_axes\u001b[0m \u001b[0;34m=\u001b[0m \u001b[0mlist\u001b[0m\u001b[0;34m(\u001b[0m\u001b[0mself\u001b[0m\u001b[0;34m.\u001b[0m\u001b[0maxes\u001b[0m\u001b[0;34m)\u001b[0m\u001b[0;34m\u001b[0m\u001b[0m\n",
      "\u001b[0;32m~/anaconda3/lib/python3.6/site-packages/pandas/core/internals.py\u001b[0m in \u001b[0;36m<listcomp>\u001b[0;34m(.0)\u001b[0m\n\u001b[1;32m   4423\u001b[0m             new_blocks = [blk.take_nd(indexer, axis=axis, fill_tuple=(\n\u001b[1;32m   4424\u001b[0m                 fill_value if fill_value is not None else blk.fill_value,))\n\u001b[0;32m-> 4425\u001b[0;31m                 for blk in self.blocks]\n\u001b[0m\u001b[1;32m   4426\u001b[0m \u001b[0;34m\u001b[0m\u001b[0m\n\u001b[1;32m   4427\u001b[0m         \u001b[0mnew_axes\u001b[0m \u001b[0;34m=\u001b[0m \u001b[0mlist\u001b[0m\u001b[0;34m(\u001b[0m\u001b[0mself\u001b[0m\u001b[0;34m.\u001b[0m\u001b[0maxes\u001b[0m\u001b[0;34m)\u001b[0m\u001b[0;34m\u001b[0m\u001b[0m\n",
      "\u001b[0;32m~/anaconda3/lib/python3.6/site-packages/pandas/core/internals.py\u001b[0m in \u001b[0;36mtake_nd\u001b[0;34m(self, indexer, axis, new_mgr_locs, fill_tuple)\u001b[0m\n\u001b[1;32m   1256\u001b[0m             \u001b[0mfill_value\u001b[0m \u001b[0;34m=\u001b[0m \u001b[0mfill_tuple\u001b[0m\u001b[0;34m[\u001b[0m\u001b[0;36m0\u001b[0m\u001b[0;34m]\u001b[0m\u001b[0;34m\u001b[0m\u001b[0m\n\u001b[1;32m   1257\u001b[0m             new_values = algos.take_nd(values, indexer, axis=axis,\n\u001b[0;32m-> 1258\u001b[0;31m                                        allow_fill=True, fill_value=fill_value)\n\u001b[0m\u001b[1;32m   1259\u001b[0m \u001b[0;34m\u001b[0m\u001b[0m\n\u001b[1;32m   1260\u001b[0m         \u001b[0;32mif\u001b[0m \u001b[0mnew_mgr_locs\u001b[0m \u001b[0;32mis\u001b[0m \u001b[0;32mNone\u001b[0m\u001b[0;34m:\u001b[0m\u001b[0;34m\u001b[0m\u001b[0m\n",
      "\u001b[0;32m~/anaconda3/lib/python3.6/site-packages/pandas/core/algorithms.py\u001b[0m in \u001b[0;36mtake_nd\u001b[0;34m(arr, indexer, axis, out, fill_value, mask_info, allow_fill)\u001b[0m\n\u001b[1;32m   1654\u001b[0m     func = _get_take_nd_function(arr.ndim, arr.dtype, out.dtype, axis=axis,\n\u001b[1;32m   1655\u001b[0m                                  mask_info=mask_info)\n\u001b[0;32m-> 1656\u001b[0;31m     \u001b[0mfunc\u001b[0m\u001b[0;34m(\u001b[0m\u001b[0marr\u001b[0m\u001b[0;34m,\u001b[0m \u001b[0mindexer\u001b[0m\u001b[0;34m,\u001b[0m \u001b[0mout\u001b[0m\u001b[0;34m,\u001b[0m \u001b[0mfill_value\u001b[0m\u001b[0;34m)\u001b[0m\u001b[0;34m\u001b[0m\u001b[0m\n\u001b[0m\u001b[1;32m   1657\u001b[0m \u001b[0;34m\u001b[0m\u001b[0m\n\u001b[1;32m   1658\u001b[0m     \u001b[0;32mif\u001b[0m \u001b[0mflip_order\u001b[0m\u001b[0;34m:\u001b[0m\u001b[0;34m\u001b[0m\u001b[0m\n",
      "\u001b[0;31mKeyboardInterrupt\u001b[0m: "
     ]
    }
   ],
   "source": [
    "Processed_list = []\n",
    "ignore_col = ['SK_ID_CURR']\n",
    "feature_col_base = list(set(X.columns) - set(ignore_col) )\n",
    "val = 0.1\n",
    "save_count = 1\n",
    "count = 0\n",
    "for col,nav in tqdm(zip(col_list,na_list)):\n",
    "    print('start processing {} \\nthe na is:{}'.format(col,nav))\n",
    "    X[col] = X[col].replace(365243.0,0)\n",
    "    X[col] = X[col].replace(np.NINF,np.NAN)\n",
    "    X[col] = X[col].replace(np.PINF,np.NAN)\n",
    "    X[col] = X[col].replace(np.Inf,np.NAN)\n",
    "    feature_col = list(set(feature_col_base) - set([col]))\n",
    "    \n",
    "    na_train = X[X[col].notnull()][feature_col].copy()\n",
    "    na_target = X[X[col].notnull()][col].copy()\n",
    "    seed = np.random.randint(200) + 1\n",
    "    seed = 19\n",
    "    na_train_x,na_val_x,na_train_y,na_val_y = train_test_split(na_train,na_target, test_size=val,random_state=seed)\n",
    "    print(na_train.shape)\n",
    "    na_test = X[X[col].isnull()][feature_col].copy()\n",
    "    print(na_test.shape)\n",
    "    reg = trainLGB(na_train_x,na_val_x,na_train_y,na_val_y)\n",
    "    X.loc[X[col].isnull(),col] = reg.predict(na_test)\n",
    "    Processed_list.append(col)\n",
    "    print('processed: {}/{}'.format(len(Processed_list),len(col_list)))\n",
    "    count +=1\n",
    "    if count % save_count == 0:\n",
    "        saving(X)\n",
    "    del reg\n",
    "    gc.collect()\n",
    "    "
   ]
  },
  {
   "cell_type": "markdown",
   "metadata": {},
   "source": [
    "# GPU1"
   ]
  },
  {
   "cell_type": "code",
   "execution_count": 7,
   "metadata": {
    "ExecuteTime": {
     "end_time": "2018-08-30T02:48:05.702611Z",
     "start_time": "2018-08-29T05:37:17.855035Z"
    },
    "scrolled": true
   },
   "outputs": [
    {
     "name": "stderr",
     "output_type": "stream",
     "text": [
      "\r",
      "0it [00:00, ?it/s]"
     ]
    },
    {
     "name": "stdout",
     "output_type": "stream",
     "text": [
      "start processing NAME_FAMILY_STATUS_NAME_EDUCATION_TYPE_DAYS_BIRTH_min_diff \n",
      "the na is:5.613956295350241e-06\n",
      "(356253, 909)\n",
      "(2, 909)\n",
      "Training until validation scores don't improve for 100 rounds.\n",
      "[200]\ttraining's l1: 16.4801\ttraining's l2: 458.847\tvalid_1's l1: 16.5561\tvalid_1's l2: 466.414\n",
      "[400]\ttraining's l1: 14.342\ttraining's l2: 331.832\tvalid_1's l1: 14.4896\tvalid_1's l2: 355.836\n",
      "[600]\ttraining's l1: 12.6692\ttraining's l2: 255.454\tvalid_1's l1: 12.8887\tvalid_1's l2: 287.123\n",
      "[800]\ttraining's l1: 11.4711\ttraining's l2: 207.983\tvalid_1's l1: 11.7631\tvalid_1's l2: 244.817\n",
      "[1000]\ttraining's l1: 10.6962\ttraining's l2: 180.348\tvalid_1's l1: 11.0606\tvalid_1's l2: 221.577\n",
      "[1200]\ttraining's l1: 10.0315\ttraining's l2: 158.468\tvalid_1's l1: 10.4834\tvalid_1's l2: 203.964\n",
      "[1400]\ttraining's l1: 9.44534\ttraining's l2: 140.867\tvalid_1's l1: 9.96758\tvalid_1's l2: 189.265\n",
      "[1600]\ttraining's l1: 8.9988\ttraining's l2: 127.571\tvalid_1's l1: 9.60662\tvalid_1's l2: 179.46\n",
      "[1800]\ttraining's l1: 8.6346\ttraining's l2: 117.347\tvalid_1's l1: 9.31336\tvalid_1's l2: 171.366\n",
      "[2000]\ttraining's l1: 8.27535\ttraining's l2: 107.898\tvalid_1's l1: 9.03022\tvalid_1's l2: 163.978\n",
      "[2200]\ttraining's l1: 7.92029\ttraining's l2: 99.0422\tvalid_1's l1: 8.74115\tvalid_1's l2: 156.916\n",
      "[2400]\ttraining's l1: 7.63919\ttraining's l2: 92.2699\tvalid_1's l1: 8.52904\tvalid_1's l2: 151.95\n",
      "[2600]\ttraining's l1: 7.35127\ttraining's l2: 85.5294\tvalid_1's l1: 8.30429\tvalid_1's l2: 146.617\n",
      "[2800]\ttraining's l1: 7.15185\ttraining's l2: 80.9651\tvalid_1's l1: 8.17019\tvalid_1's l2: 143.521\n",
      "[3000]\ttraining's l1: 6.94978\ttraining's l2: 76.5228\tvalid_1's l1: 8.02828\tvalid_1's l2: 140.646\n",
      "[3200]\ttraining's l1: 6.79808\ttraining's l2: 73.1699\tvalid_1's l1: 7.94986\tvalid_1's l2: 138.99\n",
      "[3400]\ttraining's l1: 6.60666\ttraining's l2: 69.1914\tvalid_1's l1: 7.82006\tvalid_1's l2: 136.151\n",
      "[3600]\ttraining's l1: 6.45076\ttraining's l2: 66.0407\tvalid_1's l1: 7.72884\tvalid_1's l2: 134.14\n",
      "[3800]\ttraining's l1: 6.29306\ttraining's l2: 62.8991\tvalid_1's l1: 7.63287\tvalid_1's l2: 132.14\n",
      "[4000]\ttraining's l1: 6.12684\ttraining's l2: 59.6757\tvalid_1's l1: 7.52196\tvalid_1's l2: 129.752\n",
      "[4200]\ttraining's l1: 5.98327\ttraining's l2: 56.9763\tvalid_1's l1: 7.43433\tvalid_1's l2: 128.111\n",
      "[4400]\ttraining's l1: 5.86125\ttraining's l2: 54.701\tvalid_1's l1: 7.37414\tvalid_1's l2: 126.942\n",
      "[4600]\ttraining's l1: 5.7096\ttraining's l2: 51.9326\tvalid_1's l1: 7.27301\tvalid_1's l2: 124.787\n",
      "[4800]\ttraining's l1: 5.6054\ttraining's l2: 50.0974\tvalid_1's l1: 7.22451\tvalid_1's l2: 123.839\n",
      "[5000]\ttraining's l1: 5.51559\ttraining's l2: 48.5238\tvalid_1's l1: 7.19327\tvalid_1's l2: 123.139\n",
      "Did not meet early stopping. Best iteration is:\n",
      "[5000]\ttraining's l1: 5.51559\ttraining's l2: 48.5238\tvalid_1's l1: 7.19327\tvalid_1's l2: 123.139\n",
      "processed: 1/594\n",
      "saving...\n",
      "(307511, 912)\n"
     ]
    },
    {
     "name": "stderr",
     "output_type": "stream",
     "text": [
      "\r",
      "1it [02:35, 155.34s/it]"
     ]
    },
    {
     "name": "stdout",
     "output_type": "stream",
     "text": [
      "start processing NAME_FAMILY_STATUS_NAME_EDUCATION_TYPE_AMT_CREDIT_mean_diff \n",
      "the na is:5.613956295350241e-06\n",
      "(356253, 909)\n",
      "(2, 909)\n",
      "Training until validation scores don't improve for 100 rounds.\n",
      "[200]\ttraining's l1: 3024.71\ttraining's l2: 2.08809e+07\tvalid_1's l1: 3074.94\tvalid_1's l2: 2.72192e+07\n",
      "[400]\ttraining's l1: 2280.46\ttraining's l2: 1.22214e+07\tvalid_1's l1: 2342.63\tvalid_1's l2: 1.80972e+07\n",
      "[600]\ttraining's l1: 1876.68\ttraining's l2: 8.5588e+06\tvalid_1's l1: 1946.25\tvalid_1's l2: 1.43713e+07\n",
      "[800]\ttraining's l1: 1611.56\ttraining's l2: 6.47425e+06\tvalid_1's l1: 1693.37\tvalid_1's l2: 1.21949e+07\n",
      "[1000]\ttraining's l1: 1429\ttraining's l2: 5.15579e+06\tvalid_1's l1: 1521.53\tvalid_1's l2: 1.07441e+07\n",
      "[1200]\ttraining's l1: 1297.9\ttraining's l2: 4.26524e+06\tvalid_1's l1: 1402.09\tvalid_1's l2: 9.87859e+06\n",
      "[1400]\ttraining's l1: 1197.81\ttraining's l2: 3.66727e+06\tvalid_1's l1: 1316.71\tvalid_1's l2: 9.36545e+06\n",
      "[1600]\ttraining's l1: 1099.93\ttraining's l2: 3.13296e+06\tvalid_1's l1: 1228.61\tvalid_1's l2: 8.81839e+06\n",
      "[1800]\ttraining's l1: 1028.24\ttraining's l2: 2.73391e+06\tvalid_1's l1: 1168.43\tvalid_1's l2: 8.3883e+06\n",
      "[2000]\ttraining's l1: 960.144\ttraining's l2: 2.40714e+06\tvalid_1's l1: 1109.51\tvalid_1's l2: 8.07615e+06\n",
      "[2200]\ttraining's l1: 909.717\ttraining's l2: 2.15156e+06\tvalid_1's l1: 1069.32\tvalid_1's l2: 7.81569e+06\n",
      "[2400]\ttraining's l1: 857.982\ttraining's l2: 1.93172e+06\tvalid_1's l1: 1025.76\tvalid_1's l2: 7.58722e+06\n",
      "[2600]\ttraining's l1: 819.12\ttraining's l2: 1.7543e+06\tvalid_1's l1: 997.118\tvalid_1's l2: 7.45185e+06\n",
      "[2800]\ttraining's l1: 781.686\ttraining's l2: 1.60726e+06\tvalid_1's l1: 968.564\tvalid_1's l2: 7.32322e+06\n",
      "[3000]\ttraining's l1: 751.273\ttraining's l2: 1.48712e+06\tvalid_1's l1: 947.284\tvalid_1's l2: 7.21833e+06\n"
     ]
    },
    {
     "ename": "KeyboardInterrupt",
     "evalue": "",
     "output_type": "error",
     "traceback": [
      "\u001b[0;31m---------------------------------------------------------------------------\u001b[0m",
      "\u001b[0;31mKeyboardInterrupt\u001b[0m                         Traceback (most recent call last)",
      "\u001b[0;32m<ipython-input-7-0b8967b6019f>\u001b[0m in \u001b[0;36m<module>\u001b[0;34m()\u001b[0m\n\u001b[1;32m     21\u001b[0m     \u001b[0mna_test\u001b[0m \u001b[0;34m=\u001b[0m \u001b[0mX\u001b[0m\u001b[0;34m[\u001b[0m\u001b[0mX\u001b[0m\u001b[0;34m[\u001b[0m\u001b[0mcol\u001b[0m\u001b[0;34m]\u001b[0m\u001b[0;34m.\u001b[0m\u001b[0misnull\u001b[0m\u001b[0;34m(\u001b[0m\u001b[0;34m)\u001b[0m\u001b[0;34m]\u001b[0m\u001b[0;34m[\u001b[0m\u001b[0mfeature_col\u001b[0m\u001b[0;34m]\u001b[0m\u001b[0;34m.\u001b[0m\u001b[0mcopy\u001b[0m\u001b[0;34m(\u001b[0m\u001b[0;34m)\u001b[0m\u001b[0;34m\u001b[0m\u001b[0m\n\u001b[1;32m     22\u001b[0m     \u001b[0mprint\u001b[0m\u001b[0;34m(\u001b[0m\u001b[0mna_test\u001b[0m\u001b[0;34m.\u001b[0m\u001b[0mshape\u001b[0m\u001b[0;34m)\u001b[0m\u001b[0;34m\u001b[0m\u001b[0m\n\u001b[0;32m---> 23\u001b[0;31m     \u001b[0mreg\u001b[0m \u001b[0;34m=\u001b[0m \u001b[0mtrainLGB\u001b[0m\u001b[0;34m(\u001b[0m\u001b[0mna_train_x\u001b[0m\u001b[0;34m,\u001b[0m\u001b[0mna_val_x\u001b[0m\u001b[0;34m,\u001b[0m\u001b[0mna_train_y\u001b[0m\u001b[0;34m,\u001b[0m\u001b[0mna_val_y\u001b[0m\u001b[0;34m)\u001b[0m\u001b[0;34m\u001b[0m\u001b[0m\n\u001b[0m\u001b[1;32m     24\u001b[0m     \u001b[0mX\u001b[0m\u001b[0;34m.\u001b[0m\u001b[0mloc\u001b[0m\u001b[0;34m[\u001b[0m\u001b[0mX\u001b[0m\u001b[0;34m[\u001b[0m\u001b[0mcol\u001b[0m\u001b[0;34m]\u001b[0m\u001b[0;34m.\u001b[0m\u001b[0misnull\u001b[0m\u001b[0;34m(\u001b[0m\u001b[0;34m)\u001b[0m\u001b[0;34m,\u001b[0m\u001b[0mcol\u001b[0m\u001b[0;34m]\u001b[0m \u001b[0;34m=\u001b[0m \u001b[0mreg\u001b[0m\u001b[0;34m.\u001b[0m\u001b[0mpredict\u001b[0m\u001b[0;34m(\u001b[0m\u001b[0mna_test\u001b[0m\u001b[0;34m)\u001b[0m\u001b[0;34m\u001b[0m\u001b[0m\n\u001b[1;32m     25\u001b[0m     \u001b[0mProcessed_list\u001b[0m\u001b[0;34m.\u001b[0m\u001b[0mappend\u001b[0m\u001b[0;34m(\u001b[0m\u001b[0mcol\u001b[0m\u001b[0;34m)\u001b[0m\u001b[0;34m\u001b[0m\u001b[0m\n",
      "\u001b[0;32m<ipython-input-5-f812b2ece315>\u001b[0m in \u001b[0;36mtrainLGB\u001b[0;34m(na_train_x, na_val_x, na_train_y, na_val_y)\u001b[0m\n\u001b[1;32m     25\u001b[0m                     \u001b[0msilent\u001b[0m\u001b[0;34m=\u001b[0m\u001b[0;34m-\u001b[0m\u001b[0;36m1\u001b[0m\u001b[0;34m,\u001b[0m\u001b[0;34m\u001b[0m\u001b[0m\n\u001b[1;32m     26\u001b[0m                     verbose=-1, )\n\u001b[0;32m---> 27\u001b[0;31m     \u001b[0mreg\u001b[0m\u001b[0;34m.\u001b[0m\u001b[0mfit\u001b[0m\u001b[0;34m(\u001b[0m\u001b[0mna_train_x\u001b[0m\u001b[0;34m,\u001b[0m \u001b[0mna_train_y\u001b[0m\u001b[0;34m,\u001b[0m \u001b[0meval_set\u001b[0m\u001b[0;34m=\u001b[0m\u001b[0;34m[\u001b[0m\u001b[0;34m(\u001b[0m\u001b[0mna_train_x\u001b[0m\u001b[0;34m,\u001b[0m\u001b[0mna_train_y\u001b[0m\u001b[0;34m)\u001b[0m\u001b[0;34m,\u001b[0m\u001b[0;34m(\u001b[0m\u001b[0mna_val_x\u001b[0m\u001b[0;34m,\u001b[0m \u001b[0mna_val_y\u001b[0m\u001b[0;34m)\u001b[0m\u001b[0;34m]\u001b[0m\u001b[0;34m,\u001b[0m  \u001b[0mverbose\u001b[0m\u001b[0;34m=\u001b[0m\u001b[0;36m200\u001b[0m\u001b[0;34m,\u001b[0m\u001b[0mearly_stopping_rounds\u001b[0m\u001b[0;34m=\u001b[0m\u001b[0;36m100\u001b[0m\u001b[0;34m,\u001b[0m\u001b[0meval_metric\u001b[0m\u001b[0;34m=\u001b[0m\u001b[0;34m'l1'\u001b[0m \u001b[0;34m)\u001b[0m\u001b[0;34m\u001b[0m\u001b[0m\n\u001b[0m\u001b[1;32m     28\u001b[0m     \u001b[0;32mreturn\u001b[0m \u001b[0mreg\u001b[0m\u001b[0;34m\u001b[0m\u001b[0m\n\u001b[1;32m     29\u001b[0m \u001b[0;34m\u001b[0m\u001b[0m\n",
      "\u001b[0;32m~/anaconda3/lib/python3.6/site-packages/lightgbm/sklearn.py\u001b[0m in \u001b[0;36mfit\u001b[0;34m(self, X, y, sample_weight, init_score, eval_set, eval_names, eval_sample_weight, eval_init_score, eval_metric, early_stopping_rounds, verbose, feature_name, categorical_feature, callbacks)\u001b[0m\n\u001b[1;32m    666\u001b[0m                                        \u001b[0mverbose\u001b[0m\u001b[0;34m=\u001b[0m\u001b[0mverbose\u001b[0m\u001b[0;34m,\u001b[0m \u001b[0mfeature_name\u001b[0m\u001b[0;34m=\u001b[0m\u001b[0mfeature_name\u001b[0m\u001b[0;34m,\u001b[0m\u001b[0;34m\u001b[0m\u001b[0m\n\u001b[1;32m    667\u001b[0m                                        \u001b[0mcategorical_feature\u001b[0m\u001b[0;34m=\u001b[0m\u001b[0mcategorical_feature\u001b[0m\u001b[0;34m,\u001b[0m\u001b[0;34m\u001b[0m\u001b[0m\n\u001b[0;32m--> 668\u001b[0;31m                                        callbacks=callbacks)\n\u001b[0m\u001b[1;32m    669\u001b[0m         \u001b[0;32mreturn\u001b[0m \u001b[0mself\u001b[0m\u001b[0;34m\u001b[0m\u001b[0m\n\u001b[1;32m    670\u001b[0m \u001b[0;34m\u001b[0m\u001b[0m\n",
      "\u001b[0;32m~/anaconda3/lib/python3.6/site-packages/lightgbm/sklearn.py\u001b[0m in \u001b[0;36mfit\u001b[0;34m(self, X, y, sample_weight, init_score, group, eval_set, eval_names, eval_sample_weight, eval_class_weight, eval_init_score, eval_group, eval_metric, early_stopping_rounds, verbose, feature_name, categorical_feature, callbacks)\u001b[0m\n\u001b[1;32m    496\u001b[0m                               \u001b[0mverbose_eval\u001b[0m\u001b[0;34m=\u001b[0m\u001b[0mverbose\u001b[0m\u001b[0;34m,\u001b[0m \u001b[0mfeature_name\u001b[0m\u001b[0;34m=\u001b[0m\u001b[0mfeature_name\u001b[0m\u001b[0;34m,\u001b[0m\u001b[0;34m\u001b[0m\u001b[0m\n\u001b[1;32m    497\u001b[0m                               \u001b[0mcategorical_feature\u001b[0m\u001b[0;34m=\u001b[0m\u001b[0mcategorical_feature\u001b[0m\u001b[0;34m,\u001b[0m\u001b[0;34m\u001b[0m\u001b[0m\n\u001b[0;32m--> 498\u001b[0;31m                               callbacks=callbacks)\n\u001b[0m\u001b[1;32m    499\u001b[0m \u001b[0;34m\u001b[0m\u001b[0m\n\u001b[1;32m    500\u001b[0m         \u001b[0;32mif\u001b[0m \u001b[0mevals_result\u001b[0m\u001b[0;34m:\u001b[0m\u001b[0;34m\u001b[0m\u001b[0m\n",
      "\u001b[0;32m~/anaconda3/lib/python3.6/site-packages/lightgbm/engine.py\u001b[0m in \u001b[0;36mtrain\u001b[0;34m(params, train_set, num_boost_round, valid_sets, valid_names, fobj, feval, init_model, feature_name, categorical_feature, early_stopping_rounds, evals_result, verbose_eval, learning_rates, keep_training_booster, callbacks)\u001b[0m\n\u001b[1;32m    205\u001b[0m                                     evaluation_result_list=None))\n\u001b[1;32m    206\u001b[0m \u001b[0;34m\u001b[0m\u001b[0m\n\u001b[0;32m--> 207\u001b[0;31m         \u001b[0mbooster\u001b[0m\u001b[0;34m.\u001b[0m\u001b[0mupdate\u001b[0m\u001b[0;34m(\u001b[0m\u001b[0mfobj\u001b[0m\u001b[0;34m=\u001b[0m\u001b[0mfobj\u001b[0m\u001b[0;34m)\u001b[0m\u001b[0;34m\u001b[0m\u001b[0m\n\u001b[0m\u001b[1;32m    208\u001b[0m \u001b[0;34m\u001b[0m\u001b[0m\n\u001b[1;32m    209\u001b[0m         \u001b[0mevaluation_result_list\u001b[0m \u001b[0;34m=\u001b[0m \u001b[0;34m[\u001b[0m\u001b[0;34m]\u001b[0m\u001b[0;34m\u001b[0m\u001b[0m\n",
      "\u001b[0;32m~/anaconda3/lib/python3.6/site-packages/lightgbm/basic.py\u001b[0m in \u001b[0;36mupdate\u001b[0;34m(self, train_set, fobj)\u001b[0m\n\u001b[1;32m   1706\u001b[0m             _safe_call(_LIB.LGBM_BoosterUpdateOneIter(\n\u001b[1;32m   1707\u001b[0m                 \u001b[0mself\u001b[0m\u001b[0;34m.\u001b[0m\u001b[0mhandle\u001b[0m\u001b[0;34m,\u001b[0m\u001b[0;34m\u001b[0m\u001b[0m\n\u001b[0;32m-> 1708\u001b[0;31m                 ctypes.byref(is_finished)))\n\u001b[0m\u001b[1;32m   1709\u001b[0m             \u001b[0mself\u001b[0m\u001b[0;34m.\u001b[0m\u001b[0m__is_predicted_cur_iter\u001b[0m \u001b[0;34m=\u001b[0m \u001b[0;34m[\u001b[0m\u001b[0;32mFalse\u001b[0m \u001b[0;32mfor\u001b[0m \u001b[0m_\u001b[0m \u001b[0;32min\u001b[0m \u001b[0mrange_\u001b[0m\u001b[0;34m(\u001b[0m\u001b[0mself\u001b[0m\u001b[0;34m.\u001b[0m\u001b[0m__num_dataset\u001b[0m\u001b[0;34m)\u001b[0m\u001b[0;34m]\u001b[0m\u001b[0;34m\u001b[0m\u001b[0m\n\u001b[1;32m   1710\u001b[0m             \u001b[0;32mreturn\u001b[0m \u001b[0mis_finished\u001b[0m\u001b[0;34m.\u001b[0m\u001b[0mvalue\u001b[0m \u001b[0;34m==\u001b[0m \u001b[0;36m1\u001b[0m\u001b[0;34m\u001b[0m\u001b[0m\n",
      "\u001b[0;31mKeyboardInterrupt\u001b[0m: "
     ]
    }
   ],
   "source": [
    "Processed_list = []\n",
    "ignore_col = ['SK_ID_CURR']\n",
    "feature_col_base = list(set(X.columns) - set(ignore_col) )\n",
    "val = 0.1\n",
    "save_count = 1\n",
    "count = 0\n",
    "for col,nav in tqdm(zip(col_list,na_list)):\n",
    "    print('start processing {} \\nthe na is:{}'.format(col,nav))\n",
    "    X[col] = X[col].replace(365243.0,0)\n",
    "    X[col] = X[col].replace(np.NINF,np.NAN)\n",
    "    X[col] = X[col].replace(np.PINF,np.NAN)\n",
    "    X[col] = X[col].replace(np.Inf,np.NAN)\n",
    "    feature_col = list(set(feature_col_base) - set([col]))\n",
    "    \n",
    "    na_train = X[X[col].notnull()][feature_col].copy()\n",
    "    na_target = X[X[col].notnull()][col].copy()\n",
    "    seed = np.random.randint(200) + 1\n",
    "    seed = 19\n",
    "    na_train_x,na_val_x,na_train_y,na_val_y = train_test_split(na_train,na_target, test_size=val,random_state=seed)\n",
    "    print(na_train.shape)\n",
    "    na_test = X[X[col].isnull()][feature_col].copy()\n",
    "    print(na_test.shape)\n",
    "    reg = trainLGB(na_train_x,na_val_x,na_train_y,na_val_y)\n",
    "    X.loc[X[col].isnull(),col] = reg.predict(na_test)\n",
    "    Processed_list.append(col)\n",
    "    print('processed: {}/{}'.format(len(Processed_list),len(col_list)))\n",
    "    count +=1\n",
    "    if count % save_count == 0:\n",
    "        saving(X)\n",
    "    del reg\n",
    "    gc.collect()\n",
    "    "
   ]
  },
  {
   "cell_type": "markdown",
   "metadata": {},
   "source": [
    "# gpu 2"
   ]
  },
  {
   "cell_type": "code",
   "execution_count": 8,
   "metadata": {},
   "outputs": [
    {
     "name": "stderr",
     "output_type": "stream",
     "text": [
      "\r",
      "0it [00:00, ?it/s]"
     ]
    },
    {
     "name": "stdout",
     "output_type": "stream",
     "text": [
      "start processing NAME_FAMILY_STATUS_NAME_EDUCATION_TYPE_DAYS_BIRTH_min_diff \n",
      "the na is:5.613956295350241e-06\n",
      "(356253, 909)\n",
      "(2, 909)\n",
      "Training until validation scores don't improve for 100 rounds.\n",
      "[200]\ttraining's l2: 537.133\ttraining's l1: 17.7138\tvalid_1's l2: 560.501\tvalid_1's l1: 17.8466\n",
      "[400]\ttraining's l2: 371.447\ttraining's l1: 14.9301\tvalid_1's l2: 417.725\tvalid_1's l1: 15.1771\n",
      "[600]\ttraining's l2: 281.933\ttraining's l1: 13.0805\tvalid_1's l2: 338.367\tvalid_1's l1: 13.3966\n",
      "[800]\ttraining's l2: 217.817\ttraining's l1: 11.5175\tvalid_1's l2: 279.601\tvalid_1's l1: 11.9085\n",
      "[1000]\ttraining's l2: 177.741\ttraining's l1: 10.4062\tvalid_1's l2: 243.66\tvalid_1's l1: 10.8705\n",
      "[1200]\ttraining's l2: 154.312\ttraining's l1: 9.70725\tvalid_1's l2: 223.846\tvalid_1's l1: 10.2426\n",
      "[1400]\ttraining's l2: 133.609\ttraining's l1: 9.05993\tvalid_1's l2: 206.45\tvalid_1's l1: 9.67142\n",
      "[1600]\ttraining's l2: 120.124\ttraining's l1: 8.60024\tvalid_1's l2: 195.658\tvalid_1's l1: 9.28815\n",
      "[1800]\ttraining's l2: 107.935\ttraining's l1: 8.16828\tvalid_1's l2: 185.506\tvalid_1's l1: 8.92313\n",
      "[2000]\ttraining's l2: 99.1768\ttraining's l1: 7.83241\tvalid_1's l2: 178.695\tvalid_1's l1: 8.65664\n",
      "[2200]\ttraining's l2: 91.4247\ttraining's l1: 7.52004\tvalid_1's l2: 172.607\tvalid_1's l1: 8.40497\n",
      "[2400]\ttraining's l2: 84.6146\ttraining's l1: 7.24507\tvalid_1's l2: 167.33\tvalid_1's l1: 8.19708\n",
      "[2600]\ttraining's l2: 78.4593\ttraining's l1: 6.98174\tvalid_1's l2: 162.526\tvalid_1's l1: 7.99541\n",
      "[2800]\ttraining's l2: 73.1095\ttraining's l1: 6.73979\tvalid_1's l2: 158.447\tvalid_1's l1: 7.81582\n",
      "[3000]\ttraining's l2: 69.2544\ttraining's l1: 6.56095\tvalid_1's l2: 156.029\tvalid_1's l1: 7.70039\n",
      "[3200]\ttraining's l2: 65.8045\ttraining's l1: 6.40115\tvalid_1's l2: 153.776\tvalid_1's l1: 7.60752\n",
      "[3400]\ttraining's l2: 61.8559\ttraining's l1: 6.20332\tvalid_1's l2: 150.566\tvalid_1's l1: 7.46687\n",
      "[3600]\ttraining's l2: 59.2763\ttraining's l1: 6.0735\tvalid_1's l2: 149.349\tvalid_1's l1: 7.39739\n",
      "[3800]\ttraining's l2: 56.4777\ttraining's l1: 5.9282\tvalid_1's l2: 147.841\tvalid_1's l1: 7.31472\n",
      "[4000]\ttraining's l2: 53.5113\ttraining's l1: 5.7723\tvalid_1's l2: 145.76\tvalid_1's l1: 7.21251\n",
      "[4200]\ttraining's l2: 51.1319\ttraining's l1: 5.64147\tvalid_1's l2: 144.215\tvalid_1's l1: 7.13774\n",
      "[4400]\ttraining's l2: 49.0679\ttraining's l1: 5.52742\tvalid_1's l2: 142.967\tvalid_1's l1: 7.07708\n",
      "[4600]\ttraining's l2: 47.374\ttraining's l1: 5.43212\tvalid_1's l2: 142.29\tvalid_1's l1: 7.03523\n",
      "[4800]\ttraining's l2: 46.0506\ttraining's l1: 5.35633\tvalid_1's l2: 142.059\tvalid_1's l1: 7.0202\n",
      "[5000]\ttraining's l2: 44.4401\ttraining's l1: 5.26\tvalid_1's l2: 141.084\tvalid_1's l1: 6.97789\n",
      "Did not meet early stopping. Best iteration is:\n",
      "[5000]\ttraining's l2: 44.4401\ttraining's l1: 5.26\tvalid_1's l2: 141.084\tvalid_1's l1: 6.97789\n",
      "processed: 1/594\n",
      "saving...\n",
      "(307511, 912)\n"
     ]
    },
    {
     "name": "stderr",
     "output_type": "stream",
     "text": [
      "\r",
      "1it [02:01, 121.62s/it]"
     ]
    },
    {
     "name": "stdout",
     "output_type": "stream",
     "text": [
      "start processing NAME_FAMILY_STATUS_NAME_EDUCATION_TYPE_AMT_CREDIT_mean_diff \n",
      "the na is:5.613956295350241e-06\n",
      "(356253, 909)\n",
      "(2, 909)\n",
      "Training until validation scores don't improve for 100 rounds.\n",
      "[200]\ttraining's l2: 2.11252e+07\ttraining's l1: 3041.54\tvalid_1's l2: 2.57412e+07\tvalid_1's l1: 3102.51\n",
      "[400]\ttraining's l2: 1.19626e+07\ttraining's l1: 2234.57\tvalid_1's l2: 1.61357e+07\tvalid_1's l1: 2304.32\n",
      "[600]\ttraining's l2: 8.64703e+06\ttraining's l1: 1907.82\tvalid_1's l2: 1.22163e+07\tvalid_1's l1: 1982.27\n",
      "[800]\ttraining's l2: 6.61294e+06\ttraining's l1: 1642.18\tvalid_1's l2: 1.02776e+07\tvalid_1's l1: 1729.3\n",
      "[1000]\ttraining's l2: 5.36056e+06\ttraining's l1: 1474.68\tvalid_1's l2: 9.24633e+06\tvalid_1's l1: 1579.41\n",
      "[1200]\ttraining's l2: 4.52146e+06\ttraining's l1: 1343.68\tvalid_1's l2: 8.55201e+06\tvalid_1's l1: 1463.65\n",
      "[1400]\ttraining's l2: 3.89723e+06\ttraining's l1: 1240.78\tvalid_1's l2: 8.03233e+06\tvalid_1's l1: 1373.64\n",
      "[1600]\ttraining's l2: 3.39614e+06\ttraining's l1: 1156\tvalid_1's l2: 7.6254e+06\tvalid_1's l1: 1300.4\n",
      "[1800]\ttraining's l2: 2.99386e+06\ttraining's l1: 1081.31\tvalid_1's l2: 7.31831e+06\tvalid_1's l1: 1237.86\n",
      "[2000]\ttraining's l2: 2.67348e+06\ttraining's l1: 1019.19\tvalid_1's l2: 7.06797e+06\tvalid_1's l1: 1186.38\n",
      "[2200]\ttraining's l2: 2.39688e+06\ttraining's l1: 960.46\tvalid_1's l2: 6.83781e+06\tvalid_1's l1: 1137.69\n",
      "[2400]\ttraining's l2: 2.15681e+06\ttraining's l1: 907.598\tvalid_1's l2: 6.63622e+06\tvalid_1's l1: 1093.61\n",
      "[2600]\ttraining's l2: 1.9687e+06\ttraining's l1: 865.324\tvalid_1's l2: 6.5086e+06\tvalid_1's l1: 1061.5\n",
      "[2800]\ttraining's l2: 1.7866e+06\ttraining's l1: 820.8\tvalid_1's l2: 6.35873e+06\tvalid_1's l1: 1024.55\n",
      "[3000]\ttraining's l2: 1.64247e+06\ttraining's l1: 788.197\tvalid_1's l2: 6.24643e+06\tvalid_1's l1: 1000.58\n",
      "[3200]\ttraining's l2: 1.52296e+06\ttraining's l1: 758.307\tvalid_1's l2: 6.16192e+06\tvalid_1's l1: 978.37\n",
      "[3400]\ttraining's l2: 1.40166e+06\ttraining's l1: 725.286\tvalid_1's l2: 6.05625e+06\tvalid_1's l1: 952.613\n",
      "[3600]\ttraining's l2: 1.31465e+06\ttraining's l1: 703.13\tvalid_1's l2: 5.99755e+06\tvalid_1's l1: 938.35\n",
      "[3800]\ttraining's l2: 1.23613e+06\ttraining's l1: 680.965\tvalid_1's l2: 5.94843e+06\tvalid_1's l1: 923.73\n",
      "[4000]\ttraining's l2: 1.15401e+06\ttraining's l1: 658.361\tvalid_1's l2: 5.88244e+06\tvalid_1's l1: 908.078\n",
      "[4200]\ttraining's l2: 1.08141e+06\ttraining's l1: 636.833\tvalid_1's l2: 5.83367e+06\tvalid_1's l1: 893.471\n",
      "[4400]\ttraining's l2: 1.01824e+06\ttraining's l1: 618.353\tvalid_1's l2: 5.7922e+06\tvalid_1's l1: 882.13\n",
      "[4600]\ttraining's l2: 954675\ttraining's l1: 598.609\tvalid_1's l2: 5.74522e+06\tvalid_1's l1: 868.327\n",
      "[4800]\ttraining's l2: 908237\ttraining's l1: 584.88\tvalid_1's l2: 5.72259e+06\tvalid_1's l1: 861.919\n",
      "[5000]\ttraining's l2: 857778\ttraining's l1: 568.878\tvalid_1's l2: 5.69455e+06\tvalid_1's l1: 853.012\n",
      "Did not meet early stopping. Best iteration is:\n",
      "[5000]\ttraining's l2: 857778\ttraining's l1: 568.878\tvalid_1's l2: 5.69455e+06\tvalid_1's l1: 853.012\n",
      "processed: 3/594\n",
      "saving...\n",
      "(307511, 912)\n"
     ]
    },
    {
     "name": "stderr",
     "output_type": "stream",
     "text": [
      "\r",
      "3it [06:05, 121.70s/it]"
     ]
    },
    {
     "name": "stdout",
     "output_type": "stream",
     "text": [
      "start processing NAME_FAMILY_STATUS_NAME_EDUCATION_TYPE_AMT_CREDIT_max_diff \n",
      "the na is:5.613956295350241e-06\n",
      "(356253, 909)\n",
      "(2, 909)\n",
      "Training until validation scores don't improve for 100 rounds.\n",
      "[200]\ttraining's l2: 1.66358e+08\ttraining's l1: 8057.07\tvalid_1's l2: 1.83191e+08\tvalid_1's l1: 8200.92\n",
      "[400]\ttraining's l2: 8.68809e+07\ttraining's l1: 5885.64\tvalid_1's l2: 1.09253e+08\tvalid_1's l1: 6110.54\n",
      "[600]\ttraining's l2: 5.8582e+07\ttraining's l1: 4847.72\tvalid_1's l2: 8.33699e+07\tvalid_1's l1: 5118.28\n",
      "[800]\ttraining's l2: 4.34312e+07\ttraining's l1: 4165.14\tvalid_1's l2: 6.96957e+07\tvalid_1's l1: 4478.39\n",
      "[1000]\ttraining's l2: 3.3719e+07\ttraining's l1: 3661.4\tvalid_1's l2: 6.11641e+07\tvalid_1's l1: 4011.4\n",
      "[1200]\ttraining's l2: 2.76057e+07\ttraining's l1: 3314.5\tvalid_1's l2: 5.55806e+07\tvalid_1's l1: 3701.21\n",
      "[1400]\ttraining's l2: 2.30071e+07\ttraining's l1: 3022.54\tvalid_1's l2: 5.15776e+07\tvalid_1's l1: 3444.17\n",
      "[1600]\ttraining's l2: 1.97853e+07\ttraining's l1: 2803.59\tvalid_1's l2: 4.88064e+07\tvalid_1's l1: 3260.26\n",
      "[1800]\ttraining's l2: 1.74518e+07\ttraining's l1: 2640.65\tvalid_1's l2: 4.7012e+07\tvalid_1's l1: 3128.11\n",
      "[2000]\ttraining's l2: 1.5416e+07\ttraining's l1: 2476.82\tvalid_1's l2: 4.52617e+07\tvalid_1's l1: 2988.63\n",
      "[2200]\ttraining's l2: 1.37281e+07\ttraining's l1: 2336.94\tvalid_1's l2: 4.38923e+07\tvalid_1's l1: 2874.09\n",
      "[2400]\ttraining's l2: 1.23226e+07\ttraining's l1: 2218.38\tvalid_1's l2: 4.27137e+07\tvalid_1's l1: 2780.77\n",
      "[2600]\ttraining's l2: 1.11627e+07\ttraining's l1: 2111.89\tvalid_1's l2: 4.17781e+07\tvalid_1's l1: 2696.67\n",
      "[2800]\ttraining's l2: 1.02853e+07\ttraining's l1: 2031.22\tvalid_1's l2: 4.11252e+07\tvalid_1's l1: 2641.49\n",
      "[3000]\ttraining's l2: 9.41619e+06\ttraining's l1: 1941.65\tvalid_1's l2: 4.0503e+07\tvalid_1's l1: 2574.57\n",
      "[3200]\ttraining's l2: 8.67951e+06\ttraining's l1: 1863.01\tvalid_1's l2: 3.98629e+07\tvalid_1's l1: 2513.99\n",
      "[3400]\ttraining's l2: 8.03738e+06\ttraining's l1: 1795.2\tvalid_1's l2: 3.94096e+07\tvalid_1's l1: 2467.87\n",
      "[3600]\ttraining's l2: 7.41993e+06\ttraining's l1: 1721.83\tvalid_1's l2: 3.88814e+07\tvalid_1's l1: 2412.69\n",
      "[3800]\ttraining's l2: 6.86714e+06\ttraining's l1: 1657.13\tvalid_1's l2: 3.84361e+07\tvalid_1's l1: 2364.11\n",
      "[4000]\ttraining's l2: 6.45763e+06\ttraining's l1: 1610.33\tvalid_1's l2: 3.82005e+07\tvalid_1's l1: 2335.9\n",
      "[4200]\ttraining's l2: 6.05152e+06\ttraining's l1: 1561.55\tvalid_1's l2: 3.79111e+07\tvalid_1's l1: 2304.74\n",
      "[4400]\ttraining's l2: 5.69293e+06\ttraining's l1: 1513.93\tvalid_1's l2: 3.7689e+07\tvalid_1's l1: 2274.8\n",
      "[4600]\ttraining's l2: 5.3545e+06\ttraining's l1: 1473.16\tvalid_1's l2: 3.74746e+07\tvalid_1's l1: 2250.81\n",
      "[4800]\ttraining's l2: 5.05065e+06\ttraining's l1: 1434.92\tvalid_1's l2: 3.72977e+07\tvalid_1's l1: 2229.78\n",
      "[5000]\ttraining's l2: 4.7867e+06\ttraining's l1: 1397.05\tvalid_1's l2: 3.71321e+07\tvalid_1's l1: 2207.05\n",
      "Did not meet early stopping. Best iteration is:\n",
      "[5000]\ttraining's l2: 4.7867e+06\ttraining's l1: 1397.05\tvalid_1's l2: 3.71321e+07\tvalid_1's l1: 2207.05\n",
      "processed: 4/594\n",
      "saving...\n",
      "(307511, 912)\n"
     ]
    },
    {
     "name": "stderr",
     "output_type": "stream",
     "text": [
      "\r",
      "4it [08:06, 121.56s/it]"
     ]
    },
    {
     "name": "stdout",
     "output_type": "stream",
     "text": [
      "start processing NAME_FAMILY_STATUS_NAME_EDUCATION_TYPE_AMT_CREDIT_max_abs_diff \n",
      "the na is:5.613956295350241e-06\n",
      "(356253, 909)\n",
      "(2, 909)\n",
      "Training until validation scores don't improve for 100 rounds.\n",
      "[200]\ttraining's l2: 9.66811e+07\ttraining's l1: 6119.72\tvalid_1's l2: 1.07825e+08\tvalid_1's l1: 6171.72\n",
      "[400]\ttraining's l2: 5.17916e+07\ttraining's l1: 4559.67\tvalid_1's l2: 6.88636e+07\tvalid_1's l1: 4709.64\n",
      "[600]\ttraining's l2: 3.58001e+07\ttraining's l1: 3792.36\tvalid_1's l2: 5.51734e+07\tvalid_1's l1: 3999.65\n",
      "[800]\ttraining's l2: 2.76035e+07\ttraining's l1: 3311.14\tvalid_1's l2: 4.83783e+07\tvalid_1's l1: 3560.63\n",
      "[1000]\ttraining's l2: 2.21879e+07\ttraining's l1: 2947.46\tvalid_1's l2: 4.38135e+07\tvalid_1's l1: 3229.32\n",
      "[1200]\ttraining's l2: 1.86004e+07\ttraining's l1: 2699.12\tvalid_1's l2: 4.10297e+07\tvalid_1's l1: 3013.9\n",
      "[1400]\ttraining's l2: 1.58045e+07\ttraining's l1: 2491.57\tvalid_1's l2: 3.8763e+07\tvalid_1's l1: 2836.85\n",
      "[1600]\ttraining's l2: 1.37422e+07\ttraining's l1: 2323.96\tvalid_1's l2: 3.71898e+07\tvalid_1's l1: 2698.21\n",
      "[1800]\ttraining's l2: 1.20639e+07\ttraining's l1: 2180.9\tvalid_1's l2: 3.58377e+07\tvalid_1's l1: 2579.92\n",
      "[2000]\ttraining's l2: 1.08125e+07\ttraining's l1: 2070.01\tvalid_1's l2: 3.49403e+07\tvalid_1's l1: 2496.53\n",
      "[2200]\ttraining's l2: 9.66377e+06\ttraining's l1: 1956.99\tvalid_1's l2: 3.40091e+07\tvalid_1's l1: 2406.26\n",
      "[2400]\ttraining's l2: 8.78215e+06\ttraining's l1: 1866.41\tvalid_1's l2: 3.34112e+07\tvalid_1's l1: 2339.2\n",
      "[2600]\ttraining's l2: 7.93907e+06\ttraining's l1: 1770.24\tvalid_1's l2: 3.2781e+07\tvalid_1's l1: 2262.02\n",
      "[2800]\ttraining's l2: 7.24433e+06\ttraining's l1: 1696.31\tvalid_1's l2: 3.23314e+07\tvalid_1's l1: 2208.06\n",
      "[3000]\ttraining's l2: 6.71229e+06\ttraining's l1: 1635.52\tvalid_1's l2: 3.19673e+07\tvalid_1's l1: 2165.18\n",
      "[3200]\ttraining's l2: 6.19613e+06\ttraining's l1: 1568.03\tvalid_1's l2: 3.15932e+07\tvalid_1's l1: 2115.03\n",
      "[3400]\ttraining's l2: 5.74717e+06\ttraining's l1: 1511.14\tvalid_1's l2: 3.12634e+07\tvalid_1's l1: 2074.48\n",
      "[3600]\ttraining's l2: 5.38976e+06\ttraining's l1: 1463.9\tvalid_1's l2: 3.11001e+07\tvalid_1's l1: 2045.43\n",
      "[3800]\ttraining's l2: 4.9888e+06\ttraining's l1: 1410.93\tvalid_1's l2: 3.07807e+07\tvalid_1's l1: 2007.86\n",
      "[4000]\ttraining's l2: 4.65977e+06\ttraining's l1: 1363.45\tvalid_1's l2: 3.05496e+07\tvalid_1's l1: 1976.12\n",
      "[4200]\ttraining's l2: 4.36148e+06\ttraining's l1: 1321.68\tvalid_1's l2: 3.03854e+07\tvalid_1's l1: 1950.48\n",
      "[4400]\ttraining's l2: 4.07602e+06\ttraining's l1: 1275.75\tvalid_1's l2: 3.0232e+07\tvalid_1's l1: 1919.27\n",
      "[4600]\ttraining's l2: 3.83113e+06\ttraining's l1: 1236.82\tvalid_1's l2: 3.00935e+07\tvalid_1's l1: 1893.76\n",
      "[4800]\ttraining's l2: 3.62363e+06\ttraining's l1: 1206.43\tvalid_1's l2: 2.99887e+07\tvalid_1's l1: 1878.69\n",
      "[5000]\ttraining's l2: 3.42018e+06\ttraining's l1: 1171.5\tvalid_1's l2: 2.98605e+07\tvalid_1's l1: 1855.39\n",
      "Did not meet early stopping. Best iteration is:\n",
      "[5000]\ttraining's l2: 3.42018e+06\ttraining's l1: 1171.5\tvalid_1's l2: 2.98605e+07\tvalid_1's l1: 1855.39\n",
      "processed: 5/594\n",
      "saving...\n",
      "(307511, 912)\n"
     ]
    },
    {
     "name": "stderr",
     "output_type": "stream",
     "text": [
      "\r",
      "5it [10:08, 121.72s/it]"
     ]
    },
    {
     "name": "stdout",
     "output_type": "stream",
     "text": [
      "start processing NAME_FAMILY_STATUS_NAME_EDUCATION_TYPE_AMT_INCOME_TOTAL_mean_abs_diff \n",
      "the na is:5.613956295350241e-06\n",
      "(356253, 909)\n",
      "(2, 909)\n",
      "Training until validation scores don't improve for 100 rounds.\n",
      "Early stopping, best iteration is:\n",
      "[34]\ttraining's l2: 3.28949e+10\ttraining's l1: 5791.89\tvalid_1's l2: 3.80065e+08\tvalid_1's l1: 5309.66\n",
      "processed: 6/594\n",
      "saving...\n",
      "(307511, 912)\n"
     ]
    },
    {
     "name": "stderr",
     "output_type": "stream",
     "text": [
      "\r",
      "6it [10:28, 104.76s/it]"
     ]
    },
    {
     "name": "stdout",
     "output_type": "stream",
     "text": [
      "start processing NAME_FAMILY_STATUS_NAME_EDUCATION_TYPE_AMT_INCOME_TOTAL_max_diff \n",
      "the na is:5.613956295350241e-06\n",
      "(356253, 909)\n",
      "(2, 909)\n",
      "Training until validation scores don't improve for 100 rounds.\n",
      "[200]\ttraining's l2: 5.16374e+09\ttraining's l1: 13712.5\tvalid_1's l2: 3.11005e+10\tvalid_1's l1: 16214.6\n",
      "[400]\ttraining's l2: 2.25563e+09\ttraining's l1: 9870.84\tvalid_1's l2: 2.90158e+10\tvalid_1's l1: 13360.5\n",
      "[600]\ttraining's l2: 1.29344e+09\ttraining's l1: 8145.49\tvalid_1's l2: 2.8214e+10\tvalid_1's l1: 12174.2\n",
      "[800]\ttraining's l2: 8.13861e+08\ttraining's l1: 6997\tvalid_1's l2: 2.78059e+10\tvalid_1's l1: 11421.9\n",
      "[1000]\ttraining's l2: 5.69624e+08\ttraining's l1: 6197.57\tvalid_1's l2: 2.74705e+10\tvalid_1's l1: 10924.3\n",
      "Early stopping, best iteration is:\n",
      "[1006]\ttraining's l2: 5.60816e+08\ttraining's l1: 6162.99\tvalid_1's l2: 2.74357e+10\tvalid_1's l1: 10894.5\n",
      "processed: 7/594\n",
      "saving...\n",
      "(307511, 912)\n"
     ]
    },
    {
     "name": "stderr",
     "output_type": "stream",
     "text": [
      "\r",
      "7it [11:07, 95.36s/it] "
     ]
    },
    {
     "name": "stdout",
     "output_type": "stream",
     "text": [
      "start processing NAME_FAMILY_STATUS_NAME_EDUCATION_TYPE_AMT_INCOME_TOTAL_max_abs_diff \n",
      "the na is:5.613956295350241e-06\n",
      "(356253, 909)\n",
      "(2, 909)\n",
      "Training until validation scores don't improve for 100 rounds.\n",
      "[200]\ttraining's l2: 2.51696e+09\ttraining's l1: 9057.96\tvalid_1's l2: 8.33461e+09\tvalid_1's l1: 10385.9\n",
      "[400]\ttraining's l2: 1.23973e+09\ttraining's l1: 6992.47\tvalid_1's l2: 7.4186e+09\tvalid_1's l1: 8963.78\n",
      "[600]\ttraining's l2: 7.52756e+08\ttraining's l1: 5923.16\tvalid_1's l2: 6.97478e+09\tvalid_1's l1: 8239.44\n",
      "[800]\ttraining's l2: 4.58153e+08\ttraining's l1: 5120.77\tvalid_1's l2: 6.90114e+09\tvalid_1's l1: 7745.9\n",
      "[1000]\ttraining's l2: 2.98413e+08\ttraining's l1: 4518.59\tvalid_1's l2: 6.73304e+09\tvalid_1's l1: 7403.45\n",
      "[1200]\ttraining's l2: 2.16628e+08\ttraining's l1: 4038.76\tvalid_1's l2: 6.66645e+09\tvalid_1's l1: 7100.13\n",
      "[1400]\ttraining's l2: 1.62551e+08\ttraining's l1: 3660.09\tvalid_1's l2: 6.6039e+09\tvalid_1's l1: 6863.01\n",
      "[1600]\ttraining's l2: 1.28394e+08\ttraining's l1: 3377.43\tvalid_1's l2: 6.57607e+09\tvalid_1's l1: 6700.49\n",
      "Early stopping, best iteration is:\n",
      "[1636]\ttraining's l2: 1.2203e+08\ttraining's l1: 3331.44\tvalid_1's l2: 6.57299e+09\tvalid_1's l1: 6677.23\n",
      "processed: 8/594\n",
      "saving...\n",
      "(307511, 912)\n"
     ]
    },
    {
     "name": "stderr",
     "output_type": "stream",
     "text": [
      "\r",
      "8it [11:57, 89.68s/it]"
     ]
    },
    {
     "name": "stdout",
     "output_type": "stream",
     "text": [
      "start processing NAME_FAMILY_STATUS_NAME_EDUCATION_TYPE_REGION_POPULATION_RELATIVE_min_diff \n",
      "the na is:5.613956295350241e-06\n",
      "(356253, 909)\n",
      "(2, 909)\n",
      "Training until validation scores don't improve for 100 rounds.\n",
      "[200]\ttraining's l2: 1.44965e-09\ttraining's l1: 1.67873e-05\tvalid_1's l2: 9.18987e-10\tvalid_1's l1: 1.68621e-05\n",
      "[400]\ttraining's l2: 6.17847e-10\ttraining's l1: 1.05373e-05\tvalid_1's l2: 5.39482e-10\tvalid_1's l1: 1.08588e-05\n",
      "[600]\ttraining's l2: 3.23822e-10\ttraining's l1: 7.48888e-06\tvalid_1's l2: 4.43581e-10\tvalid_1's l1: 7.95705e-06\n",
      "[800]\ttraining's l2: 1.86395e-10\ttraining's l1: 5.63176e-06\tvalid_1's l2: 4.03754e-10\tvalid_1's l1: 6.17445e-06\n",
      "[1000]\ttraining's l2: 1.14654e-10\ttraining's l1: 4.42346e-06\tvalid_1's l2: 3.76723e-10\tvalid_1's l1: 5.03545e-06\n",
      "[1200]\ttraining's l2: 7.34392e-11\ttraining's l1: 3.81738e-06\tvalid_1's l2: 3.73709e-10\tvalid_1's l1: 4.4936e-06\n",
      "Early stopping, best iteration is:\n",
      "[1154]\ttraining's l2: 8.14657e-11\ttraining's l1: 3.89862e-06\tvalid_1's l2: 3.6971e-10\tvalid_1's l1: 4.55858e-06\n",
      "processed: 9/594\n",
      "saving...\n",
      "(307511, 912)\n"
     ]
    },
    {
     "name": "stderr",
     "output_type": "stream",
     "text": [
      "\r",
      "9it [12:42, 84.77s/it]"
     ]
    },
    {
     "name": "stdout",
     "output_type": "stream",
     "text": [
      "start processing NAME_FAMILY_STATUS_NAME_EDUCATION_TYPE_REGION_POPULATION_RELATIVE_min_abs_diff \n",
      "the na is:5.613956295350241e-06\n",
      "(356253, 909)\n",
      "(2, 909)\n",
      "Training until validation scores don't improve for 100 rounds.\n",
      "[200]\ttraining's l2: 8.46038e-10\ttraining's l1: 1.58097e-05\tvalid_1's l2: 9.07046e-10\tvalid_1's l1: 1.60282e-05\n",
      "[400]\ttraining's l2: 3.53859e-10\ttraining's l1: 9.70856e-06\tvalid_1's l2: 5.89367e-10\tvalid_1's l1: 1.00918e-05\n",
      "[600]\ttraining's l2: 1.82757e-10\ttraining's l1: 6.88284e-06\tvalid_1's l2: 4.89513e-10\tvalid_1's l1: 7.34186e-06\n",
      "[800]\ttraining's l2: 1.10607e-10\ttraining's l1: 5.34898e-06\tvalid_1's l2: 4.52385e-10\tvalid_1's l1: 5.8812e-06\n",
      "[1000]\ttraining's l2: 7.17531e-11\ttraining's l1: 4.22823e-06\tvalid_1's l2: 4.23365e-10\tvalid_1's l1: 4.79296e-06\n",
      "[1200]\ttraining's l2: 4.8411e-11\ttraining's l1: 3.47532e-06\tvalid_1's l2: 3.93674e-10\tvalid_1's l1: 4.07061e-06\n",
      "[1400]\ttraining's l2: 3.48111e-11\ttraining's l1: 2.93359e-06\tvalid_1's l2: 3.75722e-10\tvalid_1's l1: 3.56435e-06\n",
      "[1600]\ttraining's l2: 2.49844e-11\ttraining's l1: 2.46089e-06\tvalid_1's l2: 3.58922e-10\tvalid_1's l1: 3.11194e-06\n",
      "[1800]\ttraining's l2: 1.88582e-11\ttraining's l1: 2.1443e-06\tvalid_1's l2: 3.51538e-10\tvalid_1's l1: 2.82373e-06\n",
      "[2000]\ttraining's l2: 1.43517e-11\ttraining's l1: 1.87998e-06\tvalid_1's l2: 3.44651e-10\tvalid_1's l1: 2.58475e-06\n",
      "[2200]\ttraining's l2: 1.11125e-11\ttraining's l1: 1.64687e-06\tvalid_1's l2: 3.40571e-10\tvalid_1's l1: 2.37862e-06\n",
      "[2400]\ttraining's l2: 8.73932e-12\ttraining's l1: 1.46655e-06\tvalid_1's l2: 3.37696e-10\tvalid_1's l1: 2.22366e-06\n",
      "[2600]\ttraining's l2: 7.03665e-12\ttraining's l1: 1.3075e-06\tvalid_1's l2: 3.35842e-10\tvalid_1's l1: 2.08782e-06\n",
      "[2800]\ttraining's l2: 5.73401e-12\ttraining's l1: 1.1606e-06\tvalid_1's l2: 3.34867e-10\tvalid_1's l1: 1.96164e-06\n",
      "Early stopping, best iteration is:\n",
      "[2809]\ttraining's l2: 5.69839e-12\ttraining's l1: 1.15632e-06\tvalid_1's l2: 3.34838e-10\tvalid_1's l1: 1.95875e-06\n",
      "processed: 10/594\n",
      "saving...\n",
      "(307511, 912)\n"
     ]
    },
    {
     "name": "stderr",
     "output_type": "stream",
     "text": [
      "\r",
      "10it [14:02, 84.28s/it]"
     ]
    },
    {
     "name": "stdout",
     "output_type": "stream",
     "text": [
      "start processing NAME_FAMILY_STATUS_NAME_EDUCATION_TYPE_REGION_POPULATION_RELATIVE_mean_abs_diff \n",
      "the na is:5.613956295350241e-06\n",
      "(356253, 909)\n",
      "(2, 909)\n",
      "Training until validation scores don't improve for 100 rounds.\n",
      "[200]\ttraining's l2: 5.37076e-09\ttraining's l1: 4.2159e-05\tvalid_1's l2: 5.93004e-09\tvalid_1's l1: 4.24558e-05\n",
      "[400]\ttraining's l2: 1.84506e-09\ttraining's l1: 2.3492e-05\tvalid_1's l2: 2.82365e-09\tvalid_1's l1: 2.42491e-05\n",
      "[600]\ttraining's l2: 8.76888e-10\ttraining's l1: 1.57417e-05\tvalid_1's l2: 1.96574e-09\tvalid_1's l1: 1.68037e-05\n",
      "[800]\ttraining's l2: 5.20507e-10\ttraining's l1: 1.18432e-05\tvalid_1's l2: 1.63868e-09\tvalid_1's l1: 1.308e-05\n",
      "[1000]\ttraining's l2: 3.35953e-10\ttraining's l1: 9.38348e-06\tvalid_1's l2: 1.4734e-09\tvalid_1's l1: 1.07873e-05\n",
      "[1200]\ttraining's l2: 2.50175e-10\ttraining's l1: 8.06209e-06\tvalid_1's l2: 1.42136e-09\tvalid_1's l1: 9.62153e-06\n",
      "[1400]\ttraining's l2: 1.84638e-10\ttraining's l1: 6.97772e-06\tvalid_1's l2: 1.38086e-09\tvalid_1's l1: 8.69074e-06\n",
      "[1600]\ttraining's l2: 1.43319e-10\ttraining's l1: 6.14675e-06\tvalid_1's l2: 1.34131e-09\tvalid_1's l1: 7.95896e-06\n",
      "[1800]\ttraining's l2: 1.14276e-10\ttraining's l1: 5.47418e-06\tvalid_1's l2: 1.31826e-09\tvalid_1's l1: 7.37972e-06\n",
      "[2000]\ttraining's l2: 9.34619e-11\ttraining's l1: 4.93592e-06\tvalid_1's l2: 1.30233e-09\tvalid_1's l1: 6.92447e-06\n",
      "[2200]\ttraining's l2: 7.72751e-11\ttraining's l1: 4.41238e-06\tvalid_1's l2: 1.28755e-09\tvalid_1's l1: 6.46414e-06\n",
      "[2400]\ttraining's l2: 6.64216e-11\ttraining's l1: 4.08524e-06\tvalid_1's l2: 1.28022e-09\tvalid_1's l1: 6.2159e-06\n",
      "[2600]\ttraining's l2: 5.76746e-11\ttraining's l1: 3.81789e-06\tvalid_1's l2: 1.2764e-09\tvalid_1's l1: 6.02371e-06\n",
      "[2800]\ttraining's l2: 5.09247e-11\ttraining's l1: 3.59862e-06\tvalid_1's l2: 1.27255e-09\tvalid_1's l1: 5.86931e-06\n",
      "[3000]\ttraining's l2: 4.59116e-11\ttraining's l1: 3.43672e-06\tvalid_1's l2: 1.26978e-09\tvalid_1's l1: 5.77499e-06\n",
      "[3200]\ttraining's l2: 4.09915e-11\ttraining's l1: 3.24232e-06\tvalid_1's l2: 1.2669e-09\tvalid_1's l1: 5.62658e-06\n",
      "Early stopping, best iteration is:\n",
      "[3294]\ttraining's l2: 3.83437e-11\ttraining's l1: 3.1374e-06\tvalid_1's l2: 1.26451e-09\tvalid_1's l1: 5.54386e-06\n",
      "processed: 11/594\n",
      "saving...\n",
      "(307511, 912)\n"
     ]
    },
    {
     "name": "stderr",
     "output_type": "stream",
     "text": [
      "\r",
      "11it [15:30, 84.61s/it]"
     ]
    },
    {
     "name": "stdout",
     "output_type": "stream",
     "text": [
      "start processing NAME_FAMILY_STATUS_NAME_EDUCATION_TYPE_DAYS_REGISTRATION_min_diff \n",
      "the na is:5.613956295350241e-06\n",
      "(356253, 909)\n",
      "(2, 909)\n",
      "Training until validation scores don't improve for 100 rounds.\n",
      "[200]\ttraining's l2: 3010.07\ttraining's l1: 33.0794\tvalid_1's l2: 5481.98\tvalid_1's l1: 33.8011\n",
      "[400]\ttraining's l2: 1595.72\ttraining's l1: 25.6296\tvalid_1's l2: 4738.97\tvalid_1's l1: 27.0947\n",
      "[600]\ttraining's l2: 1092.91\ttraining's l1: 22.1712\tvalid_1's l2: 4412.6\tvalid_1's l1: 24.108\n",
      "[800]\ttraining's l2: 838.152\ttraining's l1: 19.8852\tvalid_1's l2: 4246.13\tvalid_1's l1: 22.2028\n",
      "[1000]\ttraining's l2: 683.247\ttraining's l1: 18.0472\tvalid_1's l2: 4142.87\tvalid_1's l1: 20.6228\n",
      "[1200]\ttraining's l2: 572.792\ttraining's l1: 16.5808\tvalid_1's l2: 4059.56\tvalid_1's l1: 19.3483\n",
      "[1400]\ttraining's l2: 501.837\ttraining's l1: 15.7654\tvalid_1's l2: 4027.27\tvalid_1's l1: 18.779\n",
      "[1600]\ttraining's l2: 447.691\ttraining's l1: 14.9734\tvalid_1's l2: 3993.64\tvalid_1's l1: 18.1786\n",
      "[1800]\ttraining's l2: 402.978\ttraining's l1: 14.362\tvalid_1's l2: 3974.76\tvalid_1's l1: 17.7643\n",
      "Early stopping, best iteration is:\n",
      "[1793]\ttraining's l2: 404.098\ttraining's l1: 14.3722\tvalid_1's l2: 3973.53\tvalid_1's l1: 17.7648\n",
      "processed: 12/594\n",
      "saving...\n",
      "(307511, 912)\n"
     ]
    },
    {
     "name": "stderr",
     "output_type": "stream",
     "text": [
      "\r",
      "12it [16:27, 82.33s/it]"
     ]
    },
    {
     "name": "stdout",
     "output_type": "stream",
     "text": [
      "start processing NAME_FAMILY_STATUS_NAME_EDUCATION_TYPE_DAYS_BIRTH_min_abs_diff \n",
      "the na is:5.613956295350241e-06\n",
      "(356253, 909)\n",
      "(2, 909)\n",
      "Training until validation scores don't improve for 100 rounds.\n",
      "[200]\ttraining's l2: 449.685\ttraining's l1: 16.7174\tvalid_1's l2: 465.396\tvalid_1's l1: 16.8523\n",
      "[400]\ttraining's l2: 317.383\ttraining's l1: 14.1851\tvalid_1's l2: 337.259\tvalid_1's l1: 14.3721\n",
      "[600]\ttraining's l2: 244.021\ttraining's l1: 12.4884\tvalid_1's l2: 268.716\tvalid_1's l1: 12.7383\n",
      "[800]\ttraining's l2: 204.153\ttraining's l1: 11.434\tvalid_1's l2: 233.243\tvalid_1's l1: 11.7727\n",
      "[1000]\ttraining's l2: 172.468\ttraining's l1: 10.5147\tvalid_1's l2: 204.158\tvalid_1's l1: 10.9168\n",
      "[1200]\ttraining's l2: 151.789\ttraining's l1: 9.85167\tvalid_1's l2: 186.002\tvalid_1's l1: 10.3286\n",
      "[1400]\ttraining's l2: 135.978\ttraining's l1: 9.31699\tvalid_1's l2: 172.868\tvalid_1's l1: 9.87426\n",
      "[1600]\ttraining's l2: 122.61\ttraining's l1: 8.84224\tvalid_1's l2: 161.316\tvalid_1's l1: 9.46811\n",
      "[1800]\ttraining's l2: 113.007\ttraining's l1: 8.48238\tvalid_1's l2: 153.557\tvalid_1's l1: 9.18276\n",
      "[2000]\ttraining's l2: 105.225\ttraining's l1: 8.18366\tvalid_1's l2: 147.6\tvalid_1's l1: 8.96157\n",
      "[2200]\ttraining's l2: 97.189\ttraining's l1: 7.85795\tvalid_1's l2: 141.1\tvalid_1's l1: 8.70382\n",
      "[2400]\ttraining's l2: 91.272\ttraining's l1: 7.60776\tvalid_1's l2: 136.88\tvalid_1's l1: 8.52603\n",
      "[2600]\ttraining's l2: 86.7352\ttraining's l1: 7.41168\tvalid_1's l2: 133.883\tvalid_1's l1: 8.40046\n",
      "[2800]\ttraining's l2: 80.6553\ttraining's l1: 7.14183\tvalid_1's l2: 129.032\tvalid_1's l1: 8.20021\n",
      "[3000]\ttraining's l2: 76.2704\ttraining's l1: 6.94093\tvalid_1's l2: 125.983\tvalid_1's l1: 8.06328\n",
      "[3200]\ttraining's l2: 72.4694\ttraining's l1: 6.76587\tvalid_1's l2: 123.533\tvalid_1's l1: 7.95053\n",
      "[3400]\ttraining's l2: 69.0681\ttraining's l1: 6.6026\tvalid_1's l2: 121.341\tvalid_1's l1: 7.85382\n",
      "[3600]\ttraining's l2: 65.6166\ttraining's l1: 6.42907\tvalid_1's l2: 118.873\tvalid_1's l1: 7.74008\n",
      "[3800]\ttraining's l2: 62.0945\ttraining's l1: 6.25385\tvalid_1's l2: 116.387\tvalid_1's l1: 7.62373\n",
      "[4000]\ttraining's l2: 59.2425\ttraining's l1: 6.10717\tvalid_1's l2: 114.555\tvalid_1's l1: 7.53218\n",
      "[4200]\ttraining's l2: 56.7185\ttraining's l1: 5.97467\tvalid_1's l2: 113.033\tvalid_1's l1: 7.4589\n",
      "[4400]\ttraining's l2: 54.7973\ttraining's l1: 5.8706\tvalid_1's l2: 112.31\tvalid_1's l1: 7.41955\n",
      "[4600]\ttraining's l2: 52.6893\ttraining's l1: 5.75449\tvalid_1's l2: 111.08\tvalid_1's l1: 7.36039\n",
      "[4800]\ttraining's l2: 50.6618\ttraining's l1: 5.63891\tvalid_1's l2: 109.832\tvalid_1's l1: 7.29754\n",
      "[5000]\ttraining's l2: 48.8508\ttraining's l1: 5.53563\tvalid_1's l2: 108.919\tvalid_1's l1: 7.25067\n",
      "Did not meet early stopping. Best iteration is:\n",
      "[5000]\ttraining's l2: 48.8508\ttraining's l1: 5.53563\tvalid_1's l2: 108.919\tvalid_1's l1: 7.25067\n",
      "processed: 13/594\n",
      "saving...\n",
      "(307511, 912)\n"
     ]
    },
    {
     "name": "stderr",
     "output_type": "stream",
     "text": [
      "\r",
      "13it [18:32, 85.54s/it]"
     ]
    },
    {
     "name": "stdout",
     "output_type": "stream",
     "text": [
      "start processing income_per_person \n",
      "the na is:5.613956295350241e-06\n",
      "(356253, 909)\n",
      "(2, 909)\n",
      "Training until validation scores don't improve for 100 rounds.\n",
      "Early stopping, best iteration is:\n",
      "[39]\ttraining's l2: 3.41045e+09\ttraining's l1: 2382.49\tvalid_1's l2: 8.37414e+07\tvalid_1's l1: 2254.93\n",
      "processed: 14/594\n",
      "saving...\n",
      "(307511, 912)\n"
     ]
    },
    {
     "name": "stderr",
     "output_type": "stream",
     "text": [
      "\r",
      "14it [18:52, 80.88s/it]"
     ]
    },
    {
     "name": "stdout",
     "output_type": "stream",
     "text": [
      "start processing NAME_FAMILY_STATUS_NAME_EDUCATION_TYPE_DAYS_BIRTH_max_abs_diff \n",
      "the na is:5.613956295350241e-06\n",
      "(356253, 909)\n",
      "(2, 909)\n",
      "Training until validation scores don't improve for 100 rounds.\n",
      "[200]\ttraining's l2: 513.293\ttraining's l1: 17.6562\tvalid_1's l2: 591.164\tvalid_1's l1: 17.8146\n",
      "[400]\ttraining's l2: 371.168\ttraining's l1: 15.2155\tvalid_1's l2: 442.421\tvalid_1's l1: 15.4091\n",
      "[600]\ttraining's l2: 289.328\ttraining's l1: 13.5114\tvalid_1's l2: 362.386\tvalid_1's l1: 13.7843\n",
      "[800]\ttraining's l2: 230.517\ttraining's l1: 12.0946\tvalid_1's l2: 305.5\tvalid_1's l1: 12.4531\n",
      "[1000]\ttraining's l2: 193.102\ttraining's l1: 11.0746\tvalid_1's l2: 270.439\tvalid_1's l1: 11.5092\n",
      "[1200]\ttraining's l2: 172.702\ttraining's l1: 10.4567\tvalid_1's l2: 252.797\tvalid_1's l1: 10.967\n",
      "[1400]\ttraining's l2: 154.6\ttraining's l1: 9.90227\tvalid_1's l2: 237.06\tvalid_1's l1: 10.5026\n",
      "[1600]\ttraining's l2: 140.134\ttraining's l1: 9.42802\tvalid_1's l2: 224.756\tvalid_1's l1: 10.1032\n",
      "[1800]\ttraining's l2: 128.665\ttraining's l1: 9.02975\tvalid_1's l2: 215.26\tvalid_1's l1: 9.77803\n",
      "[2000]\ttraining's l2: 118.025\ttraining's l1: 8.64815\tvalid_1's l2: 206.118\tvalid_1's l1: 9.46231\n",
      "[2200]\ttraining's l2: 111.769\ttraining's l1: 8.40873\tvalid_1's l2: 202.126\tvalid_1's l1: 9.30954\n",
      "[2400]\ttraining's l2: 104.388\ttraining's l1: 8.12559\tvalid_1's l2: 196.855\tvalid_1's l1: 9.09411\n",
      "[2600]\ttraining's l2: 97.5836\ttraining's l1: 7.85758\tvalid_1's l2: 191.524\tvalid_1's l1: 8.89688\n",
      "[2800]\ttraining's l2: 91.1596\ttraining's l1: 7.59018\tvalid_1's l2: 186.482\tvalid_1's l1: 8.69367\n",
      "[3000]\ttraining's l2: 85.9951\ttraining's l1: 7.36913\tvalid_1's l2: 182.857\tvalid_1's l1: 8.54107\n",
      "[3200]\ttraining's l2: 82.1427\ttraining's l1: 7.19901\tvalid_1's l2: 180.84\tvalid_1's l1: 8.44893\n",
      "[3400]\ttraining's l2: 77.2797\ttraining's l1: 6.98034\tvalid_1's l2: 177.069\tvalid_1's l1: 8.28939\n",
      "[3600]\ttraining's l2: 73.4166\ttraining's l1: 6.79948\tvalid_1's l2: 174.546\tvalid_1's l1: 8.17269\n",
      "[3800]\ttraining's l2: 69.4018\ttraining's l1: 6.60675\tvalid_1's l2: 171.493\tvalid_1's l1: 8.03887\n",
      "[4000]\ttraining's l2: 65.8336\ttraining's l1: 6.43028\tvalid_1's l2: 168.833\tvalid_1's l1: 7.91751\n",
      "[4200]\ttraining's l2: 63.0527\ttraining's l1: 6.28848\tvalid_1's l2: 167.317\tvalid_1's l1: 7.83572\n",
      "[4400]\ttraining's l2: 60.5212\ttraining's l1: 6.15851\tvalid_1's l2: 165.949\tvalid_1's l1: 7.76814\n",
      "[4600]\ttraining's l2: 57.987\ttraining's l1: 6.02426\tvalid_1's l2: 164.32\tvalid_1's l1: 7.68828\n",
      "[4800]\ttraining's l2: 55.4307\ttraining's l1: 5.88488\tvalid_1's l2: 162.328\tvalid_1's l1: 7.6034\n",
      "[5000]\ttraining's l2: 53.4745\ttraining's l1: 5.77763\tvalid_1's l2: 161.235\tvalid_1's l1: 7.55071\n",
      "Did not meet early stopping. Best iteration is:\n",
      "[5000]\ttraining's l2: 53.4745\ttraining's l1: 5.77763\tvalid_1's l2: 161.235\tvalid_1's l1: 7.55071\n",
      "processed: 15/594\n",
      "saving...\n",
      "(307511, 912)\n"
     ]
    },
    {
     "name": "stderr",
     "output_type": "stream",
     "text": [
      "\r",
      "15it [20:56, 83.74s/it]"
     ]
    },
    {
     "name": "stdout",
     "output_type": "stream",
     "text": [
      "start processing NAME_FAMILY_STATUS_NAME_EDUCATION_TYPE_DAYS_BIRTH_max_diff \n",
      "the na is:5.613956295350241e-06\n",
      "(356253, 909)\n",
      "(2, 909)\n",
      "Training until validation scores don't improve for 100 rounds.\n",
      "[200]\ttraining's l2: 645.478\ttraining's l1: 19.2031\tvalid_1's l2: 856.207\tvalid_1's l1: 19.4386\n",
      "[400]\ttraining's l2: 406.857\ttraining's l1: 15.5489\tvalid_1's l2: 580.199\tvalid_1's l1: 15.8005\n",
      "[600]\ttraining's l2: 301.363\ttraining's l1: 13.4363\tvalid_1's l2: 469.682\tvalid_1's l1: 13.7679\n",
      "[800]\ttraining's l2: 241.225\ttraining's l1: 12.0448\tvalid_1's l2: 408.815\tvalid_1's l1: 12.4447\n",
      "[1000]\ttraining's l2: 203.006\ttraining's l1: 11.0489\tvalid_1's l2: 369.899\tvalid_1's l1: 11.527\n",
      "[1200]\ttraining's l2: 175.224\ttraining's l1: 10.2732\tvalid_1's l2: 344.13\tvalid_1's l1: 10.8186\n",
      "[1400]\ttraining's l2: 154.403\ttraining's l1: 9.66271\tvalid_1's l2: 324.269\tvalid_1's l1: 10.2898\n",
      "[1600]\ttraining's l2: 134.934\ttraining's l1: 9.04529\tvalid_1's l2: 307.272\tvalid_1's l1: 9.73904\n",
      "[1800]\ttraining's l2: 124.18\ttraining's l1: 8.68519\tvalid_1's l2: 298.012\tvalid_1's l1: 9.45115\n",
      "[2000]\ttraining's l2: 113.859\ttraining's l1: 8.32177\tvalid_1's l2: 288.905\tvalid_1's l1: 9.15898\n",
      "[2200]\ttraining's l2: 105.849\ttraining's l1: 8.04219\tvalid_1's l2: 283.212\tvalid_1's l1: 8.95485\n",
      "[2400]\ttraining's l2: 97.4163\ttraining's l1: 7.71543\tvalid_1's l2: 276.592\tvalid_1's l1: 8.68676\n",
      "[2600]\ttraining's l2: 89.0418\ttraining's l1: 7.37961\tvalid_1's l2: 269.934\tvalid_1's l1: 8.41479\n",
      "[2800]\ttraining's l2: 84.0461\ttraining's l1: 7.17383\tvalid_1's l2: 266.076\tvalid_1's l1: 8.27258\n",
      "[3000]\ttraining's l2: 77.7463\ttraining's l1: 6.90089\tvalid_1's l2: 260.537\tvalid_1's l1: 8.0525\n",
      "[3200]\ttraining's l2: 73.2685\ttraining's l1: 6.69975\tvalid_1's l2: 257.542\tvalid_1's l1: 7.91444\n",
      "[3400]\ttraining's l2: 69.1679\ttraining's l1: 6.51455\tvalid_1's l2: 254.413\tvalid_1's l1: 7.78857\n",
      "[3600]\ttraining's l2: 65.6591\ttraining's l1: 6.34746\tvalid_1's l2: 251.467\tvalid_1's l1: 7.67205\n",
      "[3800]\ttraining's l2: 62.7994\ttraining's l1: 6.21046\tvalid_1's l2: 250.234\tvalid_1's l1: 7.59853\n",
      "[4000]\ttraining's l2: 59.2172\ttraining's l1: 6.02982\tvalid_1's l2: 247.533\tvalid_1's l1: 7.47295\n",
      "[4200]\ttraining's l2: 56.5436\ttraining's l1: 5.89472\tvalid_1's l2: 245.846\tvalid_1's l1: 7.39079\n",
      "[4400]\ttraining's l2: 54.5807\ttraining's l1: 5.79473\tvalid_1's l2: 245.055\tvalid_1's l1: 7.35191\n",
      "[4600]\ttraining's l2: 51.7895\ttraining's l1: 5.64399\tvalid_1's l2: 242.998\tvalid_1's l1: 7.24845\n",
      "[4800]\ttraining's l2: 49.8404\ttraining's l1: 5.53652\tvalid_1's l2: 241.953\tvalid_1's l1: 7.19458\n",
      "[5000]\ttraining's l2: 47.6015\ttraining's l1: 5.41206\tvalid_1's l2: 240.314\tvalid_1's l1: 7.11657\n",
      "Did not meet early stopping. Best iteration is:\n",
      "[5000]\ttraining's l2: 47.6015\ttraining's l1: 5.41206\tvalid_1's l2: 240.314\tvalid_1's l1: 7.11657\n",
      "processed: 16/594\n",
      "saving...\n",
      "(307511, 912)\n"
     ]
    },
    {
     "name": "stderr",
     "output_type": "stream",
     "text": [
      "\r",
      "16it [22:59, 86.21s/it]"
     ]
    },
    {
     "name": "stdout",
     "output_type": "stream",
     "text": [
      "start processing NAME_FAMILY_STATUS_NAME_EDUCATION_TYPE_DAYS_ID_PUBLISH_mean_abs_diff \n",
      "the na is:5.613956295350241e-06\n",
      "(356253, 909)\n",
      "(2, 909)\n",
      "Training until validation scores don't improve for 100 rounds.\n",
      "[200]\ttraining's l2: 260.456\ttraining's l1: 10.8556\tvalid_1's l2: 274.232\tvalid_1's l1: 10.9067\n",
      "[400]\ttraining's l2: 137.45\ttraining's l1: 8.20566\tvalid_1's l2: 156.823\tvalid_1's l1: 8.36223\n",
      "[600]\ttraining's l2: 98.1216\ttraining's l1: 7.07137\tvalid_1's l2: 120.749\tvalid_1's l1: 7.29617\n",
      "[800]\ttraining's l2: 77.0357\ttraining's l1: 6.31284\tvalid_1's l2: 101.624\tvalid_1's l1: 6.59683\n",
      "[1000]\ttraining's l2: 63.7013\ttraining's l1: 5.7713\tvalid_1's l2: 90.1326\tvalid_1's l1: 6.10209\n",
      "[1200]\ttraining's l2: 54.3008\ttraining's l1: 5.35727\tvalid_1's l2: 82.0456\tvalid_1's l1: 5.73934\n",
      "[1400]\ttraining's l2: 48.1023\ttraining's l1: 5.08446\tvalid_1's l2: 77.4866\tvalid_1's l1: 5.51906\n",
      "[1600]\ttraining's l2: 43.3146\ttraining's l1: 4.84344\tvalid_1's l2: 73.8435\tvalid_1's l1: 5.32457\n",
      "[1800]\ttraining's l2: 39.3498\ttraining's l1: 4.63883\tvalid_1's l2: 70.7435\tvalid_1's l1: 5.16549\n",
      "[2000]\ttraining's l2: 36.061\ttraining's l1: 4.46438\tvalid_1's l2: 68.4222\tvalid_1's l1: 5.03593\n",
      "[2200]\ttraining's l2: 33.2392\ttraining's l1: 4.30242\tvalid_1's l2: 66.3337\tvalid_1's l1: 4.9152\n",
      "[2400]\ttraining's l2: 30.9821\ttraining's l1: 4.16733\tvalid_1's l2: 64.5898\tvalid_1's l1: 4.81986\n",
      "[2600]\ttraining's l2: 28.7233\ttraining's l1: 4.02371\tvalid_1's l2: 62.9558\tvalid_1's l1: 4.71004\n",
      "[2800]\ttraining's l2: 27.0056\ttraining's l1: 3.9115\tvalid_1's l2: 61.8057\tvalid_1's l1: 4.63607\n",
      "[3000]\ttraining's l2: 25.5426\ttraining's l1: 3.81558\tvalid_1's l2: 60.945\tvalid_1's l1: 4.57992\n",
      "[3200]\ttraining's l2: 24.2201\ttraining's l1: 3.7254\tvalid_1's l2: 60.1665\tvalid_1's l1: 4.52709\n",
      "[3400]\ttraining's l2: 22.7318\ttraining's l1: 3.61348\tvalid_1's l2: 59.0503\tvalid_1's l1: 4.44585\n",
      "[3600]\ttraining's l2: 21.5347\ttraining's l1: 3.52135\tvalid_1's l2: 58.2643\tvalid_1's l1: 4.38674\n",
      "[3800]\ttraining's l2: 20.2761\ttraining's l1: 3.42042\tvalid_1's l2: 57.1828\tvalid_1's l1: 4.31279\n",
      "[4000]\ttraining's l2: 19.1875\ttraining's l1: 3.33313\tvalid_1's l2: 56.2827\tvalid_1's l1: 4.2522\n",
      "[4200]\ttraining's l2: 18.5051\ttraining's l1: 3.27862\tvalid_1's l2: 56.0478\tvalid_1's l1: 4.2342\n",
      "[4400]\ttraining's l2: 17.7705\ttraining's l1: 3.21834\tvalid_1's l2: 55.6783\tvalid_1's l1: 4.20665\n",
      "[4600]\ttraining's l2: 16.9508\ttraining's l1: 3.14614\tvalid_1's l2: 55.0943\tvalid_1's l1: 4.16296\n",
      "[4800]\ttraining's l2: 16.3416\ttraining's l1: 3.09233\tvalid_1's l2: 54.8437\tvalid_1's l1: 4.14263\n",
      "[5000]\ttraining's l2: 15.7548\ttraining's l1: 3.03741\tvalid_1's l2: 54.5098\tvalid_1's l1: 4.11708\n",
      "Did not meet early stopping. Best iteration is:\n",
      "[5000]\ttraining's l2: 15.7548\ttraining's l1: 3.03741\tvalid_1's l2: 54.5098\tvalid_1's l1: 4.11708\n",
      "processed: 17/594\n",
      "saving...\n",
      "(307511, 912)\n"
     ]
    },
    {
     "name": "stderr",
     "output_type": "stream",
     "text": [
      "\r",
      "17it [24:59, 88.23s/it]"
     ]
    },
    {
     "name": "stdout",
     "output_type": "stream",
     "text": [
      "start processing NAME_FAMILY_STATUS_NAME_EDUCATION_TYPE_DAYS_ID_PUBLISH_mean_diff \n",
      "the na is:5.613956295350241e-06\n",
      "(356253, 909)\n",
      "(2, 909)\n",
      "Training until validation scores don't improve for 100 rounds.\n",
      "[200]\ttraining's l2: 188.355\ttraining's l1: 9.71462\tvalid_1's l2: 186.942\tvalid_1's l1: 9.73862\n",
      "[400]\ttraining's l2: 107.997\ttraining's l1: 7.56231\tvalid_1's l2: 114.608\tvalid_1's l1: 7.65797\n",
      "[600]\ttraining's l2: 73.6736\ttraining's l1: 6.29731\tvalid_1's l2: 83.234\tvalid_1's l1: 6.44462\n",
      "[800]\ttraining's l2: 56.1965\ttraining's l1: 5.53664\tvalid_1's l2: 67.486\tvalid_1's l1: 5.72944\n",
      "[1000]\ttraining's l2: 45.593\ttraining's l1: 5.00119\tvalid_1's l2: 57.716\tvalid_1's l1: 5.23554\n",
      "[1200]\ttraining's l2: 37.9079\ttraining's l1: 4.58317\tvalid_1's l2: 50.7876\tvalid_1's l1: 4.85249\n",
      "[1400]\ttraining's l2: 32.8034\ttraining's l1: 4.28444\tvalid_1's l2: 46.0462\tvalid_1's l1: 4.57934\n",
      "[1600]\ttraining's l2: 29.3008\ttraining's l1: 4.06842\tvalid_1's l2: 42.9614\tvalid_1's l1: 4.39693\n",
      "[1800]\ttraining's l2: 26.0189\ttraining's l1: 3.8417\tvalid_1's l2: 40.1509\tvalid_1's l1: 4.19998\n",
      "[2000]\ttraining's l2: 23.505\ttraining's l1: 3.66273\tvalid_1's l2: 38.0255\tvalid_1's l1: 4.04961\n",
      "[2200]\ttraining's l2: 21.4583\ttraining's l1: 3.50012\tvalid_1's l2: 36.4432\tvalid_1's l1: 3.91758\n",
      "[2400]\ttraining's l2: 19.8322\ttraining's l1: 3.37609\tvalid_1's l2: 35.226\tvalid_1's l1: 3.82334\n",
      "[2600]\ttraining's l2: 18.451\ttraining's l1: 3.26821\tvalid_1's l2: 34.2362\tvalid_1's l1: 3.74657\n",
      "[2800]\ttraining's l2: 17.2477\ttraining's l1: 3.16508\tvalid_1's l2: 33.4107\tvalid_1's l1: 3.67488\n",
      "[3000]\ttraining's l2: 16.2705\ttraining's l1: 3.07931\tvalid_1's l2: 32.7896\tvalid_1's l1: 3.62084\n",
      "[3200]\ttraining's l2: 15.1109\ttraining's l1: 2.96778\tvalid_1's l2: 31.7777\tvalid_1's l1: 3.53268\n",
      "[3400]\ttraining's l2: 14.3226\ttraining's l1: 2.89464\tvalid_1's l2: 31.331\tvalid_1's l1: 3.49261\n",
      "[3600]\ttraining's l2: 13.7034\ttraining's l1: 2.83448\tvalid_1's l2: 31.0182\tvalid_1's l1: 3.46254\n",
      "[3800]\ttraining's l2: 13.0873\ttraining's l1: 2.77333\tvalid_1's l2: 30.655\tvalid_1's l1: 3.42917\n",
      "[4000]\ttraining's l2: 12.2711\ttraining's l1: 2.68637\tvalid_1's l2: 30.003\tvalid_1's l1: 3.36635\n",
      "[4200]\ttraining's l2: 11.6465\ttraining's l1: 2.61971\tvalid_1's l2: 29.5283\tvalid_1's l1: 3.32298\n",
      "[4400]\ttraining's l2: 11.1243\ttraining's l1: 2.56296\tvalid_1's l2: 29.2024\tvalid_1's l1: 3.2916\n",
      "[4600]\ttraining's l2: 10.6121\ttraining's l1: 2.50349\tvalid_1's l2: 28.8439\tvalid_1's l1: 3.25427\n",
      "[4800]\ttraining's l2: 10.2028\ttraining's l1: 2.45672\tvalid_1's l2: 28.6147\tvalid_1's l1: 3.23155\n",
      "[5000]\ttraining's l2: 9.85504\ttraining's l1: 2.41584\tvalid_1's l2: 28.4854\tvalid_1's l1: 3.21688\n",
      "Did not meet early stopping. Best iteration is:\n",
      "[5000]\ttraining's l2: 9.85504\ttraining's l1: 2.41584\tvalid_1's l2: 28.4854\tvalid_1's l1: 3.21688\n",
      "processed: 18/594\n",
      "saving...\n",
      "(307511, 912)\n"
     ]
    },
    {
     "name": "stderr",
     "output_type": "stream",
     "text": [
      "\r",
      "18it [27:02, 90.13s/it]"
     ]
    },
    {
     "name": "stdout",
     "output_type": "stream",
     "text": [
      "start processing NAME_FAMILY_STATUS_NAME_EDUCATION_TYPE_DAYS_ID_PUBLISH_min_abs_diff \n",
      "the na is:5.613956295350241e-06\n",
      "(356253, 909)\n",
      "(2, 909)\n",
      "Training until validation scores don't improve for 100 rounds.\n",
      "[200]\ttraining's l2: 132.64\ttraining's l1: 8.56954\tvalid_1's l2: 133.916\tvalid_1's l1: 8.52459\n",
      "[400]\ttraining's l2: 85.8386\ttraining's l1: 7.04678\tvalid_1's l2: 92.5844\tvalid_1's l1: 7.08088\n",
      "[600]\ttraining's l2: 64.8567\ttraining's l1: 6.20082\tvalid_1's l2: 73.8678\tvalid_1's l1: 6.28371\n",
      "[800]\ttraining's l2: 52.5164\ttraining's l1: 5.59945\tvalid_1's l2: 63.2279\tvalid_1's l1: 5.72789\n",
      "[1000]\ttraining's l2: 45.0635\ttraining's l1: 5.214\tvalid_1's l2: 57.2486\tvalid_1's l1: 5.39217\n",
      "[1200]\ttraining's l2: 39.2722\ttraining's l1: 4.87278\tvalid_1's l2: 51.9774\tvalid_1's l1: 5.0823\n",
      "[1400]\ttraining's l2: 35.4246\ttraining's l1: 4.64014\tvalid_1's l2: 48.9015\tvalid_1's l1: 4.89042\n",
      "[1600]\ttraining's l2: 32.2192\ttraining's l1: 4.42352\tvalid_1's l2: 46.3386\tvalid_1's l1: 4.71018\n",
      "[1800]\ttraining's l2: 29.8019\ttraining's l1: 4.26134\tvalid_1's l2: 44.5414\tvalid_1's l1: 4.58911\n",
      "[2000]\ttraining's l2: 27.8848\ttraining's l1: 4.1295\tvalid_1's l2: 43.2713\tvalid_1's l1: 4.50039\n",
      "[2200]\ttraining's l2: 26.4927\ttraining's l1: 4.03413\tvalid_1's l2: 42.553\tvalid_1's l1: 4.45154\n",
      "[2400]\ttraining's l2: 25.0418\ttraining's l1: 3.92154\tvalid_1's l2: 41.5294\tvalid_1's l1: 4.37556\n",
      "[2600]\ttraining's l2: 23.7617\ttraining's l1: 3.82313\tvalid_1's l2: 40.7313\tvalid_1's l1: 4.31575\n",
      "[2800]\ttraining's l2: 22.4553\ttraining's l1: 3.71969\tvalid_1's l2: 39.8164\tvalid_1's l1: 4.24658\n",
      "[3000]\ttraining's l2: 21.2072\ttraining's l1: 3.61617\tvalid_1's l2: 38.9332\tvalid_1's l1: 4.17679\n",
      "[3200]\ttraining's l2: 20.0329\ttraining's l1: 3.51433\tvalid_1's l2: 37.9987\tvalid_1's l1: 4.10201\n",
      "[3400]\ttraining's l2: 19.1315\ttraining's l1: 3.4335\tvalid_1's l2: 37.4381\tvalid_1's l1: 4.05428\n",
      "[3600]\ttraining's l2: 18.331\ttraining's l1: 3.36061\tvalid_1's l2: 36.982\tvalid_1's l1: 4.01375\n",
      "[3800]\ttraining's l2: 17.6929\ttraining's l1: 3.30204\tvalid_1's l2: 36.7055\tvalid_1's l1: 3.9914\n",
      "[4000]\ttraining's l2: 16.9377\ttraining's l1: 3.22766\tvalid_1's l2: 36.2232\tvalid_1's l1: 3.94825\n",
      "[4200]\ttraining's l2: 16.2084\ttraining's l1: 3.15792\tvalid_1's l2: 35.7691\tvalid_1's l1: 3.90771\n",
      "[4400]\ttraining's l2: 15.5294\ttraining's l1: 3.08886\tvalid_1's l2: 35.3166\tvalid_1's l1: 3.86635\n",
      "[4600]\ttraining's l2: 14.881\ttraining's l1: 3.01892\tvalid_1's l2: 34.9052\tvalid_1's l1: 3.82434\n",
      "[4800]\ttraining's l2: 14.2781\ttraining's l1: 2.9561\tvalid_1's l2: 34.5201\tvalid_1's l1: 3.78881\n",
      "[5000]\ttraining's l2: 13.7681\ttraining's l1: 2.90157\tvalid_1's l2: 34.2157\tvalid_1's l1: 3.76133\n",
      "Did not meet early stopping. Best iteration is:\n",
      "[5000]\ttraining's l2: 13.7681\ttraining's l1: 2.90157\tvalid_1's l2: 34.2157\tvalid_1's l1: 3.76133\n",
      "processed: 19/594\n",
      "saving...\n",
      "(307511, 912)\n"
     ]
    },
    {
     "name": "stderr",
     "output_type": "stream",
     "text": [
      "\r",
      "19it [29:04, 91.82s/it]"
     ]
    },
    {
     "name": "stdout",
     "output_type": "stream",
     "text": [
      "start processing income_per_non_child \n",
      "the na is:5.613956295350241e-06\n",
      "(356253, 909)\n",
      "(2, 909)\n",
      "Training until validation scores don't improve for 100 rounds.\n",
      "[200]\ttraining's l2: 6.13636e+09\ttraining's l1: 1544.66\tvalid_1's l2: 1.44119e+08\tvalid_1's l1: 1402.42\n",
      "Early stopping, best iteration is:\n",
      "[228]\ttraining's l2: 5.94074e+09\ttraining's l1: 1513.16\tvalid_1's l2: 1.26929e+08\tvalid_1's l1: 1361.36\n",
      "processed: 20/594\n",
      "saving...\n",
      "(307511, 912)\n"
     ]
    },
    {
     "name": "stderr",
     "output_type": "stream",
     "text": [
      "\r",
      "20it [29:28, 88.45s/it]"
     ]
    },
    {
     "name": "stdout",
     "output_type": "stream",
     "text": [
      "start processing AMT_INCOME_TOTAL_divide_DAYS_EMPLOYED \n",
      "the na is:5.613956295350241e-06\n",
      "(356253, 909)\n",
      "(2, 909)\n",
      "Training until validation scores don't improve for 100 rounds.\n",
      "[200]\ttraining's l2: 62682.4\ttraining's l1: 18.6689\tvalid_1's l2: 38752.3\tvalid_1's l1: 21.7638\n",
      "Early stopping, best iteration is:\n",
      "[126]\ttraining's l2: 95603.5\ttraining's l1: 20.2771\tvalid_1's l2: 36011\tvalid_1's l1: 21.5836\n",
      "processed: 21/594\n",
      "saving...\n",
      "(307511, 912)\n"
     ]
    },
    {
     "name": "stderr",
     "output_type": "stream",
     "text": [
      "\r",
      "21it [29:50, 85.25s/it]"
     ]
    },
    {
     "name": "stdout",
     "output_type": "stream",
     "text": [
      "start processing NAME_FAMILY_STATUS_NAME_EDUCATION_TYPE_DAYS_BIRTH_mean_diff \n",
      "the na is:5.613956295350241e-06\n",
      "(356253, 909)\n",
      "(2, 909)\n",
      "Training until validation scores don't improve for 100 rounds.\n",
      "[200]\ttraining's l2: 5626.72\ttraining's l1: 52.7593\tvalid_1's l2: 6007.16\tvalid_1's l1: 53.6078\n",
      "[400]\ttraining's l2: 3068.09\ttraining's l1: 39.5313\tvalid_1's l2: 3418.83\tvalid_1's l1: 40.5171\n",
      "[600]\ttraining's l2: 2045.1\ttraining's l1: 32.4439\tvalid_1's l2: 2429.63\tvalid_1's l1: 33.5427\n",
      "[800]\ttraining's l2: 1519.64\ttraining's l1: 28.0572\tvalid_1's l2: 1930.8\tvalid_1's l1: 29.2588\n",
      "[1000]\ttraining's l2: 1182.77\ttraining's l1: 24.6444\tvalid_1's l2: 1601.58\tvalid_1's l1: 25.9487\n",
      "[1200]\ttraining's l2: 974.938\ttraining's l1: 22.4444\tvalid_1's l2: 1403.49\tvalid_1's l1: 23.9021\n",
      "[1400]\ttraining's l2: 822.346\ttraining's l1: 20.5731\tvalid_1's l2: 1259.95\tvalid_1's l1: 22.1764\n",
      "[1600]\ttraining's l2: 708.531\ttraining's l1: 19.0433\tvalid_1's l2: 1156.56\tvalid_1's l1: 20.7628\n",
      "[1800]\ttraining's l2: 618.331\ttraining's l1: 17.7675\tvalid_1's l2: 1076.65\tvalid_1's l1: 19.6593\n",
      "[2000]\ttraining's l2: 554.35\ttraining's l1: 16.8482\tvalid_1's l2: 1022.46\tvalid_1's l1: 18.9013\n",
      "[2200]\ttraining's l2: 500.462\ttraining's l1: 16.0343\tvalid_1's l2: 977.957\tvalid_1's l1: 18.2331\n",
      "[2400]\ttraining's l2: 462.146\ttraining's l1: 15.4346\tvalid_1's l2: 952.351\tvalid_1's l1: 17.8076\n",
      "[2600]\ttraining's l2: 418.401\ttraining's l1: 14.678\tvalid_1's l2: 912.868\tvalid_1's l1: 17.1688\n",
      "[2800]\ttraining's l2: 388.444\ttraining's l1: 14.1762\tvalid_1's l2: 891.427\tvalid_1's l1: 16.8116\n",
      "[3000]\ttraining's l2: 357.191\ttraining's l1: 13.6196\tvalid_1's l2: 865.62\tvalid_1's l1: 16.3782\n",
      "[3200]\ttraining's l2: 334.481\ttraining's l1: 13.2148\tvalid_1's l2: 850.274\tvalid_1's l1: 16.1137\n",
      "[3400]\ttraining's l2: 311.055\ttraining's l1: 12.7628\tvalid_1's l2: 829.86\tvalid_1's l1: 15.7724\n",
      "[3600]\ttraining's l2: 288.948\ttraining's l1: 12.3101\tvalid_1's l2: 811.365\tvalid_1's l1: 15.4243\n",
      "[3800]\ttraining's l2: 273.841\ttraining's l1: 12.009\tvalid_1's l2: 801.653\tvalid_1's l1: 15.2529\n",
      "[4000]\ttraining's l2: 259.971\ttraining's l1: 11.716\tvalid_1's l2: 794.106\tvalid_1's l1: 15.0852\n",
      "[4200]\ttraining's l2: 244.437\ttraining's l1: 11.3764\tvalid_1's l2: 783.312\tvalid_1's l1: 14.864\n",
      "[4400]\ttraining's l2: 231.818\ttraining's l1: 11.1011\tvalid_1's l2: 773.985\tvalid_1's l1: 14.6953\n",
      "[4600]\ttraining's l2: 220.854\ttraining's l1: 10.8522\tvalid_1's l2: 767.199\tvalid_1's l1: 14.5547\n",
      "[4800]\ttraining's l2: 210.244\ttraining's l1: 10.5987\tvalid_1's l2: 760.255\tvalid_1's l1: 14.4082\n",
      "[5000]\ttraining's l2: 197.052\ttraining's l1: 10.2626\tvalid_1's l2: 748.314\tvalid_1's l1: 14.1445\n",
      "Did not meet early stopping. Best iteration is:\n",
      "[5000]\ttraining's l2: 197.052\ttraining's l1: 10.2626\tvalid_1's l2: 748.314\tvalid_1's l1: 14.1445\n",
      "processed: 22/594\n",
      "saving...\n",
      "(307511, 912)\n"
     ]
    },
    {
     "name": "stderr",
     "output_type": "stream",
     "text": [
      "\r",
      "22it [31:50, 86.86s/it]"
     ]
    },
    {
     "name": "stdout",
     "output_type": "stream",
     "text": [
      "start processing NAME_FAMILY_STATUS_NAME_EDUCATION_TYPE_DAYS_ID_PUBLISH_min_diff \n",
      "the na is:5.613956295350241e-06\n",
      "(356253, 909)\n",
      "(2, 909)\n",
      "Training until validation scores don't improve for 100 rounds.\n",
      "[200]\ttraining's l2: 158.021\ttraining's l1: 9.30669\tvalid_1's l2: 160.015\tvalid_1's l1: 9.29926\n",
      "[400]\ttraining's l2: 97.5375\ttraining's l1: 7.46921\tvalid_1's l2: 104.828\tvalid_1's l1: 7.53619\n",
      "[600]\ttraining's l2: 73.3314\ttraining's l1: 6.52102\tvalid_1's l2: 83.8338\tvalid_1's l1: 6.65577\n",
      "[800]\ttraining's l2: 58.2362\ttraining's l1: 5.82052\tvalid_1's l2: 69.9055\tvalid_1's l1: 5.99819\n",
      "[1000]\ttraining's l2: 48.602\ttraining's l1: 5.33748\tvalid_1's l2: 61.3145\tvalid_1's l1: 5.56236\n",
      "[1200]\ttraining's l2: 42.2455\ttraining's l1: 4.99519\tvalid_1's l2: 55.7074\tvalid_1's l1: 5.25476\n",
      "[1400]\ttraining's l2: 37.3982\ttraining's l1: 4.71864\tvalid_1's l2: 51.3919\tvalid_1's l1: 5.01729\n",
      "[1600]\ttraining's l2: 33.7012\ttraining's l1: 4.49345\tvalid_1's l2: 48.2348\tvalid_1's l1: 4.83079\n",
      "[1800]\ttraining's l2: 31.2967\ttraining's l1: 4.33379\tvalid_1's l2: 46.3355\tvalid_1's l1: 4.70993\n",
      "[2000]\ttraining's l2: 29.1567\ttraining's l1: 4.18345\tvalid_1's l2: 44.7177\tvalid_1's l1: 4.59732\n",
      "[2200]\ttraining's l2: 27.2704\ttraining's l1: 4.0538\tvalid_1's l2: 43.3746\tvalid_1's l1: 4.50698\n",
      "[2400]\ttraining's l2: 25.4552\ttraining's l1: 3.9224\tvalid_1's l2: 41.9759\tvalid_1's l1: 4.41044\n",
      "[2600]\ttraining's l2: 23.9006\ttraining's l1: 3.80378\tvalid_1's l2: 40.8322\tvalid_1's l1: 4.32889\n",
      "[2800]\ttraining's l2: 22.6434\ttraining's l1: 3.70341\tvalid_1's l2: 39.9512\tvalid_1's l1: 4.26242\n",
      "[3000]\ttraining's l2: 21.6231\ttraining's l1: 3.6198\tvalid_1's l2: 39.3522\tvalid_1's l1: 4.21603\n",
      "[3200]\ttraining's l2: 20.6667\ttraining's l1: 3.54136\tvalid_1's l2: 38.8099\tvalid_1's l1: 4.17363\n",
      "[3400]\ttraining's l2: 19.7122\ttraining's l1: 3.45754\tvalid_1's l2: 38.2245\tvalid_1's l1: 4.12454\n",
      "[3600]\ttraining's l2: 18.6469\ttraining's l1: 3.36506\tvalid_1's l2: 37.4198\tvalid_1's l1: 4.06054\n",
      "[3800]\ttraining's l2: 17.8707\ttraining's l1: 3.29507\tvalid_1's l2: 36.9653\tvalid_1's l1: 4.02234\n",
      "[4000]\ttraining's l2: 17.0239\ttraining's l1: 3.21538\tvalid_1's l2: 36.3805\tvalid_1's l1: 3.97241\n",
      "[4200]\ttraining's l2: 16.3123\ttraining's l1: 3.14748\tvalid_1's l2: 35.9453\tvalid_1's l1: 3.93771\n",
      "[4400]\ttraining's l2: 15.6429\ttraining's l1: 3.08306\tvalid_1's l2: 35.5785\tvalid_1's l1: 3.90415\n",
      "[4600]\ttraining's l2: 14.9556\ttraining's l1: 3.01437\tvalid_1's l2: 35.0968\tvalid_1's l1: 3.86222\n",
      "[4800]\ttraining's l2: 14.4377\ttraining's l1: 2.96121\tvalid_1's l2: 34.8302\tvalid_1's l1: 3.83905\n",
      "[5000]\ttraining's l2: 13.9787\ttraining's l1: 2.91353\tvalid_1's l2: 34.6594\tvalid_1's l1: 3.8237\n",
      "Did not meet early stopping. Best iteration is:\n",
      "[5000]\ttraining's l2: 13.9787\ttraining's l1: 2.91353\tvalid_1's l2: 34.6594\tvalid_1's l1: 3.8237\n",
      "processed: 23/594\n",
      "saving...\n",
      "(307511, 912)\n"
     ]
    },
    {
     "name": "stderr",
     "output_type": "stream",
     "text": [
      "\r",
      "23it [33:52, 88.36s/it]"
     ]
    },
    {
     "name": "stdout",
     "output_type": "stream",
     "text": [
      "start processing NAME_FAMILY_STATUS_NAME_EDUCATION_TYPE_DAYS_REGISTRATION_mean_diff \n",
      "the na is:5.613956295350241e-06\n",
      "(356253, 909)\n",
      "(2, 909)\n",
      "Training until validation scores don't improve for 100 rounds.\n",
      "[200]\ttraining's l2: 3272.55\ttraining's l1: 35.7594\tvalid_1's l2: 3709.11\tvalid_1's l1: 36.2657\n",
      "[400]\ttraining's l2: 1816.48\ttraining's l1: 28.4989\tvalid_1's l2: 2683.94\tvalid_1's l1: 29.5453\n",
      "[600]\ttraining's l2: 1215.01\ttraining's l1: 24.2901\tvalid_1's l2: 2323.82\tvalid_1's l1: 25.7736\n",
      "[800]\ttraining's l2: 918.652\ttraining's l1: 21.3061\tvalid_1's l2: 2061.84\tvalid_1's l1: 23.0213\n",
      "[1000]\ttraining's l2: 732.843\ttraining's l1: 19.2655\tvalid_1's l2: 1924\tvalid_1's l1: 21.2283\n",
      "[1200]\ttraining's l2: 609.716\ttraining's l1: 17.6064\tvalid_1's l2: 1821.68\tvalid_1's l1: 19.7301\n",
      "[1400]\ttraining's l2: 528.573\ttraining's l1: 16.5406\tvalid_1's l2: 1763.42\tvalid_1's l1: 18.8577\n",
      "[1600]\ttraining's l2: 464.452\ttraining's l1: 15.5729\tvalid_1's l2: 1722.42\tvalid_1's l1: 18.0672\n",
      "[1800]\ttraining's l2: 414.292\ttraining's l1: 14.8001\tvalid_1's l2: 1682.22\tvalid_1's l1: 17.4532\n",
      "[2000]\ttraining's l2: 375.213\ttraining's l1: 14.1244\tvalid_1's l2: 1657.68\tvalid_1's l1: 16.939\n",
      "[2200]\ttraining's l2: 340.626\ttraining's l1: 13.4546\tvalid_1's l2: 1632.33\tvalid_1's l1: 16.4014\n",
      "[2400]\ttraining's l2: 309.97\ttraining's l1: 12.8851\tvalid_1's l2: 1611.7\tvalid_1's l1: 15.9567\n",
      "[2600]\ttraining's l2: 289.196\ttraining's l1: 12.5181\tvalid_1's l2: 1601.46\tvalid_1's l1: 15.7533\n",
      "[2800]\ttraining's l2: 267.335\ttraining's l1: 12.073\tvalid_1's l2: 1586.1\tvalid_1's l1: 15.4359\n",
      "[3000]\ttraining's l2: 250.577\ttraining's l1: 11.7414\tvalid_1's l2: 1576.62\tvalid_1's l1: 15.2364\n",
      "[3200]\ttraining's l2: 235.097\ttraining's l1: 11.3977\tvalid_1's l2: 1567.43\tvalid_1's l1: 15.0072\n",
      "[3400]\ttraining's l2: 221.554\ttraining's l1: 11.0915\tvalid_1's l2: 1557.17\tvalid_1's l1: 14.8285\n",
      "[3600]\ttraining's l2: 209.084\ttraining's l1: 10.8064\tvalid_1's l2: 1550.72\tvalid_1's l1: 14.6623\n",
      "[3800]\ttraining's l2: 198.972\ttraining's l1: 10.5633\tvalid_1's l2: 1544.59\tvalid_1's l1: 14.5316\n",
      "[4000]\ttraining's l2: 190.267\ttraining's l1: 10.36\tvalid_1's l2: 1540.56\tvalid_1's l1: 14.4526\n",
      "[4200]\ttraining's l2: 180.084\ttraining's l1: 10.0931\tvalid_1's l2: 1534.37\tvalid_1's l1: 14.2863\n",
      "[4400]\ttraining's l2: 171.47\ttraining's l1: 9.85031\tvalid_1's l2: 1529.64\tvalid_1's l1: 14.1353\n",
      "[4600]\ttraining's l2: 164.589\ttraining's l1: 9.6709\tvalid_1's l2: 1526.91\tvalid_1's l1: 14.0643\n",
      "[4800]\ttraining's l2: 158.407\ttraining's l1: 9.49636\tvalid_1's l2: 1523.34\tvalid_1's l1: 13.9879\n",
      "[5000]\ttraining's l2: 152.29\ttraining's l1: 9.32758\tvalid_1's l2: 1520.14\tvalid_1's l1: 13.9145\n",
      "Did not meet early stopping. Best iteration is:\n",
      "[5000]\ttraining's l2: 152.29\ttraining's l1: 9.32758\tvalid_1's l2: 1520.14\tvalid_1's l1: 13.9145\n",
      "processed: 24/594\n",
      "saving...\n",
      "(307511, 912)\n"
     ]
    },
    {
     "name": "stderr",
     "output_type": "stream",
     "text": [
      "\r",
      "24it [35:53, 89.72s/it]"
     ]
    },
    {
     "name": "stdout",
     "output_type": "stream",
     "text": [
      "start processing NAME_FAMILY_STATUS_NAME_EDUCATION_TYPE_DAYS_REGISTRATION_min_abs_diff \n",
      "the na is:5.613956295350241e-06\n",
      "(356253, 909)\n",
      "(2, 909)\n",
      "Training until validation scores don't improve for 100 rounds.\n",
      "[200]\ttraining's l2: 3222.49\ttraining's l1: 34.2641\tvalid_1's l2: 4285.72\tvalid_1's l1: 34.6902\n",
      "[400]\ttraining's l2: 1665.77\ttraining's l1: 26.884\tvalid_1's l2: 3434.2\tvalid_1's l1: 28.1292\n",
      "[600]\ttraining's l2: 1150.12\ttraining's l1: 23.1778\tvalid_1's l2: 3072.25\tvalid_1's l1: 24.923\n",
      "[800]\ttraining's l2: 877.436\ttraining's l1: 20.4936\tvalid_1's l2: 2861.51\tvalid_1's l1: 22.5595\n",
      "[1000]\ttraining's l2: 700.418\ttraining's l1: 18.4776\tvalid_1's l2: 2719.12\tvalid_1's l1: 20.7858\n",
      "[1200]\ttraining's l2: 588.876\ttraining's l1: 17.1609\tvalid_1's l2: 2646.95\tvalid_1's l1: 19.7344\n",
      "[1400]\ttraining's l2: 510.654\ttraining's l1: 16.0698\tvalid_1's l2: 2592.74\tvalid_1's l1: 18.8881\n",
      "[1600]\ttraining's l2: 456.314\ttraining's l1: 15.2557\tvalid_1's l2: 2555.2\tvalid_1's l1: 18.2531\n",
      "[1800]\ttraining's l2: 411.46\ttraining's l1: 14.6223\tvalid_1's l2: 2523.96\tvalid_1's l1: 17.8047\n",
      "[2000]\ttraining's l2: 375.077\ttraining's l1: 14.0135\tvalid_1's l2: 2501.76\tvalid_1's l1: 17.3528\n",
      "[2200]\ttraining's l2: 346.843\ttraining's l1: 13.5543\tvalid_1's l2: 2484.7\tvalid_1's l1: 17.0636\n",
      "[2400]\ttraining's l2: 323.1\ttraining's l1: 13.1429\tvalid_1's l2: 2471.19\tvalid_1's l1: 16.811\n",
      "[2600]\ttraining's l2: 302.938\ttraining's l1: 12.7747\tvalid_1's l2: 2464.99\tvalid_1's l1: 16.5902\n",
      "[2800]\ttraining's l2: 287.181\ttraining's l1: 12.5032\tvalid_1's l2: 2457.84\tvalid_1's l1: 16.4705\n",
      "[3000]\ttraining's l2: 269.895\ttraining's l1: 12.1746\tvalid_1's l2: 2447.27\tvalid_1's l1: 16.2775\n",
      "[3200]\ttraining's l2: 254.863\ttraining's l1: 11.8943\tvalid_1's l2: 2439.68\tvalid_1's l1: 16.1393\n",
      "[3400]\ttraining's l2: 242.182\ttraining's l1: 11.635\tvalid_1's l2: 2431.44\tvalid_1's l1: 16.0167\n",
      "[3600]\ttraining's l2: 229.795\ttraining's l1: 11.3584\tvalid_1's l2: 2425\tvalid_1's l1: 15.8763\n",
      "[3800]\ttraining's l2: 218.624\ttraining's l1: 11.1021\tvalid_1's l2: 2419.2\tvalid_1's l1: 15.7456\n",
      "[4000]\ttraining's l2: 207.809\ttraining's l1: 10.8529\tvalid_1's l2: 2414.54\tvalid_1's l1: 15.6104\n",
      "[4200]\ttraining's l2: 198.029\ttraining's l1: 10.6264\tvalid_1's l2: 2409.6\tvalid_1's l1: 15.5054\n",
      "[4400]\ttraining's l2: 189.548\ttraining's l1: 10.4235\tvalid_1's l2: 2407.47\tvalid_1's l1: 15.4153\n",
      "[4600]\ttraining's l2: 181.918\ttraining's l1: 10.2433\tvalid_1's l2: 2403.51\tvalid_1's l1: 15.355\n",
      "[4800]\ttraining's l2: 175.681\ttraining's l1: 10.0822\tvalid_1's l2: 2402.46\tvalid_1's l1: 15.3068\n",
      "[5000]\ttraining's l2: 169.318\ttraining's l1: 9.9129\tvalid_1's l2: 2399.85\tvalid_1's l1: 15.2549\n",
      "Did not meet early stopping. Best iteration is:\n",
      "[5000]\ttraining's l2: 169.318\ttraining's l1: 9.9129\tvalid_1's l2: 2399.85\tvalid_1's l1: 15.2549\n",
      "processed: 25/594\n",
      "saving...\n",
      "(307511, 912)\n"
     ]
    },
    {
     "name": "stderr",
     "output_type": "stream",
     "text": [
      "\r",
      "25it [37:51, 90.87s/it]"
     ]
    },
    {
     "name": "stdout",
     "output_type": "stream",
     "text": [
      "start processing DAYS_LAST_PHONE_CHANGE_divide_DAYS_EMPLOYED \n",
      "the na is:8.42093444302536e-06\n",
      "(356252, 909)\n",
      "(3, 909)\n",
      "Training until validation scores don't improve for 100 rounds.\n",
      "Early stopping, best iteration is:\n",
      "[23]\ttraining's l2: 18.9481\ttraining's l1: 0.208732\tvalid_1's l2: 1.42869\tvalid_1's l1: 0.202973\n",
      "processed: 26/594\n",
      "saving...\n",
      "(307511, 912)\n"
     ]
    },
    {
     "name": "stderr",
     "output_type": "stream",
     "text": [
      "\r",
      "26it [38:10, 88.10s/it]"
     ]
    },
    {
     "name": "stdout",
     "output_type": "stream",
     "text": [
      "start processing NAME_EDUCATION_TYPE_CODE_GENDER_DAYS_BIRTH_max_abs_diff \n",
      "the na is:1.1227912590700482e-05\n",
      "(356251, 909)\n",
      "(4, 909)\n",
      "Training until validation scores don't improve for 100 rounds.\n",
      "[200]\ttraining's l2: 435.725\ttraining's l1: 16.7076\tvalid_1's l2: 432.981\tvalid_1's l1: 16.6668\n",
      "[400]\ttraining's l2: 304.023\ttraining's l1: 14.0054\tvalid_1's l2: 306.807\tvalid_1's l1: 14.0253\n",
      "[600]\ttraining's l2: 233.66\ttraining's l1: 12.3013\tvalid_1's l2: 241.454\tvalid_1's l1: 12.4016\n",
      "[800]\ttraining's l2: 199.257\ttraining's l1: 11.3527\tvalid_1's l2: 210.745\tvalid_1's l1: 11.5349\n",
      "[1000]\ttraining's l2: 174.284\ttraining's l1: 10.5969\tvalid_1's l2: 188.645\tvalid_1's l1: 10.8571\n",
      "[1200]\ttraining's l2: 154.576\ttraining's l1: 9.97893\tvalid_1's l2: 171.667\tvalid_1's l1: 10.3143\n",
      "[1400]\ttraining's l2: 143.216\ttraining's l1: 9.60058\tvalid_1's l2: 163.181\tvalid_1's l1: 10.0275\n",
      "[1600]\ttraining's l2: 131.158\ttraining's l1: 9.17356\tvalid_1's l2: 153.44\tvalid_1's l1: 9.67875\n",
      "[1800]\ttraining's l2: 120.383\ttraining's l1: 8.77598\tvalid_1's l2: 144.47\tvalid_1's l1: 9.34876\n",
      "[2000]\ttraining's l2: 110.49\ttraining's l1: 8.39772\tvalid_1's l2: 136.496\tvalid_1's l1: 9.04569\n",
      "[2200]\ttraining's l2: 103.78\ttraining's l1: 8.12955\tvalid_1's l2: 131.475\tvalid_1's l1: 8.84923\n",
      "[2400]\ttraining's l2: 96.1231\ttraining's l1: 7.81838\tvalid_1's l2: 125.176\tvalid_1's l1: 8.59999\n",
      "[2600]\ttraining's l2: 91.1017\ttraining's l1: 7.60506\tvalid_1's l2: 121.812\tvalid_1's l1: 8.45788\n",
      "[2800]\ttraining's l2: 86.6716\ttraining's l1: 7.41091\tvalid_1's l2: 118.981\tvalid_1's l1: 8.33951\n",
      "[3000]\ttraining's l2: 81.2964\ttraining's l1: 7.16976\tvalid_1's l2: 114.585\tvalid_1's l1: 8.15501\n",
      "[3200]\ttraining's l2: 78.0294\ttraining's l1: 7.0233\tvalid_1's l2: 112.715\tvalid_1's l1: 8.07657\n",
      "[3400]\ttraining's l2: 73.772\ttraining's l1: 6.82021\tvalid_1's l2: 109.489\tvalid_1's l1: 7.93289\n",
      "[3600]\ttraining's l2: 69.9007\ttraining's l1: 6.6365\tvalid_1's l2: 106.536\tvalid_1's l1: 7.80477\n",
      "[3800]\ttraining's l2: 66.1176\ttraining's l1: 6.44749\tvalid_1's l2: 103.519\tvalid_1's l1: 7.66854\n",
      "[4000]\ttraining's l2: 63.2588\ttraining's l1: 6.30138\tvalid_1's l2: 101.7\tvalid_1's l1: 7.58444\n",
      "[4200]\ttraining's l2: 60.9235\ttraining's l1: 6.17953\tvalid_1's l2: 100.496\tvalid_1's l1: 7.52568\n",
      "[4400]\ttraining's l2: 59.1113\ttraining's l1: 6.08503\tvalid_1's l2: 99.8665\tvalid_1's l1: 7.50066\n",
      "[4600]\ttraining's l2: 56.5766\ttraining's l1: 5.94526\tvalid_1's l2: 98.0913\tvalid_1's l1: 7.4131\n",
      "[4800]\ttraining's l2: 54.4974\ttraining's l1: 5.83232\tvalid_1's l2: 96.9174\tvalid_1's l1: 7.35852\n",
      "[5000]\ttraining's l2: 52.6881\ttraining's l1: 5.731\tvalid_1's l2: 96.0281\tvalid_1's l1: 7.31487\n",
      "Did not meet early stopping. Best iteration is:\n",
      "[5000]\ttraining's l2: 52.6881\ttraining's l1: 5.731\tvalid_1's l2: 96.0281\tvalid_1's l1: 7.31487\n",
      "processed: 27/594\n",
      "saving...\n",
      "(307511, 912)\n"
     ]
    },
    {
     "name": "stderr",
     "output_type": "stream",
     "text": [
      "\r",
      "27it [40:14, 89.41s/it]"
     ]
    },
    {
     "name": "stdout",
     "output_type": "stream",
     "text": [
      "start processing NAME_EDUCATION_TYPE_CODE_GENDER_DAYS_BIRTH_max_diff \n",
      "the na is:1.1227912590700482e-05\n",
      "(356251, 909)\n",
      "(4, 909)\n",
      "Training until validation scores don't improve for 100 rounds.\n",
      "[200]\ttraining's l2: 457.797\ttraining's l1: 17.1407\tvalid_1's l2: 453.532\tvalid_1's l1: 17.052\n",
      "[400]\ttraining's l2: 317.584\ttraining's l1: 14.3257\tvalid_1's l2: 321.356\tvalid_1's l1: 14.323\n",
      "[600]\ttraining's l2: 255.307\ttraining's l1: 12.9009\tvalid_1's l2: 264.117\tvalid_1's l1: 12.977\n",
      "[800]\ttraining's l2: 213.2\ttraining's l1: 11.8019\tvalid_1's l2: 225.699\tvalid_1's l1: 11.9604\n",
      "[1000]\ttraining's l2: 189.173\ttraining's l1: 11.1294\tvalid_1's l2: 205.7\tvalid_1's l1: 11.3933\n",
      "[1200]\ttraining's l2: 167.344\ttraining's l1: 10.4581\tvalid_1's l2: 186.908\tvalid_1's l1: 10.8143\n",
      "[1400]\ttraining's l2: 150.84\ttraining's l1: 9.93134\tvalid_1's l2: 173.149\tvalid_1's l1: 10.3758\n",
      "[1600]\ttraining's l2: 136.531\ttraining's l1: 9.43192\tvalid_1's l2: 160.74\tvalid_1's l1: 9.94934\n",
      "[1800]\ttraining's l2: 124.787\ttraining's l1: 9.00923\tvalid_1's l2: 150.676\tvalid_1's l1: 9.5972\n",
      "[2000]\ttraining's l2: 118.05\ttraining's l1: 8.75359\tvalid_1's l2: 146.559\tvalid_1's l1: 9.43459\n",
      "[2200]\ttraining's l2: 110.609\ttraining's l1: 8.46544\tvalid_1's l2: 140.937\tvalid_1's l1: 9.21743\n",
      "[2400]\ttraining's l2: 104.277\ttraining's l1: 8.2101\tvalid_1's l2: 136.34\tvalid_1's l1: 9.03667\n",
      "[2600]\ttraining's l2: 96.9173\ttraining's l1: 7.90219\tvalid_1's l2: 130.319\tvalid_1's l1: 8.79427\n",
      "[2800]\ttraining's l2: 91.7299\ttraining's l1: 7.68767\tvalid_1's l2: 126.629\tvalid_1's l1: 8.6524\n",
      "[3000]\ttraining's l2: 87.013\ttraining's l1: 7.47954\tvalid_1's l2: 123.34\tvalid_1's l1: 8.51324\n",
      "[3200]\ttraining's l2: 82.2626\ttraining's l1: 7.26498\tvalid_1's l2: 119.678\tvalid_1's l1: 8.36012\n",
      "[3400]\ttraining's l2: 77.9671\ttraining's l1: 7.06738\tvalid_1's l2: 116.476\tvalid_1's l1: 8.22398\n",
      "[3600]\ttraining's l2: 74.9167\ttraining's l1: 6.92321\tvalid_1's l2: 114.741\tvalid_1's l1: 8.15031\n",
      "[3800]\ttraining's l2: 71.2463\ttraining's l1: 6.74535\tvalid_1's l2: 112.113\tvalid_1's l1: 8.03461\n",
      "[4000]\ttraining's l2: 68.1473\ttraining's l1: 6.58776\tvalid_1's l2: 110.06\tvalid_1's l1: 7.93943\n",
      "[4200]\ttraining's l2: 65.645\ttraining's l1: 6.45924\tvalid_1's l2: 108.775\tvalid_1's l1: 7.87845\n",
      "[4400]\ttraining's l2: 63.16\ttraining's l1: 6.32951\tvalid_1's l2: 107.265\tvalid_1's l1: 7.80885\n",
      "[4600]\ttraining's l2: 60.4362\ttraining's l1: 6.18732\tvalid_1's l2: 105.372\tvalid_1's l1: 7.72389\n",
      "[4800]\ttraining's l2: 57.9329\ttraining's l1: 6.0496\tvalid_1's l2: 103.772\tvalid_1's l1: 7.64628\n",
      "[5000]\ttraining's l2: 55.4814\ttraining's l1: 5.91683\tvalid_1's l2: 102.14\tvalid_1's l1: 7.57017\n",
      "Did not meet early stopping. Best iteration is:\n",
      "[5000]\ttraining's l2: 55.4814\ttraining's l1: 5.91683\tvalid_1's l2: 102.14\tvalid_1's l1: 7.57017\n",
      "processed: 28/594\n",
      "saving...\n",
      "(307511, 912)\n"
     ]
    },
    {
     "name": "stderr",
     "output_type": "stream",
     "text": [
      "\r",
      "28it [42:18, 90.65s/it]"
     ]
    },
    {
     "name": "stdout",
     "output_type": "stream",
     "text": [
      "start processing NAME_EDUCATION_TYPE_CODE_GENDER_DAYS_BIRTH_mean_diff \n",
      "the na is:1.1227912590700482e-05\n",
      "(356251, 909)\n",
      "(4, 909)\n",
      "Training until validation scores don't improve for 100 rounds.\n",
      "[200]\ttraining's l2: 3564.76\ttraining's l1: 43.2192\tvalid_1's l2: 3773.17\tvalid_1's l1: 43.2761\n",
      "[400]\ttraining's l2: 1922.6\ttraining's l1: 31.8413\tvalid_1's l2: 2190.99\tvalid_1's l1: 32.2407\n",
      "[600]\ttraining's l2: 1312.8\ttraining's l1: 26.1654\tvalid_1's l2: 1629.73\tvalid_1's l1: 26.7945\n",
      "[800]\ttraining's l2: 997.804\ttraining's l1: 22.6883\tvalid_1's l2: 1341.93\tvalid_1's l1: 23.4991\n",
      "[1000]\ttraining's l2: 788.351\ttraining's l1: 20.19\tvalid_1's l2: 1158.65\tvalid_1's l1: 21.1863\n",
      "[1200]\ttraining's l2: 656.845\ttraining's l1: 18.4792\tvalid_1's l2: 1045.09\tvalid_1's l1: 19.638\n",
      "[1400]\ttraining's l2: 553.528\ttraining's l1: 16.972\tvalid_1's l2: 955.017\tvalid_1's l1: 18.278\n",
      "[1600]\ttraining's l2: 477.404\ttraining's l1: 15.7371\tvalid_1's l2: 890.275\tvalid_1's l1: 17.1812\n",
      "[1800]\ttraining's l2: 423.269\ttraining's l1: 14.8301\tvalid_1's l2: 844.834\tvalid_1's l1: 16.3923\n",
      "[2000]\ttraining's l2: 382.677\ttraining's l1: 14.1265\tvalid_1's l2: 813.476\tvalid_1's l1: 15.8354\n",
      "[2200]\ttraining's l2: 334.232\ttraining's l1: 13.215\tvalid_1's l2: 768.285\tvalid_1's l1: 15.0241\n",
      "[2400]\ttraining's l2: 304.785\ttraining's l1: 12.6347\tvalid_1's l2: 744.049\tvalid_1's l1: 14.5529\n",
      "[2600]\ttraining's l2: 280.525\ttraining's l1: 12.1456\tvalid_1's l2: 725.83\tvalid_1's l1: 14.1828\n",
      "[2800]\ttraining's l2: 260.36\ttraining's l1: 11.7283\tvalid_1's l2: 711.768\tvalid_1's l1: 13.8771\n",
      "[3000]\ttraining's l2: 239.456\ttraining's l1: 11.2785\tvalid_1's l2: 693.984\tvalid_1's l1: 13.5313\n",
      "[3200]\ttraining's l2: 222.727\ttraining's l1: 10.9006\tvalid_1's l2: 680.207\tvalid_1's l1: 13.2505\n",
      "[3400]\ttraining's l2: 210.107\ttraining's l1: 10.6081\tvalid_1's l2: 671.789\tvalid_1's l1: 13.0651\n",
      "[3600]\ttraining's l2: 197.031\ttraining's l1: 10.3008\tvalid_1's l2: 663.123\tvalid_1's l1: 12.8703\n",
      "[3800]\ttraining's l2: 184.605\ttraining's l1: 9.98907\tvalid_1's l2: 653.095\tvalid_1's l1: 12.654\n",
      "[4000]\ttraining's l2: 174.681\ttraining's l1: 9.72858\tvalid_1's l2: 645.905\tvalid_1's l1: 12.4904\n",
      "[4200]\ttraining's l2: 162.853\ttraining's l1: 9.41635\tvalid_1's l2: 634.245\tvalid_1's l1: 12.2613\n",
      "[4400]\ttraining's l2: 155.706\ttraining's l1: 9.22602\tvalid_1's l2: 630.311\tvalid_1's l1: 12.1673\n",
      "[4600]\ttraining's l2: 146.426\ttraining's l1: 8.95878\tvalid_1's l2: 621.832\tvalid_1's l1: 11.9798\n",
      "[4800]\ttraining's l2: 139.619\ttraining's l1: 8.75832\tvalid_1's l2: 617.814\tvalid_1's l1: 11.8631\n",
      "[5000]\ttraining's l2: 132.578\ttraining's l1: 8.53714\tvalid_1's l2: 612.53\tvalid_1's l1: 11.7139\n",
      "Did not meet early stopping. Best iteration is:\n",
      "[5000]\ttraining's l2: 132.578\ttraining's l1: 8.53714\tvalid_1's l2: 612.53\tvalid_1's l1: 11.7139\n",
      "processed: 29/594\n",
      "saving...\n",
      "(307511, 912)\n"
     ]
    },
    {
     "name": "stderr",
     "output_type": "stream",
     "text": [
      "\r",
      "29it [44:20, 91.75s/it]"
     ]
    },
    {
     "name": "stdout",
     "output_type": "stream",
     "text": [
      "start processing NAME_EDUCATION_TYPE_CODE_GENDER_DAYS_BIRTH_min_abs_diff \n",
      "the na is:1.1227912590700482e-05\n",
      "(356251, 909)\n",
      "(4, 909)\n",
      "Training until validation scores don't improve for 100 rounds.\n",
      "[200]\ttraining's l2: 495.172\ttraining's l1: 17.4634\tvalid_1's l2: 512.4\tvalid_1's l1: 17.6366\n",
      "[400]\ttraining's l2: 346.005\ttraining's l1: 14.7324\tvalid_1's l2: 369.486\tvalid_1's l1: 14.9959\n",
      "[600]\ttraining's l2: 272.037\ttraining's l1: 13.072\tvalid_1's l2: 300.043\tvalid_1's l1: 13.4252\n",
      "[800]\ttraining's l2: 216.012\ttraining's l1: 11.6306\tvalid_1's l2: 245.99\tvalid_1's l1: 12.0419\n",
      "[1000]\ttraining's l2: 183.143\ttraining's l1: 10.7029\tvalid_1's l2: 216.292\tvalid_1's l1: 11.1954\n",
      "[1200]\ttraining's l2: 161.3\ttraining's l1: 10.0306\tvalid_1's l2: 196.952\tvalid_1's l1: 10.5979\n",
      "[1400]\ttraining's l2: 141.523\ttraining's l1: 9.39905\tvalid_1's l2: 179.189\tvalid_1's l1: 10.0383\n",
      "[1600]\ttraining's l2: 128.103\ttraining's l1: 8.93056\tvalid_1's l2: 167.208\tvalid_1's l1: 9.63024\n",
      "[1800]\ttraining's l2: 119.226\ttraining's l1: 8.61359\tvalid_1's l2: 160.47\tvalid_1's l1: 9.39707\n",
      "[2000]\ttraining's l2: 107.943\ttraining's l1: 8.19862\tvalid_1's l2: 150.217\tvalid_1's l1: 9.04186\n",
      "[2200]\ttraining's l2: 99.193\ttraining's l1: 7.85488\tvalid_1's l2: 142.84\tvalid_1's l1: 8.76433\n",
      "[2400]\ttraining's l2: 91.6647\ttraining's l1: 7.55108\tvalid_1's l2: 136.338\tvalid_1's l1: 8.51929\n",
      "[2600]\ttraining's l2: 85.9697\ttraining's l1: 7.31351\tvalid_1's l2: 131.789\tvalid_1's l1: 8.34249\n",
      "[2800]\ttraining's l2: 79.8855\ttraining's l1: 7.05289\tvalid_1's l2: 126.788\tvalid_1's l1: 8.14253\n",
      "[3000]\ttraining's l2: 73.4694\ttraining's l1: 6.75672\tvalid_1's l2: 120.852\tvalid_1's l1: 7.89712\n",
      "[3200]\ttraining's l2: 68.7474\ttraining's l1: 6.53462\tvalid_1's l2: 116.96\tvalid_1's l1: 7.72995\n",
      "[3400]\ttraining's l2: 65.0594\ttraining's l1: 6.35381\tvalid_1's l2: 113.993\tvalid_1's l1: 7.60074\n",
      "[3600]\ttraining's l2: 61.5923\ttraining's l1: 6.17567\tvalid_1's l2: 111.307\tvalid_1's l1: 7.47738\n",
      "[3800]\ttraining's l2: 59.0185\ttraining's l1: 6.04508\tvalid_1's l2: 109.789\tvalid_1's l1: 7.40719\n",
      "[4000]\ttraining's l2: 55.8561\ttraining's l1: 5.87459\tvalid_1's l2: 107.435\tvalid_1's l1: 7.2929\n",
      "[4200]\ttraining's l2: 53.4895\ttraining's l1: 5.74394\tvalid_1's l2: 105.786\tvalid_1's l1: 7.21241\n",
      "[4400]\ttraining's l2: 50.5949\ttraining's l1: 5.58022\tvalid_1's l2: 103.247\tvalid_1's l1: 7.09184\n",
      "[4600]\ttraining's l2: 47.9412\ttraining's l1: 5.43018\tvalid_1's l2: 101.034\tvalid_1's l1: 6.98725\n",
      "[4800]\ttraining's l2: 46.0633\ttraining's l1: 5.32168\tvalid_1's l2: 99.9196\tvalid_1's l1: 6.93268\n",
      "[5000]\ttraining's l2: 44.1648\ttraining's l1: 5.20827\tvalid_1's l2: 98.4952\tvalid_1's l1: 6.86577\n",
      "Did not meet early stopping. Best iteration is:\n",
      "[5000]\ttraining's l2: 44.1648\ttraining's l1: 5.20827\tvalid_1's l2: 98.4952\tvalid_1's l1: 6.86577\n",
      "processed: 30/594\n",
      "saving...\n",
      "(307511, 912)\n"
     ]
    },
    {
     "name": "stderr",
     "output_type": "stream",
     "text": [
      "\r",
      "30it [46:21, 92.73s/it]"
     ]
    },
    {
     "name": "stdout",
     "output_type": "stream",
     "text": [
      "start processing NAME_EDUCATION_TYPE_CODE_GENDER_DAYS_BIRTH_min_diff \n",
      "the na is:1.1227912590700482e-05\n",
      "(356251, 909)\n",
      "(4, 909)\n",
      "Training until validation scores don't improve for 100 rounds.\n",
      "[200]\ttraining's l2: 456.853\ttraining's l1: 16.8573\tvalid_1's l2: 470.385\tvalid_1's l1: 17.0427\n",
      "[400]\ttraining's l2: 329.267\ttraining's l1: 14.4866\tvalid_1's l2: 347.932\tvalid_1's l1: 14.7407\n",
      "[600]\ttraining's l2: 256.057\ttraining's l1: 12.8283\tvalid_1's l2: 278.665\tvalid_1's l1: 13.1708\n",
      "[800]\ttraining's l2: 216.682\ttraining's l1: 11.8168\tvalid_1's l2: 242.38\tvalid_1's l1: 12.2385\n",
      "[1000]\ttraining's l2: 186.407\ttraining's l1: 10.9692\tvalid_1's l2: 214.813\tvalid_1's l1: 11.4658\n",
      "[1200]\ttraining's l2: 165.408\ttraining's l1: 10.3321\tvalid_1's l2: 196.691\tvalid_1's l1: 10.9235\n",
      "[1400]\ttraining's l2: 146.394\ttraining's l1: 9.70213\tvalid_1's l2: 179.108\tvalid_1's l1: 10.3582\n",
      "[1600]\ttraining's l2: 132.733\ttraining's l1: 9.24263\tvalid_1's l2: 167.518\tvalid_1's l1: 9.96746\n",
      "[1800]\ttraining's l2: 120.948\ttraining's l1: 8.80643\tvalid_1's l2: 156.852\tvalid_1's l1: 9.59304\n",
      "[2000]\ttraining's l2: 110.636\ttraining's l1: 8.41899\tvalid_1's l2: 147.837\tvalid_1's l1: 9.26862\n",
      "[2200]\ttraining's l2: 101.166\ttraining's l1: 8.03848\tvalid_1's l2: 139.56\tvalid_1's l1: 8.9495\n",
      "[2400]\ttraining's l2: 94.2283\ttraining's l1: 7.75769\tvalid_1's l2: 133.861\tvalid_1's l1: 8.7329\n",
      "[2600]\ttraining's l2: 87.4759\ttraining's l1: 7.46428\tvalid_1's l2: 128.051\tvalid_1's l1: 8.49813\n",
      "[2800]\ttraining's l2: 82.1279\ttraining's l1: 7.2259\tvalid_1's l2: 123.97\tvalid_1's l1: 8.32333\n",
      "[3000]\ttraining's l2: 77.9931\ttraining's l1: 7.03661\tvalid_1's l2: 121.13\tvalid_1's l1: 8.19854\n",
      "[3200]\ttraining's l2: 74.3073\ttraining's l1: 6.86441\tvalid_1's l2: 118.572\tvalid_1's l1: 8.08957\n",
      "[3400]\ttraining's l2: 70.5594\ttraining's l1: 6.68163\tvalid_1's l2: 115.656\tvalid_1's l1: 7.96417\n",
      "[3600]\ttraining's l2: 67.061\ttraining's l1: 6.50891\tvalid_1's l2: 113.129\tvalid_1's l1: 7.85159\n",
      "[3800]\ttraining's l2: 63.9723\ttraining's l1: 6.35202\tvalid_1's l2: 110.917\tvalid_1's l1: 7.75154\n",
      "[4000]\ttraining's l2: 61.3106\ttraining's l1: 6.21448\tvalid_1's l2: 109.251\tvalid_1's l1: 7.67335\n",
      "[4200]\ttraining's l2: 58.2156\ttraining's l1: 6.0524\tvalid_1's l2: 106.768\tvalid_1's l1: 7.56307\n",
      "[4400]\ttraining's l2: 55.6334\ttraining's l1: 5.91197\tvalid_1's l2: 105.053\tvalid_1's l1: 7.47869\n",
      "[4600]\ttraining's l2: 53.2726\ttraining's l1: 5.7774\tvalid_1's l2: 103.452\tvalid_1's l1: 7.3965\n",
      "[4800]\ttraining's l2: 51.4123\ttraining's l1: 5.67438\tvalid_1's l2: 102.454\tvalid_1's l1: 7.34943\n",
      "[5000]\ttraining's l2: 49.8153\ttraining's l1: 5.58326\tvalid_1's l2: 101.655\tvalid_1's l1: 7.31325\n",
      "Did not meet early stopping. Best iteration is:\n",
      "[5000]\ttraining's l2: 49.8153\ttraining's l1: 5.58326\tvalid_1's l2: 101.655\tvalid_1's l1: 7.31325\n",
      "processed: 31/594\n",
      "saving...\n",
      "(307511, 912)\n"
     ]
    },
    {
     "name": "stderr",
     "output_type": "stream",
     "text": [
      "\r",
      "31it [48:25, 93.72s/it]"
     ]
    },
    {
     "name": "stdout",
     "output_type": "stream",
     "text": [
      "start processing NAME_EDUCATION_TYPE_CODE_GENDER_DAYS_ID_PUBLISH_max_abs_diff \n",
      "the na is:1.1227912590700482e-05\n",
      "(356251, 909)\n",
      "(4, 909)\n",
      "Training until validation scores don't improve for 100 rounds.\n",
      "[200]\ttraining's l2: 104.034\ttraining's l1: 7.62711\tvalid_1's l2: 104.431\tvalid_1's l1: 7.64525\n",
      "[400]\ttraining's l2: 60.2339\ttraining's l1: 5.82119\tvalid_1's l2: 62.1253\tvalid_1's l1: 5.88075\n",
      "[600]\ttraining's l2: 43.3145\ttraining's l1: 4.98459\tvalid_1's l2: 46.5274\tvalid_1's l1: 5.07624\n",
      "[800]\ttraining's l2: 34.278\ttraining's l1: 4.47438\tvalid_1's l2: 38.5598\tvalid_1's l1: 4.60254\n",
      "[1000]\ttraining's l2: 28.9124\ttraining's l1: 4.12934\tvalid_1's l2: 33.815\tvalid_1's l1: 4.28471\n",
      "[1200]\ttraining's l2: 25.0441\ttraining's l1: 3.84694\tvalid_1's l2: 30.2291\tvalid_1's l1: 4.02258\n",
      "[1400]\ttraining's l2: 22.1944\ttraining's l1: 3.6377\tvalid_1's l2: 27.9518\tvalid_1's l1: 3.84475\n",
      "[1600]\ttraining's l2: 20.0514\ttraining's l1: 3.46347\tvalid_1's l2: 26.1531\tvalid_1's l1: 3.6971\n",
      "[1800]\ttraining's l2: 18.4669\ttraining's l1: 3.33128\tvalid_1's l2: 25.0109\tvalid_1's l1: 3.59628\n",
      "[2000]\ttraining's l2: 16.961\ttraining's l1: 3.19646\tvalid_1's l2: 23.7456\tvalid_1's l1: 3.48577\n",
      "[2200]\ttraining's l2: 15.693\ttraining's l1: 3.08089\tvalid_1's l2: 22.736\tvalid_1's l1: 3.39462\n",
      "[2400]\ttraining's l2: 14.8211\ttraining's l1: 2.99629\tvalid_1's l2: 22.1802\tvalid_1's l1: 3.33908\n",
      "[2600]\ttraining's l2: 14.0389\ttraining's l1: 2.91831\tvalid_1's l2: 21.7093\tvalid_1's l1: 3.29045\n",
      "[2800]\ttraining's l2: 13.2098\ttraining's l1: 2.83341\tvalid_1's l2: 21.0987\tvalid_1's l1: 3.23059\n",
      "[3000]\ttraining's l2: 12.4037\ttraining's l1: 2.75025\tvalid_1's l2: 20.4954\tvalid_1's l1: 3.17016\n",
      "[3200]\ttraining's l2: 11.7937\ttraining's l1: 2.68326\tvalid_1's l2: 20.0721\tvalid_1's l1: 3.1277\n",
      "[3400]\ttraining's l2: 11.302\ttraining's l1: 2.62759\tvalid_1's l2: 19.818\tvalid_1's l1: 3.09977\n",
      "[3600]\ttraining's l2: 10.7615\ttraining's l1: 2.56617\tvalid_1's l2: 19.4735\tvalid_1's l1: 3.06387\n",
      "[3800]\ttraining's l2: 10.2031\ttraining's l1: 2.50044\tvalid_1's l2: 19.0662\tvalid_1's l1: 3.01974\n",
      "[4000]\ttraining's l2: 9.68066\ttraining's l1: 2.43829\tvalid_1's l2: 18.6378\tvalid_1's l1: 2.97778\n",
      "[4200]\ttraining's l2: 9.25413\ttraining's l1: 2.38515\tvalid_1's l2: 18.3559\tvalid_1's l1: 2.94665\n",
      "[4400]\ttraining's l2: 8.87996\ttraining's l1: 2.3364\tvalid_1's l2: 18.1044\tvalid_1's l1: 2.9192\n",
      "[4600]\ttraining's l2: 8.55398\ttraining's l1: 2.29346\tvalid_1's l2: 17.9341\tvalid_1's l1: 2.89921\n",
      "[4800]\ttraining's l2: 8.2527\ttraining's l1: 2.25361\tvalid_1's l2: 17.7888\tvalid_1's l1: 2.8826\n",
      "[5000]\ttraining's l2: 7.97931\ttraining's l1: 2.21589\tvalid_1's l2: 17.6469\tvalid_1's l1: 2.86643\n",
      "Did not meet early stopping. Best iteration is:\n",
      "[5000]\ttraining's l2: 7.97931\ttraining's l1: 2.21589\tvalid_1's l2: 17.6469\tvalid_1's l1: 2.86643\n",
      "processed: 32/594\n",
      "saving...\n",
      "(307511, 912)\n"
     ]
    },
    {
     "name": "stderr",
     "output_type": "stream",
     "text": [
      "\r",
      "32it [50:28, 94.63s/it]"
     ]
    },
    {
     "name": "stdout",
     "output_type": "stream",
     "text": [
      "start processing NAME_EDUCATION_TYPE_CODE_GENDER_DAYS_ID_PUBLISH_max_diff \n",
      "the na is:1.1227912590700482e-05\n",
      "(356251, 909)\n",
      "(4, 909)\n",
      "Training until validation scores don't improve for 100 rounds.\n",
      "[200]\ttraining's l2: 88.0537\ttraining's l1: 7.06231\tvalid_1's l2: 87.3224\tvalid_1's l1: 7.08892\n",
      "[400]\ttraining's l2: 56.4605\ttraining's l1: 5.69664\tvalid_1's l2: 57.5439\tvalid_1's l1: 5.76016\n",
      "[600]\ttraining's l2: 43.4405\ttraining's l1: 5.02182\tvalid_1's l2: 45.8572\tvalid_1's l1: 5.1139\n",
      "[800]\ttraining's l2: 36.0437\ttraining's l1: 4.59074\tvalid_1's l2: 39.4289\tvalid_1's l1: 4.71481\n",
      "[1000]\ttraining's l2: 31.0344\ttraining's l1: 4.28841\tvalid_1's l2: 35.439\tvalid_1's l1: 4.45076\n",
      "[1200]\ttraining's l2: 27.1051\ttraining's l1: 4.01247\tvalid_1's l2: 31.9533\tvalid_1's l1: 4.20104\n",
      "[1400]\ttraining's l2: 24.0801\ttraining's l1: 3.78753\tvalid_1's l2: 29.3256\tvalid_1's l1: 4.0041\n",
      "[1600]\ttraining's l2: 22.0829\ttraining's l1: 3.6347\tvalid_1's l2: 27.8125\tvalid_1's l1: 3.88461\n",
      "[1800]\ttraining's l2: 19.7651\ttraining's l1: 3.44043\tvalid_1's l2: 25.7407\tvalid_1's l1: 3.7129\n",
      "[2000]\ttraining's l2: 18.2824\ttraining's l1: 3.31294\tvalid_1's l2: 24.6045\tvalid_1's l1: 3.61257\n",
      "[2200]\ttraining's l2: 16.9905\ttraining's l1: 3.19032\tvalid_1's l2: 23.6075\tvalid_1's l1: 3.51811\n",
      "[2400]\ttraining's l2: 15.8333\ttraining's l1: 3.08306\tvalid_1's l2: 22.7394\tvalid_1's l1: 3.437\n",
      "[2600]\ttraining's l2: 14.9802\ttraining's l1: 2.99872\tvalid_1's l2: 22.1681\tvalid_1's l1: 3.38271\n",
      "[2800]\ttraining's l2: 14.0941\ttraining's l1: 2.90865\tvalid_1's l2: 21.5025\tvalid_1's l1: 3.31848\n",
      "[3000]\ttraining's l2: 13.2359\ttraining's l1: 2.82017\tvalid_1's l2: 20.8303\tvalid_1's l1: 3.25269\n",
      "[3200]\ttraining's l2: 12.5981\ttraining's l1: 2.75121\tvalid_1's l2: 20.4135\tvalid_1's l1: 3.21016\n",
      "[3400]\ttraining's l2: 11.966\ttraining's l1: 2.6824\tvalid_1's l2: 19.9528\tvalid_1's l1: 3.16382\n",
      "[3600]\ttraining's l2: 11.5253\ttraining's l1: 2.63403\tvalid_1's l2: 19.7312\tvalid_1's l1: 3.14302\n",
      "[3800]\ttraining's l2: 11.0716\ttraining's l1: 2.58213\tvalid_1's l2: 19.4795\tvalid_1's l1: 3.11658\n",
      "[4000]\ttraining's l2: 10.5115\ttraining's l1: 2.51803\tvalid_1's l2: 19.0779\tvalid_1's l1: 3.0762\n",
      "[4200]\ttraining's l2: 10.0226\ttraining's l1: 2.45922\tvalid_1's l2: 18.7265\tvalid_1's l1: 3.03998\n",
      "[4400]\ttraining's l2: 9.58958\ttraining's l1: 2.40556\tvalid_1's l2: 18.4526\tvalid_1's l1: 3.00942\n",
      "[4600]\ttraining's l2: 9.1432\ttraining's l1: 2.34838\tvalid_1's l2: 18.1183\tvalid_1's l1: 2.97176\n",
      "[4800]\ttraining's l2: 8.73153\ttraining's l1: 2.29481\tvalid_1's l2: 17.7978\tvalid_1's l1: 2.93771\n",
      "[5000]\ttraining's l2: 8.40765\ttraining's l1: 2.2526\tvalid_1's l2: 17.6184\tvalid_1's l1: 2.91846\n",
      "Did not meet early stopping. Best iteration is:\n",
      "[5000]\ttraining's l2: 8.40765\ttraining's l1: 2.2526\tvalid_1's l2: 17.6184\tvalid_1's l1: 2.91846\n",
      "processed: 33/594\n",
      "saving...\n",
      "(307511, 912)\n"
     ]
    },
    {
     "name": "stderr",
     "output_type": "stream",
     "text": [
      "\r",
      "33it [52:33, 95.56s/it]"
     ]
    },
    {
     "name": "stdout",
     "output_type": "stream",
     "text": [
      "start processing NAME_EDUCATION_TYPE_CODE_GENDER_DAYS_ID_PUBLISH_mean_diff \n",
      "the na is:1.1227912590700482e-05\n",
      "(356251, 909)\n",
      "(4, 909)\n",
      "Training until validation scores don't improve for 100 rounds.\n",
      "[200]\ttraining's l2: 198.568\ttraining's l1: 10.0692\tvalid_1's l2: 199.348\tvalid_1's l1: 10.0941\n",
      "[400]\ttraining's l2: 120.735\ttraining's l1: 8.02749\tvalid_1's l2: 128.226\tvalid_1's l1: 8.12472\n",
      "[600]\ttraining's l2: 86.666\ttraining's l1: 6.87407\tvalid_1's l2: 98.213\tvalid_1's l1: 7.04011\n",
      "[800]\ttraining's l2: 67.4402\ttraining's l1: 6.08468\tvalid_1's l2: 80.9673\tvalid_1's l1: 6.30855\n",
      "[1000]\ttraining's l2: 54.6069\ttraining's l1: 5.48099\tvalid_1's l2: 69.5331\tvalid_1's l1: 5.7457\n",
      "[1200]\ttraining's l2: 46.1653\ttraining's l1: 5.04738\tvalid_1's l2: 62.3199\tvalid_1's l1: 5.35711\n",
      "[1400]\ttraining's l2: 40.7613\ttraining's l1: 4.74649\tvalid_1's l2: 57.9285\tvalid_1's l1: 5.1002\n",
      "[1600]\ttraining's l2: 35.5603\ttraining's l1: 4.4384\tvalid_1's l2: 53.4113\tvalid_1's l1: 4.82908\n",
      "[1800]\ttraining's l2: 31.7115\ttraining's l1: 4.19968\tvalid_1's l2: 50.2421\tvalid_1's l1: 4.62887\n",
      "[2000]\ttraining's l2: 28.1886\ttraining's l1: 3.96241\tvalid_1's l2: 47.2859\tvalid_1's l1: 4.42861\n",
      "[2200]\ttraining's l2: 25.2441\ttraining's l1: 3.75399\tvalid_1's l2: 44.654\tvalid_1's l1: 4.24945\n",
      "[2400]\ttraining's l2: 23.3866\ttraining's l1: 3.61694\tvalid_1's l2: 43.3503\tvalid_1's l1: 4.15075\n",
      "[2600]\ttraining's l2: 21.7193\ttraining's l1: 3.49401\tvalid_1's l2: 42.1875\tvalid_1's l1: 4.0612\n",
      "[2800]\ttraining's l2: 19.8833\ttraining's l1: 3.34615\tvalid_1's l2: 40.6085\tvalid_1's l1: 3.94131\n",
      "[3000]\ttraining's l2: 18.1524\ttraining's l1: 3.19741\tvalid_1's l2: 39.1243\tvalid_1's l1: 3.81811\n",
      "[3200]\ttraining's l2: 17.0525\ttraining's l1: 3.10441\tvalid_1's l2: 38.3962\tvalid_1's l1: 3.75627\n",
      "[3400]\ttraining's l2: 15.9328\ttraining's l1: 3.00048\tvalid_1's l2: 37.4821\tvalid_1's l1: 3.67663\n",
      "[3600]\ttraining's l2: 14.916\ttraining's l1: 2.90922\tvalid_1's l2: 36.685\tvalid_1's l1: 3.61114\n",
      "[3800]\ttraining's l2: 13.9452\ttraining's l1: 2.81869\tvalid_1's l2: 35.9468\tvalid_1's l1: 3.54461\n",
      "[4000]\ttraining's l2: 13.1806\ttraining's l1: 2.74393\tvalid_1's l2: 35.3783\tvalid_1's l1: 3.49343\n",
      "[4200]\ttraining's l2: 12.5551\ttraining's l1: 2.68158\tvalid_1's l2: 35.023\tvalid_1's l1: 3.45965\n",
      "[4400]\ttraining's l2: 11.9973\ttraining's l1: 2.62428\tvalid_1's l2: 34.7009\tvalid_1's l1: 3.42797\n",
      "[4600]\ttraining's l2: 11.4111\ttraining's l1: 2.5632\tvalid_1's l2: 34.2999\tvalid_1's l1: 3.3906\n",
      "[4800]\ttraining's l2: 10.9375\ttraining's l1: 2.51255\tvalid_1's l2: 34.023\tvalid_1's l1: 3.36516\n",
      "[5000]\ttraining's l2: 10.4551\ttraining's l1: 2.45832\tvalid_1's l2: 33.7294\tvalid_1's l1: 3.33592\n",
      "Did not meet early stopping. Best iteration is:\n",
      "[5000]\ttraining's l2: 10.4551\ttraining's l1: 2.45832\tvalid_1's l2: 33.7294\tvalid_1's l1: 3.33592\n",
      "processed: 34/594\n",
      "saving...\n",
      "(307511, 912)\n"
     ]
    },
    {
     "name": "stderr",
     "output_type": "stream",
     "text": [
      "\r",
      "34it [54:35, 96.35s/it]"
     ]
    },
    {
     "name": "stdout",
     "output_type": "stream",
     "text": [
      "start processing NAME_EDUCATION_TYPE_CODE_GENDER_DAYS_ID_PUBLISH_min_abs_diff \n",
      "the na is:1.1227912590700482e-05\n",
      "(356251, 909)\n",
      "(4, 909)\n",
      "Training until validation scores don't improve for 100 rounds.\n",
      "[200]\ttraining's l2: 324.537\ttraining's l1: 13.5055\tvalid_1's l2: 337.611\tvalid_1's l1: 13.6486\n",
      "[400]\ttraining's l2: 187.102\ttraining's l1: 10.2009\tvalid_1's l2: 200.389\tvalid_1's l1: 10.3993\n",
      "[600]\ttraining's l2: 131.721\ttraining's l1: 8.50529\tvalid_1's l2: 147.761\tvalid_1's l1: 8.7562\n",
      "[800]\ttraining's l2: 100.235\ttraining's l1: 7.37356\tvalid_1's l2: 117.489\tvalid_1's l1: 7.66053\n",
      "[1000]\ttraining's l2: 80.3695\ttraining's l1: 6.60696\tvalid_1's l2: 99.4747\tvalid_1's l1: 6.94311\n",
      "[1200]\ttraining's l2: 67.9002\ttraining's l1: 6.07731\tvalid_1's l2: 88.0684\tvalid_1's l1: 6.44475\n",
      "[1400]\ttraining's l2: 58.4942\ttraining's l1: 5.64818\tvalid_1's l2: 79.4019\tvalid_1's l1: 6.05332\n",
      "[1600]\ttraining's l2: 50.907\ttraining's l1: 5.27767\tvalid_1's l2: 72.3248\tvalid_1's l1: 5.71441\n",
      "[1800]\ttraining's l2: 45.7982\ttraining's l1: 5.01175\tvalid_1's l2: 67.998\tvalid_1's l1: 5.49033\n",
      "[2000]\ttraining's l2: 40.9287\ttraining's l1: 4.73511\tvalid_1's l2: 63.5129\tvalid_1's l1: 5.24412\n",
      "[2200]\ttraining's l2: 37.0965\ttraining's l1: 4.51482\tvalid_1's l2: 60.1335\tvalid_1's l1: 5.05746\n",
      "[2400]\ttraining's l2: 34.0426\ttraining's l1: 4.32886\tvalid_1's l2: 57.65\tvalid_1's l1: 4.90806\n",
      "[2600]\ttraining's l2: 32.0145\ttraining's l1: 4.20443\tvalid_1's l2: 56.3999\tvalid_1's l1: 4.82723\n",
      "[2800]\ttraining's l2: 29.4007\ttraining's l1: 4.0308\tvalid_1's l2: 54.0063\tvalid_1's l1: 4.68029\n",
      "[3000]\ttraining's l2: 27.6987\ttraining's l1: 3.91513\tvalid_1's l2: 52.7795\tvalid_1's l1: 4.59774\n",
      "[3200]\ttraining's l2: 25.7929\ttraining's l1: 3.78845\tvalid_1's l2: 51.2601\tvalid_1's l1: 4.50305\n",
      "[3400]\ttraining's l2: 24.1649\ttraining's l1: 3.66923\tvalid_1's l2: 49.9386\tvalid_1's l1: 4.41599\n",
      "[3600]\ttraining's l2: 22.5033\ttraining's l1: 3.54695\tvalid_1's l2: 48.4815\tvalid_1's l1: 4.32343\n",
      "[3800]\ttraining's l2: 21.3129\ttraining's l1: 3.45554\tvalid_1's l2: 47.5469\tvalid_1's l1: 4.26308\n",
      "[4000]\ttraining's l2: 20.3493\ttraining's l1: 3.37694\tvalid_1's l2: 46.9364\tvalid_1's l1: 4.21601\n",
      "[4200]\ttraining's l2: 19.3972\ttraining's l1: 3.30079\tvalid_1's l2: 46.2408\tvalid_1's l1: 4.1681\n",
      "[4400]\ttraining's l2: 18.451\ttraining's l1: 3.22089\tvalid_1's l2: 45.567\tvalid_1's l1: 4.11698\n",
      "[4600]\ttraining's l2: 17.6241\ttraining's l1: 3.15196\tvalid_1's l2: 44.9763\tvalid_1's l1: 4.07956\n",
      "[4800]\ttraining's l2: 16.7052\ttraining's l1: 3.07284\tvalid_1's l2: 44.1953\tvalid_1's l1: 4.02452\n",
      "[5000]\ttraining's l2: 15.9626\ttraining's l1: 3.0035\tvalid_1's l2: 43.6418\tvalid_1's l1: 3.98121\n",
      "Did not meet early stopping. Best iteration is:\n",
      "[5000]\ttraining's l2: 15.9626\ttraining's l1: 3.0035\tvalid_1's l2: 43.6418\tvalid_1's l1: 3.98121\n",
      "processed: 35/594\n",
      "saving...\n",
      "(307511, 912)\n"
     ]
    },
    {
     "name": "stderr",
     "output_type": "stream",
     "text": [
      "\r",
      "35it [56:39, 97.13s/it]"
     ]
    },
    {
     "name": "stdout",
     "output_type": "stream",
     "text": [
      "start processing NAME_EDUCATION_TYPE_CODE_GENDER_AMT_CREDIT_max_diff \n",
      "the na is:1.1227912590700482e-05\n",
      "(356251, 909)\n",
      "(4, 909)\n",
      "Training until validation scores don't improve for 100 rounds.\n",
      "[200]\ttraining's l2: 3.61216e+07\ttraining's l1: 3725.76\tvalid_1's l2: 4.26901e+07\tvalid_1's l1: 3820.35\n",
      "[400]\ttraining's l2: 2.00256e+07\ttraining's l1: 2818.63\tvalid_1's l2: 2.72895e+07\tvalid_1's l1: 2947.14\n",
      "[600]\ttraining's l2: 1.36964e+07\ttraining's l1: 2307.28\tvalid_1's l2: 2.1277e+07\tvalid_1's l1: 2454.82\n",
      "[800]\ttraining's l2: 1.03652e+07\ttraining's l1: 1990.21\tvalid_1's l2: 1.818e+07\tvalid_1's l1: 2158.04\n",
      "[1000]\ttraining's l2: 8.37341e+06\ttraining's l1: 1787.52\tvalid_1's l2: 1.63565e+07\tvalid_1's l1: 1978.84\n",
      "[1200]\ttraining's l2: 6.85479e+06\ttraining's l1: 1605.9\tvalid_1's l2: 1.50311e+07\tvalid_1's l1: 1816.62\n",
      "[1400]\ttraining's l2: 5.81904e+06\ttraining's l1: 1478.68\tvalid_1's l2: 1.41529e+07\tvalid_1's l1: 1706.39\n",
      "[1600]\ttraining's l2: 5.03809e+06\ttraining's l1: 1365.32\tvalid_1's l2: 1.3483e+07\tvalid_1's l1: 1606.61\n",
      "[1800]\ttraining's l2: 4.38804e+06\ttraining's l1: 1278.66\tvalid_1's l2: 1.29314e+07\tvalid_1's l1: 1535.27\n",
      "[2000]\ttraining's l2: 3.92855e+06\ttraining's l1: 1202.49\tvalid_1's l2: 1.25584e+07\tvalid_1's l1: 1473.84\n",
      "[2200]\ttraining's l2: 3.45587e+06\ttraining's l1: 1123.41\tvalid_1's l2: 1.21413e+07\tvalid_1's l1: 1404.87\n",
      "[2400]\ttraining's l2: 3.1154e+06\ttraining's l1: 1063.74\tvalid_1's l2: 1.1875e+07\tvalid_1's l1: 1356.74\n",
      "[2600]\ttraining's l2: 2.83041e+06\ttraining's l1: 1014.97\tvalid_1's l2: 1.16372e+07\tvalid_1's l1: 1319.44\n",
      "[2800]\ttraining's l2: 2.57529e+06\ttraining's l1: 964.735\tvalid_1's l2: 1.14532e+07\tvalid_1's l1: 1279.87\n",
      "[3000]\ttraining's l2: 2.34968e+06\ttraining's l1: 922.54\tvalid_1's l2: 1.12708e+07\tvalid_1's l1: 1247.94\n",
      "[3200]\ttraining's l2: 2.16598e+06\ttraining's l1: 886.378\tvalid_1's l2: 1.11322e+07\tvalid_1's l1: 1222.14\n",
      "[3400]\ttraining's l2: 1.99779e+06\ttraining's l1: 850.479\tvalid_1's l2: 1.10135e+07\tvalid_1's l1: 1195.38\n",
      "[3600]\ttraining's l2: 1.85591e+06\ttraining's l1: 819.22\tvalid_1's l2: 1.09146e+07\tvalid_1's l1: 1174.03\n",
      "[3800]\ttraining's l2: 1.73248e+06\ttraining's l1: 790.553\tvalid_1's l2: 1.08327e+07\tvalid_1's l1: 1155.04\n",
      "[4000]\ttraining's l2: 1.59454e+06\ttraining's l1: 757.616\tvalid_1's l2: 1.07072e+07\tvalid_1's l1: 1130.05\n",
      "[4200]\ttraining's l2: 1.49568e+06\ttraining's l1: 733.262\tvalid_1's l2: 1.06347e+07\tvalid_1's l1: 1113.78\n",
      "[4400]\ttraining's l2: 1.38994e+06\ttraining's l1: 707.881\tvalid_1's l2: 1.05667e+07\tvalid_1's l1: 1096.64\n",
      "[4600]\ttraining's l2: 1.29796e+06\ttraining's l1: 684.25\tvalid_1's l2: 1.05008e+07\tvalid_1's l1: 1080.61\n",
      "[4800]\ttraining's l2: 1.22272e+06\ttraining's l1: 663.157\tvalid_1's l2: 1.04534e+07\tvalid_1's l1: 1066.33\n",
      "[5000]\ttraining's l2: 1.15366e+06\ttraining's l1: 645.995\tvalid_1's l2: 1.04065e+07\tvalid_1's l1: 1057.29\n",
      "Did not meet early stopping. Best iteration is:\n",
      "[5000]\ttraining's l2: 1.15366e+06\ttraining's l1: 645.995\tvalid_1's l2: 1.04065e+07\tvalid_1's l1: 1057.29\n",
      "processed: 36/594\n",
      "saving...\n",
      "(307511, 912)\n"
     ]
    },
    {
     "name": "stderr",
     "output_type": "stream",
     "text": [
      "\r",
      "36it [58:38, 97.73s/it]"
     ]
    },
    {
     "name": "stdout",
     "output_type": "stream",
     "text": [
      "start processing NAME_EDUCATION_TYPE_CODE_GENDER_AMT_INCOME_TOTAL_max_abs_diff \n",
      "the na is:1.1227912590700482e-05\n",
      "(356251, 909)\n",
      "(4, 909)\n",
      "Training until validation scores don't improve for 100 rounds.\n",
      "[200]\ttraining's l2: 6.39719e+09\ttraining's l1: 9299.28\tvalid_1's l2: 1.11687e+10\tvalid_1's l1: 10425.2\n",
      "[400]\ttraining's l2: 3.9008e+09\ttraining's l1: 7297.95\tvalid_1's l2: 9.42523e+09\tvalid_1's l1: 8920.26\n",
      "[600]\ttraining's l2: 2.63493e+09\ttraining's l1: 6403.78\tvalid_1's l2: 9.10031e+09\tvalid_1's l1: 8519.29\n",
      "[800]\ttraining's l2: 1.77605e+09\ttraining's l1: 5931.85\tvalid_1's l2: 8.98297e+09\tvalid_1's l1: 8394.05\n",
      "Early stopping, best iteration is:\n",
      "[852]\ttraining's l2: 1.61885e+09\ttraining's l1: 5825.4\tvalid_1's l2: 8.92103e+09\tvalid_1's l1: 8362.34\n",
      "processed: 37/594\n",
      "saving...\n",
      "(307511, 912)\n"
     ]
    },
    {
     "name": "stderr",
     "output_type": "stream",
     "text": [
      "\r",
      "37it [59:14, 96.08s/it]"
     ]
    },
    {
     "name": "stdout",
     "output_type": "stream",
     "text": [
      "start processing NAME_EDUCATION_TYPE_CODE_GENDER_AMT_INCOME_TOTAL_max_diff \n",
      "the na is:1.1227912590700482e-05\n",
      "(356251, 909)\n",
      "(4, 909)\n",
      "Training until validation scores don't improve for 100 rounds.\n",
      "[200]\ttraining's l2: 2.23417e+10\ttraining's l1: 15426.5\tvalid_1's l2: 3.68264e+10\tvalid_1's l1: 17057.1\n",
      "[400]\ttraining's l2: 1.13493e+10\ttraining's l1: 12377.9\tvalid_1's l2: 2.9906e+10\tvalid_1's l1: 14933.8\n",
      "[600]\ttraining's l2: 7.69837e+09\ttraining's l1: 10929.3\tvalid_1's l2: 2.92004e+10\tvalid_1's l1: 14255.9\n",
      "[800]\ttraining's l2: 5.39528e+09\ttraining's l1: 10076.9\tvalid_1's l2: 2.88935e+10\tvalid_1's l1: 14081.7\n",
      "[1000]\ttraining's l2: 3.90939e+09\ttraining's l1: 9469.34\tvalid_1's l2: 2.85682e+10\tvalid_1's l1: 13964.1\n",
      "Early stopping, best iteration is:\n",
      "[1058]\ttraining's l2: 3.65732e+09\ttraining's l1: 9312.64\tvalid_1's l2: 2.85333e+10\tvalid_1's l1: 13944.9\n",
      "processed: 38/594\n",
      "saving...\n",
      "(307511, 912)\n"
     ]
    },
    {
     "name": "stderr",
     "output_type": "stream",
     "text": [
      "\r",
      "38it [59:55, 94.61s/it]"
     ]
    },
    {
     "name": "stdout",
     "output_type": "stream",
     "text": [
      "start processing NAME_EDUCATION_TYPE_CODE_GENDER_REGION_POPULATION_RELATIVE_min_diff \n",
      "the na is:1.1227912590700482e-05\n",
      "(356251, 909)\n",
      "(4, 909)\n",
      "Training until validation scores don't improve for 100 rounds.\n",
      "[200]\ttraining's l2: 9.94524e-10\ttraining's l1: 1.83528e-05\tvalid_1's l2: 6.13871e-09\tvalid_1's l1: 1.91372e-05\n",
      "[400]\ttraining's l2: 3.80338e-10\ttraining's l1: 1.1142e-05\tvalid_1's l2: 5.5124e-09\tvalid_1's l1: 1.20513e-05\n",
      "[600]\ttraining's l2: 1.97976e-10\ttraining's l1: 7.98148e-06\tvalid_1's l2: 5.3177e-09\tvalid_1's l1: 8.97115e-06\n",
      "[800]\ttraining's l2: 1.16826e-10\ttraining's l1: 5.91636e-06\tvalid_1's l2: 5.18857e-09\tvalid_1's l1: 6.97515e-06\n",
      "[1000]\ttraining's l2: 7.31681e-11\ttraining's l1: 4.59791e-06\tvalid_1's l2: 5.13269e-09\tvalid_1's l1: 5.6985e-06\n",
      "[1200]\ttraining's l2: 5.03433e-11\ttraining's l1: 3.73588e-06\tvalid_1's l2: 5.09611e-09\tvalid_1's l1: 4.89767e-06\n",
      "[1400]\ttraining's l2: 3.73766e-11\ttraining's l1: 3.18392e-06\tvalid_1's l2: 5.07526e-09\tvalid_1's l1: 4.39585e-06\n",
      "[1600]\ttraining's l2: 2.81814e-11\ttraining's l1: 2.74603e-06\tvalid_1's l2: 5.0671e-09\tvalid_1's l1: 4.00114e-06\n",
      "[1800]\ttraining's l2: 2.20213e-11\ttraining's l1: 2.39036e-06\tvalid_1's l2: 5.05415e-09\tvalid_1's l1: 3.68323e-06\n",
      "[2000]\ttraining's l2: 1.79002e-11\ttraining's l1: 2.14847e-06\tvalid_1's l2: 5.04855e-09\tvalid_1's l1: 3.47937e-06\n",
      "[2200]\ttraining's l2: 1.50579e-11\ttraining's l1: 1.96891e-06\tvalid_1's l2: 5.04909e-09\tvalid_1's l1: 3.33401e-06\n",
      "Early stopping, best iteration is:\n",
      "[2120]\ttraining's l2: 1.62278e-11\ttraining's l1: 2.04607e-06\tvalid_1's l2: 5.04767e-09\tvalid_1's l1: 3.39763e-06\n",
      "processed: 39/594\n",
      "saving...\n",
      "(307511, 912)\n"
     ]
    },
    {
     "name": "stderr",
     "output_type": "stream",
     "text": [
      "\r",
      "39it [1:01:00, 93.85s/it]"
     ]
    },
    {
     "name": "stdout",
     "output_type": "stream",
     "text": [
      "start processing NAME_EDUCATION_TYPE_CODE_GENDER_REGION_POPULATION_RELATIVE_mean_diff \n",
      "the na is:1.1227912590700482e-05\n",
      "(356251, 909)\n",
      "(4, 909)\n",
      "Training until validation scores don't improve for 100 rounds.\n",
      "[200]\ttraining's l2: 1.71481e-09\ttraining's l1: 2.61219e-05\tvalid_1's l2: 1.96413e-09\tvalid_1's l1: 2.63521e-05\n",
      "[400]\ttraining's l2: 6.11521e-10\ttraining's l1: 1.49122e-05\tvalid_1's l2: 8.95832e-10\tvalid_1's l1: 1.5364e-05\n",
      "[600]\ttraining's l2: 2.97847e-10\ttraining's l1: 9.91077e-06\tvalid_1's l2: 5.79935e-10\tvalid_1's l1: 1.04702e-05\n",
      "[800]\ttraining's l2: 1.79992e-10\ttraining's l1: 7.48534e-06\tvalid_1's l2: 4.67493e-10\tvalid_1's l1: 8.15264e-06\n",
      "[1000]\ttraining's l2: 1.20689e-10\ttraining's l1: 6.04213e-06\tvalid_1's l2: 4.0703e-10\tvalid_1's l1: 6.80986e-06\n",
      "[1200]\ttraining's l2: 8.69075e-11\ttraining's l1: 5.07777e-06\tvalid_1's l2: 3.71407e-10\tvalid_1's l1: 5.91382e-06\n",
      "[1400]\ttraining's l2: 6.42143e-11\ttraining's l1: 4.32172e-06\tvalid_1's l2: 3.50089e-10\tvalid_1's l1: 5.22712e-06\n",
      "[1600]\ttraining's l2: 4.91879e-11\ttraining's l1: 3.75131e-06\tvalid_1's l2: 3.34605e-10\tvalid_1's l1: 4.71979e-06\n",
      "[1800]\ttraining's l2: 3.92456e-11\ttraining's l1: 3.3331e-06\tvalid_1's l2: 3.24155e-10\tvalid_1's l1: 4.35334e-06\n",
      "[2000]\ttraining's l2: 3.24175e-11\ttraining's l1: 3.02309e-06\tvalid_1's l2: 3.18075e-10\tvalid_1's l1: 4.09615e-06\n",
      "[2200]\ttraining's l2: 2.67428e-11\ttraining's l1: 2.71608e-06\tvalid_1's l2: 3.11778e-10\tvalid_1's l1: 3.82443e-06\n",
      "[2400]\ttraining's l2: 2.20714e-11\ttraining's l1: 2.46975e-06\tvalid_1's l2: 3.06485e-10\tvalid_1's l1: 3.60755e-06\n",
      "[2600]\ttraining's l2: 1.90212e-11\ttraining's l1: 2.2993e-06\tvalid_1's l2: 3.04578e-10\tvalid_1's l1: 3.47999e-06\n",
      "[2800]\ttraining's l2: 1.61728e-11\ttraining's l1: 2.11801e-06\tvalid_1's l2: 3.02623e-10\tvalid_1's l1: 3.32531e-06\n",
      "[3000]\ttraining's l2: 1.40914e-11\ttraining's l1: 1.99785e-06\tvalid_1's l2: 3.01402e-10\tvalid_1's l1: 3.24293e-06\n",
      "[3200]\ttraining's l2: 1.22534e-11\ttraining's l1: 1.8538e-06\tvalid_1's l2: 3.0015e-10\tvalid_1's l1: 3.12577e-06\n",
      "[3400]\ttraining's l2: 1.09145e-11\ttraining's l1: 1.76242e-06\tvalid_1's l2: 2.98942e-10\tvalid_1's l1: 3.06821e-06\n",
      "[3600]\ttraining's l2: 9.85763e-12\ttraining's l1: 1.68289e-06\tvalid_1's l2: 2.98189e-10\tvalid_1's l1: 3.01868e-06\n",
      "[3800]\ttraining's l2: 8.77986e-12\ttraining's l1: 1.59354e-06\tvalid_1's l2: 2.96976e-10\tvalid_1's l1: 2.95139e-06\n",
      "[4000]\ttraining's l2: 7.99412e-12\ttraining's l1: 1.52798e-06\tvalid_1's l2: 2.96548e-10\tvalid_1's l1: 2.9116e-06\n",
      "[4200]\ttraining's l2: 7.25829e-12\ttraining's l1: 1.46303e-06\tvalid_1's l2: 2.96162e-10\tvalid_1's l1: 2.87281e-06\n",
      "[4400]\ttraining's l2: 6.55842e-12\ttraining's l1: 1.39434e-06\tvalid_1's l2: 2.95331e-10\tvalid_1's l1: 2.82388e-06\n",
      "[4600]\ttraining's l2: 5.97413e-12\ttraining's l1: 1.33185e-06\tvalid_1's l2: 2.94743e-10\tvalid_1's l1: 2.7798e-06\n",
      "[4800]\ttraining's l2: 5.42773e-12\ttraining's l1: 1.26826e-06\tvalid_1's l2: 2.94306e-10\tvalid_1's l1: 2.73349e-06\n",
      "[5000]\ttraining's l2: 5.03727e-12\ttraining's l1: 1.22819e-06\tvalid_1's l2: 2.93869e-10\tvalid_1's l1: 2.71377e-06\n",
      "Did not meet early stopping. Best iteration is:\n",
      "[5000]\ttraining's l2: 5.03727e-12\ttraining's l1: 1.22819e-06\tvalid_1's l2: 2.93869e-10\tvalid_1's l1: 2.71377e-06\n",
      "processed: 40/594\n",
      "saving...\n",
      "(307511, 912)\n"
     ]
    },
    {
     "name": "stderr",
     "output_type": "stream",
     "text": [
      "\r",
      "40it [1:02:59, 94.48s/it]"
     ]
    },
    {
     "name": "stdout",
     "output_type": "stream",
     "text": [
      "start processing NAME_EDUCATION_TYPE_CODE_GENDER_AMT_INCOME_TOTAL_mean_abs_diff \n",
      "the na is:1.1227912590700482e-05\n",
      "(356251, 909)\n",
      "(4, 909)\n",
      "Training until validation scores don't improve for 100 rounds.\n",
      "Early stopping, best iteration is:\n",
      "[16]\ttraining's l2: 3.657e+10\ttraining's l1: 12150.4\tvalid_1's l2: 8.44052e+08\tvalid_1's l1: 11861.5\n",
      "processed: 41/594\n",
      "saving...\n",
      "(307511, 912)\n"
     ]
    },
    {
     "name": "stderr",
     "output_type": "stream",
     "text": [
      "\r",
      "41it [1:03:18, 92.65s/it]"
     ]
    },
    {
     "name": "stdout",
     "output_type": "stream",
     "text": [
      "start processing NAME_EDUCATION_TYPE_CODE_GENDER_AMT_INCOME_TOTAL_min_abs_diff \n",
      "the na is:1.1227912590700482e-05\n",
      "(356251, 909)\n",
      "(4, 909)\n",
      "Training until validation scores don't improve for 100 rounds.\n",
      "Early stopping, best iteration is:\n",
      "[16]\ttraining's l2: 3.65822e+10\ttraining's l1: 13666.1\tvalid_1's l2: 9.76338e+08\tvalid_1's l1: 13441.3\n",
      "processed: 42/594\n",
      "saving...\n",
      "(307511, 912)\n"
     ]
    },
    {
     "name": "stderr",
     "output_type": "stream",
     "text": [
      "\r",
      "42it [1:03:38, 90.91s/it]"
     ]
    },
    {
     "name": "stdout",
     "output_type": "stream",
     "text": [
      "start processing NAME_EDUCATION_TYPE_CODE_GENDER_AMT_INCOME_TOTAL_min_diff \n",
      "the na is:1.1227912590700482e-05\n",
      "(356251, 909)\n",
      "(4, 909)\n",
      "Training until validation scores don't improve for 100 rounds.\n",
      "Early stopping, best iteration is:\n",
      "[17]\ttraining's l2: 3.62907e+10\ttraining's l1: 12568.2\tvalid_1's l2: 8.81059e+08\tvalid_1's l1: 12297.1\n",
      "processed: 43/594\n",
      "saving...\n",
      "(307511, 912)\n"
     ]
    },
    {
     "name": "stderr",
     "output_type": "stream",
     "text": [
      "\r",
      "43it [1:03:57, 89.25s/it]"
     ]
    },
    {
     "name": "stdout",
     "output_type": "stream",
     "text": [
      "start processing NAME_EDUCATION_TYPE_CODE_GENDER_AMT_CREDIT_max_abs_diff \n",
      "the na is:1.1227912590700482e-05\n",
      "(356251, 909)\n",
      "(4, 909)\n",
      "Training until validation scores don't improve for 100 rounds.\n",
      "[200]\ttraining's l2: 3.71981e+07\ttraining's l1: 3763.71\tvalid_1's l2: 4.41709e+07\tvalid_1's l1: 3823.87\n",
      "[400]\ttraining's l2: 2.01307e+07\ttraining's l1: 2795.62\tvalid_1's l2: 2.8172e+07\tvalid_1's l1: 2899.52\n",
      "[600]\ttraining's l2: 1.39519e+07\ttraining's l1: 2323.03\tvalid_1's l2: 2.24782e+07\tvalid_1's l1: 2446.49\n",
      "[800]\ttraining's l2: 1.04241e+07\ttraining's l1: 1994.42\tvalid_1's l2: 1.92937e+07\tvalid_1's l1: 2139.24\n",
      "[1000]\ttraining's l2: 8.24958e+06\ttraining's l1: 1771.1\tvalid_1's l2: 1.72995e+07\tvalid_1's l1: 1935.93\n",
      "[1200]\ttraining's l2: 6.85178e+06\ttraining's l1: 1615.89\tvalid_1's l2: 1.61217e+07\tvalid_1's l1: 1801.8\n",
      "[1400]\ttraining's l2: 5.71784e+06\ttraining's l1: 1474.32\tvalid_1's l2: 1.51331e+07\tvalid_1's l1: 1675.37\n",
      "[1600]\ttraining's l2: 4.94954e+06\ttraining's l1: 1365.87\tvalid_1's l2: 1.44965e+07\tvalid_1's l1: 1580.97\n",
      "[1800]\ttraining's l2: 4.34235e+06\ttraining's l1: 1274.76\tvalid_1's l2: 1.40718e+07\tvalid_1's l1: 1503.26\n",
      "[2000]\ttraining's l2: 3.78843e+06\ttraining's l1: 1187.13\tvalid_1's l2: 1.35694e+07\tvalid_1's l1: 1427.61\n",
      "[2200]\ttraining's l2: 3.41066e+06\ttraining's l1: 1120.91\tvalid_1's l2: 1.33156e+07\tvalid_1's l1: 1374.58\n",
      "[2400]\ttraining's l2: 3.09316e+06\ttraining's l1: 1066.21\tvalid_1's l2: 1.31031e+07\tvalid_1's l1: 1332.35\n",
      "[2600]\ttraining's l2: 2.81451e+06\ttraining's l1: 1017.29\tvalid_1's l2: 1.29264e+07\tvalid_1's l1: 1295.92\n",
      "[2800]\ttraining's l2: 2.5375e+06\ttraining's l1: 964.011\tvalid_1's l2: 1.27161e+07\tvalid_1's l1: 1253.82\n",
      "[3000]\ttraining's l2: 2.33565e+06\ttraining's l1: 925.519\tvalid_1's l2: 1.25822e+07\tvalid_1's l1: 1226.55\n",
      "[3200]\ttraining's l2: 2.13333e+06\ttraining's l1: 884.95\tvalid_1's l2: 1.24378e+07\tvalid_1's l1: 1196.06\n",
      "[3400]\ttraining's l2: 1.98494e+06\ttraining's l1: 854.304\tvalid_1's l2: 1.23327e+07\tvalid_1's l1: 1175.98\n",
      "[3600]\ttraining's l2: 1.83031e+06\ttraining's l1: 822.115\tvalid_1's l2: 1.22105e+07\tvalid_1's l1: 1153.38\n",
      "[3800]\ttraining's l2: 1.70809e+06\ttraining's l1: 794.253\tvalid_1's l2: 1.21508e+07\tvalid_1's l1: 1135.41\n",
      "[4000]\ttraining's l2: 1.58982e+06\ttraining's l1: 766.15\tvalid_1's l2: 1.20792e+07\tvalid_1's l1: 1116.62\n",
      "[4200]\ttraining's l2: 1.48516e+06\ttraining's l1: 738.78\tvalid_1's l2: 1.19956e+07\tvalid_1's l1: 1096.87\n",
      "[4400]\ttraining's l2: 1.3927e+06\ttraining's l1: 716.127\tvalid_1's l2: 1.19389e+07\tvalid_1's l1: 1082.92\n",
      "[4600]\ttraining's l2: 1.30032e+06\ttraining's l1: 689.514\tvalid_1's l2: 1.18834e+07\tvalid_1's l1: 1063.92\n",
      "[4800]\ttraining's l2: 1.22802e+06\ttraining's l1: 670.733\tvalid_1's l2: 1.18349e+07\tvalid_1's l1: 1052.94\n",
      "[5000]\ttraining's l2: 1.15127e+06\ttraining's l1: 649.701\tvalid_1's l2: 1.17757e+07\tvalid_1's l1: 1039.21\n",
      "Did not meet early stopping. Best iteration is:\n",
      "[5000]\ttraining's l2: 1.15127e+06\ttraining's l1: 649.701\tvalid_1's l2: 1.17757e+07\tvalid_1's l1: 1039.21\n",
      "processed: 44/594\n",
      "saving...\n",
      "(307511, 912)\n"
     ]
    },
    {
     "name": "stderr",
     "output_type": "stream",
     "text": [
      "\r",
      "44it [1:05:57, 89.95s/it]"
     ]
    },
    {
     "name": "stdout",
     "output_type": "stream",
     "text": [
      "start processing NAME_EDUCATION_TYPE_CODE_GENDER_AMT_CREDIT_mean_abs_diff \n",
      "the na is:1.1227912590700482e-05\n",
      "(356251, 909)\n",
      "(4, 909)\n",
      "Training until validation scores don't improve for 100 rounds.\n",
      "[200]\ttraining's l2: 2.75622e+07\ttraining's l1: 3480.22\tvalid_1's l2: 3.15505e+07\tvalid_1's l1: 3515.76\n",
      "[400]\ttraining's l2: 1.45853e+07\ttraining's l1: 2521.34\tvalid_1's l2: 1.90626e+07\tvalid_1's l1: 2584.02\n",
      "[600]\ttraining's l2: 9.7171e+06\ttraining's l1: 2046.59\tvalid_1's l2: 1.43313e+07\tvalid_1's l1: 2126.53\n",
      "[800]\ttraining's l2: 7.34147e+06\ttraining's l1: 1777.37\tvalid_1's l2: 1.211e+07\tvalid_1's l1: 1873.24\n",
      "[1000]\ttraining's l2: 5.78472e+06\ttraining's l1: 1575.57\tvalid_1's l2: 1.06065e+07\tvalid_1's l1: 1681.85\n",
      "[1200]\ttraining's l2: 4.77334e+06\ttraining's l1: 1427.7\tvalid_1's l2: 9.76981e+06\tvalid_1's l1: 1546.69\n",
      "[1400]\ttraining's l2: 4.11093e+06\ttraining's l1: 1320.4\tvalid_1's l2: 9.18348e+06\tvalid_1's l1: 1450.96\n",
      "[1600]\ttraining's l2: 3.59903e+06\ttraining's l1: 1229.38\tvalid_1's l2: 8.73606e+06\tvalid_1's l1: 1370.8\n",
      "[1800]\ttraining's l2: 3.18599e+06\ttraining's l1: 1158.79\tvalid_1's l2: 8.38133e+06\tvalid_1's l1: 1311.31\n",
      "[2000]\ttraining's l2: 2.83763e+06\ttraining's l1: 1089.76\tvalid_1's l2: 8.11649e+06\tvalid_1's l1: 1252.79\n",
      "[2200]\ttraining's l2: 2.53168e+06\ttraining's l1: 1027.59\tvalid_1's l2: 7.85167e+06\tvalid_1's l1: 1200.33\n",
      "[2400]\ttraining's l2: 2.31235e+06\ttraining's l1: 981.592\tvalid_1's l2: 7.68216e+06\tvalid_1's l1: 1164.32\n",
      "[2600]\ttraining's l2: 2.10983e+06\ttraining's l1: 937.09\tvalid_1's l2: 7.52539e+06\tvalid_1's l1: 1129.07\n",
      "[2800]\ttraining's l2: 1.9407e+06\ttraining's l1: 898.017\tvalid_1's l2: 7.41636e+06\tvalid_1's l1: 1098.82\n",
      "[3000]\ttraining's l2: 1.80852e+06\ttraining's l1: 866.349\tvalid_1's l2: 7.32588e+06\tvalid_1's l1: 1075.82\n",
      "[3200]\ttraining's l2: 1.68835e+06\ttraining's l1: 837.485\tvalid_1's l2: 7.24657e+06\tvalid_1's l1: 1056.55\n",
      "[3400]\ttraining's l2: 1.5591e+06\ttraining's l1: 803.62\tvalid_1's l2: 7.15282e+06\tvalid_1's l1: 1030.36\n",
      "[3600]\ttraining's l2: 1.45123e+06\ttraining's l1: 774.828\tvalid_1's l2: 7.07844e+06\tvalid_1's l1: 1010.44\n",
      "[3800]\ttraining's l2: 1.35448e+06\ttraining's l1: 746.756\tvalid_1's l2: 6.99752e+06\tvalid_1's l1: 990.12\n",
      "[4000]\ttraining's l2: 1.27079e+06\ttraining's l1: 724.05\tvalid_1's l2: 6.9389e+06\tvalid_1's l1: 975.269\n",
      "[4200]\ttraining's l2: 1.19405e+06\ttraining's l1: 700.722\tvalid_1's l2: 6.88958e+06\tvalid_1's l1: 958.435\n",
      "[4400]\ttraining's l2: 1.13348e+06\ttraining's l1: 683.386\tvalid_1's l2: 6.84992e+06\tvalid_1's l1: 949.111\n",
      "[4600]\ttraining's l2: 1.08007e+06\ttraining's l1: 668.719\tvalid_1's l2: 6.8185e+06\tvalid_1's l1: 942.284\n",
      "[4800]\ttraining's l2: 1.03165e+06\ttraining's l1: 654.305\tvalid_1's l2: 6.79602e+06\tvalid_1's l1: 935.282\n",
      "[5000]\ttraining's l2: 975564\ttraining's l1: 635.392\tvalid_1's l2: 6.75544e+06\tvalid_1's l1: 922.759\n",
      "Did not meet early stopping. Best iteration is:\n",
      "[5000]\ttraining's l2: 975564\ttraining's l1: 635.392\tvalid_1's l2: 6.75544e+06\tvalid_1's l1: 922.759\n",
      "processed: 45/594\n",
      "saving...\n",
      "(307511, 912)\n"
     ]
    },
    {
     "name": "stderr",
     "output_type": "stream",
     "text": [
      "\r",
      "45it [1:08:00, 90.69s/it]"
     ]
    },
    {
     "name": "stdout",
     "output_type": "stream",
     "text": [
      "start processing NAME_EDUCATION_TYPE_CODE_GENDER_REGION_POPULATION_RELATIVE_mean_abs_diff \n",
      "the na is:1.1227912590700482e-05\n",
      "(356251, 909)\n",
      "(4, 909)\n",
      "Training until validation scores don't improve for 100 rounds.\n",
      "[200]\ttraining's l2: 3.12819e-09\ttraining's l1: 3.25741e-05\tvalid_1's l2: 3.93328e-09\tvalid_1's l1: 3.29271e-05\n",
      "[400]\ttraining's l2: 1.07843e-09\ttraining's l1: 1.84266e-05\tvalid_1's l2: 1.89215e-09\tvalid_1's l1: 1.91044e-05\n",
      "[600]\ttraining's l2: 5.20258e-10\ttraining's l1: 1.26671e-05\tvalid_1's l2: 1.37022e-09\tvalid_1's l1: 1.35359e-05\n",
      "[800]\ttraining's l2: 3.0268e-10\ttraining's l1: 9.34201e-06\tvalid_1's l2: 1.1618e-09\tvalid_1's l1: 1.03229e-05\n",
      "[1000]\ttraining's l2: 2.03045e-10\ttraining's l1: 7.56836e-06\tvalid_1's l2: 1.06639e-09\tvalid_1's l1: 8.66478e-06\n",
      "[1200]\ttraining's l2: 1.44734e-10\ttraining's l1: 6.24219e-06\tvalid_1's l2: 1.00203e-09\tvalid_1's l1: 7.41634e-06\n",
      "[1400]\ttraining's l2: 1.10076e-10\ttraining's l1: 5.34503e-06\tvalid_1's l2: 9.67118e-10\tvalid_1's l1: 6.59651e-06\n",
      "[1600]\ttraining's l2: 8.62353e-11\ttraining's l1: 4.63944e-06\tvalid_1's l2: 9.45032e-10\tvalid_1's l1: 5.95651e-06\n",
      "[1800]\ttraining's l2: 7.0097e-11\ttraining's l1: 4.15853e-06\tvalid_1's l2: 9.31956e-10\tvalid_1's l1: 5.53527e-06\n",
      "[2000]\ttraining's l2: 5.80241e-11\ttraining's l1: 3.78358e-06\tvalid_1's l2: 9.21325e-10\tvalid_1's l1: 5.23701e-06\n",
      "[2200]\ttraining's l2: 4.77688e-11\ttraining's l1: 3.39745e-06\tvalid_1's l2: 9.10618e-10\tvalid_1's l1: 4.90945e-06\n",
      "[2400]\ttraining's l2: 4.08334e-11\ttraining's l1: 3.1407e-06\tvalid_1's l2: 9.03762e-10\tvalid_1's l1: 4.71174e-06\n",
      "[2600]\ttraining's l2: 3.42981e-11\ttraining's l1: 2.88436e-06\tvalid_1's l2: 8.96806e-10\tvalid_1's l1: 4.50939e-06\n",
      "[2800]\ttraining's l2: 2.9712e-11\ttraining's l1: 2.68514e-06\tvalid_1's l2: 8.92985e-10\tvalid_1's l1: 4.36053e-06\n",
      "[3000]\ttraining's l2: 2.63904e-11\ttraining's l1: 2.55054e-06\tvalid_1's l2: 8.90736e-10\tvalid_1's l1: 4.27637e-06\n",
      "[3200]\ttraining's l2: 2.27009e-11\ttraining's l1: 2.34353e-06\tvalid_1's l2: 8.86186e-10\tvalid_1's l1: 4.10502e-06\n",
      "[3400]\ttraining's l2: 2.01664e-11\ttraining's l1: 2.21809e-06\tvalid_1's l2: 8.84157e-10\tvalid_1's l1: 4.02502e-06\n",
      "[3600]\ttraining's l2: 1.79627e-11\ttraining's l1: 2.09225e-06\tvalid_1's l2: 8.82308e-10\tvalid_1's l1: 3.93398e-06\n",
      "[3800]\ttraining's l2: 1.61152e-11\ttraining's l1: 1.99274e-06\tvalid_1's l2: 8.80571e-10\tvalid_1's l1: 3.87248e-06\n",
      "[4000]\ttraining's l2: 1.44512e-11\ttraining's l1: 1.89322e-06\tvalid_1's l2: 8.7941e-10\tvalid_1's l1: 3.80744e-06\n",
      "[4200]\ttraining's l2: 1.31139e-11\ttraining's l1: 1.81672e-06\tvalid_1's l2: 8.78174e-10\tvalid_1's l1: 3.76708e-06\n",
      "[4400]\ttraining's l2: 1.18172e-11\ttraining's l1: 1.72768e-06\tvalid_1's l2: 8.76729e-10\tvalid_1's l1: 3.70478e-06\n",
      "[4600]\ttraining's l2: 1.08783e-11\ttraining's l1: 1.67108e-06\tvalid_1's l2: 8.76495e-10\tvalid_1's l1: 3.68117e-06\n",
      "[4800]\ttraining's l2: 9.86098e-12\ttraining's l1: 1.59257e-06\tvalid_1's l2: 8.74746e-10\tvalid_1's l1: 3.62466e-06\n",
      "[5000]\ttraining's l2: 8.99976e-12\ttraining's l1: 1.52731e-06\tvalid_1's l2: 8.74049e-10\tvalid_1's l1: 3.58559e-06\n",
      "Did not meet early stopping. Best iteration is:\n",
      "[5000]\ttraining's l2: 8.99976e-12\ttraining's l1: 1.52731e-06\tvalid_1's l2: 8.74049e-10\tvalid_1's l1: 3.58559e-06\n",
      "processed: 46/594\n",
      "saving...\n",
      "(307511, 912)\n"
     ]
    },
    {
     "name": "stderr",
     "output_type": "stream",
     "text": [
      "\r",
      "46it [1:09:57, 91.24s/it]"
     ]
    },
    {
     "name": "stdout",
     "output_type": "stream",
     "text": [
      "start processing NAME_EDUCATION_TYPE_CODE_GENDER_DAYS_REGISTRATION_min_diff \n",
      "the na is:1.1227912590700482e-05\n",
      "(356251, 909)\n",
      "(4, 909)\n",
      "Training until validation scores don't improve for 100 rounds.\n",
      "[200]\ttraining's l2: 1819.6\ttraining's l1: 27.8069\tvalid_1's l2: 3180.67\tvalid_1's l1: 28.8227\n",
      "[400]\ttraining's l2: 1007.87\ttraining's l1: 21.8899\tvalid_1's l2: 2595.98\tvalid_1's l1: 23.4621\n",
      "[600]\ttraining's l2: 706.829\ttraining's l1: 18.684\tvalid_1's l2: 2372.7\tvalid_1's l1: 20.6131\n",
      "[800]\ttraining's l2: 543.519\ttraining's l1: 16.6946\tvalid_1's l2: 2245.93\tvalid_1's l1: 18.8833\n",
      "[1000]\ttraining's l2: 447.067\ttraining's l1: 15.2397\tvalid_1's l2: 2157.21\tvalid_1's l1: 17.6275\n",
      "[1200]\ttraining's l2: 379.114\ttraining's l1: 14.1834\tvalid_1's l2: 2100.34\tvalid_1's l1: 16.7731\n",
      "[1400]\ttraining's l2: 329.021\ttraining's l1: 13.3384\tvalid_1's l2: 2064.71\tvalid_1's l1: 16.1083\n",
      "[1600]\ttraining's l2: 292.446\ttraining's l1: 12.6904\tvalid_1's l2: 2035.15\tvalid_1's l1: 15.6172\n",
      "[1800]\ttraining's l2: 264.124\ttraining's l1: 12.1335\tvalid_1's l2: 2014.22\tvalid_1's l1: 15.1978\n",
      "[2000]\ttraining's l2: 242.931\ttraining's l1: 11.6821\tvalid_1's l2: 1999.73\tvalid_1's l1: 14.878\n",
      "[2200]\ttraining's l2: 224.913\ttraining's l1: 11.3092\tvalid_1's l2: 1987.14\tvalid_1's l1: 14.6395\n",
      "[2400]\ttraining's l2: 209.828\ttraining's l1: 10.974\tvalid_1's l2: 1978.23\tvalid_1's l1: 14.4296\n",
      "[2600]\ttraining's l2: 195.256\ttraining's l1: 10.6497\tvalid_1's l2: 1968.49\tvalid_1's l1: 14.2264\n",
      "[2800]\ttraining's l2: 183.659\ttraining's l1: 10.3659\tvalid_1's l2: 1960.69\tvalid_1's l1: 14.0506\n",
      "[3000]\ttraining's l2: 173.344\ttraining's l1: 10.1176\tvalid_1's l2: 1953.76\tvalid_1's l1: 13.9113\n",
      "Early stopping, best iteration is:\n",
      "[2986]\ttraining's l2: 173.753\ttraining's l1: 10.1294\tvalid_1's l2: 1953.18\tvalid_1's l1: 13.9164\n",
      "processed: 47/594\n",
      "saving...\n",
      "(307511, 912)\n"
     ]
    },
    {
     "name": "stderr",
     "output_type": "stream",
     "text": [
      "\r",
      "47it [1:11:18, 91.03s/it]"
     ]
    },
    {
     "name": "stdout",
     "output_type": "stream",
     "text": [
      "start processing NAME_EDUCATION_TYPE_CODE_GENDER_DAYS_REGISTRATION_min_abs_diff \n",
      "the na is:1.1227912590700482e-05\n",
      "(356251, 909)\n",
      "(4, 909)\n",
      "Training until validation scores don't improve for 100 rounds.\n",
      "[200]\ttraining's l2: 2736\ttraining's l1: 35.1536\tvalid_1's l2: 4365.26\tvalid_1's l1: 36.5169\n",
      "[400]\ttraining's l2: 1485.67\ttraining's l1: 26.8501\tvalid_1's l2: 3244.99\tvalid_1's l1: 28.5065\n",
      "[600]\ttraining's l2: 1003.72\ttraining's l1: 22.2893\tvalid_1's l2: 2815.06\tvalid_1's l1: 24.1764\n",
      "[800]\ttraining's l2: 754.38\ttraining's l1: 19.5127\tvalid_1's l2: 2616.01\tvalid_1's l1: 21.6515\n",
      "[1000]\ttraining's l2: 605.246\ttraining's l1: 17.6437\tvalid_1's l2: 2500.19\tvalid_1's l1: 20.0137\n",
      "[1200]\ttraining's l2: 503.54\ttraining's l1: 16.1585\tvalid_1's l2: 2414.85\tvalid_1's l1: 18.6733\n",
      "[1400]\ttraining's l2: 429.494\ttraining's l1: 15.0793\tvalid_1's l2: 2348\tvalid_1's l1: 17.7468\n",
      "[1600]\ttraining's l2: 377.557\ttraining's l1: 14.2036\tvalid_1's l2: 2313.1\tvalid_1's l1: 17.0461\n",
      "[1800]\ttraining's l2: 338.615\ttraining's l1: 13.5158\tvalid_1's l2: 2282.12\tvalid_1's l1: 16.5186\n",
      "[2000]\ttraining's l2: 305.035\ttraining's l1: 12.8495\tvalid_1's l2: 2256.38\tvalid_1's l1: 15.9861\n",
      "[2200]\ttraining's l2: 276.97\ttraining's l1: 12.2726\tvalid_1's l2: 2237.41\tvalid_1's l1: 15.5391\n",
      "[2400]\ttraining's l2: 254.311\ttraining's l1: 11.8221\tvalid_1's l2: 2223.52\tvalid_1's l1: 15.224\n",
      "[2600]\ttraining's l2: 234.439\ttraining's l1: 11.4079\tvalid_1's l2: 2209.19\tvalid_1's l1: 14.928\n",
      "[2800]\ttraining's l2: 219.631\ttraining's l1: 11.0722\tvalid_1's l2: 2199.45\tvalid_1's l1: 14.7227\n",
      "[3000]\ttraining's l2: 204.135\ttraining's l1: 10.726\tvalid_1's l2: 2187.86\tvalid_1's l1: 14.4846\n",
      "[3200]\ttraining's l2: 191.001\ttraining's l1: 10.3875\tvalid_1's l2: 2180.1\tvalid_1's l1: 14.2496\n",
      "[3400]\ttraining's l2: 179.941\ttraining's l1: 10.1152\tvalid_1's l2: 2174.29\tvalid_1's l1: 14.0818\n",
      "[3600]\ttraining's l2: 170.797\ttraining's l1: 9.89086\tvalid_1's l2: 2169.5\tvalid_1's l1: 13.9779\n",
      "[3800]\ttraining's l2: 161.24\ttraining's l1: 9.62947\tvalid_1's l2: 2163.09\tvalid_1's l1: 13.813\n",
      "[4000]\ttraining's l2: 154.188\ttraining's l1: 9.42439\tvalid_1's l2: 2158.96\tvalid_1's l1: 13.7149\n",
      "[4200]\ttraining's l2: 147.492\ttraining's l1: 9.23459\tvalid_1's l2: 2155.35\tvalid_1's l1: 13.6184\n",
      "[4400]\ttraining's l2: 140.931\ttraining's l1: 9.05416\tvalid_1's l2: 2153.18\tvalid_1's l1: 13.543\n",
      "[4600]\ttraining's l2: 134.192\ttraining's l1: 8.84498\tvalid_1's l2: 2147.58\tvalid_1's l1: 13.4209\n",
      "[4800]\ttraining's l2: 128.403\ttraining's l1: 8.65979\tvalid_1's l2: 2144.52\tvalid_1's l1: 13.3245\n",
      "[5000]\ttraining's l2: 123.646\ttraining's l1: 8.51359\tvalid_1's l2: 2142.48\tvalid_1's l1: 13.2673\n",
      "Did not meet early stopping. Best iteration is:\n",
      "[5000]\ttraining's l2: 123.646\ttraining's l1: 8.51359\tvalid_1's l2: 2142.48\tvalid_1's l1: 13.2673\n",
      "processed: 48/594\n",
      "saving...\n",
      "(307511, 912)\n"
     ]
    },
    {
     "name": "stderr",
     "output_type": "stream",
     "text": [
      "\r",
      "48it [1:13:18, 91.64s/it]"
     ]
    },
    {
     "name": "stdout",
     "output_type": "stream",
     "text": [
      "start processing NAME_EDUCATION_TYPE_CODE_GENDER_DAYS_REGISTRATION_mean_diff \n",
      "the na is:1.1227912590700482e-05\n",
      "(356251, 909)\n",
      "(4, 909)\n",
      "Training until validation scores don't improve for 100 rounds.\n",
      "[200]\ttraining's l2: 2013.1\ttraining's l1: 28.9687\tvalid_1's l2: 3063.43\tvalid_1's l1: 29.6221\n",
      "[400]\ttraining's l2: 1142.51\ttraining's l1: 22.6784\tvalid_1's l2: 2491.47\tvalid_1's l1: 23.8046\n",
      "[600]\ttraining's l2: 787.81\ttraining's l1: 19.1533\tvalid_1's l2: 2234.56\tvalid_1's l1: 20.5574\n",
      "[800]\ttraining's l2: 594.091\ttraining's l1: 17.034\tvalid_1's l2: 2112.47\tvalid_1's l1: 18.6754\n",
      "[1000]\ttraining's l2: 468.224\ttraining's l1: 15.2594\tvalid_1's l2: 1989.5\tvalid_1's l1: 17.0586\n",
      "[1200]\ttraining's l2: 385.528\ttraining's l1: 14.0338\tvalid_1's l2: 1928.95\tvalid_1's l1: 16.0065\n",
      "[1400]\ttraining's l2: 326.462\ttraining's l1: 13.147\tvalid_1's l2: 1877\tvalid_1's l1: 15.2832\n",
      "[1600]\ttraining's l2: 283.857\ttraining's l1: 12.3066\tvalid_1's l2: 1845.13\tvalid_1's l1: 14.5845\n",
      "[1800]\ttraining's l2: 255.451\ttraining's l1: 11.6969\tvalid_1's l2: 1822.41\tvalid_1's l1: 14.0882\n",
      "[2000]\ttraining's l2: 231.159\ttraining's l1: 11.1844\tvalid_1's l2: 1807.52\tvalid_1's l1: 13.7095\n",
      "[2200]\ttraining's l2: 211.446\ttraining's l1: 10.747\tvalid_1's l2: 1794.53\tvalid_1's l1: 13.396\n",
      "[2400]\ttraining's l2: 194.552\ttraining's l1: 10.3274\tvalid_1's l2: 1783.32\tvalid_1's l1: 13.083\n",
      "[2600]\ttraining's l2: 180.717\ttraining's l1: 9.99519\tvalid_1's l2: 1770.83\tvalid_1's l1: 12.8639\n",
      "[2800]\ttraining's l2: 169.893\ttraining's l1: 9.72352\tvalid_1's l2: 1764.88\tvalid_1's l1: 12.7074\n",
      "[3000]\ttraining's l2: 159.901\ttraining's l1: 9.46227\tvalid_1's l2: 1758.61\tvalid_1's l1: 12.5474\n",
      "[3200]\ttraining's l2: 149.662\ttraining's l1: 9.14827\tvalid_1's l2: 1750.1\tvalid_1's l1: 12.3141\n",
      "[3400]\ttraining's l2: 141.608\ttraining's l1: 8.92057\tvalid_1's l2: 1745.89\tvalid_1's l1: 12.1842\n",
      "[3600]\ttraining's l2: 133.889\ttraining's l1: 8.68836\tvalid_1's l2: 1741.28\tvalid_1's l1: 12.0429\n",
      "[3800]\ttraining's l2: 127.07\ttraining's l1: 8.48776\tvalid_1's l2: 1737.85\tvalid_1's l1: 11.9406\n",
      "[4000]\ttraining's l2: 121.531\ttraining's l1: 8.32105\tvalid_1's l2: 1734.31\tvalid_1's l1: 11.867\n",
      "[4200]\ttraining's l2: 116.341\ttraining's l1: 8.15863\tvalid_1's l2: 1733.02\tvalid_1's l1: 11.7977\n",
      "[4400]\ttraining's l2: 111.705\ttraining's l1: 7.9999\tvalid_1's l2: 1731.03\tvalid_1's l1: 11.727\n",
      "[4600]\ttraining's l2: 106.722\ttraining's l1: 7.824\tvalid_1's l2: 1727.31\tvalid_1's l1: 11.6223\n",
      "[4800]\ttraining's l2: 102.639\ttraining's l1: 7.67766\tvalid_1's l2: 1724.88\tvalid_1's l1: 11.5565\n",
      "[5000]\ttraining's l2: 98.6361\ttraining's l1: 7.54412\tvalid_1's l2: 1721.55\tvalid_1's l1: 11.5014\n",
      "Did not meet early stopping. Best iteration is:\n",
      "[5000]\ttraining's l2: 98.6361\ttraining's l1: 7.54412\tvalid_1's l2: 1721.55\tvalid_1's l1: 11.5014\n",
      "processed: 49/594\n",
      "saving...\n",
      "(307511, 912)\n"
     ]
    },
    {
     "name": "stderr",
     "output_type": "stream",
     "text": [
      "\r",
      "49it [1:15:20, 92.25s/it]"
     ]
    },
    {
     "name": "stdout",
     "output_type": "stream",
     "text": [
      "start processing NAME_EDUCATION_TYPE_CODE_GENDER_DAYS_REGISTRATION_max_diff \n",
      "the na is:1.1227912590700482e-05\n",
      "(356251, 909)\n",
      "(4, 909)\n",
      "Training until validation scores don't improve for 100 rounds.\n",
      "[200]\ttraining's l2: 3146.89\ttraining's l1: 37.7892\tvalid_1's l2: 4271.46\tvalid_1's l1: 38.4174\n",
      "[400]\ttraining's l2: 1868.4\ttraining's l1: 29.5621\tvalid_1's l2: 3227.88\tvalid_1's l1: 30.5932\n",
      "[600]\ttraining's l2: 1309.48\ttraining's l1: 25.5539\tvalid_1's l2: 2840.37\tvalid_1's l1: 26.9751\n",
      "[800]\ttraining's l2: 990.81\ttraining's l1: 22.8451\tvalid_1's l2: 2645.87\tvalid_1's l1: 24.5702\n",
      "[1000]\ttraining's l2: 791.669\ttraining's l1: 20.5834\tvalid_1's l2: 2486.67\tvalid_1's l1: 22.533\n",
      "[1200]\ttraining's l2: 653.577\ttraining's l1: 18.9188\tvalid_1's l2: 2373.1\tvalid_1's l1: 21.0768\n",
      "[1400]\ttraining's l2: 561.765\ttraining's l1: 17.6438\tvalid_1's l2: 2293.92\tvalid_1's l1: 20.0036\n",
      "[1600]\ttraining's l2: 492.73\ttraining's l1: 16.5984\tvalid_1's l2: 2241.82\tvalid_1's l1: 19.142\n",
      "[1800]\ttraining's l2: 444.061\ttraining's l1: 15.7894\tvalid_1's l2: 2208.94\tvalid_1's l1: 18.5074\n",
      "[2000]\ttraining's l2: 396.944\ttraining's l1: 14.9789\tvalid_1's l2: 2169.59\tvalid_1's l1: 17.8373\n",
      "[2200]\ttraining's l2: 360.906\ttraining's l1: 14.2874\tvalid_1's l2: 2141.73\tvalid_1's l1: 17.2944\n",
      "[2400]\ttraining's l2: 332.971\ttraining's l1: 13.7656\tvalid_1's l2: 2116.14\tvalid_1's l1: 16.9015\n",
      "[2600]\ttraining's l2: 306.271\ttraining's l1: 13.2222\tvalid_1's l2: 2094.84\tvalid_1's l1: 16.4839\n",
      "[2800]\ttraining's l2: 284.225\ttraining's l1: 12.7651\tvalid_1's l2: 2081.66\tvalid_1's l1: 16.1515\n",
      "[3000]\ttraining's l2: 268.688\ttraining's l1: 12.4521\tvalid_1's l2: 2071.53\tvalid_1's l1: 15.9763\n",
      "[3200]\ttraining's l2: 253.937\ttraining's l1: 12.1313\tvalid_1's l2: 2063.64\tvalid_1's l1: 15.7852\n",
      "[3400]\ttraining's l2: 238.28\ttraining's l1: 11.7569\tvalid_1's l2: 2053.53\tvalid_1's l1: 15.5091\n",
      "[3600]\ttraining's l2: 225.813\ttraining's l1: 11.4705\tvalid_1's l2: 2045.45\tvalid_1's l1: 15.337\n",
      "[3800]\ttraining's l2: 215.158\ttraining's l1: 11.2126\tvalid_1's l2: 2040.28\tvalid_1's l1: 15.1902\n",
      "[4000]\ttraining's l2: 203.652\ttraining's l1: 10.9225\tvalid_1's l2: 2030.58\tvalid_1's l1: 14.9977\n",
      "[4200]\ttraining's l2: 193.663\ttraining's l1: 10.662\tvalid_1's l2: 2023.12\tvalid_1's l1: 14.8358\n",
      "[4400]\ttraining's l2: 184.655\ttraining's l1: 10.4146\tvalid_1's l2: 2017.5\tvalid_1's l1: 14.6833\n",
      "[4600]\ttraining's l2: 177.781\ttraining's l1: 10.2301\tvalid_1's l2: 2015.02\tvalid_1's l1: 14.608\n",
      "[4800]\ttraining's l2: 171.615\ttraining's l1: 10.0572\tvalid_1's l2: 2011.76\tvalid_1's l1: 14.5376\n",
      "[5000]\ttraining's l2: 165.768\ttraining's l1: 9.89782\tvalid_1's l2: 2008.98\tvalid_1's l1: 14.4841\n",
      "Did not meet early stopping. Best iteration is:\n",
      "[5000]\ttraining's l2: 165.768\ttraining's l1: 9.89782\tvalid_1's l2: 2008.98\tvalid_1's l1: 14.4841\n",
      "processed: 50/594\n",
      "saving...\n",
      "(307511, 912)\n"
     ]
    },
    {
     "name": "stderr",
     "output_type": "stream",
     "text": [
      "\r",
      "50it [1:17:24, 92.89s/it]"
     ]
    },
    {
     "name": "stdout",
     "output_type": "stream",
     "text": [
      "start processing NAME_EDUCATION_TYPE_CODE_GENDER_AMT_CREDIT_mean_diff \n",
      "the na is:1.1227912590700482e-05\n",
      "(356251, 909)\n",
      "(4, 909)\n",
      "Training until validation scores don't improve for 100 rounds.\n",
      "[200]\ttraining's l2: 1.5232e+07\ttraining's l1: 2510.25\tvalid_1's l2: 2.04873e+07\tvalid_1's l1: 2572\n",
      "[400]\ttraining's l2: 8.35337e+06\ttraining's l1: 1841.82\tvalid_1's l2: 1.3734e+07\tvalid_1's l1: 1929.17\n",
      "[600]\ttraining's l2: 5.79579e+06\ttraining's l1: 1515.94\tvalid_1's l2: 1.12105e+07\tvalid_1's l1: 1617.09\n",
      "[800]\ttraining's l2: 4.29134e+06\ttraining's l1: 1294.43\tvalid_1's l2: 9.77699e+06\tvalid_1's l1: 1408.38\n",
      "[1000]\ttraining's l2: 3.40485e+06\ttraining's l1: 1145.8\tvalid_1's l2: 8.95206e+06\tvalid_1's l1: 1270.14\n",
      "[1200]\ttraining's l2: 2.76868e+06\ttraining's l1: 1026.96\tvalid_1's l2: 8.43859e+06\tvalid_1's l1: 1158.33\n",
      "[1400]\ttraining's l2: 2.3032e+06\ttraining's l1: 934.299\tvalid_1's l2: 7.9811e+06\tvalid_1's l1: 1074.58\n",
      "[1600]\ttraining's l2: 1.93603e+06\ttraining's l1: 849.821\tvalid_1's l2: 7.61274e+06\tvalid_1's l1: 995.734\n",
      "[1800]\ttraining's l2: 1.69234e+06\ttraining's l1: 792.917\tvalid_1's l2: 7.42777e+06\tvalid_1's l1: 946.84\n",
      "[2000]\ttraining's l2: 1.49152e+06\ttraining's l1: 742.891\tvalid_1's l2: 7.25874e+06\tvalid_1's l1: 903.338\n",
      "[2200]\ttraining's l2: 1.32312e+06\ttraining's l1: 697.137\tvalid_1's l2: 7.12951e+06\tvalid_1's l1: 864.484\n",
      "[2400]\ttraining's l2: 1.18537e+06\ttraining's l1: 658.698\tvalid_1's l2: 7.00768e+06\tvalid_1's l1: 831.693\n",
      "[2600]\ttraining's l2: 1.08106e+06\ttraining's l1: 630.874\tvalid_1's l2: 6.9165e+06\tvalid_1's l1: 811.047\n",
      "[2800]\ttraining's l2: 987115\ttraining's l1: 600.436\tvalid_1's l2: 6.83843e+06\tvalid_1's l1: 785.874\n",
      "[3000]\ttraining's l2: 907168\ttraining's l1: 574.617\tvalid_1's l2: 6.76884e+06\tvalid_1's l1: 766.243\n",
      "[3200]\ttraining's l2: 837931\ttraining's l1: 553.25\tvalid_1's l2: 6.71096e+06\tvalid_1's l1: 751.073\n",
      "[3400]\ttraining's l2: 771783\ttraining's l1: 528.955\tvalid_1's l2: 6.65813e+06\tvalid_1's l1: 732.001\n",
      "[3600]\ttraining's l2: 717534\ttraining's l1: 510.754\tvalid_1's l2: 6.60939e+06\tvalid_1's l1: 719.506\n",
      "[3800]\ttraining's l2: 669729\ttraining's l1: 492.612\tvalid_1's l2: 6.57569e+06\tvalid_1's l1: 706.454\n",
      "[4000]\ttraining's l2: 621030\ttraining's l1: 473.791\tvalid_1's l2: 6.5381e+06\tvalid_1's l1: 692.177\n",
      "[4200]\ttraining's l2: 582987\ttraining's l1: 459.929\tvalid_1's l2: 6.5096e+06\tvalid_1's l1: 683.491\n",
      "[4400]\ttraining's l2: 546543\ttraining's l1: 445.309\tvalid_1's l2: 6.48767e+06\tvalid_1's l1: 674.208\n",
      "[4600]\ttraining's l2: 514186\ttraining's l1: 432.69\tvalid_1's l2: 6.45479e+06\tvalid_1's l1: 666.246\n",
      "[4800]\ttraining's l2: 485468\ttraining's l1: 420.146\tvalid_1's l2: 6.43778e+06\tvalid_1's l1: 658.748\n",
      "[5000]\ttraining's l2: 455888\ttraining's l1: 406.008\tvalid_1's l2: 6.41502e+06\tvalid_1's l1: 648.584\n",
      "Did not meet early stopping. Best iteration is:\n",
      "[5000]\ttraining's l2: 455888\ttraining's l1: 406.008\tvalid_1's l2: 6.41502e+06\tvalid_1's l1: 648.584\n",
      "processed: 51/594\n",
      "saving...\n",
      "(307511, 912)\n"
     ]
    },
    {
     "name": "stderr",
     "output_type": "stream",
     "text": [
      "\r",
      "51it [1:19:26, 93.45s/it]"
     ]
    },
    {
     "name": "stdout",
     "output_type": "stream",
     "text": [
      "start processing NAME_EDUCATION_TYPE_CODE_GENDER_AMT_CREDIT_min_abs_diff \n",
      "the na is:1.1227912590700482e-05\n",
      "(356251, 909)\n",
      "(4, 909)\n",
      "Training until validation scores don't improve for 100 rounds.\n",
      "[200]\ttraining's l2: 5.9791e+06\ttraining's l1: 1369.4\tvalid_1's l2: 9.73896e+06\tvalid_1's l1: 1420.95\n",
      "[400]\ttraining's l2: 3.74451e+06\ttraining's l1: 1116.39\tvalid_1's l2: 7.75497e+06\tvalid_1's l1: 1178.8\n",
      "[600]\ttraining's l2: 2.70225e+06\ttraining's l1: 953.864\tvalid_1's l2: 6.86198e+06\tvalid_1's l1: 1024.13\n",
      "[800]\ttraining's l2: 2.07679e+06\ttraining's l1: 836.097\tvalid_1's l2: 6.30862e+06\tvalid_1's l1: 913.758\n",
      "[1000]\ttraining's l2: 1.64057e+06\ttraining's l1: 743.632\tvalid_1's l2: 5.9258e+06\tvalid_1's l1: 829.995\n",
      "[1200]\ttraining's l2: 1.38389e+06\ttraining's l1: 674.838\tvalid_1's l2: 5.69938e+06\tvalid_1's l1: 769.387\n",
      "[1400]\ttraining's l2: 1.18167e+06\ttraining's l1: 623.796\tvalid_1's l2: 5.48194e+06\tvalid_1's l1: 725.834\n",
      "[1600]\ttraining's l2: 1.01442e+06\ttraining's l1: 574.376\tvalid_1's l2: 5.32158e+06\tvalid_1's l1: 682.793\n",
      "[1800]\ttraining's l2: 894589\ttraining's l1: 538.73\tvalid_1's l2: 5.21658e+06\tvalid_1's l1: 653.659\n",
      "[2000]\ttraining's l2: 796745\ttraining's l1: 506.251\tvalid_1's l2: 5.14446e+06\tvalid_1's l1: 626.703\n",
      "[2200]\ttraining's l2: 724105\ttraining's l1: 481.487\tvalid_1's l2: 5.0796e+06\tvalid_1's l1: 606.931\n",
      "[2400]\ttraining's l2: 657033\ttraining's l1: 456.402\tvalid_1's l2: 5.02635e+06\tvalid_1's l1: 586.771\n",
      "[2600]\ttraining's l2: 600561\ttraining's l1: 435.069\tvalid_1's l2: 4.97332e+06\tvalid_1's l1: 570.847\n",
      "[2800]\ttraining's l2: 548962\ttraining's l1: 415.025\tvalid_1's l2: 4.93399e+06\tvalid_1's l1: 555.882\n",
      "[3000]\ttraining's l2: 512306\ttraining's l1: 400.296\tvalid_1's l2: 4.91244e+06\tvalid_1's l1: 546.399\n",
      "[3200]\ttraining's l2: 472642\ttraining's l1: 384.283\tvalid_1's l2: 4.894e+06\tvalid_1's l1: 535.054\n",
      "[3400]\ttraining's l2: 441434\ttraining's l1: 371.334\tvalid_1's l2: 4.87414e+06\tvalid_1's l1: 527.02\n",
      "[3600]\ttraining's l2: 409075\ttraining's l1: 357.455\tvalid_1's l2: 4.84293e+06\tvalid_1's l1: 517.167\n",
      "[3800]\ttraining's l2: 386122\ttraining's l1: 347.711\tvalid_1's l2: 4.83296e+06\tvalid_1's l1: 512.281\n",
      "[4000]\ttraining's l2: 361122\ttraining's l1: 335.976\tvalid_1's l2: 4.81584e+06\tvalid_1's l1: 504.898\n",
      "[4200]\ttraining's l2: 335868\ttraining's l1: 323.953\tvalid_1's l2: 4.79742e+06\tvalid_1's l1: 496.558\n",
      "[4400]\ttraining's l2: 315567\ttraining's l1: 314.008\tvalid_1's l2: 4.78438e+06\tvalid_1's l1: 490.453\n",
      "[4600]\ttraining's l2: 295596\ttraining's l1: 303.675\tvalid_1's l2: 4.76975e+06\tvalid_1's l1: 483.606\n",
      "[4800]\ttraining's l2: 279865\ttraining's l1: 295.658\tvalid_1's l2: 4.76292e+06\tvalid_1's l1: 479.426\n",
      "[5000]\ttraining's l2: 265031\ttraining's l1: 287.786\tvalid_1's l2: 4.75085e+06\tvalid_1's l1: 475.015\n",
      "Did not meet early stopping. Best iteration is:\n",
      "[5000]\ttraining's l2: 265031\ttraining's l1: 287.786\tvalid_1's l2: 4.75085e+06\tvalid_1's l1: 475.015\n",
      "processed: 52/594\n",
      "saving...\n",
      "(307511, 912)\n"
     ]
    },
    {
     "name": "stderr",
     "output_type": "stream",
     "text": [
      "\r",
      "52it [1:21:23, 93.90s/it]"
     ]
    },
    {
     "name": "stdout",
     "output_type": "stream",
     "text": [
      "start processing NAME_EDUCATION_TYPE_CODE_GENDER_AMT_CREDIT_min_diff \n",
      "the na is:1.1227912590700482e-05\n",
      "(356251, 909)\n",
      "(4, 909)\n",
      "Training until validation scores don't improve for 100 rounds.\n",
      "[200]\ttraining's l2: 8.20486e+06\ttraining's l1: 1680.24\tvalid_1's l2: 1.1859e+07\tvalid_1's l1: 1736.5\n",
      "[400]\ttraining's l2: 4.65701e+06\ttraining's l1: 1277.45\tvalid_1's l2: 8.51177e+06\tvalid_1's l1: 1343.74\n",
      "[600]\ttraining's l2: 3.22347e+06\ttraining's l1: 1051.51\tvalid_1's l2: 7.14593e+06\tvalid_1's l1: 1126.6\n",
      "[800]\ttraining's l2: 2.43043e+06\ttraining's l1: 919.048\tvalid_1's l2: 6.37244e+06\tvalid_1's l1: 1002.91\n",
      "[1000]\ttraining's l2: 1.95075e+06\ttraining's l1: 818.745\tvalid_1's l2: 5.83861e+06\tvalid_1's l1: 909.368\n",
      "[1200]\ttraining's l2: 1.60031e+06\ttraining's l1: 735.055\tvalid_1's l2: 5.50302e+06\tvalid_1's l1: 832.882\n",
      "[1400]\ttraining's l2: 1.38305e+06\ttraining's l1: 682.274\tvalid_1's l2: 5.33077e+06\tvalid_1's l1: 787.672\n",
      "[1600]\ttraining's l2: 1.21068e+06\ttraining's l1: 637.771\tvalid_1's l2: 5.18227e+06\tvalid_1's l1: 750.558\n",
      "[1800]\ttraining's l2: 1.05968e+06\ttraining's l1: 595.233\tvalid_1's l2: 5.0537e+06\tvalid_1's l1: 714.056\n",
      "[2000]\ttraining's l2: 933795\ttraining's l1: 556.93\tvalid_1's l2: 4.96225e+06\tvalid_1's l1: 681.893\n",
      "[2200]\ttraining's l2: 837665\ttraining's l1: 525.837\tvalid_1's l2: 4.89265e+06\tvalid_1's l1: 656.043\n",
      "[2400]\ttraining's l2: 758197\ttraining's l1: 497.737\tvalid_1's l2: 4.82688e+06\tvalid_1's l1: 633.95\n",
      "[2600]\ttraining's l2: 690583\ttraining's l1: 475.473\tvalid_1's l2: 4.7664e+06\tvalid_1's l1: 617.011\n",
      "[2800]\ttraining's l2: 629362\ttraining's l1: 453.354\tvalid_1's l2: 4.72254e+06\tvalid_1's l1: 600.369\n",
      "[3000]\ttraining's l2: 580370\ttraining's l1: 436.317\tvalid_1's l2: 4.69123e+06\tvalid_1's l1: 588.963\n",
      "[3200]\ttraining's l2: 534258\ttraining's l1: 417.55\tvalid_1's l2: 4.65495e+06\tvalid_1's l1: 574.458\n",
      "[3400]\ttraining's l2: 493859\ttraining's l1: 400.145\tvalid_1's l2: 4.62279e+06\tvalid_1's l1: 561.095\n",
      "[3600]\ttraining's l2: 456722\ttraining's l1: 384.864\tvalid_1's l2: 4.59359e+06\tvalid_1's l1: 550.816\n",
      "[3800]\ttraining's l2: 427452\ttraining's l1: 372.585\tvalid_1's l2: 4.5789e+06\tvalid_1's l1: 543.202\n",
      "[4000]\ttraining's l2: 398772\ttraining's l1: 359.643\tvalid_1's l2: 4.56016e+06\tvalid_1's l1: 534.483\n",
      "[4200]\ttraining's l2: 371274\ttraining's l1: 346.395\tvalid_1's l2: 4.53769e+06\tvalid_1's l1: 525.066\n",
      "[4400]\ttraining's l2: 345301\ttraining's l1: 334.417\tvalid_1's l2: 4.51417e+06\tvalid_1's l1: 516.463\n",
      "[4600]\ttraining's l2: 325860\ttraining's l1: 325.457\tvalid_1's l2: 4.50295e+06\tvalid_1's l1: 511.519\n",
      "[4800]\ttraining's l2: 306035\ttraining's l1: 315.228\tvalid_1's l2: 4.48597e+06\tvalid_1's l1: 504.859\n",
      "[5000]\ttraining's l2: 287813\ttraining's l1: 305.851\tvalid_1's l2: 4.4738e+06\tvalid_1's l1: 499.188\n",
      "Did not meet early stopping. Best iteration is:\n",
      "[5000]\ttraining's l2: 287813\ttraining's l1: 305.851\tvalid_1's l2: 4.4738e+06\tvalid_1's l1: 499.188\n",
      "processed: 53/594\n",
      "saving...\n",
      "(307511, 912)\n"
     ]
    },
    {
     "name": "stderr",
     "output_type": "stream",
     "text": [
      "\r",
      "53it [1:23:22, 94.39s/it]"
     ]
    },
    {
     "name": "stdout",
     "output_type": "stream",
     "text": [
      "start processing CODE_GENDER_REG_CITY_NOT_WORK_CITY_DAYS_ID_PUBLISH_mean_abs_diff \n",
      "the na is:1.1227912590700482e-05\n",
      "(356251, 909)\n",
      "(4, 909)\n",
      "Training until validation scores don't improve for 100 rounds.\n",
      "[200]\ttraining's l2: 559.584\ttraining's l1: 16.6536\tvalid_1's l2: 576.112\tvalid_1's l1: 16.8377\n",
      "[400]\ttraining's l2: 301.862\ttraining's l1: 12.3508\tvalid_1's l2: 319.28\tvalid_1's l1: 12.5953\n",
      "[600]\ttraining's l2: 208.719\ttraining's l1: 10.3314\tvalid_1's l2: 227.311\tvalid_1's l1: 10.6227\n",
      "[800]\ttraining's l2: 162.574\ttraining's l1: 9.13381\tvalid_1's l2: 182.7\tvalid_1's l1: 9.46215\n",
      "[1000]\ttraining's l2: 134.715\ttraining's l1: 8.31162\tvalid_1's l2: 157.128\tvalid_1's l1: 8.70254\n",
      "[1200]\ttraining's l2: 115.928\ttraining's l1: 7.72483\tvalid_1's l2: 140.386\tvalid_1's l1: 8.17088\n",
      "[1400]\ttraining's l2: 102.95\ttraining's l1: 7.27849\tvalid_1's l2: 129.375\tvalid_1's l1: 7.78313\n",
      "[1600]\ttraining's l2: 92.2438\ttraining's l1: 6.91954\tvalid_1's l2: 120.294\tvalid_1's l1: 7.48162\n",
      "[1800]\ttraining's l2: 82.6926\ttraining's l1: 6.57603\tvalid_1's l2: 111.934\tvalid_1's l1: 7.19153\n",
      "[2000]\ttraining's l2: 75.0551\ttraining's l1: 6.28651\tvalid_1's l2: 105.368\tvalid_1's l1: 6.95204\n",
      "[2200]\ttraining's l2: 68.814\ttraining's l1: 6.02884\tvalid_1's l2: 100.456\tvalid_1's l1: 6.74787\n",
      "[2400]\ttraining's l2: 64.7537\ttraining's l1: 5.85308\tvalid_1's l2: 97.9825\tvalid_1's l1: 6.63353\n",
      "[2600]\ttraining's l2: 61.6275\ttraining's l1: 5.71847\tvalid_1's l2: 96.3325\tvalid_1's l1: 6.56127\n",
      "[2800]\ttraining's l2: 58.1029\ttraining's l1: 5.55943\tvalid_1's l2: 93.9098\tvalid_1's l1: 6.45431\n",
      "[3000]\ttraining's l2: 53.8853\ttraining's l1: 5.3526\tvalid_1's l2: 90.1873\tvalid_1's l1: 6.29108\n",
      "[3200]\ttraining's l2: 50.9139\ttraining's l1: 5.20922\tvalid_1's l2: 87.9774\tvalid_1's l1: 6.19662\n",
      "[3400]\ttraining's l2: 47.3249\ttraining's l1: 5.0273\tvalid_1's l2: 84.7419\tvalid_1's l1: 6.05445\n",
      "[3600]\ttraining's l2: 44.9228\ttraining's l1: 4.90767\tvalid_1's l2: 83.0892\tvalid_1's l1: 5.98285\n",
      "[3800]\ttraining's l2: 42.5727\ttraining's l1: 4.78168\tvalid_1's l2: 81.5278\tvalid_1's l1: 5.90414\n",
      "[4000]\ttraining's l2: 40.2421\ttraining's l1: 4.65089\tvalid_1's l2: 79.5434\tvalid_1's l1: 5.81136\n",
      "[4200]\ttraining's l2: 37.9602\ttraining's l1: 4.52108\tvalid_1's l2: 77.7554\tvalid_1's l1: 5.72226\n",
      "[4400]\ttraining's l2: 36.5944\ttraining's l1: 4.44551\tvalid_1's l2: 77.2446\tvalid_1's l1: 5.69673\n",
      "[4600]\ttraining's l2: 35.1472\ttraining's l1: 4.35688\tvalid_1's l2: 76.4076\tvalid_1's l1: 5.65162\n",
      "[4800]\ttraining's l2: 33.7671\ttraining's l1: 4.27206\tvalid_1's l2: 75.6174\tvalid_1's l1: 5.61022\n",
      "[5000]\ttraining's l2: 32.5593\ttraining's l1: 4.19409\tvalid_1's l2: 75.0424\tvalid_1's l1: 5.57434\n",
      "Did not meet early stopping. Best iteration is:\n",
      "[5000]\ttraining's l2: 32.5593\ttraining's l1: 4.19409\tvalid_1's l2: 75.0424\tvalid_1's l1: 5.57434\n",
      "processed: 54/594\n",
      "saving...\n",
      "(307511, 912)\n"
     ]
    },
    {
     "name": "stderr",
     "output_type": "stream",
     "text": [
      "\r",
      "54it [1:25:25, 94.92s/it]"
     ]
    },
    {
     "name": "stdout",
     "output_type": "stream",
     "text": [
      "start processing NAME_FAMILY_STATUS_CODE_GENDER_DAYS_BIRTH_max_abs_diff \n",
      "the na is:1.684186888605072e-05\n",
      "(356249, 909)\n",
      "(6, 909)\n",
      "Training until validation scores don't improve for 100 rounds.\n",
      "[200]\ttraining's l2: 568.56\ttraining's l1: 18.2315\tvalid_1's l2: 632.074\tvalid_1's l1: 18.4911\n",
      "[400]\ttraining's l2: 396.243\ttraining's l1: 15.4863\tvalid_1's l2: 458.401\tvalid_1's l1: 15.8141\n",
      "[600]\ttraining's l2: 298.383\ttraining's l1: 13.5821\tvalid_1's l2: 358.913\tvalid_1's l1: 13.9793\n",
      "[800]\ttraining's l2: 245.151\ttraining's l1: 12.3856\tvalid_1's l2: 305.745\tvalid_1's l1: 12.8522\n",
      "[1000]\ttraining's l2: 205.85\ttraining's l1: 11.3995\tvalid_1's l2: 266.04\tvalid_1's l1: 11.9286\n",
      "[1200]\ttraining's l2: 180.192\ttraining's l1: 10.6849\tvalid_1's l2: 241.595\tvalid_1's l1: 11.2856\n",
      "[1400]\ttraining's l2: 160.887\ttraining's l1: 10.1158\tvalid_1's l2: 224.086\tvalid_1's l1: 10.7961\n",
      "[1600]\ttraining's l2: 145.017\ttraining's l1: 9.59646\tvalid_1's l2: 209.354\tvalid_1's l1: 10.3413\n",
      "[1800]\ttraining's l2: 132.699\ttraining's l1: 9.18427\tvalid_1's l2: 198.249\tvalid_1's l1: 9.99804\n",
      "[2000]\ttraining's l2: 123.345\ttraining's l1: 8.85348\tvalid_1's l2: 190.978\tvalid_1's l1: 9.75038\n",
      "[2200]\ttraining's l2: 114.994\ttraining's l1: 8.54755\tvalid_1's l2: 184.194\tvalid_1's l1: 9.51511\n",
      "[2400]\ttraining's l2: 109.241\ttraining's l1: 8.33191\tvalid_1's l2: 180.593\tvalid_1's l1: 9.38158\n",
      "[2600]\ttraining's l2: 102.99\ttraining's l1: 8.08592\tvalid_1's l2: 176.149\tvalid_1's l1: 9.21048\n",
      "[2800]\ttraining's l2: 96.0981\ttraining's l1: 7.80174\tvalid_1's l2: 170.073\tvalid_1's l1: 8.9864\n",
      "[3000]\ttraining's l2: 90.2418\ttraining's l1: 7.55544\tvalid_1's l2: 165.562\tvalid_1's l1: 8.80686\n",
      "[3200]\ttraining's l2: 85.2752\ttraining's l1: 7.33939\tvalid_1's l2: 161.913\tvalid_1's l1: 8.66068\n",
      "[3400]\ttraining's l2: 80.225\ttraining's l1: 7.10594\tvalid_1's l2: 157.518\tvalid_1's l1: 8.47368\n",
      "[3600]\ttraining's l2: 76.9447\ttraining's l1: 6.95841\tvalid_1's l2: 155.59\tvalid_1's l1: 8.39223\n",
      "[3800]\ttraining's l2: 73.8584\ttraining's l1: 6.8164\tvalid_1's l2: 153.964\tvalid_1's l1: 8.32112\n",
      "[4000]\ttraining's l2: 69.5229\ttraining's l1: 6.60961\tvalid_1's l2: 150.445\tvalid_1's l1: 8.17089\n",
      "[4200]\ttraining's l2: 66.181\ttraining's l1: 6.44573\tvalid_1's l2: 147.95\tvalid_1's l1: 8.06168\n",
      "[4400]\ttraining's l2: 63.2699\ttraining's l1: 6.29655\tvalid_1's l2: 145.579\tvalid_1's l1: 7.96311\n",
      "[4600]\ttraining's l2: 61.0527\ttraining's l1: 6.18384\tvalid_1's l2: 144.411\tvalid_1's l1: 7.91133\n",
      "[4800]\ttraining's l2: 58.6413\ttraining's l1: 6.05574\tvalid_1's l2: 142.994\tvalid_1's l1: 7.83953\n",
      "[5000]\ttraining's l2: 56.1245\ttraining's l1: 5.92052\tvalid_1's l2: 141.264\tvalid_1's l1: 7.75769\n",
      "Did not meet early stopping. Best iteration is:\n",
      "[5000]\ttraining's l2: 56.1245\ttraining's l1: 5.92052\tvalid_1's l2: 141.264\tvalid_1's l1: 7.75769\n",
      "processed: 55/594\n",
      "saving...\n",
      "(307511, 912)\n"
     ]
    },
    {
     "name": "stderr",
     "output_type": "stream",
     "text": [
      "\r",
      "55it [1:27:26, 95.39s/it]"
     ]
    },
    {
     "name": "stdout",
     "output_type": "stream",
     "text": [
      "start processing NAME_FAMILY_STATUS_CODE_GENDER_AMT_CREDIT_mean_abs_diff \n",
      "the na is:1.684186888605072e-05\n",
      "(356249, 909)\n",
      "(6, 909)\n",
      "Training until validation scores don't improve for 100 rounds.\n",
      "[200]\ttraining's l2: 3.46733e+07\ttraining's l1: 3938.73\tvalid_1's l2: 4.65592e+07\tvalid_1's l1: 3991.05\n",
      "[400]\ttraining's l2: 1.67839e+07\ttraining's l1: 2694.56\tvalid_1's l2: 2.79079e+07\tvalid_1's l1: 2775.36\n",
      "[600]\ttraining's l2: 1.10733e+07\ttraining's l1: 2130.91\tvalid_1's l2: 2.21523e+07\tvalid_1's l1: 2226.72\n",
      "[800]\ttraining's l2: 8.23086e+06\ttraining's l1: 1827.72\tvalid_1's l2: 1.93139e+07\tvalid_1's l1: 1937.62\n",
      "[1000]\ttraining's l2: 6.51675e+06\ttraining's l1: 1620.63\tvalid_1's l2: 1.773e+07\tvalid_1's l1: 1743.24\n",
      "[1200]\ttraining's l2: 5.31945e+06\ttraining's l1: 1453.51\tvalid_1's l2: 1.66186e+07\tvalid_1's l1: 1588.81\n",
      "[1400]\ttraining's l2: 4.48592e+06\ttraining's l1: 1327.58\tvalid_1's l2: 1.58382e+07\tvalid_1's l1: 1474.65\n",
      "[1600]\ttraining's l2: 3.83673e+06\ttraining's l1: 1221.83\tvalid_1's l2: 1.52465e+07\tvalid_1's l1: 1379.47\n",
      "[1800]\ttraining's l2: 3.37335e+06\ttraining's l1: 1142.1\tvalid_1's l2: 1.48383e+07\tvalid_1's l1: 1310.75\n",
      "[2000]\ttraining's l2: 2.99364e+06\ttraining's l1: 1074.53\tvalid_1's l2: 1.45525e+07\tvalid_1's l1: 1253.59\n",
      "[2200]\ttraining's l2: 2.69188e+06\ttraining's l1: 1016.97\tvalid_1's l2: 1.4273e+07\tvalid_1's l1: 1206.78\n",
      "[2400]\ttraining's l2: 2.4087e+06\ttraining's l1: 960.226\tvalid_1's l2: 1.40325e+07\tvalid_1's l1: 1159.02\n",
      "[2600]\ttraining's l2: 2.20698e+06\ttraining's l1: 919.606\tvalid_1's l2: 1.39044e+07\tvalid_1's l1: 1129.93\n",
      "[2800]\ttraining's l2: 2.03258e+06\ttraining's l1: 882.767\tvalid_1's l2: 1.37844e+07\tvalid_1's l1: 1103.15\n",
      "[3000]\ttraining's l2: 1.86492e+06\ttraining's l1: 845.008\tvalid_1's l2: 1.36496e+07\tvalid_1's l1: 1074.38\n",
      "[3200]\ttraining's l2: 1.70643e+06\ttraining's l1: 809.061\tvalid_1's l2: 1.35063e+07\tvalid_1's l1: 1047.03\n",
      "[3400]\ttraining's l2: 1.59361e+06\ttraining's l1: 782.197\tvalid_1's l2: 1.34214e+07\tvalid_1's l1: 1029.08\n",
      "[3600]\ttraining's l2: 1.50268e+06\ttraining's l1: 759.434\tvalid_1's l2: 1.33691e+07\tvalid_1's l1: 1014.99\n",
      "[3800]\ttraining's l2: 1.40401e+06\ttraining's l1: 733.937\tvalid_1's l2: 1.32706e+07\tvalid_1's l1: 996.959\n",
      "[4000]\ttraining's l2: 1.31562e+06\ttraining's l1: 710.178\tvalid_1's l2: 1.3201e+07\tvalid_1's l1: 980.618\n",
      "[4200]\ttraining's l2: 1.23809e+06\ttraining's l1: 689.443\tvalid_1's l2: 1.31485e+07\tvalid_1's l1: 968.106\n",
      "[4400]\ttraining's l2: 1.16323e+06\ttraining's l1: 666.347\tvalid_1's l2: 1.30874e+07\tvalid_1's l1: 951.219\n",
      "[4600]\ttraining's l2: 1.10594e+06\ttraining's l1: 650.73\tvalid_1's l2: 1.30499e+07\tvalid_1's l1: 943.227\n",
      "[4800]\ttraining's l2: 1.04709e+06\ttraining's l1: 633.449\tvalid_1's l2: 1.30082e+07\tvalid_1's l1: 933.012\n",
      "[5000]\ttraining's l2: 981595\ttraining's l1: 612.226\tvalid_1's l2: 1.29602e+07\tvalid_1's l1: 917.881\n",
      "Did not meet early stopping. Best iteration is:\n",
      "[5000]\ttraining's l2: 981595\ttraining's l1: 612.226\tvalid_1's l2: 1.29602e+07\tvalid_1's l1: 917.881\n",
      "processed: 56/594\n",
      "saving...\n",
      "(307511, 912)\n"
     ]
    },
    {
     "name": "stderr",
     "output_type": "stream",
     "text": [
      "\r",
      "56it [1:29:29, 95.88s/it]"
     ]
    },
    {
     "name": "stdout",
     "output_type": "stream",
     "text": [
      "start processing NAME_FAMILY_STATUS_CODE_GENDER_AMT_INCOME_TOTAL_mean_diff \n",
      "the na is:1.684186888605072e-05\n",
      "(356249, 909)\n",
      "(6, 909)\n",
      "Training until validation scores don't improve for 100 rounds.\n",
      "Early stopping, best iteration is:\n",
      "[18]\ttraining's l2: 3.60778e+10\ttraining's l1: 12562.3\tvalid_1's l2: 1.1968e+09\tvalid_1's l1: 12224.5\n",
      "processed: 57/594\n",
      "saving...\n",
      "(307511, 912)\n"
     ]
    },
    {
     "name": "stderr",
     "output_type": "stream",
     "text": [
      "\r",
      "57it [1:29:48, 94.54s/it]"
     ]
    },
    {
     "name": "stdout",
     "output_type": "stream",
     "text": [
      "start processing NAME_FAMILY_STATUS_CODE_GENDER_AMT_INCOME_TOTAL_max_diff \n",
      "the na is:1.684186888605072e-05\n",
      "(356249, 909)\n",
      "(6, 909)\n",
      "Training until validation scores don't improve for 100 rounds.\n",
      "Early stopping, best iteration is:\n",
      "[72]\ttraining's l2: 9.17291e+10\ttraining's l1: 55006.9\tvalid_1's l2: 2.85558e+11\tvalid_1's l1: 59209.4\n",
      "processed: 58/594\n",
      "saving...\n",
      "(307511, 912)\n"
     ]
    },
    {
     "name": "stderr",
     "output_type": "stream",
     "text": [
      "\r",
      "58it [1:30:09, 93.26s/it]"
     ]
    },
    {
     "name": "stdout",
     "output_type": "stream",
     "text": [
      "start processing NAME_FAMILY_STATUS_CODE_GENDER_REGION_POPULATION_RELATIVE_mean_abs_diff \n",
      "the na is:1.684186888605072e-05\n",
      "(356249, 909)\n",
      "(6, 909)\n",
      "Training until validation scores don't improve for 100 rounds.\n",
      "[200]\ttraining's l2: 1.84956e-09\ttraining's l1: 2.75841e-05\tvalid_1's l2: 1.93586e-09\tvalid_1's l1: 2.75844e-05\n",
      "[400]\ttraining's l2: 6.11019e-10\ttraining's l1: 1.49594e-05\tvalid_1's l2: 7.32674e-10\tvalid_1's l1: 1.51643e-05\n",
      "[600]\ttraining's l2: 3.0943e-10\ttraining's l1: 1.01439e-05\tvalid_1's l2: 4.51466e-10\tvalid_1's l1: 1.04768e-05\n",
      "[800]\ttraining's l2: 1.81654e-10\ttraining's l1: 7.53577e-06\tvalid_1's l2: 3.26993e-10\tvalid_1's l1: 7.95688e-06\n",
      "[1000]\ttraining's l2: 1.18493e-10\ttraining's l1: 5.88498e-06\tvalid_1's l2: 2.66208e-10\tvalid_1's l1: 6.37078e-06\n",
      "[1200]\ttraining's l2: 8.44772e-11\ttraining's l1: 4.85065e-06\tvalid_1's l2: 2.33495e-10\tvalid_1's l1: 5.40384e-06\n",
      "[1400]\ttraining's l2: 6.26518e-11\ttraining's l1: 4.12811e-06\tvalid_1's l2: 2.12059e-10\tvalid_1's l1: 4.73382e-06\n",
      "[1600]\ttraining's l2: 4.86251e-11\ttraining's l1: 3.6082e-06\tvalid_1's l2: 1.99781e-10\tvalid_1's l1: 4.27563e-06\n",
      "[1800]\ttraining's l2: 3.87992e-11\ttraining's l1: 3.18551e-06\tvalid_1's l2: 1.91177e-10\tvalid_1's l1: 3.90927e-06\n",
      "[2000]\ttraining's l2: 3.11495e-11\ttraining's l1: 2.83113e-06\tvalid_1's l2: 1.84136e-10\tvalid_1's l1: 3.58641e-06\n",
      "[2200]\ttraining's l2: 2.60896e-11\ttraining's l1: 2.57164e-06\tvalid_1's l2: 1.80236e-10\tvalid_1's l1: 3.37488e-06\n",
      "[2400]\ttraining's l2: 2.18142e-11\ttraining's l1: 2.33914e-06\tvalid_1's l2: 1.75781e-10\tvalid_1's l1: 3.17485e-06\n",
      "[2600]\ttraining's l2: 1.87931e-11\ttraining's l1: 2.16406e-06\tvalid_1's l2: 1.73534e-10\tvalid_1's l1: 3.03559e-06\n",
      "[2800]\ttraining's l2: 1.62522e-11\ttraining's l1: 2.00178e-06\tvalid_1's l2: 1.70762e-10\tvalid_1's l1: 2.90324e-06\n",
      "[3000]\ttraining's l2: 1.39559e-11\ttraining's l1: 1.85916e-06\tvalid_1's l2: 1.68851e-10\tvalid_1's l1: 2.79231e-06\n",
      "[3200]\ttraining's l2: 1.23835e-11\ttraining's l1: 1.75591e-06\tvalid_1's l2: 1.67878e-10\tvalid_1's l1: 2.72071e-06\n",
      "[3400]\ttraining's l2: 1.08363e-11\ttraining's l1: 1.64996e-06\tvalid_1's l2: 1.66597e-10\tvalid_1's l1: 2.64672e-06\n",
      "[3600]\ttraining's l2: 9.689e-12\ttraining's l1: 1.5554e-06\tvalid_1's l2: 1.65659e-10\tvalid_1's l1: 2.57885e-06\n",
      "[3800]\ttraining's l2: 8.59603e-12\ttraining's l1: 1.46395e-06\tvalid_1's l2: 1.64658e-10\tvalid_1's l1: 2.51092e-06\n",
      "[4000]\ttraining's l2: 7.64772e-12\ttraining's l1: 1.38398e-06\tvalid_1's l2: 1.64092e-10\tvalid_1's l1: 2.4532e-06\n",
      "[4200]\ttraining's l2: 6.90728e-12\ttraining's l1: 1.32559e-06\tvalid_1's l2: 1.637e-10\tvalid_1's l1: 2.4191e-06\n",
      "Early stopping, best iteration is:\n",
      "[4114]\ttraining's l2: 7.15811e-12\ttraining's l1: 1.34331e-06\tvalid_1's l2: 1.6367e-10\tvalid_1's l1: 2.42535e-06\n",
      "processed: 59/594\n",
      "saving...\n",
      "(307511, 912)\n"
     ]
    },
    {
     "name": "stderr",
     "output_type": "stream",
     "text": [
      "\r",
      "59it [1:31:51, 93.42s/it]"
     ]
    },
    {
     "name": "stdout",
     "output_type": "stream",
     "text": [
      "start processing NAME_FAMILY_STATUS_CODE_GENDER_AMT_CREDIT_max_diff \n",
      "the na is:1.684186888605072e-05\n",
      "(356249, 909)\n",
      "(6, 909)\n",
      "Training until validation scores don't improve for 100 rounds.\n",
      "[200]\ttraining's l2: 3.51845e+07\ttraining's l1: 3402.97\tvalid_1's l2: 7.29886e+07\tvalid_1's l1: 3474.87\n",
      "[400]\ttraining's l2: 1.91531e+07\ttraining's l1: 2625.83\tvalid_1's l2: 5.1314e+07\tvalid_1's l1: 2736.43\n",
      "[600]\ttraining's l2: 1.34462e+07\ttraining's l1: 2214.89\tvalid_1's l2: 4.55739e+07\tvalid_1's l1: 2360\n",
      "[800]\ttraining's l2: 1.02633e+07\ttraining's l1: 1947\tvalid_1's l2: 4.30467e+07\tvalid_1's l1: 2123.26\n",
      "[1000]\ttraining's l2: 8.41657e+06\ttraining's l1: 1759.42\tvalid_1's l2: 4.14614e+07\tvalid_1's l1: 1960.09\n",
      "[1200]\ttraining's l2: 6.93099e+06\ttraining's l1: 1593.08\tvalid_1's l2: 4.00977e+07\tvalid_1's l1: 1815.24\n",
      "[1400]\ttraining's l2: 5.85409e+06\ttraining's l1: 1463.42\tvalid_1's l2: 3.91845e+07\tvalid_1's l1: 1704.81\n",
      "[1600]\ttraining's l2: 5.0426e+06\ttraining's l1: 1359.09\tvalid_1's l2: 3.85154e+07\tvalid_1's l1: 1620.07\n",
      "[1800]\ttraining's l2: 4.45492e+06\ttraining's l1: 1274.26\tvalid_1's l2: 3.80967e+07\tvalid_1's l1: 1554.63\n",
      "[2000]\ttraining's l2: 3.9956e+06\ttraining's l1: 1204.91\tvalid_1's l2: 3.77747e+07\tvalid_1's l1: 1499.67\n",
      "[2200]\ttraining's l2: 3.61634e+06\ttraining's l1: 1142.05\tvalid_1's l2: 3.75184e+07\tvalid_1's l1: 1452.3\n",
      "[2400]\ttraining's l2: 3.26257e+06\ttraining's l1: 1079.87\tvalid_1's l2: 3.72783e+07\tvalid_1's l1: 1404.74\n",
      "[2600]\ttraining's l2: 2.94137e+06\ttraining's l1: 1024.67\tvalid_1's l2: 3.70208e+07\tvalid_1's l1: 1361.26\n",
      "[2800]\ttraining's l2: 2.68493e+06\ttraining's l1: 975.95\tvalid_1's l2: 3.68401e+07\tvalid_1's l1: 1325.51\n",
      "[3000]\ttraining's l2: 2.45182e+06\ttraining's l1: 931.308\tvalid_1's l2: 3.66593e+07\tvalid_1's l1: 1291.86\n",
      "[3200]\ttraining's l2: 2.28548e+06\ttraining's l1: 901.511\tvalid_1's l2: 3.65805e+07\tvalid_1's l1: 1274.73\n",
      "[3400]\ttraining's l2: 2.12091e+06\ttraining's l1: 867.018\tvalid_1's l2: 3.64708e+07\tvalid_1's l1: 1250.32\n",
      "[3600]\ttraining's l2: 1.95383e+06\ttraining's l1: 831.742\tvalid_1's l2: 3.63213e+07\tvalid_1's l1: 1225.19\n",
      "[3800]\ttraining's l2: 1.83347e+06\ttraining's l1: 808.857\tvalid_1's l2: 3.62441e+07\tvalid_1's l1: 1213.61\n",
      "[4000]\ttraining's l2: 1.71065e+06\ttraining's l1: 781.451\tvalid_1's l2: 3.61862e+07\tvalid_1's l1: 1196.72\n",
      "[4200]\ttraining's l2: 1.60085e+06\ttraining's l1: 755.421\tvalid_1's l2: 3.61271e+07\tvalid_1's l1: 1179.68\n",
      "[4400]\ttraining's l2: 1.50811e+06\ttraining's l1: 732.978\tvalid_1's l2: 3.60792e+07\tvalid_1's l1: 1166.09\n",
      "[4600]\ttraining's l2: 1.41469e+06\ttraining's l1: 708.749\tvalid_1's l2: 3.60158e+07\tvalid_1's l1: 1149.62\n",
      "[4800]\ttraining's l2: 1.3352e+06\ttraining's l1: 690.081\tvalid_1's l2: 3.59514e+07\tvalid_1's l1: 1139.37\n",
      "[5000]\ttraining's l2: 1.25683e+06\ttraining's l1: 669.914\tvalid_1's l2: 3.58979e+07\tvalid_1's l1: 1127.8\n",
      "Did not meet early stopping. Best iteration is:\n",
      "[5000]\ttraining's l2: 1.25683e+06\ttraining's l1: 669.914\tvalid_1's l2: 3.58979e+07\tvalid_1's l1: 1127.8\n",
      "processed: 60/594\n",
      "saving...\n",
      "(307511, 912)\n"
     ]
    },
    {
     "name": "stderr",
     "output_type": "stream",
     "text": [
      "\r",
      "60it [1:33:49, 93.82s/it]"
     ]
    },
    {
     "name": "stdout",
     "output_type": "stream",
     "text": [
      "start processing NAME_FAMILY_STATUS_CODE_GENDER_DAYS_BIRTH_mean_abs_diff \n",
      "the na is:1.684186888605072e-05\n",
      "(356249, 909)\n",
      "(6, 909)\n",
      "Training until validation scores don't improve for 100 rounds.\n",
      "[200]\ttraining's l2: 2402.04\ttraining's l1: 34.7623\tvalid_1's l2: 2629.32\tvalid_1's l1: 35.2865\n",
      "[400]\ttraining's l2: 1339.33\ttraining's l1: 26.6557\tvalid_1's l2: 1572.97\tvalid_1's l1: 27.2798\n",
      "[600]\ttraining's l2: 954.082\ttraining's l1: 22.8155\tvalid_1's l2: 1196.21\tvalid_1's l1: 23.5778\n",
      "[800]\ttraining's l2: 744.222\ttraining's l1: 20.2567\tvalid_1's l2: 990.31\tvalid_1's l1: 21.1183\n",
      "[1000]\ttraining's l2: 613.08\ttraining's l1: 18.5045\tvalid_1's l2: 859.186\tvalid_1's l1: 19.4508\n",
      "[1200]\ttraining's l2: 524.59\ttraining's l1: 17.1844\tvalid_1's l2: 777.717\tvalid_1's l1: 18.2371\n",
      "[1400]\ttraining's l2: 459.774\ttraining's l1: 16.1309\tvalid_1's l2: 719.337\tvalid_1's l1: 17.292\n",
      "[1600]\ttraining's l2: 413.097\ttraining's l1: 15.3912\tvalid_1's l2: 676.47\tvalid_1's l1: 16.6634\n",
      "[1800]\ttraining's l2: 374.298\ttraining's l1: 14.7154\tvalid_1's l2: 642.456\tvalid_1's l1: 16.0899\n",
      "[2000]\ttraining's l2: 345.011\ttraining's l1: 14.1561\tvalid_1's l2: 617.771\tvalid_1's l1: 15.6431\n",
      "[2200]\ttraining's l2: 319.928\ttraining's l1: 13.6686\tvalid_1's l2: 598.231\tvalid_1's l1: 15.2828\n",
      "[2400]\ttraining's l2: 299.764\ttraining's l1: 13.2686\tvalid_1's l2: 583.474\tvalid_1's l1: 15.0108\n",
      "[2600]\ttraining's l2: 280.021\ttraining's l1: 12.8582\tvalid_1's l2: 568.622\tvalid_1's l1: 14.7157\n",
      "[2800]\ttraining's l2: 262.679\ttraining's l1: 12.471\tvalid_1's l2: 554.635\tvalid_1's l1: 14.4343\n",
      "[3000]\ttraining's l2: 247.851\ttraining's l1: 12.1369\tvalid_1's l2: 543.467\tvalid_1's l1: 14.2022\n",
      "[3200]\ttraining's l2: 234.12\ttraining's l1: 11.8151\tvalid_1's l2: 533.801\tvalid_1's l1: 13.9838\n",
      "[3400]\ttraining's l2: 225.263\ttraining's l1: 11.6097\tvalid_1's l2: 530.053\tvalid_1's l1: 13.9086\n",
      "[3600]\ttraining's l2: 215.301\ttraining's l1: 11.3579\tvalid_1's l2: 524.276\tvalid_1's l1: 13.7738\n",
      "[3800]\ttraining's l2: 207.327\ttraining's l1: 11.1578\tvalid_1's l2: 520.892\tvalid_1's l1: 13.6962\n",
      "[4000]\ttraining's l2: 197.455\ttraining's l1: 10.8893\tvalid_1's l2: 513.686\tvalid_1's l1: 13.5288\n",
      "[4200]\ttraining's l2: 190.409\ttraining's l1: 10.7074\tvalid_1's l2: 510.472\tvalid_1's l1: 13.4625\n",
      "[4400]\ttraining's l2: 183.318\ttraining's l1: 10.5107\tvalid_1's l2: 507.138\tvalid_1's l1: 13.3782\n",
      "[4600]\ttraining's l2: 174.541\ttraining's l1: 10.2548\tvalid_1's l2: 500.027\tvalid_1's l1: 13.2122\n",
      "[4800]\ttraining's l2: 168.792\ttraining's l1: 10.0895\tvalid_1's l2: 498.382\tvalid_1's l1: 13.1563\n",
      "[5000]\ttraining's l2: 162.448\ttraining's l1: 9.90182\tvalid_1's l2: 494.986\tvalid_1's l1: 13.0682\n",
      "Did not meet early stopping. Best iteration is:\n",
      "[5000]\ttraining's l2: 162.448\ttraining's l1: 9.90182\tvalid_1's l2: 494.986\tvalid_1's l1: 13.0682\n",
      "processed: 61/594\n",
      "saving...\n",
      "(307511, 912)\n"
     ]
    },
    {
     "name": "stderr",
     "output_type": "stream",
     "text": [
      "\r",
      "61it [1:35:51, 94.29s/it]"
     ]
    },
    {
     "name": "stdout",
     "output_type": "stream",
     "text": [
      "start processing NAME_FAMILY_STATUS_CODE_GENDER_DAYS_BIRTH_mean_diff \n",
      "the na is:1.684186888605072e-05\n",
      "(356249, 909)\n",
      "(6, 909)\n",
      "Training until validation scores don't improve for 100 rounds.\n",
      "[200]\ttraining's l2: 2596.21\ttraining's l1: 33.601\tvalid_1's l2: 2794.49\tvalid_1's l1: 34.0613\n",
      "[400]\ttraining's l2: 1434.37\ttraining's l1: 25.6711\tvalid_1's l2: 1649.13\tvalid_1's l1: 26.331\n",
      "[600]\ttraining's l2: 1006.48\ttraining's l1: 21.8219\tvalid_1's l2: 1235.25\tvalid_1's l1: 22.5898\n",
      "[800]\ttraining's l2: 783.674\ttraining's l1: 19.4306\tvalid_1's l2: 1043.11\tvalid_1's l1: 20.3747\n",
      "[1000]\ttraining's l2: 634.172\ttraining's l1: 17.6032\tvalid_1's l2: 909.642\tvalid_1's l1: 18.6894\n",
      "[1200]\ttraining's l2: 550.177\ttraining's l1: 16.5393\tvalid_1's l2: 844.007\tvalid_1's l1: 17.7847\n",
      "[1400]\ttraining's l2: 487.357\ttraining's l1: 15.7063\tvalid_1's l2: 795.384\tvalid_1's l1: 17.1095\n",
      "[1600]\ttraining's l2: 422.673\ttraining's l1: 14.6579\tvalid_1's l2: 736.861\tvalid_1's l1: 16.1714\n",
      "[1800]\ttraining's l2: 387.145\ttraining's l1: 14.1082\tvalid_1's l2: 713.671\tvalid_1's l1: 15.7772\n",
      "[2000]\ttraining's l2: 352.336\ttraining's l1: 13.5294\tvalid_1's l2: 690.372\tvalid_1's l1: 15.3413\n",
      "[2200]\ttraining's l2: 320.739\ttraining's l1: 12.9566\tvalid_1's l2: 665.286\tvalid_1's l1: 14.8916\n",
      "[2400]\ttraining's l2: 292.146\ttraining's l1: 12.3738\tvalid_1's l2: 641.704\tvalid_1's l1: 14.4037\n",
      "[2600]\ttraining's l2: 275.173\ttraining's l1: 12.0695\tvalid_1's l2: 631.544\tvalid_1's l1: 14.2296\n",
      "[2800]\ttraining's l2: 259.202\ttraining's l1: 11.7607\tvalid_1's l2: 622.717\tvalid_1's l1: 14.0523\n",
      "[3000]\ttraining's l2: 238.661\ttraining's l1: 11.3188\tvalid_1's l2: 606.815\tvalid_1's l1: 13.7178\n",
      "[3200]\ttraining's l2: 225.761\ttraining's l1: 11.0343\tvalid_1's l2: 600.061\tvalid_1's l1: 13.5479\n",
      "[3400]\ttraining's l2: 213.735\ttraining's l1: 10.7555\tvalid_1's l2: 592.565\tvalid_1's l1: 13.374\n",
      "[3600]\ttraining's l2: 200.423\ttraining's l1: 10.4297\tvalid_1's l2: 581.471\tvalid_1's l1: 13.1416\n",
      "[3800]\ttraining's l2: 190.523\ttraining's l1: 10.196\tvalid_1's l2: 575.672\tvalid_1's l1: 13.0134\n",
      "[4000]\ttraining's l2: 182.417\ttraining's l1: 10.0082\tvalid_1's l2: 571.235\tvalid_1's l1: 12.9302\n",
      "[4200]\ttraining's l2: 175.362\ttraining's l1: 9.84075\tvalid_1's l2: 568.715\tvalid_1's l1: 12.8777\n",
      "[4400]\ttraining's l2: 167.705\ttraining's l1: 9.64057\tvalid_1's l2: 564.351\tvalid_1's l1: 12.7768\n",
      "[4600]\ttraining's l2: 160.401\ttraining's l1: 9.44403\tvalid_1's l2: 560.046\tvalid_1's l1: 12.6733\n",
      "[4800]\ttraining's l2: 152.853\ttraining's l1: 9.22686\tvalid_1's l2: 554.497\tvalid_1's l1: 12.5431\n",
      "[5000]\ttraining's l2: 147.611\ttraining's l1: 9.08204\tvalid_1's l2: 552.549\tvalid_1's l1: 12.4951\n",
      "Did not meet early stopping. Best iteration is:\n",
      "[5000]\ttraining's l2: 147.611\ttraining's l1: 9.08204\tvalid_1's l2: 552.549\tvalid_1's l1: 12.4951\n",
      "processed: 62/594\n",
      "saving...\n",
      "(307511, 912)\n"
     ]
    },
    {
     "name": "stderr",
     "output_type": "stream",
     "text": [
      "\r",
      "62it [1:37:53, 94.73s/it]"
     ]
    },
    {
     "name": "stdout",
     "output_type": "stream",
     "text": [
      "start processing NAME_FAMILY_STATUS_CODE_GENDER_DAYS_BIRTH_min_abs_diff \n",
      "the na is:1.684186888605072e-05\n",
      "(356249, 909)\n",
      "(6, 909)\n",
      "Training until validation scores don't improve for 100 rounds.\n",
      "[200]\ttraining's l2: 448.613\ttraining's l1: 16.5926\tvalid_1's l2: 465.966\tvalid_1's l1: 16.7355\n",
      "[400]\ttraining's l2: 320.349\ttraining's l1: 14.2029\tvalid_1's l2: 339.165\tvalid_1's l1: 14.3815\n",
      "[600]\ttraining's l2: 255.05\ttraining's l1: 12.7189\tvalid_1's l2: 277.087\tvalid_1's l1: 12.9586\n",
      "[800]\ttraining's l2: 207.656\ttraining's l1: 11.5033\tvalid_1's l2: 232.544\tvalid_1's l1: 11.8121\n",
      "[1000]\ttraining's l2: 177.896\ttraining's l1: 10.6307\tvalid_1's l2: 204.852\tvalid_1's l1: 11.0074\n",
      "[1200]\ttraining's l2: 152.688\ttraining's l1: 9.84465\tvalid_1's l2: 181.681\tvalid_1's l1: 10.2916\n",
      "[1400]\ttraining's l2: 137.542\ttraining's l1: 9.33001\tvalid_1's l2: 168.803\tvalid_1's l1: 9.85703\n",
      "[1600]\ttraining's l2: 125.837\ttraining's l1: 8.92842\tvalid_1's l2: 159.242\tvalid_1's l1: 9.53339\n",
      "[1800]\ttraining's l2: 114.488\ttraining's l1: 8.51414\tvalid_1's l2: 149.581\tvalid_1's l1: 9.19105\n",
      "[2000]\ttraining's l2: 104.545\ttraining's l1: 8.12942\tvalid_1's l2: 140.876\tvalid_1's l1: 8.86806\n",
      "[2200]\ttraining's l2: 97.0572\ttraining's l1: 7.82906\tvalid_1's l2: 134.813\tvalid_1's l1: 8.63322\n",
      "[2400]\ttraining's l2: 90.7434\ttraining's l1: 7.56475\tvalid_1's l2: 130.051\tvalid_1's l1: 8.44021\n",
      "[2600]\ttraining's l2: 83.4663\ttraining's l1: 7.25862\tvalid_1's l2: 123.69\tvalid_1's l1: 8.19069\n",
      "[2800]\ttraining's l2: 78.686\ttraining's l1: 7.04405\tvalid_1's l2: 120.174\tvalid_1's l1: 8.04488\n",
      "[3000]\ttraining's l2: 74.3822\ttraining's l1: 6.84475\tvalid_1's l2: 116.895\tvalid_1's l1: 7.9085\n",
      "[3200]\ttraining's l2: 69.8919\ttraining's l1: 6.62875\tvalid_1's l2: 113.369\tvalid_1's l1: 7.74758\n",
      "[3400]\ttraining's l2: 66.7954\ttraining's l1: 6.48077\tvalid_1's l2: 111.305\tvalid_1's l1: 7.66272\n",
      "[3600]\ttraining's l2: 63.0942\ttraining's l1: 6.29025\tvalid_1's l2: 108.367\tvalid_1's l1: 7.52774\n",
      "[3800]\ttraining's l2: 60.4058\ttraining's l1: 6.15002\tvalid_1's l2: 106.611\tvalid_1's l1: 7.44667\n",
      "[4000]\ttraining's l2: 57.2638\ttraining's l1: 5.98272\tvalid_1's l2: 104.166\tvalid_1's l1: 7.3341\n",
      "[4200]\ttraining's l2: 54.979\ttraining's l1: 5.86132\tvalid_1's l2: 102.663\tvalid_1's l1: 7.26808\n",
      "[4400]\ttraining's l2: 52.3661\ttraining's l1: 5.71799\tvalid_1's l2: 100.677\tvalid_1's l1: 7.17697\n",
      "[4600]\ttraining's l2: 50.4217\ttraining's l1: 5.60858\tvalid_1's l2: 99.5198\tvalid_1's l1: 7.12273\n",
      "[4800]\ttraining's l2: 48.2755\ttraining's l1: 5.48122\tvalid_1's l2: 98.0015\tvalid_1's l1: 7.04512\n",
      "[5000]\ttraining's l2: 46.4127\ttraining's l1: 5.37262\tvalid_1's l2: 96.8303\tvalid_1's l1: 6.98947\n",
      "Did not meet early stopping. Best iteration is:\n",
      "[5000]\ttraining's l2: 46.4127\ttraining's l1: 5.37262\tvalid_1's l2: 96.8303\tvalid_1's l1: 6.98947\n",
      "processed: 63/594\n",
      "saving...\n",
      "(307511, 912)\n"
     ]
    },
    {
     "name": "stderr",
     "output_type": "stream",
     "text": [
      "\r",
      "63it [1:39:55, 95.17s/it]"
     ]
    },
    {
     "name": "stdout",
     "output_type": "stream",
     "text": [
      "start processing NAME_FAMILY_STATUS_CODE_GENDER_REGION_POPULATION_RELATIVE_mean_diff \n",
      "the na is:1.684186888605072e-05\n",
      "(356249, 909)\n",
      "(6, 909)\n",
      "Training until validation scores don't improve for 100 rounds.\n",
      "[200]\ttraining's l2: 6.04458e-10\ttraining's l1: 1.5343e-05\tvalid_1's l2: 6.08488e-10\tvalid_1's l1: 1.53657e-05\n",
      "[400]\ttraining's l2: 2.3753e-10\ttraining's l1: 9.27062e-06\tvalid_1's l2: 2.69274e-10\tvalid_1's l1: 9.37584e-06\n",
      "[600]\ttraining's l2: 1.31848e-10\ttraining's l1: 6.76699e-06\tvalid_1's l2: 1.76226e-10\tvalid_1's l1: 6.9521e-06\n",
      "[800]\ttraining's l2: 7.7648e-11\ttraining's l1: 4.99711e-06\tvalid_1's l2: 1.29303e-10\tvalid_1's l1: 5.2502e-06\n",
      "[1000]\ttraining's l2: 5.23226e-11\ttraining's l1: 4.0352e-06\tvalid_1's l2: 1.04954e-10\tvalid_1's l1: 4.34086e-06\n",
      "[1200]\ttraining's l2: 3.78376e-11\ttraining's l1: 3.35754e-06\tvalid_1's l2: 9.24562e-11\tvalid_1's l1: 3.71556e-06\n",
      "[1400]\ttraining's l2: 2.74478e-11\ttraining's l1: 2.81862e-06\tvalid_1's l2: 8.26377e-11\tvalid_1's l1: 3.21624e-06\n",
      "[1600]\ttraining's l2: 2.09527e-11\ttraining's l1: 2.42964e-06\tvalid_1's l2: 7.65646e-11\tvalid_1's l1: 2.86492e-06\n",
      "[1800]\ttraining's l2: 1.69286e-11\ttraining's l1: 2.16857e-06\tvalid_1's l2: 7.29835e-11\tvalid_1's l1: 2.63755e-06\n",
      "[2000]\ttraining's l2: 1.37144e-11\ttraining's l1: 1.94665e-06\tvalid_1's l2: 7.02058e-11\tvalid_1's l1: 2.44863e-06\n",
      "[2200]\ttraining's l2: 1.13113e-11\ttraining's l1: 1.75386e-06\tvalid_1's l2: 6.80496e-11\tvalid_1's l1: 2.28281e-06\n",
      "[2400]\ttraining's l2: 9.46132e-12\ttraining's l1: 1.61204e-06\tvalid_1's l2: 6.63804e-11\tvalid_1's l1: 2.16761e-06\n",
      "[2600]\ttraining's l2: 8.07376e-12\ttraining's l1: 1.4868e-06\tvalid_1's l2: 6.52152e-11\tvalid_1's l1: 2.06514e-06\n",
      "[2800]\ttraining's l2: 7.1384e-12\ttraining's l1: 1.39704e-06\tvalid_1's l2: 6.45279e-11\tvalid_1's l1: 1.99834e-06\n",
      "[3000]\ttraining's l2: 6.2524e-12\ttraining's l1: 1.30432e-06\tvalid_1's l2: 6.37885e-11\tvalid_1's l1: 1.92509e-06\n",
      "[3200]\ttraining's l2: 5.56093e-12\ttraining's l1: 1.23699e-06\tvalid_1's l2: 6.32306e-11\tvalid_1's l1: 1.87961e-06\n",
      "[3400]\ttraining's l2: 4.94306e-12\ttraining's l1: 1.17114e-06\tvalid_1's l2: 6.27696e-11\tvalid_1's l1: 1.83298e-06\n",
      "[3600]\ttraining's l2: 4.40702e-12\ttraining's l1: 1.09803e-06\tvalid_1's l2: 6.22442e-11\tvalid_1's l1: 1.77516e-06\n",
      "[3800]\ttraining's l2: 3.98516e-12\ttraining's l1: 1.04755e-06\tvalid_1's l2: 6.19596e-11\tvalid_1's l1: 1.74196e-06\n",
      "[4000]\ttraining's l2: 3.55223e-12\ttraining's l1: 9.89142e-07\tvalid_1's l2: 6.15198e-11\tvalid_1's l1: 1.69796e-06\n",
      "[4200]\ttraining's l2: 3.23423e-12\ttraining's l1: 9.47091e-07\tvalid_1's l2: 6.12797e-11\tvalid_1's l1: 1.67047e-06\n",
      "[4400]\ttraining's l2: 2.95655e-12\ttraining's l1: 9.04257e-07\tvalid_1's l2: 6.10492e-11\tvalid_1's l1: 1.64187e-06\n",
      "[4600]\ttraining's l2: 2.73969e-12\ttraining's l1: 8.73574e-07\tvalid_1's l2: 6.08443e-11\tvalid_1's l1: 1.62488e-06\n",
      "[4800]\ttraining's l2: 2.4887e-12\ttraining's l1: 8.34585e-07\tvalid_1's l2: 6.06607e-11\tvalid_1's l1: 1.59943e-06\n",
      "[5000]\ttraining's l2: 2.28824e-12\ttraining's l1: 8.01281e-07\tvalid_1's l2: 6.05221e-11\tvalid_1's l1: 1.57887e-06\n",
      "Did not meet early stopping. Best iteration is:\n",
      "[5000]\ttraining's l2: 2.28824e-12\ttraining's l1: 8.01281e-07\tvalid_1's l2: 6.05221e-11\tvalid_1's l1: 1.57887e-06\n",
      "processed: 64/594\n",
      "saving...\n",
      "(307511, 912)\n"
     ]
    },
    {
     "name": "stderr",
     "output_type": "stream",
     "text": [
      "\r",
      "64it [1:41:54, 95.54s/it]"
     ]
    },
    {
     "name": "stdout",
     "output_type": "stream",
     "text": [
      "start processing NAME_FAMILY_STATUS_CODE_GENDER_AMT_CREDIT_max_abs_diff \n",
      "the na is:1.684186888605072e-05\n",
      "(356249, 909)\n",
      "(6, 909)\n",
      "Training until validation scores don't improve for 100 rounds.\n",
      "[200]\ttraining's l2: 6.08512e+07\ttraining's l1: 4577.39\tvalid_1's l2: 1.12725e+08\tvalid_1's l1: 4712.91\n",
      "[400]\ttraining's l2: 3.24063e+07\ttraining's l1: 3439.37\tvalid_1's l2: 8.70649e+07\tvalid_1's l1: 3613.4\n",
      "[600]\ttraining's l2: 2.24721e+07\ttraining's l1: 2894.62\tvalid_1's l2: 7.7964e+07\tvalid_1's l1: 3099.6\n",
      "[800]\ttraining's l2: 1.69333e+07\ttraining's l1: 2509.11\tvalid_1's l2: 7.30479e+07\tvalid_1's l1: 2745.38\n",
      "[1000]\ttraining's l2: 1.34318e+07\ttraining's l1: 2227.96\tvalid_1's l2: 6.98251e+07\tvalid_1's l1: 2488.85\n",
      "[1200]\ttraining's l2: 1.10333e+07\ttraining's l1: 2022.96\tvalid_1's l2: 6.76314e+07\tvalid_1's l1: 2305.49\n",
      "[1400]\ttraining's l2: 9.28737e+06\ttraining's l1: 1851.58\tvalid_1's l2: 6.59089e+07\tvalid_1's l1: 2158.14\n",
      "[1600]\ttraining's l2: 7.94647e+06\ttraining's l1: 1705.97\tvalid_1's l2: 6.47345e+07\tvalid_1's l1: 2030.63\n",
      "[1800]\ttraining's l2: 7.03422e+06\ttraining's l1: 1609.11\tvalid_1's l2: 6.39472e+07\tvalid_1's l1: 1952.38\n",
      "[2000]\ttraining's l2: 6.24959e+06\ttraining's l1: 1512.37\tvalid_1's l2: 6.3316e+07\tvalid_1's l1: 1874.18\n",
      "[2200]\ttraining's l2: 5.51607e+06\ttraining's l1: 1418.18\tvalid_1's l2: 6.25101e+07\tvalid_1's l1: 1795.58\n",
      "[2400]\ttraining's l2: 4.9881e+06\ttraining's l1: 1343.41\tvalid_1's l2: 6.1925e+07\tvalid_1's l1: 1734.63\n",
      "[2600]\ttraining's l2: 4.54084e+06\ttraining's l1: 1278.44\tvalid_1's l2: 6.15867e+07\tvalid_1's l1: 1684.72\n",
      "[2800]\ttraining's l2: 4.11982e+06\ttraining's l1: 1218.57\tvalid_1's l2: 6.1235e+07\tvalid_1's l1: 1638.73\n",
      "[3000]\ttraining's l2: 3.80797e+06\ttraining's l1: 1173.3\tvalid_1's l2: 6.10224e+07\tvalid_1's l1: 1609.09\n",
      "[3200]\ttraining's l2: 3.51067e+06\ttraining's l1: 1125.91\tvalid_1's l2: 6.07838e+07\tvalid_1's l1: 1573.09\n",
      "[3400]\ttraining's l2: 3.25506e+06\ttraining's l1: 1085.27\tvalid_1's l2: 6.05612e+07\tvalid_1's l1: 1546.45\n",
      "[3600]\ttraining's l2: 3.03082e+06\ttraining's l1: 1049.7\tvalid_1's l2: 6.04326e+07\tvalid_1's l1: 1523.52\n",
      "[3800]\ttraining's l2: 2.82283e+06\ttraining's l1: 1014.53\tvalid_1's l2: 6.02602e+07\tvalid_1's l1: 1501.17\n",
      "[4000]\ttraining's l2: 2.64567e+06\ttraining's l1: 980.165\tvalid_1's l2: 6.01507e+07\tvalid_1's l1: 1479.18\n",
      "[4200]\ttraining's l2: 2.45382e+06\ttraining's l1: 943.855\tvalid_1's l2: 6.00034e+07\tvalid_1's l1: 1452.03\n",
      "[4400]\ttraining's l2: 2.28828e+06\ttraining's l1: 911.545\tvalid_1's l2: 5.98855e+07\tvalid_1's l1: 1429.76\n",
      "[4600]\ttraining's l2: 2.13806e+06\ttraining's l1: 882.17\tvalid_1's l2: 5.9763e+07\tvalid_1's l1: 1411.38\n",
      "[4800]\ttraining's l2: 1.99532e+06\ttraining's l1: 854.236\tvalid_1's l2: 5.96663e+07\tvalid_1's l1: 1394.12\n",
      "[5000]\ttraining's l2: 1.90064e+06\ttraining's l1: 834.005\tvalid_1's l2: 5.96207e+07\tvalid_1's l1: 1384.15\n",
      "Did not meet early stopping. Best iteration is:\n",
      "[5000]\ttraining's l2: 1.90064e+06\ttraining's l1: 834.005\tvalid_1's l2: 5.96207e+07\tvalid_1's l1: 1384.15\n",
      "processed: 65/594\n",
      "saving...\n",
      "(307511, 912)\n"
     ]
    },
    {
     "name": "stderr",
     "output_type": "stream",
     "text": [
      "\r",
      "65it [1:43:53, 95.89s/it]"
     ]
    },
    {
     "name": "stdout",
     "output_type": "stream",
     "text": [
      "start processing NAME_FAMILY_STATUS_CODE_GENDER_DAYS_ID_PUBLISH_mean_abs_diff \n",
      "the na is:1.684186888605072e-05\n",
      "(356249, 909)\n",
      "(6, 909)\n",
      "Training until validation scores don't improve for 100 rounds.\n",
      "[200]\ttraining's l2: 252.472\ttraining's l1: 10.7636\tvalid_1's l2: 270.412\tvalid_1's l1: 10.9087\n",
      "[400]\ttraining's l2: 141.901\ttraining's l1: 8.3982\tvalid_1's l2: 165.54\tvalid_1's l1: 8.64474\n",
      "[600]\ttraining's l2: 101.676\ttraining's l1: 7.2502\tvalid_1's l2: 127.233\tvalid_1's l1: 7.55626\n",
      "[800]\ttraining's l2: 80.1069\ttraining's l1: 6.48161\tvalid_1's l2: 106.7\tvalid_1's l1: 6.82016\n",
      "[1000]\ttraining's l2: 66.4474\ttraining's l1: 5.9716\tvalid_1's l2: 94.2056\tvalid_1's l1: 6.35764\n",
      "[1200]\ttraining's l2: 57.2439\ttraining's l1: 5.57013\tvalid_1's l2: 85.915\tvalid_1's l1: 5.99646\n",
      "[1400]\ttraining's l2: 51.0602\ttraining's l1: 5.28218\tvalid_1's l2: 80.9726\tvalid_1's l1: 5.75526\n",
      "[1600]\ttraining's l2: 45.8221\ttraining's l1: 5.01284\tvalid_1's l2: 76.6249\tvalid_1's l1: 5.5291\n",
      "[1800]\ttraining's l2: 41.9044\ttraining's l1: 4.81613\tvalid_1's l2: 73.783\tvalid_1's l1: 5.37851\n",
      "[2000]\ttraining's l2: 38.0905\ttraining's l1: 4.60761\tvalid_1's l2: 70.599\tvalid_1's l1: 5.20619\n",
      "[2200]\ttraining's l2: 35.0946\ttraining's l1: 4.43618\tvalid_1's l2: 68.3541\tvalid_1's l1: 5.07531\n",
      "[2400]\ttraining's l2: 32.5922\ttraining's l1: 4.28293\tvalid_1's l2: 66.539\tvalid_1's l1: 4.96079\n",
      "[2600]\ttraining's l2: 30.5793\ttraining's l1: 4.15737\tvalid_1's l2: 65.1519\tvalid_1's l1: 4.87303\n",
      "[2800]\ttraining's l2: 28.6867\ttraining's l1: 4.03447\tvalid_1's l2: 63.7358\tvalid_1's l1: 4.78725\n",
      "[3000]\ttraining's l2: 27.1344\ttraining's l1: 3.93071\tvalid_1's l2: 62.7546\tvalid_1's l1: 4.72353\n",
      "[3200]\ttraining's l2: 25.8103\ttraining's l1: 3.84362\tvalid_1's l2: 62.0417\tvalid_1's l1: 4.67585\n",
      "[3400]\ttraining's l2: 24.2999\ttraining's l1: 3.73251\tvalid_1's l2: 60.7961\tvalid_1's l1: 4.59337\n",
      "[3600]\ttraining's l2: 23.1882\ttraining's l1: 3.65371\tvalid_1's l2: 60.1209\tvalid_1's l1: 4.55256\n",
      "[3800]\ttraining's l2: 21.9531\ttraining's l1: 3.55615\tvalid_1's l2: 59.2183\tvalid_1's l1: 4.48763\n",
      "[4000]\ttraining's l2: 20.7982\ttraining's l1: 3.46494\tvalid_1's l2: 58.3985\tvalid_1's l1: 4.42867\n",
      "[4200]\ttraining's l2: 19.858\ttraining's l1: 3.38976\tvalid_1's l2: 57.7837\tvalid_1's l1: 4.38542\n",
      "[4400]\ttraining's l2: 19.0361\ttraining's l1: 3.32144\tvalid_1's l2: 57.3345\tvalid_1's l1: 4.35136\n",
      "[4600]\ttraining's l2: 18.3088\ttraining's l1: 3.25981\tvalid_1's l2: 56.9034\tvalid_1's l1: 4.32291\n",
      "[4800]\ttraining's l2: 17.5735\ttraining's l1: 3.19634\tvalid_1's l2: 56.4775\tvalid_1's l1: 4.29122\n",
      "[5000]\ttraining's l2: 16.9728\ttraining's l1: 3.14328\tvalid_1's l2: 56.2336\tvalid_1's l1: 4.272\n",
      "Did not meet early stopping. Best iteration is:\n",
      "[5000]\ttraining's l2: 16.9728\ttraining's l1: 3.14328\tvalid_1's l2: 56.2336\tvalid_1's l1: 4.272\n",
      "processed: 66/594\n",
      "saving...\n",
      "(307511, 912)\n"
     ]
    },
    {
     "name": "stderr",
     "output_type": "stream",
     "text": [
      "\r",
      "66it [1:45:55, 96.30s/it]"
     ]
    },
    {
     "name": "stdout",
     "output_type": "stream",
     "text": [
      "start processing NAME_FAMILY_STATUS_CODE_GENDER_DAYS_ID_PUBLISH_mean_diff \n",
      "the na is:1.684186888605072e-05\n",
      "(356249, 909)\n",
      "(6, 909)\n",
      "Training until validation scores don't improve for 100 rounds.\n",
      "[200]\ttraining's l2: 144.302\ttraining's l1: 8.77864\tvalid_1's l2: 150.622\tvalid_1's l1: 8.87634\n",
      "[400]\ttraining's l2: 89.0219\ttraining's l1: 6.99999\tvalid_1's l2: 97.384\tvalid_1's l1: 7.14909\n",
      "[600]\ttraining's l2: 63.424\ttraining's l1: 5.92853\tvalid_1's l2: 73.1558\tvalid_1's l1: 6.11674\n",
      "[800]\ttraining's l2: 49.0569\ttraining's l1: 5.22851\tvalid_1's l2: 60.0542\tvalid_1's l1: 5.45459\n",
      "[1000]\ttraining's l2: 39.9256\ttraining's l1: 4.72399\tvalid_1's l2: 51.705\tvalid_1's l1: 4.97935\n",
      "[1200]\ttraining's l2: 34.2279\ttraining's l1: 4.38518\tvalid_1's l2: 46.9128\tvalid_1's l1: 4.6754\n",
      "[1400]\ttraining's l2: 29.2527\ttraining's l1: 4.06393\tvalid_1's l2: 42.3186\tvalid_1's l1: 4.38385\n",
      "[1600]\ttraining's l2: 26.3407\ttraining's l1: 3.87587\tvalid_1's l2: 40.0958\tvalid_1's l1: 4.23697\n",
      "[1800]\ttraining's l2: 23.2604\ttraining's l1: 3.64274\tvalid_1's l2: 37.3544\tvalid_1's l1: 4.03031\n",
      "[2000]\ttraining's l2: 21.1825\ttraining's l1: 3.4828\tvalid_1's l2: 35.6006\tvalid_1's l1: 3.90035\n",
      "[2200]\ttraining's l2: 19.3751\ttraining's l1: 3.33505\tvalid_1's l2: 34.1108\tvalid_1's l1: 3.78325\n",
      "[2400]\ttraining's l2: 18.0586\ttraining's l1: 3.22817\tvalid_1's l2: 33.1247\tvalid_1's l1: 3.71002\n",
      "[2600]\ttraining's l2: 16.9135\ttraining's l1: 3.12683\tvalid_1's l2: 32.2288\tvalid_1's l1: 3.639\n",
      "[2800]\ttraining's l2: 15.7952\ttraining's l1: 3.02367\tvalid_1's l2: 31.4109\tvalid_1's l1: 3.56467\n",
      "[3000]\ttraining's l2: 14.7069\ttraining's l1: 2.92261\tvalid_1's l2: 30.5137\tvalid_1's l1: 3.48752\n",
      "[3200]\ttraining's l2: 14.0943\ttraining's l1: 2.86546\tvalid_1's l2: 30.2314\tvalid_1's l1: 3.464\n",
      "[3400]\ttraining's l2: 13.1876\ttraining's l1: 2.77334\tvalid_1's l2: 29.4582\tvalid_1's l1: 3.39555\n",
      "[3600]\ttraining's l2: 12.3673\ttraining's l1: 2.69008\tvalid_1's l2: 28.7165\tvalid_1's l1: 3.33298\n",
      "[3800]\ttraining's l2: 11.7657\ttraining's l1: 2.62629\tvalid_1's l2: 28.3012\tvalid_1's l1: 3.29399\n",
      "[4000]\ttraining's l2: 11.2468\ttraining's l1: 2.5712\tvalid_1's l2: 27.9791\tvalid_1's l1: 3.26439\n",
      "[4200]\ttraining's l2: 10.7395\ttraining's l1: 2.51478\tvalid_1's l2: 27.6418\tvalid_1's l1: 3.23079\n",
      "[4400]\ttraining's l2: 10.2191\ttraining's l1: 2.45572\tvalid_1's l2: 27.2369\tvalid_1's l1: 3.19375\n",
      "[4600]\ttraining's l2: 9.80551\ttraining's l1: 2.40657\tvalid_1's l2: 26.9686\tvalid_1's l1: 3.16805\n",
      "[4800]\ttraining's l2: 9.40383\ttraining's l1: 2.35644\tvalid_1's l2: 26.7204\tvalid_1's l1: 3.14028\n",
      "[5000]\ttraining's l2: 9.00758\ttraining's l1: 2.30759\tvalid_1's l2: 26.4582\tvalid_1's l1: 3.11531\n",
      "Did not meet early stopping. Best iteration is:\n",
      "[5000]\ttraining's l2: 9.00758\ttraining's l1: 2.30759\tvalid_1's l2: 26.4582\tvalid_1's l1: 3.11531\n",
      "processed: 67/594\n",
      "saving...\n",
      "(307511, 912)\n"
     ]
    },
    {
     "name": "stderr",
     "output_type": "stream",
     "text": [
      "\r",
      "67it [1:47:57, 96.68s/it]"
     ]
    },
    {
     "name": "stdout",
     "output_type": "stream",
     "text": [
      "start processing NAME_FAMILY_STATUS_CODE_GENDER_DAYS_BIRTH_max_diff \n",
      "the na is:1.684186888605072e-05\n",
      "(356249, 909)\n",
      "(6, 909)\n",
      "Training until validation scores don't improve for 100 rounds.\n",
      "[200]\ttraining's l2: 563.353\ttraining's l1: 18.0916\tvalid_1's l2: 608.07\tvalid_1's l1: 18.0787\n",
      "[400]\ttraining's l2: 388.443\ttraining's l1: 15.3721\tvalid_1's l2: 432.926\tvalid_1's l1: 15.4572\n",
      "[600]\ttraining's l2: 297.326\ttraining's l1: 13.6053\tvalid_1's l2: 340.047\tvalid_1's l1: 13.7646\n",
      "[800]\ttraining's l2: 245.191\ttraining's l1: 12.4198\tvalid_1's l2: 290.825\tvalid_1's l1: 12.6839\n",
      "[1000]\ttraining's l2: 211.82\ttraining's l1: 11.5597\tvalid_1's l2: 259.923\tvalid_1's l1: 11.9315\n",
      "[1200]\ttraining's l2: 182.852\ttraining's l1: 10.7618\tvalid_1's l2: 232.212\tvalid_1's l1: 11.2186\n",
      "[1400]\ttraining's l2: 161.141\ttraining's l1: 10.1299\tvalid_1's l2: 213.514\tvalid_1's l1: 10.6781\n",
      "[1600]\ttraining's l2: 145.669\ttraining's l1: 9.62306\tvalid_1's l2: 200.13\tvalid_1's l1: 10.2546\n",
      "[1800]\ttraining's l2: 133.521\ttraining's l1: 9.21602\tvalid_1's l2: 190.063\tvalid_1's l1: 9.93338\n",
      "[2000]\ttraining's l2: 123.595\ttraining's l1: 8.86847\tvalid_1's l2: 182.459\tvalid_1's l1: 9.67355\n",
      "[2200]\ttraining's l2: 114.204\ttraining's l1: 8.5289\tvalid_1's l2: 174.796\tvalid_1's l1: 9.40736\n",
      "[2400]\ttraining's l2: 106.39\ttraining's l1: 8.22167\tvalid_1's l2: 168.647\tvalid_1's l1: 9.16588\n",
      "[2600]\ttraining's l2: 100.546\ttraining's l1: 7.99267\tvalid_1's l2: 164.849\tvalid_1's l1: 9.02034\n",
      "[2800]\ttraining's l2: 95.1737\ttraining's l1: 7.76998\tvalid_1's l2: 161.141\tvalid_1's l1: 8.8683\n",
      "[3000]\ttraining's l2: 88.9126\ttraining's l1: 7.50336\tvalid_1's l2: 156.182\tvalid_1's l1: 8.66893\n",
      "[3200]\ttraining's l2: 82.2107\ttraining's l1: 7.19989\tvalid_1's l2: 150.216\tvalid_1's l1: 8.41777\n",
      "[3400]\ttraining's l2: 76.5871\ttraining's l1: 6.94028\tvalid_1's l2: 145.518\tvalid_1's l1: 8.21368\n",
      "[3600]\ttraining's l2: 72.9173\ttraining's l1: 6.76391\tvalid_1's l2: 142.996\tvalid_1's l1: 8.09829\n",
      "[3800]\ttraining's l2: 69.7964\ttraining's l1: 6.61367\tvalid_1's l2: 140.857\tvalid_1's l1: 8.00694\n",
      "[4000]\ttraining's l2: 66.6292\ttraining's l1: 6.46184\tvalid_1's l2: 138.768\tvalid_1's l1: 7.92054\n",
      "[4200]\ttraining's l2: 63.8877\ttraining's l1: 6.32272\tvalid_1's l2: 136.893\tvalid_1's l1: 7.83915\n",
      "[4400]\ttraining's l2: 61.2321\ttraining's l1: 6.18832\tvalid_1's l2: 135.122\tvalid_1's l1: 7.76233\n",
      "[4600]\ttraining's l2: 58.3203\ttraining's l1: 6.03053\tvalid_1's l2: 132.686\tvalid_1's l1: 7.64899\n",
      "[4800]\ttraining's l2: 56.1287\ttraining's l1: 5.91498\tvalid_1's l2: 131.399\tvalid_1's l1: 7.58848\n",
      "[5000]\ttraining's l2: 53.7745\ttraining's l1: 5.78568\tvalid_1's l2: 129.739\tvalid_1's l1: 7.5086\n",
      "Did not meet early stopping. Best iteration is:\n",
      "[5000]\ttraining's l2: 53.7745\ttraining's l1: 5.78568\tvalid_1's l2: 129.739\tvalid_1's l1: 7.5086\n",
      "processed: 68/594\n",
      "saving...\n",
      "(307511, 912)\n"
     ]
    },
    {
     "name": "stderr",
     "output_type": "stream",
     "text": [
      "\r",
      "68it [1:49:58, 97.04s/it]"
     ]
    },
    {
     "name": "stdout",
     "output_type": "stream",
     "text": [
      "start processing NAME_FAMILY_STATUS_CODE_GENDER_DAYS_ID_PUBLISH_min_diff \n",
      "the na is:1.684186888605072e-05\n",
      "(356249, 909)\n",
      "(6, 909)\n",
      "Training until validation scores don't improve for 100 rounds.\n",
      "[200]\ttraining's l2: 276.452\ttraining's l1: 12.4953\tvalid_1's l2: 290.447\tvalid_1's l1: 12.6388\n",
      "[400]\ttraining's l2: 161.689\ttraining's l1: 9.54274\tvalid_1's l2: 176.168\tvalid_1's l1: 9.75156\n",
      "[600]\ttraining's l2: 109.759\ttraining's l1: 7.79743\tvalid_1's l2: 125.105\tvalid_1's l1: 8.03318\n",
      "[800]\ttraining's l2: 81.6895\ttraining's l1: 6.69181\tvalid_1's l2: 97.7418\tvalid_1's l1: 6.94866\n",
      "[1000]\ttraining's l2: 65.5865\ttraining's l1: 5.98294\tvalid_1's l2: 83.115\tvalid_1's l1: 6.28574\n",
      "[1200]\ttraining's l2: 54.5856\ttraining's l1: 5.45778\tvalid_1's l2: 72.6209\tvalid_1's l1: 5.79203\n",
      "[1400]\ttraining's l2: 47.1729\ttraining's l1: 5.07748\tvalid_1's l2: 66.0862\tvalid_1's l1: 5.45098\n",
      "[1600]\ttraining's l2: 41.9271\ttraining's l1: 4.80365\tvalid_1's l2: 61.463\tvalid_1's l1: 5.21138\n",
      "[1800]\ttraining's l2: 37.8687\ttraining's l1: 4.57269\tvalid_1's l2: 58.1907\tvalid_1's l1: 5.02175\n",
      "[2000]\ttraining's l2: 34.4676\ttraining's l1: 4.37083\tvalid_1's l2: 55.3023\tvalid_1's l1: 4.85431\n",
      "[2200]\ttraining's l2: 31.3629\ttraining's l1: 4.17113\tvalid_1's l2: 52.4873\tvalid_1's l1: 4.68233\n",
      "[2400]\ttraining's l2: 28.7275\ttraining's l1: 3.99003\tvalid_1's l2: 50.138\tvalid_1's l1: 4.53561\n",
      "[2600]\ttraining's l2: 26.921\ttraining's l1: 3.86983\tvalid_1's l2: 48.8873\tvalid_1's l1: 4.45191\n",
      "[2800]\ttraining's l2: 24.9872\ttraining's l1: 3.7367\tvalid_1's l2: 47.304\tvalid_1's l1: 4.34669\n",
      "[3000]\ttraining's l2: 23.1687\ttraining's l1: 3.60423\tvalid_1's l2: 45.7697\tvalid_1's l1: 4.24207\n",
      "[3200]\ttraining's l2: 21.8291\ttraining's l1: 3.50065\tvalid_1's l2: 44.7482\tvalid_1's l1: 4.1711\n",
      "[3400]\ttraining's l2: 20.7522\ttraining's l1: 3.42097\tvalid_1's l2: 44.0329\tvalid_1's l1: 4.12692\n",
      "[3600]\ttraining's l2: 19.6519\ttraining's l1: 3.32948\tvalid_1's l2: 43.2187\tvalid_1's l1: 4.06429\n",
      "[3800]\ttraining's l2: 18.565\ttraining's l1: 3.23781\tvalid_1's l2: 42.3755\tvalid_1's l1: 4.00302\n",
      "[4000]\ttraining's l2: 17.2953\ttraining's l1: 3.13044\tvalid_1's l2: 41.2029\tvalid_1's l1: 3.92067\n",
      "[4200]\ttraining's l2: 16.3928\ttraining's l1: 3.0509\tvalid_1's l2: 40.5156\tvalid_1's l1: 3.86835\n",
      "[4400]\ttraining's l2: 15.605\ttraining's l1: 2.97642\tvalid_1's l2: 39.9187\tvalid_1's l1: 3.82046\n",
      "[4600]\ttraining's l2: 14.8315\ttraining's l1: 2.90057\tvalid_1's l2: 39.3123\tvalid_1's l1: 3.76955\n",
      "[4800]\ttraining's l2: 14.2263\ttraining's l1: 2.84113\tvalid_1's l2: 38.9527\tvalid_1's l1: 3.73567\n",
      "[5000]\ttraining's l2: 13.7913\ttraining's l1: 2.79901\tvalid_1's l2: 38.8283\tvalid_1's l1: 3.7253\n",
      "Did not meet early stopping. Best iteration is:\n",
      "[5000]\ttraining's l2: 13.7913\ttraining's l1: 2.79901\tvalid_1's l2: 38.8283\tvalid_1's l1: 3.7253\n",
      "processed: 69/594\n",
      "saving...\n",
      "(307511, 912)\n"
     ]
    },
    {
     "name": "stderr",
     "output_type": "stream",
     "text": [
      "\r",
      "69it [1:52:01, 97.41s/it]"
     ]
    },
    {
     "name": "stdout",
     "output_type": "stream",
     "text": [
      "start processing NAME_FAMILY_STATUS_CODE_GENDER_DAYS_BIRTH_min_diff \n",
      "the na is:1.684186888605072e-05\n",
      "(356249, 909)\n",
      "(6, 909)\n",
      "Training until validation scores don't improve for 100 rounds.\n",
      "[200]\ttraining's l2: 429.608\ttraining's l1: 16.477\tvalid_1's l2: 439.889\tvalid_1's l1: 16.6018\n",
      "[400]\ttraining's l2: 329.433\ttraining's l1: 14.4653\tvalid_1's l2: 343.6\tvalid_1's l1: 14.639\n",
      "[600]\ttraining's l2: 270.543\ttraining's l1: 13.1464\tvalid_1's l2: 287.708\tvalid_1's l1: 13.3847\n",
      "[800]\ttraining's l2: 225.397\ttraining's l1: 12.0405\tvalid_1's l2: 245.603\tvalid_1's l1: 12.3614\n",
      "[1000]\ttraining's l2: 199.987\ttraining's l1: 11.3393\tvalid_1's l2: 223.538\tvalid_1's l1: 11.7525\n",
      "[1200]\ttraining's l2: 173.479\ttraining's l1: 10.5726\tvalid_1's l2: 198.285\tvalid_1's l1: 11.045\n",
      "[1400]\ttraining's l2: 160.184\ttraining's l1: 10.1721\tvalid_1's l2: 187.963\tvalid_1's l1: 10.7393\n",
      "[1600]\ttraining's l2: 142.72\ttraining's l1: 9.59362\tvalid_1's l2: 171.833\tvalid_1's l1: 10.2208\n",
      "[1800]\ttraining's l2: 131.266\ttraining's l1: 9.19874\tvalid_1's l2: 162.504\tvalid_1's l1: 9.90924\n",
      "[2000]\ttraining's l2: 120.849\ttraining's l1: 8.83216\tvalid_1's l2: 153.946\tvalid_1's l1: 9.62432\n",
      "[2200]\ttraining's l2: 113.9\ttraining's l1: 8.56805\tvalid_1's l2: 148.903\tvalid_1's l1: 9.43758\n",
      "[2400]\ttraining's l2: 105.029\ttraining's l1: 8.21245\tvalid_1's l2: 141.586\tvalid_1's l1: 9.154\n",
      "[2600]\ttraining's l2: 99.5712\ttraining's l1: 7.98877\tvalid_1's l2: 137.82\tvalid_1's l1: 9.00649\n",
      "[2800]\ttraining's l2: 93.4506\ttraining's l1: 7.73156\tvalid_1's l2: 132.81\tvalid_1's l1: 8.81745\n",
      "[3000]\ttraining's l2: 86.4726\ttraining's l1: 7.42528\tvalid_1's l2: 126.633\tvalid_1's l1: 8.56901\n",
      "[3200]\ttraining's l2: 80.779\ttraining's l1: 7.16661\tvalid_1's l2: 121.867\tvalid_1's l1: 8.36927\n",
      "[3400]\ttraining's l2: 75.556\ttraining's l1: 6.92801\tvalid_1's l2: 117.264\tvalid_1's l1: 8.18195\n",
      "[3600]\ttraining's l2: 72.1775\ttraining's l1: 6.76804\tvalid_1's l2: 114.988\tvalid_1's l1: 8.08566\n",
      "[3800]\ttraining's l2: 67.9355\ttraining's l1: 6.56666\tvalid_1's l2: 111.419\tvalid_1's l1: 7.93776\n",
      "[4000]\ttraining's l2: 64.9035\ttraining's l1: 6.41687\tvalid_1's l2: 109.207\tvalid_1's l1: 7.84397\n",
      "[4200]\ttraining's l2: 61.5442\ttraining's l1: 6.24152\tvalid_1's l2: 106.479\tvalid_1's l1: 7.71929\n",
      "[4400]\ttraining's l2: 58.3541\ttraining's l1: 6.06911\tvalid_1's l2: 103.867\tvalid_1's l1: 7.59888\n",
      "[4600]\ttraining's l2: 55.515\ttraining's l1: 5.91436\tvalid_1's l2: 101.583\tvalid_1's l1: 7.4923\n",
      "[4800]\ttraining's l2: 53.7619\ttraining's l1: 5.81871\tvalid_1's l2: 100.883\tvalid_1's l1: 7.46155\n",
      "[5000]\ttraining's l2: 51.6429\ttraining's l1: 5.69789\tvalid_1's l2: 99.5166\tvalid_1's l1: 7.39401\n",
      "Did not meet early stopping. Best iteration is:\n",
      "[5000]\ttraining's l2: 51.6429\ttraining's l1: 5.69789\tvalid_1's l2: 99.5166\tvalid_1's l1: 7.39401\n",
      "processed: 70/594\n",
      "saving...\n",
      "(307511, 912)\n"
     ]
    },
    {
     "name": "stderr",
     "output_type": "stream",
     "text": [
      "\r",
      "70it [1:54:03, 97.77s/it]"
     ]
    },
    {
     "name": "stdout",
     "output_type": "stream",
     "text": [
      "start processing AMT_CREDIT_divide_AMT_ANNUITY \n",
      "the na is:0.00010105121331630434\n",
      "(356219, 909)\n",
      "(36, 909)\n",
      "Training until validation scores don't improve for 100 rounds.\n",
      "[200]\ttraining's l2: 0.00666344\ttraining's l1: 0.0510147\tvalid_1's l2: 0.00751484\tvalid_1's l1: 0.0512246\n",
      "[400]\ttraining's l2: 0.00375692\ttraining's l1: 0.0372282\tvalid_1's l2: 0.00501341\tvalid_1's l1: 0.0376856\n",
      "[600]\ttraining's l2: 0.00258923\ttraining's l1: 0.0304725\tvalid_1's l2: 0.00403797\tvalid_1's l1: 0.0313031\n",
      "[800]\ttraining's l2: 0.00198658\ttraining's l1: 0.0263884\tvalid_1's l2: 0.00356568\tvalid_1's l1: 0.0275157\n",
      "[1000]\ttraining's l2: 0.00166456\ttraining's l1: 0.0239495\tvalid_1's l2: 0.00337112\tvalid_1's l1: 0.0254222\n",
      "[1200]\ttraining's l2: 0.0014247\ttraining's l1: 0.0220061\tvalid_1's l2: 0.00321023\tvalid_1's l1: 0.0237072\n",
      "[1400]\ttraining's l2: 0.00126067\ttraining's l1: 0.0206308\tvalid_1's l2: 0.00308254\tvalid_1's l1: 0.0226119\n",
      "[1600]\ttraining's l2: 0.00114132\ttraining's l1: 0.0194829\tvalid_1's l2: 0.00300546\tvalid_1's l1: 0.0217005\n",
      "[1800]\ttraining's l2: 0.00103614\ttraining's l1: 0.0185492\tvalid_1's l2: 0.00293894\tvalid_1's l1: 0.0209731\n",
      "[2000]\ttraining's l2: 0.000952724\ttraining's l1: 0.0177687\tvalid_1's l2: 0.00289649\tvalid_1's l1: 0.0204283\n",
      "[2200]\ttraining's l2: 0.000884801\ttraining's l1: 0.017124\tvalid_1's l2: 0.00285186\tvalid_1's l1: 0.0199761\n",
      "[2400]\ttraining's l2: 0.000818007\ttraining's l1: 0.0164724\tvalid_1's l2: 0.00282086\tvalid_1's l1: 0.0195238\n",
      "[2600]\ttraining's l2: 0.000758043\ttraining's l1: 0.0158446\tvalid_1's l2: 0.00278214\tvalid_1's l1: 0.0190855\n",
      "[2800]\ttraining's l2: 0.00071159\ttraining's l1: 0.0153766\tvalid_1's l2: 0.00276454\tvalid_1's l1: 0.0188002\n",
      "[3000]\ttraining's l2: 0.000669042\ttraining's l1: 0.0149284\tvalid_1's l2: 0.0027453\tvalid_1's l1: 0.0185233\n",
      "[3200]\ttraining's l2: 0.000633805\ttraining's l1: 0.0145791\tvalid_1's l2: 0.00273081\tvalid_1's l1: 0.0183496\n",
      "Early stopping, best iteration is:\n",
      "[3191]\ttraining's l2: 0.000634935\ttraining's l1: 0.014587\tvalid_1's l2: 0.00273007\tvalid_1's l1: 0.0183479\n",
      "processed: 71/594\n",
      "saving...\n",
      "(307511, 912)\n"
     ]
    },
    {
     "name": "stderr",
     "output_type": "stream",
     "text": [
      "\r",
      "71it [1:55:31, 97.62s/it]"
     ]
    },
    {
     "name": "stdout",
     "output_type": "stream",
     "text": [
      "start processing AMT_ANNUITY_x \n",
      "the na is:0.00010105121331630434\n",
      "(356219, 909)\n",
      "(36, 909)\n",
      "Training until validation scores don't improve for 100 rounds.\n",
      "[200]\ttraining's l2: 26773.6\ttraining's l1: 98.0031\tvalid_1's l2: 188444\tvalid_1's l1: 105.231\n",
      "[400]\ttraining's l2: 15744.3\ttraining's l1: 82.2078\tvalid_1's l2: 178731\tvalid_1's l1: 90.9982\n",
      "[600]\ttraining's l2: 10840.7\ttraining's l1: 70.4505\tvalid_1's l2: 173381\tvalid_1's l1: 80.1976\n",
      "[800]\ttraining's l2: 8026.62\ttraining's l1: 61.9832\tvalid_1's l2: 170051\tvalid_1's l1: 72.503\n",
      "[1000]\ttraining's l2: 6287.54\ttraining's l1: 55.3383\tvalid_1's l2: 169191\tvalid_1's l1: 66.5866\n",
      "[1200]\ttraining's l2: 5028.12\ttraining's l1: 49.2888\tvalid_1's l2: 167936\tvalid_1's l1: 61.014\n",
      "[1400]\ttraining's l2: 4173.48\ttraining's l1: 45.3598\tvalid_1's l2: 167623\tvalid_1's l1: 57.6103\n",
      "Early stopping, best iteration is:\n",
      "[1331]\ttraining's l2: 4447.46\ttraining's l1: 46.4612\tvalid_1's l2: 167509\tvalid_1's l1: 58.4287\n",
      "processed: 72/594\n",
      "saving...\n",
      "(307511, 912)\n"
     ]
    },
    {
     "name": "stderr",
     "output_type": "stream",
     "text": [
      "\r",
      "72it [1:56:19, 96.94s/it]"
     ]
    },
    {
     "name": "stdout",
     "output_type": "stream",
     "text": [
      "start processing AMT_INCOME_TOTAL_divide_AMT_ANNUITY \n",
      "the na is:0.00010105121331630434\n",
      "(356219, 909)\n",
      "(36, 909)\n",
      "Training until validation scores don't improve for 100 rounds.\n",
      "Early stopping, best iteration is:\n",
      "[90]\ttraining's l2: 47.1428\ttraining's l1: 0.15723\tvalid_1's l2: 1.13614\tvalid_1's l1: 0.147239\n",
      "processed: 73/594\n",
      "saving...\n",
      "(307511, 912)\n"
     ]
    },
    {
     "name": "stderr",
     "output_type": "stream",
     "text": [
      "\r",
      "73it [1:56:40, 95.89s/it]"
     ]
    },
    {
     "name": "stdout",
     "output_type": "stream",
     "text": [
      "start processing annuity_income_percentage \n",
      "the na is:0.00010105121331630434\n",
      "(356219, 909)\n",
      "(36, 909)\n",
      "Training until validation scores don't improve for 100 rounds.\n",
      "[200]\ttraining's l2: 1.89097e-05\ttraining's l1: 0.00310905\tvalid_1's l2: 2.73646e-05\tvalid_1's l1: 0.00318751\n",
      "[400]\ttraining's l2: 1.1581e-05\ttraining's l1: 0.00245473\tvalid_1's l2: 1.98168e-05\tvalid_1's l1: 0.0025593\n",
      "[600]\ttraining's l2: 8.75302e-06\ttraining's l1: 0.00214446\tvalid_1's l2: 1.71753e-05\tvalid_1's l1: 0.00226838\n",
      "[800]\ttraining's l2: 7.02075e-06\ttraining's l1: 0.0019174\tvalid_1's l2: 1.55793e-05\tvalid_1's l1: 0.00205344\n",
      "[1000]\ttraining's l2: 5.65119e-06\ttraining's l1: 0.00172144\tvalid_1's l2: 1.43036e-05\tvalid_1's l1: 0.00187048\n",
      "[1200]\ttraining's l2: 4.83477e-06\ttraining's l1: 0.00159781\tvalid_1's l2: 1.35765e-05\tvalid_1's l1: 0.00176003\n",
      "[1400]\ttraining's l2: 4.23703e-06\ttraining's l1: 0.00149438\tvalid_1's l2: 1.3041e-05\tvalid_1's l1: 0.00166746\n",
      "[1600]\ttraining's l2: 3.77343e-06\ttraining's l1: 0.00140844\tvalid_1's l2: 1.26411e-05\tvalid_1's l1: 0.00159391\n",
      "[1800]\ttraining's l2: 3.36915e-06\ttraining's l1: 0.00133533\tvalid_1's l2: 1.23036e-05\tvalid_1's l1: 0.00153236\n",
      "[2000]\ttraining's l2: 3.04212e-06\ttraining's l1: 0.00126872\tvalid_1's l2: 1.20245e-05\tvalid_1's l1: 0.00147529\n",
      "[2200]\ttraining's l2: 2.7952e-06\ttraining's l1: 0.0012184\tvalid_1's l2: 1.18174e-05\tvalid_1's l1: 0.00143589\n",
      "[2400]\ttraining's l2: 2.57818e-06\ttraining's l1: 0.00117048\tvalid_1's l2: 1.16567e-05\tvalid_1's l1: 0.0013983\n",
      "[2600]\ttraining's l2: 2.37837e-06\ttraining's l1: 0.00112594\tvalid_1's l2: 1.14571e-05\tvalid_1's l1: 0.00136368\n",
      "[2800]\ttraining's l2: 2.21682e-06\ttraining's l1: 0.00108898\tvalid_1's l2: 1.13211e-05\tvalid_1's l1: 0.0013366\n",
      "[3000]\ttraining's l2: 2.05455e-06\ttraining's l1: 0.00104959\tvalid_1's l2: 1.11818e-05\tvalid_1's l1: 0.00130603\n",
      "[3200]\ttraining's l2: 1.92508e-06\ttraining's l1: 0.00101515\tvalid_1's l2: 1.10788e-05\tvalid_1's l1: 0.0012799\n",
      "[3400]\ttraining's l2: 1.81824e-06\ttraining's l1: 0.000986726\tvalid_1's l2: 1.1006e-05\tvalid_1's l1: 0.0012611\n",
      "[3600]\ttraining's l2: 1.71437e-06\ttraining's l1: 0.000959172\tvalid_1's l2: 1.09245e-05\tvalid_1's l1: 0.00124205\n",
      "[3800]\ttraining's l2: 1.63372e-06\ttraining's l1: 0.000936059\tvalid_1's l2: 1.08797e-05\tvalid_1's l1: 0.00122831\n",
      "[4000]\ttraining's l2: 1.56666e-06\ttraining's l1: 0.000917061\tvalid_1's l2: 1.08502e-05\tvalid_1's l1: 0.00121862\n",
      "[4200]\ttraining's l2: 1.47277e-06\ttraining's l1: 0.000889698\tvalid_1's l2: 1.07744e-05\tvalid_1's l1: 0.00119918\n",
      "[4400]\ttraining's l2: 1.41892e-06\ttraining's l1: 0.000874176\tvalid_1's l2: 1.07473e-05\tvalid_1's l1: 0.00119384\n",
      "[4600]\ttraining's l2: 1.3468e-06\ttraining's l1: 0.000852781\tvalid_1's l2: 1.06946e-05\tvalid_1's l1: 0.00118064\n",
      "[4800]\ttraining's l2: 1.27516e-06\ttraining's l1: 0.000830417\tvalid_1's l2: 1.06325e-05\tvalid_1's l1: 0.00116482\n",
      "[5000]\ttraining's l2: 1.21576e-06\ttraining's l1: 0.0008103\tvalid_1's l2: 1.05945e-05\tvalid_1's l1: 0.00115227\n",
      "Did not meet early stopping. Best iteration is:\n",
      "[5000]\ttraining's l2: 1.21576e-06\ttraining's l1: 0.0008103\tvalid_1's l2: 1.05945e-05\tvalid_1's l1: 0.00115227\n",
      "processed: 74/594\n",
      "saving...\n",
      "(307511, 912)\n"
     ]
    },
    {
     "name": "stderr",
     "output_type": "stream",
     "text": [
      "\r",
      "74it [1:58:47, 96.31s/it]"
     ]
    },
    {
     "name": "stdout",
     "output_type": "stream",
     "text": [
      "start processing payment_rate \n",
      "the na is:0.00010105121331630434\n",
      "(356219, 909)\n",
      "(36, 909)\n",
      "Training until validation scores don't improve for 100 rounds.\n",
      "[200]\ttraining's l2: 9.38861e-08\ttraining's l1: 0.0001796\tvalid_1's l2: 9.36525e-08\tvalid_1's l1: 0.000178261\n",
      "[400]\ttraining's l2: 5.90138e-08\ttraining's l1: 0.00013669\tvalid_1's l2: 6.21876e-08\tvalid_1's l1: 0.000137033\n",
      "[600]\ttraining's l2: 4.48084e-08\ttraining's l1: 0.000116998\tvalid_1's l2: 5.1259e-08\tvalid_1's l1: 0.000118892\n",
      "[800]\ttraining's l2: 3.62984e-08\ttraining's l1: 0.000103549\tvalid_1's l2: 4.5982e-08\tvalid_1's l1: 0.000107393\n",
      "[1000]\ttraining's l2: 3.05143e-08\ttraining's l1: 9.51924e-05\tvalid_1's l2: 4.24312e-08\tvalid_1's l1: 0.000100638\n",
      "[1200]\ttraining's l2: 2.66997e-08\ttraining's l1: 8.87636e-05\tvalid_1's l2: 4.02325e-08\tvalid_1's l1: 9.5602e-05\n",
      "[1400]\ttraining's l2: 2.35304e-08\ttraining's l1: 8.38409e-05\tvalid_1's l2: 3.84481e-08\tvalid_1's l1: 9.19994e-05\n",
      "[1600]\ttraining's l2: 2.12561e-08\ttraining's l1: 7.9251e-05\tvalid_1's l2: 3.70193e-08\tvalid_1's l1: 8.84767e-05\n",
      "[1800]\ttraining's l2: 1.92708e-08\ttraining's l1: 7.57518e-05\tvalid_1's l2: 3.59767e-08\tvalid_1's l1: 8.61623e-05\n",
      "[2000]\ttraining's l2: 1.75688e-08\ttraining's l1: 7.24307e-05\tvalid_1's l2: 3.50809e-08\tvalid_1's l1: 8.38345e-05\n",
      "[2200]\ttraining's l2: 1.61594e-08\ttraining's l1: 6.99142e-05\tvalid_1's l2: 3.43202e-08\tvalid_1's l1: 8.23105e-05\n",
      "[2400]\ttraining's l2: 1.50422e-08\ttraining's l1: 6.76584e-05\tvalid_1's l2: 3.38708e-08\tvalid_1's l1: 8.10192e-05\n",
      "[2600]\ttraining's l2: 1.40917e-08\ttraining's l1: 6.5694e-05\tvalid_1's l2: 3.34705e-08\tvalid_1's l1: 7.99938e-05\n",
      "[2800]\ttraining's l2: 1.31229e-08\ttraining's l1: 6.36358e-05\tvalid_1's l2: 3.30794e-08\tvalid_1's l1: 7.8842e-05\n",
      "[3000]\ttraining's l2: 1.22661e-08\ttraining's l1: 6.16634e-05\tvalid_1's l2: 3.26977e-08\tvalid_1's l1: 7.7672e-05\n",
      "[3200]\ttraining's l2: 1.15813e-08\ttraining's l1: 6.02727e-05\tvalid_1's l2: 3.24926e-08\tvalid_1's l1: 7.71777e-05\n",
      "[3400]\ttraining's l2: 1.0911e-08\ttraining's l1: 5.85116e-05\tvalid_1's l2: 3.21792e-08\tvalid_1's l1: 7.61599e-05\n",
      "[3600]\ttraining's l2: 1.02522e-08\ttraining's l1: 5.69942e-05\tvalid_1's l2: 3.18931e-08\tvalid_1's l1: 7.53835e-05\n",
      "[3800]\ttraining's l2: 9.71603e-09\ttraining's l1: 5.55784e-05\tvalid_1's l2: 3.16525e-08\tvalid_1's l1: 7.46998e-05\n",
      "[4000]\ttraining's l2: 9.25239e-09\ttraining's l1: 5.43512e-05\tvalid_1's l2: 3.15034e-08\tvalid_1's l1: 7.41423e-05\n",
      "[4200]\ttraining's l2: 8.77199e-09\ttraining's l1: 5.30562e-05\tvalid_1's l2: 3.1303e-08\tvalid_1's l1: 7.35327e-05\n",
      "[4400]\ttraining's l2: 8.33041e-09\ttraining's l1: 5.18715e-05\tvalid_1's l2: 3.11162e-08\tvalid_1's l1: 7.30263e-05\n",
      "[4600]\ttraining's l2: 7.91565e-09\ttraining's l1: 5.08542e-05\tvalid_1's l2: 3.09819e-08\tvalid_1's l1: 7.27223e-05\n",
      "[4800]\ttraining's l2: 7.57271e-09\ttraining's l1: 4.99544e-05\tvalid_1's l2: 3.08908e-08\tvalid_1's l1: 7.24725e-05\n",
      "[5000]\ttraining's l2: 7.2547e-09\ttraining's l1: 4.89844e-05\tvalid_1's l2: 3.07773e-08\tvalid_1's l1: 7.20787e-05\n",
      "Did not meet early stopping. Best iteration is:\n",
      "[5000]\ttraining's l2: 7.2547e-09\ttraining's l1: 4.89844e-05\tvalid_1's l2: 3.07773e-08\tvalid_1's l1: 7.20787e-05\n",
      "processed: 75/594\n",
      "saving...\n",
      "(307511, 912)\n"
     ]
    },
    {
     "name": "stderr",
     "output_type": "stream",
     "text": [
      "\r",
      "75it [2:00:44, 96.60s/it]"
     ]
    },
    {
     "name": "stdout",
     "output_type": "stream",
     "text": [
      "start processing credit_to_annuity_ratio \n",
      "the na is:0.00010105121331630434\n",
      "(356219, 909)\n",
      "(36, 909)\n",
      "Training until validation scores don't improve for 100 rounds.\n",
      "[200]\ttraining's l2: 0.0101102\ttraining's l1: 0.0652743\tvalid_1's l2: 0.0107708\tvalid_1's l1: 0.065355\n",
      "[400]\ttraining's l2: 0.00543636\ttraining's l1: 0.0471414\tvalid_1's l2: 0.00657577\tvalid_1's l1: 0.0474619\n",
      "[600]\ttraining's l2: 0.00374689\ttraining's l1: 0.0384605\tvalid_1's l2: 0.00512214\tvalid_1's l1: 0.0391118\n",
      "[800]\ttraining's l2: 0.00281322\ttraining's l1: 0.033161\tvalid_1's l2: 0.00435544\tvalid_1's l1: 0.0342048\n",
      "[1000]\ttraining's l2: 0.0022919\ttraining's l1: 0.029721\tvalid_1's l2: 0.00393722\tvalid_1's l1: 0.0311113\n",
      "[1200]\ttraining's l2: 0.00197183\ttraining's l1: 0.0274282\tvalid_1's l2: 0.00366883\tvalid_1's l1: 0.0291101\n",
      "[1400]\ttraining's l2: 0.0017214\ttraining's l1: 0.0254486\tvalid_1's l2: 0.00347907\tvalid_1's l1: 0.0273987\n",
      "[1600]\ttraining's l2: 0.00154395\ttraining's l1: 0.0239142\tvalid_1's l2: 0.0033374\tvalid_1's l1: 0.0261042\n",
      "[1800]\ttraining's l2: 0.00140586\ttraining's l1: 0.0227394\tvalid_1's l2: 0.00323907\tvalid_1's l1: 0.025178\n",
      "[2000]\ttraining's l2: 0.00129069\ttraining's l1: 0.0216851\tvalid_1's l2: 0.00315914\tvalid_1's l1: 0.0243411\n",
      "[2200]\ttraining's l2: 0.00119135\ttraining's l1: 0.0208395\tvalid_1's l2: 0.00309447\tvalid_1's l1: 0.0237223\n",
      "[2400]\ttraining's l2: 0.00110667\ttraining's l1: 0.0200268\tvalid_1's l2: 0.00304287\tvalid_1's l1: 0.0231171\n",
      "[2600]\ttraining's l2: 0.00103195\ttraining's l1: 0.019361\tvalid_1's l2: 0.00301219\tvalid_1's l1: 0.022665\n",
      "[2800]\ttraining's l2: 0.000964627\ttraining's l1: 0.0187439\tvalid_1's l2: 0.00298504\tvalid_1's l1: 0.0222676\n",
      "[3000]\ttraining's l2: 0.000914726\ttraining's l1: 0.0182571\tvalid_1's l2: 0.00295429\tvalid_1's l1: 0.0219886\n",
      "[3200]\ttraining's l2: 0.000863892\ttraining's l1: 0.0177953\tvalid_1's l2: 0.00293008\tvalid_1's l1: 0.0217489\n",
      "[3400]\ttraining's l2: 0.000817568\ttraining's l1: 0.01733\tvalid_1's l2: 0.00290183\tvalid_1's l1: 0.0214755\n",
      "[3600]\ttraining's l2: 0.000773543\ttraining's l1: 0.0168489\tvalid_1's l2: 0.00287465\tvalid_1's l1: 0.0211669\n",
      "[3800]\ttraining's l2: 0.000727562\ttraining's l1: 0.0163365\tvalid_1's l2: 0.00284595\tvalid_1's l1: 0.0208338\n",
      "[4000]\ttraining's l2: 0.000689059\ttraining's l1: 0.0159042\tvalid_1's l2: 0.00282456\tvalid_1's l1: 0.0205784\n",
      "[4200]\ttraining's l2: 0.000654179\ttraining's l1: 0.0154978\tvalid_1's l2: 0.00280516\tvalid_1's l1: 0.0203301\n",
      "[4400]\ttraining's l2: 0.000624652\ttraining's l1: 0.0151603\tvalid_1's l2: 0.00278766\tvalid_1's l1: 0.0201462\n",
      "[4600]\ttraining's l2: 0.000596372\ttraining's l1: 0.0148319\tvalid_1's l2: 0.00277634\tvalid_1's l1: 0.0199859\n",
      "[4800]\ttraining's l2: 0.000570768\ttraining's l1: 0.0145511\tvalid_1's l2: 0.00276389\tvalid_1's l1: 0.0198717\n",
      "[5000]\ttraining's l2: 0.000549701\ttraining's l1: 0.0143014\tvalid_1's l2: 0.00275694\tvalid_1's l1: 0.019787\n",
      "Did not meet early stopping. Best iteration is:\n",
      "[5000]\ttraining's l2: 0.000549701\ttraining's l1: 0.0143014\tvalid_1's l2: 0.00275694\tvalid_1's l1: 0.019787\n",
      "processed: 76/594\n",
      "saving...\n",
      "(307511, 912)\n"
     ]
    },
    {
     "name": "stderr",
     "output_type": "stream",
     "text": [
      "\r",
      "76it [2:02:48, 96.95s/it]"
     ]
    },
    {
     "name": "stdout",
     "output_type": "stream",
     "text": [
      "start processing AMT_ANNUITY \n",
      "the na is:0.00010105121331630434\n",
      "(356219, 909)\n",
      "(36, 909)\n",
      "Training until validation scores don't improve for 100 rounds.\n",
      "[200]\ttraining's l2: 25750.4\ttraining's l1: 95.6936\tvalid_1's l2: 178502\tvalid_1's l1: 102.919\n",
      "[400]\ttraining's l2: 14598.3\ttraining's l1: 81.5782\tvalid_1's l2: 166080\tvalid_1's l1: 90.7013\n",
      "[600]\ttraining's l2: 9985.76\ttraining's l1: 69.0028\tvalid_1's l2: 159554\tvalid_1's l1: 78.9694\n",
      "[800]\ttraining's l2: 7493.93\ttraining's l1: 59.758\tvalid_1's l2: 157001\tvalid_1's l1: 70.2884\n",
      "[1000]\ttraining's l2: 5881.06\ttraining's l1: 53.4943\tvalid_1's l2: 155264\tvalid_1's l1: 64.6501\n",
      "[1200]\ttraining's l2: 4689.31\ttraining's l1: 47.6124\tvalid_1's l2: 154142\tvalid_1's l1: 59.2635\n",
      "[1400]\ttraining's l2: 3927.9\ttraining's l1: 43.6152\tvalid_1's l2: 153596\tvalid_1's l1: 55.766\n",
      "[1600]\ttraining's l2: 3323.18\ttraining's l1: 40.0283\tvalid_1's l2: 153047\tvalid_1's l1: 52.5685\n",
      "[1800]\ttraining's l2: 2887.6\ttraining's l1: 37.4258\tvalid_1's l2: 152628\tvalid_1's l1: 50.2453\n",
      "[2000]\ttraining's l2: 2533.66\ttraining's l1: 34.9582\tvalid_1's l2: 152351\tvalid_1's l1: 48.0769\n",
      "[2200]\ttraining's l2: 2300.84\ttraining's l1: 33.4205\tvalid_1's l2: 152226\tvalid_1's l1: 46.913\n",
      "[2400]\ttraining's l2: 2070.02\ttraining's l1: 31.7815\tvalid_1's l2: 152098\tvalid_1's l1: 45.6172\n",
      "[2600]\ttraining's l2: 1897.61\ttraining's l1: 30.476\tvalid_1's l2: 152024\tvalid_1's l1: 44.6524\n",
      "[2800]\ttraining's l2: 1731.14\ttraining's l1: 29.1605\tvalid_1's l2: 151808\tvalid_1's l1: 43.6005\n",
      "[3000]\ttraining's l2: 1589.83\ttraining's l1: 28.029\tvalid_1's l2: 151715\tvalid_1's l1: 42.7764\n",
      "Early stopping, best iteration is:\n",
      "[2901]\ttraining's l2: 1647.72\ttraining's l1: 28.4735\tvalid_1's l2: 151708\tvalid_1's l1: 43.0581\n",
      "processed: 77/594\n",
      "saving...\n",
      "(307511, 912)\n"
     ]
    },
    {
     "name": "stderr",
     "output_type": "stream",
     "text": [
      "\r",
      "77it [2:04:06, 96.71s/it]"
     ]
    },
    {
     "name": "stdout",
     "output_type": "stream",
     "text": [
      "start processing NAME_FAMILY_STATUS_NAME_EDUCATION_TYPE_AMT_ANNUITY_mean_abs_diff \n",
      "the na is:0.00010666516961165458\n",
      "(356217, 909)\n",
      "(38, 909)\n",
      "Training until validation scores don't improve for 100 rounds.\n",
      "[200]\ttraining's l2: 56661\ttraining's l1: 147.006\tvalid_1's l2: 133331\tvalid_1's l1: 151.426\n",
      "[400]\ttraining's l2: 26686.3\ttraining's l1: 105.923\tvalid_1's l2: 111464\tvalid_1's l1: 112.644\n",
      "[600]\ttraining's l2: 17302.7\ttraining's l1: 86.6594\tvalid_1's l2: 103842\tvalid_1's l1: 94.6125\n",
      "[800]\ttraining's l2: 12601.1\ttraining's l1: 75.6641\tvalid_1's l2: 100270\tvalid_1's l1: 84.9263\n",
      "[1000]\ttraining's l2: 9792.38\ttraining's l1: 67.5442\tvalid_1's l2: 97922.9\tvalid_1's l1: 77.6483\n",
      "[1200]\ttraining's l2: 7866.74\ttraining's l1: 61.1513\tvalid_1's l2: 96168.1\tvalid_1's l1: 72.0076\n",
      "[1400]\ttraining's l2: 6619.26\ttraining's l1: 56.2527\tvalid_1's l2: 95289.7\tvalid_1's l1: 67.8463\n",
      "[1600]\ttraining's l2: 5694.51\ttraining's l1: 52.4391\tvalid_1's l2: 94703.2\tvalid_1's l1: 64.7295\n",
      "[1800]\ttraining's l2: 4972.29\ttraining's l1: 49.3258\tvalid_1's l2: 94232.6\tvalid_1's l1: 62.186\n",
      "[2000]\ttraining's l2: 4417.14\ttraining's l1: 46.7244\tvalid_1's l2: 93816.3\tvalid_1's l1: 60.1276\n",
      "[2200]\ttraining's l2: 3966.63\ttraining's l1: 44.4996\tvalid_1's l2: 93552.4\tvalid_1's l1: 58.4195\n",
      "[2400]\ttraining's l2: 3575.7\ttraining's l1: 42.3533\tvalid_1's l2: 93299.5\tvalid_1's l1: 56.709\n",
      "[2600]\ttraining's l2: 3275.49\ttraining's l1: 40.6736\tvalid_1's l2: 93040.2\tvalid_1's l1: 55.4985\n",
      "[2800]\ttraining's l2: 3006.38\ttraining's l1: 39.0812\tvalid_1's l2: 92886.3\tvalid_1's l1: 54.3365\n",
      "[3000]\ttraining's l2: 2742.3\ttraining's l1: 37.3235\tvalid_1's l2: 92640.4\tvalid_1's l1: 52.9657\n",
      "[3200]\ttraining's l2: 2556.77\ttraining's l1: 36.1157\tvalid_1's l2: 92515.5\tvalid_1's l1: 52.1188\n",
      "[3400]\ttraining's l2: 2377.15\ttraining's l1: 34.8042\tvalid_1's l2: 92420.9\tvalid_1's l1: 51.1418\n",
      "[3600]\ttraining's l2: 2217.65\ttraining's l1: 33.6471\tvalid_1's l2: 92248.2\tvalid_1's l1: 50.3188\n",
      "[3800]\ttraining's l2: 2100.94\ttraining's l1: 32.821\tvalid_1's l2: 92199.8\tvalid_1's l1: 49.8651\n",
      "[4000]\ttraining's l2: 1982.78\ttraining's l1: 31.9109\tvalid_1's l2: 92082.8\tvalid_1's l1: 49.2959\n",
      "[4200]\ttraining's l2: 1880.42\ttraining's l1: 31.1492\tvalid_1's l2: 92026.8\tvalid_1's l1: 48.8984\n",
      "[4400]\ttraining's l2: 1778.41\ttraining's l1: 30.3029\tvalid_1's l2: 91965.6\tvalid_1's l1: 48.3638\n",
      "[4600]\ttraining's l2: 1690.97\ttraining's l1: 29.6027\tvalid_1's l2: 91914.3\tvalid_1's l1: 47.9945\n",
      "[4800]\ttraining's l2: 1614.4\ttraining's l1: 28.945\tvalid_1's l2: 91861.6\tvalid_1's l1: 47.6355\n",
      "[5000]\ttraining's l2: 1531.59\ttraining's l1: 28.2168\tvalid_1's l2: 91792.7\tvalid_1's l1: 47.1852\n",
      "Did not meet early stopping. Best iteration is:\n",
      "[5000]\ttraining's l2: 1531.59\ttraining's l1: 28.2168\tvalid_1's l2: 91792.7\tvalid_1's l1: 47.1852\n",
      "processed: 78/594\n",
      "saving...\n",
      "(307511, 912)\n"
     ]
    },
    {
     "name": "stderr",
     "output_type": "stream",
     "text": [
      "\r",
      "78it [2:06:05, 96.99s/it]"
     ]
    },
    {
     "name": "stdout",
     "output_type": "stream",
     "text": [
      "start processing NAME_FAMILY_STATUS_NAME_EDUCATION_TYPE_AMT_ANNUITY_mean_diff \n",
      "the na is:0.00010666516961165458\n",
      "(356217, 909)\n",
      "(38, 909)\n",
      "Training until validation scores don't improve for 100 rounds.\n",
      "[200]\ttraining's l2: 69337.6\ttraining's l1: 170.152\tvalid_1's l2: 132224\tvalid_1's l1: 176.077\n",
      "[400]\ttraining's l2: 33667.6\ttraining's l1: 122.809\tvalid_1's l2: 97859.9\tvalid_1's l1: 130.45\n",
      "[600]\ttraining's l2: 21680.3\ttraining's l1: 100.425\tvalid_1's l2: 87149.1\tvalid_1's l1: 109.411\n",
      "[800]\ttraining's l2: 15606.3\ttraining's l1: 85.2989\tvalid_1's l2: 82498\tvalid_1's l1: 95.1281\n",
      "[1000]\ttraining's l2: 11984.6\ttraining's l1: 75.0944\tvalid_1's l2: 79021.6\tvalid_1's l1: 85.7151\n",
      "[1200]\ttraining's l2: 9685.44\ttraining's l1: 68.2338\tvalid_1's l2: 77498.1\tvalid_1's l1: 79.7473\n",
      "[1400]\ttraining's l2: 8047.32\ttraining's l1: 61.8503\tvalid_1's l2: 76172.9\tvalid_1's l1: 73.9761\n",
      "[1600]\ttraining's l2: 6871.24\ttraining's l1: 57.4216\tvalid_1's l2: 75257.2\tvalid_1's l1: 70.178\n",
      "[1800]\ttraining's l2: 5982.07\ttraining's l1: 53.6791\tvalid_1's l2: 74543\tvalid_1's l1: 66.9994\n",
      "[2000]\ttraining's l2: 5278.39\ttraining's l1: 50.5864\tvalid_1's l2: 73972.3\tvalid_1's l1: 64.3933\n",
      "[2200]\ttraining's l2: 4716.58\ttraining's l1: 47.8688\tvalid_1's l2: 73550.4\tvalid_1's l1: 62.1392\n",
      "[2400]\ttraining's l2: 4219.84\ttraining's l1: 45.2827\tvalid_1's l2: 73117.7\tvalid_1's l1: 59.9843\n",
      "[2600]\ttraining's l2: 3854.49\ttraining's l1: 43.2907\tvalid_1's l2: 72707.1\tvalid_1's l1: 58.3952\n",
      "[2800]\ttraining's l2: 3501.06\ttraining's l1: 41.2768\tvalid_1's l2: 72424.6\tvalid_1's l1: 56.7176\n",
      "[3000]\ttraining's l2: 3207.52\ttraining's l1: 39.6049\tvalid_1's l2: 72185\tvalid_1's l1: 55.4339\n",
      "[3200]\ttraining's l2: 2971.89\ttraining's l1: 38.2482\tvalid_1's l2: 72023.6\tvalid_1's l1: 54.4899\n",
      "Early stopping, best iteration is:\n",
      "[3122]\ttraining's l2: 3039.54\ttraining's l1: 38.6066\tvalid_1's l2: 72005.3\tvalid_1's l1: 54.6424\n",
      "processed: 79/594\n",
      "saving...\n",
      "(307511, 912)\n"
     ]
    },
    {
     "name": "stderr",
     "output_type": "stream",
     "text": [
      "\r",
      "79it [2:07:31, 96.86s/it]"
     ]
    },
    {
     "name": "stdout",
     "output_type": "stream",
     "text": [
      "start processing NAME_FAMILY_STATUS_NAME_EDUCATION_TYPE_AMT_ANNUITY_min_abs_diff \n",
      "the na is:0.00010666516961165458\n",
      "(356217, 909)\n",
      "(38, 909)\n",
      "Training until validation scores don't improve for 100 rounds.\n",
      "[200]\ttraining's l2: 28737.3\ttraining's l1: 97.9337\tvalid_1's l2: 96413.2\tvalid_1's l1: 104.351\n",
      "[400]\ttraining's l2: 17162.6\ttraining's l1: 83.4959\tvalid_1's l2: 86646\tvalid_1's l1: 91.5017\n",
      "[600]\ttraining's l2: 12064.3\ttraining's l1: 72.2578\tvalid_1's l2: 82162.2\tvalid_1's l1: 81.4066\n",
      "[800]\ttraining's l2: 8900.05\ttraining's l1: 63.9485\tvalid_1's l2: 79297.3\tvalid_1's l1: 74.0704\n",
      "[1000]\ttraining's l2: 6894.24\ttraining's l1: 56.9025\tvalid_1's l2: 77815\tvalid_1's l1: 67.7082\n",
      "[1200]\ttraining's l2: 5506.38\ttraining's l1: 51.3786\tvalid_1's l2: 76675.5\tvalid_1's l1: 62.8066\n",
      "[1400]\ttraining's l2: 4615.68\ttraining's l1: 47.288\tvalid_1's l2: 75955.1\tvalid_1's l1: 59.2562\n",
      "[1600]\ttraining's l2: 3891.51\ttraining's l1: 43.5704\tvalid_1's l2: 75558.4\tvalid_1's l1: 56.0462\n",
      "[1800]\ttraining's l2: 3379.01\ttraining's l1: 41.0025\tvalid_1's l2: 75105.5\tvalid_1's l1: 53.9532\n",
      "[2000]\ttraining's l2: 2974.87\ttraining's l1: 38.4582\tvalid_1's l2: 74834.4\tvalid_1's l1: 51.7802\n",
      "[2200]\ttraining's l2: 2633.62\ttraining's l1: 36.3278\tvalid_1's l2: 74727.4\tvalid_1's l1: 50.0496\n",
      "[2400]\ttraining's l2: 2402.92\ttraining's l1: 34.8539\tvalid_1's l2: 74559\tvalid_1's l1: 48.9775\n",
      "[2600]\ttraining's l2: 2196.11\ttraining's l1: 33.4024\tvalid_1's l2: 74344.5\tvalid_1's l1: 47.8731\n",
      "[2800]\ttraining's l2: 2007.66\ttraining's l1: 32.0317\tvalid_1's l2: 74236.5\tvalid_1's l1: 46.8475\n",
      "[3000]\ttraining's l2: 1854.97\ttraining's l1: 30.8319\tvalid_1's l2: 74138.6\tvalid_1's l1: 45.9715\n",
      "[3200]\ttraining's l2: 1716.14\ttraining's l1: 29.6833\tvalid_1's l2: 74013.4\tvalid_1's l1: 45.0984\n",
      "[3400]\ttraining's l2: 1590.11\ttraining's l1: 28.6087\tvalid_1's l2: 73853.6\tvalid_1's l1: 44.2872\n",
      "[3600]\ttraining's l2: 1487.63\ttraining's l1: 27.7338\tvalid_1's l2: 73788\tvalid_1's l1: 43.6996\n",
      "[3800]\ttraining's l2: 1394.71\ttraining's l1: 26.8702\tvalid_1's l2: 73665.7\tvalid_1's l1: 43.1032\n",
      "[4000]\ttraining's l2: 1315.48\ttraining's l1: 26.1076\tvalid_1's l2: 73614.7\tvalid_1's l1: 42.6182\n",
      "[4200]\ttraining's l2: 1244.53\ttraining's l1: 25.4408\tvalid_1's l2: 73570.9\tvalid_1's l1: 42.2101\n",
      "Early stopping, best iteration is:\n",
      "[4299]\ttraining's l2: 1214.68\ttraining's l1: 25.1483\tvalid_1's l2: 73549.7\tvalid_1's l1: 42.0554\n",
      "processed: 80/594\n",
      "saving...\n",
      "(307511, 912)\n"
     ]
    },
    {
     "name": "stderr",
     "output_type": "stream",
     "text": [
      "\r",
      "80it [2:09:18, 96.98s/it]"
     ]
    },
    {
     "name": "stdout",
     "output_type": "stream",
     "text": [
      "start processing NAME_FAMILY_STATUS_NAME_EDUCATION_TYPE_AMT_ANNUITY_min_diff \n",
      "the na is:0.00010666516961165458\n",
      "(356217, 909)\n",
      "(38, 909)\n",
      "Training until validation scores don't improve for 100 rounds.\n",
      "[200]\ttraining's l2: 29956.8\ttraining's l1: 105.174\tvalid_1's l2: 102820\tvalid_1's l1: 111.48\n",
      "[400]\ttraining's l2: 16418.1\ttraining's l1: 84.6591\tvalid_1's l2: 91204.7\tvalid_1's l1: 92.7341\n",
      "[600]\ttraining's l2: 11309.7\ttraining's l1: 72.4183\tvalid_1's l2: 87125.6\tvalid_1's l1: 81.6147\n",
      "[800]\ttraining's l2: 8308.56\ttraining's l1: 62.6995\tvalid_1's l2: 84624.3\tvalid_1's l1: 72.6631\n",
      "[1000]\ttraining's l2: 6409.43\ttraining's l1: 55.3897\tvalid_1's l2: 82899.2\tvalid_1's l1: 65.9071\n",
      "[1200]\ttraining's l2: 5152.48\ttraining's l1: 50.0013\tvalid_1's l2: 82018.5\tvalid_1's l1: 61.0568\n",
      "[1400]\ttraining's l2: 4233.56\ttraining's l1: 45.3269\tvalid_1's l2: 81208.2\tvalid_1's l1: 56.8121\n",
      "[1600]\ttraining's l2: 3507.09\ttraining's l1: 41.1097\tvalid_1's l2: 80724\tvalid_1's l1: 53.0071\n",
      "[1800]\ttraining's l2: 3041.27\ttraining's l1: 38.5347\tvalid_1's l2: 80215.8\tvalid_1's l1: 50.8998\n",
      "[2000]\ttraining's l2: 2709.4\ttraining's l1: 36.6131\tvalid_1's l2: 79966.8\tvalid_1's l1: 49.3613\n",
      "[2200]\ttraining's l2: 2408.22\ttraining's l1: 34.4876\tvalid_1's l2: 79697.4\tvalid_1's l1: 47.6072\n",
      "[2400]\ttraining's l2: 2180.75\ttraining's l1: 32.9706\tvalid_1's l2: 79544\tvalid_1's l1: 46.471\n",
      "[2600]\ttraining's l2: 2005.23\ttraining's l1: 31.7367\tvalid_1's l2: 79433.8\tvalid_1's l1: 45.5762\n",
      "[2800]\ttraining's l2: 1851.3\ttraining's l1: 30.6066\tvalid_1's l2: 79184.6\tvalid_1's l1: 44.7764\n",
      "[3000]\ttraining's l2: 1699.32\ttraining's l1: 29.3087\tvalid_1's l2: 79038.2\tvalid_1's l1: 43.7491\n",
      "[3200]\ttraining's l2: 1582.95\ttraining's l1: 28.3693\tvalid_1's l2: 78972.1\tvalid_1's l1: 43.1125\n",
      "[3400]\ttraining's l2: 1469.01\ttraining's l1: 27.3448\tvalid_1's l2: 78924.9\tvalid_1's l1: 42.3502\n",
      "[3600]\ttraining's l2: 1379.36\ttraining's l1: 26.5389\tvalid_1's l2: 78876.8\tvalid_1's l1: 41.7951\n",
      "[3800]\ttraining's l2: 1287.34\ttraining's l1: 25.618\tvalid_1's l2: 78806.8\tvalid_1's l1: 41.1292\n",
      "[4000]\ttraining's l2: 1210.37\ttraining's l1: 24.8134\tvalid_1's l2: 78735.4\tvalid_1's l1: 40.5366\n",
      "[4200]\ttraining's l2: 1139.85\ttraining's l1: 24.0942\tvalid_1's l2: 78667.5\tvalid_1's l1: 40.0573\n",
      "[4400]\ttraining's l2: 1074.62\ttraining's l1: 23.4232\tvalid_1's l2: 78612.2\tvalid_1's l1: 39.6104\n",
      "[4600]\ttraining's l2: 1016.98\ttraining's l1: 22.782\tvalid_1's l2: 78579.4\tvalid_1's l1: 39.2195\n",
      "[4800]\ttraining's l2: 955.201\ttraining's l1: 22.112\tvalid_1's l2: 78526.4\tvalid_1's l1: 38.7444\n",
      "[5000]\ttraining's l2: 904.521\ttraining's l1: 21.508\tvalid_1's l2: 78477.9\tvalid_1's l1: 38.3274\n",
      "Did not meet early stopping. Best iteration is:\n",
      "[5000]\ttraining's l2: 904.521\ttraining's l1: 21.508\tvalid_1's l2: 78477.9\tvalid_1's l1: 38.3274\n",
      "processed: 81/594\n",
      "saving...\n",
      "(307511, 912)\n"
     ]
    },
    {
     "name": "stderr",
     "output_type": "stream",
     "text": [
      "\r",
      "81it [2:11:16, 97.24s/it]"
     ]
    },
    {
     "name": "stdout",
     "output_type": "stream",
     "text": [
      "start processing NAME_FAMILY_STATUS_NAME_EDUCATION_TYPE_AMT_ANNUITY_max_diff \n",
      "the na is:0.00010666516961165458\n",
      "(356217, 909)\n",
      "(38, 909)\n",
      "Training until validation scores don't improve for 100 rounds.\n",
      "[200]\ttraining's l2: 293907\ttraining's l1: 337.86\tvalid_1's l2: 374036\tvalid_1's l1: 350.004\n",
      "[400]\ttraining's l2: 161871\ttraining's l1: 262.489\tvalid_1's l2: 252096\tvalid_1's l1: 277.239\n",
      "[600]\ttraining's l2: 110696\ttraining's l1: 219.79\tvalid_1's l2: 204895\tvalid_1's l1: 237.066\n",
      "[800]\ttraining's l2: 84088.7\ttraining's l1: 192.778\tvalid_1's l2: 182025\tvalid_1's l1: 212.12\n",
      "[1000]\ttraining's l2: 65240\ttraining's l1: 169.305\tvalid_1's l2: 164416\tvalid_1's l1: 189.741\n",
      "[1200]\ttraining's l2: 54253.6\ttraining's l1: 155.198\tvalid_1's l2: 154954\tvalid_1's l1: 177.301\n",
      "[1400]\ttraining's l2: 46283\ttraining's l1: 144.344\tvalid_1's l2: 148126\tvalid_1's l1: 167.948\n",
      "[1600]\ttraining's l2: 40233.4\ttraining's l1: 134.53\tvalid_1's l2: 142956\tvalid_1's l1: 159.521\n",
      "[1800]\ttraining's l2: 35247.5\ttraining's l1: 125.789\tvalid_1's l2: 138887\tvalid_1's l1: 151.93\n",
      "[2000]\ttraining's l2: 31548.1\ttraining's l1: 119.134\tvalid_1's l2: 135709\tvalid_1's l1: 146.501\n",
      "[2200]\ttraining's l2: 28027.3\ttraining's l1: 111.994\tvalid_1's l2: 132669\tvalid_1's l1: 140.22\n",
      "[2400]\ttraining's l2: 25318.5\ttraining's l1: 106.399\tvalid_1's l2: 130629\tvalid_1's l1: 135.618\n",
      "[2600]\ttraining's l2: 22916\ttraining's l1: 101.424\tvalid_1's l2: 128750\tvalid_1's l1: 131.602\n",
      "[2800]\ttraining's l2: 20823.1\ttraining's l1: 96.3448\tvalid_1's l2: 126949\tvalid_1's l1: 127.435\n",
      "[3000]\ttraining's l2: 19176.1\ttraining's l1: 92.6315\tvalid_1's l2: 125594\tvalid_1's l1: 124.674\n",
      "[3200]\ttraining's l2: 17759.7\ttraining's l1: 89.2161\tvalid_1's l2: 124505\tvalid_1's l1: 122.172\n",
      "[3400]\ttraining's l2: 16611.7\ttraining's l1: 86.4835\tvalid_1's l2: 123578\tvalid_1's l1: 120.409\n",
      "[3600]\ttraining's l2: 15498.2\ttraining's l1: 83.5792\tvalid_1's l2: 122580\tvalid_1's l1: 118.311\n",
      "[3800]\ttraining's l2: 14456.9\ttraining's l1: 80.7623\tvalid_1's l2: 121816\tvalid_1's l1: 116.354\n",
      "[4000]\ttraining's l2: 13519.5\ttraining's l1: 78.0828\tvalid_1's l2: 121200\tvalid_1's l1: 114.524\n",
      "[4200]\ttraining's l2: 12639.5\ttraining's l1: 75.5167\tvalid_1's l2: 120513\tvalid_1's l1: 112.663\n",
      "[4400]\ttraining's l2: 11808.2\ttraining's l1: 72.998\tvalid_1's l2: 119870\tvalid_1's l1: 110.863\n",
      "[4600]\ttraining's l2: 11118.1\ttraining's l1: 70.7858\tvalid_1's l2: 119366\tvalid_1's l1: 109.355\n",
      "[4800]\ttraining's l2: 10515.2\ttraining's l1: 68.8669\tvalid_1's l2: 119040\tvalid_1's l1: 108.228\n",
      "[5000]\ttraining's l2: 9960.3\ttraining's l1: 67.0054\tvalid_1's l2: 118722\tvalid_1's l1: 107.07\n",
      "Did not meet early stopping. Best iteration is:\n",
      "[5000]\ttraining's l2: 9960.3\ttraining's l1: 67.0054\tvalid_1's l2: 118722\tvalid_1's l1: 107.07\n",
      "processed: 82/594\n",
      "saving...\n",
      "(307511, 912)\n"
     ]
    },
    {
     "name": "stderr",
     "output_type": "stream",
     "text": [
      "\r",
      "82it [2:13:16, 97.52s/it]"
     ]
    },
    {
     "name": "stdout",
     "output_type": "stream",
     "text": [
      "start processing NAME_FAMILY_STATUS_NAME_EDUCATION_TYPE_AMT_ANNUITY_max_abs_diff \n",
      "the na is:0.00010666516961165458\n",
      "(356217, 909)\n",
      "(38, 909)\n",
      "Training until validation scores don't improve for 100 rounds.\n",
      "[200]\ttraining's l2: 212566\ttraining's l1: 288.349\tvalid_1's l2: 297724\tvalid_1's l1: 297.087\n",
      "[400]\ttraining's l2: 121066\ttraining's l1: 230.904\tvalid_1's l2: 208550\tvalid_1's l1: 241.907\n",
      "[600]\ttraining's l2: 83683.3\ttraining's l1: 194.466\tvalid_1's l2: 170899\tvalid_1's l1: 206.883\n",
      "[800]\ttraining's l2: 63491.1\ttraining's l1: 170.457\tvalid_1's l2: 152054\tvalid_1's l1: 184.786\n",
      "[1000]\ttraining's l2: 50348.6\ttraining's l1: 152.501\tvalid_1's l2: 139938\tvalid_1's l1: 168.483\n",
      "[1200]\ttraining's l2: 41549\ttraining's l1: 136.681\tvalid_1's l2: 132292\tvalid_1's l1: 154.109\n",
      "[1400]\ttraining's l2: 35542.5\ttraining's l1: 126.195\tvalid_1's l2: 127127\tvalid_1's l1: 145.097\n",
      "[1600]\ttraining's l2: 30619.2\ttraining's l1: 117.466\tvalid_1's l2: 122753\tvalid_1's l1: 137.632\n",
      "[1800]\ttraining's l2: 26775.3\ttraining's l1: 109.584\tvalid_1's l2: 119558\tvalid_1's l1: 130.991\n",
      "[2000]\ttraining's l2: 24204\ttraining's l1: 104.469\tvalid_1's l2: 117615\tvalid_1's l1: 127.027\n",
      "[2200]\ttraining's l2: 21747.8\ttraining's l1: 99.1174\tvalid_1's l2: 115750\tvalid_1's l1: 122.82\n",
      "[2400]\ttraining's l2: 19520.7\ttraining's l1: 93.8704\tvalid_1's l2: 114009\tvalid_1's l1: 118.58\n",
      "[2600]\ttraining's l2: 17846.2\ttraining's l1: 89.6191\tvalid_1's l2: 112709\tvalid_1's l1: 115.346\n",
      "[2800]\ttraining's l2: 16313.9\ttraining's l1: 85.5099\tvalid_1's l2: 111343\tvalid_1's l1: 112.185\n",
      "[3000]\ttraining's l2: 14869.6\ttraining's l1: 81.6573\tvalid_1's l2: 109876\tvalid_1's l1: 109.061\n",
      "[3200]\ttraining's l2: 13871.6\ttraining's l1: 79.0717\tvalid_1's l2: 109248\tvalid_1's l1: 107.412\n",
      "[3400]\ttraining's l2: 13005.8\ttraining's l1: 76.7226\tvalid_1's l2: 108645\tvalid_1's l1: 105.942\n",
      "[3600]\ttraining's l2: 12148.2\ttraining's l1: 74.1179\tvalid_1's l2: 108210\tvalid_1's l1: 104.165\n",
      "[3800]\ttraining's l2: 11405\ttraining's l1: 71.9101\tvalid_1's l2: 107641\tvalid_1's l1: 102.755\n",
      "[4000]\ttraining's l2: 10763.4\ttraining's l1: 69.8603\tvalid_1's l2: 107120\tvalid_1's l1: 101.468\n",
      "[4200]\ttraining's l2: 10076.8\ttraining's l1: 67.5049\tvalid_1's l2: 106586\tvalid_1's l1: 99.8104\n",
      "[4400]\ttraining's l2: 9475.55\ttraining's l1: 65.5992\tvalid_1's l2: 106160\tvalid_1's l1: 98.6498\n",
      "[4600]\ttraining's l2: 8955.64\ttraining's l1: 63.8178\tvalid_1's l2: 105911\tvalid_1's l1: 97.6072\n",
      "[4800]\ttraining's l2: 8410.74\ttraining's l1: 61.908\tvalid_1's l2: 105589\tvalid_1's l1: 96.4063\n",
      "[5000]\ttraining's l2: 7911.21\ttraining's l1: 60.0575\tvalid_1's l2: 105191\tvalid_1's l1: 95.1915\n",
      "Did not meet early stopping. Best iteration is:\n",
      "[5000]\ttraining's l2: 7911.21\ttraining's l1: 60.0575\tvalid_1's l2: 105191\tvalid_1's l1: 95.1915\n",
      "processed: 83/594\n",
      "saving...\n",
      "(307511, 912)\n"
     ]
    },
    {
     "name": "stderr",
     "output_type": "stream",
     "text": [
      "\r",
      "83it [2:15:14, 97.76s/it]"
     ]
    },
    {
     "name": "stdout",
     "output_type": "stream",
     "text": [
      "start processing AMT_ANNUITY_divide_DAYS_EMPLOYED \n",
      "the na is:0.00010666516961165458\n",
      "(356217, 909)\n",
      "(38, 909)\n",
      "Training until validation scores don't improve for 100 rounds.\n",
      "Early stopping, best iteration is:\n",
      "[22]\ttraining's l2: 7880.26\ttraining's l1: 6.54966\tvalid_1's l2: 517.596\tvalid_1's l1: 6.18191\n",
      "processed: 84/594\n",
      "saving...\n",
      "(307511, 912)\n"
     ]
    },
    {
     "name": "stderr",
     "output_type": "stream",
     "text": [
      "\r",
      "84it [2:15:33, 96.83s/it]"
     ]
    },
    {
     "name": "stdout",
     "output_type": "stream",
     "text": [
      "start processing NAME_EDUCATION_TYPE_CODE_GENDER_AMT_ANNUITY_min_diff \n",
      "the na is:0.00011227912590700482\n",
      "(356215, 909)\n",
      "(40, 909)\n",
      "Training until validation scores don't improve for 100 rounds.\n",
      "[200]\ttraining's l2: 26048.5\ttraining's l1: 95.1981\tvalid_1's l2: 109102\tvalid_1's l1: 102.209\n",
      "[400]\ttraining's l2: 13835\ttraining's l1: 77.4922\tvalid_1's l2: 96908.3\tvalid_1's l1: 86.3762\n",
      "[600]\ttraining's l2: 9434.48\ttraining's l1: 65.5324\tvalid_1's l2: 93545.3\tvalid_1's l1: 75.5777\n",
      "[800]\ttraining's l2: 7052.64\ttraining's l1: 56.9483\tvalid_1's l2: 91617\tvalid_1's l1: 67.723\n",
      "[1000]\ttraining's l2: 5576.59\ttraining's l1: 51.5149\tvalid_1's l2: 90484.8\tvalid_1's l1: 62.9025\n",
      "[1200]\ttraining's l2: 4569.73\ttraining's l1: 46.6819\tvalid_1's l2: 89745.3\tvalid_1's l1: 58.5491\n",
      "[1400]\ttraining's l2: 3907.55\ttraining's l1: 43.4025\tvalid_1's l2: 89136.5\tvalid_1's l1: 55.7379\n",
      "[1600]\ttraining's l2: 3374.13\ttraining's l1: 40.4374\tvalid_1's l2: 88636\tvalid_1's l1: 53.1544\n",
      "[1800]\ttraining's l2: 2958.49\ttraining's l1: 37.8338\tvalid_1's l2: 88343.7\tvalid_1's l1: 50.9691\n",
      "[2000]\ttraining's l2: 2610.6\ttraining's l1: 35.687\tvalid_1's l2: 88119\tvalid_1's l1: 49.2067\n",
      "[2200]\ttraining's l2: 2339.36\ttraining's l1: 33.7988\tvalid_1's l2: 88003.5\tvalid_1's l1: 47.634\n",
      "[2400]\ttraining's l2: 2127.61\ttraining's l1: 32.3108\tvalid_1's l2: 87802.8\tvalid_1's l1: 46.4933\n",
      "[2600]\ttraining's l2: 1925.55\ttraining's l1: 30.7614\tvalid_1's l2: 87569.6\tvalid_1's l1: 45.3093\n",
      "[2800]\ttraining's l2: 1771.43\ttraining's l1: 29.613\tvalid_1's l2: 87443.8\tvalid_1's l1: 44.5187\n",
      "[3000]\ttraining's l2: 1627.29\ttraining's l1: 28.3514\tvalid_1's l2: 87328.1\tvalid_1's l1: 43.51\n",
      "[3200]\ttraining's l2: 1513.99\ttraining's l1: 27.3996\tvalid_1's l2: 87275.1\tvalid_1's l1: 42.8586\n",
      "[3400]\ttraining's l2: 1406.52\ttraining's l1: 26.4686\tvalid_1's l2: 87257.9\tvalid_1's l1: 42.2066\n",
      "[3600]\ttraining's l2: 1301.72\ttraining's l1: 25.4977\tvalid_1's l2: 87109.2\tvalid_1's l1: 41.4779\n",
      "[3800]\ttraining's l2: 1216.34\ttraining's l1: 24.6463\tvalid_1's l2: 87010\tvalid_1's l1: 40.8823\n",
      "[4000]\ttraining's l2: 1141.79\ttraining's l1: 23.9304\tvalid_1's l2: 86964.5\tvalid_1's l1: 40.4209\n",
      "[4200]\ttraining's l2: 1075\ttraining's l1: 23.2866\tvalid_1's l2: 86927.4\tvalid_1's l1: 40.0335\n",
      "[4400]\ttraining's l2: 1010.93\ttraining's l1: 22.5597\tvalid_1's l2: 86887.6\tvalid_1's l1: 39.5218\n",
      "[4600]\ttraining's l2: 952.088\ttraining's l1: 21.8951\tvalid_1's l2: 86831.6\tvalid_1's l1: 39.0584\n",
      "[4800]\ttraining's l2: 897.824\ttraining's l1: 21.2776\tvalid_1's l2: 86787.9\tvalid_1's l1: 38.643\n",
      "[5000]\ttraining's l2: 850.959\ttraining's l1: 20.7517\tvalid_1's l2: 86770\tvalid_1's l1: 38.3291\n",
      "Did not meet early stopping. Best iteration is:\n",
      "[5000]\ttraining's l2: 850.959\ttraining's l1: 20.7517\tvalid_1's l2: 86770\tvalid_1's l1: 38.3291\n",
      "processed: 85/594\n",
      "saving...\n",
      "(307511, 912)\n"
     ]
    },
    {
     "name": "stderr",
     "output_type": "stream",
     "text": [
      "\r",
      "85it [2:17:31, 97.08s/it]"
     ]
    },
    {
     "name": "stdout",
     "output_type": "stream",
     "text": [
      "start processing CODE_GENDER_REG_CITY_NOT_WORK_CITY_AMT_ANNUITY_mean_abs_diff \n",
      "the na is:0.00011227912590700482\n",
      "(356215, 909)\n",
      "(40, 909)\n",
      "Training until validation scores don't improve for 100 rounds.\n",
      "[200]\ttraining's l2: 58335.2\ttraining's l1: 148.75\tvalid_1's l2: 122855\tvalid_1's l1: 155.272\n",
      "[400]\ttraining's l2: 27710.7\ttraining's l1: 108.574\tvalid_1's l2: 97335.9\tvalid_1's l1: 116.642\n",
      "[600]\ttraining's l2: 17721\ttraining's l1: 89.1327\tvalid_1's l2: 86934.3\tvalid_1's l1: 97.8265\n",
      "[800]\ttraining's l2: 12892.3\ttraining's l1: 77.1488\tvalid_1's l2: 82294\tvalid_1's l1: 86.5678\n",
      "[1000]\ttraining's l2: 10010.6\ttraining's l1: 68.6495\tvalid_1's l2: 79911.4\tvalid_1's l1: 78.7892\n",
      "[1200]\ttraining's l2: 8180.61\ttraining's l1: 62.718\tvalid_1's l2: 78280.1\tvalid_1's l1: 73.4662\n",
      "[1400]\ttraining's l2: 6851.59\ttraining's l1: 58.0212\tvalid_1's l2: 77036.5\tvalid_1's l1: 69.3841\n",
      "[1600]\ttraining's l2: 5933.56\ttraining's l1: 54.4355\tvalid_1's l2: 76367.6\tvalid_1's l1: 66.4077\n",
      "[1800]\ttraining's l2: 5168.78\ttraining's l1: 51.0908\tvalid_1's l2: 75741\tvalid_1's l1: 63.4965\n",
      "[2000]\ttraining's l2: 4630.56\ttraining's l1: 48.6614\tvalid_1's l2: 75301.2\tvalid_1's l1: 61.6471\n",
      "[2200]\ttraining's l2: 4153.23\ttraining's l1: 46.3185\tvalid_1's l2: 74838.9\tvalid_1's l1: 59.7645\n",
      "[2400]\ttraining's l2: 3777.2\ttraining's l1: 44.381\tvalid_1's l2: 74489.2\tvalid_1's l1: 58.2857\n",
      "[2600]\ttraining's l2: 3452.82\ttraining's l1: 42.5336\tvalid_1's l2: 74151.3\tvalid_1's l1: 56.8439\n",
      "[2800]\ttraining's l2: 3204.05\ttraining's l1: 41.2052\tvalid_1's l2: 73943\tvalid_1's l1: 56.0012\n",
      "[3000]\ttraining's l2: 2976.25\ttraining's l1: 39.803\tvalid_1's l2: 73756.7\tvalid_1's l1: 54.9968\n",
      "[3200]\ttraining's l2: 2756.03\ttraining's l1: 38.3453\tvalid_1's l2: 73572\tvalid_1's l1: 53.8585\n",
      "[3400]\ttraining's l2: 2583.91\ttraining's l1: 37.2276\tvalid_1's l2: 73478\tvalid_1's l1: 53.1149\n",
      "[3600]\ttraining's l2: 2420.37\ttraining's l1: 36.1606\tvalid_1's l2: 73358.7\tvalid_1's l1: 52.4306\n",
      "[3800]\ttraining's l2: 2290.9\ttraining's l1: 35.2874\tvalid_1's l2: 73232.5\tvalid_1's l1: 51.9349\n",
      "[4000]\ttraining's l2: 2170.53\ttraining's l1: 34.4233\tvalid_1's l2: 73157.9\tvalid_1's l1: 51.4119\n",
      "[4200]\ttraining's l2: 2066.67\ttraining's l1: 33.6742\tvalid_1's l2: 73079\tvalid_1's l1: 51.0081\n",
      "[4400]\ttraining's l2: 1959.87\ttraining's l1: 32.8124\tvalid_1's l2: 73017.1\tvalid_1's l1: 50.4589\n",
      "[4600]\ttraining's l2: 1859.47\ttraining's l1: 32.0171\tvalid_1's l2: 72912.3\tvalid_1's l1: 49.9494\n",
      "[4800]\ttraining's l2: 1771.54\ttraining's l1: 31.2336\tvalid_1's l2: 72847.3\tvalid_1's l1: 49.4512\n",
      "[5000]\ttraining's l2: 1688.69\ttraining's l1: 30.5346\tvalid_1's l2: 72784.1\tvalid_1's l1: 49.0471\n",
      "Did not meet early stopping. Best iteration is:\n",
      "[5000]\ttraining's l2: 1688.69\ttraining's l1: 30.5346\tvalid_1's l2: 72784.1\tvalid_1's l1: 49.0471\n",
      "processed: 86/594\n",
      "saving...\n",
      "(307511, 912)\n"
     ]
    },
    {
     "name": "stderr",
     "output_type": "stream",
     "text": [
      "\r",
      "86it [2:19:35, 97.39s/it]"
     ]
    },
    {
     "name": "stdout",
     "output_type": "stream",
     "text": [
      "start processing CODE_GENDER_REG_CITY_NOT_WORK_CITY_AMT_ANNUITY_mean_diff \n",
      "the na is:0.00011227912590700482\n",
      "(356215, 909)\n",
      "(40, 909)\n",
      "Training until validation scores don't improve for 100 rounds.\n",
      "[200]\ttraining's l2: 29637.1\ttraining's l1: 107.552\tvalid_1's l2: 97506\tvalid_1's l1: 113.928\n",
      "[400]\ttraining's l2: 16071.8\ttraining's l1: 82.5664\tvalid_1's l2: 86539.7\tvalid_1's l1: 90.6751\n",
      "[600]\ttraining's l2: 10599.2\ttraining's l1: 68.8394\tvalid_1's l2: 81382.4\tvalid_1's l1: 77.9731\n",
      "[800]\ttraining's l2: 7617.68\ttraining's l1: 59.4376\tvalid_1's l2: 78771.1\tvalid_1's l1: 69.4889\n",
      "[1000]\ttraining's l2: 5865.47\ttraining's l1: 52.6687\tvalid_1's l2: 77355.3\tvalid_1's l1: 63.3291\n",
      "[1200]\ttraining's l2: 4824.63\ttraining's l1: 48.1579\tvalid_1's l2: 76561.8\tvalid_1's l1: 59.3774\n",
      "[1400]\ttraining's l2: 4067.34\ttraining's l1: 44.5105\tvalid_1's l2: 76195.9\tvalid_1's l1: 56.2369\n",
      "[1600]\ttraining's l2: 3480.99\ttraining's l1: 41.2201\tvalid_1's l2: 75729.3\tvalid_1's l1: 53.467\n",
      "[1800]\ttraining's l2: 3035.66\ttraining's l1: 38.7959\tvalid_1's l2: 75079.7\tvalid_1's l1: 51.5173\n",
      "[2000]\ttraining's l2: 2686.64\ttraining's l1: 36.543\tvalid_1's l2: 74909\tvalid_1's l1: 49.6838\n",
      "[2200]\ttraining's l2: 2414.02\ttraining's l1: 34.6999\tvalid_1's l2: 74623.3\tvalid_1's l1: 48.1966\n",
      "[2400]\ttraining's l2: 2172.98\ttraining's l1: 33.0153\tvalid_1's l2: 74321.4\tvalid_1's l1: 46.8847\n",
      "[2600]\ttraining's l2: 1978.12\ttraining's l1: 31.5434\tvalid_1's l2: 74159.9\tvalid_1's l1: 45.776\n",
      "[2800]\ttraining's l2: 1811.39\ttraining's l1: 30.2341\tvalid_1's l2: 74055.7\tvalid_1's l1: 44.7871\n",
      "[3000]\ttraining's l2: 1671.42\ttraining's l1: 29.1083\tvalid_1's l2: 73864.9\tvalid_1's l1: 43.9576\n",
      "[3200]\ttraining's l2: 1559.9\ttraining's l1: 28.1568\tvalid_1's l2: 73812.6\tvalid_1's l1: 43.2953\n",
      "[3400]\ttraining's l2: 1455.8\ttraining's l1: 27.2589\tvalid_1's l2: 73727.9\tvalid_1's l1: 42.6807\n",
      "[3600]\ttraining's l2: 1346.02\ttraining's l1: 26.2295\tvalid_1's l2: 73648.9\tvalid_1's l1: 41.8793\n",
      "Early stopping, best iteration is:\n",
      "[3542]\ttraining's l2: 1371.82\ttraining's l1: 26.4807\tvalid_1's l2: 73638.4\tvalid_1's l1: 42.0666\n",
      "processed: 87/594\n",
      "saving...\n",
      "(307511, 912)\n"
     ]
    },
    {
     "name": "stderr",
     "output_type": "stream",
     "text": [
      "\r",
      "87it [2:21:08, 97.34s/it]"
     ]
    },
    {
     "name": "stdout",
     "output_type": "stream",
     "text": [
      "start processing NAME_EDUCATION_TYPE_CODE_GENDER_AMT_ANNUITY_mean_diff \n",
      "the na is:0.00011227912590700482\n",
      "(356215, 909)\n",
      "(40, 909)\n",
      "Training until validation scores don't improve for 100 rounds.\n",
      "[200]\ttraining's l2: 54312.7\ttraining's l1: 147.774\tvalid_1's l2: 126989\tvalid_1's l1: 153.951\n",
      "[400]\ttraining's l2: 27728.3\ttraining's l1: 111.185\tvalid_1's l2: 105997\tvalid_1's l1: 119.716\n",
      "[600]\ttraining's l2: 17505.7\ttraining's l1: 89.9375\tvalid_1's l2: 96218\tvalid_1's l1: 99.9422\n",
      "[800]\ttraining's l2: 12040\ttraining's l1: 74.0274\tvalid_1's l2: 91755.1\tvalid_1's l1: 84.5455\n",
      "[1000]\ttraining's l2: 9029.96\ttraining's l1: 64.9165\tvalid_1's l2: 89359\tvalid_1's l1: 76.1835\n",
      "[1200]\ttraining's l2: 7152.64\ttraining's l1: 58.0873\tvalid_1's l2: 87806.5\tvalid_1's l1: 69.909\n",
      "[1400]\ttraining's l2: 5877.67\ttraining's l1: 53.1275\tvalid_1's l2: 86416.1\tvalid_1's l1: 65.5222\n",
      "[1600]\ttraining's l2: 4988.82\ttraining's l1: 49.0493\tvalid_1's l2: 85630.4\tvalid_1's l1: 61.9287\n",
      "[1800]\ttraining's l2: 4334.07\ttraining's l1: 45.7582\tvalid_1's l2: 85268\tvalid_1's l1: 59.0986\n",
      "[2000]\ttraining's l2: 3811.43\ttraining's l1: 42.9621\tvalid_1's l2: 84613\tvalid_1's l1: 56.6883\n",
      "[2200]\ttraining's l2: 3378.42\ttraining's l1: 40.3841\tvalid_1's l2: 84301.9\tvalid_1's l1: 54.4252\n",
      "[2400]\ttraining's l2: 3000.13\ttraining's l1: 38.1398\tvalid_1's l2: 83947.6\tvalid_1's l1: 52.457\n",
      "[2600]\ttraining's l2: 2723.05\ttraining's l1: 36.4848\tvalid_1's l2: 83775.7\tvalid_1's l1: 51.2196\n",
      "[2800]\ttraining's l2: 2507.9\ttraining's l1: 35.1416\tvalid_1's l2: 83612.2\tvalid_1's l1: 50.2306\n",
      "[3000]\ttraining's l2: 2303.87\ttraining's l1: 33.7592\tvalid_1's l2: 83486.4\tvalid_1's l1: 49.1863\n",
      "[3200]\ttraining's l2: 2130.01\ttraining's l1: 32.4603\tvalid_1's l2: 83305.1\tvalid_1's l1: 48.1998\n",
      "[3400]\ttraining's l2: 1994.14\ttraining's l1: 31.4861\tvalid_1's l2: 83231.2\tvalid_1's l1: 47.5709\n",
      "Early stopping, best iteration is:\n",
      "[3486]\ttraining's l2: 1930.9\ttraining's l1: 31.0384\tvalid_1's l2: 83189\tvalid_1's l1: 47.2518\n",
      "processed: 88/594\n",
      "saving...\n",
      "(307511, 912)\n"
     ]
    },
    {
     "name": "stderr",
     "output_type": "stream",
     "text": [
      "\r",
      "88it [2:22:40, 97.28s/it]"
     ]
    },
    {
     "name": "stdout",
     "output_type": "stream",
     "text": [
      "start processing NAME_EDUCATION_TYPE_CODE_GENDER_AMT_ANNUITY_max_diff \n",
      "the na is:0.00011227912590700482\n",
      "(356215, 909)\n",
      "(40, 909)\n",
      "Training until validation scores don't improve for 100 rounds.\n",
      "[200]\ttraining's l2: 261478\ttraining's l1: 319.882\tvalid_1's l2: 320362\tvalid_1's l1: 326.964\n",
      "[400]\ttraining's l2: 132772\ttraining's l1: 238.629\tvalid_1's l2: 189711\tvalid_1's l1: 247.859\n",
      "[600]\ttraining's l2: 90585.8\ttraining's l1: 198.476\tvalid_1's l2: 149562\tvalid_1's l1: 209.32\n",
      "[800]\ttraining's l2: 66399.8\ttraining's l1: 170.065\tvalid_1's l2: 127940\tvalid_1's l1: 182.56\n",
      "[1000]\ttraining's l2: 51901.9\ttraining's l1: 151.281\tvalid_1's l2: 114781\tvalid_1's l1: 165.188\n",
      "[1200]\ttraining's l2: 42389.9\ttraining's l1: 136.669\tvalid_1's l2: 106949\tvalid_1's l1: 152.16\n",
      "[1400]\ttraining's l2: 35177.2\ttraining's l1: 125.175\tvalid_1's l2: 101177\tvalid_1's l1: 141.948\n",
      "[1600]\ttraining's l2: 29719\ttraining's l1: 115.077\tvalid_1's l2: 96770.2\tvalid_1's l1: 132.975\n",
      "[1800]\ttraining's l2: 25849.9\ttraining's l1: 107.552\tvalid_1's l2: 93561.8\tvalid_1's l1: 126.491\n",
      "[2000]\ttraining's l2: 22770.6\ttraining's l1: 101.052\tvalid_1's l2: 91112.1\tvalid_1's l1: 121.032\n",
      "[2200]\ttraining's l2: 20212\ttraining's l1: 95.2426\tvalid_1's l2: 89005.7\tvalid_1's l1: 116.164\n",
      "[2400]\ttraining's l2: 18056.6\ttraining's l1: 90.0282\tvalid_1's l2: 87235.6\tvalid_1's l1: 111.883\n",
      "[2600]\ttraining's l2: 16309.4\ttraining's l1: 85.435\tvalid_1's l2: 85778.1\tvalid_1's l1: 108.2\n",
      "[2800]\ttraining's l2: 14867.2\ttraining's l1: 81.6175\tvalid_1's l2: 85106.8\tvalid_1's l1: 105.339\n",
      "[3000]\ttraining's l2: 13602.4\ttraining's l1: 78.0596\tvalid_1's l2: 84243.2\tvalid_1's l1: 102.598\n",
      "[3200]\ttraining's l2: 12555.5\ttraining's l1: 75.1551\tvalid_1's l2: 83553.6\tvalid_1's l1: 100.478\n",
      "[3400]\ttraining's l2: 11639.1\ttraining's l1: 72.5027\tvalid_1's l2: 82997.7\tvalid_1's l1: 98.7019\n",
      "[3600]\ttraining's l2: 10687.7\ttraining's l1: 69.5763\tvalid_1's l2: 82179.6\tvalid_1's l1: 96.4591\n",
      "[3800]\ttraining's l2: 9943.32\ttraining's l1: 67.2015\tvalid_1's l2: 81667.4\tvalid_1's l1: 94.8184\n",
      "[4000]\ttraining's l2: 9367.1\ttraining's l1: 65.3202\tvalid_1's l2: 81313\tvalid_1's l1: 93.6251\n",
      "[4200]\ttraining's l2: 8763.19\ttraining's l1: 63.2995\tvalid_1's l2: 80858.1\tvalid_1's l1: 92.2731\n",
      "[4400]\ttraining's l2: 8245.35\ttraining's l1: 61.4001\tvalid_1's l2: 80536.1\tvalid_1's l1: 91.0064\n",
      "[4600]\ttraining's l2: 7777.27\ttraining's l1: 59.6832\tvalid_1's l2: 80246.3\tvalid_1's l1: 89.9355\n",
      "[4800]\ttraining's l2: 7305.24\ttraining's l1: 57.8034\tvalid_1's l2: 79864.8\tvalid_1's l1: 88.6228\n",
      "[5000]\ttraining's l2: 6931.33\ttraining's l1: 56.454\tvalid_1's l2: 79587.8\tvalid_1's l1: 87.896\n",
      "Did not meet early stopping. Best iteration is:\n",
      "[5000]\ttraining's l2: 6931.33\ttraining's l1: 56.454\tvalid_1's l2: 79587.8\tvalid_1's l1: 87.896\n",
      "processed: 89/594\n",
      "saving...\n",
      "(307511, 912)\n"
     ]
    },
    {
     "name": "stderr",
     "output_type": "stream",
     "text": [
      "\r",
      "89it [2:24:41, 97.55s/it]"
     ]
    },
    {
     "name": "stdout",
     "output_type": "stream",
     "text": [
      "start processing NAME_EDUCATION_TYPE_CODE_GENDER_AMT_ANNUITY_max_abs_diff \n",
      "the na is:0.00011227912590700482\n",
      "(356215, 909)\n",
      "(40, 909)\n",
      "Training until validation scores don't improve for 100 rounds.\n",
      "[200]\ttraining's l2: 236374\ttraining's l1: 305.163\tvalid_1's l2: 276587\tvalid_1's l1: 311.275\n",
      "[400]\ttraining's l2: 129251\ttraining's l1: 236.816\tvalid_1's l2: 180347\tvalid_1's l1: 245.914\n",
      "[600]\ttraining's l2: 88676.7\ttraining's l1: 198.492\tvalid_1's l2: 146504\tvalid_1's l1: 209.827\n",
      "[800]\ttraining's l2: 65619.7\ttraining's l1: 171.476\tvalid_1's l2: 125879\tvalid_1's l1: 184.303\n",
      "[1000]\ttraining's l2: 51739.3\ttraining's l1: 152.126\tvalid_1's l2: 113481\tvalid_1's l1: 166.404\n",
      "[1200]\ttraining's l2: 42659.7\ttraining's l1: 137.287\tvalid_1's l2: 105807\tvalid_1's l1: 152.987\n",
      "[1400]\ttraining's l2: 35914.3\ttraining's l1: 126.304\tvalid_1's l2: 100782\tvalid_1's l1: 143.442\n",
      "[1600]\ttraining's l2: 31208.4\ttraining's l1: 117.913\tvalid_1's l2: 97375.9\tvalid_1's l1: 136.368\n",
      "[1800]\ttraining's l2: 27468\ttraining's l1: 110.592\tvalid_1's l2: 94328.2\tvalid_1's l1: 130.154\n",
      "[2000]\ttraining's l2: 24172.4\ttraining's l1: 103.589\tvalid_1's l2: 91943.9\tvalid_1's l1: 124.212\n",
      "[2200]\ttraining's l2: 21585.9\ttraining's l1: 97.6299\tvalid_1's l2: 89792.3\tvalid_1's l1: 119.191\n",
      "[2400]\ttraining's l2: 19718.4\ttraining's l1: 93.6734\tvalid_1's l2: 88652.9\tvalid_1's l1: 116.393\n",
      "[2600]\ttraining's l2: 17760.3\ttraining's l1: 88.9389\tvalid_1's l2: 87084.1\tvalid_1's l1: 112.531\n",
      "[2800]\ttraining's l2: 16279.9\ttraining's l1: 85.0186\tvalid_1's l2: 85836.8\tvalid_1's l1: 109.43\n",
      "[3000]\ttraining's l2: 14990\ttraining's l1: 81.5747\tvalid_1's l2: 85047.1\tvalid_1's l1: 106.938\n",
      "[3200]\ttraining's l2: 13897.3\ttraining's l1: 78.7271\tvalid_1's l2: 84414.8\tvalid_1's l1: 105\n",
      "[3400]\ttraining's l2: 12618.5\ttraining's l1: 74.8888\tvalid_1's l2: 83351.4\tvalid_1's l1: 101.81\n",
      "[3600]\ttraining's l2: 11747.8\ttraining's l1: 72.4517\tvalid_1's l2: 82629.5\tvalid_1's l1: 100.156\n",
      "[3800]\ttraining's l2: 10915.8\ttraining's l1: 69.9372\tvalid_1's l2: 82061.7\tvalid_1's l1: 98.4023\n",
      "[4000]\ttraining's l2: 10273.9\ttraining's l1: 68.0413\tvalid_1's l2: 81643.1\tvalid_1's l1: 97.3002\n",
      "[4200]\ttraining's l2: 9648.36\ttraining's l1: 65.9188\tvalid_1's l2: 81248.2\tvalid_1's l1: 95.827\n",
      "[4400]\ttraining's l2: 9036.09\ttraining's l1: 63.7505\tvalid_1's l2: 80762.8\tvalid_1's l1: 94.2534\n",
      "[4600]\ttraining's l2: 8511.7\ttraining's l1: 61.9179\tvalid_1's l2: 80466.1\tvalid_1's l1: 93.0397\n",
      "[4800]\ttraining's l2: 8084.89\ttraining's l1: 60.432\tvalid_1's l2: 80258.1\tvalid_1's l1: 92.2221\n",
      "[5000]\ttraining's l2: 7638.19\ttraining's l1: 58.7603\tvalid_1's l2: 79944\tvalid_1's l1: 91.1691\n",
      "Did not meet early stopping. Best iteration is:\n",
      "[5000]\ttraining's l2: 7638.19\ttraining's l1: 58.7603\tvalid_1's l2: 79944\tvalid_1's l1: 91.1691\n",
      "processed: 90/594\n",
      "saving...\n",
      "(307511, 912)\n"
     ]
    },
    {
     "name": "stderr",
     "output_type": "stream",
     "text": [
      "\r",
      "90it [2:26:43, 97.81s/it]"
     ]
    },
    {
     "name": "stdout",
     "output_type": "stream",
     "text": [
      "start processing NAME_EDUCATION_TYPE_CODE_GENDER_AMT_ANNUITY_mean_abs_diff \n",
      "the na is:0.00011227912590700482\n",
      "(356215, 909)\n",
      "(40, 909)\n",
      "Training until validation scores don't improve for 100 rounds.\n",
      "[200]\ttraining's l2: 52328\ttraining's l1: 140.318\tvalid_1's l2: 103458\tvalid_1's l1: 145.295\n",
      "[400]\ttraining's l2: 25812.1\ttraining's l1: 102.711\tvalid_1's l2: 78231.7\tvalid_1's l1: 109.059\n",
      "[600]\ttraining's l2: 17199.9\ttraining's l1: 86.3867\tvalid_1's l2: 70049.9\tvalid_1's l1: 93.8056\n",
      "[800]\ttraining's l2: 12877.8\ttraining's l1: 75.2371\tvalid_1's l2: 66173.8\tvalid_1's l1: 83.369\n",
      "[1000]\ttraining's l2: 10061.5\ttraining's l1: 67.6847\tvalid_1's l2: 63994.4\tvalid_1's l1: 76.6132\n",
      "[1200]\ttraining's l2: 7952.38\ttraining's l1: 61.1393\tvalid_1's l2: 61926.2\tvalid_1's l1: 70.7066\n",
      "[1400]\ttraining's l2: 6594.13\ttraining's l1: 55.7905\tvalid_1's l2: 60940.9\tvalid_1's l1: 65.9334\n",
      "[1600]\ttraining's l2: 5604.27\ttraining's l1: 51.9214\tvalid_1's l2: 60007.9\tvalid_1's l1: 62.6656\n",
      "[1800]\ttraining's l2: 4863.05\ttraining's l1: 48.6134\tvalid_1's l2: 59321.3\tvalid_1's l1: 59.8279\n",
      "[2000]\ttraining's l2: 4249.15\ttraining's l1: 45.5682\tvalid_1's l2: 58887.9\tvalid_1's l1: 57.1894\n",
      "[2200]\ttraining's l2: 3772.04\ttraining's l1: 42.9375\tvalid_1's l2: 58535.4\tvalid_1's l1: 54.9826\n",
      "[2400]\ttraining's l2: 3420.43\ttraining's l1: 41.1228\tvalid_1's l2: 58297.7\tvalid_1's l1: 53.6423\n",
      "[2600]\ttraining's l2: 3098.77\ttraining's l1: 39.2277\tvalid_1's l2: 57908.1\tvalid_1's l1: 52.1703\n",
      "[2800]\ttraining's l2: 2860.98\ttraining's l1: 37.7363\tvalid_1's l2: 57796\tvalid_1's l1: 51.108\n",
      "[3000]\ttraining's l2: 2613.67\ttraining's l1: 36.2279\tvalid_1's l2: 57578.7\tvalid_1's l1: 50.0061\n",
      "[3200]\ttraining's l2: 2399\ttraining's l1: 34.7758\tvalid_1's l2: 57462.3\tvalid_1's l1: 48.9019\n",
      "[3400]\ttraining's l2: 2225.65\ttraining's l1: 33.5345\tvalid_1's l2: 57299.9\tvalid_1's l1: 47.9957\n",
      "[3600]\ttraining's l2: 2068.87\ttraining's l1: 32.3958\tvalid_1's l2: 57133.6\tvalid_1's l1: 47.1713\n",
      "[3800]\ttraining's l2: 1930.74\ttraining's l1: 31.3106\tvalid_1's l2: 57014.7\tvalid_1's l1: 46.3681\n",
      "[4000]\ttraining's l2: 1819.84\ttraining's l1: 30.4717\tvalid_1's l2: 56954.7\tvalid_1's l1: 45.8409\n",
      "[4200]\ttraining's l2: 1717.31\ttraining's l1: 29.6507\tvalid_1's l2: 56867.4\tvalid_1's l1: 45.3212\n",
      "[4400]\ttraining's l2: 1606.01\ttraining's l1: 28.6439\tvalid_1's l2: 56771.6\tvalid_1's l1: 44.5456\n",
      "[4600]\ttraining's l2: 1529.46\ttraining's l1: 28.0115\tvalid_1's l2: 56742.7\tvalid_1's l1: 44.2489\n",
      "[4800]\ttraining's l2: 1451.08\ttraining's l1: 27.2714\tvalid_1's l2: 56657.4\tvalid_1's l1: 43.7656\n",
      "[5000]\ttraining's l2: 1374.89\ttraining's l1: 26.5876\tvalid_1's l2: 56628.5\tvalid_1's l1: 43.3499\n",
      "Did not meet early stopping. Best iteration is:\n",
      "[5000]\ttraining's l2: 1374.89\ttraining's l1: 26.5876\tvalid_1's l2: 56628.5\tvalid_1's l1: 43.3499\n",
      "processed: 91/594\n",
      "saving...\n",
      "(307511, 912)\n"
     ]
    },
    {
     "name": "stderr",
     "output_type": "stream",
     "text": [
      "\r",
      "91it [2:28:45, 98.08s/it]"
     ]
    },
    {
     "name": "stdout",
     "output_type": "stream",
     "text": [
      "start processing NAME_FAMILY_STATUS_CODE_GENDER_AMT_ANNUITY_min_diff \n",
      "the na is:0.00011789308220235505\n",
      "(356213, 909)\n",
      "(42, 909)\n",
      "Training until validation scores don't improve for 100 rounds.\n",
      "[200]\ttraining's l2: 25057.5\ttraining's l1: 93.1387\tvalid_1's l2: 51518.5\tvalid_1's l1: 98.5892\n",
      "[400]\ttraining's l2: 13333.4\ttraining's l1: 74.6953\tvalid_1's l2: 43735.5\tvalid_1's l1: 81.7668\n",
      "[600]\ttraining's l2: 8839.35\ttraining's l1: 63.3054\tvalid_1's l2: 40266.5\tvalid_1's l1: 71.4091\n",
      "[800]\ttraining's l2: 6528.02\ttraining's l1: 55.1896\tvalid_1's l2: 38215.2\tvalid_1's l1: 63.8367\n",
      "[1000]\ttraining's l2: 5142.59\ttraining's l1: 49.2172\tvalid_1's l2: 37086.8\tvalid_1's l1: 58.4012\n",
      "[1200]\ttraining's l2: 4146.67\ttraining's l1: 44.5553\tvalid_1's l2: 36162.8\tvalid_1's l1: 54.2424\n",
      "[1400]\ttraining's l2: 3498.15\ttraining's l1: 41.099\tvalid_1's l2: 35591.6\tvalid_1's l1: 51.2204\n",
      "[1600]\ttraining's l2: 3022.41\ttraining's l1: 38.5661\tvalid_1's l2: 35306.6\tvalid_1's l1: 49.1721\n",
      "[1800]\ttraining's l2: 2622.02\ttraining's l1: 36.0426\tvalid_1's l2: 34990.8\tvalid_1's l1: 47.033\n",
      "[2000]\ttraining's l2: 2316.2\ttraining's l1: 33.9717\tvalid_1's l2: 34726.7\tvalid_1's l1: 45.3119\n",
      "[2200]\ttraining's l2: 2085.63\ttraining's l1: 32.2982\tvalid_1's l2: 34586.8\tvalid_1's l1: 43.9497\n",
      "[2400]\ttraining's l2: 1885.32\ttraining's l1: 30.7557\tvalid_1's l2: 34441.6\tvalid_1's l1: 42.733\n",
      "[2600]\ttraining's l2: 1718.51\ttraining's l1: 29.3262\tvalid_1's l2: 34282.4\tvalid_1's l1: 41.5731\n",
      "[2800]\ttraining's l2: 1578.27\ttraining's l1: 28.1792\tvalid_1's l2: 34163.4\tvalid_1's l1: 40.7063\n",
      "[3000]\ttraining's l2: 1464.25\ttraining's l1: 27.1745\tvalid_1's l2: 34094.2\tvalid_1's l1: 39.9751\n",
      "[3200]\ttraining's l2: 1347.71\ttraining's l1: 26.0871\tvalid_1's l2: 33983.8\tvalid_1's l1: 39.1121\n",
      "[3400]\ttraining's l2: 1264.48\ttraining's l1: 25.3145\tvalid_1's l2: 33954.4\tvalid_1's l1: 38.6306\n",
      "[3600]\ttraining's l2: 1183.58\ttraining's l1: 24.5426\tvalid_1's l2: 33877.1\tvalid_1's l1: 38.0956\n",
      "[3800]\ttraining's l2: 1110.43\ttraining's l1: 23.7774\tvalid_1's l2: 33811.5\tvalid_1's l1: 37.5449\n",
      "[4000]\ttraining's l2: 1041.67\ttraining's l1: 22.997\tvalid_1's l2: 33759.4\tvalid_1's l1: 36.9837\n",
      "[4200]\ttraining's l2: 979.446\ttraining's l1: 22.2841\tvalid_1's l2: 33707.7\tvalid_1's l1: 36.4806\n",
      "[4400]\ttraining's l2: 930.621\ttraining's l1: 21.7612\tvalid_1's l2: 33674\tvalid_1's l1: 36.2057\n",
      "[4600]\ttraining's l2: 880.65\ttraining's l1: 21.1889\tvalid_1's l2: 33624.4\tvalid_1's l1: 35.8583\n",
      "[4800]\ttraining's l2: 837.029\ttraining's l1: 20.7038\tvalid_1's l2: 33588.4\tvalid_1's l1: 35.5755\n",
      "[5000]\ttraining's l2: 798.636\ttraining's l1: 20.2178\tvalid_1's l2: 33565.6\tvalid_1's l1: 35.3093\n",
      "Did not meet early stopping. Best iteration is:\n",
      "[5000]\ttraining's l2: 798.636\ttraining's l1: 20.2178\tvalid_1's l2: 33565.6\tvalid_1's l1: 35.3093\n",
      "processed: 92/594\n",
      "saving...\n",
      "(307511, 912)\n"
     ]
    },
    {
     "name": "stderr",
     "output_type": "stream",
     "text": [
      "\r",
      "92it [2:30:45, 98.32s/it]"
     ]
    },
    {
     "name": "stdout",
     "output_type": "stream",
     "text": [
      "start processing NAME_FAMILY_STATUS_CODE_GENDER_AMT_ANNUITY_mean_abs_diff \n",
      "the na is:0.00011789308220235505\n",
      "(356213, 909)\n",
      "(42, 909)\n",
      "Training until validation scores don't improve for 100 rounds.\n",
      "[200]\ttraining's l2: 80033.1\ttraining's l1: 184.593\tvalid_1's l2: 102948\tvalid_1's l1: 187.826\n",
      "[400]\ttraining's l2: 39304.2\ttraining's l1: 132.516\tvalid_1's l2: 69306.6\tvalid_1's l1: 138.382\n",
      "[600]\ttraining's l2: 25232.8\ttraining's l1: 107.894\tvalid_1's l2: 57281.8\tvalid_1's l1: 115.044\n",
      "[800]\ttraining's l2: 18232.1\ttraining's l1: 92.9708\tvalid_1's l2: 51983.8\tvalid_1's l1: 101.34\n",
      "[1000]\ttraining's l2: 14233.7\ttraining's l1: 83.0084\tvalid_1's l2: 48390.8\tvalid_1's l1: 92.2732\n",
      "[1200]\ttraining's l2: 11737.1\ttraining's l1: 75.7879\tvalid_1's l2: 46225.3\tvalid_1's l1: 85.9494\n",
      "[1400]\ttraining's l2: 9933.07\ttraining's l1: 70.0966\tvalid_1's l2: 44951.6\tvalid_1's l1: 81.1313\n",
      "[1600]\ttraining's l2: 8516.63\ttraining's l1: 65.0725\tvalid_1's l2: 43820.7\tvalid_1's l1: 76.8085\n",
      "[1800]\ttraining's l2: 7389.57\ttraining's l1: 60.666\tvalid_1's l2: 42913.5\tvalid_1's l1: 72.992\n",
      "[2000]\ttraining's l2: 6523.15\ttraining's l1: 57.2927\tvalid_1's l2: 42287.1\tvalid_1's l1: 70.2303\n",
      "[2200]\ttraining's l2: 5808.5\ttraining's l1: 54.1739\tvalid_1's l2: 41687.1\tvalid_1's l1: 67.6459\n",
      "[2400]\ttraining's l2: 5247.55\ttraining's l1: 51.5342\tvalid_1's l2: 41276.9\tvalid_1's l1: 65.4965\n",
      "[2600]\ttraining's l2: 4803.03\ttraining's l1: 49.3784\tvalid_1's l2: 40964.1\tvalid_1's l1: 63.8248\n",
      "[2800]\ttraining's l2: 4423.84\ttraining's l1: 47.5241\tvalid_1's l2: 40629.2\tvalid_1's l1: 62.3945\n",
      "[3000]\ttraining's l2: 4075.95\ttraining's l1: 45.7753\tvalid_1's l2: 40357.3\tvalid_1's l1: 61.0602\n",
      "[3200]\ttraining's l2: 3761.94\ttraining's l1: 44.084\tvalid_1's l2: 40088.1\tvalid_1's l1: 59.7648\n",
      "[3400]\ttraining's l2: 3536.89\ttraining's l1: 42.7985\tvalid_1's l2: 39912.1\tvalid_1's l1: 58.9316\n",
      "[3600]\ttraining's l2: 3295.37\ttraining's l1: 41.3511\tvalid_1's l2: 39732.9\tvalid_1's l1: 57.8867\n",
      "Early stopping, best iteration is:\n",
      "[3594]\ttraining's l2: 3300.27\ttraining's l1: 41.3785\tvalid_1's l2: 39724.8\tvalid_1's l1: 57.8994\n",
      "processed: 93/594\n",
      "saving...\n",
      "(307511, 912)\n"
     ]
    },
    {
     "name": "stderr",
     "output_type": "stream",
     "text": [
      "\r",
      "93it [2:32:20, 98.29s/it]"
     ]
    },
    {
     "name": "stdout",
     "output_type": "stream",
     "text": [
      "start processing NAME_FAMILY_STATUS_CODE_GENDER_AMT_ANNUITY_max_diff \n",
      "the na is:0.00011789308220235505\n",
      "(356213, 909)\n",
      "(42, 909)\n",
      "Training until validation scores don't improve for 100 rounds.\n",
      "[200]\ttraining's l2: 147331\ttraining's l1: 230.36\tvalid_1's l2: 218239\tvalid_1's l1: 238.193\n",
      "[400]\ttraining's l2: 77934.4\ttraining's l1: 181.255\tvalid_1's l2: 161564\tvalid_1's l1: 192.066\n",
      "[600]\ttraining's l2: 54462.9\ttraining's l1: 154.967\tvalid_1's l2: 139938\tvalid_1's l1: 167.641\n",
      "[800]\ttraining's l2: 42073.9\ttraining's l1: 136.474\tvalid_1's l2: 128267\tvalid_1's l1: 150.689\n",
      "[1000]\ttraining's l2: 34022.7\ttraining's l1: 123.185\tvalid_1's l2: 121557\tvalid_1's l1: 138.743\n",
      "[1200]\ttraining's l2: 28771.5\ttraining's l1: 113.448\tvalid_1's l2: 117347\tvalid_1's l1: 130.295\n",
      "[1400]\ttraining's l2: 24706.1\ttraining's l1: 105.397\tvalid_1's l2: 114000\tvalid_1's l1: 123.284\n",
      "[1600]\ttraining's l2: 21664.6\ttraining's l1: 98.2416\tvalid_1's l2: 111606\tvalid_1's l1: 117.085\n",
      "[1800]\ttraining's l2: 18902.7\ttraining's l1: 91.7285\tvalid_1's l2: 109159\tvalid_1's l1: 111.527\n",
      "[2000]\ttraining's l2: 16753.7\ttraining's l1: 86.0204\tvalid_1's l2: 107575\tvalid_1's l1: 106.692\n",
      "[2200]\ttraining's l2: 14905.8\ttraining's l1: 80.7604\tvalid_1's l2: 105787\tvalid_1's l1: 102.12\n",
      "[2400]\ttraining's l2: 13592.6\ttraining's l1: 77.0489\tvalid_1's l2: 104650\tvalid_1's l1: 99.259\n",
      "[2600]\ttraining's l2: 12535.6\ttraining's l1: 74.4039\tvalid_1's l2: 104062\tvalid_1's l1: 97.4976\n",
      "[2800]\ttraining's l2: 11503.2\ttraining's l1: 71.2147\tvalid_1's l2: 103360\tvalid_1's l1: 95.073\n",
      "[3000]\ttraining's l2: 10717.8\ttraining's l1: 69.0176\tvalid_1's l2: 102842\tvalid_1's l1: 93.7175\n",
      "[3200]\ttraining's l2: 9969.01\ttraining's l1: 66.8063\tvalid_1's l2: 102339\tvalid_1's l1: 92.2753\n",
      "[3400]\ttraining's l2: 9117.9\ttraining's l1: 63.8011\tvalid_1's l2: 101721\tvalid_1's l1: 89.9134\n",
      "[3600]\ttraining's l2: 8479.33\ttraining's l1: 61.7781\tvalid_1's l2: 101211\tvalid_1's l1: 88.575\n",
      "[3800]\ttraining's l2: 7847.59\ttraining's l1: 59.4029\tvalid_1's l2: 100718\tvalid_1's l1: 86.7241\n",
      "[4000]\ttraining's l2: 7381.9\ttraining's l1: 57.7736\tvalid_1's l2: 100377\tvalid_1's l1: 85.7717\n",
      "[4200]\ttraining's l2: 7020.6\ttraining's l1: 56.4513\tvalid_1's l2: 100166\tvalid_1's l1: 85.1316\n",
      "[4400]\ttraining's l2: 6610.74\ttraining's l1: 54.7741\tvalid_1's l2: 99887.9\tvalid_1's l1: 84.011\n",
      "[4600]\ttraining's l2: 6213.16\ttraining's l1: 53.0911\tvalid_1's l2: 99528.6\tvalid_1's l1: 82.8075\n",
      "[4800]\ttraining's l2: 5891.84\ttraining's l1: 51.7812\tvalid_1's l2: 99377.5\tvalid_1's l1: 82.0526\n",
      "[5000]\ttraining's l2: 5591.61\ttraining's l1: 50.5514\tvalid_1's l2: 99245.6\tvalid_1's l1: 81.4298\n",
      "Did not meet early stopping. Best iteration is:\n",
      "[5000]\ttraining's l2: 5591.61\ttraining's l1: 50.5514\tvalid_1's l2: 99245.6\tvalid_1's l1: 81.4298\n",
      "processed: 94/594\n",
      "saving...\n",
      "(307511, 912)\n"
     ]
    },
    {
     "name": "stderr",
     "output_type": "stream",
     "text": [
      "\r",
      "94it [2:34:18, 98.49s/it]"
     ]
    },
    {
     "name": "stdout",
     "output_type": "stream",
     "text": [
      "start processing NAME_FAMILY_STATUS_CODE_GENDER_AMT_ANNUITY_max_abs_diff \n",
      "the na is:0.00011789308220235505\n",
      "(356213, 909)\n",
      "(42, 909)\n",
      "Training until validation scores don't improve for 100 rounds.\n",
      "[200]\ttraining's l2: 245227\ttraining's l1: 309.777\tvalid_1's l2: 316409\tvalid_1's l1: 312.564\n",
      "[400]\ttraining's l2: 127560\ttraining's l1: 233.351\tvalid_1's l2: 217963\tvalid_1's l1: 240.808\n",
      "[600]\ttraining's l2: 87112.9\ttraining's l1: 195.428\tvalid_1's l2: 183829\tvalid_1's l1: 206.035\n",
      "[800]\ttraining's l2: 65230.9\ttraining's l1: 168.47\tvalid_1's l2: 165229\tvalid_1's l1: 181.425\n",
      "[1000]\ttraining's l2: 51740.5\ttraining's l1: 150.491\tvalid_1's l2: 153774\tvalid_1's l1: 165.565\n",
      "[1200]\ttraining's l2: 42124.3\ttraining's l1: 135.822\tvalid_1's l2: 145609\tvalid_1's l1: 152.558\n",
      "[1400]\ttraining's l2: 35379.9\ttraining's l1: 124.479\tvalid_1's l2: 139675\tvalid_1's l1: 142.759\n",
      "[1600]\ttraining's l2: 30501.6\ttraining's l1: 115.952\tvalid_1's l2: 135105\tvalid_1's l1: 135.504\n",
      "[1800]\ttraining's l2: 26829.3\ttraining's l1: 108.472\tvalid_1's l2: 132392\tvalid_1's l1: 129.265\n",
      "[2000]\ttraining's l2: 23744.9\ttraining's l1: 102.163\tvalid_1's l2: 129927\tvalid_1's l1: 124.237\n",
      "[2200]\ttraining's l2: 21391.8\ttraining's l1: 97.0108\tvalid_1's l2: 127898\tvalid_1's l1: 120.215\n",
      "[2400]\ttraining's l2: 19475.5\ttraining's l1: 92.7375\tvalid_1's l2: 126155\tvalid_1's l1: 117.035\n",
      "[2600]\ttraining's l2: 17753.7\ttraining's l1: 88.8839\tvalid_1's l2: 124743\tvalid_1's l1: 114.322\n",
      "[2800]\ttraining's l2: 16288.7\ttraining's l1: 85.1671\tvalid_1's l2: 123611\tvalid_1's l1: 111.592\n",
      "[3000]\ttraining's l2: 14814.7\ttraining's l1: 81.388\tvalid_1's l2: 122447\tvalid_1's l1: 108.721\n",
      "[3200]\ttraining's l2: 13697.3\ttraining's l1: 78.4864\tvalid_1's l2: 121798\tvalid_1's l1: 106.811\n",
      "[3400]\ttraining's l2: 12757.1\ttraining's l1: 75.9463\tvalid_1's l2: 121231\tvalid_1's l1: 105.212\n",
      "[3600]\ttraining's l2: 11737.1\ttraining's l1: 72.8346\tvalid_1's l2: 120306\tvalid_1's l1: 102.799\n",
      "[3800]\ttraining's l2: 10955.8\ttraining's l1: 70.4919\tvalid_1's l2: 119685\tvalid_1's l1: 101.165\n",
      "[4000]\ttraining's l2: 10247.4\ttraining's l1: 68.2288\tvalid_1's l2: 119071\tvalid_1's l1: 99.6916\n",
      "[4200]\ttraining's l2: 9653.09\ttraining's l1: 66.2745\tvalid_1's l2: 118737\tvalid_1's l1: 98.459\n",
      "[4400]\ttraining's l2: 9109.84\ttraining's l1: 64.4189\tvalid_1's l2: 118411\tvalid_1's l1: 97.3363\n",
      "[4600]\ttraining's l2: 8553.18\ttraining's l1: 62.4522\tvalid_1's l2: 118018\tvalid_1's l1: 96.0087\n",
      "[4800]\ttraining's l2: 8125.3\ttraining's l1: 61.0756\tvalid_1's l2: 117824\tvalid_1's l1: 95.3199\n",
      "[5000]\ttraining's l2: 7724.4\ttraining's l1: 59.6164\tvalid_1's l2: 117624\tvalid_1's l1: 94.5062\n",
      "Did not meet early stopping. Best iteration is:\n",
      "[5000]\ttraining's l2: 7724.4\ttraining's l1: 59.6164\tvalid_1's l2: 117624\tvalid_1's l1: 94.5062\n",
      "processed: 95/594\n",
      "saving...\n",
      "(307511, 912)\n"
     ]
    },
    {
     "name": "stderr",
     "output_type": "stream",
     "text": [
      "\r",
      "95it [2:36:18, 98.72s/it]"
     ]
    },
    {
     "name": "stdout",
     "output_type": "stream",
     "text": [
      "start processing AMT_ANNUITY_divide_DAYS_ID_PUBLISH \n",
      "the na is:0.00015999775441748185\n",
      "(356198, 909)\n",
      "(57, 909)\n",
      "Training until validation scores don't improve for 100 rounds.\n",
      "[200]\ttraining's l2: 6678.71\ttraining's l1: 7.29211\tvalid_1's l2: 190710\tvalid_1's l1: 19.9878\n",
      "Early stopping, best iteration is:\n",
      "[256]\ttraining's l2: 4259.53\ttraining's l1: 6.47594\tvalid_1's l2: 189597\tvalid_1's l1: 19.9179\n",
      "processed: 96/594\n",
      "saving...\n",
      "(307511, 912)\n"
     ]
    },
    {
     "name": "stderr",
     "output_type": "stream",
     "text": [
      "\r",
      "96it [2:36:41, 97.93s/it]"
     ]
    },
    {
     "name": "stdout",
     "output_type": "stream",
     "text": [
      "start processing DAYS_LAST_PHONE_CHANGE_divide_DAYS_REGISTRATION \n",
      "the na is:0.00026385594588146133\n",
      "(356161, 909)\n",
      "(94, 909)\n",
      "Training until validation scores don't improve for 100 rounds.\n",
      "Early stopping, best iteration is:\n",
      "[71]\ttraining's l2: 61.2732\ttraining's l1: 0.55447\tvalid_1's l2: 222.357\tvalid_1's l1: 0.758196\n",
      "processed: 97/594\n",
      "saving...\n",
      "(307511, 912)\n"
     ]
    },
    {
     "name": "stderr",
     "output_type": "stream",
     "text": [
      "\r",
      "97it [2:37:00, 97.12s/it]"
     ]
    },
    {
     "name": "stdout",
     "output_type": "stream",
     "text": [
      "start processing AMT_ANNUITY_divide_DAYS_REGISTRATION \n",
      "the na is:0.0003621001810500905\n",
      "(356126, 909)\n",
      "(129, 909)\n",
      "Training until validation scores don't improve for 100 rounds.\n",
      "Early stopping, best iteration is:\n",
      "[23]\ttraining's l2: 152945\ttraining's l1: 34.3477\tvalid_1's l2: 293247\tvalid_1's l1: 40.8139\n",
      "processed: 98/594\n",
      "saving...\n",
      "(307511, 912)\n"
     ]
    },
    {
     "name": "stderr",
     "output_type": "stream",
     "text": [
      "\r",
      "98it [2:37:19, 96.32s/it]"
     ]
    },
    {
     "name": "stdout",
     "output_type": "stream",
     "text": [
      "start processing external_sources_min \n",
      "the na is:0.0005024490884338466\n",
      "(356076, 909)\n",
      "(179, 909)\n",
      "Training until validation scores don't improve for 100 rounds.\n",
      "[200]\ttraining's l2: 3.94393e-05\ttraining's l1: 0.00474591\tvalid_1's l2: 4.01256e-05\tvalid_1's l1: 0.00477334\n",
      "[400]\ttraining's l2: 2.32845e-05\ttraining's l1: 0.00365861\tvalid_1's l2: 2.41922e-05\tvalid_1's l1: 0.00371188\n",
      "[600]\ttraining's l2: 1.75661e-05\ttraining's l1: 0.00318487\tvalid_1's l2: 1.85954e-05\tvalid_1's l1: 0.00325738\n",
      "[800]\ttraining's l2: 1.45151e-05\ttraining's l1: 0.00289557\tvalid_1's l2: 1.56591e-05\tvalid_1's l1: 0.0029848\n",
      "[1000]\ttraining's l2: 1.24627e-05\ttraining's l1: 0.00268154\tvalid_1's l2: 1.37218e-05\tvalid_1's l1: 0.00278491\n",
      "[1200]\ttraining's l2: 1.10765e-05\ttraining's l1: 0.00252987\tvalid_1's l2: 1.24539e-05\tvalid_1's l1: 0.00264953\n",
      "[1400]\ttraining's l2: 9.94442e-06\ttraining's l1: 0.00239402\tvalid_1's l2: 1.14474e-05\tvalid_1's l1: 0.00253126\n",
      "[1600]\ttraining's l2: 9.14045e-06\ttraining's l1: 0.00229313\tvalid_1's l2: 1.07753e-05\tvalid_1's l1: 0.00245006\n",
      "[1800]\ttraining's l2: 8.28053e-06\ttraining's l1: 0.00218531\tvalid_1's l2: 9.98592e-06\tvalid_1's l1: 0.00235663\n",
      "[2000]\ttraining's l2: 7.7122e-06\ttraining's l1: 0.00210977\tvalid_1's l2: 9.53461e-06\tvalid_1's l1: 0.00229997\n",
      "[2200]\ttraining's l2: 7.20739e-06\ttraining's l1: 0.00203741\tvalid_1's l2: 9.13804e-06\tvalid_1's l1: 0.0022463\n",
      "[2400]\ttraining's l2: 6.6987e-06\ttraining's l1: 0.0019646\tvalid_1's l2: 8.71976e-06\tvalid_1's l1: 0.00218954\n",
      "[2600]\ttraining's l2: 6.32878e-06\ttraining's l1: 0.00191053\tvalid_1's l2: 8.45861e-06\tvalid_1's l1: 0.00215436\n",
      "[2800]\ttraining's l2: 5.97929e-06\ttraining's l1: 0.00185873\tvalid_1's l2: 8.20856e-06\tvalid_1's l1: 0.00212066\n",
      "[3000]\ttraining's l2: 5.71636e-06\ttraining's l1: 0.0018168\tvalid_1's l2: 8.06099e-06\tvalid_1's l1: 0.00209794\n",
      "[3200]\ttraining's l2: 5.48908e-06\ttraining's l1: 0.00178116\tvalid_1's l2: 7.94449e-06\tvalid_1's l1: 0.00208152\n",
      "[3400]\ttraining's l2: 5.21817e-06\ttraining's l1: 0.00173733\tvalid_1's l2: 7.74196e-06\tvalid_1's l1: 0.00205415\n",
      "[3600]\ttraining's l2: 4.90732e-06\ttraining's l1: 0.00168514\tvalid_1's l2: 7.48612e-06\tvalid_1's l1: 0.00201649\n",
      "[3800]\ttraining's l2: 4.66149e-06\ttraining's l1: 0.00164308\tvalid_1's l2: 7.30169e-06\tvalid_1's l1: 0.00198977\n",
      "[4000]\ttraining's l2: 4.4689e-06\ttraining's l1: 0.00160941\tvalid_1's l2: 7.18119e-06\tvalid_1's l1: 0.00197286\n",
      "[4200]\ttraining's l2: 4.24882e-06\ttraining's l1: 0.00156798\tvalid_1's l2: 7.01342e-06\tvalid_1's l1: 0.00194548\n",
      "[4400]\ttraining's l2: 4.10232e-06\ttraining's l1: 0.0015404\tvalid_1's l2: 6.94471e-06\tvalid_1's l1: 0.00193407\n",
      "[4600]\ttraining's l2: 3.98181e-06\ttraining's l1: 0.00151816\tvalid_1's l2: 6.91959e-06\tvalid_1's l1: 0.00193002\n",
      "[4800]\ttraining's l2: 3.83444e-06\ttraining's l1: 0.00148971\tvalid_1's l2: 6.83222e-06\tvalid_1's l1: 0.00191577\n",
      "[5000]\ttraining's l2: 3.6692e-06\ttraining's l1: 0.00145696\tvalid_1's l2: 6.71329e-06\tvalid_1's l1: 0.00189672\n",
      "Did not meet early stopping. Best iteration is:\n",
      "[5000]\ttraining's l2: 3.6692e-06\ttraining's l1: 0.00145696\tvalid_1's l2: 6.71329e-06\tvalid_1's l1: 0.00189672\n",
      "processed: 99/594\n",
      "saving...\n",
      "(307511, 912)\n"
     ]
    },
    {
     "name": "stderr",
     "output_type": "stream",
     "text": [
      "\r",
      "99it [2:39:23, 96.60s/it]"
     ]
    },
    {
     "name": "stdout",
     "output_type": "stream",
     "text": [
      "start processing external_sources_max \n",
      "the na is:0.0005024490884338466\n",
      "(356076, 909)\n",
      "(179, 909)\n",
      "Training until validation scores don't improve for 100 rounds.\n",
      "[200]\ttraining's l2: 3.63016e-05\ttraining's l1: 0.00446697\tvalid_1's l2: 3.74456e-05\tvalid_1's l1: 0.00452125\n",
      "[400]\ttraining's l2: 2.08798e-05\ttraining's l1: 0.00340679\tvalid_1's l2: 2.20081e-05\tvalid_1's l1: 0.00346604\n",
      "[600]\ttraining's l2: 1.52072e-05\ttraining's l1: 0.0029088\tvalid_1's l2: 1.65506e-05\tvalid_1's l1: 0.00299139\n",
      "[800]\ttraining's l2: 1.21578e-05\ttraining's l1: 0.00259506\tvalid_1's l2: 1.36479e-05\tvalid_1's l1: 0.00269305\n",
      "[1000]\ttraining's l2: 1.05111e-05\ttraining's l1: 0.00241841\tvalid_1's l2: 1.21714e-05\tvalid_1's l1: 0.00253773\n",
      "[1200]\ttraining's l2: 9.50265e-06\ttraining's l1: 0.00229945\tvalid_1's l2: 1.13434e-05\tvalid_1's l1: 0.00243967\n",
      "[1400]\ttraining's l2: 8.47041e-06\ttraining's l1: 0.00217304\tvalid_1's l2: 1.04162e-05\tvalid_1's l1: 0.0023305\n",
      "[1600]\ttraining's l2: 7.72033e-06\ttraining's l1: 0.00207056\tvalid_1's l2: 9.79494e-06\tvalid_1's l1: 0.00224563\n",
      "[1800]\ttraining's l2: 7.12337e-06\ttraining's l1: 0.00198681\tvalid_1's l2: 9.31927e-06\tvalid_1's l1: 0.00218094\n",
      "[2000]\ttraining's l2: 6.5686e-06\ttraining's l1: 0.00190892\tvalid_1's l2: 8.85498e-06\tvalid_1's l1: 0.00211809\n",
      "[2200]\ttraining's l2: 6.14107e-06\ttraining's l1: 0.00184498\tvalid_1's l2: 8.51492e-06\tvalid_1's l1: 0.00207108\n",
      "[2400]\ttraining's l2: 5.78062e-06\ttraining's l1: 0.00179034\tvalid_1's l2: 8.27591e-06\tvalid_1's l1: 0.00203588\n",
      "[2600]\ttraining's l2: 5.37936e-06\ttraining's l1: 0.00172129\tvalid_1's l2: 7.9343e-06\tvalid_1's l1: 0.00198112\n",
      "[2800]\ttraining's l2: 5.1498e-06\ttraining's l1: 0.00168562\tvalid_1's l2: 7.83097e-06\tvalid_1's l1: 0.00196534\n",
      "[3000]\ttraining's l2: 4.92641e-06\ttraining's l1: 0.00165014\tvalid_1's l2: 7.7214e-06\tvalid_1's l1: 0.00194875\n",
      "[3200]\ttraining's l2: 4.67739e-06\ttraining's l1: 0.00160651\tvalid_1's l2: 7.55035e-06\tvalid_1's l1: 0.00192126\n",
      "[3400]\ttraining's l2: 4.47241e-06\ttraining's l1: 0.00157095\tvalid_1's l2: 7.43191e-06\tvalid_1's l1: 0.00190288\n",
      "[3600]\ttraining's l2: 4.22475e-06\ttraining's l1: 0.00152827\tvalid_1's l2: 7.24396e-06\tvalid_1's l1: 0.00187371\n",
      "[3800]\ttraining's l2: 4.03039e-06\ttraining's l1: 0.00149174\tvalid_1's l2: 7.11505e-06\tvalid_1's l1: 0.00185099\n",
      "[4000]\ttraining's l2: 3.87725e-06\ttraining's l1: 0.00146574\tvalid_1's l2: 7.04155e-06\tvalid_1's l1: 0.00184133\n",
      "[4200]\ttraining's l2: 3.70972e-06\ttraining's l1: 0.0014352\tvalid_1's l2: 6.93811e-06\tvalid_1's l1: 0.00182479\n",
      "[4400]\ttraining's l2: 3.54126e-06\ttraining's l1: 0.00140142\tvalid_1's l2: 6.82597e-06\tvalid_1's l1: 0.00180538\n",
      "[4600]\ttraining's l2: 3.41579e-06\ttraining's l1: 0.00137703\tvalid_1's l2: 6.77089e-06\tvalid_1's l1: 0.00179557\n",
      "[4800]\ttraining's l2: 3.29095e-06\ttraining's l1: 0.00135192\tvalid_1's l2: 6.70599e-06\tvalid_1's l1: 0.00178495\n",
      "[5000]\ttraining's l2: 3.17452e-06\ttraining's l1: 0.0013271\tvalid_1's l2: 6.65006e-06\tvalid_1's l1: 0.00177415\n",
      "Did not meet early stopping. Best iteration is:\n",
      "[5000]\ttraining's l2: 3.17452e-06\ttraining's l1: 0.0013271\tvalid_1's l2: 6.65006e-06\tvalid_1's l1: 0.00177415\n",
      "processed: 100/594\n",
      "saving...\n",
      "(307511, 912)\n"
     ]
    },
    {
     "name": "stderr",
     "output_type": "stream",
     "text": [
      "\r",
      "100it [2:41:25, 96.86s/it]"
     ]
    },
    {
     "name": "stdout",
     "output_type": "stream",
     "text": [
      "start processing external_sources_mean \n",
      "the na is:0.0005024490884338466\n",
      "(356076, 909)\n",
      "(179, 909)\n",
      "Training until validation scores don't improve for 100 rounds.\n",
      "[200]\ttraining's l2: 1.29788e-05\ttraining's l1: 0.00276261\tvalid_1's l2: 1.35104e-05\tvalid_1's l1: 0.00281256\n",
      "[400]\ttraining's l2: 7.88608e-06\ttraining's l1: 0.00215302\tvalid_1's l2: 8.37188e-06\tvalid_1's l1: 0.00220605\n",
      "[600]\ttraining's l2: 5.81193e-06\ttraining's l1: 0.00184516\tvalid_1's l2: 6.27549e-06\tvalid_1's l1: 0.00190144\n",
      "[800]\ttraining's l2: 4.74943e-06\ttraining's l1: 0.00166512\tvalid_1's l2: 5.23318e-06\tvalid_1's l1: 0.00173077\n",
      "[1000]\ttraining's l2: 3.98228e-06\ttraining's l1: 0.00152372\tvalid_1's l2: 4.48285e-06\tvalid_1's l1: 0.00159865\n",
      "[1200]\ttraining's l2: 3.44377e-06\ttraining's l1: 0.00141609\tvalid_1's l2: 3.96723e-06\tvalid_1's l1: 0.00150036\n",
      "[1400]\ttraining's l2: 3.0459e-06\ttraining's l1: 0.00133025\tvalid_1's l2: 3.58865e-06\tvalid_1's l1: 0.00142267\n",
      "[1600]\ttraining's l2: 2.72719e-06\ttraining's l1: 0.00125981\tvalid_1's l2: 3.2887e-06\tvalid_1's l1: 0.00136096\n",
      "[1800]\ttraining's l2: 2.49597e-06\ttraining's l1: 0.00120376\tvalid_1's l2: 3.08394e-06\tvalid_1's l1: 0.0013139\n",
      "[2000]\ttraining's l2: 2.32366e-06\ttraining's l1: 0.00115962\tvalid_1's l2: 2.94383e-06\tvalid_1's l1: 0.00127936\n",
      "[2200]\ttraining's l2: 2.14815e-06\ttraining's l1: 0.00111448\tvalid_1's l2: 2.79462e-06\tvalid_1's l1: 0.00124294\n",
      "[2400]\ttraining's l2: 2.00179e-06\ttraining's l1: 0.00107616\tvalid_1's l2: 2.67623e-06\tvalid_1's l1: 0.00121406\n",
      "[2600]\ttraining's l2: 1.8675e-06\ttraining's l1: 0.00104027\tvalid_1's l2: 2.56668e-06\tvalid_1's l1: 0.00118705\n",
      "[2800]\ttraining's l2: 1.73259e-06\ttraining's l1: 0.00100203\tvalid_1's l2: 2.43977e-06\tvalid_1's l1: 0.00115516\n",
      "[3000]\ttraining's l2: 1.65792e-06\ttraining's l1: 0.000980572\tvalid_1's l2: 2.39981e-06\tvalid_1's l1: 0.0011444\n",
      "[3200]\ttraining's l2: 1.58674e-06\ttraining's l1: 0.000959915\tvalid_1's l2: 2.35756e-06\tvalid_1's l1: 0.00113377\n",
      "[3400]\ttraining's l2: 1.49935e-06\ttraining's l1: 0.000932327\tvalid_1's l2: 2.28781e-06\tvalid_1's l1: 0.00111393\n",
      "[3600]\ttraining's l2: 1.42002e-06\ttraining's l1: 0.000907068\tvalid_1's l2: 2.22479e-06\tvalid_1's l1: 0.00109586\n",
      "[3800]\ttraining's l2: 1.35008e-06\ttraining's l1: 0.000885006\tvalid_1's l2: 2.1728e-06\tvalid_1's l1: 0.00108134\n",
      "[4000]\ttraining's l2: 1.27676e-06\ttraining's l1: 0.000861194\tvalid_1's l2: 2.1108e-06\tvalid_1's l1: 0.00106421\n",
      "[4200]\ttraining's l2: 1.20752e-06\ttraining's l1: 0.000836897\tvalid_1's l2: 2.05413e-06\tvalid_1's l1: 0.00104626\n",
      "[4400]\ttraining's l2: 1.1385e-06\ttraining's l1: 0.0008123\tvalid_1's l2: 1.99139e-06\tvalid_1's l1: 0.00102781\n",
      "[4600]\ttraining's l2: 1.08647e-06\ttraining's l1: 0.000793747\tvalid_1's l2: 1.95508e-06\tvalid_1's l1: 0.001017\n",
      "[4800]\ttraining's l2: 1.03908e-06\ttraining's l1: 0.00077604\tvalid_1's l2: 1.92292e-06\tvalid_1's l1: 0.00100668\n",
      "[5000]\ttraining's l2: 1.00623e-06\ttraining's l1: 0.000764305\tvalid_1's l2: 1.91198e-06\tvalid_1's l1: 0.00100365\n",
      "Did not meet early stopping. Best iteration is:\n",
      "[5000]\ttraining's l2: 1.00623e-06\ttraining's l1: 0.000764305\tvalid_1's l2: 1.91198e-06\tvalid_1's l1: 0.00100365\n",
      "processed: 101/594\n",
      "saving...\n",
      "(307511, 912)\n"
     ]
    },
    {
     "name": "stderr",
     "output_type": "stream",
     "text": [
      "\r",
      "101it [2:43:30, 97.13s/it]"
     ]
    },
    {
     "name": "stdout",
     "output_type": "stream",
     "text": [
      "start processing external_sources_nanmedian \n",
      "the na is:0.0005024490884338466\n",
      "(356076, 909)\n",
      "(179, 909)\n",
      "Training until validation scores don't improve for 100 rounds.\n",
      "[200]\ttraining's l2: 5.76315e-05\ttraining's l1: 0.00529739\tvalid_1's l2: 6.07614e-05\tvalid_1's l1: 0.00541158\n",
      "[400]\ttraining's l2: 2.95465e-05\ttraining's l1: 0.00384218\tvalid_1's l2: 3.23293e-05\tvalid_1's l1: 0.00396714\n",
      "[600]\ttraining's l2: 2.08917e-05\ttraining's l1: 0.00324461\tvalid_1's l2: 2.35632e-05\tvalid_1's l1: 0.00338219\n",
      "[800]\ttraining's l2: 1.66444e-05\ttraining's l1: 0.00289949\tvalid_1's l2: 1.92805e-05\tvalid_1's l1: 0.00305074\n",
      "[1000]\ttraining's l2: 1.38699e-05\ttraining's l1: 0.00264785\tvalid_1's l2: 1.65745e-05\tvalid_1's l1: 0.00281381\n",
      "[1200]\ttraining's l2: 1.21274e-05\ttraining's l1: 0.00247936\tvalid_1's l2: 1.49356e-05\tvalid_1's l1: 0.00266156\n",
      "[1400]\ttraining's l2: 1.09937e-05\ttraining's l1: 0.00236062\tvalid_1's l2: 1.4023e-05\tvalid_1's l1: 0.00256851\n",
      "[1600]\ttraining's l2: 9.93188e-06\ttraining's l1: 0.00224125\tvalid_1's l2: 1.30685e-05\tvalid_1's l1: 0.00246707\n",
      "[1800]\ttraining's l2: 9.16682e-06\ttraining's l1: 0.00215318\tvalid_1's l2: 1.24682e-05\tvalid_1's l1: 0.00240187\n",
      "[2000]\ttraining's l2: 8.58084e-06\ttraining's l1: 0.00208755\tvalid_1's l2: 1.20901e-05\tvalid_1's l1: 0.00236175\n",
      "[2200]\ttraining's l2: 8.00515e-06\ttraining's l1: 0.00201905\tvalid_1's l2: 1.16867e-05\tvalid_1's l1: 0.00231627\n",
      "[2400]\ttraining's l2: 7.55483e-06\ttraining's l1: 0.00196298\tvalid_1's l2: 1.13985e-05\tvalid_1's l1: 0.00228251\n",
      "[2600]\ttraining's l2: 7.03591e-06\ttraining's l1: 0.00189703\tvalid_1's l2: 1.09913e-05\tvalid_1's l1: 0.00223454\n",
      "[2800]\ttraining's l2: 6.59673e-06\ttraining's l1: 0.00183629\tvalid_1's l2: 1.06588e-05\tvalid_1's l1: 0.00219263\n",
      "[3000]\ttraining's l2: 6.22781e-06\ttraining's l1: 0.00178573\tvalid_1's l2: 1.04251e-05\tvalid_1's l1: 0.00216277\n",
      "[3200]\ttraining's l2: 5.91663e-06\ttraining's l1: 0.00174203\tvalid_1's l2: 1.02449e-05\tvalid_1's l1: 0.00213882\n",
      "[3400]\ttraining's l2: 5.62743e-06\ttraining's l1: 0.00170142\tvalid_1's l2: 1.00817e-05\tvalid_1's l1: 0.00211793\n",
      "[3600]\ttraining's l2: 5.36293e-06\ttraining's l1: 0.00166353\tvalid_1's l2: 9.9401e-06\tvalid_1's l1: 0.00209974\n",
      "[3800]\ttraining's l2: 5.10191e-06\ttraining's l1: 0.00162408\tvalid_1's l2: 9.79497e-06\tvalid_1's l1: 0.00207982\n",
      "[4000]\ttraining's l2: 4.86147e-06\ttraining's l1: 0.00158581\tvalid_1's l2: 9.65866e-06\tvalid_1's l1: 0.00205952\n",
      "[4200]\ttraining's l2: 4.63031e-06\ttraining's l1: 0.0015481\tvalid_1's l2: 9.5162e-06\tvalid_1's l1: 0.00203817\n",
      "[4400]\ttraining's l2: 4.3984e-06\ttraining's l1: 0.00150892\tvalid_1's l2: 9.34924e-06\tvalid_1's l1: 0.00201417\n",
      "[4600]\ttraining's l2: 4.22285e-06\ttraining's l1: 0.00147999\tvalid_1's l2: 9.27443e-06\tvalid_1's l1: 0.00200296\n",
      "[4800]\ttraining's l2: 4.03274e-06\ttraining's l1: 0.00144743\tvalid_1's l2: 9.16863e-06\tvalid_1's l1: 0.00198706\n",
      "[5000]\ttraining's l2: 3.85634e-06\ttraining's l1: 0.0014175\tvalid_1's l2: 9.06676e-06\tvalid_1's l1: 0.00197343\n",
      "Did not meet early stopping. Best iteration is:\n",
      "[5000]\ttraining's l2: 3.85634e-06\ttraining's l1: 0.0014175\tvalid_1's l2: 9.06676e-06\tvalid_1's l1: 0.00197343\n",
      "processed: 102/594\n",
      "saving...\n",
      "(307511, 912)\n"
     ]
    },
    {
     "name": "stderr",
     "output_type": "stream",
     "text": [
      "\r",
      "102it [2:45:31, 97.37s/it]"
     ]
    },
    {
     "name": "stdout",
     "output_type": "stream",
     "text": [
      "start processing Wei_external_sources_max==DEVIDE==AMT_CREDIT \n",
      "the na is:0.0005024490884338466\n",
      "(356076, 909)\n",
      "(179, 909)\n",
      "Training until validation scores don't improve for 100 rounds.\n",
      "[200]\ttraining's l2: 2.32584e-15\ttraining's l1: 2.93157e-08\tvalid_1's l2: 2.95602e-15\tvalid_1's l1: 3.00601e-08\n",
      "[400]\ttraining's l2: 1.45767e-15\ttraining's l1: 2.43011e-08\tvalid_1's l2: 2.26497e-15\tvalid_1's l1: 2.57035e-08\n",
      "[600]\ttraining's l2: 1.07034e-15\ttraining's l1: 2.13351e-08\tvalid_1's l2: 1.9685e-15\tvalid_1's l1: 2.31946e-08\n",
      "[800]\ttraining's l2: 8.4934e-16\ttraining's l1: 1.92456e-08\tvalid_1's l2: 1.79197e-15\tvalid_1's l1: 2.14501e-08\n",
      "[1000]\ttraining's l2: 6.99193e-16\ttraining's l1: 1.7644e-08\tvalid_1's l2: 1.67306e-15\tvalid_1's l1: 2.0122e-08\n",
      "[1200]\ttraining's l2: 5.89109e-16\ttraining's l1: 1.63371e-08\tvalid_1's l2: 1.58579e-15\tvalid_1's l1: 1.90551e-08\n",
      "[1400]\ttraining's l2: 5.05331e-16\ttraining's l1: 1.52375e-08\tvalid_1's l2: 1.52203e-15\tvalid_1's l1: 1.81713e-08\n",
      "[1600]\ttraining's l2: 4.40628e-16\ttraining's l1: 1.43648e-08\tvalid_1's l2: 1.47619e-15\tvalid_1's l1: 1.75258e-08\n",
      "[1800]\ttraining's l2: 3.84843e-16\ttraining's l1: 1.3475e-08\tvalid_1's l2: 1.42861e-15\tvalid_1's l1: 1.67952e-08\n",
      "[2000]\ttraining's l2: 3.46015e-16\ttraining's l1: 1.28393e-08\tvalid_1's l2: 1.40263e-15\tvalid_1's l1: 1.63346e-08\n",
      "[2200]\ttraining's l2: 3.11922e-16\ttraining's l1: 1.22647e-08\tvalid_1's l2: 1.37981e-15\tvalid_1's l1: 1.5928e-08\n",
      "[2400]\ttraining's l2: 2.8406e-16\ttraining's l1: 1.17453e-08\tvalid_1's l2: 1.36031e-15\tvalid_1's l1: 1.55705e-08\n",
      "[2600]\ttraining's l2: 2.57415e-16\ttraining's l1: 1.12225e-08\tvalid_1's l2: 1.34002e-15\tvalid_1's l1: 1.51868e-08\n",
      "[2800]\ttraining's l2: 2.35962e-16\ttraining's l1: 1.07767e-08\tvalid_1's l2: 1.32255e-15\tvalid_1's l1: 1.48638e-08\n",
      "[3000]\ttraining's l2: 2.17359e-16\ttraining's l1: 1.03709e-08\tvalid_1's l2: 1.30928e-15\tvalid_1's l1: 1.45835e-08\n",
      "[3200]\ttraining's l2: 2.02035e-16\ttraining's l1: 9.99372e-09\tvalid_1's l2: 1.30002e-15\tvalid_1's l1: 1.43259e-08\n",
      "[3400]\ttraining's l2: 1.90132e-16\ttraining's l1: 9.72236e-09\tvalid_1's l2: 1.29347e-15\tvalid_1's l1: 1.4175e-08\n",
      "[3600]\ttraining's l2: 1.772e-16\ttraining's l1: 9.41389e-09\tvalid_1's l2: 1.28364e-15\tvalid_1's l1: 1.39656e-08\n",
      "[3800]\ttraining's l2: 1.65818e-16\ttraining's l1: 9.13234e-09\tvalid_1's l2: 1.2765e-15\tvalid_1's l1: 1.37938e-08\n",
      "[4000]\ttraining's l2: 1.55882e-16\ttraining's l1: 8.8647e-09\tvalid_1's l2: 1.27115e-15\tvalid_1's l1: 1.36318e-08\n",
      "[4200]\ttraining's l2: 1.46437e-16\ttraining's l1: 8.60741e-09\tvalid_1's l2: 1.26541e-15\tvalid_1's l1: 1.34744e-08\n",
      "[4400]\ttraining's l2: 1.38888e-16\ttraining's l1: 8.40025e-09\tvalid_1's l2: 1.2606e-15\tvalid_1's l1: 1.33626e-08\n",
      "[4600]\ttraining's l2: 1.3147e-16\ttraining's l1: 8.19774e-09\tvalid_1's l2: 1.25696e-15\tvalid_1's l1: 1.32577e-08\n",
      "[4800]\ttraining's l2: 1.2385e-16\ttraining's l1: 7.95986e-09\tvalid_1's l2: 1.25006e-15\tvalid_1's l1: 1.30956e-08\n",
      "[5000]\ttraining's l2: 1.16623e-16\ttraining's l1: 7.7317e-09\tvalid_1's l2: 1.24488e-15\tvalid_1's l1: 1.29435e-08\n",
      "Did not meet early stopping. Best iteration is:\n",
      "[5000]\ttraining's l2: 1.16623e-16\ttraining's l1: 7.7317e-09\tvalid_1's l2: 1.24488e-15\tvalid_1's l1: 1.29435e-08\n",
      "processed: 103/594\n",
      "saving...\n",
      "(307511, 912)\n"
     ]
    },
    {
     "name": "stderr",
     "output_type": "stream",
     "text": [
      "\r",
      "103it [2:47:32, 97.59s/it]"
     ]
    },
    {
     "name": "stdout",
     "output_type": "stream",
     "text": [
      "start processing credit_to_goods_ratio \n",
      "the na is:0.0007803399250536834\n",
      "(355977, 909)\n",
      "(278, 909)\n",
      "Training until validation scores don't improve for 100 rounds.\n",
      "[200]\ttraining's l2: 3.60433e-05\ttraining's l1: 0.00261585\tvalid_1's l2: 2.23028e-05\tvalid_1's l1: 0.00263264\n",
      "[400]\ttraining's l2: 1.60891e-05\ttraining's l1: 0.00199813\tvalid_1's l2: 1.73405e-05\tvalid_1's l1: 0.00206318\n",
      "[600]\ttraining's l2: 1.0405e-05\ttraining's l1: 0.00169041\tvalid_1's l2: 1.43393e-05\tvalid_1's l1: 0.00178022\n",
      "[800]\ttraining's l2: 6.94374e-06\ttraining's l1: 0.00150122\tvalid_1's l2: 1.2761e-05\tvalid_1's l1: 0.00161118\n",
      "[1000]\ttraining's l2: 5.06755e-06\ttraining's l1: 0.00134448\tvalid_1's l2: 1.18983e-05\tvalid_1's l1: 0.0014693\n",
      "[1200]\ttraining's l2: 4.11194e-06\ttraining's l1: 0.00124206\tvalid_1's l2: 1.13283e-05\tvalid_1's l1: 0.00137981\n",
      "[1400]\ttraining's l2: 3.33771e-06\ttraining's l1: 0.00115218\tvalid_1's l2: 1.07872e-05\tvalid_1's l1: 0.00130112\n",
      "[1600]\ttraining's l2: 2.85608e-06\ttraining's l1: 0.00107709\tvalid_1's l2: 1.04818e-05\tvalid_1's l1: 0.00123806\n",
      "[1800]\ttraining's l2: 2.51609e-06\ttraining's l1: 0.00101837\tvalid_1's l2: 1.01919e-05\tvalid_1's l1: 0.00118977\n",
      "[2000]\ttraining's l2: 2.29003e-06\ttraining's l1: 0.000980269\tvalid_1's l2: 1.00471e-05\tvalid_1's l1: 0.00116287\n",
      "[2200]\ttraining's l2: 2.01674e-06\ttraining's l1: 0.000919617\tvalid_1's l2: 9.7918e-06\tvalid_1's l1: 0.00111051\n",
      "[2400]\ttraining's l2: 1.8262e-06\ttraining's l1: 0.000877655\tvalid_1's l2: 9.65406e-06\tvalid_1's l1: 0.0010777\n",
      "[2600]\ttraining's l2: 1.68933e-06\ttraining's l1: 0.00084827\tvalid_1's l2: 9.57354e-06\tvalid_1's l1: 0.00105753\n",
      "[2800]\ttraining's l2: 1.56181e-06\ttraining's l1: 0.000817631\tvalid_1's l2: 9.4751e-06\tvalid_1's l1: 0.00103504\n",
      "[3000]\ttraining's l2: 1.43641e-06\ttraining's l1: 0.000782715\tvalid_1's l2: 9.34487e-06\tvalid_1's l1: 0.0010076\n",
      "[3200]\ttraining's l2: 1.35404e-06\ttraining's l1: 0.00076313\tvalid_1's l2: 9.2976e-06\tvalid_1's l1: 0.000997319\n",
      "[3400]\ttraining's l2: 1.28157e-06\ttraining's l1: 0.000744292\tvalid_1's l2: 9.24564e-06\tvalid_1's l1: 0.000987207\n",
      "[3600]\ttraining's l2: 1.19306e-06\ttraining's l1: 0.000716668\tvalid_1's l2: 9.16656e-06\tvalid_1's l1: 0.000965952\n",
      "[3800]\ttraining's l2: 1.13942e-06\ttraining's l1: 0.000703867\tvalid_1's l2: 9.12377e-06\tvalid_1's l1: 0.000961319\n",
      "[4000]\ttraining's l2: 1.06449e-06\ttraining's l1: 0.000681007\tvalid_1's l2: 9.0596e-06\tvalid_1's l1: 0.000945286\n",
      "[4200]\ttraining's l2: 1.00099e-06\ttraining's l1: 0.000660492\tvalid_1's l2: 8.99641e-06\tvalid_1's l1: 0.000931363\n",
      "[4400]\ttraining's l2: 9.54424e-07\ttraining's l1: 0.000645928\tvalid_1's l2: 8.97678e-06\tvalid_1's l1: 0.000924006\n",
      "[4600]\ttraining's l2: 9.10271e-07\ttraining's l1: 0.00063166\tvalid_1's l2: 8.95447e-06\tvalid_1's l1: 0.000916317\n",
      "[4800]\ttraining's l2: 8.72364e-07\ttraining's l1: 0.000620021\tvalid_1's l2: 8.93434e-06\tvalid_1's l1: 0.000911772\n",
      "[5000]\ttraining's l2: 8.22799e-07\ttraining's l1: 0.000603068\tvalid_1's l2: 8.89277e-06\tvalid_1's l1: 0.000900709\n",
      "Did not meet early stopping. Best iteration is:\n",
      "[5000]\ttraining's l2: 8.22799e-07\ttraining's l1: 0.000603068\tvalid_1's l2: 8.89277e-06\tvalid_1's l1: 0.000900709\n",
      "processed: 104/594\n",
      "saving...\n",
      "(307511, 912)\n"
     ]
    },
    {
     "name": "stderr",
     "output_type": "stream",
     "text": [
      "\r",
      "104it [2:49:34, 97.83s/it]"
     ]
    },
    {
     "name": "stdout",
     "output_type": "stream",
     "text": [
      "start processing NAME_FAMILY_STATUS_NAME_EDUCATION_TYPE_AMT_GOODS_PRICE_mean_diff \n",
      "the na is:0.0007803399250536834\n",
      "(355977, 909)\n",
      "(278, 909)\n",
      "Training until validation scores don't improve for 100 rounds.\n",
      "[200]\ttraining's l2: 1.47582e+07\ttraining's l1: 2308.59\tvalid_1's l2: 1.69479e+07\tvalid_1's l1: 2328.49\n",
      "[400]\ttraining's l2: 7.64571e+06\ttraining's l1: 1659.57\tvalid_1's l2: 1.06223e+07\tvalid_1's l1: 1703.45\n",
      "[600]\ttraining's l2: 5.03204e+06\ttraining's l1: 1339.36\tvalid_1's l2: 8.43366e+06\tvalid_1's l1: 1400.71\n",
      "[800]\ttraining's l2: 3.65993e+06\ttraining's l1: 1123.2\tvalid_1's l2: 7.30846e+06\tvalid_1's l1: 1197.59\n",
      "[1000]\ttraining's l2: 2.85199e+06\ttraining's l1: 991.568\tvalid_1's l2: 6.68403e+06\tvalid_1's l1: 1077.82\n",
      "[1200]\ttraining's l2: 2.30522e+06\ttraining's l1: 889.503\tvalid_1's l2: 6.21926e+06\tvalid_1's l1: 985.774\n",
      "[1400]\ttraining's l2: 1.92313e+06\ttraining's l1: 804.941\tvalid_1's l2: 5.9163e+06\tvalid_1's l1: 909.762\n",
      "[1600]\ttraining's l2: 1.64839e+06\ttraining's l1: 745.636\tvalid_1's l2: 5.70258e+06\tvalid_1's l1: 858.865\n",
      "[1800]\ttraining's l2: 1.42274e+06\ttraining's l1: 690.097\tvalid_1's l2: 5.55648e+06\tvalid_1's l1: 809.931\n",
      "[2000]\ttraining's l2: 1.24367e+06\ttraining's l1: 646.441\tvalid_1's l2: 5.41094e+06\tvalid_1's l1: 774.192\n",
      "[2200]\ttraining's l2: 1.1e+06\ttraining's l1: 608.922\tvalid_1's l2: 5.3066e+06\tvalid_1's l1: 743.461\n",
      "[2400]\ttraining's l2: 991504\ttraining's l1: 577.724\tvalid_1's l2: 5.23211e+06\tvalid_1's l1: 718.908\n",
      "[2600]\ttraining's l2: 888685\ttraining's l1: 546.986\tvalid_1's l2: 5.14751e+06\tvalid_1's l1: 693.507\n",
      "[2800]\ttraining's l2: 806144\ttraining's l1: 521.205\tvalid_1's l2: 5.09177e+06\tvalid_1's l1: 674.25\n",
      "[3000]\ttraining's l2: 728590\ttraining's l1: 495.096\tvalid_1's l2: 5.02931e+06\tvalid_1's l1: 653.048\n",
      "[3200]\ttraining's l2: 668362\ttraining's l1: 474.85\tvalid_1's l2: 4.98966e+06\tvalid_1's l1: 638.591\n",
      "[3400]\ttraining's l2: 609694\ttraining's l1: 454.668\tvalid_1's l2: 4.94247e+06\tvalid_1's l1: 622.964\n",
      "[3600]\ttraining's l2: 563900\ttraining's l1: 438.134\tvalid_1's l2: 4.90694e+06\tvalid_1's l1: 611.354\n",
      "[3800]\ttraining's l2: 521662\ttraining's l1: 422.756\tvalid_1's l2: 4.87968e+06\tvalid_1's l1: 601.456\n",
      "[4000]\ttraining's l2: 482361\ttraining's l1: 407.293\tvalid_1's l2: 4.84276e+06\tvalid_1's l1: 590.722\n",
      "[4200]\ttraining's l2: 449572\ttraining's l1: 393.623\tvalid_1's l2: 4.82157e+06\tvalid_1's l1: 581.437\n",
      "[4400]\ttraining's l2: 418776\ttraining's l1: 380.259\tvalid_1's l2: 4.79882e+06\tvalid_1's l1: 572.451\n",
      "[4600]\ttraining's l2: 392346\ttraining's l1: 367.275\tvalid_1's l2: 4.77764e+06\tvalid_1's l1: 563.598\n",
      "[4800]\ttraining's l2: 369372\ttraining's l1: 357.156\tvalid_1's l2: 4.76563e+06\tvalid_1's l1: 558.188\n",
      "[5000]\ttraining's l2: 346004\ttraining's l1: 346.198\tvalid_1's l2: 4.74565e+06\tvalid_1's l1: 551.214\n",
      "Did not meet early stopping. Best iteration is:\n",
      "[5000]\ttraining's l2: 346004\ttraining's l1: 346.198\tvalid_1's l2: 4.74565e+06\tvalid_1's l1: 551.214\n",
      "processed: 105/594\n",
      "saving...\n",
      "(307511, 912)\n"
     ]
    },
    {
     "name": "stderr",
     "output_type": "stream",
     "text": [
      "\r",
      "105it [2:51:35, 98.06s/it]"
     ]
    },
    {
     "name": "stdout",
     "output_type": "stream",
     "text": [
      "start processing NAME_FAMILY_STATUS_NAME_EDUCATION_TYPE_AMT_GOODS_PRICE_mean_abs_diff \n",
      "the na is:0.0007803399250536834\n",
      "(355977, 909)\n",
      "(278, 909)\n",
      "Training until validation scores don't improve for 100 rounds.\n",
      "[200]\ttraining's l2: 1.89783e+07\ttraining's l1: 2734.25\tvalid_1's l2: 2.22467e+07\tvalid_1's l1: 2800.85\n",
      "[400]\ttraining's l2: 9.76509e+06\ttraining's l1: 1911.49\tvalid_1's l2: 1.31525e+07\tvalid_1's l1: 1992.2\n",
      "[600]\ttraining's l2: 6.54879e+06\ttraining's l1: 1547.89\tvalid_1's l2: 1.01043e+07\tvalid_1's l1: 1639.97\n",
      "[800]\ttraining's l2: 4.81747e+06\ttraining's l1: 1305.27\tvalid_1's l2: 8.46259e+06\tvalid_1's l1: 1408.43\n",
      "[1000]\ttraining's l2: 3.80127e+06\ttraining's l1: 1151.05\tvalid_1's l2: 7.59722e+06\tvalid_1's l1: 1262.61\n",
      "[1200]\ttraining's l2: 3.07239e+06\ttraining's l1: 1026.16\tvalid_1's l2: 6.94596e+06\tvalid_1's l1: 1144.96\n",
      "[1400]\ttraining's l2: 2.62522e+06\ttraining's l1: 943.927\tvalid_1's l2: 6.52342e+06\tvalid_1's l1: 1070.86\n",
      "[1600]\ttraining's l2: 2.25419e+06\ttraining's l1: 872.245\tvalid_1's l2: 6.21931e+06\tvalid_1's l1: 1006.92\n",
      "[1800]\ttraining's l2: 1.97791e+06\ttraining's l1: 816.076\tvalid_1's l2: 5.99813e+06\tvalid_1's l1: 958.677\n",
      "[2000]\ttraining's l2: 1.75375e+06\ttraining's l1: 768.104\tvalid_1's l2: 5.81467e+06\tvalid_1's l1: 918.267\n",
      "[2200]\ttraining's l2: 1.5636e+06\ttraining's l1: 722.153\tvalid_1's l2: 5.65331e+06\tvalid_1's l1: 879.728\n",
      "[2400]\ttraining's l2: 1.42293e+06\ttraining's l1: 690.652\tvalid_1's l2: 5.54632e+06\tvalid_1's l1: 855.174\n",
      "[2600]\ttraining's l2: 1.29579e+06\ttraining's l1: 658.074\tvalid_1's l2: 5.4417e+06\tvalid_1's l1: 828.966\n",
      "[2800]\ttraining's l2: 1.17925e+06\ttraining's l1: 629.293\tvalid_1's l2: 5.3572e+06\tvalid_1's l1: 807.857\n",
      "[3000]\ttraining's l2: 1.07878e+06\ttraining's l1: 600.431\tvalid_1's l2: 5.27285e+06\tvalid_1's l1: 785.027\n",
      "[3200]\ttraining's l2: 1.00115e+06\ttraining's l1: 579.912\tvalid_1's l2: 5.22825e+06\tvalid_1's l1: 771.858\n",
      "[3400]\ttraining's l2: 931216\ttraining's l1: 560.239\tvalid_1's l2: 5.18942e+06\tvalid_1's l1: 759.385\n",
      "[3600]\ttraining's l2: 864910\ttraining's l1: 539.243\tvalid_1's l2: 5.14551e+06\tvalid_1's l1: 744.306\n",
      "[3800]\ttraining's l2: 805050\ttraining's l1: 520.571\tvalid_1's l2: 5.10181e+06\tvalid_1's l1: 730.76\n",
      "[4000]\ttraining's l2: 746875\ttraining's l1: 502.122\tvalid_1's l2: 5.04858e+06\tvalid_1's l1: 716.904\n",
      "[4200]\ttraining's l2: 694538\ttraining's l1: 485.086\tvalid_1's l2: 5.00521e+06\tvalid_1's l1: 705.099\n",
      "[4400]\ttraining's l2: 649849\ttraining's l1: 469.216\tvalid_1's l2: 4.97258e+06\tvalid_1's l1: 694.247\n",
      "[4600]\ttraining's l2: 610902\ttraining's l1: 455.187\tvalid_1's l2: 4.94721e+06\tvalid_1's l1: 685.506\n",
      "[4800]\ttraining's l2: 575788\ttraining's l1: 443.241\tvalid_1's l2: 4.93245e+06\tvalid_1's l1: 678.831\n",
      "[5000]\ttraining's l2: 544722\ttraining's l1: 432.345\tvalid_1's l2: 4.91555e+06\tvalid_1's l1: 673.109\n",
      "Did not meet early stopping. Best iteration is:\n",
      "[5000]\ttraining's l2: 544722\ttraining's l1: 432.345\tvalid_1's l2: 4.91555e+06\tvalid_1's l1: 673.109\n",
      "processed: 106/594\n",
      "saving...\n",
      "(307511, 912)\n"
     ]
    },
    {
     "name": "stderr",
     "output_type": "stream",
     "text": [
      "\r",
      "106it [2:53:36, 98.27s/it]"
     ]
    },
    {
     "name": "stdout",
     "output_type": "stream",
     "text": [
      "start processing NAME_FAMILY_STATUS_NAME_EDUCATION_TYPE_AMT_GOODS_PRICE_min_diff \n",
      "the na is:0.0007803399250536834\n",
      "(355977, 909)\n",
      "(278, 909)\n",
      "Training until validation scores don't improve for 100 rounds.\n",
      "[200]\ttraining's l2: 2.05417e+06\ttraining's l1: 516.765\tvalid_1's l2: 5.06686e+06\tvalid_1's l1: 542.714\n",
      "[400]\ttraining's l2: 1.21366e+06\ttraining's l1: 422.751\tvalid_1's l2: 4.34651e+06\tvalid_1's l1: 459.322\n",
      "[600]\ttraining's l2: 790031\ttraining's l1: 342.944\tvalid_1's l2: 4.23375e+06\tvalid_1's l1: 388.26\n",
      "Early stopping, best iteration is:\n",
      "[613]\ttraining's l2: 769933\ttraining's l1: 338.543\tvalid_1's l2: 4.20407e+06\tvalid_1's l1: 384.357\n",
      "processed: 107/594\n",
      "saving...\n",
      "(307511, 912)\n"
     ]
    },
    {
     "name": "stderr",
     "output_type": "stream",
     "text": [
      "\r",
      "107it [2:54:08, 97.65s/it]"
     ]
    },
    {
     "name": "stdout",
     "output_type": "stream",
     "text": [
      "start processing NAME_FAMILY_STATUS_NAME_EDUCATION_TYPE_AMT_GOODS_PRICE_min_abs_diff \n",
      "the na is:0.0007803399250536834\n",
      "(355977, 909)\n",
      "(278, 909)\n",
      "Training until validation scores don't improve for 100 rounds.\n",
      "[200]\ttraining's l2: 2.8735e+06\ttraining's l1: 755.509\tvalid_1's l2: 5.92941e+06\tvalid_1's l1: 774.852\n",
      "[400]\ttraining's l2: 1.56217e+06\ttraining's l1: 554.12\tvalid_1's l2: 4.63198e+06\tvalid_1's l1: 587.102\n",
      "[600]\ttraining's l2: 1.03033e+06\ttraining's l1: 451.506\tvalid_1's l2: 4.35596e+06\tvalid_1's l1: 494.735\n",
      "[800]\ttraining's l2: 753426\ttraining's l1: 390.756\tvalid_1's l2: 4.21438e+06\tvalid_1's l1: 441.323\n",
      "[1000]\ttraining's l2: 577459\ttraining's l1: 342.178\tvalid_1's l2: 4.16783e+06\tvalid_1's l1: 398.652\n",
      "[1200]\ttraining's l2: 474419\ttraining's l1: 307.703\tvalid_1's l2: 4.08051e+06\tvalid_1's l1: 369.783\n",
      "Early stopping, best iteration is:\n",
      "[1289]\ttraining's l2: 433659\ttraining's l1: 295.121\tvalid_1's l2: 4.04789e+06\tvalid_1's l1: 359.74\n",
      "processed: 108/594\n",
      "saving...\n",
      "(307511, 912)\n"
     ]
    },
    {
     "name": "stderr",
     "output_type": "stream",
     "text": [
      "\r",
      "108it [2:54:55, 97.18s/it]"
     ]
    },
    {
     "name": "stdout",
     "output_type": "stream",
     "text": [
      "start processing AMT_CREDIT_divide_AMT_GOODS_PRICE \n",
      "the na is:0.0007803399250536834\n",
      "(355977, 909)\n",
      "(278, 909)\n",
      "Training until validation scores don't improve for 100 rounds.\n",
      "[200]\ttraining's l2: 3.25612e-05\ttraining's l1: 0.00190023\tvalid_1's l2: 1.75279e-05\tvalid_1's l1: 0.00194492\n",
      "[400]\ttraining's l2: 1.29302e-05\ttraining's l1: 0.00146618\tvalid_1's l2: 1.53395e-05\tvalid_1's l1: 0.00155062\n",
      "[600]\ttraining's l2: 7.57469e-06\ttraining's l1: 0.00124004\tvalid_1's l2: 1.33706e-05\tvalid_1's l1: 0.00134467\n",
      "[800]\ttraining's l2: 4.92091e-06\ttraining's l1: 0.00108918\tvalid_1's l2: 1.19477e-05\tvalid_1's l1: 0.0012065\n",
      "[1000]\ttraining's l2: 3.63878e-06\ttraining's l1: 0.000981251\tvalid_1's l2: 1.14829e-05\tvalid_1's l1: 0.00111388\n",
      "[1200]\ttraining's l2: 2.78329e-06\ttraining's l1: 0.000904298\tvalid_1's l2: 1.09255e-05\tvalid_1's l1: 0.00104998\n",
      "[1400]\ttraining's l2: 2.23875e-06\ttraining's l1: 0.00082789\tvalid_1's l2: 1.05454e-05\tvalid_1's l1: 0.000984208\n",
      "[1600]\ttraining's l2: 1.93206e-06\ttraining's l1: 0.000786292\tvalid_1's l2: 1.03067e-05\tvalid_1's l1: 0.000952171\n",
      "[1800]\ttraining's l2: 1.62643e-06\ttraining's l1: 0.000745984\tvalid_1's l2: 1.01391e-05\tvalid_1's l1: 0.000921596\n",
      "[2000]\ttraining's l2: 1.41643e-06\ttraining's l1: 0.000704004\tvalid_1's l2: 9.98071e-06\tvalid_1's l1: 0.000887537\n",
      "[2200]\ttraining's l2: 1.27685e-06\ttraining's l1: 0.000672745\tvalid_1's l2: 9.91062e-06\tvalid_1's l1: 0.000864216\n",
      "[2400]\ttraining's l2: 1.15441e-06\ttraining's l1: 0.000645054\tvalid_1's l2: 9.8314e-06\tvalid_1's l1: 0.000843746\n",
      "[2600]\ttraining's l2: 1.03133e-06\ttraining's l1: 0.00061198\tvalid_1's l2: 9.7174e-06\tvalid_1's l1: 0.000816942\n",
      "[2800]\ttraining's l2: 9.43959e-07\ttraining's l1: 0.000587764\tvalid_1's l2: 9.65606e-06\tvalid_1's l1: 0.000799596\n",
      "[3000]\ttraining's l2: 8.73376e-07\ttraining's l1: 0.000568712\tvalid_1's l2: 9.60873e-06\tvalid_1's l1: 0.000786937\n",
      "Early stopping, best iteration is:\n",
      "[3044]\ttraining's l2: 8.62935e-07\ttraining's l1: 0.000566584\tvalid_1's l2: 9.59939e-06\tvalid_1's l1: 0.000786384\n",
      "processed: 109/594\n",
      "saving...\n",
      "(307511, 912)\n"
     ]
    },
    {
     "name": "stderr",
     "output_type": "stream",
     "text": [
      "\r",
      "109it [2:56:17, 97.04s/it]"
     ]
    },
    {
     "name": "stdout",
     "output_type": "stream",
     "text": [
      "start processing NAME_FAMILY_STATUS_CODE_GENDER_AMT_GOODS_PRICE_min_diff \n",
      "the na is:0.0007915678376443839\n",
      "(355973, 909)\n",
      "(282, 909)\n",
      "Training until validation scores don't improve for 100 rounds.\n",
      "[200]\ttraining's l2: 2.42127e+06\ttraining's l1: 693.57\tvalid_1's l2: 1.12408e+07\tvalid_1's l1: 739.295\n",
      "[400]\ttraining's l2: 1.32651e+06\ttraining's l1: 514.141\tvalid_1's l2: 9.80473e+06\tvalid_1's l1: 567.054\n",
      "[600]\ttraining's l2: 889172\ttraining's l1: 427.592\tvalid_1's l2: 9.44817e+06\tvalid_1's l1: 488.359\n",
      "[800]\ttraining's l2: 643432\ttraining's l1: 359.077\tvalid_1's l2: 9.25007e+06\tvalid_1's l1: 426.979\n",
      "[1000]\ttraining's l2: 472770\ttraining's l1: 308.473\tvalid_1's l2: 9.10682e+06\tvalid_1's l1: 381.967\n",
      "[1200]\ttraining's l2: 377380\ttraining's l1: 274.194\tvalid_1's l2: 9.01083e+06\tvalid_1's l1: 352.162\n",
      "[1400]\ttraining's l2: 313410\ttraining's l1: 246.958\tvalid_1's l2: 8.99183e+06\tvalid_1's l1: 329.009\n",
      "Early stopping, best iteration is:\n",
      "[1348]\ttraining's l2: 326042\ttraining's l1: 251.91\tvalid_1's l2: 8.96464e+06\tvalid_1's l1: 332.577\n",
      "processed: 110/594\n",
      "saving...\n",
      "(307511, 912)\n"
     ]
    },
    {
     "name": "stderr",
     "output_type": "stream",
     "text": [
      "\r",
      "110it [2:57:05, 96.60s/it]"
     ]
    },
    {
     "name": "stdout",
     "output_type": "stream",
     "text": [
      "start processing NAME_EDUCATION_TYPE_CODE_GENDER_AMT_GOODS_PRICE_min_diff \n",
      "the na is:0.0007915678376443839\n",
      "(355973, 909)\n",
      "(282, 909)\n",
      "Training until validation scores don't improve for 100 rounds.\n",
      "[200]\ttraining's l2: 2.86213e+06\ttraining's l1: 813.705\tvalid_1's l2: 1.19061e+07\tvalid_1's l1: 853.789\n",
      "[400]\ttraining's l2: 1.53009e+06\ttraining's l1: 593.57\tvalid_1's l2: 1.0476e+07\tvalid_1's l1: 646.32\n",
      "Early stopping, best iteration is:\n",
      "[382]\ttraining's l2: 1.5982e+06\ttraining's l1: 604.758\tvalid_1's l2: 1.02748e+07\tvalid_1's l1: 655.712\n",
      "processed: 111/594\n",
      "saving...\n",
      "(307511, 912)\n"
     ]
    },
    {
     "name": "stderr",
     "output_type": "stream",
     "text": [
      "\r",
      "111it [2:57:33, 95.98s/it]"
     ]
    },
    {
     "name": "stdout",
     "output_type": "stream",
     "text": [
      "start processing NAME_FAMILY_STATUS_CODE_GENDER_AMT_GOODS_PRICE_min_abs_diff \n",
      "the na is:0.0007915678376443839\n",
      "(355973, 909)\n",
      "(282, 909)\n",
      "Training until validation scores don't improve for 100 rounds.\n",
      "[200]\ttraining's l2: 2.60207e+06\ttraining's l1: 721.801\tvalid_1's l2: 1.19036e+07\tvalid_1's l1: 763.07\n",
      "[400]\ttraining's l2: 1.39896e+06\ttraining's l1: 546.538\tvalid_1's l2: 1.09887e+07\tvalid_1's l1: 598.257\n",
      "[600]\ttraining's l2: 920967\ttraining's l1: 449.308\tvalid_1's l2: 1.07174e+07\tvalid_1's l1: 510.631\n",
      "[800]\ttraining's l2: 669150\ttraining's l1: 381.84\tvalid_1's l2: 1.05081e+07\tvalid_1's l1: 450.769\n",
      "[1000]\ttraining's l2: 513375\ttraining's l1: 329.744\tvalid_1's l2: 1.04424e+07\tvalid_1's l1: 404.026\n",
      "[1200]\ttraining's l2: 417118\ttraining's l1: 296.443\tvalid_1's l2: 1.03332e+07\tvalid_1's l1: 376.025\n",
      "[1400]\ttraining's l2: 346575\ttraining's l1: 270.677\tvalid_1's l2: 1.02948e+07\tvalid_1's l1: 355.54\n",
      "Early stopping, best iteration is:\n",
      "[1398]\ttraining's l2: 347667\ttraining's l1: 270.803\tvalid_1's l2: 1.02725e+07\tvalid_1's l1: 355.531\n",
      "processed: 112/594\n",
      "saving...\n",
      "(307511, 912)\n"
     ]
    },
    {
     "name": "stderr",
     "output_type": "stream",
     "text": [
      "\r",
      "112it [2:58:22, 95.56s/it]"
     ]
    },
    {
     "name": "stdout",
     "output_type": "stream",
     "text": [
      "start processing NAME_EDUCATION_TYPE_CODE_GENDER_AMT_GOODS_PRICE_min_abs_diff \n",
      "the na is:0.0007915678376443839\n",
      "(355973, 909)\n",
      "(282, 909)\n",
      "Training until validation scores don't improve for 100 rounds.\n",
      "[200]\ttraining's l2: 2.35072e+06\ttraining's l1: 602.833\tvalid_1's l2: 9.42982e+06\tvalid_1's l1: 639.798\n",
      "[400]\ttraining's l2: 1.30976e+06\ttraining's l1: 492.862\tvalid_1's l2: 9.5387e+06\tvalid_1's l1: 540.93\n",
      "Early stopping, best iteration is:\n",
      "[339]\ttraining's l2: 1.54309e+06\ttraining's l1: 519.008\tvalid_1's l2: 9.22582e+06\tvalid_1's l1: 562.514\n",
      "processed: 113/594\n",
      "saving...\n",
      "(307511, 912)\n"
     ]
    },
    {
     "name": "stderr",
     "output_type": "stream",
     "text": [
      "\r",
      "113it [2:58:49, 94.95s/it]"
     ]
    },
    {
     "name": "stdout",
     "output_type": "stream",
     "text": [
      "start processing NAME_EDUCATION_TYPE_CODE_GENDER_AMT_GOODS_PRICE_mean_diff \n",
      "the na is:0.0007915678376443839\n",
      "(355973, 909)\n",
      "(282, 909)\n",
      "Training until validation scores don't improve for 100 rounds.\n",
      "[200]\ttraining's l2: 1.24342e+07\ttraining's l1: 2116.74\tvalid_1's l2: 1.9724e+07\tvalid_1's l1: 2158.04\n",
      "[400]\ttraining's l2: 6.27472e+06\ttraining's l1: 1494.49\tvalid_1's l2: 1.39253e+07\tvalid_1's l1: 1547.55\n",
      "[600]\ttraining's l2: 4.24999e+06\ttraining's l1: 1224.4\tvalid_1's l2: 1.20591e+07\tvalid_1's l1: 1289.82\n",
      "[800]\ttraining's l2: 3.09812e+06\ttraining's l1: 1026.09\tvalid_1's l2: 1.12081e+07\tvalid_1's l1: 1102.2\n",
      "[1000]\ttraining's l2: 2.37648e+06\ttraining's l1: 894.968\tvalid_1's l2: 1.05927e+07\tvalid_1's l1: 982.169\n",
      "[1200]\ttraining's l2: 1.88505e+06\ttraining's l1: 791.622\tvalid_1's l2: 1.02647e+07\tvalid_1's l1: 888.898\n",
      "[1400]\ttraining's l2: 1.53683e+06\ttraining's l1: 717.975\tvalid_1's l2: 9.95082e+06\tvalid_1's l1: 824.747\n",
      "[1600]\ttraining's l2: 1.30587e+06\ttraining's l1: 657.535\tvalid_1's l2: 9.73131e+06\tvalid_1's l1: 770.222\n",
      "[1800]\ttraining's l2: 1.13263e+06\ttraining's l1: 609.131\tvalid_1's l2: 9.56036e+06\tvalid_1's l1: 728.295\n",
      "[2000]\ttraining's l2: 996373\ttraining's l1: 568.656\tvalid_1's l2: 9.45361e+06\tvalid_1's l1: 694.499\n",
      "[2200]\ttraining's l2: 878112\ttraining's l1: 533.701\tvalid_1's l2: 9.34572e+06\tvalid_1's l1: 665.466\n",
      "[2400]\ttraining's l2: 792664\ttraining's l1: 507.177\tvalid_1's l2: 9.22654e+06\tvalid_1's l1: 644.622\n",
      "[2600]\ttraining's l2: 702912\ttraining's l1: 476.954\tvalid_1's l2: 9.15761e+06\tvalid_1's l1: 619.256\n",
      "[2800]\ttraining's l2: 628562\ttraining's l1: 452.267\tvalid_1's l2: 9.09754e+06\tvalid_1's l1: 599.615\n",
      "[3000]\ttraining's l2: 573798\ttraining's l1: 432.013\tvalid_1's l2: 9.06209e+06\tvalid_1's l1: 584.508\n",
      "[3200]\ttraining's l2: 522167\ttraining's l1: 412.122\tvalid_1's l2: 9.00964e+06\tvalid_1's l1: 569.309\n",
      "[3400]\ttraining's l2: 480731\ttraining's l1: 396.553\tvalid_1's l2: 8.98409e+06\tvalid_1's l1: 558.921\n",
      "[3600]\ttraining's l2: 440325\ttraining's l1: 379.894\tvalid_1's l2: 8.94554e+06\tvalid_1's l1: 546.285\n",
      "[3800]\ttraining's l2: 403903\ttraining's l1: 364.239\tvalid_1's l2: 8.9161e+06\tvalid_1's l1: 534.862\n",
      "[4000]\ttraining's l2: 375787\ttraining's l1: 352.305\tvalid_1's l2: 8.88961e+06\tvalid_1's l1: 527.39\n",
      "[4200]\ttraining's l2: 347353\ttraining's l1: 338.319\tvalid_1's l2: 8.87401e+06\tvalid_1's l1: 516.915\n",
      "[4400]\ttraining's l2: 326264\ttraining's l1: 328.636\tvalid_1's l2: 8.85507e+06\tvalid_1's l1: 511.308\n",
      "[4600]\ttraining's l2: 303103\ttraining's l1: 317.354\tvalid_1's l2: 8.83935e+06\tvalid_1's l1: 503.971\n",
      "[4800]\ttraining's l2: 287272\ttraining's l1: 309.458\tvalid_1's l2: 8.82779e+06\tvalid_1's l1: 499.935\n",
      "[5000]\ttraining's l2: 269006\ttraining's l1: 299.281\tvalid_1's l2: 8.81264e+06\tvalid_1's l1: 493.138\n",
      "Did not meet early stopping. Best iteration is:\n",
      "[5000]\ttraining's l2: 269006\ttraining's l1: 299.281\tvalid_1's l2: 8.81264e+06\tvalid_1's l1: 493.138\n",
      "processed: 114/594\n",
      "saving...\n",
      "(307511, 912)\n"
     ]
    },
    {
     "name": "stderr",
     "output_type": "stream",
     "text": [
      "\r",
      "114it [3:00:50, 95.18s/it]"
     ]
    },
    {
     "name": "stdout",
     "output_type": "stream",
     "text": [
      "start processing NAME_EDUCATION_TYPE_CODE_GENDER_AMT_GOODS_PRICE_max_diff \n",
      "the na is:0.0007915678376443839\n",
      "(355973, 909)\n",
      "(282, 909)\n",
      "Training until validation scores don't improve for 100 rounds.\n",
      "[200]\ttraining's l2: 5.88862e+07\ttraining's l1: 4592.4\tvalid_1's l2: 7.09959e+07\tvalid_1's l1: 4692.91\n",
      "[400]\ttraining's l2: 2.93102e+07\ttraining's l1: 3230.81\tvalid_1's l2: 4.32819e+07\tvalid_1's l1: 3358.42\n",
      "[600]\ttraining's l2: 1.86678e+07\ttraining's l1: 2588.83\tvalid_1's l2: 3.36424e+07\tvalid_1's l1: 2743.02\n",
      "[800]\ttraining's l2: 1.34595e+07\ttraining's l1: 2183.94\tvalid_1's l2: 2.89428e+07\tvalid_1's l1: 2359.86\n",
      "[1000]\ttraining's l2: 1.02867e+07\ttraining's l1: 1909.3\tvalid_1's l2: 2.59592e+07\tvalid_1's l1: 2102.7\n",
      "[1200]\ttraining's l2: 8.1944e+06\ttraining's l1: 1691.45\tvalid_1's l2: 2.42378e+07\tvalid_1's l1: 1899.56\n",
      "[1400]\ttraining's l2: 6.7491e+06\ttraining's l1: 1532\tvalid_1's l2: 2.2973e+07\tvalid_1's l1: 1756.99\n",
      "[1600]\ttraining's l2: 5.78478e+06\ttraining's l1: 1422.66\tvalid_1's l2: 2.23304e+07\tvalid_1's l1: 1664.94\n",
      "[1800]\ttraining's l2: 4.99998e+06\ttraining's l1: 1320.72\tvalid_1's l2: 2.17133e+07\tvalid_1's l1: 1577.79\n",
      "[2000]\ttraining's l2: 4.37601e+06\ttraining's l1: 1238.33\tvalid_1's l2: 2.11137e+07\tvalid_1's l1: 1509.17\n",
      "[2200]\ttraining's l2: 3.88297e+06\ttraining's l1: 1166.5\tvalid_1's l2: 2.07053e+07\tvalid_1's l1: 1451.38\n",
      "[2400]\ttraining's l2: 3.45235e+06\ttraining's l1: 1097.82\tvalid_1's l2: 2.03748e+07\tvalid_1's l1: 1395.41\n",
      "[2600]\ttraining's l2: 3.09663e+06\ttraining's l1: 1040.14\tvalid_1's l2: 2.01392e+07\tvalid_1's l1: 1349.37\n",
      "[2800]\ttraining's l2: 2.82455e+06\ttraining's l1: 993.592\tvalid_1's l2: 1.99353e+07\tvalid_1's l1: 1314.73\n",
      "[3000]\ttraining's l2: 2.56033e+06\ttraining's l1: 947.501\tvalid_1's l2: 1.9695e+07\tvalid_1's l1: 1281.2\n",
      "[3200]\ttraining's l2: 2.34109e+06\ttraining's l1: 909.522\tvalid_1's l2: 1.95407e+07\tvalid_1's l1: 1254.71\n",
      "[3400]\ttraining's l2: 2.14056e+06\ttraining's l1: 871.135\tvalid_1's l2: 1.93843e+07\tvalid_1's l1: 1226.83\n",
      "[3600]\ttraining's l2: 1.97296e+06\ttraining's l1: 838.487\tvalid_1's l2: 1.92605e+07\tvalid_1's l1: 1204.24\n",
      "[3800]\ttraining's l2: 1.82366e+06\ttraining's l1: 807.494\tvalid_1's l2: 1.91265e+07\tvalid_1's l1: 1183.49\n",
      "[4000]\ttraining's l2: 1.69375e+06\ttraining's l1: 779.944\tvalid_1's l2: 1.90433e+07\tvalid_1's l1: 1166.39\n",
      "[4200]\ttraining's l2: 1.57861e+06\ttraining's l1: 753.83\tvalid_1's l2: 1.8937e+07\tvalid_1's l1: 1149.29\n",
      "[4400]\ttraining's l2: 1.46374e+06\ttraining's l1: 726.766\tvalid_1's l2: 1.88653e+07\tvalid_1's l1: 1130.28\n",
      "[4600]\ttraining's l2: 1.36939e+06\ttraining's l1: 703.91\tvalid_1's l2: 1.88109e+07\tvalid_1's l1: 1115.81\n",
      "[4800]\ttraining's l2: 1.29164e+06\ttraining's l1: 685.016\tvalid_1's l2: 1.87753e+07\tvalid_1's l1: 1105.59\n",
      "[5000]\ttraining's l2: 1.21788e+06\ttraining's l1: 667.086\tvalid_1's l2: 1.8729e+07\tvalid_1's l1: 1096.34\n",
      "Did not meet early stopping. Best iteration is:\n",
      "[5000]\ttraining's l2: 1.21788e+06\ttraining's l1: 667.086\tvalid_1's l2: 1.8729e+07\tvalid_1's l1: 1096.34\n",
      "processed: 115/594\n",
      "saving...\n",
      "(307511, 912)\n"
     ]
    },
    {
     "name": "stderr",
     "output_type": "stream",
     "text": [
      "\r",
      "115it [3:02:52, 95.41s/it]"
     ]
    },
    {
     "name": "stdout",
     "output_type": "stream",
     "text": [
      "start processing NAME_EDUCATION_TYPE_CODE_GENDER_AMT_GOODS_PRICE_max_abs_diff \n",
      "the na is:0.0007915678376443839\n",
      "(355973, 909)\n",
      "(282, 909)\n",
      "Training until validation scores don't improve for 100 rounds.\n",
      "[200]\ttraining's l2: 3.79865e+07\ttraining's l1: 3897.67\tvalid_1's l2: 4.02447e+07\tvalid_1's l1: 3940.9\n",
      "[400]\ttraining's l2: 1.91881e+07\ttraining's l1: 2705.03\tvalid_1's l2: 2.20145e+07\tvalid_1's l1: 2772.55\n",
      "[600]\ttraining's l2: 1.26382e+07\ttraining's l1: 2174.33\tvalid_1's l2: 1.59813e+07\tvalid_1's l1: 2267.08\n",
      "[800]\ttraining's l2: 9.3223e+06\ttraining's l1: 1846.39\tvalid_1's l2: 1.3065e+07\tvalid_1's l1: 1961.86\n",
      "[1000]\ttraining's l2: 7.29186e+06\ttraining's l1: 1631.5\tvalid_1's l2: 1.12368e+07\tvalid_1's l1: 1763.31\n",
      "[1200]\ttraining's l2: 5.83759e+06\ttraining's l1: 1456.66\tvalid_1's l2: 9.96815e+06\tvalid_1's l1: 1603.19\n",
      "[1400]\ttraining's l2: 4.86556e+06\ttraining's l1: 1328.11\tvalid_1's l2: 9.1048e+06\tvalid_1's l1: 1487.3\n",
      "[1600]\ttraining's l2: 4.16479e+06\ttraining's l1: 1219.95\tvalid_1's l2: 8.50603e+06\tvalid_1's l1: 1392.03\n",
      "[1800]\ttraining's l2: 3.61342e+06\ttraining's l1: 1134.63\tvalid_1's l2: 8.01309e+06\tvalid_1's l1: 1317.32\n",
      "[2000]\ttraining's l2: 3.16834e+06\ttraining's l1: 1060.34\tvalid_1's l2: 7.6407e+06\tvalid_1's l1: 1254.6\n",
      "[2200]\ttraining's l2: 2.82347e+06\ttraining's l1: 999.096\tvalid_1's l2: 7.3725e+06\tvalid_1's l1: 1205.28\n",
      "[2400]\ttraining's l2: 2.50356e+06\ttraining's l1: 939.64\tvalid_1's l2: 7.1091e+06\tvalid_1's l1: 1155.69\n",
      "[2600]\ttraining's l2: 2.28567e+06\ttraining's l1: 898.56\tvalid_1's l2: 6.95358e+06\tvalid_1's l1: 1126.38\n",
      "[2800]\ttraining's l2: 2.08589e+06\ttraining's l1: 858.466\tvalid_1's l2: 6.80823e+06\tvalid_1's l1: 1096.09\n",
      "[3000]\ttraining's l2: 1.87762e+06\ttraining's l1: 814.944\tvalid_1's l2: 6.62979e+06\tvalid_1's l1: 1060.31\n",
      "[3200]\ttraining's l2: 1.73067e+06\ttraining's l1: 783.127\tvalid_1's l2: 6.52885e+06\tvalid_1's l1: 1038.71\n",
      "[3400]\ttraining's l2: 1.60173e+06\ttraining's l1: 754.471\tvalid_1's l2: 6.42793e+06\tvalid_1's l1: 1018.35\n",
      "[3600]\ttraining's l2: 1.47484e+06\ttraining's l1: 724.213\tvalid_1's l2: 6.33478e+06\tvalid_1's l1: 996.63\n",
      "[3800]\ttraining's l2: 1.36853e+06\ttraining's l1: 699.026\tvalid_1's l2: 6.2607e+06\tvalid_1's l1: 979.028\n",
      "[4000]\ttraining's l2: 1.26995e+06\ttraining's l1: 673.824\tvalid_1's l2: 6.18278e+06\tvalid_1's l1: 962.024\n",
      "[4200]\ttraining's l2: 1.19084e+06\ttraining's l1: 653.316\tvalid_1's l2: 6.13328e+06\tvalid_1's l1: 949.05\n",
      "[4400]\ttraining's l2: 1.1108e+06\ttraining's l1: 632.26\tvalid_1's l2: 6.07977e+06\tvalid_1's l1: 935.023\n",
      "[4600]\ttraining's l2: 1.03732e+06\ttraining's l1: 611.797\tvalid_1's l2: 6.01692e+06\tvalid_1's l1: 921.088\n",
      "[4800]\ttraining's l2: 983016\ttraining's l1: 597.41\tvalid_1's l2: 5.9871e+06\tvalid_1's l1: 914.293\n",
      "[5000]\ttraining's l2: 918812\ttraining's l1: 578.09\tvalid_1's l2: 5.93411e+06\tvalid_1's l1: 900.794\n",
      "Did not meet early stopping. Best iteration is:\n",
      "[5000]\ttraining's l2: 918812\ttraining's l1: 578.09\tvalid_1's l2: 5.93411e+06\tvalid_1's l1: 900.794\n",
      "processed: 116/594\n",
      "saving...\n",
      "(307511, 912)\n"
     ]
    },
    {
     "name": "stderr",
     "output_type": "stream",
     "text": [
      "\r",
      "116it [3:04:54, 95.64s/it]"
     ]
    },
    {
     "name": "stdout",
     "output_type": "stream",
     "text": [
      "start processing NAME_FAMILY_STATUS_CODE_GENDER_AMT_GOODS_PRICE_mean_diff \n",
      "the na is:0.0007915678376443839\n",
      "(355973, 909)\n",
      "(282, 909)\n",
      "Training until validation scores don't improve for 100 rounds.\n",
      "[200]\ttraining's l2: 1.26641e+07\ttraining's l1: 2157.34\tvalid_1's l2: 1.61547e+07\tvalid_1's l1: 2189.71\n",
      "[400]\ttraining's l2: 6.18393e+06\ttraining's l1: 1491.6\tvalid_1's l2: 9.99924e+06\tvalid_1's l1: 1542.4\n",
      "[600]\ttraining's l2: 4.0122e+06\ttraining's l1: 1196.93\tvalid_1's l2: 8.0172e+06\tvalid_1's l1: 1260.9\n",
      "[800]\ttraining's l2: 2.92742e+06\ttraining's l1: 1009.42\tvalid_1's l2: 7.11373e+06\tvalid_1's l1: 1083.17\n",
      "[1000]\ttraining's l2: 2.26499e+06\ttraining's l1: 881.465\tvalid_1's l2: 6.57248e+06\tvalid_1's l1: 963.142\n",
      "[1200]\ttraining's l2: 1.81212e+06\ttraining's l1: 779.631\tvalid_1's l2: 6.16554e+06\tvalid_1's l1: 869.109\n",
      "[1400]\ttraining's l2: 1.51063e+06\ttraining's l1: 710.199\tvalid_1's l2: 5.94639e+06\tvalid_1's l1: 808.973\n",
      "[1600]\ttraining's l2: 1.2748e+06\ttraining's l1: 649.873\tvalid_1's l2: 5.75843e+06\tvalid_1's l1: 756.513\n",
      "[1800]\ttraining's l2: 1.10268e+06\ttraining's l1: 604.76\tvalid_1's l2: 5.64438e+06\tvalid_1's l1: 718.872\n",
      "[2000]\ttraining's l2: 971548\ttraining's l1: 566.324\tvalid_1's l2: 5.54979e+06\tvalid_1's l1: 687.06\n",
      "[2200]\ttraining's l2: 863601\ttraining's l1: 534.218\tvalid_1's l2: 5.45661e+06\tvalid_1's l1: 662.145\n",
      "[2400]\ttraining's l2: 768171\ttraining's l1: 501.944\tvalid_1's l2: 5.38545e+06\tvalid_1's l1: 634.81\n",
      "[2600]\ttraining's l2: 697080\ttraining's l1: 477.774\tvalid_1's l2: 5.34439e+06\tvalid_1's l1: 615.989\n",
      "[2800]\ttraining's l2: 624308\ttraining's l1: 450.914\tvalid_1's l2: 5.28709e+06\tvalid_1's l1: 594.277\n",
      "[3000]\ttraining's l2: 569628\ttraining's l1: 430.445\tvalid_1's l2: 5.25174e+06\tvalid_1's l1: 578.598\n",
      "[3200]\ttraining's l2: 520100\ttraining's l1: 412.349\tvalid_1's l2: 5.21071e+06\tvalid_1's l1: 565.318\n",
      "[3400]\ttraining's l2: 473329\ttraining's l1: 393.692\tvalid_1's l2: 5.17026e+06\tvalid_1's l1: 551.205\n",
      "[3600]\ttraining's l2: 436362\ttraining's l1: 378.546\tvalid_1's l2: 5.14369e+06\tvalid_1's l1: 540.78\n",
      "[3800]\ttraining's l2: 403799\ttraining's l1: 365.202\tvalid_1's l2: 5.12118e+06\tvalid_1's l1: 532.411\n",
      "[4000]\ttraining's l2: 377727\ttraining's l1: 353.687\tvalid_1's l2: 5.10209e+06\tvalid_1's l1: 524.929\n",
      "[4200]\ttraining's l2: 350837\ttraining's l1: 340.991\tvalid_1's l2: 5.08362e+06\tvalid_1's l1: 515.788\n",
      "[4400]\ttraining's l2: 327662\ttraining's l1: 329.966\tvalid_1's l2: 5.06951e+06\tvalid_1's l1: 508.62\n",
      "[4600]\ttraining's l2: 306827\ttraining's l1: 319.694\tvalid_1's l2: 5.05728e+06\tvalid_1's l1: 502.144\n",
      "[4800]\ttraining's l2: 289689\ttraining's l1: 311.622\tvalid_1's l2: 5.0452e+06\tvalid_1's l1: 497.631\n",
      "[5000]\ttraining's l2: 269256\ttraining's l1: 301\tvalid_1's l2: 5.03037e+06\tvalid_1's l1: 489.957\n",
      "Did not meet early stopping. Best iteration is:\n",
      "[5000]\ttraining's l2: 269256\ttraining's l1: 301\tvalid_1's l2: 5.03037e+06\tvalid_1's l1: 489.957\n",
      "processed: 117/594\n",
      "saving...\n",
      "(307511, 912)\n"
     ]
    },
    {
     "name": "stderr",
     "output_type": "stream",
     "text": [
      "\r",
      "117it [3:06:55, 95.86s/it]"
     ]
    },
    {
     "name": "stdout",
     "output_type": "stream",
     "text": [
      "start processing NAME_EDUCATION_TYPE_CODE_GENDER_AMT_GOODS_PRICE_mean_abs_diff \n",
      "the na is:0.0007915678376443839\n",
      "(355973, 909)\n",
      "(282, 909)\n",
      "Training until validation scores don't improve for 100 rounds.\n",
      "[200]\ttraining's l2: 1.90214e+07\ttraining's l1: 2721.36\tvalid_1's l2: 2.52984e+07\tvalid_1's l1: 2789.32\n",
      "[400]\ttraining's l2: 9.54385e+06\ttraining's l1: 1906.45\tvalid_1's l2: 1.60442e+07\tvalid_1's l1: 1979.39\n",
      "[600]\ttraining's l2: 6.33173e+06\ttraining's l1: 1542.55\tvalid_1's l2: 1.28651e+07\tvalid_1's l1: 1624.83\n",
      "[800]\ttraining's l2: 4.66892e+06\ttraining's l1: 1320.03\tvalid_1's l2: 1.11916e+07\tvalid_1's l1: 1413.97\n",
      "[1000]\ttraining's l2: 3.6494e+06\ttraining's l1: 1159.43\tvalid_1's l2: 1.0252e+07\tvalid_1's l1: 1262.32\n",
      "[1200]\ttraining's l2: 2.96878e+06\ttraining's l1: 1039.11\tvalid_1's l2: 9.56902e+06\tvalid_1's l1: 1150.4\n",
      "[1400]\ttraining's l2: 2.49484e+06\ttraining's l1: 947.484\tvalid_1's l2: 9.18992e+06\tvalid_1's l1: 1066.94\n",
      "[1600]\ttraining's l2: 2.14633e+06\ttraining's l1: 874.415\tvalid_1's l2: 8.89493e+06\tvalid_1's l1: 1001.58\n",
      "[1800]\ttraining's l2: 1.90677e+06\ttraining's l1: 821.589\tvalid_1's l2: 8.70873e+06\tvalid_1's l1: 957.953\n",
      "[2000]\ttraining's l2: 1.66826e+06\ttraining's l1: 768.721\tvalid_1's l2: 8.49311e+06\tvalid_1's l1: 911.604\n",
      "[2200]\ttraining's l2: 1.48786e+06\ttraining's l1: 723.14\tvalid_1's l2: 8.32775e+06\tvalid_1's l1: 872.718\n",
      "[2400]\ttraining's l2: 1.36034e+06\ttraining's l1: 690.694\tvalid_1's l2: 8.24317e+06\tvalid_1's l1: 848.472\n",
      "[2600]\ttraining's l2: 1.24019e+06\ttraining's l1: 657.67\tvalid_1's l2: 8.1532e+06\tvalid_1's l1: 821.433\n",
      "[2800]\ttraining's l2: 1.12435e+06\ttraining's l1: 626.023\tvalid_1's l2: 8.06664e+06\tvalid_1's l1: 796.992\n",
      "[3000]\ttraining's l2: 1.03284e+06\ttraining's l1: 598.76\tvalid_1's l2: 7.99873e+06\tvalid_1's l1: 775.746\n",
      "[3200]\ttraining's l2: 952116\ttraining's l1: 574.411\tvalid_1's l2: 7.92255e+06\tvalid_1's l1: 757.34\n",
      "[3400]\ttraining's l2: 876656\ttraining's l1: 550.389\tvalid_1's l2: 7.87423e+06\tvalid_1's l1: 738.835\n",
      "[3600]\ttraining's l2: 818211\ttraining's l1: 530.597\tvalid_1's l2: 7.82862e+06\tvalid_1's l1: 724.927\n",
      "[3800]\ttraining's l2: 766489\ttraining's l1: 513.942\tvalid_1's l2: 7.79542e+06\tvalid_1's l1: 714.792\n",
      "[4000]\ttraining's l2: 713582\ttraining's l1: 496.555\tvalid_1's l2: 7.76613e+06\tvalid_1's l1: 703.456\n",
      "[4200]\ttraining's l2: 659933\ttraining's l1: 477.522\tvalid_1's l2: 7.71107e+06\tvalid_1's l1: 689.116\n",
      "[4400]\ttraining's l2: 620905\ttraining's l1: 464.767\tvalid_1's l2: 7.68091e+06\tvalid_1's l1: 681.638\n",
      "[4600]\ttraining's l2: 581215\ttraining's l1: 450.177\tvalid_1's l2: 7.65413e+06\tvalid_1's l1: 672.183\n",
      "[4800]\ttraining's l2: 548119\ttraining's l1: 437.476\tvalid_1's l2: 7.63288e+06\tvalid_1's l1: 664.599\n",
      "[5000]\ttraining's l2: 516729\ttraining's l1: 424.913\tvalid_1's l2: 7.61318e+06\tvalid_1's l1: 656.965\n",
      "Did not meet early stopping. Best iteration is:\n",
      "[5000]\ttraining's l2: 516729\ttraining's l1: 424.913\tvalid_1's l2: 7.61318e+06\tvalid_1's l1: 656.965\n",
      "processed: 118/594\n",
      "saving...\n",
      "(307511, 912)\n"
     ]
    },
    {
     "name": "stderr",
     "output_type": "stream",
     "text": [
      "\r",
      "118it [3:08:55, 96.06s/it]"
     ]
    },
    {
     "name": "stdout",
     "output_type": "stream",
     "text": [
      "start processing NAME_FAMILY_STATUS_CODE_GENDER_AMT_GOODS_PRICE_mean_abs_diff \n",
      "the na is:0.0007915678376443839\n",
      "(355973, 909)\n",
      "(282, 909)\n",
      "Training until validation scores don't improve for 100 rounds.\n",
      "[200]\ttraining's l2: 1.58081e+07\ttraining's l1: 2402.88\tvalid_1's l2: 2.40246e+07\tvalid_1's l1: 2458.25\n",
      "[400]\ttraining's l2: 7.86948e+06\ttraining's l1: 1686.11\tvalid_1's l2: 1.55393e+07\tvalid_1's l1: 1755.81\n",
      "[600]\ttraining's l2: 5.10249e+06\ttraining's l1: 1341.63\tvalid_1's l2: 1.28406e+07\tvalid_1's l1: 1424.27\n",
      "[800]\ttraining's l2: 3.70578e+06\ttraining's l1: 1146.06\tvalid_1's l2: 1.15059e+07\tvalid_1's l1: 1242.91\n",
      "[1000]\ttraining's l2: 2.89409e+06\ttraining's l1: 1007.77\tvalid_1's l2: 1.07255e+07\tvalid_1's l1: 1115.83\n",
      "[1200]\ttraining's l2: 2.34319e+06\ttraining's l1: 900.786\tvalid_1's l2: 1.02432e+07\tvalid_1's l1: 1018.7\n",
      "[1400]\ttraining's l2: 1.95976e+06\ttraining's l1: 823.848\tvalid_1's l2: 9.97746e+06\tvalid_1's l1: 952.53\n",
      "[1600]\ttraining's l2: 1.68645e+06\ttraining's l1: 764.229\tvalid_1's l2: 9.787e+06\tvalid_1's l1: 903.763\n",
      "[1800]\ttraining's l2: 1.46724e+06\ttraining's l1: 710.158\tvalid_1's l2: 9.61023e+06\tvalid_1's l1: 858.561\n",
      "[2000]\ttraining's l2: 1.30051e+06\ttraining's l1: 668.696\tvalid_1's l2: 9.48433e+06\tvalid_1's l1: 824.955\n",
      "[2200]\ttraining's l2: 1.16695e+06\ttraining's l1: 632.342\tvalid_1's l2: 9.39015e+06\tvalid_1's l1: 795.927\n",
      "[2400]\ttraining's l2: 1.05131e+06\ttraining's l1: 599.203\tvalid_1's l2: 9.29884e+06\tvalid_1's l1: 769.297\n",
      "[2600]\ttraining's l2: 951781\ttraining's l1: 569.151\tvalid_1's l2: 9.2248e+06\tvalid_1's l1: 745.522\n",
      "[2800]\ttraining's l2: 876353\ttraining's l1: 546.347\tvalid_1's l2: 9.17269e+06\tvalid_1's l1: 729.134\n",
      "[3000]\ttraining's l2: 794473\ttraining's l1: 519.6\tvalid_1's l2: 9.10962e+06\tvalid_1's l1: 707.185\n",
      "[3200]\ttraining's l2: 732067\ttraining's l1: 498.306\tvalid_1's l2: 9.05284e+06\tvalid_1's l1: 691.503\n",
      "[3400]\ttraining's l2: 675617\ttraining's l1: 477.658\tvalid_1's l2: 9.01343e+06\tvalid_1's l1: 675.844\n",
      "[3600]\ttraining's l2: 628799\ttraining's l1: 462.016\tvalid_1's l2: 8.99229e+06\tvalid_1's l1: 665.842\n",
      "[3800]\ttraining's l2: 584818\ttraining's l1: 445.975\tvalid_1's l2: 8.96231e+06\tvalid_1's l1: 655.107\n",
      "[4000]\ttraining's l2: 545853\ttraining's l1: 431.488\tvalid_1's l2: 8.93852e+06\tvalid_1's l1: 645.757\n",
      "[4200]\ttraining's l2: 512955\ttraining's l1: 417.385\tvalid_1's l2: 8.92013e+06\tvalid_1's l1: 635.951\n",
      "[4400]\ttraining's l2: 480497\ttraining's l1: 404.058\tvalid_1's l2: 8.90198e+06\tvalid_1's l1: 626.938\n",
      "[4600]\ttraining's l2: 452367\ttraining's l1: 393.422\tvalid_1's l2: 8.88473e+06\tvalid_1's l1: 621.609\n",
      "[4800]\ttraining's l2: 425931\ttraining's l1: 381.847\tvalid_1's l2: 8.87024e+06\tvalid_1's l1: 614.765\n",
      "[5000]\ttraining's l2: 400167\ttraining's l1: 370.327\tvalid_1's l2: 8.85048e+06\tvalid_1's l1: 607.056\n",
      "Did not meet early stopping. Best iteration is:\n",
      "[5000]\ttraining's l2: 400167\ttraining's l1: 370.327\tvalid_1's l2: 8.85048e+06\tvalid_1's l1: 607.056\n",
      "processed: 119/594\n",
      "saving...\n",
      "(307511, 912)\n"
     ]
    },
    {
     "name": "stderr",
     "output_type": "stream",
     "text": [
      "\r",
      "119it [3:10:56, 96.27s/it]"
     ]
    },
    {
     "name": "stdout",
     "output_type": "stream",
     "text": [
      "start processing EXT_SOURCE_2_x \n",
      "the na is:0.0018750614026469803\n",
      "(355587, 909)\n",
      "(668, 909)\n",
      "Training until validation scores don't improve for 100 rounds.\n",
      "[200]\ttraining's l2: 7.59848e-07\ttraining's l1: 0.000662512\tvalid_1's l2: 8.01646e-07\tvalid_1's l1: 0.00067147\n",
      "[400]\ttraining's l2: 5.18183e-07\ttraining's l1: 0.000551079\tvalid_1's l2: 5.78454e-07\tvalid_1's l1: 0.000564734\n",
      "[600]\ttraining's l2: 3.59408e-07\ttraining's l1: 0.000458698\tvalid_1's l2: 4.31961e-07\tvalid_1's l1: 0.00047662\n",
      "[800]\ttraining's l2: 2.78361e-07\ttraining's l1: 0.000400405\tvalid_1's l2: 3.57761e-07\tvalid_1's l1: 0.000421774\n",
      "[1000]\ttraining's l2: 2.28066e-07\ttraining's l1: 0.000363181\tvalid_1's l2: 3.12068e-07\tvalid_1's l1: 0.000388125\n",
      "[1200]\ttraining's l2: 1.98831e-07\ttraining's l1: 0.000338661\tvalid_1's l2: 2.87803e-07\tvalid_1's l1: 0.000367146\n",
      "[1400]\ttraining's l2: 1.73626e-07\ttraining's l1: 0.000315373\tvalid_1's l2: 2.66257e-07\tvalid_1's l1: 0.000346986\n",
      "[1600]\ttraining's l2: 1.54469e-07\ttraining's l1: 0.000297448\tvalid_1's l2: 2.49884e-07\tvalid_1's l1: 0.000332224\n",
      "[1800]\ttraining's l2: 1.39087e-07\ttraining's l1: 0.000281794\tvalid_1's l2: 2.37287e-07\tvalid_1's l1: 0.000319531\n",
      "[2000]\ttraining's l2: 1.28951e-07\ttraining's l1: 0.000271426\tvalid_1's l2: 2.30424e-07\tvalid_1's l1: 0.000312016\n",
      "[2200]\ttraining's l2: 1.16744e-07\ttraining's l1: 0.000257385\tvalid_1's l2: 2.20921e-07\tvalid_1's l1: 0.000300598\n",
      "[2400]\ttraining's l2: 1.06897e-07\ttraining's l1: 0.000246184\tvalid_1's l2: 2.12926e-07\tvalid_1's l1: 0.000291774\n",
      "[2600]\ttraining's l2: 1.0172e-07\ttraining's l1: 0.00024068\tvalid_1's l2: 2.1034e-07\tvalid_1's l1: 0.00028921\n",
      "[2800]\ttraining's l2: 9.65821e-08\ttraining's l1: 0.000234465\tvalid_1's l2: 2.07719e-07\tvalid_1's l1: 0.000285661\n",
      "[3000]\ttraining's l2: 9.10242e-08\ttraining's l1: 0.000227353\tvalid_1's l2: 2.0393e-07\tvalid_1's l1: 0.000281025\n",
      "[3200]\ttraining's l2: 8.39633e-08\ttraining's l1: 0.000218767\tvalid_1's l2: 1.97814e-07\tvalid_1's l1: 0.0002744\n",
      "[3400]\ttraining's l2: 7.9796e-08\ttraining's l1: 0.000212546\tvalid_1's l2: 1.95485e-07\tvalid_1's l1: 0.000270542\n",
      "[3600]\ttraining's l2: 7.58271e-08\ttraining's l1: 0.000207641\tvalid_1's l2: 1.93094e-07\tvalid_1's l1: 0.000267917\n",
      "[3800]\ttraining's l2: 7.2265e-08\ttraining's l1: 0.000202342\tvalid_1's l2: 1.91048e-07\tvalid_1's l1: 0.000264753\n",
      "[4000]\ttraining's l2: 6.87623e-08\ttraining's l1: 0.000197211\tvalid_1's l2: 1.88905e-07\tvalid_1's l1: 0.00026179\n",
      "[4200]\ttraining's l2: 6.48887e-08\ttraining's l1: 0.000191616\tvalid_1's l2: 1.85711e-07\tvalid_1's l1: 0.000257859\n",
      "[4400]\ttraining's l2: 6.27221e-08\ttraining's l1: 0.000188503\tvalid_1's l2: 1.85192e-07\tvalid_1's l1: 0.000256954\n",
      "[4600]\ttraining's l2: 6.06711e-08\ttraining's l1: 0.00018566\tvalid_1's l2: 1.84639e-07\tvalid_1's l1: 0.000256299\n",
      "[4800]\ttraining's l2: 5.7899e-08\ttraining's l1: 0.000181308\tvalid_1's l2: 1.82938e-07\tvalid_1's l1: 0.000254044\n",
      "[5000]\ttraining's l2: 5.56221e-08\ttraining's l1: 0.000177892\tvalid_1's l2: 1.81855e-07\tvalid_1's l1: 0.000252545\n",
      "Did not meet early stopping. Best iteration is:\n",
      "[5000]\ttraining's l2: 5.56221e-08\ttraining's l1: 0.000177892\tvalid_1's l2: 1.81855e-07\tvalid_1's l1: 0.000252545\n",
      "processed: 120/594\n",
      "saving...\n",
      "(307511, 912)\n"
     ]
    },
    {
     "name": "stderr",
     "output_type": "stream",
     "text": [
      "\r",
      "120it [3:12:52, 96.43s/it]"
     ]
    },
    {
     "name": "stdout",
     "output_type": "stream",
     "text": [
      "start processing EXT_SOURCE_2 \n",
      "the na is:0.0018750614026469803\n",
      "(355587, 909)\n",
      "(668, 909)\n",
      "Training until validation scores don't improve for 100 rounds.\n",
      "[200]\ttraining's l2: 7.07376e-07\ttraining's l1: 0.000638752\tvalid_1's l2: 7.29693e-07\tvalid_1's l1: 0.00064642\n",
      "[400]\ttraining's l2: 4.6195e-07\ttraining's l1: 0.000522348\tvalid_1's l2: 5.04045e-07\tvalid_1's l1: 0.000534429\n",
      "[600]\ttraining's l2: 3.51453e-07\ttraining's l1: 0.000451219\tvalid_1's l2: 4.06606e-07\tvalid_1's l1: 0.000468275\n",
      "[800]\ttraining's l2: 2.89138e-07\ttraining's l1: 0.000408421\tvalid_1's l2: 3.52728e-07\tvalid_1's l1: 0.00042998\n",
      "[1000]\ttraining's l2: 2.27831e-07\ttraining's l1: 0.000362648\tvalid_1's l2: 2.95564e-07\tvalid_1's l1: 0.000387203\n",
      "[1200]\ttraining's l2: 1.94945e-07\ttraining's l1: 0.000335376\tvalid_1's l2: 2.66902e-07\tvalid_1's l1: 0.000363041\n",
      "[1400]\ttraining's l2: 1.74913e-07\ttraining's l1: 0.000317064\tvalid_1's l2: 2.5083e-07\tvalid_1's l1: 0.000347928\n",
      "[1600]\ttraining's l2: 1.56912e-07\ttraining's l1: 0.000299331\tvalid_1's l2: 2.36548e-07\tvalid_1's l1: 0.000333391\n",
      "[1800]\ttraining's l2: 1.41912e-07\ttraining's l1: 0.000284339\tvalid_1's l2: 2.25307e-07\tvalid_1's l1: 0.000321636\n",
      "[2000]\ttraining's l2: 1.30829e-07\ttraining's l1: 0.000272961\tvalid_1's l2: 2.17595e-07\tvalid_1's l1: 0.000313392\n",
      "[2200]\ttraining's l2: 1.19362e-07\ttraining's l1: 0.000259814\tvalid_1's l2: 2.08762e-07\tvalid_1's l1: 0.000302737\n",
      "[2400]\ttraining's l2: 1.12741e-07\ttraining's l1: 0.000252505\tvalid_1's l2: 2.04717e-07\tvalid_1's l1: 0.000298361\n",
      "[2600]\ttraining's l2: 1.05885e-07\ttraining's l1: 0.000244751\tvalid_1's l2: 2.00373e-07\tvalid_1's l1: 0.000293344\n",
      "[2800]\ttraining's l2: 9.87592e-08\ttraining's l1: 0.000236207\tvalid_1's l2: 1.95129e-07\tvalid_1's l1: 0.000287215\n",
      "[3000]\ttraining's l2: 9.09315e-08\ttraining's l1: 0.000226417\tvalid_1's l2: 1.88683e-07\tvalid_1's l1: 0.000279422\n",
      "[3200]\ttraining's l2: 8.63293e-08\ttraining's l1: 0.000220273\tvalid_1's l2: 1.86045e-07\tvalid_1's l1: 0.000275764\n",
      "[3400]\ttraining's l2: 8.22692e-08\ttraining's l1: 0.000215104\tvalid_1's l2: 1.84183e-07\tvalid_1's l1: 0.000273048\n",
      "[3600]\ttraining's l2: 7.76177e-08\ttraining's l1: 0.000208701\tvalid_1's l2: 1.80737e-07\tvalid_1's l1: 0.000268726\n",
      "[3800]\ttraining's l2: 7.36482e-08\ttraining's l1: 0.000203703\tvalid_1's l2: 1.78302e-07\tvalid_1's l1: 0.000265853\n",
      "[4000]\ttraining's l2: 7.03897e-08\ttraining's l1: 0.000199219\tvalid_1's l2: 1.763e-07\tvalid_1's l1: 0.000263508\n",
      "[4200]\ttraining's l2: 6.75674e-08\ttraining's l1: 0.000195005\tvalid_1's l2: 1.75033e-07\tvalid_1's l1: 0.000261532\n",
      "[4400]\ttraining's l2: 6.41611e-08\ttraining's l1: 0.000190184\tvalid_1's l2: 1.72571e-07\tvalid_1's l1: 0.000258576\n",
      "[4600]\ttraining's l2: 6.15698e-08\ttraining's l1: 0.0001864\tvalid_1's l2: 1.7136e-07\tvalid_1's l1: 0.000256888\n",
      "[4800]\ttraining's l2: 5.8687e-08\ttraining's l1: 0.000182002\tvalid_1's l2: 1.69335e-07\tvalid_1's l1: 0.000254364\n",
      "[5000]\ttraining's l2: 5.61904e-08\ttraining's l1: 0.000178075\tvalid_1's l2: 1.68052e-07\tvalid_1's l1: 0.000252354\n",
      "Did not meet early stopping. Best iteration is:\n",
      "[5000]\ttraining's l2: 5.61904e-08\ttraining's l1: 0.000178075\tvalid_1's l2: 1.68052e-07\tvalid_1's l1: 0.000252354\n",
      "processed: 121/594\n",
      "saving...\n",
      "(307511, 912)\n"
     ]
    },
    {
     "name": "stderr",
     "output_type": "stream",
     "text": [
      "\r",
      "121it [3:14:49, 96.61s/it]"
     ]
    },
    {
     "name": "stdout",
     "output_type": "stream",
     "text": [
      "start processing Wei_EXT_SOURCE_2_x==DEVIDE==AMT_CREDIT \n",
      "the na is:0.0018750614026469803\n",
      "(355587, 909)\n",
      "(668, 909)\n",
      "Training until validation scores don't improve for 100 rounds.\n",
      "[200]\ttraining's l2: 1.35689e-15\ttraining's l1: 2.32684e-08\tvalid_1's l2: 1.59237e-15\tvalid_1's l1: 2.39794e-08\n",
      "[400]\ttraining's l2: 8.99678e-16\ttraining's l1: 1.93588e-08\tvalid_1's l2: 1.23064e-15\tvalid_1's l1: 2.05113e-08\n",
      "[600]\ttraining's l2: 6.79729e-16\ttraining's l1: 1.71195e-08\tvalid_1's l2: 1.06766e-15\tvalid_1's l1: 1.86169e-08\n",
      "[800]\ttraining's l2: 5.39878e-16\ttraining's l1: 1.55333e-08\tvalid_1's l2: 9.56818e-16\tvalid_1's l1: 1.72604e-08\n",
      "[1000]\ttraining's l2: 4.53834e-16\ttraining's l1: 1.42925e-08\tvalid_1's l2: 8.95075e-16\tvalid_1's l1: 1.62444e-08\n",
      "[1200]\ttraining's l2: 3.8852e-16\ttraining's l1: 1.32897e-08\tvalid_1's l2: 8.46795e-16\tvalid_1's l1: 1.54204e-08\n",
      "[1400]\ttraining's l2: 3.3984e-16\ttraining's l1: 1.25243e-08\tvalid_1's l2: 8.11079e-16\tvalid_1's l1: 1.48329e-08\n",
      "[1600]\ttraining's l2: 3.04026e-16\ttraining's l1: 1.19367e-08\tvalid_1's l2: 7.88195e-16\tvalid_1's l1: 1.44052e-08\n",
      "[1800]\ttraining's l2: 2.70372e-16\ttraining's l1: 1.13105e-08\tvalid_1's l2: 7.62512e-16\tvalid_1's l1: 1.39087e-08\n",
      "[2000]\ttraining's l2: 2.43175e-16\ttraining's l1: 1.07606e-08\tvalid_1's l2: 7.42597e-16\tvalid_1's l1: 1.35006e-08\n",
      "[2200]\ttraining's l2: 2.20252e-16\ttraining's l1: 1.02841e-08\tvalid_1's l2: 7.24147e-16\tvalid_1's l1: 1.3143e-08\n"
     ]
    },
    {
     "name": "stderr",
     "output_type": "stream",
     "text": [
      "IOPub message rate exceeded.\n",
      "The notebook server will temporarily stop sending output\n",
      "to the client in order to avoid crashing it.\n",
      "To change this limit, set the config variable\n",
      "`--NotebookApp.iopub_msg_rate_limit`.\n",
      "\n",
      "Current values:\n",
      "NotebookApp.iopub_msg_rate_limit=1000.0 (msgs/sec)\n",
      "NotebookApp.rate_limit_window=3.0 (secs)\n",
      "\n"
     ]
    },
    {
     "name": "stdout",
     "output_type": "stream",
     "text": [
      "[800]\ttraining's l2: 0.757589\ttraining's l1: 0.480678\tvalid_1's l2: 7.35672\tvalid_1's l1: 0.578063\n",
      "[1200]\ttraining's l2: 0.440626\ttraining's l1: 0.39466\tvalid_1's l2: 7.05976\tvalid_1's l1: 0.508066\n",
      "[1400]\ttraining's l2: 0.358753\ttraining's l1: 0.361641\tvalid_1's l2: 6.98965\tvalid_1's l1: 0.481647\n",
      "[1600]\ttraining's l2: 0.301023\ttraining's l1: 0.336155\tvalid_1's l2: 6.91415\tvalid_1's l1: 0.462204\n",
      "[1800]\ttraining's l2: 0.25442\ttraining's l1: 0.311758\tvalid_1's l2: 6.85616\tvalid_1's l1: 0.443183\n",
      "[2000]\ttraining's l2: 0.219296\ttraining's l1: 0.291136\tvalid_1's l2: 6.8112\tvalid_1's l1: 0.427089\n",
      "[2200]\ttraining's l2: 0.191572\ttraining's l1: 0.273617\tvalid_1's l2: 6.77932\tvalid_1's l1: 0.414169\n",
      "[2400]\ttraining's l2: 0.1696\ttraining's l1: 0.259358\tvalid_1's l2: 6.76403\tvalid_1's l1: 0.404161\n",
      "[2600]\ttraining's l2: 0.152137\ttraining's l1: 0.247404\tvalid_1's l2: 6.75339\tvalid_1's l1: 0.396211\n",
      "[2800]\ttraining's l2: 0.136771\ttraining's l1: 0.235845\tvalid_1's l2: 6.73842\tvalid_1's l1: 0.388099\n",
      "[3000]\ttraining's l2: 0.123813\ttraining's l1: 0.22556\tvalid_1's l2: 6.71559\tvalid_1's l1: 0.38127\n",
      "[3200]\ttraining's l2: 0.113014\ttraining's l1: 0.216477\tvalid_1's l2: 6.70346\tvalid_1's l1: 0.375429\n",
      "[3400]\ttraining's l2: 0.10365\ttraining's l1: 0.207795\tvalid_1's l2: 6.69846\tvalid_1's l1: 0.369604\n",
      "[3600]\ttraining's l2: 0.0952322\ttraining's l1: 0.199951\tvalid_1's l2: 6.68566\tvalid_1's l1: 0.364502\n",
      "[3800]\ttraining's l2: 0.088129\ttraining's l1: 0.193193\tvalid_1's l2: 6.68372\tvalid_1's l1: 0.360664\n",
      "[4000]\ttraining's l2: 0.0812931\ttraining's l1: 0.186188\tvalid_1's l2: 6.67688\tvalid_1's l1: 0.356183\n",
      "Early stopping, best iteration is:\n",
      "[4026]\ttraining's l2: 0.0804873\ttraining's l1: 0.185469\tvalid_1's l2: 6.67584\tvalid_1's l1: 0.355724\n",
      "processed: 257/594\n",
      "saving...\n",
      "(307511, 912)\n"
     ]
    },
    {
     "name": "stderr",
     "output_type": "stream",
     "text": [
      "\r",
      "257it [6:06:41, 85.61s/it]"
     ]
    },
    {
     "name": "stdout",
     "output_type": "stream",
     "text": [
      "start processing last_10_installment_paid_late_in_days_min \n",
      "the na is:0.04685127226284543\n",
      "(339564, 909)\n",
      "(16691, 909)\n",
      "Training until validation scores don't improve for 100 rounds.\n",
      "[200]\ttraining's l2: 1.39903\ttraining's l1: 0.67707\tvalid_1's l2: 2.3932\tvalid_1's l1: 0.714275\n",
      "[400]\ttraining's l2: 0.741873\ttraining's l1: 0.54908\tvalid_1's l2: 2.1131\tvalid_1's l1: 0.595484\n",
      "[600]\ttraining's l2: 0.521787\ttraining's l1: 0.480293\tvalid_1's l2: 1.96958\tvalid_1's l1: 0.533281\n",
      "[800]\ttraining's l2: 0.401043\ttraining's l1: 0.429179\tvalid_1's l2: 1.89205\tvalid_1's l1: 0.486646\n",
      "[1000]\ttraining's l2: 0.327536\ttraining's l1: 0.392974\tvalid_1's l2: 1.839\tvalid_1's l1: 0.454332\n",
      "[1200]\ttraining's l2: 0.277094\ttraining's l1: 0.36579\tvalid_1's l2: 1.81053\tvalid_1's l1: 0.43131\n",
      "[1400]\ttraining's l2: 0.240041\ttraining's l1: 0.342965\tvalid_1's l2: 1.77814\tvalid_1's l1: 0.412183\n",
      "[1600]\ttraining's l2: 0.211733\ttraining's l1: 0.324277\tvalid_1's l2: 1.7612\tvalid_1's l1: 0.396998\n",
      "[1800]\ttraining's l2: 0.189064\ttraining's l1: 0.308028\tvalid_1's l2: 1.74074\tvalid_1's l1: 0.384051\n",
      "[2000]\ttraining's l2: 0.170132\ttraining's l1: 0.294301\tvalid_1's l2: 1.72696\tvalid_1's l1: 0.373971\n",
      "[2200]\ttraining's l2: 0.154242\ttraining's l1: 0.281132\tvalid_1's l2: 1.71419\tvalid_1's l1: 0.363625\n",
      "[2400]\ttraining's l2: 0.141134\ttraining's l1: 0.270321\tvalid_1's l2: 1.70139\tvalid_1's l1: 0.355789\n",
      "[2600]\ttraining's l2: 0.129633\ttraining's l1: 0.259819\tvalid_1's l2: 1.69102\tvalid_1's l1: 0.348012\n",
      "[2800]\ttraining's l2: 0.119554\ttraining's l1: 0.250408\tvalid_1's l2: 1.68331\tvalid_1's l1: 0.341479\n",
      "[3000]\ttraining's l2: 0.111332\ttraining's l1: 0.242364\tvalid_1's l2: 1.67711\tvalid_1's l1: 0.336075\n",
      "[3200]\ttraining's l2: 0.103403\ttraining's l1: 0.233954\tvalid_1's l2: 1.67082\tvalid_1's l1: 0.329985\n",
      "[3400]\ttraining's l2: 0.0966148\ttraining's l1: 0.226783\tvalid_1's l2: 1.66649\tvalid_1's l1: 0.325025\n",
      "[3600]\ttraining's l2: 0.0904893\ttraining's l1: 0.219936\tvalid_1's l2: 1.66045\tvalid_1's l1: 0.320319\n",
      "[3800]\ttraining's l2: 0.085114\ttraining's l1: 0.213579\tvalid_1's l2: 1.65586\tvalid_1's l1: 0.316002\n",
      "[4000]\ttraining's l2: 0.0799684\ttraining's l1: 0.207377\tvalid_1's l2: 1.65125\tvalid_1's l1: 0.311782\n",
      "[4200]\ttraining's l2: 0.0755608\ttraining's l1: 0.201854\tvalid_1's l2: 1.64794\tvalid_1's l1: 0.308206\n",
      "[4400]\ttraining's l2: 0.0713176\ttraining's l1: 0.196424\tvalid_1's l2: 1.64539\tvalid_1's l1: 0.304683\n",
      "[4600]\ttraining's l2: 0.0675237\ttraining's l1: 0.191425\tvalid_1's l2: 1.64326\tvalid_1's l1: 0.301709\n",
      "[4800]\ttraining's l2: 0.0639856\ttraining's l1: 0.186697\tvalid_1's l2: 1.64068\tvalid_1's l1: 0.298942\n",
      "[5000]\ttraining's l2: 0.060818\ttraining's l1: 0.182226\tvalid_1's l2: 1.63811\tvalid_1's l1: 0.296209\n",
      "Did not meet early stopping. Best iteration is:\n",
      "[5000]\ttraining's l2: 0.060818\ttraining's l1: 0.182226\tvalid_1's l2: 1.63811\tvalid_1's l1: 0.296209\n",
      "processed: 258/594\n",
      "saving...\n",
      "(307511, 912)\n"
     ]
    },
    {
     "name": "stderr",
     "output_type": "stream",
     "text": [
      "\r",
      "258it [6:08:48, 85.77s/it]"
     ]
    },
    {
     "name": "stdout",
     "output_type": "stream",
     "text": [
      "start processing last_10_installment_paid_over_amount_median \n",
      "the na is:0.04685127226284543\n",
      "(339564, 909)\n",
      "(16691, 909)\n",
      "Training until validation scores don't improve for 100 rounds.\n",
      "[200]\ttraining's l2: 197217\ttraining's l1: 80.7887\tvalid_1's l2: 1.74584e+06\tvalid_1's l1: 113\n",
      "[400]\ttraining's l2: 98437.5\ttraining's l1: 60.734\tvalid_1's l2: 1.67175e+06\tvalid_1's l1: 104.117\n",
      "[600]\ttraining's l2: 59426.7\ttraining's l1: 50.1703\tvalid_1's l2: 1.64758e+06\tvalid_1's l1: 101.053\n",
      "[800]\ttraining's l2: 39878.1\ttraining's l1: 43.5988\tvalid_1's l2: 1.63733e+06\tvalid_1's l1: 99.6497\n",
      "[1000]\ttraining's l2: 28628.8\ttraining's l1: 38.6481\tvalid_1's l2: 1.63228e+06\tvalid_1's l1: 98.9609\n",
      "[1200]\ttraining's l2: 21561.3\ttraining's l1: 34.6749\tvalid_1's l2: 1.62877e+06\tvalid_1's l1: 98.254\n",
      "Early stopping, best iteration is:\n",
      "[1174]\ttraining's l2: 22259.9\ttraining's l1: 35.1544\tvalid_1's l2: 1.62859e+06\tvalid_1's l1: 98.2994\n",
      "processed: 259/594\n",
      "saving...\n",
      "(307511, 912)\n"
     ]
    },
    {
     "name": "stderr",
     "output_type": "stream",
     "text": [
      "\r",
      "259it [6:09:27, 85.59s/it]"
     ]
    },
    {
     "name": "stdout",
     "output_type": "stream",
     "text": [
      "start processing last_10_installment_paid_late_in_days_max \n",
      "the na is:0.04685127226284543\n",
      "(339564, 909)\n",
      "(16691, 909)\n",
      "Training until validation scores don't improve for 100 rounds.\n",
      "[200]\ttraining's l2: 2.69946\ttraining's l1: 0.754443\tvalid_1's l2: 21.0828\tvalid_1's l1: 0.848783\n",
      "[400]\ttraining's l2: 1.27072\ttraining's l1: 0.57302\tvalid_1's l2: 19.6835\tvalid_1's l1: 0.696146\n",
      "[600]\ttraining's l2: 0.814918\ttraining's l1: 0.484377\tvalid_1's l2: 19.3295\tvalid_1's l1: 0.623934\n",
      "[800]\ttraining's l2: 0.598262\ttraining's l1: 0.427825\tvalid_1's l2: 19.1888\tvalid_1's l1: 0.580399\n",
      "[1000]\ttraining's l2: 0.472414\ttraining's l1: 0.387918\tvalid_1's l2: 19.0992\tvalid_1's l1: 0.55068\n",
      "[1200]\ttraining's l2: 0.392098\ttraining's l1: 0.359137\tvalid_1's l2: 19.0553\tvalid_1's l1: 0.531014\n",
      "[1400]\ttraining's l2: 0.334298\ttraining's l1: 0.337054\tvalid_1's l2: 19.0334\tvalid_1's l1: 0.516216\n",
      "[1600]\ttraining's l2: 0.290302\ttraining's l1: 0.31803\tvalid_1's l2: 19.0127\tvalid_1's l1: 0.503635\n",
      "[1800]\ttraining's l2: 0.256064\ttraining's l1: 0.301915\tvalid_1's l2: 18.9941\tvalid_1's l1: 0.493601\n",
      "[2000]\ttraining's l2: 0.229539\ttraining's l1: 0.288053\tvalid_1's l2: 18.9786\tvalid_1's l1: 0.485305\n",
      "[2200]\ttraining's l2: 0.206787\ttraining's l1: 0.275841\tvalid_1's l2: 18.9661\tvalid_1's l1: 0.478393\n",
      "[2400]\ttraining's l2: 0.188433\ttraining's l1: 0.264966\tvalid_1's l2: 18.9491\tvalid_1's l1: 0.472282\n",
      "[2600]\ttraining's l2: 0.172652\ttraining's l1: 0.255078\tvalid_1's l2: 18.9381\tvalid_1's l1: 0.466719\n",
      "Early stopping, best iteration is:\n",
      "[2503]\ttraining's l2: 0.179929\ttraining's l1: 0.259757\tvalid_1's l2: 18.9363\tvalid_1's l1: 0.469291\n",
      "processed: 260/594\n",
      "saving...\n",
      "(307511, 912)\n"
     ]
    },
    {
     "name": "stderr",
     "output_type": "stream",
     "text": [
      "\r",
      "260it [6:10:37, 85.53s/it]"
     ]
    },
    {
     "name": "stdout",
     "output_type": "stream",
     "text": [
      "start processing last_10_installment_paid_late_in_days_mean \n",
      "the na is:0.04685127226284543\n",
      "(339564, 909)\n",
      "(16691, 909)\n",
      "Training until validation scores don't improve for 100 rounds.\n",
      "[200]\ttraining's l2: 0.853395\ttraining's l1: 0.350246\tvalid_1's l2: 4.76945\tvalid_1's l1: 0.385319\n",
      "[400]\ttraining's l2: 0.368981\ttraining's l1: 0.280826\tvalid_1's l2: 2.61088\tvalid_1's l1: 0.320978\n",
      "[600]\ttraining's l2: 0.211446\ttraining's l1: 0.241324\tvalid_1's l2: 1.87482\tvalid_1's l1: 0.285553\n",
      "[800]\ttraining's l2: 0.138431\ttraining's l1: 0.211441\tvalid_1's l2: 1.58905\tvalid_1's l1: 0.260171\n",
      "[1000]\ttraining's l2: 0.100941\ttraining's l1: 0.187484\tvalid_1's l2: 1.44172\tvalid_1's l1: 0.239196\n",
      "[1200]\ttraining's l2: 0.077782\ttraining's l1: 0.16924\tvalid_1's l2: 1.36543\tvalid_1's l1: 0.223325\n",
      "[1400]\ttraining's l2: 0.0615646\ttraining's l1: 0.153813\tvalid_1's l2: 1.32004\tvalid_1's l1: 0.210853\n",
      "[1600]\ttraining's l2: 0.0496401\ttraining's l1: 0.140093\tvalid_1's l2: 1.30017\tvalid_1's l1: 0.199766\n",
      "[1800]\ttraining's l2: 0.0412914\ttraining's l1: 0.1289\tvalid_1's l2: 1.29174\tvalid_1's l1: 0.190792\n",
      "[2000]\ttraining's l2: 0.0349332\ttraining's l1: 0.119225\tvalid_1's l2: 1.28383\tvalid_1's l1: 0.183128\n",
      "[2200]\ttraining's l2: 0.0299439\ttraining's l1: 0.111465\tvalid_1's l2: 1.2822\tvalid_1's l1: 0.177327\n",
      "Early stopping, best iteration is:\n",
      "[2125]\ttraining's l2: 0.0316478\ttraining's l1: 0.114151\tvalid_1's l2: 1.2815\tvalid_1's l1: 0.179285\n",
      "processed: 261/594\n",
      "saving...\n",
      "(307511, 912)\n"
     ]
    },
    {
     "name": "stderr",
     "output_type": "stream",
     "text": [
      "\r",
      "261it [6:11:41, 85.44s/it]"
     ]
    },
    {
     "name": "stdout",
     "output_type": "stream",
     "text": [
      "start processing last_10_installment_paid_over_amount_min \n",
      "the na is:0.04685127226284543\n",
      "(339564, 909)\n",
      "(16691, 909)\n",
      "Training until validation scores don't improve for 100 rounds.\n",
      "Early stopping, best iteration is:\n",
      "[58]\ttraining's l2: 5.08505e+06\ttraining's l1: 194.046\tvalid_1's l2: 1.32771e+06\tvalid_1's l1: 195.729\n",
      "processed: 262/594\n",
      "saving...\n",
      "(307511, 912)\n"
     ]
    },
    {
     "name": "stderr",
     "output_type": "stream",
     "text": [
      "\r",
      "262it [6:12:00, 85.19s/it]"
     ]
    },
    {
     "name": "stdout",
     "output_type": "stream",
     "text": [
      "start processing last_10_installment_paid_over_amount_mean \n",
      "the na is:0.04685127226284543\n",
      "(339564, 909)\n",
      "(16691, 909)\n",
      "Training until validation scores don't improve for 100 rounds.\n",
      "[200]\ttraining's l2: 105844\ttraining's l1: 72.9626\tvalid_1's l2: 931753\tvalid_1's l1: 96.6058\n",
      "[400]\ttraining's l2: 44789.2\ttraining's l1: 54.1998\tvalid_1's l2: 895242\tvalid_1's l1: 85.0295\n",
      "[600]\ttraining's l2: 25417.9\ttraining's l1: 44.1469\tvalid_1's l2: 891131\tvalid_1's l1: 80.0785\n",
      "[800]\ttraining's l2: 16542\ttraining's l1: 37.8553\tvalid_1's l2: 884024\tvalid_1's l1: 77.1088\n",
      "Early stopping, best iteration is:\n",
      "[866]\ttraining's l2: 14733.9\ttraining's l1: 36.2705\tvalid_1's l2: 882803\tvalid_1's l1: 76.2945\n",
      "processed: 263/594\n",
      "saving...\n",
      "(307511, 912)\n"
     ]
    },
    {
     "name": "stderr",
     "output_type": "stream",
     "text": [
      "\r",
      "263it [6:12:34, 85.00s/it]"
     ]
    },
    {
     "name": "stdout",
     "output_type": "stream",
     "text": [
      "start processing last_5by20_fraction_installment_paid_over_amount_median \n",
      "the na is:0.04687092110987916\n",
      "(339557, 909)\n",
      "(16698, 909)\n",
      "Training until validation scores don't improve for 100 rounds.\n",
      "Early stopping, best iteration is:\n",
      "[9]\ttraining's l2: 681999\ttraining's l1: 12.7983\tvalid_1's l2: 36559.7\tvalid_1's l1: 9.02955\n",
      "processed: 264/594\n",
      "saving...\n",
      "(307511, 912)\n"
     ]
    },
    {
     "name": "stderr",
     "output_type": "stream",
     "text": [
      "\r",
      "264it [6:12:53, 84.75s/it]"
     ]
    },
    {
     "name": "stdout",
     "output_type": "stream",
     "text": [
      "start processing last_5by20_fraction_installment_paid_over_amount_min \n",
      "the na is:0.04688776297876521\n",
      "(339551, 909)\n",
      "(16704, 909)\n",
      "Training until validation scores don't improve for 100 rounds.\n",
      "Early stopping, best iteration is:\n",
      "[43]\ttraining's l2: 0.0457398\ttraining's l1: 0.00784882\tvalid_1's l2: 0.00291462\tvalid_1's l1: 0.00765654\n",
      "processed: 265/594\n",
      "saving...\n",
      "(307511, 912)\n"
     ]
    },
    {
     "name": "stderr",
     "output_type": "stream",
     "text": [
      "\r",
      "265it [6:13:12, 84.50s/it]"
     ]
    },
    {
     "name": "stdout",
     "output_type": "stream",
     "text": [
      "start processing last_5by50_fraction_installment_paid_over_amount_min \n",
      "the na is:0.04689337693506056\n",
      "(339549, 909)\n",
      "(16706, 909)\n",
      "Training until validation scores don't improve for 100 rounds.\n",
      "Early stopping, best iteration is:\n",
      "[38]\ttraining's l2: 0.0262775\ttraining's l1: 0.00805944\tvalid_1's l2: 0.00146671\tvalid_1's l1: 0.00777313\n",
      "processed: 266/594\n",
      "saving...\n",
      "(307511, 912)\n"
     ]
    },
    {
     "name": "stderr",
     "output_type": "stream",
     "text": [
      "\r",
      "266it [6:13:32, 84.26s/it]"
     ]
    },
    {
     "name": "stdout",
     "output_type": "stream",
     "text": [
      "start processing last_5by50_fraction_installment_paid_over_amount_mean \n",
      "the na is:0.046898990891355914\n",
      "(339547, 909)\n",
      "(16708, 909)\n",
      "Training until validation scores don't improve for 100 rounds.\n",
      "Early stopping, best iteration is:\n",
      "[8]\ttraining's l2: 2024.38\ttraining's l1: 0.914527\tvalid_1's l2: 29.7901\tvalid_1's l1: 0.647046\n",
      "processed: 267/594\n",
      "saving...\n",
      "(307511, 912)\n"
     ]
    },
    {
     "name": "stderr",
     "output_type": "stream",
     "text": [
      "\r",
      "267it [6:13:50, 84.01s/it]"
     ]
    },
    {
     "name": "stdout",
     "output_type": "stream",
     "text": [
      "start processing last_5by20_fraction_installment_paid_late_in_days_median \n",
      "the na is:0.046921446716537314\n",
      "(339539, 909)\n",
      "(16716, 909)\n",
      "Training until validation scores don't improve for 100 rounds.\n",
      "Early stopping, best iteration is:\n",
      "[76]\ttraining's l2: 2.67396\ttraining's l1: 0.243762\tvalid_1's l2: 1.16377\tvalid_1's l1: 0.246527\n",
      "processed: 268/594\n",
      "saving...\n",
      "(307511, 912)\n"
     ]
    },
    {
     "name": "stderr",
     "output_type": "stream",
     "text": [
      "\r",
      "268it [6:14:11, 83.77s/it]"
     ]
    },
    {
     "name": "stdout",
     "output_type": "stream",
     "text": [
      "start processing last_5by20_fraction_installment_paid_late_in_days_min \n",
      "the na is:0.046921446716537314\n",
      "(339539, 909)\n",
      "(16716, 909)\n",
      "Training until validation scores don't improve for 100 rounds.\n",
      "[200]\ttraining's l2: 0.00315093\ttraining's l1: 0.0278919\tvalid_1's l2: 0.0036001\tvalid_1's l1: 0.0287956\n",
      "[400]\ttraining's l2: 0.0020776\ttraining's l1: 0.0240245\tvalid_1's l2: 0.00304577\tvalid_1's l1: 0.0254797\n",
      "[600]\ttraining's l2: 0.00160052\ttraining's l1: 0.0217681\tvalid_1's l2: 0.00273822\tvalid_1's l1: 0.0236567\n",
      "[800]\ttraining's l2: 0.00130877\ttraining's l1: 0.0201295\tvalid_1's l2: 0.00254621\tvalid_1's l1: 0.0224073\n",
      "[1000]\ttraining's l2: 0.00113451\ttraining's l1: 0.0189828\tvalid_1's l2: 0.00245131\tvalid_1's l1: 0.0215943\n",
      "[1200]\ttraining's l2: 0.00100209\ttraining's l1: 0.0179989\tvalid_1's l2: 0.00237642\tvalid_1's l1: 0.0209723\n",
      "[1400]\ttraining's l2: 0.000899896\ttraining's l1: 0.0171971\tvalid_1's l2: 0.00232009\tvalid_1's l1: 0.0205065\n",
      "[1600]\ttraining's l2: 0.000815132\ttraining's l1: 0.0164646\tvalid_1's l2: 0.00227139\tvalid_1's l1: 0.0200829\n",
      "[1800]\ttraining's l2: 0.000741936\ttraining's l1: 0.0158136\tvalid_1's l2: 0.00223598\tvalid_1's l1: 0.0197498\n",
      "[2000]\ttraining's l2: 0.000684063\ttraining's l1: 0.015272\tvalid_1's l2: 0.00221037\tvalid_1's l1: 0.0194887\n",
      "[2200]\ttraining's l2: 0.000636461\ttraining's l1: 0.0147899\tvalid_1's l2: 0.00218988\tvalid_1's l1: 0.0192947\n",
      "[2400]\ttraining's l2: 0.00059289\ttraining's l1: 0.014344\tvalid_1's l2: 0.00217014\tvalid_1's l1: 0.0190996\n",
      "[2600]\ttraining's l2: 0.000558686\ttraining's l1: 0.0139777\tvalid_1's l2: 0.00216103\tvalid_1's l1: 0.0189796\n",
      "[2800]\ttraining's l2: 0.000526978\ttraining's l1: 0.0136362\tvalid_1's l2: 0.00215163\tvalid_1's l1: 0.0188781\n",
      "[3000]\ttraining's l2: 0.000494878\ttraining's l1: 0.0132593\tvalid_1's l2: 0.00213939\tvalid_1's l1: 0.0187335\n",
      "[3200]\ttraining's l2: 0.000462799\ttraining's l1: 0.0128683\tvalid_1's l2: 0.0021262\tvalid_1's l1: 0.0185697\n",
      "[3400]\ttraining's l2: 0.000439505\ttraining's l1: 0.0125841\tvalid_1's l2: 0.00212004\tvalid_1's l1: 0.0185072\n",
      "[3600]\ttraining's l2: 0.000416415\ttraining's l1: 0.012289\tvalid_1's l2: 0.0021125\tvalid_1's l1: 0.018419\n",
      "[3800]\ttraining's l2: 0.000396335\ttraining's l1: 0.0120308\tvalid_1's l2: 0.00210983\tvalid_1's l1: 0.0183788\n",
      "[4000]\ttraining's l2: 0.000376748\ttraining's l1: 0.0117718\tvalid_1's l2: 0.00210565\tvalid_1's l1: 0.0183301\n",
      "[4200]\ttraining's l2: 0.00035836\ttraining's l1: 0.0115076\tvalid_1's l2: 0.00210091\tvalid_1's l1: 0.0182624\n",
      "[4400]\ttraining's l2: 0.000342502\ttraining's l1: 0.0112813\tvalid_1's l2: 0.00209648\tvalid_1's l1: 0.0182309\n",
      "[4600]\ttraining's l2: 0.000327282\ttraining's l1: 0.0110586\tvalid_1's l2: 0.00209231\tvalid_1's l1: 0.0181973\n",
      "[4800]\ttraining's l2: 0.000313502\ttraining's l1: 0.0108435\tvalid_1's l2: 0.00208954\tvalid_1's l1: 0.0181561\n",
      "[5000]\ttraining's l2: 0.000300008\ttraining's l1: 0.0106378\tvalid_1's l2: 0.00208454\tvalid_1's l1: 0.0181201\n",
      "Did not meet early stopping. Best iteration is:\n",
      "[5000]\ttraining's l2: 0.000300008\ttraining's l1: 0.0106378\tvalid_1's l2: 0.00208454\tvalid_1's l1: 0.0181201\n",
      "processed: 269/594\n",
      "saving...\n",
      "(307511, 912)\n"
     ]
    },
    {
     "name": "stderr",
     "output_type": "stream",
     "text": [
      "\r",
      "269it [6:16:09, 83.90s/it]"
     ]
    },
    {
     "name": "stdout",
     "output_type": "stream",
     "text": [
      "start processing last_5_installment_paid_late_in_days_mean \n",
      "the na is:0.04692425369468499\n",
      "(339538, 909)\n",
      "(16717, 909)\n",
      "Training until validation scores don't improve for 100 rounds.\n",
      "[200]\ttraining's l2: 0.459357\ttraining's l1: 0.295883\tvalid_1's l2: 4.02774\tvalid_1's l1: 0.327093\n",
      "[400]\ttraining's l2: 0.167963\ttraining's l1: 0.216555\tvalid_1's l2: 3.55283\tvalid_1's l1: 0.256221\n",
      "[600]\ttraining's l2: 0.0940153\ttraining's l1: 0.172769\tvalid_1's l2: 3.46801\tvalid_1's l1: 0.218124\n",
      "[800]\ttraining's l2: 0.0622317\ttraining's l1: 0.142302\tvalid_1's l2: 3.43327\tvalid_1's l1: 0.191515\n",
      "[1000]\ttraining's l2: 0.0450988\ttraining's l1: 0.123376\tvalid_1's l2: 3.41768\tvalid_1's l1: 0.175625\n",
      "Early stopping, best iteration is:\n",
      "[1081]\ttraining's l2: 0.0403272\ttraining's l1: 0.116994\tvalid_1's l2: 3.41339\tvalid_1's l1: 0.170146\n",
      "processed: 270/594\n",
      "saving...\n",
      "(307511, 912)\n"
     ]
    },
    {
     "name": "stderr",
     "output_type": "stream",
     "text": [
      "\r",
      "270it [6:16:50, 83.74s/it]"
     ]
    },
    {
     "name": "stdout",
     "output_type": "stream",
     "text": [
      "start processing last_5_installment_paid_late_in_days_max \n",
      "the na is:0.04692425369468499\n",
      "(339538, 909)\n",
      "(16717, 909)\n",
      "Training until validation scores don't improve for 100 rounds.\n",
      "[200]\ttraining's l2: 2.04442\ttraining's l1: 0.764168\tvalid_1's l2: 7.16998\tvalid_1's l1: 0.835776\n",
      "[400]\ttraining's l2: 1.02308\ttraining's l1: 0.569633\tvalid_1's l2: 6.18106\tvalid_1's l1: 0.657379\n",
      "[600]\ttraining's l2: 0.664462\ttraining's l1: 0.476733\tvalid_1's l2: 5.8235\tvalid_1's l1: 0.573937\n",
      "[800]\ttraining's l2: 0.487983\ttraining's l1: 0.419459\tvalid_1's l2: 5.63626\tvalid_1's l1: 0.524452\n",
      "[1000]\ttraining's l2: 0.387072\ttraining's l1: 0.380115\tvalid_1's l2: 5.55812\tvalid_1's l1: 0.492\n",
      "[1200]\ttraining's l2: 0.318327\ttraining's l1: 0.349417\tvalid_1's l2: 5.50277\tvalid_1's l1: 0.467409\n",
      "[1400]\ttraining's l2: 0.267818\ttraining's l1: 0.324817\tvalid_1's l2: 5.45567\tvalid_1's l1: 0.447962\n",
      "[1600]\ttraining's l2: 0.231183\ttraining's l1: 0.305323\tvalid_1's l2: 5.42495\tvalid_1's l1: 0.433294\n",
      "[1800]\ttraining's l2: 0.202644\ttraining's l1: 0.288221\tvalid_1's l2: 5.40455\tvalid_1's l1: 0.419992\n",
      "[2000]\ttraining's l2: 0.180602\ttraining's l1: 0.274446\tvalid_1's l2: 5.39091\tvalid_1's l1: 0.410217\n",
      "[2200]\ttraining's l2: 0.163267\ttraining's l1: 0.262591\tvalid_1's l2: 5.37241\tvalid_1's l1: 0.402016\n",
      "[2400]\ttraining's l2: 0.148272\ttraining's l1: 0.251884\tvalid_1's l2: 5.36678\tvalid_1's l1: 0.395021\n",
      "[2600]\ttraining's l2: 0.135295\ttraining's l1: 0.242458\tvalid_1's l2: 5.3561\tvalid_1's l1: 0.389036\n",
      "[2800]\ttraining's l2: 0.124239\ttraining's l1: 0.233726\tvalid_1's l2: 5.34704\tvalid_1's l1: 0.383647\n",
      "[3000]\ttraining's l2: 0.11488\ttraining's l1: 0.225796\tvalid_1's l2: 5.33684\tvalid_1's l1: 0.378634\n",
      "[3200]\ttraining's l2: 0.106676\ttraining's l1: 0.218531\tvalid_1's l2: 5.3277\tvalid_1's l1: 0.374099\n",
      "[3400]\ttraining's l2: 0.0990378\ttraining's l1: 0.211678\tvalid_1's l2: 5.31889\tvalid_1's l1: 0.370044\n",
      "[3600]\ttraining's l2: 0.092619\ttraining's l1: 0.205432\tvalid_1's l2: 5.31636\tvalid_1's l1: 0.366601\n",
      "[3800]\ttraining's l2: 0.0868447\ttraining's l1: 0.199634\tvalid_1's l2: 5.31457\tvalid_1's l1: 0.363323\n",
      "[4000]\ttraining's l2: 0.0817363\ttraining's l1: 0.194491\tvalid_1's l2: 5.31103\tvalid_1's l1: 0.36074\n",
      "[4200]\ttraining's l2: 0.0773406\ttraining's l1: 0.189782\tvalid_1's l2: 5.3096\tvalid_1's l1: 0.358539\n",
      "[4400]\ttraining's l2: 0.0728595\ttraining's l1: 0.184904\tvalid_1's l2: 5.30627\tvalid_1's l1: 0.356187\n",
      "[4600]\ttraining's l2: 0.0689971\ttraining's l1: 0.18049\tvalid_1's l2: 5.30517\tvalid_1's l1: 0.354266\n",
      "[4800]\ttraining's l2: 0.0654852\ttraining's l1: 0.176304\tvalid_1's l2: 5.30404\tvalid_1's l1: 0.352272\n",
      "[5000]\ttraining's l2: 0.0621598\ttraining's l1: 0.17213\tvalid_1's l2: 5.30125\tvalid_1's l1: 0.350256\n",
      "Did not meet early stopping. Best iteration is:\n",
      "[5000]\ttraining's l2: 0.0621598\ttraining's l1: 0.17213\tvalid_1's l2: 5.30125\tvalid_1's l1: 0.350256\n",
      "processed: 271/594\n",
      "saving...\n",
      "(307511, 912)\n"
     ]
    },
    {
     "name": "stderr",
     "output_type": "stream",
     "text": [
      "\r",
      "271it [6:18:54, 83.89s/it]"
     ]
    },
    {
     "name": "stdout",
     "output_type": "stream",
     "text": [
      "start processing last_5by20_fraction_installment_paid_late_in_days_mean \n",
      "the na is:0.04692425369468499\n",
      "(339538, 909)\n",
      "(16717, 909)\n",
      "Training until validation scores don't improve for 100 rounds.\n",
      "Early stopping, best iteration is:\n",
      "[85]\ttraining's l2: 1.82626\ttraining's l1: 0.14615\tvalid_1's l2: 1.84719\tvalid_1's l1: 0.159224\n",
      "processed: 272/594\n",
      "saving...\n",
      "(307511, 912)\n"
     ]
    },
    {
     "name": "stderr",
     "output_type": "stream",
     "text": [
      "\r",
      "272it [6:19:14, 83.66s/it]"
     ]
    },
    {
     "name": "stdout",
     "output_type": "stream",
     "text": [
      "start processing last_5_installment_paid_late_in_days_median \n",
      "the na is:0.04692425369468499\n",
      "(339538, 909)\n",
      "(16717, 909)\n",
      "Training until validation scores don't improve for 100 rounds.\n",
      "[200]\ttraining's l2: 2.8676\ttraining's l1: 0.822267\tvalid_1's l2: 18.5951\tvalid_1's l1: 0.897965\n",
      "[400]\ttraining's l2: 1.38688\ttraining's l1: 0.634077\tvalid_1's l2: 17.0664\tvalid_1's l1: 0.728073\n",
      "[600]\ttraining's l2: 0.937914\ttraining's l1: 0.545772\tvalid_1's l2: 16.1358\tvalid_1's l1: 0.651788\n",
      "[800]\ttraining's l2: 0.71196\ttraining's l1: 0.49139\tvalid_1's l2: 15.9249\tvalid_1's l1: 0.608562\n",
      "[1000]\ttraining's l2: 0.572791\ttraining's l1: 0.449694\tvalid_1's l2: 15.633\tvalid_1's l1: 0.57654\n",
      "[1200]\ttraining's l2: 0.477458\ttraining's l1: 0.41677\tvalid_1's l2: 15.4396\tvalid_1's l1: 0.551031\n",
      "[1400]\ttraining's l2: 0.399124\ttraining's l1: 0.384864\tvalid_1's l2: 15.3168\tvalid_1's l1: 0.526207\n",
      "[1600]\ttraining's l2: 0.345478\ttraining's l1: 0.362016\tvalid_1's l2: 15.2561\tvalid_1's l1: 0.509243\n",
      "[1800]\ttraining's l2: 0.300643\ttraining's l1: 0.340063\tvalid_1's l2: 15.198\tvalid_1's l1: 0.492629\n",
      "[2000]\ttraining's l2: 0.266272\ttraining's l1: 0.322884\tvalid_1's l2: 15.1249\tvalid_1's l1: 0.481081\n",
      "[2200]\ttraining's l2: 0.23877\ttraining's l1: 0.307607\tvalid_1's l2: 15.081\tvalid_1's l1: 0.470632\n",
      "[2400]\ttraining's l2: 0.214123\ttraining's l1: 0.293402\tvalid_1's l2: 15.0587\tvalid_1's l1: 0.460914\n",
      "[2600]\ttraining's l2: 0.19291\ttraining's l1: 0.280089\tvalid_1's l2: 15.0194\tvalid_1's l1: 0.451557\n",
      "[2800]\ttraining's l2: 0.174532\ttraining's l1: 0.267873\tvalid_1's l2: 15.0042\tvalid_1's l1: 0.443546\n",
      "Early stopping, best iteration is:\n",
      "[2897]\ttraining's l2: 0.167406\ttraining's l1: 0.263121\tvalid_1's l2: 14.9961\tvalid_1's l1: 0.440852\n",
      "processed: 273/594\n",
      "saving...\n",
      "(307511, 912)\n"
     ]
    },
    {
     "name": "stderr",
     "output_type": "stream",
     "text": [
      "\r",
      "273it [6:20:33, 83.64s/it]"
     ]
    },
    {
     "name": "stdout",
     "output_type": "stream",
     "text": [
      "start processing last_5_installment_paid_over_amount_mean \n",
      "the na is:0.04692425369468499\n",
      "(339538, 909)\n",
      "(16717, 909)\n",
      "Training until validation scores don't improve for 100 rounds.\n",
      "[200]\ttraining's l2: 91533.1\ttraining's l1: 62.3819\tvalid_1's l2: 1.01826e+06\tvalid_1's l1: 88.9525\n",
      "[400]\ttraining's l2: 35134.5\ttraining's l1: 44.9443\tvalid_1's l2: 979291\tvalid_1's l1: 79.3578\n",
      "Early stopping, best iteration is:\n",
      "[393]\ttraining's l2: 36189.4\ttraining's l1: 45.2332\tvalid_1's l2: 976564\tvalid_1's l1: 79.3371\n",
      "processed: 274/594\n",
      "saving...\n",
      "(307511, 912)\n"
     ]
    },
    {
     "name": "stderr",
     "output_type": "stream",
     "text": [
      "\r",
      "274it [6:20:58, 83.43s/it]"
     ]
    },
    {
     "name": "stdout",
     "output_type": "stream",
     "text": [
      "start processing last_5by50_fraction_installment_paid_late_in_days_mean \n",
      "the na is:0.04692425369468499\n",
      "(339538, 909)\n",
      "(16717, 909)\n",
      "Training until validation scores don't improve for 100 rounds.\n",
      "Early stopping, best iteration is:\n",
      "[69]\ttraining's l2: 7.34828\ttraining's l1: 0.246813\tvalid_1's l2: 10.3802\tvalid_1's l1: 0.284811\n",
      "processed: 275/594\n",
      "saving...\n",
      "(307511, 912)\n"
     ]
    },
    {
     "name": "stderr",
     "output_type": "stream",
     "text": [
      "\r",
      "275it [6:21:18, 83.19s/it]"
     ]
    },
    {
     "name": "stdout",
     "output_type": "stream",
     "text": [
      "start processing last_5_installment_paid_over_amount_median \n",
      "the na is:0.04692425369468499\n",
      "(339538, 909)\n",
      "(16717, 909)\n",
      "Training until validation scores don't improve for 100 rounds.\n",
      "[200]\ttraining's l2: 293735\ttraining's l1: 95.5131\tvalid_1's l2: 887196\tvalid_1's l1: 126.511\n",
      "[400]\ttraining's l2: 148188\ttraining's l1: 74.4462\tvalid_1's l2: 795181\tvalid_1's l1: 117.096\n",
      "[600]\ttraining's l2: 88535.1\ttraining's l1: 61.8414\tvalid_1's l2: 776933\tvalid_1's l1: 112.82\n",
      "[800]\ttraining's l2: 56372.7\ttraining's l1: 52.4265\tvalid_1's l2: 756239\tvalid_1's l1: 109.465\n",
      "[1000]\ttraining's l2: 39853.5\ttraining's l1: 46.1506\tvalid_1's l2: 750254\tvalid_1's l1: 107.945\n",
      "[1200]\ttraining's l2: 28967.3\ttraining's l1: 40.8439\tvalid_1's l2: 743583\tvalid_1's l1: 106.67\n",
      "[1400]\ttraining's l2: 21661.9\ttraining's l1: 36.3299\tvalid_1's l2: 740809\tvalid_1's l1: 105.662\n",
      "[1600]\ttraining's l2: 16743.1\ttraining's l1: 32.7611\tvalid_1's l2: 738890\tvalid_1's l1: 104.799\n",
      "[1800]\ttraining's l2: 13159.2\ttraining's l1: 29.8146\tvalid_1's l2: 736157\tvalid_1's l1: 104.098\n",
      "[2000]\ttraining's l2: 10488.3\ttraining's l1: 27.2097\tvalid_1's l2: 735164\tvalid_1's l1: 103.714\n",
      "[2200]\ttraining's l2: 8558.56\ttraining's l1: 25.1325\tvalid_1's l2: 734301\tvalid_1's l1: 103.406\n",
      "[2400]\ttraining's l2: 7114.07\ttraining's l1: 23.2955\tvalid_1's l2: 733581\tvalid_1's l1: 103.11\n",
      "[2600]\ttraining's l2: 5962.31\ttraining's l1: 21.7018\tvalid_1's l2: 732857\tvalid_1's l1: 102.885\n",
      "[2800]\ttraining's l2: 5071.74\ttraining's l1: 20.3168\tvalid_1's l2: 732235\tvalid_1's l1: 102.68\n",
      "[3000]\ttraining's l2: 4307.86\ttraining's l1: 19.0274\tvalid_1's l2: 731417\tvalid_1's l1: 102.462\n",
      "Early stopping, best iteration is:\n",
      "[2980]\ttraining's l2: 4370.15\ttraining's l1: 19.1497\tvalid_1's l2: 731402\tvalid_1's l1: 102.481\n",
      "processed: 276/594\n",
      "saving...\n",
      "(307511, 912)\n"
     ]
    },
    {
     "name": "stderr",
     "output_type": "stream",
     "text": [
      "\r",
      "276it [6:22:27, 83.14s/it]"
     ]
    },
    {
     "name": "stdout",
     "output_type": "stream",
     "text": [
      "start processing last_5by50_fraction_installment_paid_late_in_days_min \n",
      "the na is:0.04692425369468499\n",
      "(339538, 909)\n",
      "(16717, 909)\n",
      "Training until validation scores don't improve for 100 rounds.\n",
      "[200]\ttraining's l2: 0.000984486\ttraining's l1: 0.0145181\tvalid_1's l2: 0.000885576\tvalid_1's l1: 0.0148661\n",
      "[400]\ttraining's l2: 0.000515538\ttraining's l1: 0.0121092\tvalid_1's l2: 0.000740286\tvalid_1's l1: 0.0126701\n",
      "[600]\ttraining's l2: 0.000354038\ttraining's l1: 0.0108855\tvalid_1's l2: 0.000697846\tvalid_1's l1: 0.0116102\n",
      "[800]\ttraining's l2: 0.000274997\ttraining's l1: 0.00994686\tvalid_1's l2: 0.000658986\tvalid_1's l1: 0.0107843\n",
      "[1000]\ttraining's l2: 0.000224597\ttraining's l1: 0.00919022\tvalid_1's l2: 0.000634712\tvalid_1's l1: 0.0101345\n",
      "[1200]\ttraining's l2: 0.000192483\ttraining's l1: 0.00863093\tvalid_1's l2: 0.00061677\tvalid_1's l1: 0.00967853\n",
      "[1400]\ttraining's l2: 0.000168642\ttraining's l1: 0.00813764\tvalid_1's l2: 0.000602239\tvalid_1's l1: 0.00929514\n",
      "[1600]\ttraining's l2: 0.000148951\ttraining's l1: 0.00770888\tvalid_1's l2: 0.000588639\tvalid_1's l1: 0.00896615\n",
      "[1800]\ttraining's l2: 0.000133683\ttraining's l1: 0.0073449\tvalid_1's l2: 0.000578738\tvalid_1's l1: 0.00871738\n",
      "[2000]\ttraining's l2: 0.000121694\ttraining's l1: 0.00704314\tvalid_1's l2: 0.000572529\tvalid_1's l1: 0.00852107\n",
      "[2200]\ttraining's l2: 0.000111425\ttraining's l1: 0.00677152\tvalid_1's l2: 0.000565883\tvalid_1's l1: 0.00834246\n",
      "[2400]\ttraining's l2: 0.000102893\ttraining's l1: 0.00654156\tvalid_1's l2: 0.000560497\tvalid_1's l1: 0.00820734\n",
      "[2600]\ttraining's l2: 9.55171e-05\ttraining's l1: 0.00633025\tvalid_1's l2: 0.000555627\tvalid_1's l1: 0.00808837\n",
      "[2800]\ttraining's l2: 8.84189e-05\ttraining's l1: 0.00611726\tvalid_1's l2: 0.000551617\tvalid_1's l1: 0.00795723\n",
      "[3000]\ttraining's l2: 8.27629e-05\ttraining's l1: 0.00594536\tvalid_1's l2: 0.000548136\tvalid_1's l1: 0.00786854\n",
      "[3200]\ttraining's l2: 7.7793e-05\ttraining's l1: 0.00578206\tvalid_1's l2: 0.000545639\tvalid_1's l1: 0.00778716\n",
      "[3400]\ttraining's l2: 7.29764e-05\ttraining's l1: 0.005624\tvalid_1's l2: 0.000543277\tvalid_1's l1: 0.0077077\n",
      "[3600]\ttraining's l2: 6.84528e-05\ttraining's l1: 0.00546501\tvalid_1's l2: 0.000541271\tvalid_1's l1: 0.00762842\n",
      "[3800]\ttraining's l2: 6.44382e-05\ttraining's l1: 0.00531345\tvalid_1's l2: 0.000538842\tvalid_1's l1: 0.00754593\n",
      "[4000]\ttraining's l2: 6.10653e-05\ttraining's l1: 0.00519139\tvalid_1's l2: 0.000537308\tvalid_1's l1: 0.00749535\n",
      "[4200]\ttraining's l2: 5.7907e-05\ttraining's l1: 0.00506845\tvalid_1's l2: 0.000535127\tvalid_1's l1: 0.00743467\n",
      "[4400]\ttraining's l2: 5.49412e-05\ttraining's l1: 0.00494496\tvalid_1's l2: 0.000533193\tvalid_1's l1: 0.00737384\n",
      "[4600]\ttraining's l2: 5.22409e-05\ttraining's l1: 0.00483316\tvalid_1's l2: 0.000531871\tvalid_1's l1: 0.00732572\n",
      "[4800]\ttraining's l2: 4.98249e-05\ttraining's l1: 0.00472886\tvalid_1's l2: 0.000530791\tvalid_1's l1: 0.0072813\n",
      "[5000]\ttraining's l2: 4.76313e-05\ttraining's l1: 0.00463436\tvalid_1's l2: 0.000530085\tvalid_1's l1: 0.00724973\n",
      "Did not meet early stopping. Best iteration is:\n",
      "[5000]\ttraining's l2: 4.76313e-05\ttraining's l1: 0.00463436\tvalid_1's l2: 0.000530085\tvalid_1's l1: 0.00724973\n",
      "processed: 277/594\n",
      "saving...\n",
      "(307511, 912)\n"
     ]
    },
    {
     "name": "stderr",
     "output_type": "stream",
     "text": [
      "\r",
      "277it [6:24:33, 83.30s/it]"
     ]
    },
    {
     "name": "stdout",
     "output_type": "stream",
     "text": [
      "start processing last_loan_installment_paid_late_in_days_mean \n",
      "the na is:0.046943902541718714\n",
      "(339531, 909)\n",
      "(16724, 909)\n",
      "Training until validation scores don't improve for 100 rounds.\n",
      "[200]\ttraining's l2: 4.83529\ttraining's l1: 1.05042\tvalid_1's l2: 7.60914\tvalid_1's l1: 1.08624\n",
      "[400]\ttraining's l2: 2.81059\ttraining's l1: 0.905184\tvalid_1's l2: 7.00852\tvalid_1's l1: 0.963304\n",
      "Early stopping, best iteration is:\n",
      "[482]\ttraining's l2: 2.39716\ttraining's l1: 0.868055\tvalid_1's l2: 6.89824\tvalid_1's l1: 0.933838\n",
      "processed: 278/594\n",
      "saving...\n",
      "(307511, 912)\n"
     ]
    },
    {
     "name": "stderr",
     "output_type": "stream",
     "text": [
      "\r",
      "278it [6:25:03, 83.11s/it]"
     ]
    },
    {
     "name": "stdout",
     "output_type": "stream",
     "text": [
      "start processing last_loan_installment_paid_over_amount_mean \n",
      "the na is:0.046943902541718714\n",
      "(339531, 909)\n",
      "(16724, 909)\n",
      "Training until validation scores don't improve for 100 rounds.\n",
      "[200]\ttraining's l2: 1.93762e+06\ttraining's l1: 375.345\tvalid_1's l2: 3.91253e+06\tvalid_1's l1: 427.969\n",
      "[400]\ttraining's l2: 930593\ttraining's l1: 292.704\tvalid_1's l2: 3.4513e+06\tvalid_1's l1: 372.138\n",
      "[600]\ttraining's l2: 575771\ttraining's l1: 248.689\tvalid_1's l2: 3.32134e+06\tvalid_1's l1: 347.986\n",
      "[800]\ttraining's l2: 394430\ttraining's l1: 216.71\tvalid_1's l2: 3.18961e+06\tvalid_1's l1: 331.795\n",
      "[1000]\ttraining's l2: 294322\ttraining's l1: 193.49\tvalid_1's l2: 3.15002e+06\tvalid_1's l1: 321.069\n",
      "[1200]\ttraining's l2: 227311\ttraining's l1: 175.185\tvalid_1's l2: 3.09464e+06\tvalid_1's l1: 312.018\n",
      "[1400]\ttraining's l2: 181044\ttraining's l1: 159.586\tvalid_1's l2: 3.06456e+06\tvalid_1's l1: 304.918\n",
      "[1600]\ttraining's l2: 148960\ttraining's l1: 147.576\tvalid_1's l2: 3.05182e+06\tvalid_1's l1: 300.533\n",
      "[1800]\ttraining's l2: 123272\ttraining's l1: 137.072\tvalid_1's l2: 3.03985e+06\tvalid_1's l1: 296.985\n",
      "[2000]\ttraining's l2: 103579\ttraining's l1: 127.252\tvalid_1's l2: 3.02528e+06\tvalid_1's l1: 292.612\n",
      "[2200]\ttraining's l2: 88586.4\ttraining's l1: 119.185\tvalid_1's l2: 3.01746e+06\tvalid_1's l1: 289.997\n",
      "[2400]\ttraining's l2: 76895.2\ttraining's l1: 112.098\tvalid_1's l2: 3.01042e+06\tvalid_1's l1: 287.562\n",
      "Early stopping, best iteration is:\n",
      "[2449]\ttraining's l2: 74383.9\ttraining's l1: 110.555\tvalid_1's l2: 3.0093e+06\tvalid_1's l1: 287.21\n",
      "processed: 279/594\n",
      "saving...\n",
      "(307511, 912)\n"
     ]
    },
    {
     "name": "stderr",
     "output_type": "stream",
     "text": [
      "\r",
      "279it [6:26:06, 83.04s/it]"
     ]
    },
    {
     "name": "stdout",
     "output_type": "stream",
     "text": [
      "start processing last_loan_installment_paid_late_in_days_min \n",
      "the na is:0.046943902541718714\n",
      "(339531, 909)\n",
      "(16724, 909)\n",
      "Training until validation scores don't improve for 100 rounds.\n",
      "[200]\ttraining's l2: 7.57756\ttraining's l1: 1.6057\tvalid_1's l2: 8.06717\tvalid_1's l1: 1.65602\n",
      "[400]\ttraining's l2: 5.34902\ttraining's l1: 1.42018\tvalid_1's l2: 6.95081\tvalid_1's l1: 1.49797\n",
      "[600]\ttraining's l2: 4.25359\ttraining's l1: 1.30132\tvalid_1's l2: 6.36484\tvalid_1's l1: 1.40156\n",
      "[800]\ttraining's l2: 3.62734\ttraining's l1: 1.22028\tvalid_1's l2: 6.04623\tvalid_1's l1: 1.34106\n",
      "[1000]\ttraining's l2: 3.20806\ttraining's l1: 1.15845\tvalid_1's l2: 5.82198\tvalid_1's l1: 1.29906\n",
      "[1200]\ttraining's l2: 2.89316\ttraining's l1: 1.10795\tvalid_1's l2: 5.66871\tvalid_1's l1: 1.26574\n",
      "[1400]\ttraining's l2: 2.64317\ttraining's l1: 1.06508\tvalid_1's l2: 5.53707\tvalid_1's l1: 1.2385\n",
      "[1600]\ttraining's l2: 2.44467\ttraining's l1: 1.03042\tvalid_1's l2: 5.44563\tvalid_1's l1: 1.22063\n",
      "[1800]\ttraining's l2: 2.27683\ttraining's l1: 0.99907\tvalid_1's l2: 5.375\tvalid_1's l1: 1.20507\n",
      "[2000]\ttraining's l2: 2.13506\ttraining's l1: 0.971145\tvalid_1's l2: 5.31257\tvalid_1's l1: 1.19208\n",
      "[2200]\ttraining's l2: 2.00971\ttraining's l1: 0.945294\tvalid_1's l2: 5.2676\tvalid_1's l1: 1.1816\n",
      "[2400]\ttraining's l2: 1.8977\ttraining's l1: 0.920537\tvalid_1's l2: 5.22163\tvalid_1's l1: 1.17093\n",
      "[2600]\ttraining's l2: 1.80519\ttraining's l1: 0.900443\tvalid_1's l2: 5.19358\tvalid_1's l1: 1.16404\n",
      "[2800]\ttraining's l2: 1.71256\ttraining's l1: 0.879315\tvalid_1's l2: 5.1558\tvalid_1's l1: 1.15544\n",
      "[3000]\ttraining's l2: 1.63166\ttraining's l1: 0.86071\tvalid_1's l2: 5.13126\tvalid_1's l1: 1.14911\n",
      "[3200]\ttraining's l2: 1.55517\ttraining's l1: 0.842377\tvalid_1's l2: 5.10059\tvalid_1's l1: 1.14296\n",
      "[3400]\ttraining's l2: 1.48689\ttraining's l1: 0.825412\tvalid_1's l2: 5.0766\tvalid_1's l1: 1.13728\n",
      "[3600]\ttraining's l2: 1.42002\ttraining's l1: 0.808491\tvalid_1's l2: 5.05319\tvalid_1's l1: 1.13211\n",
      "[3800]\ttraining's l2: 1.36193\ttraining's l1: 0.793675\tvalid_1's l2: 5.04164\tvalid_1's l1: 1.12859\n",
      "[4000]\ttraining's l2: 1.30423\ttraining's l1: 0.778083\tvalid_1's l2: 5.02418\tvalid_1's l1: 1.1239\n",
      "[4200]\ttraining's l2: 1.25164\ttraining's l1: 0.764216\tvalid_1's l2: 5.01051\tvalid_1's l1: 1.12027\n",
      "[4400]\ttraining's l2: 1.20267\ttraining's l1: 0.750505\tvalid_1's l2: 4.99965\tvalid_1's l1: 1.1166\n",
      "[4600]\ttraining's l2: 1.15456\ttraining's l1: 0.736839\tvalid_1's l2: 4.98632\tvalid_1's l1: 1.11302\n",
      "[4800]\ttraining's l2: 1.10971\ttraining's l1: 0.723648\tvalid_1's l2: 4.97558\tvalid_1's l1: 1.10946\n",
      "[5000]\ttraining's l2: 1.06826\ttraining's l1: 0.710899\tvalid_1's l2: 4.96518\tvalid_1's l1: 1.10622\n",
      "Did not meet early stopping. Best iteration is:\n",
      "[5000]\ttraining's l2: 1.06826\ttraining's l1: 0.710899\tvalid_1's l2: 4.96518\tvalid_1's l1: 1.10622\n",
      "processed: 280/594\n",
      "saving...\n",
      "(307511, 912)\n"
     ]
    },
    {
     "name": "stderr",
     "output_type": "stream",
     "text": [
      "\r",
      "280it [6:28:05, 83.16s/it]"
     ]
    },
    {
     "name": "stdout",
     "output_type": "stream",
     "text": [
      "start processing last_loan_installment_paid_late_in_days_max \n",
      "the na is:0.046943902541718714\n",
      "(339531, 909)\n",
      "(16724, 909)\n",
      "Training until validation scores don't improve for 100 rounds.\n",
      "[200]\ttraining's l2: 11.0085\ttraining's l1: 1.64257\tvalid_1's l2: 17.7099\tvalid_1's l1: 1.70146\n",
      "[400]\ttraining's l2: 6.47012\ttraining's l1: 1.35462\tvalid_1's l2: 15.3215\tvalid_1's l1: 1.46542\n",
      "[600]\ttraining's l2: 4.72322\ttraining's l1: 1.211\tvalid_1's l2: 14.2983\tvalid_1's l1: 1.35778\n",
      "[800]\ttraining's l2: 3.77561\ttraining's l1: 1.11461\tvalid_1's l2: 13.8768\tvalid_1's l1: 1.29321\n",
      "[1000]\ttraining's l2: 3.19159\ttraining's l1: 1.04275\tvalid_1's l2: 13.6116\tvalid_1's l1: 1.24795\n",
      "[1200]\ttraining's l2: 2.77627\ttraining's l1: 0.987713\tvalid_1's l2: 13.4379\tvalid_1's l1: 1.21744\n",
      "[1400]\ttraining's l2: 2.46677\ttraining's l1: 0.941726\tvalid_1's l2: 13.2985\tvalid_1's l1: 1.19206\n",
      "[1600]\ttraining's l2: 2.22021\ttraining's l1: 0.903081\tvalid_1's l2: 13.2151\tvalid_1's l1: 1.17305\n",
      "[1800]\ttraining's l2: 2.01544\ttraining's l1: 0.867162\tvalid_1's l2: 13.1027\tvalid_1's l1: 1.15368\n",
      "[2000]\ttraining's l2: 1.84964\ttraining's l1: 0.835784\tvalid_1's l2: 13.039\tvalid_1's l1: 1.13789\n",
      "[2200]\ttraining's l2: 1.7093\ttraining's l1: 0.80767\tvalid_1's l2: 12.9806\tvalid_1's l1: 1.12452\n",
      "[2400]\ttraining's l2: 1.58779\ttraining's l1: 0.784185\tvalid_1's l2: 12.9291\tvalid_1's l1: 1.1158\n",
      "[2600]\ttraining's l2: 1.47757\ttraining's l1: 0.76011\tvalid_1's l2: 12.8998\tvalid_1's l1: 1.10508\n",
      "[2800]\ttraining's l2: 1.38731\ttraining's l1: 0.740938\tvalid_1's l2: 12.8737\tvalid_1's l1: 1.09972\n",
      "[3000]\ttraining's l2: 1.30241\ttraining's l1: 0.721364\tvalid_1's l2: 12.8492\tvalid_1's l1: 1.09221\n",
      "[3200]\ttraining's l2: 1.22653\ttraining's l1: 0.703111\tvalid_1's l2: 12.8367\tvalid_1's l1: 1.08619\n",
      "[3400]\ttraining's l2: 1.15491\ttraining's l1: 0.685025\tvalid_1's l2: 12.81\tvalid_1's l1: 1.07963\n",
      "[3600]\ttraining's l2: 1.09627\ttraining's l1: 0.670254\tvalid_1's l2: 12.79\tvalid_1's l1: 1.07595\n",
      "[3800]\ttraining's l2: 1.03944\ttraining's l1: 0.655082\tvalid_1's l2: 12.7682\tvalid_1's l1: 1.07133\n",
      "[4000]\ttraining's l2: 0.989473\ttraining's l1: 0.641501\tvalid_1's l2: 12.7547\tvalid_1's l1: 1.06685\n",
      "[4200]\ttraining's l2: 0.942417\ttraining's l1: 0.628477\tvalid_1's l2: 12.7442\tvalid_1's l1: 1.06393\n",
      "[4400]\ttraining's l2: 0.899779\ttraining's l1: 0.616053\tvalid_1's l2: 12.7337\tvalid_1's l1: 1.06066\n",
      "[4600]\ttraining's l2: 0.859735\ttraining's l1: 0.604187\tvalid_1's l2: 12.7156\tvalid_1's l1: 1.05795\n",
      "[4800]\ttraining's l2: 0.822396\ttraining's l1: 0.59262\tvalid_1's l2: 12.7107\tvalid_1's l1: 1.05509\n",
      "[5000]\ttraining's l2: 0.785042\ttraining's l1: 0.580779\tvalid_1's l2: 12.6946\tvalid_1's l1: 1.05153\n",
      "Did not meet early stopping. Best iteration is:\n",
      "[5000]\ttraining's l2: 0.785042\ttraining's l1: 0.580779\tvalid_1's l2: 12.6946\tvalid_1's l1: 1.05153\n",
      "processed: 281/594\n",
      "saving...\n",
      "(307511, 912)\n"
     ]
    },
    {
     "name": "stderr",
     "output_type": "stream",
     "text": [
      "\r",
      "281it [6:30:02, 83.28s/it]"
     ]
    },
    {
     "name": "stdout",
     "output_type": "stream",
     "text": [
      "start processing prev_CNT_PAYMENT_sum \n",
      "the na is:0.04883580581325175\n",
      "(338857, 909)\n",
      "(17398, 909)\n",
      "Training until validation scores don't improve for 100 rounds.\n",
      "[200]\ttraining's l2: 3.1429\ttraining's l1: 1.00753\tvalid_1's l2: 3.54639\tvalid_1's l1: 1.04256\n",
      "[400]\ttraining's l2: 1.51532\ttraining's l1: 0.718404\tvalid_1's l2: 2.24687\tvalid_1's l1: 0.766928\n",
      "[600]\ttraining's l2: 0.946624\ttraining's l1: 0.581945\tvalid_1's l2: 1.76009\tvalid_1's l1: 0.640377\n",
      "[800]\ttraining's l2: 0.676387\ttraining's l1: 0.498979\tvalid_1's l2: 1.53049\tvalid_1's l1: 0.56647\n",
      "[1000]\ttraining's l2: 0.518094\ttraining's l1: 0.442638\tvalid_1's l2: 1.39423\tvalid_1's l1: 0.517998\n",
      "[1200]\ttraining's l2: 0.418106\ttraining's l1: 0.400558\tvalid_1's l2: 1.31263\tvalid_1's l1: 0.483266\n",
      "[1400]\ttraining's l2: 0.350098\ttraining's l1: 0.369865\tvalid_1's l2: 1.26016\tvalid_1's l1: 0.458961\n",
      "[1600]\ttraining's l2: 0.298013\ttraining's l1: 0.34333\tvalid_1's l2: 1.21839\tvalid_1's l1: 0.437777\n",
      "[1800]\ttraining's l2: 0.259579\ttraining's l1: 0.321692\tvalid_1's l2: 1.18629\tvalid_1's l1: 0.420771\n",
      "[2000]\ttraining's l2: 0.227803\ttraining's l1: 0.302685\tvalid_1's l2: 1.1624\tvalid_1's l1: 0.406632\n",
      "[2200]\ttraining's l2: 0.20182\ttraining's l1: 0.286142\tvalid_1's l2: 1.14087\tvalid_1's l1: 0.394244\n",
      "[2400]\ttraining's l2: 0.181217\ttraining's l1: 0.272188\tvalid_1's l2: 1.12549\tvalid_1's l1: 0.38453\n",
      "[2600]\ttraining's l2: 0.164043\ttraining's l1: 0.260051\tvalid_1's l2: 1.11226\tvalid_1's l1: 0.376256\n",
      "[2800]\ttraining's l2: 0.149996\ttraining's l1: 0.249544\tvalid_1's l2: 1.10215\tvalid_1's l1: 0.369514\n",
      "[3000]\ttraining's l2: 0.137078\ttraining's l1: 0.239123\tvalid_1's l2: 1.09158\tvalid_1's l1: 0.362493\n",
      "[3200]\ttraining's l2: 0.126353\ttraining's l1: 0.229937\tvalid_1's l2: 1.08386\tvalid_1's l1: 0.356997\n",
      "[3400]\ttraining's l2: 0.117227\ttraining's l1: 0.221734\tvalid_1's l2: 1.07854\tvalid_1's l1: 0.352079\n",
      "[3600]\ttraining's l2: 0.109023\ttraining's l1: 0.214474\tvalid_1's l2: 1.07333\tvalid_1's l1: 0.348396\n",
      "[3800]\ttraining's l2: 0.101479\ttraining's l1: 0.207174\tvalid_1's l2: 1.06808\tvalid_1's l1: 0.344024\n",
      "[4000]\ttraining's l2: 0.0947874\ttraining's l1: 0.200766\tvalid_1's l2: 1.06349\tvalid_1's l1: 0.340669\n",
      "[4200]\ttraining's l2: 0.0884014\ttraining's l1: 0.194342\tvalid_1's l2: 1.0584\tvalid_1's l1: 0.33678\n",
      "[4400]\ttraining's l2: 0.0830993\ttraining's l1: 0.188717\tvalid_1's l2: 1.05454\tvalid_1's l1: 0.334041\n",
      "[4600]\ttraining's l2: 0.0782628\ttraining's l1: 0.183454\tvalid_1's l2: 1.05225\tvalid_1's l1: 0.33167\n",
      "[4800]\ttraining's l2: 0.0737407\ttraining's l1: 0.178327\tvalid_1's l2: 1.04943\tvalid_1's l1: 0.329254\n",
      "[5000]\ttraining's l2: 0.0696364\ttraining's l1: 0.173527\tvalid_1's l2: 1.04705\tvalid_1's l1: 0.327225\n",
      "Did not meet early stopping. Best iteration is:\n",
      "[5000]\ttraining's l2: 0.0696364\ttraining's l1: 0.173527\tvalid_1's l2: 1.04705\tvalid_1's l1: 0.327225\n",
      "processed: 282/594\n",
      "saving...\n",
      "(307511, 912)\n"
     ]
    },
    {
     "name": "stderr",
     "output_type": "stream",
     "text": [
      "\r",
      "282it [6:32:08, 83.44s/it]"
     ]
    },
    {
     "name": "stdout",
     "output_type": "stream",
     "text": [
      "start processing previous_application_SK_ID_CURR_sum_CNT_PAYMENT \n",
      "the na is:0.04883580581325175\n",
      "(338857, 909)\n",
      "(17398, 909)\n",
      "Training until validation scores don't improve for 100 rounds.\n",
      "[200]\ttraining's l2: 5.59079\ttraining's l1: 1.35172\tvalid_1's l2: 6.49315\tvalid_1's l1: 1.39478\n",
      "[400]\ttraining's l2: 2.95395\ttraining's l1: 1.01504\tvalid_1's l2: 4.39402\tvalid_1's l1: 1.07461\n",
      "[600]\ttraining's l2: 1.96745\ttraining's l1: 0.837652\tvalid_1's l2: 3.55038\tvalid_1's l1: 0.911391\n",
      "[800]\ttraining's l2: 1.45148\ttraining's l1: 0.723646\tvalid_1's l2: 3.11923\tvalid_1's l1: 0.81006\n",
      "[1000]\ttraining's l2: 1.1377\ttraining's l1: 0.642712\tvalid_1's l2: 2.88241\tvalid_1's l1: 0.740989\n",
      "[1200]\ttraining's l2: 0.923385\ttraining's l1: 0.583585\tvalid_1's l2: 2.70558\tvalid_1's l1: 0.693039\n",
      "[1400]\ttraining's l2: 0.774276\ttraining's l1: 0.537585\tvalid_1's l2: 2.5905\tvalid_1's l1: 0.656616\n",
      "[1600]\ttraining's l2: 0.660744\ttraining's l1: 0.498861\tvalid_1's l2: 2.50102\tvalid_1's l1: 0.626495\n",
      "[1800]\ttraining's l2: 0.57326\ttraining's l1: 0.466891\tvalid_1's l2: 2.43386\tvalid_1's l1: 0.602904\n",
      "[2000]\ttraining's l2: 0.505115\ttraining's l1: 0.439991\tvalid_1's l2: 2.38689\tvalid_1's l1: 0.584675\n",
      "[2200]\ttraining's l2: 0.449697\ttraining's l1: 0.417296\tvalid_1's l2: 2.34248\tvalid_1's l1: 0.568972\n",
      "[2400]\ttraining's l2: 0.404678\ttraining's l1: 0.396413\tvalid_1's l2: 2.31547\tvalid_1's l1: 0.554957\n",
      "[2600]\ttraining's l2: 0.365708\ttraining's l1: 0.378456\tvalid_1's l2: 2.28987\tvalid_1's l1: 0.543692\n",
      "[2800]\ttraining's l2: 0.333404\ttraining's l1: 0.362775\tvalid_1's l2: 2.27188\tvalid_1's l1: 0.534875\n",
      "[3000]\ttraining's l2: 0.304624\ttraining's l1: 0.348082\tvalid_1's l2: 2.25463\tvalid_1's l1: 0.526231\n",
      "[3200]\ttraining's l2: 0.278931\ttraining's l1: 0.334774\tvalid_1's l2: 2.23506\tvalid_1's l1: 0.518354\n",
      "[3400]\ttraining's l2: 0.25788\ttraining's l1: 0.322435\tvalid_1's l2: 2.22216\tvalid_1's l1: 0.511094\n",
      "[3600]\ttraining's l2: 0.238119\ttraining's l1: 0.310933\tvalid_1's l2: 2.20852\tvalid_1's l1: 0.504548\n",
      "[3800]\ttraining's l2: 0.220796\ttraining's l1: 0.300336\tvalid_1's l2: 2.19839\tvalid_1's l1: 0.498997\n",
      "[4000]\ttraining's l2: 0.204613\ttraining's l1: 0.289845\tvalid_1's l2: 2.18688\tvalid_1's l1: 0.492916\n",
      "[4200]\ttraining's l2: 0.19045\ttraining's l1: 0.280492\tvalid_1's l2: 2.17609\tvalid_1's l1: 0.487637\n",
      "[4400]\ttraining's l2: 0.178304\ttraining's l1: 0.271938\tvalid_1's l2: 2.17003\tvalid_1's l1: 0.483656\n",
      "[4600]\ttraining's l2: 0.167172\ttraining's l1: 0.263575\tvalid_1's l2: 2.16329\tvalid_1's l1: 0.479565\n",
      "[4800]\ttraining's l2: 0.157323\ttraining's l1: 0.256189\tvalid_1's l2: 2.15875\tvalid_1's l1: 0.47629\n",
      "[5000]\ttraining's l2: 0.148131\ttraining's l1: 0.249066\tvalid_1's l2: 2.15299\tvalid_1's l1: 0.47322\n",
      "Did not meet early stopping. Best iteration is:\n",
      "[5000]\ttraining's l2: 0.148131\ttraining's l1: 0.249066\tvalid_1's l2: 2.15299\tvalid_1's l1: 0.47322\n",
      "processed: 283/594\n",
      "saving...\n",
      "(307511, 912)\n"
     ]
    },
    {
     "name": "stderr",
     "output_type": "stream",
     "text": [
      "\r",
      "283it [6:34:13, 83.58s/it]"
     ]
    },
    {
     "name": "stdout",
     "output_type": "stream",
     "text": [
      "start processing previous_application_SK_ID_CURR_sum_AMT_ANNUITY \n",
      "the na is:0.04883580581325175\n",
      "(338857, 909)\n",
      "(17398, 909)\n",
      "Training until validation scores don't improve for 100 rounds.\n",
      "[200]\ttraining's l2: 9.98888e+06\ttraining's l1: 1556.78\tvalid_1's l2: 3.11036e+07\tvalid_1's l1: 1727.67\n",
      "[400]\ttraining's l2: 5.11042e+06\ttraining's l1: 1184.78\tvalid_1's l2: 2.8365e+07\tvalid_1's l1: 1415.35\n",
      "[600]\ttraining's l2: 3.35635e+06\ttraining's l1: 989.478\tvalid_1's l2: 2.7019e+07\tvalid_1's l1: 1260.12\n",
      "[800]\ttraining's l2: 2.44453e+06\ttraining's l1: 863.336\tvalid_1's l2: 2.66061e+07\tvalid_1's l1: 1163.94\n",
      "[1000]\ttraining's l2: 1.90198e+06\ttraining's l1: 774.201\tvalid_1's l2: 2.63659e+07\tvalid_1's l1: 1097.95\n",
      "[1200]\ttraining's l2: 1.52651e+06\ttraining's l1: 704.315\tvalid_1's l2: 2.61394e+07\tvalid_1's l1: 1047.89\n",
      "[1400]\ttraining's l2: 1.25497e+06\ttraining's l1: 649.685\tvalid_1's l2: 2.59782e+07\tvalid_1's l1: 1011.87\n",
      "[1600]\ttraining's l2: 1.05546e+06\ttraining's l1: 603.267\tvalid_1's l2: 2.59374e+07\tvalid_1's l1: 980.859\n",
      "[1800]\ttraining's l2: 907124\ttraining's l1: 563.613\tvalid_1's l2: 2.58912e+07\tvalid_1's l1: 954.79\n",
      "Early stopping, best iteration is:\n",
      "[1897]\ttraining's l2: 848375\ttraining's l1: 546.47\tvalid_1's l2: 2.58444e+07\tvalid_1's l1: 943.396\n",
      "processed: 284/594\n",
      "saving...\n",
      "(307511, 912)\n"
     ]
    },
    {
     "name": "stderr",
     "output_type": "stream",
     "text": [
      "\r",
      "284it [6:35:12, 83.50s/it]"
     ]
    },
    {
     "name": "stdout",
     "output_type": "stream",
     "text": [
      "start processing PREV_NAME_YIELD_GROUP_high_MEAN \n",
      "the na is:0.04883580581325175\n",
      "(338857, 909)\n",
      "(17398, 909)\n",
      "Training until validation scores don't improve for 100 rounds.\n",
      "[200]\ttraining's l2: 0.00272118\ttraining's l1: 0.0327151\tvalid_1's l2: 0.00278635\tvalid_1's l1: 0.0333141\n",
      "[400]\ttraining's l2: 0.00224349\ttraining's l1: 0.0291821\tvalid_1's l2: 0.00237657\tvalid_1's l1: 0.0301242\n",
      "[600]\ttraining's l2: 0.00199205\ttraining's l1: 0.0273112\tvalid_1's l2: 0.00219579\tvalid_1's l1: 0.0286658\n",
      "[800]\ttraining's l2: 0.00182402\ttraining's l1: 0.0260832\tvalid_1's l2: 0.00210078\tvalid_1's l1: 0.0278585\n",
      "[1000]\ttraining's l2: 0.00168664\ttraining's l1: 0.0250172\tvalid_1's l2: 0.00202397\tvalid_1's l1: 0.0271625\n",
      "[1200]\ttraining's l2: 0.0015838\ttraining's l1: 0.0242394\tvalid_1's l2: 0.00197921\tvalid_1's l1: 0.026753\n",
      "[1400]\ttraining's l2: 0.00149706\ttraining's l1: 0.0235777\tvalid_1's l2: 0.0019468\tvalid_1's l1: 0.0264632\n",
      "[1600]\ttraining's l2: 0.00141215\ttraining's l1: 0.0228931\tvalid_1's l2: 0.00191052\tvalid_1's l1: 0.0261238\n",
      "[1800]\ttraining's l2: 0.00134572\ttraining's l1: 0.0223686\tvalid_1's l2: 0.0018945\tvalid_1's l1: 0.0259528\n",
      "[2000]\ttraining's l2: 0.00128106\ttraining's l1: 0.0218463\tvalid_1's l2: 0.00187607\tvalid_1's l1: 0.0257679\n",
      "[2200]\ttraining's l2: 0.00122184\ttraining's l1: 0.0213636\tvalid_1's l2: 0.00185995\tvalid_1's l1: 0.0256097\n",
      "[2400]\ttraining's l2: 0.00115976\ttraining's l1: 0.0208278\tvalid_1's l2: 0.00183333\tvalid_1's l1: 0.0253504\n",
      "[2600]\ttraining's l2: 0.00111176\ttraining's l1: 0.0204126\tvalid_1's l2: 0.00181993\tvalid_1's l1: 0.0252362\n",
      "[2800]\ttraining's l2: 0.00106752\ttraining's l1: 0.020024\tvalid_1's l2: 0.00180909\tvalid_1's l1: 0.0251376\n",
      "[3000]\ttraining's l2: 0.00102265\ttraining's l1: 0.0196192\tvalid_1's l2: 0.00179744\tvalid_1's l1: 0.0250196\n",
      "[3200]\ttraining's l2: 0.000976779\ttraining's l1: 0.0191756\tvalid_1's l2: 0.00178089\tvalid_1's l1: 0.0248349\n",
      "[3400]\ttraining's l2: 0.000933977\ttraining's l1: 0.0187642\tvalid_1's l2: 0.00176699\tvalid_1's l1: 0.0246843\n",
      "[3600]\ttraining's l2: 0.000896816\ttraining's l1: 0.0184142\tvalid_1's l2: 0.0017579\tvalid_1's l1: 0.0246066\n",
      "[3800]\ttraining's l2: 0.000862886\ttraining's l1: 0.0180789\tvalid_1's l2: 0.00175124\tvalid_1's l1: 0.0245221\n",
      "[4000]\ttraining's l2: 0.000831548\ttraining's l1: 0.0177603\tvalid_1's l2: 0.00174525\tvalid_1's l1: 0.0244586\n",
      "[4200]\ttraining's l2: 0.000800954\ttraining's l1: 0.0174503\tvalid_1's l2: 0.00173889\tvalid_1's l1: 0.0244072\n",
      "[4400]\ttraining's l2: 0.00077194\ttraining's l1: 0.0171484\tvalid_1's l2: 0.00173329\tvalid_1's l1: 0.0243505\n",
      "[4600]\ttraining's l2: 0.000743411\ttraining's l1: 0.0168415\tvalid_1's l2: 0.00172719\tvalid_1's l1: 0.0242826\n",
      "[4800]\ttraining's l2: 0.000718089\ttraining's l1: 0.0165764\tvalid_1's l2: 0.00172485\tvalid_1's l1: 0.0242524\n",
      "[5000]\ttraining's l2: 0.000691215\ttraining's l1: 0.0162829\tvalid_1's l2: 0.00172016\tvalid_1's l1: 0.0241892\n",
      "Did not meet early stopping. Best iteration is:\n",
      "[5000]\ttraining's l2: 0.000691215\ttraining's l1: 0.0162829\tvalid_1's l2: 0.00172016\tvalid_1's l1: 0.0241892\n",
      "processed: 285/594\n",
      "saving...\n",
      "(307511, 912)\n"
     ]
    },
    {
     "name": "stderr",
     "output_type": "stream",
     "text": [
      "\r",
      "285it [6:37:10, 83.61s/it]"
     ]
    },
    {
     "name": "stdout",
     "output_type": "stream",
     "text": [
      "start processing prev_AMT_APPLICATION_divide_DAYS_DECISION_median \n",
      "the na is:0.04883580581325175\n",
      "(338857, 909)\n",
      "(17398, 909)\n",
      "Training until validation scores don't improve for 100 rounds.\n",
      "Early stopping, best iteration is:\n",
      "[67]\ttraining's l2: 1.14734e+06\ttraining's l1: 101.036\tvalid_1's l2: 660619\tvalid_1's l1: 110.416\n",
      "processed: 286/594\n",
      "saving...\n",
      "(307511, 912)\n"
     ]
    },
    {
     "name": "stderr",
     "output_type": "stream",
     "text": [
      "\r",
      "286it [6:37:29, 83.39s/it]"
     ]
    },
    {
     "name": "stdout",
     "output_type": "stream",
     "text": [
      "start processing prev_AMT_APPLICATION_median \n",
      "the na is:0.04883580581325175\n",
      "(338857, 909)\n",
      "(17398, 909)\n",
      "Training until validation scores don't improve for 100 rounds.\n",
      "[200]\ttraining's l2: 3.73684e+08\ttraining's l1: 10250.2\tvalid_1's l2: 5.72738e+08\tvalid_1's l1: 10864.3\n",
      "[400]\ttraining's l2: 2.73319e+08\ttraining's l1: 8982.24\tvalid_1's l2: 5.13924e+08\tvalid_1's l1: 9895.23\n",
      "[600]\ttraining's l2: 2.15355e+08\ttraining's l1: 8157.45\tvalid_1's l2: 4.78511e+08\tvalid_1's l1: 9317.99\n",
      "[800]\ttraining's l2: 1.81834e+08\ttraining's l1: 7591.84\tvalid_1's l2: 4.61463e+08\tvalid_1's l1: 8947.63\n",
      "[1000]\ttraining's l2: 1.56506e+08\ttraining's l1: 7129.05\tvalid_1's l2: 4.47739e+08\tvalid_1's l1: 8652.91\n",
      "[1200]\ttraining's l2: 1.38169e+08\ttraining's l1: 6758.63\tvalid_1's l2: 4.37779e+08\tvalid_1's l1: 8429.8\n",
      "[1400]\ttraining's l2: 1.23097e+08\ttraining's l1: 6436.08\tvalid_1's l2: 4.29386e+08\tvalid_1's l1: 8243.89\n",
      "[1600]\ttraining's l2: 1.10507e+08\ttraining's l1: 6158.7\tvalid_1's l2: 4.23003e+08\tvalid_1's l1: 8097.96\n",
      "[1800]\ttraining's l2: 1.00079e+08\ttraining's l1: 5898.64\tvalid_1's l2: 4.16826e+08\tvalid_1's l1: 7948.07\n",
      "[2000]\ttraining's l2: 9.21366e+07\ttraining's l1: 5694.1\tvalid_1's l2: 4.13552e+08\tvalid_1's l1: 7854.39\n",
      "[2200]\ttraining's l2: 8.42088e+07\ttraining's l1: 5478.5\tvalid_1's l2: 4.09039e+08\tvalid_1's l1: 7741.38\n",
      "[2400]\ttraining's l2: 7.7728e+07\ttraining's l1: 5299.59\tvalid_1's l2: 4.05676e+08\tvalid_1's l1: 7662.19\n",
      "[2600]\ttraining's l2: 7.23193e+07\ttraining's l1: 5142.71\tvalid_1's l2: 4.03446e+08\tvalid_1's l1: 7600.58\n",
      "[2800]\ttraining's l2: 6.75769e+07\ttraining's l1: 4994.77\tvalid_1's l2: 4.01949e+08\tvalid_1's l1: 7549.04\n",
      "[3000]\ttraining's l2: 6.31855e+07\ttraining's l1: 4851.88\tvalid_1's l2: 4.00237e+08\tvalid_1's l1: 7493.33\n",
      "[3200]\ttraining's l2: 5.92339e+07\ttraining's l1: 4718.07\tvalid_1's l2: 3.98458e+08\tvalid_1's l1: 7443.51\n",
      "[3400]\ttraining's l2: 5.57577e+07\ttraining's l1: 4598.53\tvalid_1's l2: 3.97387e+08\tvalid_1's l1: 7408.92\n",
      "[3600]\ttraining's l2: 5.25754e+07\ttraining's l1: 4479.72\tvalid_1's l2: 3.96274e+08\tvalid_1's l1: 7366.6\n",
      "[3800]\ttraining's l2: 4.98486e+07\ttraining's l1: 4379.11\tvalid_1's l2: 3.95987e+08\tvalid_1's l1: 7344\n",
      "[4000]\ttraining's l2: 4.71304e+07\ttraining's l1: 4272.59\tvalid_1's l2: 3.94891e+08\tvalid_1's l1: 7309.12\n",
      "[4200]\ttraining's l2: 4.44079e+07\ttraining's l1: 4163.99\tvalid_1's l2: 3.93887e+08\tvalid_1's l1: 7270.18\n",
      "[4400]\ttraining's l2: 4.20916e+07\ttraining's l1: 4070.81\tvalid_1's l2: 3.93187e+08\tvalid_1's l1: 7243.38\n",
      "[4600]\ttraining's l2: 3.99112e+07\ttraining's l1: 3975.71\tvalid_1's l2: 3.92531e+08\tvalid_1's l1: 7214.8\n",
      "[4800]\ttraining's l2: 3.78911e+07\ttraining's l1: 3886.17\tvalid_1's l2: 3.91973e+08\tvalid_1's l1: 7188.42\n",
      "[5000]\ttraining's l2: 3.61636e+07\ttraining's l1: 3803.7\tvalid_1's l2: 3.91365e+08\tvalid_1's l1: 7162.04\n",
      "Did not meet early stopping. Best iteration is:\n",
      "[5000]\ttraining's l2: 3.61636e+07\ttraining's l1: 3803.7\tvalid_1's l2: 3.91365e+08\tvalid_1's l1: 7162.04\n",
      "processed: 287/594\n",
      "saving...\n",
      "(307511, 912)\n"
     ]
    },
    {
     "name": "stderr",
     "output_type": "stream",
     "text": [
      "\r",
      "287it [6:39:25, 83.50s/it]"
     ]
    },
    {
     "name": "stdout",
     "output_type": "stream",
     "text": [
      "start processing prev_DAYS_FIRST_DRAWING_minus_DAYS_FIRST_DUE_sum \n",
      "the na is:0.04883580581325175\n",
      "(338857, 909)\n",
      "(17398, 909)\n",
      "Training until validation scores don't improve for 100 rounds.\n",
      "[200]\ttraining's l2: 2.87708e+09\ttraining's l1: 31829.2\tvalid_1's l2: 3.21179e+09\tvalid_1's l1: 32488.6\n",
      "[400]\ttraining's l2: 2.01627e+09\ttraining's l1: 26568.8\tvalid_1's l2: 2.40678e+09\tvalid_1's l1: 27642.9\n",
      "[600]\ttraining's l2: 1.62871e+09\ttraining's l1: 23959.6\tvalid_1's l2: 2.10176e+09\tvalid_1's l1: 25474\n",
      "[800]\ttraining's l2: 1.35069e+09\ttraining's l1: 21971.3\tvalid_1's l2: 1.888e+09\tvalid_1's l1: 23898.9\n",
      "[1000]\ttraining's l2: 1.14894e+09\ttraining's l1: 20388.1\tvalid_1's l2: 1.73792e+09\tvalid_1's l1: 22676.5\n",
      "[1200]\ttraining's l2: 9.91942e+08\ttraining's l1: 19010.2\tvalid_1's l2: 1.62711e+09\tvalid_1's l1: 21637.9\n",
      "[1400]\ttraining's l2: 8.75656e+08\ttraining's l1: 17952.5\tvalid_1's l2: 1.54837e+09\tvalid_1's l1: 20886.7\n",
      "[1600]\ttraining's l2: 7.7604e+08\ttraining's l1: 17010.5\tvalid_1's l2: 1.48249e+09\tvalid_1's l1: 20235.1\n",
      "[1800]\ttraining's l2: 7.00186e+08\ttraining's l1: 16228.3\tvalid_1's l2: 1.43005e+09\tvalid_1's l1: 19726.2\n",
      "[2000]\ttraining's l2: 6.32182e+08\ttraining's l1: 15499.1\tvalid_1's l2: 1.38454e+09\tvalid_1's l1: 19274.6\n",
      "[2200]\ttraining's l2: 5.7391e+08\ttraining's l1: 14824.7\tvalid_1's l2: 1.34248e+09\tvalid_1's l1: 18833.2\n",
      "[2400]\ttraining's l2: 5.25471e+08\ttraining's l1: 14238.1\tvalid_1's l2: 1.3127e+09\tvalid_1's l1: 18482.8\n",
      "[2600]\ttraining's l2: 4.82591e+08\ttraining's l1: 13682.7\tvalid_1's l2: 1.28541e+09\tvalid_1's l1: 18140.3\n",
      "[2800]\ttraining's l2: 4.48008e+08\ttraining's l1: 13220.2\tvalid_1's l2: 1.26499e+09\tvalid_1's l1: 17896.1\n",
      "[3000]\ttraining's l2: 4.15114e+08\ttraining's l1: 12790.5\tvalid_1's l2: 1.24641e+09\tvalid_1's l1: 17691.5\n",
      "[3200]\ttraining's l2: 3.86806e+08\ttraining's l1: 12380.9\tvalid_1's l2: 1.23139e+09\tvalid_1's l1: 17493.4\n",
      "[3400]\ttraining's l2: 3.60893e+08\ttraining's l1: 12001\tvalid_1's l2: 1.21775e+09\tvalid_1's l1: 17309.5\n",
      "[3600]\ttraining's l2: 3.36448e+08\ttraining's l1: 11629.5\tvalid_1's l2: 1.20123e+09\tvalid_1's l1: 17120.9\n",
      "[3800]\ttraining's l2: 3.16679e+08\ttraining's l1: 11313.4\tvalid_1's l2: 1.19175e+09\tvalid_1's l1: 16985.9\n",
      "[4000]\ttraining's l2: 2.97241e+08\ttraining's l1: 10985.5\tvalid_1's l2: 1.18068e+09\tvalid_1's l1: 16829.3\n",
      "[4200]\ttraining's l2: 2.78962e+08\ttraining's l1: 10679.2\tvalid_1's l2: 1.16921e+09\tvalid_1's l1: 16677.2\n",
      "[4400]\ttraining's l2: 2.63635e+08\ttraining's l1: 10414.4\tvalid_1's l2: 1.1623e+09\tvalid_1's l1: 16579.4\n",
      "[4600]\ttraining's l2: 2.48791e+08\ttraining's l1: 10139.4\tvalid_1's l2: 1.15389e+09\tvalid_1's l1: 16462.7\n",
      "[4800]\ttraining's l2: 2.34921e+08\ttraining's l1: 9875.39\tvalid_1's l2: 1.14636e+09\tvalid_1's l1: 16341.5\n",
      "[5000]\ttraining's l2: 2.23205e+08\ttraining's l1: 9644.55\tvalid_1's l2: 1.14096e+09\tvalid_1's l1: 16246.5\n",
      "Did not meet early stopping. Best iteration is:\n",
      "[5000]\ttraining's l2: 2.23205e+08\ttraining's l1: 9644.55\tvalid_1's l2: 1.14096e+09\tvalid_1's l1: 16246.5\n",
      "processed: 288/594\n",
      "saving...\n",
      "(307511, 912)\n"
     ]
    },
    {
     "name": "stderr",
     "output_type": "stream",
     "text": [
      "\r",
      "288it [6:41:30, 83.65s/it]"
     ]
    },
    {
     "name": "stdout",
     "output_type": "stream",
     "text": [
      "start processing previous_application_SK_ID_CURR_sum_AMT_CREDIT \n",
      "the na is:0.04883580581325175\n",
      "(338857, 909)\n",
      "(17398, 909)\n",
      "Training until validation scores don't improve for 100 rounds.\n",
      "[200]\ttraining's l2: 4.37845e+09\ttraining's l1: 30303.1\tvalid_1's l2: 8.83096e+09\tvalid_1's l1: 32718.7\n",
      "[400]\ttraining's l2: 2.4815e+09\ttraining's l1: 24726.8\tvalid_1's l2: 7.77544e+09\tvalid_1's l1: 28689\n",
      "[600]\ttraining's l2: 1.74306e+09\ttraining's l1: 21684.4\tvalid_1's l2: 7.33261e+09\tvalid_1's l1: 26607.9\n",
      "[800]\ttraining's l2: 1.34542e+09\ttraining's l1: 19513.4\tvalid_1's l2: 7.09612e+09\tvalid_1's l1: 25205.9\n",
      "[1000]\ttraining's l2: 1.09263e+09\ttraining's l1: 17883.2\tvalid_1's l2: 6.95203e+09\tvalid_1's l1: 24187.5\n",
      "[1200]\ttraining's l2: 9.11684e+08\ttraining's l1: 16622.9\tvalid_1's l2: 6.86732e+09\tvalid_1's l1: 23450.9\n",
      "[1400]\ttraining's l2: 7.76712e+08\ttraining's l1: 15558.8\tvalid_1's l2: 6.79178e+09\tvalid_1's l1: 22834.3\n",
      "[1600]\ttraining's l2: 6.70557e+08\ttraining's l1: 14611\tvalid_1's l2: 6.74896e+09\tvalid_1's l1: 22301.6\n",
      "[1800]\ttraining's l2: 5.87045e+08\ttraining's l1: 13816.2\tvalid_1's l2: 6.69039e+09\tvalid_1's l1: 21833.5\n",
      "[2000]\ttraining's l2: 5.19245e+08\ttraining's l1: 13078.3\tvalid_1's l2: 6.64732e+09\tvalid_1's l1: 21424.3\n",
      "[2200]\ttraining's l2: 4.63191e+08\ttraining's l1: 12487.3\tvalid_1's l2: 6.61933e+09\tvalid_1's l1: 21140.8\n",
      "[2400]\ttraining's l2: 4.16975e+08\ttraining's l1: 11954.5\tvalid_1's l2: 6.58895e+09\tvalid_1's l1: 20910.5\n",
      "[2600]\ttraining's l2: 3.76412e+08\ttraining's l1: 11445.8\tvalid_1's l2: 6.56695e+09\tvalid_1's l1: 20650.4\n",
      "[2800]\ttraining's l2: 3.4305e+08\ttraining's l1: 10965.5\tvalid_1's l2: 6.54836e+09\tvalid_1's l1: 20408.4\n",
      "[3000]\ttraining's l2: 3.13323e+08\ttraining's l1: 10544.2\tvalid_1's l2: 6.53326e+09\tvalid_1's l1: 20207\n",
      "[3200]\ttraining's l2: 2.8828e+08\ttraining's l1: 10155.6\tvalid_1's l2: 6.51823e+09\tvalid_1's l1: 20019.9\n",
      "[3400]\ttraining's l2: 2.66114e+08\ttraining's l1: 9793.54\tvalid_1's l2: 6.50798e+09\tvalid_1's l1: 19854.5\n",
      "[3600]\ttraining's l2: 2.46205e+08\ttraining's l1: 9466.01\tvalid_1's l2: 6.50293e+09\tvalid_1's l1: 19729.4\n",
      "[3800]\ttraining's l2: 2.27074e+08\ttraining's l1: 9135.14\tvalid_1's l2: 6.49179e+09\tvalid_1's l1: 19579.7\n",
      "[4000]\ttraining's l2: 2.11104e+08\ttraining's l1: 8846.6\tvalid_1's l2: 6.48341e+09\tvalid_1's l1: 19458.1\n",
      "[4200]\ttraining's l2: 1.96484e+08\ttraining's l1: 8567.7\tvalid_1's l2: 6.4757e+09\tvalid_1's l1: 19345.2\n",
      "[4400]\ttraining's l2: 1.84029e+08\ttraining's l1: 8317.74\tvalid_1's l2: 6.46939e+09\tvalid_1's l1: 19244\n",
      "[4600]\ttraining's l2: 1.71748e+08\ttraining's l1: 8059.26\tvalid_1's l2: 6.46233e+09\tvalid_1's l1: 19128.8\n",
      "[4800]\ttraining's l2: 1.61183e+08\ttraining's l1: 7838.21\tvalid_1's l2: 6.45455e+09\tvalid_1's l1: 19044.3\n",
      "[5000]\ttraining's l2: 1.51227e+08\ttraining's l1: 7627.91\tvalid_1's l2: 6.45038e+09\tvalid_1's l1: 18971.4\n",
      "Did not meet early stopping. Best iteration is:\n",
      "[5000]\ttraining's l2: 1.51227e+08\ttraining's l1: 7627.91\tvalid_1's l2: 6.45038e+09\tvalid_1's l1: 18971.4\n",
      "processed: 289/594\n",
      "saving...\n",
      "(307511, 912)\n"
     ]
    },
    {
     "name": "stderr",
     "output_type": "stream",
     "text": [
      "\r",
      "289it [6:43:23, 83.75s/it]"
     ]
    },
    {
     "name": "stdout",
     "output_type": "stream",
     "text": [
      "start processing previous_application_SK_ID_CURR_sum_RATE_DOWN_PAYMENT \n",
      "the na is:0.04883580581325175\n",
      "(338857, 909)\n",
      "(17398, 909)\n",
      "Training until validation scores don't improve for 100 rounds.\n",
      "[200]\ttraining's l2: 0.000635958\ttraining's l1: 0.0120375\tvalid_1's l2: 0.00114407\tvalid_1's l1: 0.0126584\n",
      "[400]\ttraining's l2: 0.000386768\ttraining's l1: 0.00986813\tvalid_1's l2: 0.000920479\tvalid_1's l1: 0.0108462\n",
      "[600]\ttraining's l2: 0.000279946\ttraining's l1: 0.00859166\tvalid_1's l2: 0.000823404\tvalid_1's l1: 0.00982825\n",
      "[800]\ttraining's l2: 0.000218186\ttraining's l1: 0.00772363\tvalid_1's l2: 0.00077951\tvalid_1's l1: 0.00918855\n",
      "[1000]\ttraining's l2: 0.000177534\ttraining's l1: 0.00706453\tvalid_1's l2: 0.000748065\tvalid_1's l1: 0.00872581\n",
      "[1200]\ttraining's l2: 0.000148374\ttraining's l1: 0.00654634\tvalid_1's l2: 0.000727582\tvalid_1's l1: 0.00837122\n",
      "[1400]\ttraining's l2: 0.000126674\ttraining's l1: 0.00610445\tvalid_1's l2: 0.000711527\tvalid_1's l1: 0.00808255\n",
      "[1600]\ttraining's l2: 0.000109704\ttraining's l1: 0.00574354\tvalid_1's l2: 0.000698951\tvalid_1's l1: 0.00786995\n",
      "[1800]\ttraining's l2: 9.62497e-05\ttraining's l1: 0.00542517\tvalid_1's l2: 0.000688739\tvalid_1's l1: 0.00767727\n",
      "[2000]\ttraining's l2: 8.51304e-05\ttraining's l1: 0.00514164\tvalid_1's l2: 0.000680208\tvalid_1's l1: 0.00751323\n",
      "[2200]\ttraining's l2: 7.58221e-05\ttraining's l1: 0.00488322\tvalid_1's l2: 0.000672914\tvalid_1's l1: 0.00736766\n",
      "[2400]\ttraining's l2: 6.81394e-05\ttraining's l1: 0.00465777\tvalid_1's l2: 0.000667448\tvalid_1's l1: 0.00724458\n",
      "[2600]\ttraining's l2: 6.15877e-05\ttraining's l1: 0.00445497\tvalid_1's l2: 0.000662542\tvalid_1's l1: 0.00713675\n",
      "[2800]\ttraining's l2: 5.58578e-05\ttraining's l1: 0.00426696\tvalid_1's l2: 0.00065784\tvalid_1's l1: 0.0070313\n",
      "[3000]\ttraining's l2: 5.09239e-05\ttraining's l1: 0.00409411\tvalid_1's l2: 0.000654227\tvalid_1's l1: 0.00694285\n",
      "[3200]\ttraining's l2: 4.65491e-05\ttraining's l1: 0.00392906\tvalid_1's l2: 0.000651452\tvalid_1's l1: 0.00685608\n",
      "[3400]\ttraining's l2: 4.28736e-05\ttraining's l1: 0.0037845\tvalid_1's l2: 0.000648851\tvalid_1's l1: 0.00678669\n",
      "[3600]\ttraining's l2: 3.96569e-05\ttraining's l1: 0.00365606\tvalid_1's l2: 0.00064677\tvalid_1's l1: 0.00672506\n",
      "[3800]\ttraining's l2: 3.67567e-05\ttraining's l1: 0.00353708\tvalid_1's l2: 0.000644911\tvalid_1's l1: 0.00667448\n",
      "[4000]\ttraining's l2: 3.41091e-05\ttraining's l1: 0.00342107\tvalid_1's l2: 0.000643284\tvalid_1's l1: 0.00662403\n",
      "[4200]\ttraining's l2: 3.1743e-05\ttraining's l1: 0.00331075\tvalid_1's l2: 0.000641557\tvalid_1's l1: 0.0065738\n",
      "[4400]\ttraining's l2: 2.95845e-05\ttraining's l1: 0.00320699\tvalid_1's l2: 0.000640273\tvalid_1's l1: 0.00652632\n",
      "[4600]\ttraining's l2: 2.76113e-05\ttraining's l1: 0.00311012\tvalid_1's l2: 0.000638831\tvalid_1's l1: 0.00648839\n",
      "[4800]\ttraining's l2: 2.58807e-05\ttraining's l1: 0.00302128\tvalid_1's l2: 0.000637918\tvalid_1's l1: 0.0064567\n",
      "[5000]\ttraining's l2: 2.43712e-05\ttraining's l1: 0.00293984\tvalid_1's l2: 0.000637073\tvalid_1's l1: 0.00643021\n",
      "Did not meet early stopping. Best iteration is:\n",
      "[5000]\ttraining's l2: 2.43712e-05\ttraining's l1: 0.00293984\tvalid_1's l2: 0.000637073\tvalid_1's l1: 0.00643021\n",
      "processed: 290/594\n",
      "saving...\n",
      "(307511, 912)\n"
     ]
    },
    {
     "name": "stderr",
     "output_type": "stream",
     "text": [
      "\r",
      "290it [6:45:24, 83.88s/it]"
     ]
    },
    {
     "name": "stdout",
     "output_type": "stream",
     "text": [
      "start processing previous_application_SK_ID_CURR_sum_HOUR_APPR_PROCESS_START \n",
      "the na is:0.04883580581325175\n",
      "(338857, 909)\n",
      "(17398, 909)\n",
      "Training until validation scores don't improve for 100 rounds.\n",
      "[200]\ttraining's l2: 6.72664\ttraining's l1: 1.65814\tvalid_1's l2: 8.13849\tvalid_1's l1: 1.67355\n",
      "[400]\ttraining's l2: 3.7799\ttraining's l1: 1.25513\tvalid_1's l2: 5.16607\tvalid_1's l1: 1.29516\n",
      "[600]\ttraining's l2: 2.60666\ttraining's l1: 1.04721\tvalid_1's l2: 4.01133\tvalid_1's l1: 1.1015\n",
      "[800]\ttraining's l2: 1.98359\ttraining's l1: 0.913439\tvalid_1's l2: 3.39647\tvalid_1's l1: 0.977138\n",
      "[1000]\ttraining's l2: 1.61492\ttraining's l1: 0.827519\tvalid_1's l2: 3.06731\tvalid_1's l1: 0.902696\n",
      "[1200]\ttraining's l2: 1.34137\ttraining's l1: 0.760019\tvalid_1's l2: 2.81606\tvalid_1's l1: 0.844229\n",
      "[1400]\ttraining's l2: 1.14729\ttraining's l1: 0.704301\tvalid_1's l2: 2.63144\tvalid_1's l1: 0.795978\n",
      "[1600]\ttraining's l2: 1.00879\ttraining's l1: 0.663166\tvalid_1's l2: 2.51721\tvalid_1's l1: 0.763058\n",
      "[1800]\ttraining's l2: 0.896663\ttraining's l1: 0.626861\tvalid_1's l2: 2.42489\tvalid_1's l1: 0.734832\n",
      "[2000]\ttraining's l2: 0.799391\ttraining's l1: 0.593062\tvalid_1's l2: 2.34463\tvalid_1's l1: 0.707969\n",
      "[2200]\ttraining's l2: 0.716995\ttraining's l1: 0.562743\tvalid_1's l2: 2.2737\tvalid_1's l1: 0.684687\n",
      "[2400]\ttraining's l2: 0.649926\ttraining's l1: 0.537458\tvalid_1's l2: 2.21727\tvalid_1's l1: 0.665949\n",
      "[2600]\ttraining's l2: 0.592652\ttraining's l1: 0.514075\tvalid_1's l2: 2.17094\tvalid_1's l1: 0.649748\n",
      "[2800]\ttraining's l2: 0.54046\ttraining's l1: 0.49216\tvalid_1's l2: 2.12844\tvalid_1's l1: 0.633881\n",
      "[3000]\ttraining's l2: 0.497733\ttraining's l1: 0.47282\tvalid_1's l2: 2.09933\tvalid_1's l1: 0.621105\n",
      "[3200]\ttraining's l2: 0.460972\ttraining's l1: 0.455744\tvalid_1's l2: 2.0732\tvalid_1's l1: 0.610211\n",
      "[3400]\ttraining's l2: 0.425187\ttraining's l1: 0.438496\tvalid_1's l2: 2.04466\tvalid_1's l1: 0.598997\n",
      "[3600]\ttraining's l2: 0.396693\ttraining's l1: 0.423739\tvalid_1's l2: 2.02476\tvalid_1's l1: 0.590439\n",
      "[3800]\ttraining's l2: 0.372085\ttraining's l1: 0.41104\tvalid_1's l2: 2.00658\tvalid_1's l1: 0.583162\n",
      "[4000]\ttraining's l2: 0.348608\ttraining's l1: 0.398633\tvalid_1's l2: 1.99275\tvalid_1's l1: 0.576675\n",
      "[4200]\ttraining's l2: 0.327441\ttraining's l1: 0.386784\tvalid_1's l2: 1.97725\tvalid_1's l1: 0.570074\n",
      "[4400]\ttraining's l2: 0.30696\ttraining's l1: 0.374986\tvalid_1's l2: 1.96168\tvalid_1's l1: 0.562923\n",
      "[4600]\ttraining's l2: 0.288636\ttraining's l1: 0.36367\tvalid_1's l2: 1.94856\tvalid_1's l1: 0.556478\n",
      "[4800]\ttraining's l2: 0.272237\ttraining's l1: 0.353725\tvalid_1's l2: 1.94042\tvalid_1's l1: 0.551534\n",
      "[5000]\ttraining's l2: 0.257895\ttraining's l1: 0.34457\tvalid_1's l2: 1.93285\tvalid_1's l1: 0.547323\n",
      "Did not meet early stopping. Best iteration is:\n",
      "[5000]\ttraining's l2: 0.257895\ttraining's l1: 0.34457\tvalid_1's l2: 1.93285\tvalid_1's l1: 0.547323\n",
      "processed: 291/594\n",
      "saving...\n",
      "(307511, 912)\n"
     ]
    },
    {
     "name": "stderr",
     "output_type": "stream",
     "text": [
      "\r",
      "291it [6:47:40, 84.06s/it]"
     ]
    },
    {
     "name": "stdout",
     "output_type": "stream",
     "text": [
      "start processing previous_application_SK_ID_CURR_sum_AMT_APPLICATION \n",
      "the na is:0.04883580581325175\n",
      "(338857, 909)\n",
      "(17398, 909)\n",
      "Training until validation scores don't improve for 100 rounds.\n",
      "[200]\ttraining's l2: 5.36571e+09\ttraining's l1: 37521.7\tvalid_1's l2: 8.58056e+09\tvalid_1's l1: 39462.4\n",
      "[400]\ttraining's l2: 3.10239e+09\ttraining's l1: 29914.2\tvalid_1's l2: 6.91593e+09\tvalid_1's l1: 33143.9\n",
      "[600]\ttraining's l2: 2.2214e+09\ttraining's l1: 26016.4\tvalid_1's l2: 6.29655e+09\tvalid_1's l1: 30101.8\n",
      "[800]\ttraining's l2: 1.72091e+09\ttraining's l1: 23299.8\tvalid_1's l2: 5.94839e+09\tvalid_1's l1: 28071.7\n",
      "[1000]\ttraining's l2: 1.38812e+09\ttraining's l1: 21328.3\tvalid_1's l2: 5.71493e+09\tvalid_1's l1: 26662.3\n",
      "[1200]\ttraining's l2: 1.15178e+09\ttraining's l1: 19650.4\tvalid_1's l2: 5.55561e+09\tvalid_1's l1: 25474.3\n",
      "[1400]\ttraining's l2: 9.7874e+08\ttraining's l1: 18305.9\tvalid_1's l2: 5.44019e+09\tvalid_1's l1: 24574.9\n",
      "[1600]\ttraining's l2: 8.42205e+08\ttraining's l1: 17130.2\tvalid_1's l2: 5.35887e+09\tvalid_1's l1: 23778.2\n",
      "[1800]\ttraining's l2: 7.36011e+08\ttraining's l1: 16116.9\tvalid_1's l2: 5.28796e+09\tvalid_1's l1: 23120.8\n",
      "[2000]\ttraining's l2: 6.49855e+08\ttraining's l1: 15277.2\tvalid_1's l2: 5.23247e+09\tvalid_1's l1: 22613.9\n",
      "[2200]\ttraining's l2: 5.79435e+08\ttraining's l1: 14508.1\tvalid_1's l2: 5.18954e+09\tvalid_1's l1: 22139.9\n",
      "[2400]\ttraining's l2: 5.19506e+08\ttraining's l1: 13845.7\tvalid_1's l2: 5.14774e+09\tvalid_1's l1: 21743.5\n",
      "[2600]\ttraining's l2: 4.68104e+08\ttraining's l1: 13205.7\tvalid_1's l2: 5.11724e+09\tvalid_1's l1: 21350.8\n",
      "[2800]\ttraining's l2: 4.25126e+08\ttraining's l1: 12625\tvalid_1's l2: 5.08469e+09\tvalid_1's l1: 21008.2\n",
      "[3000]\ttraining's l2: 3.87081e+08\ttraining's l1: 12105.2\tvalid_1's l2: 5.0635e+09\tvalid_1's l1: 20724.5\n",
      "[3200]\ttraining's l2: 3.53809e+08\ttraining's l1: 11619.1\tvalid_1's l2: 5.03965e+09\tvalid_1's l1: 20439.1\n",
      "[3400]\ttraining's l2: 3.24015e+08\ttraining's l1: 11166.1\tvalid_1's l2: 5.02513e+09\tvalid_1's l1: 20187.1\n",
      "[3600]\ttraining's l2: 2.98473e+08\ttraining's l1: 10777.4\tvalid_1's l2: 5.01197e+09\tvalid_1's l1: 20007.9\n",
      "[3800]\ttraining's l2: 2.76002e+08\ttraining's l1: 10402.9\tvalid_1's l2: 5.00008e+09\tvalid_1's l1: 19827.5\n",
      "[4000]\ttraining's l2: 2.56131e+08\ttraining's l1: 10041.8\tvalid_1's l2: 4.99074e+09\tvalid_1's l1: 19647.4\n",
      "[4200]\ttraining's l2: 2.38013e+08\ttraining's l1: 9723.67\tvalid_1's l2: 4.98038e+09\tvalid_1's l1: 19506.9\n",
      "[4400]\ttraining's l2: 2.21338e+08\ttraining's l1: 9409.89\tvalid_1's l2: 4.96778e+09\tvalid_1's l1: 19351.3\n",
      "[4600]\ttraining's l2: 2.06947e+08\ttraining's l1: 9128.22\tvalid_1's l2: 4.95926e+09\tvalid_1's l1: 19221.8\n",
      "[4800]\ttraining's l2: 1.93433e+08\ttraining's l1: 8852.09\tvalid_1's l2: 4.9508e+09\tvalid_1's l1: 19089.1\n",
      "[5000]\ttraining's l2: 1.81216e+08\ttraining's l1: 8585.62\tvalid_1's l2: 4.94517e+09\tvalid_1's l1: 18969.3\n",
      "Did not meet early stopping. Best iteration is:\n",
      "[5000]\ttraining's l2: 1.81216e+08\ttraining's l1: 8585.62\tvalid_1's l2: 4.94517e+09\tvalid_1's l1: 18969.3\n",
      "processed: 292/594\n",
      "saving...\n",
      "(307511, 912)\n"
     ]
    },
    {
     "name": "stderr",
     "output_type": "stream",
     "text": [
      "\r",
      "292it [6:49:43, 84.19s/it]"
     ]
    },
    {
     "name": "stdout",
     "output_type": "stream",
     "text": [
      "start processing prev_AMT_ANNUITY_sum \n",
      "the na is:0.04883580581325175\n",
      "(338857, 909)\n",
      "(17398, 909)\n",
      "Training until validation scores don't improve for 100 rounds.\n",
      "[200]\ttraining's l2: 9.26661e+06\ttraining's l1: 1491.11\tvalid_1's l2: 3.02589e+07\tvalid_1's l1: 1663.47\n",
      "[400]\ttraining's l2: 4.67656e+06\ttraining's l1: 1136.82\tvalid_1's l2: 2.74153e+07\tvalid_1's l1: 1366.14\n",
      "[600]\ttraining's l2: 3.12812e+06\ttraining's l1: 956.961\tvalid_1's l2: 2.67271e+07\tvalid_1's l1: 1223.84\n",
      "[800]\ttraining's l2: 2.30195e+06\ttraining's l1: 843.969\tvalid_1's l2: 2.63467e+07\tvalid_1's l1: 1142.97\n",
      "[1000]\ttraining's l2: 1.78187e+06\ttraining's l1: 758.018\tvalid_1's l2: 2.61088e+07\tvalid_1's l1: 1082.28\n",
      "[1200]\ttraining's l2: 1.43687e+06\ttraining's l1: 690.815\tvalid_1's l2: 2.59551e+07\tvalid_1's l1: 1034.79\n",
      "[1400]\ttraining's l2: 1.19133e+06\ttraining's l1: 636.738\tvalid_1's l2: 2.5819e+07\tvalid_1's l1: 998.204\n",
      "[1600]\ttraining's l2: 1.00462e+06\ttraining's l1: 590.329\tvalid_1's l2: 2.57046e+07\tvalid_1's l1: 966.931\n",
      "[1800]\ttraining's l2: 862464\ttraining's l1: 552.954\tvalid_1's l2: 2.56785e+07\tvalid_1's l1: 942.707\n",
      "[2000]\ttraining's l2: 748960\ttraining's l1: 518.037\tvalid_1's l2: 2.56503e+07\tvalid_1's l1: 920.335\n",
      "[2200]\ttraining's l2: 656723\ttraining's l1: 487.769\tvalid_1's l2: 2.56047e+07\tvalid_1's l1: 900.471\n",
      "[2400]\ttraining's l2: 581183\ttraining's l1: 463.395\tvalid_1's l2: 2.55793e+07\tvalid_1's l1: 886.764\n",
      "[2600]\ttraining's l2: 520717\ttraining's l1: 440.463\tvalid_1's l2: 2.55545e+07\tvalid_1's l1: 873.013\n",
      "[2800]\ttraining's l2: 469365\ttraining's l1: 420.696\tvalid_1's l2: 2.55269e+07\tvalid_1's l1: 861.803\n",
      "[3000]\ttraining's l2: 425427\ttraining's l1: 402.342\tvalid_1's l2: 2.54959e+07\tvalid_1's l1: 851.582\n",
      "[3200]\ttraining's l2: 388187\ttraining's l1: 386.462\tvalid_1's l2: 2.54734e+07\tvalid_1's l1: 843.141\n",
      "[3400]\ttraining's l2: 355513\ttraining's l1: 371.969\tvalid_1's l2: 2.54486e+07\tvalid_1's l1: 835.497\n",
      "[3600]\ttraining's l2: 326934\ttraining's l1: 358.754\tvalid_1's l2: 2.54315e+07\tvalid_1's l1: 829.001\n",
      "[3800]\ttraining's l2: 301429\ttraining's l1: 346.614\tvalid_1's l2: 2.54144e+07\tvalid_1's l1: 823.453\n",
      "[4000]\ttraining's l2: 278779\ttraining's l1: 335.337\tvalid_1's l2: 2.54049e+07\tvalid_1's l1: 818.435\n",
      "[4200]\ttraining's l2: 259794\ttraining's l1: 325.143\tvalid_1's l2: 2.53969e+07\tvalid_1's l1: 813.894\n",
      "[4400]\ttraining's l2: 242151\ttraining's l1: 314.984\tvalid_1's l2: 2.5394e+07\tvalid_1's l1: 809.028\n",
      "[4600]\ttraining's l2: 225817\ttraining's l1: 305.441\tvalid_1's l2: 2.53841e+07\tvalid_1's l1: 804.924\n",
      "[4800]\ttraining's l2: 211483\ttraining's l1: 296.619\tvalid_1's l2: 2.53684e+07\tvalid_1's l1: 801.145\n",
      "[5000]\ttraining's l2: 198370\ttraining's l1: 288.708\tvalid_1's l2: 2.53642e+07\tvalid_1's l1: 798.291\n",
      "Did not meet early stopping. Best iteration is:\n",
      "[5000]\ttraining's l2: 198370\ttraining's l1: 288.708\tvalid_1's l2: 2.53642e+07\tvalid_1's l1: 798.291\n",
      "processed: 293/594\n",
      "saving...\n",
      "(307511, 912)\n"
     ]
    },
    {
     "name": "stderr",
     "output_type": "stream",
     "text": [
      "\r",
      "293it [6:51:47, 84.33s/it]"
     ]
    },
    {
     "name": "stdout",
     "output_type": "stream",
     "text": [
      "start processing previous_application_SK_ID_CURR_sum_AMT_DOWN_PAYMENT \n",
      "the na is:0.04883580581325175\n",
      "(338857, 909)\n",
      "(17398, 909)\n",
      "Training until validation scores don't improve for 100 rounds.\n",
      "[200]\ttraining's l2: 2.5056e+07\ttraining's l1: 1213.35\tvalid_1's l2: 1.33247e+08\tvalid_1's l1: 1542.53\n",
      "[400]\ttraining's l2: 9.38395e+06\ttraining's l1: 967.254\tvalid_1's l2: 1.2896e+08\tvalid_1's l1: 1387.99\n",
      "Early stopping, best iteration is:\n",
      "[373]\ttraining's l2: 1.04683e+07\ttraining's l1: 990.239\tvalid_1's l2: 1.27919e+08\tvalid_1's l1: 1400.23\n",
      "processed: 294/594\n",
      "saving...\n",
      "(307511, 912)\n"
     ]
    },
    {
     "name": "stderr",
     "output_type": "stream",
     "text": [
      "\r",
      "294it [6:52:13, 84.13s/it]"
     ]
    },
    {
     "name": "stdout",
     "output_type": "stream",
     "text": [
      "start processing prev_AMT_ANNUITY_divide_DAYS_LAST_DUE_1ST_VERSION_minus_DAYS_LAST_DUE_sum \n",
      "the na is:0.04883580581325175\n",
      "(338857, 909)\n",
      "(17398, 909)\n",
      "Training until validation scores don't improve for 100 rounds.\n",
      "[200]\ttraining's l2: 1.14348e+13\ttraining's l1: 1.84791e+06\tvalid_1's l2: 1.47105e+13\tvalid_1's l1: 1.94992e+06\n",
      "[400]\ttraining's l2: 7.54805e+12\ttraining's l1: 1.5439e+06\tvalid_1's l2: 1.14589e+13\tvalid_1's l1: 1.68248e+06\n",
      "[600]\ttraining's l2: 5.87311e+12\ttraining's l1: 1.38336e+06\tvalid_1's l2: 1.0211e+13\tvalid_1's l1: 1.55442e+06\n",
      "[800]\ttraining's l2: 4.89709e+12\ttraining's l1: 1.28159e+06\tvalid_1's l2: 9.57702e+12\tvalid_1's l1: 1.4841e+06\n",
      "[1000]\ttraining's l2: 4.2155e+12\ttraining's l1: 1.1966e+06\tvalid_1's l2: 9.11985e+12\tvalid_1's l1: 1.42487e+06\n",
      "[1200]\ttraining's l2: 3.7095e+12\ttraining's l1: 1.13152e+06\tvalid_1's l2: 8.81908e+12\tvalid_1's l1: 1.38419e+06\n",
      "[1400]\ttraining's l2: 3.3043e+12\ttraining's l1: 1.07595e+06\tvalid_1's l2: 8.60651e+12\tvalid_1's l1: 1.35206e+06\n",
      "[1600]\ttraining's l2: 2.98375e+12\ttraining's l1: 1.02961e+06\tvalid_1's l2: 8.41248e+12\tvalid_1's l1: 1.32759e+06\n",
      "[1800]\ttraining's l2: 2.71241e+12\ttraining's l1: 989004\tvalid_1's l2: 8.25291e+12\tvalid_1's l1: 1.30685e+06\n",
      "[2000]\ttraining's l2: 2.49077e+12\ttraining's l1: 953337\tvalid_1's l2: 8.13753e+12\tvalid_1's l1: 1.29062e+06\n",
      "[2200]\ttraining's l2: 2.29742e+12\ttraining's l1: 920295\tvalid_1's l2: 8.04775e+12\tvalid_1's l1: 1.27592e+06\n",
      "[2400]\ttraining's l2: 2.12907e+12\ttraining's l1: 890253\tvalid_1's l2: 7.96957e+12\tvalid_1's l1: 1.26352e+06\n",
      "[2600]\ttraining's l2: 1.97521e+12\ttraining's l1: 861310\tvalid_1's l2: 7.8868e+12\tvalid_1's l1: 1.24983e+06\n",
      "[2800]\ttraining's l2: 1.84001e+12\ttraining's l1: 835073\tvalid_1's l2: 7.83299e+12\tvalid_1's l1: 1.23949e+06\n",
      "[3000]\ttraining's l2: 1.72504e+12\ttraining's l1: 812057\tvalid_1's l2: 7.78007e+12\tvalid_1's l1: 1.23177e+06\n",
      "[3200]\ttraining's l2: 1.61679e+12\ttraining's l1: 789184\tvalid_1's l2: 7.7352e+12\tvalid_1's l1: 1.22326e+06\n",
      "[3400]\ttraining's l2: 1.52418e+12\ttraining's l1: 768846\tvalid_1's l2: 7.70438e+12\tvalid_1's l1: 1.21686e+06\n",
      "[3600]\ttraining's l2: 1.4372e+12\ttraining's l1: 749420\tvalid_1's l2: 7.66367e+12\tvalid_1's l1: 1.21027e+06\n",
      "[3800]\ttraining's l2: 1.35387e+12\ttraining's l1: 729556\tvalid_1's l2: 7.62691e+12\tvalid_1's l1: 1.20314e+06\n",
      "[4000]\ttraining's l2: 1.2766e+12\ttraining's l1: 710643\tvalid_1's l2: 7.5802e+12\tvalid_1's l1: 1.19552e+06\n",
      "[4200]\ttraining's l2: 1.20434e+12\ttraining's l1: 692679\tvalid_1's l2: 7.54022e+12\tvalid_1's l1: 1.18924e+06\n",
      "[4400]\ttraining's l2: 1.14356e+12\ttraining's l1: 676448\tvalid_1's l2: 7.51348e+12\tvalid_1's l1: 1.18446e+06\n",
      "[4600]\ttraining's l2: 1.08344e+12\ttraining's l1: 660760\tvalid_1's l2: 7.49037e+12\tvalid_1's l1: 1.17983e+06\n",
      "[4800]\ttraining's l2: 1.02712e+12\ttraining's l1: 644990\tvalid_1's l2: 7.46623e+12\tvalid_1's l1: 1.17462e+06\n",
      "[5000]\ttraining's l2: 9.79771e+11\ttraining's l1: 631028\tvalid_1's l2: 7.44386e+12\tvalid_1's l1: 1.17026e+06\n",
      "Did not meet early stopping. Best iteration is:\n",
      "[5000]\ttraining's l2: 9.79771e+11\ttraining's l1: 631028\tvalid_1's l2: 7.44386e+12\tvalid_1's l1: 1.17026e+06\n",
      "processed: 295/594\n",
      "saving...\n",
      "(307511, 912)\n"
     ]
    },
    {
     "name": "stderr",
     "output_type": "stream",
     "text": [
      "\r",
      "295it [6:54:18, 84.26s/it]"
     ]
    },
    {
     "name": "stdout",
     "output_type": "stream",
     "text": [
      "start processing previous_application_SK_ID_CURR_mean_HOUR_APPR_PROCESS_START \n",
      "the na is:0.04883580581325175\n",
      "(338857, 909)\n",
      "(17398, 909)\n",
      "Training until validation scores don't improve for 100 rounds.\n",
      "[200]\ttraining's l2: 0.156552\ttraining's l1: 0.276756\tvalid_1's l2: 0.160682\tvalid_1's l1: 0.280284\n",
      "[400]\ttraining's l2: 0.0868406\ttraining's l1: 0.207881\tvalid_1's l2: 0.0909431\tvalid_1's l1: 0.211494\n",
      "[600]\ttraining's l2: 0.0526879\ttraining's l1: 0.162452\tvalid_1's l2: 0.0564196\tvalid_1's l1: 0.166367\n",
      "[800]\ttraining's l2: 0.0364223\ttraining's l1: 0.135205\tvalid_1's l2: 0.0400485\tvalid_1's l1: 0.1394\n",
      "[1000]\ttraining's l2: 0.0265989\ttraining's l1: 0.115804\tvalid_1's l2: 0.0300792\tvalid_1's l1: 0.120337\n",
      "[1200]\ttraining's l2: 0.0202752\ttraining's l1: 0.101527\tvalid_1's l2: 0.0237596\tvalid_1's l1: 0.106437\n",
      "[1400]\ttraining's l2: 0.0159808\ttraining's l1: 0.0902956\tvalid_1's l2: 0.0193528\tvalid_1's l1: 0.0956513\n",
      "[1600]\ttraining's l2: 0.0129861\ttraining's l1: 0.0817242\tvalid_1's l2: 0.0163455\tvalid_1's l1: 0.0873866\n",
      "[1800]\ttraining's l2: 0.0107812\ttraining's l1: 0.0749705\tvalid_1's l2: 0.0141415\tvalid_1's l1: 0.0809413\n",
      "[2000]\ttraining's l2: 0.00914495\ttraining's l1: 0.0692398\tvalid_1's l2: 0.0124717\tvalid_1's l1: 0.0754427\n",
      "[2200]\ttraining's l2: 0.00776442\ttraining's l1: 0.063941\tvalid_1's l2: 0.0110872\tvalid_1's l1: 0.0704265\n",
      "[2400]\ttraining's l2: 0.00682921\ttraining's l1: 0.0601667\tvalid_1's l2: 0.0102014\tvalid_1's l1: 0.0670534\n",
      "[2600]\ttraining's l2: 0.00605592\ttraining's l1: 0.0568144\tvalid_1's l2: 0.00945865\tvalid_1's l1: 0.0640778\n",
      "[2800]\ttraining's l2: 0.00536801\ttraining's l1: 0.0535598\tvalid_1's l2: 0.00879609\tvalid_1's l1: 0.0611707\n",
      "[3000]\ttraining's l2: 0.00476358\ttraining's l1: 0.0505326\tvalid_1's l2: 0.00818155\tvalid_1's l1: 0.058435\n",
      "[3200]\ttraining's l2: 0.00431046\ttraining's l1: 0.0481658\tvalid_1's l2: 0.00771423\tvalid_1's l1: 0.0563678\n",
      "[3400]\ttraining's l2: 0.00393589\ttraining's l1: 0.0461024\tvalid_1's l2: 0.00735249\tvalid_1's l1: 0.0546821\n",
      "[3600]\ttraining's l2: 0.00358163\ttraining's l1: 0.0440693\tvalid_1's l2: 0.00700208\tvalid_1's l1: 0.0529143\n",
      "[3800]\ttraining's l2: 0.00330078\ttraining's l1: 0.0423341\tvalid_1's l2: 0.00673074\tvalid_1's l1: 0.0514615\n",
      "[4000]\ttraining's l2: 0.00304421\ttraining's l1: 0.0406838\tvalid_1's l2: 0.00647805\tvalid_1's l1: 0.0500813\n",
      "[4200]\ttraining's l2: 0.00283156\ttraining's l1: 0.0392868\tvalid_1's l2: 0.00628551\tvalid_1's l1: 0.0490345\n",
      "[4400]\ttraining's l2: 0.00264029\ttraining's l1: 0.0379375\tvalid_1's l2: 0.00610384\tvalid_1's l1: 0.0479855\n",
      "[4600]\ttraining's l2: 0.00247772\ttraining's l1: 0.0367791\tvalid_1's l2: 0.00596037\tvalid_1's l1: 0.0471506\n",
      "[4800]\ttraining's l2: 0.00233779\ttraining's l1: 0.0357785\tvalid_1's l2: 0.00584292\tvalid_1's l1: 0.0465063\n",
      "[5000]\ttraining's l2: 0.00220819\ttraining's l1: 0.0348032\tvalid_1's l2: 0.00573573\tvalid_1's l1: 0.045861\n",
      "Did not meet early stopping. Best iteration is:\n",
      "[5000]\ttraining's l2: 0.00220819\ttraining's l1: 0.0348032\tvalid_1's l2: 0.00573573\tvalid_1's l1: 0.045861\n",
      "processed: 296/594\n",
      "saving...\n",
      "(307511, 912)\n"
     ]
    },
    {
     "name": "stderr",
     "output_type": "stream",
     "text": [
      "\r",
      "296it [6:56:32, 84.43s/it]"
     ]
    },
    {
     "name": "stdout",
     "output_type": "stream",
     "text": [
      "start processing prev_AMT_APPLICATION_divide_DAYS_DECISION_mean \n",
      "the na is:0.04883580581325175\n",
      "(338857, 909)\n",
      "(17398, 909)\n",
      "Training until validation scores don't improve for 100 rounds.\n",
      "[200]\ttraining's l2: 407042\ttraining's l1: 153.525\tvalid_1's l2: 1.32372e+06\tvalid_1's l1: 194.126\n",
      "[400]\ttraining's l2: 183088\ttraining's l1: 123.16\tvalid_1's l2: 1.20931e+06\tvalid_1's l1: 176.355\n",
      "[600]\ttraining's l2: 103625\ttraining's l1: 104.601\tvalid_1's l2: 1.17217e+06\tvalid_1's l1: 166.279\n",
      "[800]\ttraining's l2: 65658\ttraining's l1: 90.859\tvalid_1's l2: 1.15439e+06\tvalid_1's l1: 158.657\n",
      "[1000]\ttraining's l2: 47669.1\ttraining's l1: 81.3038\tvalid_1's l2: 1.14449e+06\tvalid_1's l1: 153.634\n",
      "Early stopping, best iteration is:\n",
      "[965]\ttraining's l2: 50152.9\ttraining's l1: 83.0036\tvalid_1's l2: 1.14338e+06\tvalid_1's l1: 154.463\n",
      "processed: 297/594\n",
      "saving...\n",
      "(307511, 912)\n"
     ]
    },
    {
     "name": "stderr",
     "output_type": "stream",
     "text": [
      "\r",
      "297it [6:57:08, 84.27s/it]"
     ]
    },
    {
     "name": "stdout",
     "output_type": "stream",
     "text": [
      "start processing prev_AMT_APPLICATION_divide_AMT_CREDIT_median \n",
      "the na is:0.04883580581325175\n",
      "(338857, 909)\n",
      "(17398, 909)\n",
      "Training until validation scores don't improve for 100 rounds.\n",
      "[200]\ttraining's l2: 0.00139061\ttraining's l1: 0.0229836\tvalid_1's l2: 0.00138941\tvalid_1's l1: 0.0232202\n",
      "[400]\ttraining's l2: 0.000965486\ttraining's l1: 0.0191558\tvalid_1's l2: 0.0010391\tvalid_1's l1: 0.0196366\n",
      "[600]\ttraining's l2: 0.000774679\ttraining's l1: 0.0172693\tvalid_1's l2: 0.00089959\tvalid_1's l1: 0.0180163\n",
      "[800]\ttraining's l2: 0.000663397\ttraining's l1: 0.0160974\tvalid_1's l2: 0.000827328\tvalid_1's l1: 0.0170847\n",
      "[1000]\ttraining's l2: 0.000584691\ttraining's l1: 0.0151979\tvalid_1's l2: 0.000776114\tvalid_1's l1: 0.0164116\n",
      "[1200]\ttraining's l2: 0.000524801\ttraining's l1: 0.0144768\tvalid_1's l2: 0.00074304\tvalid_1's l1: 0.0159208\n",
      "[1400]\ttraining's l2: 0.000477091\ttraining's l1: 0.0138958\tvalid_1's l2: 0.000719278\tvalid_1's l1: 0.0155758\n",
      "[1600]\ttraining's l2: 0.00043889\ttraining's l1: 0.0133853\tvalid_1's l2: 0.000699981\tvalid_1's l1: 0.0152765\n",
      "[1800]\ttraining's l2: 0.000408044\ttraining's l1: 0.0129491\tvalid_1's l2: 0.000686201\tvalid_1's l1: 0.015041\n",
      "[2000]\ttraining's l2: 0.000381201\ttraining's l1: 0.0125676\tvalid_1's l2: 0.000673856\tvalid_1's l1: 0.0148546\n",
      "[2200]\ttraining's l2: 0.000357048\ttraining's l1: 0.0122151\tvalid_1's l2: 0.000663229\tvalid_1's l1: 0.0147004\n",
      "[2400]\ttraining's l2: 0.000335887\ttraining's l1: 0.0118811\tvalid_1's l2: 0.000655664\tvalid_1's l1: 0.0145594\n",
      "[2600]\ttraining's l2: 0.000316397\ttraining's l1: 0.0115707\tvalid_1's l2: 0.000646791\tvalid_1's l1: 0.0144199\n",
      "[2800]\ttraining's l2: 0.000299601\ttraining's l1: 0.011285\tvalid_1's l2: 0.000640623\tvalid_1's l1: 0.0143098\n",
      "[3000]\ttraining's l2: 0.000284948\ttraining's l1: 0.0110344\tvalid_1's l2: 0.000635956\tvalid_1's l1: 0.014228\n",
      "[3200]\ttraining's l2: 0.000271622\ttraining's l1: 0.0107972\tvalid_1's l2: 0.000632902\tvalid_1's l1: 0.0141665\n",
      "[3400]\ttraining's l2: 0.000259537\ttraining's l1: 0.0105799\tvalid_1's l2: 0.000630102\tvalid_1's l1: 0.0141056\n",
      "[3600]\ttraining's l2: 0.000246447\ttraining's l1: 0.0103343\tvalid_1's l2: 0.000624273\tvalid_1's l1: 0.0140137\n",
      "[3800]\ttraining's l2: 0.000235398\ttraining's l1: 0.010115\tvalid_1's l2: 0.000620502\tvalid_1's l1: 0.0139472\n",
      "[4000]\ttraining's l2: 0.000225534\ttraining's l1: 0.00992051\tvalid_1's l2: 0.000617804\tvalid_1's l1: 0.0139017\n",
      "[4200]\ttraining's l2: 0.00021626\ttraining's l1: 0.00972644\tvalid_1's l2: 0.000616123\tvalid_1's l1: 0.0138655\n",
      "[4400]\ttraining's l2: 0.000207715\ttraining's l1: 0.00954408\tvalid_1's l2: 0.000614062\tvalid_1's l1: 0.0138239\n",
      "[4600]\ttraining's l2: 0.000199811\ttraining's l1: 0.00936797\tvalid_1's l2: 0.000612674\tvalid_1's l1: 0.0137895\n",
      "[4800]\ttraining's l2: 0.0001922\ttraining's l1: 0.00919661\tvalid_1's l2: 0.00061109\tvalid_1's l1: 0.0137484\n",
      "[5000]\ttraining's l2: 0.000184754\ttraining's l1: 0.00902812\tvalid_1's l2: 0.000609124\tvalid_1's l1: 0.0137146\n",
      "Did not meet early stopping. Best iteration is:\n",
      "[5000]\ttraining's l2: 0.000184754\ttraining's l1: 0.00902812\tvalid_1's l2: 0.000609124\tvalid_1's l1: 0.0137146\n",
      "processed: 298/594\n",
      "saving...\n",
      "(307511, 912)\n"
     ]
    },
    {
     "name": "stderr",
     "output_type": "stream",
     "text": [
      "\r",
      "298it [6:59:03, 84.38s/it]"
     ]
    },
    {
     "name": "stdout",
     "output_type": "stream",
     "text": [
      "start processing previous_application_SK_ID_CURR_mean_DAYS_DECISION \n",
      "the na is:0.04883580581325175\n",
      "(338857, 909)\n",
      "(17398, 909)\n",
      "Training until validation scores don't improve for 100 rounds.\n",
      "[200]\ttraining's l2: 84.2838\ttraining's l1: 6.56633\tvalid_1's l2: 86.732\tvalid_1's l1: 6.62863\n",
      "[400]\ttraining's l2: 51.5999\ttraining's l1: 5.20717\tvalid_1's l2: 53.9542\tvalid_1's l1: 5.27171\n",
      "[600]\ttraining's l2: 39.0277\ttraining's l1: 4.50783\tvalid_1's l2: 41.8339\tvalid_1's l1: 4.59396\n",
      "[800]\ttraining's l2: 31.6629\ttraining's l1: 4.04792\tvalid_1's l2: 34.9337\tvalid_1's l1: 4.1575\n",
      "[1000]\ttraining's l2: 26.887\ttraining's l1: 3.70572\tvalid_1's l2: 30.6449\tvalid_1's l1: 3.84483\n",
      "[1200]\ttraining's l2: 23.4805\ttraining's l1: 3.46246\tvalid_1's l2: 27.8251\tvalid_1's l1: 3.63619\n",
      "[1400]\ttraining's l2: 20.8258\ttraining's l1: 3.26363\tvalid_1's l2: 25.6476\tvalid_1's l1: 3.47246\n",
      "[1600]\ttraining's l2: 18.7726\ttraining's l1: 3.10373\tvalid_1's l2: 24.0435\tvalid_1's l1: 3.34708\n",
      "[1800]\ttraining's l2: 16.9974\ttraining's l1: 2.96607\tvalid_1's l2: 22.7398\tvalid_1's l1: 3.24552\n",
      "[2000]\ttraining's l2: 15.6748\ttraining's l1: 2.85094\tvalid_1's l2: 21.7731\tvalid_1's l1: 3.16228\n",
      "[2200]\ttraining's l2: 14.5015\ttraining's l1: 2.74688\tvalid_1's l2: 20.9357\tvalid_1's l1: 3.08979\n",
      "[2400]\ttraining's l2: 13.5945\ttraining's l1: 2.66062\tvalid_1's l2: 20.3501\tvalid_1's l1: 3.03451\n",
      "[2600]\ttraining's l2: 12.8233\ttraining's l1: 2.5846\tvalid_1's l2: 19.9127\tvalid_1's l1: 2.98948\n",
      "[2800]\ttraining's l2: 12.0596\ttraining's l1: 2.51013\tvalid_1's l2: 19.4322\tvalid_1's l1: 2.94475\n",
      "[3000]\ttraining's l2: 11.3101\ttraining's l1: 2.43636\tvalid_1's l2: 18.9381\tvalid_1's l1: 2.8994\n",
      "[3200]\ttraining's l2: 10.7312\ttraining's l1: 2.3773\tvalid_1's l2: 18.6378\tvalid_1's l1: 2.87123\n",
      "[3400]\ttraining's l2: 10.205\ttraining's l1: 2.3212\tvalid_1's l2: 18.3737\tvalid_1's l1: 2.84476\n",
      "[3600]\ttraining's l2: 9.70475\ttraining's l1: 2.26405\tvalid_1's l2: 18.0791\tvalid_1's l1: 2.81449\n",
      "[3800]\ttraining's l2: 9.2606\ttraining's l1: 2.21575\tvalid_1's l2: 17.8842\tvalid_1's l1: 2.79373\n",
      "[4000]\ttraining's l2: 8.85565\ttraining's l1: 2.16925\tvalid_1's l2: 17.6997\tvalid_1's l1: 2.77385\n",
      "[4200]\ttraining's l2: 8.48557\ttraining's l1: 2.12688\tvalid_1's l2: 17.5557\tvalid_1's l1: 2.75944\n",
      "[4400]\ttraining's l2: 8.1478\ttraining's l1: 2.08352\tvalid_1's l2: 17.4146\tvalid_1's l1: 2.74103\n",
      "[4600]\ttraining's l2: 7.79559\ttraining's l1: 2.04048\tvalid_1's l2: 17.2499\tvalid_1's l1: 2.72255\n",
      "[4800]\ttraining's l2: 7.48432\ttraining's l1: 2.00225\tvalid_1's l2: 17.1445\tvalid_1's l1: 2.70978\n",
      "[5000]\ttraining's l2: 7.18665\ttraining's l1: 1.96333\tvalid_1's l2: 17.0071\tvalid_1's l1: 2.69339\n",
      "Did not meet early stopping. Best iteration is:\n",
      "[5000]\ttraining's l2: 7.18665\ttraining's l1: 1.96333\tvalid_1's l2: 17.0071\tvalid_1's l1: 2.69339\n",
      "processed: 299/594\n",
      "saving...\n",
      "(307511, 912)\n"
     ]
    },
    {
     "name": "stderr",
     "output_type": "stream",
     "text": [
      "\r",
      "299it [7:01:04, 84.50s/it]"
     ]
    },
    {
     "name": "stdout",
     "output_type": "stream",
     "text": [
      "start processing previous_application_days_decision_about_last_3_credits_mean \n",
      "the na is:0.04883580581325175\n",
      "(338857, 909)\n",
      "(17398, 909)\n",
      "Training until validation scores don't improve for 100 rounds.\n",
      "[200]\ttraining's l2: 637.101\ttraining's l1: 16.2281\tvalid_1's l2: 648.553\tvalid_1's l1: 16.2992\n",
      "[400]\ttraining's l2: 475.593\ttraining's l1: 14.1213\tvalid_1's l2: 506.014\tvalid_1's l1: 14.4245\n",
      "[600]\ttraining's l2: 391.289\ttraining's l1: 12.8744\tvalid_1's l2: 436.683\tvalid_1's l1: 13.3828\n",
      "[800]\ttraining's l2: 342.475\ttraining's l1: 12.0988\tvalid_1's l2: 400.416\tvalid_1's l1: 12.7779\n",
      "[1000]\ttraining's l2: 309.293\ttraining's l1: 11.5139\tvalid_1's l2: 379.581\tvalid_1's l1: 12.3862\n",
      "[1200]\ttraining's l2: 278.945\ttraining's l1: 10.9508\tvalid_1's l2: 357.883\tvalid_1's l1: 11.9804\n",
      "[1400]\ttraining's l2: 256.243\ttraining's l1: 10.5081\tvalid_1's l2: 344.685\tvalid_1's l1: 11.7026\n",
      "[1600]\ttraining's l2: 237.296\ttraining's l1: 10.1177\tvalid_1's l2: 333.775\tvalid_1's l1: 11.4685\n",
      "[1800]\ttraining's l2: 222.694\ttraining's l1: 9.81855\tvalid_1's l2: 327.379\tvalid_1's l1: 11.3246\n",
      "[2000]\ttraining's l2: 209.385\ttraining's l1: 9.52257\tvalid_1's l2: 321.012\tvalid_1's l1: 11.1724\n",
      "[2200]\ttraining's l2: 197.101\ttraining's l1: 9.25628\tvalid_1's l2: 315.782\tvalid_1's l1: 11.0505\n",
      "[2400]\ttraining's l2: 186.928\ttraining's l1: 9.02139\tvalid_1's l2: 311.454\tvalid_1's l1: 10.9475\n",
      "[2600]\ttraining's l2: 177.134\ttraining's l1: 8.78734\tvalid_1's l2: 307.386\tvalid_1's l1: 10.8479\n",
      "[2800]\ttraining's l2: 167.319\ttraining's l1: 8.54789\tvalid_1's l2: 302.768\tvalid_1's l1: 10.7349\n",
      "[3000]\ttraining's l2: 159.205\ttraining's l1: 8.34446\tvalid_1's l2: 299.559\tvalid_1's l1: 10.6508\n",
      "[3200]\ttraining's l2: 151.829\ttraining's l1: 8.15871\tvalid_1's l2: 296.958\tvalid_1's l1: 10.5815\n",
      "[3400]\ttraining's l2: 144.85\ttraining's l1: 7.97742\tvalid_1's l2: 294.498\tvalid_1's l1: 10.5205\n",
      "[3600]\ttraining's l2: 138.908\ttraining's l1: 7.81742\tvalid_1's l2: 292.961\tvalid_1's l1: 10.4727\n",
      "[3800]\ttraining's l2: 133.287\ttraining's l1: 7.67233\tvalid_1's l2: 292.059\tvalid_1's l1: 10.4458\n",
      "[4000]\ttraining's l2: 127.849\ttraining's l1: 7.5269\tvalid_1's l2: 290.918\tvalid_1's l1: 10.4121\n",
      "[4200]\ttraining's l2: 122.405\ttraining's l1: 7.36706\tvalid_1's l2: 288.785\tvalid_1's l1: 10.3495\n",
      "[4400]\ttraining's l2: 117.038\ttraining's l1: 7.21163\tvalid_1's l2: 286.545\tvalid_1's l1: 10.2924\n",
      "[4600]\ttraining's l2: 112.113\ttraining's l1: 7.06496\tvalid_1's l2: 284.672\tvalid_1's l1: 10.244\n",
      "[4800]\ttraining's l2: 107.717\ttraining's l1: 6.93295\tvalid_1's l2: 283.512\tvalid_1's l1: 10.2097\n",
      "[5000]\ttraining's l2: 103.526\ttraining's l1: 6.80336\tvalid_1's l2: 282.567\tvalid_1's l1: 10.1762\n",
      "Did not meet early stopping. Best iteration is:\n",
      "[5000]\ttraining's l2: 103.526\ttraining's l1: 6.80336\tvalid_1's l2: 282.567\tvalid_1's l1: 10.1762\n",
      "processed: 300/594\n",
      "saving...\n",
      "(307511, 912)\n"
     ]
    },
    {
     "name": "stderr",
     "output_type": "stream",
     "text": [
      "\r",
      "300it [7:03:00, 84.60s/it]"
     ]
    },
    {
     "name": "stdout",
     "output_type": "stream",
     "text": [
      "start processing prev_AMT_APPLICATION_divide_AMT_CREDIT_max \n",
      "the na is:0.04883580581325175\n",
      "(338857, 909)\n",
      "(17398, 909)\n",
      "Training until validation scores don't improve for 100 rounds.\n",
      "Early stopping, best iteration is:\n",
      "[1]\ttraining's l2: 6.57688e+09\ttraining's l1: 293.634\tvalid_1's l2: 6.00062e+06\tvalid_1's l1: 159.363\n",
      "processed: 301/594\n",
      "saving...\n",
      "(307511, 912)\n"
     ]
    },
    {
     "name": "stderr",
     "output_type": "stream",
     "text": [
      "\r",
      "301it [7:03:18, 84.38s/it]"
     ]
    },
    {
     "name": "stdout",
     "output_type": "stream",
     "text": [
      "start processing previous_application_days_decision_about_last_4_credits_mean \n",
      "the na is:0.04883580581325175\n",
      "(338857, 909)\n",
      "(17398, 909)\n",
      "Training until validation scores don't improve for 100 rounds.\n",
      "[200]\ttraining's l2: 297.405\ttraining's l1: 10.5965\tvalid_1's l2: 307.929\tvalid_1's l1: 10.7313\n",
      "[400]\ttraining's l2: 228.521\ttraining's l1: 9.39188\tvalid_1's l2: 250.991\tvalid_1's l1: 9.72021\n",
      "[600]\ttraining's l2: 192.698\ttraining's l1: 8.66521\tvalid_1's l2: 223.729\tvalid_1's l1: 9.13614\n",
      "[800]\ttraining's l2: 170.939\ttraining's l1: 8.1593\tvalid_1's l2: 209.262\tvalid_1's l1: 8.76523\n",
      "[1000]\ttraining's l2: 154.719\ttraining's l1: 7.77021\tvalid_1's l2: 199.751\tvalid_1's l1: 8.51478\n",
      "[1200]\ttraining's l2: 142.106\ttraining's l1: 7.46716\tvalid_1's l2: 192.887\tvalid_1's l1: 8.33085\n",
      "[1400]\ttraining's l2: 132.26\ttraining's l1: 7.20564\tvalid_1's l2: 188.752\tvalid_1's l1: 8.19463\n",
      "[1600]\ttraining's l2: 124.266\ttraining's l1: 7.00427\tvalid_1's l2: 186.227\tvalid_1's l1: 8.11507\n",
      "[1800]\ttraining's l2: 116.42\ttraining's l1: 6.80656\tvalid_1's l2: 183.15\tvalid_1's l1: 8.03716\n",
      "[2000]\ttraining's l2: 109.133\ttraining's l1: 6.60959\tvalid_1's l2: 180.06\tvalid_1's l1: 7.95154\n",
      "[2200]\ttraining's l2: 102.65\ttraining's l1: 6.42399\tvalid_1's l2: 177.644\tvalid_1's l1: 7.87086\n",
      "[2400]\ttraining's l2: 97.0421\ttraining's l1: 6.25418\tvalid_1's l2: 175.996\tvalid_1's l1: 7.80268\n",
      "[2600]\ttraining's l2: 91.8998\ttraining's l1: 6.09083\tvalid_1's l2: 174.199\tvalid_1's l1: 7.73746\n",
      "[2800]\ttraining's l2: 87.5723\ttraining's l1: 5.95896\tvalid_1's l2: 173.228\tvalid_1's l1: 7.69933\n",
      "[3000]\ttraining's l2: 83.5911\ttraining's l1: 5.83791\tvalid_1's l2: 172.328\tvalid_1's l1: 7.67021\n",
      "[3200]\ttraining's l2: 79.611\ttraining's l1: 5.70651\tvalid_1's l2: 171.148\tvalid_1's l1: 7.62819\n",
      "[3400]\ttraining's l2: 75.5995\ttraining's l1: 5.57931\tvalid_1's l2: 169.783\tvalid_1's l1: 7.58799\n",
      "[3600]\ttraining's l2: 72.0407\ttraining's l1: 5.45856\tvalid_1's l2: 168.743\tvalid_1's l1: 7.55141\n",
      "[3800]\ttraining's l2: 68.5223\ttraining's l1: 5.33449\tvalid_1's l2: 167.55\tvalid_1's l1: 7.50934\n",
      "[4000]\ttraining's l2: 65.562\ttraining's l1: 5.22267\tvalid_1's l2: 166.838\tvalid_1's l1: 7.47673\n",
      "[4200]\ttraining's l2: 62.8702\ttraining's l1: 5.12781\tvalid_1's l2: 166.244\tvalid_1's l1: 7.46118\n",
      "[4400]\ttraining's l2: 60.4062\ttraining's l1: 5.03185\tvalid_1's l2: 165.675\tvalid_1's l1: 7.43519\n",
      "Early stopping, best iteration is:\n",
      "[4390]\ttraining's l2: 60.5079\ttraining's l1: 5.03554\tvalid_1's l2: 165.647\tvalid_1's l1: 7.43444\n",
      "processed: 302/594\n",
      "saving...\n",
      "(307511, 912)\n"
     ]
    },
    {
     "name": "stderr",
     "output_type": "stream",
     "text": [
      "\r",
      "302it [7:05:00, 84.44s/it]"
     ]
    },
    {
     "name": "stdout",
     "output_type": "stream",
     "text": [
      "start processing previous_application_SK_ID_CURR_min_AMT_CREDIT \n",
      "the na is:0.04883580581325175\n",
      "(338857, 909)\n",
      "(17398, 909)\n",
      "Training until validation scores don't improve for 100 rounds.\n",
      "[200]\ttraining's l2: 1.38176e+08\ttraining's l1: 6354.72\tvalid_1's l2: 2.0122e+08\tvalid_1's l1: 6718.35\n",
      "[400]\ttraining's l2: 8.94889e+07\ttraining's l1: 5307.01\tvalid_1's l2: 1.59554e+08\tvalid_1's l1: 5784.21\n",
      "[600]\ttraining's l2: 6.70038e+07\ttraining's l1: 4731.8\tvalid_1's l2: 1.41686e+08\tvalid_1's l1: 5299.68\n",
      "[800]\ttraining's l2: 5.5019e+07\ttraining's l1: 4356.67\tvalid_1's l2: 1.33724e+08\tvalid_1's l1: 5012.24\n",
      "[1000]\ttraining's l2: 4.74161e+07\ttraining's l1: 4111.69\tvalid_1's l2: 1.2878e+08\tvalid_1's l1: 4845.64\n",
      "[1200]\ttraining's l2: 4.17552e+07\ttraining's l1: 3903.01\tvalid_1's l2: 1.25502e+08\tvalid_1's l1: 4713.2\n",
      "[1400]\ttraining's l2: 3.73349e+07\ttraining's l1: 3732.77\tvalid_1's l2: 1.23018e+08\tvalid_1's l1: 4612.14\n",
      "[1600]\ttraining's l2: 3.3703e+07\ttraining's l1: 3578.58\tvalid_1's l2: 1.20914e+08\tvalid_1's l1: 4516.56\n",
      "[1800]\ttraining's l2: 3.07166e+07\ttraining's l1: 3446.08\tvalid_1's l2: 1.19514e+08\tvalid_1's l1: 4444.84\n",
      "[2000]\ttraining's l2: 2.84261e+07\ttraining's l1: 3335.06\tvalid_1's l2: 1.18523e+08\tvalid_1's l1: 4388.76\n",
      "[2200]\ttraining's l2: 2.64212e+07\ttraining's l1: 3234.3\tvalid_1's l2: 1.17475e+08\tvalid_1's l1: 4338.48\n",
      "[2400]\ttraining's l2: 2.45445e+07\ttraining's l1: 3135.72\tvalid_1's l2: 1.16413e+08\tvalid_1's l1: 4287.97\n",
      "[2600]\ttraining's l2: 2.28208e+07\ttraining's l1: 3039.18\tvalid_1's l2: 1.15557e+08\tvalid_1's l1: 4236.5\n",
      "[2800]\ttraining's l2: 2.13981e+07\ttraining's l1: 2958.04\tvalid_1's l2: 1.14799e+08\tvalid_1's l1: 4199.4\n",
      "[3000]\ttraining's l2: 2.00774e+07\ttraining's l1: 2877.16\tvalid_1's l2: 1.14087e+08\tvalid_1's l1: 4160.42\n",
      "[3200]\ttraining's l2: 1.89461e+07\ttraining's l1: 2805.26\tvalid_1's l2: 1.13675e+08\tvalid_1's l1: 4132.25\n",
      "[3400]\ttraining's l2: 1.78774e+07\ttraining's l1: 2736.08\tvalid_1's l2: 1.13222e+08\tvalid_1's l1: 4107.24\n",
      "[3600]\ttraining's l2: 1.69404e+07\ttraining's l1: 2676.01\tvalid_1's l2: 1.1287e+08\tvalid_1's l1: 4087.96\n",
      "[3800]\ttraining's l2: 1.60839e+07\ttraining's l1: 2616.25\tvalid_1's l2: 1.12489e+08\tvalid_1's l1: 4067.47\n",
      "[4000]\ttraining's l2: 1.53089e+07\ttraining's l1: 2559.86\tvalid_1's l2: 1.12282e+08\tvalid_1's l1: 4047.02\n",
      "[4200]\ttraining's l2: 1.45923e+07\ttraining's l1: 2508.1\tvalid_1's l2: 1.12024e+08\tvalid_1's l1: 4030.16\n",
      "[4400]\ttraining's l2: 1.38817e+07\ttraining's l1: 2452.92\tvalid_1's l2: 1.11644e+08\tvalid_1's l1: 4008.54\n",
      "[4600]\ttraining's l2: 1.32359e+07\ttraining's l1: 2403.73\tvalid_1's l2: 1.1148e+08\tvalid_1's l1: 3995.53\n",
      "[4800]\ttraining's l2: 1.26304e+07\ttraining's l1: 2357.2\tvalid_1's l2: 1.1131e+08\tvalid_1's l1: 3980.93\n",
      "[5000]\ttraining's l2: 1.2088e+07\ttraining's l1: 2311.65\tvalid_1's l2: 1.11208e+08\tvalid_1's l1: 3966.74\n",
      "Did not meet early stopping. Best iteration is:\n",
      "[5000]\ttraining's l2: 1.2088e+07\ttraining's l1: 2311.65\tvalid_1's l2: 1.11208e+08\tvalid_1's l1: 3966.74\n",
      "processed: 303/594\n",
      "saving...\n",
      "(307511, 912)\n"
     ]
    },
    {
     "name": "stderr",
     "output_type": "stream",
     "text": [
      "\r",
      "303it [7:06:57, 84.54s/it]"
     ]
    },
    {
     "name": "stdout",
     "output_type": "stream",
     "text": [
      "start processing PREV_NAME_CONTRACT_STATUS_Approved_MEAN \n",
      "the na is:0.04883580581325175\n",
      "(338857, 909)\n",
      "(17398, 909)\n",
      "Training until validation scores don't improve for 100 rounds.\n",
      "[200]\ttraining's l2: 0.00166669\ttraining's l1: 0.0227447\tvalid_1's l2: 0.00171154\tvalid_1's l1: 0.0232155\n",
      "[400]\ttraining's l2: 0.00122198\ttraining's l1: 0.0192213\tvalid_1's l2: 0.00129609\tvalid_1's l1: 0.0198784\n",
      "[600]\ttraining's l2: 0.00102028\ttraining's l1: 0.0174942\tvalid_1's l2: 0.00112973\tvalid_1's l1: 0.0183676\n",
      "[800]\ttraining's l2: 0.000892858\ttraining's l1: 0.0163772\tvalid_1's l2: 0.00103401\tvalid_1's l1: 0.0174702\n",
      "[1000]\ttraining's l2: 0.000803893\ttraining's l1: 0.0155496\tvalid_1's l2: 0.000974335\tvalid_1's l1: 0.0168546\n",
      "[1200]\ttraining's l2: 0.000734677\ttraining's l1: 0.0148848\tvalid_1's l2: 0.000932602\tvalid_1's l1: 0.0164107\n",
      "[1400]\ttraining's l2: 0.000678661\ttraining's l1: 0.0143114\tvalid_1's l2: 0.00090223\tvalid_1's l1: 0.0160721\n",
      "[1600]\ttraining's l2: 0.000633686\ttraining's l1: 0.013832\tvalid_1's l2: 0.000881177\tvalid_1's l1: 0.0158122\n",
      "[1800]\ttraining's l2: 0.000592726\ttraining's l1: 0.013411\tvalid_1's l2: 0.000861603\tvalid_1's l1: 0.0156024\n",
      "[2000]\ttraining's l2: 0.000556663\ttraining's l1: 0.0130028\tvalid_1's l2: 0.000845914\tvalid_1's l1: 0.0154017\n",
      "[2200]\ttraining's l2: 0.000523016\ttraining's l1: 0.0126348\tvalid_1's l2: 0.00083099\tvalid_1's l1: 0.0152334\n",
      "[2400]\ttraining's l2: 0.000495084\ttraining's l1: 0.0123101\tvalid_1's l2: 0.00081928\tvalid_1's l1: 0.0150959\n",
      "[2600]\ttraining's l2: 0.000469851\ttraining's l1: 0.0120036\tvalid_1's l2: 0.000809843\tvalid_1's l1: 0.0149782\n",
      "[2800]\ttraining's l2: 0.000446371\ttraining's l1: 0.0117171\tvalid_1's l2: 0.000802059\tvalid_1's l1: 0.0148895\n",
      "[3000]\ttraining's l2: 0.000424948\ttraining's l1: 0.0114424\tvalid_1's l2: 0.000794201\tvalid_1's l1: 0.0147955\n",
      "[3200]\ttraining's l2: 0.000404371\ttraining's l1: 0.0111777\tvalid_1's l2: 0.000786548\tvalid_1's l1: 0.0146982\n",
      "[3400]\ttraining's l2: 0.000386139\ttraining's l1: 0.0109292\tvalid_1's l2: 0.000779631\tvalid_1's l1: 0.0146137\n",
      "[3600]\ttraining's l2: 0.000368314\ttraining's l1: 0.0106869\tvalid_1's l2: 0.000773763\tvalid_1's l1: 0.0145335\n",
      "[3800]\ttraining's l2: 0.000352139\ttraining's l1: 0.0104668\tvalid_1's l2: 0.000769169\tvalid_1's l1: 0.0144782\n",
      "[4000]\ttraining's l2: 0.000336963\ttraining's l1: 0.0102636\tvalid_1's l2: 0.000765723\tvalid_1's l1: 0.0144379\n",
      "[4200]\ttraining's l2: 0.000322201\ttraining's l1: 0.0100614\tvalid_1's l2: 0.000762191\tvalid_1's l1: 0.014387\n",
      "[4400]\ttraining's l2: 0.000308725\ttraining's l1: 0.00986546\tvalid_1's l2: 0.000758853\tvalid_1's l1: 0.0143473\n",
      "[4600]\ttraining's l2: 0.000296386\ttraining's l1: 0.00968681\tvalid_1's l2: 0.000755673\tvalid_1's l1: 0.014303\n",
      "[4800]\ttraining's l2: 0.000284058\ttraining's l1: 0.00949628\tvalid_1's l2: 0.000752296\tvalid_1's l1: 0.014261\n",
      "[5000]\ttraining's l2: 0.000272582\ttraining's l1: 0.00931569\tvalid_1's l2: 0.000749357\tvalid_1's l1: 0.0142153\n",
      "Did not meet early stopping. Best iteration is:\n",
      "[5000]\ttraining's l2: 0.000272582\ttraining's l1: 0.00931569\tvalid_1's l2: 0.000749357\tvalid_1's l1: 0.0142153\n",
      "processed: 304/594\n",
      "saving...\n",
      "(307511, 912)\n"
     ]
    },
    {
     "name": "stderr",
     "output_type": "stream",
     "text": [
      "\r",
      "304it [7:09:00, 84.67s/it]"
     ]
    },
    {
     "name": "stdout",
     "output_type": "stream",
     "text": [
      "start processing prev_DAYS_DECISION_mean \n",
      "the na is:0.04883580581325175\n",
      "(338857, 909)\n",
      "(17398, 909)\n",
      "Training until validation scores don't improve for 100 rounds.\n",
      "[200]\ttraining's l2: 38.3401\ttraining's l1: 4.50052\tvalid_1's l2: 39.7787\tvalid_1's l1: 4.56963\n",
      "[400]\ttraining's l2: 25.2352\ttraining's l1: 3.64299\tvalid_1's l2: 26.9473\tvalid_1's l1: 3.73914\n",
      "[600]\ttraining's l2: 19.4803\ttraining's l1: 3.17453\tvalid_1's l2: 21.6039\tvalid_1's l1: 3.29344\n",
      "[800]\ttraining's l2: 16.1405\ttraining's l1: 2.89112\tvalid_1's l2: 18.668\tvalid_1's l1: 3.03261\n",
      "[1000]\ttraining's l2: 14.0486\ttraining's l1: 2.70028\tvalid_1's l2: 16.978\tvalid_1's l1: 2.86706\n",
      "[1200]\ttraining's l2: 12.3435\ttraining's l1: 2.54379\tvalid_1's l2: 15.6314\tvalid_1's l1: 2.73668\n",
      "[1400]\ttraining's l2: 11.1946\ttraining's l1: 2.42343\tvalid_1's l2: 14.8397\tvalid_1's l1: 2.6439\n",
      "[1600]\ttraining's l2: 10.2692\ttraining's l1: 2.33057\tvalid_1's l2: 14.2429\tvalid_1's l1: 2.58024\n",
      "[1800]\ttraining's l2: 9.53874\ttraining's l1: 2.25199\tvalid_1's l2: 13.8362\tvalid_1's l1: 2.53058\n",
      "[2000]\ttraining's l2: 8.85599\ttraining's l1: 2.17092\tvalid_1's l2: 13.3844\tvalid_1's l1: 2.47459\n",
      "[2200]\ttraining's l2: 8.28488\ttraining's l1: 2.10528\tvalid_1's l2: 13.0425\tvalid_1's l1: 2.43538\n",
      "[2400]\ttraining's l2: 7.85657\ttraining's l1: 2.05433\tvalid_1's l2: 12.8559\tvalid_1's l1: 2.41071\n",
      "[2600]\ttraining's l2: 7.41422\ttraining's l1: 1.99735\tvalid_1's l2: 12.6298\tvalid_1's l1: 2.37845\n",
      "[2800]\ttraining's l2: 7.00521\ttraining's l1: 1.94225\tvalid_1's l2: 12.3959\tvalid_1's l1: 2.34375\n",
      "[3000]\ttraining's l2: 6.65842\ttraining's l1: 1.89708\tvalid_1's l2: 12.2358\tvalid_1's l1: 2.32194\n",
      "[3200]\ttraining's l2: 6.34517\ttraining's l1: 1.85407\tvalid_1's l2: 12.0814\tvalid_1's l1: 2.30149\n",
      "[3400]\ttraining's l2: 6.05624\ttraining's l1: 1.81252\tvalid_1's l2: 11.966\tvalid_1's l1: 2.28261\n",
      "[3600]\ttraining's l2: 5.81706\ttraining's l1: 1.77962\tvalid_1's l2: 11.917\tvalid_1's l1: 2.27393\n",
      "[3800]\ttraining's l2: 5.55085\ttraining's l1: 1.74182\tvalid_1's l2: 11.7965\tvalid_1's l1: 2.25719\n",
      "[4000]\ttraining's l2: 5.32294\ttraining's l1: 1.70753\tvalid_1's l2: 11.714\tvalid_1's l1: 2.2449\n",
      "[4200]\ttraining's l2: 5.09717\ttraining's l1: 1.67192\tvalid_1's l2: 11.5986\tvalid_1's l1: 2.22902\n",
      "[4400]\ttraining's l2: 4.8941\ttraining's l1: 1.63938\tvalid_1's l2: 11.5367\tvalid_1's l1: 2.21825\n",
      "[4600]\ttraining's l2: 4.71261\ttraining's l1: 1.61101\tvalid_1's l2: 11.4984\tvalid_1's l1: 2.21144\n",
      "[4800]\ttraining's l2: 4.53834\ttraining's l1: 1.58266\tvalid_1's l2: 11.4465\tvalid_1's l1: 2.20341\n",
      "[5000]\ttraining's l2: 4.38256\ttraining's l1: 1.55642\tvalid_1's l2: 11.4093\tvalid_1's l1: 2.1969\n",
      "Did not meet early stopping. Best iteration is:\n",
      "[5000]\ttraining's l2: 4.38256\ttraining's l1: 1.55642\tvalid_1's l2: 11.4093\tvalid_1's l1: 2.1969\n",
      "processed: 305/594\n",
      "saving...\n",
      "(307511, 912)\n"
     ]
    },
    {
     "name": "stderr",
     "output_type": "stream",
     "text": [
      "\r",
      "305it [7:10:59, 84.78s/it]"
     ]
    },
    {
     "name": "stdout",
     "output_type": "stream",
     "text": [
      "start processing previous_application_SK_ID_CURR_mean_AMT_APPLICATION \n",
      "the na is:0.04883580581325175\n",
      "(338857, 909)\n",
      "(17398, 909)\n",
      "Training until validation scores don't improve for 100 rounds.\n",
      "[200]\ttraining's l2: 1.41751e+08\ttraining's l1: 6959.77\tvalid_1's l2: 1.82158e+08\tvalid_1's l1: 7256.24\n",
      "[400]\ttraining's l2: 8.41731e+07\ttraining's l1: 5554.9\tvalid_1's l2: 1.32788e+08\tvalid_1's l1: 5984.32\n",
      "[600]\ttraining's l2: 5.97927e+07\ttraining's l1: 4780.08\tvalid_1's l2: 1.11769e+08\tvalid_1's l1: 5312.41\n",
      "[800]\ttraining's l2: 4.58406e+07\ttraining's l1: 4229.48\tvalid_1's l2: 9.91363e+07\tvalid_1's l1: 4833.86\n",
      "[1000]\ttraining's l2: 3.70921e+07\ttraining's l1: 3852.95\tvalid_1's l2: 9.20214e+07\tvalid_1's l1: 4530.26\n",
      "[1200]\ttraining's l2: 3.08712e+07\ttraining's l1: 3543.31\tvalid_1's l2: 8.65625e+07\tvalid_1's l1: 4275.34\n",
      "[1400]\ttraining's l2: 2.62506e+07\ttraining's l1: 3283.97\tvalid_1's l2: 8.26679e+07\tvalid_1's l1: 4063.08\n",
      "[1600]\ttraining's l2: 2.28233e+07\ttraining's l1: 3083.39\tvalid_1's l2: 7.99265e+07\tvalid_1's l1: 3912.7\n",
      "[1800]\ttraining's l2: 2.00251e+07\ttraining's l1: 2897.43\tvalid_1's l2: 7.79223e+07\tvalid_1's l1: 3772.76\n",
      "[2000]\ttraining's l2: 1.77832e+07\ttraining's l1: 2747.42\tvalid_1's l2: 7.62603e+07\tvalid_1's l1: 3666.87\n",
      "[2200]\ttraining's l2: 1.59289e+07\ttraining's l1: 2613.6\tvalid_1's l2: 7.4852e+07\tvalid_1's l1: 3574.15\n",
      "[2400]\ttraining's l2: 1.4417e+07\ttraining's l1: 2496.64\tvalid_1's l2: 7.36904e+07\tvalid_1's l1: 3496.12\n",
      "[2600]\ttraining's l2: 1.31328e+07\ttraining's l1: 2389.41\tvalid_1's l2: 7.27345e+07\tvalid_1's l1: 3421.34\n",
      "[2800]\ttraining's l2: 1.20197e+07\ttraining's l1: 2291.36\tvalid_1's l2: 7.19455e+07\tvalid_1's l1: 3355.02\n",
      "[3000]\ttraining's l2: 1.10349e+07\ttraining's l1: 2205.19\tvalid_1's l2: 7.12646e+07\tvalid_1's l1: 3299.87\n",
      "[3200]\ttraining's l2: 1.01729e+07\ttraining's l1: 2124.75\tvalid_1's l2: 7.06487e+07\tvalid_1's l1: 3249.46\n",
      "[3400]\ttraining's l2: 9.44423e+06\ttraining's l1: 2053.67\tvalid_1's l2: 7.01983e+07\tvalid_1's l1: 3211.09\n",
      "[3600]\ttraining's l2: 8.75861e+06\ttraining's l1: 1983.65\tvalid_1's l2: 6.96919e+07\tvalid_1's l1: 3169.93\n",
      "[3800]\ttraining's l2: 8.15613e+06\ttraining's l1: 1918.3\tvalid_1's l2: 6.93147e+07\tvalid_1's l1: 3130.64\n",
      "[4000]\ttraining's l2: 7.60815e+06\ttraining's l1: 1856.48\tvalid_1's l2: 6.89097e+07\tvalid_1's l1: 3094.33\n",
      "[4200]\ttraining's l2: 7.12249e+06\ttraining's l1: 1799.16\tvalid_1's l2: 6.86083e+07\tvalid_1's l1: 3061.76\n",
      "[4400]\ttraining's l2: 6.69175e+06\ttraining's l1: 1749.6\tvalid_1's l2: 6.82842e+07\tvalid_1's l1: 3037.24\n",
      "[4600]\ttraining's l2: 6.27009e+06\ttraining's l1: 1694.56\tvalid_1's l2: 6.80145e+07\tvalid_1's l1: 3004.36\n",
      "[4800]\ttraining's l2: 5.89862e+06\ttraining's l1: 1648.19\tvalid_1's l2: 6.77772e+07\tvalid_1's l1: 2980.5\n",
      "[5000]\ttraining's l2: 5.56313e+06\ttraining's l1: 1603.1\tvalid_1's l2: 6.75715e+07\tvalid_1's l1: 2957.95\n",
      "Did not meet early stopping. Best iteration is:\n",
      "[5000]\ttraining's l2: 5.56313e+06\ttraining's l1: 1603.1\tvalid_1's l2: 6.75715e+07\tvalid_1's l1: 2957.95\n",
      "processed: 306/594\n",
      "saving...\n",
      "(307511, 912)\n"
     ]
    },
    {
     "name": "stderr",
     "output_type": "stream",
     "text": [
      "\r",
      "306it [7:13:04, 84.92s/it]"
     ]
    },
    {
     "name": "stdout",
     "output_type": "stream",
     "text": [
      "start processing previous_application_SK_ID_CURR_max_DAYS_DECISION \n",
      "the na is:0.04883580581325175\n",
      "(338857, 909)\n",
      "(17398, 909)\n",
      "Training until validation scores don't improve for 100 rounds.\n",
      "[200]\ttraining's l2: 84.4466\ttraining's l1: 5.7214\tvalid_1's l2: 90.0563\tvalid_1's l1: 5.78398\n",
      "[400]\ttraining's l2: 52.1438\ttraining's l1: 4.56941\tvalid_1's l2: 59.3264\tvalid_1's l1: 4.67134\n",
      "[600]\ttraining's l2: 39.4537\ttraining's l1: 3.98186\tvalid_1's l2: 48.0699\tvalid_1's l1: 4.14247\n",
      "[800]\ttraining's l2: 31.8678\ttraining's l1: 3.58779\tvalid_1's l2: 41.945\tvalid_1's l1: 3.80329\n",
      "[1000]\ttraining's l2: 27.2594\ttraining's l1: 3.33645\tvalid_1's l2: 38.4457\tvalid_1's l1: 3.60083\n",
      "[1200]\ttraining's l2: 23.8836\ttraining's l1: 3.12102\tvalid_1's l2: 36.089\tvalid_1's l1: 3.43435\n",
      "[1400]\ttraining's l2: 21.1884\ttraining's l1: 2.95537\tvalid_1's l2: 34.4108\tvalid_1's l1: 3.31569\n",
      "[1600]\ttraining's l2: 19.2476\ttraining's l1: 2.83042\tvalid_1's l2: 33.3688\tvalid_1's l1: 3.23597\n",
      "[1800]\ttraining's l2: 17.4786\ttraining's l1: 2.70799\tvalid_1's l2: 32.3038\tvalid_1's l1: 3.1542\n",
      "[2000]\ttraining's l2: 15.9175\ttraining's l1: 2.58207\tvalid_1's l2: 31.3457\tvalid_1's l1: 3.06525\n",
      "[2200]\ttraining's l2: 14.6933\ttraining's l1: 2.49009\tvalid_1's l2: 30.7009\tvalid_1's l1: 3.00873\n",
      "[2400]\ttraining's l2: 13.6971\ttraining's l1: 2.41197\tvalid_1's l2: 30.2514\tvalid_1's l1: 2.96631\n",
      "[2600]\ttraining's l2: 12.7137\ttraining's l1: 2.33694\tvalid_1's l2: 29.8236\tvalid_1's l1: 2.92936\n",
      "[2800]\ttraining's l2: 11.8063\ttraining's l1: 2.26324\tvalid_1's l2: 29.3629\tvalid_1's l1: 2.88828\n",
      "[3000]\ttraining's l2: 10.8756\ttraining's l1: 2.17891\tvalid_1's l2: 28.7282\tvalid_1's l1: 2.83329\n",
      "[3200]\ttraining's l2: 10.212\ttraining's l1: 2.11862\tvalid_1's l2: 28.3905\tvalid_1's l1: 2.80052\n",
      "[3400]\ttraining's l2: 9.55906\ttraining's l1: 2.05398\tvalid_1's l2: 28.0267\tvalid_1's l1: 2.76439\n",
      "[3600]\ttraining's l2: 9.03362\ttraining's l1: 2.00641\tvalid_1's l2: 27.8295\tvalid_1's l1: 2.7469\n",
      "[3800]\ttraining's l2: 8.56953\ttraining's l1: 1.96083\tvalid_1's l2: 27.6693\tvalid_1's l1: 2.7287\n",
      "[4000]\ttraining's l2: 8.08089\ttraining's l1: 1.91192\tvalid_1's l2: 27.4426\tvalid_1's l1: 2.70662\n",
      "[4200]\ttraining's l2: 7.66267\ttraining's l1: 1.86444\tvalid_1's l2: 27.2643\tvalid_1's l1: 2.68357\n",
      "[4400]\ttraining's l2: 7.2805\ttraining's l1: 1.8255\tvalid_1's l2: 27.1077\tvalid_1's l1: 2.67092\n",
      "[4600]\ttraining's l2: 6.9345\ttraining's l1: 1.78857\tvalid_1's l2: 27.0128\tvalid_1's l1: 2.65985\n",
      "[4800]\ttraining's l2: 6.6189\ttraining's l1: 1.74958\tvalid_1's l2: 26.9086\tvalid_1's l1: 2.64307\n",
      "[5000]\ttraining's l2: 6.33702\ttraining's l1: 1.71631\tvalid_1's l2: 26.8565\tvalid_1's l1: 2.63373\n",
      "Did not meet early stopping. Best iteration is:\n",
      "[5000]\ttraining's l2: 6.33702\ttraining's l1: 1.71631\tvalid_1's l2: 26.8565\tvalid_1's l1: 2.63373\n",
      "processed: 307/594\n",
      "saving...\n",
      "(307511, 912)\n"
     ]
    },
    {
     "name": "stderr",
     "output_type": "stream",
     "text": [
      "\r",
      "307it [7:14:59, 85.02s/it]"
     ]
    },
    {
     "name": "stdout",
     "output_type": "stream",
     "text": [
      "start processing previous_application_days_decision_about_last_5_credits_mean \n",
      "the na is:0.04883580581325175\n",
      "(338857, 909)\n",
      "(17398, 909)\n",
      "Training until validation scores don't improve for 100 rounds.\n",
      "[200]\ttraining's l2: 395.532\ttraining's l1: 11.8843\tvalid_1's l2: 416.158\tvalid_1's l1: 12.0788\n",
      "[400]\ttraining's l2: 282.215\ttraining's l1: 10.2251\tvalid_1's l2: 317.261\tvalid_1's l1: 10.6\n",
      "[600]\ttraining's l2: 230.801\ttraining's l1: 9.34308\tvalid_1's l2: 277.194\tvalid_1's l1: 9.8793\n",
      "[800]\ttraining's l2: 198.664\ttraining's l1: 8.74351\tvalid_1's l2: 255.576\tvalid_1's l1: 9.45249\n",
      "[1000]\ttraining's l2: 175.75\ttraining's l1: 8.26071\tvalid_1's l2: 240.807\tvalid_1's l1: 9.11845\n",
      "[1200]\ttraining's l2: 157.02\ttraining's l1: 7.86286\tvalid_1's l2: 228.782\tvalid_1's l1: 8.86193\n",
      "[1400]\ttraining's l2: 143.41\ttraining's l1: 7.51123\tvalid_1's l2: 220.961\tvalid_1's l1: 8.63234\n",
      "[1600]\ttraining's l2: 131.744\ttraining's l1: 7.21717\tvalid_1's l2: 214.924\tvalid_1's l1: 8.46244\n",
      "[1800]\ttraining's l2: 122.068\ttraining's l1: 6.95251\tvalid_1's l2: 210.205\tvalid_1's l1: 8.31863\n",
      "[2000]\ttraining's l2: 113.514\ttraining's l1: 6.72156\tvalid_1's l2: 205.859\tvalid_1's l1: 8.20054\n",
      "[2200]\ttraining's l2: 105.192\ttraining's l1: 6.48501\tvalid_1's l2: 201.81\tvalid_1's l1: 8.07437\n",
      "[2400]\ttraining's l2: 98.266\ttraining's l1: 6.29061\tvalid_1's l2: 198.8\tvalid_1's l1: 7.98608\n",
      "[2600]\ttraining's l2: 92.2418\ttraining's l1: 6.11208\tvalid_1's l2: 196.306\tvalid_1's l1: 7.90728\n",
      "[2800]\ttraining's l2: 86.7709\ttraining's l1: 5.94249\tvalid_1's l2: 194.431\tvalid_1's l1: 7.84005\n",
      "[3000]\ttraining's l2: 82.1376\ttraining's l1: 5.78759\tvalid_1's l2: 193.123\tvalid_1's l1: 7.78526\n",
      "[3200]\ttraining's l2: 77.3821\ttraining's l1: 5.61308\tvalid_1's l2: 190.94\tvalid_1's l1: 7.699\n",
      "[3400]\ttraining's l2: 72.8652\ttraining's l1: 5.46545\tvalid_1's l2: 189.114\tvalid_1's l1: 7.6432\n",
      "[3600]\ttraining's l2: 68.9501\ttraining's l1: 5.33875\tvalid_1's l2: 187.966\tvalid_1's l1: 7.60517\n",
      "[3800]\ttraining's l2: 65.4502\ttraining's l1: 5.21285\tvalid_1's l2: 186.88\tvalid_1's l1: 7.56556\n",
      "[4000]\ttraining's l2: 62.1426\ttraining's l1: 5.08781\tvalid_1's l2: 185.974\tvalid_1's l1: 7.52446\n",
      "[4200]\ttraining's l2: 59.2561\ttraining's l1: 4.97769\tvalid_1's l2: 185.294\tvalid_1's l1: 7.49632\n",
      "[4400]\ttraining's l2: 56.3341\ttraining's l1: 4.86348\tvalid_1's l2: 184.435\tvalid_1's l1: 7.46215\n",
      "[4600]\ttraining's l2: 53.7556\ttraining's l1: 4.76336\tvalid_1's l2: 183.817\tvalid_1's l1: 7.43964\n",
      "[4800]\ttraining's l2: 51.4061\ttraining's l1: 4.66523\tvalid_1's l2: 183.196\tvalid_1's l1: 7.41224\n",
      "[5000]\ttraining's l2: 48.8732\ttraining's l1: 4.55765\tvalid_1's l2: 182.162\tvalid_1's l1: 7.37627\n",
      "Did not meet early stopping. Best iteration is:\n",
      "[5000]\ttraining's l2: 48.8732\ttraining's l1: 4.55765\tvalid_1's l2: 182.162\tvalid_1's l1: 7.37627\n",
      "processed: 308/594\n",
      "saving...\n",
      "(307511, 912)\n"
     ]
    },
    {
     "name": "stderr",
     "output_type": "stream",
     "text": [
      "\r",
      "308it [7:16:53, 85.11s/it]"
     ]
    },
    {
     "name": "stdout",
     "output_type": "stream",
     "text": [
      "start processing previous_application_SK_ID_CURR_min_DAYS_DECISION \n",
      "the na is:0.04883580581325175\n",
      "(338857, 909)\n",
      "(17398, 909)\n",
      "Training until validation scores don't improve for 100 rounds.\n",
      "[200]\ttraining's l2: 786.383\ttraining's l1: 11.0964\tvalid_1's l2: 1223.43\tvalid_1's l1: 12.0054\n",
      "[400]\ttraining's l2: 523.465\ttraining's l1: 9.69753\tvalid_1's l2: 969.091\tvalid_1's l1: 10.8467\n",
      "[600]\ttraining's l2: 389.719\ttraining's l1: 8.91367\tvalid_1's l2: 857.778\tvalid_1's l1: 10.2809\n",
      "[800]\ttraining's l2: 322.487\ttraining's l1: 8.36809\tvalid_1's l2: 818.9\tvalid_1's l1: 9.91431\n",
      "[1000]\ttraining's l2: 270.499\ttraining's l1: 7.89653\tvalid_1's l2: 783.232\tvalid_1's l1: 9.59658\n",
      "[1200]\ttraining's l2: 237.884\ttraining's l1: 7.60515\tvalid_1's l2: 756.565\tvalid_1's l1: 9.4396\n",
      "[1400]\ttraining's l2: 214.648\ttraining's l1: 7.33667\tvalid_1's l2: 744.698\tvalid_1's l1: 9.30474\n",
      "[1600]\ttraining's l2: 193.699\ttraining's l1: 7.10534\tvalid_1's l2: 731.413\tvalid_1's l1: 9.19331\n",
      "[1800]\ttraining's l2: 176.757\ttraining's l1: 6.87496\tvalid_1's l2: 722.598\tvalid_1's l1: 9.07199\n",
      "[2000]\ttraining's l2: 162.531\ttraining's l1: 6.68658\tvalid_1's l2: 712.135\tvalid_1's l1: 8.9891\n",
      "[2200]\ttraining's l2: 150.61\ttraining's l1: 6.53167\tvalid_1's l2: 705.477\tvalid_1's l1: 8.93803\n",
      "[2400]\ttraining's l2: 140.645\ttraining's l1: 6.36193\tvalid_1's l2: 702.208\tvalid_1's l1: 8.86753\n",
      "[2600]\ttraining's l2: 132.136\ttraining's l1: 6.23003\tvalid_1's l2: 699.217\tvalid_1's l1: 8.8269\n",
      "[2800]\ttraining's l2: 124.054\ttraining's l1: 6.09417\tvalid_1's l2: 694.85\tvalid_1's l1: 8.77639\n",
      "[3000]\ttraining's l2: 116.028\ttraining's l1: 5.95072\tvalid_1's l2: 690.308\tvalid_1's l1: 8.71405\n",
      "[3200]\ttraining's l2: 108.822\ttraining's l1: 5.79844\tvalid_1's l2: 687.325\tvalid_1's l1: 8.64195\n",
      "[3400]\ttraining's l2: 102.874\ttraining's l1: 5.67484\tvalid_1's l2: 685.164\tvalid_1's l1: 8.60313\n",
      "[3600]\ttraining's l2: 97.8914\ttraining's l1: 5.57122\tvalid_1's l2: 683.714\tvalid_1's l1: 8.57584\n",
      "Early stopping, best iteration is:\n",
      "[3602]\ttraining's l2: 97.7961\ttraining's l1: 5.56974\tvalid_1's l2: 683.836\tvalid_1's l1: 8.57508\n",
      "processed: 309/594\n",
      "saving...\n",
      "(307511, 912)\n"
     ]
    },
    {
     "name": "stderr",
     "output_type": "stream",
     "text": [
      "\r",
      "309it [7:18:19, 85.11s/it]"
     ]
    },
    {
     "name": "stdout",
     "output_type": "stream",
     "text": [
      "start processing previous_application_days_decision_about_last_1_credits_mean \n",
      "the na is:0.04883580581325175\n",
      "(338857, 909)\n",
      "(17398, 909)\n",
      "Training until validation scores don't improve for 100 rounds.\n",
      "[200]\ttraining's l2: 131.233\ttraining's l1: 7.0257\tvalid_1's l2: 143.746\tvalid_1's l1: 7.14736\n",
      "[400]\ttraining's l2: 76.1441\ttraining's l1: 5.46435\tvalid_1's l2: 88.0553\tvalid_1's l1: 5.60672\n",
      "[600]\ttraining's l2: 56.6999\ttraining's l1: 4.80938\tvalid_1's l2: 70.0648\tvalid_1's l1: 5.01177\n",
      "[800]\ttraining's l2: 46.5304\ttraining's l1: 4.36996\tvalid_1's l2: 61.1148\tvalid_1's l1: 4.6222\n",
      "[1000]\ttraining's l2: 38.5527\ttraining's l1: 3.9787\tvalid_1's l2: 54.2099\tvalid_1's l1: 4.28259\n",
      "[1200]\ttraining's l2: 33.5867\ttraining's l1: 3.71516\tvalid_1's l2: 50.5719\tvalid_1's l1: 4.07898\n",
      "[1400]\ttraining's l2: 29.5127\ttraining's l1: 3.46064\tvalid_1's l2: 47.5463\tvalid_1's l1: 3.87382\n",
      "[1600]\ttraining's l2: 26.4119\ttraining's l1: 3.29061\tvalid_1's l2: 45.5053\tvalid_1's l1: 3.75577\n",
      "[1800]\ttraining's l2: 23.6108\ttraining's l1: 3.12288\tvalid_1's l2: 43.3976\tvalid_1's l1: 3.63311\n",
      "[2000]\ttraining's l2: 21.5093\ttraining's l1: 2.99264\tvalid_1's l2: 42.1837\tvalid_1's l1: 3.55367\n",
      "[2200]\ttraining's l2: 19.8862\ttraining's l1: 2.88899\tvalid_1's l2: 41.2412\tvalid_1's l1: 3.49323\n",
      "[2400]\ttraining's l2: 18.4171\ttraining's l1: 2.79088\tvalid_1's l2: 40.524\tvalid_1's l1: 3.43815\n",
      "[2600]\ttraining's l2: 17.1204\ttraining's l1: 2.70825\tvalid_1's l2: 39.8885\tvalid_1's l1: 3.39728\n",
      "[2800]\ttraining's l2: 15.6747\ttraining's l1: 2.58466\tvalid_1's l2: 38.8094\tvalid_1's l1: 3.30619\n",
      "[3000]\ttraining's l2: 14.6105\ttraining's l1: 2.50413\tvalid_1's l2: 38.229\tvalid_1's l1: 3.25962\n",
      "[3200]\ttraining's l2: 13.6899\ttraining's l1: 2.42484\tvalid_1's l2: 37.8284\tvalid_1's l1: 3.21594\n",
      "[3400]\ttraining's l2: 12.8228\ttraining's l1: 2.35095\tvalid_1's l2: 37.3512\tvalid_1's l1: 3.17346\n",
      "[3600]\ttraining's l2: 12.0751\ttraining's l1: 2.2931\tvalid_1's l2: 37.0374\tvalid_1's l1: 3.15038\n",
      "[3800]\ttraining's l2: 11.4698\ttraining's l1: 2.24822\tvalid_1's l2: 36.8349\tvalid_1's l1: 3.1396\n",
      "[4000]\ttraining's l2: 10.8513\ttraining's l1: 2.19013\tvalid_1's l2: 36.5351\tvalid_1's l1: 3.10817\n",
      "[4200]\ttraining's l2: 10.2746\ttraining's l1: 2.13213\tvalid_1's l2: 36.2646\tvalid_1's l1: 3.07645\n",
      "[4400]\ttraining's l2: 9.70871\ttraining's l1: 2.07485\tvalid_1's l2: 35.9765\tvalid_1's l1: 3.04643\n",
      "[4600]\ttraining's l2: 9.25536\ttraining's l1: 2.03558\tvalid_1's l2: 35.8765\tvalid_1's l1: 3.03649\n",
      "[4800]\ttraining's l2: 8.72015\ttraining's l1: 1.97443\tvalid_1's l2: 35.5229\tvalid_1's l1: 2.99716\n",
      "[5000]\ttraining's l2: 8.28193\ttraining's l1: 1.92823\tvalid_1's l2: 35.2748\tvalid_1's l1: 2.97381\n",
      "Did not meet early stopping. Best iteration is:\n",
      "[5000]\ttraining's l2: 8.28193\ttraining's l1: 1.92823\tvalid_1's l2: 35.2748\tvalid_1's l1: 2.97381\n",
      "processed: 310/594\n",
      "saving...\n",
      "(307511, 912)\n"
     ]
    },
    {
     "name": "stderr",
     "output_type": "stream",
     "text": [
      "\r",
      "310it [7:20:14, 85.21s/it]"
     ]
    },
    {
     "name": "stdout",
     "output_type": "stream",
     "text": [
      "start processing previous_application_fraction_of_refused_applications \n",
      "the na is:0.04883580581325175\n",
      "(338857, 909)\n",
      "(17398, 909)\n",
      "Training until validation scores don't improve for 100 rounds.\n",
      "[200]\ttraining's l2: 0.00120263\ttraining's l1: 0.0149124\tvalid_1's l2: 0.00135352\tvalid_1's l1: 0.0155381\n",
      "[400]\ttraining's l2: 0.000976594\ttraining's l1: 0.0134388\tvalid_1's l2: 0.00121288\tvalid_1's l1: 0.0145145\n",
      "[600]\ttraining's l2: 0.000828461\ttraining's l1: 0.0123868\tvalid_1's l2: 0.00113554\tvalid_1's l1: 0.0139071\n",
      "[800]\ttraining's l2: 0.000715518\ttraining's l1: 0.0115529\tvalid_1's l2: 0.00107742\tvalid_1's l1: 0.0134591\n",
      "[1000]\ttraining's l2: 0.000632936\ttraining's l1: 0.0108829\tvalid_1's l2: 0.00104302\tvalid_1's l1: 0.0131372\n",
      "[1200]\ttraining's l2: 0.000571097\ttraining's l1: 0.0103602\tvalid_1's l2: 0.00101922\tvalid_1's l1: 0.0129419\n",
      "[1400]\ttraining's l2: 0.000518314\ttraining's l1: 0.00988885\tvalid_1's l2: 0.00100299\tvalid_1's l1: 0.0127763\n",
      "[1600]\ttraining's l2: 0.000474198\ttraining's l1: 0.00948629\tvalid_1's l2: 0.0009906\tvalid_1's l1: 0.0126684\n",
      "[1800]\ttraining's l2: 0.00043391\ttraining's l1: 0.0090997\tvalid_1's l2: 0.000981846\tvalid_1's l1: 0.0125823\n",
      "[2000]\ttraining's l2: 0.000401379\ttraining's l1: 0.00877041\tvalid_1's l2: 0.000976046\tvalid_1's l1: 0.0125136\n",
      "[2200]\ttraining's l2: 0.00037077\ttraining's l1: 0.0084483\tvalid_1's l2: 0.000968668\tvalid_1's l1: 0.0124432\n",
      "[2400]\ttraining's l2: 0.000344573\ttraining's l1: 0.00816238\tvalid_1's l2: 0.00096248\tvalid_1's l1: 0.0123901\n",
      "[2600]\ttraining's l2: 0.000320446\ttraining's l1: 0.00788934\tvalid_1's l2: 0.000956239\tvalid_1's l1: 0.0123373\n",
      "[2800]\ttraining's l2: 0.000299267\ttraining's l1: 0.00763735\tvalid_1's l2: 0.000952202\tvalid_1's l1: 0.0123024\n",
      "[3000]\ttraining's l2: 0.000278299\ttraining's l1: 0.00738865\tvalid_1's l2: 0.000947873\tvalid_1's l1: 0.0122579\n",
      "[3200]\ttraining's l2: 0.000260373\ttraining's l1: 0.00715908\tvalid_1's l2: 0.000944627\tvalid_1's l1: 0.0122243\n",
      "[3400]\ttraining's l2: 0.000242983\ttraining's l1: 0.00693398\tvalid_1's l2: 0.000939977\tvalid_1's l1: 0.0121827\n",
      "[3600]\ttraining's l2: 0.000227597\ttraining's l1: 0.00672629\tvalid_1's l2: 0.000937813\tvalid_1's l1: 0.0121596\n",
      "[3800]\ttraining's l2: 0.000212729\ttraining's l1: 0.00651867\tvalid_1's l2: 0.000933271\tvalid_1's l1: 0.0121176\n",
      "[4000]\ttraining's l2: 0.000199147\ttraining's l1: 0.00632539\tvalid_1's l2: 0.000930809\tvalid_1's l1: 0.0120968\n",
      "[4200]\ttraining's l2: 0.00018712\ttraining's l1: 0.00614183\tvalid_1's l2: 0.000929043\tvalid_1's l1: 0.0120713\n",
      "[4400]\ttraining's l2: 0.000175965\ttraining's l1: 0.00597067\tvalid_1's l2: 0.000926954\tvalid_1's l1: 0.0120515\n",
      "[4600]\ttraining's l2: 0.000165637\ttraining's l1: 0.00580676\tvalid_1's l2: 0.000925371\tvalid_1's l1: 0.0120375\n",
      "[4800]\ttraining's l2: 0.000155779\ttraining's l1: 0.00564597\tvalid_1's l2: 0.00092223\tvalid_1's l1: 0.0120131\n",
      "[5000]\ttraining's l2: 0.000146675\ttraining's l1: 0.00549298\tvalid_1's l2: 0.00092111\tvalid_1's l1: 0.0120007\n",
      "Did not meet early stopping. Best iteration is:\n",
      "[5000]\ttraining's l2: 0.000146675\ttraining's l1: 0.00549298\tvalid_1's l2: 0.00092111\tvalid_1's l1: 0.0120007\n",
      "processed: 311/594\n",
      "saving...\n",
      "(307511, 912)\n"
     ]
    },
    {
     "name": "stderr",
     "output_type": "stream",
     "text": [
      "\r",
      "311it [7:22:05, 85.29s/it]"
     ]
    },
    {
     "name": "stdout",
     "output_type": "stream",
     "text": [
      "start processing prev_AMT_ANNUITY_divide_AMT_DOWN_PAYMENT_sum \n",
      "the na is:0.04883580581325175\n",
      "(338857, 909)\n",
      "(17398, 909)\n",
      "Training until validation scores don't improve for 100 rounds.\n",
      "[200]\ttraining's l2: 1.65475e+13\ttraining's l1: 1.773e+06\tvalid_1's l2: 2.98511e+13\tvalid_1's l1: 1.94446e+06\n",
      "[400]\ttraining's l2: 1.16795e+13\ttraining's l1: 1.55119e+06\tvalid_1's l2: 2.69053e+13\tvalid_1's l1: 1.78637e+06\n",
      "[600]\ttraining's l2: 9.27454e+12\ttraining's l1: 1.4211e+06\tvalid_1's l2: 2.57273e+13\tvalid_1's l1: 1.71484e+06\n",
      "[800]\ttraining's l2: 7.69266e+12\ttraining's l1: 1.32357e+06\tvalid_1's l2: 2.49442e+13\tvalid_1's l1: 1.66769e+06\n",
      "[1000]\ttraining's l2: 6.61878e+12\ttraining's l1: 1.24999e+06\tvalid_1's l2: 2.44817e+13\tvalid_1's l1: 1.63717e+06\n",
      "[1200]\ttraining's l2: 5.7722e+12\ttraining's l1: 1.18376e+06\tvalid_1's l2: 2.41052e+13\tvalid_1's l1: 1.61189e+06\n",
      "[1400]\ttraining's l2: 5.09031e+12\ttraining's l1: 1.1251e+06\tvalid_1's l2: 2.3796e+13\tvalid_1's l1: 1.59023e+06\n",
      "[1600]\ttraining's l2: 4.58242e+12\ttraining's l1: 1.07856e+06\tvalid_1's l2: 2.36451e+13\tvalid_1's l1: 1.57599e+06\n",
      "[1800]\ttraining's l2: 4.13801e+12\ttraining's l1: 1.03477e+06\tvalid_1's l2: 2.34557e+13\tvalid_1's l1: 1.56181e+06\n",
      "[2000]\ttraining's l2: 3.76116e+12\ttraining's l1: 996308\tvalid_1's l2: 2.33364e+13\tvalid_1's l1: 1.55054e+06\n",
      "[2200]\ttraining's l2: 3.43569e+12\ttraining's l1: 960013\tvalid_1's l2: 2.32189e+13\tvalid_1's l1: 1.53982e+06\n",
      "[2400]\ttraining's l2: 3.15168e+12\ttraining's l1: 926876\tvalid_1's l2: 2.30819e+13\tvalid_1's l1: 1.53056e+06\n",
      "[2600]\ttraining's l2: 2.90604e+12\ttraining's l1: 896080\tvalid_1's l2: 2.3027e+13\tvalid_1's l1: 1.52136e+06\n",
      "[2800]\ttraining's l2: 2.69515e+12\ttraining's l1: 868686\tvalid_1's l2: 2.29378e+13\tvalid_1's l1: 1.51521e+06\n",
      "[3000]\ttraining's l2: 2.5006e+12\ttraining's l1: 841278\tvalid_1's l2: 2.2863e+13\tvalid_1's l1: 1.5088e+06\n",
      "[3200]\ttraining's l2: 2.33123e+12\ttraining's l1: 816947\tvalid_1's l2: 2.28201e+13\tvalid_1's l1: 1.50375e+06\n",
      "[3400]\ttraining's l2: 2.18447e+12\ttraining's l1: 794801\tvalid_1's l2: 2.27832e+13\tvalid_1's l1: 1.49878e+06\n",
      "[3600]\ttraining's l2: 2.04596e+12\ttraining's l1: 772145\tvalid_1's l2: 2.27446e+13\tvalid_1's l1: 1.49256e+06\n",
      "[3800]\ttraining's l2: 1.91823e+12\ttraining's l1: 751533\tvalid_1's l2: 2.27013e+13\tvalid_1's l1: 1.48879e+06\n",
      "[4000]\ttraining's l2: 1.80128e+12\ttraining's l1: 731817\tvalid_1's l2: 2.26849e+13\tvalid_1's l1: 1.48483e+06\n",
      "[4200]\ttraining's l2: 1.69853e+12\ttraining's l1: 713328\tvalid_1's l2: 2.26552e+13\tvalid_1's l1: 1.48149e+06\n",
      "Early stopping, best iteration is:\n",
      "[4281]\ttraining's l2: 1.65615e+12\ttraining's l1: 705865\tvalid_1's l2: 2.26453e+13\tvalid_1's l1: 1.47985e+06\n",
      "processed: 312/594\n",
      "saving...\n",
      "(307511, 912)\n"
     ]
    },
    {
     "name": "stderr",
     "output_type": "stream",
     "text": [
      "\r",
      "312it [7:23:45, 85.34s/it]"
     ]
    },
    {
     "name": "stdout",
     "output_type": "stream",
     "text": [
      "start processing previous_application_days_decision_about_last_2_credits_mean \n",
      "the na is:0.04883580581325175\n",
      "(338857, 909)\n",
      "(17398, 909)\n",
      "Training until validation scores don't improve for 100 rounds.\n",
      "[200]\ttraining's l2: 1166.14\ttraining's l1: 22.2596\tvalid_1's l2: 1194.26\tvalid_1's l1: 22.505\n",
      "[400]\ttraining's l2: 865.041\ttraining's l1: 19.171\tvalid_1's l2: 925.411\tvalid_1's l1: 19.6698\n",
      "[600]\ttraining's l2: 712.788\ttraining's l1: 17.4838\tvalid_1's l2: 801.877\tvalid_1's l1: 18.2416\n",
      "[800]\ttraining's l2: 621.321\ttraining's l1: 16.359\tvalid_1's l2: 731.655\tvalid_1's l1: 17.3463\n",
      "[1000]\ttraining's l2: 553.253\ttraining's l1: 15.4794\tvalid_1's l2: 683.128\tvalid_1's l1: 16.6895\n",
      "[1200]\ttraining's l2: 505.281\ttraining's l1: 14.8202\tvalid_1's l2: 653.464\tvalid_1's l1: 16.2565\n",
      "[1400]\ttraining's l2: 465.602\ttraining's l1: 14.254\tvalid_1's l2: 630.009\tvalid_1's l1: 15.9053\n",
      "[1600]\ttraining's l2: 430.417\ttraining's l1: 13.7508\tvalid_1's l2: 609.11\tvalid_1's l1: 15.5923\n",
      "[1800]\ttraining's l2: 401.496\ttraining's l1: 13.3031\tvalid_1's l2: 593.73\tvalid_1's l1: 15.3451\n",
      "[2000]\ttraining's l2: 376.448\ttraining's l1: 12.9001\tvalid_1's l2: 579.862\tvalid_1's l1: 15.1233\n",
      "[2200]\ttraining's l2: 353.878\ttraining's l1: 12.5278\tvalid_1's l2: 567.443\tvalid_1's l1: 14.9166\n",
      "[2400]\ttraining's l2: 333.669\ttraining's l1: 12.1872\tvalid_1's l2: 557.76\tvalid_1's l1: 14.7598\n",
      "[2600]\ttraining's l2: 316.428\ttraining's l1: 11.8871\tvalid_1's l2: 550.184\tvalid_1's l1: 14.631\n",
      "[2800]\ttraining's l2: 300.188\ttraining's l1: 11.5802\tvalid_1's l2: 542.515\tvalid_1's l1: 14.4839\n",
      "[3000]\ttraining's l2: 284.411\ttraining's l1: 11.2854\tvalid_1's l2: 534.485\tvalid_1's l1: 14.3421\n",
      "[3200]\ttraining's l2: 270.576\ttraining's l1: 11.0255\tvalid_1's l2: 528.078\tvalid_1's l1: 14.2333\n",
      "[3400]\ttraining's l2: 258.066\ttraining's l1: 10.7744\tvalid_1's l2: 522.924\tvalid_1's l1: 14.1253\n",
      "[3600]\ttraining's l2: 246.811\ttraining's l1: 10.5463\tvalid_1's l2: 518.803\tvalid_1's l1: 14.0432\n",
      "[3800]\ttraining's l2: 236.562\ttraining's l1: 10.3364\tvalid_1's l2: 515.025\tvalid_1's l1: 13.9756\n",
      "[4000]\ttraining's l2: 225.954\ttraining's l1: 10.1028\tvalid_1's l2: 510.275\tvalid_1's l1: 13.8799\n",
      "[4200]\ttraining's l2: 217.029\ttraining's l1: 9.90664\tvalid_1's l2: 507.507\tvalid_1's l1: 13.8199\n",
      "[4400]\ttraining's l2: 208.07\ttraining's l1: 9.71305\tvalid_1's l2: 504.083\tvalid_1's l1: 13.7565\n",
      "[4600]\ttraining's l2: 200.428\ttraining's l1: 9.54734\tvalid_1's l2: 501.935\tvalid_1's l1: 13.7199\n",
      "[4800]\ttraining's l2: 193.12\ttraining's l1: 9.3778\tvalid_1's l2: 500.353\tvalid_1's l1: 13.6816\n",
      "[5000]\ttraining's l2: 185.477\ttraining's l1: 9.20243\tvalid_1's l2: 497.854\tvalid_1's l1: 13.6275\n",
      "Did not meet early stopping. Best iteration is:\n",
      "[5000]\ttraining's l2: 185.477\ttraining's l1: 9.20243\tvalid_1's l2: 497.854\tvalid_1's l1: 13.6275\n",
      "processed: 313/594\n",
      "saving...\n",
      "(307511, 912)\n"
     ]
    },
    {
     "name": "stderr",
     "output_type": "stream",
     "text": [
      "\r",
      "313it [7:25:43, 85.44s/it]"
     ]
    },
    {
     "name": "stdout",
     "output_type": "stream",
     "text": [
      "start processing last_1_installment_paid_late_in_days_mean \n",
      "the na is:0.04927369440428906\n",
      "(338701, 909)\n",
      "(17554, 909)\n",
      "Training until validation scores don't improve for 100 rounds.\n",
      "[200]\ttraining's l2: 1.63307\ttraining's l1: 0.348959\tvalid_1's l2: 50.1097\tvalid_1's l1: 0.472797\n",
      "[400]\ttraining's l2: 0.499893\ttraining's l1: 0.251111\tvalid_1's l2: 47.4348\tvalid_1's l1: 0.387506\n",
      "Early stopping, best iteration is:\n",
      "[487]\ttraining's l2: 0.338144\ttraining's l1: 0.225606\tvalid_1's l2: 46.843\tvalid_1's l1: 0.365108\n",
      "processed: 314/594\n",
      "saving...\n",
      "(307511, 912)\n"
     ]
    },
    {
     "name": "stderr",
     "output_type": "stream",
     "text": [
      "\r",
      "314it [7:26:11, 85.26s/it]"
     ]
    },
    {
     "name": "stdout",
     "output_type": "stream",
     "text": [
      "start processing last_1_installment_paid_late_in_days_max \n",
      "the na is:0.04927369440428906\n",
      "(338701, 909)\n",
      "(17554, 909)\n",
      "Training until validation scores don't improve for 100 rounds.\n",
      "[200]\ttraining's l2: 1.43783\ttraining's l1: 0.323261\tvalid_1's l2: 33.9172\tvalid_1's l1: 0.440497\n",
      "[400]\ttraining's l2: 0.434596\ttraining's l1: 0.222731\tvalid_1's l2: 32.6438\tvalid_1's l1: 0.351284\n",
      "Early stopping, best iteration is:\n",
      "[324]\ttraining's l2: 0.639458\ttraining's l1: 0.248077\tvalid_1's l2: 32.5112\tvalid_1's l1: 0.371899\n",
      "processed: 315/594\n",
      "saving...\n",
      "(307511, 912)\n"
     ]
    },
    {
     "name": "stderr",
     "output_type": "stream",
     "text": [
      "\r",
      "315it [7:26:37, 85.07s/it]"
     ]
    },
    {
     "name": "stdout",
     "output_type": "stream",
     "text": [
      "start processing last_1_installment_paid_over_amount_mean \n",
      "the na is:0.04927369440428906\n",
      "(338701, 909)\n",
      "(17554, 909)\n",
      "Training until validation scores don't improve for 100 rounds.\n",
      "[200]\ttraining's l2: 5.36187e+06\ttraining's l1: 400.906\tvalid_1's l2: 6.77396e+07\tvalid_1's l1: 595.69\n",
      "Early stopping, best iteration is:\n",
      "[191]\ttraining's l2: 5.6606e+06\ttraining's l1: 404.279\tvalid_1's l2: 6.73615e+07\tvalid_1's l1: 595.224\n",
      "processed: 316/594\n",
      "saving...\n",
      "(307511, 912)\n"
     ]
    },
    {
     "name": "stderr",
     "output_type": "stream",
     "text": [
      "\r",
      "316it [7:26:58, 84.87s/it]"
     ]
    },
    {
     "name": "stdout",
     "output_type": "stream",
     "text": [
      "start processing last_5by50_fraction_NUM_INSTALMENT_VERSION_std \n",
      "the na is:0.049515094524989124\n",
      "(338615, 909)\n",
      "(17640, 909)\n",
      "Training until validation scores don't improve for 100 rounds.\n",
      "[200]\ttraining's l2: 0.000358231\ttraining's l1: 0.00847335\tvalid_1's l2: 0.000390098\tvalid_1's l1: 0.00871536\n",
      "[400]\ttraining's l2: 0.000211802\ttraining's l1: 0.00651242\tvalid_1's l2: 0.000253514\tvalid_1's l1: 0.0068978\n",
      "[600]\ttraining's l2: 0.000151541\ttraining's l1: 0.00552186\tvalid_1's l2: 0.000200321\tvalid_1's l1: 0.00603876\n",
      "[800]\ttraining's l2: 0.000119257\ttraining's l1: 0.00494637\tvalid_1's l2: 0.000174165\tvalid_1's l1: 0.00559545\n",
      "[1000]\ttraining's l2: 9.75433e-05\ttraining's l1: 0.0044974\tvalid_1's l2: 0.000158372\tvalid_1's l1: 0.00527629\n",
      "[1200]\ttraining's l2: 8.19445e-05\ttraining's l1: 0.00414816\tvalid_1's l2: 0.00014752\tvalid_1's l1: 0.00504623\n",
      "[1400]\ttraining's l2: 6.94859e-05\ttraining's l1: 0.00383018\tvalid_1's l2: 0.000138143\tvalid_1's l1: 0.00483212\n",
      "[1600]\ttraining's l2: 5.99256e-05\ttraining's l1: 0.00358082\tvalid_1's l2: 0.000131441\tvalid_1's l1: 0.00467529\n",
      "[1800]\ttraining's l2: 5.24635e-05\ttraining's l1: 0.00335048\tvalid_1's l2: 0.00012595\tvalid_1's l1: 0.00452886\n",
      "[2000]\ttraining's l2: 4.65749e-05\ttraining's l1: 0.00316855\tvalid_1's l2: 0.000122433\tvalid_1's l1: 0.00443124\n",
      "[2200]\ttraining's l2: 4.16164e-05\ttraining's l1: 0.00300802\tvalid_1's l2: 0.000119631\tvalid_1's l1: 0.00435057\n",
      "[2400]\ttraining's l2: 3.75465e-05\ttraining's l1: 0.00286081\tvalid_1's l2: 0.000117426\tvalid_1's l1: 0.00427962\n",
      "[2600]\ttraining's l2: 3.38276e-05\ttraining's l1: 0.0027131\tvalid_1's l2: 0.000114883\tvalid_1's l1: 0.00419763\n",
      "[2800]\ttraining's l2: 3.06994e-05\ttraining's l1: 0.0025999\tvalid_1's l2: 0.000112795\tvalid_1's l1: 0.00414804\n",
      "[3000]\ttraining's l2: 2.76902e-05\ttraining's l1: 0.00247165\tvalid_1's l2: 0.000110555\tvalid_1's l1: 0.00407778\n",
      "[3200]\ttraining's l2: 2.53674e-05\ttraining's l1: 0.00237248\tvalid_1's l2: 0.000109262\tvalid_1's l1: 0.00403783\n",
      "[3400]\ttraining's l2: 2.3429e-05\ttraining's l1: 0.00228524\tvalid_1's l2: 0.000108316\tvalid_1's l1: 0.00400779\n",
      "[3600]\ttraining's l2: 2.16293e-05\ttraining's l1: 0.0022016\tvalid_1's l2: 0.000107621\tvalid_1's l1: 0.00398137\n",
      "[3800]\ttraining's l2: 1.98793e-05\ttraining's l1: 0.00211682\tvalid_1's l2: 0.000106452\tvalid_1's l1: 0.00394445\n",
      "[4000]\ttraining's l2: 1.85137e-05\ttraining's l1: 0.00205259\tvalid_1's l2: 0.000105805\tvalid_1's l1: 0.00392695\n",
      "[4200]\ttraining's l2: 1.72274e-05\ttraining's l1: 0.00198693\tvalid_1's l2: 0.00010531\tvalid_1's l1: 0.00390891\n",
      "[4400]\ttraining's l2: 1.59586e-05\ttraining's l1: 0.00191734\tvalid_1's l2: 0.000104584\tvalid_1's l1: 0.0038819\n",
      "[4600]\ttraining's l2: 1.47906e-05\ttraining's l1: 0.00184981\tvalid_1's l2: 0.000103909\tvalid_1's l1: 0.0038554\n",
      "[4800]\ttraining's l2: 1.38637e-05\ttraining's l1: 0.00179539\tvalid_1's l2: 0.000103477\tvalid_1's l1: 0.00384053\n",
      "[5000]\ttraining's l2: 1.28652e-05\ttraining's l1: 0.00173012\tvalid_1's l2: 0.000102906\tvalid_1's l1: 0.00381307\n",
      "Did not meet early stopping. Best iteration is:\n",
      "[5000]\ttraining's l2: 1.28652e-05\ttraining's l1: 0.00173012\tvalid_1's l2: 0.000102906\tvalid_1's l1: 0.00381307\n",
      "processed: 317/594\n",
      "saving...\n",
      "(307511, 912)\n"
     ]
    },
    {
     "name": "stderr",
     "output_type": "stream",
     "text": [
      "\r",
      "317it [7:28:47, 84.95s/it]"
     ]
    },
    {
     "name": "stdout",
     "output_type": "stream",
     "text": [
      "start processing installments_payments_SK_ID_CURR_var_AMT_INSTALMENT \n",
      "the na is:0.049515094524989124\n",
      "(338615, 909)\n",
      "(17640, 909)\n",
      "Training until validation scores don't improve for 100 rounds.\n",
      "[200]\ttraining's l2: 2.13996e+18\ttraining's l1: 2.45182e+08\tvalid_1's l2: 3.67203e+19\tvalid_1's l1: 3.56164e+08\n",
      "[400]\ttraining's l2: 7.32178e+17\ttraining's l1: 1.87475e+08\tvalid_1's l2: 3.51336e+19\tvalid_1's l1: 3.30809e+08\n",
      "Early stopping, best iteration is:\n",
      "[389]\ttraining's l2: 7.6529e+17\ttraining's l1: 1.89003e+08\tvalid_1's l2: 3.50775e+19\tvalid_1's l1: 3.31175e+08\n",
      "processed: 318/594\n",
      "saving...\n",
      "(307511, 912)\n"
     ]
    },
    {
     "name": "stderr",
     "output_type": "stream",
     "text": [
      "\r",
      "318it [7:29:13, 84.76s/it]"
     ]
    },
    {
     "name": "stdout",
     "output_type": "stream",
     "text": [
      "start processing installments_payments_SK_ID_CURR_var_DAYS_INSTALMENT \n",
      "the na is:0.049515094524989124\n",
      "(338615, 909)\n",
      "(17640, 909)\n",
      "Training until validation scores don't improve for 100 rounds.\n",
      "[200]\ttraining's l2: 1.72404e+08\ttraining's l1: 7569\tvalid_1's l2: 1.92246e+08\tvalid_1's l1: 7716.8\n",
      "[400]\ttraining's l2: 9.78857e+07\ttraining's l1: 5804.78\tvalid_1's l2: 1.30088e+08\tvalid_1's l1: 6105.08\n",
      "[600]\ttraining's l2: 7.08459e+07\ttraining's l1: 5022.59\tvalid_1's l2: 1.09823e+08\tvalid_1's l1: 5428.92\n",
      "[800]\ttraining's l2: 5.56344e+07\ttraining's l1: 4499.42\tvalid_1's l2: 9.77208e+07\tvalid_1's l1: 4992.1\n",
      "[1000]\ttraining's l2: 4.60012e+07\ttraining's l1: 4125.71\tvalid_1's l2: 8.97625e+07\tvalid_1's l1: 4684.13\n",
      "[1200]\ttraining's l2: 3.929e+07\ttraining's l1: 3822.26\tvalid_1's l2: 8.44795e+07\tvalid_1's l1: 4436.86\n",
      "[1400]\ttraining's l2: 3.42062e+07\ttraining's l1: 3593.97\tvalid_1's l2: 8.10929e+07\tvalid_1's l1: 4266.8\n",
      "[1600]\ttraining's l2: 3.01795e+07\ttraining's l1: 3396.15\tvalid_1's l2: 7.82241e+07\tvalid_1's l1: 4125.99\n",
      "[1800]\ttraining's l2: 2.7076e+07\ttraining's l1: 3225.69\tvalid_1's l2: 7.63993e+07\tvalid_1's l1: 4008.91\n",
      "[2000]\ttraining's l2: 2.43692e+07\ttraining's l1: 3071.18\tvalid_1's l2: 7.46943e+07\tvalid_1's l1: 3904.31\n",
      "[2200]\ttraining's l2: 2.20993e+07\ttraining's l1: 2929.75\tvalid_1's l2: 7.33082e+07\tvalid_1's l1: 3810.01\n",
      "[2400]\ttraining's l2: 2.02963e+07\ttraining's l1: 2816.2\tvalid_1's l2: 7.22334e+07\tvalid_1's l1: 3744.17\n",
      "[2600]\ttraining's l2: 1.86481e+07\ttraining's l1: 2709.55\tvalid_1's l2: 7.12889e+07\tvalid_1's l1: 3685.2\n",
      "[2800]\ttraining's l2: 1.72627e+07\ttraining's l1: 2616.2\tvalid_1's l2: 7.06298e+07\tvalid_1's l1: 3635.25\n",
      "[3000]\ttraining's l2: 1.60672e+07\ttraining's l1: 2528.27\tvalid_1's l2: 6.99687e+07\tvalid_1's l1: 3588.85\n",
      "[3200]\ttraining's l2: 1.50257e+07\ttraining's l1: 2454.97\tvalid_1's l2: 6.94717e+07\tvalid_1's l1: 3557.68\n",
      "[3400]\ttraining's l2: 1.4022e+07\ttraining's l1: 2375.47\tvalid_1's l2: 6.89566e+07\tvalid_1's l1: 3517.03\n",
      "[3600]\ttraining's l2: 1.31296e+07\ttraining's l1: 2306.87\tvalid_1's l2: 6.85615e+07\tvalid_1's l1: 3488.99\n",
      "[3800]\ttraining's l2: 1.23781e+07\ttraining's l1: 2245.55\tvalid_1's l2: 6.81577e+07\tvalid_1's l1: 3463.53\n",
      "[4000]\ttraining's l2: 1.1681e+07\ttraining's l1: 2184.78\tvalid_1's l2: 6.79119e+07\tvalid_1's l1: 3440.78\n",
      "[4200]\ttraining's l2: 1.1002e+07\ttraining's l1: 2125.1\tvalid_1's l2: 6.75357e+07\tvalid_1's l1: 3413.84\n",
      "[4400]\ttraining's l2: 1.04284e+07\ttraining's l1: 2074.91\tvalid_1's l2: 6.7287e+07\tvalid_1's l1: 3398.27\n",
      "[4600]\ttraining's l2: 9.87931e+06\ttraining's l1: 2022.46\tvalid_1's l2: 6.70455e+07\tvalid_1's l1: 3377.1\n",
      "[4800]\ttraining's l2: 9.40798e+06\ttraining's l1: 1975.29\tvalid_1's l2: 6.6852e+07\tvalid_1's l1: 3361.58\n",
      "[5000]\ttraining's l2: 8.91916e+06\ttraining's l1: 1926.55\tvalid_1's l2: 6.65525e+07\tvalid_1's l1: 3341.09\n",
      "Did not meet early stopping. Best iteration is:\n",
      "[5000]\ttraining's l2: 8.91916e+06\ttraining's l1: 1926.55\tvalid_1's l2: 6.65525e+07\tvalid_1's l1: 3341.09\n",
      "processed: 319/594\n",
      "saving...\n",
      "(307511, 912)\n"
     ]
    },
    {
     "name": "stderr",
     "output_type": "stream",
     "text": [
      "\r",
      "319it [7:31:11, 84.86s/it]"
     ]
    },
    {
     "name": "stdout",
     "output_type": "stream",
     "text": [
      "start processing installments_payments_SK_ID_CURR_var_NUM_INSTALMENT_NUMBER \n",
      "the na is:0.049515094524989124\n",
      "(338615, 909)\n",
      "(17640, 909)\n",
      "Training until validation scores don't improve for 100 rounds.\n",
      "[200]\ttraining's l2: 253.153\ttraining's l1: 5.53322\tvalid_1's l2: 408.539\tvalid_1's l1: 5.91407\n",
      "[400]\ttraining's l2: 154.663\ttraining's l1: 4.52832\tvalid_1's l2: 350.462\tvalid_1's l1: 5.19397\n",
      "[600]\ttraining's l2: 111.495\ttraining's l1: 4.00425\tvalid_1's l2: 326.124\tvalid_1's l1: 4.88065\n",
      "[800]\ttraining's l2: 86.4974\ttraining's l1: 3.63569\tvalid_1's l2: 311.484\tvalid_1's l1: 4.68102\n",
      "[1000]\ttraining's l2: 69.9638\ttraining's l1: 3.32762\tvalid_1's l2: 302.757\tvalid_1's l1: 4.52736\n",
      "[1200]\ttraining's l2: 57.2289\ttraining's l1: 3.06136\tvalid_1's l2: 296.493\tvalid_1's l1: 4.40072\n",
      "[1400]\ttraining's l2: 48.0684\ttraining's l1: 2.85332\tvalid_1's l2: 291.617\tvalid_1's l1: 4.31398\n",
      "[1600]\ttraining's l2: 40.8754\ttraining's l1: 2.67714\tvalid_1's l2: 288.137\tvalid_1's l1: 4.24694\n",
      "[1800]\ttraining's l2: 35.2422\ttraining's l1: 2.52649\tvalid_1's l2: 285.645\tvalid_1's l1: 4.19706\n",
      "[2000]\ttraining's l2: 30.8204\ttraining's l1: 2.40035\tvalid_1's l2: 283.862\tvalid_1's l1: 4.15599\n",
      "[2200]\ttraining's l2: 27.1288\ttraining's l1: 2.27576\tvalid_1's l2: 281.471\tvalid_1's l1: 4.11199\n",
      "[2400]\ttraining's l2: 24.0899\ttraining's l1: 2.1692\tvalid_1's l2: 280.048\tvalid_1's l1: 4.07936\n",
      "[2600]\ttraining's l2: 21.3426\ttraining's l1: 2.06337\tvalid_1's l2: 278.582\tvalid_1's l1: 4.04572\n",
      "[2800]\ttraining's l2: 19.1005\ttraining's l1: 1.97422\tvalid_1's l2: 277.051\tvalid_1's l1: 4.01849\n",
      "[3000]\ttraining's l2: 17.2041\ttraining's l1: 1.89411\tvalid_1's l2: 276.222\tvalid_1's l1: 3.99752\n",
      "[3200]\ttraining's l2: 15.5493\ttraining's l1: 1.82122\tvalid_1's l2: 275.505\tvalid_1's l1: 3.97679\n",
      "[3400]\ttraining's l2: 14.0249\ttraining's l1: 1.74789\tvalid_1's l2: 274.539\tvalid_1's l1: 3.95468\n",
      "[3600]\ttraining's l2: 12.7733\ttraining's l1: 1.68587\tvalid_1's l2: 274.253\tvalid_1's l1: 3.94314\n",
      "[3800]\ttraining's l2: 11.6548\ttraining's l1: 1.62438\tvalid_1's l2: 273.591\tvalid_1's l1: 3.92514\n",
      "Early stopping, best iteration is:\n",
      "[3752]\ttraining's l2: 11.8863\ttraining's l1: 1.63705\tvalid_1's l2: 273.582\tvalid_1's l1: 3.92772\n",
      "processed: 320/594\n",
      "saving...\n",
      "(307511, 912)\n"
     ]
    },
    {
     "name": "stderr",
     "output_type": "stream",
     "text": [
      "\r",
      "320it [7:32:36, 84.87s/it]"
     ]
    },
    {
     "name": "stdout",
     "output_type": "stream",
     "text": [
      "start processing installments_payments_SK_ID_CURR_var_NUM_INSTALMENT_VERSION \n",
      "the na is:0.049515094524989124\n",
      "(338615, 909)\n",
      "(17640, 909)\n",
      "Training until validation scores don't improve for 100 rounds.\n",
      "[200]\ttraining's l2: 0.393052\ttraining's l1: 0.0195153\tvalid_1's l2: 8.05281\tvalid_1's l1: 0.0453854\n",
      "[400]\ttraining's l2: 0.172553\ttraining's l1: 0.0144465\tvalid_1's l2: 6.88841\tvalid_1's l1: 0.0398154\n",
      "[600]\ttraining's l2: 0.0786504\ttraining's l1: 0.01209\tvalid_1's l2: 6.56835\tvalid_1's l1: 0.0376548\n",
      "[800]\ttraining's l2: 0.0349814\ttraining's l1: 0.010185\tvalid_1's l2: 6.49834\tvalid_1's l1: 0.0361141\n",
      "Early stopping, best iteration is:\n",
      "[737]\ttraining's l2: 0.0438998\ttraining's l1: 0.0106333\tvalid_1's l2: 6.47764\tvalid_1's l1: 0.036467\n",
      "processed: 321/594\n",
      "saving...\n",
      "(307511, 912)\n"
     ]
    },
    {
     "name": "stderr",
     "output_type": "stream",
     "text": [
      "\r",
      "321it [7:33:10, 84.70s/it]"
     ]
    },
    {
     "name": "stdout",
     "output_type": "stream",
     "text": [
      "start processing last_5_NUM_INSTALMENT_VERSION_std \n",
      "the na is:0.049515094524989124\n",
      "(338615, 909)\n",
      "(17640, 909)\n",
      "Training until validation scores don't improve for 100 rounds.\n",
      "[200]\ttraining's l2: 0.0061112\ttraining's l1: 0.00706868\tvalid_1's l2: 0.00353352\tvalid_1's l1: 0.00783376\n",
      "Early stopping, best iteration is:\n",
      "[100]\ttraining's l2: 0.00884028\ttraining's l1: 0.00870166\tvalid_1's l2: 0.00107126\tvalid_1's l1: 0.00887503\n",
      "processed: 322/594\n",
      "saving...\n",
      "(307511, 912)\n"
     ]
    },
    {
     "name": "stderr",
     "output_type": "stream",
     "text": [
      "\r",
      "322it [7:33:31, 84.51s/it]"
     ]
    },
    {
     "name": "stdout",
     "output_type": "stream",
     "text": [
      "start processing last_100_NUM_INSTALMENT_VERSION_std \n",
      "the na is:0.049515094524989124\n",
      "(338615, 909)\n",
      "(17640, 909)\n",
      "Training until validation scores don't improve for 100 rounds.\n",
      "[200]\ttraining's l2: 0.000439856\ttraining's l1: 0.0054979\tvalid_1's l2: 0.0102055\tvalid_1's l1: 0.00675933\n",
      "[400]\ttraining's l2: 0.000219895\ttraining's l1: 0.00452131\tvalid_1's l2: 0.00933687\tvalid_1's l1: 0.00597425\n",
      "[600]\ttraining's l2: 0.00013113\ttraining's l1: 0.00395193\tvalid_1's l2: 0.00913517\tvalid_1's l1: 0.0055798\n",
      "[800]\ttraining's l2: 8.72386e-05\ttraining's l1: 0.00355563\tvalid_1's l2: 0.00908308\tvalid_1's l1: 0.00531018\n",
      "Early stopping, best iteration is:\n",
      "[701]\ttraining's l2: 0.00010555\ttraining's l1: 0.00374599\tvalid_1's l2: 0.00907153\tvalid_1's l1: 0.00544583\n",
      "processed: 323/594\n",
      "saving...\n",
      "(307511, 912)\n"
     ]
    },
    {
     "name": "stderr",
     "output_type": "stream",
     "text": [
      "\r",
      "323it [7:34:03, 84.35s/it]"
     ]
    },
    {
     "name": "stdout",
     "output_type": "stream",
     "text": [
      "start processing last_10_NUM_INSTALMENT_VERSION_std \n",
      "the na is:0.049515094524989124\n",
      "(338615, 909)\n",
      "(17640, 909)\n",
      "Training until validation scores don't improve for 100 rounds.\n",
      "[200]\ttraining's l2: 0.00239103\ttraining's l1: 0.00968594\tvalid_1's l2: 0.00331161\tvalid_1's l1: 0.0109689\n",
      "Early stopping, best iteration is:\n",
      "[151]\ttraining's l2: 0.00302958\ttraining's l1: 0.0106132\tvalid_1's l2: 0.0029327\tvalid_1's l1: 0.0116503\n",
      "processed: 324/594\n",
      "saving...\n",
      "(307511, 912)\n"
     ]
    },
    {
     "name": "stderr",
     "output_type": "stream",
     "text": [
      "\r",
      "324it [7:34:26, 84.15s/it]"
     ]
    },
    {
     "name": "stdout",
     "output_type": "stream",
     "text": [
      "start processing last_20_NUM_INSTALMENT_VERSION_std \n",
      "the na is:0.049515094524989124\n",
      "(338615, 909)\n",
      "(17640, 909)\n",
      "Training until validation scores don't improve for 100 rounds.\n",
      "[200]\ttraining's l2: 0.00127921\ttraining's l1: 0.00888636\tvalid_1's l2: 0.00166436\tvalid_1's l1: 0.0096442\n",
      "[400]\ttraining's l2: 0.000639032\ttraining's l1: 0.00690196\tvalid_1's l2: 0.00108989\tvalid_1's l1: 0.00786839\n",
      "Early stopping, best iteration is:\n",
      "[402]\ttraining's l2: 0.000633691\ttraining's l1: 0.00689085\tvalid_1's l2: 0.00108008\tvalid_1's l1: 0.00785908\n",
      "processed: 325/594\n",
      "saving...\n",
      "(307511, 912)\n"
     ]
    },
    {
     "name": "stderr",
     "output_type": "stream",
     "text": [
      "\r",
      "325it [7:34:53, 83.98s/it]"
     ]
    },
    {
     "name": "stdout",
     "output_type": "stream",
     "text": [
      "start processing all_installment_NUM_INSTALMENT_VERSION_std \n",
      "the na is:0.049515094524989124\n",
      "(338615, 909)\n",
      "(17640, 909)\n",
      "Training until validation scores don't improve for 100 rounds.\n",
      "[200]\ttraining's l2: 0.000383384\ttraining's l1: 0.00551839\tvalid_1's l2: 0.00939869\tvalid_1's l1: 0.00672542\n",
      "[400]\ttraining's l2: 0.000172244\ttraining's l1: 0.00403636\tvalid_1's l2: 0.00854437\tvalid_1's l1: 0.00542042\n",
      "[600]\ttraining's l2: 9.32766e-05\ttraining's l1: 0.0032975\tvalid_1's l2: 0.00824214\tvalid_1's l1: 0.00478581\n",
      "Early stopping, best iteration is:\n",
      "[674]\ttraining's l2: 7.56534e-05\ttraining's l1: 0.00311467\tvalid_1's l2: 0.00821799\tvalid_1's l1: 0.00464292\n",
      "processed: 326/594\n",
      "saving...\n",
      "(307511, 912)\n"
     ]
    },
    {
     "name": "stderr",
     "output_type": "stream",
     "text": [
      "\r",
      "326it [7:35:26, 83.82s/it]"
     ]
    },
    {
     "name": "stdout",
     "output_type": "stream",
     "text": [
      "start processing last_20by100_fraction_NUM_INSTALMENT_VERSION_std \n",
      "the na is:0.049515094524989124\n",
      "(338615, 909)\n",
      "(17640, 909)\n",
      "Training until validation scores don't improve for 100 rounds.\n",
      "[200]\ttraining's l2: 0.000668387\ttraining's l1: 0.0115604\tvalid_1's l2: 0.000733501\tvalid_1's l1: 0.0119398\n",
      "[400]\ttraining's l2: 0.000375904\ttraining's l1: 0.00875207\tvalid_1's l2: 0.00045591\tvalid_1's l1: 0.00933019\n",
      "[600]\ttraining's l2: 0.000263683\ttraining's l1: 0.00740426\tvalid_1's l2: 0.000352474\tvalid_1's l1: 0.00813894\n",
      "[800]\ttraining's l2: 0.000204477\ttraining's l1: 0.00656001\tvalid_1's l2: 0.000301134\tvalid_1's l1: 0.00745358\n",
      "[1000]\ttraining's l2: 0.000166381\ttraining's l1: 0.00597021\tvalid_1's l2: 0.000269487\tvalid_1's l1: 0.00701739\n",
      "[1200]\ttraining's l2: 0.000138843\ttraining's l1: 0.00548026\tvalid_1's l2: 0.000247009\tvalid_1's l1: 0.00666012\n",
      "[1400]\ttraining's l2: 0.000119288\ttraining's l1: 0.00511006\tvalid_1's l2: 0.000233143\tvalid_1's l1: 0.00642946\n",
      "[1600]\ttraining's l2: 0.000104136\ttraining's l1: 0.00480144\tvalid_1's l2: 0.00022261\tvalid_1's l1: 0.00624285\n",
      "[1800]\ttraining's l2: 9.16126e-05\ttraining's l1: 0.00453451\tvalid_1's l2: 0.000214488\tvalid_1's l1: 0.00610138\n",
      "[2000]\ttraining's l2: 8.14966e-05\ttraining's l1: 0.00429527\tvalid_1's l2: 0.000208318\tvalid_1's l1: 0.00597972\n",
      "[2200]\ttraining's l2: 7.28577e-05\ttraining's l1: 0.0040835\tvalid_1's l2: 0.000202532\tvalid_1's l1: 0.00586902\n",
      "[2400]\ttraining's l2: 6.54971e-05\ttraining's l1: 0.00388529\tvalid_1's l2: 0.000197951\tvalid_1's l1: 0.00576011\n",
      "[2600]\ttraining's l2: 5.94741e-05\ttraining's l1: 0.00371628\tvalid_1's l2: 0.000194431\tvalid_1's l1: 0.00568178\n",
      "[2800]\ttraining's l2: 5.41827e-05\ttraining's l1: 0.00355502\tvalid_1's l2: 0.000191506\tvalid_1's l1: 0.00560566\n",
      "[3000]\ttraining's l2: 4.97716e-05\ttraining's l1: 0.00341883\tvalid_1's l2: 0.000189522\tvalid_1's l1: 0.00555733\n",
      "[3200]\ttraining's l2: 4.53385e-05\ttraining's l1: 0.00327531\tvalid_1's l2: 0.000186926\tvalid_1's l1: 0.00549034\n",
      "[3400]\ttraining's l2: 4.16771e-05\ttraining's l1: 0.003153\tvalid_1's l2: 0.000185487\tvalid_1's l1: 0.00544847\n",
      "[3600]\ttraining's l2: 3.85836e-05\ttraining's l1: 0.00304364\tvalid_1's l2: 0.000184255\tvalid_1's l1: 0.00541549\n",
      "[3800]\ttraining's l2: 3.56676e-05\ttraining's l1: 0.00293033\tvalid_1's l2: 0.000182846\tvalid_1's l1: 0.00537245\n",
      "[4000]\ttraining's l2: 3.3074e-05\ttraining's l1: 0.00282976\tvalid_1's l2: 0.000181394\tvalid_1's l1: 0.00533513\n",
      "[4200]\ttraining's l2: 3.0639e-05\ttraining's l1: 0.00273184\tvalid_1's l2: 0.000180224\tvalid_1's l1: 0.00530083\n",
      "[4400]\ttraining's l2: 2.86749e-05\ttraining's l1: 0.00264807\tvalid_1's l2: 0.000179206\tvalid_1's l1: 0.00527424\n",
      "[4600]\ttraining's l2: 2.69488e-05\ttraining's l1: 0.00257614\tvalid_1's l2: 0.000178892\tvalid_1's l1: 0.00526271\n"
     ]
    },
    {
     "ename": "KeyboardInterrupt",
     "evalue": "",
     "output_type": "error",
     "traceback": [
      "\u001b[0;31m---------------------------------------------------------------------------\u001b[0m",
      "\u001b[0;31mKeyboardInterrupt\u001b[0m                         Traceback (most recent call last)",
      "\u001b[0;32m<ipython-input-8-0b8967b6019f>\u001b[0m in \u001b[0;36m<module>\u001b[0;34m()\u001b[0m\n\u001b[1;32m     21\u001b[0m     \u001b[0mna_test\u001b[0m \u001b[0;34m=\u001b[0m \u001b[0mX\u001b[0m\u001b[0;34m[\u001b[0m\u001b[0mX\u001b[0m\u001b[0;34m[\u001b[0m\u001b[0mcol\u001b[0m\u001b[0;34m]\u001b[0m\u001b[0;34m.\u001b[0m\u001b[0misnull\u001b[0m\u001b[0;34m(\u001b[0m\u001b[0;34m)\u001b[0m\u001b[0;34m]\u001b[0m\u001b[0;34m[\u001b[0m\u001b[0mfeature_col\u001b[0m\u001b[0;34m]\u001b[0m\u001b[0;34m.\u001b[0m\u001b[0mcopy\u001b[0m\u001b[0;34m(\u001b[0m\u001b[0;34m)\u001b[0m\u001b[0;34m\u001b[0m\u001b[0m\n\u001b[1;32m     22\u001b[0m     \u001b[0mprint\u001b[0m\u001b[0;34m(\u001b[0m\u001b[0mna_test\u001b[0m\u001b[0;34m.\u001b[0m\u001b[0mshape\u001b[0m\u001b[0;34m)\u001b[0m\u001b[0;34m\u001b[0m\u001b[0m\n\u001b[0;32m---> 23\u001b[0;31m     \u001b[0mreg\u001b[0m \u001b[0;34m=\u001b[0m \u001b[0mtrainLGB\u001b[0m\u001b[0;34m(\u001b[0m\u001b[0mna_train_x\u001b[0m\u001b[0;34m,\u001b[0m\u001b[0mna_val_x\u001b[0m\u001b[0;34m,\u001b[0m\u001b[0mna_train_y\u001b[0m\u001b[0;34m,\u001b[0m\u001b[0mna_val_y\u001b[0m\u001b[0;34m)\u001b[0m\u001b[0;34m\u001b[0m\u001b[0m\n\u001b[0m\u001b[1;32m     24\u001b[0m     \u001b[0mX\u001b[0m\u001b[0;34m.\u001b[0m\u001b[0mloc\u001b[0m\u001b[0;34m[\u001b[0m\u001b[0mX\u001b[0m\u001b[0;34m[\u001b[0m\u001b[0mcol\u001b[0m\u001b[0;34m]\u001b[0m\u001b[0;34m.\u001b[0m\u001b[0misnull\u001b[0m\u001b[0;34m(\u001b[0m\u001b[0;34m)\u001b[0m\u001b[0;34m,\u001b[0m\u001b[0mcol\u001b[0m\u001b[0;34m]\u001b[0m \u001b[0;34m=\u001b[0m \u001b[0mreg\u001b[0m\u001b[0;34m.\u001b[0m\u001b[0mpredict\u001b[0m\u001b[0;34m(\u001b[0m\u001b[0mna_test\u001b[0m\u001b[0;34m)\u001b[0m\u001b[0;34m\u001b[0m\u001b[0m\n\u001b[1;32m     25\u001b[0m     \u001b[0mProcessed_list\u001b[0m\u001b[0;34m.\u001b[0m\u001b[0mappend\u001b[0m\u001b[0;34m(\u001b[0m\u001b[0mcol\u001b[0m\u001b[0;34m)\u001b[0m\u001b[0;34m\u001b[0m\u001b[0m\n",
      "\u001b[0;32m<ipython-input-5-d5523040b920>\u001b[0m in \u001b[0;36mtrainLGB\u001b[0;34m(na_train_x, na_val_x, na_train_y, na_val_y)\u001b[0m\n\u001b[1;32m     25\u001b[0m                     \u001b[0msilent\u001b[0m\u001b[0;34m=\u001b[0m\u001b[0;34m-\u001b[0m\u001b[0;36m1\u001b[0m\u001b[0;34m,\u001b[0m\u001b[0;34m\u001b[0m\u001b[0m\n\u001b[1;32m     26\u001b[0m                     verbose=-1, )\n\u001b[0;32m---> 27\u001b[0;31m     \u001b[0mreg\u001b[0m\u001b[0;34m.\u001b[0m\u001b[0mfit\u001b[0m\u001b[0;34m(\u001b[0m\u001b[0mna_train_x\u001b[0m\u001b[0;34m,\u001b[0m \u001b[0mna_train_y\u001b[0m\u001b[0;34m,\u001b[0m \u001b[0meval_set\u001b[0m\u001b[0;34m=\u001b[0m\u001b[0;34m[\u001b[0m\u001b[0;34m(\u001b[0m\u001b[0mna_train_x\u001b[0m\u001b[0;34m,\u001b[0m\u001b[0mna_train_y\u001b[0m\u001b[0;34m)\u001b[0m\u001b[0;34m,\u001b[0m\u001b[0;34m(\u001b[0m\u001b[0mna_val_x\u001b[0m\u001b[0;34m,\u001b[0m \u001b[0mna_val_y\u001b[0m\u001b[0;34m)\u001b[0m\u001b[0;34m]\u001b[0m\u001b[0;34m,\u001b[0m  \u001b[0mverbose\u001b[0m\u001b[0;34m=\u001b[0m\u001b[0;36m200\u001b[0m\u001b[0;34m,\u001b[0m\u001b[0mearly_stopping_rounds\u001b[0m\u001b[0;34m=\u001b[0m\u001b[0;36m100\u001b[0m\u001b[0;34m,\u001b[0m\u001b[0meval_metric\u001b[0m\u001b[0;34m=\u001b[0m\u001b[0;34m'l1'\u001b[0m \u001b[0;34m)\u001b[0m\u001b[0;34m\u001b[0m\u001b[0m\n\u001b[0m\u001b[1;32m     28\u001b[0m     \u001b[0;32mreturn\u001b[0m \u001b[0mreg\u001b[0m\u001b[0;34m\u001b[0m\u001b[0m\n\u001b[1;32m     29\u001b[0m \u001b[0;34m\u001b[0m\u001b[0m\n",
      "\u001b[0;32m~/anaconda3/lib/python3.6/site-packages/lightgbm/sklearn.py\u001b[0m in \u001b[0;36mfit\u001b[0;34m(self, X, y, sample_weight, init_score, eval_set, eval_names, eval_sample_weight, eval_init_score, eval_metric, early_stopping_rounds, verbose, feature_name, categorical_feature, callbacks)\u001b[0m\n\u001b[1;32m    666\u001b[0m                                        \u001b[0mverbose\u001b[0m\u001b[0;34m=\u001b[0m\u001b[0mverbose\u001b[0m\u001b[0;34m,\u001b[0m \u001b[0mfeature_name\u001b[0m\u001b[0;34m=\u001b[0m\u001b[0mfeature_name\u001b[0m\u001b[0;34m,\u001b[0m\u001b[0;34m\u001b[0m\u001b[0m\n\u001b[1;32m    667\u001b[0m                                        \u001b[0mcategorical_feature\u001b[0m\u001b[0;34m=\u001b[0m\u001b[0mcategorical_feature\u001b[0m\u001b[0;34m,\u001b[0m\u001b[0;34m\u001b[0m\u001b[0m\n\u001b[0;32m--> 668\u001b[0;31m                                        callbacks=callbacks)\n\u001b[0m\u001b[1;32m    669\u001b[0m         \u001b[0;32mreturn\u001b[0m \u001b[0mself\u001b[0m\u001b[0;34m\u001b[0m\u001b[0m\n\u001b[1;32m    670\u001b[0m \u001b[0;34m\u001b[0m\u001b[0m\n",
      "\u001b[0;32m~/anaconda3/lib/python3.6/site-packages/lightgbm/sklearn.py\u001b[0m in \u001b[0;36mfit\u001b[0;34m(self, X, y, sample_weight, init_score, group, eval_set, eval_names, eval_sample_weight, eval_class_weight, eval_init_score, eval_group, eval_metric, early_stopping_rounds, verbose, feature_name, categorical_feature, callbacks)\u001b[0m\n\u001b[1;32m    496\u001b[0m                               \u001b[0mverbose_eval\u001b[0m\u001b[0;34m=\u001b[0m\u001b[0mverbose\u001b[0m\u001b[0;34m,\u001b[0m \u001b[0mfeature_name\u001b[0m\u001b[0;34m=\u001b[0m\u001b[0mfeature_name\u001b[0m\u001b[0;34m,\u001b[0m\u001b[0;34m\u001b[0m\u001b[0m\n\u001b[1;32m    497\u001b[0m                               \u001b[0mcategorical_feature\u001b[0m\u001b[0;34m=\u001b[0m\u001b[0mcategorical_feature\u001b[0m\u001b[0;34m,\u001b[0m\u001b[0;34m\u001b[0m\u001b[0m\n\u001b[0;32m--> 498\u001b[0;31m                               callbacks=callbacks)\n\u001b[0m\u001b[1;32m    499\u001b[0m \u001b[0;34m\u001b[0m\u001b[0m\n\u001b[1;32m    500\u001b[0m         \u001b[0;32mif\u001b[0m \u001b[0mevals_result\u001b[0m\u001b[0;34m:\u001b[0m\u001b[0;34m\u001b[0m\u001b[0m\n",
      "\u001b[0;32m~/anaconda3/lib/python3.6/site-packages/lightgbm/engine.py\u001b[0m in \u001b[0;36mtrain\u001b[0;34m(params, train_set, num_boost_round, valid_sets, valid_names, fobj, feval, init_model, feature_name, categorical_feature, early_stopping_rounds, evals_result, verbose_eval, learning_rates, keep_training_booster, callbacks)\u001b[0m\n\u001b[1;32m    205\u001b[0m                                     evaluation_result_list=None))\n\u001b[1;32m    206\u001b[0m \u001b[0;34m\u001b[0m\u001b[0m\n\u001b[0;32m--> 207\u001b[0;31m         \u001b[0mbooster\u001b[0m\u001b[0;34m.\u001b[0m\u001b[0mupdate\u001b[0m\u001b[0;34m(\u001b[0m\u001b[0mfobj\u001b[0m\u001b[0;34m=\u001b[0m\u001b[0mfobj\u001b[0m\u001b[0;34m)\u001b[0m\u001b[0;34m\u001b[0m\u001b[0m\n\u001b[0m\u001b[1;32m    208\u001b[0m \u001b[0;34m\u001b[0m\u001b[0m\n\u001b[1;32m    209\u001b[0m         \u001b[0mevaluation_result_list\u001b[0m \u001b[0;34m=\u001b[0m \u001b[0;34m[\u001b[0m\u001b[0;34m]\u001b[0m\u001b[0;34m\u001b[0m\u001b[0m\n",
      "\u001b[0;32m~/anaconda3/lib/python3.6/site-packages/lightgbm/basic.py\u001b[0m in \u001b[0;36mupdate\u001b[0;34m(self, train_set, fobj)\u001b[0m\n\u001b[1;32m   1706\u001b[0m             _safe_call(_LIB.LGBM_BoosterUpdateOneIter(\n\u001b[1;32m   1707\u001b[0m                 \u001b[0mself\u001b[0m\u001b[0;34m.\u001b[0m\u001b[0mhandle\u001b[0m\u001b[0;34m,\u001b[0m\u001b[0;34m\u001b[0m\u001b[0m\n\u001b[0;32m-> 1708\u001b[0;31m                 ctypes.byref(is_finished)))\n\u001b[0m\u001b[1;32m   1709\u001b[0m             \u001b[0mself\u001b[0m\u001b[0;34m.\u001b[0m\u001b[0m__is_predicted_cur_iter\u001b[0m \u001b[0;34m=\u001b[0m \u001b[0;34m[\u001b[0m\u001b[0;32mFalse\u001b[0m \u001b[0;32mfor\u001b[0m \u001b[0m_\u001b[0m \u001b[0;32min\u001b[0m \u001b[0mrange_\u001b[0m\u001b[0;34m(\u001b[0m\u001b[0mself\u001b[0m\u001b[0;34m.\u001b[0m\u001b[0m__num_dataset\u001b[0m\u001b[0;34m)\u001b[0m\u001b[0;34m]\u001b[0m\u001b[0;34m\u001b[0m\u001b[0m\n\u001b[1;32m   1710\u001b[0m             \u001b[0;32mreturn\u001b[0m \u001b[0mis_finished\u001b[0m\u001b[0;34m.\u001b[0m\u001b[0mvalue\u001b[0m \u001b[0;34m==\u001b[0m \u001b[0;36m1\u001b[0m\u001b[0;34m\u001b[0m\u001b[0m\n",
      "\u001b[0;31mKeyboardInterrupt\u001b[0m: "
     ]
    }
   ],
   "source": [
    "Processed_list = []\n",
    "ignore_col = ['SK_ID_CURR']\n",
    "feature_col_base = list(set(X.columns) - set(ignore_col) )\n",
    "val = 0.1\n",
    "save_count = 1\n",
    "count = 0\n",
    "for col,nav in tqdm(zip(col_list,na_list)):\n",
    "    print('start processing {} \\nthe na is:{}'.format(col,nav))\n",
    "    X[col] = X[col].replace(365243.0,0)\n",
    "    X[col] = X[col].replace(np.NINF,np.NAN)\n",
    "    X[col] = X[col].replace(np.PINF,np.NAN)\n",
    "    X[col] = X[col].replace(np.Inf,np.NAN)\n",
    "    feature_col = list(set(feature_col_base) - set([col]))\n",
    "    \n",
    "    na_train = X[X[col].notnull()][feature_col].copy()\n",
    "    na_target = X[X[col].notnull()][col].copy()\n",
    "    seed = np.random.randint(200) + 1\n",
    "    seed = 19\n",
    "    na_train_x,na_val_x,na_train_y,na_val_y = train_test_split(na_train,na_target, test_size=val,random_state=seed)\n",
    "    print(na_train.shape)\n",
    "    na_test = X[X[col].isnull()][feature_col].copy()\n",
    "    print(na_test.shape)\n",
    "    reg = trainLGB(na_train_x,na_val_x,na_train_y,na_val_y)\n",
    "    X.loc[X[col].isnull(),col] = reg.predict(na_test)\n",
    "    Processed_list.append(col)\n",
    "    print('processed: {}/{}'.format(len(Processed_list),len(col_list)))\n",
    "    count +=1\n",
    "    if count % save_count == 0:\n",
    "        saving(X)\n",
    "    del reg\n",
    "    gc.collect()\n",
    "    "
   ]
  },
  {
   "cell_type": "code",
   "execution_count": null,
   "metadata": {},
   "outputs": [],
   "source": []
  }
 ],
 "metadata": {
  "kernelspec": {
   "display_name": "Python 3",
   "language": "python",
   "name": "python3"
  },
  "language_info": {
   "codemirror_mode": {
    "name": "ipython",
    "version": 3
   },
   "file_extension": ".py",
   "mimetype": "text/x-python",
   "name": "python",
   "nbconvert_exporter": "python",
   "pygments_lexer": "ipython3",
   "version": "3.6.5"
  },
  "varInspector": {
   "cols": {
    "lenName": 16,
    "lenType": 16,
    "lenVar": 40
   },
   "kernels_config": {
    "python": {
     "delete_cmd_postfix": "",
     "delete_cmd_prefix": "del ",
     "library": "var_list.py",
     "varRefreshCmd": "print(var_dic_list())"
    },
    "r": {
     "delete_cmd_postfix": ") ",
     "delete_cmd_prefix": "rm(",
     "library": "var_list.r",
     "varRefreshCmd": "cat(var_dic_list()) "
    }
   },
   "types_to_exclude": [
    "module",
    "function",
    "builtin_function_or_method",
    "instance",
    "_Feature"
   ],
   "window_display": false
  }
 },
 "nbformat": 4,
 "nbformat_minor": 2
}
