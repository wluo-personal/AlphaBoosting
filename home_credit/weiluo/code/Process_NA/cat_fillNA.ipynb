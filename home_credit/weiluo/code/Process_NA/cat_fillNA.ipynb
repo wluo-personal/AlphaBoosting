{
 "cells": [
  {
   "cell_type": "code",
   "execution_count": 1,
   "metadata": {
    "ExecuteTime": {
     "end_time": "2018-08-28T19:16:42.039074Z",
     "start_time": "2018-08-28T19:16:37.571091Z"
    }
   },
   "outputs": [
    {
     "name": "stdout",
     "output_type": "stream",
     "text": [
      "train shape is: (307511, 409)\n",
      "test shape is: (48744, 408)\n"
     ]
    }
   ],
   "source": [
    "import os,sys\n",
    "import numpy as np\n",
    "import pandas as pd\n",
    "# from tqdm import tqdm_notebook as tqdm\n",
    "from sklearn.externals import joblib\n",
    "import matplotlib.pyplot as plt\n",
    "sys.path.append('../LIB/')\n",
    "from env import ENV\n",
    "from sklearn.preprocessing import normalize\n",
    "# from tqdm import tqdm\n",
    "import pickle\n",
    "from sklearn.preprocessing.data import QuantileTransformer\n",
    "from sklearn.preprocessing import LabelEncoder\n",
    "from sklearn.model_selection import train_test_split\n",
    "\n",
    "from catboost import Pool, CatBoostRegressor\n",
    "import gc\n",
    "from  numba import cuda\n",
    "\n",
    "\n",
    "print_to_file = False \n",
    "test_run = False \n",
    "\n",
    "# train = pd.read_pickle(ENV.lightgbm_train_764.value)\n",
    "train = pd.read_pickle(ENV.lgb_train_0827_na.value)\n",
    "print('train shape is: {}'.format(train.shape))\n",
    "# test = pd.read_pickle(ENV.lightgbm_test_764.value)\n",
    "test = pd.read_pickle(ENV.lgb_test_0827_na.value)\n",
    "print('test shape is: {}'.format(test.shape))\n",
    "fe_id = 'comb_764'"
   ]
  },
  {
   "cell_type": "code",
   "execution_count": 2,
   "metadata": {
    "ExecuteTime": {
     "end_time": "2018-08-28T19:16:46.261097Z",
     "start_time": "2018-08-28T19:16:42.898318Z"
    }
   },
   "outputs": [],
   "source": [
    "train['SK_ID_CURR'] = train['SK_ID_CURR'].astype(int)\n",
    "test['SK_ID_CURR'] = test['SK_ID_CURR'].astype(int)\n",
    "targets = train.TARGET.values\n",
    "\n",
    "train_id = train['SK_ID_CURR']\n",
    "test_id = test['SK_ID_CURR']\n",
    "\n",
    "X = pd.concat([train.drop('TARGET',axis=1),test])"
   ]
  },
  {
   "cell_type": "code",
   "execution_count": 3,
   "metadata": {
    "ExecuteTime": {
     "end_time": "2018-08-28T19:16:46.826267Z",
     "start_time": "2018-08-28T19:16:46.812994Z"
    }
   },
   "outputs": [],
   "source": [
    "def scan_nan_portion(df):\n",
    "    portions = []\n",
    "    columns = []\n",
    "    for col in df.columns:\n",
    "        columns.append(col)\n",
    "        portions.append(np.sum(df[col].isnull())/len(df))\n",
    "    return pd.Series(data=portions, index=columns)\n"
   ]
  },
  {
   "cell_type": "code",
   "execution_count": 4,
   "metadata": {
    "ExecuteTime": {
     "end_time": "2018-08-28T19:17:15.455515Z",
     "start_time": "2018-08-28T19:17:15.448468Z"
    }
   },
   "outputs": [],
   "source": [
    "def fill_na_list(X,th=200):\n",
    "    re = scan_nan_portion(X)\n",
    "    re = re[re<0.15]\n",
    "    re = re.sort_values()\n",
    "    col_list = []\n",
    "    na_list = []\n",
    "    for col in re.index:\n",
    "        if re[col] > 0 and X[col].nunique() >= th and str(X[col].dtypes)!= 'category' and str(X[col].dtypes)!= 'object':\n",
    "            col_list.append(col)\n",
    "            na_list.append(re[col])\n",
    "    return col_list,na_list\n",
    "            \n",
    "def check_category_col(X,th=200):\n",
    "    cate = []\n",
    "    cols = list(X.columns)\n",
    "    for col in cols:\n",
    "        if X[col].nunique() < th or str(X[col].dtypes)== 'category' or str(X[col].dtypes)== 'object':\n",
    "            cate.append(cols)\n",
    "    return cate\n",
    "\n",
    "\n",
    "def cate_index(df,category):\n",
    "    index_list = []\n",
    "    for col in df.columns:\n",
    "        if col in category:\n",
    "            index_list.append(category.index(col))\n",
    "    return index_list\n",
    "    \n",
    "def trainCAT(na_train_x,na_val_x,na_train_y,na_val_y):\n",
    "    cat_col = cate_index(na_train_x,categorys)\n",
    "    model = CatBoostRegressor(iterations=6000, \n",
    "                              depth=None, \n",
    "                              thread_count=10,\n",
    "                              learning_rate=0.01, \n",
    "                              loss_function='RMSE',\n",
    "                              verbose=500,\n",
    "                              task_type='GPU')\n",
    "    model.fit(na_train_x,na_train_y,\n",
    "              cat_features=cat_col,\n",
    "              eval_set=[(na_val_x, na_val_y)],\n",
    "              early_stopping_rounds=3,\n",
    "              verbose_eval=500,\n",
    "              metric_period=500)\n",
    "\n",
    "#     reg.fit(na_train_x, na_train_y, eval_set=[(na_train_x,na_train_y),(na_val_x, na_val_y)],  verbose=200,early_stopping_rounds=100,eval_metric='l1' )\n",
    "    return model\n",
    "\n",
    "def saving(X):\n",
    "    print('saving...')\n",
    "    train_save = X.iloc[:307511].copy()\n",
    "    train_save['TARGET'] = targets\n",
    "    print(train_save.shape)\n",
    "\n",
    "    test_save = X.iloc[307511:].copy()\n",
    "    train_save.to_pickle(ENV.lgb_train_0827_na.value)\n",
    "    test_save.to_pickle(ENV.lgb_test_0827_na.value)\n",
    "    "
   ]
  },
  {
   "cell_type": "code",
   "execution_count": 5,
   "metadata": {
    "ExecuteTime": {
     "end_time": "2018-08-28T19:17:11.887305Z",
     "start_time": "2018-08-28T19:17:03.452325Z"
    }
   },
   "outputs": [],
   "source": [
    "col_list,na_list = fill_na_list(X)\n",
    "categorys = check_category_col(X)"
   ]
  },
  {
   "cell_type": "code",
   "execution_count": 6,
   "metadata": {
    "ExecuteTime": {
     "end_time": "2018-08-28T19:17:21.638790Z",
     "start_time": "2018-08-28T19:17:18.401242Z"
    }
   },
   "outputs": [
    {
     "name": "stdout",
     "output_type": "stream",
     "text": [
      "start processing bureau_debt_credit_ratio \n",
      "the na is:0.14499445621815835\n",
      "(304535, 406)\n",
      "(51720, 406)\n",
      "0:\tlearn: 0.5238301\ttest: 0.3995736\tbest: 0.3995736 (0)\ttotal: 11.9ms\tremaining: 1m 11s\n",
      "500:\tlearn: 0.1828863\ttest: 0.0961590\tbest: 0.0961590 (500)\ttotal: 4.81s\tremaining: 52.8s\n",
      "1000:\tlearn: 0.1037469\ttest: 0.1301839\tbest: 0.0961590 (500)\ttotal: 9.07s\tremaining: 45.3s\n",
      "1500:\tlearn: 0.0684174\ttest: 0.1457059\tbest: 0.0961590 (500)\ttotal: 13.4s\tremaining: 40.3s\n",
      "2000:\tlearn: 0.0525491\ttest: 0.1456793\tbest: 0.0961590 (500)\ttotal: 17.9s\tremaining: 35.8s\n",
      "bestTest = 0.09615903815\n",
      "bestIteration = 500\n",
      "processed: 1/6\n",
      "saving...\n",
      "(307511, 409)\n",
      "start processing Wei_Remaining_AMT_Payment_LAST \n",
      "the na is:0.14725968758333216\n",
      "(303793, 406)\n",
      "(52462, 406)\n",
      "0:\tlearn: 312529.8232115\ttest: 296503.4561384\tbest: 296503.4561384 (0)\ttotal: 9.63ms\tremaining: 57.8s\n",
      "500:\tlearn: 123104.0622801\ttest: 124070.4239632\tbest: 124070.4239632 (500)\ttotal: 4.21s\tremaining: 46.2s\n",
      "1000:\tlearn: 106562.3232799\ttest: 110387.4852845\tbest: 110387.4852845 (1000)\ttotal: 8.51s\tremaining: 42.5s\n",
      "1500:\tlearn: 98663.7595787\ttest: 104065.6195212\tbest: 104065.6195212 (1500)\ttotal: 12.8s\tremaining: 38.5s\n",
      "2000:\tlearn: 93428.5707108\ttest: 100139.9430072\tbest: 100139.9430072 (2000)\ttotal: 17.1s\tremaining: 34.1s\n",
      "2500:\tlearn: 89627.8714260\ttest: 97353.2869765\tbest: 97353.2869765 (2500)\ttotal: 21.3s\tremaining: 29.8s\n",
      "3000:\tlearn: 86491.0678273\ttest: 95151.8400229\tbest: 95151.8400229 (3000)\ttotal: 25.6s\tremaining: 25.6s\n",
      "3500:\tlearn: 83933.7993605\ttest: 93361.7771698\tbest: 93361.7771698 (3500)\ttotal: 30s\tremaining: 21.4s\n",
      "4000:\tlearn: 81772.6972230\ttest: 92013.6910288\tbest: 92013.6910288 (4000)\ttotal: 34.3s\tremaining: 17.2s\n",
      "4500:\tlearn: 79911.3230302\ttest: 90896.3627874\tbest: 90896.3627874 (4500)\ttotal: 38.6s\tremaining: 12.8s\n",
      "5000:\tlearn: 78197.7391394\ttest: 89893.9346756\tbest: 89893.9346756 (5000)\ttotal: 42.9s\tremaining: 8.56s\n",
      "5500:\tlearn: 76665.3974885\ttest: 88976.8289645\tbest: 88976.8289645 (5500)\ttotal: 47.1s\tremaining: 4.27s\n",
      "5999:\tlearn: 75261.2474394\ttest: 88216.7315036\tbest: 88216.7315036 (5999)\ttotal: 51.3s\tremaining: 0us\n",
      "bestTest = 88216.7315\n",
      "bestIteration = 5999\n",
      "processed: 2/6\n",
      "saving...\n",
      "(307511, 409)\n",
      "start processing bureau_DAYS_CREDIT_ENDDATE_min \n",
      "the na is:0.14885124419306395\n",
      "(303226, 406)\n",
      "(53029, 406)\n",
      "0:\tlearn: 2781.7634574\ttest: 2875.7649038\tbest: 2875.7649038 (0)\ttotal: 19.1ms\tremaining: 1m 54s\n",
      "500:\tlearn: 520.8391900\ttest: 459.3489882\tbest: 459.3489882 (500)\ttotal: 4.55s\tremaining: 50s\n",
      "1000:\tlearn: 410.4290003\ttest: 330.1559829\tbest: 330.1559829 (1000)\ttotal: 8.94s\tremaining: 44.7s\n",
      "1500:\tlearn: 363.2061019\ttest: 296.3748414\tbest: 296.3748414 (1500)\ttotal: 13.1s\tremaining: 39.4s\n",
      "2000:\tlearn: 324.2020280\ttest: 275.0953958\tbest: 275.0953958 (2000)\ttotal: 17.3s\tremaining: 34.5s\n",
      "2500:\tlearn: 292.0054043\ttest: 260.0245113\tbest: 260.0245113 (2500)\ttotal: 21.4s\tremaining: 30s\n",
      "3000:\tlearn: 267.1651334\ttest: 250.2494901\tbest: 250.2494901 (3000)\ttotal: 25.6s\tremaining: 25.6s\n",
      "3500:\tlearn: 248.6722964\ttest: 244.1590883\tbest: 244.1590883 (3500)\ttotal: 29.8s\tremaining: 21.3s\n",
      "4000:\tlearn: 232.2806429\ttest: 238.9973626\tbest: 238.9973626 (4000)\ttotal: 34s\tremaining: 17s\n",
      "4500:\tlearn: 216.0950106\ttest: 233.9452454\tbest: 233.9452454 (4500)\ttotal: 38.3s\tremaining: 12.8s\n",
      "5000:\tlearn: 202.3458681\ttest: 230.4468742\tbest: 230.4468742 (5000)\ttotal: 42.6s\tremaining: 8.52s\n",
      "5500:\tlearn: 190.9764155\ttest: 227.4885537\tbest: 227.4885537 (5500)\ttotal: 46.9s\tremaining: 4.25s\n",
      "5999:\tlearn: 179.8098640\ttest: 224.6388673\tbest: 224.6388673 (5999)\ttotal: 51.1s\tremaining: 0us\n",
      "bestTest = 224.6388673\n",
      "bestIteration = 5999\n",
      "processed: 3/6\n",
      "saving...\n",
      "(307511, 409)\n",
      "start processing bureau_DAYS_CREDIT_ENDDATE_median \n",
      "the na is:0.14885124419306395\n",
      "(303226, 406)\n",
      "(53029, 406)\n",
      "0:\tlearn: 2900.7802837\ttest: 2890.8692242\tbest: 2890.8692242 (0)\ttotal: 11.9ms\tremaining: 1m 11s\n",
      "500:\tlearn: 575.5601023\ttest: 530.7211024\tbest: 530.7211024 (500)\ttotal: 4.65s\tremaining: 51s\n",
      "1000:\tlearn: 477.5351549\ttest: 457.2721563\tbest: 457.2721563 (1000)\ttotal: 9.33s\tremaining: 46.6s\n",
      "1500:\tlearn: 428.9419692\ttest: 425.6895538\tbest: 425.6895538 (1500)\ttotal: 13.8s\tremaining: 41.5s\n",
      "2000:\tlearn: 399.2609791\ttest: 408.6303705\tbest: 408.6303705 (2000)\ttotal: 18.4s\tremaining: 36.7s\n",
      "2500:\tlearn: 378.6355674\ttest: 397.8865407\tbest: 397.8865407 (2500)\ttotal: 22.8s\tremaining: 31.9s\n",
      "3000:\tlearn: 361.0664671\ttest: 388.4783218\tbest: 388.4783218 (3000)\ttotal: 27.3s\tremaining: 27.3s\n",
      "3500:\tlearn: 347.4487599\ttest: 381.3692160\tbest: 381.3692160 (3500)\ttotal: 31.8s\tremaining: 22.7s\n",
      "4000:\tlearn: 335.2144387\ttest: 375.4064532\tbest: 375.4064532 (4000)\ttotal: 36.2s\tremaining: 18.1s\n",
      "4500:\tlearn: 325.5405639\ttest: 370.6988068\tbest: 370.6988068 (4500)\ttotal: 40.7s\tremaining: 13.5s\n",
      "5000:\tlearn: 317.3515728\ttest: 367.0339887\tbest: 367.0339887 (5000)\ttotal: 45s\tremaining: 9s\n",
      "5500:\tlearn: 309.4155208\ttest: 363.2890546\tbest: 363.2890546 (5500)\ttotal: 49.4s\tremaining: 4.48s\n",
      "5999:\tlearn: 302.0992849\ttest: 359.7432848\tbest: 359.7432848 (5999)\ttotal: 53.8s\tremaining: 0us\n",
      "bestTest = 359.7432848\n",
      "bestIteration = 5999\n",
      "processed: 4/6\n",
      "saving...\n",
      "(307511, 409)\n",
      "start processing bureau_DAYS_CREDIT_ENDDATE_max \n",
      "the na is:0.14885124419306395\n",
      "(303226, 406)\n",
      "(53029, 406)\n",
      "0:\tlearn: 10340.0705514\ttest: 10394.1260503\tbest: 10394.1260503 (0)\ttotal: 10.4ms\tremaining: 1m 2s\n",
      "500:\tlearn: 1026.1369040\ttest: 1022.9321346\tbest: 1022.9321346 (500)\ttotal: 4.35s\tremaining: 47.8s\n",
      "1000:\tlearn: 879.9110379\ttest: 885.2367126\tbest: 885.2367126 (1000)\ttotal: 8.76s\tremaining: 43.7s\n",
      "1500:\tlearn: 809.3375566\ttest: 822.7215736\tbest: 822.7215736 (1500)\ttotal: 13.4s\tremaining: 40s\n",
      "2000:\tlearn: 766.8290702\ttest: 787.8282415\tbest: 787.8282415 (2000)\ttotal: 17.9s\tremaining: 35.7s\n",
      "2500:\tlearn: 736.3384632\ttest: 763.5712648\tbest: 763.5712648 (2500)\ttotal: 22.2s\tremaining: 31.1s\n",
      "3000:\tlearn: 710.8638658\ttest: 743.7944326\tbest: 743.7944326 (3000)\ttotal: 26.6s\tremaining: 26.5s\n",
      "3500:\tlearn: 691.3221770\ttest: 730.0231488\tbest: 730.0231488 (3500)\ttotal: 30.9s\tremaining: 22.1s\n",
      "4000:\tlearn: 674.5210734\ttest: 718.6002729\tbest: 718.6002729 (4000)\ttotal: 35.4s\tremaining: 17.7s\n",
      "4500:\tlearn: 660.4552019\ttest: 709.7278923\tbest: 709.7278923 (4500)\ttotal: 39.8s\tremaining: 13.3s\n",
      "5000:\tlearn: 647.4226422\ttest: 701.7365706\tbest: 701.7365706 (5000)\ttotal: 44.1s\tremaining: 8.81s\n",
      "5500:\tlearn: 635.1329312\ttest: 694.5847639\tbest: 694.5847639 (5500)\ttotal: 48.5s\tremaining: 4.4s\n",
      "5999:\tlearn: 623.9296722\ttest: 688.4083860\tbest: 688.4083860 (5999)\ttotal: 52.7s\tremaining: 0us\n",
      "bestTest = 688.408386\n",
      "bestIteration = 5999\n",
      "processed: 5/6\n",
      "saving...\n",
      "(307511, 409)\n",
      "start processing bureau_AMT_CREDIT_SUM_divide_DAYS_CREDIT_ENDDATE_min \n",
      "the na is:0.14894106749378955\n",
      "(303194, 406)\n",
      "(53061, 406)\n",
      "0:\tlearn: 37182.3823940\ttest: 26231.7826273\tbest: 26231.7826273 (0)\ttotal: 5.66ms\tremaining: 33.9s\n",
      "500:\tlearn: 28724.1048097\ttest: 21508.4141719\tbest: 21508.4141719 (500)\ttotal: 2.63s\tremaining: 28.9s\n",
      "1000:\tlearn: 26679.8702630\ttest: 21455.8088985\tbest: 21455.8088985 (1000)\ttotal: 4.95s\tremaining: 24.7s\n",
      "1500:\tlearn: 25899.2830279\ttest: 21466.0787891\tbest: 21455.8088985 (1000)\ttotal: 6.94s\tremaining: 20.8s\n",
      "2000:\tlearn: 25330.3458098\ttest: 21452.4471127\tbest: 21452.4471127 (2000)\ttotal: 8.9s\tremaining: 17.8s\n",
      "2500:\tlearn: 24725.7783388\ttest: 21435.7238503\tbest: 21435.7238503 (2500)\ttotal: 10.9s\tremaining: 15.2s\n",
      "3000:\tlearn: 24308.0967992\ttest: 21429.7398519\tbest: 21429.7398519 (3000)\ttotal: 12.9s\tremaining: 12.9s\n",
      "3500:\tlearn: 24126.4261229\ttest: 21433.6110451\tbest: 21429.7398519 (3000)\ttotal: 14.8s\tremaining: 10.6s\n",
      "4000:\tlearn: 23928.1216425\ttest: 21419.6963398\tbest: 21419.6963398 (4000)\ttotal: 16.8s\tremaining: 8.4s\n",
      "4500:\tlearn: 23762.4239580\ttest: 21417.1144837\tbest: 21417.1144837 (4500)\ttotal: 18.8s\tremaining: 6.26s\n",
      "5000:\tlearn: 23627.3453902\ttest: 21406.8114093\tbest: 21406.8114093 (5000)\ttotal: 20.7s\tremaining: 4.14s\n",
      "5500:\tlearn: 23464.1814396\ttest: 21403.2278332\tbest: 21403.2278332 (5500)\ttotal: 22.6s\tremaining: 2.05s\n",
      "5999:\tlearn: 23298.1187372\ttest: 21396.7611755\tbest: 21396.7611755 (5999)\ttotal: 24.7s\tremaining: 0us\n",
      "bestTest = 21396.76118\n",
      "bestIteration = 5999\n",
      "processed: 6/6\n",
      "saving...\n",
      "(307511, 409)\n"
     ]
    }
   ],
   "source": [
    "Processed_list = []\n",
    "ignore_col = ['SK_ID_CURR']\n",
    "feature_col_base = list(set(X.columns) - set(ignore_col))\n",
    "val = 0.1\n",
    "save_count = 1\n",
    "count = 0\n",
    "for col,nav in zip(col_list,na_list):\n",
    "    print('start processing {} \\nthe na is:{}'.format(col,nav))\n",
    "    X[col] = X[col].replace(365243.0,0)\n",
    "    X[col] = X[col].replace(np.NINF,np.NAN)\n",
    "    X[col] = X[col].replace(np.PINF,np.NAN)\n",
    "    X[col] = X[col].replace(np.Inf,np.NAN)\n",
    "#     feature_col = list(set(feature_col_base + Processed_list))\n",
    "    feature_col = list(set(feature_col_base) - set([col]))\n",
    "    \n",
    "    na_train = X[X[col].notnull()][feature_col].copy()\n",
    "    na_target = X[X[col].notnull()][col].copy()\n",
    "    seed = np.random.randint(200) + 1\n",
    "    na_train_x,na_val_x,na_train_y,na_val_y = train_test_split(na_train,na_target, test_size=val,random_state=seed)\n",
    "    print(na_train.shape)\n",
    "    na_test = X[X[col].isnull()][feature_col].copy()\n",
    "    print(na_test.shape)\n",
    "    reg = trainCAT(na_train_x,na_val_x,na_train_y,na_val_y)\n",
    "    X.loc[X[col].isnull(),col] = reg.predict(na_test)\n",
    "    Processed_list.append(col)\n",
    "    print('processed: {}/{}'.format(len(Processed_list),len(col_list)))\n",
    "    count +=1\n",
    "    if count % save_count == 0:\n",
    "        saving(X)\n",
    "    del reg\n",
    "    gc.collect()\n",
    "    "
   ]
  },
  {
   "cell_type": "code",
   "execution_count": null,
   "metadata": {},
   "outputs": [],
   "source": [
    "bureau_AMT_CREDIT_SUM_divide_DAYS_CREDIT_ENDDATE_min "
   ]
  }
 ],
 "metadata": {
  "kernelspec": {
   "display_name": "Python 3",
   "language": "python",
   "name": "python3"
  },
  "language_info": {
   "codemirror_mode": {
    "name": "ipython",
    "version": 3
   },
   "file_extension": ".py",
   "mimetype": "text/x-python",
   "name": "python",
   "nbconvert_exporter": "python",
   "pygments_lexer": "ipython3",
   "version": "3.6.5"
  },
  "varInspector": {
   "cols": {
    "lenName": 16,
    "lenType": 16,
    "lenVar": 40
   },
   "kernels_config": {
    "python": {
     "delete_cmd_postfix": "",
     "delete_cmd_prefix": "del ",
     "library": "var_list.py",
     "varRefreshCmd": "print(var_dic_list())"
    },
    "r": {
     "delete_cmd_postfix": ") ",
     "delete_cmd_prefix": "rm(",
     "library": "var_list.r",
     "varRefreshCmd": "cat(var_dic_list()) "
    }
   },
   "types_to_exclude": [
    "module",
    "function",
    "builtin_function_or_method",
    "instance",
    "_Feature"
   ],
   "window_display": false
  }
 },
 "nbformat": 4,
 "nbformat_minor": 2
}
