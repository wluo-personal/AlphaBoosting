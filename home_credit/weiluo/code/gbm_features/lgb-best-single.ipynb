{
 "cells": [
  {
   "cell_type": "code",
   "execution_count": 11,
   "metadata": {
    "ExecuteTime": {
     "end_time": "2018-08-29T14:09:08.731796Z",
     "start_time": "2018-08-29T14:09:07.649887Z"
    }
   },
   "outputs": [
    {
     "name": "stdout",
     "output_type": "stream",
     "text": [
      "train shape is: (307511, 409)\n",
      "test shape is: (48744, 408)\n"
     ]
    }
   ],
   "source": [
    "import os,sys\n",
    "import numpy as np\n",
    "import pandas as pd\n",
    "from tqdm import tqdm_notebook as tqdm\n",
    "from sklearn.externals import joblib\n",
    "import matplotlib.pyplot as plt\n",
    "sys.path.append('../LIB/')\n",
    "from env import ENV\n",
    "from sklearn.preprocessing import normalize\n",
    "from tqdm import tqdm\n",
    "import pickle\n",
    "from sklearn.preprocessing.data import QuantileTransformer\n",
    "from sklearn.preprocessing import LabelEncoder\n",
    "\n",
    "import lightgbm as lgb\n",
    "import gc\n",
    "\n",
    "print_to_file = False \n",
    "test_run = False \n",
    "\n",
    "# train = pd.read_pickle(ENV.lightgbm_train_764.value)\n",
    "train = pd.read_pickle(ENV.lgb_train_0827.value)\n",
    "print('train shape is: {}'.format(train.shape))\n",
    "# test = pd.read_pickle(ENV.lightgbm_test_764.value)\n",
    "test = pd.read_pickle(ENV.lgb_test_0827.value)\n",
    "print('test shape is: {}'.format(test.shape))\n",
    "fe_id = 'comb_764'"
   ]
  },
  {
   "cell_type": "code",
   "execution_count": 12,
   "metadata": {
    "ExecuteTime": {
     "end_time": "2018-08-29T14:09:09.900825Z",
     "start_time": "2018-08-29T14:09:09.895924Z"
    }
   },
   "outputs": [],
   "source": [
    "train['SK_ID_CURR'] = train['SK_ID_CURR'].astype(int)\n",
    "test['SK_ID_CURR'] = test['SK_ID_CURR'].astype(int)\n",
    "targets = train.TARGET.values"
   ]
  },
  {
   "cell_type": "code",
   "execution_count": 13,
   "metadata": {
    "ExecuteTime": {
     "end_time": "2018-08-29T14:09:11.195272Z",
     "start_time": "2018-08-29T14:09:11.192569Z"
    }
   },
   "outputs": [],
   "source": [
    "train_id = train['SK_ID_CURR']\n",
    "test_id = test['SK_ID_CURR']"
   ]
  },
  {
   "cell_type": "markdown",
   "metadata": {},
   "source": [
    "# main func"
   ]
  },
  {
   "cell_type": "code",
   "execution_count": 14,
   "metadata": {
    "ExecuteTime": {
     "end_time": "2018-08-29T14:09:12.576902Z",
     "start_time": "2018-08-29T14:09:12.543507Z"
    }
   },
   "outputs": [],
   "source": [
    "from sklearn.model_selection import train_test_split\n",
    "\n",
    "def get_time(timezone='America/New_York', time_format='%Y-%m-%d %H:%M:%S'):\n",
    "    from datetime import datetime\n",
    "    from dateutil import tz\n",
    "\n",
    "    # METHOD 1: Hardcode zones:\n",
    "    from_zone = tz.gettz('UTC')\n",
    "    to_zone = tz.gettz(timezone)\n",
    "\n",
    "    utc = datetime.utcnow()\n",
    "\n",
    "    # Tell the datetime object that it's in UTC time zone since \n",
    "    # datetime objects are 'naive' by default\n",
    "    utc = utc.replace(tzinfo=from_zone)\n",
    "\n",
    "    # Convert time zone\n",
    "    est = utc.astimezone(to_zone)\n",
    "\n",
    "    return est.strftime(time_format)\n",
    "\n",
    "import sys, time\n",
    "class Logger(object):\n",
    "    def __init__(self, logtofile=True, logfilename='log'):\n",
    "        self.terminal = sys.stdout\n",
    "        self.logfile = \"{}_{}.log\".format(logfilename, int(time.time()))\n",
    "        self.logtofile = logtofile\n",
    "\n",
    "    def write(self, message):\n",
    "        #         self.terminal.write(message)\n",
    "        if self.logtofile:\n",
    "            self.log = open(self.logfile, \"a\")\n",
    "            self.log.write('[' + get_time() + '] ' + message)\n",
    "            self.log.close()\n",
    "\n",
    "    def flush(self):\n",
    "        # this flush method is needed for python 3 compatibility.\n",
    "        # this handles the flush command by doing nothing.\n",
    "        # you might want to specify some extra behavior here.\n",
    "        pass\n",
    "\n",
    "\n",
    "def divert_printout_to_file():\n",
    "    sys.stdout = Logger(logfilename='logfile')\n",
    "\n",
    "if print_to_file:\n",
    "    divert_printout_to_file()  # note: comment this to use pdb\n",
    "\n",
    "import numpy as np\n",
    "import pandas as pd\n",
    "import gc\n",
    "import time\n",
    "from contextlib import contextmanager\n",
    "from lightgbm import LGBMClassifier\n",
    "from sklearn.metrics import roc_auc_score, roc_curve\n",
    "from sklearn.model_selection import KFold, StratifiedKFold\n",
    "import matplotlib.pyplot as plt\n",
    "import seaborn as sns\n",
    "import warnings\n",
    "warnings.simplefilter(action='ignore', category=FutureWarning)\n",
    "\n",
    "@contextmanager\n",
    "def timer(title):\n",
    "    t0 = time.time()\n",
    "    yield\n",
    "    print(\"{} - done in {:.0f}s\".format(title, time.time() - t0))\n",
    "\n",
    "# LightGBM GBDT with KFold or Stratified KFold\n",
    "# Parameters from Tilii kernel: https://www.kaggle.com/tilii7/olivier-lightgbm-parameters-by-bayesian-opt/code\n",
    "def kfold_lightgbm(df, train_df, test_df, holdout, num_folds, submission_file_name, fe_img_name, stratified = False, debug= False, colsample=0.67, max_depth=8, num_leaves=31, min_child_samples=20, subsample=0.7, reg_lambda=0.3, lr=0.04, seed=1001, verbose=100, rounds=None):\n",
    "    print(train_df.shape, test_df.shape, holdout.shape)\n",
    "    print('MEAN: train({}) vs holdout({}): '.format(len(train_df), len(holdout)), train_df['TARGET'].mean(), holdout['TARGET'].mean())\n",
    "    # Divide in training/validation and test data\n",
    "    if df is not None:\n",
    "        train_df = df[df['TARGET'].notnull()]\n",
    "        test_df = df[df['TARGET'].isnull()]\n",
    "        print(\"Starting LightGBM. Train shape: {}, test shape: {}\".format(train_df.shape, test_df.shape))\n",
    "        del df\n",
    "        gc.collect()\n",
    "    # Cross validation model\n",
    "    if stratified:\n",
    "        folds = StratifiedKFold(n_splits= num_folds, shuffle=True, random_state=seed)\n",
    "    else:\n",
    "        folds = KFold(n_splits= num_folds, shuffle=True, random_state=seed)\n",
    "        \n",
    "    # Create arrays and dataframes to store results\n",
    "    oof_preds = np.zeros(train_df.shape[0])\n",
    "    sub_preds = np.zeros(test_df.shape[0])\n",
    "    holdout_final_preds = np.zeros(holdout.shape[0])\n",
    "    feature_importance_df = pd.DataFrame()\n",
    "    feature_importance_gain_df = pd.DataFrame()\n",
    "    feats = [f for f in train_df.columns if f not in ['TARGET','SK_ID_CURR','SK_ID_BUREAU','SK_ID_PREV','index']]\n",
    "    train_scores = []\n",
    "    holdout_scores = []\n",
    "    scores = []\n",
    "    actual_y = []\n",
    "    pred_y = []\n",
    "    diff_val_holdout = []\n",
    "    SK_ID_CURR = []\n",
    "    \n",
    "    for n_fold, (train_idx, valid_idx) in enumerate(folds.split(train_df[feats], train_df['TARGET'])):\n",
    "#         print('valid index : ',list(valid_idx)[:5])\n",
    "        train_x, train_y = train_df[feats].iloc[train_idx], train_df['TARGET'].iloc[train_idx]\n",
    "        valid_x, valid_y = train_df[feats].iloc[valid_idx], train_df['TARGET'].iloc[valid_idx]\n",
    "#         print('MEAN: train({}) vs valid({}): '.format(len(train_y), len(valid_y)), np.mean(train_y), np.mean(valid_y))\n",
    "        SK_ID_CURR.extend(train_df['SK_ID_CURR'].iloc[valid_idx])\n",
    "        clf = LGBMClassifier(\n",
    "            nthread=18,\n",
    "            n_estimators=30000,\n",
    "            learning_rate=lr,\n",
    "            num_leaves=num_leaves,\n",
    "            colsample_bytree=colsample, # 0.67\n",
    "            subsample=subsample,\n",
    "            subsample_freq=0, ## disable subsampling\n",
    "            max_depth=max_depth,\n",
    "            reg_alpha=0.65,\n",
    "            reg_lambda=reg_lambda,\n",
    "            min_split_gain=0.0222415,\n",
    "            min_child_weight=39.3259775,\n",
    "            min_child_samples=min_child_samples,\n",
    "            silent=-1,\n",
    "            verbose=-1, )\n",
    "        if rounds is not None:\n",
    "            clf.n_estimators = rounds\n",
    "            clf.fit(train_x, train_y, eval_set=[(train_x, train_y), (valid_x, valid_y)], \n",
    "                eval_metric= 'auc', verbose=verbose)\n",
    "            oof_preds[valid_idx] = clf.predict_proba(valid_x)[:, 1]\n",
    "            sub_preds += clf.predict_proba(test_df[feats])[:, 1] / folds.n_splits\n",
    "            holdout_preds = clf.predict_proba(holdout[feats])[:, 1] \n",
    "        else:\n",
    "            clf.fit(train_x, train_y, eval_set=[(train_x, train_y), (valid_x, valid_y)], \n",
    "                eval_metric= 'auc', verbose=verbose, early_stopping_rounds= 200)\n",
    "            oof_preds[valid_idx] = clf.predict_proba(valid_x, num_iteration=clf.best_iteration_)[:, 1]\n",
    "            sub_preds += clf.predict_proba(test_df[feats], num_iteration=clf.best_iteration_)[:, 1] / folds.n_splits\n",
    "            holdout_preds = clf.predict_proba(holdout[feats], num_iteration=clf.best_iteration_)[:, 1] \n",
    "            \n",
    "        holdout_final_preds += holdout_preds / folds.n_splits\n",
    "        score = roc_auc_score(valid_y, oof_preds[valid_idx])\n",
    "        train_score = clf.best_score_['training']['auc']\n",
    "        holdout_score = roc_auc_score(holdout['TARGET'], holdout_preds)\n",
    "        diff = abs(score - holdout_score)\n",
    "        actual_y.extend(list(valid_y))\n",
    "        pred_y.extend(list(oof_preds[valid_idx]))\n",
    "        best_rounds = rounds if rounds is not None else clf.best_iteration_\n",
    "        print('Fold %2d [%5d] AUC : ho: %.6f / te: %.6f / tr: %.6f (diff: %.6f)' % (n_fold + 1, best_rounds, holdout_score, score,  train_score, diff))\n",
    "        scores.append(score)\n",
    "        train_scores.append(train_score)\n",
    "        holdout_scores.append(holdout_score)\n",
    "        diff_val_holdout.append(diff)\n",
    "        \n",
    "        fold_importance_df = pd.DataFrame()\n",
    "        fold_importance_df[\"feature\"] = feats\n",
    "        fold_importance_df[\"importance\"] = clf.feature_importances_\n",
    "        fold_importance_df[\"fold\"] = n_fold + 1\n",
    "        feature_importance_df = pd.concat([feature_importance_df, fold_importance_df], axis=0)\n",
    "        \n",
    "        fold_importance_gain_df = pd.DataFrame()\n",
    "        fold_importance_gain_df[\"feature\"] = feats\n",
    "        fold_importance_gain_df[\"importance\"] = clf.booster_.feature_importance(importance_type='gain')\n",
    "        fold_importance_gain_df[\"fold\"] = n_fold + 1\n",
    "        feature_importance_gain_df = pd.concat([feature_importance_gain_df, fold_importance_gain_df], axis=0)\n",
    "        \n",
    "        del clf, train_x, train_y, valid_x, valid_y\n",
    "        gc.collect()\n",
    "    holdout_roc = roc_auc_score(holdout['TARGET'], holdout_final_preds)\n",
    "    holdout_mean = np.mean(holdout_scores)\n",
    "    full_te_mean = np.mean(scores)\n",
    "    full_tr_mean = np.mean(train_scores)\n",
    "    predsAndActual = pd.DataFrame()\n",
    "    predsAndActual['preds'] = pred_y\n",
    "    predsAndActual['label'] = actual_y\n",
    "    predsAndActual['SK_ID_CURR'] = SK_ID_CURR\n",
    "    predsAndActual.to_pickle('{}_oof.pkl'.format(submission_file_name))\n",
    "#     print('Full AUC score %.6f' % roc_auc_score(train_df['TARGET'], oof_preds))\n",
    "    print('Full HO score %.6f' % holdout_roc)\n",
    "    print('FULL HO mean {:.6f}, std {:.6f}'.format(holdout_mean, np.std(holdout_scores)))\n",
    "    print('FULL TE mean {:.6f}, std {:.6f}'.format(full_te_mean, np.std(scores)))\n",
    "    print('FULL TR mean {:.6f}, std {:.6f}'.format(full_tr_mean, np.std(train_scores)))\n",
    "    print('FULL DIFF mean {:.6f}, std {:.6f}'.format(np.mean(diff_val_holdout), np.std(diff_val_holdout)))\n",
    "    # Write submission file and plot feature importance\n",
    "    if not debug:\n",
    "        test_df['TARGET'] = sub_preds\n",
    "        print(submission_file_name)\n",
    "        test_df[['SK_ID_CURR', 'TARGET']].to_csv(submission_file_name, index= False)\n",
    "#     if not print_to_file:\n",
    "#         display_importances(feature_importance_df, fe_img_name)\n",
    "    feature_importance_df = feature_importance_df[[\"feature\", \"importance\"]].groupby(\"feature\").mean().sort_values(by=\"importance\", ascending=False).reset_index()\n",
    "    feature_importance_gain_df = feature_importance_gain_df[[\"feature\", \"importance\"]].groupby(\"feature\").mean().sort_values(by=\"importance\", ascending=False).reset_index()\n",
    "    return feature_importance_df, feature_importance_gain_df,holdout_roc,holdout_mean,full_te_mean,full_tr_mean,oof_preds \n",
    "\n",
    "# Display/plot feature importance\n",
    "def display_importances(feature_importance_df_, fe_img_name):\n",
    "    cols = feature_importance_df_[[\"feature\", \"importance\"]].groupby(\"feature\").mean().sort_values(by=\"importance\", ascending=False)[:40].index\n",
    "    best_features = feature_importance_df_.loc[feature_importance_df_.feature.isin(cols)]\n",
    "    plt.figure(figsize=(8, 10))\n",
    "    sns.barplot(x=\"importance\", y=\"feature\", data=best_features.sort_values(by=\"importance\", ascending=False))\n",
    "    plt.title('LightGBM Features (avg over folds)')\n",
    "    plt.tight_layout()\n",
    "    plt.savefig(fe_img_name+'.png')\n",
    "\n",
    "\n",
    "def convert_and_save_imp_df(fe_imp_df, dumpfilename):\n",
    "    fe_imp_df_mean = fe_imp_df[[\"feature\", \"importance\"]].groupby(\"feature\").mean().sort_values(by=\"importance\", ascending=False).reset_index()\n",
    "    pickle.dump(fe_imp_df_mean, open(dumpfilename,'wb'))"
   ]
  },
  {
   "cell_type": "code",
   "execution_count": 15,
   "metadata": {
    "ExecuteTime": {
     "end_time": "2018-08-29T14:09:13.791086Z",
     "start_time": "2018-08-29T14:09:13.786446Z"
    }
   },
   "outputs": [],
   "source": [
    "def runlgb(train, test, holdout):\n",
    "    colsamples = [0.07]#[0.1,0.15,0.2]#[0.03,0.04,0.05,0.06,0.07,0.08]\n",
    "    seeds = [20]#[300,4000,50000,600000,7000000,80000000,523445,31275479] # 20\n",
    "    depth = [5]\n",
    "    leaves = [16]\n",
    "    min_child_sam = [20]#, 800]\n",
    "    subsamples = [1]#0.8, 0.7, 0.6, 0.5, 0.4] # was 1\n",
    "    reg_lambdas = [0.5]\n",
    "    # lrs = lrs.tolist()\n",
    "    lrs2 = [0.05]\n",
    "    nfolds = 5\n",
    "    rounds = [None] #[1000]#, 1300, 1600, 1900, 2200, 2500]\n",
    "    for seed in seeds:\n",
    "        for colsample in colsamples:\n",
    "            for d in depth:\n",
    "                for l in leaves:\n",
    "                    for mcs in min_child_sam:\n",
    "                        for subsample in subsamples:\n",
    "                            for reg_lambda in reg_lambdas:\n",
    "                                for lr in lrs2:\n",
    "                                    for r in rounds:\n",
    "                                        filename = 'fe_936_col{}_lr{}_n{}'.format(len(train.columns), lr, nfolds)\n",
    "                                        print('#############################################')\n",
    "                                        print(colsample, seed, d, l, mcs, subsample, reg_lambda, lr, 'nfolds:', nfolds)\n",
    "                                        print('#############################################')\n",
    "                                        numfeats = len(train.columns)\n",
    "                                        with timer(\"Run LightGBM with kfold\"):\n",
    "                                            return kfold_lightgbm(None, train, test, holdout, nfolds, filename+'.csv', filename, colsample=colsample, verbose=None, max_depth=d, num_leaves=l, min_child_samples=mcs, subsample=subsample, reg_lambda=reg_lambda, lr=lr, seed=seed, stratified=True, rounds=r,debug=True)\n",
    "    #                                         "
   ]
  },
  {
   "cell_type": "code",
   "execution_count": 16,
   "metadata": {
    "ExecuteTime": {
     "end_time": "2018-08-29T14:09:14.947891Z",
     "start_time": "2018-08-29T14:09:14.945608Z"
    }
   },
   "outputs": [],
   "source": [
    "# sure_drop = pickle.load(open('../../data/add_features/dropping0824_list','rb'))\n",
    "sure_drop = []"
   ]
  },
  {
   "cell_type": "code",
   "execution_count": 17,
   "metadata": {
    "ExecuteTime": {
     "end_time": "2018-08-29T14:09:16.277564Z",
     "start_time": "2018-08-29T14:09:16.194274Z"
    }
   },
   "outputs": [
    {
     "name": "stdout",
     "output_type": "stream",
     "text": [
      "(307511, 409)\n",
      "(48744, 408)\n"
     ]
    }
   ],
   "source": [
    "drop_columns = ['NAME_EDUCATION_TYPE_CODE_GENDER_AMT_CREDIT_mean_abs_diff',\n",
    "                'inst_DAYS_INSTALMENT_std',]\n",
    "drop_columns = []\n",
    "#                 'bureau_onehot_CREDIT_TYPE_Microloan', 'BURO_STATUS_0_MEAN_MEAN']\n",
    "\n",
    "drop_columns = list(set(sure_drop + drop_columns))\n",
    "train = train.drop(drop_columns,axis=1)\n",
    "print(train.shape)\n",
    "test = test.drop(drop_columns,axis=1)\n",
    "print(test.shape)"
   ]
  },
  {
   "cell_type": "code",
   "execution_count": 18,
   "metadata": {
    "ExecuteTime": {
     "end_time": "2018-08-29T14:09:17.589950Z",
     "start_time": "2018-08-29T14:09:17.475102Z"
    }
   },
   "outputs": [],
   "source": [
    "train_drop = train.copy()\n",
    "test_drop = test.copy()"
   ]
  },
  {
   "cell_type": "code",
   "execution_count": 19,
   "metadata": {
    "ExecuteTime": {
     "end_time": "2018-08-29T14:09:19.886878Z",
     "start_time": "2018-08-29T14:09:18.815773Z"
    }
   },
   "outputs": [
    {
     "name": "stdout",
     "output_type": "stream",
     "text": [
      "MEAN: train(307480) vs holdout(31):  0.08072720176922077 0.0967741935483871\n",
      "(307480, 409) (48744, 408) (31, 409)\n"
     ]
    }
   ],
   "source": [
    "train_df, holdout = train_test_split(train_drop, test_size=1/10000, random_state=99)\n",
    "print('MEAN: train({}) vs holdout({}): '.format(len(train_df), len(holdout)), train_df['TARGET'].mean(), holdout['TARGET'].mean())\n",
    "print(train_df.shape, test_drop.shape, holdout.shape)"
   ]
  },
  {
   "cell_type": "markdown",
   "metadata": {},
   "source": [
    "# Experiment"
   ]
  },
  {
   "cell_type": "code",
   "execution_count": 20,
   "metadata": {
    "ExecuteTime": {
     "end_time": "2018-08-29T14:12:10.121349Z",
     "start_time": "2018-08-29T14:09:21.086461Z"
    }
   },
   "outputs": [
    {
     "name": "stdout",
     "output_type": "stream",
     "text": [
      "#############################################\n",
      "0.07 20 5 16 20 1 0.5 0.05 nfolds: 5\n",
      "#############################################\n",
      "(307511, 409) (48744, 408) (31, 409)\n",
      "MEAN: train(307511) vs holdout(31):  0.08072881945686496 0.0967741935483871\n",
      "Fold  1 [ 1224] AUC : ho: 0.785714 / te: 0.794278 / tr: 0.864321 (diff: 0.008564)\n",
      "Fold  2 [ 1113] AUC : ho: 0.738095 / te: 0.795867 / tr: 0.860290 (diff: 0.057771)\n",
      "Fold  3 [ 1529] AUC : ho: 0.785714 / te: 0.798267 / tr: 0.876580 (diff: 0.012553)\n",
      "Fold  4 [ 1188] AUC : ho: 0.797619 / te: 0.796349 / tr: 0.863602 (diff: 0.001270)\n",
      "Fold  5 [ 1192] AUC : ho: 0.726190 / te: 0.799275 / tr: 0.862634 (diff: 0.073084)\n",
      "Full HO score 0.773810\n",
      "FULL HO mean 0.766667, std 0.028769\n",
      "FULL TE mean 0.796807, std 0.001773\n",
      "FULL TR mean 0.865485, std 0.005712\n",
      "FULL DIFF mean 0.030648, std 0.029034\n",
      "Run LightGBM with kfold - done in 169s\n"
     ]
    }
   ],
   "source": [
    "#1165\n",
    "feature_importance_df, feature_importance_gain_df,holdout_roc,holdout_mean,full_te_mean,full_tr_mean,oof_preds = runlgb(train_drop, test_drop, holdout)"
   ]
  },
  {
   "cell_type": "code",
   "execution_count": 10,
   "metadata": {
    "ExecuteTime": {
     "end_time": "2018-08-29T14:08:20.211258Z",
     "start_time": "2018-08-29T14:05:27.048446Z"
    }
   },
   "outputs": [
    {
     "name": "stdout",
     "output_type": "stream",
     "text": [
      "#############################################\n",
      "0.07 20 5 16 20 1 0.5 0.05 nfolds: 5\n",
      "#############################################\n",
      "(307511, 409) (48744, 408) (31, 409)\n",
      "MEAN: train(307511) vs holdout(31):  0.08072881945686496 0.0967741935483871\n",
      "Fold  1 [ 1403] AUC : ho: 0.797619 / te: 0.793758 / tr: 0.869247 (diff: 0.003861)\n",
      "Fold  2 [ 1343] AUC : ho: 0.750000 / te: 0.795792 / tr: 0.867284 (diff: 0.045792)\n",
      "Fold  3 [ 1813] AUC : ho: 0.797619 / te: 0.799153 / tr: 0.883901 (diff: 0.001534)\n",
      "Fold  4 [ 1154] AUC : ho: 0.714286 / te: 0.796137 / tr: 0.859045 (diff: 0.081851)\n",
      "Fold  5 [ 1237] AUC : ho: 0.714286 / te: 0.797887 / tr: 0.862106 (diff: 0.083602)\n",
      "Full HO score 0.750000\n",
      "FULL HO mean 0.754762, std 0.037344\n",
      "FULL TE mean 0.796545, std 0.001850\n",
      "FULL TR mean 0.868317, std 0.008595\n",
      "FULL DIFF mean 0.043328, std 0.035823\n",
      "Run LightGBM with kfold - done in 173s\n"
     ]
    }
   ],
   "source": [
    "#1165\n",
    "feature_importance_df, feature_importance_gain_df,holdout_roc,holdout_mean,full_te_mean,full_tr_mean,oof_preds = runlgb(train_drop, test_drop, holdout)"
   ]
  },
  {
   "cell_type": "code",
   "execution_count": 31,
   "metadata": {
    "ExecuteTime": {
     "end_time": "2018-08-29T02:43:14.115985Z",
     "start_time": "2018-08-29T02:38:40.514341Z"
    }
   },
   "outputs": [
    {
     "name": "stdout",
     "output_type": "stream",
     "text": [
      "#############################################\n",
      "0.07 20 5 16 20 1 0.5 0.05 nfolds: 5\n",
      "#############################################\n",
      "(307511, 409) (48744, 408) (31, 409)\n",
      "MEAN: train(307511) vs holdout(31):  0.08072881945686496 0.0967741935483871\n",
      "Fold  1 [ 1224] AUC : ho: 0.761905 / te: 0.793834 / tr: 0.863780 (diff: 0.031929)\n",
      "Fold  2 [ 1137] AUC : ho: 0.690476 / te: 0.794623 / tr: 0.860149 (diff: 0.104147)\n",
      "Fold  3 [ 1247] AUC : ho: 0.797619 / te: 0.798046 / tr: 0.864079 (diff: 0.000427)\n",
      "Fold  4 [ 1232] AUC : ho: 0.797619 / te: 0.796681 / tr: 0.864335 (diff: 0.000938)\n",
      "Fold  5 [ 1180] AUC : ho: 0.761905 / te: 0.797662 / tr: 0.861143 (diff: 0.035758)\n",
      "Full HO score 0.773810\n",
      "FULL HO mean 0.761905, std 0.039123\n",
      "FULL TE mean 0.796169, std 0.001665\n",
      "FULL TR mean 0.862697, std 0.001713\n",
      "FULL DIFF mean 0.034640, std 0.037805\n",
      "Run LightGBM with kfold - done in 274s\n"
     ]
    }
   ],
   "source": [
    "#1165\n",
    "feature_importance_df, feature_importance_gain_df,holdout_roc,holdout_mean,full_te_mean,full_tr_mean,oof_preds = runlgb(train_drop, test_drop, holdout)"
   ]
  },
  {
   "cell_type": "code",
   "execution_count": 21,
   "metadata": {
    "ExecuteTime": {
     "end_time": "2018-08-28T15:07:46.282862Z",
     "start_time": "2018-08-28T15:05:37.636867Z"
    }
   },
   "outputs": [
    {
     "name": "stdout",
     "output_type": "stream",
     "text": [
      "#############################################\n",
      "0.07 20 5 16 20 1 0.5 0.05 nfolds: 5\n",
      "#############################################\n",
      "(307511, 562) (48744, 561) (31, 562)\n",
      "MEAN: train(307511) vs holdout(31):  0.08072881945686496 0.0967741935483871\n",
      "Fold  1 [ 1581] AUC : ho: 0.809524 / te: 0.795538 / tr: 0.882582 (diff: 0.013986)\n",
      "Fold  2 [ 1181] AUC : ho: 0.785714 / te: 0.795766 / tr: 0.865641 (diff: 0.010051)\n",
      "Fold  3 [ 1115] AUC : ho: 0.761905 / te: 0.797270 / tr: 0.862546 (diff: 0.035365)\n",
      "Fold  4 [ 1099] AUC : ho: 0.833333 / te: 0.795558 / tr: 0.862754 (diff: 0.037775)\n",
      "Fold  5 [ 1098] AUC : ho: 0.750000 / te: 0.797308 / tr: 0.862590 (diff: 0.047308)\n",
      "Full HO score 0.785714\n",
      "FULL HO mean 0.788095, std 0.030491\n",
      "FULL TE mean 0.796288, std 0.000821\n",
      "FULL TR mean 0.867223, std 0.007768\n",
      "FULL DIFF mean 0.028897, std 0.014402\n",
      "Run LightGBM with kfold - done in 129s\n"
     ]
    }
   ],
   "source": [
    "#650\n",
    "feature_importance_df, feature_importance_gain_df,holdout_roc,holdout_mean,full_te_mean,full_tr_mean,oof_preds = runlgb(train_drop, test_drop, holdout)"
   ]
  },
  {
   "cell_type": "code",
   "execution_count": 21,
   "metadata": {
    "ExecuteTime": {
     "end_time": "2018-08-28T04:48:03.272646Z",
     "start_time": "2018-08-28T04:46:05.147948Z"
    }
   },
   "outputs": [
    {
     "name": "stdout",
     "output_type": "stream",
     "text": [
      "#############################################\n",
      "0.07 20 5 16 20 1 0.5 0.05 nfolds: 5\n",
      "#############################################\n",
      "(307511, 478) (48744, 477) (31, 478)\n",
      "MEAN: train(307511) vs holdout(31):  0.08072881945686496 0.0967741935483871\n",
      "Fold  1 [ 1052] AUC : ho: 0.785714 / te: 0.793899 / tr: 0.859868 (diff: 0.008185)\n",
      "Fold  2 [ 1284] AUC : ho: 0.750000 / te: 0.795658 / tr: 0.869864 (diff: 0.045658)\n",
      "Fold  3 [ 1107] AUC : ho: 0.726190 / te: 0.797689 / tr: 0.862365 (diff: 0.071499)\n",
      "Fold  4 [ 1138] AUC : ho: 0.738095 / te: 0.795012 / tr: 0.862943 (diff: 0.056917)\n",
      "Fold  5 [ 1320] AUC : ho: 0.761905 / te: 0.797567 / tr: 0.871160 (diff: 0.035662)\n",
      "Full HO score 0.738095\n",
      "FULL HO mean 0.752381, std 0.020482\n",
      "FULL TE mean 0.795965, std 0.001470\n",
      "FULL TR mean 0.865240, std 0.004446\n",
      "FULL DIFF mean 0.043584, std 0.021341\n",
      "fe_936_col478_lr0.05_n5.csv\n",
      "Run LightGBM with kfold - done in 118s\n"
     ]
    }
   ],
   "source": [
    "#600\n",
    "feature_importance_df, feature_importance_gain_df,holdout_roc,holdout_mean,full_te_mean,full_tr_mean,oof_preds = runlgb(train_drop, test_drop, holdout)"
   ]
  },
  {
   "cell_type": "code",
   "execution_count": 27,
   "metadata": {
    "ExecuteTime": {
     "end_time": "2018-08-28T04:51:06.555565Z",
     "start_time": "2018-08-28T04:49:09.907762Z"
    }
   },
   "outputs": [
    {
     "name": "stdout",
     "output_type": "stream",
     "text": [
      "#############################################\n",
      "0.07 20 5 16 20 1 0.5 0.05 nfolds: 5\n",
      "#############################################\n",
      "(307511, 440) (48744, 439) (31, 440)\n",
      "MEAN: train(307511) vs holdout(31):  0.08072881945686496 0.0967741935483871\n",
      "Fold  1 [ 1241] AUC : ho: 0.738095 / te: 0.793038 / tr: 0.867264 (diff: 0.054943)\n",
      "Fold  2 [ 1330] AUC : ho: 0.750000 / te: 0.795565 / tr: 0.870952 (diff: 0.045565)\n",
      "Fold  3 [ 1009] AUC : ho: 0.738095 / te: 0.798962 / tr: 0.856596 (diff: 0.060866)\n",
      "Fold  4 [ 1298] AUC : ho: 0.726190 / te: 0.795707 / tr: 0.869088 (diff: 0.069517)\n",
      "Fold  5 [ 1168] AUC : ho: 0.726190 / te: 0.798106 / tr: 0.864009 (diff: 0.071916)\n",
      "Full HO score 0.726190\n",
      "FULL HO mean 0.735714, std 0.008909\n",
      "FULL TE mean 0.796276, std 0.002092\n",
      "FULL TR mean 0.865582, std 0.005044\n",
      "FULL DIFF mean 0.060561, std 0.009651\n",
      "fe_936_col440_lr0.05_n5.csv\n",
      "Run LightGBM with kfold - done in 117s\n"
     ]
    }
   ],
   "source": [
    "#500\n",
    "feature_importance_df, feature_importance_gain_df,holdout_roc,holdout_mean,full_te_mean,full_tr_mean,oof_preds = runlgb(train_drop, test_drop, holdout)\n",
    "\n",
    "#7066"
   ]
  },
  {
   "cell_type": "code",
   "execution_count": 15,
   "metadata": {
    "ExecuteTime": {
     "end_time": "2018-08-28T04:45:14.099009Z",
     "start_time": "2018-08-28T04:43:07.094479Z"
    }
   },
   "outputs": [
    {
     "name": "stdout",
     "output_type": "stream",
     "text": [
      "#############################################\n",
      "0.07 20 5 16 20 1 0.5 0.05 nfolds: 5\n",
      "#############################################\n",
      "(307511, 549) (48744, 548) (31, 549)\n",
      "MEAN: train(307511) vs holdout(31):  0.08072881945686496 0.0967741935483871\n",
      "Fold  1 [ 1175] AUC : ho: 0.738095 / te: 0.793795 / tr: 0.866261 (diff: 0.055700)\n",
      "Fold  2 [ 1157] AUC : ho: 0.785714 / te: 0.795205 / tr: 0.865158 (diff: 0.009490)\n",
      "Fold  3 [ 1166] AUC : ho: 0.773810 / te: 0.798294 / tr: 0.865587 (diff: 0.024484)\n",
      "Fold  4 [ 1076] AUC : ho: 0.797619 / te: 0.796790 / tr: 0.861306 (diff: 0.000829)\n",
      "Fold  5 [ 1459] AUC : ho: 0.750000 / te: 0.798058 / tr: 0.877899 (diff: 0.048058)\n",
      "Full HO score 0.773810\n",
      "FULL HO mean 0.769048, std 0.022080\n",
      "FULL TE mean 0.796428, std 0.001715\n",
      "FULL TR mean 0.867242, std 0.005601\n",
      "FULL DIFF mean 0.027712, std 0.021272\n",
      "fe_936_col549_lr0.05_n5.csv\n",
      "Run LightGBM with kfold - done in 127s\n"
     ]
    }
   ],
   "source": [
    "#450\n",
    "feature_importance_df, feature_importance_gain_df,holdout_roc,holdout_mean,full_te_mean,full_tr_mean,oof_preds = runlgb(train_drop, test_drop, holdout)"
   ]
  },
  {
   "cell_type": "code",
   "execution_count": 24,
   "metadata": {
    "ExecuteTime": {
     "end_time": "2018-08-27T22:10:04.077565Z",
     "start_time": "2018-08-27T22:07:30.347353Z"
    }
   },
   "outputs": [
    {
     "name": "stdout",
     "output_type": "stream",
     "text": [
      "#############################################\n",
      "0.07 20 6 16 20 1 0.5 0.05 nfolds: 5\n",
      "#############################################\n",
      "(307511, 1152) (48744, 1152) (31, 1152)\n",
      "MEAN: train(307511) vs holdout(31):  0.08072881945686496 0.0967741935483871\n",
      "Fold  1 [  907] AUC : ho: 0.761905 / te: 0.793424 / tr: 0.855900 (diff: 0.031520)\n",
      "Fold  2 [ 1319] AUC : ho: 0.761905 / te: 0.796308 / tr: 0.875686 (diff: 0.034403)\n",
      "Fold  3 [ 1190] AUC : ho: 0.761905 / te: 0.797569 / tr: 0.869773 (diff: 0.035664)\n",
      "Fold  4 [  960] AUC : ho: 0.773810 / te: 0.796083 / tr: 0.859467 (diff: 0.022274)\n",
      "Fold  5 [  855] AUC : ho: 0.785714 / te: 0.797619 / tr: 0.853259 (diff: 0.011904)\n",
      "Full HO score 0.773810\n",
      "FULL HO mean 0.769048, std 0.009524\n",
      "FULL TE mean 0.796201, std 0.001524\n",
      "FULL TR mean 0.862817, std 0.008537\n",
      "FULL DIFF mean 0.027153, std 0.008949\n",
      "fe_936_col1152_lr0.05_n5.csv\n",
      "Run LightGBM with kfold - done in 154s\n"
     ]
    }
   ],
   "source": [
    "#400\n",
    "feature_importance_df, feature_importance_gain_df,holdout_roc,holdout_mean,full_te_mean,full_tr_mean,oof_preds = runlgb(train_drop, test_drop, holdout)"
   ]
  },
  {
   "cell_type": "code",
   "execution_count": 11,
   "metadata": {
    "ExecuteTime": {
     "end_time": "2018-08-27T21:56:13.441616Z",
     "start_time": "2018-08-27T21:53:21.450355Z"
    }
   },
   "outputs": [
    {
     "name": "stdout",
     "output_type": "stream",
     "text": [
      "#############################################\n",
      "0.07 20 5 16 20 1 0.5 0.05 nfolds: 5\n",
      "#############################################\n",
      "(307511, 1152) (48744, 1151) (31, 1152)\n",
      "MEAN: train(307511) vs holdout(31):  0.08072881945686496 0.0967741935483871\n",
      "Fold  1 [  883] AUC : ho: 0.702381 / te: 0.793394 / tr: 0.851641 (diff: 0.091013)\n",
      "Fold  2 [ 1360] AUC : ho: 0.761905 / te: 0.795471 / tr: 0.872517 (diff: 0.033567)\n",
      "Fold  3 [ 1179] AUC : ho: 0.750000 / te: 0.798250 / tr: 0.864502 (diff: 0.048250)\n",
      "Fold  4 [ 1054] AUC : ho: 0.773810 / te: 0.796575 / tr: 0.859343 (diff: 0.022766)\n",
      "Fold  5 [  962] AUC : ho: 0.761905 / te: 0.797247 / tr: 0.855248 (diff: 0.035342)\n",
      "Full HO score 0.738095\n",
      "FULL HO mean 0.750000, std 0.024972\n",
      "FULL TE mean 0.796187, std 0.001664\n",
      "FULL TR mean 0.860650, std 0.007318\n",
      "FULL DIFF mean 0.046187, std 0.023829\n",
      "fe_936_col1152_lr0.05_n5.csv\n",
      "Run LightGBM with kfold - done in 172s\n"
     ]
    }
   ],
   "source": [
    "feature_importance_df, feature_importance_gain_df,holdout_roc,holdout_mean,full_te_mean,full_tr_mean,oof_preds = runlgb(train_drop, test_drop, holdout)"
   ]
  },
  {
   "cell_type": "code",
   "execution_count": 10,
   "metadata": {
    "ExecuteTime": {
     "end_time": "2018-08-27T13:46:09.971750Z",
     "start_time": "2018-08-27T13:43:41.154223Z"
    }
   },
   "outputs": [
    {
     "name": "stdout",
     "output_type": "stream",
     "text": [
      "#############################################\n",
      "0.07 20 5 16 20 1 0.5 0.05 nfolds: 5\n",
      "#############################################\n",
      "(307511, 760) (48744, 759) (31, 760)\n",
      "MEAN: train(307511) vs holdout(31):  0.08072881945686496 0.0967741935483871\n",
      "Fold  1 [ 1116] AUC : ho: 0.761905 / te: 0.792568 / tr: 0.862954 (diff: 0.030663)\n",
      "Fold  2 [ 1400] AUC : ho: 0.785714 / te: 0.796412 / tr: 0.874121 (diff: 0.010698)\n",
      "Fold  3 [ 1037] AUC : ho: 0.761905 / te: 0.797458 / tr: 0.858526 (diff: 0.035553)\n",
      "Fold  4 [ 1311] AUC : ho: 0.785714 / te: 0.796097 / tr: 0.870978 (diff: 0.010383)\n",
      "Fold  5 [ 1205] AUC : ho: 0.761905 / te: 0.797770 / tr: 0.865535 (diff: 0.035866)\n",
      "Full HO score 0.773810\n",
      "FULL HO mean 0.771429, std 0.011664\n",
      "FULL TE mean 0.796061, std 0.001855\n",
      "FULL TR mean 0.866423, std 0.005571\n",
      "FULL DIFF mean 0.024632, std 0.011654\n",
      "fe_936_col760_lr0.05_n5.csv\n",
      "Run LightGBM with kfold - done in 149s\n"
     ]
    }
   ],
   "source": [
    "feature_importance_df, feature_importance_gain_df,holdout_roc,holdout_mean,full_te_mean,full_tr_mean,oof_preds = runlgb(train_drop, test_drop, holdout)"
   ]
  },
  {
   "cell_type": "code",
   "execution_count": 20,
   "metadata": {
    "ExecuteTime": {
     "end_time": "2018-08-25T17:25:15.035749Z",
     "start_time": "2018-08-25T17:22:08.641797Z"
    }
   },
   "outputs": [
    {
     "name": "stdout",
     "output_type": "stream",
     "text": [
      "#############################################\n",
      "0.07 20 5 16 20 1 0.5 0.05 nfolds: 5\n",
      "#############################################\n",
      "(307480, 751) (48744, 750) (31, 751)\n",
      "MEAN: train(307480) vs holdout(31):  0.08072720176922077 0.0967741935483871\n",
      "Fold  1 [ 1299] AUC : ho: 0.678571 / te: 0.800007 / tr: 0.868995 (diff: 0.121435)\n",
      "Fold  2 [ 1437] AUC : ho: 0.690476 / te: 0.799232 / tr: 0.874465 (diff: 0.108756)\n",
      "Fold  3 [ 1025] AUC : ho: 0.702381 / te: 0.789013 / tr: 0.858680 (diff: 0.086632)\n",
      "Fold  4 [  932] AUC : ho: 0.702381 / te: 0.795140 / tr: 0.853513 (diff: 0.092759)\n",
      "Fold  5 [ 1262] AUC : ho: 0.654762 / te: 0.796271 / tr: 0.867736 (diff: 0.141509)\n",
      "Full HO score 0.702381\n",
      "FULL HO mean 0.685714, std 0.017817\n",
      "FULL TE mean 0.795933, std 0.003901\n",
      "FULL TR mean 0.864678, std 0.007542\n",
      "FULL DIFF mean 0.110218, std 0.019841\n",
      "fe_936_col751_lr0.05_n5.csv\n",
      "Run LightGBM with kfold - done in 186s\n"
     ]
    }
   ],
   "source": [
    "feature_importance_df, feature_importance_gain_df,holdout_roc,holdout_mean,full_te_mean,full_tr_mean,oof_preds = runlgb(train_df, test_drop, holdout)"
   ]
  },
  {
   "cell_type": "code",
   "execution_count": 9,
   "metadata": {
    "ExecuteTime": {
     "end_time": "2018-08-25T16:41:20.772886Z",
     "start_time": "2018-08-25T16:37:56.871659Z"
    }
   },
   "outputs": [
    {
     "name": "stdout",
     "output_type": "stream",
     "text": [
      "#############################################\n",
      "0.07 20 5 16 20 1 0.5 0.05 nfolds: 5\n",
      "#############################################\n",
      "(307480, 762) (48744, 761) (31, 762)\n",
      "MEAN: train(307480) vs holdout(31):  0.08072720176922077 0.0967741935483871\n",
      "Fold  1 [ 1725] AUC : ho: 0.690476 / te: 0.799927 / tr: 0.885713 (diff: 0.109451)\n",
      "Fold  2 [ 1194] AUC : ho: 0.702381 / te: 0.800182 / tr: 0.865547 (diff: 0.097801)\n",
      "Fold  3 [ 1320] AUC : ho: 0.690476 / te: 0.789901 / tr: 0.872116 (diff: 0.099425)\n",
      "Fold  4 [ 1254] AUC : ho: 0.690476 / te: 0.795710 / tr: 0.868753 (diff: 0.105234)\n",
      "Fold  5 [ 1319] AUC : ho: 0.619048 / te: 0.796589 / tr: 0.870683 (diff: 0.177541)\n",
      "Full HO score 0.690476\n",
      "FULL HO mean 0.678571, std 0.030117\n",
      "FULL TE mean 0.796462, std 0.003728\n",
      "FULL TR mean 0.872562, std 0.006934\n",
      "FULL DIFF mean 0.117890, std 0.030114\n",
      "fe_936_col762_lr0.05_n5.csv\n",
      "Run LightGBM with kfold - done in 204s\n"
     ]
    }
   ],
   "source": [
    "feature_importance_df, feature_importance_gain_df,holdout_roc,holdout_mean,full_te_mean,full_tr_mean,oof_preds = runlgb(train_df, test_drop, holdout)"
   ]
  },
  {
   "cell_type": "markdown",
   "metadata": {
    "ExecuteTime": {
     "end_time": "2018-08-23T18:01:12.021790Z",
     "start_time": "2018-08-23T17:46:30.793163Z"
    }
   },
   "source": [
    "# single"
   ]
  },
  {
   "cell_type": "code",
   "execution_count": 17,
   "metadata": {
    "ExecuteTime": {
     "end_time": "2018-08-25T15:57:44.849631Z",
     "start_time": "2018-08-25T15:57:24.964984Z"
    }
   },
   "outputs": [
    {
     "name": "stdout",
     "output_type": "stream",
     "text": [
      "#############################################\n",
      "0.07 20 5 16 20 1 0.5 0.05 nfolds: 5\n",
      "#############################################\n",
      "single_lr_0.05.csv\n",
      "Run LightGBM with kfold - done in 19s\n"
     ]
    }
   ],
   "source": [
    "train_x= train_drop.drop(['SK_ID_CURR','TARGET'],axis=1)\n",
    "train_y = train_drop['TARGET']\n",
    "test_x = test.drop(['SK_ID_CURR'],axis=1)\n",
    "\n",
    "colsamples = [0.07]#[0.1,0.15,0.2]#[0.03,0.04,0.05,0.06,0.07,0.08]\n",
    "seeds = [20]#[300,4000,50000,600000,7000000,80000000,523445,31275479] # 20\n",
    "depth = [5]\n",
    "leaves = [16]\n",
    "min_child_sam = [20]#, 800]\n",
    "subsamples = [1]#0.8, 0.7, 0.6, 0.5, 0.4] # was 1\n",
    "reg_lambdas = [0.5]\n",
    "# lrs = lrs.tolist()\n",
    "lrs2 = [0.05]\n",
    "nfolds = 5 \n",
    "rounds = [1150] #[1000]#, 1300, 1600, 1900, 2200, 2500]\n",
    "for seed in seeds:\n",
    "    for colsample in colsamples:\n",
    "        for d in depth:\n",
    "            for l in leaves:\n",
    "                for mcs in min_child_sam:\n",
    "                    for subsample in subsamples:\n",
    "                        for reg_lambda in reg_lambdas:\n",
    "                            for lr in lrs2:\n",
    "                                for r in rounds:\n",
    "                                    filename = 'fe_936_col{}_lr{}_n{}'.format(len(train.columns), lr, nfolds)\n",
    "                                    print('#############################################')\n",
    "                                    print(colsample, seed, d, l, mcs, subsample, reg_lambda, lr, 'nfolds:', nfolds)\n",
    "                                    print('#############################################')\n",
    "                                    numfeats = len(train.columns)\n",
    "                                    with timer(\"Run LightGBM with kfold\"):\n",
    "\n",
    "\n",
    "\n",
    "                                        clf = LGBMClassifier(\n",
    "                                                    nthread=18,\n",
    "                                                    n_estimators=30000,\n",
    "                                                    learning_rate=lr,\n",
    "                                                    num_leaves=l,\n",
    "                                                    colsample_bytree=colsample, # 0.67\n",
    "                                                    subsample=subsample,\n",
    "                                                    subsample_freq=0, ## disable subsampling\n",
    "                                                    max_depth=d,\n",
    "                                                    reg_alpha=0.65,\n",
    "                                                    reg_lambda=reg_lambda,\n",
    "                                                    min_split_gain=0.0222415,\n",
    "                                                    min_child_weight=39.3259775,\n",
    "                                                    min_child_samples=mcs,\n",
    "                                                    silent=-1,\n",
    "                                                    verbose=-1, )\n",
    "                                        clf.n_estimators = r\n",
    "                                        clf.fit(train_x, train_y, eval_metric= 'auc', verbose=0)\n",
    "                                        sub_preds = clf.predict_proba(test_x)[:, 1]\n",
    "                                        test['TARGET'] = sub_preds\n",
    "                                        submission_file_name = 'single_lr_{}.csv'.format(lr)\n",
    "                                        print(submission_file_name)\n",
    "                                        test[['SK_ID_CURR', 'TARGET']].to_csv(submission_file_name, index= False)\n",
    "                                           "
   ]
  },
  {
   "cell_type": "code",
   "execution_count": null,
   "metadata": {},
   "outputs": [],
   "source": []
  },
  {
   "cell_type": "code",
   "execution_count": 18,
   "metadata": {
    "ExecuteTime": {
     "end_time": "2018-08-20T18:15:17.959010Z",
     "start_time": "2018-08-20T18:13:13.842032Z"
    }
   },
   "outputs": [
    {
     "name": "stdout",
     "output_type": "stream",
     "text": [
      "#############################################\n",
      "0.07 20 5 16 20 1 0.5 0.05 nfolds: 5\n",
      "#############################################\n",
      "(263580, 764) (48744, 764) (43931, 764)\n",
      "MEAN: train(263580) vs holdout(43931):  0.0807572653463844 0.08055814800482575\n",
      "Fold  1 [  795] AUC : ho: 0.794584 / te: 0.795493 / tr: 0.852858 (diff: 0.000909)\n",
      "Fold  2 [ 1078] AUC : ho: 0.795753 / te: 0.795111 / tr: 0.865921 (diff: 0.000642)\n",
      "Fold  3 [ 1160] AUC : ho: 0.795761 / te: 0.792183 / tr: 0.871919 (diff: 0.003578)\n",
      "Fold  4 [ 1251] AUC : ho: 0.795716 / te: 0.800059 / tr: 0.874186 (diff: 0.004342)\n",
      "Fold  5 [ 1175] AUC : ho: 0.795232 / te: 0.790522 / tr: 0.873062 (diff: 0.004710)\n",
      "Full HO score 0.798031\n",
      "FULL HO mean 0.795409, std 0.000458\n",
      "FULL TE mean 0.794674, std 0.003265\n",
      "FULL TR mean 0.867589, std 0.007899\n",
      "FULL DIFF mean 0.002836, std 0.001724\n",
      "Run LightGBM with kfold - done in 124s\n"
     ]
    }
   ],
   "source": [
    "res = runlgb(train_df, test, holdout)"
   ]
  },
  {
   "cell_type": "code",
   "execution_count": 14,
   "metadata": {
    "ExecuteTime": {
     "end_time": "2018-08-28T15:03:23.877326Z",
     "start_time": "2018-08-28T15:03:23.864882Z"
    }
   },
   "outputs": [],
   "source": [
    "def plot_feature_importances(df, threshold = 0.9):\n",
    "    \"\"\"\n",
    "    Plots 15 most important features and the cumulative importance of features.\n",
    "    Prints the number of features needed to reach threshold cumulative importance.\n",
    "    \n",
    "    Parameters\n",
    "    --------\n",
    "    df : dataframe\n",
    "        Dataframe of feature importances. Columns must be feature and importance\n",
    "    threshold : float, default = 0.9\n",
    "        Threshold for prining information about cumulative importances\n",
    "        \n",
    "    Return\n",
    "    --------\n",
    "    df : dataframe\n",
    "        Dataframe ordered by feature importances with a normalized column (sums to 1)\n",
    "        and a cumulative importance column\n",
    "    \n",
    "    \"\"\"\n",
    "    # Sort features according to importance\n",
    "    df = df.sort_values('importance', ascending = False).reset_index()\n",
    "    \n",
    "    # Normalize the feature importances to add up to one\n",
    "    df['importance_normalized'] = df['importance'] / df['importance'].sum()\n",
    "    df['cumulative_importance'] = np.cumsum(df['importance_normalized'])\n",
    "\n",
    "    if not print_to_file:\n",
    "        plt.rcParams['font.size'] = 18\n",
    "        # Make a horizontal bar chart of feature importances\n",
    "        plt.figure(figsize = (10, 6))\n",
    "        ax = plt.subplot()\n",
    "\n",
    "        # Need to reverse the index to plot most important on top\n",
    "        ax.barh(list(reversed(list(df.index[:15]))), \n",
    "                df['importance_normalized'].head(15), \n",
    "                align = 'center', edgecolor = 'k')\n",
    "\n",
    "        # Set the yticks and labels\n",
    "        ax.set_yticks(list(reversed(list(df.index[:15]))))\n",
    "        ax.set_yticklabels(df['feature'].head(15))\n",
    "\n",
    "        # Plot labeling\n",
    "        plt.xlabel('Normalized Importance'); plt.title('Feature Importances')\n",
    "        plt.show()\n",
    "\n",
    "        # Cumulative importance plot\n",
    "        plt.figure(figsize = (8, 6))\n",
    "        plt.plot(list(range(len(df))), df['cumulative_importance'], 'r-')\n",
    "        plt.xlabel('Number of Features'); plt.ylabel('Cumulative Importance'); \n",
    "        plt.title('Cumulative Feature Importance');\n",
    "        plt.show();\n",
    "    \n",
    "    importance_index = np.min(np.where(df['cumulative_importance'] > threshold))\n",
    "    print('%d features required for %0.2f of cumulative importance' % (importance_index + 1, threshold))\n",
    "    \n",
    "    return df"
   ]
  },
  {
   "cell_type": "code",
   "execution_count": 39,
   "metadata": {
    "ExecuteTime": {
     "end_time": "2018-08-16T19:36:34.888595Z",
     "start_time": "2018-08-16T19:36:34.885353Z"
    }
   },
   "outputs": [],
   "source": [
    "split_imp, gain_imp, _ = res "
   ]
  },
  {
   "cell_type": "code",
   "execution_count": 16,
   "metadata": {
    "ExecuteTime": {
     "end_time": "2018-08-28T15:03:52.167237Z",
     "start_time": "2018-08-28T15:03:51.912523Z"
    }
   },
   "outputs": [
    {
     "data": {
      "image/png": "[encoded data removed]",
      "text/plain": [
       "<Figure size 720x432 with 1 Axes>"
      ]
     },
     "metadata": {},
     "output_type": "display_data"
    },
    {
     "data": {
      "image/png": "[encoded data removed]",
      "text/plain": [
       "<Figure size 576x432 with 1 Axes>"
      ]
     },
     "metadata": {},
     "output_type": "display_data"
    },
    {
     "name": "stdout",
     "output_type": "stream",
     "text": [
      "682 features required for 0.90 of cumulative importance\n"
     ]
    }
   ],
   "source": [
    "# feature_importances = pickle.load(open('../selection_comb_bo2_op5f4_simfe/fe_imp_corr_nan_df.pkl','rb'))\n",
    "split_norm_fe_imp = plot_feature_importances(feature_importance_gain_df)"
   ]
  },
  {
   "cell_type": "code",
   "execution_count": 15,
   "metadata": {
    "ExecuteTime": {
     "end_time": "2018-08-28T15:03:36.242045Z",
     "start_time": "2018-08-28T15:03:36.216609Z"
    }
   },
   "outputs": [
    {
     "data": {
      "text/html": [
       "<div>\n",
       "<style scoped>\n",
       "    .dataframe tbody tr th:only-of-type {\n",
       "        vertical-align: middle;\n",
       "    }\n",
       "\n",
       "    .dataframe tbody tr th {\n",
       "        vertical-align: top;\n",
       "    }\n",
       "\n",
       "    .dataframe thead th {\n",
       "        text-align: right;\n",
       "    }\n",
       "</style>\n",
       "<table border=\"1\" class=\"dataframe\">\n",
       "  <thead>\n",
       "    <tr style=\"text-align: right;\">\n",
       "      <th></th>\n",
       "      <th>feature</th>\n",
       "      <th>importance</th>\n",
       "    </tr>\n",
       "  </thead>\n",
       "  <tbody>\n",
       "    <tr>\n",
       "      <th>0</th>\n",
       "      <td>external_sources_max</td>\n",
       "      <td>27614.407749</td>\n",
       "    </tr>\n",
       "    <tr>\n",
       "      <th>1</th>\n",
       "      <td>external_sources_min</td>\n",
       "      <td>14808.069049</td>\n",
       "    </tr>\n",
       "    <tr>\n",
       "      <th>2</th>\n",
       "      <td>EXT_SOURCE_3_x</td>\n",
       "      <td>9737.886909</td>\n",
       "    </tr>\n",
       "    <tr>\n",
       "      <th>3</th>\n",
       "      <td>AMT_CREDIT_divide_AMT_ANNUITY</td>\n",
       "      <td>9586.603175</td>\n",
       "    </tr>\n",
       "    <tr>\n",
       "      <th>4</th>\n",
       "      <td>Wei_EXT_SOURCE_2_x==DEVIDE==AMT_CREDIT</td>\n",
       "      <td>6883.154045</td>\n",
       "    </tr>\n",
       "    <tr>\n",
       "      <th>5</th>\n",
       "      <td>EXT_SOURCE_1_x</td>\n",
       "      <td>6040.997813</td>\n",
       "    </tr>\n",
       "    <tr>\n",
       "      <th>6</th>\n",
       "      <td>EXT_SOURCE_2_x</td>\n",
       "      <td>5870.801360</td>\n",
       "    </tr>\n",
       "    <tr>\n",
       "      <th>7</th>\n",
       "      <td>NAME_EDUCATION_TYPE_CODE_GENDER_EXT_SOURCE_3_m...</td>\n",
       "      <td>5705.372708</td>\n",
       "    </tr>\n",
       "    <tr>\n",
       "      <th>8</th>\n",
       "      <td>Wei_AMT_ANNUITY_divide_DAYS_EMPLOYED==DEVIDE==...</td>\n",
       "      <td>4460.279870</td>\n",
       "    </tr>\n",
       "    <tr>\n",
       "      <th>9</th>\n",
       "      <td>AMT_CREDIT_divide_AMT_GOODS_PRICE</td>\n",
       "      <td>4166.032034</td>\n",
       "    </tr>\n",
       "    <tr>\n",
       "      <th>10</th>\n",
       "      <td>Wei_EXT_SOURCE_2_x==DEVIDE==AMT_INCOME_TOTAL</td>\n",
       "      <td>4078.038065</td>\n",
       "    </tr>\n",
       "    <tr>\n",
       "      <th>11</th>\n",
       "      <td>Wei_EXT_SOURCE_3_x==DEVIDE==AMT_CREDIT</td>\n",
       "      <td>4066.942625</td>\n",
       "    </tr>\n",
       "    <tr>\n",
       "      <th>12</th>\n",
       "      <td>bureau_AMT_CREDIT_SUM_divide_AMT_CREDIT_SUM_DE...</td>\n",
       "      <td>3765.971364</td>\n",
       "    </tr>\n",
       "    <tr>\n",
       "      <th>13</th>\n",
       "      <td>Wei_EXT_SOURCE_3_x==DEVIDE==AMT_INCOME_TOTAL</td>\n",
       "      <td>3250.421289</td>\n",
       "    </tr>\n",
       "    <tr>\n",
       "      <th>14</th>\n",
       "      <td>Wei_inst_RATE_LATE_DAYS_SIGN_std==DEVIDE==AMT_...</td>\n",
       "      <td>3060.813183</td>\n",
       "    </tr>\n",
       "    <tr>\n",
       "      <th>15</th>\n",
       "      <td>DAYS_BIRTH_x</td>\n",
       "      <td>2981.714744</td>\n",
       "    </tr>\n",
       "    <tr>\n",
       "      <th>16</th>\n",
       "      <td>Wei_Wei_AMT_INCOME_TOTAL_divide_DAYS_EMPLOYED=...</td>\n",
       "      <td>2582.012415</td>\n",
       "    </tr>\n",
       "    <tr>\n",
       "      <th>17</th>\n",
       "      <td>count_CODE_GENDER_NAME_EDUCATION_TYPE_NAME_INC...</td>\n",
       "      <td>2576.646836</td>\n",
       "    </tr>\n",
       "    <tr>\n",
       "      <th>18</th>\n",
       "      <td>inst_RATE_LATE_DAYS_SIGN_mean</td>\n",
       "      <td>2467.601375</td>\n",
       "    </tr>\n",
       "    <tr>\n",
       "      <th>19</th>\n",
       "      <td>unique_CODE_GENDER_NAME_EDUCATION_TYPE</td>\n",
       "      <td>2326.444834</td>\n",
       "    </tr>\n",
       "    <tr>\n",
       "      <th>20</th>\n",
       "      <td>AMT_CREDIT</td>\n",
       "      <td>2301.940914</td>\n",
       "    </tr>\n",
       "    <tr>\n",
       "      <th>21</th>\n",
       "      <td>Wei_Wei_AMT_ANNUITY_divide_DAYS_EMPLOYED==DEVI...</td>\n",
       "      <td>2222.739706</td>\n",
       "    </tr>\n",
       "    <tr>\n",
       "      <th>22</th>\n",
       "      <td>Wei_external_sources_min==DEVIDE==AMT_INCOME_T...</td>\n",
       "      <td>2145.163245</td>\n",
       "    </tr>\n",
       "    <tr>\n",
       "      <th>23</th>\n",
       "      <td>Wei_bureau_debt_credit_ratio==DEVIDE==AMT_INCO...</td>\n",
       "      <td>2097.908934</td>\n",
       "    </tr>\n",
       "    <tr>\n",
       "      <th>24</th>\n",
       "      <td>creditcard_AMT_BALANCE_divide_AMT_PAYMENT_CURR...</td>\n",
       "      <td>1951.276847</td>\n",
       "    </tr>\n",
       "    <tr>\n",
       "      <th>25</th>\n",
       "      <td>NAME_EDUCATION_TYPE_CODE_GENDER_AMT_ANNUITY_ma...</td>\n",
       "      <td>1860.347710</td>\n",
       "    </tr>\n",
       "    <tr>\n",
       "      <th>26</th>\n",
       "      <td>Wei_Wei_last_loan_installment_paid_late_mean==...</td>\n",
       "      <td>1731.757322</td>\n",
       "    </tr>\n",
       "    <tr>\n",
       "      <th>27</th>\n",
       "      <td>BU_CREDIT_TYPE_category</td>\n",
       "      <td>1646.582937</td>\n",
       "    </tr>\n",
       "    <tr>\n",
       "      <th>28</th>\n",
       "      <td>Wei_Wei_external_sources_min==DEVIDE==AMT_INCO...</td>\n",
       "      <td>1607.155738</td>\n",
       "    </tr>\n",
       "    <tr>\n",
       "      <th>29</th>\n",
       "      <td>Wei_NAME_EDUCATION_TYPE_CODE_GENDER_EXT_SOURCE...</td>\n",
       "      <td>1527.186423</td>\n",
       "    </tr>\n",
       "    <tr>\n",
       "      <th>...</th>\n",
       "      <td>...</td>\n",
       "      <td>...</td>\n",
       "    </tr>\n",
       "    <tr>\n",
       "      <th>1133</th>\n",
       "      <td>Wei_Wei_prev_AMT_APPLICATION_divide_AMT_GOODS_...</td>\n",
       "      <td>36.877490</td>\n",
       "    </tr>\n",
       "    <tr>\n",
       "      <th>1134</th>\n",
       "      <td>Wei_NAME_EDUCATION_TYPE_CODE_GENDER_AMT_ANNUIT...</td>\n",
       "      <td>35.950180</td>\n",
       "    </tr>\n",
       "    <tr>\n",
       "      <th>1135</th>\n",
       "      <td>Wei_Wei_prev_DAYS_FIRST_DRAWING_minus_DAYS_LAS...</td>\n",
       "      <td>35.947322</td>\n",
       "    </tr>\n",
       "    <tr>\n",
       "      <th>1136</th>\n",
       "      <td>nan_count</td>\n",
       "      <td>35.717668</td>\n",
       "    </tr>\n",
       "    <tr>\n",
       "      <th>1137</th>\n",
       "      <td>Wei_Wei_creditcard_CNT_DRAWINGS_ATM_CURRENT_st...</td>\n",
       "      <td>35.712848</td>\n",
       "    </tr>\n",
       "    <tr>\n",
       "      <th>1138</th>\n",
       "      <td>Wei_credit_to_income_ratio==DEVIDE==AMT_INCOME...</td>\n",
       "      <td>35.383850</td>\n",
       "    </tr>\n",
       "    <tr>\n",
       "      <th>1139</th>\n",
       "      <td>Wei_AMT_REQ_CREDIT_BUREAU_QRT_divide_DAYS_LAST...</td>\n",
       "      <td>35.052068</td>\n",
       "    </tr>\n",
       "    <tr>\n",
       "      <th>1140</th>\n",
       "      <td>Wei_Wei_PREV_APP_CREDIT_PERC_MEAN==DEVIDE==AMT...</td>\n",
       "      <td>34.864244</td>\n",
       "    </tr>\n",
       "    <tr>\n",
       "      <th>1141</th>\n",
       "      <td>Wei_inst_AMT_ONTIME_PAYMENT_divide_AMT_INSTALM...</td>\n",
       "      <td>34.213920</td>\n",
       "    </tr>\n",
       "    <tr>\n",
       "      <th>1142</th>\n",
       "      <td>Wei_Wei_AMT_GOODS_PRICE==DEVIDE==AMT_INCOME_TO...</td>\n",
       "      <td>32.429010</td>\n",
       "    </tr>\n",
       "    <tr>\n",
       "      <th>1143</th>\n",
       "      <td>Wei_Wei_NAME_FAMILY_STATUS_CODE_GENDER_AMT_ANN...</td>\n",
       "      <td>32.197440</td>\n",
       "    </tr>\n",
       "    <tr>\n",
       "      <th>1144</th>\n",
       "      <td>Wei_Wei_creditcard_AMT_DRAWINGS_CURRENT_divide...</td>\n",
       "      <td>31.623006</td>\n",
       "    </tr>\n",
       "    <tr>\n",
       "      <th>1145</th>\n",
       "      <td>Wei_Wei_NAME_FAMILY_STATUS_NAME_EDUCATION_TYPE...</td>\n",
       "      <td>31.565584</td>\n",
       "    </tr>\n",
       "    <tr>\n",
       "      <th>1146</th>\n",
       "      <td>Wei_Wei_PREV_APP_CREDIT_PERC_MIN==DEVIDE==AMT_...</td>\n",
       "      <td>31.514542</td>\n",
       "    </tr>\n",
       "    <tr>\n",
       "      <th>1147</th>\n",
       "      <td>Wei_NAME_FAMILY_STATUS_NAME_EDUCATION_TYPE_AMT...</td>\n",
       "      <td>31.366222</td>\n",
       "    </tr>\n",
       "    <tr>\n",
       "      <th>1148</th>\n",
       "      <td>Wei_Wei_prev_AMT_ANNUITY_divide_AMT_CREDIT_max...</td>\n",
       "      <td>31.217604</td>\n",
       "    </tr>\n",
       "    <tr>\n",
       "      <th>1149</th>\n",
       "      <td>Wei_Wei_creditcard_AMT_BALANCE_divide_AMT_PAYM...</td>\n",
       "      <td>31.000124</td>\n",
       "    </tr>\n",
       "    <tr>\n",
       "      <th>1150</th>\n",
       "      <td>Wei_Wei_prev_DAYS_LAST_DUE_1ST_VERSION_minus_D...</td>\n",
       "      <td>29.503966</td>\n",
       "    </tr>\n",
       "    <tr>\n",
       "      <th>1151</th>\n",
       "      <td>Wei_Wei_inst_AMT_ONTIME_PAYMENT_divide_AMT_INS...</td>\n",
       "      <td>29.268312</td>\n",
       "    </tr>\n",
       "    <tr>\n",
       "      <th>1152</th>\n",
       "      <td>Wei_PREV_APP_CREDIT_PERC_MIN==DEVIDE==AMT_INCO...</td>\n",
       "      <td>28.018306</td>\n",
       "    </tr>\n",
       "    <tr>\n",
       "      <th>1153</th>\n",
       "      <td>Wei_Wei_prev_AMT_APPLICATION_divide_AMT_GOODS_...</td>\n",
       "      <td>27.918584</td>\n",
       "    </tr>\n",
       "    <tr>\n",
       "      <th>1154</th>\n",
       "      <td>Wei_prev_AMT_APPLICATION_divide_AMT_CREDIT_med...</td>\n",
       "      <td>27.540354</td>\n",
       "    </tr>\n",
       "    <tr>\n",
       "      <th>1155</th>\n",
       "      <td>Wei_Wei_NAME_EDUCATION_TYPE_CODE_GENDER_AMT_AN...</td>\n",
       "      <td>27.024998</td>\n",
       "    </tr>\n",
       "    <tr>\n",
       "      <th>1156</th>\n",
       "      <td>Wei_inst_AMT_ONTIME_PAYMENT_divide_AMT_INSTALM...</td>\n",
       "      <td>26.855556</td>\n",
       "    </tr>\n",
       "    <tr>\n",
       "      <th>1157</th>\n",
       "      <td>Wei_Wei_last_20by100_fraction_installment_paid...</td>\n",
       "      <td>26.756400</td>\n",
       "    </tr>\n",
       "    <tr>\n",
       "      <th>1158</th>\n",
       "      <td>Wei_Wei_annuity_income_percentage==DEVIDE==AMT...</td>\n",
       "      <td>26.088248</td>\n",
       "    </tr>\n",
       "    <tr>\n",
       "      <th>1159</th>\n",
       "      <td>Wei_prev_AMT_APPLICATION_divide_AMT_GOODS_PRIC...</td>\n",
       "      <td>25.281682</td>\n",
       "    </tr>\n",
       "    <tr>\n",
       "      <th>1160</th>\n",
       "      <td>Wei_prev_DAYS_FIRST_DRAWING_minus_DAYS_LAST_DU...</td>\n",
       "      <td>19.211610</td>\n",
       "    </tr>\n",
       "    <tr>\n",
       "      <th>1161</th>\n",
       "      <td>Wei_Wei_prev_AMT_APPLICATION_divide_AMT_GOODS_...</td>\n",
       "      <td>19.170854</td>\n",
       "    </tr>\n",
       "    <tr>\n",
       "      <th>1162</th>\n",
       "      <td>Wei_AMT_INCOME_TOTAL==DEVIDE==AMT_INCOME_TOTAL</td>\n",
       "      <td>0.000000</td>\n",
       "    </tr>\n",
       "  </tbody>\n",
       "</table>\n",
       "<p>1163 rows × 2 columns</p>\n",
       "</div>"
      ],
      "text/plain": [
       "                                                feature    importance\n",
       "0                                  external_sources_max  27614.407749\n",
       "1                                  external_sources_min  14808.069049\n",
       "2                                        EXT_SOURCE_3_x   9737.886909\n",
       "3                         AMT_CREDIT_divide_AMT_ANNUITY   9586.603175\n",
       "4                Wei_EXT_SOURCE_2_x==DEVIDE==AMT_CREDIT   6883.154045\n",
       "5                                        EXT_SOURCE_1_x   6040.997813\n",
       "6                                        EXT_SOURCE_2_x   5870.801360\n",
       "7     NAME_EDUCATION_TYPE_CODE_GENDER_EXT_SOURCE_3_m...   5705.372708\n",
       "8     Wei_AMT_ANNUITY_divide_DAYS_EMPLOYED==DEVIDE==...   4460.279870\n",
       "9                     AMT_CREDIT_divide_AMT_GOODS_PRICE   4166.032034\n",
       "10         Wei_EXT_SOURCE_2_x==DEVIDE==AMT_INCOME_TOTAL   4078.038065\n",
       "11               Wei_EXT_SOURCE_3_x==DEVIDE==AMT_CREDIT   4066.942625\n",
       "12    bureau_AMT_CREDIT_SUM_divide_AMT_CREDIT_SUM_DE...   3765.971364\n",
       "13         Wei_EXT_SOURCE_3_x==DEVIDE==AMT_INCOME_TOTAL   3250.421289\n",
       "14    Wei_inst_RATE_LATE_DAYS_SIGN_std==DEVIDE==AMT_...   3060.813183\n",
       "15                                         DAYS_BIRTH_x   2981.714744\n",
       "16    Wei_Wei_AMT_INCOME_TOTAL_divide_DAYS_EMPLOYED=...   2582.012415\n",
       "17    count_CODE_GENDER_NAME_EDUCATION_TYPE_NAME_INC...   2576.646836\n",
       "18                        inst_RATE_LATE_DAYS_SIGN_mean   2467.601375\n",
       "19               unique_CODE_GENDER_NAME_EDUCATION_TYPE   2326.444834\n",
       "20                                           AMT_CREDIT   2301.940914\n",
       "21    Wei_Wei_AMT_ANNUITY_divide_DAYS_EMPLOYED==DEVI...   2222.739706\n",
       "22    Wei_external_sources_min==DEVIDE==AMT_INCOME_T...   2145.163245\n",
       "23    Wei_bureau_debt_credit_ratio==DEVIDE==AMT_INCO...   2097.908934\n",
       "24    creditcard_AMT_BALANCE_divide_AMT_PAYMENT_CURR...   1951.276847\n",
       "25    NAME_EDUCATION_TYPE_CODE_GENDER_AMT_ANNUITY_ma...   1860.347710\n",
       "26    Wei_Wei_last_loan_installment_paid_late_mean==...   1731.757322\n",
       "27                              BU_CREDIT_TYPE_category   1646.582937\n",
       "28    Wei_Wei_external_sources_min==DEVIDE==AMT_INCO...   1607.155738\n",
       "29    Wei_NAME_EDUCATION_TYPE_CODE_GENDER_EXT_SOURCE...   1527.186423\n",
       "...                                                 ...           ...\n",
       "1133  Wei_Wei_prev_AMT_APPLICATION_divide_AMT_GOODS_...     36.877490\n",
       "1134  Wei_NAME_EDUCATION_TYPE_CODE_GENDER_AMT_ANNUIT...     35.950180\n",
       "1135  Wei_Wei_prev_DAYS_FIRST_DRAWING_minus_DAYS_LAS...     35.947322\n",
       "1136                                          nan_count     35.717668\n",
       "1137  Wei_Wei_creditcard_CNT_DRAWINGS_ATM_CURRENT_st...     35.712848\n",
       "1138  Wei_credit_to_income_ratio==DEVIDE==AMT_INCOME...     35.383850\n",
       "1139  Wei_AMT_REQ_CREDIT_BUREAU_QRT_divide_DAYS_LAST...     35.052068\n",
       "1140  Wei_Wei_PREV_APP_CREDIT_PERC_MEAN==DEVIDE==AMT...     34.864244\n",
       "1141  Wei_inst_AMT_ONTIME_PAYMENT_divide_AMT_INSTALM...     34.213920\n",
       "1142  Wei_Wei_AMT_GOODS_PRICE==DEVIDE==AMT_INCOME_TO...     32.429010\n",
       "1143  Wei_Wei_NAME_FAMILY_STATUS_CODE_GENDER_AMT_ANN...     32.197440\n",
       "1144  Wei_Wei_creditcard_AMT_DRAWINGS_CURRENT_divide...     31.623006\n",
       "1145  Wei_Wei_NAME_FAMILY_STATUS_NAME_EDUCATION_TYPE...     31.565584\n",
       "1146  Wei_Wei_PREV_APP_CREDIT_PERC_MIN==DEVIDE==AMT_...     31.514542\n",
       "1147  Wei_NAME_FAMILY_STATUS_NAME_EDUCATION_TYPE_AMT...     31.366222\n",
       "1148  Wei_Wei_prev_AMT_ANNUITY_divide_AMT_CREDIT_max...     31.217604\n",
       "1149  Wei_Wei_creditcard_AMT_BALANCE_divide_AMT_PAYM...     31.000124\n",
       "1150  Wei_Wei_prev_DAYS_LAST_DUE_1ST_VERSION_minus_D...     29.503966\n",
       "1151  Wei_Wei_inst_AMT_ONTIME_PAYMENT_divide_AMT_INS...     29.268312\n",
       "1152  Wei_PREV_APP_CREDIT_PERC_MIN==DEVIDE==AMT_INCO...     28.018306\n",
       "1153  Wei_Wei_prev_AMT_APPLICATION_divide_AMT_GOODS_...     27.918584\n",
       "1154  Wei_prev_AMT_APPLICATION_divide_AMT_CREDIT_med...     27.540354\n",
       "1155  Wei_Wei_NAME_EDUCATION_TYPE_CODE_GENDER_AMT_AN...     27.024998\n",
       "1156  Wei_inst_AMT_ONTIME_PAYMENT_divide_AMT_INSTALM...     26.855556\n",
       "1157  Wei_Wei_last_20by100_fraction_installment_paid...     26.756400\n",
       "1158  Wei_Wei_annuity_income_percentage==DEVIDE==AMT...     26.088248\n",
       "1159  Wei_prev_AMT_APPLICATION_divide_AMT_GOODS_PRIC...     25.281682\n",
       "1160  Wei_prev_DAYS_FIRST_DRAWING_minus_DAYS_LAST_DU...     19.211610\n",
       "1161  Wei_Wei_prev_AMT_APPLICATION_divide_AMT_GOODS_...     19.170854\n",
       "1162     Wei_AMT_INCOME_TOTAL==DEVIDE==AMT_INCOME_TOTAL      0.000000\n",
       "\n",
       "[1163 rows x 2 columns]"
      ]
     },
     "execution_count": 15,
     "metadata": {},
     "output_type": "execute_result"
    }
   ],
   "source": [
    "feature_importance_gain_df"
   ]
  },
  {
   "cell_type": "code",
   "execution_count": 13,
   "metadata": {
    "ExecuteTime": {
     "end_time": "2018-08-28T15:03:16.619249Z",
     "start_time": "2018-08-28T15:03:16.501157Z"
    }
   },
   "outputs": [
    {
     "ename": "NameError",
     "evalue": "name 'plot_feature_importances' is not defined",
     "output_type": "error",
     "traceback": [
      "\u001b[0;31m---------------------------------------------------------------------------\u001b[0m",
      "\u001b[0;31mNameError\u001b[0m                                 Traceback (most recent call last)",
      "\u001b[0;32m<ipython-input-13-f4e3d8cb53cb>\u001b[0m in \u001b[0;36m<module>\u001b[0;34m()\u001b[0m\n\u001b[1;32m      1\u001b[0m \u001b[0;31m# feature_importances = pickle.load(open('../selection_comb_bo2_op5f4_simfe/fe_imp_corr_nan_df.pkl','rb'))\u001b[0m\u001b[0;34m\u001b[0m\u001b[0;34m\u001b[0m\u001b[0m\n\u001b[0;32m----> 2\u001b[0;31m \u001b[0msplit_norm_fe_imp\u001b[0m \u001b[0;34m=\u001b[0m \u001b[0mplot_feature_importances\u001b[0m\u001b[0;34m(\u001b[0m\u001b[0mfeature_importance_df\u001b[0m\u001b[0;34m)\u001b[0m\u001b[0;34m\u001b[0m\u001b[0m\n\u001b[0m",
      "\u001b[0;31mNameError\u001b[0m: name 'plot_feature_importances' is not defined"
     ]
    }
   ],
   "source": [
    "# feature_importances = pickle.load(open('../selection_comb_bo2_op5f4_simfe/fe_imp_corr_nan_df.pkl','rb'))\n",
    "split_norm_fe_imp = plot_feature_importances(feature_importance_df)"
   ]
  },
  {
   "cell_type": "code",
   "execution_count": null,
   "metadata": {},
   "outputs": [],
   "source": []
  }
 ],
 "metadata": {
  "kernelspec": {
   "display_name": "Python 3",
   "language": "python",
   "name": "python3"
  },
  "language_info": {
   "codemirror_mode": {
    "name": "ipython",
    "version": 3
   },
   "file_extension": ".py",
   "mimetype": "text/x-python",
   "name": "python",
   "nbconvert_exporter": "python",
   "pygments_lexer": "ipython3",
   "version": "3.6.5"
  },
  "varInspector": {
   "cols": {
    "lenName": 16,
    "lenType": 16,
    "lenVar": 40
   },
   "kernels_config": {
    "python": {
     "delete_cmd_postfix": "",
     "delete_cmd_prefix": "del ",
     "library": "var_list.py",
     "varRefreshCmd": "print(var_dic_list())"
    },
    "r": {
     "delete_cmd_postfix": ") ",
     "delete_cmd_prefix": "rm(",
     "library": "var_list.r",
     "varRefreshCmd": "cat(var_dic_list()) "
    }
   },
   "types_to_exclude": [
    "module",
    "function",
    "builtin_function_or_method",
    "instance",
    "_Feature"
   ],
   "window_display": false
  }
 },
 "nbformat": 4,
 "nbformat_minor": 2
}
