{
 "cells": [
  {
   "cell_type": "code",
   "execution_count": 2,
   "metadata": {
    "ExecuteTime": {
     "end_time": "2018-08-20T14:14:53.675341Z",
     "start_time": "2018-08-20T14:14:53.382464Z"
    }
   },
   "outputs": [],
   "source": [
    "import os,sys\n",
    "import numpy as np\n",
    "import pandas as pd\n",
    "from tqdm import tqdm_notebook as tqdm\n",
    "from sklearn.externals import joblib\n",
    "import matplotlib.pyplot as plt\n",
    "sys.path.append('../LIB/')\n",
    "from env import ENV\n",
    "import pickle"
   ]
  },
  {
   "cell_type": "code",
   "execution_count": 3,
   "metadata": {
    "ExecuteTime": {
     "end_time": "2018-08-20T14:14:54.001904Z",
     "start_time": "2018-08-20T14:14:53.681284Z"
    }
   },
   "outputs": [
    {
     "name": "stdout",
     "output_type": "stream",
     "text": [
      "Train shape: (307511, 122)\n",
      "Test shape: (48744, 121)\n"
     ]
    }
   ],
   "source": [
    "X_Train = pd.read_pickle(ENV.application_train_cleaned.value)\n",
    "print('Train shape: {}'.format(X_Train.shape))\n",
    "\n",
    "X_Test = pd.read_pickle(ENV.application_test_cleaned.value)\n",
    "print('Test shape: {}'.format(X_Test.shape))"
   ]
  },
  {
   "cell_type": "code",
   "execution_count": 4,
   "metadata": {
    "ExecuteTime": {
     "end_time": "2018-08-20T14:14:54.280906Z",
     "start_time": "2018-08-20T14:14:54.276427Z"
    }
   },
   "outputs": [
    {
     "data": {
      "text/plain": [
       "0"
      ]
     },
     "execution_count": 4,
     "metadata": {},
     "output_type": "execute_result"
    }
   ],
   "source": [
    "len(train_preds)"
   ]
  },
  {
   "cell_type": "code",
   "execution_count": 5,
   "metadata": {
    "ExecuteTime": {
     "end_time": "2018-08-20T14:14:55.259357Z",
     "start_time": "2018-08-20T14:14:55.171776Z"
    }
   },
   "outputs": [],
   "source": [
    "folder = 'main_ALL'\n",
    "train_preds =[ ]\n",
    "test_preds = []\n",
    "for fold in range(5):\n",
    "    train_load = pickle.load(open('../../data/rnn/{}/preds_fold_{}.pkl'.format(folder,fold),'rb'))\n",
    "\n",
    "    test_load = pickle.load(open('../../data/rnn/{}/test_preds_fold_0.pkl'.format(folder,fold),'rb'))\n",
    "    train_preds.extend(list(train_load.squeeze()))\n",
    "    test_preds.append(list(test_load.squeeze()))\n",
    "test_preds = np.mean(test_preds,axis=0)\n",
    "\n",
    "df_train = pd.DataFrame({'SK_ID_CURR':X_Train.SK_ID_CURR.values,'feautures':train_preds})\n",
    "df_test = pd.DataFrame({'SK_ID_CURR':X_Test.SK_ID_CURR.values,'feautures':test_preds})\n",
    "df = pd.concat([df_train,df_test])\n",
    "\n",
    "df.to_pickle('../../data/rnn/{}/mapping.pkl'.format(folder))"
   ]
  },
  {
   "cell_type": "markdown",
   "metadata": {
    "ExecuteTime": {
     "end_time": "2018-08-13T21:21:12.243274Z",
     "start_time": "2018-08-13T21:21:12.238004Z"
    }
   },
   "source": [
    "# ALL Features Combine"
   ]
  },
  {
   "cell_type": "code",
   "execution_count": 28,
   "metadata": {
    "ExecuteTime": {
     "end_time": "2018-08-20T14:32:29.337091Z",
     "start_time": "2018-08-20T14:32:29.261037Z"
    }
   },
   "outputs": [
    {
     "name": "stdout",
     "output_type": "stream",
     "text": [
      "Wei_RNN_main_ALL_v2\n"
     ]
    }
   ],
   "source": [
    "folder1 = ['previous_application','bureau','installment','creditcard']\n",
    "folder2 = ['main_plain','main_ALL']\n",
    "file_name = {'v1':'mapping.pkl','v2':'mappingv2.pkl'}\n",
    "Prefix = 'Wei_RNN_'\n",
    "\n",
    "result = pd.DataFrame()\n",
    "\n",
    "for fold in folder1+folder2:\n",
    "    for v in file_name:\n",
    "        name = Prefix+fold+'_'+v\n",
    "        path = '../../data/rnn/{}/{}'.format(fold,file_name[v])\n",
    "        try:\n",
    "            df = pd.read_pickle(path)\n",
    "            features = df.feautures.values\n",
    "            ids = df.SK_ID_CURR.values\n",
    "            result[name] = features\n",
    "            result['SK_ID_CURR'] = ids\n",
    "        except:\n",
    "            print(name)\n",
    "        \n",
    "        \n",
    "    "
   ]
  },
  {
   "cell_type": "code",
   "execution_count": 31,
   "metadata": {
    "ExecuteTime": {
     "end_time": "2018-08-20T14:32:47.468649Z",
     "start_time": "2018-08-20T14:32:47.382454Z"
    }
   },
   "outputs": [],
   "source": [
    "result.to_pickle('../../data/rnn/rnn_all_features.pkl')"
   ]
  },
  {
   "cell_type": "code",
   "execution_count": 30,
   "metadata": {
    "ExecuteTime": {
     "end_time": "2018-08-20T14:32:44.092322Z",
     "start_time": "2018-08-20T14:32:44.086915Z"
    }
   },
   "outputs": [
    {
     "data": {
      "text/plain": [
       "(356255, 12)"
      ]
     },
     "execution_count": 30,
     "metadata": {},
     "output_type": "execute_result"
    }
   ],
   "source": [
    "result.shape"
   ]
  },
  {
   "cell_type": "code",
   "execution_count": null,
   "metadata": {},
   "outputs": [],
   "source": []
  }
 ],
 "metadata": {
  "kernelspec": {
   "display_name": "Python 3",
   "language": "python",
   "name": "python3"
  },
  "language_info": {
   "codemirror_mode": {
    "name": "ipython",
    "version": 3
   },
   "file_extension": ".py",
   "mimetype": "text/x-python",
   "name": "python",
   "nbconvert_exporter": "python",
   "pygments_lexer": "ipython3",
   "version": "3.6.5"
  },
  "varInspector": {
   "cols": {
    "lenName": 16,
    "lenType": 16,
    "lenVar": 40
   },
   "kernels_config": {
    "python": {
     "delete_cmd_postfix": "",
     "delete_cmd_prefix": "del ",
     "library": "var_list.py",
     "varRefreshCmd": "print(var_dic_list())"
    },
    "r": {
     "delete_cmd_postfix": ") ",
     "delete_cmd_prefix": "rm(",
     "library": "var_list.r",
     "varRefreshCmd": "cat(var_dic_list()) "
    }
   },
   "types_to_exclude": [
    "module",
    "function",
    "builtin_function_or_method",
    "instance",
    "_Feature"
   ],
   "window_display": false
  }
 },
 "nbformat": 4,
 "nbformat_minor": 2
}
