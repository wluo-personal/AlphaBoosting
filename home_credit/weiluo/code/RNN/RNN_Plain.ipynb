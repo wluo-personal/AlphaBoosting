{
 "cells": [
  {
   "cell_type": "code",
   "execution_count": 1,
   "metadata": {
    "ExecuteTime": {
     "end_time": "2018-08-19T05:20:48.696393Z",
     "start_time": "2018-08-19T05:20:47.675791Z"
    }
   },
   "outputs": [
    {
     "name": "stderr",
     "output_type": "stream",
     "text": [
      "/home/kai/anaconda3/envs/tf_gpu/lib/python3.5/site-packages/h5py/__init__.py:36: FutureWarning: Conversion of the second argument of issubdtype from `float` to `np.floating` is deprecated. In future, it will be treated as `np.float64 == np.dtype(float).type`.\n",
      "  from ._conv import register_converters as _register_converters\n",
      "Using TensorFlow backend.\n"
     ]
    }
   ],
   "source": [
    "import os,sys\n",
    "import numpy as np\n",
    "import pandas as pd\n",
    "from tqdm import tqdm_notebook as tqdm\n",
    "from sklearn.externals import joblib\n",
    "import matplotlib.pyplot as plt\n",
    "sys.path.append('../LIB/')\n",
    "from env import ENV\n",
    "from sklearn.preprocessing import normalize\n",
    "from tqdm import tqdm\n",
    "\n",
    "import os\n",
    "from keras.layers import Dense,Input,LSTM,Bidirectional,Activation,Conv1D,GRU,CuDNNGRU,Flatten,BatchNormalization\n",
    "from keras.callbacks import Callback\n",
    "from keras.layers import Dropout,Embedding,GlobalMaxPooling1D, MaxPooling1D, Add, Flatten\n",
    "from keras.preprocessing import text, sequence\n",
    "from keras.layers import GlobalAveragePooling1D, GlobalMaxPooling1D, concatenate, SpatialDropout1D\n",
    "from keras import initializers, regularizers, constraints, optimizers, layers, callbacks\n",
    "from keras.callbacks import EarlyStopping,ModelCheckpoint\n",
    "from keras.models import Model\n",
    "from keras.optimizers import Adam\n",
    "from sklearn.model_selection import train_test_split\n",
    "from sklearn.metrics import accuracy_score\n",
    "from sklearn.metrics import roc_auc_score\n",
    "from sklearn.model_selection import KFold\n",
    "import pickle\n",
    "from sklearn.preprocessing.data import QuantileTransformer\n",
    "from sklearn.utils import shuffle\n",
    "import gc\n",
    "from sklearn.metrics import log_loss"
   ]
  },
  {
   "cell_type": "code",
   "execution_count": 2,
   "metadata": {
    "ExecuteTime": {
     "end_time": "2018-08-19T05:20:55.272978Z",
     "start_time": "2018-08-19T05:20:48.794865Z"
    }
   },
   "outputs": [
    {
     "name": "stdout",
     "output_type": "stream",
     "text": [
      "(307511, 764)\n",
      "(48744, 763)\n",
      "(356255, 763)\n"
     ]
    }
   ],
   "source": [
    "X_train = pd.read_pickle(ENV.lightgbm_train_764_nn.value)\n",
    "print(X_train.shape)\n",
    "X_test = pd.read_pickle(ENV.lightgbm_test_764_nn.value)\n",
    "print(X_test.shape)\n",
    "X = pd.concat([X_train.drop('TARGET',axis=1),X_test])\n",
    "print(X.shape)"
   ]
  },
  {
   "cell_type": "code",
   "execution_count": 23,
   "metadata": {
    "ExecuteTime": {
     "end_time": "2018-08-19T14:21:36.799836Z",
     "start_time": "2018-08-19T14:21:36.787946Z"
    }
   },
   "outputs": [],
   "source": [
    "def create_main_doc(X,categorical_col):\n",
    "    #1. create document\n",
    "    X_cal_values = X[categorical_col].values\n",
    "    X_doc = []\n",
    "    for each_line in X_cal_values:\n",
    "        doc = ' '.join(each_line)\n",
    "        X_doc.append(doc)\n",
    "        \n",
    "    #2. get max feature! max unique words\n",
    "    max_features = 0\n",
    "    for each in tqdm(categorical_col):\n",
    "        max_features+=X[each].nunique()\n",
    "    print('number of unique category is : {}'.format(max_features))\n",
    "    \n",
    "    #3. word to sequence\n",
    "    tok=text.Tokenizer(num_words=max_features,lower=True,filters='')\n",
    "    tok.fit_on_texts(X_doc)\n",
    "    maxlen = len(categorical_col)\n",
    "    X_cal=tok.texts_to_sequences(X_doc)\n",
    "    X_cal = sequence.pad_sequences(X_cal,maxlen=maxlen)\n",
    "    \n",
    "    return X_cal,max_features\n",
    "\n",
    "def one_hot_encoding(df,col,pre_fix,drop=True):\n",
    "    df = df.copy()\n",
    "    df[col] = df[col].fillna('NA_NOT_FOUND')\n",
    "    col_name_list = []\n",
    "    print('before encoding, shape is: {}'.format(df.shape))\n",
    "    for each in df[col].unique():\n",
    "        name = str(each)\n",
    "        col_name = pre_fix + '_'+ name.replace(' ','_')\n",
    "        col_name_list.append(col_name)\n",
    "        df[col_name] = 0\n",
    "        df.loc[df[col]==each,col_name] = 1\n",
    "    if drop:\n",
    "        df = df.drop([col],axis=1)\n",
    "    print('after encoding, shape is: {}'.format(df.shape))\n",
    "    return df,col_name_list"
   ]
  },
  {
   "cell_type": "code",
   "execution_count": 4,
   "metadata": {
    "ExecuteTime": {
     "end_time": "2018-08-19T05:21:03.628046Z",
     "start_time": "2018-08-19T05:21:03.622441Z"
    }
   },
   "outputs": [
    {
     "name": "stdout",
     "output_type": "stream",
     "text": [
      "length of categorical col is: 37\n"
     ]
    }
   ],
   "source": [
    "categorical_col = []\n",
    "for col in X.columns:\n",
    "    if X[col].dtypes == object:\n",
    "        categorical_col.append(col)\n",
    "print('length of categorical col is: {}'.format(len(categorical_col)))\n",
    "\n",
    "numerical_col = list(set(X.columns) - set(categorical_col))\n",
    "numerical_col.remove('SK_ID_CURR')"
   ]
  },
  {
   "cell_type": "markdown",
   "metadata": {},
   "source": [
    "# Scale "
   ]
  },
  {
   "cell_type": "code",
   "execution_count": 5,
   "metadata": {
    "ExecuteTime": {
     "end_time": "2018-08-19T05:22:05.884155Z",
     "start_time": "2018-08-19T05:21:07.751292Z"
    }
   },
   "outputs": [
    {
     "name": "stderr",
     "output_type": "stream",
     "text": [
      "100%|██████████| 725/725 [00:58<00:00, 12.47it/s]\n"
     ]
    }
   ],
   "source": [
    "qt = QuantileTransformer(n_quantiles=10000,output_distribution='normal')\n",
    "for col in tqdm(numerical_col):\n",
    "    X[col] = qt.fit_transform(X[col].values.reshape(-1,1))"
   ]
  },
  {
   "cell_type": "code",
   "execution_count": 6,
   "metadata": {
    "ExecuteTime": {
     "end_time": "2018-08-19T05:22:12.283723Z",
     "start_time": "2018-08-19T05:22:10.055371Z"
    }
   },
   "outputs": [],
   "source": [
    "X_num = X[numerical_col].values"
   ]
  },
  {
   "cell_type": "markdown",
   "metadata": {},
   "source": [
    "# Process categorical column"
   ]
  },
  {
   "cell_type": "code",
   "execution_count": 7,
   "metadata": {
    "ExecuteTime": {
     "end_time": "2018-08-19T05:22:33.169776Z",
     "start_time": "2018-08-19T05:22:15.161968Z"
    }
   },
   "outputs": [
    {
     "name": "stderr",
     "output_type": "stream",
     "text": [
      "100%|██████████| 37/37 [00:00<00:00, 52.11it/s]\n"
     ]
    },
    {
     "name": "stdout",
     "output_type": "stream",
     "text": [
      "number of unique category is : 463\n"
     ]
    }
   ],
   "source": [
    "X_cal,num_words_main = create_main_doc(X,categorical_col)"
   ]
  },
  {
   "cell_type": "markdown",
   "metadata": {},
   "source": [
    "# Create one hot columns"
   ]
  },
  {
   "cell_type": "code",
   "execution_count": 94,
   "metadata": {
    "ExecuteTime": {
     "end_time": "2018-08-19T15:10:11.644596Z",
     "start_time": "2018-08-19T15:08:41.834115Z"
    }
   },
   "outputs": [
    {
     "name": "stderr",
     "output_type": "stream",
     "text": [
      "\r",
      "  0%|          | 0/37 [00:00<?, ?it/s]"
     ]
    },
    {
     "name": "stdout",
     "output_type": "stream",
     "text": [
      "before encoding, shape is: (356255, 37)\n"
     ]
    },
    {
     "name": "stderr",
     "output_type": "stream",
     "text": [
      "\r",
      "  3%|▎         | 1/37 [00:03<01:48,  3.02s/it]"
     ]
    },
    {
     "name": "stdout",
     "output_type": "stream",
     "text": [
      "after encoding, shape is: (356255, 94)\n",
      "before encoding, shape is: (356255, 94)\n"
     ]
    },
    {
     "name": "stderr",
     "output_type": "stream",
     "text": [
      "\r",
      "  5%|▌         | 2/37 [00:03<01:07,  1.93s/it]"
     ]
    },
    {
     "name": "stdout",
     "output_type": "stream",
     "text": [
      "after encoding, shape is: (356255, 96)\n",
      "before encoding, shape is: (356255, 96)\n"
     ]
    },
    {
     "name": "stderr",
     "output_type": "stream",
     "text": [
      "\r",
      "  8%|▊         | 3/37 [00:06<01:08,  2.01s/it]"
     ]
    },
    {
     "name": "stdout",
     "output_type": "stream",
     "text": [
      "after encoding, shape is: (356255, 119)\n",
      "before encoding, shape is: (356255, 119)\n"
     ]
    },
    {
     "name": "stderr",
     "output_type": "stream",
     "text": [
      "\r",
      " 11%|█         | 4/37 [00:06<00:57,  1.73s/it]"
     ]
    },
    {
     "name": "stdout",
     "output_type": "stream",
     "text": [
      "after encoding, shape is: (356255, 121)\n",
      "before encoding, shape is: (356255, 121)\n"
     ]
    },
    {
     "name": "stderr",
     "output_type": "stream",
     "text": [
      "\r",
      " 14%|█▎        | 5/37 [00:07<00:49,  1.55s/it]"
     ]
    },
    {
     "name": "stdout",
     "output_type": "stream",
     "text": [
      "after encoding, shape is: (356255, 122)\n",
      "before encoding, shape is: (356255, 122)\n"
     ]
    },
    {
     "name": "stderr",
     "output_type": "stream",
     "text": [
      "\r",
      " 16%|█▌        | 6/37 [00:10<00:52,  1.71s/it]"
     ]
    },
    {
     "name": "stdout",
     "output_type": "stream",
     "text": [
      "after encoding, shape is: (356255, 145)\n",
      "before encoding, shape is: (356255, 145)\n"
     ]
    },
    {
     "name": "stderr",
     "output_type": "stream",
     "text": [
      "\r",
      " 19%|█▉        | 7/37 [00:11<00:47,  1.58s/it]"
     ]
    },
    {
     "name": "stdout",
     "output_type": "stream",
     "text": [
      "after encoding, shape is: (356255, 146)\n",
      "before encoding, shape is: (356255, 146)\n"
     ]
    },
    {
     "name": "stderr",
     "output_type": "stream",
     "text": [
      "\r",
      " 22%|██▏       | 8/37 [00:13<00:50,  1.74s/it]"
     ]
    },
    {
     "name": "stdout",
     "output_type": "stream",
     "text": [
      "after encoding, shape is: (356255, 169)\n",
      "before encoding, shape is: (356255, 169)\n"
     ]
    },
    {
     "name": "stderr",
     "output_type": "stream",
     "text": [
      "\r",
      " 24%|██▍       | 9/37 [00:15<00:46,  1.68s/it]"
     ]
    },
    {
     "name": "stdout",
     "output_type": "stream",
     "text": [
      "after encoding, shape is: (356255, 173)\n",
      "before encoding, shape is: (356255, 173)\n"
     ]
    },
    {
     "name": "stderr",
     "output_type": "stream",
     "text": [
      "\r",
      " 27%|██▋       | 10/37 [00:15<00:43,  1.60s/it]"
     ]
    },
    {
     "name": "stdout",
     "output_type": "stream",
     "text": [
      "after encoding, shape is: (356255, 174)\n",
      "before encoding, shape is: (356255, 174)\n"
     ]
    },
    {
     "name": "stderr",
     "output_type": "stream",
     "text": [
      "\r",
      " 30%|██▉       | 11/37 [00:19<00:45,  1.75s/it]"
     ]
    },
    {
     "name": "stdout",
     "output_type": "stream",
     "text": [
      "after encoding, shape is: (356255, 198)\n",
      "before encoding, shape is: (356255, 198)\n"
     ]
    },
    {
     "name": "stderr",
     "output_type": "stream",
     "text": [
      "\r",
      " 32%|███▏      | 12/37 [00:20<00:43,  1.73s/it]"
     ]
    },
    {
     "name": "stdout",
     "output_type": "stream",
     "text": [
      "after encoding, shape is: (356255, 204)\n",
      "before encoding, shape is: (356255, 204)\n"
     ]
    },
    {
     "name": "stderr",
     "output_type": "stream",
     "text": [
      "\r",
      " 35%|███▌      | 13/37 [00:23<00:43,  1.82s/it]"
     ]
    },
    {
     "name": "stdout",
     "output_type": "stream",
     "text": [
      "after encoding, shape is: (356255, 222)\n",
      "before encoding, shape is: (356255, 222)\n"
     ]
    },
    {
     "name": "stderr",
     "output_type": "stream",
     "text": [
      "\r",
      " 38%|███▊      | 14/37 [00:25<00:42,  1.85s/it]"
     ]
    },
    {
     "name": "stdout",
     "output_type": "stream",
     "text": [
      "after encoding, shape is: (356255, 233)\n",
      "before encoding, shape is: (356255, 233)\n"
     ]
    },
    {
     "name": "stderr",
     "output_type": "stream",
     "text": [
      "\r",
      " 41%|████      | 15/37 [00:26<00:39,  1.79s/it]"
     ]
    },
    {
     "name": "stdout",
     "output_type": "stream",
     "text": [
      "after encoding, shape is: (356255, 234)\n",
      "before encoding, shape is: (356255, 234)\n"
     ]
    },
    {
     "name": "stderr",
     "output_type": "stream",
     "text": [
      "\r",
      " 43%|████▎     | 16/37 [00:27<00:36,  1.74s/it]"
     ]
    },
    {
     "name": "stdout",
     "output_type": "stream",
     "text": [
      "after encoding, shape is: (356255, 235)\n",
      "before encoding, shape is: (356255, 235)\n"
     ]
    },
    {
     "name": "stderr",
     "output_type": "stream",
     "text": [
      "\r",
      " 46%|████▌     | 17/37 [00:28<00:33,  1.69s/it]"
     ]
    },
    {
     "name": "stdout",
     "output_type": "stream",
     "text": [
      "after encoding, shape is: (356255, 236)\n",
      "before encoding, shape is: (356255, 236)\n"
     ]
    },
    {
     "name": "stderr",
     "output_type": "stream",
     "text": [
      "\r",
      " 49%|████▊     | 18/37 [00:29<00:31,  1.65s/it]"
     ]
    },
    {
     "name": "stdout",
     "output_type": "stream",
     "text": [
      "after encoding, shape is: (356255, 237)\n",
      "before encoding, shape is: (356255, 237)\n"
     ]
    },
    {
     "name": "stderr",
     "output_type": "stream",
     "text": [
      "\r",
      " 51%|█████▏    | 19/37 [00:30<00:28,  1.61s/it]"
     ]
    },
    {
     "name": "stdout",
     "output_type": "stream",
     "text": [
      "after encoding, shape is: (356255, 238)\n",
      "before encoding, shape is: (356255, 238)\n"
     ]
    },
    {
     "name": "stderr",
     "output_type": "stream",
     "text": [
      "\r",
      " 54%|█████▍    | 20/37 [00:31<00:26,  1.57s/it]"
     ]
    },
    {
     "name": "stdout",
     "output_type": "stream",
     "text": [
      "after encoding, shape is: (356255, 239)\n",
      "before encoding, shape is: (356255, 239)\n"
     ]
    },
    {
     "name": "stderr",
     "output_type": "stream",
     "text": [
      "\r",
      " 57%|█████▋    | 21/37 [00:32<00:24,  1.54s/it]"
     ]
    },
    {
     "name": "stdout",
     "output_type": "stream",
     "text": [
      "after encoding, shape is: (356255, 240)\n",
      "before encoding, shape is: (356255, 240)\n"
     ]
    },
    {
     "name": "stderr",
     "output_type": "stream",
     "text": [
      "\r",
      " 59%|█████▉    | 22/37 [00:37<00:25,  1.70s/it]"
     ]
    },
    {
     "name": "stdout",
     "output_type": "stream",
     "text": [
      "after encoding, shape is: (356255, 270)\n",
      "before encoding, shape is: (356255, 270)\n"
     ]
    },
    {
     "name": "stderr",
     "output_type": "stream",
     "text": [
      "\r",
      " 62%|██████▏   | 23/37 [00:38<00:23,  1.67s/it]"
     ]
    },
    {
     "name": "stdout",
     "output_type": "stream",
     "text": [
      "after encoding, shape is: (356255, 271)\n",
      "before encoding, shape is: (356255, 271)\n"
     ]
    },
    {
     "name": "stderr",
     "output_type": "stream",
     "text": [
      "\r",
      " 65%|██████▍   | 24/37 [00:39<00:21,  1.64s/it]"
     ]
    },
    {
     "name": "stdout",
     "output_type": "stream",
     "text": [
      "after encoding, shape is: (356255, 272)\n",
      "before encoding, shape is: (356255, 272)\n"
     ]
    },
    {
     "name": "stderr",
     "output_type": "stream",
     "text": [
      "\r",
      " 68%|██████▊   | 25/37 [00:43<00:20,  1.74s/it]"
     ]
    },
    {
     "name": "stdout",
     "output_type": "stream",
     "text": [
      "after encoding, shape is: (356255, 294)\n",
      "before encoding, shape is: (356255, 294)\n"
     ]
    },
    {
     "name": "stderr",
     "output_type": "stream",
     "text": [
      "\r",
      " 70%|███████   | 26/37 [00:44<00:18,  1.71s/it]"
     ]
    },
    {
     "name": "stdout",
     "output_type": "stream",
     "text": [
      "after encoding, shape is: (356255, 295)\n",
      "before encoding, shape is: (356255, 295)\n"
     ]
    },
    {
     "name": "stderr",
     "output_type": "stream",
     "text": [
      "\r",
      " 73%|███████▎  | 27/37 [00:49<00:18,  1.83s/it]"
     ]
    },
    {
     "name": "stdout",
     "output_type": "stream",
     "text": [
      "after encoding, shape is: (356255, 319)\n",
      "before encoding, shape is: (356255, 319)\n"
     ]
    },
    {
     "name": "stderr",
     "output_type": "stream",
     "text": [
      "\r",
      " 76%|███████▌  | 28/37 [00:55<00:17,  2.00s/it]"
     ]
    },
    {
     "name": "stdout",
     "output_type": "stream",
     "text": [
      "after encoding, shape is: (356255, 350)\n",
      "before encoding, shape is: (356255, 350)\n"
     ]
    },
    {
     "name": "stderr",
     "output_type": "stream",
     "text": [
      "\r",
      " 78%|███████▊  | 29/37 [01:07<00:18,  2.32s/it]"
     ]
    },
    {
     "name": "stdout",
     "output_type": "stream",
     "text": [
      "after encoding, shape is: (356255, 401)\n",
      "before encoding, shape is: (356255, 401)\n"
     ]
    },
    {
     "name": "stderr",
     "output_type": "stream",
     "text": [
      "\r",
      " 81%|████████  | 30/37 [01:08<00:15,  2.28s/it]"
     ]
    },
    {
     "name": "stdout",
     "output_type": "stream",
     "text": [
      "after encoding, shape is: (356255, 402)\n",
      "before encoding, shape is: (356255, 402)\n"
     ]
    },
    {
     "name": "stderr",
     "output_type": "stream",
     "text": [
      "\r",
      " 84%|████████▍ | 31/37 [01:17<00:15,  2.51s/it]"
     ]
    },
    {
     "name": "stdout",
     "output_type": "stream",
     "text": [
      "after encoding, shape is: (356255, 439)\n",
      "before encoding, shape is: (356255, 439)\n"
     ]
    },
    {
     "name": "stderr",
     "output_type": "stream",
     "text": [
      "\r",
      " 86%|████████▋ | 32/37 [01:18<00:12,  2.47s/it]"
     ]
    },
    {
     "name": "stdout",
     "output_type": "stream",
     "text": [
      "after encoding, shape is: (356255, 440)\n",
      "before encoding, shape is: (356255, 440)\n"
     ]
    },
    {
     "name": "stderr",
     "output_type": "stream",
     "text": [
      "\r",
      " 89%|████████▉ | 33/37 [01:21<00:09,  2.47s/it]"
     ]
    },
    {
     "name": "stdout",
     "output_type": "stream",
     "text": [
      "after encoding, shape is: (356255, 447)\n",
      "before encoding, shape is: (356255, 447)\n"
     ]
    },
    {
     "name": "stderr",
     "output_type": "stream",
     "text": [
      "\r",
      " 92%|█████████▏| 34/37 [01:22<00:07,  2.43s/it]"
     ]
    },
    {
     "name": "stdout",
     "output_type": "stream",
     "text": [
      "after encoding, shape is: (356255, 448)\n",
      "before encoding, shape is: (356255, 448)\n"
     ]
    },
    {
     "name": "stderr",
     "output_type": "stream",
     "text": [
      "\r",
      " 95%|█████████▍| 35/37 [01:24<00:04,  2.43s/it]"
     ]
    },
    {
     "name": "stdout",
     "output_type": "stream",
     "text": [
      "after encoding, shape is: (356255, 453)\n",
      "before encoding, shape is: (356255, 453)\n"
     ]
    },
    {
     "name": "stderr",
     "output_type": "stream",
     "text": [
      "\r",
      " 97%|█████████▋| 36/37 [01:27<00:02,  2.42s/it]"
     ]
    },
    {
     "name": "stdout",
     "output_type": "stream",
     "text": [
      "after encoding, shape is: (356255, 458)\n",
      "before encoding, shape is: (356255, 458)\n"
     ]
    },
    {
     "name": "stderr",
     "output_type": "stream",
     "text": [
      "\r",
      "100%|██████████| 37/37 [01:29<00:00,  2.41s/it]"
     ]
    },
    {
     "name": "stdout",
     "output_type": "stream",
     "text": [
      "after encoding, shape is: (356255, 463)\n"
     ]
    },
    {
     "name": "stderr",
     "output_type": "stream",
     "text": [
      "\n"
     ]
    }
   ],
   "source": [
    "X_one_hot = X[categorical_col].copy()\n",
    "for col in tqdm(categorical_col):\n",
    "    X_one_hot,new_col = one_hot_encoding(X_one_hot,col,col)\n",
    "X_one_hot = X_one_hot.values    "
   ]
  },
  {
   "cell_type": "code",
   "execution_count": 98,
   "metadata": {
    "ExecuteTime": {
     "end_time": "2018-08-19T15:12:29.702524Z",
     "start_time": "2018-08-19T15:12:17.126717Z"
    }
   },
   "outputs": [],
   "source": [
    "X_one_hot = qt.fit_transform(X_one_hot)"
   ]
  },
  {
   "cell_type": "code",
   "execution_count": 99,
   "metadata": {
    "ExecuteTime": {
     "end_time": "2018-08-19T15:12:32.718335Z",
     "start_time": "2018-08-19T15:12:32.679651Z"
    }
   },
   "outputs": [],
   "source": [
    "x_num_train = X_num[:307511]\n",
    "x_num_test = X_num[307511:]\n",
    "x_cal_train = X_cal[:307511]\n",
    "x_cal_test = X_cal[307511:]\n",
    "x_onehot_train = X_one_hot[:307511]\n",
    "x_onehot_test = X_one_hot[307511:]\n",
    "y_train = X_train.TARGET.values"
   ]
  },
  {
   "cell_type": "code",
   "execution_count": 50,
   "metadata": {
    "ExecuteTime": {
     "end_time": "2018-08-19T14:43:14.420948Z",
     "start_time": "2018-08-19T14:43:14.418849Z"
    },
    "scrolled": true
   },
   "outputs": [],
   "source": [
    "dim_main_numeric = x_num_train.shape[1]\n",
    "dim_main_cal = x_cal_train.shape[1]\n",
    "dim_main_onehot = x_onehot_train.shape[1]\n",
    "main_ebd_size = 300"
   ]
  },
  {
   "cell_type": "markdown",
   "metadata": {},
   "source": [
    "# Create NN"
   ]
  },
  {
   "cell_type": "code",
   "execution_count": 10,
   "metadata": {
    "ExecuteTime": {
     "end_time": "2018-08-19T05:22:41.845688Z",
     "start_time": "2018-08-19T05:22:41.844137Z"
    }
   },
   "outputs": [],
   "source": [
    "# model = get_NN_model()\n",
    "# model.summary()"
   ]
  },
  {
   "cell_type": "code",
   "execution_count": 118,
   "metadata": {
    "ExecuteTime": {
     "end_time": "2018-08-19T15:23:37.134790Z",
     "start_time": "2018-08-19T15:23:37.102650Z"
    }
   },
   "outputs": [],
   "source": [
    "def get_NN_model():\n",
    "    main_numeric_input = Input(shape=(dim_main_numeric, ),name='main_numerical')\n",
    "    main_cal_sequence = Input(shape=(dim_main_cal, ),name = 'main_categorical')\n",
    "    main_onehot_input = Input(shape=(dim_main_onehot, ),name = 'main_onehot')\n",
    "    x_main_cat = Embedding(num_words_main, main_ebd_size, trainable = True)(main_cal_sequence)\n",
    "    x_main_cat = SpatialDropout1D(0.5)(x_main_cat)\n",
    "    x_main_cat = Flatten()(x_main_cat)\n",
    "    x_main_nu = BatchNormalization()(main_numeric_input)\n",
    "    x_main_nu = Dense(192,activation='relu')(x_main_nu)\n",
    "    x_main_nu = Dropout(0.5)(x_main_nu)\n",
    "    x_main_oh = Dense(512,activation='relu')(main_onehot_input)\n",
    "    x_main_oh = Dropout(0.5)(x_main_oh)\n",
    "    x = concatenate([x_main_nu, x_main_cat,x_main_oh])\n",
    "    x = Dense(64, activation='relu')(x)\n",
    "    x = Dropout(0.5)(x)\n",
    "    preds = Dense(1, activation=\"sigmoid\")(x)\n",
    "    model = Model([main_numeric_input,main_cal_sequence,main_onehot_input], preds)\n",
    "    model.compile(loss='binary_crossentropy',optimizer=Adam(),metrics=['accuracy'])\n",
    "    \n",
    "    return model\n",
    "\n",
    "class_ratio = 1\n",
    "def train_each_epoch(model,**args):\n",
    "    #######################################\n",
    "    x_num = args['main_numerical']\n",
    "    x_cat = args['main_categorical']\n",
    "    y = args['y']\n",
    "    batch_size = args['batch_size']\n",
    "    \n",
    "    x_onehot = args['main_onehot']\n",
    "    ########################################\n",
    "    x_num,x_cat,y = shuffle(x_num,x_cat,y)\n",
    "    model.fit({'main_numerical': x_num, 'main_categorical': x_cat,'main_onehot':x_onehot}, \n",
    "              y, \n",
    "              batch_size=batch_size, \n",
    "              epochs=1,\n",
    "              verbose=1,\n",
    "              class_weight={0:1,1:class_ratio})\n",
    "    return model\n",
    "\n",
    "def load_model(model,filepath):\n",
    "    model.load_weights(filepath)\n",
    "    return model\n",
    "\n",
    "def save_model(model, filepath):\n",
    "    model.save_weights(filepath)\n",
    "    \n",
    "def train_each_fold(model,**args):\n",
    "    \n",
    "    x_num = args['main_n_train']\n",
    "    x_num_val = args['main_n_val']\n",
    "    x_cat = args['main_c_train']\n",
    "    x_cat_val = args['main_c_val']\n",
    "    y = args['y']\n",
    "    y_val = args['y_val']\n",
    "    filepath = args['filepath']\n",
    "    reportpath = args['reportpath']\n",
    "    predspath = args['predspath']\n",
    "    batch_size = args.get('batch_size',512)\n",
    "    total_epoch = args.get('total_epoch',400)\n",
    "    patience = args.get('patience',5)\n",
    "    saving = args.get('saving',True)\n",
    "    \n",
    "    x_onehot = args['main_oh_train']\n",
    "    x_onehot_val = args['main_oh_val']\n",
    "    \n",
    "    \n",
    "    ROC_AUC_SCORE = []\n",
    "    for epoch in range(total_epoch):  \n",
    "        model = train_each_epoch(model,\n",
    "                                 main_numerical=x_num,\n",
    "                                 main_categorical=x_cat,\n",
    "                                 y=y,\n",
    "                                 main_onehot = x_onehot,\n",
    "                                 batch_size=batch_size)\n",
    "        y_pred = model.predict({'main_numerical':x_num_val,\n",
    "                                'main_categorical':x_cat_val,\n",
    "                                'main_onehot':x_onehot_val},\n",
    "                               batch_size=3000,\n",
    "                               verbose=1)\n",
    "        score = roc_auc_score(y_val,y_pred)\n",
    "        logloss = log_loss(y_val,y_pred)\n",
    "        if len(ROC_AUC_SCORE) == 0:\n",
    "            if saving:\n",
    "                save_model(model,filepath)\n",
    "            best_score = 0 \n",
    "            if saving:\n",
    "                print('saving preds...')\n",
    "                pickle.dump(y_pred,open(predspath,'wb'))\n",
    "        else:\n",
    "            best_score = max(ROC_AUC_SCORE)\n",
    "            if score >= best_score:\n",
    "                if saving:\n",
    "                    print('saving model to... {}'.format(filepath))\n",
    "                    save_model(model,filepath)\n",
    "                    print('saving preds...')\n",
    "                    pickle.dump(y_pred,open(predspath,'wb'))\n",
    "        ROC_AUC_SCORE.append(score)\n",
    "        if saving:\n",
    "            print('saving report to... {}'.format(reportpath))\n",
    "            pickle.dump(ROC_AUC_SCORE,open(reportpath,'wb'))\n",
    "        print('======= current {} / {}'.format(epoch,total_epoch))\n",
    "        print('previous best roc is {}'.format(best_score))\n",
    "        print('current roc is {}'.format(score))\n",
    "        print('current loss is {}'.format(logloss))\n",
    "        try:\n",
    "            best_round = ROC_AUC_SCORE.index(best_score)\n",
    "        except ValueError:\n",
    "            best_round = -1\n",
    "        if len(ROC_AUC_SCORE) > patience + best_round:\n",
    "            print('reach patience! end loop')\n",
    "            break\n",
    "            \n",
    "def train_5_folds(**args):\n",
    "    \n",
    "    filepath = args['filepath']\n",
    "    reportpath = args['reportpath']\n",
    "    predspath = args['predspath']\n",
    "    pred_test_file = args['predspath_test']\n",
    "    batch_size = args.get('batch_size',512)\n",
    "    total_epoch = args.get('total_epoch',400)\n",
    "    patience = args.get('patience',5)\n",
    "    saving = args.get('saving',True)\n",
    "    \n",
    "    train_fold_index = pickle.load(open(ENV.train_fold_index.value,'rb'))\n",
    "    val_fold_index = pickle.load(open(ENV.val_fold_index.value,'rb'))\n",
    "\n",
    "    for fold in range(0,len(train_fold_index)):\n",
    "        print('!!!!!!!! Begin fold: {}'.format(fold))\n",
    "        train_index = train_fold_index[fold]\n",
    "        val_index = val_fold_index[fold]\n",
    "        X_tra_nu = x_num_train[train_index]\n",
    "        X_tra_cat = x_cal_train[train_index]\n",
    "        X_val_nu = x_num_train[val_index]\n",
    "        X_val_cat = x_cal_train[val_index]\n",
    "        y_tra = y_train[train_index]\n",
    "        y_val = y_train[val_index]\n",
    "        \n",
    "        x_tra_oh = x_onehot_train[train_index]\n",
    "        x_val_oh = x_onehot_train[val_index]\n",
    "        print('preparing train/val done!')\n",
    "        print('before evaluating: {}'.format(model_file))\n",
    "        model_file_evl = filepath.format(fold)\n",
    "        report_file_evl = reportpath.format(fold)\n",
    "        pred_file_evl = predspath.format(fold)\n",
    "        pred_test_file_evl = pred_test_file.format(fold)\n",
    "        model = get_NN_model()\n",
    "        train_each_fold(model,\n",
    "                main_n_train=X_tra_nu,\n",
    "                main_n_val=X_val_nu,\n",
    "                main_c_train=X_tra_cat,\n",
    "                main_c_val=X_val_cat,\n",
    "                y=y_tra,\n",
    "                y_val=y_val,\n",
    "                filepath=model_file_evl,\n",
    "                reportpath=report_file_evl,\n",
    "                predspath=pred_file_evl,\n",
    "                batch_size=batch_size,\n",
    "                total_epoch=total_epoch,\n",
    "                patience=patience,\n",
    "                saving=saving,\n",
    "                main_oh_train=x_tra_oh,\n",
    "                main_oh_val=x_val_oh)\n",
    "        gc.collect()\n",
    "        #### predict test\n",
    "        model = load_model(model,model_file_evl)\n",
    "        test_preds = model.predict({'main_numerical':x_num_test,\n",
    "                                'main_categorical':x_cal_test,\n",
    "                                    'main_onehot':x_onehot_test},batch_size=1500,verbose=1)\n",
    "        pickle.dump(test_preds,open(pred_test_file_evl,'wb'))\n",
    "        print('\\n')\n"
   ]
  },
  {
   "cell_type": "code",
   "execution_count": 119,
   "metadata": {
    "ExecuteTime": {
     "end_time": "2018-08-19T15:23:40.238881Z",
     "start_time": "2018-08-19T15:23:40.137469Z"
    }
   },
   "outputs": [
    {
     "name": "stdout",
     "output_type": "stream",
     "text": [
      "__________________________________________________________________________________________________\n",
      "Layer (type)                    Output Shape         Param #     Connected to                     \n",
      "==================================================================================================\n",
      "main_numerical (InputLayer)     (None, 725)          0                                            \n",
      "__________________________________________________________________________________________________\n",
      "main_categorical (InputLayer)   (None, 37)           0                                            \n",
      "__________________________________________________________________________________________________\n",
      "batch_normalization_52 (BatchNo (None, 725)          2900        main_numerical[0][0]             \n",
      "__________________________________________________________________________________________________\n",
      "embedding_52 (Embedding)        (None, 37, 300)      138900      main_categorical[0][0]           \n",
      "__________________________________________________________________________________________________\n",
      "main_onehot (InputLayer)        (None, 463)          0                                            \n",
      "__________________________________________________________________________________________________\n",
      "dense_197 (Dense)               (None, 192)          139392      batch_normalization_52[0][0]     \n",
      "__________________________________________________________________________________________________\n",
      "spatial_dropout1d_52 (SpatialDr (None, 37, 300)      0           embedding_52[0][0]               \n",
      "__________________________________________________________________________________________________\n",
      "dense_198 (Dense)               (None, 512)          237568      main_onehot[0][0]                \n",
      "__________________________________________________________________________________________________\n",
      "dropout_146 (Dropout)           (None, 192)          0           dense_197[0][0]                  \n",
      "__________________________________________________________________________________________________\n",
      "flatten_52 (Flatten)            (None, 11100)        0           spatial_dropout1d_52[0][0]       \n",
      "__________________________________________________________________________________________________\n",
      "dropout_147 (Dropout)           (None, 512)          0           dense_198[0][0]                  \n",
      "__________________________________________________________________________________________________\n",
      "concatenate_54 (Concatenate)    (None, 11804)        0           dropout_146[0][0]                \n",
      "                                                                 flatten_52[0][0]                 \n",
      "                                                                 dropout_147[0][0]                \n",
      "__________________________________________________________________________________________________\n",
      "dense_199 (Dense)               (None, 64)           755520      concatenate_54[0][0]             \n",
      "__________________________________________________________________________________________________\n",
      "dropout_148 (Dropout)           (None, 64)           0           dense_199[0][0]                  \n",
      "__________________________________________________________________________________________________\n",
      "dense_200 (Dense)               (None, 1)            65          dropout_148[0][0]                \n",
      "==================================================================================================\n",
      "Total params: 1,274,345\n",
      "Trainable params: 1,272,895\n",
      "Non-trainable params: 1,450\n",
      "__________________________________________________________________________________________________\n"
     ]
    }
   ],
   "source": [
    "model = get_NN_model()\n",
    "model.summary()"
   ]
  },
  {
   "cell_type": "code",
   "execution_count": 122,
   "metadata": {
    "ExecuteTime": {
     "end_time": "2018-08-19T15:41:31.948787Z",
     "start_time": "2018-08-19T15:26:16.275442Z"
    }
   },
   "outputs": [
    {
     "name": "stdout",
     "output_type": "stream",
     "text": [
      "!!!!!!!! Begin fold: 0\n",
      "preparing train/val done!\n",
      "before evaluating: ../LIB/../../data/rnn/main_plain/fold_{}.hdf5\n",
      "Epoch 1/1\n",
      "246008/246008 [==============================] - 7s 30us/step - loss: 0.2676 - acc: 0.9185\n",
      "61503/61503 [==============================] - 1s 19us/step\n",
      "saving preds...\n",
      "saving report to... ../LIB/../../data/rnn/main_plain/report_fold_0.pkl\n",
      "======= current 0 / 100\n",
      "previous best roc is 0\n",
      "current roc is 0.7782676247195137\n",
      "current loss is 0.2392155477475563\n",
      "Epoch 1/1\n",
      "246008/246008 [==============================] - 6s 23us/step - loss: 0.2499 - acc: 0.9191\n",
      "61503/61503 [==============================] - 0s 7us/step\n",
      "saving model to... ../LIB/../../data/rnn/main_plain/fold_0.hdf5\n",
      "saving preds...\n",
      "saving report to... ../LIB/../../data/rnn/main_plain/report_fold_0.pkl\n",
      "======= current 1 / 100\n",
      "previous best roc is 0.7782676247195137\n",
      "current roc is 0.7824369623416795\n",
      "current loss is 0.23842548762824753\n",
      "Epoch 1/1\n",
      "246008/246008 [==============================] - 6s 23us/step - loss: 0.2460 - acc: 0.9191\n",
      "61503/61503 [==============================] - 0s 7us/step\n",
      "saving report to... ../LIB/../../data/rnn/main_plain/report_fold_0.pkl\n",
      "======= current 2 / 100\n",
      "previous best roc is 0.7824369623416795\n",
      "current roc is 0.7812728782761648\n",
      "current loss is 0.23836610744999823\n",
      "Epoch 1/1\n",
      "246008/246008 [==============================] - 6s 23us/step - loss: 0.2432 - acc: 0.9192\n",
      "61503/61503 [==============================] - 0s 7us/step\n",
      "saving model to... ../LIB/../../data/rnn/main_plain/fold_0.hdf5\n",
      "saving preds...\n",
      "saving report to... ../LIB/../../data/rnn/main_plain/report_fold_0.pkl\n",
      "======= current 3 / 100\n",
      "previous best roc is 0.7824369623416795\n",
      "current roc is 0.7832360969234037\n",
      "current loss is 0.2371014741072455\n",
      "Epoch 1/1\n",
      "246008/246008 [==============================] - 6s 23us/step - loss: 0.2409 - acc: 0.9193\n",
      "61503/61503 [==============================] - 0s 7us/step\n",
      "saving model to... ../LIB/../../data/rnn/main_plain/fold_0.hdf5\n",
      "saving preds...\n",
      "saving report to... ../LIB/../../data/rnn/main_plain/report_fold_0.pkl\n",
      "======= current 4 / 100\n",
      "previous best roc is 0.7832360969234037\n",
      "current roc is 0.7850386762486299\n",
      "current loss is 0.23672861346255636\n",
      "Epoch 1/1\n",
      "246008/246008 [==============================] - 6s 23us/step - loss: 0.2393 - acc: 0.9196\n",
      "61503/61503 [==============================] - 0s 7us/step\n",
      "saving report to... ../LIB/../../data/rnn/main_plain/report_fold_0.pkl\n",
      "======= current 5 / 100\n",
      "previous best roc is 0.7850386762486299\n",
      "current roc is 0.7847465545391419\n",
      "current loss is 0.23724130238643948\n",
      "Epoch 1/1\n",
      "246008/246008 [==============================] - 6s 23us/step - loss: 0.2378 - acc: 0.9198\n",
      "61503/61503 [==============================] - 0s 7us/step\n",
      "saving report to... ../LIB/../../data/rnn/main_plain/report_fold_0.pkl\n",
      "======= current 6 / 100\n",
      "previous best roc is 0.7850386762486299\n",
      "current roc is 0.7847183498946921\n",
      "current loss is 0.23696162106042562\n",
      "Epoch 1/1\n",
      "246008/246008 [==============================] - 6s 23us/step - loss: 0.2362 - acc: 0.9198\n",
      "61503/61503 [==============================] - 0s 7us/step\n",
      "saving report to... ../LIB/../../data/rnn/main_plain/report_fold_0.pkl\n",
      "======= current 7 / 100\n",
      "previous best roc is 0.7850386762486299\n",
      "current roc is 0.7818256477007305\n",
      "current loss is 0.2377776365193039\n",
      "Epoch 1/1\n",
      "246008/246008 [==============================] - 6s 23us/step - loss: 0.2350 - acc: 0.9199\n",
      "61503/61503 [==============================] - 0s 7us/step\n",
      "saving report to... ../LIB/../../data/rnn/main_plain/report_fold_0.pkl\n",
      "======= current 8 / 100\n",
      "previous best roc is 0.7850386762486299\n",
      "current roc is 0.7832508170684817\n",
      "current loss is 0.237193409012682\n",
      "Epoch 1/1\n",
      "246008/246008 [==============================] - 6s 23us/step - loss: 0.2329 - acc: 0.9201\n",
      "61503/61503 [==============================] - 0s 7us/step\n",
      "saving report to... ../LIB/../../data/rnn/main_plain/report_fold_0.pkl\n",
      "======= current 9 / 100\n",
      "previous best roc is 0.7850386762486299\n",
      "current roc is 0.7835073077055512\n",
      "current loss is 0.2374574014211095\n",
      "Epoch 1/1\n",
      "246008/246008 [==============================] - 6s 23us/step - loss: 0.2314 - acc: 0.9202\n",
      "61503/61503 [==============================] - 0s 7us/step\n",
      "saving report to... ../LIB/../../data/rnn/main_plain/report_fold_0.pkl\n",
      "======= current 10 / 100\n",
      "previous best roc is 0.7850386762486299\n",
      "current roc is 0.7791311904235844\n",
      "current loss is 0.24293668447705355\n",
      "Epoch 1/1\n",
      "246008/246008 [==============================] - 6s 23us/step - loss: 0.2292 - acc: 0.9203\n",
      "61503/61503 [==============================] - 0s 7us/step\n",
      "saving report to... ../LIB/../../data/rnn/main_plain/report_fold_0.pkl\n",
      "======= current 11 / 100\n",
      "previous best roc is 0.7850386762486299\n",
      "current roc is 0.7802737609827203\n",
      "current loss is 0.23845232226406815\n",
      "Epoch 1/1\n",
      "246008/246008 [==============================] - 6s 23us/step - loss: 0.2277 - acc: 0.9206\n",
      "61503/61503 [==============================] - 0s 7us/step\n",
      "saving report to... ../LIB/../../data/rnn/main_plain/report_fold_0.pkl\n",
      "======= current 12 / 100\n",
      "previous best roc is 0.7850386762486299\n",
      "current roc is 0.7784132479870991\n",
      "current loss is 0.24009838832778585\n",
      "Epoch 1/1\n",
      "246008/246008 [==============================] - 6s 23us/step - loss: 0.2262 - acc: 0.9206\n",
      "61503/61503 [==============================] - 0s 7us/step\n",
      "saving report to... ../LIB/../../data/rnn/main_plain/report_fold_0.pkl\n",
      "======= current 13 / 100\n",
      "previous best roc is 0.7850386762486299\n",
      "current roc is 0.777755966967191\n",
      "current loss is 0.2398506338333556\n",
      "Epoch 1/1\n",
      "246008/246008 [==============================] - 6s 23us/step - loss: 0.2241 - acc: 0.9215\n",
      "61503/61503 [==============================] - 0s 6us/step\n",
      "saving report to... ../LIB/../../data/rnn/main_plain/report_fold_0.pkl\n",
      "======= current 14 / 100\n",
      "previous best roc is 0.7850386762486299\n",
      "current roc is 0.7773391024298283\n",
      "current loss is 0.24103566164645707\n",
      "Epoch 1/1\n",
      "246008/246008 [==============================] - 6s 23us/step - loss: 0.2230 - acc: 0.9214\n",
      "61503/61503 [==============================] - 0s 7us/step\n",
      "saving report to... ../LIB/../../data/rnn/main_plain/report_fold_0.pkl\n",
      "======= current 15 / 100\n",
      "previous best roc is 0.7850386762486299\n",
      "current roc is 0.7761610209554036\n",
      "current loss is 0.24151613583509707\n",
      "Epoch 1/1\n",
      "246008/246008 [==============================] - 6s 23us/step - loss: 0.2201 - acc: 0.9217\n",
      "61503/61503 [==============================] - 0s 7us/step\n",
      "saving report to... ../LIB/../../data/rnn/main_plain/report_fold_0.pkl\n",
      "======= current 16 / 100\n",
      "previous best roc is 0.7850386762486299\n",
      "current roc is 0.7730557518321272\n",
      "current loss is 0.2424513700669223\n",
      "Epoch 1/1\n",
      "246008/246008 [==============================] - 6s 23us/step - loss: 0.2195 - acc: 0.9218\n",
      "61503/61503 [==============================] - 0s 7us/step\n",
      "saving report to... ../LIB/../../data/rnn/main_plain/report_fold_0.pkl\n",
      "======= current 17 / 100\n",
      "previous best roc is 0.7850386762486299\n",
      "current roc is 0.7738287065067059\n",
      "current loss is 0.24221197540096262\n",
      "Epoch 1/1\n",
      "246008/246008 [==============================] - 6s 23us/step - loss: 0.2168 - acc: 0.9224\n",
      "61503/61503 [==============================] - 0s 7us/step\n",
      "saving report to... ../LIB/../../data/rnn/main_plain/report_fold_0.pkl\n",
      "======= current 18 / 100\n",
      "previous best roc is 0.7850386762486299\n",
      "current roc is 0.7716305896379361\n",
      "current loss is 0.24352943143114106\n",
      "Epoch 1/1\n",
      "246008/246008 [==============================] - 6s 23us/step - loss: 0.2156 - acc: 0.9227\n",
      "61503/61503 [==============================] - 0s 7us/step\n",
      "saving report to... ../LIB/../../data/rnn/main_plain/report_fold_0.pkl\n",
      "======= current 19 / 100\n",
      "previous best roc is 0.7850386762486299\n",
      "current roc is 0.770717002700128\n",
      "current loss is 0.24527323543724652\n",
      "Epoch 1/1\n",
      "246008/246008 [==============================] - 6s 23us/step - loss: 0.2131 - acc: 0.9229\n",
      "61503/61503 [==============================] - 0s 7us/step\n",
      "saving report to... ../LIB/../../data/rnn/main_plain/report_fold_0.pkl\n",
      "======= current 20 / 100\n",
      "previous best roc is 0.7850386762486299\n",
      "current roc is 0.7691385504961235\n",
      "current loss is 0.24544422414945105\n",
      "Epoch 1/1\n",
      "246008/246008 [==============================] - 6s 23us/step - loss: 0.2111 - acc: 0.9232\n",
      "61503/61503 [==============================] - 0s 7us/step\n",
      "saving report to... ../LIB/../../data/rnn/main_plain/report_fold_0.pkl\n",
      "======= current 21 / 100\n",
      "previous best roc is 0.7850386762486299\n",
      "current roc is 0.765790698475188\n",
      "current loss is 0.2452451582098631\n"
     ]
    },
    {
     "name": "stdout",
     "output_type": "stream",
     "text": [
      "Epoch 1/1\n",
      "246008/246008 [==============================] - 6s 23us/step - loss: 0.2098 - acc: 0.9234\n",
      "61503/61503 [==============================] - 0s 7us/step\n",
      "saving report to... ../LIB/../../data/rnn/main_plain/report_fold_0.pkl\n",
      "======= current 22 / 100\n",
      "previous best roc is 0.7850386762486299\n",
      "current roc is 0.7662898527124664\n",
      "current loss is 0.24762594171224\n",
      "Epoch 1/1\n",
      "246008/246008 [==============================] - 6s 23us/step - loss: 0.2080 - acc: 0.9241\n",
      "61503/61503 [==============================] - 0s 7us/step\n",
      "saving report to... ../LIB/../../data/rnn/main_plain/report_fold_0.pkl\n",
      "======= current 23 / 100\n",
      "previous best roc is 0.7850386762486299\n",
      "current roc is 0.765704701838153\n",
      "current loss is 0.24902375906708435\n",
      "Epoch 1/1\n",
      "246008/246008 [==============================] - 6s 23us/step - loss: 0.2067 - acc: 0.9239\n",
      "61503/61503 [==============================] - 0s 7us/step\n",
      "saving report to... ../LIB/../../data/rnn/main_plain/report_fold_0.pkl\n",
      "======= current 24 / 100\n",
      "previous best roc is 0.7850386762486299\n",
      "current roc is 0.7636896721539619\n",
      "current loss is 0.25381121342676877\n",
      "reach patience! end loop\n",
      "48744/48744 [==============================] - 0s 9us/step\n",
      "\n",
      "\n",
      "!!!!!!!! Begin fold: 1\n",
      "preparing train/val done!\n",
      "before evaluating: ../LIB/../../data/rnn/main_plain/fold_{}.hdf5\n",
      "Epoch 1/1\n",
      "246009/246009 [==============================] - 8s 31us/step - loss: 0.2675 - acc: 0.9193\n",
      "61502/61502 [==============================] - 1s 19us/step\n",
      "saving preds...\n",
      "saving report to... ../LIB/../../data/rnn/main_plain/report_fold_1.pkl\n",
      "======= current 0 / 100\n",
      "previous best roc is 0\n",
      "current roc is 0.7784339232165707\n",
      "current loss is 0.24476520560643775\n",
      "Epoch 1/1\n",
      "246009/246009 [==============================] - 6s 23us/step - loss: 0.2487 - acc: 0.9198\n",
      "61502/61502 [==============================] - 0s 7us/step\n",
      "saving model to... ../LIB/../../data/rnn/main_plain/fold_1.hdf5\n",
      "saving preds...\n",
      "saving report to... ../LIB/../../data/rnn/main_plain/report_fold_1.pkl\n",
      "======= current 1 / 100\n",
      "previous best roc is 0.7784339232165707\n",
      "current roc is 0.7821734484453767\n",
      "current loss is 0.24456873161329917\n",
      "Epoch 1/1\n",
      "246009/246009 [==============================] - 6s 24us/step - loss: 0.2450 - acc: 0.9198\n",
      "61502/61502 [==============================] - 0s 7us/step\n",
      "saving model to... ../LIB/../../data/rnn/main_plain/fold_1.hdf5\n",
      "saving preds...\n",
      "saving report to... ../LIB/../../data/rnn/main_plain/report_fold_1.pkl\n",
      "======= current 2 / 100\n",
      "previous best roc is 0.7821734484453767\n",
      "current roc is 0.7847140373737462\n",
      "current loss is 0.242795961130584\n",
      "Epoch 1/1\n",
      "246009/246009 [==============================] - 6s 23us/step - loss: 0.2429 - acc: 0.9199\n",
      "61502/61502 [==============================] - 0s 7us/step\n",
      "saving model to... ../LIB/../../data/rnn/main_plain/fold_1.hdf5\n",
      "saving preds...\n",
      "saving report to... ../LIB/../../data/rnn/main_plain/report_fold_1.pkl\n",
      "======= current 3 / 100\n",
      "previous best roc is 0.7847140373737462\n",
      "current roc is 0.7862890783778861\n",
      "current loss is 0.2452942334360965\n",
      "Epoch 1/1\n",
      "246009/246009 [==============================] - 6s 23us/step - loss: 0.2401 - acc: 0.9199\n",
      "61502/61502 [==============================] - 0s 7us/step\n",
      "saving report to... ../LIB/../../data/rnn/main_plain/report_fold_1.pkl\n",
      "======= current 4 / 100\n",
      "previous best roc is 0.7862890783778861\n",
      "current roc is 0.7850164523118954\n",
      "current loss is 0.2424080476800937\n",
      "Epoch 1/1\n",
      "246009/246009 [==============================] - 6s 23us/step - loss: 0.2379 - acc: 0.9203\n",
      "61502/61502 [==============================] - 0s 7us/step\n",
      "saving report to... ../LIB/../../data/rnn/main_plain/report_fold_1.pkl\n",
      "======= current 5 / 100\n",
      "previous best roc is 0.7862890783778861\n",
      "current roc is 0.786145804625976\n",
      "current loss is 0.2420086412042728\n",
      "Epoch 1/1\n",
      "246009/246009 [==============================] - 6s 23us/step - loss: 0.2367 - acc: 0.9202\n",
      "61502/61502 [==============================] - 0s 7us/step\n",
      "saving report to... ../LIB/../../data/rnn/main_plain/report_fold_1.pkl\n",
      "======= current 6 / 100\n",
      "previous best roc is 0.7862890783778861\n",
      "current roc is 0.7860350844598324\n",
      "current loss is 0.2418970103898193\n",
      "Epoch 1/1\n",
      "246009/246009 [==============================] - 6s 23us/step - loss: 0.2350 - acc: 0.9204\n",
      "61502/61502 [==============================] - 0s 7us/step\n",
      "saving report to... ../LIB/../../data/rnn/main_plain/report_fold_1.pkl\n",
      "======= current 7 / 100\n",
      "previous best roc is 0.7862890783778861\n",
      "current roc is 0.7853328760223441\n",
      "current loss is 0.24236708167825846\n",
      "Epoch 1/1\n",
      "246009/246009 [==============================] - 6s 24us/step - loss: 0.2333 - acc: 0.9206\n",
      "61502/61502 [==============================] - 0s 7us/step\n",
      "saving report to... ../LIB/../../data/rnn/main_plain/report_fold_1.pkl\n",
      "======= current 8 / 100\n",
      "previous best roc is 0.7862890783778861\n",
      "current roc is 0.7850656258549495\n",
      "current loss is 0.24353949036236375\n",
      "Epoch 1/1\n",
      "246009/246009 [==============================] - 6s 23us/step - loss: 0.2321 - acc: 0.9204\n",
      "61502/61502 [==============================] - 0s 7us/step\n",
      "saving report to... ../LIB/../../data/rnn/main_plain/report_fold_1.pkl\n",
      "======= current 9 / 100\n",
      "previous best roc is 0.7862890783778861\n",
      "current roc is 0.7852476702167914\n",
      "current loss is 0.24407328470176426\n",
      "Epoch 1/1\n",
      "246009/246009 [==============================] - 6s 23us/step - loss: 0.2306 - acc: 0.9207\n",
      "61502/61502 [==============================] - 0s 7us/step\n",
      "saving report to... ../LIB/../../data/rnn/main_plain/report_fold_1.pkl\n",
      "======= current 10 / 100\n",
      "previous best roc is 0.7862890783778861\n",
      "current roc is 0.7835668858013523\n",
      "current loss is 0.24300246666631345\n",
      "Epoch 1/1\n",
      "246009/246009 [==============================] - 6s 23us/step - loss: 0.2290 - acc: 0.9209\n",
      "61502/61502 [==============================] - 0s 7us/step\n",
      "saving report to... ../LIB/../../data/rnn/main_plain/report_fold_1.pkl\n",
      "======= current 11 / 100\n",
      "previous best roc is 0.7862890783778861\n",
      "current roc is 0.7833160639766035\n",
      "current loss is 0.24457002016744314\n",
      "Epoch 1/1\n",
      "246009/246009 [==============================] - 6s 23us/step - loss: 0.2269 - acc: 0.9213\n",
      "61502/61502 [==============================] - 0s 7us/step\n",
      "saving report to... ../LIB/../../data/rnn/main_plain/report_fold_1.pkl\n",
      "======= current 12 / 100\n",
      "previous best roc is 0.7862890783778861\n",
      "current roc is 0.7816847335583768\n",
      "current loss is 0.24492556513177194\n",
      "Epoch 1/1\n",
      "246009/246009 [==============================] - 6s 24us/step - loss: 0.2254 - acc: 0.9214\n",
      "61502/61502 [==============================] - 0s 7us/step\n",
      "saving report to... ../LIB/../../data/rnn/main_plain/report_fold_1.pkl\n",
      "======= current 13 / 100\n",
      "previous best roc is 0.7862890783778861\n",
      "current roc is 0.7795087663907861\n",
      "current loss is 0.2445251096076126\n",
      "Epoch 1/1\n",
      "246009/246009 [==============================] - 6s 23us/step - loss: 0.2230 - acc: 0.9217\n",
      "61502/61502 [==============================] - 0s 6us/step\n",
      "saving report to... ../LIB/../../data/rnn/main_plain/report_fold_1.pkl\n",
      "======= current 14 / 100\n",
      "previous best roc is 0.7862890783778861\n",
      "current roc is 0.7783945028588068\n",
      "current loss is 0.2453443525800326\n",
      "Epoch 1/1\n",
      "246009/246009 [==============================] - 6s 23us/step - loss: 0.2207 - acc: 0.9220\n",
      "61502/61502 [==============================] - 0s 7us/step\n",
      "saving report to... ../LIB/../../data/rnn/main_plain/report_fold_1.pkl\n",
      "======= current 15 / 100\n",
      "previous best roc is 0.7862890783778861\n",
      "current roc is 0.7773569566037289\n",
      "current loss is 0.24708206575595937\n",
      "Epoch 1/1\n",
      "246009/246009 [==============================] - 6s 24us/step - loss: 0.2190 - acc: 0.9222\n",
      "61502/61502 [==============================] - 0s 7us/step\n",
      "saving report to... ../LIB/../../data/rnn/main_plain/report_fold_1.pkl\n",
      "======= current 16 / 100\n",
      "previous best roc is 0.7862890783778861\n",
      "current roc is 0.778434804643925\n",
      "current loss is 0.25145939914396004\n",
      "Epoch 1/1\n",
      "246009/246009 [==============================] - 6s 24us/step - loss: 0.2175 - acc: 0.9226\n",
      "61502/61502 [==============================] - 0s 7us/step\n",
      "saving report to... ../LIB/../../data/rnn/main_plain/report_fold_1.pkl\n",
      "======= current 17 / 100\n",
      "previous best roc is 0.7862890783778861\n",
      "current roc is 0.7757123141937201\n",
      "current loss is 0.24960360593820308\n",
      "Epoch 1/1\n",
      "246009/246009 [==============================] - 6s 24us/step - loss: 0.2150 - acc: 0.9230\n",
      "61502/61502 [==============================] - 0s 7us/step\n",
      "saving report to... ../LIB/../../data/rnn/main_plain/report_fold_1.pkl\n",
      "======= current 18 / 100\n",
      "previous best roc is 0.7862890783778861\n",
      "current roc is 0.7739577354956495\n",
      "current loss is 0.24929163779415842\n",
      "Epoch 1/1\n",
      "246009/246009 [==============================] - 6s 23us/step - loss: 0.2138 - acc: 0.9233\n",
      "61502/61502 [==============================] - 0s 7us/step\n",
      "saving report to... ../LIB/../../data/rnn/main_plain/report_fold_1.pkl\n",
      "======= current 19 / 100\n",
      "previous best roc is 0.7862890783778861\n",
      "current roc is 0.7722032369273384\n",
      "current loss is 0.24938543100222857\n",
      "Epoch 1/1\n",
      "246009/246009 [==============================] - 6s 24us/step - loss: 0.2118 - acc: 0.9239\n",
      "61502/61502 [==============================] - 0s 7us/step\n",
      "saving report to... ../LIB/../../data/rnn/main_plain/report_fold_1.pkl\n",
      "======= current 20 / 100\n",
      "previous best roc is 0.7862890783778861\n",
      "current roc is 0.7729683298065091\n",
      "current loss is 0.24902305107277575\n",
      "Epoch 1/1\n",
      "246009/246009 [==============================] - 6s 23us/step - loss: 0.2101 - acc: 0.9241\n",
      "61502/61502 [==============================] - 0s 7us/step\n",
      "saving report to... ../LIB/../../data/rnn/main_plain/report_fold_1.pkl\n",
      "======= current 21 / 100\n",
      "previous best roc is 0.7862890783778861\n",
      "current roc is 0.7696650066010199\n",
      "current loss is 0.2525755400751559\n",
      "Epoch 1/1\n",
      "246009/246009 [==============================] - 6s 23us/step - loss: 0.2081 - acc: 0.9244\n",
      "61502/61502 [==============================] - 0s 7us/step\n",
      "saving report to... ../LIB/../../data/rnn/main_plain/report_fold_1.pkl\n",
      "======= current 22 / 100\n",
      "previous best roc is 0.7862890783778861\n",
      "current roc is 0.7681634114892529\n",
      "current loss is 0.25324239764384593\n",
      "Epoch 1/1\n",
      "246009/246009 [==============================] - 6s 23us/step - loss: 0.2066 - acc: 0.9248\n",
      "61502/61502 [==============================] - 0s 7us/step\n",
      "saving report to... ../LIB/../../data/rnn/main_plain/report_fold_1.pkl\n",
      "======= current 23 / 100\n",
      "previous best roc is 0.7862890783778861\n",
      "current roc is 0.7650953666771239\n",
      "current loss is 0.25719401042004814\n",
      "reach patience! end loop\n",
      "48744/48744 [==============================] - 0s 9us/step\n",
      "\n",
      "\n",
      "!!!!!!!! Begin fold: 2\n",
      "preparing train/val done!\n",
      "before evaluating: ../LIB/../../data/rnn/main_plain/fold_{}.hdf5\n",
      "Epoch 1/1\n",
      "246009/246009 [==============================] - 8s 31us/step - loss: 0.2675 - acc: 0.9189\n",
      "61502/61502 [==============================] - 1s 20us/step\n",
      "saving preds...\n",
      "saving report to... ../LIB/../../data/rnn/main_plain/report_fold_2.pkl\n",
      "======= current 0 / 100\n",
      "previous best roc is 0\n",
      "current roc is 0.7720617282731342\n",
      "current loss is 0.24328452154447544\n",
      "Epoch 1/1\n",
      "246009/246009 [==============================] - 6s 24us/step - loss: 0.2483 - acc: 0.9194\n",
      "61502/61502 [==============================] - 0s 7us/step\n",
      "saving model to... ../LIB/../../data/rnn/main_plain/fold_2.hdf5\n",
      "saving preds...\n",
      "saving report to... ../LIB/../../data/rnn/main_plain/report_fold_2.pkl\n",
      "======= current 1 / 100\n",
      "previous best roc is 0.7720617282731342\n",
      "current roc is 0.7735233740295107\n",
      "current loss is 0.2427310076508775\n",
      "Epoch 1/1\n",
      "246009/246009 [==============================] - 6s 24us/step - loss: 0.2454 - acc: 0.9195\n",
      "61502/61502 [==============================] - 0s 7us/step\n",
      "saving model to... ../LIB/../../data/rnn/main_plain/fold_2.hdf5\n",
      "saving preds...\n",
      "saving report to... ../LIB/../../data/rnn/main_plain/report_fold_2.pkl\n",
      "======= current 2 / 100\n",
      "previous best roc is 0.7735233740295107\n",
      "current roc is 0.7765488270692427\n",
      "current loss is 0.24181500430650116\n",
      "Epoch 1/1\n",
      "246009/246009 [==============================] - 6s 24us/step - loss: 0.2421 - acc: 0.9196\n",
      "61502/61502 [==============================] - 0s 7us/step\n",
      "saving model to... ../LIB/../../data/rnn/main_plain/fold_2.hdf5\n",
      "saving preds...\n",
      "saving report to... ../LIB/../../data/rnn/main_plain/report_fold_2.pkl\n",
      "======= current 3 / 100\n",
      "previous best roc is 0.7765488270692427\n",
      "current roc is 0.7785651111026162\n",
      "current loss is 0.24070905291094988\n",
      "Epoch 1/1\n",
      "246009/246009 [==============================] - 6s 24us/step - loss: 0.2398 - acc: 0.9200\n",
      "61502/61502 [==============================] - 0s 7us/step\n",
      "saving model to... ../LIB/../../data/rnn/main_plain/fold_2.hdf5\n",
      "saving preds...\n",
      "saving report to... ../LIB/../../data/rnn/main_plain/report_fold_2.pkl\n",
      "======= current 4 / 100\n",
      "previous best roc is 0.7785651111026162\n",
      "current roc is 0.779420891485781\n",
      "current loss is 0.24062434421041154\n",
      "Epoch 1/1\n",
      "246009/246009 [==============================] - 6s 23us/step - loss: 0.2383 - acc: 0.9201\n",
      "61502/61502 [==============================] - 0s 7us/step\n",
      "saving report to... ../LIB/../../data/rnn/main_plain/report_fold_2.pkl\n",
      "======= current 5 / 100\n",
      "previous best roc is 0.779420891485781\n",
      "current roc is 0.7790692033957196\n",
      "current loss is 0.24067063691710044\n",
      "Epoch 1/1\n",
      "246009/246009 [==============================] - 6s 24us/step - loss: 0.2367 - acc: 0.9202\n",
      "61502/61502 [==============================] - 0s 7us/step\n",
      "saving report to... ../LIB/../../data/rnn/main_plain/report_fold_2.pkl\n",
      "======= current 6 / 100\n",
      "previous best roc is 0.779420891485781\n",
      "current roc is 0.7776222512186873\n",
      "current loss is 0.24111263979705935\n",
      "Epoch 1/1\n",
      "246009/246009 [==============================] - 6s 24us/step - loss: 0.2347 - acc: 0.9204\n",
      "61502/61502 [==============================] - 0s 7us/step\n",
      "saving report to... ../LIB/../../data/rnn/main_plain/report_fold_2.pkl\n",
      "======= current 7 / 100\n",
      "previous best roc is 0.779420891485781\n",
      "current roc is 0.7791017868158734\n",
      "current loss is 0.24070886318531506\n",
      "Epoch 1/1\n",
      "246009/246009 [==============================] - 6s 23us/step - loss: 0.2333 - acc: 0.9206\n",
      "61502/61502 [==============================] - 0s 7us/step\n",
      "saving report to... ../LIB/../../data/rnn/main_plain/report_fold_2.pkl\n",
      "======= current 8 / 100\n",
      "previous best roc is 0.779420891485781\n",
      "current roc is 0.7767739542024048\n",
      "current loss is 0.24189576047185235\n",
      "Epoch 1/1\n",
      "246009/246009 [==============================] - 6s 24us/step - loss: 0.2319 - acc: 0.9207\n",
      "61502/61502 [==============================] - 0s 7us/step\n",
      "saving report to... ../LIB/../../data/rnn/main_plain/report_fold_2.pkl\n",
      "======= current 9 / 100\n",
      "previous best roc is 0.779420891485781\n",
      "current roc is 0.776339821368077\n",
      "current loss is 0.24119882639169216\n",
      "Epoch 1/1\n",
      "246009/246009 [==============================] - 6s 24us/step - loss: 0.2303 - acc: 0.9210\n",
      "61502/61502 [==============================] - 0s 7us/step\n",
      "saving report to... ../LIB/../../data/rnn/main_plain/report_fold_2.pkl\n",
      "======= current 10 / 100\n",
      "previous best roc is 0.779420891485781\n",
      "current roc is 0.777518067639505\n",
      "current loss is 0.24131627101123965\n",
      "Epoch 1/1\n",
      "246009/246009 [==============================] - 6s 24us/step - loss: 0.2283 - acc: 0.9213\n",
      "61502/61502 [==============================] - 0s 7us/step\n",
      "saving report to... ../LIB/../../data/rnn/main_plain/report_fold_2.pkl\n",
      "======= current 11 / 100\n",
      "previous best roc is 0.779420891485781\n",
      "current roc is 0.7778520556778672\n",
      "current loss is 0.24258695891852428\n",
      "Epoch 1/1\n",
      "246009/246009 [==============================] - 6s 24us/step - loss: 0.2267 - acc: 0.9213\n",
      "61502/61502 [==============================] - 0s 7us/step\n",
      "saving report to... ../LIB/../../data/rnn/main_plain/report_fold_2.pkl\n",
      "======= current 12 / 100\n",
      "previous best roc is 0.779420891485781\n",
      "current roc is 0.7746542049505003\n",
      "current loss is 0.2433130862060079\n",
      "Epoch 1/1\n",
      "246009/246009 [==============================] - 6s 24us/step - loss: 0.2249 - acc: 0.9215\n",
      "61502/61502 [==============================] - 0s 6us/step\n",
      "saving report to... ../LIB/../../data/rnn/main_plain/report_fold_2.pkl\n",
      "======= current 13 / 100\n",
      "previous best roc is 0.779420891485781\n",
      "current roc is 0.7754037123005394\n",
      "current loss is 0.2436685465825996\n",
      "Epoch 1/1\n",
      "246009/246009 [==============================] - 6s 24us/step - loss: 0.2229 - acc: 0.9222\n",
      "61502/61502 [==============================] - 0s 7us/step\n",
      "saving report to... ../LIB/../../data/rnn/main_plain/report_fold_2.pkl\n",
      "======= current 14 / 100\n",
      "previous best roc is 0.779420891485781\n",
      "current roc is 0.7725592435753867\n",
      "current loss is 0.2450555160428958\n",
      "Epoch 1/1\n"
     ]
    },
    {
     "name": "stdout",
     "output_type": "stream",
     "text": [
      "246009/246009 [==============================] - 6s 24us/step - loss: 0.2212 - acc: 0.9223\n",
      "61502/61502 [==============================] - 0s 7us/step\n",
      "saving report to... ../LIB/../../data/rnn/main_plain/report_fold_2.pkl\n",
      "======= current 15 / 100\n",
      "previous best roc is 0.779420891485781\n",
      "current roc is 0.7741932905668583\n",
      "current loss is 0.24655427075323166\n",
      "Epoch 1/1\n",
      "246009/246009 [==============================] - 6s 24us/step - loss: 0.2192 - acc: 0.9225\n",
      "61502/61502 [==============================] - 0s 7us/step\n",
      "saving report to... ../LIB/../../data/rnn/main_plain/report_fold_2.pkl\n",
      "======= current 16 / 100\n",
      "previous best roc is 0.779420891485781\n",
      "current roc is 0.7720730730502331\n",
      "current loss is 0.24547090909729372\n",
      "Epoch 1/1\n",
      "246009/246009 [==============================] - 6s 24us/step - loss: 0.2173 - acc: 0.9228\n",
      "61502/61502 [==============================] - 0s 7us/step\n",
      "saving report to... ../LIB/../../data/rnn/main_plain/report_fold_2.pkl\n",
      "======= current 17 / 100\n",
      "previous best roc is 0.779420891485781\n",
      "current roc is 0.7708261479530915\n",
      "current loss is 0.24655916999396474\n",
      "Epoch 1/1\n",
      "246009/246009 [==============================] - 6s 23us/step - loss: 0.2160 - acc: 0.9233\n",
      "61502/61502 [==============================] - 0s 7us/step\n",
      "saving report to... ../LIB/../../data/rnn/main_plain/report_fold_2.pkl\n",
      "======= current 18 / 100\n",
      "previous best roc is 0.779420891485781\n",
      "current roc is 0.7693533383400766\n",
      "current loss is 0.24641557977012682\n",
      "Epoch 1/1\n",
      "246009/246009 [==============================] - 6s 24us/step - loss: 0.2136 - acc: 0.9235\n",
      "61502/61502 [==============================] - 0s 7us/step\n",
      "saving report to... ../LIB/../../data/rnn/main_plain/report_fold_2.pkl\n",
      "======= current 19 / 100\n",
      "previous best roc is 0.779420891485781\n",
      "current roc is 0.768639967191387\n",
      "current loss is 0.2495958792708041\n",
      "Epoch 1/1\n",
      "246009/246009 [==============================] - 6s 24us/step - loss: 0.2119 - acc: 0.9242\n",
      "61502/61502 [==============================] - 0s 7us/step\n",
      "saving report to... ../LIB/../../data/rnn/main_plain/report_fold_2.pkl\n",
      "======= current 20 / 100\n",
      "previous best roc is 0.779420891485781\n",
      "current roc is 0.7676274582514331\n",
      "current loss is 0.25156470195397784\n",
      "Epoch 1/1\n",
      "246009/246009 [==============================] - 6s 23us/step - loss: 0.2098 - acc: 0.9245\n",
      "61502/61502 [==============================] - 0s 7us/step\n",
      "saving report to... ../LIB/../../data/rnn/main_plain/report_fold_2.pkl\n",
      "======= current 21 / 100\n",
      "previous best roc is 0.779420891485781\n",
      "current roc is 0.7645802273547253\n",
      "current loss is 0.2513458301601997\n",
      "Epoch 1/1\n",
      "246009/246009 [==============================] - 6s 24us/step - loss: 0.2083 - acc: 0.9250\n",
      "61502/61502 [==============================] - 0s 6us/step\n",
      "saving report to... ../LIB/../../data/rnn/main_plain/report_fold_2.pkl\n",
      "======= current 22 / 100\n",
      "previous best roc is 0.779420891485781\n",
      "current roc is 0.7637209367598846\n",
      "current loss is 0.25304360898993994\n",
      "Epoch 1/1\n",
      "246009/246009 [==============================] - 6s 24us/step - loss: 0.2078 - acc: 0.9250\n",
      "61502/61502 [==============================] - 0s 7us/step\n",
      "saving report to... ../LIB/../../data/rnn/main_plain/report_fold_2.pkl\n",
      "======= current 23 / 100\n",
      "previous best roc is 0.779420891485781\n",
      "current roc is 0.7628099241981583\n",
      "current loss is 0.2532921390597264\n",
      "Epoch 1/1\n",
      "246009/246009 [==============================] - 6s 24us/step - loss: 0.2051 - acc: 0.9255\n",
      "61502/61502 [==============================] - 0s 7us/step\n",
      "saving report to... ../LIB/../../data/rnn/main_plain/report_fold_2.pkl\n",
      "======= current 24 / 100\n",
      "previous best roc is 0.779420891485781\n",
      "current roc is 0.7623488838796861\n",
      "current loss is 0.2538752725100642\n",
      "reach patience! end loop\n",
      "48744/48744 [==============================] - 0s 9us/step\n",
      "\n",
      "\n",
      "!!!!!!!! Begin fold: 3\n",
      "preparing train/val done!\n",
      "before evaluating: ../LIB/../../data/rnn/main_plain/fold_{}.hdf5\n",
      "Epoch 1/1\n",
      "246009/246009 [==============================] - 8s 31us/step - loss: 0.2652 - acc: 0.9189\n",
      "61502/61502 [==============================] - 1s 21us/step\n",
      "saving preds...\n",
      "saving report to... ../LIB/../../data/rnn/main_plain/report_fold_3.pkl\n",
      "======= current 0 / 100\n",
      "previous best roc is 0\n",
      "current roc is 0.778710219552179\n",
      "current loss is 0.2416379104882654\n",
      "Epoch 1/1\n",
      "246009/246009 [==============================] - 6s 24us/step - loss: 0.2498 - acc: 0.9191\n",
      "61502/61502 [==============================] - 0s 7us/step\n",
      "saving model to... ../LIB/../../data/rnn/main_plain/fold_3.hdf5\n",
      "saving preds...\n",
      "saving report to... ../LIB/../../data/rnn/main_plain/report_fold_3.pkl\n",
      "======= current 1 / 100\n",
      "previous best roc is 0.778710219552179\n",
      "current roc is 0.781498834398545\n",
      "current loss is 0.23858984648139794\n",
      "Epoch 1/1\n",
      "246009/246009 [==============================] - 6s 24us/step - loss: 0.2461 - acc: 0.9192\n",
      "61502/61502 [==============================] - 0s 7us/step\n",
      "saving model to... ../LIB/../../data/rnn/main_plain/fold_3.hdf5\n",
      "saving preds...\n",
      "saving report to... ../LIB/../../data/rnn/main_plain/report_fold_3.pkl\n",
      "======= current 2 / 100\n",
      "previous best roc is 0.781498834398545\n",
      "current roc is 0.7829521483643614\n",
      "current loss is 0.23831878248692784\n",
      "Epoch 1/1\n",
      "246009/246009 [==============================] - 6s 24us/step - loss: 0.2431 - acc: 0.9194\n",
      "61502/61502 [==============================] - 0s 7us/step\n",
      "saving model to... ../LIB/../../data/rnn/main_plain/fold_3.hdf5\n",
      "saving preds...\n",
      "saving report to... ../LIB/../../data/rnn/main_plain/report_fold_3.pkl\n",
      "======= current 3 / 100\n",
      "previous best roc is 0.7829521483643614\n",
      "current roc is 0.7833413518062046\n",
      "current loss is 0.23726968101108697\n",
      "Epoch 1/1\n",
      "246009/246009 [==============================] - 6s 24us/step - loss: 0.2415 - acc: 0.9194\n",
      "61502/61502 [==============================] - 0s 7us/step\n",
      "saving model to... ../LIB/../../data/rnn/main_plain/fold_3.hdf5\n",
      "saving preds...\n",
      "saving report to... ../LIB/../../data/rnn/main_plain/report_fold_3.pkl\n",
      "======= current 4 / 100\n",
      "previous best roc is 0.7833413518062046\n",
      "current roc is 0.7849470480892267\n",
      "current loss is 0.23698695608837678\n",
      "Epoch 1/1\n",
      "246009/246009 [==============================] - 6s 24us/step - loss: 0.2393 - acc: 0.9196\n",
      "61502/61502 [==============================] - 0s 7us/step\n",
      "saving model to... ../LIB/../../data/rnn/main_plain/fold_3.hdf5\n",
      "saving preds...\n",
      "saving report to... ../LIB/../../data/rnn/main_plain/report_fold_3.pkl\n",
      "======= current 5 / 100\n",
      "previous best roc is 0.7849470480892267\n",
      "current roc is 0.7849554255447508\n",
      "current loss is 0.23729898514517986\n",
      "Epoch 1/1\n",
      "246009/246009 [==============================] - 6s 24us/step - loss: 0.2379 - acc: 0.9196\n",
      "61502/61502 [==============================] - 0s 7us/step\n",
      "saving report to... ../LIB/../../data/rnn/main_plain/report_fold_3.pkl\n",
      "======= current 6 / 100\n",
      "previous best roc is 0.7849554255447508\n",
      "current roc is 0.7832036439120543\n",
      "current loss is 0.23799451765087642\n",
      "Epoch 1/1\n",
      "246009/246009 [==============================] - 6s 24us/step - loss: 0.2366 - acc: 0.9196\n",
      "61502/61502 [==============================] - 0s 7us/step\n",
      "saving report to... ../LIB/../../data/rnn/main_plain/report_fold_3.pkl\n",
      "======= current 7 / 100\n",
      "previous best roc is 0.7849554255447508\n",
      "current roc is 0.7834637156537977\n",
      "current loss is 0.23740013023361112\n",
      "Epoch 1/1\n",
      "246009/246009 [==============================] - 6s 24us/step - loss: 0.2349 - acc: 0.9197\n",
      "61502/61502 [==============================] - 0s 7us/step\n",
      "saving report to... ../LIB/../../data/rnn/main_plain/report_fold_3.pkl\n",
      "======= current 8 / 100\n",
      "previous best roc is 0.7849554255447508\n",
      "current roc is 0.7837119150066583\n",
      "current loss is 0.2374067800651004\n",
      "Epoch 1/1\n",
      "246009/246009 [==============================] - 6s 24us/step - loss: 0.2333 - acc: 0.9199\n",
      "61502/61502 [==============================] - 0s 7us/step\n",
      "saving report to... ../LIB/../../data/rnn/main_plain/report_fold_3.pkl\n",
      "======= current 9 / 100\n",
      "previous best roc is 0.7849554255447508\n",
      "current roc is 0.7815753523119315\n",
      "current loss is 0.2395529005187313\n",
      "Epoch 1/1\n",
      "246009/246009 [==============================] - 6s 24us/step - loss: 0.2320 - acc: 0.9201\n",
      "61502/61502 [==============================] - 0s 7us/step\n",
      "saving report to... ../LIB/../../data/rnn/main_plain/report_fold_3.pkl\n",
      "======= current 10 / 100\n",
      "previous best roc is 0.7849554255447508\n",
      "current roc is 0.781620446262526\n",
      "current loss is 0.23929150997092075\n"
     ]
    },
    {
     "name": "stdout",
     "output_type": "stream",
     "text": [
      "Epoch 1/1\n",
      "246009/246009 [==============================] - 6s 24us/step - loss: 0.2303 - acc: 0.9202\n",
      "61502/61502 [==============================] - 0s 7us/step\n",
      "saving report to... ../LIB/../../data/rnn/main_plain/report_fold_3.pkl\n",
      "======= current 11 / 100\n",
      "previous best roc is 0.7849554255447508\n",
      "current roc is 0.7802441103524491\n",
      "current loss is 0.2394575118015168\n",
      "Epoch 1/1\n",
      "246009/246009 [==============================] - 6s 23us/step - loss: 0.2279 - acc: 0.9201\n",
      "61502/61502 [==============================] - 0s 7us/step\n",
      "saving report to... ../LIB/../../data/rnn/main_plain/report_fold_3.pkl\n",
      "======= current 12 / 100\n",
      "previous best roc is 0.7849554255447508\n",
      "current roc is 0.7794878207391387\n",
      "current loss is 0.2388939622141673\n",
      "Epoch 1/1\n",
      "246009/246009 [==============================] - 6s 24us/step - loss: 0.2264 - acc: 0.9207\n",
      "61502/61502 [==============================] - 0s 7us/step\n",
      "saving report to... ../LIB/../../data/rnn/main_plain/report_fold_3.pkl\n",
      "======= current 13 / 100\n",
      "previous best roc is 0.7849554255447508\n",
      "current roc is 0.779000309763535\n",
      "current loss is 0.23952696608159232\n",
      "Epoch 1/1\n",
      "246009/246009 [==============================] - 6s 24us/step - loss: 0.2246 - acc: 0.9207\n",
      "61502/61502 [==============================] - 0s 7us/step\n",
      "saving report to... ../LIB/../../data/rnn/main_plain/report_fold_3.pkl\n",
      "======= current 14 / 100\n",
      "previous best roc is 0.7849554255447508\n",
      "current roc is 0.7760952430931156\n",
      "current loss is 0.243900343786419\n",
      "Epoch 1/1\n",
      "246009/246009 [==============================] - 6s 24us/step - loss: 0.2229 - acc: 0.9211\n",
      "61502/61502 [==============================] - 0s 7us/step\n",
      "saving report to... ../LIB/../../data/rnn/main_plain/report_fold_3.pkl\n",
      "======= current 15 / 100\n",
      "previous best roc is 0.7849554255447508\n",
      "current roc is 0.7761901989284914\n",
      "current loss is 0.2404125723479107\n",
      "Epoch 1/1\n",
      "246009/246009 [==============================] - 6s 24us/step - loss: 0.2211 - acc: 0.9212\n",
      "61502/61502 [==============================] - 0s 7us/step\n",
      "saving report to... ../LIB/../../data/rnn/main_plain/report_fold_3.pkl\n",
      "======= current 16 / 100\n",
      "previous best roc is 0.7849554255447508\n",
      "current roc is 0.774376085016116\n",
      "current loss is 0.24194948376705497\n",
      "Epoch 1/1\n",
      "246009/246009 [==============================] - 6s 24us/step - loss: 0.2192 - acc: 0.9215\n",
      "61502/61502 [==============================] - 0s 7us/step\n",
      "saving report to... ../LIB/../../data/rnn/main_plain/report_fold_3.pkl\n",
      "======= current 17 / 100\n",
      "previous best roc is 0.7849554255447508\n",
      "current roc is 0.7716415897141247\n",
      "current loss is 0.24497009727080138\n",
      "Epoch 1/1\n",
      "246009/246009 [==============================] - 6s 24us/step - loss: 0.2171 - acc: 0.9215\n",
      "61502/61502 [==============================] - 0s 7us/step\n",
      "saving report to... ../LIB/../../data/rnn/main_plain/report_fold_3.pkl\n",
      "======= current 18 / 100\n",
      "previous best roc is 0.7849554255447508\n",
      "current roc is 0.7711987770025005\n",
      "current loss is 0.2446159248025404\n",
      "Epoch 1/1\n",
      "246009/246009 [==============================] - 6s 24us/step - loss: 0.2155 - acc: 0.9220\n",
      "61502/61502 [==============================] - 0s 7us/step\n",
      "saving report to... ../LIB/../../data/rnn/main_plain/report_fold_3.pkl\n",
      "======= current 19 / 100\n",
      "previous best roc is 0.7849554255447508\n",
      "current roc is 0.7712574979704051\n",
      "current loss is 0.24788860601754195\n",
      "Epoch 1/1\n",
      "246009/246009 [==============================] - 6s 24us/step - loss: 0.2137 - acc: 0.9224\n",
      "61502/61502 [==============================] - 0s 7us/step\n",
      "saving report to... ../LIB/../../data/rnn/main_plain/report_fold_3.pkl\n",
      "======= current 20 / 100\n",
      "previous best roc is 0.7849554255447508\n",
      "current roc is 0.7668498015327252\n",
      "current loss is 0.24540256632381433\n",
      "Epoch 1/1\n",
      "246009/246009 [==============================] - 6s 24us/step - loss: 0.2111 - acc: 0.9226\n",
      "61502/61502 [==============================] - 0s 7us/step\n",
      "saving report to... ../LIB/../../data/rnn/main_plain/report_fold_3.pkl\n",
      "======= current 21 / 100\n",
      "previous best roc is 0.7849554255447508\n",
      "current roc is 0.769050232702224\n",
      "current loss is 0.24718157805265237\n",
      "Epoch 1/1\n",
      "246009/246009 [==============================] - 6s 24us/step - loss: 0.2108 - acc: 0.9228\n",
      "61502/61502 [==============================] - 0s 7us/step\n",
      "saving report to... ../LIB/../../data/rnn/main_plain/report_fold_3.pkl\n",
      "======= current 22 / 100\n",
      "previous best roc is 0.7849554255447508\n",
      "current roc is 0.7645592021568465\n",
      "current loss is 0.24630913703997837\n",
      "Epoch 1/1\n",
      "246009/246009 [==============================] - 6s 24us/step - loss: 0.2080 - acc: 0.9230\n",
      "61502/61502 [==============================] - 0s 7us/step\n",
      "saving report to... ../LIB/../../data/rnn/main_plain/report_fold_3.pkl\n",
      "======= current 23 / 100\n",
      "previous best roc is 0.7849554255447508\n",
      "current roc is 0.766513217248907\n",
      "current loss is 0.24909666107866144\n",
      "Epoch 1/1\n",
      "246009/246009 [==============================] - 6s 24us/step - loss: 0.2065 - acc: 0.9235\n",
      "61502/61502 [==============================] - 0s 7us/step\n",
      "saving report to... ../LIB/../../data/rnn/main_plain/report_fold_3.pkl\n",
      "======= current 24 / 100\n",
      "previous best roc is 0.7849554255447508\n",
      "current roc is 0.7671793529793349\n",
      "current loss is 0.24886677897891707\n",
      "Epoch 1/1\n",
      "246009/246009 [==============================] - 6s 23us/step - loss: 0.2055 - acc: 0.9238\n",
      "61502/61502 [==============================] - 0s 7us/step\n",
      "saving report to... ../LIB/../../data/rnn/main_plain/report_fold_3.pkl\n",
      "======= current 25 / 100\n",
      "previous best roc is 0.7849554255447508\n",
      "current roc is 0.761443807460612\n",
      "current loss is 0.25268333560243267\n",
      "reach patience! end loop\n",
      "48744/48744 [==============================] - 0s 9us/step\n",
      "\n",
      "\n",
      "!!!!!!!! Begin fold: 4\n",
      "preparing train/val done!\n",
      "before evaluating: ../LIB/../../data/rnn/main_plain/fold_{}.hdf5\n",
      "Epoch 1/1\n",
      "246009/246009 [==============================] - 8s 32us/step - loss: 0.2729 - acc: 0.9182\n",
      "61502/61502 [==============================] - 1s 21us/step\n",
      "saving preds...\n",
      "saving report to... ../LIB/../../data/rnn/main_plain/report_fold_4.pkl\n",
      "======= current 0 / 100\n",
      "previous best roc is 0\n",
      "current roc is 0.7811547047964795\n",
      "current loss is 0.23851725278778294\n",
      "Epoch 1/1\n",
      "246009/246009 [==============================] - 6s 24us/step - loss: 0.2512 - acc: 0.9189\n",
      "61502/61502 [==============================] - 0s 7us/step\n",
      "saving model to... ../LIB/../../data/rnn/main_plain/fold_4.hdf5\n",
      "saving preds...\n",
      "saving report to... ../LIB/../../data/rnn/main_plain/report_fold_4.pkl\n",
      "======= current 1 / 100\n",
      "previous best roc is 0.7811547047964795\n",
      "current roc is 0.7840843273435383\n",
      "current loss is 0.2359751504178898\n",
      "Epoch 1/1\n",
      "246009/246009 [==============================] - 6s 24us/step - loss: 0.2477 - acc: 0.9190\n",
      "61502/61502 [==============================] - 0s 7us/step\n",
      "saving model to... ../LIB/../../data/rnn/main_plain/fold_4.hdf5\n",
      "saving preds...\n",
      "saving report to... ../LIB/../../data/rnn/main_plain/report_fold_4.pkl\n",
      "======= current 2 / 100\n",
      "previous best roc is 0.7840843273435383\n",
      "current roc is 0.7857388791831019\n",
      "current loss is 0.23559346502368644\n",
      "Epoch 1/1\n",
      "246009/246009 [==============================] - 6s 24us/step - loss: 0.2444 - acc: 0.9193\n",
      "61502/61502 [==============================] - 0s 6us/step\n",
      "saving model to... ../LIB/../../data/rnn/main_plain/fold_4.hdf5\n",
      "saving preds...\n",
      "saving report to... ../LIB/../../data/rnn/main_plain/report_fold_4.pkl\n",
      "======= current 3 / 100\n",
      "previous best roc is 0.7857388791831019\n",
      "current roc is 0.7864890392642169\n",
      "current loss is 0.23564226427781715\n",
      "Epoch 1/1\n",
      "246009/246009 [==============================] - 6s 24us/step - loss: 0.2419 - acc: 0.9191\n",
      "61502/61502 [==============================] - 0s 7us/step\n",
      "saving model to... ../LIB/../../data/rnn/main_plain/fold_4.hdf5\n",
      "saving preds...\n",
      "saving report to... ../LIB/../../data/rnn/main_plain/report_fold_4.pkl\n",
      "======= current 4 / 100\n",
      "previous best roc is 0.7864890392642169\n",
      "current roc is 0.7867263275304888\n",
      "current loss is 0.2353538958344344\n",
      "Epoch 1/1\n",
      "246009/246009 [==============================] - 6s 24us/step - loss: 0.2398 - acc: 0.9193\n",
      "61502/61502 [==============================] - 0s 7us/step\n",
      "saving model to... ../LIB/../../data/rnn/main_plain/fold_4.hdf5\n",
      "saving preds...\n",
      "saving report to... ../LIB/../../data/rnn/main_plain/report_fold_4.pkl\n",
      "======= current 5 / 100\n",
      "previous best roc is 0.7867263275304888\n",
      "current roc is 0.7887658736196304\n",
      "current loss is 0.23439671838387083\n"
     ]
    },
    {
     "name": "stdout",
     "output_type": "stream",
     "text": [
      "Epoch 1/1\n",
      "246009/246009 [==============================] - 6s 24us/step - loss: 0.2382 - acc: 0.9196\n",
      "61502/61502 [==============================] - 0s 7us/step\n",
      "saving report to... ../LIB/../../data/rnn/main_plain/report_fold_4.pkl\n",
      "======= current 6 / 100\n",
      "previous best roc is 0.7887658736196304\n",
      "current roc is 0.787725483793872\n",
      "current loss is 0.23584412570909208\n",
      "Epoch 1/1\n",
      "246009/246009 [==============================] - 6s 24us/step - loss: 0.2366 - acc: 0.9197\n",
      "61502/61502 [==============================] - 0s 7us/step\n",
      "saving report to... ../LIB/../../data/rnn/main_plain/report_fold_4.pkl\n",
      "======= current 7 / 100\n",
      "previous best roc is 0.7887658736196304\n",
      "current roc is 0.7864653485900261\n",
      "current loss is 0.23551821507267995\n",
      "Epoch 1/1\n",
      "246009/246009 [==============================] - 6s 24us/step - loss: 0.2355 - acc: 0.9198\n",
      "61502/61502 [==============================] - 0s 7us/step\n",
      "saving report to... ../LIB/../../data/rnn/main_plain/report_fold_4.pkl\n",
      "======= current 8 / 100\n",
      "previous best roc is 0.7887658736196304\n",
      "current roc is 0.787509828501651\n",
      "current loss is 0.23523287235670665\n",
      "Epoch 1/1\n",
      "246009/246009 [==============================] - 6s 24us/step - loss: 0.2334 - acc: 0.9197\n",
      "61502/61502 [==============================] - 0s 7us/step\n",
      "saving report to... ../LIB/../../data/rnn/main_plain/report_fold_4.pkl\n",
      "======= current 9 / 100\n",
      "previous best roc is 0.7887658736196304\n",
      "current roc is 0.7875909991668231\n",
      "current loss is 0.23523139273764776\n",
      "Epoch 1/1\n",
      "246009/246009 [==============================] - 6s 24us/step - loss: 0.2318 - acc: 0.9200\n",
      "61502/61502 [==============================] - 0s 7us/step\n",
      "saving report to... ../LIB/../../data/rnn/main_plain/report_fold_4.pkl\n",
      "======= current 10 / 100\n",
      "previous best roc is 0.7887658736196304\n",
      "current roc is 0.7857771491509878\n",
      "current loss is 0.23523901962923516\n",
      "Epoch 1/1\n",
      "246009/246009 [==============================] - 6s 24us/step - loss: 0.2300 - acc: 0.9203\n",
      "61502/61502 [==============================] - 0s 7us/step\n",
      "saving report to... ../LIB/../../data/rnn/main_plain/report_fold_4.pkl\n",
      "======= current 11 / 100\n",
      "previous best roc is 0.7887658736196304\n",
      "current roc is 0.7861665300266981\n",
      "current loss is 0.2351756431599537\n",
      "Epoch 1/1\n",
      "246009/246009 [==============================] - 6s 24us/step - loss: 0.2277 - acc: 0.9203\n",
      "61502/61502 [==============================] - 0s 7us/step\n",
      "saving report to... ../LIB/../../data/rnn/main_plain/report_fold_4.pkl\n",
      "======= current 12 / 100\n",
      "previous best roc is 0.7887658736196304\n",
      "current roc is 0.7841429772220333\n",
      "current loss is 0.23674344632723535\n",
      "Epoch 1/1\n",
      "246009/246009 [==============================] - 6s 23us/step - loss: 0.2264 - acc: 0.9206\n",
      "61502/61502 [==============================] - 0s 7us/step\n",
      "saving report to... ../LIB/../../data/rnn/main_plain/report_fold_4.pkl\n",
      "======= current 13 / 100\n",
      "previous best roc is 0.7887658736196304\n",
      "current roc is 0.7834950276996093\n",
      "current loss is 0.23742220690058086\n",
      "Epoch 1/1\n",
      "246009/246009 [==============================] - 6s 24us/step - loss: 0.2249 - acc: 0.9210\n",
      "61502/61502 [==============================] - 0s 7us/step\n",
      "saving report to... ../LIB/../../data/rnn/main_plain/report_fold_4.pkl\n",
      "======= current 14 / 100\n",
      "previous best roc is 0.7887658736196304\n",
      "current roc is 0.783690765973344\n",
      "current loss is 0.23696945246727918\n",
      "Epoch 1/1\n",
      "246009/246009 [==============================] - 6s 24us/step - loss: 0.2229 - acc: 0.9208\n",
      "61502/61502 [==============================] - 0s 7us/step\n",
      "saving report to... ../LIB/../../data/rnn/main_plain/report_fold_4.pkl\n",
      "======= current 15 / 100\n",
      "previous best roc is 0.7887658736196304\n",
      "current roc is 0.7800931683950335\n",
      "current loss is 0.23849857246796927\n",
      "Epoch 1/1\n",
      "246009/246009 [==============================] - 6s 24us/step - loss: 0.2211 - acc: 0.9213\n",
      "61502/61502 [==============================] - 0s 7us/step\n",
      "saving report to... ../LIB/../../data/rnn/main_plain/report_fold_4.pkl\n",
      "======= current 16 / 100\n",
      "previous best roc is 0.7887658736196304\n",
      "current roc is 0.7798540538746832\n",
      "current loss is 0.23798909497103155\n",
      "Epoch 1/1\n",
      "246009/246009 [==============================] - 6s 24us/step - loss: 0.2189 - acc: 0.9214\n",
      "61502/61502 [==============================] - 0s 7us/step\n",
      "saving report to... ../LIB/../../data/rnn/main_plain/report_fold_4.pkl\n",
      "======= current 17 / 100\n",
      "previous best roc is 0.7887658736196304\n",
      "current roc is 0.7794404073259739\n",
      "current loss is 0.24019112724842642\n",
      "Epoch 1/1\n",
      "246009/246009 [==============================] - 6s 24us/step - loss: 0.2169 - acc: 0.9223\n",
      "61502/61502 [==============================] - 0s 7us/step\n",
      "saving report to... ../LIB/../../data/rnn/main_plain/report_fold_4.pkl\n",
      "======= current 18 / 100\n",
      "previous best roc is 0.7887658736196304\n",
      "current roc is 0.7781735601863478\n",
      "current loss is 0.24017777725167222\n",
      "Epoch 1/1\n",
      "246009/246009 [==============================] - 6s 24us/step - loss: 0.2155 - acc: 0.9223\n",
      "61502/61502 [==============================] - 0s 7us/step\n",
      "saving report to... ../LIB/../../data/rnn/main_plain/report_fold_4.pkl\n",
      "======= current 19 / 100\n",
      "previous best roc is 0.7887658736196304\n",
      "current roc is 0.7777888208890718\n",
      "current loss is 0.24319019678369075\n",
      "Epoch 1/1\n",
      "246009/246009 [==============================] - 6s 24us/step - loss: 0.2138 - acc: 0.9227\n",
      "61502/61502 [==============================] - 0s 7us/step\n",
      "saving report to... ../LIB/../../data/rnn/main_plain/report_fold_4.pkl\n",
      "======= current 20 / 100\n",
      "previous best roc is 0.7887658736196304\n",
      "current roc is 0.776193096128894\n",
      "current loss is 0.24149883120845825\n",
      "Epoch 1/1\n",
      "246009/246009 [==============================] - 6s 23us/step - loss: 0.2116 - acc: 0.9231\n",
      "61502/61502 [==============================] - 0s 7us/step\n",
      "saving report to... ../LIB/../../data/rnn/main_plain/report_fold_4.pkl\n",
      "======= current 21 / 100\n",
      "previous best roc is 0.7887658736196304\n",
      "current roc is 0.7729433836789271\n",
      "current loss is 0.24090956042366207\n",
      "Epoch 1/1\n",
      "246009/246009 [==============================] - 6s 24us/step - loss: 0.2105 - acc: 0.9234\n",
      "61502/61502 [==============================] - 0s 6us/step\n",
      "saving report to... ../LIB/../../data/rnn/main_plain/report_fold_4.pkl\n",
      "======= current 22 / 100\n",
      "previous best roc is 0.7887658736196304\n",
      "current roc is 0.7721688114628523\n",
      "current loss is 0.2445082965770247\n",
      "Epoch 1/1\n",
      "246009/246009 [==============================] - 6s 24us/step - loss: 0.2089 - acc: 0.9234\n",
      "61502/61502 [==============================] - 0s 7us/step\n",
      "saving report to... ../LIB/../../data/rnn/main_plain/report_fold_4.pkl\n",
      "======= current 23 / 100\n",
      "previous best roc is 0.7887658736196304\n",
      "current roc is 0.7722866609042384\n",
      "current loss is 0.2456971686252951\n",
      "Epoch 1/1\n",
      "246009/246009 [==============================] - 6s 24us/step - loss: 0.2067 - acc: 0.9241\n",
      "61502/61502 [==============================] - 0s 6us/step\n",
      "saving report to... ../LIB/../../data/rnn/main_plain/report_fold_4.pkl\n",
      "======= current 24 / 100\n",
      "previous best roc is 0.7887658736196304\n",
      "current roc is 0.7725116373249477\n",
      "current loss is 0.2451743553220581\n",
      "Epoch 1/1\n",
      "246009/246009 [==============================] - 6s 24us/step - loss: 0.2051 - acc: 0.9247\n",
      "61502/61502 [==============================] - 0s 7us/step\n",
      "saving report to... ../LIB/../../data/rnn/main_plain/report_fold_4.pkl\n",
      "======= current 25 / 100\n",
      "previous best roc is 0.7887658736196304\n",
      "current roc is 0.7688629679184804\n",
      "current loss is 0.2505875750944506\n",
      "reach patience! end loop\n",
      "48744/48744 [==============================] - 0s 9us/step\n",
      "\n",
      "\n"
     ]
    }
   ],
   "source": [
    "model_file = ENV.main_plain_nn.value\n",
    "report_file = ENV.main_plain_nn_report.value\n",
    "pred_file = ENV.main_plain_nn_preds.value\n",
    "pred_test_file = ENV.main_plain_nn_preds_test.value\n",
    "\n",
    "train_5_folds(filepath=model_file,\n",
    "              reportpath=report_file,\n",
    "              predspath=pred_file,\n",
    "              predspath_test=pred_test_file,\n",
    "              batch_size=512,\n",
    "              total_epoch=100,\n",
    "              patience=20,\n",
    "              saving=True)"
   ]
  },
  {
   "cell_type": "code",
   "execution_count": null,
   "metadata": {},
   "outputs": [],
   "source": [
    "# def get_NN_model():\n",
    "#     main_numeric_input = Input(shape=(dim_main_numeric, ),name='main_numerical')\n",
    "#     main_cal_sequence = Input(shape=(dim_main_cal, ),name = 'main_categorical')\n",
    "#     x_main_cat = Embedding(num_words_main, main_ebd_size, trainable = True)(main_cal_sequence)\n",
    "#     x_main_cat = SpatialDropout1D(0.5)(x_main_cat)\n",
    "#     x_main_cat = Flatten()(x_main_cat)\n",
    "#     x_main_nu = Dense(192,activation='relu')(main_numeric_input)\n",
    "#     x_main_nu = Dropout(0.5)(x_main_nu)\n",
    "#     x = concatenate([x_main_nu, x_main_cat])\n",
    "#     x = Dense(64, activation='relu')(x)\n",
    "#     x = Dropout(0.5)(x)\n",
    "#     preds = Dense(1, activation=\"sigmoid\")(x)\n",
    "#     model = Model([main_numeric_input,main_cal_sequence], preds)\n",
    "#     model.compile(loss='binary_crossentropy',optimizer=Adam(),metrics=['accuracy'])\n",
    "    \n",
    "#     return model"
   ]
  },
  {
   "cell_type": "code",
   "execution_count": null,
   "metadata": {},
   "outputs": [],
   "source": [
    "# def get_NN_model():\n",
    "#     main_numeric_input = Input(shape=(dim_main_numeric, ),name='main_numerical')\n",
    "#     main_cal_sequence = Input(shape=(dim_main_cal, ),name = 'main_categorical')\n",
    "#     x_main_cat = Embedding(num_words_main, main_ebd_size, trainable = True)(main_cal_sequence)\n",
    "#     x_main_cat = SpatialDropout1D(0.5)(x_main_cat)\n",
    "#     x_main_cat = Bidirectional(CuDNNGRU(8, return_sequences=True))(x_main_cat)\n",
    "# #     x_main_cat = Flatten()(x_main_cat)\n",
    "#     x_main_cat = Conv1D(32, kernel_size = 3, padding = \"valid\", kernel_initializer = \"glorot_uniform\")(x_main_cat)\n",
    "#     x_main_cat = BatchNormalization()(x_main_cat)\n",
    "#     avg_pool = GlobalAveragePooling1D()(x_main_cat)\n",
    "#     max_pool = GlobalMaxPooling1D()(x_main_cat)\n",
    "#     x_main_cat = concatenate([avg_pool, max_pool]) \n",
    "\n",
    "#     x_main_nu = Dense(192,activation='relu')(main_numeric_input)\n",
    "#     x_main_nu = Dropout(0.5)(x_main_nu)\n",
    "#     x = concatenate([x_main_nu, x_main_cat])\n",
    "#     x = Dense(64, activation='relu')(x)\n",
    "#     x = Dropout(0.5)(x)\n",
    "#     preds = Dense(1, activation=\"sigmoid\")(x)\n",
    "#     model = Model([main_numeric_input,main_cal_sequence], preds)\n",
    "#     model.compile(loss='binary_crossentropy',optimizer=Adam(),metrics=['accuracy'])\n",
    "    \n",
    "#     return model"
   ]
  },
  {
   "cell_type": "code",
   "execution_count": null,
   "metadata": {},
   "outputs": [],
   "source": [
    "# def get_NN_model():\n",
    "#     main_numeric_input = Input(shape=(dim_main_numeric, ),name='main_numerical')\n",
    "#     main_cal_sequence = Input(shape=(dim_main_cal, ),name = 'main_categorical')\n",
    "#     x_main_cat = Embedding(num_words_main, main_ebd_size, trainable = True)(main_cal_sequence)\n",
    "#     x_main_cat = SpatialDropout1D(0.5)(x_main_cat)\n",
    "#     x_main_cat = Flatten()(x_main_cat)\n",
    "#     x_main_nu = BatchNormalization()(main_numeric_input)\n",
    "#     x_main_nu = Dense(192,activation='relu')(x_main_nu)\n",
    "#     x_main_nu = Dropout(0.5)(x_main_nu)\n",
    "#     x = concatenate([x_main_nu, x_main_cat])\n",
    "#     x = Dense(64, activation='relu')(x)\n",
    "#     x = Dropout(0.5)(x)\n",
    "#     preds = Dense(1, activation=\"sigmoid\")(x)\n",
    "#     model = Model([main_numeric_input,main_cal_sequence], preds)\n",
    "#     model.compile(loss='binary_crossentropy',optimizer=Adam(),metrics=['accuracy'])\n",
    "    \n",
    "#     return model\n",
    "\n",
    "# class_ratio = 1\n",
    "# def train_each_epoch(model,**args):\n",
    "#     #######################################\n",
    "#     x_num = args['main_numerical']\n",
    "#     x_cat = args['main_categorical']\n",
    "#     y = args['y']\n",
    "#     batch_size = args['batch_size']\n",
    "#     ########################################\n",
    "#     x_num,x_cat,y = shuffle(x_num,x_cat,y)\n",
    "#     model.fit({'main_numerical': x_num, 'main_categorical': x_cat}, \n",
    "#               y, \n",
    "#               batch_size=batch_size, \n",
    "#               epochs=1,\n",
    "#               verbose=1,\n",
    "#               class_weight={0:1,1:class_ratio})\n",
    "#     return model\n",
    "\n",
    "# def load_model(model,filepath):\n",
    "#     model.load_weights(filepath)\n",
    "#     return model\n",
    "\n",
    "# def save_model(model, filepath):\n",
    "#     model.save_weights(filepath)\n",
    "    \n",
    "# def train_each_fold(model,**args):\n",
    "    \n",
    "#     x_num = args['main_n_train']\n",
    "#     x_num_val = args['main_n_val']\n",
    "#     x_cat = args['main_c_train']\n",
    "#     x_cat_val = args['main_c_val']\n",
    "#     y = args['y']\n",
    "#     y_val = args['y_val']\n",
    "#     filepath = args['filepath']\n",
    "#     reportpath = args['reportpath']\n",
    "#     predspath = args['predspath']\n",
    "#     batch_size = args.get('batch_size',512)\n",
    "#     total_epoch = args.get('total_epoch',400)\n",
    "#     patience = args.get('patience',5)\n",
    "#     saving = args.get('saving',True)\n",
    "    \n",
    "    \n",
    "#     ROC_AUC_SCORE = []\n",
    "#     for epoch in range(total_epoch):  \n",
    "#         model = train_each_epoch(model,\n",
    "#                                  main_numerical=x_num,\n",
    "#                                  main_categorical=x_cat,\n",
    "#                                  y=y,\n",
    "#                                  batch_size=batch_size)\n",
    "#         y_pred = model.predict({'main_numerical':x_num_val,\n",
    "#                                 'main_categorical':x_cat_val},\n",
    "#                                batch_size=3000,\n",
    "#                                verbose=1)\n",
    "#         score = roc_auc_score(y_val,y_pred)\n",
    "#         logloss = log_loss(y_val,y_pred)\n",
    "#         if len(ROC_AUC_SCORE) == 0:\n",
    "#             if saving:\n",
    "#                 save_model(model,filepath)\n",
    "#             best_score = 0 \n",
    "#             if saving:\n",
    "#                 print('saving preds...')\n",
    "#                 pickle.dump(y_pred,open(predspath,'wb'))\n",
    "#         else:\n",
    "#             best_score = max(ROC_AUC_SCORE)\n",
    "#             if score >= best_score:\n",
    "#                 if saving:\n",
    "#                     print('saving model to... {}'.format(filepath))\n",
    "#                     save_model(model,filepath)\n",
    "#                     print('saving preds...')\n",
    "#                     pickle.dump(y_pred,open(predspath,'wb'))\n",
    "#         ROC_AUC_SCORE.append(score)\n",
    "#         if saving:\n",
    "#             print('saving report to... {}'.format(reportpath))\n",
    "#             pickle.dump(ROC_AUC_SCORE,open(reportpath,'wb'))\n",
    "#         print('======= current {} / {}'.format(epoch,total_epoch))\n",
    "#         print('previous best roc is {}'.format(best_score))\n",
    "#         print('current roc is {}'.format(score))\n",
    "#         print('current loss is {}'.format(logloss))\n",
    "#         try:\n",
    "#             best_round = ROC_AUC_SCORE.index(best_score)\n",
    "#         except ValueError:\n",
    "#             best_round = -1\n",
    "#         if len(ROC_AUC_SCORE) > patience + best_round:\n",
    "#             print('reach patience! end loop')\n",
    "#             break\n",
    "            \n",
    "# def train_5_folds(**args):\n",
    "    \n",
    "#     filepath = args['filepath']\n",
    "#     reportpath = args['reportpath']\n",
    "#     predspath = args['predspath']\n",
    "#     pred_test_file = args['predspath_test']\n",
    "#     batch_size = args.get('batch_size',512)\n",
    "#     total_epoch = args.get('total_epoch',400)\n",
    "#     patience = args.get('patience',5)\n",
    "#     saving = args.get('saving',True)\n",
    "    \n",
    "#     train_fold_index = pickle.load(open(ENV.train_fold_index.value,'rb'))\n",
    "#     val_fold_index = pickle.load(open(ENV.val_fold_index.value,'rb'))\n",
    "\n",
    "#     for fold in range(0,len(train_fold_index)):\n",
    "#         print('!!!!!!!! Begin fold: {}'.format(fold))\n",
    "#         train_index = train_fold_index[fold]\n",
    "#         val_index = val_fold_index[fold]\n",
    "#         X_tra_nu = x_num_train[train_index]\n",
    "#         X_tra_cat = x_cal_train[train_index]\n",
    "#         X_val_nu = x_num_train[val_index]\n",
    "#         X_val_cat = x_cal_train[val_index]\n",
    "#         y_tra = y_train[train_index]\n",
    "#         y_val = y_train[val_index]\n",
    "#         print('preparing train/val done!')\n",
    "#         print('before evaluating: {}'.format(model_file))\n",
    "#         model_file_evl = filepath.format(fold)\n",
    "#         report_file_evl = reportpath.format(fold)\n",
    "#         pred_file_evl = predspath.format(fold)\n",
    "#         pred_test_file_evl = pred_test_file.format(fold)\n",
    "#         model = get_NN_model()\n",
    "#         train_each_fold(model,\n",
    "#                 main_n_train=X_tra_nu,\n",
    "#                 main_n_val=X_val_nu,\n",
    "#                 main_c_train=X_tra_cat,\n",
    "#                 main_c_val=X_val_cat,\n",
    "#                 y=y_tra,\n",
    "#                 y_val=y_val,\n",
    "#                 filepath=model_file_evl,\n",
    "#                 reportpath=report_file_evl,\n",
    "#                 predspath=pred_file_evl,\n",
    "#                 batch_size=batch_size,\n",
    "#                 total_epoch=total_epoch,\n",
    "#                 patience=patience,\n",
    "#                 saving=saving)\n",
    "#         gc.collect()\n",
    "#         #### predict test\n",
    "#         model = load_model(model,model_file_evl)\n",
    "#         test_preds = model.predict({'main_numerical':x_num_test,\n",
    "#                                 'main_categorical':x_cal_test},batch_size=1500,verbose=1)\n",
    "#         pickle.dump(test_preds,open(pred_test_file_evl,'wb'))\n",
    "#         print('\\n')\n"
   ]
  }
 ],
 "metadata": {
  "kernelspec": {
   "display_name": "Python 3.5 (tf_gpu)",
   "language": "python",
   "name": "tf_gpu"
  },
  "language_info": {
   "codemirror_mode": {
    "name": "ipython",
    "version": 3
   },
   "file_extension": ".py",
   "mimetype": "text/x-python",
   "name": "python",
   "nbconvert_exporter": "python",
   "pygments_lexer": "ipython3",
   "version": "3.5.5"
  },
  "varInspector": {
   "cols": {
    "lenName": 16,
    "lenType": 16,
    "lenVar": 40
   },
   "kernels_config": {
    "python": {
     "delete_cmd_postfix": "",
     "delete_cmd_prefix": "del ",
     "library": "var_list.py",
     "varRefreshCmd": "print(var_dic_list())"
    },
    "r": {
     "delete_cmd_postfix": ") ",
     "delete_cmd_prefix": "rm(",
     "library": "var_list.r",
     "varRefreshCmd": "cat(var_dic_list()) "
    }
   },
   "types_to_exclude": [
    "module",
    "function",
    "builtin_function_or_method",
    "instance",
    "_Feature"
   ],
   "window_display": false
  }
 },
 "nbformat": 4,
 "nbformat_minor": 2
}
