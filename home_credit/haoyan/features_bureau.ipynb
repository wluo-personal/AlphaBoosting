{
 "cells": [
  {
   "cell_type": "code",
   "execution_count": null,
   "metadata": {
    "collapsed": true
   },
   "outputs": [],
   "source": [
    "from sklearn.linear_model import LinearRegression\n",
    "import pandas as pd\n",
    "import numpy as np\n",
    "import gc\n",
    "import os\n",
    "\n",
    "PATH = '/home/kai/data/kaggle/homecredit/'\n",
    "bureau = pd.read_csv(PATH + 'bureau.csv')\n",
    "bureau_balance = pd.read_csv(PATH + 'bureau_balance.csv')"
   ]
  },
  {
   "cell_type": "markdown",
   "metadata": {},
   "source": [
    "# utils"
   ]
  },
  {
   "cell_type": "code",
   "execution_count": 26,
   "metadata": {
    "ExecuteTime": {
     "end_time": "2018-06-15T19:07:31.154168Z",
     "start_time": "2018-06-15T19:07:31.107204Z"
    }
   },
   "outputs": [],
   "source": [
    "def save(df, name):\n",
    "    df.to_pickle(name)\n",
    "    \n",
    "    \n",
    "def _set_type(series, dtype):\n",
    "    _max, _min = max(series), min(series)\n",
    "    if dtype == 'uint':\n",
    "        if _max <= 255: return 'uint8'\n",
    "        elif _max <= 65535: return 'uint16'\n",
    "        elif _max <= 4294967295: return 'uint32'\n",
    "        else: return 'uint64'\n",
    "    elif dtype == 'int':\n",
    "        if _min >= -128 and _max <= 127: return 'int8'\n",
    "        elif _min >=-32768 and _max <= 32767: return 'int16'\n",
    "        elif _min >= -2147483648 and _max <= 2147483647: return 'int32'\n",
    "        else: return 'int64'\n",
    "    elif dtype == 'float':\n",
    "        if max(abs(_min), _max) <= 3.4028235e+38: return 'float32'\n",
    "        else: return 'float64'\n",
    "        \n",
    "def set_dtype(df, original_df, type_dict):\n",
    "    dtype = {x: df[x].dtype if x in original_df.columns else _set_type(df[x], type_dict[x]) for x in df.columns}\n",
    "    return df.astype(dtype)"
   ]
  },
  {
   "cell_type": "markdown",
   "metadata": {},
   "source": [
    "# linear regression"
   ]
  },
  {
   "cell_type": "code",
   "execution_count": null,
   "metadata": {
    "collapsed": true
   },
   "outputs": [],
   "source": [
    "def linear(df, group_col, value_col, time_col, score_map=None, table_name):\n",
    "    l = []\n",
    "    l1 = []\n",
    "    _df = df.sort_values('MONTHS_BALANCE').reset_index()\n",
    "    if score_map != None:\n",
    "        _df[value_col] = _df[value_col].map(score_map)\n",
    "    gp = _df[[group_col, time_col, value_col]].groupby(by=group_col)\n",
    "    for i, group in gp:\n",
    "        lg = LinearRegression()\n",
    "        lg.fit(group[[time_col]], group[[value_col]])\n",
    "        l.append([i, lg.coef_[0][0], lg.intercept_[0]])\n",
    "        \n",
    "        group1 = group.copy()\n",
    "        group1[time_col] = (group1[time_col]-group1[time_col].max()) / (group1[time_col].max()-group1[time_col].min()+1)\n",
    "        lg1 = LinearRegression()\n",
    "        lg1.fit(group[[time_col]], group[[value_col]])\n",
    "        l.append([i, lg.coef_[0][0], lg1.coef_[0][0]])\n",
    "    \n",
    "    name = [table_name + '_lgcoef_' + time_col + '_' + value_col,\n",
    "            table_name + '_lgnormalizedcoef_' + time_col + '_' + value_col]\n",
    "    tmp_df = set_dtype(pd.DataFrame(l, columns=[group_col] + name), df, {x: 'float' for x in name})\n",
    "    return tmp_df"
   ]
  },
  {
   "cell_type": "markdown",
   "metadata": {},
   "source": [
    "# split categorical features"
   ]
  },
  {
   "cell_type": "code",
   "execution_count": null,
   "metadata": {
    "collapsed": true
   },
   "outputs": [],
   "source": [
    "def split_categorical_feature(df, group_col, calc_col):\n",
    "    tmp_df = pd.concat([df[group_col], pd.get_dummies(df[calc_col], prefix=calc_col)], axis=1).groupby(by=group_col).sum().reset_index()\n",
    "    tmp_df = set_dtype(tmp_df, df, {x: 'uint' for x in tmp_df.columns})\n",
    "    return tmp_df.astype(dtype)"
   ]
  },
  {
   "cell_type": "markdown",
   "metadata": {},
   "source": [
    "# home made score"
   ]
  },
  {
   "cell_type": "code",
   "execution_count": null,
   "metadata": {
    "collapsed": true
   },
   "outputs": [],
   "source": [
    "def score(df, group_col, calc_col, time_col, score_map=None, table_name):\n",
    "    total = [group_col] + [calc_col, time_col]\n",
    "    _df = df.sort_values(time_col).reset_index()\n",
    "    if score_map != None:\n",
    "        _df[calc_col] = _df[calc_col].map(score_map)\n",
    "    group = _df.groupby(by=group_col)\n",
    "    r = df[group_col].copy()\n",
    "    name = table_name + '_score_' + time_col + '_' + calc_col\n",
    "    r[name] = (group[calc_col].shift(1).fillna(0) + group[calc_col].shift(-1).fillna(0) + _df[calc_col]) ** 2\\\n",
    "                    / np.exp(-(_df[time_col])**2/144/2)\n",
    "    r = set_type(r, df, {x: 'float' for x in r.columns})\n",
    "    del _df\n",
    "    gc.collect()\n",
    "    return __df"
   ]
  },
  {
   "cell_type": "markdown",
   "metadata": {},
   "source": [
    "# sth. / time"
   ]
  },
  {
   "cell_type": "code",
   "execution_count": null,
   "metadata": {
    "collapsed": true
   },
   "outputs": [],
   "source": [
    "def time_ratio(df, group_col, calc_col, time_col, score_map, table_name):\n",
    "    total = [group_col] + [calc_col, time_col]\n",
    "    _df = df.sort_values(time_col).reset_index()\n",
    "    if score_map != None:\n",
    "        _df[calc_col] = _df[calc_col].map(score_map)\n",
    "    _df[calc_col] = _df[calc_col] / abs(_df[time_col] - 1)\n",
    "    group = _df.groupby(by=group_col)\n",
    "    r = df[group_col].copy()\n",
    "    name = table_name + '_timeratio_' + time_col + '_' + calc_col\n",
    "    r[name] = group[calc_col]\n",
    "    r = set_type(r, df, {x: 'float' for x in r.columns})\n",
    "    del _df\n",
    "    gc.collect()\n",
    "    return __df"
   ]
  },
  {
   "cell_type": "markdown",
   "metadata": {},
   "source": [
    "# substraction and division"
   ]
  },
  {
   "cell_type": "code",
   "execution_count": null,
   "metadata": {
    "collapsed": true
   },
   "outputs": [],
   "source": [
    "def ratio_name(numerator, denominator): return numerator + '_divide_' + denominator\n",
    "def ratio(df, numerator, denominator):  return df[numerator] / df[denominator]\n",
    "\n",
    "def minus_name(col1, col2): return col1 + '_minus_' + col2\n",
    "def minus(df, col1, col2):  return df[col1] - df[col2]"
   ]
  },
  {
   "cell_type": "markdown",
   "metadata": {},
   "source": [
    "# count"
   ]
  },
  {
   "cell_type": "code",
   "execution_count": null,
   "metadata": {
    "collapsed": true
   },
   "outputs": [],
   "source": [
    "def count(df, group_col, calc_col, table_name):\n",
    "    group = df[[group_col, calc_col]].groupby(by=group_col)[[calc_col]].count().reset_index().rename(index=str, columns={calc_col: table_name + '_count_' + calc_col})\n",
    "    group = set_dtype(group, df, {x: 'uint' for x in group.columns})\n",
    "    gc.collect()\n",
    "    return group"
   ]
  },
  {
   "cell_type": "markdown",
   "metadata": {},
   "source": [
    "# last C on bureau balance"
   ]
  },
  {
   "cell_type": "code",
   "execution_count": null,
   "metadata": {
    "collapsed": true
   },
   "outputs": [],
   "source": [
    "def last_before_C(df_, group_col, value_col, time_col, score_map, table_name):\n",
    "    l = []\n",
    "    df = df_.sort_values('MONTHS_BALANCE', ascending=False).reset_index()\n",
    "    df[value_col] = df[value_col].map(score_map)\n",
    "    d = {}\n",
    "    for i in range(df.shape[0]):\n",
    "        idx = df.loc[i, group_col]\n",
    "        val = df.loc[i, value_col]\n",
    "        if d.get(idx) == None:\n",
    "            d[idx] = 'on C'\n",
    "        elif d.get(idx) == 'on C':\n",
    "            if val != 7:\n",
    "                d[idx] = 'not on C'\n",
    "                l.append([idx, val])\n",
    "    tmp = pd.DataFrame(l, columns=[group_col, table_name+'_last_on_C_'+value_col])\n",
    "    return tmp.astype({group_col: df[group_col].dtype, table_name+'_last_on_C_'+value_col: _set_type(tmp[table_name+'_last_on_C_'+value_col], 'uint')})"
   ]
  },
  {
   "cell_type": "markdown",
   "metadata": {},
   "source": [
    "# numerical feature delt package"
   ]
  },
  {
   "cell_type": "code",
   "execution_count": null,
   "metadata": {
    "collapsed": true
   },
   "outputs": [],
   "source": [
    "def one_third(series): return series.quantile(1/3)           \n",
    "def two_third(series): return series.quantile(2/3)\n",
    "def max_minus_min(series): return (series.max() - series.min())\n",
    "def two_minus_one_third(series): return(series.quantile(0.66666) - series.quantile(0.33333))\n",
    "def positive_count(series): return pd.Series(series > 0).sum()\n",
    "def negative_count(series): return pd.Series(series < 0).sum()\n",
    "def standard_error(series): return series.std()/np.sqrt(len(series))\n",
    "def normed_std(series): return series.std()/series.mean()\n",
    "def trimmed_mean_10_pct(series): return stats.trim_mean(series.dropna(), 0.1)\n",
    "def trimmed_mean_25_pct(series): return stats.trim_mean(series.dropna(), 0.25)\n",
    "\n",
    "extra_func = []\n",
    "\n",
    "def numerical_agg( df, gp_col, agg_col, extrafunc_list):\n",
    "    \n",
    "    '''\n",
    "    standard = ['max', 'min', 'std','mean', 'sum','median', 'mode']\n",
    "    possible extrafunc_list: ['two_minus_one_third', 'positive_count', 'negative_count', 'standard_error',\n",
    "                              'trimmed_mean_10_pct', 'trimmed_mean_25_pct', 'normed_std', 'max_minus_min', 'one_third', \n",
    "                              'two_third']\n",
    "    '''\n",
    "            \n",
    "        \n",
    "    list_tocall = []\n",
    "    for i in extrafunc_list:\n",
    "        if i not in set(['sum', 'median']):\n",
    "            list_tocall.append(eval(i))\n",
    "            \n",
    "    if extrafunc_list != None:   \n",
    "        agg_list.extend(list_tocall)\n",
    "    \n",
    "    _df = df.groupby(gp_col).agg({agg_col:agg_list})\n",
    "    columns = []\n",
    "    for pre in _df.columns.levels[0]:\n",
    "        for middle in _df.columns.levels[1]:\n",
    "            columns.append('bureau_%s_%s' %(pre,middle))\n",
    "    _df.columns = columns\n",
    "    \n",
    "    return _df.reset_index()"
   ]
  },
  {
   "cell_type": "code",
   "execution_count": 29,
   "metadata": {
    "ExecuteTime": {
     "end_time": "2018-06-15T19:25:26.763118Z",
     "start_time": "2018-06-15T19:25:26.755703Z"
    }
   },
   "outputs": [
    {
     "name": "stdout",
     "output_type": "stream",
     "text": [
      "[1, 2]\n",
      "[1]\n"
     ]
    }
   ],
   "source": [
    "x = [1]\n",
    "y = [2]\n",
    "z = x + y\n",
    "print(z)\n",
    "z[0] = 5\n",
    "print(x)"
   ]
  },
  {
   "cell_type": "code",
   "execution_count": null,
   "metadata": {
    "collapsed": true
   },
   "outputs": [],
   "source": []
  }
 ],
 "metadata": {
  "kernelspec": {
   "display_name": "Python 3",
   "language": "python",
   "name": "python3"
  },
  "language_info": {
   "codemirror_mode": {
    "name": "ipython",
    "version": 3
   },
   "file_extension": ".py",
   "mimetype": "text/x-python",
   "name": "python",
   "nbconvert_exporter": "python",
   "pygments_lexer": "ipython3",
   "version": "3.6.3"
  },
  "varInspector": {
   "cols": {
    "lenName": 16,
    "lenType": 16,
    "lenVar": 40
   },
   "kernels_config": {
    "python": {
     "delete_cmd_postfix": "",
     "delete_cmd_prefix": "del ",
     "library": "var_list.py",
     "varRefreshCmd": "print(var_dic_list())"
    },
    "r": {
     "delete_cmd_postfix": ") ",
     "delete_cmd_prefix": "rm(",
     "library": "var_list.r",
     "varRefreshCmd": "cat(var_dic_list()) "
    }
   },
   "types_to_exclude": [
    "module",
    "function",
    "builtin_function_or_method",
    "instance",
    "_Feature"
   ],
   "window_display": false
  }
 },
 "nbformat": 4,
 "nbformat_minor": 2
}
