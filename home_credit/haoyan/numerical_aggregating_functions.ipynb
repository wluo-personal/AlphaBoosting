{
 "cells": [
  {
   "cell_type": "code",
   "execution_count": 71,
   "metadata": {
    "ExecuteTime": {
     "end_time": "2018-06-11T17:45:25.046609Z",
     "start_time": "2018-06-11T17:45:25.027137Z"
    },
    "collapsed": true
   },
   "outputs": [],
   "source": [
    "import pandas as pd\n",
    "import numpy as np\n",
    "import sklearn\n",
    "import gc\n",
    "import os\n",
    "from scipy import stats"
   ]
  },
  {
   "cell_type": "code",
   "execution_count": 110,
   "metadata": {
    "ExecuteTime": {
     "end_time": "2018-06-11T18:01:06.024411Z",
     "start_time": "2018-06-11T18:01:05.904243Z"
    },
    "collapsed": true
   },
   "outputs": [],
   "source": [
    "# Default functions:['max', 'min',max_minus_min, 'std', 'mean','median', one_third,two_third]\n",
    "\n",
    "\n",
    "\n",
    "def numerical_agg( df, gp_col, agg_col, extrafunc_list = None):\n",
    "    \n",
    "    agg_list = ['max', 'min', 'std','mean']\n",
    "    '''\n",
    "    Possible extrafunc_list: ['sum','median','two_minus_one_third','positive_count', 'negative_count','standard_error', 'trimmed_mean_10_pct', 'trimmed_mean_25_pct','normed_std', 'max_minus_min','one_third','two_third']\n",
    "    '''\n",
    "    if extrafunc_list:\n",
    "        if 'one_third' in extrafunc_list:\n",
    "            def one_third(series):\n",
    "                return series.quantile(1/3)\n",
    "            \n",
    "        if 'two_third' in extrafunc_list:\n",
    "            def two_third(series):\n",
    "                return series.quantile(2/3)\n",
    "            \n",
    "        if 'max_minus_min' in extrafunc_list:\n",
    "            def max_minus_min(series):\n",
    "                return (series.max() - series.min())\n",
    "        \n",
    "        if 'two_minus_one_third' in extrafunc_list:\n",
    "#             print('two_minus_one')\n",
    "#             print('get two minus one')\n",
    "            def two_minus_one_third(series):\n",
    "                return(series.quantile(0.66666) - series.quantile(0.33333))\n",
    "       \n",
    "        if 'positive_count' in extrafunc_list:\n",
    "#             print('get positive count')\n",
    "            def positive_count(series):\n",
    "                return pd.Series(series > 0).sum()\n",
    "\n",
    "        if 'negative_count' in extrafunc_list:\n",
    "#             print('get negative count')\n",
    "            def negative_count(series):\n",
    "                return pd.Series(series < 0).sum()\n",
    "\n",
    "        if 'standard_error' in extrafunc_list:\n",
    "#             print('get std-error')\n",
    "            def standard_error(series):\n",
    "                return series.std()/np.sqrt(len(series))\n",
    "\n",
    "        if 'normed_std' in extrafunc_list:\n",
    "#             print('get normed_std')\n",
    "            def normed_std(series):\n",
    "                return series.std()/series.mean()\n",
    "\n",
    "        if 'trimmed_mean_10_pct' in extrafunc_list:\n",
    "#             print('get_trimmed 10 pct')\n",
    "            def trimmed_mean_10_pct(series):\n",
    "                return stats.trim_mean(series.dropna(), 0.1)\n",
    "\n",
    "        if 'trimmed_mean_25_pct' in extrafunc_list:\n",
    "#             print('get_trimmed 25 pct')\n",
    "            def trimmed_mean_25_pct(series):\n",
    "                return stats.trim_mean(series.dropna(), 0.25)\n",
    "        \n",
    "        list_tocall = []\n",
    "        for i in extrafunc_list:\n",
    "            if i not in set(['sum', 'median']):\n",
    "                list_tocall.append(eval(i))\n",
    "            \n",
    "    if extrafunc_list != None:   \n",
    "        agg_list.extend(list_tocall)\n",
    "    \n",
    "    _df = df.groupby(gp_col).agg({agg_col:agg_list})\n",
    "    columns = []\n",
    "    for pre in _df.columns.levels[0]:\n",
    "        for middle in _df.columns.levels[1]:\n",
    "            columns.append('bureau_%s_%s' %(pre,middle))\n",
    "    _df.columns = columns\n",
    "    \n",
    "    return _df.reset_index()\n",
    "            \n",
    "        "
   ]
  },
  {
   "cell_type": "code",
   "execution_count": 111,
   "metadata": {
    "ExecuteTime": {
     "end_time": "2018-06-11T18:01:06.239487Z",
     "start_time": "2018-06-11T18:01:06.230626Z"
    },
    "collapsed": true,
    "scrolled": true
   },
   "outputs": [],
   "source": [
    "Path = 'home/kai/qianli/home_credit/qianli/'\n",
    "test = pd.read_csv('./1.csv')"
   ]
  },
  {
   "cell_type": "code",
   "execution_count": 112,
   "metadata": {
    "ExecuteTime": {
     "end_time": "2018-06-11T18:01:06.644345Z",
     "start_time": "2018-06-11T18:01:06.635695Z"
    }
   },
   "outputs": [
    {
     "name": "stdout",
     "output_type": "stream",
     "text": [
      "   a    b    c\n",
      "0  1  NaN  1.0\n",
      "1  2  2.0  NaN\n",
      "2  3  3.0  2.0\n",
      "3  1  2.0  NaN\n",
      "4  2  2.0  NaN\n",
      "5  3  5.0  NaN\n",
      "6  1  4.0  NaN\n",
      "7  2  5.0  NaN\n",
      "8  3  4.0  NaN\n"
     ]
    }
   ],
   "source": [
    "print(test)"
   ]
  },
  {
   "cell_type": "code",
   "execution_count": 113,
   "metadata": {
    "ExecuteTime": {
     "end_time": "2018-06-11T18:01:07.476649Z",
     "start_time": "2018-06-11T18:01:07.439235Z"
    },
    "scrolled": true
   },
   "outputs": [
    {
     "name": "stdout",
     "output_type": "stream",
     "text": [
      "get normed_std\n"
     ]
    },
    {
     "data": {
      "text/html": [
       "<div>\n",
       "<style>\n",
       "    .dataframe thead tr:only-child th {\n",
       "        text-align: right;\n",
       "    }\n",
       "\n",
       "    .dataframe thead th {\n",
       "        text-align: left;\n",
       "    }\n",
       "\n",
       "    .dataframe tbody tr th {\n",
       "        vertical-align: top;\n",
       "    }\n",
       "</style>\n",
       "<table border=\"1\" class=\"dataframe\">\n",
       "  <thead>\n",
       "    <tr style=\"text-align: right;\">\n",
       "      <th></th>\n",
       "      <th>a</th>\n",
       "      <th>bureau_b_max</th>\n",
       "      <th>bureau_b_min</th>\n",
       "      <th>bureau_b_std</th>\n",
       "      <th>bureau_b_mean</th>\n",
       "      <th>bureau_b_two_minus_one_third</th>\n",
       "      <th>bureau_b_positive_count</th>\n",
       "      <th>bureau_b_negative_count</th>\n",
       "      <th>bureau_b_standard_error</th>\n",
       "      <th>bureau_b_trimmed_mean_10_pct</th>\n",
       "      <th>bureau_b_trimmed_mean_25_pct</th>\n",
       "      <th>bureau_b_normed_std</th>\n",
       "      <th>bureau_b_max_minus_min</th>\n",
       "      <th>bureau_b_one_third</th>\n",
       "      <th>bureau_b_two_third</th>\n",
       "    </tr>\n",
       "  </thead>\n",
       "  <tbody>\n",
       "    <tr>\n",
       "      <th>0</th>\n",
       "      <td>1</td>\n",
       "      <td>4.0</td>\n",
       "      <td>2.0</td>\n",
       "      <td>1.414214</td>\n",
       "      <td>3.0</td>\n",
       "      <td>0.66666</td>\n",
       "      <td>2.0</td>\n",
       "      <td>0.0</td>\n",
       "      <td>0.816497</td>\n",
       "      <td>3.0</td>\n",
       "      <td>3.0</td>\n",
       "      <td>0.471405</td>\n",
       "      <td>2.0</td>\n",
       "      <td>2.666667</td>\n",
       "      <td>3.333333</td>\n",
       "    </tr>\n",
       "    <tr>\n",
       "      <th>1</th>\n",
       "      <td>2</td>\n",
       "      <td>5.0</td>\n",
       "      <td>2.0</td>\n",
       "      <td>1.732051</td>\n",
       "      <td>3.0</td>\n",
       "      <td>0.99996</td>\n",
       "      <td>3.0</td>\n",
       "      <td>0.0</td>\n",
       "      <td>1.000000</td>\n",
       "      <td>3.0</td>\n",
       "      <td>3.0</td>\n",
       "      <td>0.577350</td>\n",
       "      <td>3.0</td>\n",
       "      <td>2.000000</td>\n",
       "      <td>3.000000</td>\n",
       "    </tr>\n",
       "    <tr>\n",
       "      <th>2</th>\n",
       "      <td>3</td>\n",
       "      <td>5.0</td>\n",
       "      <td>3.0</td>\n",
       "      <td>1.000000</td>\n",
       "      <td>4.0</td>\n",
       "      <td>0.66666</td>\n",
       "      <td>3.0</td>\n",
       "      <td>0.0</td>\n",
       "      <td>0.577350</td>\n",
       "      <td>4.0</td>\n",
       "      <td>4.0</td>\n",
       "      <td>0.250000</td>\n",
       "      <td>2.0</td>\n",
       "      <td>3.666667</td>\n",
       "      <td>4.333333</td>\n",
       "    </tr>\n",
       "  </tbody>\n",
       "</table>\n",
       "</div>"
      ],
      "text/plain": [
       "   a  bureau_b_max  bureau_b_min  bureau_b_std  bureau_b_mean  \\\n",
       "0  1           4.0           2.0      1.414214            3.0   \n",
       "1  2           5.0           2.0      1.732051            3.0   \n",
       "2  3           5.0           3.0      1.000000            4.0   \n",
       "\n",
       "   bureau_b_two_minus_one_third  bureau_b_positive_count  \\\n",
       "0                       0.66666                      2.0   \n",
       "1                       0.99996                      3.0   \n",
       "2                       0.66666                      3.0   \n",
       "\n",
       "   bureau_b_negative_count  bureau_b_standard_error  \\\n",
       "0                      0.0                 0.816497   \n",
       "1                      0.0                 1.000000   \n",
       "2                      0.0                 0.577350   \n",
       "\n",
       "   bureau_b_trimmed_mean_10_pct  bureau_b_trimmed_mean_25_pct  \\\n",
       "0                           3.0                           3.0   \n",
       "1                           3.0                           3.0   \n",
       "2                           4.0                           4.0   \n",
       "\n",
       "   bureau_b_normed_std  bureau_b_max_minus_min  bureau_b_one_third  \\\n",
       "0             0.471405                     2.0            2.666667   \n",
       "1             0.577350                     3.0            2.000000   \n",
       "2             0.250000                     2.0            3.666667   \n",
       "\n",
       "   bureau_b_two_third  \n",
       "0            3.333333  \n",
       "1            3.000000  \n",
       "2            4.333333  "
      ]
     },
     "execution_count": 113,
     "metadata": {},
     "output_type": "execute_result"
    }
   ],
   "source": [
    "numerical_agg(test,'a','b', extrafunc_list = ['sum','median','two_minus_one_third','positive_count', 'negative_count','standard_error', 'trimmed_mean_10_pct', 'trimmed_mean_25_pct','normed_std', 'max_minus_min','one_third','two_third'])"
   ]
  }
 ],
 "metadata": {
  "kernelspec": {
   "display_name": "Python 3",
   "language": "python",
   "name": "python3"
  },
  "language_info": {
   "codemirror_mode": {
    "name": "ipython",
    "version": 3
   },
   "file_extension": ".py",
   "mimetype": "text/x-python",
   "name": "python",
   "nbconvert_exporter": "python",
   "pygments_lexer": "ipython3",
   "version": "3.6.3"
  },
  "varInspector": {
   "cols": {
    "lenName": 16,
    "lenType": 16,
    "lenVar": 40
   },
   "kernels_config": {
    "python": {
     "delete_cmd_postfix": "",
     "delete_cmd_prefix": "del ",
     "library": "var_list.py",
     "varRefreshCmd": "print(var_dic_list())"
    },
    "r": {
     "delete_cmd_postfix": ") ",
     "delete_cmd_prefix": "rm(",
     "library": "var_list.r",
     "varRefreshCmd": "cat(var_dic_list()) "
    }
   },
   "types_to_exclude": [
    "module",
    "function",
    "builtin_function_or_method",
    "instance",
    "_Feature"
   ],
   "window_display": false
  }
 },
 "nbformat": 4,
 "nbformat_minor": 2
}
