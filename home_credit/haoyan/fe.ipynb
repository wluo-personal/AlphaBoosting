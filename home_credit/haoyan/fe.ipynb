{
 "cells": [
  {
   "cell_type": "code",
   "execution_count": 1,
   "metadata": {
    "ExecuteTime": {
     "end_time": "2018-06-07T17:45:56.586377Z",
     "start_time": "2018-06-07T17:45:56.355139Z"
    },
    "collapsed": true
   },
   "outputs": [],
   "source": [
    "import pandas as pd\n",
    "import numpy as np\n",
    "\n",
    "def PIMP(df, n_perm, feature_importance_func, col, label):\n",
    "    np.random.seed(2018)\n",
    "    result = [feature_importance_func(df[col], df[label])]\n",
    "    for i in range(n_perm):\n",
    "        x = df[col].copy()\n",
    "        np.random.shuffle(x)\n",
    "        result.append(feature_importance_func(x, df[label]))\n",
    "    return result\n",
    "\n",
    "def corr(x, y):\n",
    "    return x.corr(y, method='spearman')"
   ]
  },
  {
   "cell_type": "code",
   "execution_count": 2,
   "metadata": {
    "ExecuteTime": {
     "end_time": "2018-06-07T17:46:37.445933Z",
     "start_time": "2018-06-07T17:46:25.635558Z"
    }
   },
   "outputs": [
    {
     "name": "stdout",
     "output_type": "stream",
     "text": [
      "index\n"
     ]
    },
    {
     "ename": "KeyboardInterrupt",
     "evalue": "",
     "output_type": "error",
     "traceback": [
      "\u001b[0;31m---------------------------------------------------------------------------\u001b[0m",
      "\u001b[0;31mKeyboardInterrupt\u001b[0m                         Traceback (most recent call last)",
      "\u001b[0;32m<ipython-input-2-05897a7711a2>\u001b[0m in \u001b[0;36m<module>\u001b[0;34m()\u001b[0m\n\u001b[1;32m      7\u001b[0m \u001b[0;32mfor\u001b[0m \u001b[0mi\u001b[0m \u001b[0;32min\u001b[0m \u001b[0mdf\u001b[0m\u001b[0;34m.\u001b[0m\u001b[0mcolumns\u001b[0m\u001b[0;34m.\u001b[0m\u001b[0mvalues\u001b[0m\u001b[0;34m:\u001b[0m\u001b[0;34m\u001b[0m\u001b[0m\n\u001b[1;32m      8\u001b[0m     \u001b[0mprint\u001b[0m\u001b[0;34m(\u001b[0m\u001b[0mi\u001b[0m\u001b[0;34m)\u001b[0m\u001b[0;34m\u001b[0m\u001b[0m\n\u001b[0;32m----> 9\u001b[0;31m     \u001b[0mx\u001b[0m\u001b[0;34m.\u001b[0m\u001b[0mappend\u001b[0m\u001b[0;34m(\u001b[0m\u001b[0mPIMP\u001b[0m\u001b[0;34m(\u001b[0m\u001b[0mdf\u001b[0m\u001b[0;34m,\u001b[0m \u001b[0;36m10\u001b[0m\u001b[0;34m,\u001b[0m \u001b[0mcorr\u001b[0m\u001b[0;34m,\u001b[0m \u001b[0mi\u001b[0m\u001b[0;34m,\u001b[0m \u001b[0;34m'is_attributed'\u001b[0m\u001b[0;34m)\u001b[0m\u001b[0;34m)\u001b[0m\u001b[0;34m\u001b[0m\u001b[0m\n\u001b[0m\u001b[1;32m     10\u001b[0m     \u001b[0my\u001b[0m\u001b[0;34m.\u001b[0m\u001b[0mappend\u001b[0m\u001b[0;34m(\u001b[0m\u001b[0mi\u001b[0m\u001b[0;34m)\u001b[0m\u001b[0;34m\u001b[0m\u001b[0m\n\u001b[1;32m     11\u001b[0m     \u001b[0mprint\u001b[0m\u001b[0;34m(\u001b[0m\u001b[0midx\u001b[0m\u001b[0;34m)\u001b[0m\u001b[0;34m\u001b[0m\u001b[0m\n",
      "\u001b[0;32m<ipython-input-1-e91423cbf8e8>\u001b[0m in \u001b[0;36mPIMP\u001b[0;34m(df, n_perm, feature_importance_func, col, label)\u001b[0m\n\u001b[1;32m      7\u001b[0m     \u001b[0;32mfor\u001b[0m \u001b[0mi\u001b[0m \u001b[0;32min\u001b[0m \u001b[0mrange\u001b[0m\u001b[0;34m(\u001b[0m\u001b[0mn_perm\u001b[0m\u001b[0;34m)\u001b[0m\u001b[0;34m:\u001b[0m\u001b[0;34m\u001b[0m\u001b[0m\n\u001b[1;32m      8\u001b[0m         \u001b[0mx\u001b[0m \u001b[0;34m=\u001b[0m \u001b[0mdf\u001b[0m\u001b[0;34m[\u001b[0m\u001b[0mcol\u001b[0m\u001b[0;34m]\u001b[0m\u001b[0;34m.\u001b[0m\u001b[0mcopy\u001b[0m\u001b[0;34m(\u001b[0m\u001b[0;34m)\u001b[0m\u001b[0;34m\u001b[0m\u001b[0m\n\u001b[0;32m----> 9\u001b[0;31m         \u001b[0mnp\u001b[0m\u001b[0;34m.\u001b[0m\u001b[0mrandom\u001b[0m\u001b[0;34m.\u001b[0m\u001b[0mshuffle\u001b[0m\u001b[0;34m(\u001b[0m\u001b[0mx\u001b[0m\u001b[0;34m)\u001b[0m\u001b[0;34m\u001b[0m\u001b[0m\n\u001b[0m\u001b[1;32m     10\u001b[0m         \u001b[0mresult\u001b[0m\u001b[0;34m.\u001b[0m\u001b[0mappend\u001b[0m\u001b[0;34m(\u001b[0m\u001b[0mfeature_importance_func\u001b[0m\u001b[0;34m(\u001b[0m\u001b[0mx\u001b[0m\u001b[0;34m,\u001b[0m \u001b[0mdf\u001b[0m\u001b[0;34m[\u001b[0m\u001b[0mlabel\u001b[0m\u001b[0;34m]\u001b[0m\u001b[0;34m)\u001b[0m\u001b[0;34m)\u001b[0m\u001b[0;34m\u001b[0m\u001b[0m\n\u001b[1;32m     11\u001b[0m     \u001b[0;32mreturn\u001b[0m \u001b[0mresult\u001b[0m\u001b[0;34m\u001b[0m\u001b[0m\n",
      "\u001b[0;32mmtrand.pyx\u001b[0m in \u001b[0;36mmtrand.RandomState.shuffle\u001b[0;34m()\u001b[0m\n",
      "\u001b[0;32mmtrand.pyx\u001b[0m in \u001b[0;36mmtrand.RandomState.shuffle\u001b[0;34m()\u001b[0m\n",
      "\u001b[0;32m~/anaconda3/lib/python3.6/site-packages/pandas/core/series.py\u001b[0m in \u001b[0;36m__setitem__\u001b[0;34m(self, key, value)\u001b[0m\n\u001b[1;32m    768\u001b[0m \u001b[0;34m\u001b[0m\u001b[0m\n\u001b[1;32m    769\u001b[0m         \u001b[0;31m# do the setitem\u001b[0m\u001b[0;34m\u001b[0m\u001b[0;34m\u001b[0m\u001b[0m\n\u001b[0;32m--> 770\u001b[0;31m         \u001b[0mcacher_needs_updating\u001b[0m \u001b[0;34m=\u001b[0m \u001b[0mself\u001b[0m\u001b[0;34m.\u001b[0m\u001b[0m_check_is_chained_assignment_possible\u001b[0m\u001b[0;34m(\u001b[0m\u001b[0;34m)\u001b[0m\u001b[0;34m\u001b[0m\u001b[0m\n\u001b[0m\u001b[1;32m    771\u001b[0m         \u001b[0msetitem\u001b[0m\u001b[0;34m(\u001b[0m\u001b[0mkey\u001b[0m\u001b[0;34m,\u001b[0m \u001b[0mvalue\u001b[0m\u001b[0;34m)\u001b[0m\u001b[0;34m\u001b[0m\u001b[0m\n\u001b[1;32m    772\u001b[0m         \u001b[0;32mif\u001b[0m \u001b[0mcacher_needs_updating\u001b[0m\u001b[0;34m:\u001b[0m\u001b[0;34m\u001b[0m\u001b[0m\n",
      "\u001b[0;31mKeyboardInterrupt\u001b[0m: "
     ]
    }
   ],
   "source": [
    "PATH = '/home/kai/data/kaggle/talkingdata/4thplace/'\n",
    "\n",
    "df = pd.read_feather(PATH + '1.ftr')\n",
    "x = []\n",
    "y = []\n",
    "idx = 1\n",
    "for i in df.columns.values:\n",
    "    print(i)\n",
    "    x.append(PIMP(df, 5, corr, i, 'is_attributed'))\n",
    "    y.append(i)\n",
    "    print(idx)\n",
    "    idx += 1"
   ]
  },
  {
   "cell_type": "code",
   "execution_count": 3,
   "metadata": {
    "ExecuteTime": {
     "end_time": "2018-06-07T17:46:43.370963Z",
     "start_time": "2018-06-07T17:46:43.367452Z"
    }
   },
   "outputs": [
    {
     "name": "stdout",
     "output_type": "stream",
     "text": [
      "['index' 'ip' 'app' 'device' 'os' 'channel' 'click_time' 'is_attributed'\n",
      " 'click_id' 'is_test' 'day' 'hour' 'minute' 'minute10' 'hourminute'\n",
      " 'hourminute10' 'dayhourminute' 'dayhourminute10' 'machine'\n",
      " 'click_timestamp' 'woe_ip_app_channel' 'woe_ip_device_nextClickLeakDayFlt'\n",
      " 'nunique_machine_app' 'woe_os_channel_nextClickLeakDayFlt'\n",
      " 'variance_ip_device_hour' 'range_count_ip_device_os_dayhourminute10'\n",
      " 'woe_app_device_os_channel' 'woe_channel' 'count_ip_app_os_channel'\n",
      " 'nunique_day_ip_os' 'count_app_channel' 'woe_app_nextClickLeakDayFlt'\n",
      " 'woe_ip_channel' 'unique_ratio_day_ip_machine' 'nunique_machine_channel'\n",
      " 'time_to_n_next_click_1_day_ip_app_device_os' 'woe_os'\n",
      " 'woe_ip_device_os_channel' 'count_ip_app_device_day' 'com1_ip'\n",
      " 'unique_ratio_machine_ip' 'count_ratio_ip_machine'\n",
      " 'count_ip_app_device_os_day_hour' 'count_app_device_day_hour'\n",
      " 'woe_app_device_os' 'woe_ip_app_os_channel'\n",
      " 'range_count_app_os_channel_dayhourminute10' 'woe_app_os_channel'\n",
      " 'unique_ratio_machine_app' 'unique_ratio_day_ip_channel' 'woe_ip'\n",
      " 'filter_time_to_n_next_click_1_day_ip_app_device_os' 'cumcount_ip_day'\n",
      " 'nunique_day_ip_channel' 'woe_ip_channel_nextClickLeakDayFlt'\n",
      " 'woe_ip_device' 'range_count_ip_channel_dayhourminute10'\n",
      " 'cumcount_app_device_os_day' 'count_ip_day' 'count_ratio_app_channel'\n",
      " 'woe_ip_app_nextClickLeakDayFlt' 'count_app_day_hourminute'\n",
      " 'count_ratio_channel_app' 'nunique_day_ip_device'\n",
      " 'range_count_app_os_channel_dayhourminute'\n",
      " 'range_count_ip_device_os_dayhourminute'\n",
      " 'woe_device_channel_nextClickLeakDayFlt' 'woe_ip_device_channel'\n",
      " 'woe_ip_app_device_os' 'count_ratio_ip_channel' 'woe_app_device'\n",
      " 'count_ip' 'woe_device_os_nextClickLeakDayFlt' 'nunique_machine_ip'\n",
      " 'count_app_os_channel_day_hour' 'woe_channel_nextClickLeakDayFlt'\n",
      " 'count_ip_os' 'time_to_n_next_click_2_day_ip_app_device_os'\n",
      " 'woe_ip_app_os' 'nunique_day_ip_app' 'woe_app_os' 'woe_ip_app_device'\n",
      " 'cumcount_ip_app_device_os_day_hour' 'range_count_ip_day'\n",
      " 'range_count_ip_channel_dayhourminute' 'woe_ip_app_device_channel'\n",
      " 'unique_ratio_day_ip_os' 'range_count_ip_dayhourminute10'\n",
      " 'woe_ip_nextClickLeakDayFlt' 'woe_device'\n",
      " 'woe_app_device_nextClickLeakDayFlt' 'unique_ratio_day_ip_device'\n",
      " 'count_ip_app_os_channel_day' 'count_ip_device_os_day_hourminute10'\n",
      " 'woe_app_channel_nextClickLeakDayFlt' 'woe_ip_os' 'com_ip'\n",
      " 'nunique_day_ip_machine' 'unique_ratio_machine_channel'\n",
      " 'woe_app_os_nextClickLeakDayFlt' 'woe_ip_os_channel' 'woe_ip_app'\n",
      " 'count_device_os_day_hourminute10'\n",
      " 'filter_time_to_n_next_click_2_day_ip_app_device_os' 'woe_app'\n",
      " 'count_app_device_channel_day_hour' 'woe_ip_os_nextClickLeakDayFlt'\n",
      " 'woe_os_nextClickLeakDayFlt' 'range_count_ip_dayhourminute'\n",
      " 'count_ratio_machine_ip' 'range_count_ip_day_hour'\n",
      " 'woe_app_device_channel' 'woe_ip_device_os' 'unique_ratio_day_ip_app'\n",
      " 'woe_device_nextClickLeakDayFlt' 'count_ip_app_device_channel_day'\n",
      " 'woe_app_channel' 'cumcount_ratio_ip_day']\n"
     ]
    }
   ],
   "source": [
    "print(df.columns.values)"
   ]
  },
  {
   "cell_type": "code",
   "execution_count": null,
   "metadata": {
    "collapsed": true
   },
   "outputs": [],
   "source": []
  }
 ],
 "metadata": {
  "kernelspec": {
   "display_name": "Python 3",
   "language": "python",
   "name": "python3"
  },
  "language_info": {
   "codemirror_mode": {
    "name": "ipython",
    "version": 3
   },
   "file_extension": ".py",
   "mimetype": "text/x-python",
   "name": "python",
   "nbconvert_exporter": "python",
   "pygments_lexer": "ipython3",
   "version": "3.6.3"
  },
  "varInspector": {
   "cols": {
    "lenName": 16,
    "lenType": 16,
    "lenVar": 40
   },
   "kernels_config": {
    "python": {
     "delete_cmd_postfix": "",
     "delete_cmd_prefix": "del ",
     "library": "var_list.py",
     "varRefreshCmd": "print(var_dic_list())"
    },
    "r": {
     "delete_cmd_postfix": ") ",
     "delete_cmd_prefix": "rm(",
     "library": "var_list.r",
     "varRefreshCmd": "cat(var_dic_list()) "
    }
   },
   "types_to_exclude": [
    "module",
    "function",
    "builtin_function_or_method",
    "instance",
    "_Feature"
   ],
   "window_display": false
  }
 },
 "nbformat": 4,
 "nbformat_minor": 2
}
