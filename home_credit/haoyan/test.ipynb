{
 "cells": [
  {
   "cell_type": "code",
   "execution_count": 8,
   "metadata": {
    "ExecuteTime": {
     "end_time": "2018-06-18T13:55:17.265431Z",
     "start_time": "2018-06-18T13:55:07.372452Z"
    }
   },
   "outputs": [
    {
     "name": "stdout",
     "output_type": "stream",
     "text": [
      "train\n",
      "test\n",
      "bureau\n",
      "bureau_balance\n",
      "concat\n"
     ]
    }
   ],
   "source": [
    "import pandas as pd\n",
    "import numpy as np\n",
    "\n",
    "PATH = '/home/kai/data/kaggle/homecredit/'\n",
    "train = pd.read_csv(PATH + 'application_train.csv')\n",
    "print('train')\n",
    "test = pd.read_csv(PATH + 'application_test.csv')\n",
    "print('test')\n",
    "bureau = pd.read_csv(PATH + 'bureau.csv')\n",
    "print('bureau')\n",
    "bb = pd.read_csv(PATH + 'bureau_balance.csv')\n",
    "print('bureau_balance')\n",
    "df = pd.concat([train[['SK_ID_CURR']], test[['SK_ID_CURR']]])\n",
    "print('concat')"
   ]
  },
  {
   "cell_type": "code",
   "execution_count": null,
   "metadata": {
    "collapsed": true
   },
   "outputs": [],
   "source": [
    "bbid = set(bb.SK_ID_BUREAU)\n",
    "bid = set(bureau.SK_ID_BUREAU)\n",
    "bcid = set(bureau.SK_ID_CURR)\n",
    "trid = set(train.SK_ID_CURR)\n",
    "teid = set(test.SK_ID_CURR)\n",
    "diid = set(bbid & bid)\n",
    "dicid = set([bureau.loc[i, 'SK_ID_CURR'] for i in range(bureau.shape[0]) if bureau.loc[i, 'SK_ID_BUREAU'] in diid])"
   ]
  },
  {
   "cell_type": "code",
   "execution_count": null,
   "metadata": {
    "collapsed": true
   },
   "outputs": [],
   "source": [
    "print('te-bcid', len(teid&bcid)/len(teid),len(teid&bcid),len(teid))\n",
    "print('te-bcid', len(trid&bcid)/len(trid),len(trid&bcid),len(trid))"
   ]
  },
  {
   "cell_type": "code",
   "execution_count": null,
   "metadata": {
    "collapsed": true
   },
   "outputs": [],
   "source": [
    "print('te-bb', len(dicid&teid)/len(teid),len(dicid&teid),len(teid))\n",
    "print('tr-bb', len(dicid&trid)/len(trid),len(dicid&trid),len(trid))"
   ]
  },
  {
   "cell_type": "code",
   "execution_count": null,
   "metadata": {
    "collapsed": true
   },
   "outputs": [],
   "source": [
    "print(len(ditrid))"
   ]
  },
  {
   "cell_type": "code",
   "execution_count": 2,
   "metadata": {
    "ExecuteTime": {
     "end_time": "2018-06-18T13:50:02.839492Z",
     "start_time": "2018-06-18T13:50:02.720271Z"
    },
    "collapsed": true
   },
   "outputs": [],
   "source": [
    "import pandas as pd\n",
    "PATH = '/home/kai/data/kaggle/homecredit/'\n",
    "\n",
    "x = pd.read_csv(PATH + 'submission_merged0.csv')"
   ]
  },
  {
   "cell_type": "code",
   "execution_count": 4,
   "metadata": {
    "ExecuteTime": {
     "end_time": "2018-06-18T13:50:53.303077Z",
     "start_time": "2018-06-18T13:50:53.274193Z"
    },
    "collapsed": true
   },
   "outputs": [],
   "source": [
    "y = x.groupby('SK_ID_CURR').mean().reset_index()"
   ]
  },
  {
   "cell_type": "code",
   "execution_count": 5,
   "metadata": {
    "ExecuteTime": {
     "end_time": "2018-06-18T13:50:58.718018Z",
     "start_time": "2018-06-18T13:50:58.705420Z"
    }
   },
   "outputs": [
    {
     "name": "stdout",
     "output_type": "stream",
     "text": [
      "       SK_ID_CURR    TARGET\n",
      "0          100001  0.024176\n",
      "1          100005  0.131540\n",
      "2          100013  0.006864\n",
      "3          100028  0.038154\n",
      "4          100038  0.133730\n",
      "5          100042  0.013979\n",
      "6          100057  0.003022\n",
      "7          100065  0.024512\n",
      "8          100066  0.005154\n",
      "9          100067  0.054297\n",
      "10         100074  0.057534\n",
      "11         100090  0.022338\n",
      "12         100091  0.107015\n",
      "13         100092  0.027780\n",
      "14         100106  0.029416\n",
      "15         100107  0.173929\n",
      "16         100109  0.043275\n",
      "17         100117  0.016109\n",
      "18         100128  0.048772\n",
      "19         100141  0.029929\n",
      "20         100150  0.014425\n",
      "21         100168  0.003050\n",
      "22         100169  0.019907\n",
      "23         100170  0.213396\n",
      "24         100171  0.057386\n",
      "25         100172  0.162565\n",
      "26         100184  0.042113\n",
      "27         100187  0.046182\n",
      "28         100212  0.015061\n",
      "29         100222  0.049663\n",
      "...           ...       ...\n",
      "48714      455963  0.014638\n",
      "48715      455965  0.001692\n",
      "48716      456007  0.180286\n",
      "48717      456008  0.007211\n",
      "48718      456009  0.007682\n",
      "48719      456010  0.095124\n",
      "48720      456011  0.021868\n",
      "48721      456013  0.329000\n",
      "48722      456028  0.079420\n",
      "48723      456058  0.244523\n",
      "48724      456111  0.039400\n",
      "48725      456114  0.152185\n",
      "48726      456115  0.013499\n",
      "48727      456116  0.006507\n",
      "48728      456119  0.007143\n",
      "48729      456120  0.130319\n",
      "48730      456122  0.053719\n",
      "48731      456123  0.019559\n",
      "48732      456166  0.073720\n",
      "48733      456167  0.025238\n",
      "48734      456168  0.052285\n",
      "48735      456169  0.039383\n",
      "48736      456170  0.012396\n",
      "48737      456189  0.094376\n",
      "48738      456202  0.036432\n",
      "48739      456221  0.063065\n",
      "48740      456222  0.057404\n",
      "48741      456223  0.004920\n",
      "48742      456224  0.010243\n",
      "48743      456250  0.330392\n",
      "\n",
      "[48744 rows x 2 columns]\n"
     ]
    }
   ],
   "source": [
    "print(y)"
   ]
  },
  {
   "cell_type": "code",
   "execution_count": 11,
   "metadata": {
    "ExecuteTime": {
     "end_time": "2018-06-18T13:55:39.886851Z",
     "start_time": "2018-06-18T13:55:39.875760Z"
    }
   },
   "outputs": [
    {
     "data": {
      "text/plain": [
       "0        100001\n",
       "1        100005\n",
       "2        100013\n",
       "3        100028\n",
       "4        100038\n",
       "5        100042\n",
       "6        100057\n",
       "7        100065\n",
       "8        100066\n",
       "9        100067\n",
       "10       100074\n",
       "11       100090\n",
       "12       100091\n",
       "13       100092\n",
       "14       100106\n",
       "15       100107\n",
       "16       100109\n",
       "17       100117\n",
       "18       100128\n",
       "19       100141\n",
       "20       100150\n",
       "21       100168\n",
       "22       100169\n",
       "23       100170\n",
       "24       100171\n",
       "25       100172\n",
       "26       100184\n",
       "27       100187\n",
       "28       100212\n",
       "29       100222\n",
       "          ...  \n",
       "48714    455963\n",
       "48715    455965\n",
       "48716    456007\n",
       "48717    456008\n",
       "48718    456009\n",
       "48719    456010\n",
       "48720    456011\n",
       "48721    456013\n",
       "48722    456028\n",
       "48723    456058\n",
       "48724    456111\n",
       "48725    456114\n",
       "48726    456115\n",
       "48727    456116\n",
       "48728    456119\n",
       "48729    456120\n",
       "48730    456122\n",
       "48731    456123\n",
       "48732    456166\n",
       "48733    456167\n",
       "48734    456168\n",
       "48735    456169\n",
       "48736    456170\n",
       "48737    456189\n",
       "48738    456202\n",
       "48739    456221\n",
       "48740    456222\n",
       "48741    456223\n",
       "48742    456224\n",
       "48743    456250\n",
       "Name: SK_ID_CURR, Length: 48744, dtype: int64"
      ]
     },
     "execution_count": 11,
     "metadata": {},
     "output_type": "execute_result"
    }
   ],
   "source": [
    "test.SK_ID_CURR"
   ]
  },
  {
   "cell_type": "code",
   "execution_count": 6,
   "metadata": {
    "ExecuteTime": {
     "end_time": "2018-06-18T13:52:22.580060Z",
     "start_time": "2018-06-18T13:52:22.573279Z"
    },
    "scrolled": true
   },
   "outputs": [
    {
     "name": "stdout",
     "output_type": "stream",
     "text": [
      "200\n"
     ]
    }
   ],
   "source": [
    "print((y['TARGET']>0.5).sum())"
   ]
  },
  {
   "cell_type": "code",
   "execution_count": 7,
   "metadata": {
    "ExecuteTime": {
     "end_time": "2018-06-18T13:52:24.923843Z",
     "start_time": "2018-06-18T13:52:24.826147Z"
    },
    "collapsed": true
   },
   "outputs": [],
   "source": [
    "y.to_csv(PATH + 'submission_wrong.csv', index=False)"
   ]
  },
  {
   "cell_type": "code",
   "execution_count": 1,
   "metadata": {
    "ExecuteTime": {
     "end_time": "2018-06-19T17:44:07.484229Z",
     "start_time": "2018-06-19T17:43:11.778582Z"
    },
    "collapsed": true
   },
   "outputs": [],
   "source": [
    "import pandas as pd\n",
    "\n",
    "PATH = '/home/kai/data/kaggle/homecredit/'\n",
    "x = pd.read_csv(PATH + 'previous_application.csv')\n",
    "y = pd.read_csv(PATH + 'installments_payments.csv')"
   ]
  },
  {
   "cell_type": "code",
   "execution_count": 2,
   "metadata": {
    "ExecuteTime": {
     "end_time": "2018-06-19T17:45:26.717626Z",
     "start_time": "2018-06-19T17:45:26.649249Z"
    }
   },
   "outputs": [
    {
     "data": {
      "text/plain": [
       "{'Approved', 'Canceled', 'Refused', 'Unused offer'}"
      ]
     },
     "execution_count": 2,
     "metadata": {},
     "output_type": "execute_result"
    }
   ],
   "source": [
    "set(x['NAME_CONTRACT_STATUS'])"
   ]
  },
  {
   "cell_type": "code",
   "execution_count": 7,
   "metadata": {
    "ExecuteTime": {
     "end_time": "2018-06-19T17:46:54.582700Z",
     "start_time": "2018-06-19T17:46:54.305348Z"
    }
   },
   "outputs": [
    {
     "data": {
      "text/plain": [
       "4          1784265\n",
       "19         1173070\n",
       "20         1506815\n",
       "22         1172842\n",
       "23         1172937\n",
       "29         1583704\n",
       "36         2766278\n",
       "45         2621158\n",
       "52         1912041\n",
       "54         1399859\n",
       "80         2012211\n",
       "81         1299881\n",
       "84         2796269\n",
       "85         1981960\n",
       "100        2289239\n",
       "101        1196771\n",
       "103        1247611\n",
       "105        1067163\n",
       "109        1729112\n",
       "110        1192792\n",
       "114        1168659\n",
       "116        2640293\n",
       "117        1070086\n",
       "118        2545472\n",
       "125        2449093\n",
       "137        2255346\n",
       "145        1375746\n",
       "153        1892110\n",
       "158        2285261\n",
       "163        1979918\n",
       "            ...   \n",
       "1670114    1483359\n",
       "1670115    1252861\n",
       "1670116    1203903\n",
       "1670117    1228257\n",
       "1670119    2380375\n",
       "1670120    2494083\n",
       "1670121    1637907\n",
       "1670123    2594678\n",
       "1670124    1378950\n",
       "1670126    2698547\n",
       "1670133    2786851\n",
       "1670134    2046829\n",
       "1670136    2625018\n",
       "1670138    2740155\n",
       "1670141    1814440\n",
       "1670142    1483533\n",
       "1670144    1867344\n",
       "1670154    1615585\n",
       "1670157    2623976\n",
       "1670161    2461432\n",
       "1670181    2710915\n",
       "1670184    1458393\n",
       "1670185    2815037\n",
       "1670191    1755809\n",
       "1670193    1120445\n",
       "1670197    1854636\n",
       "1670203    2844282\n",
       "1670204    1407146\n",
       "1670205    2815130\n",
       "1670207    1662353\n",
       "Name: SK_ID_PREV, Length: 290678, dtype: int64"
      ]
     },
     "execution_count": 7,
     "metadata": {},
     "output_type": "execute_result"
    }
   ],
   "source": [
    "z = x[x['NAME_CONTRACT_STATUS']=='Refused']\n",
    "z.SK_ID_PREV"
   ]
  },
  {
   "cell_type": "code",
   "execution_count": 12,
   "metadata": {
    "ExecuteTime": {
     "end_time": "2018-06-19T17:49:11.283369Z",
     "start_time": "2018-06-19T17:49:06.200378Z"
    }
   },
   "outputs": [
    {
     "name": "stdout",
     "output_type": "stream",
     "text": [
      "0\n",
      "0\n",
      "0\n",
      "0\n",
      "0\n",
      "0\n",
      "0\n",
      "0\n",
      "0\n",
      "0\n",
      "0\n",
      "0\n",
      "0\n",
      "0\n",
      "0\n",
      "0\n",
      "0\n",
      "0\n",
      "0\n",
      "0\n",
      "0\n",
      "0\n",
      "0\n",
      "0\n",
      "0\n",
      "0\n",
      "0\n",
      "0\n",
      "0\n",
      "0\n",
      "0\n",
      "0\n",
      "0\n",
      "0\n",
      "0\n",
      "0\n",
      "0\n",
      "0\n",
      "0\n",
      "0\n",
      "0\n",
      "0\n",
      "0\n",
      "0\n",
      "0\n",
      "0\n",
      "0\n",
      "0\n",
      "0\n",
      "0\n",
      "0\n",
      "0\n",
      "0\n",
      "0\n",
      "0\n",
      "0\n",
      "0\n",
      "0\n",
      "0\n",
      "0\n",
      "0\n",
      "0\n",
      "0\n",
      "0\n",
      "0\n",
      "0\n",
      "0\n",
      "0\n",
      "0\n",
      "0\n",
      "0\n",
      "0\n",
      "0\n",
      "0\n",
      "0\n",
      "0\n",
      "0\n",
      "0\n",
      "0\n",
      "0\n",
      "0\n",
      "0\n",
      "0\n",
      "0\n",
      "0\n",
      "0\n",
      "0\n"
     ]
    },
    {
     "ename": "KeyboardInterrupt",
     "evalue": "",
     "output_type": "error",
     "traceback": [
      "\u001b[0;31m---------------------------------------------------------------------------\u001b[0m",
      "\u001b[0;31mKeyboardInterrupt\u001b[0m                         Traceback (most recent call last)",
      "\u001b[0;32m<ipython-input-12-a2958fa19859>\u001b[0m in \u001b[0;36m<module>\u001b[0;34m()\u001b[0m\n\u001b[1;32m      1\u001b[0m \u001b[0ml\u001b[0m \u001b[0;34m=\u001b[0m \u001b[0;34m[\u001b[0m\u001b[0;34m]\u001b[0m\u001b[0;34m\u001b[0m\u001b[0m\n\u001b[1;32m      2\u001b[0m \u001b[0;32mfor\u001b[0m \u001b[0mi\u001b[0m \u001b[0;32min\u001b[0m \u001b[0mz\u001b[0m\u001b[0;34m.\u001b[0m\u001b[0mSK_ID_PREV\u001b[0m\u001b[0;34m:\u001b[0m\u001b[0;34m\u001b[0m\u001b[0m\n\u001b[0;32m----> 3\u001b[0;31m     \u001b[0ml\u001b[0m\u001b[0;34m.\u001b[0m\u001b[0mappend\u001b[0m\u001b[0;34m(\u001b[0m\u001b[0my\u001b[0m\u001b[0;34m[\u001b[0m\u001b[0my\u001b[0m\u001b[0;34m.\u001b[0m\u001b[0mSK_ID_PREV\u001b[0m \u001b[0;34m==\u001b[0m \u001b[0mi\u001b[0m\u001b[0;34m]\u001b[0m\u001b[0;34m.\u001b[0m\u001b[0mshape\u001b[0m\u001b[0;34m[\u001b[0m\u001b[0;36m0\u001b[0m\u001b[0;34m]\u001b[0m\u001b[0;34m)\u001b[0m\u001b[0;34m\u001b[0m\u001b[0m\n\u001b[0m\u001b[1;32m      4\u001b[0m     \u001b[0mprint\u001b[0m\u001b[0;34m(\u001b[0m\u001b[0ml\u001b[0m\u001b[0;34m[\u001b[0m\u001b[0;34m-\u001b[0m\u001b[0;36m1\u001b[0m\u001b[0;34m]\u001b[0m\u001b[0;34m)\u001b[0m\u001b[0;34m\u001b[0m\u001b[0m\n",
      "\u001b[0;32m~/anaconda3/lib/python3.6/site-packages/pandas/core/ops.py\u001b[0m in \u001b[0;36mwrapper\u001b[0;34m(self, other, axis)\u001b[0m\n\u001b[1;32m    859\u001b[0m \u001b[0;34m\u001b[0m\u001b[0m\n\u001b[1;32m    860\u001b[0m             \u001b[0;32mwith\u001b[0m \u001b[0mnp\u001b[0m\u001b[0;34m.\u001b[0m\u001b[0merrstate\u001b[0m\u001b[0;34m(\u001b[0m\u001b[0mall\u001b[0m\u001b[0;34m=\u001b[0m\u001b[0;34m'ignore'\u001b[0m\u001b[0;34m)\u001b[0m\u001b[0;34m:\u001b[0m\u001b[0;34m\u001b[0m\u001b[0m\n\u001b[0;32m--> 861\u001b[0;31m                 \u001b[0mres\u001b[0m \u001b[0;34m=\u001b[0m \u001b[0mna_op\u001b[0m\u001b[0;34m(\u001b[0m\u001b[0mvalues\u001b[0m\u001b[0;34m,\u001b[0m \u001b[0mother\u001b[0m\u001b[0;34m)\u001b[0m\u001b[0;34m\u001b[0m\u001b[0m\n\u001b[0m\u001b[1;32m    862\u001b[0m             \u001b[0;32mif\u001b[0m \u001b[0mis_scalar\u001b[0m\u001b[0;34m(\u001b[0m\u001b[0mres\u001b[0m\u001b[0;34m)\u001b[0m\u001b[0;34m:\u001b[0m\u001b[0;34m\u001b[0m\u001b[0m\n\u001b[1;32m    863\u001b[0m                 raise TypeError('Could not compare %s type with Series' %\n",
      "\u001b[0;32m~/anaconda3/lib/python3.6/site-packages/pandas/core/ops.py\u001b[0m in \u001b[0;36mna_op\u001b[0;34m(x, y)\u001b[0m\n\u001b[1;32m    796\u001b[0m             \u001b[0;32mtry\u001b[0m\u001b[0;34m:\u001b[0m\u001b[0;34m\u001b[0m\u001b[0m\n\u001b[1;32m    797\u001b[0m                 \u001b[0;32mwith\u001b[0m \u001b[0mnp\u001b[0m\u001b[0;34m.\u001b[0m\u001b[0merrstate\u001b[0m\u001b[0;34m(\u001b[0m\u001b[0mall\u001b[0m\u001b[0;34m=\u001b[0m\u001b[0;34m'ignore'\u001b[0m\u001b[0;34m)\u001b[0m\u001b[0;34m:\u001b[0m\u001b[0;34m\u001b[0m\u001b[0m\n\u001b[0;32m--> 798\u001b[0;31m                     \u001b[0mresult\u001b[0m \u001b[0;34m=\u001b[0m \u001b[0mgetattr\u001b[0m\u001b[0;34m(\u001b[0m\u001b[0mx\u001b[0m\u001b[0;34m,\u001b[0m \u001b[0mname\u001b[0m\u001b[0;34m)\u001b[0m\u001b[0;34m(\u001b[0m\u001b[0my\u001b[0m\u001b[0;34m)\u001b[0m\u001b[0;34m\u001b[0m\u001b[0m\n\u001b[0m\u001b[1;32m    799\u001b[0m                 \u001b[0;32mif\u001b[0m \u001b[0mresult\u001b[0m \u001b[0;32mis\u001b[0m \u001b[0mNotImplemented\u001b[0m\u001b[0;34m:\u001b[0m\u001b[0;34m\u001b[0m\u001b[0m\n\u001b[1;32m    800\u001b[0m                     \u001b[0;32mraise\u001b[0m \u001b[0mTypeError\u001b[0m\u001b[0;34m(\u001b[0m\u001b[0;34m\"invalid type comparison\"\u001b[0m\u001b[0;34m)\u001b[0m\u001b[0;34m\u001b[0m\u001b[0m\n",
      "\u001b[0;31mKeyboardInterrupt\u001b[0m: "
     ]
    }
   ],
   "source": [
    "l = []\n",
    "for i in z.SK_ID_PREV:\n",
    "    l.append(y[y.SK_ID_PREV == i].shape[0])\n",
    "    print(l[-1])"
   ]
  },
  {
   "cell_type": "code",
   "execution_count": 11,
   "metadata": {
    "ExecuteTime": {
     "end_time": "2018-06-19T17:48:54.786223Z",
     "start_time": "2018-06-19T17:48:53.396593Z"
    }
   },
   "outputs": [
    {
     "data": {
      "text/html": [
       "<div>\n",
       "<style>\n",
       "    .dataframe thead tr:only-child th {\n",
       "        text-align: right;\n",
       "    }\n",
       "\n",
       "    .dataframe thead th {\n",
       "        text-align: left;\n",
       "    }\n",
       "\n",
       "    .dataframe tbody tr th {\n",
       "        vertical-align: top;\n",
       "    }\n",
       "</style>\n",
       "<table border=\"1\" class=\"dataframe\">\n",
       "  <thead>\n",
       "    <tr style=\"text-align: right;\">\n",
       "      <th></th>\n",
       "      <th>SK_ID_PREV</th>\n",
       "      <th>SK_ID_CURR</th>\n",
       "      <th>NUM_INSTALMENT_VERSION</th>\n",
       "      <th>NUM_INSTALMENT_NUMBER</th>\n",
       "      <th>DAYS_INSTALMENT</th>\n",
       "      <th>DAYS_ENTRY_PAYMENT</th>\n",
       "      <th>AMT_INSTALMENT</th>\n",
       "      <th>AMT_PAYMENT</th>\n",
       "    </tr>\n",
       "  </thead>\n",
       "  <tbody>\n",
       "  </tbody>\n",
       "</table>\n",
       "</div>"
      ],
      "text/plain": [
       "Empty DataFrame\n",
       "Columns: [SK_ID_PREV, SK_ID_CURR, NUM_INSTALMENT_VERSION, NUM_INSTALMENT_NUMBER, DAYS_INSTALMENT, DAYS_ENTRY_PAYMENT, AMT_INSTALMENT, AMT_PAYMENT]\n",
       "Index: []"
      ]
     },
     "execution_count": 11,
     "metadata": {},
     "output_type": "execute_result"
    }
   ],
   "source": [
    "y[y.SK_ID_PREV == 1662353]"
   ]
  },
  {
   "cell_type": "code",
   "execution_count": 1,
   "metadata": {
    "ExecuteTime": {
     "end_time": "2018-06-22T16:38:34.364092Z",
     "start_time": "2018-06-22T16:38:26.591723Z"
    }
   },
   "outputs": [],
   "source": [
    "import pandas as pd\n",
    "credit = pd.read_csv('/home/kai/data/kaggle/homecredit/credit_card_balance.csv')"
   ]
  },
  {
   "cell_type": "code",
   "execution_count": 2,
   "metadata": {
    "ExecuteTime": {
     "end_time": "2018-06-22T16:38:57.259264Z",
     "start_time": "2018-06-22T16:38:57.250978Z"
    }
   },
   "outputs": [
    {
     "data": {
      "text/plain": [
       "Index(['SK_ID_PREV', 'SK_ID_CURR', 'MONTHS_BALANCE', 'AMT_BALANCE',\n",
       "       'AMT_CREDIT_LIMIT_ACTUAL', 'AMT_DRAWINGS_ATM_CURRENT',\n",
       "       'AMT_DRAWINGS_CURRENT', 'AMT_DRAWINGS_OTHER_CURRENT',\n",
       "       'AMT_DRAWINGS_POS_CURRENT', 'AMT_INST_MIN_REGULARITY',\n",
       "       'AMT_PAYMENT_CURRENT', 'AMT_PAYMENT_TOTAL_CURRENT',\n",
       "       'AMT_RECEIVABLE_PRINCIPAL', 'AMT_RECIVABLE', 'AMT_TOTAL_RECEIVABLE',\n",
       "       'CNT_DRAWINGS_ATM_CURRENT', 'CNT_DRAWINGS_CURRENT',\n",
       "       'CNT_DRAWINGS_OTHER_CURRENT', 'CNT_DRAWINGS_POS_CURRENT',\n",
       "       'CNT_INSTALMENT_MATURE_CUM', 'NAME_CONTRACT_STATUS', 'SK_DPD',\n",
       "       'SK_DPD_DEF'],\n",
       "      dtype='object')"
      ]
     },
     "execution_count": 2,
     "metadata": {},
     "output_type": "execute_result"
    }
   ],
   "source": [
    "credit.columns"
   ]
  },
  {
   "cell_type": "code",
   "execution_count": 3,
   "metadata": {
    "ExecuteTime": {
     "end_time": "2018-06-22T16:39:18.402374Z",
     "start_time": "2018-06-22T16:39:18.379771Z"
    },
    "collapsed": true
   },
   "outputs": [
    {
     "data": {
      "text/html": [
       "<div>\n",
       "<style scoped>\n",
       "    .dataframe tbody tr th:only-of-type {\n",
       "        vertical-align: middle;\n",
       "    }\n",
       "\n",
       "    .dataframe tbody tr th {\n",
       "        vertical-align: top;\n",
       "    }\n",
       "\n",
       "    .dataframe thead th {\n",
       "        text-align: right;\n",
       "    }\n",
       "</style>\n",
       "<table border=\"1\" class=\"dataframe\">\n",
       "  <thead>\n",
       "    <tr style=\"text-align: right;\">\n",
       "      <th></th>\n",
       "      <th>AMT_BALANCE</th>\n",
       "      <th>AMT_CREDIT_LIMIT_ACTUAL</th>\n",
       "    </tr>\n",
       "  </thead>\n",
       "  <tbody>\n",
       "    <tr>\n",
       "      <th>0</th>\n",
       "      <td>56.970</td>\n",
       "      <td>135000</td>\n",
       "    </tr>\n",
       "    <tr>\n",
       "      <th>1</th>\n",
       "      <td>63975.555</td>\n",
       "      <td>45000</td>\n",
       "    </tr>\n",
       "    <tr>\n",
       "      <th>2</th>\n",
       "      <td>31815.225</td>\n",
       "      <td>450000</td>\n",
       "    </tr>\n",
       "    <tr>\n",
       "      <th>3</th>\n",
       "      <td>236572.110</td>\n",
       "      <td>225000</td>\n",
       "    </tr>\n",
       "    <tr>\n",
       "      <th>4</th>\n",
       "      <td>453919.455</td>\n",
       "      <td>450000</td>\n",
       "    </tr>\n",
       "    <tr>\n",
       "      <th>5</th>\n",
       "      <td>82903.815</td>\n",
       "      <td>270000</td>\n",
       "    </tr>\n",
       "    <tr>\n",
       "      <th>6</th>\n",
       "      <td>353451.645</td>\n",
       "      <td>585000</td>\n",
       "    </tr>\n",
       "    <tr>\n",
       "      <th>7</th>\n",
       "      <td>47962.125</td>\n",
       "      <td>45000</td>\n",
       "    </tr>\n",
       "    <tr>\n",
       "      <th>8</th>\n",
       "      <td>291543.075</td>\n",
       "      <td>292500</td>\n",
       "    </tr>\n",
       "    <tr>\n",
       "      <th>9</th>\n",
       "      <td>201261.195</td>\n",
       "      <td>225000</td>\n",
       "    </tr>\n",
       "    <tr>\n",
       "      <th>10</th>\n",
       "      <td>102076.560</td>\n",
       "      <td>180000</td>\n",
       "    </tr>\n",
       "    <tr>\n",
       "      <th>11</th>\n",
       "      <td>131669.145</td>\n",
       "      <td>225000</td>\n",
       "    </tr>\n",
       "    <tr>\n",
       "      <th>12</th>\n",
       "      <td>1427.265</td>\n",
       "      <td>135000</td>\n",
       "    </tr>\n",
       "    <tr>\n",
       "      <th>13</th>\n",
       "      <td>0.000</td>\n",
       "      <td>270000</td>\n",
       "    </tr>\n",
       "    <tr>\n",
       "      <th>14</th>\n",
       "      <td>0.000</td>\n",
       "      <td>45000</td>\n",
       "    </tr>\n",
       "    <tr>\n",
       "      <th>15</th>\n",
       "      <td>131294.340</td>\n",
       "      <td>135000</td>\n",
       "    </tr>\n",
       "    <tr>\n",
       "      <th>16</th>\n",
       "      <td>72899.955</td>\n",
       "      <td>450000</td>\n",
       "    </tr>\n",
       "    <tr>\n",
       "      <th>17</th>\n",
       "      <td>0.000</td>\n",
       "      <td>67500</td>\n",
       "    </tr>\n",
       "    <tr>\n",
       "      <th>18</th>\n",
       "      <td>0.000</td>\n",
       "      <td>0</td>\n",
       "    </tr>\n",
       "    <tr>\n",
       "      <th>19</th>\n",
       "      <td>452774.700</td>\n",
       "      <td>450000</td>\n",
       "    </tr>\n",
       "    <tr>\n",
       "      <th>20</th>\n",
       "      <td>45413.730</td>\n",
       "      <td>45000</td>\n",
       "    </tr>\n",
       "    <tr>\n",
       "      <th>21</th>\n",
       "      <td>68710.140</td>\n",
       "      <td>67500</td>\n",
       "    </tr>\n",
       "    <tr>\n",
       "      <th>22</th>\n",
       "      <td>85792.095</td>\n",
       "      <td>135000</td>\n",
       "    </tr>\n",
       "    <tr>\n",
       "      <th>23</th>\n",
       "      <td>464452.470</td>\n",
       "      <td>450000</td>\n",
       "    </tr>\n",
       "    <tr>\n",
       "      <th>24</th>\n",
       "      <td>152801.550</td>\n",
       "      <td>157500</td>\n",
       "    </tr>\n",
       "    <tr>\n",
       "      <th>25</th>\n",
       "      <td>134249.445</td>\n",
       "      <td>157500</td>\n",
       "    </tr>\n",
       "    <tr>\n",
       "      <th>26</th>\n",
       "      <td>67609.125</td>\n",
       "      <td>450000</td>\n",
       "    </tr>\n",
       "    <tr>\n",
       "      <th>27</th>\n",
       "      <td>76235.940</td>\n",
       "      <td>180000</td>\n",
       "    </tr>\n",
       "    <tr>\n",
       "      <th>28</th>\n",
       "      <td>137812.185</td>\n",
       "      <td>180000</td>\n",
       "    </tr>\n",
       "    <tr>\n",
       "      <th>29</th>\n",
       "      <td>0.000</td>\n",
       "      <td>270000</td>\n",
       "    </tr>\n",
       "    <tr>\n",
       "      <th>...</th>\n",
       "      <td>...</td>\n",
       "      <td>...</td>\n",
       "    </tr>\n",
       "    <tr>\n",
       "      <th>3840282</th>\n",
       "      <td>0.000</td>\n",
       "      <td>0</td>\n",
       "    </tr>\n",
       "    <tr>\n",
       "      <th>3840283</th>\n",
       "      <td>13.950</td>\n",
       "      <td>765000</td>\n",
       "    </tr>\n",
       "    <tr>\n",
       "      <th>3840284</th>\n",
       "      <td>0.000</td>\n",
       "      <td>0</td>\n",
       "    </tr>\n",
       "    <tr>\n",
       "      <th>3840285</th>\n",
       "      <td>0.000</td>\n",
       "      <td>0</td>\n",
       "    </tr>\n",
       "    <tr>\n",
       "      <th>3840286</th>\n",
       "      <td>0.000</td>\n",
       "      <td>0</td>\n",
       "    </tr>\n",
       "    <tr>\n",
       "      <th>3840287</th>\n",
       "      <td>458892.135</td>\n",
       "      <td>450000</td>\n",
       "    </tr>\n",
       "    <tr>\n",
       "      <th>3840288</th>\n",
       "      <td>458892.135</td>\n",
       "      <td>450000</td>\n",
       "    </tr>\n",
       "    <tr>\n",
       "      <th>3840289</th>\n",
       "      <td>0.000</td>\n",
       "      <td>45000</td>\n",
       "    </tr>\n",
       "    <tr>\n",
       "      <th>3840290</th>\n",
       "      <td>0.000</td>\n",
       "      <td>0</td>\n",
       "    </tr>\n",
       "    <tr>\n",
       "      <th>3840291</th>\n",
       "      <td>308056.005</td>\n",
       "      <td>405000</td>\n",
       "    </tr>\n",
       "    <tr>\n",
       "      <th>3840292</th>\n",
       "      <td>270242.955</td>\n",
       "      <td>292500</td>\n",
       "    </tr>\n",
       "    <tr>\n",
       "      <th>3840293</th>\n",
       "      <td>0.000</td>\n",
       "      <td>0</td>\n",
       "    </tr>\n",
       "    <tr>\n",
       "      <th>3840294</th>\n",
       "      <td>0.000</td>\n",
       "      <td>0</td>\n",
       "    </tr>\n",
       "    <tr>\n",
       "      <th>3840295</th>\n",
       "      <td>457382.340</td>\n",
       "      <td>900000</td>\n",
       "    </tr>\n",
       "    <tr>\n",
       "      <th>3840296</th>\n",
       "      <td>0.000</td>\n",
       "      <td>0</td>\n",
       "    </tr>\n",
       "    <tr>\n",
       "      <th>3840297</th>\n",
       "      <td>0.000</td>\n",
       "      <td>450000</td>\n",
       "    </tr>\n",
       "    <tr>\n",
       "      <th>3840298</th>\n",
       "      <td>260671.500</td>\n",
       "      <td>270000</td>\n",
       "    </tr>\n",
       "    <tr>\n",
       "      <th>3840299</th>\n",
       "      <td>81697.275</td>\n",
       "      <td>765000</td>\n",
       "    </tr>\n",
       "    <tr>\n",
       "      <th>3840300</th>\n",
       "      <td>81697.275</td>\n",
       "      <td>765000</td>\n",
       "    </tr>\n",
       "    <tr>\n",
       "      <th>3840301</th>\n",
       "      <td>277204.095</td>\n",
       "      <td>450000</td>\n",
       "    </tr>\n",
       "    <tr>\n",
       "      <th>3840302</th>\n",
       "      <td>0.000</td>\n",
       "      <td>45000</td>\n",
       "    </tr>\n",
       "    <tr>\n",
       "      <th>3840303</th>\n",
       "      <td>0.000</td>\n",
       "      <td>0</td>\n",
       "    </tr>\n",
       "    <tr>\n",
       "      <th>3840304</th>\n",
       "      <td>0.000</td>\n",
       "      <td>0</td>\n",
       "    </tr>\n",
       "    <tr>\n",
       "      <th>3840305</th>\n",
       "      <td>0.000</td>\n",
       "      <td>0</td>\n",
       "    </tr>\n",
       "    <tr>\n",
       "      <th>3840306</th>\n",
       "      <td>0.000</td>\n",
       "      <td>180000</td>\n",
       "    </tr>\n",
       "    <tr>\n",
       "      <th>3840307</th>\n",
       "      <td>0.000</td>\n",
       "      <td>45000</td>\n",
       "    </tr>\n",
       "    <tr>\n",
       "      <th>3840308</th>\n",
       "      <td>0.000</td>\n",
       "      <td>45000</td>\n",
       "    </tr>\n",
       "    <tr>\n",
       "      <th>3840309</th>\n",
       "      <td>275784.975</td>\n",
       "      <td>585000</td>\n",
       "    </tr>\n",
       "    <tr>\n",
       "      <th>3840310</th>\n",
       "      <td>0.000</td>\n",
       "      <td>450000</td>\n",
       "    </tr>\n",
       "    <tr>\n",
       "      <th>3840311</th>\n",
       "      <td>0.000</td>\n",
       "      <td>157500</td>\n",
       "    </tr>\n",
       "  </tbody>\n",
       "</table>\n",
       "<p>3840312 rows × 2 columns</p>\n",
       "</div>"
      ],
      "text/plain": [
       "         AMT_BALANCE  AMT_CREDIT_LIMIT_ACTUAL\n",
       "0             56.970                   135000\n",
       "1          63975.555                    45000\n",
       "2          31815.225                   450000\n",
       "3         236572.110                   225000\n",
       "4         453919.455                   450000\n",
       "5          82903.815                   270000\n",
       "6         353451.645                   585000\n",
       "7          47962.125                    45000\n",
       "8         291543.075                   292500\n",
       "9         201261.195                   225000\n",
       "10        102076.560                   180000\n",
       "11        131669.145                   225000\n",
       "12          1427.265                   135000\n",
       "13             0.000                   270000\n",
       "14             0.000                    45000\n",
       "15        131294.340                   135000\n",
       "16         72899.955                   450000\n",
       "17             0.000                    67500\n",
       "18             0.000                        0\n",
       "19        452774.700                   450000\n",
       "20         45413.730                    45000\n",
       "21         68710.140                    67500\n",
       "22         85792.095                   135000\n",
       "23        464452.470                   450000\n",
       "24        152801.550                   157500\n",
       "25        134249.445                   157500\n",
       "26         67609.125                   450000\n",
       "27         76235.940                   180000\n",
       "28        137812.185                   180000\n",
       "29             0.000                   270000\n",
       "...              ...                      ...\n",
       "3840282        0.000                        0\n",
       "3840283       13.950                   765000\n",
       "3840284        0.000                        0\n",
       "3840285        0.000                        0\n",
       "3840286        0.000                        0\n",
       "3840287   458892.135                   450000\n",
       "3840288   458892.135                   450000\n",
       "3840289        0.000                    45000\n",
       "3840290        0.000                        0\n",
       "3840291   308056.005                   405000\n",
       "3840292   270242.955                   292500\n",
       "3840293        0.000                        0\n",
       "3840294        0.000                        0\n",
       "3840295   457382.340                   900000\n",
       "3840296        0.000                        0\n",
       "3840297        0.000                   450000\n",
       "3840298   260671.500                   270000\n",
       "3840299    81697.275                   765000\n",
       "3840300    81697.275                   765000\n",
       "3840301   277204.095                   450000\n",
       "3840302        0.000                    45000\n",
       "3840303        0.000                        0\n",
       "3840304        0.000                        0\n",
       "3840305        0.000                        0\n",
       "3840306        0.000                   180000\n",
       "3840307        0.000                    45000\n",
       "3840308        0.000                    45000\n",
       "3840309   275784.975                   585000\n",
       "3840310        0.000                   450000\n",
       "3840311        0.000                   157500\n",
       "\n",
       "[3840312 rows x 2 columns]"
      ]
     },
     "execution_count": 3,
     "metadata": {},
     "output_type": "execute_result"
    }
   ],
   "source": [
    "credit[['AMT_BALANCE', 'AMT_CREDIT_LIMIT_ACTUAL']]"
   ]
  },
  {
   "cell_type": "code",
   "execution_count": 11,
   "metadata": {
    "ExecuteTime": {
     "end_time": "2018-06-22T16:41:28.316649Z",
     "start_time": "2018-06-22T16:41:27.972059Z"
    }
   },
   "outputs": [
    {
     "data": {
      "text/plain": [
       "2565"
      ]
     },
     "execution_count": 11,
     "metadata": {},
     "output_type": "execute_result"
    }
   ],
   "source": [
    "sum(credit[['AMT_DRAWINGS_ATM_CURRENT', 'AMT_DRAWINGS_OTHER_CURRENT', 'AMT_DRAWINGS_POS_CURRENT']].sum(axis=1) - credit['AMT_DRAWINGS_CURRENT'] > 0)"
   ]
  },
  {
   "cell_type": "code",
   "execution_count": 22,
   "metadata": {
    "ExecuteTime": {
     "end_time": "2018-06-22T16:46:20.682029Z",
     "start_time": "2018-06-22T16:46:20.259806Z"
    }
   },
   "outputs": [
    {
     "data": {
      "text/plain": [
       "AMT_DRAWINGS_ATM_CURRENT       True\n",
       "AMT_DRAWINGS_OTHER_CURRENT     True\n",
       "AMT_DRAWINGS_POS_CURRENT       True\n",
       "AMT_DRAWINGS_CURRENT          False\n",
       "AMT_BALANCE                   False\n",
       "AMT_RECIVABLE                 False\n",
       "AMT_TOTAL_RECEIVABLE          False\n",
       "dtype: bool"
      ]
     },
     "execution_count": 22,
     "metadata": {},
     "output_type": "execute_result"
    }
   ],
   "source": [
    "credit[['AMT_DRAWINGS_ATM_CURRENT', 'AMT_DRAWINGS_OTHER_CURRENT', 'AMT_DRAWINGS_POS_CURRENT', 'AMT_DRAWINGS_CURRENT', 'AMT_BALANCE', 'AMT_RECIVABLE', 'AMT_TOTAL_RECEIVABLE']].isnull().any()"
   ]
  },
  {
   "cell_type": "code",
   "execution_count": 18,
   "metadata": {
    "ExecuteTime": {
     "end_time": "2018-06-22T16:43:31.799729Z",
     "start_time": "2018-06-22T16:43:31.660228Z"
    }
   },
   "outputs": [
    {
     "data": {
      "text/plain": [
       "2273560"
      ]
     },
     "execution_count": 18,
     "metadata": {},
     "output_type": "execute_result"
    }
   ],
   "source": [
    "sum(credit['AMT_PAYMENT_TOTAL_CURRENT'] - credit['AMT_BALANCE'] >= 0)"
   ]
  },
  {
   "cell_type": "code",
   "execution_count": null,
   "metadata": {},
   "outputs": [],
   "source": []
  }
 ],
 "metadata": {
  "kernelspec": {
   "display_name": "Python 3",
   "language": "python",
   "name": "python3"
  },
  "language_info": {
   "codemirror_mode": {
    "name": "ipython",
    "version": 3
   },
   "file_extension": ".py",
   "mimetype": "text/x-python",
   "name": "python",
   "nbconvert_exporter": "python",
   "pygments_lexer": "ipython3",
   "version": "3.6.5"
  },
  "varInspector": {
   "cols": {
    "lenName": 16,
    "lenType": 16,
    "lenVar": 40
   },
   "kernels_config": {
    "python": {
     "delete_cmd_postfix": "",
     "delete_cmd_prefix": "del ",
     "library": "var_list.py",
     "varRefreshCmd": "print(var_dic_list())"
    },
    "r": {
     "delete_cmd_postfix": ") ",
     "delete_cmd_prefix": "rm(",
     "library": "var_list.r",
     "varRefreshCmd": "cat(var_dic_list()) "
    }
   },
   "types_to_exclude": [
    "module",
    "function",
    "builtin_function_or_method",
    "instance",
    "_Feature"
   ],
   "window_display": false
  }
 },
 "nbformat": 4,
 "nbformat_minor": 2
}
