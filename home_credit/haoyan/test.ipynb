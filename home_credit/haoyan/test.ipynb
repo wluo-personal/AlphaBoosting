{
 "cells": [
  {
   "cell_type": "code",
   "execution_count": 8,
   "metadata": {
    "ExecuteTime": {
     "end_time": "2018-06-18T13:55:17.265431Z",
     "start_time": "2018-06-18T13:55:07.372452Z"
    }
   },
   "outputs": [
    {
     "name": "stdout",
     "output_type": "stream",
     "text": [
      "train\n",
      "test\n",
      "bureau\n",
      "bureau_balance\n",
      "concat\n"
     ]
    }
   ],
   "source": [
    "import pandas as pd\n",
    "import numpy as np\n",
    "\n",
    "PATH = '/home/kai/data/kaggle/homecredit/'\n",
    "train = pd.read_csv(PATH + 'application_train.csv')\n",
    "print('train')\n",
    "test = pd.read_csv(PATH + 'application_test.csv')\n",
    "print('test')\n",
    "bureau = pd.read_csv(PATH + 'bureau.csv')\n",
    "print('bureau')\n",
    "bb = pd.read_csv(PATH + 'bureau_balance.csv')\n",
    "print('bureau_balance')\n",
    "df = pd.concat([train[['SK_ID_CURR']], test[['SK_ID_CURR']]])\n",
    "print('concat')"
   ]
  },
  {
   "cell_type": "code",
   "execution_count": null,
   "metadata": {
    "collapsed": true
   },
   "outputs": [],
   "source": [
    "bbid = set(bb.SK_ID_BUREAU)\n",
    "bid = set(bureau.SK_ID_BUREAU)\n",
    "bcid = set(bureau.SK_ID_CURR)\n",
    "trid = set(train.SK_ID_CURR)\n",
    "teid = set(test.SK_ID_CURR)\n",
    "diid = set(bbid & bid)\n",
    "dicid = set([bureau.loc[i, 'SK_ID_CURR'] for i in range(bureau.shape[0]) if bureau.loc[i, 'SK_ID_BUREAU'] in diid])"
   ]
  },
  {
   "cell_type": "code",
   "execution_count": null,
   "metadata": {
    "collapsed": true
   },
   "outputs": [],
   "source": [
    "print('te-bcid', len(teid&bcid)/len(teid),len(teid&bcid),len(teid))\n",
    "print('te-bcid', len(trid&bcid)/len(trid),len(trid&bcid),len(trid))"
   ]
  },
  {
   "cell_type": "code",
   "execution_count": null,
   "metadata": {
    "collapsed": true
   },
   "outputs": [],
   "source": [
    "print('te-bb', len(dicid&teid)/len(teid),len(dicid&teid),len(teid))\n",
    "print('tr-bb', len(dicid&trid)/len(trid),len(dicid&trid),len(trid))"
   ]
  },
  {
   "cell_type": "code",
   "execution_count": null,
   "metadata": {
    "collapsed": true
   },
   "outputs": [],
   "source": [
    "print(len(ditrid))"
   ]
  },
  {
   "cell_type": "code",
   "execution_count": 2,
   "metadata": {
    "ExecuteTime": {
     "end_time": "2018-06-18T13:50:02.839492Z",
     "start_time": "2018-06-18T13:50:02.720271Z"
    }
   },
   "outputs": [],
   "source": [
    "import pandas as pd\n",
    "PATH = '/home/kai/data/kaggle/homecredit/'\n",
    "\n",
    "x = pd.read_csv(PATH + 'submission_merged0.csv')"
   ]
  },
  {
   "cell_type": "code",
   "execution_count": 4,
   "metadata": {
    "ExecuteTime": {
     "end_time": "2018-06-18T13:50:53.303077Z",
     "start_time": "2018-06-18T13:50:53.274193Z"
    }
   },
   "outputs": [],
   "source": [
    "y = x.groupby('SK_ID_CURR').mean().reset_index()"
   ]
  },
  {
   "cell_type": "code",
   "execution_count": 5,
   "metadata": {
    "ExecuteTime": {
     "end_time": "2018-06-18T13:50:58.718018Z",
     "start_time": "2018-06-18T13:50:58.705420Z"
    }
   },
   "outputs": [
    {
     "name": "stdout",
     "output_type": "stream",
     "text": [
      "       SK_ID_CURR    TARGET\n",
      "0          100001  0.024176\n",
      "1          100005  0.131540\n",
      "2          100013  0.006864\n",
      "3          100028  0.038154\n",
      "4          100038  0.133730\n",
      "5          100042  0.013979\n",
      "6          100057  0.003022\n",
      "7          100065  0.024512\n",
      "8          100066  0.005154\n",
      "9          100067  0.054297\n",
      "10         100074  0.057534\n",
      "11         100090  0.022338\n",
      "12         100091  0.107015\n",
      "13         100092  0.027780\n",
      "14         100106  0.029416\n",
      "15         100107  0.173929\n",
      "16         100109  0.043275\n",
      "17         100117  0.016109\n",
      "18         100128  0.048772\n",
      "19         100141  0.029929\n",
      "20         100150  0.014425\n",
      "21         100168  0.003050\n",
      "22         100169  0.019907\n",
      "23         100170  0.213396\n",
      "24         100171  0.057386\n",
      "25         100172  0.162565\n",
      "26         100184  0.042113\n",
      "27         100187  0.046182\n",
      "28         100212  0.015061\n",
      "29         100222  0.049663\n",
      "...           ...       ...\n",
      "48714      455963  0.014638\n",
      "48715      455965  0.001692\n",
      "48716      456007  0.180286\n",
      "48717      456008  0.007211\n",
      "48718      456009  0.007682\n",
      "48719      456010  0.095124\n",
      "48720      456011  0.021868\n",
      "48721      456013  0.329000\n",
      "48722      456028  0.079420\n",
      "48723      456058  0.244523\n",
      "48724      456111  0.039400\n",
      "48725      456114  0.152185\n",
      "48726      456115  0.013499\n",
      "48727      456116  0.006507\n",
      "48728      456119  0.007143\n",
      "48729      456120  0.130319\n",
      "48730      456122  0.053719\n",
      "48731      456123  0.019559\n",
      "48732      456166  0.073720\n",
      "48733      456167  0.025238\n",
      "48734      456168  0.052285\n",
      "48735      456169  0.039383\n",
      "48736      456170  0.012396\n",
      "48737      456189  0.094376\n",
      "48738      456202  0.036432\n",
      "48739      456221  0.063065\n",
      "48740      456222  0.057404\n",
      "48741      456223  0.004920\n",
      "48742      456224  0.010243\n",
      "48743      456250  0.330392\n",
      "\n",
      "[48744 rows x 2 columns]\n"
     ]
    }
   ],
   "source": [
    "print(y)"
   ]
  },
  {
   "cell_type": "code",
   "execution_count": 11,
   "metadata": {
    "ExecuteTime": {
     "end_time": "2018-06-18T13:55:39.886851Z",
     "start_time": "2018-06-18T13:55:39.875760Z"
    }
   },
   "outputs": [
    {
     "data": {
      "text/plain": [
       "0        100001\n",
       "1        100005\n",
       "2        100013\n",
       "3        100028\n",
       "4        100038\n",
       "5        100042\n",
       "6        100057\n",
       "7        100065\n",
       "8        100066\n",
       "9        100067\n",
       "10       100074\n",
       "11       100090\n",
       "12       100091\n",
       "13       100092\n",
       "14       100106\n",
       "15       100107\n",
       "16       100109\n",
       "17       100117\n",
       "18       100128\n",
       "19       100141\n",
       "20       100150\n",
       "21       100168\n",
       "22       100169\n",
       "23       100170\n",
       "24       100171\n",
       "25       100172\n",
       "26       100184\n",
       "27       100187\n",
       "28       100212\n",
       "29       100222\n",
       "          ...  \n",
       "48714    455963\n",
       "48715    455965\n",
       "48716    456007\n",
       "48717    456008\n",
       "48718    456009\n",
       "48719    456010\n",
       "48720    456011\n",
       "48721    456013\n",
       "48722    456028\n",
       "48723    456058\n",
       "48724    456111\n",
       "48725    456114\n",
       "48726    456115\n",
       "48727    456116\n",
       "48728    456119\n",
       "48729    456120\n",
       "48730    456122\n",
       "48731    456123\n",
       "48732    456166\n",
       "48733    456167\n",
       "48734    456168\n",
       "48735    456169\n",
       "48736    456170\n",
       "48737    456189\n",
       "48738    456202\n",
       "48739    456221\n",
       "48740    456222\n",
       "48741    456223\n",
       "48742    456224\n",
       "48743    456250\n",
       "Name: SK_ID_CURR, Length: 48744, dtype: int64"
      ]
     },
     "execution_count": 11,
     "metadata": {},
     "output_type": "execute_result"
    }
   ],
   "source": [
    "test.SK_ID_CURR"
   ]
  },
  {
   "cell_type": "code",
   "execution_count": 6,
   "metadata": {
    "ExecuteTime": {
     "end_time": "2018-06-18T13:52:22.580060Z",
     "start_time": "2018-06-18T13:52:22.573279Z"
    },
    "scrolled": true
   },
   "outputs": [
    {
     "name": "stdout",
     "output_type": "stream",
     "text": [
      "200\n"
     ]
    }
   ],
   "source": [
    "print((y['TARGET']>0.5).sum())"
   ]
  },
  {
   "cell_type": "code",
   "execution_count": 7,
   "metadata": {
    "ExecuteTime": {
     "end_time": "2018-06-18T13:52:24.923843Z",
     "start_time": "2018-06-18T13:52:24.826147Z"
    },
    "collapsed": true
   },
   "outputs": [],
   "source": [
    "y.to_csv(PATH + 'submission_wrong.csv', index=False)"
   ]
  },
  {
   "cell_type": "code",
   "execution_count": null,
   "metadata": {
    "collapsed": true
   },
   "outputs": [],
   "source": []
  }
 ],
 "metadata": {
  "kernelspec": {
   "display_name": "Python 3",
   "language": "python",
   "name": "python3"
  },
  "language_info": {
   "codemirror_mode": {
    "name": "ipython",
    "version": 3
   },
   "file_extension": ".py",
   "mimetype": "text/x-python",
   "name": "python",
   "nbconvert_exporter": "python",
   "pygments_lexer": "ipython3",
   "version": "3.6.3"
  },
  "varInspector": {
   "cols": {
    "lenName": 16,
    "lenType": 16,
    "lenVar": 40
   },
   "kernels_config": {
    "python": {
     "delete_cmd_postfix": "",
     "delete_cmd_prefix": "del ",
     "library": "var_list.py",
     "varRefreshCmd": "print(var_dic_list())"
    },
    "r": {
     "delete_cmd_postfix": ") ",
     "delete_cmd_prefix": "rm(",
     "library": "var_list.r",
     "varRefreshCmd": "cat(var_dic_list()) "
    }
   },
   "types_to_exclude": [
    "module",
    "function",
    "builtin_function_or_method",
    "instance",
    "_Feature"
   ],
   "window_display": false
  }
 },
 "nbformat": 4,
 "nbformat_minor": 2
}
