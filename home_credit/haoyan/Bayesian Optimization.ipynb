{
 "cells": [
  {
   "cell_type": "code",
   "execution_count": 1,
   "metadata": {
    "ExecuteTime": {
     "end_time": "2018-07-09T21:24:15.217394Z",
     "start_time": "2018-07-09T21:24:15.210382Z"
    }
   },
   "outputs": [],
   "source": [
    "import sys\n",
    "import time\n",
    "\n",
    "class Logger(object):\n",
    "    def __init__(self, logtofile=True, logfilename='log'):\n",
    "        self.terminal = sys.stdout\n",
    "        self.logfile = \"{}_{}.log\".format(logfilename, int(time.time()))\n",
    "        self.logtofile = logtofile\n",
    "    def write(self, message):\n",
    "        if self.logtofile:\n",
    "            self.log = open(self.logfile, \"a\")\n",
    "            self.log.write(message)  \n",
    "            self.log.close()\n",
    "    def flush(self):\n",
    "        #this flush method is needed for python 3 compatibility.\n",
    "        #this handles the flush command by doing nothing.\n",
    "        #you might want to specify some extra behavior here.\n",
    "        pass\n",
    "sys.stdout = Logger(logfilename='logfile')"
   ]
  },
  {
   "cell_type": "code",
   "execution_count": 2,
   "metadata": {
    "ExecuteTime": {
     "end_time": "2018-07-09T21:24:24.557837Z",
     "start_time": "2018-07-09T21:24:17.044429Z"
    }
   },
   "outputs": [
    {
     "data": {
      "text/plain": [
       "(100, 2395)"
      ]
     },
     "execution_count": 2,
     "metadata": {},
     "output_type": "execute_result"
    }
   ],
   "source": [
    "import pandas as pd\n",
    "import numpy as np\n",
    "import warnings\n",
    "import time\n",
    "warnings.filterwarnings(\"ignore\")\n",
    "import lightgbm as lgb\n",
    "from bayes_opt import BayesianOptimization\n",
    "from sklearn.metrics import roc_auc_score\n",
    "\n",
    "PATH = '/home/kai/data/kaggle/homecredit/'\n",
    "train = pd.read_pickle(PATH + 'train_bo0.pkl')\n",
    "\n",
    "ignored_col = ['ORGANIZATION_TYPE', 'TARGET', 'SK_ID_CURR']\n",
    "feats = [x for x in train.columns if x not in ignored_col]\n",
    "\n",
    "train.shape"
   ]
  },
  {
   "cell_type": "code",
   "execution_count": 3,
   "metadata": {
    "ExecuteTime": {
     "end_time": "2018-07-09T21:24:24.943782Z",
     "start_time": "2018-07-09T21:24:24.938888Z"
    }
   },
   "outputs": [],
   "source": [
    "categorical_feats = ['FLAG_OWN_CAR','FLAG_OWN_REALTY','NAME_TYPE_SUITE','NAME_INCOME_TYPE','NAME_EDUCATION_TYPE','NAME_FAMILY_STATUS',\n",
    "'NAME_HOUSING_TYPE',\n",
    "'OCCUPATION_TYPE','FLAG_DOCUMENT_2','FLAG_DOCUMENT_3','FLAG_DOCUMENT_4','FLAG_DOCUMENT_5','FLAG_DOCUMENT_6','FLAG_DOCUMENT_7','FLAG_DOCUMENT_8','FLAG_DOCUMENT_9','FLAG_DOCUMENT_10','FLAG_DOCUMENT_11','FLAG_DOCUMENT_12',\n",
    "'FLAG_DOCUMENT_13','FLAG_DOCUMENT_14','FLAG_DOCUMENT_15','FLAG_DOCUMENT_16','FLAG_DOCUMENT_17','FLAG_DOCUMENT_18',\n",
    "'FLAG_DOCUMENT_19','FLAG_DOCUMENT_20','FLAG_DOCUMENT_21',\n",
    "'NAME_TYPE_SUITE']"
   ]
  },
  {
   "cell_type": "code",
   "execution_count": 4,
   "metadata": {
    "ExecuteTime": {
     "end_time": "2018-07-09T21:24:56.935684Z",
     "start_time": "2018-07-09T21:24:25.864911Z"
    }
   },
   "outputs": [],
   "source": [
    "X = train[feats]\n",
    "y = train.TARGET\n",
    "init_round=5\n",
    "opt_round=15\n",
    "n_folds=5\n",
    "random_seed=1992\n",
    "output_process=True\n",
    "\n",
    "# prepare data\n",
    "train_data = lgb.Dataset(data=X, label=y, categorical_feature = categorical_feats, free_raw_data=False)\n",
    "# parameters\n",
    "\n",
    "def lgb_eval(num_leaves, feature_fraction, bagging_fraction, max_depth, lambda_l1, lambda_l2, min_split_gain, min_child_weight, scale_pos_weight):\n",
    "    params = {'objective':'binary',\n",
    "              'num_iterations': 10000, \n",
    "              'learning_rate':0.01, \n",
    "              'early_stopping_round':150, \n",
    "              'metric':'auc', \n",
    "              'num_threads': 10, \n",
    "              'boosting_type': 'gbdt', \n",
    "              'task': 'train'}\n",
    "    \n",
    "    params[\"num_leaves\"] = int(round(num_leaves))\n",
    "    params['feature_fraction'] = max(min(feature_fraction, 1), 0)\n",
    "    params['bagging_fraction'] = max(min(bagging_fraction, 1), 0)\n",
    "    params['max_depth'] = int(round(max_depth))\n",
    "    params['lambda_l1'] = max(lambda_l1, 0)\n",
    "    params['lambda_l2'] = max(lambda_l2, 0)\n",
    "    params['min_split_gain'] = min_split_gain\n",
    "    params['min_child_weight'] = min_child_weight\n",
    "    params['scale_pos_weight'] = scale_pos_weight\n",
    "    cv_result = lgb.cv(params,\n",
    "                       train_data,\n",
    "                       nfold=n_folds,\n",
    "                       seed=random_seed,\n",
    "                       stratified=True,\n",
    "                       verbose_eval =200,\n",
    "                       metrics=['auc'])\n",
    "    return max(cv_result['auc-mean'])\n",
    "\n",
    "\n",
    "# range \n",
    "lgbBO = BayesianOptimization(lgb_eval, {'num_leaves': (38, 60),\n",
    "                                        'feature_fraction': (0.1, 0.3),\n",
    "                                        'bagging_fraction': (0.8, 1),\n",
    "                                        'max_depth': (5, 8.99),\n",
    "                                        'lambda_l1': (0, 1),\n",
    "                                        'lambda_l2': (0, 1),\n",
    "                                        'min_split_gain': (0.001, 0.1),\n",
    "                                        'scale_pos_weight': (1, 3),\n",
    "                                        'min_child_weight': (1, 50)}, random_state=0)\n",
    "# optimize\n",
    "\n",
    "lgbBO.maximize(init_points=init_round, n_iter=opt_round)\n",
    "\n",
    "\n",
    "# output optimization process\n",
    "if output_process==True: lgbBO.points_to_csv(\"bayes_opt_result.csv\")"
   ]
  },
  {
   "cell_type": "code",
   "execution_count": null,
   "metadata": {},
   "outputs": [],
   "source": []
  }
 ],
 "metadata": {
  "kernelspec": {
   "display_name": "Python 3",
   "language": "python",
   "name": "python3"
  },
  "language_info": {
   "codemirror_mode": {
    "name": "ipython",
    "version": 3
   },
   "file_extension": ".py",
   "mimetype": "text/x-python",
   "name": "python",
   "nbconvert_exporter": "python",
   "pygments_lexer": "ipython3",
   "version": "3.6.5"
  },
  "varInspector": {
   "cols": {
    "lenName": 16,
    "lenType": 16,
    "lenVar": 40
   },
   "kernels_config": {
    "python": {
     "delete_cmd_postfix": "",
     "delete_cmd_prefix": "del ",
     "library": "var_list.py",
     "varRefreshCmd": "print(var_dic_list())"
    },
    "r": {
     "delete_cmd_postfix": ") ",
     "delete_cmd_prefix": "rm(",
     "library": "var_list.r",
     "varRefreshCmd": "cat(var_dic_list()) "
    }
   },
   "types_to_exclude": [
    "module",
    "function",
    "builtin_function_or_method",
    "instance",
    "_Feature"
   ],
   "window_display": false
  }
 },
 "nbformat": 4,
 "nbformat_minor": 2
}
