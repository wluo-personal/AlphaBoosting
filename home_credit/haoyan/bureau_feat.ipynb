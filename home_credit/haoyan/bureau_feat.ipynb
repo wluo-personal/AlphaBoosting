{
 "cells": [
  {
   "cell_type": "code",
   "execution_count": 1,
   "metadata": {
    "ExecuteTime": {
     "end_time": "2018-06-16T08:22:28.103441Z",
     "start_time": "2018-06-16T08:22:15.011955Z"
    }
   },
   "outputs": [
    {
     "name": "stdout",
     "output_type": "stream",
     "text": [
      "train\n",
      "test\n",
      "bureau\n",
      "bureau_balance\n",
      "concat\n"
     ]
    }
   ],
   "source": [
    "import pandas as pd\n",
    "import numpy as np\n",
    "\n",
    "PATH = '/home/kai/data/kaggle/homecredit/'\n",
    "train = pd.read_csv(PATH + 'application_train.csv')\n",
    "print('train')\n",
    "test = pd.read_csv(PATH + 'application_test.csv')\n",
    "print('test')\n",
    "bureau = pd.read_csv(PATH + 'bureau.csv')\n",
    "print('bureau')\n",
    "bb = pd.read_csv(PATH + 'bureau_balance.csv')\n",
    "print('bureau_balance')\n",
    "df = pd.concat([train[['SK_ID_CURR']], test[['SK_ID_CURR']]])\n",
    "print('concat')"
   ]
  },
  {
   "cell_type": "code",
   "execution_count": 2,
   "metadata": {
    "ExecuteTime": {
     "end_time": "2018-06-16T08:22:28.998178Z",
     "start_time": "2018-06-16T08:22:28.105119Z"
    },
    "collapsed": true
   },
   "outputs": [],
   "source": [
    "import pandas as pd\n",
    "import os\n",
    "import gc\n",
    "import numpy as np\n",
    "from sklearn.linear_model import LinearRegression\n",
    "\n",
    "def _set_type(series, dtype):\n",
    "    _max, _min = max(series), min(series)\n",
    "    if dtype == 'uint':\n",
    "        if _max <= 255: return np.uint8\n",
    "        elif _max <= 65535: return np.uint16\n",
    "        elif _max <= 4294967295: return np.uint32\n",
    "        else: return np.uint64\n",
    "    elif dtype == 'int':\n",
    "        if _min >= -128 and _max <= 127: return np.int8\n",
    "        elif _min >=-32768 and _max <= 32767: return np.int16\n",
    "        elif _min >= -2147483648 and _max <= 2147483647: return np.int32\n",
    "        else: return np.int64\n",
    "    elif dtype == 'float':\n",
    "        if max(abs(_min), _max) <= 3.4028235e+38: return np.float32\n",
    "        else: return np.float64\n",
    "\n",
    "def split_categorical_feature(df, group_col, calc_col):\n",
    "    tmp_df = pd.concat([df[group_col], pd.get_dummies(df[calc_col], prefix=calc_col)], axis=1).groupby(by=group_col).sum().reset_index()\n",
    "    dtype = {x: _set_type(tmp_df[x], 'uint') for x in tmp_df.columns if x != group_col}\n",
    "    for x in tmp_df:\n",
    "        if x in df.columns:\n",
    "            dtype[x] = df[x].dtype\n",
    "    return tmp_df.astype(dtype)\n",
    "\n",
    "def score(df, group_col, calc_col, time_col, score_map, table_name):\n",
    "    total = list(group_col)\n",
    "    total.extend([calc_col, time_col])\n",
    "    _df = df.sort_values('MONTHS_BALANCE').reset_index()\n",
    "    _df[calc_col] = _df[calc_col].map(score_map)\n",
    "    group = _df.groupby(by=group_col)\n",
    "    _df[calc_col] = (group[calc_col].shift(1).fillna(0) + group[calc_col].shift(-1).fillna(0) + _df[calc_col]) ** 2 / np.exp(-(_df[time_col])**2/144/2)\n",
    "    dtype = {x: df[x].dtype for x in group_col if x in df.columns}\n",
    "    dtype[calc_col] = _set_type(_df[calc_col], 'float')\n",
    "    __df = _df[[group_col, calc_col]].astype(dtype).rename(index=str, columns={calc_col: table_name + '_score'})\n",
    "    del _df\n",
    "    gc.collect()\n",
    "    return __df\n",
    "\n",
    "def count(df, group_col, calc_col, table_name):\n",
    "    group = df[[group_col, calc_col]].groupby(by=group_col)[[calc_col]].count().reset_index()\n",
    "    dtype = {x: df[x].dtype for x in group_col if x in df.columns}\n",
    "    dtype[calc_col] = _set_type(group[calc_col], 'uint')\n",
    "    _df = group.astype(dtype).rename(index=str, columns={calc_col: table_name + '_' + calc_col + '_count'})\n",
    "    return _df\n",
    "\n",
    "def linear(df_, group_col, value_col, time_col, score_map, table_name):\n",
    "    l = []\n",
    "    l1 = []\n",
    "    df = df_.sort_values('MONTHS_BALANCE').reset_index()\n",
    "    df[value_col] = df[value_col].map(score_map)\n",
    "    gp = df[[group_col, time_col, value_col]].groupby(by=group_col)\n",
    "    for i, group in gp:\n",
    "        lg = LinearRegression()\n",
    "        lg.fit(group[[time_col]], group[[value_col]])\n",
    "        \n",
    "        group1 = group.copy()\n",
    "        group1[time_col] = (group1[time_col] - group1[time_col].max()) / (group1[time_col].max() - group1[time_col].min() + 1)\n",
    "        lg1 = LinearRegression()\n",
    "        lg1.fit(group[[time_col]], group[[value_col]])\n",
    "        l.append([i, lg.coef_[0][0], lg1.coef_[0][0]])\n",
    "        \n",
    "    tmp_df = pd.DataFrame(l, columns=[group_col, table_name + '_' + 'lg_coef', table_name + '_' + 'lg_normalized_coef'])\n",
    "    dtype = {x: df[x].dtype for x in group_col if x in df.columns}\n",
    "    dtype[table_name + '_' + 'lg_coef'] = _set_type(tmp_df[table_name + '_' + 'lg_coef'], 'float')\n",
    "    dtype[table_name + '_' + 'lg_normalized_coef'] = _set_type(tmp_df[table_name + '_' + 'lg_normalized_coef'], 'float')\n",
    "    return tmp_df.astype(dtype)\n",
    "\n",
    "def last_before_C(df_, group_col, value_col, time_col, score_map, table_name):\n",
    "    l = []\n",
    "    df = df_.sort_values('MONTHS_BALANCE', ascending=False).reset_index()\n",
    "    df[value_col] = df[value_col].map(score_map)\n",
    "    d = {}\n",
    "    for i in range(df.shape[0]):\n",
    "        idx = df.loc[i, group_col]\n",
    "        val = df.loc[i, value_col]\n",
    "        if d.get(idx) == None:\n",
    "            d[idx] = 'on C'\n",
    "        elif d.get(idx) == 'on C':\n",
    "            if val != 7:\n",
    "                d[idx] = 'not on C'\n",
    "                l.append([idx, val])\n",
    "    tmp = pd.DataFrame(l, columns=[group_col, table_name+'_last_on_C_'+value_col])\n",
    "    return tmp.astype({group_col: df[group_col].dtype, table_name+'_last_on_C_'+value_col: _set_type(tmp[table_name+'_last_on_C_'+value_col], 'uint')})\n",
    "    \n",
    "def cutoff_normalized_linear(df_, group_col, value_col, time_col, score_map, table_name):\n",
    "    pass\n",
    "\n",
    "def ratio_name(numerator, denominator): return numerator + '_divide_' + denominator\n",
    "\n",
    "def ratio(df, numerator, denominator):\n",
    "    return df[numerator] / df[denominator]\n",
    "\n",
    "def markov_time_score(df_, group_col, calc_col, time_col):\n",
    "    def _time(x): np.exp(-x**2/144/2)\n",
    "    \n",
    "    df = df_.sort_values('MONTHS_BALANCE').reset_index()\n",
    "    mapp = {'0':0, '1':1, '2':2, '3':3, '4':4, '5':5, 'C':6, 'X':7}\n",
    "    _df = df[calc_col].map(mapp)\n",
    "    d = {}\n",
    "    M = {}\n",
    "    for i in range(df.shape[0]):\n",
    "        if i % 2000000 == 0: print(i)\n",
    "        key = df.loc[i, group_col]\n",
    "        value = _df[i]\n",
    "        if d.get(key) != None:\n",
    "            M[key][d.get(key)][value] += 1 * _time(df.loc[i, time_col])\n",
    "        else:\n",
    "            M[key] = np.zeros((len(mapp), len(mapp)))\n",
    "        d[key] = value\n",
    "    del df, _df, d\n",
    "    gc.collect()\n",
    "    return M"
   ]
  },
  {
   "cell_type": "markdown",
   "metadata": {},
   "source": [
    "# score"
   ]
  },
  {
   "cell_type": "code",
   "execution_count": 3,
   "metadata": {
    "ExecuteTime": {
     "end_time": "2018-06-16T08:24:13.394037Z",
     "start_time": "2018-06-16T08:22:28.999682Z"
    },
    "scrolled": false
   },
   "outputs": [
    {
     "data": {
      "text/html": [
       "<div>\n",
       "<style>\n",
       "    .dataframe thead tr:only-child th {\n",
       "        text-align: right;\n",
       "    }\n",
       "\n",
       "    .dataframe thead th {\n",
       "        text-align: left;\n",
       "    }\n",
       "\n",
       "    .dataframe tbody tr th {\n",
       "        vertical-align: top;\n",
       "    }\n",
       "</style>\n",
       "<table border=\"1\" class=\"dataframe\">\n",
       "  <thead>\n",
       "    <tr style=\"text-align: right;\">\n",
       "      <th></th>\n",
       "      <th>SK_ID_CURR</th>\n",
       "      <th>SK_ID_BUREAU</th>\n",
       "      <th>CREDIT_ACTIVE</th>\n",
       "      <th>CREDIT_CURRENCY</th>\n",
       "      <th>DAYS_CREDIT</th>\n",
       "      <th>CREDIT_DAY_OVERDUE</th>\n",
       "      <th>DAYS_CREDIT_ENDDATE</th>\n",
       "      <th>DAYS_ENDDATE_FACT</th>\n",
       "      <th>AMT_CREDIT_MAX_OVERDUE</th>\n",
       "      <th>CNT_CREDIT_PROLONG</th>\n",
       "      <th>AMT_CREDIT_SUM</th>\n",
       "      <th>AMT_CREDIT_SUM_DEBT</th>\n",
       "      <th>AMT_CREDIT_SUM_LIMIT</th>\n",
       "      <th>AMT_CREDIT_SUM_OVERDUE</th>\n",
       "      <th>CREDIT_TYPE</th>\n",
       "      <th>DAYS_CREDIT_UPDATE</th>\n",
       "      <th>AMT_ANNUITY</th>\n",
       "      <th>bureau_balance_score</th>\n",
       "    </tr>\n",
       "  </thead>\n",
       "  <tbody>\n",
       "    <tr>\n",
       "      <th>0</th>\n",
       "      <td>215354</td>\n",
       "      <td>5714462</td>\n",
       "      <td>Closed</td>\n",
       "      <td>currency 1</td>\n",
       "      <td>-497</td>\n",
       "      <td>0</td>\n",
       "      <td>-153.0</td>\n",
       "      <td>-153.0</td>\n",
       "      <td>NaN</td>\n",
       "      <td>0</td>\n",
       "      <td>91323.0</td>\n",
       "      <td>0.0</td>\n",
       "      <td>NaN</td>\n",
       "      <td>0.0</td>\n",
       "      <td>Consumer credit</td>\n",
       "      <td>-131</td>\n",
       "      <td>NaN</td>\n",
       "      <td>NaN</td>\n",
       "    </tr>\n",
       "    <tr>\n",
       "      <th>1</th>\n",
       "      <td>215354</td>\n",
       "      <td>5714463</td>\n",
       "      <td>Active</td>\n",
       "      <td>currency 1</td>\n",
       "      <td>-208</td>\n",
       "      <td>0</td>\n",
       "      <td>1075.0</td>\n",
       "      <td>NaN</td>\n",
       "      <td>NaN</td>\n",
       "      <td>0</td>\n",
       "      <td>225000.0</td>\n",
       "      <td>171342.0</td>\n",
       "      <td>NaN</td>\n",
       "      <td>0.0</td>\n",
       "      <td>Credit card</td>\n",
       "      <td>-20</td>\n",
       "      <td>NaN</td>\n",
       "      <td>NaN</td>\n",
       "    </tr>\n",
       "  </tbody>\n",
       "</table>\n",
       "</div>"
      ],
      "text/plain": [
       "   SK_ID_CURR  SK_ID_BUREAU CREDIT_ACTIVE CREDIT_CURRENCY  DAYS_CREDIT  \\\n",
       "0      215354       5714462        Closed      currency 1         -497   \n",
       "1      215354       5714463        Active      currency 1         -208   \n",
       "\n",
       "   CREDIT_DAY_OVERDUE  DAYS_CREDIT_ENDDATE  DAYS_ENDDATE_FACT  \\\n",
       "0                   0               -153.0             -153.0   \n",
       "1                   0               1075.0                NaN   \n",
       "\n",
       "   AMT_CREDIT_MAX_OVERDUE  CNT_CREDIT_PROLONG  AMT_CREDIT_SUM  \\\n",
       "0                     NaN                   0         91323.0   \n",
       "1                     NaN                   0        225000.0   \n",
       "\n",
       "   AMT_CREDIT_SUM_DEBT  AMT_CREDIT_SUM_LIMIT  AMT_CREDIT_SUM_OVERDUE  \\\n",
       "0                  0.0                   NaN                     0.0   \n",
       "1             171342.0                   NaN                     0.0   \n",
       "\n",
       "       CREDIT_TYPE  DAYS_CREDIT_UPDATE  AMT_ANNUITY  bureau_balance_score  \n",
       "0  Consumer credit                -131          NaN                   NaN  \n",
       "1      Credit card                 -20          NaN                   NaN  "
      ]
     },
     "execution_count": 3,
     "metadata": {},
     "output_type": "execute_result"
    }
   ],
   "source": [
    "m = {'C':0, 'X':0, '0':0, '1':1, '2':2, '3':3, '4':4, '5':5}\n",
    "bb_score = score(bb, 'SK_ID_BUREAU', 'STATUS', 'MONTHS_BALANCE', m, 'bureau_balance')\n",
    "bureau = bureau.merge(bb_score, on='SK_ID_BUREAU', how='left')\n",
    "bureau.head(2)"
   ]
  },
  {
   "cell_type": "code",
   "execution_count": 4,
   "metadata": {
    "ExecuteTime": {
     "end_time": "2018-06-16T09:03:26.597538Z",
     "start_time": "2018-06-16T08:24:13.395576Z"
    }
   },
   "outputs": [
    {
     "data": {
      "text/html": [
       "<div>\n",
       "<style>\n",
       "    .dataframe thead tr:only-child th {\n",
       "        text-align: right;\n",
       "    }\n",
       "\n",
       "    .dataframe thead th {\n",
       "        text-align: left;\n",
       "    }\n",
       "\n",
       "    .dataframe tbody tr th {\n",
       "        vertical-align: top;\n",
       "    }\n",
       "</style>\n",
       "<table border=\"1\" class=\"dataframe\">\n",
       "  <thead>\n",
       "    <tr style=\"text-align: right;\">\n",
       "      <th></th>\n",
       "      <th>SK_ID_CURR</th>\n",
       "      <th>SK_ID_BUREAU</th>\n",
       "      <th>CREDIT_ACTIVE</th>\n",
       "      <th>CREDIT_CURRENCY</th>\n",
       "      <th>DAYS_CREDIT</th>\n",
       "      <th>CREDIT_DAY_OVERDUE</th>\n",
       "      <th>DAYS_CREDIT_ENDDATE</th>\n",
       "      <th>DAYS_ENDDATE_FACT</th>\n",
       "      <th>AMT_CREDIT_MAX_OVERDUE</th>\n",
       "      <th>CNT_CREDIT_PROLONG</th>\n",
       "      <th>AMT_CREDIT_SUM</th>\n",
       "      <th>AMT_CREDIT_SUM_DEBT</th>\n",
       "      <th>AMT_CREDIT_SUM_LIMIT</th>\n",
       "      <th>AMT_CREDIT_SUM_OVERDUE</th>\n",
       "      <th>CREDIT_TYPE</th>\n",
       "      <th>DAYS_CREDIT_UPDATE</th>\n",
       "      <th>AMT_ANNUITY</th>\n",
       "      <th>bureau_balance_score</th>\n",
       "      <th>bureau_balance_lg_coef</th>\n",
       "      <th>bureau_balance_lg_normalized_coef</th>\n",
       "    </tr>\n",
       "  </thead>\n",
       "  <tbody>\n",
       "    <tr>\n",
       "      <th>0</th>\n",
       "      <td>215354</td>\n",
       "      <td>5714462</td>\n",
       "      <td>Closed</td>\n",
       "      <td>currency 1</td>\n",
       "      <td>-497</td>\n",
       "      <td>0</td>\n",
       "      <td>-153.0</td>\n",
       "      <td>-153.0</td>\n",
       "      <td>NaN</td>\n",
       "      <td>0</td>\n",
       "      <td>91323.0</td>\n",
       "      <td>0.0</td>\n",
       "      <td>NaN</td>\n",
       "      <td>0.0</td>\n",
       "      <td>Consumer credit</td>\n",
       "      <td>-131</td>\n",
       "      <td>NaN</td>\n",
       "      <td>NaN</td>\n",
       "      <td>NaN</td>\n",
       "      <td>NaN</td>\n",
       "    </tr>\n",
       "    <tr>\n",
       "      <th>1</th>\n",
       "      <td>215354</td>\n",
       "      <td>5714463</td>\n",
       "      <td>Active</td>\n",
       "      <td>currency 1</td>\n",
       "      <td>-208</td>\n",
       "      <td>0</td>\n",
       "      <td>1075.0</td>\n",
       "      <td>NaN</td>\n",
       "      <td>NaN</td>\n",
       "      <td>0</td>\n",
       "      <td>225000.0</td>\n",
       "      <td>171342.0</td>\n",
       "      <td>NaN</td>\n",
       "      <td>0.0</td>\n",
       "      <td>Credit card</td>\n",
       "      <td>-20</td>\n",
       "      <td>NaN</td>\n",
       "      <td>NaN</td>\n",
       "      <td>NaN</td>\n",
       "      <td>NaN</td>\n",
       "    </tr>\n",
       "  </tbody>\n",
       "</table>\n",
       "</div>"
      ],
      "text/plain": [
       "   SK_ID_CURR  SK_ID_BUREAU CREDIT_ACTIVE CREDIT_CURRENCY  DAYS_CREDIT  \\\n",
       "0      215354       5714462        Closed      currency 1         -497   \n",
       "1      215354       5714463        Active      currency 1         -208   \n",
       "\n",
       "   CREDIT_DAY_OVERDUE  DAYS_CREDIT_ENDDATE  DAYS_ENDDATE_FACT  \\\n",
       "0                   0               -153.0             -153.0   \n",
       "1                   0               1075.0                NaN   \n",
       "\n",
       "   AMT_CREDIT_MAX_OVERDUE  CNT_CREDIT_PROLONG  AMT_CREDIT_SUM  \\\n",
       "0                     NaN                   0         91323.0   \n",
       "1                     NaN                   0        225000.0   \n",
       "\n",
       "   AMT_CREDIT_SUM_DEBT  AMT_CREDIT_SUM_LIMIT  AMT_CREDIT_SUM_OVERDUE  \\\n",
       "0                  0.0                   NaN                     0.0   \n",
       "1             171342.0                   NaN                     0.0   \n",
       "\n",
       "       CREDIT_TYPE  DAYS_CREDIT_UPDATE  AMT_ANNUITY  bureau_balance_score  \\\n",
       "0  Consumer credit                -131          NaN                   NaN   \n",
       "1      Credit card                 -20          NaN                   NaN   \n",
       "\n",
       "   bureau_balance_lg_coef  bureau_balance_lg_normalized_coef  \n",
       "0                     NaN                                NaN  \n",
       "1                     NaN                                NaN  "
      ]
     },
     "execution_count": 4,
     "metadata": {},
     "output_type": "execute_result"
    }
   ],
   "source": [
    "m = {'C':0, 'X':0, '0':0, '1':1, '2':2, '3':3, '4':4, '5':5}\n",
    "bb_score0 = linear(bb, 'SK_ID_BUREAU', 'STATUS', 'MONTHS_BALANCE', m, 'bureau_balance')\n",
    "bureau = bureau.merge(bb_score0, on='SK_ID_BUREAU', how='left')\n",
    "bureau.head(2)"
   ]
  },
  {
   "cell_type": "code",
   "execution_count": 5,
   "metadata": {
    "ExecuteTime": {
     "end_time": "2018-06-16T09:15:24.473947Z",
     "start_time": "2018-06-16T09:03:26.599036Z"
    },
    "scrolled": true
   },
   "outputs": [
    {
     "data": {
      "text/html": [
       "<div>\n",
       "<style>\n",
       "    .dataframe thead tr:only-child th {\n",
       "        text-align: right;\n",
       "    }\n",
       "\n",
       "    .dataframe thead th {\n",
       "        text-align: left;\n",
       "    }\n",
       "\n",
       "    .dataframe tbody tr th {\n",
       "        vertical-align: top;\n",
       "    }\n",
       "</style>\n",
       "<table border=\"1\" class=\"dataframe\">\n",
       "  <thead>\n",
       "    <tr style=\"text-align: right;\">\n",
       "      <th></th>\n",
       "      <th>SK_ID_CURR</th>\n",
       "      <th>SK_ID_BUREAU</th>\n",
       "      <th>CREDIT_ACTIVE</th>\n",
       "      <th>CREDIT_CURRENCY</th>\n",
       "      <th>DAYS_CREDIT</th>\n",
       "      <th>CREDIT_DAY_OVERDUE</th>\n",
       "      <th>DAYS_CREDIT_ENDDATE</th>\n",
       "      <th>DAYS_ENDDATE_FACT</th>\n",
       "      <th>AMT_CREDIT_MAX_OVERDUE</th>\n",
       "      <th>CNT_CREDIT_PROLONG</th>\n",
       "      <th>...</th>\n",
       "      <th>AMT_CREDIT_SUM_DEBT</th>\n",
       "      <th>AMT_CREDIT_SUM_LIMIT</th>\n",
       "      <th>AMT_CREDIT_SUM_OVERDUE</th>\n",
       "      <th>CREDIT_TYPE</th>\n",
       "      <th>DAYS_CREDIT_UPDATE</th>\n",
       "      <th>AMT_ANNUITY</th>\n",
       "      <th>bureau_balance_score</th>\n",
       "      <th>bureau_balance_lg_coef</th>\n",
       "      <th>bureau_balance_lg_normalized_coef</th>\n",
       "      <th>bureau_balance_last_on_C_STATUS</th>\n",
       "    </tr>\n",
       "  </thead>\n",
       "  <tbody>\n",
       "    <tr>\n",
       "      <th>0</th>\n",
       "      <td>215354</td>\n",
       "      <td>5714462</td>\n",
       "      <td>Closed</td>\n",
       "      <td>currency 1</td>\n",
       "      <td>-497</td>\n",
       "      <td>0</td>\n",
       "      <td>-153.0</td>\n",
       "      <td>-153.0</td>\n",
       "      <td>NaN</td>\n",
       "      <td>0</td>\n",
       "      <td>...</td>\n",
       "      <td>0.0</td>\n",
       "      <td>NaN</td>\n",
       "      <td>0.0</td>\n",
       "      <td>Consumer credit</td>\n",
       "      <td>-131</td>\n",
       "      <td>NaN</td>\n",
       "      <td>NaN</td>\n",
       "      <td>NaN</td>\n",
       "      <td>NaN</td>\n",
       "      <td>NaN</td>\n",
       "    </tr>\n",
       "    <tr>\n",
       "      <th>1</th>\n",
       "      <td>215354</td>\n",
       "      <td>5714463</td>\n",
       "      <td>Active</td>\n",
       "      <td>currency 1</td>\n",
       "      <td>-208</td>\n",
       "      <td>0</td>\n",
       "      <td>1075.0</td>\n",
       "      <td>NaN</td>\n",
       "      <td>NaN</td>\n",
       "      <td>0</td>\n",
       "      <td>...</td>\n",
       "      <td>171342.0</td>\n",
       "      <td>NaN</td>\n",
       "      <td>0.0</td>\n",
       "      <td>Credit card</td>\n",
       "      <td>-20</td>\n",
       "      <td>NaN</td>\n",
       "      <td>NaN</td>\n",
       "      <td>NaN</td>\n",
       "      <td>NaN</td>\n",
       "      <td>NaN</td>\n",
       "    </tr>\n",
       "  </tbody>\n",
       "</table>\n",
       "<p>2 rows × 21 columns</p>\n",
       "</div>"
      ],
      "text/plain": [
       "   SK_ID_CURR  SK_ID_BUREAU CREDIT_ACTIVE CREDIT_CURRENCY  DAYS_CREDIT  \\\n",
       "0      215354       5714462        Closed      currency 1         -497   \n",
       "1      215354       5714463        Active      currency 1         -208   \n",
       "\n",
       "   CREDIT_DAY_OVERDUE  DAYS_CREDIT_ENDDATE  DAYS_ENDDATE_FACT  \\\n",
       "0                   0               -153.0             -153.0   \n",
       "1                   0               1075.0                NaN   \n",
       "\n",
       "   AMT_CREDIT_MAX_OVERDUE  CNT_CREDIT_PROLONG  \\\n",
       "0                     NaN                   0   \n",
       "1                     NaN                   0   \n",
       "\n",
       "                ...                 AMT_CREDIT_SUM_DEBT  AMT_CREDIT_SUM_LIMIT  \\\n",
       "0               ...                                 0.0                   NaN   \n",
       "1               ...                            171342.0                   NaN   \n",
       "\n",
       "   AMT_CREDIT_SUM_OVERDUE      CREDIT_TYPE DAYS_CREDIT_UPDATE  AMT_ANNUITY  \\\n",
       "0                     0.0  Consumer credit               -131          NaN   \n",
       "1                     0.0      Credit card                -20          NaN   \n",
       "\n",
       "   bureau_balance_score  bureau_balance_lg_coef  \\\n",
       "0                   NaN                     NaN   \n",
       "1                   NaN                     NaN   \n",
       "\n",
       "   bureau_balance_lg_normalized_coef  bureau_balance_last_on_C_STATUS  \n",
       "0                                NaN                              NaN  \n",
       "1                                NaN                              NaN  \n",
       "\n",
       "[2 rows x 21 columns]"
      ]
     },
     "execution_count": 5,
     "metadata": {},
     "output_type": "execute_result"
    }
   ],
   "source": [
    "m = {'C':7, 'X':0, '0':0, '1':1, '2':2, '3':3, '4':4, '5':5}\n",
    "bb_score1 = last_before_C(bb, 'SK_ID_BUREAU', 'STATUS', 'MONTHS_BALANCE', m, 'bureau_balance')\n",
    "bureau = bureau.merge(bb_score1, on='SK_ID_BUREAU', how='left')\n",
    "bureau.head(2)"
   ]
  },
  {
   "cell_type": "markdown",
   "metadata": {},
   "source": [
    "# count"
   ]
  },
  {
   "cell_type": "code",
   "execution_count": 6,
   "metadata": {
    "ExecuteTime": {
     "end_time": "2018-06-16T09:15:33.080826Z",
     "start_time": "2018-06-16T09:15:24.476033Z"
    },
    "scrolled": true
   },
   "outputs": [
    {
     "data": {
      "text/html": [
       "<div>\n",
       "<style>\n",
       "    .dataframe thead tr:only-child th {\n",
       "        text-align: right;\n",
       "    }\n",
       "\n",
       "    .dataframe thead th {\n",
       "        text-align: left;\n",
       "    }\n",
       "\n",
       "    .dataframe tbody tr th {\n",
       "        vertical-align: top;\n",
       "    }\n",
       "</style>\n",
       "<table border=\"1\" class=\"dataframe\">\n",
       "  <thead>\n",
       "    <tr style=\"text-align: right;\">\n",
       "      <th></th>\n",
       "      <th>SK_ID_CURR</th>\n",
       "      <th>SK_ID_BUREAU</th>\n",
       "      <th>CREDIT_ACTIVE</th>\n",
       "      <th>CREDIT_CURRENCY</th>\n",
       "      <th>DAYS_CREDIT</th>\n",
       "      <th>CREDIT_DAY_OVERDUE</th>\n",
       "      <th>DAYS_CREDIT_ENDDATE</th>\n",
       "      <th>DAYS_ENDDATE_FACT</th>\n",
       "      <th>AMT_CREDIT_MAX_OVERDUE</th>\n",
       "      <th>CNT_CREDIT_PROLONG</th>\n",
       "      <th>...</th>\n",
       "      <th>AMT_CREDIT_SUM_LIMIT</th>\n",
       "      <th>AMT_CREDIT_SUM_OVERDUE</th>\n",
       "      <th>CREDIT_TYPE</th>\n",
       "      <th>DAYS_CREDIT_UPDATE</th>\n",
       "      <th>AMT_ANNUITY</th>\n",
       "      <th>bureau_balance_score</th>\n",
       "      <th>bureau_balance_lg_coef</th>\n",
       "      <th>bureau_balance_lg_normalized_coef</th>\n",
       "      <th>bureau_balance_last_on_C_STATUS</th>\n",
       "      <th>bb_STATUS_count</th>\n",
       "    </tr>\n",
       "  </thead>\n",
       "  <tbody>\n",
       "    <tr>\n",
       "      <th>0</th>\n",
       "      <td>215354</td>\n",
       "      <td>5714462</td>\n",
       "      <td>Closed</td>\n",
       "      <td>currency 1</td>\n",
       "      <td>-497</td>\n",
       "      <td>0</td>\n",
       "      <td>-153.0</td>\n",
       "      <td>-153.0</td>\n",
       "      <td>NaN</td>\n",
       "      <td>0</td>\n",
       "      <td>...</td>\n",
       "      <td>NaN</td>\n",
       "      <td>0.0</td>\n",
       "      <td>Consumer credit</td>\n",
       "      <td>-131</td>\n",
       "      <td>NaN</td>\n",
       "      <td>NaN</td>\n",
       "      <td>NaN</td>\n",
       "      <td>NaN</td>\n",
       "      <td>NaN</td>\n",
       "      <td>NaN</td>\n",
       "    </tr>\n",
       "    <tr>\n",
       "      <th>1</th>\n",
       "      <td>215354</td>\n",
       "      <td>5714463</td>\n",
       "      <td>Active</td>\n",
       "      <td>currency 1</td>\n",
       "      <td>-208</td>\n",
       "      <td>0</td>\n",
       "      <td>1075.0</td>\n",
       "      <td>NaN</td>\n",
       "      <td>NaN</td>\n",
       "      <td>0</td>\n",
       "      <td>...</td>\n",
       "      <td>NaN</td>\n",
       "      <td>0.0</td>\n",
       "      <td>Credit card</td>\n",
       "      <td>-20</td>\n",
       "      <td>NaN</td>\n",
       "      <td>NaN</td>\n",
       "      <td>NaN</td>\n",
       "      <td>NaN</td>\n",
       "      <td>NaN</td>\n",
       "      <td>NaN</td>\n",
       "    </tr>\n",
       "  </tbody>\n",
       "</table>\n",
       "<p>2 rows × 22 columns</p>\n",
       "</div>"
      ],
      "text/plain": [
       "   SK_ID_CURR  SK_ID_BUREAU CREDIT_ACTIVE CREDIT_CURRENCY  DAYS_CREDIT  \\\n",
       "0      215354       5714462        Closed      currency 1         -497   \n",
       "1      215354       5714463        Active      currency 1         -208   \n",
       "\n",
       "   CREDIT_DAY_OVERDUE  DAYS_CREDIT_ENDDATE  DAYS_ENDDATE_FACT  \\\n",
       "0                   0               -153.0             -153.0   \n",
       "1                   0               1075.0                NaN   \n",
       "\n",
       "   AMT_CREDIT_MAX_OVERDUE  CNT_CREDIT_PROLONG       ...         \\\n",
       "0                     NaN                   0       ...          \n",
       "1                     NaN                   0       ...          \n",
       "\n",
       "   AMT_CREDIT_SUM_LIMIT  AMT_CREDIT_SUM_OVERDUE      CREDIT_TYPE  \\\n",
       "0                   NaN                     0.0  Consumer credit   \n",
       "1                   NaN                     0.0      Credit card   \n",
       "\n",
       "   DAYS_CREDIT_UPDATE AMT_ANNUITY  bureau_balance_score  \\\n",
       "0                -131         NaN                   NaN   \n",
       "1                 -20         NaN                   NaN   \n",
       "\n",
       "   bureau_balance_lg_coef  bureau_balance_lg_normalized_coef  \\\n",
       "0                     NaN                                NaN   \n",
       "1                     NaN                                NaN   \n",
       "\n",
       "   bureau_balance_last_on_C_STATUS  bb_STATUS_count  \n",
       "0                              NaN              NaN  \n",
       "1                              NaN              NaN  \n",
       "\n",
       "[2 rows x 22 columns]"
      ]
     },
     "execution_count": 6,
     "metadata": {},
     "output_type": "execute_result"
    }
   ],
   "source": [
    "bb_count = count(bb, 'SK_ID_BUREAU', 'STATUS', 'bb')\n",
    "bureau = bureau.merge(bb_count, on='SK_ID_BUREAU', how='left')\n",
    "bureau.head(2)"
   ]
  },
  {
   "cell_type": "markdown",
   "metadata": {},
   "source": [
    "# ratio"
   ]
  },
  {
   "cell_type": "code",
   "execution_count": 7,
   "metadata": {
    "ExecuteTime": {
     "end_time": "2018-06-16T09:15:33.652477Z",
     "start_time": "2018-06-16T09:15:33.083014Z"
    }
   },
   "outputs": [
    {
     "name": "stdout",
     "output_type": "stream",
     "text": [
      "CNT_CREDIT_PROLONG DAYS_CREDIT\n",
      "AMT_CREDIT_SUM_LIMIT AMT_CREDIT_SUM\n",
      "AMT_CREDIT_SUM_DEBT AMT_CREDIT_SUM\n",
      "AMT_CREDIT_SUM_DEBT AMT_CREDIT_SUM_OVERDUE\n"
     ]
    },
    {
     "data": {
      "text/plain": [
       "Index(['SK_ID_CURR', 'SK_ID_BUREAU', 'CREDIT_ACTIVE', 'CREDIT_CURRENCY',\n",
       "       'DAYS_CREDIT', 'CREDIT_DAY_OVERDUE', 'DAYS_CREDIT_ENDDATE',\n",
       "       'DAYS_ENDDATE_FACT', 'AMT_CREDIT_MAX_OVERDUE', 'CNT_CREDIT_PROLONG',\n",
       "       'AMT_CREDIT_SUM', 'AMT_CREDIT_SUM_DEBT', 'AMT_CREDIT_SUM_LIMIT',\n",
       "       'AMT_CREDIT_SUM_OVERDUE', 'CREDIT_TYPE', 'DAYS_CREDIT_UPDATE',\n",
       "       'AMT_ANNUITY', 'bureau_balance_score', 'bureau_balance_lg_coef',\n",
       "       'bureau_balance_lg_normalized_coef', 'bureau_balance_last_on_C_STATUS',\n",
       "       'bb_STATUS_count', 'CNT_CREDIT_PROLONG_divide_DAYS_CREDIT',\n",
       "       'AMT_CREDIT_SUM_LIMIT_divide_AMT_CREDIT_SUM',\n",
       "       'AMT_CREDIT_SUM_DEBT_divide_AMT_CREDIT_SUM',\n",
       "       'AMT_CREDIT_SUM_DEBT_divide_AMT_CREDIT_SUM_OVERDUE'],\n",
       "      dtype='object')"
      ]
     },
     "execution_count": 7,
     "metadata": {},
     "output_type": "execute_result"
    }
   ],
   "source": [
    "bureau[ratio_name('CNT_CREDIT_PROLONG', 'DAYS_CREDIT')] = ratio(bureau, 'CNT_CREDIT_PROLONG', 'DAYS_CREDIT')\n",
    "print('CNT_CREDIT_PROLONG', 'DAYS_CREDIT')\n",
    "bureau[ratio_name('AMT_CREDIT_SUM_LIMIT', 'AMT_CREDIT_SUM')] = ratio(bureau, 'AMT_CREDIT_SUM_LIMIT', 'AMT_CREDIT_SUM')\n",
    "print('AMT_CREDIT_SUM_LIMIT', 'AMT_CREDIT_SUM')\n",
    "bureau[ratio_name('AMT_CREDIT_SUM_DEBT', 'AMT_CREDIT_SUM')] = ratio(bureau, 'AMT_CREDIT_SUM_DEBT', 'AMT_CREDIT_SUM')\n",
    "print('AMT_CREDIT_SUM_DEBT', 'AMT_CREDIT_SUM')\n",
    "bureau[ratio_name('AMT_CREDIT_SUM_DEBT', 'AMT_CREDIT_SUM_OVERDUE')] = ratio(bureau, 'AMT_CREDIT_SUM_DEBT', 'AMT_CREDIT_SUM_OVERDUE')\n",
    "print('AMT_CREDIT_SUM_DEBT', 'AMT_CREDIT_SUM_OVERDUE')\n",
    "bureau.columns"
   ]
  },
  {
   "cell_type": "markdown",
   "metadata": {},
   "source": [
    "# cat features"
   ]
  },
  {
   "cell_type": "code",
   "execution_count": 8,
   "metadata": {
    "ExecuteTime": {
     "end_time": "2018-06-16T09:15:44.439848Z",
     "start_time": "2018-06-16T09:15:33.654024Z"
    }
   },
   "outputs": [
    {
     "name": "stdout",
     "output_type": "stream",
     "text": [
      "CREDIT_ACTIVE\n",
      "CREDIT_TYPE\n"
     ]
    },
    {
     "data": {
      "text/html": [
       "<div>\n",
       "<style>\n",
       "    .dataframe thead tr:only-child th {\n",
       "        text-align: right;\n",
       "    }\n",
       "\n",
       "    .dataframe thead th {\n",
       "        text-align: left;\n",
       "    }\n",
       "\n",
       "    .dataframe tbody tr th {\n",
       "        vertical-align: top;\n",
       "    }\n",
       "</style>\n",
       "<table border=\"1\" class=\"dataframe\">\n",
       "  <thead>\n",
       "    <tr style=\"text-align: right;\">\n",
       "      <th></th>\n",
       "      <th>SK_ID_CURR</th>\n",
       "      <th>CREDIT_ACTIVE_Active</th>\n",
       "      <th>CREDIT_ACTIVE_Bad debt</th>\n",
       "      <th>CREDIT_ACTIVE_Closed</th>\n",
       "      <th>CREDIT_ACTIVE_Sold</th>\n",
       "      <th>CREDIT_TYPE_Another type of loan</th>\n",
       "      <th>CREDIT_TYPE_Car loan</th>\n",
       "      <th>CREDIT_TYPE_Cash loan (non-earmarked)</th>\n",
       "      <th>CREDIT_TYPE_Consumer credit</th>\n",
       "      <th>CREDIT_TYPE_Credit card</th>\n",
       "      <th>CREDIT_TYPE_Interbank credit</th>\n",
       "      <th>CREDIT_TYPE_Loan for business development</th>\n",
       "      <th>CREDIT_TYPE_Loan for purchase of shares (margin lending)</th>\n",
       "      <th>CREDIT_TYPE_Loan for the purchase of equipment</th>\n",
       "      <th>CREDIT_TYPE_Loan for working capital replenishment</th>\n",
       "      <th>CREDIT_TYPE_Microloan</th>\n",
       "      <th>CREDIT_TYPE_Mobile operator loan</th>\n",
       "      <th>CREDIT_TYPE_Mortgage</th>\n",
       "      <th>CREDIT_TYPE_Real estate loan</th>\n",
       "      <th>CREDIT_TYPE_Unknown type of loan</th>\n",
       "    </tr>\n",
       "  </thead>\n",
       "  <tbody>\n",
       "    <tr>\n",
       "      <th>0</th>\n",
       "      <td>100002</td>\n",
       "      <td>20.0</td>\n",
       "      <td>0.0</td>\n",
       "      <td>90.0</td>\n",
       "      <td>0.0</td>\n",
       "      <td>0.0</td>\n",
       "      <td>0.0</td>\n",
       "      <td>0.0</td>\n",
       "      <td>52.0</td>\n",
       "      <td>58.0</td>\n",
       "      <td>0.0</td>\n",
       "      <td>0.0</td>\n",
       "      <td>0.0</td>\n",
       "      <td>0.0</td>\n",
       "      <td>0.0</td>\n",
       "      <td>0.0</td>\n",
       "      <td>0.0</td>\n",
       "      <td>0.0</td>\n",
       "      <td>0.0</td>\n",
       "      <td>0.0</td>\n",
       "    </tr>\n",
       "    <tr>\n",
       "      <th>1</th>\n",
       "      <td>100003</td>\n",
       "      <td>1.0</td>\n",
       "      <td>0.0</td>\n",
       "      <td>3.0</td>\n",
       "      <td>0.0</td>\n",
       "      <td>0.0</td>\n",
       "      <td>0.0</td>\n",
       "      <td>0.0</td>\n",
       "      <td>2.0</td>\n",
       "      <td>2.0</td>\n",
       "      <td>0.0</td>\n",
       "      <td>0.0</td>\n",
       "      <td>0.0</td>\n",
       "      <td>0.0</td>\n",
       "      <td>0.0</td>\n",
       "      <td>0.0</td>\n",
       "      <td>0.0</td>\n",
       "      <td>0.0</td>\n",
       "      <td>0.0</td>\n",
       "      <td>0.0</td>\n",
       "    </tr>\n",
       "  </tbody>\n",
       "</table>\n",
       "</div>"
      ],
      "text/plain": [
       "   SK_ID_CURR  CREDIT_ACTIVE_Active  CREDIT_ACTIVE_Bad debt  \\\n",
       "0      100002                  20.0                     0.0   \n",
       "1      100003                   1.0                     0.0   \n",
       "\n",
       "   CREDIT_ACTIVE_Closed  CREDIT_ACTIVE_Sold  CREDIT_TYPE_Another type of loan  \\\n",
       "0                  90.0                 0.0                               0.0   \n",
       "1                   3.0                 0.0                               0.0   \n",
       "\n",
       "   CREDIT_TYPE_Car loan  CREDIT_TYPE_Cash loan (non-earmarked)  \\\n",
       "0                   0.0                                    0.0   \n",
       "1                   0.0                                    0.0   \n",
       "\n",
       "   CREDIT_TYPE_Consumer credit  CREDIT_TYPE_Credit card  \\\n",
       "0                         52.0                     58.0   \n",
       "1                          2.0                      2.0   \n",
       "\n",
       "   CREDIT_TYPE_Interbank credit  CREDIT_TYPE_Loan for business development  \\\n",
       "0                           0.0                                        0.0   \n",
       "1                           0.0                                        0.0   \n",
       "\n",
       "   CREDIT_TYPE_Loan for purchase of shares (margin lending)  \\\n",
       "0                                                0.0          \n",
       "1                                                0.0          \n",
       "\n",
       "   CREDIT_TYPE_Loan for the purchase of equipment  \\\n",
       "0                                             0.0   \n",
       "1                                             0.0   \n",
       "\n",
       "   CREDIT_TYPE_Loan for working capital replenishment  CREDIT_TYPE_Microloan  \\\n",
       "0                                                0.0                     0.0   \n",
       "1                                                0.0                     0.0   \n",
       "\n",
       "   CREDIT_TYPE_Mobile operator loan  CREDIT_TYPE_Mortgage  \\\n",
       "0                               0.0                   0.0   \n",
       "1                               0.0                   0.0   \n",
       "\n",
       "   CREDIT_TYPE_Real estate loan  CREDIT_TYPE_Unknown type of loan  \n",
       "0                           0.0                               0.0  \n",
       "1                           0.0                               0.0  "
      ]
     },
     "execution_count": 8,
     "metadata": {},
     "output_type": "execute_result"
    }
   ],
   "source": [
    "cat_col_list = ['CREDIT_ACTIVE', 'CREDIT_TYPE']\n",
    "\n",
    "for x in cat_col_list:\n",
    "    print(x)\n",
    "    df = df.merge(split_categorical_feature(bureau, 'SK_ID_CURR', x), on='SK_ID_CURR', how='left')\n",
    "    gc.collect()\n",
    "df.head(2)"
   ]
  },
  {
   "cell_type": "markdown",
   "metadata": {},
   "source": [
    "# num features"
   ]
  },
  {
   "cell_type": "code",
   "execution_count": 9,
   "metadata": {
    "ExecuteTime": {
     "end_time": "2018-06-16T09:15:44.522381Z",
     "start_time": "2018-06-16T09:15:44.441353Z"
    },
    "collapsed": true
   },
   "outputs": [],
   "source": [
    "def numerical_agg( df, gp_col, agg_col, extrafunc_list = None):\n",
    "    \n",
    "    agg_list = ['max', 'min', 'std','mean']\n",
    "    '''\n",
    "    Possible extrafunc_list: ['sum','median','two_minus_one_third','positive_count', 'negative_count','standard_error', 'trimmed_mean_10_pct', 'trimmed_mean_25_pct','normed_std', 'max_minus_min','one_third','two_third']\n",
    "    '''\n",
    "    if extrafunc_list:\n",
    "        if 'one_third' in extrafunc_list:\n",
    "            def one_third(series):\n",
    "                return series.quantile(1/3)\n",
    "            \n",
    "        if 'two_third' in extrafunc_list:\n",
    "            def two_third(series):\n",
    "                return series.quantile(2/3)\n",
    "            \n",
    "        if 'max_minus_min' in extrafunc_list:\n",
    "            def max_minus_min(series):\n",
    "                return (series.max() - series.min())\n",
    "        \n",
    "        if 'two_minus_one_third' in extrafunc_list:\n",
    "#             print('two_minus_one')\n",
    "#             print('get two minus one')\n",
    "            def two_minus_one_third(series):\n",
    "                return(series.quantile(0.66666) - series.quantile(0.33333))\n",
    "       \n",
    "        if 'positive_count' in extrafunc_list:\n",
    "#             print('get positive count')\n",
    "            def positive_count(series):\n",
    "                return pd.Series(series > 0).sum()\n",
    "\n",
    "        if 'negative_count' in extrafunc_list:\n",
    "#             print('get negative count')\n",
    "            def negative_count(series):\n",
    "                return pd.Series(series < 0).sum()\n",
    "\n",
    "        if 'standard_error' in extrafunc_list:\n",
    "#             print('get std-error')\n",
    "            def standard_error(series):\n",
    "                return series.std()/np.sqrt(len(series))\n",
    "\n",
    "        if 'normed_std' in extrafunc_list:\n",
    "#             print('get normed_std')\n",
    "            def normed_std(series):\n",
    "                return series.std()/series.mean()\n",
    "\n",
    "        if 'trimmed_mean_10_pct' in extrafunc_list:\n",
    "#             print('get_trimmed 10 pct')\n",
    "            def trimmed_mean_10_pct(series):\n",
    "                return stats.trim_mean(series.dropna(), 0.1)\n",
    "\n",
    "        if 'trimmed_mean_25_pct' in extrafunc_list:\n",
    "#             print('get_trimmed 25 pct')\n",
    "            def trimmed_mean_25_pct(series):\n",
    "                return stats.trim_mean(series.dropna(), 0.25)\n",
    "        \n",
    "        list_tocall = []\n",
    "        for i in extrafunc_list:\n",
    "            if i not in set(['sum', 'median']):\n",
    "                list_tocall.append(eval(i))\n",
    "            \n",
    "    if extrafunc_list != None:   \n",
    "        agg_list.extend(list_tocall)\n",
    "    \n",
    "    _df = df.groupby(gp_col).agg({agg_col:agg_list})\n",
    "    columns = []\n",
    "    for pre in _df.columns.levels[0]:\n",
    "        for middle in _df.columns.levels[1]:\n",
    "            columns.append('bureau_%s_%s' %(pre,middle))\n",
    "    _df.columns = columns\n",
    "    \n",
    "    return _df.reset_index()"
   ]
  },
  {
   "cell_type": "code",
   "execution_count": 10,
   "metadata": {
    "ExecuteTime": {
     "end_time": "2018-06-16T09:15:44.628180Z",
     "start_time": "2018-06-16T09:15:44.523905Z"
    },
    "scrolled": true
   },
   "outputs": [
    {
     "ename": "NameError",
     "evalue": "name 'num_col_list' is not defined",
     "output_type": "error",
     "traceback": [
      "\u001b[0;31m---------------------------------------------------------------------------\u001b[0m",
      "\u001b[0;31mNameError\u001b[0m                                 Traceback (most recent call last)",
      "\u001b[0;32m<ipython-input-10-eb72721ddc42>\u001b[0m in \u001b[0;36m<module>\u001b[0;34m()\u001b[0m\n\u001b[0;32m----> 1\u001b[0;31m \u001b[0mprint\u001b[0m\u001b[0;34m(\u001b[0m\u001b[0mset\u001b[0m\u001b[0;34m(\u001b[0m\u001b[0mbureau\u001b[0m\u001b[0;34m.\u001b[0m\u001b[0mcolumns\u001b[0m\u001b[0;34m.\u001b[0m\u001b[0mvalues\u001b[0m\u001b[0;34m)\u001b[0m \u001b[0;34m-\u001b[0m \u001b[0mset\u001b[0m\u001b[0;34m(\u001b[0m\u001b[0mnum_col_list\u001b[0m\u001b[0;34m)\u001b[0m \u001b[0;34m-\u001b[0m \u001b[0mset\u001b[0m\u001b[0;34m(\u001b[0m\u001b[0mnum_col_list1\u001b[0m \u001b[0;34m+\u001b[0m \u001b[0mnum_col_list2\u001b[0m\u001b[0;34m)\u001b[0m\u001b[0;34m)\u001b[0m\u001b[0;34m\u001b[0m\u001b[0m\n\u001b[0m\u001b[1;32m      2\u001b[0m \u001b[0mprint\u001b[0m\u001b[0;34m(\u001b[0m\u001b[0mlen\u001b[0m\u001b[0;34m(\u001b[0m\u001b[0mbureau\u001b[0m\u001b[0;34m.\u001b[0m\u001b[0mcolumns\u001b[0m\u001b[0;34m.\u001b[0m\u001b[0mvalues\u001b[0m\u001b[0;34m)\u001b[0m\u001b[0;34m)\u001b[0m\u001b[0;34m\u001b[0m\u001b[0m\n",
      "\u001b[0;31mNameError\u001b[0m: name 'num_col_list' is not defined"
     ]
    }
   ],
   "source": [
    "print(set(bureau.columns.values) - set(num_col_list) - set(num_col_list1 + num_col_list2))\n",
    "print(len(bureau.columns.values))"
   ]
  },
  {
   "cell_type": "code",
   "execution_count": null,
   "metadata": {
    "ExecuteTime": {
     "end_time": "2018-06-16T09:15:44.628729Z",
     "start_time": "2018-06-16T08:22:15.056Z"
    }
   },
   "outputs": [],
   "source": [
    "num_col_list = [\n",
    "#     'DAYS_CREDIT', 'DAYS_CREDIT_ENDDATE','AMT_CREDIT_SUM',\n",
    "#     'AMT_CREDIT_SUM_LIMIT', \n",
    "#     'DAYS_CREDIT_UPDATE', 'AMT_ANNUITY', 'bureau_balance_score',\n",
    "    'CNT_CREDIT_PROLONG_divide_DAYS_CREDIT',\n",
    "    'AMT_CREDIT_SUM_LIMIT_divide_AMT_CREDIT_SUM', 'AMT_CREDIT_SUM_DEBT_divide_AMT_CREDIT_SUM',\n",
    "    'AMT_CREDIT_SUM_DEBT_divide_AMT_CREDIT_SUM_OVERDUE', 'bb_STATUS_count', 'bureau_balance_last_on_C_STATUS',\n",
    "    'bureau_balance_lg_normalized_coef', 'bureau_balance_lg_coef'\n",
    "]\n",
    "\n",
    "num_col_list1 = ['CREDIT_DAY_OVERDUE', 'AMT_CREDIT_MAX_OVERDUE', 'AMT_CREDIT_SUM_OVERDUE', 'CNT_CREDIT_PROLONG']\n",
    "num_col_list2 = ['AMT_CREDIT_SUM_DEBT']\n",
    "for x in num_col_list:\n",
    "    print(x)\n",
    "    df = df.merge(numerical_agg(bureau, 'SK_ID_CURR', x), on='SK_ID_CURR', how='left')\n",
    "    gc.collect()\n",
    "\n",
    "for x in num_col_list1:\n",
    "    print(x)\n",
    "    df = df.merge(numerical_agg(bureau, 'SK_ID_CURR', x, ['positive_count']), on='SK_ID_CURR', how='left')\n",
    "    gc.collect()\n",
    "    \n",
    "for x in num_col_list2:\n",
    "    print(x)\n",
    "    df = df.merge(numerical_agg(bureau, 'SK_ID_CURR', x, ['positive_count', 'negative_count']), on='SK_ID_CURR', how='left')\n",
    "    gc.collect()\n",
    "    \n",
    "df.head(2)"
   ]
  },
  {
   "cell_type": "markdown",
   "metadata": {},
   "source": [
    "# train test"
   ]
  },
  {
   "cell_type": "code",
   "execution_count": null,
   "metadata": {
    "ExecuteTime": {
     "end_time": "2018-06-16T09:15:44.629672Z",
     "start_time": "2018-06-16T08:22:15.057Z"
    }
   },
   "outputs": [],
   "source": [
    "c = count(bureau, 'SK_ID_CURR', 'SK_ID_BUREAU', 'bureau')\n",
    "df = df.merge(c, on='SK_ID_CURR', how='left')\n",
    "df.head(2)"
   ]
  },
  {
   "cell_type": "markdown",
   "metadata": {},
   "source": [
    "# train test merge"
   ]
  },
  {
   "cell_type": "code",
   "execution_count": null,
   "metadata": {
    "ExecuteTime": {
     "end_time": "2018-06-16T09:15:44.630522Z",
     "start_time": "2018-06-16T08:22:15.060Z"
    }
   },
   "outputs": [],
   "source": [
    "train.merge(df, on='SK_ID_CURR', how='left').to_pickle(PATH + 'train_cleaned_bureau.pkl')\n",
    "print('train')\n",
    "test.merge(df, on='SK_ID_CURR', how='left').to_pickle(PATH + 'test_cleaned_bureau.pkl')\n",
    "print('test')\n",
    "gc.collect()"
   ]
  },
  {
   "cell_type": "code",
   "execution_count": null,
   "metadata": {
    "ExecuteTime": {
     "end_time": "2018-06-16T09:15:44.631191Z",
     "start_time": "2018-06-16T08:22:15.061Z"
    }
   },
   "outputs": [],
   "source": [
    "tmp_bureau = bureau[['SK_ID_BUREAU','SK_ID_CURR']]\n",
    "tmp_bureau.head(2)"
   ]
  },
  {
   "cell_type": "code",
   "execution_count": null,
   "metadata": {
    "ExecuteTime": {
     "end_time": "2018-06-16T09:15:44.631968Z",
     "start_time": "2018-06-16T08:22:15.063Z"
    }
   },
   "outputs": [],
   "source": [
    "tmp_bureau = tmp_bureau.merge(split_categorical_feature(bb, 'SK_ID_BUREAU', 'STATUS'))\n",
    "tmp_bureau.head(10)"
   ]
  },
  {
   "cell_type": "code",
   "execution_count": null,
   "metadata": {
    "ExecuteTime": {
     "end_time": "2018-06-16T09:15:44.632662Z",
     "start_time": "2018-06-16T08:22:15.064Z"
    }
   },
   "outputs": [],
   "source": [
    "train = pd.read_pickle(PATH + 'train_cleaned_bureau.pkl')\n",
    "print('train')\n",
    "test = pd.read_pickle(PATH + 'test_cleaned_bureau.pkl')\n",
    "print('test')\n",
    "\n",
    "aaaaa = ['sum']\n",
    "\n",
    "for x in ['STATUS_0', 'STATUS_1', 'STATUS_2', 'STATUS_3', 'STATUS_4', 'STATUS_5', 'STATUS_C', 'STATUS_X']:\n",
    "    print(x)\n",
    "    tmp = numerical_agg(tmp_bureau, 'SK_ID_CURR', x, aaaaa)\n",
    "    print('train')\n",
    "    train = train.merge(tmp, on='SK_ID_CURR', how='left')\n",
    "    print('test')\n",
    "    test = test.merge(tmp, on='SK_ID_CURR', how='left')\n",
    "    print('done')\n",
    "    gc.collect()\n",
    "\n",
    "gc.collect()"
   ]
  },
  {
   "cell_type": "code",
   "execution_count": null,
   "metadata": {
    "ExecuteTime": {
     "end_time": "2018-06-16T09:15:44.633370Z",
     "start_time": "2018-06-16T08:22:15.070Z"
    },
    "scrolled": false
   },
   "outputs": [],
   "source": [
    "print(train.columns.values)"
   ]
  },
  {
   "cell_type": "code",
   "execution_count": null,
   "metadata": {
    "ExecuteTime": {
     "end_time": "2018-06-16T09:15:44.634130Z",
     "start_time": "2018-06-16T08:22:15.072Z"
    },
    "collapsed": true
   },
   "outputs": [],
   "source": [
    "train.to_pickle(PATH + 'train_cleaned_bureau_final.pkl')\n",
    "test.to_pickle(PATH + 'test_cleaned_bureau_final.pkl')"
   ]
  },
  {
   "cell_type": "code",
   "execution_count": null,
   "metadata": {
    "collapsed": true
   },
   "outputs": [],
   "source": []
  }
 ],
 "metadata": {
  "kernelspec": {
   "display_name": "Python 3",
   "language": "python",
   "name": "python3"
  },
  "language_info": {
   "codemirror_mode": {
    "name": "ipython",
    "version": 3
   },
   "file_extension": ".py",
   "mimetype": "text/x-python",
   "name": "python",
   "nbconvert_exporter": "python",
   "pygments_lexer": "ipython3",
   "version": "3.6.3"
  },
  "varInspector": {
   "cols": {
    "lenName": 16,
    "lenType": 16,
    "lenVar": 40
   },
   "kernels_config": {
    "python": {
     "delete_cmd_postfix": "",
     "delete_cmd_prefix": "del ",
     "library": "var_list.py",
     "varRefreshCmd": "print(var_dic_list())"
    },
    "r": {
     "delete_cmd_postfix": ") ",
     "delete_cmd_prefix": "rm(",
     "library": "var_list.r",
     "varRefreshCmd": "cat(var_dic_list()) "
    }
   },
   "types_to_exclude": [
    "module",
    "function",
    "builtin_function_or_method",
    "instance",
    "_Feature"
   ],
   "window_display": false
  }
 },
 "nbformat": 4,
 "nbformat_minor": 2
}
