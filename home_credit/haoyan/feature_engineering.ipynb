{
 "cells": [
  {
   "cell_type": "code",
   "execution_count": 1,
   "metadata": {
    "ExecuteTime": {
     "end_time": "2018-06-13T20:50:13.068538Z",
     "start_time": "2018-06-13T20:50:02.917991Z"
    }
   },
   "outputs": [
    {
     "name": "stdout",
     "output_type": "stream",
     "text": [
      "train\n",
      "test\n",
      "bureau\n",
      "bureau_balance\n",
      "concat\n"
     ]
    }
   ],
   "source": [
    "import pandas as pd\n",
    "import numpy as np\n",
    "\n",
    "PATH = '/home/kai/data/kaggle/homecredit/'\n",
    "train = pd.read_csv(PATH + 'application_train.csv')\n",
    "print('train')\n",
    "test = pd.read_csv(PATH + 'application_test.csv')\n",
    "print('test')\n",
    "bureau = pd.read_csv(PATH + 'bureau.csv')\n",
    "print('bureau')\n",
    "bb = pd.read_csv(PATH + 'bureau_balance.csv')\n",
    "print('bureau_balance')\n",
    "df = pd.concat([train[['SK_ID_CURR']], test[['SK_ID_CURR']]])\n",
    "print('concat')"
   ]
  },
  {
   "cell_type": "code",
   "execution_count": 23,
   "metadata": {
    "ExecuteTime": {
     "end_time": "2018-06-13T21:05:26.714077Z",
     "start_time": "2018-06-13T21:05:26.224358Z"
    }
   },
   "outputs": [],
   "source": [
    "import pandas as pd\n",
    "import os\n",
    "import gc\n",
    "import numpy as np\n",
    "from sklearn.linear_model import LinearRegression\n",
    "\n",
    "def _set_type(series, dtype):\n",
    "    _max, _min = max(series), min(series)\n",
    "    if dtype == 'uint':\n",
    "        if _max <= 255: return np.uint8\n",
    "        elif _max <= 65535: return np.uint16\n",
    "        elif _max <= 4294967295: return np.uint32\n",
    "        else: return np.uint64\n",
    "    elif dtype == 'int':\n",
    "        if _min >= -128 and _max <= 127: return np.int8\n",
    "        elif _min >=-32768 and _max <= 32767: return np.int16\n",
    "        elif _min >= -2147483648 and _max <= 2147483647: return np.int32\n",
    "        else: return np.int64\n",
    "    elif dtype == 'float':\n",
    "        if max(abs(_min), _max) <= 3.4028235e+38: return np.float32\n",
    "        else: return np.float64\n",
    "\n",
    "def split_categorical_feature(df, group_col, calc_col):\n",
    "    tmp_df = pd.concat([df[group_col], pd.get_dummies(df[calc_col], prefix=calc_col)], axis=1).groupby(by=group_col).sum().reset_index()\n",
    "    dtype = {x: _set_type(tmp_df[x], 'uint') for x in tmp_df.columns if x != group_col}\n",
    "    for x in tmp_df:\n",
    "        if x in df.columns:\n",
    "            dtype[x] = df[x].dtype\n",
    "    return tmp_df.astype(dtype)\n",
    "\n",
    "def score(df, group_col, calc_col, time_col, score_map, table_name):\n",
    "    total = list(group_col)\n",
    "    total.extend([calc_col, time_col])\n",
    "    _df = df.sort_values('MONTHS_BALANCE').reset_index()\n",
    "    _df[calc_col] = _df[calc_col].map(score_map)\n",
    "    group = _df.groupby(by=group_col)\n",
    "    _df[calc_col] = (group[calc_col].shift(1).fillna(0) + group[calc_col].shift(-1).fillna(0) + _df[calc_col]) ** 2 / np.exp(-(_df[time_col])**2/144/2)\n",
    "    dtype = {x: df[x].dtype for x in group_col if x in df.columns}\n",
    "    dtype[calc_col] = _set_type(_df[calc_col], 'float')\n",
    "    __df = _df[[group_col, calc_col]].astype(dtype).rename(index=str, columns={calc_col: table_name + '_score'})\n",
    "    del _df\n",
    "    gc.collect()\n",
    "    return __df\n",
    "\n",
    "def count(df, group_col, calc_col, table_name):\n",
    "    group = df[[group_col, calc_col]].groupby(by=group_col)[[calc_col]].count().reset_index()\n",
    "    dtype = {x: df[x].dtype for x in group_col if x in df.columns}\n",
    "    dtype[calc_col] = _set_type(group[calc_col], 'uint')\n",
    "    _df = group.astype(dtype).rename(index=str, columns={calc_col: table_name + '_' + calc_col + '_count'})\n",
    "    return _df\n",
    "\n",
    "def linear(df_, group_col, value_col, time_col, score_map, table_name):\n",
    "    l = []\n",
    "    df = df_.sort_values('MONTHS_BALANCE').reset_index()\n",
    "    df[value_col] = df[value_col].map(score_map)\n",
    "    gp = df[[group_col, time_col, value_col]].groupby(by=group_col)\n",
    "    for i, group in gp:\n",
    "        lg = LinearRegression()\n",
    "        lg.fit(group[[time_col]], group[[value_col]])\n",
    "        l.append([i, lg.coef_[0][0], lg.intercept_[0]])\n",
    "    tmp_df = pd.DataFrame(l, columns=[group_col, table_name + '_' + 'lg_coef', table_name + '_' + 'lg_inte'])\n",
    "    dtype = {x: df[x].dtype for x in group_col if x in df.columns}\n",
    "    dtype[calc_col] = _set_type(group[calc_col], 'float')\n",
    "    return tmp_df.astype(dtype)\n",
    "\n",
    "def normalized_linear(df_, group_col, value_col, time_col, score_map, table_name):\n",
    "    l = []\n",
    "    df = df_.sort_values('MONTHS_BALANCE').reset_index()\n",
    "    df[value_col] = df[value_col].map(score_map)\n",
    "    gp = df[[group_col, time_col, value_col]].groupby(by=group_col)\n",
    "    for i, group in gp:\n",
    "        group[time_col] = (group[time_col] - group[time_col].max()) / (group[time_col].max() - group[time_col].min() + 1)\n",
    "        lg = LinearRegression()\n",
    "        lg.fit(group[[time_col]], group[[value_col]])\n",
    "        l.append([i, lg.coef_[0][0], lg.intercept_[0]])\n",
    "        print(lg.coef_[0][0])\n",
    "    tmp_df = pd.DataFrame(l, columns=[group_col, table_name + '_' + 'lg_coef', table_name + '_' + 'lg_inte'])\n",
    "    dtype = {x: df[x].dtype for x in group_col if x in df.columns}\n",
    "    dtype[calc_col] = _set_type(group[calc_col], 'float')\n",
    "    return tmp_df.astype(dtype)\n",
    "    \n",
    "def cutoff_normalized_linear(df_, group_col, value_col, time_col, score_map, table_name):\n",
    "    pass\n",
    "\n",
    "def ratio_name(numerator, denominator): return numerator + '_' + denominator + '_ratio'\n",
    "\n",
    "def ratio(df, numerator, denominator):\n",
    "    return df[numerator] / df[denominator]\n",
    "\n",
    "def markov_time_score(df_, group_col, calc_col, time_col):\n",
    "    def _time(x): np.exp(-x**2/144/2)\n",
    "    \n",
    "    df = df_.sort_values('MONTHS_BALANCE').reset_index()\n",
    "    mapp = {'0':0, '1':1, '2':2, '3':3, '4':4, '5':5, 'C':6, 'X':7}\n",
    "    _df = df[calc_col].map(mapp)\n",
    "    d = {}\n",
    "    M = {}\n",
    "    for i in range(df.shape[0]):\n",
    "        if i % 2000000 == 0: print(i)\n",
    "        key = df.loc[i, group_col]\n",
    "        value = _df[i]\n",
    "        if d.get(key) != None:\n",
    "            M[key][d.get(key)][value] += 1 * _time(df.loc[i, time_col])\n",
    "        else:\n",
    "            M[key] = np.zeros((len(mapp), len(mapp)))\n",
    "        d[key] = value\n",
    "    del df, _df, d\n",
    "    gc.collect()\n",
    "    return M"
   ]
  },
  {
   "cell_type": "markdown",
   "metadata": {},
   "source": [
    "# score"
   ]
  },
  {
   "cell_type": "code",
   "execution_count": 3,
   "metadata": {
    "ExecuteTime": {
     "end_time": "2018-06-13T18:22:50.574114Z",
     "start_time": "2018-06-13T18:21:15.400295Z"
    },
    "scrolled": false
   },
   "outputs": [
    {
     "data": {
      "text/html": [
       "<div>\n",
       "<style>\n",
       "    .dataframe thead tr:only-child th {\n",
       "        text-align: right;\n",
       "    }\n",
       "\n",
       "    .dataframe thead th {\n",
       "        text-align: left;\n",
       "    }\n",
       "\n",
       "    .dataframe tbody tr th {\n",
       "        vertical-align: top;\n",
       "    }\n",
       "</style>\n",
       "<table border=\"1\" class=\"dataframe\">\n",
       "  <thead>\n",
       "    <tr style=\"text-align: right;\">\n",
       "      <th></th>\n",
       "      <th>SK_ID_CURR</th>\n",
       "      <th>SK_ID_BUREAU</th>\n",
       "      <th>CREDIT_ACTIVE</th>\n",
       "      <th>CREDIT_CURRENCY</th>\n",
       "      <th>DAYS_CREDIT</th>\n",
       "      <th>CREDIT_DAY_OVERDUE</th>\n",
       "      <th>DAYS_CREDIT_ENDDATE</th>\n",
       "      <th>DAYS_ENDDATE_FACT</th>\n",
       "      <th>AMT_CREDIT_MAX_OVERDUE</th>\n",
       "      <th>CNT_CREDIT_PROLONG</th>\n",
       "      <th>AMT_CREDIT_SUM</th>\n",
       "      <th>AMT_CREDIT_SUM_DEBT</th>\n",
       "      <th>AMT_CREDIT_SUM_LIMIT</th>\n",
       "      <th>AMT_CREDIT_SUM_OVERDUE</th>\n",
       "      <th>CREDIT_TYPE</th>\n",
       "      <th>DAYS_CREDIT_UPDATE</th>\n",
       "      <th>AMT_ANNUITY</th>\n",
       "      <th>bureau_balance_score</th>\n",
       "    </tr>\n",
       "  </thead>\n",
       "  <tbody>\n",
       "    <tr>\n",
       "      <th>0</th>\n",
       "      <td>215354</td>\n",
       "      <td>5714462</td>\n",
       "      <td>Closed</td>\n",
       "      <td>currency 1</td>\n",
       "      <td>-497</td>\n",
       "      <td>0</td>\n",
       "      <td>-153.0</td>\n",
       "      <td>-153.0</td>\n",
       "      <td>NaN</td>\n",
       "      <td>0</td>\n",
       "      <td>91323.0</td>\n",
       "      <td>0.0</td>\n",
       "      <td>NaN</td>\n",
       "      <td>0.0</td>\n",
       "      <td>Consumer credit</td>\n",
       "      <td>-131</td>\n",
       "      <td>NaN</td>\n",
       "      <td>NaN</td>\n",
       "    </tr>\n",
       "    <tr>\n",
       "      <th>1</th>\n",
       "      <td>215354</td>\n",
       "      <td>5714463</td>\n",
       "      <td>Active</td>\n",
       "      <td>currency 1</td>\n",
       "      <td>-208</td>\n",
       "      <td>0</td>\n",
       "      <td>1075.0</td>\n",
       "      <td>NaN</td>\n",
       "      <td>NaN</td>\n",
       "      <td>0</td>\n",
       "      <td>225000.0</td>\n",
       "      <td>171342.0</td>\n",
       "      <td>NaN</td>\n",
       "      <td>0.0</td>\n",
       "      <td>Credit card</td>\n",
       "      <td>-20</td>\n",
       "      <td>NaN</td>\n",
       "      <td>NaN</td>\n",
       "    </tr>\n",
       "  </tbody>\n",
       "</table>\n",
       "</div>"
      ],
      "text/plain": [
       "   SK_ID_CURR  SK_ID_BUREAU CREDIT_ACTIVE CREDIT_CURRENCY  DAYS_CREDIT  \\\n",
       "0      215354       5714462        Closed      currency 1         -497   \n",
       "1      215354       5714463        Active      currency 1         -208   \n",
       "\n",
       "   CREDIT_DAY_OVERDUE  DAYS_CREDIT_ENDDATE  DAYS_ENDDATE_FACT  \\\n",
       "0                   0               -153.0             -153.0   \n",
       "1                   0               1075.0                NaN   \n",
       "\n",
       "   AMT_CREDIT_MAX_OVERDUE  CNT_CREDIT_PROLONG  AMT_CREDIT_SUM  \\\n",
       "0                     NaN                   0         91323.0   \n",
       "1                     NaN                   0        225000.0   \n",
       "\n",
       "   AMT_CREDIT_SUM_DEBT  AMT_CREDIT_SUM_LIMIT  AMT_CREDIT_SUM_OVERDUE  \\\n",
       "0                  0.0                   NaN                     0.0   \n",
       "1             171342.0                   NaN                     0.0   \n",
       "\n",
       "       CREDIT_TYPE  DAYS_CREDIT_UPDATE  AMT_ANNUITY  bureau_balance_score  \n",
       "0  Consumer credit                -131          NaN                   NaN  \n",
       "1      Credit card                 -20          NaN                   NaN  "
      ]
     },
     "execution_count": 3,
     "metadata": {},
     "output_type": "execute_result"
    }
   ],
   "source": [
    "m = {'C':0, 'X':0, '0':0, '1':1, '2':2, '3':3, '4':4, '5':5}\n",
    "bb_score = score(bb, 'SK_ID_BUREAU', 'STATUS', 'MONTHS_BALANCE', m, 'bureau_balance')\n",
    "bureau = bureau.merge(bb_score, on='SK_ID_BUREAU', how='left')\n",
    "bureau.head(2)"
   ]
  },
  {
   "cell_type": "code",
   "execution_count": 24,
   "metadata": {
    "ExecuteTime": {
     "end_time": "2018-06-13T21:05:42.915402Z",
     "start_time": "2018-06-13T21:05:28.187497Z"
    },
    "scrolled": true
   },
   "outputs": [
    {
     "name": "stderr",
     "output_type": "stream",
     "text": [
      "/home/kai/anaconda3/lib/python3.6/site-packages/ipykernel_launcher.py:72: SettingWithCopyWarning: \n",
      "A value is trying to be set on a copy of a slice from a DataFrame.\n",
      "Try using .loc[row_indexer,col_indexer] = value instead\n",
      "\n",
      "See the caveats in the documentation: http://pandas.pydata.org/pandas-docs/stable/indexing.html#indexing-view-versus-copy\n"
     ]
    },
    {
     "name": "stdout",
     "output_type": "stream",
     "text": [
      "0.0\n",
      "0.0\n",
      "0.0\n",
      "0.0\n",
      "0.0\n",
      "0.0\n",
      "0.0\n",
      "0.0\n",
      "0.0\n",
      "0.138461538462\n",
      "0.0\n",
      "0.671171171171\n",
      "0.0\n",
      "-0.476343223737\n",
      "0.0\n",
      "0.0\n",
      "0.0\n",
      "0.0\n",
      "0.0\n"
     ]
    },
    {
     "ename": "ValueError",
     "evalue": "Input contains NaN, infinity or a value too large for dtype('float64').",
     "output_type": "error",
     "traceback": [
      "\u001b[0;31m---------------------------------------------------------------------------\u001b[0m",
      "\u001b[0;31mValueError\u001b[0m                                Traceback (most recent call last)",
      "\u001b[0;32m<ipython-input-24-4400fbfbbb59>\u001b[0m in \u001b[0;36m<module>\u001b[0;34m()\u001b[0m\n\u001b[1;32m      1\u001b[0m \u001b[0mm\u001b[0m \u001b[0;34m=\u001b[0m \u001b[0;34m{\u001b[0m\u001b[0;34m'C'\u001b[0m\u001b[0;34m:\u001b[0m\u001b[0;36m0\u001b[0m\u001b[0;34m,\u001b[0m \u001b[0;34m'X'\u001b[0m\u001b[0;34m:\u001b[0m\u001b[0;36m0\u001b[0m\u001b[0;34m,\u001b[0m \u001b[0;34m'0'\u001b[0m\u001b[0;34m:\u001b[0m\u001b[0;36m0\u001b[0m\u001b[0;34m,\u001b[0m \u001b[0;34m'1'\u001b[0m\u001b[0;34m:\u001b[0m\u001b[0;36m1\u001b[0m\u001b[0;34m,\u001b[0m \u001b[0;34m'2'\u001b[0m\u001b[0;34m:\u001b[0m\u001b[0;36m2\u001b[0m\u001b[0;34m,\u001b[0m \u001b[0;34m'3'\u001b[0m\u001b[0;34m:\u001b[0m\u001b[0;36m3\u001b[0m\u001b[0;34m,\u001b[0m \u001b[0;34m'4'\u001b[0m\u001b[0;34m:\u001b[0m\u001b[0;36m4\u001b[0m\u001b[0;34m,\u001b[0m \u001b[0;34m'5'\u001b[0m\u001b[0;34m:\u001b[0m\u001b[0;36m5\u001b[0m\u001b[0;34m}\u001b[0m\u001b[0;34m\u001b[0m\u001b[0m\n\u001b[0;32m----> 2\u001b[0;31m \u001b[0mbb_score\u001b[0m \u001b[0;34m=\u001b[0m \u001b[0mnormalized_linear\u001b[0m\u001b[0;34m(\u001b[0m\u001b[0mbb\u001b[0m\u001b[0;34m,\u001b[0m \u001b[0;34m'SK_ID_BUREAU'\u001b[0m\u001b[0;34m,\u001b[0m \u001b[0;34m'STATUS'\u001b[0m\u001b[0;34m,\u001b[0m \u001b[0;34m'MONTHS_BALANCE'\u001b[0m\u001b[0;34m,\u001b[0m \u001b[0mm\u001b[0m\u001b[0;34m,\u001b[0m \u001b[0;34m'bureau_balance'\u001b[0m\u001b[0;34m)\u001b[0m\u001b[0;34m\u001b[0m\u001b[0m\n\u001b[0m\u001b[1;32m      3\u001b[0m \u001b[0mbb_score\u001b[0m\u001b[0;34m\u001b[0m\u001b[0m\n",
      "\u001b[0;32m<ipython-input-23-0b0b1bc63ef3>\u001b[0m in \u001b[0;36mnormalized_linear\u001b[0;34m(df_, group_col, value_col, time_col, score_map, table_name)\u001b[0m\n\u001b[1;32m     72\u001b[0m         \u001b[0mgroup\u001b[0m\u001b[0;34m[\u001b[0m\u001b[0mtime_col\u001b[0m\u001b[0;34m]\u001b[0m \u001b[0;34m=\u001b[0m \u001b[0;34m(\u001b[0m\u001b[0mgroup\u001b[0m\u001b[0;34m[\u001b[0m\u001b[0mtime_col\u001b[0m\u001b[0;34m]\u001b[0m \u001b[0;34m-\u001b[0m \u001b[0mgroup\u001b[0m\u001b[0;34m[\u001b[0m\u001b[0mtime_col\u001b[0m\u001b[0;34m]\u001b[0m\u001b[0;34m.\u001b[0m\u001b[0mmax\u001b[0m\u001b[0;34m(\u001b[0m\u001b[0;34m)\u001b[0m\u001b[0;34m)\u001b[0m \u001b[0;34m/\u001b[0m \u001b[0;34m(\u001b[0m\u001b[0mgroup\u001b[0m\u001b[0;34m[\u001b[0m\u001b[0mtime_col\u001b[0m\u001b[0;34m]\u001b[0m\u001b[0;34m.\u001b[0m\u001b[0mmax\u001b[0m\u001b[0;34m(\u001b[0m\u001b[0;34m)\u001b[0m \u001b[0;34m-\u001b[0m \u001b[0mgroup\u001b[0m\u001b[0;34m[\u001b[0m\u001b[0mtime_col\u001b[0m\u001b[0;34m]\u001b[0m\u001b[0;34m.\u001b[0m\u001b[0mmin\u001b[0m\u001b[0;34m(\u001b[0m\u001b[0;34m)\u001b[0m\u001b[0;34m)\u001b[0m\u001b[0;34m\u001b[0m\u001b[0m\n\u001b[1;32m     73\u001b[0m         \u001b[0mlg\u001b[0m \u001b[0;34m=\u001b[0m \u001b[0mLinearRegression\u001b[0m\u001b[0;34m(\u001b[0m\u001b[0;34m)\u001b[0m\u001b[0;34m\u001b[0m\u001b[0m\n\u001b[0;32m---> 74\u001b[0;31m         \u001b[0mlg\u001b[0m\u001b[0;34m.\u001b[0m\u001b[0mfit\u001b[0m\u001b[0;34m(\u001b[0m\u001b[0mgroup\u001b[0m\u001b[0;34m[\u001b[0m\u001b[0;34m[\u001b[0m\u001b[0mtime_col\u001b[0m\u001b[0;34m]\u001b[0m\u001b[0;34m]\u001b[0m\u001b[0;34m,\u001b[0m \u001b[0mgroup\u001b[0m\u001b[0;34m[\u001b[0m\u001b[0;34m[\u001b[0m\u001b[0mvalue_col\u001b[0m\u001b[0;34m]\u001b[0m\u001b[0;34m]\u001b[0m\u001b[0;34m)\u001b[0m\u001b[0;34m\u001b[0m\u001b[0m\n\u001b[0m\u001b[1;32m     75\u001b[0m         \u001b[0ml\u001b[0m\u001b[0;34m.\u001b[0m\u001b[0mappend\u001b[0m\u001b[0;34m(\u001b[0m\u001b[0;34m[\u001b[0m\u001b[0mi\u001b[0m\u001b[0;34m,\u001b[0m \u001b[0mlg\u001b[0m\u001b[0;34m.\u001b[0m\u001b[0mcoef_\u001b[0m\u001b[0;34m[\u001b[0m\u001b[0;36m0\u001b[0m\u001b[0;34m]\u001b[0m\u001b[0;34m[\u001b[0m\u001b[0;36m0\u001b[0m\u001b[0;34m]\u001b[0m\u001b[0;34m,\u001b[0m \u001b[0mlg\u001b[0m\u001b[0;34m.\u001b[0m\u001b[0mintercept_\u001b[0m\u001b[0;34m[\u001b[0m\u001b[0;36m0\u001b[0m\u001b[0;34m]\u001b[0m\u001b[0;34m]\u001b[0m\u001b[0;34m)\u001b[0m\u001b[0;34m\u001b[0m\u001b[0m\n\u001b[1;32m     76\u001b[0m         \u001b[0mprint\u001b[0m\u001b[0;34m(\u001b[0m\u001b[0mlg\u001b[0m\u001b[0;34m.\u001b[0m\u001b[0mcoef_\u001b[0m\u001b[0;34m[\u001b[0m\u001b[0;36m0\u001b[0m\u001b[0;34m]\u001b[0m\u001b[0;34m[\u001b[0m\u001b[0;36m0\u001b[0m\u001b[0;34m]\u001b[0m\u001b[0;34m)\u001b[0m\u001b[0;34m\u001b[0m\u001b[0m\n",
      "\u001b[0;32m~/anaconda3/lib/python3.6/site-packages/sklearn/linear_model/base.py\u001b[0m in \u001b[0;36mfit\u001b[0;34m(self, X, y, sample_weight)\u001b[0m\n\u001b[1;32m    480\u001b[0m         \u001b[0mn_jobs_\u001b[0m \u001b[0;34m=\u001b[0m \u001b[0mself\u001b[0m\u001b[0;34m.\u001b[0m\u001b[0mn_jobs\u001b[0m\u001b[0;34m\u001b[0m\u001b[0m\n\u001b[1;32m    481\u001b[0m         X, y = check_X_y(X, y, accept_sparse=['csr', 'csc', 'coo'],\n\u001b[0;32m--> 482\u001b[0;31m                          y_numeric=True, multi_output=True)\n\u001b[0m\u001b[1;32m    483\u001b[0m \u001b[0;34m\u001b[0m\u001b[0m\n\u001b[1;32m    484\u001b[0m         \u001b[0;32mif\u001b[0m \u001b[0msample_weight\u001b[0m \u001b[0;32mis\u001b[0m \u001b[0;32mnot\u001b[0m \u001b[0;32mNone\u001b[0m \u001b[0;32mand\u001b[0m \u001b[0mnp\u001b[0m\u001b[0;34m.\u001b[0m\u001b[0matleast_1d\u001b[0m\u001b[0;34m(\u001b[0m\u001b[0msample_weight\u001b[0m\u001b[0;34m)\u001b[0m\u001b[0;34m.\u001b[0m\u001b[0mndim\u001b[0m \u001b[0;34m>\u001b[0m \u001b[0;36m1\u001b[0m\u001b[0;34m:\u001b[0m\u001b[0;34m\u001b[0m\u001b[0m\n",
      "\u001b[0;32m~/anaconda3/lib/python3.6/site-packages/sklearn/utils/validation.py\u001b[0m in \u001b[0;36mcheck_X_y\u001b[0;34m(X, y, accept_sparse, dtype, order, copy, force_all_finite, ensure_2d, allow_nd, multi_output, ensure_min_samples, ensure_min_features, y_numeric, warn_on_dtype, estimator)\u001b[0m\n\u001b[1;32m    571\u001b[0m     X = check_array(X, accept_sparse, dtype, order, copy, force_all_finite,\n\u001b[1;32m    572\u001b[0m                     \u001b[0mensure_2d\u001b[0m\u001b[0;34m,\u001b[0m \u001b[0mallow_nd\u001b[0m\u001b[0;34m,\u001b[0m \u001b[0mensure_min_samples\u001b[0m\u001b[0;34m,\u001b[0m\u001b[0;34m\u001b[0m\u001b[0m\n\u001b[0;32m--> 573\u001b[0;31m                     ensure_min_features, warn_on_dtype, estimator)\n\u001b[0m\u001b[1;32m    574\u001b[0m     \u001b[0;32mif\u001b[0m \u001b[0mmulti_output\u001b[0m\u001b[0;34m:\u001b[0m\u001b[0;34m\u001b[0m\u001b[0m\n\u001b[1;32m    575\u001b[0m         y = check_array(y, 'csr', force_all_finite=True, ensure_2d=False,\n",
      "\u001b[0;32m~/anaconda3/lib/python3.6/site-packages/sklearn/utils/validation.py\u001b[0m in \u001b[0;36mcheck_array\u001b[0;34m(array, accept_sparse, dtype, order, copy, force_all_finite, ensure_2d, allow_nd, ensure_min_samples, ensure_min_features, warn_on_dtype, estimator)\u001b[0m\n\u001b[1;32m    451\u001b[0m                              % (array.ndim, estimator_name))\n\u001b[1;32m    452\u001b[0m         \u001b[0;32mif\u001b[0m \u001b[0mforce_all_finite\u001b[0m\u001b[0;34m:\u001b[0m\u001b[0;34m\u001b[0m\u001b[0m\n\u001b[0;32m--> 453\u001b[0;31m             \u001b[0m_assert_all_finite\u001b[0m\u001b[0;34m(\u001b[0m\u001b[0marray\u001b[0m\u001b[0;34m)\u001b[0m\u001b[0;34m\u001b[0m\u001b[0m\n\u001b[0m\u001b[1;32m    454\u001b[0m \u001b[0;34m\u001b[0m\u001b[0m\n\u001b[1;32m    455\u001b[0m     \u001b[0mshape_repr\u001b[0m \u001b[0;34m=\u001b[0m \u001b[0m_shape_repr\u001b[0m\u001b[0;34m(\u001b[0m\u001b[0marray\u001b[0m\u001b[0;34m.\u001b[0m\u001b[0mshape\u001b[0m\u001b[0;34m)\u001b[0m\u001b[0;34m\u001b[0m\u001b[0m\n",
      "\u001b[0;32m~/anaconda3/lib/python3.6/site-packages/sklearn/utils/validation.py\u001b[0m in \u001b[0;36m_assert_all_finite\u001b[0;34m(X)\u001b[0m\n\u001b[1;32m     42\u001b[0m             and not np.isfinite(X).all()):\n\u001b[1;32m     43\u001b[0m         raise ValueError(\"Input contains NaN, infinity\"\n\u001b[0;32m---> 44\u001b[0;31m                          \" or a value too large for %r.\" % X.dtype)\n\u001b[0m\u001b[1;32m     45\u001b[0m \u001b[0;34m\u001b[0m\u001b[0m\n\u001b[1;32m     46\u001b[0m \u001b[0;34m\u001b[0m\u001b[0m\n",
      "\u001b[0;31mValueError\u001b[0m: Input contains NaN, infinity or a value too large for dtype('float64')."
     ]
    }
   ],
   "source": [
    "m = {'C':0, 'X':0, '0':0, '1':1, '2':2, '3':3, '4':4, '5':5}\n",
    "bb_score = normalized_linear(bb, 'SK_ID_BUREAU', 'STATUS', 'MONTHS_BALANCE', m, 'bureau_balance')\n",
    "bb_score"
   ]
  },
  {
   "cell_type": "markdown",
   "metadata": {},
   "source": [
    "# count"
   ]
  },
  {
   "cell_type": "code",
   "execution_count": 4,
   "metadata": {
    "ExecuteTime": {
     "end_time": "2018-06-13T18:23:00.418047Z",
     "start_time": "2018-06-13T18:22:50.586024Z"
    },
    "scrolled": true
   },
   "outputs": [
    {
     "data": {
      "text/html": [
       "<div>\n",
       "<style>\n",
       "    .dataframe thead tr:only-child th {\n",
       "        text-align: right;\n",
       "    }\n",
       "\n",
       "    .dataframe thead th {\n",
       "        text-align: left;\n",
       "    }\n",
       "\n",
       "    .dataframe tbody tr th {\n",
       "        vertical-align: top;\n",
       "    }\n",
       "</style>\n",
       "<table border=\"1\" class=\"dataframe\">\n",
       "  <thead>\n",
       "    <tr style=\"text-align: right;\">\n",
       "      <th></th>\n",
       "      <th>SK_ID_CURR</th>\n",
       "      <th>SK_ID_BUREAU</th>\n",
       "      <th>CREDIT_ACTIVE</th>\n",
       "      <th>CREDIT_CURRENCY</th>\n",
       "      <th>DAYS_CREDIT</th>\n",
       "      <th>CREDIT_DAY_OVERDUE</th>\n",
       "      <th>DAYS_CREDIT_ENDDATE</th>\n",
       "      <th>DAYS_ENDDATE_FACT</th>\n",
       "      <th>AMT_CREDIT_MAX_OVERDUE</th>\n",
       "      <th>CNT_CREDIT_PROLONG</th>\n",
       "      <th>AMT_CREDIT_SUM</th>\n",
       "      <th>AMT_CREDIT_SUM_DEBT</th>\n",
       "      <th>AMT_CREDIT_SUM_LIMIT</th>\n",
       "      <th>AMT_CREDIT_SUM_OVERDUE</th>\n",
       "      <th>CREDIT_TYPE</th>\n",
       "      <th>DAYS_CREDIT_UPDATE</th>\n",
       "      <th>AMT_ANNUITY</th>\n",
       "      <th>bureau_balance_score</th>\n",
       "      <th>bb_STATUS_count</th>\n",
       "    </tr>\n",
       "  </thead>\n",
       "  <tbody>\n",
       "    <tr>\n",
       "      <th>0</th>\n",
       "      <td>215354</td>\n",
       "      <td>5714462</td>\n",
       "      <td>Closed</td>\n",
       "      <td>currency 1</td>\n",
       "      <td>-497</td>\n",
       "      <td>0</td>\n",
       "      <td>-153.0</td>\n",
       "      <td>-153.0</td>\n",
       "      <td>NaN</td>\n",
       "      <td>0</td>\n",
       "      <td>91323.0</td>\n",
       "      <td>0.0</td>\n",
       "      <td>NaN</td>\n",
       "      <td>0.0</td>\n",
       "      <td>Consumer credit</td>\n",
       "      <td>-131</td>\n",
       "      <td>NaN</td>\n",
       "      <td>NaN</td>\n",
       "      <td>NaN</td>\n",
       "    </tr>\n",
       "    <tr>\n",
       "      <th>1</th>\n",
       "      <td>215354</td>\n",
       "      <td>5714463</td>\n",
       "      <td>Active</td>\n",
       "      <td>currency 1</td>\n",
       "      <td>-208</td>\n",
       "      <td>0</td>\n",
       "      <td>1075.0</td>\n",
       "      <td>NaN</td>\n",
       "      <td>NaN</td>\n",
       "      <td>0</td>\n",
       "      <td>225000.0</td>\n",
       "      <td>171342.0</td>\n",
       "      <td>NaN</td>\n",
       "      <td>0.0</td>\n",
       "      <td>Credit card</td>\n",
       "      <td>-20</td>\n",
       "      <td>NaN</td>\n",
       "      <td>NaN</td>\n",
       "      <td>NaN</td>\n",
       "    </tr>\n",
       "  </tbody>\n",
       "</table>\n",
       "</div>"
      ],
      "text/plain": [
       "   SK_ID_CURR  SK_ID_BUREAU CREDIT_ACTIVE CREDIT_CURRENCY  DAYS_CREDIT  \\\n",
       "0      215354       5714462        Closed      currency 1         -497   \n",
       "1      215354       5714463        Active      currency 1         -208   \n",
       "\n",
       "   CREDIT_DAY_OVERDUE  DAYS_CREDIT_ENDDATE  DAYS_ENDDATE_FACT  \\\n",
       "0                   0               -153.0             -153.0   \n",
       "1                   0               1075.0                NaN   \n",
       "\n",
       "   AMT_CREDIT_MAX_OVERDUE  CNT_CREDIT_PROLONG  AMT_CREDIT_SUM  \\\n",
       "0                     NaN                   0         91323.0   \n",
       "1                     NaN                   0        225000.0   \n",
       "\n",
       "   AMT_CREDIT_SUM_DEBT  AMT_CREDIT_SUM_LIMIT  AMT_CREDIT_SUM_OVERDUE  \\\n",
       "0                  0.0                   NaN                     0.0   \n",
       "1             171342.0                   NaN                     0.0   \n",
       "\n",
       "       CREDIT_TYPE  DAYS_CREDIT_UPDATE  AMT_ANNUITY  bureau_balance_score  \\\n",
       "0  Consumer credit                -131          NaN                   NaN   \n",
       "1      Credit card                 -20          NaN                   NaN   \n",
       "\n",
       "   bb_STATUS_count  \n",
       "0              NaN  \n",
       "1              NaN  "
      ]
     },
     "execution_count": 4,
     "metadata": {},
     "output_type": "execute_result"
    }
   ],
   "source": [
    "bb_count = count(bb, 'SK_ID_BUREAU', 'STATUS', 'bb')\n",
    "bureau = bureau.merge(bb_count, on='SK_ID_BUREAU', how='left')\n",
    "bureau.head(2)"
   ]
  },
  {
   "cell_type": "markdown",
   "metadata": {},
   "source": [
    "# ratio"
   ]
  },
  {
   "cell_type": "code",
   "execution_count": 5,
   "metadata": {
    "ExecuteTime": {
     "end_time": "2018-06-13T18:23:01.067188Z",
     "start_time": "2018-06-13T18:23:00.423321Z"
    }
   },
   "outputs": [
    {
     "name": "stdout",
     "output_type": "stream",
     "text": [
      "CNT_CREDIT_PROLONG DAYS_CREDIT\n",
      "AMT_CREDIT_SUM_LIMIT AMT_CREDIT_SUM\n",
      "AMT_CREDIT_SUM_DEBT AMT_CREDIT_SUM\n",
      "AMT_CREDIT_SUM_DEBT AMT_CREDIT_SUM_OVERDUE\n"
     ]
    },
    {
     "data": {
      "text/plain": [
       "Index(['SK_ID_CURR', 'SK_ID_BUREAU', 'CREDIT_ACTIVE', 'CREDIT_CURRENCY',\n",
       "       'DAYS_CREDIT', 'CREDIT_DAY_OVERDUE', 'DAYS_CREDIT_ENDDATE',\n",
       "       'DAYS_ENDDATE_FACT', 'AMT_CREDIT_MAX_OVERDUE', 'CNT_CREDIT_PROLONG',\n",
       "       'AMT_CREDIT_SUM', 'AMT_CREDIT_SUM_DEBT', 'AMT_CREDIT_SUM_LIMIT',\n",
       "       'AMT_CREDIT_SUM_OVERDUE', 'CREDIT_TYPE', 'DAYS_CREDIT_UPDATE',\n",
       "       'AMT_ANNUITY', 'bureau_balance_score', 'bb_STATUS_count',\n",
       "       'CNT_CREDIT_PROLONG_DAYS_CREDIT_ratio',\n",
       "       'AMT_CREDIT_SUM_LIMIT_AMT_CREDIT_SUM_ratio',\n",
       "       'AMT_CREDIT_SUM_DEBT_AMT_CREDIT_SUM_ratio',\n",
       "       'AMT_CREDIT_SUM_DEBT_AMT_CREDIT_SUM_OVERDUE_ratio'],\n",
       "      dtype='object')"
      ]
     },
     "execution_count": 5,
     "metadata": {},
     "output_type": "execute_result"
    }
   ],
   "source": [
    "bureau[ratio_name('CNT_CREDIT_PROLONG', 'DAYS_CREDIT')] = ratio(bureau, 'CNT_CREDIT_PROLONG', 'DAYS_CREDIT')\n",
    "print('CNT_CREDIT_PROLONG', 'DAYS_CREDIT')\n",
    "bureau[ratio_name('AMT_CREDIT_SUM_LIMIT', 'AMT_CREDIT_SUM')] = ratio(bureau, 'AMT_CREDIT_SUM_LIMIT', 'AMT_CREDIT_SUM')\n",
    "print('AMT_CREDIT_SUM_LIMIT', 'AMT_CREDIT_SUM')\n",
    "bureau[ratio_name('AMT_CREDIT_SUM_DEBT', 'AMT_CREDIT_SUM')] = ratio(bureau, 'AMT_CREDIT_SUM_DEBT', 'AMT_CREDIT_SUM')\n",
    "print('AMT_CREDIT_SUM_DEBT', 'AMT_CREDIT_SUM')\n",
    "bureau[ratio_name('AMT_CREDIT_SUM_DEBT', 'AMT_CREDIT_SUM_OVERDUE')] = ratio(bureau, 'AMT_CREDIT_SUM_DEBT', 'AMT_CREDIT_SUM_OVERDUE')\n",
    "print('AMT_CREDIT_SUM_DEBT', 'AMT_CREDIT_SUM_OVERDUE')\n",
    "bureau.columns"
   ]
  },
  {
   "cell_type": "markdown",
   "metadata": {},
   "source": [
    "# cat features"
   ]
  },
  {
   "cell_type": "code",
   "execution_count": 6,
   "metadata": {
    "ExecuteTime": {
     "end_time": "2018-06-13T18:23:13.342519Z",
     "start_time": "2018-06-13T18:23:01.069790Z"
    }
   },
   "outputs": [
    {
     "name": "stdout",
     "output_type": "stream",
     "text": [
      "CREDIT_ACTIVE\n",
      "CREDIT_TYPE\n"
     ]
    },
    {
     "data": {
      "text/html": [
       "<div>\n",
       "<style>\n",
       "    .dataframe thead tr:only-child th {\n",
       "        text-align: right;\n",
       "    }\n",
       "\n",
       "    .dataframe thead th {\n",
       "        text-align: left;\n",
       "    }\n",
       "\n",
       "    .dataframe tbody tr th {\n",
       "        vertical-align: top;\n",
       "    }\n",
       "</style>\n",
       "<table border=\"1\" class=\"dataframe\">\n",
       "  <thead>\n",
       "    <tr style=\"text-align: right;\">\n",
       "      <th></th>\n",
       "      <th>SK_ID_CURR</th>\n",
       "      <th>CREDIT_ACTIVE_Active</th>\n",
       "      <th>CREDIT_ACTIVE_Bad debt</th>\n",
       "      <th>CREDIT_ACTIVE_Closed</th>\n",
       "      <th>CREDIT_ACTIVE_Sold</th>\n",
       "      <th>CREDIT_TYPE_Another type of loan</th>\n",
       "      <th>CREDIT_TYPE_Car loan</th>\n",
       "      <th>CREDIT_TYPE_Cash loan (non-earmarked)</th>\n",
       "      <th>CREDIT_TYPE_Consumer credit</th>\n",
       "      <th>CREDIT_TYPE_Credit card</th>\n",
       "      <th>CREDIT_TYPE_Interbank credit</th>\n",
       "      <th>CREDIT_TYPE_Loan for business development</th>\n",
       "      <th>CREDIT_TYPE_Loan for purchase of shares (margin lending)</th>\n",
       "      <th>CREDIT_TYPE_Loan for the purchase of equipment</th>\n",
       "      <th>CREDIT_TYPE_Loan for working capital replenishment</th>\n",
       "      <th>CREDIT_TYPE_Microloan</th>\n",
       "      <th>CREDIT_TYPE_Mobile operator loan</th>\n",
       "      <th>CREDIT_TYPE_Mortgage</th>\n",
       "      <th>CREDIT_TYPE_Real estate loan</th>\n",
       "      <th>CREDIT_TYPE_Unknown type of loan</th>\n",
       "    </tr>\n",
       "  </thead>\n",
       "  <tbody>\n",
       "    <tr>\n",
       "      <th>0</th>\n",
       "      <td>100002</td>\n",
       "      <td>20.0</td>\n",
       "      <td>0.0</td>\n",
       "      <td>90.0</td>\n",
       "      <td>0.0</td>\n",
       "      <td>0.0</td>\n",
       "      <td>0.0</td>\n",
       "      <td>0.0</td>\n",
       "      <td>52.0</td>\n",
       "      <td>58.0</td>\n",
       "      <td>0.0</td>\n",
       "      <td>0.0</td>\n",
       "      <td>0.0</td>\n",
       "      <td>0.0</td>\n",
       "      <td>0.0</td>\n",
       "      <td>0.0</td>\n",
       "      <td>0.0</td>\n",
       "      <td>0.0</td>\n",
       "      <td>0.0</td>\n",
       "      <td>0.0</td>\n",
       "    </tr>\n",
       "    <tr>\n",
       "      <th>1</th>\n",
       "      <td>100003</td>\n",
       "      <td>1.0</td>\n",
       "      <td>0.0</td>\n",
       "      <td>3.0</td>\n",
       "      <td>0.0</td>\n",
       "      <td>0.0</td>\n",
       "      <td>0.0</td>\n",
       "      <td>0.0</td>\n",
       "      <td>2.0</td>\n",
       "      <td>2.0</td>\n",
       "      <td>0.0</td>\n",
       "      <td>0.0</td>\n",
       "      <td>0.0</td>\n",
       "      <td>0.0</td>\n",
       "      <td>0.0</td>\n",
       "      <td>0.0</td>\n",
       "      <td>0.0</td>\n",
       "      <td>0.0</td>\n",
       "      <td>0.0</td>\n",
       "      <td>0.0</td>\n",
       "    </tr>\n",
       "  </tbody>\n",
       "</table>\n",
       "</div>"
      ],
      "text/plain": [
       "   SK_ID_CURR  CREDIT_ACTIVE_Active  CREDIT_ACTIVE_Bad debt  \\\n",
       "0      100002                  20.0                     0.0   \n",
       "1      100003                   1.0                     0.0   \n",
       "\n",
       "   CREDIT_ACTIVE_Closed  CREDIT_ACTIVE_Sold  CREDIT_TYPE_Another type of loan  \\\n",
       "0                  90.0                 0.0                               0.0   \n",
       "1                   3.0                 0.0                               0.0   \n",
       "\n",
       "   CREDIT_TYPE_Car loan  CREDIT_TYPE_Cash loan (non-earmarked)  \\\n",
       "0                   0.0                                    0.0   \n",
       "1                   0.0                                    0.0   \n",
       "\n",
       "   CREDIT_TYPE_Consumer credit  CREDIT_TYPE_Credit card  \\\n",
       "0                         52.0                     58.0   \n",
       "1                          2.0                      2.0   \n",
       "\n",
       "   CREDIT_TYPE_Interbank credit  CREDIT_TYPE_Loan for business development  \\\n",
       "0                           0.0                                        0.0   \n",
       "1                           0.0                                        0.0   \n",
       "\n",
       "   CREDIT_TYPE_Loan for purchase of shares (margin lending)  \\\n",
       "0                                                0.0          \n",
       "1                                                0.0          \n",
       "\n",
       "   CREDIT_TYPE_Loan for the purchase of equipment  \\\n",
       "0                                             0.0   \n",
       "1                                             0.0   \n",
       "\n",
       "   CREDIT_TYPE_Loan for working capital replenishment  CREDIT_TYPE_Microloan  \\\n",
       "0                                                0.0                     0.0   \n",
       "1                                                0.0                     0.0   \n",
       "\n",
       "   CREDIT_TYPE_Mobile operator loan  CREDIT_TYPE_Mortgage  \\\n",
       "0                               0.0                   0.0   \n",
       "1                               0.0                   0.0   \n",
       "\n",
       "   CREDIT_TYPE_Real estate loan  CREDIT_TYPE_Unknown type of loan  \n",
       "0                           0.0                               0.0  \n",
       "1                           0.0                               0.0  "
      ]
     },
     "execution_count": 6,
     "metadata": {},
     "output_type": "execute_result"
    }
   ],
   "source": [
    "cat_col_list = ['CREDIT_ACTIVE', 'CREDIT_TYPE']\n",
    "\n",
    "for x in cat_col_list:\n",
    "    print(x)\n",
    "    df = df.merge(split_categorical_feature(bureau, 'SK_ID_CURR', x), on='SK_ID_CURR', how='left')\n",
    "    gc.collect()\n",
    "df.head(2)"
   ]
  },
  {
   "cell_type": "markdown",
   "metadata": {},
   "source": [
    "# num features"
   ]
  },
  {
   "cell_type": "code",
   "execution_count": 7,
   "metadata": {
    "ExecuteTime": {
     "end_time": "2018-06-13T18:23:13.459303Z",
     "start_time": "2018-06-13T18:23:13.347178Z"
    },
    "collapsed": true
   },
   "outputs": [],
   "source": [
    "def numerical_agg( df, gp_col, agg_col, extrafunc_list = None):\n",
    "    \n",
    "    agg_list = ['max', 'min', 'std','mean']\n",
    "    '''\n",
    "    Possible extrafunc_list: ['sum','median','two_minus_one_third','positive_count', 'negative_count','standard_error', 'trimmed_mean_10_pct', 'trimmed_mean_25_pct','normed_std', 'max_minus_min','one_third','two_third']\n",
    "    '''\n",
    "    if extrafunc_list:\n",
    "        if 'one_third' in extrafunc_list:\n",
    "            def one_third(series):\n",
    "                return series.quantile(1/3)\n",
    "            \n",
    "        if 'two_third' in extrafunc_list:\n",
    "            def two_third(series):\n",
    "                return series.quantile(2/3)\n",
    "            \n",
    "        if 'max_minus_min' in extrafunc_list:\n",
    "            def max_minus_min(series):\n",
    "                return (series.max() - series.min())\n",
    "        \n",
    "        if 'two_minus_one_third' in extrafunc_list:\n",
    "#             print('two_minus_one')\n",
    "#             print('get two minus one')\n",
    "            def two_minus_one_third(series):\n",
    "                return(series.quantile(0.66666) - series.quantile(0.33333))\n",
    "       \n",
    "        if 'positive_count' in extrafunc_list:\n",
    "#             print('get positive count')\n",
    "            def positive_count(series):\n",
    "                return pd.Series(series > 0).sum()\n",
    "\n",
    "        if 'negative_count' in extrafunc_list:\n",
    "#             print('get negative count')\n",
    "            def negative_count(series):\n",
    "                return pd.Series(series < 0).sum()\n",
    "\n",
    "        if 'standard_error' in extrafunc_list:\n",
    "#             print('get std-error')\n",
    "            def standard_error(series):\n",
    "                return series.std()/np.sqrt(len(series))\n",
    "\n",
    "        if 'normed_std' in extrafunc_list:\n",
    "#             print('get normed_std')\n",
    "            def normed_std(series):\n",
    "                return series.std()/series.mean()\n",
    "\n",
    "        if 'trimmed_mean_10_pct' in extrafunc_list:\n",
    "#             print('get_trimmed 10 pct')\n",
    "            def trimmed_mean_10_pct(series):\n",
    "                return stats.trim_mean(series.dropna(), 0.1)\n",
    "\n",
    "        if 'trimmed_mean_25_pct' in extrafunc_list:\n",
    "#             print('get_trimmed 25 pct')\n",
    "            def trimmed_mean_25_pct(series):\n",
    "                return stats.trim_mean(series.dropna(), 0.25)\n",
    "        \n",
    "        list_tocall = []\n",
    "        for i in extrafunc_list:\n",
    "            if i not in set(['sum', 'median']):\n",
    "                list_tocall.append(eval(i))\n",
    "            \n",
    "    if extrafunc_list != None:   \n",
    "        agg_list.extend(list_tocall)\n",
    "    \n",
    "    _df = df.groupby(gp_col).agg({agg_col:agg_list})\n",
    "    columns = []\n",
    "    for pre in _df.columns.levels[0]:\n",
    "        for middle in _df.columns.levels[1]:\n",
    "            columns.append('bureau_%s_%s' %(pre,middle))\n",
    "    _df.columns = columns\n",
    "    \n",
    "    return _df.reset_index()"
   ]
  },
  {
   "cell_type": "code",
   "execution_count": 8,
   "metadata": {
    "ExecuteTime": {
     "end_time": "2018-06-13T18:28:26.905045Z",
     "start_time": "2018-06-13T18:23:13.465017Z"
    }
   },
   "outputs": [
    {
     "name": "stdout",
     "output_type": "stream",
     "text": [
      "DAYS_CREDIT\n",
      "DAYS_CREDIT_ENDDATE\n",
      "AMT_CREDIT_SUM\n",
      "AMT_CREDIT_SUM_LIMIT\n",
      "DAYS_CREDIT_UPDATE\n",
      "AMT_ANNUITY\n",
      "bureau_balance_score\n",
      "CNT_CREDIT_PROLONG_DAYS_CREDIT_ratio\n",
      "AMT_CREDIT_SUM_LIMIT_AMT_CREDIT_SUM_ratio\n",
      "AMT_CREDIT_SUM_DEBT_AMT_CREDIT_SUM_ratio\n",
      "AMT_CREDIT_SUM_DEBT_AMT_CREDIT_SUM_OVERDUE_ratio\n",
      "bb_STATUS_count\n",
      "CREDIT_DAY_OVERDUE\n",
      "AMT_CREDIT_MAX_OVERDUE\n",
      "AMT_CREDIT_SUM_OVERDUE\n",
      "CNT_CREDIT_PROLONG\n",
      "AMT_CREDIT_SUM_DEBT\n"
     ]
    },
    {
     "data": {
      "text/html": [
       "<div>\n",
       "<style>\n",
       "    .dataframe thead tr:only-child th {\n",
       "        text-align: right;\n",
       "    }\n",
       "\n",
       "    .dataframe thead th {\n",
       "        text-align: left;\n",
       "    }\n",
       "\n",
       "    .dataframe tbody tr th {\n",
       "        vertical-align: top;\n",
       "    }\n",
       "</style>\n",
       "<table border=\"1\" class=\"dataframe\">\n",
       "  <thead>\n",
       "    <tr style=\"text-align: right;\">\n",
       "      <th></th>\n",
       "      <th>SK_ID_CURR</th>\n",
       "      <th>CREDIT_ACTIVE_Active</th>\n",
       "      <th>CREDIT_ACTIVE_Bad debt</th>\n",
       "      <th>CREDIT_ACTIVE_Closed</th>\n",
       "      <th>CREDIT_ACTIVE_Sold</th>\n",
       "      <th>CREDIT_TYPE_Another type of loan</th>\n",
       "      <th>CREDIT_TYPE_Car loan</th>\n",
       "      <th>CREDIT_TYPE_Cash loan (non-earmarked)</th>\n",
       "      <th>CREDIT_TYPE_Consumer credit</th>\n",
       "      <th>CREDIT_TYPE_Credit card</th>\n",
       "      <th>...</th>\n",
       "      <th>bureau_CNT_CREDIT_PROLONG_min</th>\n",
       "      <th>bureau_CNT_CREDIT_PROLONG_std</th>\n",
       "      <th>bureau_CNT_CREDIT_PROLONG_mean</th>\n",
       "      <th>bureau_CNT_CREDIT_PROLONG_positive_count</th>\n",
       "      <th>bureau_AMT_CREDIT_SUM_DEBT_max</th>\n",
       "      <th>bureau_AMT_CREDIT_SUM_DEBT_min</th>\n",
       "      <th>bureau_AMT_CREDIT_SUM_DEBT_std</th>\n",
       "      <th>bureau_AMT_CREDIT_SUM_DEBT_mean</th>\n",
       "      <th>bureau_AMT_CREDIT_SUM_DEBT_positive_count</th>\n",
       "      <th>bureau_AMT_CREDIT_SUM_DEBT_negative_count</th>\n",
       "    </tr>\n",
       "  </thead>\n",
       "  <tbody>\n",
       "    <tr>\n",
       "      <th>0</th>\n",
       "      <td>100002</td>\n",
       "      <td>20.0</td>\n",
       "      <td>0.0</td>\n",
       "      <td>90.0</td>\n",
       "      <td>0.0</td>\n",
       "      <td>0.0</td>\n",
       "      <td>0.0</td>\n",
       "      <td>0.0</td>\n",
       "      <td>52.0</td>\n",
       "      <td>58.0</td>\n",
       "      <td>...</td>\n",
       "      <td>0.0</td>\n",
       "      <td>0.0</td>\n",
       "      <td>0.0</td>\n",
       "      <td>0.0</td>\n",
       "      <td>245781.0</td>\n",
       "      <td>0.0</td>\n",
       "      <td>112037.377771</td>\n",
       "      <td>70223.142857</td>\n",
       "      <td>16.0</td>\n",
       "      <td>0.0</td>\n",
       "    </tr>\n",
       "    <tr>\n",
       "      <th>1</th>\n",
       "      <td>100003</td>\n",
       "      <td>1.0</td>\n",
       "      <td>0.0</td>\n",
       "      <td>3.0</td>\n",
       "      <td>0.0</td>\n",
       "      <td>0.0</td>\n",
       "      <td>0.0</td>\n",
       "      <td>0.0</td>\n",
       "      <td>2.0</td>\n",
       "      <td>2.0</td>\n",
       "      <td>...</td>\n",
       "      <td>0.0</td>\n",
       "      <td>0.0</td>\n",
       "      <td>0.0</td>\n",
       "      <td>0.0</td>\n",
       "      <td>0.0</td>\n",
       "      <td>0.0</td>\n",
       "      <td>0.000000</td>\n",
       "      <td>0.000000</td>\n",
       "      <td>0.0</td>\n",
       "      <td>0.0</td>\n",
       "    </tr>\n",
       "  </tbody>\n",
       "</table>\n",
       "<p>2 rows × 94 columns</p>\n",
       "</div>"
      ],
      "text/plain": [
       "   SK_ID_CURR  CREDIT_ACTIVE_Active  CREDIT_ACTIVE_Bad debt  \\\n",
       "0      100002                  20.0                     0.0   \n",
       "1      100003                   1.0                     0.0   \n",
       "\n",
       "   CREDIT_ACTIVE_Closed  CREDIT_ACTIVE_Sold  CREDIT_TYPE_Another type of loan  \\\n",
       "0                  90.0                 0.0                               0.0   \n",
       "1                   3.0                 0.0                               0.0   \n",
       "\n",
       "   CREDIT_TYPE_Car loan  CREDIT_TYPE_Cash loan (non-earmarked)  \\\n",
       "0                   0.0                                    0.0   \n",
       "1                   0.0                                    0.0   \n",
       "\n",
       "   CREDIT_TYPE_Consumer credit  CREDIT_TYPE_Credit card  \\\n",
       "0                         52.0                     58.0   \n",
       "1                          2.0                      2.0   \n",
       "\n",
       "                     ...                      bureau_CNT_CREDIT_PROLONG_min  \\\n",
       "0                    ...                                                0.0   \n",
       "1                    ...                                                0.0   \n",
       "\n",
       "   bureau_CNT_CREDIT_PROLONG_std  bureau_CNT_CREDIT_PROLONG_mean  \\\n",
       "0                            0.0                             0.0   \n",
       "1                            0.0                             0.0   \n",
       "\n",
       "   bureau_CNT_CREDIT_PROLONG_positive_count  bureau_AMT_CREDIT_SUM_DEBT_max  \\\n",
       "0                                       0.0                        245781.0   \n",
       "1                                       0.0                             0.0   \n",
       "\n",
       "   bureau_AMT_CREDIT_SUM_DEBT_min  bureau_AMT_CREDIT_SUM_DEBT_std  \\\n",
       "0                             0.0                   112037.377771   \n",
       "1                             0.0                        0.000000   \n",
       "\n",
       "   bureau_AMT_CREDIT_SUM_DEBT_mean  bureau_AMT_CREDIT_SUM_DEBT_positive_count  \\\n",
       "0                     70223.142857                                       16.0   \n",
       "1                         0.000000                                        0.0   \n",
       "\n",
       "   bureau_AMT_CREDIT_SUM_DEBT_negative_count  \n",
       "0                                        0.0  \n",
       "1                                        0.0  \n",
       "\n",
       "[2 rows x 94 columns]"
      ]
     },
     "execution_count": 8,
     "metadata": {},
     "output_type": "execute_result"
    }
   ],
   "source": [
    "num_col_list = ['DAYS_CREDIT', 'DAYS_CREDIT_ENDDATE','AMT_CREDIT_SUM',\n",
    "                'AMT_CREDIT_SUM_LIMIT',\n",
    "                'DAYS_CREDIT_UPDATE', 'AMT_ANNUITY', 'bureau_balance_score', 'CNT_CREDIT_PROLONG_DAYS_CREDIT_ratio',\n",
    "                'AMT_CREDIT_SUM_LIMIT_AMT_CREDIT_SUM_ratio', 'AMT_CREDIT_SUM_DEBT_AMT_CREDIT_SUM_ratio',\n",
    "                'AMT_CREDIT_SUM_DEBT_AMT_CREDIT_SUM_OVERDUE_ratio', 'bb_STATUS_count']\n",
    "\n",
    "num_col_list1 = ['CREDIT_DAY_OVERDUE', 'AMT_CREDIT_MAX_OVERDUE', 'AMT_CREDIT_SUM_OVERDUE', 'CNT_CREDIT_PROLONG']\n",
    "num_col_list2 = ['AMT_CREDIT_SUM_DEBT']\n",
    "for x in num_col_list:\n",
    "    print(x)\n",
    "    df = df.merge(numerical_agg(bureau, 'SK_ID_CURR', x), on='SK_ID_CURR', how='left')\n",
    "    gc.collect()\n",
    "\n",
    "for x in num_col_list1:\n",
    "    print(x)\n",
    "    df = df.merge(numerical_agg(bureau, 'SK_ID_CURR', x, ['positive_count']), on='SK_ID_CURR', how='left')\n",
    "    gc.collect()\n",
    "    \n",
    "for x in num_col_list2:\n",
    "    print(x)\n",
    "    df = df.merge(numerical_agg(bureau, 'SK_ID_CURR', x, ['positive_count', 'negative_count']), on='SK_ID_CURR', how='left')\n",
    "    gc.collect()\n",
    "    \n",
    "df.head(2)"
   ]
  },
  {
   "cell_type": "markdown",
   "metadata": {},
   "source": [
    "# train test"
   ]
  },
  {
   "cell_type": "code",
   "execution_count": 10,
   "metadata": {
    "ExecuteTime": {
     "end_time": "2018-06-13T18:29:09.409544Z",
     "start_time": "2018-06-13T18:29:08.065013Z"
    }
   },
   "outputs": [],
   "source": [
    "c = count(bureau, 'SK_ID_CURR', 'SK_ID_BUREAU', 'bureau')\n",
    "df = df.merge(c, on='SK_ID_CURR', how='left')\n",
    "df.head(2)"
   ]
  },
  {
   "cell_type": "markdown",
   "metadata": {},
   "source": [
    "# train test merge"
   ]
  },
  {
   "cell_type": "code",
   "execution_count": 11,
   "metadata": {
    "ExecuteTime": {
     "end_time": "2018-06-13T18:29:20.739792Z",
     "start_time": "2018-06-13T18:29:17.369673Z"
    }
   },
   "outputs": [
    {
     "name": "stdout",
     "output_type": "stream",
     "text": [
      "train\n",
      "test\n"
     ]
    },
    {
     "data": {
      "text/plain": [
       "450"
      ]
     },
     "execution_count": 11,
     "metadata": {},
     "output_type": "execute_result"
    }
   ],
   "source": [
    "train.merge(df, on='SK_ID_CURR', how='left').to_pickle(PATH + 'train_cleaned.pkl')\n",
    "print('train')\n",
    "test.merge(df, on='SK_ID_CURR', how='left').to_pickle(PATH + 'test_cleaned.pkl')\n",
    "print('test')\n",
    "gc.collect()"
   ]
  },
  {
   "cell_type": "code",
   "execution_count": 20,
   "metadata": {
    "ExecuteTime": {
     "end_time": "2018-06-13T21:03:24.309676Z",
     "start_time": "2018-06-13T21:03:24.199232Z"
    }
   },
   "outputs": [
    {
     "name": "stdout",
     "output_type": "stream",
     "text": [
      "<class 'pandas.core.frame.DataFrame'>\n",
      "   a  b\n",
      "0  0  1\n",
      "1  0  2\n",
      "2  0  3\n",
      "   a    b\n",
      "0  0  100\n",
      "1  0  100\n",
      "2  0  100\n",
      "<class 'pandas.core.frame.DataFrame'>\n",
      "   a  b\n",
      "3  3  2\n",
      "   a    b\n",
      "3  3  100\n",
      "<class 'pandas.core.frame.DataFrame'>\n",
      "   a  b\n",
      "4  4  1\n",
      "   a    b\n",
      "4  4  100\n",
      "   a  b\n",
      "0  0  1\n",
      "1  0  2\n",
      "2  0  3\n",
      "3  3  2\n",
      "4  4  1\n"
     ]
    },
    {
     "name": "stderr",
     "output_type": "stream",
     "text": [
      "/home/kai/anaconda3/lib/python3.6/site-packages/ipykernel_launcher.py:7: SettingWithCopyWarning: \n",
      "A value is trying to be set on a copy of a slice from a DataFrame.\n",
      "Try using .loc[row_indexer,col_indexer] = value instead\n",
      "\n",
      "See the caveats in the documentation: http://pandas.pydata.org/pandas-docs/stable/indexing.html#indexing-view-versus-copy\n",
      "  import sys\n"
     ]
    }
   ],
   "source": [
    "import pandas as pd\n",
    "x = pd.DataFrame([[0,1],[0,2],[0,3],[3,2],[4,1]], columns=['a','b'])\n",
    "gp = x.groupby(by='a')\n",
    "for i, g in gp:\n",
    "    print(type(g))\n",
    "    print(g)\n",
    "    g['b'] = 100\n",
    "    print(g)\n",
    "print(x)"
   ]
  },
  {
   "cell_type": "code",
   "execution_count": 15,
   "metadata": {
    "ExecuteTime": {
     "end_time": "2018-06-13T20:59:45.675140Z",
     "start_time": "2018-06-13T20:59:45.670104Z"
    }
   },
   "outputs": [
    {
     "name": "stdout",
     "output_type": "stream",
     "text": [
      "Machine parameters for float32\n",
      "---------------------------------------------------------------\n",
      "precision =   6   resolution = 1.0000000e-06\n",
      "machep =    -23   eps =        1.1920929e-07\n",
      "negep =     -24   epsneg =     5.9604645e-08\n",
      "minexp =   -126   tiny =       1.1754944e-38\n",
      "maxexp =    128   max =        3.4028235e+38\n",
      "nexp =        8   min =        -max\n",
      "---------------------------------------------------------------\n",
      "\n"
     ]
    }
   ],
   "source": [
    "print(np.finfo(np.float32))"
   ]
  },
  {
   "cell_type": "code",
   "execution_count": null,
   "metadata": {
    "collapsed": true
   },
   "outputs": [],
   "source": []
  }
 ],
 "metadata": {
  "kernelspec": {
   "display_name": "Python 3",
   "language": "python",
   "name": "python3"
  },
  "language_info": {
   "codemirror_mode": {
    "name": "ipython",
    "version": 3
   },
   "file_extension": ".py",
   "mimetype": "text/x-python",
   "name": "python",
   "nbconvert_exporter": "python",
   "pygments_lexer": "ipython3",
   "version": "3.6.3"
  },
  "varInspector": {
   "cols": {
    "lenName": 16,
    "lenType": 16,
    "lenVar": 40
   },
   "kernels_config": {
    "python": {
     "delete_cmd_postfix": "",
     "delete_cmd_prefix": "del ",
     "library": "var_list.py",
     "varRefreshCmd": "print(var_dic_list())"
    },
    "r": {
     "delete_cmd_postfix": ") ",
     "delete_cmd_prefix": "rm(",
     "library": "var_list.r",
     "varRefreshCmd": "cat(var_dic_list()) "
    }
   },
   "types_to_exclude": [
    "module",
    "function",
    "builtin_function_or_method",
    "instance",
    "_Feature"
   ],
   "window_display": false
  }
 },
 "nbformat": 4,
 "nbformat_minor": 2
}
