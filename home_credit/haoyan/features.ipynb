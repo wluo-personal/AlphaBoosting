{
 "cells": [
  {
   "cell_type": "code",
   "execution_count": 1,
   "metadata": {
    "ExecuteTime": {
     "end_time": "2018-06-11T15:17:05.815673Z",
     "start_time": "2018-06-11T15:16:50.496318Z"
    },
    "scrolled": true
   },
   "outputs": [
    {
     "name": "stdout",
     "output_type": "stream",
     "text": [
      "train\n",
      "test\n",
      "bureau\n",
      "previous\n",
      "bureau_balance\n"
     ]
    }
   ],
   "source": [
    "import pandas as pd\n",
    "import numpy as np\n",
    "\n",
    "PATH = '/home/kai/data/kaggle/homecredit/'\n",
    "train = pd.read_csv(PATH + 'application_train.csv')\n",
    "print('train')\n",
    "test = pd.read_csv(PATH + 'application_test.csv')\n",
    "print('test')\n",
    "bureau = pd.read_csv(PATH + 'bureau.csv')\n",
    "print('bureau')\n",
    "prev = pd.read_csv(PATH + 'previous_application.csv')\n",
    "print('previous')\n",
    "bb = pd.read_csv(PATH + 'bureau_balance.csv')\n",
    "print('bureau_balance')"
   ]
  },
  {
   "cell_type": "code",
   "execution_count": 4,
   "metadata": {
    "ExecuteTime": {
     "end_time": "2018-06-11T15:41:47.675300Z",
     "start_time": "2018-06-11T15:41:47.670257Z"
    }
   },
   "outputs": [
    {
     "name": "stdout",
     "output_type": "stream",
     "text": [
      "(307511, 122)\n"
     ]
    }
   ],
   "source": [
    "print(train.shape)"
   ]
  },
  {
   "cell_type": "code",
   "execution_count": 5,
   "metadata": {
    "ExecuteTime": {
     "end_time": "2018-06-11T15:41:58.034401Z",
     "start_time": "2018-06-11T15:41:58.029308Z"
    }
   },
   "outputs": [
    {
     "name": "stdout",
     "output_type": "stream",
     "text": [
      "(48744, 121)\n"
     ]
    }
   ],
   "source": [
    "print(test.shape)"
   ]
  },
  {
   "cell_type": "code",
   "execution_count": 3,
   "metadata": {
    "ExecuteTime": {
     "end_time": "2018-06-11T15:17:36.038038Z",
     "start_time": "2018-06-11T15:17:36.006038Z"
    }
   },
   "outputs": [
    {
     "data": {
      "text/html": [
       "<div>\n",
       "<style>\n",
       "    .dataframe thead tr:only-child th {\n",
       "        text-align: right;\n",
       "    }\n",
       "\n",
       "    .dataframe thead th {\n",
       "        text-align: left;\n",
       "    }\n",
       "\n",
       "    .dataframe tbody tr th {\n",
       "        vertical-align: top;\n",
       "    }\n",
       "</style>\n",
       "<table border=\"1\" class=\"dataframe\">\n",
       "  <thead>\n",
       "    <tr style=\"text-align: right;\">\n",
       "      <th></th>\n",
       "      <th>SK_ID_CURR</th>\n",
       "      <th>SK_ID_BUREAU</th>\n",
       "      <th>CREDIT_ACTIVE</th>\n",
       "      <th>CREDIT_CURRENCY</th>\n",
       "      <th>DAYS_CREDIT</th>\n",
       "      <th>CREDIT_DAY_OVERDUE</th>\n",
       "      <th>DAYS_CREDIT_ENDDATE</th>\n",
       "      <th>DAYS_ENDDATE_FACT</th>\n",
       "      <th>AMT_CREDIT_MAX_OVERDUE</th>\n",
       "      <th>CNT_CREDIT_PROLONG</th>\n",
       "      <th>AMT_CREDIT_SUM</th>\n",
       "      <th>AMT_CREDIT_SUM_DEBT</th>\n",
       "      <th>AMT_CREDIT_SUM_LIMIT</th>\n",
       "      <th>AMT_CREDIT_SUM_OVERDUE</th>\n",
       "      <th>CREDIT_TYPE</th>\n",
       "      <th>DAYS_CREDIT_UPDATE</th>\n",
       "      <th>AMT_ANNUITY</th>\n",
       "    </tr>\n",
       "  </thead>\n",
       "  <tbody>\n",
       "    <tr>\n",
       "      <th>0</th>\n",
       "      <td>215354</td>\n",
       "      <td>5714462</td>\n",
       "      <td>Closed</td>\n",
       "      <td>currency 1</td>\n",
       "      <td>-497</td>\n",
       "      <td>0</td>\n",
       "      <td>-153.0</td>\n",
       "      <td>-153.0</td>\n",
       "      <td>NaN</td>\n",
       "      <td>0</td>\n",
       "      <td>91323.0</td>\n",
       "      <td>0.0</td>\n",
       "      <td>NaN</td>\n",
       "      <td>0.0</td>\n",
       "      <td>Consumer credit</td>\n",
       "      <td>-131</td>\n",
       "      <td>NaN</td>\n",
       "    </tr>\n",
       "    <tr>\n",
       "      <th>1</th>\n",
       "      <td>215354</td>\n",
       "      <td>5714463</td>\n",
       "      <td>Active</td>\n",
       "      <td>currency 1</td>\n",
       "      <td>-208</td>\n",
       "      <td>0</td>\n",
       "      <td>1075.0</td>\n",
       "      <td>NaN</td>\n",
       "      <td>NaN</td>\n",
       "      <td>0</td>\n",
       "      <td>225000.0</td>\n",
       "      <td>171342.0</td>\n",
       "      <td>NaN</td>\n",
       "      <td>0.0</td>\n",
       "      <td>Credit card</td>\n",
       "      <td>-20</td>\n",
       "      <td>NaN</td>\n",
       "    </tr>\n",
       "    <tr>\n",
       "      <th>2</th>\n",
       "      <td>215354</td>\n",
       "      <td>5714464</td>\n",
       "      <td>Active</td>\n",
       "      <td>currency 1</td>\n",
       "      <td>-203</td>\n",
       "      <td>0</td>\n",
       "      <td>528.0</td>\n",
       "      <td>NaN</td>\n",
       "      <td>NaN</td>\n",
       "      <td>0</td>\n",
       "      <td>464323.5</td>\n",
       "      <td>NaN</td>\n",
       "      <td>NaN</td>\n",
       "      <td>0.0</td>\n",
       "      <td>Consumer credit</td>\n",
       "      <td>-16</td>\n",
       "      <td>NaN</td>\n",
       "    </tr>\n",
       "    <tr>\n",
       "      <th>3</th>\n",
       "      <td>215354</td>\n",
       "      <td>5714465</td>\n",
       "      <td>Active</td>\n",
       "      <td>currency 1</td>\n",
       "      <td>-203</td>\n",
       "      <td>0</td>\n",
       "      <td>NaN</td>\n",
       "      <td>NaN</td>\n",
       "      <td>NaN</td>\n",
       "      <td>0</td>\n",
       "      <td>90000.0</td>\n",
       "      <td>NaN</td>\n",
       "      <td>NaN</td>\n",
       "      <td>0.0</td>\n",
       "      <td>Credit card</td>\n",
       "      <td>-16</td>\n",
       "      <td>NaN</td>\n",
       "    </tr>\n",
       "    <tr>\n",
       "      <th>4</th>\n",
       "      <td>215354</td>\n",
       "      <td>5714466</td>\n",
       "      <td>Active</td>\n",
       "      <td>currency 1</td>\n",
       "      <td>-629</td>\n",
       "      <td>0</td>\n",
       "      <td>1197.0</td>\n",
       "      <td>NaN</td>\n",
       "      <td>77674.5</td>\n",
       "      <td>0</td>\n",
       "      <td>2700000.0</td>\n",
       "      <td>NaN</td>\n",
       "      <td>NaN</td>\n",
       "      <td>0.0</td>\n",
       "      <td>Consumer credit</td>\n",
       "      <td>-21</td>\n",
       "      <td>NaN</td>\n",
       "    </tr>\n",
       "  </tbody>\n",
       "</table>\n",
       "</div>"
      ],
      "text/plain": [
       "   SK_ID_CURR  SK_ID_BUREAU CREDIT_ACTIVE CREDIT_CURRENCY  DAYS_CREDIT  \\\n",
       "0      215354       5714462        Closed      currency 1         -497   \n",
       "1      215354       5714463        Active      currency 1         -208   \n",
       "2      215354       5714464        Active      currency 1         -203   \n",
       "3      215354       5714465        Active      currency 1         -203   \n",
       "4      215354       5714466        Active      currency 1         -629   \n",
       "\n",
       "   CREDIT_DAY_OVERDUE  DAYS_CREDIT_ENDDATE  DAYS_ENDDATE_FACT  \\\n",
       "0                   0               -153.0             -153.0   \n",
       "1                   0               1075.0                NaN   \n",
       "2                   0                528.0                NaN   \n",
       "3                   0                  NaN                NaN   \n",
       "4                   0               1197.0                NaN   \n",
       "\n",
       "   AMT_CREDIT_MAX_OVERDUE  CNT_CREDIT_PROLONG  AMT_CREDIT_SUM  \\\n",
       "0                     NaN                   0         91323.0   \n",
       "1                     NaN                   0        225000.0   \n",
       "2                     NaN                   0        464323.5   \n",
       "3                     NaN                   0         90000.0   \n",
       "4                 77674.5                   0       2700000.0   \n",
       "\n",
       "   AMT_CREDIT_SUM_DEBT  AMT_CREDIT_SUM_LIMIT  AMT_CREDIT_SUM_OVERDUE  \\\n",
       "0                  0.0                   NaN                     0.0   \n",
       "1             171342.0                   NaN                     0.0   \n",
       "2                  NaN                   NaN                     0.0   \n",
       "3                  NaN                   NaN                     0.0   \n",
       "4                  NaN                   NaN                     0.0   \n",
       "\n",
       "       CREDIT_TYPE  DAYS_CREDIT_UPDATE  AMT_ANNUITY  \n",
       "0  Consumer credit                -131          NaN  \n",
       "1      Credit card                 -20          NaN  \n",
       "2  Consumer credit                 -16          NaN  \n",
       "3      Credit card                 -16          NaN  \n",
       "4  Consumer credit                 -21          NaN  "
      ]
     },
     "execution_count": 3,
     "metadata": {},
     "output_type": "execute_result"
    }
   ],
   "source": [
    "bureau.head(5)"
   ]
  },
  {
   "cell_type": "code",
   "execution_count": 7,
   "metadata": {
    "ExecuteTime": {
     "end_time": "2018-06-10T15:06:01.299784Z",
     "start_time": "2018-06-10T15:06:01.279920Z"
    }
   },
   "outputs": [
    {
     "name": "stdout",
     "output_type": "stream",
     "text": [
      "     SK_ID_CURR  SK_ID_BUREAU CREDIT_ACTIVE CREDIT_CURRENCY  DAYS_CREDIT  \\\n",
      "768      380361       5715448        Active      currency 1         -820   \n",
      "\n",
      "     CREDIT_DAY_OVERDUE  DAYS_CREDIT_ENDDATE  DAYS_ENDDATE_FACT  \\\n",
      "768                   0              31069.0                NaN   \n",
      "\n",
      "     AMT_CREDIT_MAX_OVERDUE  CNT_CREDIT_PROLONG  AMT_CREDIT_SUM  \\\n",
      "768                     NaN                   0         67500.0   \n",
      "\n",
      "     AMT_CREDIT_SUM_DEBT  AMT_CREDIT_SUM_LIMIT  AMT_CREDIT_SUM_OVERDUE  \\\n",
      "768                  0.0               67500.0                     0.0   \n",
      "\n",
      "     CREDIT_TYPE  DAYS_CREDIT_UPDATE  AMT_ANNUITY  \n",
      "768  Credit card                -183          0.0  \n"
     ]
    }
   ],
   "source": [
    "print(bureau[bureau['SK_ID_BUREAU']==5715448])"
   ]
  },
  {
   "cell_type": "code",
   "execution_count": 3,
   "metadata": {
    "ExecuteTime": {
     "end_time": "2018-06-10T15:04:52.047265Z",
     "start_time": "2018-06-10T15:04:49.719902Z"
    }
   },
   "outputs": [
    {
     "name": "stdout",
     "output_type": "stream",
     "text": [
      "942074 1716428 0.5488572780215657\n"
     ]
    }
   ],
   "source": [
    "bid = set(bureau['SK_ID_BUREAU'])\n",
    "bbid = set(bb['SK_ID_BUREAU'])\n",
    "print(len(bid-bbid),len(bid),len(bid-bbid)/len(bid))"
   ]
  },
  {
   "cell_type": "code",
   "execution_count": 8,
   "metadata": {
    "ExecuteTime": {
     "end_time": "2018-06-10T15:06:58.554963Z",
     "start_time": "2018-06-10T15:06:58.441907Z"
    }
   },
   "outputs": [
    {
     "name": "stdout",
     "output_type": "stream",
     "text": [
      "    SK_ID_BUREAU  MONTHS_BALANCE STATUS\n",
      "0        5715448               0      C\n",
      "1        5715448              -1      C\n",
      "2        5715448              -2      C\n",
      "3        5715448              -3      C\n",
      "4        5715448              -4      C\n",
      "5        5715448              -5      C\n",
      "6        5715448              -6      C\n",
      "7        5715448              -7      C\n",
      "8        5715448              -8      C\n",
      "9        5715448              -9      0\n",
      "10       5715448             -10      0\n",
      "11       5715448             -11      X\n",
      "12       5715448             -12      X\n",
      "13       5715448             -13      X\n",
      "14       5715448             -14      0\n",
      "15       5715448             -15      0\n",
      "16       5715448             -16      0\n",
      "17       5715448             -17      0\n",
      "18       5715448             -18      0\n",
      "19       5715448             -19      0\n",
      "20       5715448             -20      X\n",
      "21       5715448             -21      X\n",
      "22       5715448             -22      X\n",
      "23       5715448             -23      X\n",
      "24       5715448             -24      X\n",
      "25       5715448             -25      X\n",
      "26       5715448             -26      X\n"
     ]
    }
   ],
   "source": [
    "print(bb[bb['SK_ID_BUREAU']==5715448])"
   ]
  },
  {
   "cell_type": "code",
   "execution_count": 42,
   "metadata": {
    "ExecuteTime": {
     "end_time": "2018-06-08T14:22:56.054411Z",
     "start_time": "2018-06-08T14:22:55.501487Z"
    }
   },
   "outputs": [
    {
     "name": "stdout",
     "output_type": "stream",
     "text": [
      "0\n",
      "16454 307511 0.05350702901684818\n",
      "44020 307511 0.14314935075493235\n",
      "2470 307511 0.008032232993291297\n",
      "944 48744 0.019366486131626455\n",
      "6424 48744 0.1317905793533563\n",
      "208 48744 0.004267191859510914\n"
     ]
    }
   ],
   "source": [
    "train_id = set(train['SK_ID_CURR'])\n",
    "test_id = set(test['SK_ID_CURR'])\n",
    "\n",
    "bureau_id = set(bureau['SK_ID_CURR'])\n",
    "prev_id = set(prev['SK_ID_CURR'])\n",
    "\n",
    "print(len(train_id-prev_id), len(train_id), len(train_id-prev_id)/len(train_id))\n",
    "print(len(train_id-bureau_id), len(train_id), len(train_id-bureau_id)/len(train_id))\n",
    "print(len(train_id-bureau_id-prev_id), len(train_id), len(train_id-bureau_id-prev_id)/len(train_id))\n",
    "\n",
    "print(len(test_id-prev_id), len(test_id), len(test_id-prev_id)/len(test_id))\n",
    "print(len(test_id-bureau_id), len(test_id), len(test_id-bureau_id)/len(test_id))\n",
    "print(len(test_id-bureau_id-prev_id), len(test_id), len(test_id-bureau_id-prev_id)/len(test_id))"
   ]
  },
  {
   "cell_type": "code",
   "execution_count": 17,
   "metadata": {
    "ExecuteTime": {
     "end_time": "2018-06-07T20:39:38.662070Z",
     "start_time": "2018-06-07T20:39:38.427586Z"
    }
   },
   "outputs": [
    {
     "name": "stdout",
     "output_type": "stream",
     "text": [
      "42 80\n"
     ]
    }
   ],
   "source": [
    "df = pd.concat([train, test])\n",
    "cat = ['CODE_GENDER', 'EMERGENCYSTATE_MODE', 'FLAG_OWN_CAR', 'FLAG_OWN_REALTY', 'FONDKAPREMONT_MODE', 'HOUSETYPE_MODE',          'NAME_CONTRACT_TYPE', 'NAME_EDUCATION_TYPE', 'NAME_FAMILY_STATUS', 'NAME_HOUSING_TYPE', 'NAME_INCOME_TYPE',                'NAME_TYPE_SUITE', 'OCCUPATION_TYPE', 'ORGANIZATION_TYPE', 'WALLSMATERIAL_MODE', 'WEEKDAY_APPR_PROCESS_START',\n",
    "       'FLAG_CONT_MOBILE', 'FLAG_DOCUMENT_10', 'FLAG_DOCUMENT_11', 'FLAG_DOCUMENT_12', 'FLAG_DOCUMENT_13',\n",
    "       'FLAG_DOCUMENT_14', 'FLAG_DOCUMENT_15', 'FLAG_DOCUMENT_16', 'FLAG_DOCUMENT_17', 'FLAG_DOCUMENT_18',\n",
    "       'FLAG_DOCUMENT_19', 'FLAG_DOCUMENT_2', 'FLAG_DOCUMENT_20', 'FLAG_DOCUMENT_21', 'FLAG_DOCUMENT_3',\n",
    "       'FLAG_DOCUMENT_4', 'FLAG_DOCUMENT_5', 'FLAG_DOCUMENT_6', 'FLAG_DOCUMENT_7', 'FLAG_DOCUMENT_8', 'FLAG_DOCUMENT_9',\n",
    "       'FLAG_EMAIL', 'FLAG_EMP_PHONE', 'FLAG_MOBIL', 'FLAG_PHONE', 'FLAG_WORK_PHONE']\n",
    "label = 'TARGET'\n",
    "num = [x for x in set(df.columns)-set('TARGET') if x not in cat]\n",
    "print(len(cat),len(num))"
   ]
  },
  {
   "cell_type": "code",
   "execution_count": 23,
   "metadata": {
    "ExecuteTime": {
     "end_time": "2018-06-08T13:41:06.527427Z",
     "start_time": "2018-06-08T13:41:06.473855Z"
    }
   },
   "outputs": [
    {
     "name": "stdout",
     "output_type": "stream",
     "text": [
      "{0, 1, 2, 3, 4}\n",
      "4 0\n"
     ]
    }
   ],
   "source": [
    "p = ['FLAG_DOCUMENT_10', 'FLAG_DOCUMENT_11', 'FLAG_DOCUMENT_12', 'FLAG_DOCUMENT_13',\n",
    "       'FLAG_DOCUMENT_14', 'FLAG_DOCUMENT_15', 'FLAG_DOCUMENT_16', 'FLAG_DOCUMENT_17', 'FLAG_DOCUMENT_18',\n",
    "       'FLAG_DOCUMENT_19', 'FLAG_DOCUMENT_2', 'FLAG_DOCUMENT_20', 'FLAG_DOCUMENT_21', 'FLAG_DOCUMENT_3',\n",
    "       'FLAG_DOCUMENT_4', 'FLAG_DOCUMENT_5', 'FLAG_DOCUMENT_6', 'FLAG_DOCUMENT_7', 'FLAG_DOCUMENT_8', 'FLAG_DOCUMENT_9']\n",
    "x = set(df[p].sum(axis=1))\n",
    "print(x)\n",
    "print(max(x),min(x))"
   ]
  },
  {
   "cell_type": "code",
   "execution_count": 28,
   "metadata": {
    "ExecuteTime": {
     "end_time": "2018-06-08T13:57:01.411693Z",
     "start_time": "2018-06-08T13:57:00.789639Z"
    },
    "scrolled": false
   },
   "outputs": [
    {
     "data": {
      "text/plain": [
       "Index(['AMT_ANNUITY', 'AMT_GOODS_PRICE', 'AMT_REQ_CREDIT_BUREAU_DAY',\n",
       "       'AMT_REQ_CREDIT_BUREAU_HOUR', 'AMT_REQ_CREDIT_BUREAU_MON',\n",
       "       'AMT_REQ_CREDIT_BUREAU_QRT', 'AMT_REQ_CREDIT_BUREAU_WEEK',\n",
       "       'AMT_REQ_CREDIT_BUREAU_YEAR', 'APARTMENTS_AVG', 'APARTMENTS_MEDI',\n",
       "       'APARTMENTS_MODE', 'BASEMENTAREA_AVG', 'BASEMENTAREA_MEDI',\n",
       "       'BASEMENTAREA_MODE', 'CNT_FAM_MEMBERS', 'COMMONAREA_AVG',\n",
       "       'COMMONAREA_MEDI', 'COMMONAREA_MODE', 'DAYS_LAST_PHONE_CHANGE',\n",
       "       'DEF_30_CNT_SOCIAL_CIRCLE', 'DEF_60_CNT_SOCIAL_CIRCLE', 'ELEVATORS_AVG',\n",
       "       'ELEVATORS_MEDI', 'ELEVATORS_MODE', 'EMERGENCYSTATE_MODE',\n",
       "       'ENTRANCES_AVG', 'ENTRANCES_MEDI', 'ENTRANCES_MODE', 'EXT_SOURCE_1',\n",
       "       'EXT_SOURCE_2', 'EXT_SOURCE_3', 'FLOORSMAX_AVG', 'FLOORSMAX_MEDI',\n",
       "       'FLOORSMAX_MODE', 'FLOORSMIN_AVG', 'FLOORSMIN_MEDI', 'FLOORSMIN_MODE',\n",
       "       'FONDKAPREMONT_MODE', 'HOUSETYPE_MODE', 'LANDAREA_AVG', 'LANDAREA_MEDI',\n",
       "       'LANDAREA_MODE', 'LIVINGAPARTMENTS_AVG', 'LIVINGAPARTMENTS_MEDI',\n",
       "       'LIVINGAPARTMENTS_MODE', 'LIVINGAREA_AVG', 'LIVINGAREA_MEDI',\n",
       "       'LIVINGAREA_MODE', 'NAME_TYPE_SUITE', 'NONLIVINGAPARTMENTS_AVG',\n",
       "       'NONLIVINGAPARTMENTS_MEDI', 'NONLIVINGAPARTMENTS_MODE',\n",
       "       'NONLIVINGAREA_AVG', 'NONLIVINGAREA_MEDI', 'NONLIVINGAREA_MODE',\n",
       "       'OBS_30_CNT_SOCIAL_CIRCLE', 'OBS_60_CNT_SOCIAL_CIRCLE',\n",
       "       'OCCUPATION_TYPE', 'OWN_CAR_AGE', 'TARGET', 'TOTALAREA_MODE',\n",
       "       'WALLSMATERIAL_MODE', 'YEARS_BEGINEXPLUATATION_AVG',\n",
       "       'YEARS_BEGINEXPLUATATION_MEDI', 'YEARS_BEGINEXPLUATATION_MODE',\n",
       "       'YEARS_BUILD_AVG', 'YEARS_BUILD_MEDI', 'YEARS_BUILD_MODE'],\n",
       "      dtype='object')"
      ]
     },
     "execution_count": 28,
     "metadata": {},
     "output_type": "execute_result"
    }
   ],
   "source": [
    "x = df.isnull().any()\n",
    "x[x==True].index"
   ]
  },
  {
   "cell_type": "code",
   "execution_count": 39,
   "metadata": {
    "ExecuteTime": {
     "end_time": "2018-06-08T14:16:42.006899Z",
     "start_time": "2018-06-08T14:16:41.997988Z"
    }
   },
   "outputs": [
    {
     "name": "stdout",
     "output_type": "stream",
     "text": [
      "9.0\n"
     ]
    }
   ],
   "source": [
    "print(df['AMT_REQ_CREDIT_BUREAU_DAY'].max())"
   ]
  },
  {
   "cell_type": "code",
   "execution_count": 36,
   "metadata": {
    "ExecuteTime": {
     "end_time": "2018-06-08T14:13:35.065157Z",
     "start_time": "2018-06-08T14:13:34.698626Z"
    }
   },
   "outputs": [
    {
     "name": "stdout",
     "output_type": "stream",
     "text": [
      "[0.00078771174890344942, 0.00093042460969475086, 0.0015565608459037436, 0.0020219274353456473, 0.002108469018197718, 0.0027044013780416834, 0.0027571486021083832, 0.0028194791841588355, 0.0031761075207261389, 0.0039818656012056549, 0.0055759445209084824, 0.0069419075453715949, 0.0090221436302148697, 0.0090364473543011799, 0.0091306657027763888, 0.0093077843965310852, 0.0097276732686801294, 0.0099930965596965772, 0.010174103567660468, 0.010884822678806697, 0.011255826639923514, 0.012462419228138661, 0.012710543748878216, 0.012816561515413582, 0.013336719980273918, 0.013578069781984782, 0.016340337311304107, 0.017387422304882948, 0.018549661629760329, 0.018572868907710902, 0.019024756327399774, 0.01917218201273824, 0.019187133596270032, 0.019929858569466708, 0.01995228392431541, 0.02206820383485656, 0.022081261373190029, 0.022149284063388876, 0.022325926477474379, 0.022745743190148129, 0.023393245570197566, 0.024165831430094396, 0.024620663606504965, 0.025030533291064486, 0.027283870667753174, 0.029183758876693573, 0.029497564633431703, 0.030369286461429688, 0.030684615765641455, 0.031276472126436458, 0.032131171004995254, 0.032247579253044403, 0.032518341101499017, 0.032595546758941593, 0.032697825310474882, 0.032739284407815164, 0.032997117467611567, 0.033394287191135172, 0.033613503251899816, 0.03386287676844596, 0.03419879367526827, 0.037227148542445146, 0.037611564275165467, 0.039645281169544119, 0.041974862831417055, 0.043226263213819865, 0.043767921047701511, 0.044003370532402095, 0.044395374805701174, 0.044931662657738514, 0.050994464368126595, 0.051457172607057483, 0.055218483513459732, 0.058899014945712487, 0.060892667564823581, 0.078239308309826922, 0.15531712606394882, 0.16047167160520978, 0.17891869762837218, 0.99999999999999978]\n"
     ]
    }
   ],
   "source": [
    "y = []\n",
    "z = []\n",
    "for x in num:\n",
    "    y.append(x),\n",
    "    z.append(abs(train[x].corr(train[label])))\n",
    "    \n",
    "print(sorted(z))"
   ]
  },
  {
   "cell_type": "code",
   "execution_count": 49,
   "metadata": {
    "ExecuteTime": {
     "end_time": "2018-06-08T14:55:01.311359Z",
     "start_time": "2018-06-08T14:54:59.327762Z"
    }
   },
   "outputs": [
    {
     "data": {
      "text/plain": [
       "6291461"
      ]
     },
     "execution_count": 49,
     "metadata": {},
     "output_type": "execute_result"
    }
   ],
   "source": [
    "x = list(set(bureau_balance['SK_ID_BUREAU']))\n",
    "x[5]"
   ]
  },
  {
   "cell_type": "markdown",
   "metadata": {},
   "source": [
    "# bureau"
   ]
  },
  {
   "cell_type": "code",
   "execution_count": 6,
   "metadata": {
    "ExecuteTime": {
     "end_time": "2018-06-08T15:34:12.171877Z",
     "start_time": "2018-06-08T15:34:11.795114Z"
    }
   },
   "outputs": [
    {
     "name": "stdout",
     "output_type": "stream",
     "text": [
      "SK_ID_CURR                False\n",
      "SK_ID_BUREAU              False\n",
      "CREDIT_ACTIVE             False\n",
      "CREDIT_CURRENCY           False\n",
      "DAYS_CREDIT               False\n",
      "CREDIT_DAY_OVERDUE        False\n",
      "DAYS_CREDIT_ENDDATE        True\n",
      "DAYS_ENDDATE_FACT          True\n",
      "AMT_CREDIT_MAX_OVERDUE     True\n",
      "CNT_CREDIT_PROLONG        False\n",
      "AMT_CREDIT_SUM             True\n",
      "AMT_CREDIT_SUM_DEBT        True\n",
      "AMT_CREDIT_SUM_LIMIT       True\n",
      "AMT_CREDIT_SUM_OVERDUE    False\n",
      "CREDIT_TYPE               False\n",
      "DAYS_CREDIT_UPDATE        False\n",
      "AMT_ANNUITY                True\n",
      "dtype: bool\n"
     ]
    }
   ],
   "source": [
    "print(bureau.isnull().any())"
   ]
  },
  {
   "cell_type": "markdown",
   "metadata": {},
   "source": [
    "# bureau balance"
   ]
  },
  {
   "cell_type": "code",
   "execution_count": 36,
   "metadata": {
    "ExecuteTime": {
     "end_time": "2018-06-08T19:03:49.536296Z",
     "start_time": "2018-06-08T19:03:37.654121Z"
    }
   },
   "outputs": [
    {
     "name": "stdout",
     "output_type": "stream",
     "text": [
      "done\n",
      "1886 5718509 1\n",
      "2423 5718761 1\n",
      "3640 5719027 1\n",
      "3765 5719030 1\n",
      "8547 5719653 1\n",
      "9406 5719836 2\n",
      "9475 5719837 1\n",
      "10232 5720038 2\n",
      "13962 5212230 2\n",
      "16386 5212506 1\n",
      "16387 5212506 C\n",
      "18121 5213110 2\n",
      "18146 5213111 2\n",
      "24398 5229478 1\n",
      "25746 5229957 1\n",
      "26507 5230056 1\n",
      "29832 5230719 4\n",
      "30245 5230729 4\n",
      "31478 5231201 1\n",
      "31661 5231206 1\n",
      "31827 5231215 1\n",
      "32164 5231284 1\n",
      "35179 5235586 1\n",
      "35264 5235587 1\n",
      "38457 5258380 2\n",
      "42297 5262322 2\n",
      "44675 5262823 1\n",
      "44870 5262826 1\n",
      "45435 6019471 1\n",
      "51459 6021056 1\n",
      "52136 6021272 1\n",
      "52229 6021273 4\n",
      "52390 6021277 1\n",
      "53362 6021467 1\n",
      "54205 6021596 1\n",
      "54751 6021620 1\n",
      "55195 6021651 1\n",
      "55737 6021954 1\n",
      "56274 6022071 1\n",
      "56767 6022275 2\n",
      "57817 5001786 1\n",
      "60432 5002766 1\n",
      "60482 5002797 5\n",
      "63073 5003199 1\n",
      "63941 5003267 1\n",
      "72078 5720577 1\n",
      "72147 5720580 1\n",
      "72994 5720684 1\n",
      "73092 5720685 1\n",
      "75502 5726572 1\n",
      "75536 5726576 1\n",
      "75575 5726578 1\n",
      "76491 5726963 1\n",
      "79484 5729876 1\n",
      "79530 5729972 1\n",
      "79547 5729973 1\n",
      "79564 5729974 1\n",
      "79589 5729975 1\n",
      "79789 5224236 1\n",
      "79802 5224237 1\n",
      "79815 5224238 1\n",
      "81403 5228729 4\n",
      "81466 5228928 1\n",
      "82462 5229087 2\n",
      "82840 5229190 1\n",
      "84174 6558611 1\n",
      "87887 6559197 1\n",
      "89132 6559751 1\n",
      "90357 6559954 1\n",
      "90750 6560171 1\n",
      "90834 6560173 1\n",
      "90888 6560174 1\n",
      "91502 5235723 1\n",
      "92660 5236031 2\n",
      "93404 5236267 1\n",
      "99141 5241570 1\n",
      "99179 5241573 1\n",
      "99708 5241757 2\n",
      "100234 5241787 1\n",
      "100839 5798177 1\n",
      "101173 5798184 1\n",
      "101803 5798426 1\n",
      "103208 5798483 1\n",
      "106124 5805361 1\n",
      "107684 5807287 1\n",
      "107919 5807294 1\n",
      "110956 5808512 1\n",
      "110994 5808513 1\n",
      "111072 5808515 1\n",
      "111137 5808517 1\n",
      "113309 5263246 1\n"
     ]
    },
    {
     "ename": "KeyboardInterrupt",
     "evalue": "",
     "output_type": "error",
     "traceback": [
      "\u001b[0;31m---------------------------------------------------------------------------\u001b[0m",
      "\u001b[0;31mKeyboardInterrupt\u001b[0m                         Traceback (most recent call last)",
      "\u001b[0;32m<ipython-input-36-f68091c0e184>\u001b[0m in \u001b[0;36m<module>\u001b[0;34m()\u001b[0m\n\u001b[1;32m      7\u001b[0m \u001b[0;32mfor\u001b[0m \u001b[0mi\u001b[0m \u001b[0;32min\u001b[0m \u001b[0mrange\u001b[0m\u001b[0;34m(\u001b[0m\u001b[0mbbbb\u001b[0m\u001b[0;34m.\u001b[0m\u001b[0mshape\u001b[0m\u001b[0;34m[\u001b[0m\u001b[0;36m0\u001b[0m\u001b[0;34m]\u001b[0m\u001b[0;34m)\u001b[0m\u001b[0;34m:\u001b[0m\u001b[0;34m\u001b[0m\u001b[0m\n\u001b[1;32m      8\u001b[0m     \u001b[0mkey\u001b[0m \u001b[0;34m=\u001b[0m \u001b[0mbb\u001b[0m\u001b[0;34m.\u001b[0m\u001b[0mloc\u001b[0m\u001b[0;34m[\u001b[0m\u001b[0mi\u001b[0m\u001b[0;34m,\u001b[0m \u001b[0;34m'SK_ID_BUREAU'\u001b[0m\u001b[0;34m]\u001b[0m\u001b[0;34m\u001b[0m\u001b[0m\n\u001b[0;32m----> 9\u001b[0;31m     \u001b[0mtmp\u001b[0m \u001b[0;34m=\u001b[0m \u001b[0mbb\u001b[0m\u001b[0;34m.\u001b[0m\u001b[0mloc\u001b[0m\u001b[0;34m[\u001b[0m\u001b[0mi\u001b[0m\u001b[0;34m,\u001b[0m \u001b[0;34m'STATUS'\u001b[0m\u001b[0;34m]\u001b[0m \u001b[0;34m==\u001b[0m \u001b[0;34m'C'\u001b[0m\u001b[0;34m\u001b[0m\u001b[0m\n\u001b[0m\u001b[1;32m     10\u001b[0m     \u001b[0mtmp0\u001b[0m \u001b[0;34m=\u001b[0m \u001b[0mbb\u001b[0m\u001b[0;34m.\u001b[0m\u001b[0mloc\u001b[0m\u001b[0;34m[\u001b[0m\u001b[0mi\u001b[0m\u001b[0;34m,\u001b[0m \u001b[0;34m'STATUS'\u001b[0m\u001b[0;34m]\u001b[0m \u001b[0;34m==\u001b[0m \u001b[0;34m'0'\u001b[0m\u001b[0;34m\u001b[0m\u001b[0m\n\u001b[1;32m     11\u001b[0m     \u001b[0mtmpx\u001b[0m \u001b[0;34m=\u001b[0m \u001b[0mbb\u001b[0m\u001b[0;34m.\u001b[0m\u001b[0mloc\u001b[0m\u001b[0;34m[\u001b[0m\u001b[0mi\u001b[0m\u001b[0;34m,\u001b[0m \u001b[0;34m'STATUS'\u001b[0m\u001b[0;34m]\u001b[0m \u001b[0;34m==\u001b[0m \u001b[0;34m'X'\u001b[0m\u001b[0;34m\u001b[0m\u001b[0m\n",
      "\u001b[0;32m~/anaconda3/lib/python3.6/site-packages/pandas/core/indexing.py\u001b[0m in \u001b[0;36m__getitem__\u001b[0;34m(self, key)\u001b[0m\n\u001b[1;32m   1319\u001b[0m             \u001b[0mkey\u001b[0m \u001b[0;34m=\u001b[0m \u001b[0mtuple\u001b[0m\u001b[0;34m(\u001b[0m\u001b[0mcom\u001b[0m\u001b[0;34m.\u001b[0m\u001b[0m_apply_if_callable\u001b[0m\u001b[0;34m(\u001b[0m\u001b[0mx\u001b[0m\u001b[0;34m,\u001b[0m \u001b[0mself\u001b[0m\u001b[0;34m.\u001b[0m\u001b[0mobj\u001b[0m\u001b[0;34m)\u001b[0m \u001b[0;32mfor\u001b[0m \u001b[0mx\u001b[0m \u001b[0;32min\u001b[0m \u001b[0mkey\u001b[0m\u001b[0;34m)\u001b[0m\u001b[0;34m\u001b[0m\u001b[0m\n\u001b[1;32m   1320\u001b[0m             \u001b[0;32mtry\u001b[0m\u001b[0;34m:\u001b[0m\u001b[0;34m\u001b[0m\u001b[0m\n\u001b[0;32m-> 1321\u001b[0;31m                 \u001b[0;32mif\u001b[0m \u001b[0mself\u001b[0m\u001b[0;34m.\u001b[0m\u001b[0m_is_scalar_access\u001b[0m\u001b[0;34m(\u001b[0m\u001b[0mkey\u001b[0m\u001b[0;34m)\u001b[0m\u001b[0;34m:\u001b[0m\u001b[0;34m\u001b[0m\u001b[0m\n\u001b[0m\u001b[1;32m   1322\u001b[0m                     \u001b[0;32mreturn\u001b[0m \u001b[0mself\u001b[0m\u001b[0;34m.\u001b[0m\u001b[0m_getitem_scalar\u001b[0m\u001b[0;34m(\u001b[0m\u001b[0mkey\u001b[0m\u001b[0;34m)\u001b[0m\u001b[0;34m\u001b[0m\u001b[0m\n\u001b[1;32m   1323\u001b[0m             \u001b[0;32mexcept\u001b[0m \u001b[0;34m(\u001b[0m\u001b[0mKeyError\u001b[0m\u001b[0;34m,\u001b[0m \u001b[0mIndexError\u001b[0m\u001b[0;34m)\u001b[0m\u001b[0;34m:\u001b[0m\u001b[0;34m\u001b[0m\u001b[0m\n",
      "\u001b[0;32m~/anaconda3/lib/python3.6/site-packages/pandas/core/indexing.py\u001b[0m in \u001b[0;36m_is_scalar_access\u001b[0;34m(self, key)\u001b[0m\n\u001b[1;32m   1459\u001b[0m                 \u001b[0;32mreturn\u001b[0m \u001b[0;32mFalse\u001b[0m\u001b[0;34m\u001b[0m\u001b[0m\n\u001b[1;32m   1460\u001b[0m \u001b[0;34m\u001b[0m\u001b[0m\n\u001b[0;32m-> 1461\u001b[0;31m             \u001b[0max\u001b[0m \u001b[0;34m=\u001b[0m \u001b[0mself\u001b[0m\u001b[0;34m.\u001b[0m\u001b[0mobj\u001b[0m\u001b[0;34m.\u001b[0m\u001b[0maxes\u001b[0m\u001b[0;34m[\u001b[0m\u001b[0mi\u001b[0m\u001b[0;34m]\u001b[0m\u001b[0;34m\u001b[0m\u001b[0m\n\u001b[0m\u001b[1;32m   1462\u001b[0m             \u001b[0;32mif\u001b[0m \u001b[0misinstance\u001b[0m\u001b[0;34m(\u001b[0m\u001b[0max\u001b[0m\u001b[0;34m,\u001b[0m \u001b[0mMultiIndex\u001b[0m\u001b[0;34m)\u001b[0m\u001b[0;34m:\u001b[0m\u001b[0;34m\u001b[0m\u001b[0m\n\u001b[1;32m   1463\u001b[0m                 \u001b[0;32mreturn\u001b[0m \u001b[0;32mFalse\u001b[0m\u001b[0;34m\u001b[0m\u001b[0m\n",
      "\u001b[0;32m~/anaconda3/lib/python3.6/site-packages/pandas/core/frame.py\u001b[0m in \u001b[0;36maxes\u001b[0;34m(self)\u001b[0m\n\u001b[1;32m    483\u001b[0m         \u001b[0;32mreturn\u001b[0m \u001b[0mcreate_block_manager_from_blocks\u001b[0m\u001b[0;34m(\u001b[0m\u001b[0;34m[\u001b[0m\u001b[0mvalues\u001b[0m\u001b[0;34m]\u001b[0m\u001b[0;34m,\u001b[0m \u001b[0;34m[\u001b[0m\u001b[0mcolumns\u001b[0m\u001b[0;34m,\u001b[0m \u001b[0mindex\u001b[0m\u001b[0;34m]\u001b[0m\u001b[0;34m)\u001b[0m\u001b[0;34m\u001b[0m\u001b[0m\n\u001b[1;32m    484\u001b[0m \u001b[0;34m\u001b[0m\u001b[0m\n\u001b[0;32m--> 485\u001b[0;31m     \u001b[0;34m@\u001b[0m\u001b[0mproperty\u001b[0m\u001b[0;34m\u001b[0m\u001b[0m\n\u001b[0m\u001b[1;32m    486\u001b[0m     \u001b[0;32mdef\u001b[0m \u001b[0maxes\u001b[0m\u001b[0;34m(\u001b[0m\u001b[0mself\u001b[0m\u001b[0;34m)\u001b[0m\u001b[0;34m:\u001b[0m\u001b[0;34m\u001b[0m\u001b[0m\n\u001b[1;32m    487\u001b[0m         \"\"\"\n",
      "\u001b[0;31mKeyboardInterrupt\u001b[0m: "
     ]
    }
   ],
   "source": [
    "d = []\n",
    "last = {}\n",
    "bbb = bb[bb['SK_ID_BUREAU']==5715479][['SK_ID_BUREAU', 'STATUS']]\n",
    "# for i in range(bbb.shape[0]):\n",
    "bbbb = bb.sort_values('MONTHS_BALANCE', ascending=False)\n",
    "print('done')\n",
    "for i in range(bbbb.shape[0]):\n",
    "    key = bb.loc[i, 'SK_ID_BUREAU']\n",
    "    tmp = bb.loc[i, 'STATUS'] == 'C'\n",
    "    tmp0 = bb.loc[i, 'STATUS'] == '0'\n",
    "    tmpx = bb.loc[i, 'STATUS'] == 'X'\n",
    "    \n",
    "    if last.get(key) != 'C' and tmp:\n",
    "        if last.get(key) != None:\n",
    "            d.append((key, bb.loc[i, 'STATUS']))\n",
    "            print(i, key, bb.loc[i, 'STATUS'])\n",
    "    elif last.get(key) == 'C' and not tmp and not tmp0 and not tmpx:\n",
    "        d.append((key, bb.loc[i, 'STATUS']))\n",
    "        print(i, key, bb.loc[i, 'STATUS'])\n",
    "    last[key] = bb.loc[i, 'STATUS']\n",
    "print('done')"
   ]
  },
  {
   "cell_type": "code",
   "execution_count": 13,
   "metadata": {
    "ExecuteTime": {
     "end_time": "2018-06-10T15:26:39.300808Z",
     "start_time": "2018-06-10T15:26:39.267057Z"
    },
    "scrolled": true
   },
   "outputs": [
    {
     "name": "stdout",
     "output_type": "stream",
     "text": [
      "       SK_ID_BUREAU  MONTHS_BALANCE STATUS\n",
      "13898       5212230               0      C\n",
      "13899       5212230              -1      C\n",
      "13900       5212230              -2      C\n",
      "13901       5212230              -3      C\n",
      "13902       5212230              -4      C\n",
      "13903       5212230              -5      C\n",
      "13904       5212230              -6      C\n",
      "13905       5212230              -7      C\n",
      "13906       5212230              -8      C\n",
      "13907       5212230              -9      C\n",
      "13908       5212230             -10      C\n",
      "13909       5212230             -11      C\n",
      "13910       5212230             -12      C\n",
      "13911       5212230             -13      C\n",
      "13912       5212230             -14      C\n",
      "13913       5212230             -15      C\n",
      "13914       5212230             -16      C\n",
      "13915       5212230             -17      C\n",
      "13916       5212230             -18      C\n",
      "13917       5212230             -19      C\n",
      "13918       5212230             -20      C\n",
      "13919       5212230             -21      C\n",
      "13920       5212230             -22      C\n",
      "13921       5212230             -23      C\n",
      "13922       5212230             -24      C\n",
      "13923       5212230             -25      C\n",
      "13924       5212230             -26      C\n",
      "13925       5212230             -27      C\n",
      "13926       5212230             -28      C\n",
      "13927       5212230             -29      C\n",
      "...             ...             ...    ...\n",
      "13958       5212230             -60      C\n",
      "13959       5212230             -61      C\n",
      "13960       5212230             -62      C\n",
      "13961       5212230             -63      C\n",
      "13962       5212230             -64      2\n",
      "13963       5212230             -65      1\n",
      "13964       5212230             -66      1\n",
      "13965       5212230             -67      0\n",
      "13966       5212230             -68      0\n",
      "13967       5212230             -69      0\n",
      "13968       5212230             -70      0\n",
      "13969       5212230             -71      0\n",
      "13970       5212230             -72      0\n",
      "13971       5212230             -73      0\n",
      "13972       5212230             -74      0\n",
      "13973       5212230             -75      X\n",
      "13974       5212230             -76      X\n",
      "13975       5212230             -77      X\n",
      "13976       5212230             -78      X\n",
      "13977       5212230             -79      X\n",
      "13978       5212230             -80      X\n",
      "13979       5212230             -81      X\n",
      "13980       5212230             -82      X\n",
      "13981       5212230             -83      X\n",
      "13982       5212230             -84      X\n",
      "13983       5212230             -85      X\n",
      "13984       5212230             -86      X\n",
      "13985       5212230             -87      X\n",
      "13986       5212230             -88      X\n",
      "13987       5212230             -89      X\n",
      "\n",
      "[90 rows x 3 columns]\n"
     ]
    }
   ],
   "source": [
    "print(bb[bb['SK_ID_BUREAU']==5212230])"
   ]
  },
  {
   "cell_type": "code",
   "execution_count": 6,
   "metadata": {
    "ExecuteTime": {
     "end_time": "2018-06-08T18:24:01.314641Z",
     "start_time": "2018-06-08T18:24:01.308339Z"
    }
   },
   "outputs": [
    {
     "name": "stdout",
     "output_type": "stream",
     "text": [
      "{'a': True, 'b': False}\n"
     ]
    }
   ],
   "source": [
    "a = {'a':True}\n",
    "a['b'] = 'b' in a\n",
    "print(a)"
   ]
  },
  {
   "cell_type": "code",
   "execution_count": 11,
   "metadata": {
    "ExecuteTime": {
     "end_time": "2018-06-10T15:26:16.762516Z",
     "start_time": "2018-06-10T15:26:11.710906Z"
    },
    "collapsed": true
   },
   "outputs": [],
   "source": [
    "tmp = bb.sort_values('MONTHS_BALANCE', ascending=False)"
   ]
  },
  {
   "cell_type": "code",
   "execution_count": 15,
   "metadata": {
    "ExecuteTime": {
     "end_time": "2018-06-10T15:27:12.711603Z",
     "start_time": "2018-06-10T15:27:12.666949Z"
    }
   },
   "outputs": [
    {
     "data": {
      "text/html": [
       "<div>\n",
       "<style>\n",
       "    .dataframe thead tr:only-child th {\n",
       "        text-align: right;\n",
       "    }\n",
       "\n",
       "    .dataframe thead th {\n",
       "        text-align: left;\n",
       "    }\n",
       "\n",
       "    .dataframe tbody tr th {\n",
       "        vertical-align: top;\n",
       "    }\n",
       "</style>\n",
       "<table border=\"1\" class=\"dataframe\">\n",
       "  <thead>\n",
       "    <tr style=\"text-align: right;\">\n",
       "      <th></th>\n",
       "      <th>SK_ID_BUREAU</th>\n",
       "      <th>MONTHS_BALANCE</th>\n",
       "      <th>STATUS</th>\n",
       "    </tr>\n",
       "  </thead>\n",
       "  <tbody>\n",
       "    <tr>\n",
       "      <th>52167</th>\n",
       "      <td>6021273</td>\n",
       "      <td>0</td>\n",
       "      <td>C</td>\n",
       "    </tr>\n",
       "    <tr>\n",
       "      <th>52168</th>\n",
       "      <td>6021273</td>\n",
       "      <td>-1</td>\n",
       "      <td>C</td>\n",
       "    </tr>\n",
       "    <tr>\n",
       "      <th>52169</th>\n",
       "      <td>6021273</td>\n",
       "      <td>-2</td>\n",
       "      <td>C</td>\n",
       "    </tr>\n",
       "    <tr>\n",
       "      <th>52170</th>\n",
       "      <td>6021273</td>\n",
       "      <td>-3</td>\n",
       "      <td>C</td>\n",
       "    </tr>\n",
       "    <tr>\n",
       "      <th>52171</th>\n",
       "      <td>6021273</td>\n",
       "      <td>-4</td>\n",
       "      <td>C</td>\n",
       "    </tr>\n",
       "    <tr>\n",
       "      <th>52172</th>\n",
       "      <td>6021273</td>\n",
       "      <td>-5</td>\n",
       "      <td>C</td>\n",
       "    </tr>\n",
       "    <tr>\n",
       "      <th>52173</th>\n",
       "      <td>6021273</td>\n",
       "      <td>-6</td>\n",
       "      <td>C</td>\n",
       "    </tr>\n",
       "    <tr>\n",
       "      <th>52174</th>\n",
       "      <td>6021273</td>\n",
       "      <td>-7</td>\n",
       "      <td>C</td>\n",
       "    </tr>\n",
       "    <tr>\n",
       "      <th>52175</th>\n",
       "      <td>6021273</td>\n",
       "      <td>-8</td>\n",
       "      <td>C</td>\n",
       "    </tr>\n",
       "    <tr>\n",
       "      <th>52176</th>\n",
       "      <td>6021273</td>\n",
       "      <td>-9</td>\n",
       "      <td>C</td>\n",
       "    </tr>\n",
       "    <tr>\n",
       "      <th>52177</th>\n",
       "      <td>6021273</td>\n",
       "      <td>-10</td>\n",
       "      <td>C</td>\n",
       "    </tr>\n",
       "    <tr>\n",
       "      <th>52178</th>\n",
       "      <td>6021273</td>\n",
       "      <td>-11</td>\n",
       "      <td>C</td>\n",
       "    </tr>\n",
       "    <tr>\n",
       "      <th>52179</th>\n",
       "      <td>6021273</td>\n",
       "      <td>-12</td>\n",
       "      <td>C</td>\n",
       "    </tr>\n",
       "    <tr>\n",
       "      <th>52180</th>\n",
       "      <td>6021273</td>\n",
       "      <td>-13</td>\n",
       "      <td>C</td>\n",
       "    </tr>\n",
       "    <tr>\n",
       "      <th>52181</th>\n",
       "      <td>6021273</td>\n",
       "      <td>-14</td>\n",
       "      <td>C</td>\n",
       "    </tr>\n",
       "    <tr>\n",
       "      <th>52182</th>\n",
       "      <td>6021273</td>\n",
       "      <td>-15</td>\n",
       "      <td>C</td>\n",
       "    </tr>\n",
       "    <tr>\n",
       "      <th>52183</th>\n",
       "      <td>6021273</td>\n",
       "      <td>-16</td>\n",
       "      <td>C</td>\n",
       "    </tr>\n",
       "    <tr>\n",
       "      <th>52184</th>\n",
       "      <td>6021273</td>\n",
       "      <td>-17</td>\n",
       "      <td>C</td>\n",
       "    </tr>\n",
       "    <tr>\n",
       "      <th>52185</th>\n",
       "      <td>6021273</td>\n",
       "      <td>-18</td>\n",
       "      <td>C</td>\n",
       "    </tr>\n",
       "    <tr>\n",
       "      <th>52186</th>\n",
       "      <td>6021273</td>\n",
       "      <td>-19</td>\n",
       "      <td>C</td>\n",
       "    </tr>\n",
       "    <tr>\n",
       "      <th>52187</th>\n",
       "      <td>6021273</td>\n",
       "      <td>-20</td>\n",
       "      <td>C</td>\n",
       "    </tr>\n",
       "    <tr>\n",
       "      <th>52188</th>\n",
       "      <td>6021273</td>\n",
       "      <td>-21</td>\n",
       "      <td>C</td>\n",
       "    </tr>\n",
       "    <tr>\n",
       "      <th>52189</th>\n",
       "      <td>6021273</td>\n",
       "      <td>-22</td>\n",
       "      <td>C</td>\n",
       "    </tr>\n",
       "    <tr>\n",
       "      <th>52190</th>\n",
       "      <td>6021273</td>\n",
       "      <td>-23</td>\n",
       "      <td>C</td>\n",
       "    </tr>\n",
       "    <tr>\n",
       "      <th>52191</th>\n",
       "      <td>6021273</td>\n",
       "      <td>-24</td>\n",
       "      <td>C</td>\n",
       "    </tr>\n",
       "    <tr>\n",
       "      <th>52192</th>\n",
       "      <td>6021273</td>\n",
       "      <td>-25</td>\n",
       "      <td>C</td>\n",
       "    </tr>\n",
       "    <tr>\n",
       "      <th>52193</th>\n",
       "      <td>6021273</td>\n",
       "      <td>-26</td>\n",
       "      <td>C</td>\n",
       "    </tr>\n",
       "    <tr>\n",
       "      <th>52194</th>\n",
       "      <td>6021273</td>\n",
       "      <td>-27</td>\n",
       "      <td>C</td>\n",
       "    </tr>\n",
       "    <tr>\n",
       "      <th>52195</th>\n",
       "      <td>6021273</td>\n",
       "      <td>-28</td>\n",
       "      <td>C</td>\n",
       "    </tr>\n",
       "    <tr>\n",
       "      <th>52196</th>\n",
       "      <td>6021273</td>\n",
       "      <td>-29</td>\n",
       "      <td>C</td>\n",
       "    </tr>\n",
       "    <tr>\n",
       "      <th>...</th>\n",
       "      <td>...</td>\n",
       "      <td>...</td>\n",
       "      <td>...</td>\n",
       "    </tr>\n",
       "    <tr>\n",
       "      <th>52234</th>\n",
       "      <td>6021273</td>\n",
       "      <td>-67</td>\n",
       "      <td>5</td>\n",
       "    </tr>\n",
       "    <tr>\n",
       "      <th>52235</th>\n",
       "      <td>6021273</td>\n",
       "      <td>-68</td>\n",
       "      <td>5</td>\n",
       "    </tr>\n",
       "    <tr>\n",
       "      <th>52236</th>\n",
       "      <td>6021273</td>\n",
       "      <td>-69</td>\n",
       "      <td>5</td>\n",
       "    </tr>\n",
       "    <tr>\n",
       "      <th>52237</th>\n",
       "      <td>6021273</td>\n",
       "      <td>-70</td>\n",
       "      <td>4</td>\n",
       "    </tr>\n",
       "    <tr>\n",
       "      <th>52238</th>\n",
       "      <td>6021273</td>\n",
       "      <td>-71</td>\n",
       "      <td>3</td>\n",
       "    </tr>\n",
       "    <tr>\n",
       "      <th>52239</th>\n",
       "      <td>6021273</td>\n",
       "      <td>-72</td>\n",
       "      <td>2</td>\n",
       "    </tr>\n",
       "    <tr>\n",
       "      <th>52240</th>\n",
       "      <td>6021273</td>\n",
       "      <td>-73</td>\n",
       "      <td>2</td>\n",
       "    </tr>\n",
       "    <tr>\n",
       "      <th>52241</th>\n",
       "      <td>6021273</td>\n",
       "      <td>-74</td>\n",
       "      <td>1</td>\n",
       "    </tr>\n",
       "    <tr>\n",
       "      <th>52242</th>\n",
       "      <td>6021273</td>\n",
       "      <td>-75</td>\n",
       "      <td>1</td>\n",
       "    </tr>\n",
       "    <tr>\n",
       "      <th>52243</th>\n",
       "      <td>6021273</td>\n",
       "      <td>-76</td>\n",
       "      <td>1</td>\n",
       "    </tr>\n",
       "    <tr>\n",
       "      <th>52244</th>\n",
       "      <td>6021273</td>\n",
       "      <td>-77</td>\n",
       "      <td>1</td>\n",
       "    </tr>\n",
       "    <tr>\n",
       "      <th>52245</th>\n",
       "      <td>6021273</td>\n",
       "      <td>-78</td>\n",
       "      <td>1</td>\n",
       "    </tr>\n",
       "    <tr>\n",
       "      <th>52246</th>\n",
       "      <td>6021273</td>\n",
       "      <td>-79</td>\n",
       "      <td>1</td>\n",
       "    </tr>\n",
       "    <tr>\n",
       "      <th>52247</th>\n",
       "      <td>6021273</td>\n",
       "      <td>-80</td>\n",
       "      <td>1</td>\n",
       "    </tr>\n",
       "    <tr>\n",
       "      <th>52248</th>\n",
       "      <td>6021273</td>\n",
       "      <td>-81</td>\n",
       "      <td>1</td>\n",
       "    </tr>\n",
       "    <tr>\n",
       "      <th>52249</th>\n",
       "      <td>6021273</td>\n",
       "      <td>-82</td>\n",
       "      <td>1</td>\n",
       "    </tr>\n",
       "    <tr>\n",
       "      <th>52250</th>\n",
       "      <td>6021273</td>\n",
       "      <td>-83</td>\n",
       "      <td>1</td>\n",
       "    </tr>\n",
       "    <tr>\n",
       "      <th>52251</th>\n",
       "      <td>6021273</td>\n",
       "      <td>-84</td>\n",
       "      <td>0</td>\n",
       "    </tr>\n",
       "    <tr>\n",
       "      <th>52252</th>\n",
       "      <td>6021273</td>\n",
       "      <td>-85</td>\n",
       "      <td>0</td>\n",
       "    </tr>\n",
       "    <tr>\n",
       "      <th>52253</th>\n",
       "      <td>6021273</td>\n",
       "      <td>-86</td>\n",
       "      <td>0</td>\n",
       "    </tr>\n",
       "    <tr>\n",
       "      <th>52254</th>\n",
       "      <td>6021273</td>\n",
       "      <td>-87</td>\n",
       "      <td>0</td>\n",
       "    </tr>\n",
       "    <tr>\n",
       "      <th>52255</th>\n",
       "      <td>6021273</td>\n",
       "      <td>-88</td>\n",
       "      <td>0</td>\n",
       "    </tr>\n",
       "    <tr>\n",
       "      <th>52256</th>\n",
       "      <td>6021273</td>\n",
       "      <td>-89</td>\n",
       "      <td>0</td>\n",
       "    </tr>\n",
       "    <tr>\n",
       "      <th>52257</th>\n",
       "      <td>6021273</td>\n",
       "      <td>-90</td>\n",
       "      <td>1</td>\n",
       "    </tr>\n",
       "    <tr>\n",
       "      <th>52258</th>\n",
       "      <td>6021273</td>\n",
       "      <td>-91</td>\n",
       "      <td>1</td>\n",
       "    </tr>\n",
       "    <tr>\n",
       "      <th>52259</th>\n",
       "      <td>6021273</td>\n",
       "      <td>-92</td>\n",
       "      <td>1</td>\n",
       "    </tr>\n",
       "    <tr>\n",
       "      <th>52260</th>\n",
       "      <td>6021273</td>\n",
       "      <td>-93</td>\n",
       "      <td>0</td>\n",
       "    </tr>\n",
       "    <tr>\n",
       "      <th>52261</th>\n",
       "      <td>6021273</td>\n",
       "      <td>-94</td>\n",
       "      <td>0</td>\n",
       "    </tr>\n",
       "    <tr>\n",
       "      <th>52262</th>\n",
       "      <td>6021273</td>\n",
       "      <td>-95</td>\n",
       "      <td>0</td>\n",
       "    </tr>\n",
       "    <tr>\n",
       "      <th>52263</th>\n",
       "      <td>6021273</td>\n",
       "      <td>-96</td>\n",
       "      <td>0</td>\n",
       "    </tr>\n",
       "  </tbody>\n",
       "</table>\n",
       "<p>97 rows × 3 columns</p>\n",
       "</div>"
      ],
      "text/plain": [
       "       SK_ID_BUREAU  MONTHS_BALANCE STATUS\n",
       "52167       6021273               0      C\n",
       "52168       6021273              -1      C\n",
       "52169       6021273              -2      C\n",
       "52170       6021273              -3      C\n",
       "52171       6021273              -4      C\n",
       "52172       6021273              -5      C\n",
       "52173       6021273              -6      C\n",
       "52174       6021273              -7      C\n",
       "52175       6021273              -8      C\n",
       "52176       6021273              -9      C\n",
       "52177       6021273             -10      C\n",
       "52178       6021273             -11      C\n",
       "52179       6021273             -12      C\n",
       "52180       6021273             -13      C\n",
       "52181       6021273             -14      C\n",
       "52182       6021273             -15      C\n",
       "52183       6021273             -16      C\n",
       "52184       6021273             -17      C\n",
       "52185       6021273             -18      C\n",
       "52186       6021273             -19      C\n",
       "52187       6021273             -20      C\n",
       "52188       6021273             -21      C\n",
       "52189       6021273             -22      C\n",
       "52190       6021273             -23      C\n",
       "52191       6021273             -24      C\n",
       "52192       6021273             -25      C\n",
       "52193       6021273             -26      C\n",
       "52194       6021273             -27      C\n",
       "52195       6021273             -28      C\n",
       "52196       6021273             -29      C\n",
       "...             ...             ...    ...\n",
       "52234       6021273             -67      5\n",
       "52235       6021273             -68      5\n",
       "52236       6021273             -69      5\n",
       "52237       6021273             -70      4\n",
       "52238       6021273             -71      3\n",
       "52239       6021273             -72      2\n",
       "52240       6021273             -73      2\n",
       "52241       6021273             -74      1\n",
       "52242       6021273             -75      1\n",
       "52243       6021273             -76      1\n",
       "52244       6021273             -77      1\n",
       "52245       6021273             -78      1\n",
       "52246       6021273             -79      1\n",
       "52247       6021273             -80      1\n",
       "52248       6021273             -81      1\n",
       "52249       6021273             -82      1\n",
       "52250       6021273             -83      1\n",
       "52251       6021273             -84      0\n",
       "52252       6021273             -85      0\n",
       "52253       6021273             -86      0\n",
       "52254       6021273             -87      0\n",
       "52255       6021273             -88      0\n",
       "52256       6021273             -89      0\n",
       "52257       6021273             -90      1\n",
       "52258       6021273             -91      1\n",
       "52259       6021273             -92      1\n",
       "52260       6021273             -93      0\n",
       "52261       6021273             -94      0\n",
       "52262       6021273             -95      0\n",
       "52263       6021273             -96      0\n",
       "\n",
       "[97 rows x 3 columns]"
      ]
     },
     "execution_count": 15,
     "metadata": {},
     "output_type": "execute_result"
    }
   ],
   "source": [
    "tmp[tmp['SK_ID_BUREAU']==6021273]"
   ]
  },
  {
   "cell_type": "code",
   "execution_count": null,
   "metadata": {
    "collapsed": true
   },
   "outputs": [],
   "source": []
  }
 ],
 "metadata": {
  "kernelspec": {
   "display_name": "Python 3",
   "language": "python",
   "name": "python3"
  },
  "language_info": {
   "codemirror_mode": {
    "name": "ipython",
    "version": 3
   },
   "file_extension": ".py",
   "mimetype": "text/x-python",
   "name": "python",
   "nbconvert_exporter": "python",
   "pygments_lexer": "ipython3",
   "version": "3.6.3"
  },
  "varInspector": {
   "cols": {
    "lenName": 16,
    "lenType": 16,
    "lenVar": 40
   },
   "kernels_config": {
    "python": {
     "delete_cmd_postfix": "",
     "delete_cmd_prefix": "del ",
     "library": "var_list.py",
     "varRefreshCmd": "print(var_dic_list())"
    },
    "r": {
     "delete_cmd_postfix": ") ",
     "delete_cmd_prefix": "rm(",
     "library": "var_list.r",
     "varRefreshCmd": "cat(var_dic_list()) "
    }
   },
   "types_to_exclude": [
    "module",
    "function",
    "builtin_function_or_method",
    "instance",
    "_Feature"
   ],
   "window_display": false
  }
 },
 "nbformat": 4,
 "nbformat_minor": 2
}
