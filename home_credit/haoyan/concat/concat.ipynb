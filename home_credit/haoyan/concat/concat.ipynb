{
 "cells": [
  {
   "cell_type": "code",
   "execution_count": 1,
   "metadata": {
    "ExecuteTime": {
     "end_time": "2018-07-12T23:42:54.247431Z",
     "start_time": "2018-07-12T23:42:53.154774Z"
    }
   },
   "outputs": [],
   "source": [
    "import os\n",
    "import numpy as np\n",
    "import pandas as pd\n",
    "import gc\n",
    "import time\n",
    "from contextlib import contextmanager\n",
    "from lightgbm import LGBMClassifier\n",
    "from sklearn.metrics import roc_auc_score, roc_curve\n",
    "from sklearn.model_selection import KFold, StratifiedKFold\n",
    "import matplotlib.pyplot as plt\n",
    "import seaborn as sns\n",
    "import warnings\n",
    "PATH = '/home/kai/data/kaggle/homecredit/'"
   ]
  },
  {
   "cell_type": "code",
   "execution_count": 3,
   "metadata": {
    "ExecuteTime": {
     "end_time": "2018-07-12T23:45:15.952801Z",
     "start_time": "2018-07-12T23:43:09.490695Z"
    }
   },
   "outputs": [
    {
     "name": "stdout",
     "output_type": "stream",
     "text": [
      "(307511, 329) (48744, 328)\n",
      "(356255, 818)\n",
      "(307511, 1146) (48744, 1145)\n",
      "(356255, 137)\n",
      "(307511, 1282) (48744, 1281)\n",
      "(356255, 502)\n",
      "(307511, 1783) (48744, 1782)\n",
      "(339587, 261)\n",
      "(307511, 2043) (48744, 2042)\n",
      "(356255, 554)\n",
      "(307511, 2596) (48744, 2595)\n",
      "(356255, 17)\n",
      "(307511, 2613) (48744, 2612)\n",
      "(356255, 36)\n",
      "(307511, 2648) (48744, 2647)\n",
      "(356255, 31)\n",
      "(307511, 2678) (48744, 2677)\n"
     ]
    }
   ],
   "source": [
    "train = pd.read_pickle(PATH + 'test/train_ori.pkl')\n",
    "test = pd.read_pickle(PATH + 'test/test_ori.pkl')\n",
    "print(train.shape,test.shape)\n",
    "\n",
    "\n",
    "prev = pd.read_pickle(PATH + 'test/prev2curr_0.pkl')\n",
    "print(prev.shape)\n",
    "train = train.merge(prev, on='SK_ID_CURR', how='left')\n",
    "test = test.merge(prev, on='SK_ID_CURR', how='left')\n",
    "print(train.shape,test.shape)\n",
    "\n",
    "\n",
    "pos = pd.read_pickle(PATH +'test/pos/all_agg.pkl')\n",
    "print(pos.shape)\n",
    "train = train.merge(pos, on='SK_ID_CURR', how='left')\n",
    "test = test.merge(pos, on='SK_ID_CURR', how='left')\n",
    "print(train.shape,test.shape)\n",
    "\n",
    "\n",
    "cred = pd.read_pickle(PATH + 'inter/credit2curr.pkl')\n",
    "print(cred.shape)\n",
    "train = train.merge(cred, on='SK_ID_CURR', how='left')\n",
    "test = test.merge(cred, on='SK_ID_CURR', how='left')\n",
    "print(train.shape,test.shape)\n",
    "\n",
    "\n",
    "install = pd.read_pickle(PATH + 'inter/brandnew_inst2curr_with_days.pkl')\n",
    "print(install.shape)\n",
    "train = train.merge(install, on='SK_ID_CURR', how='left')\n",
    "test = test.merge(install, on='SK_ID_CURR', how='left')\n",
    "print(train.shape,test.shape)\n",
    "\n",
    "\n",
    "bureau = pd.read_pickle(PATH + 'inter/bureau2curr.pkl')\n",
    "print(bureau.shape)\n",
    "train = train.merge(bureau, on='SK_ID_CURR', how='left')\n",
    "test = test.merge(bureau, on='SK_ID_CURR', how='left')\n",
    "print(train.shape,test.shape)\n",
    "\n",
    "\n",
    "train_conact = pd.read_pickle(PATH + 'inter/train_sup/train_sup.pkl')\n",
    "print(train_conact.shape)\n",
    "train = pd.concat([train, train_conact[:train.shape[0]]], axis=1)\n",
    "test = pd.concat([test, train_conact[train.shape[0]:].reset_index(drop=True)], axis=1)\n",
    "print(train.shape,test.shape)\n",
    "\n",
    "for x in os.listdir(PATH + 'test/agg/'):\n",
    "    if '.pkl' in x:\n",
    "        tmp = pd.read_pickle(PATH + 'test/agg/' + x)\n",
    "        print(tmp.shape)\n",
    "        train = train.merge(tmp, on='SK_ID_CURR', how='left')\n",
    "        test = test.merge(tmp, on='SK_ID_CURR', how='left')\n",
    "        print(train.shape,test.shape)"
   ]
  },
  {
   "cell_type": "code",
   "execution_count": 4,
   "metadata": {
    "ExecuteTime": {
     "end_time": "2018-07-12T23:45:51.873627Z",
     "start_time": "2018-07-12T23:45:17.713525Z"
    }
   },
   "outputs": [],
   "source": [
    "train.to_pickle(PATH + 'train_bo2.pkl')\n",
    "test.to_pickle(PATH + 'test_bo2.pkl')"
   ]
  },
  {
   "cell_type": "code",
   "execution_count": null,
   "metadata": {},
   "outputs": [],
   "source": []
  }
 ],
 "metadata": {
  "kernelspec": {
   "display_name": "Python 3",
   "language": "python",
   "name": "python3"
  },
  "language_info": {
   "codemirror_mode": {
    "name": "ipython",
    "version": 3
   },
   "file_extension": ".py",
   "mimetype": "text/x-python",
   "name": "python",
   "nbconvert_exporter": "python",
   "pygments_lexer": "ipython3",
   "version": "3.6.5"
  },
  "varInspector": {
   "cols": {
    "lenName": 16,
    "lenType": 16,
    "lenVar": 40
   },
   "kernels_config": {
    "python": {
     "delete_cmd_postfix": "",
     "delete_cmd_prefix": "del ",
     "library": "var_list.py",
     "varRefreshCmd": "print(var_dic_list())"
    },
    "r": {
     "delete_cmd_postfix": ") ",
     "delete_cmd_prefix": "rm(",
     "library": "var_list.r",
     "varRefreshCmd": "cat(var_dic_list()) "
    }
   },
   "types_to_exclude": [
    "module",
    "function",
    "builtin_function_or_method",
    "instance",
    "_Feature"
   ],
   "window_display": false
  }
 },
 "nbformat": 4,
 "nbformat_minor": 2
}
