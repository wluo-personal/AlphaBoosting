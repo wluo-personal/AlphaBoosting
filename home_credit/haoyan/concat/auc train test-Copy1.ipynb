{
 "cells": [
  {
   "cell_type": "code",
   "execution_count": 2,
   "metadata": {
    "ExecuteTime": {
     "end_time": "2018-07-13T16:27:11.219963Z",
     "start_time": "2018-07-13T16:27:10.787906Z"
    }
   },
   "outputs": [],
   "source": [
    "import os\n",
    "import numpy as np\n",
    "import pandas as pd\n",
    "import gc\n",
    "import time\n",
    "from contextlib import contextmanager\n",
    "from lightgbm import LGBMClassifier\n",
    "from sklearn.metrics import roc_auc_score, roc_curve\n",
    "from sklearn.model_selection import KFold, StratifiedKFold\n",
    "import matplotlib.pyplot as plt\n",
    "import seaborn as sns\n",
    "import warnings\n",
    "PATH = '/home/kai/data/kaggle/homecredit/'\n"
   ]
  },
  {
   "cell_type": "markdown",
   "metadata": {
    "ExecuteTime": {
     "end_time": "2018-07-12T12:50:09.268180Z",
     "start_time": "2018-07-12T12:50:09.265292Z"
    }
   },
   "source": [
    "# \n",
    "12 | 195m26s | \u001b[35m   0.79743\u001b[0m | \u001b[32m            0.8630\u001b[0m | \u001b[32m              293.1967\u001b[0m | \u001b[32m            0.1628\u001b[0m | \u001b[32m     0.1247\u001b[0m | \u001b[32m     0.2139\u001b[0m | \u001b[32m     8.9266\u001b[0m | \u001b[32m           45.9395\u001b[0m | \u001b[32m          0.0709\u001b[0m | \u001b[32m     59.9600\u001b[0m | \u001b[32m            1.0467\u001b[0m | \n",
    "\n",
    "-----\n",
    "\n",
    " Step |   Time |      Value |   bagging_fraction |   early_stopping_round |   feature_fraction |   lambda_l1 |   lambda_l2 |   max_depth |   min_child_weight |   min_split_gain |   num_leaves |   scale_pos_weight |"
   ]
  },
  {
   "cell_type": "code",
   "execution_count": 2,
   "metadata": {
    "ExecuteTime": {
     "end_time": "2018-07-12T18:08:39.580062Z",
     "start_time": "2018-07-12T18:08:39.577598Z"
    }
   },
   "outputs": [],
   "source": [
    "# categorical_feats = ['FLAG_OWN_CAR','FLAG_OWN_REALTY','NAME_TYPE_SUITE','NAME_INCOME_TYPE','NAME_EDUCATION_TYPE','NAME_FAMILY_STATUS',\n",
    "# 'NAME_HOUSING_TYPE',\n",
    "# 'OCCUPATION_TYPE','FLAG_DOCUMENT_2','FLAG_DOCUMENT_3','FLAG_DOCUMENT_4','FLAG_DOCUMENT_5','FLAG_DOCUMENT_6','FLAG_DOCUMENT_7','FLAG_DOCUMENT_8','FLAG_DOCUMENT_9','FLAG_DOCUMENT_10','FLAG_DOCUMENT_11','FLAG_DOCUMENT_12',\n",
    "# 'FLAG_DOCUMENT_13','FLAG_DOCUMENT_14','FLAG_DOCUMENT_15','FLAG_DOCUMENT_16','FLAG_DOCUMENT_17','FLAG_DOCUMENT_18',\n",
    "# 'FLAG_DOCUMENT_19','FLAG_DOCUMENT_20','FLAG_DOCUMENT_21',\n",
    "# 'NAME_TYPE_SUITE'] "
   ]
  },
  {
   "cell_type": "code",
   "execution_count": 3,
   "metadata": {
    "ExecuteTime": {
     "end_time": "2018-07-12T18:08:59.195917Z",
     "start_time": "2018-07-12T18:08:39.581631Z"
    }
   },
   "outputs": [],
   "source": [
    "train = pd.read_pickle(PATH +'train_bo0.pkl')\n",
    "test = pd.read_pickle(PATH +'test_bo0.pkl')"
   ]
  },
  {
   "cell_type": "code",
   "execution_count": null,
   "metadata": {
    "ExecuteTime": {
     "start_time": "2018-07-12T18:08:38.956Z"
    },
    "scrolled": true
   },
   "outputs": [
    {
     "name": "stdout",
     "output_type": "stream",
     "text": [
      "begin cv\n"
     ]
    },
    {
     "name": "stderr",
     "output_type": "stream",
     "text": [
      "/home/kai/anaconda3/lib/python3.6/site-packages/lightgbm/engine.py:390: UserWarning: Found `num_iteration` in params. Will use it instead of argument\n",
      "  warnings.warn(\"Found `{}` in params. Will use it instead of argument\".format(alias))\n",
      "/home/kai/anaconda3/lib/python3.6/site-packages/lightgbm/basic.py:1027: UserWarning: Using categorical_feature in Dataset.\n",
      "  warnings.warn('Using categorical_feature in Dataset.')\n"
     ]
    },
    {
     "name": "stdout",
     "output_type": "stream",
     "text": [
      "[100]\tcv_agg's auc: 0.761279 + 0.00336603\n",
      "[200]\tcv_agg's auc: 0.77363 + 0.00278012\n",
      "[300]\tcv_agg's auc: 0.782606 + 0.00269742\n",
      "[400]\tcv_agg's auc: 0.787647 + 0.00262401\n",
      "[500]\tcv_agg's auc: 0.790502 + 0.00240743\n",
      "[600]\tcv_agg's auc: 0.792433 + 0.00223408\n",
      "[700]\tcv_agg's auc: 0.79367 + 0.00223838\n",
      "[800]\tcv_agg's auc: 0.794572 + 0.00220899\n",
      "[900]\tcv_agg's auc: 0.795125 + 0.00211476\n",
      "[1000]\tcv_agg's auc: 0.795581 + 0.00218749\n",
      "[1100]\tcv_agg's auc: 0.795764 + 0.00210343\n",
      "[1200]\tcv_agg's auc: 0.795837 + 0.00201961\n",
      "[1300]\tcv_agg's auc: 0.796017 + 0.00198905\n",
      "[1400]\tcv_agg's auc: 0.796035 + 0.00194835\n"
     ]
    }
   ],
   "source": [
    "warnings.simplefilter(action='ignore', category=FutureWarning)\n",
    "PATH = '/home/kai/data/kaggle/homecredit/'\n",
    "print('begin cv')\n",
    "target = train['TARGET']\n",
    "train_df = train.copy()\n",
    "test_df = test.copy()\n",
    "ignore_cols = ['ORGANIZATION_TYPE', 'TARGET', 'SK_ID_CURR']\n",
    "features = [x for x in train.columns if x not in ignore_cols]\n",
    "train = train[features]\n",
    "test = test[features]\n",
    "\n",
    "from sklearn.model_selection import StratifiedKFold\n",
    "from lightgbm import LGBMClassifier\n",
    "from sklearn.metrics import roc_auc_score\n",
    "import lightgbm as lgbm\n",
    "\n",
    "lgbm_train = lgbm.Dataset(data=train,\n",
    "                          label=target,\n",
    "\n",
    "                          categorical_feature=[],\n",
    "                          free_raw_data=False)\n",
    "\n",
    "lgbm_params = {\n",
    "    'task': 'train',\n",
    "    'boosting_type': 'gbdt',\n",
    "    'objective': 'binary',\n",
    "    'metric': 'auc',\n",
    "    'learning_rate': 0.02,\n",
    "    'num_iteration': 4000,\n",
    "    'num_threads': 8,\n",
    "\n",
    "    'num_leaves': int(round(44.368535336628419)),\n",
    "    'feature_fraction': 0.15,\n",
    "    'bagging_fraction': 0.94901525271474951,\n",
    "    'max_depth': int(round(8.0430115561596267)),\n",
    "    'lambda_l1': 0.30680079516647751,\n",
    "    'lambda_l2': 0.079128660903201031,\n",
    "    'min_split_gain': 0.054005067457890979,\n",
    "    'min_child_weight': 15.172643147364937}\n",
    "\n",
    "\n",
    "cv_results = lgbm.cv(train_set=lgbm_train,\n",
    "                     params=lgbm_params,\n",
    "                     nfold=5,\n",
    "                     early_stopping_rounds=150,\n",
    "                     verbose_eval=100,\n",
    "                     metrics=['auc'])\n",
    "\n",
    "optimum_boost_rounds = np.argmax(cv_results['auc-mean'])\n",
    "print('Optimum boost rounds = {}'.format(optimum_boost_rounds))\n",
    "print('Best CV result = {}'.format(np.max(cv_results['auc-mean'])))\n",
    "\n",
    "clf = lgbm.train(train_set=lgbm_train,\n",
    "                 params=lgbm_params,\n",
    "                 num_boost_round=optimum_boost_rounds,\n",
    "                verbose_eval=100)\n",
    "\n",
    "\"\"\" Predict on test set and create submission \"\"\"\n",
    "y_pred = clf.predict(train)\n",
    "out_df = pd.DataFrame({'SK_ID_CURR': train_df['SK_ID_CURR'], 'TARGET': y_pred})\n",
    "#     small_len = out_df[out_df['TARGET']< threshold1]\n",
    "#     large_len = out_df[out_df['TARGET']> threshold2]\n",
    "#     print('length of small and large,',len(small_len),len(large_len))\n",
    "print((out_df['TARGET']>0.5).sum(),'more than half')\n"
   ]
  },
  {
   "cell_type": "markdown",
   "metadata": {},
   "source": [
    "[200]\tcv_agg's auc: 0.761502 + 0.00093449\n",
    "[400]\tcv_agg's auc: 0.776604 + 0.00152328\n",
    "[600]\tcv_agg's auc: 0.785927 + 0.00168464\n",
    "[800]\tcv_agg's auc: 0.790588 + 0.00175235\n",
    "[1000]\tcv_agg's auc: 0.793122 + 0.00176305\n",
    "[1200]\tcv_agg's auc: 0.794645 + 0.00168944\n",
    "[1400]\tcv_agg's auc: 0.795628 + 0.00164546\n",
    "[1600]\tcv_agg's auc: 0.796271 + 0.0016294\n",
    "[1800]\tcv_agg's auc: 0.79667 + 0.00162439\n",
    "[2000]\tcv_agg's auc: 0.796976 + 0.00155727\n",
    "[2200]\tcv_agg's auc: 0.797135 + 0.00153155\n",
    "[2400]\tcv_agg's auc: 0.797296 + 0.00149684\n",
    "[2600]\tcv_agg's auc: 0.79741 + 0.00148\n",
    "[2800]\tcv_agg's auc: 0.797406 + 0.00144878"
   ]
  },
  {
   "cell_type": "markdown",
   "metadata": {},
   "source": [
    "baye paras/train with modified prev\"\n",
    "----------\n",
    "begin cv\n",
    "/home/kai/anaconda3/lib/python3.6/site-packages/lightgbm/engine.py:390: UserWarning: Found `num_iteration` in params. Will use it instead of argument\n",
    "  warnings.warn(\"Found `{}` in params. Will use it instead of argument\".format(alias))\n",
    "/home/kai/anaconda3/lib/python3.6/site-packages/lightgbm/basic.py:1027: UserWarning: Using categorical_feature in Dataset.\n",
    "  warnings.warn('Using categorical_feature in Dataset.')\n",
    "[100]\tcv_agg's auc: 0.780408 + 0.00290047\n",
    "[200]\tcv_agg's auc: 0.789804 + 0.00263968\n",
    "[300]\tcv_agg's auc: 0.792796 + 0.00252429\n",
    "[400]\tcv_agg's auc: 0.79391 + 0.00252326\n",
    "[500]\tcv_agg's auc: 0.794314 + 0.00242975\n",
    "[600]\tcv_agg's auc: 0.794392 + 0.00237447\n",
    "[700]\tcv_agg's auc: 0.794313 + 0.00234948\n",
    "Optimum boost rounds = 617\n",
    "Best CV result = 0.7944380747322322"
   ]
  },
  {
   "cell_type": "markdown",
   "metadata": {},
   "source": [
    "without std bayes para, 7788 (train with prev)\n",
    "with std bayes para, 7789 (train without prev)"
   ]
  },
  {
   "cell_type": "markdown",
   "metadata": {},
   "source": [
    "baseline bayes para, train only pre+: \n",
    "    [100]\tcv_agg's auc: 0.780408 + 0.00290047\n",
    "[200]\tcv_agg's auc: 0.789804 + 0.00263968\n",
    "[300]\tcv_agg's auc: 0.792796 + 0.00252429"
   ]
  },
  {
   "cell_type": "code",
   "execution_count": 8,
   "metadata": {
    "ExecuteTime": {
     "end_time": "2018-07-13T15:23:11.425487Z",
     "start_time": "2018-07-13T15:23:11.398074Z"
    }
   },
   "outputs": [
    {
     "data": {
      "text/plain": [
       "3274"
      ]
     },
     "execution_count": 8,
     "metadata": {},
     "output_type": "execute_result"
    }
   ],
   "source": [
    "(out_df['TARGET']>0.5).sum()\n",
    "# out_df.to_csv(PATH+'submission/06_29_0.csv', index = False)"
   ]
  },
  {
   "cell_type": "markdown",
   "metadata": {},
   "source": [
    "# AUC for train"
   ]
  },
  {
   "cell_type": "code",
   "execution_count": 12,
   "metadata": {
    "ExecuteTime": {
     "end_time": "2018-07-13T15:24:09.040064Z",
     "start_time": "2018-07-13T15:24:08.947173Z"
    }
   },
   "outputs": [],
   "source": [
    "out_df.rename(index= str, columns = {'TARGET': 'pred'}, inplace = True)"
   ]
  },
  {
   "cell_type": "code",
   "execution_count": 16,
   "metadata": {
    "ExecuteTime": {
     "end_time": "2018-07-13T15:25:58.374071Z",
     "start_time": "2018-07-13T15:25:50.604744Z"
    }
   },
   "outputs": [],
   "source": [
    "out_df.head()\n",
    "train = pd.read_csv(PATH + 'application_train.csv')\n",
    "train = train[['SK_ID_CURR', 'TARGET']]\n"
   ]
  },
  {
   "cell_type": "code",
   "execution_count": 17,
   "metadata": {
    "ExecuteTime": {
     "end_time": "2018-07-13T15:26:12.587206Z",
     "start_time": "2018-07-13T15:26:12.514784Z"
    }
   },
   "outputs": [],
   "source": [
    "out_df = out_df.merge(train, on = 'SK_ID_CURR', how = 'left')"
   ]
  },
  {
   "cell_type": "code",
   "execution_count": 20,
   "metadata": {
    "ExecuteTime": {
     "end_time": "2018-07-13T15:27:20.161767Z",
     "start_time": "2018-07-13T15:27:20.086096Z"
    }
   },
   "outputs": [],
   "source": [
    "pred_1 = out_df[out_df['TARGET'] == 1]\n",
    "pred_0 = out_df[out_df['TARGET'] == 0]"
   ]
  },
  {
   "cell_type": "code",
   "execution_count": 34,
   "metadata": {
    "ExecuteTime": {
     "end_time": "2018-07-13T15:34:44.274348Z",
     "start_time": "2018-07-13T15:34:44.266225Z"
    }
   },
   "outputs": [],
   "source": [
    "x = pred_1[pred_1.pred < 0.1]\n"
   ]
  },
  {
   "cell_type": "code",
   "execution_count": 43,
   "metadata": {
    "ExecuteTime": {
     "end_time": "2018-07-13T15:39:43.471389Z",
     "start_time": "2018-07-13T15:39:43.456069Z"
    }
   },
   "outputs": [
    {
     "data": {
      "text/plain": [
       "20064"
      ]
     },
     "execution_count": 43,
     "metadata": {},
     "output_type": "execute_result"
    }
   ],
   "source": [
    "pred_1 = out_df[out_df['TARGET'] == 1]\n",
    "y = pred_1[pred_1.pred >= 0.1]\n",
    "len(y)"
   ]
  },
  {
   "cell_type": "code",
   "execution_count": 45,
   "metadata": {
    "ExecuteTime": {
     "end_time": "2018-07-13T15:40:35.619234Z",
     "start_time": "2018-07-13T15:40:35.557585Z"
    }
   },
   "outputs": [
    {
     "data": {
      "text/html": [
       "<div>\n",
       "<style scoped>\n",
       "    .dataframe tbody tr th:only-of-type {\n",
       "        vertical-align: middle;\n",
       "    }\n",
       "\n",
       "    .dataframe tbody tr th {\n",
       "        vertical-align: top;\n",
       "    }\n",
       "\n",
       "    .dataframe thead th {\n",
       "        text-align: right;\n",
       "    }\n",
       "</style>\n",
       "<table border=\"1\" class=\"dataframe\">\n",
       "  <thead>\n",
       "    <tr style=\"text-align: right;\">\n",
       "      <th></th>\n",
       "      <th>0</th>\n",
       "    </tr>\n",
       "  </thead>\n",
       "  <tbody>\n",
       "    <tr>\n",
       "      <th>count</th>\n",
       "      <td>20064.000000</td>\n",
       "    </tr>\n",
       "    <tr>\n",
       "      <th>mean</th>\n",
       "      <td>724.617524</td>\n",
       "    </tr>\n",
       "    <tr>\n",
       "      <th>std</th>\n",
       "      <td>375.383666</td>\n",
       "    </tr>\n",
       "    <tr>\n",
       "      <th>min</th>\n",
       "      <td>22.000000</td>\n",
       "    </tr>\n",
       "    <tr>\n",
       "      <th>25%</th>\n",
       "      <td>447.000000</td>\n",
       "    </tr>\n",
       "    <tr>\n",
       "      <th>50%</th>\n",
       "      <td>749.000000</td>\n",
       "    </tr>\n",
       "    <tr>\n",
       "      <th>75%</th>\n",
       "      <td>853.000000</td>\n",
       "    </tr>\n",
       "    <tr>\n",
       "      <th>max</th>\n",
       "      <td>2214.000000</td>\n",
       "    </tr>\n",
       "  </tbody>\n",
       "</table>\n",
       "</div>"
      ],
      "text/plain": [
       "                  0\n",
       "count  20064.000000\n",
       "mean     724.617524\n",
       "std      375.383666\n",
       "min       22.000000\n",
       "25%      447.000000\n",
       "50%      749.000000\n",
       "75%      853.000000\n",
       "max     2214.000000"
      ]
     },
     "execution_count": 45,
     "metadata": {},
     "output_type": "execute_result"
    }
   ],
   "source": [
    "_df = pd.DataFrame(nan_list_1)\n",
    "_df.describe()"
   ]
  },
  {
   "cell_type": "code",
   "execution_count": 44,
   "metadata": {
    "ExecuteTime": {
     "end_time": "2018-07-13T15:40:20.483753Z",
     "start_time": "2018-07-13T15:39:47.549178Z"
    }
   },
   "outputs": [
    {
     "data": {
      "text/html": [
       "<div>\n",
       "<style scoped>\n",
       "    .dataframe tbody tr th:only-of-type {\n",
       "        vertical-align: middle;\n",
       "    }\n",
       "\n",
       "    .dataframe tbody tr th {\n",
       "        vertical-align: top;\n",
       "    }\n",
       "\n",
       "    .dataframe thead th {\n",
       "        text-align: right;\n",
       "    }\n",
       "</style>\n",
       "<table border=\"1\" class=\"dataframe\">\n",
       "  <thead>\n",
       "    <tr style=\"text-align: right;\">\n",
       "      <th></th>\n",
       "      <th>0</th>\n",
       "    </tr>\n",
       "  </thead>\n",
       "  <tbody>\n",
       "    <tr>\n",
       "      <th>count</th>\n",
       "      <td>4761.000000</td>\n",
       "    </tr>\n",
       "    <tr>\n",
       "      <th>mean</th>\n",
       "      <td>801.951061</td>\n",
       "    </tr>\n",
       "    <tr>\n",
       "      <th>std</th>\n",
       "      <td>372.986149</td>\n",
       "    </tr>\n",
       "    <tr>\n",
       "      <th>min</th>\n",
       "      <td>57.000000</td>\n",
       "    </tr>\n",
       "    <tr>\n",
       "      <th>25%</th>\n",
       "      <td>622.000000</td>\n",
       "    </tr>\n",
       "    <tr>\n",
       "      <th>50%</th>\n",
       "      <td>772.000000</td>\n",
       "    </tr>\n",
       "    <tr>\n",
       "      <th>75%</th>\n",
       "      <td>870.000000</td>\n",
       "    </tr>\n",
       "    <tr>\n",
       "      <th>max</th>\n",
       "      <td>2214.000000</td>\n",
       "    </tr>\n",
       "  </tbody>\n",
       "</table>\n",
       "</div>"
      ],
      "text/plain": [
       "                 0\n",
       "count  4761.000000\n",
       "mean    801.951061\n",
       "std     372.986149\n",
       "min      57.000000\n",
       "25%     622.000000\n",
       "50%     772.000000\n",
       "75%     870.000000\n",
       "max    2214.000000"
      ]
     },
     "execution_count": 44,
     "metadata": {},
     "output_type": "execute_result"
    }
   ],
   "source": [
    "y = y.merge(train_ori, on = 'SK_ID_CURR', how = 'left')\n",
    "nan_list_1 = []\n",
    "for i in range(y.shape[0]):\n",
    "    nan_list_1.append(y.loc[i].isnull().sum())\n"
   ]
  },
  {
   "cell_type": "code",
   "execution_count": 35,
   "metadata": {
    "ExecuteTime": {
     "end_time": "2018-07-13T15:34:54.067837Z",
     "start_time": "2018-07-13T15:34:44.628280Z"
    }
   },
   "outputs": [],
   "source": [
    "train_ori = pd.read_pickle(PATH +'train_bo0.pkl')\n",
    "x = x.merge(train_ori, on = 'SK_ID_CURR', how = 'left')"
   ]
  },
  {
   "cell_type": "code",
   "execution_count": 38,
   "metadata": {
    "ExecuteTime": {
     "end_time": "2018-07-13T15:36:21.552681Z",
     "start_time": "2018-07-13T15:36:15.573172Z"
    }
   },
   "outputs": [],
   "source": [
    "nan_list = []\n",
    "for i in range(x.shape[0]):\n",
    "    nan_list.append(x.loc[i].isnull().sum())"
   ]
  },
  {
   "cell_type": "code",
   "execution_count": 40,
   "metadata": {
    "ExecuteTime": {
     "end_time": "2018-07-13T15:36:41.695685Z",
     "start_time": "2018-07-13T15:36:41.669300Z"
    }
   },
   "outputs": [],
   "source": [
    "df = pd.DataFrame(nan_list)"
   ]
  },
  {
   "cell_type": "code",
   "execution_count": 48,
   "metadata": {
    "ExecuteTime": {
     "end_time": "2018-07-13T15:48:17.939940Z",
     "start_time": "2018-07-13T15:48:06.998790Z"
    }
   },
   "outputs": [],
   "source": [
    "train = pd.read_csv(PATH + 'application_train.csv')\n",
    "test = pd.read_csv(PATH + 'application_test.csv')\n",
    "inst = pd.read_csv(PATH + 'installments_payments.csv')"
   ]
  },
  {
   "cell_type": "code",
   "execution_count": 49,
   "metadata": {
    "ExecuteTime": {
     "end_time": "2018-07-13T15:49:11.299855Z",
     "start_time": "2018-07-13T15:49:10.171572Z"
    }
   },
   "outputs": [],
   "source": [
    "df = pd.concat([train,test],axis = 0)\n",
    "set1 = set(df.SK_ID_CURR)\n",
    "set_train = set(train.SK_ID_CURR)\n",
    "set_test = set(test.SK_ID_CURR)"
   ]
  },
  {
   "cell_type": "code",
   "execution_count": 51,
   "metadata": {
    "ExecuteTime": {
     "end_time": "2018-07-13T15:50:26.888489Z",
     "start_time": "2018-07-13T15:50:26.829243Z"
    }
   },
   "outputs": [],
   "source": []
  },
  {
   "cell_type": "code",
   "execution_count": 58,
   "metadata": {
    "ExecuteTime": {
     "end_time": "2018-07-13T15:55:36.832156Z",
     "start_time": "2018-07-13T15:55:36.711155Z"
    },
    "scrolled": true
   },
   "outputs": [
    {
     "name": "stdout",
     "output_type": "stream",
     "text": [
      "(356255, 818)\n",
      "1.0 1.0 1.0\n",
      "(356255, 137)\n",
      "1.0 1.0 1.0\n",
      "(339587, 261)\n",
      "0.9483985938714388 0.9835877236172658 0.9532132882345511\n",
      "(356255, 554)\n",
      "1.0 1.0 1.0\n"
     ]
    }
   ],
   "source": [
    "for sub in [prev, pos, install, bureau]:\n",
    "    set_sub = set(sub.SK_ID_CURR)\n",
    "    pct_train = 1 - len(set_train - set_sub)/len(set_train)\n",
    "    pct_test = 1 - len(set_test - set_sub)/len(set_test)\n",
    "    pct_all = 1 - len(set1 - set_sub)/len(set1)\n",
    "    print(sub.shape)\n",
    "    print((pct_train),( pct_test),( pct_all))"
   ]
  },
  {
   "cell_type": "code",
   "execution_count": 1,
   "metadata": {
    "ExecuteTime": {
     "end_time": "2018-07-13T17:51:44.462121Z",
     "start_time": "2018-07-13T17:51:44.010303Z"
    }
   },
   "outputs": [],
   "source": [
    "import os\n",
    "import numpy as np\n",
    "import pandas as pd\n",
    "import gc\n",
    "import time\n",
    "from contextlib import contextmanager\n",
    "from lightgbm import LGBMClassifier\n",
    "from sklearn.metrics import roc_auc_score, roc_curve\n",
    "from sklearn.model_selection import KFold, StratifiedKFold\n",
    "import matplotlib.pyplot as plt\n",
    "import seaborn as sns\n",
    "import warnings\n",
    "PATH = '/home/kai/data/kaggle/homecredit/'\n"
   ]
  },
  {
   "cell_type": "code",
   "execution_count": 2,
   "metadata": {
    "ExecuteTime": {
     "end_time": "2018-07-13T17:51:52.242351Z",
     "start_time": "2018-07-13T17:51:44.906004Z"
    }
   },
   "outputs": [
    {
     "name": "stdout",
     "output_type": "stream",
     "text": [
      "(356255, 818)\n",
      "(356255, 137)\n",
      "(339587, 261)\n",
      "(356255, 554)\n"
     ]
    }
   ],
   "source": [
    "train = pd.read_csv(PATH + 'application_train.csv')\n",
    "test = pd.read_csv(PATH + 'application_test.csv')\n",
    "prev = pd.read_pickle(PATH + 'test/prev2curr_0.pkl')\n",
    "print(prev.shape)\n",
    "pos = pd.read_pickle(PATH +'test/pos/all_agg.pkl')\n",
    "print(pos.shape)\n",
    "install = pd.read_pickle(PATH + 'inter/brandnew_inst2curr_with_days.pkl')\n",
    "print(install.shape)\n",
    "bureau = pd.read_pickle(PATH + 'inter/bureau2curr.pkl')\n",
    "print(bureau.shape)"
   ]
  },
  {
   "cell_type": "code",
   "execution_count": 3,
   "metadata": {
    "ExecuteTime": {
     "end_time": "2018-07-13T17:52:05.625339Z",
     "start_time": "2018-07-13T17:51:54.052082Z"
    }
   },
   "outputs": [
    {
     "name": "stdout",
     "output_type": "stream",
     "text": [
      "356255\n",
      "338857\n",
      "356255\n",
      "337252\n",
      "339587\n",
      "339587\n",
      "356255\n",
      "305811\n"
     ]
    }
   ],
   "source": [
    "for sub in [prev,pos,install,bureau]:\n",
    "    print(sub.shape[0])\n",
    "    tmp = sub.isnull().sum(axis=1) == sub.shape[1]-1\n",
    "    sub = sub[~tmp]\n",
    "    print(sub.shape[0])"
   ]
  },
  {
   "cell_type": "code",
   "execution_count": 4,
   "metadata": {
    "ExecuteTime": {
     "end_time": "2018-07-13T17:52:10.038743Z",
     "start_time": "2018-07-13T17:52:07.883765Z"
    }
   },
   "outputs": [
    {
     "name": "stderr",
     "output_type": "stream",
     "text": [
      "/home/kai/anaconda3/lib/python3.6/site-packages/ipykernel_launcher.py:1: FutureWarning: Sorting because non-concatenation axis is not aligned. A future version\n",
      "of pandas will change to not sort by default.\n",
      "\n",
      "To accept the future behavior, pass 'sort=True'.\n",
      "\n",
      "To retain the current behavior and silence the warning, pass sort=False\n",
      "\n",
      "  \"\"\"Entry point for launching an IPython kernel.\n"
     ]
    }
   ],
   "source": [
    "df = pd.concat([train,test],axis = 0)\n",
    "prev = prev.merge(df[['SK_ID_CURR', 'TARGET']], on = 'SK_ID_CURR', how = 'left')"
   ]
  },
  {
   "cell_type": "code",
   "execution_count": 5,
   "metadata": {
    "ExecuteTime": {
     "end_time": "2018-07-13T17:52:13.251819Z",
     "start_time": "2018-07-13T17:52:11.933518Z"
    }
   },
   "outputs": [],
   "source": [
    "install_train = prev[~prev.TARGET.isnull()]\n",
    "install_test = prev[prev.TARGET.isnull()]\n"
   ]
  },
  {
   "cell_type": "code",
   "execution_count": 6,
   "metadata": {
    "ExecuteTime": {
     "end_time": "2018-07-13T17:52:15.612150Z",
     "start_time": "2018-07-13T17:52:15.518998Z"
    }
   },
   "outputs": [
    {
     "name": "stdout",
     "output_type": "stream",
     "text": [
      "(48744, 819) (307511, 819)\n"
     ]
    },
    {
     "name": "stderr",
     "output_type": "stream",
     "text": [
      "/home/kai/anaconda3/lib/python3.6/site-packages/pandas/core/frame.py:3694: SettingWithCopyWarning: \n",
      "A value is trying to be set on a copy of a slice from a DataFrame\n",
      "\n",
      "See the caveats in the documentation: http://pandas.pydata.org/pandas-docs/stable/indexing.html#indexing-view-versus-copy\n",
      "  errors=errors)\n"
     ]
    }
   ],
   "source": [
    "print(install_test.shape, install_train.shape)\n",
    "install_test.drop('TARGET', axis = 1, inplace = True)"
   ]
  },
  {
   "cell_type": "code",
   "execution_count": 7,
   "metadata": {
    "ExecuteTime": {
     "end_time": "2018-07-13T17:52:17.985962Z",
     "start_time": "2018-07-13T17:52:17.855585Z"
    }
   },
   "outputs": [],
   "source": [
    "install_test.shape\n",
    "train = install_train.copy()\n",
    "test = install_test.copy()"
   ]
  },
  {
   "cell_type": "code",
   "execution_count": 8,
   "metadata": {
    "ExecuteTime": {
     "end_time": "2018-07-13T18:17:43.502817Z",
     "start_time": "2018-07-13T17:52:20.693489Z"
    },
    "scrolled": false
   },
   "outputs": [
    {
     "name": "stdout",
     "output_type": "stream",
     "text": [
      "begin cv\n"
     ]
    },
    {
     "name": "stderr",
     "output_type": "stream",
     "text": [
      "/home/kai/anaconda3/lib/python3.6/site-packages/lightgbm/engine.py:390: UserWarning: Found `num_iteration` in params. Will use it instead of argument\n",
      "  warnings.warn(\"Found `{}` in params. Will use it instead of argument\".format(alias))\n",
      "/home/kai/anaconda3/lib/python3.6/site-packages/lightgbm/basic.py:1027: UserWarning: Using categorical_feature in Dataset.\n",
      "  warnings.warn('Using categorical_feature in Dataset.')\n"
     ]
    },
    {
     "name": "stdout",
     "output_type": "stream",
     "text": [
      "[100]\tcv_agg's auc: 0.658768 + 0.00301936\n",
      "[200]\tcv_agg's auc: 0.668822 + 0.0030365\n",
      "[300]\tcv_agg's auc: 0.67493 + 0.00271127\n",
      "[400]\tcv_agg's auc: 0.677349 + 0.0026052\n",
      "[500]\tcv_agg's auc: 0.678367 + 0.00248099\n",
      "[600]\tcv_agg's auc: 0.678685 + 0.00257788\n",
      "[700]\tcv_agg's auc: 0.678713 + 0.00252441\n",
      "Optimum boost rounds = 626\n",
      "Best CV result = 0.6788244839523253\n"
     ]
    },
    {
     "name": "stderr",
     "output_type": "stream",
     "text": [
      "/home/kai/anaconda3/lib/python3.6/site-packages/lightgbm/basic.py:1027: UserWarning: Using categorical_feature in Dataset.\n",
      "  warnings.warn('Using categorical_feature in Dataset.')\n"
     ]
    },
    {
     "name": "stdout",
     "output_type": "stream",
     "text": [
      "6 more than half\n"
     ]
    }
   ],
   "source": [
    "warnings.simplefilter(action='ignore', category=FutureWarning)\n",
    "PATH = '/home/kai/data/kaggle/homecredit/'\n",
    "print('begin cv')\n",
    "target = train['TARGET']\n",
    "test_df = test.copy()\n",
    "ignore_cols = ['ORGANIZATION_TYPE', 'TARGET', 'SK_ID_CURR']\n",
    "features = [x for x in train.columns if x not in ignore_cols]\n",
    "train = train[features]\n",
    "test = test[features]\n",
    "\n",
    "from sklearn.model_selection import StratifiedKFold\n",
    "from lightgbm import LGBMClassifier\n",
    "from sklearn.metrics import roc_auc_score\n",
    "import lightgbm as lgbm\n",
    "\n",
    "lgbm_train = lgbm.Dataset(data=train,\n",
    "                          label=target,\n",
    "\n",
    "                          categorical_feature=[],#categorical_feats,\n",
    "                          free_raw_data=False)\n",
    "\n",
    "lgbm_params = {\n",
    "    'task': 'train',\n",
    "    'boosting_type': 'gbdt',\n",
    "    'objective': 'binary',\n",
    "    'metric': 'auc',\n",
    "    'learning_rate': 0.02,\n",
    "    'num_iteration': 4000,\n",
    "    'num_threads': 8,\n",
    "\n",
    "    'num_leaves': int(round(44.368535336628419)),\n",
    "    'feature_fraction': 0.15,\n",
    "    'bagging_fraction': 0.94901525271474951,\n",
    "    'max_depth': int(round(8.0430115561596267)),\n",
    "    'lambda_l1': 0.30680079516647751,\n",
    "    'lambda_l2': 0.079128660903201031,\n",
    "    'min_split_gain': 0.054005067457890979,\n",
    "    'min_child_weight': 15.172643147364937,\n",
    "    'scall_pos_weight': 15\n",
    "}\n",
    "\n",
    "\n",
    "cv_results = lgbm.cv(train_set=lgbm_train,\n",
    "                     params=lgbm_params,\n",
    "                     nfold=5,\n",
    "                     early_stopping_rounds=150,\n",
    "                     verbose_eval=100,\n",
    "                     metrics=['auc'])\n",
    "\n",
    "optimum_boost_rounds = np.argmax(cv_results['auc-mean'])\n",
    "print('Optimum boost rounds = {}'.format(optimum_boost_rounds))\n",
    "print('Best CV result = {}'.format(np.max(cv_results['auc-mean'])))\n",
    "\n",
    "clf = lgbm.train(train_set=lgbm_train,\n",
    "                 params=lgbm_params,\n",
    "                 num_boost_round=optimum_boost_rounds,\n",
    "                verbose_eval=100)\n",
    "\n",
    "\"\"\" Predict on test set and create submission \"\"\"\n",
    "y_pred = clf.predict(test)\n",
    "out_df = pd.DataFrame({'SK_ID_CURR': test_df['SK_ID_CURR'], 'TARGET': y_pred})\n",
    "print((out_df['TARGET']>0.5).sum(),'more than half')\n"
   ]
  },
  {
   "cell_type": "code",
   "execution_count": 9,
   "metadata": {
    "ExecuteTime": {
     "end_time": "2018-07-13T17:44:57.299820Z",
     "start_time": "2018-07-13T17:44:50.145989Z"
    }
   },
   "outputs": [],
   "source": [
    "y_pred = clf.predict(train)\n",
    "train = pd.read_csv(PATH + 'application_train.csv')\n",
    "out_df0 = pd.DataFrame({'SK_ID_CURR': train['SK_ID_CURR'], 'TARGET': y_pred})"
   ]
  },
  {
   "cell_type": "code",
   "execution_count": 10,
   "metadata": {
    "ExecuteTime": {
     "end_time": "2018-07-13T17:45:01.922347Z",
     "start_time": "2018-07-13T17:44:58.985226Z"
    }
   },
   "outputs": [],
   "source": [
    "out_df0.rename(index= str, columns = {'TARGET': 'pred'}, inplace = True)\n",
    "out_df0.head()\n",
    "train = pd.read_csv(PATH + 'application_train.csv')\n",
    "train = train[['SK_ID_CURR', 'TARGET']]\n",
    "out_df0 = out_df0.merge(train, on = 'SK_ID_CURR', how = 'left')\n",
    "pred_1 = out_df0[out_df0['TARGET'] == 1]\n",
    "pred_0 = out_df0[out_df0['TARGET'] == 0] "
   ]
  },
  {
   "cell_type": "code",
   "execution_count": 11,
   "metadata": {
    "ExecuteTime": {
     "end_time": "2018-07-13T17:45:03.613785Z",
     "start_time": "2018-07-13T17:45:03.419341Z"
    }
   },
   "outputs": [
    {
     "data": {
      "text/plain": [
       "<matplotlib.axes._subplots.AxesSubplot at 0x7f4b96072860>"
      ]
     },
     "execution_count": 11,
     "metadata": {},
     "output_type": "execute_result"
    },
    {
     "data": {
      "image/png": "[encoded data removed]",
      "text/plain": [
       "<Figure size 864x864 with 1 Axes>"
      ]
     },
     "metadata": {},
     "output_type": "display_data"
    }
   ],
   "source": [
    "import matplotlib.pyplot as plt\n",
    "import seaborn as sns\n",
    "\n",
    "plt.figure(figsize = (12,12))\n",
    "sns.kdeplot(pred_1['pred'], label = 'TARGET = 1')\n",
    "sns.kdeplot(pred_0['pred'], label = 'TARGET = 0')"
   ]
  },
  {
   "cell_type": "code",
   "execution_count": null,
   "metadata": {
    "ExecuteTime": {
     "start_time": "2018-07-12T18:08:38.960Z"
    },
    "scrolled": false
   },
   "outputs": [],
   "source": [
    "import matplotlib.pyplot as plt\n",
    "from sklearn.model_selection import StratifiedKFold\n",
    "from lightgbm import LGBMClassifier\n",
    "from sklearn.metrics import roc_auc_score\n",
    "import lightgbm as lgbm\n",
    "fig, (ax, ax1) = plt.subplots(1, 2, figsize=[15, 7])\n",
    "lgbm.plot_importance(clf, ax=ax, max_num_features=30, importance_type='split')\n",
    "lgbm.plot_importance(clf, ax=ax1, max_num_features=30, importance_type='gain')\n",
    "ax.set_title('Importance by splits')\n",
    "ax1.set_title('Importance by gain')\n",
    "plt.tight_layout()\n",
    "plt.show()\n",
    "\n",
    "x = [x for x in zip(clf.feature_name(), clf.feature_importance('gain'))]\n",
    "x.sort(key=lambda x: x[1], reverse=True)\n",
    "x = [(i, j) for i, j in enumerate(x)]\n",
    "x\n"
   ]
  },
  {
   "cell_type": "code",
   "execution_count": null,
   "metadata": {
    "ExecuteTime": {
     "start_time": "2018-07-12T18:08:38.961Z"
    }
   },
   "outputs": [],
   "source": [
    "\n",
    "x = [x for x in zip(clf.feature_name(), clf.feature_importance('split'))]\n",
    "x.sort(key=lambda x: x[1], reverse=True)\n",
    "x = [(i, j) for i, j in enumerate(x)]\n",
    "x"
   ]
  }
 ],
 "metadata": {
  "kernelspec": {
   "display_name": "Python 3",
   "language": "python",
   "name": "python3"
  },
  "language_info": {
   "codemirror_mode": {
    "name": "ipython",
    "version": 3
   },
   "file_extension": ".py",
   "mimetype": "text/x-python",
   "name": "python",
   "nbconvert_exporter": "python",
   "pygments_lexer": "ipython3",
   "version": "3.6.5"
  },
  "varInspector": {
   "cols": {
    "lenName": 16,
    "lenType": 16,
    "lenVar": 40
   },
   "kernels_config": {
    "python": {
     "delete_cmd_postfix": "",
     "delete_cmd_prefix": "del ",
     "library": "var_list.py",
     "varRefreshCmd": "print(var_dic_list())"
    },
    "r": {
     "delete_cmd_postfix": ") ",
     "delete_cmd_prefix": "rm(",
     "library": "var_list.r",
     "varRefreshCmd": "cat(var_dic_list()) "
    }
   },
   "types_to_exclude": [
    "module",
    "function",
    "builtin_function_or_method",
    "instance",
    "_Feature"
   ],
   "window_display": false
  }
 },
 "nbformat": 4,
 "nbformat_minor": 2
}
