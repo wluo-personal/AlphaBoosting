{
 "cells": [
  {
   "cell_type": "code",
   "execution_count": 5,
   "metadata": {
    "ExecuteTime": {
     "end_time": "2018-06-14T20:35:01.185218Z",
     "start_time": "2018-06-14T20:34:53.822268Z"
    }
   },
   "outputs": [
    {
     "name": "stdout",
     "output_type": "stream",
     "text": [
      "train\n",
      "test\n",
      "train\n",
      "test\n"
     ]
    }
   ],
   "source": [
    "import pandas as pd\n",
    "\n",
    "PATH = '/home/kai/data/kaggle/homecredit/'\n",
    "\n",
    "train_b = pd.read_pickle(PATH + 'train_cleaned_bureau_final.pkl')\n",
    "print('train')\n",
    "test_b = pd.read_pickle(PATH + 'test_cleaned_bureau_final.pkl')\n",
    "print('test')\n",
    "\n",
    "train_p = pd.read_pickle(PATH + 'train_total.pkl')\n",
    "print('train')\n",
    "test_p = pd.read_pickle(PATH + 'test_total.pkl')\n",
    "print('test')"
   ]
  },
  {
   "cell_type": "code",
   "execution_count": 10,
   "metadata": {
    "ExecuteTime": {
     "end_time": "2018-06-14T20:36:21.208511Z",
     "start_time": "2018-06-14T20:36:21.196175Z"
    },
    "collapsed": true
   },
   "outputs": [],
   "source": [
    "inter = set(train_b.columns) - set(train_p.columns)"
   ]
  },
  {
   "cell_type": "code",
   "execution_count": 11,
   "metadata": {
    "ExecuteTime": {
     "end_time": "2018-06-14T20:36:22.808779Z",
     "start_time": "2018-06-14T20:36:22.799779Z"
    }
   },
   "outputs": [
    {
     "name": "stdout",
     "output_type": "stream",
     "text": [
      "{'bureau_STATUS_X_std', 'bureau_STATUS_3_mean', 'bureau_STATUS_1_mean', 'bureau_STATUS_4_mean', 'bureau_STATUS_2_min', 'bureau_STATUS_0_std', 'bureau_STATUS_4_std', 'bureau_STATUS_X_max', 'bureau_STATUS_C_std', 'bureau_STATUS_3_std', 'bureau_STATUS_C_max', 'bureau_STATUS_3_max', 'bureau_STATUS_2_mean', 'bureau_STATUS_X_mean', 'bureau_STATUS_5_std', 'bureau_STATUS_1_std', 'bureau_STATUS_4_max', 'bureau_STATUS_5_mean', 'bureau_STATUS_5_max', 'bureau_STATUS_0_max', 'bureau_STATUS_1_max', 'bureau_STATUS_2_std', 'bureau_STATUS_X_min', 'bureau_STATUS_C_mean', 'bureau_STATUS_3_min', 'bureau_STATUS_0_mean', 'bureau_STATUS_2_max', 'bureau_STATUS_5_min', 'bureau_STATUS_C_min', 'bureau_STATUS_1_min', 'bureau_STATUS_0_min', 'bureau_STATUS_4_min'}\n"
     ]
    }
   ],
   "source": [
    "print(inter)"
   ]
  },
  {
   "cell_type": "code",
   "execution_count": 12,
   "metadata": {
    "ExecuteTime": {
     "end_time": "2018-06-14T20:38:15.753866Z",
     "start_time": "2018-06-14T20:38:06.402830Z"
    }
   },
   "outputs": [
    {
     "name": "stdout",
     "output_type": "stream",
     "text": [
      "bureau_STATUS_X_std\n",
      "bureau_STATUS_3_mean\n",
      "bureau_STATUS_1_mean\n",
      "bureau_STATUS_4_mean\n",
      "bureau_STATUS_2_min\n",
      "bureau_STATUS_0_std\n",
      "bureau_STATUS_4_std\n",
      "bureau_STATUS_X_max\n",
      "bureau_STATUS_C_std\n",
      "bureau_STATUS_3_std\n",
      "bureau_STATUS_C_max\n",
      "bureau_STATUS_3_max\n",
      "bureau_STATUS_2_mean\n",
      "bureau_STATUS_X_mean\n",
      "bureau_STATUS_5_std\n",
      "bureau_STATUS_1_std\n",
      "bureau_STATUS_4_max\n",
      "bureau_STATUS_5_mean\n",
      "bureau_STATUS_5_max\n",
      "bureau_STATUS_0_max\n",
      "bureau_STATUS_1_max\n",
      "bureau_STATUS_2_std\n",
      "bureau_STATUS_X_min\n",
      "bureau_STATUS_C_mean\n",
      "bureau_STATUS_3_min\n",
      "bureau_STATUS_0_mean\n",
      "bureau_STATUS_2_max\n",
      "bureau_STATUS_5_min\n",
      "bureau_STATUS_C_min\n",
      "bureau_STATUS_1_min\n",
      "bureau_STATUS_0_min\n",
      "bureau_STATUS_4_min\n"
     ]
    }
   ],
   "source": [
    "for x in inter:\n",
    "    train_p[x] = train_b[x]\n",
    "    test_p[x] = test_b[x]\n",
    "    print(x)\n",
    "    \n",
    "train_p.to_pickle(PATH + 'train_merged.pkl')\n",
    "test_p.to_pickle(PATH + 'test_merged.pkl')"
   ]
  },
  {
   "cell_type": "code",
   "execution_count": null,
   "metadata": {
    "collapsed": true
   },
   "outputs": [],
   "source": []
  }
 ],
 "metadata": {
  "kernelspec": {
   "display_name": "Python 3",
   "language": "python",
   "name": "python3"
  },
  "language_info": {
   "codemirror_mode": {
    "name": "ipython",
    "version": 3
   },
   "file_extension": ".py",
   "mimetype": "text/x-python",
   "name": "python",
   "nbconvert_exporter": "python",
   "pygments_lexer": "ipython3",
   "version": "3.6.3"
  },
  "varInspector": {
   "cols": {
    "lenName": 16,
    "lenType": 16,
    "lenVar": 40
   },
   "kernels_config": {
    "python": {
     "delete_cmd_postfix": "",
     "delete_cmd_prefix": "del ",
     "library": "var_list.py",
     "varRefreshCmd": "print(var_dic_list())"
    },
    "r": {
     "delete_cmd_postfix": ") ",
     "delete_cmd_prefix": "rm(",
     "library": "var_list.r",
     "varRefreshCmd": "cat(var_dic_list()) "
    }
   },
   "types_to_exclude": [
    "module",
    "function",
    "builtin_function_or_method",
    "instance",
    "_Feature"
   ],
   "window_display": false
  }
 },
 "nbformat": 4,
 "nbformat_minor": 2
}
