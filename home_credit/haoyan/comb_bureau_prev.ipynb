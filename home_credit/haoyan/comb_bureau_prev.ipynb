{
 "cells": [
  {
   "cell_type": "code",
   "execution_count": 1,
   "metadata": {
    "ExecuteTime": {
     "end_time": "2018-06-16T10:29:51.594571Z",
     "start_time": "2018-06-16T10:29:48.847915Z"
    }
   },
   "outputs": [
    {
     "name": "stdout",
     "output_type": "stream",
     "text": [
      "train\n",
      "test\n",
      "train\n",
      "test\n"
     ]
    }
   ],
   "source": [
    "import pandas as pd\n",
    "\n",
    "PATH = '/home/kai/data/kaggle/homecredit/'\n",
    "\n",
    "train_b = pd.read_pickle(PATH + 'train_cleaned_bureau_final.pkl')\n",
    "print('train')\n",
    "test_b = pd.read_pickle(PATH + 'test_cleaned_bureau_final.pkl')\n",
    "print('test')\n",
    "\n",
    "train_p = pd.read_pickle(PATH + 'train_total.pkl')\n",
    "print('train')\n",
    "test_p = pd.read_pickle(PATH + 'test_total.pkl')\n",
    "print('test')"
   ]
  },
  {
   "cell_type": "code",
   "execution_count": 8,
   "metadata": {
    "ExecuteTime": {
     "end_time": "2018-06-16T10:30:34.653933Z",
     "start_time": "2018-06-16T10:30:34.646565Z"
    }
   },
   "outputs": [
    {
     "data": {
      "text/plain": [
       "{'bureau_STATUS_0_max',\n",
       " 'bureau_STATUS_0_mean',\n",
       " 'bureau_STATUS_0_min',\n",
       " 'bureau_STATUS_0_std',\n",
       " 'bureau_STATUS_1_max',\n",
       " 'bureau_STATUS_1_mean',\n",
       " 'bureau_STATUS_1_min',\n",
       " 'bureau_STATUS_1_std',\n",
       " 'bureau_STATUS_2_max',\n",
       " 'bureau_STATUS_2_mean',\n",
       " 'bureau_STATUS_2_min',\n",
       " 'bureau_STATUS_2_std',\n",
       " 'bureau_STATUS_3_max',\n",
       " 'bureau_STATUS_3_mean',\n",
       " 'bureau_STATUS_3_min',\n",
       " 'bureau_STATUS_3_std',\n",
       " 'bureau_STATUS_4_max',\n",
       " 'bureau_STATUS_4_mean',\n",
       " 'bureau_STATUS_4_min',\n",
       " 'bureau_STATUS_4_std',\n",
       " 'bureau_STATUS_5_max',\n",
       " 'bureau_STATUS_5_mean',\n",
       " 'bureau_STATUS_5_min',\n",
       " 'bureau_STATUS_5_std',\n",
       " 'bureau_STATUS_C_max',\n",
       " 'bureau_STATUS_C_mean',\n",
       " 'bureau_STATUS_C_min',\n",
       " 'bureau_STATUS_C_std',\n",
       " 'bureau_STATUS_X_max',\n",
       " 'bureau_STATUS_X_mean',\n",
       " 'bureau_STATUS_X_min',\n",
       " 'bureau_STATUS_X_std'}"
      ]
     },
     "execution_count": 8,
     "metadata": {},
     "output_type": "execute_result"
    }
   ],
   "source": [
    "inter = set(train_b.columns) - set(train_p.columns)\n",
    "inter"
   ]
  },
  {
   "cell_type": "code",
   "execution_count": 9,
   "metadata": {
    "ExecuteTime": {
     "end_time": "2018-06-16T10:30:45.608196Z",
     "start_time": "2018-06-16T10:30:45.600686Z"
    }
   },
   "outputs": [
    {
     "name": "stdout",
     "output_type": "stream",
     "text": [
      "['bureau_bureau_balance_lg_normalized_coef_max', 'bureau_bureau_balance_lg_normalized_coef_min', 'bureau_bureau_balance_lg_normalized_coef_std', 'bureau_bureau_balance_lg_normalized_coef_mean', 'bureau_bureau_balance_lg_coef_max', 'bureau_bureau_balance_lg_coef_min', 'bureau_bureau_balance_lg_coef_std', 'bureau_bureau_balance_lg_coef_mean']\n"
     ]
    }
   ],
   "source": [
    "y = []\n",
    "for x in train_b.columns:\n",
    "    if 'lg_'in x:\n",
    "        y.append(x)\n",
    "print(y)"
   ]
  },
  {
   "cell_type": "code",
   "execution_count": 10,
   "metadata": {
    "ExecuteTime": {
     "end_time": "2018-06-16T10:30:57.701056Z",
     "start_time": "2018-06-16T10:30:57.693973Z"
    }
   },
   "outputs": [
    {
     "data": {
      "text/plain": [
       "['bureau_STATUS_X_std',\n",
       " 'bureau_STATUS_3_min',\n",
       " 'bureau_STATUS_4_max',\n",
       " 'bureau_STATUS_5_mean',\n",
       " 'bureau_STATUS_5_max',\n",
       " 'bureau_STATUS_2_mean',\n",
       " 'bureau_STATUS_1_min',\n",
       " 'bureau_STATUS_1_max',\n",
       " 'bureau_STATUS_0_min',\n",
       " 'bureau_STATUS_C_min',\n",
       " 'bureau_STATUS_C_std',\n",
       " 'bureau_STATUS_X_max',\n",
       " 'bureau_STATUS_2_max',\n",
       " 'bureau_STATUS_3_std',\n",
       " 'bureau_STATUS_3_mean',\n",
       " 'bureau_STATUS_5_min',\n",
       " 'bureau_STATUS_5_std',\n",
       " 'bureau_STATUS_X_min',\n",
       " 'bureau_STATUS_0_mean',\n",
       " 'bureau_STATUS_0_max',\n",
       " 'bureau_STATUS_C_max',\n",
       " 'bureau_STATUS_1_mean',\n",
       " 'bureau_STATUS_4_std',\n",
       " 'bureau_STATUS_2_std',\n",
       " 'bureau_STATUS_C_mean',\n",
       " 'bureau_STATUS_X_mean',\n",
       " 'bureau_STATUS_2_min',\n",
       " 'bureau_STATUS_0_std',\n",
       " 'bureau_STATUS_4_mean',\n",
       " 'bureau_STATUS_1_std',\n",
       " 'bureau_STATUS_3_max',\n",
       " 'bureau_STATUS_4_min',\n",
       " 'bureau_bureau_balance_lg_normalized_coef_max',\n",
       " 'bureau_bureau_balance_lg_normalized_coef_min',\n",
       " 'bureau_bureau_balance_lg_normalized_coef_std',\n",
       " 'bureau_bureau_balance_lg_normalized_coef_mean',\n",
       " 'bureau_bureau_balance_lg_coef_max',\n",
       " 'bureau_bureau_balance_lg_coef_min',\n",
       " 'bureau_bureau_balance_lg_coef_std',\n",
       " 'bureau_bureau_balance_lg_coef_mean']"
      ]
     },
     "execution_count": 10,
     "metadata": {},
     "output_type": "execute_result"
    }
   ],
   "source": [
    "interr = list(inter) + y\n",
    "interr"
   ]
  },
  {
   "cell_type": "code",
   "execution_count": 11,
   "metadata": {
    "ExecuteTime": {
     "end_time": "2018-06-16T10:31:12.367158Z",
     "start_time": "2018-06-16T10:31:12.360343Z"
    }
   },
   "outputs": [
    {
     "data": {
      "text/plain": [
       "{'bureau_STATUS_0_max',\n",
       " 'bureau_STATUS_0_mean',\n",
       " 'bureau_STATUS_0_min',\n",
       " 'bureau_STATUS_0_std',\n",
       " 'bureau_STATUS_1_max',\n",
       " 'bureau_STATUS_1_mean',\n",
       " 'bureau_STATUS_1_min',\n",
       " 'bureau_STATUS_1_std',\n",
       " 'bureau_STATUS_2_max',\n",
       " 'bureau_STATUS_2_mean',\n",
       " 'bureau_STATUS_2_min',\n",
       " 'bureau_STATUS_2_std',\n",
       " 'bureau_STATUS_3_max',\n",
       " 'bureau_STATUS_3_mean',\n",
       " 'bureau_STATUS_3_min',\n",
       " 'bureau_STATUS_3_std',\n",
       " 'bureau_STATUS_4_max',\n",
       " 'bureau_STATUS_4_mean',\n",
       " 'bureau_STATUS_4_min',\n",
       " 'bureau_STATUS_4_std',\n",
       " 'bureau_STATUS_5_max',\n",
       " 'bureau_STATUS_5_mean',\n",
       " 'bureau_STATUS_5_min',\n",
       " 'bureau_STATUS_5_std',\n",
       " 'bureau_STATUS_C_max',\n",
       " 'bureau_STATUS_C_mean',\n",
       " 'bureau_STATUS_C_min',\n",
       " 'bureau_STATUS_C_std',\n",
       " 'bureau_STATUS_X_max',\n",
       " 'bureau_STATUS_X_mean',\n",
       " 'bureau_STATUS_X_min',\n",
       " 'bureau_STATUS_X_std',\n",
       " 'bureau_bureau_balance_lg_coef_max',\n",
       " 'bureau_bureau_balance_lg_coef_mean',\n",
       " 'bureau_bureau_balance_lg_coef_min',\n",
       " 'bureau_bureau_balance_lg_coef_std',\n",
       " 'bureau_bureau_balance_lg_normalized_coef_max',\n",
       " 'bureau_bureau_balance_lg_normalized_coef_mean',\n",
       " 'bureau_bureau_balance_lg_normalized_coef_min',\n",
       " 'bureau_bureau_balance_lg_normalized_coef_std'}"
      ]
     },
     "execution_count": 11,
     "metadata": {},
     "output_type": "execute_result"
    }
   ],
   "source": [
    "inter = set(interr)\n",
    "inter"
   ]
  },
  {
   "cell_type": "code",
   "execution_count": 14,
   "metadata": {
    "ExecuteTime": {
     "end_time": "2018-06-16T10:32:57.758391Z",
     "start_time": "2018-06-16T10:32:56.805373Z"
    }
   },
   "outputs": [],
   "source": [
    "cols = [x for x in train_p.columns if x not in inter]\n",
    "train_p = train_p[cols]\n",
    "cols = [x for x in test_p.columns if x not in inter]\n",
    "test_p = test_p[cols]"
   ]
  },
  {
   "cell_type": "code",
   "execution_count": 15,
   "metadata": {
    "ExecuteTime": {
     "end_time": "2018-06-16T10:33:04.799841Z",
     "start_time": "2018-06-16T10:33:01.462990Z"
    }
   },
   "outputs": [
    {
     "name": "stderr",
     "output_type": "stream",
     "text": [
      "/home/kai/anaconda3/lib/python3.6/site-packages/ipykernel_launcher.py:3: SettingWithCopyWarning: \n",
      "A value is trying to be set on a copy of a slice from a DataFrame.\n",
      "Try using .loc[row_indexer,col_indexer] = value instead\n",
      "\n",
      "See the caveats in the documentation: http://pandas.pydata.org/pandas-docs/stable/indexing.html#indexing-view-versus-copy\n",
      "  This is separate from the ipykernel package so we can avoid doing imports until\n"
     ]
    },
    {
     "name": "stdout",
     "output_type": "stream",
     "text": [
      "bureau_bureau_balance_lg_coef_min\n",
      "bureau_STATUS_X_std\n",
      "bureau_bureau_balance_lg_normalized_coef_max\n",
      "bureau_bureau_balance_lg_coef_std\n",
      "bureau_STATUS_3_min\n",
      "bureau_STATUS_4_max\n",
      "bureau_STATUS_5_mean\n",
      "bureau_bureau_balance_lg_normalized_coef_std\n",
      "bureau_bureau_balance_lg_coef_max\n",
      "bureau_bureau_balance_lg_normalized_coef_mean\n",
      "bureau_STATUS_5_max\n",
      "bureau_STATUS_2_mean\n",
      "bureau_STATUS_1_min\n",
      "bureau_STATUS_1_max\n",
      "bureau_STATUS_3_max\n",
      "bureau_STATUS_0_min\n",
      "bureau_STATUS_C_min\n",
      "bureau_STATUS_C_std\n",
      "bureau_STATUS_X_max\n",
      "bureau_STATUS_3_std\n",
      "bureau_STATUS_3_mean\n",
      "bureau_STATUS_5_min\n",
      "bureau_STATUS_4_min\n",
      "bureau_bureau_balance_lg_normalized_coef_min\n",
      "bureau_STATUS_5_std\n",
      "bureau_STATUS_X_min\n",
      "bureau_STATUS_0_mean\n",
      "bureau_STATUS_0_max\n",
      "bureau_STATUS_C_max\n",
      "bureau_STATUS_1_mean\n",
      "bureau_STATUS_4_std\n",
      "bureau_STATUS_2_std\n",
      "bureau_STATUS_C_mean\n",
      "bureau_STATUS_X_mean\n",
      "bureau_STATUS_2_min\n",
      "bureau_STATUS_0_std\n",
      "bureau_STATUS_1_std\n",
      "bureau_bureau_balance_lg_coef_mean\n",
      "bureau_STATUS_2_max\n",
      "bureau_STATUS_4_mean\n"
     ]
    }
   ],
   "source": [
    "for x in inter:\n",
    "    train_p[x] = train_b[x]\n",
    "    test_p[x] = test_b[x]\n",
    "    print(x)\n",
    "    \n",
    "train_p.to_pickle(PATH + 'train_merged.pkl')\n",
    "test_p.to_pickle(PATH + 'test_merged.pkl')"
   ]
  },
  {
   "cell_type": "code",
   "execution_count": null,
   "metadata": {
    "collapsed": true
   },
   "outputs": [],
   "source": []
  }
 ],
 "metadata": {
  "kernelspec": {
   "display_name": "Python 3",
   "language": "python",
   "name": "python3"
  },
  "language_info": {
   "codemirror_mode": {
    "name": "ipython",
    "version": 3
   },
   "file_extension": ".py",
   "mimetype": "text/x-python",
   "name": "python",
   "nbconvert_exporter": "python",
   "pygments_lexer": "ipython3",
   "version": "3.6.3"
  },
  "varInspector": {
   "cols": {
    "lenName": 16,
    "lenType": 16,
    "lenVar": 40
   },
   "kernels_config": {
    "python": {
     "delete_cmd_postfix": "",
     "delete_cmd_prefix": "del ",
     "library": "var_list.py",
     "varRefreshCmd": "print(var_dic_list())"
    },
    "r": {
     "delete_cmd_postfix": ") ",
     "delete_cmd_prefix": "rm(",
     "library": "var_list.r",
     "varRefreshCmd": "cat(var_dic_list()) "
    }
   },
   "types_to_exclude": [
    "module",
    "function",
    "builtin_function_or_method",
    "instance",
    "_Feature"
   ],
   "window_display": false
  }
 },
 "nbformat": 4,
 "nbformat_minor": 2
}
