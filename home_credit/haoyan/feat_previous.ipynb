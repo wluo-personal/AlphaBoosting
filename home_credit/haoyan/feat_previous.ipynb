{
 "cells": [
  {
   "cell_type": "code",
   "execution_count": null,
   "metadata": {
    "collapsed": true
   },
   "outputs": [],
   "source": [
    "import pandas as pd\n",
    "import numpy as np\n",
    "\n",
    "PATH = '/home/kai/data/kaggle/homecredit/'\n",
    "train = pd.read_csv(PATH + 'application_train.csv')\n",
    "print('train')\n",
    "test = pd.read_csv(PATH + 'application_test.csv')\n",
    "print('test')\n",
    "test = pd.read_csv(PATH + 'previous_application.csv')\n",
    "print('previous')\n",
    "df = pd.concat([train[['SK_ID_CURR']], test[['SK_ID_CURR']]])\n",
    "print('concat')"
   ]
  },
  {
   "cell_type": "code",
   "execution_count": null,
   "metadata": {
    "collapsed": true
   },
   "outputs": [],
   "source": [
    "import pandas as pd\n",
    "import os\n",
    "import gc\n",
    "import numpy as np\n",
    "from sklearn.linear_model import LinearRegression\n",
    "\n",
    "def _set_type(series, dtype):\n",
    "    _max, _min = max(series), min(series)\n",
    "    if dtype == 'uint':\n",
    "        if _max <= 255: return np.uint8\n",
    "        elif _max <= 65535: return np.uint16\n",
    "        elif _max <= 4294967295: return np.uint32\n",
    "        else: return np.uint64\n",
    "    elif dtype == 'int':\n",
    "        if _min >= -128 and _max <= 127: return np.int8\n",
    "        elif _min >=-32768 and _max <= 32767: return np.int16\n",
    "        elif _min >= -2147483648 and _max <= 2147483647: return np.int32\n",
    "        else: return np.int64\n",
    "    elif dtype == 'float':\n",
    "        if max(abs(_min), _max) <= 3.4028235e+38: return np.float32\n",
    "        else: return np.float64\n",
    "\n",
    "def split_categorical_feature(df, group_col, calc_col):\n",
    "    tmp_df = pd.concat([df[group_col], pd.get_dummies(df[calc_col], prefix=calc_col)], axis=1).groupby(by=group_col).sum().reset_index()\n",
    "    dtype = {x: _set_type(tmp_df[x], 'uint') for x in tmp_df.columns if x != group_col}\n",
    "    for x in tmp_df:\n",
    "        if x in df.columns:\n",
    "            dtype[x] = df[x].dtype\n",
    "    return tmp_df.astype(dtype)\n",
    "\n",
    "def score(df, group_col, calc_col, time_col, score_map, table_name):\n",
    "    total = list(group_col)\n",
    "    total.extend([calc_col, time_col])\n",
    "    _df = df.sort_values('MONTHS_BALANCE').reset_index()\n",
    "    _df[calc_col] = _df[calc_col].map(score_map)\n",
    "    group = _df.groupby(by=group_col)\n",
    "    _df[calc_col] = (group[calc_col].shift(1).fillna(0) + group[calc_col].shift(-1).fillna(0) + _df[calc_col]) ** 2 / np.exp(-(_df[time_col])**2/144/2)\n",
    "    dtype = {x: df[x].dtype for x in group_col if x in df.columns}\n",
    "    dtype[calc_col] = _set_type(_df[calc_col], 'float')\n",
    "    __df = _df[[group_col, calc_col]].astype(dtype).rename(index=str, columns={calc_col: table_name + '_score'})\n",
    "    del _df\n",
    "    gc.collect()\n",
    "    return __df\n",
    "\n",
    "def count(df, group_col, calc_col, table_name):\n",
    "    group = df[[group_col, calc_col]].groupby(by=group_col)[[calc_col]].count().reset_index()\n",
    "    dtype = {x: df[x].dtype for x in group_col if x in df.columns}\n",
    "    dtype[calc_col] = _set_type(group[calc_col], 'uint')\n",
    "    _df = group.astype(dtype).rename(index=str, columns={calc_col: table_name + '_' + calc_col + '_count'})\n",
    "    return _df\n",
    "\n",
    "def linear(df, group_col, time_col, value_col, table_name):\n",
    "    l = []\n",
    "    for _, group in df[[group_col, time_col, value_col]].groupby(by=group_col):\n",
    "        lg = LinearRegression()\n",
    "        lg.fit(group[time_col], group[value_col])\n",
    "        l.append([group.loc[0, group_col], lg.coef_[0][0], lg.intercept_[0]])\n",
    "    return pd.DataFrame(l, columns=[group_col, table_name + '_' + 'lg_coef', table_name + '_' + 'lg_inte'])\n",
    "\n",
    "def ratio_name(numerator, denominator): return numerator + '_' + denominator + '_ratio'\n",
    "\n",
    "def ratio(df, numerator, denominator):\n",
    "    return df[numerator] / df[denominator]\n",
    "\n",
    "def markov_time_score(df_, group_col, calc_col, time_col):\n",
    "    def _time(x): np.exp(-x**2/144/2)\n",
    "    \n",
    "    df = df_.sort_values('MONTHS_BALANCE').reset_index()\n",
    "    mapp = {'0':0, '1':1, '2':2, '3':3, '4':4, '5':5, 'C':6, 'X':7}\n",
    "    _df = df[calc_col].map(mapp)\n",
    "    d = {}\n",
    "    M = {}\n",
    "    for i in range(df.shape[0]):\n",
    "        if i % 2000000 == 0: print(i)\n",
    "        key = df.loc[i, group_col]\n",
    "        value = _df[i]\n",
    "        if d.get(key) != None:\n",
    "            M[key][d.get(key)][value] += 1 * _time(df.loc[i, time_col])\n",
    "        else:\n",
    "            M[key] = np.zeros((len(mapp), len(mapp)))\n",
    "        d[key] = value\n",
    "    del df, _df, d\n",
    "    gc.collect()\n",
    "    return M"
   ]
  },
  {
   "cell_type": "code",
   "execution_count": null,
   "metadata": {
    "collapsed": true
   },
   "outputs": [],
   "source": []
  }
 ],
 "metadata": {
  "kernelspec": {
   "display_name": "Python 3",
   "language": "python",
   "name": "python3"
  },
  "language_info": {
   "codemirror_mode": {
    "name": "ipython",
    "version": 3
   },
   "file_extension": ".py",
   "mimetype": "text/x-python",
   "name": "python",
   "nbconvert_exporter": "python",
   "pygments_lexer": "ipython3",
   "version": "3.6.3"
  },
  "varInspector": {
   "cols": {
    "lenName": 16,
    "lenType": 16,
    "lenVar": 40
   },
   "kernels_config": {
    "python": {
     "delete_cmd_postfix": "",
     "delete_cmd_prefix": "del ",
     "library": "var_list.py",
     "varRefreshCmd": "print(var_dic_list())"
    },
    "r": {
     "delete_cmd_postfix": ") ",
     "delete_cmd_prefix": "rm(",
     "library": "var_list.r",
     "varRefreshCmd": "cat(var_dic_list()) "
    }
   },
   "types_to_exclude": [
    "module",
    "function",
    "builtin_function_or_method",
    "instance",
    "_Feature"
   ],
   "window_display": false
  }
 },
 "nbformat": 4,
 "nbformat_minor": 2
}
