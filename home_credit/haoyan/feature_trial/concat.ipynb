{
 "cells": [
  {
   "cell_type": "code",
   "execution_count": 1,
   "metadata": {
    "ExecuteTime": {
     "end_time": "2018-06-27T20:53:38.415795Z",
     "start_time": "2018-06-27T20:53:37.306388Z"
    }
   },
   "outputs": [
    {
     "data": {
      "text/plain": [
       "((307511, 329), (48744, 328))"
      ]
     },
     "execution_count": 1,
     "metadata": {},
     "output_type": "execute_result"
    }
   ],
   "source": [
    "import pandas as pd\n",
    "import os\n",
    "import gc\n",
    "\n",
    "PATH = '/home/kai/data/kaggle/homecredit/'\n",
    "\n",
    "train = pd.read_pickle(PATH + 'inter/train_only_0.pkl')\n",
    "test = pd.read_pickle(PATH + 'inter/test_only_0.pkl')\n",
    "\n",
    "train.shape, test.shape"
   ]
  },
  {
   "cell_type": "code",
   "execution_count": 2,
   "metadata": {
    "ExecuteTime": {
     "end_time": "2018-06-27T20:53:57.026163Z",
     "start_time": "2018-06-27T20:53:38.417535Z"
    }
   },
   "outputs": [
    {
     "name": "stdout",
     "output_type": "stream",
     "text": [
      "poscash2curr.pkl\n",
      "(356255, 101)\n",
      "(307511, 344) (48744, 343)\n",
      "06_27_bureau2curr.pkl\n",
      "(356255, 347)\n",
      "(307511, 400) (48744, 399)\n",
      "bureau2curr.pkl\n",
      "(356255, 460)\n",
      "(307511, 482) (48744, 481)\n",
      "prev2curr.pkl\n",
      "(356255, 536)\n",
      "(307511, 556) (48744, 555)\n",
      "credit2curr.pkl\n",
      "(356255, 382)\n",
      "(307511, 676) (48744, 675)\n",
      "install2curr.pkl\n",
      "(356255, 51)\n",
      "(307511, 685) (48744, 684)\n",
      "linearposcash2curr.pkl\n",
      "(307511, 685) (48744, 684)\n",
      "linearbureau2curr.pkl\n",
      "(307511, 685) (48744, 684)\n",
      "linearinstal2curr.pkl\n",
      "(307511, 685) (48744, 684)\n",
      "linearcredit2curr.pkl\n",
      "(307511, 685) (48744, 684)\n"
     ]
    },
    {
     "data": {
      "text/plain": [
       "'done'"
      ]
     },
     "execution_count": 2,
     "metadata": {},
     "output_type": "execute_result"
    }
   ],
   "source": [
    "import re\n",
    "ptn = 'sum'\n",
    "for x in os.listdir(PATH + 'inter/'):\n",
    "    if 'curr' in x:\n",
    "        print(x)\n",
    "        tmp = pd.read_pickle(PATH + 'inter/' + x)\n",
    "        print(tmp.shape)\n",
    "        col = [i for i in tmp.columns if re.findall(ptn+'$', i)] + ['SK_ID_CURR']\n",
    "        train = train.merge(tmp[col], on='SK_ID_CURR', how='left')\n",
    "        test = test.merge(tmp[col], on='SK_ID_CURR', how='left')\n",
    "        print(train.shape, test.shape)\n",
    "        del tmp\n",
    "        gc.collect()\n",
    "        \n",
    "\n",
    "for x in os.listdir(PATH + 'inter/linear/'):\n",
    "    if x.split('.')[-1] == 'pkl':\n",
    "        print(x)\n",
    "        tmp = pd.read_pickle(PATH + 'inter/linear/' + x)\n",
    "        col = [i for i in tmp.columns if re.findall(ptn+'$', i)] + ['SK_ID_CURR']\n",
    "        train = train.merge(tmp[col], on='SK_ID_CURR', how='left')\n",
    "        test = test.merge(tmp[col], on='SK_ID_CURR', how='left')\n",
    "        del tmp\n",
    "        gc.collect()\n",
    "        print(train.shape, test.shape)\n",
    "\n",
    "'done'"
   ]
  },
  {
   "cell_type": "code",
   "execution_count": 3,
   "metadata": {
    "ExecuteTime": {
     "end_time": "2018-06-27T20:54:01.012553Z",
     "start_time": "2018-06-27T20:53:57.027751Z"
    }
   },
   "outputs": [
    {
     "data": {
      "text/plain": [
       "'done'"
      ]
     },
     "execution_count": 3,
     "metadata": {},
     "output_type": "execute_result"
    }
   ],
   "source": [
    "train.to_pickle(PATH + 'train_factorized_2_with_linear.pkl')\n",
    "test.to_pickle(PATH + 'test_factorized_2_with_linear.pkl')\n",
    "'done'"
   ]
  },
  {
   "cell_type": "code",
   "execution_count": null,
   "metadata": {},
   "outputs": [],
   "source": []
  }
 ],
 "metadata": {
  "kernelspec": {
   "display_name": "Python 3",
   "language": "python",
   "name": "python3"
  },
  "language_info": {
   "codemirror_mode": {
    "name": "ipython",
    "version": 3
   },
   "file_extension": ".py",
   "mimetype": "text/x-python",
   "name": "python",
   "nbconvert_exporter": "python",
   "pygments_lexer": "ipython3",
   "version": "3.6.5"
  },
  "varInspector": {
   "cols": {
    "lenName": 16,
    "lenType": 16,
    "lenVar": 40
   },
   "kernels_config": {
    "python": {
     "delete_cmd_postfix": "",
     "delete_cmd_prefix": "del ",
     "library": "var_list.py",
     "varRefreshCmd": "print(var_dic_list())"
    },
    "r": {
     "delete_cmd_postfix": ") ",
     "delete_cmd_prefix": "rm(",
     "library": "var_list.r",
     "varRefreshCmd": "cat(var_dic_list()) "
    }
   },
   "types_to_exclude": [
    "module",
    "function",
    "builtin_function_or_method",
    "instance",
    "_Feature"
   ],
   "window_display": false
  }
 },
 "nbformat": 4,
 "nbformat_minor": 2
}
