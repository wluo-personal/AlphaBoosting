{
 "cells": [
  {
   "cell_type": "code",
   "execution_count": 1,
   "metadata": {
    "ExecuteTime": {
     "end_time": "2018-06-27T17:50:15.456570Z",
     "start_time": "2018-06-27T17:50:04.962089Z"
    }
   },
   "outputs": [
    {
     "name": "stdout",
     "output_type": "stream",
     "text": [
      "shape of bureau and bb (1716428, 17) (27299925, 3)\n"
     ]
    }
   ],
   "source": [
    "import pandas as pd\n",
    "\n",
    "PATH = '/home/kai/data/kaggle/homecredit/'\n",
    "\n",
    "\n",
    "train = pd.read_csv(PATH + 'application_train.csv')\n",
    "test = pd.read_csv(PATH + 'application_test.csv')\n",
    "bureau = pd.read_csv(PATH + 'bureau.csv')\n",
    "bb = pd.read_csv(PATH + 'bureau_balance.csv')\n",
    "b = bureau.copy()\n",
    "'done'\n",
    "print('shape of bureau and bb', b.shape, bb.shape)"
   ]
  },
  {
   "cell_type": "markdown",
   "metadata": {},
   "source": [
    "# Functions"
   ]
  },
  {
   "cell_type": "code",
   "execution_count": null,
   "metadata": {
    "ExecuteTime": {
     "start_time": "2018-06-27T17:49:49.050Z"
    }
   },
   "outputs": [],
   "source": [
    "def minus_name(col1, col2): return col1 + '_minus_' + col2\n",
    "def minus(df, col1, col2): return df[col1] - df[col2]\n",
    "\n",
    "def ratio_name(col1, col2): return col1 + '_divide_' + col2\n",
    "def ratio(df, col1, col2): return df[col1] / (df[col2] + 1)\n",
    "\n",
    "def positive_count(df, gp_col, col):\n",
    "    group = (df[col] > 0).astype('int8')\n",
    "    group = pd.concat([df[gp_col], group], axis=1).groupby(gp_col)[[col]].sum().reset_index().rename(index=str, columns={col: 'positivecount_'+'_'.join([gp_col, col])})\n",
    "    return group.astype({gp_col: df[gp_col].dtype})\n",
    "\n",
    "def count(df, gp_col, col):\n",
    "    group = df[[gp_col,col]].groupby(gp_col)[[col]].count().reset_index().rename(index=str, columns={col:'count_'+gp_col})\n",
    "    return group.astype({gp_col: df[gp_col].dtype})\n",
    "\n",
    "def numerical(df, gp_col, col, agg_fun):\n",
    "    _df = df.groupby(gp_col)[[col]].agg(agg_fun)\n",
    "    \n",
    "    columns = []\n",
    "    for x in _df.columns.levels[0]:\n",
    "        for y in _df.columns.levels[1]:\n",
    "            columns.append('_'.join([x, y]))\n",
    "    _df.columns = columns\n",
    "    return _df.reset_index().astype({gp_col: df[gp_col].dtype})\n",
    "\n",
    "def one_hot(df, gp_col, col):\n",
    "    return pd.concat([df[gp_col], pd.get_dummies(df[col], prefix='onehot_' + col)], axis=1).groupby(gp_col).sum().reset_index().astype({gp_col: df[gp_col].dtype})\n",
    "\n",
    "'done'"
   ]
  },
  {
   "cell_type": "markdown",
   "metadata": {},
   "source": [
    "# bureau balance to bureau"
   ]
  },
  {
   "cell_type": "code",
   "execution_count": null,
   "metadata": {
    "ExecuteTime": {
     "start_time": "2018-06-27T17:49:50.251Z"
    }
   },
   "outputs": [],
   "source": [
    "print(bb.columns)"
   ]
  },
  {
   "cell_type": "code",
   "execution_count": null,
   "metadata": {
    "ExecuteTime": {
     "start_time": "2018-06-27T17:49:51.027Z"
    }
   },
   "outputs": [],
   "source": [
    "\n",
    "merged_col = 'SK_ID_BUREAU'\n",
    "\n",
    "smap = {'C':0, 'X':0, '0':0, '1':1, '2':2, '3':3, '4':4, '5':5}\n",
    "bb['STATUS_NUM'] = bb['STATUS'].map(smap)\n",
    "# ratio\n",
    "bb[ratio_name('STATUS_NUM', 'MONTHS_BALANCE')] = ratio(bb, 'STATUS_NUM', 'MONTHS_BALANCE')\n",
    "\n",
    "# one hot sum\n",
    "b = b.merge(one_hot(bb, merged_col, 'STATUS'), on=merged_col, how='left')\n",
    "\n",
    "ignored = ['SK_ID_BUREAU', 'STATUS', 'STATUS_NUM']\n",
    "for x in set(bb.columns) - set(ignored):\n",
    "    print(x)\n",
    "    b = b.merge(numerical(bb, merged_col, x, ['mean', 'median', 'max', 'min', 'sum']), on=merged_col, how='left')\n",
    "\n",
    "'done'"
   ]
  },
  {
   "cell_type": "code",
   "execution_count": null,
   "metadata": {
    "ExecuteTime": {
     "start_time": "2018-06-27T17:49:52.314Z"
    }
   },
   "outputs": [],
   "source": [
    "b.to_pickle(PATH + 'inter/bb2bureau.pkl')"
   ]
  },
  {
   "cell_type": "markdown",
   "metadata": {},
   "source": [
    "# bureau to curr"
   ]
  },
  {
   "cell_type": "code",
   "execution_count": 6,
   "metadata": {
    "ExecuteTime": {
     "end_time": "2018-06-21T20:14:58.609517Z",
     "start_time": "2018-06-21T20:14:53.561835Z"
    }
   },
   "outputs": [
    {
     "data": {
      "text/plain": [
       "Index(['SK_ID_CURR', 'SK_ID_BUREAU', 'CREDIT_ACTIVE', 'CREDIT_CURRENCY',\n",
       "       'DAYS_CREDIT', 'CREDIT_DAY_OVERDUE', 'DAYS_CREDIT_ENDDATE',\n",
       "       'DAYS_ENDDATE_FACT', 'AMT_CREDIT_MAX_OVERDUE', 'CNT_CREDIT_PROLONG',\n",
       "       'AMT_CREDIT_SUM', 'AMT_CREDIT_SUM_DEBT', 'AMT_CREDIT_SUM_LIMIT',\n",
       "       'AMT_CREDIT_SUM_OVERDUE', 'CREDIT_TYPE', 'DAYS_CREDIT_UPDATE',\n",
       "       'AMT_ANNUITY'],\n",
       "      dtype='object')"
      ]
     },
     "execution_count": 6,
     "metadata": {},
     "output_type": "execute_result"
    }
   ],
   "source": [
    "import pandas as pd\n",
    "\n",
    "PATH = '/home/kai/data/kaggle/homecredit/'\n",
    "\n",
    "train = pd.read_csv(PATH + 'application_train.csv')\n",
    "bureau = pd.read_csv(PATH + 'bureau.csv')\n",
    "bureau.columns"
   ]
  },
  {
   "cell_type": "code",
   "execution_count": 7,
   "metadata": {
    "ExecuteTime": {
     "end_time": "2018-06-21T20:15:45.024505Z",
     "start_time": "2018-06-21T20:14:58.611755Z"
    },
    "collapsed": true
   },
   "outputs": [
    {
     "name": "stdout",
     "output_type": "stream",
     "text": [
      "AMT_CREDIT_MAX_OVERDUE DAYS_CREDIT\n",
      "AMT_CREDIT_MAX_OVERDUE CREDIT_DAY_OVERDUE\n",
      "AMT_CREDIT_MAX_OVERDUE DAYS_CREDIT_ENDDATE\n",
      "AMT_CREDIT_MAX_OVERDUE DAYS_ENDDATE_FACT\n",
      "AMT_CREDIT_MAX_OVERDUE DAYS_CREDIT_UPDATE\n",
      "AMT_CREDIT_MAX_OVERDUE AMT_CREDIT_SUM\n",
      "AMT_CREDIT_MAX_OVERDUE AMT_CREDIT_SUM_DEBT\n",
      "AMT_CREDIT_MAX_OVERDUE AMT_CREDIT_SUM_LIMIT\n",
      "AMT_CREDIT_MAX_OVERDUE AMT_CREDIT_SUM_OVERDUE\n",
      "AMT_CREDIT_MAX_OVERDUE AMT_ANNUITY\n",
      "AMT_CREDIT_MAX_OVERDUE CNT_CREDIT_PROLONG\n",
      "AMT_CREDIT_SUM DAYS_CREDIT\n",
      "AMT_CREDIT_SUM CREDIT_DAY_OVERDUE\n",
      "AMT_CREDIT_SUM DAYS_CREDIT_ENDDATE\n",
      "AMT_CREDIT_SUM DAYS_ENDDATE_FACT\n",
      "AMT_CREDIT_SUM DAYS_CREDIT_UPDATE\n",
      "AMT_CREDIT_SUM AMT_CREDIT_SUM_DEBT\n",
      "AMT_CREDIT_SUM AMT_CREDIT_SUM_LIMIT\n",
      "AMT_CREDIT_SUM AMT_CREDIT_SUM_OVERDUE\n",
      "AMT_CREDIT_SUM AMT_ANNUITY\n",
      "AMT_CREDIT_SUM CNT_CREDIT_PROLONG\n",
      "AMT_CREDIT_SUM_DEBT DAYS_CREDIT\n",
      "AMT_CREDIT_SUM_DEBT CREDIT_DAY_OVERDUE\n",
      "AMT_CREDIT_SUM_DEBT DAYS_CREDIT_ENDDATE\n",
      "AMT_CREDIT_SUM_DEBT DAYS_ENDDATE_FACT\n",
      "AMT_CREDIT_SUM_DEBT DAYS_CREDIT_UPDATE\n",
      "AMT_CREDIT_SUM_DEBT AMT_CREDIT_SUM_LIMIT\n",
      "AMT_CREDIT_SUM_DEBT AMT_CREDIT_SUM_OVERDUE\n",
      "AMT_CREDIT_SUM_DEBT AMT_ANNUITY\n",
      "AMT_CREDIT_SUM_DEBT CNT_CREDIT_PROLONG\n",
      "AMT_CREDIT_SUM_LIMIT DAYS_CREDIT\n",
      "AMT_CREDIT_SUM_LIMIT CREDIT_DAY_OVERDUE\n",
      "AMT_CREDIT_SUM_LIMIT DAYS_CREDIT_ENDDATE\n",
      "AMT_CREDIT_SUM_LIMIT DAYS_ENDDATE_FACT\n",
      "AMT_CREDIT_SUM_LIMIT DAYS_CREDIT_UPDATE\n",
      "AMT_CREDIT_SUM_LIMIT AMT_CREDIT_SUM_OVERDUE\n",
      "AMT_CREDIT_SUM_LIMIT AMT_ANNUITY\n",
      "AMT_CREDIT_SUM_LIMIT CNT_CREDIT_PROLONG\n",
      "AMT_CREDIT_SUM_OVERDUE DAYS_CREDIT\n",
      "AMT_CREDIT_SUM_OVERDUE CREDIT_DAY_OVERDUE\n",
      "AMT_CREDIT_SUM_OVERDUE DAYS_CREDIT_ENDDATE\n",
      "AMT_CREDIT_SUM_OVERDUE DAYS_ENDDATE_FACT\n",
      "AMT_CREDIT_SUM_OVERDUE DAYS_CREDIT_UPDATE\n",
      "AMT_CREDIT_SUM_OVERDUE AMT_ANNUITY\n",
      "AMT_CREDIT_SUM_OVERDUE CNT_CREDIT_PROLONG\n",
      "AMT_ANNUITY DAYS_CREDIT\n",
      "AMT_ANNUITY CREDIT_DAY_OVERDUE\n",
      "AMT_ANNUITY DAYS_CREDIT_ENDDATE\n",
      "AMT_ANNUITY DAYS_ENDDATE_FACT\n",
      "AMT_ANNUITY DAYS_CREDIT_UPDATE\n",
      "AMT_ANNUITY CNT_CREDIT_PROLONG\n",
      "ratio\n",
      "CREDIT_DAY_OVERDUE\n",
      "AMT_CREDIT_MAX_OVERDUE\n",
      "CNT_CREDIT_PROLONG\n",
      "AMT_CREDIT_SUM_DEBT\n",
      "AMT_CREDIT_SUM_OVERDUE\n",
      "CREDIT_ACTIVE\n",
      "CREDIT_TYPE\n",
      "positivecount_SK_ID_CURR_CREDIT_DAY_OVERDUE\n",
      "positivecount_SK_ID_CURR_AMT_CREDIT_MAX_OVERDUE\n",
      "positivecount_SK_ID_CURR_CNT_CREDIT_PROLONG\n",
      "positivecount_SK_ID_CURR_AMT_CREDIT_SUM_DEBT\n",
      "positivecount_SK_ID_CURR_AMT_CREDIT_SUM_OVERDUE\n",
      "onehot_CREDIT_ACTIVE_Active\n",
      "onehot_CREDIT_ACTIVE_Bad debt\n",
      "onehot_CREDIT_ACTIVE_Closed\n",
      "onehot_CREDIT_ACTIVE_Sold\n",
      "onehot_CREDIT_TYPE_Another type of loan\n",
      "onehot_CREDIT_TYPE_Car loan\n",
      "onehot_CREDIT_TYPE_Cash loan (non-earmarked)\n",
      "onehot_CREDIT_TYPE_Consumer credit\n",
      "onehot_CREDIT_TYPE_Credit card\n",
      "onehot_CREDIT_TYPE_Interbank credit\n",
      "onehot_CREDIT_TYPE_Loan for business development\n",
      "onehot_CREDIT_TYPE_Loan for purchase of shares (margin lending)\n",
      "onehot_CREDIT_TYPE_Loan for the purchase of equipment\n",
      "onehot_CREDIT_TYPE_Loan for working capital replenishment\n",
      "onehot_CREDIT_TYPE_Microloan\n",
      "onehot_CREDIT_TYPE_Mobile operator loan\n",
      "onehot_CREDIT_TYPE_Mortgage\n",
      "onehot_CREDIT_TYPE_Real estate loan\n",
      "onehot_CREDIT_TYPE_Unknown type of loan\n",
      "onehot_STATUS_5\n",
      "AMT_CREDIT_SUM_LIMIT_divide_DAYS_CREDIT_UPDATE\n",
      "AMT_CREDIT_SUM_LIMIT_divide_CREDIT_DAY_OVERDUE\n",
      "AMT_CREDIT_SUM_divide_DAYS_CREDIT_UPDATE\n",
      "AMT_CREDIT_SUM\n",
      "AMT_CREDIT_MAX_OVERDUE_divide_AMT_ANNUITY\n",
      "AMT_ANNUITY_divide_DAYS_CREDIT_ENDDATE\n",
      "AMT_CREDIT_SUM_OVERDUE_divide_DAYS_CREDIT_UPDATE\n",
      "STATUS_NUM_divide_MONTHS_BALANCE_median\n",
      "AMT_CREDIT_SUM_divide_CREDIT_DAY_OVERDUE\n",
      "MONTHS_BALANCE_median\n",
      "DAYS_CREDIT\n",
      "AMT_CREDIT_SUM_DEBT_divide_AMT_CREDIT_SUM_LIMIT\n",
      "AMT_ANNUITY_divide_DAYS_CREDIT\n",
      "AMT_CREDIT_SUM_divide_CNT_CREDIT_PROLONG\n",
      "MONTHS_BALANCE_max\n",
      "AMT_ANNUITY_divide_DAYS_ENDDATE_FACT\n",
      "MONTHS_BALANCE_mean\n",
      "AMT_CREDIT_MAX_OVERDUE\n",
      "AMT_CREDIT_SUM_DEBT_divide_AMT_CREDIT_SUM_OVERDUE\n",
      "AMT_CREDIT_MAX_OVERDUE_divide_AMT_CREDIT_SUM\n",
      "AMT_CREDIT_SUM_OVERDUE_divide_AMT_ANNUITY\n",
      "STATUS_NUM_divide_MONTHS_BALANCE_sum\n",
      "AMT_CREDIT_SUM_DEBT_divide_DAYS_ENDDATE_FACT\n",
      "AMT_CREDIT_MAX_OVERDUE_divide_AMT_CREDIT_SUM_DEBT\n",
      "AMT_CREDIT_SUM_LIMIT\n",
      "AMT_CREDIT_MAX_OVERDUE_divide_DAYS_ENDDATE_FACT\n",
      "AMT_CREDIT_SUM_OVERDUE_divide_CREDIT_DAY_OVERDUE\n",
      "AMT_CREDIT_SUM_LIMIT_divide_DAYS_CREDIT_ENDDATE\n",
      "AMT_ANNUITY\n",
      "AMT_CREDIT_SUM_DEBT_divide_DAYS_CREDIT_ENDDATE\n",
      "AMT_CREDIT_SUM_OVERDUE_divide_DAYS_CREDIT\n",
      "AMT_CREDIT_SUM_DEBT_divide_DAYS_CREDIT_UPDATE\n",
      "AMT_CREDIT_SUM_divide_DAYS_ENDDATE_FACT\n",
      "onehot_STATUS_1\n",
      "AMT_CREDIT_SUM_OVERDUE\n",
      "AMT_ANNUITY_divide_CNT_CREDIT_PROLONG\n",
      "CNT_CREDIT_PROLONG\n",
      "CNT_CREDIT_PROLONG_divide_DAYS_CREDIT\n",
      "AMT_ANNUITY_divide_DAYS_CREDIT_UPDATE\n",
      "onehot_STATUS_C\n",
      "STATUS_NUM_divide_MONTHS_BALANCE_max\n",
      "STATUS_NUM_divide_MONTHS_BALANCE_min\n",
      "AMT_CREDIT_SUM_DEBT_divide_DAYS_CREDIT\n",
      "MONTHS_BALANCE_min\n",
      "STATUS_NUM_divide_MONTHS_BALANCE_mean\n",
      "onehot_STATUS_2\n",
      "AMT_CREDIT_SUM_divide_AMT_CREDIT_SUM_LIMIT\n",
      "AMT_CREDIT_SUM_OVERDUE_divide_DAYS_ENDDATE_FACT\n",
      "DAYS_CREDIT_UPDATE\n",
      "AMT_CREDIT_SUM_divide_DAYS_CREDIT_ENDDATE\n",
      "AMT_CREDIT_SUM_LIMIT_divide_DAYS_ENDDATE_FACT\n",
      "AMT_CREDIT_SUM_DEBT_divide_CNT_CREDIT_PROLONG\n",
      "AMT_CREDIT_SUM_LIMIT_divide_DAYS_CREDIT\n",
      "AMT_CREDIT_SUM_DEBT_divide_CREDIT_DAY_OVERDUE\n",
      "AMT_CREDIT_MAX_OVERDUE_divide_DAYS_CREDIT_UPDATE\n",
      "AMT_CREDIT_MAX_OVERDUE_divide_AMT_CREDIT_SUM_LIMIT\n",
      "onehot_STATUS_X\n",
      "onehot_STATUS_4\n",
      "AMT_CREDIT_SUM_divide_AMT_ANNUITY\n",
      "onehot_STATUS_0\n",
      "AMT_CREDIT_SUM_divide_DAYS_CREDIT\n",
      "AMT_CREDIT_SUM_LIMIT_divide_AMT_ANNUITY\n",
      "AMT_CREDIT_MAX_OVERDUE_divide_CREDIT_DAY_OVERDUE\n",
      "AMT_CREDIT_SUM_DEBT\n",
      "AMT_CREDIT_MAX_OVERDUE_divide_DAYS_CREDIT\n",
      "MONTHS_BALANCE_sum\n",
      "AMT_CREDIT_SUM_DEBT_divide_AMT_ANNUITY\n",
      "AMT_CREDIT_SUM_LIMIT_divide_CNT_CREDIT_PROLONG\n",
      "AMT_CREDIT_MAX_OVERDUE_divide_DAYS_CREDIT_ENDDATE\n",
      "AMT_ANNUITY_divide_CREDIT_DAY_OVERDUE\n",
      "AMT_CREDIT_SUM_divide_AMT_CREDIT_SUM_DEBT\n",
      "DAYS_CREDIT_ENDDATE\n",
      "AMT_CREDIT_MAX_OVERDUE_divide_CNT_CREDIT_PROLONG\n",
      "DAYS_ENDDATE_FACT\n",
      "CREDIT_DAY_OVERDUE\n",
      "AMT_CREDIT_SUM_OVERDUE_divide_CNT_CREDIT_PROLONG\n",
      "AMT_CREDIT_SUM_LIMIT_divide_AMT_CREDIT_SUM_OVERDUE\n",
      "AMT_CREDIT_SUM_divide_AMT_CREDIT_SUM_OVERDUE\n",
      "AMT_CREDIT_MAX_OVERDUE_divide_AMT_CREDIT_SUM_OVERDUE\n",
      "AMT_CREDIT_SUM_OVERDUE_divide_DAYS_CREDIT_ENDDATE\n",
      "onehot_STATUS_3\n"
     ]
    },
    {
     "data": {
      "text/plain": [
       "'done'"
      ]
     },
     "execution_count": 7,
     "metadata": {},
     "output_type": "execute_result"
    }
   ],
   "source": [
    "df = pd.concat([train['SK_ID_CURR'], test['SK_ID_CURR']], ignore_index=True).to_frame()\n",
    "merged_col = 'SK_ID_CURR'\n",
    "\n",
    "# ratio\n",
    "numerator = [x for x in bureau.columns if 'AMT' in x]\n",
    "denominator = [x for x in bureau.columns if 'DAY' in x] + numerator + ['CNT_CREDIT_PROLONG']\n",
    "for x in numerator:\n",
    "    for y in denominator:\n",
    "        if (x != y) and (ratio_name(y, x) not in bureau.columns):\n",
    "            print(x, y)\n",
    "            bureau[ratio_name(x, y)] = ratio(bureau, x, y)\n",
    "bureau[ratio_name('CNT_CREDIT_PROLONG', 'DAYS_CREDIT')] = ratio(bureau, 'CNT_CREDIT_PROLONG', 'DAYS_CREDIT')\n",
    "print('ratio')\n",
    "\n",
    "# positive count\n",
    "positive_count_list = ['CREDIT_DAY_OVERDUE', 'AMT_CREDIT_MAX_OVERDUE', 'CNT_CREDIT_PROLONG', 'AMT_CREDIT_SUM_DEBT', 'AMT_CREDIT_SUM_OVERDUE']\n",
    "for x in positive_count_list:\n",
    "    print(x)\n",
    "    df = df.merge(positive_count(bureau, merged_col, x), on=merged_col, how='left')\n",
    "\n",
    "# one hot encoding sum\n",
    "for x in ['CREDIT_ACTIVE', 'CREDIT_TYPE']:\n",
    "    print(x)\n",
    "    df = df.merge(one_hot(bureau, merged_col, x), on=merged_col, how='left')\n",
    "\n",
    "# count\n",
    "df = df.merge(count(bureau, merged_col, 'SK_ID_BUREAU'), on=merged_col, how='left')\n",
    "count_name = [x for x in df.columns if 'count_' in x][0]\n",
    "\n",
    "# categorical ratio\n",
    "for x in df.columns:\n",
    "    if 'positivecount_' in x or 'onehot_' in x:\n",
    "        print(x)\n",
    "        df[ratio_name(x, count_name)] = ratio(df, x, count_name)\n",
    "\n",
    "# merge bureau balance\n",
    "bb = pd.read_pickle(PATH + 'inter/bb2bureau.pkl')\n",
    "bureau = bureau.merge(bb, on='SK_ID_BUREAU', how='left')\n",
    "\n",
    "# numerical\n",
    "ignored = ['SK_ID_CURR', 'SK_ID_BUREAU', 'CREDIT_ACTIVE', 'CREDIT_CURRENCY', 'CREDIT_TYPE']\n",
    "for x in set(bureau.columns) - set(ignored):\n",
    "    print(x)\n",
    "    df = df.merge(numerical(bureau, merged_col, x, ['mean', 'median', 'max', 'min', 'sum']), on=merged_col, how='left')\n",
    "\n",
    "columns = []\n",
    "for x in df.columns:\n",
    "    tmp = 'bureau_' + x if x != merged_col else x\n",
    "    columns.append(tmp)\n",
    "df.columns = columns\n",
    "'done'"
   ]
  },
  {
   "cell_type": "markdown",
   "metadata": {},
   "source": [
    "## merge"
   ]
  },
  {
   "cell_type": "code",
   "execution_count": 10,
   "metadata": {
    "ExecuteTime": {
     "end_time": "2018-06-21T20:15:45.059250Z",
     "start_time": "2018-06-21T20:15:45.051268Z"
    }
   },
   "outputs": [
    {
     "name": "stdout",
     "output_type": "stream",
     "text": [
      "Index(['SK_ID_CURR', 'bureau_positivecount_SK_ID_CURR_CREDIT_DAY_OVERDUE',\n",
      "       'bureau_positivecount_SK_ID_CURR_AMT_CREDIT_MAX_OVERDUE',\n",
      "       'bureau_positivecount_SK_ID_CURR_CNT_CREDIT_PROLONG',\n",
      "       'bureau_positivecount_SK_ID_CURR_AMT_CREDIT_SUM_DEBT',\n",
      "       'bureau_positivecount_SK_ID_CURR_AMT_CREDIT_SUM_OVERDUE',\n",
      "       'bureau_onehot_CREDIT_ACTIVE_Active',\n",
      "       'bureau_onehot_CREDIT_ACTIVE_Bad debt',\n",
      "       'bureau_onehot_CREDIT_ACTIVE_Closed',\n",
      "       'bureau_onehot_CREDIT_ACTIVE_Sold',\n",
      "       ...\n",
      "       'bureau_AMT_CREDIT_SUM_OVERDUE_divide_DAYS_CREDIT_ENDDATE_mean',\n",
      "       'bureau_AMT_CREDIT_SUM_OVERDUE_divide_DAYS_CREDIT_ENDDATE_median',\n",
      "       'bureau_AMT_CREDIT_SUM_OVERDUE_divide_DAYS_CREDIT_ENDDATE_max',\n",
      "       'bureau_AMT_CREDIT_SUM_OVERDUE_divide_DAYS_CREDIT_ENDDATE_min',\n",
      "       'bureau_AMT_CREDIT_SUM_OVERDUE_divide_DAYS_CREDIT_ENDDATE_sum',\n",
      "       'bureau_onehot_STATUS_3_mean', 'bureau_onehot_STATUS_3_median',\n",
      "       'bureau_onehot_STATUS_3_max', 'bureau_onehot_STATUS_3_min',\n",
      "       'bureau_onehot_STATUS_3_sum'],\n",
      "      dtype='object', length=460)\n"
     ]
    },
    {
     "data": {
      "text/plain": [
       "(356255, 460)"
      ]
     },
     "execution_count": 10,
     "metadata": {},
     "output_type": "execute_result"
    }
   ],
   "source": [
    "print(df.columns)\n",
    "df.shape"
   ]
  },
  {
   "cell_type": "code",
   "execution_count": 11,
   "metadata": {
    "ExecuteTime": {
     "end_time": "2018-06-21T20:15:47.296672Z",
     "start_time": "2018-06-21T20:15:45.061855Z"
    }
   },
   "outputs": [
    {
     "data": {
      "text/plain": [
       "'done'"
      ]
     },
     "execution_count": 11,
     "metadata": {},
     "output_type": "execute_result"
    }
   ],
   "source": [
    "df.to_pickle(PATH + 'inter/bureau2curr.pkl')\n",
    "'done'"
   ]
  }
 ],
 "metadata": {
  "kernelspec": {
   "display_name": "Python 3",
   "language": "python",
   "name": "python3"
  },
  "language_info": {
   "codemirror_mode": {
    "name": "ipython",
    "version": 3
   },
   "file_extension": ".py",
   "mimetype": "text/x-python",
   "name": "python",
   "nbconvert_exporter": "python",
   "pygments_lexer": "ipython3",
   "version": "3.6.5"
  },
  "varInspector": {
   "cols": {
    "lenName": 16,
    "lenType": 16,
    "lenVar": 40
   },
   "kernels_config": {
    "python": {
     "delete_cmd_postfix": "",
     "delete_cmd_prefix": "del ",
     "library": "var_list.py",
     "varRefreshCmd": "print(var_dic_list())"
    },
    "r": {
     "delete_cmd_postfix": ") ",
     "delete_cmd_prefix": "rm(",
     "library": "var_list.r",
     "varRefreshCmd": "cat(var_dic_list()) "
    }
   },
   "types_to_exclude": [
    "module",
    "function",
    "builtin_function_or_method",
    "instance",
    "_Feature"
   ],
   "window_display": false
  }
 },
 "nbformat": 4,
 "nbformat_minor": 2
}
