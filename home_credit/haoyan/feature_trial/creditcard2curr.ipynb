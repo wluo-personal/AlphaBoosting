{
 "cells": [
  {
   "cell_type": "code",
   "execution_count": 1,
   "metadata": {
    "ExecuteTime": {
     "end_time": "2018-06-20T19:09:40.156403Z",
     "start_time": "2018-06-20T19:09:29.740758Z"
    }
   },
   "outputs": [
    {
     "data": {
      "text/plain": [
       "'done'"
      ]
     },
     "execution_count": 1,
     "metadata": {},
     "output_type": "execute_result"
    }
   ],
   "source": [
    "import pandas as pd\n",
    "\n",
    "PATH = '/home/kai/data/kaggle/homecredit/'\n",
    "\n",
    "train = pd.read_csv(PATH + 'application_train.csv')\n",
    "credit = pd.read_csv(PATH + 'credit_card_balance.csv')\n",
    "\n",
    "'done'"
   ]
  },
  {
   "cell_type": "code",
   "execution_count": 2,
   "metadata": {
    "ExecuteTime": {
     "end_time": "2018-06-20T19:09:40.197591Z",
     "start_time": "2018-06-20T19:09:40.157978Z"
    }
   },
   "outputs": [
    {
     "data": {
      "text/plain": [
       "'done'"
      ]
     },
     "execution_count": 2,
     "metadata": {},
     "output_type": "execute_result"
    }
   ],
   "source": [
    "def minus_name(col1, col2): return col1 + '_minus_' + col2\n",
    "def minus(df, col1, col2): return df[col1] - df[col2]\n",
    "\n",
    "def ratio_name(col1, col2): return col1 + '_divide_' + col2\n",
    "def ratio(df, col1, col2): return df[col1] / (df[col2] + 1)\n",
    "\n",
    "def positive_count(df, gp_col, col):\n",
    "    group = (df[col] > 0).astype('int8')\n",
    "    group = pd.concat([df[gp_col], group], axis=1).groupby(gp_col)[[col]].sum().reset_index().rename(index=str, columns={col: 'positivecount_'+'_'.join([gp_col, col])})\n",
    "    return group.astype({gp_col: df[gp_col].dtype})\n",
    "\n",
    "def count(df, gp_col, col):\n",
    "    group = df[[gp_col,col]].groupby(gp_col)[[col]].count().reset_index().rename(index=str, columns={col:'count_'+gp_col})\n",
    "    return group.astype({gp_col: df[gp_col].dtype})\n",
    "\n",
    "def numerical(df, gp_col, col, agg_fun):\n",
    "    _df = df.groupby(gp_col)[[col]].agg(agg_fun)\n",
    "    \n",
    "    columns = []\n",
    "    for x in _df.columns.levels[0]:\n",
    "        for y in _df.columns.levels[1]:\n",
    "            columns.append('_'.join([x, y]))\n",
    "    _df.columns = columns\n",
    "    return _df.reset_index().astype({gp_col: df[gp_col].dtype})\n",
    "\n",
    "def one_hot(df, gp_col, col):\n",
    "    return pd.concat([df[gp_col], pd.get_dummies(df[col], prefix='onehot_' + col)], axis=1).groupby(gp_col).sum().reset_index().astype({gp_col: df[gp_col].dtype})\n",
    "\n",
    "'done'"
   ]
  },
  {
   "cell_type": "code",
   "execution_count": 3,
   "metadata": {
    "ExecuteTime": {
     "end_time": "2018-06-20T19:09:40.222097Z",
     "start_time": "2018-06-20T19:09:40.199218Z"
    }
   },
   "outputs": [
    {
     "data": {
      "text/plain": [
       "Index(['SK_ID_PREV', 'SK_ID_CURR', 'MONTHS_BALANCE', 'AMT_BALANCE',\n",
       "       'AMT_CREDIT_LIMIT_ACTUAL', 'AMT_DRAWINGS_ATM_CURRENT',\n",
       "       'AMT_DRAWINGS_CURRENT', 'AMT_DRAWINGS_OTHER_CURRENT',\n",
       "       'AMT_DRAWINGS_POS_CURRENT', 'AMT_INST_MIN_REGULARITY',\n",
       "       'AMT_PAYMENT_CURRENT', 'AMT_PAYMENT_TOTAL_CURRENT',\n",
       "       'AMT_RECEIVABLE_PRINCIPAL', 'AMT_RECIVABLE', 'AMT_TOTAL_RECEIVABLE',\n",
       "       'CNT_DRAWINGS_ATM_CURRENT', 'CNT_DRAWINGS_CURRENT',\n",
       "       'CNT_DRAWINGS_OTHER_CURRENT', 'CNT_DRAWINGS_POS_CURRENT',\n",
       "       'CNT_INSTALMENT_MATURE_CUM', 'NAME_CONTRACT_STATUS', 'SK_DPD',\n",
       "       'SK_DPD_DEF'],\n",
       "      dtype='object')"
      ]
     },
     "execution_count": 3,
     "metadata": {},
     "output_type": "execute_result"
    }
   ],
   "source": [
    "credit.columns"
   ]
  },
  {
   "cell_type": "code",
   "execution_count": 4,
   "metadata": {
    "ExecuteTime": {
     "end_time": "2018-06-20T19:09:57.958263Z",
     "start_time": "2018-06-20T19:09:40.224188Z"
    }
   },
   "outputs": [
    {
     "name": "stdout",
     "output_type": "stream",
     "text": [
      "SK_DPD SK_DPD_DEF\n",
      "SK_DPD SK_DPD_minus_SK_DPD_DEF\n",
      "SK_DPD MONTHS_BALANCE\n",
      "SK_DPD_DEF SK_DPD\n",
      "SK_DPD_DEF SK_DPD_minus_SK_DPD_DEF\n",
      "SK_DPD_DEF MONTHS_BALANCE\n",
      "SK_DPD_minus_SK_DPD_DEF SK_DPD\n",
      "SK_DPD_minus_SK_DPD_DEF SK_DPD_DEF\n",
      "SK_DPD_minus_SK_DPD_DEF MONTHS_BALANCE\n",
      "SK_DPD\n",
      "SK_DPD_DEF\n",
      "SK_DPD_minus_SK_DPD_DEF\n",
      "onehot_NAME_CONTRACT_STATUS_Active\n",
      "onehot_NAME_CONTRACT_STATUS_Approved\n",
      "onehot_NAME_CONTRACT_STATUS_Completed\n",
      "onehot_NAME_CONTRACT_STATUS_Demand\n",
      "onehot_NAME_CONTRACT_STATUS_Refused\n",
      "onehot_NAME_CONTRACT_STATUS_Sent proposal\n",
      "onehot_NAME_CONTRACT_STATUS_Signed\n",
      "positivecount_SK_ID_CURR_SK_DPD\n",
      "positivecount_SK_ID_CURR_SK_DPD_DEF\n",
      "positivecount_SK_ID_CURR_SK_DPD_minus_SK_DPD_DEF\n",
      "SK_DPD_minus_SK_DPD_DEF_divide_SK_DPD_DEF\n",
      "CNT_DRAWINGS_ATM_CURRENT\n",
      "AMT_PAYMENT_CURRENT\n",
      "AMT_RECEIVABLE_PRINCIPAL\n",
      "AMT_TOTAL_RECEIVABLE\n",
      "SK_DPD_DEF_divide_SK_DPD_minus_SK_DPD_DEF\n",
      "CNT_DRAWINGS_CURRENT\n",
      "AMT_DRAWINGS_ATM_CURRENT\n",
      "AMT_BALANCE\n",
      "SK_DPD_minus_SK_DPD_DEF\n",
      "SK_DPD_DEF_divide_MONTHS_BALANCE\n",
      "CNT_DRAWINGS_OTHER_CURRENT\n",
      "CNT_DRAWINGS_POS_CURRENT\n",
      "SK_DPD_DEF\n",
      "SK_DPD_minus_SK_DPD_DEF_divide_SK_DPD\n",
      "AMT_CREDIT_LIMIT_ACTUAL\n",
      "AMT_INST_MIN_REGULARITY\n",
      "AMT_PAYMENT_TOTAL_CURRENT\n",
      "SK_DPD_divide_MONTHS_BALANCE\n",
      "AMT_DRAWINGS_OTHER_CURRENT\n",
      "AMT_DRAWINGS_CURRENT\n",
      "SK_DPD_minus_SK_DPD_DEF_divide_MONTHS_BALANCE\n",
      "CNT_INSTALMENT_MATURE_CUM\n",
      "AMT_DRAWINGS_POS_CURRENT\n",
      "SK_DPD_divide_SK_DPD_minus_SK_DPD_DEF\n",
      "SK_DPD\n",
      "SK_DPD_divide_SK_DPD_DEF\n",
      "AMT_RECIVABLE\n",
      "SK_DPD_DEF_divide_SK_DPD\n"
     ]
    },
    {
     "data": {
      "text/plain": [
       "'done'"
      ]
     },
     "execution_count": 4,
     "metadata": {},
     "output_type": "execute_result"
    }
   ],
   "source": [
    "df = pd.DataFrame(train['SK_ID_CURR'])\n",
    "\n",
    "merged_col = 'SK_ID_CURR'\n",
    "\n",
    "# minus\n",
    "name1 = minus_name('SK_DPD', 'SK_DPD_DEF')\n",
    "credit[name1] = minus(credit, 'SK_DPD', 'SK_DPD_DEF')\n",
    "\n",
    "# ratio\n",
    "numerator = [x for x in df.columns if 'AMT' in x] + ['SK_DPD', 'SK_DPD_DEF', name1]\n",
    "denominator = [x for x in df.columns if 'CNT' in x] + numerator + ['MONTHS_BALANCE']\n",
    "for x in numerator:\n",
    "    for y in denominator:\n",
    "        if x != y:\n",
    "            print(x, y)\n",
    "            credit[ratio_name(x, y)] = ratio(credit, x, y)\n",
    "\n",
    "# one hot encoding sum\n",
    "df = df.merge(one_hot(credit, merged_col, 'NAME_CONTRACT_STATUS'), on=merged_col, how='left')\n",
    "\n",
    "# count\n",
    "df = df.merge(count(credit, merged_col, 'NAME_CONTRACT_STATUS'), on=merged_col, how='left')\n",
    "count_name = [x for x in df.columns if 'count_' in x][0]\n",
    "\n",
    "# positive count\n",
    "for x in ['SK_DPD', 'SK_DPD_DEF', name1]:\n",
    "    print(x)\n",
    "    df = df.merge(positive_count(credit, merged_col, x))\n",
    "    \n",
    "# categorical ratio\n",
    "for x in df.columns:\n",
    "    if 'positivecount_' in x or 'onehot_' in x:\n",
    "        print(x)\n",
    "        df[ratio_name(x, count_name)] = ratio(df, x, count_name)\n",
    "\n",
    "# numerical\n",
    "ignored = ['SK_ID_CURR', 'SK_ID_PREV', 'NAME_CONTRACT_STATUS', 'MONTHS_BALANCE']\n",
    "for x in set(credit.columns) - set(ignored):\n",
    "    print(x)\n",
    "    df = df.merge(numerical(credit, merged_col, x, ['mean', 'median', 'max', 'min', 'sum']), on=merged_col, how='left')\n",
    "\n",
    "'done'"
   ]
  },
  {
   "cell_type": "code",
   "execution_count": 5,
   "metadata": {
    "ExecuteTime": {
     "end_time": "2018-06-20T19:09:57.964663Z",
     "start_time": "2018-06-20T19:09:57.959788Z"
    }
   },
   "outputs": [
    {
     "name": "stdout",
     "output_type": "stream",
     "text": [
      "Index(['SK_ID_CURR', 'onehot_NAME_CONTRACT_STATUS_Active',\n",
      "       'onehot_NAME_CONTRACT_STATUS_Approved',\n",
      "       'onehot_NAME_CONTRACT_STATUS_Completed',\n",
      "       'onehot_NAME_CONTRACT_STATUS_Demand',\n",
      "       'onehot_NAME_CONTRACT_STATUS_Refused',\n",
      "       'onehot_NAME_CONTRACT_STATUS_Sent proposal',\n",
      "       'onehot_NAME_CONTRACT_STATUS_Signed', 'count_SK_ID_CURR',\n",
      "       'positivecount_SK_ID_CURR_SK_DPD',\n",
      "       ...\n",
      "       'AMT_RECIVABLE_mean', 'AMT_RECIVABLE_median', 'AMT_RECIVABLE_max',\n",
      "       'AMT_RECIVABLE_min', 'AMT_RECIVABLE_sum',\n",
      "       'SK_DPD_DEF_divide_SK_DPD_mean', 'SK_DPD_DEF_divide_SK_DPD_median',\n",
      "       'SK_DPD_DEF_divide_SK_DPD_max', 'SK_DPD_DEF_divide_SK_DPD_min',\n",
      "       'SK_DPD_DEF_divide_SK_DPD_sum'],\n",
      "      dtype='object', length=167)\n"
     ]
    },
    {
     "data": {
      "text/plain": [
       "(86905, 167)"
      ]
     },
     "execution_count": 5,
     "metadata": {},
     "output_type": "execute_result"
    }
   ],
   "source": [
    "print(df.columns)\n",
    "df.shape"
   ]
  },
  {
   "cell_type": "code",
   "execution_count": 6,
   "metadata": {
    "ExecuteTime": {
     "end_time": "2018-06-20T19:09:58.208519Z",
     "start_time": "2018-06-20T19:09:57.966180Z"
    }
   },
   "outputs": [
    {
     "data": {
      "text/plain": [
       "'done'"
      ]
     },
     "execution_count": 6,
     "metadata": {},
     "output_type": "execute_result"
    }
   ],
   "source": [
    "df.to_pickle(PATH + 'inter/credit2curr.pkl')\n",
    "'done'"
   ]
  }
 ],
 "metadata": {
  "kernelspec": {
   "display_name": "Python 3",
   "language": "python",
   "name": "python3"
  },
  "language_info": {
   "codemirror_mode": {
    "name": "ipython",
    "version": 3
   },
   "file_extension": ".py",
   "mimetype": "text/x-python",
   "name": "python",
   "nbconvert_exporter": "python",
   "pygments_lexer": "ipython3",
   "version": "3.6.3"
  },
  "varInspector": {
   "cols": {
    "lenName": 16,
    "lenType": 16,
    "lenVar": 40
   },
   "kernels_config": {
    "python": {
     "delete_cmd_postfix": "",
     "delete_cmd_prefix": "del ",
     "library": "var_list.py",
     "varRefreshCmd": "print(var_dic_list())"
    },
    "r": {
     "delete_cmd_postfix": ") ",
     "delete_cmd_prefix": "rm(",
     "library": "var_list.r",
     "varRefreshCmd": "cat(var_dic_list()) "
    }
   },
   "types_to_exclude": [
    "module",
    "function",
    "builtin_function_or_method",
    "instance",
    "_Feature"
   ],
   "window_display": false
  }
 },
 "nbformat": 4,
 "nbformat_minor": 2
}
