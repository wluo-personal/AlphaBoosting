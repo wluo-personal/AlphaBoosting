{
 "cells": [
  {
   "cell_type": "code",
   "execution_count": null,
   "metadata": {},
   "outputs": [],
   "source": [
    "def get_open_date(df, time_col, gp_cols):\n",
    "    return df.groupby(gp_cols)[[time_col]].min().reset_index().rename(columns={time_col: 'open_data'})\n",
    "\n",
    "def count_time(df, gp_col, time_col, cut_off_time):\n",
    "    r = df[gp_col].groupby(gp_col).size().reset_index()[gp_col]\n",
    "    for t in cut_off_time:\n",
    "        temp = df.copy()\n",
    "        temp[time_col] = (temp[time_col] >= t)\n",
    "        r = r.merge(temp.groupby(gp_col)[[time_col]].sum().reset_index().rename({time_col: 'count_{}_{}'.format(abs(t), open_date)}, axis=1), on=gp_col)\n",
    "    \n",
    "    return r "
   ]
  }
 ],
 "metadata": {
  "kernelspec": {
   "display_name": "Python 3",
   "language": "python",
   "name": "python3"
  },
  "language_info": {
   "codemirror_mode": {
    "name": "ipython",
    "version": 3
   },
   "file_extension": ".py",
   "mimetype": "text/x-python",
   "name": "python",
   "nbconvert_exporter": "python",
   "pygments_lexer": "ipython3",
   "version": "3.6.5"
  },
  "varInspector": {
   "cols": {
    "lenName": 16,
    "lenType": 16,
    "lenVar": 40
   },
   "kernels_config": {
    "python": {
     "delete_cmd_postfix": "",
     "delete_cmd_prefix": "del ",
     "library": "var_list.py",
     "varRefreshCmd": "print(var_dic_list())"
    },
    "r": {
     "delete_cmd_postfix": ") ",
     "delete_cmd_prefix": "rm(",
     "library": "var_list.r",
     "varRefreshCmd": "cat(var_dic_list()) "
    }
   },
   "types_to_exclude": [
    "module",
    "function",
    "builtin_function_or_method",
    "instance",
    "_Feature"
   ],
   "window_display": false
  }
 },
 "nbformat": 4,
 "nbformat_minor": 2
}
