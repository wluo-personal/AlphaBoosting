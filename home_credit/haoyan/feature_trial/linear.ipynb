{
 "cells": [
  {
   "cell_type": "code",
   "execution_count": 8,
   "metadata": {
    "ExecuteTime": {
     "end_time": "2018-06-21T20:27:39.512591Z",
     "start_time": "2018-06-21T20:27:39.504970Z"
    },
    "collapsed": true
   },
   "outputs": [],
   "source": [
    "import os\n",
    "import gc\n",
    "import pandas as pd\n",
    "from sklearn.linear_model import LinearRegression\n",
    "\n",
    "PATH = '/home/kai/data/kaggle/homecredit/'\n",
    "if not os.path.exists(PATH + 'inter/linear/'): os.mkdir(PATH + 'inter/linear/')"
   ]
  },
  {
   "cell_type": "code",
   "execution_count": 9,
   "metadata": {
    "ExecuteTime": {
     "end_time": "2018-06-21T20:27:39.991303Z",
     "start_time": "2018-06-21T20:27:39.914632Z"
    },
    "collapsed": true
   },
   "outputs": [],
   "source": [
    "def numerical(df, gp_col, col, agg_fun):\n",
    "    _df = df.groupby(gp_col)[[col]].agg(agg_fun)\n",
    "    \n",
    "    columns = []\n",
    "    for x in _df.columns.levels[0]:\n",
    "        for y in _df.columns.levels[1]:\n",
    "            columns.append('_'.join([x, y]))\n",
    "    _df.columns = columns\n",
    "    return _df.reset_index().astype({gp_col: df[gp_col].dtype})\n",
    "\n",
    "def minus_name(col1, col2): return col1 + '_minus_' + col2\n",
    "def minus(df, col1, col2): return df[col1] - df[col2]\n",
    "\n",
    "def ratio_name(col1, col2): return col1 + '_divide_' + col2\n",
    "def ratio(df, col1, col2): return df[col1] / (df[col2] + 1)\n",
    "\n",
    "\n",
    "def _apply_group(args):\n",
    "    func, group_id, x, y = args\n",
    "    return [group_id] + func(x, y)\n",
    "\n",
    "def apply_by_multiprocessing(func, **kwargs):\n",
    "    workers = kwargs.pop('workers')\n",
    "    group_list = kwargs.pop('group_list')\n",
    "    pool = multiprocessing.Pool(processes=workers)\n",
    "    result = pool.map(_apply_group, [(func, group_id, x, y) for group_id, x, y in group_list])\n",
    "    pool.close()\n",
    "    return result\n",
    "\n",
    "def liner_reg(x, y, **kwargs):\n",
    "    lg = LinearRegression()\n",
    "    lg = LinearRegression()\n",
    "    lg.fit(x, y)\n",
    "    z = (x - max(x)) / (max(x) - min(x) + 1)\n",
    "    lg1.fit(z, y)\n",
    "    return [lg.coef_[0][0], lg1.coef_[0][0]]\n",
    "\n",
    "def linear(df_, gp_col, x_col_name, y_col_name, x_map=None, n_job=8):\n",
    "    df = df_.sort_values(x_col_name).reset_index()\n",
    "    if x_map != None: df[x_col_name] = df[x_col_name].map(x_map)\n",
    "    group = [(i, x[x_col_name], x[y_col_name]) for i, x in df.groupby(gp_col)]\n",
    "    r = apply_by_multiprocessing(liner_reg, workers=n_job, group_list=group)\n",
    "    tmpdf = pd.DataFrame(r, column=[gp_col, x_col_name+'_lg_'+y_col_name,\n",
    "                                    x_col_name+'_normallg_'+y_col_name])\n",
    "    return tmpdf.astype({gp_col: df_[gp_col].dtype})"
   ]
  },
  {
   "cell_type": "markdown",
   "metadata": {},
   "source": [
    "# bureau"
   ]
  },
  {
   "cell_type": "code",
   "execution_count": null,
   "metadata": {
    "collapsed": true
   },
   "outputs": [],
   "source": [
    "bureau = pd.read_csv(PATH + 'bureau.csv')\n",
    "bb = pd.read_csv(PATH + 'bureau_balance.csv')"
   ]
  },
  {
   "cell_type": "code",
   "execution_count": null,
   "metadata": {
    "collapsed": true
   },
   "outputs": [],
   "source": [
    "tmp_df = pd.DataFrame(bureau[['SK_ID_CURR', 'SK_ID_BUREAU']])\n",
    "tmp_df1 = bb[bb['STATUS']!='C' & bb['STATUS']!='X']\n",
    "tmp_df2 = bb[bb['STATUS'] != 'X']\n",
    "x_map = {'C':0, '0':0, '1':1, '2':2, '3':3, '4':4, '5':5}\n",
    "\n",
    "tmp_df = tmp_df.merge(linear(tmp_df1, 'SK_ID_BUREAU', 'MONTHS_BALANCE', 'STATUS', x_map), on='SK_ID_BUREAU', how='left')\n",
    "tmp_df = tmp_df.merge(linear(tmp_df2, 'SK_ID_BUREAU', 'MONTHS_BALANCE', 'STATUS', x_map), on='SK_ID_BUREAU', how='left')\n",
    "\n",
    "r = None\n",
    "agg_list = ['mean', 'median', 'max', 'min']\n",
    "for x in tmp_df.columns:\n",
    "    if x not in ['SK_ID_BUREAU', 'SK_ID_CURR']:\n",
    "        if r == None: r = numerical(tmp_df, 'SK_ID_CURR', x, agg_list)\n",
    "        else: r = r.merge(numerical(tmp_df, 'SK_ID_CURR', x, agg_list), on='SK_ID_CURR', how='left')\n",
    "\n",
    "columns = []\n",
    "for x in r.columns:\n",
    "    tmp = 'bureau_' + x if x != merged_col else x\n",
    "    columns.append(tmp)\n",
    "r.columns = columns\n",
    "'done'"
   ]
  },
  {
   "cell_type": "code",
   "execution_count": null,
   "metadata": {
    "collapsed": true
   },
   "outputs": [],
   "source": [
    "r.to_pickle(PATH + 'inter//linearbureau2curr.pkl')"
   ]
  },
  {
   "cell_type": "markdown",
   "metadata": {},
   "source": [
    "# installments payments"
   ]
  },
  {
   "cell_type": "code",
   "execution_count": null,
   "metadata": {
    "collapsed": true
   },
   "outputs": [],
   "source": [
    "inst = pd.read_csv(PATH + 'installments_payments.csv')"
   ]
  },
  {
   "cell_type": "code",
   "execution_count": 15,
   "metadata": {
    "ExecuteTime": {
     "end_time": "2018-06-21T20:34:30.766160Z",
     "start_time": "2018-06-21T20:33:26.530059Z"
    }
   },
   "outputs": [
    {
     "name": "stdout",
     "output_type": "stream",
     "text": [
      "9309477 4293019\n"
     ]
    },
    {
     "name": "stderr",
     "output_type": "stream",
     "text": [
      "/home/kai/anaconda3/lib/python3.6/site-packages/ipykernel_launcher.py:4: SettingWithCopyWarning: \n",
      "A value is trying to be set on a copy of a slice from a DataFrame\n",
      "\n",
      "See the caveats in the documentation: http://pandas.pydata.org/pandas-docs/stable/indexing.html#indexing-view-versus-copy\n",
      "  after removing the cwd from sys.path.\n"
     ]
    },
    {
     "name": "stdout",
     "output_type": "stream",
     "text": [
      "0\n"
     ]
    },
    {
     "name": "stderr",
     "output_type": "stream",
     "text": [
      "/home/kai/anaconda3/lib/python3.6/site-packages/ipykernel_launcher.py:8: SettingWithCopyWarning: \n",
      "A value is trying to be set on a copy of a slice from a DataFrame\n",
      "\n",
      "See the caveats in the documentation: http://pandas.pydata.org/pandas-docs/stable/indexing.html#indexing-view-versus-copy\n",
      "  \n"
     ]
    }
   ],
   "source": [
    "name1 = minus_name('DAYS_ENTRY_PAYMENT', 'DAYS_INSTALMENT')\n",
    "inst[name1] = minus(inst, 'DAYS_ENTRY_PAYMENT', 'DAYS_INSTALMENT')\n",
    "inst[name1][inst[name1] < 0] = 0\n",
    "name2 = minus_name('AMT_INSTALMENT', 'AMT_PAYMENT')\n",
    "inst[name2] = minus(inst, 'AMT_INSTALMENT', 'AMT_PAYMENT')\n",
    "inst[name2][inst[name2] < 0] = 0\n",
    "name3 = ratio_name(name2, name1)\n",
    "inst[name3] = ratio(inst, name2, name1)\n",
    "\n",
    "r = None\n",
    "for x in [name1, name2, name3]:\n",
    "    if r == None: r = linear(inst, 'SK_ID_CURR', x)\n",
    "    else: r = r.merge(linear(inst, 'SK_ID_CURR', x), on='SK_ID_CURR', how='left')\n",
    "\n",
    "columns = []\n",
    "for x in r.columns:\n",
    "    tmp = 'bureau_' + x if x != merged_col else x\n",
    "    columns.append(tmp)\n",
    "r.columns = columns\n",
    "'done'"
   ]
  },
  {
   "cell_type": "code",
   "execution_count": null,
   "metadata": {
    "collapsed": true
   },
   "outputs": [],
   "source": [
    "r.to_pickle(PATH + 'inter/linear/linearinstal2curr.pkl')"
   ]
  },
  {
   "cell_type": "markdown",
   "metadata": {},
   "source": [
    "# credit card balance"
   ]
  },
  {
   "cell_type": "code",
   "execution_count": null,
   "metadata": {
    "collapsed": true
   },
   "outputs": [],
   "source": []
  },
  {
   "cell_type": "markdown",
   "metadata": {},
   "source": [
    "# pos cash balance"
   ]
  },
  {
   "cell_type": "code",
   "execution_count": null,
   "metadata": {
    "collapsed": true
   },
   "outputs": [],
   "source": []
  }
 ],
 "metadata": {
  "kernelspec": {
   "display_name": "Python 3",
   "language": "python",
   "name": "python3"
  },
  "language_info": {
   "codemirror_mode": {
    "name": "ipython",
    "version": 3
   },
   "file_extension": ".py",
   "mimetype": "text/x-python",
   "name": "python",
   "nbconvert_exporter": "python",
   "pygments_lexer": "ipython3",
   "version": "3.6.3"
  },
  "varInspector": {
   "cols": {
    "lenName": 16,
    "lenType": 16,
    "lenVar": 40
   },
   "kernels_config": {
    "python": {
     "delete_cmd_postfix": "",
     "delete_cmd_prefix": "del ",
     "library": "var_list.py",
     "varRefreshCmd": "print(var_dic_list())"
    },
    "r": {
     "delete_cmd_postfix": ") ",
     "delete_cmd_prefix": "rm(",
     "library": "var_list.r",
     "varRefreshCmd": "cat(var_dic_list()) "
    }
   },
   "types_to_exclude": [
    "module",
    "function",
    "builtin_function_or_method",
    "instance",
    "_Feature"
   ],
   "window_display": false
  }
 },
 "nbformat": 4,
 "nbformat_minor": 2
}
