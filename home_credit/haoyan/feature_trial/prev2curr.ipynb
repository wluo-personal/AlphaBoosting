{
 "cells": [
  {
   "cell_type": "code",
   "execution_count": 1,
   "metadata": {
    "ExecuteTime": {
     "end_time": "2018-06-21T20:15:24.724182Z",
     "start_time": "2018-06-21T20:15:14.895469Z"
    },
    "scrolled": true
   },
   "outputs": [
    {
     "data": {
      "text/html": [
       "<div>\n",
       "<style>\n",
       "    .dataframe thead tr:only-child th {\n",
       "        text-align: right;\n",
       "    }\n",
       "\n",
       "    .dataframe thead th {\n",
       "        text-align: left;\n",
       "    }\n",
       "\n",
       "    .dataframe tbody tr th {\n",
       "        vertical-align: top;\n",
       "    }\n",
       "</style>\n",
       "<table border=\"1\" class=\"dataframe\">\n",
       "  <thead>\n",
       "    <tr style=\"text-align: right;\">\n",
       "      <th></th>\n",
       "      <th>SK_ID_PREV</th>\n",
       "      <th>SK_ID_CURR</th>\n",
       "      <th>NAME_CONTRACT_TYPE</th>\n",
       "      <th>AMT_ANNUITY</th>\n",
       "      <th>AMT_APPLICATION</th>\n",
       "      <th>AMT_CREDIT</th>\n",
       "      <th>AMT_DOWN_PAYMENT</th>\n",
       "      <th>AMT_GOODS_PRICE</th>\n",
       "      <th>WEEKDAY_APPR_PROCESS_START</th>\n",
       "      <th>HOUR_APPR_PROCESS_START</th>\n",
       "      <th>...</th>\n",
       "      <th>NAME_SELLER_INDUSTRY</th>\n",
       "      <th>CNT_PAYMENT</th>\n",
       "      <th>NAME_YIELD_GROUP</th>\n",
       "      <th>PRODUCT_COMBINATION</th>\n",
       "      <th>DAYS_FIRST_DRAWING</th>\n",
       "      <th>DAYS_FIRST_DUE</th>\n",
       "      <th>DAYS_LAST_DUE_1ST_VERSION</th>\n",
       "      <th>DAYS_LAST_DUE</th>\n",
       "      <th>DAYS_TERMINATION</th>\n",
       "      <th>NFLAG_INSURED_ON_APPROVAL</th>\n",
       "    </tr>\n",
       "  </thead>\n",
       "  <tbody>\n",
       "    <tr>\n",
       "      <th>0</th>\n",
       "      <td>2030495</td>\n",
       "      <td>271877</td>\n",
       "      <td>Consumer loans</td>\n",
       "      <td>1730.430</td>\n",
       "      <td>17145.0</td>\n",
       "      <td>17145.0</td>\n",
       "      <td>0.0</td>\n",
       "      <td>17145.0</td>\n",
       "      <td>SATURDAY</td>\n",
       "      <td>15</td>\n",
       "      <td>...</td>\n",
       "      <td>Connectivity</td>\n",
       "      <td>12.0</td>\n",
       "      <td>middle</td>\n",
       "      <td>POS mobile with interest</td>\n",
       "      <td>365243.0</td>\n",
       "      <td>-42.0</td>\n",
       "      <td>300.0</td>\n",
       "      <td>-42.0</td>\n",
       "      <td>-37.0</td>\n",
       "      <td>0.0</td>\n",
       "    </tr>\n",
       "    <tr>\n",
       "      <th>1</th>\n",
       "      <td>2802425</td>\n",
       "      <td>108129</td>\n",
       "      <td>Cash loans</td>\n",
       "      <td>25188.615</td>\n",
       "      <td>607500.0</td>\n",
       "      <td>679671.0</td>\n",
       "      <td>NaN</td>\n",
       "      <td>607500.0</td>\n",
       "      <td>THURSDAY</td>\n",
       "      <td>11</td>\n",
       "      <td>...</td>\n",
       "      <td>XNA</td>\n",
       "      <td>36.0</td>\n",
       "      <td>low_action</td>\n",
       "      <td>Cash X-Sell: low</td>\n",
       "      <td>365243.0</td>\n",
       "      <td>-134.0</td>\n",
       "      <td>916.0</td>\n",
       "      <td>365243.0</td>\n",
       "      <td>365243.0</td>\n",
       "      <td>1.0</td>\n",
       "    </tr>\n",
       "  </tbody>\n",
       "</table>\n",
       "<p>2 rows × 37 columns</p>\n",
       "</div>"
      ],
      "text/plain": [
       "   SK_ID_PREV  SK_ID_CURR NAME_CONTRACT_TYPE  AMT_ANNUITY  AMT_APPLICATION  \\\n",
       "0     2030495      271877     Consumer loans     1730.430          17145.0   \n",
       "1     2802425      108129         Cash loans    25188.615         607500.0   \n",
       "\n",
       "   AMT_CREDIT  AMT_DOWN_PAYMENT  AMT_GOODS_PRICE WEEKDAY_APPR_PROCESS_START  \\\n",
       "0     17145.0               0.0          17145.0                   SATURDAY   \n",
       "1    679671.0               NaN         607500.0                   THURSDAY   \n",
       "\n",
       "   HOUR_APPR_PROCESS_START            ...            NAME_SELLER_INDUSTRY  \\\n",
       "0                       15            ...                    Connectivity   \n",
       "1                       11            ...                             XNA   \n",
       "\n",
       "   CNT_PAYMENT  NAME_YIELD_GROUP       PRODUCT_COMBINATION  \\\n",
       "0         12.0            middle  POS mobile with interest   \n",
       "1         36.0        low_action          Cash X-Sell: low   \n",
       "\n",
       "   DAYS_FIRST_DRAWING DAYS_FIRST_DUE DAYS_LAST_DUE_1ST_VERSION  DAYS_LAST_DUE  \\\n",
       "0            365243.0          -42.0                     300.0          -42.0   \n",
       "1            365243.0         -134.0                     916.0       365243.0   \n",
       "\n",
       "  DAYS_TERMINATION NFLAG_INSURED_ON_APPROVAL  \n",
       "0            -37.0                       0.0  \n",
       "1         365243.0                       1.0  \n",
       "\n",
       "[2 rows x 37 columns]"
      ]
     },
     "execution_count": 1,
     "metadata": {},
     "output_type": "execute_result"
    }
   ],
   "source": [
    "import pandas as pd\n",
    "\n",
    "PATH = '/home/kai/data/kaggle/homecredit/'\n",
    "prev = pd.read_csv(PATH + 'previous_application.csv')\n",
    "train = pd.read_csv(PATH + 'application_train.csv')\n",
    "test = pd.read_csv(PATH + 'application_test.csv')\n",
    "prev.head(2)"
   ]
  },
  {
   "cell_type": "code",
   "execution_count": 2,
   "metadata": {
    "ExecuteTime": {
     "end_time": "2018-06-21T20:15:24.767228Z",
     "start_time": "2018-06-21T20:15:24.725834Z"
    }
   },
   "outputs": [
    {
     "data": {
      "text/plain": [
       "'done'"
      ]
     },
     "execution_count": 2,
     "metadata": {},
     "output_type": "execute_result"
    }
   ],
   "source": [
    "def minus_name(col1, col2): return col1 + '_minus_' + col2\n",
    "def minus(df, col1, col2): return df[col1] - df[col2]\n",
    "\n",
    "def ratio_name(col1, col2): return col1 + '_divide_' + col2\n",
    "def ratio(df, col1, col2): return df[col1] / (df[col2] + 1)\n",
    "\n",
    "def positive_count(df, gp_col, col):\n",
    "    group = (df[col] > 0).astype('int8')\n",
    "    group = pd.concat([df[gp_col], group], axis=1).groupby(gp_col)[[col]].sum().reset_index().rename(index=str, columns={col: 'positivecount_'+'_'.join([gp_col, col])})\n",
    "    return group.astype({gp_col: df[gp_col].dtype})\n",
    "\n",
    "def count(df, gp_col, col):\n",
    "    group = df[[gp_col,col]].groupby(gp_col)[[col]].count().reset_index().rename(index=str, columns={col:'count_'+gp_col})\n",
    "    return group.astype({gp_col: df[gp_col].dtype})\n",
    "\n",
    "def numerical(df, gp_col, col, agg_fun):\n",
    "    _df = df.groupby(gp_col)[[col]].agg(agg_fun)\n",
    "    \n",
    "    columns = []\n",
    "    for x in _df.columns.levels[0]:\n",
    "        for y in _df.columns.levels[1]:\n",
    "            columns.append('_'.join([x, y]))\n",
    "    _df.columns = columns\n",
    "    return _df.reset_index().astype({gp_col: df[gp_col].dtype})\n",
    "\n",
    "def one_hot(df, gp_col, col):\n",
    "    return pd.concat([df[gp_col], pd.get_dummies(df[col], prefix='onehot_' + col)], axis=1).groupby(gp_col).sum().reset_index().astype({gp_col: df[gp_col].dtype})\n",
    "\n",
    "'done'"
   ]
  },
  {
   "cell_type": "code",
   "execution_count": 3,
   "metadata": {
    "ExecuteTime": {
     "end_time": "2018-06-21T20:15:24.791396Z",
     "start_time": "2018-06-21T20:15:24.768852Z"
    }
   },
   "outputs": [
    {
     "data": {
      "text/plain": [
       "array(['SK_ID_PREV', 'SK_ID_CURR', 'NAME_CONTRACT_TYPE', 'AMT_ANNUITY',\n",
       "       'AMT_APPLICATION', 'AMT_CREDIT', 'AMT_DOWN_PAYMENT',\n",
       "       'AMT_GOODS_PRICE', 'WEEKDAY_APPR_PROCESS_START',\n",
       "       'HOUR_APPR_PROCESS_START', 'FLAG_LAST_APPL_PER_CONTRACT',\n",
       "       'NFLAG_LAST_APPL_IN_DAY', 'RATE_DOWN_PAYMENT',\n",
       "       'RATE_INTEREST_PRIMARY', 'RATE_INTEREST_PRIVILEGED',\n",
       "       'NAME_CASH_LOAN_PURPOSE', 'NAME_CONTRACT_STATUS', 'DAYS_DECISION',\n",
       "       'NAME_PAYMENT_TYPE', 'CODE_REJECT_REASON', 'NAME_TYPE_SUITE',\n",
       "       'NAME_CLIENT_TYPE', 'NAME_GOODS_CATEGORY', 'NAME_PORTFOLIO',\n",
       "       'NAME_PRODUCT_TYPE', 'CHANNEL_TYPE', 'SELLERPLACE_AREA',\n",
       "       'NAME_SELLER_INDUSTRY', 'CNT_PAYMENT', 'NAME_YIELD_GROUP',\n",
       "       'PRODUCT_COMBINATION', 'DAYS_FIRST_DRAWING', 'DAYS_FIRST_DUE',\n",
       "       'DAYS_LAST_DUE_1ST_VERSION', 'DAYS_LAST_DUE', 'DAYS_TERMINATION',\n",
       "       'NFLAG_INSURED_ON_APPROVAL'], dtype=object)"
      ]
     },
     "execution_count": 3,
     "metadata": {},
     "output_type": "execute_result"
    }
   ],
   "source": [
    "prev.columns.values"
   ]
  },
  {
   "cell_type": "code",
   "execution_count": 4,
   "metadata": {
    "ExecuteTime": {
     "end_time": "2018-06-21T20:15:25.008569Z",
     "start_time": "2018-06-21T20:15:24.793519Z"
    },
    "collapsed": true
   },
   "outputs": [],
   "source": [
    "ignore = ['SELLERPLACE_AREA', 'PRODUCT_COMBINATION']\n",
    "not_ignore = [x for x in prev.columns if x not in ignore]\n",
    "prev = prev[not_ignore]"
   ]
  },
  {
   "cell_type": "code",
   "execution_count": 5,
   "metadata": {
    "ExecuteTime": {
     "end_time": "2018-06-21T20:16:14.926920Z",
     "start_time": "2018-06-21T20:15:25.010266Z"
    }
   },
   "outputs": [
    {
     "name": "stdout",
     "output_type": "stream",
     "text": [
      "minus\n",
      "deal\n",
      "ratio\n",
      "NAME_CONTRACT_TYPE\n",
      "FLAG_LAST_APPL_PER_CONTRACT\n",
      "NFLAG_LAST_APPL_IN_DAY\n",
      "NAME_CONTRACT_STATUS\n",
      "NAME_PAYMENT_TYPE\n",
      "CODE_REJECT_REASON\n",
      "NAME_TYPE_SUITE\n",
      "NAME_CLIENT_TYPE\n",
      "NAME_PORTFOLIO\n",
      "NAME_PRODUCT_TYPE\n",
      "CHANNEL_TYPE\n",
      "NFLAG_INSURED_ON_APPROVAL\n",
      "NAME_SELLER_INDUSTRY\n",
      "NAME_YIELD_GROUP\n",
      "WEEKDAY_APPR_PROCESS_START\n",
      "FLAG_NAME_CASH_LOAN_PURPOSE\n",
      "FLAG_NAME_GOODS_CATEGORY\n",
      "count\n",
      "onehot_NAME_CONTRACT_TYPE_Cash loans\n",
      "onehot_NAME_CONTRACT_TYPE_Consumer loans\n",
      "onehot_NAME_CONTRACT_TYPE_Revolving loans\n",
      "onehot_NAME_CONTRACT_TYPE_XNA\n",
      "onehot_FLAG_LAST_APPL_PER_CONTRACT_N\n",
      "onehot_FLAG_LAST_APPL_PER_CONTRACT_Y\n",
      "onehot_NFLAG_LAST_APPL_IN_DAY_0\n",
      "onehot_NFLAG_LAST_APPL_IN_DAY_1\n",
      "onehot_NAME_CONTRACT_STATUS_Approved\n",
      "onehot_NAME_CONTRACT_STATUS_Canceled\n",
      "onehot_NAME_CONTRACT_STATUS_Refused\n",
      "onehot_NAME_CONTRACT_STATUS_Unused offer\n",
      "onehot_NAME_PAYMENT_TYPE_Cash through the bank\n",
      "onehot_NAME_PAYMENT_TYPE_Cashless from the account of the employer\n",
      "onehot_NAME_PAYMENT_TYPE_Non-cash from your account\n",
      "onehot_NAME_PAYMENT_TYPE_XNA\n",
      "onehot_CODE_REJECT_REASON_CLIENT\n",
      "onehot_CODE_REJECT_REASON_HC\n",
      "onehot_CODE_REJECT_REASON_LIMIT\n",
      "onehot_CODE_REJECT_REASON_SCO\n",
      "onehot_CODE_REJECT_REASON_SCOFR\n",
      "onehot_CODE_REJECT_REASON_SYSTEM\n",
      "onehot_CODE_REJECT_REASON_VERIF\n",
      "onehot_CODE_REJECT_REASON_XAP\n",
      "onehot_CODE_REJECT_REASON_XNA\n",
      "onehot_NAME_TYPE_SUITE_Children\n",
      "onehot_NAME_TYPE_SUITE_Family\n",
      "onehot_NAME_TYPE_SUITE_Group of people\n",
      "onehot_NAME_TYPE_SUITE_Other_A\n",
      "onehot_NAME_TYPE_SUITE_Other_B\n",
      "onehot_NAME_TYPE_SUITE_Spouse, partner\n",
      "onehot_NAME_TYPE_SUITE_Unaccompanied\n",
      "onehot_NAME_CLIENT_TYPE_New\n",
      "onehot_NAME_CLIENT_TYPE_Refreshed\n",
      "onehot_NAME_CLIENT_TYPE_Repeater\n",
      "onehot_NAME_CLIENT_TYPE_XNA\n",
      "onehot_NAME_PORTFOLIO_Cards\n",
      "onehot_NAME_PORTFOLIO_Cars\n",
      "onehot_NAME_PORTFOLIO_Cash\n",
      "onehot_NAME_PORTFOLIO_POS\n",
      "onehot_NAME_PORTFOLIO_XNA\n",
      "onehot_NAME_PRODUCT_TYPE_XNA\n",
      "onehot_NAME_PRODUCT_TYPE_walk-in\n",
      "onehot_NAME_PRODUCT_TYPE_x-sell\n",
      "onehot_CHANNEL_TYPE_AP+ (Cash loan)\n",
      "onehot_CHANNEL_TYPE_Car dealer\n",
      "onehot_CHANNEL_TYPE_Channel of corporate sales\n",
      "onehot_CHANNEL_TYPE_Contact center\n",
      "onehot_CHANNEL_TYPE_Country-wide\n",
      "onehot_CHANNEL_TYPE_Credit and cash offices\n",
      "onehot_CHANNEL_TYPE_Regional / Local\n",
      "onehot_CHANNEL_TYPE_Stone\n",
      "onehot_NFLAG_INSURED_ON_APPROVAL_0.0\n",
      "onehot_NFLAG_INSURED_ON_APPROVAL_1.0\n",
      "onehot_NAME_SELLER_INDUSTRY_Auto technology\n",
      "onehot_NAME_SELLER_INDUSTRY_Clothing\n",
      "onehot_NAME_SELLER_INDUSTRY_Connectivity\n",
      "onehot_NAME_SELLER_INDUSTRY_Construction\n",
      "onehot_NAME_SELLER_INDUSTRY_Consumer electronics\n",
      "onehot_NAME_SELLER_INDUSTRY_Furniture\n",
      "onehot_NAME_SELLER_INDUSTRY_Industry\n",
      "onehot_NAME_SELLER_INDUSTRY_Jewelry\n",
      "onehot_NAME_SELLER_INDUSTRY_MLM partners\n",
      "onehot_NAME_SELLER_INDUSTRY_Tourism\n",
      "onehot_NAME_SELLER_INDUSTRY_XNA\n",
      "onehot_NAME_YIELD_GROUP_XNA\n",
      "onehot_NAME_YIELD_GROUP_high\n",
      "onehot_NAME_YIELD_GROUP_low_action\n",
      "onehot_NAME_YIELD_GROUP_low_normal\n",
      "onehot_NAME_YIELD_GROUP_middle\n",
      "onehot_WEEKDAY_APPR_PROCESS_START_FRIDAY\n",
      "onehot_WEEKDAY_APPR_PROCESS_START_MONDAY\n",
      "onehot_WEEKDAY_APPR_PROCESS_START_SATURDAY\n",
      "onehot_WEEKDAY_APPR_PROCESS_START_SUNDAY\n",
      "onehot_WEEKDAY_APPR_PROCESS_START_THURSDAY\n",
      "onehot_WEEKDAY_APPR_PROCESS_START_TUESDAY\n",
      "onehot_WEEKDAY_APPR_PROCESS_START_WEDNESDAY\n",
      "onehot_FLAG_NAME_CASH_LOAN_PURPOSE_0\n",
      "onehot_FLAG_NAME_CASH_LOAN_PURPOSE_1\n",
      "onehot_FLAG_NAME_CASH_LOAN_PURPOSE_2\n",
      "onehot_FLAG_NAME_GOODS_CATEGORY_0\n",
      "onehot_FLAG_NAME_GOODS_CATEGORY_1\n",
      "AMT_CREDIT\n",
      "DAYS_FIRST_DUE_minus_DAYS_FIRST_DRAWING\n",
      "AMT_GOODS_PRICE_divide_DAYS_LAST_DUE_1ST_VERSION\n",
      "AMT_GOODS_PRICE_divide_DAYS_DECISION\n",
      "AMT_ANNUITY_divide_DAYS_DECISION\n",
      "AMT_ANNUITY_divide_AMT_APPLICATION\n",
      "AMT_GOODS_PRICE_divide_DAYS_LAST_DUE\n",
      "AMT_CREDIT_divide_AMT_DOWN_PAYMENT\n",
      "AMT_ANNUITY_divide_AMT_DOWN_PAYMENT\n",
      "AMT_ANNUITY_divide_DAYS_TERMINATION_minus_DAYS_FIRST_DRAWING\n",
      "AMT_ANNUITY_divide_DAYS_FIRST_DUE_minus_DAYS_FIRST_DRAWING\n",
      "AMT_DOWN_PAYMENT_divide_DAYS_TERMINATION_minus_DAYS_FIRST_DRAWING\n",
      "AMT_CREDIT_divide_DAYS_TERMINATION\n",
      "AMT_CREDIT_divide_DAYS_DECISION\n",
      "AMT_CREDIT_divide_DAYS_TERMINATION_minus_DAYS_FIRST_DRAWING\n",
      "RATE_INTEREST_PRIVILEGED\n",
      "AMT_DOWN_PAYMENT_divide_AMT_GOODS_PRICE\n",
      "AMT_DOWN_PAYMENT_divide_DAYS_LAST_DUE\n",
      "AMT_DOWN_PAYMENT_divide_DAYS_FIRST_DRAWING\n",
      "AMT_GOODS_PRICE\n",
      "AMT_GOODS_PRICE_divide_DAYS_TERMINATION_minus_DAYS_FIRST_DRAWING\n",
      "AMT_APPLICATION_divide_DAYS_TERMINATION\n",
      "AMT_APPLICATION_divide_DAYS_FIRST_DRAWING\n",
      "AMT_GOODS_PRICE_divide_DAYS_FIRST_DUE_minus_DAYS_FIRST_DRAWING\n",
      "DAYS_LAST_DUE\n",
      "AMT_ANNUITY_divide_AMT_CREDIT\n",
      "CNT_PAYMENT\n",
      "AMT_DOWN_PAYMENT_divide_DAYS_FIRST_DUE\n",
      "AMT_GOODS_PRICE_divide_DAYS_FIRST_DRAWING\n",
      "DAYS_LAST_DUE_1ST_VERSION\n",
      "AMT_ANNUITY_divide_DAYS_FIRST_DRAWING\n",
      "AMT_APPLICATION\n",
      "AMT_APPLICATION_divide_DAYS_DECISION\n",
      "DAYS_DECISION\n",
      "AMT_APPLICATION_divide_AMT_GOODS_PRICE\n",
      "AMT_CREDIT_divide_DAYS_FIRST_DRAWING\n",
      "AMT_APPLICATION_divide_DAYS_LAST_DUE_1ST_VERSION\n",
      "AMT_DOWN_PAYMENT_divide_DAYS_DECISION\n",
      "AMT_APPLICATION_divide_DAYS_FIRST_DUE\n",
      "AMT_CREDIT_divide_DAYS_LAST_DUE\n",
      "AMT_ANNUITY_divide_DAYS_LAST_DUE\n",
      "AMT_CREDIT_divide_DAYS_LAST_DUE_1ST_VERSION\n",
      "DAYS_FIRST_DUE\n",
      "DAYS_TERMINATION_minus_DAYS_FIRST_DRAWING\n",
      "AMT_DOWN_PAYMENT_divide_DAYS_FIRST_DUE_minus_DAYS_FIRST_DRAWING\n",
      "AMT_DOWN_PAYMENT\n",
      "AMT_APPLICATION_divide_DAYS_FIRST_DUE_minus_DAYS_FIRST_DRAWING\n",
      "AMT_ANNUITY_divide_DAYS_LAST_DUE_1ST_VERSION\n",
      "AMT_CREDIT_divide_DAYS_FIRST_DUE_minus_DAYS_FIRST_DRAWING\n",
      "DAYS_TERMINATION\n",
      "AMT_APPLICATION_divide_AMT_CREDIT\n",
      "DAYS_FIRST_DRAWING\n",
      "AMT_ANNUITY_divide_AMT_GOODS_PRICE\n",
      "AMT_CREDIT_divide_DAYS_TERMINATION_minus_DAYS_LAST_DUE\n",
      "AMT_DOWN_PAYMENT_divide_DAYS_TERMINATION\n",
      "AMT_ANNUITY_divide_DAYS_FIRST_DUE\n",
      "AMT_ANNUITY_divide_DAYS_TERMINATION\n",
      "AMT_GOODS_PRICE_divide_DAYS_TERMINATION_minus_DAYS_LAST_DUE\n",
      "AMT_ANNUITY\n",
      "HOUR_APPR_PROCESS_START\n",
      "AMT_APPLICATION_divide_AMT_DOWN_PAYMENT\n",
      "AMT_CREDIT_divide_DAYS_FIRST_DUE\n",
      "AMT_DOWN_PAYMENT_divide_DAYS_LAST_DUE_1ST_VERSION\n",
      "AMT_CREDIT_divide_AMT_GOODS_PRICE\n",
      "AMT_APPLICATION_divide_DAYS_TERMINATION_minus_DAYS_FIRST_DRAWING\n",
      "AMT_GOODS_PRICE_divide_DAYS_FIRST_DUE\n",
      "AMT_ANNUITY_divide_DAYS_TERMINATION_minus_DAYS_LAST_DUE\n",
      "AMT_DOWN_PAYMENT_divide_DAYS_TERMINATION_minus_DAYS_LAST_DUE\n",
      "AMT_APPLICATION_divide_DAYS_LAST_DUE\n",
      "RATE_DOWN_PAYMENT\n",
      "RATE_INTEREST_PRIMARY\n",
      "AMT_GOODS_PRICE_divide_DAYS_TERMINATION\n",
      "DAYS_TERMINATION_minus_DAYS_LAST_DUE\n",
      "AMT_APPLICATION_divide_DAYS_TERMINATION_minus_DAYS_LAST_DUE\n"
     ]
    },
    {
     "data": {
      "text/plain": [
       "'done'"
      ]
     },
     "execution_count": 5,
     "metadata": {},
     "output_type": "execute_result"
    }
   ],
   "source": [
    "merged_col = 'SK_ID_CURR'\n",
    "df = pd.concat([train['SK_ID_CURR'], test['SK_ID_CURR']], ignore_index=True).to_frame()\n",
    "\n",
    "# minus\n",
    "name1 = minus_name('DAYS_TERMINATION', 'DAYS_FIRST_DRAWING')\n",
    "prev[name1] = minus(prev, 'DAYS_TERMINATION', 'DAYS_FIRST_DRAWING')\n",
    "name2 = minus_name('DAYS_FIRST_DUE', 'DAYS_FIRST_DRAWING')\n",
    "prev[name2] = minus(prev, 'DAYS_FIRST_DUE', 'DAYS_FIRST_DRAWING')\n",
    "name3 = minus_name('DAYS_TERMINATION', 'DAYS_LAST_DUE')\n",
    "prev[name3] = minus(prev, 'DAYS_TERMINATION', 'DAYS_LAST_DUE')\n",
    "print('minus')\n",
    "\n",
    "# deal with some cat feat\n",
    "prev['FLAG_NAME_CASH_LOAN_PURPOSE'] = (prev['NAME_CASH_LOAN_PURPOSE']=='XNA') + (prev['NAME_CASH_LOAN_PURPOSE']=='XAP')*2\n",
    "prev['FLAG_NAME_GOODS_CATEGORY'] = (prev['NAME_GOODS_CATEGORY'] == 'XNA') + 0\n",
    "print('deal')\n",
    "\n",
    "# ratio\n",
    "numerator = [x for x in prev.columns if 'AMT' in x]\n",
    "denominator = [x for x in prev.columns if 'DAYS' in x or 'AMT' in x] + [name1, name2, name3]\n",
    "for x in numerator:\n",
    "    for y in denominator:\n",
    "        if (x != y) and (ratio_name(y, x) not in prev.columns):\n",
    "            prev[ratio_name(x, y)] = ratio(prev, x, y)\n",
    "print('ratio')\n",
    "        \n",
    "# one hot\n",
    "categorical = ['NAME_CONTRACT_TYPE', 'FLAG_LAST_APPL_PER_CONTRACT', 'NFLAG_LAST_APPL_IN_DAY', 'NAME_CONTRACT_STATUS',\n",
    "               'NAME_PAYMENT_TYPE', 'CODE_REJECT_REASON', 'NAME_TYPE_SUITE', 'NAME_CLIENT_TYPE',\n",
    "               'NAME_PORTFOLIO', 'NAME_PRODUCT_TYPE', 'CHANNEL_TYPE', 'NFLAG_INSURED_ON_APPROVAL', \n",
    "               'NAME_SELLER_INDUSTRY', 'NAME_YIELD_GROUP', 'WEEKDAY_APPR_PROCESS_START'] + \\\n",
    "              ['FLAG_NAME_CASH_LOAN_PURPOSE', 'FLAG_NAME_GOODS_CATEGORY']\n",
    "for x in categorical:\n",
    "    print(x)\n",
    "    df = df.merge(one_hot(prev, merged_col, x), on=merged_col, how='left')\n",
    "    \n",
    "# count\n",
    "df = df.merge(count(prev, merged_col, 'NAME_CONTRACT_TYPE'), on=merged_col, how='left')\n",
    "count_name = [x for x in df.columns if 'count_' in x][0]\n",
    "print('count')\n",
    "\n",
    "# count ratio\n",
    "for x in df.columns:\n",
    "    if 'positivecount_' in x or 'onehot_' in x:\n",
    "        print(x)\n",
    "        df[ratio_name(x, count_name)] = ratio(df, x, count_name)\n",
    "\n",
    "# numerical\n",
    "ignored = ['SK_ID_CURR', 'SK_ID_PREV', 'NAME_CASH_LOAN_PURPOSE', 'NAME_GOODS_CATEGORY'] + categorical\n",
    "for x in set(prev.columns) - set(ignored):\n",
    "    print(x)\n",
    "    df = df.merge(numerical(prev, merged_col, x, ['mean', 'median', 'max', 'min', 'sum']), on=merged_col, how='left')\n",
    "    \n",
    "columns = []\n",
    "for x in df.columns:\n",
    "    tmp = 'prev_' + x if x != merged_col else x\n",
    "    columns.append(tmp)\n",
    "df.columns = columns\n",
    "\n",
    "'done'"
   ]
  },
  {
   "cell_type": "code",
   "execution_count": 6,
   "metadata": {
    "ExecuteTime": {
     "end_time": "2018-06-21T20:16:14.933207Z",
     "start_time": "2018-06-21T20:16:14.928422Z"
    }
   },
   "outputs": [
    {
     "name": "stdout",
     "output_type": "stream",
     "text": [
      "Index(['SK_ID_CURR', 'prev_onehot_NAME_CONTRACT_TYPE_Cash loans',\n",
      "       'prev_onehot_NAME_CONTRACT_TYPE_Consumer loans',\n",
      "       'prev_onehot_NAME_CONTRACT_TYPE_Revolving loans',\n",
      "       'prev_onehot_NAME_CONTRACT_TYPE_XNA',\n",
      "       'prev_onehot_FLAG_LAST_APPL_PER_CONTRACT_N',\n",
      "       'prev_onehot_FLAG_LAST_APPL_PER_CONTRACT_Y',\n",
      "       'prev_onehot_NFLAG_LAST_APPL_IN_DAY_0',\n",
      "       'prev_onehot_NFLAG_LAST_APPL_IN_DAY_1',\n",
      "       'prev_onehot_NAME_CONTRACT_STATUS_Approved',\n",
      "       ...\n",
      "       'prev_DAYS_TERMINATION_minus_DAYS_LAST_DUE_mean',\n",
      "       'prev_DAYS_TERMINATION_minus_DAYS_LAST_DUE_median',\n",
      "       'prev_DAYS_TERMINATION_minus_DAYS_LAST_DUE_max',\n",
      "       'prev_DAYS_TERMINATION_minus_DAYS_LAST_DUE_min',\n",
      "       'prev_DAYS_TERMINATION_minus_DAYS_LAST_DUE_sum',\n",
      "       'prev_AMT_APPLICATION_divide_DAYS_TERMINATION_minus_DAYS_LAST_DUE_mean',\n",
      "       'prev_AMT_APPLICATION_divide_DAYS_TERMINATION_minus_DAYS_LAST_DUE_median',\n",
      "       'prev_AMT_APPLICATION_divide_DAYS_TERMINATION_minus_DAYS_LAST_DUE_max',\n",
      "       'prev_AMT_APPLICATION_divide_DAYS_TERMINATION_minus_DAYS_LAST_DUE_min',\n",
      "       'prev_AMT_APPLICATION_divide_DAYS_TERMINATION_minus_DAYS_LAST_DUE_sum'],\n",
      "      dtype='object', length=536)\n"
     ]
    },
    {
     "data": {
      "text/plain": [
       "(356255, 536)"
      ]
     },
     "execution_count": 6,
     "metadata": {},
     "output_type": "execute_result"
    }
   ],
   "source": [
    "print(df.columns)\n",
    "df.shape"
   ]
  },
  {
   "cell_type": "code",
   "execution_count": 7,
   "metadata": {
    "ExecuteTime": {
     "end_time": "2018-06-21T20:16:17.219012Z",
     "start_time": "2018-06-21T20:16:14.934673Z"
    }
   },
   "outputs": [
    {
     "data": {
      "text/plain": [
       "'done'"
      ]
     },
     "execution_count": 7,
     "metadata": {},
     "output_type": "execute_result"
    }
   ],
   "source": [
    "df.to_pickle(PATH + 'inter/poscash2curr.pkl')\n",
    "'done'"
   ]
  },
  {
   "cell_type": "code",
   "execution_count": null,
   "metadata": {
    "collapsed": true
   },
   "outputs": [],
   "source": []
  }
 ],
 "metadata": {
  "kernelspec": {
   "display_name": "Python 3",
   "language": "python",
   "name": "python3"
  },
  "language_info": {
   "codemirror_mode": {
    "name": "ipython",
    "version": 3
   },
   "file_extension": ".py",
   "mimetype": "text/x-python",
   "name": "python",
   "nbconvert_exporter": "python",
   "pygments_lexer": "ipython3",
   "version": "3.6.3"
  },
  "varInspector": {
   "cols": {
    "lenName": 16,
    "lenType": 16,
    "lenVar": 40
   },
   "kernels_config": {
    "python": {
     "delete_cmd_postfix": "",
     "delete_cmd_prefix": "del ",
     "library": "var_list.py",
     "varRefreshCmd": "print(var_dic_list())"
    },
    "r": {
     "delete_cmd_postfix": ") ",
     "delete_cmd_prefix": "rm(",
     "library": "var_list.r",
     "varRefreshCmd": "cat(var_dic_list()) "
    }
   },
   "types_to_exclude": [
    "module",
    "function",
    "builtin_function_or_method",
    "instance",
    "_Feature"
   ],
   "window_display": false
  }
 },
 "nbformat": 4,
 "nbformat_minor": 2
}
