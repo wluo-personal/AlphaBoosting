{
 "cells": [
  {
   "cell_type": "code",
   "execution_count": 1,
   "metadata": {
    "ExecuteTime": {
     "end_time": "2018-06-27T20:04:56.914310Z",
     "start_time": "2018-06-27T20:04:55.796569Z"
    }
   },
   "outputs": [
    {
     "data": {
      "text/plain": [
       "((307511, 329), (48744, 328))"
      ]
     },
     "execution_count": 1,
     "metadata": {},
     "output_type": "execute_result"
    }
   ],
   "source": [
    "import pandas as pd\n",
    "import os\n",
    "import gc\n",
    "\n",
    "PATH = '/home/kai/data/kaggle/homecredit/'\n",
    "\n",
    "train = pd.read_pickle(PATH + 'inter/train_only_0.pkl')\n",
    "test = pd.read_pickle(PATH + 'inter/test_only_0.pkl')\n",
    "\n",
    "train.shape, test.shape"
   ]
  },
  {
   "cell_type": "code",
   "execution_count": 2,
   "metadata": {
    "ExecuteTime": {
     "end_time": "2018-06-27T20:05:29.663886Z",
     "start_time": "2018-06-27T20:04:56.915876Z"
    }
   },
   "outputs": [
    {
     "name": "stdout",
     "output_type": "stream",
     "text": [
      "poscash2curr.pkl\n",
      "(356255, 101)\n",
      "(307511, 429) (48744, 428)\n",
      "06_27_bureau2curr.pkl\n",
      "(356255, 347)\n",
      "(307511, 775) (48744, 774)\n",
      "prev2curr.pkl\n",
      "(356255, 536)\n",
      "(307511, 1310) (48744, 1309)\n",
      "credit2curr.pkl\n",
      "(356255, 382)\n",
      "(307511, 1691) (48744, 1690)\n",
      "install2curr.pkl\n",
      "(356255, 51)\n",
      "(307511, 1741) (48744, 1740)\n",
      "linearposcash2curr.pkl\n",
      "(307511, 1745) (48744, 1744)\n",
      "linearbureau2curr.pkl\n",
      "(307511, 1761) (48744, 1760)\n",
      "linearinstal2curr.pkl\n",
      "(307511, 1767) (48744, 1766)\n",
      "linearcredit2curr.pkl\n",
      "(307511, 1781) (48744, 1780)\n"
     ]
    },
    {
     "data": {
      "text/plain": [
       "'done'"
      ]
     },
     "execution_count": 2,
     "metadata": {},
     "output_type": "execute_result"
    }
   ],
   "source": [
    "import re\n",
    "ptn = 'sum'\n",
    "for x in os.listdir(PATH + 'inter/'):\n",
    "    if 'curr' in x:\n",
    "        if x != 'bureau2curr.pkl':\n",
    "            print(x)\n",
    "            tmp = pd.read_pickle(PATH + 'inter/' + x)\n",
    "            print(tmp.shape)\n",
    "            col = [i for i in tmp.columns if re.findall(ptn+'$', i) is None] + ['SK_ID_CURR']\n",
    "            train = train.merge(tmp[col], on='SK_ID_CURR', how='left')\n",
    "            test = test.merge(tmp[col], on='SK_ID_CURR', how='left')\n",
    "            print(train.shape, test.shape)\n",
    "            del tmp\n",
    "            gc.collect()\n",
    "        \n",
    "\n",
    "for x in os.listdir(PATH + 'inter/linear/'):\n",
    "    if x.split('.')[-1] == 'pkl':\n",
    "        print(x)\n",
    "        tmp = pd.read_pickle(PATH + 'inter/linear/' + x)\n",
    "        col = [i for i in tmp.columns if re.findall(ptn+'$', i) is None] + ['SK_ID_CURR']\n",
    "        train = train.merge(tmp[col], on='SK_ID_CURR', how='left')\n",
    "        test = test.merge(tmp[col], on='SK_ID_CURR', how='left')\n",
    "        del tmp\n",
    "        gc.collect()\n",
    "        print(train.shape, test.shape)\n",
    "\n",
    "'done'"
   ]
  },
  {
   "cell_type": "code",
   "execution_count": 3,
   "metadata": {
    "ExecuteTime": {
     "end_time": "2018-06-27T20:05:39.617905Z",
     "start_time": "2018-06-27T20:05:29.665088Z"
    }
   },
   "outputs": [
    {
     "data": {
      "text/plain": [
       "(307511, 1781)"
      ]
     },
     "execution_count": 3,
     "metadata": {},
     "output_type": "execute_result"
    }
   ],
   "source": [
    "train.to_pickle(PATH + 'train_factorized_2_with_linear.pkl')\n",
    "test.to_pickle(PATH + 'test_factorized_2_with_linear.pkl')\n",
    "train.shape"
   ]
  },
  {
   "cell_type": "code",
   "execution_count": 4,
   "metadata": {
    "ExecuteTime": {
     "end_time": "2018-06-27T20:05:39.909205Z",
     "start_time": "2018-06-27T20:05:39.621621Z"
    }
   },
   "outputs": [],
   "source": [
    "import os\n",
    "import numpy as np\n",
    "import pandas as pd\n",
    "import gc\n",
    "import time\n",
    "from contextlib import contextmanager\n",
    "from lightgbm import LGBMClassifier\n",
    "from sklearn.metrics import roc_auc_score, roc_curve\n",
    "from sklearn.model_selection import KFold, StratifiedKFold\n",
    "import matplotlib.pyplot as plt\n",
    "import seaborn as sns\n",
    "import warnings\n",
    "warnings.simplefilter(action='ignore', category=FutureWarning)\n",
    "PATH = '/home/kai/data/kaggle/homecredit/'"
   ]
  },
  {
   "cell_type": "code",
   "execution_count": 5,
   "metadata": {
    "ExecuteTime": {
     "end_time": "2018-06-27T20:05:44.475205Z",
     "start_time": "2018-06-27T20:05:39.910815Z"
    }
   },
   "outputs": [
    {
     "data": {
      "text/plain": [
       "((307511, 1781), (48744, 1780))"
      ]
     },
     "execution_count": 5,
     "metadata": {},
     "output_type": "execute_result"
    }
   ],
   "source": [
    "# Read train and test\n",
    "train = pd.read_pickle(PATH + 'train_factorized_2_with_linear.pkl')\n",
    "test = pd.read_pickle(PATH + 'test_factorized_2_with_linear.pkl')\n",
    "train.shape, test.shape"
   ]
  },
  {
   "cell_type": "code",
   "execution_count": 10,
   "metadata": {
    "ExecuteTime": {
     "end_time": "2018-06-27T20:54:40.545554Z",
     "start_time": "2018-06-27T20:54:40.528562Z"
    }
   },
   "outputs": [],
   "source": [
    "def model_2(train_df, test_df, threshold1, threshold2, n_splits):\n",
    "    print('begin cv')\n",
    "    target = train_df['TARGET']\n",
    "    ignore_cols = ['ORGANIZATION_TYPE', 'TARGET', 'SK_ID_CURR']\n",
    "    features = [x for x in train_df.columns if x not in ignore_cols]\n",
    "    train = train_df[features]\n",
    "    test = test_df[features]\n",
    "\n",
    "    from sklearn.model_selection import StratifiedKFold\n",
    "    from lightgbm import LGBMClassifier\n",
    "    from sklearn.metrics import roc_auc_score\n",
    "    import lightgbm as lgbm\n",
    "\n",
    "    lgbm_train = lgbm.Dataset(data=train,\n",
    "                              label=target,\n",
    "\n",
    "                              categorical_feature=[],#categorical_feats,\n",
    "                              free_raw_data=False)\n",
    "    \n",
    "    lgbm_params = {\n",
    "        'task': 'train',\n",
    "        'boosting_type': 'gbdt',\n",
    "        'objective': 'binary',\n",
    "        'metric': 'auc',\n",
    "        'learning_rate': 0.05,\n",
    "        'num_iteration': 4000,\n",
    "        'num_threads': 16,\n",
    "        \n",
    "        'num_leaves': int(round(44.368535336628419)),\n",
    "        'feature_fraction': 0.28231763168020257,\n",
    "        'bagging_fraction': 0.94901525271474951,\n",
    "        'max_depth': int(round(8.0430115561596267)),\n",
    "        'lambda_l1': 0.30680079516647751,\n",
    "        'lambda_l2': 0.079128660903201031,\n",
    "        'min_split_gain': 0.054005067457890979,\n",
    "        'min_child_weight': 98.172643147364937\n",
    "    }\n",
    "\n",
    "    cv_results = lgbm.cv(train_set=lgbm_train,\n",
    "                         params=lgbm_params,\n",
    "                         nfold=n_splits,\n",
    "                         seed=2018,\n",
    "                         early_stopping_rounds=150,\n",
    "                         verbose_eval=100,\n",
    "                         metrics=['auc'])\n",
    "\n",
    "    optimum_boost_rounds = np.argmax(cv_results['auc-mean'])\n",
    "    print('Optimum boost rounds = {}'.format(optimum_boost_rounds))\n",
    "    print('Best CV result = {}'.format(np.max(cv_results['auc-mean'])))\n",
    "\n",
    "    clf = lgbm.train(train_set=lgbm_train,\n",
    "                     params=lgbm_params,\n",
    "                     num_boost_round=optimum_boost_rounds)\n",
    "    return out_df, small_len, large_len"
   ]
  },
  {
   "cell_type": "code",
   "execution_count": null,
   "metadata": {
    "ExecuteTime": {
     "start_time": "2018-06-27T20:54:41.261Z"
    },
    "scrolled": true
   },
   "outputs": [
    {
     "name": "stdout",
     "output_type": "stream",
     "text": [
      "begin cv\n"
     ]
    },
    {
     "name": "stderr",
     "output_type": "stream",
     "text": [
      "/home/kai/anaconda3/lib/python3.6/site-packages/lightgbm/engine.py:390: UserWarning: Found `num_iteration` in params. Will use it instead of argument\n",
      "  warnings.warn(\"Found `{}` in params. Will use it instead of argument\".format(alias))\n",
      "/home/kai/anaconda3/lib/python3.6/site-packages/lightgbm/basic.py:1027: UserWarning: Using categorical_feature in Dataset.\n",
      "  warnings.warn('Using categorical_feature in Dataset.')\n"
     ]
    },
    {
     "name": "stdout",
     "output_type": "stream",
     "text": [
      "[100]\tcv_agg's auc: 0.779 + 0.00411679\n"
     ]
    }
   ],
   "source": [
    "n_splits = 5\n",
    "pred1, small, large = model_2(train, test, 0.1, 0.2,n_splits)"
   ]
  },
  {
   "cell_type": "markdown",
   "metadata": {},
   "source": [
    "ALL\n",
    "[100]\tcv_agg's auc: 0.7795 + 0.00411813\n",
    "[200]\tcv_agg's auc: 0.789489 + 0.0034798\n",
    "[300]\tcv_agg's auc: 0.792526 + 0.00351702\n",
    "[400]\tcv_agg's auc: 0.7936 + 0.00338604\n",
    "[500]\tcv_agg's auc: 0.794217 + 0.00323238\n",
    "[600]\tcv_agg's auc: 0.794211 + 0.00315142\n",
    "[700]\tcv_agg's auc: 0.794229 + 0.00328479\n",
    "Optimum boost rounds = 550\n",
    "Best CV result = 0.7943004497519002"
   ]
  },
  {
   "cell_type": "markdown",
   "metadata": {},
   "source": [
    "sth2prev2curr no sum\n",
    "[100]\tcv_agg's auc: 0.777611 + 0.00437966\n",
    "[200]\tcv_agg's auc: 0.784903 + 0.00415943\n",
    "[300]\tcv_agg's auc: 0.786765 + 0.00370779\n",
    "[400]\tcv_agg's auc: 0.787215 + 0.00346352\n",
    "[500]\tcv_agg's auc: 0.787577 + 0.00352841 "
   ]
  }
 ],
 "metadata": {
  "kernelspec": {
   "display_name": "Python 3",
   "language": "python",
   "name": "python3"
  },
  "language_info": {
   "codemirror_mode": {
    "name": "ipython",
    "version": 3
   },
   "file_extension": ".py",
   "mimetype": "text/x-python",
   "name": "python",
   "nbconvert_exporter": "python",
   "pygments_lexer": "ipython3",
   "version": "3.6.5"
  },
  "varInspector": {
   "cols": {
    "lenName": 16,
    "lenType": 16,
    "lenVar": 40
   },
   "kernels_config": {
    "python": {
     "delete_cmd_postfix": "",
     "delete_cmd_prefix": "del ",
     "library": "var_list.py",
     "varRefreshCmd": "print(var_dic_list())"
    },
    "r": {
     "delete_cmd_postfix": ") ",
     "delete_cmd_prefix": "rm(",
     "library": "var_list.r",
     "varRefreshCmd": "cat(var_dic_list()) "
    }
   },
   "types_to_exclude": [
    "module",
    "function",
    "builtin_function_or_method",
    "instance",
    "_Feature"
   ],
   "window_display": false
  }
 },
 "nbformat": 4,
 "nbformat_minor": 2
}
