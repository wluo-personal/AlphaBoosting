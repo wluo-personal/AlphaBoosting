{
 "cells": [
  {
   "cell_type": "code",
   "execution_count": 2,
   "metadata": {
    "ExecuteTime": {
     "end_time": "2018-07-05T20:30:56.006815Z",
     "start_time": "2018-07-05T20:30:49.412993Z"
    }
   },
   "outputs": [
    {
     "data": {
      "text/plain": [
       "SK_ID_PREV                    0.000000\n",
       "SK_ID_CURR                    0.000000\n",
       "MONTHS_BALANCE                0.000000\n",
       "AMT_BALANCE                   0.000000\n",
       "AMT_CREDIT_LIMIT_ACTUAL       0.000000\n",
       "AMT_DRAWINGS_ATM_CURRENT      0.195249\n",
       "AMT_DRAWINGS_CURRENT          0.000000\n",
       "AMT_DRAWINGS_OTHER_CURRENT    0.195249\n",
       "AMT_DRAWINGS_POS_CURRENT      0.195249\n",
       "AMT_INST_MIN_REGULARITY       0.079482\n",
       "AMT_PAYMENT_CURRENT           0.199981\n",
       "AMT_PAYMENT_TOTAL_CURRENT     0.000000\n",
       "AMT_RECEIVABLE_PRINCIPAL      0.000000\n",
       "AMT_RECIVABLE                 0.000000\n",
       "AMT_TOTAL_RECEIVABLE          0.000000\n",
       "CNT_DRAWINGS_ATM_CURRENT      0.195249\n",
       "CNT_DRAWINGS_CURRENT          0.000000\n",
       "CNT_DRAWINGS_OTHER_CURRENT    0.195249\n",
       "CNT_DRAWINGS_POS_CURRENT      0.195249\n",
       "CNT_INSTALMENT_MATURE_CUM     0.079482\n",
       "NAME_CONTRACT_STATUS          0.000000\n",
       "SK_DPD                        0.000000\n",
       "SK_DPD_DEF                    0.000000\n",
       "dtype: float64"
      ]
     },
     "execution_count": 2,
     "metadata": {},
     "output_type": "execute_result"
    }
   ],
   "source": [
    "import pandas as pd\n",
    "import numpy as np\n",
    "\n",
    "PATH = '/home/kai/data/kaggle/homecredit/'\n",
    "credit = pd.read_csv(PATH + 'credit_card_balance.csv')\n",
    "\n",
    "credit.isnull().sum() / credit.shape[0]"
   ]
  },
  {
   "cell_type": "code",
   "execution_count": 3,
   "metadata": {
    "ExecuteTime": {
     "end_time": "2018-07-05T20:37:08.905804Z",
     "start_time": "2018-07-05T20:37:08.790538Z"
    }
   },
   "outputs": [
    {
     "data": {
      "text/plain": [
       "array(['Active', 'Completed', 'Demand', 'Signed', 'Sent proposal',\n",
       "       'Refused', 'Approved'], dtype=object)"
      ]
     },
     "execution_count": 3,
     "metadata": {},
     "output_type": "execute_result"
    }
   ],
   "source": [
    "credit['NAME_CONTRACT_STATUS'].unique()"
   ]
  },
  {
   "cell_type": "code",
   "execution_count": null,
   "metadata": {},
   "outputs": [],
   "source": [
    "credit[credit[]]"
   ]
  }
 ],
 "metadata": {
  "kernelspec": {
   "display_name": "Python 3",
   "language": "python",
   "name": "python3"
  },
  "language_info": {
   "codemirror_mode": {
    "name": "ipython",
    "version": 3
   },
   "file_extension": ".py",
   "mimetype": "text/x-python",
   "name": "python",
   "nbconvert_exporter": "python",
   "pygments_lexer": "ipython3",
   "version": "3.6.5"
  },
  "varInspector": {
   "cols": {
    "lenName": 16,
    "lenType": 16,
    "lenVar": 40
   },
   "kernels_config": {
    "python": {
     "delete_cmd_postfix": "",
     "delete_cmd_prefix": "del ",
     "library": "var_list.py",
     "varRefreshCmd": "print(var_dic_list())"
    },
    "r": {
     "delete_cmd_postfix": ") ",
     "delete_cmd_prefix": "rm(",
     "library": "var_list.r",
     "varRefreshCmd": "cat(var_dic_list()) "
    }
   },
   "types_to_exclude": [
    "module",
    "function",
    "builtin_function_or_method",
    "instance",
    "_Feature"
   ],
   "window_display": false
  }
 },
 "nbformat": 4,
 "nbformat_minor": 2
}
