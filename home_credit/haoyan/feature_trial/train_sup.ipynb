{
 "cells": [
  {
   "cell_type": "code",
   "execution_count": 1,
   "metadata": {
    "ExecuteTime": {
     "end_time": "2018-07-10T20:44:40.780742Z",
     "start_time": "2018-07-10T20:44:33.639810Z"
    }
   },
   "outputs": [
    {
     "name": "stderr",
     "output_type": "stream",
     "text": [
      "/home/kai/anaconda3/lib/python3.6/site-packages/ipykernel_launcher.py:7: FutureWarning: Sorting because non-concatenation axis is not aligned. A future version\n",
      "of pandas will change to not sort by default.\n",
      "\n",
      "To accept the future behavior, pass 'sort=True'.\n",
      "\n",
      "To retain the current behavior and silence the warning, pass sort=False\n",
      "\n",
      "  import sys\n"
     ]
    }
   ],
   "source": [
    "import pandas as pd\n",
    "\n",
    "PATH = '/home/kai/data/kaggle/homecredit/'\n",
    "train = pd.read_csv(PATH + 'application_train.csv')\n",
    "test = pd.read_csv(PATH + 'application_test.csv')\n",
    "\n",
    "df = pd.concat([train, test])"
   ]
  },
  {
   "cell_type": "code",
   "execution_count": null,
   "metadata": {},
   "outputs": [],
   "source": [
    "mmmmm = {'Secondary / secondary special': 2,\n",
    "         'Higher education': 4,\n",
    "         'Incomplete higher': 3,\n",
    "         'Lower secondary': 1,\n",
    "         'Academic degree': 5}\n",
    "\n",
    "df['NAME_EDUCATION_TYPE'] = df['NAME_EDUCATION_TYPE'].map(mmmmm)"
   ]
  },
  {
   "cell_type": "code",
   "execution_count": 2,
   "metadata": {
    "ExecuteTime": {
     "end_time": "2018-07-10T18:03:07.150792Z",
     "start_time": "2018-07-10T18:03:07.147527Z"
    }
   },
   "outputs": [],
   "source": [
    "def count(df, gp_col):\n",
    "    group = df.groupby(gp_col).size().reset_index().rename(index=str, columns={0:'count_' + '_'.join(gp_col)})\n",
    "    return group\n",
    "\n",
    "def unique(df, gp_col, col):\n",
    "    group = df.groupby(gp_col)[[col]].nunique().reset_index().rename(index=str, columns={col:'unique_' + '_'.join(gp_col)})\n",
    "    return group"
   ]
  },
  {
   "cell_type": "code",
   "execution_count": 3,
   "metadata": {
    "ExecuteTime": {
     "end_time": "2018-07-10T18:03:07.171087Z",
     "start_time": "2018-07-10T18:03:07.152657Z"
    }
   },
   "outputs": [],
   "source": [
    "import os\n",
    "if not os.path.exists(PATH + 'inter/train_sup/'): os.mkdir(PATH + 'inter/train_sup/')"
   ]
  },
  {
   "cell_type": "code",
   "execution_count": 4,
   "metadata": {
    "ExecuteTime": {
     "end_time": "2018-07-10T18:03:07.631091Z",
     "start_time": "2018-07-10T18:03:07.172864Z"
    }
   },
   "outputs": [],
   "source": [
    "t = df.copy()"
   ]
  },
  {
   "cell_type": "code",
   "execution_count": 5,
   "metadata": {
    "ExecuteTime": {
     "end_time": "2018-07-10T18:03:18.333124Z",
     "start_time": "2018-07-10T18:03:07.633131Z"
    }
   },
   "outputs": [
    {
     "name": "stdout",
     "output_type": "stream",
     "text": [
      "['CODE_GENDER', 'NAME_EDUCATION_TYPE', 'NAME_INCOME_TYPE']\n",
      "['CODE_GENDER', 'NAME_EDUCATION_TYPE']\n",
      "['NAME_EDUCATION_TYPE', 'NAME_INCOME_TYPE']\n",
      "['CODE_GENDER', 'NAME_INCOME_TYPE']\n",
      "['CODE_GENDER', 'NAME_EDUCATION_TYPE', 'NAME_INCOME_TYPE']\n",
      "['NAME_EDUCATION_TYPE', 'NAME_INCOME_TYPE', 'CODE_GENDER']\n",
      "['CODE_GENDER', 'NAME_INCOME_TYPE', 'NAME_EDUCATION_TYPE']\n",
      "['CODE_GENDER', 'NAME_EDUCATION_TYPE']\n",
      "['NAME_EDUCATION_TYPE', 'CODE_GENDER']\n",
      "['NAME_EDUCATION_TYPE', 'NAME_INCOME_TYPE']\n",
      "['NAME_INCOME_TYPE', 'NAME_EDUCATION_TYPE']\n",
      "['CODE_GENDER', 'NAME_INCOME_TYPE']\n",
      "['NAME_INCOME_TYPE', 'CODE_GENDER']\n"
     ]
    }
   ],
   "source": [
    "for x in [['CODE_GENDER', 'NAME_EDUCATION_TYPE', 'NAME_INCOME_TYPE'], ['CODE_GENDER', 'NAME_EDUCATION_TYPE'], ['NAME_EDUCATION_TYPE', 'NAME_INCOME_TYPE'], ['CODE_GENDER', 'NAME_INCOME_TYPE']]:\n",
    "    print(x)\n",
    "    t = t.merge(count(df, x), on=x, how='left')\n",
    "    \n",
    "l = [\n",
    "    ['CODE_GENDER', 'NAME_EDUCATION_TYPE', 'NAME_INCOME_TYPE'],\n",
    "    ['NAME_EDUCATION_TYPE', 'NAME_INCOME_TYPE', 'CODE_GENDER'],\n",
    "    ['CODE_GENDER', 'NAME_INCOME_TYPE', 'NAME_EDUCATION_TYPE'],\n",
    "    ['CODE_GENDER', 'NAME_EDUCATION_TYPE'], ['NAME_EDUCATION_TYPE', 'CODE_GENDER'],\n",
    "    ['NAME_EDUCATION_TYPE', 'NAME_INCOME_TYPE'], ['NAME_INCOME_TYPE', 'NAME_EDUCATION_TYPE'],\n",
    "    ['CODE_GENDER', 'NAME_INCOME_TYPE'], ['NAME_INCOME_TYPE', 'CODE_GENDER'],\n",
    "]\n",
    "for x in l:\n",
    "    print(x)\n",
    "    t = t.merge(unique(df, x[:-1], x[-1]), on=x[:-1], how='left')"
   ]
  },
  {
   "cell_type": "code",
   "execution_count": 7,
   "metadata": {
    "ExecuteTime": {
     "end_time": "2018-07-10T18:03:58.462247Z",
     "start_time": "2018-07-10T18:03:58.441090Z"
    }
   },
   "outputs": [],
   "source": [
    "t['MONTHS_BIRTH'] = (t['DAYS_BIRTH'] / 30).astype('int64')\n",
    "t['CAT_MONTHS_BIRTH'] = (t['MONTHS_BIRTH'] % 12).astype('int8')\n",
    "t['YEARS_BIRTH'] = (t['MONTHS_BIRTH'] / 12).astype('int64')\n",
    "t['RATE_YEARS_BIRTH'] = t['YEARS_BIRTH'] / t['NAME_EDUCATION_TYPE']"
   ]
  },
  {
   "cell_type": "code",
   "execution_count": 10,
   "metadata": {
    "ExecuteTime": {
     "end_time": "2018-07-10T18:04:29.109477Z",
     "start_time": "2018-07-10T18:04:29.082305Z"
    }
   },
   "outputs": [
    {
     "data": {
      "text/plain": [
       "(356255, 15)"
      ]
     },
     "execution_count": 10,
     "metadata": {},
     "output_type": "execute_result"
    }
   ],
   "source": [
    "tmp = t[[x for x in t.columns if x not in df.columns]]\n",
    "tmp.shape"
   ]
  },
  {
   "cell_type": "code",
   "execution_count": 11,
   "metadata": {
    "ExecuteTime": {
     "end_time": "2018-07-10T18:04:31.163033Z",
     "start_time": "2018-07-10T18:04:30.990008Z"
    }
   },
   "outputs": [],
   "source": [
    "tmp.to_pickle(PATH + 'inter/train_sup/train_sup.pkl')"
   ]
  },
  {
   "cell_type": "code",
   "execution_count": null,
   "metadata": {},
   "outputs": [],
   "source": []
  }
 ],
 "metadata": {
  "kernelspec": {
   "display_name": "Python 3",
   "language": "python",
   "name": "python3"
  },
  "language_info": {
   "codemirror_mode": {
    "name": "ipython",
    "version": 3
   },
   "file_extension": ".py",
   "mimetype": "text/x-python",
   "name": "python",
   "nbconvert_exporter": "python",
   "pygments_lexer": "ipython3",
   "version": "3.6.5"
  },
  "varInspector": {
   "cols": {
    "lenName": 16,
    "lenType": 16,
    "lenVar": 40
   },
   "kernels_config": {
    "python": {
     "delete_cmd_postfix": "",
     "delete_cmd_prefix": "del ",
     "library": "var_list.py",
     "varRefreshCmd": "print(var_dic_list())"
    },
    "r": {
     "delete_cmd_postfix": ") ",
     "delete_cmd_prefix": "rm(",
     "library": "var_list.r",
     "varRefreshCmd": "cat(var_dic_list()) "
    }
   },
   "types_to_exclude": [
    "module",
    "function",
    "builtin_function_or_method",
    "instance",
    "_Feature"
   ],
   "window_display": false
  }
 },
 "nbformat": 4,
 "nbformat_minor": 2
}
