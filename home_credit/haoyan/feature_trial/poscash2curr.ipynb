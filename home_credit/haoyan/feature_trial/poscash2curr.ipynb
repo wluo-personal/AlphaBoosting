{
 "cells": [
  {
   "cell_type": "code",
   "execution_count": 1,
   "metadata": {
    "ExecuteTime": {
     "end_time": "2018-07-06T02:57:35.025111Z",
     "start_time": "2018-07-06T02:57:15.181647Z"
    }
   },
   "outputs": [
    {
     "name": "stdout",
     "output_type": "stream",
     "text": [
      "pos (2335864, 8)\n"
     ]
    },
    {
     "data": {
      "text/plain": [
       "'done'"
      ]
     },
     "execution_count": 1,
     "metadata": {},
     "output_type": "execute_result"
    }
   ],
   "source": [
    "import pandas as pd\n",
    "\n",
    "PATH = '/home/kai/data/kaggle/homecredit/'\n",
    "\n",
    "train = pd.read_csv(PATH + 'application_train.csv')\n",
    "test = pd.read_csv(PATH + 'application_test.csv')\n",
    "pos = pd.read_csv(PATH + 'POS_CASH_balance.csv')\n",
    "\n",
    "# intersection\n",
    "month = -36\n",
    "pos = pos[pos['MONTHS_BALANCE']>= month]\n",
    "print('pos', pos.shape)\n",
    "\n",
    "'done'"
   ]
  },
  {
   "cell_type": "code",
   "execution_count": 2,
   "metadata": {
    "ExecuteTime": {
     "end_time": "2018-07-06T02:57:35.037747Z",
     "start_time": "2018-07-06T02:57:35.027596Z"
    }
   },
   "outputs": [
    {
     "data": {
      "text/plain": [
       "'done'"
      ]
     },
     "execution_count": 2,
     "metadata": {},
     "output_type": "execute_result"
    }
   ],
   "source": [
    "def minus_name(col1, col2): return col1 + '_minus_' + col2\n",
    "def minus(df, col1, col2): return df[col1] - df[col2]\n",
    "\n",
    "def ratio_name(col1, col2): return col1 + '_divide_' + col2\n",
    "def ratio(df, col1, col2): return df[col1] / (df[col2] + 1)\n",
    "\n",
    "def positive_count(df, gp_col, col):\n",
    "    group = (df[col] > 0).astype('int8')\n",
    "    group = pd.concat([df[gp_col], group], axis=1).groupby(gp_col)[[col]].sum().reset_index().rename(index=str, columns={col: 'positivecount_'+'_'.join([gp_col, col])})\n",
    "    return group.astype({gp_col: df[gp_col].dtype})\n",
    "\n",
    "def count(df, gp_col, col):\n",
    "    group = df[[gp_col,col]].groupby(gp_col)[[col]].count().reset_index().rename(index=str, columns={col:'count_'+gp_col})\n",
    "    return group.astype({gp_col: df[gp_col].dtype})\n",
    "\n",
    "def numerical(df, gp_col, col, agg_fun):\n",
    "    _df = df.groupby(gp_col)[[col]].agg(agg_fun)\n",
    "    \n",
    "    columns = []\n",
    "    for x in _df.columns.levels[0]:\n",
    "        for y in _df.columns.levels[1]:\n",
    "            columns.append('_'.join([x, y]))\n",
    "    _df.columns = columns\n",
    "    return _df.reset_index().astype({gp_col: df[gp_col].dtype})\n",
    "\n",
    "def one_hot(df, gp_col, col):\n",
    "    return pd.concat([df[gp_col], pd.get_dummies(df[col], prefix='onehot_' + col)], axis=1).groupby(gp_col).sum().reset_index().astype({gp_col: df[gp_col].dtype})\n",
    "\n",
    "'done'"
   ]
  },
  {
   "cell_type": "code",
   "execution_count": 3,
   "metadata": {
    "ExecuteTime": {
     "end_time": "2018-07-06T02:58:03.993424Z",
     "start_time": "2018-07-06T02:57:35.039733Z"
    }
   },
   "outputs": [
    {
     "name": "stdout",
     "output_type": "stream",
     "text": [
      "(356255, 1)\n",
      "(356255, 9)\n",
      "pos (356255, 12)\n",
      "(356255, 13)\n",
      "(356255, 24)\n",
      "(356255, 114)\n",
      "(356255, 114)\n"
     ]
    }
   ],
   "source": [
    "merged_col = 'SK_ID_CURR'\n",
    "df = pd.concat([train['SK_ID_CURR'], test['SK_ID_CURR']], ignore_index=True).to_frame()\n",
    "print(df.shape)\n",
    "# minus\n",
    "name1 = minus_name('SK_DPD', 'SK_DPD_DEF')\n",
    "pos[name1] = minus(pos, 'SK_DPD', 'SK_DPD_DEF')\n",
    "\n",
    "# ratio\n",
    "numerator = ['SK_DPD', 'SK_DPD_DEF', name1]\n",
    "denominator = ['MONTHS_BALANCE', 'CNT_INSTALMENT', 'CNT_INSTALMENT_FUTURE']\n",
    "for x in numerator:\n",
    "    for y in denominator:\n",
    "#         print(x, y)\n",
    "        pos[ratio_name(x, y)] = ratio(pos, x, y)\n",
    "\n",
    "# one hot encoding sum\n",
    "df = df.merge(one_hot(pos, merged_col, 'NAME_CONTRACT_STATUS'), on=merged_col, how='left')\n",
    "print(df.shape)\n",
    "\n",
    "# positive count\n",
    "for x in ['SK_DPD', 'SK_DPD_DEF', name1]:\n",
    "    df = df.merge(positive_count(pos, merged_col, x), on=merged_col, how='left')\n",
    "print('pos', df.shape)\n",
    "    \n",
    "# count\n",
    "df = df.merge(count(pos, merged_col, 'NAME_CONTRACT_STATUS'), on=merged_col, how='left')\n",
    "count_name = [x for x in df.columns if 'count_' in x][0]\n",
    "print(df.shape)\n",
    "\n",
    "# categorical ratio\n",
    "for x in df.columns:\n",
    "    if 'positivecount_' in x or 'onehot_' in x:\n",
    "#         print(x)\n",
    "        df[ratio_name(x, count_name)] = ratio(df, x, count_name)\n",
    "print(df.shape)\n",
    "        \n",
    "# numerical cols\n",
    "ignored = ['SK_ID_CURR', 'SK_ID_PREV', 'NAME_CONTRACT_STATUS']\n",
    "for x in set(pos.columns) - set(ignored):\n",
    "#     print(x)\n",
    "    df = df.merge(numerical(pos, merged_col, x, ['mean', 'median', 'sum', 'max', 'min', 'std']), on=merged_col, how='left')\n",
    "print(df.shape)\n",
    "    \n",
    "columns = []\n",
    "for x in df.columns:\n",
    "    tmp = 'poscash_' + x if x != merged_col else x\n",
    "    columns.append(tmp)\n",
    "df.columns = columns\n",
    "print(df.shape)"
   ]
  },
  {
   "cell_type": "code",
   "execution_count": 4,
   "metadata": {
    "ExecuteTime": {
     "end_time": "2018-07-06T02:58:04.010771Z",
     "start_time": "2018-07-06T02:58:03.998233Z"
    }
   },
   "outputs": [
    {
     "name": "stdout",
     "output_type": "stream",
     "text": [
      "Index(['SK_ID_CURR', 'poscash_onehot_NAME_CONTRACT_STATUS_Active',\n",
      "       'poscash_onehot_NAME_CONTRACT_STATUS_Amortized debt',\n",
      "       'poscash_onehot_NAME_CONTRACT_STATUS_Approved',\n",
      "       'poscash_onehot_NAME_CONTRACT_STATUS_Canceled',\n",
      "       'poscash_onehot_NAME_CONTRACT_STATUS_Completed',\n",
      "       'poscash_onehot_NAME_CONTRACT_STATUS_Demand',\n",
      "       'poscash_onehot_NAME_CONTRACT_STATUS_Returned to the store',\n",
      "       'poscash_onehot_NAME_CONTRACT_STATUS_Signed',\n",
      "       'poscash_positivecount_SK_ID_CURR_SK_DPD',\n",
      "       ...\n",
      "       'poscash_CNT_INSTALMENT_sum', 'poscash_CNT_INSTALMENT_max',\n",
      "       'poscash_CNT_INSTALMENT_min', 'poscash_CNT_INSTALMENT_std',\n",
      "       'poscash_SK_DPD_minus_SK_DPD_DEF_divide_CNT_INSTALMENT_FUTURE_mean',\n",
      "       'poscash_SK_DPD_minus_SK_DPD_DEF_divide_CNT_INSTALMENT_FUTURE_median',\n",
      "       'poscash_SK_DPD_minus_SK_DPD_DEF_divide_CNT_INSTALMENT_FUTURE_sum',\n",
      "       'poscash_SK_DPD_minus_SK_DPD_DEF_divide_CNT_INSTALMENT_FUTURE_max',\n",
      "       'poscash_SK_DPD_minus_SK_DPD_DEF_divide_CNT_INSTALMENT_FUTURE_min',\n",
      "       'poscash_SK_DPD_minus_SK_DPD_DEF_divide_CNT_INSTALMENT_FUTURE_std'],\n",
      "      dtype='object', length=114)\n"
     ]
    },
    {
     "data": {
      "text/plain": [
       "(356255, 114)"
      ]
     },
     "execution_count": 4,
     "metadata": {},
     "output_type": "execute_result"
    }
   ],
   "source": [
    "print(df.columns)\n",
    "df.shape"
   ]
  },
  {
   "cell_type": "code",
   "execution_count": 5,
   "metadata": {
    "ExecuteTime": {
     "end_time": "2018-07-06T02:58:04.589666Z",
     "start_time": "2018-07-06T02:58:04.015689Z"
    }
   },
   "outputs": [
    {
     "data": {
      "text/plain": [
       "'done'"
      ]
     },
     "execution_count": 5,
     "metadata": {},
     "output_type": "execute_result"
    }
   ],
   "source": [
    "df.to_pickle(PATH + 'test/ori_36_pos.pkl')\n",
    "'done'"
   ]
  },
  {
   "cell_type": "code",
   "execution_count": 7,
   "metadata": {
    "ExecuteTime": {
     "end_time": "2018-07-06T02:59:23.407300Z",
     "start_time": "2018-07-06T02:59:19.985826Z"
    }
   },
   "outputs": [
    {
     "name": "stdout",
     "output_type": "stream",
     "text": [
      "(356255, 114) (356255, 116)\n",
      "(356255, 229)\n"
     ]
    }
   ],
   "source": [
    "df1 = pd.read_pickle(PATH + 'test/ori_36_pos.pkl')\n",
    "df2 = pd.read_pickle(PATH + 'inter/poscash2curr.pkl')\n",
    "print(df1.shape, df2.shape)\n",
    "df = df1.merge(df2, on = 'SK_ID_CURR', how = 'left')\n",
    "print(df.shape)"
   ]
  },
  {
   "cell_type": "code",
   "execution_count": 8,
   "metadata": {
    "ExecuteTime": {
     "end_time": "2018-07-06T03:02:06.470420Z",
     "start_time": "2018-07-06T03:02:05.176828Z"
    }
   },
   "outputs": [],
   "source": [
    "# QIanli: pos add 12 months test\n",
    "df.to_pickle(PATH + 'test/ori_36_pos.pkl')"
   ]
  },
  {
   "cell_type": "code",
   "execution_count": null,
   "metadata": {},
   "outputs": [],
   "source": []
  }
 ],
 "metadata": {
  "kernelspec": {
   "display_name": "Python 3",
   "language": "python",
   "name": "python3"
  },
  "language_info": {
   "codemirror_mode": {
    "name": "ipython",
    "version": 3
   },
   "file_extension": ".py",
   "mimetype": "text/x-python",
   "name": "python",
   "nbconvert_exporter": "python",
   "pygments_lexer": "ipython3",
   "version": "3.6.5"
  },
  "varInspector": {
   "cols": {
    "lenName": 16,
    "lenType": 16,
    "lenVar": 40
   },
   "kernels_config": {
    "python": {
     "delete_cmd_postfix": "",
     "delete_cmd_prefix": "del ",
     "library": "var_list.py",
     "varRefreshCmd": "print(var_dic_list())"
    },
    "r": {
     "delete_cmd_postfix": ") ",
     "delete_cmd_prefix": "rm(",
     "library": "var_list.r",
     "varRefreshCmd": "cat(var_dic_list()) "
    }
   },
   "types_to_exclude": [
    "module",
    "function",
    "builtin_function_or_method",
    "instance",
    "_Feature"
   ],
   "window_display": false
  }
 },
 "nbformat": 4,
 "nbformat_minor": 2
}
