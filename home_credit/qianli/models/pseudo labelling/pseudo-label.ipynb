{
 "cells": [
  {
   "cell_type": "code",
   "execution_count": 1,
   "metadata": {
    "ExecuteTime": {
     "end_time": "2018-06-28T20:17:25.914133Z",
     "start_time": "2018-06-28T20:17:24.828138Z"
    }
   },
   "outputs": [],
   "source": [
    "import os\n",
    "import numpy as np\n",
    "import pandas as pd\n",
    "import gc\n",
    "import time\n",
    "from contextlib import contextmanager\n",
    "from lightgbm import LGBMClassifier\n",
    "from sklearn.metrics import roc_auc_score, roc_curve\n",
    "from sklearn.model_selection import KFold, StratifiedKFold\n",
    "import matplotlib.pyplot as plt\n",
    "import seaborn as sns\n",
    "import warnings\n",
    "warnings.simplefilter(action='ignore', category=FutureWarning)\n",
    "PATH = '/home/kai/data/kaggle/homecredit/'\n"
   ]
  },
  {
   "cell_type": "code",
   "execution_count": 2,
   "metadata": {
    "ExecuteTime": {
     "end_time": "2018-06-28T20:17:39.033882Z",
     "start_time": "2018-06-28T20:17:25.964481Z"
    },
    "scrolled": false
   },
   "outputs": [
    {
     "name": "stdout",
     "output_type": "stream",
     "text": [
      "(307511, 1894) (48744, 1893) (356255, 64)\n"
     ]
    }
   ],
   "source": [
    "# Read train and test\n",
    "train = pd.read_pickle(PATH + 'train_factorized_std_with_linear.pkl')\n",
    "test = pd.read_pickle(PATH + 'test_factorized_std_with_linear.pkl')\n",
    "\n",
    "df = pd.read_pickle(PATH + 'inter/bureau_sup.pkl')\n",
    "\n",
    "print(train.shape, test.shape, df.shape)\n"
   ]
  },
  {
   "cell_type": "code",
   "execution_count": 3,
   "metadata": {
    "ExecuteTime": {
     "end_time": "2018-06-28T20:17:47.566259Z",
     "start_time": "2018-06-28T20:17:42.273058Z"
    }
   },
   "outputs": [],
   "source": [
    "train = train.merge(df, on = 'SK_ID_CURR', how = 'left')\n",
    "test = test.merge(df, on = 'SK_ID_CURR', how = 'left')"
   ]
  },
  {
   "cell_type": "code",
   "execution_count": 4,
   "metadata": {
    "ExecuteTime": {
     "end_time": "2018-06-28T20:17:50.251996Z",
     "start_time": "2018-06-28T20:17:50.239449Z"
    }
   },
   "outputs": [
    {
     "data": {
      "text/plain": [
       "((307511, 1957), (48744, 1956))"
      ]
     },
     "execution_count": 4,
     "metadata": {},
     "output_type": "execute_result"
    }
   ],
   "source": [
    "train.shape, test.shape"
   ]
  },
  {
   "cell_type": "markdown",
   "metadata": {},
   "source": [
    "# Cut large piece and get new train&test, and large_pred piece"
   ]
  },
  {
   "cell_type": "code",
   "execution_count": 6,
   "metadata": {
    "ExecuteTime": {
     "end_time": "2018-06-28T20:18:08.337166Z",
     "start_time": "2018-06-28T20:18:08.323836Z"
    }
   },
   "outputs": [],
   "source": [
    "def large_new(df1, df2, prediction, threshold):\n",
    "    print('begin cut large')\n",
    "    pred = prediction.copy()\n",
    "    train_df, test_df = df1.copy(), df2.copy()\n",
    "    print('old shapes,' ,test_df.shape,train_df.shape)\n",
    "    half_pred = pred[pred['TARGET'] > threshold]\n",
    "    index_half = half_pred.index\n",
    "    print('length of half',len(half_pred))\n",
    "    test_half = test_df.iloc[index_half]\n",
    "    test_half['TARGET'] = 1\n",
    "\n",
    "    # drop index_half for test_df, add train\n",
    "    test_df.drop(index_half, inplace = True)\n",
    "    train_df = pd.concat([train_df,test_half])\n",
    "    print('new shapes,',test_df.shape,train_df.shape)\n",
    "    return train_df, test_df, half_pred"
   ]
  },
  {
   "cell_type": "markdown",
   "metadata": {},
   "source": [
    "# Cut small piece and get new train& test, and small_pred piece"
   ]
  },
  {
   "cell_type": "code",
   "execution_count": 7,
   "metadata": {
    "ExecuteTime": {
     "end_time": "2018-06-28T20:18:09.871882Z",
     "start_time": "2018-06-28T20:18:09.868113Z"
    }
   },
   "outputs": [],
   "source": [
    "def small_new(df1, df2, prediction, threshold):\n",
    "    print('begin cut small')\n",
    "    pred = prediction.copy()\n",
    "    train_df, test_df = df1.copy(), df2.copy()\n",
    "    print('old shapes,',test_df.shape,train_df.shape)\n",
    "    small_pred = pred[pred['TARGET'] < threshold]\n",
    "    index_small = small_pred.index\n",
    "    print('length of small',len(small_pred))\n",
    "    test_small = test_df.iloc[index_small]\n",
    "    test_small['TARGET'] = 0\n",
    "\n",
    "    # drop index_small for test_df, add train\n",
    "    test_df.drop(index_small, inplace = True)\n",
    "    train_df = pd.concat([train_df,test_small])\n",
    "    print('new shapes,',test_df.shape,train_df.shape)\n",
    "    return train_df, test_df, small_pred"
   ]
  },
  {
   "cell_type": "markdown",
   "metadata": {},
   "source": [
    "# Models"
   ]
  },
  {
   "cell_type": "code",
   "execution_count": 17,
   "metadata": {
    "ExecuteTime": {
     "end_time": "2018-06-28T20:35:42.003708Z",
     "start_time": "2018-06-28T20:35:41.958413Z"
    }
   },
   "outputs": [],
   "source": [
    "def model_1(train_df, test_df, threshold1, threshold2, n_splits=5):\n",
    "    print('begin blended lightgbm')\n",
    "    # Cross validation model\n",
    "    stratified = False\n",
    "\n",
    "    if stratified:\n",
    "        folds = StratifiedKFold(n_splits, shuffle=True, random_state=1001)\n",
    "    else:\n",
    "        folds = KFold(n_splits, shuffle=True, random_state=1001)\n",
    "    # Create arrays and dataframes to store results\n",
    "    oof_preds = np.zeros(train_df.shape[0])\n",
    "    sub_preds = np.zeros(test_df.shape[0])\n",
    "    feature_importance_df = pd.DataFrame()\n",
    "    feats = [f for f in train_df.columns if f not in ['TARGET','SK_ID_CURR','SK_ID_BUREAU','SK_ID_PREV','index']]\n",
    "\n",
    "    for n_fold, (train_idx, valid_idx) in enumerate(folds.split(train_df[feats], train_df['TARGET'])):\n",
    "        train_x, train_y = train_df[feats].iloc[train_idx], train_df['TARGET'].iloc[train_idx]\n",
    "        valid_x, valid_y = train_df[feats].iloc[valid_idx], train_df['TARGET'].iloc[valid_idx]\n",
    "\n",
    "        \n",
    "#         lgbm_params = {\n",
    "#         'task': 'train',\n",
    "#         'boosting_type': 'gbdt',\n",
    "#         'objective': 'binary',\n",
    "#         'metric': 'auc',\n",
    "#         'learning_rate': 0.05,\n",
    "#         'num_iteration': 4000,\n",
    "#         'num_threads': 16,\n",
    "        \n",
    "#         'num_leaves': int(round(44.368535336628419)),\n",
    "#         'feature_fraction': 0.28231763168020257,\n",
    "#         'bagging_fraction': 0.94901525271474951,\n",
    "#         'max_depth': int(round(8.0430115561596267)),\n",
    "#         'lambda_l1': 0.30680079516647751,\n",
    "#         'lambda_l2': 0.079128660903201031,\n",
    "#         'min_split_gain': 0.054005067457890979,\n",
    "#         'min_child_weight': 98.172643147364937\n",
    "#     }\n",
    "\n",
    "        # LightGBM parameters found by Bayesian optimization\n",
    "        clf = LGBMClassifier(\n",
    "            nthread=12,\n",
    "            n_estimators=10000,\n",
    "            num_iteration= 4000,\n",
    "            learning_rate=0.05,\n",
    "            num_leaves=int(round(44.368535336628419)),\n",
    "            colsample_bytree=0.9497036,\n",
    "            subsample=0.8715623,\n",
    "            max_depth=int(round(8.0430115561596267)),\n",
    "            reg_alpha=0.079128660903201031,\n",
    "            bagging_fraction= 0.94901525271474951,\n",
    "            feature_fraction = 0.28231763168020257,\n",
    "            reg_lambda=0.30680079516647751,\n",
    "            min_split_gain=0.054005067457890979,\n",
    "            min_child_weight=98.172643147364937,\n",
    "            silent=-1,\n",
    "            verbose=-1, )\n",
    "\n",
    "        clf.fit(train_x, train_y, eval_set=[(train_x, train_y), (valid_x, valid_y)], \n",
    "            eval_metric= 'auc', verbose= 100, early_stopping_rounds= 200)\n",
    "\n",
    "        oof_preds[valid_idx] = clf.predict_proba(valid_x, num_iteration=clf.best_iteration_)[:, 1]\n",
    "        sub_preds += clf.predict_proba(test_df[feats], num_iteration=clf.best_iteration_)[:, 1] / folds.n_splits\n",
    "\n",
    "    #     fold_importance_df = pd.DataFrame()\n",
    "    #     fold_importance_df[\"feature\"] = feats\n",
    "    # #     fold_importance_df[\"importance\"] = clf.feature_importances_\n",
    "    #     fold_importance_df[\"fold\"] = n_fold + 1\n",
    "    #     feature_importance_df = pd.concat([feature_importance_df, fold_importance_df], axis=0)\n",
    "        print('Fold %2d AUC : %.6f' % (n_fold + 1, roc_auc_score(valid_y, oof_preds[valid_idx])))\n",
    "        del clf, train_x, train_y, valid_x, valid_y\n",
    "        gc.collect()\n",
    "    print('Full AUC score %.6f' % roc_auc_score(train_df['TARGET'], oof_preds))\n",
    "    \n",
    "    test_df['TARGET'] = sub_preds\n",
    "    pred =test_df[['SK_ID_CURR', 'TARGET']]\n",
    "    len_small = len(pred[pred['TARGET']< threshold1])\n",
    "    len_large = len(pred[pred['TARGET']> threshold2])\n",
    "    print('length of small and large', len_small, len_large)\n",
    "    return pred, len_small, len_large\n",
    "\n",
    "def model_2(train_df, test_df,threshold1, threshold2, n_splits=5):\n",
    "    print('begin cv')\n",
    "    target = train_df['TARGET']\n",
    "    ignore_cols = ['ORGANIZATION_TYPE', 'TARGET', 'SK_ID_CURR']\n",
    "    features = [x for x in train_df.columns if x not in ignore_cols]\n",
    "    train = train_df[features]\n",
    "    test = test_df[features]\n",
    "\n",
    "    from sklearn.model_selection import StratifiedKFold\n",
    "    from lightgbm import LGBMClassifier\n",
    "    from sklearn.metrics import roc_auc_score\n",
    "    import lightgbm as lgbm\n",
    "\n",
    "    lgbm_train = lgbm.Dataset(data=train,\n",
    "                              label=target,\n",
    "\n",
    "                              categorical_feature=[],#categorical_feats,\n",
    "                              free_raw_data=False)\n",
    "\n",
    "#     lgbm_params = {'task': 'train', 'boosting_type': 'gbdt', 'objective': 'binary', 'metric': 'auc', \n",
    "#               'learning_rate': 0.01, 'num_leaves': 48, 'num_iteration': 4000, 'verbose': 0 ,\n",
    "#               'colsample_bytree':.8, 'subsample':.9, 'max_depth':7, 'reg_alpha':.1, 'reg_lambda':.1, \n",
    "#               'min_split_gain':.01, 'min_child_weight':1,'num_threads': 12,'feature_fraction': 0.2,\n",
    "#                   'scale_pos_weight':1}\n",
    "    lgbm_params = {\n",
    "        'task': 'train',\n",
    "        'boosting_type': 'gbdt',\n",
    "        'objective': 'binary',\n",
    "        'metric': 'auc',\n",
    "        'learning_rate': 0.05,\n",
    "        'num_iteration': 4000,\n",
    "        'num_threads': 8,\n",
    "        \n",
    "        'num_leaves': int(round(44.368535336628419)),\n",
    "        'feature_fraction': 0.28231763168020257,\n",
    "        'bagging_fraction': 0.94901525271474951,\n",
    "        'max_depth': int(round(8.0430115561596267)),\n",
    "        'lambda_l1': 0.30680079516647751,\n",
    "        'lambda_l2': 0.079128660903201031,\n",
    "        'min_split_gain': 0.054005067457890979,\n",
    "        'min_child_weight': 98.172643147364937}\n",
    "\n",
    "\n",
    "    cv_results = lgbm.cv(train_set=lgbm_train,\n",
    "                         params=lgbm_params,\n",
    "                         nfold=n_splits,\n",
    "                         early_stopping_rounds=150,\n",
    "                         verbose_eval=100,\n",
    "                         metrics=['auc'])\n",
    "\n",
    "    optimum_boost_rounds = np.argmax(cv_results['auc-mean'])\n",
    "    print('Optimum boost rounds = {}'.format(optimum_boost_rounds))\n",
    "    print('Best CV result = {}'.format(np.max(cv_results['auc-mean'])))\n",
    "\n",
    "    clf = lgbm.train(train_set=lgbm_train,\n",
    "                     params=lgbm_params,\n",
    "                     num_boost_round=optimum_boost_rounds,\n",
    "                    verbose_eval=100)\n",
    "\n",
    "    \"\"\" Predict on test set and create submission \"\"\"\n",
    "    y_pred = clf.predict(test)\n",
    "    out_df = pd.DataFrame({'SK_ID_CURR': test_df['SK_ID_CURR'], 'TARGET': y_pred})\n",
    "    small_len = out_df[out_df['TARGET']< threshold1]\n",
    "    large_len = out_df[out_df['TARGET']> threshold2]\n",
    "    print('length of small and large,',len(small_len),len(large_len))\n",
    "    return out_df, small_len, large_len"
   ]
  },
  {
   "cell_type": "markdown",
   "metadata": {
    "collapsed": true
   },
   "source": [
    "# Concate back to a submission"
   ]
  },
  {
   "cell_type": "code",
   "execution_count": 9,
   "metadata": {
    "ExecuteTime": {
     "end_time": "2018-06-28T20:18:11.984658Z",
     "start_time": "2018-06-28T20:18:11.980745Z"
    }
   },
   "outputs": [],
   "source": [
    "# col = 'SK_ID_CURR'\n",
    "def concat_pred(cutout_pred, modified_pred):\n",
    "    print('begin concat predictions')\n",
    "    test_concat = pd.concat([modified_pred, cutout_pred], axis = 0)\n",
    "    print(test_concat.shape)\n",
    "    test = pd.read_csv(PATH + 'application_test.csv')\n",
    "    test = test[['SK_ID_CURR']]\n",
    "    pred = test.merge(test_concat, how = 'left', on = 'SK_ID_CURR')\n",
    "    return pred\n"
   ]
  },
  {
   "cell_type": "markdown",
   "metadata": {},
   "source": [
    "# Run"
   ]
  },
  {
   "cell_type": "code",
   "execution_count": 12,
   "metadata": {
    "ExecuteTime": {
     "end_time": "2018-06-28T20:04:58.968665Z",
     "start_time": "2018-06-28T19:00:00.992026Z"
    }
   },
   "outputs": [
    {
     "name": "stdout",
     "output_type": "stream",
     "text": [
      "begin blended lightgbm\n"
     ]
    },
    {
     "name": "stderr",
     "output_type": "stream",
     "text": [
      "/home/kai/anaconda3/lib/python3.6/site-packages/lightgbm/engine.py:99: UserWarning: Found `num_iteration` in params. Will use it instead of argument\n",
      "  warnings.warn(\"Found `{}` in params. Will use it instead of argument\".format(alias))\n"
     ]
    },
    {
     "name": "stdout",
     "output_type": "stream",
     "text": [
      "Training until validation scores don't improve for 200 rounds.\n",
      "[100]\ttraining's auc: 0.807592\tvalid_1's auc: 0.782037\n",
      "[200]\ttraining's auc: 0.83447\tvalid_1's auc: 0.791848\n",
      "[300]\ttraining's auc: 0.851726\tvalid_1's auc: 0.795577\n",
      "[400]\ttraining's auc: 0.86464\tvalid_1's auc: 0.797151\n",
      "[500]\ttraining's auc: 0.875936\tvalid_1's auc: 0.797159\n",
      "[600]\ttraining's auc: 0.885902\tvalid_1's auc: 0.797349\n",
      "Early stopping, best iteration is:\n",
      "[451]\ttraining's auc: 0.870577\tvalid_1's auc: 0.797419\n",
      "Fold  1 AUC : 0.797421\n"
     ]
    },
    {
     "name": "stderr",
     "output_type": "stream",
     "text": [
      "/home/kai/anaconda3/lib/python3.6/site-packages/lightgbm/engine.py:99: UserWarning: Found `num_iteration` in params. Will use it instead of argument\n",
      "  warnings.warn(\"Found `{}` in params. Will use it instead of argument\".format(alias))\n"
     ]
    },
    {
     "name": "stdout",
     "output_type": "stream",
     "text": [
      "Training until validation scores don't improve for 200 rounds.\n",
      "[100]\ttraining's auc: 0.807776\tvalid_1's auc: 0.781827\n",
      "[200]\ttraining's auc: 0.834545\tvalid_1's auc: 0.792588\n",
      "[300]\ttraining's auc: 0.851594\tvalid_1's auc: 0.796403\n",
      "[400]\ttraining's auc: 0.864678\tvalid_1's auc: 0.797187\n",
      "[500]\ttraining's auc: 0.875568\tvalid_1's auc: 0.797676\n",
      "[600]\ttraining's auc: 0.884697\tvalid_1's auc: 0.79788\n",
      "[700]\ttraining's auc: 0.893404\tvalid_1's auc: 0.798226\n",
      "[800]\ttraining's auc: 0.901749\tvalid_1's auc: 0.798273\n",
      "[900]\ttraining's auc: 0.908935\tvalid_1's auc: 0.798032\n",
      "Early stopping, best iteration is:\n",
      "[744]\ttraining's auc: 0.89705\tvalid_1's auc: 0.798328\n",
      "Fold  2 AUC : 0.798361\n"
     ]
    },
    {
     "name": "stderr",
     "output_type": "stream",
     "text": [
      "/home/kai/anaconda3/lib/python3.6/site-packages/lightgbm/engine.py:99: UserWarning: Found `num_iteration` in params. Will use it instead of argument\n",
      "  warnings.warn(\"Found `{}` in params. Will use it instead of argument\".format(alias))\n"
     ]
    },
    {
     "name": "stdout",
     "output_type": "stream",
     "text": [
      "Training until validation scores don't improve for 200 rounds.\n",
      "[100]\ttraining's auc: 0.809291\tvalid_1's auc: 0.775262\n",
      "[200]\ttraining's auc: 0.836173\tvalid_1's auc: 0.784845\n",
      "[300]\ttraining's auc: 0.853751\tvalid_1's auc: 0.788312\n",
      "[400]\ttraining's auc: 0.866425\tvalid_1's auc: 0.789047\n",
      "[500]\ttraining's auc: 0.876816\tvalid_1's auc: 0.789204\n",
      "[600]\ttraining's auc: 0.886764\tvalid_1's auc: 0.789543\n",
      "[700]\ttraining's auc: 0.895714\tvalid_1's auc: 0.789344\n",
      "[800]\ttraining's auc: 0.903334\tvalid_1's auc: 0.789289\n",
      "Early stopping, best iteration is:\n",
      "[647]\ttraining's auc: 0.89108\tvalid_1's auc: 0.789561\n",
      "Fold  3 AUC : 0.789561\n"
     ]
    },
    {
     "name": "stderr",
     "output_type": "stream",
     "text": [
      "/home/kai/anaconda3/lib/python3.6/site-packages/lightgbm/engine.py:99: UserWarning: Found `num_iteration` in params. Will use it instead of argument\n",
      "  warnings.warn(\"Found `{}` in params. Will use it instead of argument\".format(alias))\n"
     ]
    },
    {
     "name": "stdout",
     "output_type": "stream",
     "text": [
      "Training until validation scores don't improve for 200 rounds.\n",
      "[100]\ttraining's auc: 0.808881\tvalid_1's auc: 0.77792\n",
      "[200]\ttraining's auc: 0.836091\tvalid_1's auc: 0.787847\n",
      "[300]\ttraining's auc: 0.853733\tvalid_1's auc: 0.791741\n",
      "[400]\ttraining's auc: 0.866946\tvalid_1's auc: 0.793119\n",
      "[500]\ttraining's auc: 0.876878\tvalid_1's auc: 0.793676\n",
      "[600]\ttraining's auc: 0.887468\tvalid_1's auc: 0.793864\n",
      "[700]\ttraining's auc: 0.896204\tvalid_1's auc: 0.79398\n",
      "[800]\ttraining's auc: 0.904038\tvalid_1's auc: 0.794186\n",
      "[900]\ttraining's auc: 0.911904\tvalid_1's auc: 0.793942\n",
      "[1000]\ttraining's auc: 0.917972\tvalid_1's auc: 0.793595\n",
      "Early stopping, best iteration is:\n",
      "[804]\ttraining's auc: 0.90445\tvalid_1's auc: 0.794247\n",
      "Fold  4 AUC : 0.794258\n"
     ]
    },
    {
     "name": "stderr",
     "output_type": "stream",
     "text": [
      "/home/kai/anaconda3/lib/python3.6/site-packages/lightgbm/engine.py:99: UserWarning: Found `num_iteration` in params. Will use it instead of argument\n",
      "  warnings.warn(\"Found `{}` in params. Will use it instead of argument\".format(alias))\n"
     ]
    },
    {
     "name": "stdout",
     "output_type": "stream",
     "text": [
      "Training until validation scores don't improve for 200 rounds.\n",
      "[100]\ttraining's auc: 0.808541\tvalid_1's auc: 0.781717\n",
      "[200]\ttraining's auc: 0.835112\tvalid_1's auc: 0.790393\n",
      "[300]\ttraining's auc: 0.852776\tvalid_1's auc: 0.793796\n",
      "[400]\ttraining's auc: 0.866193\tvalid_1's auc: 0.794919\n",
      "[500]\ttraining's auc: 0.876853\tvalid_1's auc: 0.795126\n",
      "[600]\ttraining's auc: 0.886981\tvalid_1's auc: 0.79497\n",
      "[700]\ttraining's auc: 0.895022\tvalid_1's auc: 0.795024\n",
      "Early stopping, best iteration is:\n",
      "[560]\ttraining's auc: 0.883468\tvalid_1's auc: 0.795292\n",
      "Fold  5 AUC : 0.795289\n",
      "Full AUC score 0.794952\n",
      "length of small and large 467 202\n",
      "begin cutting\n",
      "begin cut small\n",
      "old shapes, (48744, 1957) (307511, 1957)\n",
      "length of small 467\n"
     ]
    },
    {
     "name": "stderr",
     "output_type": "stream",
     "text": [
      "/home/kai/anaconda3/lib/python3.6/site-packages/ipykernel_launcher.py:10: SettingWithCopyWarning: \n",
      "A value is trying to be set on a copy of a slice from a DataFrame.\n",
      "Try using .loc[row_indexer,col_indexer] = value instead\n",
      "\n",
      "See the caveats in the documentation: http://pandas.pydata.org/pandas-docs/stable/indexing.html#indexing-view-versus-copy\n",
      "  # Remove the CWD from sys.path while we load stuff.\n"
     ]
    },
    {
     "name": "stdout",
     "output_type": "stream",
     "text": [
      "new shapes, (48277, 1957) (307978, 1957)\n"
     ]
    }
   ],
   "source": [
    "threshold1, threshold2 = 0.005, 0.5\n",
    "n_splits = 5\n",
    "\n",
    "pred1, small, large = model_1(train, test, threshold1, threshold2,n_splits)\n",
    "\n",
    "print('begin cutting')\n",
    "train_small, test_small, cut_small = small_new(train, test, pred1, threshold1)"
   ]
  },
  {
   "cell_type": "code",
   "execution_count": null,
   "metadata": {},
   "outputs": [],
   "source": [
    "# stratified = False, seed = 1001, bayesian optimization paras\n"
   ]
  },
  {
   "cell_type": "code",
   "execution_count": 15,
   "metadata": {
    "ExecuteTime": {
     "end_time": "2018-06-28T20:07:38.233397Z",
     "start_time": "2018-06-28T20:07:38.216699Z"
    },
    "collapsed": true
   },
   "outputs": [
    {
     "data": {
      "text/html": [
       "<div>\n",
       "<style scoped>\n",
       "    .dataframe tbody tr th:only-of-type {\n",
       "        vertical-align: middle;\n",
       "    }\n",
       "\n",
       "    .dataframe tbody tr th {\n",
       "        vertical-align: top;\n",
       "    }\n",
       "\n",
       "    .dataframe thead th {\n",
       "        text-align: right;\n",
       "    }\n",
       "</style>\n",
       "<table border=\"1\" class=\"dataframe\">\n",
       "  <thead>\n",
       "    <tr style=\"text-align: right;\">\n",
       "      <th></th>\n",
       "      <th>SK_ID_CURR</th>\n",
       "      <th>TARGET</th>\n",
       "    </tr>\n",
       "  </thead>\n",
       "  <tbody>\n",
       "    <tr>\n",
       "      <th>202</th>\n",
       "      <td>101363</td>\n",
       "      <td>0.512845</td>\n",
       "    </tr>\n",
       "    <tr>\n",
       "      <th>634</th>\n",
       "      <td>104410</td>\n",
       "      <td>0.660982</td>\n",
       "    </tr>\n",
       "    <tr>\n",
       "      <th>998</th>\n",
       "      <td>106854</td>\n",
       "      <td>0.565535</td>\n",
       "    </tr>\n",
       "    <tr>\n",
       "      <th>1291</th>\n",
       "      <td>109046</td>\n",
       "      <td>0.523270</td>\n",
       "    </tr>\n",
       "    <tr>\n",
       "      <th>1597</th>\n",
       "      <td>111345</td>\n",
       "      <td>0.500303</td>\n",
       "    </tr>\n",
       "    <tr>\n",
       "      <th>1610</th>\n",
       "      <td>111452</td>\n",
       "      <td>0.621281</td>\n",
       "    </tr>\n",
       "    <tr>\n",
       "      <th>1829</th>\n",
       "      <td>112917</td>\n",
       "      <td>0.574808</td>\n",
       "    </tr>\n",
       "    <tr>\n",
       "      <th>1935</th>\n",
       "      <td>113627</td>\n",
       "      <td>0.751126</td>\n",
       "    </tr>\n",
       "    <tr>\n",
       "      <th>1993</th>\n",
       "      <td>113999</td>\n",
       "      <td>0.511524</td>\n",
       "    </tr>\n",
       "    <tr>\n",
       "      <th>2035</th>\n",
       "      <td>114283</td>\n",
       "      <td>0.632261</td>\n",
       "    </tr>\n",
       "    <tr>\n",
       "      <th>2513</th>\n",
       "      <td>117520</td>\n",
       "      <td>0.617488</td>\n",
       "    </tr>\n",
       "    <tr>\n",
       "      <th>2565</th>\n",
       "      <td>117920</td>\n",
       "      <td>0.522513</td>\n",
       "    </tr>\n",
       "    <tr>\n",
       "      <th>2764</th>\n",
       "      <td>119362</td>\n",
       "      <td>0.593336</td>\n",
       "    </tr>\n",
       "    <tr>\n",
       "      <th>2799</th>\n",
       "      <td>119648</td>\n",
       "      <td>0.500674</td>\n",
       "    </tr>\n",
       "    <tr>\n",
       "      <th>2830</th>\n",
       "      <td>119821</td>\n",
       "      <td>0.590230</td>\n",
       "    </tr>\n",
       "    <tr>\n",
       "      <th>2838</th>\n",
       "      <td>119896</td>\n",
       "      <td>0.616161</td>\n",
       "    </tr>\n",
       "    <tr>\n",
       "      <th>3100</th>\n",
       "      <td>121772</td>\n",
       "      <td>0.637410</td>\n",
       "    </tr>\n",
       "    <tr>\n",
       "      <th>3459</th>\n",
       "      <td>124401</td>\n",
       "      <td>0.606887</td>\n",
       "    </tr>\n",
       "    <tr>\n",
       "      <th>3590</th>\n",
       "      <td>125376</td>\n",
       "      <td>0.500774</td>\n",
       "    </tr>\n",
       "    <tr>\n",
       "      <th>3640</th>\n",
       "      <td>125779</td>\n",
       "      <td>0.635970</td>\n",
       "    </tr>\n",
       "    <tr>\n",
       "      <th>4465</th>\n",
       "      <td>131959</td>\n",
       "      <td>0.642219</td>\n",
       "    </tr>\n",
       "    <tr>\n",
       "      <th>4525</th>\n",
       "      <td>132358</td>\n",
       "      <td>0.736209</td>\n",
       "    </tr>\n",
       "    <tr>\n",
       "      <th>4567</th>\n",
       "      <td>132723</td>\n",
       "      <td>0.515759</td>\n",
       "    </tr>\n",
       "    <tr>\n",
       "      <th>4651</th>\n",
       "      <td>133334</td>\n",
       "      <td>0.555050</td>\n",
       "    </tr>\n",
       "    <tr>\n",
       "      <th>4655</th>\n",
       "      <td>133412</td>\n",
       "      <td>0.576891</td>\n",
       "    </tr>\n",
       "    <tr>\n",
       "      <th>4726</th>\n",
       "      <td>134016</td>\n",
       "      <td>0.506583</td>\n",
       "    </tr>\n",
       "    <tr>\n",
       "      <th>4934</th>\n",
       "      <td>135657</td>\n",
       "      <td>0.503015</td>\n",
       "    </tr>\n",
       "    <tr>\n",
       "      <th>5291</th>\n",
       "      <td>138678</td>\n",
       "      <td>0.562552</td>\n",
       "    </tr>\n",
       "    <tr>\n",
       "      <th>5361</th>\n",
       "      <td>139181</td>\n",
       "      <td>0.532813</td>\n",
       "    </tr>\n",
       "    <tr>\n",
       "      <th>5433</th>\n",
       "      <td>139656</td>\n",
       "      <td>0.642467</td>\n",
       "    </tr>\n",
       "    <tr>\n",
       "      <th>...</th>\n",
       "      <td>...</td>\n",
       "      <td>...</td>\n",
       "    </tr>\n",
       "    <tr>\n",
       "      <th>41031</th>\n",
       "      <td>401942</td>\n",
       "      <td>0.516700</td>\n",
       "    </tr>\n",
       "    <tr>\n",
       "      <th>41324</th>\n",
       "      <td>403560</td>\n",
       "      <td>0.542940</td>\n",
       "    </tr>\n",
       "    <tr>\n",
       "      <th>41338</th>\n",
       "      <td>403689</td>\n",
       "      <td>0.683824</td>\n",
       "    </tr>\n",
       "    <tr>\n",
       "      <th>41339</th>\n",
       "      <td>403690</td>\n",
       "      <td>0.610321</td>\n",
       "    </tr>\n",
       "    <tr>\n",
       "      <th>41472</th>\n",
       "      <td>404274</td>\n",
       "      <td>0.652206</td>\n",
       "    </tr>\n",
       "    <tr>\n",
       "      <th>41507</th>\n",
       "      <td>404380</td>\n",
       "      <td>0.715846</td>\n",
       "    </tr>\n",
       "    <tr>\n",
       "      <th>42029</th>\n",
       "      <td>407645</td>\n",
       "      <td>0.666343</td>\n",
       "    </tr>\n",
       "    <tr>\n",
       "      <th>42508</th>\n",
       "      <td>410388</td>\n",
       "      <td>0.569555</td>\n",
       "    </tr>\n",
       "    <tr>\n",
       "      <th>42746</th>\n",
       "      <td>411842</td>\n",
       "      <td>0.540523</td>\n",
       "    </tr>\n",
       "    <tr>\n",
       "      <th>42965</th>\n",
       "      <td>413243</td>\n",
       "      <td>0.527437</td>\n",
       "    </tr>\n",
       "    <tr>\n",
       "      <th>43080</th>\n",
       "      <td>413752</td>\n",
       "      <td>0.588178</td>\n",
       "    </tr>\n",
       "    <tr>\n",
       "      <th>43171</th>\n",
       "      <td>414253</td>\n",
       "      <td>0.574614</td>\n",
       "    </tr>\n",
       "    <tr>\n",
       "      <th>43643</th>\n",
       "      <td>417990</td>\n",
       "      <td>0.715632</td>\n",
       "    </tr>\n",
       "    <tr>\n",
       "      <th>44076</th>\n",
       "      <td>421996</td>\n",
       "      <td>0.712097</td>\n",
       "    </tr>\n",
       "    <tr>\n",
       "      <th>44538</th>\n",
       "      <td>425425</td>\n",
       "      <td>0.602531</td>\n",
       "    </tr>\n",
       "    <tr>\n",
       "      <th>44795</th>\n",
       "      <td>428054</td>\n",
       "      <td>0.545150</td>\n",
       "    </tr>\n",
       "    <tr>\n",
       "      <th>45004</th>\n",
       "      <td>429600</td>\n",
       "      <td>0.506687</td>\n",
       "    </tr>\n",
       "    <tr>\n",
       "      <th>45233</th>\n",
       "      <td>431238</td>\n",
       "      <td>0.548637</td>\n",
       "    </tr>\n",
       "    <tr>\n",
       "      <th>45243</th>\n",
       "      <td>431315</td>\n",
       "      <td>0.560997</td>\n",
       "    </tr>\n",
       "    <tr>\n",
       "      <th>45277</th>\n",
       "      <td>431543</td>\n",
       "      <td>0.578508</td>\n",
       "    </tr>\n",
       "    <tr>\n",
       "      <th>45685</th>\n",
       "      <td>434006</td>\n",
       "      <td>0.509760</td>\n",
       "    </tr>\n",
       "    <tr>\n",
       "      <th>46145</th>\n",
       "      <td>437343</td>\n",
       "      <td>0.607360</td>\n",
       "    </tr>\n",
       "    <tr>\n",
       "      <th>46976</th>\n",
       "      <td>443264</td>\n",
       "      <td>0.550139</td>\n",
       "    </tr>\n",
       "    <tr>\n",
       "      <th>47299</th>\n",
       "      <td>445743</td>\n",
       "      <td>0.582801</td>\n",
       "    </tr>\n",
       "    <tr>\n",
       "      <th>47394</th>\n",
       "      <td>446472</td>\n",
       "      <td>0.562309</td>\n",
       "    </tr>\n",
       "    <tr>\n",
       "      <th>47690</th>\n",
       "      <td>448536</td>\n",
       "      <td>0.540392</td>\n",
       "    </tr>\n",
       "    <tr>\n",
       "      <th>47901</th>\n",
       "      <td>450042</td>\n",
       "      <td>0.560286</td>\n",
       "    </tr>\n",
       "    <tr>\n",
       "      <th>47991</th>\n",
       "      <td>450644</td>\n",
       "      <td>0.518250</td>\n",
       "    </tr>\n",
       "    <tr>\n",
       "      <th>48426</th>\n",
       "      <td>453781</td>\n",
       "      <td>0.527432</td>\n",
       "    </tr>\n",
       "    <tr>\n",
       "      <th>48662</th>\n",
       "      <td>455513</td>\n",
       "      <td>0.579259</td>\n",
       "    </tr>\n",
       "  </tbody>\n",
       "</table>\n",
       "<p>202 rows × 2 columns</p>\n",
       "</div>"
      ],
      "text/plain": [
       "       SK_ID_CURR    TARGET\n",
       "202        101363  0.512845\n",
       "634        104410  0.660982\n",
       "998        106854  0.565535\n",
       "1291       109046  0.523270\n",
       "1597       111345  0.500303\n",
       "1610       111452  0.621281\n",
       "1829       112917  0.574808\n",
       "1935       113627  0.751126\n",
       "1993       113999  0.511524\n",
       "2035       114283  0.632261\n",
       "2513       117520  0.617488\n",
       "2565       117920  0.522513\n",
       "2764       119362  0.593336\n",
       "2799       119648  0.500674\n",
       "2830       119821  0.590230\n",
       "2838       119896  0.616161\n",
       "3100       121772  0.637410\n",
       "3459       124401  0.606887\n",
       "3590       125376  0.500774\n",
       "3640       125779  0.635970\n",
       "4465       131959  0.642219\n",
       "4525       132358  0.736209\n",
       "4567       132723  0.515759\n",
       "4651       133334  0.555050\n",
       "4655       133412  0.576891\n",
       "4726       134016  0.506583\n",
       "4934       135657  0.503015\n",
       "5291       138678  0.562552\n",
       "5361       139181  0.532813\n",
       "5433       139656  0.642467\n",
       "...           ...       ...\n",
       "41031      401942  0.516700\n",
       "41324      403560  0.542940\n",
       "41338      403689  0.683824\n",
       "41339      403690  0.610321\n",
       "41472      404274  0.652206\n",
       "41507      404380  0.715846\n",
       "42029      407645  0.666343\n",
       "42508      410388  0.569555\n",
       "42746      411842  0.540523\n",
       "42965      413243  0.527437\n",
       "43080      413752  0.588178\n",
       "43171      414253  0.574614\n",
       "43643      417990  0.715632\n",
       "44076      421996  0.712097\n",
       "44538      425425  0.602531\n",
       "44795      428054  0.545150\n",
       "45004      429600  0.506687\n",
       "45233      431238  0.548637\n",
       "45243      431315  0.560997\n",
       "45277      431543  0.578508\n",
       "45685      434006  0.509760\n",
       "46145      437343  0.607360\n",
       "46976      443264  0.550139\n",
       "47299      445743  0.582801\n",
       "47394      446472  0.562309\n",
       "47690      448536  0.540392\n",
       "47901      450042  0.560286\n",
       "47991      450644  0.518250\n",
       "48426      453781  0.527432\n",
       "48662      455513  0.579259\n",
       "\n",
       "[202 rows x 2 columns]"
      ]
     },
     "execution_count": 15,
     "metadata": {},
     "output_type": "execute_result"
    }
   ],
   "source": [
    "x = pred1[pred1['TARGET']>0.5]\n",
    "x"
   ]
  },
  {
   "cell_type": "code",
   "execution_count": 14,
   "metadata": {
    "ExecuteTime": {
     "end_time": "2018-06-28T20:07:36.618508Z",
     "start_time": "2018-06-28T20:07:36.421881Z"
    }
   },
   "outputs": [],
   "source": [
    "pred1.to_csv(PATH+'/submission/06_28_pred1.csv', index = False)"
   ]
  },
  {
   "cell_type": "markdown",
   "metadata": {
    "heading_collapsed": true
   },
   "source": [
    "# Percentage"
   ]
  },
  {
   "cell_type": "code",
   "execution_count": 18,
   "metadata": {
    "ExecuteTime": {
     "end_time": "2018-06-26T00:31:12.003382Z",
     "start_time": "2018-06-26T00:31:11.956533Z"
    },
    "hidden": true
   },
   "outputs": [
    {
     "name": "stdout",
     "output_type": "stream",
     "text": [
      "threshold, 0.0\n",
      "1.0\n",
      "threshold, 0.03333333333333333\n",
      "0.5699368127359264\n",
      "threshold, 0.06666666666666667\n",
      "0.3252297718693583\n",
      "threshold, 0.1\n",
      "0.20933858526177584\n",
      "threshold, 0.13333333333333333\n",
      "0.14284835056622358\n",
      "threshold, 0.16666666666666666\n",
      "0.10046364680781228\n",
      "threshold, 0.2\n",
      "0.07323978335795178\n",
      "threshold, 0.23333333333333334\n",
      "0.05299113737075334\n",
      "threshold, 0.26666666666666666\n",
      "0.04027162317413424\n",
      "threshold, 0.3\n",
      "0.02997291974396854\n",
      "threshold, 0.3333333333333333\n",
      "0.022095027080256013\n",
      "threshold, 0.36666666666666664\n",
      "0.016802067946824262\n",
      "threshold, 0.4\n",
      "0.012350237978007494\n",
      "threshold, 0.43333333333333335\n",
      "0.00878056786476289\n",
      "threshold, 0.4666666666666667\n",
      "0.0062161496799606475\n",
      "threshold, 0.5\n",
      "0.0045749220416871905\n",
      "threshold, 0.5333333333333333\n",
      "0.0032619399310684916\n",
      "threshold, 0.5666666666666667\n",
      "0.0023182340390611733\n",
      "threshold, 0.6\n",
      "0.001374528147053966\n",
      "threshold, 0.6333333333333333\n",
      "0.000984736582964052\n",
      "threshold, 0.6666666666666666\n",
      "0.0006770064007878274\n",
      "threshold, 0.7\n",
      "0.00036927621861149174\n",
      "threshold, 0.7333333333333333\n",
      "0.000164122763827379\n",
      "threshold, 0.7666666666666667\n",
      "2.0515345478422375e-05\n",
      "threshold, 0.8\n",
      "0.0\n",
      "threshold, 0.8333333333333334\n",
      "0.0\n",
      "threshold, 0.8666666666666667\n",
      "0.0\n",
      "threshold, 0.9\n",
      "0.0\n",
      "threshold, 0.9333333333333333\n",
      "0.0\n",
      "threshold, 0.9666666666666667\n",
      "0.0\n",
      "threshold, 1.0\n",
      "0.0\n"
     ]
    }
   ],
   "source": [
    "k = 30\n",
    "for i in range(k+1):\n",
    "    tmp = i/k\n",
    "    print('threshold,', tmp)\n",
    "    print(1-(pred1['TARGET']<= tmp).sum()/len(pred1))\n",
    "    "
   ]
  },
  {
   "cell_type": "code",
   "execution_count": 20,
   "metadata": {
    "ExecuteTime": {
     "end_time": "2018-06-26T00:50:48.730698Z",
     "start_time": "2018-06-26T00:50:48.595731Z"
    },
    "hidden": true
   },
   "outputs": [],
   "source": [
    "pred1[pred1['TARGET']>1/2]['TARGET'].max()\n",
    "pred1.to_csv(PATH+'submission/06_25_2.csv', index = False)"
   ]
  },
  {
   "cell_type": "markdown",
   "metadata": {},
   "source": [
    "# Train new with small"
   ]
  },
  {
   "cell_type": "code",
   "execution_count": 51,
   "metadata": {
    "ExecuteTime": {
     "end_time": "2018-06-26T19:11:45.858343Z",
     "start_time": "2018-06-26T19:08:59.119273Z"
    },
    "scrolled": true
   },
   "outputs": [
    {
     "name": "stdout",
     "output_type": "stream",
     "text": [
      "start modified_small\n",
      "begin cv\n"
     ]
    },
    {
     "name": "stderr",
     "output_type": "stream",
     "text": [
      "/home/kai/anaconda3/lib/python3.6/site-packages/lightgbm/engine.py:390: UserWarning: Found `num_iteration` in params. Will use it instead of argument\n",
      "  warnings.warn(\"Found `{}` in params. Will use it instead of argument\".format(alias))\n",
      "/home/kai/anaconda3/lib/python3.6/site-packages/lightgbm/basic.py:1027: UserWarning: Using categorical_feature in Dataset.\n",
      "  warnings.warn('Using categorical_feature in Dataset.')\n"
     ]
    },
    {
     "name": "stdout",
     "output_type": "stream",
     "text": [
      "[100]\tcv_agg's auc: 0.754762 + 0.00437548\n"
     ]
    },
    {
     "ename": "KeyboardInterrupt",
     "evalue": "",
     "output_type": "error",
     "traceback": [
      "\u001b[0;31m---------------------------------------------------------------------------\u001b[0m",
      "\u001b[0;31mKeyboardInterrupt\u001b[0m                         Traceback (most recent call last)",
      "\u001b[0;32m<ipython-input-51-e64e6a5f473f>\u001b[0m in \u001b[0;36m<module>\u001b[0;34m()\u001b[0m\n\u001b[1;32m      1\u001b[0m \u001b[0;31m# n_splits = 3\u001b[0m\u001b[0;34m\u001b[0m\u001b[0;34m\u001b[0m\u001b[0m\n\u001b[1;32m      2\u001b[0m \u001b[0mprint\u001b[0m\u001b[0;34m(\u001b[0m\u001b[0;34m'start modified_small'\u001b[0m\u001b[0;34m)\u001b[0m\u001b[0;34m\u001b[0m\u001b[0m\n\u001b[0;32m----> 3\u001b[0;31m \u001b[0mmodified_small\u001b[0m\u001b[0;34m,\u001b[0m\u001b[0m_\u001b[0m\u001b[0;34m,\u001b[0m\u001b[0m_\u001b[0m \u001b[0;34m=\u001b[0m  \u001b[0mmodel_2\u001b[0m\u001b[0;34m(\u001b[0m\u001b[0mtrain_small\u001b[0m\u001b[0;34m,\u001b[0m \u001b[0mtest_small\u001b[0m\u001b[0;34m,\u001b[0m \u001b[0mthreshold1\u001b[0m\u001b[0;34m,\u001b[0m \u001b[0mthreshold2\u001b[0m\u001b[0;34m,\u001b[0m\u001b[0mn_splits\u001b[0m\u001b[0;34m)\u001b[0m\u001b[0;34m\u001b[0m\u001b[0m\n\u001b[0m\u001b[1;32m      4\u001b[0m \u001b[0;34m\u001b[0m\u001b[0m\n\u001b[1;32m      5\u001b[0m \u001b[0mpred_small\u001b[0m \u001b[0;34m=\u001b[0m \u001b[0mconcat_pred\u001b[0m\u001b[0;34m(\u001b[0m\u001b[0mmodified_small\u001b[0m\u001b[0;34m,\u001b[0m\u001b[0mcut_small\u001b[0m\u001b[0;34m)\u001b[0m\u001b[0;34m\u001b[0m\u001b[0m\n",
      "\u001b[0;32m<ipython-input-45-c5d528a801cd>\u001b[0m in \u001b[0;36mmodel_2\u001b[0;34m(train_df, test_df, threshold1, threshold2, n_splits)\u001b[0m\n\u001b[1;32m     88\u001b[0m                          \u001b[0mearly_stopping_rounds\u001b[0m\u001b[0;34m=\u001b[0m\u001b[0;36m150\u001b[0m\u001b[0;34m,\u001b[0m\u001b[0;34m\u001b[0m\u001b[0m\n\u001b[1;32m     89\u001b[0m                          \u001b[0mverbose_eval\u001b[0m\u001b[0;34m=\u001b[0m\u001b[0;36m100\u001b[0m\u001b[0;34m,\u001b[0m\u001b[0;34m\u001b[0m\u001b[0m\n\u001b[0;32m---> 90\u001b[0;31m                          metrics=['auc'])\n\u001b[0m\u001b[1;32m     91\u001b[0m \u001b[0;34m\u001b[0m\u001b[0m\n\u001b[1;32m     92\u001b[0m     \u001b[0moptimum_boost_rounds\u001b[0m \u001b[0;34m=\u001b[0m \u001b[0mnp\u001b[0m\u001b[0;34m.\u001b[0m\u001b[0margmax\u001b[0m\u001b[0;34m(\u001b[0m\u001b[0mcv_results\u001b[0m\u001b[0;34m[\u001b[0m\u001b[0;34m'auc-mean'\u001b[0m\u001b[0;34m]\u001b[0m\u001b[0;34m)\u001b[0m\u001b[0;34m\u001b[0m\u001b[0m\n",
      "\u001b[0;32m~/anaconda3/lib/python3.6/site-packages/lightgbm/engine.py\u001b[0m in \u001b[0;36mcv\u001b[0;34m(params, train_set, num_boost_round, folds, nfold, stratified, shuffle, metrics, fobj, feval, init_model, feature_name, categorical_feature, early_stopping_rounds, fpreproc, verbose_eval, show_stdv, seed, callbacks)\u001b[0m\n\u001b[1;32m    445\u001b[0m                                     \u001b[0mend_iteration\u001b[0m\u001b[0;34m=\u001b[0m\u001b[0mnum_boost_round\u001b[0m\u001b[0;34m,\u001b[0m\u001b[0;34m\u001b[0m\u001b[0m\n\u001b[1;32m    446\u001b[0m                                     evaluation_result_list=None))\n\u001b[0;32m--> 447\u001b[0;31m         \u001b[0mcvfolds\u001b[0m\u001b[0;34m.\u001b[0m\u001b[0mupdate\u001b[0m\u001b[0;34m(\u001b[0m\u001b[0mfobj\u001b[0m\u001b[0;34m=\u001b[0m\u001b[0mfobj\u001b[0m\u001b[0;34m)\u001b[0m\u001b[0;34m\u001b[0m\u001b[0m\n\u001b[0m\u001b[1;32m    448\u001b[0m         \u001b[0mres\u001b[0m \u001b[0;34m=\u001b[0m \u001b[0m_agg_cv_result\u001b[0m\u001b[0;34m(\u001b[0m\u001b[0mcvfolds\u001b[0m\u001b[0;34m.\u001b[0m\u001b[0meval_valid\u001b[0m\u001b[0;34m(\u001b[0m\u001b[0mfeval\u001b[0m\u001b[0;34m)\u001b[0m\u001b[0;34m)\u001b[0m\u001b[0;34m\u001b[0m\u001b[0m\n\u001b[1;32m    449\u001b[0m         \u001b[0;32mfor\u001b[0m \u001b[0m_\u001b[0m\u001b[0;34m,\u001b[0m \u001b[0mkey\u001b[0m\u001b[0;34m,\u001b[0m \u001b[0mmean\u001b[0m\u001b[0;34m,\u001b[0m \u001b[0m_\u001b[0m\u001b[0;34m,\u001b[0m \u001b[0mstd\u001b[0m \u001b[0;32min\u001b[0m \u001b[0mres\u001b[0m\u001b[0;34m:\u001b[0m\u001b[0;34m\u001b[0m\u001b[0m\n",
      "\u001b[0;32m~/anaconda3/lib/python3.6/site-packages/lightgbm/engine.py\u001b[0m in \u001b[0;36mhandlerFunction\u001b[0;34m(*args, **kwargs)\u001b[0m\n\u001b[1;32m    244\u001b[0m             \u001b[0mret\u001b[0m \u001b[0;34m=\u001b[0m \u001b[0;34m[\u001b[0m\u001b[0;34m]\u001b[0m\u001b[0;34m\u001b[0m\u001b[0m\n\u001b[1;32m    245\u001b[0m             \u001b[0;32mfor\u001b[0m \u001b[0mbooster\u001b[0m \u001b[0;32min\u001b[0m \u001b[0mself\u001b[0m\u001b[0;34m.\u001b[0m\u001b[0mboosters\u001b[0m\u001b[0;34m:\u001b[0m\u001b[0;34m\u001b[0m\u001b[0m\n\u001b[0;32m--> 246\u001b[0;31m                 \u001b[0mret\u001b[0m\u001b[0;34m.\u001b[0m\u001b[0mappend\u001b[0m\u001b[0;34m(\u001b[0m\u001b[0mgetattr\u001b[0m\u001b[0;34m(\u001b[0m\u001b[0mbooster\u001b[0m\u001b[0;34m,\u001b[0m \u001b[0mname\u001b[0m\u001b[0;34m)\u001b[0m\u001b[0;34m(\u001b[0m\u001b[0;34m*\u001b[0m\u001b[0margs\u001b[0m\u001b[0;34m,\u001b[0m \u001b[0;34m**\u001b[0m\u001b[0mkwargs\u001b[0m\u001b[0;34m)\u001b[0m\u001b[0;34m)\u001b[0m\u001b[0;34m\u001b[0m\u001b[0m\n\u001b[0m\u001b[1;32m    247\u001b[0m             \u001b[0;32mreturn\u001b[0m \u001b[0mret\u001b[0m\u001b[0;34m\u001b[0m\u001b[0m\n\u001b[1;32m    248\u001b[0m         \u001b[0;32mreturn\u001b[0m \u001b[0mhandlerFunction\u001b[0m\u001b[0;34m\u001b[0m\u001b[0m\n",
      "\u001b[0;32m~/anaconda3/lib/python3.6/site-packages/lightgbm/basic.py\u001b[0m in \u001b[0;36mupdate\u001b[0;34m(self, train_set, fobj)\u001b[0m\n\u001b[1;32m   1508\u001b[0m             _safe_call(_LIB.LGBM_BoosterUpdateOneIter(\n\u001b[1;32m   1509\u001b[0m                 \u001b[0mself\u001b[0m\u001b[0;34m.\u001b[0m\u001b[0mhandle\u001b[0m\u001b[0;34m,\u001b[0m\u001b[0;34m\u001b[0m\u001b[0m\n\u001b[0;32m-> 1510\u001b[0;31m                 ctypes.byref(is_finished)))\n\u001b[0m\u001b[1;32m   1511\u001b[0m             \u001b[0mself\u001b[0m\u001b[0;34m.\u001b[0m\u001b[0m__is_predicted_cur_iter\u001b[0m \u001b[0;34m=\u001b[0m \u001b[0;34m[\u001b[0m\u001b[0;32mFalse\u001b[0m \u001b[0;32mfor\u001b[0m \u001b[0m_\u001b[0m \u001b[0;32min\u001b[0m \u001b[0mrange_\u001b[0m\u001b[0;34m(\u001b[0m\u001b[0mself\u001b[0m\u001b[0;34m.\u001b[0m\u001b[0m__num_dataset\u001b[0m\u001b[0;34m)\u001b[0m\u001b[0;34m]\u001b[0m\u001b[0;34m\u001b[0m\u001b[0m\n\u001b[1;32m   1512\u001b[0m             \u001b[0;32mreturn\u001b[0m \u001b[0mis_finished\u001b[0m\u001b[0;34m.\u001b[0m\u001b[0mvalue\u001b[0m \u001b[0;34m==\u001b[0m \u001b[0;36m1\u001b[0m\u001b[0;34m\u001b[0m\u001b[0m\n",
      "\u001b[0;31mKeyboardInterrupt\u001b[0m: "
     ]
    }
   ],
   "source": [
    "# n_splits = 3\n",
    "\n",
    "print('start modified_small')\n",
    "modified_small,_,_ =  model_2(train_small, test_ori, threshold1, threshold2,n_splits)\n",
    "\n",
    "# pred_small = concat_pred(modified_small,cut_small)"
   ]
  },
  {
   "cell_type": "markdown",
   "metadata": {},
   "source": [
    "# Large"
   ]
  },
  {
   "cell_type": "code",
   "execution_count": 14,
   "metadata": {
    "ExecuteTime": {
     "end_time": "2018-06-28T20:20:09.518068Z",
     "start_time": "2018-06-28T20:20:00.768946Z"
    }
   },
   "outputs": [
    {
     "name": "stdout",
     "output_type": "stream",
     "text": [
      "begin cut large\n",
      "old shapes, (48744, 1956) (307511, 1957)\n",
      "length of half 202\n"
     ]
    },
    {
     "name": "stderr",
     "output_type": "stream",
     "text": [
      "/home/kai/anaconda3/lib/python3.6/site-packages/ipykernel_launcher.py:10: SettingWithCopyWarning: \n",
      "A value is trying to be set on a copy of a slice from a DataFrame.\n",
      "Try using .loc[row_indexer,col_indexer] = value instead\n",
      "\n",
      "See the caveats in the documentation: http://pandas.pydata.org/pandas-docs/stable/indexing.html#indexing-view-versus-copy\n",
      "  # Remove the CWD from sys.path while we load stuff.\n"
     ]
    },
    {
     "name": "stdout",
     "output_type": "stream",
     "text": [
      "new shapes, (48542, 1956) (307713, 1957)\n"
     ]
    }
   ],
   "source": [
    "pred1 = pd.read_csv(PATH+'/submission/06_28_pred1.csv')\n",
    "\n",
    "train_large, test_large, cut_large = large_new(train, test, pred1, 0.5)"
   ]
  },
  {
   "cell_type": "code",
   "execution_count": null,
   "metadata": {
    "ExecuteTime": {
     "start_time": "2018-06-28T20:36:06.540Z"
    },
    "scrolled": true
   },
   "outputs": [
    {
     "name": "stdout",
     "output_type": "stream",
     "text": [
      "start modified_large\n",
      "(48744, 1956)\n",
      "begin cv\n"
     ]
    },
    {
     "name": "stderr",
     "output_type": "stream",
     "text": [
      "/home/kai/anaconda3/lib/python3.6/site-packages/lightgbm/engine.py:390: UserWarning: Found `num_iteration` in params. Will use it instead of argument\n",
      "  warnings.warn(\"Found `{}` in params. Will use it instead of argument\".format(alias))\n",
      "/home/kai/anaconda3/lib/python3.6/site-packages/lightgbm/basic.py:1027: UserWarning: Using categorical_feature in Dataset.\n",
      "  warnings.warn('Using categorical_feature in Dataset.')\n"
     ]
    },
    {
     "name": "stdout",
     "output_type": "stream",
     "text": [
      "[100]\tcv_agg's auc: 0.780892 + 0.00277921\n",
      "[200]\tcv_agg's auc: 0.791241 + 0.00301825\n"
     ]
    }
   ],
   "source": [
    "\n",
    "print('start modified_large')\n",
    "# test_ori = pd.read_pickle(PATH + 'test_0_with_linear.pkl')\n",
    "# print('read ori test done')\n",
    "\n",
    "test_ori = pd.read_pickle(PATH + 'test_factorized_std_with_linear.pkl')\n",
    "test_ori = test_ori.merge(df, on = 'SK_ID_CURR', how = 'left')\n",
    "print(test_ori.shape)\n",
    "\n",
    "n_splits = 5\n",
    "# modified_large,_,_ =  model_1(train_large, test_ori, threshold1, threshold2, n_splits)\n",
    "modified_large_2,_,_ =  model_2(train_large, test_ori, 0.005, 0.5, 5)"
   ]
  },
  {
   "cell_type": "code",
   "execution_count": 20,
   "metadata": {
    "ExecuteTime": {
     "end_time": "2018-06-29T13:41:32.513451Z",
     "start_time": "2018-06-29T13:41:32.505189Z"
    }
   },
   "outputs": [
    {
     "ename": "NameError",
     "evalue": "name 'modified_large_2' is not defined",
     "output_type": "error",
     "traceback": [
      "\u001b[0;31m---------------------------------------------------------------------------\u001b[0m",
      "\u001b[0;31mNameError\u001b[0m                                 Traceback (most recent call last)",
      "\u001b[0;32m<ipython-input-20-2be706cc067f>\u001b[0m in \u001b[0;36m<module>\u001b[0;34m()\u001b[0m\n\u001b[0;32m----> 1\u001b[0;31m \u001b[0mmodified_large_2\u001b[0m\u001b[0;34m.\u001b[0m\u001b[0mshape\u001b[0m\u001b[0;34m\u001b[0m\u001b[0m\n\u001b[0m",
      "\u001b[0;31mNameError\u001b[0m: name 'modified_large_2' is not defined"
     ]
    }
   ],
   "source": [
    "modified_large_2.shape"
   ]
  },
  {
   "cell_type": "code",
   "execution_count": 27,
   "metadata": {
    "ExecuteTime": {
     "end_time": "2018-06-26T03:42:55.116149Z",
     "start_time": "2018-06-26T02:52:52.885978Z"
    },
    "collapsed": true
   },
   "outputs": [
    {
     "name": "stdout",
     "output_type": "stream",
     "text": [
      "begin blended lightgbm\n",
      "Training until validation scores don't improve for 200 rounds.\n",
      "[100]\ttraining's auc: 0.776383\tvalid_1's auc: 0.762149\n",
      "[200]\ttraining's auc: 0.793873\tvalid_1's auc: 0.774697\n",
      "[300]\ttraining's auc: 0.808924\tvalid_1's auc: 0.784543\n",
      "[400]\ttraining's auc: 0.819702\tvalid_1's auc: 0.789038\n",
      "[500]\ttraining's auc: 0.828517\tvalid_1's auc: 0.79196\n",
      "[600]\ttraining's auc: 0.836371\tvalid_1's auc: 0.794034\n",
      "[700]\ttraining's auc: 0.843331\tvalid_1's auc: 0.795198\n",
      "[800]\ttraining's auc: 0.84969\tvalid_1's auc: 0.796317\n",
      "[900]\ttraining's auc: 0.855507\tvalid_1's auc: 0.796782\n",
      "[1000]\ttraining's auc: 0.861077\tvalid_1's auc: 0.797453\n",
      "[1100]\ttraining's auc: 0.86631\tvalid_1's auc: 0.798057\n",
      "[1200]\ttraining's auc: 0.871352\tvalid_1's auc: 0.798438\n",
      "[1300]\ttraining's auc: 0.875819\tvalid_1's auc: 0.798694\n",
      "[1400]\ttraining's auc: 0.880168\tvalid_1's auc: 0.798866\n",
      "[1500]\ttraining's auc: 0.884395\tvalid_1's auc: 0.798976\n",
      "[1600]\ttraining's auc: 0.888517\tvalid_1's auc: 0.798971\n",
      "[1700]\ttraining's auc: 0.892337\tvalid_1's auc: 0.79894\n",
      "Early stopping, best iteration is:\n",
      "[1546]\ttraining's auc: 0.88627\tvalid_1's auc: 0.79907\n",
      "Fold  1 AUC : 0.799064\n",
      "Training until validation scores don't improve for 200 rounds.\n",
      "[100]\ttraining's auc: 0.778942\tvalid_1's auc: 0.756021\n",
      "[200]\ttraining's auc: 0.796569\tvalid_1's auc: 0.7695\n",
      "[300]\ttraining's auc: 0.810033\tvalid_1's auc: 0.778668\n",
      "[400]\ttraining's auc: 0.821021\tvalid_1's auc: 0.783943\n",
      "[500]\ttraining's auc: 0.829704\tvalid_1's auc: 0.787131\n",
      "[600]\ttraining's auc: 0.837476\tvalid_1's auc: 0.789208\n",
      "[700]\ttraining's auc: 0.844334\tvalid_1's auc: 0.790445\n",
      "[800]\ttraining's auc: 0.850534\tvalid_1's auc: 0.791301\n",
      "[900]\ttraining's auc: 0.856423\tvalid_1's auc: 0.791873\n",
      "[1000]\ttraining's auc: 0.861501\tvalid_1's auc: 0.792319\n",
      "[1100]\ttraining's auc: 0.866765\tvalid_1's auc: 0.792585\n",
      "[1200]\ttraining's auc: 0.871658\tvalid_1's auc: 0.79302\n",
      "[1300]\ttraining's auc: 0.876223\tvalid_1's auc: 0.793148\n",
      "[1400]\ttraining's auc: 0.880671\tvalid_1's auc: 0.793268\n",
      "[1500]\ttraining's auc: 0.884988\tvalid_1's auc: 0.793334\n",
      "[1600]\ttraining's auc: 0.889108\tvalid_1's auc: 0.793193\n",
      "Early stopping, best iteration is:\n",
      "[1497]\ttraining's auc: 0.884854\tvalid_1's auc: 0.793349\n",
      "Fold  2 AUC : 0.793324\n",
      "Training until validation scores don't improve for 200 rounds.\n",
      "[100]\ttraining's auc: 0.777427\tvalid_1's auc: 0.758299\n",
      "[200]\ttraining's auc: 0.795639\tvalid_1's auc: 0.772341\n",
      "[300]\ttraining's auc: 0.809383\tvalid_1's auc: 0.781315\n",
      "[400]\ttraining's auc: 0.820284\tvalid_1's auc: 0.786249\n",
      "[500]\ttraining's auc: 0.828909\tvalid_1's auc: 0.789488\n",
      "[600]\ttraining's auc: 0.836842\tvalid_1's auc: 0.791823\n",
      "[700]\ttraining's auc: 0.843875\tvalid_1's auc: 0.793254\n",
      "[800]\ttraining's auc: 0.850095\tvalid_1's auc: 0.794309\n",
      "[900]\ttraining's auc: 0.856016\tvalid_1's auc: 0.795016\n",
      "[1000]\ttraining's auc: 0.861512\tvalid_1's auc: 0.795637\n",
      "[1100]\ttraining's auc: 0.866682\tvalid_1's auc: 0.796175\n",
      "[1200]\ttraining's auc: 0.871505\tvalid_1's auc: 0.796634\n",
      "[1300]\ttraining's auc: 0.876102\tvalid_1's auc: 0.796904\n",
      "[1400]\ttraining's auc: 0.880586\tvalid_1's auc: 0.797128\n",
      "[1500]\ttraining's auc: 0.884767\tvalid_1's auc: 0.797416\n",
      "[1600]\ttraining's auc: 0.888863\tvalid_1's auc: 0.797545\n",
      "[1700]\ttraining's auc: 0.892939\tvalid_1's auc: 0.797551\n",
      "[1800]\ttraining's auc: 0.896805\tvalid_1's auc: 0.79766\n",
      "[1900]\ttraining's auc: 0.900528\tvalid_1's auc: 0.797785\n",
      "[2000]\ttraining's auc: 0.903942\tvalid_1's auc: 0.797701\n",
      "Early stopping, best iteration is:\n",
      "[1888]\ttraining's auc: 0.900026\tvalid_1's auc: 0.797815\n",
      "Fold  3 AUC : 0.797818\n",
      "Training until validation scores don't improve for 200 rounds.\n",
      "[100]\ttraining's auc: 0.777448\tvalid_1's auc: 0.759638\n",
      "[200]\ttraining's auc: 0.795452\tvalid_1's auc: 0.773283\n",
      "[300]\ttraining's auc: 0.809126\tvalid_1's auc: 0.781942\n",
      "[400]\ttraining's auc: 0.819858\tvalid_1's auc: 0.78667\n",
      "[500]\ttraining's auc: 0.828626\tvalid_1's auc: 0.789785\n",
      "[600]\ttraining's auc: 0.836436\tvalid_1's auc: 0.791746\n",
      "[700]\ttraining's auc: 0.84331\tvalid_1's auc: 0.793134\n",
      "[800]\ttraining's auc: 0.84953\tvalid_1's auc: 0.793722\n",
      "[900]\ttraining's auc: 0.855507\tvalid_1's auc: 0.794437\n",
      "[1000]\ttraining's auc: 0.861037\tvalid_1's auc: 0.794946\n",
      "[1100]\ttraining's auc: 0.866125\tvalid_1's auc: 0.795196\n",
      "[1200]\ttraining's auc: 0.871023\tvalid_1's auc: 0.795524\n",
      "[1300]\ttraining's auc: 0.875601\tvalid_1's auc: 0.795822\n",
      "[1400]\ttraining's auc: 0.88029\tvalid_1's auc: 0.795939\n",
      "[1500]\ttraining's auc: 0.884614\tvalid_1's auc: 0.796192\n",
      "[1600]\ttraining's auc: 0.88873\tvalid_1's auc: 0.796313\n",
      "[1700]\ttraining's auc: 0.892664\tvalid_1's auc: 0.796396\n",
      "[1800]\ttraining's auc: 0.89643\tvalid_1's auc: 0.796397\n",
      "[1900]\ttraining's auc: 0.900099\tvalid_1's auc: 0.796425\n",
      "Early stopping, best iteration is:\n",
      "[1729]\ttraining's auc: 0.893775\tvalid_1's auc: 0.796489\n",
      "Fold  4 AUC : 0.796485\n",
      "Training until validation scores don't improve for 200 rounds.\n",
      "[100]\ttraining's auc: 0.776777\tvalid_1's auc: 0.768021\n",
      "[200]\ttraining's auc: 0.794525\tvalid_1's auc: 0.780675\n",
      "[300]\ttraining's auc: 0.808097\tvalid_1's auc: 0.788956\n",
      "[400]\ttraining's auc: 0.818996\tvalid_1's auc: 0.793559\n",
      "[500]\ttraining's auc: 0.827769\tvalid_1's auc: 0.796438\n",
      "[600]\ttraining's auc: 0.835655\tvalid_1's auc: 0.798206\n",
      "[700]\ttraining's auc: 0.842649\tvalid_1's auc: 0.799677\n",
      "[800]\ttraining's auc: 0.848999\tvalid_1's auc: 0.80039\n",
      "[900]\ttraining's auc: 0.854824\tvalid_1's auc: 0.801011\n",
      "[1000]\ttraining's auc: 0.860192\tvalid_1's auc: 0.80142\n",
      "[1100]\ttraining's auc: 0.865223\tvalid_1's auc: 0.801764\n",
      "[1200]\ttraining's auc: 0.870128\tvalid_1's auc: 0.802024\n",
      "[1300]\ttraining's auc: 0.874897\tvalid_1's auc: 0.802236\n",
      "[1400]\ttraining's auc: 0.879395\tvalid_1's auc: 0.802311\n",
      "[1500]\ttraining's auc: 0.883667\tvalid_1's auc: 0.802621\n",
      "[1600]\ttraining's auc: 0.887589\tvalid_1's auc: 0.802629\n",
      "[1700]\ttraining's auc: 0.891728\tvalid_1's auc: 0.802707\n",
      "[1800]\ttraining's auc: 0.895622\tvalid_1's auc: 0.802613\n",
      "[1900]\ttraining's auc: 0.89934\tvalid_1's auc: 0.802498\n",
      "Early stopping, best iteration is:\n",
      "[1711]\ttraining's auc: 0.892146\tvalid_1's auc: 0.802742\n",
      "Fold  5 AUC : 0.802737\n",
      "Full AUC score 0.797887\n",
      "length of small and large 450 59\n"
     ]
    }
   ],
   "source": [
    "modified_large,_,_ =  model_1(train_large, test_large, test_ori, threshold1, threshold2, n_splits)"
   ]
  },
  {
   "cell_type": "code",
   "execution_count": 53,
   "metadata": {
    "ExecuteTime": {
     "end_time": "2018-06-26T20:13:10.332801Z",
     "start_time": "2018-06-26T20:13:09.708684Z"
    }
   },
   "outputs": [
    {
     "name": "stdout",
     "output_type": "stream",
     "text": [
      "begin concat predictions\n",
      "(48744, 2)\n"
     ]
    }
   ],
   "source": [
    "pred_large = concat_pred(cut_large,modified_large)\n",
    "pred_large.to_csv(PATH+'06_26_large.csv', index = False)\n",
    "# modified_large.to_csv(PATH +'06_25_large2.csv',index = False)"
   ]
  },
  {
   "cell_type": "code",
   "execution_count": 11,
   "metadata": {
    "ExecuteTime": {
     "end_time": "2018-06-22T20:35:24.701601Z",
     "start_time": "2018-06-22T20:35:24.687927Z"
    }
   },
   "outputs": [],
   "source": [
    "blend_sub = pd.DataFrame()\n",
    "blend_sub['SK_ID_CURR'] = pred_small['SK_ID_CURR']\n",
    "blend_sub['TARGET'] = (pred_small['TARGET']+pred_large['TARGET'])/2"
   ]
  },
  {
   "cell_type": "code",
   "execution_count": 17,
   "metadata": {
    "ExecuteTime": {
     "end_time": "2018-06-22T20:36:37.294631Z",
     "start_time": "2018-06-22T20:36:37.280368Z"
    },
    "scrolled": true
   },
   "outputs": [
    {
     "name": "stdout",
     "output_type": "stream",
     "text": [
      "   SK_ID_CURR    TARGET\n",
      "0      100001  0.036878\n",
      "247\n",
      "357\n",
      "   SK_ID_CURR    TARGET\n",
      "0      100001  0.036896\n",
      "213\n",
      "382\n",
      "   SK_ID_CURR   TARGET\n",
      "0      100001  0.03686\n",
      "297\n",
      "337\n",
      "   SK_ID_CURR    TARGET\n",
      "0      100001  0.036144\n",
      "222\n",
      "362\n"
     ]
    }
   ],
   "source": [
    "for i in [blend_sub, pred_small, pred_large,pred1]:\n",
    "    print(i.head(1))\n",
    "    print((i['TARGET']>0.5).sum())\n",
    "    print((i['TARGET']<0.005).sum())"
   ]
  },
  {
   "cell_type": "code",
   "execution_count": 20,
   "metadata": {
    "ExecuteTime": {
     "end_time": "2018-06-22T20:40:02.332006Z",
     "start_time": "2018-06-22T20:40:02.215243Z"
    }
   },
   "outputs": [],
   "source": [
    "blend_sub.to_csv(PATH+ 'submission/0622_blend_2.csv', index = False)"
   ]
  },
  {
   "cell_type": "code",
   "execution_count": 21,
   "metadata": {
    "ExecuteTime": {
     "end_time": "2018-06-22T20:42:20.498380Z",
     "start_time": "2018-06-22T20:42:20.345284Z"
    }
   },
   "outputs": [],
   "source": [
    "pred_large.to_csv(PATH+ 'submission/0622_blend_3.csv', index = False)"
   ]
  },
  {
   "cell_type": "code",
   "execution_count": null,
   "metadata": {},
   "outputs": [],
   "source": []
  }
 ],
 "metadata": {
  "kernelspec": {
   "display_name": "Python 3",
   "language": "python",
   "name": "python3"
  },
  "language_info": {
   "codemirror_mode": {
    "name": "ipython",
    "version": 3
   },
   "file_extension": ".py",
   "mimetype": "text/x-python",
   "name": "python",
   "nbconvert_exporter": "python",
   "pygments_lexer": "ipython3",
   "version": "3.6.5"
  },
  "varInspector": {
   "cols": {
    "lenName": 16,
    "lenType": 16,
    "lenVar": 40
   },
   "kernels_config": {
    "python": {
     "delete_cmd_postfix": "",
     "delete_cmd_prefix": "del ",
     "library": "var_list.py",
     "varRefreshCmd": "print(var_dic_list())"
    },
    "r": {
     "delete_cmd_postfix": ") ",
     "delete_cmd_prefix": "rm(",
     "library": "var_list.r",
     "varRefreshCmd": "cat(var_dic_list()) "
    }
   },
   "types_to_exclude": [
    "module",
    "function",
    "builtin_function_or_method",
    "instance",
    "_Feature"
   ],
   "window_display": false
  }
 },
 "nbformat": 4,
 "nbformat_minor": 2
}
