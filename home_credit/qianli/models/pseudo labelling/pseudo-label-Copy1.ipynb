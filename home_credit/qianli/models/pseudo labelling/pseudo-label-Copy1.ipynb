{
 "cells": [
  {
   "cell_type": "code",
   "execution_count": 1,
   "metadata": {
    "ExecuteTime": {
     "end_time": "2018-06-28T19:09:05.964159Z",
     "start_time": "2018-06-28T19:09:05.070100Z"
    }
   },
   "outputs": [],
   "source": [
    "import os\n",
    "import numpy as np\n",
    "import pandas as pd\n",
    "import gc\n",
    "import time\n",
    "from contextlib import contextmanager\n",
    "from lightgbm import LGBMClassifier\n",
    "from sklearn.metrics import roc_auc_score, roc_curve\n",
    "from sklearn.model_selection import KFold, StratifiedKFold\n",
    "import matplotlib.pyplot as plt\n",
    "import seaborn as sns\n",
    "import warnings\n",
    "warnings.simplefilter(action='ignore', category=FutureWarning)\n",
    "PATH = '/home/kai/data/kaggle/homecredit/'\n"
   ]
  },
  {
   "cell_type": "code",
   "execution_count": 2,
   "metadata": {
    "ExecuteTime": {
     "end_time": "2018-06-28T19:09:16.556885Z",
     "start_time": "2018-06-28T19:09:05.980303Z"
    },
    "scrolled": false
   },
   "outputs": [
    {
     "name": "stdout",
     "output_type": "stream",
     "text": [
      "(307511, 1894) (48744, 1893) (356255, 64)\n"
     ]
    }
   ],
   "source": [
    "# Read train and test\n",
    "train = pd.read_pickle(PATH + 'train_factorized_std_with_linear.pkl')\n",
    "test = pd.read_pickle(PATH + 'test_factorized_std_with_linear.pkl')\n",
    "\n",
    "df = pd.read_pickle(PATH + 'inter/bureau_sup.pkl')\n",
    "test = test.merge(df, on = 'SK_ID_CURR', how = 'left')\n",
    "print(train.shape, test.shape, df.shape)\n",
    "\n"
   ]
  },
  {
   "cell_type": "code",
   "execution_count": 3,
   "metadata": {
    "ExecuteTime": {
     "end_time": "2018-06-28T19:09:22.540601Z",
     "start_time": "2018-06-28T19:09:17.128592Z"
    }
   },
   "outputs": [],
   "source": [
    "train = train.merge(df, on = 'SK_ID_CURR', how = 'left')\n",
    "test = test.merge(df, on = 'SK_ID_CURR', how = 'left')"
   ]
  },
  {
   "cell_type": "code",
   "execution_count": 4,
   "metadata": {
    "ExecuteTime": {
     "end_time": "2018-06-28T19:09:23.277063Z",
     "start_time": "2018-06-28T19:09:23.268707Z"
    }
   },
   "outputs": [
    {
     "data": {
      "text/plain": [
       "((307511, 1957), (48744, 1956))"
      ]
     },
     "execution_count": 4,
     "metadata": {},
     "output_type": "execute_result"
    }
   ],
   "source": [
    "train.shape, test.shape"
   ]
  },
  {
   "cell_type": "markdown",
   "metadata": {},
   "source": [
    "# Cut large piece and get new train&test, and large_pred piece"
   ]
  },
  {
   "cell_type": "code",
   "execution_count": 5,
   "metadata": {
    "ExecuteTime": {
     "end_time": "2018-06-28T19:09:24.007201Z",
     "start_time": "2018-06-28T19:09:23.994555Z"
    }
   },
   "outputs": [],
   "source": [
    "def large_new(df1, df2, prediction, threshold):\n",
    "    print('begin cut large')\n",
    "    pred = prediction.copy()\n",
    "    train_df, test_df = df1.copy(), df2.copy()\n",
    "    print('old shapes,' ,test_df.shape,train_df.shape)\n",
    "    half_pred = pred[pred['TARGET'] > threshold]\n",
    "    index_half = half_pred.index\n",
    "    print('length of half',len(half_pred))\n",
    "    test_half = test_df.iloc[index_half]\n",
    "    test_half['TARGET'] = 1\n",
    "\n",
    "    # drop index_half for test_df, add train\n",
    "    test_df.drop(index_half, inplace = True)\n",
    "    train_df = pd.concat([train_df,test_half])\n",
    "    print('new shapes,',test_df.shape,train_df.shape)\n",
    "    return train_df, test_df, half_pred"
   ]
  },
  {
   "cell_type": "markdown",
   "metadata": {},
   "source": [
    "# Cut small piece and get new train& test, and small_pred piece"
   ]
  },
  {
   "cell_type": "code",
   "execution_count": 6,
   "metadata": {
    "ExecuteTime": {
     "end_time": "2018-06-28T19:09:24.524531Z",
     "start_time": "2018-06-28T19:09:24.513755Z"
    }
   },
   "outputs": [],
   "source": [
    "def small_new(df1, df2, prediction, threshold):\n",
    "    print('begin cut small')\n",
    "    pred = prediction.copy()\n",
    "    train_df, test_df = df1.copy(), df2.copy()\n",
    "    print('old shapes,',test_df.shape,train_df.shape)\n",
    "    small_pred = pred[pred['TARGET'] < threshold]\n",
    "    index_small = small_pred.index\n",
    "    print('length of small',len(small_pred))\n",
    "    test_small = test_df.iloc[index_small]\n",
    "    test_small['TARGET'] = 0\n",
    "\n",
    "    # drop index_small for test_df, add train\n",
    "    test_df.drop(index_small, inplace = True)\n",
    "    train_df = pd.concat([train_df,test_small])\n",
    "    print('new shapes,',test_df.shape,train_df.shape)\n",
    "    return train_df, test_df, small_pred"
   ]
  },
  {
   "cell_type": "markdown",
   "metadata": {},
   "source": [
    "# Models"
   ]
  },
  {
   "cell_type": "code",
   "execution_count": 7,
   "metadata": {
    "ExecuteTime": {
     "end_time": "2018-06-28T19:09:33.142195Z",
     "start_time": "2018-06-28T19:09:33.122218Z"
    }
   },
   "outputs": [],
   "source": [
    "def model_1(train_df, test_df, threshold1, threshold2, n_splits=5):\n",
    "    print('begin blended lightgbm')\n",
    "    # Cross validation model\n",
    "    stratified = False\n",
    "\n",
    "    if stratified:\n",
    "        folds = StratifiedKFold(n_splits, shuffle=True, random_state=1001)\n",
    "    else:\n",
    "        folds = KFold(n_splits, shuffle=True, random_state=1001)\n",
    "    # Create arrays and dataframes to store results\n",
    "    oof_preds = np.zeros(train_df.shape[0])\n",
    "    sub_preds = np.zeros(test_df.shape[0])\n",
    "    feature_importance_df = pd.DataFrame()\n",
    "    feats = [f for f in train_df.columns if f not in ['TARGET','SK_ID_CURR','SK_ID_BUREAU','SK_ID_PREV','index']]\n",
    "\n",
    "    for n_fold, (train_idx, valid_idx) in enumerate(folds.split(train_df[feats], train_df['TARGET'])):\n",
    "        train_x, train_y = train_df[feats].iloc[train_idx], train_df['TARGET'].iloc[train_idx]\n",
    "        valid_x, valid_y = train_df[feats].iloc[valid_idx], train_df['TARGET'].iloc[valid_idx]\n",
    "\n",
    "        \n",
    "#         lgbm_params = {\n",
    "#         'task': 'train',\n",
    "#         'boosting_type': 'gbdt',\n",
    "#         'objective': 'binary',\n",
    "#         'metric': 'auc',\n",
    "#         'learning_rate': 0.05,\n",
    "#         'num_iteration': 4000,\n",
    "#         'num_threads': 16,\n",
    "        \n",
    "#         'num_leaves': int(round(44.368535336628419)),\n",
    "#         'feature_fraction': 0.28231763168020257,\n",
    "#         'bagging_fraction': 0.94901525271474951,\n",
    "#         'max_depth': int(round(8.0430115561596267)),\n",
    "#         'lambda_l1': 0.30680079516647751,\n",
    "#         'lambda_l2': 0.079128660903201031,\n",
    "#         'min_split_gain': 0.054005067457890979,\n",
    "#         'min_child_weight': 98.172643147364937\n",
    "#     }\n",
    "\n",
    "        # LightGBM parameters found by Bayesian optimization\n",
    "        clf = LGBMClassifier(\n",
    "        nthread=16,\n",
    "        n_estimators=10000,\n",
    "        learning_rate=0.02,\n",
    "        num_leaves=34,\n",
    "        colsample_bytree=0.9497036,\n",
    "        subsample=0.8715623,\n",
    "        max_depth=8,\n",
    "        reg_alpha=0.041545473,\n",
    "        reg_lambda=0.0735294,\n",
    "        min_split_gain=0.0222415,\n",
    "        min_child_weight=39.3259775,\n",
    "        silent=-1,\n",
    "        verbose=-1, )\n",
    "\n",
    "        clf.fit(train_x, train_y, eval_set=[(train_x, train_y), (valid_x, valid_y)], \n",
    "            eval_metric= 'auc', verbose= 100, early_stopping_rounds= 200)\n",
    "\n",
    "        oof_preds[valid_idx] = clf.predict_proba(valid_x, num_iteration=clf.best_iteration_)[:, 1]\n",
    "        sub_preds += clf.predict_proba(test_df[feats], num_iteration=clf.best_iteration_)[:, 1] / folds.n_splits\n",
    "\n",
    "    #     fold_importance_df = pd.DataFrame()\n",
    "    #     fold_importance_df[\"feature\"] = feats\n",
    "    # #     fold_importance_df[\"importance\"] = clf.feature_importances_\n",
    "    #     fold_importance_df[\"fold\"] = n_fold + 1\n",
    "    #     feature_importance_df = pd.concat([feature_importance_df, fold_importance_df], axis=0)\n",
    "        print('Fold %2d AUC : %.6f' % (n_fold + 1, roc_auc_score(valid_y, oof_preds[valid_idx])))\n",
    "        del clf, train_x, train_y, valid_x, valid_y\n",
    "        gc.collect()\n",
    "    print('Full AUC score %.6f' % roc_auc_score(train_df['TARGET'], oof_preds))\n",
    "    \n",
    "    test_df['TARGET'] = sub_preds\n",
    "    pred =test_df[['SK_ID_CURR', 'TARGET']]\n",
    "    len_small = len(pred[pred['TARGET']< threshold1])\n",
    "    len_large = len(pred[pred['TARGET']> threshold2])\n",
    "    print('length of small and large', len_small, len_large)\n",
    "    return pred, len_small, len_large\n",
    "\n",
    "def model_2(train_df, test_df,threshold1, threshold2, n_splits=5):\n",
    "    print('begin cv')\n",
    "    target = train_df['TARGET']\n",
    "    ignore_cols = ['ORGANIZATION_TYPE', 'TARGET', 'SK_ID_CURR']\n",
    "    features = [x for x in train_df.columns if x not in ignore_cols]\n",
    "    train = train_df[features]\n",
    "    test = test_df[features]\n",
    "\n",
    "    from sklearn.model_selection import StratifiedKFold\n",
    "    from lightgbm import LGBMClassifier\n",
    "    from sklearn.metrics import roc_auc_score\n",
    "    import lightgbm as lgbm\n",
    "\n",
    "    lgbm_train = lgbm.Dataset(data=train,\n",
    "                              label=target,\n",
    "\n",
    "                              categorical_feature=[],#categorical_feats,\n",
    "                              free_raw_data=False)\n",
    "\n",
    "    lgbm_params = {'task': 'train', 'boosting_type': 'gbdt', 'objective': 'binary', 'metric': 'auc', \n",
    "              'learning_rate': 0.01, 'num_leaves': 48, 'num_iteration': 4000, 'verbose': 0 ,\n",
    "              'colsample_bytree':.8, 'subsample':.9, 'max_depth':7, 'reg_alpha':.1, 'reg_lambda':.1, \n",
    "              'min_split_gain':.01, 'min_child_weight':1,'num_threads': 12,'feature_fraction': 0.2,\n",
    "                  'scale_pos_weight':1}\n",
    "#     lgbm_params = {\n",
    "#         'task': 'train',\n",
    "#         'boosting_type': 'gbdt',\n",
    "#         'objective': 'binary',\n",
    "#         'metric': 'auc',\n",
    "#         'learning_rate': 0.05,\n",
    "#         'num_iteration': 4000,\n",
    "#         'num_threads': 4,\n",
    "        \n",
    "#         'num_leaves': int(round(44.368535336628419)),\n",
    "#         'feature_fraction': 0.28231763168020257,\n",
    "#         'bagging_fraction': 0.94901525271474951,\n",
    "#         'max_depth': int(round(8.0430115561596267)),\n",
    "#         'lambda_l1': 0.30680079516647751,\n",
    "#         'lambda_l2': 0.079128660903201031,\n",
    "#         'min_split_gain': 0.054005067457890979,\n",
    "#         'min_child_weight': 98.172643147364937}\n",
    "\n",
    "\n",
    "    cv_results = lgbm.cv(train_set=lgbm_train,\n",
    "                         params=lgbm_params,\n",
    "                         nfold=n_splits,\n",
    "                         early_stopping_rounds=150,\n",
    "                         verbose_eval=100,\n",
    "                         metrics=['auc'])\n",
    "\n",
    "    optimum_boost_rounds = np.argmax(cv_results['auc-mean'])\n",
    "    print('Optimum boost rounds = {}'.format(optimum_boost_rounds))\n",
    "    print('Best CV result = {}'.format(np.max(cv_results['auc-mean'])))\n",
    "\n",
    "    clf = lgbm.train(train_set=lgbm_train,\n",
    "                     params=lgbm_params,\n",
    "                     num_boost_round=optimum_boost_rounds,\n",
    "                    verbose_eval=100)\n",
    "\n",
    "    \"\"\" Predict on test set and create submission \"\"\"\n",
    "    y_pred = clf.predict(test_df)\n",
    "    out_df = pd.DataFrame({'SK_ID_CURR': test_df['SK_ID_CURR'], 'TARGET': y_pred})\n",
    "    small_len = out_df[out_df['TARGET']< threshold1]\n",
    "    large_len = out_df[out_df['TARGET']> threshold2]\n",
    "    print('length of small and large,',len(small_len),len(large_len))\n",
    "    return out_df, small_len, large_len"
   ]
  },
  {
   "cell_type": "markdown",
   "metadata": {
    "collapsed": true
   },
   "source": [
    "# Concate back to a submission"
   ]
  },
  {
   "cell_type": "code",
   "execution_count": 8,
   "metadata": {
    "ExecuteTime": {
     "end_time": "2018-06-28T19:09:34.558909Z",
     "start_time": "2018-06-28T19:09:34.554780Z"
    }
   },
   "outputs": [],
   "source": [
    "# col = 'SK_ID_CURR'\n",
    "def concat_pred(cutout_pred, modified_pred):\n",
    "    print('begin concat predictions')\n",
    "    test_concat = pd.concat([modified_pred, cutout_pred], axis = 0)\n",
    "    print(test_concat.shape)\n",
    "    test = pd.read_csv(PATH + 'application_test.csv')\n",
    "    test = test[['SK_ID_CURR']]\n",
    "    pred = test.merge(test_concat, how = 'left', on = 'SK_ID_CURR')\n",
    "    return pred\n"
   ]
  },
  {
   "cell_type": "markdown",
   "metadata": {},
   "source": [
    "# Run"
   ]
  },
  {
   "cell_type": "code",
   "execution_count": 9,
   "metadata": {
    "ExecuteTime": {
     "end_time": "2018-06-28T20:46:14.007192Z",
     "start_time": "2018-06-28T19:09:38.719139Z"
    },
    "scrolled": true
   },
   "outputs": [
    {
     "name": "stdout",
     "output_type": "stream",
     "text": [
      "begin blended lightgbm\n",
      "Training until validation scores don't improve for 200 rounds.\n",
      "[100]\ttraining's auc: 0.761129\tvalid_1's auc: 0.752707\n",
      "[200]\ttraining's auc: 0.789888\tvalid_1's auc: 0.772954\n",
      "[300]\ttraining's auc: 0.80932\tvalid_1's auc: 0.784641\n",
      "[400]\ttraining's auc: 0.822469\tvalid_1's auc: 0.790234\n",
      "[500]\ttraining's auc: 0.832577\tvalid_1's auc: 0.793223\n",
      "[600]\ttraining's auc: 0.841489\tvalid_1's auc: 0.795131\n",
      "[700]\ttraining's auc: 0.849295\tvalid_1's auc: 0.796201\n",
      "[800]\ttraining's auc: 0.856343\tvalid_1's auc: 0.79708\n",
      "[900]\ttraining's auc: 0.863236\tvalid_1's auc: 0.797633\n",
      "[1000]\ttraining's auc: 0.869189\tvalid_1's auc: 0.797886\n",
      "[1100]\ttraining's auc: 0.87456\tvalid_1's auc: 0.798132\n",
      "[1200]\ttraining's auc: 0.880291\tvalid_1's auc: 0.798406\n",
      "[1300]\ttraining's auc: 0.885547\tvalid_1's auc: 0.798594\n",
      "[1400]\ttraining's auc: 0.890526\tvalid_1's auc: 0.798776\n",
      "[1500]\ttraining's auc: 0.895478\tvalid_1's auc: 0.798794\n",
      "[1600]\ttraining's auc: 0.900046\tvalid_1's auc: 0.798831\n",
      "[1700]\ttraining's auc: 0.904363\tvalid_1's auc: 0.798907\n",
      "[1800]\ttraining's auc: 0.908667\tvalid_1's auc: 0.798764\n",
      "Early stopping, best iteration is:\n",
      "[1698]\ttraining's auc: 0.904252\tvalid_1's auc: 0.79892\n",
      "Fold  1 AUC : 0.798926\n",
      "Training until validation scores don't improve for 200 rounds.\n",
      "[100]\ttraining's auc: 0.762877\tvalid_1's auc: 0.750147\n",
      "[200]\ttraining's auc: 0.789912\tvalid_1's auc: 0.771632\n",
      "[300]\ttraining's auc: 0.809364\tvalid_1's auc: 0.784318\n",
      "[400]\ttraining's auc: 0.822378\tvalid_1's auc: 0.79003\n",
      "[500]\ttraining's auc: 0.832848\tvalid_1's auc: 0.793043\n",
      "[600]\ttraining's auc: 0.841844\tvalid_1's auc: 0.794992\n",
      "[700]\ttraining's auc: 0.849772\tvalid_1's auc: 0.796388\n",
      "[800]\ttraining's auc: 0.856801\tvalid_1's auc: 0.797343\n",
      "[900]\ttraining's auc: 0.863566\tvalid_1's auc: 0.797879\n",
      "[1000]\ttraining's auc: 0.869729\tvalid_1's auc: 0.798233\n",
      "[1100]\ttraining's auc: 0.87527\tvalid_1's auc: 0.798579\n",
      "[1200]\ttraining's auc: 0.880608\tvalid_1's auc: 0.798821\n",
      "[1300]\ttraining's auc: 0.885743\tvalid_1's auc: 0.799111\n",
      "[1400]\ttraining's auc: 0.890521\tvalid_1's auc: 0.79918\n",
      "[1500]\ttraining's auc: 0.895121\tvalid_1's auc: 0.799153\n",
      "[1600]\ttraining's auc: 0.899644\tvalid_1's auc: 0.799041\n",
      "Early stopping, best iteration is:\n",
      "[1487]\ttraining's auc: 0.894524\tvalid_1's auc: 0.799208\n",
      "Fold  2 AUC : 0.799219\n",
      "Training until validation scores don't improve for 200 rounds.\n",
      "[100]\ttraining's auc: 0.762108\tvalid_1's auc: 0.742122\n",
      "[200]\ttraining's auc: 0.791397\tvalid_1's auc: 0.764533\n",
      "[300]\ttraining's auc: 0.810629\tvalid_1's auc: 0.775919\n",
      "[400]\ttraining's auc: 0.823552\tvalid_1's auc: 0.781191\n",
      "[500]\ttraining's auc: 0.833978\tvalid_1's auc: 0.784566\n",
      "[600]\ttraining's auc: 0.842656\tvalid_1's auc: 0.786416\n",
      "[700]\ttraining's auc: 0.850589\tvalid_1's auc: 0.787735\n",
      "[800]\ttraining's auc: 0.857776\tvalid_1's auc: 0.788667\n",
      "[900]\ttraining's auc: 0.864328\tvalid_1's auc: 0.78939\n",
      "[1000]\ttraining's auc: 0.870371\tvalid_1's auc: 0.789981\n",
      "[1100]\ttraining's auc: 0.876143\tvalid_1's auc: 0.790173\n",
      "[1200]\ttraining's auc: 0.881521\tvalid_1's auc: 0.790338\n",
      "[1300]\ttraining's auc: 0.886768\tvalid_1's auc: 0.790408\n",
      "[1400]\ttraining's auc: 0.891218\tvalid_1's auc: 0.790473\n",
      "[1500]\ttraining's auc: 0.895965\tvalid_1's auc: 0.790288\n",
      "[1600]\ttraining's auc: 0.900505\tvalid_1's auc: 0.790346\n",
      "Early stopping, best iteration is:\n",
      "[1408]\ttraining's auc: 0.891618\tvalid_1's auc: 0.790491\n",
      "Fold  3 AUC : 0.790481\n",
      "Training until validation scores don't improve for 200 rounds.\n",
      "[100]\ttraining's auc: 0.762384\tvalid_1's auc: 0.748723\n",
      "[200]\ttraining's auc: 0.79113\tvalid_1's auc: 0.768277\n",
      "[300]\ttraining's auc: 0.8106\tvalid_1's auc: 0.779307\n",
      "[400]\ttraining's auc: 0.823682\tvalid_1's auc: 0.785208\n",
      "[500]\ttraining's auc: 0.833907\tvalid_1's auc: 0.788487\n",
      "[600]\ttraining's auc: 0.842835\tvalid_1's auc: 0.790701\n",
      "[700]\ttraining's auc: 0.850676\tvalid_1's auc: 0.791808\n",
      "[800]\ttraining's auc: 0.857802\tvalid_1's auc: 0.792704\n",
      "[900]\ttraining's auc: 0.864219\tvalid_1's auc: 0.793364\n",
      "[1000]\ttraining's auc: 0.870044\tvalid_1's auc: 0.793911\n",
      "[1100]\ttraining's auc: 0.875816\tvalid_1's auc: 0.79425\n",
      "[1200]\ttraining's auc: 0.881348\tvalid_1's auc: 0.794677\n",
      "[1300]\ttraining's auc: 0.886701\tvalid_1's auc: 0.795016\n",
      "[1400]\ttraining's auc: 0.891362\tvalid_1's auc: 0.795387\n",
      "[1500]\ttraining's auc: 0.896116\tvalid_1's auc: 0.795504\n",
      "[1600]\ttraining's auc: 0.900635\tvalid_1's auc: 0.79567\n",
      "[1700]\ttraining's auc: 0.905036\tvalid_1's auc: 0.79563\n",
      "[1800]\ttraining's auc: 0.909199\tvalid_1's auc: 0.79553\n",
      "Early stopping, best iteration is:\n",
      "[1621]\ttraining's auc: 0.901482\tvalid_1's auc: 0.795771\n",
      "Fold  4 AUC : 0.795781\n",
      "Training until validation scores don't improve for 200 rounds.\n",
      "[100]\ttraining's auc: 0.760798\tvalid_1's auc: 0.750349\n",
      "[200]\ttraining's auc: 0.789883\tvalid_1's auc: 0.771533\n",
      "[300]\ttraining's auc: 0.809561\tvalid_1's auc: 0.782651\n",
      "[400]\ttraining's auc: 0.822743\tvalid_1's auc: 0.787754\n",
      "[500]\ttraining's auc: 0.833154\tvalid_1's auc: 0.790587\n",
      "[600]\ttraining's auc: 0.842374\tvalid_1's auc: 0.79236\n",
      "[700]\ttraining's auc: 0.850056\tvalid_1's auc: 0.793265\n",
      "[800]\ttraining's auc: 0.857141\tvalid_1's auc: 0.794104\n",
      "[900]\ttraining's auc: 0.863469\tvalid_1's auc: 0.794488\n",
      "[1000]\ttraining's auc: 0.869667\tvalid_1's auc: 0.794818\n",
      "[1100]\ttraining's auc: 0.875089\tvalid_1's auc: 0.795003\n",
      "[1200]\ttraining's auc: 0.880628\tvalid_1's auc: 0.795047\n",
      "[1300]\ttraining's auc: 0.885879\tvalid_1's auc: 0.7951\n",
      "[1400]\ttraining's auc: 0.890954\tvalid_1's auc: 0.795147\n",
      "[1500]\ttraining's auc: 0.89593\tvalid_1's auc: 0.795316\n",
      "[1600]\ttraining's auc: 0.900314\tvalid_1's auc: 0.795176\n",
      "Early stopping, best iteration is:\n",
      "[1495]\ttraining's auc: 0.895645\tvalid_1's auc: 0.795359\n",
      "Fold  5 AUC : 0.795368\n",
      "Full AUC score 0.795956\n",
      "length of small and large 323 224\n",
      "begin cutting\n",
      "begin cut small\n",
      "old shapes, (48744, 1957) (307511, 1957)\n",
      "length of small 323\n"
     ]
    },
    {
     "name": "stderr",
     "output_type": "stream",
     "text": [
      "/home/kai/anaconda3/lib/python3.6/site-packages/ipykernel_launcher.py:10: SettingWithCopyWarning: \n",
      "A value is trying to be set on a copy of a slice from a DataFrame.\n",
      "Try using .loc[row_indexer,col_indexer] = value instead\n",
      "\n",
      "See the caveats in the documentation: http://pandas.pydata.org/pandas-docs/stable/indexing.html#indexing-view-versus-copy\n",
      "  # Remove the CWD from sys.path while we load stuff.\n"
     ]
    },
    {
     "name": "stdout",
     "output_type": "stream",
     "text": [
      "new shapes, (48421, 1957) (307834, 1957)\n"
     ]
    }
   ],
   "source": [
    "threshold1, threshold2 = 0.005, 0.5\n",
    "n_splits = 5\n",
    "\n",
    "pred1, small, large = model_1(train, test, threshold1, threshold2,n_splits)\n",
    "\n",
    "print('begin cutting')\n",
    "train_small, test_small, cut_small = small_new(train, test, pred1, threshold1)"
   ]
  },
  {
   "cell_type": "code",
   "execution_count": null,
   "metadata": {},
   "outputs": [],
   "source": [
    "# stratified = False, seed = 1001, original paras"
   ]
  },
  {
   "cell_type": "code",
   "execution_count": 11,
   "metadata": {
    "ExecuteTime": {
     "end_time": "2018-06-28T20:49:09.153745Z",
     "start_time": "2018-06-28T20:49:09.108839Z"
    }
   },
   "outputs": [],
   "source": [
    "pred_bay = pd.read_csv(PATH+'/submission/06_28_pred1.csv')\n",
    "x = pred_bay - pred1"
   ]
  },
  {
   "cell_type": "code",
   "execution_count": 13,
   "metadata": {
    "ExecuteTime": {
     "end_time": "2018-06-28T20:49:27.497115Z",
     "start_time": "2018-06-28T20:49:27.475455Z"
    }
   },
   "outputs": [
    {
     "data": {
      "text/plain": [
       "SK_ID_CURR    0.000000\n",
       "TARGET        0.007141\n",
       "dtype: float64"
      ]
     },
     "execution_count": 13,
     "metadata": {},
     "output_type": "execute_result"
    }
   ],
   "source": [
    "abs(x).sum()/len(pred1)"
   ]
  },
  {
   "cell_type": "code",
   "execution_count": 48,
   "metadata": {
    "ExecuteTime": {
     "end_time": "2018-06-26T19:05:45.719569Z",
     "start_time": "2018-06-26T19:05:45.713981Z"
    }
   },
   "outputs": [],
   "source": [
    "x = pred1[pred1['TARGET']>0.5]"
   ]
  },
  {
   "cell_type": "code",
   "execution_count": 14,
   "metadata": {
    "ExecuteTime": {
     "end_time": "2018-06-28T20:49:58.234082Z",
     "start_time": "2018-06-28T20:49:58.054518Z"
    }
   },
   "outputs": [],
   "source": [
    "pred1.to_csv(PATH+'/submission/06_28_pred2.csv', index = False)"
   ]
  },
  {
   "cell_type": "markdown",
   "metadata": {
    "heading_collapsed": true
   },
   "source": [
    "# Percentage"
   ]
  },
  {
   "cell_type": "code",
   "execution_count": 18,
   "metadata": {
    "ExecuteTime": {
     "end_time": "2018-06-26T00:31:12.003382Z",
     "start_time": "2018-06-26T00:31:11.956533Z"
    },
    "hidden": true
   },
   "outputs": [
    {
     "name": "stdout",
     "output_type": "stream",
     "text": [
      "threshold, 0.0\n",
      "1.0\n",
      "threshold, 0.03333333333333333\n",
      "0.5699368127359264\n",
      "threshold, 0.06666666666666667\n",
      "0.3252297718693583\n",
      "threshold, 0.1\n",
      "0.20933858526177584\n",
      "threshold, 0.13333333333333333\n",
      "0.14284835056622358\n",
      "threshold, 0.16666666666666666\n",
      "0.10046364680781228\n",
      "threshold, 0.2\n",
      "0.07323978335795178\n",
      "threshold, 0.23333333333333334\n",
      "0.05299113737075334\n",
      "threshold, 0.26666666666666666\n",
      "0.04027162317413424\n",
      "threshold, 0.3\n",
      "0.02997291974396854\n",
      "threshold, 0.3333333333333333\n",
      "0.022095027080256013\n",
      "threshold, 0.36666666666666664\n",
      "0.016802067946824262\n",
      "threshold, 0.4\n",
      "0.012350237978007494\n",
      "threshold, 0.43333333333333335\n",
      "0.00878056786476289\n",
      "threshold, 0.4666666666666667\n",
      "0.0062161496799606475\n",
      "threshold, 0.5\n",
      "0.0045749220416871905\n",
      "threshold, 0.5333333333333333\n",
      "0.0032619399310684916\n",
      "threshold, 0.5666666666666667\n",
      "0.0023182340390611733\n",
      "threshold, 0.6\n",
      "0.001374528147053966\n",
      "threshold, 0.6333333333333333\n",
      "0.000984736582964052\n",
      "threshold, 0.6666666666666666\n",
      "0.0006770064007878274\n",
      "threshold, 0.7\n",
      "0.00036927621861149174\n",
      "threshold, 0.7333333333333333\n",
      "0.000164122763827379\n",
      "threshold, 0.7666666666666667\n",
      "2.0515345478422375e-05\n",
      "threshold, 0.8\n",
      "0.0\n",
      "threshold, 0.8333333333333334\n",
      "0.0\n",
      "threshold, 0.8666666666666667\n",
      "0.0\n",
      "threshold, 0.9\n",
      "0.0\n",
      "threshold, 0.9333333333333333\n",
      "0.0\n",
      "threshold, 0.9666666666666667\n",
      "0.0\n",
      "threshold, 1.0\n",
      "0.0\n"
     ]
    }
   ],
   "source": [
    "k = 30\n",
    "for i in range(k+1):\n",
    "    tmp = i/k\n",
    "    print('threshold,', tmp)\n",
    "    print(1-(pred1['TARGET']<= tmp).sum()/len(pred1))\n",
    "    "
   ]
  },
  {
   "cell_type": "code",
   "execution_count": 20,
   "metadata": {
    "ExecuteTime": {
     "end_time": "2018-06-26T00:50:48.730698Z",
     "start_time": "2018-06-26T00:50:48.595731Z"
    },
    "hidden": true
   },
   "outputs": [],
   "source": [
    "pred1[pred1['TARGET']>1/2]['TARGET'].max()\n",
    "pred1.to_csv(PATH+'submission/06_25_2.csv', index = False)"
   ]
  },
  {
   "cell_type": "markdown",
   "metadata": {},
   "source": [
    "# Train new with small"
   ]
  },
  {
   "cell_type": "code",
   "execution_count": 51,
   "metadata": {
    "ExecuteTime": {
     "end_time": "2018-06-26T19:11:45.858343Z",
     "start_time": "2018-06-26T19:08:59.119273Z"
    },
    "collapsed": true
   },
   "outputs": [
    {
     "name": "stdout",
     "output_type": "stream",
     "text": [
      "start modified_small\n",
      "begin cv\n"
     ]
    },
    {
     "name": "stderr",
     "output_type": "stream",
     "text": [
      "/home/kai/anaconda3/lib/python3.6/site-packages/lightgbm/engine.py:390: UserWarning: Found `num_iteration` in params. Will use it instead of argument\n",
      "  warnings.warn(\"Found `{}` in params. Will use it instead of argument\".format(alias))\n",
      "/home/kai/anaconda3/lib/python3.6/site-packages/lightgbm/basic.py:1027: UserWarning: Using categorical_feature in Dataset.\n",
      "  warnings.warn('Using categorical_feature in Dataset.')\n"
     ]
    },
    {
     "name": "stdout",
     "output_type": "stream",
     "text": [
      "[100]\tcv_agg's auc: 0.754762 + 0.00437548\n"
     ]
    },
    {
     "ename": "KeyboardInterrupt",
     "evalue": "",
     "output_type": "error",
     "traceback": [
      "\u001b[0;31m---------------------------------------------------------------------------\u001b[0m",
      "\u001b[0;31mKeyboardInterrupt\u001b[0m                         Traceback (most recent call last)",
      "\u001b[0;32m<ipython-input-51-e64e6a5f473f>\u001b[0m in \u001b[0;36m<module>\u001b[0;34m()\u001b[0m\n\u001b[1;32m      1\u001b[0m \u001b[0;31m# n_splits = 3\u001b[0m\u001b[0;34m\u001b[0m\u001b[0;34m\u001b[0m\u001b[0m\n\u001b[1;32m      2\u001b[0m \u001b[0mprint\u001b[0m\u001b[0;34m(\u001b[0m\u001b[0;34m'start modified_small'\u001b[0m\u001b[0;34m)\u001b[0m\u001b[0;34m\u001b[0m\u001b[0m\n\u001b[0;32m----> 3\u001b[0;31m \u001b[0mmodified_small\u001b[0m\u001b[0;34m,\u001b[0m\u001b[0m_\u001b[0m\u001b[0;34m,\u001b[0m\u001b[0m_\u001b[0m \u001b[0;34m=\u001b[0m  \u001b[0mmodel_2\u001b[0m\u001b[0;34m(\u001b[0m\u001b[0mtrain_small\u001b[0m\u001b[0;34m,\u001b[0m \u001b[0mtest_small\u001b[0m\u001b[0;34m,\u001b[0m \u001b[0mthreshold1\u001b[0m\u001b[0;34m,\u001b[0m \u001b[0mthreshold2\u001b[0m\u001b[0;34m,\u001b[0m\u001b[0mn_splits\u001b[0m\u001b[0;34m)\u001b[0m\u001b[0;34m\u001b[0m\u001b[0m\n\u001b[0m\u001b[1;32m      4\u001b[0m \u001b[0;34m\u001b[0m\u001b[0m\n\u001b[1;32m      5\u001b[0m \u001b[0mpred_small\u001b[0m \u001b[0;34m=\u001b[0m \u001b[0mconcat_pred\u001b[0m\u001b[0;34m(\u001b[0m\u001b[0mmodified_small\u001b[0m\u001b[0;34m,\u001b[0m\u001b[0mcut_small\u001b[0m\u001b[0;34m)\u001b[0m\u001b[0;34m\u001b[0m\u001b[0m\n",
      "\u001b[0;32m<ipython-input-45-c5d528a801cd>\u001b[0m in \u001b[0;36mmodel_2\u001b[0;34m(train_df, test_df, threshold1, threshold2, n_splits)\u001b[0m\n\u001b[1;32m     88\u001b[0m                          \u001b[0mearly_stopping_rounds\u001b[0m\u001b[0;34m=\u001b[0m\u001b[0;36m150\u001b[0m\u001b[0;34m,\u001b[0m\u001b[0;34m\u001b[0m\u001b[0m\n\u001b[1;32m     89\u001b[0m                          \u001b[0mverbose_eval\u001b[0m\u001b[0;34m=\u001b[0m\u001b[0;36m100\u001b[0m\u001b[0;34m,\u001b[0m\u001b[0;34m\u001b[0m\u001b[0m\n\u001b[0;32m---> 90\u001b[0;31m                          metrics=['auc'])\n\u001b[0m\u001b[1;32m     91\u001b[0m \u001b[0;34m\u001b[0m\u001b[0m\n\u001b[1;32m     92\u001b[0m     \u001b[0moptimum_boost_rounds\u001b[0m \u001b[0;34m=\u001b[0m \u001b[0mnp\u001b[0m\u001b[0;34m.\u001b[0m\u001b[0margmax\u001b[0m\u001b[0;34m(\u001b[0m\u001b[0mcv_results\u001b[0m\u001b[0;34m[\u001b[0m\u001b[0;34m'auc-mean'\u001b[0m\u001b[0;34m]\u001b[0m\u001b[0;34m)\u001b[0m\u001b[0;34m\u001b[0m\u001b[0m\n",
      "\u001b[0;32m~/anaconda3/lib/python3.6/site-packages/lightgbm/engine.py\u001b[0m in \u001b[0;36mcv\u001b[0;34m(params, train_set, num_boost_round, folds, nfold, stratified, shuffle, metrics, fobj, feval, init_model, feature_name, categorical_feature, early_stopping_rounds, fpreproc, verbose_eval, show_stdv, seed, callbacks)\u001b[0m\n\u001b[1;32m    445\u001b[0m                                     \u001b[0mend_iteration\u001b[0m\u001b[0;34m=\u001b[0m\u001b[0mnum_boost_round\u001b[0m\u001b[0;34m,\u001b[0m\u001b[0;34m\u001b[0m\u001b[0m\n\u001b[1;32m    446\u001b[0m                                     evaluation_result_list=None))\n\u001b[0;32m--> 447\u001b[0;31m         \u001b[0mcvfolds\u001b[0m\u001b[0;34m.\u001b[0m\u001b[0mupdate\u001b[0m\u001b[0;34m(\u001b[0m\u001b[0mfobj\u001b[0m\u001b[0;34m=\u001b[0m\u001b[0mfobj\u001b[0m\u001b[0;34m)\u001b[0m\u001b[0;34m\u001b[0m\u001b[0m\n\u001b[0m\u001b[1;32m    448\u001b[0m         \u001b[0mres\u001b[0m \u001b[0;34m=\u001b[0m \u001b[0m_agg_cv_result\u001b[0m\u001b[0;34m(\u001b[0m\u001b[0mcvfolds\u001b[0m\u001b[0;34m.\u001b[0m\u001b[0meval_valid\u001b[0m\u001b[0;34m(\u001b[0m\u001b[0mfeval\u001b[0m\u001b[0;34m)\u001b[0m\u001b[0;34m)\u001b[0m\u001b[0;34m\u001b[0m\u001b[0m\n\u001b[1;32m    449\u001b[0m         \u001b[0;32mfor\u001b[0m \u001b[0m_\u001b[0m\u001b[0;34m,\u001b[0m \u001b[0mkey\u001b[0m\u001b[0;34m,\u001b[0m \u001b[0mmean\u001b[0m\u001b[0;34m,\u001b[0m \u001b[0m_\u001b[0m\u001b[0;34m,\u001b[0m \u001b[0mstd\u001b[0m \u001b[0;32min\u001b[0m \u001b[0mres\u001b[0m\u001b[0;34m:\u001b[0m\u001b[0;34m\u001b[0m\u001b[0m\n",
      "\u001b[0;32m~/anaconda3/lib/python3.6/site-packages/lightgbm/engine.py\u001b[0m in \u001b[0;36mhandlerFunction\u001b[0;34m(*args, **kwargs)\u001b[0m\n\u001b[1;32m    244\u001b[0m             \u001b[0mret\u001b[0m \u001b[0;34m=\u001b[0m \u001b[0;34m[\u001b[0m\u001b[0;34m]\u001b[0m\u001b[0;34m\u001b[0m\u001b[0m\n\u001b[1;32m    245\u001b[0m             \u001b[0;32mfor\u001b[0m \u001b[0mbooster\u001b[0m \u001b[0;32min\u001b[0m \u001b[0mself\u001b[0m\u001b[0;34m.\u001b[0m\u001b[0mboosters\u001b[0m\u001b[0;34m:\u001b[0m\u001b[0;34m\u001b[0m\u001b[0m\n\u001b[0;32m--> 246\u001b[0;31m                 \u001b[0mret\u001b[0m\u001b[0;34m.\u001b[0m\u001b[0mappend\u001b[0m\u001b[0;34m(\u001b[0m\u001b[0mgetattr\u001b[0m\u001b[0;34m(\u001b[0m\u001b[0mbooster\u001b[0m\u001b[0;34m,\u001b[0m \u001b[0mname\u001b[0m\u001b[0;34m)\u001b[0m\u001b[0;34m(\u001b[0m\u001b[0;34m*\u001b[0m\u001b[0margs\u001b[0m\u001b[0;34m,\u001b[0m \u001b[0;34m**\u001b[0m\u001b[0mkwargs\u001b[0m\u001b[0;34m)\u001b[0m\u001b[0;34m)\u001b[0m\u001b[0;34m\u001b[0m\u001b[0m\n\u001b[0m\u001b[1;32m    247\u001b[0m             \u001b[0;32mreturn\u001b[0m \u001b[0mret\u001b[0m\u001b[0;34m\u001b[0m\u001b[0m\n\u001b[1;32m    248\u001b[0m         \u001b[0;32mreturn\u001b[0m \u001b[0mhandlerFunction\u001b[0m\u001b[0;34m\u001b[0m\u001b[0m\n",
      "\u001b[0;32m~/anaconda3/lib/python3.6/site-packages/lightgbm/basic.py\u001b[0m in \u001b[0;36mupdate\u001b[0;34m(self, train_set, fobj)\u001b[0m\n\u001b[1;32m   1508\u001b[0m             _safe_call(_LIB.LGBM_BoosterUpdateOneIter(\n\u001b[1;32m   1509\u001b[0m                 \u001b[0mself\u001b[0m\u001b[0;34m.\u001b[0m\u001b[0mhandle\u001b[0m\u001b[0;34m,\u001b[0m\u001b[0;34m\u001b[0m\u001b[0m\n\u001b[0;32m-> 1510\u001b[0;31m                 ctypes.byref(is_finished)))\n\u001b[0m\u001b[1;32m   1511\u001b[0m             \u001b[0mself\u001b[0m\u001b[0;34m.\u001b[0m\u001b[0m__is_predicted_cur_iter\u001b[0m \u001b[0;34m=\u001b[0m \u001b[0;34m[\u001b[0m\u001b[0;32mFalse\u001b[0m \u001b[0;32mfor\u001b[0m \u001b[0m_\u001b[0m \u001b[0;32min\u001b[0m \u001b[0mrange_\u001b[0m\u001b[0;34m(\u001b[0m\u001b[0mself\u001b[0m\u001b[0;34m.\u001b[0m\u001b[0m__num_dataset\u001b[0m\u001b[0;34m)\u001b[0m\u001b[0;34m]\u001b[0m\u001b[0;34m\u001b[0m\u001b[0m\n\u001b[1;32m   1512\u001b[0m             \u001b[0;32mreturn\u001b[0m \u001b[0mis_finished\u001b[0m\u001b[0;34m.\u001b[0m\u001b[0mvalue\u001b[0m \u001b[0;34m==\u001b[0m \u001b[0;36m1\u001b[0m\u001b[0;34m\u001b[0m\u001b[0m\n",
      "\u001b[0;31mKeyboardInterrupt\u001b[0m: "
     ]
    }
   ],
   "source": [
    "# n_splits = 3\n",
    "print('start modified_small')\n",
    "modified_small,_,_ =  model_2(train_small, test_small, threshold1, threshold2,n_splits)\n",
    "\n",
    "pred_small = concat_pred(modified_small,cut_small)"
   ]
  },
  {
   "cell_type": "markdown",
   "metadata": {},
   "source": [
    "# Large"
   ]
  },
  {
   "cell_type": "code",
   "execution_count": null,
   "metadata": {
    "ExecuteTime": {
     "start_time": "2018-06-28T20:54:45.894Z"
    }
   },
   "outputs": [
    {
     "name": "stdout",
     "output_type": "stream",
     "text": [
      "read ori test done\n",
      "begin cut large\n",
      "old shapes, (48744, 1956) (307511, 1957)\n",
      "length of half 224\n"
     ]
    },
    {
     "name": "stderr",
     "output_type": "stream",
     "text": [
      "/home/kai/anaconda3/lib/python3.6/site-packages/ipykernel_launcher.py:10: SettingWithCopyWarning: \n",
      "A value is trying to be set on a copy of a slice from a DataFrame.\n",
      "Try using .loc[row_indexer,col_indexer] = value instead\n",
      "\n",
      "See the caveats in the documentation: http://pandas.pydata.org/pandas-docs/stable/indexing.html#indexing-view-versus-copy\n",
      "  # Remove the CWD from sys.path while we load stuff.\n"
     ]
    },
    {
     "name": "stdout",
     "output_type": "stream",
     "text": [
      "new shapes, (48520, 1956) (307735, 1957)\n",
      "start modified_large\n",
      "begin blended lightgbm\n",
      "Training until validation scores don't improve for 200 rounds.\n",
      "[100]\ttraining's auc: 0.762814\tvalid_1's auc: 0.757226\n",
      "[200]\ttraining's auc: 0.790774\tvalid_1's auc: 0.778753\n",
      "[300]\ttraining's auc: 0.810094\tvalid_1's auc: 0.790582\n",
      "[400]\ttraining's auc: 0.823068\tvalid_1's auc: 0.795618\n",
      "[500]\ttraining's auc: 0.833362\tvalid_1's auc: 0.798369\n",
      "[600]\ttraining's auc: 0.842454\tvalid_1's auc: 0.800185\n",
      "[700]\ttraining's auc: 0.850071\tvalid_1's auc: 0.801194\n",
      "[800]\ttraining's auc: 0.857169\tvalid_1's auc: 0.801995\n",
      "[900]\ttraining's auc: 0.863696\tvalid_1's auc: 0.802602\n",
      "[1000]\ttraining's auc: 0.869814\tvalid_1's auc: 0.803016\n",
      "[1100]\ttraining's auc: 0.875548\tvalid_1's auc: 0.803232\n",
      "[1200]\ttraining's auc: 0.881167\tvalid_1's auc: 0.803433\n",
      "[1300]\ttraining's auc: 0.886252\tvalid_1's auc: 0.803604\n",
      "[1400]\ttraining's auc: 0.891006\tvalid_1's auc: 0.803513\n",
      "Early stopping, best iteration is:\n",
      "[1276]\ttraining's auc: 0.885058\tvalid_1's auc: 0.803639\n",
      "Fold  1 AUC : 0.803642\n",
      "Training until validation scores don't improve for 200 rounds.\n",
      "[100]\ttraining's auc: 0.764407\tvalid_1's auc: 0.746134\n",
      "[200]\ttraining's auc: 0.792778\tvalid_1's auc: 0.768144\n",
      "[300]\ttraining's auc: 0.811804\tvalid_1's auc: 0.78049\n",
      "[400]\ttraining's auc: 0.82476\tvalid_1's auc: 0.786729\n"
     ]
    }
   ],
   "source": [
    "test = pd.read_pickle(PATH + 'test_factorized_std_with_linear.pkl')\n",
    "df = pd.read_pickle(PATH + 'inter/bureau_sup.pkl')\n",
    "test = test.merge(df, on = 'SK_ID_CURR', how = 'left')\n",
    "print('read ori test done')\n",
    "\n",
    "train_large, test_large, cut_large = large_new(train, test, pred1, threshold2)\n",
    "print('start modified_large')\n",
    "\n",
    "n_splits = 5\n",
    "modified_large,_,_ =  model_1(train_large, test, threshold1, threshold2, n_splits)"
   ]
  },
  {
   "cell_type": "code",
   "execution_count": null,
   "metadata": {
    "ExecuteTime": {
     "start_time": "2018-06-28T21:17:24.460Z"
    }
   },
   "outputs": [],
   "source": [
    "modified_large.to_csv(PATH+'06_28_large2.csv', index = False)"
   ]
  },
  {
   "cell_type": "code",
   "execution_count": 53,
   "metadata": {
    "ExecuteTime": {
     "end_time": "2018-06-26T20:13:10.332801Z",
     "start_time": "2018-06-26T20:13:09.708684Z"
    }
   },
   "outputs": [
    {
     "name": "stdout",
     "output_type": "stream",
     "text": [
      "begin concat predictions\n",
      "(48744, 2)\n"
     ]
    }
   ],
   "source": [
    "pred_large = concat_pred(cut_large,modified_large)\n",
    "pred_large.to_csv(PATH+'06_26_large.csv', index = False)\n",
    "# modified_large.to_csv(PATH +'06_25_large2.csv',index = False)"
   ]
  },
  {
   "cell_type": "code",
   "execution_count": 11,
   "metadata": {
    "ExecuteTime": {
     "end_time": "2018-06-22T20:35:24.701601Z",
     "start_time": "2018-06-22T20:35:24.687927Z"
    }
   },
   "outputs": [],
   "source": [
    "blend_sub = pd.DataFrame()\n",
    "blend_sub['SK_ID_CURR'] = pred_small['SK_ID_CURR']\n",
    "blend_sub['TARGET'] = (pred_small['TARGET']+pred_large['TARGET'])/2"
   ]
  },
  {
   "cell_type": "code",
   "execution_count": 17,
   "metadata": {
    "ExecuteTime": {
     "end_time": "2018-06-22T20:36:37.294631Z",
     "start_time": "2018-06-22T20:36:37.280368Z"
    },
    "scrolled": true
   },
   "outputs": [
    {
     "name": "stdout",
     "output_type": "stream",
     "text": [
      "   SK_ID_CURR    TARGET\n",
      "0      100001  0.036878\n",
      "247\n",
      "357\n",
      "   SK_ID_CURR    TARGET\n",
      "0      100001  0.036896\n",
      "213\n",
      "382\n",
      "   SK_ID_CURR   TARGET\n",
      "0      100001  0.03686\n",
      "297\n",
      "337\n",
      "   SK_ID_CURR    TARGET\n",
      "0      100001  0.036144\n",
      "222\n",
      "362\n"
     ]
    }
   ],
   "source": [
    "for i in [blend_sub, pred_small, pred_large,pred1]:\n",
    "    print(i.head(1))\n",
    "    print((i['TARGET']>0.5).sum())\n",
    "    print((i['TARGET']<0.005).sum())"
   ]
  },
  {
   "cell_type": "code",
   "execution_count": 20,
   "metadata": {
    "ExecuteTime": {
     "end_time": "2018-06-22T20:40:02.332006Z",
     "start_time": "2018-06-22T20:40:02.215243Z"
    }
   },
   "outputs": [],
   "source": [
    "blend_sub.to_csv(PATH+ 'submission/0622_blend_2.csv', index = False)"
   ]
  },
  {
   "cell_type": "code",
   "execution_count": 21,
   "metadata": {
    "ExecuteTime": {
     "end_time": "2018-06-22T20:42:20.498380Z",
     "start_time": "2018-06-22T20:42:20.345284Z"
    }
   },
   "outputs": [],
   "source": [
    "pred_large.to_csv(PATH+ 'submission/0622_blend_3.csv', index = False)"
   ]
  },
  {
   "cell_type": "code",
   "execution_count": null,
   "metadata": {},
   "outputs": [],
   "source": []
  }
 ],
 "metadata": {
  "kernelspec": {
   "display_name": "Python 3",
   "language": "python",
   "name": "python3"
  },
  "language_info": {
   "codemirror_mode": {
    "name": "ipython",
    "version": 3
   },
   "file_extension": ".py",
   "mimetype": "text/x-python",
   "name": "python",
   "nbconvert_exporter": "python",
   "pygments_lexer": "ipython3",
   "version": "3.6.5"
  },
  "varInspector": {
   "cols": {
    "lenName": 16,
    "lenType": 16,
    "lenVar": 40
   },
   "kernels_config": {
    "python": {
     "delete_cmd_postfix": "",
     "delete_cmd_prefix": "del ",
     "library": "var_list.py",
     "varRefreshCmd": "print(var_dic_list())"
    },
    "r": {
     "delete_cmd_postfix": ") ",
     "delete_cmd_prefix": "rm(",
     "library": "var_list.r",
     "varRefreshCmd": "cat(var_dic_list()) "
    }
   },
   "types_to_exclude": [
    "module",
    "function",
    "builtin_function_or_method",
    "instance",
    "_Feature"
   ],
   "window_display": false
  }
 },
 "nbformat": 4,
 "nbformat_minor": 2
}
