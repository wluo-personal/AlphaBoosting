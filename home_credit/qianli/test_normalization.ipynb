{
 "cells": [
  {
   "cell_type": "code",
   "execution_count": 1,
   "metadata": {
    "ExecuteTime": {
     "end_time": "2018-06-19T17:41:00.629045Z",
     "start_time": "2018-06-19T17:41:00.231277Z"
    },
    "collapsed": true
   },
   "outputs": [],
   "source": [
    "import pandas as pd\n",
    "import numpy as np"
   ]
  },
  {
   "cell_type": "code",
   "execution_count": 28,
   "metadata": {
    "ExecuteTime": {
     "end_time": "2018-06-19T17:58:07.905814Z",
     "start_time": "2018-06-19T17:56:29.632829Z"
    }
   },
   "outputs": [
    {
     "name": "stdout",
     "output_type": "stream",
     "text": [
      "installments_payments done\n",
      "POS_CASH_balance\n",
      "credit_card_balance\n",
      "previous_application\n"
     ]
    }
   ],
   "source": [
    "PATH = '/home/kai/data/kaggle/homecredit/'\n",
    "# train = pd.read_csv(PATH + 'application_train.csv')\n",
    "# print('train')\n",
    "# test = pd.read_csv(PATH + 'application_test.csv')\n",
    "# print('test')\n",
    "# bureau = pd.read_csv(PATH + 'bureau.csv')\n",
    "# print('bureau')\n",
    "# prev = pd.read_csv(PATH + 'previous_application.csv')\n",
    "# print('previous')\n",
    "# bb = pd.read_csv(PATH + 'bureau_balance.csv')\n",
    "# print('bureau_balance')\n",
    "installments_payments = pd.read_csv(PATH + 'installments_payments.csv')\n",
    "print('installments_payments done')\n",
    "# credit_card_balance = pd.read_csv(PATH + 'credit_card_balance.csv')\n",
    "# # print('credit_card_balance')\n",
    "POS_CASH_balance = pd.read_csv(PATH + 'POS_CASH_balance.csv')\n",
    "print('POS_CASH_balance')\n",
    "credit_card_balance = pd.read_csv(PATH + 'credit_card_balance.csv')\n",
    "print('credit_card_balance')\n",
    "previous_application = pd.read_csv(PATH + 'previous_application.csv')\n",
    "print('previous_application')"
   ]
  },
  {
   "cell_type": "code",
   "execution_count": 39,
   "metadata": {
    "ExecuteTime": {
     "end_time": "2018-06-19T18:05:12.904956Z",
     "start_time": "2018-06-19T18:05:11.391270Z"
    },
    "collapsed": true
   },
   "outputs": [],
   "source": [
    "prev_ref = previous_application[previous_application['NAME_CONTRACT_STATUS']=='Refused']"
   ]
  },
  {
   "cell_type": "code",
   "execution_count": 40,
   "metadata": {
    "ExecuteTime": {
     "end_time": "2018-06-19T18:05:52.046163Z",
     "start_time": "2018-06-19T18:05:51.516764Z"
    },
    "collapsed": true
   },
   "outputs": [],
   "source": [
    "set_prev = set(previous_application['SK_ID_PREV'])\n",
    "set_ref = set(prev_ref['SK_ID_PREV'])\n"
   ]
  },
  {
   "cell_type": "code",
   "execution_count": 41,
   "metadata": {
    "ExecuteTime": {
     "end_time": "2018-06-19T18:06:35.033908Z",
     "start_time": "2018-06-19T18:06:35.028623Z"
    }
   },
   "outputs": [
    {
     "name": "stdout",
     "output_type": "stream",
     "text": [
      "1670214 290678\n"
     ]
    }
   ],
   "source": [
    "print(len(set_prev),len(set_ref))"
   ]
  },
  {
   "cell_type": "code",
   "execution_count": 43,
   "metadata": {
    "ExecuteTime": {
     "end_time": "2018-06-19T18:08:27.139916Z",
     "start_time": "2018-06-19T18:08:08.872568Z"
    },
    "collapsed": true
   },
   "outputs": [],
   "source": [
    "set_credit = set(credit_card_balance['SK_ID_PREV'])\n",
    "set_pos = set(POS_CASH_balance['SK_ID_PREV'])\n",
    "set_install = set(installments_payments['SK_ID_PREV'])"
   ]
  },
  {
   "cell_type": "code",
   "execution_count": 44,
   "metadata": {
    "ExecuteTime": {
     "end_time": "2018-06-19T18:08:55.620811Z",
     "start_time": "2018-06-19T18:08:55.606115Z"
    }
   },
   "outputs": [
    {
     "name": "stdout",
     "output_type": "stream",
     "text": [
      "936325 997752 104307\n"
     ]
    }
   ],
   "source": [
    "print(len(set_pos),len(set_install),len(set_credit))"
   ]
  },
  {
   "cell_type": "code",
   "execution_count": 45,
   "metadata": {
    "ExecuteTime": {
     "end_time": "2018-06-19T18:09:40.587296Z",
     "start_time": "2018-06-19T18:09:40.366112Z"
    }
   },
   "outputs": [
    {
     "data": {
      "text/plain": [
       "936325"
      ]
     },
     "execution_count": 45,
     "metadata": {},
     "output_type": "execute_result"
    }
   ],
   "source": [
    "len(set_pos -set_ref )"
   ]
  },
  {
   "cell_type": "code",
   "execution_count": null,
   "metadata": {
    "ExecuteTime": {
     "start_time": "2018-06-19T18:08:12.389Z"
    }
   },
   "outputs": [
    {
     "data": {
      "text/plain": [
       "104307"
      ]
     },
     "execution_count": 46,
     "metadata": {},
     "output_type": "execute_result"
    }
   ],
   "source": [
    "len(set_credit - set_ref)"
   ]
  },
  {
   "cell_type": "code",
   "execution_count": null,
   "metadata": {
    "ExecuteTime": {
     "start_time": "2018-06-19T18:08:13.004Z"
    },
    "collapsed": true
   },
   "outputs": [],
   "source": [
    "\n",
    "len(set_install - set_ref)"
   ]
  },
  {
   "cell_type": "code",
   "execution_count": null,
   "metadata": {
    "ExecuteTime": {
     "end_time": "2018-06-19T18:04:28.977220Z",
     "start_time": "2018-06-19T18:04:12.078Z"
    },
    "collapsed": true
   },
   "outputs": [],
   "source": [
    "a = set_prev - set_"
   ]
  },
  {
   "cell_type": "code",
   "execution_count": 15,
   "metadata": {
    "ExecuteTime": {
     "end_time": "2018-06-13T20:21:38.798248Z",
     "start_time": "2018-06-13T20:21:38.795770Z"
    },
    "collapsed": true
   },
   "outputs": [],
   "source": [
    "from sklearn.preprocessing import RobustScaler\n",
    "scale = RobustScaler()"
   ]
  },
  {
   "cell_type": "code",
   "execution_count": 16,
   "metadata": {
    "ExecuteTime": {
     "end_time": "2018-06-13T20:21:38.864086Z",
     "start_time": "2018-06-13T20:21:38.860944Z"
    }
   },
   "outputs": [
    {
     "data": {
      "text/plain": [
       "array(['SK_ID_PREV', 'SK_ID_CURR', 'NUM_INSTALMENT_VERSION',\n",
       "       'NUM_INSTALMENT_NUMBER', 'DAYS_INSTALMENT', 'DAYS_ENTRY_PAYMENT',\n",
       "       'AMT_INSTALMENT', 'AMT_PAYMENT'], dtype=object)"
      ]
     },
     "execution_count": 16,
     "metadata": {},
     "output_type": "execute_result"
    }
   ],
   "source": [
    "installments_payments.columns.values"
   ]
  },
  {
   "cell_type": "code",
   "execution_count": 19,
   "metadata": {
    "ExecuteTime": {
     "end_time": "2018-06-13T20:21:52.909614Z",
     "start_time": "2018-06-13T20:21:52.816203Z"
    },
    "collapsed": true
   },
   "outputs": [],
   "source": [
    "scale = StandardScaler()\n",
    "test_col = installments_payments['AMT_PAYMENT'].fillna(20000)\n",
    "test_col = test_col.values.reshape(-1,1)\n"
   ]
  },
  {
   "cell_type": "code",
   "execution_count": 20,
   "metadata": {
    "ExecuteTime": {
     "end_time": "2018-06-13T20:21:53.986559Z",
     "start_time": "2018-06-13T20:21:53.626046Z"
    },
    "collapsed": true
   },
   "outputs": [],
   "source": [
    "# print(test_col)\n",
    "test_col = scale.fit_transform(test_col)\n",
    "\n",
    "k = test_col.ravel()\n",
    "print(k)\n",
    "df = pd.DataFrame(k)\n",
    "import matplotlib as plt\n",
    "df.plot()"
   ]
  },
  {
   "cell_type": "code",
   "execution_count": 21,
   "metadata": {
    "ExecuteTime": {
     "end_time": "2018-06-13T20:21:54.068822Z",
     "start_time": "2018-06-13T20:21:54.064729Z"
    }
   },
   "outputs": [
    {
     "name": "stdout",
     "output_type": "stream",
     "text": [
      "[[-0.18802232]\n",
      " [-0.28361596]\n",
      " [ 0.14957417]\n",
      " [ 0.12993465]\n",
      " [-0.2755023 ]]\n"
     ]
    }
   ],
   "source": [
    "\n",
    "print(test_col[:5])"
   ]
  },
  {
   "cell_type": "code",
   "execution_count": 22,
   "metadata": {
    "ExecuteTime": {
     "end_time": "2018-06-13T20:21:57.332947Z",
     "start_time": "2018-06-13T20:21:57.326950Z"
    }
   },
   "outputs": [
    {
     "name": "stdout",
     "output_type": "stream",
     "text": [
      "[-0.18802232 -0.28361596  0.14957417 ...,  0.05045111  0.05045111\n",
      "  0.05045111]\n"
     ]
    }
   ],
   "source": []
  },
  {
   "cell_type": "code",
   "execution_count": 33,
   "metadata": {
    "ExecuteTime": {
     "end_time": "2018-06-13T20:30:32.292458Z",
     "start_time": "2018-06-13T20:30:27.986200Z"
    }
   },
   "outputs": [
    {
     "data": {
      "image/png": "[encoded data removed]",
      "text/plain": [
       "<matplotlib.figure.Figure at 0x7f04e0fc9160>"
      ]
     },
     "metadata": {},
     "output_type": "display_data"
    },
    {
     "data": {
      "image/png": "[encoded data removed]",
      "text/plain": [
       "<matplotlib.figure.Figure at 0x7f04d71794a8>"
      ]
     },
     "metadata": {},
     "output_type": "display_data"
    },
    {
     "data": {
      "image/png": "[encoded data removed]",
      "text/plain": [
       "<matplotlib.figure.Figure at 0x7f04d7143c88>"
      ]
     },
     "metadata": {},
     "output_type": "display_data"
    },
    {
     "data": {
      "image/png": "[encoded data removed]",
      "text/plain": [
       "<matplotlib.figure.Figure at 0x7f04d710bf28>"
      ]
     },
     "metadata": {},
     "output_type": "display_data"
    }
   ],
   "source": [
    "df = pd.DataFrame(k)\n",
    "import matplotlib.pyplot as plt\n",
    "df.hist\n",
    "plt.show()"
   ]
  },
  {
   "cell_type": "code",
   "execution_count": 24,
   "metadata": {
    "ExecuteTime": {
     "end_time": "2018-06-13T19:56:12.923789Z",
     "start_time": "2018-06-13T19:56:07.583290Z"
    }
   },
   "outputs": [
    {
     "name": "stdout",
     "output_type": "stream",
     "text": [
      "NAME_CONTRACT_TYPE\n",
      "CODE_GENDER\n",
      "FLAG_OWN_CAR\n",
      "FLAG_OWN_REALTY\n",
      "NAME_TYPE_SUITE\n",
      "NAME_INCOME_TYPE\n",
      "NAME_EDUCATION_TYPE\n",
      "NAME_FAMILY_STATUS\n",
      "NAME_HOUSING_TYPE\n",
      "OCCUPATION_TYPE\n",
      "ORGANIZATION_TYPE\n",
      "WEEKDAY_APPR_PROCESS_START\n",
      "FONDKAPREMONT_MODE\n",
      "HOUSETYPE_MODE\n",
      "WALLSMATERIAL_MODE\n",
      "EMERGENCYSTATE_MODE\n",
      "done\n"
     ]
    }
   ],
   "source": [
    "PATH = '/home/kai/data/kaggle/homecredit/'\n",
    "\n",
    "app_train = pd.read_pickle(PATH + 'train_cleaned.pkl')\n",
    "app_test = pd.read_pickle(PATH + 'test_cleaned.pkl')\n",
    "from sklearn.preprocessing import LabelEncoder\n",
    "\n",
    "categorical_feats = [\n",
    "    'NAME_CONTRACT_TYPE','CODE_GENDER','FLAG_OWN_CAR','FLAG_OWN_REALTY','NAME_TYPE_SUITE',\n",
    "    'NAME_INCOME_TYPE','NAME_EDUCATION_TYPE', 'NAME_FAMILY_STATUS', 'NAME_HOUSING_TYPE',\n",
    "    'FLAG_MOBIL', 'FLAG_EMP_PHONE', 'FLAG_WORK_PHONE', 'FLAG_CONT_MOBILE', 'FLAG_PHONE', 'FLAG_EMAIL', 'OCCUPATION_TYPE',\n",
    "    'REG_REGION_NOT_LIVE_REGION', 'REG_REGION_NOT_WORK_REGION', 'LIVE_REGION_NOT_WORK_REGION', 'REG_CITY_NOT_LIVE_CITY',\n",
    "    'REG_CITY_NOT_WORK_CITY', 'LIVE_CITY_NOT_WORK_CITY', 'ORGANIZATION_TYPE', 'FLAG_DOCUMENT_2', 'FLAG_DOCUMENT_3',\n",
    "    'FLAG_DOCUMENT_4', 'FLAG_DOCUMENT_5', 'FLAG_DOCUMENT_6', 'FLAG_DOCUMENT_7', 'FLAG_DOCUMENT_8', 'FLAG_DOCUMENT_9',\n",
    "    'FLAG_DOCUMENT_10', 'FLAG_DOCUMENT_11', 'FLAG_DOCUMENT_12', 'FLAG_DOCUMENT_13', 'FLAG_DOCUMENT_14',\n",
    "    'FLAG_DOCUMENT_15', 'FLAG_DOCUMENT_16', 'FLAG_DOCUMENT_17', 'FLAG_DOCUMENT_18', 'FLAG_DOCUMENT_19',\n",
    "    'FLAG_DOCUMENT_20', 'FLAG_DOCUMENT_21','WEEKDAY_APPR_PROCESS_START', 'FONDKAPREMONT_MODE', 'HOUSETYPE_MODE', \n",
    "    'WALLSMATERIAL_MODE', 'EMERGENCYSTATE_MODE'\n",
    "]\n",
    "\n",
    "for x in categorical_feats:\n",
    "    if app_train[x].dtype == 'object':\n",
    "        print(x)\n",
    "        app_train[x].fillna('na', inplace=True)\n",
    "        app_test[x].fillna('na', inplace=True)\n",
    "        app_train[x] = LabelEncoder().fit_transform(app_train[x])\n",
    "        app_test[x] = LabelEncoder().fit_transform(app_test[x])\n",
    "    else:\n",
    "        app_train[x].fillna('na', inplace=True)\n",
    "        app_test[x].fillna('na', inplace=True)\n",
    "print('done')\n",
    "\n",
    "\n",
    "from sklearn.model_selection import train_test_split \n",
    "import lightgbm as lgb\n",
    "\n",
    "\n",
    "app_test['is_test'] = 1 \n",
    "app_test['is_train'] = 0\n",
    "app_train['is_test'] = 0\n",
    "app_train['is_train'] = 1\n",
    "\n",
    "# target variable\n",
    "Y = app_train['TARGET']\n",
    "train_X = app_train.drop(['TARGET'], axis = 1)\n",
    "\n",
    "# test ID\n",
    "test_id = app_test['SK_ID_CURR']\n",
    "test_X = app_test\n",
    "\n",
    "# merge train and test datasets for preprocessing\n",
    "data = pd.concat([train_X, test_X], axis=0)\n",
    "\n",
    "#### prepare final Train X and Test X dataframes \n",
    "ignore_features = ['SK_ID_CURR', 'is_train', 'is_test','ORGANIZATION_TYPE']\n",
    "relevant_features = [col for col in data.columns if col not in ignore_features]\n",
    "trainX = data[data['is_train'] == 1][relevant_features]\n",
    "testX = data[data['is_test'] == 1][relevant_features]"
   ]
  },
  {
   "cell_type": "code",
   "execution_count": 25,
   "metadata": {
    "ExecuteTime": {
     "end_time": "2018-06-13T19:58:20.923695Z",
     "start_time": "2018-06-13T19:58:20.919394Z"
    },
    "collapsed": true
   },
   "outputs": [],
   "source": [
    "numerical_features = [i for i in relevant_features if i not in ignore_features]"
   ]
  },
  {
   "cell_type": "code",
   "execution_count": 27,
   "metadata": {
    "ExecuteTime": {
     "end_time": "2018-06-13T19:59:44.486431Z",
     "start_time": "2018-06-13T19:59:44.448809Z"
    },
    "collapsed": true
   },
   "outputs": [],
   "source": [
    "numerical_features= ['bureau_DAYS_CREDIT_max',\n",
    " 'bureau_DAYS_CREDIT_min',\n",
    " 'bureau_DAYS_CREDIT_std',\n",
    " 'bureau_DAYS_CREDIT_mean',\n",
    " 'bureau_DAYS_CREDIT_ENDDATE_max',\n",
    " 'bureau_DAYS_CREDIT_ENDDATE_min',\n",
    " 'bureau_DAYS_CREDIT_ENDDATE_std',\n",
    " 'bureau_DAYS_CREDIT_ENDDATE_mean',\n",
    " 'bureau_AMT_CREDIT_SUM_max',\n",
    " 'bureau_AMT_CREDIT_SUM_min',\n",
    " 'bureau_AMT_CREDIT_SUM_std',\n",
    " 'bureau_AMT_CREDIT_SUM_mean',\n",
    " 'bureau_AMT_CREDIT_SUM_LIMIT_max',\n",
    " 'bureau_AMT_CREDIT_SUM_LIMIT_min',\n",
    " 'bureau_AMT_CREDIT_SUM_LIMIT_std',\n",
    " 'bureau_AMT_CREDIT_SUM_LIMIT_mean',\n",
    " 'bureau_DAYS_CREDIT_UPDATE_max',\n",
    " 'bureau_DAYS_CREDIT_UPDATE_min',\n",
    " 'bureau_DAYS_CREDIT_UPDATE_std',\n",
    " 'bureau_DAYS_CREDIT_UPDATE_mean',\n",
    " 'bureau_AMT_ANNUITY_max',\n",
    " 'bureau_AMT_ANNUITY_min',\n",
    " 'bureau_AMT_ANNUITY_std',\n",
    " 'bureau_AMT_ANNUITY_mean',\n",
    " 'bureau_bureau_balance_score_max',\n",
    " 'bureau_bureau_balance_score_min',\n",
    " 'bureau_bureau_balance_score_std',\n",
    " 'bureau_bureau_balance_score_mean',\n",
    " 'bureau_CNT_CREDIT_PROLONG_DAYS_CREDIT_ratio_max',\n",
    " 'bureau_CNT_CREDIT_PROLONG_DAYS_CREDIT_ratio_min',\n",
    " 'bureau_CNT_CREDIT_PROLONG_DAYS_CREDIT_ratio_std',\n",
    " 'bureau_CNT_CREDIT_PROLONG_DAYS_CREDIT_ratio_mean',\n",
    " 'bureau_AMT_CREDIT_SUM_LIMIT_AMT_CREDIT_SUM_ratio_max',\n",
    " 'bureau_AMT_CREDIT_SUM_LIMIT_AMT_CREDIT_SUM_ratio_min',\n",
    " 'bureau_AMT_CREDIT_SUM_LIMIT_AMT_CREDIT_SUM_ratio_std',\n",
    " 'bureau_AMT_CREDIT_SUM_LIMIT_AMT_CREDIT_SUM_ratio_mean',\n",
    " 'bureau_AMT_CREDIT_SUM_DEBT_AMT_CREDIT_SUM_ratio_max',\n",
    " 'bureau_AMT_CREDIT_SUM_DEBT_AMT_CREDIT_SUM_ratio_min',\n",
    " 'bureau_AMT_CREDIT_SUM_DEBT_AMT_CREDIT_SUM_ratio_std',\n",
    " 'bureau_AMT_CREDIT_SUM_DEBT_AMT_CREDIT_SUM_ratio_mean',\n",
    " 'bureau_AMT_CREDIT_SUM_DEBT_AMT_CREDIT_SUM_OVERDUE_ratio_max',\n",
    " 'bureau_AMT_CREDIT_SUM_DEBT_AMT_CREDIT_SUM_OVERDUE_ratio_min',\n",
    " 'bureau_AMT_CREDIT_SUM_DEBT_AMT_CREDIT_SUM_OVERDUE_ratio_std',\n",
    " 'bureau_AMT_CREDIT_SUM_DEBT_AMT_CREDIT_SUM_OVERDUE_ratio_mean',\n",
    " 'bureau_bb_STATUS_count_max',\n",
    " 'bureau_bb_STATUS_count_min',\n",
    " 'bureau_bb_STATUS_count_std',\n",
    " 'bureau_bb_STATUS_count_mean',\n",
    " 'bureau_CREDIT_DAY_OVERDUE_max',\n",
    " 'bureau_CREDIT_DAY_OVERDUE_min',\n",
    " 'bureau_CREDIT_DAY_OVERDUE_std',\n",
    " 'bureau_CREDIT_DAY_OVERDUE_mean',\n",
    " 'bureau_CREDIT_DAY_OVERDUE_positive_count',\n",
    " 'bureau_AMT_CREDIT_MAX_OVERDUE_max',\n",
    " 'bureau_AMT_CREDIT_MAX_OVERDUE_min',\n",
    " 'bureau_AMT_CREDIT_MAX_OVERDUE_std',\n",
    " 'bureau_AMT_CREDIT_MAX_OVERDUE_mean',\n",
    " 'bureau_AMT_CREDIT_MAX_OVERDUE_positive_count',\n",
    " 'bureau_AMT_CREDIT_SUM_OVERDUE_max',\n",
    " 'bureau_AMT_CREDIT_SUM_OVERDUE_min',\n",
    " 'bureau_AMT_CREDIT_SUM_OVERDUE_std',\n",
    " 'bureau_AMT_CREDIT_SUM_OVERDUE_mean',\n",
    " 'bureau_AMT_CREDIT_SUM_OVERDUE_positive_count',\n",
    " 'bureau_CNT_CREDIT_PROLONG_max',\n",
    " 'bureau_CNT_CREDIT_PROLONG_min',\n",
    " 'bureau_CNT_CREDIT_PROLONG_std',\n",
    " 'bureau_CNT_CREDIT_PROLONG_mean',\n",
    " 'bureau_CNT_CREDIT_PROLONG_positive_count',\n",
    " 'bureau_AMT_CREDIT_SUM_DEBT_max',\n",
    " 'bureau_AMT_CREDIT_SUM_DEBT_min',\n",
    " 'bureau_AMT_CREDIT_SUM_DEBT_std',\n",
    " 'bureau_AMT_CREDIT_SUM_DEBT_mean',\n",
    " 'bureau_AMT_CREDIT_SUM_DEBT_positive_count',\n",
    " 'bureau_AMT_CREDIT_SUM_DEBT_negative_count',\n",
    " 'bureau_SK_ID_BUREAU_count']"
   ]
  },
  {
   "cell_type": "code",
   "execution_count": null,
   "metadata": {
    "collapsed": true
   },
   "outputs": [],
   "source": []
  }
 ],
 "metadata": {
  "kernelspec": {
   "display_name": "Python 3",
   "language": "python",
   "name": "python3"
  },
  "language_info": {
   "codemirror_mode": {
    "name": "ipython",
    "version": 3
   },
   "file_extension": ".py",
   "mimetype": "text/x-python",
   "name": "python",
   "nbconvert_exporter": "python",
   "pygments_lexer": "ipython3",
   "version": "3.6.3"
  },
  "varInspector": {
   "cols": {
    "lenName": 16,
    "lenType": 16,
    "lenVar": 40
   },
   "kernels_config": {
    "python": {
     "delete_cmd_postfix": "",
     "delete_cmd_prefix": "del ",
     "library": "var_list.py",
     "varRefreshCmd": "print(var_dic_list())"
    },
    "r": {
     "delete_cmd_postfix": ") ",
     "delete_cmd_prefix": "rm(",
     "library": "var_list.r",
     "varRefreshCmd": "cat(var_dic_list()) "
    }
   },
   "types_to_exclude": [
    "module",
    "function",
    "builtin_function_or_method",
    "instance",
    "_Feature"
   ],
   "window_display": false
  }
 },
 "nbformat": 4,
 "nbformat_minor": 2
}
