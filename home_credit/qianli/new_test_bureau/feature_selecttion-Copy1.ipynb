{
 "cells": [
  {
   "cell_type": "code",
   "execution_count": 1,
   "metadata": {
    "ExecuteTime": {
     "end_time": "2018-06-28T17:40:40.135007Z",
     "start_time": "2018-06-28T17:40:38.787136Z"
    }
   },
   "outputs": [
    {
     "data": {
      "text/plain": [
       "((307511, 329), (48744, 328))"
      ]
     },
     "execution_count": 1,
     "metadata": {},
     "output_type": "execute_result"
    }
   ],
   "source": [
    "import pandas as pd\n",
    "import os\n",
    "import gc\n",
    "\n",
    "PATH = '/home/kai/data/kaggle/homecredit/'\n",
    "\n",
    "train = pd.read_pickle(PATH + 'inter/train_only_0.pkl')\n",
    "test = pd.read_pickle(PATH + 'inter/test_only_0.pkl')\n",
    "\n",
    "train.shape, test.shape"
   ]
  },
  {
   "cell_type": "code",
   "execution_count": null,
   "metadata": {
    "ExecuteTime": {
     "end_time": "2018-06-28T17:40:40.238871Z",
     "start_time": "2018-06-28T17:40:37.333Z"
    }
   },
   "outputs": [],
   "source": [
    "\n",
    "for x in os.listdir(PATH + 'inter/'):\n",
    "    if 'curr' in x:\n",
    "        if x != 'bureau2curr_2.pkl' and x!= '06_27bureau2curr.pkl':\n",
    "            print(x)\n",
    "            tmp = pd.read_pickle(PATH + 'inter/' + x)\n",
    "            print(tmp.shape)\n",
    "            col = [i for i in tmp.columns]\n",
    "            train = train.merge(tmp[col], on='SK_ID_CURR', how='left')\n",
    "            test = test.merge(tmp[col], on='SK_ID_CURR', how='left')\n",
    "            print('train&test, shape',train.shape, test.shape)\n",
    "            del tmp\n",
    "            gc.collect()\n",
    "        \n",
    "\n",
    "for x in os.listdir(PATH + 'inter/linear/'):\n",
    "    if x.split('.')[-1] == 'pkl':\n",
    "        print(x)\n",
    "        tmp = pd.read_pickle(PATH + 'inter/linear/' + x)\n",
    "        col = [i for i in tmp.columns]\n",
    "        train = train.merge(tmp[col], on='SK_ID_CURR', how='left')\n",
    "        test = test.merge(tmp[col], on='SK_ID_CURR', how='left')\n",
    "        del tmp\n",
    "        gc.collect()\n",
    "        print('train&test, shape',train.shape, test.shape)\n",
    "\n",
    "'done'"
   ]
  },
  {
   "cell_type": "code",
   "execution_count": null,
   "metadata": {
    "ExecuteTime": {
     "end_time": "2018-06-28T17:40:40.241454Z",
     "start_time": "2018-06-28T17:40:37.735Z"
    }
   },
   "outputs": [],
   "source": [
    "train.to_pickle(PATH + 'train_bureau_3_with_linear.pkl')\n",
    "test.to_pickle(PATH + 'test_bureau_3_with_linear.pkl')\n",
    "train.shape"
   ]
  },
  {
   "cell_type": "code",
   "execution_count": 4,
   "metadata": {
    "ExecuteTime": {
     "end_time": "2018-06-28T17:31:18.686710Z",
     "start_time": "2018-06-28T17:31:18.387684Z"
    }
   },
   "outputs": [],
   "source": [
    "import os\n",
    "import numpy as np\n",
    "import pandas as pd\n",
    "import gc\n",
    "import time\n",
    "from contextlib import contextmanager\n",
    "from lightgbm import LGBMClassifier\n",
    "from sklearn.metrics import roc_auc_score, roc_curve\n",
    "from sklearn.model_selection import KFold, StratifiedKFold\n",
    "import matplotlib.pyplot as plt\n",
    "import seaborn as sns\n",
    "import warnings\n",
    "warnings.simplefilter(action='ignore', category=FutureWarning)\n",
    "PATH = '/home/kai/data/kaggle/homecredit/'"
   ]
  },
  {
   "cell_type": "code",
   "execution_count": 5,
   "metadata": {
    "ExecuteTime": {
     "end_time": "2018-06-28T17:31:20.373940Z",
     "start_time": "2018-06-28T17:31:18.803818Z"
    }
   },
   "outputs": [
    {
     "data": {
      "text/plain": [
       "((307511, 685), (48744, 684))"
      ]
     },
     "execution_count": 5,
     "metadata": {},
     "output_type": "execute_result"
    }
   ],
   "source": [
    "# Read train and test\n",
    "train = pd.read_pickle(PATH + 'train_factorized_2_with_linear.pkl')\n",
    "test = pd.read_pickle(PATH + 'test_factorized_2_with_linear.pkl')\n",
    "train.shape, test.shape"
   ]
  },
  {
   "cell_type": "code",
   "execution_count": 6,
   "metadata": {
    "ExecuteTime": {
     "end_time": "2018-06-28T17:31:20.518100Z",
     "start_time": "2018-06-28T17:31:20.511424Z"
    }
   },
   "outputs": [],
   "source": [
    "def model_2(train_df, test_df, threshold1, threshold2, n_splits):\n",
    "    print('begin cv')\n",
    "    target = train_df['TARGET']\n",
    "    ignore_cols = ['ORGANIZATION_TYPE', 'TARGET', 'SK_ID_CURR']\n",
    "    features = [x for x in train_df.columns if x not in ignore_cols]\n",
    "    train = train_df[features]\n",
    "    test = test_df[features]\n",
    "\n",
    "    from sklearn.model_selection import StratifiedKFold\n",
    "    from lightgbm import LGBMClassifier\n",
    "    from sklearn.metrics import roc_auc_score\n",
    "    import lightgbm as lgbm\n",
    "\n",
    "    lgbm_train = lgbm.Dataset(data=train,\n",
    "                              label=target,\n",
    "\n",
    "                              categorical_feature=[],#categorical_feats,\n",
    "                              free_raw_data=False)\n",
    "    \n",
    "    lgbm_params = {\n",
    "        'task': 'train',\n",
    "        'boosting_type': 'gbdt',\n",
    "        'objective': 'binary',\n",
    "        'metric': 'auc',\n",
    "        'learning_rate': 0.05,\n",
    "        'num_iteration': 4000,\n",
    "        'num_threads': 16,\n",
    "        \n",
    "        'num_leaves': int(round(44.368535336628419)),\n",
    "        'feature_fraction': 0.28231763168020257,\n",
    "        'bagging_fraction': 0.94901525271474951,\n",
    "        'max_depth': int(round(8.0430115561596267)),\n",
    "        'lambda_l1': 0.30680079516647751,\n",
    "        'lambda_l2': 0.079128660903201031,\n",
    "        'min_split_gain': 0.054005067457890979,\n",
    "        'min_child_weight': 98.172643147364937\n",
    "    }\n",
    "\n",
    "    cv_results = lgbm.cv(train_set=lgbm_train,\n",
    "                         params=lgbm_params,\n",
    "                         nfold=n_splits,\n",
    "                         seed=2018,\n",
    "                         early_stopping_rounds=150,\n",
    "                         verbose_eval=100,\n",
    "                         metrics=['auc'])\n",
    "\n",
    "    optimum_boost_rounds = np.argmax(cv_results['auc-mean'])\n",
    "    print('Optimum boost rounds = {}'.format(optimum_boost_rounds))\n",
    "    print('Best CV result = {}'.format(np.max(cv_results['auc-mean'])))\n",
    "\n",
    "    clf = lgbm.train(train_set=lgbm_train,\n",
    "                     params=lgbm_params,\n",
    "                     num_boost_round=optimum_boost_rounds)\n",
    "    return out_df, small_len, large_len, clf"
   ]
  },
  {
   "cell_type": "code",
   "execution_count": null,
   "metadata": {
    "ExecuteTime": {
     "start_time": "2018-06-28T17:31:13.899Z"
    }
   },
   "outputs": [
    {
     "name": "stdout",
     "output_type": "stream",
     "text": [
      "begin cv\n"
     ]
    },
    {
     "name": "stderr",
     "output_type": "stream",
     "text": [
      "/home/kai/anaconda3/lib/python3.6/site-packages/lightgbm/engine.py:390: UserWarning: Found `num_iteration` in params. Will use it instead of argument\n",
      "  warnings.warn(\"Found `{}` in params. Will use it instead of argument\".format(alias))\n",
      "/home/kai/anaconda3/lib/python3.6/site-packages/lightgbm/basic.py:1027: UserWarning: Using categorical_feature in Dataset.\n",
      "  warnings.warn('Using categorical_feature in Dataset.')\n"
     ]
    },
    {
     "name": "stdout",
     "output_type": "stream",
     "text": [
      "[100]\tcv_agg's auc: 0.773998 + 0.00371019\n",
      "[200]\tcv_agg's auc: 0.784219 + 0.00345067\n",
      "[300]\tcv_agg's auc: 0.787647 + 0.00310528\n",
      "[400]\tcv_agg's auc: 0.78917 + 0.00309462\n",
      "[500]\tcv_agg's auc: 0.790046 + 0.00317421\n",
      "[600]\tcv_agg's auc: 0.790345 + 0.00308064\n",
      "[700]\tcv_agg's auc: 0.790336 + 0.0029856\n",
      "Optimum boost rounds = 638\n",
      "Best CV result = 0.7903991373954783\n"
     ]
    },
    {
     "name": "stderr",
     "output_type": "stream",
     "text": [
      "/home/kai/anaconda3/lib/python3.6/site-packages/lightgbm/basic.py:1027: UserWarning: Using categorical_feature in Dataset.\n",
      "  warnings.warn('Using categorical_feature in Dataset.')\n"
     ]
    }
   ],
   "source": [
    "n_splits = 5\n",
    "pred1, small, large, clf = model_2(train, test, 0.1, 0.2,n_splits)"
   ]
  },
  {
   "cell_type": "markdown",
   "metadata": {},
   "source": [
    "ALL\n",
    "[100]\tcv_agg's auc: 0.7795 + 0.00411813\n",
    "[200]\tcv_agg's auc: 0.789489 + 0.0034798\n",
    "[300]\tcv_agg's auc: 0.792526 + 0.00351702\n",
    "[400]\tcv_agg's auc: 0.7936 + 0.00338604\n",
    "[500]\tcv_agg's auc: 0.794217 + 0.00323238\n",
    "[600]\tcv_agg's auc: 0.794211 + 0.00315142\n",
    "[700]\tcv_agg's auc: 0.794229 + 0.00328479\n",
    "Optimum boost rounds = 550\n",
    "Best CV result = 0.7943004497519002"
   ]
  },
  {
   "cell_type": "markdown",
   "metadata": {},
   "source": [
    "sth2prev2curr no sum\n",
    "[100]\tcv_agg's auc: 0.777611 + 0.00437966\n",
    "[200]\tcv_agg's auc: 0.784903 + 0.00415943\n",
    "[300]\tcv_agg's auc: 0.786765 + 0.00370779\n",
    "[400]\tcv_agg's auc: 0.787215 + 0.00346352\n",
    "[500]\tcv_agg's auc: 0.787577 + 0.00352841 "
   ]
  },
  {
   "cell_type": "code",
   "execution_count": 8,
   "metadata": {
    "ExecuteTime": {
     "end_time": "2018-06-28T16:50:03.675242Z",
     "start_time": "2018-06-28T16:39:02.755541Z"
    }
   },
   "outputs": [
    {
     "name": "stdout",
     "output_type": "stream",
     "text": [
      "poscash2curr.pkl\n",
      "(356255, 101)\n",
      "train&test, shape (307511, 429) (48744, 428)\n",
      "bureau2curr.pkl\n",
      "(356255, 460)\n",
      "train&test, shape (307511, 888) (48744, 887)\n",
      "prev2curr.pkl\n",
      "(356255, 536)\n",
      "train&test, shape (307511, 1423) (48744, 1422)\n",
      "credit2curr.pkl\n",
      "(356255, 382)\n",
      "train&test, shape (307511, 1804) (48744, 1803)\n",
      "install2curr.pkl\n",
      "(356255, 51)\n",
      "train&test, shape (307511, 1854) (48744, 1853)\n",
      "linearposcash2curr.pkl\n",
      "train&test, shape (307511, 1858) (48744, 1857)\n",
      "linearbureau2curr.pkl\n",
      "train&test, shape (307511, 1874) (48744, 1873)\n",
      "linearinstal2curr.pkl\n",
      "train&test, shape (307511, 1880) (48744, 1879)\n",
      "linearcredit2curr.pkl\n",
      "train&test, shape (307511, 1894) (48744, 1893)\n",
      "begin cv\n"
     ]
    },
    {
     "name": "stderr",
     "output_type": "stream",
     "text": [
      "/home/kai/anaconda3/lib/python3.6/site-packages/lightgbm/engine.py:390: UserWarning: Found `num_iteration` in params. Will use it instead of argument\n",
      "  warnings.warn(\"Found `{}` in params. Will use it instead of argument\".format(alias))\n",
      "/home/kai/anaconda3/lib/python3.6/site-packages/lightgbm/basic.py:1027: UserWarning: Using categorical_feature in Dataset.\n",
      "  warnings.warn('Using categorical_feature in Dataset.')\n"
     ]
    },
    {
     "name": "stdout",
     "output_type": "stream",
     "text": [
      "[100]\tcv_agg's auc: 0.7795 + 0.00411813\n"
     ]
    },
    {
     "ename": "KeyboardInterrupt",
     "evalue": "",
     "output_type": "error",
     "traceback": [
      "\u001b[0;31m---------------------------------------------------------------------------\u001b[0m",
      "\u001b[0;31mKeyboardInterrupt\u001b[0m                         Traceback (most recent call last)",
      "\u001b[0;32m<ipython-input-8-cd937c4bf3fe>\u001b[0m in \u001b[0;36m<module>\u001b[0;34m()\u001b[0m\n\u001b[1;32m     38\u001b[0m \u001b[0;34m\u001b[0m\u001b[0m\n\u001b[1;32m     39\u001b[0m \u001b[0mn_splits\u001b[0m \u001b[0;34m=\u001b[0m \u001b[0;36m5\u001b[0m\u001b[0;34m\u001b[0m\u001b[0m\n\u001b[0;32m---> 40\u001b[0;31m \u001b[0mpred1\u001b[0m\u001b[0;34m,\u001b[0m \u001b[0msmall\u001b[0m\u001b[0;34m,\u001b[0m \u001b[0mlarge\u001b[0m\u001b[0;34m,\u001b[0m \u001b[0mclf\u001b[0m \u001b[0;34m=\u001b[0m \u001b[0mmodel_2\u001b[0m\u001b[0;34m(\u001b[0m\u001b[0mtrain\u001b[0m\u001b[0;34m,\u001b[0m \u001b[0mtest\u001b[0m\u001b[0;34m,\u001b[0m \u001b[0;36m0.1\u001b[0m\u001b[0;34m,\u001b[0m \u001b[0;36m0.2\u001b[0m\u001b[0;34m,\u001b[0m\u001b[0mn_splits\u001b[0m\u001b[0;34m)\u001b[0m\u001b[0;34m\u001b[0m\u001b[0m\n\u001b[0m",
      "\u001b[0;32m<ipython-input-6-7b7ad18c8c3f>\u001b[0m in \u001b[0;36mmodel_2\u001b[0;34m(train_df, test_df, threshold1, threshold2, n_splits)\u001b[0m\n\u001b[1;32m     43\u001b[0m                          \u001b[0mearly_stopping_rounds\u001b[0m\u001b[0;34m=\u001b[0m\u001b[0;36m150\u001b[0m\u001b[0;34m,\u001b[0m\u001b[0;34m\u001b[0m\u001b[0m\n\u001b[1;32m     44\u001b[0m                          \u001b[0mverbose_eval\u001b[0m\u001b[0;34m=\u001b[0m\u001b[0;36m100\u001b[0m\u001b[0;34m,\u001b[0m\u001b[0;34m\u001b[0m\u001b[0m\n\u001b[0;32m---> 45\u001b[0;31m                          metrics=['auc'])\n\u001b[0m\u001b[1;32m     46\u001b[0m \u001b[0;34m\u001b[0m\u001b[0m\n\u001b[1;32m     47\u001b[0m     \u001b[0moptimum_boost_rounds\u001b[0m \u001b[0;34m=\u001b[0m \u001b[0mnp\u001b[0m\u001b[0;34m.\u001b[0m\u001b[0margmax\u001b[0m\u001b[0;34m(\u001b[0m\u001b[0mcv_results\u001b[0m\u001b[0;34m[\u001b[0m\u001b[0;34m'auc-mean'\u001b[0m\u001b[0;34m]\u001b[0m\u001b[0;34m)\u001b[0m\u001b[0;34m\u001b[0m\u001b[0m\n",
      "\u001b[0;32m~/anaconda3/lib/python3.6/site-packages/lightgbm/engine.py\u001b[0m in \u001b[0;36mcv\u001b[0;34m(params, train_set, num_boost_round, folds, nfold, stratified, shuffle, metrics, fobj, feval, init_model, feature_name, categorical_feature, early_stopping_rounds, fpreproc, verbose_eval, show_stdv, seed, callbacks)\u001b[0m\n\u001b[1;32m    445\u001b[0m                                     \u001b[0mend_iteration\u001b[0m\u001b[0;34m=\u001b[0m\u001b[0mnum_boost_round\u001b[0m\u001b[0;34m,\u001b[0m\u001b[0;34m\u001b[0m\u001b[0m\n\u001b[1;32m    446\u001b[0m                                     evaluation_result_list=None))\n\u001b[0;32m--> 447\u001b[0;31m         \u001b[0mcvfolds\u001b[0m\u001b[0;34m.\u001b[0m\u001b[0mupdate\u001b[0m\u001b[0;34m(\u001b[0m\u001b[0mfobj\u001b[0m\u001b[0;34m=\u001b[0m\u001b[0mfobj\u001b[0m\u001b[0;34m)\u001b[0m\u001b[0;34m\u001b[0m\u001b[0m\n\u001b[0m\u001b[1;32m    448\u001b[0m         \u001b[0mres\u001b[0m \u001b[0;34m=\u001b[0m \u001b[0m_agg_cv_result\u001b[0m\u001b[0;34m(\u001b[0m\u001b[0mcvfolds\u001b[0m\u001b[0;34m.\u001b[0m\u001b[0meval_valid\u001b[0m\u001b[0;34m(\u001b[0m\u001b[0mfeval\u001b[0m\u001b[0;34m)\u001b[0m\u001b[0;34m)\u001b[0m\u001b[0;34m\u001b[0m\u001b[0m\n\u001b[1;32m    449\u001b[0m         \u001b[0;32mfor\u001b[0m \u001b[0m_\u001b[0m\u001b[0;34m,\u001b[0m \u001b[0mkey\u001b[0m\u001b[0;34m,\u001b[0m \u001b[0mmean\u001b[0m\u001b[0;34m,\u001b[0m \u001b[0m_\u001b[0m\u001b[0;34m,\u001b[0m \u001b[0mstd\u001b[0m \u001b[0;32min\u001b[0m \u001b[0mres\u001b[0m\u001b[0;34m:\u001b[0m\u001b[0;34m\u001b[0m\u001b[0m\n",
      "\u001b[0;32m~/anaconda3/lib/python3.6/site-packages/lightgbm/engine.py\u001b[0m in \u001b[0;36mhandlerFunction\u001b[0;34m(*args, **kwargs)\u001b[0m\n\u001b[1;32m    244\u001b[0m             \u001b[0mret\u001b[0m \u001b[0;34m=\u001b[0m \u001b[0;34m[\u001b[0m\u001b[0;34m]\u001b[0m\u001b[0;34m\u001b[0m\u001b[0m\n\u001b[1;32m    245\u001b[0m             \u001b[0;32mfor\u001b[0m \u001b[0mbooster\u001b[0m \u001b[0;32min\u001b[0m \u001b[0mself\u001b[0m\u001b[0;34m.\u001b[0m\u001b[0mboosters\u001b[0m\u001b[0;34m:\u001b[0m\u001b[0;34m\u001b[0m\u001b[0m\n\u001b[0;32m--> 246\u001b[0;31m                 \u001b[0mret\u001b[0m\u001b[0;34m.\u001b[0m\u001b[0mappend\u001b[0m\u001b[0;34m(\u001b[0m\u001b[0mgetattr\u001b[0m\u001b[0;34m(\u001b[0m\u001b[0mbooster\u001b[0m\u001b[0;34m,\u001b[0m \u001b[0mname\u001b[0m\u001b[0;34m)\u001b[0m\u001b[0;34m(\u001b[0m\u001b[0;34m*\u001b[0m\u001b[0margs\u001b[0m\u001b[0;34m,\u001b[0m \u001b[0;34m**\u001b[0m\u001b[0mkwargs\u001b[0m\u001b[0;34m)\u001b[0m\u001b[0;34m)\u001b[0m\u001b[0;34m\u001b[0m\u001b[0m\n\u001b[0m\u001b[1;32m    247\u001b[0m             \u001b[0;32mreturn\u001b[0m \u001b[0mret\u001b[0m\u001b[0;34m\u001b[0m\u001b[0m\n\u001b[1;32m    248\u001b[0m         \u001b[0;32mreturn\u001b[0m \u001b[0mhandlerFunction\u001b[0m\u001b[0;34m\u001b[0m\u001b[0m\n",
      "\u001b[0;32m~/anaconda3/lib/python3.6/site-packages/lightgbm/basic.py\u001b[0m in \u001b[0;36mupdate\u001b[0;34m(self, train_set, fobj)\u001b[0m\n\u001b[1;32m   1508\u001b[0m             _safe_call(_LIB.LGBM_BoosterUpdateOneIter(\n\u001b[1;32m   1509\u001b[0m                 \u001b[0mself\u001b[0m\u001b[0;34m.\u001b[0m\u001b[0mhandle\u001b[0m\u001b[0;34m,\u001b[0m\u001b[0;34m\u001b[0m\u001b[0m\n\u001b[0;32m-> 1510\u001b[0;31m                 ctypes.byref(is_finished)))\n\u001b[0m\u001b[1;32m   1511\u001b[0m             \u001b[0mself\u001b[0m\u001b[0;34m.\u001b[0m\u001b[0m__is_predicted_cur_iter\u001b[0m \u001b[0;34m=\u001b[0m \u001b[0;34m[\u001b[0m\u001b[0;32mFalse\u001b[0m \u001b[0;32mfor\u001b[0m \u001b[0m_\u001b[0m \u001b[0;32min\u001b[0m \u001b[0mrange_\u001b[0m\u001b[0;34m(\u001b[0m\u001b[0mself\u001b[0m\u001b[0;34m.\u001b[0m\u001b[0m__num_dataset\u001b[0m\u001b[0;34m)\u001b[0m\u001b[0;34m]\u001b[0m\u001b[0;34m\u001b[0m\u001b[0m\n\u001b[1;32m   1512\u001b[0m             \u001b[0;32mreturn\u001b[0m \u001b[0mis_finished\u001b[0m\u001b[0;34m.\u001b[0m\u001b[0mvalue\u001b[0m \u001b[0;34m==\u001b[0m \u001b[0;36m1\u001b[0m\u001b[0;34m\u001b[0m\u001b[0m\n",
      "\u001b[0;31mKeyboardInterrupt\u001b[0m: "
     ]
    }
   ],
   "source": [
    "import pandas as pd\n",
    "import os\n",
    "import gc\n",
    "\n",
    "PATH = '/home/kai/data/kaggle/homecredit/'\n",
    "\n",
    "train = pd.read_pickle(PATH + 'inter/train_only_0.pkl')\n",
    "test = pd.read_pickle(PATH + 'inter/test_only_0.pkl')\n",
    "\n",
    "train.shape, test.shape\n",
    "\n",
    "for x in os.listdir(PATH + 'inter/'):\n",
    "    if 'curr' in x:\n",
    "        if x != '06_27bureau2curr.pkl':\n",
    "            print(x)\n",
    "            tmp = pd.read_pickle(PATH + 'inter/' + x)\n",
    "            print(tmp.shape)\n",
    "            col = [i for i in tmp.columns]\n",
    "            train = train.merge(tmp[col], on='SK_ID_CURR', how='left')\n",
    "            test = test.merge(tmp[col], on='SK_ID_CURR', how='left')\n",
    "            print('train&test, shape',train.shape, test.shape)\n",
    "            del tmp\n",
    "            gc.collect()\n",
    "        \n",
    "\n",
    "for x in os.listdir(PATH + 'inter/linear/'):\n",
    "    if x.split('.')[-1] == 'pkl':\n",
    "        print(x)\n",
    "        tmp = pd.read_pickle(PATH + 'inter/linear/' + x)\n",
    "        col = [i for i in tmp.columns]\n",
    "        train = train.merge(tmp[col], on='SK_ID_CURR', how='left')\n",
    "        test = test.merge(tmp[col], on='SK_ID_CURR', how='left')\n",
    "        del tmp\n",
    "        gc.collect()\n",
    "        print('train&test, shape',train.shape, test.shape)\n",
    "\n",
    "'done'\n",
    "\n",
    "n_splits = 5\n",
    "pred1, small, large, clf = model_2(train, test, 0.1, 0.2,n_splits)"
   ]
  },
  {
   "cell_type": "code",
   "execution_count": null,
   "metadata": {},
   "outputs": [],
   "source": []
  }
 ],
 "metadata": {
  "kernelspec": {
   "display_name": "Python 3",
   "language": "python",
   "name": "python3"
  },
  "varInspector": {
   "cols": {
    "lenName": 16,
    "lenType": 16,
    "lenVar": 40
   },
   "kernels_config": {
    "python": {
     "delete_cmd_postfix": "",
     "delete_cmd_prefix": "del ",
     "library": "var_list.py",
     "varRefreshCmd": "print(var_dic_list())"
    },
    "r": {
     "delete_cmd_postfix": ") ",
     "delete_cmd_prefix": "rm(",
     "library": "var_list.r",
     "varRefreshCmd": "cat(var_dic_list()) "
    }
   },
   "types_to_exclude": [
    "module",
    "function",
    "builtin_function_or_method",
    "instance",
    "_Feature"
   ],
   "window_display": false
  }
 },
 "nbformat": 4,
 "nbformat_minor": 2
}
