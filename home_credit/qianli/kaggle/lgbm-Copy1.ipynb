{
 "cells": [
  {
   "cell_type": "code",
   "execution_count": 1,
   "metadata": {
    "ExecuteTime": {
     "end_time": "2018-06-21T19:24:10.094779Z",
     "start_time": "2018-06-21T19:24:02.488555Z"
    }
   },
   "outputs": [
    {
     "name": "stdout",
     "output_type": "stream",
     "text": [
      "done\n"
     ]
    }
   ],
   "source": [
    "import pandas as pd\n",
    "import numpy as np\n",
    "import numpy as np\n",
    "import pandas as pd\n",
    "import gc\n",
    "import time\n",
    "from contextlib import contextmanager\n",
    "from lightgbm import LGBMClassifier\n",
    "from sklearn.metrics import roc_auc_score, roc_curve\n",
    "from sklearn.model_selection import KFold, StratifiedKFold\n",
    "import matplotlib.pyplot as plt\n",
    "import seaborn as sns\n",
    "import warnings\n",
    "\n",
    "PATH = '/home/kai/data/kaggle/homecredit/'\n",
    "\n",
    "train_cleaned = pd.read_csv(PATH+'application_train.csv')\n",
    "\n",
    "test_cleaned = pd.read_csv(PATH+'application_test.csv')\n",
    "\n",
    "# train_cleaned = pd.read_pickle(PATH + 'inter/train_only_0.pkl')\n",
    "# test_cleaned = pd.read_pickle(PATH + 'inter/test_only_0.pkl')\n",
    "print('done')"
   ]
  },
  {
   "cell_type": "code",
   "execution_count": 2,
   "metadata": {
    "ExecuteTime": {
     "end_time": "2018-06-21T19:24:15.610391Z",
     "start_time": "2018-06-21T19:24:15.015007Z"
    }
   },
   "outputs": [],
   "source": [
    "target = train_cleaned['TARGET']\n",
    "ignore_cols = ['ORGANIZATION_TYPE', 'TARGET', 'SK_ID_CURR', 'tmp_idx']\n",
    "categorical_feats = [x for x in train_cleaned.columns if train_cleaned[x].dtype == 'object']\n",
    "categorical_feats = [x for x in categorical_feats if x not in ignore_cols]\n",
    "features = [x for x in train_cleaned.columns if x not in ignore_cols + categorical_feats]\n",
    "\n",
    "train = train_cleaned[features]\n",
    "test = test_cleaned[features]"
   ]
  },
  {
   "cell_type": "code",
   "execution_count": 3,
   "metadata": {
    "ExecuteTime": {
     "end_time": "2018-06-21T19:24:18.430414Z",
     "start_time": "2018-06-21T19:24:18.427505Z"
    }
   },
   "outputs": [
    {
     "name": "stdout",
     "output_type": "stream",
     "text": [
      "(307511, 104) (48744, 104)\n"
     ]
    }
   ],
   "source": [
    "print(train.shape, test.shape)"
   ]
  },
  {
   "cell_type": "code",
   "execution_count": 4,
   "metadata": {
    "ExecuteTime": {
     "end_time": "2018-06-21T19:26:20.498560Z",
     "start_time": "2018-06-21T19:24:34.833293Z"
    },
    "scrolled": false
   },
   "outputs": [
    {
     "name": "stderr",
     "output_type": "stream",
     "text": [
      "/home/kai/anaconda3/lib/python3.6/site-packages/lightgbm/engine.py:390: UserWarning: Found `num_iteration` in params. Will use it instead of argument\n",
      "  warnings.warn(\"Found `{}` in params. Will use it instead of argument\".format(alias))\n",
      "/home/kai/anaconda3/lib/python3.6/site-packages/lightgbm/basic.py:1027: UserWarning: Using categorical_feature in Dataset.\n",
      "  warnings.warn('Using categorical_feature in Dataset.')\n"
     ]
    },
    {
     "name": "stdout",
     "output_type": "stream",
     "text": [
      "[100]\tcv_agg's auc: 0.730152 + 0.00350847\n",
      "[200]\tcv_agg's auc: 0.733479 + 0.00364645\n",
      "[300]\tcv_agg's auc: 0.737691 + 0.00362347\n",
      "[400]\tcv_agg's auc: 0.742216 + 0.00333477\n",
      "[500]\tcv_agg's auc: 0.746401 + 0.00330098\n",
      "Optimum boost rounds = 499\n",
      "Best CV result = 0.7464006329994687\n",
      "CPU times: user 20min 23s, sys: 6.07 s, total: 20min 29s\n",
      "Wall time: 1min 45s\n"
     ]
    }
   ],
   "source": [
    "%%time\n",
    "\n",
    "from sklearn.model_selection import StratifiedKFold\n",
    "from lightgbm import LGBMClassifier\n",
    "from sklearn.metrics import roc_auc_score\n",
    "import lightgbm as lgbm\n",
    "\n",
    "lgbm_train = lgbm.Dataset(data=train,\n",
    "                          label=target,\n",
    "                          categorical_feature=[],#categorical_feats,\n",
    "                          free_raw_data=False)\n",
    "\n",
    "# lgbm_params = {'num_threads': 16, 'task': 'train', 'boosting_type': 'gbdt', 'objective': 'binary', 'metric': 'auc', \n",
    "#           'learning_rate': 0.01, 'num_leaves': 48, 'num_iteration': 10000, 'verbose': 100,\n",
    "#           'colsample_bytree':.8, 'subsample':.9, 'max_depth':7, 'reg_alpha':.1, 'reg_lambda':.1, \n",
    "#           'min_split_gain':.01, 'min_child_weight':1}\n",
    "\n",
    "# lgbm_params ={ 'nthread' : 8,\n",
    "#         'n_estimators':10000,\n",
    "#         'learning_rate':0.02,\n",
    "#               'num_rounds':500,\n",
    "#         'num_leaves':34,\n",
    "#         'colsample_bytree':0.9497036,\n",
    "#         'subsample':0.8715623,\n",
    "#         'max_depth':8,\n",
    "#         'reg_alpha':0.041545473,\n",
    "#         'reg_lambda':0.0735294,\n",
    "#         'min_split_gain':0.0222415,\n",
    "#         'min_child_weight':39.3259775,\n",
    "#         'silent':-1,\n",
    "#         'verbose':-1, }\n",
    "lgbm_params = {'task': 'train', 'boosting_type': 'gbdt', 'objective': 'binary', 'metric': 'auc', \n",
    "          'learning_rate': 0.01, 'num_leaves': 48, 'num_iteration': 500, 'verbose': 0 ,\n",
    "          'colsample_bytree':.8, 'subsample':.9, 'max_depth':7, 'reg_alpha':.1, 'reg_lambda':.1, \n",
    "          'min_split_gain':.01, 'min_child_weight':1,'num_threads': 12,'feature_fraction': 0.9}\n",
    "\n",
    "cv_results = lgbm.cv(train_set=lgbm_train,\n",
    "                     params=lgbm_params,\n",
    "                     nfold=5,\n",
    "                     early_stopping_rounds=150,\n",
    "                     verbose_eval=100,\n",
    "                     metrics=['auc'])\n",
    "\n",
    "optimum_boost_rounds = np.argmax(cv_results['auc-mean'])\n",
    "print('Optimum boost rounds = {}'.format(optimum_boost_rounds))\n",
    "print('Best CV result = {}'.format(np.max(cv_results['auc-mean'])))"
   ]
  },
  {
   "cell_type": "code",
   "execution_count": 5,
   "metadata": {
    "ExecuteTime": {
     "end_time": "2018-06-21T19:26:49.104486Z",
     "start_time": "2018-06-21T19:26:22.860369Z"
    }
   },
   "outputs": [
    {
     "name": "stderr",
     "output_type": "stream",
     "text": [
      "/home/kai/anaconda3/lib/python3.6/site-packages/lightgbm/basic.py:1027: UserWarning: Using categorical_feature in Dataset.\n",
      "  warnings.warn('Using categorical_feature in Dataset.')\n"
     ]
    },
    {
     "name": "stdout",
     "output_type": "stream",
     "text": [
      "done\n"
     ]
    }
   ],
   "source": [
    "# clf = lgbm.train(train_set=lgbm_train,\n",
    "#                  params=lgbm_params,\n",
    "#                  num_boost_round=int(optimum_boost_rounds*1.1))\n",
    "clf = lgbm.train(train_set=lgbm_train,\n",
    "                 params=lgbm_params,\n",
    "                 num_boost_round=int(optimum_boost_rounds*1))\n",
    "\n",
    "\"\"\" Predict on test set and create submission \"\"\"\n",
    "y_pred = clf.predict(test)\n",
    "out_df = pd.DataFrame({'SK_ID_CURR': test_cleaned['SK_ID_CURR'], 'TARGET': y_pred})\n",
    "print('done')"
   ]
  },
  {
   "cell_type": "code",
   "execution_count": 9,
   "metadata": {
    "ExecuteTime": {
     "end_time": "2018-06-21T19:28:32.368493Z",
     "start_time": "2018-06-21T19:28:32.364795Z"
    }
   },
   "outputs": [
    {
     "data": {
      "text/plain": [
       "21"
      ]
     },
     "execution_count": 9,
     "metadata": {},
     "output_type": "execute_result"
    }
   ],
   "source": [
    "(y_pred >0.5).sum()"
   ]
  },
  {
   "cell_type": "markdown",
   "metadata": {},
   "source": [
    "# submission"
   ]
  },
  {
   "cell_type": "code",
   "execution_count": null,
   "metadata": {
    "ExecuteTime": {
     "end_time": "2018-06-21T19:20:47.086455Z",
     "start_time": "2018-06-21T19:20:34.132Z"
    }
   },
   "outputs": [],
   "source": [
    "print((out_df['TARGET']>0.5).sum())\n",
    "\n",
    "out_df.to_csv(PATH + 'submission/6_21_train.csv', index=False)\n",
    "print('done')"
   ]
  },
  {
   "cell_type": "code",
   "execution_count": null,
   "metadata": {
    "ExecuteTime": {
     "end_time": "2018-06-21T19:20:47.087257Z",
     "start_time": "2018-06-21T19:20:34.133Z"
    },
    "scrolled": true
   },
   "outputs": [],
   "source": [
    "out_df[out_df['TARGET']< 0]"
   ]
  },
  {
   "cell_type": "markdown",
   "metadata": {},
   "source": [
    "# Display Importance"
   ]
  },
  {
   "cell_type": "code",
   "execution_count": null,
   "metadata": {
    "ExecuteTime": {
     "end_time": "2018-06-21T19:20:47.088052Z",
     "start_time": "2018-06-21T19:20:34.136Z"
    },
    "scrolled": false
   },
   "outputs": [],
   "source": [
    "import matplotlib.pyplot as plt\n",
    "out_df[['TARGET']].hist()\n",
    "plt.show()"
   ]
  },
  {
   "cell_type": "code",
   "execution_count": null,
   "metadata": {
    "ExecuteTime": {
     "end_time": "2018-06-21T19:20:47.088822Z",
     "start_time": "2018-06-21T19:20:34.138Z"
    },
    "collapsed": true
   },
   "outputs": [],
   "source": [
    "import matplotlib.pyplot as plt\n",
    "\n",
    "fig, (ax, ax1) = plt.subplots(1, 2, figsize=[15, 7])\n",
    "lgbm.plot_importance(clf, ax=ax, max_num_features=30, importance_type='split')\n",
    "lgbm.plot_importance(clf, ax=ax1, max_num_features=30, importance_type='gain')\n",
    "ax.set_title('Importance by splits')\n",
    "ax1.set_title('Importance by gain')\n",
    "plt.tight_layout()\n",
    "plt.show()"
   ]
  },
  {
   "cell_type": "markdown",
   "metadata": {},
   "source": [
    "# Display Importance"
   ]
  },
  {
   "cell_type": "code",
   "execution_count": null,
   "metadata": {
    "ExecuteTime": {
     "end_time": "2018-06-21T19:20:47.089557Z",
     "start_time": "2018-06-21T19:20:34.139Z"
    },
    "collapsed": true,
    "scrolled": false
   },
   "outputs": [],
   "source": [
    "import json\n",
    "\n",
    "y = [x for x in zip(clf.feature_name(), clf.feature_importance('gain'))]\n",
    "y.sort(key=lambda x: x[1], reverse=True)\n",
    "y = [(i, j) for i, j in enumerate(y)]\n",
    "y\n",
    "# with open('./importance_gain.json') as f:\n",
    "#     json.dump(x, f)"
   ]
  },
  {
   "cell_type": "code",
   "execution_count": null,
   "metadata": {
    "ExecuteTime": {
     "end_time": "2018-06-21T19:20:47.090315Z",
     "start_time": "2018-06-21T19:20:34.141Z"
    },
    "collapsed": true,
    "scrolled": false
   },
   "outputs": [],
   "source": [
    "x = [x for x in zip(clf.feature_name(), clf.feature_importance('split'))]\n",
    "x.sort(key=lambda x: x[1], reverse=True)\n",
    "x = [(i, j) for i, j in enumerate(x)]\n",
    "x\n",
    "# with open('./importance_split.json') as f:\n",
    "#     json.dump(x, f)"
   ]
  }
 ],
 "metadata": {
  "kernelspec": {
   "display_name": "Python 3",
   "language": "python",
   "name": "python3"
  },
  "language_info": {
   "codemirror_mode": {
    "name": "ipython",
    "version": 3
   },
   "file_extension": ".py",
   "mimetype": "text/x-python",
   "name": "python",
   "nbconvert_exporter": "python",
   "pygments_lexer": "ipython3",
   "version": "3.6.3"
  },
  "varInspector": {
   "cols": {
    "lenName": 16,
    "lenType": 16,
    "lenVar": 40
   },
   "kernels_config": {
    "python": {
     "delete_cmd_postfix": "",
     "delete_cmd_prefix": "del ",
     "library": "var_list.py",
     "varRefreshCmd": "print(var_dic_list())"
    },
    "r": {
     "delete_cmd_postfix": ") ",
     "delete_cmd_prefix": "rm(",
     "library": "var_list.r",
     "varRefreshCmd": "cat(var_dic_list()) "
    }
   },
   "types_to_exclude": [
    "module",
    "function",
    "builtin_function_or_method",
    "instance",
    "_Feature"
   ],
   "window_display": false
  }
 },
 "nbformat": 4,
 "nbformat_minor": 2
}
