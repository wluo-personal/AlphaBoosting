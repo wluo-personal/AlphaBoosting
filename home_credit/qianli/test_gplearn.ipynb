{
 "cells": [
  {
   "cell_type": "code",
   "execution_count": 2,
   "metadata": {
    "ExecuteTime": {
     "end_time": "2018-06-07T15:20:16.911622Z",
     "start_time": "2018-06-07T15:20:16.524865Z"
    },
    "collapsed": true
   },
   "outputs": [],
   "source": [
    "import pandas as pd\n",
    "import lightgbm as lgb\n",
    "import sklearn\n",
    "import gplearn\n",
    "import numpy as np\n",
    "import gc\n",
    "import os"
   ]
  },
  {
   "cell_type": "code",
   "execution_count": 3,
   "metadata": {
    "ExecuteTime": {
     "end_time": "2018-06-07T15:20:17.533310Z",
     "start_time": "2018-06-07T15:20:17.523555Z"
    },
    "collapsed": true
   },
   "outputs": [],
   "source": [
    "from gplearn.genetic import SymbolicTransformer"
   ]
  },
  {
   "cell_type": "code",
   "execution_count": 4,
   "metadata": {
    "ExecuteTime": {
     "end_time": "2018-06-07T15:20:17.890255Z",
     "start_time": "2018-06-07T15:20:17.886931Z"
    },
    "collapsed": true
   },
   "outputs": [],
   "source": [
    "Path = '/home/kai/data/kaggle/talkingdata/4thplace/'"
   ]
  },
  {
   "cell_type": "code",
   "execution_count": 5,
   "metadata": {
    "ExecuteTime": {
     "end_time": "2018-06-07T15:20:18.850361Z",
     "start_time": "2018-06-07T15:20:18.448536Z"
    },
    "collapsed": true
   },
   "outputs": [],
   "source": [
    "train_original = pd.read_feather(Path + '0.ftr')"
   ]
  },
  {
   "cell_type": "code",
   "execution_count": 6,
   "metadata": {
    "ExecuteTime": {
     "end_time": "2018-06-07T15:20:19.323005Z",
     "start_time": "2018-06-07T15:20:19.315684Z"
    }
   },
   "outputs": [
    {
     "data": {
      "text/plain": [
       "array(['index', 'ip', 'app', 'device', 'os', 'channel', 'click_time',\n",
       "       'is_attributed', 'click_id', 'is_test', 'day', 'hour', 'minute',\n",
       "       'minute10', 'hourminute', 'hourminute10', 'dayhourminute',\n",
       "       'dayhourminute10', 'machine', 'click_timestamp',\n",
       "       'woe_ip_app_channel', 'woe_ip_device_nextClickLeakDayFlt',\n",
       "       'nunique_machine_app', 'woe_os_channel_nextClickLeakDayFlt',\n",
       "       'variance_ip_device_hour',\n",
       "       'range_count_ip_device_os_dayhourminute10',\n",
       "       'woe_app_device_os_channel', 'woe_channel',\n",
       "       'count_ip_app_os_channel', 'nunique_day_ip_os', 'count_app_channel',\n",
       "       'woe_app_nextClickLeakDayFlt', 'woe_ip_channel',\n",
       "       'unique_ratio_day_ip_machine', 'nunique_machine_channel',\n",
       "       'time_to_n_next_click_1_day_ip_app_device_os', 'woe_os',\n",
       "       'woe_ip_device_os_channel', 'count_ip_app_device_day', 'com1_ip',\n",
       "       'unique_ratio_machine_ip', 'count_ratio_ip_machine',\n",
       "       'count_ip_app_device_os_day_hour', 'count_app_device_day_hour',\n",
       "       'woe_app_device_os', 'woe_ip_app_os_channel',\n",
       "       'range_count_app_os_channel_dayhourminute10', 'woe_app_os_channel',\n",
       "       'unique_ratio_machine_app', 'unique_ratio_day_ip_channel', 'woe_ip',\n",
       "       'filter_time_to_n_next_click_1_day_ip_app_device_os',\n",
       "       'cumcount_ip_day', 'nunique_day_ip_channel',\n",
       "       'woe_ip_channel_nextClickLeakDayFlt', 'woe_ip_device',\n",
       "       'range_count_ip_channel_dayhourminute10',\n",
       "       'cumcount_app_device_os_day', 'count_ip_day',\n",
       "       'count_ratio_app_channel', 'woe_ip_app_nextClickLeakDayFlt',\n",
       "       'count_app_day_hourminute', 'count_ratio_channel_app',\n",
       "       'nunique_day_ip_device', 'range_count_app_os_channel_dayhourminute',\n",
       "       'range_count_ip_device_os_dayhourminute',\n",
       "       'woe_device_channel_nextClickLeakDayFlt', 'woe_ip_device_channel',\n",
       "       'woe_ip_app_device_os', 'count_ratio_ip_channel', 'woe_app_device',\n",
       "       'count_ip', 'woe_device_os_nextClickLeakDayFlt',\n",
       "       'nunique_machine_ip', 'count_app_os_channel_day_hour',\n",
       "       'woe_channel_nextClickLeakDayFlt', 'count_ip_os',\n",
       "       'time_to_n_next_click_2_day_ip_app_device_os', 'woe_ip_app_os',\n",
       "       'nunique_day_ip_app', 'woe_app_os', 'woe_ip_app_device',\n",
       "       'cumcount_ip_app_device_os_day_hour', 'range_count_ip_day',\n",
       "       'range_count_ip_channel_dayhourminute', 'woe_ip_app_device_channel',\n",
       "       'unique_ratio_day_ip_os', 'range_count_ip_dayhourminute10',\n",
       "       'woe_ip_nextClickLeakDayFlt', 'woe_device',\n",
       "       'woe_app_device_nextClickLeakDayFlt', 'unique_ratio_day_ip_device',\n",
       "       'count_ip_app_os_channel_day',\n",
       "       'count_ip_device_os_day_hourminute10',\n",
       "       'woe_app_channel_nextClickLeakDayFlt', 'woe_ip_os', 'com_ip',\n",
       "       'nunique_day_ip_machine', 'unique_ratio_machine_channel',\n",
       "       'woe_app_os_nextClickLeakDayFlt', 'woe_ip_os_channel', 'woe_ip_app',\n",
       "       'count_device_os_day_hourminute10',\n",
       "       'filter_time_to_n_next_click_2_day_ip_app_device_os', 'woe_app',\n",
       "       'count_app_device_channel_day_hour',\n",
       "       'woe_ip_os_nextClickLeakDayFlt', 'woe_os_nextClickLeakDayFlt',\n",
       "       'range_count_ip_dayhourminute', 'count_ratio_machine_ip',\n",
       "       'range_count_ip_day_hour', 'woe_app_device_channel',\n",
       "       'woe_ip_device_os', 'unique_ratio_day_ip_app',\n",
       "       'woe_device_nextClickLeakDayFlt', 'count_ip_app_device_channel_day',\n",
       "       'woe_app_channel', 'cumcount_ratio_ip_day'], dtype=object)"
      ]
     },
     "execution_count": 6,
     "metadata": {},
     "output_type": "execute_result"
    }
   ],
   "source": [
    "train_original.columns.values"
   ]
  },
  {
   "cell_type": "code",
   "execution_count": 7,
   "metadata": {
    "ExecuteTime": {
     "end_time": "2018-06-07T15:20:19.708980Z",
     "start_time": "2018-06-07T15:20:19.705702Z"
    }
   },
   "outputs": [
    {
     "name": "stdout",
     "output_type": "stream",
     "text": [
      "(794952, 118)\n"
     ]
    }
   ],
   "source": [
    "print(train_original.shape)\n",
    "# train = pd.concat([train_original, val_original], axis = 0)"
   ]
  },
  {
   "cell_type": "code",
   "execution_count": 8,
   "metadata": {
    "ExecuteTime": {
     "end_time": "2018-06-07T15:20:20.297434Z",
     "start_time": "2018-06-07T15:20:20.290909Z"
    }
   },
   "outputs": [
    {
     "data": {
      "text/plain": [
       "array(['index', 'ip', 'app', 'device', 'os', 'channel', 'click_time',\n",
       "       'is_attributed', 'click_id', 'is_test', 'day', 'hour', 'minute',\n",
       "       'minute10', 'hourminute', 'hourminute10', 'dayhourminute',\n",
       "       'dayhourminute10', 'machine', 'click_timestamp',\n",
       "       'woe_ip_app_channel', 'woe_ip_device_nextClickLeakDayFlt',\n",
       "       'nunique_machine_app', 'woe_os_channel_nextClickLeakDayFlt',\n",
       "       'variance_ip_device_hour',\n",
       "       'range_count_ip_device_os_dayhourminute10',\n",
       "       'woe_app_device_os_channel', 'woe_channel',\n",
       "       'count_ip_app_os_channel', 'nunique_day_ip_os', 'count_app_channel',\n",
       "       'woe_app_nextClickLeakDayFlt', 'woe_ip_channel',\n",
       "       'unique_ratio_day_ip_machine', 'nunique_machine_channel',\n",
       "       'time_to_n_next_click_1_day_ip_app_device_os', 'woe_os',\n",
       "       'woe_ip_device_os_channel', 'count_ip_app_device_day', 'com1_ip',\n",
       "       'unique_ratio_machine_ip', 'count_ratio_ip_machine',\n",
       "       'count_ip_app_device_os_day_hour', 'count_app_device_day_hour',\n",
       "       'woe_app_device_os', 'woe_ip_app_os_channel',\n",
       "       'range_count_app_os_channel_dayhourminute10', 'woe_app_os_channel',\n",
       "       'unique_ratio_machine_app', 'unique_ratio_day_ip_channel', 'woe_ip',\n",
       "       'filter_time_to_n_next_click_1_day_ip_app_device_os',\n",
       "       'cumcount_ip_day', 'nunique_day_ip_channel',\n",
       "       'woe_ip_channel_nextClickLeakDayFlt', 'woe_ip_device',\n",
       "       'range_count_ip_channel_dayhourminute10',\n",
       "       'cumcount_app_device_os_day', 'count_ip_day',\n",
       "       'count_ratio_app_channel', 'woe_ip_app_nextClickLeakDayFlt',\n",
       "       'count_app_day_hourminute', 'count_ratio_channel_app',\n",
       "       'nunique_day_ip_device', 'range_count_app_os_channel_dayhourminute',\n",
       "       'range_count_ip_device_os_dayhourminute',\n",
       "       'woe_device_channel_nextClickLeakDayFlt', 'woe_ip_device_channel',\n",
       "       'woe_ip_app_device_os', 'count_ratio_ip_channel', 'woe_app_device',\n",
       "       'count_ip', 'woe_device_os_nextClickLeakDayFlt',\n",
       "       'nunique_machine_ip', 'count_app_os_channel_day_hour',\n",
       "       'woe_channel_nextClickLeakDayFlt', 'count_ip_os',\n",
       "       'time_to_n_next_click_2_day_ip_app_device_os', 'woe_ip_app_os',\n",
       "       'nunique_day_ip_app', 'woe_app_os', 'woe_ip_app_device',\n",
       "       'cumcount_ip_app_device_os_day_hour', 'range_count_ip_day',\n",
       "       'range_count_ip_channel_dayhourminute', 'woe_ip_app_device_channel',\n",
       "       'unique_ratio_day_ip_os', 'range_count_ip_dayhourminute10',\n",
       "       'woe_ip_nextClickLeakDayFlt', 'woe_device',\n",
       "       'woe_app_device_nextClickLeakDayFlt', 'unique_ratio_day_ip_device',\n",
       "       'count_ip_app_os_channel_day',\n",
       "       'count_ip_device_os_day_hourminute10',\n",
       "       'woe_app_channel_nextClickLeakDayFlt', 'woe_ip_os', 'com_ip',\n",
       "       'nunique_day_ip_machine', 'unique_ratio_machine_channel',\n",
       "       'woe_app_os_nextClickLeakDayFlt', 'woe_ip_os_channel', 'woe_ip_app',\n",
       "       'count_device_os_day_hourminute10',\n",
       "       'filter_time_to_n_next_click_2_day_ip_app_device_os', 'woe_app',\n",
       "       'count_app_device_channel_day_hour',\n",
       "       'woe_ip_os_nextClickLeakDayFlt', 'woe_os_nextClickLeakDayFlt',\n",
       "       'range_count_ip_dayhourminute', 'count_ratio_machine_ip',\n",
       "       'range_count_ip_day_hour', 'woe_app_device_channel',\n",
       "       'woe_ip_device_os', 'unique_ratio_day_ip_app',\n",
       "       'woe_device_nextClickLeakDayFlt', 'count_ip_app_device_channel_day',\n",
       "       'woe_app_channel', 'cumcount_ratio_ip_day'], dtype=object)"
      ]
     },
     "execution_count": 8,
     "metadata": {},
     "output_type": "execute_result"
    }
   ],
   "source": [
    "train_original.columns.values"
   ]
  },
  {
   "cell_type": "code",
   "execution_count": 9,
   "metadata": {
    "ExecuteTime": {
     "end_time": "2018-06-07T15:20:21.089845Z",
     "start_time": "2018-06-07T15:20:21.083153Z"
    },
    "collapsed": true
   },
   "outputs": [],
   "source": [
    "# cols = ['woe_app_channel_nextClickLeakDayFlt', \n",
    "#         'woe_app_os_channel', \n",
    "#         'woe_app_os_nextClickLeakDayFlt',\n",
    "#         'woe_app_device_os_channel',\n",
    "#         'woe_app_nextClickLeakDayFlt',\n",
    "#         'woe_app_channel',\n",
    "#         'woe_app_device_os'\n",
    "#        ]\n",
    "cols = ['cumcount_ratio_ip_day', 'variance_ip_device_hour', 'woe_app_channel_nextClickLeakDayFlt', 'woe_app_os_channel', 'nunique_day_ip_machine', 'nunique_day_ip_app','woe_app_os_nextClickLeakDayFlt','woe_app_device_os_channel','woe_app_nextClickLeakDayFlt','time_to_n_next_click_1_day_ip_app_device_os']"
   ]
  },
  {
   "cell_type": "code",
   "execution_count": 10,
   "metadata": {
    "ExecuteTime": {
     "end_time": "2018-06-07T15:20:21.996049Z",
     "start_time": "2018-06-07T15:20:21.992760Z"
    },
    "collapsed": true
   },
   "outputs": [],
   "source": [
    "# cols = []"
   ]
  },
  {
   "cell_type": "code",
   "execution_count": 11,
   "metadata": {
    "ExecuteTime": {
     "end_time": "2018-06-07T15:20:22.513448Z",
     "start_time": "2018-06-07T15:20:22.509441Z"
    },
    "collapsed": true
   },
   "outputs": [],
   "source": [
    "# Get target col\n",
    "target_array = train_original['is_attributed'].values"
   ]
  },
  {
   "cell_type": "code",
   "execution_count": 12,
   "metadata": {
    "ExecuteTime": {
     "end_time": "2018-06-07T15:20:23.314792Z",
     "start_time": "2018-06-07T15:20:23.248478Z"
    },
    "collapsed": true
   },
   "outputs": [],
   "source": [
    "train_array = train_original[cols].values"
   ]
  },
  {
   "cell_type": "code",
   "execution_count": 15,
   "metadata": {
    "ExecuteTime": {
     "end_time": "2018-06-07T15:33:47.852074Z",
     "start_time": "2018-06-07T15:22:10.771449Z"
    }
   },
   "outputs": [],
   "source": [
    "train_correlations = train_original.corr(method = 'spearman')['is_attributed'].sort_values()"
   ]
  },
  {
   "cell_type": "code",
   "execution_count": 30,
   "metadata": {
    "ExecuteTime": {
     "end_time": "2018-06-07T17:26:30.844153Z",
     "start_time": "2018-06-07T17:26:30.832377Z"
    },
    "collapsed": true
   },
   "outputs": [
    {
     "name": "stdout",
     "output_type": "stream",
     "text": [
      "[ 0.00449252  0.00550383  0.00563494  0.00675875  0.00692652  0.00693784\n",
      "  0.00698565  0.00698618  0.00698618  0.00698878  0.00979151  0.06262207\n",
      "  0.07700649  0.09096568  0.12727049  0.16154448  0.18334107  0.19582774\n",
      "  0.23008546  0.23778724  0.24855884  0.25503288  0.26819794  0.27121131\n",
      "  0.28377899  0.28733673  0.28901124  0.28950139  0.28968914  0.28999994\n",
      "  0.29214694  0.29332229  0.30405961  0.30551245  0.30606593  0.31971443\n",
      "  0.32011775  0.32297864  0.32819927  0.32897225  0.33195352  0.33975505\n",
      "  0.35233788  0.35382058  0.35663938  0.35700275  0.36303022  0.36553421\n",
      "  0.37589123  0.37805224  0.38088304  0.40766476  0.40817879  0.40967886\n",
      "  0.41857207  0.43586337  0.43769233  0.43776251  0.43790846  0.43863981\n",
      "  0.43919278  0.440426    0.44340296  0.44435521  0.44504849  0.44544413\n",
      "  0.44614908  0.44769662  0.45106853  0.45296649  0.45420405  0.4542418\n",
      "  0.45516454  0.45525692  0.4605018   0.4618708   0.46584735  0.47249273\n",
      "  0.47736612  0.48617828  0.49516238  0.50401706  0.53237974  0.54916995\n",
      "  0.5647173   0.57685374  0.59555249  0.60903505  0.61036135  0.63287871\n",
      "  0.64165098  0.6420004   0.64522234  0.66323337  0.66782004  0.69619701\n",
      "  0.70917898  0.7149967   0.74964042  0.75593413  0.76196473  0.76358352\n",
      "  0.76720068  0.77097596  0.77144645  0.77322317  0.78429627  0.78510897\n",
      "  0.79086687  0.79123446  0.79793028  0.79802289  0.80535079  0.81054741\n",
      "  1.                 nan         nan]\n",
      "['com1_ip', 'minute10', 'minute', 'hour', 'hourminute10', 'hourminute', 'dayhourminute', 'click_timestamp', 'index', 'dayhourminute10', 'day', 'count_ratio_ip_channel', 'machine', 'cumcount_ratio_ip_day', 'os', 'count_ratio_ip_machine', 'device', 'woe_ip_nextClickLeakDayFlt', 'nunique_machine_ip', 'unique_ratio_machine_channel', 'channel', 'woe_ip_device_nextClickLeakDayFlt', 'count_device_os_day_hourminute10', 'unique_ratio_machine_app', 'woe_device', 'count_ratio_channel_app', 'count_ratio_app_channel', 'count_ratio_machine_ip', 'nunique_machine_app', 'unique_ratio_machine_ip', 'nunique_machine_channel', 'woe_ip_channel_nextClickLeakDayFlt', 'com_ip', 'woe_ip_os_nextClickLeakDayFlt', 'woe_ip_channel', 'woe_ip', 'woe_ip_app', 'woe_ip_app_nextClickLeakDayFlt', 'range_count_app_os_channel_dayhourminute10', 'cumcount_ip_app_device_os_day_hour', 'woe_ip_device', 'woe_ip_os_channel', 'woe_ip_os', 'ip', 'woe_ip_device_os_channel', 'woe_ip_app_os_channel', 'woe_ip_app_device', 'woe_ip_device_channel', 'woe_ip_app_channel', 'woe_ip_device_os', 'range_count_app_os_channel_dayhourminute', 'nunique_day_ip_device', 'woe_ip_app_device_channel', 'woe_os', 'range_count_ip_day', 'woe_ip_app_os', 'nunique_day_ip_app', 'unique_ratio_day_ip_machine', 'variance_ip_device_hour', 'range_count_ip_dayhourminute10', 'filter_time_to_n_next_click_2_day_ip_app_device_os', 'count_app_os_channel_day_hour', 'range_count_ip_dayhourminute', 'unique_ratio_day_ip_channel', 'nunique_day_ip_channel', 'unique_ratio_day_ip_os', 'cumcount_ip_day', 'count_ip', 'count_ip_app_os_channel_day', 'unique_ratio_day_ip_device', 'unique_ratio_day_ip_app', 'nunique_day_ip_os', 'count_ip_day', 'nunique_day_ip_machine', 'woe_ip_app_device_os', 'range_count_ip_day_hour', 'range_count_ip_device_os_dayhourminute10', 'range_count_ip_device_os_dayhourminute', 'count_ip_app_device_os_day_hour', 'count_ip_os', 'count_ip_app_os_channel', 'app', 'filter_time_to_n_next_click_1_day_ip_app_device_os', 'cumcount_app_device_os_day', 'count_ip_device_os_day_hourminute10', 'woe_device_nextClickLeakDayFlt', 'time_to_n_next_click_2_day_ip_app_device_os']\n"
     ]
    }
   ],
   "source": [
    "x = train_correlations.abs().sort_values()\n",
    "print(x.values)\n",
    "print(list(x.index[:87]))\n"
   ]
  },
  {
   "cell_type": "code",
   "execution_count": 37,
   "metadata": {
    "ExecuteTime": {
     "end_time": "2018-06-07T18:23:01.872875Z",
     "start_time": "2018-06-07T18:23:01.867069Z"
    }
   },
   "outputs": [
    {
     "name": "stdout",
     "output_type": "stream",
     "text": [
      "['range_count_ip_channel_dayhourminute10', 'range_count_ip_channel_dayhourminute', 'time_to_n_next_click_1_day_ip_app_device_os', 'count_ip_app_device_channel_day', 'woe_device_os_nextClickLeakDayFlt', 'woe_os_nextClickLeakDayFlt', 'count_app_channel', 'count_app_device_channel_day_hour', 'count_app_device_day_hour', 'count_app_day_hourminute', 'count_ip_app_device_day', 'woe_app_device_os_channel', 'woe_app_device_os', 'woe_app_device', 'woe_channel', 'woe_app_device_channel', 'woe_app_os_channel', 'woe_app_os', 'woe_app', 'woe_device_channel_nextClickLeakDayFlt', 'woe_app_channel', 'woe_app_device_nextClickLeakDayFlt', 'woe_os_channel_nextClickLeakDayFlt', 'woe_channel_nextClickLeakDayFlt', 'woe_app_os_nextClickLeakDayFlt', 'woe_app_nextClickLeakDayFlt', 'woe_app_channel_nextClickLeakDayFlt']\n"
     ]
    }
   ],
   "source": [
    "cols_shrink = list(x.index[87:-3])\n",
    "print(index_shrink)"
   ]
  },
  {
   "cell_type": "code",
   "execution_count": 38,
   "metadata": {
    "ExecuteTime": {
     "end_time": "2018-06-07T18:23:02.908353Z",
     "start_time": "2018-06-07T18:23:02.766902Z"
    }
   },
   "outputs": [],
   "source": [
    "train_shrink = train_original[cols_shrink]\n",
    "train_array_shrink = train_shrink.values"
   ]
  },
  {
   "cell_type": "code",
   "execution_count": 39,
   "metadata": {
    "ExecuteTime": {
     "end_time": "2018-06-07T18:23:10.331420Z",
     "start_time": "2018-06-07T18:23:10.306600Z"
    },
    "collapsed": true
   },
   "outputs": [],
   "source": [
    "# function_set = ['add','sub', 'mul','div','sqrt', 'log', 'abs', 'neg', 'inv', 'max', 'min']\n",
    "\n",
    "\n",
    "function_set = ['add','sub', 'mul','div', 'abs', 'neg', 'max', 'min', 'sqrt', 'sin', 'cos', 'log', 'inv']\n",
    "gp = SymbolicTransformer(generations=20,\n",
    "                         population_size=2000, \n",
    "                         stopping_criteria = 1, \n",
    "                         tournament_size = 1000,\n",
    "                         metric = 'spearman',\n",
    "                         hall_of_fame=100, \n",
    "                         n_components=15,\n",
    "                         function_set=function_set,\n",
    "                         parsimony_coefficient=0.0005,\n",
    "                         max_samples=1, \n",
    "                         verbose=1,\n",
    "                         random_state=0,\n",
    "                         n_jobs=30,\n",
    "                        p_subtree_mutation=0.03,\n",
    "                        p_hoist_mutation = 0.04,\n",
    "                        p_point_mutation = 0.03)\n",
    "\n",
    "# SymbolicTransformer(const_range=(-1.0, 1.0),\n",
    "#           function_set=['add', 'sub', 'mul', 'div', 'abs', 'neg', 'max', 'min', 'sqrt', 'sin', 'cos', 'log', 'inv'],\n",
    "#           generations=25, hall_of_fame=100, init_depth=(2, 6),\n",
    "#           init_method='half and half', max_samples=0.9, metric='spearman',\n",
    "#           n_components=10, n_jobs=20, p_crossover=0.9,\n",
    "#           p_hoist_mutation=0.01, p_point_mutation=0.01,\n",
    "#           p_point_replace=0.05, p_subtree_mutation=0.01,\n",
    "#           parsimony_coefficient=0.0005, population_size=500,\n",
    "#           random_state=0, stopping_criteria=0.95, tournament_size=20,\n",
    "#           verbose=1, warm_start=False)"
   ]
  },
  {
   "cell_type": "code",
   "execution_count": 40,
   "metadata": {
    "ExecuteTime": {
     "end_time": "2018-06-07T18:30:28.019189Z",
     "start_time": "2018-06-07T18:23:11.691484Z"
    }
   },
   "outputs": [
    {
     "name": "stdout",
     "output_type": "stream",
     "text": [
      "env: JOBLIB_TEMP_FOLDER=/home/kai/disksata/tmp\n",
      "    |    Population Average   |             Best Individual              |\n",
      "---- ------------------------- ------------------------------------------ ----------\n",
      " Gen   Length          Fitness   Length          Fitness      OOB Fitness  Time Left\n",
      "   0     9.71   0.427829964061        5   0.832397440653              N/A     15.58m\n",
      "   1     6.51   0.649282252598       15   0.851707786257              N/A     14.75m\n",
      "   2    12.85   0.636197587575       28   0.856249515436              N/A     18.79m\n",
      "   3    16.64     0.7355539497       26   0.856738081337              N/A     21.84m\n"
     ]
    },
    {
     "name": "stderr",
     "output_type": "stream",
     "text": [
      "Process ForkPoolWorker-143:\n"
     ]
    },
    {
     "ename": "KeyboardInterrupt",
     "evalue": "",
     "output_type": "error",
     "traceback": [
      "\u001b[0;31m---------------------------------------------------------------------------\u001b[0m",
      "\u001b[0;31mKeyboardInterrupt\u001b[0m                         Traceback (most recent call last)",
      "\u001b[0;32m<ipython-input-40-4a0663fc7e14>\u001b[0m in \u001b[0;36m<module>\u001b[0;34m()\u001b[0m\n\u001b[1;32m      1\u001b[0m \u001b[0;31m# %env JOBLIB_TEMP_FOLDER=/tmp\u001b[0m\u001b[0;34m\u001b[0m\u001b[0;34m\u001b[0m\u001b[0m\n\u001b[1;32m      2\u001b[0m \u001b[0mget_ipython\u001b[0m\u001b[0;34m(\u001b[0m\u001b[0;34m)\u001b[0m\u001b[0;34m.\u001b[0m\u001b[0mmagic\u001b[0m\u001b[0;34m(\u001b[0m\u001b[0;34m'env JOBLIB_TEMP_FOLDER=/home/kai/disksata/tmp'\u001b[0m\u001b[0;34m)\u001b[0m\u001b[0;34m\u001b[0m\u001b[0m\n\u001b[0;32m----> 3\u001b[0;31m \u001b[0mgp\u001b[0m\u001b[0;34m.\u001b[0m\u001b[0mfit\u001b[0m\u001b[0;34m(\u001b[0m\u001b[0mtrain_array\u001b[0m\u001b[0;34m,\u001b[0m \u001b[0mtarget_array\u001b[0m\u001b[0;34m)\u001b[0m\u001b[0;34m\u001b[0m\u001b[0m\n\u001b[0m",
      "\u001b[0;32m~/anaconda3/lib/python3.6/site-packages/gplearn/genetic.py\u001b[0m in \u001b[0;36mfit\u001b[0;34m(self, X, y, sample_weight)\u001b[0m\n\u001b[1;32m    427\u001b[0m                                           \u001b[0mseeds\u001b[0m\u001b[0;34m[\u001b[0m\u001b[0mstarts\u001b[0m\u001b[0;34m[\u001b[0m\u001b[0mi\u001b[0m\u001b[0;34m]\u001b[0m\u001b[0;34m:\u001b[0m\u001b[0mstarts\u001b[0m\u001b[0;34m[\u001b[0m\u001b[0mi\u001b[0m \u001b[0;34m+\u001b[0m \u001b[0;36m1\u001b[0m\u001b[0;34m]\u001b[0m\u001b[0;34m]\u001b[0m\u001b[0;34m,\u001b[0m\u001b[0;34m\u001b[0m\u001b[0m\n\u001b[1;32m    428\u001b[0m                                           params)\n\u001b[0;32m--> 429\u001b[0;31m                 for i in range(n_jobs))\n\u001b[0m\u001b[1;32m    430\u001b[0m \u001b[0;34m\u001b[0m\u001b[0m\n\u001b[1;32m    431\u001b[0m             \u001b[0;31m# Reduce, maintaining order across different n_jobs\u001b[0m\u001b[0;34m\u001b[0m\u001b[0;34m\u001b[0m\u001b[0m\n",
      "\u001b[0;32m~/anaconda3/lib/python3.6/site-packages/sklearn/externals/joblib/parallel.py\u001b[0m in \u001b[0;36m__call__\u001b[0;34m(self, iterable)\u001b[0m\n\u001b[1;32m    787\u001b[0m                 \u001b[0;31m# consumption.\u001b[0m\u001b[0;34m\u001b[0m\u001b[0;34m\u001b[0m\u001b[0m\n\u001b[1;32m    788\u001b[0m                 \u001b[0mself\u001b[0m\u001b[0;34m.\u001b[0m\u001b[0m_iterating\u001b[0m \u001b[0;34m=\u001b[0m \u001b[0;32mFalse\u001b[0m\u001b[0;34m\u001b[0m\u001b[0m\n\u001b[0;32m--> 789\u001b[0;31m             \u001b[0mself\u001b[0m\u001b[0;34m.\u001b[0m\u001b[0mretrieve\u001b[0m\u001b[0;34m(\u001b[0m\u001b[0;34m)\u001b[0m\u001b[0;34m\u001b[0m\u001b[0m\n\u001b[0m\u001b[1;32m    790\u001b[0m             \u001b[0;31m# Make sure that we get a last message telling us we are done\u001b[0m\u001b[0;34m\u001b[0m\u001b[0;34m\u001b[0m\u001b[0m\n\u001b[1;32m    791\u001b[0m             \u001b[0melapsed_time\u001b[0m \u001b[0;34m=\u001b[0m \u001b[0mtime\u001b[0m\u001b[0;34m.\u001b[0m\u001b[0mtime\u001b[0m\u001b[0;34m(\u001b[0m\u001b[0;34m)\u001b[0m \u001b[0;34m-\u001b[0m \u001b[0mself\u001b[0m\u001b[0;34m.\u001b[0m\u001b[0m_start_time\u001b[0m\u001b[0;34m\u001b[0m\u001b[0m\n",
      "\u001b[0;32m~/anaconda3/lib/python3.6/site-packages/sklearn/externals/joblib/parallel.py\u001b[0m in \u001b[0;36mretrieve\u001b[0;34m(self)\u001b[0m\n\u001b[1;32m    697\u001b[0m             \u001b[0;32mtry\u001b[0m\u001b[0;34m:\u001b[0m\u001b[0;34m\u001b[0m\u001b[0m\n\u001b[1;32m    698\u001b[0m                 \u001b[0;32mif\u001b[0m \u001b[0mgetattr\u001b[0m\u001b[0;34m(\u001b[0m\u001b[0mself\u001b[0m\u001b[0;34m.\u001b[0m\u001b[0m_backend\u001b[0m\u001b[0;34m,\u001b[0m \u001b[0;34m'supports_timeout'\u001b[0m\u001b[0;34m,\u001b[0m \u001b[0;32mFalse\u001b[0m\u001b[0;34m)\u001b[0m\u001b[0;34m:\u001b[0m\u001b[0;34m\u001b[0m\u001b[0m\n\u001b[0;32m--> 699\u001b[0;31m                     \u001b[0mself\u001b[0m\u001b[0;34m.\u001b[0m\u001b[0m_output\u001b[0m\u001b[0;34m.\u001b[0m\u001b[0mextend\u001b[0m\u001b[0;34m(\u001b[0m\u001b[0mjob\u001b[0m\u001b[0;34m.\u001b[0m\u001b[0mget\u001b[0m\u001b[0;34m(\u001b[0m\u001b[0mtimeout\u001b[0m\u001b[0;34m=\u001b[0m\u001b[0mself\u001b[0m\u001b[0;34m.\u001b[0m\u001b[0mtimeout\u001b[0m\u001b[0;34m)\u001b[0m\u001b[0;34m)\u001b[0m\u001b[0;34m\u001b[0m\u001b[0m\n\u001b[0m\u001b[1;32m    700\u001b[0m                 \u001b[0;32melse\u001b[0m\u001b[0;34m:\u001b[0m\u001b[0;34m\u001b[0m\u001b[0m\n\u001b[1;32m    701\u001b[0m                     \u001b[0mself\u001b[0m\u001b[0;34m.\u001b[0m\u001b[0m_output\u001b[0m\u001b[0;34m.\u001b[0m\u001b[0mextend\u001b[0m\u001b[0;34m(\u001b[0m\u001b[0mjob\u001b[0m\u001b[0;34m.\u001b[0m\u001b[0mget\u001b[0m\u001b[0;34m(\u001b[0m\u001b[0;34m)\u001b[0m\u001b[0;34m)\u001b[0m\u001b[0;34m\u001b[0m\u001b[0m\n",
      "\u001b[0;32m~/anaconda3/lib/python3.6/multiprocessing/pool.py\u001b[0m in \u001b[0;36mget\u001b[0;34m(self, timeout)\u001b[0m\n\u001b[1;32m    636\u001b[0m \u001b[0;34m\u001b[0m\u001b[0m\n\u001b[1;32m    637\u001b[0m     \u001b[0;32mdef\u001b[0m \u001b[0mget\u001b[0m\u001b[0;34m(\u001b[0m\u001b[0mself\u001b[0m\u001b[0;34m,\u001b[0m \u001b[0mtimeout\u001b[0m\u001b[0;34m=\u001b[0m\u001b[0;32mNone\u001b[0m\u001b[0;34m)\u001b[0m\u001b[0;34m:\u001b[0m\u001b[0;34m\u001b[0m\u001b[0m\n\u001b[0;32m--> 638\u001b[0;31m         \u001b[0mself\u001b[0m\u001b[0;34m.\u001b[0m\u001b[0mwait\u001b[0m\u001b[0;34m(\u001b[0m\u001b[0mtimeout\u001b[0m\u001b[0;34m)\u001b[0m\u001b[0;34m\u001b[0m\u001b[0m\n\u001b[0m\u001b[1;32m    639\u001b[0m         \u001b[0;32mif\u001b[0m \u001b[0;32mnot\u001b[0m \u001b[0mself\u001b[0m\u001b[0;34m.\u001b[0m\u001b[0mready\u001b[0m\u001b[0;34m(\u001b[0m\u001b[0;34m)\u001b[0m\u001b[0;34m:\u001b[0m\u001b[0;34m\u001b[0m\u001b[0m\n\u001b[1;32m    640\u001b[0m             \u001b[0;32mraise\u001b[0m \u001b[0mTimeoutError\u001b[0m\u001b[0;34m\u001b[0m\u001b[0m\n",
      "\u001b[0;32m~/anaconda3/lib/python3.6/multiprocessing/pool.py\u001b[0m in \u001b[0;36mwait\u001b[0;34m(self, timeout)\u001b[0m\n\u001b[1;32m    633\u001b[0m \u001b[0;34m\u001b[0m\u001b[0m\n\u001b[1;32m    634\u001b[0m     \u001b[0;32mdef\u001b[0m \u001b[0mwait\u001b[0m\u001b[0;34m(\u001b[0m\u001b[0mself\u001b[0m\u001b[0;34m,\u001b[0m \u001b[0mtimeout\u001b[0m\u001b[0;34m=\u001b[0m\u001b[0;32mNone\u001b[0m\u001b[0;34m)\u001b[0m\u001b[0;34m:\u001b[0m\u001b[0;34m\u001b[0m\u001b[0m\n\u001b[0;32m--> 635\u001b[0;31m         \u001b[0mself\u001b[0m\u001b[0;34m.\u001b[0m\u001b[0m_event\u001b[0m\u001b[0;34m.\u001b[0m\u001b[0mwait\u001b[0m\u001b[0;34m(\u001b[0m\u001b[0mtimeout\u001b[0m\u001b[0;34m)\u001b[0m\u001b[0;34m\u001b[0m\u001b[0m\n\u001b[0m\u001b[1;32m    636\u001b[0m \u001b[0;34m\u001b[0m\u001b[0m\n\u001b[1;32m    637\u001b[0m     \u001b[0;32mdef\u001b[0m \u001b[0mget\u001b[0m\u001b[0;34m(\u001b[0m\u001b[0mself\u001b[0m\u001b[0;34m,\u001b[0m \u001b[0mtimeout\u001b[0m\u001b[0;34m=\u001b[0m\u001b[0;32mNone\u001b[0m\u001b[0;34m)\u001b[0m\u001b[0;34m:\u001b[0m\u001b[0;34m\u001b[0m\u001b[0m\n",
      "\u001b[0;32m~/anaconda3/lib/python3.6/threading.py\u001b[0m in \u001b[0;36mwait\u001b[0;34m(self, timeout)\u001b[0m\n\u001b[1;32m    549\u001b[0m             \u001b[0msignaled\u001b[0m \u001b[0;34m=\u001b[0m \u001b[0mself\u001b[0m\u001b[0;34m.\u001b[0m\u001b[0m_flag\u001b[0m\u001b[0;34m\u001b[0m\u001b[0m\n\u001b[1;32m    550\u001b[0m             \u001b[0;32mif\u001b[0m \u001b[0;32mnot\u001b[0m \u001b[0msignaled\u001b[0m\u001b[0;34m:\u001b[0m\u001b[0;34m\u001b[0m\u001b[0m\n\u001b[0;32m--> 551\u001b[0;31m                 \u001b[0msignaled\u001b[0m \u001b[0;34m=\u001b[0m \u001b[0mself\u001b[0m\u001b[0;34m.\u001b[0m\u001b[0m_cond\u001b[0m\u001b[0;34m.\u001b[0m\u001b[0mwait\u001b[0m\u001b[0;34m(\u001b[0m\u001b[0mtimeout\u001b[0m\u001b[0;34m)\u001b[0m\u001b[0;34m\u001b[0m\u001b[0m\n\u001b[0m\u001b[1;32m    552\u001b[0m             \u001b[0;32mreturn\u001b[0m \u001b[0msignaled\u001b[0m\u001b[0;34m\u001b[0m\u001b[0m\n\u001b[1;32m    553\u001b[0m \u001b[0;34m\u001b[0m\u001b[0m\n",
      "\u001b[0;32m~/anaconda3/lib/python3.6/threading.py\u001b[0m in \u001b[0;36mwait\u001b[0;34m(self, timeout)\u001b[0m\n\u001b[1;32m    293\u001b[0m         \u001b[0;32mtry\u001b[0m\u001b[0;34m:\u001b[0m    \u001b[0;31m# restore state no matter what (e.g., KeyboardInterrupt)\u001b[0m\u001b[0;34m\u001b[0m\u001b[0m\n\u001b[1;32m    294\u001b[0m             \u001b[0;32mif\u001b[0m \u001b[0mtimeout\u001b[0m \u001b[0;32mis\u001b[0m \u001b[0;32mNone\u001b[0m\u001b[0;34m:\u001b[0m\u001b[0;34m\u001b[0m\u001b[0m\n\u001b[0;32m--> 295\u001b[0;31m                 \u001b[0mwaiter\u001b[0m\u001b[0;34m.\u001b[0m\u001b[0macquire\u001b[0m\u001b[0;34m(\u001b[0m\u001b[0;34m)\u001b[0m\u001b[0;34m\u001b[0m\u001b[0m\n\u001b[0m\u001b[1;32m    296\u001b[0m                 \u001b[0mgotit\u001b[0m \u001b[0;34m=\u001b[0m \u001b[0;32mTrue\u001b[0m\u001b[0;34m\u001b[0m\u001b[0m\n\u001b[1;32m    297\u001b[0m             \u001b[0;32melse\u001b[0m\u001b[0;34m:\u001b[0m\u001b[0;34m\u001b[0m\u001b[0m\n",
      "\u001b[0;31mKeyboardInterrupt\u001b[0m: "
     ]
    }
   ],
   "source": [
    "# %env JOBLIB_TEMP_FOLDER=/tmp\n",
    "%env JOBLIB_TEMP_FOLDER=/home/kai/disksata/tmp\n",
    "gp.fit(train_array, target_array)"
   ]
  },
  {
   "cell_type": "code",
   "execution_count": 16,
   "metadata": {
    "ExecuteTime": {
     "end_time": "2018-06-07T01:39:51.088286Z",
     "start_time": "2018-06-07T01:39:36.965465Z"
    },
    "collapsed": true
   },
   "outputs": [],
   "source": [
    "gp_features_train = gp.transform(train_array)\n",
    "print('train done')"
   ]
  },
  {
   "cell_type": "code",
   "execution_count": 17,
   "metadata": {
    "ExecuteTime": {
     "end_time": "2018-06-07T01:40:02.420509Z",
     "start_time": "2018-06-07T01:40:02.418028Z"
    },
    "collapsed": true
   },
   "outputs": [],
   "source": [
    "train_index = train_original.index"
   ]
  },
  {
   "cell_type": "code",
   "execution_count": 18,
   "metadata": {
    "ExecuteTime": {
     "end_time": "2018-06-07T01:40:21.661524Z",
     "start_time": "2018-06-07T01:40:13.802031Z"
    },
    "collapsed": true
   },
   "outputs": [
    {
     "name": "stdout",
     "output_type": "stream",
     "text": [
      "train done\n"
     ]
    }
   ],
   "source": [
    "train_new = pd.DataFrame(data = gp_features_train, index = train_index)\n",
    "train = pd.concat([train_original, train_new], axis = 1)\n",
    "print('train done')\n",
    "val_original = pd.read_feather(Path + 'val_cleaned.ftr')\n",
    "val_index = val.original.index\n",
    "gp_features_val = gp_features_val = gp.transform(val_array)\n",
    "val_new = pd.DataFrame(data = gp_features_val, index = val_index)\n",
    "val = pd.concat([val_original, val_new], axis = 1)"
   ]
  },
  {
   "cell_type": "code",
   "execution_count": 19,
   "metadata": {
    "ExecuteTime": {
     "end_time": "2018-06-07T01:40:51.043800Z",
     "start_time": "2018-06-07T01:40:51.040199Z"
    }
   },
   "outputs": [
    {
     "name": "stdout",
     "output_type": "stream",
     "text": [
      "(794952, 128) (22996974, 128)\n"
     ]
    }
   ],
   "source": [
    "print(train.shape, val.shape)"
   ]
  },
  {
   "cell_type": "code",
   "execution_count": 20,
   "metadata": {
    "ExecuteTime": {
     "end_time": "2018-06-07T01:41:46.593137Z",
     "start_time": "2018-06-07T01:41:20.865601Z"
    },
    "collapsed": true
   },
   "outputs": [],
   "source": [
    "val.to_pickle(Path + 'val_gp1.pkl')"
   ]
  },
  {
   "cell_type": "code",
   "execution_count": 21,
   "metadata": {
    "ExecuteTime": {
     "end_time": "2018-06-07T01:42:17.156274Z",
     "start_time": "2018-06-07T01:42:16.192705Z"
    },
    "collapsed": true
   },
   "outputs": [],
   "source": [
    "train.to_pickle(Path + 'train_gp1.pkl')"
   ]
  },
  {
   "cell_type": "code",
   "execution_count": 23,
   "metadata": {
    "ExecuteTime": {
     "end_time": "2018-06-07T01:48:38.200183Z",
     "start_time": "2018-06-07T01:48:07.504942Z"
    }
   },
   "outputs": [
    {
     "name": "stdout",
     "output_type": "stream",
     "text": [
      "(18790469, 118)\n"
     ]
    }
   ],
   "source": [
    "test_supplement = pd.read_feather(Path + 'test_cleaned.ftr')\n",
    "with open('./log.txt', 'a') as f: f.write('test rading done\\n')\n",
    "test_index = np.load('/home/kai/data/kaggle/talkingdata/data/supplement2testInexFinal.npy')\n",
    "test = test_supplement.iloc[test_index]\n",
    "print(test.shape)"
   ]
  },
  {
   "cell_type": "code",
   "execution_count": 24,
   "metadata": {
    "ExecuteTime": {
     "end_time": "2018-06-07T01:49:54.426193Z",
     "start_time": "2018-06-07T01:49:54.419288Z"
    },
    "collapsed": true
   },
   "outputs": [],
   "source": [
    "test_index = test.index"
   ]
  },
  {
   "cell_type": "code",
   "execution_count": 27,
   "metadata": {
    "ExecuteTime": {
     "end_time": "2018-06-07T01:55:55.944707Z",
     "start_time": "2018-06-07T01:55:42.729409Z"
    },
    "collapsed": true
   },
   "outputs": [],
   "source": [
    "# print(test_index)\n",
    "test_array = test[cols].values"
   ]
  },
  {
   "cell_type": "code",
   "execution_count": 28,
   "metadata": {
    "ExecuteTime": {
     "end_time": "2018-06-07T01:57:28.685185Z",
     "start_time": "2018-06-07T01:57:10.095501Z"
    },
    "collapsed": true
   },
   "outputs": [],
   "source": [
    "gp_features_test = gp.transform(test_array)\n",
    "test_new = pd.DataFrame(data = gp_features_test, index = test_index)\n",
    "test = pd.concat([test, test_new], axis = 1)"
   ]
  },
  {
   "cell_type": "code",
   "execution_count": 29,
   "metadata": {
    "ExecuteTime": {
     "end_time": "2018-06-07T01:59:06.424269Z",
     "start_time": "2018-06-07T01:58:44.345167Z"
    },
    "collapsed": true
   },
   "outputs": [],
   "source": [
    "test.to_pickle(Path + 'test_gp1.pkl')"
   ]
  },
  {
   "cell_type": "code",
   "execution_count": null,
   "metadata": {
    "collapsed": true
   },
   "outputs": [],
   "source": []
  }
 ],
 "metadata": {
  "kernelspec": {
   "display_name": "Python 3",
   "language": "python",
   "name": "python3"
  },
  "language_info": {
   "codemirror_mode": {
    "name": "ipython",
    "version": 3
   },
   "file_extension": ".py",
   "mimetype": "text/x-python",
   "name": "python",
   "nbconvert_exporter": "python",
   "pygments_lexer": "ipython3",
   "version": "3.6.3"
  },
  "varInspector": {
   "cols": {
    "lenName": 16,
    "lenType": 16,
    "lenVar": 40
   },
   "kernels_config": {
    "python": {
     "delete_cmd_postfix": "",
     "delete_cmd_prefix": "del ",
     "library": "var_list.py",
     "varRefreshCmd": "print(var_dic_list())"
    },
    "r": {
     "delete_cmd_postfix": ") ",
     "delete_cmd_prefix": "rm(",
     "library": "var_list.r",
     "varRefreshCmd": "cat(var_dic_list()) "
    }
   },
   "types_to_exclude": [
    "module",
    "function",
    "builtin_function_or_method",
    "instance",
    "_Feature"
   ],
   "window_display": false
  }
 },
 "nbformat": 4,
 "nbformat_minor": 2
}
