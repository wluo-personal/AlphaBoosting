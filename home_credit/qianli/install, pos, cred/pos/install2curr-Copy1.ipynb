{
 "cells": [
  {
   "cell_type": "code",
   "execution_count": 1,
   "metadata": {
    "ExecuteTime": {
     "end_time": "2018-06-28T17:27:04.783436Z",
     "start_time": "2018-06-28T17:26:50.356712Z"
    }
   },
   "outputs": [
    {
     "data": {
      "text/plain": [
       "'done'"
      ]
     },
     "execution_count": 1,
     "metadata": {},
     "output_type": "execute_result"
    }
   ],
   "source": [
    "import pandas as pd\n",
    "\n",
    "PATH = '/home/kai/data/kaggle/homecredit/'\n",
    "\n",
    "train = pd.read_csv(PATH + 'application_train.csv')\n",
    "test = pd.read_csv(PATH + 'application_test.csv')\n",
    "inst = pd.read_csv(PATH + 'installments_payments.csv')\n",
    "\n",
    "'done'"
   ]
  },
  {
   "cell_type": "code",
   "execution_count": 2,
   "metadata": {
    "ExecuteTime": {
     "end_time": "2018-06-28T17:27:04.793626Z",
     "start_time": "2018-06-28T17:27:04.788119Z"
    }
   },
   "outputs": [
    {
     "name": "stdout",
     "output_type": "stream",
     "text": [
      "Index(['SK_ID_PREV', 'SK_ID_CURR', 'NUM_INSTALMENT_VERSION',\n",
      "       'NUM_INSTALMENT_NUMBER', 'DAYS_INSTALMENT', 'DAYS_ENTRY_PAYMENT',\n",
      "       'AMT_INSTALMENT', 'AMT_PAYMENT'],\n",
      "      dtype='object')\n"
     ]
    }
   ],
   "source": [
    "print(inst.columns)"
   ]
  },
  {
   "cell_type": "code",
   "execution_count": 3,
   "metadata": {
    "ExecuteTime": {
     "end_time": "2018-06-28T17:27:04.811645Z",
     "start_time": "2018-06-28T17:27:04.798760Z"
    }
   },
   "outputs": [
    {
     "data": {
      "text/plain": [
       "'done'"
      ]
     },
     "execution_count": 3,
     "metadata": {},
     "output_type": "execute_result"
    }
   ],
   "source": [
    "def _set_type(series, dtype):\n",
    "    _max, _min = max(series), min(series)\n",
    "    if dtype == 'uint':\n",
    "        if _max <= 255: return np.uint8\n",
    "        elif _max <= 65535: return np.uint16\n",
    "        elif _max <= 4294967295: return np.uint32\n",
    "        else: return np.uint64\n",
    "    elif dtype == 'int':\n",
    "        if _min >= -128 and _max <= 127: return np.int8\n",
    "        elif _min >=-32768 and _max <= 32767: return np.int16\n",
    "        elif _min >= -2147483648 and _max <= 2147483647: return np.int32\n",
    "        else: return np.int64\n",
    "    elif dtype == 'float':\n",
    "        if max(abs(_min), _max) <= 3.4028235e+38: return np.float32\n",
    "        else: return np.float64\n",
    "\n",
    "def minus_name(col1, col2): return col1 + '_minus_' + col2\n",
    "def minus(df, col1, col2): return df[col1] - df[col2]\n",
    "\n",
    "def ratio_name(col1, col2): return col1 + '_divide_' + col2\n",
    "def ratio(df, col1, col2): return df[col1] / (df[col2] + 1)\n",
    "\n",
    "def positive_count(df, gp_col, col):\n",
    "    group = (df[col] > 0).astype('int8')\n",
    "    group = pd.concat([df[gp_col], group], axis=1).groupby(gp_col)[[col]].sum().reset_index().rename(index=str, columns={col: 'positivecount_'+'_'.join([gp_col, col])}).astype({gp_col: df[gp_col].dtype})\n",
    "    return group\n",
    "\n",
    "def count(df, gp_col, col):\n",
    "    group = df[[gp_col,col]].groupby(gp_col)[[col]].count().reset_index().rename(index=str, columns={col:'count_'+gp_col})\n",
    "    return group.astype({gp_col: df[gp_col].dtype})\n",
    "\n",
    "def numerical(df, gp_col, col, agg_fun):\n",
    "    _df = df.groupby(gp_col)[[col]].agg(agg_fun)\n",
    "    \n",
    "    columns = []\n",
    "    for x in _df.columns.levels[0]:\n",
    "        for y in _df.columns.levels[1]:\n",
    "            columns.append('_'.join([x, y]))\n",
    "    _df.columns = columns\n",
    "    return _df.reset_index().astype({gp_col: df[gp_col].dtype})\n",
    "\n",
    "'done'"
   ]
  },
  {
   "cell_type": "code",
   "execution_count": 4,
   "metadata": {
    "ExecuteTime": {
     "end_time": "2018-06-28T17:27:32.606700Z",
     "start_time": "2018-06-28T17:27:04.816427Z"
    },
    "scrolled": false
   },
   "outputs": [
    {
     "name": "stdout",
     "output_type": "stream",
     "text": [
      "DAYS_ENTRY_PAYMENT_minus_DAYS_INSTALMENT\n",
      "AMT_INSTALMENT_minus_AMT_PAYMENT\n",
      "positivecount_SK_ID_CURR_DAYS_ENTRY_PAYMENT_minus_DAYS_INSTALMENT\n",
      "positivecount_SK_ID_CURR_AMT_INSTALMENT_minus_AMT_PAYMENT\n",
      "DAYS_ENTRY_PAYMENT\n",
      "DAYS_ENTRY_PAYMENT_minus_DAYS_INSTALMENT\n",
      "DAYS_ENTRY_PAYMENT_minus_DAYS_INSTALMENT_divide_DAYS_INSTALMENT\n",
      "AMT_INSTALMENT\n",
      "DAYS_INSTALMENT\n",
      "AMT_INSTALMENT_minus_AMT_PAYMENT_divide_DAYS_INSTALMENT\n",
      "AMT_PAYMENT\n",
      "DAYS_ENTRY_PAYMENT_minus_DAYS_INSTALMENT_divide_AMT_INSTALMENT_minus_AMT_PAYMENT\n",
      "AMT_INSTALMENT_minus_AMT_PAYMENT\n"
     ]
    },
    {
     "data": {
      "text/plain": [
       "'done'"
      ]
     },
     "execution_count": 4,
     "metadata": {},
     "output_type": "execute_result"
    }
   ],
   "source": [
    "merged_col = 'SK_ID_CURR'\n",
    "df = pd.concat([train['SK_ID_CURR'], test['SK_ID_CURR']], ignore_index=True).to_frame()\n",
    "\n",
    "# minus and ratio\n",
    "name1 = minus_name('DAYS_ENTRY_PAYMENT', 'DAYS_INSTALMENT')\n",
    "name2 = minus_name('AMT_INSTALMENT', 'AMT_PAYMENT')\n",
    "inst[name1] = minus(inst, 'DAYS_ENTRY_PAYMENT', 'DAYS_INSTALMENT')\n",
    "inst[name2] = minus(inst, 'AMT_INSTALMENT', 'AMT_PAYMENT')\n",
    "\n",
    "name3 = ratio_name(name1, name2)\n",
    "inst['DAYS_INSTALMENT'] = abs(inst['DAYS_INSTALMENT'])\n",
    "inst[name3] = ratio(inst, name1, name2)\n",
    "inst[ratio_name(name1, 'DAYS_INSTALMENT')] = ratio(inst, name1, 'DAYS_INSTALMENT')\n",
    "inst[ratio_name(name2, 'DAYS_INSTALMENT')] = ratio(inst, name2, 'DAYS_INSTALMENT')\n",
    "\n",
    "# positive count and count and their ratio\n",
    "for x in [name1, name2]:\n",
    "    df = df.merge(positive_count(inst, merged_col, x), on=merged_col, how='left')\n",
    "    print(x)\n",
    "    \n",
    "# count\n",
    "df = df.merge(count(inst, merged_col, name1), on=merged_col, how='left')\n",
    "count_name = [x for x in df.columns if 'count_' in x][0]\n",
    "\n",
    "# categorical ratio\n",
    "for x in df.columns:\n",
    "    if 'positivecount_' in x:\n",
    "        print(x)\n",
    "        df[ratio_name(x, count_name)] = ratio(df, x, count_name)\n",
    "        \n",
    "# numerical cols\n",
    "ignored = ['SK_ID_PREV', 'SK_ID_CURR', 'NUM_INSTALMENT_NUMBER', 'NUM_INSTALMENT_VERSION']\n",
    "for x in (set(inst.columns) - set(ignored)):\n",
    "    df = df.merge(numerical(inst, merged_col, x, ['mean', 'median', 'sum', 'max', 'min', 'std']), on=merged_col, how='left')\n",
    "    print(x)\n",
    "    \n",
    "columns = []\n",
    "for x in df.columns:\n",
    "    tmp = 'install_' + x if x != merged_col else x\n",
    "    columns.append(tmp)\n",
    "df.columns = columns\n",
    "'done'"
   ]
  },
  {
   "cell_type": "code",
   "execution_count": 5,
   "metadata": {
    "ExecuteTime": {
     "end_time": "2018-06-28T17:27:32.625367Z",
     "start_time": "2018-06-28T17:27:32.613017Z"
    },
    "collapsed": true
   },
   "outputs": [
    {
     "name": "stdout",
     "output_type": "stream",
     "text": [
      "Index(['SK_ID_CURR',\n",
      "       'install_positivecount_SK_ID_CURR_DAYS_ENTRY_PAYMENT_minus_DAYS_INSTALMENT',\n",
      "       'install_positivecount_SK_ID_CURR_AMT_INSTALMENT_minus_AMT_PAYMENT',\n",
      "       'install_count_SK_ID_CURR',\n",
      "       'install_positivecount_SK_ID_CURR_DAYS_ENTRY_PAYMENT_minus_DAYS_INSTALMENT_divide_positivecount_SK_ID_CURR_DAYS_ENTRY_PAYMENT_minus_DAYS_INSTALMENT',\n",
      "       'install_positivecount_SK_ID_CURR_AMT_INSTALMENT_minus_AMT_PAYMENT_divide_positivecount_SK_ID_CURR_DAYS_ENTRY_PAYMENT_minus_DAYS_INSTALMENT',\n",
      "       'install_DAYS_ENTRY_PAYMENT_mean', 'install_DAYS_ENTRY_PAYMENT_median',\n",
      "       'install_DAYS_ENTRY_PAYMENT_sum', 'install_DAYS_ENTRY_PAYMENT_max',\n",
      "       'install_DAYS_ENTRY_PAYMENT_min', 'install_DAYS_ENTRY_PAYMENT_std',\n",
      "       'install_DAYS_ENTRY_PAYMENT_minus_DAYS_INSTALMENT_mean',\n",
      "       'install_DAYS_ENTRY_PAYMENT_minus_DAYS_INSTALMENT_median',\n",
      "       'install_DAYS_ENTRY_PAYMENT_minus_DAYS_INSTALMENT_sum',\n",
      "       'install_DAYS_ENTRY_PAYMENT_minus_DAYS_INSTALMENT_max',\n",
      "       'install_DAYS_ENTRY_PAYMENT_minus_DAYS_INSTALMENT_min',\n",
      "       'install_DAYS_ENTRY_PAYMENT_minus_DAYS_INSTALMENT_std',\n",
      "       'install_DAYS_ENTRY_PAYMENT_minus_DAYS_INSTALMENT_divide_DAYS_INSTALMENT_mean',\n",
      "       'install_DAYS_ENTRY_PAYMENT_minus_DAYS_INSTALMENT_divide_DAYS_INSTALMENT_median',\n",
      "       'install_DAYS_ENTRY_PAYMENT_minus_DAYS_INSTALMENT_divide_DAYS_INSTALMENT_sum',\n",
      "       'install_DAYS_ENTRY_PAYMENT_minus_DAYS_INSTALMENT_divide_DAYS_INSTALMENT_max',\n",
      "       'install_DAYS_ENTRY_PAYMENT_minus_DAYS_INSTALMENT_divide_DAYS_INSTALMENT_min',\n",
      "       'install_DAYS_ENTRY_PAYMENT_minus_DAYS_INSTALMENT_divide_DAYS_INSTALMENT_std',\n",
      "       'install_AMT_INSTALMENT_mean', 'install_AMT_INSTALMENT_median',\n",
      "       'install_AMT_INSTALMENT_sum', 'install_AMT_INSTALMENT_max',\n",
      "       'install_AMT_INSTALMENT_min', 'install_AMT_INSTALMENT_std',\n",
      "       'install_DAYS_INSTALMENT_mean', 'install_DAYS_INSTALMENT_median',\n",
      "       'install_DAYS_INSTALMENT_sum', 'install_DAYS_INSTALMENT_max',\n",
      "       'install_DAYS_INSTALMENT_min', 'install_DAYS_INSTALMENT_std',\n",
      "       'install_AMT_INSTALMENT_minus_AMT_PAYMENT_divide_DAYS_INSTALMENT_mean',\n",
      "       'install_AMT_INSTALMENT_minus_AMT_PAYMENT_divide_DAYS_INSTALMENT_median',\n",
      "       'install_AMT_INSTALMENT_minus_AMT_PAYMENT_divide_DAYS_INSTALMENT_sum',\n",
      "       'install_AMT_INSTALMENT_minus_AMT_PAYMENT_divide_DAYS_INSTALMENT_max',\n",
      "       'install_AMT_INSTALMENT_minus_AMT_PAYMENT_divide_DAYS_INSTALMENT_min',\n",
      "       'install_AMT_INSTALMENT_minus_AMT_PAYMENT_divide_DAYS_INSTALMENT_std',\n",
      "       'install_AMT_PAYMENT_mean', 'install_AMT_PAYMENT_median',\n",
      "       'install_AMT_PAYMENT_sum', 'install_AMT_PAYMENT_max',\n",
      "       'install_AMT_PAYMENT_min', 'install_AMT_PAYMENT_std',\n",
      "       'install_DAYS_ENTRY_PAYMENT_minus_DAYS_INSTALMENT_divide_AMT_INSTALMENT_minus_AMT_PAYMENT_mean',\n",
      "       'install_DAYS_ENTRY_PAYMENT_minus_DAYS_INSTALMENT_divide_AMT_INSTALMENT_minus_AMT_PAYMENT_median',\n",
      "       'install_DAYS_ENTRY_PAYMENT_minus_DAYS_INSTALMENT_divide_AMT_INSTALMENT_minus_AMT_PAYMENT_sum',\n",
      "       'install_DAYS_ENTRY_PAYMENT_minus_DAYS_INSTALMENT_divide_AMT_INSTALMENT_minus_AMT_PAYMENT_max',\n",
      "       'install_DAYS_ENTRY_PAYMENT_minus_DAYS_INSTALMENT_divide_AMT_INSTALMENT_minus_AMT_PAYMENT_min',\n",
      "       'install_DAYS_ENTRY_PAYMENT_minus_DAYS_INSTALMENT_divide_AMT_INSTALMENT_minus_AMT_PAYMENT_std',\n",
      "       'install_AMT_INSTALMENT_minus_AMT_PAYMENT_mean',\n",
      "       'install_AMT_INSTALMENT_minus_AMT_PAYMENT_median',\n",
      "       'install_AMT_INSTALMENT_minus_AMT_PAYMENT_sum',\n",
      "       'install_AMT_INSTALMENT_minus_AMT_PAYMENT_max',\n",
      "       'install_AMT_INSTALMENT_minus_AMT_PAYMENT_min',\n",
      "       'install_AMT_INSTALMENT_minus_AMT_PAYMENT_std'],\n",
      "      dtype='object')\n"
     ]
    },
    {
     "data": {
      "text/plain": [
       "(356255, 60)"
      ]
     },
     "execution_count": 5,
     "metadata": {},
     "output_type": "execute_result"
    }
   ],
   "source": [
    "print(df.columns)\n",
    "df.shape"
   ]
  },
  {
   "cell_type": "code",
   "execution_count": 6,
   "metadata": {
    "ExecuteTime": {
     "end_time": "2018-06-28T17:27:33.086759Z",
     "start_time": "2018-06-28T17:27:32.631674Z"
    }
   },
   "outputs": [
    {
     "data": {
      "text/plain": [
       "'done'"
      ]
     },
     "execution_count": 6,
     "metadata": {},
     "output_type": "execute_result"
    }
   ],
   "source": [
    "df.to_pickle(PATH + 'inter/install2curr.pkl')\n",
    "'done'"
   ]
  },
  {
   "cell_type": "code",
   "execution_count": 1,
   "metadata": {
    "ExecuteTime": {
     "end_time": "2018-07-03T14:41:28.001414Z",
     "start_time": "2018-07-03T14:41:26.461903Z"
    }
   },
   "outputs": [],
   "source": [
    "import pandas as pd\n",
    "\n",
    "PATH = '/home/kai/data/kaggle/homecredit/'\n",
    "install = pd.read_pickle(PATH + 'inter/tmp/inst.pkl')"
   ]
  },
  {
   "cell_type": "code",
   "execution_count": 7,
   "metadata": {
    "ExecuteTime": {
     "end_time": "2018-07-03T14:57:16.013454Z",
     "start_time": "2018-07-03T14:57:15.895458Z"
    }
   },
   "outputs": [
    {
     "data": {
      "text/html": [
       "<div>\n",
       "<style scoped>\n",
       "    .dataframe tbody tr th:only-of-type {\n",
       "        vertical-align: middle;\n",
       "    }\n",
       "\n",
       "    .dataframe tbody tr th {\n",
       "        vertical-align: top;\n",
       "    }\n",
       "\n",
       "    .dataframe thead th {\n",
       "        text-align: right;\n",
       "    }\n",
       "</style>\n",
       "<table border=\"1\" class=\"dataframe\">\n",
       "  <thead>\n",
       "    <tr style=\"text-align: right;\">\n",
       "      <th></th>\n",
       "      <th>SK_ID_PREV</th>\n",
       "      <th>SK_ID_CURR</th>\n",
       "      <th>NUM_INSTALMENT_VERSION</th>\n",
       "      <th>NUM_INSTALMENT_NUMBER</th>\n",
       "      <th>DAYS_INSTALMENT</th>\n",
       "      <th>DAYS_ENTRY_PAYMENT</th>\n",
       "      <th>AMT_INSTALMENT</th>\n",
       "      <th>AMT_PAYMENT</th>\n",
       "      <th>new_AMT_INSTALMENT</th>\n",
       "      <th>num</th>\n",
       "      <th>equal</th>\n",
       "      <th>max</th>\n",
       "    </tr>\n",
       "  </thead>\n",
       "  <tbody>\n",
       "    <tr>\n",
       "      <th>3784880</th>\n",
       "      <td>1847900</td>\n",
       "      <td>195919</td>\n",
       "      <td>0.0</td>\n",
       "      <td>22</td>\n",
       "      <td>-2.0</td>\n",
       "      <td>0.0</td>\n",
       "      <td>16956.495</td>\n",
       "      <td>0.0</td>\n",
       "      <td>16956.495</td>\n",
       "      <td>1</td>\n",
       "      <td>1</td>\n",
       "      <td>0.0</td>\n",
       "    </tr>\n",
       "  </tbody>\n",
       "</table>\n",
       "</div>"
      ],
      "text/plain": [
       "         SK_ID_PREV  SK_ID_CURR  NUM_INSTALMENT_VERSION  \\\n",
       "3784880     1847900      195919                     0.0   \n",
       "\n",
       "         NUM_INSTALMENT_NUMBER  DAYS_INSTALMENT  DAYS_ENTRY_PAYMENT  \\\n",
       "3784880                     22             -2.0                 0.0   \n",
       "\n",
       "         AMT_INSTALMENT  AMT_PAYMENT  new_AMT_INSTALMENT  num  equal  max  \n",
       "3784880       16956.495          0.0           16956.495    1      1  0.0  "
      ]
     },
     "execution_count": 7,
     "metadata": {},
     "output_type": "execute_result"
    }
   ],
   "source": [
    "x = install[install['AMT_PAYMENT']== 0]\n",
    "y = x.sort_values('DAYS_INSTALMENT', ascending = False)\n",
    "install[(install['SK_ID_PREV'] == 1847900) & (install['NUM_INSTALMENT_NUMBER'] == 22)]"
   ]
  },
  {
   "cell_type": "code",
   "execution_count": null,
   "metadata": {},
   "outputs": [],
   "source": []
  }
 ],
 "metadata": {
  "kernelspec": {
   "display_name": "Python 3",
   "language": "python",
   "name": "python3"
  },
  "language_info": {
   "codemirror_mode": {
    "name": "ipython",
    "version": 3
   },
   "file_extension": ".py",
   "mimetype": "text/x-python",
   "name": "python",
   "nbconvert_exporter": "python",
   "pygments_lexer": "ipython3",
   "version": "3.6.5"
  },
  "varInspector": {
   "cols": {
    "lenName": 16,
    "lenType": 16,
    "lenVar": 40
   },
   "kernels_config": {
    "python": {
     "delete_cmd_postfix": "",
     "delete_cmd_prefix": "del ",
     "library": "var_list.py",
     "varRefreshCmd": "print(var_dic_list())"
    },
    "r": {
     "delete_cmd_postfix": ") ",
     "delete_cmd_prefix": "rm(",
     "library": "var_list.r",
     "varRefreshCmd": "cat(var_dic_list()) "
    }
   },
   "types_to_exclude": [
    "module",
    "function",
    "builtin_function_or_method",
    "instance",
    "_Feature"
   ],
   "window_display": false
  }
 },
 "nbformat": 4,
 "nbformat_minor": 2
}
