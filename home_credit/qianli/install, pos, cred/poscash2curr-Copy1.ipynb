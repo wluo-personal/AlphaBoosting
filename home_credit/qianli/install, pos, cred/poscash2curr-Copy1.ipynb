{
 "cells": [
  {
   "cell_type": "code",
   "execution_count": 1,
   "metadata": {
    "ExecuteTime": {
     "end_time": "2018-07-05T20:46:05.125448Z",
     "start_time": "2018-07-05T20:45:56.691086Z"
    }
   },
   "outputs": [
    {
     "name": "stdout",
     "output_type": "stream",
     "text": [
      "pos (2335864, 8)\n"
     ]
    },
    {
     "data": {
      "text/plain": [
       "'done'"
      ]
     },
     "execution_count": 1,
     "metadata": {},
     "output_type": "execute_result"
    }
   ],
   "source": [
    "import pandas as pd\n",
    "import gc\n",
    "PATH = '/home/kai/data/kaggle/homecredit/'\n",
    "\n",
    "train = pd.read_csv(PATH + 'application_train.csv')\n",
    "test = pd.read_csv(PATH + 'application_test.csv')\n",
    "pos = pd.read_csv(PATH + 'POS_CASH_balance.csv')\n",
    "\n",
    "#intersection\n",
    "month = -12\n",
    "pos = pos[pos['MONTHS_BALANCE']>= month]\n",
    "print('pos', pos.shape)\n",
    "\n",
    "\n",
    "df = pd.concat([train[['SK_ID_CURR']], test[['SK_ID_CURR']]], axis = 0)\n",
    "del train, test\n",
    "gc.collect()\n",
    "'done'"
   ]
  },
  {
   "cell_type": "code",
   "execution_count": 2,
   "metadata": {
    "ExecuteTime": {
     "end_time": "2018-07-05T20:46:05.137164Z",
     "start_time": "2018-07-05T20:46:05.127166Z"
    }
   },
   "outputs": [
    {
     "data": {
      "text/html": [
       "<div>\n",
       "<style scoped>\n",
       "    .dataframe tbody tr th:only-of-type {\n",
       "        vertical-align: middle;\n",
       "    }\n",
       "\n",
       "    .dataframe tbody tr th {\n",
       "        vertical-align: top;\n",
       "    }\n",
       "\n",
       "    .dataframe thead th {\n",
       "        text-align: right;\n",
       "    }\n",
       "</style>\n",
       "<table border=\"1\" class=\"dataframe\">\n",
       "  <thead>\n",
       "    <tr style=\"text-align: right;\">\n",
       "      <th></th>\n",
       "      <th>SK_ID_PREV</th>\n",
       "      <th>SK_ID_CURR</th>\n",
       "      <th>MONTHS_BALANCE</th>\n",
       "      <th>CNT_INSTALMENT</th>\n",
       "      <th>CNT_INSTALMENT_FUTURE</th>\n",
       "      <th>NAME_CONTRACT_STATUS</th>\n",
       "      <th>SK_DPD</th>\n",
       "      <th>SK_DPD_DEF</th>\n",
       "    </tr>\n",
       "  </thead>\n",
       "  <tbody>\n",
       "    <tr>\n",
       "      <th>701</th>\n",
       "      <td>2373788</td>\n",
       "      <td>146563</td>\n",
       "      <td>-1</td>\n",
       "      <td>12.0</td>\n",
       "      <td>12.0</td>\n",
       "      <td>Active</td>\n",
       "      <td>0</td>\n",
       "      <td>0</td>\n",
       "    </tr>\n",
       "    <tr>\n",
       "      <th>702</th>\n",
       "      <td>2344408</td>\n",
       "      <td>444611</td>\n",
       "      <td>-6</td>\n",
       "      <td>12.0</td>\n",
       "      <td>8.0</td>\n",
       "      <td>Active</td>\n",
       "      <td>0</td>\n",
       "      <td>0</td>\n",
       "    </tr>\n",
       "    <tr>\n",
       "      <th>703</th>\n",
       "      <td>2235803</td>\n",
       "      <td>270883</td>\n",
       "      <td>-6</td>\n",
       "      <td>12.0</td>\n",
       "      <td>10.0</td>\n",
       "      <td>Active</td>\n",
       "      <td>0</td>\n",
       "      <td>0</td>\n",
       "    </tr>\n",
       "    <tr>\n",
       "      <th>704</th>\n",
       "      <td>1434285</td>\n",
       "      <td>450849</td>\n",
       "      <td>-2</td>\n",
       "      <td>16.0</td>\n",
       "      <td>14.0</td>\n",
       "      <td>Active</td>\n",
       "      <td>0</td>\n",
       "      <td>0</td>\n",
       "    </tr>\n",
       "    <tr>\n",
       "      <th>705</th>\n",
       "      <td>1204938</td>\n",
       "      <td>203479</td>\n",
       "      <td>-3</td>\n",
       "      <td>16.0</td>\n",
       "      <td>14.0</td>\n",
       "      <td>Active</td>\n",
       "      <td>0</td>\n",
       "      <td>0</td>\n",
       "    </tr>\n",
       "  </tbody>\n",
       "</table>\n",
       "</div>"
      ],
      "text/plain": [
       "     SK_ID_PREV  SK_ID_CURR  MONTHS_BALANCE  CNT_INSTALMENT  \\\n",
       "701     2373788      146563              -1            12.0   \n",
       "702     2344408      444611              -6            12.0   \n",
       "703     2235803      270883              -6            12.0   \n",
       "704     1434285      450849              -2            16.0   \n",
       "705     1204938      203479              -3            16.0   \n",
       "\n",
       "     CNT_INSTALMENT_FUTURE NAME_CONTRACT_STATUS  SK_DPD  SK_DPD_DEF  \n",
       "701                   12.0               Active       0           0  \n",
       "702                    8.0               Active       0           0  \n",
       "703                   10.0               Active       0           0  \n",
       "704                   14.0               Active       0           0  \n",
       "705                   14.0               Active       0           0  "
      ]
     },
     "execution_count": 2,
     "metadata": {},
     "output_type": "execute_result"
    }
   ],
   "source": [
    "pos.head()"
   ]
  },
  {
   "cell_type": "code",
   "execution_count": 3,
   "metadata": {
    "ExecuteTime": {
     "end_time": "2018-07-05T20:46:05.337206Z",
     "start_time": "2018-07-05T20:46:05.138739Z"
    }
   },
   "outputs": [
    {
     "data": {
      "text/plain": [
       "'done'"
      ]
     },
     "execution_count": 3,
     "metadata": {},
     "output_type": "execute_result"
    }
   ],
   "source": [
    "from sklearn.linear_model import LinearRegression\n",
    "\n",
    "def minus_name(col1, col2): return col1 + '_minus_' + col2\n",
    "def minus(df, col1, col2): return df[col1] - df[col2]\n",
    "\n",
    "def ratio_name(col1, col2): return col1 + '_divide_' + col2\n",
    "def ratio(df, col1, col2): return df[col1] / (df[col2] + 1)\n",
    "\n",
    "def positive_count(df, gp_col, col):\n",
    "    group = (df[col] > 0).astype('int8')\n",
    "    group = pd.concat([df[gp_col], group], axis=1).groupby(gp_col)[[col]].sum().reset_index().rename(index=str, columns={col: 'positivecount_'+'_'.join(gp_col + [col])})\n",
    "    return group\n",
    "\n",
    "def count(df, gp_col, col):\n",
    "    group = df[[gp_col,col]].groupby(gp_col)[[col]].count().reset_index().rename(index=str, columns={col:'count_'+gp_col})\n",
    "    return group\n",
    "\n",
    "def numerical(df, gp_col, col, agg_fun):\n",
    "    _df = df.groupby(gp_col)[[col]].agg(agg_fun)\n",
    "    \n",
    "    columns = []\n",
    "    for x in _df.columns.levels[0]:\n",
    "        for y in _df.columns.levels[1]:\n",
    "            columns.append('_'.join([x, y]))\n",
    "    _df.columns = columns\n",
    "    return _df.reset_index()\n",
    "\n",
    "def one_hot(df, gp_col, col):\n",
    "    return pd.concat([df[gp_col], pd.get_dummies(df[col], prefix='onehot_' + col)], axis=1).groupby(gp_col).sum().reset_index()\n",
    "\n",
    "def linear(df, gp_col, x_col_name, y_col_name):\n",
    "    r = []\n",
    "    for i, x in df.groupby(gp_col):\n",
    "        lg = LinearRegression()\n",
    "        lg1 = LinearRegression()\n",
    "        \n",
    "        lg.fit(x[[x_col_name]], x[[y_col_name]])\n",
    "        x_max = max(x[x_col_name])\n",
    "        x_min = min(x[x_col_name])\n",
    "        lg1.fit((x[[x_col_name]]-x_max)/(x_max-x_min+1), x[[y_col_name]])\n",
    "        r.append([i, lg.coef_[0][0], lg1.coef_[0][0]])\n",
    "    tmpdf = pd.DataFrame(r, columns=[gp_col, x_col_name+'_lg_'+y_col_name, x_col_name+'_normallg_'+y_col_name])\n",
    "    return tmpdf\n",
    "\n",
    "def feature_in_time_window(df, gp_col, col, func, agg_fun=None, n=None, time_col=None):\n",
    "    tmp = None\n",
    "    _df = df.copy()\n",
    "    if n is not None:\n",
    "        _df = _df[_df[time_col] >= n]\n",
    "    if agg_fun is None:\n",
    "        tmp = func(_df, gp_col, col)\n",
    "    else:\n",
    "        tmp = func(_df, gp_col, col, agg_fun)\n",
    "    columns = [str(abs(n))+'_'+x for x in set(tmp.columns) - set(gp_col)]\n",
    "    tmp.columns = columns\n",
    "    del _df\n",
    "    gc.collect()\n",
    "    return tmp\n",
    "\n",
    "def area_under_curve(df, gp_col, x, y):\n",
    "    gp = df.copy()\n",
    "    gp_max = gp.groupby(gp_col)[[x]].max().reset_index().rename(columns={x:'max'})\n",
    "    gp_min = gp.groupby(gp_col)[[x]].min().reset_index().rename(columns={x:'min'})\n",
    "    gp = gp.merge(gp_max)\n",
    "    gp = gp.merge(gp_min)\n",
    "    gp['normal_x'] = (gp[x]-gp['max']) / (gp['max']-gp['min']+1)\n",
    "    \n",
    "    group = gp.groupby(gp_col)\n",
    "    gp['tmp'] = (group[y].shift(-1)+gp[y]) * (group[x].shift(-1)-gp[x]) / 2\n",
    "    gp['tmp_normal'] = (group[y].shift(-1)+gp[y]) * (group['normal_x'].shift(-1)-gp['normal_x']) / 2\n",
    "    return gp.groupby(gp_col).agg({'tmp':'sum', 'tmp_normal':'sum'}).reset_index().rename(columns={'tmp':x+'_area_'+y, 'tmp_normal':x+'_normalarea_'+y})\n",
    "\n",
    "'done'"
   ]
  },
  {
   "cell_type": "code",
   "execution_count": 4,
   "metadata": {
    "ExecuteTime": {
     "end_time": "2018-07-05T20:46:05.813656Z",
     "start_time": "2018-07-05T20:46:05.338775Z"
    }
   },
   "outputs": [
    {
     "data": {
      "text/plain": [
       "56"
      ]
     },
     "execution_count": 4,
     "metadata": {},
     "output_type": "execute_result"
    }
   ],
   "source": [
    "# Onehot encoding for status & agg onto curr\n",
    "# 1. onehot encoding\n",
    "group = one_hot(pos, 'SK_ID_CURR','NAME_CONTRACT_STATUS')\n",
    "\n",
    "df = df.merge(group, on = 'SK_ID_CURR', how = 'left')\n",
    "del group\n",
    "gc.collect()"
   ]
  },
  {
   "cell_type": "code",
   "execution_count": 5,
   "metadata": {
    "ExecuteTime": {
     "end_time": "2018-07-05T20:46:05.817040Z",
     "start_time": "2018-07-05T20:46:05.815015Z"
    }
   },
   "outputs": [
    {
     "name": "stdout",
     "output_type": "stream",
     "text": [
      "(356255, 9)\n"
     ]
    }
   ],
   "source": [
    "print(df.shape)"
   ]
  },
  {
   "cell_type": "code",
   "execution_count": 6,
   "metadata": {
    "ExecuteTime": {
     "end_time": "2018-07-05T20:46:05.826983Z",
     "start_time": "2018-07-05T20:46:05.818308Z"
    }
   },
   "outputs": [
    {
     "data": {
      "text/plain": [
       "Index(['SK_ID_CURR', 'onehot_NAME_CONTRACT_STATUS_Active',\n",
       "       'onehot_NAME_CONTRACT_STATUS_Amortized debt',\n",
       "       'onehot_NAME_CONTRACT_STATUS_Approved',\n",
       "       'onehot_NAME_CONTRACT_STATUS_Canceled',\n",
       "       'onehot_NAME_CONTRACT_STATUS_Completed',\n",
       "       'onehot_NAME_CONTRACT_STATUS_Demand',\n",
       "       'onehot_NAME_CONTRACT_STATUS_Returned to the store',\n",
       "       'onehot_NAME_CONTRACT_STATUS_Signed'],\n",
       "      dtype='object')"
      ]
     },
     "execution_count": 6,
     "metadata": {},
     "output_type": "execute_result"
    }
   ],
   "source": [
    "df.columns"
   ]
  },
  {
   "cell_type": "code",
   "execution_count": 7,
   "metadata": {
    "ExecuteTime": {
     "end_time": "2018-07-05T20:46:06.767070Z",
     "start_time": "2018-07-05T20:46:05.828255Z"
    }
   },
   "outputs": [
    {
     "name": "stdout",
     "output_type": "stream",
     "text": [
      "(356255, 16)\n",
      "(356255, 19)\n"
     ]
    }
   ],
   "source": [
    "# 2. for sk_dpd, and sk_dpd_def, directly do agg of curr:\n",
    "\n",
    "group1 = numerical(pos, 'SK_ID_CURR', 'SK_DPD',['sum','max'])\n",
    "group2 = numerical(pos, 'SK_ID_CURR', 'SK_DPD_DEF',['sum','max'])\n",
    "for group in [group1, group2]:\n",
    "    df = df.merge(group, on = 'SK_ID_CURR', how = 'left')\n",
    "\n",
    "#2.0 for cnt_install, future_install, do agg of curr:\n",
    "group1 = numerical(pos, 'SK_ID_CURR', 'CNT_INSTALMENT',['max','mean','std'])\n",
    "group2 = numerical(pos, 'SK_ID_CURR', 'CNT_INSTALMENT_FUTURE',['max','mean','std'])\n",
    "for group in [group1, group2]:\n",
    "    df = df.merge(group, on = 'SK_ID_CURR', how = 'left')\n",
    "    print(df.shape)"
   ]
  },
  {
   "cell_type": "code",
   "execution_count": 8,
   "metadata": {
    "ExecuteTime": {
     "end_time": "2018-07-05T20:46:06.770314Z",
     "start_time": "2018-07-05T20:46:06.768712Z"
    }
   },
   "outputs": [],
   "source": [
    "# pos.columns"
   ]
  },
  {
   "cell_type": "code",
   "execution_count": 9,
   "metadata": {
    "ExecuteTime": {
     "end_time": "2018-07-05T20:46:06.790052Z",
     "start_time": "2018-07-05T20:46:06.771609Z"
    }
   },
   "outputs": [],
   "source": [
    "# 2. SK_DPD and SK_DPD_DEF:\n",
    "#     sk_dpd:\n",
    "#         1. how many records, positive sk_dpd, sk_dpd_def a prev id has---> agg(records, skdpd, sk_dpd_def) of curr id\n",
    "#         2. pct of sk_dpd and sk_dpd def in a prev id --> agg into curr\n",
    "#         3**. same for 1: check if prev id is completed in the end ---> (demand & amortized, etc. pct) num of completed, pct of completed into curr id\n",
    "#         4. find the (sum, mean, min, max, std) , agg, for all sk_dpd, sk_dpd_def; --> agg into curr (notice it is different from 1, as 1 is about num of dpd)  some parts curr (CURR AGG)\n",
    "#         5. growth rate: \n",
    "#             1. for sk_dpd increasing, what is the mean, max, min, std for the increase\n",
    "#             2. for sk_dpd decreasing, count how many deceasing are there; what is the mean for the decrease\n",
    "#         6. unique count for count_installment --> agg(sum, mean, min, max, std) for curr id\n",
    "#         7. num of count for count_installment --> agg(mean, min, max, std) for curr id\n",
    "#         8. last record for prev id: num of future, and get future installment/count_installment --> curr id \n",
    "            \n"
   ]
  },
  {
   "cell_type": "code",
   "execution_count": 10,
   "metadata": {
    "ExecuteTime": {
     "end_time": "2018-07-05T20:46:08.503553Z",
     "start_time": "2018-07-05T20:46:06.791935Z"
    }
   },
   "outputs": [
    {
     "name": "stdout",
     "output_type": "stream",
     "text": [
      "(356255, 22)\n",
      "(356255, 25)\n",
      "(356255, 28)\n"
     ]
    }
   ],
   "source": [
    "#  1. how many records, positive sk_dpd, sk_dpd_def a prev id has---> agg(records, skdpd, sk_dpd_def) of curr id\n",
    "\n",
    "    \n",
    "positive_dpd = positive_count(pos, ['SK_ID_CURR', 'SK_ID_PREV'],'SK_DPD')  \n",
    "positive_def = positive_count(pos, ['SK_ID_CURR', 'SK_ID_PREV'],'SK_DPD_DEF')\n",
    "\n",
    "prev_count = pos[['SK_ID_CURR','SK_ID_PREV','SK_DPD']].groupby(['SK_ID_PREV','SK_ID_CURR'])[['SK_DPD']].count().reset_index().rename(index=str, columns={'SK_DPD':'count_prev'})\n",
    "\n",
    "group1 = numerical(positive_dpd, 'SK_ID_CURR','positivecount_SK_ID_CURR_SK_ID_PREV_SK_DPD', ['sum','max','mean'])\n",
    "group2 = numerical(positive_def, 'SK_ID_CURR','positivecount_SK_ID_CURR_SK_ID_PREV_SK_DPD_DEF', ['sum','max','mean'])\n",
    "group3 = numerical(prev_count, 'SK_ID_CURR','count_prev', ['sum','max','mean'])\n",
    "for group in [group1, group2, group3]:\n",
    "    df = df.merge(group, on = 'SK_ID_CURR', how = 'left')\n",
    "    print(df.shape)"
   ]
  },
  {
   "cell_type": "code",
   "execution_count": 11,
   "metadata": {
    "ExecuteTime": {
     "end_time": "2018-07-05T20:46:08.604125Z",
     "start_time": "2018-07-05T20:46:08.505115Z"
    },
    "scrolled": true
   },
   "outputs": [],
   "source": [
    "# 2. pct of sk_dpd and sk_dpd def in a prev id --> agg into curr\n",
    "pct_count = positive_dpd.merge(prev_count.drop('SK_ID_CURR', axis = 1), on = 'SK_ID_PREV', how = 'left')\n",
    "pct_count = pct_count.merge(positive_def.drop('SK_ID_CURR', axis = 1), on = 'SK_ID_PREV', how = 'left')"
   ]
  },
  {
   "cell_type": "code",
   "execution_count": 12,
   "metadata": {
    "ExecuteTime": {
     "end_time": "2018-07-05T20:46:08.611371Z",
     "start_time": "2018-07-05T20:46:08.605701Z"
    }
   },
   "outputs": [
    {
     "data": {
      "text/html": [
       "<div>\n",
       "<style scoped>\n",
       "    .dataframe tbody tr th:only-of-type {\n",
       "        vertical-align: middle;\n",
       "    }\n",
       "\n",
       "    .dataframe tbody tr th {\n",
       "        vertical-align: top;\n",
       "    }\n",
       "\n",
       "    .dataframe thead th {\n",
       "        text-align: right;\n",
       "    }\n",
       "</style>\n",
       "<table border=\"1\" class=\"dataframe\">\n",
       "  <thead>\n",
       "    <tr style=\"text-align: right;\">\n",
       "      <th></th>\n",
       "      <th>SK_ID_CURR</th>\n",
       "      <th>SK_ID_PREV</th>\n",
       "      <th>positivecount_SK_ID_CURR_SK_ID_PREV_SK_DPD</th>\n",
       "      <th>count_prev</th>\n",
       "      <th>positivecount_SK_ID_CURR_SK_ID_PREV_SK_DPD_DEF</th>\n",
       "    </tr>\n",
       "  </thead>\n",
       "  <tbody>\n",
       "    <tr>\n",
       "      <th>0</th>\n",
       "      <td>100002</td>\n",
       "      <td>1038818</td>\n",
       "      <td>0</td>\n",
       "      <td>12</td>\n",
       "      <td>0</td>\n",
       "    </tr>\n",
       "    <tr>\n",
       "      <th>1</th>\n",
       "      <td>100006</td>\n",
       "      <td>2078043</td>\n",
       "      <td>0</td>\n",
       "      <td>3</td>\n",
       "      <td>0</td>\n",
       "    </tr>\n",
       "    <tr>\n",
       "      <th>2</th>\n",
       "      <td>100006</td>\n",
       "      <td>2190416</td>\n",
       "      <td>0</td>\n",
       "      <td>10</td>\n",
       "      <td>0</td>\n",
       "    </tr>\n",
       "    <tr>\n",
       "      <th>3</th>\n",
       "      <td>100007</td>\n",
       "      <td>1692033</td>\n",
       "      <td>0</td>\n",
       "      <td>12</td>\n",
       "      <td>0</td>\n",
       "    </tr>\n",
       "    <tr>\n",
       "      <th>4</th>\n",
       "      <td>100007</td>\n",
       "      <td>2001242</td>\n",
       "      <td>0</td>\n",
       "      <td>2</td>\n",
       "      <td>0</td>\n",
       "    </tr>\n",
       "  </tbody>\n",
       "</table>\n",
       "</div>"
      ],
      "text/plain": [
       "   SK_ID_CURR  SK_ID_PREV  positivecount_SK_ID_CURR_SK_ID_PREV_SK_DPD  \\\n",
       "0      100002     1038818                                           0   \n",
       "1      100006     2078043                                           0   \n",
       "2      100006     2190416                                           0   \n",
       "3      100007     1692033                                           0   \n",
       "4      100007     2001242                                           0   \n",
       "\n",
       "   count_prev  positivecount_SK_ID_CURR_SK_ID_PREV_SK_DPD_DEF  \n",
       "0          12                                               0  \n",
       "1           3                                               0  \n",
       "2          10                                               0  \n",
       "3          12                                               0  \n",
       "4           2                                               0  "
      ]
     },
     "execution_count": 12,
     "metadata": {},
     "output_type": "execute_result"
    }
   ],
   "source": [
    "pct_count.head()"
   ]
  },
  {
   "cell_type": "code",
   "execution_count": 13,
   "metadata": {
    "ExecuteTime": {
     "end_time": "2018-07-05T20:46:08.944058Z",
     "start_time": "2018-07-05T20:46:08.612728Z"
    }
   },
   "outputs": [
    {
     "name": "stdout",
     "output_type": "stream",
     "text": [
      "(356255, 31)\n",
      "(356255, 34)\n"
     ]
    }
   ],
   "source": [
    "pct_count = pct_count.rename(index = str, columns = {'positivecount_SK_ID_CURR_SK_ID_PREV_SK_DPD': 'dpd','positivecount_SK_ID_CURR_SK_ID_PREV_SK_DPD_DEF': 'def'})\n",
    "\n",
    "pct_count[ratio_name('def','count_prev')] = ratio(pct_count,'def','count_prev')\n",
    "pct_count[ratio_name('dpd','count_prev')] = ratio(pct_count,'dpd','count_prev')\n",
    "\n",
    "group1 = numerical(pct_count, 'SK_ID_CURR','dpd_divide_count_prev',['max','sum','mean'])\n",
    "group2 = numerical(pct_count, 'SK_ID_CURR','def_divide_count_prev',['max','sum','mean'])\n",
    "\n",
    "for group in [group1, group2]:\n",
    "    df = df.merge(group, on = 'SK_ID_CURR', how = 'left')\n",
    "    print(df.shape)"
   ]
  },
  {
   "cell_type": "code",
   "execution_count": 14,
   "metadata": {
    "ExecuteTime": {
     "end_time": "2018-07-05T20:46:09.692390Z",
     "start_time": "2018-07-05T20:46:08.945594Z"
    }
   },
   "outputs": [],
   "source": [
    "# Count how many UNIQUE prev id per curr id\n",
    "x = pos[['SK_ID_CURR','SK_ID_PREV']].groupby(['SK_ID_CURR'])[['SK_ID_PREV']].nunique().reset_index().\\\n",
    "rename(index = str, columns = {'SK_ID_PREV': 'unique_prev'})\n",
    "df = df.merge(x, how = 'left', on = 'SK_ID_CURR')"
   ]
  },
  {
   "cell_type": "code",
   "execution_count": 15,
   "metadata": {
    "ExecuteTime": {
     "end_time": "2018-07-05T20:46:09.697828Z",
     "start_time": "2018-07-05T20:46:09.693910Z"
    }
   },
   "outputs": [],
   "source": [
    "#  3**.pct of completed into curr id\n",
    "df[ratio_name('onehot_NAME_CONTRACT_STATUS_Completed','unique_prev')] = ratio(df, 'onehot_NAME_CONTRACT_STATUS_Completed','unique_prev')"
   ]
  },
  {
   "cell_type": "code",
   "execution_count": 16,
   "metadata": {
    "ExecuteTime": {
     "end_time": "2018-07-05T20:46:09.717684Z",
     "start_time": "2018-07-05T20:46:09.699392Z"
    }
   },
   "outputs": [
    {
     "data": {
      "text/plain": [
       "Index(['SK_ID_CURR', 'onehot_NAME_CONTRACT_STATUS_Active',\n",
       "       'onehot_NAME_CONTRACT_STATUS_Amortized debt',\n",
       "       'onehot_NAME_CONTRACT_STATUS_Approved',\n",
       "       'onehot_NAME_CONTRACT_STATUS_Canceled',\n",
       "       'onehot_NAME_CONTRACT_STATUS_Completed',\n",
       "       'onehot_NAME_CONTRACT_STATUS_Demand',\n",
       "       'onehot_NAME_CONTRACT_STATUS_Returned to the store',\n",
       "       'onehot_NAME_CONTRACT_STATUS_Signed', 'SK_DPD_sum', 'SK_DPD_max',\n",
       "       'SK_DPD_DEF_sum', 'SK_DPD_DEF_max', 'CNT_INSTALMENT_max',\n",
       "       'CNT_INSTALMENT_mean', 'CNT_INSTALMENT_std',\n",
       "       'CNT_INSTALMENT_FUTURE_max', 'CNT_INSTALMENT_FUTURE_mean',\n",
       "       'CNT_INSTALMENT_FUTURE_std',\n",
       "       'positivecount_SK_ID_CURR_SK_ID_PREV_SK_DPD_sum',\n",
       "       'positivecount_SK_ID_CURR_SK_ID_PREV_SK_DPD_max',\n",
       "       'positivecount_SK_ID_CURR_SK_ID_PREV_SK_DPD_mean',\n",
       "       'positivecount_SK_ID_CURR_SK_ID_PREV_SK_DPD_DEF_sum',\n",
       "       'positivecount_SK_ID_CURR_SK_ID_PREV_SK_DPD_DEF_max',\n",
       "       'positivecount_SK_ID_CURR_SK_ID_PREV_SK_DPD_DEF_mean', 'count_prev_sum',\n",
       "       'count_prev_max', 'count_prev_mean', 'dpd_divide_count_prev_max',\n",
       "       'dpd_divide_count_prev_sum', 'dpd_divide_count_prev_mean',\n",
       "       'def_divide_count_prev_max', 'def_divide_count_prev_sum',\n",
       "       'def_divide_count_prev_mean', 'unique_prev',\n",
       "       'onehot_NAME_CONTRACT_STATUS_Completed_divide_unique_prev'],\n",
       "      dtype='object')"
      ]
     },
     "execution_count": 16,
     "metadata": {},
     "output_type": "execute_result"
    }
   ],
   "source": [
    "df.columns"
   ]
  },
  {
   "cell_type": "code",
   "execution_count": 17,
   "metadata": {
    "ExecuteTime": {
     "end_time": "2018-07-05T20:46:10.025251Z",
     "start_time": "2018-07-05T20:46:09.719571Z"
    }
   },
   "outputs": [
    {
     "name": "stdout",
     "output_type": "stream",
     "text": [
      "(356255, 38)\n",
      "(356255, 40)\n",
      "(356255, 42)\n",
      "(356255, 44)\n"
     ]
    },
    {
     "data": {
      "text/plain": [
       "203"
      ]
     },
     "execution_count": 17,
     "metadata": {},
     "output_type": "execute_result"
    }
   ],
   "source": [
    "#  4. find the (sum, mean, min, max, std) , agg, for all sk_dpd, sk_dpd_def; --> agg into curr (notice it is different from 1, as 1 is about num of dpd)  some parts curr (CURR AGG)\n",
    "pos_dpd = pos.loc[pos['SK_DPD']>0]\n",
    "pos_def = pos.loc[pos['SK_DPD_DEF']>0]\n",
    "\n",
    "# pos_dpd onto prev, then onto curr\n",
    "tmp = numerical(pos_dpd, ['SK_ID_CURR','SK_ID_PREV'],'SK_DPD',['mean','std'])\n",
    "group1 = numerical(tmp,'SK_ID_CURR', 'SK_DPD_mean',['mean','std'])\n",
    "group2 = numerical(tmp, 'SK_ID_CURR','SK_DPD_std',['mean','std'])\n",
    "for i in [group1, group2]:\n",
    "    df = df.merge(i, on = 'SK_ID_CURR', how = 'left')\n",
    "    print(df.shape)\n",
    "    \n",
    "# pos_def onto prev, then onto curr\n",
    "tmp = numerical(pos_def, ['SK_ID_CURR','SK_ID_PREV'],'SK_DPD',['mean','std'])\n",
    "group1 = numerical(tmp,'SK_ID_CURR', 'SK_DPD_mean',['mean','std'])\n",
    "group2 = numerical(tmp, 'SK_ID_CURR','SK_DPD_std',['mean','std'])\n",
    "for i in [group1, group2]:\n",
    "    df = df.merge(i, on = 'SK_ID_CURR', how = 'left')\n",
    "    print(df.shape)\n",
    "del tmp, group1, group2\n",
    "gc.collect()"
   ]
  },
  {
   "cell_type": "code",
   "execution_count": 18,
   "metadata": {
    "ExecuteTime": {
     "end_time": "2018-07-05T20:46:11.219391Z",
     "start_time": "2018-07-05T20:46:10.026692Z"
    }
   },
   "outputs": [],
   "source": [
    "#  5. growth rate: \n",
    "#             1. for sk_dpd increasing, what is the mean, max, min, std for the increase\n",
    "#             2. for sk_dpd decreasing, count how many deceasing are there; what is the mean for the decrease\n",
    "#         6. unique count for count_installment --> agg(sum, mean, min, max, std) for curr id\n",
    "pos = pos.sort_values(['SK_ID_CURR','SK_ID_PREV','MONTHS_BALANCE'], ascending = False)"
   ]
  },
  {
   "cell_type": "code",
   "execution_count": 19,
   "metadata": {
    "ExecuteTime": {
     "end_time": "2018-07-05T20:46:12.978659Z",
     "start_time": "2018-07-05T20:46:11.221414Z"
    }
   },
   "outputs": [
    {
     "name": "stdout",
     "output_type": "stream",
     "text": [
      "shift for dpd\n",
      "(356255, 48)\n",
      "(356255, 52)\n",
      "shift for def\n",
      "(356255, 56)\n",
      "(356255, 59)\n"
     ]
    }
   ],
   "source": [
    "# SK_DPD\n",
    "print('shift for dpd')\n",
    "group1 = pos[['SK_ID_CURR','SK_ID_PREV','SK_DPD']].groupby(['SK_ID_CURR','SK_ID_PREV'])[['SK_DPD']].shift(-1)\n",
    "pos['shifted'] = group1\n",
    "# In shift(-1), sk_dpd minus shifted is positive meaning its worsening.\n",
    "pos['diff'] = pos['SK_DPD'] - pos['shifted']\n",
    "tmp = numerical(pos, ['SK_ID_CURR','SK_ID_PREV'],'diff',['max','sum'])\n",
    "# group onto curr\n",
    "group1 = numerical(tmp, 'SK_ID_CURR', 'diff_max',['mean','max','min','std'])\n",
    "group2 = numerical(tmp, 'SK_ID_CURR', 'diff_sum',['mean','max','min','std'])\n",
    "for group in [group1, group2]:\n",
    "    df = df.merge(group, on = 'SK_ID_CURR', how = 'left')\n",
    "    print(df.shape)\n",
    "    \n",
    "# count how many negative instances\n",
    "dpd_neg = pos.loc[pos['diff'] < 0]\n",
    "\n",
    "x = count(dpd_neg, 'SK_ID_CURR', 'diff')\n",
    "df = df.merge(x, on = 'SK_ID_CURR', how = 'left')\n",
    "\n",
    "\n",
    "\n",
    "print('shift for def')   \n",
    "# SK_DPD_DEF\n",
    "group1 = pos[['SK_ID_CURR','SK_ID_PREV','SK_DPD_DEF']].groupby(['SK_ID_CURR','SK_ID_PREV'])[['SK_DPD_DEF']].shift(-1)\n",
    "pos['shifted_def'] = group1\n",
    "# In shift(-1), sk_dpd minus shifted is positive meaning its worsening.\n",
    "pos['diff_def'] = pos['SK_DPD'] - pos['shifted_def']\n",
    "tmp = numerical(pos, ['SK_ID_CURR','SK_ID_PREV'],'diff_def',['max','sum'])\n",
    "# group onto curr\n",
    "group1 = numerical(tmp, 'SK_ID_CURR', 'diff_def_max',['mean','max','std'])\n",
    "group2 = numerical(tmp, 'SK_ID_CURR', 'diff_def_sum',['mean','max','std'])\n",
    "for group in [group1, group2]:\n",
    "    df = df.merge(group, on = 'SK_ID_CURR', how = 'left')\n",
    "    print(df.shape)\n",
    "\n",
    "    \n",
    "# count how many negative instances\n",
    "def_neg = pos.loc[pos['diff_def'] < 0]\n",
    "x = count(def_neg, 'SK_ID_CURR', 'diff')\n",
    "df = df.merge(x, on = 'SK_ID_CURR', how = 'left')\n",
    "\n",
    "del x,tmp"
   ]
  },
  {
   "cell_type": "code",
   "execution_count": 20,
   "metadata": {
    "ExecuteTime": {
     "end_time": "2018-07-05T20:46:13.768267Z",
     "start_time": "2018-07-05T20:46:12.980230Z"
    }
   },
   "outputs": [],
   "source": [
    "# 6. unique count for count_installment --> agg(sum, mean, min, max, std) for curr id\n",
    "\n",
    "x = pos[['SK_ID_CURR','SK_ID_PREV','CNT_INSTALMENT']].groupby(['SK_ID_CURR','SK_ID_PREV'])[['CNT_INSTALMENT']].nunique().reset_index().\\\n",
    "rename(index = str, columns = {'CNT_INSTALMENT': 'unique_cnt_install'})\n",
    "# agg(unique for curr)\n",
    "df = df.merge(numerical(x, 'SK_ID_CURR','unique_cnt_install',['sum','mean','std','min','max']), on = 'SK_ID_CURR', how = 'left')\n",
    "print(df.shape)\n",
    "\n",
    "\n",
    "# 7. num of count for count_installment --> agg(mean, min, max, std) for curr id ---> Done through curr agg "
   ]
  },
  {
   "cell_type": "code",
   "execution_count": 21,
   "metadata": {
    "ExecuteTime": {
     "end_time": "2018-07-05T20:46:14.858840Z",
     "start_time": "2018-07-05T20:46:13.769792Z"
    }
   },
   "outputs": [],
   "source": [
    "# 8. last record for prev id: num of future, and get future installment/count_installment --> curr id\n",
    "x = pos.groupby(['SK_ID_PREV']).first().reset_index()\n",
    "x['possible_future_install'] = x['CNT_INSTALMENT_FUTURE']/x['CNT_INSTALMENT']\n",
    "# Pct of future install/install\n",
    "df = df.merge(numerical(x,['SK_ID_PREV','SK_ID_CURR'], 'possible_future_install',['max','std','sum']), on = 'SK_ID_CURR', how = 'left')\n",
    "# Last record \n",
    "df = df.merge(numerical(x, ['SK_ID_PREV','SK_ID_CURR'], 'CNT_INSTALMENT_FUTURE',['max']), on = 'SK_ID_CURR', how = 'left')"
   ]
  },
  {
   "cell_type": "code",
   "execution_count": 22,
   "metadata": {
    "ExecuteTime": {
     "end_time": "2018-07-05T20:46:14.862919Z",
     "start_time": "2018-07-05T20:46:14.860369Z"
    }
   },
   "outputs": [
    {
     "data": {
      "text/plain": [
       "(746698, 71)"
      ]
     },
     "execution_count": 22,
     "metadata": {},
     "output_type": "execute_result"
    }
   ],
   "source": [
    "df.shape"
   ]
  },
  {
   "cell_type": "code",
   "execution_count": 23,
   "metadata": {
    "ExecuteTime": {
     "end_time": "2018-07-05T20:46:15.449623Z",
     "start_time": "2018-07-05T20:46:14.864115Z"
    }
   },
   "outputs": [],
   "source": [
    "# df.to_pickle(PATH +'test/all_pos2curr.pkl')\n",
    "# df.to_pickle(PATH +'test/6_pos2curr.pkl')\n",
    "df.to_pickle(PATH +'test/12_pos2curr.pkl')"
   ]
  },
  {
   "cell_type": "code",
   "execution_count": 24,
   "metadata": {
    "ExecuteTime": {
     "end_time": "2018-07-05T20:46:38.643507Z",
     "start_time": "2018-07-05T20:46:36.313559Z"
    }
   },
   "outputs": [],
   "source": [
    "df1 = pd.read_pickle(PATH +'test/all_pos2curr.pkl')\n",
    "df2 = pd.read_pickle(PATH +'test/6_pos2curr.pkl')\n",
    "df3 = pd.read_pickle(PATH +'test/12_pos2curr.pkl')"
   ]
  },
  {
   "cell_type": "code",
   "execution_count": 25,
   "metadata": {
    "ExecuteTime": {
     "end_time": "2018-07-05T20:47:18.716205Z",
     "start_time": "2018-07-05T20:47:18.714035Z"
    }
   },
   "outputs": [
    {
     "name": "stdout",
     "output_type": "stream",
     "text": [
      "(3934342, 74) (537096, 71) (746698, 71)\n"
     ]
    }
   ],
   "source": [
    "print(df1.shape, df2.shape, df3.shape)"
   ]
  },
  {
   "cell_type": "code",
   "execution_count": 26,
   "metadata": {
    "ExecuteTime": {
     "end_time": "2018-07-05T20:48:00.387177Z",
     "start_time": "2018-07-05T20:47:57.942834Z"
    }
   },
   "outputs": [],
   "source": [
    "df = pd.concat([df1,df2,df3], axis =1)"
   ]
  },
  {
   "cell_type": "code",
   "execution_count": 27,
   "metadata": {
    "ExecuteTime": {
     "end_time": "2018-07-05T20:48:47.734992Z",
     "start_time": "2018-07-05T20:48:37.357679Z"
    }
   },
   "outputs": [],
   "source": [
    "df.to_pickle(PATH + 'test/new_pos2curr.pkl')"
   ]
  },
  {
   "cell_type": "code",
   "execution_count": null,
   "metadata": {},
   "outputs": [],
   "source": [
    "df.shape"
   ]
  }
 ],
 "metadata": {
  "kernelspec": {
   "display_name": "Python 3",
   "language": "python",
   "name": "python3"
  },
  "language_info": {
   "codemirror_mode": {
    "name": "ipython",
    "version": 3
   },
   "file_extension": ".py",
   "mimetype": "text/x-python",
   "name": "python",
   "nbconvert_exporter": "python",
   "pygments_lexer": "ipython3",
   "version": "3.6.5"
  },
  "varInspector": {
   "cols": {
    "lenName": 16,
    "lenType": 16,
    "lenVar": 40
   },
   "kernels_config": {
    "python": {
     "delete_cmd_postfix": "",
     "delete_cmd_prefix": "del ",
     "library": "var_list.py",
     "varRefreshCmd": "print(var_dic_list())"
    },
    "r": {
     "delete_cmd_postfix": ") ",
     "delete_cmd_prefix": "rm(",
     "library": "var_list.r",
     "varRefreshCmd": "cat(var_dic_list()) "
    }
   },
   "types_to_exclude": [
    "module",
    "function",
    "builtin_function_or_method",
    "instance",
    "_Feature"
   ],
   "window_display": false
  }
 },
 "nbformat": 4,
 "nbformat_minor": 2
}
