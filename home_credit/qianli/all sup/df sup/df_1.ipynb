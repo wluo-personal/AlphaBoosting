{
 "cells": [
  {
   "cell_type": "code",
   "execution_count": 1,
   "metadata": {
    "ExecuteTime": {
     "end_time": "2018-07-01T21:11:39.493726Z",
     "start_time": "2018-07-01T21:11:34.628383Z"
    }
   },
   "outputs": [
    {
     "data": {
      "text/plain": [
       "'done'"
      ]
     },
     "execution_count": 1,
     "metadata": {},
     "output_type": "execute_result"
    }
   ],
   "source": [
    "import pandas as pd\n",
    "import numpy as np\n",
    "import os\n",
    "import gc\n",
    "\n",
    "PATH = '/home/kai/data/kaggle/homecredit/'\n",
    "\n",
    "train = pd.read_csv(PATH + 'application_train.csv')\n",
    "test = pd.read_csv(PATH + 'application_test.csv')\n",
    "'done'"
   ]
  },
  {
   "cell_type": "code",
   "execution_count": 2,
   "metadata": {
    "ExecuteTime": {
     "end_time": "2018-07-01T21:11:40.269266Z",
     "start_time": "2018-07-01T21:11:39.495488Z"
    }
   },
   "outputs": [],
   "source": [
    "df = pd.concat([train,test], axis = 0, sort = False)"
   ]
  },
  {
   "cell_type": "markdown",
   "metadata": {},
   "source": [
    "# Factorize"
   ]
  },
  {
   "cell_type": "code",
   "execution_count": 3,
   "metadata": {
    "ExecuteTime": {
     "end_time": "2018-07-01T21:11:40.285247Z",
     "start_time": "2018-07-01T21:11:40.273127Z"
    }
   },
   "outputs": [
    {
     "data": {
      "text/plain": [
       "'done'"
      ]
     },
     "execution_count": 3,
     "metadata": {},
     "output_type": "execute_result"
    }
   ],
   "source": [
    "def minus_name(col1, col2): return col1 + '_minus_' + col2\n",
    "def minus(df, col1, col2): return df[col1] - df[col2]\n",
    "\n",
    "def ratio_name(col1, col2): return col1 + '_divide_' + col2\n",
    "def ratio(df, col1, col2): return df[col1] / df[col2]\n",
    "\n",
    "def multiply_name(col1, col2): return col1 + '_times_' + col2\n",
    "def multiply(df, col1, col2): return df[col1] * df[col2]\n",
    "\n",
    "def positive_count(df, gp_col, col):\n",
    "    group = (df[col] > 0).astype('int8')\n",
    "    group = pd.concat([df[gp_col], group], axis=1).groupby(gp_col)[[col]].sum().reset_index().rename(index=str, columns={col: 'positivecount_'+'_'.join([gp_col, col])})\n",
    "    return group.astype({gp_col: df[gp_col].dtype})\n",
    "\n",
    "def count(df, gp_col, col):\n",
    "    group = df[[gp_col,col]].groupby(gp_col)[[col]].count().reset_index().rename(index=str, columns={col:'count_'+gp_col})\n",
    "    return group.astype({gp_col: df[gp_col].dtype})\n",
    "\n",
    "def numerical(df, gp_col, col, agg_fun):\n",
    "    _df = df.groupby(gp_col)[[col]].agg(agg_fun)\n",
    "    \n",
    "    columns = []\n",
    "    for x in _df.columns.levels[0]:\n",
    "        for y in _df.columns.levels[1]:\n",
    "            columns.append('_'.join([x, y]))\n",
    "    _df.columns = columns\n",
    "    return _df.reset_index().astype({gp_col: df[gp_col].dtype})\n",
    "\n",
    "def one_hot(df, gp_col, col):\n",
    "    return pd.concat([df[gp_col], pd.get_dummies(df[col], prefix='onehot_' + col, dummy_na = True)], axis=1).groupby(gp_col).sum().reset_index().astype({gp_col: df[gp_col].dtype})\n",
    "\n",
    "'done'"
   ]
  },
  {
   "cell_type": "code",
   "execution_count": 4,
   "metadata": {
    "ExecuteTime": {
     "end_time": "2018-07-01T21:11:41.159201Z",
     "start_time": "2018-07-01T21:11:40.287293Z"
    }
   },
   "outputs": [
    {
     "name": "stdout",
     "output_type": "stream",
     "text": [
      "(356255, 119)\n"
     ]
    }
   ],
   "source": [
    "flag_other = [col for col in train.columns.values if 'FLAG' in col and 'DOCUMENT' not in col]\n",
    "df['CONTACT'] = df[['FLAG_MOBIL',\n",
    " 'FLAG_EMP_PHONE',\n",
    " 'FLAG_WORK_PHONE',\n",
    " 'FLAG_CONT_MOBILE',\n",
    " 'FLAG_PHONE','FLAG_EMAIL']].sum(axis = 1)\n",
    "\n",
    "df.drop(['FLAG_MOBIL',\n",
    " 'FLAG_EMP_PHONE',\n",
    " 'FLAG_WORK_PHONE',\n",
    " 'FLAG_CONT_MOBILE',\n",
    " 'FLAG_PHONE'], axis = 1, inplace = True)\n",
    "\n",
    "df['FLAG_OTHER'] = df[['FLAG_OWN_CAR',\n",
    " 'FLAG_OWN_REALTY']].sum(axis = 1)\n",
    "print(df.shape)"
   ]
  },
  {
   "cell_type": "markdown",
   "metadata": {},
   "source": [
    "## Factorize & onehot"
   ]
  },
  {
   "cell_type": "code",
   "execution_count": 5,
   "metadata": {
    "ExecuteTime": {
     "end_time": "2018-07-01T21:11:42.009067Z",
     "start_time": "2018-07-01T21:11:41.161050Z"
    }
   },
   "outputs": [
    {
     "name": "stdout",
     "output_type": "stream",
     "text": [
      "NAME_CONTRACT_TYPE\n",
      "FLAG_OWN_CAR\n",
      "FLAG_OWN_REALTY\n",
      "FLAG_OWN_CAR\n",
      "FLAG_OWN_REALTY\n",
      "CODE_GENDER\n",
      "WEEKDAY_APPR_PROCESS_START\n",
      "12 7\n",
      "NAME_TYPE_SUITE\n",
      "{nan, 'Other_A', 'Family', 'Children', 'Unaccompanied', 'Spouse, partner', 'Other_B', 'Group of people'}\n",
      "NAME_INCOME_TYPE\n",
      "{'Businessman', 'Working', 'Maternity leave', 'Commercial associate', 'Unemployed', 'Student', 'State servant', 'Pensioner'}\n",
      "NAME_EDUCATION_TYPE\n",
      "{'Higher education', 'Lower secondary', 'Academic degree', 'Incomplete higher', 'Secondary / secondary special'}\n",
      "NAME_FAMILY_STATUS\n",
      "{'Single / not married', 'Unknown', 'Married', 'Widow', 'Separated', 'Civil marriage'}\n",
      "NAME_HOUSING_TYPE\n",
      "{'Co-op apartment', 'With parents', 'Office apartment', 'Rented apartment', 'House / apartment', 'Municipal apartment'}\n",
      "OCCUPATION_TYPE\n",
      "{nan, 'Cleaning staff', 'Laborers', 'Private service staff', 'Drivers', 'Waiters/barmen staff', 'HR staff', 'Sales staff', 'Accountants', 'Core staff', 'High skill tech staff', 'Managers', 'IT staff', 'Cooking staff', 'Medicine staff', 'Realty agents', 'Low-skill Laborers', 'Secretaries', 'Security staff'}\n",
      "ORGANIZATION_TYPE\n",
      "{'Bank', 'Transport: type 3', 'Emergency', 'Industry: type 3', 'Industry: type 8', 'Housing', 'Insurance', 'Telecom', 'Realtor', 'Religion', 'Trade: type 1', 'Industry: type 5', 'Government', 'Mobile', 'Industry: type 7', 'Medicine', 'Hotel', 'Industry: type 6', 'Restaurant', 'Industry: type 13', 'Legal Services', 'Industry: type 2', 'School', 'Business Entity Type 1', 'Transport: type 4', 'Police', 'Military', 'Industry: type 9', 'Self-employed', 'Industry: type 11', 'XNA', 'Transport: type 1', 'Trade: type 2', 'Kindergarten', 'Other', 'Trade: type 5', 'Transport: type 2', 'Services', 'Industry: type 4', 'University', 'Industry: type 10', 'Trade: type 4', 'Agriculture', 'Business Entity Type 3', 'Trade: type 6', 'Trade: type 3', 'Electricity', 'Culture', 'Business Entity Type 2', 'Postal', 'Industry: type 12', 'Trade: type 7', 'Cleaning', 'Security', 'Construction', 'Security Ministries', 'Advertising', 'Industry: type 1'}\n",
      "FONDKAPREMONT_MODE\n",
      "{nan, 'reg oper spec account', 'not specified', 'reg oper account', 'org spec account'}\n",
      "HOUSETYPE_MODE\n",
      "{nan, 'terraced house', 'block of flats', 'specific housing'}\n",
      "WALLSMATERIAL_MODE\n",
      "{nan, 'Wooden', 'Stone, brick', 'Panel', 'Block', 'Others', 'Monolithic', 'Mixed'}\n",
      "EMERGENCYSTATE_MODE\n",
      "{nan, 'Yes', 'No'}\n",
      "FLAG_OTHER\n",
      "{'YN', 'NY', 'YY', 'NN'}\n"
     ]
    }
   ],
   "source": [
    "categorical_columns = [col for col in df.columns if df[col].dtype == 'object'] + ['CODE_GENDER', 'FLAG_OWN_CAR', 'FLAG_OWN_REALTY']\n",
    "\n",
    "factor_columns = [col for col in categorical_columns if len(set(df[col])) == 2] + ['CODE_GENDER', 'WEEKDAY_APPR_PROCESS_START']\n",
    "\n",
    "categorical_columns = [i for i in categorical_columns if i not in factor_columns]\n",
    "\n",
    "for bin_feature in factor_columns:\n",
    "    print(bin_feature)\n",
    "    df[bin_feature], uniques = pd.factorize(df[bin_feature])\n",
    "\n",
    "print(len(categorical_columns),len(factor_columns))\n",
    "for col in categorical_columns:\n",
    "    print(col)\n",
    "    print(set(df[col]))"
   ]
  },
  {
   "cell_type": "code",
   "execution_count": 6,
   "metadata": {
    "ExecuteTime": {
     "end_time": "2018-07-01T21:11:47.934139Z",
     "start_time": "2018-07-01T21:11:42.011543Z"
    }
   },
   "outputs": [
    {
     "name": "stdout",
     "output_type": "stream",
     "text": [
      "(356255, 8)\n",
      "NAME_TYPE_SUITE\n",
      "(356255, 127)\n",
      "(356255, 9)\n",
      "NAME_INCOME_TYPE\n",
      "(356255, 136)\n",
      "(356255, 6)\n",
      "NAME_EDUCATION_TYPE\n",
      "(356255, 142)\n",
      "(356255, 7)\n",
      "NAME_FAMILY_STATUS\n",
      "(356255, 149)\n",
      "(356255, 7)\n",
      "NAME_HOUSING_TYPE\n",
      "(356255, 156)\n",
      "(356255, 19)\n",
      "OCCUPATION_TYPE\n",
      "(356255, 175)\n",
      "(356255, 5)\n",
      "FONDKAPREMONT_MODE\n",
      "(356255, 180)\n",
      "(356255, 4)\n",
      "HOUSETYPE_MODE\n",
      "(356255, 184)\n",
      "(356255, 8)\n",
      "WALLSMATERIAL_MODE\n",
      "(356255, 192)\n",
      "(356255, 3)\n",
      "EMERGENCYSTATE_MODE\n",
      "(356255, 195)\n",
      "(356255, 5)\n",
      "FLAG_OTHER\n",
      "(356255, 200)\n",
      "(356255, 200)\n"
     ]
    }
   ],
   "source": [
    "ignore_cat = ['ORGANIZATION_TYPE'] # 'NAME_HOUSING_TYPE','OCCUPATION_TYPE',\n",
    "for col in categorical_columns:\n",
    "    if col not in ignore_cat:\n",
    "        tmp = pd.get_dummies(df[col], prefix= 'one_hot'+col, dummy_na = True)\n",
    "        print(tmp.shape)\n",
    "        print(col)\n",
    "        df = pd.concat([df, tmp], axis = 1)\n",
    "        print(df.shape)\n",
    "#     print(tmp[:5])\n",
    "print(df.shape)\n"
   ]
  },
  {
   "cell_type": "markdown",
   "metadata": {},
   "source": [
    "# AREA"
   ]
  },
  {
   "cell_type": "code",
   "execution_count": 7,
   "metadata": {
    "ExecuteTime": {
     "end_time": "2018-07-01T21:11:47.941839Z",
     "start_time": "2018-07-01T21:11:47.935900Z"
    }
   },
   "outputs": [],
   "source": [
    "l = ['APARTMENTS_AVG', 'BASEMENTAREA_AVG', 'YEARS_BEGINEXPLUATATION_AVG',\n",
    "       'YEARS_BUILD_AVG', 'COMMONAREA_AVG', 'ELEVATORS_AVG',\n",
    "       'ENTRANCES_AVG', 'FLOORSMAX_AVG', 'FLOORSMIN_AVG', 'LANDAREA_AVG',\n",
    "       'LIVINGAPARTMENTS_AVG', 'LIVINGAREA_AVG', 'NONLIVINGAPARTMENTS_AVG',\n",
    "       'NONLIVINGAREA_AVG', 'APARTMENTS_MODE', 'BASEMENTAREA_MODE',\n",
    "       'YEARS_BEGINEXPLUATATION_MODE', 'YEARS_BUILD_MODE',\n",
    "       'COMMONAREA_MODE', 'ELEVATORS_MODE', 'ENTRANCES_MODE',\n",
    "       'FLOORSMAX_MODE', 'FLOORSMIN_MODE', 'LANDAREA_MODE',\n",
    "       'LIVINGAPARTMENTS_MODE', 'LIVINGAREA_MODE',\n",
    "       'NONLIVINGAPARTMENTS_MODE', 'NONLIVINGAREA_MODE', 'APARTMENTS_MEDI',\n",
    "       'BASEMENTAREA_MEDI', 'YEARS_BEGINEXPLUATATION_MEDI',\n",
    "       'YEARS_BUILD_MEDI', 'COMMONAREA_MEDI', 'ELEVATORS_MEDI',\n",
    "       'ENTRANCES_MEDI', 'FLOORSMAX_MEDI', 'FLOORSMIN_MEDI',\n",
    "       'LANDAREA_MEDI', 'LIVINGAPARTMENTS_MEDI', 'LIVINGAREA_MEDI',\n",
    "       'NONLIVINGAPARTMENTS_MEDI', 'NONLIVINGAREA_MEDI',\n",
    "       'FONDKAPREMONT_MODE', 'HOUSETYPE_MODE', 'TOTALAREA_MODE',\n",
    "       'WALLSMATERIAL_MODE', 'EMERGENCYSTATE_MODE']"
   ]
  },
  {
   "cell_type": "code",
   "execution_count": 8,
   "metadata": {
    "ExecuteTime": {
     "end_time": "2018-07-01T21:11:48.508592Z",
     "start_time": "2018-07-01T21:11:47.943675Z"
    }
   },
   "outputs": [
    {
     "name": "stderr",
     "output_type": "stream",
     "text": [
      "/home/kai/anaconda3/lib/python3.6/site-packages/pandas/core/frame.py:3787: SettingWithCopyWarning: \n",
      "A value is trying to be set on a copy of a slice from a DataFrame\n",
      "\n",
      "See the caveats in the documentation: http://pandas.pydata.org/pandas-docs/stable/indexing.html#indexing-view-versus-copy\n",
      "  downcast=downcast, **kwargs)\n"
     ]
    }
   ],
   "source": [
    "df[l].fillna(0 , inplace = True)"
   ]
  },
  {
   "cell_type": "code",
   "execution_count": 9,
   "metadata": {
    "ExecuteTime": {
     "end_time": "2018-07-01T21:11:48.691400Z",
     "start_time": "2018-07-01T21:11:48.510410Z"
    },
    "scrolled": true
   },
   "outputs": [
    {
     "name": "stdout",
     "output_type": "stream",
     "text": [
      "['APARTMENTS_AVG', 'BASEMENTAREA_AVG', 'COMMONAREA_AVG', 'LANDAREA_AVG', 'LIVINGAPARTMENTS_AVG', 'LIVINGAREA_AVG', 'NONLIVINGAPARTMENTS_AVG', 'NONLIVINGAREA_AVG']\n",
      "['APARTMENTS_MODE', 'BASEMENTAREA_MODE', 'COMMONAREA_MODE', 'LANDAREA_MODE', 'LIVINGAPARTMENTS_MODE', 'LIVINGAREA_MODE', 'NONLIVINGAPARTMENTS_MODE', 'NONLIVINGAREA_MODE']\n",
      "['APARTMENTS_MEDI', 'BASEMENTAREA_MEDI', 'COMMONAREA_MEDI', 'LANDAREA_MEDI', 'LIVINGAPARTMENTS_MEDI', 'LIVINGAREA_MEDI', 'NONLIVINGAPARTMENTS_MEDI', 'NONLIVINGAREA_MEDI']\n"
     ]
    }
   ],
   "source": [
    "area = ['APARTMENTS','BASEMENTAREA', 'COMMONAREA','LANDAREA', 'LIVINGAPARTMENTS','LIVINGAREA',\\\n",
    "           'NONLIVINGAPARTMENTS', 'NONLIVINGAREA']\n",
    "\n",
    "for x in ['_AVG', '_MODE', '_MEDI']:\n",
    "    tmp = [y + x for y in area]\n",
    "    print(tmp)\n",
    "    df['livingsum' + x] = df[tmp].sum(axis=1)"
   ]
  },
  {
   "cell_type": "code",
   "execution_count": 10,
   "metadata": {
    "ExecuteTime": {
     "end_time": "2018-07-01T21:11:48.696163Z",
     "start_time": "2018-07-01T21:11:48.693109Z"
    },
    "scrolled": true
   },
   "outputs": [
    {
     "data": {
      "text/plain": [
       "(356255, 203)"
      ]
     },
     "execution_count": 10,
     "metadata": {},
     "output_type": "execute_result"
    }
   ],
   "source": [
    "df.shape"
   ]
  },
  {
   "cell_type": "markdown",
   "metadata": {
    "collapsed": true
   },
   "source": [
    "# 1. Do the ratio wrt to count of family members & living area"
   ]
  },
  {
   "cell_type": "code",
   "execution_count": 11,
   "metadata": {
    "ExecuteTime": {
     "end_time": "2018-07-01T21:11:48.704938Z",
     "start_time": "2018-07-01T21:11:48.697750Z"
    }
   },
   "outputs": [],
   "source": [
    "# 1. Ratio of count of family members(for members less than 4) and living area"
   ]
  },
  {
   "cell_type": "code",
   "execution_count": 12,
   "metadata": {
    "ExecuteTime": {
     "end_time": "2018-07-01T21:11:48.712317Z",
     "start_time": "2018-07-01T21:11:48.706544Z"
    }
   },
   "outputs": [],
   "source": [
    "members_series = df.CNT_FAM_MEMBERS < 4\n",
    "\n",
    "area_list = ['livingsum_AVG','livingsum_MODE','livingsum_MEDI']"
   ]
  },
  {
   "cell_type": "code",
   "execution_count": 13,
   "metadata": {
    "ExecuteTime": {
     "end_time": "2018-07-01T21:11:49.003420Z",
     "start_time": "2018-07-01T21:11:48.713863Z"
    }
   },
   "outputs": [
    {
     "name": "stderr",
     "output_type": "stream",
     "text": [
      "/home/kai/anaconda3/lib/python3.6/site-packages/pandas/core/indexing.py:189: SettingWithCopyWarning: \n",
      "A value is trying to be set on a copy of a slice from a DataFrame\n",
      "\n",
      "See the caveats in the documentation: http://pandas.pydata.org/pandas-docs/stable/indexing.html#indexing-view-versus-copy\n",
      "  self._setitem_with_indexer(indexer, value)\n"
     ]
    },
    {
     "name": "stdout",
     "output_type": "stream",
     "text": [
      "livingsum_AVG_divide_members\n",
      "livingsum_MODE_divide_members\n",
      "livingsum_MEDI_divide_members\n",
      "(356255, 206)\n"
     ]
    }
   ],
   "source": [
    "df['members'] = np.nan\n",
    "\n",
    "df['members'].loc[members_series] = df['CNT_FAM_MEMBERS'].loc[members_series]\n",
    "\n",
    "for col in area_list:\n",
    "    df[ratio_name(col, 'members')] = ratio(df, col, 'members')\n",
    "    print(ratio_name(col, 'members'))\n",
    "    \n",
    "df.drop('members', inplace = True,axis = 1)\n",
    "\n",
    "print(df.shape)"
   ]
  },
  {
   "cell_type": "markdown",
   "metadata": {},
   "source": [
    "# 2. Multiply area rating & living area"
   ]
  },
  {
   "cell_type": "code",
   "execution_count": 14,
   "metadata": {
    "ExecuteTime": {
     "end_time": "2018-07-01T21:11:49.007160Z",
     "start_time": "2018-07-01T21:11:49.005249Z"
    }
   },
   "outputs": [],
   "source": [
    "# def multiply_name(col1, col2): return col1 + '_times_' + col2\n",
    "# def multiply(df, col1, col2): return df[col1] * df[col2]"
   ]
  },
  {
   "cell_type": "code",
   "execution_count": 15,
   "metadata": {
    "ExecuteTime": {
     "end_time": "2018-07-01T21:11:49.025574Z",
     "start_time": "2018-07-01T21:11:49.008958Z"
    }
   },
   "outputs": [
    {
     "name": "stdout",
     "output_type": "stream",
     "text": [
      "REGION_RATING_CLIENT_times_livingsum_AVG\n",
      "REGION_RATING_CLIENT_times_livingsum_MODE\n",
      "REGION_RATING_CLIENT_times_livingsum_MEDI\n",
      "REGION_RATING_CLIENT_W_CITY_times_livingsum_AVG\n",
      "REGION_RATING_CLIENT_W_CITY_times_livingsum_MODE\n",
      "REGION_RATING_CLIENT_W_CITY_times_livingsum_MEDI\n",
      "(356255, 212)\n"
     ]
    }
   ],
   "source": [
    "rating = ['REGION_RATING_CLIENT', 'REGION_RATING_CLIENT_W_CITY']\n",
    "area_list = ['livingsum_AVG','livingsum_MODE','livingsum_MEDI']\n",
    "for i in rating:\n",
    "    for j in area_list:\n",
    "        df[multiply_name(i, j)] = multiply(df, i, i)\n",
    "        print(multiply_name(i, j))\n",
    "\n",
    "print(df.shape)"
   ]
  },
  {
   "cell_type": "markdown",
   "metadata": {},
   "source": [
    "# Do the ratio wrt to amt-dpd and region-population"
   ]
  },
  {
   "cell_type": "code",
   "execution_count": 16,
   "metadata": {
    "ExecuteTime": {
     "end_time": "2018-07-01T21:11:49.029864Z",
     "start_time": "2018-07-01T21:11:49.027577Z"
    }
   },
   "outputs": [],
   "source": [
    "obs = ['OBS_30_CNT_SOCIAL_CIRCLE', 'DEF_30_CNT_SOCIAL_CIRCLE',\n",
    "       'OBS_60_CNT_SOCIAL_CIRCLE', 'DEF_60_CNT_SOCIAL_CIRCLE']\n",
    "pop = ['REGION_POPULATION_RELATIVE']"
   ]
  },
  {
   "cell_type": "code",
   "execution_count": 17,
   "metadata": {
    "ExecuteTime": {
     "end_time": "2018-07-01T21:11:49.042339Z",
     "start_time": "2018-07-01T21:11:49.031645Z"
    }
   },
   "outputs": [
    {
     "name": "stdout",
     "output_type": "stream",
     "text": [
      "OBS_30_CNT_SOCIAL_CIRCLE_divide_REGION_POPULATION_RELATIVE\n",
      "DEF_30_CNT_SOCIAL_CIRCLE_divide_REGION_POPULATION_RELATIVE\n",
      "OBS_60_CNT_SOCIAL_CIRCLE_divide_REGION_POPULATION_RELATIVE\n",
      "DEF_60_CNT_SOCIAL_CIRCLE_divide_REGION_POPULATION_RELATIVE\n",
      "(356255, 216)\n"
     ]
    }
   ],
   "source": [
    "for col in obs:\n",
    "    df[ratio_name(col, 'REGION_POPULATION_RELATIVE')] = ratio(df, col, 'REGION_POPULATION_RELATIVE')\n",
    "    print(ratio_name(col, 'REGION_POPULATION_RELATIVE'))\n",
    "print(df.shape)"
   ]
  },
  {
   "cell_type": "markdown",
   "metadata": {},
   "source": [
    "# DEF/OBS & 60/30"
   ]
  },
  {
   "cell_type": "code",
   "execution_count": 18,
   "metadata": {
    "ExecuteTime": {
     "end_time": "2018-07-01T21:11:49.046675Z",
     "start_time": "2018-07-01T21:11:49.044320Z"
    }
   },
   "outputs": [],
   "source": [
    "obs_30 = ['OBS_30_CNT_SOCIAL_CIRCLE', 'DEF_30_CNT_SOCIAL_CIRCLE']\n",
    "obs_60 = ['OBS_60_CNT_SOCIAL_CIRCLE', 'DEF_60_CNT_SOCIAL_CIRCLE']"
   ]
  },
  {
   "cell_type": "code",
   "execution_count": 19,
   "metadata": {
    "ExecuteTime": {
     "end_time": "2018-07-01T21:11:49.084272Z",
     "start_time": "2018-07-01T21:11:49.048608Z"
    }
   },
   "outputs": [
    {
     "name": "stdout",
     "output_type": "stream",
     "text": [
      "OBS_60_CNT_SOCIAL_CIRCLE_divide_OBS_30_CNT_SOCIAL_CIRCLE\n",
      "OBS_60_CNT_SOCIAL_CIRCLE_divide_DEF_30_CNT_SOCIAL_CIRCLE\n",
      "DEF_60_CNT_SOCIAL_CIRCLE_divide_OBS_30_CNT_SOCIAL_CIRCLE\n",
      "DEF_60_CNT_SOCIAL_CIRCLE_divide_DEF_30_CNT_SOCIAL_CIRCLE\n"
     ]
    }
   ],
   "source": [
    "for i in obs_60:\n",
    "    for j in obs_30:\n",
    "        print(ratio_name(i,j))\n",
    "        df[ratio_name(i,j)] = ratio(df, i, j)"
   ]
  },
  {
   "cell_type": "code",
   "execution_count": 20,
   "metadata": {
    "ExecuteTime": {
     "end_time": "2018-07-01T21:11:49.090166Z",
     "start_time": "2018-07-01T21:11:49.086342Z"
    }
   },
   "outputs": [
    {
     "data": {
      "text/plain": [
       "(356255, 220)"
      ]
     },
     "execution_count": 20,
     "metadata": {},
     "output_type": "execute_result"
    }
   ],
   "source": [
    "df.shape"
   ]
  },
  {
   "cell_type": "code",
   "execution_count": 21,
   "metadata": {
    "ExecuteTime": {
     "end_time": "2018-07-01T21:11:49.096763Z",
     "start_time": "2018-07-01T21:11:49.092116Z"
    }
   },
   "outputs": [],
   "source": [
    "default = ['DEF_30_CNT_SOCIAL_CIRCLE', 'DEF_60_CNT_SOCIAL_CIRCLE']\n",
    "obs = ['OBS_30_CNT_SOCIAL_CIRCLE', 'OBS_60_CNT_SOCIAL_CIRCLE']"
   ]
  },
  {
   "cell_type": "code",
   "execution_count": 22,
   "metadata": {
    "ExecuteTime": {
     "end_time": "2018-07-01T21:11:49.128278Z",
     "start_time": "2018-07-01T21:11:49.098696Z"
    }
   },
   "outputs": [
    {
     "name": "stdout",
     "output_type": "stream",
     "text": [
      "DEF_30_CNT_SOCIAL_CIRCLE_divide_OBS_30_CNT_SOCIAL_CIRCLE\n",
      "(356255, 221)\n",
      "DEF_30_CNT_SOCIAL_CIRCLE_divide_OBS_60_CNT_SOCIAL_CIRCLE\n",
      "(356255, 222)\n",
      "DEF_60_CNT_SOCIAL_CIRCLE_divide_OBS_30_CNT_SOCIAL_CIRCLE\n",
      "(356255, 222)\n",
      "DEF_60_CNT_SOCIAL_CIRCLE_divide_OBS_60_CNT_SOCIAL_CIRCLE\n",
      "(356255, 223)\n"
     ]
    }
   ],
   "source": [
    "for i in default:\n",
    "    for j in obs:\n",
    "        print(ratio_name(i,j))\n",
    "        df[ratio_name(i,j)] = ratio(df, i, j)\n",
    "        print(df.shape)"
   ]
  },
  {
   "cell_type": "markdown",
   "metadata": {
    "ExecuteTime": {
     "end_time": "2018-06-21T15:19:19.544579Z",
     "start_time": "2018-06-21T15:19:19.536314Z"
    }
   },
   "source": [
    "# Other Ratios:"
   ]
  },
  {
   "cell_type": "code",
   "execution_count": 23,
   "metadata": {
    "ExecuteTime": {
     "end_time": "2018-07-01T21:11:49.134104Z",
     "start_time": "2018-07-01T21:11:49.130152Z"
    }
   },
   "outputs": [
    {
     "name": "stdout",
     "output_type": "stream",
     "text": [
      "12 ['AMT_INCOME_TOTAL', 'AMT_CREDIT', 'AMT_ANNUITY', 'AMT_GOODS_PRICE', 'AMT_REQ_CREDIT_BUREAU_HOUR', 'AMT_REQ_CREDIT_BUREAU_DAY', 'AMT_REQ_CREDIT_BUREAU_WEEK', 'AMT_REQ_CREDIT_BUREAU_MON', 'AMT_REQ_CREDIT_BUREAU_QRT', 'AMT_REQ_CREDIT_BUREAU_YEAR', 'OWN_CAR_AGE', 'DAYS_LAST_PHONE_CHANGE']\n",
      "23 ['CNT_CHILDREN', 'DAYS_BIRTH', 'DAYS_EMPLOYED', 'DAYS_REGISTRATION', 'DAYS_ID_PUBLISH', 'CNT_FAM_MEMBERS', 'OBS_30_CNT_SOCIAL_CIRCLE', 'DEF_30_CNT_SOCIAL_CIRCLE', 'OBS_60_CNT_SOCIAL_CIRCLE', 'DEF_60_CNT_SOCIAL_CIRCLE', 'DAYS_LAST_PHONE_CHANGE', 'AMT_INCOME_TOTAL', 'AMT_CREDIT', 'AMT_ANNUITY', 'AMT_GOODS_PRICE', 'AMT_REQ_CREDIT_BUREAU_HOUR', 'AMT_REQ_CREDIT_BUREAU_DAY', 'AMT_REQ_CREDIT_BUREAU_WEEK', 'AMT_REQ_CREDIT_BUREAU_MON', 'AMT_REQ_CREDIT_BUREAU_QRT', 'AMT_REQ_CREDIT_BUREAU_YEAR', 'OWN_CAR_AGE', 'DAYS_LAST_PHONE_CHANGE']\n"
     ]
    }
   ],
   "source": [
    "can_be_numerator = [x for x in train.columns if 'AMT' in x] + ['OWN_CAR_AGE', 'DAYS_LAST_PHONE_CHANGE']\n",
    "can_be_denominator = [x for x in train.columns if 'CNT' in x or 'DAYS' in x] + can_be_numerator\n",
    "\n",
    "print(len(can_be_numerator),can_be_numerator)\n",
    "print(len(can_be_denominator),can_be_denominator)"
   ]
  },
  {
   "cell_type": "code",
   "execution_count": 24,
   "metadata": {
    "ExecuteTime": {
     "end_time": "2018-07-01T21:11:50.284535Z",
     "start_time": "2018-07-01T21:11:49.136022Z"
    }
   },
   "outputs": [
    {
     "name": "stdout",
     "output_type": "stream",
     "text": [
      "AMT_INCOME_TOTAL_divide_CNT_CHILDREN\n",
      "AMT_INCOME_TOTAL_divide_DAYS_BIRTH\n",
      "AMT_INCOME_TOTAL_divide_DAYS_EMPLOYED\n",
      "AMT_INCOME_TOTAL_divide_DAYS_REGISTRATION\n",
      "AMT_INCOME_TOTAL_divide_DAYS_ID_PUBLISH\n",
      "AMT_INCOME_TOTAL_divide_CNT_FAM_MEMBERS\n",
      "AMT_INCOME_TOTAL_divide_OBS_30_CNT_SOCIAL_CIRCLE\n",
      "AMT_INCOME_TOTAL_divide_DEF_30_CNT_SOCIAL_CIRCLE\n",
      "AMT_INCOME_TOTAL_divide_OBS_60_CNT_SOCIAL_CIRCLE\n",
      "AMT_INCOME_TOTAL_divide_DEF_60_CNT_SOCIAL_CIRCLE\n",
      "AMT_INCOME_TOTAL_divide_DAYS_LAST_PHONE_CHANGE\n",
      "AMT_INCOME_TOTAL_divide_AMT_CREDIT\n",
      "AMT_INCOME_TOTAL_divide_AMT_ANNUITY\n",
      "AMT_INCOME_TOTAL_divide_AMT_GOODS_PRICE\n",
      "AMT_INCOME_TOTAL_divide_AMT_REQ_CREDIT_BUREAU_HOUR\n",
      "AMT_INCOME_TOTAL_divide_AMT_REQ_CREDIT_BUREAU_DAY\n",
      "AMT_INCOME_TOTAL_divide_AMT_REQ_CREDIT_BUREAU_WEEK\n",
      "AMT_INCOME_TOTAL_divide_AMT_REQ_CREDIT_BUREAU_MON\n",
      "AMT_INCOME_TOTAL_divide_AMT_REQ_CREDIT_BUREAU_QRT\n",
      "AMT_INCOME_TOTAL_divide_AMT_REQ_CREDIT_BUREAU_YEAR\n",
      "AMT_INCOME_TOTAL_divide_OWN_CAR_AGE\n",
      "AMT_INCOME_TOTAL_divide_DAYS_LAST_PHONE_CHANGE\n",
      "AMT_CREDIT_divide_CNT_CHILDREN\n",
      "AMT_CREDIT_divide_DAYS_BIRTH\n",
      "AMT_CREDIT_divide_DAYS_EMPLOYED\n",
      "AMT_CREDIT_divide_DAYS_REGISTRATION\n",
      "AMT_CREDIT_divide_DAYS_ID_PUBLISH\n",
      "AMT_CREDIT_divide_CNT_FAM_MEMBERS\n",
      "AMT_CREDIT_divide_OBS_30_CNT_SOCIAL_CIRCLE\n",
      "AMT_CREDIT_divide_DEF_30_CNT_SOCIAL_CIRCLE\n",
      "AMT_CREDIT_divide_OBS_60_CNT_SOCIAL_CIRCLE\n",
      "AMT_CREDIT_divide_DEF_60_CNT_SOCIAL_CIRCLE\n",
      "AMT_CREDIT_divide_DAYS_LAST_PHONE_CHANGE\n",
      "AMT_CREDIT_divide_AMT_ANNUITY\n",
      "AMT_CREDIT_divide_AMT_GOODS_PRICE\n",
      "AMT_CREDIT_divide_AMT_REQ_CREDIT_BUREAU_HOUR\n",
      "AMT_CREDIT_divide_AMT_REQ_CREDIT_BUREAU_DAY\n",
      "AMT_CREDIT_divide_AMT_REQ_CREDIT_BUREAU_WEEK\n",
      "AMT_CREDIT_divide_AMT_REQ_CREDIT_BUREAU_MON\n",
      "AMT_CREDIT_divide_AMT_REQ_CREDIT_BUREAU_QRT\n",
      "AMT_CREDIT_divide_AMT_REQ_CREDIT_BUREAU_YEAR\n",
      "AMT_CREDIT_divide_OWN_CAR_AGE\n",
      "AMT_CREDIT_divide_DAYS_LAST_PHONE_CHANGE\n",
      "AMT_ANNUITY_divide_CNT_CHILDREN\n",
      "AMT_ANNUITY_divide_DAYS_BIRTH\n",
      "AMT_ANNUITY_divide_DAYS_EMPLOYED\n",
      "AMT_ANNUITY_divide_DAYS_REGISTRATION\n",
      "AMT_ANNUITY_divide_DAYS_ID_PUBLISH\n",
      "AMT_ANNUITY_divide_CNT_FAM_MEMBERS\n",
      "AMT_ANNUITY_divide_OBS_30_CNT_SOCIAL_CIRCLE\n",
      "AMT_ANNUITY_divide_DEF_30_CNT_SOCIAL_CIRCLE\n",
      "AMT_ANNUITY_divide_OBS_60_CNT_SOCIAL_CIRCLE\n",
      "AMT_ANNUITY_divide_DEF_60_CNT_SOCIAL_CIRCLE\n",
      "AMT_ANNUITY_divide_DAYS_LAST_PHONE_CHANGE\n",
      "AMT_ANNUITY_divide_AMT_GOODS_PRICE\n",
      "AMT_ANNUITY_divide_AMT_REQ_CREDIT_BUREAU_HOUR\n",
      "AMT_ANNUITY_divide_AMT_REQ_CREDIT_BUREAU_DAY\n",
      "AMT_ANNUITY_divide_AMT_REQ_CREDIT_BUREAU_WEEK\n",
      "AMT_ANNUITY_divide_AMT_REQ_CREDIT_BUREAU_MON\n",
      "AMT_ANNUITY_divide_AMT_REQ_CREDIT_BUREAU_QRT\n",
      "AMT_ANNUITY_divide_AMT_REQ_CREDIT_BUREAU_YEAR\n",
      "AMT_ANNUITY_divide_OWN_CAR_AGE\n",
      "AMT_ANNUITY_divide_DAYS_LAST_PHONE_CHANGE\n",
      "AMT_GOODS_PRICE_divide_CNT_CHILDREN\n",
      "AMT_GOODS_PRICE_divide_DAYS_BIRTH\n",
      "AMT_GOODS_PRICE_divide_DAYS_EMPLOYED\n",
      "AMT_GOODS_PRICE_divide_DAYS_REGISTRATION\n",
      "AMT_GOODS_PRICE_divide_DAYS_ID_PUBLISH\n",
      "AMT_GOODS_PRICE_divide_CNT_FAM_MEMBERS\n",
      "AMT_GOODS_PRICE_divide_OBS_30_CNT_SOCIAL_CIRCLE\n",
      "AMT_GOODS_PRICE_divide_DEF_30_CNT_SOCIAL_CIRCLE\n",
      "AMT_GOODS_PRICE_divide_OBS_60_CNT_SOCIAL_CIRCLE\n",
      "AMT_GOODS_PRICE_divide_DEF_60_CNT_SOCIAL_CIRCLE\n",
      "AMT_GOODS_PRICE_divide_DAYS_LAST_PHONE_CHANGE\n",
      "AMT_GOODS_PRICE_divide_AMT_REQ_CREDIT_BUREAU_HOUR\n",
      "AMT_GOODS_PRICE_divide_AMT_REQ_CREDIT_BUREAU_DAY\n",
      "AMT_GOODS_PRICE_divide_AMT_REQ_CREDIT_BUREAU_WEEK\n",
      "AMT_GOODS_PRICE_divide_AMT_REQ_CREDIT_BUREAU_MON\n",
      "AMT_GOODS_PRICE_divide_AMT_REQ_CREDIT_BUREAU_QRT\n",
      "AMT_GOODS_PRICE_divide_AMT_REQ_CREDIT_BUREAU_YEAR\n",
      "AMT_GOODS_PRICE_divide_OWN_CAR_AGE\n",
      "AMT_GOODS_PRICE_divide_DAYS_LAST_PHONE_CHANGE\n",
      "AMT_REQ_CREDIT_BUREAU_HOUR_divide_CNT_CHILDREN\n",
      "AMT_REQ_CREDIT_BUREAU_HOUR_divide_DAYS_BIRTH\n",
      "AMT_REQ_CREDIT_BUREAU_HOUR_divide_DAYS_EMPLOYED\n",
      "AMT_REQ_CREDIT_BUREAU_HOUR_divide_DAYS_REGISTRATION\n",
      "AMT_REQ_CREDIT_BUREAU_HOUR_divide_DAYS_ID_PUBLISH\n",
      "AMT_REQ_CREDIT_BUREAU_HOUR_divide_CNT_FAM_MEMBERS\n",
      "AMT_REQ_CREDIT_BUREAU_HOUR_divide_OBS_30_CNT_SOCIAL_CIRCLE\n",
      "AMT_REQ_CREDIT_BUREAU_HOUR_divide_DEF_30_CNT_SOCIAL_CIRCLE\n",
      "AMT_REQ_CREDIT_BUREAU_HOUR_divide_OBS_60_CNT_SOCIAL_CIRCLE\n",
      "AMT_REQ_CREDIT_BUREAU_HOUR_divide_DEF_60_CNT_SOCIAL_CIRCLE\n",
      "AMT_REQ_CREDIT_BUREAU_HOUR_divide_DAYS_LAST_PHONE_CHANGE\n",
      "AMT_REQ_CREDIT_BUREAU_HOUR_divide_AMT_REQ_CREDIT_BUREAU_DAY\n",
      "AMT_REQ_CREDIT_BUREAU_HOUR_divide_AMT_REQ_CREDIT_BUREAU_WEEK\n",
      "AMT_REQ_CREDIT_BUREAU_HOUR_divide_AMT_REQ_CREDIT_BUREAU_MON\n",
      "AMT_REQ_CREDIT_BUREAU_HOUR_divide_AMT_REQ_CREDIT_BUREAU_QRT\n",
      "AMT_REQ_CREDIT_BUREAU_HOUR_divide_AMT_REQ_CREDIT_BUREAU_YEAR\n",
      "AMT_REQ_CREDIT_BUREAU_HOUR_divide_OWN_CAR_AGE\n",
      "AMT_REQ_CREDIT_BUREAU_HOUR_divide_DAYS_LAST_PHONE_CHANGE\n",
      "AMT_REQ_CREDIT_BUREAU_DAY_divide_CNT_CHILDREN\n",
      "AMT_REQ_CREDIT_BUREAU_DAY_divide_DAYS_BIRTH\n",
      "AMT_REQ_CREDIT_BUREAU_DAY_divide_DAYS_EMPLOYED\n",
      "AMT_REQ_CREDIT_BUREAU_DAY_divide_DAYS_REGISTRATION\n",
      "AMT_REQ_CREDIT_BUREAU_DAY_divide_DAYS_ID_PUBLISH\n",
      "AMT_REQ_CREDIT_BUREAU_DAY_divide_CNT_FAM_MEMBERS\n",
      "AMT_REQ_CREDIT_BUREAU_DAY_divide_OBS_30_CNT_SOCIAL_CIRCLE\n",
      "AMT_REQ_CREDIT_BUREAU_DAY_divide_DEF_30_CNT_SOCIAL_CIRCLE\n",
      "AMT_REQ_CREDIT_BUREAU_DAY_divide_OBS_60_CNT_SOCIAL_CIRCLE\n",
      "AMT_REQ_CREDIT_BUREAU_DAY_divide_DEF_60_CNT_SOCIAL_CIRCLE\n",
      "AMT_REQ_CREDIT_BUREAU_DAY_divide_DAYS_LAST_PHONE_CHANGE\n",
      "AMT_REQ_CREDIT_BUREAU_DAY_divide_AMT_REQ_CREDIT_BUREAU_WEEK\n",
      "AMT_REQ_CREDIT_BUREAU_DAY_divide_AMT_REQ_CREDIT_BUREAU_MON\n",
      "AMT_REQ_CREDIT_BUREAU_DAY_divide_AMT_REQ_CREDIT_BUREAU_QRT\n",
      "AMT_REQ_CREDIT_BUREAU_DAY_divide_AMT_REQ_CREDIT_BUREAU_YEAR\n",
      "AMT_REQ_CREDIT_BUREAU_DAY_divide_OWN_CAR_AGE\n",
      "AMT_REQ_CREDIT_BUREAU_DAY_divide_DAYS_LAST_PHONE_CHANGE\n",
      "AMT_REQ_CREDIT_BUREAU_WEEK_divide_CNT_CHILDREN\n",
      "AMT_REQ_CREDIT_BUREAU_WEEK_divide_DAYS_BIRTH\n",
      "AMT_REQ_CREDIT_BUREAU_WEEK_divide_DAYS_EMPLOYED\n",
      "AMT_REQ_CREDIT_BUREAU_WEEK_divide_DAYS_REGISTRATION\n",
      "AMT_REQ_CREDIT_BUREAU_WEEK_divide_DAYS_ID_PUBLISH\n",
      "AMT_REQ_CREDIT_BUREAU_WEEK_divide_CNT_FAM_MEMBERS\n",
      "AMT_REQ_CREDIT_BUREAU_WEEK_divide_OBS_30_CNT_SOCIAL_CIRCLE\n",
      "AMT_REQ_CREDIT_BUREAU_WEEK_divide_DEF_30_CNT_SOCIAL_CIRCLE\n",
      "AMT_REQ_CREDIT_BUREAU_WEEK_divide_OBS_60_CNT_SOCIAL_CIRCLE\n",
      "AMT_REQ_CREDIT_BUREAU_WEEK_divide_DEF_60_CNT_SOCIAL_CIRCLE\n",
      "AMT_REQ_CREDIT_BUREAU_WEEK_divide_DAYS_LAST_PHONE_CHANGE\n",
      "AMT_REQ_CREDIT_BUREAU_WEEK_divide_AMT_REQ_CREDIT_BUREAU_MON\n",
      "AMT_REQ_CREDIT_BUREAU_WEEK_divide_AMT_REQ_CREDIT_BUREAU_QRT\n",
      "AMT_REQ_CREDIT_BUREAU_WEEK_divide_AMT_REQ_CREDIT_BUREAU_YEAR\n",
      "AMT_REQ_CREDIT_BUREAU_WEEK_divide_OWN_CAR_AGE\n",
      "AMT_REQ_CREDIT_BUREAU_WEEK_divide_DAYS_LAST_PHONE_CHANGE\n",
      "AMT_REQ_CREDIT_BUREAU_MON_divide_CNT_CHILDREN\n",
      "AMT_REQ_CREDIT_BUREAU_MON_divide_DAYS_BIRTH\n",
      "AMT_REQ_CREDIT_BUREAU_MON_divide_DAYS_EMPLOYED\n",
      "AMT_REQ_CREDIT_BUREAU_MON_divide_DAYS_REGISTRATION\n",
      "AMT_REQ_CREDIT_BUREAU_MON_divide_DAYS_ID_PUBLISH\n",
      "AMT_REQ_CREDIT_BUREAU_MON_divide_CNT_FAM_MEMBERS\n",
      "AMT_REQ_CREDIT_BUREAU_MON_divide_OBS_30_CNT_SOCIAL_CIRCLE\n",
      "AMT_REQ_CREDIT_BUREAU_MON_divide_DEF_30_CNT_SOCIAL_CIRCLE\n",
      "AMT_REQ_CREDIT_BUREAU_MON_divide_OBS_60_CNT_SOCIAL_CIRCLE\n",
      "AMT_REQ_CREDIT_BUREAU_MON_divide_DEF_60_CNT_SOCIAL_CIRCLE\n",
      "AMT_REQ_CREDIT_BUREAU_MON_divide_DAYS_LAST_PHONE_CHANGE\n",
      "AMT_REQ_CREDIT_BUREAU_MON_divide_AMT_REQ_CREDIT_BUREAU_QRT\n",
      "AMT_REQ_CREDIT_BUREAU_MON_divide_AMT_REQ_CREDIT_BUREAU_YEAR\n",
      "AMT_REQ_CREDIT_BUREAU_MON_divide_OWN_CAR_AGE\n",
      "AMT_REQ_CREDIT_BUREAU_MON_divide_DAYS_LAST_PHONE_CHANGE\n",
      "AMT_REQ_CREDIT_BUREAU_QRT_divide_CNT_CHILDREN\n",
      "AMT_REQ_CREDIT_BUREAU_QRT_divide_DAYS_BIRTH\n",
      "AMT_REQ_CREDIT_BUREAU_QRT_divide_DAYS_EMPLOYED\n",
      "AMT_REQ_CREDIT_BUREAU_QRT_divide_DAYS_REGISTRATION\n",
      "AMT_REQ_CREDIT_BUREAU_QRT_divide_DAYS_ID_PUBLISH\n",
      "AMT_REQ_CREDIT_BUREAU_QRT_divide_CNT_FAM_MEMBERS\n",
      "AMT_REQ_CREDIT_BUREAU_QRT_divide_OBS_30_CNT_SOCIAL_CIRCLE\n",
      "AMT_REQ_CREDIT_BUREAU_QRT_divide_DEF_30_CNT_SOCIAL_CIRCLE\n",
      "AMT_REQ_CREDIT_BUREAU_QRT_divide_OBS_60_CNT_SOCIAL_CIRCLE\n",
      "AMT_REQ_CREDIT_BUREAU_QRT_divide_DEF_60_CNT_SOCIAL_CIRCLE\n",
      "AMT_REQ_CREDIT_BUREAU_QRT_divide_DAYS_LAST_PHONE_CHANGE\n",
      "AMT_REQ_CREDIT_BUREAU_QRT_divide_AMT_REQ_CREDIT_BUREAU_YEAR\n",
      "AMT_REQ_CREDIT_BUREAU_QRT_divide_OWN_CAR_AGE\n",
      "AMT_REQ_CREDIT_BUREAU_QRT_divide_DAYS_LAST_PHONE_CHANGE\n",
      "AMT_REQ_CREDIT_BUREAU_YEAR_divide_CNT_CHILDREN\n",
      "AMT_REQ_CREDIT_BUREAU_YEAR_divide_DAYS_BIRTH\n",
      "AMT_REQ_CREDIT_BUREAU_YEAR_divide_DAYS_EMPLOYED\n",
      "AMT_REQ_CREDIT_BUREAU_YEAR_divide_DAYS_REGISTRATION\n",
      "AMT_REQ_CREDIT_BUREAU_YEAR_divide_DAYS_ID_PUBLISH\n",
      "AMT_REQ_CREDIT_BUREAU_YEAR_divide_CNT_FAM_MEMBERS\n",
      "AMT_REQ_CREDIT_BUREAU_YEAR_divide_OBS_30_CNT_SOCIAL_CIRCLE\n",
      "AMT_REQ_CREDIT_BUREAU_YEAR_divide_DEF_30_CNT_SOCIAL_CIRCLE\n",
      "AMT_REQ_CREDIT_BUREAU_YEAR_divide_OBS_60_CNT_SOCIAL_CIRCLE\n",
      "AMT_REQ_CREDIT_BUREAU_YEAR_divide_DEF_60_CNT_SOCIAL_CIRCLE\n",
      "AMT_REQ_CREDIT_BUREAU_YEAR_divide_DAYS_LAST_PHONE_CHANGE\n",
      "AMT_REQ_CREDIT_BUREAU_YEAR_divide_OWN_CAR_AGE\n",
      "AMT_REQ_CREDIT_BUREAU_YEAR_divide_DAYS_LAST_PHONE_CHANGE\n",
      "OWN_CAR_AGE_divide_CNT_CHILDREN\n",
      "OWN_CAR_AGE_divide_DAYS_BIRTH\n",
      "OWN_CAR_AGE_divide_DAYS_EMPLOYED\n",
      "OWN_CAR_AGE_divide_DAYS_REGISTRATION\n",
      "OWN_CAR_AGE_divide_DAYS_ID_PUBLISH\n",
      "OWN_CAR_AGE_divide_CNT_FAM_MEMBERS\n",
      "OWN_CAR_AGE_divide_OBS_30_CNT_SOCIAL_CIRCLE\n",
      "OWN_CAR_AGE_divide_DEF_30_CNT_SOCIAL_CIRCLE\n",
      "OWN_CAR_AGE_divide_OBS_60_CNT_SOCIAL_CIRCLE\n"
     ]
    },
    {
     "name": "stdout",
     "output_type": "stream",
     "text": [
      "OWN_CAR_AGE_divide_DEF_60_CNT_SOCIAL_CIRCLE\n",
      "OWN_CAR_AGE_divide_DAYS_LAST_PHONE_CHANGE\n",
      "OWN_CAR_AGE_divide_DAYS_LAST_PHONE_CHANGE\n",
      "DAYS_LAST_PHONE_CHANGE_divide_CNT_CHILDREN\n",
      "DAYS_LAST_PHONE_CHANGE_divide_DAYS_BIRTH\n",
      "DAYS_LAST_PHONE_CHANGE_divide_DAYS_EMPLOYED\n",
      "DAYS_LAST_PHONE_CHANGE_divide_DAYS_REGISTRATION\n",
      "DAYS_LAST_PHONE_CHANGE_divide_DAYS_ID_PUBLISH\n",
      "DAYS_LAST_PHONE_CHANGE_divide_CNT_FAM_MEMBERS\n",
      "DAYS_LAST_PHONE_CHANGE_divide_OBS_30_CNT_SOCIAL_CIRCLE\n",
      "DAYS_LAST_PHONE_CHANGE_divide_DEF_30_CNT_SOCIAL_CIRCLE\n",
      "DAYS_LAST_PHONE_CHANGE_divide_OBS_60_CNT_SOCIAL_CIRCLE\n",
      "DAYS_LAST_PHONE_CHANGE_divide_DEF_60_CNT_SOCIAL_CIRCLE\n",
      "197 (356255, 409)\n"
     ]
    }
   ],
   "source": [
    "i = 0\n",
    "for x in can_be_numerator:\n",
    "    for y in can_be_denominator:\n",
    "        if y != x and ratio_name(y,x) not in df.columns:\n",
    "            i += 1\n",
    "            print(ratio_name(x,y))\n",
    "            df[ratio_name(x, y)] = ratio(df, x, y)\n",
    "print(i, df.shape)"
   ]
  },
  {
   "cell_type": "markdown",
   "metadata": {},
   "source": [
    "# Concat prev and do features"
   ]
  },
  {
   "cell_type": "code",
   "execution_count": 25,
   "metadata": {
    "ExecuteTime": {
     "end_time": "2018-07-01T21:12:03.684029Z",
     "start_time": "2018-07-01T21:11:50.286568Z"
    }
   },
   "outputs": [
    {
     "name": "stdout",
     "output_type": "stream",
     "text": [
      "(356255, 1226)\n"
     ]
    }
   ],
   "source": [
    "prev = pd.read_pickle(PATH + 'test/prev2curr_0.pkl')\n",
    "df = df.merge(prev, how = 'left', on = 'SK_ID_CURR')\n",
    "print(df.shape)"
   ]
  },
  {
   "cell_type": "code",
   "execution_count": 26,
   "metadata": {
    "ExecuteTime": {
     "end_time": "2018-07-01T21:12:03.688008Z",
     "start_time": "2018-07-01T21:12:03.685826Z"
    }
   },
   "outputs": [],
   "source": [
    "# docs\n",
    "# docs = [_f for _f in df.columns if 'FLAG_DOC' in _f]\n",
    "# print(docs)\n",
    "# df['NEW_DOC_IND_KURT'] = df[docs].kurtosis(axis=1) \n",
    "# df.drop(docs,axis = 1, inplace = True)"
   ]
  },
  {
   "cell_type": "code",
   "execution_count": 27,
   "metadata": {
    "ExecuteTime": {
     "end_time": "2018-07-01T21:12:03.711633Z",
     "start_time": "2018-07-01T21:12:03.689644Z"
    }
   },
   "outputs": [],
   "source": [
    "# ext\n",
    "# ext_col = [col for col in df.columns if 'EXT' in col]\n",
    "# df['MEAN_EXT'] = df[ext_col].mean(axis = 1)"
   ]
  },
  {
   "cell_type": "code",
   "execution_count": 28,
   "metadata": {
    "ExecuteTime": {
     "end_time": "2018-07-01T21:12:03.721049Z",
     "start_time": "2018-07-01T21:12:03.714044Z"
    }
   },
   "outputs": [
    {
     "data": {
      "text/plain": [
       "(356255, 1226)"
      ]
     },
     "execution_count": 28,
     "metadata": {},
     "output_type": "execute_result"
    }
   ],
   "source": [
    "df.shape"
   ]
  },
  {
   "cell_type": "markdown",
   "metadata": {},
   "source": [
    "# Cat Features drop"
   ]
  },
  {
   "cell_type": "code",
   "execution_count": 29,
   "metadata": {
    "ExecuteTime": {
     "end_time": "2018-07-01T21:12:07.566816Z",
     "start_time": "2018-07-01T21:12:03.723979Z"
    },
    "scrolled": true
   },
   "outputs": [
    {
     "name": "stdout",
     "output_type": "stream",
     "text": [
      "(356255, 1214)\n",
      "(307511, 1214) (48744, 1214)\n"
     ]
    },
    {
     "name": "stderr",
     "output_type": "stream",
     "text": [
      "/home/kai/anaconda3/lib/python3.6/site-packages/pandas/core/frame.py:3694: SettingWithCopyWarning: \n",
      "A value is trying to be set on a copy of a slice from a DataFrame\n",
      "\n",
      "See the caveats in the documentation: http://pandas.pydata.org/pandas-docs/stable/indexing.html#indexing-view-versus-copy\n",
      "  errors=errors)\n"
     ]
    },
    {
     "data": {
      "text/plain": [
       "(48744, 1213)"
      ]
     },
     "execution_count": 29,
     "metadata": {},
     "output_type": "execute_result"
    }
   ],
   "source": [
    "# cat_feats = ['NAME_CONTRACT_TYPE','CODE_GENDER','FLAG_OWN_CAR','FLAG_OWN_REALTY','NAME_TYPE_SUITE',\n",
    "#     'NAME_INCOME_TYPE','NAME_EDUCATION_TYPE', 'NAME_FAMILY_STATUS', 'NAME_HOUSING_TYPE', 'FLAG_EMAIL', 'OCCUPATION_TYPE',\n",
    "#     'REG_REGION_NOT_LIVE_REGION', 'REG_REGION_NOT_WORK_REGION', 'LIVE_REGION_NOT_WORK_REGION', 'REG_CITY_NOT_LIVE_CITY',\n",
    "#     'REG_CITY_NOT_WORK_CITY', 'LIVE_CITY_NOT_WORK_CITY', 'FLAG_DOCUMENT_2', 'FLAG_DOCUMENT_3',\n",
    "#     'FLAG_DOCUMENT_4', 'FLAG_DOCUMENT_5', 'FLAG_DOCUMENT_6', 'FLAG_DOCUMENT_7', 'FLAG_DOCUMENT_8', 'FLAG_DOCUMENT_9',\n",
    "#     'FLAG_DOCUMENT_10', 'FLAG_DOCUMENT_11', 'FLAG_DOCUMENT_12', 'FLAG_DOCUMENT_13', 'FLAG_DOCUMENT_14',\n",
    "#     'FLAG_DOCUMENT_15', 'FLAG_DOCUMENT_16', 'FLAG_DOCUMENT_17', 'FLAG_DOCUMENT_18', 'FLAG_DOCUMENT_19',\n",
    "#     'FLAG_DOCUMENT_20', 'FLAG_DOCUMENT_21','WEEKDAY_APPR_PROCESS_START', 'FONDKAPREMONT_MODE', 'HOUSETYPE_MODE', \n",
    "#     'WALLSMATERIAL_MODE', 'EMERGENCYSTATE_MODE'\n",
    "# ]\n",
    "\n",
    "# #'FLAG_MOBIL' 'FLAG_EMP_PHONE' 'FLAG_WORK_PHONE' 'FLAG_CONT_MOBILE'\\n 'FLAG_PHONE'\n",
    "# df.drop(cat_feats, inplace = True, axis = 1)\n",
    "# print(df.shape)\n",
    "\n",
    "df.drop(categorical_columns, axis = 1, inplace = True)\n",
    "print(df.shape)\n",
    "\n",
    "train = df[df['TARGET'].notnull()]\n",
    "test = df[df['TARGET'].isnull()]\n",
    "print(train.shape,test.shape)\n",
    "\n",
    "test.drop('TARGET', axis = 1, inplace = True)\n",
    "test.shape"
   ]
  },
  {
   "cell_type": "markdown",
   "metadata": {},
   "source": [
    "# Output"
   ]
  },
  {
   "cell_type": "code",
   "execution_count": 30,
   "metadata": {
    "ExecuteTime": {
     "end_time": "2018-07-01T21:12:15.638742Z",
     "start_time": "2018-07-01T21:12:07.568619Z"
    }
   },
   "outputs": [],
   "source": [
    "train.to_pickle(PATH + 'test/train_w_prev_3.pkl')\n",
    "test.to_pickle(PATH + 'test/test_w_prev_3.pkl')"
   ]
  },
  {
   "cell_type": "code",
   "execution_count": 31,
   "metadata": {
    "ExecuteTime": {
     "end_time": "2018-07-01T21:12:15.658352Z",
     "start_time": "2018-07-01T21:12:15.640365Z"
    }
   },
   "outputs": [
    {
     "data": {
      "text/html": [
       "<div>\n",
       "<style scoped>\n",
       "    .dataframe tbody tr th:only-of-type {\n",
       "        vertical-align: middle;\n",
       "    }\n",
       "\n",
       "    .dataframe tbody tr th {\n",
       "        vertical-align: top;\n",
       "    }\n",
       "\n",
       "    .dataframe thead th {\n",
       "        text-align: right;\n",
       "    }\n",
       "</style>\n",
       "<table border=\"1\" class=\"dataframe\">\n",
       "  <thead>\n",
       "    <tr style=\"text-align: right;\">\n",
       "      <th></th>\n",
       "      <th>SK_ID_CURR</th>\n",
       "      <th>TARGET</th>\n",
       "      <th>NAME_CONTRACT_TYPE</th>\n",
       "      <th>CODE_GENDER</th>\n",
       "      <th>FLAG_OWN_CAR</th>\n",
       "      <th>FLAG_OWN_REALTY</th>\n",
       "      <th>CNT_CHILDREN</th>\n",
       "      <th>AMT_INCOME_TOTAL</th>\n",
       "      <th>AMT_CREDIT</th>\n",
       "      <th>AMT_ANNUITY</th>\n",
       "      <th>...</th>\n",
       "      <th>prev_AMT_GOODS_PRICE_divide_DAYS_LAST_DUE_minus_DAYS_TERMINATION_mean</th>\n",
       "      <th>prev_AMT_GOODS_PRICE_divide_DAYS_LAST_DUE_minus_DAYS_TERMINATION_median</th>\n",
       "      <th>prev_AMT_GOODS_PRICE_divide_DAYS_LAST_DUE_minus_DAYS_TERMINATION_max</th>\n",
       "      <th>prev_AMT_GOODS_PRICE_divide_DAYS_LAST_DUE_minus_DAYS_TERMINATION_min</th>\n",
       "      <th>prev_AMT_GOODS_PRICE_divide_DAYS_LAST_DUE_minus_DAYS_TERMINATION_sum</th>\n",
       "      <th>prev_HOUR_APPR_PROCESS_START_mean</th>\n",
       "      <th>prev_HOUR_APPR_PROCESS_START_median</th>\n",
       "      <th>prev_HOUR_APPR_PROCESS_START_max</th>\n",
       "      <th>prev_HOUR_APPR_PROCESS_START_min</th>\n",
       "      <th>prev_HOUR_APPR_PROCESS_START_sum</th>\n",
       "    </tr>\n",
       "  </thead>\n",
       "  <tbody>\n",
       "    <tr>\n",
       "      <th>0</th>\n",
       "      <td>100002</td>\n",
       "      <td>1.0</td>\n",
       "      <td>0</td>\n",
       "      <td>0</td>\n",
       "      <td>0</td>\n",
       "      <td>0</td>\n",
       "      <td>0</td>\n",
       "      <td>202500.0</td>\n",
       "      <td>406597.5</td>\n",
       "      <td>24700.5</td>\n",
       "      <td>...</td>\n",
       "      <td>-2.238467e+04</td>\n",
       "      <td>-2.238467e+04</td>\n",
       "      <td>-2.238467e+04</td>\n",
       "      <td>-22384.673084</td>\n",
       "      <td>-2.238467e+04</td>\n",
       "      <td>9.000000</td>\n",
       "      <td>9.0</td>\n",
       "      <td>9.0</td>\n",
       "      <td>9.0</td>\n",
       "      <td>9.0</td>\n",
       "    </tr>\n",
       "    <tr>\n",
       "      <th>1</th>\n",
       "      <td>100003</td>\n",
       "      <td>0.0</td>\n",
       "      <td>0</td>\n",
       "      <td>1</td>\n",
       "      <td>0</td>\n",
       "      <td>1</td>\n",
       "      <td>0</td>\n",
       "      <td>270000.0</td>\n",
       "      <td>1293502.5</td>\n",
       "      <td>35698.5</td>\n",
       "      <td>...</td>\n",
       "      <td>-5.313685e+04</td>\n",
       "      <td>-4.219277e+04</td>\n",
       "      <td>-1.720668e+04</td>\n",
       "      <td>-100011.112346</td>\n",
       "      <td>-1.594106e+05</td>\n",
       "      <td>14.666667</td>\n",
       "      <td>15.0</td>\n",
       "      <td>17.0</td>\n",
       "      <td>12.0</td>\n",
       "      <td>44.0</td>\n",
       "    </tr>\n",
       "    <tr>\n",
       "      <th>2</th>\n",
       "      <td>100004</td>\n",
       "      <td>0.0</td>\n",
       "      <td>1</td>\n",
       "      <td>0</td>\n",
       "      <td>1</td>\n",
       "      <td>0</td>\n",
       "      <td>0</td>\n",
       "      <td>67500.0</td>\n",
       "      <td>135000.0</td>\n",
       "      <td>6750.0</td>\n",
       "      <td>...</td>\n",
       "      <td>-2.428443e+03</td>\n",
       "      <td>-2.428443e+03</td>\n",
       "      <td>-2.428443e+03</td>\n",
       "      <td>-2428.442844</td>\n",
       "      <td>-2.428443e+03</td>\n",
       "      <td>5.000000</td>\n",
       "      <td>5.0</td>\n",
       "      <td>5.0</td>\n",
       "      <td>5.0</td>\n",
       "      <td>5.0</td>\n",
       "    </tr>\n",
       "    <tr>\n",
       "      <th>3</th>\n",
       "      <td>100006</td>\n",
       "      <td>0.0</td>\n",
       "      <td>0</td>\n",
       "      <td>1</td>\n",
       "      <td>0</td>\n",
       "      <td>0</td>\n",
       "      <td>0</td>\n",
       "      <td>135000.0</td>\n",
       "      <td>312682.5</td>\n",
       "      <td>29686.5</td>\n",
       "      <td>...</td>\n",
       "      <td>1.512074e+08</td>\n",
       "      <td>1.349985e+08</td>\n",
       "      <td>3.349170e+08</td>\n",
       "      <td>-84385.548194</td>\n",
       "      <td>6.048296e+08</td>\n",
       "      <td>14.666667</td>\n",
       "      <td>15.0</td>\n",
       "      <td>15.0</td>\n",
       "      <td>12.0</td>\n",
       "      <td>132.0</td>\n",
       "    </tr>\n",
       "    <tr>\n",
       "      <th>4</th>\n",
       "      <td>100007</td>\n",
       "      <td>0.0</td>\n",
       "      <td>0</td>\n",
       "      <td>0</td>\n",
       "      <td>0</td>\n",
       "      <td>0</td>\n",
       "      <td>0</td>\n",
       "      <td>121500.0</td>\n",
       "      <td>513000.0</td>\n",
       "      <td>21865.5</td>\n",
       "      <td>...</td>\n",
       "      <td>4.948815e+07</td>\n",
       "      <td>-3.445383e+03</td>\n",
       "      <td>2.475000e+08</td>\n",
       "      <td>-28932.704672</td>\n",
       "      <td>2.474408e+08</td>\n",
       "      <td>12.333333</td>\n",
       "      <td>13.0</td>\n",
       "      <td>15.0</td>\n",
       "      <td>8.0</td>\n",
       "      <td>74.0</td>\n",
       "    </tr>\n",
       "  </tbody>\n",
       "</table>\n",
       "<p>5 rows × 1214 columns</p>\n",
       "</div>"
      ],
      "text/plain": [
       "   SK_ID_CURR  TARGET  NAME_CONTRACT_TYPE  CODE_GENDER  FLAG_OWN_CAR  \\\n",
       "0      100002     1.0                   0            0             0   \n",
       "1      100003     0.0                   0            1             0   \n",
       "2      100004     0.0                   1            0             1   \n",
       "3      100006     0.0                   0            1             0   \n",
       "4      100007     0.0                   0            0             0   \n",
       "\n",
       "   FLAG_OWN_REALTY  CNT_CHILDREN  AMT_INCOME_TOTAL  AMT_CREDIT  AMT_ANNUITY  \\\n",
       "0                0             0          202500.0    406597.5      24700.5   \n",
       "1                1             0          270000.0   1293502.5      35698.5   \n",
       "2                0             0           67500.0    135000.0       6750.0   \n",
       "3                0             0          135000.0    312682.5      29686.5   \n",
       "4                0             0          121500.0    513000.0      21865.5   \n",
       "\n",
       "                 ...                 \\\n",
       "0                ...                  \n",
       "1                ...                  \n",
       "2                ...                  \n",
       "3                ...                  \n",
       "4                ...                  \n",
       "\n",
       "   prev_AMT_GOODS_PRICE_divide_DAYS_LAST_DUE_minus_DAYS_TERMINATION_mean  \\\n",
       "0                                      -2.238467e+04                       \n",
       "1                                      -5.313685e+04                       \n",
       "2                                      -2.428443e+03                       \n",
       "3                                       1.512074e+08                       \n",
       "4                                       4.948815e+07                       \n",
       "\n",
       "   prev_AMT_GOODS_PRICE_divide_DAYS_LAST_DUE_minus_DAYS_TERMINATION_median  \\\n",
       "0                                      -2.238467e+04                         \n",
       "1                                      -4.219277e+04                         \n",
       "2                                      -2.428443e+03                         \n",
       "3                                       1.349985e+08                         \n",
       "4                                      -3.445383e+03                         \n",
       "\n",
       "   prev_AMT_GOODS_PRICE_divide_DAYS_LAST_DUE_minus_DAYS_TERMINATION_max  \\\n",
       "0                                      -2.238467e+04                      \n",
       "1                                      -1.720668e+04                      \n",
       "2                                      -2.428443e+03                      \n",
       "3                                       3.349170e+08                      \n",
       "4                                       2.475000e+08                      \n",
       "\n",
       "   prev_AMT_GOODS_PRICE_divide_DAYS_LAST_DUE_minus_DAYS_TERMINATION_min  \\\n",
       "0                                      -22384.673084                      \n",
       "1                                     -100011.112346                      \n",
       "2                                       -2428.442844                      \n",
       "3                                      -84385.548194                      \n",
       "4                                      -28932.704672                      \n",
       "\n",
       "   prev_AMT_GOODS_PRICE_divide_DAYS_LAST_DUE_minus_DAYS_TERMINATION_sum  \\\n",
       "0                                      -2.238467e+04                      \n",
       "1                                      -1.594106e+05                      \n",
       "2                                      -2.428443e+03                      \n",
       "3                                       6.048296e+08                      \n",
       "4                                       2.474408e+08                      \n",
       "\n",
       "   prev_HOUR_APPR_PROCESS_START_mean  prev_HOUR_APPR_PROCESS_START_median  \\\n",
       "0                           9.000000                                  9.0   \n",
       "1                          14.666667                                 15.0   \n",
       "2                           5.000000                                  5.0   \n",
       "3                          14.666667                                 15.0   \n",
       "4                          12.333333                                 13.0   \n",
       "\n",
       "   prev_HOUR_APPR_PROCESS_START_max  prev_HOUR_APPR_PROCESS_START_min  \\\n",
       "0                               9.0                               9.0   \n",
       "1                              17.0                              12.0   \n",
       "2                               5.0                               5.0   \n",
       "3                              15.0                              12.0   \n",
       "4                              15.0                               8.0   \n",
       "\n",
       "   prev_HOUR_APPR_PROCESS_START_sum  \n",
       "0                               9.0  \n",
       "1                              44.0  \n",
       "2                               5.0  \n",
       "3                             132.0  \n",
       "4                              74.0  \n",
       "\n",
       "[5 rows x 1214 columns]"
      ]
     },
     "execution_count": 31,
     "metadata": {},
     "output_type": "execute_result"
    }
   ],
   "source": [
    "train.head()"
   ]
  },
  {
   "cell_type": "code",
   "execution_count": 32,
   "metadata": {
    "ExecuteTime": {
     "end_time": "2018-07-01T21:12:20.479784Z",
     "start_time": "2018-07-01T21:12:15.659900Z"
    }
   },
   "outputs": [
    {
     "name": "stdout",
     "output_type": "stream",
     "text": [
      "OWN_CAR_AGE 0.6599081008484249\n",
      "EXT_SOURCE_1 0.5638107254699832\n",
      "APARTMENTS_AVG 0.5074972927797705\n",
      "BASEMENTAREA_AVG 0.5851595552679416\n",
      "YEARS_BEGINEXPLUATATION_AVG 0.48781019215572774\n",
      "YEARS_BUILD_AVG 0.6649778381911542\n",
      "COMMONAREA_AVG 0.6987229725115525\n",
      "ELEVATORS_AVG 0.532959796560123\n",
      "ENTRANCES_AVG 0.503487680115508\n",
      "FLOORSMAX_AVG 0.4976082156410665\n",
      "FLOORSMIN_AVG 0.6784862980511266\n",
      "LANDAREA_AVG 0.5937673774271489\n",
      "LIVINGAPARTMENTS_AVG 0.6835495315614726\n",
      "LIVINGAREA_AVG 0.5019332641759157\n",
      "NONLIVINGAPARTMENTS_AVG 0.6943296337366793\n",
      "NONLIVINGAREA_AVG 0.5517916432257708\n",
      "APARTMENTS_MODE 0.5074972927797705\n",
      "BASEMENTAREA_MODE 0.5851595552679416\n",
      "YEARS_BEGINEXPLUATATION_MODE 0.48781019215572774\n",
      "YEARS_BUILD_MODE 0.6649778381911542\n",
      "COMMONAREA_MODE 0.6987229725115525\n",
      "ELEVATORS_MODE 0.532959796560123\n",
      "ENTRANCES_MODE 0.503487680115508\n",
      "FLOORSMAX_MODE 0.4976082156410665\n",
      "FLOORSMIN_MODE 0.6784862980511266\n",
      "LANDAREA_MODE 0.5937673774271489\n",
      "LIVINGAPARTMENTS_MODE 0.6835495315614726\n",
      "LIVINGAREA_MODE 0.5019332641759157\n",
      "NONLIVINGAPARTMENTS_MODE 0.6943296337366793\n",
      "NONLIVINGAREA_MODE 0.5517916432257708\n",
      "APARTMENTS_MEDI 0.5074972927797705\n",
      "BASEMENTAREA_MEDI 0.5851595552679416\n",
      "YEARS_BEGINEXPLUATATION_MEDI 0.48781019215572774\n",
      "YEARS_BUILD_MEDI 0.6649778381911542\n",
      "COMMONAREA_MEDI 0.6987229725115525\n",
      "ELEVATORS_MEDI 0.532959796560123\n",
      "ENTRANCES_MEDI 0.503487680115508\n",
      "FLOORSMAX_MEDI 0.4976082156410665\n",
      "FLOORSMIN_MEDI 0.6784862980511266\n",
      "LANDAREA_MEDI 0.5937673774271489\n",
      "LIVINGAPARTMENTS_MEDI 0.6835495315614726\n",
      "LIVINGAREA_MEDI 0.5019332641759157\n",
      "NONLIVINGAPARTMENTS_MEDI 0.6943296337366793\n",
      "NONLIVINGAREA_MEDI 0.5517916432257708\n",
      "TOTALAREA_MODE 0.4826851722377411\n",
      "OBS_60_CNT_SOCIAL_CIRCLE_divide_OBS_30_CNT_SOCIAL_CIRCLE 0.5363417893994036\n",
      "OBS_60_CNT_SOCIAL_CIRCLE_divide_DEF_30_CNT_SOCIAL_CIRCLE 0.5387677188783491\n",
      "DEF_60_CNT_SOCIAL_CIRCLE_divide_OBS_30_CNT_SOCIAL_CIRCLE 0.5363417893994036\n",
      "DEF_60_CNT_SOCIAL_CIRCLE_divide_DEF_30_CNT_SOCIAL_CIRCLE 0.8856431152056349\n",
      "DEF_30_CNT_SOCIAL_CIRCLE_divide_OBS_30_CNT_SOCIAL_CIRCLE 0.5363417893994036\n",
      "DEF_30_CNT_SOCIAL_CIRCLE_divide_OBS_60_CNT_SOCIAL_CIRCLE 0.5387677188783491\n",
      "DEF_60_CNT_SOCIAL_CIRCLE_divide_OBS_60_CNT_SOCIAL_CIRCLE 0.5388002380402652\n",
      "AMT_INCOME_TOTAL_divide_OWN_CAR_AGE 0.6599081008484249\n",
      "AMT_CREDIT_divide_OWN_CAR_AGE 0.6599081008484249\n",
      "AMT_ANNUITY_divide_OWN_CAR_AGE 0.6599178565969998\n",
      "AMT_GOODS_PRICE_divide_OWN_CAR_AGE 0.6599081008484249\n",
      "AMT_REQ_CREDIT_BUREAU_HOUR_divide_CNT_CHILDREN 0.7340550419334593\n",
      "AMT_REQ_CREDIT_BUREAU_HOUR_divide_OBS_30_CNT_SOCIAL_CIRCLE 0.5937901408404903\n",
      "AMT_REQ_CREDIT_BUREAU_HOUR_divide_DEF_30_CNT_SOCIAL_CIRCLE 0.8962411100741112\n",
      "AMT_REQ_CREDIT_BUREAU_HOUR_divide_OBS_60_CNT_SOCIAL_CIRCLE 0.5959364055269568\n",
      "AMT_REQ_CREDIT_BUREAU_HOUR_divide_DEF_60_CNT_SOCIAL_CIRCLE 0.9228255249405712\n",
      "AMT_REQ_CREDIT_BUREAU_HOUR_divide_AMT_REQ_CREDIT_BUREAU_DAY 0.9910507266406731\n",
      "AMT_REQ_CREDIT_BUREAU_HOUR_divide_AMT_REQ_CREDIT_BUREAU_WEEK 0.9671979213751704\n",
      "AMT_REQ_CREDIT_BUREAU_HOUR_divide_AMT_REQ_CREDIT_BUREAU_MON 0.8532377703561824\n",
      "AMT_REQ_CREDIT_BUREAU_HOUR_divide_AMT_REQ_CREDIT_BUREAU_QRT 0.8311637632474936\n",
      "AMT_REQ_CREDIT_BUREAU_HOUR_divide_AMT_REQ_CREDIT_BUREAU_YEAR 0.36703077288292124\n",
      "AMT_REQ_CREDIT_BUREAU_HOUR_divide_OWN_CAR_AGE 0.7052105453138262\n",
      "AMT_REQ_CREDIT_BUREAU_DAY_divide_CNT_CHILDREN 0.734285927983064\n",
      "AMT_REQ_CREDIT_BUREAU_DAY_divide_OBS_30_CNT_SOCIAL_CIRCLE 0.5939234694043465\n",
      "AMT_REQ_CREDIT_BUREAU_DAY_divide_DEF_30_CNT_SOCIAL_CIRCLE 0.8966313400171051\n",
      "AMT_REQ_CREDIT_BUREAU_DAY_divide_OBS_60_CNT_SOCIAL_CIRCLE 0.5960729860070046\n",
      "AMT_REQ_CREDIT_BUREAU_DAY_divide_DEF_60_CNT_SOCIAL_CIRCLE 0.9232352663807148\n",
      "AMT_REQ_CREDIT_BUREAU_DAY_divide_AMT_REQ_CREDIT_BUREAU_WEEK 0.9681279694059725\n",
      "AMT_REQ_CREDIT_BUREAU_DAY_divide_AMT_REQ_CREDIT_BUREAU_MON 0.8534556487410206\n",
      "AMT_REQ_CREDIT_BUREAU_DAY_divide_AMT_REQ_CREDIT_BUREAU_QRT 0.8313361148056492\n",
      "AMT_REQ_CREDIT_BUREAU_DAY_divide_AMT_REQ_CREDIT_BUREAU_YEAR 0.36723239168680144\n",
      "AMT_REQ_CREDIT_BUREAU_DAY_divide_OWN_CAR_AGE 0.7052137972300178\n",
      "AMT_REQ_CREDIT_BUREAU_WEEK_divide_CNT_CHILDREN 0.7182377215774395\n",
      "AMT_REQ_CREDIT_BUREAU_WEEK_divide_OBS_30_CNT_SOCIAL_CIRCLE 0.5817580509315113\n",
      "AMT_REQ_CREDIT_BUREAU_WEEK_divide_DEF_30_CNT_SOCIAL_CIRCLE 0.8761865429204159\n",
      "AMT_REQ_CREDIT_BUREAU_WEEK_divide_OBS_60_CNT_SOCIAL_CIRCLE 0.5838522849589121\n",
      "AMT_REQ_CREDIT_BUREAU_WEEK_divide_DEF_60_CNT_SOCIAL_CIRCLE 0.9021661013752353\n",
      "AMT_REQ_CREDIT_BUREAU_WEEK_divide_AMT_REQ_CREDIT_BUREAU_MON 0.832955569069074\n",
      "AMT_REQ_CREDIT_BUREAU_WEEK_divide_AMT_REQ_CREDIT_BUREAU_QRT 0.8110311501051994\n",
      "AMT_REQ_CREDIT_BUREAU_WEEK_divide_AMT_REQ_CREDIT_BUREAU_YEAR 0.3630374197996169\n",
      "AMT_REQ_CREDIT_BUREAU_WEEK_divide_OWN_CAR_AGE 0.705093476330928\n",
      "AMT_REQ_CREDIT_BUREAU_MON_divide_CNT_CHILDREN 0.6383966752408857\n",
      "AMT_REQ_CREDIT_BUREAU_MON_divide_OBS_30_CNT_SOCIAL_CIRCLE 0.5212886693484136\n",
      "AMT_REQ_CREDIT_BUREAU_MON_divide_DEF_30_CNT_SOCIAL_CIRCLE 0.7752568200812329\n",
      "AMT_REQ_CREDIT_BUREAU_MON_divide_OBS_60_CNT_SOCIAL_CIRCLE 0.5231455134938262\n",
      "AMT_REQ_CREDIT_BUREAU_MON_divide_DEF_60_CNT_SOCIAL_CIRCLE 0.7974641557537779\n",
      "AMT_REQ_CREDIT_BUREAU_MON_divide_AMT_REQ_CREDIT_BUREAU_QRT 0.7152329510163864\n",
      "AMT_REQ_CREDIT_BUREAU_MON_divide_AMT_REQ_CREDIT_BUREAU_YEAR 0.3351554903727021\n",
      "AMT_REQ_CREDIT_BUREAU_MON_divide_OWN_CAR_AGE 0.7041016418924851\n",
      "AMT_REQ_CREDIT_BUREAU_QRT_divide_CNT_CHILDREN 0.6219744984732254\n",
      "AMT_REQ_CREDIT_BUREAU_QRT_divide_OBS_30_CNT_SOCIAL_CIRCLE 0.5097313592034106\n",
      "AMT_REQ_CREDIT_BUREAU_QRT_divide_DEF_30_CNT_SOCIAL_CIRCLE 0.7555859790381483\n",
      "AMT_REQ_CREDIT_BUREAU_QRT_divide_OBS_60_CNT_SOCIAL_CIRCLE 0.5114418671202006\n",
      "AMT_REQ_CREDIT_BUREAU_QRT_divide_DEF_60_CNT_SOCIAL_CIRCLE 0.7773608098572083\n",
      "AMT_REQ_CREDIT_BUREAU_QRT_divide_AMT_REQ_CREDIT_BUREAU_YEAR 0.3361180575654204\n",
      "AMT_REQ_CREDIT_BUREAU_QRT_divide_OWN_CAR_AGE 0.7040235959038864\n",
      "AMT_REQ_CREDIT_BUREAU_YEAR_divide_CNT_CHILDREN 0.29368380318102444\n",
      "AMT_REQ_CREDIT_BUREAU_YEAR_divide_OBS_30_CNT_SOCIAL_CIRCLE 0.2637629223019664\n",
      "AMT_REQ_CREDIT_BUREAU_YEAR_divide_DEF_30_CNT_SOCIAL_CIRCLE 0.34516488841049586\n",
      "AMT_REQ_CREDIT_BUREAU_YEAR_divide_OBS_60_CNT_SOCIAL_CIRCLE 0.264367778713607\n",
      "AMT_REQ_CREDIT_BUREAU_YEAR_divide_DEF_60_CNT_SOCIAL_CIRCLE 0.3521142333119791\n",
      "AMT_REQ_CREDIT_BUREAU_YEAR_divide_OWN_CAR_AGE 0.7010318330075997\n",
      "OWN_CAR_AGE_divide_CNT_CHILDREN 0.6642819281261483\n",
      "OWN_CAR_AGE_divide_DAYS_BIRTH 0.6599081008484249\n",
      "OWN_CAR_AGE_divide_DAYS_EMPLOYED 0.6599081008484249\n",
      "OWN_CAR_AGE_divide_DAYS_REGISTRATION 0.6599081008484249\n",
      "OWN_CAR_AGE_divide_DAYS_ID_PUBLISH 0.6599113527646165\n",
      "OWN_CAR_AGE_divide_CNT_FAM_MEMBERS 0.6599081008484249\n",
      "OWN_CAR_AGE_divide_OBS_30_CNT_SOCIAL_CIRCLE 0.6647437002253578\n",
      "OWN_CAR_AGE_divide_DEF_30_CNT_SOCIAL_CIRCLE 0.6672086526986026\n",
      "OWN_CAR_AGE_divide_OBS_60_CNT_SOCIAL_CIRCLE 0.6647534559739326\n",
      "OWN_CAR_AGE_divide_DEF_60_CNT_SOCIAL_CIRCLE 0.6674785617425067\n",
      "OWN_CAR_AGE_divide_DAYS_LAST_PHONE_CHANGE 0.6605747436677062\n",
      "prev_RATE_INTEREST_PRIMARY_mean 0.9850119182728423\n",
      "prev_RATE_INTEREST_PRIMARY_median 0.9850119182728423\n",
      "prev_RATE_INTEREST_PRIMARY_max 0.9850119182728423\n",
      "prev_RATE_INTEREST_PRIMARY_min 0.9850119182728423\n",
      "prev_RATE_INTEREST_PRIVILEGED_mean 0.9850119182728423\n",
      "prev_RATE_INTEREST_PRIVILEGED_median 0.9850119182728423\n",
      "prev_RATE_INTEREST_PRIVILEGED_max 0.9850119182728423\n",
      "prev_RATE_INTEREST_PRIVILEGED_min 0.9850119182728423\n",
      "126\n"
     ]
    }
   ],
   "source": [
    "i =0\n",
    "for col in train.columns:\n",
    "    if (train[col].isnull().sum()/len(train))> 0.25:\n",
    "        print(col, train[col].isnull().sum()/len(train))\n",
    "        i+= 1\n",
    "print(i)"
   ]
  },
  {
   "cell_type": "code",
   "execution_count": null,
   "metadata": {},
   "outputs": [],
   "source": []
  }
 ],
 "metadata": {
  "kernelspec": {
   "display_name": "Python 3",
   "language": "python",
   "name": "python3"
  },
  "language_info": {
   "codemirror_mode": {
    "name": "ipython",
    "version": 3
   },
   "file_extension": ".py",
   "mimetype": "text/x-python",
   "name": "python",
   "nbconvert_exporter": "python",
   "pygments_lexer": "ipython3",
   "version": "3.6.5"
  },
  "varInspector": {
   "cols": {
    "lenName": 16,
    "lenType": 16,
    "lenVar": 40
   },
   "kernels_config": {
    "python": {
     "delete_cmd_postfix": "",
     "delete_cmd_prefix": "del ",
     "library": "var_list.py",
     "varRefreshCmd": "print(var_dic_list())"
    },
    "r": {
     "delete_cmd_postfix": ") ",
     "delete_cmd_prefix": "rm(",
     "library": "var_list.r",
     "varRefreshCmd": "cat(var_dic_list()) "
    }
   },
   "types_to_exclude": [
    "module",
    "function",
    "builtin_function_or_method",
    "instance",
    "_Feature"
   ],
   "window_display": false
  }
 },
 "nbformat": 4,
 "nbformat_minor": 2
}
