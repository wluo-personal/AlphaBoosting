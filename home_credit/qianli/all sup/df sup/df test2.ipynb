{
 "cells": [
  {
   "cell_type": "code",
   "execution_count": 1,
   "metadata": {
    "ExecuteTime": {
     "end_time": "2018-06-29T17:48:34.593517Z",
     "start_time": "2018-06-29T17:48:28.367602Z"
    }
   },
   "outputs": [
    {
     "data": {
      "text/plain": [
       "'done'"
      ]
     },
     "execution_count": 1,
     "metadata": {},
     "output_type": "execute_result"
    }
   ],
   "source": [
    "import pandas as pd\n",
    "import numpy as np\n",
    "import os\n",
    "import gc\n",
    "\n",
    "PATH = '/home/kai/data/kaggle/homecredit/'\n",
    "\n",
    "train = pd.read_csv(PATH + 'application_train.csv')\n",
    "test = pd.read_csv(PATH + 'application_test.csv')\n",
    "'done'"
   ]
  },
  {
   "cell_type": "code",
   "execution_count": 2,
   "metadata": {
    "ExecuteTime": {
     "end_time": "2018-06-29T17:48:35.400968Z",
     "start_time": "2018-06-29T17:48:34.693477Z"
    }
   },
   "outputs": [],
   "source": [
    "df = pd.concat([train,test], axis = 0, sort = False)"
   ]
  },
  {
   "cell_type": "markdown",
   "metadata": {},
   "source": [
    "# Factorize"
   ]
  },
  {
   "cell_type": "code",
   "execution_count": 4,
   "metadata": {
    "ExecuteTime": {
     "end_time": "2018-06-22T20:01:33.429124Z",
     "start_time": "2018-06-22T20:01:33.411780Z"
    }
   },
   "outputs": [
    {
     "data": {
      "text/plain": [
       "'done'"
      ]
     },
     "execution_count": 4,
     "metadata": {},
     "output_type": "execute_result"
    }
   ],
   "source": [
    "def minus_name(col1, col2): return col1 + '_minus_' + col2\n",
    "def minus(df, col1, col2): return df[col1] - df[col2]\n",
    "\n",
    "def ratio_name(col1, col2): return col1 + '_divide_' + col2\n",
    "def ratio(df, col1, col2): return df[col1] / df[col2]\n",
    "\n",
    "def multiply_name(col1, col2): return col1 + '_times_' + col2\n",
    "def multiply(df, col1, col2): return df[col1] * df[col2]\n",
    "\n",
    "def positive_count(df, gp_col, col):\n",
    "    group = (df[col] > 0).astype('int8')\n",
    "    group = pd.concat([df[gp_col], group], axis=1).groupby(gp_col)[[col]].sum().reset_index().rename(index=str, columns={col: 'positivecount_'+'_'.join([gp_col, col])})\n",
    "    return group.astype({gp_col: df[gp_col].dtype})\n",
    "\n",
    "def count(df, gp_col, col):\n",
    "    group = df[[gp_col,col]].groupby(gp_col)[[col]].count().reset_index().rename(index=str, columns={col:'count_'+gp_col})\n",
    "    return group.astype({gp_col: df[gp_col].dtype})\n",
    "\n",
    "def numerical(df, gp_col, col, agg_fun):\n",
    "    _df = df.groupby(gp_col)[[col]].agg(agg_fun)\n",
    "    \n",
    "    columns = []\n",
    "    for x in _df.columns.levels[0]:\n",
    "        for y in _df.columns.levels[1]:\n",
    "            columns.append('_'.join([x, y]))\n",
    "    _df.columns = columns\n",
    "    return _df.reset_index().astype({gp_col: df[gp_col].dtype})\n",
    "\n",
    "def one_hot(df, gp_col, col):\n",
    "    return pd.concat([df[gp_col], pd.get_dummies(df[col], prefix='onehot_' + col, dummy_na = True)], axis=1).groupby(gp_col).sum().reset_index().astype({gp_col: df[gp_col].dtype})\n",
    "\n",
    "'done'"
   ]
  },
  {
   "cell_type": "code",
   "execution_count": null,
   "metadata": {},
   "outputs": [],
   "source": [
    "flag_other = [col for col in train.columns.values if 'FLAG' in col and 'DOCUMENT' not in col]\n",
    "df['CONTACT'] = df[['FLAG_MOBIL',\n",
    " 'FLAG_EMP_PHONE',\n",
    " 'FLAG_WORK_PHONE',\n",
    " 'FLAG_CONT_MOBILE',\n",
    " 'FLAG_PHONE','FLAG_EMAIL']].sum(axis = 1)\n",
    "\n",
    "df.drop(['FLAG_MOBIL',\n",
    " 'FLAG_EMP_PHONE',\n",
    " 'FLAG_WORK_PHONE',\n",
    " 'FLAG_CONT_MOBILE',\n",
    " 'FLAG_PHONE'], axis = 1, inplace = True)\n",
    "\n",
    "df['FLAG_OTHER'] = df[['FLAG_OWN_CAR',\n",
    " 'FLAG_OWN_REALTY']].sum(axis = 1)"
   ]
  },
  {
   "cell_type": "code",
   "execution_count": null,
   "metadata": {},
   "outputs": [],
   "source": []
  },
  {
   "cell_type": "code",
   "execution_count": 15,
   "metadata": {
    "ExecuteTime": {
     "end_time": "2018-06-29T18:14:18.196131Z",
     "start_time": "2018-06-29T18:14:18.166987Z"
    }
   },
   "outputs": [
    {
     "data": {
      "text/plain": [
       "{'No', 'Yes', nan}"
      ]
     },
     "execution_count": 15,
     "metadata": {},
     "output_type": "execute_result"
    }
   ],
   "source": [
    "set(df.EMERGENCYSTATE_MODE)"
   ]
  },
  {
   "cell_type": "markdown",
   "metadata": {},
   "source": [
    "## Factorize"
   ]
  },
  {
   "cell_type": "code",
   "execution_count": null,
   "metadata": {},
   "outputs": [],
   "source": [
    "categorical_columns = [col for col in df.columns if df[col].dtype == 'object'] + ['CODE_GENDER', 'FLAG_OWN_CAR', 'FLAG_OWN_REALTY']\n",
    "\n",
    "factor_columns = [col for col in categorical_columns if len(set(df[col])) == 2] + ['CODE_GENDER', 'WEEKDAY_APPR_PROCESS_START']\n",
    "\n",
    "categorical_columns = [i for i in categorical_columns if i not in factor_columns]\n",
    "\n",
    "\n",
    "categorical_columns = [col for col in df.columns if df[col].dtype == 'object']\n",
    "\n",
    "for bin_feature in factor_columns:\n",
    "    print(bin_feature)\n",
    "    df[bin_feature], uniques = pd.factorize(df[bin_feature])"
   ]
  },
  {
   "cell_type": "markdown",
   "metadata": {},
   "source": [
    "# AREA"
   ]
  },
  {
   "cell_type": "code",
   "execution_count": 6,
   "metadata": {
    "ExecuteTime": {
     "end_time": "2018-06-22T20:01:33.929400Z",
     "start_time": "2018-06-22T20:01:33.455856Z"
    }
   },
   "outputs": [
    {
     "name": "stderr",
     "output_type": "stream",
     "text": [
      "/home/kai/anaconda3/lib/python3.6/site-packages/pandas/core/frame.py:3787: SettingWithCopyWarning: \n",
      "A value is trying to be set on a copy of a slice from a DataFrame\n",
      "\n",
      "See the caveats in the documentation: http://pandas.pydata.org/pandas-docs/stable/indexing.html#indexing-view-versus-copy\n",
      "  downcast=downcast, **kwargs)\n"
     ]
    }
   ],
   "source": [
    "x = df[l]\n",
    "x.fillna(0 , inplace = True)\n",
    "df[l] = x"
   ]
  },
  {
   "cell_type": "code",
   "execution_count": 7,
   "metadata": {
    "ExecuteTime": {
     "end_time": "2018-06-22T20:01:34.142800Z",
     "start_time": "2018-06-22T20:01:33.931515Z"
    },
    "scrolled": true
   },
   "outputs": [
    {
     "name": "stdout",
     "output_type": "stream",
     "text": [
      "['APARTMENTS_AVG', 'BASEMENTAREA_AVG', 'COMMONAREA_AVG', 'LANDAREA_AVG', 'LIVINGAPARTMENTS_AVG', 'LIVINGAREA_AVG', 'NONLIVINGAPARTMENTS_AVG', 'NONLIVINGAREA_AVG']\n",
      "['APARTMENTS_MODE', 'BASEMENTAREA_MODE', 'COMMONAREA_MODE', 'LANDAREA_MODE', 'LIVINGAPARTMENTS_MODE', 'LIVINGAREA_MODE', 'NONLIVINGAPARTMENTS_MODE', 'NONLIVINGAREA_MODE']\n",
      "['APARTMENTS_MEDI', 'BASEMENTAREA_MEDI', 'COMMONAREA_MEDI', 'LANDAREA_MEDI', 'LIVINGAPARTMENTS_MEDI', 'LIVINGAREA_MEDI', 'NONLIVINGAPARTMENTS_MEDI', 'NONLIVINGAREA_MEDI']\n"
     ]
    }
   ],
   "source": [
    "area = ['APARTMENTS','BASEMENTAREA', 'COMMONAREA','LANDAREA', 'LIVINGAPARTMENTS','LIVINGAREA',\\\n",
    "           'NONLIVINGAPARTMENTS', 'NONLIVINGAREA']\n",
    "\n",
    "for x in ['_AVG', '_MODE', '_MEDI']:\n",
    "    tmp = [y + x for y in area]\n",
    "    print(tmp)\n",
    "    df['livingsum' + x] = df[tmp].sum(axis=1)"
   ]
  },
  {
   "cell_type": "code",
   "execution_count": 8,
   "metadata": {
    "ExecuteTime": {
     "end_time": "2018-06-22T20:01:34.149027Z",
     "start_time": "2018-06-22T20:01:34.145072Z"
    },
    "scrolled": true
   },
   "outputs": [
    {
     "data": {
      "text/plain": [
       "(356255, 125)"
      ]
     },
     "execution_count": 8,
     "metadata": {},
     "output_type": "execute_result"
    }
   ],
   "source": [
    "df.shape"
   ]
  },
  {
   "cell_type": "markdown",
   "metadata": {
    "collapsed": true
   },
   "source": [
    "# 1. Do the ratio wrt to count of family members & living area"
   ]
  },
  {
   "cell_type": "code",
   "execution_count": 10,
   "metadata": {
    "ExecuteTime": {
     "end_time": "2018-06-22T20:01:34.239243Z",
     "start_time": "2018-06-22T20:01:34.236745Z"
    }
   },
   "outputs": [],
   "source": [
    "# 1. Ratio of count of family members(for members less than 4) and living area"
   ]
  },
  {
   "cell_type": "code",
   "execution_count": 11,
   "metadata": {
    "ExecuteTime": {
     "end_time": "2018-06-22T20:01:34.248720Z",
     "start_time": "2018-06-22T20:01:34.241448Z"
    }
   },
   "outputs": [],
   "source": [
    "members_series = df.CNT_FAM_MEMBERS < 4\n",
    "\n",
    "area_list = ['livingsum_AVG','livingsum_MODE','livingsum_MEDI']"
   ]
  },
  {
   "cell_type": "code",
   "execution_count": 12,
   "metadata": {
    "ExecuteTime": {
     "end_time": "2018-06-22T20:01:34.622128Z",
     "start_time": "2018-06-22T20:01:34.251456Z"
    }
   },
   "outputs": [
    {
     "name": "stderr",
     "output_type": "stream",
     "text": [
      "/home/kai/anaconda3/lib/python3.6/site-packages/pandas/core/indexing.py:189: SettingWithCopyWarning: \n",
      "A value is trying to be set on a copy of a slice from a DataFrame\n",
      "\n",
      "See the caveats in the documentation: http://pandas.pydata.org/pandas-docs/stable/indexing.html#indexing-view-versus-copy\n",
      "  self._setitem_with_indexer(indexer, value)\n"
     ]
    },
    {
     "name": "stdout",
     "output_type": "stream",
     "text": [
      "livingsum_AVG_divide_members\n",
      "livingsum_MODE_divide_members\n",
      "livingsum_MEDI_divide_members\n"
     ]
    }
   ],
   "source": [
    "df['members'] = np.nan\n",
    "\n",
    "df['members'].loc[members_series] = df['CNT_FAM_MEMBERS'].loc[members_series]\n",
    "\n",
    "for col in area_list:\n",
    "    df[ratio_name(col, 'members')] = ratio(df, col, 'members')\n",
    "    print(ratio_name(col, 'members'))\n",
    "    \n",
    "df.drop('members', inplace = True,axis = 1)"
   ]
  },
  {
   "cell_type": "code",
   "execution_count": 13,
   "metadata": {
    "ExecuteTime": {
     "end_time": "2018-06-22T20:01:34.628036Z",
     "start_time": "2018-06-22T20:01:34.624229Z"
    }
   },
   "outputs": [
    {
     "data": {
      "text/plain": [
       "(356255, 128)"
      ]
     },
     "execution_count": 13,
     "metadata": {},
     "output_type": "execute_result"
    }
   ],
   "source": [
    "df.shape"
   ]
  },
  {
   "cell_type": "code",
   "execution_count": 14,
   "metadata": {
    "ExecuteTime": {
     "end_time": "2018-06-22T20:01:34.636739Z",
     "start_time": "2018-06-22T20:01:34.630054Z"
    }
   },
   "outputs": [
    {
     "data": {
      "text/plain": [
       "0    0.1520\n",
       "1    0.1841\n",
       "2    0.0000\n",
       "3    0.0000\n",
       "4    0.0000\n",
       "Name: livingsum_AVG_divide_members, dtype: float64"
      ]
     },
     "execution_count": 14,
     "metadata": {},
     "output_type": "execute_result"
    }
   ],
   "source": [
    "df['livingsum_AVG_divide_members'].head()"
   ]
  },
  {
   "cell_type": "markdown",
   "metadata": {},
   "source": [
    "# 2. Multiply area rating & living area"
   ]
  },
  {
   "cell_type": "code",
   "execution_count": 15,
   "metadata": {
    "ExecuteTime": {
     "end_time": "2018-06-22T20:01:34.642875Z",
     "start_time": "2018-06-22T20:01:34.638578Z"
    }
   },
   "outputs": [],
   "source": [
    "# def multiply_name(col1, col2): return col1 + '_times_' + col2\n",
    "# def multiply(df, col1, col2): return df[col1] * df[col2]"
   ]
  },
  {
   "cell_type": "code",
   "execution_count": 16,
   "metadata": {
    "ExecuteTime": {
     "end_time": "2018-06-22T20:01:34.657919Z",
     "start_time": "2018-06-22T20:01:34.644689Z"
    }
   },
   "outputs": [
    {
     "name": "stdout",
     "output_type": "stream",
     "text": [
      "REGION_RATING_CLIENT_times_livingsum_AVG\n",
      "REGION_RATING_CLIENT_times_livingsum_MODE\n",
      "REGION_RATING_CLIENT_times_livingsum_MEDI\n",
      "REGION_RATING_CLIENT_W_CITY_times_livingsum_AVG\n",
      "REGION_RATING_CLIENT_W_CITY_times_livingsum_MODE\n",
      "REGION_RATING_CLIENT_W_CITY_times_livingsum_MEDI\n"
     ]
    }
   ],
   "source": [
    "rating = ['REGION_RATING_CLIENT', 'REGION_RATING_CLIENT_W_CITY']\n",
    "area_list = ['livingsum_AVG','livingsum_MODE','livingsum_MEDI']\n",
    "for i in rating:\n",
    "    for j in area_list:\n",
    "        df[multiply_name(i, j)] = multiply(df, i, i)\n",
    "        print(multiply_name(i, j))"
   ]
  },
  {
   "cell_type": "code",
   "execution_count": 17,
   "metadata": {
    "ExecuteTime": {
     "end_time": "2018-06-22T20:01:34.665823Z",
     "start_time": "2018-06-22T20:01:34.661213Z"
    },
    "scrolled": true
   },
   "outputs": [
    {
     "data": {
      "text/plain": [
       "(356255, 134)"
      ]
     },
     "execution_count": 17,
     "metadata": {},
     "output_type": "execute_result"
    }
   ],
   "source": [
    "df.shape"
   ]
  },
  {
   "cell_type": "markdown",
   "metadata": {},
   "source": [
    "# Do the ratio wrt to amt-dpd and region-population"
   ]
  },
  {
   "cell_type": "code",
   "execution_count": 18,
   "metadata": {
    "ExecuteTime": {
     "end_time": "2018-06-22T20:01:34.672214Z",
     "start_time": "2018-06-22T20:01:34.667878Z"
    }
   },
   "outputs": [],
   "source": [
    "obs = ['OBS_30_CNT_SOCIAL_CIRCLE', 'DEF_30_CNT_SOCIAL_CIRCLE',\n",
    "       'OBS_60_CNT_SOCIAL_CIRCLE', 'DEF_60_CNT_SOCIAL_CIRCLE']\n",
    "pop = ['REGION_POPULATION_RELATIVE']"
   ]
  },
  {
   "cell_type": "code",
   "execution_count": 19,
   "metadata": {
    "ExecuteTime": {
     "end_time": "2018-06-22T20:01:34.686441Z",
     "start_time": "2018-06-22T20:01:34.674124Z"
    }
   },
   "outputs": [
    {
     "name": "stdout",
     "output_type": "stream",
     "text": [
      "OBS_30_CNT_SOCIAL_CIRCLE_divide_REGION_POPULATION_RELATIVE\n",
      "DEF_30_CNT_SOCIAL_CIRCLE_divide_REGION_POPULATION_RELATIVE\n",
      "OBS_60_CNT_SOCIAL_CIRCLE_divide_REGION_POPULATION_RELATIVE\n",
      "DEF_60_CNT_SOCIAL_CIRCLE_divide_REGION_POPULATION_RELATIVE\n"
     ]
    }
   ],
   "source": [
    "for col in obs:\n",
    "    df[ratio_name(col, 'REGION_POPULATION_RELATIVE')] = ratio(df, col, 'REGION_POPULATION_RELATIVE')\n",
    "    print(ratio_name(col, 'REGION_POPULATION_RELATIVE'))"
   ]
  },
  {
   "cell_type": "code",
   "execution_count": 20,
   "metadata": {
    "ExecuteTime": {
     "end_time": "2018-06-22T20:01:34.781143Z",
     "start_time": "2018-06-22T20:01:34.688261Z"
    },
    "collapsed": true
   },
   "outputs": [
    {
     "data": {
      "text/html": [
       "<div>\n",
       "<style scoped>\n",
       "    .dataframe tbody tr th:only-of-type {\n",
       "        vertical-align: middle;\n",
       "    }\n",
       "\n",
       "    .dataframe tbody tr th {\n",
       "        vertical-align: top;\n",
       "    }\n",
       "\n",
       "    .dataframe thead th {\n",
       "        text-align: right;\n",
       "    }\n",
       "</style>\n",
       "<table border=\"1\" class=\"dataframe\">\n",
       "  <thead>\n",
       "    <tr style=\"text-align: right;\">\n",
       "      <th></th>\n",
       "      <th>OBS_30_CNT_SOCIAL_CIRCLE_divide_REGION_POPULATION_RELATIVE</th>\n",
       "    </tr>\n",
       "  </thead>\n",
       "  <tbody>\n",
       "    <tr>\n",
       "      <th>0</th>\n",
       "      <td>106.377320</td>\n",
       "    </tr>\n",
       "    <tr>\n",
       "      <th>1</th>\n",
       "      <td>282.406100</td>\n",
       "    </tr>\n",
       "    <tr>\n",
       "      <th>2</th>\n",
       "      <td>0.000000</td>\n",
       "    </tr>\n",
       "    <tr>\n",
       "      <th>3</th>\n",
       "      <td>249.407657</td>\n",
       "    </tr>\n",
       "    <tr>\n",
       "      <th>4</th>\n",
       "      <td>0.000000</td>\n",
       "    </tr>\n",
       "    <tr>\n",
       "      <th>5</th>\n",
       "      <td>0.000000</td>\n",
       "    </tr>\n",
       "    <tr>\n",
       "      <th>6</th>\n",
       "      <td>27.939204</td>\n",
       "    </tr>\n",
       "    <tr>\n",
       "      <th>7</th>\n",
       "      <td>640.614990</td>\n",
       "    </tr>\n",
       "    <tr>\n",
       "      <th>8</th>\n",
       "      <td>53.665343</td>\n",
       "    </tr>\n",
       "    <tr>\n",
       "      <th>9</th>\n",
       "      <td>101.579562</td>\n",
       "    </tr>\n",
       "    <tr>\n",
       "      <th>10</th>\n",
       "      <td>0.000000</td>\n",
       "    </tr>\n",
       "    <tr>\n",
       "      <th>11</th>\n",
       "      <td>0.000000</td>\n",
       "    </tr>\n",
       "    <tr>\n",
       "      <th>12</th>\n",
       "      <td>0.000000</td>\n",
       "    </tr>\n",
       "    <tr>\n",
       "      <th>13</th>\n",
       "      <td>0.000000</td>\n",
       "    </tr>\n",
       "    <tr>\n",
       "      <th>14</th>\n",
       "      <td>0.000000</td>\n",
       "    </tr>\n",
       "    <tr>\n",
       "      <th>15</th>\n",
       "      <td>0.000000</td>\n",
       "    </tr>\n",
       "    <tr>\n",
       "      <th>16</th>\n",
       "      <td>0.000000</td>\n",
       "    </tr>\n",
       "    <tr>\n",
       "      <th>17</th>\n",
       "      <td>364.763815</td>\n",
       "    </tr>\n",
       "    <tr>\n",
       "      <th>18</th>\n",
       "      <td>173.085244</td>\n",
       "    </tr>\n",
       "    <tr>\n",
       "      <th>19</th>\n",
       "      <td>0.000000</td>\n",
       "    </tr>\n",
       "    <tr>\n",
       "      <th>20</th>\n",
       "      <td>0.000000</td>\n",
       "    </tr>\n",
       "    <tr>\n",
       "      <th>21</th>\n",
       "      <td>0.000000</td>\n",
       "    </tr>\n",
       "    <tr>\n",
       "      <th>22</th>\n",
       "      <td>0.000000</td>\n",
       "    </tr>\n",
       "    <tr>\n",
       "      <th>23</th>\n",
       "      <td>0.000000</td>\n",
       "    </tr>\n",
       "    <tr>\n",
       "      <th>24</th>\n",
       "      <td>37.890270</td>\n",
       "    </tr>\n",
       "    <tr>\n",
       "      <th>25</th>\n",
       "      <td>0.000000</td>\n",
       "    </tr>\n",
       "    <tr>\n",
       "      <th>26</th>\n",
       "      <td>554.661934</td>\n",
       "    </tr>\n",
       "    <tr>\n",
       "      <th>27</th>\n",
       "      <td>104.706560</td>\n",
       "    </tr>\n",
       "    <tr>\n",
       "      <th>28</th>\n",
       "      <td>0.000000</td>\n",
       "    </tr>\n",
       "    <tr>\n",
       "      <th>29</th>\n",
       "      <td>0.000000</td>\n",
       "    </tr>\n",
       "    <tr>\n",
       "      <th>...</th>\n",
       "      <td>...</td>\n",
       "    </tr>\n",
       "    <tr>\n",
       "      <th>48714</th>\n",
       "      <td>96.557717</td>\n",
       "    </tr>\n",
       "    <tr>\n",
       "      <th>48715</th>\n",
       "      <td>27.939204</td>\n",
       "    </tr>\n",
       "    <tr>\n",
       "      <th>48716</th>\n",
       "      <td>121.506683</td>\n",
       "    </tr>\n",
       "    <tr>\n",
       "      <th>48717</th>\n",
       "      <td>0.000000</td>\n",
       "    </tr>\n",
       "    <tr>\n",
       "      <th>48718</th>\n",
       "      <td>55.878409</td>\n",
       "    </tr>\n",
       "    <tr>\n",
       "      <th>48719</th>\n",
       "      <td>598.086124</td>\n",
       "    </tr>\n",
       "    <tr>\n",
       "      <th>48720</th>\n",
       "      <td>0.000000</td>\n",
       "    </tr>\n",
       "    <tr>\n",
       "      <th>48721</th>\n",
       "      <td>279.392043</td>\n",
       "    </tr>\n",
       "    <tr>\n",
       "      <th>48722</th>\n",
       "      <td>109.835795</td>\n",
       "    </tr>\n",
       "    <tr>\n",
       "      <th>48723</th>\n",
       "      <td>170.896351</td>\n",
       "    </tr>\n",
       "    <tr>\n",
       "      <th>48724</th>\n",
       "      <td>0.000000</td>\n",
       "    </tr>\n",
       "    <tr>\n",
       "      <th>48725</th>\n",
       "      <td>0.000000</td>\n",
       "    </tr>\n",
       "    <tr>\n",
       "      <th>48726</th>\n",
       "      <td>0.000000</td>\n",
       "    </tr>\n",
       "    <tr>\n",
       "      <th>48727</th>\n",
       "      <td>0.000000</td>\n",
       "    </tr>\n",
       "    <tr>\n",
       "      <th>48728</th>\n",
       "      <td>119.217930</td>\n",
       "    </tr>\n",
       "    <tr>\n",
       "      <th>48729</th>\n",
       "      <td>0.000000</td>\n",
       "    </tr>\n",
       "    <tr>\n",
       "      <th>48730</th>\n",
       "      <td>0.000000</td>\n",
       "    </tr>\n",
       "    <tr>\n",
       "      <th>48731</th>\n",
       "      <td>0.000000</td>\n",
       "    </tr>\n",
       "    <tr>\n",
       "      <th>48732</th>\n",
       "      <td>0.000000</td>\n",
       "    </tr>\n",
       "    <tr>\n",
       "      <th>48733</th>\n",
       "      <td>27.939204</td>\n",
       "    </tr>\n",
       "    <tr>\n",
       "      <th>48734</th>\n",
       "      <td>119.217930</td>\n",
       "    </tr>\n",
       "    <tr>\n",
       "      <th>48735</th>\n",
       "      <td>81.267777</td>\n",
       "    </tr>\n",
       "    <tr>\n",
       "      <th>48736</th>\n",
       "      <td>0.000000</td>\n",
       "    </tr>\n",
       "    <tr>\n",
       "      <th>48737</th>\n",
       "      <td>113.670809</td>\n",
       "    </tr>\n",
       "    <tr>\n",
       "      <th>48738</th>\n",
       "      <td>0.000000</td>\n",
       "    </tr>\n",
       "    <tr>\n",
       "      <th>48739</th>\n",
       "      <td>489.715965</td>\n",
       "    </tr>\n",
       "    <tr>\n",
       "      <th>48740</th>\n",
       "      <td>55.878409</td>\n",
       "    </tr>\n",
       "    <tr>\n",
       "      <th>48741</th>\n",
       "      <td>0.000000</td>\n",
       "    </tr>\n",
       "    <tr>\n",
       "      <th>48742</th>\n",
       "      <td>0.000000</td>\n",
       "    </tr>\n",
       "    <tr>\n",
       "      <th>48743</th>\n",
       "      <td>0.000000</td>\n",
       "    </tr>\n",
       "  </tbody>\n",
       "</table>\n",
       "<p>356255 rows × 1 columns</p>\n",
       "</div>"
      ],
      "text/plain": [
       "       OBS_30_CNT_SOCIAL_CIRCLE_divide_REGION_POPULATION_RELATIVE\n",
       "0                                             106.377320         \n",
       "1                                             282.406100         \n",
       "2                                               0.000000         \n",
       "3                                             249.407657         \n",
       "4                                               0.000000         \n",
       "5                                               0.000000         \n",
       "6                                              27.939204         \n",
       "7                                             640.614990         \n",
       "8                                              53.665343         \n",
       "9                                             101.579562         \n",
       "10                                              0.000000         \n",
       "11                                              0.000000         \n",
       "12                                              0.000000         \n",
       "13                                              0.000000         \n",
       "14                                              0.000000         \n",
       "15                                              0.000000         \n",
       "16                                              0.000000         \n",
       "17                                            364.763815         \n",
       "18                                            173.085244         \n",
       "19                                              0.000000         \n",
       "20                                              0.000000         \n",
       "21                                              0.000000         \n",
       "22                                              0.000000         \n",
       "23                                              0.000000         \n",
       "24                                             37.890270         \n",
       "25                                              0.000000         \n",
       "26                                            554.661934         \n",
       "27                                            104.706560         \n",
       "28                                              0.000000         \n",
       "29                                              0.000000         \n",
       "...                                                  ...         \n",
       "48714                                          96.557717         \n",
       "48715                                          27.939204         \n",
       "48716                                         121.506683         \n",
       "48717                                           0.000000         \n",
       "48718                                          55.878409         \n",
       "48719                                         598.086124         \n",
       "48720                                           0.000000         \n",
       "48721                                         279.392043         \n",
       "48722                                         109.835795         \n",
       "48723                                         170.896351         \n",
       "48724                                           0.000000         \n",
       "48725                                           0.000000         \n",
       "48726                                           0.000000         \n",
       "48727                                           0.000000         \n",
       "48728                                         119.217930         \n",
       "48729                                           0.000000         \n",
       "48730                                           0.000000         \n",
       "48731                                           0.000000         \n",
       "48732                                           0.000000         \n",
       "48733                                          27.939204         \n",
       "48734                                         119.217930         \n",
       "48735                                          81.267777         \n",
       "48736                                           0.000000         \n",
       "48737                                         113.670809         \n",
       "48738                                           0.000000         \n",
       "48739                                         489.715965         \n",
       "48740                                          55.878409         \n",
       "48741                                           0.000000         \n",
       "48742                                           0.000000         \n",
       "48743                                           0.000000         \n",
       "\n",
       "[356255 rows x 1 columns]"
      ]
     },
     "execution_count": 20,
     "metadata": {},
     "output_type": "execute_result"
    }
   ],
   "source": [
    "df[['OBS_30_CNT_SOCIAL_CIRCLE_divide_REGION_POPULATION_RELATIVE']]"
   ]
  },
  {
   "cell_type": "code",
   "execution_count": 21,
   "metadata": {
    "ExecuteTime": {
     "end_time": "2018-06-22T20:01:34.792713Z",
     "start_time": "2018-06-22T20:01:34.785620Z"
    },
    "scrolled": true
   },
   "outputs": [
    {
     "data": {
      "text/plain": [
       "(356255, 138)"
      ]
     },
     "execution_count": 21,
     "metadata": {},
     "output_type": "execute_result"
    }
   ],
   "source": [
    "df.shape"
   ]
  },
  {
   "cell_type": "markdown",
   "metadata": {},
   "source": [
    "# DEF/OBS & 60/30"
   ]
  },
  {
   "cell_type": "code",
   "execution_count": 22,
   "metadata": {
    "ExecuteTime": {
     "end_time": "2018-06-22T20:01:34.801039Z",
     "start_time": "2018-06-22T20:01:34.797356Z"
    }
   },
   "outputs": [],
   "source": [
    "obs_30 = ['OBS_30_CNT_SOCIAL_CIRCLE', 'DEF_30_CNT_SOCIAL_CIRCLE']\n",
    "obs_60 = ['OBS_60_CNT_SOCIAL_CIRCLE', 'DEF_60_CNT_SOCIAL_CIRCLE']"
   ]
  },
  {
   "cell_type": "code",
   "execution_count": 23,
   "metadata": {
    "ExecuteTime": {
     "end_time": "2018-06-22T20:01:34.894651Z",
     "start_time": "2018-06-22T20:01:34.803954Z"
    }
   },
   "outputs": [
    {
     "name": "stdout",
     "output_type": "stream",
     "text": [
      "OBS_60_CNT_SOCIAL_CIRCLE_divide_OBS_30_CNT_SOCIAL_CIRCLE\n",
      "OBS_60_CNT_SOCIAL_CIRCLE_divide_DEF_30_CNT_SOCIAL_CIRCLE\n",
      "DEF_60_CNT_SOCIAL_CIRCLE_divide_OBS_30_CNT_SOCIAL_CIRCLE\n",
      "DEF_60_CNT_SOCIAL_CIRCLE_divide_DEF_30_CNT_SOCIAL_CIRCLE\n"
     ]
    }
   ],
   "source": [
    "for i in obs_60:\n",
    "    for j in obs_30:\n",
    "        print(ratio_name(i,j))\n",
    "        df[ratio_name(i,j)] = ratio(df, i, j)"
   ]
  },
  {
   "cell_type": "code",
   "execution_count": 24,
   "metadata": {
    "ExecuteTime": {
     "end_time": "2018-06-22T20:01:34.899823Z",
     "start_time": "2018-06-22T20:01:34.896164Z"
    }
   },
   "outputs": [
    {
     "data": {
      "text/plain": [
       "(356255, 142)"
      ]
     },
     "execution_count": 24,
     "metadata": {},
     "output_type": "execute_result"
    }
   ],
   "source": [
    "df.shape"
   ]
  },
  {
   "cell_type": "code",
   "execution_count": 25,
   "metadata": {
    "ExecuteTime": {
     "end_time": "2018-06-22T20:01:34.906109Z",
     "start_time": "2018-06-22T20:01:34.901478Z"
    }
   },
   "outputs": [],
   "source": [
    "default = ['DEF_30_CNT_SOCIAL_CIRCLE', 'DEF_60_CNT_SOCIAL_CIRCLE']\n",
    "obs = ['OBS_30_CNT_SOCIAL_CIRCLE', 'OBS_60_CNT_SOCIAL_CIRCLE']"
   ]
  },
  {
   "cell_type": "code",
   "execution_count": 26,
   "metadata": {
    "ExecuteTime": {
     "end_time": "2018-06-22T20:01:34.980267Z",
     "start_time": "2018-06-22T20:01:34.908028Z"
    }
   },
   "outputs": [
    {
     "name": "stdout",
     "output_type": "stream",
     "text": [
      "DEF_30_CNT_SOCIAL_CIRCLE_divide_OBS_30_CNT_SOCIAL_CIRCLE\n",
      "(356255, 143)\n",
      "DEF_30_CNT_SOCIAL_CIRCLE_divide_OBS_60_CNT_SOCIAL_CIRCLE\n",
      "(356255, 144)\n",
      "DEF_60_CNT_SOCIAL_CIRCLE_divide_OBS_30_CNT_SOCIAL_CIRCLE\n",
      "(356255, 144)\n",
      "DEF_60_CNT_SOCIAL_CIRCLE_divide_OBS_60_CNT_SOCIAL_CIRCLE\n",
      "(356255, 145)\n"
     ]
    }
   ],
   "source": [
    "for i in default:\n",
    "    for j in obs:\n",
    "        print(ratio_name(i,j))\n",
    "        df[ratio_name(i,j)] = ratio(df, i, j)\n",
    "        print(df.shape)"
   ]
  },
  {
   "cell_type": "markdown",
   "metadata": {
    "ExecuteTime": {
     "end_time": "2018-06-21T15:19:19.544579Z",
     "start_time": "2018-06-21T15:19:19.536314Z"
    }
   },
   "source": [
    "# Other Ratios:"
   ]
  },
  {
   "cell_type": "code",
   "execution_count": 36,
   "metadata": {
    "ExecuteTime": {
     "end_time": "2018-06-22T20:01:35.371680Z",
     "start_time": "2018-06-22T20:01:35.365847Z"
    }
   },
   "outputs": [
    {
     "name": "stdout",
     "output_type": "stream",
     "text": [
      "12 ['AMT_INCOME_TOTAL', 'AMT_CREDIT', 'AMT_ANNUITY', 'AMT_GOODS_PRICE', 'AMT_REQ_CREDIT_BUREAU_HOUR', 'AMT_REQ_CREDIT_BUREAU_DAY', 'AMT_REQ_CREDIT_BUREAU_WEEK', 'AMT_REQ_CREDIT_BUREAU_MON', 'AMT_REQ_CREDIT_BUREAU_QRT', 'AMT_REQ_CREDIT_BUREAU_YEAR', 'OWN_CAR_AGE', 'DAYS_LAST_PHONE_CHANGE']\n",
      "23 ['CNT_CHILDREN', 'DAYS_BIRTH', 'DAYS_EMPLOYED', 'DAYS_REGISTRATION', 'DAYS_ID_PUBLISH', 'CNT_FAM_MEMBERS', 'OBS_30_CNT_SOCIAL_CIRCLE', 'DEF_30_CNT_SOCIAL_CIRCLE', 'OBS_60_CNT_SOCIAL_CIRCLE', 'DEF_60_CNT_SOCIAL_CIRCLE', 'DAYS_LAST_PHONE_CHANGE', 'AMT_INCOME_TOTAL', 'AMT_CREDIT', 'AMT_ANNUITY', 'AMT_GOODS_PRICE', 'AMT_REQ_CREDIT_BUREAU_HOUR', 'AMT_REQ_CREDIT_BUREAU_DAY', 'AMT_REQ_CREDIT_BUREAU_WEEK', 'AMT_REQ_CREDIT_BUREAU_MON', 'AMT_REQ_CREDIT_BUREAU_QRT', 'AMT_REQ_CREDIT_BUREAU_YEAR', 'OWN_CAR_AGE', 'DAYS_LAST_PHONE_CHANGE']\n"
     ]
    }
   ],
   "source": [
    "can_be_numerator = [x for x in train.columns if 'AMT' in x] + ['OWN_CAR_AGE', 'DAYS_LAST_PHONE_CHANGE']\n",
    "can_be_denominator = [x for x in train.columns if 'CNT' in x or 'DAYS' in x] + can_be_numerator\n",
    "\n",
    "print(len(can_be_numerator),can_be_numerator)\n",
    "print(len(can_be_denominator),can_be_denominator)"
   ]
  },
  {
   "cell_type": "code",
   "execution_count": 37,
   "metadata": {
    "ExecuteTime": {
     "end_time": "2018-06-22T20:01:38.725389Z",
     "start_time": "2018-06-22T20:01:35.374506Z"
    },
    "scrolled": true
   },
   "outputs": [
    {
     "name": "stdout",
     "output_type": "stream",
     "text": [
      "AMT_INCOME_TOTAL_divide_CNT_CHILDREN\n",
      "AMT_INCOME_TOTAL_divide_DAYS_BIRTH\n",
      "AMT_INCOME_TOTAL_divide_DAYS_EMPLOYED\n",
      "AMT_INCOME_TOTAL_divide_DAYS_REGISTRATION\n",
      "AMT_INCOME_TOTAL_divide_DAYS_ID_PUBLISH\n",
      "AMT_INCOME_TOTAL_divide_CNT_FAM_MEMBERS\n",
      "AMT_INCOME_TOTAL_divide_OBS_30_CNT_SOCIAL_CIRCLE\n",
      "AMT_INCOME_TOTAL_divide_DEF_30_CNT_SOCIAL_CIRCLE\n",
      "AMT_INCOME_TOTAL_divide_OBS_60_CNT_SOCIAL_CIRCLE\n",
      "AMT_INCOME_TOTAL_divide_DEF_60_CNT_SOCIAL_CIRCLE\n",
      "AMT_INCOME_TOTAL_divide_DAYS_LAST_PHONE_CHANGE\n",
      "AMT_INCOME_TOTAL_divide_AMT_CREDIT\n",
      "AMT_INCOME_TOTAL_divide_AMT_ANNUITY\n",
      "AMT_INCOME_TOTAL_divide_AMT_GOODS_PRICE\n",
      "AMT_INCOME_TOTAL_divide_AMT_REQ_CREDIT_BUREAU_HOUR\n",
      "AMT_INCOME_TOTAL_divide_AMT_REQ_CREDIT_BUREAU_DAY\n",
      "AMT_INCOME_TOTAL_divide_AMT_REQ_CREDIT_BUREAU_WEEK\n",
      "AMT_INCOME_TOTAL_divide_AMT_REQ_CREDIT_BUREAU_MON\n",
      "AMT_INCOME_TOTAL_divide_AMT_REQ_CREDIT_BUREAU_QRT\n",
      "AMT_INCOME_TOTAL_divide_AMT_REQ_CREDIT_BUREAU_YEAR\n",
      "AMT_INCOME_TOTAL_divide_OWN_CAR_AGE\n",
      "AMT_INCOME_TOTAL_divide_DAYS_LAST_PHONE_CHANGE\n",
      "AMT_CREDIT_divide_CNT_CHILDREN\n",
      "AMT_CREDIT_divide_DAYS_BIRTH\n",
      "AMT_CREDIT_divide_DAYS_EMPLOYED\n",
      "AMT_CREDIT_divide_DAYS_REGISTRATION\n",
      "AMT_CREDIT_divide_DAYS_ID_PUBLISH\n",
      "AMT_CREDIT_divide_CNT_FAM_MEMBERS\n",
      "AMT_CREDIT_divide_OBS_30_CNT_SOCIAL_CIRCLE\n",
      "AMT_CREDIT_divide_DEF_30_CNT_SOCIAL_CIRCLE\n",
      "AMT_CREDIT_divide_OBS_60_CNT_SOCIAL_CIRCLE\n",
      "AMT_CREDIT_divide_DEF_60_CNT_SOCIAL_CIRCLE\n",
      "AMT_CREDIT_divide_DAYS_LAST_PHONE_CHANGE\n",
      "AMT_CREDIT_divide_AMT_ANNUITY\n",
      "AMT_CREDIT_divide_AMT_GOODS_PRICE\n",
      "AMT_CREDIT_divide_AMT_REQ_CREDIT_BUREAU_HOUR\n",
      "AMT_CREDIT_divide_AMT_REQ_CREDIT_BUREAU_DAY\n",
      "AMT_CREDIT_divide_AMT_REQ_CREDIT_BUREAU_WEEK\n",
      "AMT_CREDIT_divide_AMT_REQ_CREDIT_BUREAU_MON\n",
      "AMT_CREDIT_divide_AMT_REQ_CREDIT_BUREAU_QRT\n",
      "AMT_CREDIT_divide_AMT_REQ_CREDIT_BUREAU_YEAR\n",
      "AMT_CREDIT_divide_OWN_CAR_AGE\n",
      "AMT_CREDIT_divide_DAYS_LAST_PHONE_CHANGE\n",
      "AMT_ANNUITY_divide_CNT_CHILDREN\n",
      "AMT_ANNUITY_divide_DAYS_BIRTH\n",
      "AMT_ANNUITY_divide_DAYS_EMPLOYED\n",
      "AMT_ANNUITY_divide_DAYS_REGISTRATION\n",
      "AMT_ANNUITY_divide_DAYS_ID_PUBLISH\n",
      "AMT_ANNUITY_divide_CNT_FAM_MEMBERS\n",
      "AMT_ANNUITY_divide_OBS_30_CNT_SOCIAL_CIRCLE\n",
      "AMT_ANNUITY_divide_DEF_30_CNT_SOCIAL_CIRCLE\n",
      "AMT_ANNUITY_divide_OBS_60_CNT_SOCIAL_CIRCLE\n",
      "AMT_ANNUITY_divide_DEF_60_CNT_SOCIAL_CIRCLE\n",
      "AMT_ANNUITY_divide_DAYS_LAST_PHONE_CHANGE\n",
      "AMT_ANNUITY_divide_AMT_GOODS_PRICE\n",
      "AMT_ANNUITY_divide_AMT_REQ_CREDIT_BUREAU_HOUR\n",
      "AMT_ANNUITY_divide_AMT_REQ_CREDIT_BUREAU_DAY\n",
      "AMT_ANNUITY_divide_AMT_REQ_CREDIT_BUREAU_WEEK\n",
      "AMT_ANNUITY_divide_AMT_REQ_CREDIT_BUREAU_MON\n",
      "AMT_ANNUITY_divide_AMT_REQ_CREDIT_BUREAU_QRT\n",
      "AMT_ANNUITY_divide_AMT_REQ_CREDIT_BUREAU_YEAR\n",
      "AMT_ANNUITY_divide_OWN_CAR_AGE\n",
      "AMT_ANNUITY_divide_DAYS_LAST_PHONE_CHANGE\n",
      "AMT_GOODS_PRICE_divide_CNT_CHILDREN\n",
      "AMT_GOODS_PRICE_divide_DAYS_BIRTH\n",
      "AMT_GOODS_PRICE_divide_DAYS_EMPLOYED\n",
      "AMT_GOODS_PRICE_divide_DAYS_REGISTRATION\n",
      "AMT_GOODS_PRICE_divide_DAYS_ID_PUBLISH\n",
      "AMT_GOODS_PRICE_divide_CNT_FAM_MEMBERS\n",
      "AMT_GOODS_PRICE_divide_OBS_30_CNT_SOCIAL_CIRCLE\n",
      "AMT_GOODS_PRICE_divide_DEF_30_CNT_SOCIAL_CIRCLE\n",
      "AMT_GOODS_PRICE_divide_OBS_60_CNT_SOCIAL_CIRCLE\n",
      "AMT_GOODS_PRICE_divide_DEF_60_CNT_SOCIAL_CIRCLE\n",
      "AMT_GOODS_PRICE_divide_DAYS_LAST_PHONE_CHANGE\n",
      "AMT_GOODS_PRICE_divide_AMT_REQ_CREDIT_BUREAU_HOUR\n",
      "AMT_GOODS_PRICE_divide_AMT_REQ_CREDIT_BUREAU_DAY\n",
      "AMT_GOODS_PRICE_divide_AMT_REQ_CREDIT_BUREAU_WEEK\n",
      "AMT_GOODS_PRICE_divide_AMT_REQ_CREDIT_BUREAU_MON\n",
      "AMT_GOODS_PRICE_divide_AMT_REQ_CREDIT_BUREAU_QRT\n",
      "AMT_GOODS_PRICE_divide_AMT_REQ_CREDIT_BUREAU_YEAR\n",
      "AMT_GOODS_PRICE_divide_OWN_CAR_AGE\n",
      "AMT_GOODS_PRICE_divide_DAYS_LAST_PHONE_CHANGE\n",
      "AMT_REQ_CREDIT_BUREAU_HOUR_divide_CNT_CHILDREN\n",
      "AMT_REQ_CREDIT_BUREAU_HOUR_divide_DAYS_BIRTH\n",
      "AMT_REQ_CREDIT_BUREAU_HOUR_divide_DAYS_EMPLOYED\n",
      "AMT_REQ_CREDIT_BUREAU_HOUR_divide_DAYS_REGISTRATION\n",
      "AMT_REQ_CREDIT_BUREAU_HOUR_divide_DAYS_ID_PUBLISH\n",
      "AMT_REQ_CREDIT_BUREAU_HOUR_divide_CNT_FAM_MEMBERS\n",
      "AMT_REQ_CREDIT_BUREAU_HOUR_divide_OBS_30_CNT_SOCIAL_CIRCLE\n",
      "AMT_REQ_CREDIT_BUREAU_HOUR_divide_DEF_30_CNT_SOCIAL_CIRCLE\n",
      "AMT_REQ_CREDIT_BUREAU_HOUR_divide_OBS_60_CNT_SOCIAL_CIRCLE\n",
      "AMT_REQ_CREDIT_BUREAU_HOUR_divide_DEF_60_CNT_SOCIAL_CIRCLE\n",
      "AMT_REQ_CREDIT_BUREAU_HOUR_divide_DAYS_LAST_PHONE_CHANGE\n",
      "AMT_REQ_CREDIT_BUREAU_HOUR_divide_AMT_REQ_CREDIT_BUREAU_DAY\n",
      "AMT_REQ_CREDIT_BUREAU_HOUR_divide_AMT_REQ_CREDIT_BUREAU_WEEK\n",
      "AMT_REQ_CREDIT_BUREAU_HOUR_divide_AMT_REQ_CREDIT_BUREAU_MON\n",
      "AMT_REQ_CREDIT_BUREAU_HOUR_divide_AMT_REQ_CREDIT_BUREAU_QRT\n",
      "AMT_REQ_CREDIT_BUREAU_HOUR_divide_AMT_REQ_CREDIT_BUREAU_YEAR\n",
      "AMT_REQ_CREDIT_BUREAU_HOUR_divide_OWN_CAR_AGE\n",
      "AMT_REQ_CREDIT_BUREAU_HOUR_divide_DAYS_LAST_PHONE_CHANGE\n",
      "AMT_REQ_CREDIT_BUREAU_DAY_divide_CNT_CHILDREN\n",
      "AMT_REQ_CREDIT_BUREAU_DAY_divide_DAYS_BIRTH\n",
      "AMT_REQ_CREDIT_BUREAU_DAY_divide_DAYS_EMPLOYED\n",
      "AMT_REQ_CREDIT_BUREAU_DAY_divide_DAYS_REGISTRATION\n",
      "AMT_REQ_CREDIT_BUREAU_DAY_divide_DAYS_ID_PUBLISH\n",
      "AMT_REQ_CREDIT_BUREAU_DAY_divide_CNT_FAM_MEMBERS\n",
      "AMT_REQ_CREDIT_BUREAU_DAY_divide_OBS_30_CNT_SOCIAL_CIRCLE\n",
      "AMT_REQ_CREDIT_BUREAU_DAY_divide_DEF_30_CNT_SOCIAL_CIRCLE\n",
      "AMT_REQ_CREDIT_BUREAU_DAY_divide_OBS_60_CNT_SOCIAL_CIRCLE\n",
      "AMT_REQ_CREDIT_BUREAU_DAY_divide_DEF_60_CNT_SOCIAL_CIRCLE\n",
      "AMT_REQ_CREDIT_BUREAU_DAY_divide_DAYS_LAST_PHONE_CHANGE\n",
      "AMT_REQ_CREDIT_BUREAU_DAY_divide_AMT_REQ_CREDIT_BUREAU_WEEK\n",
      "AMT_REQ_CREDIT_BUREAU_DAY_divide_AMT_REQ_CREDIT_BUREAU_MON\n",
      "AMT_REQ_CREDIT_BUREAU_DAY_divide_AMT_REQ_CREDIT_BUREAU_QRT\n",
      "AMT_REQ_CREDIT_BUREAU_DAY_divide_AMT_REQ_CREDIT_BUREAU_YEAR\n",
      "AMT_REQ_CREDIT_BUREAU_DAY_divide_OWN_CAR_AGE\n",
      "AMT_REQ_CREDIT_BUREAU_DAY_divide_DAYS_LAST_PHONE_CHANGE\n",
      "AMT_REQ_CREDIT_BUREAU_WEEK_divide_CNT_CHILDREN\n",
      "AMT_REQ_CREDIT_BUREAU_WEEK_divide_DAYS_BIRTH\n",
      "AMT_REQ_CREDIT_BUREAU_WEEK_divide_DAYS_EMPLOYED\n",
      "AMT_REQ_CREDIT_BUREAU_WEEK_divide_DAYS_REGISTRATION\n",
      "AMT_REQ_CREDIT_BUREAU_WEEK_divide_DAYS_ID_PUBLISH\n",
      "AMT_REQ_CREDIT_BUREAU_WEEK_divide_CNT_FAM_MEMBERS\n",
      "AMT_REQ_CREDIT_BUREAU_WEEK_divide_OBS_30_CNT_SOCIAL_CIRCLE\n",
      "AMT_REQ_CREDIT_BUREAU_WEEK_divide_DEF_30_CNT_SOCIAL_CIRCLE\n",
      "AMT_REQ_CREDIT_BUREAU_WEEK_divide_OBS_60_CNT_SOCIAL_CIRCLE\n",
      "AMT_REQ_CREDIT_BUREAU_WEEK_divide_DEF_60_CNT_SOCIAL_CIRCLE\n",
      "AMT_REQ_CREDIT_BUREAU_WEEK_divide_DAYS_LAST_PHONE_CHANGE\n",
      "AMT_REQ_CREDIT_BUREAU_WEEK_divide_AMT_REQ_CREDIT_BUREAU_MON\n",
      "AMT_REQ_CREDIT_BUREAU_WEEK_divide_AMT_REQ_CREDIT_BUREAU_QRT\n",
      "AMT_REQ_CREDIT_BUREAU_WEEK_divide_AMT_REQ_CREDIT_BUREAU_YEAR\n",
      "AMT_REQ_CREDIT_BUREAU_WEEK_divide_OWN_CAR_AGE\n",
      "AMT_REQ_CREDIT_BUREAU_WEEK_divide_DAYS_LAST_PHONE_CHANGE\n",
      "AMT_REQ_CREDIT_BUREAU_MON_divide_CNT_CHILDREN\n",
      "AMT_REQ_CREDIT_BUREAU_MON_divide_DAYS_BIRTH\n",
      "AMT_REQ_CREDIT_BUREAU_MON_divide_DAYS_EMPLOYED\n",
      "AMT_REQ_CREDIT_BUREAU_MON_divide_DAYS_REGISTRATION\n",
      "AMT_REQ_CREDIT_BUREAU_MON_divide_DAYS_ID_PUBLISH\n",
      "AMT_REQ_CREDIT_BUREAU_MON_divide_CNT_FAM_MEMBERS\n",
      "AMT_REQ_CREDIT_BUREAU_MON_divide_OBS_30_CNT_SOCIAL_CIRCLE\n",
      "AMT_REQ_CREDIT_BUREAU_MON_divide_DEF_30_CNT_SOCIAL_CIRCLE\n",
      "AMT_REQ_CREDIT_BUREAU_MON_divide_OBS_60_CNT_SOCIAL_CIRCLE\n",
      "AMT_REQ_CREDIT_BUREAU_MON_divide_DEF_60_CNT_SOCIAL_CIRCLE\n",
      "AMT_REQ_CREDIT_BUREAU_MON_divide_DAYS_LAST_PHONE_CHANGE\n",
      "AMT_REQ_CREDIT_BUREAU_MON_divide_AMT_REQ_CREDIT_BUREAU_QRT\n",
      "AMT_REQ_CREDIT_BUREAU_MON_divide_AMT_REQ_CREDIT_BUREAU_YEAR\n",
      "AMT_REQ_CREDIT_BUREAU_MON_divide_OWN_CAR_AGE\n",
      "AMT_REQ_CREDIT_BUREAU_MON_divide_DAYS_LAST_PHONE_CHANGE\n",
      "AMT_REQ_CREDIT_BUREAU_QRT_divide_CNT_CHILDREN\n",
      "AMT_REQ_CREDIT_BUREAU_QRT_divide_DAYS_BIRTH\n",
      "AMT_REQ_CREDIT_BUREAU_QRT_divide_DAYS_EMPLOYED\n",
      "AMT_REQ_CREDIT_BUREAU_QRT_divide_DAYS_REGISTRATION\n",
      "AMT_REQ_CREDIT_BUREAU_QRT_divide_DAYS_ID_PUBLISH\n",
      "AMT_REQ_CREDIT_BUREAU_QRT_divide_CNT_FAM_MEMBERS\n",
      "AMT_REQ_CREDIT_BUREAU_QRT_divide_OBS_30_CNT_SOCIAL_CIRCLE\n",
      "AMT_REQ_CREDIT_BUREAU_QRT_divide_DEF_30_CNT_SOCIAL_CIRCLE\n",
      "AMT_REQ_CREDIT_BUREAU_QRT_divide_OBS_60_CNT_SOCIAL_CIRCLE\n",
      "AMT_REQ_CREDIT_BUREAU_QRT_divide_DEF_60_CNT_SOCIAL_CIRCLE\n",
      "AMT_REQ_CREDIT_BUREAU_QRT_divide_DAYS_LAST_PHONE_CHANGE\n",
      "AMT_REQ_CREDIT_BUREAU_QRT_divide_AMT_REQ_CREDIT_BUREAU_YEAR\n",
      "AMT_REQ_CREDIT_BUREAU_QRT_divide_OWN_CAR_AGE\n",
      "AMT_REQ_CREDIT_BUREAU_QRT_divide_DAYS_LAST_PHONE_CHANGE\n",
      "AMT_REQ_CREDIT_BUREAU_YEAR_divide_CNT_CHILDREN\n",
      "AMT_REQ_CREDIT_BUREAU_YEAR_divide_DAYS_BIRTH\n",
      "AMT_REQ_CREDIT_BUREAU_YEAR_divide_DAYS_EMPLOYED\n",
      "AMT_REQ_CREDIT_BUREAU_YEAR_divide_DAYS_REGISTRATION\n",
      "AMT_REQ_CREDIT_BUREAU_YEAR_divide_DAYS_ID_PUBLISH\n",
      "AMT_REQ_CREDIT_BUREAU_YEAR_divide_CNT_FAM_MEMBERS\n",
      "AMT_REQ_CREDIT_BUREAU_YEAR_divide_OBS_30_CNT_SOCIAL_CIRCLE\n",
      "AMT_REQ_CREDIT_BUREAU_YEAR_divide_DEF_30_CNT_SOCIAL_CIRCLE\n",
      "AMT_REQ_CREDIT_BUREAU_YEAR_divide_OBS_60_CNT_SOCIAL_CIRCLE\n",
      "AMT_REQ_CREDIT_BUREAU_YEAR_divide_DEF_60_CNT_SOCIAL_CIRCLE\n",
      "AMT_REQ_CREDIT_BUREAU_YEAR_divide_DAYS_LAST_PHONE_CHANGE\n",
      "AMT_REQ_CREDIT_BUREAU_YEAR_divide_OWN_CAR_AGE\n",
      "AMT_REQ_CREDIT_BUREAU_YEAR_divide_DAYS_LAST_PHONE_CHANGE\n",
      "OWN_CAR_AGE_divide_CNT_CHILDREN\n",
      "OWN_CAR_AGE_divide_DAYS_BIRTH\n",
      "OWN_CAR_AGE_divide_DAYS_EMPLOYED\n",
      "OWN_CAR_AGE_divide_DAYS_REGISTRATION\n"
     ]
    },
    {
     "name": "stdout",
     "output_type": "stream",
     "text": [
      "OWN_CAR_AGE_divide_DAYS_ID_PUBLISH\n",
      "OWN_CAR_AGE_divide_CNT_FAM_MEMBERS\n",
      "OWN_CAR_AGE_divide_OBS_30_CNT_SOCIAL_CIRCLE\n",
      "OWN_CAR_AGE_divide_DEF_30_CNT_SOCIAL_CIRCLE\n",
      "OWN_CAR_AGE_divide_OBS_60_CNT_SOCIAL_CIRCLE\n",
      "OWN_CAR_AGE_divide_DEF_60_CNT_SOCIAL_CIRCLE\n",
      "OWN_CAR_AGE_divide_DAYS_LAST_PHONE_CHANGE\n",
      "OWN_CAR_AGE_divide_DAYS_LAST_PHONE_CHANGE\n",
      "DAYS_LAST_PHONE_CHANGE_divide_CNT_CHILDREN\n",
      "DAYS_LAST_PHONE_CHANGE_divide_DAYS_BIRTH\n",
      "DAYS_LAST_PHONE_CHANGE_divide_DAYS_EMPLOYED\n",
      "DAYS_LAST_PHONE_CHANGE_divide_DAYS_REGISTRATION\n",
      "DAYS_LAST_PHONE_CHANGE_divide_DAYS_ID_PUBLISH\n",
      "DAYS_LAST_PHONE_CHANGE_divide_CNT_FAM_MEMBERS\n",
      "DAYS_LAST_PHONE_CHANGE_divide_OBS_30_CNT_SOCIAL_CIRCLE\n",
      "DAYS_LAST_PHONE_CHANGE_divide_DEF_30_CNT_SOCIAL_CIRCLE\n",
      "DAYS_LAST_PHONE_CHANGE_divide_OBS_60_CNT_SOCIAL_CIRCLE\n",
      "DAYS_LAST_PHONE_CHANGE_divide_DEF_60_CNT_SOCIAL_CIRCLE\n",
      "197 (356255, 329)\n"
     ]
    }
   ],
   "source": [
    "i = 0\n",
    "for x in can_be_numerator:\n",
    "    for y in can_be_denominator:\n",
    "        if y != x and ratio_name(y,x) not in df.columns:\n",
    "            i += 1\n",
    "            print(ratio_name(x,y))\n",
    "            df[ratio_name(x, y)] = ratio(df, x, y)\n",
    "print(i, df.shape)"
   ]
  },
  {
   "cell_type": "markdown",
   "metadata": {},
   "source": [
    "# Cat Features"
   ]
  },
  {
   "cell_type": "code",
   "execution_count": 38,
   "metadata": {
    "ExecuteTime": {
     "end_time": "2018-06-22T20:01:40.400502Z",
     "start_time": "2018-06-22T20:01:38.728108Z"
    }
   },
   "outputs": [
    {
     "name": "stdout",
     "output_type": "stream",
     "text": [
      "(356255, 287)\n",
      "(307511, 287) (48744, 287)\n"
     ]
    },
    {
     "name": "stderr",
     "output_type": "stream",
     "text": [
      "/home/kai/anaconda3/lib/python3.6/site-packages/pandas/core/frame.py:3694: SettingWithCopyWarning: \n",
      "A value is trying to be set on a copy of a slice from a DataFrame\n",
      "\n",
      "See the caveats in the documentation: http://pandas.pydata.org/pandas-docs/stable/indexing.html#indexing-view-versus-copy\n",
      "  errors=errors)\n"
     ]
    },
    {
     "data": {
      "text/plain": [
       "(48744, 286)"
      ]
     },
     "execution_count": 38,
     "metadata": {},
     "output_type": "execute_result"
    }
   ],
   "source": [
    "cat_feats = ['NAME_CONTRACT_TYPE','CODE_GENDER','FLAG_OWN_CAR','FLAG_OWN_REALTY','NAME_TYPE_SUITE',\n",
    "    'NAME_INCOME_TYPE','NAME_EDUCATION_TYPE', 'NAME_FAMILY_STATUS', 'NAME_HOUSING_TYPE', 'FLAG_EMAIL', 'OCCUPATION_TYPE',\n",
    "    'REG_REGION_NOT_LIVE_REGION', 'REG_REGION_NOT_WORK_REGION', 'LIVE_REGION_NOT_WORK_REGION', 'REG_CITY_NOT_LIVE_CITY',\n",
    "    'REG_CITY_NOT_WORK_CITY', 'LIVE_CITY_NOT_WORK_CITY', 'FLAG_DOCUMENT_2', 'FLAG_DOCUMENT_3',\n",
    "    'FLAG_DOCUMENT_4', 'FLAG_DOCUMENT_5', 'FLAG_DOCUMENT_6', 'FLAG_DOCUMENT_7', 'FLAG_DOCUMENT_8', 'FLAG_DOCUMENT_9',\n",
    "    'FLAG_DOCUMENT_10', 'FLAG_DOCUMENT_11', 'FLAG_DOCUMENT_12', 'FLAG_DOCUMENT_13', 'FLAG_DOCUMENT_14',\n",
    "    'FLAG_DOCUMENT_15', 'FLAG_DOCUMENT_16', 'FLAG_DOCUMENT_17', 'FLAG_DOCUMENT_18', 'FLAG_DOCUMENT_19',\n",
    "    'FLAG_DOCUMENT_20', 'FLAG_DOCUMENT_21','WEEKDAY_APPR_PROCESS_START', 'FONDKAPREMONT_MODE', 'HOUSETYPE_MODE', \n",
    "    'WALLSMATERIAL_MODE', 'EMERGENCYSTATE_MODE'\n",
    "]\n",
    "\n",
    "#'FLAG_MOBIL' 'FLAG_EMP_PHONE' 'FLAG_WORK_PHONE' 'FLAG_CONT_MOBILE'\\n 'FLAG_PHONE'\n",
    "df.drop(cat_feats, inplace = True, axis = 1)\n",
    "print(df.shape)\n",
    "\n",
    "train = df[df['TARGET'].notnull()]\n",
    "test = df[df['TARGET'].isnull()]\n",
    "print(train.shape,test.shape)\n",
    "\n",
    "test.drop('TARGET', axis = 1, inplace = True)\n",
    "test.shape"
   ]
  },
  {
   "cell_type": "code",
   "execution_count": 39,
   "metadata": {
    "ExecuteTime": {
     "end_time": "2018-06-22T20:01:40.407207Z",
     "start_time": "2018-06-22T20:01:40.401914Z"
    }
   },
   "outputs": [],
   "source": [
    "train_ext = pd.read_pickle(PATH+ 'inter/ext_linear.pkl')\n",
    "# test_mean = pd.read_pickle(PATH + 'inter/test_mean.pkl')\n",
    "test_ext = pd.DataFrame()"
   ]
  },
  {
   "cell_type": "code",
   "execution_count": 40,
   "metadata": {
    "ExecuteTime": {
     "end_time": "2018-06-22T20:01:40.804198Z",
     "start_time": "2018-06-22T20:01:40.409007Z"
    }
   },
   "outputs": [],
   "source": [
    "train = pd.concat([train, train_ext], axis = 1)\n",
    "\n",
    "test = pd.concat([test, test_ext], axis = 1)"
   ]
  },
  {
   "cell_type": "code",
   "execution_count": 41,
   "metadata": {
    "ExecuteTime": {
     "end_time": "2018-06-22T20:01:42.628728Z",
     "start_time": "2018-06-22T20:01:40.806192Z"
    }
   },
   "outputs": [],
   "source": [
    "train.to_pickle(PATH + 'inter/06_22_train_mean.pkl')\n",
    "test.to_pickle(PATH + 'inter/06_22_test_mean.pkl')"
   ]
  },
  {
   "cell_type": "code",
   "execution_count": 42,
   "metadata": {
    "ExecuteTime": {
     "end_time": "2018-06-22T20:01:42.652319Z",
     "start_time": "2018-06-22T20:01:42.632050Z"
    }
   },
   "outputs": [
    {
     "data": {
      "text/html": [
       "<div>\n",
       "<style scoped>\n",
       "    .dataframe tbody tr th:only-of-type {\n",
       "        vertical-align: middle;\n",
       "    }\n",
       "\n",
       "    .dataframe tbody tr th {\n",
       "        vertical-align: top;\n",
       "    }\n",
       "\n",
       "    .dataframe thead th {\n",
       "        text-align: right;\n",
       "    }\n",
       "</style>\n",
       "<table border=\"1\" class=\"dataframe\">\n",
       "  <thead>\n",
       "    <tr style=\"text-align: right;\">\n",
       "      <th></th>\n",
       "      <th>SK_ID_CURR</th>\n",
       "      <th>TARGET</th>\n",
       "      <th>CNT_CHILDREN</th>\n",
       "      <th>AMT_INCOME_TOTAL</th>\n",
       "      <th>AMT_CREDIT</th>\n",
       "      <th>AMT_ANNUITY</th>\n",
       "      <th>AMT_GOODS_PRICE</th>\n",
       "      <th>REGION_POPULATION_RELATIVE</th>\n",
       "      <th>DAYS_BIRTH</th>\n",
       "      <th>DAYS_EMPLOYED</th>\n",
       "      <th>...</th>\n",
       "      <th>DAYS_LAST_PHONE_CHANGE_divide_DAYS_REGISTRATION</th>\n",
       "      <th>DAYS_LAST_PHONE_CHANGE_divide_DAYS_ID_PUBLISH</th>\n",
       "      <th>DAYS_LAST_PHONE_CHANGE_divide_CNT_FAM_MEMBERS</th>\n",
       "      <th>DAYS_LAST_PHONE_CHANGE_divide_OBS_30_CNT_SOCIAL_CIRCLE</th>\n",
       "      <th>DAYS_LAST_PHONE_CHANGE_divide_DEF_30_CNT_SOCIAL_CIRCLE</th>\n",
       "      <th>DAYS_LAST_PHONE_CHANGE_divide_OBS_60_CNT_SOCIAL_CIRCLE</th>\n",
       "      <th>DAYS_LAST_PHONE_CHANGE_divide_DEF_60_CNT_SOCIAL_CIRCLE</th>\n",
       "      <th>EXT_SOURCE_PRED_1</th>\n",
       "      <th>EXT_SOURCE_PRED_2</th>\n",
       "      <th>EXT_SOURCE_PRED_3</th>\n",
       "    </tr>\n",
       "  </thead>\n",
       "  <tbody>\n",
       "    <tr>\n",
       "      <th>0</th>\n",
       "      <td>100002</td>\n",
       "      <td>1.0</td>\n",
       "      <td>0</td>\n",
       "      <td>202500.0</td>\n",
       "      <td>406597.5</td>\n",
       "      <td>24700.5</td>\n",
       "      <td>351000.0</td>\n",
       "      <td>0.018801</td>\n",
       "      <td>-9461</td>\n",
       "      <td>-637</td>\n",
       "      <td>...</td>\n",
       "      <td>0.310855</td>\n",
       "      <td>0.534906</td>\n",
       "      <td>-1134.0</td>\n",
       "      <td>-567.000000</td>\n",
       "      <td>-567.000000</td>\n",
       "      <td>-567.000000</td>\n",
       "      <td>-567.000000</td>\n",
       "      <td>0.184694</td>\n",
       "      <td>0.434859</td>\n",
       "      <td>0.417202</td>\n",
       "    </tr>\n",
       "    <tr>\n",
       "      <th>1</th>\n",
       "      <td>100003</td>\n",
       "      <td>0.0</td>\n",
       "      <td>0</td>\n",
       "      <td>270000.0</td>\n",
       "      <td>1293502.5</td>\n",
       "      <td>35698.5</td>\n",
       "      <td>1129500.0</td>\n",
       "      <td>0.003541</td>\n",
       "      <td>-16765</td>\n",
       "      <td>-1188</td>\n",
       "      <td>...</td>\n",
       "      <td>0.698145</td>\n",
       "      <td>2.845361</td>\n",
       "      <td>-414.0</td>\n",
       "      <td>-828.000000</td>\n",
       "      <td>-inf</td>\n",
       "      <td>-828.000000</td>\n",
       "      <td>-inf</td>\n",
       "      <td>0.652030</td>\n",
       "      <td>0.603857</td>\n",
       "      <td>0.520355</td>\n",
       "    </tr>\n",
       "    <tr>\n",
       "      <th>2</th>\n",
       "      <td>100004</td>\n",
       "      <td>0.0</td>\n",
       "      <td>0</td>\n",
       "      <td>67500.0</td>\n",
       "      <td>135000.0</td>\n",
       "      <td>6750.0</td>\n",
       "      <td>135000.0</td>\n",
       "      <td>0.010032</td>\n",
       "      <td>-19046</td>\n",
       "      <td>-225</td>\n",
       "      <td>...</td>\n",
       "      <td>0.191315</td>\n",
       "      <td>0.322007</td>\n",
       "      <td>-815.0</td>\n",
       "      <td>-inf</td>\n",
       "      <td>-inf</td>\n",
       "      <td>-inf</td>\n",
       "      <td>-inf</td>\n",
       "      <td>0.550152</td>\n",
       "      <td>0.505275</td>\n",
       "      <td>0.542312</td>\n",
       "    </tr>\n",
       "    <tr>\n",
       "      <th>3</th>\n",
       "      <td>100006</td>\n",
       "      <td>0.0</td>\n",
       "      <td>0</td>\n",
       "      <td>135000.0</td>\n",
       "      <td>312682.5</td>\n",
       "      <td>29686.5</td>\n",
       "      <td>297000.0</td>\n",
       "      <td>0.008019</td>\n",
       "      <td>-19005</td>\n",
       "      <td>-3039</td>\n",
       "      <td>...</td>\n",
       "      <td>0.062748</td>\n",
       "      <td>0.253180</td>\n",
       "      <td>-308.5</td>\n",
       "      <td>-308.500000</td>\n",
       "      <td>-inf</td>\n",
       "      <td>-308.500000</td>\n",
       "      <td>-inf</td>\n",
       "      <td>0.646242</td>\n",
       "      <td>0.502573</td>\n",
       "      <td>0.576674</td>\n",
       "    </tr>\n",
       "    <tr>\n",
       "      <th>4</th>\n",
       "      <td>100007</td>\n",
       "      <td>0.0</td>\n",
       "      <td>0</td>\n",
       "      <td>121500.0</td>\n",
       "      <td>513000.0</td>\n",
       "      <td>21865.5</td>\n",
       "      <td>513000.0</td>\n",
       "      <td>0.028663</td>\n",
       "      <td>-19932</td>\n",
       "      <td>-3038</td>\n",
       "      <td>...</td>\n",
       "      <td>0.256553</td>\n",
       "      <td>0.319838</td>\n",
       "      <td>-1106.0</td>\n",
       "      <td>-inf</td>\n",
       "      <td>-inf</td>\n",
       "      <td>-inf</td>\n",
       "      <td>-inf</td>\n",
       "      <td>0.532783</td>\n",
       "      <td>0.496964</td>\n",
       "      <td>0.564171</td>\n",
       "    </tr>\n",
       "  </tbody>\n",
       "</table>\n",
       "<p>5 rows × 290 columns</p>\n",
       "</div>"
      ],
      "text/plain": [
       "   SK_ID_CURR  TARGET  CNT_CHILDREN  AMT_INCOME_TOTAL  AMT_CREDIT  \\\n",
       "0      100002     1.0             0          202500.0    406597.5   \n",
       "1      100003     0.0             0          270000.0   1293502.5   \n",
       "2      100004     0.0             0           67500.0    135000.0   \n",
       "3      100006     0.0             0          135000.0    312682.5   \n",
       "4      100007     0.0             0          121500.0    513000.0   \n",
       "\n",
       "   AMT_ANNUITY  AMT_GOODS_PRICE  REGION_POPULATION_RELATIVE  DAYS_BIRTH  \\\n",
       "0      24700.5         351000.0                    0.018801       -9461   \n",
       "1      35698.5        1129500.0                    0.003541      -16765   \n",
       "2       6750.0         135000.0                    0.010032      -19046   \n",
       "3      29686.5         297000.0                    0.008019      -19005   \n",
       "4      21865.5         513000.0                    0.028663      -19932   \n",
       "\n",
       "   DAYS_EMPLOYED        ...          \\\n",
       "0           -637        ...           \n",
       "1          -1188        ...           \n",
       "2           -225        ...           \n",
       "3          -3039        ...           \n",
       "4          -3038        ...           \n",
       "\n",
       "   DAYS_LAST_PHONE_CHANGE_divide_DAYS_REGISTRATION  \\\n",
       "0                                         0.310855   \n",
       "1                                         0.698145   \n",
       "2                                         0.191315   \n",
       "3                                         0.062748   \n",
       "4                                         0.256553   \n",
       "\n",
       "   DAYS_LAST_PHONE_CHANGE_divide_DAYS_ID_PUBLISH  \\\n",
       "0                                       0.534906   \n",
       "1                                       2.845361   \n",
       "2                                       0.322007   \n",
       "3                                       0.253180   \n",
       "4                                       0.319838   \n",
       "\n",
       "   DAYS_LAST_PHONE_CHANGE_divide_CNT_FAM_MEMBERS  \\\n",
       "0                                        -1134.0   \n",
       "1                                         -414.0   \n",
       "2                                         -815.0   \n",
       "3                                         -308.5   \n",
       "4                                        -1106.0   \n",
       "\n",
       "   DAYS_LAST_PHONE_CHANGE_divide_OBS_30_CNT_SOCIAL_CIRCLE  \\\n",
       "0                                        -567.000000        \n",
       "1                                        -828.000000        \n",
       "2                                               -inf        \n",
       "3                                        -308.500000        \n",
       "4                                               -inf        \n",
       "\n",
       "   DAYS_LAST_PHONE_CHANGE_divide_DEF_30_CNT_SOCIAL_CIRCLE  \\\n",
       "0                                        -567.000000        \n",
       "1                                               -inf        \n",
       "2                                               -inf        \n",
       "3                                               -inf        \n",
       "4                                               -inf        \n",
       "\n",
       "   DAYS_LAST_PHONE_CHANGE_divide_OBS_60_CNT_SOCIAL_CIRCLE  \\\n",
       "0                                        -567.000000        \n",
       "1                                        -828.000000        \n",
       "2                                               -inf        \n",
       "3                                        -308.500000        \n",
       "4                                               -inf        \n",
       "\n",
       "   DAYS_LAST_PHONE_CHANGE_divide_DEF_60_CNT_SOCIAL_CIRCLE  EXT_SOURCE_PRED_1  \\\n",
       "0                                        -567.000000                0.184694   \n",
       "1                                               -inf                0.652030   \n",
       "2                                               -inf                0.550152   \n",
       "3                                               -inf                0.646242   \n",
       "4                                               -inf                0.532783   \n",
       "\n",
       "   EXT_SOURCE_PRED_2  EXT_SOURCE_PRED_3  \n",
       "0           0.434859           0.417202  \n",
       "1           0.603857           0.520355  \n",
       "2           0.505275           0.542312  \n",
       "3           0.502573           0.576674  \n",
       "4           0.496964           0.564171  \n",
       "\n",
       "[5 rows x 290 columns]"
      ]
     },
     "execution_count": 42,
     "metadata": {},
     "output_type": "execute_result"
    }
   ],
   "source": [
    "train.head()"
   ]
  },
  {
   "cell_type": "code",
   "execution_count": null,
   "metadata": {},
   "outputs": [],
   "source": []
  }
 ],
 "metadata": {
  "kernelspec": {
   "display_name": "Python 3",
   "language": "python",
   "name": "python3"
  },
  "language_info": {
   "codemirror_mode": {
    "name": "ipython",
    "version": 3
   },
   "file_extension": ".py",
   "mimetype": "text/x-python",
   "name": "python",
   "nbconvert_exporter": "python",
   "pygments_lexer": "ipython3",
   "version": "3.6.5"
  },
  "varInspector": {
   "cols": {
    "lenName": 16,
    "lenType": 16,
    "lenVar": 40
   },
   "kernels_config": {
    "python": {
     "delete_cmd_postfix": "",
     "delete_cmd_prefix": "del ",
     "library": "var_list.py",
     "varRefreshCmd": "print(var_dic_list())"
    },
    "r": {
     "delete_cmd_postfix": ") ",
     "delete_cmd_prefix": "rm(",
     "library": "var_list.r",
     "varRefreshCmd": "cat(var_dic_list()) "
    }
   },
   "types_to_exclude": [
    "module",
    "function",
    "builtin_function_or_method",
    "instance",
    "_Feature"
   ],
   "window_display": false
  }
 },
 "nbformat": 4,
 "nbformat_minor": 2
}
