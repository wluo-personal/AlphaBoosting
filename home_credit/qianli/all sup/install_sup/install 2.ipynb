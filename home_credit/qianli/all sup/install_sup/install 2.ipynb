{
 "cells": [
  {
   "cell_type": "code",
   "execution_count": 1,
   "metadata": {
    "ExecuteTime": {
     "end_time": "2018-07-02T18:09:22.332286Z",
     "start_time": "2018-07-02T18:09:21.795505Z"
    }
   },
   "outputs": [],
   "source": [
    "import os\n",
    "import numpy as np\n",
    "import pandas as pd\n",
    "import gc\n",
    "import time\n",
    "from contextlib import contextmanager\n",
    "from lightgbm import LGBMClassifier\n",
    "from sklearn.metrics import roc_auc_score, roc_curve\n",
    "from sklearn.model_selection import KFold, StratifiedKFold\n",
    "import matplotlib.pyplot as plt\n",
    "import seaborn as sns\n",
    "import warnings\n",
    "PATH = '/home/kai/data/kaggle/homecredit/'"
   ]
  },
  {
   "cell_type": "code",
   "execution_count": 4,
   "metadata": {
    "ExecuteTime": {
     "end_time": "2018-07-02T18:10:51.168705Z",
     "start_time": "2018-07-02T18:10:37.467923Z"
    }
   },
   "outputs": [
    {
     "name": "stderr",
     "output_type": "stream",
     "text": [
      "/home/kai/anaconda3/lib/python3.6/site-packages/ipykernel_launcher.py:1: FutureWarning: Sorting because non-concatenation axis is not aligned. A future version\n",
      "of pandas will change to not sort by default.\n",
      "\n",
      "To accept the future behavior, pass 'sort=True'.\n",
      "\n",
      "To retain the current behavior and silence the warning, pass sort=False\n",
      "\n",
      "  \"\"\"Entry point for launching an IPython kernel.\n"
     ]
    }
   ],
   "source": [
    "df = pd.concat([train,test], axis = 0)"
   ]
  },
  {
   "cell_type": "code",
   "execution_count": 5,
   "metadata": {
    "ExecuteTime": {
     "end_time": "2018-07-02T18:11:09.954225Z",
     "start_time": "2018-07-02T18:10:51.598414Z"
    }
   },
   "outputs": [],
   "source": [
    "train=pd.read_pickle(PATH + 'inter/train_base.pkl')\n",
    "test=pd.read_pickle(PATH + 'inter/test_base.pkl')\n",
    "def ratio_name(col1, col2): return col1 + '_divide_' + col2\n",
    "def ratio(df, col1, col2): return df[col1] / df[col2]\n",
    "install_amt = [col for col in df.columns if 'AMT' in col and 'install' in col and 'divide' not in col]\n",
    "install_day = [col for col in df. columns if 'install' in col and 'DAY' in col]\n"
   ]
  },
  {
   "cell_type": "code",
   "execution_count": 6,
   "metadata": {
    "ExecuteTime": {
     "end_time": "2018-07-02T18:11:10.316232Z",
     "start_time": "2018-07-02T18:11:10.311096Z"
    }
   },
   "outputs": [
    {
     "data": {
      "text/plain": [
       "['install_AMT_INSTALMENT_minus_AMT_PAYMENT_divide_DAYS_INSTALMENT_max',\n",
       " 'install_AMT_INSTALMENT_minus_AMT_PAYMENT_divide_DAYS_INSTALMENT_mean',\n",
       " 'install_AMT_INSTALMENT_minus_AMT_PAYMENT_divide_DAYS_INSTALMENT_median',\n",
       " 'install_AMT_INSTALMENT_minus_AMT_PAYMENT_divide_DAYS_INSTALMENT_min',\n",
       " 'install_AMT_INSTALMENT_minus_AMT_PAYMENT_divide_DAYS_INSTALMENT_std',\n",
       " 'install_AMT_INSTALMENT_minus_AMT_PAYMENT_divide_DAYS_INSTALMENT_sum',\n",
       " 'install_DAYS_ENTRY_PAYMENT_max',\n",
       " 'install_DAYS_ENTRY_PAYMENT_mean',\n",
       " 'install_DAYS_ENTRY_PAYMENT_median',\n",
       " 'install_DAYS_ENTRY_PAYMENT_min',\n",
       " 'install_DAYS_ENTRY_PAYMENT_minus_DAYS_INSTALMENT_divide_AMT_INSTALMENT_minus_AMT_PAYMENT_max',\n",
       " 'install_DAYS_ENTRY_PAYMENT_minus_DAYS_INSTALMENT_divide_AMT_INSTALMENT_minus_AMT_PAYMENT_mean',\n",
       " 'install_DAYS_ENTRY_PAYMENT_minus_DAYS_INSTALMENT_divide_AMT_INSTALMENT_minus_AMT_PAYMENT_median',\n",
       " 'install_DAYS_ENTRY_PAYMENT_minus_DAYS_INSTALMENT_divide_AMT_INSTALMENT_minus_AMT_PAYMENT_min',\n",
       " 'install_DAYS_ENTRY_PAYMENT_minus_DAYS_INSTALMENT_divide_AMT_INSTALMENT_minus_AMT_PAYMENT_std',\n",
       " 'install_DAYS_ENTRY_PAYMENT_minus_DAYS_INSTALMENT_divide_AMT_INSTALMENT_minus_AMT_PAYMENT_sum',\n",
       " 'install_DAYS_ENTRY_PAYMENT_minus_DAYS_INSTALMENT_divide_DAYS_INSTALMENT_max',\n",
       " 'install_DAYS_ENTRY_PAYMENT_minus_DAYS_INSTALMENT_divide_DAYS_INSTALMENT_mean',\n",
       " 'install_DAYS_ENTRY_PAYMENT_minus_DAYS_INSTALMENT_divide_DAYS_INSTALMENT_median',\n",
       " 'install_DAYS_ENTRY_PAYMENT_minus_DAYS_INSTALMENT_divide_DAYS_INSTALMENT_min',\n",
       " 'install_DAYS_ENTRY_PAYMENT_minus_DAYS_INSTALMENT_divide_DAYS_INSTALMENT_std',\n",
       " 'install_DAYS_ENTRY_PAYMENT_minus_DAYS_INSTALMENT_divide_DAYS_INSTALMENT_sum',\n",
       " 'install_DAYS_ENTRY_PAYMENT_minus_DAYS_INSTALMENT_max',\n",
       " 'install_DAYS_ENTRY_PAYMENT_minus_DAYS_INSTALMENT_mean',\n",
       " 'install_DAYS_ENTRY_PAYMENT_minus_DAYS_INSTALMENT_median',\n",
       " 'install_DAYS_ENTRY_PAYMENT_minus_DAYS_INSTALMENT_min',\n",
       " 'install_DAYS_ENTRY_PAYMENT_minus_DAYS_INSTALMENT_std',\n",
       " 'install_DAYS_ENTRY_PAYMENT_minus_DAYS_INSTALMENT_sum',\n",
       " 'install_DAYS_ENTRY_PAYMENT_std',\n",
       " 'install_DAYS_ENTRY_PAYMENT_sum',\n",
       " 'install_DAYS_INSTALMENT_max',\n",
       " 'install_DAYS_INSTALMENT_mean',\n",
       " 'install_DAYS_INSTALMENT_median',\n",
       " 'install_DAYS_INSTALMENT_min',\n",
       " 'install_DAYS_INSTALMENT_std',\n",
       " 'install_DAYS_INSTALMENT_sum',\n",
       " 'install_positivecount_SK_ID_CURR_AMT_INSTALMENT_minus_AMT_PAYMENT_divide_positivecount_SK_ID_CURR_DAYS_ENTRY_PAYMENT_minus_DAYS_INSTALMENT',\n",
       " 'install_positivecount_SK_ID_CURR_DAYS_ENTRY_PAYMENT_minus_DAYS_INSTALMENT',\n",
       " 'install_positivecount_SK_ID_CURR_DAYS_ENTRY_PAYMENT_minus_DAYS_INSTALMENT_divide_positivecount_SK_ID_CURR_DAYS_ENTRY_PAYMENT_minus_DAYS_INSTALMENT']"
      ]
     },
     "execution_count": 6,
     "metadata": {},
     "output_type": "execute_result"
    }
   ],
   "source": [
    "install_day"
   ]
  },
  {
   "cell_type": "code",
   "execution_count": null,
   "metadata": {},
   "outputs": [],
   "source": [
    "train_amt = ['AMT_CREDIT','AMT_ANNUITY']\n",
    "for i in train_amt:\n",
    "    for j in install_day:\n",
    "        df[ratio_name(i,j)] = ratio(df,i,j)\n",
    "        \n",
    "train = df[df['TARGET'].notnull()]\n",
    "test = df[df['TARGET'].isnull()]\n",
    "test.drop('TARGET', inplace = True, axis = 1)\n",
    "print(train.shape, test.shape)\n",
    "\n",
    "train.to_pickle(PATH +'test/train_install2.pkl')\n",
    "test.to_pickle(PATH +'test/test_install2.pkl')"
   ]
  }
 ],
 "metadata": {
  "kernelspec": {
   "display_name": "Python 3",
   "language": "python",
   "name": "python3"
  },
  "language_info": {
   "codemirror_mode": {
    "name": "ipython",
    "version": 3
   },
   "file_extension": ".py",
   "mimetype": "text/x-python",
   "name": "python",
   "nbconvert_exporter": "python",
   "pygments_lexer": "ipython3",
   "version": "3.6.5"
  },
  "varInspector": {
   "cols": {
    "lenName": 16,
    "lenType": 16,
    "lenVar": 40
   },
   "kernels_config": {
    "python": {
     "delete_cmd_postfix": "",
     "delete_cmd_prefix": "del ",
     "library": "var_list.py",
     "varRefreshCmd": "print(var_dic_list())"
    },
    "r": {
     "delete_cmd_postfix": ") ",
     "delete_cmd_prefix": "rm(",
     "library": "var_list.r",
     "varRefreshCmd": "cat(var_dic_list()) "
    }
   },
   "types_to_exclude": [
    "module",
    "function",
    "builtin_function_or_method",
    "instance",
    "_Feature"
   ],
   "window_display": false
  }
 },
 "nbformat": 4,
 "nbformat_minor": 2
}
