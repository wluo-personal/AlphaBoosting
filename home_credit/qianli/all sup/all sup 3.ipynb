{
 "cells": [
  {
   "cell_type": "markdown",
   "metadata": {},
   "source": [
    "further:\n",
    "    0.0 add [goods price]\n",
    "    1. one-hot encoding for reliable cate features?\n",
    "    1.5. () divide [days-employed, DAYS_BIRTH]\n",
    "    2. prev ratios\n",
    "    3. time-related scores, and time frame\n",
    "    "
   ]
  },
  {
   "cell_type": "code",
   "execution_count": 1,
   "metadata": {
    "ExecuteTime": {
     "end_time": "2018-07-02T19:09:53.985993Z",
     "start_time": "2018-07-02T19:09:52.670117Z"
    }
   },
   "outputs": [],
   "source": [
    "import os\n",
    "import numpy as np\n",
    "import pandas as pd\n",
    "import gc\n",
    "import time\n",
    "from contextlib import contextmanager\n",
    "from lightgbm import LGBMClassifier\n",
    "from sklearn.metrics import roc_auc_score, roc_curve\n",
    "from sklearn.model_selection import KFold, StratifiedKFold\n",
    "import matplotlib.pyplot as plt\n",
    "import seaborn as sns\n",
    "import warnings\n",
    "PATH = '/home/kai/data/kaggle/homecredit/'"
   ]
  },
  {
   "cell_type": "code",
   "execution_count": 2,
   "metadata": {
    "ExecuteTime": {
     "end_time": "2018-07-02T19:10:54.350208Z",
     "start_time": "2018-07-02T19:10:17.027614Z"
    }
   },
   "outputs": [
    {
     "name": "stderr",
     "output_type": "stream",
     "text": [
      "/home/kai/anaconda3/lib/python3.6/site-packages/ipykernel_launcher.py:3: FutureWarning: Sorting because non-concatenation axis is not aligned. A future version\n",
      "of pandas will change to not sort by default.\n",
      "\n",
      "To accept the future behavior, pass 'sort=True'.\n",
      "\n",
      "To retain the current behavior and silence the warning, pass sort=False\n",
      "\n",
      "  This is separate from the ipykernel package so we can avoid doing imports until\n"
     ]
    },
    {
     "name": "stdout",
     "output_type": "stream",
     "text": [
      "(356255, 2374)\n"
     ]
    }
   ],
   "source": [
    "train=pd.read_pickle(PATH + 'inter/train_base.pkl')\n",
    "test=pd.read_pickle(PATH + 'inter/test_base.pkl')\n",
    "df = pd.concat([train,test], axis = 0)\n",
    "print(df.shape)"
   ]
  },
  {
   "cell_type": "code",
   "execution_count": 12,
   "metadata": {
    "ExecuteTime": {
     "end_time": "2018-07-02T19:33:54.564678Z",
     "start_time": "2018-07-02T19:33:54.558552Z"
    }
   },
   "outputs": [],
   "source": [
    "def minus_name(col1, col2): return col1 + '_minus_' + col2\n",
    "def minus(df, col1, col2): return df[col1] - df[col2]\n",
    "\n",
    "def ratio_name(col1, col2): return col1 + '_divide_' + col2\n",
    "def ratio(df, col1, col2): return df[col1] / df[col2]\n",
    "\n",
    "def multiply_name(col1, col2): return col1 + '_times_' + col2\n",
    "def multiply(df, col1, col2): return df[col1] * df[col2]"
   ]
  },
  {
   "cell_type": "code",
   "execution_count": 3,
   "metadata": {
    "ExecuteTime": {
     "end_time": "2018-07-02T19:11:39.222338Z",
     "start_time": "2018-07-02T19:11:39.218523Z"
    }
   },
   "outputs": [],
   "source": [
    "train_amt = ['AMT_CREDIT','AMT_ANNUITY','AMT_GOODS_PRICE']\n",
    "divide_col = ['AMT_CREDIT_divide_AMT_ANNUITY','AMT_CREDIT_divide_AMT_GOODS_PRICE','AMT_ANNUITY_divide_DAYS_EMPLOYED','AMT_ANNUITY_divide_AMT_GOODS_PRICE']\n",
    "cat_col = ['DAYS_BIRTH','DAYS_EMPLOYED']\n",
    "train_col = train_amt + divide_col + cat_col"
   ]
  },
  {
   "cell_type": "code",
   "execution_count": 13,
   "metadata": {
    "ExecuteTime": {
     "end_time": "2018-07-02T19:34:00.646175Z",
     "start_time": "2018-07-02T19:33:56.339365Z"
    }
   },
   "outputs": [
    {
     "name": "stdout",
     "output_type": "stream",
     "text": [
      "(356255, 2545)\n",
      "(356255, 2662)\n",
      "(356255, 2740)\n"
     ]
    }
   ],
   "source": [
    "# install\n",
    "install_amt = [col for col in df.columns if 'AMT' in col and 'install' in col and 'divide' not in col]\n",
    "install_day = [col for col in df. columns if 'install' in col and 'DAY' in col and col not in install_amt]\n",
    "install_sup = install_amt + install_day\n",
    "\n",
    "for i in install_amt:\n",
    "    for j in train_col:\n",
    "        df[ratio_name(i,j)] = ratio(df,i,j)\n",
    "print(df.shape)\n",
    "for i in install_day:\n",
    "    for j in train_amt:\n",
    "        df[ratio_name(i,j)] = ratio(df,i,j)\n",
    "print(df.shape)\n",
    "for i in install_sup:\n",
    "    for j in cat_col:\n",
    "        df[ratio_name(i,j)] = ratio(df,i,j)\n",
    "print(df.shape)"
   ]
  },
  {
   "cell_type": "code",
   "execution_count": 14,
   "metadata": {
    "ExecuteTime": {
     "end_time": "2018-07-02T19:35:21.785224Z",
     "start_time": "2018-07-02T19:35:12.355445Z"
    }
   },
   "outputs": [],
   "source": [
    "# bureau\n",
    "bureau_amt_col1 = [col for col in df.columns if 'AMT' in col and 'bureau' in col and 'mean' in col and 'PROLONG' not in col]\n",
    "bureau_amt_col2 = [col for col in df.columns if 'AMT' in col and 'bureau' in col and 'min' not in col and 'PROLONG' not in col and 'divide' not in col and 'sum' not in col and 'std' not in col]\n",
    "bureau_sup = bureau_amt_col1 +bureau_amt_col2\n",
    "for i in bureau_sup:\n",
    "    for j in train_col:\n",
    "        df[ratio_name(i,j)] = ratio(df,i,j)"
   ]
  },
  {
   "cell_type": "code",
   "execution_count": 5,
   "metadata": {
    "ExecuteTime": {
     "end_time": "2018-07-02T19:17:41.923164Z",
     "start_time": "2018-07-02T19:17:30.482115Z"
    }
   },
   "outputs": [],
   "source": [
    "# prev\n",
    "train_ori = pd.read_csv(PATH + 'application_train.csv')\n",
    "prev_ori = pd.read_csv(PATH + 'previous_application.csv')\n",
    "same_cols = [col for col in train_ori.columns if col in prev_ori]"
   ]
  },
  {
   "cell_type": "code",
   "execution_count": 6,
   "metadata": {
    "ExecuteTime": {
     "end_time": "2018-07-02T19:17:42.837230Z",
     "start_time": "2018-07-02T19:17:42.832828Z"
    }
   },
   "outputs": [
    {
     "data": {
      "text/plain": [
       "['SK_ID_CURR',\n",
       " 'NAME_CONTRACT_TYPE',\n",
       " 'AMT_CREDIT',\n",
       " 'AMT_ANNUITY',\n",
       " 'AMT_GOODS_PRICE',\n",
       " 'NAME_TYPE_SUITE',\n",
       " 'WEEKDAY_APPR_PROCESS_START',\n",
       " 'HOUR_APPR_PROCESS_START']"
      ]
     },
     "execution_count": 6,
     "metadata": {},
     "output_type": "execute_result"
    }
   ],
   "source": [
    "same_cols"
   ]
  },
  {
   "cell_type": "code",
   "execution_count": 9,
   "metadata": {
    "ExecuteTime": {
     "end_time": "2018-07-02T19:21:04.874620Z",
     "start_time": "2018-07-02T19:21:04.864162Z"
    }
   },
   "outputs": [],
   "source": [
    "prev_cols = []\n",
    "\n",
    "for i in same_cols:\n",
    "    prev_cols.extend([j for j in df.columns if i in j and 'mean' in j and 'prev' in j])"
   ]
  },
  {
   "cell_type": "code",
   "execution_count": 15,
   "metadata": {
    "ExecuteTime": {
     "end_time": "2018-07-02T19:36:06.331712Z",
     "start_time": "2018-07-02T19:35:53.281211Z"
    },
    "scrolled": true
   },
   "outputs": [
    {
     "name": "stdout",
     "output_type": "stream",
     "text": [
      "(356255, 3946)\n"
     ]
    }
   ],
   "source": [
    "for i in prev_cols:\n",
    "    for j in train_col:\n",
    "        df[ratio_name(i,j)] = ratio(df,i,j)\n",
    "print(df.shape)"
   ]
  },
  {
   "cell_type": "code",
   "execution_count": null,
   "metadata": {},
   "outputs": [],
   "source": [
    "# [‎7/‎2/‎2018 3:12 PM]  Haoyan Cui:  \n",
    "# def feature_in_time_window(df, gp_col, col, func, add_fun=None, n=None, time_col=None):\n",
    "#     tmp = None\n",
    "#     _df = df.copy()\n",
    "#     if n is not None:\n",
    "#         _df = _df[_df[time_col] >= n]\n",
    "#     if add_fun is None:\n",
    "#         tmp = func(_df[_df[time_col] >= n], gp_col, col)\n",
    "#     else:\n",
    "#         tmp = func(_df[_df[time_col] >= n], gp_col, col, add_fun)\n",
    "#     columns = [str(abs(n))+'_'+x for x in set(tmp.columns) - set(gp_col)]\n",
    "#     tmp.columns = columns\n",
    "#     return tmp \n",
    "# func can be count, numerical, one_hot\n",
    " \n"
   ]
  },
  {
   "cell_type": "code",
   "execution_count": 16,
   "metadata": {
    "ExecuteTime": {
     "end_time": "2018-07-02T19:36:25.762402Z",
     "start_time": "2018-07-02T19:36:18.669128Z"
    }
   },
   "outputs": [
    {
     "name": "stdout",
     "output_type": "stream",
     "text": [
      "(307511, 3946) (48744, 3945)\n"
     ]
    },
    {
     "name": "stderr",
     "output_type": "stream",
     "text": [
      "/home/kai/anaconda3/lib/python3.6/site-packages/pandas/core/frame.py:3694: SettingWithCopyWarning: \n",
      "A value is trying to be set on a copy of a slice from a DataFrame\n",
      "\n",
      "See the caveats in the documentation: http://pandas.pydata.org/pandas-docs/stable/indexing.html#indexing-view-versus-copy\n",
      "  errors=errors)\n"
     ]
    }
   ],
   "source": [
    "train = df[df['TARGET'].notnull()]\n",
    "test = df[df['TARGET'].isnull()]\n",
    "test.drop('TARGET', inplace = True, axis = 1)\n",
    "print(train.shape, test.shape)"
   ]
  },
  {
   "cell_type": "code",
   "execution_count": null,
   "metadata": {
    "ExecuteTime": {
     "start_time": "2018-07-02T19:36:18.764Z"
    }
   },
   "outputs": [
    {
     "name": "stdout",
     "output_type": "stream",
     "text": [
      "begin cv\n"
     ]
    },
    {
     "name": "stderr",
     "output_type": "stream",
     "text": [
      "/home/kai/anaconda3/lib/python3.6/site-packages/lightgbm/engine.py:390: UserWarning: Found `num_iteration` in params. Will use it instead of argument\n",
      "  warnings.warn(\"Found `{}` in params. Will use it instead of argument\".format(alias))\n",
      "/home/kai/anaconda3/lib/python3.6/site-packages/lightgbm/basic.py:1027: UserWarning: Using categorical_feature in Dataset.\n",
      "  warnings.warn('Using categorical_feature in Dataset.')\n"
     ]
    },
    {
     "name": "stdout",
     "output_type": "stream",
     "text": [
      "[100]\tcv_agg's auc: 0.780524 + 0.00302028\n",
      "[200]\tcv_agg's auc: 0.789798 + 0.00267691\n",
      "[300]\tcv_agg's auc: 0.79263 + 0.00240452\n",
      "[400]\tcv_agg's auc: 0.793662 + 0.00238787\n",
      "[500]\tcv_agg's auc: 0.79388 + 0.0023581\n",
      "[600]\tcv_agg's auc: 0.793698 + 0.00228649\n",
      "Optimum boost rounds = 483\n",
      "Best CV result = 0.7939317310483928\n"
     ]
    },
    {
     "name": "stderr",
     "output_type": "stream",
     "text": [
      "/home/kai/anaconda3/lib/python3.6/site-packages/lightgbm/basic.py:1027: UserWarning: Using categorical_feature in Dataset.\n",
      "  warnings.warn('Using categorical_feature in Dataset.')\n"
     ]
    }
   ],
   "source": [
    "warnings.simplefilter(action='ignore', category=FutureWarning)\n",
    "PATH = '/home/kai/data/kaggle/homecredit/'\n",
    "print('begin cv')\n",
    "target = train['TARGET']\n",
    "test_df = test.copy()\n",
    "ignore_cols = ['ORGANIZATION_TYPE', 'TARGET', 'SK_ID_CURR']\n",
    "features = [x for x in train.columns if x not in ignore_cols]\n",
    "train = train[features]\n",
    "test = test[features]\n",
    "\n",
    "from sklearn.model_selection import StratifiedKFold\n",
    "from lightgbm import LGBMClassifier\n",
    "from sklearn.metrics import roc_auc_score\n",
    "import lightgbm as lgbm\n",
    "\n",
    "lgbm_train = lgbm.Dataset(data=train,\n",
    "                          label=target,\n",
    "\n",
    "                          categorical_feature=[],#categorical_feats,\n",
    "                          free_raw_data=False)\n",
    "\n",
    "# lgbm_params = {'task': 'train', 'boosting_type': 'gbdt', 'objective': 'binary', 'metric': 'auc', \n",
    "#           'learning_rate': 0.01, 'num_leaves': 48, 'num_iteration': 4000, 'verbose': 0 ,\n",
    "#           'colsample_bytree':.8, 'subsample':.9, 'max_depth':7, 'reg_alpha':.1, 'reg_lambda':.1, \n",
    "#           'min_split_gain':.01, 'min_child_weight':1,'num_threads': 12,'feature_fraction': 0.2,\n",
    "#               'scale_pos_weight':1}\n",
    "lgbm_params = {\n",
    "    'task': 'train',\n",
    "    'boosting_type': 'gbdt',\n",
    "    'objective': 'binary',\n",
    "    'metric': 'auc',\n",
    "    'learning_rate': 0.05,\n",
    "    'num_iteration': 4000,\n",
    "    'num_threads': 8,\n",
    "\n",
    "    'num_leaves': int(round(44.368535336628419)),\n",
    "    'feature_fraction': 0.28231763168020257,\n",
    "    'bagging_fraction': 0.94901525271474951,\n",
    "    'max_depth': int(round(8.0430115561596267)),\n",
    "    'lambda_l1': 0.30680079516647751,\n",
    "    'lambda_l2': 0.079128660903201031,\n",
    "    'min_split_gain': 0.054005067457890979,\n",
    "    'min_child_weight': 98.172643147364937}\n",
    "\n",
    "\n",
    "cv_results = lgbm.cv(train_set=lgbm_train,\n",
    "                     params=lgbm_params,\n",
    "                     nfold=5,\n",
    "                     early_stopping_rounds=150,\n",
    "                     verbose_eval=100,\n",
    "                     metrics=['auc'])\n",
    "\n",
    "optimum_boost_rounds = np.argmax(cv_results['auc-mean'])\n",
    "print('Optimum boost rounds = {}'.format(optimum_boost_rounds))\n",
    "print('Best CV result = {}'.format(np.max(cv_results['auc-mean'])))\n",
    "\n",
    "clf = lgbm.train(train_set=lgbm_train,\n",
    "                 params=lgbm_params,\n",
    "                 num_boost_round=optimum_boost_rounds,\n",
    "                verbose_eval=100)\n",
    "\n",
    "\"\"\" Predict on test set and create submission \"\"\"\n",
    "y_pred = clf.predict(test)\n",
    "out_df = pd.DataFrame({'SK_ID_CURR': test_df['SK_ID_CURR'], 'TARGET': y_pred})\n",
    "#     small_len = out_df[out_df['TARGET']< threshold1]\n",
    "#     large_len = out_df[out_df['TARGET']> threshold2]\n",
    "#     print('length of small and large,',len(small_len),len(large_len))\n",
    "print((out_df['TARGET']>0.5).sum(),'more than half')"
   ]
  },
  {
   "cell_type": "code",
   "execution_count": null,
   "metadata": {},
   "outputs": [],
   "source": []
  },
  {
   "cell_type": "code",
   "execution_count": null,
   "metadata": {},
   "outputs": [],
   "source": []
  }
 ],
 "metadata": {
  "kernelspec": {
   "display_name": "Python 3",
   "language": "python",
   "name": "python3"
  },
  "language_info": {
   "codemirror_mode": {
    "name": "ipython",
    "version": 3
   },
   "file_extension": ".py",
   "mimetype": "text/x-python",
   "name": "python",
   "nbconvert_exporter": "python",
   "pygments_lexer": "ipython3",
   "version": "3.6.5"
  },
  "varInspector": {
   "cols": {
    "lenName": 16,
    "lenType": 16,
    "lenVar": 40
   },
   "kernels_config": {
    "python": {
     "delete_cmd_postfix": "",
     "delete_cmd_prefix": "del ",
     "library": "var_list.py",
     "varRefreshCmd": "print(var_dic_list())"
    },
    "r": {
     "delete_cmd_postfix": ") ",
     "delete_cmd_prefix": "rm(",
     "library": "var_list.r",
     "varRefreshCmd": "cat(var_dic_list()) "
    }
   },
   "types_to_exclude": [
    "module",
    "function",
    "builtin_function_or_method",
    "instance",
    "_Feature"
   ],
   "window_display": false
  }
 },
 "nbformat": 4,
 "nbformat_minor": 2
}
