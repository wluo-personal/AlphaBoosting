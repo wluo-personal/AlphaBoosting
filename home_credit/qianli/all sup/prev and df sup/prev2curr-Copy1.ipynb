{
 "cells": [
  {
   "cell_type": "code",
   "execution_count": 1,
   "metadata": {
    "ExecuteTime": {
     "end_time": "2018-06-29T15:21:49.973501Z",
     "start_time": "2018-06-29T15:21:40.861973Z"
    },
    "scrolled": false
   },
   "outputs": [],
   "source": [
    "import pandas as pd\n",
    "\n",
    "PATH = '/home/kai/data/kaggle/homecredit/'\n",
    "prev = pd.read_csv(PATH + 'previous_application.csv')\n",
    "train = pd.read_csv(PATH + 'application_train.csv')\n",
    "test = pd.read_csv(PATH + 'application_test.csv')\n",
    "\n",
    "# prev.head(2)"
   ]
  },
  {
   "cell_type": "code",
   "execution_count": 2,
   "metadata": {
    "ExecuteTime": {
     "end_time": "2018-06-29T15:21:49.985786Z",
     "start_time": "2018-06-29T15:21:49.975085Z"
    }
   },
   "outputs": [
    {
     "data": {
      "text/plain": [
       "'done'"
      ]
     },
     "execution_count": 2,
     "metadata": {},
     "output_type": "execute_result"
    }
   ],
   "source": [
    "def minus_name(col1, col2): return col1 + '_minus_' + col2\n",
    "def minus(df, col1, col2): return df[col1] - df[col2]\n",
    "\n",
    "def ratio_name(col1, col2): return col1 + '_divide_' + col2\n",
    "def ratio(df, col1, col2): return df[col1] / (df[col2] + 0.001)\n",
    "\n",
    "def positive_count(df, gp_col, col):\n",
    "    group = (df[col] > 0).astype('int8')\n",
    "    group = pd.concat([df[gp_col], group], axis=1).groupby(gp_col)[[col]].sum().reset_index().rename(index=str, columns={col: 'positivecount_'+'_'.join([gp_col, col])})\n",
    "    return group.astype({gp_col: df[gp_col].dtype})\n",
    "\n",
    "def count(df, gp_col, col):\n",
    "    group = df[[gp_col,col]].groupby(gp_col)[[col]].count().reset_index().rename(index=str, columns={col:'count_'+gp_col})\n",
    "    return group.astype({gp_col: df[gp_col].dtype})\n",
    "\n",
    "def numerical(df, gp_col, col, agg_fun):\n",
    "    _df = df.groupby(gp_col)[[col]].agg(agg_fun)\n",
    "    \n",
    "    columns = []\n",
    "    for x in _df.columns.levels[0]:\n",
    "        for y in _df.columns.levels[1]:\n",
    "            columns.append('_'.join([x, y]))\n",
    "    _df.columns = columns\n",
    "    return _df.reset_index().astype({gp_col: df[gp_col].dtype})\n",
    "\n",
    "def one_hot(df, gp_col, col):\n",
    "    return pd.concat([df[gp_col], pd.get_dummies(df[col], prefix='onehot_' + col, dummy_na = True)], axis=1).groupby(gp_col).sum().reset_index().astype({gp_col: df[gp_col].dtype})\n",
    "\n",
    "'done'"
   ]
  },
  {
   "cell_type": "code",
   "execution_count": 3,
   "metadata": {
    "ExecuteTime": {
     "end_time": "2018-06-29T15:21:50.234721Z",
     "start_time": "2018-06-29T15:21:49.986953Z"
    }
   },
   "outputs": [],
   "source": [
    "ignore = ['SELLERPLACE_AREA', 'PRODUCT_COMBINATION']\n",
    "not_ignore = [x for x in prev.columns if x not in ignore]\n",
    "prev = prev[not_ignore]"
   ]
  },
  {
   "cell_type": "code",
   "execution_count": 4,
   "metadata": {
    "ExecuteTime": {
     "end_time": "2018-06-29T15:21:50.243686Z",
     "start_time": "2018-06-29T15:21:50.236799Z"
    }
   },
   "outputs": [
    {
     "data": {
      "text/plain": [
       "(1670214, 35)"
      ]
     },
     "execution_count": 4,
     "metadata": {},
     "output_type": "execute_result"
    }
   ],
   "source": [
    "prev.shape"
   ]
  },
  {
   "cell_type": "code",
   "execution_count": 5,
   "metadata": {
    "ExecuteTime": {
     "end_time": "2018-06-29T15:21:50.252598Z",
     "start_time": "2018-06-29T15:21:50.245317Z"
    }
   },
   "outputs": [],
   "source": [
    "merged_col = 'SK_ID_CURR'\n",
    "df = pd.concat([train['SK_ID_CURR'], test['SK_ID_CURR']], ignore_index=True).to_frame()\n",
    "\n",
    "list_1 = ['AMT_ANNUITY',\n",
    "       'AMT_APPLICATION', 'AMT_CREDIT', 'AMT_DOWN_PAYMENT', 'AMT_GOODS_PRICE']\n",
    "list_2 = ['RATE_DOWN_PAYMENT']\n",
    "list_interest  = ['RATE_INTEREST_PRIMARY','RATE_INTEREST_PRIVILEGED']\n",
    "list_3 = ['CNT_PAYMENT']\n",
    "list_4 = ['DAYS_FIRST_DRAWING', 'DAYS_FIRST_DUE', 'DAYS_LAST_DUE_1ST_VERSION',\n",
    "       'DAYS_LAST_DUE', 'DAYS_TERMINATION']"
   ]
  },
  {
   "cell_type": "code",
   "execution_count": 6,
   "metadata": {
    "ExecuteTime": {
     "end_time": "2018-06-29T15:21:50.307543Z",
     "start_time": "2018-06-29T15:21:50.254490Z"
    }
   },
   "outputs": [
    {
     "name": "stdout",
     "output_type": "stream",
     "text": [
      "DAYS_FIRST_DRAWING_minus_DAYS_FIRST_DUE\n",
      "DAYS_FIRST_DRAWING_minus_DAYS_LAST_DUE_1ST_VERSION\n",
      "DAYS_FIRST_DRAWING_minus_DAYS_LAST_DUE\n",
      "DAYS_FIRST_DRAWING_minus_DAYS_TERMINATION\n",
      "DAYS_FIRST_DUE_minus_DAYS_LAST_DUE_1ST_VERSION\n",
      "DAYS_FIRST_DUE_minus_DAYS_LAST_DUE\n",
      "DAYS_FIRST_DUE_minus_DAYS_TERMINATION\n",
      "DAYS_LAST_DUE_1ST_VERSION_minus_DAYS_LAST_DUE\n",
      "DAYS_LAST_DUE_1ST_VERSION_minus_DAYS_TERMINATION\n",
      "DAYS_LAST_DUE_minus_DAYS_TERMINATION\n",
      "['DAYS_FIRST_DRAWING_minus_DAYS_FIRST_DUE', 'DAYS_FIRST_DRAWING_minus_DAYS_LAST_DUE_1ST_VERSION', 'DAYS_FIRST_DRAWING_minus_DAYS_LAST_DUE', 'DAYS_FIRST_DRAWING_minus_DAYS_TERMINATION', 'DAYS_FIRST_DUE_minus_DAYS_LAST_DUE_1ST_VERSION', 'DAYS_FIRST_DUE_minus_DAYS_LAST_DUE', 'DAYS_FIRST_DUE_minus_DAYS_TERMINATION', 'DAYS_LAST_DUE_1ST_VERSION_minus_DAYS_LAST_DUE', 'DAYS_LAST_DUE_1ST_VERSION_minus_DAYS_TERMINATION', 'DAYS_LAST_DUE_minus_DAYS_TERMINATION']\n",
      "prev (1670214, 45)\n",
      "df (356255, 1)\n"
     ]
    }
   ],
   "source": [
    "minus_list = []\n",
    "for i in list_4:\n",
    "    for j in list_4:\n",
    "        if j != i and minus_name(j,i) not in prev.columns:\n",
    "            prev[(minus_name(i,j))] = minus(prev,i,j)\n",
    "            print(minus_name(i,j))\n",
    "            minus_list.append(minus_name(i,j))\n",
    "print(minus_list)\n",
    "print('prev',prev.shape)\n",
    "print('df', df.shape)\n",
    "\n"
   ]
  },
  {
   "cell_type": "code",
   "execution_count": 7,
   "metadata": {
    "ExecuteTime": {
     "end_time": "2018-06-29T15:21:50.913689Z",
     "start_time": "2018-06-29T15:21:50.309064Z"
    },
    "collapsed": true
   },
   "outputs": [
    {
     "name": "stdout",
     "output_type": "stream",
     "text": [
      "prev (1670214, 135)\n",
      "df (356255, 1)\n"
     ]
    }
   ],
   "source": [
    "day_list = ['DAYS_FIRST_DRAWING_minus_DAYS_FIRST_DUE','DAYS_FIRST_DRAWING_minus_DAYS_LAST_DUE_1ST_VERSION']\n",
    "numerator = [x for x in prev.columns if 'AMT' in x]\n",
    "denominator = [x for x in prev.columns if 'DAYS' in x or 'AMT' in x] + day_list\n",
    "for x in numerator:\n",
    "    for y in denominator:\n",
    "        if (x != y) and (ratio_name(y, x) not in prev.columns):\n",
    "            prev[ratio_name(x, y)] = ratio(prev, x, y)\n",
    "print('prev',prev.shape)\n",
    "print('df', df.shape)"
   ]
  },
  {
   "cell_type": "code",
   "execution_count": 8,
   "metadata": {
    "ExecuteTime": {
     "end_time": "2018-06-29T15:21:50.930585Z",
     "start_time": "2018-06-29T15:21:50.915429Z"
    },
    "collapsed": true
   },
   "outputs": [
    {
     "name": "stdout",
     "output_type": "stream",
     "text": [
      "AMT_ANNUITY_divide_CNT_PAYMENT\n",
      "AMT_APPLICATION_divide_CNT_PAYMENT\n",
      "AMT_CREDIT_divide_CNT_PAYMENT\n",
      "AMT_DOWN_PAYMENT_divide_CNT_PAYMENT\n",
      "AMT_GOODS_PRICE_divide_CNT_PAYMENT\n",
      "prev (1670214, 140)\n",
      "df (356255, 1)\n"
     ]
    }
   ],
   "source": [
    "for i in list_1:\n",
    "    for j in list_3:\n",
    "        print(ratio_name(i,j))\n",
    "        prev[ratio_name(i,j)] = ratio(prev,i,j)\n",
    "        \n",
    "print('prev',prev.shape)\n",
    "print('df', df.shape)"
   ]
  },
  {
   "cell_type": "code",
   "execution_count": 9,
   "metadata": {
    "ExecuteTime": {
     "end_time": "2018-06-29T15:21:50.947859Z",
     "start_time": "2018-06-29T15:21:50.932317Z"
    },
    "collapsed": true
   },
   "outputs": [
    {
     "name": "stdout",
     "output_type": "stream",
     "text": [
      "AMT_ANNUITY_divide_RATE_DOWN_PAYMENT\n",
      "AMT_APPLICATION_divide_RATE_DOWN_PAYMENT\n",
      "AMT_CREDIT_divide_RATE_DOWN_PAYMENT\n",
      "AMT_DOWN_PAYMENT_divide_RATE_DOWN_PAYMENT\n",
      "AMT_GOODS_PRICE_divide_RATE_DOWN_PAYMENT\n",
      "prev (1670214, 145)\n",
      "df (356255, 1)\n"
     ]
    }
   ],
   "source": [
    "for i in list_2:\n",
    "    for j in list_1:\n",
    "        print(ratio_name(j,i))\n",
    "        prev[ratio_name(j,i)] = ratio(prev,j,i)\n",
    "print('prev',prev.shape)\n",
    "print('df', df.shape)"
   ]
  },
  {
   "cell_type": "code",
   "execution_count": 10,
   "metadata": {
    "ExecuteTime": {
     "end_time": "2018-06-29T15:21:52.173667Z",
     "start_time": "2018-06-29T15:21:50.949530Z"
    },
    "collapsed": true
   },
   "outputs": [
    {
     "name": "stdout",
     "output_type": "stream",
     "text": [
      "0    0\n",
      "1    1\n",
      "2    2\n",
      "3    3\n",
      "4    1\n",
      "Name: WEEKDAY_APPR_PROCESS_START, dtype: int64\n",
      "0    0\n",
      "1    0\n",
      "2    0\n",
      "3    0\n",
      "4    0\n",
      "Name: FLAG_LAST_APPL_PER_CONTRACT, dtype: int64\n",
      "0    0\n",
      "1    0\n",
      "2    0\n",
      "3    0\n",
      "4    0\n",
      "Name: NFLAG_LAST_APPL_IN_DAY, dtype: int64\n",
      "0    0\n",
      "1    1\n",
      "2    2\n",
      "3    0\n",
      "4    2\n",
      "Name: NAME_YIELD_GROUP, dtype: int64\n",
      "(1670214, 145)\n"
     ]
    }
   ],
   "source": [
    "import pandas as pd\n",
    "# Qianli : factorize\n",
    "# WEEKDAY_APPR_PROCESS_START\n",
    "factor_list = ['WEEKDAY_APPR_PROCESS_START','FLAG_LAST_APPL_PER_CONTRACT','NFLAG_LAST_APPL_IN_DAY','NAME_YIELD_GROUP']\n",
    "for col in factor_list:\n",
    "    prev[col], _ = pd.factorize(prev[col])\n",
    "    print(prev[col][:5])\n",
    "# one hot\n",
    "print(prev.shape)"
   ]
  },
  {
   "cell_type": "code",
   "execution_count": 11,
   "metadata": {
    "ExecuteTime": {
     "end_time": "2018-06-29T15:21:59.692633Z",
     "start_time": "2018-06-29T15:21:52.175100Z"
    },
    "collapsed": true
   },
   "outputs": [
    {
     "name": "stdout",
     "output_type": "stream",
     "text": [
      "deal\n",
      "NAME_CONTRACT_TYPE\n",
      "FLAG_LAST_APPL_PER_CONTRACT\n",
      "NAME_CONTRACT_STATUS\n",
      "NAME_PAYMENT_TYPE\n",
      "CODE_REJECT_REASON\n",
      "NAME_TYPE_SUITE\n",
      "NAME_CLIENT_TYPE\n",
      "NAME_PORTFOLIO\n",
      "NAME_PRODUCT_TYPE\n",
      "CHANNEL_TYPE\n",
      "NFLAG_INSURED_ON_APPROVAL\n",
      "NAME_SELLER_INDUSTRY\n",
      "NAME_YIELD_GROUP\n",
      "FLAG_NAME_CASH_LOAN_PURPOSE\n",
      "FLAG_NAME_GOODS_CATEGORY\n",
      "count\n",
      "onehot_NAME_CONTRACT_TYPE_Cash loans\n",
      "onehot_NAME_CONTRACT_TYPE_Consumer loans\n",
      "onehot_NAME_CONTRACT_TYPE_Revolving loans\n",
      "onehot_NAME_CONTRACT_TYPE_XNA\n",
      "onehot_NAME_CONTRACT_TYPE_nan\n",
      "onehot_FLAG_LAST_APPL_PER_CONTRACT_0.0\n",
      "onehot_FLAG_LAST_APPL_PER_CONTRACT_1.0\n",
      "onehot_FLAG_LAST_APPL_PER_CONTRACT_nan\n",
      "onehot_NAME_CONTRACT_STATUS_Approved\n",
      "onehot_NAME_CONTRACT_STATUS_Canceled\n",
      "onehot_NAME_CONTRACT_STATUS_Refused\n",
      "onehot_NAME_CONTRACT_STATUS_Unused offer\n",
      "onehot_NAME_CONTRACT_STATUS_nan\n",
      "onehot_NAME_PAYMENT_TYPE_Cash through the bank\n",
      "onehot_NAME_PAYMENT_TYPE_Cashless from the account of the employer\n",
      "onehot_NAME_PAYMENT_TYPE_Non-cash from your account\n",
      "onehot_NAME_PAYMENT_TYPE_XNA\n",
      "onehot_NAME_PAYMENT_TYPE_nan\n",
      "onehot_CODE_REJECT_REASON_CLIENT\n",
      "onehot_CODE_REJECT_REASON_HC\n",
      "onehot_CODE_REJECT_REASON_LIMIT\n",
      "onehot_CODE_REJECT_REASON_SCO\n",
      "onehot_CODE_REJECT_REASON_SCOFR\n",
      "onehot_CODE_REJECT_REASON_SYSTEM\n",
      "onehot_CODE_REJECT_REASON_VERIF\n",
      "onehot_CODE_REJECT_REASON_XAP\n",
      "onehot_CODE_REJECT_REASON_XNA\n",
      "onehot_CODE_REJECT_REASON_nan\n",
      "onehot_NAME_TYPE_SUITE_Children\n",
      "onehot_NAME_TYPE_SUITE_Family\n",
      "onehot_NAME_TYPE_SUITE_Group of people\n",
      "onehot_NAME_TYPE_SUITE_Other_A\n",
      "onehot_NAME_TYPE_SUITE_Other_B\n",
      "onehot_NAME_TYPE_SUITE_Spouse, partner\n",
      "onehot_NAME_TYPE_SUITE_Unaccompanied\n",
      "onehot_NAME_TYPE_SUITE_nan\n",
      "onehot_NAME_CLIENT_TYPE_New\n",
      "onehot_NAME_CLIENT_TYPE_Refreshed\n",
      "onehot_NAME_CLIENT_TYPE_Repeater\n",
      "onehot_NAME_CLIENT_TYPE_XNA\n",
      "onehot_NAME_CLIENT_TYPE_nan\n",
      "onehot_NAME_PORTFOLIO_Cards\n",
      "onehot_NAME_PORTFOLIO_Cars\n",
      "onehot_NAME_PORTFOLIO_Cash\n",
      "onehot_NAME_PORTFOLIO_POS\n",
      "onehot_NAME_PORTFOLIO_XNA\n",
      "onehot_NAME_PORTFOLIO_nan\n",
      "onehot_NAME_PRODUCT_TYPE_XNA\n",
      "onehot_NAME_PRODUCT_TYPE_walk-in\n",
      "onehot_NAME_PRODUCT_TYPE_x-sell\n",
      "onehot_NAME_PRODUCT_TYPE_nan\n",
      "onehot_CHANNEL_TYPE_AP+ (Cash loan)\n",
      "onehot_CHANNEL_TYPE_Car dealer\n",
      "onehot_CHANNEL_TYPE_Channel of corporate sales\n",
      "onehot_CHANNEL_TYPE_Contact center\n",
      "onehot_CHANNEL_TYPE_Country-wide\n",
      "onehot_CHANNEL_TYPE_Credit and cash offices\n",
      "onehot_CHANNEL_TYPE_Regional / Local\n",
      "onehot_CHANNEL_TYPE_Stone\n",
      "onehot_CHANNEL_TYPE_nan\n",
      "onehot_NFLAG_INSURED_ON_APPROVAL_0.0\n",
      "onehot_NFLAG_INSURED_ON_APPROVAL_1.0\n",
      "onehot_NFLAG_INSURED_ON_APPROVAL_nan\n",
      "onehot_NAME_SELLER_INDUSTRY_Auto technology\n",
      "onehot_NAME_SELLER_INDUSTRY_Clothing\n",
      "onehot_NAME_SELLER_INDUSTRY_Connectivity\n",
      "onehot_NAME_SELLER_INDUSTRY_Construction\n",
      "onehot_NAME_SELLER_INDUSTRY_Consumer electronics\n",
      "onehot_NAME_SELLER_INDUSTRY_Furniture\n",
      "onehot_NAME_SELLER_INDUSTRY_Industry\n",
      "onehot_NAME_SELLER_INDUSTRY_Jewelry\n",
      "onehot_NAME_SELLER_INDUSTRY_MLM partners\n",
      "onehot_NAME_SELLER_INDUSTRY_Tourism\n",
      "onehot_NAME_SELLER_INDUSTRY_XNA\n",
      "onehot_NAME_SELLER_INDUSTRY_nan\n",
      "onehot_NAME_YIELD_GROUP_0.0\n",
      "onehot_NAME_YIELD_GROUP_1.0\n",
      "onehot_NAME_YIELD_GROUP_2.0\n",
      "onehot_NAME_YIELD_GROUP_3.0\n",
      "onehot_NAME_YIELD_GROUP_4.0\n",
      "onehot_NAME_YIELD_GROUP_nan\n",
      "onehot_FLAG_NAME_CASH_LOAN_PURPOSE_0.0\n",
      "onehot_FLAG_NAME_CASH_LOAN_PURPOSE_1.0\n",
      "onehot_FLAG_NAME_CASH_LOAN_PURPOSE_2.0\n",
      "onehot_FLAG_NAME_CASH_LOAN_PURPOSE_nan\n",
      "onehot_FLAG_NAME_GOODS_CATEGORY_0.0\n",
      "onehot_FLAG_NAME_GOODS_CATEGORY_1.0\n",
      "onehot_FLAG_NAME_GOODS_CATEGORY_nan\n"
     ]
    }
   ],
   "source": [
    "prev['FLAG_NAME_CASH_LOAN_PURPOSE'] = (prev['NAME_CASH_LOAN_PURPOSE']=='XNA') + (prev['NAME_CASH_LOAN_PURPOSE']=='XAP')*2\n",
    "prev['FLAG_NAME_GOODS_CATEGORY'] = (prev['NAME_GOODS_CATEGORY'] == 'XNA') + 0\n",
    "print('deal')\n",
    "\n",
    "categorical = ['NAME_CONTRACT_TYPE', 'FLAG_LAST_APPL_PER_CONTRACT', 'NAME_CONTRACT_STATUS',\n",
    "               'NAME_PAYMENT_TYPE', 'CODE_REJECT_REASON', 'NAME_TYPE_SUITE', 'NAME_CLIENT_TYPE',\n",
    "               'NAME_PORTFOLIO', 'NAME_PRODUCT_TYPE', 'CHANNEL_TYPE', 'NFLAG_INSURED_ON_APPROVAL', \n",
    "               'NAME_SELLER_INDUSTRY', 'NAME_YIELD_GROUP'] + \\\n",
    "              ['FLAG_NAME_CASH_LOAN_PURPOSE', 'FLAG_NAME_GOODS_CATEGORY']\n",
    "for x in categorical:\n",
    "    print(x)\n",
    "    df = df.merge(one_hot(prev, merged_col, x), on=merged_col, how='left')\n",
    "    \n",
    "# count\n",
    "df = df.merge(count(prev, merged_col, 'NAME_CONTRACT_TYPE'), on=merged_col, how='left')\n",
    "count_name = [x for x in df.columns if 'count_' in x][0]\n",
    "print('count')\n",
    "\n",
    "# count ratio\n",
    "for x in df.columns:\n",
    "    if 'positivecount_' in x or 'onehot_' in x:\n",
    "        print(x)\n",
    "        df[ratio_name(x, count_name)] = ratio(df, x, count_name)\n"
   ]
  },
  {
   "cell_type": "code",
   "execution_count": 12,
   "metadata": {
    "ExecuteTime": {
     "end_time": "2018-06-29T15:23:38.192026Z",
     "start_time": "2018-06-29T15:21:59.694213Z"
    },
    "collapsed": true
   },
   "outputs": [
    {
     "name": "stdout",
     "output_type": "stream",
     "text": [
      "AMT_CREDIT_divide_DAYS_LAST_DUE_minus_DAYS_TERMINATION\n",
      "DAYS_FIRST_DUE_minus_DAYS_TERMINATION\n",
      "DAYS_LAST_DUE_1ST_VERSION_minus_DAYS_TERMINATION\n",
      "AMT_APPLICATION_divide_CNT_PAYMENT\n",
      "AMT_CREDIT_divide_DAYS_FIRST_DUE_minus_DAYS_TERMINATION\n",
      "AMT_DOWN_PAYMENT_divide_DAYS_FIRST_DUE\n",
      "AMT_APPLICATION_divide_DAYS_FIRST_DRAWING_minus_DAYS_LAST_DUE\n",
      "CNT_PAYMENT\n",
      "AMT_ANNUITY_divide_DAYS_FIRST_DUE_minus_DAYS_LAST_DUE\n",
      "AMT_DOWN_PAYMENT_divide_DAYS_FIRST_DRAWING\n",
      "AMT_DOWN_PAYMENT_divide_RATE_DOWN_PAYMENT\n",
      "AMT_APPLICATION_divide_DAYS_TERMINATION\n",
      "AMT_CREDIT_divide_DAYS_TERMINATION\n",
      "AMT_CREDIT_divide_DAYS_FIRST_DRAWING_minus_DAYS_TERMINATION\n",
      "AMT_ANNUITY_divide_DAYS_LAST_DUE\n",
      "AMT_GOODS_PRICE_divide_RATE_DOWN_PAYMENT\n",
      "AMT_GOODS_PRICE_divide_DAYS_FIRST_DRAWING_minus_DAYS_FIRST_DUE\n",
      "AMT_GOODS_PRICE_divide_DAYS_FIRST_DRAWING_minus_DAYS_TERMINATION\n",
      "DAYS_TERMINATION\n",
      "DAYS_LAST_DUE_minus_DAYS_TERMINATION\n",
      "AMT_APPLICATION_divide_DAYS_LAST_DUE_1ST_VERSION\n",
      "NFLAG_LAST_APPL_IN_DAY\n",
      "AMT_ANNUITY_divide_AMT_GOODS_PRICE\n",
      "AMT_ANNUITY_divide_DAYS_FIRST_DUE_minus_DAYS_LAST_DUE_1ST_VERSION\n",
      "AMT_APPLICATION_divide_DAYS_FIRST_DUE\n",
      "AMT_APPLICATION_divide_DAYS_FIRST_DRAWING_minus_DAYS_FIRST_DUE\n",
      "AMT_CREDIT_divide_CNT_PAYMENT\n",
      "AMT_DOWN_PAYMENT_divide_AMT_GOODS_PRICE\n",
      "AMT_DOWN_PAYMENT_divide_DAYS_FIRST_DRAWING_minus_DAYS_LAST_DUE\n",
      "WEEKDAY_APPR_PROCESS_START\n",
      "AMT_APPLICATION_divide_DAYS_DECISION\n",
      "DAYS_FIRST_DRAWING_minus_DAYS_LAST_DUE_1ST_VERSION\n",
      "DAYS_FIRST_DRAWING_minus_DAYS_FIRST_DUE\n",
      "AMT_CREDIT_divide_DAYS_LAST_DUE_1ST_VERSION_minus_DAYS_TERMINATION\n",
      "AMT_ANNUITY_divide_DAYS_LAST_DUE_1ST_VERSION_minus_DAYS_TERMINATION\n",
      "AMT_CREDIT_divide_DAYS_LAST_DUE\n",
      "RATE_DOWN_PAYMENT\n",
      "AMT_GOODS_PRICE_divide_DAYS_FIRST_DUE\n",
      "AMT_GOODS_PRICE_divide_DAYS_LAST_DUE_1ST_VERSION_minus_DAYS_TERMINATION\n",
      "AMT_DOWN_PAYMENT_divide_DAYS_LAST_DUE_minus_DAYS_TERMINATION\n",
      "AMT_APPLICATION_divide_AMT_CREDIT\n",
      "AMT_GOODS_PRICE_divide_DAYS_TERMINATION\n",
      "AMT_APPLICATION_divide_DAYS_LAST_DUE_1ST_VERSION_minus_DAYS_TERMINATION\n",
      "DAYS_FIRST_DRAWING_minus_DAYS_LAST_DUE\n",
      "AMT_GOODS_PRICE_divide_DAYS_LAST_DUE_1ST_VERSION\n",
      "AMT_CREDIT_divide_RATE_DOWN_PAYMENT\n",
      "AMT_GOODS_PRICE_divide_DAYS_FIRST_DUE_minus_DAYS_LAST_DUE_1ST_VERSION\n",
      "DAYS_DECISION\n",
      "AMT_ANNUITY_divide_DAYS_FIRST_DRAWING_minus_DAYS_FIRST_DUE\n",
      "AMT_CREDIT_divide_DAYS_LAST_DUE_1ST_VERSION_minus_DAYS_LAST_DUE\n",
      "AMT_DOWN_PAYMENT_divide_DAYS_TERMINATION\n",
      "AMT_ANNUITY_divide_DAYS_LAST_DUE_1ST_VERSION\n",
      "AMT_GOODS_PRICE_divide_DAYS_LAST_DUE_1ST_VERSION_minus_DAYS_LAST_DUE\n",
      "AMT_GOODS_PRICE\n",
      "DAYS_FIRST_DUE_minus_DAYS_LAST_DUE_1ST_VERSION\n",
      "AMT_CREDIT\n",
      "AMT_ANNUITY_divide_DAYS_FIRST_DRAWING\n",
      "AMT_CREDIT_divide_DAYS_FIRST_DRAWING_minus_DAYS_LAST_DUE\n",
      "AMT_GOODS_PRICE_divide_DAYS_FIRST_DUE_minus_DAYS_TERMINATION\n",
      "AMT_CREDIT_divide_DAYS_FIRST_DRAWING_minus_DAYS_FIRST_DUE\n",
      "AMT_DOWN_PAYMENT_divide_DAYS_FIRST_DRAWING_minus_DAYS_FIRST_DUE\n",
      "DAYS_FIRST_DUE_minus_DAYS_LAST_DUE\n",
      "AMT_CREDIT_divide_AMT_DOWN_PAYMENT\n",
      "AMT_CREDIT_divide_DAYS_FIRST_DUE_minus_DAYS_LAST_DUE\n",
      "AMT_GOODS_PRICE_divide_DAYS_FIRST_DRAWING\n",
      "AMT_APPLICATION_divide_DAYS_FIRST_DRAWING_minus_DAYS_TERMINATION\n",
      "AMT_DOWN_PAYMENT\n",
      "AMT_DOWN_PAYMENT_divide_DAYS_LAST_DUE_1ST_VERSION_minus_DAYS_LAST_DUE\n",
      "AMT_ANNUITY_divide_DAYS_TERMINATION\n",
      "AMT_APPLICATION_divide_DAYS_FIRST_DRAWING\n",
      "AMT_DOWN_PAYMENT_divide_DAYS_DECISION\n",
      "AMT_DOWN_PAYMENT_divide_DAYS_LAST_DUE_1ST_VERSION_minus_DAYS_TERMINATION\n",
      "AMT_DOWN_PAYMENT_divide_DAYS_FIRST_DUE_minus_DAYS_TERMINATION\n",
      "AMT_DOWN_PAYMENT_divide_DAYS_FIRST_DRAWING_minus_DAYS_LAST_DUE_1ST_VERSION\n",
      "AMT_ANNUITY_divide_DAYS_FIRST_DRAWING_minus_DAYS_LAST_DUE_1ST_VERSION\n",
      "AMT_APPLICATION_divide_DAYS_LAST_DUE_1ST_VERSION_minus_DAYS_LAST_DUE\n",
      "AMT_APPLICATION_divide_DAYS_LAST_DUE_minus_DAYS_TERMINATION\n",
      "AMT_ANNUITY_divide_DAYS_LAST_DUE_1ST_VERSION_minus_DAYS_LAST_DUE\n",
      "DAYS_FIRST_DRAWING_minus_DAYS_TERMINATION\n",
      "DAYS_FIRST_DUE\n",
      "AMT_GOODS_PRICE_divide_DAYS_FIRST_DRAWING_minus_DAYS_LAST_DUE_1ST_VERSION\n",
      "AMT_ANNUITY_divide_DAYS_FIRST_DRAWING_minus_DAYS_TERMINATION\n",
      "AMT_CREDIT_divide_AMT_GOODS_PRICE\n",
      "DAYS_LAST_DUE_1ST_VERSION_minus_DAYS_LAST_DUE\n",
      "AMT_GOODS_PRICE_divide_DAYS_FIRST_DUE_minus_DAYS_LAST_DUE\n",
      "AMT_ANNUITY_divide_DAYS_FIRST_DUE\n",
      "AMT_CREDIT_divide_DAYS_FIRST_DRAWING_minus_DAYS_LAST_DUE_1ST_VERSION\n",
      "AMT_ANNUITY_divide_AMT_DOWN_PAYMENT\n",
      "AMT_DOWN_PAYMENT_divide_DAYS_LAST_DUE\n",
      "AMT_ANNUITY_divide_RATE_DOWN_PAYMENT\n",
      "AMT_ANNUITY_divide_DAYS_LAST_DUE_minus_DAYS_TERMINATION\n",
      "AMT_APPLICATION_divide_DAYS_LAST_DUE\n",
      "AMT_DOWN_PAYMENT_divide_DAYS_FIRST_DUE_minus_DAYS_LAST_DUE\n",
      "AMT_CREDIT_divide_DAYS_FIRST_DRAWING\n",
      "AMT_ANNUITY\n",
      "DAYS_LAST_DUE\n",
      "AMT_GOODS_PRICE_divide_DAYS_LAST_DUE\n",
      "AMT_APPLICATION_divide_AMT_GOODS_PRICE\n",
      "AMT_DOWN_PAYMENT_divide_DAYS_FIRST_DRAWING_minus_DAYS_TERMINATION\n",
      "AMT_DOWN_PAYMENT_divide_CNT_PAYMENT\n",
      "AMT_APPLICATION_divide_DAYS_FIRST_DUE_minus_DAYS_LAST_DUE\n",
      "AMT_APPLICATION\n",
      "AMT_APPLICATION_divide_DAYS_FIRST_DRAWING_minus_DAYS_LAST_DUE_1ST_VERSION\n",
      "AMT_CREDIT_divide_DAYS_FIRST_DUE_minus_DAYS_LAST_DUE_1ST_VERSION\n",
      "RATE_INTEREST_PRIMARY\n",
      "DAYS_FIRST_DRAWING\n",
      "AMT_APPLICATION_divide_AMT_DOWN_PAYMENT\n",
      "AMT_GOODS_PRICE_divide_DAYS_DECISION\n",
      "AMT_APPLICATION_divide_RATE_DOWN_PAYMENT\n",
      "RATE_INTEREST_PRIVILEGED\n",
      "DAYS_LAST_DUE_1ST_VERSION\n",
      "AMT_CREDIT_divide_DAYS_FIRST_DUE\n",
      "AMT_APPLICATION_divide_DAYS_FIRST_DUE_minus_DAYS_LAST_DUE_1ST_VERSION\n",
      "AMT_DOWN_PAYMENT_divide_DAYS_FIRST_DUE_minus_DAYS_LAST_DUE_1ST_VERSION\n",
      "AMT_ANNUITY_divide_AMT_APPLICATION\n",
      "AMT_ANNUITY_divide_DAYS_FIRST_DUE_minus_DAYS_TERMINATION\n",
      "AMT_GOODS_PRICE_divide_DAYS_FIRST_DRAWING_minus_DAYS_LAST_DUE\n",
      "AMT_ANNUITY_divide_DAYS_DECISION\n",
      "AMT_APPLICATION_divide_DAYS_FIRST_DUE_minus_DAYS_TERMINATION\n",
      "AMT_DOWN_PAYMENT_divide_DAYS_LAST_DUE_1ST_VERSION\n",
      "AMT_ANNUITY_divide_DAYS_FIRST_DRAWING_minus_DAYS_LAST_DUE\n",
      "AMT_CREDIT_divide_DAYS_DECISION\n",
      "AMT_GOODS_PRICE_divide_CNT_PAYMENT\n",
      "AMT_CREDIT_divide_DAYS_LAST_DUE_1ST_VERSION\n",
      "AMT_ANNUITY_divide_AMT_CREDIT\n",
      "AMT_ANNUITY_divide_CNT_PAYMENT\n",
      "AMT_GOODS_PRICE_divide_DAYS_LAST_DUE_minus_DAYS_TERMINATION\n",
      "HOUR_APPR_PROCESS_START\n"
     ]
    },
    {
     "data": {
      "text/plain": [
       "'done'"
      ]
     },
     "execution_count": 12,
     "metadata": {},
     "output_type": "execute_result"
    }
   ],
   "source": [
    "\n",
    "# numerical\n",
    "ignored = ['SK_ID_CURR', 'SK_ID_PREV', 'NAME_CASH_LOAN_PURPOSE', 'NAME_GOODS_CATEGORY'] + categorical\n",
    "for x in set(prev.columns) - set(ignored):\n",
    "    print(x)\n",
    "    df = df.merge(numerical(prev, merged_col, x, ['mean', 'median', 'max', 'min', 'sum']), on=merged_col, how='left')\n",
    "    \n",
    "columns = []\n",
    "for x in df.columns:\n",
    "    tmp = 'prev_' + x if x != merged_col else x\n",
    "    columns.append(tmp)\n",
    "df.columns = columns\n",
    "\n",
    "'done'"
   ]
  },
  {
   "cell_type": "code",
   "execution_count": 13,
   "metadata": {
    "ExecuteTime": {
     "end_time": "2018-06-29T15:23:38.197153Z",
     "start_time": "2018-06-29T15:23:38.193578Z"
    },
    "collapsed": true
   },
   "outputs": [
    {
     "data": {
      "text/plain": [
       "{'AMT_ANNUITY',\n",
       " 'AMT_ANNUITY_divide_AMT_APPLICATION',\n",
       " 'AMT_ANNUITY_divide_AMT_CREDIT',\n",
       " 'AMT_ANNUITY_divide_AMT_DOWN_PAYMENT',\n",
       " 'AMT_ANNUITY_divide_AMT_GOODS_PRICE',\n",
       " 'AMT_ANNUITY_divide_CNT_PAYMENT',\n",
       " 'AMT_ANNUITY_divide_DAYS_DECISION',\n",
       " 'AMT_ANNUITY_divide_DAYS_FIRST_DRAWING',\n",
       " 'AMT_ANNUITY_divide_DAYS_FIRST_DRAWING_minus_DAYS_FIRST_DUE',\n",
       " 'AMT_ANNUITY_divide_DAYS_FIRST_DRAWING_minus_DAYS_LAST_DUE',\n",
       " 'AMT_ANNUITY_divide_DAYS_FIRST_DRAWING_minus_DAYS_LAST_DUE_1ST_VERSION',\n",
       " 'AMT_ANNUITY_divide_DAYS_FIRST_DRAWING_minus_DAYS_TERMINATION',\n",
       " 'AMT_ANNUITY_divide_DAYS_FIRST_DUE',\n",
       " 'AMT_ANNUITY_divide_DAYS_FIRST_DUE_minus_DAYS_LAST_DUE',\n",
       " 'AMT_ANNUITY_divide_DAYS_FIRST_DUE_minus_DAYS_LAST_DUE_1ST_VERSION',\n",
       " 'AMT_ANNUITY_divide_DAYS_FIRST_DUE_minus_DAYS_TERMINATION',\n",
       " 'AMT_ANNUITY_divide_DAYS_LAST_DUE',\n",
       " 'AMT_ANNUITY_divide_DAYS_LAST_DUE_1ST_VERSION',\n",
       " 'AMT_ANNUITY_divide_DAYS_LAST_DUE_1ST_VERSION_minus_DAYS_LAST_DUE',\n",
       " 'AMT_ANNUITY_divide_DAYS_LAST_DUE_1ST_VERSION_minus_DAYS_TERMINATION',\n",
       " 'AMT_ANNUITY_divide_DAYS_LAST_DUE_minus_DAYS_TERMINATION',\n",
       " 'AMT_ANNUITY_divide_DAYS_TERMINATION',\n",
       " 'AMT_ANNUITY_divide_RATE_DOWN_PAYMENT',\n",
       " 'AMT_APPLICATION',\n",
       " 'AMT_APPLICATION_divide_AMT_CREDIT',\n",
       " 'AMT_APPLICATION_divide_AMT_DOWN_PAYMENT',\n",
       " 'AMT_APPLICATION_divide_AMT_GOODS_PRICE',\n",
       " 'AMT_APPLICATION_divide_CNT_PAYMENT',\n",
       " 'AMT_APPLICATION_divide_DAYS_DECISION',\n",
       " 'AMT_APPLICATION_divide_DAYS_FIRST_DRAWING',\n",
       " 'AMT_APPLICATION_divide_DAYS_FIRST_DRAWING_minus_DAYS_FIRST_DUE',\n",
       " 'AMT_APPLICATION_divide_DAYS_FIRST_DRAWING_minus_DAYS_LAST_DUE',\n",
       " 'AMT_APPLICATION_divide_DAYS_FIRST_DRAWING_minus_DAYS_LAST_DUE_1ST_VERSION',\n",
       " 'AMT_APPLICATION_divide_DAYS_FIRST_DRAWING_minus_DAYS_TERMINATION',\n",
       " 'AMT_APPLICATION_divide_DAYS_FIRST_DUE',\n",
       " 'AMT_APPLICATION_divide_DAYS_FIRST_DUE_minus_DAYS_LAST_DUE',\n",
       " 'AMT_APPLICATION_divide_DAYS_FIRST_DUE_minus_DAYS_LAST_DUE_1ST_VERSION',\n",
       " 'AMT_APPLICATION_divide_DAYS_FIRST_DUE_minus_DAYS_TERMINATION',\n",
       " 'AMT_APPLICATION_divide_DAYS_LAST_DUE',\n",
       " 'AMT_APPLICATION_divide_DAYS_LAST_DUE_1ST_VERSION',\n",
       " 'AMT_APPLICATION_divide_DAYS_LAST_DUE_1ST_VERSION_minus_DAYS_LAST_DUE',\n",
       " 'AMT_APPLICATION_divide_DAYS_LAST_DUE_1ST_VERSION_minus_DAYS_TERMINATION',\n",
       " 'AMT_APPLICATION_divide_DAYS_LAST_DUE_minus_DAYS_TERMINATION',\n",
       " 'AMT_APPLICATION_divide_DAYS_TERMINATION',\n",
       " 'AMT_APPLICATION_divide_RATE_DOWN_PAYMENT',\n",
       " 'AMT_CREDIT',\n",
       " 'AMT_CREDIT_divide_AMT_DOWN_PAYMENT',\n",
       " 'AMT_CREDIT_divide_AMT_GOODS_PRICE',\n",
       " 'AMT_CREDIT_divide_CNT_PAYMENT',\n",
       " 'AMT_CREDIT_divide_DAYS_DECISION',\n",
       " 'AMT_CREDIT_divide_DAYS_FIRST_DRAWING',\n",
       " 'AMT_CREDIT_divide_DAYS_FIRST_DRAWING_minus_DAYS_FIRST_DUE',\n",
       " 'AMT_CREDIT_divide_DAYS_FIRST_DRAWING_minus_DAYS_LAST_DUE',\n",
       " 'AMT_CREDIT_divide_DAYS_FIRST_DRAWING_minus_DAYS_LAST_DUE_1ST_VERSION',\n",
       " 'AMT_CREDIT_divide_DAYS_FIRST_DRAWING_minus_DAYS_TERMINATION',\n",
       " 'AMT_CREDIT_divide_DAYS_FIRST_DUE',\n",
       " 'AMT_CREDIT_divide_DAYS_FIRST_DUE_minus_DAYS_LAST_DUE',\n",
       " 'AMT_CREDIT_divide_DAYS_FIRST_DUE_minus_DAYS_LAST_DUE_1ST_VERSION',\n",
       " 'AMT_CREDIT_divide_DAYS_FIRST_DUE_minus_DAYS_TERMINATION',\n",
       " 'AMT_CREDIT_divide_DAYS_LAST_DUE',\n",
       " 'AMT_CREDIT_divide_DAYS_LAST_DUE_1ST_VERSION',\n",
       " 'AMT_CREDIT_divide_DAYS_LAST_DUE_1ST_VERSION_minus_DAYS_LAST_DUE',\n",
       " 'AMT_CREDIT_divide_DAYS_LAST_DUE_1ST_VERSION_minus_DAYS_TERMINATION',\n",
       " 'AMT_CREDIT_divide_DAYS_LAST_DUE_minus_DAYS_TERMINATION',\n",
       " 'AMT_CREDIT_divide_DAYS_TERMINATION',\n",
       " 'AMT_CREDIT_divide_RATE_DOWN_PAYMENT',\n",
       " 'AMT_DOWN_PAYMENT',\n",
       " 'AMT_DOWN_PAYMENT_divide_AMT_GOODS_PRICE',\n",
       " 'AMT_DOWN_PAYMENT_divide_CNT_PAYMENT',\n",
       " 'AMT_DOWN_PAYMENT_divide_DAYS_DECISION',\n",
       " 'AMT_DOWN_PAYMENT_divide_DAYS_FIRST_DRAWING',\n",
       " 'AMT_DOWN_PAYMENT_divide_DAYS_FIRST_DRAWING_minus_DAYS_FIRST_DUE',\n",
       " 'AMT_DOWN_PAYMENT_divide_DAYS_FIRST_DRAWING_minus_DAYS_LAST_DUE',\n",
       " 'AMT_DOWN_PAYMENT_divide_DAYS_FIRST_DRAWING_minus_DAYS_LAST_DUE_1ST_VERSION',\n",
       " 'AMT_DOWN_PAYMENT_divide_DAYS_FIRST_DRAWING_minus_DAYS_TERMINATION',\n",
       " 'AMT_DOWN_PAYMENT_divide_DAYS_FIRST_DUE',\n",
       " 'AMT_DOWN_PAYMENT_divide_DAYS_FIRST_DUE_minus_DAYS_LAST_DUE',\n",
       " 'AMT_DOWN_PAYMENT_divide_DAYS_FIRST_DUE_minus_DAYS_LAST_DUE_1ST_VERSION',\n",
       " 'AMT_DOWN_PAYMENT_divide_DAYS_FIRST_DUE_minus_DAYS_TERMINATION',\n",
       " 'AMT_DOWN_PAYMENT_divide_DAYS_LAST_DUE',\n",
       " 'AMT_DOWN_PAYMENT_divide_DAYS_LAST_DUE_1ST_VERSION',\n",
       " 'AMT_DOWN_PAYMENT_divide_DAYS_LAST_DUE_1ST_VERSION_minus_DAYS_LAST_DUE',\n",
       " 'AMT_DOWN_PAYMENT_divide_DAYS_LAST_DUE_1ST_VERSION_minus_DAYS_TERMINATION',\n",
       " 'AMT_DOWN_PAYMENT_divide_DAYS_LAST_DUE_minus_DAYS_TERMINATION',\n",
       " 'AMT_DOWN_PAYMENT_divide_DAYS_TERMINATION',\n",
       " 'AMT_DOWN_PAYMENT_divide_RATE_DOWN_PAYMENT',\n",
       " 'AMT_GOODS_PRICE',\n",
       " 'AMT_GOODS_PRICE_divide_CNT_PAYMENT',\n",
       " 'AMT_GOODS_PRICE_divide_DAYS_DECISION',\n",
       " 'AMT_GOODS_PRICE_divide_DAYS_FIRST_DRAWING',\n",
       " 'AMT_GOODS_PRICE_divide_DAYS_FIRST_DRAWING_minus_DAYS_FIRST_DUE',\n",
       " 'AMT_GOODS_PRICE_divide_DAYS_FIRST_DRAWING_minus_DAYS_LAST_DUE',\n",
       " 'AMT_GOODS_PRICE_divide_DAYS_FIRST_DRAWING_minus_DAYS_LAST_DUE_1ST_VERSION',\n",
       " 'AMT_GOODS_PRICE_divide_DAYS_FIRST_DRAWING_minus_DAYS_TERMINATION',\n",
       " 'AMT_GOODS_PRICE_divide_DAYS_FIRST_DUE',\n",
       " 'AMT_GOODS_PRICE_divide_DAYS_FIRST_DUE_minus_DAYS_LAST_DUE',\n",
       " 'AMT_GOODS_PRICE_divide_DAYS_FIRST_DUE_minus_DAYS_LAST_DUE_1ST_VERSION',\n",
       " 'AMT_GOODS_PRICE_divide_DAYS_FIRST_DUE_minus_DAYS_TERMINATION',\n",
       " 'AMT_GOODS_PRICE_divide_DAYS_LAST_DUE',\n",
       " 'AMT_GOODS_PRICE_divide_DAYS_LAST_DUE_1ST_VERSION',\n",
       " 'AMT_GOODS_PRICE_divide_DAYS_LAST_DUE_1ST_VERSION_minus_DAYS_LAST_DUE',\n",
       " 'AMT_GOODS_PRICE_divide_DAYS_LAST_DUE_1ST_VERSION_minus_DAYS_TERMINATION',\n",
       " 'AMT_GOODS_PRICE_divide_DAYS_LAST_DUE_minus_DAYS_TERMINATION',\n",
       " 'AMT_GOODS_PRICE_divide_DAYS_TERMINATION',\n",
       " 'AMT_GOODS_PRICE_divide_RATE_DOWN_PAYMENT',\n",
       " 'CNT_PAYMENT',\n",
       " 'DAYS_DECISION',\n",
       " 'DAYS_FIRST_DRAWING',\n",
       " 'DAYS_FIRST_DRAWING_minus_DAYS_FIRST_DUE',\n",
       " 'DAYS_FIRST_DRAWING_minus_DAYS_LAST_DUE',\n",
       " 'DAYS_FIRST_DRAWING_minus_DAYS_LAST_DUE_1ST_VERSION',\n",
       " 'DAYS_FIRST_DRAWING_minus_DAYS_TERMINATION',\n",
       " 'DAYS_FIRST_DUE',\n",
       " 'DAYS_FIRST_DUE_minus_DAYS_LAST_DUE',\n",
       " 'DAYS_FIRST_DUE_minus_DAYS_LAST_DUE_1ST_VERSION',\n",
       " 'DAYS_FIRST_DUE_minus_DAYS_TERMINATION',\n",
       " 'DAYS_LAST_DUE',\n",
       " 'DAYS_LAST_DUE_1ST_VERSION',\n",
       " 'DAYS_LAST_DUE_1ST_VERSION_minus_DAYS_LAST_DUE',\n",
       " 'DAYS_LAST_DUE_1ST_VERSION_minus_DAYS_TERMINATION',\n",
       " 'DAYS_LAST_DUE_minus_DAYS_TERMINATION',\n",
       " 'DAYS_TERMINATION',\n",
       " 'HOUR_APPR_PROCESS_START',\n",
       " 'NFLAG_LAST_APPL_IN_DAY',\n",
       " 'RATE_DOWN_PAYMENT',\n",
       " 'RATE_INTEREST_PRIMARY',\n",
       " 'RATE_INTEREST_PRIVILEGED',\n",
       " 'WEEKDAY_APPR_PROCESS_START'}"
      ]
     },
     "execution_count": 13,
     "metadata": {},
     "output_type": "execute_result"
    }
   ],
   "source": [
    "set(prev.columns) - set(ignored)\n"
   ]
  },
  {
   "cell_type": "code",
   "execution_count": 14,
   "metadata": {
    "ExecuteTime": {
     "end_time": "2018-06-29T15:23:38.207274Z",
     "start_time": "2018-06-29T15:23:38.198665Z"
    }
   },
   "outputs": [
    {
     "name": "stdout",
     "output_type": "stream",
     "text": [
      "Index(['SK_ID_CURR', 'prev_onehot_NAME_CONTRACT_TYPE_Cash loans',\n",
      "       'prev_onehot_NAME_CONTRACT_TYPE_Consumer loans',\n",
      "       'prev_onehot_NAME_CONTRACT_TYPE_Revolving loans',\n",
      "       'prev_onehot_NAME_CONTRACT_TYPE_XNA',\n",
      "       'prev_onehot_NAME_CONTRACT_TYPE_nan',\n",
      "       'prev_onehot_FLAG_LAST_APPL_PER_CONTRACT_0.0',\n",
      "       'prev_onehot_FLAG_LAST_APPL_PER_CONTRACT_1.0',\n",
      "       'prev_onehot_FLAG_LAST_APPL_PER_CONTRACT_nan',\n",
      "       'prev_onehot_NAME_CONTRACT_STATUS_Approved',\n",
      "       ...\n",
      "       'prev_AMT_GOODS_PRICE_divide_DAYS_LAST_DUE_minus_DAYS_TERMINATION_mean',\n",
      "       'prev_AMT_GOODS_PRICE_divide_DAYS_LAST_DUE_minus_DAYS_TERMINATION_median',\n",
      "       'prev_AMT_GOODS_PRICE_divide_DAYS_LAST_DUE_minus_DAYS_TERMINATION_max',\n",
      "       'prev_AMT_GOODS_PRICE_divide_DAYS_LAST_DUE_minus_DAYS_TERMINATION_min',\n",
      "       'prev_AMT_GOODS_PRICE_divide_DAYS_LAST_DUE_minus_DAYS_TERMINATION_sum',\n",
      "       'prev_HOUR_APPR_PROCESS_START_mean',\n",
      "       'prev_HOUR_APPR_PROCESS_START_median',\n",
      "       'prev_HOUR_APPR_PROCESS_START_max', 'prev_HOUR_APPR_PROCESS_START_min',\n",
      "       'prev_HOUR_APPR_PROCESS_START_sum'],\n",
      "      dtype='object', length=818)\n"
     ]
    },
    {
     "data": {
      "text/plain": [
       "(356255, 818)"
      ]
     },
     "execution_count": 14,
     "metadata": {},
     "output_type": "execute_result"
    }
   ],
   "source": [
    "print(df.columns)\n",
    "df.shape"
   ]
  },
  {
   "cell_type": "code",
   "execution_count": 15,
   "metadata": {
    "ExecuteTime": {
     "end_time": "2018-06-29T15:23:42.183405Z",
     "start_time": "2018-06-29T15:23:38.209006Z"
    }
   },
   "outputs": [
    {
     "data": {
      "text/plain": [
       "'done'"
      ]
     },
     "execution_count": 15,
     "metadata": {},
     "output_type": "execute_result"
    }
   ],
   "source": [
    "df.to_pickle(PATH + 'test/prev2curr_0.pkl')\n",
    "'done'"
   ]
  },
  {
   "cell_type": "code",
   "execution_count": null,
   "metadata": {},
   "outputs": [],
   "source": []
  }
 ],
 "metadata": {
  "kernelspec": {
   "display_name": "Python 3",
   "language": "python",
   "name": "python3"
  },
  "language_info": {
   "codemirror_mode": {
    "name": "ipython",
    "version": 3
   },
   "file_extension": ".py",
   "mimetype": "text/x-python",
   "name": "python",
   "nbconvert_exporter": "python",
   "pygments_lexer": "ipython3",
   "version": "3.6.5"
  },
  "varInspector": {
   "cols": {
    "lenName": 16,
    "lenType": 16,
    "lenVar": 40
   },
   "kernels_config": {
    "python": {
     "delete_cmd_postfix": "",
     "delete_cmd_prefix": "del ",
     "library": "var_list.py",
     "varRefreshCmd": "print(var_dic_list())"
    },
    "r": {
     "delete_cmd_postfix": ") ",
     "delete_cmd_prefix": "rm(",
     "library": "var_list.r",
     "varRefreshCmd": "cat(var_dic_list()) "
    }
   },
   "types_to_exclude": [
    "module",
    "function",
    "builtin_function_or_method",
    "instance",
    "_Feature"
   ],
   "window_display": false
  }
 },
 "nbformat": 4,
 "nbformat_minor": 2
}
