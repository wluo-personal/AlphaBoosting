{
 "cells": [
  {
   "cell_type": "code",
   "execution_count": 1,
   "metadata": {
    "ExecuteTime": {
     "end_time": "2018-07-11T17:51:06.750725Z",
     "start_time": "2018-07-11T17:51:04.535895Z"
    }
   },
   "outputs": [],
   "source": [
    "import os\n",
    "import numpy as np\n",
    "import pandas as pd\n",
    "import gc\n",
    "import time\n",
    "from contextlib import contextmanager\n",
    "from lightgbm import LGBMClassifier\n",
    "from sklearn.metrics import roc_auc_score, roc_curve\n",
    "from sklearn.model_selection import KFold, StratifiedKFold\n",
    "import matplotlib.pyplot as plt\n",
    "import seaborn as sns\n",
    "import warnings\n",
    "PATH = '/home/kai/data/kaggle/homecredit/'"
   ]
  },
  {
   "cell_type": "code",
   "execution_count": 2,
   "metadata": {
    "ExecuteTime": {
     "end_time": "2018-07-11T17:52:37.917485Z",
     "start_time": "2018-07-11T17:52:37.913891Z"
    }
   },
   "outputs": [
    {
     "name": "stdout",
     "output_type": "stream",
     "text": [
      "['06_29_0.csv', '06_25_2.csv', '06_28_pred1.csv', '06_29_0.pkl', '06_26_1.csv', '06_28_pred2.csv', '80_large.pkl', 'blend1.csv', '80_large.csv', '.ipynb_checkpoints']\n"
     ]
    }
   ],
   "source": [
    "print(os.listdir(PATH + 'submission'))"
   ]
  },
  {
   "cell_type": "code",
   "execution_count": 24,
   "metadata": {
    "ExecuteTime": {
     "end_time": "2018-07-11T18:01:45.354322Z",
     "start_time": "2018-07-11T18:01:22.069419Z"
    }
   },
   "outputs": [],
   "source": [
    "train_ori = pd.read_pickle(PATH + 'train_bo0.pkl')\n",
    "test_ori = pd.read_pickle(PATH + 'test_bo0.pkl')\n"
   ]
  },
  {
   "cell_type": "markdown",
   "metadata": {},
   "source": [
    "# Train features test"
   ]
  },
  {
   "cell_type": "code",
   "execution_count": null,
   "metadata": {},
   "outputs": [],
   "source": [
    "'''1. Try out some categorical train features to extract some features\n",
    "DAYS_BIRTH\n",
    "NAME_EDUCATION_TYPE\n",
    "NAME_INCOME_TYPE\n",
    "DAYS_EMPLOYED\n",
    "2. Some ext tryout\n",
    "3. Some prev and curr tryout\n",
    "'''"
   ]
  },
  {
   "cell_type": "code",
   "execution_count": 25,
   "metadata": {
    "ExecuteTime": {
     "end_time": "2018-07-11T18:09:30.283754Z",
     "start_time": "2018-07-11T18:09:30.279593Z"
    }
   },
   "outputs": [],
   "source": [
    "import matplotlib.pyplot as plt\n",
    "import seaborn as sns"
   ]
  },
  {
   "cell_type": "code",
   "execution_count": 28,
   "metadata": {
    "ExecuteTime": {
     "end_time": "2018-07-11T18:10:35.487122Z",
     "start_time": "2018-07-11T18:10:35.480430Z"
    }
   },
   "outputs": [
    {
     "data": {
      "text/plain": [
       "['EXT_SOURCE_1', 'EXT_SOURCE_2', 'EXT_SOURCE_3']"
      ]
     },
     "execution_count": 28,
     "metadata": {},
     "output_type": "execute_result"
    }
   ],
   "source": [
    "ext_list = [col for col in train_ori.columns if 'EXT' in col]\n",
    "ext_list"
   ]
  },
  {
   "cell_type": "code",
   "execution_count": 30,
   "metadata": {
    "ExecuteTime": {
     "end_time": "2018-07-11T18:10:54.465617Z",
     "start_time": "2018-07-11T18:10:52.143158Z"
    }
   },
   "outputs": [
    {
     "data": {
      "text/plain": [
       "<matplotlib.collections.PathCollection at 0x7f1de39ee940>"
      ]
     },
     "execution_count": 30,
     "metadata": {},
     "output_type": "execute_result"
    },
    {
     "data": {
      "image/png": "[encoded data removed]",
      "text/plain": [
       "<Figure size 432x288 with 1 Axes>"
      ]
     },
     "metadata": {},
     "output_type": "display_data"
    }
   ],
   "source": [
    "plt.scatter(train_ori.NAME_EDUCATION_TYPE, train_ori.EXT_SOURCE_2)"
   ]
  },
  {
   "cell_type": "code",
   "execution_count": 33,
   "metadata": {
    "ExecuteTime": {
     "end_time": "2018-07-11T18:12:52.941307Z",
     "start_time": "2018-07-11T18:12:47.422253Z"
    },
    "collapsed": true
   },
   "outputs": [
    {
     "data": {
      "image/png": "[encoded data removed]",
      "text/plain": [
       "<Figure size 864x864 with 3 Axes>"
      ]
     },
     "metadata": {},
     "output_type": "display_data"
    }
   ],
   "source": [
    "plt.figure(figsize = (12,12))\n",
    "for i, ext in enumerate(ext_list):\n",
    "    plt.subplot(3, 1, i + 1)\n",
    "    plt.scatter(train_ori.NAME_EDUCATION_TYPE, train_ori[ext])"
   ]
  },
  {
   "cell_type": "code",
   "execution_count": 34,
   "metadata": {
    "ExecuteTime": {
     "end_time": "2018-07-11T18:15:04.560003Z",
     "start_time": "2018-07-11T18:15:03.133106Z"
    }
   },
   "outputs": [
    {
     "data": {
      "text/html": [
       "<div>\n",
       "<style scoped>\n",
       "    .dataframe tbody tr th:only-of-type {\n",
       "        vertical-align: middle;\n",
       "    }\n",
       "\n",
       "    .dataframe tbody tr th {\n",
       "        vertical-align: top;\n",
       "    }\n",
       "\n",
       "    .dataframe thead th {\n",
       "        text-align: right;\n",
       "    }\n",
       "</style>\n",
       "<table border=\"1\" class=\"dataframe\">\n",
       "  <thead>\n",
       "    <tr style=\"text-align: right;\">\n",
       "      <th></th>\n",
       "      <th>EXT_SOURCE_1</th>\n",
       "      <th>EXT_SOURCE_2</th>\n",
       "      <th>EXT_SOURCE_3</th>\n",
       "    </tr>\n",
       "  </thead>\n",
       "  <tbody>\n",
       "    <tr>\n",
       "      <th>count</th>\n",
       "      <td>134133.000000</td>\n",
       "      <td>3.068510e+05</td>\n",
       "      <td>246546.000000</td>\n",
       "    </tr>\n",
       "    <tr>\n",
       "      <th>mean</th>\n",
       "      <td>0.502130</td>\n",
       "      <td>5.143927e-01</td>\n",
       "      <td>0.510853</td>\n",
       "    </tr>\n",
       "    <tr>\n",
       "      <th>std</th>\n",
       "      <td>0.211062</td>\n",
       "      <td>1.910602e-01</td>\n",
       "      <td>0.194844</td>\n",
       "    </tr>\n",
       "    <tr>\n",
       "      <th>min</th>\n",
       "      <td>0.014568</td>\n",
       "      <td>8.173617e-08</td>\n",
       "      <td>0.000527</td>\n",
       "    </tr>\n",
       "    <tr>\n",
       "      <th>25%</th>\n",
       "      <td>0.334007</td>\n",
       "      <td>3.924574e-01</td>\n",
       "      <td>0.370650</td>\n",
       "    </tr>\n",
       "    <tr>\n",
       "      <th>50%</th>\n",
       "      <td>0.505998</td>\n",
       "      <td>5.659614e-01</td>\n",
       "      <td>0.535276</td>\n",
       "    </tr>\n",
       "    <tr>\n",
       "      <th>75%</th>\n",
       "      <td>0.675053</td>\n",
       "      <td>6.636171e-01</td>\n",
       "      <td>0.669057</td>\n",
       "    </tr>\n",
       "    <tr>\n",
       "      <th>max</th>\n",
       "      <td>0.962693</td>\n",
       "      <td>8.549997e-01</td>\n",
       "      <td>0.896010</td>\n",
       "    </tr>\n",
       "  </tbody>\n",
       "</table>\n",
       "</div>"
      ],
      "text/plain": [
       "        EXT_SOURCE_1  EXT_SOURCE_2   EXT_SOURCE_3\n",
       "count  134133.000000  3.068510e+05  246546.000000\n",
       "mean        0.502130  5.143927e-01       0.510853\n",
       "std         0.211062  1.910602e-01       0.194844\n",
       "min         0.014568  8.173617e-08       0.000527\n",
       "25%         0.334007  3.924574e-01       0.370650\n",
       "50%         0.505998  5.659614e-01       0.535276\n",
       "75%         0.675053  6.636171e-01       0.669057\n",
       "max         0.962693  8.549997e-01       0.896010"
      ]
     },
     "execution_count": 34,
     "metadata": {},
     "output_type": "execute_result"
    }
   ],
   "source": [
    "# ext tryout\n",
    "ext_train  = train_ori[ext_list]\n",
    "ext_train.describe()"
   ]
  },
  {
   "cell_type": "code",
   "execution_count": 35,
   "metadata": {
    "ExecuteTime": {
     "end_time": "2018-07-11T18:19:43.345702Z",
     "start_time": "2018-07-11T18:19:43.339500Z"
    }
   },
   "outputs": [],
   "source": [
    "examine_list = ['DAYS_BIRTH','NAME_EDUCATION_TYPE','NAME_INCOME_TYPE','DAYS_EMPLOYED']"
   ]
  },
  {
   "cell_type": "code",
   "execution_count": 36,
   "metadata": {
    "ExecuteTime": {
     "end_time": "2018-07-11T18:21:46.119875Z",
     "start_time": "2018-07-11T18:21:46.073793Z"
    }
   },
   "outputs": [],
   "source": [
    "train_test = train_ori[examine_list + ext_list]"
   ]
  },
  {
   "cell_type": "code",
   "execution_count": 37,
   "metadata": {
    "ExecuteTime": {
     "end_time": "2018-07-11T18:21:50.907103Z",
     "start_time": "2018-07-11T18:21:50.880826Z"
    },
    "collapsed": true
   },
   "outputs": [
    {
     "data": {
      "text/html": [
       "<div>\n",
       "<style scoped>\n",
       "    .dataframe tbody tr th:only-of-type {\n",
       "        vertical-align: middle;\n",
       "    }\n",
       "\n",
       "    .dataframe tbody tr th {\n",
       "        vertical-align: top;\n",
       "    }\n",
       "\n",
       "    .dataframe thead th {\n",
       "        text-align: right;\n",
       "    }\n",
       "</style>\n",
       "<table border=\"1\" class=\"dataframe\">\n",
       "  <thead>\n",
       "    <tr style=\"text-align: right;\">\n",
       "      <th></th>\n",
       "      <th>DAYS_BIRTH</th>\n",
       "      <th>NAME_EDUCATION_TYPE</th>\n",
       "      <th>NAME_INCOME_TYPE</th>\n",
       "      <th>DAYS_EMPLOYED</th>\n",
       "      <th>EXT_SOURCE_1</th>\n",
       "      <th>EXT_SOURCE_2</th>\n",
       "      <th>EXT_SOURCE_3</th>\n",
       "    </tr>\n",
       "  </thead>\n",
       "  <tbody>\n",
       "    <tr>\n",
       "      <th>0</th>\n",
       "      <td>-9461</td>\n",
       "      <td>0</td>\n",
       "      <td>0</td>\n",
       "      <td>-637</td>\n",
       "      <td>0.083037</td>\n",
       "      <td>0.262949</td>\n",
       "      <td>0.139376</td>\n",
       "    </tr>\n",
       "    <tr>\n",
       "      <th>1</th>\n",
       "      <td>-16765</td>\n",
       "      <td>1</td>\n",
       "      <td>1</td>\n",
       "      <td>-1188</td>\n",
       "      <td>0.311267</td>\n",
       "      <td>0.622246</td>\n",
       "      <td>NaN</td>\n",
       "    </tr>\n",
       "    <tr>\n",
       "      <th>2</th>\n",
       "      <td>-19046</td>\n",
       "      <td>0</td>\n",
       "      <td>0</td>\n",
       "      <td>-225</td>\n",
       "      <td>NaN</td>\n",
       "      <td>0.555912</td>\n",
       "      <td>0.729567</td>\n",
       "    </tr>\n",
       "    <tr>\n",
       "      <th>3</th>\n",
       "      <td>-19005</td>\n",
       "      <td>0</td>\n",
       "      <td>0</td>\n",
       "      <td>-3039</td>\n",
       "      <td>NaN</td>\n",
       "      <td>0.650442</td>\n",
       "      <td>NaN</td>\n",
       "    </tr>\n",
       "    <tr>\n",
       "      <th>4</th>\n",
       "      <td>-19932</td>\n",
       "      <td>0</td>\n",
       "      <td>0</td>\n",
       "      <td>-3038</td>\n",
       "      <td>NaN</td>\n",
       "      <td>0.322738</td>\n",
       "      <td>NaN</td>\n",
       "    </tr>\n",
       "  </tbody>\n",
       "</table>\n",
       "</div>"
      ],
      "text/plain": [
       "   DAYS_BIRTH  NAME_EDUCATION_TYPE  NAME_INCOME_TYPE  DAYS_EMPLOYED  \\\n",
       "0       -9461                    0                 0           -637   \n",
       "1      -16765                    1                 1          -1188   \n",
       "2      -19046                    0                 0           -225   \n",
       "3      -19005                    0                 0          -3039   \n",
       "4      -19932                    0                 0          -3038   \n",
       "\n",
       "   EXT_SOURCE_1  EXT_SOURCE_2  EXT_SOURCE_3  \n",
       "0      0.083037      0.262949      0.139376  \n",
       "1      0.311267      0.622246           NaN  \n",
       "2           NaN      0.555912      0.729567  \n",
       "3           NaN      0.650442           NaN  \n",
       "4           NaN      0.322738           NaN  "
      ]
     },
     "execution_count": 37,
     "metadata": {},
     "output_type": "execute_result"
    }
   ],
   "source": [
    "train_test.head()"
   ]
  },
  {
   "cell_type": "code",
   "execution_count": 40,
   "metadata": {
    "ExecuteTime": {
     "end_time": "2018-07-11T18:22:46.503084Z",
     "start_time": "2018-07-11T18:22:42.725978Z"
    }
   },
   "outputs": [
    {
     "data": {
      "text/html": [
       "<div>\n",
       "<style scoped>\n",
       "    .dataframe tbody tr th:only-of-type {\n",
       "        vertical-align: middle;\n",
       "    }\n",
       "\n",
       "    .dataframe tbody tr th {\n",
       "        vertical-align: top;\n",
       "    }\n",
       "\n",
       "    .dataframe thead th {\n",
       "        text-align: right;\n",
       "    }\n",
       "</style>\n",
       "<table border=\"1\" class=\"dataframe\">\n",
       "  <thead>\n",
       "    <tr style=\"text-align: right;\">\n",
       "      <th></th>\n",
       "      <th>DAYS_BIRTH</th>\n",
       "      <th>NAME_EDUCATION_TYPE</th>\n",
       "      <th>NAME_INCOME_TYPE</th>\n",
       "      <th>DAYS_EMPLOYED</th>\n",
       "      <th>EXT_SOURCE_1</th>\n",
       "      <th>EXT_SOURCE_2</th>\n",
       "      <th>EXT_SOURCE_3</th>\n",
       "    </tr>\n",
       "  </thead>\n",
       "  <tbody>\n",
       "    <tr>\n",
       "      <th>DAYS_BIRTH</th>\n",
       "      <td>1.000000</td>\n",
       "      <td>0.165168</td>\n",
       "      <td>-0.434971</td>\n",
       "      <td>-0.222606</td>\n",
       "      <td>-0.600176</td>\n",
       "      <td>-0.102158</td>\n",
       "      <td>-0.205208</td>\n",
       "    </tr>\n",
       "    <tr>\n",
       "      <th>NAME_EDUCATION_TYPE</th>\n",
       "      <td>0.165168</td>\n",
       "      <td>1.000000</td>\n",
       "      <td>0.011242</td>\n",
       "      <td>-0.044485</td>\n",
       "      <td>0.075638</td>\n",
       "      <td>0.103026</td>\n",
       "      <td>-0.042517</td>\n",
       "    </tr>\n",
       "    <tr>\n",
       "      <th>NAME_INCOME_TYPE</th>\n",
       "      <td>-0.434971</td>\n",
       "      <td>0.011242</td>\n",
       "      <td>1.000000</td>\n",
       "      <td>0.487801</td>\n",
       "      <td>0.231165</td>\n",
       "      <td>0.056645</td>\n",
       "      <td>0.089174</td>\n",
       "    </tr>\n",
       "    <tr>\n",
       "      <th>DAYS_EMPLOYED</th>\n",
       "      <td>-0.222606</td>\n",
       "      <td>-0.044485</td>\n",
       "      <td>0.487801</td>\n",
       "      <td>1.000000</td>\n",
       "      <td>-0.034282</td>\n",
       "      <td>-0.084061</td>\n",
       "      <td>-0.013565</td>\n",
       "    </tr>\n",
       "    <tr>\n",
       "      <th>EXT_SOURCE_1</th>\n",
       "      <td>-0.600176</td>\n",
       "      <td>0.075638</td>\n",
       "      <td>0.231165</td>\n",
       "      <td>-0.034282</td>\n",
       "      <td>1.000000</td>\n",
       "      <td>0.220776</td>\n",
       "      <td>0.181127</td>\n",
       "    </tr>\n",
       "    <tr>\n",
       "      <th>EXT_SOURCE_2</th>\n",
       "      <td>-0.102158</td>\n",
       "      <td>0.103026</td>\n",
       "      <td>0.056645</td>\n",
       "      <td>-0.084061</td>\n",
       "      <td>0.220776</td>\n",
       "      <td>1.000000</td>\n",
       "      <td>0.106182</td>\n",
       "    </tr>\n",
       "    <tr>\n",
       "      <th>EXT_SOURCE_3</th>\n",
       "      <td>-0.205208</td>\n",
       "      <td>-0.042517</td>\n",
       "      <td>0.089174</td>\n",
       "      <td>-0.013565</td>\n",
       "      <td>0.181127</td>\n",
       "      <td>0.106182</td>\n",
       "      <td>1.000000</td>\n",
       "    </tr>\n",
       "  </tbody>\n",
       "</table>\n",
       "</div>"
      ],
      "text/plain": [
       "                     DAYS_BIRTH  NAME_EDUCATION_TYPE  NAME_INCOME_TYPE  \\\n",
       "DAYS_BIRTH             1.000000             0.165168         -0.434971   \n",
       "NAME_EDUCATION_TYPE    0.165168             1.000000          0.011242   \n",
       "NAME_INCOME_TYPE      -0.434971             0.011242          1.000000   \n",
       "DAYS_EMPLOYED         -0.222606            -0.044485          0.487801   \n",
       "EXT_SOURCE_1          -0.600176             0.075638          0.231165   \n",
       "EXT_SOURCE_2          -0.102158             0.103026          0.056645   \n",
       "EXT_SOURCE_3          -0.205208            -0.042517          0.089174   \n",
       "\n",
       "                     DAYS_EMPLOYED  EXT_SOURCE_1  EXT_SOURCE_2  EXT_SOURCE_3  \n",
       "DAYS_BIRTH               -0.222606     -0.600176     -0.102158     -0.205208  \n",
       "NAME_EDUCATION_TYPE      -0.044485      0.075638      0.103026     -0.042517  \n",
       "NAME_INCOME_TYPE          0.487801      0.231165      0.056645      0.089174  \n",
       "DAYS_EMPLOYED             1.000000     -0.034282     -0.084061     -0.013565  \n",
       "EXT_SOURCE_1             -0.034282      1.000000      0.220776      0.181127  \n",
       "EXT_SOURCE_2             -0.084061      0.220776      1.000000      0.106182  \n",
       "EXT_SOURCE_3             -0.013565      0.181127      0.106182      1.000000  "
      ]
     },
     "execution_count": 40,
     "metadata": {},
     "output_type": "execute_result"
    }
   ],
   "source": [
    "train_test.corr(method = 'spearman')"
   ]
  },
  {
   "cell_type": "code",
   "execution_count": 41,
   "metadata": {
    "ExecuteTime": {
     "end_time": "2018-07-11T18:26:49.013571Z",
     "start_time": "2018-07-11T18:26:48.746143Z"
    },
    "collapsed": true
   },
   "outputs": [
    {
     "name": "stderr",
     "output_type": "stream",
     "text": [
      "/home/kai/anaconda3/lib/python3.6/site-packages/ipykernel_launcher.py:3: SettingWithCopyWarning: \n",
      "A value is trying to be set on a copy of a slice from a DataFrame.\n",
      "Try using .loc[row_indexer,col_indexer] = value instead\n",
      "\n",
      "See the caveats in the documentation: http://pandas.pydata.org/pandas-docs/stable/indexing.html#indexing-view-versus-copy\n",
      "  This is separate from the ipykernel package so we can avoid doing imports until\n",
      "/home/kai/anaconda3/lib/python3.6/site-packages/ipykernel_launcher.py:4: SettingWithCopyWarning: \n",
      "A value is trying to be set on a copy of a slice from a DataFrame.\n",
      "Try using .loc[row_indexer,col_indexer] = value instead\n",
      "\n",
      "See the caveats in the documentation: http://pandas.pydata.org/pandas-docs/stable/indexing.html#indexing-view-versus-copy\n",
      "  after removing the cwd from sys.path.\n",
      "/home/kai/anaconda3/lib/python3.6/site-packages/ipykernel_launcher.py:5: SettingWithCopyWarning: \n",
      "A value is trying to be set on a copy of a slice from a DataFrame.\n",
      "Try using .loc[row_indexer,col_indexer] = value instead\n",
      "\n",
      "See the caveats in the documentation: http://pandas.pydata.org/pandas-docs/stable/indexing.html#indexing-view-versus-copy\n",
      "  \"\"\"\n",
      "/home/kai/anaconda3/lib/python3.6/site-packages/ipykernel_launcher.py:6: SettingWithCopyWarning: \n",
      "A value is trying to be set on a copy of a slice from a DataFrame.\n",
      "Try using .loc[row_indexer,col_indexer] = value instead\n",
      "\n",
      "See the caveats in the documentation: http://pandas.pydata.org/pandas-docs/stable/indexing.html#indexing-view-versus-copy\n",
      "  \n"
     ]
    }
   ],
   "source": [
    "# ext_1\n",
    "ext_1_list = ['oneoverext_1', 'double_1','oneminusext_1','triple_1']\n",
    "train_test['oneoverext_1'] = 1/train_test['EXT_SOURCE_1']\n",
    "train_test['double_1'] = train_test['EXT_SOURCE_1'] ** 2\n",
    "train_test['triple_1'] = train_test['EXT_SOURCE_1'] ** 3\n",
    "train_test['oneminusext_1'] = 1 - train_test['EXT_SOURCE_1']"
   ]
  },
  {
   "cell_type": "code",
   "execution_count": 42,
   "metadata": {
    "ExecuteTime": {
     "end_time": "2018-07-11T18:27:27.978585Z",
     "start_time": "2018-07-11T18:27:26.141161Z"
    }
   },
   "outputs": [
    {
     "data": {
      "text/html": [
       "<div>\n",
       "<style scoped>\n",
       "    .dataframe tbody tr th:only-of-type {\n",
       "        vertical-align: middle;\n",
       "    }\n",
       "\n",
       "    .dataframe tbody tr th {\n",
       "        vertical-align: top;\n",
       "    }\n",
       "\n",
       "    .dataframe thead th {\n",
       "        text-align: right;\n",
       "    }\n",
       "</style>\n",
       "<table border=\"1\" class=\"dataframe\">\n",
       "  <thead>\n",
       "    <tr style=\"text-align: right;\">\n",
       "      <th></th>\n",
       "      <th>oneoverext_1</th>\n",
       "      <th>double_1</th>\n",
       "      <th>oneminusext_1</th>\n",
       "      <th>triple_1</th>\n",
       "      <th>DAYS_BIRTH</th>\n",
       "      <th>NAME_EDUCATION_TYPE</th>\n",
       "      <th>NAME_INCOME_TYPE</th>\n",
       "      <th>DAYS_EMPLOYED</th>\n",
       "    </tr>\n",
       "  </thead>\n",
       "  <tbody>\n",
       "    <tr>\n",
       "      <th>oneoverext_1</th>\n",
       "      <td>1.000000</td>\n",
       "      <td>-1.000000</td>\n",
       "      <td>1.000000</td>\n",
       "      <td>-1.000000</td>\n",
       "      <td>0.600176</td>\n",
       "      <td>-0.075638</td>\n",
       "      <td>-0.231165</td>\n",
       "      <td>0.034282</td>\n",
       "    </tr>\n",
       "    <tr>\n",
       "      <th>double_1</th>\n",
       "      <td>-1.000000</td>\n",
       "      <td>1.000000</td>\n",
       "      <td>-1.000000</td>\n",
       "      <td>1.000000</td>\n",
       "      <td>-0.600176</td>\n",
       "      <td>0.075638</td>\n",
       "      <td>0.231165</td>\n",
       "      <td>-0.034282</td>\n",
       "    </tr>\n",
       "    <tr>\n",
       "      <th>oneminusext_1</th>\n",
       "      <td>1.000000</td>\n",
       "      <td>-1.000000</td>\n",
       "      <td>1.000000</td>\n",
       "      <td>-1.000000</td>\n",
       "      <td>0.600176</td>\n",
       "      <td>-0.075638</td>\n",
       "      <td>-0.231165</td>\n",
       "      <td>0.034282</td>\n",
       "    </tr>\n",
       "    <tr>\n",
       "      <th>triple_1</th>\n",
       "      <td>-1.000000</td>\n",
       "      <td>1.000000</td>\n",
       "      <td>-1.000000</td>\n",
       "      <td>1.000000</td>\n",
       "      <td>-0.600176</td>\n",
       "      <td>0.075638</td>\n",
       "      <td>0.231165</td>\n",
       "      <td>-0.034282</td>\n",
       "    </tr>\n",
       "    <tr>\n",
       "      <th>DAYS_BIRTH</th>\n",
       "      <td>0.600176</td>\n",
       "      <td>-0.600176</td>\n",
       "      <td>0.600176</td>\n",
       "      <td>-0.600176</td>\n",
       "      <td>1.000000</td>\n",
       "      <td>0.165168</td>\n",
       "      <td>-0.434971</td>\n",
       "      <td>-0.222606</td>\n",
       "    </tr>\n",
       "    <tr>\n",
       "      <th>NAME_EDUCATION_TYPE</th>\n",
       "      <td>-0.075638</td>\n",
       "      <td>0.075638</td>\n",
       "      <td>-0.075638</td>\n",
       "      <td>0.075638</td>\n",
       "      <td>0.165168</td>\n",
       "      <td>1.000000</td>\n",
       "      <td>0.011242</td>\n",
       "      <td>-0.044485</td>\n",
       "    </tr>\n",
       "    <tr>\n",
       "      <th>NAME_INCOME_TYPE</th>\n",
       "      <td>-0.231165</td>\n",
       "      <td>0.231165</td>\n",
       "      <td>-0.231165</td>\n",
       "      <td>0.231165</td>\n",
       "      <td>-0.434971</td>\n",
       "      <td>0.011242</td>\n",
       "      <td>1.000000</td>\n",
       "      <td>0.487801</td>\n",
       "    </tr>\n",
       "    <tr>\n",
       "      <th>DAYS_EMPLOYED</th>\n",
       "      <td>0.034282</td>\n",
       "      <td>-0.034282</td>\n",
       "      <td>0.034282</td>\n",
       "      <td>-0.034282</td>\n",
       "      <td>-0.222606</td>\n",
       "      <td>-0.044485</td>\n",
       "      <td>0.487801</td>\n",
       "      <td>1.000000</td>\n",
       "    </tr>\n",
       "  </tbody>\n",
       "</table>\n",
       "</div>"
      ],
      "text/plain": [
       "                     oneoverext_1  double_1  oneminusext_1  triple_1  \\\n",
       "oneoverext_1             1.000000 -1.000000       1.000000 -1.000000   \n",
       "double_1                -1.000000  1.000000      -1.000000  1.000000   \n",
       "oneminusext_1            1.000000 -1.000000       1.000000 -1.000000   \n",
       "triple_1                -1.000000  1.000000      -1.000000  1.000000   \n",
       "DAYS_BIRTH               0.600176 -0.600176       0.600176 -0.600176   \n",
       "NAME_EDUCATION_TYPE     -0.075638  0.075638      -0.075638  0.075638   \n",
       "NAME_INCOME_TYPE        -0.231165  0.231165      -0.231165  0.231165   \n",
       "DAYS_EMPLOYED            0.034282 -0.034282       0.034282 -0.034282   \n",
       "\n",
       "                     DAYS_BIRTH  NAME_EDUCATION_TYPE  NAME_INCOME_TYPE  \\\n",
       "oneoverext_1           0.600176            -0.075638         -0.231165   \n",
       "double_1              -0.600176             0.075638          0.231165   \n",
       "oneminusext_1          0.600176            -0.075638         -0.231165   \n",
       "triple_1              -0.600176             0.075638          0.231165   \n",
       "DAYS_BIRTH             1.000000             0.165168         -0.434971   \n",
       "NAME_EDUCATION_TYPE    0.165168             1.000000          0.011242   \n",
       "NAME_INCOME_TYPE      -0.434971             0.011242          1.000000   \n",
       "DAYS_EMPLOYED         -0.222606            -0.044485          0.487801   \n",
       "\n",
       "                     DAYS_EMPLOYED  \n",
       "oneoverext_1              0.034282  \n",
       "double_1                 -0.034282  \n",
       "oneminusext_1             0.034282  \n",
       "triple_1                 -0.034282  \n",
       "DAYS_BIRTH               -0.222606  \n",
       "NAME_EDUCATION_TYPE      -0.044485  \n",
       "NAME_INCOME_TYPE          0.487801  \n",
       "DAYS_EMPLOYED             1.000000  "
      ]
     },
     "execution_count": 42,
     "metadata": {},
     "output_type": "execute_result"
    }
   ],
   "source": [
    "train_1 = train_test[ext_1_list + examine_list]\n",
    "train_1.corr(method = 'spearman')"
   ]
  },
  {
   "cell_type": "code",
   "execution_count": 1,
   "metadata": {
    "ExecuteTime": {
     "end_time": "2018-07-11T18:59:04.236571Z",
     "start_time": "2018-07-11T18:59:02.453490Z"
    }
   },
   "outputs": [],
   "source": [
    "import os\n",
    "import numpy as np\n",
    "import pandas as pd\n",
    "import gc\n",
    "import time\n",
    "from contextlib import contextmanager\n",
    "from lightgbm import LGBMClassifier\n",
    "from sklearn.metrics import roc_auc_score, roc_curve\n",
    "from sklearn.model_selection import KFold, StratifiedKFold\n",
    "import matplotlib.pyplot as plt\n",
    "import seaborn as sns\n",
    "import warnings\n",
    "PATH = '/home/kai/data/kaggle/homecredit/'\n",
    "\n",
    "pred_803 = pd.read_csv(PATH + 'submission/blend1.csv')\n",
    "pred_800 = pd.read_csv(PATH + 'submission/06_29_0.csv')\n",
    "pred_2 = pd.read_csv(PATH +'test_2/pred_2.csv')\n",
    "pred_3 = pd.read_csv(PATH +'test_2/pred_3.csv')"
   ]
  },
  {
   "cell_type": "code",
   "execution_count": 2,
   "metadata": {
    "ExecuteTime": {
     "end_time": "2018-07-11T18:59:06.946563Z",
     "start_time": "2018-07-11T18:59:06.940335Z"
    }
   },
   "outputs": [],
   "source": [
    "# change 803 < 0.005 to zero\n",
    "# change 800 > 0.5 to 0.5\n",
    "x = pred_803.TARGET < 0.005\n",
    "y = pred_803.TARGET > 0.5\n",
    "z = pred_800.TARGET > 0.5"
   ]
  },
  {
   "cell_type": "code",
   "execution_count": 3,
   "metadata": {
    "ExecuteTime": {
     "end_time": "2018-07-11T18:59:08.161817Z",
     "start_time": "2018-07-11T18:59:08.152762Z"
    }
   },
   "outputs": [
    {
     "name": "stdout",
     "output_type": "stream",
     "text": [
      "313 316 191\n"
     ]
    }
   ],
   "source": [
    "print(x.sum(),y.sum(), z.sum())"
   ]
  },
  {
   "cell_type": "code",
   "execution_count": 11,
   "metadata": {
    "ExecuteTime": {
     "end_time": "2018-07-11T19:09:48.029872Z",
     "start_time": "2018-07-11T19:09:48.021007Z"
    }
   },
   "outputs": [
    {
     "data": {
      "text/plain": [
       "214"
      ]
     },
     "execution_count": 11,
     "metadata": {},
     "output_type": "execute_result"
    }
   ],
   "source": [
    "t = pred_3.TARGET > 0.5\n",
    "t.sum()\n",
    "pred_3.loc[t, 'TARGET'] = 1"
   ]
  },
  {
   "cell_type": "code",
   "execution_count": 8,
   "metadata": {
    "ExecuteTime": {
     "end_time": "2018-07-11T19:02:07.284569Z",
     "start_time": "2018-07-11T19:02:07.273733Z"
    }
   },
   "outputs": [],
   "source": [
    "pred_803.loc[x, 'TARGET'] = 0\n",
    "\n",
    "blend2 = pred_803.copy()\n",
    "blend2.TARGET = pred_803.TARGET * 0.8 + pred_800.TARGET* 0.05 + pred_3.TARGET * 0.15"
   ]
  },
  {
   "cell_type": "code",
   "execution_count": 10,
   "metadata": {
    "ExecuteTime": {
     "end_time": "2018-07-11T19:02:30.944703Z",
     "start_time": "2018-07-11T19:02:30.518340Z"
    }
   },
   "outputs": [],
   "source": [
    "(blend2.TARGET >0.5).sum()\n",
    "blend2.to_csv(PATH + 'submission/blend2.csv', index = False)"
   ]
  },
  {
   "cell_type": "code",
   "execution_count": 14,
   "metadata": {
    "ExecuteTime": {
     "end_time": "2018-07-11T19:11:29.319967Z",
     "start_time": "2018-07-11T19:11:29.311577Z"
    }
   },
   "outputs": [
    {
     "data": {
      "text/plain": [
       "275"
      ]
     },
     "execution_count": 14,
     "metadata": {},
     "output_type": "execute_result"
    }
   ],
   "source": [
    "(blend2.TARGET > 0.5).sum()"
   ]
  },
  {
   "cell_type": "code",
   "execution_count": 12,
   "metadata": {
    "ExecuteTime": {
     "end_time": "2018-07-11T19:11:10.163903Z",
     "start_time": "2018-07-11T19:11:10.153379Z"
    }
   },
   "outputs": [],
   "source": [
    "t = pred_3.TARGET > 0.5\n",
    "t.sum()\n",
    "pred_3.loc[t, 'TARGET'] = 1\n",
    "blend3 = pred_803.copy()\n",
    "blend3.TARGET = pred_803.TARGET * 0.8 + pred_3.TARGET * 0.2"
   ]
  },
  {
   "cell_type": "code",
   "execution_count": 13,
   "metadata": {
    "ExecuteTime": {
     "end_time": "2018-07-11T19:11:24.522868Z",
     "start_time": "2018-07-11T19:11:24.514493Z"
    }
   },
   "outputs": [
    {
     "data": {
      "text/plain": [
       "302"
      ]
     },
     "execution_count": 13,
     "metadata": {},
     "output_type": "execute_result"
    }
   ],
   "source": [
    "(blend3.TARGET >0.5).sum()"
   ]
  },
  {
   "cell_type": "code",
   "execution_count": 15,
   "metadata": {
    "ExecuteTime": {
     "end_time": "2018-07-11T19:12:01.366709Z",
     "start_time": "2018-07-11T19:12:00.936124Z"
    }
   },
   "outputs": [],
   "source": [
    "blend3.to_csv(PATH + 'submission/blend3.csv', index = False)"
   ]
  },
  {
   "cell_type": "code",
   "execution_count": null,
   "metadata": {},
   "outputs": [],
   "source": []
  }
 ],
 "metadata": {
  "kernelspec": {
   "display_name": "Python 3",
   "language": "python",
   "name": "python3"
  },
  "varInspector": {
   "cols": {
    "lenName": 16,
    "lenType": 16,
    "lenVar": 40
   },
   "kernels_config": {
    "python": {
     "delete_cmd_postfix": "",
     "delete_cmd_prefix": "del ",
     "library": "var_list.py",
     "varRefreshCmd": "print(var_dic_list())"
    },
    "r": {
     "delete_cmd_postfix": ") ",
     "delete_cmd_prefix": "rm(",
     "library": "var_list.r",
     "varRefreshCmd": "cat(var_dic_list()) "
    }
   },
   "types_to_exclude": [
    "module",
    "function",
    "builtin_function_or_method",
    "instance",
    "_Feature"
   ],
   "window_display": false
  }
 },
 "nbformat": 4,
 "nbformat_minor": 2
}
