{
 "cells": [
  {
   "cell_type": "code",
   "execution_count": 1,
   "metadata": {
    "ExecuteTime": {
     "end_time": "2018-06-28T18:54:03.079391Z",
     "start_time": "2018-06-28T18:53:30.733371Z"
    }
   },
   "outputs": [
    {
     "name": "stdout",
     "output_type": "stream",
     "text": [
      "bshape (1716428, 17)\n",
      "dfshaoe (356255, 1)\n"
     ]
    }
   ],
   "source": [
    "import pandas as pd\n",
    "\n",
    "PATH = '/home/kai/data/kaggle/homecredit/'\n",
    "\n",
    "train = pd.read_csv(PATH + 'application_train.csv')\n",
    "test = pd.read_csv(PATH + 'application_test.csv')\n",
    "bureau = pd.read_csv(PATH + 'bureau.csv')\n",
    "bb = pd.read_csv(PATH + 'bureau_balance.csv')\n",
    "b = bureau.copy()\n",
    "'done'\n",
    "df = pd.concat([train[['SK_ID_CURR']], test[['SK_ID_CURR']]], axis = 0)\n",
    "print('bshape',b.shape)\n",
    "print('dfshaoe',df.shape)"
   ]
  },
  {
   "cell_type": "markdown",
   "metadata": {},
   "source": [
    "## Functions"
   ]
  },
  {
   "cell_type": "code",
   "execution_count": 2,
   "metadata": {
    "ExecuteTime": {
     "end_time": "2018-06-28T18:54:03.155150Z",
     "start_time": "2018-06-28T18:54:03.101800Z"
    }
   },
   "outputs": [
    {
     "data": {
      "text/plain": [
       "'done'"
      ]
     },
     "execution_count": 2,
     "metadata": {},
     "output_type": "execute_result"
    }
   ],
   "source": [
    "def minus_name(col1, col2): return col1 + '_minus_' + col2\n",
    "def minus(df, col1, col2): return df[col1] - df[col2]\n",
    "\n",
    "def multi_name(col1, col2): return col1 + '_times_' + col2\n",
    "def multi(df, col1, col2): return df[col1] * df[col2]\n",
    "\n",
    "def ratio_name(col1, col2): return col1 + '_divide_' + col2\n",
    "def ratio(df, col1, col2): return df[col1] / (df[col2] + 1)\n",
    "\n",
    "def positive_count(df, gp_col, col):\n",
    "    group = (df[col] > 0).astype('int8')\n",
    "    group = pd.concat([df[gp_col], group], axis=1).groupby(gp_col)[[col]].sum().reset_index().rename(index=str, columns={col: 'positivecount_'+'_'.join([gp_col, col])})\n",
    "    return group.astype({gp_col: df[gp_col].dtype})\n",
    "\n",
    "def count(df, gp_col, col):\n",
    "    group = df[[gp_col,col]].groupby(gp_col)[[col]].count().reset_index().rename(index=str, columns={col:'count_'+gp_col})\n",
    "    return group.astype({gp_col: df[gp_col].dtype})\n",
    "\n",
    "def numerical(df, gp_col, col, agg_fun):\n",
    "    _df = df.groupby(gp_col)[[col]].agg(agg_fun)\n",
    "    \n",
    "    columns = []\n",
    "    for x in _df.columns.levels[0]:\n",
    "        for y in _df.columns.levels[1]:\n",
    "            columns.append('_'.join([x, y]))\n",
    "    _df.columns = columns\n",
    "    return _df.reset_index().astype({gp_col: df[gp_col].dtype})\n",
    "\n",
    "def one_hot(df, gp_col, col):\n",
    "    return pd.concat([df[gp_col], pd.get_dummies(df[col], prefix='onehot_' + col)], axis=1).groupby(gp_col).sum().reset_index().astype({gp_col: df[gp_col].dtype})\n",
    "\n",
    "'done'"
   ]
  },
  {
   "cell_type": "markdown",
   "metadata": {},
   "source": [
    "## Length of history\n",
    "## Define _day minus days_credit, as the length of the credit, and construct weighted days_credit, then sum & merge"
   ]
  },
  {
   "cell_type": "code",
   "execution_count": 3,
   "metadata": {
    "ExecuteTime": {
     "end_time": "2018-06-28T18:54:03.587223Z",
     "start_time": "2018-06-28T18:54:03.162041Z"
    }
   },
   "outputs": [
    {
     "name": "stdout",
     "output_type": "stream",
     "text": [
      "CREDIT_DAY_OVERDUE_minus_DAYS_CREDIT lengthof positive, 1.0\n",
      "DAYS_CREDIT_ENDDATE_minus_DAYS_CREDIT lengthof positive, 0.9384087185713587\n",
      "DAYS_ENDDATE_FACT_minus_DAYS_CREDIT lengthof positive, 0.6308187701435772\n",
      "DAYS_CREDIT_UPDATE_minus_DAYS_CREDIT lengthof positive, 0.9999213482884223\n",
      "bshape (1716428, 21)\n",
      "dfshaoe (356255, 1)\n"
     ]
    }
   ],
   "source": [
    "# Smallest among them is days credit\n",
    "days_list = ['DAYS_CREDIT', 'CREDIT_DAY_OVERDUE', 'DAYS_CREDIT_ENDDATE',\n",
    "       'DAYS_ENDDATE_FACT','DAYS_CREDIT_UPDATE']\n",
    "days = ['CREDIT_DAY_OVERDUE', 'DAYS_CREDIT_ENDDATE',\n",
    "       'DAYS_ENDDATE_FACT','DAYS_CREDIT_UPDATE']\n",
    "\n",
    "for col in days:\n",
    "    tmp = minus_name(col, 'DAYS_CREDIT')\n",
    "    b[tmp] = minus(b, col, 'DAYS_CREDIT')\n",
    "    print(tmp,'lengthof positive,', (b[tmp]>=0).sum()/len(b))\n",
    "print('bshape',b.shape)\n",
    "print('dfshaoe',df.shape)"
   ]
  },
  {
   "cell_type": "code",
   "execution_count": 4,
   "metadata": {
    "ExecuteTime": {
     "end_time": "2018-06-28T18:54:10.857267Z",
     "start_time": "2018-06-28T18:54:03.598169Z"
    }
   },
   "outputs": [
    {
     "name": "stdout",
     "output_type": "stream",
     "text": [
      "bshape (1716428, 21)\n",
      "dfshaoe (356255, 1)\n"
     ]
    }
   ],
   "source": [
    "# Do a little fixing for two columns, so that the minus is always non-negative\n",
    "col_fix = ['DAYS_CREDIT_UPDATE_minus_DAYS_CREDIT','DAYS_CREDIT_ENDDATE_minus_DAYS_CREDIT','DAYS_ENDDATE_FACT_minus_DAYS_CREDIT','CREDIT_DAY_OVERDUE_minus_DAYS_CREDIT']\n",
    "for col in col_fix:\n",
    "    b[col].fillna(0, inplace = True)\n",
    "    x = b[col]<0\n",
    "    b.loc[x] = 0\n",
    "#     print( tmp,'neg',(b[tmp]<0).sum())\n",
    "print('bshape',b.shape)\n",
    "print('dfshaoe',df.shape)"
   ]
  },
  {
   "cell_type": "code",
   "execution_count": 5,
   "metadata": {
    "ExecuteTime": {
     "end_time": "2018-06-28T18:54:10.870004Z",
     "start_time": "2018-06-28T18:54:10.863451Z"
    }
   },
   "outputs": [],
   "source": [
    "# import numpy as np\n",
    "# tmp = 1 + np.sqrt(  abs(b['DAYS_CREDIT']) / 365 )\n",
    "# b['WGT_DAYS_CREDIT'] = 1/( 1 + np.sqrt(  abs(b['DAYS_CREDIT']) / 365 ) )\n",
    "\n",
    "# b['WGT_credit_length1'] = b['WGT_DAYS_CREDIT'] * b['CREDIT_DAY_OVERDUE_minus_DAYS_CREDIT']\n",
    "# b['WGT_credit_length2'] = b['WGT_DAYS_CREDIT'] * b['DAYS_CREDIT_UPDATE_minus_DAYS_CREDIT']\n",
    "# print('bshape',b.shape)\n",
    "# print('dfshaoe',df.shape)"
   ]
  },
  {
   "cell_type": "markdown",
   "metadata": {},
   "source": [
    "# Some other days substraction"
   ]
  },
  {
   "cell_type": "code",
   "execution_count": 6,
   "metadata": {
    "ExecuteTime": {
     "end_time": "2018-06-28T18:54:11.021479Z",
     "start_time": "2018-06-28T18:54:10.874992Z"
    },
    "scrolled": true
   },
   "outputs": [
    {
     "name": "stdout",
     "output_type": "stream",
     "text": [
      "bshape (1716428, 23)\n",
      "dfshaoe (356255, 1)\n",
      "AMT_CREDIT_SUM_DEBT_divide_DAYS_CREDIT_UPDATE_minus_DAYS_CREDIT_ENDDATE\n",
      "AMT_CREDIT_SUM_DEBT_divide_DAYS_ENDDATE_FACT_minus_DAYS_CREDIT\n",
      "AMT_CREDIT_SUM_divide_DAYS_CREDIT_UPDATE_minus_DAYS_CREDIT_ENDDATE\n",
      "AMT_CREDIT_SUM_divide_DAYS_ENDDATE_FACT_minus_DAYS_CREDIT\n",
      "AMT_CREDIT_SUM_LIMIT_divide_DAYS_CREDIT_UPDATE_minus_DAYS_CREDIT_ENDDATE\n",
      "AMT_CREDIT_SUM_LIMIT_divide_DAYS_ENDDATE_FACT_minus_DAYS_CREDIT\n",
      "(1716428, 29)\n"
     ]
    }
   ],
   "source": [
    "days_list = ['DAYS_CREDIT', 'CREDIT_DAY_OVERDUE', 'DAYS_CREDIT_ENDDATE',\n",
    "       'DAYS_ENDDATE_FACT','DAYS_CREDIT_UPDATE']\n",
    "\n",
    "def minus_name(col1, col2): return col1 + '_minus_' + col2\n",
    "def minus(df, col1, col2): return df[col1] - df[col2]\n",
    "\n",
    "b[minus_name('CREDIT_DAY_OVERDUE', 'DAYS_CREDIT_UPDATE')] = minus(b, 'CREDIT_DAY_OVERDUE', 'DAYS_CREDIT_UPDATE')\n",
    "# b[minus_name('CREDIT_DAY_OVERDUE', 'DAYS_ENDDATE_FACT')] =  minus(b, 'CREDIT_DAY_OVERDUE', 'DAYS_ENDDATE_FACT')\n",
    "b[minus_name('DAYS_CREDIT_UPDATE', 'DAYS_CREDIT_ENDDATE')] =  minus(b, 'DAYS_CREDIT_UPDATE', 'DAYS_CREDIT_ENDDATE')\n",
    "# b[minus_name('DAYS_CREDIT_UPDATE', 'DAYS_ENDDATE_FACT')] =  minus(b, 'DAYS_CREDIT_UPDATE', 'DAYS_ENDDATE_FACT')\n",
    "print('bshape',b.shape)\n",
    "print('dfshaoe',df.shape)\n",
    "\n",
    "'''\n",
    "AMT_CREDIT_SUM_DEBT : WGT_DAYS_CREDIT ,DAYS_ENDDATE_FACT\n",
    "AMT_CREDIT_SUM      : DAYS_CREDIT_UPDATE_minus_DAYS_CREDIT_ENDDATE\n",
    "                    : DAYS_ENDDATE_FACT_minus_DAYS_CREDIT\n",
    "\n",
    "\n",
    "'''\n",
    "top = ['AMT_CREDIT_SUM_DEBT', 'AMT_CREDIT_SUM','AMT_CREDIT_SUM_LIMIT']\n",
    "bot = [ 'DAYS_CREDIT_UPDATE_minus_DAYS_CREDIT_ENDDATE', 'DAYS_ENDDATE_FACT_minus_DAYS_CREDIT' ]\n",
    "for i in top:\n",
    "    for j in bot:\n",
    "        print(ratio_name(i,j))\n",
    "        b[ratio_name(i,j)] = ratio(b, i, j)\n",
    "        \n",
    "print(b.shape)"
   ]
  },
  {
   "cell_type": "markdown",
   "metadata": {},
   "source": [
    "#  credit types:"
   ]
  },
  {
   "cell_type": "code",
   "execution_count": 7,
   "metadata": {
    "ExecuteTime": {
     "end_time": "2018-06-28T18:54:16.656747Z",
     "start_time": "2018-06-28T18:54:11.027907Z"
    }
   },
   "outputs": [
    {
     "name": "stdout",
     "output_type": "stream",
     "text": [
      "CREDIT_TYPE\n",
      "CREDIT_CURRENCY\n",
      "CREDIT_ACTIVE\n"
     ]
    }
   ],
   "source": [
    "# Types of credits: credit-type, credit_currency\n",
    "# For a certain id_curr, do nunique, count, one hot encoding(then count)\n",
    "gp_col = 'SK_ID_CURR'\n",
    "col = ['CREDIT_TYPE','CREDIT_CURRENCY', 'CREDIT_ACTIVE']\n",
    "for x in col:\n",
    "    print(x)\n",
    "    group1 = b[[gp_col, x]].groupby(gp_col)[[x]].nunique().reset_index().rename(index = str, columns = {x:'unique_'+x})\n",
    "    col = 'SK_ID_CURR'\n",
    "    df = df.merge(group1, on  = gp_col, how = 'left')"
   ]
  },
  {
   "cell_type": "markdown",
   "metadata": {},
   "source": [
    "# Besides ratios, and numerical, final processing: haoyan's version"
   ]
  },
  {
   "cell_type": "markdown",
   "metadata": {},
   "source": [
    "# Others"
   ]
  },
  {
   "cell_type": "code",
   "execution_count": 9,
   "metadata": {
    "ExecuteTime": {
     "end_time": "2018-06-28T18:54:49.228938Z",
     "start_time": "2018-06-28T18:54:48.774721Z"
    }
   },
   "outputs": [
    {
     "name": "stdout",
     "output_type": "stream",
     "text": [
      "AMT_CREDIT_SUM_DEBT_divide_DAYS_CREDIT_UPDATE_minus_DAYS_CREDIT_ENDDATE\n",
      "AMT_CREDIT_SUM_DEBT_divide_DAYS_ENDDATE_FACT_minus_DAYS_CREDIT\n",
      "AMT_CREDIT_SUM_divide_DAYS_CREDIT_UPDATE_minus_DAYS_CREDIT_ENDDATE\n",
      "AMT_CREDIT_SUM_divide_DAYS_ENDDATE_FACT_minus_DAYS_CREDIT\n",
      "AMT_CREDIT_SUM_LIMIT_divide_DAYS_CREDIT_UPDATE_minus_DAYS_CREDIT_ENDDATE\n",
      "AMT_CREDIT_SUM_LIMIT_divide_DAYS_ENDDATE_FACT_minus_DAYS_CREDIT\n",
      "(1716428, 29)\n"
     ]
    }
   ],
   "source": [
    "'''\n",
    "AMT_CREDIT_SUM_DEBT : WGT_DAYS_CREDIT ,DAYS_ENDDATE_FACT\n",
    "AMT_CREDIT_SUM      : DAYS_CREDIT_UPDATE_minus_DAYS_CREDIT_ENDDATE\n",
    "                    : DAYS_ENDDATE_FACT_minus_DAYS_CREDIT\n",
    "\n",
    "\n",
    "'''\n",
    "top = ['AMT_CREDIT_SUM_DEBT', 'AMT_CREDIT_SUM','AMT_CREDIT_SUM_LIMIT']\n",
    "bot = [ 'DAYS_CREDIT_UPDATE_minus_DAYS_CREDIT_ENDDATE', 'DAYS_ENDDATE_FACT_minus_DAYS_CREDIT' ]\n",
    "for i in top:\n",
    "    for j in bot:\n",
    "        print(ratio_name(i,j))\n",
    "        b[ratio_name(i,j)] = ratio(b, i, j)\n",
    "        \n",
    "print(b.shape)"
   ]
  },
  {
   "cell_type": "code",
   "execution_count": 10,
   "metadata": {
    "ExecuteTime": {
     "end_time": "2018-06-28T18:54:54.638414Z",
     "start_time": "2018-06-28T18:54:54.632538Z"
    },
    "collapsed": true
   },
   "outputs": [
    {
     "data": {
      "text/plain": [
       "{'AMT_ANNUITY',\n",
       " 'AMT_CREDIT_MAX_OVERDUE',\n",
       " 'AMT_CREDIT_SUM',\n",
       " 'AMT_CREDIT_SUM_DEBT',\n",
       " 'AMT_CREDIT_SUM_DEBT_divide_DAYS_CREDIT_UPDATE_minus_DAYS_CREDIT_ENDDATE',\n",
       " 'AMT_CREDIT_SUM_DEBT_divide_DAYS_ENDDATE_FACT_minus_DAYS_CREDIT',\n",
       " 'AMT_CREDIT_SUM_LIMIT',\n",
       " 'AMT_CREDIT_SUM_LIMIT_divide_DAYS_CREDIT_UPDATE_minus_DAYS_CREDIT_ENDDATE',\n",
       " 'AMT_CREDIT_SUM_LIMIT_divide_DAYS_ENDDATE_FACT_minus_DAYS_CREDIT',\n",
       " 'AMT_CREDIT_SUM_OVERDUE',\n",
       " 'AMT_CREDIT_SUM_divide_DAYS_CREDIT_UPDATE_minus_DAYS_CREDIT_ENDDATE',\n",
       " 'AMT_CREDIT_SUM_divide_DAYS_ENDDATE_FACT_minus_DAYS_CREDIT',\n",
       " 'CNT_CREDIT_PROLONG',\n",
       " 'CREDIT_DAY_OVERDUE',\n",
       " 'CREDIT_DAY_OVERDUE_minus_DAYS_CREDIT',\n",
       " 'CREDIT_DAY_OVERDUE_minus_DAYS_CREDIT_UPDATE',\n",
       " 'DAYS_CREDIT',\n",
       " 'DAYS_CREDIT_ENDDATE',\n",
       " 'DAYS_CREDIT_ENDDATE_minus_DAYS_CREDIT',\n",
       " 'DAYS_CREDIT_UPDATE',\n",
       " 'DAYS_CREDIT_UPDATE_minus_DAYS_CREDIT',\n",
       " 'DAYS_CREDIT_UPDATE_minus_DAYS_CREDIT_ENDDATE',\n",
       " 'DAYS_ENDDATE_FACT',\n",
       " 'DAYS_ENDDATE_FACT_minus_DAYS_CREDIT'}"
      ]
     },
     "execution_count": 10,
     "metadata": {},
     "output_type": "execute_result"
    }
   ],
   "source": [
    "ignored = ['SK_ID_CURR', 'SK_ID_BUREAU', 'CREDIT_ACTIVE', 'CREDIT_CURRENCY', 'CREDIT_TYPE']\n",
    "set_numerical = set(b.columns) - set(ignored)\n",
    "\n"
   ]
  },
  {
   "cell_type": "code",
   "execution_count": 12,
   "metadata": {
    "ExecuteTime": {
     "end_time": "2018-06-28T18:56:10.645274Z",
     "start_time": "2018-06-28T18:56:03.329463Z"
    }
   },
   "outputs": [
    {
     "data": {
      "text/plain": [
       "['AMT_CREDIT_SUM_divide_DAYS_ENDDATE_FACT_minus_DAYS_CREDIT',\n",
       " 'AMT_CREDIT_SUM_DEBT_divide_DAYS_CREDIT_UPDATE_minus_DAYS_CREDIT_ENDDATE',\n",
       " 'CREDIT_DAY_OVERDUE_minus_DAYS_CREDIT',\n",
       " 'DAYS_CREDIT_ENDDATE_minus_DAYS_CREDIT',\n",
       " 'AMT_CREDIT_SUM_LIMIT_divide_DAYS_ENDDATE_FACT_minus_DAYS_CREDIT',\n",
       " 'AMT_CREDIT_SUM_divide_DAYS_CREDIT_UPDATE_minus_DAYS_CREDIT_ENDDATE',\n",
       " 'DAYS_ENDDATE_FACT_minus_DAYS_CREDIT',\n",
       " 'AMT_CREDIT_SUM_DEBT_divide_DAYS_ENDDATE_FACT_minus_DAYS_CREDIT',\n",
       " 'AMT_CREDIT_SUM_LIMIT_divide_DAYS_CREDIT_UPDATE_minus_DAYS_CREDIT_ENDDATE',\n",
       " 'DAYS_CREDIT_UPDATE_minus_DAYS_CREDIT_ENDDATE',\n",
       " 'CREDIT_DAY_OVERDUE_minus_DAYS_CREDIT_UPDATE',\n",
       " 'DAYS_CREDIT_UPDATE_minus_DAYS_CREDIT']"
      ]
     },
     "execution_count": 12,
     "metadata": {},
     "output_type": "execute_result"
    }
   ],
   "source": [
    "bureau_copy = pd.read_csv(PATH + 'bureau.csv')\n",
    "set_numerical = [x for x in set_numerical if x not in bureau_copy.columns]\n",
    "set_numerical"
   ]
  },
  {
   "cell_type": "code",
   "execution_count": 13,
   "metadata": {
    "ExecuteTime": {
     "end_time": "2018-06-28T18:56:35.990166Z",
     "start_time": "2018-06-28T18:56:21.338462Z"
    }
   },
   "outputs": [
    {
     "name": "stdout",
     "output_type": "stream",
     "text": [
      "AMT_CREDIT_SUM_divide_DAYS_ENDDATE_FACT_minus_DAYS_CREDIT\n",
      "AMT_CREDIT_SUM_DEBT_divide_DAYS_CREDIT_UPDATE_minus_DAYS_CREDIT_ENDDATE\n",
      "CREDIT_DAY_OVERDUE_minus_DAYS_CREDIT\n",
      "DAYS_CREDIT_ENDDATE_minus_DAYS_CREDIT\n",
      "AMT_CREDIT_SUM_LIMIT_divide_DAYS_ENDDATE_FACT_minus_DAYS_CREDIT\n",
      "AMT_CREDIT_SUM_divide_DAYS_CREDIT_UPDATE_minus_DAYS_CREDIT_ENDDATE\n",
      "DAYS_ENDDATE_FACT_minus_DAYS_CREDIT\n",
      "AMT_CREDIT_SUM_DEBT_divide_DAYS_ENDDATE_FACT_minus_DAYS_CREDIT\n",
      "AMT_CREDIT_SUM_LIMIT_divide_DAYS_CREDIT_UPDATE_minus_DAYS_CREDIT_ENDDATE\n",
      "DAYS_CREDIT_UPDATE_minus_DAYS_CREDIT_ENDDATE\n",
      "CREDIT_DAY_OVERDUE_minus_DAYS_CREDIT_UPDATE\n",
      "DAYS_CREDIT_UPDATE_minus_DAYS_CREDIT\n",
      "bshape (1716428, 29)\n",
      "dfshaoe (356255, 64)\n"
     ]
    }
   ],
   "source": [
    "# numerical\n",
    "for x in set_numerical:\n",
    "    print(x)\n",
    "    df = df.merge(numerical(b, gp_col, x, ['mean', 'median', 'max', 'min', 'sum']), on=gp_col, how='left')\n",
    "    \n",
    "\n",
    "columns = []\n",
    "for x in df.columns:\n",
    "    tmp = 'bureau_' + x if x != gp_col else x\n",
    "    columns.append(tmp)\n",
    "df.columns = columns\n",
    "'done'\n",
    "print('bshape',b.shape)\n",
    "print('dfshaoe',df.shape)"
   ]
  },
  {
   "cell_type": "markdown",
   "metadata": {},
   "source": [
    "## merge"
   ]
  },
  {
   "cell_type": "code",
   "execution_count": null,
   "metadata": {
    "ExecuteTime": {
     "end_time": "2018-06-28T18:54:16.848432Z",
     "start_time": "2018-06-28T18:53:30.727Z"
    }
   },
   "outputs": [],
   "source": [
    "print(df.columns)\n",
    "df.shape"
   ]
  },
  {
   "cell_type": "code",
   "execution_count": 14,
   "metadata": {
    "ExecuteTime": {
     "end_time": "2018-06-28T18:56:58.045210Z",
     "start_time": "2018-06-28T18:56:56.624092Z"
    }
   },
   "outputs": [
    {
     "data": {
      "text/plain": [
       "'done'"
      ]
     },
     "execution_count": 14,
     "metadata": {},
     "output_type": "execute_result"
    }
   ],
   "source": [
    "df.to_pickle(PATH + 'inter/bureau_sup.pkl')\n",
    "'done'"
   ]
  },
  {
   "cell_type": "code",
   "execution_count": null,
   "metadata": {},
   "outputs": [],
   "source": []
  }
 ],
 "metadata": {
  "kernelspec": {
   "display_name": "Python 3",
   "language": "python",
   "name": "python3"
  },
  "language_info": {
   "codemirror_mode": {
    "name": "ipython",
    "version": 3
   },
   "file_extension": ".py",
   "mimetype": "text/x-python",
   "name": "python",
   "nbconvert_exporter": "python",
   "pygments_lexer": "ipython3",
   "version": "3.6.5"
  },
  "varInspector": {
   "cols": {
    "lenName": 16,
    "lenType": 16,
    "lenVar": 40
   },
   "kernels_config": {
    "python": {
     "delete_cmd_postfix": "",
     "delete_cmd_prefix": "del ",
     "library": "var_list.py",
     "varRefreshCmd": "print(var_dic_list())"
    },
    "r": {
     "delete_cmd_postfix": ") ",
     "delete_cmd_prefix": "rm(",
     "library": "var_list.r",
     "varRefreshCmd": "cat(var_dic_list()) "
    }
   },
   "types_to_exclude": [
    "module",
    "function",
    "builtin_function_or_method",
    "instance",
    "_Feature"
   ],
   "window_display": false
  }
 },
 "nbformat": 4,
 "nbformat_minor": 2
}
