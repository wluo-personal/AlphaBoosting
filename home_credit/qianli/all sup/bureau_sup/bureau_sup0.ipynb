{
 "cells": [
  {
   "cell_type": "code",
   "execution_count": 1,
   "metadata": {
    "ExecuteTime": {
     "end_time": "2018-06-28T18:54:03.079391Z",
     "start_time": "2018-06-28T18:53:30.733371Z"
    }
   },
   "outputs": [
    {
     "name": "stdout",
     "output_type": "stream",
     "text": [
      "bshape (1716428, 17)\n",
      "dfshaoe (356255, 1)\n"
     ]
    }
   ],
   "source": [
    "import pandas as pd\n",
    "\n",
    "PATH = '/home/kai/data/kaggle/homecredit/'\n",
    "\n",
    "train = pd.read_csv(PATH + 'application_train.csv')\n",
    "test = pd.read_csv(PATH + 'application_test.csv')\n",
    "bureau = pd.read_csv(PATH + 'bureau.csv')\n",
    "bb = pd.read_csv(PATH + 'bureau_balance.csv')\n",
    "b = bureau.copy()\n",
    "'done'\n",
    "df = pd.concat([train[['SK_ID_CURR']], test[['SK_ID_CURR']]], axis = 0)\n",
    "print('bshape',b.shape)\n",
    "print('dfshaoe',df.shape)"
   ]
  },
  {
   "cell_type": "markdown",
   "metadata": {},
   "source": [
    "## Functions"
   ]
  },
  {
   "cell_type": "code",
   "execution_count": 2,
   "metadata": {
    "ExecuteTime": {
     "end_time": "2018-06-28T18:54:03.155150Z",
     "start_time": "2018-06-28T18:54:03.101800Z"
    }
   },
   "outputs": [
    {
     "data": {
      "text/plain": [
       "'done'"
      ]
     },
     "execution_count": 2,
     "metadata": {},
     "output_type": "execute_result"
    }
   ],
   "source": [
    "def minus_name(col1, col2): return col1 + '_minus_' + col2\n",
    "def minus(df, col1, col2): return df[col1] - df[col2]\n",
    "\n",
    "def multi_name(col1, col2): return col1 + '_times_' + col2\n",
    "def multi(df, col1, col2): return df[col1] * df[col2]\n",
    "\n",
    "def ratio_name(col1, col2): return col1 + '_divide_' + col2\n",
    "def ratio(df, col1, col2): return df[col1] / (df[col2] + 1)\n",
    "\n",
    "def positive_count(df, gp_col, col):\n",
    "    group = (df[col] > 0).astype('int8')\n",
    "    group = pd.concat([df[gp_col], group], axis=1).groupby(gp_col)[[col]].sum().reset_index().rename(index=str, columns={col: 'positivecount_'+'_'.join([gp_col, col])})\n",
    "    return group.astype({gp_col: df[gp_col].dtype})\n",
    "\n",
    "def count(df, gp_col, col):\n",
    "    group = df[[gp_col,col]].groupby(gp_col)[[col]].count().reset_index().rename(index=str, columns={col:'count_'+gp_col})\n",
    "    return group.astype({gp_col: df[gp_col].dtype})\n",
    "\n",
    "def numerical(df, gp_col, col, agg_fun):\n",
    "    _df = df.groupby(gp_col)[[col]].agg(agg_fun)\n",
    "    \n",
    "    columns = []\n",
    "    for x in _df.columns.levels[0]:\n",
    "        for y in _df.columns.levels[1]:\n",
    "            columns.append('_'.join([x, y]))\n",
    "    _df.columns = columns\n",
    "    return _df.reset_index().astype({gp_col: df[gp_col].dtype})\n",
    "\n",
    "def one_hot(df, gp_col, col):\n",
    "    return pd.concat([df[gp_col], pd.get_dummies(df[col], prefix='onehot_' + col)], axis=1).groupby(gp_col).sum().reset_index().astype({gp_col: df[gp_col].dtype})\n",
    "\n",
    "'done'"
   ]
  },
  {
   "cell_type": "markdown",
   "metadata": {},
   "source": [
    "## Length of history\n",
    "## Define _day minus days_credit, as the length of the credit, and construct weighted days_credit, then sum & merge"
   ]
  },
  {
   "cell_type": "code",
   "execution_count": 3,
   "metadata": {
    "ExecuteTime": {
     "end_time": "2018-06-28T18:54:03.587223Z",
     "start_time": "2018-06-28T18:54:03.162041Z"
    }
   },
   "outputs": [
    {
     "name": "stdout",
     "output_type": "stream",
     "text": [
      "CREDIT_DAY_OVERDUE_minus_DAYS_CREDIT lengthof positive, 1.0\n",
      "DAYS_CREDIT_ENDDATE_minus_DAYS_CREDIT lengthof positive, 0.9384087185713587\n",
      "DAYS_ENDDATE_FACT_minus_DAYS_CREDIT lengthof positive, 0.6308187701435772\n",
      "DAYS_CREDIT_UPDATE_minus_DAYS_CREDIT lengthof positive, 0.9999213482884223\n",
      "bshape (1716428, 21)\n",
      "dfshaoe (356255, 1)\n"
     ]
    }
   ],
   "source": [
    "# Smallest among them is days credit\n",
    "days_list = ['DAYS_CREDIT', 'CREDIT_DAY_OVERDUE', 'DAYS_CREDIT_ENDDATE',\n",
    "       'DAYS_ENDDATE_FACT','DAYS_CREDIT_UPDATE']\n",
    "days = ['CREDIT_DAY_OVERDUE', 'DAYS_CREDIT_ENDDATE',\n",
    "       'DAYS_ENDDATE_FACT','DAYS_CREDIT_UPDATE']\n",
    "\n",
    "for col in days:\n",
    "    tmp = minus_name(col, 'DAYS_CREDIT')\n",
    "    b[tmp] = minus(b, col, 'DAYS_CREDIT')\n",
    "    print(tmp,'lengthof positive,', (b[tmp]>=0).sum()/len(b))\n",
    "print('bshape',b.shape)\n",
    "print('dfshaoe',df.shape)"
   ]
  },
  {
   "cell_type": "code",
   "execution_count": 4,
   "metadata": {
    "ExecuteTime": {
     "end_time": "2018-06-28T18:54:10.857267Z",
     "start_time": "2018-06-28T18:54:03.598169Z"
    }
   },
   "outputs": [
    {
     "name": "stdout",
     "output_type": "stream",
     "text": [
      "bshape (1716428, 21)\n",
      "dfshaoe (356255, 1)\n"
     ]
    }
   ],
   "source": [
    "# Do a little fixing for two columns, so that the minus is always non-negative\n",
    "col_fix = ['DAYS_CREDIT_UPDATE_minus_DAYS_CREDIT','DAYS_CREDIT_ENDDATE_minus_DAYS_CREDIT','DAYS_ENDDATE_FACT_minus_DAYS_CREDIT','CREDIT_DAY_OVERDUE_minus_DAYS_CREDIT']\n",
    "for col in col_fix:\n",
    "    b[col].fillna(0, inplace = True)\n",
    "    x = b[col]<0\n",
    "    b.loc[x] = 0\n",
    "#     print( tmp,'neg',(b[tmp]<0).sum())\n",
    "print('bshape',b.shape)\n",
    "print('dfshaoe',df.shape)"
   ]
  },
  {
   "cell_type": "code",
   "execution_count": 5,
   "metadata": {
    "ExecuteTime": {
     "end_time": "2018-06-28T18:54:10.870004Z",
     "start_time": "2018-06-28T18:54:10.863451Z"
    }
   },
   "outputs": [],
   "source": [
    "# import numpy as np\n",
    "# tmp = 1 + np.sqrt(  abs(b['DAYS_CREDIT']) / 365 )\n",
    "# b['WGT_DAYS_CREDIT'] = 1/( 1 + np.sqrt(  abs(b['DAYS_CREDIT']) / 365 ) )\n",
    "\n",
    "# b['WGT_credit_length1'] = b['WGT_DAYS_CREDIT'] * b['CREDIT_DAY_OVERDUE_minus_DAYS_CREDIT']\n",
    "# b['WGT_credit_length2'] = b['WGT_DAYS_CREDIT'] * b['DAYS_CREDIT_UPDATE_minus_DAYS_CREDIT']\n",
    "# print('bshape',b.shape)\n",
    "# print('dfshaoe',df.shape)"
   ]
  },
  {
   "cell_type": "markdown",
   "metadata": {},
   "source": [
    "# Some other days substraction"
   ]
  },
  {
   "cell_type": "code",
   "execution_count": 6,
   "metadata": {
    "ExecuteTime": {
     "end_time": "2018-06-28T18:54:11.021479Z",
     "start_time": "2018-06-28T18:54:10.874992Z"
    },
    "scrolled": true
   },
   "outputs": [
    {
     "name": "stdout",
     "output_type": "stream",
     "text": [
      "bshape (1716428, 23)\n",
      "dfshaoe (356255, 1)\n",
      "AMT_CREDIT_SUM_DEBT_divide_DAYS_CREDIT_UPDATE_minus_DAYS_CREDIT_ENDDATE\n",
      "AMT_CREDIT_SUM_DEBT_divide_DAYS_ENDDATE_FACT_minus_DAYS_CREDIT\n",
      "AMT_CREDIT_SUM_divide_DAYS_CREDIT_UPDATE_minus_DAYS_CREDIT_ENDDATE\n",
      "AMT_CREDIT_SUM_divide_DAYS_ENDDATE_FACT_minus_DAYS_CREDIT\n",
      "AMT_CREDIT_SUM_LIMIT_divide_DAYS_CREDIT_UPDATE_minus_DAYS_CREDIT_ENDDATE\n",
      "AMT_CREDIT_SUM_LIMIT_divide_DAYS_ENDDATE_FACT_minus_DAYS_CREDIT\n",
      "(1716428, 29)\n"
     ]
    }
   ],
   "source": [
    "days_list = ['DAYS_CREDIT', 'CREDIT_DAY_OVERDUE', 'DAYS_CREDIT_ENDDATE',\n",
    "       'DAYS_ENDDATE_FACT','DAYS_CREDIT_UPDATE']\n",
    "\n",
    "def minus_name(col1, col2): return col1 + '_minus_' + col2\n",
    "def minus(df, col1, col2): return df[col1] - df[col2]\n",
    "\n",
    "b[minus_name('CREDIT_DAY_OVERDUE', 'DAYS_CREDIT_UPDATE')] = minus(b, 'CREDIT_DAY_OVERDUE', 'DAYS_CREDIT_UPDATE')\n",
    "# b[minus_name('CREDIT_DAY_OVERDUE', 'DAYS_ENDDATE_FACT')] =  minus(b, 'CREDIT_DAY_OVERDUE', 'DAYS_ENDDATE_FACT')\n",
    "b[minus_name('DAYS_CREDIT_UPDATE', 'DAYS_CREDIT_ENDDATE')] =  minus(b, 'DAYS_CREDIT_UPDATE', 'DAYS_CREDIT_ENDDATE')\n",
    "# b[minus_name('DAYS_CREDIT_UPDATE', 'DAYS_ENDDATE_FACT')] =  minus(b, 'DAYS_CREDIT_UPDATE', 'DAYS_ENDDATE_FACT')\n",
    "print('bshape',b.shape)\n",
    "print('dfshaoe',df.shape)\n",
    "\n",
    "'''\n",
    "AMT_CREDIT_SUM_DEBT : WGT_DAYS_CREDIT ,DAYS_ENDDATE_FACT\n",
    "AMT_CREDIT_SUM      : DAYS_CREDIT_UPDATE_minus_DAYS_CREDIT_ENDDATE\n",
    "                    : DAYS_ENDDATE_FACT_minus_DAYS_CREDIT\n",
    "\n",
    "\n",
    "'''\n",
    "top = ['AMT_CREDIT_SUM_DEBT', 'AMT_CREDIT_SUM','AMT_CREDIT_SUM_LIMIT']\n",
    "bot = [ 'DAYS_CREDIT_UPDATE_minus_DAYS_CREDIT_ENDDATE', 'DAYS_ENDDATE_FACT_minus_DAYS_CREDIT' ]\n",
    "for i in top:\n",
    "    for j in bot:\n",
    "        print(ratio_name(i,j))\n",
    "        b[ratio_name(i,j)] = ratio(b, i, j)\n",
    "        \n",
    "print(b.shape)"
   ]
  },
  {
   "cell_type": "markdown",
   "metadata": {},
   "source": [
    "#  credit types:"
   ]
  },
  {
   "cell_type": "code",
   "execution_count": 7,
   "metadata": {
    "ExecuteTime": {
     "end_time": "2018-06-28T18:54:16.656747Z",
     "start_time": "2018-06-28T18:54:11.027907Z"
    }
   },
   "outputs": [
    {
     "name": "stdout",
     "output_type": "stream",
     "text": [
      "CREDIT_TYPE\n",
      "CREDIT_CURRENCY\n",
      "CREDIT_ACTIVE\n"
     ]
    }
   ],
   "source": [
    "# Types of credits: credit-type, credit_currency\n",
    "# For a certain id_curr, do nunique, count, one hot encoding(then count)\n",
    "gp_col = 'SK_ID_CURR'\n",
    "col = ['CREDIT_TYPE','CREDIT_CURRENCY', 'CREDIT_ACTIVE']\n",
    "for x in col:\n",
    "    print(x)\n",
    "    group1 = b[[gp_col, x]].groupby(gp_col)[[x]].nunique().reset_index().rename(index = str, columns = {x:'unique_'+x})\n",
    "    col = 'SK_ID_CURR'\n",
    "    df = df.merge(group1, on  = gp_col, how = 'left')"
   ]
  },
  {
   "cell_type": "markdown",
   "metadata": {},
   "source": [
    "# Besides ratios, and numerical, final processing: haoyan's version"
   ]
  },
  {
   "cell_type": "markdown",
   "metadata": {},
   "source": [
    "# Others"
   ]
  },
  {
   "cell_type": "code",
   "execution_count": 9,
   "metadata": {
    "ExecuteTime": {
     "end_time": "2018-06-28T18:54:49.228938Z",
     "start_time": "2018-06-28T18:54:48.774721Z"
    }
   },
   "outputs": [
    {
     "name": "stdout",
     "output_type": "stream",
     "text": [
      "AMT_CREDIT_SUM_DEBT_divide_DAYS_CREDIT_UPDATE_minus_DAYS_CREDIT_ENDDATE\n",
      "AMT_CREDIT_SUM_DEBT_divide_DAYS_ENDDATE_FACT_minus_DAYS_CREDIT\n",
      "AMT_CREDIT_SUM_divide_DAYS_CREDIT_UPDATE_minus_DAYS_CREDIT_ENDDATE\n",
      "AMT_CREDIT_SUM_divide_DAYS_ENDDATE_FACT_minus_DAYS_CREDIT\n",
      "AMT_CREDIT_SUM_LIMIT_divide_DAYS_CREDIT_UPDATE_minus_DAYS_CREDIT_ENDDATE\n",
      "AMT_CREDIT_SUM_LIMIT_divide_DAYS_ENDDATE_FACT_minus_DAYS_CREDIT\n",
      "(1716428, 29)\n"
     ]
    }
   ],
   "source": [
    "'''\n",
    "AMT_CREDIT_SUM_DEBT : WGT_DAYS_CREDIT ,DAYS_ENDDATE_FACT\n",
    "AMT_CREDIT_SUM      : DAYS_CREDIT_UPDATE_minus_DAYS_CREDIT_ENDDATE\n",
    "                    : DAYS_ENDDATE_FACT_minus_DAYS_CREDIT\n",
    "\n",
    "'''\n",
    "top = ['AMT_CREDIT_SUM_DEBT', 'AMT_CREDIT_SUM','AMT_CREDIT_SUM_LIMIT']\n",
    "bot = [ 'DAYS_CREDIT_UPDATE_minus_DAYS_CREDIT_ENDDATE', 'DAYS_ENDDATE_FACT_minus_DAYS_CREDIT' ]\n",
    "for i in top:\n",
    "    for j in bot:\n",
    "        print(ratio_name(i,j))\n",
    "        b[ratio_name(i,j)] = ratio(b, i, j)\n",
    "        \n",
    "print(b.shape)"
   ]
  },
  {
   "cell_type": "code",
   "execution_count": 10,
   "metadata": {
    "ExecuteTime": {
     "end_time": "2018-06-28T18:54:54.638414Z",
     "start_time": "2018-06-28T18:54:54.632538Z"
    },
    "collapsed": true
   },
   "outputs": [
    {
     "data": {
      "text/plain": [
       "{'AMT_ANNUITY',\n",
       " 'AMT_CREDIT_MAX_OVERDUE',\n",
       " 'AMT_CREDIT_SUM',\n",
       " 'AMT_CREDIT_SUM_DEBT',\n",
       " 'AMT_CREDIT_SUM_DEBT_divide_DAYS_CREDIT_UPDATE_minus_DAYS_CREDIT_ENDDATE',\n",
       " 'AMT_CREDIT_SUM_DEBT_divide_DAYS_ENDDATE_FACT_minus_DAYS_CREDIT',\n",
       " 'AMT_CREDIT_SUM_LIMIT',\n",
       " 'AMT_CREDIT_SUM_LIMIT_divide_DAYS_CREDIT_UPDATE_minus_DAYS_CREDIT_ENDDATE',\n",
       " 'AMT_CREDIT_SUM_LIMIT_divide_DAYS_ENDDATE_FACT_minus_DAYS_CREDIT',\n",
       " 'AMT_CREDIT_SUM_OVERDUE',\n",
       " 'AMT_CREDIT_SUM_divide_DAYS_CREDIT_UPDATE_minus_DAYS_CREDIT_ENDDATE',\n",
       " 'AMT_CREDIT_SUM_divide_DAYS_ENDDATE_FACT_minus_DAYS_CREDIT',\n",
       " 'CNT_CREDIT_PROLONG',\n",
       " 'CREDIT_DAY_OVERDUE',\n",
       " 'CREDIT_DAY_OVERDUE_minus_DAYS_CREDIT',\n",
       " 'CREDIT_DAY_OVERDUE_minus_DAYS_CREDIT_UPDATE',\n",
       " 'DAYS_CREDIT',\n",
       " 'DAYS_CREDIT_ENDDATE',\n",
       " 'DAYS_CREDIT_ENDDATE_minus_DAYS_CREDIT',\n",
       " 'DAYS_CREDIT_UPDATE',\n",
       " 'DAYS_CREDIT_UPDATE_minus_DAYS_CREDIT',\n",
       " 'DAYS_CREDIT_UPDATE_minus_DAYS_CREDIT_ENDDATE',\n",
       " 'DAYS_ENDDATE_FACT',\n",
       " 'DAYS_ENDDATE_FACT_minus_DAYS_CREDIT'}"
      ]
     },
     "execution_count": 10,
     "metadata": {},
     "output_type": "execute_result"
    }
   ],
   "source": [
    "ignored = ['SK_ID_CURR', 'SK_ID_BUREAU', 'CREDIT_ACTIVE', 'CREDIT_CURRENCY', 'CREDIT_TYPE']\n",
    "set_numerical = set(b.columns) - set(ignored)\n",
    "\n"
   ]
  },
  {
   "cell_type": "code",
   "execution_count": 12,
   "metadata": {
    "ExecuteTime": {
     "end_time": "2018-06-28T18:56:10.645274Z",
     "start_time": "2018-06-28T18:56:03.329463Z"
    }
   },
   "outputs": [
    {
     "data": {
      "text/plain": [
       "['AMT_CREDIT_SUM_divide_DAYS_ENDDATE_FACT_minus_DAYS_CREDIT',\n",
       " 'AMT_CREDIT_SUM_DEBT_divide_DAYS_CREDIT_UPDATE_minus_DAYS_CREDIT_ENDDATE',\n",
       " 'CREDIT_DAY_OVERDUE_minus_DAYS_CREDIT',\n",
       " 'DAYS_CREDIT_ENDDATE_minus_DAYS_CREDIT',\n",
       " 'AMT_CREDIT_SUM_LIMIT_divide_DAYS_ENDDATE_FACT_minus_DAYS_CREDIT',\n",
       " 'AMT_CREDIT_SUM_divide_DAYS_CREDIT_UPDATE_minus_DAYS_CREDIT_ENDDATE',\n",
       " 'DAYS_ENDDATE_FACT_minus_DAYS_CREDIT',\n",
       " 'AMT_CREDIT_SUM_DEBT_divide_DAYS_ENDDATE_FACT_minus_DAYS_CREDIT',\n",
       " 'AMT_CREDIT_SUM_LIMIT_divide_DAYS_CREDIT_UPDATE_minus_DAYS_CREDIT_ENDDATE',\n",
       " 'DAYS_CREDIT_UPDATE_minus_DAYS_CREDIT_ENDDATE',\n",
       " 'CREDIT_DAY_OVERDUE_minus_DAYS_CREDIT_UPDATE',\n",
       " 'DAYS_CREDIT_UPDATE_minus_DAYS_CREDIT']"
      ]
     },
     "execution_count": 12,
     "metadata": {},
     "output_type": "execute_result"
    }
   ],
   "source": [
    "bureau_copy = pd.read_csv(PATH + 'bureau.csv')\n",
    "set_numerical = [x for x in set_numerical if x not in bureau_copy.columns]\n",
    "set_numerical"
   ]
  },
  {
   "cell_type": "code",
   "execution_count": 13,
   "metadata": {
    "ExecuteTime": {
     "end_time": "2018-06-28T18:56:35.990166Z",
     "start_time": "2018-06-28T18:56:21.338462Z"
    }
   },
   "outputs": [
    {
     "name": "stdout",
     "output_type": "stream",
     "text": [
      "AMT_CREDIT_SUM_divide_DAYS_ENDDATE_FACT_minus_DAYS_CREDIT\n",
      "AMT_CREDIT_SUM_DEBT_divide_DAYS_CREDIT_UPDATE_minus_DAYS_CREDIT_ENDDATE\n",
      "CREDIT_DAY_OVERDUE_minus_DAYS_CREDIT\n",
      "DAYS_CREDIT_ENDDATE_minus_DAYS_CREDIT\n",
      "AMT_CREDIT_SUM_LIMIT_divide_DAYS_ENDDATE_FACT_minus_DAYS_CREDIT\n",
      "AMT_CREDIT_SUM_divide_DAYS_CREDIT_UPDATE_minus_DAYS_CREDIT_ENDDATE\n",
      "DAYS_ENDDATE_FACT_minus_DAYS_CREDIT\n",
      "AMT_CREDIT_SUM_DEBT_divide_DAYS_ENDDATE_FACT_minus_DAYS_CREDIT\n",
      "AMT_CREDIT_SUM_LIMIT_divide_DAYS_CREDIT_UPDATE_minus_DAYS_CREDIT_ENDDATE\n",
      "DAYS_CREDIT_UPDATE_minus_DAYS_CREDIT_ENDDATE\n",
      "CREDIT_DAY_OVERDUE_minus_DAYS_CREDIT_UPDATE\n",
      "DAYS_CREDIT_UPDATE_minus_DAYS_CREDIT\n",
      "bshape (1716428, 29)\n",
      "dfshaoe (356255, 64)\n"
     ]
    }
   ],
   "source": [
    "# numerical\n",
    "for x in set_numerical:\n",
    "    print(x)\n",
    "    df = df.merge(numerical(b, gp_col, x, ['mean', 'median', 'max', 'min', 'sum']), on=gp_col, how='left')\n",
    "    \n",
    "\n",
    "columns = []\n",
    "for x in df.columns:\n",
    "    tmp = 'bureau_' + x if x != gp_col else x\n",
    "    columns.append(tmp)\n",
    "df.columns = columns\n",
    "'done'\n",
    "print('bshape',b.shape)\n",
    "print('dfshaoe',df.shape)"
   ]
  },
  {
   "cell_type": "markdown",
   "metadata": {},
   "source": [
    "## merge"
   ]
  },
  {
   "cell_type": "code",
   "execution_count": null,
   "metadata": {
    "ExecuteTime": {
     "end_time": "2018-06-28T18:54:16.848432Z",
     "start_time": "2018-06-28T18:53:30.727Z"
    }
   },
   "outputs": [],
   "source": [
    "print(df.columns)\n",
    "df.shape"
   ]
  },
  {
   "cell_type": "code",
   "execution_count": 14,
   "metadata": {
    "ExecuteTime": {
     "end_time": "2018-06-28T18:56:58.045210Z",
     "start_time": "2018-06-28T18:56:56.624092Z"
    }
   },
   "outputs": [
    {
     "data": {
      "text/plain": [
       "'done'"
      ]
     },
     "execution_count": 14,
     "metadata": {},
     "output_type": "execute_result"
    }
   ],
   "source": [
    "df.to_pickle(PATH + 'inter/bureau_sup.pkl')\n",
    "'done'"
   ]
  },
  {
   "cell_type": "code",
   "execution_count": 5,
   "metadata": {
    "ExecuteTime": {
     "end_time": "2018-07-09T20:49:11.983163Z",
     "start_time": "2018-07-09T20:49:05.979377Z"
    }
   },
   "outputs": [],
   "source": [
    "import pandas as pd\n",
    "\n",
    "PATH = '/home/kai/data/kaggle/homecredit/'\n",
    "df = pd.read_pickle(PATH + 'inter/bureau_sup.pkl')\n",
    "bureau = pd.read_pickle(PATH + 'inter/bureau2curr.pkl')"
   ]
  },
  {
   "cell_type": "code",
   "execution_count": 6,
   "metadata": {
    "ExecuteTime": {
     "end_time": "2018-07-09T20:49:12.507111Z",
     "start_time": "2018-07-09T20:49:12.503346Z"
    }
   },
   "outputs": [
    {
     "data": {
      "text/plain": [
       "(356255, 554)"
      ]
     },
     "execution_count": 6,
     "metadata": {},
     "output_type": "execute_result"
    }
   ],
   "source": [
    "bureau.shape"
   ]
  },
  {
   "cell_type": "code",
   "execution_count": 7,
   "metadata": {
    "ExecuteTime": {
     "end_time": "2018-07-09T20:49:40.381071Z",
     "start_time": "2018-07-09T20:49:35.706707Z"
    }
   },
   "outputs": [],
   "source": [
    "df = df.merge(bureau, on = 'SK_ID_CURR', how = 'left')"
   ]
  },
  {
   "cell_type": "code",
   "execution_count": 8,
   "metadata": {
    "ExecuteTime": {
     "end_time": "2018-07-09T20:49:48.210554Z",
     "start_time": "2018-07-09T20:49:48.148069Z"
    }
   },
   "outputs": [
    {
     "data": {
      "text/html": [
       "<div>\n",
       "<style scoped>\n",
       "    .dataframe tbody tr th:only-of-type {\n",
       "        vertical-align: middle;\n",
       "    }\n",
       "\n",
       "    .dataframe tbody tr th {\n",
       "        vertical-align: top;\n",
       "    }\n",
       "\n",
       "    .dataframe thead th {\n",
       "        text-align: right;\n",
       "    }\n",
       "</style>\n",
       "<table border=\"1\" class=\"dataframe\">\n",
       "  <thead>\n",
       "    <tr style=\"text-align: right;\">\n",
       "      <th></th>\n",
       "      <th>SK_ID_CURR</th>\n",
       "      <th>bureau_unique_CREDIT_TYPE</th>\n",
       "      <th>bureau_unique_CREDIT_CURRENCY</th>\n",
       "      <th>bureau_unique_CREDIT_ACTIVE</th>\n",
       "      <th>bureau_AMT_CREDIT_SUM_divide_DAYS_ENDDATE_FACT_minus_DAYS_CREDIT_mean</th>\n",
       "      <th>bureau_AMT_CREDIT_SUM_divide_DAYS_ENDDATE_FACT_minus_DAYS_CREDIT_median</th>\n",
       "      <th>bureau_AMT_CREDIT_SUM_divide_DAYS_ENDDATE_FACT_minus_DAYS_CREDIT_max</th>\n",
       "      <th>bureau_AMT_CREDIT_SUM_divide_DAYS_ENDDATE_FACT_minus_DAYS_CREDIT_min</th>\n",
       "      <th>bureau_AMT_CREDIT_SUM_divide_DAYS_ENDDATE_FACT_minus_DAYS_CREDIT_sum</th>\n",
       "      <th>bureau_AMT_CREDIT_SUM_DEBT_divide_DAYS_CREDIT_UPDATE_minus_DAYS_CREDIT_ENDDATE_mean</th>\n",
       "      <th>...</th>\n",
       "      <th>bureau_AMT_CREDIT_MAX_OVERDUE_divide_DAYS_CREDIT_UPDATE_max</th>\n",
       "      <th>bureau_AMT_CREDIT_MAX_OVERDUE_divide_DAYS_CREDIT_UPDATE_min</th>\n",
       "      <th>bureau_AMT_CREDIT_MAX_OVERDUE_divide_DAYS_CREDIT_UPDATE_sum</th>\n",
       "      <th>bureau_AMT_CREDIT_MAX_OVERDUE_divide_DAYS_CREDIT_UPDATE_std</th>\n",
       "      <th>bureau_STATUS_NUM_divide_MONTHS_BALANCE_sum_mean</th>\n",
       "      <th>bureau_STATUS_NUM_divide_MONTHS_BALANCE_sum_median</th>\n",
       "      <th>bureau_STATUS_NUM_divide_MONTHS_BALANCE_sum_max</th>\n",
       "      <th>bureau_STATUS_NUM_divide_MONTHS_BALANCE_sum_min</th>\n",
       "      <th>bureau_STATUS_NUM_divide_MONTHS_BALANCE_sum_sum</th>\n",
       "      <th>bureau_STATUS_NUM_divide_MONTHS_BALANCE_sum_std</th>\n",
       "    </tr>\n",
       "  </thead>\n",
       "  <tbody>\n",
       "    <tr>\n",
       "      <th>0</th>\n",
       "      <td>100002</td>\n",
       "      <td>2.0</td>\n",
       "      <td>1.0</td>\n",
       "      <td>2.0</td>\n",
       "      <td>60518.786064</td>\n",
       "      <td>498.395010</td>\n",
       "      <td>450000.000000</td>\n",
       "      <td>0.000000</td>\n",
       "      <td>484150.288512</td>\n",
       "      <td>-104.232824</td>\n",
       "      <td>...</td>\n",
       "      <td>-0.0</td>\n",
       "      <td>-152.837727</td>\n",
       "      <td>-158.26821</td>\n",
       "      <td>67.760926</td>\n",
       "      <td>-0.135012</td>\n",
       "      <td>-0.136674</td>\n",
       "      <td>0.0</td>\n",
       "      <td>-0.258263</td>\n",
       "      <td>-1.080096</td>\n",
       "      <td>0.110696</td>\n",
       "    </tr>\n",
       "    <tr>\n",
       "      <th>1</th>\n",
       "      <td>100003</td>\n",
       "      <td>2.0</td>\n",
       "      <td>1.0</td>\n",
       "      <td>2.0</td>\n",
       "      <td>202655.016924</td>\n",
       "      <td>285.639111</td>\n",
       "      <td>810000.000000</td>\n",
       "      <td>48.789474</td>\n",
       "      <td>810620.067696</td>\n",
       "      <td>0.000000</td>\n",
       "      <td>...</td>\n",
       "      <td>-0.0</td>\n",
       "      <td>-0.000000</td>\n",
       "      <td>0.00000</td>\n",
       "      <td>0.000000</td>\n",
       "      <td>NaN</td>\n",
       "      <td>NaN</td>\n",
       "      <td>NaN</td>\n",
       "      <td>NaN</td>\n",
       "      <td>0.000000</td>\n",
       "      <td>NaN</td>\n",
       "    </tr>\n",
       "    <tr>\n",
       "      <th>2</th>\n",
       "      <td>100004</td>\n",
       "      <td>1.0</td>\n",
       "      <td>1.0</td>\n",
       "      <td>1.0</td>\n",
       "      <td>1824.069565</td>\n",
       "      <td>1824.069565</td>\n",
       "      <td>3501.400000</td>\n",
       "      <td>146.739130</td>\n",
       "      <td>3648.139130</td>\n",
       "      <td>0.000000</td>\n",
       "      <td>...</td>\n",
       "      <td>-0.0</td>\n",
       "      <td>-0.000000</td>\n",
       "      <td>0.00000</td>\n",
       "      <td>NaN</td>\n",
       "      <td>NaN</td>\n",
       "      <td>NaN</td>\n",
       "      <td>NaN</td>\n",
       "      <td>NaN</td>\n",
       "      <td>0.000000</td>\n",
       "      <td>NaN</td>\n",
       "    </tr>\n",
       "    <tr>\n",
       "      <th>3</th>\n",
       "      <td>100006</td>\n",
       "      <td>NaN</td>\n",
       "      <td>NaN</td>\n",
       "      <td>NaN</td>\n",
       "      <td>NaN</td>\n",
       "      <td>NaN</td>\n",
       "      <td>NaN</td>\n",
       "      <td>NaN</td>\n",
       "      <td>NaN</td>\n",
       "      <td>NaN</td>\n",
       "      <td>...</td>\n",
       "      <td>NaN</td>\n",
       "      <td>NaN</td>\n",
       "      <td>NaN</td>\n",
       "      <td>NaN</td>\n",
       "      <td>NaN</td>\n",
       "      <td>NaN</td>\n",
       "      <td>NaN</td>\n",
       "      <td>NaN</td>\n",
       "      <td>NaN</td>\n",
       "      <td>NaN</td>\n",
       "    </tr>\n",
       "    <tr>\n",
       "      <th>4</th>\n",
       "      <td>100007</td>\n",
       "      <td>1.0</td>\n",
       "      <td>1.0</td>\n",
       "      <td>1.0</td>\n",
       "      <td>398.501362</td>\n",
       "      <td>398.501362</td>\n",
       "      <td>398.501362</td>\n",
       "      <td>398.501362</td>\n",
       "      <td>398.501362</td>\n",
       "      <td>0.000000</td>\n",
       "      <td>...</td>\n",
       "      <td>-0.0</td>\n",
       "      <td>-0.000000</td>\n",
       "      <td>0.00000</td>\n",
       "      <td>NaN</td>\n",
       "      <td>NaN</td>\n",
       "      <td>NaN</td>\n",
       "      <td>NaN</td>\n",
       "      <td>NaN</td>\n",
       "      <td>0.000000</td>\n",
       "      <td>NaN</td>\n",
       "    </tr>\n",
       "  </tbody>\n",
       "</table>\n",
       "<p>5 rows × 617 columns</p>\n",
       "</div>"
      ],
      "text/plain": [
       "   SK_ID_CURR  bureau_unique_CREDIT_TYPE  bureau_unique_CREDIT_CURRENCY  \\\n",
       "0      100002                        2.0                            1.0   \n",
       "1      100003                        2.0                            1.0   \n",
       "2      100004                        1.0                            1.0   \n",
       "3      100006                        NaN                            NaN   \n",
       "4      100007                        1.0                            1.0   \n",
       "\n",
       "   bureau_unique_CREDIT_ACTIVE  \\\n",
       "0                          2.0   \n",
       "1                          2.0   \n",
       "2                          1.0   \n",
       "3                          NaN   \n",
       "4                          1.0   \n",
       "\n",
       "   bureau_AMT_CREDIT_SUM_divide_DAYS_ENDDATE_FACT_minus_DAYS_CREDIT_mean  \\\n",
       "0                                       60518.786064                       \n",
       "1                                      202655.016924                       \n",
       "2                                        1824.069565                       \n",
       "3                                                NaN                       \n",
       "4                                         398.501362                       \n",
       "\n",
       "   bureau_AMT_CREDIT_SUM_divide_DAYS_ENDDATE_FACT_minus_DAYS_CREDIT_median  \\\n",
       "0                                         498.395010                         \n",
       "1                                         285.639111                         \n",
       "2                                        1824.069565                         \n",
       "3                                                NaN                         \n",
       "4                                         398.501362                         \n",
       "\n",
       "   bureau_AMT_CREDIT_SUM_divide_DAYS_ENDDATE_FACT_minus_DAYS_CREDIT_max  \\\n",
       "0                                      450000.000000                      \n",
       "1                                      810000.000000                      \n",
       "2                                        3501.400000                      \n",
       "3                                                NaN                      \n",
       "4                                         398.501362                      \n",
       "\n",
       "   bureau_AMT_CREDIT_SUM_divide_DAYS_ENDDATE_FACT_minus_DAYS_CREDIT_min  \\\n",
       "0                                           0.000000                      \n",
       "1                                          48.789474                      \n",
       "2                                         146.739130                      \n",
       "3                                                NaN                      \n",
       "4                                         398.501362                      \n",
       "\n",
       "   bureau_AMT_CREDIT_SUM_divide_DAYS_ENDDATE_FACT_minus_DAYS_CREDIT_sum  \\\n",
       "0                                      484150.288512                      \n",
       "1                                      810620.067696                      \n",
       "2                                        3648.139130                      \n",
       "3                                                NaN                      \n",
       "4                                         398.501362                      \n",
       "\n",
       "   bureau_AMT_CREDIT_SUM_DEBT_divide_DAYS_CREDIT_UPDATE_minus_DAYS_CREDIT_ENDDATE_mean  \\\n",
       "0                                        -104.232824                                     \n",
       "1                                           0.000000                                     \n",
       "2                                           0.000000                                     \n",
       "3                                                NaN                                     \n",
       "4                                           0.000000                                     \n",
       "\n",
       "                        ...                         \\\n",
       "0                       ...                          \n",
       "1                       ...                          \n",
       "2                       ...                          \n",
       "3                       ...                          \n",
       "4                       ...                          \n",
       "\n",
       "   bureau_AMT_CREDIT_MAX_OVERDUE_divide_DAYS_CREDIT_UPDATE_max  \\\n",
       "0                                               -0.0             \n",
       "1                                               -0.0             \n",
       "2                                               -0.0             \n",
       "3                                                NaN             \n",
       "4                                               -0.0             \n",
       "\n",
       "   bureau_AMT_CREDIT_MAX_OVERDUE_divide_DAYS_CREDIT_UPDATE_min  \\\n",
       "0                                        -152.837727             \n",
       "1                                          -0.000000             \n",
       "2                                          -0.000000             \n",
       "3                                                NaN             \n",
       "4                                          -0.000000             \n",
       "\n",
       "   bureau_AMT_CREDIT_MAX_OVERDUE_divide_DAYS_CREDIT_UPDATE_sum  \\\n",
       "0                                         -158.26821             \n",
       "1                                            0.00000             \n",
       "2                                            0.00000             \n",
       "3                                                NaN             \n",
       "4                                            0.00000             \n",
       "\n",
       "   bureau_AMT_CREDIT_MAX_OVERDUE_divide_DAYS_CREDIT_UPDATE_std  \\\n",
       "0                                          67.760926             \n",
       "1                                           0.000000             \n",
       "2                                                NaN             \n",
       "3                                                NaN             \n",
       "4                                                NaN             \n",
       "\n",
       "   bureau_STATUS_NUM_divide_MONTHS_BALANCE_sum_mean  \\\n",
       "0                                         -0.135012   \n",
       "1                                               NaN   \n",
       "2                                               NaN   \n",
       "3                                               NaN   \n",
       "4                                               NaN   \n",
       "\n",
       "   bureau_STATUS_NUM_divide_MONTHS_BALANCE_sum_median  \\\n",
       "0                                          -0.136674    \n",
       "1                                                NaN    \n",
       "2                                                NaN    \n",
       "3                                                NaN    \n",
       "4                                                NaN    \n",
       "\n",
       "   bureau_STATUS_NUM_divide_MONTHS_BALANCE_sum_max  \\\n",
       "0                                              0.0   \n",
       "1                                              NaN   \n",
       "2                                              NaN   \n",
       "3                                              NaN   \n",
       "4                                              NaN   \n",
       "\n",
       "   bureau_STATUS_NUM_divide_MONTHS_BALANCE_sum_min  \\\n",
       "0                                        -0.258263   \n",
       "1                                              NaN   \n",
       "2                                              NaN   \n",
       "3                                              NaN   \n",
       "4                                              NaN   \n",
       "\n",
       "   bureau_STATUS_NUM_divide_MONTHS_BALANCE_sum_sum  \\\n",
       "0                                        -1.080096   \n",
       "1                                         0.000000   \n",
       "2                                         0.000000   \n",
       "3                                              NaN   \n",
       "4                                         0.000000   \n",
       "\n",
       "   bureau_STATUS_NUM_divide_MONTHS_BALANCE_sum_std  \n",
       "0                                         0.110696  \n",
       "1                                              NaN  \n",
       "2                                              NaN  \n",
       "3                                              NaN  \n",
       "4                                              NaN  \n",
       "\n",
       "[5 rows x 617 columns]"
      ]
     },
     "execution_count": 8,
     "metadata": {},
     "output_type": "execute_result"
    }
   ],
   "source": [
    "df.head()"
   ]
  },
  {
   "cell_type": "code",
   "execution_count": 9,
   "metadata": {
    "ExecuteTime": {
     "end_time": "2018-07-09T20:51:13.095860Z",
     "start_time": "2018-07-09T20:51:09.191347Z"
    }
   },
   "outputs": [],
   "source": [
    "df.to_pickle(PATH+'test/new_bureau.pkl')"
   ]
  },
  {
   "cell_type": "code",
   "execution_count": null,
   "metadata": {},
   "outputs": [],
   "source": []
  }
 ],
 "metadata": {
  "kernelspec": {
   "display_name": "Python 3",
   "language": "python",
   "name": "python3"
  },
  "language_info": {
   "codemirror_mode": {
    "name": "ipython",
    "version": 3
   },
   "file_extension": ".py",
   "mimetype": "text/x-python",
   "name": "python",
   "nbconvert_exporter": "python",
   "pygments_lexer": "ipython3",
   "version": "3.6.5"
  },
  "varInspector": {
   "cols": {
    "lenName": 16,
    "lenType": 16,
    "lenVar": 40
   },
   "kernels_config": {
    "python": {
     "delete_cmd_postfix": "",
     "delete_cmd_prefix": "del ",
     "library": "var_list.py",
     "varRefreshCmd": "print(var_dic_list())"
    },
    "r": {
     "delete_cmd_postfix": ") ",
     "delete_cmd_prefix": "rm(",
     "library": "var_list.r",
     "varRefreshCmd": "cat(var_dic_list()) "
    }
   },
   "types_to_exclude": [
    "module",
    "function",
    "builtin_function_or_method",
    "instance",
    "_Feature"
   ],
   "window_display": false
  }
 },
 "nbformat": 4,
 "nbformat_minor": 2
}
