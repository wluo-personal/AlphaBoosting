{
 "cells": [
  {
   "cell_type": "code",
   "execution_count": 1,
   "metadata": {
    "ExecuteTime": {
     "end_time": "2018-06-28T16:22:31.609381Z",
     "start_time": "2018-06-28T16:22:30.788410Z"
    }
   },
   "outputs": [],
   "source": [
    "import pandas as pd\n",
    "\n",
    "PATH = '/home/kai/data/kaggle/homecredit/'"
   ]
  },
  {
   "cell_type": "code",
   "execution_count": 2,
   "metadata": {
    "ExecuteTime": {
     "end_time": "2018-06-28T16:22:35.918881Z",
     "start_time": "2018-06-28T16:22:31.611513Z"
    }
   },
   "outputs": [],
   "source": [
    "train = pd.read_pickle(PATH+'inter/train_only_0.pkl')\n",
    "test = pd.read_pickle(PATH+'inter/test_only_0.pkl')\n",
    "\n",
    "# df = pd.read_pickle(PATH+'inter/bureau3curr.pkl')\n",
    "df = pd.read_pickle(PATH+'inter/bureau2curr.pkl')"
   ]
  },
  {
   "cell_type": "code",
   "execution_count": 3,
   "metadata": {
    "ExecuteTime": {
     "end_time": "2018-06-28T16:23:07.288309Z",
     "start_time": "2018-06-28T16:22:35.928151Z"
    }
   },
   "outputs": [
    {
     "name": "stdout",
     "output_type": "stream",
     "text": [
      "(307511, 329) (48744, 328) (356255, 460)\n",
      "(307511, 788) (48744, 787)\n"
     ]
    }
   ],
   "source": [
    "print(train.shape,test.shape,df.shape)\n",
    "train_df = train.merge(df, on = 'SK_ID_CURR', how = 'left' )\n",
    "test_df = test.merge(df, on = 'SK_ID_CURR', how = 'left' )\n",
    "print(train_df.shape,test_df.shape)"
   ]
  },
  {
   "cell_type": "code",
   "execution_count": 4,
   "metadata": {
    "ExecuteTime": {
     "end_time": "2018-06-28T16:23:07.427766Z",
     "start_time": "2018-06-28T16:23:07.291800Z"
    }
   },
   "outputs": [],
   "source": [
    "ignore_list = ['AMT_REQ_CREDIT_BUREAU_HOUR',\n",
    " 'AMT_REQ_CREDIT_BUREAU_MON',\n",
    " 'AMT_REQ_CREDIT_BUREAU_WEEK',\n",
    " 'CNT_CHILDREN',\n",
    " 'DEF_60_CNT_SOCIAL_CIRCLE',\n",
    " 'FLAG_DOCUMENT_10',\n",
    " 'FLAG_DOCUMENT_11',\n",
    " 'FLAG_DOCUMENT_12',\n",
    " 'FLAG_DOCUMENT_13',\n",
    " 'FLAG_DOCUMENT_14',\n",
    " 'FLAG_DOCUMENT_15',\n",
    " 'FLAG_DOCUMENT_17',\n",
    " 'FLAG_DOCUMENT_19',\n",
    " 'FLAG_DOCUMENT_2',\n",
    " 'FLAG_DOCUMENT_20',\n",
    " 'FLAG_DOCUMENT_21',\n",
    " 'FLAG_DOCUMENT_4',\n",
    " 'FLAG_DOCUMENT_7',\n",
    " 'FLAG_DOCUMENT_9',\n",
    " 'FLAG_OWN_CAR',\n",
    " 'LIVE_REGION_NOT_WORK_REGION',\n",
    " 'AMT_INCOME_TOTAL_divide_AMT_REQ_CREDIT_BUREAU_HOUR',\n",
    " 'AMT_INCOME_TOTAL_divide_AMT_REQ_CREDIT_BUREAU_DAY',\n",
    " 'AMT_CREDIT_divide_AMT_REQ_CREDIT_BUREAU_HOUR',\n",
    " 'AMT_CREDIT_divide_AMT_REQ_CREDIT_BUREAU_DAY',\n",
    " 'AMT_ANNUITY_divide_AMT_REQ_CREDIT_BUREAU_HOUR',\n",
    " 'AMT_ANNUITY_divide_AMT_REQ_CREDIT_BUREAU_DAY',\n",
    " 'AMT_GOODS_PRICE_divide_AMT_REQ_CREDIT_BUREAU_HOUR',\n",
    " 'AMT_GOODS_PRICE_divide_AMT_REQ_CREDIT_BUREAU_DAY',\n",
    " 'AMT_REQ_CREDIT_BUREAU_HOUR_divide_DAYS_BIRTH',\n",
    " 'AMT_REQ_CREDIT_BUREAU_HOUR_divide_DAYS_EMPLOYED',\n",
    " 'AMT_REQ_CREDIT_BUREAU_HOUR_divide_DAYS_REGISTRATION',\n",
    " 'AMT_REQ_CREDIT_BUREAU_HOUR_divide_DAYS_ID_PUBLISH',\n",
    " 'AMT_REQ_CREDIT_BUREAU_HOUR_divide_CNT_FAM_MEMBERS',\n",
    " 'AMT_REQ_CREDIT_BUREAU_HOUR_divide_OBS_30_CNT_SOCIAL_CIRCLE',\n",
    " 'AMT_REQ_CREDIT_BUREAU_HOUR_divide_DEF_30_CNT_SOCIAL_CIRCLE',\n",
    " 'AMT_REQ_CREDIT_BUREAU_HOUR_divide_OBS_60_CNT_SOCIAL_CIRCLE',\n",
    " 'AMT_REQ_CREDIT_BUREAU_HOUR_divide_DEF_60_CNT_SOCIAL_CIRCLE',\n",
    " 'AMT_REQ_CREDIT_BUREAU_HOUR_divide_DAYS_LAST_PHONE_CHANGE',\n",
    " 'AMT_REQ_CREDIT_BUREAU_HOUR_divide_AMT_REQ_CREDIT_BUREAU_DAY',\n",
    " 'AMT_REQ_CREDIT_BUREAU_HOUR_divide_AMT_REQ_CREDIT_BUREAU_MON',\n",
    " 'AMT_REQ_CREDIT_BUREAU_HOUR_divide_AMT_REQ_CREDIT_BUREAU_YEAR',\n",
    " 'AMT_REQ_CREDIT_BUREAU_DAY_divide_DAYS_BIRTH',\n",
    " 'AMT_REQ_CREDIT_BUREAU_DAY_divide_DAYS_EMPLOYED',\n",
    " 'AMT_REQ_CREDIT_BUREAU_DAY_divide_DAYS_REGISTRATION',\n",
    " 'AMT_REQ_CREDIT_BUREAU_DAY_divide_DAYS_ID_PUBLISH',\n",
    " 'AMT_REQ_CREDIT_BUREAU_DAY_divide_CNT_FAM_MEMBERS',\n",
    " 'AMT_REQ_CREDIT_BUREAU_DAY_divide_DEF_60_CNT_SOCIAL_CIRCLE',\n",
    " 'AMT_REQ_CREDIT_BUREAU_DAY_divide_DAYS_LAST_PHONE_CHANGE',\n",
    " 'AMT_REQ_CREDIT_BUREAU_DAY_divide_AMT_REQ_CREDIT_BUREAU_YEAR',\n",
    " 'AMT_REQ_CREDIT_BUREAU_DAY_divide_OWN_CAR_AGE',\n",
    " 'AMT_REQ_CREDIT_BUREAU_WEEK_divide_DAYS_BIRTH',\n",
    " 'AMT_REQ_CREDIT_BUREAU_WEEK_divide_CNT_FAM_MEMBERS',\n",
    " 'AMT_REQ_CREDIT_BUREAU_WEEK_divide_DEF_30_CNT_SOCIAL_CIRCLE',\n",
    " 'AMT_REQ_CREDIT_BUREAU_WEEK_divide_AMT_REQ_CREDIT_BUREAU_MON',\n",
    " 'bureau_unique_CREDIT_CURRENCY',\n",
    " 'bureau_onehot_CREDIT_TYPE_0',\n",
    " 'bureau_onehot_CREDIT_TYPE_Another_type_of_loan',\n",
    " 'bureau_onehot_CREDIT_TYPE_Cash_loan_(non-earmarked)',\n",
    " 'bureau_onehot_CREDIT_TYPE_Interbank_credit',\n",
    " 'bureau_onehot_CREDIT_TYPE_Loan_for_business_development',\n",
    " 'bureau_onehot_CREDIT_TYPE_Loan_for_purchase_of_shares_(margin_lending)',\n",
    " 'bureau_onehot_CREDIT_TYPE_Loan_for_the_purchase_of_equipment',\n",
    " 'bureau_onehot_CREDIT_TYPE_Loan_for_working_capital_replenishment',\n",
    " 'bureau_onehot_CREDIT_TYPE_Mobile_operator_loan',\n",
    " 'bureau_onehot_CREDIT_TYPE_Real_estate_loan',\n",
    " 'bureau_onehot_CREDIT_TYPE_Unknown_type_of_loan',\n",
    " 'bureau_onehot_CREDIT_CURRENCY_0',\n",
    " 'bureau_onehot_CREDIT_CURRENCY_currency_2',\n",
    " 'bureau_onehot_CREDIT_CURRENCY_currency_3',\n",
    " 'bureau_onehot_CREDIT_CURRENCY_currency_4',\n",
    " 'bureau_onehot_CREDIT_ACTIVE_0',\n",
    " 'bureau_onehot_CREDIT_ACTIVE_Bad_debt',\n",
    " 'bureau_positivecount_SK_ID_CURR_CREDIT_DAY_OVERDUE',\n",
    " 'bureau_positivecount_SK_ID_CURR_CNT_CREDIT_PROLONG',\n",
    " 'bureau_positivecount_SK_ID_CURR_AMT_CREDIT_SUM_OVERDUE',\n",
    " 'bureau_onehot_CREDIT_TYPE_0_divide_count_bureau',\n",
    " 'bureau_onehot_CREDIT_TYPE_Another_type_of_loan_divide_count_bureau',\n",
    " 'bureau_onehot_CREDIT_TYPE_Cash_loan_(non-earmarked)_divide_count_bureau',\n",
    " 'bureau_onehot_CREDIT_TYPE_Interbank_credit_divide_count_bureau',\n",
    " 'bureau_onehot_CREDIT_TYPE_Loan_for_business_development_divide_count_bureau',\n",
    " 'bureau_onehot_CREDIT_TYPE_Loan_for_purchase_of_shares_(margin_lending)_divide_count_bureau',\n",
    " 'bureau_onehot_CREDIT_TYPE_Loan_for_the_purchase_of_equipment_divide_count_bureau',\n",
    " 'bureau_onehot_CREDIT_TYPE_Loan_for_working_capital_replenishment_divide_count_bureau',\n",
    " 'bureau_onehot_CREDIT_TYPE_Mobile_operator_loan_divide_count_bureau',\n",
    " 'bureau_onehot_CREDIT_TYPE_Real_estate_loan_divide_count_bureau',\n",
    " 'bureau_onehot_CREDIT_TYPE_Unknown_type_of_loan_divide_count_bureau',\n",
    " 'bureau_onehot_CREDIT_CURRENCY_0_divide_count_bureau',\n",
    " 'bureau_onehot_CREDIT_CURRENCY_currency_2_divide_count_bureau',\n",
    " 'bureau_onehot_CREDIT_CURRENCY_currency_3_divide_count_bureau',\n",
    " 'bureau_onehot_CREDIT_CURRENCY_currency_4_divide_count_bureau',\n",
    " 'bureau_onehot_CREDIT_ACTIVE_0_divide_count_bureau',\n",
    " 'bureau_onehot_CREDIT_ACTIVE_Bad_debt_divide_count_bureau',\n",
    " 'bureau_positivecount_SK_ID_CURR_CREDIT_DAY_OVERDUE_divide_count_bureau',\n",
    " 'bureau_positivecount_SK_ID_CURR_AMT_CREDIT_SUM_OVERDUE_divide_count_bureau',\n",
    " 'bureau_AMT_CREDIT_MAX_OVERDUE_divide_AMT_CREDIT_SUM_OVERDUE_min',\n",
    " 'bureau_onehot_STATUS_5_mean',\n",
    " 'bureau_onehot_STATUS_5_median',\n",
    " 'bureau_onehot_STATUS_5_min',\n",
    " 'bureau_onehot_STATUS_5_sum',\n",
    " 'bureau_CNT_CREDIT_PROLONG_median',\n",
    " 'bureau_CNT_CREDIT_PROLONG_max',\n",
    " 'bureau_CNT_CREDIT_PROLONG_min',\n",
    " 'bureau_CNT_CREDIT_PROLONG_sum',\n",
    " 'bureau_CREDIT_DAY_OVERDUE_mean',\n",
    " 'bureau_CREDIT_DAY_OVERDUE_median',\n",
    " 'bureau_CREDIT_DAY_OVERDUE_min',\n",
    " 'bureau_CREDIT_DAY_OVERDUE_sum',\n",
    " 'bureau_CNT_CREDIT_PROLONG_divide_AMT_CREDIT_SUM_median',\n",
    " 'bureau_CNT_CREDIT_PROLONG_divide_AMT_CREDIT_SUM_min',\n",
    " 'bureau_AMT_CREDIT_SUM_LIMIT_min',\n",
    " 'bureau_AMT_CREDIT_MAX_OVERDUE_divide_AMT_CREDIT_SUM_min',\n",
    " 'bureau_onehot_STATUS_4_mean',\n",
    " 'bureau_onehot_STATUS_4_median',\n",
    " 'bureau_onehot_STATUS_4_max',\n",
    " 'bureau_onehot_STATUS_4_min',\n",
    " 'bureau_onehot_STATUS_4_sum',\n",
    " 'bureau_AMT_CREDIT_SUM_OVERDUE_divide_AMT_CREDIT_SUM_LIMIT_median',\n",
    " 'bureau_AMT_CREDIT_SUM_OVERDUE_divide_AMT_CREDIT_SUM_LIMIT_min',\n",
    " 'bureau_AMT_ANNUITY_divide_AMT_CREDIT_MAX_OVERDUE_min',\n",
    " 'bureau_onehot_STATUS_2_median',\n",
    " 'bureau_onehot_STATUS_2_max',\n",
    " 'bureau_onehot_STATUS_2_min',\n",
    " 'bureau_onehot_STATUS_2_sum',\n",
    " 'bureau_STATUS_NUM_divide_MONTHS_BALANCE_max_max',\n",
    " 'bureau_STATUS_NUM_divide_MONTHS_BALANCE_max_min',\n",
    " 'bureau_STATUS_NUM_divide_MONTHS_BALANCE_max_sum',\n",
    " 'bureau_onehot_STATUS_3_mean',\n",
    " 'bureau_onehot_STATUS_3_median',\n",
    " 'bureau_onehot_STATUS_3_max',\n",
    " 'bureau_onehot_STATUS_3_min',\n",
    " 'bureau_onehot_STATUS_3_sum',\n",
    " 'bureau_MONTHS_BALANCE_max_max',\n",
    " 'bureau_AMT_ANNUITY_divide_AMT_CREDIT_SUM_min',\n",
    " 'bureau_AMT_CREDIT_SUM_OVERDUE_divide_AMT_CREDIT_SUM_mean',\n",
    " 'bureau_AMT_CREDIT_SUM_OVERDUE_divide_AMT_CREDIT_SUM_median',\n",
    " 'bureau_AMT_CREDIT_SUM_OVERDUE_divide_AMT_CREDIT_SUM_min',\n",
    " 'bureau_CNT_CREDIT_PROLONG_divide_AMT_CREDIT_SUM_LIMIT_median',\n",
    " 'bureau_CNT_CREDIT_PROLONG_divide_AMT_CREDIT_SUM_LIMIT_min',\n",
    " 'bureau_CNT_CREDIT_PROLONG_divide_AMT_CREDIT_SUM_LIMIT_sum',\n",
    " 'bureau_AMT_CREDIT_SUM_OVERDUE_median',\n",
    " 'bureau_AMT_CREDIT_SUM_OVERDUE_min',\n",
    " 'bureau_AMT_CREDIT_SUM_OVERDUE_sum',\n",
    " 'bureau_STATUS_NUM_divide_MONTHS_BALANCE_median_mean',\n",
    " 'bureau_STATUS_NUM_divide_MONTHS_BALANCE_median_median',\n",
    " 'bureau_STATUS_NUM_divide_MONTHS_BALANCE_median_max',\n",
    " 'bureau_STATUS_NUM_divide_MONTHS_BALANCE_median_sum']"
   ]
  },
  {
   "cell_type": "code",
   "execution_count": 5,
   "metadata": {
    "ExecuteTime": {
     "end_time": "2018-06-28T16:23:15.317036Z",
     "start_time": "2018-06-28T16:23:07.434231Z"
    }
   },
   "outputs": [],
   "source": [
    "train_columns = [col for col in train_df.columns if col not in ignore_list]\n",
    "test_columns = [col for col in test_df.columns if col not in ignore_list]\n",
    "train_df = train_df[train_columns]\n",
    "test_df = test_df[test_columns]"
   ]
  },
  {
   "cell_type": "code",
   "execution_count": 6,
   "metadata": {
    "ExecuteTime": {
     "end_time": "2018-06-28T16:23:15.321797Z",
     "start_time": "2018-06-28T16:23:15.318826Z"
    }
   },
   "outputs": [
    {
     "name": "stdout",
     "output_type": "stream",
     "text": [
      "(307511, 690) (48744, 689)\n"
     ]
    }
   ],
   "source": [
    "print(train_df.shape,test_df.shape)"
   ]
  },
  {
   "cell_type": "code",
   "execution_count": null,
   "metadata": {
    "ExecuteTime": {
     "start_time": "2018-06-28T16:22:30.732Z"
    },
    "scrolled": true
   },
   "outputs": [
    {
     "name": "stdout",
     "output_type": "stream",
     "text": [
      "begin cv\n"
     ]
    },
    {
     "name": "stderr",
     "output_type": "stream",
     "text": [
      "/home/kai/anaconda3/lib/python3.6/site-packages/lightgbm/engine.py:390: UserWarning: Found `num_iteration` in params. Will use it instead of argument\n",
      "  warnings.warn(\"Found `{}` in params. Will use it instead of argument\".format(alias))\n",
      "/home/kai/anaconda3/lib/python3.6/site-packages/lightgbm/basic.py:1027: UserWarning: Using categorical_feature in Dataset.\n",
      "  warnings.warn('Using categorical_feature in Dataset.')\n"
     ]
    },
    {
     "name": "stdout",
     "output_type": "stream",
     "text": [
      "[100]\tcv_agg's auc: 0.762619 + 0.00309723\n",
      "[200]\tcv_agg's auc: 0.772588 + 0.00269823\n",
      "[300]\tcv_agg's auc: 0.775776 + 0.0022696\n",
      "[400]\tcv_agg's auc: 0.777164 + 0.00226893\n",
      "[500]\tcv_agg's auc: 0.777969 + 0.00212686\n"
     ]
    }
   ],
   "source": [
    "n_splits = 5\n",
    "print('begin cv')\n",
    "target = train_df['TARGET']\n",
    "ignore_cols = ['ORGANIZATION_TYPE', 'TARGET', 'SK_ID_CURR']\n",
    "features = [x for x in train_df.columns if x not in ignore_cols]\n",
    "train = train_df[features]\n",
    "test = test_df[features]\n",
    "\n",
    "from sklearn.model_selection import StratifiedKFold\n",
    "from lightgbm import LGBMClassifier\n",
    "from sklearn.metrics import roc_auc_score\n",
    "import lightgbm as lgbm\n",
    "\n",
    "lgbm_train = lgbm.Dataset(data=train,\n",
    "                          label=target,\n",
    "\n",
    "                          categorical_feature=[],#categorical_feats,\n",
    "                          free_raw_data=False)\n",
    "\n",
    "#     lgbm_params = {'task': 'train', 'boosting_type': 'gbdt', 'objective': 'binary', 'metric': 'auc', \n",
    "#               'learning_rate': 0.01, 'num_leaves': 48, 'num_iteration': 4000, 'verbose': 0 ,\n",
    "#               'colsample_bytree':.8, 'subsample':.9, 'max_depth':7, 'reg_alpha':.1, 'reg_lambda':.1, \n",
    "#               'min_split_gain':.01, 'min_child_weight':1,'num_threads': 12,'feature_fraction': 0.2,\n",
    "#                   'scale_pos_weight':1}\n",
    "lgbm_params = {\n",
    "    'task': 'train',\n",
    "    'boosting_type': 'gbdt',\n",
    "    'objective': 'binary',\n",
    "    'metric': 'auc',\n",
    "    'learning_rate': 0.05,\n",
    "    'num_iteration': 4000,\n",
    "    'num_threads': 2,\n",
    "\n",
    "    'num_leaves': int(round(44.368535336628419)),\n",
    "    'feature_fraction': 0.28231763168020257,\n",
    "    'bagging_fraction': 0.94901525271474951,\n",
    "    'max_depth': int(round(8.0430115561596267)),\n",
    "    'lambda_l1': 0.30680079516647751,\n",
    "    'lambda_l2': 0.079128660903201031,\n",
    "    'min_split_gain': 0.054005067457890979,\n",
    "    'min_child_weight': 98.172643147364937\n",
    "} \n",
    "\n",
    "cv_results = lgbm.cv(train_set=lgbm_train,\n",
    "                     params=lgbm_params,\n",
    "                     nfold=n_splits,\n",
    "                     early_stopping_rounds=150,\n",
    "                     verbose_eval=100,\n",
    "                     metrics=['auc'])\n",
    "\n",
    "optimum_boost_rounds = np.argmax(cv_results['auc-mean'])\n",
    "print('Optimum boost rounds = {}'.format(optimum_boost_rounds))\n",
    "print('Best CV result = {}'.format(np.max(cv_results['auc-mean'])))\n",
    "\n",
    "clf = lgbm.train(train_set=lgbm_train,\n",
    "                 params=lgbm_params,\n",
    "                 num_boost_round=optimum_boost_rounds,\n",
    "                verbose_eval=100)\n",
    "\n",
    "\"\"\" Predict on test set and create submission \"\"\"\n",
    "y_pred = clf.predict(test_df)\n",
    "out_df = pd.DataFrame({'SK_ID_CURR': test_df['SK_ID_CURR'], 'TARGET': y_pred})\n",
    "# small_len = out_df[out_df['TARGET']< threshold1]\n",
    "# large_len = out_df[out_df['TARGET']> threshold2]\n",
    "# print('length of small and large,',len(small_len),len(large_len))"
   ]
  },
  {
   "cell_type": "markdown",
   "metadata": {},
   "source": [
    "[100]\tcv_agg's auc: 0.763885 + 0.00317189\n",
    "[200]\tcv_agg's auc: 0.773473 + 0.00245369\n",
    "[300]\tcv_agg's auc: 0.776552 + 0.00209517\n",
    "[400]\tcv_agg's auc: 0.777735 + 0.00210426\n",
    "[500]\tcv_agg's auc: 0.7784 + 0.00221838\n",
    "[600]\tcv_agg's auc: 0.778479 + 0.00220608\n",
    "[700]\tcv_agg's auc: 0.778498 + 0.00223873\n",
    "Optimum boost rounds = 573\n",
    "Best CV result = 0.778572995524804 for bureau 06_26\n",
    "-------------------------------\n",
    "[100]\tcv_agg's auc: 0.765051 + 0.00283224\n",
    "[200]\tcv_agg's auc: 0.773985 + 0.00215048\n",
    "[300]\tcv_agg's auc: 0.776766 + 0.001885\n",
    "[400]\tcv_agg's auc: 0.778169 + 0.00184999\n",
    "[500]\tcv_agg's auc: 0.778648 + 0.0019722\n",
    "[600]\tcv_agg's auc: 0.778901 + 0.00184817\n",
    "[700]\tcv_agg's auc: 0.778911 + 0.00163085\n",
    "Optimum boost rounds = 620\n",
    "Best CV result = 0.7789462276312233 for bureau 06_27\n",
    "------------------------------\n"
   ]
  },
  {
   "cell_type": "markdown",
   "metadata": {},
   "source": [
    "# info gain & corr "
   ]
  },
  {
   "cell_type": "code",
   "execution_count": null,
   "metadata": {
    "ExecuteTime": {
     "start_time": "2018-06-28T16:22:30.734Z"
    }
   },
   "outputs": [],
   "source": [
    "import matplotlib.pyplot as plt\n",
    "out_df[['TARGET']].hist()\n",
    "plt.show()"
   ]
  },
  {
   "cell_type": "code",
   "execution_count": null,
   "metadata": {
    "ExecuteTime": {
     "start_time": "2018-06-28T16:22:30.736Z"
    }
   },
   "outputs": [],
   "source": [
    "import matplotlib.pyplot as plt\n",
    "\n",
    "fig, (ax, ax1) = plt.subplots(1, 2, figsize=[15, 7])\n",
    "lgbm.plot_importance(clf, ax=ax, max_num_features=30, importance_type='split')\n",
    "lgbm.plot_importance(clf, ax=ax1, max_num_features=30, importance_type='gain')\n",
    "ax.set_title('Importance by splits')\n",
    "ax1.set_title('Importance by gain')\n",
    "plt.tight_layout()\n",
    "plt.show()"
   ]
  },
  {
   "cell_type": "code",
   "execution_count": null,
   "metadata": {
    "ExecuteTime": {
     "start_time": "2018-06-28T16:22:30.738Z"
    }
   },
   "outputs": [],
   "source": [
    "x = [x for x in zip(clf.feature_name(), clf.feature_importance('gain'))]\n",
    "x.sort(key=lambda x: x[1], reverse=True)\n",
    "y = [j for i, j in enumerate(x)]\n",
    "x = [(i, j) for i, j in enumerate(x)]\n",
    "x"
   ]
  },
  {
   "cell_type": "code",
   "execution_count": null,
   "metadata": {
    "ExecuteTime": {
     "start_time": "2018-06-28T16:22:30.739Z"
    }
   },
   "outputs": [],
   "source": [
    "z = [y[i][0] for i in range(len(y))]"
   ]
  },
  {
   "cell_type": "code",
   "execution_count": null,
   "metadata": {
    "ExecuteTime": {
     "start_time": "2018-06-28T16:22:30.743Z"
    }
   },
   "outputs": [],
   "source": [
    "z"
   ]
  },
  {
   "cell_type": "code",
   "execution_count": null,
   "metadata": {
    "ExecuteTime": {
     "start_time": "2018-06-28T16:22:30.744Z"
    }
   },
   "outputs": [],
   "source": [
    "x = [x for x in zip(clf.feature_name(), clf.feature_importance('split'))]\n",
    "x.sort(key=lambda x: x[1], reverse=True)\n",
    "x = [(i, j) for i, j in enumerate(x)]\n",
    "x"
   ]
  },
  {
   "cell_type": "code",
   "execution_count": null,
   "metadata": {},
   "outputs": [],
   "source": []
  }
 ],
 "metadata": {
  "kernelspec": {
   "display_name": "Python 3",
   "language": "python",
   "name": "python3"
  },
  "language_info": {
   "codemirror_mode": {
    "name": "ipython",
    "version": 3
   },
   "file_extension": ".py",
   "mimetype": "text/x-python",
   "name": "python",
   "nbconvert_exporter": "python",
   "pygments_lexer": "ipython3",
   "version": "3.6.5"
  },
  "varInspector": {
   "cols": {
    "lenName": 16,
    "lenType": 16,
    "lenVar": 40
   },
   "kernels_config": {
    "python": {
     "delete_cmd_postfix": "",
     "delete_cmd_prefix": "del ",
     "library": "var_list.py",
     "varRefreshCmd": "print(var_dic_list())"
    },
    "r": {
     "delete_cmd_postfix": ") ",
     "delete_cmd_prefix": "rm(",
     "library": "var_list.r",
     "varRefreshCmd": "cat(var_dic_list()) "
    }
   },
   "types_to_exclude": [
    "module",
    "function",
    "builtin_function_or_method",
    "instance",
    "_Feature"
   ],
   "window_display": false
  }
 },
 "nbformat": 4,
 "nbformat_minor": 2
}
