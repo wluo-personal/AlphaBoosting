{
 "cells": [
  {
   "cell_type": "code",
   "execution_count": 1,
   "metadata": {
    "ExecuteTime": {
     "end_time": "2018-06-22T17:25:15.551356Z",
     "start_time": "2018-06-22T17:25:14.783981Z"
    }
   },
   "outputs": [],
   "source": [
    "import os\n",
    "import numpy as np\n",
    "import pandas as pd\n",
    "import gc\n",
    "import time\n",
    "from contextlib import contextmanager\n",
    "from lightgbm import LGBMClassifier\n",
    "from sklearn.metrics import roc_auc_score, roc_curve\n",
    "from sklearn.model_selection import KFold, StratifiedKFold\n",
    "import matplotlib.pyplot as plt\n",
    "import seaborn as sns\n",
    "import warnings\n",
    "warnings.simplefilter(action='ignore', category=FutureWarning)\n",
    "PATH = '/home/kai/data/kaggle/homecredit/'\n"
   ]
  },
  {
   "cell_type": "code",
   "execution_count": 2,
   "metadata": {
    "ExecuteTime": {
     "end_time": "2018-06-22T17:25:17.226967Z",
     "start_time": "2018-06-22T17:25:15.566353Z"
    },
    "scrolled": false
   },
   "outputs": [
    {
     "name": "stdout",
     "output_type": "stream",
     "text": [
      "(307511, 329) (48744, 328)\n"
     ]
    },
    {
     "data": {
      "text/plain": [
       "'done'"
      ]
     },
     "execution_count": 2,
     "metadata": {},
     "output_type": "execute_result"
    }
   ],
   "source": [
    "# Read train and test\n",
    "train = pd.read_pickle(PATH + 'inter/train_only_0.pkl')\n",
    "test = pd.read_pickle(PATH + 'inter/test_only_0.pkl')\n",
    "print(train.shape, test.shape)\n",
    "'done'"
   ]
  },
  {
   "cell_type": "markdown",
   "metadata": {},
   "source": [
    "# Cut large piece and get new train&test, and large_pred piece"
   ]
  },
  {
   "cell_type": "code",
   "execution_count": 3,
   "metadata": {
    "ExecuteTime": {
     "end_time": "2018-06-22T17:25:18.247559Z",
     "start_time": "2018-06-22T17:25:18.231322Z"
    }
   },
   "outputs": [],
   "source": [
    "def large_new(df1, df2, prediction, threshold):\n",
    "    print('begin cut large')\n",
    "    pred = prediction.copy()\n",
    "    train_df, test_df = df1.copy(), df2.copy()\n",
    "    print('old shapes,' ,test_df.shape,train_df.shape)\n",
    "    half_pred = pred[pred['TARGET'] > threshold]\n",
    "    index_half = half_pred.index\n",
    "    print('length of half',len(half_pred))\n",
    "    test_half = test_df.iloc[index_half]\n",
    "    test_half['TARGET'] = 1\n",
    "\n",
    "    # drop index_half for test_df, add train\n",
    "    test_df.drop(index_half, inplace = True)\n",
    "    train_df = pd.concat([train_df,test_half])\n",
    "    print('new shapes,',test_df.shape,train_df.shape)\n",
    "    return train_df, test_df, half_pred"
   ]
  },
  {
   "cell_type": "markdown",
   "metadata": {},
   "source": [
    "# Cut small piece and get new train& test, and small_pred piece"
   ]
  },
  {
   "cell_type": "code",
   "execution_count": 4,
   "metadata": {
    "ExecuteTime": {
     "end_time": "2018-06-22T17:25:19.063153Z",
     "start_time": "2018-06-22T17:25:19.059106Z"
    }
   },
   "outputs": [],
   "source": [
    "def small_new(df1, df2, prediction, threshold):\n",
    "    print('begin cut small')\n",
    "    pred = prediction.copy()\n",
    "    train_df, test_df = df1.copy(), df2.copy()\n",
    "    print('old shapes,',test_df.shape,train_df.shape)\n",
    "    small_pred = pred[pred['TARGET'] < threshold]\n",
    "    index_small = small_pred.index\n",
    "    print('length of small',len(small_pred))\n",
    "    test_small = test_df.iloc[index_small]\n",
    "    test_small['TARGET'] = 0\n",
    "\n",
    "    # drop index_small for test_df, add train\n",
    "    test_df.drop(index_small, inplace = True)\n",
    "    train_df = pd.concat([train_df,test_small])\n",
    "    print('new shapes,',test_df.shape,train_df.shape)\n",
    "    return train_df, test_df, small_pred"
   ]
  },
  {
   "cell_type": "markdown",
   "metadata": {},
   "source": [
    "# Models"
   ]
  },
  {
   "cell_type": "code",
   "execution_count": 5,
   "metadata": {
    "ExecuteTime": {
     "end_time": "2018-06-22T17:25:19.811176Z",
     "start_time": "2018-06-22T17:25:19.802063Z"
    }
   },
   "outputs": [],
   "source": [
    "def model_1(train_df, test_df, threshold1, threshold2, n_splits):\n",
    "    print('begin blended lightgbm')\n",
    "    # Cross validation model\n",
    "    stratified = False\n",
    "\n",
    "    if stratified:\n",
    "        folds = StratifiedKFold(n_splits, shuffle=True, random_state=1001)\n",
    "    else:\n",
    "        folds = KFold(n_splits, shuffle=True, random_state=45)\n",
    "    # Create arrays and dataframes to store results\n",
    "    oof_preds = np.zeros(train_df.shape[0])\n",
    "    sub_preds = np.zeros(test_df.shape[0])\n",
    "    feature_importance_df = pd.DataFrame()\n",
    "    feats = [f for f in train_df.columns if f not in ['TARGET','SK_ID_CURR','SK_ID_BUREAU','SK_ID_PREV','index']]\n",
    "\n",
    "    for n_fold, (train_idx, valid_idx) in enumerate(folds.split(train_df[feats], train_df['TARGET'])):\n",
    "        train_x, train_y = train_df[feats].iloc[train_idx], train_df['TARGET'].iloc[train_idx]\n",
    "        valid_x, valid_y = train_df[feats].iloc[valid_idx], train_df['TARGET'].iloc[valid_idx]\n",
    "\n",
    "        # LightGBM parameters found by Bayesian optimization\n",
    "        clf = LGBMClassifier(\n",
    "            nthread=4,\n",
    "            n_estimators=10000,\n",
    "            learning_rate=0.02,\n",
    "            num_leaves=34,\n",
    "            colsample_bytree=0.9497036,\n",
    "            subsample=0.8715623,\n",
    "            max_depth=8,\n",
    "            reg_alpha=0.041545473,\n",
    "            reg_lambda=0.0735294,\n",
    "            min_split_gain=0.0222415,\n",
    "            min_child_weight=39.3259775,\n",
    "            silent=-1,\n",
    "            verbose=-1, )\n",
    "\n",
    "        clf.fit(train_x, train_y, eval_set=[(train_x, train_y), (valid_x, valid_y)], \n",
    "            eval_metric= 'auc', verbose= 100, early_stopping_rounds= 200)\n",
    "\n",
    "        oof_preds[valid_idx] = clf.predict_proba(valid_x, num_iteration=clf.best_iteration_)[:, 1]\n",
    "        sub_preds += clf.predict_proba(test_df[feats], num_iteration=clf.best_iteration_)[:, 1] / folds.n_splits\n",
    "\n",
    "    #     fold_importance_df = pd.DataFrame()\n",
    "    #     fold_importance_df[\"feature\"] = feats\n",
    "    # #     fold_importance_df[\"importance\"] = clf.feature_importances_\n",
    "    #     fold_importance_df[\"fold\"] = n_fold + 1\n",
    "    #     feature_importance_df = pd.concat([feature_importance_df, fold_importance_df], axis=0)\n",
    "        print('Fold %2d AUC : %.6f' % (n_fold + 1, roc_auc_score(valid_y, oof_preds[valid_idx])))\n",
    "        del clf, train_x, train_y, valid_x, valid_y\n",
    "        gc.collect()\n",
    "    print('Full AUC score %.6f' % roc_auc_score(train_df['TARGET'], oof_preds))\n",
    "    \n",
    "    test_df['TARGET'] = sub_preds\n",
    "    pred =test_df[['SK_ID_CURR', 'TARGET']]\n",
    "    len_small = len(pred[pred['TARGET']< threshold1])\n",
    "    len_large = len(pred[pred['TARGET']> threshold2])\n",
    "    print('length of small and large', len_small, len_large)\n",
    "    return pred, len_small, len_large\n",
    "\n",
    "def model_2(train_df, test_df, threshold1, threshold2, n_splits):\n",
    "    pass"
   ]
  },
  {
   "cell_type": "markdown",
   "metadata": {
    "collapsed": true
   },
   "source": [
    "# Concate back to a submission"
   ]
  },
  {
   "cell_type": "code",
   "execution_count": 6,
   "metadata": {
    "ExecuteTime": {
     "end_time": "2018-06-22T17:25:20.094592Z",
     "start_time": "2018-06-22T17:25:20.086695Z"
    }
   },
   "outputs": [],
   "source": [
    "# col = 'SK_ID_CURR'\n",
    "def concat_pred(cutout_pred, modified_pred):\n",
    "    print('begin concat predictions')\n",
    "    test_concat = pd.concat([modified_pred, cutout_pred], axis = 0)\n",
    "    print(test_concat.shape)\n",
    "    test = pd.read_csv(PATH + 'application_test.csv')\n",
    "    test = test[['SK_ID_CURR']]\n",
    "    pred = test.merge(test_concat, how = 'left', on = 'SK_ID_CURR')\n",
    "    return pred\n"
   ]
  },
  {
   "cell_type": "markdown",
   "metadata": {},
   "source": [
    "# Run"
   ]
  },
  {
   "cell_type": "code",
   "execution_count": 7,
   "metadata": {
    "ExecuteTime": {
     "end_time": "2018-06-22T17:48:58.384801Z",
     "start_time": "2018-06-22T17:25:20.889674Z"
    }
   },
   "outputs": [
    {
     "name": "stdout",
     "output_type": "stream",
     "text": [
      "begin blended lightgbm\n",
      "Training until validation scores don't improve for 200 rounds.\n",
      "[100]\ttraining's auc: 0.74607\tvalid_1's auc: 0.740495\n",
      "[200]\ttraining's auc: 0.765681\tvalid_1's auc: 0.754649\n",
      "[300]\ttraining's auc: 0.780493\tvalid_1's auc: 0.762655\n",
      "[400]\ttraining's auc: 0.791257\tvalid_1's auc: 0.766253\n",
      "[500]\ttraining's auc: 0.799451\tvalid_1's auc: 0.767723\n",
      "[600]\ttraining's auc: 0.80664\tvalid_1's auc: 0.768981\n",
      "[700]\ttraining's auc: 0.813334\tvalid_1's auc: 0.76967\n",
      "[800]\ttraining's auc: 0.819083\tvalid_1's auc: 0.769776\n",
      "[900]\ttraining's auc: 0.824678\tvalid_1's auc: 0.77012\n",
      "[1000]\ttraining's auc: 0.829886\tvalid_1's auc: 0.770198\n",
      "[1100]\ttraining's auc: 0.834757\tvalid_1's auc: 0.770211\n",
      "[1200]\ttraining's auc: 0.839347\tvalid_1's auc: 0.770411\n",
      "[1300]\ttraining's auc: 0.843902\tvalid_1's auc: 0.770243\n",
      "[1400]\ttraining's auc: 0.848712\tvalid_1's auc: 0.770065\n",
      "Early stopping, best iteration is:\n",
      "[1214]\ttraining's auc: 0.839914\tvalid_1's auc: 0.770445\n",
      "Fold  1 AUC : 0.770450\n",
      "Training until validation scores don't improve for 200 rounds.\n",
      "[100]\ttraining's auc: 0.747996\tvalid_1's auc: 0.73411\n",
      "[200]\ttraining's auc: 0.766617\tvalid_1's auc: 0.748158\n",
      "[300]\ttraining's auc: 0.781564\tvalid_1's auc: 0.756864\n",
      "[400]\ttraining's auc: 0.791966\tvalid_1's auc: 0.761097\n",
      "[500]\ttraining's auc: 0.800262\tvalid_1's auc: 0.76302\n",
      "[600]\ttraining's auc: 0.807382\tvalid_1's auc: 0.764454\n",
      "[700]\ttraining's auc: 0.81371\tvalid_1's auc: 0.765306\n",
      "[800]\ttraining's auc: 0.819787\tvalid_1's auc: 0.765768\n",
      "[900]\ttraining's auc: 0.825291\tvalid_1's auc: 0.766085\n",
      "[1000]\ttraining's auc: 0.830818\tvalid_1's auc: 0.766184\n",
      "[1100]\ttraining's auc: 0.835619\tvalid_1's auc: 0.76616\n",
      "[1200]\ttraining's auc: 0.840524\tvalid_1's auc: 0.766286\n",
      "[1300]\ttraining's auc: 0.844973\tvalid_1's auc: 0.766326\n",
      "[1400]\ttraining's auc: 0.849398\tvalid_1's auc: 0.766251\n",
      "Early stopping, best iteration is:\n",
      "[1281]\ttraining's auc: 0.844049\tvalid_1's auc: 0.766365\n",
      "Fold  2 AUC : 0.766391\n",
      "Training until validation scores don't improve for 200 rounds.\n",
      "[100]\ttraining's auc: 0.745664\tvalid_1's auc: 0.740987\n",
      "[200]\ttraining's auc: 0.76553\tvalid_1's auc: 0.753982\n",
      "[300]\ttraining's auc: 0.780716\tvalid_1's auc: 0.762014\n",
      "[400]\ttraining's auc: 0.791043\tvalid_1's auc: 0.765479\n",
      "[500]\ttraining's auc: 0.799393\tvalid_1's auc: 0.767342\n",
      "[600]\ttraining's auc: 0.806816\tvalid_1's auc: 0.768611\n",
      "[700]\ttraining's auc: 0.813162\tvalid_1's auc: 0.769015\n",
      "[800]\ttraining's auc: 0.819252\tvalid_1's auc: 0.769532\n",
      "[900]\ttraining's auc: 0.82499\tvalid_1's auc: 0.769679\n",
      "[1000]\ttraining's auc: 0.830505\tvalid_1's auc: 0.769875\n",
      "[1100]\ttraining's auc: 0.835338\tvalid_1's auc: 0.769801\n",
      "[1200]\ttraining's auc: 0.840235\tvalid_1's auc: 0.769749\n",
      "Early stopping, best iteration is:\n",
      "[1031]\ttraining's auc: 0.832151\tvalid_1's auc: 0.769964\n",
      "Fold  3 AUC : 0.769977\n",
      "Training until validation scores don't improve for 200 rounds.\n",
      "[100]\ttraining's auc: 0.745735\tvalid_1's auc: 0.740109\n",
      "[200]\ttraining's auc: 0.764999\tvalid_1's auc: 0.754956\n",
      "[300]\ttraining's auc: 0.779973\tvalid_1's auc: 0.763559\n",
      "[400]\ttraining's auc: 0.790508\tvalid_1's auc: 0.767471\n",
      "[500]\ttraining's auc: 0.798413\tvalid_1's auc: 0.76901\n",
      "[600]\ttraining's auc: 0.805565\tvalid_1's auc: 0.770195\n",
      "[700]\ttraining's auc: 0.812088\tvalid_1's auc: 0.771087\n",
      "[800]\ttraining's auc: 0.818138\tvalid_1's auc: 0.771617\n",
      "[900]\ttraining's auc: 0.823428\tvalid_1's auc: 0.771985\n",
      "[1000]\ttraining's auc: 0.828551\tvalid_1's auc: 0.772214\n",
      "[1100]\ttraining's auc: 0.83403\tvalid_1's auc: 0.77219\n",
      "[1200]\ttraining's auc: 0.839043\tvalid_1's auc: 0.772188\n",
      "Early stopping, best iteration is:\n",
      "[1082]\ttraining's auc: 0.8331\tvalid_1's auc: 0.77232\n",
      "Fold  4 AUC : 0.772360\n",
      "Training until validation scores don't improve for 200 rounds.\n",
      "[100]\ttraining's auc: 0.748276\tvalid_1's auc: 0.73196\n",
      "[200]\ttraining's auc: 0.767322\tvalid_1's auc: 0.746238\n",
      "[300]\ttraining's auc: 0.781926\tvalid_1's auc: 0.754987\n",
      "[400]\ttraining's auc: 0.792324\tvalid_1's auc: 0.759317\n",
      "[500]\ttraining's auc: 0.800045\tvalid_1's auc: 0.761493\n",
      "[600]\ttraining's auc: 0.806916\tvalid_1's auc: 0.762247\n",
      "[700]\ttraining's auc: 0.813344\tvalid_1's auc: 0.763013\n",
      "[800]\ttraining's auc: 0.81948\tvalid_1's auc: 0.763576\n",
      "[900]\ttraining's auc: 0.825061\tvalid_1's auc: 0.763786\n",
      "[1000]\ttraining's auc: 0.830417\tvalid_1's auc: 0.763864\n",
      "[1100]\ttraining's auc: 0.835465\tvalid_1's auc: 0.763966\n",
      "[1200]\ttraining's auc: 0.840231\tvalid_1's auc: 0.764076\n",
      "[1300]\ttraining's auc: 0.845018\tvalid_1's auc: 0.763998\n",
      "Early stopping, best iteration is:\n",
      "[1195]\ttraining's auc: 0.839968\tvalid_1's auc: 0.764098\n",
      "Fold  5 AUC : 0.764098\n",
      "Full AUC score 0.768532\n",
      "length of small and large 31 127\n",
      "begin cutting\n",
      "begin cut small\n",
      "old shapes, (48744, 329) (307511, 329)\n",
      "length of small 31\n"
     ]
    },
    {
     "name": "stderr",
     "output_type": "stream",
     "text": [
      "/home/kai/anaconda3/lib/python3.6/site-packages/ipykernel_launcher.py:10: SettingWithCopyWarning: \n",
      "A value is trying to be set on a copy of a slice from a DataFrame.\n",
      "Try using .loc[row_indexer,col_indexer] = value instead\n",
      "\n",
      "See the caveats in the documentation: http://pandas.pydata.org/pandas-docs/stable/indexing.html#indexing-view-versus-copy\n",
      "  # Remove the CWD from sys.path while we load stuff.\n"
     ]
    },
    {
     "name": "stdout",
     "output_type": "stream",
     "text": [
      "new shapes, (48713, 329) (307542, 329)\n",
      "begin cut new\n",
      "old shapes, (48744, 329) (307511, 329)\n",
      "length of half 127\n",
      "new shapes, (48617, 329) (307638, 329)\n"
     ]
    }
   ],
   "source": [
    "threshold1, threshold2 = 0.005, 0.5\n",
    "n_splits = 5\n",
    "\n",
    "pred1, small, large = model_1(train, test, threshold1, threshold2,n_splits)\n",
    "\n",
    "print('begin cutting')\n",
    "train_small, test_small, cut_small = small_new(train, test, pred1, threshold1)\n",
    "train_large, test_large, cut_large = large_new(train, test, pred1, threshold2)\n"
   ]
  },
  {
   "cell_type": "code",
   "execution_count": 8,
   "metadata": {
    "ExecuteTime": {
     "end_time": "2018-06-22T18:13:40.449260Z",
     "start_time": "2018-06-22T17:48:59.532189Z"
    }
   },
   "outputs": [
    {
     "name": "stdout",
     "output_type": "stream",
     "text": [
      "begin blended lightgbm\n",
      "Training until validation scores don't improve for 200 rounds.\n",
      "[100]\ttraining's auc: 0.747127\tvalid_1's auc: 0.739968\n",
      "[200]\ttraining's auc: 0.765884\tvalid_1's auc: 0.753647\n",
      "[300]\ttraining's auc: 0.780765\tvalid_1's auc: 0.761991\n",
      "[400]\ttraining's auc: 0.790972\tvalid_1's auc: 0.765447\n",
      "[500]\ttraining's auc: 0.799438\tvalid_1's auc: 0.76754\n",
      "[600]\ttraining's auc: 0.806608\tvalid_1's auc: 0.768489\n",
      "[700]\ttraining's auc: 0.813161\tvalid_1's auc: 0.769064\n",
      "[800]\ttraining's auc: 0.819272\tvalid_1's auc: 0.769408\n",
      "[900]\ttraining's auc: 0.824848\tvalid_1's auc: 0.769862\n",
      "[1000]\ttraining's auc: 0.830152\tvalid_1's auc: 0.76999\n",
      "[1100]\ttraining's auc: 0.835148\tvalid_1's auc: 0.769951\n",
      "[1200]\ttraining's auc: 0.839924\tvalid_1's auc: 0.770023\n",
      "[1300]\ttraining's auc: 0.844353\tvalid_1's auc: 0.770059\n",
      "[1400]\ttraining's auc: 0.848973\tvalid_1's auc: 0.76999\n",
      "[1500]\ttraining's auc: 0.853191\tvalid_1's auc: 0.769938\n",
      "Early stopping, best iteration is:\n",
      "[1315]\ttraining's auc: 0.845082\tvalid_1's auc: 0.770189\n",
      "Fold  1 AUC : 0.770186\n",
      "Training until validation scores don't improve for 200 rounds.\n",
      "[100]\ttraining's auc: 0.749381\tvalid_1's auc: 0.735903\n",
      "[200]\ttraining's auc: 0.768013\tvalid_1's auc: 0.747259\n",
      "[300]\ttraining's auc: 0.782572\tvalid_1's auc: 0.75413\n",
      "[400]\ttraining's auc: 0.792961\tvalid_1's auc: 0.757644\n",
      "[500]\ttraining's auc: 0.80117\tvalid_1's auc: 0.759825\n",
      "[600]\ttraining's auc: 0.808317\tvalid_1's auc: 0.761129\n",
      "[700]\ttraining's auc: 0.814489\tvalid_1's auc: 0.761884\n",
      "[800]\ttraining's auc: 0.82032\tvalid_1's auc: 0.762352\n",
      "[900]\ttraining's auc: 0.825529\tvalid_1's auc: 0.762558\n",
      "[1000]\ttraining's auc: 0.830883\tvalid_1's auc: 0.762631\n",
      "[1100]\ttraining's auc: 0.835668\tvalid_1's auc: 0.762848\n",
      "[1200]\ttraining's auc: 0.840634\tvalid_1's auc: 0.7629\n",
      "[1300]\ttraining's auc: 0.845082\tvalid_1's auc: 0.762989\n",
      "[1400]\ttraining's auc: 0.849466\tvalid_1's auc: 0.762959\n",
      "Early stopping, best iteration is:\n",
      "[1275]\ttraining's auc: 0.844153\tvalid_1's auc: 0.763034\n",
      "Fold  2 AUC : 0.763059\n",
      "Training until validation scores don't improve for 200 rounds.\n",
      "[100]\ttraining's auc: 0.74684\tvalid_1's auc: 0.740645\n",
      "[200]\ttraining's auc: 0.765363\tvalid_1's auc: 0.755055\n",
      "[300]\ttraining's auc: 0.780167\tvalid_1's auc: 0.763956\n",
      "[400]\ttraining's auc: 0.790562\tvalid_1's auc: 0.767879\n",
      "[500]\ttraining's auc: 0.79904\tvalid_1's auc: 0.769764\n",
      "[600]\ttraining's auc: 0.806326\tvalid_1's auc: 0.771104\n",
      "[700]\ttraining's auc: 0.813001\tvalid_1's auc: 0.771847\n",
      "[800]\ttraining's auc: 0.818929\tvalid_1's auc: 0.772268\n",
      "[900]\ttraining's auc: 0.824428\tvalid_1's auc: 0.772307\n",
      "[1000]\ttraining's auc: 0.829537\tvalid_1's auc: 0.772378\n",
      "[1100]\ttraining's auc: 0.834271\tvalid_1's auc: 0.772582\n",
      "[1200]\ttraining's auc: 0.839434\tvalid_1's auc: 0.772501\n",
      "[1300]\ttraining's auc: 0.843684\tvalid_1's auc: 0.772403\n",
      "Early stopping, best iteration is:\n",
      "[1128]\ttraining's auc: 0.835892\tvalid_1's auc: 0.772673\n",
      "Fold  3 AUC : 0.772660\n",
      "Training until validation scores don't improve for 200 rounds.\n",
      "[100]\ttraining's auc: 0.747254\tvalid_1's auc: 0.738872\n",
      "[200]\ttraining's auc: 0.765817\tvalid_1's auc: 0.75324\n",
      "[300]\ttraining's auc: 0.78037\tvalid_1's auc: 0.761777\n",
      "[400]\ttraining's auc: 0.790567\tvalid_1's auc: 0.765805\n",
      "[500]\ttraining's auc: 0.798854\tvalid_1's auc: 0.768039\n",
      "[600]\ttraining's auc: 0.806271\tvalid_1's auc: 0.769231\n",
      "[700]\ttraining's auc: 0.812667\tvalid_1's auc: 0.769905\n",
      "[800]\ttraining's auc: 0.818667\tvalid_1's auc: 0.770268\n",
      "[900]\ttraining's auc: 0.824375\tvalid_1's auc: 0.770607\n",
      "[1000]\ttraining's auc: 0.829775\tvalid_1's auc: 0.770757\n",
      "[1100]\ttraining's auc: 0.834959\tvalid_1's auc: 0.770551\n",
      "[1200]\ttraining's auc: 0.839666\tvalid_1's auc: 0.770237\n",
      "Early stopping, best iteration is:\n",
      "[1001]\ttraining's auc: 0.829841\tvalid_1's auc: 0.770763\n",
      "Fold  4 AUC : 0.770840\n",
      "Training until validation scores don't improve for 200 rounds.\n",
      "[100]\ttraining's auc: 0.748668\tvalid_1's auc: 0.736411\n",
      "[200]\ttraining's auc: 0.767077\tvalid_1's auc: 0.749638\n",
      "[300]\ttraining's auc: 0.78155\tvalid_1's auc: 0.758102\n",
      "[400]\ttraining's auc: 0.791879\tvalid_1's auc: 0.762243\n",
      "[500]\ttraining's auc: 0.79999\tvalid_1's auc: 0.764283\n",
      "[600]\ttraining's auc: 0.807051\tvalid_1's auc: 0.764949\n",
      "[700]\ttraining's auc: 0.813711\tvalid_1's auc: 0.765659\n",
      "[800]\ttraining's auc: 0.81981\tvalid_1's auc: 0.765901\n",
      "[900]\ttraining's auc: 0.825502\tvalid_1's auc: 0.766073\n",
      "[1000]\ttraining's auc: 0.83076\tvalid_1's auc: 0.766157\n",
      "[1100]\ttraining's auc: 0.835874\tvalid_1's auc: 0.766296\n",
      "[1200]\ttraining's auc: 0.840851\tvalid_1's auc: 0.766181\n",
      "Early stopping, best iteration is:\n",
      "[1079]\ttraining's auc: 0.834812\tvalid_1's auc: 0.766402\n",
      "Fold  5 AUC : 0.766429\n",
      "Full AUC score 0.768558\n",
      "length of small and large 9 122\n",
      "begin concat predictions\n",
      "(48744, 2)\n"
     ]
    }
   ],
   "source": [
    "modified_small,_,_ =  model_1(train_small, test_small, threshold1, threshold2,n_splits)\n",
    "pred_small = concat_pred(modified_small,cut_small)"
   ]
  },
  {
   "cell_type": "code",
   "execution_count": 9,
   "metadata": {
    "ExecuteTime": {
     "end_time": "2018-06-22T18:30:47.129172Z",
     "start_time": "2018-06-22T18:13:41.040056Z"
    }
   },
   "outputs": [
    {
     "name": "stdout",
     "output_type": "stream",
     "text": [
      "begin blended lightgbm\n",
      "Training until validation scores don't improve for 200 rounds.\n",
      "[100]\ttraining's auc: 0.747556\tvalid_1's auc: 0.745128\n",
      "[200]\ttraining's auc: 0.766574\tvalid_1's auc: 0.757431\n",
      "[300]\ttraining's auc: 0.781179\tvalid_1's auc: 0.765618\n",
      "[400]\ttraining's auc: 0.791989\tvalid_1's auc: 0.769787\n",
      "[500]\ttraining's auc: 0.80029\tvalid_1's auc: 0.771551\n",
      "[600]\ttraining's auc: 0.807244\tvalid_1's auc: 0.772518\n",
      "[700]\ttraining's auc: 0.813873\tvalid_1's auc: 0.772882\n",
      "[800]\ttraining's auc: 0.819943\tvalid_1's auc: 0.773139\n",
      "[900]\ttraining's auc: 0.825542\tvalid_1's auc: 0.773403\n",
      "[1000]\ttraining's auc: 0.830896\tvalid_1's auc: 0.773417\n",
      "[1100]\ttraining's auc: 0.835933\tvalid_1's auc: 0.773565\n",
      "[1200]\ttraining's auc: 0.840618\tvalid_1's auc: 0.773286\n",
      "Early stopping, best iteration is:\n",
      "[1081]\ttraining's auc: 0.834966\tvalid_1's auc: 0.773616\n",
      "Fold  1 AUC : 0.773554\n",
      "Training until validation scores don't improve for 200 rounds.\n",
      "[100]\ttraining's auc: 0.748204\tvalid_1's auc: 0.734264\n",
      "[200]\ttraining's auc: 0.767538\tvalid_1's auc: 0.748737\n",
      "[300]\ttraining's auc: 0.782452\tvalid_1's auc: 0.757545\n",
      "[400]\ttraining's auc: 0.792681\tvalid_1's auc: 0.761285\n",
      "[500]\ttraining's auc: 0.801169\tvalid_1's auc: 0.763911\n",
      "[600]\ttraining's auc: 0.808051\tvalid_1's auc: 0.76493\n",
      "[700]\ttraining's auc: 0.814506\tvalid_1's auc: 0.765648\n",
      "[800]\ttraining's auc: 0.820411\tvalid_1's auc: 0.766095\n",
      "[900]\ttraining's auc: 0.826101\tvalid_1's auc: 0.766351\n",
      "[1000]\ttraining's auc: 0.831581\tvalid_1's auc: 0.766314\n",
      "[1100]\ttraining's auc: 0.83634\tvalid_1's auc: 0.76642\n",
      "[1200]\ttraining's auc: 0.841253\tvalid_1's auc: 0.766704\n",
      "[1300]\ttraining's auc: 0.846082\tvalid_1's auc: 0.766609\n",
      "[1400]\ttraining's auc: 0.850462\tvalid_1's auc: 0.766553\n",
      "Early stopping, best iteration is:\n",
      "[1213]\ttraining's auc: 0.841904\tvalid_1's auc: 0.766744\n",
      "Fold  2 AUC : 0.766703\n",
      "Training until validation scores don't improve for 200 rounds.\n",
      "[100]\ttraining's auc: 0.747263\tvalid_1's auc: 0.743541\n",
      "[200]\ttraining's auc: 0.766299\tvalid_1's auc: 0.756751\n",
      "[300]\ttraining's auc: 0.781615\tvalid_1's auc: 0.765562\n",
      "[400]\ttraining's auc: 0.791482\tvalid_1's auc: 0.769035\n",
      "[500]\ttraining's auc: 0.799572\tvalid_1's auc: 0.770978\n",
      "[600]\ttraining's auc: 0.806657\tvalid_1's auc: 0.771876\n",
      "[700]\ttraining's auc: 0.812742\tvalid_1's auc: 0.772521\n",
      "[800]\ttraining's auc: 0.818602\tvalid_1's auc: 0.773075\n",
      "[900]\ttraining's auc: 0.824349\tvalid_1's auc: 0.773292\n",
      "[1000]\ttraining's auc: 0.829841\tvalid_1's auc: 0.773587\n",
      "[1100]\ttraining's auc: 0.834987\tvalid_1's auc: 0.773788\n",
      "[1200]\ttraining's auc: 0.839815\tvalid_1's auc: 0.774085\n",
      "[1300]\ttraining's auc: 0.8445\tvalid_1's auc: 0.774045\n",
      "[1400]\ttraining's auc: 0.848547\tvalid_1's auc: 0.773906\n",
      "Early stopping, best iteration is:\n",
      "[1238]\ttraining's auc: 0.841654\tvalid_1's auc: 0.774122\n",
      "Fold  3 AUC : 0.774166\n",
      "Training until validation scores don't improve for 200 rounds.\n",
      "[100]\ttraining's auc: 0.748444\tvalid_1's auc: 0.738359\n",
      "[200]\ttraining's auc: 0.76698\tvalid_1's auc: 0.752499\n",
      "[300]\ttraining's auc: 0.781432\tvalid_1's auc: 0.760516\n",
      "[400]\ttraining's auc: 0.792003\tvalid_1's auc: 0.764736\n",
      "[500]\ttraining's auc: 0.800307\tvalid_1's auc: 0.766847\n",
      "[600]\ttraining's auc: 0.80757\tvalid_1's auc: 0.767675\n",
      "[700]\ttraining's auc: 0.814104\tvalid_1's auc: 0.768217\n",
      "[800]\ttraining's auc: 0.820292\tvalid_1's auc: 0.768532\n",
      "[900]\ttraining's auc: 0.826101\tvalid_1's auc: 0.768769\n",
      "[1000]\ttraining's auc: 0.831354\tvalid_1's auc: 0.768897\n",
      "[1100]\ttraining's auc: 0.836356\tvalid_1's auc: 0.768995\n",
      "[1200]\ttraining's auc: 0.841096\tvalid_1's auc: 0.768961\n",
      "Early stopping, best iteration is:\n",
      "[1083]\ttraining's auc: 0.835562\tvalid_1's auc: 0.769059\n",
      "Fold  4 AUC : 0.769057\n",
      "Training until validation scores don't improve for 200 rounds.\n",
      "[100]\ttraining's auc: 0.749774\tvalid_1's auc: 0.73285\n",
      "[200]\ttraining's auc: 0.768489\tvalid_1's auc: 0.745886\n",
      "[300]\ttraining's auc: 0.782939\tvalid_1's auc: 0.75449\n",
      "[400]\ttraining's auc: 0.793402\tvalid_1's auc: 0.758762\n",
      "[500]\ttraining's auc: 0.801507\tvalid_1's auc: 0.761072\n",
      "[600]\ttraining's auc: 0.808432\tvalid_1's auc: 0.762188\n",
      "[700]\ttraining's auc: 0.815175\tvalid_1's auc: 0.763025\n",
      "[800]\ttraining's auc: 0.820813\tvalid_1's auc: 0.763315\n",
      "[900]\ttraining's auc: 0.826592\tvalid_1's auc: 0.763354\n",
      "[1000]\ttraining's auc: 0.831718\tvalid_1's auc: 0.76349\n",
      "[1100]\ttraining's auc: 0.837058\tvalid_1's auc: 0.763592\n",
      "[1200]\ttraining's auc: 0.841702\tvalid_1's auc: 0.763664\n",
      "[1300]\ttraining's auc: 0.84633\tvalid_1's auc: 0.763714\n",
      "[1400]\ttraining's auc: 0.850745\tvalid_1's auc: 0.763527\n",
      "[1500]\ttraining's auc: 0.85511\tvalid_1's auc: 0.763464\n",
      "Early stopping, best iteration is:\n",
      "[1301]\ttraining's auc: 0.846384\tvalid_1's auc: 0.763731\n",
      "Fold  5 AUC : 0.763738\n",
      "Full AUC score 0.769321\n",
      "length of small and large 33 40\n",
      "begin concat predictions\n",
      "(48744, 2)\n"
     ]
    }
   ],
   "source": [
    "modified_large,_,_ =  model_1(train_large, test_large, threshold1, threshold2,n_splits)\n",
    "pred_large = concat_pred(cut_large,modified_large)"
   ]
  },
  {
   "cell_type": "code",
   "execution_count": 10,
   "metadata": {
    "ExecuteTime": {
     "end_time": "2018-06-22T18:30:48.352975Z",
     "start_time": "2018-06-22T18:30:48.301616Z"
    }
   },
   "outputs": [],
   "source": [
    "blend_sub = pd.DataFrame()\n",
    "blend_sub['SK_ID_CURR'] = pred_small['SK_ID_CURR']\n",
    "blend_sub['TARGET'] = (pred_small['TARGET']+pred_large['TARGET'])/2"
   ]
  },
  {
   "cell_type": "code",
   "execution_count": 19,
   "metadata": {
    "ExecuteTime": {
     "end_time": "2018-06-22T19:47:24.245927Z",
     "start_time": "2018-06-22T19:47:24.055205Z"
    }
   },
   "outputs": [
    {
     "name": "stdout",
     "output_type": "stream",
     "text": [
      "   SK_ID_CURR    TARGET\n",
      "0      100001  0.031317\n",
      "1      100005  0.096532\n",
      "2      100013  0.011653\n",
      "3      100028  0.035580\n",
      "4      100038  0.139134\n"
     ]
    }
   ],
   "source": [
    "print(blend_sub.head())\n",
    "blend_sub.to_csv(PATH + 'submission/622_blend_train.csv', index = False)"
   ]
  },
  {
   "cell_type": "code",
   "execution_count": 18,
   "metadata": {
    "ExecuteTime": {
     "end_time": "2018-06-22T18:38:02.220843Z",
     "start_time": "2018-06-22T18:38:02.174872Z"
    }
   },
   "outputs": [
    {
     "name": "stdout",
     "output_type": "stream",
     "text": [
      "SK_ID_CURR    48744\n",
      "TARGET          144\n",
      "dtype: int64\n",
      "SK_ID_CURR     0\n",
      "TARGET        36\n",
      "dtype: int64\n",
      "SK_ID_CURR    48744\n",
      "TARGET          122\n",
      "dtype: int64\n",
      "SK_ID_CURR     0\n",
      "TARGET        40\n",
      "dtype: int64\n",
      "SK_ID_CURR    48744\n",
      "TARGET          167\n",
      "dtype: int64\n",
      "SK_ID_CURR     0\n",
      "TARGET        33\n",
      "dtype: int64\n",
      "SK_ID_CURR    48744\n",
      "TARGET          127\n",
      "dtype: int64\n",
      "SK_ID_CURR     0\n",
      "TARGET        31\n",
      "dtype: int64\n"
     ]
    }
   ],
   "source": [
    "for i in [blend_sub, pred_small, pred_large,pred1]:\n",
    "    print((i>0.5).sum())\n",
    "    print((i<0.005).sum())"
   ]
  },
  {
   "cell_type": "code",
   "execution_count": null,
   "metadata": {},
   "outputs": [],
   "source": []
  }
 ],
 "metadata": {
  "kernelspec": {
   "display_name": "Python 3",
   "language": "python",
   "name": "python3"
  },
  "language_info": {
   "codemirror_mode": {
    "name": "ipython",
    "version": 3
   },
   "file_extension": ".py",
   "mimetype": "text/x-python",
   "name": "python",
   "nbconvert_exporter": "python",
   "pygments_lexer": "ipython3",
   "version": "3.6.5"
  },
  "varInspector": {
   "cols": {
    "lenName": 16,
    "lenType": 16,
    "lenVar": 40
   },
   "kernels_config": {
    "python": {
     "delete_cmd_postfix": "",
     "delete_cmd_prefix": "del ",
     "library": "var_list.py",
     "varRefreshCmd": "print(var_dic_list())"
    },
    "r": {
     "delete_cmd_postfix": ") ",
     "delete_cmd_prefix": "rm(",
     "library": "var_list.r",
     "varRefreshCmd": "cat(var_dic_list()) "
    }
   },
   "types_to_exclude": [
    "module",
    "function",
    "builtin_function_or_method",
    "instance",
    "_Feature"
   ],
   "window_display": false
  }
 },
 "nbformat": 4,
 "nbformat_minor": 2
}
