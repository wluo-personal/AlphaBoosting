{
 "cells": [
  {
   "cell_type": "code",
   "execution_count": 1,
   "metadata": {
    "ExecuteTime": {
     "end_time": "2018-06-22T20:11:27.367886Z",
     "start_time": "2018-06-22T20:11:26.658182Z"
    }
   },
   "outputs": [],
   "source": [
    "import os\n",
    "import numpy as np\n",
    "import pandas as pd\n",
    "import gc\n",
    "import time\n",
    "from contextlib import contextmanager\n",
    "from lightgbm import LGBMClassifier\n",
    "from sklearn.metrics import roc_auc_score, roc_curve\n",
    "from sklearn.model_selection import KFold, StratifiedKFold\n",
    "import matplotlib.pyplot as plt\n",
    "import seaborn as sns\n",
    "import warnings\n",
    "warnings.simplefilter(action='ignore', category=FutureWarning)\n",
    "PATH = '/home/kai/data/kaggle/homecredit/'\n"
   ]
  },
  {
   "cell_type": "code",
   "execution_count": 3,
   "metadata": {
    "ExecuteTime": {
     "end_time": "2018-06-22T20:11:34.502526Z",
     "start_time": "2018-06-22T20:11:32.574295Z"
    },
    "scrolled": false
   },
   "outputs": [
    {
     "name": "stdout",
     "output_type": "stream",
     "text": [
      "(307511, 290) (48744, 286)\n"
     ]
    },
    {
     "data": {
      "text/plain": [
       "'done'"
      ]
     },
     "execution_count": 3,
     "metadata": {},
     "output_type": "execute_result"
    }
   ],
   "source": [
    "# Read train and test\n",
    "train = pd.read_pickle(PATH + 'inter/06_22_train_mean.pkl')\n",
    "test = pd.read_pickle(PATH + 'inter/06_22_test_mean.pkl')\n",
    "print(train.shape, test.shape)\n",
    "'done'"
   ]
  },
  {
   "cell_type": "code",
   "execution_count": 4,
   "metadata": {
    "ExecuteTime": {
     "end_time": "2018-06-22T20:11:35.589172Z",
     "start_time": "2018-06-22T20:11:35.581891Z"
    }
   },
   "outputs": [
    {
     "name": "stdout",
     "output_type": "stream",
     "text": [
      "0   NaN\n",
      "1   NaN\n",
      "2   NaN\n",
      "3   NaN\n",
      "4   NaN\n",
      "Name: EXT_SOURCE_PRED_1, dtype: float64\n",
      "0   NaN\n",
      "1   NaN\n",
      "2   NaN\n",
      "3   NaN\n",
      "4   NaN\n",
      "Name: EXT_SOURCE_PRED_2, dtype: float64\n",
      "0   NaN\n",
      "1   NaN\n",
      "2   NaN\n",
      "3   NaN\n",
      "4   NaN\n",
      "Name: EXT_SOURCE_PRED_3, dtype: float64\n"
     ]
    }
   ],
   "source": [
    "for col in train.columns.tolist()[-3:]:\n",
    "    test[col] = np.nan\n",
    "    print(test[col].head())"
   ]
  },
  {
   "cell_type": "markdown",
   "metadata": {},
   "source": [
    "# Cut large piece and get new train&test, and large_pred piece"
   ]
  },
  {
   "cell_type": "code",
   "execution_count": 3,
   "metadata": {
    "ExecuteTime": {
     "end_time": "2018-06-22T18:51:07.562892Z",
     "start_time": "2018-06-22T18:51:07.557165Z"
    }
   },
   "outputs": [],
   "source": [
    "def large_new(df1, df2, prediction, threshold):\n",
    "    print('begin cut new')\n",
    "    pred = prediction.copy()\n",
    "    train_df, test_df = df1.copy(), df2.copy()\n",
    "    print('old shapes,' ,test_df.shape,train_df.shape)\n",
    "    half_pred = pred[pred['TARGET'] > threshold]\n",
    "    index_half = half_pred.index\n",
    "    print('length of half',len(half_pred))\n",
    "    test_half = test_df.iloc[index_half]\n",
    "    test_half['TARGET'] = 1\n",
    "\n",
    "    # drop index_half for test_df, add train\n",
    "    test_df.drop(index_half, inplace = True)\n",
    "    train_df = pd.concat([train_df,test_half])\n",
    "    print('new shapes,',test_df.shape,train_df.shape)\n",
    "    return train_df, test_df, half_pred"
   ]
  },
  {
   "cell_type": "markdown",
   "metadata": {},
   "source": [
    "# Cut small piece and get new train& test, and small_pred piece"
   ]
  },
  {
   "cell_type": "code",
   "execution_count": 4,
   "metadata": {
    "ExecuteTime": {
     "end_time": "2018-06-22T18:51:07.584809Z",
     "start_time": "2018-06-22T18:51:07.565847Z"
    }
   },
   "outputs": [],
   "source": [
    "def small_new(df1, df2, prediction, threshold):\n",
    "    print('begin cut small')\n",
    "    pred = prediction.copy()\n",
    "    train_df, test_df = df1.copy(), df2.copy()\n",
    "    print('old shapes,',test_df.shape,train_df.shape)\n",
    "    small_pred = pred[pred['TARGET'] < threshold]\n",
    "    index_small = small_pred.index\n",
    "    print('length of small',len(small_pred))\n",
    "    test_small = test_df.iloc[index_small]\n",
    "    test_small['TARGET'] = 0\n",
    "\n",
    "    # drop index_small for test_df, add train\n",
    "    test_df.drop(index_small, inplace = True)\n",
    "    train_df = pd.concat([train_df,test_small])\n",
    "    print('new shapes,',test_df.shape,train_df.shape)\n",
    "    return train_df, test_df, small_pred"
   ]
  },
  {
   "cell_type": "markdown",
   "metadata": {},
   "source": [
    "# Models"
   ]
  },
  {
   "cell_type": "code",
   "execution_count": 16,
   "metadata": {
    "ExecuteTime": {
     "end_time": "2018-06-22T20:27:33.694490Z",
     "start_time": "2018-06-22T20:27:33.676479Z"
    }
   },
   "outputs": [],
   "source": [
    "def model_1(train_df, test_df, threshold1, threshold2, n_splits):\n",
    "    print('begin blended lightgbm')\n",
    "    # Cross validation model\n",
    "    stratified = False\n",
    "\n",
    "    if stratified:\n",
    "        folds = StratifiedKFold(n_splits, shuffle=True, random_state=1001)\n",
    "    else:\n",
    "        folds = KFold(n_splits, shuffle=True, random_state=45)\n",
    "    # Create arrays and dataframes to store results\n",
    "    oof_preds = np.zeros(train_df.shape[0])\n",
    "    sub_preds = np.zeros(test_df.shape[0])\n",
    "    feature_importance_df = pd.DataFrame()\n",
    "    feats = [f for f in train_df.columns if f not in ['TARGET','SK_ID_CURR','SK_ID_BUREAU','SK_ID_PREV','index']]\n",
    "\n",
    "    for n_fold, (train_idx, valid_idx) in enumerate(folds.split(train_df[feats], train_df['TARGET'])):\n",
    "        train_x, train_y = train_df[feats].iloc[train_idx], train_df['TARGET'].iloc[train_idx]\n",
    "        valid_x, valid_y = train_df[feats].iloc[valid_idx], train_df['TARGET'].iloc[valid_idx]\n",
    "\n",
    "        # LightGBM parameters found by Bayesian optimization\n",
    "        clf = LGBMClassifier(\n",
    "            nthread=16,\n",
    "            n_estimators=10000,\n",
    "            learning_rate=0.02,\n",
    "            num_leaves=34,\n",
    "            colsample_bytree=0.9497036,\n",
    "            subsample=0.8715623,\n",
    "            max_depth=8,\n",
    "            reg_alpha=0.041545473,\n",
    "            reg_lambda=0.0735294,\n",
    "            min_split_gain=0.0222415,\n",
    "            min_child_weight=39.3259775,\n",
    "            silent=-1,\n",
    "            verbose=-1, )\n",
    "\n",
    "        clf.fit(train_x, train_y, eval_set=[(train_x, train_y), (valid_x, valid_y)], \n",
    "            eval_metric= 'auc', verbose= 100, early_stopping_rounds= 200)\n",
    "\n",
    "        oof_preds[valid_idx] = clf.predict_proba(valid_x, num_iteration=clf.best_iteration_)[:, 1]\n",
    "        sub_preds += clf.predict_proba(test_df[feats], num_iteration=clf.best_iteration_)[:, 1] / folds.n_splits\n",
    "\n",
    "    #     fold_importance_df = pd.DataFrame()\n",
    "    #     fold_importance_df[\"feature\"] = feats\n",
    "    # #     fold_importance_df[\"importance\"] = clf.feature_importances_\n",
    "    #     fold_importance_df[\"fold\"] = n_fold + 1\n",
    "    #     feature_importance_df = pd.concat([feature_importance_df, fold_importance_df], axis=0)\n",
    "        print('Fold %2d AUC : %.6f' % (n_fold + 1, roc_auc_score(valid_y, oof_preds[valid_idx])))\n",
    "        del clf, train_x, train_y, valid_x, valid_y\n",
    "        gc.collect()\n",
    "    print('Full AUC score %.6f' % roc_auc_score(train_df['TARGET'], oof_preds))\n",
    "    \n",
    "    test_df['TARGET'] = sub_preds\n",
    "    pred =test_df[['SK_ID_CURR', 'TARGET']]\n",
    "    len_small = len(pred[pred['TARGET']< threshold1])\n",
    "    len_large = len(pred[pred['TARGET']> threshold2])\n",
    "    print('length of small and large', len_small, len_large)\n",
    "    return pred, len_small, len_large\n",
    "\n",
    "def model_2(train_df, test_df, threshold1, threshold2, n_splits):\n",
    "    print('begin cv')\n",
    "    target = train_df['TARGET']\n",
    "    ignore_cols = ['ORGANIZATION_TYPE', 'TARGET', 'SK_ID_CURR']\n",
    "    features = [x for x in train_df.columns if x not in ignore_cols]\n",
    "    train = train_df[features]\n",
    "    test = test_df[features]\n",
    "\n",
    "    from sklearn.model_selection import StratifiedKFold\n",
    "    from lightgbm import LGBMClassifier\n",
    "    from sklearn.metrics import roc_auc_score\n",
    "    import lightgbm as lgbm\n",
    "\n",
    "    lgbm_train = lgbm.Dataset(data=train,\n",
    "                              label=target,\n",
    "\n",
    "                              categorical_feature=[],#categorical_feats,\n",
    "                              free_raw_data=False)\n",
    "\n",
    "    lgbm_params = {'task': 'train', 'boosting_type': 'gbdt', 'objective': 'binary', 'metric': 'auc', \n",
    "              'learning_rate': 0.02, 'num_leaves': 48, 'num_iteration': 500, 'verbose': 0 ,\n",
    "              'colsample_bytree':.8, 'subsample':.9, 'max_depth':7, 'reg_alpha':.1, 'reg_lambda':.1, \n",
    "              'min_split_gain':.01, 'min_child_weight':1,'num_threads': 12,'feature_fraction': 0.95}\n",
    "\n",
    "    cv_results = lgbm.cv(train_set=lgbm_train,\n",
    "                         params=lgbm_params,\n",
    "                         nfold=n_splits,\n",
    "                         early_stopping_rounds=150,\n",
    "                         verbose_eval=100,\n",
    "                         seed = 216,\n",
    "                         metrics=['auc'])\n",
    "\n",
    "    optimum_boost_rounds = np.argmax(cv_results['auc-mean'])\n",
    "    print('Optimum boost rounds = {}'.format(optimum_boost_rounds))\n",
    "    print('Best CV result = {}'.format(np.max(cv_results['auc-mean'])))\n",
    "\n",
    "    clf = lgbm.train(train_set=lgbm_train,\n",
    "                     params=lgbm_params,\n",
    "                     num_boost_round=optimum_boost_rounds)\n",
    "\n",
    "    \"\"\" Predict on test set and create submission \"\"\"\n",
    "    y_pred = clf.predict(test)\n",
    "    print('start predicting')\n",
    "    out_df = pd.DataFrame({'SK_ID_CURR': test_df['SK_ID_CURR'], 'TARGET': y_pred})\n",
    "    small_len = out_df[out_df['TARGET']< threshold1]\n",
    "    large_len = out_df[out_df['TARGET']> threshold2]\n",
    "    print('length of small and large,', len(small_len),len(large_len))\n",
    "    return out_df, small_len, large_len"
   ]
  },
  {
   "cell_type": "markdown",
   "metadata": {
    "collapsed": true
   },
   "source": [
    "# Concate back to a submission"
   ]
  },
  {
   "cell_type": "code",
   "execution_count": 6,
   "metadata": {
    "ExecuteTime": {
     "end_time": "2018-06-22T18:51:07.615141Z",
     "start_time": "2018-06-22T18:51:07.607904Z"
    }
   },
   "outputs": [],
   "source": [
    "# col = 'SK_ID_CURR'\n",
    "def concat_pred(cutout_pred, modified_pred):\n",
    "    print('begin concat predictions')\n",
    "    test_concat = pd.concat([modified_pred, cutout_pred], axis = 0)\n",
    "    print(test_concat.shape)\n",
    "    test = pd.read_csv(PATH + 'application_test.csv')\n",
    "    test = test[['SK_ID_CURR']]\n",
    "    pred = test.merge(test_concat, how = 'left', on = 'SK_ID_CURR')\n",
    "    return pred\n"
   ]
  },
  {
   "cell_type": "markdown",
   "metadata": {},
   "source": [
    "# Run"
   ]
  },
  {
   "cell_type": "code",
   "execution_count": 17,
   "metadata": {
    "ExecuteTime": {
     "end_time": "2018-06-22T20:30:31.911253Z",
     "start_time": "2018-06-22T20:27:37.395864Z"
    },
    "scrolled": true
   },
   "outputs": [
    {
     "name": "stdout",
     "output_type": "stream",
     "text": [
      "begin cv\n"
     ]
    },
    {
     "name": "stderr",
     "output_type": "stream",
     "text": [
      "/home/kai/anaconda3/lib/python3.6/site-packages/lightgbm/engine.py:390: UserWarning: Found `num_iteration` in params. Will use it instead of argument\n",
      "  warnings.warn(\"Found `{}` in params. Will use it instead of argument\".format(alias))\n",
      "/home/kai/anaconda3/lib/python3.6/site-packages/lightgbm/basic.py:1027: UserWarning: Using categorical_feature in Dataset.\n",
      "  warnings.warn('Using categorical_feature in Dataset.')\n"
     ]
    },
    {
     "name": "stdout",
     "output_type": "stream",
     "text": [
      "[100]\tcv_agg's auc: 0.738538 + 0.00141764\n",
      "[200]\tcv_agg's auc: 0.749106 + 0.00125272\n",
      "[300]\tcv_agg's auc: 0.755879 + 0.00181406\n",
      "[400]\tcv_agg's auc: 0.758665 + 0.00150441\n",
      "[500]\tcv_agg's auc: 0.759616 + 0.00182705\n",
      "Optimum boost rounds = 499\n",
      "Best CV result = 0.7596156995562324\n"
     ]
    },
    {
     "name": "stderr",
     "output_type": "stream",
     "text": [
      "/home/kai/anaconda3/lib/python3.6/site-packages/lightgbm/basic.py:1027: UserWarning: Using categorical_feature in Dataset.\n",
      "  warnings.warn('Using categorical_feature in Dataset.')\n"
     ]
    },
    {
     "name": "stdout",
     "output_type": "stream",
     "text": [
      "start predicting\n",
      "length of small and large, 0 310\n",
      "begin cutting\n"
     ]
    },
    {
     "ename": "NameError",
     "evalue": "name 'small_new' is not defined",
     "output_type": "error",
     "traceback": [
      "\u001b[0;31m---------------------------------------------------------------------------\u001b[0m",
      "\u001b[0;31mNameError\u001b[0m                                 Traceback (most recent call last)",
      "\u001b[0;32m<ipython-input-17-396bd7fc26e8>\u001b[0m in \u001b[0;36m<module>\u001b[0;34m()\u001b[0m\n\u001b[1;32m      5\u001b[0m \u001b[0;34m\u001b[0m\u001b[0m\n\u001b[1;32m      6\u001b[0m \u001b[0mprint\u001b[0m\u001b[0;34m(\u001b[0m\u001b[0;34m'begin cutting'\u001b[0m\u001b[0;34m)\u001b[0m\u001b[0;34m\u001b[0m\u001b[0m\n\u001b[0;32m----> 7\u001b[0;31m \u001b[0mtrain_small\u001b[0m\u001b[0;34m,\u001b[0m \u001b[0mtest_small\u001b[0m\u001b[0;34m,\u001b[0m \u001b[0mcut_small\u001b[0m \u001b[0;34m=\u001b[0m \u001b[0msmall_new\u001b[0m\u001b[0;34m(\u001b[0m\u001b[0mtrain\u001b[0m\u001b[0;34m,\u001b[0m \u001b[0mtest\u001b[0m\u001b[0;34m,\u001b[0m \u001b[0mpred1\u001b[0m\u001b[0;34m,\u001b[0m \u001b[0mthreshold1\u001b[0m\u001b[0;34m)\u001b[0m\u001b[0;34m\u001b[0m\u001b[0m\n\u001b[0m\u001b[1;32m      8\u001b[0m \u001b[0mtrain_large\u001b[0m\u001b[0;34m,\u001b[0m \u001b[0mtest_large\u001b[0m\u001b[0;34m,\u001b[0m \u001b[0mcut_large\u001b[0m \u001b[0;34m=\u001b[0m \u001b[0mlarge_new\u001b[0m\u001b[0;34m(\u001b[0m\u001b[0mtrain\u001b[0m\u001b[0;34m,\u001b[0m \u001b[0mtest\u001b[0m\u001b[0;34m,\u001b[0m \u001b[0mpred1\u001b[0m\u001b[0;34m,\u001b[0m \u001b[0mthreshold2\u001b[0m\u001b[0;34m)\u001b[0m\u001b[0;34m\u001b[0m\u001b[0m\n",
      "\u001b[0;31mNameError\u001b[0m: name 'small_new' is not defined"
     ]
    }
   ],
   "source": [
    "threshold1, threshold2 = 0.005, 0.5\n",
    "n_splits = 3\n",
    "\n",
    "pred1, small, large = model_2(train, test, threshold1, threshold2,2)\n",
    "\n",
    "print('begin cutting')\n",
    "train_small, test_small, cut_small = small_new(train, test, pred1, threshold1)\n",
    "train_large, test_large, cut_large = large_new(train, test, pred1, threshold2)\n"
   ]
  },
  {
   "cell_type": "code",
   "execution_count": null,
   "metadata": {},
   "outputs": [],
   "source": [
    "'''\n",
    "For model_2:\n",
    "train_woe cv-1500: 0.762\n",
    "train_only cv-800: 0.765\n",
    "train_mean-1000:0.7595\n",
    "\n",
    "\n",
    " '''"
   ]
  },
  {
   "cell_type": "code",
   "execution_count": null,
   "metadata": {
    "ExecuteTime": {
     "end_time": "2018-06-22T19:00:51.211715Z",
     "start_time": "2018-06-22T18:51:04.013Z"
    }
   },
   "outputs": [],
   "source": [
    "modified_small,_,_ =  model_1(train_small, test_small, threshold1, threshold2,n_splits)\n",
    "pred_small = concat_pred(modified_small,cut_small)"
   ]
  },
  {
   "cell_type": "code",
   "execution_count": null,
   "metadata": {
    "ExecuteTime": {
     "end_time": "2018-06-22T19:00:51.212747Z",
     "start_time": "2018-06-22T18:51:04.016Z"
    }
   },
   "outputs": [],
   "source": [
    "modified_large,_,_ =  model_1(train_large, test_large, threshold1, threshold2,n_splits)\n",
    "pred_large = concat_pred(cut_large,modified_large)"
   ]
  },
  {
   "cell_type": "code",
   "execution_count": null,
   "metadata": {
    "ExecuteTime": {
     "end_time": "2018-06-22T19:00:51.213655Z",
     "start_time": "2018-06-22T18:51:04.019Z"
    }
   },
   "outputs": [],
   "source": [
    "blend_sub = pd.DataFrame()\n",
    "blend_sub['SK_ID_CURR'] = pred_small['SK_ID_CURR']\n",
    "blend_sub['TARGET'] = (pred_small['TARGET']+pred_large['TARGET'])/2"
   ]
  },
  {
   "cell_type": "code",
   "execution_count": null,
   "metadata": {},
   "outputs": [],
   "source": []
  }
 ],
 "metadata": {
  "kernelspec": {
   "display_name": "Python 3",
   "language": "python",
   "name": "python3"
  },
  "varInspector": {
   "cols": {
    "lenName": 16,
    "lenType": 16,
    "lenVar": 40
   },
   "kernels_config": {
    "python": {
     "delete_cmd_postfix": "",
     "delete_cmd_prefix": "del ",
     "library": "var_list.py",
     "varRefreshCmd": "print(var_dic_list())"
    },
    "r": {
     "delete_cmd_postfix": ") ",
     "delete_cmd_prefix": "rm(",
     "library": "var_list.r",
     "varRefreshCmd": "cat(var_dic_list()) "
    }
   },
   "types_to_exclude": [
    "module",
    "function",
    "builtin_function_or_method",
    "instance",
    "_Feature"
   ],
   "window_display": false
  }
 },
 "nbformat": 4,
 "nbformat_minor": 2
}
