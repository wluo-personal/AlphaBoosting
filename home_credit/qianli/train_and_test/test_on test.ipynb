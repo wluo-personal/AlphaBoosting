{
 "cells": [
  {
   "cell_type": "code",
   "execution_count": 1,
   "metadata": {
    "ExecuteTime": {
     "end_time": "2018-06-20T14:29:17.438382Z",
     "start_time": "2018-06-20T14:29:14.716117Z"
    }
   },
   "outputs": [
    {
     "name": "stdout",
     "output_type": "stream",
     "text": [
      "done\n",
      "(307511, 899) (48744, 898)\n"
     ]
    }
   ],
   "source": [
    "import pandas as pd\n",
    "import numpy as np\n",
    "\n",
    "PATH = '/home/kai/data/kaggle/homecredit/'\n",
    "\n",
    "train_df = pd.read_pickle(PATH+'train_merge.pkl')\n",
    "test_df = pd.read_pickle(PATH+'test_merge.pkl')\n",
    "print('done')\n",
    "print(train_df.shape,test_df.shape)"
   ]
  },
  {
   "cell_type": "code",
   "execution_count": 2,
   "metadata": {
    "ExecuteTime": {
     "end_time": "2018-06-20T14:29:17.815896Z",
     "start_time": "2018-06-20T14:29:17.801412Z"
    },
    "collapsed": true
   },
   "outputs": [],
   "source": [
    "old_merge = pd.read_csv(PATH+'submission/train_ratio_1.csv')"
   ]
  },
  {
   "cell_type": "code",
   "execution_count": 15,
   "metadata": {
    "ExecuteTime": {
     "end_time": "2018-06-20T14:30:41.061383Z",
     "start_time": "2018-06-20T14:30:41.055152Z"
    },
    "collapsed": true
   },
   "outputs": [],
   "source": [
    "half = old_merge[old_merge['TARGET'] > 0.5]\n",
    "index_half = half.index"
   ]
  },
  {
   "cell_type": "code",
   "execution_count": 12,
   "metadata": {
    "ExecuteTime": {
     "end_time": "2018-06-20T14:30:11.337129Z",
     "start_time": "2018-06-20T14:30:11.333569Z"
    },
    "collapsed": true
   },
   "outputs": [],
   "source": [
    "# Find all positions for those, and drop the rows for the test, concat for train, and set target to be 1\n"
   ]
  },
  {
   "cell_type": "code",
   "execution_count": 16,
   "metadata": {
    "ExecuteTime": {
     "end_time": "2018-06-20T14:30:50.122597Z",
     "start_time": "2018-06-20T14:30:49.712922Z"
    }
   },
   "outputs": [
    {
     "name": "stderr",
     "output_type": "stream",
     "text": [
      "/home/kai/anaconda3/lib/python3.6/site-packages/ipykernel_launcher.py:3: SettingWithCopyWarning: \n",
      "A value is trying to be set on a copy of a slice from a DataFrame.\n",
      "Try using .loc[row_indexer,col_indexer] = value instead\n",
      "\n",
      "See the caveats in the documentation: http://pandas.pydata.org/pandas-docs/stable/indexing.html#indexing-view-versus-copy\n",
      "  This is separate from the ipykernel package so we can avoid doing imports until\n"
     ]
    }
   ],
   "source": [
    "test_half = test_df.iloc[index_half]\n",
    "test_half['TARGET'] = 1"
   ]
  },
  {
   "cell_type": "code",
   "execution_count": 17,
   "metadata": {
    "ExecuteTime": {
     "end_time": "2018-06-20T14:31:00.290890Z",
     "start_time": "2018-06-20T14:31:00.285093Z"
    }
   },
   "outputs": [
    {
     "data": {
      "text/plain": [
       "(173, 899)"
      ]
     },
     "execution_count": 17,
     "metadata": {},
     "output_type": "execute_result"
    }
   ],
   "source": [
    "test_half.shape"
   ]
  },
  {
   "cell_type": "code",
   "execution_count": 20,
   "metadata": {
    "ExecuteTime": {
     "end_time": "2018-06-20T14:31:21.958920Z",
     "start_time": "2018-06-20T14:31:21.792074Z"
    },
    "collapsed": true
   },
   "outputs": [],
   "source": [
    "test_df.drop(index_half, inplace = True)"
   ]
  },
  {
   "cell_type": "code",
   "execution_count": 21,
   "metadata": {
    "ExecuteTime": {
     "end_time": "2018-06-20T14:31:23.532937Z",
     "start_time": "2018-06-20T14:31:23.527601Z"
    }
   },
   "outputs": [
    {
     "data": {
      "text/plain": [
       "(48571, 898)"
      ]
     },
     "execution_count": 21,
     "metadata": {},
     "output_type": "execute_result"
    }
   ],
   "source": [
    "test_df.shape"
   ]
  },
  {
   "cell_type": "code",
   "execution_count": 22,
   "metadata": {
    "ExecuteTime": {
     "end_time": "2018-06-20T14:31:29.560673Z",
     "start_time": "2018-06-20T14:31:25.448876Z"
    },
    "collapsed": true
   },
   "outputs": [],
   "source": [
    "train = pd.concat([train_df,test_half])"
   ]
  },
  {
   "cell_type": "code",
   "execution_count": 23,
   "metadata": {
    "ExecuteTime": {
     "end_time": "2018-06-20T14:31:31.412691Z",
     "start_time": "2018-06-20T14:31:31.406985Z"
    }
   },
   "outputs": [
    {
     "data": {
      "text/plain": [
       "(307684, 899)"
      ]
     },
     "execution_count": 23,
     "metadata": {},
     "output_type": "execute_result"
    }
   ],
   "source": [
    "train.shape"
   ]
  },
  {
   "cell_type": "code",
   "execution_count": 26,
   "metadata": {
    "ExecuteTime": {
     "end_time": "2018-06-20T14:35:22.634958Z",
     "start_time": "2018-06-20T14:35:18.321949Z"
    },
    "collapsed": true
   },
   "outputs": [],
   "source": [
    "train.to_pickle(PATH + 'train_798.pkl')\n",
    "test_df.to_pickle(PATH + 'test_798.pkl')"
   ]
  },
  {
   "cell_type": "code",
   "execution_count": 1,
   "metadata": {
    "ExecuteTime": {
     "end_time": "2018-06-20T16:58:13.609546Z",
     "start_time": "2018-06-20T16:58:13.544082Z"
    },
    "scrolled": false
   },
   "outputs": [
    {
     "ename": "NameError",
     "evalue": "name 'half' is not defined",
     "output_type": "error",
     "traceback": [
      "\u001b[0;31m---------------------------------------------------------------------------\u001b[0m",
      "\u001b[0;31mNameError\u001b[0m                                 Traceback (most recent call last)",
      "\u001b[0;32m<ipython-input-1-c401d7ee7f4b>\u001b[0m in \u001b[0;36m<module>\u001b[0;34m()\u001b[0m\n\u001b[0;32m----> 1\u001b[0;31m \u001b[0mhalf\u001b[0m\u001b[0;34m\u001b[0m\u001b[0m\n\u001b[0m",
      "\u001b[0;31mNameError\u001b[0m: name 'half' is not defined"
     ]
    }
   ],
   "source": [
    "half"
   ]
  },
  {
   "cell_type": "code",
   "execution_count": null,
   "metadata": {
    "collapsed": true
   },
   "outputs": [],
   "source": []
  }
 ],
 "metadata": {
  "kernelspec": {
   "display_name": "Python 3",
   "language": "python",
   "name": "python3"
  },
  "language_info": {
   "codemirror_mode": {
    "name": "ipython",
    "version": 3
   },
   "file_extension": ".py",
   "mimetype": "text/x-python",
   "name": "python",
   "nbconvert_exporter": "python",
   "pygments_lexer": "ipython3",
   "version": "3.6.3"
  },
  "varInspector": {
   "cols": {
    "lenName": 16,
    "lenType": 16,
    "lenVar": 40
   },
   "kernels_config": {
    "python": {
     "delete_cmd_postfix": "",
     "delete_cmd_prefix": "del ",
     "library": "var_list.py",
     "varRefreshCmd": "print(var_dic_list())"
    },
    "r": {
     "delete_cmd_postfix": ") ",
     "delete_cmd_prefix": "rm(",
     "library": "var_list.r",
     "varRefreshCmd": "cat(var_dic_list()) "
    }
   },
   "types_to_exclude": [
    "module",
    "function",
    "builtin_function_or_method",
    "instance",
    "_Feature"
   ],
   "window_display": false
  }
 },
 "nbformat": 4,
 "nbformat_minor": 2
}
