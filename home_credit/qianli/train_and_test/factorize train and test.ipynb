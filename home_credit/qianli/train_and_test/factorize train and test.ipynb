{
 "cells": [
  {
   "cell_type": "code",
   "execution_count": 4,
   "metadata": {
    "ExecuteTime": {
     "end_time": "2018-06-22T14:59:05.216345Z",
     "start_time": "2018-06-22T14:58:56.198437Z"
    },
    "scrolled": true
   },
   "outputs": [
    {
     "name": "stdout",
     "output_type": "stream",
     "text": [
      "done\n",
      "(307511, 122) (48744, 122)\n",
      "(307511, 121) (48744, 121)\n"
     ]
    }
   ],
   "source": [
    "import pandas as pd\n",
    "import numpy as np\n",
    "\n",
    "PATH = '/home/kai/data/kaggle/homecredit/'\n",
    "\n",
    "train = pd.read_csv(PATH + 'application_train.csv')\n",
    "test = pd.read_csv(PATH + 'application_test.csv')\n",
    "print('done')\n",
    "\n",
    "df = pd.concat([train,test], axis = 0)\n",
    "\n",
    "categorical_feats = [col for col in df.columns if df[col].dtype == 'object']\n",
    "for col in categorical_feats:\n",
    "    df[col],_ = pd.factorize(df[col])\n",
    "    \n",
    "    train = df[df['TARGET'].notnull()]\n",
    "test = df[df['TARGET'].isnull()]\n",
    "\n",
    "print(train.shape, test.shape)\n",
    "target = train['TARGET']\n",
    "ignore_cols = ['ORGANIZATION_TYPE']\n",
    "features = [x for x in train.columns if x not in ignore_cols]\n",
    "\n",
    "train = train[features]\n",
    "test = test[features]\n",
    "print(train.shape, test.shape)\n"
   ]
  },
  {
   "cell_type": "code",
   "execution_count": 5,
   "metadata": {
    "ExecuteTime": {
     "end_time": "2018-06-22T14:59:06.310919Z",
     "start_time": "2018-06-22T14:59:05.607550Z"
    },
    "collapsed": true
   },
   "outputs": [],
   "source": [
    "train.to_pickle(PATH + 'train_factorized.pkl')\n",
    "test.to_pickle(PATH + 'test_factorized.pkl')"
   ]
  },
  {
   "cell_type": "code",
   "execution_count": null,
   "metadata": {
    "collapsed": true
   },
   "outputs": [],
   "source": []
  }
 ],
 "metadata": {
  "kernelspec": {
   "display_name": "Python 3",
   "language": "python",
   "name": "python3"
  },
  "language_info": {
   "codemirror_mode": {
    "name": "ipython",
    "version": 3
   },
   "file_extension": ".py",
   "mimetype": "text/x-python",
   "name": "python",
   "nbconvert_exporter": "python",
   "pygments_lexer": "ipython3",
   "version": "3.6.3"
  },
  "varInspector": {
   "cols": {
    "lenName": 16,
    "lenType": 16,
    "lenVar": 40
   },
   "kernels_config": {
    "python": {
     "delete_cmd_postfix": "",
     "delete_cmd_prefix": "del ",
     "library": "var_list.py",
     "varRefreshCmd": "print(var_dic_list())"
    },
    "r": {
     "delete_cmd_postfix": ") ",
     "delete_cmd_prefix": "rm(",
     "library": "var_list.r",
     "varRefreshCmd": "cat(var_dic_list()) "
    }
   },
   "types_to_exclude": [
    "module",
    "function",
    "builtin_function_or_method",
    "instance",
    "_Feature"
   ],
   "window_display": false
  }
 },
 "nbformat": 4,
 "nbformat_minor": 2
}
