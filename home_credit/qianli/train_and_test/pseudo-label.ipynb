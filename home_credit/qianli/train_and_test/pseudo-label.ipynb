{
 "cells": [
  {
   "cell_type": "code",
   "execution_count": 1,
   "metadata": {
    "ExecuteTime": {
     "end_time": "2018-06-22T17:10:35.770211Z",
     "start_time": "2018-06-22T17:10:35.226518Z"
    }
   },
   "outputs": [],
   "source": [
    "import os\n",
    "import numpy as np\n",
    "import pandas as pd\n",
    "import gc\n",
    "import time\n",
    "from contextlib import contextmanager\n",
    "from lightgbm import LGBMClassifier\n",
    "from sklearn.metrics import roc_auc_score, roc_curve\n",
    "from sklearn.model_selection import KFold, StratifiedKFold\n",
    "import matplotlib.pyplot as plt\n",
    "import seaborn as sns\n",
    "import warnings\n",
    "warnings.simplefilter(action='ignore', category=FutureWarning)\n",
    "PATH = '/home/kai/data/kaggle/homecredit/'\n"
   ]
  },
  {
   "cell_type": "code",
   "execution_count": 2,
   "metadata": {
    "ExecuteTime": {
     "end_time": "2018-06-22T17:10:41.030139Z",
     "start_time": "2018-06-22T17:10:35.786276Z"
    },
    "scrolled": false
   },
   "outputs": [
    {
     "name": "stdout",
     "output_type": "stream",
     "text": [
      "(307511, 1754) (48744, 1753)\n"
     ]
    },
    {
     "data": {
      "text/plain": [
       "'done'"
      ]
     },
     "execution_count": 2,
     "metadata": {},
     "output_type": "execute_result"
    }
   ],
   "source": [
    "# Read train and test\n",
    "train = pd.read_pickle(PATH + 'train_0.pkl')\n",
    "test = pd.read_pickle(PATH + 'test_0.pkl')\n",
    "print(train.shape, test.shape)\n",
    "'done'"
   ]
  },
  {
   "cell_type": "markdown",
   "metadata": {},
   "source": [
    "# Cut large piece and get new train&test, and large_pred piece"
   ]
  },
  {
   "cell_type": "code",
   "execution_count": 3,
   "metadata": {
    "ExecuteTime": {
     "end_time": "2018-06-22T17:10:45.270928Z",
     "start_time": "2018-06-22T17:10:45.267402Z"
    }
   },
   "outputs": [],
   "source": [
    "def large_new(df1, df2, prediction, threshold):\n",
    "    print('begin cut large')\n",
    "    pred = prediction.copy()\n",
    "    train_df, test_df = df1.copy(), df2.copy()\n",
    "    print('old shapes,' ,test_df.shape,train_df.shape)\n",
    "    half_pred = pred[pred['TARGET'] > threshold]\n",
    "    index_half = half_pred.index\n",
    "    print('length of half',len(half_pred))\n",
    "    test_half = test_df.iloc[index_half]\n",
    "    test_half['TARGET'] = 1\n",
    "\n",
    "    # drop index_half for test_df, add train\n",
    "    test_df.drop(index_half, inplace = True)\n",
    "    train_df = pd.concat([train_df,test_half])\n",
    "    print('new shapes,',test_df.shape,train_df.shape)\n",
    "    return train_df, test_df, half_pred"
   ]
  },
  {
   "cell_type": "markdown",
   "metadata": {},
   "source": [
    "# Cut small piece and get new train& test, and small_pred piece"
   ]
  },
  {
   "cell_type": "code",
   "execution_count": 4,
   "metadata": {
    "ExecuteTime": {
     "end_time": "2018-06-22T17:10:46.197165Z",
     "start_time": "2018-06-22T17:10:46.193551Z"
    }
   },
   "outputs": [],
   "source": [
    "def small_new(df1, df2, prediction, threshold):\n",
    "    print('begin cut small')\n",
    "    pred = prediction.copy()\n",
    "    train_df, test_df = df1.copy(), df2.copy()\n",
    "    print('old shapes,',test_df.shape,train_df.shape)\n",
    "    small_pred = pred[pred['TARGET'] < threshold]\n",
    "    index_small = small_pred.index\n",
    "    print('length of small',len(small_pred))\n",
    "    test_small = test_df.iloc[index_small]\n",
    "    test_small['TARGET'] = 0\n",
    "\n",
    "    # drop index_small for test_df, add train\n",
    "    test_df.drop(index_small, inplace = True)\n",
    "    train_df = pd.concat([train_df,test_small])\n",
    "    print('new shapes,',test_df.shape,train_df.shape)\n",
    "    return train_df, test_df, small_pred"
   ]
  },
  {
   "cell_type": "markdown",
   "metadata": {},
   "source": [
    "# Models"
   ]
  },
  {
   "cell_type": "code",
   "execution_count": 5,
   "metadata": {
    "ExecuteTime": {
     "end_time": "2018-06-22T17:10:49.205765Z",
     "start_time": "2018-06-22T17:10:49.196048Z"
    }
   },
   "outputs": [],
   "source": [
    "def model_1(train_df, test_df, threshold1, threshold2, n_splits):\n",
    "    print('begin blended lightgbm')\n",
    "    # Cross validation model\n",
    "    stratified = True\n",
    "\n",
    "    if stratified:\n",
    "        folds = StratifiedKFold(n_splits, shuffle=True, random_state=1001)\n",
    "    else:\n",
    "        folds = KFold(n_splits, shuffle=True, random_state=45)\n",
    "    # Create arrays and dataframes to store results\n",
    "    oof_preds = np.zeros(train_df.shape[0])\n",
    "    sub_preds = np.zeros(test_df.shape[0])\n",
    "    feature_importance_df = pd.DataFrame()\n",
    "    feats = [f for f in train_df.columns if f not in ['TARGET','SK_ID_CURR','SK_ID_BUREAU','SK_ID_PREV','index']]\n",
    "\n",
    "    for n_fold, (train_idx, valid_idx) in enumerate(folds.split(train_df[feats], train_df['TARGET'])):\n",
    "        train_x, train_y = train_df[feats].iloc[train_idx], train_df['TARGET'].iloc[train_idx]\n",
    "        valid_x, valid_y = train_df[feats].iloc[valid_idx], train_df['TARGET'].iloc[valid_idx]\n",
    "\n",
    "        # LightGBM parameters found by Bayesian optimization\n",
    "        clf = LGBMClassifier(\n",
    "            nthread=16,\n",
    "            n_estimators=10000,\n",
    "            learning_rate=0.02,\n",
    "            num_leaves=34,\n",
    "            colsample_bytree=0.9497036,\n",
    "            subsample=0.8715623,\n",
    "            max_depth=8,\n",
    "            reg_alpha=0.041545473,\n",
    "            reg_lambda=0.0735294,\n",
    "            min_split_gain=0.0222415,\n",
    "            min_child_weight=39.3259775,\n",
    "            silent=-1,\n",
    "            verbose=-1, )\n",
    "\n",
    "        clf.fit(train_x, train_y, eval_set=[(train_x, train_y), (valid_x, valid_y)], \n",
    "            eval_metric= 'auc', verbose= 100, early_stopping_rounds= 200)\n",
    "\n",
    "        oof_preds[valid_idx] = clf.predict_proba(valid_x, num_iteration=clf.best_iteration_)[:, 1]\n",
    "        sub_preds += clf.predict_proba(test_df[feats], num_iteration=clf.best_iteration_)[:, 1] / folds.n_splits\n",
    "\n",
    "    #     fold_importance_df = pd.DataFrame()\n",
    "    #     fold_importance_df[\"feature\"] = feats\n",
    "    # #     fold_importance_df[\"importance\"] = clf.feature_importances_\n",
    "    #     fold_importance_df[\"fold\"] = n_fold + 1\n",
    "    #     feature_importance_df = pd.concat([feature_importance_df, fold_importance_df], axis=0)\n",
    "        print('Fold %2d AUC : %.6f' % (n_fold + 1, roc_auc_score(valid_y, oof_preds[valid_idx])))\n",
    "        del clf, train_x, train_y, valid_x, valid_y\n",
    "        gc.collect()\n",
    "    print('Full AUC score %.6f' % roc_auc_score(train_df['TARGET'], oof_preds))\n",
    "    \n",
    "    test_df['TARGET'] = sub_preds\n",
    "    pred =test_df[['SK_ID_CURR', 'TARGET']]\n",
    "    len_small = len(pred[pred['TARGET']< threshold1])\n",
    "    len_large = len(pred[pred['TARGET']> threshold2])\n",
    "    print('length of small and large', len_small, len_large)\n",
    "    return pred, len_small, len_large\n",
    "\n",
    "def model_2(train_df, test_df, threshold1, threshold2, n_splits):\n",
    "    print('begin cv')\n",
    "    target = train_df['TARGET']\n",
    "    ignore_cols = ['ORGANIZATION_TYPE', 'TARGET', 'SK_ID_CURR']\n",
    "    features = [x for x in train_df.columns if x not in ignore_cols]\n",
    "    train = train_df[features]\n",
    "    test = test_df[features]\n",
    "\n",
    "    from sklearn.model_selection import StratifiedKFold\n",
    "    from lightgbm import LGBMClassifier\n",
    "    from sklearn.metrics import roc_auc_score\n",
    "    import lightgbm as lgbm\n",
    "\n",
    "    lgbm_train = lgbm.Dataset(data=train,\n",
    "                              label=target,\n",
    "\n",
    "                              categorical_feature=[],#categorical_feats,\n",
    "                              free_raw_data=False)\n",
    "\n",
    "    lgbm_params = {'task': 'train', 'boosting_type': 'gbdt', 'objective': 'binary', 'metric': 'auc', \n",
    "              'learning_rate': 0.01, 'num_leaves': 48, 'num_iteration': 4000, 'verbose': 0 ,\n",
    "              'colsample_bytree':.8, 'subsample':.9, 'max_depth':7, 'reg_alpha':.1, 'reg_lambda':.1, \n",
    "              'min_split_gain':.01, 'min_child_weight':1,'num_threads': 12,'feature_fraction': 0.95}\n",
    "\n",
    "    cv_results = lgbm.cv(train_set=lgbm_train,\n",
    "                         params=lgbm_params,\n",
    "                         nfold=n_splits,\n",
    "                         early_stopping_rounds=150,\n",
    "                         verbose_eval=100,\n",
    "                         metrics=['auc'])\n",
    "\n",
    "    optimum_boost_rounds = np.argmax(cv_results['auc-mean'])\n",
    "    print('Optimum boost rounds = {}'.format(optimum_boost_rounds))\n",
    "    print('Best CV result = {}'.format(np.max(cv_results['auc-mean'])))\n",
    "\n",
    "    clf = lgbm.train(train_set=lgbm_train,\n",
    "                     params=lgbm_params,\n",
    "                     num_boost_round=optimum_boost_rounds)\n",
    "\n",
    "    \"\"\" Predict on test set and create submission \"\"\"\n",
    "    y_pred = clf.predict(test)\n",
    "    out_df = pd.DataFrame({'SK_ID_CURR': test_cleaned['SK_ID_CURR'], 'TARGET': y_pred})\n",
    "    small_len = out_df[out_df['TARGET']< threshold1]\n",
    "    large_len = out_df[out_df['TARGET']> threshold2]\n",
    "    print('length of small and large,' len(small_len),len(large_len))\n",
    "    return out_df, small_len, large_len"
   ]
  },
  {
   "cell_type": "markdown",
   "metadata": {
    "collapsed": true
   },
   "source": [
    "# Concate back to a submission"
   ]
  },
  {
   "cell_type": "code",
   "execution_count": 6,
   "metadata": {
    "ExecuteTime": {
     "end_time": "2018-06-22T17:10:50.704670Z",
     "start_time": "2018-06-22T17:10:50.701762Z"
    }
   },
   "outputs": [],
   "source": [
    "# col = 'SK_ID_CURR'\n",
    "def concat_pred(cutout_pred, modified_pred):\n",
    "    print('begin concat predictions')\n",
    "    test_concat = pd.concat([modified_pred, cutout_pred], axis = 0)\n",
    "    print(test_concat.shape)\n",
    "    test = pd.read_csv(PATH + 'application_test.csv')\n",
    "    test = test[['SK_ID_CURR']]\n",
    "    pred = test.merge(test_concat, how = 'left', on = 'SK_ID_CURR')\n",
    "    return pred\n"
   ]
  },
  {
   "cell_type": "markdown",
   "metadata": {},
   "source": [
    "# Run"
   ]
  },
  {
   "cell_type": "code",
   "execution_count": 7,
   "metadata": {
    "ExecuteTime": {
     "end_time": "2018-06-22T18:13:31.026215Z",
     "start_time": "2018-06-22T17:10:51.437918Z"
    }
   },
   "outputs": [
    {
     "name": "stdout",
     "output_type": "stream",
     "text": [
      "begin blended lightgbm\n",
      "Training until validation scores don't improve for 200 rounds.\n",
      "[100]\ttraining's auc: 0.760721\tvalid_1's auc: 0.751877\n",
      "[200]\ttraining's auc: 0.788426\tvalid_1's auc: 0.772518\n",
      "[300]\ttraining's auc: 0.808035\tvalid_1's auc: 0.784701\n",
      "[400]\ttraining's auc: 0.821158\tvalid_1's auc: 0.789974\n",
      "[500]\ttraining's auc: 0.831417\tvalid_1's auc: 0.793318\n",
      "[600]\ttraining's auc: 0.840338\tvalid_1's auc: 0.795182\n",
      "[700]\ttraining's auc: 0.848099\tvalid_1's auc: 0.796448\n",
      "[800]\ttraining's auc: 0.855077\tvalid_1's auc: 0.797361\n",
      "[900]\ttraining's auc: 0.861648\tvalid_1's auc: 0.797891\n",
      "[1000]\ttraining's auc: 0.867748\tvalid_1's auc: 0.79819\n",
      "[1100]\ttraining's auc: 0.873578\tvalid_1's auc: 0.798436\n",
      "[1200]\ttraining's auc: 0.879083\tvalid_1's auc: 0.798666\n",
      "[1300]\ttraining's auc: 0.884268\tvalid_1's auc: 0.798874\n",
      "[1400]\ttraining's auc: 0.889303\tvalid_1's auc: 0.798999\n",
      "[1500]\ttraining's auc: 0.894\tvalid_1's auc: 0.799004\n",
      "[1600]\ttraining's auc: 0.898582\tvalid_1's auc: 0.799006\n",
      "[1700]\ttraining's auc: 0.902972\tvalid_1's auc: 0.799091\n",
      "[1800]\ttraining's auc: 0.907151\tvalid_1's auc: 0.799138\n",
      "[1900]\ttraining's auc: 0.911129\tvalid_1's auc: 0.799189\n",
      "[2000]\ttraining's auc: 0.914753\tvalid_1's auc: 0.799176\n",
      "[2100]\ttraining's auc: 0.918572\tvalid_1's auc: 0.799084\n",
      "Early stopping, best iteration is:\n",
      "[1969]\ttraining's auc: 0.913701\tvalid_1's auc: 0.79923\n",
      "Fold  1 AUC : 0.799230\n",
      "Training until validation scores don't improve for 200 rounds.\n",
      "[100]\ttraining's auc: 0.760532\tvalid_1's auc: 0.743238\n",
      "[200]\ttraining's auc: 0.789831\tvalid_1's auc: 0.765899\n",
      "[300]\ttraining's auc: 0.809324\tvalid_1's auc: 0.77798\n",
      "[400]\ttraining's auc: 0.822368\tvalid_1's auc: 0.78364\n",
      "[500]\ttraining's auc: 0.832715\tvalid_1's auc: 0.786346\n",
      "[600]\ttraining's auc: 0.841881\tvalid_1's auc: 0.788076\n",
      "[700]\ttraining's auc: 0.849593\tvalid_1's auc: 0.789154\n",
      "[800]\ttraining's auc: 0.856742\tvalid_1's auc: 0.789855\n",
      "[900]\ttraining's auc: 0.86285\tvalid_1's auc: 0.790385\n",
      "[1000]\ttraining's auc: 0.868813\tvalid_1's auc: 0.79092\n",
      "[1100]\ttraining's auc: 0.874304\tvalid_1's auc: 0.791051\n",
      "[1200]\ttraining's auc: 0.879934\tvalid_1's auc: 0.79119\n",
      "[1300]\ttraining's auc: 0.884876\tvalid_1's auc: 0.791348\n",
      "[1400]\ttraining's auc: 0.88959\tvalid_1's auc: 0.79134\n",
      "[1500]\ttraining's auc: 0.894214\tvalid_1's auc: 0.791348\n",
      "[1600]\ttraining's auc: 0.898571\tvalid_1's auc: 0.791202\n",
      "Early stopping, best iteration is:\n",
      "[1464]\ttraining's auc: 0.892607\tvalid_1's auc: 0.791451\n",
      "Fold  2 AUC : 0.791410\n",
      "Training until validation scores don't improve for 200 rounds.\n",
      "[100]\ttraining's auc: 0.758783\tvalid_1's auc: 0.749796\n",
      "[200]\ttraining's auc: 0.788917\tvalid_1's auc: 0.771318\n",
      "[300]\ttraining's auc: 0.808167\tvalid_1's auc: 0.782776\n",
      "[400]\ttraining's auc: 0.821386\tvalid_1's auc: 0.788347\n",
      "[500]\ttraining's auc: 0.831799\tvalid_1's auc: 0.791394\n",
      "[600]\ttraining's auc: 0.840771\tvalid_1's auc: 0.793124\n",
      "[700]\ttraining's auc: 0.848532\tvalid_1's auc: 0.794289\n",
      "[800]\ttraining's auc: 0.855552\tvalid_1's auc: 0.795139\n",
      "[900]\ttraining's auc: 0.862107\tvalid_1's auc: 0.795647\n",
      "[1000]\ttraining's auc: 0.868314\tvalid_1's auc: 0.79617\n",
      "[1100]\ttraining's auc: 0.874283\tvalid_1's auc: 0.796613\n",
      "[1200]\ttraining's auc: 0.879654\tvalid_1's auc: 0.796897\n",
      "[1300]\ttraining's auc: 0.884952\tvalid_1's auc: 0.796887\n",
      "[1400]\ttraining's auc: 0.889957\tvalid_1's auc: 0.79701\n",
      "[1500]\ttraining's auc: 0.894611\tvalid_1's auc: 0.797075\n",
      "[1600]\ttraining's auc: 0.899201\tvalid_1's auc: 0.797008\n",
      "[1700]\ttraining's auc: 0.903756\tvalid_1's auc: 0.797027\n",
      "Early stopping, best iteration is:\n",
      "[1555]\ttraining's auc: 0.897109\tvalid_1's auc: 0.797161\n",
      "Fold  3 AUC : 0.797146\n",
      "Training until validation scores don't improve for 200 rounds.\n",
      "[100]\ttraining's auc: 0.760292\tvalid_1's auc: 0.749153\n",
      "[200]\ttraining's auc: 0.78969\tvalid_1's auc: 0.770342\n",
      "[300]\ttraining's auc: 0.808984\tvalid_1's auc: 0.781688\n",
      "[400]\ttraining's auc: 0.82197\tvalid_1's auc: 0.78707\n",
      "[500]\ttraining's auc: 0.83203\tvalid_1's auc: 0.789774\n",
      "[600]\ttraining's auc: 0.840658\tvalid_1's auc: 0.791587\n",
      "[700]\ttraining's auc: 0.84832\tvalid_1's auc: 0.792764\n",
      "[800]\ttraining's auc: 0.855151\tvalid_1's auc: 0.793436\n",
      "[900]\ttraining's auc: 0.861298\tvalid_1's auc: 0.793808\n",
      "[1000]\ttraining's auc: 0.867225\tvalid_1's auc: 0.794251\n",
      "[1100]\ttraining's auc: 0.872902\tvalid_1's auc: 0.794563\n",
      "[1200]\ttraining's auc: 0.878608\tvalid_1's auc: 0.794782\n",
      "[1300]\ttraining's auc: 0.883737\tvalid_1's auc: 0.794781\n",
      "[1400]\ttraining's auc: 0.888834\tvalid_1's auc: 0.79479\n",
      "[1500]\ttraining's auc: 0.89343\tvalid_1's auc: 0.794864\n",
      "[1600]\ttraining's auc: 0.897902\tvalid_1's auc: 0.79498\n",
      "[1700]\ttraining's auc: 0.902233\tvalid_1's auc: 0.794969\n",
      "[1800]\ttraining's auc: 0.906719\tvalid_1's auc: 0.795062\n",
      "[1900]\ttraining's auc: 0.910677\tvalid_1's auc: 0.794923\n",
      "[2000]\ttraining's auc: 0.914428\tvalid_1's auc: 0.794835\n",
      "Early stopping, best iteration is:\n",
      "[1825]\ttraining's auc: 0.907665\tvalid_1's auc: 0.795094\n",
      "Fold  4 AUC : 0.795068\n",
      "Training until validation scores don't improve for 200 rounds.\n",
      "[100]\ttraining's auc: 0.761801\tvalid_1's auc: 0.742779\n",
      "[200]\ttraining's auc: 0.789922\tvalid_1's auc: 0.764255\n",
      "[300]\ttraining's auc: 0.809375\tvalid_1's auc: 0.776436\n",
      "[400]\ttraining's auc: 0.822494\tvalid_1's auc: 0.782626\n",
      "[500]\ttraining's auc: 0.832845\tvalid_1's auc: 0.786071\n",
      "[600]\ttraining's auc: 0.841707\tvalid_1's auc: 0.788273\n",
      "[700]\ttraining's auc: 0.849482\tvalid_1's auc: 0.789662\n",
      "[800]\ttraining's auc: 0.856581\tvalid_1's auc: 0.790489\n",
      "[900]\ttraining's auc: 0.863109\tvalid_1's auc: 0.791194\n",
      "[1000]\ttraining's auc: 0.8692\tvalid_1's auc: 0.791779\n",
      "[1100]\ttraining's auc: 0.874753\tvalid_1's auc: 0.792066\n",
      "[1200]\ttraining's auc: 0.880187\tvalid_1's auc: 0.792335\n",
      "[1300]\ttraining's auc: 0.885313\tvalid_1's auc: 0.79246\n",
      "[1400]\ttraining's auc: 0.889966\tvalid_1's auc: 0.79265\n",
      "[1500]\ttraining's auc: 0.894908\tvalid_1's auc: 0.792619\n",
      "[1600]\ttraining's auc: 0.899216\tvalid_1's auc: 0.792531\n",
      "Early stopping, best iteration is:\n",
      "[1434]\ttraining's auc: 0.89163\tvalid_1's auc: 0.792718\n",
      "Fold  5 AUC : 0.792714\n",
      "Full AUC score 0.795060\n",
      "length of small and large 362 222\n",
      "begin cutting\n",
      "begin cut small\n",
      "old shapes, (48744, 1754) (307511, 1754)\n",
      "length of small 362\n"
     ]
    },
    {
     "name": "stderr",
     "output_type": "stream",
     "text": [
      "/home/kai/anaconda3/lib/python3.6/site-packages/ipykernel_launcher.py:10: SettingWithCopyWarning: \n",
      "A value is trying to be set on a copy of a slice from a DataFrame.\n",
      "Try using .loc[row_indexer,col_indexer] = value instead\n",
      "\n",
      "See the caveats in the documentation: http://pandas.pydata.org/pandas-docs/stable/indexing.html#indexing-view-versus-copy\n",
      "  # Remove the CWD from sys.path while we load stuff.\n"
     ]
    },
    {
     "name": "stdout",
     "output_type": "stream",
     "text": [
      "new shapes, (48382, 1754) (307873, 1754)\n",
      "begin cut new\n",
      "old shapes, (48744, 1754) (307511, 1754)\n",
      "length of half 222\n",
      "new shapes, (48522, 1754) (307733, 1754)\n"
     ]
    }
   ],
   "source": [
    "threshold1, threshold2 = 0.005, 0.5\n",
    "splits = 5\n",
    "\n",
    "pred1, small, large = model_1(train, test, threshold1, threshold2,n_splits)\n",
    "\n",
    "print('begin cutting')\n",
    "train_small, test_small, cut_small = small_new(train, test, pred1, threshold1)\n",
    "\n"
   ]
  },
  {
   "cell_type": "code",
   "execution_count": 9,
   "metadata": {
    "ExecuteTime": {
     "end_time": "2018-06-22T19:29:28.712783Z",
     "start_time": "2018-06-22T18:26:43.480240Z"
    },
    "scrolled": true
   },
   "outputs": [
    {
     "name": "stdout",
     "output_type": "stream",
     "text": [
      "begin blended lightgbm\n",
      "Training until validation scores don't improve for 200 rounds.\n",
      "[100]\ttraining's auc: 0.761199\tvalid_1's auc: 0.75245\n",
      "[200]\ttraining's auc: 0.788297\tvalid_1's auc: 0.771412\n",
      "[300]\ttraining's auc: 0.808161\tvalid_1's auc: 0.783667\n",
      "[400]\ttraining's auc: 0.821293\tvalid_1's auc: 0.788847\n",
      "[500]\ttraining's auc: 0.831885\tvalid_1's auc: 0.791875\n",
      "[600]\ttraining's auc: 0.840844\tvalid_1's auc: 0.793543\n",
      "[700]\ttraining's auc: 0.84884\tvalid_1's auc: 0.794455\n",
      "[800]\ttraining's auc: 0.855803\tvalid_1's auc: 0.795087\n",
      "[900]\ttraining's auc: 0.86229\tvalid_1's auc: 0.79561\n",
      "[1000]\ttraining's auc: 0.868445\tvalid_1's auc: 0.796019\n",
      "[1100]\ttraining's auc: 0.8741\tvalid_1's auc: 0.796268\n",
      "[1200]\ttraining's auc: 0.879683\tvalid_1's auc: 0.796514\n",
      "[1300]\ttraining's auc: 0.884739\tvalid_1's auc: 0.796538\n",
      "[1400]\ttraining's auc: 0.88974\tvalid_1's auc: 0.796397\n",
      "[1500]\ttraining's auc: 0.894348\tvalid_1's auc: 0.796291\n",
      "Early stopping, best iteration is:\n",
      "[1318]\ttraining's auc: 0.885608\tvalid_1's auc: 0.796585\n",
      "Fold  1 AUC : 0.796576\n",
      "Training until validation scores don't improve for 200 rounds.\n",
      "[100]\ttraining's auc: 0.761938\tvalid_1's auc: 0.743957\n",
      "[200]\ttraining's auc: 0.789973\tvalid_1's auc: 0.765265\n",
      "[300]\ttraining's auc: 0.809357\tvalid_1's auc: 0.778293\n",
      "[400]\ttraining's auc: 0.822341\tvalid_1's auc: 0.784475\n",
      "[500]\ttraining's auc: 0.832617\tvalid_1's auc: 0.788219\n",
      "[600]\ttraining's auc: 0.841543\tvalid_1's auc: 0.790156\n",
      "[700]\ttraining's auc: 0.849359\tvalid_1's auc: 0.791365\n",
      "[800]\ttraining's auc: 0.855911\tvalid_1's auc: 0.792308\n",
      "[900]\ttraining's auc: 0.862228\tvalid_1's auc: 0.792935\n",
      "[1000]\ttraining's auc: 0.868344\tvalid_1's auc: 0.793364\n",
      "[1100]\ttraining's auc: 0.874142\tvalid_1's auc: 0.793599\n",
      "[1200]\ttraining's auc: 0.879535\tvalid_1's auc: 0.794017\n",
      "[1300]\ttraining's auc: 0.884943\tvalid_1's auc: 0.794257\n",
      "[1400]\ttraining's auc: 0.889882\tvalid_1's auc: 0.794501\n",
      "[1500]\ttraining's auc: 0.894893\tvalid_1's auc: 0.794565\n",
      "[1600]\ttraining's auc: 0.899442\tvalid_1's auc: 0.794692\n",
      "[1700]\ttraining's auc: 0.903831\tvalid_1's auc: 0.794755\n",
      "[1800]\ttraining's auc: 0.907985\tvalid_1's auc: 0.79481\n",
      "[1900]\ttraining's auc: 0.911946\tvalid_1's auc: 0.794652\n",
      "Early stopping, best iteration is:\n",
      "[1769]\ttraining's auc: 0.906754\tvalid_1's auc: 0.794931\n",
      "Fold  2 AUC : 0.794934\n",
      "Training until validation scores don't improve for 200 rounds.\n",
      "[100]\ttraining's auc: 0.76097\tvalid_1's auc: 0.75079\n",
      "[200]\ttraining's auc: 0.789169\tvalid_1's auc: 0.771852\n",
      "[300]\ttraining's auc: 0.808512\tvalid_1's auc: 0.78342\n",
      "[400]\ttraining's auc: 0.821594\tvalid_1's auc: 0.788915\n",
      "[500]\ttraining's auc: 0.832017\tvalid_1's auc: 0.792078\n",
      "[600]\ttraining's auc: 0.840853\tvalid_1's auc: 0.794072\n",
      "[700]\ttraining's auc: 0.848608\tvalid_1's auc: 0.795329\n",
      "[800]\ttraining's auc: 0.856107\tvalid_1's auc: 0.795881\n",
      "[900]\ttraining's auc: 0.862878\tvalid_1's auc: 0.796274\n",
      "[1000]\ttraining's auc: 0.86884\tvalid_1's auc: 0.796554\n",
      "[1100]\ttraining's auc: 0.874642\tvalid_1's auc: 0.796711\n",
      "[1200]\ttraining's auc: 0.88011\tvalid_1's auc: 0.796765\n",
      "[1300]\ttraining's auc: 0.885333\tvalid_1's auc: 0.796893\n",
      "[1400]\ttraining's auc: 0.890222\tvalid_1's auc: 0.79703\n",
      "[1500]\ttraining's auc: 0.895232\tvalid_1's auc: 0.797116\n",
      "[1600]\ttraining's auc: 0.89975\tvalid_1's auc: 0.79715\n",
      "[1700]\ttraining's auc: 0.903968\tvalid_1's auc: 0.797055\n",
      "Early stopping, best iteration is:\n",
      "[1565]\ttraining's auc: 0.898166\tvalid_1's auc: 0.797237\n",
      "Fold  3 AUC : 0.797220\n",
      "Training until validation scores don't improve for 200 rounds.\n",
      "[100]\ttraining's auc: 0.761599\tvalid_1's auc: 0.748242\n",
      "[200]\ttraining's auc: 0.790102\tvalid_1's auc: 0.76837\n",
      "[300]\ttraining's auc: 0.809745\tvalid_1's auc: 0.779357\n",
      "[400]\ttraining's auc: 0.822725\tvalid_1's auc: 0.784539\n",
      "[500]\ttraining's auc: 0.832732\tvalid_1's auc: 0.787315\n",
      "[600]\ttraining's auc: 0.84151\tvalid_1's auc: 0.788986\n",
      "[700]\ttraining's auc: 0.849011\tvalid_1's auc: 0.790024\n",
      "[800]\ttraining's auc: 0.855616\tvalid_1's auc: 0.790934\n",
      "[900]\ttraining's auc: 0.862184\tvalid_1's auc: 0.791436\n",
      "[1000]\ttraining's auc: 0.868055\tvalid_1's auc: 0.791934\n",
      "[1100]\ttraining's auc: 0.87388\tvalid_1's auc: 0.792418\n",
      "[1200]\ttraining's auc: 0.878975\tvalid_1's auc: 0.792348\n",
      "[1300]\ttraining's auc: 0.88415\tvalid_1's auc: 0.792304\n",
      "Early stopping, best iteration is:\n",
      "[1129]\ttraining's auc: 0.875395\tvalid_1's auc: 0.792487\n",
      "Fold  4 AUC : 0.792485\n",
      "Training until validation scores don't improve for 200 rounds.\n",
      "[100]\ttraining's auc: 0.761242\tvalid_1's auc: 0.745232\n",
      "[200]\ttraining's auc: 0.789469\tvalid_1's auc: 0.766619\n",
      "[300]\ttraining's auc: 0.809261\tvalid_1's auc: 0.779262\n",
      "[400]\ttraining's auc: 0.82224\tvalid_1's auc: 0.785043\n",
      "[500]\ttraining's auc: 0.832547\tvalid_1's auc: 0.788387\n",
      "[600]\ttraining's auc: 0.841187\tvalid_1's auc: 0.790251\n",
      "[700]\ttraining's auc: 0.848777\tvalid_1's auc: 0.791328\n",
      "[800]\ttraining's auc: 0.856051\tvalid_1's auc: 0.792146\n",
      "[900]\ttraining's auc: 0.862484\tvalid_1's auc: 0.792943\n",
      "[1000]\ttraining's auc: 0.868386\tvalid_1's auc: 0.793314\n",
      "[1100]\ttraining's auc: 0.873943\tvalid_1's auc: 0.793403\n",
      "[1200]\ttraining's auc: 0.879427\tvalid_1's auc: 0.79364\n",
      "[1300]\ttraining's auc: 0.884757\tvalid_1's auc: 0.793858\n",
      "[1400]\ttraining's auc: 0.889731\tvalid_1's auc: 0.794094\n",
      "[1500]\ttraining's auc: 0.894766\tvalid_1's auc: 0.794034\n",
      "[1600]\ttraining's auc: 0.898863\tvalid_1's auc: 0.794024\n",
      "[1700]\ttraining's auc: 0.903305\tvalid_1's auc: 0.793989\n",
      "Early stopping, best iteration is:\n",
      "[1556]\ttraining's auc: 0.897021\tvalid_1's auc: 0.794127\n",
      "Fold  5 AUC : 0.794154\n",
      "Full AUC score 0.795027\n",
      "length of small and large 20 213\n",
      "begin concat predictions\n",
      "(48744, 2)\n"
     ]
    }
   ],
   "source": [
    "n_splits = 5\n",
    "print('start modified_small')\n",
    "modified_small,_,_ =  model_1(train_small, test_small, threshold1, threshold2,n_splits)\n",
    "\n",
    "pred_small = concat_pred(modified_small,cut_small)"
   ]
  },
  {
   "cell_type": "code",
   "execution_count": 10,
   "metadata": {
    "ExecuteTime": {
     "end_time": "2018-06-22T20:31:51.795087Z",
     "start_time": "2018-06-22T19:35:02.804668Z"
    }
   },
   "outputs": [
    {
     "name": "stdout",
     "output_type": "stream",
     "text": [
      "begin cut new\n",
      "old shapes, (48744, 1754) (307511, 1754)\n",
      "length of half 222\n"
     ]
    },
    {
     "name": "stderr",
     "output_type": "stream",
     "text": [
      "/home/kai/anaconda3/lib/python3.6/site-packages/ipykernel_launcher.py:10: SettingWithCopyWarning: \n",
      "A value is trying to be set on a copy of a slice from a DataFrame.\n",
      "Try using .loc[row_indexer,col_indexer] = value instead\n",
      "\n",
      "See the caveats in the documentation: http://pandas.pydata.org/pandas-docs/stable/indexing.html#indexing-view-versus-copy\n",
      "  # Remove the CWD from sys.path while we load stuff.\n"
     ]
    },
    {
     "name": "stdout",
     "output_type": "stream",
     "text": [
      "new shapes, (48522, 1754) (307733, 1754)\n",
      "start modified_large\n",
      "begin blended lightgbm\n",
      "Training until validation scores don't improve for 200 rounds.\n",
      "[100]\ttraining's auc: 0.762495\tvalid_1's auc: 0.748653\n",
      "[200]\ttraining's auc: 0.790586\tvalid_1's auc: 0.770404\n",
      "[300]\ttraining's auc: 0.810257\tvalid_1's auc: 0.782054\n",
      "[400]\ttraining's auc: 0.823106\tvalid_1's auc: 0.787786\n",
      "[500]\ttraining's auc: 0.833135\tvalid_1's auc: 0.790999\n",
      "[600]\ttraining's auc: 0.841783\tvalid_1's auc: 0.793037\n",
      "[700]\ttraining's auc: 0.849172\tvalid_1's auc: 0.794452\n",
      "[800]\ttraining's auc: 0.856186\tvalid_1's auc: 0.795297\n",
      "[900]\ttraining's auc: 0.862603\tvalid_1's auc: 0.795978\n",
      "[1000]\ttraining's auc: 0.868766\tvalid_1's auc: 0.796487\n",
      "[1100]\ttraining's auc: 0.874655\tvalid_1's auc: 0.797129\n",
      "[1200]\ttraining's auc: 0.87995\tvalid_1's auc: 0.79743\n",
      "[1300]\ttraining's auc: 0.884913\tvalid_1's auc: 0.797756\n",
      "[1400]\ttraining's auc: 0.889788\tvalid_1's auc: 0.797969\n",
      "[1500]\ttraining's auc: 0.894403\tvalid_1's auc: 0.798008\n",
      "[1600]\ttraining's auc: 0.898882\tvalid_1's auc: 0.798078\n",
      "[1700]\ttraining's auc: 0.903067\tvalid_1's auc: 0.798291\n",
      "[1800]\ttraining's auc: 0.906988\tvalid_1's auc: 0.798256\n",
      "[1900]\ttraining's auc: 0.911121\tvalid_1's auc: 0.798259\n",
      "[2000]\ttraining's auc: 0.914964\tvalid_1's auc: 0.798408\n",
      "[2100]\ttraining's auc: 0.918658\tvalid_1's auc: 0.798514\n",
      "[2200]\ttraining's auc: 0.921975\tvalid_1's auc: 0.798473\n",
      "Early stopping, best iteration is:\n",
      "[2093]\ttraining's auc: 0.918429\tvalid_1's auc: 0.798543\n",
      "Fold  1 AUC : 0.798531\n",
      "Training until validation scores don't improve for 200 rounds.\n",
      "[100]\ttraining's auc: 0.761811\tvalid_1's auc: 0.756698\n",
      "[200]\ttraining's auc: 0.790003\tvalid_1's auc: 0.776301\n",
      "[300]\ttraining's auc: 0.809428\tvalid_1's auc: 0.786916\n",
      "[400]\ttraining's auc: 0.822384\tvalid_1's auc: 0.791925\n",
      "[500]\ttraining's auc: 0.832869\tvalid_1's auc: 0.794972\n",
      "[600]\ttraining's auc: 0.841808\tvalid_1's auc: 0.796584\n",
      "[700]\ttraining's auc: 0.849551\tvalid_1's auc: 0.797631\n",
      "[800]\ttraining's auc: 0.856493\tvalid_1's auc: 0.798253\n",
      "[900]\ttraining's auc: 0.863022\tvalid_1's auc: 0.798444\n",
      "[1000]\ttraining's auc: 0.869021\tvalid_1's auc: 0.798904\n",
      "[1100]\ttraining's auc: 0.87463\tvalid_1's auc: 0.799062\n",
      "[1200]\ttraining's auc: 0.880133\tvalid_1's auc: 0.799026\n",
      "[1300]\ttraining's auc: 0.885479\tvalid_1's auc: 0.799144\n",
      "[1400]\ttraining's auc: 0.890169\tvalid_1's auc: 0.799333\n",
      "[1500]\ttraining's auc: 0.894805\tvalid_1's auc: 0.799208\n",
      "Early stopping, best iteration is:\n",
      "[1372]\ttraining's auc: 0.888772\tvalid_1's auc: 0.799385\n",
      "Fold  2 AUC : 0.799401\n",
      "Training until validation scores don't improve for 200 rounds.\n",
      "[100]\ttraining's auc: 0.763246\tvalid_1's auc: 0.746589\n",
      "[200]\ttraining's auc: 0.791291\tvalid_1's auc: 0.767596\n",
      "[300]\ttraining's auc: 0.810625\tvalid_1's auc: 0.780554\n",
      "[400]\ttraining's auc: 0.823209\tvalid_1's auc: 0.786533\n",
      "[500]\ttraining's auc: 0.833644\tvalid_1's auc: 0.78993\n",
      "[600]\ttraining's auc: 0.842531\tvalid_1's auc: 0.79212\n",
      "[700]\ttraining's auc: 0.850034\tvalid_1's auc: 0.793339\n",
      "[800]\ttraining's auc: 0.857246\tvalid_1's auc: 0.79418\n",
      "[900]\ttraining's auc: 0.863808\tvalid_1's auc: 0.794775\n",
      "[1000]\ttraining's auc: 0.86962\tvalid_1's auc: 0.795254\n",
      "[1100]\ttraining's auc: 0.875247\tvalid_1's auc: 0.795758\n",
      "[1200]\ttraining's auc: 0.880547\tvalid_1's auc: 0.796105\n",
      "[1300]\ttraining's auc: 0.885895\tvalid_1's auc: 0.796335\n",
      "[1400]\ttraining's auc: 0.89079\tvalid_1's auc: 0.796519\n",
      "[1500]\ttraining's auc: 0.895587\tvalid_1's auc: 0.796714\n",
      "[1600]\ttraining's auc: 0.900038\tvalid_1's auc: 0.796838\n",
      "[1700]\ttraining's auc: 0.904288\tvalid_1's auc: 0.796581\n",
      "Early stopping, best iteration is:\n",
      "[1597]\ttraining's auc: 0.899897\tvalid_1's auc: 0.796864\n",
      "Fold  3 AUC : 0.796863\n",
      "Training until validation scores don't improve for 200 rounds.\n",
      "[100]\ttraining's auc: 0.763327\tvalid_1's auc: 0.752142\n",
      "[200]\ttraining's auc: 0.791129\tvalid_1's auc: 0.772226\n",
      "[300]\ttraining's auc: 0.810173\tvalid_1's auc: 0.783823\n",
      "[400]\ttraining's auc: 0.823097\tvalid_1's auc: 0.789361\n",
      "[500]\ttraining's auc: 0.833346\tvalid_1's auc: 0.792402\n",
      "[600]\ttraining's auc: 0.841962\tvalid_1's auc: 0.794071\n",
      "[700]\ttraining's auc: 0.849693\tvalid_1's auc: 0.795298\n",
      "[800]\ttraining's auc: 0.856383\tvalid_1's auc: 0.795807\n",
      "[900]\ttraining's auc: 0.862809\tvalid_1's auc: 0.796284\n",
      "[1000]\ttraining's auc: 0.868673\tvalid_1's auc: 0.796634\n",
      "[1100]\ttraining's auc: 0.874378\tvalid_1's auc: 0.7966\n",
      "[1200]\ttraining's auc: 0.87974\tvalid_1's auc: 0.796615\n",
      "[1300]\ttraining's auc: 0.884995\tvalid_1's auc: 0.796852\n",
      "[1400]\ttraining's auc: 0.889974\tvalid_1's auc: 0.796928\n",
      "[1500]\ttraining's auc: 0.894771\tvalid_1's auc: 0.796899\n",
      "Early stopping, best iteration is:\n",
      "[1361]\ttraining's auc: 0.887929\tvalid_1's auc: 0.796972\n",
      "Fold  4 AUC : 0.796967\n",
      "Training until validation scores don't improve for 200 rounds.\n",
      "[100]\ttraining's auc: 0.763195\tvalid_1's auc: 0.746376\n",
      "[200]\ttraining's auc: 0.791715\tvalid_1's auc: 0.766958\n",
      "[300]\ttraining's auc: 0.810802\tvalid_1's auc: 0.778916\n",
      "[400]\ttraining's auc: 0.823775\tvalid_1's auc: 0.784675\n",
      "[500]\ttraining's auc: 0.834035\tvalid_1's auc: 0.787723\n",
      "[600]\ttraining's auc: 0.842852\tvalid_1's auc: 0.789781\n",
      "[700]\ttraining's auc: 0.850446\tvalid_1's auc: 0.791105\n",
      "[800]\ttraining's auc: 0.857255\tvalid_1's auc: 0.792094\n",
      "[900]\ttraining's auc: 0.863747\tvalid_1's auc: 0.792712\n",
      "[1000]\ttraining's auc: 0.869787\tvalid_1's auc: 0.792967\n",
      "[1100]\ttraining's auc: 0.875523\tvalid_1's auc: 0.793139\n",
      "[1200]\ttraining's auc: 0.880844\tvalid_1's auc: 0.793206\n",
      "[1300]\ttraining's auc: 0.885979\tvalid_1's auc: 0.793394\n",
      "[1400]\ttraining's auc: 0.890766\tvalid_1's auc: 0.793505\n",
      "[1500]\ttraining's auc: 0.895342\tvalid_1's auc: 0.793548\n",
      "[1600]\ttraining's auc: 0.899865\tvalid_1's auc: 0.793412\n",
      "[1700]\ttraining's auc: 0.904041\tvalid_1's auc: 0.793455\n",
      "Early stopping, best iteration is:\n",
      "[1502]\ttraining's auc: 0.895423\tvalid_1's auc: 0.793571\n",
      "Fold  5 AUC : 0.793592\n",
      "Full AUC score 0.797029\n",
      "length of small and large 337 75\n",
      "begin concat predictions\n",
      "(48744, 2)\n"
     ]
    }
   ],
   "source": [
    "train_large, test_large, cut_large = large_new(train, test, pred1, threshold2)\n",
    "print('start modified_large')\n",
    "modified_large,_,_ =  model_1(train_large, test_large, threshold1, threshold2,n_splits)\n",
    "pred_large = concat_pred(cut_large,modified_large)"
   ]
  },
  {
   "cell_type": "code",
   "execution_count": 14,
   "metadata": {
    "ExecuteTime": {
     "end_time": "2018-06-22T17:09:28.428663Z",
     "start_time": "2018-06-22T17:09:28.415110Z"
    }
   },
   "outputs": [],
   "source": [
    "blend_sub = pd.DataFrame()\n",
    "blend_sub['SK_ID_CURR'] = pred_small['SK_ID_CURR']\n",
    "blend_sub['TARGET'] = (pred_small['TARGET']+pred_large['TARGET'])/2"
   ]
  },
  {
   "cell_type": "code",
   "execution_count": null,
   "metadata": {},
   "outputs": [],
   "source": []
  }
 ],
 "metadata": {
  "kernelspec": {
   "display_name": "Python 3",
   "language": "python",
   "name": "python3"
  },
  "language_info": {
   "codemirror_mode": {
    "name": "ipython",
    "version": 3
   },
   "file_extension": ".py",
   "mimetype": "text/x-python",
   "name": "python",
   "nbconvert_exporter": "python",
   "pygments_lexer": "ipython3",
   "version": "3.6.5"
  },
  "varInspector": {
   "cols": {
    "lenName": 16,
    "lenType": 16,
    "lenVar": 40
   },
   "kernels_config": {
    "python": {
     "delete_cmd_postfix": "",
     "delete_cmd_prefix": "del ",
     "library": "var_list.py",
     "varRefreshCmd": "print(var_dic_list())"
    },
    "r": {
     "delete_cmd_postfix": ") ",
     "delete_cmd_prefix": "rm(",
     "library": "var_list.r",
     "varRefreshCmd": "cat(var_dic_list()) "
    }
   },
   "types_to_exclude": [
    "module",
    "function",
    "builtin_function_or_method",
    "instance",
    "_Feature"
   ],
   "window_display": false
  }
 },
 "nbformat": 4,
 "nbformat_minor": 2
}
