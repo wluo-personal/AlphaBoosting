{
 "cells": [
  {
   "cell_type": "code",
   "execution_count": 1,
   "metadata": {
    "ExecuteTime": {
     "end_time": "2018-06-25T17:26:18.468745Z",
     "start_time": "2018-06-25T17:26:18.014294Z"
    }
   },
   "outputs": [],
   "source": [
    "import os\n",
    "import numpy as np\n",
    "import pandas as pd\n",
    "import gc\n",
    "import time\n",
    "from contextlib import contextmanager\n",
    "from lightgbm import LGBMClassifier\n",
    "from sklearn.metrics import roc_auc_score, roc_curve\n",
    "from sklearn.model_selection import KFold, StratifiedKFold\n",
    "import matplotlib.pyplot as plt\n",
    "import seaborn as sns\n",
    "import warnings\n",
    "warnings.simplefilter(action='ignore', category=FutureWarning)\n",
    "PATH = '/home/kai/data/kaggle/homecredit/'\n"
   ]
  },
  {
   "cell_type": "code",
   "execution_count": 5,
   "metadata": {
    "ExecuteTime": {
     "end_time": "2018-06-25T17:27:31.722125Z",
     "start_time": "2018-06-25T17:27:22.993327Z"
    },
    "scrolled": false
   },
   "outputs": [
    {
     "name": "stdout",
     "output_type": "stream",
     "text": [
      "(307511, 1794) (48744, 1793)\n",
      "(307511, 1754)\n"
     ]
    }
   ],
   "source": [
    "# Read train and test\n",
    "train = pd.read_pickle(PATH + 'train_0_with_linear.pkl')\n",
    "test = pd.read_pickle(PATH + 'test_0_with_linear.pkl')\n",
    "print(train.shape, test.shape)\n",
    "'done'\n",
    "\n",
    "train_ori = pd.read_pickle(PATH+'train_0.pkl')\n",
    "print(train_ori.shape)"
   ]
  },
  {
   "cell_type": "markdown",
   "metadata": {},
   "source": [
    "# Cut large piece and get new train&test, and large_pred piece"
   ]
  },
  {
   "cell_type": "code",
   "execution_count": 3,
   "metadata": {
    "ExecuteTime": {
     "end_time": "2018-06-22T17:10:45.270928Z",
     "start_time": "2018-06-22T17:10:45.267402Z"
    }
   },
   "outputs": [],
   "source": [
    "def large_new(df1, df2, prediction, threshold):\n",
    "    print('begin cut large')\n",
    "    pred = prediction.copy()\n",
    "    train_df, test_df = df1.copy(), df2.copy()\n",
    "    print('old shapes,' ,test_df.shape,train_df.shape)\n",
    "    half_pred = pred[pred['TARGET'] > threshold]\n",
    "    index_half = half_pred.index\n",
    "    print('length of half',len(half_pred))\n",
    "    test_half = test_df.iloc[index_half]\n",
    "    test_half['TARGET'] = 1\n",
    "\n",
    "    # drop index_half for test_df, add train\n",
    "    test_df.drop(index_half, inplace = True)\n",
    "    train_df = pd.concat([train_df,test_half])\n",
    "    print('new shapes,',test_df.shape,train_df.shape)\n",
    "    return train_df, test_df, half_pred"
   ]
  },
  {
   "cell_type": "markdown",
   "metadata": {},
   "source": [
    "# Cut small piece and get new train& test, and small_pred piece"
   ]
  },
  {
   "cell_type": "code",
   "execution_count": 4,
   "metadata": {
    "ExecuteTime": {
     "end_time": "2018-06-22T17:10:46.197165Z",
     "start_time": "2018-06-22T17:10:46.193551Z"
    }
   },
   "outputs": [],
   "source": [
    "def small_new(df1, df2, prediction, threshold):\n",
    "    print('begin cut small')\n",
    "    pred = prediction.copy()\n",
    "    train_df, test_df = df1.copy(), df2.copy()\n",
    "    print('old shapes,',test_df.shape,train_df.shape)\n",
    "    small_pred = pred[pred['TARGET'] < threshold]\n",
    "    index_small = small_pred.index\n",
    "    print('length of small',len(small_pred))\n",
    "    test_small = test_df.iloc[index_small]\n",
    "    test_small['TARGET'] = 0\n",
    "\n",
    "    # drop index_small for test_df, add train\n",
    "    test_df.drop(index_small, inplace = True)\n",
    "    train_df = pd.concat([train_df,test_small])\n",
    "    print('new shapes,',test_df.shape,train_df.shape)\n",
    "    return train_df, test_df, small_pred"
   ]
  },
  {
   "cell_type": "markdown",
   "metadata": {},
   "source": [
    "# Models"
   ]
  },
  {
   "cell_type": "code",
   "execution_count": 7,
   "metadata": {
    "ExecuteTime": {
     "end_time": "2018-06-25T17:27:48.981504Z",
     "start_time": "2018-06-25T17:27:48.954924Z"
    }
   },
   "outputs": [],
   "source": [
    "def model_1(train_df, test_df, threshold1, threshold2, n_splits):\n",
    "    print('begin blended lightgbm')\n",
    "    # Cross validation model\n",
    "    stratified = True\n",
    "\n",
    "    if stratified:\n",
    "        folds = StratifiedKFold(n_splits, shuffle=True, random_state=1001)\n",
    "    else:\n",
    "        folds = KFold(n_splits, shuffle=True, random_state=45)\n",
    "    # Create arrays and dataframes to store results\n",
    "    oof_preds = np.zeros(train_df.shape[0])\n",
    "    sub_preds = np.zeros(test_df.shape[0])\n",
    "    feature_importance_df = pd.DataFrame()\n",
    "    feats = [f for f in train_df.columns if f not in ['TARGET','SK_ID_CURR','SK_ID_BUREAU','SK_ID_PREV','index']]\n",
    "\n",
    "    for n_fold, (train_idx, valid_idx) in enumerate(folds.split(train_df[feats], train_df['TARGET'])):\n",
    "        train_x, train_y = train_df[feats].iloc[train_idx], train_df['TARGET'].iloc[train_idx]\n",
    "        valid_x, valid_y = train_df[feats].iloc[valid_idx], train_df['TARGET'].iloc[valid_idx]\n",
    "\n",
    "        # LightGBM parameters found by Bayesian optimization\n",
    "        clf = LGBMClassifier(\n",
    "            nthread=16,\n",
    "            n_estimators=10000,\n",
    "            learning_rate=0.02,\n",
    "            num_leaves=34,\n",
    "            colsample_bytree=0.9497036,\n",
    "            subsample=0.8715623,\n",
    "            max_depth=8,\n",
    "            reg_alpha=0.041545473,\n",
    "            reg_lambda=0.0735294,\n",
    "            min_split_gain=0.0222415,\n",
    "            min_child_weight=39.3259775,\n",
    "            silent=-1,\n",
    "            verbose=-1, )\n",
    "\n",
    "        clf.fit(train_x, train_y, eval_set=[(train_x, train_y), (valid_x, valid_y)], \n",
    "            eval_metric= 'auc', verbose= 100, early_stopping_rounds= 200)\n",
    "\n",
    "        oof_preds[valid_idx] = clf.predict_proba(valid_x, num_iteration=clf.best_iteration_)[:, 1]\n",
    "        sub_preds += clf.predict_proba(test_df[feats], num_iteration=clf.best_iteration_)[:, 1] / folds.n_splits\n",
    "\n",
    "    #     fold_importance_df = pd.DataFrame()\n",
    "    #     fold_importance_df[\"feature\"] = feats\n",
    "    # #     fold_importance_df[\"importance\"] = clf.feature_importances_\n",
    "    #     fold_importance_df[\"fold\"] = n_fold + 1\n",
    "    #     feature_importance_df = pd.concat([feature_importance_df, fold_importance_df], axis=0)\n",
    "        print('Fold %2d AUC : %.6f' % (n_fold + 1, roc_auc_score(valid_y, oof_preds[valid_idx])))\n",
    "        del clf, train_x, train_y, valid_x, valid_y\n",
    "        gc.collect()\n",
    "    print('Full AUC score %.6f' % roc_auc_score(train_df['TARGET'], oof_preds))\n",
    "    \n",
    "    test_df['TARGET'] = sub_preds\n",
    "    pred =test_df[['SK_ID_CURR', 'TARGET']]\n",
    "    len_small = len(pred[pred['TARGET']< threshold1])\n",
    "    len_large = len(pred[pred['TARGET']> threshold2])\n",
    "    print('length of small and large', len_small, len_large)\n",
    "    return pred, len_small, len_large\n",
    "\n",
    "def model_2(train_df, test_df, threshold1, threshold2, n_splits):\n",
    "    print('begin cv')\n",
    "    target = train_df['TARGET']\n",
    "    ignore_cols = ['ORGANIZATION_TYPE', 'TARGET', 'SK_ID_CURR']\n",
    "    features = [x for x in train_df.columns if x not in ignore_cols]\n",
    "    train = train_df[features]\n",
    "    test = test_df[features]\n",
    "\n",
    "    from sklearn.model_selection import StratifiedKFold\n",
    "    from lightgbm import LGBMClassifier\n",
    "    from sklearn.metrics import roc_auc_score\n",
    "    import lightgbm as lgbm\n",
    "\n",
    "    lgbm_train = lgbm.Dataset(data=train,\n",
    "                              label=target,\n",
    "\n",
    "                              categorical_feature=[],#categorical_feats,\n",
    "                              free_raw_data=False)\n",
    "\n",
    "    lgbm_params = {'task': 'train', 'boosting_type': 'gbdt', 'objective': 'binary', 'metric': 'auc', \n",
    "              'learning_rate': 0.01, 'num_leaves': 48, 'num_iteration': 4000, 'verbose': 0 ,\n",
    "              'colsample_bytree':.8, 'subsample':.9, 'max_depth':7, 'reg_alpha':.1, 'reg_lambda':.1, \n",
    "              'min_split_gain':.01, 'min_child_weight':1,'num_threads': 12,'feature_fraction': 0.1,\n",
    "                  'scale_pos_weight':5}\n",
    "\n",
    "    cv_results = lgbm.cv(train_set=lgbm_train,\n",
    "                         params=lgbm_params,\n",
    "                         nfold=n_splits,\n",
    "                         early_stopping_rounds=150,\n",
    "                         verbose_eval=100,\n",
    "                         metrics=['auc'])\n",
    "\n",
    "    optimum_boost_rounds = np.argmax(cv_results['auc-mean'])\n",
    "    print('Optimum boost rounds = {}'.format(optimum_boost_rounds))\n",
    "    print('Best CV result = {}'.format(np.max(cv_results['auc-mean'])))\n",
    "\n",
    "    clf = lgbm.train(train_set=lgbm_train,\n",
    "                     params=lgbm_params,\n",
    "                     num_boost_round=optimum_boost_rounds)\n",
    "\n",
    "    \"\"\" Predict on test set and create submission \"\"\"\n",
    "    y_pred = clf.predict(test)\n",
    "    out_df = pd.DataFrame({'SK_ID_CURR': test_df['SK_ID_CURR'], 'TARGET': y_pred})\n",
    "    small_len = out_df[out_df['TARGET']< threshold1]\n",
    "    large_len = out_df[out_df['TARGET']> threshold2]\n",
    "    print('length of small and large,',len(small_len),len(large_len))\n",
    "    return out_df, small_len, large_len"
   ]
  },
  {
   "cell_type": "markdown",
   "metadata": {
    "collapsed": true
   },
   "source": [
    "# Concate back to a submission"
   ]
  },
  {
   "cell_type": "code",
   "execution_count": 6,
   "metadata": {
    "ExecuteTime": {
     "end_time": "2018-06-22T17:10:50.704670Z",
     "start_time": "2018-06-22T17:10:50.701762Z"
    }
   },
   "outputs": [],
   "source": [
    "# col = 'SK_ID_CURR'\n",
    "def concat_pred(cutout_pred, modified_pred):\n",
    "    print('begin concat predictions')\n",
    "    test_concat = pd.concat([modified_pred, cutout_pred], axis = 0)\n",
    "    print(test_concat.shape)\n",
    "    test = pd.read_csv(PATH + 'application_test.csv')\n",
    "    test = test[['SK_ID_CURR']]\n",
    "    pred = test.merge(test_concat, how = 'left', on = 'SK_ID_CURR')\n",
    "    return pred\n"
   ]
  },
  {
   "cell_type": "markdown",
   "metadata": {},
   "source": [
    "# Run"
   ]
  },
  {
   "cell_type": "code",
   "execution_count": null,
   "metadata": {
    "ExecuteTime": {
     "start_time": "2018-06-25T17:28:00.470Z"
    },
    "scrolled": true
   },
   "outputs": [
    {
     "name": "stdout",
     "output_type": "stream",
     "text": [
      "begin cv\n"
     ]
    },
    {
     "name": "stderr",
     "output_type": "stream",
     "text": [
      "/home/kai/anaconda3/lib/python3.6/site-packages/lightgbm/engine.py:390: UserWarning: Found `num_iteration` in params. Will use it instead of argument\n",
      "  warnings.warn(\"Found `{}` in params. Will use it instead of argument\".format(alias))\n",
      "/home/kai/anaconda3/lib/python3.6/site-packages/lightgbm/basic.py:1027: UserWarning: Using categorical_feature in Dataset.\n",
      "  warnings.warn('Using categorical_feature in Dataset.')\n"
     ]
    },
    {
     "name": "stdout",
     "output_type": "stream",
     "text": [
      "[100]\tcv_agg's auc: 0.746509 + 0.00385847\n",
      "[200]\tcv_agg's auc: 0.762836 + 0.00370378\n",
      "[300]\tcv_agg's auc: 0.76962 + 0.00320189\n",
      "[400]\tcv_agg's auc: 0.7755 + 0.00296549\n",
      "[500]\tcv_agg's auc: 0.779189 + 0.0028124\n",
      "[600]\tcv_agg's auc: 0.782223 + 0.00267167\n",
      "[700]\tcv_agg's auc: 0.784591 + 0.00256681\n",
      "[800]\tcv_agg's auc: 0.786434 + 0.00249302\n",
      "[900]\tcv_agg's auc: 0.787802 + 0.00244513\n",
      "[1000]\tcv_agg's auc: 0.789083 + 0.00245371\n",
      "[1100]\tcv_agg's auc: 0.790052 + 0.00244613\n",
      "[1200]\tcv_agg's auc: 0.790891 + 0.00238701\n",
      "[1300]\tcv_agg's auc: 0.791601 + 0.00232583\n",
      "[1400]\tcv_agg's auc: 0.792162 + 0.00229179\n",
      "[1500]\tcv_agg's auc: 0.792627 + 0.00228246\n",
      "[1600]\tcv_agg's auc: 0.793016 + 0.00230583\n",
      "[1700]\tcv_agg's auc: 0.793363 + 0.00223797\n",
      "[1800]\tcv_agg's auc: 0.793671 + 0.002213\n",
      "[1900]\tcv_agg's auc: 0.793838 + 0.00218774\n",
      "[2000]\tcv_agg's auc: 0.79404 + 0.00216504\n",
      "[2100]\tcv_agg's auc: 0.794232 + 0.002132\n",
      "[2200]\tcv_agg's auc: 0.794349 + 0.00208325\n",
      "[2300]\tcv_agg's auc: 0.794509 + 0.0020465\n",
      "[2400]\tcv_agg's auc: 0.794572 + 0.00207458\n",
      "[2500]\tcv_agg's auc: 0.794629 + 0.00205287\n",
      "[2600]\tcv_agg's auc: 0.794698 + 0.00205528\n",
      "[2700]\tcv_agg's auc: 0.794715 + 0.00208859\n",
      "[2800]\tcv_agg's auc: 0.794702 + 0.00206064\n",
      "Optimum boost rounds = 2686\n",
      "Best CV result = 0.794724960807216\n"
     ]
    },
    {
     "name": "stderr",
     "output_type": "stream",
     "text": [
      "/home/kai/anaconda3/lib/python3.6/site-packages/lightgbm/basic.py:1027: UserWarning: Using categorical_feature in Dataset.\n",
      "  warnings.warn('Using categorical_feature in Dataset.')\n"
     ]
    }
   ],
   "source": [
    "threshold1, threshold2 = 0.005, 0.5\n",
    "n_splits = 5\n",
    "\n",
    "pred1, small, large = model_2(train, test, threshold1, threshold2,n_splits)\n",
    "\n",
    "print('begin cutting')\n",
    "train_small, test_small, cut_small = small_new(train, test, pred1, threshold1)"
   ]
  },
  {
   "cell_type": "markdown",
   "metadata": {},
   "source": [
    "# Percentage"
   ]
  },
  {
   "cell_type": "code",
   "execution_count": null,
   "metadata": {},
   "outputs": [],
   "source": [
    "k = 30\n",
    "for i in range(k+1):\n",
    "    tmp = i/k\n",
    "    print('threshold,', tmp)\n",
    "    print((pred1[pred1['TARGET']<= tmp]).sum()/len(pred1))\n",
    "    "
   ]
  },
  {
   "cell_type": "markdown",
   "metadata": {},
   "source": [
    "# Train new with small"
   ]
  },
  {
   "cell_type": "code",
   "execution_count": 8,
   "metadata": {
    "ExecuteTime": {
     "end_time": "2018-06-25T13:45:18.538402Z",
     "start_time": "2018-06-25T13:45:18.522578Z"
    },
    "collapsed": true
   },
   "outputs": [
    {
     "name": "stdout",
     "output_type": "stream",
     "text": [
      "start modified_small\n"
     ]
    },
    {
     "ename": "NameError",
     "evalue": "name 'train_small' is not defined",
     "output_type": "error",
     "traceback": [
      "\u001b[0;31m---------------------------------------------------------------------------\u001b[0m",
      "\u001b[0;31mNameError\u001b[0m                                 Traceback (most recent call last)",
      "\u001b[0;32m<ipython-input-8-27d04b82c63f>\u001b[0m in \u001b[0;36m<module>\u001b[0;34m()\u001b[0m\n\u001b[1;32m      1\u001b[0m \u001b[0mn_splits\u001b[0m \u001b[0;34m=\u001b[0m \u001b[0;36m3\u001b[0m\u001b[0;34m\u001b[0m\u001b[0m\n\u001b[1;32m      2\u001b[0m \u001b[0mprint\u001b[0m\u001b[0;34m(\u001b[0m\u001b[0;34m'start modified_small'\u001b[0m\u001b[0;34m)\u001b[0m\u001b[0;34m\u001b[0m\u001b[0m\n\u001b[0;32m----> 3\u001b[0;31m \u001b[0mmodified_small\u001b[0m\u001b[0;34m,\u001b[0m\u001b[0m_\u001b[0m\u001b[0;34m,\u001b[0m\u001b[0m_\u001b[0m \u001b[0;34m=\u001b[0m  \u001b[0mmodel_2\u001b[0m\u001b[0;34m(\u001b[0m\u001b[0mtrain_small\u001b[0m\u001b[0;34m,\u001b[0m \u001b[0mtest_small\u001b[0m\u001b[0;34m,\u001b[0m \u001b[0mthreshold1\u001b[0m\u001b[0;34m,\u001b[0m \u001b[0mthreshold2\u001b[0m\u001b[0;34m,\u001b[0m\u001b[0mn_splits\u001b[0m\u001b[0;34m)\u001b[0m\u001b[0;34m\u001b[0m\u001b[0m\n\u001b[0m\u001b[1;32m      4\u001b[0m \u001b[0;34m\u001b[0m\u001b[0m\n\u001b[1;32m      5\u001b[0m \u001b[0mpred_small\u001b[0m \u001b[0;34m=\u001b[0m \u001b[0mconcat_pred\u001b[0m\u001b[0;34m(\u001b[0m\u001b[0mmodified_small\u001b[0m\u001b[0;34m,\u001b[0m\u001b[0mcut_small\u001b[0m\u001b[0;34m)\u001b[0m\u001b[0;34m\u001b[0m\u001b[0m\n",
      "\u001b[0;31mNameError\u001b[0m: name 'train_small' is not defined"
     ]
    }
   ],
   "source": [
    "# n_splits = 3\n",
    "print('start modified_small')\n",
    "modified_small,_,_ =  model_2(train_small, test_small, threshold1, threshold2,n_splits)\n",
    "\n",
    "pred_small = concat_pred(modified_small,cut_small)"
   ]
  },
  {
   "cell_type": "markdown",
   "metadata": {},
   "source": [
    "# Large"
   ]
  },
  {
   "cell_type": "code",
   "execution_count": null,
   "metadata": {
    "ExecuteTime": {
     "start_time": "2018-06-25T19:14:33.311Z"
    }
   },
   "outputs": [
    {
     "name": "stdout",
     "output_type": "stream",
     "text": [
      "begin cut large\n",
      "old shapes, (48744, 1793) (307511, 1794)\n",
      "length of half 3779\n"
     ]
    },
    {
     "name": "stderr",
     "output_type": "stream",
     "text": [
      "/home/kai/anaconda3/lib/python3.6/site-packages/ipykernel_launcher.py:10: SettingWithCopyWarning: \n",
      "A value is trying to be set on a copy of a slice from a DataFrame.\n",
      "Try using .loc[row_indexer,col_indexer] = value instead\n",
      "\n",
      "See the caveats in the documentation: http://pandas.pydata.org/pandas-docs/stable/indexing.html#indexing-view-versus-copy\n",
      "  # Remove the CWD from sys.path while we load stuff.\n"
     ]
    },
    {
     "name": "stdout",
     "output_type": "stream",
     "text": [
      "new shapes, (44965, 1793) (311290, 1794)\n",
      "start modified_large\n",
      "begin cv\n"
     ]
    },
    {
     "name": "stderr",
     "output_type": "stream",
     "text": [
      "/home/kai/anaconda3/lib/python3.6/site-packages/lightgbm/engine.py:390: UserWarning: Found `num_iteration` in params. Will use it instead of argument\n",
      "  warnings.warn(\"Found `{}` in params. Will use it instead of argument\".format(alias))\n",
      "/home/kai/anaconda3/lib/python3.6/site-packages/lightgbm/basic.py:1027: UserWarning: Using categorical_feature in Dataset.\n",
      "  warnings.warn('Using categorical_feature in Dataset.')\n"
     ]
    },
    {
     "name": "stdout",
     "output_type": "stream",
     "text": [
      "[100]\tcv_agg's auc: 0.778437 + 0.00384728\n",
      "[200]\tcv_agg's auc: 0.7882 + 0.00367632\n",
      "[300]\tcv_agg's auc: 0.795218 + 0.00376976\n",
      "[400]\tcv_agg's auc: 0.800156 + 0.00372864\n",
      "[500]\tcv_agg's auc: 0.803605 + 0.00380218\n",
      "[600]\tcv_agg's auc: 0.806298 + 0.00386017\n",
      "[700]\tcv_agg's auc: 0.808319 + 0.00385315\n",
      "[800]\tcv_agg's auc: 0.810175 + 0.00386175\n",
      "[900]\tcv_agg's auc: 0.811516 + 0.00387726\n",
      "[1000]\tcv_agg's auc: 0.812944 + 0.00389397\n",
      "[1100]\tcv_agg's auc: 0.813961 + 0.00395794\n",
      "[1200]\tcv_agg's auc: 0.81485 + 0.00398087\n",
      "[1300]\tcv_agg's auc: 0.815577 + 0.00401451\n",
      "[1400]\tcv_agg's auc: 0.816304 + 0.0040666\n",
      "[1500]\tcv_agg's auc: 0.816805 + 0.00410597\n",
      "[1600]\tcv_agg's auc: 0.817236 + 0.00415379\n",
      "[1700]\tcv_agg's auc: 0.817663 + 0.00421838\n",
      "[1800]\tcv_agg's auc: 0.818019 + 0.0042507\n",
      "[1900]\tcv_agg's auc: 0.818342 + 0.00424498\n",
      "[2000]\tcv_agg's auc: 0.818605 + 0.00425817\n",
      "[2100]\tcv_agg's auc: 0.818839 + 0.00428616\n",
      "[2200]\tcv_agg's auc: 0.819015 + 0.00428035\n",
      "[2300]\tcv_agg's auc: 0.81918 + 0.00425663\n",
      "[2400]\tcv_agg's auc: 0.819272 + 0.00426284\n",
      "[2500]\tcv_agg's auc: 0.819411 + 0.00426115\n"
     ]
    }
   ],
   "source": [
    "train_large, test_large, cut_large = large_new(train, test, pred1, threshold2)\n",
    "print('start modified_large')\n",
    "modified_large,_,_ =  model_2(train_large, test_large, threshold1, threshold2,n_splits)\n",
    "pred_large = concat_pred(cut_large,modified_large)"
   ]
  },
  {
   "cell_type": "code",
   "execution_count": 11,
   "metadata": {
    "ExecuteTime": {
     "end_time": "2018-06-22T20:35:24.701601Z",
     "start_time": "2018-06-22T20:35:24.687927Z"
    }
   },
   "outputs": [],
   "source": [
    "blend_sub = pd.DataFrame()\n",
    "blend_sub['SK_ID_CURR'] = pred_small['SK_ID_CURR']\n",
    "blend_sub['TARGET'] = (pred_small['TARGET']+pred_large['TARGET'])/2"
   ]
  },
  {
   "cell_type": "code",
   "execution_count": 17,
   "metadata": {
    "ExecuteTime": {
     "end_time": "2018-06-22T20:36:37.294631Z",
     "start_time": "2018-06-22T20:36:37.280368Z"
    },
    "scrolled": true
   },
   "outputs": [
    {
     "name": "stdout",
     "output_type": "stream",
     "text": [
      "   SK_ID_CURR    TARGET\n",
      "0      100001  0.036878\n",
      "247\n",
      "357\n",
      "   SK_ID_CURR    TARGET\n",
      "0      100001  0.036896\n",
      "213\n",
      "382\n",
      "   SK_ID_CURR   TARGET\n",
      "0      100001  0.03686\n",
      "297\n",
      "337\n",
      "   SK_ID_CURR    TARGET\n",
      "0      100001  0.036144\n",
      "222\n",
      "362\n"
     ]
    }
   ],
   "source": [
    "for i in [blend_sub, pred_small, pred_large,pred1]:\n",
    "    print(i.head(1))\n",
    "    print((i['TARGET']>0.5).sum())\n",
    "    print((i['TARGET']<0.005).sum())"
   ]
  },
  {
   "cell_type": "code",
   "execution_count": 20,
   "metadata": {
    "ExecuteTime": {
     "end_time": "2018-06-22T20:40:02.332006Z",
     "start_time": "2018-06-22T20:40:02.215243Z"
    }
   },
   "outputs": [],
   "source": [
    "blend_sub.to_csv(PATH+ 'submission/0622_blend_2.csv', index = False)"
   ]
  },
  {
   "cell_type": "code",
   "execution_count": 21,
   "metadata": {
    "ExecuteTime": {
     "end_time": "2018-06-22T20:42:20.498380Z",
     "start_time": "2018-06-22T20:42:20.345284Z"
    }
   },
   "outputs": [],
   "source": [
    "pred_large.to_csv(PATH+ 'submission/0622_blend_3.csv', index = False)"
   ]
  },
  {
   "cell_type": "code",
   "execution_count": null,
   "metadata": {},
   "outputs": [],
   "source": []
  }
 ],
 "metadata": {
  "kernelspec": {
   "display_name": "Python 3",
   "language": "python",
   "name": "python3"
  },
  "varInspector": {
   "cols": {
    "lenName": 16,
    "lenType": 16,
    "lenVar": 40
   },
   "kernels_config": {
    "python": {
     "delete_cmd_postfix": "",
     "delete_cmd_prefix": "del ",
     "library": "var_list.py",
     "varRefreshCmd": "print(var_dic_list())"
    },
    "r": {
     "delete_cmd_postfix": ") ",
     "delete_cmd_prefix": "rm(",
     "library": "var_list.r",
     "varRefreshCmd": "cat(var_dic_list()) "
    }
   },
   "types_to_exclude": [
    "module",
    "function",
    "builtin_function_or_method",
    "instance",
    "_Feature"
   ],
   "window_display": false
  }
 },
 "nbformat": 4,
 "nbformat_minor": 2
}
