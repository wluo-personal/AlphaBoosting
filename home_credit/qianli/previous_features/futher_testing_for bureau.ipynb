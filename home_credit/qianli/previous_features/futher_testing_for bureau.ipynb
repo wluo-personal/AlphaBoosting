{
 "cells": [
  {
   "cell_type": "code",
   "execution_count": 1,
   "metadata": {
    "ExecuteTime": {
     "end_time": "2018-06-28T14:19:03.073274Z",
     "start_time": "2018-06-28T14:19:02.896949Z"
    }
   },
   "outputs": [],
   "source": [
    "# Further data analysis\n",
    "import pandas as pd\n",
    "\n",
    "PATH = '/home/kai/data/kaggle/homecredit/'"
   ]
  },
  {
   "cell_type": "code",
   "execution_count": 2,
   "metadata": {
    "ExecuteTime": {
     "end_time": "2018-06-28T14:19:05.735920Z",
     "start_time": "2018-06-28T14:19:03.669367Z"
    }
   },
   "outputs": [
    {
     "name": "stdout",
     "output_type": "stream",
     "text": [
      "bureau\n"
     ]
    }
   ],
   "source": [
    "import pandas as pd\n",
    "import numpy as np\n",
    "\n",
    "PATH = '/home/kai/data/kaggle/homecredit/'\n",
    "# train = pd.read_csv(PATH + 'application_train.csv')\n",
    "# print('train')\n",
    "# test = pd.read_csv(PATH + 'application_test.csv')\n",
    "# print('test')\n",
    "bureau = pd.read_csv(PATH + 'bureau.csv')\n",
    "print('bureau')\n",
    "# previous_application = pd.read_csv(PATH + 'previous_application.csv')\n",
    "# print('previous')\n",
    "# bureau_balance = pd.read_csv(PATH + 'bureau_balance.csv')\n",
    "# print('bureau_balance')\n",
    "# installments_payments = pd.read_csv(PATH + 'installments_payments.csv')\n",
    "# print('installments_payments done')\n",
    "# credit_card_balance = pd.read_csv(PATH + 'credit_card_balance.csv')\n",
    "# # print('credit_card_balance')\n",
    "# POS_CASH_balance = pd.read_csv(PATH + 'POS_CASH_balance.csv')\n",
    "# print('POS_CASH_balance')\n",
    "# credit_card_balance = pd.read_csv(PATH + 'credit_card_balance.csv')\n",
    "# print('credit_card_balance')\n",
    "# previous_application = pd.read_csv(PATH + 'previous_application.csv')\n",
    "# print('previous_application')"
   ]
  },
  {
   "cell_type": "code",
   "execution_count": 3,
   "metadata": {
    "ExecuteTime": {
     "end_time": "2018-06-28T14:07:23.400600Z",
     "start_time": "2018-06-28T14:07:22.505849Z"
    }
   },
   "outputs": [
    {
     "name": "stdout",
     "output_type": "stream",
     "text": [
      "(307511, 2)\n"
     ]
    }
   ],
   "source": [
    "train = pd.read_pickle(PATH+'inter/train_only_0.pkl')\n",
    "train_target = train[['TARGET','SK_ID_CURR']]\n",
    "print(train_target.shape)"
   ]
  },
  {
   "cell_type": "code",
   "execution_count": 5,
   "metadata": {
    "ExecuteTime": {
     "end_time": "2018-06-28T14:08:02.204810Z",
     "start_time": "2018-06-28T14:08:00.873152Z"
    }
   },
   "outputs": [
    {
     "name": "stdout",
     "output_type": "stream",
     "text": [
      "(356255, 348)\n"
     ]
    }
   ],
   "source": [
    "df = pd.read_pickle(PATH+'inter/06_27_bureau2curr.pkl')\n",
    "df = df.merge(train_target, on = 'SK_ID_CURR', how = 'left' )\n",
    "print(df.shape)"
   ]
  },
  {
   "cell_type": "code",
   "execution_count": 7,
   "metadata": {
    "ExecuteTime": {
     "end_time": "2018-06-28T14:10:00.982640Z",
     "start_time": "2018-06-28T14:09:59.271221Z"
    }
   },
   "outputs": [],
   "source": [
    "train = pd.read_pickle(PATH+'inter/train_only_0.pkl')\n",
    "train_target = train[['TARGET','SK_ID_CURR']]\n",
    "print(train_target.shape)\n",
    "bureau = bureau.merge(train_target, on = 'SK_ID_CURR', how = 'left')"
   ]
  },
  {
   "cell_type": "code",
   "execution_count": 8,
   "metadata": {
    "ExecuteTime": {
     "end_time": "2018-06-28T14:10:03.205032Z",
     "start_time": "2018-06-28T14:10:03.172077Z"
    },
    "collapsed": true
   },
   "outputs": [
    {
     "data": {
      "text/html": [
       "<div>\n",
       "<style scoped>\n",
       "    .dataframe tbody tr th:only-of-type {\n",
       "        vertical-align: middle;\n",
       "    }\n",
       "\n",
       "    .dataframe tbody tr th {\n",
       "        vertical-align: top;\n",
       "    }\n",
       "\n",
       "    .dataframe thead th {\n",
       "        text-align: right;\n",
       "    }\n",
       "</style>\n",
       "<table border=\"1\" class=\"dataframe\">\n",
       "  <thead>\n",
       "    <tr style=\"text-align: right;\">\n",
       "      <th></th>\n",
       "      <th>SK_ID_CURR</th>\n",
       "      <th>SK_ID_BUREAU</th>\n",
       "      <th>CREDIT_ACTIVE</th>\n",
       "      <th>CREDIT_CURRENCY</th>\n",
       "      <th>DAYS_CREDIT</th>\n",
       "      <th>CREDIT_DAY_OVERDUE</th>\n",
       "      <th>DAYS_CREDIT_ENDDATE</th>\n",
       "      <th>DAYS_ENDDATE_FACT</th>\n",
       "      <th>AMT_CREDIT_MAX_OVERDUE</th>\n",
       "      <th>CNT_CREDIT_PROLONG</th>\n",
       "      <th>AMT_CREDIT_SUM</th>\n",
       "      <th>AMT_CREDIT_SUM_DEBT</th>\n",
       "      <th>AMT_CREDIT_SUM_LIMIT</th>\n",
       "      <th>AMT_CREDIT_SUM_OVERDUE</th>\n",
       "      <th>CREDIT_TYPE</th>\n",
       "      <th>DAYS_CREDIT_UPDATE</th>\n",
       "      <th>AMT_ANNUITY</th>\n",
       "      <th>TARGET</th>\n",
       "    </tr>\n",
       "  </thead>\n",
       "  <tbody>\n",
       "    <tr>\n",
       "      <th>0</th>\n",
       "      <td>215354</td>\n",
       "      <td>5714462</td>\n",
       "      <td>Closed</td>\n",
       "      <td>currency 1</td>\n",
       "      <td>-497</td>\n",
       "      <td>0</td>\n",
       "      <td>-153.0</td>\n",
       "      <td>-153.0</td>\n",
       "      <td>NaN</td>\n",
       "      <td>0</td>\n",
       "      <td>91323.0</td>\n",
       "      <td>0.0</td>\n",
       "      <td>NaN</td>\n",
       "      <td>0.0</td>\n",
       "      <td>Consumer credit</td>\n",
       "      <td>-131</td>\n",
       "      <td>NaN</td>\n",
       "      <td>0.0</td>\n",
       "    </tr>\n",
       "    <tr>\n",
       "      <th>1</th>\n",
       "      <td>215354</td>\n",
       "      <td>5714463</td>\n",
       "      <td>Active</td>\n",
       "      <td>currency 1</td>\n",
       "      <td>-208</td>\n",
       "      <td>0</td>\n",
       "      <td>1075.0</td>\n",
       "      <td>NaN</td>\n",
       "      <td>NaN</td>\n",
       "      <td>0</td>\n",
       "      <td>225000.0</td>\n",
       "      <td>171342.0</td>\n",
       "      <td>NaN</td>\n",
       "      <td>0.0</td>\n",
       "      <td>Credit card</td>\n",
       "      <td>-20</td>\n",
       "      <td>NaN</td>\n",
       "      <td>0.0</td>\n",
       "    </tr>\n",
       "    <tr>\n",
       "      <th>2</th>\n",
       "      <td>215354</td>\n",
       "      <td>5714464</td>\n",
       "      <td>Active</td>\n",
       "      <td>currency 1</td>\n",
       "      <td>-203</td>\n",
       "      <td>0</td>\n",
       "      <td>528.0</td>\n",
       "      <td>NaN</td>\n",
       "      <td>NaN</td>\n",
       "      <td>0</td>\n",
       "      <td>464323.5</td>\n",
       "      <td>NaN</td>\n",
       "      <td>NaN</td>\n",
       "      <td>0.0</td>\n",
       "      <td>Consumer credit</td>\n",
       "      <td>-16</td>\n",
       "      <td>NaN</td>\n",
       "      <td>0.0</td>\n",
       "    </tr>\n",
       "    <tr>\n",
       "      <th>3</th>\n",
       "      <td>215354</td>\n",
       "      <td>5714465</td>\n",
       "      <td>Active</td>\n",
       "      <td>currency 1</td>\n",
       "      <td>-203</td>\n",
       "      <td>0</td>\n",
       "      <td>NaN</td>\n",
       "      <td>NaN</td>\n",
       "      <td>NaN</td>\n",
       "      <td>0</td>\n",
       "      <td>90000.0</td>\n",
       "      <td>NaN</td>\n",
       "      <td>NaN</td>\n",
       "      <td>0.0</td>\n",
       "      <td>Credit card</td>\n",
       "      <td>-16</td>\n",
       "      <td>NaN</td>\n",
       "      <td>0.0</td>\n",
       "    </tr>\n",
       "    <tr>\n",
       "      <th>4</th>\n",
       "      <td>215354</td>\n",
       "      <td>5714466</td>\n",
       "      <td>Active</td>\n",
       "      <td>currency 1</td>\n",
       "      <td>-629</td>\n",
       "      <td>0</td>\n",
       "      <td>1197.0</td>\n",
       "      <td>NaN</td>\n",
       "      <td>77674.5</td>\n",
       "      <td>0</td>\n",
       "      <td>2700000.0</td>\n",
       "      <td>NaN</td>\n",
       "      <td>NaN</td>\n",
       "      <td>0.0</td>\n",
       "      <td>Consumer credit</td>\n",
       "      <td>-21</td>\n",
       "      <td>NaN</td>\n",
       "      <td>0.0</td>\n",
       "    </tr>\n",
       "  </tbody>\n",
       "</table>\n",
       "</div>"
      ],
      "text/plain": [
       "   SK_ID_CURR  SK_ID_BUREAU CREDIT_ACTIVE CREDIT_CURRENCY  DAYS_CREDIT  \\\n",
       "0      215354       5714462        Closed      currency 1         -497   \n",
       "1      215354       5714463        Active      currency 1         -208   \n",
       "2      215354       5714464        Active      currency 1         -203   \n",
       "3      215354       5714465        Active      currency 1         -203   \n",
       "4      215354       5714466        Active      currency 1         -629   \n",
       "\n",
       "   CREDIT_DAY_OVERDUE  DAYS_CREDIT_ENDDATE  DAYS_ENDDATE_FACT  \\\n",
       "0                   0               -153.0             -153.0   \n",
       "1                   0               1075.0                NaN   \n",
       "2                   0                528.0                NaN   \n",
       "3                   0                  NaN                NaN   \n",
       "4                   0               1197.0                NaN   \n",
       "\n",
       "   AMT_CREDIT_MAX_OVERDUE  CNT_CREDIT_PROLONG  AMT_CREDIT_SUM  \\\n",
       "0                     NaN                   0         91323.0   \n",
       "1                     NaN                   0        225000.0   \n",
       "2                     NaN                   0        464323.5   \n",
       "3                     NaN                   0         90000.0   \n",
       "4                 77674.5                   0       2700000.0   \n",
       "\n",
       "   AMT_CREDIT_SUM_DEBT  AMT_CREDIT_SUM_LIMIT  AMT_CREDIT_SUM_OVERDUE  \\\n",
       "0                  0.0                   NaN                     0.0   \n",
       "1             171342.0                   NaN                     0.0   \n",
       "2                  NaN                   NaN                     0.0   \n",
       "3                  NaN                   NaN                     0.0   \n",
       "4                  NaN                   NaN                     0.0   \n",
       "\n",
       "       CREDIT_TYPE  DAYS_CREDIT_UPDATE  AMT_ANNUITY  TARGET  \n",
       "0  Consumer credit                -131          NaN     0.0  \n",
       "1      Credit card                 -20          NaN     0.0  \n",
       "2  Consumer credit                 -16          NaN     0.0  \n",
       "3      Credit card                 -16          NaN     0.0  \n",
       "4  Consumer credit                 -21          NaN     0.0  "
      ]
     },
     "execution_count": 8,
     "metadata": {},
     "output_type": "execute_result"
    }
   ],
   "source": [
    "bureau.head()"
   ]
  },
  {
   "cell_type": "code",
   "execution_count": 9,
   "metadata": {
    "ExecuteTime": {
     "end_time": "2018-06-28T14:10:21.728858Z",
     "start_time": "2018-06-28T14:10:21.724260Z"
    }
   },
   "outputs": [
    {
     "data": {
      "text/plain": [
       "Index(['SK_ID_CURR', 'SK_ID_BUREAU', 'CREDIT_ACTIVE', 'CREDIT_CURRENCY',\n",
       "       'DAYS_CREDIT', 'CREDIT_DAY_OVERDUE', 'DAYS_CREDIT_ENDDATE',\n",
       "       'DAYS_ENDDATE_FACT', 'AMT_CREDIT_MAX_OVERDUE', 'CNT_CREDIT_PROLONG',\n",
       "       'AMT_CREDIT_SUM', 'AMT_CREDIT_SUM_DEBT', 'AMT_CREDIT_SUM_LIMIT',\n",
       "       'AMT_CREDIT_SUM_OVERDUE', 'CREDIT_TYPE', 'DAYS_CREDIT_UPDATE',\n",
       "       'AMT_ANNUITY', 'TARGET'],\n",
       "      dtype='object')"
      ]
     },
     "execution_count": 9,
     "metadata": {},
     "output_type": "execute_result"
    }
   ],
   "source": [
    "bureau.columns"
   ]
  },
  {
   "cell_type": "code",
   "execution_count": 12,
   "metadata": {
    "ExecuteTime": {
     "end_time": "2018-06-28T15:10:23.629744Z",
     "start_time": "2018-06-28T15:10:21.752813Z"
    }
   },
   "outputs": [
    {
     "name": "stdout",
     "output_type": "stream",
     "text": [
      "Consumer credit 0.6989696122947957\n",
      "Consumer credit 0.7325735394820125\n",
      "Cash loan (non-earmarked) 8.732099196646874e-06\n",
      "Cash loan (non-earmarked) 1.6286584666180538e-05\n",
      "Loan for purchase of shares (margin lending) 0.0\n",
      "Loan for purchase of shares (margin lending) 2.961197212032825e-06\n",
      "Another type of loan 0.0005326580509954594\n",
      "Another type of loan 0.0005870573472855075\n",
      "Real estate loan 0.0\n",
      "Real estate loan 1.7026883969188744e-05\n",
      "Unknown type of loan 0.00025323087670275934\n",
      "Unknown type of loan 0.00032795259123263534\n",
      "Credit card 0.2642507858889277\n",
      "Credit card 0.2321511987296464\n",
      "Car loan 0.011561299336360461\n",
      "Car loan 0.01660713426438309\n",
      "Interbank credit 0.0\n",
      "Interbank credit 7.402993030082062e-07\n",
      "Loan for business development 0.0009256025148445686\n",
      "Loan for business development 0.001195583374358253\n",
      "Mortgage 0.006811037373384562\n",
      "Mortgage 0.010976417765702674\n",
      "Loan for working capital replenishment 0.00041914076143904997\n",
      "Loan for working capital replenishment 0.00024355847068969984\n",
      "Mobile operator loan 0.0\n",
      "Mobile operator loan 7.402993030082062e-07\n",
      "Loan for the purchase of equipment 3.4928396786587495e-05\n",
      "Loan for the purchase of equipment 9.623890939106681e-06\n",
      "Microloan 0.01623297240656654\n",
      "Microloan 0.005290178819296641\n"
     ]
    }
   ],
   "source": [
    "bureau_1 = bureau[bureau['TARGET'] == 1]\n",
    "bureau_0 = bureau[bureau['TARGET'] == 0]\n",
    "\n",
    "x = set(bureau['CREDIT_ACTIVE'])\n",
    "x = set(bureau['CREDIT_TYPE'])\n",
    "for i in x:\n",
    "    print(i, (bureau_1['CREDIT_TYPE'] == i).sum()/len(bureau_1) )\n",
    "    print(i, (bureau_0['CREDIT_TYPE'] == i).sum()/len(bureau_0) )   \n",
    "    \n",
    "     \n"
   ]
  },
  {
   "cell_type": "markdown",
   "metadata": {},
   "source": [
    "# Corr"
   ]
  },
  {
   "cell_type": "code",
   "execution_count": 4,
   "metadata": {
    "ExecuteTime": {
     "end_time": "2018-06-28T14:19:41.001889Z",
     "start_time": "2018-06-28T14:19:39.258228Z"
    },
    "scrolled": true
   },
   "outputs": [
    {
     "name": "stdout",
     "output_type": "stream",
     "text": [
      "(307511, 2)\n"
     ]
    }
   ],
   "source": [
    "train = pd.read_pickle(PATH+'inter/train_only_0.pkl')\n",
    "train_target = train[['TARGET','SK_ID_CURR']]\n",
    "print(train_target.shape)\n",
    "bureau = bureau.merge(train_target, on = 'SK_ID_CURR', how = 'left')\n",
    "bureau_1 = bureau[bureau['TARGET'] == 1]"
   ]
  },
  {
   "cell_type": "code",
   "execution_count": 5,
   "metadata": {
    "ExecuteTime": {
     "end_time": "2018-06-28T14:19:55.337155Z",
     "start_time": "2018-06-28T14:19:55.286298Z"
    }
   },
   "outputs": [
    {
     "name": "stdout",
     "output_type": "stream",
     "text": [
      "(114520, 18)\n",
      "1.2636880165289257\n"
     ]
    }
   ],
   "source": [
    "\n",
    "bureau_1 = bureau[bureau['TARGET'] == 1]\n",
    "print(bureau_1.shape)\n",
    "\n",
    "# bureau.shape\n",
    "# slightly drop of pct of closed\n",
    "closed_1 = (bureau_1['CREDIT_ACTIVE'] == 'Closed')\n",
    "active_1 = (bureau_1['CREDIT_ACTIVE'] == 'Active')\n",
    "print(closed_1.sum()/active_1.sum())"
   ]
  },
  {
   "cell_type": "code",
   "execution_count": 25,
   "metadata": {
    "ExecuteTime": {
     "end_time": "2018-06-28T14:16:56.719794Z",
     "start_time": "2018-06-28T14:16:56.709937Z"
    }
   },
   "outputs": [],
   "source": [
    "bureau_closed_1 = bureau.loc[active]\n",
    "bureau_opened_1 = bureau.loc[closed]"
   ]
  },
  {
   "cell_type": "code",
   "execution_count": 6,
   "metadata": {
    "ExecuteTime": {
     "end_time": "2018-06-28T14:20:24.330197Z",
     "start_time": "2018-06-28T14:20:24.045037Z"
    }
   },
   "outputs": [
    {
     "name": "stdout",
     "output_type": "stream",
     "text": [
      "(1350805, 18)\n",
      "1.7374970249174606\n"
     ]
    }
   ],
   "source": [
    "\n",
    "bureau_0 = bureau[bureau['TARGET'] == 0]\n",
    "print(bureau_0.shape)\n",
    "\n",
    "# bureau.shape\n",
    "# slightly drop of pct of closed\n",
    "closed_0 = (bureau_0['CREDIT_ACTIVE'] == 'Closed')\n",
    "active_0 = (bureau_0['CREDIT_ACTIVE'] == 'Active')\n",
    "print(closed_0.sum()/active_0.sum())"
   ]
  },
  {
   "cell_type": "code",
   "execution_count": null,
   "metadata": {},
   "outputs": [],
   "source": []
  }
 ],
 "metadata": {
  "kernelspec": {
   "display_name": "Python 3",
   "language": "python",
   "name": "python3"
  },
  "language_info": {
   "codemirror_mode": {
    "name": "ipython",
    "version": 3
   },
   "file_extension": ".py",
   "mimetype": "text/x-python",
   "name": "python",
   "nbconvert_exporter": "python",
   "pygments_lexer": "ipython3",
   "version": "3.6.5"
  },
  "varInspector": {
   "cols": {
    "lenName": 16,
    "lenType": 16,
    "lenVar": 40
   },
   "kernels_config": {
    "python": {
     "delete_cmd_postfix": "",
     "delete_cmd_prefix": "del ",
     "library": "var_list.py",
     "varRefreshCmd": "print(var_dic_list())"
    },
    "r": {
     "delete_cmd_postfix": ") ",
     "delete_cmd_prefix": "rm(",
     "library": "var_list.r",
     "varRefreshCmd": "cat(var_dic_list()) "
    }
   },
   "types_to_exclude": [
    "module",
    "function",
    "builtin_function_or_method",
    "instance",
    "_Feature"
   ],
   "window_display": false
  }
 },
 "nbformat": 4,
 "nbformat_minor": 2
}
