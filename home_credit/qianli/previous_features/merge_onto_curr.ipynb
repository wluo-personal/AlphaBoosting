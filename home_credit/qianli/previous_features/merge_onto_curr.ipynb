{
 "cells": [
  {
   "cell_type": "code",
   "execution_count": 5,
   "metadata": {
    "ExecuteTime": {
     "end_time": "2018-06-19T19:10:20.043193Z",
     "start_time": "2018-06-19T19:10:16.692096Z"
    }
   },
   "outputs": [
    {
     "name": "stdout",
     "output_type": "stream",
     "text": [
      "done\n"
     ]
    }
   ],
   "source": [
    "import pandas as pd\n",
    "import numpy as np\n",
    "\n",
    "PATH = '/home/kai/data/kaggle/homecredit/'\n",
    "\n",
    "train = pd.read_csv(PATH + 'application_train.csv')\n",
    "test = pd.read_csv(PATH + 'application_test.csv')\n",
    "print('done')"
   ]
  },
  {
   "cell_type": "code",
   "execution_count": 6,
   "metadata": {
    "ExecuteTime": {
     "end_time": "2018-06-19T19:11:02.570223Z",
     "start_time": "2018-06-19T19:10:24.540067Z"
    }
   },
   "outputs": [
    {
     "name": "stdout",
     "output_type": "stream",
     "text": [
      "bureau\n",
      "bureau_balance\n",
      "installments_payments done\n",
      "credit_card_balance\n",
      "POS_CASH_balance\n",
      "credit_card_balance\n",
      "previous_application\n"
     ]
    }
   ],
   "source": [
    "bureau = pd.read_csv(PATH + 'bureau.csv')\n",
    "print('bureau')\n",
    "bureau_balance = pd.read_csv(PATH + 'bureau_balance.csv')\n",
    "print('bureau_balance')\n",
    "installments_payments = pd.read_csv(PATH + 'installments_payments.csv')\n",
    "print('installments_payments done')\n",
    "credit_card_balance = pd.read_csv(PATH + 'credit_card_balance.csv')\n",
    "print('credit_card_balance')\n",
    "POS_CASH_balance = pd.read_csv(PATH + 'POS_CASH_balance.csv')\n",
    "print('POS_CASH_balance')\n",
    "credit_card_balance = pd.read_csv(PATH + 'credit_card_balance.csv')\n",
    "print('credit_card_balance')\n",
    "previous_application = pd.read_csv(PATH + 'previous_application.csv')\n",
    "print('previous_application')"
   ]
  },
  {
   "cell_type": "markdown",
   "metadata": {},
   "source": [
    "# Functions"
   ]
  },
  {
   "cell_type": "code",
   "execution_count": 7,
   "metadata": {
    "ExecuteTime": {
     "end_time": "2018-06-19T19:11:16.709147Z",
     "start_time": "2018-06-19T19:11:16.694502Z"
    },
    "collapsed": true
   },
   "outputs": [],
   "source": [
    "import pandas as pd\n",
    "import os\n",
    "import gc\n",
    "import numpy as np\n",
    "\n",
    "def ratio_name(numerator, denominator): return numerator + '_divide_' + denominator\n",
    "\n",
    "def ratio(df, numerator, denominator):\n",
    "    return df[numerator] / df[denominator]\n",
    "\n",
    "def substraction_name(col1, col2): return col1 + '_minus_' + col2\n",
    "\n",
    "def substraction(df, col1, col2):\n",
    "    return df[col1] - df[col2]"
   ]
  },
  {
   "cell_type": "code",
   "execution_count": 8,
   "metadata": {
    "ExecuteTime": {
     "end_time": "2018-06-19T19:11:18.639032Z",
     "start_time": "2018-06-19T19:11:18.553795Z"
    },
    "collapsed": true
   },
   "outputs": [],
   "source": [
    "def numerical_agg(df, gp_col, agg_col, df_name, extrafunc_list = None):\n",
    "    \n",
    "    agg_list = ['max', 'min', 'std','mean']\n",
    "    '''\n",
    "    Possible extrafunc_list: ['sum','median','two_minus_one_third','positive_count', 'negative_count','standard_error', 'trimmed_mean_10_pct', 'trimmed_mean_25_pct','normed_std', 'max_minus_min','one_third','two_third']\n",
    "    '''\n",
    "    if extrafunc_list:\n",
    "        if 'one_third' in extrafunc_list:\n",
    "            def one_third(series):\n",
    "                return series.quantile(1/3)\n",
    "            \n",
    "        if 'two_third' in extrafunc_list:\n",
    "            def two_third(series):\n",
    "                return series.quantile(2/3)\n",
    "            \n",
    "        if 'max_minus_min' in extrafunc_list:\n",
    "            def max_minus_min(series):\n",
    "                return (series.max() - series.min())\n",
    "        \n",
    "        if 'two_minus_one_third' in extrafunc_list:\n",
    "#             print('two_minus_one')\n",
    "#             print('get two minus one')\n",
    "            def two_minus_one_third(series):\n",
    "                return(series.quantile(0.66666) - series.quantile(0.33333))\n",
    "       \n",
    "        if 'positive_count' in extrafunc_list:\n",
    "#             print('get positive count')\n",
    "            def positive_count(series):\n",
    "                return pd.Series(series > 0).sum()\n",
    "\n",
    "        if 'negative_count' in extrafunc_list:\n",
    "#             print('get negative count')\n",
    "            def negative_count(series):\n",
    "                return pd.Series(series < 0).sum()\n",
    "\n",
    "        if 'standard_error' in extrafunc_list:\n",
    "#             print('get std-error')\n",
    "            def standard_error(series):\n",
    "                return series.std()/np.sqrt(len(series))\n",
    "\n",
    "        if 'normed_std' in extrafunc_list:\n",
    "#             print('get normed_std')\n",
    "            def normed_std(series):\n",
    "                return series.std()/series.mean()\n",
    "\n",
    "        if 'trimmed_mean_10_pct' in extrafunc_list:\n",
    "#             print('get_trimmed 10 pct')\n",
    "            def trimmed_mean_10_pct(series):\n",
    "                return stats.trim_mean(series.dropna(), 0.1)\n",
    "\n",
    "        if 'trimmed_mean_25_pct' in extrafunc_list:\n",
    "#             print('get_trimmed 25 pct')\n",
    "            def trimmed_mean_25_pct(series):\n",
    "                return stats.trim_mean(series.dropna(), 0.25)\n",
    "        \n",
    "        list_tocall = []\n",
    "        for i in extrafunc_list:\n",
    "            if i not in set(['sum', 'median']):\n",
    "                list_tocall.append(eval(i))\n",
    "            \n",
    "    if extrafunc_list != None:   \n",
    "        agg_list.extend(list_tocall)\n",
    "    \n",
    "    _df = df.groupby(gp_col).agg({agg_col:agg_list})\n",
    "    columns = []\n",
    "    for pre in _df.columns.levels[0]:\n",
    "        for middle in _df.columns.levels[1]:\n",
    "            columns.append('%s_%s_%s' %(df_name,pre,middle))\n",
    "    _df.columns = columns\n",
    "    \n",
    "    return _df.reset_index()"
   ]
  },
  {
   "cell_type": "markdown",
   "metadata": {},
   "source": [
    "# Install"
   ]
  },
  {
   "cell_type": "code",
   "execution_count": 9,
   "metadata": {
    "ExecuteTime": {
     "end_time": "2018-06-19T19:11:20.876349Z",
     "start_time": "2018-06-19T19:11:20.385748Z"
    },
    "collapsed": true
   },
   "outputs": [],
   "source": [
    "install = installments_payments.copy()"
   ]
  },
  {
   "cell_type": "code",
   "execution_count": 10,
   "metadata": {
    "ExecuteTime": {
     "end_time": "2018-06-19T19:11:25.379193Z",
     "start_time": "2018-06-19T19:11:22.549759Z"
    }
   },
   "outputs": [
    {
     "name": "stderr",
     "output_type": "stream",
     "text": [
      "/home/kai/anaconda3/lib/python3.6/site-packages/ipykernel_launcher.py:9: SettingWithCopyWarning: \n",
      "A value is trying to be set on a copy of a slice from a DataFrame\n",
      "\n",
      "See the caveats in the documentation: http://pandas.pydata.org/pandas-docs/stable/indexing.html#indexing-view-versus-copy\n",
      "  if __name__ == '__main__':\n"
     ]
    }
   ],
   "source": [
    "install[substraction_name('DAYS_INSTALMENT', 'DAYS_ENTRY_PAYMENT')] =\\\n",
    "substraction(install, 'DAYS_INSTALMENT' ,'DAYS_ENTRY_PAYMENT')\n",
    "\n",
    "install[substraction_name('AMT_PAYMENT', 'AMT_INSTALMENT')] = \\\n",
    "substraction(install, 'AMT_PAYMENT' ,'AMT_INSTALMENT')\n",
    "\n",
    "install[ratio_name('AMT_PAYMENT', 'AMT_INSTALMENT')] = \\\n",
    "ratio(install, 'AMT_PAYMENT' ,'AMT_INSTALMENT')\n",
    "\n",
    "install['late_days'] = 0\n",
    "x = install['DAYS_INSTALMENT_minus_DAYS_ENTRY_PAYMENT'] < 0\n",
    "install['late_days'][x] = install['DAYS_INSTALMENT_minus_DAYS_ENTRY_PAYMENT'][x]"
   ]
  },
  {
   "cell_type": "markdown",
   "metadata": {},
   "source": [
    "# Install Score"
   ]
  },
  {
   "cell_type": "code",
   "execution_count": 11,
   "metadata": {
    "ExecuteTime": {
     "end_time": "2018-06-19T19:11:26.772019Z",
     "start_time": "2018-06-19T19:11:26.496458Z"
    },
    "collapsed": true
   },
   "outputs": [],
   "source": [
    "install['score'] = (install['AMT_PAYMENT_divide_AMT_INSTALMENT']*(-20) + 21)\\\n",
    "* np.exp((install['late_days'])**3/100)* (1/(1 + abs(install['DAYS_ENTRY_PAYMENT']/30) ))"
   ]
  },
  {
   "cell_type": "code",
   "execution_count": 12,
   "metadata": {
    "ExecuteTime": {
     "end_time": "2018-06-19T19:11:28.033043Z",
     "start_time": "2018-06-19T19:11:28.025864Z"
    }
   },
   "outputs": [
    {
     "data": {
      "text/plain": [
       "array(['SK_ID_PREV', 'SK_ID_CURR', 'NUM_INSTALMENT_VERSION',\n",
       "       'NUM_INSTALMENT_NUMBER', 'DAYS_INSTALMENT', 'DAYS_ENTRY_PAYMENT',\n",
       "       'AMT_INSTALMENT', 'AMT_PAYMENT',\n",
       "       'DAYS_INSTALMENT_minus_DAYS_ENTRY_PAYMENT',\n",
       "       'AMT_PAYMENT_minus_AMT_INSTALMENT',\n",
       "       'AMT_PAYMENT_divide_AMT_INSTALMENT', 'late_days', 'score'], dtype=object)"
      ]
     },
     "execution_count": 12,
     "metadata": {},
     "output_type": "execute_result"
    }
   ],
   "source": [
    "install.columns.values"
   ]
  },
  {
   "cell_type": "code",
   "execution_count": 13,
   "metadata": {
    "ExecuteTime": {
     "end_time": "2018-06-19T19:14:43.712825Z",
     "start_time": "2018-06-19T19:11:29.248502Z"
    }
   },
   "outputs": [
    {
     "name": "stdout",
     "output_type": "stream",
     "text": [
      "DAYS_INSTALMENT_minus_DAYS_ENTRY_PAYMENT\n",
      "AMT_PAYMENT_minus_AMT_INSTALMENT\n",
      "AMT_PAYMENT_divide_AMT_INSTALMENT\n",
      "AMT_INSTALMENT\n",
      "DAYS_ENTRY_PAYMENT\n",
      "AMT_PAYMENT\n",
      "late_days\n",
      "DAYS_INSTALMENT\n",
      "score\n"
     ]
    }
   ],
   "source": [
    "gp_col = 'SK_ID_CURR'\n",
    "agg_col = ['DAYS_INSTALMENT_minus_DAYS_ENTRY_PAYMENT',\n",
    "          'AMT_PAYMENT_minus_AMT_INSTALMENT',\n",
    "           'AMT_PAYMENT_divide_AMT_INSTALMENT',\n",
    "          'AMT_INSTALMENT',\n",
    "          'DAYS_ENTRY_PAYMENT',\n",
    "          'AMT_PAYMENT',\n",
    "          'late_days','DAYS_INSTALMENT','score']\n",
    "\n",
    "'''\n",
    "    Possible extrafunc_list: ['sum','median','two_minus_one_third','positive_count', 'negative_count','standard_error', 'trimmed_mean_10_pct', 'trimmed_mean_25_pct','normed_std', 'max_minus_min','one_third','two_third']\n",
    "    '''\n",
    "extrafunc_list = [['negative_count'],['negative_count'],None,None,None,None,None,None,None]\n",
    "for i in range(len(extrafunc_list)):\n",
    "    print(agg_col[i])\n",
    "    train = train.merge(numerical_agg(install, gp_col, agg_col[i], 'installments',extrafunc_list = extrafunc_list[i]),\\\n",
    "                       on = 'SK_ID_CURR', how='left')\n",
    "    test = test.merge(numerical_agg(install, gp_col, agg_col[i], 'installments',extrafunc_list = extrafunc_list[i]),\\\n",
    "                       on = 'SK_ID_CURR', how='left')"
   ]
  },
  {
   "cell_type": "code",
   "execution_count": 14,
   "metadata": {
    "ExecuteTime": {
     "end_time": "2018-06-19T19:14:45.168186Z",
     "start_time": "2018-06-19T19:14:45.163987Z"
    }
   },
   "outputs": [
    {
     "name": "stdout",
     "output_type": "stream",
     "text": [
      "159 ['SK_ID_CURR' 'TARGET' 'NAME_CONTRACT_TYPE' 'CODE_GENDER' 'FLAG_OWN_CAR'\n",
      " 'FLAG_OWN_REALTY' 'CNT_CHILDREN' 'AMT_INCOME_TOTAL' 'AMT_CREDIT'\n",
      " 'AMT_ANNUITY' 'AMT_GOODS_PRICE' 'NAME_TYPE_SUITE' 'NAME_INCOME_TYPE'\n",
      " 'NAME_EDUCATION_TYPE' 'NAME_FAMILY_STATUS' 'NAME_HOUSING_TYPE'\n",
      " 'REGION_POPULATION_RELATIVE' 'DAYS_BIRTH' 'DAYS_EMPLOYED'\n",
      " 'DAYS_REGISTRATION' 'DAYS_ID_PUBLISH' 'OWN_CAR_AGE' 'FLAG_MOBIL'\n",
      " 'FLAG_EMP_PHONE' 'FLAG_WORK_PHONE' 'FLAG_CONT_MOBILE' 'FLAG_PHONE'\n",
      " 'FLAG_EMAIL' 'OCCUPATION_TYPE' 'CNT_FAM_MEMBERS' 'REGION_RATING_CLIENT'\n",
      " 'REGION_RATING_CLIENT_W_CITY' 'WEEKDAY_APPR_PROCESS_START'\n",
      " 'HOUR_APPR_PROCESS_START' 'REG_REGION_NOT_LIVE_REGION'\n",
      " 'REG_REGION_NOT_WORK_REGION' 'LIVE_REGION_NOT_WORK_REGION'\n",
      " 'REG_CITY_NOT_LIVE_CITY' 'REG_CITY_NOT_WORK_CITY'\n",
      " 'LIVE_CITY_NOT_WORK_CITY' 'ORGANIZATION_TYPE' 'EXT_SOURCE_1'\n",
      " 'EXT_SOURCE_2' 'EXT_SOURCE_3' 'APARTMENTS_AVG' 'BASEMENTAREA_AVG'\n",
      " 'YEARS_BEGINEXPLUATATION_AVG' 'YEARS_BUILD_AVG' 'COMMONAREA_AVG'\n",
      " 'ELEVATORS_AVG' 'ENTRANCES_AVG' 'FLOORSMAX_AVG' 'FLOORSMIN_AVG'\n",
      " 'LANDAREA_AVG' 'LIVINGAPARTMENTS_AVG' 'LIVINGAREA_AVG'\n",
      " 'NONLIVINGAPARTMENTS_AVG' 'NONLIVINGAREA_AVG' 'APARTMENTS_MODE'\n",
      " 'BASEMENTAREA_MODE' 'YEARS_BEGINEXPLUATATION_MODE' 'YEARS_BUILD_MODE'\n",
      " 'COMMONAREA_MODE' 'ELEVATORS_MODE' 'ENTRANCES_MODE' 'FLOORSMAX_MODE'\n",
      " 'FLOORSMIN_MODE' 'LANDAREA_MODE' 'LIVINGAPARTMENTS_MODE' 'LIVINGAREA_MODE'\n",
      " 'NONLIVINGAPARTMENTS_MODE' 'NONLIVINGAREA_MODE' 'APARTMENTS_MEDI'\n",
      " 'BASEMENTAREA_MEDI' 'YEARS_BEGINEXPLUATATION_MEDI' 'YEARS_BUILD_MEDI'\n",
      " 'COMMONAREA_MEDI' 'ELEVATORS_MEDI' 'ENTRANCES_MEDI' 'FLOORSMAX_MEDI'\n",
      " 'FLOORSMIN_MEDI' 'LANDAREA_MEDI' 'LIVINGAPARTMENTS_MEDI' 'LIVINGAREA_MEDI'\n",
      " 'NONLIVINGAPARTMENTS_MEDI' 'NONLIVINGAREA_MEDI' 'FONDKAPREMONT_MODE'\n",
      " 'HOUSETYPE_MODE' 'TOTALAREA_MODE' 'WALLSMATERIAL_MODE'\n",
      " 'EMERGENCYSTATE_MODE' 'OBS_30_CNT_SOCIAL_CIRCLE'\n",
      " 'DEF_30_CNT_SOCIAL_CIRCLE' 'OBS_60_CNT_SOCIAL_CIRCLE'\n",
      " 'DEF_60_CNT_SOCIAL_CIRCLE' 'DAYS_LAST_PHONE_CHANGE' 'FLAG_DOCUMENT_2'\n",
      " 'FLAG_DOCUMENT_3' 'FLAG_DOCUMENT_4' 'FLAG_DOCUMENT_5' 'FLAG_DOCUMENT_6'\n",
      " 'FLAG_DOCUMENT_7' 'FLAG_DOCUMENT_8' 'FLAG_DOCUMENT_9' 'FLAG_DOCUMENT_10'\n",
      " 'FLAG_DOCUMENT_11' 'FLAG_DOCUMENT_12' 'FLAG_DOCUMENT_13'\n",
      " 'FLAG_DOCUMENT_14' 'FLAG_DOCUMENT_15' 'FLAG_DOCUMENT_16'\n",
      " 'FLAG_DOCUMENT_17' 'FLAG_DOCUMENT_18' 'FLAG_DOCUMENT_19'\n",
      " 'FLAG_DOCUMENT_20' 'FLAG_DOCUMENT_21' 'AMT_REQ_CREDIT_BUREAU_HOUR'\n",
      " 'AMT_REQ_CREDIT_BUREAU_DAY' 'AMT_REQ_CREDIT_BUREAU_WEEK'\n",
      " 'AMT_REQ_CREDIT_BUREAU_MON' 'AMT_REQ_CREDIT_BUREAU_QRT'\n",
      " 'AMT_REQ_CREDIT_BUREAU_YEAR'\n",
      " 'installments_DAYS_INSTALMENT_minus_DAYS_ENTRY_PAYMENT_max'\n",
      " 'installments_DAYS_INSTALMENT_minus_DAYS_ENTRY_PAYMENT_min'\n",
      " 'installments_DAYS_INSTALMENT_minus_DAYS_ENTRY_PAYMENT_std'\n",
      " 'installments_DAYS_INSTALMENT_minus_DAYS_ENTRY_PAYMENT_mean'\n",
      " 'installments_DAYS_INSTALMENT_minus_DAYS_ENTRY_PAYMENT_negative_count'\n",
      " 'installments_AMT_PAYMENT_minus_AMT_INSTALMENT_max'\n",
      " 'installments_AMT_PAYMENT_minus_AMT_INSTALMENT_min'\n",
      " 'installments_AMT_PAYMENT_minus_AMT_INSTALMENT_std'\n",
      " 'installments_AMT_PAYMENT_minus_AMT_INSTALMENT_mean'\n",
      " 'installments_AMT_PAYMENT_minus_AMT_INSTALMENT_negative_count'\n",
      " 'installments_AMT_PAYMENT_divide_AMT_INSTALMENT_max'\n",
      " 'installments_AMT_PAYMENT_divide_AMT_INSTALMENT_min'\n",
      " 'installments_AMT_PAYMENT_divide_AMT_INSTALMENT_std'\n",
      " 'installments_AMT_PAYMENT_divide_AMT_INSTALMENT_mean'\n",
      " 'installments_AMT_INSTALMENT_max' 'installments_AMT_INSTALMENT_min'\n",
      " 'installments_AMT_INSTALMENT_std' 'installments_AMT_INSTALMENT_mean'\n",
      " 'installments_DAYS_ENTRY_PAYMENT_max'\n",
      " 'installments_DAYS_ENTRY_PAYMENT_min'\n",
      " 'installments_DAYS_ENTRY_PAYMENT_std'\n",
      " 'installments_DAYS_ENTRY_PAYMENT_mean' 'installments_AMT_PAYMENT_max'\n",
      " 'installments_AMT_PAYMENT_min' 'installments_AMT_PAYMENT_std'\n",
      " 'installments_AMT_PAYMENT_mean' 'installments_late_days_max'\n",
      " 'installments_late_days_min' 'installments_late_days_std'\n",
      " 'installments_late_days_mean' 'installments_DAYS_INSTALMENT_max'\n",
      " 'installments_DAYS_INSTALMENT_min' 'installments_DAYS_INSTALMENT_std'\n",
      " 'installments_DAYS_INSTALMENT_mean' 'installments_score_max'\n",
      " 'installments_score_min' 'installments_score_std'\n",
      " 'installments_score_mean']\n"
     ]
    }
   ],
   "source": [
    "print(len(test.columns.values), train.columns.values)"
   ]
  },
  {
   "cell_type": "markdown",
   "metadata": {},
   "source": [
    "# Save Install"
   ]
  },
  {
   "cell_type": "code",
   "execution_count": 15,
   "metadata": {
    "ExecuteTime": {
     "end_time": "2018-06-19T19:14:46.714682Z",
     "start_time": "2018-06-19T19:14:46.709829Z"
    }
   },
   "outputs": [
    {
     "name": "stdout",
     "output_type": "stream",
     "text": [
      "(307511, 160) (48744, 159) ['SK_ID_CURR' 'TARGET' 'NAME_CONTRACT_TYPE' 'CODE_GENDER' 'FLAG_OWN_CAR'\n",
      " 'FLAG_OWN_REALTY' 'CNT_CHILDREN' 'AMT_INCOME_TOTAL' 'AMT_CREDIT'\n",
      " 'AMT_ANNUITY' 'AMT_GOODS_PRICE' 'NAME_TYPE_SUITE' 'NAME_INCOME_TYPE'\n",
      " 'NAME_EDUCATION_TYPE' 'NAME_FAMILY_STATUS' 'NAME_HOUSING_TYPE'\n",
      " 'REGION_POPULATION_RELATIVE' 'DAYS_BIRTH' 'DAYS_EMPLOYED'\n",
      " 'DAYS_REGISTRATION' 'DAYS_ID_PUBLISH' 'OWN_CAR_AGE' 'FLAG_MOBIL'\n",
      " 'FLAG_EMP_PHONE' 'FLAG_WORK_PHONE' 'FLAG_CONT_MOBILE' 'FLAG_PHONE'\n",
      " 'FLAG_EMAIL' 'OCCUPATION_TYPE' 'CNT_FAM_MEMBERS' 'REGION_RATING_CLIENT'\n",
      " 'REGION_RATING_CLIENT_W_CITY' 'WEEKDAY_APPR_PROCESS_START'\n",
      " 'HOUR_APPR_PROCESS_START' 'REG_REGION_NOT_LIVE_REGION'\n",
      " 'REG_REGION_NOT_WORK_REGION' 'LIVE_REGION_NOT_WORK_REGION'\n",
      " 'REG_CITY_NOT_LIVE_CITY' 'REG_CITY_NOT_WORK_CITY'\n",
      " 'LIVE_CITY_NOT_WORK_CITY' 'ORGANIZATION_TYPE' 'EXT_SOURCE_1'\n",
      " 'EXT_SOURCE_2' 'EXT_SOURCE_3' 'APARTMENTS_AVG' 'BASEMENTAREA_AVG'\n",
      " 'YEARS_BEGINEXPLUATATION_AVG' 'YEARS_BUILD_AVG' 'COMMONAREA_AVG'\n",
      " 'ELEVATORS_AVG' 'ENTRANCES_AVG' 'FLOORSMAX_AVG' 'FLOORSMIN_AVG'\n",
      " 'LANDAREA_AVG' 'LIVINGAPARTMENTS_AVG' 'LIVINGAREA_AVG'\n",
      " 'NONLIVINGAPARTMENTS_AVG' 'NONLIVINGAREA_AVG' 'APARTMENTS_MODE'\n",
      " 'BASEMENTAREA_MODE' 'YEARS_BEGINEXPLUATATION_MODE' 'YEARS_BUILD_MODE'\n",
      " 'COMMONAREA_MODE' 'ELEVATORS_MODE' 'ENTRANCES_MODE' 'FLOORSMAX_MODE'\n",
      " 'FLOORSMIN_MODE' 'LANDAREA_MODE' 'LIVINGAPARTMENTS_MODE' 'LIVINGAREA_MODE'\n",
      " 'NONLIVINGAPARTMENTS_MODE' 'NONLIVINGAREA_MODE' 'APARTMENTS_MEDI'\n",
      " 'BASEMENTAREA_MEDI' 'YEARS_BEGINEXPLUATATION_MEDI' 'YEARS_BUILD_MEDI'\n",
      " 'COMMONAREA_MEDI' 'ELEVATORS_MEDI' 'ENTRANCES_MEDI' 'FLOORSMAX_MEDI'\n",
      " 'FLOORSMIN_MEDI' 'LANDAREA_MEDI' 'LIVINGAPARTMENTS_MEDI' 'LIVINGAREA_MEDI'\n",
      " 'NONLIVINGAPARTMENTS_MEDI' 'NONLIVINGAREA_MEDI' 'FONDKAPREMONT_MODE'\n",
      " 'HOUSETYPE_MODE' 'TOTALAREA_MODE' 'WALLSMATERIAL_MODE'\n",
      " 'EMERGENCYSTATE_MODE' 'OBS_30_CNT_SOCIAL_CIRCLE'\n",
      " 'DEF_30_CNT_SOCIAL_CIRCLE' 'OBS_60_CNT_SOCIAL_CIRCLE'\n",
      " 'DEF_60_CNT_SOCIAL_CIRCLE' 'DAYS_LAST_PHONE_CHANGE' 'FLAG_DOCUMENT_2'\n",
      " 'FLAG_DOCUMENT_3' 'FLAG_DOCUMENT_4' 'FLAG_DOCUMENT_5' 'FLAG_DOCUMENT_6'\n",
      " 'FLAG_DOCUMENT_7' 'FLAG_DOCUMENT_8' 'FLAG_DOCUMENT_9' 'FLAG_DOCUMENT_10'\n",
      " 'FLAG_DOCUMENT_11' 'FLAG_DOCUMENT_12' 'FLAG_DOCUMENT_13'\n",
      " 'FLAG_DOCUMENT_14' 'FLAG_DOCUMENT_15' 'FLAG_DOCUMENT_16'\n",
      " 'FLAG_DOCUMENT_17' 'FLAG_DOCUMENT_18' 'FLAG_DOCUMENT_19'\n",
      " 'FLAG_DOCUMENT_20' 'FLAG_DOCUMENT_21' 'AMT_REQ_CREDIT_BUREAU_HOUR'\n",
      " 'AMT_REQ_CREDIT_BUREAU_DAY' 'AMT_REQ_CREDIT_BUREAU_WEEK'\n",
      " 'AMT_REQ_CREDIT_BUREAU_MON' 'AMT_REQ_CREDIT_BUREAU_QRT'\n",
      " 'AMT_REQ_CREDIT_BUREAU_YEAR'\n",
      " 'installments_DAYS_INSTALMENT_minus_DAYS_ENTRY_PAYMENT_max'\n",
      " 'installments_DAYS_INSTALMENT_minus_DAYS_ENTRY_PAYMENT_min'\n",
      " 'installments_DAYS_INSTALMENT_minus_DAYS_ENTRY_PAYMENT_std'\n",
      " 'installments_DAYS_INSTALMENT_minus_DAYS_ENTRY_PAYMENT_mean'\n",
      " 'installments_DAYS_INSTALMENT_minus_DAYS_ENTRY_PAYMENT_negative_count'\n",
      " 'installments_AMT_PAYMENT_minus_AMT_INSTALMENT_max'\n",
      " 'installments_AMT_PAYMENT_minus_AMT_INSTALMENT_min'\n",
      " 'installments_AMT_PAYMENT_minus_AMT_INSTALMENT_std'\n",
      " 'installments_AMT_PAYMENT_minus_AMT_INSTALMENT_mean'\n",
      " 'installments_AMT_PAYMENT_minus_AMT_INSTALMENT_negative_count'\n",
      " 'installments_AMT_PAYMENT_divide_AMT_INSTALMENT_max'\n",
      " 'installments_AMT_PAYMENT_divide_AMT_INSTALMENT_min'\n",
      " 'installments_AMT_PAYMENT_divide_AMT_INSTALMENT_std'\n",
      " 'installments_AMT_PAYMENT_divide_AMT_INSTALMENT_mean'\n",
      " 'installments_AMT_INSTALMENT_max' 'installments_AMT_INSTALMENT_min'\n",
      " 'installments_AMT_INSTALMENT_std' 'installments_AMT_INSTALMENT_mean'\n",
      " 'installments_DAYS_ENTRY_PAYMENT_max'\n",
      " 'installments_DAYS_ENTRY_PAYMENT_min'\n",
      " 'installments_DAYS_ENTRY_PAYMENT_std'\n",
      " 'installments_DAYS_ENTRY_PAYMENT_mean' 'installments_AMT_PAYMENT_max'\n",
      " 'installments_AMT_PAYMENT_min' 'installments_AMT_PAYMENT_std'\n",
      " 'installments_AMT_PAYMENT_mean' 'installments_late_days_max'\n",
      " 'installments_late_days_min' 'installments_late_days_std'\n",
      " 'installments_late_days_mean' 'installments_DAYS_INSTALMENT_max'\n",
      " 'installments_DAYS_INSTALMENT_min' 'installments_DAYS_INSTALMENT_std'\n",
      " 'installments_DAYS_INSTALMENT_mean' 'installments_score_max'\n",
      " 'installments_score_min' 'installments_score_std'\n",
      " 'installments_score_mean']\n"
     ]
    }
   ],
   "source": [
    "print(train.shape, test.shape,train.columns.values)\n",
    "# PATH = '/home/kai/data/kaggle/homecredit/'\n",
    "# train.to_pickle(PATH + 'train_with_install.pkl')\n",
    "# test.to_pickle(PATH + 'test_with_install.pkl')"
   ]
  },
  {
   "cell_type": "markdown",
   "metadata": {},
   "source": [
    "# Previous"
   ]
  },
  {
   "cell_type": "code",
   "execution_count": 16,
   "metadata": {
    "ExecuteTime": {
     "end_time": "2018-06-19T19:14:48.433616Z",
     "start_time": "2018-06-19T19:14:48.166817Z"
    }
   },
   "outputs": [
    {
     "name": "stdout",
     "output_type": "stream",
     "text": [
      "done\n"
     ]
    }
   ],
   "source": [
    "PATH = '/home/kai/data/kaggle/homecredit/'\n",
    "\n",
    "# train = pd.read_pickle(PATH + 'train_cleaned.pkl')\n",
    "# test = pd.read_pickle(PATH + 'test_cleaned.pkl')\n",
    "prev = previous_application.copy()\n",
    "print('done')"
   ]
  },
  {
   "cell_type": "code",
   "execution_count": 17,
   "metadata": {
    "ExecuteTime": {
     "end_time": "2018-06-19T19:14:50.677957Z",
     "start_time": "2018-06-19T19:14:50.653568Z"
    },
    "collapsed": true
   },
   "outputs": [],
   "source": [
    "# Ratio\n",
    "prev[ratio_name('AMT_APPLICATION', 'AMT_CREDIT')] = ratio(prev, 'AMT_APPLICATION', 'AMT_CREDIT')\n",
    "\n",
    "prev[ratio_name('AMT_DOWN_PAYMENT', 'RATE_DOWN_PAYMENT')] = ratio(prev, 'AMT_DOWN_PAYMENT', 'RATE_DOWN_PAYMENT')\n",
    "\n",
    "prev[ratio_name('AMT_CREDIT', 'CNT_PAYMENT')] = ratio(prev, 'AMT_CREDIT', 'CNT_PAYMENT')\n",
    "\n",
    "# Sub\n",
    "prev[substraction_name('DAYS_LAST_DUE', 'DAYS_FIRST_DUE')] = substraction(prev, 'DAYS_LAST_DUE', 'DAYS_FIRST_DUE')\n",
    "\n",
    "prev[substraction_name('AMT_APPLICATION', 'AMT_CREDIT')] = substraction(prev, 'AMT_APPLICATION', 'AMT_CREDIT')\n"
   ]
  },
  {
   "cell_type": "code",
   "execution_count": 18,
   "metadata": {
    "ExecuteTime": {
     "end_time": "2018-06-19T19:14:52.948454Z",
     "start_time": "2018-06-19T19:14:52.944883Z"
    }
   },
   "outputs": [
    {
     "name": "stdout",
     "output_type": "stream",
     "text": [
      "Index(['SK_ID_PREV', 'SK_ID_CURR', 'NAME_CONTRACT_TYPE', 'AMT_ANNUITY',\n",
      "       'AMT_APPLICATION', 'AMT_CREDIT', 'AMT_DOWN_PAYMENT', 'AMT_GOODS_PRICE',\n",
      "       'WEEKDAY_APPR_PROCESS_START', 'HOUR_APPR_PROCESS_START',\n",
      "       'FLAG_LAST_APPL_PER_CONTRACT', 'NFLAG_LAST_APPL_IN_DAY',\n",
      "       'RATE_DOWN_PAYMENT', 'RATE_INTEREST_PRIMARY',\n",
      "       'RATE_INTEREST_PRIVILEGED', 'NAME_CASH_LOAN_PURPOSE',\n",
      "       'NAME_CONTRACT_STATUS', 'DAYS_DECISION', 'NAME_PAYMENT_TYPE',\n",
      "       'CODE_REJECT_REASON', 'NAME_TYPE_SUITE', 'NAME_CLIENT_TYPE',\n",
      "       'NAME_GOODS_CATEGORY', 'NAME_PORTFOLIO', 'NAME_PRODUCT_TYPE',\n",
      "       'CHANNEL_TYPE', 'SELLERPLACE_AREA', 'NAME_SELLER_INDUSTRY',\n",
      "       'CNT_PAYMENT', 'NAME_YIELD_GROUP', 'PRODUCT_COMBINATION',\n",
      "       'DAYS_FIRST_DRAWING', 'DAYS_FIRST_DUE', 'DAYS_LAST_DUE_1ST_VERSION',\n",
      "       'DAYS_LAST_DUE', 'DAYS_TERMINATION', 'NFLAG_INSURED_ON_APPROVAL',\n",
      "       'AMT_APPLICATION_divide_AMT_CREDIT',\n",
      "       'AMT_DOWN_PAYMENT_divide_RATE_DOWN_PAYMENT',\n",
      "       'AMT_CREDIT_divide_CNT_PAYMENT', 'DAYS_LAST_DUE_minus_DAYS_FIRST_DUE',\n",
      "       'AMT_APPLICATION_minus_AMT_CREDIT'],\n",
      "      dtype='object')\n"
     ]
    }
   ],
   "source": [
    "print(prev.columns)"
   ]
  },
  {
   "cell_type": "code",
   "execution_count": 19,
   "metadata": {
    "ExecuteTime": {
     "end_time": "2018-06-19T19:14:55.421795Z",
     "start_time": "2018-06-19T19:14:55.414820Z"
    },
    "collapsed": true
   },
   "outputs": [],
   "source": [
    "# Drop Columns for numerical\n",
    "\n",
    "# For now drop: SELLERPLACE_AREA, RATE_INTEREST_PRIMARY, RATE_INTEREST_PRIVILEGED\n",
    "numerical_cols = ['AMT_APPLICATION_divide_AMT_CREDIT', 'AMT_ANNUITY', 'AMT_APPLICATION', 'AMT_CREDIT', 'AMT_DOWN_PAYMENT', 'AMT_GOODS_PRICE', 'HOUR_APPR_PROCESS_START', 'RATE_DOWN_PAYMENT',  'DAYS_DECISION', 'CNT_PAYMENT', 'DAYS_FIRST_DRAWING', 'DAYS_FIRST_DUE', 'DAYS_LAST_DUE_1ST_VERSION', 'DAYS_LAST_DUE', 'DAYS_TERMINATION',\n",
    "       'AMT_DOWN_PAYMENT_divide_RATE_DOWN_PAYMENT',\n",
    "       'AMT_CREDIT_divide_CNT_PAYMENT', 'DAYS_LAST_DUE_minus_DAYS_FIRST_DUE',\n",
    "       'AMT_APPLICATION_minus_AMT_CREDIT']\n",
    "\n",
    "extrafunc_list = [_ for _ in range(len(numerical_cols))]\n",
    "for i in range(len(numerical_cols)):\n",
    "    if i == 0:\n",
    "        extrafunc_list[i] = ['positive_count']\n",
    "    else:\n",
    "        extrafunc_list[i] = None"
   ]
  },
  {
   "cell_type": "code",
   "execution_count": 20,
   "metadata": {
    "ExecuteTime": {
     "end_time": "2018-06-19T19:16:34.332279Z",
     "start_time": "2018-06-19T19:14:57.582852Z"
    }
   },
   "outputs": [
    {
     "name": "stdout",
     "output_type": "stream",
     "text": [
      "AMT_APPLICATION_divide_AMT_CREDIT\n",
      "AMT_ANNUITY\n",
      "AMT_APPLICATION\n",
      "AMT_CREDIT\n",
      "AMT_DOWN_PAYMENT\n",
      "AMT_GOODS_PRICE\n",
      "HOUR_APPR_PROCESS_START\n",
      "RATE_DOWN_PAYMENT\n",
      "DAYS_DECISION\n",
      "CNT_PAYMENT\n",
      "DAYS_FIRST_DRAWING\n",
      "DAYS_FIRST_DUE\n",
      "DAYS_LAST_DUE_1ST_VERSION\n",
      "DAYS_LAST_DUE\n",
      "DAYS_TERMINATION\n",
      "AMT_DOWN_PAYMENT_divide_RATE_DOWN_PAYMENT\n",
      "AMT_CREDIT_divide_CNT_PAYMENT\n",
      "DAYS_LAST_DUE_minus_DAYS_FIRST_DUE\n",
      "AMT_APPLICATION_minus_AMT_CREDIT\n"
     ]
    }
   ],
   "source": [
    "gp_col = 'SK_ID_CURR'\n",
    "for i in range(len(extrafunc_list)):\n",
    "    print(numerical_cols[i])\n",
    "    train = train.merge(numerical_agg(prev, gp_col, numerical_cols[i], 'prev', extrafunc_list = extrafunc_list[i]), on = 'SK_ID_CURR', how='left')\n",
    "    test = test.merge(numerical_agg(prev, gp_col, numerical_cols[i], 'prev', extrafunc_list = extrafunc_list[i]), on = 'SK_ID_CURR', how='left')"
   ]
  },
  {
   "cell_type": "code",
   "execution_count": 21,
   "metadata": {
    "ExecuteTime": {
     "end_time": "2018-06-19T19:16:36.117265Z",
     "start_time": "2018-06-19T19:16:36.112542Z"
    }
   },
   "outputs": [
    {
     "data": {
      "text/plain": [
       "['NAME_CONTRACT_TYPE',\n",
       " 'WEEKDAY_APPR_PROCESS_START',\n",
       " 'FLAG_LAST_APPL_PER_CONTRACT',\n",
       " 'NAME_CASH_LOAN_PURPOSE',\n",
       " 'NAME_CONTRACT_STATUS',\n",
       " 'NAME_PAYMENT_TYPE',\n",
       " 'CODE_REJECT_REASON',\n",
       " 'NAME_TYPE_SUITE',\n",
       " 'NAME_CLIENT_TYPE',\n",
       " 'NAME_GOODS_CATEGORY',\n",
       " 'NAME_PORTFOLIO',\n",
       " 'NAME_PRODUCT_TYPE',\n",
       " 'CHANNEL_TYPE',\n",
       " 'NAME_SELLER_INDUSTRY',\n",
       " 'NAME_YIELD_GROUP',\n",
       " 'PRODUCT_COMBINATION',\n",
       " 'NFLAG_LAST_APPL_IN_DAY',\n",
       " 'NFLAG_INSURED_ON_APPROVAL']"
      ]
     },
     "execution_count": 21,
     "metadata": {},
     "output_type": "execute_result"
    }
   ],
   "source": [
    "categorical_cols = [col for col in prev.columns if prev[col].dtype == 'object']\n",
    "categorical_cols.append('NFLAG_LAST_APPL_IN_DAY')\n",
    "categorical_cols.append('NFLAG_INSURED_ON_APPROVAL')\n",
    "categorical_cols"
   ]
  },
  {
   "cell_type": "code",
   "execution_count": 22,
   "metadata": {
    "ExecuteTime": {
     "end_time": "2018-06-19T19:16:38.058969Z",
     "start_time": "2018-06-19T19:16:38.037118Z"
    },
    "collapsed": true
   },
   "outputs": [],
   "source": [
    "def _set_type(series, dtype):\n",
    "    _max, _min = max(series), min(series)\n",
    "    if dtype == 'uint':\n",
    "        if _max <= 255: return np.uint8\n",
    "        elif _max <= 65535: return np.uint16\n",
    "        elif _max <= 4294967295: return np.uint32\n",
    "        else: return np.uint64\n",
    "    elif dtype == 'int':\n",
    "        if _min >= -128 and _max <= 127: return np.int8\n",
    "        elif _min >=-32768 and _max <= 32767: return np.int16\n",
    "        elif _min >= -2147483648 and _max <= 2147483647: return np.int32\n",
    "        else: return np.int64\n",
    "    elif dtype == 'float':\n",
    "        if max(abs(_min), _max) <= 3.4028235e+38: return np.float32\n",
    "        else: return np.float64\n",
    "\n",
    "def split_categorical_feature(df, group_col, calc_col):\n",
    "    tmp_df = pd.concat([df[group_col], pd.get_dummies(df[calc_col], prefix=calc_col)], axis=1).groupby(by=group_col).sum().reset_index()\n",
    "    dtype = {x: _set_type(tmp_df[x], 'uint') for x in tmp_df.columns if x != group_col}\n",
    "    for x in tmp_df:\n",
    "        if x in df.columns:\n",
    "            dtype[x] = df[x].dtype\n",
    "    return tmp_df.astype(dtype)"
   ]
  },
  {
   "cell_type": "code",
   "execution_count": 23,
   "metadata": {
    "ExecuteTime": {
     "end_time": "2018-06-19T19:17:09.133297Z",
     "start_time": "2018-06-19T19:16:40.113797Z"
    }
   },
   "outputs": [
    {
     "name": "stdout",
     "output_type": "stream",
     "text": [
      "NAME_CONTRACT_TYPE\n",
      "WEEKDAY_APPR_PROCESS_START\n",
      "FLAG_LAST_APPL_PER_CONTRACT\n",
      "NAME_CASH_LOAN_PURPOSE\n",
      "NAME_CONTRACT_STATUS\n",
      "NAME_PAYMENT_TYPE\n",
      "CODE_REJECT_REASON\n",
      "NAME_TYPE_SUITE\n",
      "NAME_CLIENT_TYPE\n",
      "NAME_GOODS_CATEGORY\n",
      "NAME_PORTFOLIO\n",
      "NAME_PRODUCT_TYPE\n",
      "CHANNEL_TYPE\n",
      "NAME_SELLER_INDUSTRY\n",
      "NAME_YIELD_GROUP\n",
      "PRODUCT_COMBINATION\n",
      "NFLAG_LAST_APPL_IN_DAY\n",
      "NFLAG_INSURED_ON_APPROVAL\n"
     ]
    }
   ],
   "source": [
    "for col in categorical_cols:\n",
    "    print(col)\n",
    "    train = train.merge(split_categorical_feature(prev, 'SK_ID_CURR', col), on='SK_ID_CURR', how='left')\n",
    "    test = test.merge(split_categorical_feature(prev, 'SK_ID_CURR', col), on='SK_ID_CURR', how='left')\n",
    "    gc.collect()"
   ]
  },
  {
   "cell_type": "markdown",
   "metadata": {},
   "source": [
    "# Save Prev"
   ]
  },
  {
   "cell_type": "code",
   "execution_count": 24,
   "metadata": {
    "ExecuteTime": {
     "end_time": "2018-06-19T19:17:10.862809Z",
     "start_time": "2018-06-19T19:17:10.858988Z"
    }
   },
   "outputs": [
    {
     "name": "stdout",
     "output_type": "stream",
     "text": [
      "(307511, 384) (48744, 383)\n"
     ]
    }
   ],
   "source": [
    "print(train.shape, test.shape)\n",
    "# PATH = '/home/kai/data/kaggle/homecredit/'\n",
    "# train.to_pickle(PATH + 'train_with_prev.pkl')\n",
    "# test.to_pickle(PATH + 'test_with_prev.pkl')"
   ]
  },
  {
   "cell_type": "markdown",
   "metadata": {},
   "source": [
    "# Credit Card"
   ]
  },
  {
   "cell_type": "code",
   "execution_count": 25,
   "metadata": {
    "ExecuteTime": {
     "end_time": "2018-06-19T19:17:12.943793Z",
     "start_time": "2018-06-19T19:17:12.576330Z"
    }
   },
   "outputs": [
    {
     "name": "stdout",
     "output_type": "stream",
     "text": [
      "done\n"
     ]
    }
   ],
   "source": [
    "# PATH = '/home/kai/data/kaggle/homecredit/'\n",
    "# train = pd.read_csv(PATH + 'application_train.csv')\n",
    "# print('train')\n",
    "# test = pd.read_csv(PATH + 'application_test.csv')\n",
    "# print('test')\n",
    "credit = credit_card_balance.copy()\n",
    "print('done')"
   ]
  },
  {
   "cell_type": "code",
   "execution_count": 26,
   "metadata": {
    "ExecuteTime": {
     "end_time": "2018-06-19T19:17:15.674298Z",
     "start_time": "2018-06-19T19:17:15.589835Z"
    }
   },
   "outputs": [
    {
     "name": "stdout",
     "output_type": "stream",
     "text": [
      "AMT_DRAWINGS_ATM_CURRENT AMT_DRAWINGS_CURRENT\n",
      "AMT_DRAWINGS_POS_CURRENT AMT_DRAWINGS_CURRENT\n",
      "AMT_DRAWINGS_OTHER_CURRENT AMT_DRAWINGS_CURRENT\n",
      "CNT_DRAWINGS_ATM_CURRENT CNT_DRAWINGS_CURRENT\n",
      "CNT_DRAWINGS_OTHER_CURRENT CNT_DRAWINGS_CURRENT\n",
      "CNT_DRAWINGS_POS_CURRENT CNT_DRAWINGS_CURRENT\n",
      "AMT_DRAWINGS_ATM_CURRENT CNT_DRAWINGS_ATM_CURRENT\n",
      "AMT_DRAWINGS_POS_CURRENT CNT_DRAWINGS_POS_CURRENT\n",
      "AMT_DRAWINGS_OTHER_CURRENT CNT_DRAWINGS_OTHER_CURRENT\n",
      "AMT_DRAWINGS_CURRENT CNT_DRAWINGS_CURRENT\n"
     ]
    }
   ],
   "source": [
    "# Substraction\n",
    "credit[substraction_name('AMT_CREDIT_LIMIT_ACTUAL', 'AMT_BALANCE')] = \\\n",
    "substraction(credit, 'AMT_CREDIT_LIMIT_ACTUAL', 'AMT_BALANCE')\n",
    "\n",
    "# Ratio\n",
    "top = ['AMT_DRAWINGS_ATM_CURRENT', 'AMT_DRAWINGS_POS_CURRENT', 'AMT_DRAWINGS_OTHER_CURRENT',\\\n",
    "      'CNT_DRAWINGS_ATM_CURRENT', 'CNT_DRAWINGS_OTHER_CURRENT', 'CNT_DRAWINGS_POS_CURRENT',\\\n",
    "      'AMT_DRAWINGS_ATM_CURRENT', 'AMT_DRAWINGS_POS_CURRENT', 'AMT_DRAWINGS_OTHER_CURRENT', 'AMT_DRAWINGS_CURRENT']\n",
    "\n",
    "bot = ['AMT_DRAWINGS_CURRENT', 'AMT_DRAWINGS_CURRENT','AMT_DRAWINGS_CURRENT', \\\n",
    "       'CNT_DRAWINGS_CURRENT', 'CNT_DRAWINGS_CURRENT', 'CNT_DRAWINGS_CURRENT',\\\n",
    "       'CNT_DRAWINGS_ATM_CURRENT', 'CNT_DRAWINGS_POS_CURRENT', 'CNT_DRAWINGS_OTHER_CURRENT', 'CNT_DRAWINGS_CURRENT']\n",
    "for i in range(len(top)):\n",
    "    print(top[i],bot[i])\n",
    "    credit[ratio_name(top[i], bot[i])] = \\\n",
    "    ratio(credit, top[i], bot[i])"
   ]
  },
  {
   "cell_type": "code",
   "execution_count": 27,
   "metadata": {
    "ExecuteTime": {
     "end_time": "2018-06-19T19:17:19.538734Z",
     "start_time": "2018-06-19T19:17:19.449118Z"
    },
    "collapsed": true
   },
   "outputs": [],
   "source": [
    "credit['score_DPD'] = 0\n",
    "credit['score_DPD'] = (credit['SK_DPD']**3 + 5* credit['SK_DPD_DEF']**3 + 1) * (1/(1 + abs(credit['MONTHS_BALANCE']) ))"
   ]
  },
  {
   "cell_type": "code",
   "execution_count": 28,
   "metadata": {
    "ExecuteTime": {
     "end_time": "2018-06-19T19:17:23.325042Z",
     "start_time": "2018-06-19T19:17:23.321130Z"
    }
   },
   "outputs": [
    {
     "name": "stdout",
     "output_type": "stream",
     "text": [
      "['SK_ID_PREV', 'SK_ID_CURR', 'MONTHS_BALANCE', 'AMT_BALANCE', 'AMT_CREDIT_LIMIT_ACTUAL', 'AMT_DRAWINGS_ATM_CURRENT', 'AMT_DRAWINGS_CURRENT', 'AMT_DRAWINGS_OTHER_CURRENT', 'AMT_DRAWINGS_POS_CURRENT', 'AMT_INST_MIN_REGULARITY', 'AMT_PAYMENT_CURRENT', 'AMT_PAYMENT_TOTAL_CURRENT', 'AMT_RECEIVABLE_PRINCIPAL', 'AMT_RECIVABLE', 'AMT_TOTAL_RECEIVABLE', 'CNT_DRAWINGS_ATM_CURRENT', 'CNT_DRAWINGS_CURRENT', 'CNT_DRAWINGS_OTHER_CURRENT', 'CNT_DRAWINGS_POS_CURRENT', 'CNT_INSTALMENT_MATURE_CUM', 'SK_DPD', 'SK_DPD_DEF', 'AMT_CREDIT_LIMIT_ACTUAL_minus_AMT_BALANCE', 'AMT_DRAWINGS_ATM_CURRENT_divide_AMT_DRAWINGS_CURRENT', 'AMT_DRAWINGS_POS_CURRENT_divide_AMT_DRAWINGS_CURRENT', 'AMT_DRAWINGS_OTHER_CURRENT_divide_AMT_DRAWINGS_CURRENT', 'CNT_DRAWINGS_ATM_CURRENT_divide_CNT_DRAWINGS_CURRENT', 'CNT_DRAWINGS_OTHER_CURRENT_divide_CNT_DRAWINGS_CURRENT', 'CNT_DRAWINGS_POS_CURRENT_divide_CNT_DRAWINGS_CURRENT', 'AMT_DRAWINGS_ATM_CURRENT_divide_CNT_DRAWINGS_ATM_CURRENT', 'AMT_DRAWINGS_POS_CURRENT_divide_CNT_DRAWINGS_POS_CURRENT', 'AMT_DRAWINGS_OTHER_CURRENT_divide_CNT_DRAWINGS_OTHER_CURRENT', 'AMT_DRAWINGS_CURRENT_divide_CNT_DRAWINGS_CURRENT', 'score_DPD']\n"
     ]
    }
   ],
   "source": [
    "col = [i for i in list(credit.columns.values) if credit[i].dtype!= 'object']\n",
    "print(col)"
   ]
  },
  {
   "cell_type": "markdown",
   "metadata": {},
   "source": [
    "# Numerical Cols"
   ]
  },
  {
   "cell_type": "code",
   "execution_count": 29,
   "metadata": {
    "ExecuteTime": {
     "end_time": "2018-06-19T19:17:27.253415Z",
     "start_time": "2018-06-19T19:17:27.249629Z"
    },
    "collapsed": true
   },
   "outputs": [],
   "source": [
    "numerical_cols = ['SK_DPD', 'SK_DPD_DEF', 'AMT_BALANCE', 'AMT_CREDIT_LIMIT_ACTUAL', 'AMT_DRAWINGS_ATM_CURRENT', 'AMT_DRAWINGS_CURRENT', 'AMT_DRAWINGS_OTHER_CURRENT', 'AMT_DRAWINGS_POS_CURRENT', 'AMT_INST_MIN_REGULARITY', 'AMT_PAYMENT_CURRENT', 'AMT_PAYMENT_TOTAL_CURRENT', 'AMT_RECEIVABLE_PRINCIPAL', 'AMT_RECIVABLE', 'AMT_TOTAL_RECEIVABLE', 'CNT_DRAWINGS_ATM_CURRENT', 'CNT_DRAWINGS_CURRENT', 'CNT_DRAWINGS_OTHER_CURRENT', 'CNT_DRAWINGS_POS_CURRENT', 'CNT_INSTALMENT_MATURE_CUM', 'AMT_CREDIT_LIMIT_ACTUAL_minus_AMT_BALANCE', 'AMT_DRAWINGS_ATM_CURRENT_divide_AMT_DRAWINGS_CURRENT', 'AMT_DRAWINGS_POS_CURRENT_divide_AMT_DRAWINGS_CURRENT', 'AMT_DRAWINGS_OTHER_CURRENT_divide_AMT_DRAWINGS_CURRENT', 'CNT_DRAWINGS_ATM_CURRENT_divide_CNT_DRAWINGS_CURRENT', 'CNT_DRAWINGS_OTHER_CURRENT_divide_CNT_DRAWINGS_CURRENT', 'CNT_DRAWINGS_POS_CURRENT_divide_CNT_DRAWINGS_CURRENT', 'AMT_DRAWINGS_ATM_CURRENT_divide_CNT_DRAWINGS_ATM_CURRENT', 'AMT_DRAWINGS_POS_CURRENT_divide_CNT_DRAWINGS_POS_CURRENT', 'AMT_DRAWINGS_OTHER_CURRENT_divide_CNT_DRAWINGS_OTHER_CURRENT', 'AMT_DRAWINGS_CURRENT_divide_CNT_DRAWINGS_CURRENT', 'score_DPD']"
   ]
  },
  {
   "cell_type": "code",
   "execution_count": 30,
   "metadata": {
    "ExecuteTime": {
     "end_time": "2018-06-19T19:17:31.222937Z",
     "start_time": "2018-06-19T19:17:31.215235Z"
    }
   },
   "outputs": [
    {
     "name": "stdout",
     "output_type": "stream",
     "text": [
      "[['positive_count'], ['positive_count'], ['positive_count', 'negative_count'], None, None, None, None, None, None, None, None, None, None, None, None, None, None, None, None, None, None, None, None, None, None, None, None, None, None, None, None]\n"
     ]
    }
   ],
   "source": [
    "numerical_len = len(numerical_cols)\n",
    "\n",
    "extrafunc_list = [_ for _ in range(len(numerical_cols))]\n",
    "\n",
    "for i in range(len(numerical_cols)):\n",
    "    if i == 0 or i == 1:\n",
    "        extrafunc_list[i] = ['positive_count']\n",
    "    else:\n",
    "        if i == 2:\n",
    "            extrafunc_list[i] = ['positive_count', 'negative_count']\n",
    "        else:\n",
    "            extrafunc_list[i] = None\n",
    "print(extrafunc_list)"
   ]
  },
  {
   "cell_type": "code",
   "execution_count": 31,
   "metadata": {
    "ExecuteTime": {
     "end_time": "2018-06-19T19:19:44.875854Z",
     "start_time": "2018-06-19T19:17:34.988967Z"
    },
    "scrolled": true
   },
   "outputs": [
    {
     "name": "stdout",
     "output_type": "stream",
     "text": [
      "SK_DPD\n",
      "SK_DPD_DEF\n",
      "AMT_BALANCE\n",
      "AMT_CREDIT_LIMIT_ACTUAL\n",
      "AMT_DRAWINGS_ATM_CURRENT\n",
      "AMT_DRAWINGS_CURRENT\n",
      "AMT_DRAWINGS_OTHER_CURRENT\n",
      "AMT_DRAWINGS_POS_CURRENT\n",
      "AMT_INST_MIN_REGULARITY\n",
      "AMT_PAYMENT_CURRENT\n",
      "AMT_PAYMENT_TOTAL_CURRENT\n",
      "AMT_RECEIVABLE_PRINCIPAL\n",
      "AMT_RECIVABLE\n",
      "AMT_TOTAL_RECEIVABLE\n",
      "CNT_DRAWINGS_ATM_CURRENT\n",
      "CNT_DRAWINGS_CURRENT\n",
      "CNT_DRAWINGS_OTHER_CURRENT\n",
      "CNT_DRAWINGS_POS_CURRENT\n",
      "CNT_INSTALMENT_MATURE_CUM\n",
      "AMT_CREDIT_LIMIT_ACTUAL_minus_AMT_BALANCE\n",
      "AMT_DRAWINGS_ATM_CURRENT_divide_AMT_DRAWINGS_CURRENT\n",
      "AMT_DRAWINGS_POS_CURRENT_divide_AMT_DRAWINGS_CURRENT\n",
      "AMT_DRAWINGS_OTHER_CURRENT_divide_AMT_DRAWINGS_CURRENT\n",
      "CNT_DRAWINGS_ATM_CURRENT_divide_CNT_DRAWINGS_CURRENT\n",
      "CNT_DRAWINGS_OTHER_CURRENT_divide_CNT_DRAWINGS_CURRENT\n",
      "CNT_DRAWINGS_POS_CURRENT_divide_CNT_DRAWINGS_CURRENT\n",
      "AMT_DRAWINGS_ATM_CURRENT_divide_CNT_DRAWINGS_ATM_CURRENT\n",
      "AMT_DRAWINGS_POS_CURRENT_divide_CNT_DRAWINGS_POS_CURRENT\n",
      "AMT_DRAWINGS_OTHER_CURRENT_divide_CNT_DRAWINGS_OTHER_CURRENT\n",
      "AMT_DRAWINGS_CURRENT_divide_CNT_DRAWINGS_CURRENT\n",
      "score_DPD\n"
     ]
    }
   ],
   "source": [
    "gp_col = 'SK_ID_CURR'\n",
    "for i in range(len(extrafunc_list)):\n",
    "    print(numerical_cols[i])\n",
    "    test = test.merge(numerical_agg(credit, gp_col, numerical_cols[i], 'credit_card', extrafunc_list = extrafunc_list[i]), on = 'SK_ID_CURR', how='left')\n",
    "    train = train.merge(numerical_agg(credit, gp_col, numerical_cols[i], 'credit_card', extrafunc_list = extrafunc_list[i]), on = 'SK_ID_CURR', how='left')"
   ]
  },
  {
   "cell_type": "markdown",
   "metadata": {},
   "source": [
    "# Credit: Months Balance max min and sum"
   ]
  },
  {
   "cell_type": "code",
   "execution_count": 32,
   "metadata": {
    "ExecuteTime": {
     "end_time": "2018-06-19T19:19:47.627258Z",
     "start_time": "2018-06-19T19:19:47.019304Z"
    },
    "collapsed": true
   },
   "outputs": [],
   "source": [
    "_df = credit.groupby('SK_ID_CURR').agg({'MONTHS_BALANCE':['sum','min','max']})\n",
    "columns = []\n",
    "for pre in _df.columns.levels[0]:\n",
    "    for middle in _df.columns.levels[1]:\n",
    "        columns.append('%s_%s_%s' %('credit_card',pre,middle))\n",
    "_df.columns = columns\n",
    "train = train.merge(_df.reset_index(), on = 'SK_ID_CURR', how='left')\n",
    "test = test.merge(_df.reset_index(), on = 'SK_ID_CURR', how='left')"
   ]
  },
  {
   "cell_type": "markdown",
   "metadata": {},
   "source": [
    "# Save credit"
   ]
  },
  {
   "cell_type": "code",
   "execution_count": 33,
   "metadata": {
    "ExecuteTime": {
     "end_time": "2018-06-19T19:19:50.432559Z",
     "start_time": "2018-06-19T19:19:50.426790Z"
    }
   },
   "outputs": [
    {
     "name": "stdout",
     "output_type": "stream",
     "text": [
      "(307511, 515) (48744, 514) ['SK_ID_CURR' 'TARGET' 'NAME_CONTRACT_TYPE' 'CODE_GENDER' 'FLAG_OWN_CAR'\n",
      " 'FLAG_OWN_REALTY' 'CNT_CHILDREN' 'AMT_INCOME_TOTAL' 'AMT_CREDIT'\n",
      " 'AMT_ANNUITY' 'AMT_GOODS_PRICE' 'NAME_TYPE_SUITE' 'NAME_INCOME_TYPE'\n",
      " 'NAME_EDUCATION_TYPE' 'NAME_FAMILY_STATUS' 'NAME_HOUSING_TYPE'\n",
      " 'REGION_POPULATION_RELATIVE' 'DAYS_BIRTH' 'DAYS_EMPLOYED'\n",
      " 'DAYS_REGISTRATION' 'DAYS_ID_PUBLISH' 'OWN_CAR_AGE' 'FLAG_MOBIL'\n",
      " 'FLAG_EMP_PHONE' 'FLAG_WORK_PHONE' 'FLAG_CONT_MOBILE' 'FLAG_PHONE'\n",
      " 'FLAG_EMAIL' 'OCCUPATION_TYPE' 'CNT_FAM_MEMBERS' 'REGION_RATING_CLIENT'\n",
      " 'REGION_RATING_CLIENT_W_CITY' 'WEEKDAY_APPR_PROCESS_START'\n",
      " 'HOUR_APPR_PROCESS_START' 'REG_REGION_NOT_LIVE_REGION'\n",
      " 'REG_REGION_NOT_WORK_REGION' 'LIVE_REGION_NOT_WORK_REGION'\n",
      " 'REG_CITY_NOT_LIVE_CITY' 'REG_CITY_NOT_WORK_CITY'\n",
      " 'LIVE_CITY_NOT_WORK_CITY' 'ORGANIZATION_TYPE' 'EXT_SOURCE_1'\n",
      " 'EXT_SOURCE_2' 'EXT_SOURCE_3' 'APARTMENTS_AVG' 'BASEMENTAREA_AVG'\n",
      " 'YEARS_BEGINEXPLUATATION_AVG' 'YEARS_BUILD_AVG' 'COMMONAREA_AVG'\n",
      " 'ELEVATORS_AVG' 'ENTRANCES_AVG' 'FLOORSMAX_AVG' 'FLOORSMIN_AVG'\n",
      " 'LANDAREA_AVG' 'LIVINGAPARTMENTS_AVG' 'LIVINGAREA_AVG'\n",
      " 'NONLIVINGAPARTMENTS_AVG' 'NONLIVINGAREA_AVG' 'APARTMENTS_MODE'\n",
      " 'BASEMENTAREA_MODE' 'YEARS_BEGINEXPLUATATION_MODE' 'YEARS_BUILD_MODE'\n",
      " 'COMMONAREA_MODE' 'ELEVATORS_MODE' 'ENTRANCES_MODE' 'FLOORSMAX_MODE'\n",
      " 'FLOORSMIN_MODE' 'LANDAREA_MODE' 'LIVINGAPARTMENTS_MODE' 'LIVINGAREA_MODE'\n",
      " 'NONLIVINGAPARTMENTS_MODE' 'NONLIVINGAREA_MODE' 'APARTMENTS_MEDI'\n",
      " 'BASEMENTAREA_MEDI' 'YEARS_BEGINEXPLUATATION_MEDI' 'YEARS_BUILD_MEDI'\n",
      " 'COMMONAREA_MEDI' 'ELEVATORS_MEDI' 'ENTRANCES_MEDI' 'FLOORSMAX_MEDI'\n",
      " 'FLOORSMIN_MEDI' 'LANDAREA_MEDI' 'LIVINGAPARTMENTS_MEDI' 'LIVINGAREA_MEDI'\n",
      " 'NONLIVINGAPARTMENTS_MEDI' 'NONLIVINGAREA_MEDI' 'FONDKAPREMONT_MODE'\n",
      " 'HOUSETYPE_MODE' 'TOTALAREA_MODE' 'WALLSMATERIAL_MODE'\n",
      " 'EMERGENCYSTATE_MODE' 'OBS_30_CNT_SOCIAL_CIRCLE'\n",
      " 'DEF_30_CNT_SOCIAL_CIRCLE' 'OBS_60_CNT_SOCIAL_CIRCLE'\n",
      " 'DEF_60_CNT_SOCIAL_CIRCLE' 'DAYS_LAST_PHONE_CHANGE' 'FLAG_DOCUMENT_2'\n",
      " 'FLAG_DOCUMENT_3' 'FLAG_DOCUMENT_4' 'FLAG_DOCUMENT_5' 'FLAG_DOCUMENT_6'\n",
      " 'FLAG_DOCUMENT_7' 'FLAG_DOCUMENT_8' 'FLAG_DOCUMENT_9' 'FLAG_DOCUMENT_10'\n",
      " 'FLAG_DOCUMENT_11' 'FLAG_DOCUMENT_12' 'FLAG_DOCUMENT_13'\n",
      " 'FLAG_DOCUMENT_14' 'FLAG_DOCUMENT_15' 'FLAG_DOCUMENT_16'\n",
      " 'FLAG_DOCUMENT_17' 'FLAG_DOCUMENT_18' 'FLAG_DOCUMENT_19'\n",
      " 'FLAG_DOCUMENT_20' 'FLAG_DOCUMENT_21' 'AMT_REQ_CREDIT_BUREAU_HOUR'\n",
      " 'AMT_REQ_CREDIT_BUREAU_DAY' 'AMT_REQ_CREDIT_BUREAU_WEEK'\n",
      " 'AMT_REQ_CREDIT_BUREAU_MON' 'AMT_REQ_CREDIT_BUREAU_QRT'\n",
      " 'AMT_REQ_CREDIT_BUREAU_YEAR'\n",
      " 'installments_DAYS_INSTALMENT_minus_DAYS_ENTRY_PAYMENT_max'\n",
      " 'installments_DAYS_INSTALMENT_minus_DAYS_ENTRY_PAYMENT_min'\n",
      " 'installments_DAYS_INSTALMENT_minus_DAYS_ENTRY_PAYMENT_std'\n",
      " 'installments_DAYS_INSTALMENT_minus_DAYS_ENTRY_PAYMENT_mean'\n",
      " 'installments_DAYS_INSTALMENT_minus_DAYS_ENTRY_PAYMENT_negative_count'\n",
      " 'installments_AMT_PAYMENT_minus_AMT_INSTALMENT_max'\n",
      " 'installments_AMT_PAYMENT_minus_AMT_INSTALMENT_min'\n",
      " 'installments_AMT_PAYMENT_minus_AMT_INSTALMENT_std'\n",
      " 'installments_AMT_PAYMENT_minus_AMT_INSTALMENT_mean'\n",
      " 'installments_AMT_PAYMENT_minus_AMT_INSTALMENT_negative_count'\n",
      " 'installments_AMT_PAYMENT_divide_AMT_INSTALMENT_max'\n",
      " 'installments_AMT_PAYMENT_divide_AMT_INSTALMENT_min'\n",
      " 'installments_AMT_PAYMENT_divide_AMT_INSTALMENT_std'\n",
      " 'installments_AMT_PAYMENT_divide_AMT_INSTALMENT_mean'\n",
      " 'installments_AMT_INSTALMENT_max' 'installments_AMT_INSTALMENT_min'\n",
      " 'installments_AMT_INSTALMENT_std' 'installments_AMT_INSTALMENT_mean'\n",
      " 'installments_DAYS_ENTRY_PAYMENT_max'\n",
      " 'installments_DAYS_ENTRY_PAYMENT_min'\n",
      " 'installments_DAYS_ENTRY_PAYMENT_std'\n",
      " 'installments_DAYS_ENTRY_PAYMENT_mean' 'installments_AMT_PAYMENT_max'\n",
      " 'installments_AMT_PAYMENT_min' 'installments_AMT_PAYMENT_std'\n",
      " 'installments_AMT_PAYMENT_mean' 'installments_late_days_max'\n",
      " 'installments_late_days_min' 'installments_late_days_std'\n",
      " 'installments_late_days_mean' 'installments_DAYS_INSTALMENT_max'\n",
      " 'installments_DAYS_INSTALMENT_min' 'installments_DAYS_INSTALMENT_std'\n",
      " 'installments_DAYS_INSTALMENT_mean' 'installments_score_max'\n",
      " 'installments_score_min' 'installments_score_std'\n",
      " 'installments_score_mean' 'prev_AMT_APPLICATION_divide_AMT_CREDIT_max'\n",
      " 'prev_AMT_APPLICATION_divide_AMT_CREDIT_min'\n",
      " 'prev_AMT_APPLICATION_divide_AMT_CREDIT_std'\n",
      " 'prev_AMT_APPLICATION_divide_AMT_CREDIT_mean'\n",
      " 'prev_AMT_APPLICATION_divide_AMT_CREDIT_positive_count'\n",
      " 'prev_AMT_ANNUITY_max' 'prev_AMT_ANNUITY_min' 'prev_AMT_ANNUITY_std'\n",
      " 'prev_AMT_ANNUITY_mean' 'prev_AMT_APPLICATION_max'\n",
      " 'prev_AMT_APPLICATION_min' 'prev_AMT_APPLICATION_std'\n",
      " 'prev_AMT_APPLICATION_mean' 'prev_AMT_CREDIT_max' 'prev_AMT_CREDIT_min'\n",
      " 'prev_AMT_CREDIT_std' 'prev_AMT_CREDIT_mean' 'prev_AMT_DOWN_PAYMENT_max'\n",
      " 'prev_AMT_DOWN_PAYMENT_min' 'prev_AMT_DOWN_PAYMENT_std'\n",
      " 'prev_AMT_DOWN_PAYMENT_mean' 'prev_AMT_GOODS_PRICE_max'\n",
      " 'prev_AMT_GOODS_PRICE_min' 'prev_AMT_GOODS_PRICE_std'\n",
      " 'prev_AMT_GOODS_PRICE_mean' 'prev_HOUR_APPR_PROCESS_START_max'\n",
      " 'prev_HOUR_APPR_PROCESS_START_min' 'prev_HOUR_APPR_PROCESS_START_std'\n",
      " 'prev_HOUR_APPR_PROCESS_START_mean' 'prev_RATE_DOWN_PAYMENT_max'\n",
      " 'prev_RATE_DOWN_PAYMENT_min' 'prev_RATE_DOWN_PAYMENT_std'\n",
      " 'prev_RATE_DOWN_PAYMENT_mean' 'prev_DAYS_DECISION_max'\n",
      " 'prev_DAYS_DECISION_min' 'prev_DAYS_DECISION_std'\n",
      " 'prev_DAYS_DECISION_mean' 'prev_CNT_PAYMENT_max' 'prev_CNT_PAYMENT_min'\n",
      " 'prev_CNT_PAYMENT_std' 'prev_CNT_PAYMENT_mean'\n",
      " 'prev_DAYS_FIRST_DRAWING_max' 'prev_DAYS_FIRST_DRAWING_min'\n",
      " 'prev_DAYS_FIRST_DRAWING_std' 'prev_DAYS_FIRST_DRAWING_mean'\n",
      " 'prev_DAYS_FIRST_DUE_max' 'prev_DAYS_FIRST_DUE_min'\n",
      " 'prev_DAYS_FIRST_DUE_std' 'prev_DAYS_FIRST_DUE_mean'\n",
      " 'prev_DAYS_LAST_DUE_1ST_VERSION_max' 'prev_DAYS_LAST_DUE_1ST_VERSION_min'\n",
      " 'prev_DAYS_LAST_DUE_1ST_VERSION_std' 'prev_DAYS_LAST_DUE_1ST_VERSION_mean'\n",
      " 'prev_DAYS_LAST_DUE_max' 'prev_DAYS_LAST_DUE_min' 'prev_DAYS_LAST_DUE_std'\n",
      " 'prev_DAYS_LAST_DUE_mean' 'prev_DAYS_TERMINATION_max'\n",
      " 'prev_DAYS_TERMINATION_min' 'prev_DAYS_TERMINATION_std'\n",
      " 'prev_DAYS_TERMINATION_mean'\n",
      " 'prev_AMT_DOWN_PAYMENT_divide_RATE_DOWN_PAYMENT_max'\n",
      " 'prev_AMT_DOWN_PAYMENT_divide_RATE_DOWN_PAYMENT_min'\n",
      " 'prev_AMT_DOWN_PAYMENT_divide_RATE_DOWN_PAYMENT_std'\n",
      " 'prev_AMT_DOWN_PAYMENT_divide_RATE_DOWN_PAYMENT_mean'\n",
      " 'prev_AMT_CREDIT_divide_CNT_PAYMENT_max'\n",
      " 'prev_AMT_CREDIT_divide_CNT_PAYMENT_min'\n",
      " 'prev_AMT_CREDIT_divide_CNT_PAYMENT_std'\n",
      " 'prev_AMT_CREDIT_divide_CNT_PAYMENT_mean'\n",
      " 'prev_DAYS_LAST_DUE_minus_DAYS_FIRST_DUE_max'\n",
      " 'prev_DAYS_LAST_DUE_minus_DAYS_FIRST_DUE_min'\n",
      " 'prev_DAYS_LAST_DUE_minus_DAYS_FIRST_DUE_std'\n",
      " 'prev_DAYS_LAST_DUE_minus_DAYS_FIRST_DUE_mean'\n",
      " 'prev_AMT_APPLICATION_minus_AMT_CREDIT_max'\n",
      " 'prev_AMT_APPLICATION_minus_AMT_CREDIT_min'\n",
      " 'prev_AMT_APPLICATION_minus_AMT_CREDIT_std'\n",
      " 'prev_AMT_APPLICATION_minus_AMT_CREDIT_mean'\n",
      " 'NAME_CONTRACT_TYPE_Cash loans' 'NAME_CONTRACT_TYPE_Consumer loans'\n",
      " 'NAME_CONTRACT_TYPE_Revolving loans' 'NAME_CONTRACT_TYPE_XNA'\n",
      " 'WEEKDAY_APPR_PROCESS_START_FRIDAY' 'WEEKDAY_APPR_PROCESS_START_MONDAY'\n",
      " 'WEEKDAY_APPR_PROCESS_START_SATURDAY' 'WEEKDAY_APPR_PROCESS_START_SUNDAY'\n",
      " 'WEEKDAY_APPR_PROCESS_START_THURSDAY' 'WEEKDAY_APPR_PROCESS_START_TUESDAY'\n",
      " 'WEEKDAY_APPR_PROCESS_START_WEDNESDAY' 'FLAG_LAST_APPL_PER_CONTRACT_N'\n",
      " 'FLAG_LAST_APPL_PER_CONTRACT_Y'\n",
      " 'NAME_CASH_LOAN_PURPOSE_Building a house or an annex'\n",
      " 'NAME_CASH_LOAN_PURPOSE_Business development'\n",
      " 'NAME_CASH_LOAN_PURPOSE_Buying a garage'\n",
      " 'NAME_CASH_LOAN_PURPOSE_Buying a holiday home / land'\n",
      " 'NAME_CASH_LOAN_PURPOSE_Buying a home'\n",
      " 'NAME_CASH_LOAN_PURPOSE_Buying a new car'\n",
      " 'NAME_CASH_LOAN_PURPOSE_Buying a used car'\n",
      " 'NAME_CASH_LOAN_PURPOSE_Car repairs' 'NAME_CASH_LOAN_PURPOSE_Education'\n",
      " 'NAME_CASH_LOAN_PURPOSE_Everyday expenses'\n",
      " 'NAME_CASH_LOAN_PURPOSE_Furniture'\n",
      " 'NAME_CASH_LOAN_PURPOSE_Gasification / water supply'\n",
      " 'NAME_CASH_LOAN_PURPOSE_Hobby' 'NAME_CASH_LOAN_PURPOSE_Journey'\n",
      " 'NAME_CASH_LOAN_PURPOSE_Medicine'\n",
      " 'NAME_CASH_LOAN_PURPOSE_Money for a third person'\n",
      " 'NAME_CASH_LOAN_PURPOSE_Other'\n",
      " 'NAME_CASH_LOAN_PURPOSE_Payments on other loans'\n",
      " 'NAME_CASH_LOAN_PURPOSE_Purchase of electronic equipment'\n",
      " 'NAME_CASH_LOAN_PURPOSE_Refusal to name the goal'\n",
      " 'NAME_CASH_LOAN_PURPOSE_Repairs' 'NAME_CASH_LOAN_PURPOSE_Urgent needs'\n",
      " 'NAME_CASH_LOAN_PURPOSE_Wedding / gift / holiday'\n",
      " 'NAME_CASH_LOAN_PURPOSE_XAP' 'NAME_CASH_LOAN_PURPOSE_XNA'\n",
      " 'NAME_CONTRACT_STATUS_Approved' 'NAME_CONTRACT_STATUS_Canceled'\n",
      " 'NAME_CONTRACT_STATUS_Refused' 'NAME_CONTRACT_STATUS_Unused offer'\n",
      " 'NAME_PAYMENT_TYPE_Cash through the bank'\n",
      " 'NAME_PAYMENT_TYPE_Cashless from the account of the employer'\n",
      " 'NAME_PAYMENT_TYPE_Non-cash from your account' 'NAME_PAYMENT_TYPE_XNA'\n",
      " 'CODE_REJECT_REASON_CLIENT' 'CODE_REJECT_REASON_HC'\n",
      " 'CODE_REJECT_REASON_LIMIT' 'CODE_REJECT_REASON_SCO'\n",
      " 'CODE_REJECT_REASON_SCOFR' 'CODE_REJECT_REASON_SYSTEM'\n",
      " 'CODE_REJECT_REASON_VERIF' 'CODE_REJECT_REASON_XAP'\n",
      " 'CODE_REJECT_REASON_XNA' 'NAME_TYPE_SUITE_Children'\n",
      " 'NAME_TYPE_SUITE_Family' 'NAME_TYPE_SUITE_Group of people'\n",
      " 'NAME_TYPE_SUITE_Other_A' 'NAME_TYPE_SUITE_Other_B'\n",
      " 'NAME_TYPE_SUITE_Spouse, partner' 'NAME_TYPE_SUITE_Unaccompanied'\n",
      " 'NAME_CLIENT_TYPE_New' 'NAME_CLIENT_TYPE_Refreshed'\n",
      " 'NAME_CLIENT_TYPE_Repeater' 'NAME_CLIENT_TYPE_XNA'\n",
      " 'NAME_GOODS_CATEGORY_Additional Service' 'NAME_GOODS_CATEGORY_Animals'\n",
      " 'NAME_GOODS_CATEGORY_Audio/Video' 'NAME_GOODS_CATEGORY_Auto Accessories'\n",
      " 'NAME_GOODS_CATEGORY_Clothing and Accessories'\n",
      " 'NAME_GOODS_CATEGORY_Computers'\n",
      " 'NAME_GOODS_CATEGORY_Construction Materials'\n",
      " 'NAME_GOODS_CATEGORY_Consumer Electronics'\n",
      " 'NAME_GOODS_CATEGORY_Direct Sales' 'NAME_GOODS_CATEGORY_Education'\n",
      " 'NAME_GOODS_CATEGORY_Fitness' 'NAME_GOODS_CATEGORY_Furniture'\n",
      " 'NAME_GOODS_CATEGORY_Gardening' 'NAME_GOODS_CATEGORY_Homewares'\n",
      " 'NAME_GOODS_CATEGORY_House Construction' 'NAME_GOODS_CATEGORY_Insurance'\n",
      " 'NAME_GOODS_CATEGORY_Jewelry' 'NAME_GOODS_CATEGORY_Medical Supplies'\n",
      " 'NAME_GOODS_CATEGORY_Medicine' 'NAME_GOODS_CATEGORY_Mobile'\n",
      " 'NAME_GOODS_CATEGORY_Office Appliances' 'NAME_GOODS_CATEGORY_Other'\n",
      " 'NAME_GOODS_CATEGORY_Photo / Cinema Equipment'\n",
      " 'NAME_GOODS_CATEGORY_Sport and Leisure' 'NAME_GOODS_CATEGORY_Tourism'\n",
      " 'NAME_GOODS_CATEGORY_Vehicles' 'NAME_GOODS_CATEGORY_Weapon'\n",
      " 'NAME_GOODS_CATEGORY_XNA' 'NAME_PORTFOLIO_Cards' 'NAME_PORTFOLIO_Cars'\n",
      " 'NAME_PORTFOLIO_Cash' 'NAME_PORTFOLIO_POS' 'NAME_PORTFOLIO_XNA'\n",
      " 'NAME_PRODUCT_TYPE_XNA' 'NAME_PRODUCT_TYPE_walk-in'\n",
      " 'NAME_PRODUCT_TYPE_x-sell' 'CHANNEL_TYPE_AP+ (Cash loan)'\n",
      " 'CHANNEL_TYPE_Car dealer' 'CHANNEL_TYPE_Channel of corporate sales'\n",
      " 'CHANNEL_TYPE_Contact center' 'CHANNEL_TYPE_Country-wide'\n",
      " 'CHANNEL_TYPE_Credit and cash offices' 'CHANNEL_TYPE_Regional / Local'\n",
      " 'CHANNEL_TYPE_Stone' 'NAME_SELLER_INDUSTRY_Auto technology'\n",
      " 'NAME_SELLER_INDUSTRY_Clothing' 'NAME_SELLER_INDUSTRY_Connectivity'\n",
      " 'NAME_SELLER_INDUSTRY_Construction'\n",
      " 'NAME_SELLER_INDUSTRY_Consumer electronics'\n",
      " 'NAME_SELLER_INDUSTRY_Furniture' 'NAME_SELLER_INDUSTRY_Industry'\n",
      " 'NAME_SELLER_INDUSTRY_Jewelry' 'NAME_SELLER_INDUSTRY_MLM partners'\n",
      " 'NAME_SELLER_INDUSTRY_Tourism' 'NAME_SELLER_INDUSTRY_XNA'\n",
      " 'NAME_YIELD_GROUP_XNA' 'NAME_YIELD_GROUP_high'\n",
      " 'NAME_YIELD_GROUP_low_action' 'NAME_YIELD_GROUP_low_normal'\n",
      " 'NAME_YIELD_GROUP_middle' 'PRODUCT_COMBINATION_Card Street'\n",
      " 'PRODUCT_COMBINATION_Card X-Sell' 'PRODUCT_COMBINATION_Cash'\n",
      " 'PRODUCT_COMBINATION_Cash Street: high'\n",
      " 'PRODUCT_COMBINATION_Cash Street: low'\n",
      " 'PRODUCT_COMBINATION_Cash Street: middle'\n",
      " 'PRODUCT_COMBINATION_Cash X-Sell: high'\n",
      " 'PRODUCT_COMBINATION_Cash X-Sell: low'\n",
      " 'PRODUCT_COMBINATION_Cash X-Sell: middle'\n",
      " 'PRODUCT_COMBINATION_POS household with interest'\n",
      " 'PRODUCT_COMBINATION_POS household without interest'\n",
      " 'PRODUCT_COMBINATION_POS industry with interest'\n",
      " 'PRODUCT_COMBINATION_POS industry without interest'\n",
      " 'PRODUCT_COMBINATION_POS mobile with interest'\n",
      " 'PRODUCT_COMBINATION_POS mobile without interest'\n",
      " 'PRODUCT_COMBINATION_POS other with interest'\n",
      " 'PRODUCT_COMBINATION_POS others without interest'\n",
      " 'NFLAG_LAST_APPL_IN_DAY_0' 'NFLAG_LAST_APPL_IN_DAY_1'\n",
      " 'NFLAG_INSURED_ON_APPROVAL_0.0' 'NFLAG_INSURED_ON_APPROVAL_1.0'\n",
      " 'credit_card_SK_DPD_max' 'credit_card_SK_DPD_min' 'credit_card_SK_DPD_std'\n",
      " 'credit_card_SK_DPD_mean' 'credit_card_SK_DPD_positive_count'\n",
      " 'credit_card_SK_DPD_DEF_max' 'credit_card_SK_DPD_DEF_min'\n",
      " 'credit_card_SK_DPD_DEF_std' 'credit_card_SK_DPD_DEF_mean'\n",
      " 'credit_card_SK_DPD_DEF_positive_count' 'credit_card_AMT_BALANCE_max'\n",
      " 'credit_card_AMT_BALANCE_min' 'credit_card_AMT_BALANCE_std'\n",
      " 'credit_card_AMT_BALANCE_mean' 'credit_card_AMT_BALANCE_positive_count'\n",
      " 'credit_card_AMT_BALANCE_negative_count'\n",
      " 'credit_card_AMT_CREDIT_LIMIT_ACTUAL_max'\n",
      " 'credit_card_AMT_CREDIT_LIMIT_ACTUAL_min'\n",
      " 'credit_card_AMT_CREDIT_LIMIT_ACTUAL_std'\n",
      " 'credit_card_AMT_CREDIT_LIMIT_ACTUAL_mean'\n",
      " 'credit_card_AMT_DRAWINGS_ATM_CURRENT_max'\n",
      " 'credit_card_AMT_DRAWINGS_ATM_CURRENT_min'\n",
      " 'credit_card_AMT_DRAWINGS_ATM_CURRENT_std'\n",
      " 'credit_card_AMT_DRAWINGS_ATM_CURRENT_mean'\n",
      " 'credit_card_AMT_DRAWINGS_CURRENT_max'\n",
      " 'credit_card_AMT_DRAWINGS_CURRENT_min'\n",
      " 'credit_card_AMT_DRAWINGS_CURRENT_std'\n",
      " 'credit_card_AMT_DRAWINGS_CURRENT_mean'\n",
      " 'credit_card_AMT_DRAWINGS_OTHER_CURRENT_max'\n",
      " 'credit_card_AMT_DRAWINGS_OTHER_CURRENT_min'\n",
      " 'credit_card_AMT_DRAWINGS_OTHER_CURRENT_std'\n",
      " 'credit_card_AMT_DRAWINGS_OTHER_CURRENT_mean'\n",
      " 'credit_card_AMT_DRAWINGS_POS_CURRENT_max'\n",
      " 'credit_card_AMT_DRAWINGS_POS_CURRENT_min'\n",
      " 'credit_card_AMT_DRAWINGS_POS_CURRENT_std'\n",
      " 'credit_card_AMT_DRAWINGS_POS_CURRENT_mean'\n",
      " 'credit_card_AMT_INST_MIN_REGULARITY_max'\n",
      " 'credit_card_AMT_INST_MIN_REGULARITY_min'\n",
      " 'credit_card_AMT_INST_MIN_REGULARITY_std'\n",
      " 'credit_card_AMT_INST_MIN_REGULARITY_mean'\n",
      " 'credit_card_AMT_PAYMENT_CURRENT_max'\n",
      " 'credit_card_AMT_PAYMENT_CURRENT_min'\n",
      " 'credit_card_AMT_PAYMENT_CURRENT_std'\n",
      " 'credit_card_AMT_PAYMENT_CURRENT_mean'\n",
      " 'credit_card_AMT_PAYMENT_TOTAL_CURRENT_max'\n",
      " 'credit_card_AMT_PAYMENT_TOTAL_CURRENT_min'\n",
      " 'credit_card_AMT_PAYMENT_TOTAL_CURRENT_std'\n",
      " 'credit_card_AMT_PAYMENT_TOTAL_CURRENT_mean'\n",
      " 'credit_card_AMT_RECEIVABLE_PRINCIPAL_max'\n",
      " 'credit_card_AMT_RECEIVABLE_PRINCIPAL_min'\n",
      " 'credit_card_AMT_RECEIVABLE_PRINCIPAL_std'\n",
      " 'credit_card_AMT_RECEIVABLE_PRINCIPAL_mean'\n",
      " 'credit_card_AMT_RECIVABLE_max' 'credit_card_AMT_RECIVABLE_min'\n",
      " 'credit_card_AMT_RECIVABLE_std' 'credit_card_AMT_RECIVABLE_mean'\n",
      " 'credit_card_AMT_TOTAL_RECEIVABLE_max'\n",
      " 'credit_card_AMT_TOTAL_RECEIVABLE_min'\n",
      " 'credit_card_AMT_TOTAL_RECEIVABLE_std'\n",
      " 'credit_card_AMT_TOTAL_RECEIVABLE_mean'\n",
      " 'credit_card_CNT_DRAWINGS_ATM_CURRENT_max'\n",
      " 'credit_card_CNT_DRAWINGS_ATM_CURRENT_min'\n",
      " 'credit_card_CNT_DRAWINGS_ATM_CURRENT_std'\n",
      " 'credit_card_CNT_DRAWINGS_ATM_CURRENT_mean'\n",
      " 'credit_card_CNT_DRAWINGS_CURRENT_max'\n",
      " 'credit_card_CNT_DRAWINGS_CURRENT_min'\n",
      " 'credit_card_CNT_DRAWINGS_CURRENT_std'\n",
      " 'credit_card_CNT_DRAWINGS_CURRENT_mean'\n",
      " 'credit_card_CNT_DRAWINGS_OTHER_CURRENT_max'\n",
      " 'credit_card_CNT_DRAWINGS_OTHER_CURRENT_min'\n",
      " 'credit_card_CNT_DRAWINGS_OTHER_CURRENT_std'\n",
      " 'credit_card_CNT_DRAWINGS_OTHER_CURRENT_mean'\n",
      " 'credit_card_CNT_DRAWINGS_POS_CURRENT_max'\n",
      " 'credit_card_CNT_DRAWINGS_POS_CURRENT_min'\n",
      " 'credit_card_CNT_DRAWINGS_POS_CURRENT_std'\n",
      " 'credit_card_CNT_DRAWINGS_POS_CURRENT_mean'\n",
      " 'credit_card_CNT_INSTALMENT_MATURE_CUM_max'\n",
      " 'credit_card_CNT_INSTALMENT_MATURE_CUM_min'\n",
      " 'credit_card_CNT_INSTALMENT_MATURE_CUM_std'\n",
      " 'credit_card_CNT_INSTALMENT_MATURE_CUM_mean'\n",
      " 'credit_card_AMT_CREDIT_LIMIT_ACTUAL_minus_AMT_BALANCE_max'\n",
      " 'credit_card_AMT_CREDIT_LIMIT_ACTUAL_minus_AMT_BALANCE_min'\n",
      " 'credit_card_AMT_CREDIT_LIMIT_ACTUAL_minus_AMT_BALANCE_std'\n",
      " 'credit_card_AMT_CREDIT_LIMIT_ACTUAL_minus_AMT_BALANCE_mean'\n",
      " 'credit_card_AMT_DRAWINGS_ATM_CURRENT_divide_AMT_DRAWINGS_CURRENT_max'\n",
      " 'credit_card_AMT_DRAWINGS_ATM_CURRENT_divide_AMT_DRAWINGS_CURRENT_min'\n",
      " 'credit_card_AMT_DRAWINGS_ATM_CURRENT_divide_AMT_DRAWINGS_CURRENT_std'\n",
      " 'credit_card_AMT_DRAWINGS_ATM_CURRENT_divide_AMT_DRAWINGS_CURRENT_mean'\n",
      " 'credit_card_AMT_DRAWINGS_POS_CURRENT_divide_AMT_DRAWINGS_CURRENT_max'\n",
      " 'credit_card_AMT_DRAWINGS_POS_CURRENT_divide_AMT_DRAWINGS_CURRENT_min'\n",
      " 'credit_card_AMT_DRAWINGS_POS_CURRENT_divide_AMT_DRAWINGS_CURRENT_std'\n",
      " 'credit_card_AMT_DRAWINGS_POS_CURRENT_divide_AMT_DRAWINGS_CURRENT_mean'\n",
      " 'credit_card_AMT_DRAWINGS_OTHER_CURRENT_divide_AMT_DRAWINGS_CURRENT_max'\n",
      " 'credit_card_AMT_DRAWINGS_OTHER_CURRENT_divide_AMT_DRAWINGS_CURRENT_min'\n",
      " 'credit_card_AMT_DRAWINGS_OTHER_CURRENT_divide_AMT_DRAWINGS_CURRENT_std'\n",
      " 'credit_card_AMT_DRAWINGS_OTHER_CURRENT_divide_AMT_DRAWINGS_CURRENT_mean'\n",
      " 'credit_card_CNT_DRAWINGS_ATM_CURRENT_divide_CNT_DRAWINGS_CURRENT_max'\n",
      " 'credit_card_CNT_DRAWINGS_ATM_CURRENT_divide_CNT_DRAWINGS_CURRENT_min'\n",
      " 'credit_card_CNT_DRAWINGS_ATM_CURRENT_divide_CNT_DRAWINGS_CURRENT_std'\n",
      " 'credit_card_CNT_DRAWINGS_ATM_CURRENT_divide_CNT_DRAWINGS_CURRENT_mean'\n",
      " 'credit_card_CNT_DRAWINGS_OTHER_CURRENT_divide_CNT_DRAWINGS_CURRENT_max'\n",
      " 'credit_card_CNT_DRAWINGS_OTHER_CURRENT_divide_CNT_DRAWINGS_CURRENT_min'\n",
      " 'credit_card_CNT_DRAWINGS_OTHER_CURRENT_divide_CNT_DRAWINGS_CURRENT_std'\n",
      " 'credit_card_CNT_DRAWINGS_OTHER_CURRENT_divide_CNT_DRAWINGS_CURRENT_mean'\n",
      " 'credit_card_CNT_DRAWINGS_POS_CURRENT_divide_CNT_DRAWINGS_CURRENT_max'\n",
      " 'credit_card_CNT_DRAWINGS_POS_CURRENT_divide_CNT_DRAWINGS_CURRENT_min'\n",
      " 'credit_card_CNT_DRAWINGS_POS_CURRENT_divide_CNT_DRAWINGS_CURRENT_std'\n",
      " 'credit_card_CNT_DRAWINGS_POS_CURRENT_divide_CNT_DRAWINGS_CURRENT_mean'\n",
      " 'credit_card_AMT_DRAWINGS_ATM_CURRENT_divide_CNT_DRAWINGS_ATM_CURRENT_max'\n",
      " 'credit_card_AMT_DRAWINGS_ATM_CURRENT_divide_CNT_DRAWINGS_ATM_CURRENT_min'\n",
      " 'credit_card_AMT_DRAWINGS_ATM_CURRENT_divide_CNT_DRAWINGS_ATM_CURRENT_std'\n",
      " 'credit_card_AMT_DRAWINGS_ATM_CURRENT_divide_CNT_DRAWINGS_ATM_CURRENT_mean'\n",
      " 'credit_card_AMT_DRAWINGS_POS_CURRENT_divide_CNT_DRAWINGS_POS_CURRENT_max'\n",
      " 'credit_card_AMT_DRAWINGS_POS_CURRENT_divide_CNT_DRAWINGS_POS_CURRENT_min'\n",
      " 'credit_card_AMT_DRAWINGS_POS_CURRENT_divide_CNT_DRAWINGS_POS_CURRENT_std'\n",
      " 'credit_card_AMT_DRAWINGS_POS_CURRENT_divide_CNT_DRAWINGS_POS_CURRENT_mean'\n",
      " 'credit_card_AMT_DRAWINGS_OTHER_CURRENT_divide_CNT_DRAWINGS_OTHER_CURRENT_max'\n",
      " 'credit_card_AMT_DRAWINGS_OTHER_CURRENT_divide_CNT_DRAWINGS_OTHER_CURRENT_min'\n",
      " 'credit_card_AMT_DRAWINGS_OTHER_CURRENT_divide_CNT_DRAWINGS_OTHER_CURRENT_std'\n",
      " 'credit_card_AMT_DRAWINGS_OTHER_CURRENT_divide_CNT_DRAWINGS_OTHER_CURRENT_mean'\n",
      " 'credit_card_AMT_DRAWINGS_CURRENT_divide_CNT_DRAWINGS_CURRENT_max'\n",
      " 'credit_card_AMT_DRAWINGS_CURRENT_divide_CNT_DRAWINGS_CURRENT_min'\n",
      " 'credit_card_AMT_DRAWINGS_CURRENT_divide_CNT_DRAWINGS_CURRENT_std'\n",
      " 'credit_card_AMT_DRAWINGS_CURRENT_divide_CNT_DRAWINGS_CURRENT_mean'\n",
      " 'credit_card_score_DPD_max' 'credit_card_score_DPD_min'\n",
      " 'credit_card_score_DPD_std' 'credit_card_score_DPD_mean'\n",
      " 'credit_card_MONTHS_BALANCE_sum' 'credit_card_MONTHS_BALANCE_min'\n",
      " 'credit_card_MONTHS_BALANCE_max']\n"
     ]
    }
   ],
   "source": [
    "\n",
    "print(train.shape, test.shape, train.columns.values)\n",
    "# PATH = '/home/kai/data/kaggle/homecredit/'\n",
    "# train.to_pickle(PATH + 'train_with_credit.pkl')\n",
    "# test.to_pickle(PATH + 'test_with_credit.pkl')"
   ]
  },
  {
   "cell_type": "markdown",
   "metadata": {},
   "source": [
    "# POS_CASH balance"
   ]
  },
  {
   "cell_type": "code",
   "execution_count": 34,
   "metadata": {
    "ExecuteTime": {
     "end_time": "2018-06-19T19:19:52.894646Z",
     "start_time": "2018-06-19T19:19:52.632962Z"
    },
    "collapsed": true
   },
   "outputs": [],
   "source": [
    "# PATH = '/home/kai/data/kaggle/homecredit/'\n",
    "# train = pd.read_csv(PATH + 'application_train.csv')\n",
    "# print('train')\n",
    "# test = pd.read_csv(PATH + 'application_test.csv')\n",
    "# print('test')\n",
    "pos = POS_CASH_balance.copy()"
   ]
  },
  {
   "cell_type": "code",
   "execution_count": 35,
   "metadata": {
    "ExecuteTime": {
     "end_time": "2018-06-19T19:19:55.204288Z",
     "start_time": "2018-06-19T19:19:54.971520Z"
    }
   },
   "outputs": [
    {
     "data": {
      "text/plain": [
       "array(['SK_ID_PREV', 'SK_ID_CURR', 'MONTHS_BALANCE', 'CNT_INSTALMENT',\n",
       "       'CNT_INSTALMENT_FUTURE', 'NAME_CONTRACT_STATUS', 'SK_DPD',\n",
       "       'SK_DPD_DEF', 'CNT_INSTALMENT_minus_CNT_INSTALMENT_FUTURE',\n",
       "       'CNT_INSTALMENT_FUTURE_divide_CNT_INSTALMENT', 'score_DPD'], dtype=object)"
      ]
     },
     "execution_count": 35,
     "metadata": {},
     "output_type": "execute_result"
    }
   ],
   "source": [
    "pos[substraction_name('CNT_INSTALMENT','CNT_INSTALMENT_FUTURE')] = \\\n",
    "substraction(pos, 'CNT_INSTALMENT','CNT_INSTALMENT_FUTURE')\n",
    "\n",
    "pos[ratio_name('CNT_INSTALMENT_FUTURE','CNT_INSTALMENT')]\\\n",
    "= ratio(pos,'CNT_INSTALMENT_FUTURE','CNT_INSTALMENT')\n",
    "\n",
    "pos['score_DPD'] = (pos['SK_DPD']**3 + 5* pos['SK_DPD_DEF']**3 + 1) * (1/(1 + abs(pos['MONTHS_BALANCE']) ))\n",
    "\n",
    "pos.columns.values"
   ]
  },
  {
   "cell_type": "code",
   "execution_count": 36,
   "metadata": {
    "ExecuteTime": {
     "end_time": "2018-06-19T19:23:34.983251Z",
     "start_time": "2018-06-19T19:19:57.470717Z"
    }
   },
   "outputs": [
    {
     "name": "stdout",
     "output_type": "stream",
     "text": [
      "CNT_INSTALMENT\n",
      "CNT_INSTALMENT_FUTURE\n",
      "SK_DPD\n",
      "SK_DPD_DEF\n",
      "CNT_INSTALMENT_minus_CNT_INSTALMENT_FUTURE\n",
      "CNT_INSTALMENT_FUTURE_divide_CNT_INSTALMENT\n",
      "score_DPD\n"
     ]
    }
   ],
   "source": [
    "gp_col = 'SK_ID_CURR'\n",
    "numerical_cols= ['CNT_INSTALMENT','CNT_INSTALMENT_FUTURE','SK_DPD','SK_DPD_DEF',\\\n",
    "                 'CNT_INSTALMENT_minus_CNT_INSTALMENT_FUTURE','CNT_INSTALMENT_FUTURE_divide_CNT_INSTALMENT','score_DPD']\n",
    "\n",
    "extrafunc_list = [None,None,['positive_count'],['positive_count'],None,None, None]\n",
    "\n",
    "for i in range(len(numerical_cols)):\n",
    "    print(numerical_cols[i])\n",
    "    test = test.merge(numerical_agg(pos, gp_col, numerical_cols[i], 'POS_CASH_balance', extrafunc_list = extrafunc_list[i]), on = 'SK_ID_CURR', how='left')\n",
    "    train = train.merge(numerical_agg(pos, gp_col, numerical_cols[i], 'POS_CASH_balance', extrafunc_list = extrafunc_list[i]), on = 'SK_ID_CURR', how='left')"
   ]
  },
  {
   "cell_type": "markdown",
   "metadata": {},
   "source": [
    "# POS CASH categorical and month"
   ]
  },
  {
   "cell_type": "code",
   "execution_count": 37,
   "metadata": {
    "ExecuteTime": {
     "end_time": "2018-06-19T19:23:44.548914Z",
     "start_time": "2018-06-19T19:23:37.101794Z"
    }
   },
   "outputs": [
    {
     "name": "stdout",
     "output_type": "stream",
     "text": [
      "NAME_CONTRACT_STATUS\n"
     ]
    }
   ],
   "source": [
    "categorical_cols = ['NAME_CONTRACT_STATUS']        \n",
    "\n",
    "for x in categorical_cols:\n",
    "    print(x)\n",
    "    train = train.merge(split_categorical_feature(pos, 'SK_ID_CURR', x), on='SK_ID_CURR', how='left')\n",
    "    test = test.merge(split_categorical_feature(pos, 'SK_ID_CURR', x), on='SK_ID_CURR', how='left')\n",
    "    gc.collect()\n",
    "    \n",
    "_df = POS_CASH_balance.groupby('SK_ID_CURR').agg({'MONTHS_BALANCE':['sum','min','max']})\n",
    "columns = []\n",
    "\n",
    "for pre in _df.columns.levels[0]:\n",
    "    for middle in _df.columns.levels[1]:\n",
    "        columns.append('%s_%s_%s' %('POS_CASH_balance',pre,middle))\n",
    "_df.columns = columns\n",
    "test = test.merge(_df.reset_index(), on = 'SK_ID_CURR', how='left')\n",
    "train = train.merge(_df.reset_index(), on = 'SK_ID_CURR', how='left')    "
   ]
  },
  {
   "cell_type": "markdown",
   "metadata": {},
   "source": [
    "# Save Pos or Total"
   ]
  },
  {
   "cell_type": "code",
   "execution_count": 38,
   "metadata": {
    "ExecuteTime": {
     "end_time": "2018-06-19T19:23:48.437185Z",
     "start_time": "2018-06-19T19:23:46.292361Z"
    }
   },
   "outputs": [
    {
     "name": "stdout",
     "output_type": "stream",
     "text": [
      "(307511, 557) (48744, 556) ['SK_ID_CURR' 'TARGET' 'NAME_CONTRACT_TYPE' 'CODE_GENDER' 'FLAG_OWN_CAR'\n",
      " 'FLAG_OWN_REALTY' 'CNT_CHILDREN' 'AMT_INCOME_TOTAL' 'AMT_CREDIT'\n",
      " 'AMT_ANNUITY' 'AMT_GOODS_PRICE' 'NAME_TYPE_SUITE' 'NAME_INCOME_TYPE'\n",
      " 'NAME_EDUCATION_TYPE' 'NAME_FAMILY_STATUS' 'NAME_HOUSING_TYPE'\n",
      " 'REGION_POPULATION_RELATIVE' 'DAYS_BIRTH' 'DAYS_EMPLOYED'\n",
      " 'DAYS_REGISTRATION' 'DAYS_ID_PUBLISH' 'OWN_CAR_AGE' 'FLAG_MOBIL'\n",
      " 'FLAG_EMP_PHONE' 'FLAG_WORK_PHONE' 'FLAG_CONT_MOBILE' 'FLAG_PHONE'\n",
      " 'FLAG_EMAIL' 'OCCUPATION_TYPE' 'CNT_FAM_MEMBERS' 'REGION_RATING_CLIENT'\n",
      " 'REGION_RATING_CLIENT_W_CITY' 'WEEKDAY_APPR_PROCESS_START'\n",
      " 'HOUR_APPR_PROCESS_START' 'REG_REGION_NOT_LIVE_REGION'\n",
      " 'REG_REGION_NOT_WORK_REGION' 'LIVE_REGION_NOT_WORK_REGION'\n",
      " 'REG_CITY_NOT_LIVE_CITY' 'REG_CITY_NOT_WORK_CITY'\n",
      " 'LIVE_CITY_NOT_WORK_CITY' 'ORGANIZATION_TYPE' 'EXT_SOURCE_1'\n",
      " 'EXT_SOURCE_2' 'EXT_SOURCE_3' 'APARTMENTS_AVG' 'BASEMENTAREA_AVG'\n",
      " 'YEARS_BEGINEXPLUATATION_AVG' 'YEARS_BUILD_AVG' 'COMMONAREA_AVG'\n",
      " 'ELEVATORS_AVG' 'ENTRANCES_AVG' 'FLOORSMAX_AVG' 'FLOORSMIN_AVG'\n",
      " 'LANDAREA_AVG' 'LIVINGAPARTMENTS_AVG' 'LIVINGAREA_AVG'\n",
      " 'NONLIVINGAPARTMENTS_AVG' 'NONLIVINGAREA_AVG' 'APARTMENTS_MODE'\n",
      " 'BASEMENTAREA_MODE' 'YEARS_BEGINEXPLUATATION_MODE' 'YEARS_BUILD_MODE'\n",
      " 'COMMONAREA_MODE' 'ELEVATORS_MODE' 'ENTRANCES_MODE' 'FLOORSMAX_MODE'\n",
      " 'FLOORSMIN_MODE' 'LANDAREA_MODE' 'LIVINGAPARTMENTS_MODE' 'LIVINGAREA_MODE'\n",
      " 'NONLIVINGAPARTMENTS_MODE' 'NONLIVINGAREA_MODE' 'APARTMENTS_MEDI'\n",
      " 'BASEMENTAREA_MEDI' 'YEARS_BEGINEXPLUATATION_MEDI' 'YEARS_BUILD_MEDI'\n",
      " 'COMMONAREA_MEDI' 'ELEVATORS_MEDI' 'ENTRANCES_MEDI' 'FLOORSMAX_MEDI'\n",
      " 'FLOORSMIN_MEDI' 'LANDAREA_MEDI' 'LIVINGAPARTMENTS_MEDI' 'LIVINGAREA_MEDI'\n",
      " 'NONLIVINGAPARTMENTS_MEDI' 'NONLIVINGAREA_MEDI' 'FONDKAPREMONT_MODE'\n",
      " 'HOUSETYPE_MODE' 'TOTALAREA_MODE' 'WALLSMATERIAL_MODE'\n",
      " 'EMERGENCYSTATE_MODE' 'OBS_30_CNT_SOCIAL_CIRCLE'\n",
      " 'DEF_30_CNT_SOCIAL_CIRCLE' 'OBS_60_CNT_SOCIAL_CIRCLE'\n",
      " 'DEF_60_CNT_SOCIAL_CIRCLE' 'DAYS_LAST_PHONE_CHANGE' 'FLAG_DOCUMENT_2'\n",
      " 'FLAG_DOCUMENT_3' 'FLAG_DOCUMENT_4' 'FLAG_DOCUMENT_5' 'FLAG_DOCUMENT_6'\n",
      " 'FLAG_DOCUMENT_7' 'FLAG_DOCUMENT_8' 'FLAG_DOCUMENT_9' 'FLAG_DOCUMENT_10'\n",
      " 'FLAG_DOCUMENT_11' 'FLAG_DOCUMENT_12' 'FLAG_DOCUMENT_13'\n",
      " 'FLAG_DOCUMENT_14' 'FLAG_DOCUMENT_15' 'FLAG_DOCUMENT_16'\n",
      " 'FLAG_DOCUMENT_17' 'FLAG_DOCUMENT_18' 'FLAG_DOCUMENT_19'\n",
      " 'FLAG_DOCUMENT_20' 'FLAG_DOCUMENT_21' 'AMT_REQ_CREDIT_BUREAU_HOUR'\n",
      " 'AMT_REQ_CREDIT_BUREAU_DAY' 'AMT_REQ_CREDIT_BUREAU_WEEK'\n",
      " 'AMT_REQ_CREDIT_BUREAU_MON' 'AMT_REQ_CREDIT_BUREAU_QRT'\n",
      " 'AMT_REQ_CREDIT_BUREAU_YEAR'\n",
      " 'installments_DAYS_INSTALMENT_minus_DAYS_ENTRY_PAYMENT_max'\n",
      " 'installments_DAYS_INSTALMENT_minus_DAYS_ENTRY_PAYMENT_min'\n",
      " 'installments_DAYS_INSTALMENT_minus_DAYS_ENTRY_PAYMENT_std'\n",
      " 'installments_DAYS_INSTALMENT_minus_DAYS_ENTRY_PAYMENT_mean'\n",
      " 'installments_DAYS_INSTALMENT_minus_DAYS_ENTRY_PAYMENT_negative_count'\n",
      " 'installments_AMT_PAYMENT_minus_AMT_INSTALMENT_max'\n",
      " 'installments_AMT_PAYMENT_minus_AMT_INSTALMENT_min'\n",
      " 'installments_AMT_PAYMENT_minus_AMT_INSTALMENT_std'\n",
      " 'installments_AMT_PAYMENT_minus_AMT_INSTALMENT_mean'\n",
      " 'installments_AMT_PAYMENT_minus_AMT_INSTALMENT_negative_count'\n",
      " 'installments_AMT_PAYMENT_divide_AMT_INSTALMENT_max'\n",
      " 'installments_AMT_PAYMENT_divide_AMT_INSTALMENT_min'\n",
      " 'installments_AMT_PAYMENT_divide_AMT_INSTALMENT_std'\n",
      " 'installments_AMT_PAYMENT_divide_AMT_INSTALMENT_mean'\n",
      " 'installments_AMT_INSTALMENT_max' 'installments_AMT_INSTALMENT_min'\n",
      " 'installments_AMT_INSTALMENT_std' 'installments_AMT_INSTALMENT_mean'\n",
      " 'installments_DAYS_ENTRY_PAYMENT_max'\n",
      " 'installments_DAYS_ENTRY_PAYMENT_min'\n",
      " 'installments_DAYS_ENTRY_PAYMENT_std'\n",
      " 'installments_DAYS_ENTRY_PAYMENT_mean' 'installments_AMT_PAYMENT_max'\n",
      " 'installments_AMT_PAYMENT_min' 'installments_AMT_PAYMENT_std'\n",
      " 'installments_AMT_PAYMENT_mean' 'installments_late_days_max'\n",
      " 'installments_late_days_min' 'installments_late_days_std'\n",
      " 'installments_late_days_mean' 'installments_DAYS_INSTALMENT_max'\n",
      " 'installments_DAYS_INSTALMENT_min' 'installments_DAYS_INSTALMENT_std'\n",
      " 'installments_DAYS_INSTALMENT_mean' 'installments_score_max'\n",
      " 'installments_score_min' 'installments_score_std'\n",
      " 'installments_score_mean' 'prev_AMT_APPLICATION_divide_AMT_CREDIT_max'\n",
      " 'prev_AMT_APPLICATION_divide_AMT_CREDIT_min'\n",
      " 'prev_AMT_APPLICATION_divide_AMT_CREDIT_std'\n",
      " 'prev_AMT_APPLICATION_divide_AMT_CREDIT_mean'\n",
      " 'prev_AMT_APPLICATION_divide_AMT_CREDIT_positive_count'\n",
      " 'prev_AMT_ANNUITY_max' 'prev_AMT_ANNUITY_min' 'prev_AMT_ANNUITY_std'\n",
      " 'prev_AMT_ANNUITY_mean' 'prev_AMT_APPLICATION_max'\n",
      " 'prev_AMT_APPLICATION_min' 'prev_AMT_APPLICATION_std'\n",
      " 'prev_AMT_APPLICATION_mean' 'prev_AMT_CREDIT_max' 'prev_AMT_CREDIT_min'\n",
      " 'prev_AMT_CREDIT_std' 'prev_AMT_CREDIT_mean' 'prev_AMT_DOWN_PAYMENT_max'\n",
      " 'prev_AMT_DOWN_PAYMENT_min' 'prev_AMT_DOWN_PAYMENT_std'\n",
      " 'prev_AMT_DOWN_PAYMENT_mean' 'prev_AMT_GOODS_PRICE_max'\n",
      " 'prev_AMT_GOODS_PRICE_min' 'prev_AMT_GOODS_PRICE_std'\n",
      " 'prev_AMT_GOODS_PRICE_mean' 'prev_HOUR_APPR_PROCESS_START_max'\n",
      " 'prev_HOUR_APPR_PROCESS_START_min' 'prev_HOUR_APPR_PROCESS_START_std'\n",
      " 'prev_HOUR_APPR_PROCESS_START_mean' 'prev_RATE_DOWN_PAYMENT_max'\n",
      " 'prev_RATE_DOWN_PAYMENT_min' 'prev_RATE_DOWN_PAYMENT_std'\n",
      " 'prev_RATE_DOWN_PAYMENT_mean' 'prev_DAYS_DECISION_max'\n",
      " 'prev_DAYS_DECISION_min' 'prev_DAYS_DECISION_std'\n",
      " 'prev_DAYS_DECISION_mean' 'prev_CNT_PAYMENT_max' 'prev_CNT_PAYMENT_min'\n",
      " 'prev_CNT_PAYMENT_std' 'prev_CNT_PAYMENT_mean'\n",
      " 'prev_DAYS_FIRST_DRAWING_max' 'prev_DAYS_FIRST_DRAWING_min'\n",
      " 'prev_DAYS_FIRST_DRAWING_std' 'prev_DAYS_FIRST_DRAWING_mean'\n",
      " 'prev_DAYS_FIRST_DUE_max' 'prev_DAYS_FIRST_DUE_min'\n",
      " 'prev_DAYS_FIRST_DUE_std' 'prev_DAYS_FIRST_DUE_mean'\n",
      " 'prev_DAYS_LAST_DUE_1ST_VERSION_max' 'prev_DAYS_LAST_DUE_1ST_VERSION_min'\n",
      " 'prev_DAYS_LAST_DUE_1ST_VERSION_std' 'prev_DAYS_LAST_DUE_1ST_VERSION_mean'\n",
      " 'prev_DAYS_LAST_DUE_max' 'prev_DAYS_LAST_DUE_min' 'prev_DAYS_LAST_DUE_std'\n",
      " 'prev_DAYS_LAST_DUE_mean' 'prev_DAYS_TERMINATION_max'\n",
      " 'prev_DAYS_TERMINATION_min' 'prev_DAYS_TERMINATION_std'\n",
      " 'prev_DAYS_TERMINATION_mean'\n",
      " 'prev_AMT_DOWN_PAYMENT_divide_RATE_DOWN_PAYMENT_max'\n",
      " 'prev_AMT_DOWN_PAYMENT_divide_RATE_DOWN_PAYMENT_min'\n",
      " 'prev_AMT_DOWN_PAYMENT_divide_RATE_DOWN_PAYMENT_std'\n",
      " 'prev_AMT_DOWN_PAYMENT_divide_RATE_DOWN_PAYMENT_mean'\n",
      " 'prev_AMT_CREDIT_divide_CNT_PAYMENT_max'\n",
      " 'prev_AMT_CREDIT_divide_CNT_PAYMENT_min'\n",
      " 'prev_AMT_CREDIT_divide_CNT_PAYMENT_std'\n",
      " 'prev_AMT_CREDIT_divide_CNT_PAYMENT_mean'\n",
      " 'prev_DAYS_LAST_DUE_minus_DAYS_FIRST_DUE_max'\n",
      " 'prev_DAYS_LAST_DUE_minus_DAYS_FIRST_DUE_min'\n",
      " 'prev_DAYS_LAST_DUE_minus_DAYS_FIRST_DUE_std'\n",
      " 'prev_DAYS_LAST_DUE_minus_DAYS_FIRST_DUE_mean'\n",
      " 'prev_AMT_APPLICATION_minus_AMT_CREDIT_max'\n",
      " 'prev_AMT_APPLICATION_minus_AMT_CREDIT_min'\n",
      " 'prev_AMT_APPLICATION_minus_AMT_CREDIT_std'\n",
      " 'prev_AMT_APPLICATION_minus_AMT_CREDIT_mean'\n",
      " 'NAME_CONTRACT_TYPE_Cash loans' 'NAME_CONTRACT_TYPE_Consumer loans'\n",
      " 'NAME_CONTRACT_TYPE_Revolving loans' 'NAME_CONTRACT_TYPE_XNA'\n",
      " 'WEEKDAY_APPR_PROCESS_START_FRIDAY' 'WEEKDAY_APPR_PROCESS_START_MONDAY'\n",
      " 'WEEKDAY_APPR_PROCESS_START_SATURDAY' 'WEEKDAY_APPR_PROCESS_START_SUNDAY'\n",
      " 'WEEKDAY_APPR_PROCESS_START_THURSDAY' 'WEEKDAY_APPR_PROCESS_START_TUESDAY'\n",
      " 'WEEKDAY_APPR_PROCESS_START_WEDNESDAY' 'FLAG_LAST_APPL_PER_CONTRACT_N'\n",
      " 'FLAG_LAST_APPL_PER_CONTRACT_Y'\n",
      " 'NAME_CASH_LOAN_PURPOSE_Building a house or an annex'\n",
      " 'NAME_CASH_LOAN_PURPOSE_Business development'\n",
      " 'NAME_CASH_LOAN_PURPOSE_Buying a garage'\n",
      " 'NAME_CASH_LOAN_PURPOSE_Buying a holiday home / land'\n",
      " 'NAME_CASH_LOAN_PURPOSE_Buying a home'\n",
      " 'NAME_CASH_LOAN_PURPOSE_Buying a new car'\n",
      " 'NAME_CASH_LOAN_PURPOSE_Buying a used car'\n",
      " 'NAME_CASH_LOAN_PURPOSE_Car repairs' 'NAME_CASH_LOAN_PURPOSE_Education'\n",
      " 'NAME_CASH_LOAN_PURPOSE_Everyday expenses'\n",
      " 'NAME_CASH_LOAN_PURPOSE_Furniture'\n",
      " 'NAME_CASH_LOAN_PURPOSE_Gasification / water supply'\n",
      " 'NAME_CASH_LOAN_PURPOSE_Hobby' 'NAME_CASH_LOAN_PURPOSE_Journey'\n",
      " 'NAME_CASH_LOAN_PURPOSE_Medicine'\n",
      " 'NAME_CASH_LOAN_PURPOSE_Money for a third person'\n",
      " 'NAME_CASH_LOAN_PURPOSE_Other'\n",
      " 'NAME_CASH_LOAN_PURPOSE_Payments on other loans'\n",
      " 'NAME_CASH_LOAN_PURPOSE_Purchase of electronic equipment'\n",
      " 'NAME_CASH_LOAN_PURPOSE_Refusal to name the goal'\n",
      " 'NAME_CASH_LOAN_PURPOSE_Repairs' 'NAME_CASH_LOAN_PURPOSE_Urgent needs'\n",
      " 'NAME_CASH_LOAN_PURPOSE_Wedding / gift / holiday'\n",
      " 'NAME_CASH_LOAN_PURPOSE_XAP' 'NAME_CASH_LOAN_PURPOSE_XNA'\n",
      " 'NAME_CONTRACT_STATUS_Approved_x' 'NAME_CONTRACT_STATUS_Canceled_x'\n",
      " 'NAME_CONTRACT_STATUS_Refused' 'NAME_CONTRACT_STATUS_Unused offer'\n",
      " 'NAME_PAYMENT_TYPE_Cash through the bank'\n",
      " 'NAME_PAYMENT_TYPE_Cashless from the account of the employer'\n",
      " 'NAME_PAYMENT_TYPE_Non-cash from your account' 'NAME_PAYMENT_TYPE_XNA'\n",
      " 'CODE_REJECT_REASON_CLIENT' 'CODE_REJECT_REASON_HC'\n",
      " 'CODE_REJECT_REASON_LIMIT' 'CODE_REJECT_REASON_SCO'\n",
      " 'CODE_REJECT_REASON_SCOFR' 'CODE_REJECT_REASON_SYSTEM'\n",
      " 'CODE_REJECT_REASON_VERIF' 'CODE_REJECT_REASON_XAP'\n",
      " 'CODE_REJECT_REASON_XNA' 'NAME_TYPE_SUITE_Children'\n",
      " 'NAME_TYPE_SUITE_Family' 'NAME_TYPE_SUITE_Group of people'\n",
      " 'NAME_TYPE_SUITE_Other_A' 'NAME_TYPE_SUITE_Other_B'\n",
      " 'NAME_TYPE_SUITE_Spouse, partner' 'NAME_TYPE_SUITE_Unaccompanied'\n",
      " 'NAME_CLIENT_TYPE_New' 'NAME_CLIENT_TYPE_Refreshed'\n",
      " 'NAME_CLIENT_TYPE_Repeater' 'NAME_CLIENT_TYPE_XNA'\n",
      " 'NAME_GOODS_CATEGORY_Additional Service' 'NAME_GOODS_CATEGORY_Animals'\n",
      " 'NAME_GOODS_CATEGORY_Audio/Video' 'NAME_GOODS_CATEGORY_Auto Accessories'\n",
      " 'NAME_GOODS_CATEGORY_Clothing and Accessories'\n",
      " 'NAME_GOODS_CATEGORY_Computers'\n",
      " 'NAME_GOODS_CATEGORY_Construction Materials'\n",
      " 'NAME_GOODS_CATEGORY_Consumer Electronics'\n",
      " 'NAME_GOODS_CATEGORY_Direct Sales' 'NAME_GOODS_CATEGORY_Education'\n",
      " 'NAME_GOODS_CATEGORY_Fitness' 'NAME_GOODS_CATEGORY_Furniture'\n",
      " 'NAME_GOODS_CATEGORY_Gardening' 'NAME_GOODS_CATEGORY_Homewares'\n",
      " 'NAME_GOODS_CATEGORY_House Construction' 'NAME_GOODS_CATEGORY_Insurance'\n",
      " 'NAME_GOODS_CATEGORY_Jewelry' 'NAME_GOODS_CATEGORY_Medical Supplies'\n",
      " 'NAME_GOODS_CATEGORY_Medicine' 'NAME_GOODS_CATEGORY_Mobile'\n",
      " 'NAME_GOODS_CATEGORY_Office Appliances' 'NAME_GOODS_CATEGORY_Other'\n",
      " 'NAME_GOODS_CATEGORY_Photo / Cinema Equipment'\n",
      " 'NAME_GOODS_CATEGORY_Sport and Leisure' 'NAME_GOODS_CATEGORY_Tourism'\n",
      " 'NAME_GOODS_CATEGORY_Vehicles' 'NAME_GOODS_CATEGORY_Weapon'\n",
      " 'NAME_GOODS_CATEGORY_XNA' 'NAME_PORTFOLIO_Cards' 'NAME_PORTFOLIO_Cars'\n",
      " 'NAME_PORTFOLIO_Cash' 'NAME_PORTFOLIO_POS' 'NAME_PORTFOLIO_XNA'\n",
      " 'NAME_PRODUCT_TYPE_XNA' 'NAME_PRODUCT_TYPE_walk-in'\n",
      " 'NAME_PRODUCT_TYPE_x-sell' 'CHANNEL_TYPE_AP+ (Cash loan)'\n",
      " 'CHANNEL_TYPE_Car dealer' 'CHANNEL_TYPE_Channel of corporate sales'\n",
      " 'CHANNEL_TYPE_Contact center' 'CHANNEL_TYPE_Country-wide'\n",
      " 'CHANNEL_TYPE_Credit and cash offices' 'CHANNEL_TYPE_Regional / Local'\n",
      " 'CHANNEL_TYPE_Stone' 'NAME_SELLER_INDUSTRY_Auto technology'\n",
      " 'NAME_SELLER_INDUSTRY_Clothing' 'NAME_SELLER_INDUSTRY_Connectivity'\n",
      " 'NAME_SELLER_INDUSTRY_Construction'\n",
      " 'NAME_SELLER_INDUSTRY_Consumer electronics'\n",
      " 'NAME_SELLER_INDUSTRY_Furniture' 'NAME_SELLER_INDUSTRY_Industry'\n",
      " 'NAME_SELLER_INDUSTRY_Jewelry' 'NAME_SELLER_INDUSTRY_MLM partners'\n",
      " 'NAME_SELLER_INDUSTRY_Tourism' 'NAME_SELLER_INDUSTRY_XNA'\n",
      " 'NAME_YIELD_GROUP_XNA' 'NAME_YIELD_GROUP_high'\n",
      " 'NAME_YIELD_GROUP_low_action' 'NAME_YIELD_GROUP_low_normal'\n",
      " 'NAME_YIELD_GROUP_middle' 'PRODUCT_COMBINATION_Card Street'\n",
      " 'PRODUCT_COMBINATION_Card X-Sell' 'PRODUCT_COMBINATION_Cash'\n",
      " 'PRODUCT_COMBINATION_Cash Street: high'\n",
      " 'PRODUCT_COMBINATION_Cash Street: low'\n",
      " 'PRODUCT_COMBINATION_Cash Street: middle'\n",
      " 'PRODUCT_COMBINATION_Cash X-Sell: high'\n",
      " 'PRODUCT_COMBINATION_Cash X-Sell: low'\n",
      " 'PRODUCT_COMBINATION_Cash X-Sell: middle'\n",
      " 'PRODUCT_COMBINATION_POS household with interest'\n",
      " 'PRODUCT_COMBINATION_POS household without interest'\n",
      " 'PRODUCT_COMBINATION_POS industry with interest'\n",
      " 'PRODUCT_COMBINATION_POS industry without interest'\n",
      " 'PRODUCT_COMBINATION_POS mobile with interest'\n",
      " 'PRODUCT_COMBINATION_POS mobile without interest'\n",
      " 'PRODUCT_COMBINATION_POS other with interest'\n",
      " 'PRODUCT_COMBINATION_POS others without interest'\n",
      " 'NFLAG_LAST_APPL_IN_DAY_0' 'NFLAG_LAST_APPL_IN_DAY_1'\n",
      " 'NFLAG_INSURED_ON_APPROVAL_0.0' 'NFLAG_INSURED_ON_APPROVAL_1.0'\n",
      " 'credit_card_SK_DPD_max' 'credit_card_SK_DPD_min' 'credit_card_SK_DPD_std'\n",
      " 'credit_card_SK_DPD_mean' 'credit_card_SK_DPD_positive_count'\n",
      " 'credit_card_SK_DPD_DEF_max' 'credit_card_SK_DPD_DEF_min'\n",
      " 'credit_card_SK_DPD_DEF_std' 'credit_card_SK_DPD_DEF_mean'\n",
      " 'credit_card_SK_DPD_DEF_positive_count' 'credit_card_AMT_BALANCE_max'\n",
      " 'credit_card_AMT_BALANCE_min' 'credit_card_AMT_BALANCE_std'\n",
      " 'credit_card_AMT_BALANCE_mean' 'credit_card_AMT_BALANCE_positive_count'\n",
      " 'credit_card_AMT_BALANCE_negative_count'\n",
      " 'credit_card_AMT_CREDIT_LIMIT_ACTUAL_max'\n",
      " 'credit_card_AMT_CREDIT_LIMIT_ACTUAL_min'\n",
      " 'credit_card_AMT_CREDIT_LIMIT_ACTUAL_std'\n",
      " 'credit_card_AMT_CREDIT_LIMIT_ACTUAL_mean'\n",
      " 'credit_card_AMT_DRAWINGS_ATM_CURRENT_max'\n",
      " 'credit_card_AMT_DRAWINGS_ATM_CURRENT_min'\n",
      " 'credit_card_AMT_DRAWINGS_ATM_CURRENT_std'\n",
      " 'credit_card_AMT_DRAWINGS_ATM_CURRENT_mean'\n",
      " 'credit_card_AMT_DRAWINGS_CURRENT_max'\n",
      " 'credit_card_AMT_DRAWINGS_CURRENT_min'\n",
      " 'credit_card_AMT_DRAWINGS_CURRENT_std'\n",
      " 'credit_card_AMT_DRAWINGS_CURRENT_mean'\n",
      " 'credit_card_AMT_DRAWINGS_OTHER_CURRENT_max'\n",
      " 'credit_card_AMT_DRAWINGS_OTHER_CURRENT_min'\n",
      " 'credit_card_AMT_DRAWINGS_OTHER_CURRENT_std'\n",
      " 'credit_card_AMT_DRAWINGS_OTHER_CURRENT_mean'\n",
      " 'credit_card_AMT_DRAWINGS_POS_CURRENT_max'\n",
      " 'credit_card_AMT_DRAWINGS_POS_CURRENT_min'\n",
      " 'credit_card_AMT_DRAWINGS_POS_CURRENT_std'\n",
      " 'credit_card_AMT_DRAWINGS_POS_CURRENT_mean'\n",
      " 'credit_card_AMT_INST_MIN_REGULARITY_max'\n",
      " 'credit_card_AMT_INST_MIN_REGULARITY_min'\n",
      " 'credit_card_AMT_INST_MIN_REGULARITY_std'\n",
      " 'credit_card_AMT_INST_MIN_REGULARITY_mean'\n",
      " 'credit_card_AMT_PAYMENT_CURRENT_max'\n",
      " 'credit_card_AMT_PAYMENT_CURRENT_min'\n",
      " 'credit_card_AMT_PAYMENT_CURRENT_std'\n",
      " 'credit_card_AMT_PAYMENT_CURRENT_mean'\n",
      " 'credit_card_AMT_PAYMENT_TOTAL_CURRENT_max'\n",
      " 'credit_card_AMT_PAYMENT_TOTAL_CURRENT_min'\n",
      " 'credit_card_AMT_PAYMENT_TOTAL_CURRENT_std'\n",
      " 'credit_card_AMT_PAYMENT_TOTAL_CURRENT_mean'\n",
      " 'credit_card_AMT_RECEIVABLE_PRINCIPAL_max'\n",
      " 'credit_card_AMT_RECEIVABLE_PRINCIPAL_min'\n",
      " 'credit_card_AMT_RECEIVABLE_PRINCIPAL_std'\n",
      " 'credit_card_AMT_RECEIVABLE_PRINCIPAL_mean'\n",
      " 'credit_card_AMT_RECIVABLE_max' 'credit_card_AMT_RECIVABLE_min'\n",
      " 'credit_card_AMT_RECIVABLE_std' 'credit_card_AMT_RECIVABLE_mean'\n",
      " 'credit_card_AMT_TOTAL_RECEIVABLE_max'\n",
      " 'credit_card_AMT_TOTAL_RECEIVABLE_min'\n",
      " 'credit_card_AMT_TOTAL_RECEIVABLE_std'\n",
      " 'credit_card_AMT_TOTAL_RECEIVABLE_mean'\n",
      " 'credit_card_CNT_DRAWINGS_ATM_CURRENT_max'\n",
      " 'credit_card_CNT_DRAWINGS_ATM_CURRENT_min'\n",
      " 'credit_card_CNT_DRAWINGS_ATM_CURRENT_std'\n",
      " 'credit_card_CNT_DRAWINGS_ATM_CURRENT_mean'\n",
      " 'credit_card_CNT_DRAWINGS_CURRENT_max'\n",
      " 'credit_card_CNT_DRAWINGS_CURRENT_min'\n",
      " 'credit_card_CNT_DRAWINGS_CURRENT_std'\n",
      " 'credit_card_CNT_DRAWINGS_CURRENT_mean'\n",
      " 'credit_card_CNT_DRAWINGS_OTHER_CURRENT_max'\n",
      " 'credit_card_CNT_DRAWINGS_OTHER_CURRENT_min'\n",
      " 'credit_card_CNT_DRAWINGS_OTHER_CURRENT_std'\n",
      " 'credit_card_CNT_DRAWINGS_OTHER_CURRENT_mean'\n",
      " 'credit_card_CNT_DRAWINGS_POS_CURRENT_max'\n",
      " 'credit_card_CNT_DRAWINGS_POS_CURRENT_min'\n",
      " 'credit_card_CNT_DRAWINGS_POS_CURRENT_std'\n",
      " 'credit_card_CNT_DRAWINGS_POS_CURRENT_mean'\n",
      " 'credit_card_CNT_INSTALMENT_MATURE_CUM_max'\n",
      " 'credit_card_CNT_INSTALMENT_MATURE_CUM_min'\n",
      " 'credit_card_CNT_INSTALMENT_MATURE_CUM_std'\n",
      " 'credit_card_CNT_INSTALMENT_MATURE_CUM_mean'\n",
      " 'credit_card_AMT_CREDIT_LIMIT_ACTUAL_minus_AMT_BALANCE_max'\n",
      " 'credit_card_AMT_CREDIT_LIMIT_ACTUAL_minus_AMT_BALANCE_min'\n",
      " 'credit_card_AMT_CREDIT_LIMIT_ACTUAL_minus_AMT_BALANCE_std'\n",
      " 'credit_card_AMT_CREDIT_LIMIT_ACTUAL_minus_AMT_BALANCE_mean'\n",
      " 'credit_card_AMT_DRAWINGS_ATM_CURRENT_divide_AMT_DRAWINGS_CURRENT_max'\n",
      " 'credit_card_AMT_DRAWINGS_ATM_CURRENT_divide_AMT_DRAWINGS_CURRENT_min'\n",
      " 'credit_card_AMT_DRAWINGS_ATM_CURRENT_divide_AMT_DRAWINGS_CURRENT_std'\n",
      " 'credit_card_AMT_DRAWINGS_ATM_CURRENT_divide_AMT_DRAWINGS_CURRENT_mean'\n",
      " 'credit_card_AMT_DRAWINGS_POS_CURRENT_divide_AMT_DRAWINGS_CURRENT_max'\n",
      " 'credit_card_AMT_DRAWINGS_POS_CURRENT_divide_AMT_DRAWINGS_CURRENT_min'\n",
      " 'credit_card_AMT_DRAWINGS_POS_CURRENT_divide_AMT_DRAWINGS_CURRENT_std'\n",
      " 'credit_card_AMT_DRAWINGS_POS_CURRENT_divide_AMT_DRAWINGS_CURRENT_mean'\n",
      " 'credit_card_AMT_DRAWINGS_OTHER_CURRENT_divide_AMT_DRAWINGS_CURRENT_max'\n",
      " 'credit_card_AMT_DRAWINGS_OTHER_CURRENT_divide_AMT_DRAWINGS_CURRENT_min'\n",
      " 'credit_card_AMT_DRAWINGS_OTHER_CURRENT_divide_AMT_DRAWINGS_CURRENT_std'\n",
      " 'credit_card_AMT_DRAWINGS_OTHER_CURRENT_divide_AMT_DRAWINGS_CURRENT_mean'\n",
      " 'credit_card_CNT_DRAWINGS_ATM_CURRENT_divide_CNT_DRAWINGS_CURRENT_max'\n",
      " 'credit_card_CNT_DRAWINGS_ATM_CURRENT_divide_CNT_DRAWINGS_CURRENT_min'\n",
      " 'credit_card_CNT_DRAWINGS_ATM_CURRENT_divide_CNT_DRAWINGS_CURRENT_std'\n",
      " 'credit_card_CNT_DRAWINGS_ATM_CURRENT_divide_CNT_DRAWINGS_CURRENT_mean'\n",
      " 'credit_card_CNT_DRAWINGS_OTHER_CURRENT_divide_CNT_DRAWINGS_CURRENT_max'\n",
      " 'credit_card_CNT_DRAWINGS_OTHER_CURRENT_divide_CNT_DRAWINGS_CURRENT_min'\n",
      " 'credit_card_CNT_DRAWINGS_OTHER_CURRENT_divide_CNT_DRAWINGS_CURRENT_std'\n",
      " 'credit_card_CNT_DRAWINGS_OTHER_CURRENT_divide_CNT_DRAWINGS_CURRENT_mean'\n",
      " 'credit_card_CNT_DRAWINGS_POS_CURRENT_divide_CNT_DRAWINGS_CURRENT_max'\n",
      " 'credit_card_CNT_DRAWINGS_POS_CURRENT_divide_CNT_DRAWINGS_CURRENT_min'\n",
      " 'credit_card_CNT_DRAWINGS_POS_CURRENT_divide_CNT_DRAWINGS_CURRENT_std'\n",
      " 'credit_card_CNT_DRAWINGS_POS_CURRENT_divide_CNT_DRAWINGS_CURRENT_mean'\n",
      " 'credit_card_AMT_DRAWINGS_ATM_CURRENT_divide_CNT_DRAWINGS_ATM_CURRENT_max'\n",
      " 'credit_card_AMT_DRAWINGS_ATM_CURRENT_divide_CNT_DRAWINGS_ATM_CURRENT_min'\n",
      " 'credit_card_AMT_DRAWINGS_ATM_CURRENT_divide_CNT_DRAWINGS_ATM_CURRENT_std'\n",
      " 'credit_card_AMT_DRAWINGS_ATM_CURRENT_divide_CNT_DRAWINGS_ATM_CURRENT_mean'\n",
      " 'credit_card_AMT_DRAWINGS_POS_CURRENT_divide_CNT_DRAWINGS_POS_CURRENT_max'\n",
      " 'credit_card_AMT_DRAWINGS_POS_CURRENT_divide_CNT_DRAWINGS_POS_CURRENT_min'\n",
      " 'credit_card_AMT_DRAWINGS_POS_CURRENT_divide_CNT_DRAWINGS_POS_CURRENT_std'\n",
      " 'credit_card_AMT_DRAWINGS_POS_CURRENT_divide_CNT_DRAWINGS_POS_CURRENT_mean'\n",
      " 'credit_card_AMT_DRAWINGS_OTHER_CURRENT_divide_CNT_DRAWINGS_OTHER_CURRENT_max'\n",
      " 'credit_card_AMT_DRAWINGS_OTHER_CURRENT_divide_CNT_DRAWINGS_OTHER_CURRENT_min'\n",
      " 'credit_card_AMT_DRAWINGS_OTHER_CURRENT_divide_CNT_DRAWINGS_OTHER_CURRENT_std'\n",
      " 'credit_card_AMT_DRAWINGS_OTHER_CURRENT_divide_CNT_DRAWINGS_OTHER_CURRENT_mean'\n",
      " 'credit_card_AMT_DRAWINGS_CURRENT_divide_CNT_DRAWINGS_CURRENT_max'\n",
      " 'credit_card_AMT_DRAWINGS_CURRENT_divide_CNT_DRAWINGS_CURRENT_min'\n",
      " 'credit_card_AMT_DRAWINGS_CURRENT_divide_CNT_DRAWINGS_CURRENT_std'\n",
      " 'credit_card_AMT_DRAWINGS_CURRENT_divide_CNT_DRAWINGS_CURRENT_mean'\n",
      " 'credit_card_score_DPD_max' 'credit_card_score_DPD_min'\n",
      " 'credit_card_score_DPD_std' 'credit_card_score_DPD_mean'\n",
      " 'credit_card_MONTHS_BALANCE_sum' 'credit_card_MONTHS_BALANCE_min'\n",
      " 'credit_card_MONTHS_BALANCE_max' 'POS_CASH_balance_CNT_INSTALMENT_max'\n",
      " 'POS_CASH_balance_CNT_INSTALMENT_min'\n",
      " 'POS_CASH_balance_CNT_INSTALMENT_std'\n",
      " 'POS_CASH_balance_CNT_INSTALMENT_mean'\n",
      " 'POS_CASH_balance_CNT_INSTALMENT_FUTURE_max'\n",
      " 'POS_CASH_balance_CNT_INSTALMENT_FUTURE_min'\n",
      " 'POS_CASH_balance_CNT_INSTALMENT_FUTURE_std'\n",
      " 'POS_CASH_balance_CNT_INSTALMENT_FUTURE_mean'\n",
      " 'POS_CASH_balance_SK_DPD_max' 'POS_CASH_balance_SK_DPD_min'\n",
      " 'POS_CASH_balance_SK_DPD_std' 'POS_CASH_balance_SK_DPD_mean'\n",
      " 'POS_CASH_balance_SK_DPD_positive_count' 'POS_CASH_balance_SK_DPD_DEF_max'\n",
      " 'POS_CASH_balance_SK_DPD_DEF_min' 'POS_CASH_balance_SK_DPD_DEF_std'\n",
      " 'POS_CASH_balance_SK_DPD_DEF_mean'\n",
      " 'POS_CASH_balance_SK_DPD_DEF_positive_count'\n",
      " 'POS_CASH_balance_CNT_INSTALMENT_minus_CNT_INSTALMENT_FUTURE_max'\n",
      " 'POS_CASH_balance_CNT_INSTALMENT_minus_CNT_INSTALMENT_FUTURE_min'\n",
      " 'POS_CASH_balance_CNT_INSTALMENT_minus_CNT_INSTALMENT_FUTURE_std'\n",
      " 'POS_CASH_balance_CNT_INSTALMENT_minus_CNT_INSTALMENT_FUTURE_mean'\n",
      " 'POS_CASH_balance_CNT_INSTALMENT_FUTURE_divide_CNT_INSTALMENT_max'\n",
      " 'POS_CASH_balance_CNT_INSTALMENT_FUTURE_divide_CNT_INSTALMENT_min'\n",
      " 'POS_CASH_balance_CNT_INSTALMENT_FUTURE_divide_CNT_INSTALMENT_std'\n",
      " 'POS_CASH_balance_CNT_INSTALMENT_FUTURE_divide_CNT_INSTALMENT_mean'\n",
      " 'POS_CASH_balance_score_DPD_max' 'POS_CASH_balance_score_DPD_min'\n",
      " 'POS_CASH_balance_score_DPD_std' 'POS_CASH_balance_score_DPD_mean'\n",
      " 'NAME_CONTRACT_STATUS_Active' 'NAME_CONTRACT_STATUS_Amortized debt'\n",
      " 'NAME_CONTRACT_STATUS_Approved_y' 'NAME_CONTRACT_STATUS_Canceled_y'\n",
      " 'NAME_CONTRACT_STATUS_Completed' 'NAME_CONTRACT_STATUS_Demand'\n",
      " 'NAME_CONTRACT_STATUS_Returned to the store' 'NAME_CONTRACT_STATUS_Signed'\n",
      " 'NAME_CONTRACT_STATUS_XNA' 'POS_CASH_balance_MONTHS_BALANCE_sum'\n",
      " 'POS_CASH_balance_MONTHS_BALANCE_min'\n",
      " 'POS_CASH_balance_MONTHS_BALANCE_max']\n"
     ]
    }
   ],
   "source": [
    "print(train.shape, test.shape, train.columns.values)\n",
    "# PATH = '/home/kai/data/kaggle/homecredit/'\n",
    "# train.to_pickle(PATH + 'train_with_pos.pkl')\n",
    "# test.to_pickle(PATH + 'test_with_pos.pkl')\n",
    "\n",
    "PATH = '/home/kai/data/kaggle/homecredit/'\n",
    "train.to_pickle(PATH + 'train_total.pkl')\n",
    "test.to_pickle(PATH + 'test_total.pkl')"
   ]
  },
  {
   "cell_type": "code",
   "execution_count": null,
   "metadata": {
    "collapsed": true
   },
   "outputs": [],
   "source": []
  }
 ],
 "metadata": {
  "kernelspec": {
   "display_name": "Python 3",
   "language": "python",
   "name": "python3"
  },
  "language_info": {
   "codemirror_mode": {
    "name": "ipython",
    "version": 3
   },
   "file_extension": ".py",
   "mimetype": "text/x-python",
   "name": "python",
   "nbconvert_exporter": "python",
   "pygments_lexer": "ipython3",
   "version": "3.6.3"
  },
  "varInspector": {
   "cols": {
    "lenName": 16,
    "lenType": 16,
    "lenVar": 40
   },
   "kernels_config": {
    "python": {
     "delete_cmd_postfix": "",
     "delete_cmd_prefix": "del ",
     "library": "var_list.py",
     "varRefreshCmd": "print(var_dic_list())"
    },
    "r": {
     "delete_cmd_postfix": ") ",
     "delete_cmd_prefix": "rm(",
     "library": "var_list.r",
     "varRefreshCmd": "cat(var_dic_list()) "
    }
   },
   "types_to_exclude": [
    "module",
    "function",
    "builtin_function_or_method",
    "instance",
    "_Feature"
   ],
   "window_display": false
  }
 },
 "nbformat": 4,
 "nbformat_minor": 2
}
