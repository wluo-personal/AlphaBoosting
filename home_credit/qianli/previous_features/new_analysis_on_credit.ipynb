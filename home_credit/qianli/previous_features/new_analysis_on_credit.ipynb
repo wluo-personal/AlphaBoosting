{
 "cells": [
  {
   "cell_type": "markdown",
   "metadata": {},
   "source": [
    "# Check definitions"
   ]
  },
  {
   "cell_type": "code",
   "execution_count": 1,
   "metadata": {
    "ExecuteTime": {
     "end_time": "2018-06-25T15:55:35.602920Z",
     "start_time": "2018-06-25T15:55:35.600625Z"
    }
   },
   "outputs": [],
   "source": [
    "# 1. What does interest rate do to a peroson's default probablity?\n",
    "#2. Diff of amt_current and amt_total current\n",
    "# 3. amount recerivable , total receivable, priciple recerivable\n",
    "# 4. name_contract status"
   ]
  },
  {
   "cell_type": "code",
   "execution_count": 110,
   "metadata": {
    "ExecuteTime": {
     "end_time": "2018-06-25T18:36:29.118465Z",
     "start_time": "2018-06-25T18:35:48.805995Z"
    }
   },
   "outputs": [
    {
     "name": "stdout",
     "output_type": "stream",
     "text": [
      "train\n",
      "test\n",
      "bureau\n",
      "installments_payments done\n",
      "credit_card_balance\n",
      "POS_CASH_balance\n",
      "previous_application\n"
     ]
    }
   ],
   "source": [
    "import pandas as pd\n",
    "import numpy as np\n",
    "\n",
    "PATH = '/home/kai/data/kaggle/homecredit/'\n",
    "train = pd.read_csv(PATH + 'application_train.csv')\n",
    "print('train')\n",
    "test = pd.read_csv(PATH + 'application_test.csv')\n",
    "print('test')\n",
    "bureau = pd.read_csv(PATH + 'bureau.csv')\n",
    "print('bureau')\n",
    "# previous_application = pd.read_csv(PATH + 'previous_application.csv')\n",
    "# print('previous')\n",
    "# bureau_balance = pd.read_csv(PATH + 'bureau_balance.csv')\n",
    "# print('bureau_balance')\n",
    "installments_payments = pd.read_csv(PATH + 'installments_payments.csv')\n",
    "print('installments_payments done')\n",
    "credit_card_balance = pd.read_csv(PATH + 'credit_card_balance.csv')\n",
    "print('credit_card_balance')\n",
    "POS_CASH_balance = pd.read_csv(PATH + 'POS_CASH_balance.csv')\n",
    "print('POS_CASH_balance')\n",
    "# credit_card_balance = pd.read_csv(PATH + 'credit_card_balance.csv')\n",
    "# print('credit_card_balance')\n",
    "previous_application = pd.read_csv(PATH + 'previous_application.csv')\n",
    "print('previous_application')"
   ]
  },
  {
   "cell_type": "code",
   "execution_count": 3,
   "metadata": {
    "ExecuteTime": {
     "end_time": "2018-06-25T15:56:05.753763Z",
     "start_time": "2018-06-25T15:56:05.493093Z"
    }
   },
   "outputs": [
    {
     "name": "stdout",
     "output_type": "stream",
     "text": [
      "shape of credit (3840312, 23)\n"
     ]
    }
   ],
   "source": [
    "cred = credit_card_balance.copy()\n",
    "print('shape of credit', cred.shape)"
   ]
  },
  {
   "cell_type": "markdown",
   "metadata": {},
   "source": [
    "# Analysis of the percentage of SK_ID_CURR into train& test"
   ]
  },
  {
   "cell_type": "code",
   "execution_count": 104,
   "metadata": {
    "ExecuteTime": {
     "end_time": "2018-06-25T18:27:34.699389Z",
     "start_time": "2018-06-25T18:27:34.583095Z"
    }
   },
   "outputs": [
    {
     "name": "stdout",
     "output_type": "stream",
     "text": [
      "cred into train 0.2826077766323807\n",
      "cred into test 0.34164204825209255\n"
     ]
    }
   ],
   "source": [
    "set_cred_id = set(cred['SK_ID_CURR'].values)\n",
    "set_train_id = set(train['SK_ID_CURR'].values)\n",
    "set_test_id = set(test['SK_ID_CURR'].values)\n",
    "print('cred into train', (1 - len(set_train_id - set_cred_id)/len(set_train_id)))\n",
    "print('cred into test', (1 - len(set_test_id - set_cred_id)/len(set_test_id)))"
   ]
  },
  {
   "cell_type": "markdown",
   "metadata": {},
   "source": [
    "# AMT_RECEIVABLE, AMT_TOTAL_RECEIVABLE, AMT_RECEIVABLE_TOTAL"
   ]
  },
  {
   "cell_type": "code",
   "execution_count": 15,
   "metadata": {
    "ExecuteTime": {
     "end_time": "2018-06-25T17:39:34.952989Z",
     "start_time": "2018-06-25T17:39:34.945903Z"
    }
   },
   "outputs": [],
   "source": [
    "list = [col for col in cred.columns.values if 'REC' in col]"
   ]
  },
  {
   "cell_type": "code",
   "execution_count": 16,
   "metadata": {
    "ExecuteTime": {
     "end_time": "2018-06-25T17:39:39.928062Z",
     "start_time": "2018-06-25T17:39:39.923431Z"
    }
   },
   "outputs": [
    {
     "data": {
      "text/plain": [
       "['AMT_RECEIVABLE_PRINCIPAL', 'AMT_RECIVABLE', 'AMT_TOTAL_RECEIVABLE']"
      ]
     },
     "execution_count": 16,
     "metadata": {},
     "output_type": "execute_result"
    }
   ],
   "source": [
    "list"
   ]
  },
  {
   "cell_type": "code",
   "execution_count": 17,
   "metadata": {
    "ExecuteTime": {
     "end_time": "2018-06-25T17:40:23.951164Z",
     "start_time": "2018-06-25T17:40:23.754652Z"
    }
   },
   "outputs": [
    {
     "data": {
      "text/plain": [
       "AMT_RECEIVABLE_PRINCIPAL    0.0\n",
       "AMT_RECIVABLE               0.0\n",
       "AMT_TOTAL_RECEIVABLE        0.0\n",
       "dtype: float64"
      ]
     },
     "execution_count": 17,
     "metadata": {},
     "output_type": "execute_result"
    }
   ],
   "source": [
    "cred_rec = cred[list]\n",
    "cred_rec.isnull().sum()/len(cred_rec)"
   ]
  },
  {
   "cell_type": "code",
   "execution_count": 18,
   "metadata": {
    "ExecuteTime": {
     "end_time": "2018-06-25T17:40:57.738484Z",
     "start_time": "2018-06-25T17:40:57.679110Z"
    }
   },
   "outputs": [
    {
     "data": {
      "text/plain": [
       "107994"
      ]
     },
     "execution_count": 18,
     "metadata": {},
     "output_type": "execute_result"
    }
   ],
   "source": [
    "(cred_rec['AMT_RECEIVABLE_PRINCIPAL']>cred_rec['AMT_RECIVABLE']).sum()"
   ]
  },
  {
   "cell_type": "code",
   "execution_count": 43,
   "metadata": {
    "ExecuteTime": {
     "end_time": "2018-06-25T17:50:00.283455Z",
     "start_time": "2018-06-25T17:50:00.228602Z"
    }
   },
   "outputs": [
    {
     "data": {
      "text/plain": [
       "3732318"
      ]
     },
     "execution_count": 43,
     "metadata": {},
     "output_type": "execute_result"
    }
   ],
   "source": [
    "(cred_rec['AMT_RECEIVABLE_PRINCIPAL']<=cred_rec['AMT_RECIVABLE']).sum()"
   ]
  },
  {
   "cell_type": "code",
   "execution_count": 44,
   "metadata": {
    "ExecuteTime": {
     "end_time": "2018-06-25T17:51:50.293606Z",
     "start_time": "2018-06-25T17:51:50.195085Z"
    }
   },
   "outputs": [
    {
     "data": {
      "text/plain": [
       "1685587"
      ]
     },
     "execution_count": 44,
     "metadata": {},
     "output_type": "execute_result"
    }
   ],
   "source": [
    "(cred_rec['AMT_RECEIVABLE_PRINCIPAL']!=cred_rec['AMT_RECIVABLE']).sum()"
   ]
  },
  {
   "cell_type": "code",
   "execution_count": 20,
   "metadata": {
    "ExecuteTime": {
     "end_time": "2018-06-25T17:41:44.498248Z",
     "start_time": "2018-06-25T17:41:44.411395Z"
    }
   },
   "outputs": [
    {
     "data": {
      "text/plain": [
       "11244"
      ]
     },
     "execution_count": 20,
     "metadata": {},
     "output_type": "execute_result"
    }
   ],
   "source": [
    "(cred_rec['AMT_TOTAL_RECEIVABLE']>cred_rec['AMT_RECIVABLE']).sum()"
   ]
  },
  {
   "cell_type": "code",
   "execution_count": 21,
   "metadata": {
    "ExecuteTime": {
     "end_time": "2018-06-25T17:41:54.346101Z",
     "start_time": "2018-06-25T17:41:54.291033Z"
    }
   },
   "outputs": [
    {
     "data": {
      "text/plain": [
       "3829068"
      ]
     },
     "execution_count": 21,
     "metadata": {},
     "output_type": "execute_result"
    }
   ],
   "source": [
    "(cred_rec['AMT_TOTAL_RECEIVABLE']<=cred_rec['AMT_RECIVABLE']).sum()"
   ]
  },
  {
   "cell_type": "code",
   "execution_count": 37,
   "metadata": {
    "ExecuteTime": {
     "end_time": "2018-06-25T17:48:49.396094Z",
     "start_time": "2018-06-25T17:48:49.048365Z"
    }
   },
   "outputs": [
    {
     "data": {
      "text/plain": [
       "(2154725, 3)"
      ]
     },
     "execution_count": 37,
     "metadata": {},
     "output_type": "execute_result"
    }
   ],
   "source": [
    "df = cred_rec[cred_rec['AMT_RECEIVABLE_PRINCIPAL']==cred_rec['AMT_RECIVABLE']]\n",
    "df.shape"
   ]
  },
  {
   "cell_type": "code",
   "execution_count": 42,
   "metadata": {
    "ExecuteTime": {
     "end_time": "2018-06-25T17:49:30.096685Z",
     "start_time": "2018-06-25T17:49:29.843936Z"
    }
   },
   "outputs": [
    {
     "data": {
      "text/plain": [
       "(2154725, 3)"
      ]
     },
     "execution_count": 42,
     "metadata": {},
     "output_type": "execute_result"
    }
   ],
   "source": [
    "_df = df[df['AMT_RECEIVABLE_PRINCIPAL'] ==df['AMT_RECEIVABLE_PRINCIPAL']]\n",
    "_df.shape"
   ]
  },
  {
   "cell_type": "code",
   "execution_count": 48,
   "metadata": {
    "ExecuteTime": {
     "end_time": "2018-06-25T17:53:42.309736Z",
     "start_time": "2018-06-25T17:53:41.588678Z"
    }
   },
   "outputs": [],
   "source": [
    "prev = previous_application.copy()\n",
    "status_prev = [col for col in prev.columns if 'STATUS' in col]"
   ]
  },
  {
   "cell_type": "code",
   "execution_count": 52,
   "metadata": {
    "ExecuteTime": {
     "end_time": "2018-06-25T17:54:35.449232Z",
     "start_time": "2018-06-25T17:54:35.439405Z"
    }
   },
   "outputs": [
    {
     "data": {
      "text/plain": [
       "['NAME_CONTRACT_STATUS']"
      ]
     },
     "execution_count": 52,
     "metadata": {},
     "output_type": "execute_result"
    }
   ],
   "source": [
    "status_prev"
   ]
  },
  {
   "cell_type": "code",
   "execution_count": 53,
   "metadata": {
    "ExecuteTime": {
     "end_time": "2018-06-25T17:54:47.063987Z",
     "start_time": "2018-06-25T17:54:47.005178Z"
    }
   },
   "outputs": [
    {
     "data": {
      "text/plain": [
       "{'Approved', 'Canceled', 'Refused', 'Unused offer'}"
      ]
     },
     "execution_count": 53,
     "metadata": {},
     "output_type": "execute_result"
    }
   ],
   "source": [
    "set(prev.NAME_CONTRACT_STATUS)"
   ]
  },
  {
   "cell_type": "code",
   "execution_count": 56,
   "metadata": {
    "ExecuteTime": {
     "end_time": "2018-06-25T17:56:35.451820Z",
     "start_time": "2018-06-25T17:56:35.312689Z"
    }
   },
   "outputs": [],
   "source": [
    "x = set(cred.NAME_CONTRACT_STATUS)"
   ]
  },
  {
   "cell_type": "code",
   "execution_count": 58,
   "metadata": {
    "ExecuteTime": {
     "end_time": "2018-06-25T17:56:50.622477Z",
     "start_time": "2018-06-25T17:56:49.182560Z"
    }
   },
   "outputs": [
    {
     "name": "stdout",
     "output_type": "stream",
     "text": [
      "Completed\n",
      "0.03356966829778414\n",
      "Active\n",
      "0.9630561266897064\n",
      "Demand\n",
      "0.000355439870510521\n",
      "Signed\n",
      "0.0028794535443995174\n",
      "Approved\n",
      "1.3019775476575862e-06\n",
      "Refused\n",
      "4.426723662035793e-06\n",
      "Sent proposal\n",
      "0.00013358289638966834\n"
     ]
    }
   ],
   "source": [
    "for i in x:\n",
    "    print(i)\n",
    "    print((cred['NAME_CONTRACT_STATUS'] == i).sum()/len(cred))"
   ]
  },
  {
   "cell_type": "code",
   "execution_count": 59,
   "metadata": {
    "ExecuteTime": {
     "end_time": "2018-06-25T17:58:01.492998Z",
     "start_time": "2018-06-25T17:57:59.450156Z"
    }
   },
   "outputs": [
    {
     "data": {
      "text/plain": [
       "SK_ID_PREV                    0.000000\n",
       "SK_ID_CURR                    0.000000\n",
       "MONTHS_BALANCE                0.000000\n",
       "AMT_BALANCE                   0.000000\n",
       "AMT_CREDIT_LIMIT_ACTUAL       0.000000\n",
       "AMT_DRAWINGS_ATM_CURRENT      0.195249\n",
       "AMT_DRAWINGS_CURRENT          0.000000\n",
       "AMT_DRAWINGS_OTHER_CURRENT    0.195249\n",
       "AMT_DRAWINGS_POS_CURRENT      0.195249\n",
       "AMT_INST_MIN_REGULARITY       0.079482\n",
       "AMT_PAYMENT_CURRENT           0.199981\n",
       "AMT_PAYMENT_TOTAL_CURRENT     0.000000\n",
       "AMT_RECEIVABLE_PRINCIPAL      0.000000\n",
       "AMT_RECIVABLE                 0.000000\n",
       "AMT_TOTAL_RECEIVABLE          0.000000\n",
       "CNT_DRAWINGS_ATM_CURRENT      0.195249\n",
       "CNT_DRAWINGS_CURRENT          0.000000\n",
       "CNT_DRAWINGS_OTHER_CURRENT    0.195249\n",
       "CNT_DRAWINGS_POS_CURRENT      0.195249\n",
       "CNT_INSTALMENT_MATURE_CUM     0.079482\n",
       "NAME_CONTRACT_STATUS          0.000000\n",
       "SK_DPD                        0.000000\n",
       "SK_DPD_DEF                    0.000000\n",
       "dtype: float64"
      ]
     },
     "execution_count": 59,
     "metadata": {},
     "output_type": "execute_result"
    }
   ],
   "source": [
    "cred.isnull().sum()/len(cred)"
   ]
  },
  {
   "cell_type": "code",
   "execution_count": 61,
   "metadata": {
    "ExecuteTime": {
     "end_time": "2018-06-25T17:58:45.164319Z",
     "start_time": "2018-06-25T17:58:45.115377Z"
    }
   },
   "outputs": [
    {
     "data": {
      "text/plain": [
       "3497958"
      ]
     },
     "execution_count": 61,
     "metadata": {},
     "output_type": "execute_result"
    }
   ],
   "source": [
    "(cred['AMT_BALANCE']<=cred['AMT_CREDIT_LIMIT_ACTUAL']).sum()"
   ]
  },
  {
   "cell_type": "code",
   "execution_count": 65,
   "metadata": {
    "ExecuteTime": {
     "end_time": "2018-06-25T17:59:27.062599Z",
     "start_time": "2018-06-25T17:59:27.052864Z"
    }
   },
   "outputs": [
    {
     "data": {
      "text/plain": [
       "False"
      ]
     },
     "execution_count": 65,
     "metadata": {},
     "output_type": "execute_result"
    }
   ],
   "source": [
    "1 ==np.nan"
   ]
  },
  {
   "cell_type": "code",
   "execution_count": 66,
   "metadata": {
    "ExecuteTime": {
     "end_time": "2018-06-25T18:05:44.509307Z",
     "start_time": "2018-06-25T18:05:44.450466Z"
    }
   },
   "outputs": [
    {
     "data": {
      "text/plain": [
       "0.8798430960817767"
      ]
     },
     "execution_count": 66,
     "metadata": {},
     "output_type": "execute_result"
    }
   ],
   "source": [
    "(cred['AMT_BALANCE']>=cred['AMT_INST_MIN_REGULARITY']).sum()/len(cred)"
   ]
  },
  {
   "cell_type": "code",
   "execution_count": 67,
   "metadata": {
    "ExecuteTime": {
     "end_time": "2018-06-25T18:06:11.078000Z",
     "start_time": "2018-06-25T18:06:11.016958Z"
    }
   },
   "outputs": [
    {
     "data": {
      "text/plain": [
       "0.9108525557298469"
      ]
     },
     "execution_count": 67,
     "metadata": {},
     "output_type": "execute_result"
    }
   ],
   "source": [
    "(cred['AMT_BALANCE']<=cred['AMT_CREDIT_LIMIT_ACTUAL']).sum()/len(cred)"
   ]
  },
  {
   "cell_type": "code",
   "execution_count": 69,
   "metadata": {
    "ExecuteTime": {
     "end_time": "2018-06-25T18:07:09.214428Z",
     "start_time": "2018-06-25T18:07:09.124336Z"
    }
   },
   "outputs": [],
   "source": [
    "x = (cred['AMT_INST_MIN_REGULARITY']<=cred['AMT_CREDIT_LIMIT_ACTUAL']).sum()/len(cred)"
   ]
  },
  {
   "cell_type": "code",
   "execution_count": 70,
   "metadata": {
    "ExecuteTime": {
     "end_time": "2018-06-25T18:07:16.345581Z",
     "start_time": "2018-06-25T18:07:16.342323Z"
    }
   },
   "outputs": [
    {
     "data": {
      "text/plain": [
       "0.9993445007551469"
      ]
     },
     "execution_count": 70,
     "metadata": {},
     "output_type": "execute_result"
    }
   ],
   "source": [
    "0.079482+x"
   ]
  },
  {
   "cell_type": "code",
   "execution_count": 72,
   "metadata": {
    "ExecuteTime": {
     "end_time": "2018-06-25T18:09:51.072714Z",
     "start_time": "2018-06-25T18:09:51.008421Z"
    }
   },
   "outputs": [
    {
     "data": {
      "text/plain": [
       "0.7979260539247853"
      ]
     },
     "execution_count": 72,
     "metadata": {},
     "output_type": "execute_result"
    }
   ],
   "source": [
    "(cred['AMT_DRAWINGS_CURRENT']<cred['AMT_CREDIT_LIMIT_ACTUAL']).sum()/len(cred)"
   ]
  },
  {
   "cell_type": "code",
   "execution_count": 85,
   "metadata": {
    "ExecuteTime": {
     "end_time": "2018-06-25T18:18:05.439184Z",
     "start_time": "2018-06-25T18:18:05.363096Z"
    }
   },
   "outputs": [
    {
     "data": {
      "text/plain": [
       "0.8000193734259091"
      ]
     },
     "execution_count": 85,
     "metadata": {},
     "output_type": "execute_result"
    }
   ],
   "source": [
    "(cred['AMT_PAYMENT_CURRENT']>=cred['AMT_PAYMENT_TOTAL_CURRENT']).sum()/len(cred)"
   ]
  },
  {
   "cell_type": "code",
   "execution_count": 78,
   "metadata": {
    "ExecuteTime": {
     "end_time": "2018-06-25T18:11:17.624573Z",
     "start_time": "2018-06-25T18:11:17.550330Z"
    }
   },
   "outputs": [
    {
     "data": {
      "text/plain": [
       "0.30914988157212225"
      ]
     },
     "execution_count": 78,
     "metadata": {},
     "output_type": "execute_result"
    }
   ],
   "source": [
    "(cred['AMT_PAYMENT_CURRENT']>cred['AMT_PAYMENT_TOTAL_CURRENT']).sum()/len(cred)"
   ]
  },
  {
   "cell_type": "code",
   "execution_count": 82,
   "metadata": {
    "ExecuteTime": {
     "end_time": "2018-06-25T18:15:01.226135Z",
     "start_time": "2018-06-25T18:15:01.114833Z"
    }
   },
   "outputs": [
    {
     "data": {
      "text/plain": [
       "0.18274192305208536"
      ]
     },
     "execution_count": 82,
     "metadata": {},
     "output_type": "execute_result"
    }
   ],
   "source": [
    "(cred['AMT_RECIVABLE']==cred['AMT_CREDIT_LIMIT_ACTUAL']).sum()/len(cred)"
   ]
  },
  {
   "cell_type": "code",
   "execution_count": 91,
   "metadata": {
    "ExecuteTime": {
     "end_time": "2018-06-25T18:19:32.570203Z",
     "start_time": "2018-06-25T18:19:32.460568Z"
    }
   },
   "outputs": [
    {
     "data": {
      "text/plain": [
       "0.4557926543468343"
      ]
     },
     "execution_count": 91,
     "metadata": {},
     "output_type": "execute_result"
    }
   ],
   "source": [
    "(cred['AMT_PAYMENT_CURRENT']<=cred['AMT_RECIVABLE']).sum()/len(cred)"
   ]
  },
  {
   "cell_type": "code",
   "execution_count": 93,
   "metadata": {
    "ExecuteTime": {
     "end_time": "2018-06-25T18:20:42.470624Z",
     "start_time": "2018-06-25T18:20:42.412723Z"
    }
   },
   "outputs": [
    {
     "data": {
      "text/plain": [
       "0.9725399915423538"
      ]
     },
     "execution_count": 93,
     "metadata": {},
     "output_type": "execute_result"
    }
   ],
   "source": [
    "(cred['AMT_RECIVABLE']<=cred['AMT_BALANCE']).sum()/len(cred)"
   ]
  },
  {
   "cell_type": "code",
   "execution_count": 95,
   "metadata": {
    "ExecuteTime": {
     "end_time": "2018-06-25T18:21:36.876706Z",
     "start_time": "2018-06-25T18:21:36.811844Z"
    }
   },
   "outputs": [
    {
     "data": {
      "text/plain": [
       "0.8231372867621173"
      ]
     },
     "execution_count": 95,
     "metadata": {},
     "output_type": "execute_result"
    }
   ],
   "source": [
    "# AMT_DRAWINGS_CURRENT\n",
    "((cred['AMT_DRAWINGS_CURRENT']+cred['AMT_RECIVABLE'])<=cred['AMT_BALANCE']).sum()/len(cred)"
   ]
  },
  {
   "cell_type": "code",
   "execution_count": 96,
   "metadata": {
    "ExecuteTime": {
     "end_time": "2018-06-25T18:22:11.017639Z",
     "start_time": "2018-06-25T18:22:10.947273Z"
    }
   },
   "outputs": [
    {
     "data": {
      "text/plain": [
       "0.39768565679038576"
      ]
     },
     "execution_count": 96,
     "metadata": {},
     "output_type": "execute_result"
    }
   ],
   "source": [
    "((cred['AMT_DRAWINGS_CURRENT']+cred['AMT_RECIVABLE'])<=cred['AMT_PAYMENT_CURRENT']).sum()/len(cred)"
   ]
  },
  {
   "cell_type": "code",
   "execution_count": null,
   "metadata": {},
   "outputs": [],
   "source": [
    "(cred['AMT_RECIVABLE']<=cred['AMT_BALANCE']).sum()/len(cred)"
   ]
  },
  {
   "cell_type": "code",
   "execution_count": 98,
   "metadata": {
    "ExecuteTime": {
     "end_time": "2018-06-25T18:25:10.731689Z",
     "start_time": "2018-06-25T18:25:10.584247Z"
    }
   },
   "outputs": [
    {
     "data": {
      "text/plain": [
       "{0,\n",
       " 1,\n",
       " 5,\n",
       " 6,\n",
       " 7,\n",
       " 8,\n",
       " 9,\n",
       " 10,\n",
       " 11,\n",
       " 12,\n",
       " 16,\n",
       " 17,\n",
       " 18,\n",
       " 19,\n",
       " 26,\n",
       " 27,\n",
       " 28,\n",
       " 29,\n",
       " 30,\n",
       " 31,\n",
       " 32,\n",
       " 38,\n",
       " 39,\n",
       " 42,\n",
       " 46,\n",
       " 47,\n",
       " 48,\n",
       " 49,\n",
       " 56,\n",
       " 57,\n",
       " 58,\n",
       " 59,\n",
       " 60,\n",
       " 61,\n",
       " 62,\n",
       " 63,\n",
       " 68,\n",
       " 69,\n",
       " 77,\n",
       " 79,\n",
       " 80,\n",
       " 89,\n",
       " 90,\n",
       " 91,\n",
       " 92,\n",
       " 93,\n",
       " 99,\n",
       " 107,\n",
       " 110,\n",
       " 120,\n",
       " 121,\n",
       " 122,\n",
       " 123,\n",
       " 124,\n",
       " 130,\n",
       " 138,\n",
       " 141,\n",
       " 151,\n",
       " 152,\n",
       " 153,\n",
       " 154,\n",
       " 161,\n",
       " 169,\n",
       " 172,\n",
       " 179,\n",
       " 182,\n",
       " 183,\n",
       " 184,\n",
       " 185,\n",
       " 189,\n",
       " 199,\n",
       " 200,\n",
       " 213,\n",
       " 214,\n",
       " 215,\n",
       " 216,\n",
       " 230,\n",
       " 243,\n",
       " 244,\n",
       " 245,\n",
       " 246,\n",
       " 260,\n",
       " 274,\n",
       " 275,\n",
       " 276,\n",
       " 277,\n",
       " 291,\n",
       " 304,\n",
       " 305,\n",
       " 306,\n",
       " 307,\n",
       " 322,\n",
       " 335,\n",
       " 336,\n",
       " 337,\n",
       " 338,\n",
       " 352,\n",
       " 366,\n",
       " 367,\n",
       " 383,\n",
       " 395,\n",
       " 396,\n",
       " 397,\n",
       " 398,\n",
       " 413,\n",
       " 426,\n",
       " 427,\n",
       " 428,\n",
       " 444,\n",
       " 456,\n",
       " 457,\n",
       " 458,\n",
       " 459,\n",
       " 475,\n",
       " 487,\n",
       " 488,\n",
       " 489,\n",
       " 490,\n",
       " 503,\n",
       " 517,\n",
       " 518,\n",
       " 519,\n",
       " 520,\n",
       " 547,\n",
       " 548,\n",
       " 549,\n",
       " 550,\n",
       " 578,\n",
       " 579,\n",
       " 580,\n",
       " 581,\n",
       " 608,\n",
       " 609,\n",
       " 610,\n",
       " 611,\n",
       " 612,\n",
       " 639,\n",
       " 640,\n",
       " 641,\n",
       " 669,\n",
       " 670,\n",
       " 671,\n",
       " 672,\n",
       " 700,\n",
       " 701,\n",
       " 702,\n",
       " 703,\n",
       " 731,\n",
       " 732,\n",
       " 760,\n",
       " 761,\n",
       " 762,\n",
       " 763,\n",
       " 791,\n",
       " 792,\n",
       " 793,\n",
       " 821,\n",
       " 822,\n",
       " 823,\n",
       " 824,\n",
       " 852,\n",
       " 853,\n",
       " 854,\n",
       " 855,\n",
       " 882,\n",
       " 883,\n",
       " 884,\n",
       " 885,\n",
       " 913,\n",
       " 914,\n",
       " 915,\n",
       " 916,\n",
       " 943,\n",
       " 944,\n",
       " 945,\n",
       " 946,\n",
       " 973,\n",
       " 974,\n",
       " 975,\n",
       " 976,\n",
       " 977,\n",
       " 1004,\n",
       " 1005,\n",
       " 1006,\n",
       " 1007,\n",
       " 1034,\n",
       " 1035,\n",
       " 1036,\n",
       " 1037,\n",
       " 1038,\n",
       " 1065,\n",
       " 1066,\n",
       " 1067,\n",
       " 1068,\n",
       " 1069,\n",
       " 1096,\n",
       " 1097,\n",
       " 1125,\n",
       " 1126,\n",
       " 1127,\n",
       " 1128,\n",
       " 1156,\n",
       " 1157,\n",
       " 1158,\n",
       " 1159,\n",
       " 1186,\n",
       " 1187,\n",
       " 1188,\n",
       " 1189,\n",
       " 1217,\n",
       " 1218,\n",
       " 1219,\n",
       " 1247,\n",
       " 1248,\n",
       " 1249,\n",
       " 1250,\n",
       " 1278,\n",
       " 1279,\n",
       " 1280,\n",
       " 1281,\n",
       " 1309,\n",
       " 1311,\n",
       " 1339,\n",
       " 1340,\n",
       " 1342,\n",
       " 1370,\n",
       " 1371,\n",
       " 1372,\n",
       " 1400,\n",
       " 1401,\n",
       " 1402,\n",
       " 1403,\n",
       " 1431,\n",
       " 1432,\n",
       " 1433,\n",
       " 1434,\n",
       " 1462,\n",
       " 1492,\n",
       " 1493,\n",
       " 1523,\n",
       " 1524,\n",
       " 1552,\n",
       " 1553,\n",
       " 1554,\n",
       " 1582,\n",
       " 1583,\n",
       " 1584,\n",
       " 1613,\n",
       " 1615,\n",
       " 1643,\n",
       " 1644,\n",
       " 1645,\n",
       " 1646,\n",
       " 1674,\n",
       " 1676,\n",
       " 1704,\n",
       " 1705,\n",
       " 1706,\n",
       " 1707,\n",
       " 1735,\n",
       " 1736,\n",
       " 1737,\n",
       " 1765,\n",
       " 1766,\n",
       " 1767,\n",
       " 1768,\n",
       " 1796,\n",
       " 1797,\n",
       " 1799,\n",
       " 1827,\n",
       " 1828,\n",
       " 1856,\n",
       " 1857,\n",
       " 1858,\n",
       " 1887,\n",
       " 1888,\n",
       " 1889,\n",
       " 1917,\n",
       " 1918,\n",
       " 1919,\n",
       " 1920,\n",
       " 1948,\n",
       " 1949,\n",
       " 1950,\n",
       " 1978,\n",
       " 1980,\n",
       " 1981,\n",
       " 2008,\n",
       " 2009,\n",
       " 2010,\n",
       " 2011,\n",
       " 2039,\n",
       " 2040,\n",
       " 2041,\n",
       " 2042,\n",
       " 2069,\n",
       " 2070,\n",
       " 2071,\n",
       " 2072,\n",
       " 2073,\n",
       " 2100,\n",
       " 2101,\n",
       " 2102,\n",
       " 2130,\n",
       " 2131,\n",
       " 2132,\n",
       " 2133,\n",
       " 2161,\n",
       " 2162,\n",
       " 2164,\n",
       " 2192,\n",
       " 2193,\n",
       " 2221,\n",
       " 2222,\n",
       " 2223,\n",
       " 2224,\n",
       " 2252,\n",
       " 2253,\n",
       " 2254,\n",
       " 2282,\n",
       " 2283,\n",
       " 2284,\n",
       " 2285,\n",
       " 2313,\n",
       " 2314,\n",
       " 2315,\n",
       " 2343,\n",
       " 2345,\n",
       " 2346,\n",
       " 2374,\n",
       " 2376,\n",
       " 2377,\n",
       " 2404,\n",
       " 2405,\n",
       " 2406,\n",
       " 2407,\n",
       " 2435,\n",
       " 2438,\n",
       " 2466,\n",
       " 2468,\n",
       " 2496,\n",
       " 2497,\n",
       " 2499,\n",
       " 2527,\n",
       " 2530,\n",
       " 2558,\n",
       " 2586,\n",
       " 2588,\n",
       " 2589,\n",
       " 2617,\n",
       " 2619,\n",
       " 2647,\n",
       " 2650,\n",
       " 2678,\n",
       " 2680,\n",
       " 2708,\n",
       " 2711,\n",
       " 2739,\n",
       " 2742,\n",
       " 2770,\n",
       " 2772,\n",
       " 2800,\n",
       " 2803,\n",
       " 2833,\n",
       " 2864,\n",
       " 2895,\n",
       " 2923,\n",
       " 2954,\n",
       " 2984,\n",
       " 3015,\n",
       " 3045,\n",
       " 3076,\n",
       " 3107,\n",
       " 3137,\n",
       " 3168,\n",
       " 3198,\n",
       " 3229,\n",
       " 3260}"
      ]
     },
     "execution_count": 98,
     "metadata": {},
     "output_type": "execute_result"
    }
   ],
   "source": [
    "set(cred['SK_DPD_DEF'])"
   ]
  },
  {
   "cell_type": "code",
   "execution_count": 101,
   "metadata": {
    "ExecuteTime": {
     "end_time": "2018-06-25T18:26:47.880845Z",
     "start_time": "2018-06-25T18:26:47.821681Z"
    }
   },
   "outputs": [
    {
     "data": {
      "text/plain": [
       "0.02353168180085368"
      ]
     },
     "execution_count": 101,
     "metadata": {},
     "output_type": "execute_result"
    }
   ],
   "source": [
    "(cred['SK_DPD'] ==1).sum()/len(cred)"
   ]
  },
  {
   "cell_type": "code",
   "execution_count": 102,
   "metadata": {
    "ExecuteTime": {
     "end_time": "2018-06-25T18:26:55.000210Z",
     "start_time": "2018-06-25T18:26:54.922320Z"
    }
   },
   "outputs": [
    {
     "data": {
      "text/plain": [
       "0.9767362651784542"
      ]
     },
     "execution_count": 102,
     "metadata": {},
     "output_type": "execute_result"
    }
   ],
   "source": [
    "(cred['SK_DPD_DEF'] == 0).sum()/len(cred)"
   ]
  },
  {
   "cell_type": "code",
   "execution_count": 112,
   "metadata": {
    "ExecuteTime": {
     "end_time": "2018-06-25T18:36:57.219019Z",
     "start_time": "2018-06-25T18:36:55.947452Z"
    }
   },
   "outputs": [
    {
     "name": "stdout",
     "output_type": "stream",
     "text": [
      "cred into train 0.2826077766323807\n",
      "cred into test 0.34164204825209255\n"
     ]
    }
   ],
   "source": [
    "# install = installments_payments.copy()\n",
    "pos = POS_CASH_balance\n",
    "prev = previous_application.copy()\n",
    "\n",
    "set_cred_id = set(cred['SK_ID_CURR'].values)\n",
    "set_train_id = set(train['SK_ID_CURR'].values)\n",
    "set_test_id = set(test['SK_ID_CURR'].values)\n",
    "print('cred into train', (1 - len(set_train_id - set_cred_id)/len(set_train_id)))\n",
    "print('cred into test', (1 - len(set_test_id - set_cred_id)/len(set_test_id)))"
   ]
  },
  {
   "cell_type": "markdown",
   "metadata": {},
   "source": [
    "'''\n",
    "cred:\n",
    "cred into train 0.2826077766323807\n",
    "cred into test 0.34164204825209255\n",
    "install:\n",
    "cred into train 0.9483985938714388\n",
    "cred into test 0.9835877236172658\n",
    "POS:\n",
    "cred into train 0.9412476301660754\n",
    "cred into test 0.9807976366322009\n",
    "prev:\n",
    "cred into train 0.9464929709831518\n",
    "cred into test 0.9806335138683735\n",
    "bureau:\n",
    "cred into train 0.8568506492450676\n",
    "cred into test 0.8682094206466437\n",
    "'''"
   ]
  }
 ],
 "metadata": {
  "kernelspec": {
   "display_name": "Python 3",
   "language": "python",
   "name": "python3"
  },
  "language_info": {
   "codemirror_mode": {
    "name": "ipython",
    "version": 3
   },
   "file_extension": ".py",
   "mimetype": "text/x-python",
   "name": "python",
   "nbconvert_exporter": "python",
   "pygments_lexer": "ipython3",
   "version": "3.6.5"
  },
  "varInspector": {
   "cols": {
    "lenName": 16,
    "lenType": 16,
    "lenVar": 40
   },
   "kernels_config": {
    "python": {
     "delete_cmd_postfix": "",
     "delete_cmd_prefix": "del ",
     "library": "var_list.py",
     "varRefreshCmd": "print(var_dic_list())"
    },
    "r": {
     "delete_cmd_postfix": ") ",
     "delete_cmd_prefix": "rm(",
     "library": "var_list.r",
     "varRefreshCmd": "cat(var_dic_list()) "
    }
   },
   "types_to_exclude": [
    "module",
    "function",
    "builtin_function_or_method",
    "instance",
    "_Feature"
   ],
   "window_display": false
  }
 },
 "nbformat": 4,
 "nbformat_minor": 2
}
