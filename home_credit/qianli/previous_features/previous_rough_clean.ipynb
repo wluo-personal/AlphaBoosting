{
 "cells": [
  {
   "cell_type": "code",
   "execution_count": 5,
   "metadata": {
    "ExecuteTime": {
     "end_time": "2018-06-15T17:48:58.932513Z",
     "start_time": "2018-06-15T17:48:53.705889Z"
    }
   },
   "outputs": [
    {
     "name": "stdout",
     "output_type": "stream",
     "text": [
      "test\n",
      "previous_application\n"
     ]
    }
   ],
   "source": [
    "import pandas as pd\n",
    "import numpy as np\n",
    "PATH = '/home/kai/data/kaggle/homecredit/'\n",
    "train = pd.read_csv(PATH + 'train_cleaned_bureau_final.csv')\n",
    "# print('train')\n",
    "test = pd.read_csv(PATH + 'test_cleaned_bureau_final.csv')\n",
    "train = pd.read_pickle(PATH + 'train_cleaned_bureau_final.pkl')\n",
    "print('test')\n",
    "# bureau = pd.read_csv(PATH + 'bureau.csv')\n",
    "# print('bureau')\n",
    "# bureau_balance = pd.read_csv(PATH + 'bureau_balance.csv')\n",
    "# print('bureau_balance')\n",
    "# installments_payments = pd.read_csv(PATH + 'installments_payments.csv')\n",
    "# print('installments_payments done')\n",
    "# credit_card_balance = pd.read_csv(PATH + 'credit_card_balance.csv')\n",
    "# print('credit_card_balance')\n",
    "# POS_CASH_balance = pd.read_csv(PATH + 'POS_CASH_balance.csv')\n",
    "# print('POS_CASH_balance')\n",
    "# credit_card_balance = pd.read_csv(PATH + 'credit_card_balance.csv')\n",
    "# print('credit_card_balance')\n",
    "previous_application = pd.read_csv(PATH + 'previous_application.csv')\n",
    "print('previous_application')"
   ]
  },
  {
   "cell_type": "code",
   "execution_count": 2,
   "metadata": {
    "ExecuteTime": {
     "end_time": "2018-06-15T17:39:05.350216Z",
     "start_time": "2018-06-15T17:39:04.445329Z"
    },
    "collapsed": true
   },
   "outputs": [],
   "source": [
    "df = pd.concat([train,test], axis = 0)\n",
    "df = df[['SK_ID_CURR']]\n",
    "prev = previous_application.copy()"
   ]
  },
  {
   "cell_type": "code",
   "execution_count": 3,
   "metadata": {
    "ExecuteTime": {
     "end_time": "2018-06-15T17:39:08.789856Z",
     "start_time": "2018-06-15T17:39:08.751278Z"
    }
   },
   "outputs": [
    {
     "data": {
      "text/html": [
       "<div>\n",
       "<style>\n",
       "    .dataframe thead tr:only-child th {\n",
       "        text-align: right;\n",
       "    }\n",
       "\n",
       "    .dataframe thead th {\n",
       "        text-align: left;\n",
       "    }\n",
       "\n",
       "    .dataframe tbody tr th {\n",
       "        vertical-align: top;\n",
       "    }\n",
       "</style>\n",
       "<table border=\"1\" class=\"dataframe\">\n",
       "  <thead>\n",
       "    <tr style=\"text-align: right;\">\n",
       "      <th></th>\n",
       "      <th>SK_ID_PREV</th>\n",
       "      <th>SK_ID_CURR</th>\n",
       "      <th>NAME_CONTRACT_TYPE</th>\n",
       "      <th>AMT_ANNUITY</th>\n",
       "      <th>AMT_APPLICATION</th>\n",
       "      <th>AMT_CREDIT</th>\n",
       "      <th>AMT_DOWN_PAYMENT</th>\n",
       "      <th>AMT_GOODS_PRICE</th>\n",
       "      <th>WEEKDAY_APPR_PROCESS_START</th>\n",
       "      <th>HOUR_APPR_PROCESS_START</th>\n",
       "      <th>...</th>\n",
       "      <th>NAME_SELLER_INDUSTRY</th>\n",
       "      <th>CNT_PAYMENT</th>\n",
       "      <th>NAME_YIELD_GROUP</th>\n",
       "      <th>PRODUCT_COMBINATION</th>\n",
       "      <th>DAYS_FIRST_DRAWING</th>\n",
       "      <th>DAYS_FIRST_DUE</th>\n",
       "      <th>DAYS_LAST_DUE_1ST_VERSION</th>\n",
       "      <th>DAYS_LAST_DUE</th>\n",
       "      <th>DAYS_TERMINATION</th>\n",
       "      <th>NFLAG_INSURED_ON_APPROVAL</th>\n",
       "    </tr>\n",
       "  </thead>\n",
       "  <tbody>\n",
       "    <tr>\n",
       "      <th>0</th>\n",
       "      <td>2030495</td>\n",
       "      <td>271877</td>\n",
       "      <td>Consumer loans</td>\n",
       "      <td>1730.430</td>\n",
       "      <td>17145.0</td>\n",
       "      <td>17145.0</td>\n",
       "      <td>0.0</td>\n",
       "      <td>17145.0</td>\n",
       "      <td>SATURDAY</td>\n",
       "      <td>15</td>\n",
       "      <td>...</td>\n",
       "      <td>Connectivity</td>\n",
       "      <td>12.0</td>\n",
       "      <td>middle</td>\n",
       "      <td>POS mobile with interest</td>\n",
       "      <td>365243.0</td>\n",
       "      <td>-42.0</td>\n",
       "      <td>300.0</td>\n",
       "      <td>-42.0</td>\n",
       "      <td>-37.0</td>\n",
       "      <td>0.0</td>\n",
       "    </tr>\n",
       "    <tr>\n",
       "      <th>1</th>\n",
       "      <td>2802425</td>\n",
       "      <td>108129</td>\n",
       "      <td>Cash loans</td>\n",
       "      <td>25188.615</td>\n",
       "      <td>607500.0</td>\n",
       "      <td>679671.0</td>\n",
       "      <td>NaN</td>\n",
       "      <td>607500.0</td>\n",
       "      <td>THURSDAY</td>\n",
       "      <td>11</td>\n",
       "      <td>...</td>\n",
       "      <td>XNA</td>\n",
       "      <td>36.0</td>\n",
       "      <td>low_action</td>\n",
       "      <td>Cash X-Sell: low</td>\n",
       "      <td>365243.0</td>\n",
       "      <td>-134.0</td>\n",
       "      <td>916.0</td>\n",
       "      <td>365243.0</td>\n",
       "      <td>365243.0</td>\n",
       "      <td>1.0</td>\n",
       "    </tr>\n",
       "    <tr>\n",
       "      <th>2</th>\n",
       "      <td>2523466</td>\n",
       "      <td>122040</td>\n",
       "      <td>Cash loans</td>\n",
       "      <td>15060.735</td>\n",
       "      <td>112500.0</td>\n",
       "      <td>136444.5</td>\n",
       "      <td>NaN</td>\n",
       "      <td>112500.0</td>\n",
       "      <td>TUESDAY</td>\n",
       "      <td>11</td>\n",
       "      <td>...</td>\n",
       "      <td>XNA</td>\n",
       "      <td>12.0</td>\n",
       "      <td>high</td>\n",
       "      <td>Cash X-Sell: high</td>\n",
       "      <td>365243.0</td>\n",
       "      <td>-271.0</td>\n",
       "      <td>59.0</td>\n",
       "      <td>365243.0</td>\n",
       "      <td>365243.0</td>\n",
       "      <td>1.0</td>\n",
       "    </tr>\n",
       "    <tr>\n",
       "      <th>3</th>\n",
       "      <td>2819243</td>\n",
       "      <td>176158</td>\n",
       "      <td>Cash loans</td>\n",
       "      <td>47041.335</td>\n",
       "      <td>450000.0</td>\n",
       "      <td>470790.0</td>\n",
       "      <td>NaN</td>\n",
       "      <td>450000.0</td>\n",
       "      <td>MONDAY</td>\n",
       "      <td>7</td>\n",
       "      <td>...</td>\n",
       "      <td>XNA</td>\n",
       "      <td>12.0</td>\n",
       "      <td>middle</td>\n",
       "      <td>Cash X-Sell: middle</td>\n",
       "      <td>365243.0</td>\n",
       "      <td>-482.0</td>\n",
       "      <td>-152.0</td>\n",
       "      <td>-182.0</td>\n",
       "      <td>-177.0</td>\n",
       "      <td>1.0</td>\n",
       "    </tr>\n",
       "    <tr>\n",
       "      <th>4</th>\n",
       "      <td>1784265</td>\n",
       "      <td>202054</td>\n",
       "      <td>Cash loans</td>\n",
       "      <td>31924.395</td>\n",
       "      <td>337500.0</td>\n",
       "      <td>404055.0</td>\n",
       "      <td>NaN</td>\n",
       "      <td>337500.0</td>\n",
       "      <td>THURSDAY</td>\n",
       "      <td>9</td>\n",
       "      <td>...</td>\n",
       "      <td>XNA</td>\n",
       "      <td>24.0</td>\n",
       "      <td>high</td>\n",
       "      <td>Cash Street: high</td>\n",
       "      <td>NaN</td>\n",
       "      <td>NaN</td>\n",
       "      <td>NaN</td>\n",
       "      <td>NaN</td>\n",
       "      <td>NaN</td>\n",
       "      <td>NaN</td>\n",
       "    </tr>\n",
       "  </tbody>\n",
       "</table>\n",
       "<p>5 rows × 37 columns</p>\n",
       "</div>"
      ],
      "text/plain": [
       "   SK_ID_PREV  SK_ID_CURR NAME_CONTRACT_TYPE  AMT_ANNUITY  AMT_APPLICATION  \\\n",
       "0     2030495      271877     Consumer loans     1730.430          17145.0   \n",
       "1     2802425      108129         Cash loans    25188.615         607500.0   \n",
       "2     2523466      122040         Cash loans    15060.735         112500.0   \n",
       "3     2819243      176158         Cash loans    47041.335         450000.0   \n",
       "4     1784265      202054         Cash loans    31924.395         337500.0   \n",
       "\n",
       "   AMT_CREDIT  AMT_DOWN_PAYMENT  AMT_GOODS_PRICE WEEKDAY_APPR_PROCESS_START  \\\n",
       "0     17145.0               0.0          17145.0                   SATURDAY   \n",
       "1    679671.0               NaN         607500.0                   THURSDAY   \n",
       "2    136444.5               NaN         112500.0                    TUESDAY   \n",
       "3    470790.0               NaN         450000.0                     MONDAY   \n",
       "4    404055.0               NaN         337500.0                   THURSDAY   \n",
       "\n",
       "   HOUR_APPR_PROCESS_START            ...            NAME_SELLER_INDUSTRY  \\\n",
       "0                       15            ...                    Connectivity   \n",
       "1                       11            ...                             XNA   \n",
       "2                       11            ...                             XNA   \n",
       "3                        7            ...                             XNA   \n",
       "4                        9            ...                             XNA   \n",
       "\n",
       "   CNT_PAYMENT  NAME_YIELD_GROUP       PRODUCT_COMBINATION  \\\n",
       "0         12.0            middle  POS mobile with interest   \n",
       "1         36.0        low_action          Cash X-Sell: low   \n",
       "2         12.0              high         Cash X-Sell: high   \n",
       "3         12.0            middle       Cash X-Sell: middle   \n",
       "4         24.0              high         Cash Street: high   \n",
       "\n",
       "   DAYS_FIRST_DRAWING DAYS_FIRST_DUE DAYS_LAST_DUE_1ST_VERSION  DAYS_LAST_DUE  \\\n",
       "0            365243.0          -42.0                     300.0          -42.0   \n",
       "1            365243.0         -134.0                     916.0       365243.0   \n",
       "2            365243.0         -271.0                      59.0       365243.0   \n",
       "3            365243.0         -482.0                    -152.0         -182.0   \n",
       "4                 NaN            NaN                       NaN            NaN   \n",
       "\n",
       "  DAYS_TERMINATION NFLAG_INSURED_ON_APPROVAL  \n",
       "0            -37.0                       0.0  \n",
       "1         365243.0                       1.0  \n",
       "2         365243.0                       1.0  \n",
       "3           -177.0                       1.0  \n",
       "4              NaN                       NaN  \n",
       "\n",
       "[5 rows x 37 columns]"
      ]
     },
     "execution_count": 3,
     "metadata": {},
     "output_type": "execute_result"
    }
   ],
   "source": [
    "prev.head()"
   ]
  },
  {
   "cell_type": "markdown",
   "metadata": {},
   "source": [
    "# Substraction and ratio"
   ]
  },
  {
   "cell_type": "code",
   "execution_count": 6,
   "metadata": {
    "ExecuteTime": {
     "end_time": "2018-06-14T18:34:23.772581Z",
     "start_time": "2018-06-14T18:34:23.765528Z"
    },
    "collapsed": true
   },
   "outputs": [],
   "source": [
    "import pandas as pd\n",
    "import os\n",
    "import gc\n",
    "import numpy as np\n",
    "\n",
    "def ratio_name(numerator, denominator): return numerator + '_divide_' + denominator \n",
    "\n",
    "def ratio(df, numerator, denominator):\n",
    "    return df[numerator] / df[denominator]\n",
    "\n",
    "def substraction_name(col1, col2): return col1 + '_minus_' + col2\n",
    "\n",
    "def substraction(df, col1,col2):\n",
    "    return df[col1] - df[col2]\n"
   ]
  },
  {
   "cell_type": "code",
   "execution_count": 8,
   "metadata": {
    "ExecuteTime": {
     "end_time": "2018-06-14T18:34:40.817937Z",
     "start_time": "2018-06-14T18:34:40.791237Z"
    },
    "collapsed": true
   },
   "outputs": [],
   "source": [
    "# Ratio\n",
    "prev[ratio_name('AMT_APPLICATION', 'AMT_CREDIT')] = ratio(prev, 'AMT_APPLICATION', 'AMT_CREDIT')\n",
    "\n",
    "prev[ratio_name('AMT_DOWN_PAYMENT', 'RATE_DOWN_PAYMENT')] = ratio(prev, 'AMT_DOWN_PAYMENT', 'RATE_DOWN_PAYMENT')\n",
    "\n",
    "prev[ratio_name('AMT_CREDIT', 'CNT_PAYMENT')] = ratio(prev, 'AMT_CREDIT', 'CNT_PAYMENT')\n",
    "\n",
    "# Sub\n",
    "prev[substraction_name('DAYS_LAST_DUE', 'DAYS_FIRST_DUE')] = substraction(prev, 'DAYS_LAST_DUE', 'DAYS_FIRST_DUE')\n",
    "\n",
    "prev[substraction_name('AMT_APPLICATION', 'AMT_CREDIT')] = substraction(prev, 'AMT_APPLICATION', 'AMT_CREDIT')\n"
   ]
  },
  {
   "cell_type": "code",
   "execution_count": 9,
   "metadata": {
    "ExecuteTime": {
     "end_time": "2018-06-14T18:34:44.714638Z",
     "start_time": "2018-06-14T18:34:44.711463Z"
    }
   },
   "outputs": [
    {
     "name": "stdout",
     "output_type": "stream",
     "text": [
      "Index(['SK_ID_PREV', 'SK_ID_CURR', 'NAME_CONTRACT_TYPE', 'AMT_ANNUITY',\n",
      "       'AMT_APPLICATION', 'AMT_CREDIT', 'AMT_DOWN_PAYMENT', 'AMT_GOODS_PRICE',\n",
      "       'WEEKDAY_APPR_PROCESS_START', 'HOUR_APPR_PROCESS_START',\n",
      "       'FLAG_LAST_APPL_PER_CONTRACT', 'NFLAG_LAST_APPL_IN_DAY',\n",
      "       'RATE_DOWN_PAYMENT', 'RATE_INTEREST_PRIMARY',\n",
      "       'RATE_INTEREST_PRIVILEGED', 'NAME_CASH_LOAN_PURPOSE',\n",
      "       'NAME_CONTRACT_STATUS', 'DAYS_DECISION', 'NAME_PAYMENT_TYPE',\n",
      "       'CODE_REJECT_REASON', 'NAME_TYPE_SUITE', 'NAME_CLIENT_TYPE',\n",
      "       'NAME_GOODS_CATEGORY', 'NAME_PORTFOLIO', 'NAME_PRODUCT_TYPE',\n",
      "       'CHANNEL_TYPE', 'SELLERPLACE_AREA', 'NAME_SELLER_INDUSTRY',\n",
      "       'CNT_PAYMENT', 'NAME_YIELD_GROUP', 'PRODUCT_COMBINATION',\n",
      "       'DAYS_FIRST_DRAWING', 'DAYS_FIRST_DUE', 'DAYS_LAST_DUE_1ST_VERSION',\n",
      "       'DAYS_LAST_DUE', 'DAYS_TERMINATION', 'NFLAG_INSURED_ON_APPROVAL',\n",
      "       'AMT_APPLICATION_divide_AMT_CREDIT',\n",
      "       'AMT_DOWN_PAYMENT_divide_RATE_DOWN_PAYMENT',\n",
      "       'AMT_CREDIT_divide_CNT_PAYMENT', 'DAYS_LAST_DUE_minus_DAYS_FIRST_DUE',\n",
      "       'AMT_APPLICATION_minus_AMT_CREDIT'],\n",
      "      dtype='object')\n"
     ]
    }
   ],
   "source": [
    "print(prev.columns)"
   ]
  },
  {
   "cell_type": "code",
   "execution_count": 10,
   "metadata": {
    "ExecuteTime": {
     "end_time": "2018-06-14T18:35:19.752903Z",
     "start_time": "2018-06-14T18:35:19.745243Z"
    },
    "collapsed": true
   },
   "outputs": [],
   "source": [
    "# Drop Columns for numerical\n",
    "\n",
    "# For now drop: SELLERPLACE_AREA, RATE_INTEREST_PRIMARY, RATE_INTEREST_PRIVILEGED\n",
    "numerical_cols = ['AMT_APPLICATION_divide_AMT_CREDIT', 'AMT_ANNUITY', 'AMT_APPLICATION', 'AMT_CREDIT', 'AMT_DOWN_PAYMENT', 'AMT_GOODS_PRICE', 'HOUR_APPR_PROCESS_START', 'RATE_DOWN_PAYMENT',  'DAYS_DECISION', 'CNT_PAYMENT', 'DAYS_FIRST_DRAWING', 'DAYS_FIRST_DUE', 'DAYS_LAST_DUE_1ST_VERSION', 'DAYS_LAST_DUE', 'DAYS_TERMINATION',\n",
    "       'AMT_DOWN_PAYMENT_divide_RATE_DOWN_PAYMENT',\n",
    "       'AMT_CREDIT_divide_CNT_PAYMENT', 'DAYS_LAST_DUE_minus_DAYS_FIRST_DUE',\n",
    "       'AMT_APPLICATION_minus_AMT_CREDIT']\n",
    "\n",
    "extrafunc_list = [_ for _ in range(len(numerical_cols))]\n",
    "for i in range(len(numerical_cols)):\n",
    "    if i == 0:\n",
    "        extrafunc_list[i] = ['positive_count']\n",
    "    else:\n",
    "        extrafunc_list[i] = None"
   ]
  },
  {
   "cell_type": "code",
   "execution_count": 11,
   "metadata": {
    "ExecuteTime": {
     "end_time": "2018-06-14T18:35:21.458418Z",
     "start_time": "2018-06-14T18:35:21.455753Z"
    }
   },
   "outputs": [
    {
     "name": "stdout",
     "output_type": "stream",
     "text": [
      "[['positive_count'], None, None, None, None, None, None, None, None, None, None, None, None, None, None, None, None, None, None] 19\n"
     ]
    }
   ],
   "source": [
    "print(extrafunc_list,len(extrafunc_list))"
   ]
  },
  {
   "cell_type": "markdown",
   "metadata": {},
   "source": [
    "# Agg categorical columns"
   ]
  },
  {
   "cell_type": "code",
   "execution_count": 12,
   "metadata": {
    "ExecuteTime": {
     "end_time": "2018-06-14T18:35:23.852807Z",
     "start_time": "2018-06-14T18:35:23.708280Z"
    },
    "collapsed": true
   },
   "outputs": [],
   "source": [
    "def numerical_agg(df, gp_col, agg_col, df_name, extrafunc_list = None):\n",
    "    \n",
    "    agg_list = ['max', 'min', 'std','mean']\n",
    "    '''\n",
    "    Possible extrafunc_list: ['sum','median','two_minus_one_third','positive_count', 'negative_count','standard_error', 'trimmed_mean_10_pct', 'trimmed_mean_25_pct','normed_std', 'max_minus_min','one_third','two_third']\n",
    "    '''\n",
    "    if extrafunc_list:\n",
    "        if 'one_third' in extrafunc_list:\n",
    "            def one_third(series):\n",
    "                return series.quantile(1/3)\n",
    "            \n",
    "        if 'two_third' in extrafunc_list:\n",
    "            def two_third(series):\n",
    "                return series.quantile(2/3)\n",
    "            \n",
    "        if 'max_minus_min' in extrafunc_list:\n",
    "            def max_minus_min(series):\n",
    "                return (series.max() - series.min())\n",
    "        \n",
    "        if 'two_minus_one_third' in extrafunc_list:\n",
    "#             print('two_minus_one')\n",
    "#             print('get two minus one')\n",
    "            def two_minus_one_third(series):\n",
    "                return(series.quantile(0.66666) - series.quantile(0.33333))\n",
    "       \n",
    "        if 'positive_count' in extrafunc_list:\n",
    "#             print('get positive count')\n",
    "            def positive_count(series):\n",
    "                return pd.Series(series > 0).sum()\n",
    "\n",
    "        if 'negative_count' in extrafunc_list:\n",
    "#             print('get negative count')\n",
    "            def negative_count(series):\n",
    "                return pd.Series(series < 0).sum()\n",
    "\n",
    "        if 'standard_error' in extrafunc_list:\n",
    "#             print('get std-error')\n",
    "            def standard_error(series):\n",
    "                return series.std()/np.sqrt(len(series))\n",
    "\n",
    "        if 'normed_std' in extrafunc_list:\n",
    "#             print('get normed_std')\n",
    "            def normed_std(series):\n",
    "                return series.std()/series.mean()\n",
    "\n",
    "        if 'trimmed_mean_10_pct' in extrafunc_list:\n",
    "#             print('get_trimmed 10 pct')\n",
    "            def trimmed_mean_10_pct(series):\n",
    "                return stats.trim_mean(series.dropna(), 0.1)\n",
    "\n",
    "        if 'trimmed_mean_25_pct' in extrafunc_list:\n",
    "#             print('get_trimmed 25 pct')\n",
    "            def trimmed_mean_25_pct(series):\n",
    "                return stats.trim_mean(series.dropna(), 0.25)\n",
    "        \n",
    "        list_tocall = []\n",
    "        for i in extrafunc_list:\n",
    "            if i not in set(['sum', 'median']):\n",
    "                list_tocall.append(eval(i))\n",
    "            \n",
    "    if extrafunc_list != None:   \n",
    "        agg_list.extend(list_tocall)\n",
    "    \n",
    "    _df = df.groupby(gp_col).agg({agg_col:agg_list})\n",
    "    columns = []\n",
    "    for pre in _df.columns.levels[0]:\n",
    "        for middle in _df.columns.levels[1]:\n",
    "            columns.append('%s_%s_%s' %(df_name,pre,middle))\n",
    "    _df.columns = columns\n",
    "    \n",
    "    return _df.reset_index()"
   ]
  },
  {
   "cell_type": "code",
   "execution_count": 13,
   "metadata": {
    "ExecuteTime": {
     "end_time": "2018-06-14T18:36:40.276943Z",
     "start_time": "2018-06-14T18:35:35.002281Z"
    }
   },
   "outputs": [
    {
     "name": "stdout",
     "output_type": "stream",
     "text": [
      "AMT_APPLICATION_divide_AMT_CREDIT\n",
      "AMT_ANNUITY\n",
      "AMT_APPLICATION\n",
      "AMT_CREDIT\n",
      "AMT_DOWN_PAYMENT\n",
      "AMT_GOODS_PRICE\n",
      "HOUR_APPR_PROCESS_START\n",
      "RATE_DOWN_PAYMENT\n",
      "DAYS_DECISION\n",
      "CNT_PAYMENT\n",
      "DAYS_FIRST_DRAWING\n",
      "DAYS_FIRST_DUE\n",
      "DAYS_LAST_DUE_1ST_VERSION\n",
      "DAYS_LAST_DUE\n",
      "DAYS_TERMINATION\n",
      "AMT_DOWN_PAYMENT_divide_RATE_DOWN_PAYMENT\n",
      "AMT_CREDIT_divide_CNT_PAYMENT\n",
      "DAYS_LAST_DUE_minus_DAYS_FIRST_DUE\n",
      "AMT_APPLICATION_minus_AMT_CREDIT\n"
     ]
    }
   ],
   "source": [
    "gp_col = 'SK_ID_CURR'\n",
    "for i in range(len(extrafunc_list)):\n",
    "    print(numerical_cols[i])\n",
    "    df = df.merge(numerical_agg(prev, gp_col, numerical_cols[i], 'prev', extrafunc_list = extrafunc_list[i]), on = 'SK_ID_CURR', how='left')"
   ]
  },
  {
   "cell_type": "code",
   "execution_count": 14,
   "metadata": {
    "ExecuteTime": {
     "end_time": "2018-06-14T18:36:41.757414Z",
     "start_time": "2018-06-14T18:36:41.749609Z"
    }
   },
   "outputs": [
    {
     "data": {
      "text/plain": [
       "array(['SK_ID_CURR', 'prev_AMT_APPLICATION_divide_AMT_CREDIT_max',\n",
       "       'prev_AMT_APPLICATION_divide_AMT_CREDIT_min',\n",
       "       'prev_AMT_APPLICATION_divide_AMT_CREDIT_std',\n",
       "       'prev_AMT_APPLICATION_divide_AMT_CREDIT_mean',\n",
       "       'prev_AMT_APPLICATION_divide_AMT_CREDIT_positive_count',\n",
       "       'prev_AMT_ANNUITY_max', 'prev_AMT_ANNUITY_min',\n",
       "       'prev_AMT_ANNUITY_std', 'prev_AMT_ANNUITY_mean',\n",
       "       'prev_AMT_APPLICATION_max', 'prev_AMT_APPLICATION_min',\n",
       "       'prev_AMT_APPLICATION_std', 'prev_AMT_APPLICATION_mean',\n",
       "       'prev_AMT_CREDIT_max', 'prev_AMT_CREDIT_min', 'prev_AMT_CREDIT_std',\n",
       "       'prev_AMT_CREDIT_mean', 'prev_AMT_DOWN_PAYMENT_max',\n",
       "       'prev_AMT_DOWN_PAYMENT_min', 'prev_AMT_DOWN_PAYMENT_std',\n",
       "       'prev_AMT_DOWN_PAYMENT_mean', 'prev_AMT_GOODS_PRICE_max',\n",
       "       'prev_AMT_GOODS_PRICE_min', 'prev_AMT_GOODS_PRICE_std',\n",
       "       'prev_AMT_GOODS_PRICE_mean', 'prev_HOUR_APPR_PROCESS_START_max',\n",
       "       'prev_HOUR_APPR_PROCESS_START_min',\n",
       "       'prev_HOUR_APPR_PROCESS_START_std',\n",
       "       'prev_HOUR_APPR_PROCESS_START_mean', 'prev_RATE_DOWN_PAYMENT_max',\n",
       "       'prev_RATE_DOWN_PAYMENT_min', 'prev_RATE_DOWN_PAYMENT_std',\n",
       "       'prev_RATE_DOWN_PAYMENT_mean', 'prev_DAYS_DECISION_max',\n",
       "       'prev_DAYS_DECISION_min', 'prev_DAYS_DECISION_std',\n",
       "       'prev_DAYS_DECISION_mean', 'prev_CNT_PAYMENT_max',\n",
       "       'prev_CNT_PAYMENT_min', 'prev_CNT_PAYMENT_std',\n",
       "       'prev_CNT_PAYMENT_mean', 'prev_DAYS_FIRST_DRAWING_max',\n",
       "       'prev_DAYS_FIRST_DRAWING_min', 'prev_DAYS_FIRST_DRAWING_std',\n",
       "       'prev_DAYS_FIRST_DRAWING_mean', 'prev_DAYS_FIRST_DUE_max',\n",
       "       'prev_DAYS_FIRST_DUE_min', 'prev_DAYS_FIRST_DUE_std',\n",
       "       'prev_DAYS_FIRST_DUE_mean', 'prev_DAYS_LAST_DUE_1ST_VERSION_max',\n",
       "       'prev_DAYS_LAST_DUE_1ST_VERSION_min',\n",
       "       'prev_DAYS_LAST_DUE_1ST_VERSION_std',\n",
       "       'prev_DAYS_LAST_DUE_1ST_VERSION_mean', 'prev_DAYS_LAST_DUE_max',\n",
       "       'prev_DAYS_LAST_DUE_min', 'prev_DAYS_LAST_DUE_std',\n",
       "       'prev_DAYS_LAST_DUE_mean', 'prev_DAYS_TERMINATION_max',\n",
       "       'prev_DAYS_TERMINATION_min', 'prev_DAYS_TERMINATION_std',\n",
       "       'prev_DAYS_TERMINATION_mean',\n",
       "       'prev_AMT_DOWN_PAYMENT_divide_RATE_DOWN_PAYMENT_max',\n",
       "       'prev_AMT_DOWN_PAYMENT_divide_RATE_DOWN_PAYMENT_min',\n",
       "       'prev_AMT_DOWN_PAYMENT_divide_RATE_DOWN_PAYMENT_std',\n",
       "       'prev_AMT_DOWN_PAYMENT_divide_RATE_DOWN_PAYMENT_mean',\n",
       "       'prev_AMT_CREDIT_divide_CNT_PAYMENT_max',\n",
       "       'prev_AMT_CREDIT_divide_CNT_PAYMENT_min',\n",
       "       'prev_AMT_CREDIT_divide_CNT_PAYMENT_std',\n",
       "       'prev_AMT_CREDIT_divide_CNT_PAYMENT_mean',\n",
       "       'prev_DAYS_LAST_DUE_minus_DAYS_FIRST_DUE_max',\n",
       "       'prev_DAYS_LAST_DUE_minus_DAYS_FIRST_DUE_min',\n",
       "       'prev_DAYS_LAST_DUE_minus_DAYS_FIRST_DUE_std',\n",
       "       'prev_DAYS_LAST_DUE_minus_DAYS_FIRST_DUE_mean',\n",
       "       'prev_AMT_APPLICATION_minus_AMT_CREDIT_max',\n",
       "       'prev_AMT_APPLICATION_minus_AMT_CREDIT_min',\n",
       "       'prev_AMT_APPLICATION_minus_AMT_CREDIT_std',\n",
       "       'prev_AMT_APPLICATION_minus_AMT_CREDIT_mean'], dtype=object)"
      ]
     },
     "execution_count": 14,
     "metadata": {},
     "output_type": "execute_result"
    }
   ],
   "source": [
    "df.columns.values"
   ]
  },
  {
   "cell_type": "markdown",
   "metadata": {},
   "source": [
    "# Categorical Columns"
   ]
  },
  {
   "cell_type": "code",
   "execution_count": 15,
   "metadata": {
    "ExecuteTime": {
     "end_time": "2018-06-14T18:36:43.244766Z",
     "start_time": "2018-06-14T18:36:43.239688Z"
    }
   },
   "outputs": [
    {
     "data": {
      "text/plain": [
       "['NAME_CONTRACT_TYPE',\n",
       " 'WEEKDAY_APPR_PROCESS_START',\n",
       " 'FLAG_LAST_APPL_PER_CONTRACT',\n",
       " 'NAME_CASH_LOAN_PURPOSE',\n",
       " 'NAME_CONTRACT_STATUS',\n",
       " 'NAME_PAYMENT_TYPE',\n",
       " 'CODE_REJECT_REASON',\n",
       " 'NAME_TYPE_SUITE',\n",
       " 'NAME_CLIENT_TYPE',\n",
       " 'NAME_GOODS_CATEGORY',\n",
       " 'NAME_PORTFOLIO',\n",
       " 'NAME_PRODUCT_TYPE',\n",
       " 'CHANNEL_TYPE',\n",
       " 'NAME_SELLER_INDUSTRY',\n",
       " 'NAME_YIELD_GROUP',\n",
       " 'PRODUCT_COMBINATION',\n",
       " 'NFLAG_LAST_APPL_IN_DAY',\n",
       " 'NFLAG_INSURED_ON_APPROVAL']"
      ]
     },
     "execution_count": 15,
     "metadata": {},
     "output_type": "execute_result"
    }
   ],
   "source": [
    "categorical_cols = [col for col in prev.columns if prev[col].dtype == 'object']\n",
    "categorical_cols.append('NFLAG_LAST_APPL_IN_DAY')\n",
    "categorical_cols.append('NFLAG_INSURED_ON_APPROVAL')\n",
    "categorical_cols\n",
    "# Plus two nflag columns for categorical columns"
   ]
  },
  {
   "cell_type": "code",
   "execution_count": 16,
   "metadata": {
    "ExecuteTime": {
     "end_time": "2018-06-14T18:36:44.710014Z",
     "start_time": "2018-06-14T18:36:44.682947Z"
    },
    "collapsed": true
   },
   "outputs": [],
   "source": [
    "def _set_type(series, dtype):\n",
    "    _max, _min = max(series), min(series)\n",
    "    if dtype == 'uint':\n",
    "        if _max <= 255: return np.uint8\n",
    "        elif _max <= 65535: return np.uint16\n",
    "        elif _max <= 4294967295: return np.uint32\n",
    "        else: return np.uint64\n",
    "    elif dtype == 'int':\n",
    "        if _min >= -128 and _max <= 127: return np.int8\n",
    "        elif _min >=-32768 and _max <= 32767: return np.int16\n",
    "        elif _min >= -2147483648 and _max <= 2147483647: return np.int32\n",
    "        else: return np.int64\n",
    "    elif dtype == 'float':\n",
    "        if max(abs(_min), _max) <= 3.4028235e+38: return np.float32\n",
    "        else: return np.float64\n",
    "\n",
    "def split_categorical_feature(df, group_col, calc_col):\n",
    "    tmp_df = pd.concat([df[group_col], pd.get_dummies(df[calc_col], prefix=calc_col)], axis=1).groupby(by=group_col).sum().reset_index()\n",
    "    dtype = {x: _set_type(tmp_df[x], 'uint') for x in tmp_df.columns if x != group_col}\n",
    "    for x in tmp_df:\n",
    "        if x in df.columns:\n",
    "            dtype[x] = df[x].dtype\n",
    "    return tmp_df.astype(dtype)"
   ]
  },
  {
   "cell_type": "code",
   "execution_count": 18,
   "metadata": {
    "ExecuteTime": {
     "end_time": "2018-06-14T18:37:30.815643Z",
     "start_time": "2018-06-14T18:37:08.423306Z"
    }
   },
   "outputs": [
    {
     "name": "stdout",
     "output_type": "stream",
     "text": [
      "NAME_CONTRACT_TYPE\n",
      "WEEKDAY_APPR_PROCESS_START\n",
      "FLAG_LAST_APPL_PER_CONTRACT\n",
      "NAME_CASH_LOAN_PURPOSE\n",
      "NAME_CONTRACT_STATUS\n",
      "NAME_PAYMENT_TYPE\n",
      "CODE_REJECT_REASON\n",
      "NAME_TYPE_SUITE\n",
      "NAME_CLIENT_TYPE\n",
      "NAME_GOODS_CATEGORY\n",
      "NAME_PORTFOLIO\n",
      "NAME_PRODUCT_TYPE\n",
      "CHANNEL_TYPE\n",
      "NAME_SELLER_INDUSTRY\n",
      "NAME_YIELD_GROUP\n",
      "PRODUCT_COMBINATION\n",
      "NFLAG_LAST_APPL_IN_DAY\n",
      "NFLAG_INSURED_ON_APPROVAL\n"
     ]
    }
   ],
   "source": [
    "for col in categorical_cols:\n",
    "    print(col)\n",
    "    df = df.merge(split_categorical_feature(prev, 'SK_ID_CURR', col), on='SK_ID_CURR', how='left')\n",
    "    gc.collect()"
   ]
  },
  {
   "cell_type": "code",
   "execution_count": 19,
   "metadata": {
    "ExecuteTime": {
     "end_time": "2018-06-14T18:37:31.995834Z",
     "start_time": "2018-06-14T18:37:31.991250Z"
    }
   },
   "outputs": [
    {
     "data": {
      "text/plain": [
       "array(['SK_ID_CURR', 'prev_AMT_APPLICATION_divide_AMT_CREDIT_max',\n",
       "       'prev_AMT_APPLICATION_divide_AMT_CREDIT_min',\n",
       "       'prev_AMT_APPLICATION_divide_AMT_CREDIT_std',\n",
       "       'prev_AMT_APPLICATION_divide_AMT_CREDIT_mean',\n",
       "       'prev_AMT_APPLICATION_divide_AMT_CREDIT_positive_count',\n",
       "       'prev_AMT_ANNUITY_max', 'prev_AMT_ANNUITY_min',\n",
       "       'prev_AMT_ANNUITY_std', 'prev_AMT_ANNUITY_mean',\n",
       "       'prev_AMT_APPLICATION_max', 'prev_AMT_APPLICATION_min',\n",
       "       'prev_AMT_APPLICATION_std', 'prev_AMT_APPLICATION_mean',\n",
       "       'prev_AMT_CREDIT_max', 'prev_AMT_CREDIT_min', 'prev_AMT_CREDIT_std',\n",
       "       'prev_AMT_CREDIT_mean', 'prev_AMT_DOWN_PAYMENT_max',\n",
       "       'prev_AMT_DOWN_PAYMENT_min', 'prev_AMT_DOWN_PAYMENT_std',\n",
       "       'prev_AMT_DOWN_PAYMENT_mean', 'prev_AMT_GOODS_PRICE_max',\n",
       "       'prev_AMT_GOODS_PRICE_min', 'prev_AMT_GOODS_PRICE_std',\n",
       "       'prev_AMT_GOODS_PRICE_mean', 'prev_HOUR_APPR_PROCESS_START_max',\n",
       "       'prev_HOUR_APPR_PROCESS_START_min',\n",
       "       'prev_HOUR_APPR_PROCESS_START_std',\n",
       "       'prev_HOUR_APPR_PROCESS_START_mean', 'prev_RATE_DOWN_PAYMENT_max',\n",
       "       'prev_RATE_DOWN_PAYMENT_min', 'prev_RATE_DOWN_PAYMENT_std',\n",
       "       'prev_RATE_DOWN_PAYMENT_mean', 'prev_DAYS_DECISION_max',\n",
       "       'prev_DAYS_DECISION_min', 'prev_DAYS_DECISION_std',\n",
       "       'prev_DAYS_DECISION_mean', 'prev_CNT_PAYMENT_max',\n",
       "       'prev_CNT_PAYMENT_min', 'prev_CNT_PAYMENT_std',\n",
       "       'prev_CNT_PAYMENT_mean', 'prev_DAYS_FIRST_DRAWING_max',\n",
       "       'prev_DAYS_FIRST_DRAWING_min', 'prev_DAYS_FIRST_DRAWING_std',\n",
       "       'prev_DAYS_FIRST_DRAWING_mean', 'prev_DAYS_FIRST_DUE_max',\n",
       "       'prev_DAYS_FIRST_DUE_min', 'prev_DAYS_FIRST_DUE_std',\n",
       "       'prev_DAYS_FIRST_DUE_mean', 'prev_DAYS_LAST_DUE_1ST_VERSION_max',\n",
       "       'prev_DAYS_LAST_DUE_1ST_VERSION_min',\n",
       "       'prev_DAYS_LAST_DUE_1ST_VERSION_std',\n",
       "       'prev_DAYS_LAST_DUE_1ST_VERSION_mean', 'prev_DAYS_LAST_DUE_max',\n",
       "       'prev_DAYS_LAST_DUE_min', 'prev_DAYS_LAST_DUE_std',\n",
       "       'prev_DAYS_LAST_DUE_mean', 'prev_DAYS_TERMINATION_max',\n",
       "       'prev_DAYS_TERMINATION_min', 'prev_DAYS_TERMINATION_std',\n",
       "       'prev_DAYS_TERMINATION_mean',\n",
       "       'prev_AMT_DOWN_PAYMENT_divide_RATE_DOWN_PAYMENT_max',\n",
       "       'prev_AMT_DOWN_PAYMENT_divide_RATE_DOWN_PAYMENT_min',\n",
       "       'prev_AMT_DOWN_PAYMENT_divide_RATE_DOWN_PAYMENT_std',\n",
       "       'prev_AMT_DOWN_PAYMENT_divide_RATE_DOWN_PAYMENT_mean',\n",
       "       'prev_AMT_CREDIT_divide_CNT_PAYMENT_max',\n",
       "       'prev_AMT_CREDIT_divide_CNT_PAYMENT_min',\n",
       "       'prev_AMT_CREDIT_divide_CNT_PAYMENT_std',\n",
       "       'prev_AMT_CREDIT_divide_CNT_PAYMENT_mean',\n",
       "       'prev_DAYS_LAST_DUE_minus_DAYS_FIRST_DUE_max',\n",
       "       'prev_DAYS_LAST_DUE_minus_DAYS_FIRST_DUE_min',\n",
       "       'prev_DAYS_LAST_DUE_minus_DAYS_FIRST_DUE_std',\n",
       "       'prev_DAYS_LAST_DUE_minus_DAYS_FIRST_DUE_mean',\n",
       "       'prev_AMT_APPLICATION_minus_AMT_CREDIT_max',\n",
       "       'prev_AMT_APPLICATION_minus_AMT_CREDIT_min',\n",
       "       'prev_AMT_APPLICATION_minus_AMT_CREDIT_std',\n",
       "       'prev_AMT_APPLICATION_minus_AMT_CREDIT_mean',\n",
       "       'NAME_CONTRACT_TYPE_Cash loans_x',\n",
       "       'NAME_CONTRACT_TYPE_Consumer loans_x',\n",
       "       'NAME_CONTRACT_TYPE_Revolving loans_x', 'NAME_CONTRACT_TYPE_XNA_x',\n",
       "       'WEEKDAY_APPR_PROCESS_START_FRIDAY_x',\n",
       "       'WEEKDAY_APPR_PROCESS_START_MONDAY_x',\n",
       "       'WEEKDAY_APPR_PROCESS_START_SATURDAY_x',\n",
       "       'WEEKDAY_APPR_PROCESS_START_SUNDAY_x',\n",
       "       'WEEKDAY_APPR_PROCESS_START_THURSDAY_x',\n",
       "       'WEEKDAY_APPR_PROCESS_START_TUESDAY_x',\n",
       "       'WEEKDAY_APPR_PROCESS_START_WEDNESDAY_x',\n",
       "       'FLAG_LAST_APPL_PER_CONTRACT_N_x',\n",
       "       'FLAG_LAST_APPL_PER_CONTRACT_Y_x',\n",
       "       'NAME_CASH_LOAN_PURPOSE_Building a house or an annex_x',\n",
       "       'NAME_CASH_LOAN_PURPOSE_Business development_x',\n",
       "       'NAME_CASH_LOAN_PURPOSE_Buying a garage_x',\n",
       "       'NAME_CASH_LOAN_PURPOSE_Buying a holiday home / land_x',\n",
       "       'NAME_CASH_LOAN_PURPOSE_Buying a home_x',\n",
       "       'NAME_CASH_LOAN_PURPOSE_Buying a new car_x',\n",
       "       'NAME_CASH_LOAN_PURPOSE_Buying a used car_x',\n",
       "       'NAME_CASH_LOAN_PURPOSE_Car repairs_x',\n",
       "       'NAME_CASH_LOAN_PURPOSE_Education_x',\n",
       "       'NAME_CASH_LOAN_PURPOSE_Everyday expenses_x',\n",
       "       'NAME_CASH_LOAN_PURPOSE_Furniture_x',\n",
       "       'NAME_CASH_LOAN_PURPOSE_Gasification / water supply_x',\n",
       "       'NAME_CASH_LOAN_PURPOSE_Hobby_x',\n",
       "       'NAME_CASH_LOAN_PURPOSE_Journey_x',\n",
       "       'NAME_CASH_LOAN_PURPOSE_Medicine_x',\n",
       "       'NAME_CASH_LOAN_PURPOSE_Money for a third person_x',\n",
       "       'NAME_CASH_LOAN_PURPOSE_Other_x',\n",
       "       'NAME_CASH_LOAN_PURPOSE_Payments on other loans_x',\n",
       "       'NAME_CASH_LOAN_PURPOSE_Purchase of electronic equipment_x',\n",
       "       'NAME_CASH_LOAN_PURPOSE_Refusal to name the goal_x',\n",
       "       'NAME_CASH_LOAN_PURPOSE_Repairs_x',\n",
       "       'NAME_CASH_LOAN_PURPOSE_Urgent needs_x',\n",
       "       'NAME_CASH_LOAN_PURPOSE_Wedding / gift / holiday_x',\n",
       "       'NAME_CASH_LOAN_PURPOSE_XAP_x', 'NAME_CASH_LOAN_PURPOSE_XNA_x',\n",
       "       'NAME_CONTRACT_STATUS_Approved_x',\n",
       "       'NAME_CONTRACT_STATUS_Canceled_x', 'NAME_CONTRACT_STATUS_Refused_x',\n",
       "       'NAME_CONTRACT_STATUS_Unused offer_x',\n",
       "       'NAME_PAYMENT_TYPE_Cash through the bank_x',\n",
       "       'NAME_PAYMENT_TYPE_Cashless from the account of the employer_x',\n",
       "       'NAME_PAYMENT_TYPE_Non-cash from your account_x',\n",
       "       'NAME_PAYMENT_TYPE_XNA_x', 'CODE_REJECT_REASON_CLIENT_x',\n",
       "       'CODE_REJECT_REASON_HC_x', 'CODE_REJECT_REASON_LIMIT_x',\n",
       "       'CODE_REJECT_REASON_SCO_x', 'CODE_REJECT_REASON_SCOFR_x',\n",
       "       'CODE_REJECT_REASON_SYSTEM_x', 'CODE_REJECT_REASON_VERIF_x',\n",
       "       'CODE_REJECT_REASON_XAP_x', 'CODE_REJECT_REASON_XNA_x',\n",
       "       'NAME_TYPE_SUITE_Children_x', 'NAME_TYPE_SUITE_Family_x',\n",
       "       'NAME_TYPE_SUITE_Group of people_x', 'NAME_TYPE_SUITE_Other_A_x',\n",
       "       'NAME_TYPE_SUITE_Other_B_x', 'NAME_TYPE_SUITE_Spouse, partner_x',\n",
       "       'NAME_TYPE_SUITE_Unaccompanied_x', 'NAME_CLIENT_TYPE_New_x',\n",
       "       'NAME_CLIENT_TYPE_Refreshed_x', 'NAME_CLIENT_TYPE_Repeater_x',\n",
       "       'NAME_CLIENT_TYPE_XNA_x',\n",
       "       'NAME_GOODS_CATEGORY_Additional Service_x',\n",
       "       'NAME_GOODS_CATEGORY_Animals_x',\n",
       "       'NAME_GOODS_CATEGORY_Audio/Video_x',\n",
       "       'NAME_GOODS_CATEGORY_Auto Accessories_x',\n",
       "       'NAME_GOODS_CATEGORY_Clothing and Accessories_x',\n",
       "       'NAME_GOODS_CATEGORY_Computers_x',\n",
       "       'NAME_GOODS_CATEGORY_Construction Materials_x',\n",
       "       'NAME_GOODS_CATEGORY_Consumer Electronics_x',\n",
       "       'NAME_GOODS_CATEGORY_Direct Sales_x',\n",
       "       'NAME_GOODS_CATEGORY_Education_x', 'NAME_GOODS_CATEGORY_Fitness_x',\n",
       "       'NAME_GOODS_CATEGORY_Furniture_x',\n",
       "       'NAME_GOODS_CATEGORY_Gardening_x',\n",
       "       'NAME_GOODS_CATEGORY_Homewares_x',\n",
       "       'NAME_GOODS_CATEGORY_House Construction_x',\n",
       "       'NAME_GOODS_CATEGORY_Insurance_x', 'NAME_GOODS_CATEGORY_Jewelry_x',\n",
       "       'NAME_GOODS_CATEGORY_Medical Supplies_x',\n",
       "       'NAME_GOODS_CATEGORY_Medicine_x', 'NAME_GOODS_CATEGORY_Mobile_x',\n",
       "       'NAME_GOODS_CATEGORY_Office Appliances_x',\n",
       "       'NAME_GOODS_CATEGORY_Other_x',\n",
       "       'NAME_GOODS_CATEGORY_Photo / Cinema Equipment_x',\n",
       "       'NAME_GOODS_CATEGORY_Sport and Leisure_x',\n",
       "       'NAME_GOODS_CATEGORY_Tourism_x', 'NAME_GOODS_CATEGORY_Vehicles_x',\n",
       "       'NAME_GOODS_CATEGORY_Weapon_x', 'NAME_GOODS_CATEGORY_XNA_x',\n",
       "       'NAME_PORTFOLIO_Cards_x', 'NAME_PORTFOLIO_Cars_x',\n",
       "       'NAME_PORTFOLIO_Cash_x', 'NAME_PORTFOLIO_POS_x',\n",
       "       'NAME_PORTFOLIO_XNA_x', 'NAME_PRODUCT_TYPE_XNA_x',\n",
       "       'NAME_PRODUCT_TYPE_walk-in_x', 'NAME_PRODUCT_TYPE_x-sell_x',\n",
       "       'CHANNEL_TYPE_AP+ (Cash loan)_x', 'CHANNEL_TYPE_Car dealer_x',\n",
       "       'CHANNEL_TYPE_Channel of corporate sales_x',\n",
       "       'CHANNEL_TYPE_Contact center_x', 'CHANNEL_TYPE_Country-wide_x',\n",
       "       'CHANNEL_TYPE_Credit and cash offices_x',\n",
       "       'CHANNEL_TYPE_Regional / Local_x', 'CHANNEL_TYPE_Stone_x',\n",
       "       'NAME_SELLER_INDUSTRY_Auto technology_x',\n",
       "       'NAME_SELLER_INDUSTRY_Clothing_x',\n",
       "       'NAME_SELLER_INDUSTRY_Connectivity_x',\n",
       "       'NAME_SELLER_INDUSTRY_Construction_x',\n",
       "       'NAME_SELLER_INDUSTRY_Consumer electronics_x',\n",
       "       'NAME_SELLER_INDUSTRY_Furniture_x',\n",
       "       'NAME_SELLER_INDUSTRY_Industry_x', 'NAME_SELLER_INDUSTRY_Jewelry_x',\n",
       "       'NAME_SELLER_INDUSTRY_MLM partners_x',\n",
       "       'NAME_SELLER_INDUSTRY_Tourism_x', 'NAME_SELLER_INDUSTRY_XNA_x',\n",
       "       'NAME_YIELD_GROUP_XNA_x', 'NAME_YIELD_GROUP_high_x',\n",
       "       'NAME_YIELD_GROUP_low_action_x', 'NAME_YIELD_GROUP_low_normal_x',\n",
       "       'NAME_YIELD_GROUP_middle_x', 'PRODUCT_COMBINATION_Card Street_x',\n",
       "       'PRODUCT_COMBINATION_Card X-Sell_x', 'PRODUCT_COMBINATION_Cash_x',\n",
       "       'PRODUCT_COMBINATION_Cash Street: high_x',\n",
       "       'PRODUCT_COMBINATION_Cash Street: low_x',\n",
       "       'PRODUCT_COMBINATION_Cash Street: middle_x',\n",
       "       'PRODUCT_COMBINATION_Cash X-Sell: high_x',\n",
       "       'PRODUCT_COMBINATION_Cash X-Sell: low_x',\n",
       "       'PRODUCT_COMBINATION_Cash X-Sell: middle_x',\n",
       "       'PRODUCT_COMBINATION_POS household with interest_x',\n",
       "       'PRODUCT_COMBINATION_POS household without interest_x',\n",
       "       'PRODUCT_COMBINATION_POS industry with interest_x',\n",
       "       'PRODUCT_COMBINATION_POS industry without interest_x',\n",
       "       'PRODUCT_COMBINATION_POS mobile with interest_x',\n",
       "       'PRODUCT_COMBINATION_POS mobile without interest_x',\n",
       "       'PRODUCT_COMBINATION_POS other with interest_x',\n",
       "       'PRODUCT_COMBINATION_POS others without interest_x',\n",
       "       'NFLAG_LAST_APPL_IN_DAY_0_x', 'NFLAG_LAST_APPL_IN_DAY_1_x',\n",
       "       'NFLAG_INSURED_ON_APPROVAL_0.0_x',\n",
       "       'NFLAG_INSURED_ON_APPROVAL_1.0_x',\n",
       "       'NAME_CONTRACT_TYPE_Cash loans_y',\n",
       "       'NAME_CONTRACT_TYPE_Consumer loans_y',\n",
       "       'NAME_CONTRACT_TYPE_Revolving loans_y', 'NAME_CONTRACT_TYPE_XNA_y',\n",
       "       'WEEKDAY_APPR_PROCESS_START_FRIDAY_y',\n",
       "       'WEEKDAY_APPR_PROCESS_START_MONDAY_y',\n",
       "       'WEEKDAY_APPR_PROCESS_START_SATURDAY_y',\n",
       "       'WEEKDAY_APPR_PROCESS_START_SUNDAY_y',\n",
       "       'WEEKDAY_APPR_PROCESS_START_THURSDAY_y',\n",
       "       'WEEKDAY_APPR_PROCESS_START_TUESDAY_y',\n",
       "       'WEEKDAY_APPR_PROCESS_START_WEDNESDAY_y',\n",
       "       'FLAG_LAST_APPL_PER_CONTRACT_N_y',\n",
       "       'FLAG_LAST_APPL_PER_CONTRACT_Y_y',\n",
       "       'NAME_CASH_LOAN_PURPOSE_Building a house or an annex_y',\n",
       "       'NAME_CASH_LOAN_PURPOSE_Business development_y',\n",
       "       'NAME_CASH_LOAN_PURPOSE_Buying a garage_y',\n",
       "       'NAME_CASH_LOAN_PURPOSE_Buying a holiday home / land_y',\n",
       "       'NAME_CASH_LOAN_PURPOSE_Buying a home_y',\n",
       "       'NAME_CASH_LOAN_PURPOSE_Buying a new car_y',\n",
       "       'NAME_CASH_LOAN_PURPOSE_Buying a used car_y',\n",
       "       'NAME_CASH_LOAN_PURPOSE_Car repairs_y',\n",
       "       'NAME_CASH_LOAN_PURPOSE_Education_y',\n",
       "       'NAME_CASH_LOAN_PURPOSE_Everyday expenses_y',\n",
       "       'NAME_CASH_LOAN_PURPOSE_Furniture_y',\n",
       "       'NAME_CASH_LOAN_PURPOSE_Gasification / water supply_y',\n",
       "       'NAME_CASH_LOAN_PURPOSE_Hobby_y',\n",
       "       'NAME_CASH_LOAN_PURPOSE_Journey_y',\n",
       "       'NAME_CASH_LOAN_PURPOSE_Medicine_y',\n",
       "       'NAME_CASH_LOAN_PURPOSE_Money for a third person_y',\n",
       "       'NAME_CASH_LOAN_PURPOSE_Other_y',\n",
       "       'NAME_CASH_LOAN_PURPOSE_Payments on other loans_y',\n",
       "       'NAME_CASH_LOAN_PURPOSE_Purchase of electronic equipment_y',\n",
       "       'NAME_CASH_LOAN_PURPOSE_Refusal to name the goal_y',\n",
       "       'NAME_CASH_LOAN_PURPOSE_Repairs_y',\n",
       "       'NAME_CASH_LOAN_PURPOSE_Urgent needs_y',\n",
       "       'NAME_CASH_LOAN_PURPOSE_Wedding / gift / holiday_y',\n",
       "       'NAME_CASH_LOAN_PURPOSE_XAP_y', 'NAME_CASH_LOAN_PURPOSE_XNA_y',\n",
       "       'NAME_CONTRACT_STATUS_Approved_y',\n",
       "       'NAME_CONTRACT_STATUS_Canceled_y', 'NAME_CONTRACT_STATUS_Refused_y',\n",
       "       'NAME_CONTRACT_STATUS_Unused offer_y',\n",
       "       'NAME_PAYMENT_TYPE_Cash through the bank_y',\n",
       "       'NAME_PAYMENT_TYPE_Cashless from the account of the employer_y',\n",
       "       'NAME_PAYMENT_TYPE_Non-cash from your account_y',\n",
       "       'NAME_PAYMENT_TYPE_XNA_y', 'CODE_REJECT_REASON_CLIENT_y',\n",
       "       'CODE_REJECT_REASON_HC_y', 'CODE_REJECT_REASON_LIMIT_y',\n",
       "       'CODE_REJECT_REASON_SCO_y', 'CODE_REJECT_REASON_SCOFR_y',\n",
       "       'CODE_REJECT_REASON_SYSTEM_y', 'CODE_REJECT_REASON_VERIF_y',\n",
       "       'CODE_REJECT_REASON_XAP_y', 'CODE_REJECT_REASON_XNA_y',\n",
       "       'NAME_TYPE_SUITE_Children_y', 'NAME_TYPE_SUITE_Family_y',\n",
       "       'NAME_TYPE_SUITE_Group of people_y', 'NAME_TYPE_SUITE_Other_A_y',\n",
       "       'NAME_TYPE_SUITE_Other_B_y', 'NAME_TYPE_SUITE_Spouse, partner_y',\n",
       "       'NAME_TYPE_SUITE_Unaccompanied_y', 'NAME_CLIENT_TYPE_New_y',\n",
       "       'NAME_CLIENT_TYPE_Refreshed_y', 'NAME_CLIENT_TYPE_Repeater_y',\n",
       "       'NAME_CLIENT_TYPE_XNA_y',\n",
       "       'NAME_GOODS_CATEGORY_Additional Service_y',\n",
       "       'NAME_GOODS_CATEGORY_Animals_y',\n",
       "       'NAME_GOODS_CATEGORY_Audio/Video_y',\n",
       "       'NAME_GOODS_CATEGORY_Auto Accessories_y',\n",
       "       'NAME_GOODS_CATEGORY_Clothing and Accessories_y',\n",
       "       'NAME_GOODS_CATEGORY_Computers_y',\n",
       "       'NAME_GOODS_CATEGORY_Construction Materials_y',\n",
       "       'NAME_GOODS_CATEGORY_Consumer Electronics_y',\n",
       "       'NAME_GOODS_CATEGORY_Direct Sales_y',\n",
       "       'NAME_GOODS_CATEGORY_Education_y', 'NAME_GOODS_CATEGORY_Fitness_y',\n",
       "       'NAME_GOODS_CATEGORY_Furniture_y',\n",
       "       'NAME_GOODS_CATEGORY_Gardening_y',\n",
       "       'NAME_GOODS_CATEGORY_Homewares_y',\n",
       "       'NAME_GOODS_CATEGORY_House Construction_y',\n",
       "       'NAME_GOODS_CATEGORY_Insurance_y', 'NAME_GOODS_CATEGORY_Jewelry_y',\n",
       "       'NAME_GOODS_CATEGORY_Medical Supplies_y',\n",
       "       'NAME_GOODS_CATEGORY_Medicine_y', 'NAME_GOODS_CATEGORY_Mobile_y',\n",
       "       'NAME_GOODS_CATEGORY_Office Appliances_y',\n",
       "       'NAME_GOODS_CATEGORY_Other_y',\n",
       "       'NAME_GOODS_CATEGORY_Photo / Cinema Equipment_y',\n",
       "       'NAME_GOODS_CATEGORY_Sport and Leisure_y',\n",
       "       'NAME_GOODS_CATEGORY_Tourism_y', 'NAME_GOODS_CATEGORY_Vehicles_y',\n",
       "       'NAME_GOODS_CATEGORY_Weapon_y', 'NAME_GOODS_CATEGORY_XNA_y',\n",
       "       'NAME_PORTFOLIO_Cards_y', 'NAME_PORTFOLIO_Cars_y',\n",
       "       'NAME_PORTFOLIO_Cash_y', 'NAME_PORTFOLIO_POS_y',\n",
       "       'NAME_PORTFOLIO_XNA_y', 'NAME_PRODUCT_TYPE_XNA_y',\n",
       "       'NAME_PRODUCT_TYPE_walk-in_y', 'NAME_PRODUCT_TYPE_x-sell_y',\n",
       "       'CHANNEL_TYPE_AP+ (Cash loan)_y', 'CHANNEL_TYPE_Car dealer_y',\n",
       "       'CHANNEL_TYPE_Channel of corporate sales_y',\n",
       "       'CHANNEL_TYPE_Contact center_y', 'CHANNEL_TYPE_Country-wide_y',\n",
       "       'CHANNEL_TYPE_Credit and cash offices_y',\n",
       "       'CHANNEL_TYPE_Regional / Local_y', 'CHANNEL_TYPE_Stone_y',\n",
       "       'NAME_SELLER_INDUSTRY_Auto technology_y',\n",
       "       'NAME_SELLER_INDUSTRY_Clothing_y',\n",
       "       'NAME_SELLER_INDUSTRY_Connectivity_y',\n",
       "       'NAME_SELLER_INDUSTRY_Construction_y',\n",
       "       'NAME_SELLER_INDUSTRY_Consumer electronics_y',\n",
       "       'NAME_SELLER_INDUSTRY_Furniture_y',\n",
       "       'NAME_SELLER_INDUSTRY_Industry_y', 'NAME_SELLER_INDUSTRY_Jewelry_y',\n",
       "       'NAME_SELLER_INDUSTRY_MLM partners_y',\n",
       "       'NAME_SELLER_INDUSTRY_Tourism_y', 'NAME_SELLER_INDUSTRY_XNA_y',\n",
       "       'NAME_YIELD_GROUP_XNA_y', 'NAME_YIELD_GROUP_high_y',\n",
       "       'NAME_YIELD_GROUP_low_action_y', 'NAME_YIELD_GROUP_low_normal_y',\n",
       "       'NAME_YIELD_GROUP_middle_y', 'PRODUCT_COMBINATION_Card Street_y',\n",
       "       'PRODUCT_COMBINATION_Card X-Sell_y', 'PRODUCT_COMBINATION_Cash_y',\n",
       "       'PRODUCT_COMBINATION_Cash Street: high_y',\n",
       "       'PRODUCT_COMBINATION_Cash Street: low_y',\n",
       "       'PRODUCT_COMBINATION_Cash Street: middle_y',\n",
       "       'PRODUCT_COMBINATION_Cash X-Sell: high_y',\n",
       "       'PRODUCT_COMBINATION_Cash X-Sell: low_y',\n",
       "       'PRODUCT_COMBINATION_Cash X-Sell: middle_y',\n",
       "       'PRODUCT_COMBINATION_POS household with interest_y',\n",
       "       'PRODUCT_COMBINATION_POS household without interest_y',\n",
       "       'PRODUCT_COMBINATION_POS industry with interest_y',\n",
       "       'PRODUCT_COMBINATION_POS industry without interest_y',\n",
       "       'PRODUCT_COMBINATION_POS mobile with interest_y',\n",
       "       'PRODUCT_COMBINATION_POS mobile without interest_y',\n",
       "       'PRODUCT_COMBINATION_POS other with interest_y',\n",
       "       'PRODUCT_COMBINATION_POS others without interest_y',\n",
       "       'NFLAG_LAST_APPL_IN_DAY_0_y', 'NFLAG_LAST_APPL_IN_DAY_1_y',\n",
       "       'NFLAG_INSURED_ON_APPROVAL_0.0_y', 'NFLAG_INSURED_ON_APPROVAL_1.0_y'], dtype=object)"
      ]
     },
     "execution_count": 19,
     "metadata": {},
     "output_type": "execute_result"
    }
   ],
   "source": [
    "df.columns.values"
   ]
  },
  {
   "cell_type": "code",
   "execution_count": 20,
   "metadata": {
    "ExecuteTime": {
     "end_time": "2018-06-14T18:37:33.166074Z",
     "start_time": "2018-06-14T18:37:33.163206Z"
    }
   },
   "outputs": [
    {
     "data": {
      "text/plain": [
       "372"
      ]
     },
     "execution_count": 20,
     "metadata": {},
     "output_type": "execute_result"
    }
   ],
   "source": [
    "len(df.columns.values)"
   ]
  },
  {
   "cell_type": "code",
   "execution_count": null,
   "metadata": {
    "collapsed": true
   },
   "outputs": [],
   "source": []
  }
 ],
 "metadata": {
  "kernelspec": {
   "display_name": "Python 3",
   "language": "python",
   "name": "python3"
  },
  "language_info": {
   "codemirror_mode": {
    "name": "ipython",
    "version": 3
   },
   "file_extension": ".py",
   "mimetype": "text/x-python",
   "name": "python",
   "nbconvert_exporter": "python",
   "pygments_lexer": "ipython3",
   "version": "3.6.3"
  },
  "varInspector": {
   "cols": {
    "lenName": 16,
    "lenType": 16,
    "lenVar": 40
   },
   "kernels_config": {
    "python": {
     "delete_cmd_postfix": "",
     "delete_cmd_prefix": "del ",
     "library": "var_list.py",
     "varRefreshCmd": "print(var_dic_list())"
    },
    "r": {
     "delete_cmd_postfix": ") ",
     "delete_cmd_prefix": "rm(",
     "library": "var_list.r",
     "varRefreshCmd": "cat(var_dic_list()) "
    }
   },
   "types_to_exclude": [
    "module",
    "function",
    "builtin_function_or_method",
    "instance",
    "_Feature"
   ],
   "window_display": false
  }
 },
 "nbformat": 4,
 "nbformat_minor": 2
}
