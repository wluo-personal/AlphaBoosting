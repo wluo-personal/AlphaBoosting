{
 "cells": [
  {
   "cell_type": "code",
   "execution_count": 1,
   "metadata": {
    "ExecuteTime": {
     "end_time": "2018-06-14T18:00:08.395484Z",
     "start_time": "2018-06-14T17:59:59.963008Z"
    }
   },
   "outputs": [
    {
     "name": "stdout",
     "output_type": "stream",
     "text": [
      "train\n",
      "test\n",
      "POS_CASH_balance\n"
     ]
    }
   ],
   "source": [
    "import pandas as pd\n",
    "import numpy as np\n",
    "\n",
    "PATH = '/home/kai/data/kaggle/homecredit/'\n",
    "train = pd.read_csv(PATH + 'application_train.csv')\n",
    "print('train')\n",
    "test = pd.read_csv(PATH + 'application_test.csv')\n",
    "print('test')\n",
    "# bureau = pd.read_csv(PATH + 'bureau.csv')\n",
    "# print('bureau')\n",
    "# previous_application = pd.read_csv(PATH + 'previous_application.csv')\n",
    "# print('previous')\n",
    "# bureau_balance = pd.read_csv(PATH + 'bureau_balance.csv')\n",
    "# print('bureau_balance')\n",
    "# installments_payments = pd.read_csv(PATH + 'installments_payments.csv')\n",
    "# print('installments_payments done')\n",
    "# credit_card_balance = pd.read_csv(PATH + 'credit_card_balance.csv')\n",
    "# # print('credit_card_balance')\n",
    "POS_CASH_balance = pd.read_csv(PATH + 'POS_CASH_balance.csv')\n",
    "print('POS_CASH_balance')\n",
    "# credit_card_balance = pd.read_csv(PATH + 'credit_card_balance.csv')\n",
    "# print('credit_card_balance')\n",
    "# previous_application = pd.read_csv(PATH + 'previous_application.csv')\n",
    "# print('previous_application')"
   ]
  },
  {
   "cell_type": "code",
   "execution_count": 2,
   "metadata": {
    "ExecuteTime": {
     "end_time": "2018-06-14T18:00:09.405969Z",
     "start_time": "2018-06-14T18:00:08.396870Z"
    },
    "collapsed": true
   },
   "outputs": [],
   "source": [
    "df = pd.concat([train,test], axis = 0)\n",
    "df = df[['SK_ID_CURR']]\n",
    "pos = POS_CASH_balance.copy()"
   ]
  },
  {
   "cell_type": "code",
   "execution_count": 3,
   "metadata": {
    "ExecuteTime": {
     "end_time": "2018-06-14T18:00:09.413401Z",
     "start_time": "2018-06-14T18:00:09.407530Z"
    },
    "collapsed": true
   },
   "outputs": [],
   "source": [
    "import pandas as pd\n",
    "import os\n",
    "import gc\n",
    "import numpy as np\n",
    "\n",
    "def ratio_name(numerator, denominator): return numerator + '_divide_' + denominator\n",
    "\n",
    "def ratio(df, numerator, denominator):\n",
    "    return df[numerator] / df[denominator]\n",
    "\n",
    "def substraction_name(col1, col2): return col1 + '_minus_' + col2\n",
    "\n",
    "def substraction(df, col1, col2):\n",
    "    return df[col1] - df[col2]\n"
   ]
  },
  {
   "cell_type": "markdown",
   "metadata": {},
   "source": [
    "# Substraction and ratio , and score for dpd"
   ]
  },
  {
   "cell_type": "code",
   "execution_count": 4,
   "metadata": {
    "ExecuteTime": {
     "end_time": "2018-06-14T18:00:09.698949Z",
     "start_time": "2018-06-14T18:00:09.414617Z"
    },
    "collapsed": true
   },
   "outputs": [],
   "source": [
    "pos[substraction_name('CNT_INSTALMENT','CNT_INSTALMENT_FUTURE')] = \\\n",
    "substraction(pos, 'CNT_INSTALMENT','CNT_INSTALMENT_FUTURE')\n",
    "\n",
    "pos[ratio_name('CNT_INSTALMENT_FUTURE','CNT_INSTALMENT')]\\\n",
    "= ratio(pos,'CNT_INSTALMENT_FUTURE','CNT_INSTALMENT')"
   ]
  },
  {
   "cell_type": "code",
   "execution_count": 5,
   "metadata": {
    "ExecuteTime": {
     "end_time": "2018-06-14T18:00:13.439128Z",
     "start_time": "2018-06-14T18:00:09.700620Z"
    },
    "collapsed": true
   },
   "outputs": [],
   "source": [
    "pos['score_DPD'] = 0\n",
    "pos = pos.sort_values('MONTHS_BALANCE')\n",
    "pos['score_DPD'] = (pos['SK_DPD']**3 + 5* pos['SK_DPD_DEF']**3 + 1) * (1/(1 + abs(pos['MONTHS_BALANCE']) ))"
   ]
  },
  {
   "cell_type": "code",
   "execution_count": 6,
   "metadata": {
    "ExecuteTime": {
     "end_time": "2018-06-14T18:00:13.447318Z",
     "start_time": "2018-06-14T18:00:13.440730Z"
    }
   },
   "outputs": [
    {
     "data": {
      "text/plain": [
       "array(['SK_ID_PREV', 'SK_ID_CURR', 'MONTHS_BALANCE', 'CNT_INSTALMENT',\n",
       "       'CNT_INSTALMENT_FUTURE', 'NAME_CONTRACT_STATUS', 'SK_DPD',\n",
       "       'SK_DPD_DEF', 'CNT_INSTALMENT_minus_CNT_INSTALMENT_FUTURE',\n",
       "       'CNT_INSTALMENT_FUTURE_divide_CNT_INSTALMENT', 'score_DPD'],\n",
       "      dtype=object)"
      ]
     },
     "execution_count": 6,
     "metadata": {},
     "output_type": "execute_result"
    }
   ],
   "source": [
    "pos.columns.values"
   ]
  },
  {
   "cell_type": "markdown",
   "metadata": {},
   "source": [
    "# Numerical"
   ]
  },
  {
   "cell_type": "code",
   "execution_count": 7,
   "metadata": {
    "ExecuteTime": {
     "end_time": "2018-06-14T18:00:13.529834Z",
     "start_time": "2018-06-14T18:00:13.448490Z"
    },
    "collapsed": true
   },
   "outputs": [],
   "source": [
    "def numerical_agg(df, gp_col, agg_col, df_name, extrafunc_list = None):\n",
    "    \n",
    "    agg_list = ['max', 'min', 'std','mean']\n",
    "    '''\n",
    "    Possible extrafunc_list: ['sum','median','two_minus_one_third','positive_count', 'negative_count','standard_error', 'trimmed_mean_10_pct', 'trimmed_mean_25_pct','normed_std', 'max_minus_min','one_third','two_third']\n",
    "    '''\n",
    "    if extrafunc_list:\n",
    "        if 'one_third' in extrafunc_list:\n",
    "            def one_third(series):\n",
    "                return series.quantile(1/3)\n",
    "            \n",
    "        if 'two_third' in extrafunc_list:\n",
    "            def two_third(series):\n",
    "                return series.quantile(2/3)\n",
    "            \n",
    "        if 'max_minus_min' in extrafunc_list:\n",
    "            def max_minus_min(series):\n",
    "                return (series.max() - series.min())\n",
    "        \n",
    "        if 'two_minus_one_third' in extrafunc_list:\n",
    "#             print('two_minus_one')\n",
    "#             print('get two minus one')\n",
    "            def two_minus_one_third(series):\n",
    "                return(series.quantile(0.66666) - series.quantile(0.33333))\n",
    "       \n",
    "        if 'positive_count' in extrafunc_list:\n",
    "#             print('get positive count')\n",
    "            def positive_count(series):\n",
    "                return pd.Series(series > 0).sum()\n",
    "\n",
    "        if 'negative_count' in extrafunc_list:\n",
    "#             print('get negative count')\n",
    "            def negative_count(series):\n",
    "                return pd.Series(series < 0).sum()\n",
    "\n",
    "        if 'standard_error' in extrafunc_list:\n",
    "#             print('get std-error')\n",
    "            def standard_error(series):\n",
    "                return series.std()/np.sqrt(len(series))\n",
    "\n",
    "        if 'normed_std' in extrafunc_list:\n",
    "#             print('get normed_std')\n",
    "            def normed_std(series):\n",
    "                return series.std()/series.mean()\n",
    "\n",
    "        if 'trimmed_mean_10_pct' in extrafunc_list:\n",
    "#             print('get_trimmed 10 pct')\n",
    "            def trimmed_mean_10_pct(series):\n",
    "                return stats.trim_mean(series.dropna(), 0.1)\n",
    "\n",
    "        if 'trimmed_mean_25_pct' in extrafunc_list:\n",
    "#             print('get_trimmed 25 pct')\n",
    "            def trimmed_mean_25_pct(series):\n",
    "                return stats.trim_mean(series.dropna(), 0.25)\n",
    "        \n",
    "        list_tocall = []\n",
    "        for i in extrafunc_list:\n",
    "            if i not in set(['sum', 'median']):\n",
    "                list_tocall.append(eval(i))\n",
    "            \n",
    "    if extrafunc_list != None:   \n",
    "        agg_list.extend(list_tocall)\n",
    "    \n",
    "    _df = df.groupby(gp_col).agg({agg_col:agg_list})\n",
    "    columns = []\n",
    "    for pre in _df.columns.levels[0]:\n",
    "        for middle in _df.columns.levels[1]:\n",
    "            columns.append('%s_%s_%s' %(df_name,pre,middle))\n",
    "    _df.columns = columns\n",
    "    \n",
    "    return _df.reset_index()"
   ]
  },
  {
   "cell_type": "code",
   "execution_count": 8,
   "metadata": {
    "ExecuteTime": {
     "end_time": "2018-06-14T18:01:51.851348Z",
     "start_time": "2018-06-14T18:00:13.530997Z"
    }
   },
   "outputs": [
    {
     "name": "stdout",
     "output_type": "stream",
     "text": [
      "CNT_INSTALMENT\n",
      "CNT_INSTALMENT_FUTURE\n",
      "SK_DPD\n",
      "SK_DPD_DEF\n",
      "CNT_INSTALMENT_minus_CNT_INSTALMENT_FUTURE\n",
      "CNT_INSTALMENT_FUTURE_divide_CNT_INSTALMENT\n",
      "score_DPD\n"
     ]
    }
   ],
   "source": [
    "gp_col = 'SK_ID_CURR'\n",
    "numerical_cols= ['CNT_INSTALMENT','CNT_INSTALMENT_FUTURE','SK_DPD','SK_DPD_DEF',\\\n",
    "                 'CNT_INSTALMENT_minus_CNT_INSTALMENT_FUTURE','CNT_INSTALMENT_FUTURE_divide_CNT_INSTALMENT','score_DPD']\n",
    "\n",
    "'''\n",
    "    Possible extrafunc_list: ['sum','median','two_minus_one_third','positive_count', 'negative_count','standard_error', 'trimmed_mean_10_pct', 'trimmed_mean_25_pct','normed_std', 'max_minus_min','one_third','two_third']\n",
    "    '''\n",
    "extrafunc_list = [None,None,['positive_count'],['positive_count'],None,None, None]\n",
    "\n",
    "for i in range(len(numerical_cols)):\n",
    "    print(numerical_cols[i])\n",
    "    df = df.merge(numerical_agg(pos, gp_col, numerical_cols[i], 'POS_CASH_balance', extrafunc_list = extrafunc_list[i]), on = 'SK_ID_CURR', how='left')"
   ]
  },
  {
   "cell_type": "markdown",
   "metadata": {},
   "source": [
    "# Categorical Features"
   ]
  },
  {
   "cell_type": "code",
   "execution_count": 9,
   "metadata": {
    "ExecuteTime": {
     "end_time": "2018-06-14T18:01:51.876302Z",
     "start_time": "2018-06-14T18:01:51.852979Z"
    },
    "collapsed": true
   },
   "outputs": [],
   "source": [
    "def split_categorical_feature(df, group_col, calc_col):\n",
    "    tmp_df = pd.concat([df[group_col], pd.get_dummies(df[calc_col], prefix=calc_col)], axis=1).groupby(by=group_col).sum().reset_index()\n",
    "    dtype = {x: _set_type(tmp_df[x], 'uint') for x in tmp_df.columns if x != group_col}\n",
    "    for x in tmp_df:\n",
    "        if x in df.columns:\n",
    "            dtype[x] = df[x].dtype\n",
    "    return tmp_df.astype(dtype)\n",
    "\n",
    "def _set_type(series, dtype):\n",
    "    _max, _min = max(series), min(series)\n",
    "    if dtype == 'uint':\n",
    "        if _max <= 255: return np.uint8\n",
    "        elif _max <= 65535: return np.uint16\n",
    "        elif _max <= 4294967295: return np.uint32\n",
    "        else: return np.uint64\n",
    "    elif dtype == 'int':\n",
    "        if _min >= -128 and _max <= 127: return np.int8\n",
    "        elif _min >=-32768 and _max <= 32767: return np.int16\n",
    "        elif _min >= -2147483648 and _max <= 2147483647: return np.int32\n",
    "        else: return np.int64\n",
    "    elif dtype == 'float':\n",
    "        if max(abs(_min), _max) <= 3.4028235e+38: return np.float32\n",
    "        else: return np.float64"
   ]
  },
  {
   "cell_type": "code",
   "execution_count": 10,
   "metadata": {
    "ExecuteTime": {
     "end_time": "2018-06-14T18:01:54.912053Z",
     "start_time": "2018-06-14T18:01:51.877530Z"
    }
   },
   "outputs": [
    {
     "name": "stdout",
     "output_type": "stream",
     "text": [
      "NAME_CONTRACT_STATUS\n"
     ]
    }
   ],
   "source": [
    "categorical_cols = ['NAME_CONTRACT_STATUS']        \n",
    "\n",
    "for x in categorical_cols:\n",
    "    print(x)\n",
    "    df = df.merge(split_categorical_feature(pos, 'SK_ID_CURR', x), on='SK_ID_CURR', how='left')\n",
    "    gc.collect()"
   ]
  },
  {
   "cell_type": "code",
   "execution_count": 13,
   "metadata": {
    "ExecuteTime": {
     "end_time": "2018-06-14T18:01:56.083931Z",
     "start_time": "2018-06-14T18:01:54.939220Z"
    },
    "collapsed": true
   },
   "outputs": [],
   "source": [
    "_df = POS_CASH_balance.groupby('SK_ID_CURR').agg({'MONTHS_BALANCE':['sum','min','max']})\n",
    "columns = []\n",
    "for pre in _df.columns.levels[0]:\n",
    "    for middle in _df.columns.levels[1]:\n",
    "        columns.append('%s_%s_%s' %('POS_CASH_balance',pre,middle))\n",
    "_df.columns = columns\n",
    "df = df.merge(_df.reset_index(), on = 'SK_ID_CURR', how='left')"
   ]
  },
  {
   "cell_type": "code",
   "execution_count": 16,
   "metadata": {
    "ExecuteTime": {
     "end_time": "2018-06-14T18:36:41.444864Z",
     "start_time": "2018-06-14T18:36:41.442100Z"
    }
   },
   "outputs": [
    {
     "name": "stdout",
     "output_type": "stream",
     "text": [
      "['SK_ID_CURR' 'POS_CASH_balance_CNT_INSTALMENT_max'\n",
      " 'POS_CASH_balance_CNT_INSTALMENT_min'\n",
      " 'POS_CASH_balance_CNT_INSTALMENT_std'\n",
      " 'POS_CASH_balance_CNT_INSTALMENT_mean'\n",
      " 'POS_CASH_balance_CNT_INSTALMENT_FUTURE_max'\n",
      " 'POS_CASH_balance_CNT_INSTALMENT_FUTURE_min'\n",
      " 'POS_CASH_balance_CNT_INSTALMENT_FUTURE_std'\n",
      " 'POS_CASH_balance_CNT_INSTALMENT_FUTURE_mean'\n",
      " 'POS_CASH_balance_SK_DPD_max' 'POS_CASH_balance_SK_DPD_min'\n",
      " 'POS_CASH_balance_SK_DPD_std' 'POS_CASH_balance_SK_DPD_mean'\n",
      " 'POS_CASH_balance_SK_DPD_positive_count'\n",
      " 'POS_CASH_balance_SK_DPD_DEF_max' 'POS_CASH_balance_SK_DPD_DEF_min'\n",
      " 'POS_CASH_balance_SK_DPD_DEF_std' 'POS_CASH_balance_SK_DPD_DEF_mean'\n",
      " 'POS_CASH_balance_SK_DPD_DEF_positive_count'\n",
      " 'POS_CASH_balance_CNT_INSTALMENT_minus_CNT_INSTALMENT_FUTURE_max'\n",
      " 'POS_CASH_balance_CNT_INSTALMENT_minus_CNT_INSTALMENT_FUTURE_min'\n",
      " 'POS_CASH_balance_CNT_INSTALMENT_minus_CNT_INSTALMENT_FUTURE_std'\n",
      " 'POS_CASH_balance_CNT_INSTALMENT_minus_CNT_INSTALMENT_FUTURE_mean'\n",
      " 'POS_CASH_balance_CNT_INSTALMENT_FUTURE_divide_CNT_INSTALMENT_max'\n",
      " 'POS_CASH_balance_CNT_INSTALMENT_FUTURE_divide_CNT_INSTALMENT_min'\n",
      " 'POS_CASH_balance_CNT_INSTALMENT_FUTURE_divide_CNT_INSTALMENT_std'\n",
      " 'POS_CASH_balance_CNT_INSTALMENT_FUTURE_divide_CNT_INSTALMENT_mean'\n",
      " 'POS_CASH_balance_score_DPD_max' 'POS_CASH_balance_score_DPD_min'\n",
      " 'POS_CASH_balance_score_DPD_std' 'POS_CASH_balance_score_DPD_mean'\n",
      " 'NAME_CONTRACT_STATUS_Active' 'NAME_CONTRACT_STATUS_Amortized debt'\n",
      " 'NAME_CONTRACT_STATUS_Approved' 'NAME_CONTRACT_STATUS_Canceled'\n",
      " 'NAME_CONTRACT_STATUS_Completed' 'NAME_CONTRACT_STATUS_Demand'\n",
      " 'NAME_CONTRACT_STATUS_Returned to the store'\n",
      " 'NAME_CONTRACT_STATUS_Signed' 'NAME_CONTRACT_STATUS_XNA'\n",
      " 'POS_CASH_balance_MONTHS_BALANCE_sum'\n",
      " 'POS_CASH_balance_MONTHS_BALANCE_min'\n",
      " 'POS_CASH_balance_MONTHS_BALANCE_max'] 43\n"
     ]
    }
   ],
   "source": [
    "print(df.columns.values, len(df.columns.values))"
   ]
  },
  {
   "cell_type": "code",
   "execution_count": null,
   "metadata": {
    "collapsed": true
   },
   "outputs": [],
   "source": []
  }
 ],
 "metadata": {
  "kernelspec": {
   "display_name": "Python 3.6 (tf_newer)",
   "language": "python",
   "name": "tf_newer"
  },
  "language_info": {
   "codemirror_mode": {
    "name": "ipython",
    "version": 3
   },
   "file_extension": ".py",
   "mimetype": "text/x-python",
   "name": "python",
   "nbconvert_exporter": "python",
   "pygments_lexer": "ipython3",
   "version": "3.6.3"
  },
  "varInspector": {
   "cols": {
    "lenName": 16,
    "lenType": 16,
    "lenVar": 40
   },
   "kernels_config": {
    "python": {
     "delete_cmd_postfix": "",
     "delete_cmd_prefix": "del ",
     "library": "var_list.py",
     "varRefreshCmd": "print(var_dic_list())"
    },
    "r": {
     "delete_cmd_postfix": ") ",
     "delete_cmd_prefix": "rm(",
     "library": "var_list.r",
     "varRefreshCmd": "cat(var_dic_list()) "
    }
   },
   "types_to_exclude": [
    "module",
    "function",
    "builtin_function_or_method",
    "instance",
    "_Feature"
   ],
   "window_display": false
  }
 },
 "nbformat": 4,
 "nbformat_minor": 2
}
