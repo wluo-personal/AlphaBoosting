{
 "cells": [
  {
   "cell_type": "code",
   "execution_count": 1,
   "metadata": {
    "ExecuteTime": {
     "end_time": "2018-06-26T15:16:59.258027Z",
     "start_time": "2018-06-26T15:16:49.302576Z"
    }
   },
   "outputs": [
    {
     "name": "stdout",
     "output_type": "stream",
     "text": [
      "train\n",
      "test\n",
      "bureau\n",
      "bureau_balance\n"
     ]
    }
   ],
   "source": [
    "import pandas as pd\n",
    "import numpy as np\n",
    "\n",
    "PATH = '/home/kai/data/kaggle/homecredit/'\n",
    "train = pd.read_csv(PATH + 'application_train.csv')\n",
    "print('train')\n",
    "test = pd.read_csv(PATH + 'application_test.csv')\n",
    "print('test')\n",
    "bureau = pd.read_csv(PATH + 'bureau.csv')\n",
    "print('bureau')\n",
    "bureau_balance = pd.read_csv(PATH + 'bureau_balance.csv')\n",
    "print('bureau_balance')\n",
    "# installments_payments = pd.read_csv(PATH + 'installments_payments.csv')\n",
    "# print('installments_payments done')\n",
    "# credit_card_balance = pd.read_csv(PATH + 'credit_card_balance.csv')\n",
    "# print('credit_card_balance')\n",
    "# POS_CASH_balance = pd.read_csv(PATH + 'POS_CASH_balance.csv')\n",
    "# print('POS_CASH_balance')\n",
    "# credit_card_balance = pd.read_csv(PATH + 'credit_card_balance.csv')\n",
    "# print('credit_card_balance')\n",
    "# previous_application = pd.read_csv(PATH + 'previous_application.csv')\n",
    "# print('previous_application')"
   ]
  },
  {
   "cell_type": "code",
   "execution_count": 2,
   "metadata": {
    "ExecuteTime": {
     "end_time": "2018-06-26T15:17:23.290278Z",
     "start_time": "2018-06-26T15:17:22.758496Z"
    }
   },
   "outputs": [
    {
     "data": {
      "text/plain": [
       "array(['SK_ID_BUREAU', 'MONTHS_BALANCE', 'STATUS'], dtype=object)"
      ]
     },
     "execution_count": 2,
     "metadata": {},
     "output_type": "execute_result"
    }
   ],
   "source": [
    "bb = bureau_balance.copy()\n",
    "bb.columns.values"
   ]
  },
  {
   "cell_type": "code",
   "execution_count": 3,
   "metadata": {
    "ExecuteTime": {
     "end_time": "2018-06-26T15:17:32.989834Z",
     "start_time": "2018-06-26T15:17:32.964262Z"
    }
   },
   "outputs": [
    {
     "data": {
      "text/html": [
       "<div>\n",
       "<style scoped>\n",
       "    .dataframe tbody tr th:only-of-type {\n",
       "        vertical-align: middle;\n",
       "    }\n",
       "\n",
       "    .dataframe tbody tr th {\n",
       "        vertical-align: top;\n",
       "    }\n",
       "\n",
       "    .dataframe thead th {\n",
       "        text-align: right;\n",
       "    }\n",
       "</style>\n",
       "<table border=\"1\" class=\"dataframe\">\n",
       "  <thead>\n",
       "    <tr style=\"text-align: right;\">\n",
       "      <th></th>\n",
       "      <th>SK_ID_CURR</th>\n",
       "      <th>SK_ID_BUREAU</th>\n",
       "      <th>CREDIT_ACTIVE</th>\n",
       "      <th>CREDIT_CURRENCY</th>\n",
       "      <th>DAYS_CREDIT</th>\n",
       "      <th>CREDIT_DAY_OVERDUE</th>\n",
       "      <th>DAYS_CREDIT_ENDDATE</th>\n",
       "      <th>DAYS_ENDDATE_FACT</th>\n",
       "      <th>AMT_CREDIT_MAX_OVERDUE</th>\n",
       "      <th>CNT_CREDIT_PROLONG</th>\n",
       "      <th>AMT_CREDIT_SUM</th>\n",
       "      <th>AMT_CREDIT_SUM_DEBT</th>\n",
       "      <th>AMT_CREDIT_SUM_LIMIT</th>\n",
       "      <th>AMT_CREDIT_SUM_OVERDUE</th>\n",
       "      <th>CREDIT_TYPE</th>\n",
       "      <th>DAYS_CREDIT_UPDATE</th>\n",
       "      <th>AMT_ANNUITY</th>\n",
       "    </tr>\n",
       "  </thead>\n",
       "  <tbody>\n",
       "    <tr>\n",
       "      <th>0</th>\n",
       "      <td>215354</td>\n",
       "      <td>5714462</td>\n",
       "      <td>Closed</td>\n",
       "      <td>currency 1</td>\n",
       "      <td>-497</td>\n",
       "      <td>0</td>\n",
       "      <td>-153.0</td>\n",
       "      <td>-153.0</td>\n",
       "      <td>NaN</td>\n",
       "      <td>0</td>\n",
       "      <td>91323.0</td>\n",
       "      <td>0.0</td>\n",
       "      <td>NaN</td>\n",
       "      <td>0.0</td>\n",
       "      <td>Consumer credit</td>\n",
       "      <td>-131</td>\n",
       "      <td>NaN</td>\n",
       "    </tr>\n",
       "    <tr>\n",
       "      <th>1</th>\n",
       "      <td>215354</td>\n",
       "      <td>5714463</td>\n",
       "      <td>Active</td>\n",
       "      <td>currency 1</td>\n",
       "      <td>-208</td>\n",
       "      <td>0</td>\n",
       "      <td>1075.0</td>\n",
       "      <td>NaN</td>\n",
       "      <td>NaN</td>\n",
       "      <td>0</td>\n",
       "      <td>225000.0</td>\n",
       "      <td>171342.0</td>\n",
       "      <td>NaN</td>\n",
       "      <td>0.0</td>\n",
       "      <td>Credit card</td>\n",
       "      <td>-20</td>\n",
       "      <td>NaN</td>\n",
       "    </tr>\n",
       "    <tr>\n",
       "      <th>2</th>\n",
       "      <td>215354</td>\n",
       "      <td>5714464</td>\n",
       "      <td>Active</td>\n",
       "      <td>currency 1</td>\n",
       "      <td>-203</td>\n",
       "      <td>0</td>\n",
       "      <td>528.0</td>\n",
       "      <td>NaN</td>\n",
       "      <td>NaN</td>\n",
       "      <td>0</td>\n",
       "      <td>464323.5</td>\n",
       "      <td>NaN</td>\n",
       "      <td>NaN</td>\n",
       "      <td>0.0</td>\n",
       "      <td>Consumer credit</td>\n",
       "      <td>-16</td>\n",
       "      <td>NaN</td>\n",
       "    </tr>\n",
       "    <tr>\n",
       "      <th>3</th>\n",
       "      <td>215354</td>\n",
       "      <td>5714465</td>\n",
       "      <td>Active</td>\n",
       "      <td>currency 1</td>\n",
       "      <td>-203</td>\n",
       "      <td>0</td>\n",
       "      <td>NaN</td>\n",
       "      <td>NaN</td>\n",
       "      <td>NaN</td>\n",
       "      <td>0</td>\n",
       "      <td>90000.0</td>\n",
       "      <td>NaN</td>\n",
       "      <td>NaN</td>\n",
       "      <td>0.0</td>\n",
       "      <td>Credit card</td>\n",
       "      <td>-16</td>\n",
       "      <td>NaN</td>\n",
       "    </tr>\n",
       "    <tr>\n",
       "      <th>4</th>\n",
       "      <td>215354</td>\n",
       "      <td>5714466</td>\n",
       "      <td>Active</td>\n",
       "      <td>currency 1</td>\n",
       "      <td>-629</td>\n",
       "      <td>0</td>\n",
       "      <td>1197.0</td>\n",
       "      <td>NaN</td>\n",
       "      <td>77674.5</td>\n",
       "      <td>0</td>\n",
       "      <td>2700000.0</td>\n",
       "      <td>NaN</td>\n",
       "      <td>NaN</td>\n",
       "      <td>0.0</td>\n",
       "      <td>Consumer credit</td>\n",
       "      <td>-21</td>\n",
       "      <td>NaN</td>\n",
       "    </tr>\n",
       "  </tbody>\n",
       "</table>\n",
       "</div>"
      ],
      "text/plain": [
       "   SK_ID_CURR  SK_ID_BUREAU CREDIT_ACTIVE CREDIT_CURRENCY  DAYS_CREDIT  \\\n",
       "0      215354       5714462        Closed      currency 1         -497   \n",
       "1      215354       5714463        Active      currency 1         -208   \n",
       "2      215354       5714464        Active      currency 1         -203   \n",
       "3      215354       5714465        Active      currency 1         -203   \n",
       "4      215354       5714466        Active      currency 1         -629   \n",
       "\n",
       "   CREDIT_DAY_OVERDUE  DAYS_CREDIT_ENDDATE  DAYS_ENDDATE_FACT  \\\n",
       "0                   0               -153.0             -153.0   \n",
       "1                   0               1075.0                NaN   \n",
       "2                   0                528.0                NaN   \n",
       "3                   0                  NaN                NaN   \n",
       "4                   0               1197.0                NaN   \n",
       "\n",
       "   AMT_CREDIT_MAX_OVERDUE  CNT_CREDIT_PROLONG  AMT_CREDIT_SUM  \\\n",
       "0                     NaN                   0         91323.0   \n",
       "1                     NaN                   0        225000.0   \n",
       "2                     NaN                   0        464323.5   \n",
       "3                     NaN                   0         90000.0   \n",
       "4                 77674.5                   0       2700000.0   \n",
       "\n",
       "   AMT_CREDIT_SUM_DEBT  AMT_CREDIT_SUM_LIMIT  AMT_CREDIT_SUM_OVERDUE  \\\n",
       "0                  0.0                   NaN                     0.0   \n",
       "1             171342.0                   NaN                     0.0   \n",
       "2                  NaN                   NaN                     0.0   \n",
       "3                  NaN                   NaN                     0.0   \n",
       "4                  NaN                   NaN                     0.0   \n",
       "\n",
       "       CREDIT_TYPE  DAYS_CREDIT_UPDATE  AMT_ANNUITY  \n",
       "0  Consumer credit                -131          NaN  \n",
       "1      Credit card                 -20          NaN  \n",
       "2  Consumer credit                 -16          NaN  \n",
       "3      Credit card                 -16          NaN  \n",
       "4  Consumer credit                 -21          NaN  "
      ]
     },
     "execution_count": 3,
     "metadata": {},
     "output_type": "execute_result"
    }
   ],
   "source": [
    "bureau.head()"
   ]
  },
  {
   "cell_type": "code",
   "execution_count": 4,
   "metadata": {
    "ExecuteTime": {
     "end_time": "2018-06-26T15:19:04.213450Z",
     "start_time": "2018-06-26T15:19:04.095159Z"
    }
   },
   "outputs": [],
   "source": [
    "set_id_bureau =  set(bureau['SK_ID_CURR'])\n",
    "set_id_train = set(train['SK_ID_CURR'])\n",
    "set_id_test = set(test['SK_ID_CURR'])"
   ]
  },
  {
   "cell_type": "code",
   "execution_count": 5,
   "metadata": {
    "ExecuteTime": {
     "end_time": "2018-06-26T15:19:32.881773Z",
     "start_time": "2018-06-26T15:19:32.876927Z"
    }
   },
   "outputs": [
    {
     "name": "stdout",
     "output_type": "stream",
     "text": [
      "305811 307511 48744\n"
     ]
    }
   ],
   "source": [
    "print(len(set_id_bureau),len(set_id_train),len(set_id_test))"
   ]
  },
  {
   "cell_type": "code",
   "execution_count": 7,
   "metadata": {
    "ExecuteTime": {
     "end_time": "2018-06-26T15:20:41.589446Z",
     "start_time": "2018-06-26T15:20:41.584473Z"
    }
   },
   "outputs": [
    {
     "name": "stdout",
     "output_type": "stream",
     "text": [
      "0.994471742474253\n"
     ]
    }
   ],
   "source": [
    "print(1 - (len(set_id_train)-len(set_id_bureau))/len(set_id_train))"
   ]
  },
  {
   "cell_type": "code",
   "execution_count": 10,
   "metadata": {
    "ExecuteTime": {
     "end_time": "2018-06-26T15:32:07.571792Z",
     "start_time": "2018-06-26T15:32:07.002012Z"
    }
   },
   "outputs": [],
   "source": [
    "bureau_df = pd.read_pickle(PATH+'inter/bureau2curr.pkl')"
   ]
  },
  {
   "cell_type": "code",
   "execution_count": 11,
   "metadata": {
    "ExecuteTime": {
     "end_time": "2018-06-26T15:32:17.920264Z",
     "start_time": "2018-06-26T15:32:17.914786Z"
    }
   },
   "outputs": [
    {
     "data": {
      "text/plain": [
       "(356255, 460)"
      ]
     },
     "execution_count": 11,
     "metadata": {},
     "output_type": "execute_result"
    }
   ],
   "source": [
    "bureau_df.shape"
   ]
  },
  {
   "cell_type": "code",
   "execution_count": 12,
   "metadata": {
    "ExecuteTime": {
     "end_time": "2018-06-26T15:32:23.669727Z",
     "start_time": "2018-06-26T15:32:23.640364Z"
    }
   },
   "outputs": [
    {
     "data": {
      "text/html": [
       "<div>\n",
       "<style scoped>\n",
       "    .dataframe tbody tr th:only-of-type {\n",
       "        vertical-align: middle;\n",
       "    }\n",
       "\n",
       "    .dataframe tbody tr th {\n",
       "        vertical-align: top;\n",
       "    }\n",
       "\n",
       "    .dataframe thead th {\n",
       "        text-align: right;\n",
       "    }\n",
       "</style>\n",
       "<table border=\"1\" class=\"dataframe\">\n",
       "  <thead>\n",
       "    <tr style=\"text-align: right;\">\n",
       "      <th></th>\n",
       "      <th>SK_ID_CURR</th>\n",
       "      <th>bureau_positivecount_SK_ID_CURR_CREDIT_DAY_OVERDUE</th>\n",
       "      <th>bureau_positivecount_SK_ID_CURR_AMT_CREDIT_MAX_OVERDUE</th>\n",
       "      <th>bureau_positivecount_SK_ID_CURR_CNT_CREDIT_PROLONG</th>\n",
       "      <th>bureau_positivecount_SK_ID_CURR_AMT_CREDIT_SUM_DEBT</th>\n",
       "      <th>bureau_positivecount_SK_ID_CURR_AMT_CREDIT_SUM_OVERDUE</th>\n",
       "      <th>bureau_onehot_CREDIT_ACTIVE_Active</th>\n",
       "      <th>bureau_onehot_CREDIT_ACTIVE_Bad debt</th>\n",
       "      <th>bureau_onehot_CREDIT_ACTIVE_Closed</th>\n",
       "      <th>bureau_onehot_CREDIT_ACTIVE_Sold</th>\n",
       "      <th>...</th>\n",
       "      <th>bureau_AMT_CREDIT_SUM_OVERDUE_divide_DAYS_CREDIT_ENDDATE_mean</th>\n",
       "      <th>bureau_AMT_CREDIT_SUM_OVERDUE_divide_DAYS_CREDIT_ENDDATE_median</th>\n",
       "      <th>bureau_AMT_CREDIT_SUM_OVERDUE_divide_DAYS_CREDIT_ENDDATE_max</th>\n",
       "      <th>bureau_AMT_CREDIT_SUM_OVERDUE_divide_DAYS_CREDIT_ENDDATE_min</th>\n",
       "      <th>bureau_AMT_CREDIT_SUM_OVERDUE_divide_DAYS_CREDIT_ENDDATE_sum</th>\n",
       "      <th>bureau_onehot_STATUS_3_mean</th>\n",
       "      <th>bureau_onehot_STATUS_3_median</th>\n",
       "      <th>bureau_onehot_STATUS_3_max</th>\n",
       "      <th>bureau_onehot_STATUS_3_min</th>\n",
       "      <th>bureau_onehot_STATUS_3_sum</th>\n",
       "    </tr>\n",
       "  </thead>\n",
       "  <tbody>\n",
       "    <tr>\n",
       "      <th>0</th>\n",
       "      <td>100002</td>\n",
       "      <td>0.0</td>\n",
       "      <td>3.0</td>\n",
       "      <td>0.0</td>\n",
       "      <td>1.0</td>\n",
       "      <td>0.0</td>\n",
       "      <td>2.0</td>\n",
       "      <td>0.0</td>\n",
       "      <td>6.0</td>\n",
       "      <td>0.0</td>\n",
       "      <td>...</td>\n",
       "      <td>0.0</td>\n",
       "      <td>-0.0</td>\n",
       "      <td>-0.0</td>\n",
       "      <td>-0.0</td>\n",
       "      <td>0.0</td>\n",
       "      <td>0.0</td>\n",
       "      <td>0.0</td>\n",
       "      <td>0.0</td>\n",
       "      <td>0.0</td>\n",
       "      <td>0.0</td>\n",
       "    </tr>\n",
       "    <tr>\n",
       "      <th>1</th>\n",
       "      <td>100003</td>\n",
       "      <td>0.0</td>\n",
       "      <td>0.0</td>\n",
       "      <td>0.0</td>\n",
       "      <td>0.0</td>\n",
       "      <td>0.0</td>\n",
       "      <td>1.0</td>\n",
       "      <td>0.0</td>\n",
       "      <td>3.0</td>\n",
       "      <td>0.0</td>\n",
       "      <td>...</td>\n",
       "      <td>0.0</td>\n",
       "      <td>-0.0</td>\n",
       "      <td>-0.0</td>\n",
       "      <td>-0.0</td>\n",
       "      <td>0.0</td>\n",
       "      <td>NaN</td>\n",
       "      <td>NaN</td>\n",
       "      <td>NaN</td>\n",
       "      <td>NaN</td>\n",
       "      <td>NaN</td>\n",
       "    </tr>\n",
       "    <tr>\n",
       "      <th>2</th>\n",
       "      <td>100004</td>\n",
       "      <td>0.0</td>\n",
       "      <td>0.0</td>\n",
       "      <td>0.0</td>\n",
       "      <td>0.0</td>\n",
       "      <td>0.0</td>\n",
       "      <td>0.0</td>\n",
       "      <td>0.0</td>\n",
       "      <td>2.0</td>\n",
       "      <td>0.0</td>\n",
       "      <td>...</td>\n",
       "      <td>0.0</td>\n",
       "      <td>-0.0</td>\n",
       "      <td>-0.0</td>\n",
       "      <td>-0.0</td>\n",
       "      <td>0.0</td>\n",
       "      <td>NaN</td>\n",
       "      <td>NaN</td>\n",
       "      <td>NaN</td>\n",
       "      <td>NaN</td>\n",
       "      <td>NaN</td>\n",
       "    </tr>\n",
       "    <tr>\n",
       "      <th>3</th>\n",
       "      <td>100006</td>\n",
       "      <td>NaN</td>\n",
       "      <td>NaN</td>\n",
       "      <td>NaN</td>\n",
       "      <td>NaN</td>\n",
       "      <td>NaN</td>\n",
       "      <td>NaN</td>\n",
       "      <td>NaN</td>\n",
       "      <td>NaN</td>\n",
       "      <td>NaN</td>\n",
       "      <td>...</td>\n",
       "      <td>NaN</td>\n",
       "      <td>NaN</td>\n",
       "      <td>NaN</td>\n",
       "      <td>NaN</td>\n",
       "      <td>NaN</td>\n",
       "      <td>NaN</td>\n",
       "      <td>NaN</td>\n",
       "      <td>NaN</td>\n",
       "      <td>NaN</td>\n",
       "      <td>NaN</td>\n",
       "    </tr>\n",
       "    <tr>\n",
       "      <th>4</th>\n",
       "      <td>100007</td>\n",
       "      <td>0.0</td>\n",
       "      <td>0.0</td>\n",
       "      <td>0.0</td>\n",
       "      <td>0.0</td>\n",
       "      <td>0.0</td>\n",
       "      <td>0.0</td>\n",
       "      <td>0.0</td>\n",
       "      <td>1.0</td>\n",
       "      <td>0.0</td>\n",
       "      <td>...</td>\n",
       "      <td>0.0</td>\n",
       "      <td>-0.0</td>\n",
       "      <td>-0.0</td>\n",
       "      <td>-0.0</td>\n",
       "      <td>0.0</td>\n",
       "      <td>NaN</td>\n",
       "      <td>NaN</td>\n",
       "      <td>NaN</td>\n",
       "      <td>NaN</td>\n",
       "      <td>NaN</td>\n",
       "    </tr>\n",
       "  </tbody>\n",
       "</table>\n",
       "<p>5 rows × 460 columns</p>\n",
       "</div>"
      ],
      "text/plain": [
       "   SK_ID_CURR  bureau_positivecount_SK_ID_CURR_CREDIT_DAY_OVERDUE  \\\n",
       "0      100002                                                0.0    \n",
       "1      100003                                                0.0    \n",
       "2      100004                                                0.0    \n",
       "3      100006                                                NaN    \n",
       "4      100007                                                0.0    \n",
       "\n",
       "   bureau_positivecount_SK_ID_CURR_AMT_CREDIT_MAX_OVERDUE  \\\n",
       "0                                                3.0        \n",
       "1                                                0.0        \n",
       "2                                                0.0        \n",
       "3                                                NaN        \n",
       "4                                                0.0        \n",
       "\n",
       "   bureau_positivecount_SK_ID_CURR_CNT_CREDIT_PROLONG  \\\n",
       "0                                                0.0    \n",
       "1                                                0.0    \n",
       "2                                                0.0    \n",
       "3                                                NaN    \n",
       "4                                                0.0    \n",
       "\n",
       "   bureau_positivecount_SK_ID_CURR_AMT_CREDIT_SUM_DEBT  \\\n",
       "0                                                1.0     \n",
       "1                                                0.0     \n",
       "2                                                0.0     \n",
       "3                                                NaN     \n",
       "4                                                0.0     \n",
       "\n",
       "   bureau_positivecount_SK_ID_CURR_AMT_CREDIT_SUM_OVERDUE  \\\n",
       "0                                                0.0        \n",
       "1                                                0.0        \n",
       "2                                                0.0        \n",
       "3                                                NaN        \n",
       "4                                                0.0        \n",
       "\n",
       "   bureau_onehot_CREDIT_ACTIVE_Active  bureau_onehot_CREDIT_ACTIVE_Bad debt  \\\n",
       "0                                 2.0                                   0.0   \n",
       "1                                 1.0                                   0.0   \n",
       "2                                 0.0                                   0.0   \n",
       "3                                 NaN                                   NaN   \n",
       "4                                 0.0                                   0.0   \n",
       "\n",
       "   bureau_onehot_CREDIT_ACTIVE_Closed  bureau_onehot_CREDIT_ACTIVE_Sold  \\\n",
       "0                                 6.0                               0.0   \n",
       "1                                 3.0                               0.0   \n",
       "2                                 2.0                               0.0   \n",
       "3                                 NaN                               NaN   \n",
       "4                                 1.0                               0.0   \n",
       "\n",
       "              ...              \\\n",
       "0             ...               \n",
       "1             ...               \n",
       "2             ...               \n",
       "3             ...               \n",
       "4             ...               \n",
       "\n",
       "   bureau_AMT_CREDIT_SUM_OVERDUE_divide_DAYS_CREDIT_ENDDATE_mean  \\\n",
       "0                                                0.0               \n",
       "1                                                0.0               \n",
       "2                                                0.0               \n",
       "3                                                NaN               \n",
       "4                                                0.0               \n",
       "\n",
       "   bureau_AMT_CREDIT_SUM_OVERDUE_divide_DAYS_CREDIT_ENDDATE_median  \\\n",
       "0                                               -0.0                 \n",
       "1                                               -0.0                 \n",
       "2                                               -0.0                 \n",
       "3                                                NaN                 \n",
       "4                                               -0.0                 \n",
       "\n",
       "   bureau_AMT_CREDIT_SUM_OVERDUE_divide_DAYS_CREDIT_ENDDATE_max  \\\n",
       "0                                               -0.0              \n",
       "1                                               -0.0              \n",
       "2                                               -0.0              \n",
       "3                                                NaN              \n",
       "4                                               -0.0              \n",
       "\n",
       "   bureau_AMT_CREDIT_SUM_OVERDUE_divide_DAYS_CREDIT_ENDDATE_min  \\\n",
       "0                                               -0.0              \n",
       "1                                               -0.0              \n",
       "2                                               -0.0              \n",
       "3                                                NaN              \n",
       "4                                               -0.0              \n",
       "\n",
       "   bureau_AMT_CREDIT_SUM_OVERDUE_divide_DAYS_CREDIT_ENDDATE_sum  \\\n",
       "0                                                0.0              \n",
       "1                                                0.0              \n",
       "2                                                0.0              \n",
       "3                                                NaN              \n",
       "4                                                0.0              \n",
       "\n",
       "   bureau_onehot_STATUS_3_mean  bureau_onehot_STATUS_3_median  \\\n",
       "0                          0.0                            0.0   \n",
       "1                          NaN                            NaN   \n",
       "2                          NaN                            NaN   \n",
       "3                          NaN                            NaN   \n",
       "4                          NaN                            NaN   \n",
       "\n",
       "   bureau_onehot_STATUS_3_max  bureau_onehot_STATUS_3_min  \\\n",
       "0                         0.0                         0.0   \n",
       "1                         NaN                         NaN   \n",
       "2                         NaN                         NaN   \n",
       "3                         NaN                         NaN   \n",
       "4                         NaN                         NaN   \n",
       "\n",
       "   bureau_onehot_STATUS_3_sum  \n",
       "0                         0.0  \n",
       "1                         NaN  \n",
       "2                         NaN  \n",
       "3                         NaN  \n",
       "4                         NaN  \n",
       "\n",
       "[5 rows x 460 columns]"
      ]
     },
     "execution_count": 12,
     "metadata": {},
     "output_type": "execute_result"
    }
   ],
   "source": [
    "bureau_df.head()"
   ]
  },
  {
   "cell_type": "code",
   "execution_count": 24,
   "metadata": {
    "ExecuteTime": {
     "end_time": "2018-06-26T15:39:28.245374Z",
     "start_time": "2018-06-26T15:39:27.347984Z"
    }
   },
   "outputs": [],
   "source": [
    "train = pd.read_pickle(PATH + 'train_factorized.pkl')\n",
    "test = pd.read_pickle(PATH + 'test_factorized.pkl')"
   ]
  },
  {
   "cell_type": "code",
   "execution_count": 25,
   "metadata": {
    "ExecuteTime": {
     "end_time": "2018-06-26T15:39:28.648877Z",
     "start_time": "2018-06-26T15:39:28.646352Z"
    }
   },
   "outputs": [
    {
     "data": {
      "text/plain": [
       "(307511, 328)"
      ]
     },
     "execution_count": 25,
     "metadata": {},
     "output_type": "execute_result"
    }
   ],
   "source": [
    "train.shape"
   ]
  },
  {
   "cell_type": "code",
   "execution_count": 26,
   "metadata": {
    "ExecuteTime": {
     "end_time": "2018-06-26T15:39:37.136627Z",
     "start_time": "2018-06-26T15:39:29.784587Z"
    }
   },
   "outputs": [
    {
     "name": "stdout",
     "output_type": "stream",
     "text": [
      "(307511, 787)\n"
     ]
    }
   ],
   "source": [
    "train = train.merge(bureau_df, on = 'SK_ID_CURR', how = 'left')\n",
    "test = test.merge(bureau_df, on = 'SK_ID_CURR', how  = 'left')\n",
    "print(train.shape)"
   ]
  },
  {
   "cell_type": "code",
   "execution_count": 27,
   "metadata": {
    "ExecuteTime": {
     "end_time": "2018-06-26T15:39:41.820439Z",
     "start_time": "2018-06-26T15:39:37.578004Z"
    }
   },
   "outputs": [],
   "source": [
    "train.to_pickle(PATH+'inter/train_bureau.pkl')\n",
    "test.to_pickle(PATH+'inter/test_bureau.pkl')"
   ]
  },
  {
   "cell_type": "code",
   "execution_count": 28,
   "metadata": {
    "ExecuteTime": {
     "end_time": "2018-06-26T15:42:50.822027Z",
     "start_time": "2018-06-26T15:42:50.812240Z"
    }
   },
   "outputs": [
    {
     "data": {
      "text/plain": [
       "0          -497\n",
       "1          -208\n",
       "2          -203\n",
       "3          -203\n",
       "4          -629\n",
       "5          -273\n",
       "6           -43\n",
       "7         -1896\n",
       "8         -1146\n",
       "9         -1146\n",
       "10        -1146\n",
       "11        -2456\n",
       "12         -277\n",
       "13          -96\n",
       "14         -318\n",
       "15        -2911\n",
       "16        -2148\n",
       "17         -381\n",
       "18          -95\n",
       "19         -444\n",
       "20         -392\n",
       "21         -784\n",
       "22         -774\n",
       "23         -395\n",
       "24        -2744\n",
       "25        -1103\n",
       "26         -315\n",
       "27        -1331\n",
       "28        -2534\n",
       "29         -845\n",
       "           ... \n",
       "1716398   -1529\n",
       "1716399    -613\n",
       "1716400    -815\n",
       "1716401   -2333\n",
       "1716402   -1714\n",
       "1716403    -765\n",
       "1716404     -99\n",
       "1716405   -2390\n",
       "1716406   -2517\n",
       "1716407   -1990\n",
       "1716408    -434\n",
       "1716409   -1705\n",
       "1716410    -575\n",
       "1716411    -821\n",
       "1716412    -541\n",
       "1716413    -463\n",
       "1716414   -1628\n",
       "1716415   -1970\n",
       "1716416   -1100\n",
       "1716417    -740\n",
       "1716418   -1389\n",
       "1716419   -1808\n",
       "1716420     -99\n",
       "1716421   -1335\n",
       "1716422   -2648\n",
       "1716423     -44\n",
       "1716424   -2648\n",
       "1716425   -1809\n",
       "1716426   -1878\n",
       "1716427    -463\n",
       "Name: DAYS_CREDIT, Length: 1716428, dtype: int64"
      ]
     },
     "execution_count": 28,
     "metadata": {},
     "output_type": "execute_result"
    }
   ],
   "source": [
    "bureau['DAYS_CREDIT']"
   ]
  },
  {
   "cell_type": "markdown",
   "metadata": {},
   "source": [
    "# CHeck meaning for columns and basic stats"
   ]
  },
  {
   "cell_type": "code",
   "execution_count": 29,
   "metadata": {
    "ExecuteTime": {
     "end_time": "2018-06-26T15:44:27.412098Z",
     "start_time": "2018-06-26T15:44:27.408668Z"
    }
   },
   "outputs": [],
   "source": [
    "# Days credit"
   ]
  },
  {
   "cell_type": "code",
   "execution_count": 32,
   "metadata": {
    "ExecuteTime": {
     "end_time": "2018-06-26T15:46:59.533917Z",
     "start_time": "2018-06-26T15:46:59.401741Z"
    }
   },
   "outputs": [
    {
     "data": {
      "text/plain": [
       "(array([ 98832., 110849.,  85838.,  95374., 147349., 187116., 214714.,\n",
       "        245774., 281846., 248736.]),\n",
       " array([-2922. , -2629.8, -2337.6, -2045.4, -1753.2, -1461. , -1168.8,\n",
       "         -876.6,  -584.4,  -292.2,     0. ]),\n",
       " <a list of 10 Patch objects>)"
      ]
     },
     "execution_count": 32,
     "metadata": {},
     "output_type": "execute_result"
    },
    {
     "data": {
      "image/png": "[encoded data removed]",
      "text/plain": [
       "<Figure size 432x288 with 1 Axes>"
      ]
     },
     "metadata": {},
     "output_type": "display_data"
    }
   ],
   "source": [
    "import matplotlib.pyplot as plt\n",
    "tmp = bureau['DAYS_CREDIT']\n",
    "plt.hist(tmp)"
   ]
  },
  {
   "cell_type": "code",
   "execution_count": 55,
   "metadata": {
    "ExecuteTime": {
     "end_time": "2018-06-26T15:53:51.079605Z",
     "start_time": "2018-06-26T15:53:51.055541Z"
    }
   },
   "outputs": [],
   "source": [
    "tmp = bureau[bureau['CREDIT_DAY_OVERDUE'] >0]"
   ]
  },
  {
   "cell_type": "code",
   "execution_count": 56,
   "metadata": {
    "ExecuteTime": {
     "end_time": "2018-06-26T15:53:51.599409Z",
     "start_time": "2018-06-26T15:53:51.596942Z"
    }
   },
   "outputs": [
    {
     "data": {
      "text/plain": [
       "(4217, 17)"
      ]
     },
     "execution_count": 56,
     "metadata": {},
     "output_type": "execute_result"
    }
   ],
   "source": [
    "tmp.shape"
   ]
  },
  {
   "cell_type": "code",
   "execution_count": 44,
   "metadata": {
    "ExecuteTime": {
     "end_time": "2018-06-26T15:50:00.751931Z",
     "start_time": "2018-06-26T15:50:00.746542Z"
    }
   },
   "outputs": [
    {
     "data": {
      "text/plain": [
       "(1716428, 17)"
      ]
     },
     "execution_count": 44,
     "metadata": {},
     "output_type": "execute_result"
    }
   ],
   "source": [
    "bureau.shape"
   ]
  },
  {
   "cell_type": "code",
   "execution_count": 46,
   "metadata": {
    "ExecuteTime": {
     "end_time": "2018-06-26T15:50:55.914121Z",
     "start_time": "2018-06-26T15:50:55.819473Z"
    }
   },
   "outputs": [],
   "source": [
    "tmp = bureau[bureau['DAYS_CREDIT_ENDDATE'] >=0]"
   ]
  },
  {
   "cell_type": "code",
   "execution_count": 47,
   "metadata": {
    "ExecuteTime": {
     "end_time": "2018-06-26T15:51:00.032896Z",
     "start_time": "2018-06-26T15:51:00.026585Z"
    }
   },
   "outputs": [
    {
     "data": {
      "text/plain": [
       "(603486, 17)"
      ]
     },
     "execution_count": 47,
     "metadata": {},
     "output_type": "execute_result"
    }
   ],
   "source": [
    "tmp.shape"
   ]
  },
  {
   "cell_type": "code",
   "execution_count": 51,
   "metadata": {
    "ExecuteTime": {
     "end_time": "2018-06-26T15:52:43.058445Z",
     "start_time": "2018-06-26T15:52:43.043908Z"
    }
   },
   "outputs": [],
   "source": [
    "x = bureau['DAYS_CREDIT_ENDDATE'] > bureau['CREDIT_DAY_OVERDUE']\n",
    "y = bureau['DAYS_CREDIT_ENDDATE'] < bureau['CREDIT_DAY_OVERDUE']"
   ]
  },
  {
   "cell_type": "code",
   "execution_count": 52,
   "metadata": {
    "ExecuteTime": {
     "end_time": "2018-06-26T15:52:43.586593Z",
     "start_time": "2018-06-26T15:52:43.546596Z"
    }
   },
   "outputs": [
    {
     "name": "stdout",
     "output_type": "stream",
     "text": [
      "602496 1007495\n"
     ]
    }
   ],
   "source": [
    "print(x.sum(), y.sum())"
   ]
  },
  {
   "cell_type": "code",
   "execution_count": 57,
   "metadata": {
    "ExecuteTime": {
     "end_time": "2018-06-26T16:02:09.109246Z",
     "start_time": "2018-06-26T16:02:09.094862Z"
    }
   },
   "outputs": [],
   "source": [
    "x = bureau['DAYS_CREDIT_ENDDATE'] > bureau['DAYS_ENDDATE_FACT']\n",
    "y = bureau['DAYS_CREDIT_ENDDATE'] < bureau['DAYS_ENDDATE_FACT']"
   ]
  },
  {
   "cell_type": "code",
   "execution_count": 58,
   "metadata": {
    "ExecuteTime": {
     "end_time": "2018-06-26T16:02:17.032752Z",
     "start_time": "2018-06-26T16:02:16.982777Z"
    }
   },
   "outputs": [
    {
     "name": "stdout",
     "output_type": "stream",
     "text": [
      "487085 239064\n"
     ]
    }
   ],
   "source": [
    "print(x.sum(), y.sum())"
   ]
  },
  {
   "cell_type": "code",
   "execution_count": 62,
   "metadata": {
    "ExecuteTime": {
     "end_time": "2018-06-26T16:46:14.448891Z",
     "start_time": "2018-06-26T16:46:14.429487Z"
    }
   },
   "outputs": [],
   "source": [
    "tmp = bureau['AMT_CREDIT_MAX_OVERDUE'].fillna(0)"
   ]
  },
  {
   "cell_type": "code",
   "execution_count": 73,
   "metadata": {
    "ExecuteTime": {
     "end_time": "2018-06-26T16:49:08.367147Z",
     "start_time": "2018-06-26T16:49:08.327741Z"
    }
   },
   "outputs": [],
   "source": [
    "tmp = bureau[bureau['AMT_CREDIT_MAX_OVERDUE']>0]['AMT_CREDIT_MAX_OVERDUE'].fillna(0)"
   ]
  },
  {
   "cell_type": "code",
   "execution_count": 75,
   "metadata": {
    "ExecuteTime": {
     "end_time": "2018-06-26T16:49:18.260457Z",
     "start_time": "2018-06-26T16:49:18.251080Z"
    }
   },
   "outputs": [
    {
     "data": {
      "text/plain": [
       "4          77674.500\n",
       "7          14985.000\n",
       "24           310.500\n",
       "25         20493.270\n",
       "26         88821.000\n",
       "27          1350.000\n",
       "44          3980.520\n",
       "49          1800.000\n",
       "81         18293.265\n",
       "82         12618.000\n",
       "98            40.500\n",
       "99          6007.500\n",
       "125        11250.000\n",
       "126         6492.420\n",
       "132         3285.000\n",
       "133         1704.780\n",
       "183         3727.890\n",
       "184        13590.000\n",
       "189         2189.205\n",
       "190        13225.725\n",
       "199         3520.800\n",
       "200         1856.340\n",
       "212        20880.000\n",
       "217        10732.680\n",
       "219        18639.135\n",
       "220         7420.500\n",
       "225           35.055\n",
       "232         6457.500\n",
       "236        21161.115\n",
       "237        25470.000\n",
       "             ...    \n",
       "1715822     4995.000\n",
       "1715832     5209.830\n",
       "1715836     5240.340\n",
       "1715883    11641.500\n",
       "1715939       45.000\n",
       "1715964     6955.560\n",
       "1715969     5940.000\n",
       "1715975     2065.500\n",
       "1716030    13950.000\n",
       "1716048     7234.110\n",
       "1716069      869.490\n",
       "1716106     5407.020\n",
       "1716107     4603.140\n",
       "1716122     6684.390\n",
       "1716179    95276.205\n",
       "1716220     7155.000\n",
       "1716230    13455.000\n",
       "1716255     4185.000\n",
       "1716262     3559.500\n",
       "1716265      594.000\n",
       "1716275     1611.045\n",
       "1716357     6603.795\n",
       "1716377    12996.000\n",
       "1716387      130.275\n",
       "1716401      173.070\n",
       "1716405    11317.590\n",
       "1716413     6863.715\n",
       "1716414     5693.625\n",
       "1716419     8100.000\n",
       "1716424     5476.500\n",
       "Name: AMT_CREDIT_MAX_OVERDUE, Length: 121290, dtype: float64"
      ]
     },
     "execution_count": 75,
     "metadata": {},
     "output_type": "execute_result"
    }
   ],
   "source": [
    "tmp"
   ]
  },
  {
   "cell_type": "code",
   "execution_count": 77,
   "metadata": {
    "ExecuteTime": {
     "end_time": "2018-06-26T16:51:11.924747Z",
     "start_time": "2018-06-26T16:51:11.892090Z"
    }
   },
   "outputs": [
    {
     "data": {
      "text/plain": [
       "1707314"
      ]
     },
     "execution_count": 77,
     "metadata": {},
     "output_type": "execute_result"
    }
   ],
   "source": [
    "(bureau['CNT_CREDIT_PROLONG']==0).sum()"
   ]
  },
  {
   "cell_type": "code",
   "execution_count": 79,
   "metadata": {
    "ExecuteTime": {
     "end_time": "2018-06-26T16:52:20.317546Z",
     "start_time": "2018-06-26T16:52:20.286065Z"
    }
   },
   "outputs": [
    {
     "data": {
      "text/plain": [
       "9114"
      ]
     },
     "execution_count": 79,
     "metadata": {},
     "output_type": "execute_result"
    }
   ],
   "source": [
    "(bureau['CNT_CREDIT_PROLONG']>0).sum()"
   ]
  },
  {
   "cell_type": "code",
   "execution_count": 80,
   "metadata": {
    "ExecuteTime": {
     "end_time": "2018-06-26T16:56:05.649675Z",
     "start_time": "2018-06-26T16:56:05.643536Z"
    }
   },
   "outputs": [
    {
     "data": {
      "text/plain": [
       "Index(['SK_ID_CURR', 'SK_ID_BUREAU', 'CREDIT_ACTIVE', 'CREDIT_CURRENCY',\n",
       "       'DAYS_CREDIT', 'CREDIT_DAY_OVERDUE', 'DAYS_CREDIT_ENDDATE',\n",
       "       'DAYS_ENDDATE_FACT', 'AMT_CREDIT_MAX_OVERDUE', 'CNT_CREDIT_PROLONG',\n",
       "       'AMT_CREDIT_SUM', 'AMT_CREDIT_SUM_DEBT', 'AMT_CREDIT_SUM_LIMIT',\n",
       "       'AMT_CREDIT_SUM_OVERDUE', 'CREDIT_TYPE', 'DAYS_CREDIT_UPDATE',\n",
       "       'AMT_ANNUITY'],\n",
       "      dtype='object')"
      ]
     },
     "execution_count": 80,
     "metadata": {},
     "output_type": "execute_result"
    }
   ],
   "source": [
    "bureau.columns"
   ]
  },
  {
   "cell_type": "code",
   "execution_count": 85,
   "metadata": {
    "ExecuteTime": {
     "end_time": "2018-06-26T16:59:37.024589Z",
     "start_time": "2018-06-26T16:59:37.020788Z"
    }
   },
   "outputs": [],
   "source": [
    "cols = ['AMT_CREDIT_MAX_OVERDUE', 'CNT_CREDIT_PROLONG',\n",
    "       'AMT_CREDIT_SUM', 'AMT_CREDIT_SUM_DEBT', 'AMT_CREDIT_SUM_LIMIT',\n",
    "       'AMT_CREDIT_SUM_OVERDUE']"
   ]
  },
  {
   "cell_type": "code",
   "execution_count": 91,
   "metadata": {
    "ExecuteTime": {
     "end_time": "2018-06-26T17:03:39.756527Z",
     "start_time": "2018-06-26T17:03:38.256656Z"
    }
   },
   "outputs": [
    {
     "name": "stdout",
     "output_type": "stream",
     "text": [
      "121285_465376_5279 for AMT_CREDIT_MAX_OVERDUE_and_CNT_CREDIT_PROLONG\n",
      "2945_25437_563558 for AMT_CREDIT_MAX_OVERDUE_and_AMT_CREDIT_SUM\n",
      "76538_298273_134019 for AMT_CREDIT_MAX_OVERDUE_and_AMT_CREDIT_SUM_DEBT\n",
      "82576_358748_63905 for AMT_CREDIT_MAX_OVERDUE_and_AMT_CREDIT_SUM_LIMIT\n",
      "120895_471044_1 for AMT_CREDIT_MAX_OVERDUE_and_AMT_CREDIT_SUM_OVERDUE\n",
      "5279_465376_121285 for CNT_CREDIT_PROLONG_and_AMT_CREDIT_MAX_OVERDUE\n",
      "971_65611_1649833 for CNT_CREDIT_PROLONG_and_AMT_CREDIT_SUM\n",
      "11620_1013233_433906 for CNT_CREDIT_PROLONG_and_AMT_CREDIT_SUM_DEBT\n",
      "2963_1047535_74150 for CNT_CREDIT_PROLONG_and_AMT_CREDIT_SUM_LIMIT\n",
      "9082_1703188_4158 for CNT_CREDIT_PROLONG_and_AMT_CREDIT_SUM_OVERDUE\n",
      "563558_25437_2945 for AMT_CREDIT_SUM_and_AMT_CREDIT_MAX_OVERDUE\n",
      "1649833_65611_971 for AMT_CREDIT_SUM_and_CNT_CREDIT_PROLONG\n",
      "1359223_69881_29642 for AMT_CREDIT_SUM_and_AMT_CREDIT_SUM_DEBT\n",
      "1045862_69901_8885 for AMT_CREDIT_SUM_and_AMT_CREDIT_SUM_LIMIT\n",
      "1649797_66503_115 for AMT_CREDIT_SUM_and_AMT_CREDIT_SUM_OVERDUE\n",
      "134019_298273_76538 for AMT_CREDIT_SUM_DEBT_and_AMT_CREDIT_MAX_OVERDUE\n",
      "433906_1013233_11620 for AMT_CREDIT_SUM_DEBT_and_CNT_CREDIT_PROLONG\n",
      "29642_69881_1359223 for AMT_CREDIT_SUM_DEBT_and_AMT_CREDIT_SUM\n",
      "340613_744235_39700 for AMT_CREDIT_SUM_DEBT_and_AMT_CREDIT_SUM_LIMIT\n",
      "433677_1015884_9198 for AMT_CREDIT_SUM_DEBT_and_AMT_CREDIT_SUM_OVERDUE\n",
      "63905_358748_82576 for AMT_CREDIT_SUM_LIMIT_and_AMT_CREDIT_MAX_OVERDUE\n",
      "74150_1047535_2963 for AMT_CREDIT_SUM_LIMIT_and_CNT_CREDIT_PROLONG\n",
      "8885_69901_1045862 for AMT_CREDIT_SUM_LIMIT_and_AMT_CREDIT_SUM\n",
      "39700_744235_340613 for AMT_CREDIT_SUM_LIMIT_and_AMT_CREDIT_SUM_DEBT\n",
      "74144_1047842_2662 for AMT_CREDIT_SUM_LIMIT_and_AMT_CREDIT_SUM_OVERDUE\n",
      "1_471044_120895 for AMT_CREDIT_SUM_OVERDUE_and_AMT_CREDIT_MAX_OVERDUE\n",
      "4158_1703188_9082 for AMT_CREDIT_SUM_OVERDUE_and_CNT_CREDIT_PROLONG\n",
      "115_66503_1649797 for AMT_CREDIT_SUM_OVERDUE_and_AMT_CREDIT_SUM\n",
      "9198_1015884_433677 for AMT_CREDIT_SUM_OVERDUE_and_AMT_CREDIT_SUM_DEBT\n",
      "2662_1047842_74144 for AMT_CREDIT_SUM_OVERDUE_and_AMT_CREDIT_SUM_LIMIT\n"
     ]
    }
   ],
   "source": [
    "for i in cols:\n",
    "    for j in cols:\n",
    "        if j!= i:\n",
    "#             print('{}_and_{}'.format(i,j))\n",
    "            tmp1 =(bureau[i] > bureau[j]).sum()\n",
    "            tmp2 = (bureau[i] == bureau[j]).sum()\n",
    "            tmp3 =  (bureau[i]< bureau[j]).sum()\n",
    "            print('{}_{}_{}'.format(tmp1,tmp2,tmp3), 'for {}_and_{}'.format(i,j))"
   ]
  },
  {
   "cell_type": "code",
   "execution_count": 92,
   "metadata": {
    "ExecuteTime": {
     "end_time": "2018-06-26T17:04:16.150566Z",
     "start_time": "2018-06-26T17:04:15.688753Z"
    }
   },
   "outputs": [
    {
     "data": {
      "text/plain": [
       "SK_ID_CURR                0.000000\n",
       "SK_ID_BUREAU              0.000000\n",
       "CREDIT_ACTIVE             0.000000\n",
       "CREDIT_CURRENCY           0.000000\n",
       "DAYS_CREDIT               0.000000\n",
       "CREDIT_DAY_OVERDUE        0.000000\n",
       "DAYS_CREDIT_ENDDATE       0.061496\n",
       "DAYS_ENDDATE_FACT         0.369170\n",
       "AMT_CREDIT_MAX_OVERDUE    0.655133\n",
       "CNT_CREDIT_PROLONG        0.000000\n",
       "AMT_CREDIT_SUM            0.000008\n",
       "AMT_CREDIT_SUM_DEBT       0.150119\n",
       "AMT_CREDIT_SUM_LIMIT      0.344774\n",
       "AMT_CREDIT_SUM_OVERDUE    0.000000\n",
       "CREDIT_TYPE               0.000000\n",
       "DAYS_CREDIT_UPDATE        0.000000\n",
       "AMT_ANNUITY               0.714735\n",
       "dtype: float64"
      ]
     },
     "execution_count": 92,
     "metadata": {},
     "output_type": "execute_result"
    }
   ],
   "source": [
    "bureau.isnull().sum()/len(bureau)"
   ]
  },
  {
   "cell_type": "code",
   "execution_count": 93,
   "metadata": {
    "ExecuteTime": {
     "end_time": "2018-06-26T17:08:41.171432Z",
     "start_time": "2018-06-26T17:08:41.120101Z"
    }
   },
   "outputs": [
    {
     "data": {
      "text/html": [
       "<div>\n",
       "<style scoped>\n",
       "    .dataframe tbody tr th:only-of-type {\n",
       "        vertical-align: middle;\n",
       "    }\n",
       "\n",
       "    .dataframe tbody tr th {\n",
       "        vertical-align: top;\n",
       "    }\n",
       "\n",
       "    .dataframe thead th {\n",
       "        text-align: right;\n",
       "    }\n",
       "</style>\n",
       "<table border=\"1\" class=\"dataframe\">\n",
       "  <thead>\n",
       "    <tr style=\"text-align: right;\">\n",
       "      <th></th>\n",
       "      <th>AMT_CREDIT_MAX_OVERDUE</th>\n",
       "      <th>CNT_CREDIT_PROLONG</th>\n",
       "      <th>AMT_CREDIT_SUM</th>\n",
       "      <th>AMT_CREDIT_SUM_DEBT</th>\n",
       "      <th>AMT_CREDIT_SUM_LIMIT</th>\n",
       "      <th>AMT_CREDIT_SUM_OVERDUE</th>\n",
       "    </tr>\n",
       "  </thead>\n",
       "  <tbody>\n",
       "    <tr>\n",
       "      <th>0</th>\n",
       "      <td>NaN</td>\n",
       "      <td>0</td>\n",
       "      <td>91323.0</td>\n",
       "      <td>0.0</td>\n",
       "      <td>NaN</td>\n",
       "      <td>0.0</td>\n",
       "    </tr>\n",
       "    <tr>\n",
       "      <th>1</th>\n",
       "      <td>NaN</td>\n",
       "      <td>0</td>\n",
       "      <td>225000.0</td>\n",
       "      <td>171342.0</td>\n",
       "      <td>NaN</td>\n",
       "      <td>0.0</td>\n",
       "    </tr>\n",
       "    <tr>\n",
       "      <th>2</th>\n",
       "      <td>NaN</td>\n",
       "      <td>0</td>\n",
       "      <td>464323.5</td>\n",
       "      <td>NaN</td>\n",
       "      <td>NaN</td>\n",
       "      <td>0.0</td>\n",
       "    </tr>\n",
       "    <tr>\n",
       "      <th>3</th>\n",
       "      <td>NaN</td>\n",
       "      <td>0</td>\n",
       "      <td>90000.0</td>\n",
       "      <td>NaN</td>\n",
       "      <td>NaN</td>\n",
       "      <td>0.0</td>\n",
       "    </tr>\n",
       "    <tr>\n",
       "      <th>4</th>\n",
       "      <td>77674.5</td>\n",
       "      <td>0</td>\n",
       "      <td>2700000.0</td>\n",
       "      <td>NaN</td>\n",
       "      <td>NaN</td>\n",
       "      <td>0.0</td>\n",
       "    </tr>\n",
       "  </tbody>\n",
       "</table>\n",
       "</div>"
      ],
      "text/plain": [
       "   AMT_CREDIT_MAX_OVERDUE  CNT_CREDIT_PROLONG  AMT_CREDIT_SUM  \\\n",
       "0                     NaN                   0         91323.0   \n",
       "1                     NaN                   0        225000.0   \n",
       "2                     NaN                   0        464323.5   \n",
       "3                     NaN                   0         90000.0   \n",
       "4                 77674.5                   0       2700000.0   \n",
       "\n",
       "   AMT_CREDIT_SUM_DEBT  AMT_CREDIT_SUM_LIMIT  AMT_CREDIT_SUM_OVERDUE  \n",
       "0                  0.0                   NaN                     0.0  \n",
       "1             171342.0                   NaN                     0.0  \n",
       "2                  NaN                   NaN                     0.0  \n",
       "3                  NaN                   NaN                     0.0  \n",
       "4                  NaN                   NaN                     0.0  "
      ]
     },
     "execution_count": 93,
     "metadata": {},
     "output_type": "execute_result"
    }
   ],
   "source": [
    "b_sum = bureau[cols]\n",
    "b_sum.head()"
   ]
  },
  {
   "cell_type": "code",
   "execution_count": 140,
   "metadata": {
    "ExecuteTime": {
     "end_time": "2018-06-26T20:24:00.527779Z",
     "start_time": "2018-06-26T20:23:59.963373Z"
    }
   },
   "outputs": [
    {
     "data": {
      "text/plain": [
       "SK_ID_CURR                      0\n",
       "SK_ID_BUREAU                    0\n",
       "CREDIT_ACTIVE                   0\n",
       "CREDIT_CURRENCY                 0\n",
       "DAYS_CREDIT                     0\n",
       "CREDIT_DAY_OVERDUE              0\n",
       "DAYS_CREDIT_ENDDATE        105553\n",
       "DAYS_ENDDATE_FACT          633653\n",
       "AMT_CREDIT_MAX_OVERDUE    1124488\n",
       "CNT_CREDIT_PROLONG              0\n",
       "AMT_CREDIT_SUM                 13\n",
       "AMT_CREDIT_SUM_DEBT        257669\n",
       "AMT_CREDIT_SUM_LIMIT       591780\n",
       "AMT_CREDIT_SUM_OVERDUE          0\n",
       "CREDIT_TYPE                     0\n",
       "DAYS_CREDIT_UPDATE              0\n",
       "AMT_ANNUITY               1226791\n",
       "dtype: int64"
      ]
     },
     "execution_count": 140,
     "metadata": {},
     "output_type": "execute_result"
    }
   ],
   "source": [
    "bureau.isnull().sum()"
   ]
  },
  {
   "cell_type": "code",
   "execution_count": 95,
   "metadata": {
    "ExecuteTime": {
     "end_time": "2018-06-26T17:34:53.924234Z",
     "start_time": "2018-06-26T17:34:53.780038Z"
    }
   },
   "outputs": [
    {
     "data": {
      "text/plain": [
       "(array([ 37319.,  39742.,  43831.,  46294.,  42495.,  40694.,  31965.,\n",
       "         27860.,  35982.,  44711.,  52228.,  61134.,  70022.,  71493.,\n",
       "         79588.,  85755.,  84753.,  89727.,  98221., 102032., 107450.,\n",
       "        115528., 118001., 111271.,  78332.]),\n",
       " array([-2922.  , -2805.12, -2688.24, -2571.36, -2454.48, -2337.6 ,\n",
       "        -2220.72, -2103.84, -1986.96, -1870.08, -1753.2 , -1636.32,\n",
       "        -1519.44, -1402.56, -1285.68, -1168.8 , -1051.92,  -935.04,\n",
       "         -818.16,  -701.28,  -584.4 ,  -467.52,  -350.64,  -233.76,\n",
       "         -116.88,     0.  ]),\n",
       " <a list of 25 Patch objects>)"
      ]
     },
     "execution_count": 95,
     "metadata": {},
     "output_type": "execute_result"
    },
    {
     "data": {
      "image/png": "[encoded data removed]",
      "text/plain": [
       "<Figure size 432x288 with 1 Axes>"
      ]
     },
     "metadata": {},
     "output_type": "display_data"
    }
   ],
   "source": [
    "tmp = bureau['DAYS_CREDIT'] \n",
    "plt.hist(tmp,bins=25)"
   ]
  },
  {
   "cell_type": "markdown",
   "metadata": {},
   "source": [
    "# Amt owed related"
   ]
  },
  {
   "cell_type": "code",
   "execution_count": 141,
   "metadata": {
    "ExecuteTime": {
     "end_time": "2018-06-26T20:30:25.576246Z",
     "start_time": "2018-06-26T20:30:25.561995Z"
    }
   },
   "outputs": [],
   "source": [
    "prolong = bureau[bureau['CNT_CREDIT_PROLONG'] !=0]"
   ]
  },
  {
   "cell_type": "code",
   "execution_count": 142,
   "metadata": {
    "ExecuteTime": {
     "end_time": "2018-06-26T20:30:29.887090Z",
     "start_time": "2018-06-26T20:30:29.881342Z"
    }
   },
   "outputs": [
    {
     "data": {
      "text/plain": [
       "(9114, 17)"
      ]
     },
     "execution_count": 142,
     "metadata": {},
     "output_type": "execute_result"
    }
   ],
   "source": [
    "prolong.shape"
   ]
  },
  {
   "cell_type": "markdown",
   "metadata": {},
   "source": [
    "# Days related"
   ]
  },
  {
   "cell_type": "code",
   "execution_count": 143,
   "metadata": {
    "ExecuteTime": {
     "end_time": "2018-06-26T20:46:16.199188Z",
     "start_time": "2018-06-26T20:46:16.193126Z"
    }
   },
   "outputs": [
    {
     "data": {
      "text/plain": [
       "Index(['SK_ID_CURR', 'SK_ID_BUREAU', 'CREDIT_ACTIVE', 'CREDIT_CURRENCY',\n",
       "       'DAYS_CREDIT', 'CREDIT_DAY_OVERDUE', 'DAYS_CREDIT_ENDDATE',\n",
       "       'DAYS_ENDDATE_FACT', 'AMT_CREDIT_MAX_OVERDUE', 'CNT_CREDIT_PROLONG',\n",
       "       'AMT_CREDIT_SUM', 'AMT_CREDIT_SUM_DEBT', 'AMT_CREDIT_SUM_LIMIT',\n",
       "       'AMT_CREDIT_SUM_OVERDUE', 'CREDIT_TYPE', 'DAYS_CREDIT_UPDATE',\n",
       "       'AMT_ANNUITY'],\n",
       "      dtype='object')"
      ]
     },
     "execution_count": 143,
     "metadata": {},
     "output_type": "execute_result"
    }
   ],
   "source": [
    "bureau.columns"
   ]
  },
  {
   "cell_type": "code",
   "execution_count": 152,
   "metadata": {
    "ExecuteTime": {
     "end_time": "2018-06-26T20:58:34.707836Z",
     "start_time": "2018-06-26T20:58:33.662044Z"
    }
   },
   "outputs": [
    {
     "name": "stdout",
     "output_type": "stream",
     "text": [
      "DAYS_CREDIT_and_CREDIT_DAY_OVERDUE\n",
      "1716403 25 0 1716428\n",
      "DAYS_CREDIT_and_DAYS_CREDIT_ENDDATE\n",
      "1609717 994 164 1610875\n",
      "DAYS_CREDIT_and_DAYS_ENDDATE_FACT\n",
      "1080735 2020 20 1082775\n",
      "DAYS_CREDIT_and_DAYS_CREDIT_UPDATE\n",
      "1706919 9374 135 1716428\n",
      "CREDIT_DAY_OVERDUE_and_DAYS_CREDIT\n",
      "0 25 1716403 1716428\n",
      "CREDIT_DAY_OVERDUE_and_DAYS_CREDIT_ENDDATE\n",
      "602496 884 1007495 1610875\n",
      "CREDIT_DAY_OVERDUE_and_DAYS_ENDDATE_FACT\n",
      "0 64 1082711 1082775\n",
      "CREDIT_DAY_OVERDUE_and_DAYS_CREDIT_UPDATE\n",
      "17 604 1715807 1716428\n",
      "DAYS_CREDIT_ENDDATE_and_DAYS_CREDIT\n",
      "164 994 1609717 1610875\n",
      "DAYS_CREDIT_ENDDATE_and_CREDIT_DAY_OVERDUE\n",
      "1007495 884 602496 1610875\n",
      "DAYS_CREDIT_ENDDATE_and_DAYS_ENDDATE_FACT\n",
      "239064 323837 487085 1049986\n",
      "DAYS_CREDIT_ENDDATE_and_DAYS_CREDIT_UPDATE\n",
      "623912 97514 889449 1610875\n",
      "DAYS_ENDDATE_FACT_and_DAYS_CREDIT\n",
      "20 2020 1080735 1082775\n",
      "DAYS_ENDDATE_FACT_and_CREDIT_DAY_OVERDUE\n",
      "1082711 64 0 1082775\n",
      "DAYS_ENDDATE_FACT_and_DAYS_CREDIT_ENDDATE\n",
      "487085 323837 239064 1049986\n",
      "DAYS_ENDDATE_FACT_and_DAYS_CREDIT_UPDATE\n",
      "769988 310485 2302 1082775\n",
      "DAYS_CREDIT_UPDATE_and_DAYS_CREDIT\n",
      "135 9374 1706919 1716428\n",
      "DAYS_CREDIT_UPDATE_and_CREDIT_DAY_OVERDUE\n",
      "1715807 604 17 1716428\n",
      "DAYS_CREDIT_UPDATE_and_DAYS_CREDIT_ENDDATE\n",
      "889449 97514 623912 1610875\n",
      "DAYS_CREDIT_UPDATE_and_DAYS_ENDDATE_FACT\n",
      "2302 310485 769988 1082775\n"
     ]
    }
   ],
   "source": [
    "day_cols = ['DAYS_CREDIT', 'CREDIT_DAY_OVERDUE', 'DAYS_CREDIT_ENDDATE',\n",
    "       'DAYS_ENDDATE_FACT', 'DAYS_CREDIT_UPDATE']\n",
    "for i in day_cols:\n",
    "    for j in day_cols:\n",
    "        if j != i:\n",
    "            tmp1 = (bureau[i] < bureau[j]).sum()\n",
    "            tmp2 = (bureau[i] == bureau[j]).sum()\n",
    "            tmp3 = (bureau[i] > bureau[j]).sum()\n",
    "            s = tmp1+tmp2+tmp3\n",
    "            print('{}_and_{}'.format(i,j))\n",
    "            print(tmp1, tmp2, tmp3,s)"
   ]
  },
  {
   "cell_type": "code",
   "execution_count": null,
   "metadata": {},
   "outputs": [],
   "source": []
  },
  {
   "cell_type": "code",
   "execution_count": null,
   "metadata": {},
   "outputs": [],
   "source": []
  }
 ],
 "metadata": {
  "kernelspec": {
   "display_name": "Python 3",
   "language": "python",
   "name": "python3"
  },
  "language_info": {
   "codemirror_mode": {
    "name": "ipython",
    "version": 3
   },
   "file_extension": ".py",
   "mimetype": "text/x-python",
   "name": "python",
   "nbconvert_exporter": "python",
   "pygments_lexer": "ipython3",
   "version": "3.6.5"
  },
  "varInspector": {
   "cols": {
    "lenName": 16,
    "lenType": 16,
    "lenVar": 40
   },
   "kernels_config": {
    "python": {
     "delete_cmd_postfix": "",
     "delete_cmd_prefix": "del ",
     "library": "var_list.py",
     "varRefreshCmd": "print(var_dic_list())"
    },
    "r": {
     "delete_cmd_postfix": ") ",
     "delete_cmd_prefix": "rm(",
     "library": "var_list.r",
     "varRefreshCmd": "cat(var_dic_list()) "
    }
   },
   "types_to_exclude": [
    "module",
    "function",
    "builtin_function_or_method",
    "instance",
    "_Feature"
   ],
   "window_display": false
  }
 },
 "nbformat": 4,
 "nbformat_minor": 2
}
