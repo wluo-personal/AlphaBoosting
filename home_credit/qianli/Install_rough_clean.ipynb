{
 "cells": [
  {
   "cell_type": "code",
   "execution_count": 1,
   "metadata": {
    "ExecuteTime": {
     "end_time": "2018-06-12T18:34:32.342205Z",
     "start_time": "2018-06-12T18:34:00.011681Z"
    }
   },
   "outputs": [
    {
     "name": "stdout",
     "output_type": "stream",
     "text": [
      "train\n",
      "test\n",
      "installments_payments done\n",
      "credit_card_balance\n",
      "POS_CASH_balance\n",
      "credit_card_balance\n",
      "previous_application\n"
     ]
    }
   ],
   "source": [
    "import pandas as pd\n",
    "import numpy as np\n",
    "\n",
    "PATH = '/home/kai/data/kaggle/homecredit/'\n",
    "train = pd.read_csv(PATH + 'application_train.csv')\n",
    "print('train')\n",
    "test = pd.read_csv(PATH + 'application_test.csv')\n",
    "print('test')\n",
    "# bureau = pd.read_csv(PATH + 'bureau.csv')\n",
    "# print('bureau')\n",
    "# bureau_balance = pd.read_csv(PATH + 'bureau_balance.csv')\n",
    "# print('bureau_balance')\n",
    "installments_payments = pd.read_csv(PATH + 'installments_payments.csv')\n",
    "print('installments_payments done')\n",
    "credit_card_balance = pd.read_csv(PATH + 'credit_card_balance.csv')\n",
    "print('credit_card_balance')\n",
    "POS_CASH_balance = pd.read_csv(PATH + 'POS_CASH_balance.csv')\n",
    "print('POS_CASH_balance')\n",
    "credit_card_balance = pd.read_csv(PATH + 'credit_card_balance.csv')\n",
    "print('credit_card_balance')\n",
    "previous_application = pd.read_csv(PATH + 'previous_application.csv')\n",
    "print('previous_application')"
   ]
  },
  {
   "cell_type": "code",
   "execution_count": 2,
   "metadata": {
    "ExecuteTime": {
     "end_time": "2018-06-12T18:34:45.267987Z",
     "start_time": "2018-06-12T18:34:45.251021Z"
    },
    "collapsed": true
   },
   "outputs": [],
   "source": [
    "import pandas as pd\n",
    "import os\n",
    "import gc\n",
    "import numpy as np\n",
    "\n",
    "def ratio_name(numerator, denominator): return numerator + '_' + denominator + '_ratio'\n",
    "\n",
    "def ratio(df, numerator, denominator):\n",
    "    return df[numerator] / df[denominator]\n",
    "\n",
    "def substraction_name(col1, col2): return col1 + '_minus_' + col2\n",
    "\n",
    "def substraction(df, col1,col2):\n",
    "    return df[col1] - df[col2]\n",
    "\n"
   ]
  },
  {
   "cell_type": "markdown",
   "metadata": {},
   "source": [
    "# Installments: substraction and ratio and late days"
   ]
  },
  {
   "cell_type": "code",
   "execution_count": 3,
   "metadata": {
    "ExecuteTime": {
     "end_time": "2018-06-12T18:34:47.753762Z",
     "start_time": "2018-06-12T18:34:47.747140Z"
    }
   },
   "outputs": [
    {
     "data": {
      "text/plain": [
       "array(['SK_ID_PREV', 'SK_ID_CURR', 'NUM_INSTALMENT_VERSION',\n",
       "       'NUM_INSTALMENT_NUMBER', 'DAYS_INSTALMENT', 'DAYS_ENTRY_PAYMENT',\n",
       "       'AMT_INSTALMENT', 'AMT_PAYMENT'], dtype=object)"
      ]
     },
     "execution_count": 3,
     "metadata": {},
     "output_type": "execute_result"
    }
   ],
   "source": [
    "installments_payments.columns.values"
   ]
  },
  {
   "cell_type": "code",
   "execution_count": 4,
   "metadata": {
    "ExecuteTime": {
     "end_time": "2018-06-12T18:34:52.756124Z",
     "start_time": "2018-06-12T18:34:50.127321Z"
    }
   },
   "outputs": [
    {
     "name": "stderr",
     "output_type": "stream",
     "text": [
      "/home/kai/anaconda3/envs/tf_newer/lib/python3.6/site-packages/ipykernel_launcher.py:9: SettingWithCopyWarning: \n",
      "A value is trying to be set on a copy of a slice from a DataFrame\n",
      "\n",
      "See the caveats in the documentation: http://pandas.pydata.org/pandas-docs/stable/indexing.html#indexing-view-versus-copy\n",
      "  if __name__ == '__main__':\n"
     ]
    }
   ],
   "source": [
    "installments_payments[substraction_name('DAYS_INSTALMENT', 'DAYS_ENTRY_PAYMENT')] =\\\n",
    "substraction(installments_payments, 'DAYS_INSTALMENT' ,'DAYS_ENTRY_PAYMENT')\n",
    "\n",
    "installments_payments[substraction_name('AMT_PAYMENT', 'AMT_INSTALMENT')] = \\\n",
    "substraction(installments_payments, 'AMT_PAYMENT' ,'AMT_INSTALMENT')\n",
    "\n",
    "installments_payments[ratio_name('AMT_PAYMENT', 'AMT_INSTALMENT')] = \\\n",
    "ratio(installments_payments, 'AMT_PAYMENT' ,'AMT_INSTALMENT')\n",
    "\n",
    "installments_payments['late_days'] = 0\n",
    "x = installments_payments['DAYS_INSTALMENT_minus_DAYS_ENTRY_PAYMENT'] < 0\n",
    "installments_payments['late_days'][x] = installments_payments['DAYS_INSTALMENT_minus_DAYS_ENTRY_PAYMENT'][x]"
   ]
  },
  {
   "cell_type": "markdown",
   "metadata": {},
   "source": [
    "# Numerical Columns:"
   ]
  },
  {
   "cell_type": "code",
   "execution_count": 5,
   "metadata": {
    "ExecuteTime": {
     "end_time": "2018-06-12T18:34:55.152340Z",
     "start_time": "2018-06-12T18:34:55.069054Z"
    },
    "collapsed": true
   },
   "outputs": [],
   "source": [
    "def numerical_agg(df, gp_col, agg_col, df_name, extrafunc_list = None):\n",
    "    \n",
    "    agg_list = ['max', 'min', 'std','mean']\n",
    "    '''\n",
    "    Possible extrafunc_list: ['sum','median','two_minus_one_third','positive_count', 'negative_count','standard_error', 'trimmed_mean_10_pct', 'trimmed_mean_25_pct','normed_std', 'max_minus_min','one_third','two_third']\n",
    "    '''\n",
    "    if extrafunc_list:\n",
    "        if 'one_third' in extrafunc_list:\n",
    "            def one_third(series):\n",
    "                return series.quantile(1/3)\n",
    "            \n",
    "        if 'two_third' in extrafunc_list:\n",
    "            def two_third(series):\n",
    "                return series.quantile(2/3)\n",
    "            \n",
    "        if 'max_minus_min' in extrafunc_list:\n",
    "            def max_minus_min(series):\n",
    "                return (series.max() - series.min())\n",
    "        \n",
    "        if 'two_minus_one_third' in extrafunc_list:\n",
    "#             print('two_minus_one')\n",
    "#             print('get two minus one')\n",
    "            def two_minus_one_third(series):\n",
    "                return(series.quantile(0.66666) - series.quantile(0.33333))\n",
    "       \n",
    "        if 'positive_count' in extrafunc_list:\n",
    "#             print('get positive count')\n",
    "            def positive_count(series):\n",
    "                return pd.Series(series > 0).sum()\n",
    "\n",
    "        if 'negative_count' in extrafunc_list:\n",
    "#             print('get negative count')\n",
    "            def negative_count(series):\n",
    "                return pd.Series(series < 0).sum()\n",
    "\n",
    "        if 'standard_error' in extrafunc_list:\n",
    "#             print('get std-error')\n",
    "            def standard_error(series):\n",
    "                return series.std()/np.sqrt(len(series))\n",
    "\n",
    "        if 'normed_std' in extrafunc_list:\n",
    "#             print('get normed_std')\n",
    "            def normed_std(series):\n",
    "                return series.std()/series.mean()\n",
    "\n",
    "        if 'trimmed_mean_10_pct' in extrafunc_list:\n",
    "#             print('get_trimmed 10 pct')\n",
    "            def trimmed_mean_10_pct(series):\n",
    "                return stats.trim_mean(series.dropna(), 0.1)\n",
    "\n",
    "        if 'trimmed_mean_25_pct' in extrafunc_list:\n",
    "#             print('get_trimmed 25 pct')\n",
    "            def trimmed_mean_25_pct(series):\n",
    "                return stats.trim_mean(series.dropna(), 0.25)\n",
    "        \n",
    "        list_tocall = []\n",
    "        for i in extrafunc_list:\n",
    "            if i not in set(['sum', 'median']):\n",
    "                list_tocall.append(eval(i))\n",
    "            \n",
    "    if extrafunc_list != None:   \n",
    "        agg_list.extend(list_tocall)\n",
    "    \n",
    "    _df = df.groupby(gp_col).agg({agg_col:agg_list})\n",
    "    columns = []\n",
    "    for pre in _df.columns.levels[0]:\n",
    "        for middle in _df.columns.levels[1]:\n",
    "            columns.append('%s_%s_%s' %(df_name,pre,middle))\n",
    "    _df.columns = columns\n",
    "    \n",
    "    return _df.reset_index()"
   ]
  },
  {
   "cell_type": "code",
   "execution_count": 6,
   "metadata": {
    "ExecuteTime": {
     "end_time": "2018-06-12T18:36:34.880688Z",
     "start_time": "2018-06-12T18:34:57.492561Z"
    },
    "collapsed": true
   },
   "outputs": [],
   "source": [
    "gp_col = 'SK_ID_CURR'\n",
    "agg_col = ['DAYS_INSTALMENT_minus_DAYS_ENTRY_PAYMENT',\n",
    "          'AMT_PAYMENT_minus_AMT_INSTALMENT',\n",
    "          'AMT_PAYMENT_AMT_INSTALMENT_ratio',\n",
    "          'DAYS_ENTRY_PAYMENT',\n",
    "          'AMT_PAYMENT',\n",
    "          'late_days']\n",
    "'''\n",
    "    Possible extrafunc_list: ['sum','median','two_minus_one_third','positive_count', 'negative_count','standard_error', 'trimmed_mean_10_pct', 'trimmed_mean_25_pct','normed_std', 'max_minus_min','one_third','two_third']\n",
    "    '''\n",
    "extrafunc_list = [['negative_count'],['negative_count'],None,None,None,None]\n",
    "for i in range(6):\n",
    "    train = train.merge(numerical_agg(installments_payments, gp_col, agg_col[i], 'installments',extrafunc_list = extrafunc_list[i]),\\\n",
    "                       on = 'SK_ID_CURR', how='left')"
   ]
  },
  {
   "cell_type": "code",
   "execution_count": 7,
   "metadata": {
    "ExecuteTime": {
     "end_time": "2018-06-12T18:36:37.262616Z",
     "start_time": "2018-06-12T18:36:37.259399Z"
    },
    "collapsed": true
   },
   "outputs": [
    {
     "data": {
      "text/plain": [
       "array(['SK_ID_CURR', 'TARGET', 'NAME_CONTRACT_TYPE', 'CODE_GENDER',\n",
       "       'FLAG_OWN_CAR', 'FLAG_OWN_REALTY', 'CNT_CHILDREN',\n",
       "       'AMT_INCOME_TOTAL', 'AMT_CREDIT', 'AMT_ANNUITY', 'AMT_GOODS_PRICE',\n",
       "       'NAME_TYPE_SUITE', 'NAME_INCOME_TYPE', 'NAME_EDUCATION_TYPE',\n",
       "       'NAME_FAMILY_STATUS', 'NAME_HOUSING_TYPE',\n",
       "       'REGION_POPULATION_RELATIVE', 'DAYS_BIRTH', 'DAYS_EMPLOYED',\n",
       "       'DAYS_REGISTRATION', 'DAYS_ID_PUBLISH', 'OWN_CAR_AGE',\n",
       "       'FLAG_MOBIL', 'FLAG_EMP_PHONE', 'FLAG_WORK_PHONE',\n",
       "       'FLAG_CONT_MOBILE', 'FLAG_PHONE', 'FLAG_EMAIL', 'OCCUPATION_TYPE',\n",
       "       'CNT_FAM_MEMBERS', 'REGION_RATING_CLIENT',\n",
       "       'REGION_RATING_CLIENT_W_CITY', 'WEEKDAY_APPR_PROCESS_START',\n",
       "       'HOUR_APPR_PROCESS_START', 'REG_REGION_NOT_LIVE_REGION',\n",
       "       'REG_REGION_NOT_WORK_REGION', 'LIVE_REGION_NOT_WORK_REGION',\n",
       "       'REG_CITY_NOT_LIVE_CITY', 'REG_CITY_NOT_WORK_CITY',\n",
       "       'LIVE_CITY_NOT_WORK_CITY', 'ORGANIZATION_TYPE', 'EXT_SOURCE_1',\n",
       "       'EXT_SOURCE_2', 'EXT_SOURCE_3', 'APARTMENTS_AVG',\n",
       "       'BASEMENTAREA_AVG', 'YEARS_BEGINEXPLUATATION_AVG',\n",
       "       'YEARS_BUILD_AVG', 'COMMONAREA_AVG', 'ELEVATORS_AVG',\n",
       "       'ENTRANCES_AVG', 'FLOORSMAX_AVG', 'FLOORSMIN_AVG', 'LANDAREA_AVG',\n",
       "       'LIVINGAPARTMENTS_AVG', 'LIVINGAREA_AVG',\n",
       "       'NONLIVINGAPARTMENTS_AVG', 'NONLIVINGAREA_AVG', 'APARTMENTS_MODE',\n",
       "       'BASEMENTAREA_MODE', 'YEARS_BEGINEXPLUATATION_MODE',\n",
       "       'YEARS_BUILD_MODE', 'COMMONAREA_MODE', 'ELEVATORS_MODE',\n",
       "       'ENTRANCES_MODE', 'FLOORSMAX_MODE', 'FLOORSMIN_MODE',\n",
       "       'LANDAREA_MODE', 'LIVINGAPARTMENTS_MODE', 'LIVINGAREA_MODE',\n",
       "       'NONLIVINGAPARTMENTS_MODE', 'NONLIVINGAREA_MODE',\n",
       "       'APARTMENTS_MEDI', 'BASEMENTAREA_MEDI',\n",
       "       'YEARS_BEGINEXPLUATATION_MEDI', 'YEARS_BUILD_MEDI',\n",
       "       'COMMONAREA_MEDI', 'ELEVATORS_MEDI', 'ENTRANCES_MEDI',\n",
       "       'FLOORSMAX_MEDI', 'FLOORSMIN_MEDI', 'LANDAREA_MEDI',\n",
       "       'LIVINGAPARTMENTS_MEDI', 'LIVINGAREA_MEDI',\n",
       "       'NONLIVINGAPARTMENTS_MEDI', 'NONLIVINGAREA_MEDI',\n",
       "       'FONDKAPREMONT_MODE', 'HOUSETYPE_MODE', 'TOTALAREA_MODE',\n",
       "       'WALLSMATERIAL_MODE', 'EMERGENCYSTATE_MODE',\n",
       "       'OBS_30_CNT_SOCIAL_CIRCLE', 'DEF_30_CNT_SOCIAL_CIRCLE',\n",
       "       'OBS_60_CNT_SOCIAL_CIRCLE', 'DEF_60_CNT_SOCIAL_CIRCLE',\n",
       "       'DAYS_LAST_PHONE_CHANGE', 'FLAG_DOCUMENT_2', 'FLAG_DOCUMENT_3',\n",
       "       'FLAG_DOCUMENT_4', 'FLAG_DOCUMENT_5', 'FLAG_DOCUMENT_6',\n",
       "       'FLAG_DOCUMENT_7', 'FLAG_DOCUMENT_8', 'FLAG_DOCUMENT_9',\n",
       "       'FLAG_DOCUMENT_10', 'FLAG_DOCUMENT_11', 'FLAG_DOCUMENT_12',\n",
       "       'FLAG_DOCUMENT_13', 'FLAG_DOCUMENT_14', 'FLAG_DOCUMENT_15',\n",
       "       'FLAG_DOCUMENT_16', 'FLAG_DOCUMENT_17', 'FLAG_DOCUMENT_18',\n",
       "       'FLAG_DOCUMENT_19', 'FLAG_DOCUMENT_20', 'FLAG_DOCUMENT_21',\n",
       "       'AMT_REQ_CREDIT_BUREAU_HOUR', 'AMT_REQ_CREDIT_BUREAU_DAY',\n",
       "       'AMT_REQ_CREDIT_BUREAU_WEEK', 'AMT_REQ_CREDIT_BUREAU_MON',\n",
       "       'AMT_REQ_CREDIT_BUREAU_QRT', 'AMT_REQ_CREDIT_BUREAU_YEAR',\n",
       "       'installments_DAYS_INSTALMENT_minus_DAYS_ENTRY_PAYMENT_max',\n",
       "       'installments_DAYS_INSTALMENT_minus_DAYS_ENTRY_PAYMENT_min',\n",
       "       'installments_DAYS_INSTALMENT_minus_DAYS_ENTRY_PAYMENT_std',\n",
       "       'installments_DAYS_INSTALMENT_minus_DAYS_ENTRY_PAYMENT_mean',\n",
       "       'installments_DAYS_INSTALMENT_minus_DAYS_ENTRY_PAYMENT_negative_count',\n",
       "       'installments_AMT_PAYMENT_minus_AMT_INSTALMENT_max',\n",
       "       'installments_AMT_PAYMENT_minus_AMT_INSTALMENT_min',\n",
       "       'installments_AMT_PAYMENT_minus_AMT_INSTALMENT_std',\n",
       "       'installments_AMT_PAYMENT_minus_AMT_INSTALMENT_mean',\n",
       "       'installments_AMT_PAYMENT_minus_AMT_INSTALMENT_negative_count',\n",
       "       'installments_AMT_PAYMENT_AMT_INSTALMENT_ratio_max',\n",
       "       'installments_AMT_PAYMENT_AMT_INSTALMENT_ratio_min',\n",
       "       'installments_AMT_PAYMENT_AMT_INSTALMENT_ratio_std',\n",
       "       'installments_AMT_PAYMENT_AMT_INSTALMENT_ratio_mean',\n",
       "       'installments_DAYS_ENTRY_PAYMENT_max',\n",
       "       'installments_DAYS_ENTRY_PAYMENT_min',\n",
       "       'installments_DAYS_ENTRY_PAYMENT_std',\n",
       "       'installments_DAYS_ENTRY_PAYMENT_mean',\n",
       "       'installments_AMT_PAYMENT_max', 'installments_AMT_PAYMENT_min',\n",
       "       'installments_AMT_PAYMENT_std', 'installments_AMT_PAYMENT_mean',\n",
       "       'installments_late_days_max', 'installments_late_days_min',\n",
       "       'installments_late_days_std', 'installments_late_days_mean'],\n",
       "      dtype=object)"
      ]
     },
     "execution_count": 7,
     "metadata": {},
     "output_type": "execute_result"
    }
   ],
   "source": [
    "train.columns.values"
   ]
  },
  {
   "cell_type": "markdown",
   "metadata": {},
   "source": [
    "# Installments: score"
   ]
  },
  {
   "cell_type": "code",
   "execution_count": 8,
   "metadata": {
    "ExecuteTime": {
     "end_time": "2018-06-12T18:36:39.585465Z",
     "start_time": "2018-06-12T18:36:39.582540Z"
    }
   },
   "outputs": [
    {
     "data": {
      "text/plain": [
       "array(['SK_ID_PREV', 'SK_ID_CURR', 'NUM_INSTALMENT_VERSION',\n",
       "       'NUM_INSTALMENT_NUMBER', 'DAYS_INSTALMENT', 'DAYS_ENTRY_PAYMENT',\n",
       "       'AMT_INSTALMENT', 'AMT_PAYMENT',\n",
       "       'DAYS_INSTALMENT_minus_DAYS_ENTRY_PAYMENT',\n",
       "       'AMT_PAYMENT_minus_AMT_INSTALMENT',\n",
       "       'AMT_PAYMENT_AMT_INSTALMENT_ratio', 'late_days'], dtype=object)"
      ]
     },
     "execution_count": 8,
     "metadata": {},
     "output_type": "execute_result"
    }
   ],
   "source": [
    "installments_payments.columns.values"
   ]
  },
  {
   "cell_type": "code",
   "execution_count": 57,
   "metadata": {
    "ExecuteTime": {
     "end_time": "2018-06-12T20:06:57.421198Z",
     "start_time": "2018-06-12T20:06:52.479262Z"
    },
    "collapsed": true
   },
   "outputs": [],
   "source": [
    "install_sorted = installments_payments.sort_values('DAYS_INSTALMENT')\n",
    "install_sorted['score'] = (install_sorted['AMT_PAYMENT_AMT_INSTALMENT_ratio']*(-20) + 21) * np.exp((install_sorted['late_days'])**3/100)* (1/(1 + abs(install_sorted['DAYS_ENTRY_PAYMENT']/365) ))\n"
   ]
  },
  {
   "cell_type": "code",
   "execution_count": 58,
   "metadata": {
    "ExecuteTime": {
     "end_time": "2018-06-12T20:06:59.121133Z",
     "start_time": "2018-06-12T20:06:59.117502Z"
    },
    "scrolled": true
   },
   "outputs": [
    {
     "name": "stdout",
     "output_type": "stream",
     "text": [
      "8439179      1.095767e-01\n",
      "5094326      9.573323e-22\n",
      "9473281      1.109760e-01\n",
      "6243411      1.110435e-01\n",
      "10978469     1.103052e-01\n",
      "5102268      1.105726e-01\n",
      "1804370      1.106731e-01\n",
      "11323940     1.110435e-01\n",
      "12101001     1.098736e-01\n",
      "4830108      1.110435e-01\n",
      "29326        1.110435e-01\n",
      "5139981      1.108412e-01\n",
      "9803387      1.110435e-01\n",
      "12581050     1.105726e-01\n",
      "6806919      1.109085e-01\n",
      "5866820      1.109085e-01\n",
      "11666290     1.108412e-01\n",
      "9349304      1.110435e-01\n",
      "11792791     1.110435e-01\n",
      "8385872      1.097084e-01\n",
      "9192885     1.460553e-186\n",
      "598797       1.109422e-01\n",
      "7565474     9.494396e-158\n",
      "7958539      1.110435e-01\n",
      "9602589      1.108748e-01\n",
      "4733825      1.101388e-01\n",
      "13526401     3.186296e-02\n",
      "4560897      1.110435e-01\n",
      "7717597      1.101720e-01\n",
      "8214441      1.109422e-01\n",
      "                ...      \n",
      "6069074      9.554974e-01\n",
      "3779569               NaN\n",
      "12137583     9.891599e-01\n",
      "5287979      9.891599e-01\n",
      "5296251      9.918478e-01\n",
      "1719681      9.335038e-01\n",
      "2675654      9.630607e-01\n",
      "5923645      9.891599e-01\n",
      "148562       9.945504e-01\n",
      "11101819     9.681698e-01\n",
      "4910378      9.918478e-01\n",
      "4224312      9.945504e-01\n",
      "1352768      9.945504e-01\n",
      "4373558      9.759358e-01\n",
      "13472700     9.945504e-01\n",
      "9313487      9.918478e-01\n",
      "13585741     9.918478e-01\n",
      "8222009      9.945504e-01\n",
      "9727858      9.945504e-01\n",
      "7436846      9.945504e-01\n",
      "8927658      9.785523e-01\n",
      "12197929     9.918478e-01\n",
      "3831570      9.945504e-01\n",
      "10456957     9.945504e-01\n",
      "1350860      9.945504e-01\n",
      "3779516               NaN\n",
      "2980070      9.945504e-01\n",
      "5465618      9.918478e-01\n",
      "9270043      9.972678e-01\n",
      "13545386     9.972678e-01\n",
      "Name: score, Length: 13605401, dtype: float64\n"
     ]
    }
   ],
   "source": [
    "print(install_sorted['score'])"
   ]
  },
  {
   "cell_type": "markdown",
   "metadata": {},
   "source": [
    "# POS_CASH "
   ]
  },
  {
   "cell_type": "code",
   "execution_count": 46,
   "metadata": {
    "ExecuteTime": {
     "end_time": "2018-06-12T19:50:30.158770Z",
     "start_time": "2018-06-12T19:50:30.141963Z"
    }
   },
   "outputs": [
    {
     "data": {
      "text/plain": [
       "13605401"
      ]
     },
     "execution_count": 46,
     "metadata": {},
     "output_type": "execute_result"
    }
   ],
   "source": [
    "len(install_sorted['DAYS_INSTALMENT']< -2000)"
   ]
  },
  {
   "cell_type": "code",
   "execution_count": 47,
   "metadata": {
    "ExecuteTime": {
     "end_time": "2018-06-12T19:50:37.600165Z",
     "start_time": "2018-06-12T19:50:37.595490Z"
    }
   },
   "outputs": [
    {
     "data": {
      "text/plain": [
       "(13605401, 13)"
      ]
     },
     "execution_count": 47,
     "metadata": {},
     "output_type": "execute_result"
    }
   ],
   "source": [
    "install_sorted.shape"
   ]
  },
  {
   "cell_type": "code",
   "execution_count": 53,
   "metadata": {
    "ExecuteTime": {
     "end_time": "2018-06-12T19:55:19.169886Z",
     "start_time": "2018-06-12T19:55:18.384958Z"
    }
   },
   "outputs": [
    {
     "data": {
      "text/plain": [
       "[]"
      ]
     },
     "execution_count": 53,
     "metadata": {},
     "output_type": "execute_result"
    },
    {
     "data": {
      "image/png": "[encoded data removed]",
      "text/plain": [
       "<matplotlib.figure.Figure at 0x7fa8db9a9e80>"
      ]
     },
     "metadata": {},
     "output_type": "display_data"
    }
   ],
   "source": [
    "p = install_sorted['DAYS_INSTALMENT'].hist(bins = 500)\n",
    "p.plot()"
   ]
  },
  {
   "cell_type": "code",
   "execution_count": null,
   "metadata": {
    "collapsed": true
   },
   "outputs": [],
   "source": []
  }
 ],
 "metadata": {
  "kernelspec": {
   "display_name": "Python 3.6 (tf_newer)",
   "language": "python",
   "name": "tf_newer"
  },
  "language_info": {
   "codemirror_mode": {
    "name": "ipython",
    "version": 3
   },
   "file_extension": ".py",
   "mimetype": "text/x-python",
   "name": "python",
   "nbconvert_exporter": "python",
   "pygments_lexer": "ipython3",
   "version": "3.6.3"
  },
  "varInspector": {
   "cols": {
    "lenName": 16,
    "lenType": 16,
    "lenVar": 40
   },
   "kernels_config": {
    "python": {
     "delete_cmd_postfix": "",
     "delete_cmd_prefix": "del ",
     "library": "var_list.py",
     "varRefreshCmd": "print(var_dic_list())"
    },
    "r": {
     "delete_cmd_postfix": ") ",
     "delete_cmd_prefix": "rm(",
     "library": "var_list.r",
     "varRefreshCmd": "cat(var_dic_list()) "
    }
   },
   "types_to_exclude": [
    "module",
    "function",
    "builtin_function_or_method",
    "instance",
    "_Feature"
   ],
   "window_display": false
  }
 },
 "nbformat": 4,
 "nbformat_minor": 2
}
