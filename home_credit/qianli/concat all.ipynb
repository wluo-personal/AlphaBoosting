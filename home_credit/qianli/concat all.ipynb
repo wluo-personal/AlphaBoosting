{
 "cells": [
  {
   "cell_type": "code",
   "execution_count": 1,
   "metadata": {
    "ExecuteTime": {
     "end_time": "2018-07-09T21:26:20.330599Z",
     "start_time": "2018-07-09T21:26:19.768911Z"
    }
   },
   "outputs": [],
   "source": [
    "import os\n",
    "import numpy as np\n",
    "import pandas as pd\n",
    "import gc\n",
    "import time\n",
    "from contextlib import contextmanager\n",
    "from lightgbm import LGBMClassifier\n",
    "from sklearn.metrics import roc_auc_score, roc_curve\n",
    "from sklearn.model_selection import KFold, StratifiedKFold\n",
    "import matplotlib.pyplot as plt\n",
    "import seaborn as sns\n",
    "import warnings\n",
    "PATH = '/home/kai/data/kaggle/homecredit/'\n"
   ]
  },
  {
   "cell_type": "code",
   "execution_count": 2,
   "metadata": {
    "ExecuteTime": {
     "end_time": "2018-07-09T21:26:37.217158Z",
     "start_time": "2018-07-09T21:26:22.272503Z"
    }
   },
   "outputs": [
    {
     "name": "stdout",
     "output_type": "stream",
     "text": [
      "(307511, 329) (48744, 328)\n",
      "(356255, 818)\n",
      "(356255, 137)\n",
      "(356255, 502)\n",
      "(339587, 198)\n",
      "(356255, 617)\n"
     ]
    }
   ],
   "source": [
    "train = pd.read_pickle(PATH + 'test/train_ori.pkl')\n",
    "test = pd.read_pickle(PATH + 'test/test_ori.pkl')\n",
    "# train = pd.read_pickle(PATH + 'test/train_w_prev_2.pkl')\n",
    "# test = pd.read_pickle(PATH + 'test/test_w_prev_2.pkl')\n",
    "\n",
    "print(train.shape,test.shape)\n",
    "train.shape, test.shape\n",
    "prev = pd.read_pickle(PATH + 'test/prev2curr_0.pkl')\n",
    "print(prev.shape)\n",
    "pos = pd.read_pickle(PATH +'test/pos/all_agg.pkl')#\n",
    "print(pos.shape)\n",
    "cred = pd.read_pickle(PATH + 'inter/credit2curr.pkl')\n",
    "print(cred.shape)\n",
    "install = pd.read_pickle(PATH + 'inter/new_inst2curr.pkl')#\n",
    "print(install.shape)\n",
    "\n",
    "bureau = pd.read_pickle(PATH + 'test/new_bureau.pkl')#\n",
    "print(bureau.shape)"
   ]
  },
  {
   "cell_type": "code",
   "execution_count": 3,
   "metadata": {
    "ExecuteTime": {
     "end_time": "2018-07-09T21:27:40.959834Z",
     "start_time": "2018-07-09T21:26:40.922931Z"
    }
   },
   "outputs": [
    {
     "name": "stdout",
     "output_type": "stream",
     "text": [
      "(307511, 1146) (48744, 1145)\n",
      "(307511, 1282) (48744, 1281)\n",
      "(307511, 1783) (48744, 1782)\n",
      "(307511, 1980) (48744, 1979)\n",
      "(307511, 2596) (48744, 2595)\n"
     ]
    }
   ],
   "source": [
    "files = [prev,pos,cred,install,bureau]\n",
    "# files = [prev,cred,install,bureau]\n",
    "# files = [prev,pos,install,bureau]\n",
    "# files = [pos,cred,install,bureau]\n",
    "# files = [prev,pos,cred,bureau]\n",
    "for tmp in files:\n",
    "#     cols = [col for col in tmp.columns if 'std' not in col]\n",
    "#     tmp = tmp[cols]\n",
    "#     print(tmp.shape)\n",
    "    train = train.merge(tmp, on='SK_ID_CURR', how='left')\n",
    "    test = test.merge(tmp, on='SK_ID_CURR', how='left')\n",
    "    print(train.shape,test.shape)\n",
    "    "
   ]
  },
  {
   "cell_type": "code",
   "execution_count": null,
   "metadata": {},
   "outputs": [],
   "source": []
  },
  {
   "cell_type": "code",
   "execution_count": 4,
   "metadata": {
    "ExecuteTime": {
     "end_time": "2018-07-09T21:28:09.705966Z",
     "start_time": "2018-07-09T21:27:45.780488Z"
    }
   },
   "outputs": [],
   "source": [
    "train.to_pickle(PATH +'train_bo1.pkl')\n",
    "test.to_pickle(PATH +'test_bo1.pkl')"
   ]
  },
  {
   "cell_type": "markdown",
   "metadata": {},
   "source": [
    "# Concat base"
   ]
  },
  {
   "cell_type": "code",
   "execution_count": null,
   "metadata": {
    "ExecuteTime": {
     "start_time": "2018-07-09T21:25:59.159Z"
    }
   },
   "outputs": [],
   "source": [
    "import os\n",
    "import numpy as np\n",
    "import pandas as pd\n",
    "import gc\n",
    "import time\n",
    "from contextlib import contextmanager\n",
    "from lightgbm import LGBMClassifier\n",
    "from sklearn.metrics import roc_auc_score, roc_curve\n",
    "from sklearn.model_selection import KFold, StratifiedKFold\n",
    "import matplotlib.pyplot as plt\n",
    "import seaborn as sns\n",
    "import warnings\n",
    "PATH = '/home/kai/data/kaggle/homecredit/'"
   ]
  },
  {
   "cell_type": "code",
   "execution_count": null,
   "metadata": {
    "ExecuteTime": {
     "start_time": "2018-07-09T21:25:59.161Z"
    }
   },
   "outputs": [],
   "source": [
    "train = pd.read_pickle(PATH + 'test/train_ori.pkl')\n",
    "test = pd.read_pickle(PATH + 'test/test_ori.pkl')\n",
    "# train = pd.read_pickle(PATH + 'test/train_w_prev_2.pkl')\n",
    "# test = pd.read_pickle(PATH + 'test/test_w_prev_2.pkl')\n",
    "\n",
    "print(train.shape,test.shape)\n",
    "train.shape, test.shape\n",
    "prev = pd.read_pickle(PATH + 'test/prev2curr_0.pkl')\n",
    "print(prev.shape)\n",
    "pos = pd.read_pickle(PATH +'test/pos/all_agg.pkl')\n",
    "print(pos.shape)\n",
    "cred = pd.read_pickle(PATH + 'inter/credit2curr.pkl')\n",
    "print(cred.shape)\n",
    "install = pd.read_pickle(PATH + 'inter/old_inst2curr.pkl')\n",
    "print(install.shape)\n",
    "bureau = pd.read_pickle(PATH + 'inter/bureau2curr.pkl')\n",
    "print(bureau.shape)"
   ]
  },
  {
   "cell_type": "code",
   "execution_count": null,
   "metadata": {
    "ExecuteTime": {
     "start_time": "2018-07-09T21:25:59.165Z"
    }
   },
   "outputs": [],
   "source": [
    "files = [prev,pos,cred,install,bureau]\n",
    "for tmp in files:\n",
    "    print(files.shape)\n",
    "    train = train.merge(tmp, on='SK_ID_CURR', how='left')\n",
    "    test = test.merge(tmp, on='SK_ID_CURR', how='left')\n",
    "    print(train.shape,test.shape)\n",
    "    "
   ]
  },
  {
   "cell_type": "code",
   "execution_count": null,
   "metadata": {
    "ExecuteTime": {
     "start_time": "2018-07-09T21:25:59.166Z"
    }
   },
   "outputs": [],
   "source": [
    "train.to_pickle(PATH +'train_bo0.pkl')\n",
    "test.to_pickle(PATH +'test_bo0.pkl')"
   ]
  },
  {
   "cell_type": "markdown",
   "metadata": {},
   "source": [
    "# new baseline + new bureau\n"
   ]
  },
  {
   "cell_type": "code",
   "execution_count": 1,
   "metadata": {
    "ExecuteTime": {
     "end_time": "2018-07-10T14:35:32.016058Z",
     "start_time": "2018-07-10T14:35:31.146248Z"
    }
   },
   "outputs": [],
   "source": [
    "import os\n",
    "import numpy as np\n",
    "import pandas as pd\n",
    "import gc\n",
    "import time\n",
    "from contextlib import contextmanager\n",
    "from lightgbm import LGBMClassifier\n",
    "from sklearn.metrics import roc_auc_score, roc_curve\n",
    "from sklearn.model_selection import KFold, StratifiedKFold\n",
    "import matplotlib.pyplot as plt\n",
    "import seaborn as sns\n",
    "import warnings\n",
    "PATH = '/home/kai/data/kaggle/homecredit/'"
   ]
  },
  {
   "cell_type": "code",
   "execution_count": 2,
   "metadata": {
    "ExecuteTime": {
     "end_time": "2018-07-10T14:37:18.598535Z",
     "start_time": "2018-07-10T14:36:57.707334Z"
    }
   },
   "outputs": [
    {
     "name": "stdout",
     "output_type": "stream",
     "text": [
      "(307511, 329) (48744, 328)\n",
      "(356255, 818)\n",
      "(356255, 137)\n",
      "(356255, 502)\n",
      "(356255, 60)\n",
      "(356255, 554)\n",
      "(356255, 64)\n"
     ]
    }
   ],
   "source": [
    "train = pd.read_pickle(PATH + 'test/train_ori.pkl')\n",
    "test = pd.read_pickle(PATH + 'test/test_ori.pkl')\n",
    "# train = pd.read_pickle(PATH + 'test/train_w_prev_2.pkl')\n",
    "# test = pd.read_pickle(PATH + 'test/test_w_prev_2.pkl')\n",
    "\n",
    "print(train.shape,test.shape)\n",
    "train.shape, test.shape\n",
    "prev = pd.read_pickle(PATH + 'test/prev2curr_0.pkl')\n",
    "print(prev.shape)\n",
    "pos = pd.read_pickle(PATH +'test/pos/all_agg.pkl')\n",
    "print(pos.shape)\n",
    "cred = pd.read_pickle(PATH + 'inter/credit2curr.pkl')\n",
    "print(cred.shape)\n",
    "install = pd.read_pickle(PATH + 'inter/old_inst2curr.pkl')\n",
    "print(install.shape)\n",
    "bureau = pd.read_pickle(PATH + 'inter/bureau2curr.pkl')\n",
    "print(bureau.shape)\n",
    "bureau_sup = pd.read_pickle(PATH + 'inter/bureau_sup.pkl')\n",
    "print(bureau_sup.shape)\n",
    "    "
   ]
  },
  {
   "cell_type": "code",
   "execution_count": 6,
   "metadata": {
    "ExecuteTime": {
     "end_time": "2018-07-10T14:46:02.509468Z",
     "start_time": "2018-07-10T14:44:50.339305Z"
    }
   },
   "outputs": [
    {
     "name": "stdout",
     "output_type": "stream",
     "text": [
      "(307511, 1146) (48744, 1145)\n",
      "(307511, 1282) (48744, 1281)\n",
      "(307511, 1783) (48744, 1782)\n",
      "(307511, 1842) (48744, 1841)\n",
      "(307511, 2395) (48744, 2394)\n",
      "(307511, 2458) (48744, 2457)\n"
     ]
    }
   ],
   "source": [
    "\n",
    "files = [prev,pos,cred,install,bureau,bureau_sup]\n",
    "for tmp in files:\n",
    "    train = train.merge(tmp, on='SK_ID_CURR', how='left')\n",
    "    test = test.merge(tmp, on='SK_ID_CURR', how='left')\n",
    "    print(train.shape,test.shape)"
   ]
  },
  {
   "cell_type": "code",
   "execution_count": 7,
   "metadata": {
    "ExecuteTime": {
     "end_time": "2018-07-10T14:47:42.839281Z",
     "start_time": "2018-07-10T14:47:16.905406Z"
    }
   },
   "outputs": [],
   "source": [
    "train.to_pickle(PATH + 'bureau_train.pkl')\n",
    "test.to_pickle(PATH + 'bureau_test.pkl')"
   ]
  },
  {
   "cell_type": "code",
   "execution_count": null,
   "metadata": {},
   "outputs": [],
   "source": []
  }
 ],
 "metadata": {
  "kernelspec": {
   "display_name": "Python 3",
   "language": "python",
   "name": "python3"
  },
  "language_info": {
   "codemirror_mode": {
    "name": "ipython",
    "version": 3
   },
   "file_extension": ".py",
   "mimetype": "text/x-python",
   "name": "python",
   "nbconvert_exporter": "python",
   "pygments_lexer": "ipython3",
   "version": "3.6.5"
  },
  "varInspector": {
   "cols": {
    "lenName": 16,
    "lenType": 16,
    "lenVar": 40
   },
   "kernels_config": {
    "python": {
     "delete_cmd_postfix": "",
     "delete_cmd_prefix": "del ",
     "library": "var_list.py",
     "varRefreshCmd": "print(var_dic_list())"
    },
    "r": {
     "delete_cmd_postfix": ") ",
     "delete_cmd_prefix": "rm(",
     "library": "var_list.r",
     "varRefreshCmd": "cat(var_dic_list()) "
    }
   },
   "types_to_exclude": [
    "module",
    "function",
    "builtin_function_or_method",
    "instance",
    "_Feature"
   ],
   "window_display": false
  }
 },
 "nbformat": 4,
 "nbformat_minor": 2
}
