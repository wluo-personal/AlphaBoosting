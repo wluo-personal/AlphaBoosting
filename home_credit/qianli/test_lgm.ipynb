{
 "cells": [
  {
   "cell_type": "code",
   "execution_count": 1,
   "metadata": {
    "ExecuteTime": {
     "end_time": "2018-06-13T21:10:12.453852Z",
     "start_time": "2018-06-13T21:10:11.359488Z"
    }
   },
   "outputs": [
    {
     "name": "stdout",
     "output_type": "stream",
     "text": [
      "done\n"
     ]
    }
   ],
   "source": [
    "import pandas as pd\n",
    "import numpy as np\n",
    "from sklearn.model_selection import train_test_split\n",
    "PATH = '/home/kai/data/kaggle/homecredit/'\n",
    "\n",
    "app_train = pd.read_pickle(PATH + 'train_cleaned.pkl')\n",
    "app_test = pd.read_pickle(PATH + 'test_cleaned.pkl')\n",
    "print('done')"
   ]
  },
  {
   "cell_type": "code",
   "execution_count": 2,
   "metadata": {
    "ExecuteTime": {
     "end_time": "2018-06-13T21:10:15.147274Z",
     "start_time": "2018-06-13T21:10:12.455458Z"
    }
   },
   "outputs": [
    {
     "name": "stdout",
     "output_type": "stream",
     "text": [
      "NAME_CONTRACT_TYPE\n",
      "CODE_GENDER\n",
      "FLAG_OWN_CAR\n",
      "FLAG_OWN_REALTY\n",
      "NAME_TYPE_SUITE\n",
      "NAME_INCOME_TYPE\n",
      "NAME_EDUCATION_TYPE\n",
      "NAME_FAMILY_STATUS\n",
      "NAME_HOUSING_TYPE\n",
      "OCCUPATION_TYPE\n",
      "ORGANIZATION_TYPE\n",
      "WEEKDAY_APPR_PROCESS_START\n",
      "FONDKAPREMONT_MODE\n",
      "HOUSETYPE_MODE\n",
      "WALLSMATERIAL_MODE\n",
      "EMERGENCYSTATE_MODE\n",
      "done\n"
     ]
    }
   ],
   "source": [
    "from sklearn.preprocessing import LabelEncoder\n",
    "\n",
    "categorical_feats = [\n",
    "    'NAME_CONTRACT_TYPE','CODE_GENDER','FLAG_OWN_CAR','FLAG_OWN_REALTY','NAME_TYPE_SUITE',\n",
    "    'NAME_INCOME_TYPE','NAME_EDUCATION_TYPE', 'NAME_FAMILY_STATUS', 'NAME_HOUSING_TYPE',\n",
    "    'FLAG_MOBIL', 'FLAG_EMP_PHONE', 'FLAG_WORK_PHONE', 'FLAG_CONT_MOBILE', 'FLAG_PHONE', 'FLAG_EMAIL', 'OCCUPATION_TYPE',\n",
    "    'REG_REGION_NOT_LIVE_REGION', 'REG_REGION_NOT_WORK_REGION', 'LIVE_REGION_NOT_WORK_REGION', 'REG_CITY_NOT_LIVE_CITY',\n",
    "    'REG_CITY_NOT_WORK_CITY', 'LIVE_CITY_NOT_WORK_CITY', 'ORGANIZATION_TYPE', 'FLAG_DOCUMENT_2', 'FLAG_DOCUMENT_3',\n",
    "    'FLAG_DOCUMENT_4', 'FLAG_DOCUMENT_5', 'FLAG_DOCUMENT_6', 'FLAG_DOCUMENT_7', 'FLAG_DOCUMENT_8', 'FLAG_DOCUMENT_9',\n",
    "    'FLAG_DOCUMENT_10', 'FLAG_DOCUMENT_11', 'FLAG_DOCUMENT_12', 'FLAG_DOCUMENT_13', 'FLAG_DOCUMENT_14',\n",
    "    'FLAG_DOCUMENT_15', 'FLAG_DOCUMENT_16', 'FLAG_DOCUMENT_17', 'FLAG_DOCUMENT_18', 'FLAG_DOCUMENT_19',\n",
    "    'FLAG_DOCUMENT_20', 'FLAG_DOCUMENT_21','WEEKDAY_APPR_PROCESS_START', 'FONDKAPREMONT_MODE', 'HOUSETYPE_MODE', \n",
    "    'WALLSMATERIAL_MODE', 'EMERGENCYSTATE_MODE'\n",
    "]\n",
    "\n",
    "for x in categorical_feats:\n",
    "    if app_train[x].dtype == 'object':\n",
    "        print(x)\n",
    "        app_train[x].fillna('na', inplace=True)\n",
    "        app_test[x].fillna('na', inplace=True)\n",
    "        app_train[x] = LabelEncoder().fit_transform(app_train[x])\n",
    "        app_test[x] = LabelEncoder().fit_transform(app_test[x])\n",
    "    else:\n",
    "        app_train[x].fillna('na', inplace=True)\n",
    "        app_test[x].fillna('na', inplace=True)\n",
    "print('done')"
   ]
  },
  {
   "cell_type": "markdown",
   "metadata": {},
   "source": [
    "# Scaling"
   ]
  },
  {
   "cell_type": "code",
   "execution_count": 3,
   "metadata": {
    "ExecuteTime": {
     "end_time": "2018-06-13T21:10:15.170144Z",
     "start_time": "2018-06-13T21:10:15.148603Z"
    },
    "collapsed": true
   },
   "outputs": [],
   "source": [
    "numerical_features= ['bureau_DAYS_CREDIT_max'\n",
    " ,'bureau_DAYS_CREDIT_min',\n",
    " 'bureau_DAYS_CREDIT_std',\n",
    " 'bureau_DAYS_CREDIT_mean',\n",
    " 'bureau_DAYS_CREDIT_ENDDATE_max',\n",
    " 'bureau_DAYS_CREDIT_ENDDATE_min',\n",
    " 'bureau_DAYS_CREDIT_ENDDATE_std',\n",
    " 'bureau_DAYS_CREDIT_ENDDATE_mean',\n",
    " 'bureau_AMT_CREDIT_SUM_max',\n",
    " 'bureau_AMT_CREDIT_SUM_min',\n",
    " 'bureau_AMT_CREDIT_SUM_std',\n",
    " 'bureau_AMT_CREDIT_SUM_mean',\n",
    " 'bureau_AMT_CREDIT_SUM_LIMIT_max',\n",
    " 'bureau_AMT_CREDIT_SUM_LIMIT_min',\n",
    " 'bureau_AMT_CREDIT_SUM_LIMIT_std',\n",
    " 'bureau_AMT_CREDIT_SUM_LIMIT_mean',\n",
    " 'bureau_DAYS_CREDIT_UPDATE_max',\n",
    " 'bureau_DAYS_CREDIT_UPDATE_min',\n",
    " 'bureau_DAYS_CREDIT_UPDATE_std',\n",
    " 'bureau_DAYS_CREDIT_UPDATE_mean',\n",
    " 'bureau_AMT_ANNUITY_max',\n",
    " 'bureau_AMT_ANNUITY_min',\n",
    " 'bureau_AMT_ANNUITY_std',\n",
    " 'bureau_AMT_ANNUITY_mean',\n",
    " 'bureau_bureau_balance_score_max',\n",
    " 'bureau_bureau_balance_score_min',\n",
    " 'bureau_bureau_balance_score_std',\n",
    " 'bureau_bureau_balance_score_mean',\n",
    " 'bureau_CNT_CREDIT_PROLONG_DAYS_CREDIT_ratio_max',\n",
    " 'bureau_CNT_CREDIT_PROLONG_DAYS_CREDIT_ratio_min',\n",
    " 'bureau_CNT_CREDIT_PROLONG_DAYS_CREDIT_ratio_std',\n",
    " 'bureau_CNT_CREDIT_PROLONG_DAYS_CREDIT_ratio_mean',\n",
    " 'bureau_AMT_CREDIT_SUM_LIMIT_AMT_CREDIT_SUM_ratio_max',\n",
    " 'bureau_AMT_CREDIT_SUM_LIMIT_AMT_CREDIT_SUM_ratio_min',\n",
    " 'bureau_AMT_CREDIT_SUM_LIMIT_AMT_CREDIT_SUM_ratio_std',\n",
    " 'bureau_AMT_CREDIT_SUM_LIMIT_AMT_CREDIT_SUM_ratio_mean',\n",
    " 'bureau_AMT_CREDIT_SUM_DEBT_AMT_CREDIT_SUM_ratio_max',\n",
    " 'bureau_AMT_CREDIT_SUM_DEBT_AMT_CREDIT_SUM_ratio_min',\n",
    " 'bureau_AMT_CREDIT_SUM_DEBT_AMT_CREDIT_SUM_ratio_std',\n",
    " 'bureau_AMT_CREDIT_SUM_DEBT_AMT_CREDIT_SUM_ratio_mean',\n",
    " 'bureau_AMT_CREDIT_SUM_DEBT_AMT_CREDIT_SUM_OVERDUE_ratio_max',\n",
    " 'bureau_AMT_CREDIT_SUM_DEBT_AMT_CREDIT_SUM_OVERDUE_ratio_min',\n",
    " 'bureau_AMT_CREDIT_SUM_DEBT_AMT_CREDIT_SUM_OVERDUE_ratio_std',\n",
    " 'bureau_AMT_CREDIT_SUM_DEBT_AMT_CREDIT_SUM_OVERDUE_ratio_mean',\n",
    " 'bureau_bb_STATUS_count_max',\n",
    " 'bureau_bb_STATUS_count_min',\n",
    " 'bureau_bb_STATUS_count_std',\n",
    " 'bureau_bb_STATUS_count_mean',\n",
    " 'bureau_CREDIT_DAY_OVERDUE_max',\n",
    " 'bureau_CREDIT_DAY_OVERDUE_min',\n",
    " 'bureau_CREDIT_DAY_OVERDUE_std',\n",
    " 'bureau_CREDIT_DAY_OVERDUE_mean',\n",
    " 'bureau_CREDIT_DAY_OVERDUE_positive_count',\n",
    " 'bureau_AMT_CREDIT_MAX_OVERDUE_max',\n",
    " 'bureau_AMT_CREDIT_MAX_OVERDUE_min',\n",
    " 'bureau_AMT_CREDIT_MAX_OVERDUE_std',\n",
    " 'bureau_AMT_CREDIT_MAX_OVERDUE_mean',\n",
    " 'bureau_AMT_CREDIT_MAX_OVERDUE_positive_count',\n",
    " 'bureau_AMT_CREDIT_SUM_OVERDUE_max',\n",
    " 'bureau_AMT_CREDIT_SUM_OVERDUE_min',\n",
    " 'bureau_AMT_CREDIT_SUM_OVERDUE_std',\n",
    " 'bureau_AMT_CREDIT_SUM_OVERDUE_mean',\n",
    " 'bureau_AMT_CREDIT_SUM_OVERDUE_positive_count',\n",
    " 'bureau_CNT_CREDIT_PROLONG_max',\n",
    " 'bureau_CNT_CREDIT_PROLONG_min',\n",
    " 'bureau_CNT_CREDIT_PROLONG_std',\n",
    " 'bureau_CNT_CREDIT_PROLONG_mean',\n",
    " 'bureau_CNT_CREDIT_PROLONG_positive_count',\n",
    " 'bureau_AMT_CREDIT_SUM_DEBT_max',\n",
    " 'bureau_AMT_CREDIT_SUM_DEBT_min',\n",
    " 'bureau_AMT_CREDIT_SUM_DEBT_std',\n",
    " 'bureau_AMT_CREDIT_SUM_DEBT_mean',\n",
    " 'bureau_AMT_CREDIT_SUM_DEBT_positive_count',\n",
    " 'bureau_AMT_CREDIT_SUM_DEBT_negative_count',\n",
    " 'bureau_SK_ID_BUREAU_count'\n",
    "                    ]"
   ]
  },
  {
   "cell_type": "code",
   "execution_count": 4,
   "metadata": {
    "ExecuteTime": {
     "end_time": "2018-06-13T21:10:15.192899Z",
     "start_time": "2018-06-13T21:10:15.171421Z"
    },
    "collapsed": true
   },
   "outputs": [],
   "source": [
    "from sklearn.preprocessing import QuantileTransformer\n",
    "scale = QuantileTransformer()"
   ]
  },
  {
   "cell_type": "code",
   "execution_count": 5,
   "metadata": {
    "ExecuteTime": {
     "end_time": "2018-06-13T21:10:17.061990Z",
     "start_time": "2018-06-13T21:10:15.195032Z"
    },
    "collapsed": true
   },
   "outputs": [],
   "source": [
    "\n",
    "app_train = app_train.replace([np.inf, -np.inf], np.nan)\n",
    "app_test = app_test.replace([np.inf, -np.inf], np.nan)\n",
    "\n",
    "app_train[numerical_features] = \\\n",
    "app_train[numerical_features].fillna(3.4*(10**11))\n",
    "app_test[numerical_features] = \\\n",
    "app_test[numerical_features].fillna(3.4*(10**11))"
   ]
  },
  {
   "cell_type": "code",
   "execution_count": 6,
   "metadata": {
    "ExecuteTime": {
     "end_time": "2018-06-13T21:10:21.042940Z",
     "start_time": "2018-06-13T21:10:17.063366Z"
    },
    "scrolled": true
   },
   "outputs": [
    {
     "name": "stdout",
     "output_type": "stream",
     "text": [
      "bureau_DAYS_CREDIT_max\n",
      "0\n",
      "bureau_DAYS_CREDIT_min\n",
      "0\n",
      "bureau_DAYS_CREDIT_std\n",
      "0\n",
      "bureau_DAYS_CREDIT_mean\n",
      "0\n",
      "bureau_DAYS_CREDIT_ENDDATE_max\n",
      "0\n",
      "bureau_DAYS_CREDIT_ENDDATE_min\n",
      "0\n",
      "bureau_DAYS_CREDIT_ENDDATE_std\n",
      "0\n",
      "bureau_DAYS_CREDIT_ENDDATE_mean\n",
      "0\n",
      "bureau_AMT_CREDIT_SUM_max\n",
      "0\n",
      "bureau_AMT_CREDIT_SUM_min\n",
      "0\n",
      "bureau_AMT_CREDIT_SUM_std\n",
      "0\n",
      "bureau_AMT_CREDIT_SUM_mean\n",
      "0\n",
      "bureau_AMT_CREDIT_SUM_LIMIT_max\n",
      "0\n",
      "bureau_AMT_CREDIT_SUM_LIMIT_min\n",
      "0\n",
      "bureau_AMT_CREDIT_SUM_LIMIT_std\n",
      "0\n",
      "bureau_AMT_CREDIT_SUM_LIMIT_mean\n",
      "0\n",
      "bureau_DAYS_CREDIT_UPDATE_max\n",
      "0\n",
      "bureau_DAYS_CREDIT_UPDATE_min\n",
      "0\n",
      "bureau_DAYS_CREDIT_UPDATE_std\n",
      "0\n",
      "bureau_DAYS_CREDIT_UPDATE_mean\n",
      "0\n",
      "bureau_AMT_ANNUITY_max\n",
      "0\n",
      "bureau_AMT_ANNUITY_min\n",
      "0\n",
      "bureau_AMT_ANNUITY_std\n",
      "0\n",
      "bureau_AMT_ANNUITY_mean\n",
      "0\n",
      "bureau_bureau_balance_score_max\n",
      "0\n",
      "bureau_bureau_balance_score_min\n",
      "0\n",
      "bureau_bureau_balance_score_std\n",
      "0\n",
      "bureau_bureau_balance_score_mean\n",
      "0\n",
      "bureau_CNT_CREDIT_PROLONG_DAYS_CREDIT_ratio_max\n",
      "0\n",
      "bureau_CNT_CREDIT_PROLONG_DAYS_CREDIT_ratio_min\n",
      "0\n",
      "bureau_CNT_CREDIT_PROLONG_DAYS_CREDIT_ratio_std\n",
      "0\n",
      "bureau_CNT_CREDIT_PROLONG_DAYS_CREDIT_ratio_mean\n",
      "0\n",
      "bureau_AMT_CREDIT_SUM_LIMIT_AMT_CREDIT_SUM_ratio_max\n",
      "0\n",
      "bureau_AMT_CREDIT_SUM_LIMIT_AMT_CREDIT_SUM_ratio_min\n",
      "0\n",
      "bureau_AMT_CREDIT_SUM_LIMIT_AMT_CREDIT_SUM_ratio_std\n",
      "0\n",
      "bureau_AMT_CREDIT_SUM_LIMIT_AMT_CREDIT_SUM_ratio_mean\n",
      "0\n",
      "bureau_AMT_CREDIT_SUM_DEBT_AMT_CREDIT_SUM_ratio_max\n",
      "0\n",
      "bureau_AMT_CREDIT_SUM_DEBT_AMT_CREDIT_SUM_ratio_min\n",
      "0\n",
      "bureau_AMT_CREDIT_SUM_DEBT_AMT_CREDIT_SUM_ratio_std\n",
      "0\n",
      "bureau_AMT_CREDIT_SUM_DEBT_AMT_CREDIT_SUM_ratio_mean\n",
      "0\n",
      "bureau_AMT_CREDIT_SUM_DEBT_AMT_CREDIT_SUM_OVERDUE_ratio_max\n",
      "0\n",
      "bureau_AMT_CREDIT_SUM_DEBT_AMT_CREDIT_SUM_OVERDUE_ratio_min\n",
      "0\n",
      "bureau_AMT_CREDIT_SUM_DEBT_AMT_CREDIT_SUM_OVERDUE_ratio_std\n",
      "0\n",
      "bureau_AMT_CREDIT_SUM_DEBT_AMT_CREDIT_SUM_OVERDUE_ratio_mean\n",
      "0\n",
      "bureau_bb_STATUS_count_max\n",
      "0\n",
      "bureau_bb_STATUS_count_min\n",
      "0\n",
      "bureau_bb_STATUS_count_std\n",
      "0\n",
      "bureau_bb_STATUS_count_mean\n",
      "0\n",
      "bureau_CREDIT_DAY_OVERDUE_max\n",
      "0\n",
      "bureau_CREDIT_DAY_OVERDUE_min\n",
      "0\n",
      "bureau_CREDIT_DAY_OVERDUE_std\n",
      "0\n",
      "bureau_CREDIT_DAY_OVERDUE_mean\n",
      "0\n",
      "bureau_CREDIT_DAY_OVERDUE_positive_count\n",
      "0\n",
      "bureau_AMT_CREDIT_MAX_OVERDUE_max\n",
      "0\n",
      "bureau_AMT_CREDIT_MAX_OVERDUE_min\n",
      "0\n",
      "bureau_AMT_CREDIT_MAX_OVERDUE_std\n",
      "0\n",
      "bureau_AMT_CREDIT_MAX_OVERDUE_mean\n",
      "0\n",
      "bureau_AMT_CREDIT_MAX_OVERDUE_positive_count\n",
      "0\n",
      "bureau_AMT_CREDIT_SUM_OVERDUE_max\n",
      "0\n",
      "bureau_AMT_CREDIT_SUM_OVERDUE_min\n",
      "0\n",
      "bureau_AMT_CREDIT_SUM_OVERDUE_std\n",
      "0\n",
      "bureau_AMT_CREDIT_SUM_OVERDUE_mean\n",
      "0\n",
      "bureau_AMT_CREDIT_SUM_OVERDUE_positive_count\n",
      "0\n",
      "bureau_CNT_CREDIT_PROLONG_max\n",
      "0\n",
      "bureau_CNT_CREDIT_PROLONG_min\n",
      "0\n",
      "bureau_CNT_CREDIT_PROLONG_std\n",
      "0\n",
      "bureau_CNT_CREDIT_PROLONG_mean\n",
      "0\n",
      "bureau_CNT_CREDIT_PROLONG_positive_count\n",
      "0\n",
      "bureau_AMT_CREDIT_SUM_DEBT_max\n",
      "0\n",
      "bureau_AMT_CREDIT_SUM_DEBT_min\n",
      "0\n",
      "bureau_AMT_CREDIT_SUM_DEBT_std\n",
      "0\n",
      "bureau_AMT_CREDIT_SUM_DEBT_mean\n",
      "0\n",
      "bureau_AMT_CREDIT_SUM_DEBT_positive_count\n",
      "0\n",
      "bureau_AMT_CREDIT_SUM_DEBT_negative_count\n",
      "0\n",
      "bureau_SK_ID_BUREAU_count\n",
      "0\n"
     ]
    }
   ],
   "source": [
    "for col in numerical_features:\n",
    "    print(col)\n",
    "    print(app_train[col].isnull().sum())\n",
    "    app_train[col] = scale.fit_transform(app_train[col].values.reshape(-1,1)).ravel()\n",
    "    app_test[col] = scale.fit_transform(app_test[col].values.reshape(-1,1)).ravel()"
   ]
  },
  {
   "cell_type": "code",
   "execution_count": 7,
   "metadata": {
    "ExecuteTime": {
     "end_time": "2018-06-13T21:10:21.049001Z",
     "start_time": "2018-06-13T21:10:21.044570Z"
    }
   },
   "outputs": [
    {
     "name": "stdout",
     "output_type": "stream",
     "text": [
      "9.9999999778e-08\n"
     ]
    }
   ],
   "source": [
    "print(app_train[col].min())"
   ]
  },
  {
   "cell_type": "code",
   "execution_count": null,
   "metadata": {
    "ExecuteTime": {
     "start_time": "2018-06-13T21:10:11.364Z"
    },
    "collapsed": true
   },
   "outputs": [],
   "source": [
    "from sklearn.model_selection import train_test_split \n",
    "import lightgbm as lgb\n",
    "\n",
    "\n",
    "app_test['is_test'] = 1 \n",
    "app_test['is_train'] = 0\n",
    "app_train['is_test'] = 0\n",
    "app_train['is_train'] = 1\n",
    "\n",
    "# target variable\n",
    "Y = app_train['TARGET']\n",
    "train_X = app_train.drop(['TARGET'], axis = 1)\n",
    "\n",
    "# test ID\n",
    "test_id = app_test['SK_ID_CURR']\n",
    "test_X = app_test\n",
    "\n",
    "# merge train and test datasets for preprocessing\n",
    "data = pd.concat([train_X, test_X], axis=0)\n",
    "\n",
    "#### prepare final Train X and Test X dataframes \n",
    "ignore_features = ['SK_ID_CURR', 'is_train', 'is_test','ORGANIZATION_TYPE']\n",
    "relevant_features = [col for col in data.columns if col not in ignore_features]\n",
    "trainX = data[data['is_train'] == 1][relevant_features]\n",
    "testX = data[data['is_test'] == 1][relevant_features]"
   ]
  },
  {
   "cell_type": "code",
   "execution_count": null,
   "metadata": {
    "ExecuteTime": {
     "start_time": "2018-06-13T21:10:11.366Z"
    }
   },
   "outputs": [
    {
     "name": "stderr",
     "output_type": "stream",
     "text": [
      "/home/kai/anaconda3/lib/python3.6/site-packages/lightgbm/engine.py:99: UserWarning: Found `num_iteration` in params. Will use it instead of argument\n",
      "  warnings.warn(\"Found `{}` in params. Will use it instead of argument\".format(alias))\n"
     ]
    },
    {
     "name": "stdout",
     "output_type": "stream",
     "text": [
      "Training until validation scores don't improve for 150 rounds.\n"
     ]
    }
   ],
   "source": [
    "x_train, x_val, y_train, y_val = train_test_split(trainX, Y, test_size=0.2, random_state=18)\n",
    "lgb_train = lgb.Dataset(data=x_train, label=y_train)\n",
    "lgb_eval = lgb.Dataset(data=x_val, label=y_val)\n",
    "\n",
    "params = {'task': 'train', 'boosting_type': 'gbdt', 'objective': 'binary', 'metric': 'auc', \n",
    "          'learning_rate': 0.01, 'num_leaves': 48, 'num_iteration': 5000, 'verbose': 0 ,\n",
    "          'colsample_bytree':.8, 'subsample':.9, 'max_depth':7, 'reg_alpha':.1, 'reg_lambda':.1, \n",
    "          'min_split_gain':.01, 'min_child_weight':1}\n",
    "# params = {'task': 'train', 'boosting_type': 'gbdt', 'objective': 'binary', 'metric': 'auc', \n",
    "#           'learning_rate': 0.01, 'num_leaves': 48, 'num_iteration': 5000, 'verbose': 0 ,\n",
    "#           'colsample_bytree':.8, 'subsample':.9, 'max_depth':7, 'reg_alpha':.1, 'reg_lambda':.1, \n",
    "#           'min_split_gain':.01, 'min_child_weight':1}\n",
    "\n",
    "model = lgb.train(params, lgb_train, valid_sets=lgb_eval, early_stopping_rounds=150, verbose_eval=200)\n",
    "\n",
    "import matplotlib.pyplot as plt\n",
    "\n",
    "lgb.plot_importance(model, figsize=(12, 25), max_num_features=100);"
   ]
  },
  {
   "cell_type": "code",
   "execution_count": null,
   "metadata": {
    "ExecuteTime": {
     "start_time": "2018-06-13T21:10:11.367Z"
    },
    "collapsed": true
   },
   "outputs": [],
   "source": [
    "# y_pred = clf.predict(app_test)\n",
    "# out_df = pd.DataFrame({'SK_ID_CURR': app_test['SK_ID_CURR'], 'TARGET': y_pred})\n",
    "# out_df.to_csv(PATH + 'submission_singlelgm.csv', index=False)\n",
    "\n",
    "# For original kaggle: 0.769\n",
    "# For katabat: \n",
    "preds = model.predict(testX)\n",
    "sub_lgb = pd.DataFrame()\n",
    "sub_lgb['SK_ID_CURR'] = test_id\n",
    "sub_lgb['TARGET'] = preds\n",
    "sub_lgb.to_csv(PATH + \"scaled_rough.csv\", index=False)"
   ]
  },
  {
   "cell_type": "code",
   "execution_count": null,
   "metadata": {
    "ExecuteTime": {
     "start_time": "2018-06-13T21:10:11.369Z"
    },
    "collapsed": true,
    "scrolled": true
   },
   "outputs": [],
   "source": [
    "len(sub_lgb[sub_lgb['TARGET']>0.5])"
   ]
  },
  {
   "cell_type": "code",
   "execution_count": null,
   "metadata": {
    "collapsed": true
   },
   "outputs": [],
   "source": []
  }
 ],
 "metadata": {
  "kernelspec": {
   "display_name": "Python 3",
   "language": "python",
   "name": "python3"
  },
  "language_info": {
   "codemirror_mode": {
    "name": "ipython",
    "version": 3
   },
   "file_extension": ".py",
   "mimetype": "text/x-python",
   "name": "python",
   "nbconvert_exporter": "python",
   "pygments_lexer": "ipython3",
   "version": "3.6.3"
  },
  "varInspector": {
   "cols": {
    "lenName": 16,
    "lenType": 16,
    "lenVar": 40
   },
   "kernels_config": {
    "python": {
     "delete_cmd_postfix": "",
     "delete_cmd_prefix": "del ",
     "library": "var_list.py",
     "varRefreshCmd": "print(var_dic_list())"
    },
    "r": {
     "delete_cmd_postfix": ") ",
     "delete_cmd_prefix": "rm(",
     "library": "var_list.r",
     "varRefreshCmd": "cat(var_dic_list()) "
    }
   },
   "types_to_exclude": [
    "module",
    "function",
    "builtin_function_or_method",
    "instance",
    "_Feature"
   ],
   "window_display": false
  }
 },
 "nbformat": 4,
 "nbformat_minor": 2
}
