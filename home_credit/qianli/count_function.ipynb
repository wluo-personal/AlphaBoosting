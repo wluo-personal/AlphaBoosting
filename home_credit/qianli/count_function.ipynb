{
 "cells": [
  {
   "cell_type": "code",
   "execution_count": 1,
   "metadata": {
    "ExecuteTime": {
     "end_time": "2018-06-11T20:14:43.046342Z",
     "start_time": "2018-06-11T20:14:42.833426Z"
    },
    "collapsed": true
   },
   "outputs": [],
   "source": [
    "import pandas as pd\n",
    "import numpy as np"
   ]
  },
  {
   "cell_type": "code",
   "execution_count": 2,
   "metadata": {
    "ExecuteTime": {
     "end_time": "2018-06-11T20:15:28.177384Z",
     "start_time": "2018-06-11T20:14:43.057394Z"
    }
   },
   "outputs": [
    {
     "name": "stdout",
     "output_type": "stream",
     "text": [
      "train\n",
      "test\n",
      "bureau\n",
      "previous\n",
      "bureau_balance\n",
      "installments_payments done\n",
      "POS_CASH_balance\n",
      "credit_card_balance\n",
      "previous_application\n"
     ]
    }
   ],
   "source": [
    "PATH = '/home/kai/data/kaggle/homecredit/'\n",
    "train = pd.read_csv(PATH + 'application_train.csv')\n",
    "print('train')\n",
    "test = pd.read_csv(PATH + 'application_test.csv')\n",
    "print('test')\n",
    "bureau = pd.read_csv(PATH + 'bureau.csv')\n",
    "print('bureau')\n",
    "prev = pd.read_csv(PATH + 'previous_application.csv')\n",
    "print('previous')\n",
    "bb = pd.read_csv(PATH + 'bureau_balance.csv')\n",
    "print('bureau_balance')\n",
    "installments_payments = pd.read_csv(PATH + 'installments_payments.csv')\n",
    "print('installments_payments done')\n",
    "credit_card_balance = pd.read_csv(PATH + 'credit_card_balance.csv')\n",
    "print('credit_card_balance')\n",
    "POS_CASH_balance = pd.read_csv(PATH + 'POS_CASH_balance.csv')\n",
    "print('POS_CASH_balance')\n",
    "credit_card_balance = pd.read_csv(PATH + 'credit_card_balance.csv')\n",
    "print('credit_card_balance')\n",
    "previous_application = pd.read_csv(PATH + 'previous_application.csv')\n",
    "print('previous_application')"
   ]
  },
  {
   "cell_type": "code",
   "execution_count": 3,
   "metadata": {
    "ExecuteTime": {
     "end_time": "2018-06-11T20:15:30.544541Z",
     "start_time": "2018-06-11T20:15:30.437436Z"
    }
   },
   "outputs": [
    {
     "data": {
      "text/plain": [
       "178.0"
      ]
     },
     "execution_count": 3,
     "metadata": {},
     "output_type": "execute_result"
    }
   ],
   "source": [
    "# set(installments_payments.index.values)\n",
    "installments_payments['NUM_INSTALMENT_VERSION'].max()"
   ]
  },
  {
   "cell_type": "code",
   "execution_count": 4,
   "metadata": {
    "ExecuteTime": {
     "end_time": "2018-06-11T20:16:33.264201Z",
     "start_time": "2018-06-11T20:16:25.937279Z"
    },
    "collapsed": true
   },
   "outputs": [],
   "source": [
    "_df = installments_payments.sort_values(by = ['SK_ID_CURR', 'DAYS_INSTALMENT'], ascending = [True, False])"
   ]
  },
  {
   "cell_type": "code",
   "execution_count": 13,
   "metadata": {
    "ExecuteTime": {
     "end_time": "2018-06-11T20:51:50.866929Z",
     "start_time": "2018-06-11T20:51:50.848011Z"
    }
   },
   "outputs": [
    {
     "data": {
      "text/html": [
       "<div>\n",
       "<style>\n",
       "    .dataframe thead tr:only-child th {\n",
       "        text-align: right;\n",
       "    }\n",
       "\n",
       "    .dataframe thead th {\n",
       "        text-align: left;\n",
       "    }\n",
       "\n",
       "    .dataframe tbody tr th {\n",
       "        vertical-align: top;\n",
       "    }\n",
       "</style>\n",
       "<table border=\"1\" class=\"dataframe\">\n",
       "  <thead>\n",
       "    <tr style=\"text-align: right;\">\n",
       "      <th></th>\n",
       "      <th>SK_ID_PREV</th>\n",
       "      <th>SK_ID_CURR</th>\n",
       "      <th>NUM_INSTALMENT_VERSION</th>\n",
       "      <th>NUM_INSTALMENT_NUMBER</th>\n",
       "      <th>DAYS_INSTALMENT</th>\n",
       "      <th>DAYS_ENTRY_PAYMENT</th>\n",
       "      <th>AMT_INSTALMENT</th>\n",
       "      <th>AMT_PAYMENT</th>\n",
       "    </tr>\n",
       "  </thead>\n",
       "  <tbody>\n",
       "    <tr>\n",
       "      <th>2624024</th>\n",
       "      <td>1369693</td>\n",
       "      <td>100001</td>\n",
       "      <td>2.0</td>\n",
       "      <td>4</td>\n",
       "      <td>-1619.0</td>\n",
       "      <td>-1628.0</td>\n",
       "      <td>17397.900</td>\n",
       "      <td>17397.900</td>\n",
       "    </tr>\n",
       "    <tr>\n",
       "      <th>3458712</th>\n",
       "      <td>1369693</td>\n",
       "      <td>100001</td>\n",
       "      <td>1.0</td>\n",
       "      <td>3</td>\n",
       "      <td>-1649.0</td>\n",
       "      <td>-1660.0</td>\n",
       "      <td>3951.000</td>\n",
       "      <td>3951.000</td>\n",
       "    </tr>\n",
       "    <tr>\n",
       "      <th>2568722</th>\n",
       "      <td>1369693</td>\n",
       "      <td>100001</td>\n",
       "      <td>1.0</td>\n",
       "      <td>2</td>\n",
       "      <td>-1679.0</td>\n",
       "      <td>-1715.0</td>\n",
       "      <td>3951.000</td>\n",
       "      <td>3951.000</td>\n",
       "    </tr>\n",
       "    <tr>\n",
       "      <th>1478621</th>\n",
       "      <td>1369693</td>\n",
       "      <td>100001</td>\n",
       "      <td>1.0</td>\n",
       "      <td>1</td>\n",
       "      <td>-1709.0</td>\n",
       "      <td>-1715.0</td>\n",
       "      <td>3951.000</td>\n",
       "      <td>3951.000</td>\n",
       "    </tr>\n",
       "    <tr>\n",
       "      <th>3435373</th>\n",
       "      <td>1851984</td>\n",
       "      <td>100001</td>\n",
       "      <td>1.0</td>\n",
       "      <td>4</td>\n",
       "      <td>-2856.0</td>\n",
       "      <td>-2856.0</td>\n",
       "      <td>3980.925</td>\n",
       "      <td>3980.925</td>\n",
       "    </tr>\n",
       "  </tbody>\n",
       "</table>\n",
       "</div>"
      ],
      "text/plain": [
       "         SK_ID_PREV  SK_ID_CURR  NUM_INSTALMENT_VERSION  \\\n",
       "2624024     1369693      100001                     2.0   \n",
       "3458712     1369693      100001                     1.0   \n",
       "2568722     1369693      100001                     1.0   \n",
       "1478621     1369693      100001                     1.0   \n",
       "3435373     1851984      100001                     1.0   \n",
       "\n",
       "         NUM_INSTALMENT_NUMBER  DAYS_INSTALMENT  DAYS_ENTRY_PAYMENT  \\\n",
       "2624024                      4          -1619.0             -1628.0   \n",
       "3458712                      3          -1649.0             -1660.0   \n",
       "2568722                      2          -1679.0             -1715.0   \n",
       "1478621                      1          -1709.0             -1715.0   \n",
       "3435373                      4          -2856.0             -2856.0   \n",
       "\n",
       "         AMT_INSTALMENT  AMT_PAYMENT  \n",
       "2624024       17397.900    17397.900  \n",
       "3458712        3951.000     3951.000  \n",
       "2568722        3951.000     3951.000  \n",
       "1478621        3951.000     3951.000  \n",
       "3435373        3980.925     3980.925  "
      ]
     },
     "execution_count": 13,
     "metadata": {},
     "output_type": "execute_result"
    }
   ],
   "source": [
    "_df.head(5)"
   ]
  },
  {
   "cell_type": "code",
   "execution_count": 6,
   "metadata": {
    "ExecuteTime": {
     "end_time": "2018-06-11T20:23:33.774593Z",
     "start_time": "2018-06-11T20:23:33.577651Z"
    },
    "collapsed": true
   },
   "outputs": [],
   "source": [
    "x = _df[_df['DAYS_INSTALMENT'] > -365]\n"
   ]
  },
  {
   "cell_type": "code",
   "execution_count": 7,
   "metadata": {
    "ExecuteTime": {
     "end_time": "2018-06-11T20:23:35.970091Z",
     "start_time": "2018-06-11T20:23:35.966105Z"
    }
   },
   "outputs": [
    {
     "name": "stdout",
     "output_type": "stream",
     "text": [
      "(3436942, 8) (13605401, 8)\n",
      "0.25261600154232866\n"
     ]
    }
   ],
   "source": [
    "print(x.shape,_df.shape)\n",
    "print(x.shape[0]/_df.shape[0])"
   ]
  },
  {
   "cell_type": "code",
   "execution_count": 8,
   "metadata": {
    "ExecuteTime": {
     "end_time": "2018-06-11T20:23:46.724332Z",
     "start_time": "2018-06-11T20:23:45.381779Z"
    },
    "collapsed": true
   },
   "outputs": [],
   "source": [
    "set_train = set(train['SK_ID_CURR'])\n",
    "set_install = set(installments_payments['SK_ID_CURR'])"
   ]
  },
  {
   "cell_type": "code",
   "execution_count": 9,
   "metadata": {
    "ExecuteTime": {
     "end_time": "2018-06-11T20:23:50.614792Z",
     "start_time": "2018-06-11T20:23:50.590068Z"
    }
   },
   "outputs": [
    {
     "name": "stdout",
     "output_type": "stream",
     "text": [
      "15868\n"
     ]
    }
   ],
   "source": [
    "print(len(set_train-set_install))"
   ]
  },
  {
   "cell_type": "code",
   "execution_count": 10,
   "metadata": {
    "ExecuteTime": {
     "end_time": "2018-06-11T20:23:54.410557Z",
     "start_time": "2018-06-11T20:23:54.407294Z"
    }
   },
   "outputs": [
    {
     "data": {
      "text/plain": [
       "339587"
      ]
     },
     "execution_count": 10,
     "metadata": {},
     "output_type": "execute_result"
    }
   ],
   "source": [
    "len(set_install)"
   ]
  },
  {
   "cell_type": "code",
   "execution_count": 46,
   "metadata": {
    "ExecuteTime": {
     "end_time": "2018-06-11T19:36:17.285254Z",
     "start_time": "2018-06-11T19:36:17.281957Z"
    }
   },
   "outputs": [
    {
     "data": {
      "text/plain": [
       "307511"
      ]
     },
     "execution_count": 46,
     "metadata": {},
     "output_type": "execute_result"
    }
   ],
   "source": [
    "len(set_train)"
   ]
  },
  {
   "cell_type": "code",
   "execution_count": 47,
   "metadata": {
    "ExecuteTime": {
     "end_time": "2018-06-11T19:36:43.691579Z",
     "start_time": "2018-06-11T19:36:43.643670Z"
    }
   },
   "outputs": [
    {
     "data": {
      "text/plain": [
       "47944"
      ]
     },
     "execution_count": 47,
     "metadata": {},
     "output_type": "execute_result"
    }
   ],
   "source": [
    "len(set_install - set_train)"
   ]
  },
  {
   "cell_type": "code",
   "execution_count": 48,
   "metadata": {
    "ExecuteTime": {
     "end_time": "2018-06-11T19:36:54.937429Z",
     "start_time": "2018-06-11T19:36:54.931888Z"
    }
   },
   "outputs": [
    {
     "data": {
      "text/plain": [
       "32076"
      ]
     },
     "execution_count": 48,
     "metadata": {},
     "output_type": "execute_result"
    }
   ],
   "source": [
    "339587 - 307511"
   ]
  },
  {
   "cell_type": "code",
   "execution_count": 50,
   "metadata": {
    "ExecuteTime": {
     "end_time": "2018-06-11T19:37:09.906853Z",
     "start_time": "2018-06-11T19:37:09.874772Z"
    }
   },
   "outputs": [
    {
     "data": {
      "text/plain": [
       "15868"
      ]
     },
     "execution_count": 50,
     "metadata": {},
     "output_type": "execute_result"
    }
   ],
   "source": [
    "len(set_train - set_install)"
   ]
  },
  {
   "cell_type": "code",
   "execution_count": 52,
   "metadata": {
    "ExecuteTime": {
     "end_time": "2018-06-11T19:38:06.272409Z",
     "start_time": "2018-06-11T19:38:06.266881Z"
    },
    "collapsed": true
   },
   "outputs": [],
   "source": [
    "set_test = set(test['SK_ID_CURR'])"
   ]
  },
  {
   "cell_type": "code",
   "execution_count": 53,
   "metadata": {
    "ExecuteTime": {
     "end_time": "2018-06-11T19:38:47.320345Z",
     "start_time": "2018-06-11T19:38:47.309841Z"
    },
    "collapsed": true
   },
   "outputs": [],
   "source": [
    "set_union = set_train.union(set_test)"
   ]
  },
  {
   "cell_type": "code",
   "execution_count": 54,
   "metadata": {
    "ExecuteTime": {
     "end_time": "2018-06-11T19:39:03.686838Z",
     "start_time": "2018-06-11T19:39:03.655534Z"
    }
   },
   "outputs": [
    {
     "name": "stdout",
     "output_type": "stream",
     "text": [
      "set()\n"
     ]
    }
   ],
   "source": [
    "print(set_install - set_union)"
   ]
  },
  {
   "cell_type": "markdown",
   "metadata": {},
   "source": [
    "# Credit_card"
   ]
  },
  {
   "cell_type": "code",
   "execution_count": 55,
   "metadata": {
    "ExecuteTime": {
     "end_time": "2018-06-11T19:41:16.996670Z",
     "start_time": "2018-06-11T19:41:16.964720Z"
    }
   },
   "outputs": [
    {
     "data": {
      "text/html": [
       "<div>\n",
       "<style>\n",
       "    .dataframe thead tr:only-child th {\n",
       "        text-align: right;\n",
       "    }\n",
       "\n",
       "    .dataframe thead th {\n",
       "        text-align: left;\n",
       "    }\n",
       "\n",
       "    .dataframe tbody tr th {\n",
       "        vertical-align: top;\n",
       "    }\n",
       "</style>\n",
       "<table border=\"1\" class=\"dataframe\">\n",
       "  <thead>\n",
       "    <tr style=\"text-align: right;\">\n",
       "      <th></th>\n",
       "      <th>SK_ID_PREV</th>\n",
       "      <th>SK_ID_CURR</th>\n",
       "      <th>MONTHS_BALANCE</th>\n",
       "      <th>AMT_BALANCE</th>\n",
       "      <th>AMT_CREDIT_LIMIT_ACTUAL</th>\n",
       "      <th>AMT_DRAWINGS_ATM_CURRENT</th>\n",
       "      <th>AMT_DRAWINGS_CURRENT</th>\n",
       "      <th>AMT_DRAWINGS_OTHER_CURRENT</th>\n",
       "      <th>AMT_DRAWINGS_POS_CURRENT</th>\n",
       "      <th>AMT_INST_MIN_REGULARITY</th>\n",
       "      <th>...</th>\n",
       "      <th>AMT_RECIVABLE</th>\n",
       "      <th>AMT_TOTAL_RECEIVABLE</th>\n",
       "      <th>CNT_DRAWINGS_ATM_CURRENT</th>\n",
       "      <th>CNT_DRAWINGS_CURRENT</th>\n",
       "      <th>CNT_DRAWINGS_OTHER_CURRENT</th>\n",
       "      <th>CNT_DRAWINGS_POS_CURRENT</th>\n",
       "      <th>CNT_INSTALMENT_MATURE_CUM</th>\n",
       "      <th>NAME_CONTRACT_STATUS</th>\n",
       "      <th>SK_DPD</th>\n",
       "      <th>SK_DPD_DEF</th>\n",
       "    </tr>\n",
       "  </thead>\n",
       "  <tbody>\n",
       "    <tr>\n",
       "      <th>0</th>\n",
       "      <td>2562384</td>\n",
       "      <td>378907</td>\n",
       "      <td>-6</td>\n",
       "      <td>56.970</td>\n",
       "      <td>135000</td>\n",
       "      <td>0.0</td>\n",
       "      <td>877.5</td>\n",
       "      <td>0.0</td>\n",
       "      <td>877.5</td>\n",
       "      <td>1700.325</td>\n",
       "      <td>...</td>\n",
       "      <td>0.000</td>\n",
       "      <td>0.000</td>\n",
       "      <td>0.0</td>\n",
       "      <td>1</td>\n",
       "      <td>0.0</td>\n",
       "      <td>1.0</td>\n",
       "      <td>35.0</td>\n",
       "      <td>Active</td>\n",
       "      <td>0</td>\n",
       "      <td>0</td>\n",
       "    </tr>\n",
       "    <tr>\n",
       "      <th>1</th>\n",
       "      <td>2582071</td>\n",
       "      <td>363914</td>\n",
       "      <td>-1</td>\n",
       "      <td>63975.555</td>\n",
       "      <td>45000</td>\n",
       "      <td>2250.0</td>\n",
       "      <td>2250.0</td>\n",
       "      <td>0.0</td>\n",
       "      <td>0.0</td>\n",
       "      <td>2250.000</td>\n",
       "      <td>...</td>\n",
       "      <td>64875.555</td>\n",
       "      <td>64875.555</td>\n",
       "      <td>1.0</td>\n",
       "      <td>1</td>\n",
       "      <td>0.0</td>\n",
       "      <td>0.0</td>\n",
       "      <td>69.0</td>\n",
       "      <td>Active</td>\n",
       "      <td>0</td>\n",
       "      <td>0</td>\n",
       "    </tr>\n",
       "    <tr>\n",
       "      <th>2</th>\n",
       "      <td>1740877</td>\n",
       "      <td>371185</td>\n",
       "      <td>-7</td>\n",
       "      <td>31815.225</td>\n",
       "      <td>450000</td>\n",
       "      <td>0.0</td>\n",
       "      <td>0.0</td>\n",
       "      <td>0.0</td>\n",
       "      <td>0.0</td>\n",
       "      <td>2250.000</td>\n",
       "      <td>...</td>\n",
       "      <td>31460.085</td>\n",
       "      <td>31460.085</td>\n",
       "      <td>0.0</td>\n",
       "      <td>0</td>\n",
       "      <td>0.0</td>\n",
       "      <td>0.0</td>\n",
       "      <td>30.0</td>\n",
       "      <td>Active</td>\n",
       "      <td>0</td>\n",
       "      <td>0</td>\n",
       "    </tr>\n",
       "    <tr>\n",
       "      <th>3</th>\n",
       "      <td>1389973</td>\n",
       "      <td>337855</td>\n",
       "      <td>-4</td>\n",
       "      <td>236572.110</td>\n",
       "      <td>225000</td>\n",
       "      <td>2250.0</td>\n",
       "      <td>2250.0</td>\n",
       "      <td>0.0</td>\n",
       "      <td>0.0</td>\n",
       "      <td>11795.760</td>\n",
       "      <td>...</td>\n",
       "      <td>233048.970</td>\n",
       "      <td>233048.970</td>\n",
       "      <td>1.0</td>\n",
       "      <td>1</td>\n",
       "      <td>0.0</td>\n",
       "      <td>0.0</td>\n",
       "      <td>10.0</td>\n",
       "      <td>Active</td>\n",
       "      <td>0</td>\n",
       "      <td>0</td>\n",
       "    </tr>\n",
       "    <tr>\n",
       "      <th>4</th>\n",
       "      <td>1891521</td>\n",
       "      <td>126868</td>\n",
       "      <td>-1</td>\n",
       "      <td>453919.455</td>\n",
       "      <td>450000</td>\n",
       "      <td>0.0</td>\n",
       "      <td>11547.0</td>\n",
       "      <td>0.0</td>\n",
       "      <td>11547.0</td>\n",
       "      <td>22924.890</td>\n",
       "      <td>...</td>\n",
       "      <td>453919.455</td>\n",
       "      <td>453919.455</td>\n",
       "      <td>0.0</td>\n",
       "      <td>1</td>\n",
       "      <td>0.0</td>\n",
       "      <td>1.0</td>\n",
       "      <td>101.0</td>\n",
       "      <td>Active</td>\n",
       "      <td>0</td>\n",
       "      <td>0</td>\n",
       "    </tr>\n",
       "  </tbody>\n",
       "</table>\n",
       "<p>5 rows × 23 columns</p>\n",
       "</div>"
      ],
      "text/plain": [
       "   SK_ID_PREV  SK_ID_CURR  MONTHS_BALANCE  AMT_BALANCE  \\\n",
       "0     2562384      378907              -6       56.970   \n",
       "1     2582071      363914              -1    63975.555   \n",
       "2     1740877      371185              -7    31815.225   \n",
       "3     1389973      337855              -4   236572.110   \n",
       "4     1891521      126868              -1   453919.455   \n",
       "\n",
       "   AMT_CREDIT_LIMIT_ACTUAL  AMT_DRAWINGS_ATM_CURRENT  AMT_DRAWINGS_CURRENT  \\\n",
       "0                   135000                       0.0                 877.5   \n",
       "1                    45000                    2250.0                2250.0   \n",
       "2                   450000                       0.0                   0.0   \n",
       "3                   225000                    2250.0                2250.0   \n",
       "4                   450000                       0.0               11547.0   \n",
       "\n",
       "   AMT_DRAWINGS_OTHER_CURRENT  AMT_DRAWINGS_POS_CURRENT  \\\n",
       "0                         0.0                     877.5   \n",
       "1                         0.0                       0.0   \n",
       "2                         0.0                       0.0   \n",
       "3                         0.0                       0.0   \n",
       "4                         0.0                   11547.0   \n",
       "\n",
       "   AMT_INST_MIN_REGULARITY     ...      AMT_RECIVABLE  AMT_TOTAL_RECEIVABLE  \\\n",
       "0                 1700.325     ...              0.000                 0.000   \n",
       "1                 2250.000     ...          64875.555             64875.555   \n",
       "2                 2250.000     ...          31460.085             31460.085   \n",
       "3                11795.760     ...         233048.970            233048.970   \n",
       "4                22924.890     ...         453919.455            453919.455   \n",
       "\n",
       "   CNT_DRAWINGS_ATM_CURRENT  CNT_DRAWINGS_CURRENT  CNT_DRAWINGS_OTHER_CURRENT  \\\n",
       "0                       0.0                     1                         0.0   \n",
       "1                       1.0                     1                         0.0   \n",
       "2                       0.0                     0                         0.0   \n",
       "3                       1.0                     1                         0.0   \n",
       "4                       0.0                     1                         0.0   \n",
       "\n",
       "   CNT_DRAWINGS_POS_CURRENT  CNT_INSTALMENT_MATURE_CUM  NAME_CONTRACT_STATUS  \\\n",
       "0                       1.0                       35.0                Active   \n",
       "1                       0.0                       69.0                Active   \n",
       "2                       0.0                       30.0                Active   \n",
       "3                       0.0                       10.0                Active   \n",
       "4                       1.0                      101.0                Active   \n",
       "\n",
       "   SK_DPD  SK_DPD_DEF  \n",
       "0       0           0  \n",
       "1       0           0  \n",
       "2       0           0  \n",
       "3       0           0  \n",
       "4       0           0  \n",
       "\n",
       "[5 rows x 23 columns]"
      ]
     },
     "execution_count": 55,
     "metadata": {},
     "output_type": "execute_result"
    }
   ],
   "source": [
    "credit_card_balance.head()"
   ]
  },
  {
   "cell_type": "code",
   "execution_count": 93,
   "metadata": {
    "ExecuteTime": {
     "end_time": "2018-06-11T20:08:04.697671Z",
     "start_time": "2018-06-11T20:08:02.232032Z"
    },
    "collapsed": true
   },
   "outputs": [],
   "source": [
    "_credit = credit_card_balance.sort_values(by = ['SK_ID_CURR', 'MONTHS_BALANCE'], ascending = [True, False])"
   ]
  },
  {
   "cell_type": "code",
   "execution_count": 94,
   "metadata": {
    "ExecuteTime": {
     "end_time": "2018-06-11T20:08:47.252240Z",
     "start_time": "2018-06-11T20:08:47.160066Z"
    }
   },
   "outputs": [
    {
     "data": {
      "text/plain": [
       "{'Active',\n",
       " 'Approved',\n",
       " 'Completed',\n",
       " 'Demand',\n",
       " 'Refused',\n",
       " 'Sent proposal',\n",
       " 'Signed'}"
      ]
     },
     "execution_count": 94,
     "metadata": {},
     "output_type": "execute_result"
    }
   ],
   "source": [
    "set(_credit['NAME_CONTRACT_STATUS'])"
   ]
  },
  {
   "cell_type": "code",
   "execution_count": 96,
   "metadata": {
    "ExecuteTime": {
     "end_time": "2018-06-11T20:08:57.407521Z",
     "start_time": "2018-06-11T20:08:57.225353Z"
    },
    "collapsed": true
   },
   "outputs": [],
   "source": [
    "x = _credit[_credit['NAME_CONTRACT_STATUS'] == 'Approved']\n",
    "x[x['AMT_BALANCE'] > 0]"
   ]
  },
  {
   "cell_type": "code",
   "execution_count": 12,
   "metadata": {
    "ExecuteTime": {
     "end_time": "2018-06-11T20:51:37.125332Z",
     "start_time": "2018-06-11T20:51:37.041915Z"
    }
   },
   "outputs": [
    {
     "ename": "NameError",
     "evalue": "name '_credit' is not defined",
     "output_type": "error",
     "traceback": [
      "\u001b[0;31m---------------------------------------------------------------------------\u001b[0m",
      "\u001b[0;31mNameError\u001b[0m                                 Traceback (most recent call last)",
      "\u001b[0;32m<ipython-input-12-2bb569943c34>\u001b[0m in \u001b[0;36m<module>\u001b[0;34m()\u001b[0m\n\u001b[0;32m----> 1\u001b[0;31m \u001b[0m_credit\u001b[0m\u001b[0;34m.\u001b[0m\u001b[0mhead\u001b[0m\u001b[0;34m(\u001b[0m\u001b[0;36m5\u001b[0m\u001b[0;34m)\u001b[0m\u001b[0;34m\u001b[0m\u001b[0m\n\u001b[0m",
      "\u001b[0;31mNameError\u001b[0m: name '_credit' is not defined"
     ]
    }
   ],
   "source": [
    "_credit.head(5)"
   ]
  },
  {
   "cell_type": "markdown",
   "metadata": {
    "collapsed": true
   },
   "source": [
    "# pos cash balance"
   ]
  },
  {
   "cell_type": "code",
   "execution_count": 11,
   "metadata": {
    "ExecuteTime": {
     "end_time": "2018-06-11T20:51:25.183554Z",
     "start_time": "2018-06-11T20:51:25.161324Z"
    }
   },
   "outputs": [
    {
     "data": {
      "text/html": [
       "<div>\n",
       "<style>\n",
       "    .dataframe thead tr:only-child th {\n",
       "        text-align: right;\n",
       "    }\n",
       "\n",
       "    .dataframe thead th {\n",
       "        text-align: left;\n",
       "    }\n",
       "\n",
       "    .dataframe tbody tr th {\n",
       "        vertical-align: top;\n",
       "    }\n",
       "</style>\n",
       "<table border=\"1\" class=\"dataframe\">\n",
       "  <thead>\n",
       "    <tr style=\"text-align: right;\">\n",
       "      <th></th>\n",
       "      <th>SK_ID_PREV</th>\n",
       "      <th>SK_ID_CURR</th>\n",
       "      <th>MONTHS_BALANCE</th>\n",
       "      <th>CNT_INSTALMENT</th>\n",
       "      <th>CNT_INSTALMENT_FUTURE</th>\n",
       "      <th>NAME_CONTRACT_STATUS</th>\n",
       "      <th>SK_DPD</th>\n",
       "      <th>SK_DPD_DEF</th>\n",
       "    </tr>\n",
       "  </thead>\n",
       "  <tbody>\n",
       "    <tr>\n",
       "      <th>0</th>\n",
       "      <td>1803195</td>\n",
       "      <td>182943</td>\n",
       "      <td>-31</td>\n",
       "      <td>48.0</td>\n",
       "      <td>45.0</td>\n",
       "      <td>Active</td>\n",
       "      <td>0</td>\n",
       "      <td>0</td>\n",
       "    </tr>\n",
       "    <tr>\n",
       "      <th>1</th>\n",
       "      <td>1715348</td>\n",
       "      <td>367990</td>\n",
       "      <td>-33</td>\n",
       "      <td>36.0</td>\n",
       "      <td>35.0</td>\n",
       "      <td>Active</td>\n",
       "      <td>0</td>\n",
       "      <td>0</td>\n",
       "    </tr>\n",
       "    <tr>\n",
       "      <th>2</th>\n",
       "      <td>1784872</td>\n",
       "      <td>397406</td>\n",
       "      <td>-32</td>\n",
       "      <td>12.0</td>\n",
       "      <td>9.0</td>\n",
       "      <td>Active</td>\n",
       "      <td>0</td>\n",
       "      <td>0</td>\n",
       "    </tr>\n",
       "    <tr>\n",
       "      <th>3</th>\n",
       "      <td>1903291</td>\n",
       "      <td>269225</td>\n",
       "      <td>-35</td>\n",
       "      <td>48.0</td>\n",
       "      <td>42.0</td>\n",
       "      <td>Active</td>\n",
       "      <td>0</td>\n",
       "      <td>0</td>\n",
       "    </tr>\n",
       "    <tr>\n",
       "      <th>4</th>\n",
       "      <td>2341044</td>\n",
       "      <td>334279</td>\n",
       "      <td>-35</td>\n",
       "      <td>36.0</td>\n",
       "      <td>35.0</td>\n",
       "      <td>Active</td>\n",
       "      <td>0</td>\n",
       "      <td>0</td>\n",
       "    </tr>\n",
       "  </tbody>\n",
       "</table>\n",
       "</div>"
      ],
      "text/plain": [
       "   SK_ID_PREV  SK_ID_CURR  MONTHS_BALANCE  CNT_INSTALMENT  \\\n",
       "0     1803195      182943             -31            48.0   \n",
       "1     1715348      367990             -33            36.0   \n",
       "2     1784872      397406             -32            12.0   \n",
       "3     1903291      269225             -35            48.0   \n",
       "4     2341044      334279             -35            36.0   \n",
       "\n",
       "   CNT_INSTALMENT_FUTURE NAME_CONTRACT_STATUS  SK_DPD  SK_DPD_DEF  \n",
       "0                   45.0               Active       0           0  \n",
       "1                   35.0               Active       0           0  \n",
       "2                    9.0               Active       0           0  \n",
       "3                   42.0               Active       0           0  \n",
       "4                   35.0               Active       0           0  "
      ]
     },
     "execution_count": 11,
     "metadata": {},
     "output_type": "execute_result"
    }
   ],
   "source": [
    "POS_CASH_balance.head(5)"
   ]
  },
  {
   "cell_type": "code",
   "execution_count": 14,
   "metadata": {
    "ExecuteTime": {
     "end_time": "2018-06-11T21:00:49.278687Z",
     "start_time": "2018-06-11T21:00:45.663383Z"
    },
    "collapsed": true
   },
   "outputs": [],
   "source": [
    "x = POS_CASH_balance.sort_values('SK_ID_CURR')"
   ]
  },
  {
   "cell_type": "code",
   "execution_count": 20,
   "metadata": {
    "ExecuteTime": {
     "end_time": "2018-06-11T21:05:04.814373Z",
     "start_time": "2018-06-11T21:05:04.566607Z"
    }
   },
   "outputs": [],
   "source": [
    "x['DPD_MINUS_DEF' ] = x['CNT_INSTALMENT']  - x['CNT_INSTALMENT_FUTURE']"
   ]
  },
  {
   "cell_type": "code",
   "execution_count": 21,
   "metadata": {
    "ExecuteTime": {
     "end_time": "2018-06-11T21:05:09.366293Z",
     "start_time": "2018-06-11T21:05:08.717467Z"
    }
   },
   "outputs": [
    {
     "data": {
      "text/plain": [
       "(9967754, 9)"
      ]
     },
     "execution_count": 21,
     "metadata": {},
     "output_type": "execute_result"
    }
   ],
   "source": [
    "y = x[x['DPD_MINUS_DEF'] >= 0]\n",
    "y.shape"
   ]
  },
  {
   "cell_type": "code",
   "execution_count": 22,
   "metadata": {
    "ExecuteTime": {
     "end_time": "2018-06-11T21:05:13.344991Z",
     "start_time": "2018-06-11T21:05:13.341740Z"
    }
   },
   "outputs": [
    {
     "data": {
      "text/plain": [
       "(10001358, 9)"
      ]
     },
     "execution_count": 22,
     "metadata": {},
     "output_type": "execute_result"
    }
   ],
   "source": [
    "x.shape"
   ]
  },
  {
   "cell_type": "code",
   "execution_count": 23,
   "metadata": {
    "ExecuteTime": {
     "end_time": "2018-06-11T21:05:40.429068Z",
     "start_time": "2018-06-11T21:05:40.422940Z"
    }
   },
   "outputs": [
    {
     "data": {
      "text/plain": [
       "0.9966400562803571"
      ]
     },
     "execution_count": 23,
     "metadata": {},
     "output_type": "execute_result"
    }
   ],
   "source": [
    "y.shape[0]/x.shape[0]"
   ]
  },
  {
   "cell_type": "code",
   "execution_count": 24,
   "metadata": {
    "ExecuteTime": {
     "end_time": "2018-06-11T21:09:06.110437Z",
     "start_time": "2018-06-11T21:09:05.240834Z"
    },
    "collapsed": true
   },
   "outputs": [],
   "source": [
    "a = x[x['NAME_CONTRACT_STATUS'] == 'Active']"
   ]
  },
  {
   "cell_type": "code",
   "execution_count": 25,
   "metadata": {
    "ExecuteTime": {
     "end_time": "2018-06-11T21:09:10.126077Z",
     "start_time": "2018-06-11T21:09:10.122056Z"
    }
   },
   "outputs": [
    {
     "data": {
      "text/plain": [
       "(9151119, 9)"
      ]
     },
     "execution_count": 25,
     "metadata": {},
     "output_type": "execute_result"
    }
   ],
   "source": [
    "a.shape"
   ]
  },
  {
   "cell_type": "code",
   "execution_count": 26,
   "metadata": {
    "ExecuteTime": {
     "end_time": "2018-06-11T21:09:39.010851Z",
     "start_time": "2018-06-11T21:09:38.792586Z"
    }
   },
   "outputs": [
    {
     "data": {
      "text/plain": [
       "{'Active',\n",
       " 'Amortized debt',\n",
       " 'Approved',\n",
       " 'Canceled',\n",
       " 'Completed',\n",
       " 'Demand',\n",
       " 'Returned to the store',\n",
       " 'Signed',\n",
       " 'XNA'}"
      ]
     },
     "execution_count": 26,
     "metadata": {},
     "output_type": "execute_result"
    }
   ],
   "source": [
    "set(x['NAME_CONTRACT_STATUS'])"
   ]
  },
  {
   "cell_type": "code",
   "execution_count": 30,
   "metadata": {
    "ExecuteTime": {
     "end_time": "2018-06-11T21:13:44.807566Z",
     "start_time": "2018-06-11T21:13:44.348992Z"
    }
   },
   "outputs": [
    {
     "data": {
      "text/plain": [
       "(5461, 9)"
      ]
     },
     "execution_count": 30,
     "metadata": {},
     "output_type": "execute_result"
    }
   ],
   "source": [
    "c = x[x['NAME_CONTRACT_STATUS']=='Returned to the store']\n",
    "c.shape"
   ]
  },
  {
   "cell_type": "code",
   "execution_count": 31,
   "metadata": {
    "ExecuteTime": {
     "end_time": "2018-06-11T21:13:54.161974Z",
     "start_time": "2018-06-11T21:13:54.122571Z"
    }
   },
   "outputs": [
    {
     "data": {
      "text/html": [
       "<div>\n",
       "<style>\n",
       "    .dataframe thead tr:only-child th {\n",
       "        text-align: right;\n",
       "    }\n",
       "\n",
       "    .dataframe thead th {\n",
       "        text-align: left;\n",
       "    }\n",
       "\n",
       "    .dataframe tbody tr th {\n",
       "        vertical-align: top;\n",
       "    }\n",
       "</style>\n",
       "<table border=\"1\" class=\"dataframe\">\n",
       "  <thead>\n",
       "    <tr style=\"text-align: right;\">\n",
       "      <th></th>\n",
       "      <th>SK_ID_PREV</th>\n",
       "      <th>SK_ID_CURR</th>\n",
       "      <th>MONTHS_BALANCE</th>\n",
       "      <th>CNT_INSTALMENT</th>\n",
       "      <th>CNT_INSTALMENT_FUTURE</th>\n",
       "      <th>NAME_CONTRACT_STATUS</th>\n",
       "      <th>SK_DPD</th>\n",
       "      <th>SK_DPD_DEF</th>\n",
       "      <th>DPD_MINUS_DEF</th>\n",
       "    </tr>\n",
       "  </thead>\n",
       "  <tbody>\n",
       "    <tr>\n",
       "      <th>2692043</th>\n",
       "      <td>2299329</td>\n",
       "      <td>100006</td>\n",
       "      <td>-20</td>\n",
       "      <td>NaN</td>\n",
       "      <td>NaN</td>\n",
       "      <td>Returned to the store</td>\n",
       "      <td>0</td>\n",
       "      <td>0</td>\n",
       "      <td>NaN</td>\n",
       "    </tr>\n",
       "    <tr>\n",
       "      <th>9787401</th>\n",
       "      <td>1387636</td>\n",
       "      <td>100092</td>\n",
       "      <td>-46</td>\n",
       "      <td>12.0</td>\n",
       "      <td>12.0</td>\n",
       "      <td>Returned to the store</td>\n",
       "      <td>0</td>\n",
       "      <td>0</td>\n",
       "      <td>0.0</td>\n",
       "    </tr>\n",
       "    <tr>\n",
       "      <th>1608420</th>\n",
       "      <td>2216247</td>\n",
       "      <td>100094</td>\n",
       "      <td>-8</td>\n",
       "      <td>NaN</td>\n",
       "      <td>NaN</td>\n",
       "      <td>Returned to the store</td>\n",
       "      <td>0</td>\n",
       "      <td>0</td>\n",
       "      <td>NaN</td>\n",
       "    </tr>\n",
       "    <tr>\n",
       "      <th>5966158</th>\n",
       "      <td>2192263</td>\n",
       "      <td>100101</td>\n",
       "      <td>-42</td>\n",
       "      <td>12.0</td>\n",
       "      <td>11.0</td>\n",
       "      <td>Returned to the store</td>\n",
       "      <td>0</td>\n",
       "      <td>0</td>\n",
       "      <td>1.0</td>\n",
       "    </tr>\n",
       "    <tr>\n",
       "      <th>9805400</th>\n",
       "      <td>1752483</td>\n",
       "      <td>100110</td>\n",
       "      <td>-2</td>\n",
       "      <td>NaN</td>\n",
       "      <td>NaN</td>\n",
       "      <td>Returned to the store</td>\n",
       "      <td>0</td>\n",
       "      <td>0</td>\n",
       "      <td>NaN</td>\n",
       "    </tr>\n",
       "    <tr>\n",
       "      <th>9949204</th>\n",
       "      <td>2482438</td>\n",
       "      <td>100214</td>\n",
       "      <td>-4</td>\n",
       "      <td>NaN</td>\n",
       "      <td>NaN</td>\n",
       "      <td>Returned to the store</td>\n",
       "      <td>0</td>\n",
       "      <td>0</td>\n",
       "      <td>NaN</td>\n",
       "    </tr>\n",
       "    <tr>\n",
       "      <th>9809447</th>\n",
       "      <td>1327833</td>\n",
       "      <td>100285</td>\n",
       "      <td>-4</td>\n",
       "      <td>NaN</td>\n",
       "      <td>NaN</td>\n",
       "      <td>Returned to the store</td>\n",
       "      <td>0</td>\n",
       "      <td>0</td>\n",
       "      <td>NaN</td>\n",
       "    </tr>\n",
       "    <tr>\n",
       "      <th>2950767</th>\n",
       "      <td>1575570</td>\n",
       "      <td>100360</td>\n",
       "      <td>-41</td>\n",
       "      <td>10.0</td>\n",
       "      <td>10.0</td>\n",
       "      <td>Returned to the store</td>\n",
       "      <td>0</td>\n",
       "      <td>0</td>\n",
       "      <td>0.0</td>\n",
       "    </tr>\n",
       "    <tr>\n",
       "      <th>5501754</th>\n",
       "      <td>1051656</td>\n",
       "      <td>100491</td>\n",
       "      <td>-27</td>\n",
       "      <td>NaN</td>\n",
       "      <td>NaN</td>\n",
       "      <td>Returned to the store</td>\n",
       "      <td>0</td>\n",
       "      <td>0</td>\n",
       "      <td>NaN</td>\n",
       "    </tr>\n",
       "    <tr>\n",
       "      <th>4805933</th>\n",
       "      <td>2251424</td>\n",
       "      <td>100562</td>\n",
       "      <td>-49</td>\n",
       "      <td>12.0</td>\n",
       "      <td>12.0</td>\n",
       "      <td>Returned to the store</td>\n",
       "      <td>0</td>\n",
       "      <td>0</td>\n",
       "      <td>0.0</td>\n",
       "    </tr>\n",
       "    <tr>\n",
       "      <th>8786394</th>\n",
       "      <td>1060944</td>\n",
       "      <td>100680</td>\n",
       "      <td>-50</td>\n",
       "      <td>11.0</td>\n",
       "      <td>12.0</td>\n",
       "      <td>Returned to the store</td>\n",
       "      <td>0</td>\n",
       "      <td>0</td>\n",
       "      <td>-1.0</td>\n",
       "    </tr>\n",
       "    <tr>\n",
       "      <th>7598753</th>\n",
       "      <td>2258697</td>\n",
       "      <td>100731</td>\n",
       "      <td>-6</td>\n",
       "      <td>NaN</td>\n",
       "      <td>NaN</td>\n",
       "      <td>Returned to the store</td>\n",
       "      <td>0</td>\n",
       "      <td>0</td>\n",
       "      <td>NaN</td>\n",
       "    </tr>\n",
       "    <tr>\n",
       "      <th>4529722</th>\n",
       "      <td>2611390</td>\n",
       "      <td>100757</td>\n",
       "      <td>-19</td>\n",
       "      <td>NaN</td>\n",
       "      <td>NaN</td>\n",
       "      <td>Returned to the store</td>\n",
       "      <td>0</td>\n",
       "      <td>0</td>\n",
       "      <td>NaN</td>\n",
       "    </tr>\n",
       "    <tr>\n",
       "      <th>1477931</th>\n",
       "      <td>1030908</td>\n",
       "      <td>100920</td>\n",
       "      <td>-20</td>\n",
       "      <td>NaN</td>\n",
       "      <td>NaN</td>\n",
       "      <td>Returned to the store</td>\n",
       "      <td>0</td>\n",
       "      <td>0</td>\n",
       "      <td>NaN</td>\n",
       "    </tr>\n",
       "    <tr>\n",
       "      <th>4367991</th>\n",
       "      <td>2303755</td>\n",
       "      <td>100952</td>\n",
       "      <td>-86</td>\n",
       "      <td>10.0</td>\n",
       "      <td>10.0</td>\n",
       "      <td>Returned to the store</td>\n",
       "      <td>0</td>\n",
       "      <td>0</td>\n",
       "      <td>0.0</td>\n",
       "    </tr>\n",
       "    <tr>\n",
       "      <th>7409532</th>\n",
       "      <td>1970693</td>\n",
       "      <td>101056</td>\n",
       "      <td>-15</td>\n",
       "      <td>NaN</td>\n",
       "      <td>NaN</td>\n",
       "      <td>Returned to the store</td>\n",
       "      <td>0</td>\n",
       "      <td>0</td>\n",
       "      <td>NaN</td>\n",
       "    </tr>\n",
       "    <tr>\n",
       "      <th>8212587</th>\n",
       "      <td>2718702</td>\n",
       "      <td>101078</td>\n",
       "      <td>-19</td>\n",
       "      <td>NaN</td>\n",
       "      <td>NaN</td>\n",
       "      <td>Returned to the store</td>\n",
       "      <td>0</td>\n",
       "      <td>0</td>\n",
       "      <td>NaN</td>\n",
       "    </tr>\n",
       "    <tr>\n",
       "      <th>2370561</th>\n",
       "      <td>1106742</td>\n",
       "      <td>101230</td>\n",
       "      <td>-74</td>\n",
       "      <td>10.0</td>\n",
       "      <td>10.0</td>\n",
       "      <td>Returned to the store</td>\n",
       "      <td>0</td>\n",
       "      <td>0</td>\n",
       "      <td>0.0</td>\n",
       "    </tr>\n",
       "    <tr>\n",
       "      <th>6102439</th>\n",
       "      <td>1431674</td>\n",
       "      <td>101403</td>\n",
       "      <td>-50</td>\n",
       "      <td>6.0</td>\n",
       "      <td>6.0</td>\n",
       "      <td>Returned to the store</td>\n",
       "      <td>0</td>\n",
       "      <td>0</td>\n",
       "      <td>0.0</td>\n",
       "    </tr>\n",
       "    <tr>\n",
       "      <th>8614212</th>\n",
       "      <td>2662990</td>\n",
       "      <td>101494</td>\n",
       "      <td>-4</td>\n",
       "      <td>NaN</td>\n",
       "      <td>NaN</td>\n",
       "      <td>Returned to the store</td>\n",
       "      <td>0</td>\n",
       "      <td>0</td>\n",
       "      <td>NaN</td>\n",
       "    </tr>\n",
       "    <tr>\n",
       "      <th>2345393</th>\n",
       "      <td>2613560</td>\n",
       "      <td>101502</td>\n",
       "      <td>-45</td>\n",
       "      <td>5.0</td>\n",
       "      <td>5.0</td>\n",
       "      <td>Returned to the store</td>\n",
       "      <td>0</td>\n",
       "      <td>0</td>\n",
       "      <td>0.0</td>\n",
       "    </tr>\n",
       "    <tr>\n",
       "      <th>9722657</th>\n",
       "      <td>2052020</td>\n",
       "      <td>101512</td>\n",
       "      <td>-29</td>\n",
       "      <td>NaN</td>\n",
       "      <td>NaN</td>\n",
       "      <td>Returned to the store</td>\n",
       "      <td>0</td>\n",
       "      <td>0</td>\n",
       "      <td>NaN</td>\n",
       "    </tr>\n",
       "    <tr>\n",
       "      <th>7773892</th>\n",
       "      <td>1668575</td>\n",
       "      <td>101652</td>\n",
       "      <td>-37</td>\n",
       "      <td>12.0</td>\n",
       "      <td>12.0</td>\n",
       "      <td>Returned to the store</td>\n",
       "      <td>0</td>\n",
       "      <td>0</td>\n",
       "      <td>0.0</td>\n",
       "    </tr>\n",
       "    <tr>\n",
       "      <th>7696451</th>\n",
       "      <td>1404944</td>\n",
       "      <td>101732</td>\n",
       "      <td>-62</td>\n",
       "      <td>5.0</td>\n",
       "      <td>5.0</td>\n",
       "      <td>Returned to the store</td>\n",
       "      <td>0</td>\n",
       "      <td>0</td>\n",
       "      <td>0.0</td>\n",
       "    </tr>\n",
       "    <tr>\n",
       "      <th>3289100</th>\n",
       "      <td>1404944</td>\n",
       "      <td>101732</td>\n",
       "      <td>-60</td>\n",
       "      <td>5.0</td>\n",
       "      <td>5.0</td>\n",
       "      <td>Returned to the store</td>\n",
       "      <td>0</td>\n",
       "      <td>0</td>\n",
       "      <td>0.0</td>\n",
       "    </tr>\n",
       "    <tr>\n",
       "      <th>2713294</th>\n",
       "      <td>1050848</td>\n",
       "      <td>101814</td>\n",
       "      <td>-27</td>\n",
       "      <td>NaN</td>\n",
       "      <td>NaN</td>\n",
       "      <td>Returned to the store</td>\n",
       "      <td>0</td>\n",
       "      <td>0</td>\n",
       "      <td>NaN</td>\n",
       "    </tr>\n",
       "    <tr>\n",
       "      <th>7310887</th>\n",
       "      <td>1005880</td>\n",
       "      <td>101819</td>\n",
       "      <td>-62</td>\n",
       "      <td>10.0</td>\n",
       "      <td>10.0</td>\n",
       "      <td>Returned to the store</td>\n",
       "      <td>0</td>\n",
       "      <td>0</td>\n",
       "      <td>0.0</td>\n",
       "    </tr>\n",
       "    <tr>\n",
       "      <th>1054615</th>\n",
       "      <td>2466994</td>\n",
       "      <td>101881</td>\n",
       "      <td>-8</td>\n",
       "      <td>NaN</td>\n",
       "      <td>NaN</td>\n",
       "      <td>Returned to the store</td>\n",
       "      <td>0</td>\n",
       "      <td>0</td>\n",
       "      <td>NaN</td>\n",
       "    </tr>\n",
       "    <tr>\n",
       "      <th>5135126</th>\n",
       "      <td>2062791</td>\n",
       "      <td>101939</td>\n",
       "      <td>-27</td>\n",
       "      <td>NaN</td>\n",
       "      <td>NaN</td>\n",
       "      <td>Returned to the store</td>\n",
       "      <td>0</td>\n",
       "      <td>0</td>\n",
       "      <td>NaN</td>\n",
       "    </tr>\n",
       "    <tr>\n",
       "      <th>3106993</th>\n",
       "      <td>2069745</td>\n",
       "      <td>101964</td>\n",
       "      <td>-26</td>\n",
       "      <td>NaN</td>\n",
       "      <td>NaN</td>\n",
       "      <td>Returned to the store</td>\n",
       "      <td>0</td>\n",
       "      <td>0</td>\n",
       "      <td>NaN</td>\n",
       "    </tr>\n",
       "    <tr>\n",
       "      <th>...</th>\n",
       "      <td>...</td>\n",
       "      <td>...</td>\n",
       "      <td>...</td>\n",
       "      <td>...</td>\n",
       "      <td>...</td>\n",
       "      <td>...</td>\n",
       "      <td>...</td>\n",
       "      <td>...</td>\n",
       "      <td>...</td>\n",
       "    </tr>\n",
       "    <tr>\n",
       "      <th>81738</th>\n",
       "      <td>1462245</td>\n",
       "      <td>453855</td>\n",
       "      <td>-33</td>\n",
       "      <td>NaN</td>\n",
       "      <td>NaN</td>\n",
       "      <td>Returned to the store</td>\n",
       "      <td>0</td>\n",
       "      <td>0</td>\n",
       "      <td>NaN</td>\n",
       "    </tr>\n",
       "    <tr>\n",
       "      <th>6951716</th>\n",
       "      <td>2491478</td>\n",
       "      <td>453931</td>\n",
       "      <td>-11</td>\n",
       "      <td>NaN</td>\n",
       "      <td>NaN</td>\n",
       "      <td>Returned to the store</td>\n",
       "      <td>0</td>\n",
       "      <td>0</td>\n",
       "      <td>NaN</td>\n",
       "    </tr>\n",
       "    <tr>\n",
       "      <th>4953223</th>\n",
       "      <td>1132186</td>\n",
       "      <td>454010</td>\n",
       "      <td>-39</td>\n",
       "      <td>12.0</td>\n",
       "      <td>12.0</td>\n",
       "      <td>Returned to the store</td>\n",
       "      <td>0</td>\n",
       "      <td>0</td>\n",
       "      <td>0.0</td>\n",
       "    </tr>\n",
       "    <tr>\n",
       "      <th>7331433</th>\n",
       "      <td>2056348</td>\n",
       "      <td>454135</td>\n",
       "      <td>-5</td>\n",
       "      <td>NaN</td>\n",
       "      <td>NaN</td>\n",
       "      <td>Returned to the store</td>\n",
       "      <td>0</td>\n",
       "      <td>0</td>\n",
       "      <td>NaN</td>\n",
       "    </tr>\n",
       "    <tr>\n",
       "      <th>8755140</th>\n",
       "      <td>2056348</td>\n",
       "      <td>454135</td>\n",
       "      <td>-10</td>\n",
       "      <td>NaN</td>\n",
       "      <td>NaN</td>\n",
       "      <td>Returned to the store</td>\n",
       "      <td>0</td>\n",
       "      <td>0</td>\n",
       "      <td>NaN</td>\n",
       "    </tr>\n",
       "    <tr>\n",
       "      <th>4579922</th>\n",
       "      <td>2829916</td>\n",
       "      <td>454280</td>\n",
       "      <td>-89</td>\n",
       "      <td>4.0</td>\n",
       "      <td>4.0</td>\n",
       "      <td>Returned to the store</td>\n",
       "      <td>0</td>\n",
       "      <td>0</td>\n",
       "      <td>0.0</td>\n",
       "    </tr>\n",
       "    <tr>\n",
       "      <th>5142829</th>\n",
       "      <td>1423550</td>\n",
       "      <td>454327</td>\n",
       "      <td>-13</td>\n",
       "      <td>8.0</td>\n",
       "      <td>8.0</td>\n",
       "      <td>Returned to the store</td>\n",
       "      <td>0</td>\n",
       "      <td>0</td>\n",
       "      <td>0.0</td>\n",
       "    </tr>\n",
       "    <tr>\n",
       "      <th>7812550</th>\n",
       "      <td>2294041</td>\n",
       "      <td>454383</td>\n",
       "      <td>-41</td>\n",
       "      <td>NaN</td>\n",
       "      <td>NaN</td>\n",
       "      <td>Returned to the store</td>\n",
       "      <td>0</td>\n",
       "      <td>0</td>\n",
       "      <td>NaN</td>\n",
       "    </tr>\n",
       "    <tr>\n",
       "      <th>9956605</th>\n",
       "      <td>1184997</td>\n",
       "      <td>454419</td>\n",
       "      <td>-1</td>\n",
       "      <td>NaN</td>\n",
       "      <td>NaN</td>\n",
       "      <td>Returned to the store</td>\n",
       "      <td>0</td>\n",
       "      <td>0</td>\n",
       "      <td>NaN</td>\n",
       "    </tr>\n",
       "    <tr>\n",
       "      <th>8449639</th>\n",
       "      <td>1639459</td>\n",
       "      <td>454514</td>\n",
       "      <td>-30</td>\n",
       "      <td>NaN</td>\n",
       "      <td>NaN</td>\n",
       "      <td>Returned to the store</td>\n",
       "      <td>0</td>\n",
       "      <td>0</td>\n",
       "      <td>NaN</td>\n",
       "    </tr>\n",
       "    <tr>\n",
       "      <th>9894787</th>\n",
       "      <td>1128972</td>\n",
       "      <td>454664</td>\n",
       "      <td>-11</td>\n",
       "      <td>NaN</td>\n",
       "      <td>NaN</td>\n",
       "      <td>Returned to the store</td>\n",
       "      <td>0</td>\n",
       "      <td>0</td>\n",
       "      <td>NaN</td>\n",
       "    </tr>\n",
       "    <tr>\n",
       "      <th>8093372</th>\n",
       "      <td>1561711</td>\n",
       "      <td>454684</td>\n",
       "      <td>-19</td>\n",
       "      <td>NaN</td>\n",
       "      <td>NaN</td>\n",
       "      <td>Returned to the store</td>\n",
       "      <td>0</td>\n",
       "      <td>0</td>\n",
       "      <td>NaN</td>\n",
       "    </tr>\n",
       "    <tr>\n",
       "      <th>8134542</th>\n",
       "      <td>1306222</td>\n",
       "      <td>454711</td>\n",
       "      <td>-84</td>\n",
       "      <td>11.0</td>\n",
       "      <td>11.0</td>\n",
       "      <td>Returned to the store</td>\n",
       "      <td>0</td>\n",
       "      <td>0</td>\n",
       "      <td>0.0</td>\n",
       "    </tr>\n",
       "    <tr>\n",
       "      <th>5306494</th>\n",
       "      <td>2177662</td>\n",
       "      <td>454832</td>\n",
       "      <td>-91</td>\n",
       "      <td>6.0</td>\n",
       "      <td>6.0</td>\n",
       "      <td>Returned to the store</td>\n",
       "      <td>0</td>\n",
       "      <td>0</td>\n",
       "      <td>0.0</td>\n",
       "    </tr>\n",
       "    <tr>\n",
       "      <th>7605353</th>\n",
       "      <td>2218222</td>\n",
       "      <td>454877</td>\n",
       "      <td>-6</td>\n",
       "      <td>NaN</td>\n",
       "      <td>NaN</td>\n",
       "      <td>Returned to the store</td>\n",
       "      <td>0</td>\n",
       "      <td>0</td>\n",
       "      <td>NaN</td>\n",
       "    </tr>\n",
       "    <tr>\n",
       "      <th>5233907</th>\n",
       "      <td>2305162</td>\n",
       "      <td>454923</td>\n",
       "      <td>-81</td>\n",
       "      <td>4.0</td>\n",
       "      <td>4.0</td>\n",
       "      <td>Returned to the store</td>\n",
       "      <td>0</td>\n",
       "      <td>0</td>\n",
       "      <td>0.0</td>\n",
       "    </tr>\n",
       "    <tr>\n",
       "      <th>2215671</th>\n",
       "      <td>2292650</td>\n",
       "      <td>454927</td>\n",
       "      <td>-44</td>\n",
       "      <td>12.0</td>\n",
       "      <td>12.0</td>\n",
       "      <td>Returned to the store</td>\n",
       "      <td>0</td>\n",
       "      <td>0</td>\n",
       "      <td>0.0</td>\n",
       "    </tr>\n",
       "    <tr>\n",
       "      <th>8284217</th>\n",
       "      <td>1711276</td>\n",
       "      <td>454995</td>\n",
       "      <td>-57</td>\n",
       "      <td>5.0</td>\n",
       "      <td>5.0</td>\n",
       "      <td>Returned to the store</td>\n",
       "      <td>0</td>\n",
       "      <td>0</td>\n",
       "      <td>0.0</td>\n",
       "    </tr>\n",
       "    <tr>\n",
       "      <th>7115039</th>\n",
       "      <td>1868915</td>\n",
       "      <td>455098</td>\n",
       "      <td>-19</td>\n",
       "      <td>NaN</td>\n",
       "      <td>NaN</td>\n",
       "      <td>Returned to the store</td>\n",
       "      <td>0</td>\n",
       "      <td>0</td>\n",
       "      <td>NaN</td>\n",
       "    </tr>\n",
       "    <tr>\n",
       "      <th>9274813</th>\n",
       "      <td>1926381</td>\n",
       "      <td>455114</td>\n",
       "      <td>-35</td>\n",
       "      <td>NaN</td>\n",
       "      <td>NaN</td>\n",
       "      <td>Returned to the store</td>\n",
       "      <td>0</td>\n",
       "      <td>0</td>\n",
       "      <td>NaN</td>\n",
       "    </tr>\n",
       "    <tr>\n",
       "      <th>337360</th>\n",
       "      <td>1107248</td>\n",
       "      <td>455177</td>\n",
       "      <td>-20</td>\n",
       "      <td>NaN</td>\n",
       "      <td>NaN</td>\n",
       "      <td>Returned to the store</td>\n",
       "      <td>0</td>\n",
       "      <td>0</td>\n",
       "      <td>NaN</td>\n",
       "    </tr>\n",
       "    <tr>\n",
       "      <th>8557935</th>\n",
       "      <td>2737635</td>\n",
       "      <td>455185</td>\n",
       "      <td>-9</td>\n",
       "      <td>NaN</td>\n",
       "      <td>NaN</td>\n",
       "      <td>Returned to the store</td>\n",
       "      <td>0</td>\n",
       "      <td>0</td>\n",
       "      <td>NaN</td>\n",
       "    </tr>\n",
       "    <tr>\n",
       "      <th>9504270</th>\n",
       "      <td>2286197</td>\n",
       "      <td>455238</td>\n",
       "      <td>-29</td>\n",
       "      <td>NaN</td>\n",
       "      <td>NaN</td>\n",
       "      <td>Returned to the store</td>\n",
       "      <td>0</td>\n",
       "      <td>0</td>\n",
       "      <td>NaN</td>\n",
       "    </tr>\n",
       "    <tr>\n",
       "      <th>9265418</th>\n",
       "      <td>1948761</td>\n",
       "      <td>455465</td>\n",
       "      <td>-52</td>\n",
       "      <td>10.0</td>\n",
       "      <td>12.0</td>\n",
       "      <td>Returned to the store</td>\n",
       "      <td>0</td>\n",
       "      <td>0</td>\n",
       "      <td>-2.0</td>\n",
       "    </tr>\n",
       "    <tr>\n",
       "      <th>7625170</th>\n",
       "      <td>1152441</td>\n",
       "      <td>455506</td>\n",
       "      <td>-44</td>\n",
       "      <td>4.0</td>\n",
       "      <td>4.0</td>\n",
       "      <td>Returned to the store</td>\n",
       "      <td>0</td>\n",
       "      <td>0</td>\n",
       "      <td>0.0</td>\n",
       "    </tr>\n",
       "    <tr>\n",
       "      <th>3462922</th>\n",
       "      <td>1432063</td>\n",
       "      <td>455578</td>\n",
       "      <td>-40</td>\n",
       "      <td>6.0</td>\n",
       "      <td>6.0</td>\n",
       "      <td>Returned to the store</td>\n",
       "      <td>0</td>\n",
       "      <td>0</td>\n",
       "      <td>0.0</td>\n",
       "    </tr>\n",
       "    <tr>\n",
       "      <th>7235979</th>\n",
       "      <td>1903466</td>\n",
       "      <td>455582</td>\n",
       "      <td>-47</td>\n",
       "      <td>5.0</td>\n",
       "      <td>5.0</td>\n",
       "      <td>Returned to the store</td>\n",
       "      <td>0</td>\n",
       "      <td>0</td>\n",
       "      <td>0.0</td>\n",
       "    </tr>\n",
       "    <tr>\n",
       "      <th>1766352</th>\n",
       "      <td>2141251</td>\n",
       "      <td>455866</td>\n",
       "      <td>-72</td>\n",
       "      <td>6.0</td>\n",
       "      <td>6.0</td>\n",
       "      <td>Returned to the store</td>\n",
       "      <td>0</td>\n",
       "      <td>0</td>\n",
       "      <td>0.0</td>\n",
       "    </tr>\n",
       "    <tr>\n",
       "      <th>28385</th>\n",
       "      <td>1315557</td>\n",
       "      <td>455915</td>\n",
       "      <td>-12</td>\n",
       "      <td>NaN</td>\n",
       "      <td>NaN</td>\n",
       "      <td>Returned to the store</td>\n",
       "      <td>0</td>\n",
       "      <td>0</td>\n",
       "      <td>NaN</td>\n",
       "    </tr>\n",
       "    <tr>\n",
       "      <th>402071</th>\n",
       "      <td>1724125</td>\n",
       "      <td>456219</td>\n",
       "      <td>-13</td>\n",
       "      <td>NaN</td>\n",
       "      <td>NaN</td>\n",
       "      <td>Returned to the store</td>\n",
       "      <td>0</td>\n",
       "      <td>0</td>\n",
       "      <td>NaN</td>\n",
       "    </tr>\n",
       "  </tbody>\n",
       "</table>\n",
       "<p>5461 rows × 9 columns</p>\n",
       "</div>"
      ],
      "text/plain": [
       "         SK_ID_PREV  SK_ID_CURR  MONTHS_BALANCE  CNT_INSTALMENT  \\\n",
       "2692043     2299329      100006             -20             NaN   \n",
       "9787401     1387636      100092             -46            12.0   \n",
       "1608420     2216247      100094              -8             NaN   \n",
       "5966158     2192263      100101             -42            12.0   \n",
       "9805400     1752483      100110              -2             NaN   \n",
       "9949204     2482438      100214              -4             NaN   \n",
       "9809447     1327833      100285              -4             NaN   \n",
       "2950767     1575570      100360             -41            10.0   \n",
       "5501754     1051656      100491             -27             NaN   \n",
       "4805933     2251424      100562             -49            12.0   \n",
       "8786394     1060944      100680             -50            11.0   \n",
       "7598753     2258697      100731              -6             NaN   \n",
       "4529722     2611390      100757             -19             NaN   \n",
       "1477931     1030908      100920             -20             NaN   \n",
       "4367991     2303755      100952             -86            10.0   \n",
       "7409532     1970693      101056             -15             NaN   \n",
       "8212587     2718702      101078             -19             NaN   \n",
       "2370561     1106742      101230             -74            10.0   \n",
       "6102439     1431674      101403             -50             6.0   \n",
       "8614212     2662990      101494              -4             NaN   \n",
       "2345393     2613560      101502             -45             5.0   \n",
       "9722657     2052020      101512             -29             NaN   \n",
       "7773892     1668575      101652             -37            12.0   \n",
       "7696451     1404944      101732             -62             5.0   \n",
       "3289100     1404944      101732             -60             5.0   \n",
       "2713294     1050848      101814             -27             NaN   \n",
       "7310887     1005880      101819             -62            10.0   \n",
       "1054615     2466994      101881              -8             NaN   \n",
       "5135126     2062791      101939             -27             NaN   \n",
       "3106993     2069745      101964             -26             NaN   \n",
       "...             ...         ...             ...             ...   \n",
       "81738       1462245      453855             -33             NaN   \n",
       "6951716     2491478      453931             -11             NaN   \n",
       "4953223     1132186      454010             -39            12.0   \n",
       "7331433     2056348      454135              -5             NaN   \n",
       "8755140     2056348      454135             -10             NaN   \n",
       "4579922     2829916      454280             -89             4.0   \n",
       "5142829     1423550      454327             -13             8.0   \n",
       "7812550     2294041      454383             -41             NaN   \n",
       "9956605     1184997      454419              -1             NaN   \n",
       "8449639     1639459      454514             -30             NaN   \n",
       "9894787     1128972      454664             -11             NaN   \n",
       "8093372     1561711      454684             -19             NaN   \n",
       "8134542     1306222      454711             -84            11.0   \n",
       "5306494     2177662      454832             -91             6.0   \n",
       "7605353     2218222      454877              -6             NaN   \n",
       "5233907     2305162      454923             -81             4.0   \n",
       "2215671     2292650      454927             -44            12.0   \n",
       "8284217     1711276      454995             -57             5.0   \n",
       "7115039     1868915      455098             -19             NaN   \n",
       "9274813     1926381      455114             -35             NaN   \n",
       "337360      1107248      455177             -20             NaN   \n",
       "8557935     2737635      455185              -9             NaN   \n",
       "9504270     2286197      455238             -29             NaN   \n",
       "9265418     1948761      455465             -52            10.0   \n",
       "7625170     1152441      455506             -44             4.0   \n",
       "3462922     1432063      455578             -40             6.0   \n",
       "7235979     1903466      455582             -47             5.0   \n",
       "1766352     2141251      455866             -72             6.0   \n",
       "28385       1315557      455915             -12             NaN   \n",
       "402071      1724125      456219             -13             NaN   \n",
       "\n",
       "         CNT_INSTALMENT_FUTURE   NAME_CONTRACT_STATUS  SK_DPD  SK_DPD_DEF  \\\n",
       "2692043                    NaN  Returned to the store       0           0   \n",
       "9787401                   12.0  Returned to the store       0           0   \n",
       "1608420                    NaN  Returned to the store       0           0   \n",
       "5966158                   11.0  Returned to the store       0           0   \n",
       "9805400                    NaN  Returned to the store       0           0   \n",
       "9949204                    NaN  Returned to the store       0           0   \n",
       "9809447                    NaN  Returned to the store       0           0   \n",
       "2950767                   10.0  Returned to the store       0           0   \n",
       "5501754                    NaN  Returned to the store       0           0   \n",
       "4805933                   12.0  Returned to the store       0           0   \n",
       "8786394                   12.0  Returned to the store       0           0   \n",
       "7598753                    NaN  Returned to the store       0           0   \n",
       "4529722                    NaN  Returned to the store       0           0   \n",
       "1477931                    NaN  Returned to the store       0           0   \n",
       "4367991                   10.0  Returned to the store       0           0   \n",
       "7409532                    NaN  Returned to the store       0           0   \n",
       "8212587                    NaN  Returned to the store       0           0   \n",
       "2370561                   10.0  Returned to the store       0           0   \n",
       "6102439                    6.0  Returned to the store       0           0   \n",
       "8614212                    NaN  Returned to the store       0           0   \n",
       "2345393                    5.0  Returned to the store       0           0   \n",
       "9722657                    NaN  Returned to the store       0           0   \n",
       "7773892                   12.0  Returned to the store       0           0   \n",
       "7696451                    5.0  Returned to the store       0           0   \n",
       "3289100                    5.0  Returned to the store       0           0   \n",
       "2713294                    NaN  Returned to the store       0           0   \n",
       "7310887                   10.0  Returned to the store       0           0   \n",
       "1054615                    NaN  Returned to the store       0           0   \n",
       "5135126                    NaN  Returned to the store       0           0   \n",
       "3106993                    NaN  Returned to the store       0           0   \n",
       "...                        ...                    ...     ...         ...   \n",
       "81738                      NaN  Returned to the store       0           0   \n",
       "6951716                    NaN  Returned to the store       0           0   \n",
       "4953223                   12.0  Returned to the store       0           0   \n",
       "7331433                    NaN  Returned to the store       0           0   \n",
       "8755140                    NaN  Returned to the store       0           0   \n",
       "4579922                    4.0  Returned to the store       0           0   \n",
       "5142829                    8.0  Returned to the store       0           0   \n",
       "7812550                    NaN  Returned to the store       0           0   \n",
       "9956605                    NaN  Returned to the store       0           0   \n",
       "8449639                    NaN  Returned to the store       0           0   \n",
       "9894787                    NaN  Returned to the store       0           0   \n",
       "8093372                    NaN  Returned to the store       0           0   \n",
       "8134542                   11.0  Returned to the store       0           0   \n",
       "5306494                    6.0  Returned to the store       0           0   \n",
       "7605353                    NaN  Returned to the store       0           0   \n",
       "5233907                    4.0  Returned to the store       0           0   \n",
       "2215671                   12.0  Returned to the store       0           0   \n",
       "8284217                    5.0  Returned to the store       0           0   \n",
       "7115039                    NaN  Returned to the store       0           0   \n",
       "9274813                    NaN  Returned to the store       0           0   \n",
       "337360                     NaN  Returned to the store       0           0   \n",
       "8557935                    NaN  Returned to the store       0           0   \n",
       "9504270                    NaN  Returned to the store       0           0   \n",
       "9265418                   12.0  Returned to the store       0           0   \n",
       "7625170                    4.0  Returned to the store       0           0   \n",
       "3462922                    6.0  Returned to the store       0           0   \n",
       "7235979                    5.0  Returned to the store       0           0   \n",
       "1766352                    6.0  Returned to the store       0           0   \n",
       "28385                      NaN  Returned to the store       0           0   \n",
       "402071                     NaN  Returned to the store       0           0   \n",
       "\n",
       "         DPD_MINUS_DEF  \n",
       "2692043            NaN  \n",
       "9787401            0.0  \n",
       "1608420            NaN  \n",
       "5966158            1.0  \n",
       "9805400            NaN  \n",
       "9949204            NaN  \n",
       "9809447            NaN  \n",
       "2950767            0.0  \n",
       "5501754            NaN  \n",
       "4805933            0.0  \n",
       "8786394           -1.0  \n",
       "7598753            NaN  \n",
       "4529722            NaN  \n",
       "1477931            NaN  \n",
       "4367991            0.0  \n",
       "7409532            NaN  \n",
       "8212587            NaN  \n",
       "2370561            0.0  \n",
       "6102439            0.0  \n",
       "8614212            NaN  \n",
       "2345393            0.0  \n",
       "9722657            NaN  \n",
       "7773892            0.0  \n",
       "7696451            0.0  \n",
       "3289100            0.0  \n",
       "2713294            NaN  \n",
       "7310887            0.0  \n",
       "1054615            NaN  \n",
       "5135126            NaN  \n",
       "3106993            NaN  \n",
       "...                ...  \n",
       "81738              NaN  \n",
       "6951716            NaN  \n",
       "4953223            0.0  \n",
       "7331433            NaN  \n",
       "8755140            NaN  \n",
       "4579922            0.0  \n",
       "5142829            0.0  \n",
       "7812550            NaN  \n",
       "9956605            NaN  \n",
       "8449639            NaN  \n",
       "9894787            NaN  \n",
       "8093372            NaN  \n",
       "8134542            0.0  \n",
       "5306494            0.0  \n",
       "7605353            NaN  \n",
       "5233907            0.0  \n",
       "2215671            0.0  \n",
       "8284217            0.0  \n",
       "7115039            NaN  \n",
       "9274813            NaN  \n",
       "337360             NaN  \n",
       "8557935            NaN  \n",
       "9504270            NaN  \n",
       "9265418           -2.0  \n",
       "7625170            0.0  \n",
       "3462922            0.0  \n",
       "7235979            0.0  \n",
       "1766352            0.0  \n",
       "28385              NaN  \n",
       "402071             NaN  \n",
       "\n",
       "[5461 rows x 9 columns]"
      ]
     },
     "execution_count": 31,
     "metadata": {},
     "output_type": "execute_result"
    }
   ],
   "source": [
    "c"
   ]
  },
  {
   "cell_type": "code",
   "execution_count": null,
   "metadata": {
    "collapsed": true
   },
   "outputs": [],
   "source": []
  }
 ],
 "metadata": {
  "kernelspec": {
   "display_name": "Python 3",
   "language": "python",
   "name": "python3"
  },
  "language_info": {
   "codemirror_mode": {
    "name": "ipython",
    "version": 3
   },
   "file_extension": ".py",
   "mimetype": "text/x-python",
   "name": "python",
   "nbconvert_exporter": "python",
   "pygments_lexer": "ipython3",
   "version": "3.6.3"
  },
  "varInspector": {
   "cols": {
    "lenName": 16,
    "lenType": 16,
    "lenVar": 40
   },
   "kernels_config": {
    "python": {
     "delete_cmd_postfix": "",
     "delete_cmd_prefix": "del ",
     "library": "var_list.py",
     "varRefreshCmd": "print(var_dic_list())"
    },
    "r": {
     "delete_cmd_postfix": ") ",
     "delete_cmd_prefix": "rm(",
     "library": "var_list.r",
     "varRefreshCmd": "cat(var_dic_list()) "
    }
   },
   "types_to_exclude": [
    "module",
    "function",
    "builtin_function_or_method",
    "instance",
    "_Feature"
   ],
   "window_display": false
  }
 },
 "nbformat": 4,
 "nbformat_minor": 2
}
