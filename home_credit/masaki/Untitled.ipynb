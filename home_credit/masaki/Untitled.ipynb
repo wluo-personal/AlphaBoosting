{
 "cells": [
  {
   "cell_type": "code",
   "execution_count": 2,
   "metadata": {
    "ExecuteTime": {
     "end_time": "2018-06-27T18:39:33.907831Z",
     "start_time": "2018-06-27T18:39:26.472999Z"
    }
   },
   "outputs": [
    {
     "data": {
      "text/plain": [
       "((307511, 1918), (48744, 1917))"
      ]
     },
     "execution_count": 2,
     "metadata": {},
     "output_type": "execute_result"
    }
   ],
   "source": [
    "import pandas as pd\n",
    "import numpy as np\n",
    "PATH = '/home/kai/data/kaggle/homecredit/'\n",
    "\n",
    "# Read train and test\n",
    "train = pd.read_pickle(PATH + 'train_factorized_1_with_linear.pkl')\n",
    "test = pd.read_pickle(PATH + 'test_factorized_1_with_linear.pkl')\n",
    "train.shape, test.shape"
   ]
  },
  {
   "cell_type": "code",
   "execution_count": 3,
   "metadata": {
    "ExecuteTime": {
     "end_time": "2018-06-27T18:40:00.440964Z",
     "start_time": "2018-06-27T18:40:00.421356Z"
    }
   },
   "outputs": [],
   "source": [
    "def model_2(train_df, test_df, threshold1, threshold2, n_splits):\n",
    "    print('begin cv')\n",
    "    target = train_df['TARGET']\n",
    "    ignore_cols = ['ORGANIZATION_TYPE', 'TARGET', 'SK_ID_CURR']\n",
    "    features = [x for x in train_df.columns if x not in ignore_cols]\n",
    "    train = train_df[features]\n",
    "    test = test_df[features]\n",
    "\n",
    "    from sklearn.model_selection import StratifiedKFold\n",
    "    from lightgbm import LGBMClassifier\n",
    "    from sklearn.metrics import roc_auc_score\n",
    "    import lightgbm as lgbm\n",
    "\n",
    "    lgbm_train = lgbm.Dataset(data=train,\n",
    "                              label=target,\n",
    "\n",
    "                              categorical_feature=[],#categorical_feats,\n",
    "                              free_raw_data=False)\n",
    "    \n",
    "    lgbm_params = {\n",
    "        'task': 'train',\n",
    "        'boosting_type': 'gbdt',\n",
    "        'objective': 'binary',\n",
    "        'metric': 'auc',\n",
    "        'learning_rate': 0.05,\n",
    "        'num_iteration': 4000,\n",
    "        'num_threads': 8,\n",
    "        \n",
    "        'num_leaves': int(round(44.368535336628419)),\n",
    "        'feature_fraction': 0.28231763168020257,\n",
    "        'bagging_fraction': 0.94901525271474951,\n",
    "        'max_depth': int(round(8.0430115561596267)),\n",
    "        'lambda_l1': 0.30680079516647751,\n",
    "        'lambda_l2': 0.079128660903201031,\n",
    "        'min_split_gain': 0.054005067457890979,\n",
    "        'min_child_weight': 98.172643147364937\n",
    "    }\n",
    "\n",
    "    cv_results = lgbm.cv(train_set=lgbm_train,\n",
    "                         params=lgbm_params,\n",
    "                         nfold=n_splits,\n",
    "                         seed=2018,\n",
    "                         early_stopping_rounds=150,\n",
    "                         verbose_eval=100,\n",
    "                         metrics=['auc'])\n",
    "\n",
    "    optimum_boost_rounds = np.argmax(cv_results['auc-mean'])\n",
    "    print('Optimum boost rounds = {}'.format(optimum_boost_rounds))\n",
    "    print('Best CV result = {}'.format(np.max(cv_results['auc-mean'])))\n",
    "\n",
    "    clf = lgbm.train(train_set=lgbm_train,\n",
    "                     params=lgbm_params,\n",
    "                     num_boost_round=optimum_boost_rounds)\n",
    "\n",
    "    \"\"\" Predict on test set and create submission \"\"\"\n",
    "    y_pred = clf.predict(test)\n",
    "    out_df = pd.DataFrame({'SK_ID_CURR': test_df['SK_ID_CURR'], 'TARGET': y_pred})\n",
    "    small_len = out_df[out_df['TARGET']< threshold1]\n",
    "    large_len = out_df[out_df['TARGET']> threshold2]\n",
    "    print('length of small and large,',len(small_len),len(large_len))\n",
    "    return out_df, small_len, large_len "
   ]
  },
  {
   "cell_type": "code",
   "execution_count": null,
   "metadata": {
    "ExecuteTime": {
     "start_time": "2018-06-27T18:40:02.770Z"
    }
   },
   "outputs": [
    {
     "name": "stdout",
     "output_type": "stream",
     "text": [
      "begin cv\n"
     ]
    },
    {
     "name": "stderr",
     "output_type": "stream",
     "text": [
      "/home/kai/anaconda3/lib/python3.6/site-packages/lightgbm/engine.py:390: UserWarning: Found `num_iteration` in params. Will use it instead of argument\n",
      "  warnings.warn(\"Found `{}` in params. Will use it instead of argument\".format(alias))\n",
      "/home/kai/anaconda3/lib/python3.6/site-packages/lightgbm/basic.py:1027: UserWarning: Using categorical_feature in Dataset.\n",
      "  warnings.warn('Using categorical_feature in Dataset.')\n"
     ]
    },
    {
     "name": "stdout",
     "output_type": "stream",
     "text": [
      "[100]\tcv_agg's auc: 0.777611 + 0.00437966\n",
      "[200]\tcv_agg's auc: 0.784903 + 0.00415943\n",
      "[300]\tcv_agg's auc: 0.786765 + 0.00370779\n",
      "[400]\tcv_agg's auc: 0.787215 + 0.00346352\n",
      "[500]\tcv_agg's auc: 0.787577 + 0.00352841\n"
     ]
    }
   ],
   "source": [
    "threshold1, threshold2 = 0.005, 0.5\n",
    "n_splits = 5\n",
    "\n",
    "pred1, small, large = model_2(train, test, threshold1, threshold2,n_splits) "
   ]
  },
  {
   "cell_type": "code",
   "execution_count": 2,
   "metadata": {
    "ExecuteTime": {
     "end_time": "2018-06-27T19:51:45.605625Z",
     "start_time": "2018-06-27T19:51:45.600334Z"
    }
   },
   "outputs": [
    {
     "data": {
      "text/plain": [
       "1"
      ]
     },
     "execution_count": 2,
     "metadata": {},
     "output_type": "execute_result"
    }
   ],
   "source": []
  },
  {
   "cell_type": "code",
   "execution_count": null,
   "metadata": {},
   "outputs": [],
   "source": []
  }
 ],
 "metadata": {
  "kernelspec": {
   "display_name": "Python 3",
   "language": "python",
   "name": "python3"
  },
  "language_info": {
   "codemirror_mode": {
    "name": "ipython",
    "version": 3
   },
   "file_extension": ".py",
   "mimetype": "text/x-python",
   "name": "python",
   "nbconvert_exporter": "python",
   "pygments_lexer": "ipython3",
   "version": "3.6.5"
  },
  "varInspector": {
   "cols": {
    "lenName": 16,
    "lenType": 16,
    "lenVar": 40
   },
   "kernels_config": {
    "python": {
     "delete_cmd_postfix": "",
     "delete_cmd_prefix": "del ",
     "library": "var_list.py",
     "varRefreshCmd": "print(var_dic_list())"
    },
    "r": {
     "delete_cmd_postfix": ") ",
     "delete_cmd_prefix": "rm(",
     "library": "var_list.r",
     "varRefreshCmd": "cat(var_dic_list()) "
    }
   },
   "types_to_exclude": [
    "module",
    "function",
    "builtin_function_or_method",
    "instance",
    "_Feature"
   ],
   "window_display": false
  }
 },
 "nbformat": 4,
 "nbformat_minor": 2
}
