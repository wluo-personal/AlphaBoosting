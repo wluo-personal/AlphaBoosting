{
 "cells": [
  {
   "cell_type": "code",
   "execution_count": 1,
   "metadata": {
    "ExecuteTime": {
     "end_time": "2018-06-22T18:18:52.463459Z",
     "start_time": "2018-06-22T18:18:52.221640Z"
    }
   },
   "outputs": [],
   "source": [
    "import pandas as pd\n",
    "import os\n",
    "import gc\n",
    "\n",
    "PATH = '/home/kai/data/kaggle/homecredit/'\n",
    "\n",
    "# train = pd.read_pickle(PATH + 'inter/train_only_0.pkl')\n",
    "# test = pd.read_pickle(PATH + 'inter/test_only_0.pkl')\n",
    "\n",
    "# 'done'"
   ]
  },
  {
   "cell_type": "markdown",
   "metadata": {},
   "source": [
    "# Test for empty train&test"
   ]
  },
  {
   "cell_type": "code",
   "execution_count": 2,
   "metadata": {
    "ExecuteTime": {
     "end_time": "2018-06-22T18:18:53.425036Z",
     "start_time": "2018-06-22T18:18:52.465123Z"
    }
   },
   "outputs": [
    {
     "data": {
      "text/plain": [
       "'done'"
      ]
     },
     "execution_count": 2,
     "metadata": {},
     "output_type": "execute_result"
    }
   ],
   "source": [
    "import pandas as pd\n",
    "import os\n",
    "import gc\n",
    "\n",
    "PATH = '/home/kai/data/kaggle/homecredit/'\n",
    "\n",
    "train = pd.read_pickle(PATH + 'inter/train_only_0.pkl')[['SK_ID_CURR', 'TARGET']]\n",
    "test = pd.read_pickle(PATH + 'inter/test_only_0.pkl')[['SK_ID_CURR']]\n",
    "\n",
    "'done'"
   ]
  },
  {
   "cell_type": "code",
   "execution_count": null,
   "metadata": {},
   "outputs": [],
   "source": []
  },
  {
   "cell_type": "code",
   "execution_count": 3,
   "metadata": {
    "ExecuteTime": {
     "end_time": "2018-06-22T18:19:06.734850Z",
     "start_time": "2018-06-22T18:18:53.426594Z"
    }
   },
   "outputs": [
    {
     "name": "stdout",
     "output_type": "stream",
     "text": [
      "poscash2curr.pkl\n",
      "(356255, 536) (307511, 537) (48744, 536)\n",
      "bureau2curr.pkl\n",
      "(356255, 460) (307511, 996) (48744, 995)\n",
      "credit2curr.pkl\n",
      "(356255, 382) (307511, 1377) (48744, 1376)\n",
      "install2curr.pkl\n",
      "(356255, 51) (307511, 1427) (48744, 1426)\n"
     ]
    },
    {
     "data": {
      "text/plain": [
       "'done'"
      ]
     },
     "execution_count": 3,
     "metadata": {},
     "output_type": "execute_result"
    }
   ],
   "source": [
    "for x in os.listdir(PATH + 'inter/'):\n",
    "    if 'curr' in x:\n",
    "        print(x)\n",
    "        tmp = pd.read_pickle(PATH + 'inter/' + x)\n",
    "        train = train.merge(tmp, on='SK_ID_CURR', how='left')\n",
    "        test = test.merge(tmp, on='SK_ID_CURR', how='left')\n",
    "        print(tmp.shape, train.shape, test.shape)\n",
    "        del tmp\n",
    "        gc.collect()\n",
    "        \n",
    "'done'"
   ]
  },
  {
   "cell_type": "code",
   "execution_count": 4,
   "metadata": {
    "ExecuteTime": {
     "end_time": "2018-06-22T18:19:12.855879Z",
     "start_time": "2018-06-22T18:19:06.736353Z"
    }
   },
   "outputs": [
    {
     "data": {
      "text/plain": [
       "'done'"
      ]
     },
     "execution_count": 4,
     "metadata": {},
     "output_type": "execute_result"
    }
   ],
   "source": [
    "train.to_pickle(PATH + 'without_train.pkl')\n",
    "test.to_pickle(PATH + 'without_test.pkl')\n",
    "'done'"
   ]
  },
  {
   "cell_type": "code",
   "execution_count": 5,
   "metadata": {
    "ExecuteTime": {
     "end_time": "2018-06-22T18:19:15.326894Z",
     "start_time": "2018-06-22T18:19:15.320849Z"
    }
   },
   "outputs": [
    {
     "data": {
      "text/plain": [
       "(307511, 1427)"
      ]
     },
     "execution_count": 5,
     "metadata": {},
     "output_type": "execute_result"
    }
   ],
   "source": [
    "train.shape"
   ]
  },
  {
   "cell_type": "code",
   "execution_count": 6,
   "metadata": {
    "ExecuteTime": {
     "end_time": "2018-06-22T18:19:17.458106Z",
     "start_time": "2018-06-22T18:19:17.452882Z"
    }
   },
   "outputs": [
    {
     "data": {
      "text/plain": [
       "(48744, 1426)"
      ]
     },
     "execution_count": 6,
     "metadata": {},
     "output_type": "execute_result"
    }
   ],
   "source": [
    "test.shape"
   ]
  },
  {
   "cell_type": "code",
   "execution_count": 1,
   "metadata": {
    "ExecuteTime": {
     "end_time": "2018-06-25T17:15:58.855821Z",
     "start_time": "2018-06-25T17:15:38.253016Z"
    }
   },
   "outputs": [
    {
     "name": "stdout",
     "output_type": "stream",
     "text": [
      "linearposcash2curr.pkl\n",
      "(307511, 1758) (48744, 1757)\n",
      "linearbureau2curr.pkl\n",
      "(307511, 1774) (48744, 1773)\n",
      "linearinstal2curr.pkl\n",
      "(307511, 1780) (48744, 1779)\n",
      "linearcredit2curr.pkl\n",
      "(307511, 1794) (48744, 1793)\n"
     ]
    },
    {
     "data": {
      "text/plain": [
       "'done'"
      ]
     },
     "execution_count": 1,
     "metadata": {},
     "output_type": "execute_result"
    }
   ],
   "source": [
    "import pandas as pd\n",
    "import os\n",
    "import gc\n",
    "\n",
    "PATH = '/home/kai/data/kaggle/homecredit/'\n",
    "train = pd.read_pickle(PATH + 'train_0.pkl')\n",
    "test = pd.read_pickle(PATH + 'test_0.pkl')\n",
    "\n",
    "for x in os.listdir(PATH + 'inter/linear/'):\n",
    "    if x.split('.')[-1] == 'pkl':\n",
    "        print(x)\n",
    "        tmp = pd.read_pickle(PATH + 'inter/linear/' + x)\n",
    "        train = train.merge(tmp, on='SK_ID_CURR', how='left')\n",
    "        test = test.merge(tmp, on='SK_ID_CURR', how='left')\n",
    "        del tmp\n",
    "        gc.collect()\n",
    "        print(train.shape, test.shape)\n",
    "\n",
    "train.to_pickle(PATH + 'train_0_with_linear.pkl')\n",
    "test.to_pickle(PATH + 'test_0_with_linear.pkl')\n",
    "'done'"
   ]
  },
  {
   "cell_type": "code",
   "execution_count": null,
   "metadata": {},
   "outputs": [],
   "source": []
  }
 ],
 "metadata": {
  "kernelspec": {
   "display_name": "Python 3",
   "language": "python",
   "name": "python3"
  },
  "language_info": {
   "codemirror_mode": {
    "name": "ipython",
    "version": 3
   },
   "file_extension": ".py",
   "mimetype": "text/x-python",
   "name": "python",
   "nbconvert_exporter": "python",
   "pygments_lexer": "ipython3",
   "version": "3.6.5"
  },
  "varInspector": {
   "cols": {
    "lenName": 16,
    "lenType": 16,
    "lenVar": 40
   },
   "kernels_config": {
    "python": {
     "delete_cmd_postfix": "",
     "delete_cmd_prefix": "del ",
     "library": "var_list.py",
     "varRefreshCmd": "print(var_dic_list())"
    },
    "r": {
     "delete_cmd_postfix": ") ",
     "delete_cmd_prefix": "rm(",
     "library": "var_list.r",
     "varRefreshCmd": "cat(var_dic_list()) "
    }
   },
   "types_to_exclude": [
    "module",
    "function",
    "builtin_function_or_method",
    "instance",
    "_Feature"
   ],
   "window_display": false
  }
 },
 "nbformat": 4,
 "nbformat_minor": 2
}
