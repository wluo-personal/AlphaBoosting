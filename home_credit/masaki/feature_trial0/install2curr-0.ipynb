{
 "cells": [
  {
   "cell_type": "code",
   "execution_count": 2,
   "metadata": {
    "ExecuteTime": {
     "end_time": "2018-06-27T15:51:49.456597Z",
     "start_time": "2018-06-27T15:51:31.251448Z"
    }
   },
   "outputs": [
    {
     "data": {
      "text/plain": [
       "'done'"
      ]
     },
     "execution_count": 2,
     "metadata": {},
     "output_type": "execute_result"
    }
   ],
   "source": [
    "import pandas as pd\n",
    "\n",
    "PATH = '/home/kai/data/kaggle/homecredit/'\n",
    "\n",
    "train = pd.read_csv(PATH + 'application_train.csv')\n",
    "test = pd.read_csv(PATH + 'application_test.csv')\n",
    "inst = pd.read_csv(PATH + 'installments_payments.csv')\n",
    "\n",
    "'done'"
   ]
  },
  {
   "cell_type": "code",
   "execution_count": null,
   "metadata": {
    "ExecuteTime": {
     "start_time": "2018-06-27T15:37:27.992Z"
    }
   },
   "outputs": [],
   "source": [
    "print(inst.columns)"
   ]
  },
  {
   "cell_type": "code",
   "execution_count": 3,
   "metadata": {
    "ExecuteTime": {
     "end_time": "2018-06-27T15:51:50.062325Z",
     "start_time": "2018-06-27T15:51:50.054400Z"
    }
   },
   "outputs": [
    {
     "data": {
      "text/plain": [
       "'done'"
      ]
     },
     "execution_count": 3,
     "metadata": {},
     "output_type": "execute_result"
    }
   ],
   "source": [
    "def _set_type(series, dtype):\n",
    "    _max, _min = max(series), min(series)\n",
    "    if dtype == 'uint':\n",
    "        if _max <= 255: return np.uint8\n",
    "        elif _max <= 65535: return np.uint16\n",
    "        elif _max <= 4294967295: return np.uint32\n",
    "        else: return np.uint64\n",
    "    elif dtype == 'int':\n",
    "        if _min >= -128 and _max <= 127: return np.int8\n",
    "        elif _min >=-32768 and _max <= 32767: return np.int16\n",
    "        elif _min >= -2147483648 and _max <= 2147483647: return np.int32\n",
    "        else: return np.int64\n",
    "    elif dtype == 'float':\n",
    "        if max(abs(_min), _max) <= 3.4028235e+38: return np.float32\n",
    "        else: return np.float64\n",
    "\n",
    "def minus_name(col1, col2): return col1 + '_minus_' + col2\n",
    "def minus(df, col1, col2): return df[col1] - df[col2]\n",
    "\n",
    "def ratio_name(col1, col2): return col1 + '_divide_' + col2\n",
    "def ratio(df, col1, col2): return df[col1] / (df[col2] + 1)\n",
    "\n",
    "def positive_count(df, gp_col, col):\n",
    "    group = (df[col] > 0).astype('int8')\n",
    "    group = pd.concat([df[gp_col], group], axis=1).groupby(gp_col)[[col]].sum().reset_index().rename(index=str, columns={col: 'positivecount_'+'_'.join([gp_col, col])}).astype({gp_col: df[gp_col].dtype})\n",
    "    return group\n",
    "\n",
    "def count(df, gp_col, col):\n",
    "    group = df[[gp_col,col]].groupby(gp_col)[[col]].count().reset_index().rename(index=str, columns={col:'count_'+gp_col})\n",
    "    return group.astype({gp_col: df[gp_col].dtype})\n",
    "\n",
    "def numerical(df, gp_col, col, agg_fun):\n",
    "    _df = df.groupby(gp_col)[[col]].agg(agg_fun)\n",
    "    \n",
    "    columns = []\n",
    "    for x in _df.columns.levels[0]:\n",
    "        for y in _df.columns.levels[1]:\n",
    "            columns.append('_'.join([x, y]))\n",
    "    _df.columns = columns\n",
    "    return _df.reset_index().astype({gp_col: df[gp_col].dtype})\n",
    "\n",
    "'done'"
   ]
  },
  {
   "cell_type": "code",
   "execution_count": null,
   "metadata": {
    "ExecuteTime": {
     "start_time": "2018-06-27T15:51:34.287Z"
    },
    "scrolled": false
   },
   "outputs": [
    {
     "name": "stdout",
     "output_type": "stream",
     "text": [
      "(997752, 2)\n",
      "DAYS_ENTRY_PAYMENT_minus_DAYS_INSTALMENT\n",
      "AMT_INSTALMENT_minus_AMT_PAYMENT\n",
      "positivecount_SK_ID_PREV_DAYS_ENTRY_PAYMENT_minus_DAYS_INSTALMENT\n",
      "positivecount_SK_ID_PREV_AMT_INSTALMENT_minus_AMT_PAYMENT\n",
      "AMT_INSTALMENT\n"
     ]
    }
   ],
   "source": [
    "merged_col = 'SK_ID_PREV'\n",
    "df = inst[['SK_ID_CURR', 'SK_ID_PREV']].groupby(['SK_ID_CURR', 'SK_ID_PREV']).size().reset_index()[['SK_ID_CURR', 'SK_ID_PREV']]\n",
    "print(df.shape)\n",
    "\n",
    "# minus and ratio\n",
    "name1 = minus_name('DAYS_ENTRY_PAYMENT', 'DAYS_INSTALMENT')\n",
    "name2 = minus_name('AMT_INSTALMENT', 'AMT_PAYMENT')\n",
    "inst[name1] = minus(inst, 'DAYS_ENTRY_PAYMENT', 'DAYS_INSTALMENT')\n",
    "inst[name2] = minus(inst, 'AMT_INSTALMENT', 'AMT_PAYMENT')\n",
    "\n",
    "name3 = ratio_name(name1, name2)\n",
    "inst['DAYS_INSTALMENT'] = abs(inst['DAYS_INSTALMENT'])\n",
    "inst[name3] = ratio(inst, name1, name2)\n",
    "inst[ratio_name(name1, 'DAYS_INSTALMENT')] = ratio(inst, name1, 'DAYS_INSTALMENT')\n",
    "inst[ratio_name(name2, 'DAYS_INSTALMENT')] = ratio(inst, name2, 'DAYS_INSTALMENT')\n",
    "\n",
    "# positive count and count and their ratio\n",
    "for x in [name1, name2]:\n",
    "    df = df.merge(positive_count(inst, merged_col, x), on=merged_col, how='left')\n",
    "    print(x)\n",
    "    \n",
    "# count\n",
    "df = df.merge(count(inst, merged_col, name1), on=merged_col, how='left')\n",
    "count_name = [x for x in df.columns if 'count_' in x][0]\n",
    "\n",
    "# categorical ratio\n",
    "for x in df.columns:\n",
    "    if 'positivecount_' in x:\n",
    "        print(x)\n",
    "        df[ratio_name(x, count_name)] = ratio(df, x, count_name)\n",
    "        \n",
    "# numerical cols\n",
    "ignored = ['SK_ID_PREV', 'SK_ID_CURR', 'NUM_INSTALMENT_NUMBER', 'NUM_INSTALMENT_VERSION']\n",
    "for x in (set(inst.columns) - set(ignored)):\n",
    "    df = df.merge(numerical(inst, merged_col, x, ['mean', 'median', 'max', 'min']), on=merged_col, how='left')\n",
    "    print(x)\n",
    "    \n",
    "columns = []\n",
    "for x in df.columns:\n",
    "    tmp = 'install_' + x if x != merged_col and x != 'SK_ID_CURR' else x\n",
    "    columns.append(tmp)\n",
    "df.columns = columns\n",
    "df.shape"
   ]
  },
  {
   "cell_type": "code",
   "execution_count": 4,
   "metadata": {
    "ExecuteTime": {
     "end_time": "2018-06-27T15:41:39.761253Z",
     "start_time": "2018-06-27T15:41:31.846663Z"
    }
   },
   "outputs": [
    {
     "name": "stdout",
     "output_type": "stream",
     "text": [
      "install_DAYS_ENTRY_PAYMENT_min\n",
      "install_DAYS_ENTRY_PAYMENT_minus_DAYS_INSTALMENT_divide_DAYS_INSTALMENT_min\n",
      "install_AMT_INSTALMENT_mean\n",
      "install_AMT_INSTALMENT_minus_AMT_PAYMENT_median\n",
      "install_DAYS_ENTRY_PAYMENT_minus_DAYS_INSTALMENT_divide_DAYS_INSTALMENT_median\n",
      "install_DAYS_ENTRY_PAYMENT_minus_DAYS_INSTALMENT_divide_AMT_INSTALMENT_minus_AMT_PAYMENT_median\n",
      "install_DAYS_ENTRY_PAYMENT_minus_DAYS_INSTALMENT_divide_AMT_INSTALMENT_minus_AMT_PAYMENT_min\n",
      "install_DAYS_INSTALMENT_mean\n",
      "install_AMT_INSTALMENT_minus_AMT_PAYMENT_min\n",
      "install_AMT_INSTALMENT_min\n",
      "install_positivecount_SK_ID_PREV_DAYS_ENTRY_PAYMENT_minus_DAYS_INSTALMENT_divide_positivecount_SK_ID_PREV_DAYS_ENTRY_PAYMENT_minus_DAYS_INSTALMENT\n",
      "install_positivecount_SK_ID_PREV_AMT_INSTALMENT_minus_AMT_PAYMENT_divide_positivecount_SK_ID_PREV_DAYS_ENTRY_PAYMENT_minus_DAYS_INSTALMENT\n",
      "install_AMT_INSTALMENT_max\n",
      "install_DAYS_ENTRY_PAYMENT_minus_DAYS_INSTALMENT_divide_DAYS_INSTALMENT_max\n",
      "install_DAYS_INSTALMENT_median\n",
      "install_DAYS_ENTRY_PAYMENT_minus_DAYS_INSTALMENT_divide_AMT_INSTALMENT_minus_AMT_PAYMENT_mean\n",
      "install_DAYS_ENTRY_PAYMENT_minus_DAYS_INSTALMENT_mean\n",
      "install_AMT_INSTALMENT_minus_AMT_PAYMENT_max\n",
      "install_positivecount_SK_ID_PREV_DAYS_ENTRY_PAYMENT_minus_DAYS_INSTALMENT\n",
      "install_DAYS_ENTRY_PAYMENT_mean\n",
      "install_count_SK_ID_PREV\n",
      "install_DAYS_ENTRY_PAYMENT_max\n",
      "install_AMT_INSTALMENT_minus_AMT_PAYMENT_mean\n",
      "install_AMT_INSTALMENT_median\n",
      "install_DAYS_ENTRY_PAYMENT_median\n",
      "install_DAYS_ENTRY_PAYMENT_minus_DAYS_INSTALMENT_divide_AMT_INSTALMENT_minus_AMT_PAYMENT_max\n",
      "install_AMT_PAYMENT_max\n",
      "install_DAYS_ENTRY_PAYMENT_minus_DAYS_INSTALMENT_min\n",
      "install_AMT_PAYMENT_mean\n",
      "install_AMT_INSTALMENT_minus_AMT_PAYMENT_divide_DAYS_INSTALMENT_mean\n",
      "install_AMT_INSTALMENT_minus_AMT_PAYMENT_divide_DAYS_INSTALMENT_max\n",
      "install_DAYS_ENTRY_PAYMENT_minus_DAYS_INSTALMENT_max\n",
      "install_DAYS_ENTRY_PAYMENT_minus_DAYS_INSTALMENT_median\n",
      "install_DAYS_INSTALMENT_min\n",
      "install_AMT_PAYMENT_median\n",
      "install_DAYS_ENTRY_PAYMENT_minus_DAYS_INSTALMENT_divide_DAYS_INSTALMENT_mean\n",
      "install_AMT_INSTALMENT_minus_AMT_PAYMENT_divide_DAYS_INSTALMENT_min\n",
      "install_DAYS_INSTALMENT_max\n",
      "install_positivecount_SK_ID_PREV_AMT_INSTALMENT_minus_AMT_PAYMENT\n",
      "install_AMT_INSTALMENT_minus_AMT_PAYMENT_divide_DAYS_INSTALMENT_median\n",
      "install_AMT_PAYMENT_min\n"
     ]
    },
    {
     "data": {
      "text/plain": [
       "(356255, 83)"
      ]
     },
     "execution_count": 4,
     "metadata": {},
     "output_type": "execute_result"
    }
   ],
   "source": [
    "merged_col = 'SK_ID_CURR'\n",
    "df2 = pd.concat([train['SK_ID_CURR'], test['SK_ID_CURR']], ignore_index=True).to_frame()\n",
    "\n",
    "# numerical cols\n",
    "ignored = ['SK_ID_PREV', 'SK_ID_CURR', 'NUM_INSTALMENT_NUMBER', 'NUM_INSTALMENT_VERSION']\n",
    "for x in (set(df.columns) - set(ignored)):\n",
    "    df2 = df2.merge(numerical(df, merged_col, x, ['mean', 'median']), on=merged_col, how='left')\n",
    "    print(x)\n",
    "    \n",
    "# df2 = df2.merge(df.drop('SK_ID_PREV', axis=1), on='SK_ID_CURR', how='left')\n",
    "\n",
    "df2.shape"
   ]
  },
  {
   "cell_type": "code",
   "execution_count": 5,
   "metadata": {
    "ExecuteTime": {
     "end_time": "2018-06-27T15:41:40.935385Z",
     "start_time": "2018-06-27T15:41:40.931674Z"
    }
   },
   "outputs": [
    {
     "name": "stdout",
     "output_type": "stream",
     "text": [
      "Index(['SK_ID_CURR', 'SK_ID_PREV',\n",
      "       'install_positivecount_SK_ID_PREV_DAYS_ENTRY_PAYMENT_minus_DAYS_INSTALMENT',\n",
      "       'install_positivecount_SK_ID_PREV_AMT_INSTALMENT_minus_AMT_PAYMENT',\n",
      "       'install_count_SK_ID_PREV',\n",
      "       'install_positivecount_SK_ID_PREV_DAYS_ENTRY_PAYMENT_minus_DAYS_INSTALMENT_divide_positivecount_SK_ID_PREV_DAYS_ENTRY_PAYMENT_minus_DAYS_INSTALMENT',\n",
      "       'install_positivecount_SK_ID_PREV_AMT_INSTALMENT_minus_AMT_PAYMENT_divide_positivecount_SK_ID_PREV_DAYS_ENTRY_PAYMENT_minus_DAYS_INSTALMENT',\n",
      "       'install_DAYS_ENTRY_PAYMENT_minus_DAYS_INSTALMENT_divide_AMT_INSTALMENT_minus_AMT_PAYMENT_mean',\n",
      "       'install_DAYS_ENTRY_PAYMENT_minus_DAYS_INSTALMENT_divide_AMT_INSTALMENT_minus_AMT_PAYMENT_median',\n",
      "       'install_DAYS_ENTRY_PAYMENT_minus_DAYS_INSTALMENT_divide_AMT_INSTALMENT_minus_AMT_PAYMENT_max',\n",
      "       'install_DAYS_ENTRY_PAYMENT_minus_DAYS_INSTALMENT_divide_AMT_INSTALMENT_minus_AMT_PAYMENT_min',\n",
      "       'install_DAYS_ENTRY_PAYMENT_mean', 'install_DAYS_ENTRY_PAYMENT_median',\n",
      "       'install_DAYS_ENTRY_PAYMENT_max', 'install_DAYS_ENTRY_PAYMENT_min',\n",
      "       'install_DAYS_INSTALMENT_mean', 'install_DAYS_INSTALMENT_median',\n",
      "       'install_DAYS_INSTALMENT_max', 'install_DAYS_INSTALMENT_min',\n",
      "       'install_AMT_PAYMENT_mean', 'install_AMT_PAYMENT_median',\n",
      "       'install_AMT_PAYMENT_max', 'install_AMT_PAYMENT_min',\n",
      "       'install_DAYS_ENTRY_PAYMENT_minus_DAYS_INSTALMENT_divide_DAYS_INSTALMENT_mean',\n",
      "       'install_DAYS_ENTRY_PAYMENT_minus_DAYS_INSTALMENT_divide_DAYS_INSTALMENT_median',\n",
      "       'install_DAYS_ENTRY_PAYMENT_minus_DAYS_INSTALMENT_divide_DAYS_INSTALMENT_max',\n",
      "       'install_DAYS_ENTRY_PAYMENT_minus_DAYS_INSTALMENT_divide_DAYS_INSTALMENT_min',\n",
      "       'install_DAYS_ENTRY_PAYMENT_minus_DAYS_INSTALMENT_mean',\n",
      "       'install_DAYS_ENTRY_PAYMENT_minus_DAYS_INSTALMENT_median',\n",
      "       'install_DAYS_ENTRY_PAYMENT_minus_DAYS_INSTALMENT_max',\n",
      "       'install_DAYS_ENTRY_PAYMENT_minus_DAYS_INSTALMENT_min',\n",
      "       'install_AMT_INSTALMENT_minus_AMT_PAYMENT_mean',\n",
      "       'install_AMT_INSTALMENT_minus_AMT_PAYMENT_median',\n",
      "       'install_AMT_INSTALMENT_minus_AMT_PAYMENT_max',\n",
      "       'install_AMT_INSTALMENT_minus_AMT_PAYMENT_min',\n",
      "       'install_AMT_INSTALMENT_mean', 'install_AMT_INSTALMENT_median',\n",
      "       'install_AMT_INSTALMENT_max', 'install_AMT_INSTALMENT_min',\n",
      "       'install_AMT_INSTALMENT_minus_AMT_PAYMENT_divide_DAYS_INSTALMENT_mean',\n",
      "       'install_AMT_INSTALMENT_minus_AMT_PAYMENT_divide_DAYS_INSTALMENT_median',\n",
      "       'install_AMT_INSTALMENT_minus_AMT_PAYMENT_divide_DAYS_INSTALMENT_max',\n",
      "       'install_AMT_INSTALMENT_minus_AMT_PAYMENT_divide_DAYS_INSTALMENT_min'],\n",
      "      dtype='object')\n"
     ]
    },
    {
     "data": {
      "text/plain": [
       "(997752, 43)"
      ]
     },
     "execution_count": 5,
     "metadata": {},
     "output_type": "execute_result"
    }
   ],
   "source": [
    "print(df2.columns)\n",
    "df2.shape"
   ]
  },
  {
   "cell_type": "code",
   "execution_count": 6,
   "metadata": {
    "ExecuteTime": {
     "end_time": "2018-06-27T15:41:43.372952Z",
     "start_time": "2018-06-27T15:41:42.090558Z"
    }
   },
   "outputs": [
    {
     "data": {
      "text/plain": [
       "'done'"
      ]
     },
     "execution_count": 6,
     "metadata": {},
     "output_type": "execute_result"
    }
   ],
   "source": [
    "df2.to_pickle(PATH + 'inter/install2curr0.pkl')\n",
    "'done'"
   ]
  },
  {
   "cell_type": "code",
   "execution_count": null,
   "metadata": {
    "collapsed": true
   },
   "outputs": [],
   "source": []
  }
 ],
 "metadata": {
  "kernelspec": {
   "display_name": "Python 3",
   "language": "python",
   "name": "python3"
  },
  "language_info": {
   "codemirror_mode": {
    "name": "ipython",
    "version": 3
   },
   "file_extension": ".py",
   "mimetype": "text/x-python",
   "name": "python",
   "nbconvert_exporter": "python",
   "pygments_lexer": "ipython3",
   "version": "3.6.5"
  },
  "varInspector": {
   "cols": {
    "lenName": 16,
    "lenType": 16,
    "lenVar": 40
   },
   "kernels_config": {
    "python": {
     "delete_cmd_postfix": "",
     "delete_cmd_prefix": "del ",
     "library": "var_list.py",
     "varRefreshCmd": "print(var_dic_list())"
    },
    "r": {
     "delete_cmd_postfix": ") ",
     "delete_cmd_prefix": "rm(",
     "library": "var_list.r",
     "varRefreshCmd": "cat(var_dic_list()) "
    }
   },
   "types_to_exclude": [
    "module",
    "function",
    "builtin_function_or_method",
    "instance",
    "_Feature"
   ],
   "window_display": false
  }
 },
 "nbformat": 4,
 "nbformat_minor": 2
}
