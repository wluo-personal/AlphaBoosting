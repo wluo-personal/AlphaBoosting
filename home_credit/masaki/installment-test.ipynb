{
 "cells": [
  {
   "cell_type": "code",
   "execution_count": 1,
   "metadata": {
    "ExecuteTime": {
     "end_time": "2018-06-27T20:36:37.640895Z",
     "start_time": "2018-06-27T20:36:29.005457Z"
    }
   },
   "outputs": [
    {
     "data": {
      "text/plain": [
       "'done'"
      ]
     },
     "execution_count": 1,
     "metadata": {},
     "output_type": "execute_result"
    }
   ],
   "source": [
    "import pandas as pd\n",
    "import numpy as np\n",
    "\n",
    "PATH = '/home/kai/data/kaggle/homecredit/'\n",
    "\n",
    "inst = pd.read_csv(PATH + 'installments_payments.csv')\n",
    "\n",
    "'done'"
   ]
  },
  {
   "cell_type": "code",
   "execution_count": 20,
   "metadata": {
    "ExecuteTime": {
     "end_time": "2018-06-27T20:55:12.528876Z",
     "start_time": "2018-06-27T20:55:12.523562Z"
    }
   },
   "outputs": [
    {
     "data": {
      "text/plain": [
       "<pandas.core.groupby.groupby.DataFrameGroupBy object at 0x7fb24d1a1b38>"
      ]
     },
     "execution_count": 20,
     "metadata": {},
     "output_type": "execute_result"
    }
   ],
   "source": []
  },
  {
   "cell_type": "code",
   "execution_count": null,
   "metadata": {
    "ExecuteTime": {
     "start_time": "2018-06-27T19:39:06.888Z"
    }
   },
   "outputs": [
    {
     "name": "stdout",
     "output_type": "stream",
     "text": [
      "1185983: 1\n",
      "2335797: 1\n",
      "1416636: 1\n"
     ]
    }
   ],
   "source": [
    "for prev in inst['SK_ID_PREV'].unique():\n",
    "    temp = inst[inst['SK_ID_PREV'].values == prev].copy()\n",
    "    for num in temp['NUM_INSTALMENT_NUMBER'].unique():\n",
    "        temp = temp[temp['NUM_INSTALMENT_NUMBER'].values == num]\n",
    "        nums = []\n",
    "        for ver in temp['NUM_INSTALMENT_VERSION'].unique():\n",
    "            nums.append(temp[temp['NUM_INSTALMENT_VERSION'].values == ver].shape[0])\n",
    "        isSame = True\n",
    "        if nums.__len__() > 1:\n",
    "            x = nums[0]\n",
    "            for n in nums:\n",
    "                if x != n:\n",
    "                    isSame = False\n",
    "        \n",
    "        if isSame == 0:\n",
    "            print('{}: {}'.format(prev, num))"
   ]
  },
  {
   "cell_type": "code",
   "execution_count": null,
   "metadata": {},
   "outputs": [],
   "source": []
  }
 ],
 "metadata": {
  "kernelspec": {
   "display_name": "Python 3",
   "language": "python",
   "name": "python3"
  },
  "language_info": {
   "codemirror_mode": {
    "name": "ipython",
    "version": 3
   },
   "file_extension": ".py",
   "mimetype": "text/x-python",
   "name": "python",
   "nbconvert_exporter": "python",
   "pygments_lexer": "ipython3",
   "version": "3.6.5"
  },
  "varInspector": {
   "cols": {
    "lenName": 16,
    "lenType": 16,
    "lenVar": 40
   },
   "kernels_config": {
    "python": {
     "delete_cmd_postfix": "",
     "delete_cmd_prefix": "del ",
     "library": "var_list.py",
     "varRefreshCmd": "print(var_dic_list())"
    },
    "r": {
     "delete_cmd_postfix": ") ",
     "delete_cmd_prefix": "rm(",
     "library": "var_list.r",
     "varRefreshCmd": "cat(var_dic_list()) "
    }
   },
   "types_to_exclude": [
    "module",
    "function",
    "builtin_function_or_method",
    "instance",
    "_Feature"
   ],
   "window_display": false
  }
 },
 "nbformat": 4,
 "nbformat_minor": 2
}
